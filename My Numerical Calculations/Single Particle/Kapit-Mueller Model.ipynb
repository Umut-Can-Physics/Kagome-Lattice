{
 "cells": [
  {
   "cell_type": "code",
   "execution_count": 18,
   "id": "4e4324b8",
   "metadata": {},
   "outputs": [],
   "source": [
    "#If You Want To See Flat Bands You Have To Choose To Lattice Size is 12x12 and alpha=1/3\n",
    "L_x=L_y=3\n",
    "p=1\n",
    "q=3\n",
    "alpha = p/q"
   ]
  },
  {
   "cell_type": "code",
   "execution_count": 19,
   "id": "81bec37a",
   "metadata": {},
   "outputs": [],
   "source": [
    "import sys\n",
    "sys.path.insert(0, 'Hofstadter')\n",
    "from square_tight_binding import *\n",
    "from Periodic_BC_Hofstadter_Hamiltonian_Matrix import *"
   ]
  },
  {
   "cell_type": "code",
   "execution_count": 20,
   "id": "c32747e3",
   "metadata": {},
   "outputs": [],
   "source": [
    "#Calculate the Eigenvalues of Periodic Hamiltonian\n",
    "eigenValues_R, eigenVectors_R = np.linalg.eig(PerHMat(L_x,L_y,alpha))\n",
    "idx = np.argsort(eigenValues_R)\n",
    "sorted_R = eigenValues_R[idx]*np.exp((-np.pi/2)*(1-alpha)) "
   ]
  },
  {
   "cell_type": "markdown",
   "id": "ae65f3d8-74f4-4354-9584-52fe98bddcb0",
   "metadata": {},
   "source": [
    "https://arxiv.org/pdf/1005.3282.pdf"
   ]
  },
  {
   "cell_type": "markdown",
   "id": "9f1d9fc5-544a-4e9e-b981-619f281c0fa2",
   "metadata": {},
   "source": [
    "\\begin{align}\n",
    "H &= \\sum_{j \\neq k} J(z_j,z_k) a_j^\\dagger a_k \\\\\n",
    "J(z_j,z_k) &= W(z)e^{  (\\pi/2) (z_j z^* - z_j^* z) \\phi  } \\\\\n",
    "z_j &= x_j + i y_j, \\quad z = z_k - z_j\\\\\n",
    "G(z) &= -1^{ x+y+xy } \\\\\n",
    "W(z) &= tG(z)e^{ -\\pi/2[ (1-\\phi)|z|^2] }\n",
    "\\end{align}"
   ]
  },
  {
   "cell_type": "code",
   "execution_count": 21,
   "id": "993e118b",
   "metadata": {},
   "outputs": [],
   "source": [
    "#Hopping Parameter\n",
    "t = 1\n",
    "_,_,xy= lattice_2d(L_x,L_y)\n",
    "#Definition of Kapit-Mueller Model\n",
    "def Kapit_Mueller_Hamiltonian(L_x, L_y, p, q, Tx, Ty):\n",
    "    H = np.zeros((L_x*L_y, L_x*L_y), dtype=complex)\n",
    "    for j in range(L_x*L_y):\n",
    "        for k in range(L_y*L_x):\n",
    "            if j!=k:\n",
    "                \n",
    "                x_j = xy[j, 0] #x coordinates of jth lattice site\n",
    "                y_j = xy[j, 1] #y coordinates of jth lattice site\n",
    "                x_k = xy[k, 0] #x coordinates of kth lattice site\n",
    "                y_k = xy[k, 1] #y coordinates of kth lattice site\n",
    "                \n",
    "                #Definitions of Complex Notation\n",
    "                z_j = x_j + 1j*y_j\n",
    "                z_k = x_k + 1j*y_k\n",
    "                \n",
    "                for n in range(-1,2):\n",
    "                    for m in range(-1,2):\n",
    "                        \n",
    "                        R = n*L_x+1j*m*L_y\n",
    "                        z = (z_k - z_j)+R #It must be not equal to zero! (j!=k)\n",
    "                        G = (-1)**(np.real(z)+np.imag(z)+np.real(z)*np.imag(z))\n",
    "                        \n",
    "                        #Definitions of Phase Arguments\n",
    "                        beta = (np.pi/2)*((z_j*np.conjugate(z))-(np.conjugate(z_j)*z))*alpha\n",
    "                        W = t*G*np.exp(-np.pi/2*(1-alpha)*(np.absolute(z)**2))\n",
    "                        J = W*np.exp(beta)*np.exp(np.pi/2*((z_j*np.conjugate(R))-(np.conjugate(z_j)*R))*alpha) #Long Range Phase Factor (New Phase- one way)                        \n",
    "                        T = np.exp(1j*np.real(R)/L_x*Tx + 1j*np.imag(R)/L_y*Ty) # Landau Gauge\n",
    "                        \n",
    "                        H[j][k]=H[j][k]+J*T\n",
    "    return H"
   ]
  },
  {
   "cell_type": "code",
   "execution_count": 22,
   "id": "7a9433f6",
   "metadata": {},
   "outputs": [],
   "source": [
    "Tx=Ty=0\n",
    "eigenValues_K, eigenVectors_K = np.linalg.eig(Kapit_Mueller_Hamiltonian(L_x, L_y, p, q, Tx, Ty))\n",
    "idx = np.argsort(eigenValues_K)\n",
    "sorted_K = eigenValues_K[idx]"
   ]
  },
  {
   "cell_type": "code",
   "execution_count": 23,
   "id": "0012235b",
   "metadata": {},
   "outputs": [
    {
     "data": {
      "image/png": "[encoded data removed]",
      "text/plain": [
       "<Figure size 640x480 with 1 Axes>"
      ]
     },
     "metadata": {},
     "output_type": "display_data"
    }
   ],
   "source": [
    "#Plot Kapit-Mueller Model\n",
    "import matplotlib.pyplot  as plt\n",
    "fig, ax = plt.subplots()\n",
    "x_axis = np.arange(0, L_x*L_y, 1)\n",
    "y_axis_Kapit = sorted_K\n",
    "y_axis_Real = sorted_R\n",
    "plt.xlabel(r'$n$')\n",
    "plt.ylabel(r'$E$')\n",
    "plt.title(r'Kapit-Mueller Flat Band Model: $\\alpha$='+str(np.round(alpha,1))+' , '+str(L_x)+'x'+str(L_y)+'')\n",
    "plt.plot(x_axis, y_axis_Real, 'bo', markersize=3, label='Hofstadter ')\n",
    "plt.plot(x_axis, y_axis_Kapit, 'ro',markersize=3, label='Kapit-Mueller')\n",
    "plt.legend(markerscale=2, fontsize=10, loc='upper left')\n",
    "plt.show()"
   ]
  },
  {
   "cell_type": "markdown",
   "id": "4cde34ba-3306-4bc5-894c-4a2facd2d231",
   "metadata": {},
   "source": [
    "# KAPIT-MUELLER CHERN"
   ]
  },
  {
   "cell_type": "code",
   "execution_count": 24,
   "id": "6a1929d7-fad9-483b-af99-80dff0f22e06",
   "metadata": {},
   "outputs": [],
   "source": [
    "# Discreatizing Brillioun Zone / Theta Space\n",
    "Nt1=10\n",
    "Nt2=10\n",
    "dx = 2*np.pi/Nt1\n",
    "dy = dx\n",
    "Tx = np.arange(0, 2*np.pi, dx)\n",
    "Ty = np.arange(0, 2*np.pi, dy)"
   ]
  },
  {
   "cell_type": "code",
   "execution_count": 25,
   "id": "6eab4176-9951-4e02-990e-a537417b962d",
   "metadata": {},
   "outputs": [],
   "source": [
    "from Chern_parameter_space_sum import *"
   ]
  },
  {
   "cell_type": "code",
   "execution_count": 27,
   "id": "a24857bd-f1d8-42f4-ac91-72b4d6af6496",
   "metadata": {},
   "outputs": [
    {
     "name": "stdout",
     "output_type": "stream",
     "text": [
      "1.00e+00+3.13e-16j\n",
      "-2.00e+00+5.98e-17j\n",
      "1.00e+00+1.70e-17j\n"
     ]
    }
   ],
   "source": [
    "EEA, UUA = calc_states_twist_kapit_mueller(L_x, L_y, Nt1, Nt2, p, q, Tx, Ty, Kapit_Mueller_Hamiltonian)\n",
    "for i in np.arange(0, L_x*L_y, q):\n",
    "    j=i+q\n",
    "    n1=i\n",
    "    n2=j\n",
    "    UU = calc_link_vars_twist(UUA[:,:,:,i:j])\n",
    "    F12 = calc_F12_BZ(UU)\n",
    "    print(f'{F12.sum()/(2j*np.pi):.2e}')"
   ]
  },
  {
   "cell_type": "code",
   "execution_count": null,
   "id": "5fa87540-7f23-40cf-bce1-9886545a6170",
   "metadata": {},
   "outputs": [],
   "source": []
  }
 ],
 "metadata": {
  "kernelspec": {
   "display_name": "Python 3 (ipykernel)",
   "language": "python",
   "name": "python3"
  },
  "language_info": {
   "codemirror_mode": {
    "name": "ipython",
    "version": 3
   },
   "file_extension": ".py",
   "mimetype": "text/x-python",
   "name": "python",
   "nbconvert_exporter": "python",
   "pygments_lexer": "ipython3",
   "version": "3.11.2"
  }
 },
 "nbformat": 4,
 "nbformat_minor": 5
}
