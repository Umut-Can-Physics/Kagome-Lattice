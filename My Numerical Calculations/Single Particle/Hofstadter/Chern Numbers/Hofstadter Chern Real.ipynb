{
 "cells": [
  {
   "cell_type": "markdown",
   "id": "5ed7610b",
   "metadata": {},
   "source": [
    "https://journals.aps.org/prl/abstract/10.1103/PhysRevLett.122.146601\n"
   ]
  },
  {
   "cell_type": "code",
   "execution_count": 3,
   "id": "cae7e8f9-d0a2-46b9-af61-ff2bcba16b52",
   "metadata": {},
   "outputs": [],
   "source": [
    "import sys"
   ]
  },
  {
   "cell_type": "code",
   "execution_count": 4,
   "id": "e96b4d0d-8d35-4337-9398-b87e4e859386",
   "metadata": {},
   "outputs": [],
   "source": [
    "L_x = 3\n",
    "L_y = 3\n",
    "p = 1\n",
    "q = L_y"
   ]
  },
  {
   "cell_type": "code",
   "execution_count": 5,
   "id": "d7758950-1dd7-4410-9da9-c66e4c63488d",
   "metadata": {},
   "outputs": [],
   "source": [
    "sys.path.insert(0, '../')\n",
    "from square_tight_binding import *"
   ]
  },
  {
   "cell_type": "code",
   "execution_count": 7,
   "id": "40b695d5",
   "metadata": {},
   "outputs": [
    {
     "data": {
      "text/plain": [
       "array([0.        , 0.62831853, 1.25663706, 1.88495559, 2.51327412,\n",
       "       3.14159265, 3.76991118, 4.39822972, 5.02654825, 5.65486678])"
      ]
     },
     "execution_count": 7,
     "metadata": {},
     "output_type": "execute_result"
    }
   ],
   "source": [
    "# Discreatizing Brillioun Zone / Theta Space\n",
    "Nt1=10\n",
    "Nt2=10\n",
    "dx = 2*np.pi/Nt1\n",
    "dy = dx\n",
    "theta_x = np.arange(0, 2*np.pi, dx)\n",
    "theta_y = np.arange(0, 2*np.pi, dy)\n",
    "theta_x"
   ]
  },
  {
   "cell_type": "code",
   "execution_count": 8,
   "id": "2a90bbfc-331a-4665-a3f0-07ae56934bc1",
   "metadata": {},
   "outputs": [],
   "source": [
    "sys.path.insert(0, '../../')\n",
    "from Chern_parameter_space_sum import *"
   ]
  },
  {
   "cell_type": "code",
   "execution_count": 36,
   "id": "e213fa69-ef92-4dfe-80c6-37056b537c53",
   "metadata": {
    "scrolled": true
   },
   "outputs": [
    {
     "data": {
      "text/plain": [
       "array([[ 1.25174384e-02+0.j,  3.29473990e-18+0.j, -5.77350269e-01+0.j,\n",
       "        -1.89605570e-17+0.j,  2.64626529e-18+0.j, -4.24017042e-03+0.j,\n",
       "        -5.77350269e-01+0.j,  5.77350269e-01+0.j,  0.00000000e+00+0.j,\n",
       "         5.77350269e-01+0.j],\n",
       "       [-5.77350269e-01+0.j,  6.28457997e-17+0.j,  4.94262227e-17+0.j,\n",
       "         2.89445095e-17+0.j,  3.08243914e-02+0.j, -4.01574926e-02+0.j,\n",
       "         5.76299365e-01+0.j, -4.64471044e-17+0.j,  5.77350269e-01+0.j,\n",
       "        -1.67856451e-34+0.j],\n",
       "       [-8.74243658e-17+0.j,  5.77350269e-01+0.j, -9.21226883e-34+0.j,\n",
       "        -7.89271862e-17+0.j, -5.33325322e-02+0.j, -4.58291172e-02+0.j,\n",
       "         4.30924852e-03+0.j,  7.39386398e-02+0.j,  5.77350269e-01+0.j,\n",
       "         4.95551212e-17-0.j],\n",
       "       [-8.46525876e-17+0.j, -5.77350269e-01+0.j,  5.73091479e-01+0.j,\n",
       "        -6.15091810e-03+0.j,  3.50272955e-02+0.j,  6.75886699e-06+0.j,\n",
       "         5.19595481e-03+0.j, -3.85026134e-02+0.j, -2.32807461e-01+0.j,\n",
       "        -5.77350269e-01+0.j],\n",
       "       [ 6.45917813e-02+0.j,  9.53828466e-02+0.j, -5.63285601e-01+0.j,\n",
       "         4.96675538e-02+0.j,  7.75537545e-04+0.j, -6.35286927e-02+0.j,\n",
       "         4.67906972e-04+0.j, -5.72187769e-01+0.j,  1.33326450e-01+0.j,\n",
       "        -1.30950379e-17+0.j],\n",
       "       [ 5.81526617e-03+0.j,  5.65025408e-01+0.j,  5.71275950e-01+0.j,\n",
       "        -8.55125794e-02+0.j,  5.66760660e-01+0.j,  5.76361482e-01+0.j,\n",
       "         1.66987741e-04+0.j,  3.67289612e-01+0.j, -6.07801215e-02+0.j,\n",
       "         2.22972960e-02+0.j],\n",
       "       [-7.91595515e-17+0.j,  5.26528449e-01+0.j,  8.00583709e-02+0.j,\n",
       "        -9.13926111e-03+0.j,  1.28464893e-02+0.j,  5.73786013e-01+0.j,\n",
       "         5.11182149e-04+0.j,  4.54506151e-01+0.j,  3.88599974e-01+0.j,\n",
       "         3.63117095e-03+0.j],\n",
       "       [-2.20982035e-34+0.j, -5.77350269e-01+0.j,  2.03705098e-03+0.j,\n",
       "        -2.67138757e-02+0.j,  5.69023627e-01+0.j, -5.74981342e-01+0.j,\n",
       "         3.34894214e-04+0.j,  5.54969561e-01+0.j,  5.67515006e-01+0.j,\n",
       "        -3.53411265e-17+0.j],\n",
       "       [-2.31860984e-17+0.j,  3.15405960e-34+0.j,  5.77350269e-01+0.j,\n",
       "         4.86044288e-03+0.j,  5.76577045e-01+0.j,  5.74151061e-01+0.j,\n",
       "         5.76217485e-01+0.j,  5.74945826e-01+0.j,  0.00000000e+00+0.j,\n",
       "         3.01918390e-17+0.j],\n",
       "       [ 7.83678234e-18+0.j,  5.60670904e-17+0.j, -1.77145978e-17+0.j,\n",
       "         0.00000000e+00+0.j,  2.25169281e-02-0.j,  5.79919973e-03+0.j,\n",
       "         5.76170281e-01+0.j,  2.25741199e-02+0.j, -5.77221258e-01+0.j,\n",
       "         5.77185703e-01+0.j]])"
      ]
     },
     "execution_count": 36,
     "metadata": {},
     "output_type": "execute_result"
    }
   ],
   "source": [
    "EEA, UUA = calc_states_twist_hofstadter(L_x, L_y, Nt1, Nt2, p, q, theta_x, theta_y, HMat_Theta)\n",
    "UUA[:,:,0,0]"
   ]
  },
  {
   "cell_type": "code",
   "execution_count": 23,
   "id": "584561f2-c636-446c-8f10-d49dc5564bee",
   "metadata": {},
   "outputs": [
    {
     "name": "stdout",
     "output_type": "stream",
     "text": [
      "1.00e+00+1.38e-16j\n",
      "-2.00e+00+8.14e-18j\n",
      "1.00e+00-8.97e-16j\n"
     ]
    }
   ],
   "source": [
    "EEA, UUA = calc_states_twist_hofstadter(L_x, L_y, Nt1, Nt2, p, q, theta_x, theta_y, HMat_Theta)\n",
    "for i in np.arange(0, L_x*L_y, q):\n",
    "    j=i+q\n",
    "    n1=i\n",
    "    n2=j\n",
    "    UU = calc_link_vars_twist(UUA[:,:,:,i:j])\n",
    "    F12 = calc_F12_BZ(UU)\n",
    "    print(f'{F12.sum()/(2j*np.pi):.2e}')"
   ]
  },
  {
   "cell_type": "code",
   "execution_count": null,
   "id": "22af7f04-6d75-492e-b902-07c8e675c2b2",
   "metadata": {},
   "outputs": [],
   "source": []
  }
 ],
 "metadata": {
  "kernelspec": {
   "display_name": "Python 3 (ipykernel)",
   "language": "python",
   "name": "python3"
  },
  "language_info": {
   "codemirror_mode": {
    "name": "ipython",
    "version": 3
   },
   "file_extension": ".py",
   "mimetype": "text/x-python",
   "name": "python",
   "nbconvert_exporter": "python",
   "pygments_lexer": "ipython3",
   "version": "3.11.2"
  }
 },
 "nbformat": 4,
 "nbformat_minor": 5
}
