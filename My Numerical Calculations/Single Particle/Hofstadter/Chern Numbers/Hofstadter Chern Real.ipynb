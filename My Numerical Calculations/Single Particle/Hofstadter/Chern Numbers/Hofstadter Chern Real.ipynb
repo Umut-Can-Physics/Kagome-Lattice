{
 "cells": [
  {
   "cell_type": "markdown",
   "id": "5ed7610b",
   "metadata": {},
   "source": [
    "https://journals.aps.org/prl/abstract/10.1103/PhysRevLett.122.146601\n"
   ]
  },
  {
   "cell_type": "code",
   "execution_count": 1,
   "id": "cae7e8f9-d0a2-46b9-af61-ff2bcba16b52",
   "metadata": {},
   "outputs": [],
   "source": [
    "import sys"
   ]
  },
  {
   "cell_type": "code",
   "execution_count": 2,
   "id": "e96b4d0d-8d35-4337-9398-b87e4e859386",
   "metadata": {},
   "outputs": [],
   "source": [
    "L_x = 3\n",
    "L_y = 3\n",
    "p = 1\n",
    "q = L_y"
   ]
  },
  {
   "cell_type": "code",
   "execution_count": 3,
   "id": "d7758950-1dd7-4410-9da9-c66e4c63488d",
   "metadata": {},
   "outputs": [],
   "source": [
    "sys.path.insert(0, '../')\n",
    "from square_tight_binding import *"
   ]
  },
  {
   "cell_type": "code",
   "execution_count": 4,
   "id": "40b695d5",
   "metadata": {},
   "outputs": [
    {
     "data": {
      "text/plain": [
       "array([0.        , 0.62831853, 1.25663706, 1.88495559, 2.51327412,\n",
       "       3.14159265, 3.76991118, 4.39822972, 5.02654825, 5.65486678])"
      ]
     },
     "execution_count": 4,
     "metadata": {},
     "output_type": "execute_result"
    }
   ],
   "source": [
    "# Discreatizing Brillioun Zone / Theta Space\n",
    "Nt1=10\n",
    "Nt2=10\n",
    "dx = 2*np.pi/Nt1\n",
    "dy = dx\n",
    "theta_x = np.arange(0, 2*np.pi, dx)\n",
    "theta_y = np.arange(0, 2*np.pi, dy)\n",
    "theta_x"
   ]
  },
  {
   "cell_type": "code",
   "execution_count": 5,
   "id": "2a90bbfc-331a-4665-a3f0-07ae56934bc1",
   "metadata": {},
   "outputs": [],
   "source": [
    "sys.path.insert(0, '../../')\n",
    "from Chern_parameter_space_sum import *"
   ]
  },
  {
   "cell_type": "code",
   "execution_count": 16,
   "id": "e213fa69-ef92-4dfe-80c6-37056b537c53",
   "metadata": {},
   "outputs": [
    {
     "data": {
      "text/plain": [
       "array([ 1.11022302e-16-0.47183882j, -5.55111512e-17+0.99960992j,\n",
       "        2.84494650e-16-0.19146065j,  8.32667268e-17+2.68253475j,\n",
       "        2.77555756e-17+0.82353966j, -1.38777878e-16+2.11518816j,\n",
       "        2.22044605e-16-0.57460179j,  3.67761377e-16-0.27308276j,\n",
       "        3.40005801e-16-0.30957821j, -2.77555756e-17-0.47552307j])"
      ]
     },
     "execution_count": 16,
     "metadata": {},
     "output_type": "execute_result"
    }
   ],
   "source": [
    "EEA, UUA = calc_states_twist_hofstadter(L_x, L_y, Nt1, Nt2, p, q, theta_x, theta_y, HMat_Theta)\n",
    "\n",
    "UU = calc_link_vars_twist(UUA[:,:,:,0:2])\n",
    "calc_F12_BZ(UU)[:,0]"
   ]
  },
  {
   "cell_type": "code",
   "execution_count": 23,
   "id": "584561f2-c636-446c-8f10-d49dc5564bee",
   "metadata": {},
   "outputs": [
    {
     "name": "stdout",
     "output_type": "stream",
     "text": [
      "1.00e+00+1.38e-16j\n",
      "-2.00e+00+8.14e-18j\n",
      "1.00e+00-8.97e-16j\n"
     ]
    }
   ],
   "source": [
    "EEA, UUA = calc_states_twist_hofstadter(L_x, L_y, Nt1, Nt2, p, q, theta_x, theta_y, HMat_Theta)\n",
    "for i in np.arange(0, L_x*L_y, q):\n",
    "    j=i+q\n",
    "    n1=i\n",
    "    n2=j\n",
    "    UU = calc_link_vars_twist(UUA[:,:,:,i:j])\n",
    "    F12 = calc_F12_BZ(UU)\n",
    "    print(f'{F12.sum()/(2j*np.pi):.2e}')"
   ]
  },
  {
   "cell_type": "code",
   "execution_count": null,
   "id": "22af7f04-6d75-492e-b902-07c8e675c2b2",
   "metadata": {},
   "outputs": [],
   "source": []
  }
 ],
 "metadata": {
  "kernelspec": {
   "display_name": "Python 3 (ipykernel)",
   "language": "python",
   "name": "python3"
  },
  "language_info": {
   "codemirror_mode": {
    "name": "ipython",
    "version": 3
   },
   "file_extension": ".py",
   "mimetype": "text/x-python",
   "name": "python",
   "nbconvert_exporter": "python",
   "pygments_lexer": "ipython3",
   "version": "3.11.2"
  }
 },
 "nbformat": 4,
 "nbformat_minor": 5
}
