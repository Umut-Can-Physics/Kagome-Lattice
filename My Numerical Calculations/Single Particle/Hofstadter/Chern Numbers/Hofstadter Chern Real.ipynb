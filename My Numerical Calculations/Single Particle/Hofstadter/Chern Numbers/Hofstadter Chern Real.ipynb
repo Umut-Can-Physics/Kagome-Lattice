{
 "cells": [
  {
   "cell_type": "markdown",
   "id": "5ed7610b",
   "metadata": {},
   "source": [
    "https://journals.aps.org/prl/abstract/10.1103/PhysRevLett.122.146601\n"
   ]
  },
  {
   "cell_type": "code",
   "execution_count": 8,
   "id": "cae7e8f9-d0a2-46b9-af61-ff2bcba16b52",
   "metadata": {},
   "outputs": [],
   "source": [
    "import sys"
   ]
  },
  {
   "cell_type": "code",
   "execution_count": 9,
   "id": "e96b4d0d-8d35-4337-9398-b87e4e859386",
   "metadata": {},
   "outputs": [],
   "source": [
    "L_x = 3\n",
    "L_y = 3\n",
    "p = 1\n",
    "q = L_y"
   ]
  },
  {
   "cell_type": "code",
   "execution_count": 10,
   "id": "d7758950-1dd7-4410-9da9-c66e4c63488d",
   "metadata": {
    "editable": true,
    "slideshow": {
     "slide_type": ""
    },
    "tags": []
   },
   "outputs": [],
   "source": [
    "sys.path.insert(0, '../')\n",
    "from square_tight_binding import *"
   ]
  },
  {
   "cell_type": "code",
   "execution_count": 11,
   "id": "40b695d5",
   "metadata": {
    "editable": true,
    "slideshow": {
     "slide_type": ""
    },
    "tags": []
   },
   "outputs": [],
   "source": [
    "# Discreatizing Brillioun Zone / Theta Space\n",
    "Nt1=10\n",
    "Nt2=10\n",
    "dx = 2*np.pi/Nt1\n",
    "dy = dx\n",
    "theta_x = np.arange(0, 2*np.pi, dx)\n",
    "theta_y = np.arange(0, 2*np.pi, dy)"
   ]
  },
  {
   "cell_type": "markdown",
   "id": "f602f94a-4342-4465-a0d4-8eb0e9e025f7",
   "metadata": {},
   "source": [
    "# Comparison of The Two Hamiltonians"
   ]
  },
  {
   "cell_type": "code",
   "execution_count": 12,
   "id": "be3cf07f-7c9b-4206-afc8-ed94e825e64b",
   "metadata": {
    "editable": true,
    "slideshow": {
     "slide_type": ""
    },
    "tags": []
   },
   "outputs": [],
   "source": [
    "HHp = HMat_Theta(L_x, L_y, p, q, theta_x[1], theta_y[2])"
   ]
  },
  {
   "cell_type": "code",
   "execution_count": 13,
   "id": "3ff6d471-bc4f-4d54-9e1d-7cb66fa01f6d",
   "metadata": {
    "editable": true,
    "slideshow": {
     "slide_type": ""
    },
    "tags": []
   },
   "outputs": [],
   "source": [
    "HHj = np.load(\"../../../Single Particle/HHj.npy\")"
   ]
  },
  {
   "cell_type": "code",
   "execution_count": 14,
   "id": "b988d526-4163-4630-9401-f59696f685cc",
   "metadata": {
    "editable": true,
    "slideshow": {
     "slide_type": ""
    },
    "tags": []
   },
   "outputs": [
    {
     "data": {
      "text/plain": [
       "array([[ True,  True,  True,  True,  True,  True,  True,  True,  True],\n",
       "       [ True,  True,  True,  True,  True,  True,  True,  True,  True],\n",
       "       [ True,  True,  True,  True,  True,  True,  True,  True,  True],\n",
       "       [ True,  True,  True,  True,  True,  True,  True,  True,  True],\n",
       "       [ True,  True,  True,  True,  True,  True,  True,  True,  True],\n",
       "       [ True,  True,  True,  True,  True,  True,  True,  True,  True],\n",
       "       [ True,  True,  True,  True,  True,  True,  True,  True,  True],\n",
       "       [ True,  True,  True,  True,  True,  True,  True,  True,  True],\n",
       "       [ True,  True,  True,  True,  True,  True,  True,  True,  True]])"
      ]
     },
     "execution_count": 14,
     "metadata": {},
     "output_type": "execute_result"
    }
   ],
   "source": [
    "HHj == HHp"
   ]
  },
  {
   "cell_type": "markdown",
   "id": "13963117-5a8f-409b-8bd5-9b7034ef79be",
   "metadata": {},
   "source": [
    "Hamiltonyeninlerin tam olarak aynı gelmesi için, \"Lattice_Basis_Neighbors_hops.ipynb\" dosyasında get_Hofstadter_hop() fonksiyonu içerisinde ki \"*exp(-1im*param_dict[\"θθ\"][2]*wraps[2])\" kısmı negatif olmalı. Ancak bu terimin negatif gelmesi, yani düşey yöndeki sınırdan sınıra olan atlamalardaki yönün ters seçilmesi, Chern hesabından bir etkiye sahip değildir!"
   ]
  },
  {
   "cell_type": "markdown",
   "id": "a0ebc9fe-fd6f-4b06-b49a-c11cfcfb32cc",
   "metadata": {},
   "source": [
    "# Comparison of The Two Eigen States"
   ]
  },
  {
   "cell_type": "code",
   "execution_count": 15,
   "id": "2a90bbfc-331a-4665-a3f0-07ae56934bc1",
   "metadata": {
    "editable": true,
    "slideshow": {
     "slide_type": ""
    },
    "tags": []
   },
   "outputs": [],
   "source": [
    "sys.path.insert(0, '../../')\n",
    "from Chern_parameter_space_sum import *"
   ]
  },
  {
   "cell_type": "code",
   "execution_count": 16,
   "id": "e213fa69-ef92-4dfe-80c6-37056b537c53",
   "metadata": {
    "editable": true,
    "slideshow": {
     "slide_type": ""
    },
    "tags": []
   },
   "outputs": [],
   "source": [
    "EEA, UUAp = calc_states_twist_hofstadter(L_x, L_y, Nt1, Nt2, p, q, theta_x, theta_y, HMat_Theta)\n",
    "UUp = calc_link_vars_twist(UUAp[:,:,:,0:3])\n",
    "F12p = calc_F12_BZ(UUp)"
   ]
  },
  {
   "cell_type": "code",
   "execution_count": 17,
   "id": "c0f50aab-8a0b-491b-92d7-c4789ad8a536",
   "metadata": {
    "editable": true,
    "slideshow": {
     "slide_type": ""
    },
    "tags": []
   },
   "outputs": [],
   "source": [
    "np.save(\"UUAp.npy\", UUAp)"
   ]
  },
  {
   "cell_type": "code",
   "execution_count": 221,
   "id": "f5f26923-8720-4e68-8e39-e13126aa261e",
   "metadata": {
    "editable": true,
    "slideshow": {
     "slide_type": ""
    },
    "tags": []
   },
   "outputs": [
    {
     "data": {
      "text/plain": [
       "array([-0.69267219-0.72125255j,  0.99739738-0.07210042j])"
      ]
     },
     "execution_count": 221,
     "metadata": {},
     "output_type": "execute_result"
    }
   ],
   "source": [
    "UU[0,0,:]"
   ]
  },
  {
   "cell_type": "code",
   "execution_count": 222,
   "id": "6376eaaa-b1e0-491a-8c90-245646e6b402",
   "metadata": {
    "editable": true,
    "slideshow": {
     "slide_type": ""
    },
    "tags": []
   },
   "outputs": [
    {
     "data": {
      "text/plain": [
       "(-4.0969289592796e-17+0.007370547610764475j)"
      ]
     },
     "execution_count": 222,
     "metadata": {},
     "output_type": "execute_result"
    }
   ],
   "source": [
    "np.log(UU[0,0,0]*UU[1,0,1]/UU[0,1,0]/UU[0,0,1])"
   ]
  },
  {
   "cell_type": "code",
   "execution_count": 226,
   "id": "9432614a-33dc-4a18-8ea8-dec88ebcce58",
   "metadata": {
    "editable": true,
    "slideshow": {
     "slide_type": ""
    },
    "tags": []
   },
   "outputs": [
    {
     "data": {
      "text/plain": [
       "(6.990054693921388e-17+0.0073705476107644545j)"
      ]
     },
     "execution_count": 226,
     "metadata": {},
     "output_type": "execute_result"
    }
   ],
   "source": [
    "F12p[0,0]"
   ]
  },
  {
   "cell_type": "code",
   "execution_count": 223,
   "id": "584561f2-c636-446c-8f10-d49dc5564bee",
   "metadata": {
    "editable": true,
    "slideshow": {
     "slide_type": ""
    },
    "tags": []
   },
   "outputs": [
    {
     "name": "stdout",
     "output_type": "stream",
     "text": [
      "1.00e+00+1.38e-16j\n",
      "-2.00e+00+8.14e-18j\n",
      "1.00e+00-8.97e-16j\n"
     ]
    }
   ],
   "source": [
    "EEA, UUA = calc_states_twist_hofstadter(L_x, L_y, Nt1, Nt2, p, q, theta_x, theta_y, HMat_Theta)\n",
    "for i in np.arange(0, L_x*L_y, q):\n",
    "    j=i+q\n",
    "    n1=i\n",
    "    n2=j\n",
    "    UU = calc_link_vars_twist(UUA[:,:,:,i:j])\n",
    "    F12 = calc_F12_BZ(UU)\n",
    "    print(f'{F12.sum()/(2j*np.pi):.2e}')"
   ]
  },
  {
   "cell_type": "code",
   "execution_count": 196,
   "id": "22af7f04-6d75-492e-b902-07c8e675c2b2",
   "metadata": {
    "editable": true,
    "slideshow": {
     "slide_type": ""
    },
    "tags": []
   },
   "outputs": [
    {
     "data": {
      "text/plain": [
       "array([-2.61803399, -2.61803399, -2.61803399,  0.38196601,  0.38196601,\n",
       "        0.38196601,  2.23606798,  2.23606798,  2.23606798])"
      ]
     },
     "execution_count": 196,
     "metadata": {},
     "output_type": "execute_result"
    }
   ],
   "source": [
    "EEA[2,1,:]"
   ]
  },
  {
   "cell_type": "code",
   "execution_count": 210,
   "id": "8e85cdad-ab8b-4a4f-9507-08d3add04c31",
   "metadata": {
    "editable": true,
    "slideshow": {
     "slide_type": ""
    },
    "tags": []
   },
   "outputs": [
    {
     "data": {
      "text/plain": [
       "(-0.6926721895662789-0.7212525478647941j)"
      ]
     },
     "execution_count": 210,
     "metadata": {},
     "output_type": "execute_result"
    }
   ],
   "source": [
    "calc_link_var_twist(UUA[0,0,:,0:3], UUA[1,0,:,0:3])"
   ]
  },
  {
   "cell_type": "code",
   "execution_count": 198,
   "id": "24241167-8a93-42a5-8946-2946ac4b72fe",
   "metadata": {
    "editable": true,
    "slideshow": {
     "slide_type": ""
    },
    "tags": []
   },
   "outputs": [
    {
     "data": {
      "text/plain": [
       "array([-0.49274687-0.8701727j ,  0.08543995-0.99634332j])"
      ]
     },
     "execution_count": 198,
     "metadata": {},
     "output_type": "execute_result"
    }
   ],
   "source": [
    "calc_link_vars_twist(UUA)[8,0,:]"
   ]
  },
  {
   "cell_type": "code",
   "execution_count": 184,
   "id": "4f054249-4437-45e6-8428-1bb393e4576b",
   "metadata": {
    "editable": true,
    "slideshow": {
     "slide_type": ""
    },
    "tags": []
   },
   "outputs": [],
   "source": [
    "UUAj = np.load(\"../../../Many-Body/Hofstadter/UUAj.npy\")"
   ]
  },
  {
   "cell_type": "code",
   "execution_count": 185,
   "id": "bc807086-2e59-4f10-95cf-255f382910eb",
   "metadata": {
    "editable": true,
    "slideshow": {
     "slide_type": ""
    },
    "tags": []
   },
   "outputs": [
    {
     "data": {
      "text/plain": [
       "array([[False, False, False,  True,  True,  True,  True,  True,  True],\n",
       "       [False, False, False,  True,  True,  True,  True,  True,  True],\n",
       "       [False, False, False,  True,  True,  True,  True,  True,  True],\n",
       "       [ True,  True,  True, False, False, False,  True,  True,  True],\n",
       "       [ True,  True,  True, False, False, False,  True,  True,  True],\n",
       "       [ True,  True,  True, False, False, False,  True,  True,  True],\n",
       "       [ True,  True,  True,  True,  True,  True, False, False, False],\n",
       "       [ True,  True,  True,  True,  True,  True, False, False, False],\n",
       "       [ True,  True,  True,  True,  True,  True, False, False, False]])"
      ]
     },
     "execution_count": 185,
     "metadata": {},
     "output_type": "execute_result"
    }
   ],
   "source": [
    "inner = np.conj(np.transpose(UUAj[2,1,:,:]))@UUA[2,1,:,:]\n",
    "np.isclose(inner,np.zeros([9,9]))"
   ]
  },
  {
   "cell_type": "code",
   "execution_count": 186,
   "id": "74147335-b5a7-44d7-8f54-7452234eaad5",
   "metadata": {
    "editable": true,
    "slideshow": {
     "slide_type": ""
    },
    "tags": []
   },
   "outputs": [
    {
     "data": {
      "text/plain": [
       "array([[ True,  True,  True,  True,  True,  True,  True,  True,  True],\n",
       "       [ True,  True,  True,  True,  True,  True,  True,  True,  True],\n",
       "       [ True,  True,  True,  True,  True,  True,  True,  True,  True],\n",
       "       [ True,  True,  True,  True,  True,  True,  True,  True,  True],\n",
       "       [ True,  True,  True,  True,  True,  True,  True,  True,  True],\n",
       "       [ True,  True,  True,  True,  True,  True,  True,  True,  True],\n",
       "       [ True,  True,  True,  True,  True,  True,  True,  True,  True],\n",
       "       [ True,  True,  True,  True,  True,  True,  True,  True,  True],\n",
       "       [ True,  True,  True,  True,  True,  True,  True,  True,  True]])"
      ]
     },
     "execution_count": 186,
     "metadata": {},
     "output_type": "execute_result"
    }
   ],
   "source": [
    "innerp = np.conj(np.transpose(UUA[2,1,:,:]))@UUA[2,1,:,:]\n",
    "innerp == np.identity(9)\n",
    "np.isclose(innerp, np.identity(9))"
   ]
  },
  {
   "cell_type": "code",
   "execution_count": 187,
   "id": "84986f4a-bb30-4245-92c3-72708a5598ec",
   "metadata": {
    "editable": true,
    "slideshow": {
     "slide_type": ""
    },
    "tags": []
   },
   "outputs": [
    {
     "data": {
      "text/plain": [
       "array([[ True,  True,  True,  True,  True,  True,  True,  True,  True],\n",
       "       [ True,  True,  True,  True,  True,  True,  True,  True,  True],\n",
       "       [ True,  True,  True,  True,  True,  True,  True,  True,  True],\n",
       "       [ True,  True,  True,  True,  True,  True,  True,  True,  True],\n",
       "       [ True,  True,  True,  True,  True,  True,  True,  True,  True],\n",
       "       [ True,  True,  True,  True,  True,  True,  True,  True,  True],\n",
       "       [ True,  True,  True,  True,  True,  True,  True,  True,  True],\n",
       "       [ True,  True,  True,  True,  True,  True,  True,  True,  True],\n",
       "       [ True,  True,  True,  True,  True,  True,  True,  True,  True]])"
      ]
     },
     "execution_count": 187,
     "metadata": {},
     "output_type": "execute_result"
    }
   ],
   "source": [
    "innerj = np.conj(np.transpose(UUAj[2,1,:,:]))@UUAj[2,1,:,:]\n",
    "innerj == np.identity(9)\n",
    "np.isclose(innerj, np.identity(9))"
   ]
  },
  {
   "cell_type": "code",
   "execution_count": 188,
   "id": "1296bc2d-9378-4669-9d45-18642ceb36f0",
   "metadata": {},
   "outputs": [],
   "source": [
    "F12j = np.load(\"../../../Many-Body/Hofstadter/F12j.npy\")"
   ]
  },
  {
   "cell_type": "code",
   "execution_count": 192,
   "id": "17769376-0160-4830-a3df-f439dfde0f54",
   "metadata": {
    "editable": true,
    "slideshow": {
     "slide_type": ""
    },
    "tags": []
   },
   "outputs": [
    {
     "data": {
      "text/plain": [
       "array([[ 1.11022302e-16-0.47183882j, -3.05311332e-16-0.42511656j,\n",
       "        -2.49800181e-16+0.74425577j, -2.77555756e-17+0.54446735j,\n",
       "        -2.35922393e-16-1.51685341j, -1.17961196e-16+1.77933209j,\n",
       "        -3.15502832e-17+1.53579245j,  2.77555756e-17-0.65269483j,\n",
       "         2.91433544e-16+2.06810515j,  1.38777878e-16-1.16282548j],\n",
       "       [-5.55111512e-17+0.99960992j, -3.19189120e-16-0.47014833j,\n",
       "        -1.04083409e-17-1.8173553j ,  1.52655666e-16-1.41954666j,\n",
       "        -3.29597460e-16-1.39031748j, -3.29597460e-16+1.4532128j ,\n",
       "        -2.49800181e-16+0.84640488j,  2.22044605e-16+0.63271024j,\n",
       "        -2.62810607e-16+3.0361254j , -2.77555756e-16-2.70271307j],\n",
       "       [ 2.84494650e-16-0.19146065j, -2.77555756e-17-0.72082383j,\n",
       "         0.00000000e+00-2.76650383j,  2.77555756e-17+1.33629735j,\n",
       "        -6.93889390e-17-2.01584355j,  7.45931095e-17-0.17448773j,\n",
       "         3.90529623e-16-1.62884447j, -1.11022302e-16+2.12180989j,\n",
       "        -3.14093369e-16-3.10067876j, -1.34441069e-17-1.65446947j],\n",
       "       [ 8.32667268e-17+2.68253475j, -1.66533454e-16+0.76398165j,\n",
       "        -1.38777878e-16+0.73079546j, -1.24900090e-16-2.0598046j ,\n",
       "         3.60822483e-16-2.15623113j,  0.00000000e+00-0.60903566j,\n",
       "        -1.52655666e-16+1.09161426j,  3.20923843e-17+1.48069428j,\n",
       "         1.07552856e-16+1.6916732j , -1.38777878e-16-2.26340315j],\n",
       "       [ 2.77555756e-17+0.82353966j,  1.11022302e-16+2.12263616j,\n",
       "         3.19189120e-16+1.97995102j, -2.22044605e-16-0.81801613j,\n",
       "         0.00000000e+00+0.72988306j, -8.22045475e-17-1.57542633j,\n",
       "        -3.05311332e-16+2.48002636j, -1.94289029e-16-2.69059863j,\n",
       "         9.02056208e-17+2.88849572j, -3.33066907e-16+2.25463632j],\n",
       "       [-1.38777878e-16+2.11518816j, -5.55111512e-17+0.74776916j,\n",
       "         3.17454396e-16+2.98001433j, -2.77555756e-17+0.44983591j,\n",
       "        -3.64291930e-16-0.21180783j, -2.08166817e-16+0.37357497j,\n",
       "         3.60822483e-16-2.61748412j, -2.35922393e-16+0.21721757j,\n",
       "         0.00000000e+00-1.82492796j, -7.58941521e-18-1.50947071j],\n",
       "       [ 2.22044605e-16-0.57460179j, -1.11022302e-16+0.38176086j,\n",
       "        -1.21430643e-16-0.2114048j , -2.63677968e-16+3.00101023j,\n",
       "        -2.77555756e-17-2.65458389j, -1.31838984e-16+1.38215375j,\n",
       "         1.11022302e-16-0.54878754j, -1.66533454e-16-0.65428501j,\n",
       "        -8.32667268e-17-0.21466763j,  1.80411242e-16-1.97525731j],\n",
       "       [ 3.67761377e-16-0.27308276j,  8.40866547e-17+3.13345785j,\n",
       "         1.94289029e-16+0.74421336j,  1.94289029e-16+0.92109868j,\n",
       "        -9.71445147e-17+1.05642297j,  6.93889390e-18-0.34916845j,\n",
       "         1.94289029e-16-0.51273308j,  1.38777878e-16-0.6140149j ,\n",
       "        -1.87350135e-16+1.2445048j ,  3.33066907e-16+0.83263544j],\n",
       "       [ 3.40005801e-16-0.30957821j,  1.38777878e-16-0.81915056j,\n",
       "        -1.66533454e-16+2.65672877j,  3.60822483e-16-2.44262367j,\n",
       "         2.58473798e-16+2.99343871j, -5.55111512e-17-1.06207754j,\n",
       "         1.11022302e-16+2.36473917j, -1.66533454e-16+1.88311866j,\n",
       "         1.11022302e-16+1.17441504j,  4.02455846e-16+2.63128327j],\n",
       "       [-2.77555756e-17-0.47552307j,  5.55111512e-17-0.84998561j,\n",
       "        -1.88217497e-16-1.61704202j, -6.76542156e-17-0.10977808j,\n",
       "        -5.55111512e-17-1.05125912j, -9.71445147e-17-0.28375647j,\n",
       "         1.39645240e-16+1.66547768j,  1.66533454e-16-2.48318847j,\n",
       "         1.24900090e-16+1.44653722j, -3.85975973e-17+0.05646731j]])"
      ]
     },
     "execution_count": 192,
     "metadata": {},
     "output_type": "execute_result"
    }
   ],
   "source": [
    "F12p"
   ]
  },
  {
   "cell_type": "code",
   "execution_count": 150,
   "id": "36caf74d-9e0c-413c-a499-033a5e8ff228",
   "metadata": {
    "editable": true,
    "slideshow": {
     "slide_type": ""
    },
    "tags": []
   },
   "outputs": [
    {
     "data": {
      "text/plain": [
       "array([[0.83548933, 1.23587456, 2.11092565, 1.58319864, 0.28199738,\n",
       "        0.87707272, 1.85818776, 2.71047512, 1.00876023, 0.85211589],\n",
       "       [0.91302159, 3.50014353, 1.65511088, 1.50852832, 1.59232333,\n",
       "        0.98841725, 1.08646335, 1.56064799, 2.46560174, 1.34431576],\n",
       "       [1.07492403, 0.78800875, 2.04630144, 0.2030705 , 1.72619845,\n",
       "        1.60752593, 2.11672625, 0.63991994, 1.27080039, 0.59030257],\n",
       "       [1.17018347, 4.54530449, 2.65010634, 1.55302228, 2.43100062,\n",
       "        1.79319415, 2.09183385, 1.64227848, 3.50442423, 1.05413318],\n",
       "       [1.60361069, 1.9999104 , 2.39172366, 0.10679518, 2.76534671,\n",
       "        0.04467579, 2.63850012, 0.83978118, 1.30997971, 0.66440628],\n",
       "       [3.10483598, 6.62688456, 4.55757517, 1.09878281, 5.0439466 ,\n",
       "        1.974429  , 4.50343905, 2.02559303, 5.23957265, 0.86065929],\n",
       "       [2.44780046, 4.27120732, 2.66133773, 0.68316518, 3.25455215,\n",
       "        1.00527905, 3.57352914, 2.0408909 , 2.74016684, 0.67136912],\n",
       "       [1.33092795, 1.36225319, 1.48965995, 1.06087058, 1.43962192,\n",
       "        1.36819935, 1.02843554, 0.75034975, 1.20676474, 1.21570394],\n",
       "       [1.89918224, 3.2669602 , 1.92586139, 0.98867922, 2.96193602,\n",
       "        1.27829869, 2.20628289, 2.0162465 , 2.93588419, 1.00708816],\n",
       "       [3.94595122, 5.27903367, 4.43304894, 0.39411974, 4.23395613,\n",
       "        2.13789406, 5.3671214 , 1.96645978, 4.60404573, 1.66352303]])"
      ]
     },
     "execution_count": 150,
     "metadata": {},
     "output_type": "execute_result"
    }
   ],
   "source": [
    "np.abs(F12j)"
   ]
  },
  {
   "cell_type": "code",
   "execution_count": null,
   "id": "c39861e4-341a-446e-8fd3-e18976c967f7",
   "metadata": {},
   "outputs": [],
   "source": []
  }
 ],
 "metadata": {
  "kernelspec": {
   "display_name": "Python 3 (ipykernel)",
   "language": "python",
   "name": "python3"
  },
  "language_info": {
   "codemirror_mode": {
    "name": "ipython",
    "version": 3
   },
   "file_extension": ".py",
   "mimetype": "text/x-python",
   "name": "python",
   "nbconvert_exporter": "python",
   "pygments_lexer": "ipython3",
   "version": "3.11.2"
  }
 },
 "nbformat": 4,
 "nbformat_minor": 5
}
