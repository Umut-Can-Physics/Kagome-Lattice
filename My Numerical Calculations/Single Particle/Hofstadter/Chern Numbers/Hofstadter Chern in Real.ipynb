{
 "cells": [
  {
   "cell_type": "markdown",
   "id": "5ed7610b",
   "metadata": {},
   "source": [
    "https://journals.aps.org/prl/abstract/10.1103/PhysRevLett.122.146601\n"
   ]
  },
  {
   "cell_type": "code",
   "execution_count": 2,
   "id": "207a52cf",
   "metadata": {},
   "outputs": [
    {
     "name": "stdout",
     "output_type": "stream",
     "text": [
      "lx= 4 , ly= 5\n"
     ]
    }
   ],
   "source": [
    "import sys\n",
    "sys.path.insert(0, 'C:/Users/Can/Dropbox/PC (2)/Desktop/My Numerical Calculations/Single Particle/Hofstadter')\n",
    "from square_tight_binding import *"
   ]
  },
  {
   "cell_type": "code",
   "execution_count": 3,
   "id": "216d28d5",
   "metadata": {},
   "outputs": [],
   "source": [
    "p=1\n",
    "q=L_y #q değeri, ly'nin tam böleni olmak zorunda\n",
    "#Magnetic Flux Per Plaquet is has to be rational value\n",
    "alpha=p/q\n",
    "\n",
    "#Real Space Hamiltonian with Twisted Angle Phases\n",
    "def HMat_Theta(alpha, theta_x, theta_y):\n",
    "    H = np.zeros((L_x*L_y, L_x*L_y), dtype=complex)\n",
    "    for m in range(L_x*L_y):\n",
    "        for n in range(L_x*L_y):\n",
    "            #NN\n",
    "            if m in PerBCLat[n]:\n",
    "                #X ekseninde sınırdan sınıra atlamalar:\n",
    "                if np.absolute(xy[m][0]-xy[n][0])==L_x-1:\n",
    "                    if xy[m][0] > xy[n][0]:\n",
    "                        H[m][n] = -np.exp(-1j*2*np.pi*(alpha)*xy[m][1])*np.exp(-1j*theta_x)\n",
    "                    elif xy[m][0] < xy[n][0]:\n",
    "                        H[m][n] = -np.exp(1j*2*np.pi*(alpha)*xy[m][1])*np.exp(1j*theta_x)\n",
    "\n",
    "                #Y ekseninde sınırdan sınıra atlamalar\n",
    "                elif np.absolute(xy[m][1]-xy[n][1])==L_y-1:\n",
    "                    if xy[m][1] > xy[n][1]:\n",
    "                        H[m][n] = -np.exp(1j*theta_y)\n",
    "                    elif xy[m][1] < xy[n][1]:\n",
    "                        H[m][n] = -np.exp(-1j*theta_y)\n",
    "                        \n",
    "                #Lattice içi atlamalar\n",
    "                else:\n",
    "                    if xy[m][0] > xy[n][0]:\n",
    "                        H[m][n] = -np.exp(1j*2*np.pi*alpha*xy[m][1])\n",
    "                    elif xy[m][0] < xy[n][0]:\n",
    "                        H[m][n] = -np.exp(-1j*2*np.pi*alpha*xy[m][1])\n",
    "                    else:\n",
    "                        H[m][n] = -np.exp(0)\n",
    "    return H"
   ]
  },
  {
   "cell_type": "code",
   "execution_count": 4,
   "id": "8c7f4ec6",
   "metadata": {},
   "outputs": [
    {
     "data": {
      "text/plain": [
       "array([[ True,  True,  True,  True,  True,  True,  True,  True,  True,\n",
       "         True,  True,  True,  True,  True,  True,  True,  True,  True,\n",
       "         True,  True],\n",
       "       [ True,  True,  True,  True,  True,  True,  True,  True,  True,\n",
       "         True,  True,  True,  True,  True,  True,  True,  True,  True,\n",
       "         True,  True],\n",
       "       [ True,  True,  True,  True,  True,  True,  True,  True,  True,\n",
       "         True,  True,  True,  True,  True,  True,  True,  True,  True,\n",
       "         True,  True],\n",
       "       [ True,  True,  True,  True,  True,  True,  True,  True,  True,\n",
       "         True,  True,  True,  True,  True,  True,  True,  True,  True,\n",
       "         True,  True],\n",
       "       [ True,  True,  True,  True,  True,  True,  True,  True,  True,\n",
       "         True,  True,  True,  True,  True,  True,  True,  True,  True,\n",
       "         True,  True],\n",
       "       [ True,  True,  True,  True,  True,  True,  True,  True,  True,\n",
       "         True,  True,  True,  True,  True,  True,  True,  True,  True,\n",
       "         True,  True],\n",
       "       [ True,  True,  True,  True,  True,  True,  True,  True,  True,\n",
       "         True,  True,  True,  True,  True,  True,  True,  True,  True,\n",
       "         True,  True],\n",
       "       [ True,  True,  True,  True,  True,  True,  True,  True,  True,\n",
       "         True,  True,  True,  True,  True,  True,  True,  True,  True,\n",
       "         True,  True],\n",
       "       [ True,  True,  True,  True,  True,  True,  True,  True,  True,\n",
       "         True,  True,  True,  True,  True,  True,  True,  True,  True,\n",
       "         True,  True],\n",
       "       [ True,  True,  True,  True,  True,  True,  True,  True,  True,\n",
       "         True,  True,  True,  True,  True,  True,  True,  True,  True,\n",
       "         True,  True],\n",
       "       [ True,  True,  True,  True,  True,  True,  True,  True,  True,\n",
       "         True,  True,  True,  True,  True,  True,  True,  True,  True,\n",
       "         True,  True],\n",
       "       [ True,  True,  True,  True,  True,  True,  True,  True,  True,\n",
       "         True,  True,  True,  True,  True,  True,  True,  True,  True,\n",
       "         True,  True],\n",
       "       [ True,  True,  True,  True,  True,  True,  True,  True,  True,\n",
       "         True,  True,  True,  True,  True,  True,  True,  True,  True,\n",
       "         True,  True],\n",
       "       [ True,  True,  True,  True,  True,  True,  True,  True,  True,\n",
       "         True,  True,  True,  True,  True,  True,  True,  True,  True,\n",
       "         True,  True],\n",
       "       [ True,  True,  True,  True,  True,  True,  True,  True,  True,\n",
       "         True,  True,  True,  True,  True,  True,  True,  True,  True,\n",
       "         True,  True],\n",
       "       [ True,  True,  True,  True,  True,  True,  True,  True,  True,\n",
       "         True,  True,  True,  True,  True,  True,  True,  True,  True,\n",
       "         True,  True],\n",
       "       [ True,  True,  True,  True,  True,  True,  True,  True,  True,\n",
       "         True,  True,  True,  True,  True,  True,  True,  True,  True,\n",
       "         True,  True],\n",
       "       [ True,  True,  True,  True,  True,  True,  True,  True,  True,\n",
       "         True,  True,  True,  True,  True,  True,  True,  True,  True,\n",
       "         True,  True],\n",
       "       [ True,  True,  True,  True,  True,  True,  True,  True,  True,\n",
       "         True,  True,  True,  True,  True,  True,  True,  True,  True,\n",
       "         True,  True],\n",
       "       [ True,  True,  True,  True,  True,  True,  True,  True,  True,\n",
       "         True,  True,  True,  True,  True,  True,  True,  True,  True,\n",
       "         True,  True]])"
      ]
     },
     "execution_count": 4,
     "metadata": {},
     "output_type": "execute_result"
    }
   ],
   "source": [
    "from Periodic_BC_Hofstadter_Hamiltonian_Matrix import *\n",
    "PerHMat(alpha) == HMat_Theta(alpha, 0, 0) # check!"
   ]
  },
  {
   "cell_type": "code",
   "execution_count": 12,
   "id": "206e8e32",
   "metadata": {},
   "outputs": [
    {
     "data": {
      "text/plain": [
       "array([ 0,  1,  2,  3,  6, 11, 12, 14, 13, 15, 17, 18, 19, 16, 10,  9,  8,\n",
       "        7,  5,  4], dtype=int64)"
      ]
     },
     "execution_count": 12,
     "metadata": {},
     "output_type": "execute_result"
    }
   ],
   "source": [
    "E0, U0 = np.linalg.eig(HMat_Theta(alpha, 9, 9))\n",
    "#E0 = np.sort(E0)\n",
    "idx1 = np.argsort(E0)\n",
    "#U0_sorted = U0[:,idx1]\n",
    "#E0\n",
    "idx1"
   ]
  },
  {
   "cell_type": "code",
   "execution_count": 23,
   "id": "302cec8f",
   "metadata": {},
   "outputs": [
    {
     "data": {
      "text/plain": [
       "array([-2.90522026, -2.90522026, -2.90522026, -2.90522026, -2.90522026,\n",
       "       -1.33468195, -1.33468195, -1.33468195, -1.33468195, -1.33468195,\n",
       "        0.33808561,  0.33808561,  0.33808561,  0.33808561,  0.33808561,\n",
       "        0.93800872,  0.93800872,  0.93800872,  0.93800872,  0.93800872,\n",
       "        2.96380788,  2.96380788,  2.96380788,  2.96380788,  2.96380788])"
      ]
     },
     "execution_count": 23,
     "metadata": {},
     "output_type": "execute_result"
    }
   ],
   "source": [
    "np.sort(np.real(E0))"
   ]
  },
  {
   "cell_type": "code",
   "execution_count": 24,
   "id": "18b61aca",
   "metadata": {},
   "outputs": [
    {
     "data": {
      "text/plain": [
       "array([ 0.0009188 -0.00107853j,  0.2358707 -0.04906101j,\n",
       "        0.22964901-0.07470669j,  0.21094327-0.14387977j,\n",
       "        0.22248593-0.07447121j, -0.10908309-0.26921512j,\n",
       "        0.26657993-0.08724305j,  0.04561502+0.06758482j,\n",
       "        0.0716678 -0.19743766j,  0.32038421+0.j        ,\n",
       "       -0.10145423-0.26373539j,  0.23789966+0.00503458j,\n",
       "       -0.09685032+0.1736542j , -0.05155553-0.18928394j,\n",
       "        0.22591237-0.03336188j, -0.07896817-0.14026833j,\n",
       "        0.00704807+0.03169849j, -0.06201341+0.11772052j,\n",
       "        0.00464643-0.04925986j,  0.00400586-0.00107623j,\n",
       "       -0.10777248-0.12202888j, -0.1798379 +0.05884921j,\n",
       "       -0.12143736+0.15555405j, -0.05170165+0.10173527j,\n",
       "       -0.07586961+0.11452455j])"
      ]
     },
     "execution_count": 24,
     "metadata": {},
     "output_type": "execute_result"
    }
   ],
   "source": [
    "U0_sorted[:,0]"
   ]
  },
  {
   "cell_type": "code",
   "execution_count": 25,
   "id": "40b695d5",
   "metadata": {},
   "outputs": [],
   "source": [
    "#Twisted Angle Space Doesn't Depend on Lattice Space\n",
    "theta_size=10\n",
    "dx = 2*np.pi/theta_size\n",
    "dy = dx\n",
    "theta_x = np.arange(0, 2*np.pi, dx)\n",
    "theta_y = np.arange(0, 2*np.pi, dy)"
   ]
  },
  {
   "cell_type": "code",
   "execution_count": 27,
   "id": "12d7dc92",
   "metadata": {},
   "outputs": [
    {
     "name": "stdout",
     "output_type": "stream",
     "text": [
      "0 5\n",
      "5 10\n",
      "10 15\n",
      "15 20\n",
      "20 25\n",
      "Chern Numbers (q=5) of Seperation of Bands: [0.9999999999999999, 1.0000000000000002, -4.000000000000001, 0.9999999999999996, 0.9999999999999998]\n"
     ]
    }
   ],
   "source": [
    "#Calculate Chern Numbes\n",
    "chern_array = []\n",
    "for i in np.arange(0, L_x*L_y, q):\n",
    "    j=i+q\n",
    "    S=0\n",
    "    n1=i\n",
    "    n2=j\n",
    "    print(n1,n2)\n",
    "    for t_x in range(0, len(theta_x)):\n",
    "        for t_y in range(0, len(theta_y)):\n",
    "            w1, v1 = np.linalg.eig(HMat_Theta(alpha, theta_x[t_x], theta_y[t_y]))\n",
    "#             w1 = np.sort(w1)\n",
    "            idx1 = np.argsort(w1)\n",
    "            v1_sorted = v1[:,idx1]\n",
    "            v11 = v1_sorted[:,n1:n2] #multiplet \n",
    "            w2, v2 = np.linalg.eig(HMat_Theta(alpha, theta_x[t_x]+dx, theta_y[t_y]))\n",
    "#             w2 = np.sort(w2)\n",
    "            idx2 = np.argsort(w2)\n",
    "            v2_sorted = v2[:,idx2]\n",
    "            v22 = v2_sorted[:,n1:n2]\n",
    "            w3, v3 = np.linalg.eig(HMat_Theta(alpha, theta_x[t_x], theta_y[t_y]+dy))\n",
    "#             w3 = np.sort(w3)\n",
    "            idx3 = np.argsort(w3)\n",
    "            v3_sorted = v3[:,idx3]\n",
    "            v33 = v3_sorted[:,n1:n2]\n",
    "            w4, v4 = np.linalg.eig(HMat_Theta(alpha, theta_x[t_x]+dx, theta_y[t_y]+dy))\n",
    "#             w4 = np.sort(w4)\n",
    "            idx4 = np.argsort(w4)\n",
    "            v4_sorted = v4[:,idx4]\n",
    "            v44 = v4_sorted[:,n1:n2]\n",
    "            # CHECK: \n",
    "            # v11,v22,v33,v44 D-Fold Degenerate Multiplet Matrices (w1,w2,w3,w4 are degenerate)\n",
    "            U1 = np.linalg.det(np.matmul(np.conjugate(np.transpose(v11)), v22)) #U_x\n",
    "            U1 = U1 / np.absolute(U1)\n",
    "            U2 = np.linalg.det(np.matmul(np.conjugate(np.transpose(v22)), v44)) #U_y dx\n",
    "            U2 = U2 / np.absolute(U2)\n",
    "            U3 = np.linalg.det(np.matmul(np.conjugate(np.transpose(v33)), v44)) #U_x dy\n",
    "            U3 = U3 / np.absolute(U3)\n",
    "            U4 = np.linalg.det(np.matmul(np.conjugate(np.transpose(v11)), v33)) #U_y\n",
    "            U4 = U4 / np.absolute(U4)\n",
    "            F = np.log(U1*U2*1/U3*1/U4)\n",
    "            S = S+F\n",
    "\n",
    "    C = 1/(2*np.pi*1j)*S\n",
    "    C.real\n",
    "    chern_array.append(C.real)\n",
    "#Chern_Numbers = np.array(chern_array)\n",
    "print('Chern Numbers (q='+str(q)+') of Seperation of Bands: '+str(chern_array))"
   ]
  },
  {
   "cell_type": "markdown",
   "id": "78faaad0",
   "metadata": {},
   "source": [
    "# SORU:"
   ]
  },
  {
   "cell_type": "markdown",
   "id": "cf7c39e4",
   "metadata": {},
   "source": [
    "Neden E'leri küçükten büyüğe sıraladığımda Chern'ler değişti?"
   ]
  },
  {
   "cell_type": "markdown",
   "id": "803bc6be",
   "metadata": {},
   "source": [
    "\"Hofstadter SP Chern Numbers in Julia\" dosyası ile E'ler ve E'lerin sırası aynı olduğu halde neden U'ların sırası aynı değil?"
   ]
  },
  {
   "cell_type": "markdown",
   "id": "adfa28e5",
   "metadata": {},
   "source": [
    "MB Hofstadter Chern Hesabı tutarsızlığı buradan kaynaklanıyor olabilir."
   ]
  },
  {
   "cell_type": "markdown",
   "id": "54bdef8c",
   "metadata": {},
   "source": [
    "# Problem Dışı:"
   ]
  },
  {
   "cell_type": "markdown",
   "id": "4a90fdbe",
   "metadata": {},
   "source": [
    "Dejenere enerjilere karşılık gelen tam öz-değerleri almıyoruz. Örneğin, lx=ly=5 iken 5'er kat dejenere gelen enerjileri 6'şar 6'şar multipler şeklinde aldığımız da Chern'ler doğru üretiliyor."
   ]
  }
 ],
 "metadata": {
  "kernelspec": {
   "display_name": "Python 3 (ipykernel)",
   "language": "python",
   "name": "python3"
  },
  "language_info": {
   "codemirror_mode": {
    "name": "ipython",
    "version": 3
   },
   "file_extension": ".py",
   "mimetype": "text/x-python",
   "name": "python",
   "nbconvert_exporter": "python",
   "pygments_lexer": "ipython3",
   "version": "3.11.2"
  }
 },
 "nbformat": 4,
 "nbformat_minor": 5
}
