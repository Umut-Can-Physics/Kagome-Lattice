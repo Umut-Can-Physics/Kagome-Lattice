{
 "cells": [
  {
   "cell_type": "markdown",
   "id": "5ed7610b",
   "metadata": {},
   "source": [
    "https://journals.aps.org/prl/abstract/10.1103/PhysRevLett.122.146601\n"
   ]
  },
  {
   "cell_type": "code",
   "execution_count": 1,
   "id": "207a52cf",
   "metadata": {},
   "outputs": [
    {
     "name": "stdout",
     "output_type": "stream",
     "text": [
      "lx= 5 , ly= 5\n"
     ]
    }
   ],
   "source": [
    "import sys\n",
    "sys.path.insert(0, '../')\n",
    "from square_tight_binding import *"
   ]
  },
  {
   "cell_type": "code",
   "execution_count": 2,
   "id": "216d28d5",
   "metadata": {},
   "outputs": [],
   "source": [
    "p=1\n",
    "q=L_y #q değeri, ly'nin tam böleni olmak zorunda\n",
    "#Magnetic Flux Per Plaquet has to be rational value\n",
    "alpha=p/q\n",
    "\n",
    "#Real Space Hamiltonian with Twisted Angle Phases\n",
    "def HMat_Theta(alpha, theta_x, theta_y):\n",
    "    H = np.zeros((L_x*L_y, L_x*L_y), dtype=complex)\n",
    "    for m in range(L_x*L_y):\n",
    "        for n in range(L_x*L_y):\n",
    "            #NN\n",
    "            if m in PerBCLat[n]:\n",
    "                #X ekseninde sınırdan sınıra atlamalar:\n",
    "                if np.absolute(xy[m][0]-xy[n][0])==L_x-1:\n",
    "                    if xy[m][0] > xy[n][0]:\n",
    "                        H[m][n] = -np.exp(-1j*2*np.pi*(alpha)*xy[m][1])*np.exp(-1j*theta_x)\n",
    "                    elif xy[m][0] < xy[n][0]:\n",
    "                        H[m][n] = -np.exp(1j*2*np.pi*(alpha)*xy[m][1])*np.exp(1j*theta_x)\n",
    "\n",
    "                #Y ekseninde sınırdan sınıra atlamalar\n",
    "                elif np.absolute(xy[m][1]-xy[n][1])==L_y-1:\n",
    "                    if xy[m][1] > xy[n][1]:\n",
    "                        H[m][n] = -np.exp(1j*theta_y)\n",
    "                    elif xy[m][1] < xy[n][1]:\n",
    "                        H[m][n] = -np.exp(-1j*theta_y)\n",
    "                        \n",
    "                #Lattice içi atlamalar\n",
    "                else:\n",
    "                    if xy[m][0] > xy[n][0]:\n",
    "                        H[m][n] = -np.exp(1j*2*np.pi*alpha*xy[m][1])\n",
    "                    elif xy[m][0] < xy[n][0]:\n",
    "                        H[m][n] = -np.exp(-1j*2*np.pi*alpha*xy[m][1])\n",
    "                    else:\n",
    "                        H[m][n] = -np.exp(0)\n",
    "    return H"
   ]
  },
  {
   "cell_type": "code",
   "execution_count": 3,
   "id": "8c7f4ec6",
   "metadata": {
    "scrolled": true
   },
   "outputs": [
    {
     "data": {
      "text/plain": [
       "array([[ True,  True,  True,  True,  True,  True,  True,  True,  True,\n",
       "         True,  True,  True,  True,  True,  True,  True,  True,  True,\n",
       "         True,  True,  True,  True,  True,  True,  True],\n",
       "       [ True,  True,  True,  True,  True,  True,  True,  True,  True,\n",
       "         True,  True,  True,  True,  True,  True,  True,  True,  True,\n",
       "         True,  True,  True,  True,  True,  True,  True],\n",
       "       [ True,  True,  True,  True,  True,  True,  True,  True,  True,\n",
       "         True,  True,  True,  True,  True,  True,  True,  True,  True,\n",
       "         True,  True,  True,  True,  True,  True,  True],\n",
       "       [ True,  True,  True,  True,  True,  True,  True,  True,  True,\n",
       "         True,  True,  True,  True,  True,  True,  True,  True,  True,\n",
       "         True,  True,  True,  True,  True,  True,  True],\n",
       "       [ True,  True,  True,  True,  True,  True,  True,  True,  True,\n",
       "         True,  True,  True,  True,  True,  True,  True,  True,  True,\n",
       "         True,  True,  True,  True,  True,  True,  True],\n",
       "       [ True,  True,  True,  True,  True,  True,  True,  True,  True,\n",
       "         True,  True,  True,  True,  True,  True,  True,  True,  True,\n",
       "         True,  True,  True,  True,  True,  True,  True],\n",
       "       [ True,  True,  True,  True,  True,  True,  True,  True,  True,\n",
       "         True,  True,  True,  True,  True,  True,  True,  True,  True,\n",
       "         True,  True,  True,  True,  True,  True,  True],\n",
       "       [ True,  True,  True,  True,  True,  True,  True,  True,  True,\n",
       "         True,  True,  True,  True,  True,  True,  True,  True,  True,\n",
       "         True,  True,  True,  True,  True,  True,  True],\n",
       "       [ True,  True,  True,  True,  True,  True,  True,  True,  True,\n",
       "         True,  True,  True,  True,  True,  True,  True,  True,  True,\n",
       "         True,  True,  True,  True,  True,  True,  True],\n",
       "       [ True,  True,  True,  True,  True,  True,  True,  True,  True,\n",
       "         True,  True,  True,  True,  True,  True,  True,  True,  True,\n",
       "         True,  True,  True,  True,  True,  True,  True],\n",
       "       [ True,  True,  True,  True,  True,  True,  True,  True,  True,\n",
       "         True,  True,  True,  True,  True,  True,  True,  True,  True,\n",
       "         True,  True,  True,  True,  True,  True,  True],\n",
       "       [ True,  True,  True,  True,  True,  True,  True,  True,  True,\n",
       "         True,  True,  True,  True,  True,  True,  True,  True,  True,\n",
       "         True,  True,  True,  True,  True,  True,  True],\n",
       "       [ True,  True,  True,  True,  True,  True,  True,  True,  True,\n",
       "         True,  True,  True,  True,  True,  True,  True,  True,  True,\n",
       "         True,  True,  True,  True,  True,  True,  True],\n",
       "       [ True,  True,  True,  True,  True,  True,  True,  True,  True,\n",
       "         True,  True,  True,  True,  True,  True,  True,  True,  True,\n",
       "         True,  True,  True,  True,  True,  True,  True],\n",
       "       [ True,  True,  True,  True,  True,  True,  True,  True,  True,\n",
       "         True,  True,  True,  True,  True,  True,  True,  True,  True,\n",
       "         True,  True,  True,  True,  True,  True,  True],\n",
       "       [ True,  True,  True,  True,  True,  True,  True,  True,  True,\n",
       "         True,  True,  True,  True,  True,  True,  True,  True,  True,\n",
       "         True,  True,  True,  True,  True,  True,  True],\n",
       "       [ True,  True,  True,  True,  True,  True,  True,  True,  True,\n",
       "         True,  True,  True,  True,  True,  True,  True,  True,  True,\n",
       "         True,  True,  True,  True,  True,  True,  True],\n",
       "       [ True,  True,  True,  True,  True,  True,  True,  True,  True,\n",
       "         True,  True,  True,  True,  True,  True,  True,  True,  True,\n",
       "         True,  True,  True,  True,  True,  True,  True],\n",
       "       [ True,  True,  True,  True,  True,  True,  True,  True,  True,\n",
       "         True,  True,  True,  True,  True,  True,  True,  True,  True,\n",
       "         True,  True,  True,  True,  True,  True,  True],\n",
       "       [ True,  True,  True,  True,  True,  True,  True,  True,  True,\n",
       "         True,  True,  True,  True,  True,  True,  True,  True,  True,\n",
       "         True,  True,  True,  True,  True,  True,  True],\n",
       "       [ True,  True,  True,  True,  True,  True,  True,  True,  True,\n",
       "         True,  True,  True,  True,  True,  True,  True,  True,  True,\n",
       "         True,  True,  True,  True,  True,  True,  True],\n",
       "       [ True,  True,  True,  True,  True,  True,  True,  True,  True,\n",
       "         True,  True,  True,  True,  True,  True,  True,  True,  True,\n",
       "         True,  True,  True,  True,  True,  True,  True],\n",
       "       [ True,  True,  True,  True,  True,  True,  True,  True,  True,\n",
       "         True,  True,  True,  True,  True,  True,  True,  True,  True,\n",
       "         True,  True,  True,  True,  True,  True,  True],\n",
       "       [ True,  True,  True,  True,  True,  True,  True,  True,  True,\n",
       "         True,  True,  True,  True,  True,  True,  True,  True,  True,\n",
       "         True,  True,  True,  True,  True,  True,  True],\n",
       "       [ True,  True,  True,  True,  True,  True,  True,  True,  True,\n",
       "         True,  True,  True,  True,  True,  True,  True,  True,  True,\n",
       "         True,  True,  True,  True,  True,  True,  True]])"
      ]
     },
     "execution_count": 3,
     "metadata": {},
     "output_type": "execute_result"
    }
   ],
   "source": [
    "from Periodic_BC_Hofstadter_Hamiltonian_Matrix import *\n",
    "PerHMat(alpha) == HMat_Theta(alpha, 0, 0) # check!"
   ]
  },
  {
   "cell_type": "code",
   "execution_count": 4,
   "id": "206e8e32",
   "metadata": {},
   "outputs": [
    {
     "data": {
      "text/plain": [
       "array([-2.90522026, -2.90522026, -2.90522026, -2.90522026, -2.90522026,\n",
       "       -1.33468195, -1.33468195, -1.33468195, -1.33468195, -1.33468195,\n",
       "        0.33808561,  0.33808561,  0.33808561,  0.33808561,  0.33808561,\n",
       "        0.93800872,  0.93800872,  0.93800872,  0.93800872,  0.93800872,\n",
       "        2.96380788,  2.96380788,  2.96380788,  2.96380788,  2.96380788])"
      ]
     },
     "execution_count": 4,
     "metadata": {},
     "output_type": "execute_result"
    }
   ],
   "source": [
    "E0, U0 = np.linalg.eig(HMat_Theta(alpha, 9, 9))\n",
    "E0 = np.sort(E0)\n",
    "idx1 = np.argsort(E0)\n",
    "U0_sorted = U0[:,idx1]\n",
    "np.real(E0)"
   ]
  },
  {
   "cell_type": "code",
   "execution_count": 5,
   "id": "40b695d5",
   "metadata": {},
   "outputs": [],
   "source": [
    "# Discreatizing Brillioun Zone / Theta Space\n",
    "Nt1=10\n",
    "Nt2=10\n",
    "dx = 2*np.pi/Nt1\n",
    "dy = dx\n",
    "theta_x = np.arange(0, 2*np.pi, dx)\n",
    "theta_y = np.arange(0, 2*np.pi, dy)"
   ]
  },
  {
   "cell_type": "markdown",
   "id": "58bc6620-d299-4ed4-a69b-bce3f372a80a",
   "metadata": {},
   "source": [
    "There is alway degeneracy for each theta values!"
   ]
  },
  {
   "cell_type": "code",
   "execution_count": 6,
   "id": "4d20b469-c6ed-4265-acc5-6b15d3b3c993",
   "metadata": {},
   "outputs": [],
   "source": [
    "b1 = 0\n",
    "b2 = 3\n",
    "EEA=np.empty([Nt1,Nt2,L_x*L_y])\n",
    "UUA=np.empty([Nt1,Nt2,L_x*L_y,L_x*L_y],dtype=complex)\n",
    "for it1 in range(Nt1):\n",
    "    for it2 in range(Nt2):\n",
    "        EEA[it1,it2,:],UUA[it1,it2,:,:] = np.linalg.eigh(HMat_Theta(alpha, theta_x[it1], theta_y[it2]))\n",
    "        # sort\n",
    "        idx = np.argsort(EEA[it1,it2,:])\n",
    "        UUA[it1,it2,:,:] = UUA[it1,it2,:,idx]     "
   ]
  },
  {
   "cell_type": "code",
   "execution_count": 7,
   "id": "5551c450-f0e3-47a3-b961-8d28a23a185e",
   "metadata": {},
   "outputs": [
    {
     "data": {
      "text/plain": [
       "[<matplotlib.lines.Line2D at 0x1fa74a684d0>]"
      ]
     },
     "execution_count": 7,
     "metadata": {},
     "output_type": "execute_result"
    },
    {
     "data": {
      "image/png": "[encoded data removed]",
      "text/plain": [
       "<Figure size 640x480 with 1 Axes>"
      ]
     },
     "metadata": {},
     "output_type": "display_data"
    }
   ],
   "source": [
    "import matplotlib.pyplot as plt\n",
    "plt.plot(EEA[3,5,:], '.' )"
   ]
  },
  {
   "cell_type": "code",
   "execution_count": 10,
   "id": "12d7dc92",
   "metadata": {},
   "outputs": [
    {
     "name": "stdout",
     "output_type": "stream",
     "text": [
      "0 3\n",
      "3 6\n",
      "6 9\n",
      "Chern Numbers (q=3) of Seperation of Bands: [0.9999999999999994, -1.999999999999999, 0.9999999999999999]\n"
     ]
    }
   ],
   "source": [
    "#Calculate Chern Numbes\n",
    "chern_array = []\n",
    "for i in np.arange(0, L_x*L_y, q):\n",
    "    j=i+q\n",
    "    S=0\n",
    "    n1=i\n",
    "    n2=j\n",
    "    print(n1,n2)\n",
    "    for t_x in range(0, len(theta_x)):\n",
    "        for t_y in range(0, len(theta_y)):\n",
    "            w1, v1 = np.linalg.eig(HMat_Theta(alpha, theta_x[t_x], theta_y[t_y]))\n",
    "#             w1 = np.sort(w1)\n",
    "            idx1 = np.argsort(w1)\n",
    "            v1_sorted = v1[:,idx1]\n",
    "            v11 = v1_sorted[:,n1:n2] #multiplet \n",
    "            w2, v2 = np.linalg.eig(HMat_Theta(alpha, theta_x[t_x]+dx, theta_y[t_y]))\n",
    "#             w2 = np.sort(w2)\n",
    "            idx2 = np.argsort(w2)\n",
    "            v2_sorted = v2[:,idx2]\n",
    "            v22 = v2_sorted[:,n1:n2]\n",
    "            w3, v3 = np.linalg.eig(HMat_Theta(alpha, theta_x[t_x], theta_y[t_y]+dy))\n",
    "#             w3 = np.sort(w3)\n",
    "            idx3 = np.argsort(w3)\n",
    "            v3_sorted = v3[:,idx3]\n",
    "            v33 = v3_sorted[:,n1:n2]\n",
    "            w4, v4 = np.linalg.eig(HMat_Theta(alpha, theta_x[t_x]+dx, theta_y[t_y]+dy))\n",
    "#             w4 = np.sort(w4)\n",
    "            idx4 = np.argsort(w4)\n",
    "            v4_sorted = v4[:,idx4]\n",
    "            v44 = v4_sorted[:,n1:n2]\n",
    "            # CHECK: \n",
    "            # v11,v22,v33,v44 D-Fold Degenerate Multiplet Matrices (w1,w2,w3,w4 are degenerate)\n",
    "            U1 = np.linalg.det(np.matmul(np.conjugate(np.transpose(v11)), v22)) #U_x\n",
    "            U1 = U1 / np.absolute(U1)\n",
    "            U2 = np.linalg.det(np.matmul(np.conjugate(np.transpose(v22)), v44)) #U_y dx\n",
    "            U2 = U2 / np.absolute(U2)\n",
    "            U3 = np.linalg.det(np.matmul(np.conjugate(np.transpose(v33)), v44)) #U_x dy\n",
    "            U3 = U3 / np.absolute(U3)\n",
    "            U4 = np.linalg.det(np.matmul(np.conjugate(np.transpose(v11)), v33)) #U_y\n",
    "            U4 = U4 / np.absolute(U4)\n",
    "            F = np.log(U1*U2*1/U3*1/U4)\n",
    "            S = S+F\n",
    "\n",
    "    C = 1/(2*np.pi*1j)*S\n",
    "    C.real\n",
    "    chern_array.append(C.real)\n",
    "print('Chern Numbers (q='+str(q)+') of Seperation of Bands: '+str(chern_array))"
   ]
  },
  {
   "cell_type": "code",
   "execution_count": 66,
   "id": "885301e4-f805-4c67-a87f-8dd0de1d452c",
   "metadata": {},
   "outputs": [
    {
     "data": {
      "text/plain": [
       "(3.895555990297016-2.557769931938896e-16j)"
      ]
     },
     "execution_count": 66,
     "metadata": {},
     "output_type": "execute_result"
    }
   ],
   "source": [
    "#Calculate Chern Numbes\n",
    "S=0\n",
    "n1 = 6\n",
    "n2 = 8\n",
    "for t_x in range(0, len(theta_x)):\n",
    "    for t_y in range(0, len(theta_y)):\n",
    "        w1, v1 = np.linalg.eig(HMat_Theta(alpha, theta_x[t_x], theta_y[t_y]))\n",
    "        idx1 = np.argsort(w1)\n",
    "        v1_sorted = v1[:,idx1]\n",
    "        v11 = v1_sorted[:,n1:n2] \n",
    "        w2, v2 = np.linalg.eig(HMat_Theta(alpha, theta_x[t_x]+dx, theta_y[t_y]))\n",
    "        idx2 = np.argsort(w2)\n",
    "        v2_sorted = v2[:,idx2]\n",
    "        v22 = v2_sorted[:,n1:n2]\n",
    "        w3, v3 = np.linalg.eig(HMat_Theta(alpha, theta_x[t_x], theta_y[t_y]+dy))\n",
    "        idx3 = np.argsort(w3)\n",
    "        v3_sorted = v3[:,idx3]\n",
    "        v33 = v3_sorted[:,n1:n2]\n",
    "        w4, v4 = np.linalg.eig(HMat_Theta(alpha, theta_x[t_x]+dx, theta_y[t_y]+dy))\n",
    "        idx4 = np.argsort(w4)\n",
    "        v4_sorted = v4[:,idx4]\n",
    "        v44 = v4_sorted[:,n1:n2]\n",
    "        U1 = np.linalg.det(np.matmul(np.conjugate(np.transpose(v11)), v22)) #U_x\n",
    "        U1 = U1 / np.absolute(U1)\n",
    "        U2 = np.linalg.det(np.matmul(np.conjugate(np.transpose(v22)), v44)) #U_y dx\n",
    "        U2 = U2 / np.absolute(U2)\n",
    "        U3 = np.linalg.det(np.matmul(np.conjugate(np.transpose(v33)), v44)) #U_x dy\n",
    "        U3 = U3 / np.absolute(U3)\n",
    "        U4 = np.linalg.det(np.matmul(np.conjugate(np.transpose(v11)), v33)) #U_y\n",
    "        U4 = U4 / np.absolute(U4)\n",
    "        F = np.log(U1*U2*1/U3*1/U4)\n",
    "        S = S+F\n",
    "\n",
    "C = 1/(2*np.pi*1j)*S\n",
    "C"
   ]
  },
  {
   "cell_type": "code",
   "execution_count": 8,
   "id": "721d150f-dea5-4351-9b44-ff58ceadf143",
   "metadata": {},
   "outputs": [],
   "source": [
    "def calc_link_var(ψk1, ψk2):\n",
    "    s = np.linalg.det(np.matmul(np.conjugate(np.transpose(ψk1)), ψk2))\n",
    "    return s/np.absolute(s)\n",
    "\n",
    "def calc_link_vars_BZ(UUA):\n",
    "    N1, N2 = UUA.shape[0:2]\n",
    "    UU=np.zeros([N1,N2,2],dtype=complex)\n",
    "    dirs = [[1,0], [0,1]]\n",
    "    for i1 in range(N1):\n",
    "        for i2 in range(N2):\n",
    "            for idir, vdir in enumerate(dirs):\n",
    "                    UU[i1,i2,idir] = calc_link_var(UUA[i1                   ,i2               ,:,:],\n",
    "                                                   UUA[np.mod(i1+vdir[0],N1),np.mod(i2+vdir[1],N2),:,:])\n",
    "    return UU        \n",
    "\n",
    "def calc_F12_BZ(UU):\n",
    "    return np.log( UU[:,:,0]*\n",
    "                   np.roll(UU[:,:,1],-1,axis=0)*\n",
    "                   np.conj(np.roll(UU[:,:,0],-1,axis=1)*\n",
    "                   UU[:,:,1]) )"
   ]
  },
  {
   "cell_type": "code",
   "execution_count": 10,
   "id": "584561f2-c636-446c-8f10-d49dc5564bee",
   "metadata": {},
   "outputs": [
    {
     "name": "stdout",
     "output_type": "stream",
     "text": [
      "1.00e+00+3.34e-16j\n",
      "-4.95e-16-1.20e-16j\n",
      "4.00e+00+3.20e-16j\n",
      "-4.00e+00-1.84e-16j\n",
      "4.00e+00-6.11e-16j\n"
     ]
    }
   ],
   "source": [
    "for i in np.arange(0, L_x*L_y, q):\n",
    "    j=i+2\n",
    "    UU = calc_link_vars_BZ(UUA[:,:,:,i:j])\n",
    "    F12 = calc_F12_BZ(UU)\n",
    "    print(f'{F12.sum()/(2j*np.pi):.2e}')"
   ]
  },
  {
   "cell_type": "markdown",
   "id": "78faaad0",
   "metadata": {},
   "source": [
    "# SORU:"
   ]
  },
  {
   "cell_type": "markdown",
   "id": "cf7c39e4",
   "metadata": {},
   "source": [
    "Neden E'leri küçükten büyüğe sıraladığımda Chern'ler değişti?"
   ]
  },
  {
   "cell_type": "markdown",
   "id": "803bc6be",
   "metadata": {},
   "source": [
    "\"Hofstadter SP Chern Numbers in Julia\" dosyası ile E'ler ve E'lerin sırası aynı olduğu halde neden U'ların sırası aynı değil?"
   ]
  },
  {
   "cell_type": "markdown",
   "id": "adfa28e5",
   "metadata": {},
   "source": [
    "MB Hofstadter Chern Hesabı tutarsızlığı buradan kaynaklanıyor olabilir."
   ]
  },
  {
   "cell_type": "markdown",
   "id": "54bdef8c",
   "metadata": {},
   "source": [
    "# Problem Dışı:"
   ]
  },
  {
   "cell_type": "markdown",
   "id": "4a90fdbe",
   "metadata": {},
   "source": [
    "Dejenere enerjilere karşılık gelen tam öz-değerleri almıyoruz. Örneğin, lx=ly=5 iken 5'er kat dejenere gelen enerjileri 6'şar 6'şar multipler şeklinde aldığımız da Chern'ler doğru üretiliyor."
   ]
  }
 ],
 "metadata": {
  "kernelspec": {
   "display_name": "Python 3 (ipykernel)",
   "language": "python",
   "name": "python3"
  },
  "language_info": {
   "codemirror_mode": {
    "name": "ipython",
    "version": 3
   },
   "file_extension": ".py",
   "mimetype": "text/x-python",
   "name": "python",
   "nbconvert_exporter": "python",
   "pygments_lexer": "ipython3",
   "version": "3.11.2"
  }
 },
 "nbformat": 4,
 "nbformat_minor": 5
}
