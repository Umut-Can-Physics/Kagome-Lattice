{
 "cells": [
  {
   "cell_type": "code",
   "execution_count": 1,
   "id": "7bfb782f",
   "metadata": {},
   "outputs": [],
   "source": [
    "import sys\n",
    "sys.path.insert(0, 'C:/Users/Can/Dropbox/PC (2)/Desktop/My Numerical Calculations/Single Particle/Hofstadter')\n",
    "from Hofstadter_Matrix_in_k_space import *"
   ]
  },
  {
   "cell_type": "code",
   "execution_count": 2,
   "id": "da45b5eb",
   "metadata": {},
   "outputs": [],
   "source": [
    "# Discreatizing Brillioun Zone\n",
    "Nkx = q*q\n",
    "Nky = q*Nkx\n",
    "kkx=np.linspace(0,2.*np.pi/q,Nkx,endpoint=False) \n",
    "kky=np.linspace(0,2.*np.pi,Nky,endpoint=False) "
   ]
  },
  {
   "cell_type": "code",
   "execution_count": 3,
   "id": "a566b2dd",
   "metadata": {},
   "outputs": [],
   "source": [
    "# Eigenvalues and Eigenenergies of Matrix\n",
    "EEA=np.empty([Nkx,Nky,q])\n",
    "UUA=np.empty([Nkx,Nky,q,q],dtype=complex)\n",
    "phi=1/q\n",
    "for ikx, kx in enumerate(kkx):\n",
    "    for iky, ky in enumerate(kky):\n",
    "        EEA[ikx,iky,:],UUA[ikx,iky,:,:] = np.linalg.eigh(HMatrix(phi,kx,ky))"
   ]
  },
  {
   "cell_type": "code",
   "execution_count": 4,
   "id": "2edb0d61",
   "metadata": {},
   "outputs": [
    {
     "data": {
      "text/plain": [
       "Text(0.5, 1.0, 'q=5')"
      ]
     },
     "execution_count": 4,
     "metadata": {},
     "output_type": "execute_result"
    },
    {
     "data": {
      "image/png": "[encoded data removed]",
      "text/plain": [
       "<Figure size 640x480 with 1 Axes>"
      ]
     },
     "metadata": {},
     "output_type": "display_data"
    }
   ],
   "source": [
    "# Plot Energy Bands\n",
    "import matplotlib.pyplot as plt\n",
    "for i in range(q):\n",
    "        plt.plot(EEA[:,:,i].flatten(),'.') \n",
    "plt.ylabel(\"E\")\n",
    "plt.title(\"q=\"+str(q))"
   ]
  },
  {
   "cell_type": "code",
   "execution_count": 5,
   "id": "cf9a9ebe",
   "metadata": {},
   "outputs": [
    {
     "data": {
      "text/plain": [
       "(0.9999999999999998+0j)"
      ]
     },
     "execution_count": 5,
     "metadata": {},
     "output_type": "execute_result"
    }
   ],
   "source": [
    "# Diklik Bağıntısı\n",
    "np.dot(np.conj(UUA[1,0,:,1]),UUA[1,0,:,1])"
   ]
  },
  {
   "cell_type": "code",
   "execution_count": 6,
   "id": "a5f76ae1",
   "metadata": {},
   "outputs": [
    {
     "name": "stdout",
     "output_type": "stream",
     "text": [
      "Band Index: 0\n",
      "(1+3.3654678119021963e-16j)\n",
      "Band Index: 1\n",
      "(1.0000000000000002+1.2062252336764286e-15j)\n",
      "Band Index: 2\n",
      "(-4+2.0209110067358456e-15j)\n",
      "Band Index: 3\n",
      "(1+1.9002022360739363e-15j)\n",
      "Band Index: 4\n",
      "(1.0000000000000002+7.652004037057347e-15j)\n"
     ]
    }
   ],
   "source": [
    "for bi in range(q): \n",
    "    # Caculate The Link Variables\n",
    "    bj = bi # Band index  \n",
    "    U1=np.zeros([Nkx,Nky],dtype=complex)\n",
    "    U2=np.zeros([Nkx,Nky],dtype=complex)\n",
    "    for ikx,kx in enumerate(kkx):\n",
    "        for iky,ky in enumerate(kky):\n",
    "            s1=np.dot(np.conj(UUA[ikx,iky,:,bi]),UUA[np.mod(ikx+1,Nkx),iky,:,bj]) \n",
    "            s2=np.dot(np.conj(UUA[ikx,iky,:,bj]),UUA[ikx,np.mod(iky+1,Nky),:,bi]) \n",
    "            U1[ikx,iky]=s1/np.abs(s1)\n",
    "            U2[ikx,iky]=s2/np.abs(s2)\n",
    "    # Calculate The Field Strength\n",
    "#     F12=np.zeros([Nkx,Nky],dtype=complex) \n",
    "#     for ikx,kx in enumerate(kkx):\n",
    "#         for iky,ky in enumerate(kky):\n",
    "#             F12[ikx,iky] = U1[ikx,iky]*U2[np.mod(ikx+1,Nkx),iky]/(U1[ikx,np.mod(iky+1,Nky)]*U2[ikx,iky])\n",
    "#             F12[ikx,iky] = np.log(F12[ikx,iky])\n",
    "    # Alternative F12 Calculation\n",
    "    F12=np.log( U1*np.roll(U2,-1,axis=0)*np.conj(np.roll(U1,-1,axis=1)*U2) )\n",
    "    # Chern Number of Band Index\n",
    "    print(\"Band Index:\",bi)\n",
    "    print(F12.sum()/(2j*np.pi))"
   ]
  },
  {
   "cell_type": "markdown",
   "id": "a1d21633",
   "metadata": {},
   "source": [
    "q=Çift olduğunda ortada dokunan bantların Chern sayılarının toplamlarının sıfır olması lazım. Ama bizim burda kullandığımız algoritma bunu hesaba katmıyor, dolayısıyla q=tek sayılar için sorunsuz çalışıyor."
   ]
  }
 ],
 "metadata": {
  "kernelspec": {
   "display_name": "Python 3 (ipykernel)",
   "language": "python",
   "name": "python3"
  },
  "language_info": {
   "codemirror_mode": {
    "name": "ipython",
    "version": 3
   },
   "file_extension": ".py",
   "mimetype": "text/x-python",
   "name": "python",
   "nbconvert_exporter": "python",
   "pygments_lexer": "ipython3",
   "version": "3.11.2"
  },
  "vscode": {
   "interpreter": {
    "hash": "a03785ac4c50267612fbe58bda14fd025fac1c5f9a7d8e8a15e8aa0a6dc56ba3"
   }
  }
 },
 "nbformat": 4,
 "nbformat_minor": 5
}
