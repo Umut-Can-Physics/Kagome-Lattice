{
 "cells": [
  {
   "cell_type": "code",
   "execution_count": 1,
   "id": "cd4cf396",
   "metadata": {},
   "outputs": [],
   "source": [
    "import sys\n",
    "sys.path.insert(0, 'C:/Users/Can/Dropbox/PC (2)/Desktop/My Numerical Calculations/Single Particle/Hofstadter')\n",
    "from Hofstadter_Matrix_in_k_space import *"
   ]
  },
  {
   "cell_type": "markdown",
   "id": "f65d7530",
   "metadata": {},
   "source": [
    "https://journals.jps.jp/doi/10.1143/JPSJ.74.1674"
   ]
  },
  {
   "cell_type": "code",
   "execution_count": 2,
   "id": "21a4da20",
   "metadata": {},
   "outputs": [],
   "source": [
    "########################\n",
    "###  Link Variables  ###\n",
    "########################\n",
    "\"\"\"\n",
    "vec_1: Numpy Array\n",
    "vec_2: Numpy Array\n",
    "\"\"\"\n",
    "def build_U(vec1, vec2):\n",
    "\n",
    "    inner_product = np.dot(vec1, vec2.conj())\n",
    "    U = inner_product / np.abs(inner_product)\n",
    "    return U"
   ]
  },
  {
   "cell_type": "code",
   "execution_count": 6,
   "id": "0bf489c7",
   "metadata": {},
   "outputs": [],
   "source": [
    "####################################\n",
    "###    Berry Curvature veya      ###\n",
    "###   Lattice Field Strength     ###\n",
    "###          Hesabı              ###\n",
    "####################################\n",
    "\"\"\"\n",
    "Dk: 2D Numpy Array\n",
    "\"\"\"\n",
    "phi=1/q\n",
    "def latF(k_vec, Dk, q):\n",
    "\n",
    "    #(k_x, k_y)\n",
    "    E, aux = np.linalg.eig(HMatrix(phi,k_vec[0], k_vec[1]))\n",
    "    idx = E.argsort()\n",
    "    psi = aux[:,idx] # column vectors\n",
    "\n",
    "    #(k_x+e1, k_y)\n",
    "    E, aux = np.linalg.eig(HMatrix(phi,k_vec[0]+Dk[0], k_vec[1]))\n",
    "    idx = E.argsort()\n",
    "    psiDx = aux[:,idx]\n",
    "\n",
    "    #(k_x, k_y+e2)\n",
    "    E, aux = np.linalg.eig(HMatrix(phi,k_vec[0], k_vec[1]+Dk[1]))\n",
    "    idx = E.argsort()\n",
    "    psiDy = aux[:,idx]\n",
    "\n",
    "    #(k_x+e1, k_y+e2)\n",
    "    E, aux = np.linalg.eig(HMatrix(phi,k_vec[0]+Dk[0], k_vec[1]+Dk[1]))\n",
    "    idx = E.argsort()\n",
    "    psiDxDy = aux[:,idx]\n",
    "\n",
    "    U1x = np.zeros(q, dtype=complex)\n",
    "    U2y = np.zeros(q, dtype=complex)\n",
    "    U1y = np.zeros(q, dtype=complex)\n",
    "    U2x = np.zeros(q, dtype=complex)\n",
    "\n",
    "    for i in range(q):\n",
    "        \n",
    "        #U1x = U_1(k_alpha) = <u(k_alpha)|u(k_alpha+e1)> / |...|\n",
    "        U1x[i] = build_U(psi[:,i], psiDx[:,i])\n",
    "        \n",
    "        #U2y = U_2(k_alpha) = <u(k_alpha)|u(k_alpha+e2)> / |...|\n",
    "        U2y[i] = build_U(psi[:,i], psiDy[:,i])\n",
    "        \n",
    "        #U1y = U_1(k_alpha+e2) = <u(k_alpha+e2)|u(k_alpha+e1+e2)> / |...|\n",
    "        U1y[i] = build_U(psiDy[:,i], psiDxDy[:,i])\n",
    "        \n",
    "        #U2x = U_2(k_alpha+e1) = <u(k_alpha+e1)|u(k_alpha+e1+e2)> / |...|\n",
    "        U2x[i] = build_U(psiDx[:,i], psiDxDy[:,i])\n",
    "        \n",
    "    F12 = np.zeros(q, dtype=complex)\n",
    "\n",
    "    #F12=ln(      U_1(k_alpha)*  U_2(k_alpha+e1)* 1/U_1(k_alpha+e2)*   1/U_2(k_alpha)       )\n",
    "    F12 = np.log( U1x*          U2x*            1/U1y*             1/U2y              )\n",
    "    # column vector\n",
    "    return F12"
   ]
  },
  {
   "cell_type": "code",
   "execution_count": 7,
   "id": "478e4874",
   "metadata": {},
   "outputs": [],
   "source": [
    "# Brilliouin Zone Define\n",
    "N1 = N2 = 25\n",
    "Dx = (2*np.pi/q)/N1\n",
    "Dy = (2*np.pi)/N2\n",
    "Dk = np.array([Dx,Dy], float)"
   ]
  },
  {
   "cell_type": "code",
   "execution_count": 8,
   "id": "474a2a1a",
   "metadata": {},
   "outputs": [
    {
     "name": "stdout",
     "output_type": "stream",
     "text": [
      "q= 5 iken Bantların Chern Sayıları: [-1. -1.  4. -1. -1.]\n"
     ]
    }
   ],
   "source": [
    "#############################\n",
    "###  Chern Number Hesabı  ###\n",
    "#############################\n",
    "LF = np.zeros(q, dtype=complex)\n",
    "Sum = np.zeros(q, dtype=complex)\n",
    "Chern = np.zeros(q, dtype=complex)\n",
    "\n",
    "# Brilliouin Zone Mesh\n",
    "for ix in range(N1):\n",
    "\n",
    "    kx = ix*Dx\n",
    "\n",
    "    for iy in range(N2):\n",
    "\n",
    "        ky = iy*Dy\n",
    "\n",
    "        k_vec = np.array([kx,ky], float)\n",
    "\n",
    "        LF = latF(k_vec, Dk, q)\n",
    "\n",
    "        Sum += LF\n",
    "\n",
    "Chern = Sum.imag/(2*np.pi)\n",
    "print('q= '+str(q)+' iken '+'Bantların Chern Sayıları: '+str(Chern))"
   ]
  }
 ],
 "metadata": {
  "kernelspec": {
   "display_name": "Python 3 (ipykernel)",
   "language": "python",
   "name": "python3"
  },
  "language_info": {
   "codemirror_mode": {
    "name": "ipython",
    "version": 3
   },
   "file_extension": ".py",
   "mimetype": "text/x-python",
   "name": "python",
   "nbconvert_exporter": "python",
   "pygments_lexer": "ipython3",
   "version": "3.11.2"
  }
 },
 "nbformat": 4,
 "nbformat_minor": 5
}
