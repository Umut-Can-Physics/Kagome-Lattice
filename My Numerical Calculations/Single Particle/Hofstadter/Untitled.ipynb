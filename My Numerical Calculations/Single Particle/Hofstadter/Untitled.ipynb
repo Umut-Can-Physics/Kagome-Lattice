{
 "cells": [
  {
   "cell_type": "code",
   "execution_count": 12,
   "id": "57bb0025-8042-401b-8c60-2c34b1d4c07c",
   "metadata": {},
   "outputs": [],
   "source": [
    "import numpy as np\n",
    "def lattice_2d(L_x,L_y):\n",
    "    #Create 2-D Lattice. Each numbers represents lattice sites\n",
    "    lattice = np.arange(L_x*L_y).reshape(L_x,L_y)\n",
    "    \n",
    "    #Site coordinates on lattice in order, according to coordinate system\n",
    "    x_co = np.arange(L_y)\n",
    "    y_co = np.arange(L_x)\n",
    "    arr = []\n",
    "    for j in range(len(y_co)):\n",
    "        for i in range(len(x_co)):\n",
    "            arr = np.append(arr, [[x_co[i],x_co[j]]])\n",
    "    xy = arr.reshape((int(arr.size/2),2))\n",
    "    return lattice, arr, xy\n",
    "\n",
    "#Find nearest-neighbors for hard-wall B.C.\n",
    "def HardBC(L_x, L_y):\n",
    "    lattice, arr, xy = lattice_2d(L_x,L_y)\n",
    "    neighbors = {}\n",
    "    for i in range(len(lattice)):\n",
    "        for j, value in enumerate(lattice[i]):\n",
    "            if i == 0 or i == len(lattice) - 1 or j == 0 or j == len(lattice[i]) - 1:\n",
    "                new_neighbors = []\n",
    "                if i != 0:\n",
    "                    new_neighbors.append(lattice[i - 1][j])  \n",
    "                if j != len(arr[i]) - 1:\n",
    "                    new_neighbors.append(lattice[i][j + 1]) \n",
    "                if i != len(arr) - 1:\n",
    "                    new_neighbors.append(lattice[i + 1][j])  \n",
    "                if j != 0:\n",
    "                    new_neighbors.append(lattice[i][j - 1])\n",
    "            else:\n",
    "                new_neighbors = [\n",
    "                    lattice[i - 1][j],  \n",
    "                    lattice[i][j + 1],  \n",
    "                    lattice[i + 1][j],  \n",
    "                    lattice[i][j - 1]   \n",
    "                ]\n",
    "            neighbors[value] = new_neighbors\n",
    "    return neighbors"
   ]
  },
  {
   "cell_type": "code",
   "execution_count": 19,
   "id": "fa9361f0-8a7c-481b-bc99-ea0a28a89c1e",
   "metadata": {},
   "outputs": [],
   "source": [
    "L_x=L_y=3\n",
    "lattice, arr, xy = lattice_2d(L_x,L_y)\n",
    "neighbors = {}\n",
    "for i in range(len(lattice)):\n",
    "    for j, value in enumerate(lattice[i]):\n",
    "        if i == 0 or i == len(lattice) - 1 or j == 0 or j == len(lattice[i]) - 1:\n",
    "            new_neighbors = []\n",
    "            if i != 0:\n",
    "                new_neighbors.append(lattice[i - 1][j])  \n",
    "            if j != L_y - 1:\n",
    "                new_neighbors.append(lattice[i][j + 1]) \n",
    "            if i != L_x - 1:\n",
    "                new_neighbors.append(lattice[i + 1][j])  \n",
    "            if j != 0:\n",
    "                new_neighbors.append(lattice[i][j - 1])\n",
    "        else:\n",
    "            new_neighbors = [\n",
    "                lattice[i - 1][j],  \n",
    "                lattice[i][j + 1],  \n",
    "                lattice[i + 1][j],  \n",
    "                lattice[i][j - 1]   \n",
    "            ]\n",
    "        neighbors[value] = new_neighbors"
   ]
  },
  {
   "cell_type": "code",
   "execution_count": 18,
   "id": "694331d0-fd33-4e4e-a6d6-3805f0b242ea",
   "metadata": {},
   "outputs": [
    {
     "data": {
      "text/plain": [
       "array([[0, 1, 2],\n",
       "       [3, 4, 5],\n",
       "       [6, 7, 8]])"
      ]
     },
     "execution_count": 18,
     "metadata": {},
     "output_type": "execute_result"
    }
   ],
   "source": [
    "lattice"
   ]
  },
  {
   "cell_type": "code",
   "execution_count": 20,
   "id": "99acd34e-a93c-44d7-8c7b-60c46017fedd",
   "metadata": {},
   "outputs": [
    {
     "data": {
      "text/plain": [
       "{0: [1, 3],\n",
       " 1: [2, 4, 0],\n",
       " 2: [5, 1],\n",
       " 3: [0, 4, 6],\n",
       " 4: [1, 5, 7, 3],\n",
       " 5: [2, 8, 4],\n",
       " 6: [3, 7],\n",
       " 7: [4, 8, 6],\n",
       " 8: [5, 7]}"
      ]
     },
     "execution_count": 20,
     "metadata": {},
     "output_type": "execute_result"
    }
   ],
   "source": [
    "neighbors"
   ]
  }
 ],
 "metadata": {
  "kernelspec": {
   "display_name": "Python 3 (ipykernel)",
   "language": "python",
   "name": "python3"
  },
  "language_info": {
   "codemirror_mode": {
    "name": "ipython",
    "version": 3
   },
   "file_extension": ".py",
   "mimetype": "text/x-python",
   "name": "python",
   "nbconvert_exporter": "python",
   "pygments_lexer": "ipython3",
   "version": "3.8.10"
  }
 },
 "nbformat": 4,
 "nbformat_minor": 5
}
