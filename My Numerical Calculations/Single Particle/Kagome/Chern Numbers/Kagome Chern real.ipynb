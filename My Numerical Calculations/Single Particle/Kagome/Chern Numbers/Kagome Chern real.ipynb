{
 "cells": [
  {
   "cell_type": "code",
   "execution_count": 1,
   "id": "68b74a8c-ecb9-4dbb-b2cd-5b355cfb227d",
   "metadata": {},
   "outputs": [],
   "source": [
    "import sys"
   ]
  },
  {
   "cell_type": "code",
   "execution_count": 2,
   "id": "f2096d31-7e24-48ee-aee9-ff3fe2fc0a17",
   "metadata": {},
   "outputs": [],
   "source": [
    "l1 = l2 = 3\n",
    "t1 = -1;L1 = 0.28;t2 = 0.3;L2 = 0.2 \n",
    "# t1 = -1;L1=1;t2=L2=0\n",
    "# t1 = -1;L1=t2=L2=0"
   ]
  },
  {
   "cell_type": "code",
   "execution_count": 3,
   "id": "2d9117a1",
   "metadata": {
    "tags": []
   },
   "outputs": [],
   "source": [
    "sys.path.insert(0,'../')\n",
    "from Kagome_Twist import *"
   ]
  },
  {
   "cell_type": "code",
   "execution_count": 4,
   "id": "55d39f1d-6100-4551-94b7-ac6e74741bbc",
   "metadata": {},
   "outputs": [],
   "source": [
    "Nt1=10\n",
    "Nt2=10\n",
    "dx = 2*np.pi/Nt1\n",
    "dy = dx\n",
    "theta_1 = np.arange(0, 2*np.pi, dx)\n",
    "theta_2 = np.arange(0, 2*np.pi, dy)"
   ]
  },
  {
   "cell_type": "code",
   "execution_count": 5,
   "id": "360c7ae5-44e3-4749-a181-7c63e895b2fc",
   "metadata": {},
   "outputs": [],
   "source": [
    "sys.path.insert(0, '../../')\n",
    "from Chern_parameter_space_sum import *"
   ]
  },
  {
   "cell_type": "code",
   "execution_count": 6,
   "id": "834c7de0-ea6b-4e11-8696-7f791c49e831",
   "metadata": {},
   "outputs": [
    {
     "name": "stdout",
     "output_type": "stream",
     "text": [
      "-1.00e+00-8.34e-16j\n",
      "-8.83e-18+1.14e-15j\n",
      "1.00e+00+1.95e-16j\n"
     ]
    }
   ],
   "source": [
    "UUA = calc_states_twist_kagome(l1, l2, t1,L1,t2,L2,Nt1, Nt2, theta_1, theta_2, H)\n",
    "nd = l1*l2\n",
    "nb = 3\n",
    "for i in range(nb):\n",
    "    UU = calc_link_vars_twist(UUA[:,:,:,i*nd:(i+1)*nd])\n",
    "    F12 = calc_F12_BZ(UU)\n",
    "    print(f'{F12.sum()/(2j*np.pi):.2e}')"
   ]
  },
  {
   "cell_type": "code",
   "execution_count": null,
   "id": "69e0ddea-8b6b-44ed-94d8-4dde0e78f7d1",
   "metadata": {},
   "outputs": [],
   "source": []
  },
  {
   "cell_type": "code",
   "execution_count": null,
   "id": "45f6c641-9dbe-4051-a35c-8c319d712223",
   "metadata": {},
   "outputs": [],
   "source": []
  }
 ],
 "metadata": {
  "kernelspec": {
   "display_name": "Python 3 (ipykernel)",
   "language": "python",
   "name": "python3"
  },
  "language_info": {
   "codemirror_mode": {
    "name": "ipython",
    "version": 3
   },
   "file_extension": ".py",
   "mimetype": "text/x-python",
   "name": "python",
   "nbconvert_exporter": "python",
   "pygments_lexer": "ipython3",
   "version": "3.11.2"
  }
 },
 "nbformat": 4,
 "nbformat_minor": 5
}
