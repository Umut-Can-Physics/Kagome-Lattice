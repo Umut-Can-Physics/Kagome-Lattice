{
 "cells": [
  {
   "cell_type": "code",
   "execution_count": 1,
   "id": "10db0dbd-3990-47e1-bdd6-624ff259e32b",
   "metadata": {},
   "outputs": [],
   "source": [
    "import sys"
   ]
  },
  {
   "cell_type": "code",
   "execution_count": 2,
   "id": "3e70dfd8-9c93-43c1-b1bb-64e722aa26b9",
   "metadata": {},
   "outputs": [],
   "source": [
    "sys.path.insert(0, '../')\n",
    "from Kagome_Matrix_in_k_space import *"
   ]
  },
  {
   "cell_type": "code",
   "execution_count": 3,
   "id": "166243ee-14a5-40db-b919-f2d7103ce0e0",
   "metadata": {},
   "outputs": [],
   "source": [
    "# Discreatizing Brillioun Zone\n",
    "Nkx = 20\n",
    "Nky = 20"
   ]
  },
  {
   "cell_type": "code",
   "execution_count": 4,
   "id": "3f6d7fb8-5dae-4b08-b771-130165b44383",
   "metadata": {},
   "outputs": [],
   "source": [
    "# Primitive (Bravais) vectors\n",
    "a1=np.array([2,0])\n",
    "a2=np.array([1,np.sqrt(3)])\n",
    "# Basis Vectors (Hopping vectors)\n",
    "a1_b=a1/2\n",
    "a2_b=a2/2\n",
    "# Reciprocal vectors\n",
    "b1x = (2*np.pi/(a1[0]*a2[1]-a1[1]*a2[0])) * a2[1]\n",
    "b1y = (2*np.pi/(a1[0]*a2[1]-a1[1]*a2[0])) * -a2[0]\n",
    "b2x = (2*np.pi/(a1[0]*a2[1]-a1[1]*a2[0])) * -a1[1]\n",
    "b2y = (2*np.pi/(a1[0]*a2[1]-a1[1]*a2[0])) * a1[0]\n",
    "b1=np.array([b1x,b1y]) #(np.pi,-np.pi/np.sqrt(3))\n",
    "b2=np.array([b2x,b2y]) #(0,2*np.pi/np.sqrt(3))\n",
    "# t1=-1;L1=0;t2=0;L2=0 \n",
    "# t1=1;L1=0.6;t2=0.3;L2=0 #NNN\n",
    "# t1=-1;L1=1;t2=0;L2=0 #NN (Well-Defined Berry-Curvature)\n",
    "t1=-1;L1=0.28;t2=0.3;L2=0.2 #NNN (Well-Defined Berry-Curvature)"
   ]
  },
  {
   "cell_type": "code",
   "execution_count": 5,
   "id": "cd628c50-d53f-4347-9d29-1d000a3e5389",
   "metadata": {},
   "outputs": [],
   "source": [
    "sys.path.insert(0, '../../')\n",
    "from Chern_parameter_space_sum import *"
   ]
  },
  {
   "cell_type": "code",
   "execution_count": 6,
   "id": "befac196-7f9d-415a-a97a-dd41c3c3b192",
   "metadata": {},
   "outputs": [
    {
     "name": "stdout",
     "output_type": "stream",
     "text": [
      "   Band Index: 0\n",
      "-1.00e+00-1.90e-16j, -1.00e+00+5.94e-17j \n",
      "   Band Index: 1\n",
      "-1.41e-16+6.11e-16j, -1.59e-16-2.39e-16j \n",
      "   Band Index: 2\n",
      "1.00e+00+5.08e-16j, 1.00e+00+2.04e-16j \n"
     ]
    }
   ],
   "source": [
    "UUA = calc_states_kagome(Nkx,Nky,b1,b2,a1_b,a2_b,t1,L1,t2,L2,Hamiltonian)\n",
    "for bi in range(3):\n",
    "    UU = calc_link_vars_BZ(UUA,bi)\n",
    "    F12 = calc_F12_BZ(UU)\n",
    "    F12_2 = calc_F12_BZ_2(UU)\n",
    "    print(\"   Band Index:\",bi)\n",
    "    print(f'{F12.sum()/(2j*np.pi):.2e}, {F12_2.sum()/(2j*np.pi):.2e} ')"
   ]
  },
  {
   "cell_type": "code",
   "execution_count": null,
   "id": "7cef5bab-4e13-42e8-87e7-d625dacae207",
   "metadata": {},
   "outputs": [],
   "source": []
  }
 ],
 "metadata": {
  "kernelspec": {
   "display_name": "Python 3 (ipykernel)",
   "language": "python",
   "name": "python3"
  },
  "language_info": {
   "codemirror_mode": {
    "name": "ipython",
    "version": 3
   },
   "file_extension": ".py",
   "mimetype": "text/x-python",
   "name": "python",
   "nbconvert_exporter": "python",
   "pygments_lexer": "ipython3",
   "version": "3.11.2"
  }
 },
 "nbformat": 4,
 "nbformat_minor": 5
}
