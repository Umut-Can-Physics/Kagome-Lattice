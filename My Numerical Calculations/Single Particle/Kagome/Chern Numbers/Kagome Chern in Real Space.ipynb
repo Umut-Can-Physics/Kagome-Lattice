{
 "cells": [
  {
   "cell_type": "code",
   "execution_count": 18,
   "id": "2d9117a1",
   "metadata": {
    "tags": []
   },
   "outputs": [],
   "source": [
    "import sys\n",
    "sys.path.insert(0,'../')\n",
    "from Real_Kagome_Lattice_v2 import *"
   ]
  },
  {
   "cell_type": "code",
   "execution_count": 19,
   "id": "b3a38982-4792-402b-a28f-308bcdcab731",
   "metadata": {
    "tags": []
   },
   "outputs": [
    {
     "name": "stdout",
     "output_type": "stream",
     "text": [
      "0 . Atom Site: [0, 0, 0]\n",
      "Neighborhoods:\n",
      "Delta: (0, 0, 1) , Neighbor Site [0 0 1] , Neighbor No: 1 [False, False]\n",
      "Delta: (0, 0, 2) , Neighbor Site [0 0 2] , Neighbor No: 2 [False, False]\n",
      "Delta: (-1, 0, 1) , Neighbor Site [2 0 1] , Neighbor No: 19 [True, False]\n",
      "Delta: (0, -1, 2) , Neighbor Site [0 2 2] , Neighbor No: 8 [False, True]\n",
      "Delta: (-1, 0, 2) , Neighbor Site [2 0 2] , Neighbor No: 20 [True, False]\n",
      "Delta: (-1, 1, 1) , Neighbor Site [2 1 1] , Neighbor No: 22 [True, False]\n",
      "Delta: (0, -1, 1) , Neighbor Site [0 2 1] , Neighbor No: 7 [False, True]\n",
      "Delta: (1, -1, 2) , Neighbor Site [1 2 2] , Neighbor No: 17 [False, True]\n"
     ]
    }
   ],
   "source": [
    "# for twist b.c. note that edge-to-edge hoppings have to be dealt with accordingly \n",
    "atom_index=0\n",
    "atom_site=sites[atom_index] # [i1, i2, \"0-1-2\"]=[i1, i2, \"A-B-C\"]\n",
    "print(atom_index,\". Atom Site:\",atom_site)\n",
    "\n",
    "print(\"Neighborhoods:\")\n",
    "for delta in NN[atom_site[2]]: # All hoppings to neighbors for each type of atom (atom_site[2])\n",
    "    neighbor_site = np.array(atom_site)+np.array(delta)\n",
    "    neighbor_site[0] = neighbor_site[0]%l1\n",
    "    neighbor_site[1] = neighbor_site[1]%l2    \n",
    "    Bwrap = [False, False]\n",
    "    if abs( neighbor_site[0] - atom_site[0] ) == l1-1 : Bwrap[0] = True\n",
    "    if abs( neighbor_site[1] - atom_site[1] ) == l2-1 : Bwrap[1] = True\n",
    "\n",
    "    neighbor_no=3*neighbor_site[0]*l2+3*neighbor_site[1]+neighbor_site[2]\n",
    "    print(\"Delta:\",delta, \", Neighbor Site\",neighbor_site, \", Neighbor No:\",neighbor_no, Bwrap)\n",
    "   "
   ]
  },
  {
   "cell_type": "code",
   "execution_count": 20,
   "id": "d1d59501",
   "metadata": {
    "tags": []
   },
   "outputs": [],
   "source": [
    "H = np.zeros([N,N],dtype=complex)\n",
    "def H_Theta(theta_1, theta_2):\n",
    "    for atom_no in range(N):\n",
    "        # check the algorithm for spesific atom_no \n",
    "        atom_site=sites[atom_no]\n",
    "        for i_delta, delta in enumerate(NN[atom_site[2]]):\n",
    "            neighbor_site = np.array(atom_site)+np.array(delta)\n",
    "            neighbor_site[0] = neighbor_site[0]%l1\n",
    "            neighbor_site[1] = neighbor_site[1]%l2\n",
    "            neighbor_no=3*neighbor_site[0]*l2+3*neighbor_site[1]+neighbor_site[2]\n",
    "            Bwrap = [False, False]\n",
    "            if abs( neighbor_site[0] - atom_site[0] ) == l1-1 : Bwrap[0] = True\n",
    "            if abs( neighbor_site[1] - atom_site[1] ) == l2-1 : Bwrap[1] = True\n",
    "            twist_1 = np.exp( 1j * theta_1 / (l1-2) * (abs( neighbor_site[0] - atom_site[0] )-1 ) * np.sign(neighbor_site[0] - atom_site[0]) )\n",
    "            twist_2 = np.exp( 1j * theta_2 / (l2-2) * (abs( neighbor_site[1] - atom_site[1] )-1 ) * np.sign(neighbor_site[1] - atom_site[1]) )\n",
    "            #print(atom_site, neighbor_site, Bwrap, twist_1, twist_2)\n",
    "            #print(atom_no, \"->\",neighbor_no, Bwrap, twist_1, twist_2)\n",
    "                        \n",
    "            H[neighbor_no,atom_no] = twist_1 * twist_2 * hopps[atom_site[2]][i_delta]\n",
    "    return H"
   ]
  },
  {
   "cell_type": "code",
   "execution_count": 21,
   "id": "7088122e",
   "metadata": {
    "tags": []
   },
   "outputs": [],
   "source": [
    "# Reciprocal Vectors\n",
    "b1x = (2*np.pi/(a1_vec[0]*a2_vec[1]-a1_vec[1]*a2_vec[0])) * a2_vec[1]\n",
    "b1y = (2*np.pi/(a1_vec[0]*a2_vec[1]-a1_vec[1]*a2_vec[0])) * -a2_vec[0]\n",
    "b2x = (2*np.pi/(a1_vec[0]*a2_vec[1]-a1_vec[1]*a2_vec[0])) * -a1_vec[1]\n",
    "b2y = (2*np.pi/(a1_vec[0]*a2_vec[1]-a1_vec[1]*a2_vec[0])) * a1_vec[0]\n",
    "b11=np.array([b1x,b1y]) \n",
    "b22=np.array([b2x,b2y]) \n",
    "\n",
    "# Twisted Angle Space Mesh = FBZ Mesh\n",
    "theta_size = 5\n",
    "q1_list = np.arange(0,theta_size) / theta_size\n",
    "q2_list =  np.arange(0,theta_size) / theta_size\n",
    "T = []\n",
    "for q1 in q1_list:\n",
    "    for q2 in q2_list:\n",
    "        T.append(q1*b11+q2*b22)\n",
    "T = np.array(T)\n",
    "theta_1 = T[:,0];\n",
    "theta_2=T[:,1]\n",
    "\n",
    "#theta_size=10\n",
    "d1 = 0.62831853 #Delta \\theta_1 \n",
    "d2 = 0.72551975 #Delta \\theta_2"
   ]
  },
  {
   "cell_type": "code",
   "execution_count": 22,
   "id": "77c8f7f3",
   "metadata": {
    "tags": []
   },
   "outputs": [
    {
     "name": "stdout",
     "output_type": "stream",
     "text": [
      "[-2.7967734  -2.77686932 -2.77652276 -2.76202828 -2.76154924 -2.75809264\n",
      " -2.75746314 -2.75650678 -2.75641544 -0.39415366 -0.39279149  0.16045737\n",
      "  0.16716847  0.25602787  0.28600095  0.43864428  0.46037014  1.11054557\n",
      "  1.68622783  2.29613665  2.31777115  2.47146219  2.50206477  2.59438077\n",
      "  2.60157091  3.16931425  3.17102298]\n"
     ]
    }
   ],
   "source": [
    "# Bizim her zaman üç bandımız var ve her boyutta üç adet chern sayımız çıkacak.\n",
    "# 16'şar defa (l1=l2=4) enerjilerinin dejenere çıkması lazım. Çünkü o multiplerden chern hesaplayacağız.\n",
    "w1, v1 = np.linalg.eigh(H_Theta(theta_1[5], theta_2[7]))\n",
    "print(w1)"
   ]
  },
  {
   "cell_type": "code",
   "execution_count": 23,
   "id": "5d6d8727-f956-47d1-a3cc-8a6de2ce117f",
   "metadata": {
    "tags": []
   },
   "outputs": [],
   "source": [
    "N1= len(theta_1)\n",
    "N2= len(theta_2)\n",
    "\n",
    "EEA=np.zeros([N1,N2,N])\n",
    "UUA=np.zeros([N1,N2,N,N],dtype=complex)\n",
    "for it1 in range(N1):\n",
    "    for it2 in range(N2):\n",
    "         EEA[it1,it2,:],UUA[it1,it2,:,:] = np.linalg.eigh(H_Theta(theta_1[it1], theta_2[it2]) )\n",
    "         # sort\n",
    "         idx = np.argsort(EEA[it1,it2,:])\n",
    "         UUA[it1,it2,:,:] = UUA[it1,it2,:,idx]"
   ]
  },
  {
   "cell_type": "code",
   "execution_count": 24,
   "id": "1d45a978-6d15-4fd0-bc7a-c86b7a266468",
   "metadata": {
    "tags": []
   },
   "outputs": [],
   "source": [
    "#%run ../../Chern_parameter_space_sum.ipynb"
   ]
  },
  {
   "cell_type": "code",
   "execution_count": 25,
   "id": "ef95f05a-a24b-4cd2-b299-f3a47779b31c",
   "metadata": {
    "tags": []
   },
   "outputs": [
    {
     "data": {
      "text/plain": [
       "array([-2.8       , -2.77779455, -2.77779455, -2.75777438, -2.75777438,\n",
       "       -2.75777438, -2.75777438, -2.75777438, -2.75777438, -0.42220545,\n",
       "       -0.42220545,  0.30352197,  0.30352197,  0.30352197,  0.30352197,\n",
       "        0.30352197,  0.30352197,  1.12287187,  1.67712813,  2.45425241,\n",
       "        2.45425241,  2.45425241,  2.45425241,  2.45425241,  2.45425241,\n",
       "        3.2       ,  3.2       ])"
      ]
     },
     "execution_count": 25,
     "metadata": {},
     "output_type": "execute_result"
    }
   ],
   "source": [
    "EEA[0,0,:]"
   ]
  },
  {
   "cell_type": "code",
   "execution_count": 26,
   "id": "05d9f26d-7637-4f9f-83f2-c85e53feaac1",
   "metadata": {
    "tags": []
   },
   "outputs": [
    {
     "data": {
      "text/plain": [
       "[<matplotlib.lines.Line2D at 0x203a2961a10>]"
      ]
     },
     "execution_count": 26,
     "metadata": {},
     "output_type": "execute_result"
    },
    {
     "data": {
      "image/png": "[encoded data removed]",
      "text/plain": [
       "<Figure size 640x480 with 1 Axes>"
      ]
     },
     "metadata": {},
     "output_type": "display_data"
    }
   ],
   "source": [
    "plt.plot( EEA[0,0,:9].flatten(), '.' )"
   ]
  },
  {
   "cell_type": "code",
   "execution_count": 29,
   "id": "0b7bcee6-36fd-4a55-a17c-f78c3a4b6ea6",
   "metadata": {},
   "outputs": [],
   "source": [
    "def calc_link_var(ψk1, ψk2):\n",
    "    #return np.exp( 1j*np.angle( np.dot(np.conj(ψk1),ψk2) ) )\n",
    "    #s = np.dot(np.conj(ψk1),ψk2)\n",
    "    s = np.linalg.det(np.matmul(np.conjugate(np.transpose(ψk1)), ψk2))\n",
    "    return s/np.absolute(s)\n",
    "\n",
    "def calc_link_vars_BZ(UUA):\n",
    "    N1, N2 = UUA.shape[0:2]\n",
    "    UU=np.zeros([N1,N2,2],dtype=complex)\n",
    "    dirs = [[1,0], [0,1]]\n",
    "    for i1 in range(N1):\n",
    "        for i2 in range(N2):\n",
    "            for idir, vdir in enumerate(dirs):\n",
    "                    UU[i1,i2,idir] = calc_link_var(UUA[i1                   ,i2               ,:,:],\n",
    "                                                   UUA[np.mod(i1+vdir[0],N1),np.mod(i2+vdir[1],N2),:,:])\n",
    "    return UU        \n",
    "\n",
    "def calc_F12_BZ(UU):\n",
    "    return np.log( UU[:,:,0]*\n",
    "                   np.roll(UU[:,:,1],-1,axis=0)*\n",
    "                   np.conj(np.roll(UU[:,:,0],-1,axis=1)*\n",
    "                   UU[:,:,1]) )"
   ]
  },
  {
   "cell_type": "code",
   "execution_count": 33,
   "id": "834c7de0-ea6b-4e11-8696-7f791c49e831",
   "metadata": {},
   "outputs": [
    {
     "name": "stdout",
     "output_type": "stream",
     "text": [
      "-9.00e+00+5.12e-16j\n"
     ]
    }
   ],
   "source": [
    "UU = calc_link_vars_BZ(UUA[:,:,:,0:9])\n",
    "F12 = calc_F12_BZ(UU)\n",
    "print(f'{F12.sum()/(2j*np.pi):.2e}')"
   ]
  },
  {
   "cell_type": "code",
   "execution_count": null,
   "id": "07b840d6-362b-4d24-b061-a6545eea5f8b",
   "metadata": {},
   "outputs": [],
   "source": []
  }
 ],
 "metadata": {
  "kernelspec": {
   "display_name": "Python 3 (ipykernel)",
   "language": "python",
   "name": "python3"
  },
  "language_info": {
   "codemirror_mode": {
    "name": "ipython",
    "version": 3
   },
   "file_extension": ".py",
   "mimetype": "text/x-python",
   "name": "python",
   "nbconvert_exporter": "python",
   "pygments_lexer": "ipython3",
   "version": "3.11.2"
  }
 },
 "nbformat": 4,
 "nbformat_minor": 5
}
