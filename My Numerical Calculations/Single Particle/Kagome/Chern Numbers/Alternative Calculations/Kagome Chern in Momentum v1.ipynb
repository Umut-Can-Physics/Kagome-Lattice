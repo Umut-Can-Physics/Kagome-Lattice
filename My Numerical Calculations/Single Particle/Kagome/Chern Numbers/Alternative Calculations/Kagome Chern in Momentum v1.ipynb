{
 "cells": [
  {
   "cell_type": "code",
   "execution_count": 1,
   "id": "6745a0d6",
   "metadata": {},
   "outputs": [
    {
     "name": "stdout",
     "output_type": "stream",
     "text": [
      "t1= -1 L1= 1 t2= 0 L2= 0\n"
     ]
    }
   ],
   "source": [
    "import sys\n",
    "sys.path.insert(0, 'C:/Users/Can/Dropbox/PC (2)/Desktop/My Numerical Calculations/Single Particle/Kagome')\n",
    "from Kagome_Matrix_in_k_space import *"
   ]
  },
  {
   "cell_type": "code",
   "execution_count": 2,
   "id": "5ea84530",
   "metadata": {},
   "outputs": [],
   "source": [
    "def build_U(vec1, vec2):\n",
    "    inner_product = np.dot(vec1, vec2.conj())\n",
    "    U = inner_product / np.abs(inner_product)\n",
    "    return U"
   ]
  },
  {
   "cell_type": "code",
   "execution_count": 3,
   "id": "9bb8b966",
   "metadata": {},
   "outputs": [],
   "source": [
    "def latF(k_vec, Dk):\n",
    "    \n",
    "    #convention\n",
    "    kx = k_vec[0];ky = k_vec[1]\n",
    "    k1=np.dot([kx,ky],a1_b);k2=np.dot([kx,ky],a2_b);k3=k2-k1\n",
    "    E, aux = np.linalg.eig(Hamiltonian(k1,k2,k3))\n",
    "    idx = E.argsort()\n",
    "    psi = aux[:,idx] # column vectors\n",
    "\n",
    "    kx = k_vec[0]+Dk[0];ky = k_vec[1]\n",
    "    k1=np.dot([kx,ky],a1_b);k2=np.dot([kx,ky],a2_b);k3=k2-k1\n",
    "    E, aux = np.linalg.eig(Hamiltonian(k1,k2,k3))\n",
    "    idx = E.argsort()\n",
    "    psiDx = aux[:,idx]\n",
    "\n",
    "    kx = k_vec[0];ky = k_vec[1]+Dk[1]\n",
    "    k1=np.dot([kx,ky],a1_b);k2=np.dot([kx,ky],a2_b);k3=k2-k1\n",
    "    E, aux = np.linalg.eig(Hamiltonian(k1,k2,k3))\n",
    "    idx = E.argsort()\n",
    "    psiDy = aux[:,idx]\n",
    "\n",
    "    kx = k_vec[0]+Dk[0];ky = k_vec[1]+Dk[1]\n",
    "    k1=np.dot([kx,ky],a1_b);k2=np.dot([kx,ky],a2_b);k3=k2-k1\n",
    "    E, aux = np.linalg.eig(Hamiltonian(k1,k2,k3))\n",
    "    idx = E.argsort()\n",
    "    psiDxDy = aux[:,idx]\n",
    "\n",
    "    size=3\n",
    "    U1x = np.zeros(size, dtype=complex)\n",
    "    U2y = np.zeros(size, dtype=complex)\n",
    "    U1y = np.zeros(size, dtype=complex)\n",
    "    U2x = np.zeros(size, dtype=complex)\n",
    "\n",
    "    for i in range(size):\n",
    "        \n",
    "        U1x[i] = build_U(psi[:,i], psiDx[:,i])\n",
    "        \n",
    "        U2y[i] = build_U(psi[:,i], psiDy[:,i])\n",
    "        \n",
    "        U1y[i] = build_U(psiDy[:,i], psiDxDy[:,i])\n",
    "        \n",
    "        U2x[i] = build_U(psiDx[:,i], psiDxDy[:,i])\n",
    "        \n",
    "    F12 = np.zeros(size, dtype=complex)\n",
    "    F12 = np.log( U1x*U2x*1/U1y*1/U2y)\n",
    "    # column vector\n",
    "    return F12"
   ]
  },
  {
   "cell_type": "code",
   "execution_count": 4,
   "id": "c2fa68f0",
   "metadata": {},
   "outputs": [],
   "source": [
    "# Brilliun Zone Define and Allowed Pairs\n",
    "N1 = N2 = 25\n",
    "q1_list = np.arange(0,N1) / N1 \n",
    "q2_list =  np.arange(0,N2) / N2 \n",
    "\n",
    "# IMPORTANT: Doesn't important that whether it confirms periodic-k condition.\n",
    "# In any case, it produces consistent Chern numbers.\n",
    "\n",
    "#Dx=Delta k_x, Dy=Delta k_y (N1=N2=25)\n",
    "Dx = 0.1256637061435919;Dy = 0.14510394913873714\n",
    "Dk = np.array([Dx,Dy], float)"
   ]
  },
  {
   "cell_type": "code",
   "execution_count": 5,
   "id": "02a8a486",
   "metadata": {},
   "outputs": [
    {
     "name": "stdout",
     "output_type": "stream",
     "text": [
      "[-1.00000000e+00 -1.33083919e-16  1.00000000e+00]\n"
     ]
    }
   ],
   "source": [
    "size=3\n",
    "LF = np.zeros(size, dtype=complex)\n",
    "Sum = np.zeros(size, dtype=complex)\n",
    "Chern = np.zeros(size, dtype=complex)\n",
    "Q = np.zeros([N1,N2,2])\n",
    "\n",
    "for iq1, q1 in enumerate(q1_list):\n",
    "    for iq2, q2 in enumerate(q2_list):\n",
    "        Q[iq1,iq2,:] = q1*b1+q2*b2\n",
    "        kx,ky=Q[iq1,iq2,:]\n",
    "        k_vec = np.array([kx,ky], float)\n",
    "        LF = latF(k_vec, Dk)\n",
    "        Sum += LF\n",
    "        \n",
    "Chern = Sum.imag/(2*np.pi)\n",
    "print(Chern)"
   ]
  }
 ],
 "metadata": {
  "kernelspec": {
   "display_name": "Python 3 (ipykernel)",
   "language": "python",
   "name": "python3"
  },
  "language_info": {
   "codemirror_mode": {
    "name": "ipython",
    "version": 3
   },
   "file_extension": ".py",
   "mimetype": "text/x-python",
   "name": "python",
   "nbconvert_exporter": "python",
   "pygments_lexer": "ipython3",
   "version": "3.11.2"
  }
 },
 "nbformat": 4,
 "nbformat_minor": 5
}
