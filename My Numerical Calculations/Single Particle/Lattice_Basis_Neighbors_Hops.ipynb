{
 "cells": [
  {
   "cell_type": "code",
   "execution_count": 1,
   "id": "after-complaint",
   "metadata": {},
   "outputs": [
    {
     "data": {
      "text/plain": [
       "get_site_coordinate (generic function with 1 method)"
      ]
     },
     "execution_count": 1,
     "metadata": {},
     "output_type": "execute_result"
    }
   ],
   "source": [
    "function get_site_coordinate(site, vv_lattice, vv_basis)\n",
    "    return vv_lattice[1] * site[1] + vv_lattice[2] * site[2] + vv_basis[site[3]]\n",
    "end"
   ]
  },
  {
   "cell_type": "code",
   "execution_count": 2,
   "id": "boolean-component",
   "metadata": {},
   "outputs": [
    {
     "data": {
      "text/plain": [
       "get_sites (generic function with 1 method)"
      ]
     },
     "execution_count": 2,
     "metadata": {},
     "output_type": "execute_result"
    }
   ],
   "source": [
    "function get_sites(LL, vv_lattice, vv_basis)\n",
    "    coordinates = []; \n",
    "    sites = []; \n",
    "    site_coord=Dict{}()\n",
    "    site_number=Dict{}()\n",
    "    i_site=0\n",
    "    for i2 in 0:LL[2]-1\n",
    "       for i1 in 0:LL[1]-1\n",
    "            for (i_basis, v_basis) in enumerate(vv_basis)\n",
    "                site = [i1,i2,i_basis]\n",
    "                sites = push!(sites, site)\n",
    "                v_site = get_site_coordinate(site, vv_lattice, vv_basis)\n",
    "                coordinates = push!(coordinates, v_site)\n",
    "                site_coord[site]=v_site\n",
    "                i_site+=1\n",
    "                site_number[site]=i_site\n",
    "            end\n",
    "        end\n",
    "    end\n",
    "    \n",
    "    return coordinates, sites, site_coord, site_number\n",
    "end"
   ]
  },
  {
   "cell_type": "code",
   "execution_count": 245,
   "id": "distant-bruce",
   "metadata": {},
   "outputs": [
    {
     "data": {
      "text/plain": [
       "wrap_twist (generic function with 1 method)"
      ]
     },
     "execution_count": 245,
     "metadata": {},
     "output_type": "execute_result"
    }
   ],
   "source": [
    "function wrap_twist(site, neighbor, LL)\n",
    "    i_neighbor  = site[1:2] + neighbor[1:2]\n",
    "    wrap = zeros(2)\n",
    "    for idir in 1:length(LL)\n",
    "        if i_neighbor[idir]==-1\n",
    "            wrap[idir] = -1\n",
    "        elseif i_neighbor[idir]==LL[idir]\n",
    "            wrap[idir] = +1\n",
    "        else \n",
    "            wrap[idir] = 0\n",
    "        end\n",
    "    end\n",
    "    return wrap\n",
    "end"
   ]
  },
  {
   "cell_type": "code",
   "execution_count": 272,
   "id": "herbal-diving",
   "metadata": {},
   "outputs": [
    {
     "data": {
      "text/plain": [
       "get_neighbor_site (generic function with 2 methods)"
      ]
     },
     "execution_count": 272,
     "metadata": {},
     "output_type": "execute_result"
    }
   ],
   "source": [
    "function get_neighbor_site(site, neighbor, LL, pbc=:true)\n",
    "    i_neighbor  = site[1:2] + neighbor[1:2]\n",
    "    #if !pbc && \n",
    "    #    (i_neighbor[1]==-1 || i_neighbor[1]==LL[1] || i_neighbor[2]==-1 || i_neighbor[2]==LL[2])\n",
    "    if !pbc && wrap_twist(site, neighbor, LL)!=[0,0]\n",
    "        #error(\"no such neighbor with obc in get_neighbor_site\")\n",
    "        return nothing\n",
    "    end \n",
    "    i_neighbor1 = mod(i_neighbor[1],LL[1])\n",
    "    i_neighbor2 = mod(i_neighbor[2],LL[2])\n",
    "    neighbor_site = [i_neighbor1, i_neighbor2, neighbor[3]] \n",
    "    return neighbor_site\n",
    "end"
   ]
  },
  {
   "cell_type": "code",
   "execution_count": 273,
   "id": "unauthorized-lawyer",
   "metadata": {},
   "outputs": [
    {
     "data": {
      "text/plain": [
       "get_neighbors (generic function with 2 methods)"
      ]
     },
     "execution_count": 273,
     "metadata": {},
     "output_type": "execute_result"
    }
   ],
   "source": [
    "function get_neighbors(site,neighbors,LL,pbc=true)\n",
    "    neighbor_sites=[]\n",
    "    for neighbor in neighbors\n",
    "        neighbor_site = get_neighbor_site(site, neighbor, LL, pbc)\n",
    "        if (neighbor_site!=nothing) push!(neighbor_sites,neighbor_site) end\n",
    "    end\n",
    "    return neighbor_sites\n",
    "end"
   ]
  },
  {
   "cell_type": "code",
   "execution_count": 274,
   "id": "robust-bulgaria",
   "metadata": {},
   "outputs": [
    {
     "data": {
      "text/plain": [
       "get_all_neighbors (generic function with 2 methods)"
      ]
     },
     "execution_count": 274,
     "metadata": {},
     "output_type": "execute_result"
    }
   ],
   "source": [
    "function get_all_neighbors(sites,neighbors_list,LL,nb,pbc=true)\n",
    "    site_neighbors=Dict{}()\n",
    "    for site in sites\n",
    "        i_site = site_number[site]\n",
    "        neighbor_sites = get_neighbors(site,neighbors_list[(i_site-1)%nb+1],LL,pbc) \n",
    "        site_neighbors[site]=neighbor_sites\n",
    "    end\n",
    "    return site_neighbors\n",
    "end"
   ]
  },
  {
   "cell_type": "code",
   "execution_count": 275,
   "id": "returning-dutch",
   "metadata": {},
   "outputs": [
    {
     "data": {
      "text/plain": [
       "plot_points (generic function with 1 method)"
      ]
     },
     "execution_count": 275,
     "metadata": {},
     "output_type": "execute_result"
    }
   ],
   "source": [
    "using Plots\n",
    "function plot_points(coords)\n",
    "    coords_x = [coord[1] for coord in coords]\n",
    "    coords_y = [coord[2] for coord in coords]\n",
    "    p = scatter(coords_x, coords_y, \n",
    "        series_annotations = text.(1:length(coords), :bottom), \n",
    "        aspect_ratio=:equal,\n",
    "        grid=:true, legend = false)\n",
    "    return p\n",
    "end"
   ]
  },
  {
   "cell_type": "markdown",
   "id": "starting-baptist",
   "metadata": {},
   "source": [
    "# Square lattice"
   ]
  },
  {
   "cell_type": "code",
   "execution_count": 276,
   "id": "lonely-exception",
   "metadata": {},
   "outputs": [],
   "source": [
    "LL = [3, 3]\n",
    "vv_lattice = [ [1., 0], [0, 1.] ]\n",
    "b1=[0, 0]\n",
    "vv_basis = [b1];"
   ]
  },
  {
   "cell_type": "code",
   "execution_count": 277,
   "id": "sound-virgin",
   "metadata": {},
   "outputs": [],
   "source": [
    "coordinates, sites, site_coord, site_number = get_sites(LL, vv_lattice, vv_basis);"
   ]
  },
  {
   "cell_type": "code",
   "execution_count": 278,
   "id": "aerial-focus",
   "metadata": {},
   "outputs": [
    {
     "data": {
      "text/plain": [
       "2-element Vector{Any}:\n",
       " [0.0, 0.0]\n",
       " [1.0, 0.0]"
      ]
     },
     "execution_count": 278,
     "metadata": {},
     "output_type": "execute_result"
    }
   ],
   "source": [
    "coordinates[1:2]"
   ]
  },
  {
   "cell_type": "code",
   "execution_count": 279,
   "id": "former-poetry",
   "metadata": {},
   "outputs": [
    {
     "data": {
      "text/plain": [
       "3-element Vector{Int64}:\n",
       " 0\n",
       " 0\n",
       " 1"
      ]
     },
     "execution_count": 279,
     "metadata": {},
     "output_type": "execute_result"
    }
   ],
   "source": [
    "sites[1]"
   ]
  },
  {
   "cell_type": "code",
   "execution_count": 280,
   "id": "spiritual-portugal",
   "metadata": {},
   "outputs": [
    {
     "data": {
      "text/plain": [
       "2-element Vector{Float64}:\n",
       " 1.0\n",
       " 0.0"
      ]
     },
     "execution_count": 280,
     "metadata": {},
     "output_type": "execute_result"
    }
   ],
   "source": [
    "site_coord[sites[2]]"
   ]
  },
  {
   "cell_type": "code",
   "execution_count": 281,
   "id": "neutral-thailand",
   "metadata": {},
   "outputs": [
    {
     "data": {
      "text/plain": [
       "4"
      ]
     },
     "execution_count": 281,
     "metadata": {},
     "output_type": "execute_result"
    }
   ],
   "source": [
    "site_number[sites[4]]"
   ]
  },
  {
   "cell_type": "code",
   "execution_count": 282,
   "id": "prompt-compatibility",
   "metadata": {},
   "outputs": [
    {
     "data": {
      "image/png": "[encoded data removed]",
      "image/svg+xml": [
       "<?xml version=\"1.0\" encoding=\"utf-8\"?>\n",
       "<svg xmlns=\"http://www.w3.org/2000/svg\" xmlns:xlink=\"http://www.w3.org/1999/xlink\" width=\"600\" height=\"400\" viewBox=\"0 0 2400 1600\">\n",
       "<defs>\n",
       "  <clipPath id=\"clip280\">\n",
       "    <rect x=\"0\" y=\"0\" width=\"2400\" height=\"1600\"/>\n",
       "  </clipPath>\n",
       "</defs>\n",
       "<path clip-path=\"url(#clip280)\" d=\"M0 1600 L2400 1600 L2400 0 L0 0  Z\" fill=\"#ffffff\" fill-rule=\"evenodd\" fill-opacity=\"1\"/>\n",
       "<defs>\n",
       "  <clipPath id=\"clip281\">\n",
       "    <rect x=\"480\" y=\"0\" width=\"1681\" height=\"1600\"/>\n",
       "  </clipPath>\n",
       "</defs>\n",
       "<path clip-path=\"url(#clip280)\" d=\"M156.112 1486.45 L2352.76 1486.45 L2352.76 47.2441 L156.112 47.2441  Z\" fill=\"#ffffff\" fill-rule=\"evenodd\" fill-opacity=\"1\"/>\n",
       "<defs>\n",
       "  <clipPath id=\"clip282\">\n",
       "    <rect x=\"156\" y=\"47\" width=\"2198\" height=\"1440\"/>\n",
       "  </clipPath>\n",
       "</defs>\n",
       "<polyline clip-path=\"url(#clip282)\" style=\"stroke:#000000; stroke-linecap:round; stroke-linejoin:round; stroke-width:2; stroke-opacity:0.1; fill:none\" points=\"236.129,1486.45 236.129,47.2441 \"/>\n",
       "<polyline clip-path=\"url(#clip282)\" style=\"stroke:#000000; stroke-linecap:round; stroke-linejoin:round; stroke-width:2; stroke-opacity:0.1; fill:none\" points=\"575.564,1486.45 575.564,47.2441 \"/>\n",
       "<polyline clip-path=\"url(#clip282)\" style=\"stroke:#000000; stroke-linecap:round; stroke-linejoin:round; stroke-width:2; stroke-opacity:0.1; fill:none\" points=\"914.999,1486.45 914.999,47.2441 \"/>\n",
       "<polyline clip-path=\"url(#clip282)\" style=\"stroke:#000000; stroke-linecap:round; stroke-linejoin:round; stroke-width:2; stroke-opacity:0.1; fill:none\" points=\"1254.43,1486.45 1254.43,47.2441 \"/>\n",
       "<polyline clip-path=\"url(#clip282)\" style=\"stroke:#000000; stroke-linecap:round; stroke-linejoin:round; stroke-width:2; stroke-opacity:0.1; fill:none\" points=\"1593.87,1486.45 1593.87,47.2441 \"/>\n",
       "<polyline clip-path=\"url(#clip282)\" style=\"stroke:#000000; stroke-linecap:round; stroke-linejoin:round; stroke-width:2; stroke-opacity:0.1; fill:none\" points=\"1933.3,1486.45 1933.3,47.2441 \"/>\n",
       "<polyline clip-path=\"url(#clip282)\" style=\"stroke:#000000; stroke-linecap:round; stroke-linejoin:round; stroke-width:2; stroke-opacity:0.1; fill:none\" points=\"2272.74,1486.45 2272.74,47.2441 \"/>\n",
       "<polyline clip-path=\"url(#clip280)\" style=\"stroke:#000000; stroke-linecap:round; stroke-linejoin:round; stroke-width:4; stroke-opacity:1; fill:none\" points=\"156.112,1486.45 2352.76,1486.45 \"/>\n",
       "<polyline clip-path=\"url(#clip280)\" style=\"stroke:#000000; stroke-linecap:round; stroke-linejoin:round; stroke-width:4; stroke-opacity:1; fill:none\" points=\"236.129,1486.45 236.129,1467.55 \"/>\n",
       "<polyline clip-path=\"url(#clip280)\" style=\"stroke:#000000; stroke-linecap:round; stroke-linejoin:round; stroke-width:4; stroke-opacity:1; fill:none\" points=\"575.564,1486.45 575.564,1467.55 \"/>\n",
       "<polyline clip-path=\"url(#clip280)\" style=\"stroke:#000000; stroke-linecap:round; stroke-linejoin:round; stroke-width:4; stroke-opacity:1; fill:none\" points=\"914.999,1486.45 914.999,1467.55 \"/>\n",
       "<polyline clip-path=\"url(#clip280)\" style=\"stroke:#000000; stroke-linecap:round; stroke-linejoin:round; stroke-width:4; stroke-opacity:1; fill:none\" points=\"1254.43,1486.45 1254.43,1467.55 \"/>\n",
       "<polyline clip-path=\"url(#clip280)\" style=\"stroke:#000000; stroke-linecap:round; stroke-linejoin:round; stroke-width:4; stroke-opacity:1; fill:none\" points=\"1593.87,1486.45 1593.87,1467.55 \"/>\n",
       "<polyline clip-path=\"url(#clip280)\" style=\"stroke:#000000; stroke-linecap:round; stroke-linejoin:round; stroke-width:4; stroke-opacity:1; fill:none\" points=\"1933.3,1486.45 1933.3,1467.55 \"/>\n",
       "<polyline clip-path=\"url(#clip280)\" style=\"stroke:#000000; stroke-linecap:round; stroke-linejoin:round; stroke-width:4; stroke-opacity:1; fill:none\" points=\"2272.74,1486.45 2272.74,1467.55 \"/>\n",
       "<path clip-path=\"url(#clip280)\" d=\"M183.155 1532.02 L212.831 1532.02 L212.831 1535.95 L183.155 1535.95 L183.155 1532.02 Z\" fill=\"#000000\" fill-rule=\"nonzero\" fill-opacity=\"1\" /><path clip-path=\"url(#clip280)\" d=\"M232.923 1517.37 Q229.312 1517.37 227.484 1520.93 Q225.678 1524.47 225.678 1531.6 Q225.678 1538.71 227.484 1542.27 Q229.312 1545.82 232.923 1545.82 Q236.558 1545.82 238.363 1542.27 Q240.192 1538.71 240.192 1531.6 Q240.192 1524.47 238.363 1520.93 Q236.558 1517.37 232.923 1517.37 M232.923 1513.66 Q238.734 1513.66 241.789 1518.27 Q244.868 1522.85 244.868 1531.6 Q244.868 1540.33 241.789 1544.94 Q238.734 1549.52 232.923 1549.52 Q227.113 1549.52 224.035 1544.94 Q220.979 1540.33 220.979 1531.6 Q220.979 1522.85 224.035 1518.27 Q227.113 1513.66 232.923 1513.66 Z\" fill=\"#000000\" fill-rule=\"nonzero\" fill-opacity=\"1\" /><path clip-path=\"url(#clip280)\" d=\"M253.085 1542.97 L257.97 1542.97 L257.97 1548.85 L253.085 1548.85 L253.085 1542.97 Z\" fill=\"#000000\" fill-rule=\"nonzero\" fill-opacity=\"1\" /><path clip-path=\"url(#clip280)\" d=\"M268.201 1514.29 L286.557 1514.29 L286.557 1518.22 L272.483 1518.22 L272.483 1526.7 Q273.502 1526.35 274.52 1526.19 Q275.539 1526 276.557 1526 Q282.344 1526 285.724 1529.17 Q289.104 1532.34 289.104 1537.76 Q289.104 1543.34 285.632 1546.44 Q282.159 1549.52 275.84 1549.52 Q273.664 1549.52 271.395 1549.15 Q269.15 1548.78 266.743 1548.04 L266.743 1543.34 Q268.826 1544.47 271.048 1545.03 Q273.27 1545.58 275.747 1545.58 Q279.752 1545.58 282.09 1543.48 Q284.428 1541.37 284.428 1537.76 Q284.428 1534.15 282.09 1532.04 Q279.752 1529.94 275.747 1529.94 Q273.872 1529.94 271.997 1530.35 Q270.145 1530.77 268.201 1531.65 L268.201 1514.29 Z\" fill=\"#000000\" fill-rule=\"nonzero\" fill-opacity=\"1\" /><path clip-path=\"url(#clip280)\" d=\"M552.949 1517.37 Q549.338 1517.37 547.509 1520.93 Q545.703 1524.47 545.703 1531.6 Q545.703 1538.71 547.509 1542.27 Q549.338 1545.82 552.949 1545.82 Q556.583 1545.82 558.388 1542.27 Q560.217 1538.71 560.217 1531.6 Q560.217 1524.47 558.388 1520.93 Q556.583 1517.37 552.949 1517.37 M552.949 1513.66 Q558.759 1513.66 561.814 1518.27 Q564.893 1522.85 564.893 1531.6 Q564.893 1540.33 561.814 1544.94 Q558.759 1549.52 552.949 1549.52 Q547.139 1549.52 544.06 1544.94 Q541.004 1540.33 541.004 1531.6 Q541.004 1522.85 544.06 1518.27 Q547.139 1513.66 552.949 1513.66 Z\" fill=\"#000000\" fill-rule=\"nonzero\" fill-opacity=\"1\" /><path clip-path=\"url(#clip280)\" d=\"M573.111 1542.97 L577.995 1542.97 L577.995 1548.85 L573.111 1548.85 L573.111 1542.97 Z\" fill=\"#000000\" fill-rule=\"nonzero\" fill-opacity=\"1\" /><path clip-path=\"url(#clip280)\" d=\"M598.18 1517.37 Q594.569 1517.37 592.74 1520.93 Q590.935 1524.47 590.935 1531.6 Q590.935 1538.71 592.74 1542.27 Q594.569 1545.82 598.18 1545.82 Q601.814 1545.82 603.62 1542.27 Q605.448 1538.71 605.448 1531.6 Q605.448 1524.47 603.62 1520.93 Q601.814 1517.37 598.18 1517.37 M598.18 1513.66 Q603.99 1513.66 607.046 1518.27 Q610.124 1522.85 610.124 1531.6 Q610.124 1540.33 607.046 1544.94 Q603.99 1549.52 598.18 1549.52 Q592.37 1549.52 589.291 1544.94 Q586.236 1540.33 586.236 1531.6 Q586.236 1522.85 589.291 1518.27 Q592.37 1513.66 598.18 1513.66 Z\" fill=\"#000000\" fill-rule=\"nonzero\" fill-opacity=\"1\" /><path clip-path=\"url(#clip280)\" d=\"M892.881 1517.37 Q889.27 1517.37 887.441 1520.93 Q885.636 1524.47 885.636 1531.6 Q885.636 1538.71 887.441 1542.27 Q889.27 1545.82 892.881 1545.82 Q896.515 1545.82 898.321 1542.27 Q900.15 1538.71 900.15 1531.6 Q900.15 1524.47 898.321 1520.93 Q896.515 1517.37 892.881 1517.37 M892.881 1513.66 Q898.691 1513.66 901.747 1518.27 Q904.826 1522.85 904.826 1531.6 Q904.826 1540.33 901.747 1544.94 Q898.691 1549.52 892.881 1549.52 Q887.071 1549.52 883.992 1544.94 Q880.937 1540.33 880.937 1531.6 Q880.937 1522.85 883.992 1518.27 Q887.071 1513.66 892.881 1513.66 Z\" fill=\"#000000\" fill-rule=\"nonzero\" fill-opacity=\"1\" /><path clip-path=\"url(#clip280)\" d=\"M913.043 1542.97 L917.927 1542.97 L917.927 1548.85 L913.043 1548.85 L913.043 1542.97 Z\" fill=\"#000000\" fill-rule=\"nonzero\" fill-opacity=\"1\" /><path clip-path=\"url(#clip280)\" d=\"M928.159 1514.29 L946.515 1514.29 L946.515 1518.22 L932.441 1518.22 L932.441 1526.7 Q933.46 1526.35 934.478 1526.19 Q935.497 1526 936.515 1526 Q942.302 1526 945.682 1529.17 Q949.061 1532.34 949.061 1537.76 Q949.061 1543.34 945.589 1546.44 Q942.117 1549.52 935.798 1549.52 Q933.622 1549.52 931.353 1549.15 Q929.108 1548.78 926.7 1548.04 L926.7 1543.34 Q928.784 1544.47 931.006 1545.03 Q933.228 1545.58 935.705 1545.58 Q939.71 1545.58 942.048 1543.48 Q944.386 1541.37 944.386 1537.76 Q944.386 1534.15 942.048 1532.04 Q939.71 1529.94 935.705 1529.94 Q933.83 1529.94 931.955 1530.35 Q930.103 1530.77 928.159 1531.65 L928.159 1514.29 Z\" fill=\"#000000\" fill-rule=\"nonzero\" fill-opacity=\"1\" /><path clip-path=\"url(#clip280)\" d=\"M1221.59 1544.91 L1229.23 1544.91 L1229.23 1518.55 L1220.92 1520.21 L1220.92 1515.95 L1229.18 1514.29 L1233.86 1514.29 L1233.86 1544.91 L1241.49 1544.91 L1241.49 1548.85 L1221.59 1548.85 L1221.59 1544.91 Z\" fill=\"#000000\" fill-rule=\"nonzero\" fill-opacity=\"1\" /><path clip-path=\"url(#clip280)\" d=\"M1250.94 1542.97 L1255.82 1542.97 L1255.82 1548.85 L1250.94 1548.85 L1250.94 1542.97 Z\" fill=\"#000000\" fill-rule=\"nonzero\" fill-opacity=\"1\" /><path clip-path=\"url(#clip280)\" d=\"M1276.01 1517.37 Q1272.4 1517.37 1270.57 1520.93 Q1268.76 1524.47 1268.76 1531.6 Q1268.76 1538.71 1270.57 1542.27 Q1272.4 1545.82 1276.01 1545.82 Q1279.64 1545.82 1281.45 1542.27 Q1283.28 1538.71 1283.28 1531.6 Q1283.28 1524.47 1281.45 1520.93 Q1279.64 1517.37 1276.01 1517.37 M1276.01 1513.66 Q1281.82 1513.66 1284.87 1518.27 Q1287.95 1522.85 1287.95 1531.6 Q1287.95 1540.33 1284.87 1544.94 Q1281.82 1549.52 1276.01 1549.52 Q1270.2 1549.52 1267.12 1544.94 Q1264.06 1540.33 1264.06 1531.6 Q1264.06 1522.85 1267.12 1518.27 Q1270.2 1513.66 1276.01 1513.66 Z\" fill=\"#000000\" fill-rule=\"nonzero\" fill-opacity=\"1\" /><path clip-path=\"url(#clip280)\" d=\"M1561.52 1544.91 L1569.16 1544.91 L1569.16 1518.55 L1560.85 1520.21 L1560.85 1515.95 L1569.11 1514.29 L1573.79 1514.29 L1573.79 1544.91 L1581.43 1544.91 L1581.43 1548.85 L1561.52 1548.85 L1561.52 1544.91 Z\" fill=\"#000000\" fill-rule=\"nonzero\" fill-opacity=\"1\" /><path clip-path=\"url(#clip280)\" d=\"M1590.87 1542.97 L1595.76 1542.97 L1595.76 1548.85 L1590.87 1548.85 L1590.87 1542.97 Z\" fill=\"#000000\" fill-rule=\"nonzero\" fill-opacity=\"1\" /><path clip-path=\"url(#clip280)\" d=\"M1605.99 1514.29 L1624.34 1514.29 L1624.34 1518.22 L1610.27 1518.22 L1610.27 1526.7 Q1611.29 1526.35 1612.31 1526.19 Q1613.32 1526 1614.34 1526 Q1620.13 1526 1623.51 1529.17 Q1626.89 1532.34 1626.89 1537.76 Q1626.89 1543.34 1623.42 1546.44 Q1619.95 1549.52 1613.63 1549.52 Q1611.45 1549.52 1609.18 1549.15 Q1606.94 1548.78 1604.53 1548.04 L1604.53 1543.34 Q1606.61 1544.47 1608.83 1545.03 Q1611.06 1545.58 1613.53 1545.58 Q1617.54 1545.58 1619.88 1543.48 Q1622.21 1541.37 1622.21 1537.76 Q1622.21 1534.15 1619.88 1532.04 Q1617.54 1529.94 1613.53 1529.94 Q1611.66 1529.94 1609.78 1530.35 Q1607.93 1530.77 1605.99 1531.65 L1605.99 1514.29 Z\" fill=\"#000000\" fill-rule=\"nonzero\" fill-opacity=\"1\" /><path clip-path=\"url(#clip280)\" d=\"M1904.54 1544.91 L1920.86 1544.91 L1920.86 1548.85 L1898.92 1548.85 L1898.92 1544.91 Q1901.58 1542.16 1906.16 1537.53 Q1910.77 1532.88 1911.95 1531.53 Q1914.2 1529.01 1915.07 1527.27 Q1915.98 1525.51 1915.98 1523.82 Q1915.98 1521.07 1914.03 1519.33 Q1912.11 1517.6 1909.01 1517.6 Q1906.81 1517.6 1904.36 1518.36 Q1901.93 1519.13 1899.15 1520.68 L1899.15 1515.95 Q1901.97 1514.82 1904.43 1514.24 Q1906.88 1513.66 1908.92 1513.66 Q1914.29 1513.66 1917.48 1516.35 Q1920.68 1519.03 1920.68 1523.52 Q1920.68 1525.65 1919.87 1527.57 Q1919.08 1529.47 1916.97 1532.07 Q1916.39 1532.74 1913.29 1535.95 Q1910.19 1539.15 1904.54 1544.91 Z\" fill=\"#000000\" fill-rule=\"nonzero\" fill-opacity=\"1\" /><path clip-path=\"url(#clip280)\" d=\"M1930.68 1542.97 L1935.56 1542.97 L1935.56 1548.85 L1930.68 1548.85 L1930.68 1542.97 Z\" fill=\"#000000\" fill-rule=\"nonzero\" fill-opacity=\"1\" /><path clip-path=\"url(#clip280)\" d=\"M1955.75 1517.37 Q1952.13 1517.37 1950.31 1520.93 Q1948.5 1524.47 1948.5 1531.6 Q1948.5 1538.71 1950.31 1542.27 Q1952.13 1545.82 1955.75 1545.82 Q1959.38 1545.82 1961.19 1542.27 Q1963.01 1538.71 1963.01 1531.6 Q1963.01 1524.47 1961.19 1520.93 Q1959.38 1517.37 1955.75 1517.37 M1955.75 1513.66 Q1961.56 1513.66 1964.61 1518.27 Q1967.69 1522.85 1967.69 1531.6 Q1967.69 1540.33 1964.61 1544.94 Q1961.56 1549.52 1955.75 1549.52 Q1949.94 1549.52 1946.86 1544.94 Q1943.8 1540.33 1943.8 1531.6 Q1943.8 1522.85 1946.86 1518.27 Q1949.94 1513.66 1955.75 1513.66 Z\" fill=\"#000000\" fill-rule=\"nonzero\" fill-opacity=\"1\" /><path clip-path=\"url(#clip280)\" d=\"M2244.47 1544.91 L2260.79 1544.91 L2260.79 1548.85 L2238.85 1548.85 L2238.85 1544.91 Q2241.51 1542.16 2246.1 1537.53 Q2250.7 1532.88 2251.88 1531.53 Q2254.13 1529.01 2255.01 1527.27 Q2255.91 1525.51 2255.91 1523.82 Q2255.91 1521.07 2253.97 1519.33 Q2252.04 1517.6 2248.94 1517.6 Q2246.74 1517.6 2244.29 1518.36 Q2241.86 1519.13 2239.08 1520.68 L2239.08 1515.95 Q2241.91 1514.82 2244.36 1514.24 Q2246.81 1513.66 2248.85 1513.66 Q2254.22 1513.66 2257.41 1516.35 Q2260.61 1519.03 2260.61 1523.52 Q2260.61 1525.65 2259.8 1527.57 Q2259.01 1529.47 2256.91 1532.07 Q2256.33 1532.74 2253.22 1535.95 Q2250.12 1539.15 2244.47 1544.91 Z\" fill=\"#000000\" fill-rule=\"nonzero\" fill-opacity=\"1\" /><path clip-path=\"url(#clip280)\" d=\"M2270.61 1542.97 L2275.49 1542.97 L2275.49 1548.85 L2270.61 1548.85 L2270.61 1542.97 Z\" fill=\"#000000\" fill-rule=\"nonzero\" fill-opacity=\"1\" /><path clip-path=\"url(#clip280)\" d=\"M2285.72 1514.29 L2304.08 1514.29 L2304.08 1518.22 L2290.01 1518.22 L2290.01 1526.7 Q2291.03 1526.35 2292.04 1526.19 Q2293.06 1526 2294.08 1526 Q2299.87 1526 2303.25 1529.17 Q2306.63 1532.34 2306.63 1537.76 Q2306.63 1543.34 2303.16 1546.44 Q2299.68 1549.52 2293.36 1549.52 Q2291.19 1549.52 2288.92 1549.15 Q2286.67 1548.78 2284.27 1548.04 L2284.27 1543.34 Q2286.35 1544.47 2288.57 1545.03 Q2290.79 1545.58 2293.27 1545.58 Q2297.28 1545.58 2299.61 1543.48 Q2301.95 1541.37 2301.95 1537.76 Q2301.95 1534.15 2299.61 1532.04 Q2297.28 1529.94 2293.27 1529.94 Q2291.4 1529.94 2289.52 1530.35 Q2287.67 1530.77 2285.72 1531.65 L2285.72 1514.29 Z\" fill=\"#000000\" fill-rule=\"nonzero\" fill-opacity=\"1\" /><polyline clip-path=\"url(#clip282)\" style=\"stroke:#000000; stroke-linecap:round; stroke-linejoin:round; stroke-width:2; stroke-opacity:0.1; fill:none\" points=\"156.112,1445.72 2352.76,1445.72 \"/>\n",
       "<polyline clip-path=\"url(#clip282)\" style=\"stroke:#000000; stroke-linecap:round; stroke-linejoin:round; stroke-width:2; stroke-opacity:0.1; fill:none\" points=\"156.112,1106.28 2352.76,1106.28 \"/>\n",
       "<polyline clip-path=\"url(#clip282)\" style=\"stroke:#000000; stroke-linecap:round; stroke-linejoin:round; stroke-width:2; stroke-opacity:0.1; fill:none\" points=\"156.112,766.846 2352.76,766.846 \"/>\n",
       "<polyline clip-path=\"url(#clip282)\" style=\"stroke:#000000; stroke-linecap:round; stroke-linejoin:round; stroke-width:2; stroke-opacity:0.1; fill:none\" points=\"156.112,427.411 2352.76,427.411 \"/>\n",
       "<polyline clip-path=\"url(#clip282)\" style=\"stroke:#000000; stroke-linecap:round; stroke-linejoin:round; stroke-width:2; stroke-opacity:0.1; fill:none\" points=\"156.112,87.9763 2352.76,87.9763 \"/>\n",
       "<polyline clip-path=\"url(#clip280)\" style=\"stroke:#000000; stroke-linecap:round; stroke-linejoin:round; stroke-width:4; stroke-opacity:1; fill:none\" points=\"156.112,1486.45 156.112,47.2441 \"/>\n",
       "<polyline clip-path=\"url(#clip280)\" style=\"stroke:#000000; stroke-linecap:round; stroke-linejoin:round; stroke-width:4; stroke-opacity:1; fill:none\" points=\"156.112,1445.72 175.01,1445.72 \"/>\n",
       "<polyline clip-path=\"url(#clip280)\" style=\"stroke:#000000; stroke-linecap:round; stroke-linejoin:round; stroke-width:4; stroke-opacity:1; fill:none\" points=\"156.112,1106.28 175.01,1106.28 \"/>\n",
       "<polyline clip-path=\"url(#clip280)\" style=\"stroke:#000000; stroke-linecap:round; stroke-linejoin:round; stroke-width:4; stroke-opacity:1; fill:none\" points=\"156.112,766.846 175.01,766.846 \"/>\n",
       "<polyline clip-path=\"url(#clip280)\" style=\"stroke:#000000; stroke-linecap:round; stroke-linejoin:round; stroke-width:4; stroke-opacity:1; fill:none\" points=\"156.112,427.411 175.01,427.411 \"/>\n",
       "<polyline clip-path=\"url(#clip280)\" style=\"stroke:#000000; stroke-linecap:round; stroke-linejoin:round; stroke-width:4; stroke-opacity:1; fill:none\" points=\"156.112,87.9763 175.01,87.9763 \"/>\n",
       "<path clip-path=\"url(#clip280)\" d=\"M62.9365 1431.51 Q59.3254 1431.51 57.4967 1435.08 Q55.6912 1438.62 55.6912 1445.75 Q55.6912 1452.86 57.4967 1456.42 Q59.3254 1459.96 62.9365 1459.96 Q66.5707 1459.96 68.3763 1456.42 Q70.205 1452.86 70.205 1445.75 Q70.205 1438.62 68.3763 1435.08 Q66.5707 1431.51 62.9365 1431.51 M62.9365 1427.81 Q68.7467 1427.81 71.8022 1432.42 Q74.8809 1437 74.8809 1445.75 Q74.8809 1454.48 71.8022 1459.08 Q68.7467 1463.67 62.9365 1463.67 Q57.1264 1463.67 54.0477 1459.08 Q50.9921 1454.48 50.9921 1445.75 Q50.9921 1437 54.0477 1432.42 Q57.1264 1427.81 62.9365 1427.81 Z\" fill=\"#000000\" fill-rule=\"nonzero\" fill-opacity=\"1\" /><path clip-path=\"url(#clip280)\" d=\"M83.0984 1457.12 L87.9827 1457.12 L87.9827 1463 L83.0984 1463 L83.0984 1457.12 Z\" fill=\"#000000\" fill-rule=\"nonzero\" fill-opacity=\"1\" /><path clip-path=\"url(#clip280)\" d=\"M108.168 1431.51 Q104.557 1431.51 102.728 1435.08 Q100.922 1438.62 100.922 1445.75 Q100.922 1452.86 102.728 1456.42 Q104.557 1459.96 108.168 1459.96 Q111.802 1459.96 113.608 1456.42 Q115.436 1452.86 115.436 1445.75 Q115.436 1438.62 113.608 1435.08 Q111.802 1431.51 108.168 1431.51 M108.168 1427.81 Q113.978 1427.81 117.033 1432.42 Q120.112 1437 120.112 1445.75 Q120.112 1454.48 117.033 1459.08 Q113.978 1463.67 108.168 1463.67 Q102.358 1463.67 99.2789 1459.08 Q96.2234 1454.48 96.2234 1445.75 Q96.2234 1437 99.2789 1432.42 Q102.358 1427.81 108.168 1427.81 Z\" fill=\"#000000\" fill-rule=\"nonzero\" fill-opacity=\"1\" /><path clip-path=\"url(#clip280)\" d=\"M63.9319 1092.08 Q60.3208 1092.08 58.4921 1095.64 Q56.6865 1099.19 56.6865 1106.32 Q56.6865 1113.42 58.4921 1116.99 Q60.3208 1120.53 63.9319 1120.53 Q67.5661 1120.53 69.3717 1116.99 Q71.2004 1113.42 71.2004 1106.32 Q71.2004 1099.19 69.3717 1095.64 Q67.5661 1092.08 63.9319 1092.08 M63.9319 1088.38 Q69.742 1088.38 72.7976 1092.98 Q75.8763 1097.57 75.8763 1106.32 Q75.8763 1115.04 72.7976 1119.65 Q69.742 1124.23 63.9319 1124.23 Q58.1217 1124.23 55.043 1119.65 Q51.9875 1115.04 51.9875 1106.32 Q51.9875 1097.57 55.043 1092.98 Q58.1217 1088.38 63.9319 1088.38 Z\" fill=\"#000000\" fill-rule=\"nonzero\" fill-opacity=\"1\" /><path clip-path=\"url(#clip280)\" d=\"M84.0938 1117.68 L88.978 1117.68 L88.978 1123.56 L84.0938 1123.56 L84.0938 1117.68 Z\" fill=\"#000000\" fill-rule=\"nonzero\" fill-opacity=\"1\" /><path clip-path=\"url(#clip280)\" d=\"M99.2095 1089 L117.566 1089 L117.566 1092.94 L103.492 1092.94 L103.492 1101.41 Q104.51 1101.06 105.529 1100.9 Q106.547 1100.71 107.566 1100.71 Q113.353 1100.71 116.733 1103.89 Q120.112 1107.06 120.112 1112.47 Q120.112 1118.05 116.64 1121.15 Q113.168 1124.23 106.848 1124.23 Q104.672 1124.23 102.404 1123.86 Q100.159 1123.49 97.7511 1122.75 L97.7511 1118.05 Q99.8345 1119.19 102.057 1119.74 Q104.279 1120.3 106.756 1120.3 Q110.76 1120.3 113.098 1118.19 Q115.436 1116.08 115.436 1112.47 Q115.436 1108.86 113.098 1106.76 Q110.76 1104.65 106.756 1104.65 Q104.881 1104.65 103.006 1105.07 Q101.154 1105.48 99.2095 1106.36 L99.2095 1089 Z\" fill=\"#000000\" fill-rule=\"nonzero\" fill-opacity=\"1\" /><path clip-path=\"url(#clip280)\" d=\"M53.7467 780.191 L61.3856 780.191 L61.3856 753.825 L53.0754 755.492 L53.0754 751.233 L61.3393 749.566 L66.0152 749.566 L66.0152 780.191 L73.654 780.191 L73.654 784.126 L53.7467 784.126 L53.7467 780.191 Z\" fill=\"#000000\" fill-rule=\"nonzero\" fill-opacity=\"1\" /><path clip-path=\"url(#clip280)\" d=\"M83.0984 778.246 L87.9827 778.246 L87.9827 784.126 L83.0984 784.126 L83.0984 778.246 Z\" fill=\"#000000\" fill-rule=\"nonzero\" fill-opacity=\"1\" /><path clip-path=\"url(#clip280)\" d=\"M108.168 752.645 Q104.557 752.645 102.728 756.209 Q100.922 759.751 100.922 766.881 Q100.922 773.987 102.728 777.552 Q104.557 781.094 108.168 781.094 Q111.802 781.094 113.608 777.552 Q115.436 773.987 115.436 766.881 Q115.436 759.751 113.608 756.209 Q111.802 752.645 108.168 752.645 M108.168 748.941 Q113.978 748.941 117.033 753.547 Q120.112 758.131 120.112 766.881 Q120.112 775.608 117.033 780.214 Q113.978 784.797 108.168 784.797 Q102.358 784.797 99.2789 780.214 Q96.2234 775.608 96.2234 766.881 Q96.2234 758.131 99.2789 753.547 Q102.358 748.941 108.168 748.941 Z\" fill=\"#000000\" fill-rule=\"nonzero\" fill-opacity=\"1\" /><path clip-path=\"url(#clip280)\" d=\"M54.7421 440.756 L62.381 440.756 L62.381 414.39 L54.0708 416.057 L54.0708 411.798 L62.3347 410.131 L67.0106 410.131 L67.0106 440.756 L74.6494 440.756 L74.6494 444.691 L54.7421 444.691 L54.7421 440.756 Z\" fill=\"#000000\" fill-rule=\"nonzero\" fill-opacity=\"1\" /><path clip-path=\"url(#clip280)\" d=\"M84.0938 438.812 L88.978 438.812 L88.978 444.691 L84.0938 444.691 L84.0938 438.812 Z\" fill=\"#000000\" fill-rule=\"nonzero\" fill-opacity=\"1\" /><path clip-path=\"url(#clip280)\" d=\"M99.2095 410.131 L117.566 410.131 L117.566 414.066 L103.492 414.066 L103.492 422.538 Q104.51 422.191 105.529 422.029 Q106.547 421.844 107.566 421.844 Q113.353 421.844 116.733 425.015 Q120.112 428.187 120.112 433.603 Q120.112 439.182 116.64 442.284 Q113.168 445.362 106.848 445.362 Q104.672 445.362 102.404 444.992 Q100.159 444.622 97.7511 443.881 L97.7511 439.182 Q99.8345 440.316 102.057 440.872 Q104.279 441.427 106.756 441.427 Q110.76 441.427 113.098 439.321 Q115.436 437.214 115.436 433.603 Q115.436 429.992 113.098 427.886 Q110.76 425.779 106.756 425.779 Q104.881 425.779 103.006 426.196 Q101.154 426.613 99.2095 427.492 L99.2095 410.131 Z\" fill=\"#000000\" fill-rule=\"nonzero\" fill-opacity=\"1\" /><path clip-path=\"url(#clip280)\" d=\"M56.9643 101.321 L73.2837 101.321 L73.2837 105.256 L51.3393 105.256 L51.3393 101.321 Q54.0014 98.5665 58.5847 93.9369 Q63.1911 89.2841 64.3717 87.9416 Q66.617 85.4184 67.4967 83.6823 Q68.3994 81.9231 68.3994 80.2333 Q68.3994 77.4786 66.455 75.7425 Q64.5337 74.0064 61.4319 74.0064 Q59.2328 74.0064 56.7791 74.7703 Q54.3486 75.5342 51.5708 77.0851 L51.5708 72.3629 Q54.3949 71.2287 56.8486 70.65 Q59.3023 70.0713 61.3393 70.0713 Q66.7096 70.0713 69.9041 72.7565 Q73.0985 75.4416 73.0985 79.9323 Q73.0985 82.062 72.2883 83.9832 Q71.5013 85.8814 69.3948 88.474 Q68.8161 89.1453 65.7143 92.3628 Q62.6124 95.5573 56.9643 101.321 Z\" fill=\"#000000\" fill-rule=\"nonzero\" fill-opacity=\"1\" /><path clip-path=\"url(#clip280)\" d=\"M83.0984 99.3767 L87.9827 99.3767 L87.9827 105.256 L83.0984 105.256 L83.0984 99.3767 Z\" fill=\"#000000\" fill-rule=\"nonzero\" fill-opacity=\"1\" /><path clip-path=\"url(#clip280)\" d=\"M108.168 73.775 Q104.557 73.775 102.728 77.3398 Q100.922 80.8814 100.922 88.011 Q100.922 95.1174 102.728 98.6822 Q104.557 102.224 108.168 102.224 Q111.802 102.224 113.608 98.6822 Q115.436 95.1174 115.436 88.011 Q115.436 80.8814 113.608 77.3398 Q111.802 73.775 108.168 73.775 M108.168 70.0713 Q113.978 70.0713 117.033 74.6777 Q120.112 79.261 120.112 88.011 Q120.112 96.7378 117.033 101.344 Q113.978 105.928 108.168 105.928 Q102.358 105.928 99.2789 101.344 Q96.2234 96.7378 96.2234 88.011 Q96.2234 79.261 99.2789 74.6777 Q102.358 70.0713 108.168 70.0713 Z\" fill=\"#000000\" fill-rule=\"nonzero\" fill-opacity=\"1\" /><circle clip-path=\"url(#clip282)\" cx=\"575.564\" cy=\"1445.72\" r=\"14.4\" fill=\"#009af9\" fill-rule=\"evenodd\" fill-opacity=\"1\" stroke=\"#000000\" stroke-opacity=\"1\" stroke-width=\"3.2\"/>\n",
       "<circle clip-path=\"url(#clip282)\" cx=\"1254.43\" cy=\"1445.72\" r=\"14.4\" fill=\"#009af9\" fill-rule=\"evenodd\" fill-opacity=\"1\" stroke=\"#000000\" stroke-opacity=\"1\" stroke-width=\"3.2\"/>\n",
       "<circle clip-path=\"url(#clip282)\" cx=\"1933.3\" cy=\"1445.72\" r=\"14.4\" fill=\"#009af9\" fill-rule=\"evenodd\" fill-opacity=\"1\" stroke=\"#000000\" stroke-opacity=\"1\" stroke-width=\"3.2\"/>\n",
       "<circle clip-path=\"url(#clip282)\" cx=\"575.564\" cy=\"766.846\" r=\"14.4\" fill=\"#009af9\" fill-rule=\"evenodd\" fill-opacity=\"1\" stroke=\"#000000\" stroke-opacity=\"1\" stroke-width=\"3.2\"/>\n",
       "<circle clip-path=\"url(#clip282)\" cx=\"1254.43\" cy=\"766.846\" r=\"14.4\" fill=\"#009af9\" fill-rule=\"evenodd\" fill-opacity=\"1\" stroke=\"#000000\" stroke-opacity=\"1\" stroke-width=\"3.2\"/>\n",
       "<circle clip-path=\"url(#clip282)\" cx=\"1933.3\" cy=\"766.846\" r=\"14.4\" fill=\"#009af9\" fill-rule=\"evenodd\" fill-opacity=\"1\" stroke=\"#000000\" stroke-opacity=\"1\" stroke-width=\"3.2\"/>\n",
       "<circle clip-path=\"url(#clip282)\" cx=\"575.564\" cy=\"87.9763\" r=\"14.4\" fill=\"#009af9\" fill-rule=\"evenodd\" fill-opacity=\"1\" stroke=\"#000000\" stroke-opacity=\"1\" stroke-width=\"3.2\"/>\n",
       "<circle clip-path=\"url(#clip282)\" cx=\"1254.43\" cy=\"87.9763\" r=\"14.4\" fill=\"#009af9\" fill-rule=\"evenodd\" fill-opacity=\"1\" stroke=\"#000000\" stroke-opacity=\"1\" stroke-width=\"3.2\"/>\n",
       "<circle clip-path=\"url(#clip282)\" cx=\"1933.3\" cy=\"87.9763\" r=\"14.4\" fill=\"#009af9\" fill-rule=\"evenodd\" fill-opacity=\"1\" stroke=\"#000000\" stroke-opacity=\"1\" stroke-width=\"3.2\"/>\n",
       "<path clip-path=\"url(#clip280)\" d=\"M558.733 1420.69 L572.101 1420.69 L572.101 1374.55 L557.558 1377.46 L557.558 1370.01 L572.02 1367.09 L580.203 1367.09 L580.203 1420.69 L593.571 1420.69 L593.571 1427.57 L558.733 1427.57 L558.733 1420.69 Z\" fill=\"#000000\" fill-rule=\"nonzero\" fill-opacity=\"1\" /><path clip-path=\"url(#clip280)\" d=\"M1245.08 1420.69 L1273.64 1420.69 L1273.64 1427.57 L1235.23 1427.57 L1235.23 1420.69 Q1239.89 1415.86 1247.91 1407.76 Q1255.97 1399.62 1258.04 1397.27 Q1261.97 1392.86 1263.51 1389.82 Q1265.09 1386.74 1265.09 1383.78 Q1265.09 1378.96 1261.69 1375.92 Q1258.32 1372.88 1252.89 1372.88 Q1249.05 1372.88 1244.75 1374.22 Q1240.5 1375.56 1235.64 1378.27 L1235.64 1370.01 Q1240.58 1368.02 1244.87 1367.01 Q1249.17 1366 1252.73 1366 Q1262.13 1366 1267.72 1370.7 Q1273.31 1375.4 1273.31 1383.25 Q1273.31 1386.98 1271.89 1390.34 Q1270.52 1393.67 1266.83 1398.2 Q1265.82 1399.38 1260.39 1405.01 Q1254.96 1410.6 1245.08 1420.69 Z\" fill=\"#000000\" fill-rule=\"nonzero\" fill-opacity=\"1\" /><path clip-path=\"url(#clip280)\" d=\"M1940.74 1394.96 Q1946.61 1396.22 1949.89 1400.19 Q1953.21 1404.16 1953.21 1409.99 Q1953.21 1418.94 1947.06 1423.84 Q1940.9 1428.75 1929.56 1428.75 Q1925.75 1428.75 1921.7 1427.98 Q1917.69 1427.25 1913.39 1425.75 L1913.39 1417.85 Q1916.8 1419.83 1920.85 1420.85 Q1924.9 1421.86 1929.31 1421.86 Q1937.01 1421.86 1941.02 1418.82 Q1945.07 1415.78 1945.07 1409.99 Q1945.07 1404.64 1941.3 1401.65 Q1937.58 1398.61 1930.89 1398.61 L1923.84 1398.61 L1923.84 1391.88 L1931.22 1391.88 Q1937.25 1391.88 1940.45 1389.49 Q1943.65 1387.06 1943.65 1382.53 Q1943.65 1377.87 1940.33 1375.4 Q1937.05 1372.88 1930.89 1372.88 Q1927.53 1372.88 1923.68 1373.61 Q1919.83 1374.34 1915.22 1375.88 L1915.22 1368.59 Q1919.87 1367.29 1923.93 1366.65 Q1928.02 1366 1931.62 1366 Q1940.94 1366 1946.37 1370.25 Q1951.8 1374.46 1951.8 1381.67 Q1951.8 1386.7 1948.92 1390.18 Q1946.04 1393.63 1940.74 1394.96 Z\" fill=\"#000000\" fill-rule=\"nonzero\" fill-opacity=\"1\" /><path clip-path=\"url(#clip280)\" d=\"M580.83 695.352 L560.171 727.637 L580.83 727.637 L580.83 695.352 M578.684 688.222 L588.973 688.222 L588.973 727.637 L597.601 727.637 L597.601 734.443 L588.973 734.443 L588.973 748.702 L580.83 748.702 L580.83 734.443 L553.527 734.443 L553.527 726.544 L578.684 688.222 Z\" fill=\"#000000\" fill-rule=\"nonzero\" fill-opacity=\"1\" /><path clip-path=\"url(#clip280)\" d=\"M1237.42 688.222 L1269.54 688.222 L1269.54 695.109 L1244.91 695.109 L1244.91 709.935 Q1246.7 709.327 1248.48 709.044 Q1250.26 708.72 1252.04 708.72 Q1262.17 708.72 1268.09 714.269 Q1274 719.819 1274 729.298 Q1274 739.061 1267.92 744.489 Q1261.85 749.877 1250.79 749.877 Q1246.98 749.877 1243.01 749.229 Q1239.08 748.58 1234.87 747.284 L1234.87 739.061 Q1238.51 741.046 1242.4 742.018 Q1246.29 742.99 1250.63 742.99 Q1257.63 742.99 1261.73 739.304 Q1265.82 735.618 1265.82 729.298 Q1265.82 722.979 1261.73 719.292 Q1257.63 715.606 1250.63 715.606 Q1247.34 715.606 1244.06 716.335 Q1240.82 717.064 1237.42 718.604 L1237.42 688.222 Z\" fill=\"#000000\" fill-rule=\"nonzero\" fill-opacity=\"1\" /><path clip-path=\"url(#clip280)\" d=\"M1934.01 715.201 Q1928.5 715.201 1925.26 718.968 Q1922.06 722.736 1922.06 729.298 Q1922.06 735.82 1925.26 739.628 Q1928.5 743.395 1934.01 743.395 Q1939.52 743.395 1942.72 739.628 Q1945.96 735.82 1945.96 729.298 Q1945.96 722.736 1942.72 718.968 Q1939.52 715.201 1934.01 715.201 M1950.26 689.559 L1950.26 697.012 Q1947.18 695.554 1944.02 694.784 Q1940.9 694.015 1937.82 694.015 Q1929.72 694.015 1925.42 699.483 Q1921.17 704.952 1920.56 716.011 Q1922.95 712.487 1926.56 710.623 Q1930.16 708.72 1934.5 708.72 Q1943.61 708.72 1948.88 714.269 Q1954.19 719.779 1954.19 729.298 Q1954.19 738.615 1948.68 744.246 Q1943.17 749.877 1934.01 749.877 Q1923.52 749.877 1917.97 741.856 Q1912.42 733.795 1912.42 718.523 Q1912.42 704.183 1919.23 695.676 Q1926.03 687.128 1937.5 687.128 Q1940.58 687.128 1943.69 687.736 Q1946.85 688.344 1950.26 689.559 Z\" fill=\"#000000\" fill-rule=\"nonzero\" fill-opacity=\"1\" /><path clip-path=\"url(#clip280)\" d=\"M556.12 9.35228 L595.009 9.35228 L595.009 12.8361 L573.053 69.8323 L564.505 69.8323 L585.165 16.2388 L556.12 16.2388 L556.12 9.35228 Z\" fill=\"#000000\" fill-rule=\"nonzero\" fill-opacity=\"1\" /><path clip-path=\"url(#clip280)\" d=\"M1254.43 41.1114 Q1248.6 41.1114 1245.24 44.2306 Q1241.92 47.3498 1241.92 52.8185 Q1241.92 58.2872 1245.24 61.4064 Q1248.6 64.5256 1254.43 64.5256 Q1260.27 64.5256 1263.63 61.4064 Q1266.99 58.2467 1266.99 52.8185 Q1266.99 47.3498 1263.63 44.2306 Q1260.31 41.1114 1254.43 41.1114 M1246.25 37.6276 Q1240.99 36.3313 1238.03 32.726 Q1235.11 29.1207 1235.11 23.9355 Q1235.11 16.6844 1240.26 12.4715 Q1245.44 8.25853 1254.43 8.25853 Q1263.47 8.25853 1268.61 12.4715 Q1273.76 16.6844 1273.76 23.9355 Q1273.76 29.1207 1270.8 32.726 Q1267.88 36.3313 1262.66 37.6276 Q1268.57 39.0049 1271.85 43.0153 Q1275.17 47.0257 1275.17 52.8185 Q1275.17 61.6089 1269.79 66.308 Q1264.44 71.007 1254.43 71.007 Q1244.43 71.007 1239.04 66.308 Q1233.69 61.6089 1233.69 52.8185 Q1233.69 47.0257 1237.02 43.0153 Q1240.34 39.0049 1246.25 37.6276 M1243.25 24.7052 Q1243.25 29.4043 1246.17 32.0373 Q1249.13 34.6704 1254.43 34.6704 Q1259.7 34.6704 1262.66 32.0373 Q1265.66 29.4043 1265.66 24.7052 Q1265.66 20.0062 1262.66 17.3731 Q1259.7 14.74 1254.43 14.74 Q1249.13 14.74 1246.17 17.3731 Q1243.25 20.0062 1243.25 24.7052 Z\" fill=\"#000000\" fill-rule=\"nonzero\" fill-opacity=\"1\" /><path clip-path=\"url(#clip280)\" d=\"M1916.33 68.5765 L1916.33 61.1228 Q1919.41 62.5812 1922.57 63.3508 Q1925.73 64.1205 1928.77 64.1205 Q1936.87 64.1205 1941.12 58.6923 Q1945.42 53.2236 1946.02 42.1241 Q1943.67 45.6079 1940.07 47.4713 Q1936.46 49.3347 1932.09 49.3347 Q1923.01 49.3347 1917.71 43.866 Q1912.44 38.3568 1912.44 28.8371 Q1912.44 19.52 1917.95 13.8893 Q1923.46 8.25853 1932.62 8.25853 Q1943.11 8.25853 1948.62 16.3198 Q1954.17 24.3406 1954.17 39.653 Q1954.17 53.9527 1947.36 62.5001 Q1940.6 71.007 1929.13 71.007 Q1926.05 71.007 1922.89 70.3994 Q1919.73 69.7918 1916.33 68.5765 M1932.62 42.9343 Q1938.12 42.9343 1941.32 39.1669 Q1944.57 35.3996 1944.57 28.8371 Q1944.57 22.3152 1941.32 18.5478 Q1938.12 14.74 1932.62 14.74 Q1927.11 14.74 1923.87 18.5478 Q1920.66 22.3152 1920.66 28.8371 Q1920.66 35.3996 1923.87 39.1669 Q1927.11 42.9343 1932.62 42.9343 Z\" fill=\"#000000\" fill-rule=\"nonzero\" fill-opacity=\"1\" /></svg>\n"
      ],
      "text/html": [
       "<?xml version=\"1.0\" encoding=\"utf-8\"?>\n",
       "<svg xmlns=\"http://www.w3.org/2000/svg\" xmlns:xlink=\"http://www.w3.org/1999/xlink\" width=\"600\" height=\"400\" viewBox=\"0 0 2400 1600\">\n",
       "<defs>\n",
       "  <clipPath id=\"clip330\">\n",
       "    <rect x=\"0\" y=\"0\" width=\"2400\" height=\"1600\"/>\n",
       "  </clipPath>\n",
       "</defs>\n",
       "<path clip-path=\"url(#clip330)\" d=\"M0 1600 L2400 1600 L2400 0 L0 0  Z\" fill=\"#ffffff\" fill-rule=\"evenodd\" fill-opacity=\"1\"/>\n",
       "<defs>\n",
       "  <clipPath id=\"clip331\">\n",
       "    <rect x=\"480\" y=\"0\" width=\"1681\" height=\"1600\"/>\n",
       "  </clipPath>\n",
       "</defs>\n",
       "<path clip-path=\"url(#clip330)\" d=\"M156.112 1486.45 L2352.76 1486.45 L2352.76 47.2441 L156.112 47.2441  Z\" fill=\"#ffffff\" fill-rule=\"evenodd\" fill-opacity=\"1\"/>\n",
       "<defs>\n",
       "  <clipPath id=\"clip332\">\n",
       "    <rect x=\"156\" y=\"47\" width=\"2198\" height=\"1440\"/>\n",
       "  </clipPath>\n",
       "</defs>\n",
       "<polyline clip-path=\"url(#clip332)\" style=\"stroke:#000000; stroke-linecap:round; stroke-linejoin:round; stroke-width:2; stroke-opacity:0.1; fill:none\" points=\"236.129,1486.45 236.129,47.2441 \"/>\n",
       "<polyline clip-path=\"url(#clip332)\" style=\"stroke:#000000; stroke-linecap:round; stroke-linejoin:round; stroke-width:2; stroke-opacity:0.1; fill:none\" points=\"575.564,1486.45 575.564,47.2441 \"/>\n",
       "<polyline clip-path=\"url(#clip332)\" style=\"stroke:#000000; stroke-linecap:round; stroke-linejoin:round; stroke-width:2; stroke-opacity:0.1; fill:none\" points=\"914.999,1486.45 914.999,47.2441 \"/>\n",
       "<polyline clip-path=\"url(#clip332)\" style=\"stroke:#000000; stroke-linecap:round; stroke-linejoin:round; stroke-width:2; stroke-opacity:0.1; fill:none\" points=\"1254.43,1486.45 1254.43,47.2441 \"/>\n",
       "<polyline clip-path=\"url(#clip332)\" style=\"stroke:#000000; stroke-linecap:round; stroke-linejoin:round; stroke-width:2; stroke-opacity:0.1; fill:none\" points=\"1593.87,1486.45 1593.87,47.2441 \"/>\n",
       "<polyline clip-path=\"url(#clip332)\" style=\"stroke:#000000; stroke-linecap:round; stroke-linejoin:round; stroke-width:2; stroke-opacity:0.1; fill:none\" points=\"1933.3,1486.45 1933.3,47.2441 \"/>\n",
       "<polyline clip-path=\"url(#clip332)\" style=\"stroke:#000000; stroke-linecap:round; stroke-linejoin:round; stroke-width:2; stroke-opacity:0.1; fill:none\" points=\"2272.74,1486.45 2272.74,47.2441 \"/>\n",
       "<polyline clip-path=\"url(#clip330)\" style=\"stroke:#000000; stroke-linecap:round; stroke-linejoin:round; stroke-width:4; stroke-opacity:1; fill:none\" points=\"156.112,1486.45 2352.76,1486.45 \"/>\n",
       "<polyline clip-path=\"url(#clip330)\" style=\"stroke:#000000; stroke-linecap:round; stroke-linejoin:round; stroke-width:4; stroke-opacity:1; fill:none\" points=\"236.129,1486.45 236.129,1467.55 \"/>\n",
       "<polyline clip-path=\"url(#clip330)\" style=\"stroke:#000000; stroke-linecap:round; stroke-linejoin:round; stroke-width:4; stroke-opacity:1; fill:none\" points=\"575.564,1486.45 575.564,1467.55 \"/>\n",
       "<polyline clip-path=\"url(#clip330)\" style=\"stroke:#000000; stroke-linecap:round; stroke-linejoin:round; stroke-width:4; stroke-opacity:1; fill:none\" points=\"914.999,1486.45 914.999,1467.55 \"/>\n",
       "<polyline clip-path=\"url(#clip330)\" style=\"stroke:#000000; stroke-linecap:round; stroke-linejoin:round; stroke-width:4; stroke-opacity:1; fill:none\" points=\"1254.43,1486.45 1254.43,1467.55 \"/>\n",
       "<polyline clip-path=\"url(#clip330)\" style=\"stroke:#000000; stroke-linecap:round; stroke-linejoin:round; stroke-width:4; stroke-opacity:1; fill:none\" points=\"1593.87,1486.45 1593.87,1467.55 \"/>\n",
       "<polyline clip-path=\"url(#clip330)\" style=\"stroke:#000000; stroke-linecap:round; stroke-linejoin:round; stroke-width:4; stroke-opacity:1; fill:none\" points=\"1933.3,1486.45 1933.3,1467.55 \"/>\n",
       "<polyline clip-path=\"url(#clip330)\" style=\"stroke:#000000; stroke-linecap:round; stroke-linejoin:round; stroke-width:4; stroke-opacity:1; fill:none\" points=\"2272.74,1486.45 2272.74,1467.55 \"/>\n",
       "<path clip-path=\"url(#clip330)\" d=\"M183.155 1532.02 L212.831 1532.02 L212.831 1535.95 L183.155 1535.95 L183.155 1532.02 Z\" fill=\"#000000\" fill-rule=\"nonzero\" fill-opacity=\"1\" /><path clip-path=\"url(#clip330)\" d=\"M232.923 1517.37 Q229.312 1517.37 227.484 1520.93 Q225.678 1524.47 225.678 1531.6 Q225.678 1538.71 227.484 1542.27 Q229.312 1545.82 232.923 1545.82 Q236.558 1545.82 238.363 1542.27 Q240.192 1538.71 240.192 1531.6 Q240.192 1524.47 238.363 1520.93 Q236.558 1517.37 232.923 1517.37 M232.923 1513.66 Q238.734 1513.66 241.789 1518.27 Q244.868 1522.85 244.868 1531.6 Q244.868 1540.33 241.789 1544.94 Q238.734 1549.52 232.923 1549.52 Q227.113 1549.52 224.035 1544.94 Q220.979 1540.33 220.979 1531.6 Q220.979 1522.85 224.035 1518.27 Q227.113 1513.66 232.923 1513.66 Z\" fill=\"#000000\" fill-rule=\"nonzero\" fill-opacity=\"1\" /><path clip-path=\"url(#clip330)\" d=\"M253.085 1542.97 L257.97 1542.97 L257.97 1548.85 L253.085 1548.85 L253.085 1542.97 Z\" fill=\"#000000\" fill-rule=\"nonzero\" fill-opacity=\"1\" /><path clip-path=\"url(#clip330)\" d=\"M268.201 1514.29 L286.557 1514.29 L286.557 1518.22 L272.483 1518.22 L272.483 1526.7 Q273.502 1526.35 274.52 1526.19 Q275.539 1526 276.557 1526 Q282.344 1526 285.724 1529.17 Q289.104 1532.34 289.104 1537.76 Q289.104 1543.34 285.632 1546.44 Q282.159 1549.52 275.84 1549.52 Q273.664 1549.52 271.395 1549.15 Q269.15 1548.78 266.743 1548.04 L266.743 1543.34 Q268.826 1544.47 271.048 1545.03 Q273.27 1545.58 275.747 1545.58 Q279.752 1545.58 282.09 1543.48 Q284.428 1541.37 284.428 1537.76 Q284.428 1534.15 282.09 1532.04 Q279.752 1529.94 275.747 1529.94 Q273.872 1529.94 271.997 1530.35 Q270.145 1530.77 268.201 1531.65 L268.201 1514.29 Z\" fill=\"#000000\" fill-rule=\"nonzero\" fill-opacity=\"1\" /><path clip-path=\"url(#clip330)\" d=\"M552.949 1517.37 Q549.338 1517.37 547.509 1520.93 Q545.703 1524.47 545.703 1531.6 Q545.703 1538.71 547.509 1542.27 Q549.338 1545.82 552.949 1545.82 Q556.583 1545.82 558.388 1542.27 Q560.217 1538.71 560.217 1531.6 Q560.217 1524.47 558.388 1520.93 Q556.583 1517.37 552.949 1517.37 M552.949 1513.66 Q558.759 1513.66 561.814 1518.27 Q564.893 1522.85 564.893 1531.6 Q564.893 1540.33 561.814 1544.94 Q558.759 1549.52 552.949 1549.52 Q547.139 1549.52 544.06 1544.94 Q541.004 1540.33 541.004 1531.6 Q541.004 1522.85 544.06 1518.27 Q547.139 1513.66 552.949 1513.66 Z\" fill=\"#000000\" fill-rule=\"nonzero\" fill-opacity=\"1\" /><path clip-path=\"url(#clip330)\" d=\"M573.111 1542.97 L577.995 1542.97 L577.995 1548.85 L573.111 1548.85 L573.111 1542.97 Z\" fill=\"#000000\" fill-rule=\"nonzero\" fill-opacity=\"1\" /><path clip-path=\"url(#clip330)\" d=\"M598.18 1517.37 Q594.569 1517.37 592.74 1520.93 Q590.935 1524.47 590.935 1531.6 Q590.935 1538.71 592.74 1542.27 Q594.569 1545.82 598.18 1545.82 Q601.814 1545.82 603.62 1542.27 Q605.448 1538.71 605.448 1531.6 Q605.448 1524.47 603.62 1520.93 Q601.814 1517.37 598.18 1517.37 M598.18 1513.66 Q603.99 1513.66 607.046 1518.27 Q610.124 1522.85 610.124 1531.6 Q610.124 1540.33 607.046 1544.94 Q603.99 1549.52 598.18 1549.52 Q592.37 1549.52 589.291 1544.94 Q586.236 1540.33 586.236 1531.6 Q586.236 1522.85 589.291 1518.27 Q592.37 1513.66 598.18 1513.66 Z\" fill=\"#000000\" fill-rule=\"nonzero\" fill-opacity=\"1\" /><path clip-path=\"url(#clip330)\" d=\"M892.881 1517.37 Q889.27 1517.37 887.441 1520.93 Q885.636 1524.47 885.636 1531.6 Q885.636 1538.71 887.441 1542.27 Q889.27 1545.82 892.881 1545.82 Q896.515 1545.82 898.321 1542.27 Q900.15 1538.71 900.15 1531.6 Q900.15 1524.47 898.321 1520.93 Q896.515 1517.37 892.881 1517.37 M892.881 1513.66 Q898.691 1513.66 901.747 1518.27 Q904.826 1522.85 904.826 1531.6 Q904.826 1540.33 901.747 1544.94 Q898.691 1549.52 892.881 1549.52 Q887.071 1549.52 883.992 1544.94 Q880.937 1540.33 880.937 1531.6 Q880.937 1522.85 883.992 1518.27 Q887.071 1513.66 892.881 1513.66 Z\" fill=\"#000000\" fill-rule=\"nonzero\" fill-opacity=\"1\" /><path clip-path=\"url(#clip330)\" d=\"M913.043 1542.97 L917.927 1542.97 L917.927 1548.85 L913.043 1548.85 L913.043 1542.97 Z\" fill=\"#000000\" fill-rule=\"nonzero\" fill-opacity=\"1\" /><path clip-path=\"url(#clip330)\" d=\"M928.159 1514.29 L946.515 1514.29 L946.515 1518.22 L932.441 1518.22 L932.441 1526.7 Q933.46 1526.35 934.478 1526.19 Q935.497 1526 936.515 1526 Q942.302 1526 945.682 1529.17 Q949.061 1532.34 949.061 1537.76 Q949.061 1543.34 945.589 1546.44 Q942.117 1549.52 935.798 1549.52 Q933.622 1549.52 931.353 1549.15 Q929.108 1548.78 926.7 1548.04 L926.7 1543.34 Q928.784 1544.47 931.006 1545.03 Q933.228 1545.58 935.705 1545.58 Q939.71 1545.58 942.048 1543.48 Q944.386 1541.37 944.386 1537.76 Q944.386 1534.15 942.048 1532.04 Q939.71 1529.94 935.705 1529.94 Q933.83 1529.94 931.955 1530.35 Q930.103 1530.77 928.159 1531.65 L928.159 1514.29 Z\" fill=\"#000000\" fill-rule=\"nonzero\" fill-opacity=\"1\" /><path clip-path=\"url(#clip330)\" d=\"M1221.59 1544.91 L1229.23 1544.91 L1229.23 1518.55 L1220.92 1520.21 L1220.92 1515.95 L1229.18 1514.29 L1233.86 1514.29 L1233.86 1544.91 L1241.49 1544.91 L1241.49 1548.85 L1221.59 1548.85 L1221.59 1544.91 Z\" fill=\"#000000\" fill-rule=\"nonzero\" fill-opacity=\"1\" /><path clip-path=\"url(#clip330)\" d=\"M1250.94 1542.97 L1255.82 1542.97 L1255.82 1548.85 L1250.94 1548.85 L1250.94 1542.97 Z\" fill=\"#000000\" fill-rule=\"nonzero\" fill-opacity=\"1\" /><path clip-path=\"url(#clip330)\" d=\"M1276.01 1517.37 Q1272.4 1517.37 1270.57 1520.93 Q1268.76 1524.47 1268.76 1531.6 Q1268.76 1538.71 1270.57 1542.27 Q1272.4 1545.82 1276.01 1545.82 Q1279.64 1545.82 1281.45 1542.27 Q1283.28 1538.71 1283.28 1531.6 Q1283.28 1524.47 1281.45 1520.93 Q1279.64 1517.37 1276.01 1517.37 M1276.01 1513.66 Q1281.82 1513.66 1284.87 1518.27 Q1287.95 1522.85 1287.95 1531.6 Q1287.95 1540.33 1284.87 1544.94 Q1281.82 1549.52 1276.01 1549.52 Q1270.2 1549.52 1267.12 1544.94 Q1264.06 1540.33 1264.06 1531.6 Q1264.06 1522.85 1267.12 1518.27 Q1270.2 1513.66 1276.01 1513.66 Z\" fill=\"#000000\" fill-rule=\"nonzero\" fill-opacity=\"1\" /><path clip-path=\"url(#clip330)\" d=\"M1561.52 1544.91 L1569.16 1544.91 L1569.16 1518.55 L1560.85 1520.21 L1560.85 1515.95 L1569.11 1514.29 L1573.79 1514.29 L1573.79 1544.91 L1581.43 1544.91 L1581.43 1548.85 L1561.52 1548.85 L1561.52 1544.91 Z\" fill=\"#000000\" fill-rule=\"nonzero\" fill-opacity=\"1\" /><path clip-path=\"url(#clip330)\" d=\"M1590.87 1542.97 L1595.76 1542.97 L1595.76 1548.85 L1590.87 1548.85 L1590.87 1542.97 Z\" fill=\"#000000\" fill-rule=\"nonzero\" fill-opacity=\"1\" /><path clip-path=\"url(#clip330)\" d=\"M1605.99 1514.29 L1624.34 1514.29 L1624.34 1518.22 L1610.27 1518.22 L1610.27 1526.7 Q1611.29 1526.35 1612.31 1526.19 Q1613.32 1526 1614.34 1526 Q1620.13 1526 1623.51 1529.17 Q1626.89 1532.34 1626.89 1537.76 Q1626.89 1543.34 1623.42 1546.44 Q1619.95 1549.52 1613.63 1549.52 Q1611.45 1549.52 1609.18 1549.15 Q1606.94 1548.78 1604.53 1548.04 L1604.53 1543.34 Q1606.61 1544.47 1608.83 1545.03 Q1611.06 1545.58 1613.53 1545.58 Q1617.54 1545.58 1619.88 1543.48 Q1622.21 1541.37 1622.21 1537.76 Q1622.21 1534.15 1619.88 1532.04 Q1617.54 1529.94 1613.53 1529.94 Q1611.66 1529.94 1609.78 1530.35 Q1607.93 1530.77 1605.99 1531.65 L1605.99 1514.29 Z\" fill=\"#000000\" fill-rule=\"nonzero\" fill-opacity=\"1\" /><path clip-path=\"url(#clip330)\" d=\"M1904.54 1544.91 L1920.86 1544.91 L1920.86 1548.85 L1898.92 1548.85 L1898.92 1544.91 Q1901.58 1542.16 1906.16 1537.53 Q1910.77 1532.88 1911.95 1531.53 Q1914.2 1529.01 1915.07 1527.27 Q1915.98 1525.51 1915.98 1523.82 Q1915.98 1521.07 1914.03 1519.33 Q1912.11 1517.6 1909.01 1517.6 Q1906.81 1517.6 1904.36 1518.36 Q1901.93 1519.13 1899.15 1520.68 L1899.15 1515.95 Q1901.97 1514.82 1904.43 1514.24 Q1906.88 1513.66 1908.92 1513.66 Q1914.29 1513.66 1917.48 1516.35 Q1920.68 1519.03 1920.68 1523.52 Q1920.68 1525.65 1919.87 1527.57 Q1919.08 1529.47 1916.97 1532.07 Q1916.39 1532.74 1913.29 1535.95 Q1910.19 1539.15 1904.54 1544.91 Z\" fill=\"#000000\" fill-rule=\"nonzero\" fill-opacity=\"1\" /><path clip-path=\"url(#clip330)\" d=\"M1930.68 1542.97 L1935.56 1542.97 L1935.56 1548.85 L1930.68 1548.85 L1930.68 1542.97 Z\" fill=\"#000000\" fill-rule=\"nonzero\" fill-opacity=\"1\" /><path clip-path=\"url(#clip330)\" d=\"M1955.75 1517.37 Q1952.13 1517.37 1950.31 1520.93 Q1948.5 1524.47 1948.5 1531.6 Q1948.5 1538.71 1950.31 1542.27 Q1952.13 1545.82 1955.75 1545.82 Q1959.38 1545.82 1961.19 1542.27 Q1963.01 1538.71 1963.01 1531.6 Q1963.01 1524.47 1961.19 1520.93 Q1959.38 1517.37 1955.75 1517.37 M1955.75 1513.66 Q1961.56 1513.66 1964.61 1518.27 Q1967.69 1522.85 1967.69 1531.6 Q1967.69 1540.33 1964.61 1544.94 Q1961.56 1549.52 1955.75 1549.52 Q1949.94 1549.52 1946.86 1544.94 Q1943.8 1540.33 1943.8 1531.6 Q1943.8 1522.85 1946.86 1518.27 Q1949.94 1513.66 1955.75 1513.66 Z\" fill=\"#000000\" fill-rule=\"nonzero\" fill-opacity=\"1\" /><path clip-path=\"url(#clip330)\" d=\"M2244.47 1544.91 L2260.79 1544.91 L2260.79 1548.85 L2238.85 1548.85 L2238.85 1544.91 Q2241.51 1542.16 2246.1 1537.53 Q2250.7 1532.88 2251.88 1531.53 Q2254.13 1529.01 2255.01 1527.27 Q2255.91 1525.51 2255.91 1523.82 Q2255.91 1521.07 2253.97 1519.33 Q2252.04 1517.6 2248.94 1517.6 Q2246.74 1517.6 2244.29 1518.36 Q2241.86 1519.13 2239.08 1520.68 L2239.08 1515.95 Q2241.91 1514.82 2244.36 1514.24 Q2246.81 1513.66 2248.85 1513.66 Q2254.22 1513.66 2257.41 1516.35 Q2260.61 1519.03 2260.61 1523.52 Q2260.61 1525.65 2259.8 1527.57 Q2259.01 1529.47 2256.91 1532.07 Q2256.33 1532.74 2253.22 1535.95 Q2250.12 1539.15 2244.47 1544.91 Z\" fill=\"#000000\" fill-rule=\"nonzero\" fill-opacity=\"1\" /><path clip-path=\"url(#clip330)\" d=\"M2270.61 1542.97 L2275.49 1542.97 L2275.49 1548.85 L2270.61 1548.85 L2270.61 1542.97 Z\" fill=\"#000000\" fill-rule=\"nonzero\" fill-opacity=\"1\" /><path clip-path=\"url(#clip330)\" d=\"M2285.72 1514.29 L2304.08 1514.29 L2304.08 1518.22 L2290.01 1518.22 L2290.01 1526.7 Q2291.03 1526.35 2292.04 1526.19 Q2293.06 1526 2294.08 1526 Q2299.87 1526 2303.25 1529.17 Q2306.63 1532.34 2306.63 1537.76 Q2306.63 1543.34 2303.16 1546.44 Q2299.68 1549.52 2293.36 1549.52 Q2291.19 1549.52 2288.92 1549.15 Q2286.67 1548.78 2284.27 1548.04 L2284.27 1543.34 Q2286.35 1544.47 2288.57 1545.03 Q2290.79 1545.58 2293.27 1545.58 Q2297.28 1545.58 2299.61 1543.48 Q2301.95 1541.37 2301.95 1537.76 Q2301.95 1534.15 2299.61 1532.04 Q2297.28 1529.94 2293.27 1529.94 Q2291.4 1529.94 2289.52 1530.35 Q2287.67 1530.77 2285.72 1531.65 L2285.72 1514.29 Z\" fill=\"#000000\" fill-rule=\"nonzero\" fill-opacity=\"1\" /><polyline clip-path=\"url(#clip332)\" style=\"stroke:#000000; stroke-linecap:round; stroke-linejoin:round; stroke-width:2; stroke-opacity:0.1; fill:none\" points=\"156.112,1445.72 2352.76,1445.72 \"/>\n",
       "<polyline clip-path=\"url(#clip332)\" style=\"stroke:#000000; stroke-linecap:round; stroke-linejoin:round; stroke-width:2; stroke-opacity:0.1; fill:none\" points=\"156.112,1106.28 2352.76,1106.28 \"/>\n",
       "<polyline clip-path=\"url(#clip332)\" style=\"stroke:#000000; stroke-linecap:round; stroke-linejoin:round; stroke-width:2; stroke-opacity:0.1; fill:none\" points=\"156.112,766.846 2352.76,766.846 \"/>\n",
       "<polyline clip-path=\"url(#clip332)\" style=\"stroke:#000000; stroke-linecap:round; stroke-linejoin:round; stroke-width:2; stroke-opacity:0.1; fill:none\" points=\"156.112,427.411 2352.76,427.411 \"/>\n",
       "<polyline clip-path=\"url(#clip332)\" style=\"stroke:#000000; stroke-linecap:round; stroke-linejoin:round; stroke-width:2; stroke-opacity:0.1; fill:none\" points=\"156.112,87.9763 2352.76,87.9763 \"/>\n",
       "<polyline clip-path=\"url(#clip330)\" style=\"stroke:#000000; stroke-linecap:round; stroke-linejoin:round; stroke-width:4; stroke-opacity:1; fill:none\" points=\"156.112,1486.45 156.112,47.2441 \"/>\n",
       "<polyline clip-path=\"url(#clip330)\" style=\"stroke:#000000; stroke-linecap:round; stroke-linejoin:round; stroke-width:4; stroke-opacity:1; fill:none\" points=\"156.112,1445.72 175.01,1445.72 \"/>\n",
       "<polyline clip-path=\"url(#clip330)\" style=\"stroke:#000000; stroke-linecap:round; stroke-linejoin:round; stroke-width:4; stroke-opacity:1; fill:none\" points=\"156.112,1106.28 175.01,1106.28 \"/>\n",
       "<polyline clip-path=\"url(#clip330)\" style=\"stroke:#000000; stroke-linecap:round; stroke-linejoin:round; stroke-width:4; stroke-opacity:1; fill:none\" points=\"156.112,766.846 175.01,766.846 \"/>\n",
       "<polyline clip-path=\"url(#clip330)\" style=\"stroke:#000000; stroke-linecap:round; stroke-linejoin:round; stroke-width:4; stroke-opacity:1; fill:none\" points=\"156.112,427.411 175.01,427.411 \"/>\n",
       "<polyline clip-path=\"url(#clip330)\" style=\"stroke:#000000; stroke-linecap:round; stroke-linejoin:round; stroke-width:4; stroke-opacity:1; fill:none\" points=\"156.112,87.9763 175.01,87.9763 \"/>\n",
       "<path clip-path=\"url(#clip330)\" d=\"M62.9365 1431.51 Q59.3254 1431.51 57.4967 1435.08 Q55.6912 1438.62 55.6912 1445.75 Q55.6912 1452.86 57.4967 1456.42 Q59.3254 1459.96 62.9365 1459.96 Q66.5707 1459.96 68.3763 1456.42 Q70.205 1452.86 70.205 1445.75 Q70.205 1438.62 68.3763 1435.08 Q66.5707 1431.51 62.9365 1431.51 M62.9365 1427.81 Q68.7467 1427.81 71.8022 1432.42 Q74.8809 1437 74.8809 1445.75 Q74.8809 1454.48 71.8022 1459.08 Q68.7467 1463.67 62.9365 1463.67 Q57.1264 1463.67 54.0477 1459.08 Q50.9921 1454.48 50.9921 1445.75 Q50.9921 1437 54.0477 1432.42 Q57.1264 1427.81 62.9365 1427.81 Z\" fill=\"#000000\" fill-rule=\"nonzero\" fill-opacity=\"1\" /><path clip-path=\"url(#clip330)\" d=\"M83.0984 1457.12 L87.9827 1457.12 L87.9827 1463 L83.0984 1463 L83.0984 1457.12 Z\" fill=\"#000000\" fill-rule=\"nonzero\" fill-opacity=\"1\" /><path clip-path=\"url(#clip330)\" d=\"M108.168 1431.51 Q104.557 1431.51 102.728 1435.08 Q100.922 1438.62 100.922 1445.75 Q100.922 1452.86 102.728 1456.42 Q104.557 1459.96 108.168 1459.96 Q111.802 1459.96 113.608 1456.42 Q115.436 1452.86 115.436 1445.75 Q115.436 1438.62 113.608 1435.08 Q111.802 1431.51 108.168 1431.51 M108.168 1427.81 Q113.978 1427.81 117.033 1432.42 Q120.112 1437 120.112 1445.75 Q120.112 1454.48 117.033 1459.08 Q113.978 1463.67 108.168 1463.67 Q102.358 1463.67 99.2789 1459.08 Q96.2234 1454.48 96.2234 1445.75 Q96.2234 1437 99.2789 1432.42 Q102.358 1427.81 108.168 1427.81 Z\" fill=\"#000000\" fill-rule=\"nonzero\" fill-opacity=\"1\" /><path clip-path=\"url(#clip330)\" d=\"M63.9319 1092.08 Q60.3208 1092.08 58.4921 1095.64 Q56.6865 1099.19 56.6865 1106.32 Q56.6865 1113.42 58.4921 1116.99 Q60.3208 1120.53 63.9319 1120.53 Q67.5661 1120.53 69.3717 1116.99 Q71.2004 1113.42 71.2004 1106.32 Q71.2004 1099.19 69.3717 1095.64 Q67.5661 1092.08 63.9319 1092.08 M63.9319 1088.38 Q69.742 1088.38 72.7976 1092.98 Q75.8763 1097.57 75.8763 1106.32 Q75.8763 1115.04 72.7976 1119.65 Q69.742 1124.23 63.9319 1124.23 Q58.1217 1124.23 55.043 1119.65 Q51.9875 1115.04 51.9875 1106.32 Q51.9875 1097.57 55.043 1092.98 Q58.1217 1088.38 63.9319 1088.38 Z\" fill=\"#000000\" fill-rule=\"nonzero\" fill-opacity=\"1\" /><path clip-path=\"url(#clip330)\" d=\"M84.0938 1117.68 L88.978 1117.68 L88.978 1123.56 L84.0938 1123.56 L84.0938 1117.68 Z\" fill=\"#000000\" fill-rule=\"nonzero\" fill-opacity=\"1\" /><path clip-path=\"url(#clip330)\" d=\"M99.2095 1089 L117.566 1089 L117.566 1092.94 L103.492 1092.94 L103.492 1101.41 Q104.51 1101.06 105.529 1100.9 Q106.547 1100.71 107.566 1100.71 Q113.353 1100.71 116.733 1103.89 Q120.112 1107.06 120.112 1112.47 Q120.112 1118.05 116.64 1121.15 Q113.168 1124.23 106.848 1124.23 Q104.672 1124.23 102.404 1123.86 Q100.159 1123.49 97.7511 1122.75 L97.7511 1118.05 Q99.8345 1119.19 102.057 1119.74 Q104.279 1120.3 106.756 1120.3 Q110.76 1120.3 113.098 1118.19 Q115.436 1116.08 115.436 1112.47 Q115.436 1108.86 113.098 1106.76 Q110.76 1104.65 106.756 1104.65 Q104.881 1104.65 103.006 1105.07 Q101.154 1105.48 99.2095 1106.36 L99.2095 1089 Z\" fill=\"#000000\" fill-rule=\"nonzero\" fill-opacity=\"1\" /><path clip-path=\"url(#clip330)\" d=\"M53.7467 780.191 L61.3856 780.191 L61.3856 753.825 L53.0754 755.492 L53.0754 751.233 L61.3393 749.566 L66.0152 749.566 L66.0152 780.191 L73.654 780.191 L73.654 784.126 L53.7467 784.126 L53.7467 780.191 Z\" fill=\"#000000\" fill-rule=\"nonzero\" fill-opacity=\"1\" /><path clip-path=\"url(#clip330)\" d=\"M83.0984 778.246 L87.9827 778.246 L87.9827 784.126 L83.0984 784.126 L83.0984 778.246 Z\" fill=\"#000000\" fill-rule=\"nonzero\" fill-opacity=\"1\" /><path clip-path=\"url(#clip330)\" d=\"M108.168 752.645 Q104.557 752.645 102.728 756.209 Q100.922 759.751 100.922 766.881 Q100.922 773.987 102.728 777.552 Q104.557 781.094 108.168 781.094 Q111.802 781.094 113.608 777.552 Q115.436 773.987 115.436 766.881 Q115.436 759.751 113.608 756.209 Q111.802 752.645 108.168 752.645 M108.168 748.941 Q113.978 748.941 117.033 753.547 Q120.112 758.131 120.112 766.881 Q120.112 775.608 117.033 780.214 Q113.978 784.797 108.168 784.797 Q102.358 784.797 99.2789 780.214 Q96.2234 775.608 96.2234 766.881 Q96.2234 758.131 99.2789 753.547 Q102.358 748.941 108.168 748.941 Z\" fill=\"#000000\" fill-rule=\"nonzero\" fill-opacity=\"1\" /><path clip-path=\"url(#clip330)\" d=\"M54.7421 440.756 L62.381 440.756 L62.381 414.39 L54.0708 416.057 L54.0708 411.798 L62.3347 410.131 L67.0106 410.131 L67.0106 440.756 L74.6494 440.756 L74.6494 444.691 L54.7421 444.691 L54.7421 440.756 Z\" fill=\"#000000\" fill-rule=\"nonzero\" fill-opacity=\"1\" /><path clip-path=\"url(#clip330)\" d=\"M84.0938 438.812 L88.978 438.812 L88.978 444.691 L84.0938 444.691 L84.0938 438.812 Z\" fill=\"#000000\" fill-rule=\"nonzero\" fill-opacity=\"1\" /><path clip-path=\"url(#clip330)\" d=\"M99.2095 410.131 L117.566 410.131 L117.566 414.066 L103.492 414.066 L103.492 422.538 Q104.51 422.191 105.529 422.029 Q106.547 421.844 107.566 421.844 Q113.353 421.844 116.733 425.015 Q120.112 428.187 120.112 433.603 Q120.112 439.182 116.64 442.284 Q113.168 445.362 106.848 445.362 Q104.672 445.362 102.404 444.992 Q100.159 444.622 97.7511 443.881 L97.7511 439.182 Q99.8345 440.316 102.057 440.872 Q104.279 441.427 106.756 441.427 Q110.76 441.427 113.098 439.321 Q115.436 437.214 115.436 433.603 Q115.436 429.992 113.098 427.886 Q110.76 425.779 106.756 425.779 Q104.881 425.779 103.006 426.196 Q101.154 426.613 99.2095 427.492 L99.2095 410.131 Z\" fill=\"#000000\" fill-rule=\"nonzero\" fill-opacity=\"1\" /><path clip-path=\"url(#clip330)\" d=\"M56.9643 101.321 L73.2837 101.321 L73.2837 105.256 L51.3393 105.256 L51.3393 101.321 Q54.0014 98.5665 58.5847 93.9369 Q63.1911 89.2841 64.3717 87.9416 Q66.617 85.4184 67.4967 83.6823 Q68.3994 81.9231 68.3994 80.2333 Q68.3994 77.4786 66.455 75.7425 Q64.5337 74.0064 61.4319 74.0064 Q59.2328 74.0064 56.7791 74.7703 Q54.3486 75.5342 51.5708 77.0851 L51.5708 72.3629 Q54.3949 71.2287 56.8486 70.65 Q59.3023 70.0713 61.3393 70.0713 Q66.7096 70.0713 69.9041 72.7565 Q73.0985 75.4416 73.0985 79.9323 Q73.0985 82.062 72.2883 83.9832 Q71.5013 85.8814 69.3948 88.474 Q68.8161 89.1453 65.7143 92.3628 Q62.6124 95.5573 56.9643 101.321 Z\" fill=\"#000000\" fill-rule=\"nonzero\" fill-opacity=\"1\" /><path clip-path=\"url(#clip330)\" d=\"M83.0984 99.3767 L87.9827 99.3767 L87.9827 105.256 L83.0984 105.256 L83.0984 99.3767 Z\" fill=\"#000000\" fill-rule=\"nonzero\" fill-opacity=\"1\" /><path clip-path=\"url(#clip330)\" d=\"M108.168 73.775 Q104.557 73.775 102.728 77.3398 Q100.922 80.8814 100.922 88.011 Q100.922 95.1174 102.728 98.6822 Q104.557 102.224 108.168 102.224 Q111.802 102.224 113.608 98.6822 Q115.436 95.1174 115.436 88.011 Q115.436 80.8814 113.608 77.3398 Q111.802 73.775 108.168 73.775 M108.168 70.0713 Q113.978 70.0713 117.033 74.6777 Q120.112 79.261 120.112 88.011 Q120.112 96.7378 117.033 101.344 Q113.978 105.928 108.168 105.928 Q102.358 105.928 99.2789 101.344 Q96.2234 96.7378 96.2234 88.011 Q96.2234 79.261 99.2789 74.6777 Q102.358 70.0713 108.168 70.0713 Z\" fill=\"#000000\" fill-rule=\"nonzero\" fill-opacity=\"1\" /><circle clip-path=\"url(#clip332)\" cx=\"575.564\" cy=\"1445.72\" r=\"14.4\" fill=\"#009af9\" fill-rule=\"evenodd\" fill-opacity=\"1\" stroke=\"#000000\" stroke-opacity=\"1\" stroke-width=\"3.2\"/>\n",
       "<circle clip-path=\"url(#clip332)\" cx=\"1254.43\" cy=\"1445.72\" r=\"14.4\" fill=\"#009af9\" fill-rule=\"evenodd\" fill-opacity=\"1\" stroke=\"#000000\" stroke-opacity=\"1\" stroke-width=\"3.2\"/>\n",
       "<circle clip-path=\"url(#clip332)\" cx=\"1933.3\" cy=\"1445.72\" r=\"14.4\" fill=\"#009af9\" fill-rule=\"evenodd\" fill-opacity=\"1\" stroke=\"#000000\" stroke-opacity=\"1\" stroke-width=\"3.2\"/>\n",
       "<circle clip-path=\"url(#clip332)\" cx=\"575.564\" cy=\"766.846\" r=\"14.4\" fill=\"#009af9\" fill-rule=\"evenodd\" fill-opacity=\"1\" stroke=\"#000000\" stroke-opacity=\"1\" stroke-width=\"3.2\"/>\n",
       "<circle clip-path=\"url(#clip332)\" cx=\"1254.43\" cy=\"766.846\" r=\"14.4\" fill=\"#009af9\" fill-rule=\"evenodd\" fill-opacity=\"1\" stroke=\"#000000\" stroke-opacity=\"1\" stroke-width=\"3.2\"/>\n",
       "<circle clip-path=\"url(#clip332)\" cx=\"1933.3\" cy=\"766.846\" r=\"14.4\" fill=\"#009af9\" fill-rule=\"evenodd\" fill-opacity=\"1\" stroke=\"#000000\" stroke-opacity=\"1\" stroke-width=\"3.2\"/>\n",
       "<circle clip-path=\"url(#clip332)\" cx=\"575.564\" cy=\"87.9763\" r=\"14.4\" fill=\"#009af9\" fill-rule=\"evenodd\" fill-opacity=\"1\" stroke=\"#000000\" stroke-opacity=\"1\" stroke-width=\"3.2\"/>\n",
       "<circle clip-path=\"url(#clip332)\" cx=\"1254.43\" cy=\"87.9763\" r=\"14.4\" fill=\"#009af9\" fill-rule=\"evenodd\" fill-opacity=\"1\" stroke=\"#000000\" stroke-opacity=\"1\" stroke-width=\"3.2\"/>\n",
       "<circle clip-path=\"url(#clip332)\" cx=\"1933.3\" cy=\"87.9763\" r=\"14.4\" fill=\"#009af9\" fill-rule=\"evenodd\" fill-opacity=\"1\" stroke=\"#000000\" stroke-opacity=\"1\" stroke-width=\"3.2\"/>\n",
       "<path clip-path=\"url(#clip330)\" d=\"M558.733 1420.69 L572.101 1420.69 L572.101 1374.55 L557.558 1377.46 L557.558 1370.01 L572.02 1367.09 L580.203 1367.09 L580.203 1420.69 L593.571 1420.69 L593.571 1427.57 L558.733 1427.57 L558.733 1420.69 Z\" fill=\"#000000\" fill-rule=\"nonzero\" fill-opacity=\"1\" /><path clip-path=\"url(#clip330)\" d=\"M1245.08 1420.69 L1273.64 1420.69 L1273.64 1427.57 L1235.23 1427.57 L1235.23 1420.69 Q1239.89 1415.86 1247.91 1407.76 Q1255.97 1399.62 1258.04 1397.27 Q1261.97 1392.86 1263.51 1389.82 Q1265.09 1386.74 1265.09 1383.78 Q1265.09 1378.96 1261.69 1375.92 Q1258.32 1372.88 1252.89 1372.88 Q1249.05 1372.88 1244.75 1374.22 Q1240.5 1375.56 1235.64 1378.27 L1235.64 1370.01 Q1240.58 1368.02 1244.87 1367.01 Q1249.17 1366 1252.73 1366 Q1262.13 1366 1267.72 1370.7 Q1273.31 1375.4 1273.31 1383.25 Q1273.31 1386.98 1271.89 1390.34 Q1270.52 1393.67 1266.83 1398.2 Q1265.82 1399.38 1260.39 1405.01 Q1254.96 1410.6 1245.08 1420.69 Z\" fill=\"#000000\" fill-rule=\"nonzero\" fill-opacity=\"1\" /><path clip-path=\"url(#clip330)\" d=\"M1940.74 1394.96 Q1946.61 1396.22 1949.89 1400.19 Q1953.21 1404.16 1953.21 1409.99 Q1953.21 1418.94 1947.06 1423.84 Q1940.9 1428.75 1929.56 1428.75 Q1925.75 1428.75 1921.7 1427.98 Q1917.69 1427.25 1913.39 1425.75 L1913.39 1417.85 Q1916.8 1419.83 1920.85 1420.85 Q1924.9 1421.86 1929.31 1421.86 Q1937.01 1421.86 1941.02 1418.82 Q1945.07 1415.78 1945.07 1409.99 Q1945.07 1404.64 1941.3 1401.65 Q1937.58 1398.61 1930.89 1398.61 L1923.84 1398.61 L1923.84 1391.88 L1931.22 1391.88 Q1937.25 1391.88 1940.45 1389.49 Q1943.65 1387.06 1943.65 1382.53 Q1943.65 1377.87 1940.33 1375.4 Q1937.05 1372.88 1930.89 1372.88 Q1927.53 1372.88 1923.68 1373.61 Q1919.83 1374.34 1915.22 1375.88 L1915.22 1368.59 Q1919.87 1367.29 1923.93 1366.65 Q1928.02 1366 1931.62 1366 Q1940.94 1366 1946.37 1370.25 Q1951.8 1374.46 1951.8 1381.67 Q1951.8 1386.7 1948.92 1390.18 Q1946.04 1393.63 1940.74 1394.96 Z\" fill=\"#000000\" fill-rule=\"nonzero\" fill-opacity=\"1\" /><path clip-path=\"url(#clip330)\" d=\"M580.83 695.352 L560.171 727.637 L580.83 727.637 L580.83 695.352 M578.684 688.222 L588.973 688.222 L588.973 727.637 L597.601 727.637 L597.601 734.443 L588.973 734.443 L588.973 748.702 L580.83 748.702 L580.83 734.443 L553.527 734.443 L553.527 726.544 L578.684 688.222 Z\" fill=\"#000000\" fill-rule=\"nonzero\" fill-opacity=\"1\" /><path clip-path=\"url(#clip330)\" d=\"M1237.42 688.222 L1269.54 688.222 L1269.54 695.109 L1244.91 695.109 L1244.91 709.935 Q1246.7 709.327 1248.48 709.044 Q1250.26 708.72 1252.04 708.72 Q1262.17 708.72 1268.09 714.269 Q1274 719.819 1274 729.298 Q1274 739.061 1267.92 744.489 Q1261.85 749.877 1250.79 749.877 Q1246.98 749.877 1243.01 749.229 Q1239.08 748.58 1234.87 747.284 L1234.87 739.061 Q1238.51 741.046 1242.4 742.018 Q1246.29 742.99 1250.63 742.99 Q1257.63 742.99 1261.73 739.304 Q1265.82 735.618 1265.82 729.298 Q1265.82 722.979 1261.73 719.292 Q1257.63 715.606 1250.63 715.606 Q1247.34 715.606 1244.06 716.335 Q1240.82 717.064 1237.42 718.604 L1237.42 688.222 Z\" fill=\"#000000\" fill-rule=\"nonzero\" fill-opacity=\"1\" /><path clip-path=\"url(#clip330)\" d=\"M1934.01 715.201 Q1928.5 715.201 1925.26 718.968 Q1922.06 722.736 1922.06 729.298 Q1922.06 735.82 1925.26 739.628 Q1928.5 743.395 1934.01 743.395 Q1939.52 743.395 1942.72 739.628 Q1945.96 735.82 1945.96 729.298 Q1945.96 722.736 1942.72 718.968 Q1939.52 715.201 1934.01 715.201 M1950.26 689.559 L1950.26 697.012 Q1947.18 695.554 1944.02 694.784 Q1940.9 694.015 1937.82 694.015 Q1929.72 694.015 1925.42 699.483 Q1921.17 704.952 1920.56 716.011 Q1922.95 712.487 1926.56 710.623 Q1930.16 708.72 1934.5 708.72 Q1943.61 708.72 1948.88 714.269 Q1954.19 719.779 1954.19 729.298 Q1954.19 738.615 1948.68 744.246 Q1943.17 749.877 1934.01 749.877 Q1923.52 749.877 1917.97 741.856 Q1912.42 733.795 1912.42 718.523 Q1912.42 704.183 1919.23 695.676 Q1926.03 687.128 1937.5 687.128 Q1940.58 687.128 1943.69 687.736 Q1946.85 688.344 1950.26 689.559 Z\" fill=\"#000000\" fill-rule=\"nonzero\" fill-opacity=\"1\" /><path clip-path=\"url(#clip330)\" d=\"M556.12 9.35228 L595.009 9.35228 L595.009 12.8361 L573.053 69.8323 L564.505 69.8323 L585.165 16.2388 L556.12 16.2388 L556.12 9.35228 Z\" fill=\"#000000\" fill-rule=\"nonzero\" fill-opacity=\"1\" /><path clip-path=\"url(#clip330)\" d=\"M1254.43 41.1114 Q1248.6 41.1114 1245.24 44.2306 Q1241.92 47.3498 1241.92 52.8185 Q1241.92 58.2872 1245.24 61.4064 Q1248.6 64.5256 1254.43 64.5256 Q1260.27 64.5256 1263.63 61.4064 Q1266.99 58.2467 1266.99 52.8185 Q1266.99 47.3498 1263.63 44.2306 Q1260.31 41.1114 1254.43 41.1114 M1246.25 37.6276 Q1240.99 36.3313 1238.03 32.726 Q1235.11 29.1207 1235.11 23.9355 Q1235.11 16.6844 1240.26 12.4715 Q1245.44 8.25853 1254.43 8.25853 Q1263.47 8.25853 1268.61 12.4715 Q1273.76 16.6844 1273.76 23.9355 Q1273.76 29.1207 1270.8 32.726 Q1267.88 36.3313 1262.66 37.6276 Q1268.57 39.0049 1271.85 43.0153 Q1275.17 47.0257 1275.17 52.8185 Q1275.17 61.6089 1269.79 66.308 Q1264.44 71.007 1254.43 71.007 Q1244.43 71.007 1239.04 66.308 Q1233.69 61.6089 1233.69 52.8185 Q1233.69 47.0257 1237.02 43.0153 Q1240.34 39.0049 1246.25 37.6276 M1243.25 24.7052 Q1243.25 29.4043 1246.17 32.0373 Q1249.13 34.6704 1254.43 34.6704 Q1259.7 34.6704 1262.66 32.0373 Q1265.66 29.4043 1265.66 24.7052 Q1265.66 20.0062 1262.66 17.3731 Q1259.7 14.74 1254.43 14.74 Q1249.13 14.74 1246.17 17.3731 Q1243.25 20.0062 1243.25 24.7052 Z\" fill=\"#000000\" fill-rule=\"nonzero\" fill-opacity=\"1\" /><path clip-path=\"url(#clip330)\" d=\"M1916.33 68.5765 L1916.33 61.1228 Q1919.41 62.5812 1922.57 63.3508 Q1925.73 64.1205 1928.77 64.1205 Q1936.87 64.1205 1941.12 58.6923 Q1945.42 53.2236 1946.02 42.1241 Q1943.67 45.6079 1940.07 47.4713 Q1936.46 49.3347 1932.09 49.3347 Q1923.01 49.3347 1917.71 43.866 Q1912.44 38.3568 1912.44 28.8371 Q1912.44 19.52 1917.95 13.8893 Q1923.46 8.25853 1932.62 8.25853 Q1943.11 8.25853 1948.62 16.3198 Q1954.17 24.3406 1954.17 39.653 Q1954.17 53.9527 1947.36 62.5001 Q1940.6 71.007 1929.13 71.007 Q1926.05 71.007 1922.89 70.3994 Q1919.73 69.7918 1916.33 68.5765 M1932.62 42.9343 Q1938.12 42.9343 1941.32 39.1669 Q1944.57 35.3996 1944.57 28.8371 Q1944.57 22.3152 1941.32 18.5478 Q1938.12 14.74 1932.62 14.74 Q1927.11 14.74 1923.87 18.5478 Q1920.66 22.3152 1920.66 28.8371 Q1920.66 35.3996 1923.87 39.1669 Q1927.11 42.9343 1932.62 42.9343 Z\" fill=\"#000000\" fill-rule=\"nonzero\" fill-opacity=\"1\" /></svg>\n"
      ]
     },
     "execution_count": 282,
     "metadata": {},
     "output_type": "execute_result"
    }
   ],
   "source": [
    "plot_points(coordinates)"
   ]
  },
  {
   "cell_type": "code",
   "execution_count": 283,
   "id": "critical-publisher",
   "metadata": {},
   "outputs": [
    {
     "data": {
      "text/plain": [
       "3-element Vector{Int64}:\n",
       " -1\n",
       "  0\n",
       "  1"
      ]
     },
     "execution_count": 283,
     "metadata": {},
     "output_type": "execute_result"
    }
   ],
   "source": [
    "neighbor = [-1, 0, 1]"
   ]
  },
  {
   "cell_type": "code",
   "execution_count": 284,
   "id": "technical-inventory",
   "metadata": {},
   "outputs": [
    {
     "data": {
      "text/plain": [
       "3-element Vector{Int64}:\n",
       " 2\n",
       " 0\n",
       " 1"
      ]
     },
     "execution_count": 284,
     "metadata": {},
     "output_type": "execute_result"
    }
   ],
   "source": [
    "pbc=true\n",
    "neighbor_site = get_neighbor_site(sites[1], neighbor, LL, pbc)"
   ]
  },
  {
   "cell_type": "code",
   "execution_count": 285,
   "id": "bored-schema",
   "metadata": {},
   "outputs": [
    {
     "name": "stdout",
     "output_type": "stream",
     "text": [
      "3 [2.0, 0.0]\n"
     ]
    }
   ],
   "source": [
    "(neighbor_site!=nothing) ? \n",
    "        println(site_number[neighbor_site], ' ', site_coord[neighbor_site]) : \n",
    "        println(\"no such neighbor\")"
   ]
  },
  {
   "cell_type": "code",
   "execution_count": 286,
   "id": "ranking-train",
   "metadata": {},
   "outputs": [
    {
     "data": {
      "text/plain": [
       "2-element Vector{Float64}:\n",
       " 0.0\n",
       " 0.0"
      ]
     },
     "execution_count": 286,
     "metadata": {},
     "output_type": "execute_result"
    }
   ],
   "source": [
    "wrap_twist(sites[9],neighbor,LL)"
   ]
  },
  {
   "cell_type": "code",
   "execution_count": 287,
   "id": "warming-parks",
   "metadata": {},
   "outputs": [],
   "source": [
    "neighbors = [ [1, 0, 1], [-1, 0, 1], [0, 1, 1], [0, -1, 1]  ];"
   ]
  },
  {
   "cell_type": "code",
   "execution_count": 288,
   "id": "united-resistance",
   "metadata": {},
   "outputs": [
    {
     "data": {
      "text/plain": [
       "4-element Vector{Any}:\n",
       " [0, 2, 1]\n",
       " [1, 2, 1]\n",
       " [2, 0, 1]\n",
       " [2, 1, 1]"
      ]
     },
     "execution_count": 288,
     "metadata": {},
     "output_type": "execute_result"
    }
   ],
   "source": [
    "neighbor_sites = get_neighbors(sites[9],neighbors,LL)"
   ]
  },
  {
   "cell_type": "code",
   "execution_count": 289,
   "id": "automatic-valley",
   "metadata": {},
   "outputs": [
    {
     "name": "stdout",
     "output_type": "stream",
     "text": [
      "7[0.0, 2.0]\n",
      "8[1.0, 2.0]\n",
      "3[2.0, 0.0]\n",
      "6[2.0, 1.0]\n"
     ]
    }
   ],
   "source": [
    "for neighbor_site in neighbor_sites\n",
    "    println(site_number[neighbor_site], site_coord[neighbor_site])\n",
    "end"
   ]
  },
  {
   "cell_type": "code",
   "execution_count": 290,
   "id": "competitive-column",
   "metadata": {},
   "outputs": [
    {
     "data": {
      "text/plain": [
       "1"
      ]
     },
     "execution_count": 290,
     "metadata": {},
     "output_type": "execute_result"
    }
   ],
   "source": [
    "length(vv_basis)"
   ]
  },
  {
   "cell_type": "code",
   "execution_count": 291,
   "id": "unnecessary-wedding",
   "metadata": {},
   "outputs": [],
   "source": [
    "pbc=false\n",
    "neighbors_list = [ neighbors ]\n",
    "site_neigbors = get_all_neighbors(sites,neighbors_list,LL,length(vv_basis),pbc);"
   ]
  },
  {
   "cell_type": "code",
   "execution_count": 293,
   "id": "joint-cotton",
   "metadata": {},
   "outputs": [
    {
     "name": "stdout",
     "output_type": "stream",
     "text": [
      "2\n",
      "6\n"
     ]
    }
   ],
   "source": [
    "i_site=3\n",
    "for neighbor_site in site_neigbors[sites[i_site]]\n",
    "    println(site_number[neighbor_site])\n",
    "end"
   ]
  },
  {
   "cell_type": "markdown",
   "id": "average-lending",
   "metadata": {},
   "source": [
    "# Hofstadter"
   ]
  },
  {
   "cell_type": "code",
   "execution_count": 389,
   "id": "enabling-airport",
   "metadata": {},
   "outputs": [
    {
     "data": {
      "text/plain": [
       "get_Hofstadter_hop (generic function with 3 methods)"
      ]
     },
     "execution_count": 389,
     "metadata": {},
     "output_type": "execute_result"
    }
   ],
   "source": [
    "function get_Hofstadter_hop(site,neighbor,site_coord,LL,param_dict)\n",
    "    wraps=wrap_twist(site,neighbor,LL)\n",
    "    if abs(neighbor[2])==1\n",
    "        hop = param_dict[t]\n",
    "    elseif neighbor[1]==1\n",
    "        hop = param_dict[t]*exp(1im*2*pi*param_dict[ϕ]*site_coord[site][2])\n",
    "    elseif neighbor[1]==-1\n",
    "        hop = param_dict[t]*exp(-1im*2*pi*param_dict[ϕ]*site_coord[site][2])\n",
    "    end\n",
    "    return hop*exp(1im*param_dict[θθ][1]*wraps[1])*exp(1im*param_dict[θθ][2]*wraps[2])\n",
    "end"
   ]
  },
  {
   "cell_type": "code",
   "execution_count": 390,
   "id": "adjustable-borough",
   "metadata": {},
   "outputs": [
    {
     "data": {
      "text/plain": [
       "-1.0 - 0.0im"
      ]
     },
     "execution_count": 390,
     "metadata": {},
     "output_type": "execute_result"
    }
   ],
   "source": [
    "t=-1\n",
    "ϕ=1/3\n",
    "θθ = [1*pi/4, 1*pi/5]\n",
    "param_dict=Dict{}()\n",
    "param_dict[t]=t\n",
    "param_dict[ϕ]=ϕ\n",
    "param_dict[θθ]=θθ\n",
    "i_site=1\n",
    "neighbor=[0,1,1]\n",
    "get_Hofstadter_hop(sites[i_site],neighbor,site_coord,LL,param_dict)"
   ]
  },
  {
   "cell_type": "code",
   "execution_count": 391,
   "id": "sixth-protein",
   "metadata": {},
   "outputs": [
    {
     "data": {
      "text/plain": [
       "0.3333333333333333"
      ]
     },
     "execution_count": 391,
     "metadata": {},
     "output_type": "execute_result"
    }
   ],
   "source": [
    "param_dict[ϕ]"
   ]
  },
  {
   "cell_type": "code",
   "execution_count": 392,
   "id": "greater-entrepreneur",
   "metadata": {},
   "outputs": [
    {
     "data": {
      "text/plain": [
       "get_Hofstadter_hamiltonian (generic function with 1 method)"
      ]
     },
     "execution_count": 392,
     "metadata": {},
     "output_type": "execute_result"
    }
   ],
   "source": [
    "function get_Hofstadter_hamiltonian(sites,neighbors_list,\n",
    "                                    site_number,site_coord,\n",
    "                                    nb,LL,param_dict,pbc)\n",
    "    dimH = LL[1]*LL[2]\n",
    "    HH = zeros(ComplexF64,dimH,dimH)\n",
    "    #HH = zeros(dimH,dimH)\n",
    "    for site in sites        \n",
    "        i_site = site_number[site]\n",
    "        #println(nb, (i_site-1)%nb+1)\n",
    "        neighbors = neighbors_list[(i_site-1)%nb+1]\n",
    "        #println(i_site,neighbors)\n",
    "        for neighbor in neighbors\n",
    "            hop = get_Hofstadter_hop(site,neighbor,site_coord,LL,param_dict)\n",
    "            #println(hop)\n",
    "            neighbor_site = get_neighbor_site(site, neighbor, LL, pbc)\n",
    "            if (neighbor_site!=nothing) \n",
    "                i_neighbor = site_number[neighbor_site]\n",
    "                HH[i_neighbor,i_site] = hop\n",
    "            end\n",
    "        end\n",
    "    end\n",
    "    return HH\n",
    "end"
   ]
  },
  {
   "cell_type": "code",
   "execution_count": 393,
   "id": "cordless-michigan",
   "metadata": {},
   "outputs": [],
   "source": [
    "pbc=true\n",
    "HH = get_Hofstadter_hamiltonian(sites,neighbors_list,\n",
    "                                site_number,site_coord,\n",
    "                                length(vv_basis),LL,param_dict,pbc);"
   ]
  },
  {
   "cell_type": "code",
   "execution_count": 394,
   "id": "varied-notification",
   "metadata": {},
   "outputs": [],
   "source": [
    "using LinearAlgebra"
   ]
  },
  {
   "cell_type": "code",
   "execution_count": 395,
   "id": "close-saturday",
   "metadata": {},
   "outputs": [
    {
     "data": {
      "text/plain": [
       "Eigen{ComplexF64, Float64, Matrix{ComplexF64}, Vector{Float64}}\n",
       "values:\n",
       "9-element Vector{Float64}:\n",
       " -2.671174618201539\n",
       " -2.671174618201539\n",
       " -2.671174618201538\n",
       "  0.5302180650227071\n",
       "  0.5302180650227075\n",
       "  0.5302180650227075\n",
       "  2.1409565531788375\n",
       "  2.1409565531788375\n",
       "  2.1409565531788384\n",
       "vectors:\n",
       "9×9 Matrix{ComplexF64}:\n",
       "  -0.330546-0.0470747im  …    0.208617+0.0800806im\n",
       "   -0.53669-0.0904935im     -0.0233578+0.222235im\n",
       "  -0.282697-0.0538999im      -0.163588-0.281206im\n",
       " -0.0792849+0.250748im       -0.158009-0.158009im\n",
       "  -0.484233-0.0333134im      -0.223459-4.94396e-17im\n",
       "  0.0485744-0.253927im   …   -0.297634+0.131346im\n",
       "  -0.113305+0.023004im       -0.235553+0.268593im\n",
       "  -0.335074+0.110647im       0.0233632-0.356485im\n",
       "        0.0+0.0im              0.57735+0.0im"
      ]
     },
     "execution_count": 395,
     "metadata": {},
     "output_type": "execute_result"
    }
   ],
   "source": [
    "eigen(HH)"
   ]
  },
  {
   "cell_type": "code",
   "execution_count": 351,
   "id": "indoor-sharing",
   "metadata": {},
   "outputs": [
    {
     "data": {
      "text/plain": [
       "Eigen{ComplexF64, ComplexF64, Matrix{ComplexF64}, Vector{ComplexF64}}\n",
       "values:\n",
       "9-element Vector{ComplexF64}:\n",
       " -0.4273869065447693 - 2.6984147285493134im\n",
       " -0.4273869065447675 - 2.69841472854931im\n",
       " -0.4273869065447675 - 2.6984147285493085im\n",
       "  0.1145179764643058 + 0.723038047359035im\n",
       " 0.11451797646430616 + 0.7230380473590347im\n",
       " 0.11451797646430667 + 0.7230380473590355im\n",
       "  0.3128689300804615 + 1.975376681190274im\n",
       "  0.3128689300804618 + 1.975376681190276im\n",
       "  0.3128689300804619 + 1.975376681190276im\n",
       "vectors:\n",
       "9×9 Matrix{ComplexF64}:\n",
       "   0.57735+0.0im          -0.00415862-0.0272945im   …  0.0207041+0.0302495im\n",
       "  0.394338+1.94289e-16im      0.34176-0.0416982im       0.295329-0.260624im\n",
       "  0.394338+2.77556e-17im   -0.0824899-0.00829597im     -0.316033+0.230375im\n",
       "  0.394338+2.22045e-16im    -0.152017-0.224413im       0.0973706-0.1557im\n",
       " 0.0528312+0.0915064im       0.519676+0.0im             0.159569+0.26343im\n",
       " 0.0528312-0.0915064im      -0.274282+0.196123im    …   0.491447+0.0im\n",
       "  0.394338+2.22045e-16im    -0.118615+0.199837im       -0.118075+0.12545im\n",
       " 0.0528312-0.0915064im       0.500678-0.0783313im      -0.454898-0.00280554im\n",
       " 0.0528312+0.0915064im      -0.288686-0.149795im       -0.175413-0.230375im"
      ]
     },
     "execution_count": 351,
     "metadata": {},
     "output_type": "execute_result"
    }
   ],
   "source": [
    "eigen(HH)"
   ]
  },
  {
   "cell_type": "code",
   "execution_count": null,
   "id": "smart-taiwan",
   "metadata": {},
   "outputs": [],
   "source": []
  },
  {
   "cell_type": "markdown",
   "id": "computational-mailing",
   "metadata": {},
   "source": [
    "# Kagome lattice"
   ]
  },
  {
   "cell_type": "code",
   "execution_count": 164,
   "id": "square-style",
   "metadata": {},
   "outputs": [],
   "source": [
    "# Kagome \n",
    "LL = [3, 3]\n",
    "vv_lattice = [ [2, 0], [1, sqrt(3)] ]\n",
    "b1=[0, 0]; b2=vv_lattice[1]/2; b3=vv_lattice[2]/2\n",
    "vv_basis = [b1,b2,b3];"
   ]
  },
  {
   "cell_type": "code",
   "execution_count": 30,
   "id": "flush-recorder",
   "metadata": {},
   "outputs": [],
   "source": [
    "coordinates, sites, site_coord, site_number = get_sites(LL, vv_lattice, vv_basis);"
   ]
  },
  {
   "cell_type": "code",
   "execution_count": 31,
   "id": "liquid-entity",
   "metadata": {},
   "outputs": [
    {
     "data": {
      "text/plain": [
       "2-element Vector{Any}:\n",
       " [0.0, 0.0]\n",
       " [1.0, 0.0]"
      ]
     },
     "execution_count": 31,
     "metadata": {},
     "output_type": "execute_result"
    }
   ],
   "source": [
    "coordinates[1:2]"
   ]
  },
  {
   "cell_type": "code",
   "execution_count": 32,
   "id": "emerging-musical",
   "metadata": {},
   "outputs": [
    {
     "data": {
      "text/plain": [
       "2-element Vector{Any}:\n",
       " [0, 0, 1]\n",
       " [0, 0, 2]"
      ]
     },
     "execution_count": 32,
     "metadata": {},
     "output_type": "execute_result"
    }
   ],
   "source": [
    "sites[1:2]"
   ]
  },
  {
   "cell_type": "code",
   "execution_count": 33,
   "id": "measured-shell",
   "metadata": {},
   "outputs": [
    {
     "data": {
      "text/plain": [
       "2-element Vector{Float64}:\n",
       " 2.0\n",
       " 0.0"
      ]
     },
     "execution_count": 33,
     "metadata": {},
     "output_type": "execute_result"
    }
   ],
   "source": [
    "site_coord[sites[4]]"
   ]
  },
  {
   "cell_type": "code",
   "execution_count": 34,
   "id": "convertible-green",
   "metadata": {},
   "outputs": [
    {
     "data": {
      "image/png": "[encoded data removed]",
      "image/svg+xml": [
       "<?xml version=\"1.0\" encoding=\"utf-8\"?>\n",
       "<svg xmlns=\"http://www.w3.org/2000/svg\" xmlns:xlink=\"http://www.w3.org/1999/xlink\" width=\"600\" height=\"400\" viewBox=\"0 0 2400 1600\">\n",
       "<defs>\n",
       "  <clipPath id=\"clip830\">\n",
       "    <rect x=\"0\" y=\"0\" width=\"2400\" height=\"1600\"/>\n",
       "  </clipPath>\n",
       "</defs>\n",
       "<path clip-path=\"url(#clip830)\" d=\"M0 1600 L2400 1600 L2400 0 L0 0  Z\" fill=\"#ffffff\" fill-rule=\"evenodd\" fill-opacity=\"1\"/>\n",
       "<defs>\n",
       "  <clipPath id=\"clip831\">\n",
       "    <rect x=\"480\" y=\"0\" width=\"1681\" height=\"1600\"/>\n",
       "  </clipPath>\n",
       "</defs>\n",
       "<path clip-path=\"url(#clip830)\" d=\"M112.177 1486.45 L2352.76 1486.45 L2352.76 47.2441 L112.177 47.2441  Z\" fill=\"#ffffff\" fill-rule=\"evenodd\" fill-opacity=\"1\"/>\n",
       "<defs>\n",
       "  <clipPath id=\"clip832\">\n",
       "    <rect x=\"112\" y=\"47\" width=\"2242\" height=\"1440\"/>\n",
       "  </clipPath>\n",
       "</defs>\n",
       "<polyline clip-path=\"url(#clip832)\" style=\"stroke:#000000; stroke-linecap:round; stroke-linejoin:round; stroke-width:2; stroke-opacity:0.1; fill:none\" points=\"175.59,1486.45 175.59,47.2441 \"/>\n",
       "<polyline clip-path=\"url(#clip832)\" style=\"stroke:#000000; stroke-linecap:round; stroke-linejoin:round; stroke-width:2; stroke-opacity:0.1; fill:none\" points=\"779.519,1486.45 779.519,47.2441 \"/>\n",
       "<polyline clip-path=\"url(#clip832)\" style=\"stroke:#000000; stroke-linecap:round; stroke-linejoin:round; stroke-width:2; stroke-opacity:0.1; fill:none\" points=\"1383.45,1486.45 1383.45,47.2441 \"/>\n",
       "<polyline clip-path=\"url(#clip832)\" style=\"stroke:#000000; stroke-linecap:round; stroke-linejoin:round; stroke-width:2; stroke-opacity:0.1; fill:none\" points=\"1987.38,1486.45 1987.38,47.2441 \"/>\n",
       "<polyline clip-path=\"url(#clip830)\" style=\"stroke:#000000; stroke-linecap:round; stroke-linejoin:round; stroke-width:4; stroke-opacity:1; fill:none\" points=\"112.177,1486.45 2352.76,1486.45 \"/>\n",
       "<polyline clip-path=\"url(#clip830)\" style=\"stroke:#000000; stroke-linecap:round; stroke-linejoin:round; stroke-width:4; stroke-opacity:1; fill:none\" points=\"175.59,1486.45 175.59,1467.55 \"/>\n",
       "<polyline clip-path=\"url(#clip830)\" style=\"stroke:#000000; stroke-linecap:round; stroke-linejoin:round; stroke-width:4; stroke-opacity:1; fill:none\" points=\"779.519,1486.45 779.519,1467.55 \"/>\n",
       "<polyline clip-path=\"url(#clip830)\" style=\"stroke:#000000; stroke-linecap:round; stroke-linejoin:round; stroke-width:4; stroke-opacity:1; fill:none\" points=\"1383.45,1486.45 1383.45,1467.55 \"/>\n",
       "<polyline clip-path=\"url(#clip830)\" style=\"stroke:#000000; stroke-linecap:round; stroke-linejoin:round; stroke-width:4; stroke-opacity:1; fill:none\" points=\"1987.38,1486.45 1987.38,1467.55 \"/>\n",
       "<path clip-path=\"url(#clip830)\" d=\"M175.59 1517.37 Q171.979 1517.37 170.15 1520.93 Q168.344 1524.47 168.344 1531.6 Q168.344 1538.71 170.15 1542.27 Q171.979 1545.82 175.59 1545.82 Q179.224 1545.82 181.03 1542.27 Q182.858 1538.71 182.858 1531.6 Q182.858 1524.47 181.03 1520.93 Q179.224 1517.37 175.59 1517.37 M175.59 1513.66 Q181.4 1513.66 184.455 1518.27 Q187.534 1522.85 187.534 1531.6 Q187.534 1540.33 184.455 1544.94 Q181.4 1549.52 175.59 1549.52 Q169.78 1549.52 166.701 1544.94 Q163.645 1540.33 163.645 1531.6 Q163.645 1522.85 166.701 1518.27 Q169.78 1513.66 175.59 1513.66 Z\" fill=\"#000000\" fill-rule=\"nonzero\" fill-opacity=\"1\" /><path clip-path=\"url(#clip830)\" d=\"M774.172 1544.91 L790.492 1544.91 L790.492 1548.85 L768.547 1548.85 L768.547 1544.91 Q771.209 1542.16 775.793 1537.53 Q780.399 1532.88 781.58 1531.53 Q783.825 1529.01 784.705 1527.27 Q785.607 1525.51 785.607 1523.82 Q785.607 1521.07 783.663 1519.33 Q781.742 1517.6 778.64 1517.6 Q776.441 1517.6 773.987 1518.36 Q771.556 1519.13 768.779 1520.68 L768.779 1515.95 Q771.603 1514.82 774.056 1514.24 Q776.51 1513.66 778.547 1513.66 Q783.917 1513.66 787.112 1516.35 Q790.306 1519.03 790.306 1523.52 Q790.306 1525.65 789.496 1527.57 Q788.709 1529.47 786.603 1532.07 Q786.024 1532.74 782.922 1535.95 Q779.82 1539.15 774.172 1544.91 Z\" fill=\"#000000\" fill-rule=\"nonzero\" fill-opacity=\"1\" /><path clip-path=\"url(#clip830)\" d=\"M1386.46 1518.36 L1374.65 1536.81 L1386.46 1536.81 L1386.46 1518.36 M1385.23 1514.29 L1391.11 1514.29 L1391.11 1536.81 L1396.04 1536.81 L1396.04 1540.7 L1391.11 1540.7 L1391.11 1548.85 L1386.46 1548.85 L1386.46 1540.7 L1370.86 1540.7 L1370.86 1536.19 L1385.23 1514.29 Z\" fill=\"#000000\" fill-rule=\"nonzero\" fill-opacity=\"1\" /><path clip-path=\"url(#clip830)\" d=\"M1987.78 1529.7 Q1984.64 1529.7 1982.78 1531.86 Q1980.95 1534.01 1980.95 1537.76 Q1980.95 1541.49 1982.78 1543.66 Q1984.64 1545.82 1987.78 1545.82 Q1990.93 1545.82 1992.76 1543.66 Q1994.61 1541.49 1994.61 1537.76 Q1994.61 1534.01 1992.76 1531.86 Q1990.93 1529.7 1987.78 1529.7 M1997.07 1515.05 L1997.07 1519.31 Q1995.31 1518.48 1993.5 1518.04 Q1991.72 1517.6 1989.96 1517.6 Q1985.33 1517.6 1982.88 1520.72 Q1980.45 1523.85 1980.1 1530.17 Q1981.46 1528.15 1983.52 1527.09 Q1985.58 1526 1988.06 1526 Q1993.27 1526 1996.28 1529.17 Q1999.31 1532.32 1999.31 1537.76 Q1999.31 1543.08 1996.16 1546.3 Q1993.02 1549.52 1987.78 1549.52 Q1981.79 1549.52 1978.62 1544.94 Q1975.45 1540.33 1975.45 1531.6 Q1975.45 1523.41 1979.33 1518.55 Q1983.22 1513.66 1989.77 1513.66 Q1991.53 1513.66 1993.32 1514.01 Q1995.12 1514.36 1997.07 1515.05 Z\" fill=\"#000000\" fill-rule=\"nonzero\" fill-opacity=\"1\" /><polyline clip-path=\"url(#clip832)\" style=\"stroke:#000000; stroke-linecap:round; stroke-linejoin:round; stroke-width:2; stroke-opacity:0.1; fill:none\" points=\"112.177,1420.62 2352.76,1420.62 \"/>\n",
       "<polyline clip-path=\"url(#clip832)\" style=\"stroke:#000000; stroke-linecap:round; stroke-linejoin:round; stroke-width:2; stroke-opacity:0.1; fill:none\" points=\"112.177,1118.65 2352.76,1118.65 \"/>\n",
       "<polyline clip-path=\"url(#clip832)\" style=\"stroke:#000000; stroke-linecap:round; stroke-linejoin:round; stroke-width:2; stroke-opacity:0.1; fill:none\" points=\"112.177,816.689 2352.76,816.689 \"/>\n",
       "<polyline clip-path=\"url(#clip832)\" style=\"stroke:#000000; stroke-linecap:round; stroke-linejoin:round; stroke-width:2; stroke-opacity:0.1; fill:none\" points=\"112.177,514.725 2352.76,514.725 \"/>\n",
       "<polyline clip-path=\"url(#clip832)\" style=\"stroke:#000000; stroke-linecap:round; stroke-linejoin:round; stroke-width:2; stroke-opacity:0.1; fill:none\" points=\"112.177,212.76 2352.76,212.76 \"/>\n",
       "<polyline clip-path=\"url(#clip830)\" style=\"stroke:#000000; stroke-linecap:round; stroke-linejoin:round; stroke-width:4; stroke-opacity:1; fill:none\" points=\"112.177,1486.45 112.177,47.2441 \"/>\n",
       "<polyline clip-path=\"url(#clip830)\" style=\"stroke:#000000; stroke-linecap:round; stroke-linejoin:round; stroke-width:4; stroke-opacity:1; fill:none\" points=\"112.177,1420.62 131.075,1420.62 \"/>\n",
       "<polyline clip-path=\"url(#clip830)\" style=\"stroke:#000000; stroke-linecap:round; stroke-linejoin:round; stroke-width:4; stroke-opacity:1; fill:none\" points=\"112.177,1118.65 131.075,1118.65 \"/>\n",
       "<polyline clip-path=\"url(#clip830)\" style=\"stroke:#000000; stroke-linecap:round; stroke-linejoin:round; stroke-width:4; stroke-opacity:1; fill:none\" points=\"112.177,816.689 131.075,816.689 \"/>\n",
       "<polyline clip-path=\"url(#clip830)\" style=\"stroke:#000000; stroke-linecap:round; stroke-linejoin:round; stroke-width:4; stroke-opacity:1; fill:none\" points=\"112.177,514.725 131.075,514.725 \"/>\n",
       "<polyline clip-path=\"url(#clip830)\" style=\"stroke:#000000; stroke-linecap:round; stroke-linejoin:round; stroke-width:4; stroke-opacity:1; fill:none\" points=\"112.177,212.76 131.075,212.76 \"/>\n",
       "<path clip-path=\"url(#clip830)\" d=\"M64.2328 1406.42 Q60.6217 1406.42 58.793 1409.98 Q56.9875 1413.52 56.9875 1420.65 Q56.9875 1427.76 58.793 1431.32 Q60.6217 1434.87 64.2328 1434.87 Q67.867 1434.87 69.6726 1431.32 Q71.5013 1427.76 71.5013 1420.65 Q71.5013 1413.52 69.6726 1409.98 Q67.867 1406.42 64.2328 1406.42 M64.2328 1402.71 Q70.0429 1402.71 73.0985 1407.32 Q76.1772 1411.9 76.1772 1420.65 Q76.1772 1429.38 73.0985 1433.99 Q70.0429 1438.57 64.2328 1438.57 Q58.4226 1438.57 55.344 1433.99 Q52.2884 1429.38 52.2884 1420.65 Q52.2884 1411.9 55.344 1407.32 Q58.4226 1402.71 64.2328 1402.71 Z\" fill=\"#000000\" fill-rule=\"nonzero\" fill-opacity=\"1\" /><path clip-path=\"url(#clip830)\" d=\"M56.2699 1132 L63.9087 1132 L63.9087 1105.63 L55.5986 1107.3 L55.5986 1103.04 L63.8624 1101.37 L68.5383 1101.37 L68.5383 1132 L76.1772 1132 L76.1772 1135.93 L56.2699 1135.93 L56.2699 1132 Z\" fill=\"#000000\" fill-rule=\"nonzero\" fill-opacity=\"1\" /><path clip-path=\"url(#clip830)\" d=\"M59.8578 830.034 L76.1772 830.034 L76.1772 833.969 L54.2328 833.969 L54.2328 830.034 Q56.8949 827.28 61.4782 822.65 Q66.0846 817.997 67.2652 816.655 Q69.5105 814.131 70.3902 812.395 Q71.2929 810.636 71.2929 808.946 Q71.2929 806.192 69.3485 804.456 Q67.4272 802.72 64.3254 802.72 Q62.1263 802.72 59.6726 803.483 Q57.2421 804.247 54.4643 805.798 L54.4643 801.076 Q57.2884 799.942 59.7421 799.363 Q62.1958 798.784 64.2328 798.784 Q69.6031 798.784 72.7976 801.47 Q75.992 804.155 75.992 808.645 Q75.992 810.775 75.1818 812.696 Q74.3948 814.594 72.2883 817.187 Q71.7096 817.858 68.6078 821.076 Q65.5059 824.27 59.8578 830.034 Z\" fill=\"#000000\" fill-rule=\"nonzero\" fill-opacity=\"1\" /><path clip-path=\"url(#clip830)\" d=\"M69.0476 513.37 Q72.404 514.088 74.279 516.356 Q76.1772 518.625 76.1772 521.958 Q76.1772 527.074 72.6587 529.875 Q69.1402 532.676 62.6587 532.676 Q60.4828 532.676 58.168 532.236 Q55.8764 531.819 53.4227 530.963 L53.4227 526.449 Q55.3671 527.583 57.6819 528.162 Q59.9967 528.741 62.5198 528.741 Q66.918 528.741 69.2096 527.005 Q71.5244 525.268 71.5244 521.958 Q71.5244 518.903 69.3717 517.19 Q67.242 515.454 63.4226 515.454 L59.3949 515.454 L59.3949 511.611 L63.6078 511.611 Q67.0569 511.611 68.8855 510.245 Q70.7142 508.857 70.7142 506.264 Q70.7142 503.602 68.8161 502.19 Q66.9411 500.755 63.4226 500.755 Q61.5013 500.755 59.3023 501.171 Q57.1032 501.588 54.4643 502.468 L54.4643 498.301 Q57.1264 497.56 59.4412 497.19 Q61.7791 496.82 63.8393 496.82 Q69.1633 496.82 72.2652 499.25 Q75.367 501.658 75.367 505.778 Q75.367 508.648 73.7235 510.639 Q72.08 512.607 69.0476 513.37 Z\" fill=\"#000000\" fill-rule=\"nonzero\" fill-opacity=\"1\" /><path clip-path=\"url(#clip830)\" d=\"M66.5939 199.554 L54.7884 218.003 L66.5939 218.003 L66.5939 199.554 M65.367 195.48 L71.2466 195.48 L71.2466 218.003 L76.1772 218.003 L76.1772 221.892 L71.2466 221.892 L71.2466 230.04 L66.5939 230.04 L66.5939 221.892 L50.9921 221.892 L50.9921 217.378 L65.367 195.48 Z\" fill=\"#000000\" fill-rule=\"nonzero\" fill-opacity=\"1\" /><circle clip-path=\"url(#clip832)\" cx=\"175.59\" cy=\"1420.62\" r=\"14.4\" fill=\"#009af9\" fill-rule=\"evenodd\" fill-opacity=\"1\" stroke=\"#000000\" stroke-opacity=\"1\" stroke-width=\"3.2\"/>\n",
       "<circle clip-path=\"url(#clip832)\" cx=\"477.555\" cy=\"1420.62\" r=\"14.4\" fill=\"#009af9\" fill-rule=\"evenodd\" fill-opacity=\"1\" stroke=\"#000000\" stroke-opacity=\"1\" stroke-width=\"3.2\"/>\n",
       "<circle clip-path=\"url(#clip832)\" cx=\"326.572\" cy=\"1159.11\" r=\"14.4\" fill=\"#009af9\" fill-rule=\"evenodd\" fill-opacity=\"1\" stroke=\"#000000\" stroke-opacity=\"1\" stroke-width=\"3.2\"/>\n",
       "<circle clip-path=\"url(#clip832)\" cx=\"779.519\" cy=\"1420.62\" r=\"14.4\" fill=\"#009af9\" fill-rule=\"evenodd\" fill-opacity=\"1\" stroke=\"#000000\" stroke-opacity=\"1\" stroke-width=\"3.2\"/>\n",
       "<circle clip-path=\"url(#clip832)\" cx=\"1081.48\" cy=\"1420.62\" r=\"14.4\" fill=\"#009af9\" fill-rule=\"evenodd\" fill-opacity=\"1\" stroke=\"#000000\" stroke-opacity=\"1\" stroke-width=\"3.2\"/>\n",
       "<circle clip-path=\"url(#clip832)\" cx=\"930.502\" cy=\"1159.11\" r=\"14.4\" fill=\"#009af9\" fill-rule=\"evenodd\" fill-opacity=\"1\" stroke=\"#000000\" stroke-opacity=\"1\" stroke-width=\"3.2\"/>\n",
       "<circle clip-path=\"url(#clip832)\" cx=\"1383.45\" cy=\"1420.62\" r=\"14.4\" fill=\"#009af9\" fill-rule=\"evenodd\" fill-opacity=\"1\" stroke=\"#000000\" stroke-opacity=\"1\" stroke-width=\"3.2\"/>\n",
       "<circle clip-path=\"url(#clip832)\" cx=\"1685.41\" cy=\"1420.62\" r=\"14.4\" fill=\"#009af9\" fill-rule=\"evenodd\" fill-opacity=\"1\" stroke=\"#000000\" stroke-opacity=\"1\" stroke-width=\"3.2\"/>\n",
       "<circle clip-path=\"url(#clip832)\" cx=\"1534.43\" cy=\"1159.11\" r=\"14.4\" fill=\"#009af9\" fill-rule=\"evenodd\" fill-opacity=\"1\" stroke=\"#000000\" stroke-opacity=\"1\" stroke-width=\"3.2\"/>\n",
       "<circle clip-path=\"url(#clip832)\" cx=\"477.555\" cy=\"897.601\" r=\"14.4\" fill=\"#009af9\" fill-rule=\"evenodd\" fill-opacity=\"1\" stroke=\"#000000\" stroke-opacity=\"1\" stroke-width=\"3.2\"/>\n",
       "<circle clip-path=\"url(#clip832)\" cx=\"779.519\" cy=\"897.601\" r=\"14.4\" fill=\"#009af9\" fill-rule=\"evenodd\" fill-opacity=\"1\" stroke=\"#000000\" stroke-opacity=\"1\" stroke-width=\"3.2\"/>\n",
       "<circle clip-path=\"url(#clip832)\" cx=\"628.537\" cy=\"636.091\" r=\"14.4\" fill=\"#009af9\" fill-rule=\"evenodd\" fill-opacity=\"1\" stroke=\"#000000\" stroke-opacity=\"1\" stroke-width=\"3.2\"/>\n",
       "<circle clip-path=\"url(#clip832)\" cx=\"1081.48\" cy=\"897.601\" r=\"14.4\" fill=\"#009af9\" fill-rule=\"evenodd\" fill-opacity=\"1\" stroke=\"#000000\" stroke-opacity=\"1\" stroke-width=\"3.2\"/>\n",
       "<circle clip-path=\"url(#clip832)\" cx=\"1383.45\" cy=\"897.601\" r=\"14.4\" fill=\"#009af9\" fill-rule=\"evenodd\" fill-opacity=\"1\" stroke=\"#000000\" stroke-opacity=\"1\" stroke-width=\"3.2\"/>\n",
       "<circle clip-path=\"url(#clip832)\" cx=\"1232.47\" cy=\"636.091\" r=\"14.4\" fill=\"#009af9\" fill-rule=\"evenodd\" fill-opacity=\"1\" stroke=\"#000000\" stroke-opacity=\"1\" stroke-width=\"3.2\"/>\n",
       "<circle clip-path=\"url(#clip832)\" cx=\"1685.41\" cy=\"897.601\" r=\"14.4\" fill=\"#009af9\" fill-rule=\"evenodd\" fill-opacity=\"1\" stroke=\"#000000\" stroke-opacity=\"1\" stroke-width=\"3.2\"/>\n",
       "<circle clip-path=\"url(#clip832)\" cx=\"1987.38\" cy=\"897.601\" r=\"14.4\" fill=\"#009af9\" fill-rule=\"evenodd\" fill-opacity=\"1\" stroke=\"#000000\" stroke-opacity=\"1\" stroke-width=\"3.2\"/>\n",
       "<circle clip-path=\"url(#clip832)\" cx=\"1836.4\" cy=\"636.091\" r=\"14.4\" fill=\"#009af9\" fill-rule=\"evenodd\" fill-opacity=\"1\" stroke=\"#000000\" stroke-opacity=\"1\" stroke-width=\"3.2\"/>\n",
       "<circle clip-path=\"url(#clip832)\" cx=\"779.519\" cy=\"374.582\" r=\"14.4\" fill=\"#009af9\" fill-rule=\"evenodd\" fill-opacity=\"1\" stroke=\"#000000\" stroke-opacity=\"1\" stroke-width=\"3.2\"/>\n",
       "<circle clip-path=\"url(#clip832)\" cx=\"1081.48\" cy=\"374.582\" r=\"14.4\" fill=\"#009af9\" fill-rule=\"evenodd\" fill-opacity=\"1\" stroke=\"#000000\" stroke-opacity=\"1\" stroke-width=\"3.2\"/>\n",
       "<circle clip-path=\"url(#clip832)\" cx=\"930.502\" cy=\"113.073\" r=\"14.4\" fill=\"#009af9\" fill-rule=\"evenodd\" fill-opacity=\"1\" stroke=\"#000000\" stroke-opacity=\"1\" stroke-width=\"3.2\"/>\n",
       "<circle clip-path=\"url(#clip832)\" cx=\"1383.45\" cy=\"374.582\" r=\"14.4\" fill=\"#009af9\" fill-rule=\"evenodd\" fill-opacity=\"1\" stroke=\"#000000\" stroke-opacity=\"1\" stroke-width=\"3.2\"/>\n",
       "<circle clip-path=\"url(#clip832)\" cx=\"1685.41\" cy=\"374.582\" r=\"14.4\" fill=\"#009af9\" fill-rule=\"evenodd\" fill-opacity=\"1\" stroke=\"#000000\" stroke-opacity=\"1\" stroke-width=\"3.2\"/>\n",
       "<circle clip-path=\"url(#clip832)\" cx=\"1534.43\" cy=\"113.073\" r=\"14.4\" fill=\"#009af9\" fill-rule=\"evenodd\" fill-opacity=\"1\" stroke=\"#000000\" stroke-opacity=\"1\" stroke-width=\"3.2\"/>\n",
       "<circle clip-path=\"url(#clip832)\" cx=\"1987.38\" cy=\"374.582\" r=\"14.4\" fill=\"#009af9\" fill-rule=\"evenodd\" fill-opacity=\"1\" stroke=\"#000000\" stroke-opacity=\"1\" stroke-width=\"3.2\"/>\n",
       "<circle clip-path=\"url(#clip832)\" cx=\"2289.34\" cy=\"374.582\" r=\"14.4\" fill=\"#009af9\" fill-rule=\"evenodd\" fill-opacity=\"1\" stroke=\"#000000\" stroke-opacity=\"1\" stroke-width=\"3.2\"/>\n",
       "<circle clip-path=\"url(#clip832)\" cx=\"2138.36\" cy=\"113.073\" r=\"14.4\" fill=\"#009af9\" fill-rule=\"evenodd\" fill-opacity=\"1\" stroke=\"#000000\" stroke-opacity=\"1\" stroke-width=\"3.2\"/>\n",
       "<path clip-path=\"url(#clip830)\" d=\"M158.758 1395.59 L172.126 1395.59 L172.126 1349.45 L157.584 1352.37 L157.584 1344.91 L172.045 1341.99 L180.228 1341.99 L180.228 1395.59 L193.596 1395.59 L193.596 1402.47 L158.758 1402.47 L158.758 1395.59 Z\" fill=\"#000000\" fill-rule=\"nonzero\" fill-opacity=\"1\" /><path clip-path=\"url(#clip830)\" d=\"M468.197 1395.59 L496.756 1395.59 L496.756 1402.47 L458.353 1402.47 L458.353 1395.59 Q463.012 1390.77 471.033 1382.67 Q479.094 1374.52 481.16 1372.17 Q485.089 1367.76 486.629 1364.72 Q488.208 1361.64 488.208 1358.68 Q488.208 1353.86 484.806 1350.83 Q481.443 1347.79 476.015 1347.79 Q472.167 1347.79 467.873 1349.12 Q463.619 1350.46 458.758 1353.18 L458.758 1344.91 Q463.7 1342.93 467.994 1341.91 Q472.288 1340.9 475.853 1340.9 Q485.251 1340.9 490.842 1345.6 Q496.432 1350.3 496.432 1358.16 Q496.432 1361.88 495.014 1365.25 Q493.637 1368.57 489.95 1373.11 Q488.938 1374.28 483.509 1379.91 Q478.081 1385.5 468.197 1395.59 Z\" fill=\"#000000\" fill-rule=\"nonzero\" fill-opacity=\"1\" /><path clip-path=\"url(#clip830)\" d=\"M334.006 1108.36 Q339.879 1109.61 343.161 1113.58 Q346.482 1117.55 346.482 1123.38 Q346.482 1132.34 340.325 1137.24 Q334.168 1142.14 322.825 1142.14 Q319.017 1142.14 314.966 1141.37 Q310.956 1140.64 306.662 1139.14 L306.662 1131.24 Q310.065 1133.23 314.116 1134.24 Q318.167 1135.25 322.582 1135.25 Q330.279 1135.25 334.289 1132.22 Q338.34 1129.18 338.34 1123.38 Q338.34 1118.04 334.573 1115.04 Q330.846 1112 324.162 1112 L317.113 1112 L317.113 1105.28 L324.486 1105.28 Q330.522 1105.28 333.722 1102.89 Q336.922 1100.46 336.922 1095.92 Q336.922 1091.26 333.6 1088.79 Q330.319 1086.28 324.162 1086.28 Q320.8 1086.28 316.951 1087.01 Q313.103 1087.74 308.485 1089.28 L308.485 1081.98 Q313.143 1080.69 317.194 1080.04 Q321.286 1079.39 324.891 1079.39 Q334.208 1079.39 339.636 1083.65 Q345.065 1087.86 345.065 1095.07 Q345.065 1100.09 342.188 1103.58 Q339.312 1107.02 334.006 1108.36 Z\" fill=\"#000000\" fill-rule=\"nonzero\" fill-opacity=\"1\" /><path clip-path=\"url(#clip830)\" d=\"M784.786 1349.12 L764.126 1381.41 L784.786 1381.41 L784.786 1349.12 M782.639 1341.99 L792.928 1341.99 L792.928 1381.41 L801.556 1381.41 L801.556 1388.22 L792.928 1388.22 L792.928 1402.47 L784.786 1402.47 L784.786 1388.22 L757.482 1388.22 L757.482 1380.32 L782.639 1341.99 Z\" fill=\"#000000\" fill-rule=\"nonzero\" fill-opacity=\"1\" /><path clip-path=\"url(#clip830)\" d=\"M1064.47 1341.99 L1096.59 1341.99 L1096.59 1348.88 L1071.96 1348.88 L1071.96 1363.71 Q1073.75 1363.1 1075.53 1362.82 Q1077.31 1362.49 1079.09 1362.49 Q1089.22 1362.49 1095.14 1368.04 Q1101.05 1373.59 1101.05 1383.07 Q1101.05 1392.83 1094.97 1398.26 Q1088.9 1403.65 1077.84 1403.65 Q1074.03 1403.65 1070.06 1403 Q1066.13 1402.35 1061.92 1401.06 L1061.92 1392.83 Q1065.56 1394.82 1069.45 1395.79 Q1073.34 1396.76 1077.68 1396.76 Q1084.68 1396.76 1088.78 1393.08 Q1092.87 1389.39 1092.87 1383.07 Q1092.87 1376.75 1088.78 1373.07 Q1084.68 1369.38 1077.68 1369.38 Q1074.4 1369.38 1071.11 1370.11 Q1067.87 1370.84 1064.47 1372.38 L1064.47 1341.99 Z\" fill=\"#000000\" fill-rule=\"nonzero\" fill-opacity=\"1\" /><path clip-path=\"url(#clip830)\" d=\"M931.211 1107.46 Q925.701 1107.46 922.461 1111.23 Q919.26 1115 919.26 1121.56 Q919.26 1128.08 922.461 1131.89 Q925.701 1135.66 931.211 1135.66 Q936.72 1135.66 939.92 1131.89 Q943.161 1128.08 943.161 1121.56 Q943.161 1115 939.92 1111.23 Q936.72 1107.46 931.211 1107.46 M947.455 1081.82 L947.455 1089.28 Q944.376 1087.82 941.216 1087.05 Q938.097 1086.28 935.019 1086.28 Q926.917 1086.28 922.623 1091.75 Q918.369 1097.22 917.762 1108.27 Q920.152 1104.75 923.757 1102.89 Q927.362 1100.98 931.697 1100.98 Q940.811 1100.98 946.077 1106.53 Q951.384 1112.04 951.384 1121.56 Q951.384 1130.88 945.875 1136.51 Q940.366 1142.14 931.211 1142.14 Q920.719 1142.14 915.169 1134.12 Q909.619 1126.06 909.619 1110.79 Q909.619 1096.45 916.425 1087.94 Q923.23 1079.39 934.694 1079.39 Q937.773 1079.39 940.892 1080 Q944.052 1080.61 947.455 1081.82 Z\" fill=\"#000000\" fill-rule=\"nonzero\" fill-opacity=\"1\" /><path clip-path=\"url(#clip830)\" d=\"M1364 1341.99 L1402.89 1341.99 L1402.89 1345.48 L1380.94 1402.47 L1372.39 1402.47 L1393.05 1348.88 L1364 1348.88 L1364 1341.99 Z\" fill=\"#000000\" fill-rule=\"nonzero\" fill-opacity=\"1\" /><path clip-path=\"url(#clip830)\" d=\"M1685.41 1373.75 Q1679.58 1373.75 1676.22 1376.87 Q1672.9 1379.99 1672.9 1385.46 Q1672.9 1390.93 1676.22 1394.05 Q1679.58 1397.17 1685.41 1397.17 Q1691.25 1397.17 1694.61 1394.05 Q1697.97 1390.89 1697.97 1385.46 Q1697.97 1379.99 1694.61 1376.87 Q1691.29 1373.75 1685.41 1373.75 M1677.23 1370.27 Q1671.96 1368.97 1669.01 1365.37 Q1666.09 1361.76 1666.09 1356.58 Q1666.09 1349.33 1671.24 1345.11 Q1676.42 1340.9 1685.41 1340.9 Q1694.45 1340.9 1699.59 1345.11 Q1704.74 1349.33 1704.74 1356.58 Q1704.74 1361.76 1701.78 1365.37 Q1698.86 1368.97 1693.64 1370.27 Q1699.55 1371.65 1702.83 1375.66 Q1706.15 1379.67 1706.15 1385.46 Q1706.15 1394.25 1700.77 1398.95 Q1695.42 1403.65 1685.41 1403.65 Q1675.41 1403.65 1670.02 1398.95 Q1664.67 1394.25 1664.67 1385.46 Q1664.67 1379.67 1667.99 1375.66 Q1671.32 1371.65 1677.23 1370.27 M1674.23 1357.35 Q1674.23 1362.05 1677.15 1364.68 Q1680.11 1367.31 1685.41 1367.31 Q1690.68 1367.31 1693.64 1364.68 Q1696.63 1362.05 1696.63 1357.35 Q1696.63 1352.65 1693.64 1350.02 Q1690.68 1347.38 1685.41 1347.38 Q1680.11 1347.38 1677.15 1350.02 Q1674.23 1352.65 1674.23 1357.35 Z\" fill=\"#000000\" fill-rule=\"nonzero\" fill-opacity=\"1\" /><path clip-path=\"url(#clip830)\" d=\"M1517.46 1139.71 L1517.46 1132.26 Q1520.54 1133.71 1523.7 1134.48 Q1526.86 1135.25 1529.89 1135.25 Q1538 1135.25 1542.25 1129.83 Q1546.54 1124.36 1547.15 1113.26 Q1544.8 1116.74 1541.2 1118.6 Q1537.59 1120.47 1533.22 1120.47 Q1524.14 1120.47 1518.84 1115 Q1513.57 1109.49 1513.57 1099.97 Q1513.57 1090.65 1519.08 1085.02 Q1524.59 1079.39 1533.74 1079.39 Q1544.23 1079.39 1549.74 1087.45 Q1555.29 1095.47 1555.29 1110.79 Q1555.29 1125.09 1548.49 1133.63 Q1541.72 1142.14 1530.26 1142.14 Q1527.18 1142.14 1524.02 1141.53 Q1520.86 1140.93 1517.46 1139.71 M1533.74 1114.07 Q1539.25 1114.07 1542.45 1110.3 Q1545.69 1106.53 1545.69 1099.97 Q1545.69 1093.45 1542.45 1089.68 Q1539.25 1085.87 1533.74 1085.87 Q1528.23 1085.87 1524.99 1089.68 Q1521.79 1093.45 1521.79 1099.97 Q1521.79 1106.53 1524.99 1110.3 Q1528.23 1114.07 1533.74 1114.07 Z\" fill=\"#000000\" fill-rule=\"nonzero\" fill-opacity=\"1\" /><path clip-path=\"url(#clip830)\" d=\"M433.258 872.57 L446.626 872.57 L446.626 826.43 L432.083 829.347 L432.083 821.893 L446.545 818.977 L454.728 818.977 L454.728 872.57 L468.096 872.57 L468.096 879.457 L433.258 879.457 L433.258 872.57 Z\" fill=\"#000000\" fill-rule=\"nonzero\" fill-opacity=\"1\" /><path clip-path=\"url(#clip830)\" d=\"M502.123 824.364 Q495.804 824.364 492.604 830.603 Q489.444 836.801 489.444 849.277 Q489.444 861.714 492.604 867.952 Q495.804 874.15 502.123 874.15 Q508.483 874.15 511.643 867.952 Q514.843 861.714 514.843 849.277 Q514.843 836.801 511.643 830.603 Q508.483 824.364 502.123 824.364 M502.123 817.883 Q512.291 817.883 517.638 825.944 Q523.026 833.965 523.026 849.277 Q523.026 864.549 517.638 872.611 Q512.291 880.631 502.123 880.631 Q491.956 880.631 486.568 872.611 Q481.221 864.549 481.221 849.277 Q481.221 833.965 486.568 825.944 Q491.956 817.883 502.123 817.883 Z\" fill=\"#000000\" fill-rule=\"nonzero\" fill-opacity=\"1\" /><path clip-path=\"url(#clip830)\" d=\"M736.296 872.57 L749.664 872.57 L749.664 826.43 L735.121 829.347 L735.121 821.893 L749.583 818.977 L757.766 818.977 L757.766 872.57 L771.134 872.57 L771.134 879.457 L736.296 879.457 L736.296 872.57 Z\" fill=\"#000000\" fill-rule=\"nonzero\" fill-opacity=\"1\" /><path clip-path=\"url(#clip830)\" d=\"M789.079 872.57 L802.447 872.57 L802.447 826.43 L787.905 829.347 L787.905 821.893 L802.366 818.977 L810.549 818.977 L810.549 872.57 L823.917 872.57 L823.917 879.457 L789.079 879.457 L789.079 872.57 Z\" fill=\"#000000\" fill-rule=\"nonzero\" fill-opacity=\"1\" /><path clip-path=\"url(#clip830)\" d=\"M585.638 611.061 L599.006 611.061 L599.006 564.921 L584.463 567.838 L584.463 560.384 L598.925 557.467 L607.108 557.467 L607.108 611.061 L620.476 611.061 L620.476 617.947 L585.638 617.947 L585.638 611.061 Z\" fill=\"#000000\" fill-rule=\"nonzero\" fill-opacity=\"1\" /><path clip-path=\"url(#clip830)\" d=\"M644.052 611.061 L672.611 611.061 L672.611 617.947 L634.208 617.947 L634.208 611.061 Q638.867 606.24 646.888 598.138 Q654.949 589.996 657.015 587.647 Q660.944 583.231 662.484 580.193 Q664.063 577.114 664.063 574.157 Q664.063 569.337 660.661 566.298 Q657.298 563.26 651.87 563.26 Q648.022 563.26 643.728 564.597 Q639.474 565.934 634.613 568.648 L634.613 560.384 Q639.555 558.399 643.849 557.386 Q648.143 556.374 651.708 556.374 Q661.106 556.374 666.696 561.073 Q672.287 565.772 672.287 573.631 Q672.287 577.357 670.869 580.72 Q669.492 584.041 665.805 588.578 Q664.793 589.753 659.364 595.384 Q653.936 600.974 644.052 611.061 Z\" fill=\"#000000\" fill-rule=\"nonzero\" fill-opacity=\"1\" /><path clip-path=\"url(#clip830)\" d=\"M1037.75 872.57 L1051.12 872.57 L1051.12 826.43 L1036.58 829.347 L1036.58 821.893 L1051.04 818.977 L1059.22 818.977 L1059.22 872.57 L1072.59 872.57 L1072.59 879.457 L1037.75 879.457 L1037.75 872.57 Z\" fill=\"#000000\" fill-rule=\"nonzero\" fill-opacity=\"1\" /><path clip-path=\"url(#clip830)\" d=\"M1113.91 846.847 Q1119.79 848.103 1123.07 852.072 Q1126.39 856.042 1126.39 861.876 Q1126.39 870.828 1120.23 875.73 Q1114.07 880.631 1102.73 880.631 Q1098.92 880.631 1094.87 879.862 Q1090.86 879.133 1086.57 877.634 L1086.57 869.734 Q1089.97 871.719 1094.02 872.732 Q1098.07 873.745 1102.49 873.745 Q1110.18 873.745 1114.2 870.707 Q1118.25 867.668 1118.25 861.876 Q1118.25 856.528 1114.48 853.531 Q1110.75 850.493 1104.07 850.493 L1097.02 850.493 L1097.02 843.768 L1104.39 843.768 Q1110.43 843.768 1113.63 841.378 Q1116.83 838.948 1116.83 834.411 Q1116.83 829.752 1113.51 827.281 Q1110.23 824.769 1104.07 824.769 Q1100.71 824.769 1096.86 825.499 Q1093.01 826.228 1088.39 827.767 L1088.39 820.475 Q1093.05 819.179 1097.1 818.531 Q1101.19 817.883 1104.8 817.883 Q1114.11 817.883 1119.54 822.136 Q1124.97 826.349 1124.97 833.56 Q1124.97 838.583 1122.09 842.067 Q1119.22 845.51 1113.91 846.847 Z\" fill=\"#000000\" fill-rule=\"nonzero\" fill-opacity=\"1\" /><path clip-path=\"url(#clip830)\" d=\"M1338.73 872.57 L1352.09 872.57 L1352.09 826.43 L1337.55 829.347 L1337.55 821.893 L1352.01 818.977 L1360.2 818.977 L1360.2 872.57 L1373.56 872.57 L1373.56 879.457 L1338.73 879.457 L1338.73 872.57 Z\" fill=\"#000000\" fill-rule=\"nonzero\" fill-opacity=\"1\" /><path clip-path=\"url(#clip830)\" d=\"M1412.57 826.106 L1391.92 858.392 L1412.57 858.392 L1412.57 826.106 M1410.43 818.977 L1420.72 818.977 L1420.72 858.392 L1429.35 858.392 L1429.35 865.197 L1420.72 865.197 L1420.72 879.457 L1412.57 879.457 L1412.57 865.197 L1385.27 865.197 L1385.27 857.298 L1410.43 818.977 Z\" fill=\"#000000\" fill-rule=\"nonzero\" fill-opacity=\"1\" /><path clip-path=\"url(#clip830)\" d=\"M1189.04 611.061 L1202.41 611.061 L1202.41 564.921 L1187.87 567.838 L1187.87 560.384 L1202.33 557.467 L1210.51 557.467 L1210.51 611.061 L1223.88 611.061 L1223.88 617.947 L1189.04 617.947 L1189.04 611.061 Z\" fill=\"#000000\" fill-rule=\"nonzero\" fill-opacity=\"1\" /><path clip-path=\"url(#clip830)\" d=\"M1240.49 557.467 L1272.61 557.467 L1272.61 564.354 L1247.98 564.354 L1247.98 579.18 Q1249.76 578.573 1251.55 578.289 Q1253.33 577.965 1255.11 577.965 Q1265.24 577.965 1271.15 583.515 Q1277.07 589.064 1277.07 598.544 Q1277.07 608.306 1270.99 613.734 Q1264.91 619.122 1253.86 619.122 Q1250.05 619.122 1246.08 618.474 Q1242.15 617.826 1237.94 616.53 L1237.94 608.306 Q1241.58 610.291 1245.47 611.263 Q1249.36 612.236 1253.69 612.236 Q1260.7 612.236 1264.79 608.549 Q1268.88 604.863 1268.88 598.544 Q1268.88 592.224 1264.79 588.538 Q1260.7 584.852 1253.69 584.852 Q1250.41 584.852 1247.13 585.581 Q1243.89 586.31 1240.49 587.849 L1240.49 557.467 Z\" fill=\"#000000\" fill-rule=\"nonzero\" fill-opacity=\"1\" /><path clip-path=\"url(#clip830)\" d=\"M1640.98 872.57 L1654.34 872.57 L1654.34 826.43 L1639.8 829.347 L1639.8 821.893 L1654.26 818.977 L1662.45 818.977 L1662.45 872.57 L1675.81 872.57 L1675.81 879.457 L1640.98 879.457 L1640.98 872.57 Z\" fill=\"#000000\" fill-rule=\"nonzero\" fill-opacity=\"1\" /><path clip-path=\"url(#clip830)\" d=\"M1710.85 845.956 Q1705.34 845.956 1702.1 849.723 Q1698.9 853.49 1698.9 860.053 Q1698.9 866.575 1702.1 870.383 Q1705.34 874.15 1710.85 874.15 Q1716.36 874.15 1719.56 870.383 Q1722.8 866.575 1722.8 860.053 Q1722.8 853.49 1719.56 849.723 Q1716.36 845.956 1710.85 845.956 M1727.1 820.313 L1727.1 827.767 Q1724.02 826.309 1720.86 825.539 Q1717.74 824.769 1714.66 824.769 Q1706.56 824.769 1702.27 830.238 Q1698.01 835.707 1697.4 846.766 Q1699.79 843.241 1703.4 841.378 Q1707.01 839.474 1711.34 839.474 Q1720.45 839.474 1725.72 845.024 Q1731.03 850.533 1731.03 860.053 Q1731.03 869.37 1725.52 875.001 Q1720.01 880.631 1710.85 880.631 Q1700.36 880.631 1694.81 872.611 Q1689.26 864.549 1689.26 849.277 Q1689.26 834.937 1696.07 826.43 Q1702.87 817.883 1714.34 817.883 Q1717.42 817.883 1720.54 818.49 Q1723.69 819.098 1727.1 820.313 Z\" fill=\"#000000\" fill-rule=\"nonzero\" fill-opacity=\"1\" /><path clip-path=\"url(#clip830)\" d=\"M1943.87 872.57 L1957.24 872.57 L1957.24 826.43 L1942.7 829.347 L1942.7 821.893 L1957.16 818.977 L1965.34 818.977 L1965.34 872.57 L1978.71 872.57 L1978.71 879.457 L1943.87 879.457 L1943.87 872.57 Z\" fill=\"#000000\" fill-rule=\"nonzero\" fill-opacity=\"1\" /><path clip-path=\"url(#clip830)\" d=\"M1993.17 818.977 L2032.06 818.977 L2032.06 822.46 L2010.1 879.457 L2001.56 879.457 L2022.22 825.863 L1993.17 825.863 L1993.17 818.977 Z\" fill=\"#000000\" fill-rule=\"nonzero\" fill-opacity=\"1\" /><path clip-path=\"url(#clip830)\" d=\"M1792.18 611.061 L1805.55 611.061 L1805.55 564.921 L1791.01 567.838 L1791.01 560.384 L1805.47 557.467 L1813.65 557.467 L1813.65 611.061 L1827.02 611.061 L1827.02 617.947 L1792.18 617.947 L1792.18 611.061 Z\" fill=\"#000000\" fill-rule=\"nonzero\" fill-opacity=\"1\" /><path clip-path=\"url(#clip830)\" d=\"M1861.05 589.226 Q1855.21 589.226 1851.85 592.346 Q1848.53 595.465 1848.53 600.934 Q1848.53 606.402 1851.85 609.522 Q1855.21 612.641 1861.05 612.641 Q1866.88 612.641 1870.24 609.522 Q1873.6 606.362 1873.6 600.934 Q1873.6 595.465 1870.24 592.346 Q1866.92 589.226 1861.05 589.226 M1852.86 585.743 Q1847.6 584.446 1844.64 580.841 Q1841.72 577.236 1841.72 572.051 Q1841.72 564.8 1846.87 560.587 Q1852.05 556.374 1861.05 556.374 Q1870.08 556.374 1875.22 560.587 Q1880.37 564.8 1880.37 572.051 Q1880.37 577.236 1877.41 580.841 Q1874.49 584.446 1869.27 585.743 Q1875.18 587.12 1878.46 591.13 Q1881.79 595.141 1881.79 600.934 Q1881.79 609.724 1876.4 614.423 Q1871.05 619.122 1861.05 619.122 Q1851.04 619.122 1845.65 614.423 Q1840.31 609.724 1840.31 600.934 Q1840.31 595.141 1843.63 591.13 Q1846.95 587.12 1852.86 585.743 M1849.87 572.82 Q1849.87 577.519 1852.78 580.152 Q1855.74 582.786 1861.05 582.786 Q1866.31 582.786 1869.27 580.152 Q1872.27 577.519 1872.27 572.82 Q1872.27 568.121 1869.27 565.488 Q1866.31 562.855 1861.05 562.855 Q1855.74 562.855 1852.78 565.488 Q1849.87 568.121 1849.87 572.82 Z\" fill=\"#000000\" fill-rule=\"nonzero\" fill-opacity=\"1\" /><path clip-path=\"url(#clip830)\" d=\"M735.385 349.552 L748.753 349.552 L748.753 303.412 L734.21 306.329 L734.21 298.875 L748.672 295.958 L756.855 295.958 L756.855 349.552 L770.223 349.552 L770.223 356.438 L735.385 356.438 L735.385 349.552 Z\" fill=\"#000000\" fill-rule=\"nonzero\" fill-opacity=\"1\" /><path clip-path=\"url(#clip830)\" d=\"M786.993 355.182 L786.993 347.729 Q790.072 349.187 793.232 349.957 Q796.391 350.726 799.43 350.726 Q807.531 350.726 811.785 345.298 Q816.079 339.83 816.686 328.73 Q814.337 332.214 810.732 334.077 Q807.126 335.941 802.751 335.941 Q793.677 335.941 788.371 330.472 Q783.104 324.963 783.104 315.443 Q783.104 306.126 788.614 300.495 Q794.123 294.864 803.278 294.864 Q813.77 294.864 819.279 302.926 Q824.829 310.947 824.829 326.259 Q824.829 340.559 818.023 349.106 Q811.258 357.613 799.794 357.613 Q796.715 357.613 793.556 357.005 Q790.396 356.398 786.993 355.182 M803.278 329.54 Q808.787 329.54 811.987 325.773 Q815.228 322.006 815.228 315.443 Q815.228 308.921 811.987 305.154 Q808.787 301.346 803.278 301.346 Q797.769 301.346 794.528 305.154 Q791.328 308.921 791.328 315.443 Q791.328 322.006 794.528 325.773 Q797.769 329.54 803.278 329.54 Z\" fill=\"#000000\" fill-rule=\"nonzero\" fill-opacity=\"1\" /><path clip-path=\"url(#clip830)\" d=\"M1044.34 349.552 L1072.9 349.552 L1072.9 356.438 L1034.49 356.438 L1034.49 349.552 Q1039.15 344.731 1047.17 336.629 Q1055.23 328.487 1057.3 326.137 Q1061.23 321.722 1062.77 318.684 Q1064.35 315.605 1064.35 312.648 Q1064.35 307.827 1060.95 304.789 Q1057.58 301.751 1052.16 301.751 Q1048.31 301.751 1044.01 303.088 Q1039.76 304.425 1034.9 307.139 L1034.9 298.875 Q1039.84 296.89 1044.13 295.877 Q1048.43 294.864 1051.99 294.864 Q1061.39 294.864 1066.98 299.564 Q1072.57 304.263 1072.57 312.121 Q1072.57 315.848 1071.15 319.21 Q1069.78 322.532 1066.09 327.069 Q1065.08 328.244 1059.65 333.875 Q1054.22 339.465 1044.34 349.552 Z\" fill=\"#000000\" fill-rule=\"nonzero\" fill-opacity=\"1\" /><path clip-path=\"url(#clip830)\" d=\"M1107.57 301.346 Q1101.25 301.346 1098.05 307.584 Q1094.89 313.782 1094.89 326.259 Q1094.89 338.695 1098.05 344.934 Q1101.25 351.132 1107.57 351.132 Q1113.93 351.132 1117.09 344.934 Q1120.29 338.695 1120.29 326.259 Q1120.29 313.782 1117.09 307.584 Q1113.93 301.346 1107.57 301.346 M1107.57 294.864 Q1117.74 294.864 1123.09 302.926 Q1128.47 310.947 1128.47 326.259 Q1128.47 341.531 1123.09 349.592 Q1117.74 357.613 1107.57 357.613 Q1097.4 357.613 1092.02 349.592 Q1086.67 341.531 1086.67 326.259 Q1086.67 310.947 1092.02 302.926 Q1097.4 294.864 1107.57 294.864 Z\" fill=\"#000000\" fill-rule=\"nonzero\" fill-opacity=\"1\" /><path clip-path=\"url(#clip830)\" d=\"M894.428 88.0425 L922.987 88.0425 L922.987 94.929 L884.585 94.929 L884.585 88.0425 Q889.243 83.2219 897.264 75.1201 Q905.325 66.9778 907.391 64.6283 Q911.321 60.2128 912.86 57.1746 Q914.44 54.0959 914.44 51.1388 Q914.44 46.3182 911.037 43.28 Q907.675 40.2418 902.247 40.2418 Q898.398 40.2418 894.104 41.5786 Q889.851 42.9154 884.99 45.6295 L884.99 37.3657 Q889.932 35.3807 894.226 34.368 Q898.52 33.3553 902.085 33.3553 Q911.483 33.3553 917.073 38.0543 Q922.663 42.7534 922.663 50.6121 Q922.663 54.339 921.245 57.7012 Q919.868 61.023 916.182 65.56 Q915.169 66.7347 909.741 72.3655 Q904.313 77.9558 894.428 88.0425 Z\" fill=\"#000000\" fill-rule=\"nonzero\" fill-opacity=\"1\" /><path clip-path=\"url(#clip830)\" d=\"M941.581 88.0425 L954.949 88.0425 L954.949 41.9027 L940.406 44.8194 L940.406 37.3657 L954.868 34.449 L963.051 34.449 L963.051 88.0425 L976.419 88.0425 L976.419 94.929 L941.581 94.929 L941.581 88.0425 Z\" fill=\"#000000\" fill-rule=\"nonzero\" fill-opacity=\"1\" /><path clip-path=\"url(#clip830)\" d=\"M1347.7 349.552 L1376.26 349.552 L1376.26 356.438 L1337.86 356.438 L1337.86 349.552 Q1342.51 344.731 1350.54 336.629 Q1358.6 328.487 1360.66 326.137 Q1364.59 321.722 1366.13 318.684 Q1367.71 315.605 1367.71 312.648 Q1367.71 307.827 1364.31 304.789 Q1360.95 301.751 1355.52 301.751 Q1351.67 301.751 1347.38 303.088 Q1343.12 304.425 1338.26 307.139 L1338.26 298.875 Q1343.2 296.89 1347.5 295.877 Q1351.79 294.864 1355.36 294.864 Q1364.75 294.864 1370.34 299.564 Q1375.93 304.263 1375.93 312.121 Q1375.93 315.848 1374.52 319.21 Q1373.14 322.532 1369.45 327.069 Q1368.44 328.244 1363.01 333.875 Q1357.58 339.465 1347.7 349.552 Z\" fill=\"#000000\" fill-rule=\"nonzero\" fill-opacity=\"1\" /><path clip-path=\"url(#clip830)\" d=\"M1400.48 349.552 L1429.04 349.552 L1429.04 356.438 L1390.64 356.438 L1390.64 349.552 Q1395.3 344.731 1403.32 336.629 Q1411.38 328.487 1413.45 326.137 Q1417.38 321.722 1418.91 318.684 Q1420.49 315.605 1420.49 312.648 Q1420.49 307.827 1417.09 304.789 Q1413.73 301.751 1408.3 301.751 Q1404.45 301.751 1400.16 303.088 Q1395.91 304.425 1391.04 307.139 L1391.04 298.875 Q1395.99 296.89 1400.28 295.877 Q1404.57 294.864 1408.14 294.864 Q1417.54 294.864 1423.13 299.564 Q1428.72 304.263 1428.72 312.121 Q1428.72 315.848 1427.3 319.21 Q1425.92 322.532 1422.24 327.069 Q1421.22 328.244 1415.8 333.875 Q1410.37 339.465 1400.48 349.552 Z\" fill=\"#000000\" fill-rule=\"nonzero\" fill-opacity=\"1\" /><path clip-path=\"url(#clip830)\" d=\"M1648.83 349.552 L1677.39 349.552 L1677.39 356.438 L1638.99 356.438 L1638.99 349.552 Q1643.65 344.731 1651.67 336.629 Q1659.73 328.487 1661.8 326.137 Q1665.73 321.722 1667.27 318.684 Q1668.85 315.605 1668.85 312.648 Q1668.85 307.827 1665.44 304.789 Q1662.08 301.751 1656.65 301.751 Q1652.8 301.751 1648.51 303.088 Q1644.26 304.425 1639.4 307.139 L1639.4 298.875 Q1644.34 296.89 1648.63 295.877 Q1652.93 294.864 1656.49 294.864 Q1665.89 294.864 1671.48 299.564 Q1677.07 304.263 1677.07 312.121 Q1677.07 315.848 1675.65 319.21 Q1674.27 322.532 1670.59 327.069 Q1669.57 328.244 1664.15 333.875 Q1658.72 339.465 1648.83 349.552 Z\" fill=\"#000000\" fill-rule=\"nonzero\" fill-opacity=\"1\" /><path clip-path=\"url(#clip830)\" d=\"M1719.36 323.828 Q1725.23 325.084 1728.52 329.054 Q1731.84 333.024 1731.84 338.857 Q1731.84 347.81 1725.68 352.711 Q1719.52 357.613 1708.18 357.613 Q1704.37 357.613 1700.32 356.843 Q1696.31 356.114 1692.02 354.615 L1692.02 346.716 Q1695.42 348.701 1699.47 349.714 Q1703.52 350.726 1707.94 350.726 Q1715.63 350.726 1719.64 347.688 Q1723.69 344.65 1723.69 338.857 Q1723.69 333.51 1719.93 330.512 Q1716.2 327.474 1709.52 327.474 L1702.47 327.474 L1702.47 320.75 L1709.84 320.75 Q1715.88 320.75 1719.08 318.36 Q1722.28 315.929 1722.28 311.392 Q1722.28 306.734 1718.96 304.263 Q1715.67 301.751 1709.52 301.751 Q1706.15 301.751 1702.31 302.48 Q1698.46 303.209 1693.84 304.749 L1693.84 297.457 Q1698.5 296.161 1702.55 295.513 Q1706.64 294.864 1710.25 294.864 Q1719.56 294.864 1724.99 299.118 Q1730.42 303.331 1730.42 310.541 Q1730.42 315.565 1727.54 319.048 Q1724.67 322.492 1719.36 323.828 Z\" fill=\"#000000\" fill-rule=\"nonzero\" fill-opacity=\"1\" /><path clip-path=\"url(#clip830)\" d=\"M1496.86 88.0425 L1525.42 88.0425 L1525.42 94.929 L1487.02 94.929 L1487.02 88.0425 Q1491.67 83.2219 1499.69 75.1201 Q1507.76 66.9778 1509.82 64.6283 Q1513.75 60.2128 1515.29 57.1746 Q1516.87 54.0959 1516.87 51.1388 Q1516.87 46.3182 1513.47 43.28 Q1510.11 40.2418 1504.68 40.2418 Q1500.83 40.2418 1496.54 41.5786 Q1492.28 42.9154 1487.42 45.6295 L1487.42 37.3657 Q1492.36 35.3807 1496.66 34.368 Q1500.95 33.3553 1504.52 33.3553 Q1513.91 33.3553 1519.5 38.0543 Q1525.09 42.7534 1525.09 50.6121 Q1525.09 54.339 1523.68 57.7012 Q1522.3 61.023 1518.61 65.56 Q1517.6 66.7347 1512.17 72.3655 Q1506.74 77.9558 1496.86 88.0425 Z\" fill=\"#000000\" fill-rule=\"nonzero\" fill-opacity=\"1\" /><path clip-path=\"url(#clip830)\" d=\"M1565.08 41.5786 L1544.42 73.8643 L1565.08 73.8643 L1565.08 41.5786 M1562.93 34.449 L1573.22 34.449 L1573.22 73.8643 L1581.85 73.8643 L1581.85 80.6699 L1573.22 80.6699 L1573.22 94.929 L1565.08 94.929 L1565.08 80.6699 L1537.77 80.6699 L1537.77 72.7706 L1562.93 34.449 Z\" fill=\"#000000\" fill-rule=\"nonzero\" fill-opacity=\"1\" /><path clip-path=\"url(#clip830)\" d=\"M1951.1 349.552 L1979.66 349.552 L1979.66 356.438 L1941.26 356.438 L1941.26 349.552 Q1945.92 344.731 1953.94 336.629 Q1962 328.487 1964.07 326.137 Q1967.99 321.722 1969.53 318.684 Q1971.11 315.605 1971.11 312.648 Q1971.11 307.827 1967.71 304.789 Q1964.35 301.751 1958.92 301.751 Q1955.07 301.751 1950.78 303.088 Q1946.53 304.425 1941.66 307.139 L1941.66 298.875 Q1946.61 296.89 1950.9 295.877 Q1955.19 294.864 1958.76 294.864 Q1968.16 294.864 1973.75 299.564 Q1979.34 304.263 1979.34 312.121 Q1979.34 315.848 1977.92 319.21 Q1976.54 322.532 1972.86 327.069 Q1971.84 328.244 1966.42 333.875 Q1960.99 339.465 1951.1 349.552 Z\" fill=\"#000000\" fill-rule=\"nonzero\" fill-opacity=\"1\" /><path clip-path=\"url(#clip830)\" d=\"M1996.92 295.958 L2029.04 295.958 L2029.04 302.845 L2004.41 302.845 L2004.41 317.671 Q2006.19 317.063 2007.98 316.78 Q2009.76 316.456 2011.54 316.456 Q2021.67 316.456 2027.58 322.006 Q2033.5 327.555 2033.5 337.034 Q2033.5 346.797 2027.42 352.225 Q2021.35 357.613 2010.29 357.613 Q2006.48 357.613 2002.51 356.965 Q1998.58 356.317 1994.37 355.02 L1994.37 346.797 Q1998.01 348.782 2001.9 349.754 Q2005.79 350.726 2010.12 350.726 Q2017.13 350.726 2021.22 347.04 Q2025.32 343.354 2025.32 337.034 Q2025.32 330.715 2021.22 327.029 Q2017.13 323.342 2010.12 323.342 Q2006.84 323.342 2003.56 324.071 Q2000.32 324.801 1996.92 326.34 L1996.92 295.958 Z\" fill=\"#000000\" fill-rule=\"nonzero\" fill-opacity=\"1\" /><path clip-path=\"url(#clip830)\" d=\"M2252.05 349.552 L2280.61 349.552 L2280.61 356.438 L2242.21 356.438 L2242.21 349.552 Q2246.87 344.731 2254.89 336.629 Q2262.95 328.487 2265.02 326.137 Q2268.95 321.722 2270.49 318.684 Q2272.07 315.605 2272.07 312.648 Q2272.07 307.827 2268.66 304.789 Q2265.3 301.751 2259.87 301.751 Q2256.02 301.751 2251.73 303.088 Q2247.48 304.425 2242.62 307.139 L2242.62 298.875 Q2247.56 296.89 2251.85 295.877 Q2256.15 294.864 2259.71 294.864 Q2269.11 294.864 2274.7 299.564 Q2280.29 304.263 2280.29 312.121 Q2280.29 315.848 2278.87 319.21 Q2277.49 322.532 2273.81 327.069 Q2272.8 328.244 2267.37 333.875 Q2261.94 339.465 2252.05 349.552 Z\" fill=\"#000000\" fill-rule=\"nonzero\" fill-opacity=\"1\" /><path clip-path=\"url(#clip830)\" d=\"M2316.3 322.937 Q2310.79 322.937 2307.55 326.705 Q2304.35 330.472 2304.35 337.034 Q2304.35 343.556 2307.55 347.364 Q2310.79 351.132 2316.3 351.132 Q2321.81 351.132 2325.01 347.364 Q2328.25 343.556 2328.25 337.034 Q2328.25 330.472 2325.01 326.705 Q2321.81 322.937 2316.3 322.937 M2332.55 297.295 L2332.55 304.749 Q2329.47 303.29 2326.31 302.521 Q2323.19 301.751 2320.11 301.751 Q2312.01 301.751 2307.71 307.22 Q2303.46 312.688 2302.85 323.747 Q2305.24 320.223 2308.85 318.36 Q2312.45 316.456 2316.79 316.456 Q2325.9 316.456 2331.17 322.006 Q2336.48 327.515 2336.48 337.034 Q2336.48 346.351 2330.97 351.982 Q2325.46 357.613 2316.3 357.613 Q2305.81 357.613 2300.26 349.592 Q2294.71 341.531 2294.71 326.259 Q2294.71 311.919 2301.52 303.412 Q2308.32 294.864 2319.79 294.864 Q2322.86 294.864 2325.98 295.472 Q2329.14 296.08 2332.55 297.295 Z\" fill=\"#000000\" fill-rule=\"nonzero\" fill-opacity=\"1\" /><path clip-path=\"url(#clip830)\" d=\"M2102 88.0425 L2130.56 88.0425 L2130.56 94.929 L2092.16 94.929 L2092.16 88.0425 Q2096.82 83.2219 2104.84 75.1201 Q2112.9 66.9778 2114.97 64.6283 Q2118.9 60.2128 2120.44 57.1746 Q2122.02 54.0959 2122.02 51.1388 Q2122.02 46.3182 2118.61 43.28 Q2115.25 40.2418 2109.82 40.2418 Q2105.97 40.2418 2101.68 41.5786 Q2097.43 42.9154 2092.57 45.6295 L2092.57 37.3657 Q2097.51 35.3807 2101.8 34.368 Q2106.1 33.3553 2109.66 33.3553 Q2119.06 33.3553 2124.65 38.0543 Q2130.24 42.7534 2130.24 50.6121 Q2130.24 54.339 2128.82 57.7012 Q2127.44 61.023 2123.76 65.56 Q2122.74 66.7347 2117.32 72.3655 Q2111.89 77.9558 2102 88.0425 Z\" fill=\"#000000\" fill-rule=\"nonzero\" fill-opacity=\"1\" /><path clip-path=\"url(#clip830)\" d=\"M2145.67 34.449 L2184.56 34.449 L2184.56 37.9328 L2162.61 94.929 L2154.06 94.929 L2174.72 41.3356 L2145.67 41.3356 L2145.67 34.449 Z\" fill=\"#000000\" fill-rule=\"nonzero\" fill-opacity=\"1\" /></svg>\n"
      ],
      "text/html": [
       "<?xml version=\"1.0\" encoding=\"utf-8\"?>\n",
       "<svg xmlns=\"http://www.w3.org/2000/svg\" xmlns:xlink=\"http://www.w3.org/1999/xlink\" width=\"600\" height=\"400\" viewBox=\"0 0 2400 1600\">\n",
       "<defs>\n",
       "  <clipPath id=\"clip880\">\n",
       "    <rect x=\"0\" y=\"0\" width=\"2400\" height=\"1600\"/>\n",
       "  </clipPath>\n",
       "</defs>\n",
       "<path clip-path=\"url(#clip880)\" d=\"M0 1600 L2400 1600 L2400 0 L0 0  Z\" fill=\"#ffffff\" fill-rule=\"evenodd\" fill-opacity=\"1\"/>\n",
       "<defs>\n",
       "  <clipPath id=\"clip881\">\n",
       "    <rect x=\"480\" y=\"0\" width=\"1681\" height=\"1600\"/>\n",
       "  </clipPath>\n",
       "</defs>\n",
       "<path clip-path=\"url(#clip880)\" d=\"M112.177 1486.45 L2352.76 1486.45 L2352.76 47.2441 L112.177 47.2441  Z\" fill=\"#ffffff\" fill-rule=\"evenodd\" fill-opacity=\"1\"/>\n",
       "<defs>\n",
       "  <clipPath id=\"clip882\">\n",
       "    <rect x=\"112\" y=\"47\" width=\"2242\" height=\"1440\"/>\n",
       "  </clipPath>\n",
       "</defs>\n",
       "<polyline clip-path=\"url(#clip882)\" style=\"stroke:#000000; stroke-linecap:round; stroke-linejoin:round; stroke-width:2; stroke-opacity:0.1; fill:none\" points=\"175.59,1486.45 175.59,47.2441 \"/>\n",
       "<polyline clip-path=\"url(#clip882)\" style=\"stroke:#000000; stroke-linecap:round; stroke-linejoin:round; stroke-width:2; stroke-opacity:0.1; fill:none\" points=\"779.519,1486.45 779.519,47.2441 \"/>\n",
       "<polyline clip-path=\"url(#clip882)\" style=\"stroke:#000000; stroke-linecap:round; stroke-linejoin:round; stroke-width:2; stroke-opacity:0.1; fill:none\" points=\"1383.45,1486.45 1383.45,47.2441 \"/>\n",
       "<polyline clip-path=\"url(#clip882)\" style=\"stroke:#000000; stroke-linecap:round; stroke-linejoin:round; stroke-width:2; stroke-opacity:0.1; fill:none\" points=\"1987.38,1486.45 1987.38,47.2441 \"/>\n",
       "<polyline clip-path=\"url(#clip880)\" style=\"stroke:#000000; stroke-linecap:round; stroke-linejoin:round; stroke-width:4; stroke-opacity:1; fill:none\" points=\"112.177,1486.45 2352.76,1486.45 \"/>\n",
       "<polyline clip-path=\"url(#clip880)\" style=\"stroke:#000000; stroke-linecap:round; stroke-linejoin:round; stroke-width:4; stroke-opacity:1; fill:none\" points=\"175.59,1486.45 175.59,1467.55 \"/>\n",
       "<polyline clip-path=\"url(#clip880)\" style=\"stroke:#000000; stroke-linecap:round; stroke-linejoin:round; stroke-width:4; stroke-opacity:1; fill:none\" points=\"779.519,1486.45 779.519,1467.55 \"/>\n",
       "<polyline clip-path=\"url(#clip880)\" style=\"stroke:#000000; stroke-linecap:round; stroke-linejoin:round; stroke-width:4; stroke-opacity:1; fill:none\" points=\"1383.45,1486.45 1383.45,1467.55 \"/>\n",
       "<polyline clip-path=\"url(#clip880)\" style=\"stroke:#000000; stroke-linecap:round; stroke-linejoin:round; stroke-width:4; stroke-opacity:1; fill:none\" points=\"1987.38,1486.45 1987.38,1467.55 \"/>\n",
       "<path clip-path=\"url(#clip880)\" d=\"M175.59 1517.37 Q171.979 1517.37 170.15 1520.93 Q168.344 1524.47 168.344 1531.6 Q168.344 1538.71 170.15 1542.27 Q171.979 1545.82 175.59 1545.82 Q179.224 1545.82 181.03 1542.27 Q182.858 1538.71 182.858 1531.6 Q182.858 1524.47 181.03 1520.93 Q179.224 1517.37 175.59 1517.37 M175.59 1513.66 Q181.4 1513.66 184.455 1518.27 Q187.534 1522.85 187.534 1531.6 Q187.534 1540.33 184.455 1544.94 Q181.4 1549.52 175.59 1549.52 Q169.78 1549.52 166.701 1544.94 Q163.645 1540.33 163.645 1531.6 Q163.645 1522.85 166.701 1518.27 Q169.78 1513.66 175.59 1513.66 Z\" fill=\"#000000\" fill-rule=\"nonzero\" fill-opacity=\"1\" /><path clip-path=\"url(#clip880)\" d=\"M774.172 1544.91 L790.492 1544.91 L790.492 1548.85 L768.547 1548.85 L768.547 1544.91 Q771.209 1542.16 775.793 1537.53 Q780.399 1532.88 781.58 1531.53 Q783.825 1529.01 784.705 1527.27 Q785.607 1525.51 785.607 1523.82 Q785.607 1521.07 783.663 1519.33 Q781.742 1517.6 778.64 1517.6 Q776.441 1517.6 773.987 1518.36 Q771.556 1519.13 768.779 1520.68 L768.779 1515.95 Q771.603 1514.82 774.056 1514.24 Q776.51 1513.66 778.547 1513.66 Q783.917 1513.66 787.112 1516.35 Q790.306 1519.03 790.306 1523.52 Q790.306 1525.65 789.496 1527.57 Q788.709 1529.47 786.603 1532.07 Q786.024 1532.74 782.922 1535.95 Q779.82 1539.15 774.172 1544.91 Z\" fill=\"#000000\" fill-rule=\"nonzero\" fill-opacity=\"1\" /><path clip-path=\"url(#clip880)\" d=\"M1386.46 1518.36 L1374.65 1536.81 L1386.46 1536.81 L1386.46 1518.36 M1385.23 1514.29 L1391.11 1514.29 L1391.11 1536.81 L1396.04 1536.81 L1396.04 1540.7 L1391.11 1540.7 L1391.11 1548.85 L1386.46 1548.85 L1386.46 1540.7 L1370.86 1540.7 L1370.86 1536.19 L1385.23 1514.29 Z\" fill=\"#000000\" fill-rule=\"nonzero\" fill-opacity=\"1\" /><path clip-path=\"url(#clip880)\" d=\"M1987.78 1529.7 Q1984.64 1529.7 1982.78 1531.86 Q1980.95 1534.01 1980.95 1537.76 Q1980.95 1541.49 1982.78 1543.66 Q1984.64 1545.82 1987.78 1545.82 Q1990.93 1545.82 1992.76 1543.66 Q1994.61 1541.49 1994.61 1537.76 Q1994.61 1534.01 1992.76 1531.86 Q1990.93 1529.7 1987.78 1529.7 M1997.07 1515.05 L1997.07 1519.31 Q1995.31 1518.48 1993.5 1518.04 Q1991.72 1517.6 1989.96 1517.6 Q1985.33 1517.6 1982.88 1520.72 Q1980.45 1523.85 1980.1 1530.17 Q1981.46 1528.15 1983.52 1527.09 Q1985.58 1526 1988.06 1526 Q1993.27 1526 1996.28 1529.17 Q1999.31 1532.32 1999.31 1537.76 Q1999.31 1543.08 1996.16 1546.3 Q1993.02 1549.52 1987.78 1549.52 Q1981.79 1549.52 1978.62 1544.94 Q1975.45 1540.33 1975.45 1531.6 Q1975.45 1523.41 1979.33 1518.55 Q1983.22 1513.66 1989.77 1513.66 Q1991.53 1513.66 1993.32 1514.01 Q1995.12 1514.36 1997.07 1515.05 Z\" fill=\"#000000\" fill-rule=\"nonzero\" fill-opacity=\"1\" /><polyline clip-path=\"url(#clip882)\" style=\"stroke:#000000; stroke-linecap:round; stroke-linejoin:round; stroke-width:2; stroke-opacity:0.1; fill:none\" points=\"112.177,1420.62 2352.76,1420.62 \"/>\n",
       "<polyline clip-path=\"url(#clip882)\" style=\"stroke:#000000; stroke-linecap:round; stroke-linejoin:round; stroke-width:2; stroke-opacity:0.1; fill:none\" points=\"112.177,1118.65 2352.76,1118.65 \"/>\n",
       "<polyline clip-path=\"url(#clip882)\" style=\"stroke:#000000; stroke-linecap:round; stroke-linejoin:round; stroke-width:2; stroke-opacity:0.1; fill:none\" points=\"112.177,816.689 2352.76,816.689 \"/>\n",
       "<polyline clip-path=\"url(#clip882)\" style=\"stroke:#000000; stroke-linecap:round; stroke-linejoin:round; stroke-width:2; stroke-opacity:0.1; fill:none\" points=\"112.177,514.725 2352.76,514.725 \"/>\n",
       "<polyline clip-path=\"url(#clip882)\" style=\"stroke:#000000; stroke-linecap:round; stroke-linejoin:round; stroke-width:2; stroke-opacity:0.1; fill:none\" points=\"112.177,212.76 2352.76,212.76 \"/>\n",
       "<polyline clip-path=\"url(#clip880)\" style=\"stroke:#000000; stroke-linecap:round; stroke-linejoin:round; stroke-width:4; stroke-opacity:1; fill:none\" points=\"112.177,1486.45 112.177,47.2441 \"/>\n",
       "<polyline clip-path=\"url(#clip880)\" style=\"stroke:#000000; stroke-linecap:round; stroke-linejoin:round; stroke-width:4; stroke-opacity:1; fill:none\" points=\"112.177,1420.62 131.075,1420.62 \"/>\n",
       "<polyline clip-path=\"url(#clip880)\" style=\"stroke:#000000; stroke-linecap:round; stroke-linejoin:round; stroke-width:4; stroke-opacity:1; fill:none\" points=\"112.177,1118.65 131.075,1118.65 \"/>\n",
       "<polyline clip-path=\"url(#clip880)\" style=\"stroke:#000000; stroke-linecap:round; stroke-linejoin:round; stroke-width:4; stroke-opacity:1; fill:none\" points=\"112.177,816.689 131.075,816.689 \"/>\n",
       "<polyline clip-path=\"url(#clip880)\" style=\"stroke:#000000; stroke-linecap:round; stroke-linejoin:round; stroke-width:4; stroke-opacity:1; fill:none\" points=\"112.177,514.725 131.075,514.725 \"/>\n",
       "<polyline clip-path=\"url(#clip880)\" style=\"stroke:#000000; stroke-linecap:round; stroke-linejoin:round; stroke-width:4; stroke-opacity:1; fill:none\" points=\"112.177,212.76 131.075,212.76 \"/>\n",
       "<path clip-path=\"url(#clip880)\" d=\"M64.2328 1406.42 Q60.6217 1406.42 58.793 1409.98 Q56.9875 1413.52 56.9875 1420.65 Q56.9875 1427.76 58.793 1431.32 Q60.6217 1434.87 64.2328 1434.87 Q67.867 1434.87 69.6726 1431.32 Q71.5013 1427.76 71.5013 1420.65 Q71.5013 1413.52 69.6726 1409.98 Q67.867 1406.42 64.2328 1406.42 M64.2328 1402.71 Q70.0429 1402.71 73.0985 1407.32 Q76.1772 1411.9 76.1772 1420.65 Q76.1772 1429.38 73.0985 1433.99 Q70.0429 1438.57 64.2328 1438.57 Q58.4226 1438.57 55.344 1433.99 Q52.2884 1429.38 52.2884 1420.65 Q52.2884 1411.9 55.344 1407.32 Q58.4226 1402.71 64.2328 1402.71 Z\" fill=\"#000000\" fill-rule=\"nonzero\" fill-opacity=\"1\" /><path clip-path=\"url(#clip880)\" d=\"M56.2699 1132 L63.9087 1132 L63.9087 1105.63 L55.5986 1107.3 L55.5986 1103.04 L63.8624 1101.37 L68.5383 1101.37 L68.5383 1132 L76.1772 1132 L76.1772 1135.93 L56.2699 1135.93 L56.2699 1132 Z\" fill=\"#000000\" fill-rule=\"nonzero\" fill-opacity=\"1\" /><path clip-path=\"url(#clip880)\" d=\"M59.8578 830.034 L76.1772 830.034 L76.1772 833.969 L54.2328 833.969 L54.2328 830.034 Q56.8949 827.28 61.4782 822.65 Q66.0846 817.997 67.2652 816.655 Q69.5105 814.131 70.3902 812.395 Q71.2929 810.636 71.2929 808.946 Q71.2929 806.192 69.3485 804.456 Q67.4272 802.72 64.3254 802.72 Q62.1263 802.72 59.6726 803.483 Q57.2421 804.247 54.4643 805.798 L54.4643 801.076 Q57.2884 799.942 59.7421 799.363 Q62.1958 798.784 64.2328 798.784 Q69.6031 798.784 72.7976 801.47 Q75.992 804.155 75.992 808.645 Q75.992 810.775 75.1818 812.696 Q74.3948 814.594 72.2883 817.187 Q71.7096 817.858 68.6078 821.076 Q65.5059 824.27 59.8578 830.034 Z\" fill=\"#000000\" fill-rule=\"nonzero\" fill-opacity=\"1\" /><path clip-path=\"url(#clip880)\" d=\"M69.0476 513.37 Q72.404 514.088 74.279 516.356 Q76.1772 518.625 76.1772 521.958 Q76.1772 527.074 72.6587 529.875 Q69.1402 532.676 62.6587 532.676 Q60.4828 532.676 58.168 532.236 Q55.8764 531.819 53.4227 530.963 L53.4227 526.449 Q55.3671 527.583 57.6819 528.162 Q59.9967 528.741 62.5198 528.741 Q66.918 528.741 69.2096 527.005 Q71.5244 525.268 71.5244 521.958 Q71.5244 518.903 69.3717 517.19 Q67.242 515.454 63.4226 515.454 L59.3949 515.454 L59.3949 511.611 L63.6078 511.611 Q67.0569 511.611 68.8855 510.245 Q70.7142 508.857 70.7142 506.264 Q70.7142 503.602 68.8161 502.19 Q66.9411 500.755 63.4226 500.755 Q61.5013 500.755 59.3023 501.171 Q57.1032 501.588 54.4643 502.468 L54.4643 498.301 Q57.1264 497.56 59.4412 497.19 Q61.7791 496.82 63.8393 496.82 Q69.1633 496.82 72.2652 499.25 Q75.367 501.658 75.367 505.778 Q75.367 508.648 73.7235 510.639 Q72.08 512.607 69.0476 513.37 Z\" fill=\"#000000\" fill-rule=\"nonzero\" fill-opacity=\"1\" /><path clip-path=\"url(#clip880)\" d=\"M66.5939 199.554 L54.7884 218.003 L66.5939 218.003 L66.5939 199.554 M65.367 195.48 L71.2466 195.48 L71.2466 218.003 L76.1772 218.003 L76.1772 221.892 L71.2466 221.892 L71.2466 230.04 L66.5939 230.04 L66.5939 221.892 L50.9921 221.892 L50.9921 217.378 L65.367 195.48 Z\" fill=\"#000000\" fill-rule=\"nonzero\" fill-opacity=\"1\" /><circle clip-path=\"url(#clip882)\" cx=\"175.59\" cy=\"1420.62\" r=\"14.4\" fill=\"#009af9\" fill-rule=\"evenodd\" fill-opacity=\"1\" stroke=\"#000000\" stroke-opacity=\"1\" stroke-width=\"3.2\"/>\n",
       "<circle clip-path=\"url(#clip882)\" cx=\"477.555\" cy=\"1420.62\" r=\"14.4\" fill=\"#009af9\" fill-rule=\"evenodd\" fill-opacity=\"1\" stroke=\"#000000\" stroke-opacity=\"1\" stroke-width=\"3.2\"/>\n",
       "<circle clip-path=\"url(#clip882)\" cx=\"326.572\" cy=\"1159.11\" r=\"14.4\" fill=\"#009af9\" fill-rule=\"evenodd\" fill-opacity=\"1\" stroke=\"#000000\" stroke-opacity=\"1\" stroke-width=\"3.2\"/>\n",
       "<circle clip-path=\"url(#clip882)\" cx=\"779.519\" cy=\"1420.62\" r=\"14.4\" fill=\"#009af9\" fill-rule=\"evenodd\" fill-opacity=\"1\" stroke=\"#000000\" stroke-opacity=\"1\" stroke-width=\"3.2\"/>\n",
       "<circle clip-path=\"url(#clip882)\" cx=\"1081.48\" cy=\"1420.62\" r=\"14.4\" fill=\"#009af9\" fill-rule=\"evenodd\" fill-opacity=\"1\" stroke=\"#000000\" stroke-opacity=\"1\" stroke-width=\"3.2\"/>\n",
       "<circle clip-path=\"url(#clip882)\" cx=\"930.502\" cy=\"1159.11\" r=\"14.4\" fill=\"#009af9\" fill-rule=\"evenodd\" fill-opacity=\"1\" stroke=\"#000000\" stroke-opacity=\"1\" stroke-width=\"3.2\"/>\n",
       "<circle clip-path=\"url(#clip882)\" cx=\"1383.45\" cy=\"1420.62\" r=\"14.4\" fill=\"#009af9\" fill-rule=\"evenodd\" fill-opacity=\"1\" stroke=\"#000000\" stroke-opacity=\"1\" stroke-width=\"3.2\"/>\n",
       "<circle clip-path=\"url(#clip882)\" cx=\"1685.41\" cy=\"1420.62\" r=\"14.4\" fill=\"#009af9\" fill-rule=\"evenodd\" fill-opacity=\"1\" stroke=\"#000000\" stroke-opacity=\"1\" stroke-width=\"3.2\"/>\n",
       "<circle clip-path=\"url(#clip882)\" cx=\"1534.43\" cy=\"1159.11\" r=\"14.4\" fill=\"#009af9\" fill-rule=\"evenodd\" fill-opacity=\"1\" stroke=\"#000000\" stroke-opacity=\"1\" stroke-width=\"3.2\"/>\n",
       "<circle clip-path=\"url(#clip882)\" cx=\"477.555\" cy=\"897.601\" r=\"14.4\" fill=\"#009af9\" fill-rule=\"evenodd\" fill-opacity=\"1\" stroke=\"#000000\" stroke-opacity=\"1\" stroke-width=\"3.2\"/>\n",
       "<circle clip-path=\"url(#clip882)\" cx=\"779.519\" cy=\"897.601\" r=\"14.4\" fill=\"#009af9\" fill-rule=\"evenodd\" fill-opacity=\"1\" stroke=\"#000000\" stroke-opacity=\"1\" stroke-width=\"3.2\"/>\n",
       "<circle clip-path=\"url(#clip882)\" cx=\"628.537\" cy=\"636.091\" r=\"14.4\" fill=\"#009af9\" fill-rule=\"evenodd\" fill-opacity=\"1\" stroke=\"#000000\" stroke-opacity=\"1\" stroke-width=\"3.2\"/>\n",
       "<circle clip-path=\"url(#clip882)\" cx=\"1081.48\" cy=\"897.601\" r=\"14.4\" fill=\"#009af9\" fill-rule=\"evenodd\" fill-opacity=\"1\" stroke=\"#000000\" stroke-opacity=\"1\" stroke-width=\"3.2\"/>\n",
       "<circle clip-path=\"url(#clip882)\" cx=\"1383.45\" cy=\"897.601\" r=\"14.4\" fill=\"#009af9\" fill-rule=\"evenodd\" fill-opacity=\"1\" stroke=\"#000000\" stroke-opacity=\"1\" stroke-width=\"3.2\"/>\n",
       "<circle clip-path=\"url(#clip882)\" cx=\"1232.47\" cy=\"636.091\" r=\"14.4\" fill=\"#009af9\" fill-rule=\"evenodd\" fill-opacity=\"1\" stroke=\"#000000\" stroke-opacity=\"1\" stroke-width=\"3.2\"/>\n",
       "<circle clip-path=\"url(#clip882)\" cx=\"1685.41\" cy=\"897.601\" r=\"14.4\" fill=\"#009af9\" fill-rule=\"evenodd\" fill-opacity=\"1\" stroke=\"#000000\" stroke-opacity=\"1\" stroke-width=\"3.2\"/>\n",
       "<circle clip-path=\"url(#clip882)\" cx=\"1987.38\" cy=\"897.601\" r=\"14.4\" fill=\"#009af9\" fill-rule=\"evenodd\" fill-opacity=\"1\" stroke=\"#000000\" stroke-opacity=\"1\" stroke-width=\"3.2\"/>\n",
       "<circle clip-path=\"url(#clip882)\" cx=\"1836.4\" cy=\"636.091\" r=\"14.4\" fill=\"#009af9\" fill-rule=\"evenodd\" fill-opacity=\"1\" stroke=\"#000000\" stroke-opacity=\"1\" stroke-width=\"3.2\"/>\n",
       "<circle clip-path=\"url(#clip882)\" cx=\"779.519\" cy=\"374.582\" r=\"14.4\" fill=\"#009af9\" fill-rule=\"evenodd\" fill-opacity=\"1\" stroke=\"#000000\" stroke-opacity=\"1\" stroke-width=\"3.2\"/>\n",
       "<circle clip-path=\"url(#clip882)\" cx=\"1081.48\" cy=\"374.582\" r=\"14.4\" fill=\"#009af9\" fill-rule=\"evenodd\" fill-opacity=\"1\" stroke=\"#000000\" stroke-opacity=\"1\" stroke-width=\"3.2\"/>\n",
       "<circle clip-path=\"url(#clip882)\" cx=\"930.502\" cy=\"113.073\" r=\"14.4\" fill=\"#009af9\" fill-rule=\"evenodd\" fill-opacity=\"1\" stroke=\"#000000\" stroke-opacity=\"1\" stroke-width=\"3.2\"/>\n",
       "<circle clip-path=\"url(#clip882)\" cx=\"1383.45\" cy=\"374.582\" r=\"14.4\" fill=\"#009af9\" fill-rule=\"evenodd\" fill-opacity=\"1\" stroke=\"#000000\" stroke-opacity=\"1\" stroke-width=\"3.2\"/>\n",
       "<circle clip-path=\"url(#clip882)\" cx=\"1685.41\" cy=\"374.582\" r=\"14.4\" fill=\"#009af9\" fill-rule=\"evenodd\" fill-opacity=\"1\" stroke=\"#000000\" stroke-opacity=\"1\" stroke-width=\"3.2\"/>\n",
       "<circle clip-path=\"url(#clip882)\" cx=\"1534.43\" cy=\"113.073\" r=\"14.4\" fill=\"#009af9\" fill-rule=\"evenodd\" fill-opacity=\"1\" stroke=\"#000000\" stroke-opacity=\"1\" stroke-width=\"3.2\"/>\n",
       "<circle clip-path=\"url(#clip882)\" cx=\"1987.38\" cy=\"374.582\" r=\"14.4\" fill=\"#009af9\" fill-rule=\"evenodd\" fill-opacity=\"1\" stroke=\"#000000\" stroke-opacity=\"1\" stroke-width=\"3.2\"/>\n",
       "<circle clip-path=\"url(#clip882)\" cx=\"2289.34\" cy=\"374.582\" r=\"14.4\" fill=\"#009af9\" fill-rule=\"evenodd\" fill-opacity=\"1\" stroke=\"#000000\" stroke-opacity=\"1\" stroke-width=\"3.2\"/>\n",
       "<circle clip-path=\"url(#clip882)\" cx=\"2138.36\" cy=\"113.073\" r=\"14.4\" fill=\"#009af9\" fill-rule=\"evenodd\" fill-opacity=\"1\" stroke=\"#000000\" stroke-opacity=\"1\" stroke-width=\"3.2\"/>\n",
       "<path clip-path=\"url(#clip880)\" d=\"M158.758 1395.59 L172.126 1395.59 L172.126 1349.45 L157.584 1352.37 L157.584 1344.91 L172.045 1341.99 L180.228 1341.99 L180.228 1395.59 L193.596 1395.59 L193.596 1402.47 L158.758 1402.47 L158.758 1395.59 Z\" fill=\"#000000\" fill-rule=\"nonzero\" fill-opacity=\"1\" /><path clip-path=\"url(#clip880)\" d=\"M468.197 1395.59 L496.756 1395.59 L496.756 1402.47 L458.353 1402.47 L458.353 1395.59 Q463.012 1390.77 471.033 1382.67 Q479.094 1374.52 481.16 1372.17 Q485.089 1367.76 486.629 1364.72 Q488.208 1361.64 488.208 1358.68 Q488.208 1353.86 484.806 1350.83 Q481.443 1347.79 476.015 1347.79 Q472.167 1347.79 467.873 1349.12 Q463.619 1350.46 458.758 1353.18 L458.758 1344.91 Q463.7 1342.93 467.994 1341.91 Q472.288 1340.9 475.853 1340.9 Q485.251 1340.9 490.842 1345.6 Q496.432 1350.3 496.432 1358.16 Q496.432 1361.88 495.014 1365.25 Q493.637 1368.57 489.95 1373.11 Q488.938 1374.28 483.509 1379.91 Q478.081 1385.5 468.197 1395.59 Z\" fill=\"#000000\" fill-rule=\"nonzero\" fill-opacity=\"1\" /><path clip-path=\"url(#clip880)\" d=\"M334.006 1108.36 Q339.879 1109.61 343.161 1113.58 Q346.482 1117.55 346.482 1123.38 Q346.482 1132.34 340.325 1137.24 Q334.168 1142.14 322.825 1142.14 Q319.017 1142.14 314.966 1141.37 Q310.956 1140.64 306.662 1139.14 L306.662 1131.24 Q310.065 1133.23 314.116 1134.24 Q318.167 1135.25 322.582 1135.25 Q330.279 1135.25 334.289 1132.22 Q338.34 1129.18 338.34 1123.38 Q338.34 1118.04 334.573 1115.04 Q330.846 1112 324.162 1112 L317.113 1112 L317.113 1105.28 L324.486 1105.28 Q330.522 1105.28 333.722 1102.89 Q336.922 1100.46 336.922 1095.92 Q336.922 1091.26 333.6 1088.79 Q330.319 1086.28 324.162 1086.28 Q320.8 1086.28 316.951 1087.01 Q313.103 1087.74 308.485 1089.28 L308.485 1081.98 Q313.143 1080.69 317.194 1080.04 Q321.286 1079.39 324.891 1079.39 Q334.208 1079.39 339.636 1083.65 Q345.065 1087.86 345.065 1095.07 Q345.065 1100.09 342.188 1103.58 Q339.312 1107.02 334.006 1108.36 Z\" fill=\"#000000\" fill-rule=\"nonzero\" fill-opacity=\"1\" /><path clip-path=\"url(#clip880)\" d=\"M784.786 1349.12 L764.126 1381.41 L784.786 1381.41 L784.786 1349.12 M782.639 1341.99 L792.928 1341.99 L792.928 1381.41 L801.556 1381.41 L801.556 1388.22 L792.928 1388.22 L792.928 1402.47 L784.786 1402.47 L784.786 1388.22 L757.482 1388.22 L757.482 1380.32 L782.639 1341.99 Z\" fill=\"#000000\" fill-rule=\"nonzero\" fill-opacity=\"1\" /><path clip-path=\"url(#clip880)\" d=\"M1064.47 1341.99 L1096.59 1341.99 L1096.59 1348.88 L1071.96 1348.88 L1071.96 1363.71 Q1073.75 1363.1 1075.53 1362.82 Q1077.31 1362.49 1079.09 1362.49 Q1089.22 1362.49 1095.14 1368.04 Q1101.05 1373.59 1101.05 1383.07 Q1101.05 1392.83 1094.97 1398.26 Q1088.9 1403.65 1077.84 1403.65 Q1074.03 1403.65 1070.06 1403 Q1066.13 1402.35 1061.92 1401.06 L1061.92 1392.83 Q1065.56 1394.82 1069.45 1395.79 Q1073.34 1396.76 1077.68 1396.76 Q1084.68 1396.76 1088.78 1393.08 Q1092.87 1389.39 1092.87 1383.07 Q1092.87 1376.75 1088.78 1373.07 Q1084.68 1369.38 1077.68 1369.38 Q1074.4 1369.38 1071.11 1370.11 Q1067.87 1370.84 1064.47 1372.38 L1064.47 1341.99 Z\" fill=\"#000000\" fill-rule=\"nonzero\" fill-opacity=\"1\" /><path clip-path=\"url(#clip880)\" d=\"M931.211 1107.46 Q925.701 1107.46 922.461 1111.23 Q919.26 1115 919.26 1121.56 Q919.26 1128.08 922.461 1131.89 Q925.701 1135.66 931.211 1135.66 Q936.72 1135.66 939.92 1131.89 Q943.161 1128.08 943.161 1121.56 Q943.161 1115 939.92 1111.23 Q936.72 1107.46 931.211 1107.46 M947.455 1081.82 L947.455 1089.28 Q944.376 1087.82 941.216 1087.05 Q938.097 1086.28 935.019 1086.28 Q926.917 1086.28 922.623 1091.75 Q918.369 1097.22 917.762 1108.27 Q920.152 1104.75 923.757 1102.89 Q927.362 1100.98 931.697 1100.98 Q940.811 1100.98 946.077 1106.53 Q951.384 1112.04 951.384 1121.56 Q951.384 1130.88 945.875 1136.51 Q940.366 1142.14 931.211 1142.14 Q920.719 1142.14 915.169 1134.12 Q909.619 1126.06 909.619 1110.79 Q909.619 1096.45 916.425 1087.94 Q923.23 1079.39 934.694 1079.39 Q937.773 1079.39 940.892 1080 Q944.052 1080.61 947.455 1081.82 Z\" fill=\"#000000\" fill-rule=\"nonzero\" fill-opacity=\"1\" /><path clip-path=\"url(#clip880)\" d=\"M1364 1341.99 L1402.89 1341.99 L1402.89 1345.48 L1380.94 1402.47 L1372.39 1402.47 L1393.05 1348.88 L1364 1348.88 L1364 1341.99 Z\" fill=\"#000000\" fill-rule=\"nonzero\" fill-opacity=\"1\" /><path clip-path=\"url(#clip880)\" d=\"M1685.41 1373.75 Q1679.58 1373.75 1676.22 1376.87 Q1672.9 1379.99 1672.9 1385.46 Q1672.9 1390.93 1676.22 1394.05 Q1679.58 1397.17 1685.41 1397.17 Q1691.25 1397.17 1694.61 1394.05 Q1697.97 1390.89 1697.97 1385.46 Q1697.97 1379.99 1694.61 1376.87 Q1691.29 1373.75 1685.41 1373.75 M1677.23 1370.27 Q1671.96 1368.97 1669.01 1365.37 Q1666.09 1361.76 1666.09 1356.58 Q1666.09 1349.33 1671.24 1345.11 Q1676.42 1340.9 1685.41 1340.9 Q1694.45 1340.9 1699.59 1345.11 Q1704.74 1349.33 1704.74 1356.58 Q1704.74 1361.76 1701.78 1365.37 Q1698.86 1368.97 1693.64 1370.27 Q1699.55 1371.65 1702.83 1375.66 Q1706.15 1379.67 1706.15 1385.46 Q1706.15 1394.25 1700.77 1398.95 Q1695.42 1403.65 1685.41 1403.65 Q1675.41 1403.65 1670.02 1398.95 Q1664.67 1394.25 1664.67 1385.46 Q1664.67 1379.67 1667.99 1375.66 Q1671.32 1371.65 1677.23 1370.27 M1674.23 1357.35 Q1674.23 1362.05 1677.15 1364.68 Q1680.11 1367.31 1685.41 1367.31 Q1690.68 1367.31 1693.64 1364.68 Q1696.63 1362.05 1696.63 1357.35 Q1696.63 1352.65 1693.64 1350.02 Q1690.68 1347.38 1685.41 1347.38 Q1680.11 1347.38 1677.15 1350.02 Q1674.23 1352.65 1674.23 1357.35 Z\" fill=\"#000000\" fill-rule=\"nonzero\" fill-opacity=\"1\" /><path clip-path=\"url(#clip880)\" d=\"M1517.46 1139.71 L1517.46 1132.26 Q1520.54 1133.71 1523.7 1134.48 Q1526.86 1135.25 1529.89 1135.25 Q1538 1135.25 1542.25 1129.83 Q1546.54 1124.36 1547.15 1113.26 Q1544.8 1116.74 1541.2 1118.6 Q1537.59 1120.47 1533.22 1120.47 Q1524.14 1120.47 1518.84 1115 Q1513.57 1109.49 1513.57 1099.97 Q1513.57 1090.65 1519.08 1085.02 Q1524.59 1079.39 1533.74 1079.39 Q1544.23 1079.39 1549.74 1087.45 Q1555.29 1095.47 1555.29 1110.79 Q1555.29 1125.09 1548.49 1133.63 Q1541.72 1142.14 1530.26 1142.14 Q1527.18 1142.14 1524.02 1141.53 Q1520.86 1140.93 1517.46 1139.71 M1533.74 1114.07 Q1539.25 1114.07 1542.45 1110.3 Q1545.69 1106.53 1545.69 1099.97 Q1545.69 1093.45 1542.45 1089.68 Q1539.25 1085.87 1533.74 1085.87 Q1528.23 1085.87 1524.99 1089.68 Q1521.79 1093.45 1521.79 1099.97 Q1521.79 1106.53 1524.99 1110.3 Q1528.23 1114.07 1533.74 1114.07 Z\" fill=\"#000000\" fill-rule=\"nonzero\" fill-opacity=\"1\" /><path clip-path=\"url(#clip880)\" d=\"M433.258 872.57 L446.626 872.57 L446.626 826.43 L432.083 829.347 L432.083 821.893 L446.545 818.977 L454.728 818.977 L454.728 872.57 L468.096 872.57 L468.096 879.457 L433.258 879.457 L433.258 872.57 Z\" fill=\"#000000\" fill-rule=\"nonzero\" fill-opacity=\"1\" /><path clip-path=\"url(#clip880)\" d=\"M502.123 824.364 Q495.804 824.364 492.604 830.603 Q489.444 836.801 489.444 849.277 Q489.444 861.714 492.604 867.952 Q495.804 874.15 502.123 874.15 Q508.483 874.15 511.643 867.952 Q514.843 861.714 514.843 849.277 Q514.843 836.801 511.643 830.603 Q508.483 824.364 502.123 824.364 M502.123 817.883 Q512.291 817.883 517.638 825.944 Q523.026 833.965 523.026 849.277 Q523.026 864.549 517.638 872.611 Q512.291 880.631 502.123 880.631 Q491.956 880.631 486.568 872.611 Q481.221 864.549 481.221 849.277 Q481.221 833.965 486.568 825.944 Q491.956 817.883 502.123 817.883 Z\" fill=\"#000000\" fill-rule=\"nonzero\" fill-opacity=\"1\" /><path clip-path=\"url(#clip880)\" d=\"M736.296 872.57 L749.664 872.57 L749.664 826.43 L735.121 829.347 L735.121 821.893 L749.583 818.977 L757.766 818.977 L757.766 872.57 L771.134 872.57 L771.134 879.457 L736.296 879.457 L736.296 872.57 Z\" fill=\"#000000\" fill-rule=\"nonzero\" fill-opacity=\"1\" /><path clip-path=\"url(#clip880)\" d=\"M789.079 872.57 L802.447 872.57 L802.447 826.43 L787.905 829.347 L787.905 821.893 L802.366 818.977 L810.549 818.977 L810.549 872.57 L823.917 872.57 L823.917 879.457 L789.079 879.457 L789.079 872.57 Z\" fill=\"#000000\" fill-rule=\"nonzero\" fill-opacity=\"1\" /><path clip-path=\"url(#clip880)\" d=\"M585.638 611.061 L599.006 611.061 L599.006 564.921 L584.463 567.838 L584.463 560.384 L598.925 557.467 L607.108 557.467 L607.108 611.061 L620.476 611.061 L620.476 617.947 L585.638 617.947 L585.638 611.061 Z\" fill=\"#000000\" fill-rule=\"nonzero\" fill-opacity=\"1\" /><path clip-path=\"url(#clip880)\" d=\"M644.052 611.061 L672.611 611.061 L672.611 617.947 L634.208 617.947 L634.208 611.061 Q638.867 606.24 646.888 598.138 Q654.949 589.996 657.015 587.647 Q660.944 583.231 662.484 580.193 Q664.063 577.114 664.063 574.157 Q664.063 569.337 660.661 566.298 Q657.298 563.26 651.87 563.26 Q648.022 563.26 643.728 564.597 Q639.474 565.934 634.613 568.648 L634.613 560.384 Q639.555 558.399 643.849 557.386 Q648.143 556.374 651.708 556.374 Q661.106 556.374 666.696 561.073 Q672.287 565.772 672.287 573.631 Q672.287 577.357 670.869 580.72 Q669.492 584.041 665.805 588.578 Q664.793 589.753 659.364 595.384 Q653.936 600.974 644.052 611.061 Z\" fill=\"#000000\" fill-rule=\"nonzero\" fill-opacity=\"1\" /><path clip-path=\"url(#clip880)\" d=\"M1037.75 872.57 L1051.12 872.57 L1051.12 826.43 L1036.58 829.347 L1036.58 821.893 L1051.04 818.977 L1059.22 818.977 L1059.22 872.57 L1072.59 872.57 L1072.59 879.457 L1037.75 879.457 L1037.75 872.57 Z\" fill=\"#000000\" fill-rule=\"nonzero\" fill-opacity=\"1\" /><path clip-path=\"url(#clip880)\" d=\"M1113.91 846.847 Q1119.79 848.103 1123.07 852.072 Q1126.39 856.042 1126.39 861.876 Q1126.39 870.828 1120.23 875.73 Q1114.07 880.631 1102.73 880.631 Q1098.92 880.631 1094.87 879.862 Q1090.86 879.133 1086.57 877.634 L1086.57 869.734 Q1089.97 871.719 1094.02 872.732 Q1098.07 873.745 1102.49 873.745 Q1110.18 873.745 1114.2 870.707 Q1118.25 867.668 1118.25 861.876 Q1118.25 856.528 1114.48 853.531 Q1110.75 850.493 1104.07 850.493 L1097.02 850.493 L1097.02 843.768 L1104.39 843.768 Q1110.43 843.768 1113.63 841.378 Q1116.83 838.948 1116.83 834.411 Q1116.83 829.752 1113.51 827.281 Q1110.23 824.769 1104.07 824.769 Q1100.71 824.769 1096.86 825.499 Q1093.01 826.228 1088.39 827.767 L1088.39 820.475 Q1093.05 819.179 1097.1 818.531 Q1101.19 817.883 1104.8 817.883 Q1114.11 817.883 1119.54 822.136 Q1124.97 826.349 1124.97 833.56 Q1124.97 838.583 1122.09 842.067 Q1119.22 845.51 1113.91 846.847 Z\" fill=\"#000000\" fill-rule=\"nonzero\" fill-opacity=\"1\" /><path clip-path=\"url(#clip880)\" d=\"M1338.73 872.57 L1352.09 872.57 L1352.09 826.43 L1337.55 829.347 L1337.55 821.893 L1352.01 818.977 L1360.2 818.977 L1360.2 872.57 L1373.56 872.57 L1373.56 879.457 L1338.73 879.457 L1338.73 872.57 Z\" fill=\"#000000\" fill-rule=\"nonzero\" fill-opacity=\"1\" /><path clip-path=\"url(#clip880)\" d=\"M1412.57 826.106 L1391.92 858.392 L1412.57 858.392 L1412.57 826.106 M1410.43 818.977 L1420.72 818.977 L1420.72 858.392 L1429.35 858.392 L1429.35 865.197 L1420.72 865.197 L1420.72 879.457 L1412.57 879.457 L1412.57 865.197 L1385.27 865.197 L1385.27 857.298 L1410.43 818.977 Z\" fill=\"#000000\" fill-rule=\"nonzero\" fill-opacity=\"1\" /><path clip-path=\"url(#clip880)\" d=\"M1189.04 611.061 L1202.41 611.061 L1202.41 564.921 L1187.87 567.838 L1187.87 560.384 L1202.33 557.467 L1210.51 557.467 L1210.51 611.061 L1223.88 611.061 L1223.88 617.947 L1189.04 617.947 L1189.04 611.061 Z\" fill=\"#000000\" fill-rule=\"nonzero\" fill-opacity=\"1\" /><path clip-path=\"url(#clip880)\" d=\"M1240.49 557.467 L1272.61 557.467 L1272.61 564.354 L1247.98 564.354 L1247.98 579.18 Q1249.76 578.573 1251.55 578.289 Q1253.33 577.965 1255.11 577.965 Q1265.24 577.965 1271.15 583.515 Q1277.07 589.064 1277.07 598.544 Q1277.07 608.306 1270.99 613.734 Q1264.91 619.122 1253.86 619.122 Q1250.05 619.122 1246.08 618.474 Q1242.15 617.826 1237.94 616.53 L1237.94 608.306 Q1241.58 610.291 1245.47 611.263 Q1249.36 612.236 1253.69 612.236 Q1260.7 612.236 1264.79 608.549 Q1268.88 604.863 1268.88 598.544 Q1268.88 592.224 1264.79 588.538 Q1260.7 584.852 1253.69 584.852 Q1250.41 584.852 1247.13 585.581 Q1243.89 586.31 1240.49 587.849 L1240.49 557.467 Z\" fill=\"#000000\" fill-rule=\"nonzero\" fill-opacity=\"1\" /><path clip-path=\"url(#clip880)\" d=\"M1640.98 872.57 L1654.34 872.57 L1654.34 826.43 L1639.8 829.347 L1639.8 821.893 L1654.26 818.977 L1662.45 818.977 L1662.45 872.57 L1675.81 872.57 L1675.81 879.457 L1640.98 879.457 L1640.98 872.57 Z\" fill=\"#000000\" fill-rule=\"nonzero\" fill-opacity=\"1\" /><path clip-path=\"url(#clip880)\" d=\"M1710.85 845.956 Q1705.34 845.956 1702.1 849.723 Q1698.9 853.49 1698.9 860.053 Q1698.9 866.575 1702.1 870.383 Q1705.34 874.15 1710.85 874.15 Q1716.36 874.15 1719.56 870.383 Q1722.8 866.575 1722.8 860.053 Q1722.8 853.49 1719.56 849.723 Q1716.36 845.956 1710.85 845.956 M1727.1 820.313 L1727.1 827.767 Q1724.02 826.309 1720.86 825.539 Q1717.74 824.769 1714.66 824.769 Q1706.56 824.769 1702.27 830.238 Q1698.01 835.707 1697.4 846.766 Q1699.79 843.241 1703.4 841.378 Q1707.01 839.474 1711.34 839.474 Q1720.45 839.474 1725.72 845.024 Q1731.03 850.533 1731.03 860.053 Q1731.03 869.37 1725.52 875.001 Q1720.01 880.631 1710.85 880.631 Q1700.36 880.631 1694.81 872.611 Q1689.26 864.549 1689.26 849.277 Q1689.26 834.937 1696.07 826.43 Q1702.87 817.883 1714.34 817.883 Q1717.42 817.883 1720.54 818.49 Q1723.69 819.098 1727.1 820.313 Z\" fill=\"#000000\" fill-rule=\"nonzero\" fill-opacity=\"1\" /><path clip-path=\"url(#clip880)\" d=\"M1943.87 872.57 L1957.24 872.57 L1957.24 826.43 L1942.7 829.347 L1942.7 821.893 L1957.16 818.977 L1965.34 818.977 L1965.34 872.57 L1978.71 872.57 L1978.71 879.457 L1943.87 879.457 L1943.87 872.57 Z\" fill=\"#000000\" fill-rule=\"nonzero\" fill-opacity=\"1\" /><path clip-path=\"url(#clip880)\" d=\"M1993.17 818.977 L2032.06 818.977 L2032.06 822.46 L2010.1 879.457 L2001.56 879.457 L2022.22 825.863 L1993.17 825.863 L1993.17 818.977 Z\" fill=\"#000000\" fill-rule=\"nonzero\" fill-opacity=\"1\" /><path clip-path=\"url(#clip880)\" d=\"M1792.18 611.061 L1805.55 611.061 L1805.55 564.921 L1791.01 567.838 L1791.01 560.384 L1805.47 557.467 L1813.65 557.467 L1813.65 611.061 L1827.02 611.061 L1827.02 617.947 L1792.18 617.947 L1792.18 611.061 Z\" fill=\"#000000\" fill-rule=\"nonzero\" fill-opacity=\"1\" /><path clip-path=\"url(#clip880)\" d=\"M1861.05 589.226 Q1855.21 589.226 1851.85 592.346 Q1848.53 595.465 1848.53 600.934 Q1848.53 606.402 1851.85 609.522 Q1855.21 612.641 1861.05 612.641 Q1866.88 612.641 1870.24 609.522 Q1873.6 606.362 1873.6 600.934 Q1873.6 595.465 1870.24 592.346 Q1866.92 589.226 1861.05 589.226 M1852.86 585.743 Q1847.6 584.446 1844.64 580.841 Q1841.72 577.236 1841.72 572.051 Q1841.72 564.8 1846.87 560.587 Q1852.05 556.374 1861.05 556.374 Q1870.08 556.374 1875.22 560.587 Q1880.37 564.8 1880.37 572.051 Q1880.37 577.236 1877.41 580.841 Q1874.49 584.446 1869.27 585.743 Q1875.18 587.12 1878.46 591.13 Q1881.79 595.141 1881.79 600.934 Q1881.79 609.724 1876.4 614.423 Q1871.05 619.122 1861.05 619.122 Q1851.04 619.122 1845.65 614.423 Q1840.31 609.724 1840.31 600.934 Q1840.31 595.141 1843.63 591.13 Q1846.95 587.12 1852.86 585.743 M1849.87 572.82 Q1849.87 577.519 1852.78 580.152 Q1855.74 582.786 1861.05 582.786 Q1866.31 582.786 1869.27 580.152 Q1872.27 577.519 1872.27 572.82 Q1872.27 568.121 1869.27 565.488 Q1866.31 562.855 1861.05 562.855 Q1855.74 562.855 1852.78 565.488 Q1849.87 568.121 1849.87 572.82 Z\" fill=\"#000000\" fill-rule=\"nonzero\" fill-opacity=\"1\" /><path clip-path=\"url(#clip880)\" d=\"M735.385 349.552 L748.753 349.552 L748.753 303.412 L734.21 306.329 L734.21 298.875 L748.672 295.958 L756.855 295.958 L756.855 349.552 L770.223 349.552 L770.223 356.438 L735.385 356.438 L735.385 349.552 Z\" fill=\"#000000\" fill-rule=\"nonzero\" fill-opacity=\"1\" /><path clip-path=\"url(#clip880)\" d=\"M786.993 355.182 L786.993 347.729 Q790.072 349.187 793.232 349.957 Q796.391 350.726 799.43 350.726 Q807.531 350.726 811.785 345.298 Q816.079 339.83 816.686 328.73 Q814.337 332.214 810.732 334.077 Q807.126 335.941 802.751 335.941 Q793.677 335.941 788.371 330.472 Q783.104 324.963 783.104 315.443 Q783.104 306.126 788.614 300.495 Q794.123 294.864 803.278 294.864 Q813.77 294.864 819.279 302.926 Q824.829 310.947 824.829 326.259 Q824.829 340.559 818.023 349.106 Q811.258 357.613 799.794 357.613 Q796.715 357.613 793.556 357.005 Q790.396 356.398 786.993 355.182 M803.278 329.54 Q808.787 329.54 811.987 325.773 Q815.228 322.006 815.228 315.443 Q815.228 308.921 811.987 305.154 Q808.787 301.346 803.278 301.346 Q797.769 301.346 794.528 305.154 Q791.328 308.921 791.328 315.443 Q791.328 322.006 794.528 325.773 Q797.769 329.54 803.278 329.54 Z\" fill=\"#000000\" fill-rule=\"nonzero\" fill-opacity=\"1\" /><path clip-path=\"url(#clip880)\" d=\"M1044.34 349.552 L1072.9 349.552 L1072.9 356.438 L1034.49 356.438 L1034.49 349.552 Q1039.15 344.731 1047.17 336.629 Q1055.23 328.487 1057.3 326.137 Q1061.23 321.722 1062.77 318.684 Q1064.35 315.605 1064.35 312.648 Q1064.35 307.827 1060.95 304.789 Q1057.58 301.751 1052.16 301.751 Q1048.31 301.751 1044.01 303.088 Q1039.76 304.425 1034.9 307.139 L1034.9 298.875 Q1039.84 296.89 1044.13 295.877 Q1048.43 294.864 1051.99 294.864 Q1061.39 294.864 1066.98 299.564 Q1072.57 304.263 1072.57 312.121 Q1072.57 315.848 1071.15 319.21 Q1069.78 322.532 1066.09 327.069 Q1065.08 328.244 1059.65 333.875 Q1054.22 339.465 1044.34 349.552 Z\" fill=\"#000000\" fill-rule=\"nonzero\" fill-opacity=\"1\" /><path clip-path=\"url(#clip880)\" d=\"M1107.57 301.346 Q1101.25 301.346 1098.05 307.584 Q1094.89 313.782 1094.89 326.259 Q1094.89 338.695 1098.05 344.934 Q1101.25 351.132 1107.57 351.132 Q1113.93 351.132 1117.09 344.934 Q1120.29 338.695 1120.29 326.259 Q1120.29 313.782 1117.09 307.584 Q1113.93 301.346 1107.57 301.346 M1107.57 294.864 Q1117.74 294.864 1123.09 302.926 Q1128.47 310.947 1128.47 326.259 Q1128.47 341.531 1123.09 349.592 Q1117.74 357.613 1107.57 357.613 Q1097.4 357.613 1092.02 349.592 Q1086.67 341.531 1086.67 326.259 Q1086.67 310.947 1092.02 302.926 Q1097.4 294.864 1107.57 294.864 Z\" fill=\"#000000\" fill-rule=\"nonzero\" fill-opacity=\"1\" /><path clip-path=\"url(#clip880)\" d=\"M894.428 88.0425 L922.987 88.0425 L922.987 94.929 L884.585 94.929 L884.585 88.0425 Q889.243 83.2219 897.264 75.1201 Q905.325 66.9778 907.391 64.6283 Q911.321 60.2128 912.86 57.1746 Q914.44 54.0959 914.44 51.1388 Q914.44 46.3182 911.037 43.28 Q907.675 40.2418 902.247 40.2418 Q898.398 40.2418 894.104 41.5786 Q889.851 42.9154 884.99 45.6295 L884.99 37.3657 Q889.932 35.3807 894.226 34.368 Q898.52 33.3553 902.085 33.3553 Q911.483 33.3553 917.073 38.0543 Q922.663 42.7534 922.663 50.6121 Q922.663 54.339 921.245 57.7012 Q919.868 61.023 916.182 65.56 Q915.169 66.7347 909.741 72.3655 Q904.313 77.9558 894.428 88.0425 Z\" fill=\"#000000\" fill-rule=\"nonzero\" fill-opacity=\"1\" /><path clip-path=\"url(#clip880)\" d=\"M941.581 88.0425 L954.949 88.0425 L954.949 41.9027 L940.406 44.8194 L940.406 37.3657 L954.868 34.449 L963.051 34.449 L963.051 88.0425 L976.419 88.0425 L976.419 94.929 L941.581 94.929 L941.581 88.0425 Z\" fill=\"#000000\" fill-rule=\"nonzero\" fill-opacity=\"1\" /><path clip-path=\"url(#clip880)\" d=\"M1347.7 349.552 L1376.26 349.552 L1376.26 356.438 L1337.86 356.438 L1337.86 349.552 Q1342.51 344.731 1350.54 336.629 Q1358.6 328.487 1360.66 326.137 Q1364.59 321.722 1366.13 318.684 Q1367.71 315.605 1367.71 312.648 Q1367.71 307.827 1364.31 304.789 Q1360.95 301.751 1355.52 301.751 Q1351.67 301.751 1347.38 303.088 Q1343.12 304.425 1338.26 307.139 L1338.26 298.875 Q1343.2 296.89 1347.5 295.877 Q1351.79 294.864 1355.36 294.864 Q1364.75 294.864 1370.34 299.564 Q1375.93 304.263 1375.93 312.121 Q1375.93 315.848 1374.52 319.21 Q1373.14 322.532 1369.45 327.069 Q1368.44 328.244 1363.01 333.875 Q1357.58 339.465 1347.7 349.552 Z\" fill=\"#000000\" fill-rule=\"nonzero\" fill-opacity=\"1\" /><path clip-path=\"url(#clip880)\" d=\"M1400.48 349.552 L1429.04 349.552 L1429.04 356.438 L1390.64 356.438 L1390.64 349.552 Q1395.3 344.731 1403.32 336.629 Q1411.38 328.487 1413.45 326.137 Q1417.38 321.722 1418.91 318.684 Q1420.49 315.605 1420.49 312.648 Q1420.49 307.827 1417.09 304.789 Q1413.73 301.751 1408.3 301.751 Q1404.45 301.751 1400.16 303.088 Q1395.91 304.425 1391.04 307.139 L1391.04 298.875 Q1395.99 296.89 1400.28 295.877 Q1404.57 294.864 1408.14 294.864 Q1417.54 294.864 1423.13 299.564 Q1428.72 304.263 1428.72 312.121 Q1428.72 315.848 1427.3 319.21 Q1425.92 322.532 1422.24 327.069 Q1421.22 328.244 1415.8 333.875 Q1410.37 339.465 1400.48 349.552 Z\" fill=\"#000000\" fill-rule=\"nonzero\" fill-opacity=\"1\" /><path clip-path=\"url(#clip880)\" d=\"M1648.83 349.552 L1677.39 349.552 L1677.39 356.438 L1638.99 356.438 L1638.99 349.552 Q1643.65 344.731 1651.67 336.629 Q1659.73 328.487 1661.8 326.137 Q1665.73 321.722 1667.27 318.684 Q1668.85 315.605 1668.85 312.648 Q1668.85 307.827 1665.44 304.789 Q1662.08 301.751 1656.65 301.751 Q1652.8 301.751 1648.51 303.088 Q1644.26 304.425 1639.4 307.139 L1639.4 298.875 Q1644.34 296.89 1648.63 295.877 Q1652.93 294.864 1656.49 294.864 Q1665.89 294.864 1671.48 299.564 Q1677.07 304.263 1677.07 312.121 Q1677.07 315.848 1675.65 319.21 Q1674.27 322.532 1670.59 327.069 Q1669.57 328.244 1664.15 333.875 Q1658.72 339.465 1648.83 349.552 Z\" fill=\"#000000\" fill-rule=\"nonzero\" fill-opacity=\"1\" /><path clip-path=\"url(#clip880)\" d=\"M1719.36 323.828 Q1725.23 325.084 1728.52 329.054 Q1731.84 333.024 1731.84 338.857 Q1731.84 347.81 1725.68 352.711 Q1719.52 357.613 1708.18 357.613 Q1704.37 357.613 1700.32 356.843 Q1696.31 356.114 1692.02 354.615 L1692.02 346.716 Q1695.42 348.701 1699.47 349.714 Q1703.52 350.726 1707.94 350.726 Q1715.63 350.726 1719.64 347.688 Q1723.69 344.65 1723.69 338.857 Q1723.69 333.51 1719.93 330.512 Q1716.2 327.474 1709.52 327.474 L1702.47 327.474 L1702.47 320.75 L1709.84 320.75 Q1715.88 320.75 1719.08 318.36 Q1722.28 315.929 1722.28 311.392 Q1722.28 306.734 1718.96 304.263 Q1715.67 301.751 1709.52 301.751 Q1706.15 301.751 1702.31 302.48 Q1698.46 303.209 1693.84 304.749 L1693.84 297.457 Q1698.5 296.161 1702.55 295.513 Q1706.64 294.864 1710.25 294.864 Q1719.56 294.864 1724.99 299.118 Q1730.42 303.331 1730.42 310.541 Q1730.42 315.565 1727.54 319.048 Q1724.67 322.492 1719.36 323.828 Z\" fill=\"#000000\" fill-rule=\"nonzero\" fill-opacity=\"1\" /><path clip-path=\"url(#clip880)\" d=\"M1496.86 88.0425 L1525.42 88.0425 L1525.42 94.929 L1487.02 94.929 L1487.02 88.0425 Q1491.67 83.2219 1499.69 75.1201 Q1507.76 66.9778 1509.82 64.6283 Q1513.75 60.2128 1515.29 57.1746 Q1516.87 54.0959 1516.87 51.1388 Q1516.87 46.3182 1513.47 43.28 Q1510.11 40.2418 1504.68 40.2418 Q1500.83 40.2418 1496.54 41.5786 Q1492.28 42.9154 1487.42 45.6295 L1487.42 37.3657 Q1492.36 35.3807 1496.66 34.368 Q1500.95 33.3553 1504.52 33.3553 Q1513.91 33.3553 1519.5 38.0543 Q1525.09 42.7534 1525.09 50.6121 Q1525.09 54.339 1523.68 57.7012 Q1522.3 61.023 1518.61 65.56 Q1517.6 66.7347 1512.17 72.3655 Q1506.74 77.9558 1496.86 88.0425 Z\" fill=\"#000000\" fill-rule=\"nonzero\" fill-opacity=\"1\" /><path clip-path=\"url(#clip880)\" d=\"M1565.08 41.5786 L1544.42 73.8643 L1565.08 73.8643 L1565.08 41.5786 M1562.93 34.449 L1573.22 34.449 L1573.22 73.8643 L1581.85 73.8643 L1581.85 80.6699 L1573.22 80.6699 L1573.22 94.929 L1565.08 94.929 L1565.08 80.6699 L1537.77 80.6699 L1537.77 72.7706 L1562.93 34.449 Z\" fill=\"#000000\" fill-rule=\"nonzero\" fill-opacity=\"1\" /><path clip-path=\"url(#clip880)\" d=\"M1951.1 349.552 L1979.66 349.552 L1979.66 356.438 L1941.26 356.438 L1941.26 349.552 Q1945.92 344.731 1953.94 336.629 Q1962 328.487 1964.07 326.137 Q1967.99 321.722 1969.53 318.684 Q1971.11 315.605 1971.11 312.648 Q1971.11 307.827 1967.71 304.789 Q1964.35 301.751 1958.92 301.751 Q1955.07 301.751 1950.78 303.088 Q1946.53 304.425 1941.66 307.139 L1941.66 298.875 Q1946.61 296.89 1950.9 295.877 Q1955.19 294.864 1958.76 294.864 Q1968.16 294.864 1973.75 299.564 Q1979.34 304.263 1979.34 312.121 Q1979.34 315.848 1977.92 319.21 Q1976.54 322.532 1972.86 327.069 Q1971.84 328.244 1966.42 333.875 Q1960.99 339.465 1951.1 349.552 Z\" fill=\"#000000\" fill-rule=\"nonzero\" fill-opacity=\"1\" /><path clip-path=\"url(#clip880)\" d=\"M1996.92 295.958 L2029.04 295.958 L2029.04 302.845 L2004.41 302.845 L2004.41 317.671 Q2006.19 317.063 2007.98 316.78 Q2009.76 316.456 2011.54 316.456 Q2021.67 316.456 2027.58 322.006 Q2033.5 327.555 2033.5 337.034 Q2033.5 346.797 2027.42 352.225 Q2021.35 357.613 2010.29 357.613 Q2006.48 357.613 2002.51 356.965 Q1998.58 356.317 1994.37 355.02 L1994.37 346.797 Q1998.01 348.782 2001.9 349.754 Q2005.79 350.726 2010.12 350.726 Q2017.13 350.726 2021.22 347.04 Q2025.32 343.354 2025.32 337.034 Q2025.32 330.715 2021.22 327.029 Q2017.13 323.342 2010.12 323.342 Q2006.84 323.342 2003.56 324.071 Q2000.32 324.801 1996.92 326.34 L1996.92 295.958 Z\" fill=\"#000000\" fill-rule=\"nonzero\" fill-opacity=\"1\" /><path clip-path=\"url(#clip880)\" d=\"M2252.05 349.552 L2280.61 349.552 L2280.61 356.438 L2242.21 356.438 L2242.21 349.552 Q2246.87 344.731 2254.89 336.629 Q2262.95 328.487 2265.02 326.137 Q2268.95 321.722 2270.49 318.684 Q2272.07 315.605 2272.07 312.648 Q2272.07 307.827 2268.66 304.789 Q2265.3 301.751 2259.87 301.751 Q2256.02 301.751 2251.73 303.088 Q2247.48 304.425 2242.62 307.139 L2242.62 298.875 Q2247.56 296.89 2251.85 295.877 Q2256.15 294.864 2259.71 294.864 Q2269.11 294.864 2274.7 299.564 Q2280.29 304.263 2280.29 312.121 Q2280.29 315.848 2278.87 319.21 Q2277.49 322.532 2273.81 327.069 Q2272.8 328.244 2267.37 333.875 Q2261.94 339.465 2252.05 349.552 Z\" fill=\"#000000\" fill-rule=\"nonzero\" fill-opacity=\"1\" /><path clip-path=\"url(#clip880)\" d=\"M2316.3 322.937 Q2310.79 322.937 2307.55 326.705 Q2304.35 330.472 2304.35 337.034 Q2304.35 343.556 2307.55 347.364 Q2310.79 351.132 2316.3 351.132 Q2321.81 351.132 2325.01 347.364 Q2328.25 343.556 2328.25 337.034 Q2328.25 330.472 2325.01 326.705 Q2321.81 322.937 2316.3 322.937 M2332.55 297.295 L2332.55 304.749 Q2329.47 303.29 2326.31 302.521 Q2323.19 301.751 2320.11 301.751 Q2312.01 301.751 2307.71 307.22 Q2303.46 312.688 2302.85 323.747 Q2305.24 320.223 2308.85 318.36 Q2312.45 316.456 2316.79 316.456 Q2325.9 316.456 2331.17 322.006 Q2336.48 327.515 2336.48 337.034 Q2336.48 346.351 2330.97 351.982 Q2325.46 357.613 2316.3 357.613 Q2305.81 357.613 2300.26 349.592 Q2294.71 341.531 2294.71 326.259 Q2294.71 311.919 2301.52 303.412 Q2308.32 294.864 2319.79 294.864 Q2322.86 294.864 2325.98 295.472 Q2329.14 296.08 2332.55 297.295 Z\" fill=\"#000000\" fill-rule=\"nonzero\" fill-opacity=\"1\" /><path clip-path=\"url(#clip880)\" d=\"M2102 88.0425 L2130.56 88.0425 L2130.56 94.929 L2092.16 94.929 L2092.16 88.0425 Q2096.82 83.2219 2104.84 75.1201 Q2112.9 66.9778 2114.97 64.6283 Q2118.9 60.2128 2120.44 57.1746 Q2122.02 54.0959 2122.02 51.1388 Q2122.02 46.3182 2118.61 43.28 Q2115.25 40.2418 2109.82 40.2418 Q2105.97 40.2418 2101.68 41.5786 Q2097.43 42.9154 2092.57 45.6295 L2092.57 37.3657 Q2097.51 35.3807 2101.8 34.368 Q2106.1 33.3553 2109.66 33.3553 Q2119.06 33.3553 2124.65 38.0543 Q2130.24 42.7534 2130.24 50.6121 Q2130.24 54.339 2128.82 57.7012 Q2127.44 61.023 2123.76 65.56 Q2122.74 66.7347 2117.32 72.3655 Q2111.89 77.9558 2102 88.0425 Z\" fill=\"#000000\" fill-rule=\"nonzero\" fill-opacity=\"1\" /><path clip-path=\"url(#clip880)\" d=\"M2145.67 34.449 L2184.56 34.449 L2184.56 37.9328 L2162.61 94.929 L2154.06 94.929 L2174.72 41.3356 L2145.67 41.3356 L2145.67 34.449 Z\" fill=\"#000000\" fill-rule=\"nonzero\" fill-opacity=\"1\" /></svg>\n"
      ]
     },
     "execution_count": 34,
     "metadata": {},
     "output_type": "execute_result"
    }
   ],
   "source": [
    "plot_points(coordinates)"
   ]
  },
  {
   "cell_type": "code",
   "execution_count": 35,
   "id": "young-single",
   "metadata": {},
   "outputs": [
    {
     "data": {
      "text/plain": [
       "3-element Vector{Int64}:\n",
       "  0\n",
       " -1\n",
       "  3"
      ]
     },
     "execution_count": 35,
     "metadata": {},
     "output_type": "execute_result"
    }
   ],
   "source": [
    "neighbor = [0, -1, 3]"
   ]
  },
  {
   "cell_type": "code",
   "execution_count": 36,
   "id": "filled-decimal",
   "metadata": {},
   "outputs": [
    {
     "data": {
      "text/plain": [
       "3-element Vector{Int64}:\n",
       " 0\n",
       " 2\n",
       " 3"
      ]
     },
     "execution_count": 36,
     "metadata": {},
     "output_type": "execute_result"
    }
   ],
   "source": [
    "neighbor_site = get_neighbor_site(sites[1], neighbor, LL,true)"
   ]
  },
  {
   "cell_type": "code",
   "execution_count": 37,
   "id": "promising-gateway",
   "metadata": {},
   "outputs": [
    {
     "data": {
      "text/plain": [
       "(21, [2.5, 4.330127018922193])"
      ]
     },
     "execution_count": 37,
     "metadata": {},
     "output_type": "execute_result"
    }
   ],
   "source": [
    "site_number[neighbor_site], site_coord[neighbor_site]"
   ]
  },
  {
   "cell_type": "code",
   "execution_count": 38,
   "id": "expanded-debate",
   "metadata": {},
   "outputs": [
    {
     "data": {
      "text/plain": [
       "3-element Vector{Vector{Vector{Int64}}}:\n",
       " [[0, 0, 2], [0, 0, 3], [-1, 0, 2], [0, -1, 3]]\n",
       " [[0, 0, 1], [0, 0, 3], [1, 0, 1], [1, -1, 3]]\n",
       " [[0, 0, 1], [0, 0, 2], [0, 1, 1], [-1, 1, 2]]"
      ]
     },
     "execution_count": 38,
     "metadata": {},
     "output_type": "execute_result"
    }
   ],
   "source": [
    "neighbors_list = [\n",
    "                 [ [0, 0, 2], [0, 0, 3], [-1, 0, 2], [ 0, -1, 3]  ],\n",
    "                 [ [0, 0, 1], [0, 0, 3], [ 1, 0, 1], [ 1, -1, 3]  ],\n",
    "                 [ [0, 0, 1], [0, 0, 2], [ 0, 1, 1], [-1,  1, 2]  ]\n",
    "                 ]"
   ]
  },
  {
   "cell_type": "code",
   "execution_count": 39,
   "id": "manufactured-carry",
   "metadata": {},
   "outputs": [],
   "source": [
    "i_site = 27\n",
    "neighbor_sites = get_neighbors(sites[i_site],neighbors_list[(i_site-1)%length(vv_basis)+1],LL);"
   ]
  },
  {
   "cell_type": "code",
   "execution_count": 40,
   "id": "hazardous-burke",
   "metadata": {},
   "outputs": [
    {
     "name": "stdout",
     "output_type": "stream",
     "text": [
      "25[6.0, 3.4641016151377544]\n",
      "26[7.0, 3.4641016151377544]\n",
      "7[4.0, 0.0]\n",
      "5[3.0, 0.0]\n"
     ]
    }
   ],
   "source": [
    "for neighbor_site in neighbor_sites\n",
    "    println(site_number[neighbor_site], site_coord[neighbor_site])\n",
    "end"
   ]
  },
  {
   "cell_type": "code",
   "execution_count": 41,
   "id": "reverse-daughter",
   "metadata": {},
   "outputs": [],
   "source": [
    "pbc=false\n",
    "site_neigbors = get_all_neighbors(sites,neighbors_list,LL,length(vv_basis),pbc);"
   ]
  },
  {
   "cell_type": "code",
   "execution_count": 42,
   "id": "resident-resident",
   "metadata": {},
   "outputs": [
    {
     "name": "stdout",
     "output_type": "stream",
     "text": [
      "25\n",
      "26\n"
     ]
    }
   ],
   "source": [
    "i_site=27\n",
    "for neighbor_site in site_neigbors[sites[i_site]]\n",
    "    println(site_number[neighbor_site])\n",
    "end"
   ]
  },
  {
   "cell_type": "code",
   "execution_count": null,
   "id": "healthy-monte",
   "metadata": {},
   "outputs": [],
   "source": []
  },
  {
   "cell_type": "code",
   "execution_count": null,
   "id": "aquatic-theme",
   "metadata": {},
   "outputs": [],
   "source": []
  }
 ],
 "metadata": {
  "kernelspec": {
   "display_name": "Julia 1.9.0-rc1",
   "language": "julia",
   "name": "julia-1.9"
  },
  "language_info": {
   "file_extension": ".jl",
   "mimetype": "application/julia",
   "name": "julia",
   "version": "1.9.0"
  }
 },
 "nbformat": 4,
 "nbformat_minor": 5
}
