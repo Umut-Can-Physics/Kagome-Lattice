{
 "cells": [
  {
   "cell_type": "markdown",
   "id": "449a0c74-ad63-4be3-ad7f-46cb0c45276c",
   "metadata": {},
   "source": [
    "# Hofstadter"
   ]
  },
  {
   "cell_type": "code",
   "execution_count": 237,
   "id": "7bfb782f",
   "metadata": {
    "tags": []
   },
   "outputs": [],
   "source": [
    "import sys\n",
    "sys.path.insert(0, './Hofstadter/')\n",
    "from Hofstadter_Matrix_in_k_space import *"
   ]
  },
  {
   "cell_type": "code",
   "execution_count": 285,
   "id": "a784b00a-badb-45a1-896b-4431b53c9779",
   "metadata": {
    "tags": []
   },
   "outputs": [],
   "source": [
    "# Discreatizing Brillioun Zone\n",
    "Nkx = 20\n",
    "Nky = 20\n",
    "\n",
    "p=1\n",
    "q=5\n",
    "\n",
    "kkx=np.linspace(0,2.*np.pi/q,Nkx,endpoint=False) \n",
    "kky=np.linspace(0,2.*np.pi,Nky,endpoint=False) "
   ]
  },
  {
   "cell_type": "code",
   "execution_count": null,
   "id": "a566b2dd",
   "metadata": {
    "tags": []
   },
   "outputs": [],
   "source": [
    "# Eigenvalues and Eigenenergies of Matrix\n",
    "EEA=np.empty([Nkx,Nky,q])\n",
    "UUA=np.empty([Nkx,Nky,q,q],dtype=complex)\n",
    "phi=p/q\n",
    "for ikx, kx in enumerate(kkx):\n",
    "    for iky, ky in enumerate(kky):\n",
    "        EEA[ikx,iky,:],UUA[ikx,iky,:,:] = np.linalg.eigh(H(p,q,kx,ky))"
   ]
  },
  {
   "cell_type": "code",
   "execution_count": 287,
   "id": "2edb0d61",
   "metadata": {
    "tags": []
   },
   "outputs": [
    {
     "data": {
      "text/plain": [
       "Text(0.5, 1.0, 'q=5')"
      ]
     },
     "execution_count": 287,
     "metadata": {},
     "output_type": "execute_result"
    },
    {
     "data": {
      "image/png": "[encoded data removed]",
      "text/plain": [
       "<Figure size 640x480 with 1 Axes>"
      ]
     },
     "metadata": {},
     "output_type": "display_data"
    }
   ],
   "source": [
    "# Plot Energy Bands\n",
    "import matplotlib.pyplot as plt\n",
    "for i in range(q):\n",
    "        plt.plot(EEA[:,:,i].flatten(),'.') \n",
    "plt.ylabel(\"E\")\n",
    "plt.title(\"q=\"+str(q))"
   ]
  },
  {
   "cell_type": "code",
   "execution_count": 288,
   "id": "cf9a9ebe",
   "metadata": {
    "tags": []
   },
   "outputs": [
    {
     "data": {
      "text/plain": [
       "(0.9999999999999989+0j)"
      ]
     },
     "execution_count": 288,
     "metadata": {},
     "output_type": "execute_result"
    }
   ],
   "source": [
    "# Diklik Bağıntısı\n",
    "np.dot(np.conj(UUA[1,0,:,1]),UUA[1,0,:,1])"
   ]
  },
  {
   "cell_type": "code",
   "execution_count": 289,
   "id": "a5f76ae1",
   "metadata": {
    "tags": []
   },
   "outputs": [
    {
     "name": "stdout",
     "output_type": "stream",
     "text": [
      "Band Index: 0\n",
      "(1.0000000000000002-9.365995931663545e-16j)\n",
      "Band Index: 1\n",
      "(1.0000000000000002+2.8024700688395743e-16j)\n",
      "Band Index: 2\n",
      "(-4+6.20739327651208e-16j)\n",
      "Band Index: 3\n",
      "(1+8.922853887349917e-16j)\n",
      "Band Index: 4\n",
      "(1.0000000000000002+6.171617644950244e-16j)\n"
     ]
    }
   ],
   "source": [
    "for bi in range(q): \n",
    "    # Caculate The Link Variables\n",
    "    bj = bi # Band index  \n",
    "    U1=np.zeros([Nkx,Nky],dtype=complex)\n",
    "    U2=np.zeros([Nkx,Nky],dtype=complex)\n",
    "    for ikx in range(Nkx):\n",
    "        for iky in range(Nky):\n",
    "            s1=np.dot(np.conj(UUA[ikx,iky,:,bi]),UUA[np.mod(ikx+1,Nkx),iky,:,bj]) \n",
    "            s2=np.dot(np.conj(UUA[ikx,iky,:,bj]),UUA[ikx,np.mod(iky+1,Nky),:,bi]) \n",
    "            U1[ikx,iky]=s1/np.abs(s1)\n",
    "            U2[ikx,iky]=s2/np.abs(s2)\n",
    "    # Calculate The Field Strength\n",
    "#     F12=np.zeros([Nkx,Nky],dtype=complex) \n",
    "#     for ikx,kx in enumerate(kkx):\n",
    "#         for iky,ky in enumerate(kky):\n",
    "#             F12[ikx,iky] = U1[ikx,iky]*U2[np.mod(ikx+1,Nkx),iky]/(U1[ikx,np.mod(iky+1,Nky)]*U2[ikx,iky])\n",
    "#             F12[ikx,iky] = np.log(F12[ikx,iky])\n",
    "    # Alternative F12 Calculation\n",
    "    F12=np.log( U1*np.roll(U2,-1,axis=0)*np.conj(np.roll(U1,-1,axis=1)*U2) )\n",
    "    # Chern Number of Band Index\n",
    "    print(\"Band Index:\",bi)\n",
    "    print(F12.sum()/(2j*np.pi))"
   ]
  },
  {
   "cell_type": "code",
   "execution_count": 300,
   "id": "82f0f147-5e5c-4ca1-85a9-4ed716f7944f",
   "metadata": {
    "tags": []
   },
   "outputs": [],
   "source": [
    "def calc_link_var(ψk1, ψk2):\n",
    "    #return np.exp( 1j*np.angle( np.dot(np.conj(ψk1),ψk2) ) )\n",
    "    s1 = np.dot(np.conj(ψk1),ψk2)\n",
    "    return s1/np.abs(s1)\n",
    "    \n",
    "def calc_link_vars_BZ(UUA,bi):\n",
    "    N1, N2 = UUA.shape[0:2]\n",
    "    UU=np.zeros([N1,N2,2],dtype=complex)\n",
    "    dirs = [[1,0], [0,1]]\n",
    "    for i1 in range(N1):\n",
    "        for i2 in range(N2):\n",
    "            for idir, vdir in enumerate(dirs):\n",
    "                    UU[i1,i2,idir] = calc_link_var(UUA[i1                   ,i2               ,:,bi],\n",
    "                                                   UUA[np.mod(i1+vdir[0],N1),np.mod(i2+vdir[1],N2),:,bi])\n",
    "    return UU        \n",
    "\n",
    "def calc_F12_BZ(UU):\n",
    "    return np.log( UU[:,:,0]*\n",
    "                   np.roll(UU[:,:,1],-1,axis=0)*\n",
    "                   np.conj(np.roll(UU[:,:,0],-1,axis=1)*\n",
    "                   UU[:,:,1]) )\n",
    "\n",
    "def calc_F12_BZ_2(UU):\n",
    "    return np.log( UU[:,:,0]*\n",
    "                   np.roll(UU[:,:,1],-1,axis=0)/(\n",
    "                   np.roll(UU[:,:,0],-1,axis=1)*\n",
    "                   UU[:,:,1] ) )"
   ]
  },
  {
   "cell_type": "code",
   "execution_count": 301,
   "id": "707d4b61-f3cb-4b81-89db-9410b0e9b221",
   "metadata": {
    "tags": []
   },
   "outputs": [
    {
     "name": "stdout",
     "output_type": "stream",
     "text": [
      "   Band Index: 0\n",
      "-1.00e+00+4.06e-16j, -1.00e+00+2.56e-16j \n",
      "   Band Index: 1\n",
      "-1.94e-16+4.98e-16j, -1.94e-16+4.68e-16j \n",
      "   Band Index: 2\n",
      "1.00e+00-8.42e-17j, 1.00e+00-3.02e-16j \n"
     ]
    }
   ],
   "source": [
    "for bi in range(q):\n",
    "    UU = calc_link_vars_BZ(UUA,bi)\n",
    "    F12 = calc_F12_BZ(UU)\n",
    "    F12_2 = calc_F12_BZ_2(UU)\n",
    "    print(\"   Band Index:\",bi)\n",
    "    print(f'{F12.sum()/(2j*np.pi):.2e}, {F12_2.sum()/(2j*np.pi):.2e} ')"
   ]
  },
  {
   "cell_type": "markdown",
   "id": "21ae393f-b557-438d-b31a-4dc24cb9aeeb",
   "metadata": {
    "tags": []
   },
   "source": [
    "# Kagome"
   ]
  },
  {
   "cell_type": "code",
   "execution_count": 302,
   "id": "e220f9b1-c819-45f8-98f9-b7a04e14b350",
   "metadata": {
    "tags": []
   },
   "outputs": [],
   "source": [
    "sys.path.insert(0, './Kagome/')\n",
    "from Kagome_Matrix_in_k_space import *"
   ]
  },
  {
   "cell_type": "code",
   "execution_count": 303,
   "id": "9d0e9bda-86c2-48b5-b34e-559a4c865516",
   "metadata": {
    "tags": []
   },
   "outputs": [],
   "source": [
    "# Eigenvalues and Eigenenergies of Matrix\n",
    "q = 3 # Dimension of Matrix = 3\n",
    "EEA=np.zeros([Nkx,Nky,q])\n",
    "UUA=np.zeros([Nkx,Nky,q,q],dtype=complex)\n",
    "for ikx in range(Nkx):\n",
    "    for iky in range(Nky):\n",
    "        kx,ky=ikx/Nkx*b1+iky/Nky*b2\n",
    "        k1=np.dot([kx,ky],a1_b);k2=np.dot([kx,ky],a2_b);k3=k2-k1 # Convention\n",
    "        EEA[ikx,iky,:],UUA[ikx,iky,:,:] = np.linalg.eigh(Hamiltonian(k1,k2,k3))"
   ]
  },
  {
   "cell_type": "code",
   "execution_count": 304,
   "id": "7febb3d3-94fd-4413-a68a-fa74e1c90415",
   "metadata": {
    "tags": []
   },
   "outputs": [
    {
     "name": "stdout",
     "output_type": "stream",
     "text": [
      "    Band Index: 0\n",
      "-1.00e+00+4.06e-16j, -1.00e+00+2.56e-16j \n",
      "    Band Index: 1\n",
      "-1.94e-16+4.98e-16j, -1.94e-16+4.68e-16j \n",
      "    Band Index: 2\n",
      "1.00e+00-8.42e-17j, 1.00e+00-3.02e-16j \n"
     ]
    }
   ],
   "source": [
    "for bi in range(q):\n",
    "    UU = calc_link_vars_BZ(UUA,bi)\n",
    "    F12 = calc_F12_BZ(UU)\n",
    "    F12_2 = calc_F12_BZ_2(UU)\n",
    "    print(\"    Band Index:\",bi)\n",
    "    print(f'{F12.sum()/(2j*np.pi):.2e}, {F12_2.sum()/(2j*np.pi):.2e} ')"
   ]
  },
  {
   "cell_type": "code",
   "execution_count": null,
   "id": "51d84b4c-5c15-4862-a222-72c408a32456",
   "metadata": {},
   "outputs": [],
   "source": []
  },
  {
   "cell_type": "code",
   "execution_count": null,
   "id": "1b53eadf-0d82-43f6-8e86-435afb571dc6",
   "metadata": {},
   "outputs": [],
   "source": []
  },
  {
   "cell_type": "code",
   "execution_count": null,
   "id": "688725b0-c310-4f09-bafc-6ef667349641",
   "metadata": {},
   "outputs": [],
   "source": []
  },
  {
   "cell_type": "code",
   "execution_count": null,
   "id": "44ffac48-d84a-482a-99b0-e2dc84b281a9",
   "metadata": {},
   "outputs": [],
   "source": []
  },
  {
   "cell_type": "code",
   "execution_count": null,
   "id": "6887f2ed-35b6-4e4d-86b0-a95d985e63e7",
   "metadata": {},
   "outputs": [],
   "source": []
  },
  {
   "cell_type": "code",
   "execution_count": null,
   "id": "7b25ba19-fbff-44b7-ae05-c4257383f039",
   "metadata": {},
   "outputs": [],
   "source": []
  },
  {
   "cell_type": "code",
   "execution_count": null,
   "id": "7367548d-ceb6-43b8-9a29-8c74b87d93c1",
   "metadata": {},
   "outputs": [],
   "source": []
  },
  {
   "cell_type": "code",
   "execution_count": null,
   "id": "776eda44-9589-4737-99fd-5b2f777e248d",
   "metadata": {},
   "outputs": [],
   "source": []
  },
  {
   "cell_type": "code",
   "execution_count": null,
   "id": "847379cf-6c44-4849-a89c-34ec2774af2f",
   "metadata": {},
   "outputs": [],
   "source": []
  }
 ],
 "metadata": {
  "kernelspec": {
   "display_name": "Python 3 (ipykernel)",
   "language": "python",
   "name": "python3"
  },
  "language_info": {
   "codemirror_mode": {
    "name": "ipython",
    "version": 3
   },
   "file_extension": ".py",
   "mimetype": "text/x-python",
   "name": "python",
   "nbconvert_exporter": "python",
   "pygments_lexer": "ipython3",
   "version": "3.11.2"
  },
  "vscode": {
   "interpreter": {
    "hash": "a03785ac4c50267612fbe58bda14fd025fac1c5f9a7d8e8a15e8aa0a6dc56ba3"
   }
  }
 },
 "nbformat": 4,
 "nbformat_minor": 5
}
