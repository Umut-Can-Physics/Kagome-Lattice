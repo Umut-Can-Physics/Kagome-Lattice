{
 "cells": [
  {
   "cell_type": "markdown",
   "id": "55dbeb84-8412-46d0-836c-36dbe21804ba",
   "metadata": {},
   "source": [
    "# Impurity"
   ]
  },
  {
   "cell_type": "code",
   "execution_count": null,
   "id": "2f2f3d07-7480-4d6c-b121-416f18dd78e3",
   "metadata": {},
   "outputs": [],
   "source": [
    "struct Impurity\n",
    "    V0::Vector{Float64}\n",
    "    Imp_Site::Vector{Int64}\n",
    "end"
   ]
  },
  {
   "cell_type": "code",
   "execution_count": null,
   "id": "1a927d62-f3a7-45cd-bd29-29622a5f911d",
   "metadata": {},
   "outputs": [],
   "source": [
    "function Imp_H(Total_H, Sub_Number_MB_Operator_List, Impurity_Data)\n",
    "    for imp in 1:length(Impurity_Data.V0)\n",
    "        Total_H += Impurity_Data.V0[imp] * Sub_Number_MB_Operator_List[Impurity_Data.Imp_Site[imp]]\n",
    "    end\n",
    "    return Total_H\n",
    "end"
   ]
  },
  {
   "cell_type": "code",
   "execution_count": null,
   "id": "860307dd-e24e-4fd9-942f-2cacc17e083e",
   "metadata": {},
   "outputs": [],
   "source": [
    "for site 1:N\n",
    "    pos = \n",
    "    V0 = [4*(tanh( norm( site_coord[site] - imp.pos )/imp.wid )^2-1)]; Imp_Site = [i]\n",
    "    Impurity_Data = Impurity(V0, Imp_Site)\n",
    "    Imp_H(Total_H, Sub_Number_MB_Operator_List, Impurity_Data)"
   ]
  },
  {
   "cell_type": "code",
   "execution_count": null,
   "id": "3a2797ca-2cac-4308-9afc-2f376df445be",
   "metadata": {},
   "outputs": [],
   "source": [
    "function get_sp_imp(N)\n",
    "    VV = zeros(N,N)\n",
    "    for site in 1:N\n",
    "        i_site = site_number[site]\n",
    "        VV[i_site, i_site] = imp.V0 * (tanh( norm( site_coord[site] - imp.pos )/imp.wid )^2-1)\n",
    "    end\n",
    "    return VV\n",
    "end"
   ]
  },
  {
   "cell_type": "markdown",
   "id": "6bff9f7f-dc59-4e32-8943-75dda381216e",
   "metadata": {},
   "source": [
    "# Moving Quasiholes"
   ]
  },
  {
   "cell_type": "code",
   "execution_count": null,
   "id": "d5626aee-af06-415a-ac58-1748b144db17",
   "metadata": {},
   "outputs": [],
   "source": [
    "function path_line(point,len,direction)\n",
    "    path = Array{Int64}(undef, 0)\n",
    "    for i in 1:len+1\n",
    "        append!(path,point)\n",
    "        point += direction\n",
    "    end\n",
    "    return path\n",
    "end"
   ]
  },
  {
   "cell_type": "code",
   "execution_count": null,
   "id": "dea4174f-9b5b-42b9-a0bc-f02acb95d1ca",
   "metadata": {},
   "outputs": [],
   "source": [
    "function rectangular_path(start_point,lens,dirs)\n",
    "    paths = Array{Int64}(undef, 0)\n",
    "    for (len,dir) in zip(lens,dirs)\n",
    "        path = path_line(start_point,len,dir)\n",
    "        append!(paths, path)\n",
    "        start_point = last(path)\n",
    "    end\n",
    "    return vcat(paths)\n",
    "end"
   ]
  },
  {
   "cell_type": "markdown",
   "id": "4827e379-378c-4806-81e9-56833c23c79f",
   "metadata": {},
   "source": [
    "# Berry Matrix"
   ]
  },
  {
   "cell_type": "code",
   "execution_count": null,
   "id": "9926fa61-4659-400e-a5f0-ce95fc14395d",
   "metadata": {},
   "outputs": [],
   "source": [
    "function gram_schmidt(matrix)\n",
    "    # orthogonalises the columns of the input matrix\n",
    "    num_vectors = size(matrix)[2]\n",
    "    orth_matrix = zeros(Complex{Float64},size(matrix))\n",
    "    for vec_idx = 1:num_vectors\n",
    "        orth_matrix[:, vec_idx] = matrix[:, vec_idx]\n",
    "        sum = zeros(size(orth_matrix[:, 1]))\n",
    "        for span_base_idx = 1:(vec_idx-1)\n",
    "            # compute sum\n",
    "            sum += dot(orth_matrix[:, span_base_idx], orth_matrix[:, vec_idx])*orth_matrix[:, span_base_idx]\n",
    "        end\n",
    "        orth_matrix[:, vec_idx] -= sum\n",
    "        # normalise vector\n",
    "        orth_matrix[:, vec_idx] = orth_matrix[:, vec_idx]/norm(orth_matrix[:, vec_idx])\n",
    "    end\n",
    "    return orth_matrix\n",
    "end"
   ]
  },
  {
   "cell_type": "code",
   "execution_count": null,
   "id": "9e464687-27be-4b66-b7d9-a9e05526cd4f",
   "metadata": {},
   "outputs": [],
   "source": [
    "function get_final_state(rec_path_1, rec_path_2, Degeneracy, delta_t)\n",
    "    \n",
    "    Imp_Site = [rec_path_1[1], rec_path_1[2], rec_path_2[1], rec_path_2[2]]\n",
    "    V0 = [V1, 0, V2, 0]\n",
    "    Impurity_Data = Impurity(V0, Imp_Site)\n",
    "    \n",
    "    Impurity_H = Imp_H(Total_H, Sub_Number_MB_Operator_List, Impurity_Data)\n",
    "    Impurity_H = dense((Impurity_H+Impurity_H')/2)\n",
    "    \n",
    "    E_Imp_0, U_Imp_0 = eigenstates(Impurity_H)\n",
    "    U_Imp_0 = hcat([U_Imp_0[i].data for i in 1:Degeneracy] ...)\n",
    "    \n",
    "    U_first = copy(U_Imp_0)\n",
    "    \n",
    "    STEP = 0:delta_t:1\n",
    "    eig_list = []\n",
    "    for (idx,imp) in ProgressBar(enumerate(rec_path_1[1:end-1]))\n",
    "        Imp_Site = [imp, rec_path_1[idx+1], rec_path_2[idx], rec_path_2[idx+1]]\n",
    "        for step in STEP\n",
    "            V0 = [V1*(1-step), V1*step, V2*(1-step), V2*step]\n",
    "            Impurity_Data = Impurity(V0, Imp_Site)\n",
    "            Impurity_H = Imp_H(Total_H, Sub_Number_MB_Operator_List, Impurity_Data)\n",
    "            Impurity_H = dense((Impurity_H+Impurity_H')/2)\n",
    "            E_Imp, U_Imp = eigenstates(Impurity_H)\n",
    "            push!(eig_list, U_Imp)\n",
    "            \n",
    "            U_Imp = hcat([U_Imp[i].data for i in 1:Degeneracy] ...) #convert to matrix\n",
    "            A = U_Imp_0'*U_Imp\n",
    "            A_inv = inv(A)\n",
    "            U_Imp_0 = U_Imp*transpose(A_inv)\n",
    "            U_Imp_0 = gram_schmidt(U_Imp_0)\n",
    "        end\n",
    "    end\n",
    "\n",
    "    return U_Imp_0, U_first, eig_list\n",
    "end\n",
    "\n",
    "# BURADA FONKSİYON EN BAŞTAKİ U_IMP_0'YU DÖNDÜRÜYOR! DİKKAT!"
   ]
  },
  {
   "cell_type": "code",
   "execution_count": null,
   "id": "5986ffe0-38b4-4ad6-8182-ccb1366828e8",
   "metadata": {},
   "outputs": [],
   "source": [
    "function Berry_Matrix(rec_path_1, rec_path_2, Degeneracy, delta_t)\n",
    "    return get_final_state(rec_path_1, rec_path_2, Degeneracy, delta_t)[1]'*get_final_state(rec_path_1, rec_path_2, Degeneracy, delta_t)[2]\n",
    "end"
   ]
  },
  {
   "cell_type": "markdown",
   "id": "0071df0d-42c1-4525-98e0-f81b57ca287c",
   "metadata": {},
   "source": [
    "# Simulation"
   ]
  },
  {
   "cell_type": "code",
   "execution_count": null,
   "id": "4d9c0456-e988-428b-8db6-59245626525f",
   "metadata": {},
   "outputs": [],
   "source": [
    "function movie(delta_t, factor, Nx, Ny, Degeneracy, N_Site, Sub_Number_MB_Operator_List, Basis_Cut_MB, co)\n",
    "    println(\"!Nx and Ny must be equalt to each other!\")\n",
    "    eig_list = get_final_state(rec_path_1, rec_path_2, Degeneracy, delta_t)[3]\n",
    "    STEP = 0:delta_t:1\n",
    "    @gif for i in 1:length(STEP)*Nx # Bunu Nx'ten bağımsız yapmak mümkün!\n",
    "        data = Get_Avg_Density(Nx, Ny, Degeneracy, N_Site, Sub_Number_MB_Operator_List, Basis_Cut_MB, eig_list[i])'\n",
    "        Plt = Plots.heatmap(Interp(data, factor), aspect_ratio=:equal)\n",
    "        # co = vcat( ( [y x] for x in 0:Nx-1 for y in 0:Ny-1 ) ... )\n",
    "        # scatter!(co[:,1].+1,co[:,2].+1, series_annotations = text.([i for i in 1:N_Site], :bottom), legend=false)\n",
    "    end\n",
    "    return nothing\n",
    "end"
   ]
  }
 ],
 "metadata": {
  "kernelspec": {
   "display_name": "Julia 1.9.3",
   "language": "julia",
   "name": "julia-1.9"
  },
  "language_info": {
   "file_extension": ".jl",
   "mimetype": "application/julia",
   "name": "julia",
   "version": "1.9.3"
  }
 },
 "nbformat": 4,
 "nbformat_minor": 5
}
