{
 "cells": [
  {
   "cell_type": "code",
   "execution_count": null,
   "id": "389b54b7-3ee2-4f16-8886-fff93c3d3910",
   "metadata": {
    "editable": true,
    "slideshow": {
     "slide_type": ""
    },
    "tags": []
   },
   "outputs": [],
   "source": [
    "function get_ab_phase(co, step, V0, wid, H_Kin, U_0, Degeneracy)\n",
    "    A = 1\n",
    "    U_list = []\n",
    "    for x_t in x0:step:x1\n",
    "        imps = [ impurity(V0, [x_t,y0], wid) ]\n",
    "        H1 = Himp(imps, H_Kin)\n",
    "        E, U = eigenstates(dense(H1))\n",
    "        push!(U_list, U)\n",
    "        A *= (U_0[1:Degeneracy]'*U[1:Degeneracy]) / abs(U_0[1:Degeneracy]'*U[1:Degeneracy])\n",
    "        U_0 = copy(U)\n",
    "    end\n",
    "    for y_t in y1:step:y2\n",
    "        imps = [ impurity(V0, [x1,y_t], wid)]\n",
    "        H1 = Himp(imps, H_Kin)\n",
    "        E, U = eigenstates(dense(H1))\n",
    "        push!(U_list, U)\n",
    "        A *= (U_0[1:Degeneracy]'*U[1:Degeneracy]) / abs(U_0[1:Degeneracy]'*U[1:Degeneracy])\n",
    "        U_0 = copy(U)\n",
    "    end\n",
    "    for x_t in x2:-step:x3\n",
    "        imps = [ impurity(V0, [x_t,y2], wid)]\n",
    "        H1 = Himp(imps, H_Kin)\n",
    "        E, U = eigenstates(dense(H1))\n",
    "        push!(U_list, U)\n",
    "        A *= (U_0[1:Degeneracy]'*U[1:Degeneracy]) / abs(U_0[1:Degeneracy]'*U[1:Degeneracy])\n",
    "        U_0 = copy(U)\n",
    "    end\n",
    "    for y_t in y3:-step:y0\n",
    "        imps = [ impurity(V0, [x3,y_t], wid)]\n",
    "        H1 = Himp(imps, H_Kin)\n",
    "        E, U = eigenstates(dense(H1))\n",
    "        push!(U_list, U)\n",
    "        A *= (U_0[1:Degeneracy]'*U[1:Degeneracy]) / abs(U_0[1:Degeneracy]'*U[1:Degeneracy])\n",
    "        U_0 = copy(U)\n",
    "    end\n",
    "    AB_Phase = angle(A)/pi\n",
    "    return AB_Phase, U_list\n",
    "end"
   ]
  },
  {
   "cell_type": "code",
   "execution_count": null,
   "id": "f7e3876d-15f7-45e8-a4b9-8943db950df1",
   "metadata": {},
   "outputs": [],
   "source": [
    "function get_ab_phase_projection(co, step, V0, wid, H_Kin, U_0, Degeneracy, P1M, P1_dagM, P2M, P2_dagM, basis_tilde, basis_mb_tilde, Int_Operator, basis_tilde2)\n",
    "    A = 1\n",
    "    U_list = []\n",
    "    for x_t in x0:step:x1\n",
    "        imps = [ impurity(V0, [x_t,y0], wid) ]\n",
    "        H1 = Himp_proj(imps, H_Kin, P1M, P1_dagM, P2M, P2_dagM, basis_tilde, basis_mb_tilde, Int_Operator, basis_tilde2)\n",
    "        E, U = eigenstates(dense(H1))\n",
    "        push!(U_list, U)\n",
    "        A *= (U_0[1:Degeneracy]'*U[1:Degeneracy]) / abs(U_0[1:Degeneracy]'*U[1:Degeneracy])\n",
    "        U_0 = copy(U)\n",
    "    end\n",
    "    for y_t in y1:step:y2\n",
    "        imps = [ impurity(V0, [x1,y_t], wid)]\n",
    "        H1 = Himp_proj(imps, H_Kin, P1M, P1_dagM, P2M, P2_dagM, basis_tilde, basis_mb_tilde, Int_Operator, basis_tilde2)\n",
    "        E, U = eigenstates(dense(H1))\n",
    "        push!(U_list, U)\n",
    "        A *= (U_0[1:Degeneracy]'*U[1:Degeneracy]) / abs(U_0[1:Degeneracy]'*U[1:Degeneracy])\n",
    "        U_0 = copy(U)\n",
    "    end\n",
    "    for x_t in x2:-step:x3\n",
    "        imps = [ impurity(V0, [x_t,y2], wid)]\n",
    "        H1 = Himp_proj(imps, H_Kin, P1M, P1_dagM, P2M, P2_dagM, basis_tilde, basis_mb_tilde, Int_Operator, basis_tilde2)\n",
    "        E, U = eigenstates(dense(H1))\n",
    "        push!(U_list, U)\n",
    "        A *= (U_0[1:Degeneracy]'*U[1:Degeneracy]) / abs(U_0[1:Degeneracy]'*U[1:Degeneracy])\n",
    "        U_0 = copy(U)\n",
    "    end\n",
    "    for y_t in y3:-step:y0\n",
    "        imps = [ impurity(V0, [x3,y_t], wid)]\n",
    "        H1 = Himp_proj(imps, H_Kin, P1M, P1_dagM, P2M, P2_dagM, basis_tilde, basis_mb_tilde, Int_Operator, basis_tilde2)\n",
    "        E, U = eigenstates(dense(H1))\n",
    "        push!(U_list, U)\n",
    "        A *= (U_0[1:Degeneracy]'*U[1:Degeneracy]) / abs(U_0[1:Degeneracy]'*U[1:Degeneracy])\n",
    "        U_0 = copy(U)\n",
    "    end\n",
    "    AB_Phase = angle(A)/pi\n",
    "    return AB_Phase, U_list\n",
    "end"
   ]
  },
  {
   "cell_type": "code",
   "execution_count": 3,
   "id": "8062491d-8b65-4fcc-803a-63f3b07eb07d",
   "metadata": {},
   "outputs": [
    {
     "data": {
      "text/plain": [
       "projection_operators (generic function with 1 method)"
      ]
     },
     "execution_count": 3,
     "metadata": {},
     "output_type": "execute_result"
    }
   ],
   "source": [
    "function projection_operators(cut_off, basis, U_0, PN)\n",
    "    substates = 1:cut_off\n",
    "    \n",
    "    basis_tilde = SubspaceBasis(basis, U_0[substates])\n",
    "    basis_tilde2 = basis_tilde⊗basis_tilde\n",
    "    \n",
    "    states_mb_tilde = bosonstates(basis_tilde, PN)\n",
    "    basis_mb_tilde  = ManyBodyBasis(basis_tilde, states_mb_tilde)\n",
    "    \n",
    "    P1 = projector(basis, basis_tilde)\n",
    "    P1_dag = dagger(P1)\n",
    "    P1M = P1.data\n",
    "    P1_dagM = P1_dag.data\n",
    "    \n",
    "    P2M = (P1⊗P1).data\n",
    "    P2_dagM = (P1_dag⊗P1_dag).data\n",
    "    \n",
    "    return P1M, P1_dagM, P2M, P2_dagM, basis_tilde, basis_tilde2, basis_mb_tilde\n",
    "end"
   ]
  },
  {
   "cell_type": "code",
   "execution_count": 4,
   "id": "b15318bb-7498-4c4b-8184-f598bfa4b2d3",
   "metadata": {
    "editable": true,
    "slideshow": {
     "slide_type": ""
    },
    "tags": []
   },
   "outputs": [
    {
     "data": {
      "text/plain": [
       "Himp_proj (generic function with 1 method)"
      ]
     },
     "execution_count": 4,
     "metadata": {},
     "output_type": "execute_result"
    }
   ],
   "source": [
    "function Himp_proj(imps, H_Kin, P1M, P1_dagM, P2M, P2_dagM, basis_tilde, basis_mb_tilde, Int_Operator, basis_tilde2)\n",
    "\n",
    "    Total_Ham = Himp(imps, H_Kin)\n",
    "\n",
    "    H1M = Total_Ham.data\n",
    "    H1_tildeM = P1_dagM * H1M * P1M\n",
    "    H1_tilde = Operator(basis_tilde, H1_tildeM)\n",
    "    H1_tilde = (H1_tilde + H1_tilde')/2\n",
    "    H_NI_tilde_mb = manybodyoperator(basis_mb_tilde, H1_tilde) \n",
    "    \n",
    "    V2M = Int_Operator.data\n",
    "    V2_tildeM =  P2_dagM * V2M * P2M\n",
    "    V2_tilde = Operator(basis_tilde2, V2_tildeM)\n",
    "    Vint_tilde_mb = manybodyoperator(basis_mb_tilde, V2_tilde)\n",
    "\n",
    "    H_tilde_mb = H_NI_tilde_mb + Vint_tilde_mb\n",
    "    H_tilde_mb = (H_tilde_mb + H_tilde_mb')/2\n",
    "    \n",
    "    return H_tilde_mb\n",
    "end"
   ]
  }
 ],
 "metadata": {
  "kernelspec": {
   "display_name": "Julia 1.9.3",
   "language": "julia",
   "name": "julia-1.9"
  },
  "language_info": {
   "file_extension": ".jl",
   "mimetype": "application/julia",
   "name": "julia",
   "version": "1.9.3"
  }
 },
 "nbformat": 4,
 "nbformat_minor": 5
}
