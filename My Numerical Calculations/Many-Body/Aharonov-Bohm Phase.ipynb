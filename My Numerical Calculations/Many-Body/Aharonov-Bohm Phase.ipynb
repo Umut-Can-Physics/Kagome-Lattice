{
 "cells": [
  {
   "cell_type": "code",
   "execution_count": null,
   "id": "389b54b7-3ee2-4f16-8886-fff93c3d3910",
   "metadata": {
    "editable": true,
    "slideshow": {
     "slide_type": ""
    },
    "tags": []
   },
   "outputs": [],
   "source": [
    "function get_ab_phase(x0,y0,x1,y1,x2,y2,x3,y3,widd,V00,A,step,UUS_0)\n",
    "    U_imp = []\n",
    "    for x_t in x0:step:x1\n",
    "        imps = [ impurity(V00, [x_t,y0], widd)]\n",
    "        H1 = Himp(imps, H_Kin)\n",
    "        EE, UU = eigen(dense(H1).data)\n",
    "        EE, UUS = eigenstates(dense(H1))\n",
    "        push!(U_imp,UUS)\n",
    "        A *= (UUS_0[1]'*UUS[1]) / abs(UUS_0[1]'*UUS[1])\n",
    "        UUS_0 = copy(UUS)\n",
    "    end\n",
    "    for y_t in y1:step:y2\n",
    "        imps = [ impurity(V00, [x1,y_t], widd)]\n",
    "        H1 = Himp(imps, H_Kin)\n",
    "        EE, UU = eigen(dense(H1).data)\n",
    "        EE, UUS = eigenstates(dense(H1))\n",
    "        push!(U_imp,UUS)\n",
    "        A *= (UUS_0[1]'*UUS[1]) / abs(UUS_0[1]'*UUS[1])\n",
    "        UUS_0 = copy(UUS)\n",
    "    end\n",
    "    for x_t in x2:-step:x3\n",
    "        imps = [ impurity(V00, [x_t,y2], widd)]\n",
    "        H1 = Himp(imps, H_Kin)\n",
    "        EE, UU = eigen(dense(H1).data)\n",
    "        EE, UUS = eigenstates(dense(H1))\n",
    "        push!(U_imp,UUS)\n",
    "        A *= (UUS_0[1]'*UUS[1]) / abs(UUS_0[1]'*UUS[1])\n",
    "        UUS_0 = copy(UUS)\n",
    "    end\n",
    "    for y_t in y3:-step:y0\n",
    "        imps = [ impurity(V00, [x3,y_t], widd)]\n",
    "        H1 = Himp(imps, H_Kin)\n",
    "        EE, UU = eigen(dense(H1).data)\n",
    "        EE, UUS = eigenstates(dense(H1))\n",
    "        push!(U_imp,UUS)\n",
    "        A *= (UUS_0[1]'*UUS[1]) / abs(UUS_0[1]'*UUS[1])\n",
    "        UUS_0 = copy(UUS)\n",
    "    end\n",
    "    return angle(A)/pi, U_imp\n",
    "end"
   ]
  },
  {
   "cell_type": "code",
   "execution_count": null,
   "id": "ebd56efb-75ff-445c-b824-a837e358f851",
   "metadata": {
    "editable": true,
    "slideshow": {
     "slide_type": ""
    },
    "tags": []
   },
   "outputs": [],
   "source": [
    "function get_ab_phase2(x0,y0,x1,y1,x2,y2,x3,y3,step,wid,V0,A,UUS_0,Nx, Ny, cut_off,sp_basis,co,H1_sub)\n",
    "    U_imp = []\n",
    "    for x_t in ProgressBar(x0:step:x1)\n",
    "        imp = impurity(V0, [x_t,y0], wid)\n",
    "        VV, basis_sub, P, Pt = Vpin2(imp, Nx, Ny, cut_off, sp_basis, co)\n",
    "        H1 = VV.data + H1_sub.data\n",
    "        Total_H_sp = (H1' + H1)/2;\n",
    "        Total_H_sp = Operator(basis_sub, basis_sub, Total_H_sp)\n",
    "        EE, UUS = eigenstates(Total_H_sp)\n",
    "        push!(U_imp,UUS)\n",
    "        A *= (UUS_0[1].data'*UUS[1].data) / abs(UUS_0[1].data'*UUS[1].data)\n",
    "        UUS_0 = copy(UUS)\n",
    "    end\n",
    "    for y_t in y1:step:y2\n",
    "        imp = impurity(V0, [x1,y_t], wid)\n",
    "        VV, basis_sub, P, Pt = Vpin2(imp, Nx, Ny, cut_off, sp_basis, co)\n",
    "        H1 = VV.data + H1_sub.data\n",
    "        Total_H_sp = (H1' + H1)/2;\n",
    "        Total_H_sp = Operator(basis_sub, basis_sub, Total_H_sp)\n",
    "        EE, UUS = eigenstates(Total_H_sp)\n",
    "        push!(U_imp,UUS)\n",
    "        A *= (UUS_0[1].data'*UUS[1].data) / abs(UUS_0[1].data'*UUS[1].data)\n",
    "        UUS_0 = copy(UUS)\n",
    "    end\n",
    "    for x_t in x2:-step:x3\n",
    "        imp = impurity(V0, [x_t,y2], wid)\n",
    "        VV, basis_sub, P, Pt = Vpin2(imp, Nx, Ny, cut_off, sp_basis, co)\n",
    "        H1 = VV.data + H1_sub.data\n",
    "        Total_H_sp = (H1' + H1)/2;\n",
    "        Total_H_sp = Operator(basis_sub, basis_sub, Total_H_sp)\n",
    "        EE, UUS = eigenstates(Total_H_sp)\n",
    "        push!(U_imp,UUS)\n",
    "        A *= (UUS_0[1].data'*UUS[1].data) / abs(UUS_0[1].data'*UUS[1].data)\n",
    "        UUS_0 = copy(UUS)\n",
    "    end\n",
    "    for y_t in y3:-step:y0\n",
    "        imp = impurity(V0, [x3,y_t], wid)\n",
    "        VV, basis_sub, P, Pt = Vpin2(imp, Nx, Ny, cut_off, sp_basis, co)\n",
    "        H1 = VV.data + H1_sub.data\n",
    "        Total_H_sp = (H1' + H1)/2;\n",
    "        Total_H_sp = Operator(basis_sub, basis_sub, Total_H_sp)\n",
    "        EE, UUS = eigenstates(Total_H_sp)\n",
    "        push!(U_imp,UUS)\n",
    "        A *= (UUS_0[1].data'*UUS[1].data) / abs(UUS_0[1].data'*UUS[1].data)\n",
    "        UUS_0 = copy(UUS)\n",
    "    end\n",
    "    return angle(A)/pi, U_imp\n",
    "end"
   ]
  },
  {
   "cell_type": "code",
   "execution_count": 6,
   "id": "25c766fb-5953-4851-98d1-4a5ab79dc3af",
   "metadata": {
    "editable": true,
    "slideshow": {
     "slide_type": ""
    },
    "tags": []
   },
   "outputs": [
    {
     "data": {
      "text/plain": [
       "get_ab_phase_proj (generic function with 1 method)"
      ]
     },
     "execution_count": 6,
     "metadata": {},
     "output_type": "execute_result"
    }
   ],
   "source": [
    "function get_ab_phase_proj(x0,y0,x1,y1,x2,y2,x3,y3,widd,V00,A,step,UUS_0M,cut_off,H_Kin,basis)\n",
    "    U_imp = []\n",
    "    for x_t in x0:step:x1\n",
    "        imps = [ impurity(V00, [x_t,y0], widd) ]\n",
    "        H1 = Himp_proj(imps, H_Kin, cut_off, UUS_0)\n",
    "        EE, UU = eigen(dense(H1).data)\n",
    "        EE, UUS = eigenstates(dense(H1))\n",
    "        push!(U_imp,UUS)\n",
    "        A *= (UUS_0M[1]'*UUS[1]) / abs(UUS_0M[1]'*UUS[1])\n",
    "        UUS_0M = copy(UUS)\n",
    "    end\n",
    "    for y_t in y1:step:y2\n",
    "        imps = [ impurity(V00, [x1,y_t], widd)]\n",
    "        H1 = Himp_proj(imps, H_Kin, cut_off, UUS_0)\n",
    "        EE, UU = eigen(dense(H1).data)\n",
    "        EE, UUS = eigenstates(dense(H1))\n",
    "        push!(U_imp,UUS)\n",
    "        A *= (UUS_0M[1]'*UUS[1]) / abs(UUS_0M[1]'*UUS[1])\n",
    "        UUS_0M = copy(UUS)\n",
    "    end\n",
    "    for x_t in x2:-step:x3\n",
    "        imps = [ impurity(V00, [x_t,y2], widd)]\n",
    "        H1 = Himp_proj(imps, H_Kin, cut_off, UUS_0)\n",
    "        EE, UU = eigen(dense(H1).data)\n",
    "        EE, UUS = eigenstates(dense(H1))\n",
    "        push!(U_imp,UUS)\n",
    "        A *= (UUS_0M[1]'*UUS[1]) / abs(UUS_0M[1]'*UUS[1])\n",
    "        UUS_0M = copy(UUS)\n",
    "    end\n",
    "    for y_t in y3:-step:y0\n",
    "        imps = [ impurity(V00, [x3,y_t], widd)]\n",
    "        H1 = Himp_proj(imps, H_Kin, cut_off, UUS_0)\n",
    "        EE, UU = eigen(dense(H1).data)\n",
    "        EE, UUS = eigenstates(dense(H1))\n",
    "        push!(U_imp,UUS)\n",
    "        A *= (UUS_0M[1]'*UUS[1]) / abs(UUS_0M[1]'*UUS[1])\n",
    "        UUS_0M = copy(UUS)\n",
    "    end\n",
    "    return angle(A)/pi, U_imp\n",
    "end"
   ]
  },
  {
   "cell_type": "code",
   "execution_count": null,
   "id": "aac06ede-95a0-4699-b60b-7828cfba7866",
   "metadata": {},
   "outputs": [],
   "source": [
    "function Himp_proj(imps, H_Kin, cut_off, UUS_0)\n",
    "    VimpM = Vimp2(imps, sites, site_number, site_coord, LL);\n",
    "    Vimp_op = get_sp_op(basis, VimpM)\n",
    "    Total_Ham = H_Kin + Vimp_op # H_Kin ve Vimp_op ayrı ayrı proj yapmadım!!!!! ###\n",
    "    substates = 1:cut_off\n",
    "    basis_tilde = SubspaceBasis(basis, UUS_0[substates])\n",
    "    basis_tilde2 = basis_tilde⊗basis_tilde\n",
    "    states_mb_tilde = bosonstates(basis_tilde, 1)\n",
    "    basis_mb_tilde  = ManyBodyBasis(basis_tilde, states_mb_tilde)\n",
    "    P1 = projector(basis, basis_tilde)\n",
    "    P1_dag = dagger(P1)\n",
    "    P1M = P1.data\n",
    "    P1_dagM = P1_dag.data\n",
    "    P2M = (P1⊗P1).data\n",
    "    P2_dagM = (P1_dag⊗P1_dag).data;\n",
    "    H1M = Total_Ham.data\n",
    "    H1_tildeM = P1_dagM * H1M * P1M\n",
    "    H1_tilde = Operator(basis_tilde, H1_tildeM);\n",
    "    H_NI_tilde_mb = manybodyoperator(basis_mb_tilde, H1_tilde);\n",
    "    H_tilde_mb = (H_NI_tilde_mb + H_NI_tilde_mb')/2;\n",
    "    return H_tilde_mb\n",
    "end"
   ]
  },
  {
   "cell_type": "code",
   "execution_count": 3,
   "id": "8062491d-8b65-4fcc-803a-63f3b07eb07d",
   "metadata": {},
   "outputs": [
    {
     "data": {
      "text/plain": [
       "projection_operators (generic function with 1 method)"
      ]
     },
     "execution_count": 3,
     "metadata": {},
     "output_type": "execute_result"
    }
   ],
   "source": [
    "function projection_operators(cut_off, basis, UUS_0)\n",
    "    substates = 1:cut_off\n",
    "    basis_tilde = SubspaceBasis(basis, UUS_0[substates])\n",
    "    basis_tilde2 = basis_tilde⊗basis_tilde\n",
    "    states_mb_tilde = bosonstates(basis_tilde, 1)\n",
    "    basis_mb_tilde  = ManyBodyBasis(basis_tilde, states_mb_tilde)\n",
    "    P1 = projector(basis, basis_tilde)\n",
    "    P1_dag = dagger(P1)\n",
    "    P1M = P1.data\n",
    "    P1_dagM = P1_dag.data\n",
    "    P2M = (P1⊗P1).data\n",
    "    P2_dagM = (P1_dag⊗P1_dag).data\n",
    "    return P1, P1_dag, P1M, P1_dagM, P2M, P2_dagM, basis_tilde\n",
    "end"
   ]
  },
  {
   "cell_type": "code",
   "execution_count": 4,
   "id": "b15318bb-7498-4c4b-8184-f598bfa4b2d3",
   "metadata": {
    "editable": true,
    "slideshow": {
     "slide_type": ""
    },
    "tags": []
   },
   "outputs": [
    {
     "data": {
      "text/plain": [
       "Himp_proj (generic function with 1 method)"
      ]
     },
     "execution_count": 4,
     "metadata": {},
     "output_type": "execute_result"
    }
   ],
   "source": [
    "function Himp_proj(imps, H_Kin, P1M, P1_dagM, basis, basis_tilde)\n",
    "    VimpM = Vimp2(imps, sites, site_number, site_coord, LL);\n",
    "    Vimp_op = get_sp_op(basis, VimpM)\n",
    "    Total_Ham = H_Kin + Vimp_op \n",
    "    H1M = Total_Ham.data\n",
    "    H1_tildeM = P1_dagM * H1M * P1M\n",
    "    H1_tilde = Operator(basis_tilde, H1_tildeM)\n",
    "    H1_tilde = (H1_tilde + H1_tilde')/2\n",
    "    H_NI_tilde_mb = manybodyoperator(basis_mb_tilde, H1_tilde);\n",
    "    H_tilde_mb = (H_NI_tilde_mb + H_NI_tilde_mb')/2;\n",
    "    return H_tilde_mb\n",
    "end"
   ]
  },
  {
   "cell_type": "code",
   "execution_count": null,
   "id": "21ad726b-4c86-4b8f-b0ca-f1c2911ba02e",
   "metadata": {},
   "outputs": [],
   "source": []
  }
 ],
 "metadata": {
  "kernelspec": {
   "display_name": "Julia 1.9.3",
   "language": "julia",
   "name": "julia-1.9"
  },
  "language_info": {
   "file_extension": ".jl",
   "mimetype": "application/julia",
   "name": "julia",
   "version": "1.9.3"
  }
 },
 "nbformat": 4,
 "nbformat_minor": 5
}
