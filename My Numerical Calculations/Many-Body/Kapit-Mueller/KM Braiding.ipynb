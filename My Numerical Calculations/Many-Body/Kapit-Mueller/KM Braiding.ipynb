{
 "cells": [
  {
   "cell_type": "markdown",
   "id": "4d3c1bd2-5652-4832-b291-3de59686f946",
   "metadata": {
    "editable": true,
    "slideshow": {
     "slide_type": ""
    },
    "tags": []
   },
   "source": [
    "# Braiding for Kapit-Mueller Model with First Band Approximation"
   ]
  },
  {
   "cell_type": "code",
   "execution_count": 142,
   "id": "fadfe630-80ba-4ded-842a-f0df9b4361ba",
   "metadata": {},
   "outputs": [],
   "source": [
    "using QuantumOptics\n",
    "using NBInclude\n",
    "using SparseArrays\n",
    "using DataFrames\n",
    "using Plots\n",
    "using Interpolations\n",
    "using LinearAlgebra\n",
    "using LaTeXStrings\n",
    "using ProgressBars\n",
    "@nbinclude(joinpath(\"..\",\"First Band Approximation Functions.ipynb\"))\n",
    "@nbinclude(joinpath(\"../Hofstadter\",\"Torus_Distance.ipynb\"))\n",
    "@nbinclude(joinpath(\"../Braiding Utils.ipynb\"))\n",
    "@nbinclude(\"../Hofstadter Many Body Utils.ipynb\");"
   ]
  },
  {
   "cell_type": "code",
   "execution_count": 254,
   "id": "b3b0db6c-a447-4ab9-9de3-44b431d2c397",
   "metadata": {},
   "outputs": [
    {
     "name": "stdout",
     "output_type": "stream",
     "text": [
      "Lattice: 4x4\n",
      "The Number of Flux per Unit-Cell (p/q) = 1//2\n",
      "Filling Fraction = 3//8 (The Number of Quasiholes = 2)\n",
      "The Number of Flux Quanta = 8 (Delocalised Number = 2)\n",
      "The Total Number of Particle = 3\n",
      "The Number of State of Ground Degeneracy = 16\n"
     ]
    }
   ],
   "source": [
    "Nx = 4\n",
    "Ny = 4\n",
    "p = 1\n",
    "q = 2\n",
    "pn = 3\n",
    "N_Pin = 0 #for braiding N_Pin = 2 and for AB N_Pin = 2\n",
    "U = 2\n",
    "\n",
    "N_Site = Nx*Ny\n",
    "t = 1\n",
    "NPhi0 = Int(Nx*Ny*(p/q))\n",
    "Cut_Off = NPhi0\n",
    "PN = vcat( ( [i] for i in 0:pn) ... )\n",
    "\n",
    "nu0 = 1/2 # The quasihole numbers depend on Laughlin fraction\n",
    "NPhi = NPhi0-N_Pin\n",
    "N_d = Int(NPhi - pn/nu0)\n",
    "nu = pn//NPhi0\n",
    "Degeneracy = Int((factorial(N_d + pn - 1) / (factorial(N_d) * factorial(pn - 1))) * (NPhi / pn))\n",
    "println(\"Lattice: \",Nx,\"x\",Ny,\n",
    "        \"\\nThe Number of Flux per Unit-Cell (p/q) = \",p//q,\n",
    "        \"\\nFilling Fraction = \",nu,\" (The Number of Quasiholes = \",(N_Pin+N_d),\n",
    "        \")\\nThe Number of Flux Quanta = \", NPhi,\n",
    "        \" (Delocalised Number = \", N_d,\n",
    "        \")\\nThe Total Number of Particle = \",pn,\n",
    "        \"\\nThe Number of State of Ground Degeneracy = \",Degeneracy)"
   ]
  },
  {
   "cell_type": "code",
   "execution_count": 255,
   "id": "9a510eba-cead-4f33-b546-d7d81a2e73b8",
   "metadata": {},
   "outputs": [
    {
     "data": {
      "text/plain": [
       "KM (generic function with 1 method)"
      ]
     },
     "execution_count": 255,
     "metadata": {},
     "output_type": "execute_result"
    }
   ],
   "source": [
    "function KM(Nx, Ny, t, p, q)\n",
    "    coordinates = vcat( ( [y x] for x in 0:Nx-1 for y in 0:Ny-1 ) ... )\n",
    "    alpha = p/q\n",
    "    H = spzeros(Complex{Float64}, N_Site, N_Site)\n",
    "    for j in 1:N_Site\n",
    "        for k in 1:N_Site\n",
    "            if j!=k\n",
    "                x_j = coordinates[j, 1] \n",
    "                y_j = coordinates[j, 2] \n",
    "                x_k = coordinates[k, 1]\n",
    "                y_k = coordinates[k, 2]\n",
    "                z_j = x_j + 1im*y_j\n",
    "                z_k = x_k + 1im*y_k\n",
    "                for n in range(-5,5)\n",
    "                    for m in range(-5,5)\n",
    "                        R = n * Nx + 1im * m * Ny\n",
    "                        z = (z_k - z_j) + R \n",
    "                        G = (-1) ^ ( real(z) + imag(z) + real(z) * imag(z) )\n",
    "                        beta = (pi/2) * ( (z_j * conj(z) ) - (conj(z_j) * z) )*alpha\n",
    "                        W = t * G * exp( -pi/2 * (1-alpha) * (abs(z)^2) )\n",
    "                        J = W * exp(beta) * exp( pi/2 * ( (z_j * conj(R) ) - (conj(z_j) * R) ) * alpha)\n",
    "                        H[j,k] += J\n",
    "                    end\n",
    "                end\n",
    "            end\n",
    "        end\n",
    "    end\n",
    "    return H\n",
    "end"
   ]
  },
  {
   "cell_type": "code",
   "execution_count": 256,
   "id": "addad5bf-c11e-4d8b-ab79-1c81a323b2fc",
   "metadata": {},
   "outputs": [],
   "source": [
    "Sp_Basis = NLevelBasis(N_Site);"
   ]
  },
  {
   "cell_type": "code",
   "execution_count": 257,
   "id": "bb1ec987-9a3b-48e3-8224-e038bb47672f",
   "metadata": {},
   "outputs": [
    {
     "data": {
      "text/plain": [
       "Sp_Sub (generic function with 1 method)"
      ]
     },
     "execution_count": 257,
     "metadata": {},
     "output_type": "execute_result"
    }
   ],
   "source": [
    "function Sp_Sub(N_Site, Nx, Ny, t, p, q, Sp_Basis, Cut_Off)\n",
    "    Sp = KM(Nx, Ny, t, p, q)\n",
    "    H_Sp = get_sp_op(Sp_Basis, Sp)\n",
    "    H_Sp = dense((H_Sp+H_Sp')/2)\n",
    "    Sub_States = get_sub_states(H_Sp, Cut_Off)\n",
    "    Sub_Basis, P, Pt = get_projector_op(Sub_States, Sp_Basis)\n",
    "    H_Sp_Sub = get_subspace_op(H_Sp, P, Pt)\n",
    "    return H_Sp, Sub_Basis, P, Pt, H_Sp_Sub\n",
    "end"
   ]
  },
  {
   "cell_type": "code",
   "execution_count": 258,
   "id": "c70ff83c-f71d-4d87-bb23-9b440f020016",
   "metadata": {},
   "outputs": [],
   "source": [
    "H_Sp, Sub_Basis, P, Pt, H_Sp_Sub = Sp_Sub(N_Site, Nx, Ny, t, p, q, Sp_Basis, Cut_Off);\n",
    "EEA, UUA = eigenstates(H_Sp);"
   ]
  },
  {
   "cell_type": "code",
   "execution_count": 259,
   "id": "cb7d3bd5-19dc-4517-a5f1-9c4b50183b02",
   "metadata": {},
   "outputs": [
    {
     "data": {
      "image/png": "[encoded data removed]",
      "image/svg+xml": [
       "<?xml version=\"1.0\" encoding=\"utf-8\"?>\n",
       "<svg xmlns=\"http://www.w3.org/2000/svg\" xmlns:xlink=\"http://www.w3.org/1999/xlink\" width=\"600\" height=\"400\" viewBox=\"0 0 2400 1600\">\n",
       "<defs>\n",
       "  <clipPath id=\"clip480\">\n",
       "    <rect x=\"0\" y=\"0\" width=\"2400\" height=\"1600\"/>\n",
       "  </clipPath>\n",
       "</defs>\n",
       "<path clip-path=\"url(#clip480)\" d=\"M0 1600 L2400 1600 L2400 0 L0 0  Z\" fill=\"#ffffff\" fill-rule=\"evenodd\" fill-opacity=\"1\"/>\n",
       "<defs>\n",
       "  <clipPath id=\"clip481\">\n",
       "    <rect x=\"480\" y=\"0\" width=\"1681\" height=\"1600\"/>\n",
       "  </clipPath>\n",
       "</defs>\n",
       "<path clip-path=\"url(#clip480)\" d=\"M193.936 1486.45 L2352.76 1486.45 L2352.76 123.472 L193.936 123.472  Z\" fill=\"#ffffff\" fill-rule=\"evenodd\" fill-opacity=\"1\"/>\n",
       "<defs>\n",
       "  <clipPath id=\"clip482\">\n",
       "    <rect x=\"193\" y=\"123\" width=\"2160\" height=\"1364\"/>\n",
       "  </clipPath>\n",
       "</defs>\n",
       "<polyline clip-path=\"url(#clip482)\" style=\"stroke:#000000; stroke-linecap:round; stroke-linejoin:round; stroke-width:2; stroke-opacity:0.1; fill:none\" points=\"526.584,1486.45 526.584,123.472 \"/>\n",
       "<polyline clip-path=\"url(#clip482)\" style=\"stroke:#000000; stroke-linecap:round; stroke-linejoin:round; stroke-width:2; stroke-opacity:0.1; fill:none\" points=\"933.909,1486.45 933.909,123.472 \"/>\n",
       "<polyline clip-path=\"url(#clip482)\" style=\"stroke:#000000; stroke-linecap:round; stroke-linejoin:round; stroke-width:2; stroke-opacity:0.1; fill:none\" points=\"1341.23,1486.45 1341.23,123.472 \"/>\n",
       "<polyline clip-path=\"url(#clip482)\" style=\"stroke:#000000; stroke-linecap:round; stroke-linejoin:round; stroke-width:2; stroke-opacity:0.1; fill:none\" points=\"1748.56,1486.45 1748.56,123.472 \"/>\n",
       "<polyline clip-path=\"url(#clip482)\" style=\"stroke:#000000; stroke-linecap:round; stroke-linejoin:round; stroke-width:2; stroke-opacity:0.1; fill:none\" points=\"2155.88,1486.45 2155.88,123.472 \"/>\n",
       "<polyline clip-path=\"url(#clip480)\" style=\"stroke:#000000; stroke-linecap:round; stroke-linejoin:round; stroke-width:4; stroke-opacity:1; fill:none\" points=\"193.936,1486.45 2352.76,1486.45 \"/>\n",
       "<polyline clip-path=\"url(#clip480)\" style=\"stroke:#000000; stroke-linecap:round; stroke-linejoin:round; stroke-width:4; stroke-opacity:1; fill:none\" points=\"526.584,1486.45 526.584,1467.55 \"/>\n",
       "<polyline clip-path=\"url(#clip480)\" style=\"stroke:#000000; stroke-linecap:round; stroke-linejoin:round; stroke-width:4; stroke-opacity:1; fill:none\" points=\"933.909,1486.45 933.909,1467.55 \"/>\n",
       "<polyline clip-path=\"url(#clip480)\" style=\"stroke:#000000; stroke-linecap:round; stroke-linejoin:round; stroke-width:4; stroke-opacity:1; fill:none\" points=\"1341.23,1486.45 1341.23,1467.55 \"/>\n",
       "<polyline clip-path=\"url(#clip480)\" style=\"stroke:#000000; stroke-linecap:round; stroke-linejoin:round; stroke-width:4; stroke-opacity:1; fill:none\" points=\"1748.56,1486.45 1748.56,1467.55 \"/>\n",
       "<polyline clip-path=\"url(#clip480)\" style=\"stroke:#000000; stroke-linecap:round; stroke-linejoin:round; stroke-width:4; stroke-opacity:1; fill:none\" points=\"2155.88,1486.45 2155.88,1467.55 \"/>\n",
       "<path clip-path=\"url(#clip480)\" d=\"M530.832 1530.21 Q534.188 1530.93 536.063 1533.2 Q537.962 1535.47 537.962 1538.8 Q537.962 1543.92 534.443 1546.72 Q530.925 1549.52 524.443 1549.52 Q522.267 1549.52 519.952 1549.08 Q517.661 1548.66 515.207 1547.81 L515.207 1543.29 Q517.152 1544.43 519.466 1545.01 Q521.781 1545.58 524.304 1545.58 Q528.702 1545.58 530.994 1543.85 Q533.309 1542.11 533.309 1538.8 Q533.309 1535.75 531.156 1534.03 Q529.026 1532.3 525.207 1532.3 L521.179 1532.3 L521.179 1528.45 L525.392 1528.45 Q528.841 1528.45 530.67 1527.09 Q532.499 1525.7 532.499 1523.11 Q532.499 1520.45 530.601 1519.03 Q528.726 1517.6 525.207 1517.6 Q523.286 1517.6 521.087 1518.01 Q518.888 1518.43 516.249 1519.31 L516.249 1515.14 Q518.911 1514.4 521.226 1514.03 Q523.564 1513.66 525.624 1513.66 Q530.948 1513.66 534.05 1516.09 Q537.151 1518.5 537.151 1522.62 Q537.151 1525.49 535.508 1527.48 Q533.864 1529.45 530.832 1530.21 Z\" fill=\"#000000\" fill-rule=\"nonzero\" fill-opacity=\"1\" /><path clip-path=\"url(#clip480)\" d=\"M934.314 1529.7 Q931.166 1529.7 929.314 1531.86 Q927.485 1534.01 927.485 1537.76 Q927.485 1541.49 929.314 1543.66 Q931.166 1545.82 934.314 1545.82 Q937.462 1545.82 939.291 1543.66 Q941.143 1541.49 941.143 1537.76 Q941.143 1534.01 939.291 1531.86 Q937.462 1529.7 934.314 1529.7 M943.596 1515.05 L943.596 1519.31 Q941.837 1518.48 940.032 1518.04 Q938.249 1517.6 936.49 1517.6 Q931.86 1517.6 929.407 1520.72 Q926.976 1523.85 926.629 1530.17 Q927.995 1528.15 930.055 1527.09 Q932.115 1526 934.592 1526 Q939.8 1526 942.809 1529.17 Q945.842 1532.32 945.842 1537.76 Q945.842 1543.08 942.694 1546.3 Q939.545 1549.52 934.314 1549.52 Q928.319 1549.52 925.147 1544.94 Q921.976 1540.33 921.976 1531.6 Q921.976 1523.41 925.865 1518.55 Q929.754 1513.66 936.305 1513.66 Q938.064 1513.66 939.846 1514.01 Q941.652 1514.36 943.596 1515.05 Z\" fill=\"#000000\" fill-rule=\"nonzero\" fill-opacity=\"1\" /><path clip-path=\"url(#clip480)\" d=\"M1331.53 1548.13 L1331.53 1543.87 Q1333.29 1544.7 1335.1 1545.14 Q1336.9 1545.58 1338.64 1545.58 Q1343.27 1545.58 1345.7 1542.48 Q1348.15 1539.36 1348.5 1533.01 Q1347.16 1535.01 1345.1 1536.07 Q1343.04 1537.13 1340.54 1537.13 Q1335.35 1537.13 1332.32 1534.01 Q1329.31 1530.86 1329.31 1525.42 Q1329.31 1520.1 1332.46 1516.88 Q1335.61 1513.66 1340.84 1513.66 Q1346.84 1513.66 1349.98 1518.27 Q1353.15 1522.85 1353.15 1531.6 Q1353.15 1539.77 1349.27 1544.66 Q1345.4 1549.52 1338.85 1549.52 Q1337.09 1549.52 1335.28 1549.17 Q1333.48 1548.82 1331.53 1548.13 M1340.84 1533.48 Q1343.99 1533.48 1345.82 1531.32 Q1347.67 1529.17 1347.67 1525.42 Q1347.67 1521.7 1345.82 1519.54 Q1343.99 1517.37 1340.84 1517.37 Q1337.69 1517.37 1335.84 1519.54 Q1334.01 1521.7 1334.01 1525.42 Q1334.01 1529.17 1335.84 1531.32 Q1337.69 1533.48 1340.84 1533.48 Z\" fill=\"#000000\" fill-rule=\"nonzero\" fill-opacity=\"1\" /><path clip-path=\"url(#clip480)\" d=\"M1724.04 1544.91 L1731.68 1544.91 L1731.68 1518.55 L1723.37 1520.21 L1723.37 1515.95 L1731.64 1514.29 L1736.31 1514.29 L1736.31 1544.91 L1743.95 1544.91 L1743.95 1548.85 L1724.04 1548.85 L1724.04 1544.91 Z\" fill=\"#000000\" fill-rule=\"nonzero\" fill-opacity=\"1\" /><path clip-path=\"url(#clip480)\" d=\"M1757.42 1544.91 L1773.74 1544.91 L1773.74 1548.85 L1751.8 1548.85 L1751.8 1544.91 Q1754.46 1542.16 1759.04 1537.53 Q1763.65 1532.88 1764.83 1531.53 Q1767.08 1529.01 1767.96 1527.27 Q1768.86 1525.51 1768.86 1523.82 Q1768.86 1521.07 1766.91 1519.33 Q1764.99 1517.6 1761.89 1517.6 Q1759.69 1517.6 1757.24 1518.36 Q1754.81 1519.13 1752.03 1520.68 L1752.03 1515.95 Q1754.85 1514.82 1757.31 1514.24 Q1759.76 1513.66 1761.8 1513.66 Q1767.17 1513.66 1770.36 1516.35 Q1773.56 1519.03 1773.56 1523.52 Q1773.56 1525.65 1772.75 1527.57 Q1771.96 1529.47 1769.85 1532.07 Q1769.28 1532.74 1766.17 1535.95 Q1763.07 1539.15 1757.42 1544.91 Z\" fill=\"#000000\" fill-rule=\"nonzero\" fill-opacity=\"1\" /><path clip-path=\"url(#clip480)\" d=\"M2131.07 1544.91 L2138.71 1544.91 L2138.71 1518.55 L2130.4 1520.21 L2130.4 1515.95 L2138.66 1514.29 L2143.34 1514.29 L2143.34 1544.91 L2150.98 1544.91 L2150.98 1548.85 L2131.07 1548.85 L2131.07 1544.91 Z\" fill=\"#000000\" fill-rule=\"nonzero\" fill-opacity=\"1\" /><path clip-path=\"url(#clip480)\" d=\"M2160.47 1514.29 L2178.82 1514.29 L2178.82 1518.22 L2164.75 1518.22 L2164.75 1526.7 Q2165.77 1526.35 2166.79 1526.19 Q2167.8 1526 2168.82 1526 Q2174.61 1526 2177.99 1529.17 Q2181.37 1532.34 2181.37 1537.76 Q2181.37 1543.34 2177.9 1546.44 Q2174.42 1549.52 2168.1 1549.52 Q2165.93 1549.52 2163.66 1549.15 Q2161.41 1548.78 2159.01 1548.04 L2159.01 1543.34 Q2161.09 1544.47 2163.31 1545.03 Q2165.54 1545.58 2168.01 1545.58 Q2172.02 1545.58 2174.35 1543.48 Q2176.69 1541.37 2176.69 1537.76 Q2176.69 1534.15 2174.35 1532.04 Q2172.02 1529.94 2168.01 1529.94 Q2166.14 1529.94 2164.26 1530.35 Q2162.41 1530.77 2160.47 1531.65 L2160.47 1514.29 Z\" fill=\"#000000\" fill-rule=\"nonzero\" fill-opacity=\"1\" /><polyline clip-path=\"url(#clip482)\" style=\"stroke:#000000; stroke-linecap:round; stroke-linejoin:round; stroke-width:2; stroke-opacity:0.1; fill:none\" points=\"193.936,1447.87 2352.76,1447.87 \"/>\n",
       "<polyline clip-path=\"url(#clip482)\" style=\"stroke:#000000; stroke-linecap:round; stroke-linejoin:round; stroke-width:2; stroke-opacity:0.1; fill:none\" points=\"193.936,1175.52 2352.76,1175.52 \"/>\n",
       "<polyline clip-path=\"url(#clip482)\" style=\"stroke:#000000; stroke-linecap:round; stroke-linejoin:round; stroke-width:2; stroke-opacity:0.1; fill:none\" points=\"193.936,903.181 2352.76,903.181 \"/>\n",
       "<polyline clip-path=\"url(#clip482)\" style=\"stroke:#000000; stroke-linecap:round; stroke-linejoin:round; stroke-width:2; stroke-opacity:0.1; fill:none\" points=\"193.936,630.839 2352.76,630.839 \"/>\n",
       "<polyline clip-path=\"url(#clip482)\" style=\"stroke:#000000; stroke-linecap:round; stroke-linejoin:round; stroke-width:2; stroke-opacity:0.1; fill:none\" points=\"193.936,358.497 2352.76,358.497 \"/>\n",
       "<polyline clip-path=\"url(#clip480)\" style=\"stroke:#000000; stroke-linecap:round; stroke-linejoin:round; stroke-width:4; stroke-opacity:1; fill:none\" points=\"193.936,1486.45 193.936,123.472 \"/>\n",
       "<polyline clip-path=\"url(#clip480)\" style=\"stroke:#000000; stroke-linecap:round; stroke-linejoin:round; stroke-width:4; stroke-opacity:1; fill:none\" points=\"193.936,1447.87 212.834,1447.87 \"/>\n",
       "<polyline clip-path=\"url(#clip480)\" style=\"stroke:#000000; stroke-linecap:round; stroke-linejoin:round; stroke-width:4; stroke-opacity:1; fill:none\" points=\"193.936,1175.52 212.834,1175.52 \"/>\n",
       "<polyline clip-path=\"url(#clip480)\" style=\"stroke:#000000; stroke-linecap:round; stroke-linejoin:round; stroke-width:4; stroke-opacity:1; fill:none\" points=\"193.936,903.181 212.834,903.181 \"/>\n",
       "<polyline clip-path=\"url(#clip480)\" style=\"stroke:#000000; stroke-linecap:round; stroke-linejoin:round; stroke-width:4; stroke-opacity:1; fill:none\" points=\"193.936,630.839 212.834,630.839 \"/>\n",
       "<polyline clip-path=\"url(#clip480)\" style=\"stroke:#000000; stroke-linecap:round; stroke-linejoin:round; stroke-width:4; stroke-opacity:1; fill:none\" points=\"193.936,358.497 212.834,358.497 \"/>\n",
       "<path clip-path=\"url(#clip480)\" d=\"M50.9921 1448.32 L80.6679 1448.32 L80.6679 1452.25 L50.9921 1452.25 L50.9921 1448.32 Z\" fill=\"#000000\" fill-rule=\"nonzero\" fill-opacity=\"1\" /><path clip-path=\"url(#clip480)\" d=\"M91.5706 1461.21 L99.2095 1461.21 L99.2095 1434.84 L90.8993 1436.51 L90.8993 1432.25 L99.1632 1430.59 L103.839 1430.59 L103.839 1461.21 L111.478 1461.21 L111.478 1465.15 L91.5706 1465.15 L91.5706 1461.21 Z\" fill=\"#000000\" fill-rule=\"nonzero\" fill-opacity=\"1\" /><path clip-path=\"url(#clip480)\" d=\"M120.922 1459.27 L125.807 1459.27 L125.807 1465.15 L120.922 1465.15 L120.922 1459.27 Z\" fill=\"#000000\" fill-rule=\"nonzero\" fill-opacity=\"1\" /><path clip-path=\"url(#clip480)\" d=\"M145.992 1433.66 Q142.381 1433.66 140.552 1437.23 Q138.746 1440.77 138.746 1447.9 Q138.746 1455.01 140.552 1458.57 Q142.381 1462.11 145.992 1462.11 Q149.626 1462.11 151.431 1458.57 Q153.26 1455.01 153.26 1447.9 Q153.26 1440.77 151.431 1437.23 Q149.626 1433.66 145.992 1433.66 M145.992 1429.96 Q151.802 1429.96 154.857 1434.57 Q157.936 1439.15 157.936 1447.9 Q157.936 1456.63 154.857 1461.23 Q151.802 1465.82 145.992 1465.82 Q140.181 1465.82 137.103 1461.23 Q134.047 1456.63 134.047 1447.9 Q134.047 1439.15 137.103 1434.57 Q140.181 1429.96 145.992 1429.96 Z\" fill=\"#000000\" fill-rule=\"nonzero\" fill-opacity=\"1\" /><path clip-path=\"url(#clip480)\" d=\"M51.9875 1175.97 L81.6633 1175.97 L81.6633 1179.91 L51.9875 1179.91 L51.9875 1175.97 Z\" fill=\"#000000\" fill-rule=\"nonzero\" fill-opacity=\"1\" /><path clip-path=\"url(#clip480)\" d=\"M101.756 1161.32 Q98.1447 1161.32 96.316 1164.89 Q94.5104 1168.43 94.5104 1175.56 Q94.5104 1182.66 96.316 1186.23 Q98.1447 1189.77 101.756 1189.77 Q105.39 1189.77 107.196 1186.23 Q109.024 1182.66 109.024 1175.56 Q109.024 1168.43 107.196 1164.89 Q105.39 1161.32 101.756 1161.32 M101.756 1157.62 Q107.566 1157.62 110.621 1162.22 Q113.7 1166.81 113.7 1175.56 Q113.7 1184.28 110.621 1188.89 Q107.566 1193.47 101.756 1193.47 Q95.9456 1193.47 92.8669 1188.89 Q89.8114 1184.28 89.8114 1175.56 Q89.8114 1166.81 92.8669 1162.22 Q95.9456 1157.62 101.756 1157.62 Z\" fill=\"#000000\" fill-rule=\"nonzero\" fill-opacity=\"1\" /><path clip-path=\"url(#clip480)\" d=\"M121.918 1186.92 L126.802 1186.92 L126.802 1192.8 L121.918 1192.8 L121.918 1186.92 Z\" fill=\"#000000\" fill-rule=\"nonzero\" fill-opacity=\"1\" /><path clip-path=\"url(#clip480)\" d=\"M137.033 1158.24 L155.39 1158.24 L155.39 1162.18 L141.316 1162.18 L141.316 1170.65 Q142.334 1170.3 143.353 1170.14 Q144.371 1169.96 145.39 1169.96 Q151.177 1169.96 154.556 1173.13 Q157.936 1176.3 157.936 1181.72 Q157.936 1187.29 154.464 1190.4 Q150.992 1193.47 144.672 1193.47 Q142.496 1193.47 140.228 1193.1 Q137.982 1192.73 135.575 1191.99 L135.575 1187.29 Q137.658 1188.43 139.881 1188.98 Q142.103 1189.54 144.58 1189.54 Q148.584 1189.54 150.922 1187.43 Q153.26 1185.33 153.26 1181.72 Q153.26 1178.1 150.922 1176 Q148.584 1173.89 144.58 1173.89 Q142.705 1173.89 140.83 1174.31 Q138.978 1174.72 137.033 1175.6 L137.033 1158.24 Z\" fill=\"#000000\" fill-rule=\"nonzero\" fill-opacity=\"1\" /><path clip-path=\"url(#clip480)\" d=\"M100.76 888.98 Q97.1493 888.98 95.3206 892.545 Q93.515 896.086 93.515 903.216 Q93.515 910.322 95.3206 913.887 Q97.1493 917.429 100.76 917.429 Q104.395 917.429 106.2 913.887 Q108.029 910.322 108.029 903.216 Q108.029 896.086 106.2 892.545 Q104.395 888.98 100.76 888.98 M100.76 885.276 Q106.571 885.276 109.626 889.883 Q112.705 894.466 112.705 903.216 Q112.705 911.943 109.626 916.549 Q106.571 921.132 100.76 921.132 Q94.9502 921.132 91.8715 916.549 Q88.816 911.943 88.816 903.216 Q88.816 894.466 91.8715 889.883 Q94.9502 885.276 100.76 885.276 Z\" fill=\"#000000\" fill-rule=\"nonzero\" fill-opacity=\"1\" /><path clip-path=\"url(#clip480)\" d=\"M120.922 914.582 L125.807 914.582 L125.807 920.461 L120.922 920.461 L120.922 914.582 Z\" fill=\"#000000\" fill-rule=\"nonzero\" fill-opacity=\"1\" /><path clip-path=\"url(#clip480)\" d=\"M145.992 888.98 Q142.381 888.98 140.552 892.545 Q138.746 896.086 138.746 903.216 Q138.746 910.322 140.552 913.887 Q142.381 917.429 145.992 917.429 Q149.626 917.429 151.431 913.887 Q153.26 910.322 153.26 903.216 Q153.26 896.086 151.431 892.545 Q149.626 888.98 145.992 888.98 M145.992 885.276 Q151.802 885.276 154.857 889.883 Q157.936 894.466 157.936 903.216 Q157.936 911.943 154.857 916.549 Q151.802 921.132 145.992 921.132 Q140.181 921.132 137.103 916.549 Q134.047 911.943 134.047 903.216 Q134.047 894.466 137.103 889.883 Q140.181 885.276 145.992 885.276 Z\" fill=\"#000000\" fill-rule=\"nonzero\" fill-opacity=\"1\" /><path clip-path=\"url(#clip480)\" d=\"M101.756 616.638 Q98.1447 616.638 96.316 620.202 Q94.5104 623.744 94.5104 630.874 Q94.5104 637.98 96.316 641.545 Q98.1447 645.087 101.756 645.087 Q105.39 645.087 107.196 641.545 Q109.024 637.98 109.024 630.874 Q109.024 623.744 107.196 620.202 Q105.39 616.638 101.756 616.638 M101.756 612.934 Q107.566 612.934 110.621 617.54 Q113.7 622.124 113.7 630.874 Q113.7 639.6 110.621 644.207 Q107.566 648.79 101.756 648.79 Q95.9456 648.79 92.8669 644.207 Q89.8114 639.6 89.8114 630.874 Q89.8114 622.124 92.8669 617.54 Q95.9456 612.934 101.756 612.934 Z\" fill=\"#000000\" fill-rule=\"nonzero\" fill-opacity=\"1\" /><path clip-path=\"url(#clip480)\" d=\"M121.918 642.239 L126.802 642.239 L126.802 648.119 L121.918 648.119 L121.918 642.239 Z\" fill=\"#000000\" fill-rule=\"nonzero\" fill-opacity=\"1\" /><path clip-path=\"url(#clip480)\" d=\"M137.033 613.559 L155.39 613.559 L155.39 617.494 L141.316 617.494 L141.316 625.966 Q142.334 625.619 143.353 625.457 Q144.371 625.272 145.39 625.272 Q151.177 625.272 154.556 628.443 Q157.936 631.614 157.936 637.031 Q157.936 642.61 154.464 645.712 Q150.992 648.79 144.672 648.79 Q142.496 648.79 140.228 648.42 Q137.982 648.049 135.575 647.309 L135.575 642.61 Q137.658 643.744 139.881 644.299 Q142.103 644.855 144.58 644.855 Q148.584 644.855 150.922 642.749 Q153.26 640.642 153.26 637.031 Q153.26 633.42 150.922 631.313 Q148.584 629.207 144.58 629.207 Q142.705 629.207 140.83 629.624 Q138.978 630.04 137.033 630.92 L137.033 613.559 Z\" fill=\"#000000\" fill-rule=\"nonzero\" fill-opacity=\"1\" /><path clip-path=\"url(#clip480)\" d=\"M91.5706 371.842 L99.2095 371.842 L99.2095 345.476 L90.8993 347.143 L90.8993 342.883 L99.1632 341.217 L103.839 341.217 L103.839 371.842 L111.478 371.842 L111.478 375.777 L91.5706 375.777 L91.5706 371.842 Z\" fill=\"#000000\" fill-rule=\"nonzero\" fill-opacity=\"1\" /><path clip-path=\"url(#clip480)\" d=\"M120.922 369.897 L125.807 369.897 L125.807 375.777 L120.922 375.777 L120.922 369.897 Z\" fill=\"#000000\" fill-rule=\"nonzero\" fill-opacity=\"1\" /><path clip-path=\"url(#clip480)\" d=\"M145.992 344.295 Q142.381 344.295 140.552 347.86 Q138.746 351.402 138.746 358.531 Q138.746 365.638 140.552 369.203 Q142.381 372.744 145.992 372.744 Q149.626 372.744 151.431 369.203 Q153.26 365.638 153.26 358.531 Q153.26 351.402 151.431 347.86 Q149.626 344.295 145.992 344.295 M145.992 340.592 Q151.802 340.592 154.857 345.198 Q157.936 349.781 157.936 358.531 Q157.936 367.258 154.857 371.865 Q151.802 376.448 145.992 376.448 Q140.181 376.448 137.103 371.865 Q134.047 367.258 134.047 358.531 Q134.047 349.781 137.103 345.198 Q140.181 340.592 145.992 340.592 Z\" fill=\"#000000\" fill-rule=\"nonzero\" fill-opacity=\"1\" /><path clip-path=\"url(#clip480)\" d=\"M1265.08 14.0809 L1265.08 22.0612 Q1260.42 19.8332 1256.29 18.7395 Q1252.16 17.6457 1248.31 17.6457 Q1241.63 17.6457 1237.98 20.2383 Q1234.38 22.8309 1234.38 27.611 Q1234.38 31.6214 1236.77 33.6873 Q1239.2 35.7128 1245.92 36.9686 L1250.86 37.9813 Q1260.02 39.7232 1264.35 44.1387 Q1268.73 48.5136 1268.73 55.8863 Q1268.73 64.6767 1262.81 69.2137 Q1256.94 73.7508 1245.56 73.7508 Q1241.26 73.7508 1236.4 72.7785 Q1231.58 71.8063 1226.4 69.9024 L1226.4 61.4765 Q1231.38 64.2716 1236.16 65.6895 Q1240.94 67.1073 1245.56 67.1073 Q1252.56 67.1073 1256.37 64.3527 Q1260.18 61.598 1260.18 56.4939 Q1260.18 52.0379 1257.43 49.5264 Q1254.71 47.0148 1248.47 45.759 L1243.49 44.7868 Q1234.34 42.9639 1230.24 39.075 Q1226.15 35.1862 1226.15 28.2591 Q1226.15 20.2383 1231.78 15.6203 Q1237.45 11.0023 1247.38 11.0023 Q1251.63 11.0023 1256.05 11.7719 Q1260.46 12.5416 1265.08 14.0809 Z\" fill=\"#000000\" fill-rule=\"nonzero\" fill-opacity=\"1\" /><path clip-path=\"url(#clip480)\" d=\"M1289.67 18.8205 L1289.67 41.5461 L1299.96 41.5461 Q1305.67 41.5461 1308.79 38.5889 Q1311.91 35.6318 1311.91 30.163 Q1311.91 24.7348 1308.79 21.7777 Q1305.67 18.8205 1299.96 18.8205 L1289.67 18.8205 M1281.49 12.096 L1299.96 12.096 Q1310.13 12.096 1315.31 16.714 Q1320.54 21.2916 1320.54 30.163 Q1320.54 39.1155 1315.31 43.6931 Q1310.13 48.2706 1299.96 48.2706 L1289.67 48.2706 L1289.67 72.576 L1281.49 72.576 L1281.49 12.096 Z\" fill=\"#000000\" fill-rule=\"nonzero\" fill-opacity=\"1\" /><circle clip-path=\"url(#clip482)\" cx=\"255.035\" cy=\"1447.87\" r=\"14.4\" fill=\"#009af9\" fill-rule=\"evenodd\" fill-opacity=\"1\" stroke=\"#000000\" stroke-opacity=\"1\" stroke-width=\"3.2\"/>\n",
       "<circle clip-path=\"url(#clip482)\" cx=\"390.81\" cy=\"1447.87\" r=\"14.4\" fill=\"#009af9\" fill-rule=\"evenodd\" fill-opacity=\"1\" stroke=\"#000000\" stroke-opacity=\"1\" stroke-width=\"3.2\"/>\n",
       "<circle clip-path=\"url(#clip482)\" cx=\"526.584\" cy=\"1447.87\" r=\"14.4\" fill=\"#009af9\" fill-rule=\"evenodd\" fill-opacity=\"1\" stroke=\"#000000\" stroke-opacity=\"1\" stroke-width=\"3.2\"/>\n",
       "<circle clip-path=\"url(#clip482)\" cx=\"662.359\" cy=\"1447.87\" r=\"14.4\" fill=\"#009af9\" fill-rule=\"evenodd\" fill-opacity=\"1\" stroke=\"#000000\" stroke-opacity=\"1\" stroke-width=\"3.2\"/>\n",
       "<circle clip-path=\"url(#clip482)\" cx=\"798.134\" cy=\"1447.87\" r=\"14.4\" fill=\"#009af9\" fill-rule=\"evenodd\" fill-opacity=\"1\" stroke=\"#000000\" stroke-opacity=\"1\" stroke-width=\"3.2\"/>\n",
       "<circle clip-path=\"url(#clip482)\" cx=\"933.909\" cy=\"1447.87\" r=\"14.4\" fill=\"#009af9\" fill-rule=\"evenodd\" fill-opacity=\"1\" stroke=\"#000000\" stroke-opacity=\"1\" stroke-width=\"3.2\"/>\n",
       "<circle clip-path=\"url(#clip482)\" cx=\"1069.68\" cy=\"1447.87\" r=\"14.4\" fill=\"#009af9\" fill-rule=\"evenodd\" fill-opacity=\"1\" stroke=\"#000000\" stroke-opacity=\"1\" stroke-width=\"3.2\"/>\n",
       "<circle clip-path=\"url(#clip482)\" cx=\"1205.46\" cy=\"1447.87\" r=\"14.4\" fill=\"#009af9\" fill-rule=\"evenodd\" fill-opacity=\"1\" stroke=\"#000000\" stroke-opacity=\"1\" stroke-width=\"3.2\"/>\n",
       "<circle clip-path=\"url(#clip482)\" cx=\"1341.23\" cy=\"538.657\" r=\"14.4\" fill=\"#009af9\" fill-rule=\"evenodd\" fill-opacity=\"1\" stroke=\"#000000\" stroke-opacity=\"1\" stroke-width=\"3.2\"/>\n",
       "<circle clip-path=\"url(#clip482)\" cx=\"1477.01\" cy=\"538.657\" r=\"14.4\" fill=\"#009af9\" fill-rule=\"evenodd\" fill-opacity=\"1\" stroke=\"#000000\" stroke-opacity=\"1\" stroke-width=\"3.2\"/>\n",
       "<circle clip-path=\"url(#clip482)\" cx=\"1612.78\" cy=\"366.626\" r=\"14.4\" fill=\"#009af9\" fill-rule=\"evenodd\" fill-opacity=\"1\" stroke=\"#000000\" stroke-opacity=\"1\" stroke-width=\"3.2\"/>\n",
       "<circle clip-path=\"url(#clip482)\" cx=\"1748.56\" cy=\"366.626\" r=\"14.4\" fill=\"#009af9\" fill-rule=\"evenodd\" fill-opacity=\"1\" stroke=\"#000000\" stroke-opacity=\"1\" stroke-width=\"3.2\"/>\n",
       "<circle clip-path=\"url(#clip482)\" cx=\"1884.33\" cy=\"366.626\" r=\"14.4\" fill=\"#009af9\" fill-rule=\"evenodd\" fill-opacity=\"1\" stroke=\"#000000\" stroke-opacity=\"1\" stroke-width=\"3.2\"/>\n",
       "<circle clip-path=\"url(#clip482)\" cx=\"2020.11\" cy=\"366.626\" r=\"14.4\" fill=\"#009af9\" fill-rule=\"evenodd\" fill-opacity=\"1\" stroke=\"#000000\" stroke-opacity=\"1\" stroke-width=\"3.2\"/>\n",
       "<circle clip-path=\"url(#clip482)\" cx=\"2155.88\" cy=\"162.047\" r=\"14.4\" fill=\"#009af9\" fill-rule=\"evenodd\" fill-opacity=\"1\" stroke=\"#000000\" stroke-opacity=\"1\" stroke-width=\"3.2\"/>\n",
       "<circle clip-path=\"url(#clip482)\" cx=\"2291.66\" cy=\"162.047\" r=\"14.4\" fill=\"#009af9\" fill-rule=\"evenodd\" fill-opacity=\"1\" stroke=\"#000000\" stroke-opacity=\"1\" stroke-width=\"3.2\"/>\n",
       "</svg>\n"
      ],
      "text/html": [
       "<?xml version=\"1.0\" encoding=\"utf-8\"?>\n",
       "<svg xmlns=\"http://www.w3.org/2000/svg\" xmlns:xlink=\"http://www.w3.org/1999/xlink\" width=\"600\" height=\"400\" viewBox=\"0 0 2400 1600\">\n",
       "<defs>\n",
       "  <clipPath id=\"clip530\">\n",
       "    <rect x=\"0\" y=\"0\" width=\"2400\" height=\"1600\"/>\n",
       "  </clipPath>\n",
       "</defs>\n",
       "<path clip-path=\"url(#clip530)\" d=\"M0 1600 L2400 1600 L2400 0 L0 0  Z\" fill=\"#ffffff\" fill-rule=\"evenodd\" fill-opacity=\"1\"/>\n",
       "<defs>\n",
       "  <clipPath id=\"clip531\">\n",
       "    <rect x=\"480\" y=\"0\" width=\"1681\" height=\"1600\"/>\n",
       "  </clipPath>\n",
       "</defs>\n",
       "<path clip-path=\"url(#clip530)\" d=\"M193.936 1486.45 L2352.76 1486.45 L2352.76 123.472 L193.936 123.472  Z\" fill=\"#ffffff\" fill-rule=\"evenodd\" fill-opacity=\"1\"/>\n",
       "<defs>\n",
       "  <clipPath id=\"clip532\">\n",
       "    <rect x=\"193\" y=\"123\" width=\"2160\" height=\"1364\"/>\n",
       "  </clipPath>\n",
       "</defs>\n",
       "<polyline clip-path=\"url(#clip532)\" style=\"stroke:#000000; stroke-linecap:round; stroke-linejoin:round; stroke-width:2; stroke-opacity:0.1; fill:none\" points=\"526.584,1486.45 526.584,123.472 \"/>\n",
       "<polyline clip-path=\"url(#clip532)\" style=\"stroke:#000000; stroke-linecap:round; stroke-linejoin:round; stroke-width:2; stroke-opacity:0.1; fill:none\" points=\"933.909,1486.45 933.909,123.472 \"/>\n",
       "<polyline clip-path=\"url(#clip532)\" style=\"stroke:#000000; stroke-linecap:round; stroke-linejoin:round; stroke-width:2; stroke-opacity:0.1; fill:none\" points=\"1341.23,1486.45 1341.23,123.472 \"/>\n",
       "<polyline clip-path=\"url(#clip532)\" style=\"stroke:#000000; stroke-linecap:round; stroke-linejoin:round; stroke-width:2; stroke-opacity:0.1; fill:none\" points=\"1748.56,1486.45 1748.56,123.472 \"/>\n",
       "<polyline clip-path=\"url(#clip532)\" style=\"stroke:#000000; stroke-linecap:round; stroke-linejoin:round; stroke-width:2; stroke-opacity:0.1; fill:none\" points=\"2155.88,1486.45 2155.88,123.472 \"/>\n",
       "<polyline clip-path=\"url(#clip530)\" style=\"stroke:#000000; stroke-linecap:round; stroke-linejoin:round; stroke-width:4; stroke-opacity:1; fill:none\" points=\"193.936,1486.45 2352.76,1486.45 \"/>\n",
       "<polyline clip-path=\"url(#clip530)\" style=\"stroke:#000000; stroke-linecap:round; stroke-linejoin:round; stroke-width:4; stroke-opacity:1; fill:none\" points=\"526.584,1486.45 526.584,1467.55 \"/>\n",
       "<polyline clip-path=\"url(#clip530)\" style=\"stroke:#000000; stroke-linecap:round; stroke-linejoin:round; stroke-width:4; stroke-opacity:1; fill:none\" points=\"933.909,1486.45 933.909,1467.55 \"/>\n",
       "<polyline clip-path=\"url(#clip530)\" style=\"stroke:#000000; stroke-linecap:round; stroke-linejoin:round; stroke-width:4; stroke-opacity:1; fill:none\" points=\"1341.23,1486.45 1341.23,1467.55 \"/>\n",
       "<polyline clip-path=\"url(#clip530)\" style=\"stroke:#000000; stroke-linecap:round; stroke-linejoin:round; stroke-width:4; stroke-opacity:1; fill:none\" points=\"1748.56,1486.45 1748.56,1467.55 \"/>\n",
       "<polyline clip-path=\"url(#clip530)\" style=\"stroke:#000000; stroke-linecap:round; stroke-linejoin:round; stroke-width:4; stroke-opacity:1; fill:none\" points=\"2155.88,1486.45 2155.88,1467.55 \"/>\n",
       "<path clip-path=\"url(#clip530)\" d=\"M530.832 1530.21 Q534.188 1530.93 536.063 1533.2 Q537.962 1535.47 537.962 1538.8 Q537.962 1543.92 534.443 1546.72 Q530.925 1549.52 524.443 1549.52 Q522.267 1549.52 519.952 1549.08 Q517.661 1548.66 515.207 1547.81 L515.207 1543.29 Q517.152 1544.43 519.466 1545.01 Q521.781 1545.58 524.304 1545.58 Q528.702 1545.58 530.994 1543.85 Q533.309 1542.11 533.309 1538.8 Q533.309 1535.75 531.156 1534.03 Q529.026 1532.3 525.207 1532.3 L521.179 1532.3 L521.179 1528.45 L525.392 1528.45 Q528.841 1528.45 530.67 1527.09 Q532.499 1525.7 532.499 1523.11 Q532.499 1520.45 530.601 1519.03 Q528.726 1517.6 525.207 1517.6 Q523.286 1517.6 521.087 1518.01 Q518.888 1518.43 516.249 1519.31 L516.249 1515.14 Q518.911 1514.4 521.226 1514.03 Q523.564 1513.66 525.624 1513.66 Q530.948 1513.66 534.05 1516.09 Q537.151 1518.5 537.151 1522.62 Q537.151 1525.49 535.508 1527.48 Q533.864 1529.45 530.832 1530.21 Z\" fill=\"#000000\" fill-rule=\"nonzero\" fill-opacity=\"1\" /><path clip-path=\"url(#clip530)\" d=\"M934.314 1529.7 Q931.166 1529.7 929.314 1531.86 Q927.485 1534.01 927.485 1537.76 Q927.485 1541.49 929.314 1543.66 Q931.166 1545.82 934.314 1545.82 Q937.462 1545.82 939.291 1543.66 Q941.143 1541.49 941.143 1537.76 Q941.143 1534.01 939.291 1531.86 Q937.462 1529.7 934.314 1529.7 M943.596 1515.05 L943.596 1519.31 Q941.837 1518.48 940.032 1518.04 Q938.249 1517.6 936.49 1517.6 Q931.86 1517.6 929.407 1520.72 Q926.976 1523.85 926.629 1530.17 Q927.995 1528.15 930.055 1527.09 Q932.115 1526 934.592 1526 Q939.8 1526 942.809 1529.17 Q945.842 1532.32 945.842 1537.76 Q945.842 1543.08 942.694 1546.3 Q939.545 1549.52 934.314 1549.52 Q928.319 1549.52 925.147 1544.94 Q921.976 1540.33 921.976 1531.6 Q921.976 1523.41 925.865 1518.55 Q929.754 1513.66 936.305 1513.66 Q938.064 1513.66 939.846 1514.01 Q941.652 1514.36 943.596 1515.05 Z\" fill=\"#000000\" fill-rule=\"nonzero\" fill-opacity=\"1\" /><path clip-path=\"url(#clip530)\" d=\"M1331.53 1548.13 L1331.53 1543.87 Q1333.29 1544.7 1335.1 1545.14 Q1336.9 1545.58 1338.64 1545.58 Q1343.27 1545.58 1345.7 1542.48 Q1348.15 1539.36 1348.5 1533.01 Q1347.16 1535.01 1345.1 1536.07 Q1343.04 1537.13 1340.54 1537.13 Q1335.35 1537.13 1332.32 1534.01 Q1329.31 1530.86 1329.31 1525.42 Q1329.31 1520.1 1332.46 1516.88 Q1335.61 1513.66 1340.84 1513.66 Q1346.84 1513.66 1349.98 1518.27 Q1353.15 1522.85 1353.15 1531.6 Q1353.15 1539.77 1349.27 1544.66 Q1345.4 1549.52 1338.85 1549.52 Q1337.09 1549.52 1335.28 1549.17 Q1333.48 1548.82 1331.53 1548.13 M1340.84 1533.48 Q1343.99 1533.48 1345.82 1531.32 Q1347.67 1529.17 1347.67 1525.42 Q1347.67 1521.7 1345.82 1519.54 Q1343.99 1517.37 1340.84 1517.37 Q1337.69 1517.37 1335.84 1519.54 Q1334.01 1521.7 1334.01 1525.42 Q1334.01 1529.17 1335.84 1531.32 Q1337.69 1533.48 1340.84 1533.48 Z\" fill=\"#000000\" fill-rule=\"nonzero\" fill-opacity=\"1\" /><path clip-path=\"url(#clip530)\" d=\"M1724.04 1544.91 L1731.68 1544.91 L1731.68 1518.55 L1723.37 1520.21 L1723.37 1515.95 L1731.64 1514.29 L1736.31 1514.29 L1736.31 1544.91 L1743.95 1544.91 L1743.95 1548.85 L1724.04 1548.85 L1724.04 1544.91 Z\" fill=\"#000000\" fill-rule=\"nonzero\" fill-opacity=\"1\" /><path clip-path=\"url(#clip530)\" d=\"M1757.42 1544.91 L1773.74 1544.91 L1773.74 1548.85 L1751.8 1548.85 L1751.8 1544.91 Q1754.46 1542.16 1759.04 1537.53 Q1763.65 1532.88 1764.83 1531.53 Q1767.08 1529.01 1767.96 1527.27 Q1768.86 1525.51 1768.86 1523.82 Q1768.86 1521.07 1766.91 1519.33 Q1764.99 1517.6 1761.89 1517.6 Q1759.69 1517.6 1757.24 1518.36 Q1754.81 1519.13 1752.03 1520.68 L1752.03 1515.95 Q1754.85 1514.82 1757.31 1514.24 Q1759.76 1513.66 1761.8 1513.66 Q1767.17 1513.66 1770.36 1516.35 Q1773.56 1519.03 1773.56 1523.52 Q1773.56 1525.65 1772.75 1527.57 Q1771.96 1529.47 1769.85 1532.07 Q1769.28 1532.74 1766.17 1535.95 Q1763.07 1539.15 1757.42 1544.91 Z\" fill=\"#000000\" fill-rule=\"nonzero\" fill-opacity=\"1\" /><path clip-path=\"url(#clip530)\" d=\"M2131.07 1544.91 L2138.71 1544.91 L2138.71 1518.55 L2130.4 1520.21 L2130.4 1515.95 L2138.66 1514.29 L2143.34 1514.29 L2143.34 1544.91 L2150.98 1544.91 L2150.98 1548.85 L2131.07 1548.85 L2131.07 1544.91 Z\" fill=\"#000000\" fill-rule=\"nonzero\" fill-opacity=\"1\" /><path clip-path=\"url(#clip530)\" d=\"M2160.47 1514.29 L2178.82 1514.29 L2178.82 1518.22 L2164.75 1518.22 L2164.75 1526.7 Q2165.77 1526.35 2166.79 1526.19 Q2167.8 1526 2168.82 1526 Q2174.61 1526 2177.99 1529.17 Q2181.37 1532.34 2181.37 1537.76 Q2181.37 1543.34 2177.9 1546.44 Q2174.42 1549.52 2168.1 1549.52 Q2165.93 1549.52 2163.66 1549.15 Q2161.41 1548.78 2159.01 1548.04 L2159.01 1543.34 Q2161.09 1544.47 2163.31 1545.03 Q2165.54 1545.58 2168.01 1545.58 Q2172.02 1545.58 2174.35 1543.48 Q2176.69 1541.37 2176.69 1537.76 Q2176.69 1534.15 2174.35 1532.04 Q2172.02 1529.94 2168.01 1529.94 Q2166.14 1529.94 2164.26 1530.35 Q2162.41 1530.77 2160.47 1531.65 L2160.47 1514.29 Z\" fill=\"#000000\" fill-rule=\"nonzero\" fill-opacity=\"1\" /><polyline clip-path=\"url(#clip532)\" style=\"stroke:#000000; stroke-linecap:round; stroke-linejoin:round; stroke-width:2; stroke-opacity:0.1; fill:none\" points=\"193.936,1447.87 2352.76,1447.87 \"/>\n",
       "<polyline clip-path=\"url(#clip532)\" style=\"stroke:#000000; stroke-linecap:round; stroke-linejoin:round; stroke-width:2; stroke-opacity:0.1; fill:none\" points=\"193.936,1175.52 2352.76,1175.52 \"/>\n",
       "<polyline clip-path=\"url(#clip532)\" style=\"stroke:#000000; stroke-linecap:round; stroke-linejoin:round; stroke-width:2; stroke-opacity:0.1; fill:none\" points=\"193.936,903.181 2352.76,903.181 \"/>\n",
       "<polyline clip-path=\"url(#clip532)\" style=\"stroke:#000000; stroke-linecap:round; stroke-linejoin:round; stroke-width:2; stroke-opacity:0.1; fill:none\" points=\"193.936,630.839 2352.76,630.839 \"/>\n",
       "<polyline clip-path=\"url(#clip532)\" style=\"stroke:#000000; stroke-linecap:round; stroke-linejoin:round; stroke-width:2; stroke-opacity:0.1; fill:none\" points=\"193.936,358.497 2352.76,358.497 \"/>\n",
       "<polyline clip-path=\"url(#clip530)\" style=\"stroke:#000000; stroke-linecap:round; stroke-linejoin:round; stroke-width:4; stroke-opacity:1; fill:none\" points=\"193.936,1486.45 193.936,123.472 \"/>\n",
       "<polyline clip-path=\"url(#clip530)\" style=\"stroke:#000000; stroke-linecap:round; stroke-linejoin:round; stroke-width:4; stroke-opacity:1; fill:none\" points=\"193.936,1447.87 212.834,1447.87 \"/>\n",
       "<polyline clip-path=\"url(#clip530)\" style=\"stroke:#000000; stroke-linecap:round; stroke-linejoin:round; stroke-width:4; stroke-opacity:1; fill:none\" points=\"193.936,1175.52 212.834,1175.52 \"/>\n",
       "<polyline clip-path=\"url(#clip530)\" style=\"stroke:#000000; stroke-linecap:round; stroke-linejoin:round; stroke-width:4; stroke-opacity:1; fill:none\" points=\"193.936,903.181 212.834,903.181 \"/>\n",
       "<polyline clip-path=\"url(#clip530)\" style=\"stroke:#000000; stroke-linecap:round; stroke-linejoin:round; stroke-width:4; stroke-opacity:1; fill:none\" points=\"193.936,630.839 212.834,630.839 \"/>\n",
       "<polyline clip-path=\"url(#clip530)\" style=\"stroke:#000000; stroke-linecap:round; stroke-linejoin:round; stroke-width:4; stroke-opacity:1; fill:none\" points=\"193.936,358.497 212.834,358.497 \"/>\n",
       "<path clip-path=\"url(#clip530)\" d=\"M50.9921 1448.32 L80.6679 1448.32 L80.6679 1452.25 L50.9921 1452.25 L50.9921 1448.32 Z\" fill=\"#000000\" fill-rule=\"nonzero\" fill-opacity=\"1\" /><path clip-path=\"url(#clip530)\" d=\"M91.5706 1461.21 L99.2095 1461.21 L99.2095 1434.84 L90.8993 1436.51 L90.8993 1432.25 L99.1632 1430.59 L103.839 1430.59 L103.839 1461.21 L111.478 1461.21 L111.478 1465.15 L91.5706 1465.15 L91.5706 1461.21 Z\" fill=\"#000000\" fill-rule=\"nonzero\" fill-opacity=\"1\" /><path clip-path=\"url(#clip530)\" d=\"M120.922 1459.27 L125.807 1459.27 L125.807 1465.15 L120.922 1465.15 L120.922 1459.27 Z\" fill=\"#000000\" fill-rule=\"nonzero\" fill-opacity=\"1\" /><path clip-path=\"url(#clip530)\" d=\"M145.992 1433.66 Q142.381 1433.66 140.552 1437.23 Q138.746 1440.77 138.746 1447.9 Q138.746 1455.01 140.552 1458.57 Q142.381 1462.11 145.992 1462.11 Q149.626 1462.11 151.431 1458.57 Q153.26 1455.01 153.26 1447.9 Q153.26 1440.77 151.431 1437.23 Q149.626 1433.66 145.992 1433.66 M145.992 1429.96 Q151.802 1429.96 154.857 1434.57 Q157.936 1439.15 157.936 1447.9 Q157.936 1456.63 154.857 1461.23 Q151.802 1465.82 145.992 1465.82 Q140.181 1465.82 137.103 1461.23 Q134.047 1456.63 134.047 1447.9 Q134.047 1439.15 137.103 1434.57 Q140.181 1429.96 145.992 1429.96 Z\" fill=\"#000000\" fill-rule=\"nonzero\" fill-opacity=\"1\" /><path clip-path=\"url(#clip530)\" d=\"M51.9875 1175.97 L81.6633 1175.97 L81.6633 1179.91 L51.9875 1179.91 L51.9875 1175.97 Z\" fill=\"#000000\" fill-rule=\"nonzero\" fill-opacity=\"1\" /><path clip-path=\"url(#clip530)\" d=\"M101.756 1161.32 Q98.1447 1161.32 96.316 1164.89 Q94.5104 1168.43 94.5104 1175.56 Q94.5104 1182.66 96.316 1186.23 Q98.1447 1189.77 101.756 1189.77 Q105.39 1189.77 107.196 1186.23 Q109.024 1182.66 109.024 1175.56 Q109.024 1168.43 107.196 1164.89 Q105.39 1161.32 101.756 1161.32 M101.756 1157.62 Q107.566 1157.62 110.621 1162.22 Q113.7 1166.81 113.7 1175.56 Q113.7 1184.28 110.621 1188.89 Q107.566 1193.47 101.756 1193.47 Q95.9456 1193.47 92.8669 1188.89 Q89.8114 1184.28 89.8114 1175.56 Q89.8114 1166.81 92.8669 1162.22 Q95.9456 1157.62 101.756 1157.62 Z\" fill=\"#000000\" fill-rule=\"nonzero\" fill-opacity=\"1\" /><path clip-path=\"url(#clip530)\" d=\"M121.918 1186.92 L126.802 1186.92 L126.802 1192.8 L121.918 1192.8 L121.918 1186.92 Z\" fill=\"#000000\" fill-rule=\"nonzero\" fill-opacity=\"1\" /><path clip-path=\"url(#clip530)\" d=\"M137.033 1158.24 L155.39 1158.24 L155.39 1162.18 L141.316 1162.18 L141.316 1170.65 Q142.334 1170.3 143.353 1170.14 Q144.371 1169.96 145.39 1169.96 Q151.177 1169.96 154.556 1173.13 Q157.936 1176.3 157.936 1181.72 Q157.936 1187.29 154.464 1190.4 Q150.992 1193.47 144.672 1193.47 Q142.496 1193.47 140.228 1193.1 Q137.982 1192.73 135.575 1191.99 L135.575 1187.29 Q137.658 1188.43 139.881 1188.98 Q142.103 1189.54 144.58 1189.54 Q148.584 1189.54 150.922 1187.43 Q153.26 1185.33 153.26 1181.72 Q153.26 1178.1 150.922 1176 Q148.584 1173.89 144.58 1173.89 Q142.705 1173.89 140.83 1174.31 Q138.978 1174.72 137.033 1175.6 L137.033 1158.24 Z\" fill=\"#000000\" fill-rule=\"nonzero\" fill-opacity=\"1\" /><path clip-path=\"url(#clip530)\" d=\"M100.76 888.98 Q97.1493 888.98 95.3206 892.545 Q93.515 896.086 93.515 903.216 Q93.515 910.322 95.3206 913.887 Q97.1493 917.429 100.76 917.429 Q104.395 917.429 106.2 913.887 Q108.029 910.322 108.029 903.216 Q108.029 896.086 106.2 892.545 Q104.395 888.98 100.76 888.98 M100.76 885.276 Q106.571 885.276 109.626 889.883 Q112.705 894.466 112.705 903.216 Q112.705 911.943 109.626 916.549 Q106.571 921.132 100.76 921.132 Q94.9502 921.132 91.8715 916.549 Q88.816 911.943 88.816 903.216 Q88.816 894.466 91.8715 889.883 Q94.9502 885.276 100.76 885.276 Z\" fill=\"#000000\" fill-rule=\"nonzero\" fill-opacity=\"1\" /><path clip-path=\"url(#clip530)\" d=\"M120.922 914.582 L125.807 914.582 L125.807 920.461 L120.922 920.461 L120.922 914.582 Z\" fill=\"#000000\" fill-rule=\"nonzero\" fill-opacity=\"1\" /><path clip-path=\"url(#clip530)\" d=\"M145.992 888.98 Q142.381 888.98 140.552 892.545 Q138.746 896.086 138.746 903.216 Q138.746 910.322 140.552 913.887 Q142.381 917.429 145.992 917.429 Q149.626 917.429 151.431 913.887 Q153.26 910.322 153.26 903.216 Q153.26 896.086 151.431 892.545 Q149.626 888.98 145.992 888.98 M145.992 885.276 Q151.802 885.276 154.857 889.883 Q157.936 894.466 157.936 903.216 Q157.936 911.943 154.857 916.549 Q151.802 921.132 145.992 921.132 Q140.181 921.132 137.103 916.549 Q134.047 911.943 134.047 903.216 Q134.047 894.466 137.103 889.883 Q140.181 885.276 145.992 885.276 Z\" fill=\"#000000\" fill-rule=\"nonzero\" fill-opacity=\"1\" /><path clip-path=\"url(#clip530)\" d=\"M101.756 616.638 Q98.1447 616.638 96.316 620.202 Q94.5104 623.744 94.5104 630.874 Q94.5104 637.98 96.316 641.545 Q98.1447 645.087 101.756 645.087 Q105.39 645.087 107.196 641.545 Q109.024 637.98 109.024 630.874 Q109.024 623.744 107.196 620.202 Q105.39 616.638 101.756 616.638 M101.756 612.934 Q107.566 612.934 110.621 617.54 Q113.7 622.124 113.7 630.874 Q113.7 639.6 110.621 644.207 Q107.566 648.79 101.756 648.79 Q95.9456 648.79 92.8669 644.207 Q89.8114 639.6 89.8114 630.874 Q89.8114 622.124 92.8669 617.54 Q95.9456 612.934 101.756 612.934 Z\" fill=\"#000000\" fill-rule=\"nonzero\" fill-opacity=\"1\" /><path clip-path=\"url(#clip530)\" d=\"M121.918 642.239 L126.802 642.239 L126.802 648.119 L121.918 648.119 L121.918 642.239 Z\" fill=\"#000000\" fill-rule=\"nonzero\" fill-opacity=\"1\" /><path clip-path=\"url(#clip530)\" d=\"M137.033 613.559 L155.39 613.559 L155.39 617.494 L141.316 617.494 L141.316 625.966 Q142.334 625.619 143.353 625.457 Q144.371 625.272 145.39 625.272 Q151.177 625.272 154.556 628.443 Q157.936 631.614 157.936 637.031 Q157.936 642.61 154.464 645.712 Q150.992 648.79 144.672 648.79 Q142.496 648.79 140.228 648.42 Q137.982 648.049 135.575 647.309 L135.575 642.61 Q137.658 643.744 139.881 644.299 Q142.103 644.855 144.58 644.855 Q148.584 644.855 150.922 642.749 Q153.26 640.642 153.26 637.031 Q153.26 633.42 150.922 631.313 Q148.584 629.207 144.58 629.207 Q142.705 629.207 140.83 629.624 Q138.978 630.04 137.033 630.92 L137.033 613.559 Z\" fill=\"#000000\" fill-rule=\"nonzero\" fill-opacity=\"1\" /><path clip-path=\"url(#clip530)\" d=\"M91.5706 371.842 L99.2095 371.842 L99.2095 345.476 L90.8993 347.143 L90.8993 342.883 L99.1632 341.217 L103.839 341.217 L103.839 371.842 L111.478 371.842 L111.478 375.777 L91.5706 375.777 L91.5706 371.842 Z\" fill=\"#000000\" fill-rule=\"nonzero\" fill-opacity=\"1\" /><path clip-path=\"url(#clip530)\" d=\"M120.922 369.897 L125.807 369.897 L125.807 375.777 L120.922 375.777 L120.922 369.897 Z\" fill=\"#000000\" fill-rule=\"nonzero\" fill-opacity=\"1\" /><path clip-path=\"url(#clip530)\" d=\"M145.992 344.295 Q142.381 344.295 140.552 347.86 Q138.746 351.402 138.746 358.531 Q138.746 365.638 140.552 369.203 Q142.381 372.744 145.992 372.744 Q149.626 372.744 151.431 369.203 Q153.26 365.638 153.26 358.531 Q153.26 351.402 151.431 347.86 Q149.626 344.295 145.992 344.295 M145.992 340.592 Q151.802 340.592 154.857 345.198 Q157.936 349.781 157.936 358.531 Q157.936 367.258 154.857 371.865 Q151.802 376.448 145.992 376.448 Q140.181 376.448 137.103 371.865 Q134.047 367.258 134.047 358.531 Q134.047 349.781 137.103 345.198 Q140.181 340.592 145.992 340.592 Z\" fill=\"#000000\" fill-rule=\"nonzero\" fill-opacity=\"1\" /><path clip-path=\"url(#clip530)\" d=\"M1265.08 14.0809 L1265.08 22.0612 Q1260.42 19.8332 1256.29 18.7395 Q1252.16 17.6457 1248.31 17.6457 Q1241.63 17.6457 1237.98 20.2383 Q1234.38 22.8309 1234.38 27.611 Q1234.38 31.6214 1236.77 33.6873 Q1239.2 35.7128 1245.92 36.9686 L1250.86 37.9813 Q1260.02 39.7232 1264.35 44.1387 Q1268.73 48.5136 1268.73 55.8863 Q1268.73 64.6767 1262.81 69.2137 Q1256.94 73.7508 1245.56 73.7508 Q1241.26 73.7508 1236.4 72.7785 Q1231.58 71.8063 1226.4 69.9024 L1226.4 61.4765 Q1231.38 64.2716 1236.16 65.6895 Q1240.94 67.1073 1245.56 67.1073 Q1252.56 67.1073 1256.37 64.3527 Q1260.18 61.598 1260.18 56.4939 Q1260.18 52.0379 1257.43 49.5264 Q1254.71 47.0148 1248.47 45.759 L1243.49 44.7868 Q1234.34 42.9639 1230.24 39.075 Q1226.15 35.1862 1226.15 28.2591 Q1226.15 20.2383 1231.78 15.6203 Q1237.45 11.0023 1247.38 11.0023 Q1251.63 11.0023 1256.05 11.7719 Q1260.46 12.5416 1265.08 14.0809 Z\" fill=\"#000000\" fill-rule=\"nonzero\" fill-opacity=\"1\" /><path clip-path=\"url(#clip530)\" d=\"M1289.67 18.8205 L1289.67 41.5461 L1299.96 41.5461 Q1305.67 41.5461 1308.79 38.5889 Q1311.91 35.6318 1311.91 30.163 Q1311.91 24.7348 1308.79 21.7777 Q1305.67 18.8205 1299.96 18.8205 L1289.67 18.8205 M1281.49 12.096 L1299.96 12.096 Q1310.13 12.096 1315.31 16.714 Q1320.54 21.2916 1320.54 30.163 Q1320.54 39.1155 1315.31 43.6931 Q1310.13 48.2706 1299.96 48.2706 L1289.67 48.2706 L1289.67 72.576 L1281.49 72.576 L1281.49 12.096 Z\" fill=\"#000000\" fill-rule=\"nonzero\" fill-opacity=\"1\" /><circle clip-path=\"url(#clip532)\" cx=\"255.035\" cy=\"1447.87\" r=\"14.4\" fill=\"#009af9\" fill-rule=\"evenodd\" fill-opacity=\"1\" stroke=\"#000000\" stroke-opacity=\"1\" stroke-width=\"3.2\"/>\n",
       "<circle clip-path=\"url(#clip532)\" cx=\"390.81\" cy=\"1447.87\" r=\"14.4\" fill=\"#009af9\" fill-rule=\"evenodd\" fill-opacity=\"1\" stroke=\"#000000\" stroke-opacity=\"1\" stroke-width=\"3.2\"/>\n",
       "<circle clip-path=\"url(#clip532)\" cx=\"526.584\" cy=\"1447.87\" r=\"14.4\" fill=\"#009af9\" fill-rule=\"evenodd\" fill-opacity=\"1\" stroke=\"#000000\" stroke-opacity=\"1\" stroke-width=\"3.2\"/>\n",
       "<circle clip-path=\"url(#clip532)\" cx=\"662.359\" cy=\"1447.87\" r=\"14.4\" fill=\"#009af9\" fill-rule=\"evenodd\" fill-opacity=\"1\" stroke=\"#000000\" stroke-opacity=\"1\" stroke-width=\"3.2\"/>\n",
       "<circle clip-path=\"url(#clip532)\" cx=\"798.134\" cy=\"1447.87\" r=\"14.4\" fill=\"#009af9\" fill-rule=\"evenodd\" fill-opacity=\"1\" stroke=\"#000000\" stroke-opacity=\"1\" stroke-width=\"3.2\"/>\n",
       "<circle clip-path=\"url(#clip532)\" cx=\"933.909\" cy=\"1447.87\" r=\"14.4\" fill=\"#009af9\" fill-rule=\"evenodd\" fill-opacity=\"1\" stroke=\"#000000\" stroke-opacity=\"1\" stroke-width=\"3.2\"/>\n",
       "<circle clip-path=\"url(#clip532)\" cx=\"1069.68\" cy=\"1447.87\" r=\"14.4\" fill=\"#009af9\" fill-rule=\"evenodd\" fill-opacity=\"1\" stroke=\"#000000\" stroke-opacity=\"1\" stroke-width=\"3.2\"/>\n",
       "<circle clip-path=\"url(#clip532)\" cx=\"1205.46\" cy=\"1447.87\" r=\"14.4\" fill=\"#009af9\" fill-rule=\"evenodd\" fill-opacity=\"1\" stroke=\"#000000\" stroke-opacity=\"1\" stroke-width=\"3.2\"/>\n",
       "<circle clip-path=\"url(#clip532)\" cx=\"1341.23\" cy=\"538.657\" r=\"14.4\" fill=\"#009af9\" fill-rule=\"evenodd\" fill-opacity=\"1\" stroke=\"#000000\" stroke-opacity=\"1\" stroke-width=\"3.2\"/>\n",
       "<circle clip-path=\"url(#clip532)\" cx=\"1477.01\" cy=\"538.657\" r=\"14.4\" fill=\"#009af9\" fill-rule=\"evenodd\" fill-opacity=\"1\" stroke=\"#000000\" stroke-opacity=\"1\" stroke-width=\"3.2\"/>\n",
       "<circle clip-path=\"url(#clip532)\" cx=\"1612.78\" cy=\"366.626\" r=\"14.4\" fill=\"#009af9\" fill-rule=\"evenodd\" fill-opacity=\"1\" stroke=\"#000000\" stroke-opacity=\"1\" stroke-width=\"3.2\"/>\n",
       "<circle clip-path=\"url(#clip532)\" cx=\"1748.56\" cy=\"366.626\" r=\"14.4\" fill=\"#009af9\" fill-rule=\"evenodd\" fill-opacity=\"1\" stroke=\"#000000\" stroke-opacity=\"1\" stroke-width=\"3.2\"/>\n",
       "<circle clip-path=\"url(#clip532)\" cx=\"1884.33\" cy=\"366.626\" r=\"14.4\" fill=\"#009af9\" fill-rule=\"evenodd\" fill-opacity=\"1\" stroke=\"#000000\" stroke-opacity=\"1\" stroke-width=\"3.2\"/>\n",
       "<circle clip-path=\"url(#clip532)\" cx=\"2020.11\" cy=\"366.626\" r=\"14.4\" fill=\"#009af9\" fill-rule=\"evenodd\" fill-opacity=\"1\" stroke=\"#000000\" stroke-opacity=\"1\" stroke-width=\"3.2\"/>\n",
       "<circle clip-path=\"url(#clip532)\" cx=\"2155.88\" cy=\"162.047\" r=\"14.4\" fill=\"#009af9\" fill-rule=\"evenodd\" fill-opacity=\"1\" stroke=\"#000000\" stroke-opacity=\"1\" stroke-width=\"3.2\"/>\n",
       "<circle clip-path=\"url(#clip532)\" cx=\"2291.66\" cy=\"162.047\" r=\"14.4\" fill=\"#009af9\" fill-rule=\"evenodd\" fill-opacity=\"1\" stroke=\"#000000\" stroke-opacity=\"1\" stroke-width=\"3.2\"/>\n",
       "</svg>\n"
      ]
     },
     "execution_count": 259,
     "metadata": {},
     "output_type": "execute_result"
    }
   ],
   "source": [
    "scatter(EEA,legend=false, title=\"SP\")"
   ]
  },
  {
   "cell_type": "code",
   "execution_count": null,
   "id": "28f0e703-6f34-45e5-a3ed-e9f806b453ad",
   "metadata": {},
   "outputs": [],
   "source": [
    "# Calc. flux per plaq.\n",
    "\n",
    "# Nx = 4\n",
    "# Ny = 4\n",
    "# p = 1\n",
    "# q = 2\n",
    "\n",
    "# Nx = 7\n",
    "# Ny = 7\n",
    "# p = 1\n",
    "# q = 7\n",
    "\n",
    "# Fuc: her bir plak. geçen akı hes."
   ]
  },
  {
   "cell_type": "code",
   "execution_count": 253,
   "id": "d7400d5c-3058-47bb-8fcd-6231392c5bb5",
   "metadata": {},
   "outputs": [
    {
     "data": {
      "text/plain": [
       "3-element Vector{Float64}:\n",
       " -1.0007475730338358\n",
       " -0.9993821861724927\n",
       " -0.9881049616390739"
      ]
     },
     "execution_count": 253,
     "metadata": {},
     "output_type": "execute_result"
    }
   ],
   "source": [
    "EEA[1:3]"
   ]
  },
  {
   "cell_type": "code",
   "execution_count": 107,
   "id": "e613f7e5-1e50-49c3-b7ce-fe7e4c910068",
   "metadata": {},
   "outputs": [],
   "source": [
    "Sub_Number_Operator_List = get_num_sub_list(N_Site, Sp_Basis, P, Pt);"
   ]
  },
  {
   "cell_type": "code",
   "execution_count": 108,
   "id": "94561cae-fa6f-458a-918c-578da41bd8b9",
   "metadata": {},
   "outputs": [
    {
     "data": {
      "text/plain": [
       "get_MB_Sub (generic function with 1 method)"
      ]
     },
     "execution_count": 108,
     "metadata": {},
     "output_type": "execute_result"
    }
   ],
   "source": [
    "function get_MB_Sub(Sub_Basis, PN, H_Sp_Sub)\n",
    "    MB_States = bosonstates(Sub_Basis, PN) \n",
    "    MB_Basis = ManyBodyBasis(Sub_Basis, MB_States)\n",
    "    H_MB_Sub = get_mb_op(MB_Basis, H_Sp_Sub)\n",
    "    return H_MB_Sub\n",
    "end"
   ]
  },
  {
   "cell_type": "code",
   "execution_count": 109,
   "id": "b3948c1e-1eb8-4f34-b685-a7d4bf3c8f97",
   "metadata": {},
   "outputs": [],
   "source": [
    "H_MB_Sub = get_MB_Sub(Sub_Basis, PN, H_Sp_Sub);"
   ]
  },
  {
   "cell_type": "code",
   "execution_count": 110,
   "id": "8f369833-d4d3-4f6d-a222-de87bdfa3637",
   "metadata": {},
   "outputs": [
    {
     "data": {
      "text/plain": [
       "get_Bosonic_MB_Basis (generic function with 1 method)"
      ]
     },
     "execution_count": 110,
     "metadata": {},
     "output_type": "execute_result"
    }
   ],
   "source": [
    "function get_Bosonic_MB_Basis(N_Site, PN)\n",
    "    N_Basis = NLevelBasis(N_Site)\n",
    "    N_States = bosonstates(N_Basis, PN)\n",
    "    N_Basis_MB = ManyBodyBasis(N_Basis, N_States)\n",
    "    return N_Basis_MB, N_Basis\n",
    "end"
   ]
  },
  {
   "cell_type": "code",
   "execution_count": 111,
   "id": "e62d54f5-3b88-4f87-bf28-14cd303b3406",
   "metadata": {},
   "outputs": [
    {
     "data": {
      "text/plain": [
       "(ManyBody(onebodybasis=NLevel(N=20), states:1771), NLevel(N=20))"
      ]
     },
     "execution_count": 111,
     "metadata": {},
     "output_type": "execute_result"
    }
   ],
   "source": [
    "Basis_Cut_MB, Basis_Cut_Sp = get_Bosonic_MB_Basis(Cut_Off, PN)"
   ]
  },
  {
   "cell_type": "code",
   "execution_count": 112,
   "id": "d11ca27f-02c0-439a-b598-ebcea5f201d5",
   "metadata": {},
   "outputs": [],
   "source": [
    "H_Kin = SparseOperator(Basis_Cut_MB)\n",
    "H_Kin.data = H_MB_Sub.data;"
   ]
  },
  {
   "cell_type": "code",
   "execution_count": 113,
   "id": "9c521f42-5971-41f6-bc94-0dd56566abd1",
   "metadata": {},
   "outputs": [
    {
     "name": "stderr",
     "output_type": "stream",
     "text": [
      "0.0%┣                                               ┫ 0/20 [00:00<00:00, -0s/it]\n",
      "5.0%┣██▏                                        ┫ 1/20 [00:01<Inf:Inf, InfGs/it]\n",
      "10.0%┣████▊                                          ┫ 2/20 [00:04<01:17, 4s/it]\n",
      "15.0%┣███████                                        ┫ 3/20 [00:09<01:15, 4s/it]\n",
      "20.0%┣█████████▍                                     ┫ 4/20 [00:15<01:18, 5s/it]\n",
      "25.0%┣███████████▊                                   ┫ 5/20 [00:22<01:23, 6s/it]\n",
      "30.0%┣██████████████                                 ┫ 6/20 [00:32<01:30, 6s/it]\n",
      "35.0%┣████████████████▌                              ┫ 7/20 [00:43<01:33, 7s/it]\n",
      "40.0%┣██████████████████▉                            ┫ 8/20 [00:56<01:35, 8s/it]\n",
      "45.0%┣█████████████████████▏                         ┫ 9/20 [01:09<01:34, 9s/it]\n",
      "50.0%┣███████████████████████                       ┫ 10/20 [01:22<01:32, 9s/it]\n",
      "55.0%┣████████████████████████▊                    ┫ 11/20 [01:39<01:29, 10s/it]\n",
      "60.0%┣███████████████████████████                  ┫ 12/20 [01:56<01:25, 11s/it]\n",
      "65.0%┣█████████████████████████████▎               ┫ 13/20 [02:14<01:18, 11s/it]\n",
      "70.0%┣███████████████████████████████▌             ┫ 14/20 [02:32<01:10, 12s/it]\n",
      "75.0%┣█████████████████████████████████▊           ┫ 15/20 [02:49<01:00, 12s/it]\n",
      "80.0%┣████████████████████████████████████         ┫ 16/20 [03:08<00:50, 13s/it]\n",
      "85.0%┣██████████████████████████████████████▎      ┫ 17/20 [03:26<00:39, 13s/it]\n",
      "90.0%┣████████████████████████████████████████▌    ┫ 18/20 [03:45<00:26, 13s/it]\n",
      "95.0%┣██████████████████████████████████████████▊  ┫ 19/20 [04:04<00:14, 14s/it]\n",
      "100.0%┣████████████████████████████████████████████┫ 20/20 [04:23<00:00, 14s/it]\n",
      "100.0%┣████████████████████████████████████████████┫ 20/20 [04:23<00:00, 14s/it]\n"
     ]
    }
   ],
   "source": [
    "H_Int = Hubbard_Interaction_op(P, Pt, Basis_Cut_MB, Cut_Off, U);"
   ]
  },
  {
   "cell_type": "markdown",
   "id": "4e0cd253-926d-4b94-a800-238b6911f562",
   "metadata": {},
   "source": [
    "# Symmetry in Operator for Numerical Optimization (x)"
   ]
  },
  {
   "cell_type": "markdown",
   "id": "5ffc6e15-b10f-4fdc-bf97-8f0908c6fbbc",
   "metadata": {},
   "source": [
    "$\n",
    "k \\leftrightarrow l,m \\leftrightarrow n\n",
    "$"
   ]
  },
  {
   "cell_type": "code",
   "execution_count": 105,
   "id": "65b6be19-3c96-40f3-8c3c-cbb6c14235d2",
   "metadata": {
    "scrolled": true
   },
   "outputs": [
    {
     "data": {
      "text/plain": [
       "9×9×9×9 Array{ComplexF64, 4}:\n",
       "[:, :, 1, 1] =\n",
       "    0.0552622+1.05506e-18im  …  -0.000184545-6.10311e-17im\n",
       "  2.01365e-16-2.76421e-17im      5.21817e-16-6.92932e-17im\n",
       "  1.52172e-15-1.64196e-16im      1.65741e-17-1.75942e-18im\n",
       "  6.01798e-16+1.47769e-16im     -1.52226e-18+6.05205e-19im\n",
       "   0.00243204+7.13176e-16im       6.46573e-5+3.61899e-17im\n",
       " -6.92559e-15+9.97215e-16im  …   2.38506e-16-3.33297e-17im\n",
       "  2.51481e-16-2.44124e-17im      4.49573e-18-8.44068e-19im\n",
       "  1.75793e-16+2.14222e-17im      1.34604e-18+4.78574e-19im\n",
       " -0.000184545-6.10311e-17im      0.000160611+9.0804e-17im\n",
       "\n",
       "[:, :, 2, 1] =\n",
       "  2.00127e-16+2.77571e-17im  …     1.433e-16+1.13059e-17im\n",
       "    0.0275479-4.59069e-20im     -0.000294421-8.86893e-17im\n",
       " -2.55122e-14+3.49714e-15im      4.77055e-16-6.29712e-17im\n",
       "  8.34863e-16-8.4642e-17im       -1.7022e-17+2.65608e-18im\n",
       "  2.49086e-15+3.37166e-16im      8.00999e-17+1.19775e-17im\n",
       "   0.00272476+3.02935e-16im  …   -9.32496e-5-3.7319e-17im\n",
       "   3.9788e-15-5.78346e-16im     -4.34702e-16+5.9776e-17im\n",
       "  1.85144e-16-2.12578e-17im     -1.54054e-18+1.25361e-19im\n",
       "    1.433e-16+1.13059e-17im      2.00937e-16+2.96394e-17im\n",
       "\n",
       "[:, :, 3, 1] =\n",
       "   1.5222e-15+1.63487e-16im  …   1.88999e-16-1.75716e-17im\n",
       " -2.55117e-14-3.49586e-15im      1.67947e-17-8.05359e-18im\n",
       "    0.0139655-7.68906e-21im     -0.000234567-6.98381e-17im\n",
       "  1.57355e-14-2.21904e-15im     -4.07369e-16+5.32246e-17im\n",
       "  6.66453e-16-3.09873e-17im      1.05911e-18+9.52912e-19im\n",
       "  -1.7758e-15-2.37448e-16im  …   1.90927e-18-4.55704e-19im\n",
       "  -0.00228736+1.60049e-17im      -5.33932e-5-1.31892e-17im\n",
       "  4.06135e-15-5.65529e-16im     -5.80514e-17+7.35902e-18im\n",
       "  1.88999e-16-1.75716e-17im      3.70274e-17-2.15993e-18im\n",
       "\n",
       "[:, :, 4, 1] =\n",
       "  6.01884e-16-1.47342e-16im  …  -3.49674e-15+4.78922e-16im\n",
       "   8.3465e-16+8.38493e-17im     -2.24007e-16+2.20865e-17im\n",
       "  1.57356e-14+2.21858e-15im     -1.69773e-17+5.57676e-18im\n",
       "   0.00730834+8.08933e-20im     -0.000317437-9.07778e-17im\n",
       " -9.66098e-15+1.34922e-15im      4.44144e-16-5.86223e-17im\n",
       " -3.29491e-16+4.16265e-17im  …   1.16827e-18-1.12528e-18im\n",
       " -1.80776e-15-2.64128e-16im     -5.02333e-18+3.40507e-19im\n",
       "   0.00188989-1.53165e-18im     -0.000209982-6.06086e-17im\n",
       " -3.49674e-15+4.78922e-16im      8.73418e-16-1.19616e-16im\n",
       "\n",
       "[:, :, 5, 1] =\n",
       "   0.00243204-7.1302e-16im   …    0.00141859-2.02743e-18im\n",
       "  2.49092e-15-3.36956e-16im     -1.88693e-15+2.53931e-16im\n",
       "  6.66341e-16+3.10519e-17im     -1.01115e-16+1.07556e-17im\n",
       " -9.66124e-15-1.34903e-15im      5.84114e-18-1.58819e-18im\n",
       "   0.00409244+8.28504e-21im      0.000134392+3.91126e-17im\n",
       " -6.06214e-15+8.51493e-16im  …  -1.02522e-15+1.46948e-16im\n",
       "  2.39671e-16-2.9895e-17im       9.64474e-17-9.28179e-18im\n",
       " -1.93857e-15-2.81669e-16im      9.32414e-18-1.64324e-18im\n",
       "   0.00141859-2.02743e-18im     -0.000126381-3.957e-17im\n",
       "\n",
       "[:, :, 6, 1] =\n",
       " -6.92548e-15-9.96754e-16im  …  -1.57339e-15-2.25831e-16im\n",
       "   0.00272476-3.02923e-16im       0.00124911+2.09356e-16im\n",
       " -1.77587e-15+2.37431e-16im     -2.31046e-15+3.07184e-16im\n",
       " -3.29484e-16-4.14603e-17im      7.54845e-17-9.1632e-18im\n",
       " -6.06218e-15-8.51477e-16im      1.33111e-18-3.84553e-19im\n",
       "    0.0025724+2.28434e-20im  …   -4.24391e-5-8.97686e-18im\n",
       "  4.50768e-15-6.32037e-16im      2.63955e-16-4.24736e-17im\n",
       "  1.28484e-16-2.23634e-17im      2.80542e-17-2.39202e-18im\n",
       " -1.57339e-15-2.25831e-16im     -1.17992e-18-3.48978e-19im\n",
       "\n",
       "[:, :, 7, 1] =\n",
       "  2.51424e-16+2.4281e-17im   …  -7.43935e-17+2.21147e-17im\n",
       "   3.9784e-15+5.78413e-16im     -8.12953e-17+6.73794e-18im\n",
       "  -0.00228736-1.58054e-17im      -0.00132038-3.77153e-16im\n",
       " -1.80782e-15+2.6406e-16im      -2.57742e-15+3.54117e-16im\n",
       "  2.39684e-16+2.9998e-17im      -1.17669e-16+1.28207e-17im\n",
       "  4.50761e-15+6.32061e-16im  …  -1.41755e-17+1.43064e-18im\n",
       "   0.00206168-2.28964e-20im      0.000202244+5.83589e-17im\n",
       " -2.98225e-15+4.18812e-16im     -1.13297e-15+1.59818e-16im\n",
       " -7.43935e-17+2.21147e-17im     -7.80626e-17+7.75882e-18im\n",
       "\n",
       "[:, :, 8, 1] =\n",
       "  1.75938e-16-2.13484e-17im  …  -2.40724e-15+3.36329e-16im\n",
       "  1.85184e-16+2.12221e-17im     -2.42496e-16+2.40545e-17im\n",
       "  4.06136e-15+5.65414e-16im     -3.69944e-17+6.08847e-18im\n",
       "   0.00188989+1.57575e-18im       5.49936e-5+1.10775e-17im\n",
       "  -1.9386e-15+2.8168e-16im       1.05411e-15-1.52451e-16im\n",
       "  1.28455e-16+2.23935e-17im  …   1.15775e-16-1.14841e-17im\n",
       " -2.98221e-15-4.18775e-16im     -1.61419e-17+2.26158e-18im\n",
       "   0.00125263-4.02341e-21im      0.000598207+1.74811e-16im\n",
       " -2.40724e-15+3.36329e-16im     -1.79546e-15+2.54605e-16im\n",
       "\n",
       "[:, :, 9, 1] =\n",
       " -0.000184545+6.10724e-17im  …    0.00114283+1.09254e-20im\n",
       "    1.433e-16-1.13515e-17im     -2.99116e-15+4.11144e-16im\n",
       "  1.88978e-16+1.75701e-17im     -2.96362e-16+2.956e-17im\n",
       " -3.49691e-15-4.78947e-16im      4.56911e-17-7.16251e-18im\n",
       "   0.00141859+2.10604e-18im       3.37839e-5+3.55076e-18im\n",
       " -1.57334e-15+2.25838e-16im  …   5.43313e-16-8.35395e-17im\n",
       " -7.44026e-17-2.22393e-17im     -3.72169e-17+3.32291e-18im\n",
       " -2.40736e-15-3.36313e-16im      -1.3644e-17+1.32137e-18im\n",
       "   0.00114283+1.09254e-20im      0.000423552+1.23575e-16im\n",
       "\n",
       "[:, :, 1, 2] =\n",
       "  2.01908e-16+2.721e-17im    …    1.4332e-16+1.12025e-17im\n",
       "    0.0275479-3.56167e-19im     -0.000294421-8.8655e-17im\n",
       " -2.55126e-14+3.49658e-15im      4.77072e-16-6.29572e-17im\n",
       "  8.35074e-16-8.45692e-17im     -1.70614e-17+2.54025e-18im\n",
       "  2.49108e-15+3.37271e-16im      8.01421e-17+1.20499e-17im\n",
       "   0.00272476+3.0284e-16im   …   -9.32496e-5-3.73194e-17im\n",
       "  3.97854e-15-5.78391e-16im     -4.34714e-16+5.98149e-17im\n",
       "  1.85124e-16-2.11578e-17im     -1.52339e-18+1.93124e-19im\n",
       "   1.4332e-16+1.12025e-17im      2.00945e-16+2.96682e-17im\n",
       "\n",
       "[:, :, 2, 2] =\n",
       " -2.22536e-15-2.14971e-16im  …  -4.37681e-18+1.11065e-17im\n",
       "  3.58914e-14+4.91513e-15im     -7.78048e-16-1.09103e-16im\n",
       "    0.0195946-9.23936e-16im     -0.000367625-9.08578e-17im\n",
       " -9.23186e-16-5.89321e-17im      2.07577e-17+1.42302e-19im\n",
       " -5.28034e-17+3.10895e-17im      3.49825e-18+3.50672e-19im\n",
       "  4.55732e-15+6.50566e-16im  …  -2.40297e-16-3.50384e-17im\n",
       "  -0.00319663+1.69822e-16im      0.000336926+7.66938e-17im\n",
       " -2.48959e-16-4.27106e-18im     -3.14207e-18-5.99699e-19im\n",
       " -4.37681e-18+1.11065e-17im      4.84873e-18+1.999e-19im\n",
       "\n",
       "[:, :, 3, 2] =\n",
       " -9.32241e-17-1.20688e-17im  …  -4.30983e-17+9.41414e-18im\n",
       "  4.32977e-16+5.69569e-17im     -2.97221e-17+4.15385e-18im\n",
       " -9.54275e-15-1.19559e-15im     -2.92909e-16-4.58109e-17im\n",
       "   -0.0123431+2.13516e-15im      0.000317806+3.78835e-17im\n",
       " -3.45243e-16+1.03443e-17im      6.33951e-18-1.69576e-18im\n",
       "  1.03884e-16+1.70693e-17im  …  -4.24014e-18+4.09964e-19im\n",
       "   3.6742e-16+2.7101e-17im      -7.88454e-17-7.35902e-18im\n",
       "  -0.00319119+5.5229e-16im        4.36139e-5+4.8247e-18im\n",
       " -4.30983e-17+9.41414e-18im      -2.3433e-17-3.01205e-18im\n",
       "\n",
       "[:, :, 4, 2] =\n",
       "  -0.00064056+2.96116e-16im  …    0.00270583-4.58557e-16im\n",
       " -9.38124e-16+9.99331e-17im      3.52348e-15-4.86693e-16im\n",
       "  1.03877e-15+1.26235e-16im      1.63226e-16-2.23981e-17im\n",
       " -9.23397e-15-1.3221e-15im      -4.22616e-16-5.38256e-17im\n",
       "   0.00757074-1.28133e-15im     -0.000347644-3.94548e-17im\n",
       "  2.45584e-16-2.73226e-18im  …  -1.11863e-17+1.27224e-18im\n",
       " -8.58106e-17-1.03875e-18im       5.5523e-18+1.24344e-18im\n",
       " -1.35188e-15-2.05173e-16im     -2.88159e-16-3.8435e-17im\n",
       "   0.00270583-4.58557e-16im     -0.000676933-7.61923e-17im\n",
       "\n",
       "[:, :, 5, 2] =\n",
       "  1.78576e-15+2.54345e-16im  …  -1.84457e-15-2.58786e-16im\n",
       "   0.00051531-1.55014e-16im       0.00286437-5.78524e-19im\n",
       "  3.80359e-17+1.26304e-17im     -4.25602e-17-4.6807e-18im\n",
       " -7.27625e-16-6.98983e-17im       2.4348e-18+8.80914e-19im\n",
       " -7.23417e-15-1.01613e-15im      1.76411e-16+2.49536e-17im\n",
       "   0.00476343-8.13754e-16im  …   0.000797822+8.79728e-17im\n",
       " -1.86278e-16-6.00065e-18im     -3.40791e-17-8.40257e-19im\n",
       " -1.06048e-16-5.38544e-18im     -1.01661e-17+2.41235e-18im\n",
       " -1.84457e-15-2.58786e-16im      -1.6884e-16-2.53636e-17im\n",
       "\n",
       "[:, :, 6, 2] =\n",
       " -1.54293e-16-1.43702e-17im  …  -1.12509e-16-6.00208e-18im\n",
       "  1.13232e-15+1.42053e-16im       1.6585e-15+2.22709e-16im\n",
       "   0.00134687-2.09864e-16im       0.00175638+2.16959e-16im\n",
       "   -7.456e-17-5.7198e-18im      -3.30654e-17-7.7927e-20im\n",
       " -5.38563e-16-5.75708e-17im      2.69378e-18+2.03288e-18im\n",
       " -5.46232e-15-7.66643e-16im  …  -4.47617e-17-3.23228e-18im\n",
       "  -0.00354165+5.89377e-16im     -0.000204265-2.17315e-17im\n",
       " -1.21223e-16-2.51145e-19im     -2.24972e-18+2.57498e-19im\n",
       " -1.12509e-16-6.00208e-18im     -1.95876e-18+1.58565e-18im\n",
       "\n",
       "[:, :, 7, 2] =\n",
       "  9.61834e-18+3.82231e-18im  …   5.11455e-17-1.16044e-19im\n",
       "  1.31571e-16+9.56454e-18im      1.81513e-17-1.13113e-17im\n",
       "  2.26951e-16+3.12136e-17im     -1.67424e-15-2.39851e-16im\n",
       "    0.0014373-2.36201e-16im       0.00200579+2.3415e-16im\n",
       "  7.09151e-17+5.54388e-18im      6.32314e-17-5.00427e-18im\n",
       "  4.40662e-16+4.46396e-17im  …   8.70835e-18-3.02221e-18im\n",
       " -4.74939e-15-6.66439e-16im      2.59798e-16+4.03154e-17im\n",
       "   0.00234483-3.91205e-16im       0.00088098+1.01624e-16im\n",
       "  5.11455e-17-1.16044e-19im     -1.26631e-18-2.91379e-18im\n",
       "\n",
       "[:, :, 8, 2] =\n",
       " -0.000134016+6.09686e-17im  …    0.00188582-3.1976e-16im\n",
       " -1.70607e-16+2.52067e-17im      2.56477e-15-3.35478e-16im\n",
       "   2.0226e-16+2.55427e-17im      1.46327e-16-2.07828e-17im\n",
       " -1.40421e-15-1.95161e-16im      4.51452e-17+1.11724e-17im\n",
       "    0.0015594-2.60758e-16im     -0.000820145-9.11001e-17im\n",
       "    9.311e-17+5.17325e-18im  …  -4.75499e-17-3.62191e-18im\n",
       " -3.05937e-16-3.00072e-17im      1.28749e-17+8.47033e-20im\n",
       " -2.81438e-15-4.0364e-16im       8.11136e-16+1.10412e-16im\n",
       "   0.00188582-3.1976e-16im        0.00139558+1.56545e-16im\n",
       "\n",
       "[:, :, 9, 2] =\n",
       "  5.21927e-16+6.93708e-17im  …  -2.99098e-15-4.11033e-16im\n",
       " -0.000294421+8.88692e-17im       0.00345425+9.11884e-21im\n",
       "  1.67813e-17+8.00806e-18im      1.25234e-18-3.7388e-18im\n",
       "  -2.2403e-16-2.19311e-17im     -2.78462e-17+7.10491e-18im\n",
       " -1.88674e-15-2.54048e-16im      6.00826e-17+4.79759e-18im\n",
       "   0.00124911-2.09387e-16im  …  -0.000424591-4.56347e-17im\n",
       " -8.14016e-17-6.7436e-18im       1.01652e-17+4.67901e-18im\n",
       " -2.42447e-16-2.40515e-17im      9.68328e-18+8.94467e-19im\n",
       " -2.99098e-15-4.11033e-16im      5.11791e-16+8.06782e-17im\n",
       "\n",
       "[:, :, 1, 3] =\n",
       "  1.52279e-15+1.65226e-16im  …   1.89034e-16-1.7587e-17im\n",
       " -2.55118e-14-3.49562e-15im       1.6838e-17-8.03337e-18im\n",
       "    0.0139655-7.51668e-20im     -0.000234567-6.97982e-17im\n",
       "  1.57352e-14-2.21949e-15im     -4.07376e-16+5.315e-17im\n",
       "  6.66406e-16-3.08335e-17im      1.02909e-18+1.03592e-18im\n",
       " -1.77593e-15-2.37464e-16im  …   1.94611e-18-5.42948e-19im\n",
       "  -0.00228736+1.58834e-17im      -5.33932e-5-1.3157e-17im\n",
       "  4.06141e-15-5.65523e-16im     -5.80434e-17+7.38274e-18im\n",
       "  1.89034e-16-1.7587e-17im       3.70376e-17-2.14638e-18im\n",
       "\n",
       "[:, :, 2, 3] =\n",
       " -9.33968e-17-1.18601e-17im  …  -4.28939e-17+9.30953e-18im\n",
       "  4.33204e-16+5.61045e-17im     -2.99254e-17+4.1403e-18im\n",
       " -9.54226e-15-1.19498e-15im     -2.93042e-16-4.60129e-17im\n",
       "   -0.0123431+2.1351e-15im       0.000317806+3.79039e-17im\n",
       " -3.45155e-16+1.00445e-17im      6.25989e-18-1.86008e-18im\n",
       "  1.03957e-16+1.70627e-17im  …  -4.26555e-18+3.32037e-19im\n",
       "  3.67278e-16+2.71848e-17im     -7.87496e-17-7.42848e-18im\n",
       "  -0.00319119+5.52284e-16im       4.36139e-5+4.81792e-18im\n",
       " -4.28939e-17+9.30953e-18im     -2.36761e-17-2.86297e-18im\n",
       "\n",
       "[:, :, 3, 3] =\n",
       "  0.000730562-4.331e-16im    …   -0.00326841+9.65331e-16im\n",
       "  8.59311e-16-1.39641e-16im     -4.07532e-15+6.07357e-16im\n",
       "  4.10711e-16+3.36747e-17im     -1.97815e-16+1.49891e-17im\n",
       "  2.32106e-14+3.10328e-15im     -7.34843e-18+2.85789e-18im\n",
       "  -0.00912682+2.69286e-15im       5.58597e-5-2.91379e-19im\n",
       " -2.53427e-17+3.31588e-17im  …   1.40326e-17-4.04543e-18im\n",
       " -2.03328e-16-1.64708e-17im     -8.12262e-18-1.50433e-18im\n",
       "  4.79254e-15+6.46167e-16im     -1.77225e-17+2.56143e-18im\n",
       "  -0.00326841+9.65331e-16im     -0.000532793+8.48388e-18im\n",
       "\n",
       "[:, :, 4, 3] =\n",
       "  2.75095e-15+3.86468e-16im  …    -5.108e-15-7.08553e-16im\n",
       "  -0.00107163+4.41226e-16im       0.00392227-4.8001e-16im\n",
       "  5.18186e-17+7.45206e-18im     -2.16655e-16-1.66628e-17im\n",
       "   -6.703e-16-7.11486e-17im      7.15828e-18-7.20486e-18im\n",
       " -1.71214e-14-2.37349e-15im      2.22676e-17-3.40168e-18im\n",
       "   0.00632249-1.84977e-15im  …   -5.74137e-5-2.37169e-19im\n",
       " -1.63972e-18+1.30232e-17im      1.50984e-17-2.8833e-18im\n",
       " -3.74775e-17-7.39968e-18im     -7.68089e-18-1.66018e-18im\n",
       "   -5.108e-15-7.08553e-16im      2.34526e-17-4.23516e-18im\n",
       "\n",
       "[:, :, 5, 3] =\n",
       "  1.85141e-16+1.82075e-17im  …  -9.59613e-17-8.08789e-18im\n",
       "  8.38098e-16+1.27914e-16im      1.81943e-18-3.10692e-18im\n",
       " -0.000438643+1.24713e-16im       0.00317753-9.86793e-19im\n",
       " -9.05777e-17-1.53615e-17im      2.59641e-17+1.15874e-18im\n",
       " -5.64494e-16-5.47696e-17im      8.42967e-18+6.57298e-19im\n",
       " -1.25502e-14-1.72969e-15im  …  -1.50331e-17+2.57498e-19im\n",
       "  -0.00480254+1.39323e-15im      -0.00169416+1.36677e-17im\n",
       " -9.60578e-18+5.52393e-18im      4.39881e-17+4.8247e-18im\n",
       " -9.59613e-17-8.08789e-18im      1.86347e-20-9.21572e-19im\n",
       "\n",
       "[:, :, 6, 3] =\n",
       " -2.75556e-18-1.35163e-18im  …   6.57125e-17+9.58333e-18im\n",
       "  1.36951e-16+1.452e-17im        8.10492e-17+8.6228e-18im\n",
       " -4.20442e-16-5.18449e-17im     -7.42486e-17+2.47334e-19im\n",
       " -0.000188032+4.74626e-17im      -0.00117143+2.64952e-18im\n",
       " -8.11696e-17-7.00263e-18im     -1.87465e-17+2.58853e-18im\n",
       " -4.96212e-16-5.21185e-17im  …  -1.22989e-18-1.73472e-18im\n",
       "  1.00539e-14+1.38765e-15im      -6.8076e-18-2.33103e-18im\n",
       "  -0.00294215+8.42181e-16im     -0.000479853+2.48011e-18im\n",
       "  6.57125e-17+9.58333e-18im      2.93378e-17+1.01644e-18im\n",
       "\n",
       "[:, :, 7, 3] =\n",
       "  -4.08422e-5+2.39751e-17im  …    0.00266723-7.7063e-16im\n",
       " -4.94705e-17+7.82388e-18im      3.26009e-15-4.95435e-16im\n",
       " -5.87996e-17-6.51728e-18im      6.90044e-17-2.28394e-17im\n",
       " -1.27008e-15-1.67618e-16im     -1.07507e-16-2.40219e-18im\n",
       "  0.000588646-1.64339e-16im       0.00206238-1.10521e-17im\n",
       "  6.41838e-17+8.57176e-18im  …   2.96377e-18-9.81203e-18im\n",
       " -4.57616e-16-4.53766e-17im      1.41124e-17+3.18484e-19im\n",
       " -6.73672e-15-9.42491e-16im      7.12185e-18-3.00866e-18im\n",
       "   0.00266723-7.7063e-16im        0.00132886-1.13299e-17im\n",
       "\n",
       "[:, :, 8, 3] =\n",
       "  4.69807e-16+6.41575e-17im  …  -5.65659e-15-7.83408e-16im\n",
       " -0.000182096+7.38703e-17im       0.00438802-5.3759e-16im\n",
       "  1.71932e-17+2.64931e-18im     -1.69544e-16-2.05422e-17im\n",
       " -4.42654e-17-6.2763e-18im       2.38965e-17-8.21961e-18im\n",
       " -2.36172e-15-3.17778e-16im      1.67713e-17-6.83047e-18im\n",
       "  0.000752737-2.15767e-16im  …    -0.0021083+2.1579e-17im\n",
       " -7.53876e-17-5.97052e-18im     -4.75931e-17-7.708e-18im\n",
       "   -2.836e-16-2.93717e-17im      2.45301e-17+5.8818e-18im\n",
       " -5.65659e-15-7.83408e-16im     -2.74845e-17+1.87025e-18im\n",
       "\n",
       "[:, :, 9, 3] =\n",
       "  1.65712e-17+1.75897e-18im  …  -2.96362e-16-2.95604e-17im\n",
       "  4.77096e-16+6.28635e-17im      1.39782e-18+4.06915e-18im\n",
       " -0.000234567+6.98692e-17im       0.00643489+6.8838e-21im\n",
       " -1.69498e-17-5.67099e-18im      1.76881e-16+1.33154e-17im\n",
       " -1.01138e-16-1.07216e-17im      9.40207e-19-2.10064e-18im\n",
       " -2.31061e-15-3.06985e-16im  …   6.25856e-17-6.20706e-18im\n",
       "  -0.00132038+3.77158e-16im      0.000725838-5.16351e-18im\n",
       " -3.70251e-17-6.16471e-18im     -2.79182e-17-2.00577e-18im\n",
       " -2.96362e-16-2.95604e-17im      1.93835e-17+1.13841e-18im\n",
       "\n",
       "[:, :, 1, 4] =\n",
       "  6.02182e-16-1.47233e-16im  …  -3.49678e-15+4.78901e-16im\n",
       "  8.34945e-16+8.42209e-17im     -2.23918e-16+2.18154e-17im\n",
       "  1.57349e-14+2.21852e-15im     -1.69774e-17+5.45574e-18im\n",
       "   0.00730834+4.80426e-21im     -0.000317437-9.08159e-17im\n",
       " -9.66115e-15+1.34903e-15im      4.44065e-16-5.85689e-17im\n",
       " -3.29581e-16+4.15114e-17im  …   1.08272e-18-1.08505e-18im\n",
       " -1.80763e-15-2.64073e-16im     -5.07076e-18+3.96411e-19im\n",
       "   0.00188989-1.55971e-18im     -0.000209982-6.06001e-17im\n",
       " -3.49678e-15+4.78901e-16im      8.73418e-16-1.19621e-16im\n",
       "\n",
       "[:, :, 2, 4] =\n",
       "  -0.00064056+2.96434e-16im  …    0.00270583-4.58527e-16im\n",
       " -9.38524e-16+9.94359e-17im      3.52347e-15-4.86462e-16im\n",
       "  1.03886e-15+1.26263e-16im      1.63179e-16-2.22969e-17im\n",
       " -9.23408e-15-1.32254e-15im     -4.22538e-16-5.38459e-17im\n",
       "   0.00757074-1.28134e-15im     -0.000347644-3.94955e-17im\n",
       "  2.45596e-16-2.71029e-18im  …  -1.11391e-17+1.17907e-18im\n",
       " -8.57832e-17-1.26769e-18im      5.50487e-18+1.35695e-18im\n",
       " -1.35182e-15-2.05178e-16im      -2.8821e-16-3.85027e-17im\n",
       "   0.00270583-4.58527e-16im     -0.000676933-7.61584e-17im\n",
       "\n",
       "[:, :, 3, 4] =\n",
       "  2.75094e-15+3.86685e-16im  …  -5.10801e-15-7.08992e-16im\n",
       "  -0.00107163+4.41091e-16im       0.00392227-4.79906e-16im\n",
       "  5.19808e-17+7.99964e-18im     -2.16113e-16-1.66018e-17im\n",
       " -6.70259e-16-7.14455e-17im      7.07442e-18-7.20486e-18im\n",
       " -1.71213e-14-2.37329e-15im       2.2349e-17-3.7405e-18im\n",
       "   0.00632249-1.84977e-15im  …   -5.74137e-5-2.06676e-19im\n",
       " -1.69393e-18+1.30355e-17im      1.49019e-17-2.84942e-18im\n",
       " -3.75173e-17-7.38655e-18im     -7.86724e-18-1.65341e-18im\n",
       " -5.10801e-15-7.08992e-16im       2.3312e-17-4.07931e-18im\n",
       "\n",
       "[:, :, 4, 4] =\n",
       " -1.43648e-16-1.58519e-17im  …   2.29745e-16+2.28479e-17im\n",
       " -2.14889e-15-3.19284e-16im     -1.31189e-16+2.3938e-17im\n",
       "   0.00124311-3.55535e-16im      -0.00367785-1.2066e-17im\n",
       "   1.9511e-17+7.57406e-19im     -2.95055e-17+6.1952e-18im\n",
       "  9.64697e-16+1.09973e-16im      1.26547e-18+6.23416e-19im\n",
       "  1.39551e-14+1.98187e-15im  …   -9.4495e-18+2.03288e-19im\n",
       "   0.00531369-1.51979e-15im     -0.000412702+2.1125e-18im\n",
       " -2.44771e-18-2.5195e-18im      -2.52484e-17-7.45389e-19im\n",
       "  2.29745e-16+2.28479e-17im       -1.113e-17-2.88669e-18im\n",
       "\n",
       "[:, :, 5, 4] =\n",
       " -2.30253e-17-2.64523e-18im  …  -7.88918e-17-6.10711e-19im\n",
       " -8.29378e-17-7.31529e-18im     -5.59889e-19-7.32006e-18im\n",
       " -2.09708e-15-2.99015e-16im       3.8811e-18+5.63955e-18im\n",
       "  -0.00100486+2.88635e-16im       0.00228176-1.69745e-18im\n",
       "  7.72493e-17+1.04155e-17im      2.10234e-17-1.82281e-18im\n",
       "  7.73665e-16+8.13355e-17im  …   6.62041e-18+5.61752e-18im\n",
       " -1.18147e-14-1.66569e-15im      8.04681e-18-4.45878e-18im\n",
       "   0.00322473-9.15906e-16im       0.00247842-1.99222e-18im\n",
       " -7.88918e-17-6.10711e-19im     -1.30721e-16-4.74338e-18im\n",
       "\n",
       "[:, :, 6, 4] =\n",
       "   6.76049e-6-4.60018e-18im  …    0.00284915-8.04873e-16im\n",
       " -9.45892e-18-3.4362e-18im       3.46883e-15-5.1719e-16im\n",
       " -5.80824e-17-5.32635e-18im      1.68679e-16-2.06947e-17im\n",
       "  1.11941e-15+1.60479e-16im     -1.54872e-17-3.16452e-18im\n",
       " -0.000467493+1.39409e-16im     -0.000208537+1.02999e-18im\n",
       "  7.18806e-17+6.79935e-18im  …   5.14776e-17+1.35525e-18im\n",
       "  -6.7682e-16-7.36639e-17im      1.39422e-18-4.83148e-18im\n",
       " -7.80562e-15-1.11344e-15im      2.15146e-17-1.24683e-18im\n",
       "   0.00284915-8.04873e-16im      0.000446146+2.71051e-19im\n",
       "\n",
       "[:, :, 7, 4] =\n",
       " -2.20413e-16-2.94568e-17im  …   7.28651e-15+1.02715e-15im\n",
       "   8.68054e-5-3.44871e-17im      -0.00572399+6.67685e-16im\n",
       "  1.13257e-17+1.792e-18im        4.47521e-16+1.3605e-17im\n",
       "  -1.5438e-17-5.13302e-19im     -2.34086e-17+2.12944e-18im\n",
       " -1.70174e-16-2.71967e-17im      4.49605e-18+1.12588e-17im\n",
       "  0.000428809-1.28954e-16im  …   -0.00182548+8.32803e-18im\n",
       "  6.26579e-17+8.1277e-18im      -4.91279e-19+1.27055e-18im\n",
       "  4.75891e-16+5.0667e-17im       3.26616e-18+3.04932e-18im\n",
       "  7.28651e-15+1.02715e-15im     -1.30714e-17+6.78982e-18im\n",
       "\n",
       "[:, :, 8, 4] =\n",
       " -1.07509e-17-1.06843e-18im  …   4.13496e-16+4.39949e-17im\n",
       " -1.69461e-16-2.38603e-17im     -2.83246e-16+1.3295e-17im\n",
       "  0.000102238-2.74989e-17im      -0.00715171-2.62377e-17im\n",
       " -7.88566e-18-5.52689e-19im     -8.70072e-18+1.38371e-17im\n",
       "  5.84131e-17+8.52877e-18im      1.89939e-17-7.53521e-18im\n",
       "   4.1779e-16+5.41144e-17im  …   1.27123e-17-4.09964e-18im\n",
       "   0.00063602-1.76628e-16im      -0.00318566+6.45778e-18im\n",
       "  4.38772e-17+6.00377e-18im       7.5081e-17+3.08998e-18im\n",
       "  4.13496e-16+4.39949e-17im      1.34712e-17+5.59719e-18im\n",
       "\n",
       "[:, :, 9, 4] =\n",
       " -1.51792e-18-5.62959e-19im  …   4.56669e-17+7.04816e-18im\n",
       " -1.71164e-17-2.66964e-18im     -2.78259e-17-7.03715e-18im\n",
       " -4.07326e-16-5.3217e-17im       1.76371e-16-1.3749e-17im\n",
       " -0.000317437+9.08286e-17im       0.00949763-4.02622e-20im\n",
       "  5.85469e-18+1.64917e-18im     -2.58277e-16-1.05439e-17im\n",
       "    7.552e-17+9.1776e-18im   …   4.16063e-18-1.68051e-18im\n",
       " -2.57755e-15-3.54189e-16im      9.20691e-17-3.18484e-18im\n",
       "   5.49936e-5-1.10572e-17im      -0.00189337+9.21572e-19im\n",
       "  4.56669e-17+7.04816e-18im      8.94873e-17+2.62919e-18im\n",
       "\n",
       "[:, :, 1, 5] =\n",
       "   0.00243204-7.13045e-16im  …    0.00141859-2.05151e-18im\n",
       "  2.49101e-15-3.36833e-16im     -1.88685e-15+2.54072e-16im\n",
       "  6.66382e-16+3.09922e-17im     -1.01207e-16+1.08471e-17im\n",
       " -9.66113e-15-1.34902e-15im      5.84537e-18-1.62884e-18im\n",
       "   0.00409244-2.28699e-20im      0.000134392+3.9177e-17im\n",
       " -6.06221e-15+8.51363e-16im  …  -1.02523e-15+1.47016e-16im\n",
       "  2.39616e-16-3.00124e-17im      9.64934e-17-9.31567e-18im\n",
       " -1.93863e-15-2.81645e-16im      9.33261e-18-1.59581e-18im\n",
       "   0.00141859-2.05151e-18im     -0.000126381-3.95226e-17im\n",
       "\n",
       "[:, :, 2, 5] =\n",
       "  1.78569e-15+2.54609e-16im  …  -1.84453e-15-2.58754e-16im\n",
       "   0.00051531-1.55013e-16im       0.00286437-7.58094e-19im\n",
       "  3.78437e-17+1.28138e-17im     -4.27822e-17-4.67308e-18im\n",
       " -7.27503e-16-7.02217e-17im      2.27217e-18+1.00458e-18im\n",
       " -7.23413e-15-1.01637e-15im      1.76476e-16+2.49705e-17im\n",
       "   0.00476343-8.13729e-16im  …   0.000797822+8.79491e-17im\n",
       " -1.86393e-16-5.84622e-18im     -3.40351e-17-5.35325e-19im\n",
       " -1.06056e-16-5.37146e-18im     -1.00018e-17+2.23617e-18im\n",
       " -1.84453e-15-2.58754e-16im     -1.68725e-16-2.53364e-17im\n",
       "\n",
       "[:, :, 3, 5] =\n",
       "  1.85173e-16+1.79635e-17im  …  -9.59418e-17-7.96253e-18im\n",
       "  8.38327e-16+1.28179e-16im      1.88539e-18-3.25854e-18im\n",
       " -0.000438643+1.24728e-16im       0.00317753-9.3343e-19im\n",
       " -9.04271e-17-1.54683e-17im      2.55372e-17+8.77526e-19im\n",
       " -5.64516e-16-5.48473e-17im      8.25349e-18+5.21772e-19im\n",
       " -1.25504e-14-1.72979e-15im  …    -1.525e-17+2.1684e-19im\n",
       "  -0.00480254+1.39317e-15im      -0.00169416+1.37558e-17im\n",
       " -9.69387e-18+5.32995e-18im      4.42117e-17+4.5672e-18im\n",
       " -9.59418e-17-7.96253e-18im      3.21873e-20-6.36969e-19im\n",
       "\n",
       "[:, :, 4, 5] =\n",
       " -2.30727e-17-2.59105e-18im  …  -7.88848e-17-3.57024e-19im\n",
       " -8.28328e-17-7.17935e-18im     -5.56924e-19-7.34039e-18im\n",
       " -2.09739e-15-2.98797e-16im      4.14114e-18+6.00038e-18im\n",
       "  -0.00100486+2.88465e-16im       0.00228176-1.84992e-18im\n",
       "  7.71613e-17+1.04992e-17im      2.10369e-17-1.8567e-18im\n",
       "  7.73647e-16+8.13626e-17im  …   6.47303e-18+6.18673e-18im\n",
       " -1.18147e-14-1.66553e-15im      8.04681e-18-4.47572e-18im\n",
       "   0.00322473-9.16016e-16im       0.00247842-2.00577e-18im\n",
       " -7.88848e-17-3.57024e-19im     -1.31182e-16-4.55365e-18im\n",
       "\n",
       "[:, :, 5, 5] =\n",
       "  0.000219779-1.28714e-16im  …     0.0028827-8.19945e-16im\n",
       "  2.71103e-16-4.16692e-17im      3.48688e-15-5.14852e-16im\n",
       " -1.00376e-16-1.17327e-17im      1.69236e-16-2.23617e-17im\n",
       "  2.51006e-15+3.59313e-16im     -1.12723e-17+2.67662e-19im\n",
       " -0.000925463+2.67117e-16im      0.000128751+1.47723e-18im\n",
       "  9.45806e-17+1.3622e-17im   …   1.05166e-16-3.49655e-18im\n",
       "  -6.9755e-16-7.06366e-17im        8.223e-18-1.91091e-18im\n",
       " -8.19121e-15-1.16215e-15im      1.48088e-16-6.85758e-18im\n",
       "    0.0028827-8.19945e-16im       0.00531424-9.54098e-18im\n",
       "\n",
       "[:, :, 6, 5] =\n",
       " -4.54377e-16-6.71825e-17im  …  -7.69125e-15-1.07931e-15im\n",
       "  0.000179299-7.36205e-17im       0.00604541-6.87876e-16im\n",
       " -1.47745e-17-1.69364e-18im     -5.01027e-16-9.98144e-18im\n",
       "  1.08937e-16+9.60027e-18im      1.18923e-17-5.0822e-18im\n",
       "  1.96786e-15+2.82901e-16im      1.93513e-17-1.15196e-18im\n",
       " -0.000970679+2.81822e-16im  …   -0.00243033+3.87602e-18im\n",
       "  -8.4102e-17-9.68709e-18im     -1.05896e-16+4.06576e-19im\n",
       " -5.22202e-16-5.55044e-17im      2.15417e-17-5.80048e-18im\n",
       " -7.69125e-15-1.07931e-15im      3.45725e-17+1.35525e-19im\n",
       "\n",
       "[:, :, 7, 5] =\n",
       "  2.52475e-17+3.09273e-18im  …   4.96503e-16+5.14208e-17im\n",
       "  2.11068e-16+3.31427e-17im     -3.49951e-16+3.07134e-18im\n",
       " -0.000226274+6.55828e-17im       -0.0089071-5.02934e-17im\n",
       " -1.06648e-17-1.67734e-18im     -3.24522e-16+1.52364e-17im\n",
       " -7.13454e-17-6.88595e-18im      2.03932e-17-3.82859e-18im\n",
       " -2.16573e-15-3.10183e-16im  …   3.68968e-18-4.0251e-18im\n",
       "  -6.03771e-5+2.38622e-17im       0.00122446-1.37558e-18im\n",
       "  6.32094e-17+7.96042e-18im       4.6309e-17-2.95445e-18im\n",
       "  4.96503e-16+5.14208e-17im      8.60585e-19+5.61075e-18im\n",
       "\n",
       "[:, :, 8, 5] =\n",
       "  3.69889e-19-8.06587e-19im  …   7.52758e-17+8.28737e-18im\n",
       "  8.15126e-18+1.41624e-18im     -4.70273e-17-1.08556e-17im\n",
       "  1.38758e-16+2.1756e-17im      -1.94547e-17-2.20635e-17im\n",
       "   9.94839e-6-6.22993e-18im        0.0101355-3.42879e-18im\n",
       "  2.36576e-18+3.89635e-20im     -6.48082e-17+4.76371e-18im\n",
       " -4.02997e-17-3.05609e-18im  …   5.02934e-17+5.31259e-18im\n",
       " -6.40819e-16-8.26518e-17im     -5.94956e-18+2.73083e-18im\n",
       " -0.000529986+1.55639e-16im      -0.00724472+7.04731e-18im\n",
       "  7.52758e-17+8.28737e-18im      3.34802e-16+3.55076e-18im\n",
       "\n",
       "[:, :, 9, 5] =\n",
       "   6.46573e-5-3.61516e-17im  …    3.37839e-5-3.53382e-18im\n",
       "  8.00608e-17-1.20465e-17im      6.00487e-17-4.77049e-18im\n",
       "  1.08325e-18-9.4783e-19im       1.18585e-18+2.15485e-18im\n",
       "   4.4406e-16+5.85935e-17im     -2.58467e-16+9.74427e-18im\n",
       "  0.000134392-3.93023e-17im          0.01294+3.03331e-20im\n",
       "   1.2211e-18+3.998e-19im    …  -3.45705e-16-1.08149e-17im\n",
       " -1.17747e-16-1.28038e-17im      -1.5023e-17-2.76472e-18im\n",
       "  1.05407e-15+1.52452e-16im      1.25551e-16-5.55654e-18im\n",
       "   3.37839e-5-3.53382e-18im      -0.00292762+2.41235e-18im\n",
       "\n",
       "[:, :, 1, 6] =\n",
       " -6.92544e-15-9.97025e-16im  …  -1.57341e-15-2.25912e-16im\n",
       "   0.00272476-3.03054e-16im       0.00124911+2.09405e-16im\n",
       " -1.77581e-15+2.37414e-16im     -2.31063e-15+3.07187e-16im\n",
       "  -3.2954e-16-4.13011e-17im      7.54304e-17-9.13271e-18im\n",
       " -6.06212e-15-8.51492e-16im      1.30411e-18-2.96462e-19im\n",
       "    0.0025724+3.30095e-20im  …   -4.24391e-5-8.99888e-18im\n",
       "  4.50767e-15-6.32055e-16im       2.6398e-16-4.24685e-17im\n",
       "   1.2846e-16-2.25218e-17im      2.80491e-17-2.37847e-18im\n",
       " -1.57341e-15-2.25912e-16im     -1.19686e-18-3.15096e-19im\n",
       "\n",
       "[:, :, 2, 6] =\n",
       " -1.54543e-16-1.44855e-17im  …  -1.12527e-16-5.90763e-18im\n",
       "  1.13214e-15+1.41971e-16im      1.65852e-15+2.22683e-16im\n",
       "   0.00134687-2.10054e-16im       0.00175638+2.16797e-16im\n",
       " -7.46398e-17-5.72536e-18im     -3.31298e-17+1.38913e-19im\n",
       " -5.38779e-16-5.74171e-17im       2.6023e-18+2.05321e-18im\n",
       " -5.46232e-15-7.66688e-16im  …   -4.4911e-17-3.49655e-18im\n",
       "  -0.00354165+5.89425e-16im     -0.000204265-2.17654e-17im\n",
       " -1.21217e-16-4.52316e-19im     -2.30816e-18+2.98156e-19im\n",
       " -1.12527e-16-5.90763e-18im     -1.80249e-18+1.68051e-18im\n",
       "\n",
       "[:, :, 3, 6] =\n",
       " -2.69288e-18-1.32115e-18im  …   6.59293e-17+9.47576e-18im\n",
       "  1.36996e-16+1.46424e-17im      8.10577e-17+8.69395e-18im\n",
       " -4.20535e-16-5.1789e-17im      -7.41368e-17+7.11508e-20im\n",
       " -0.000188032+4.73e-17im         -0.00117143+2.87652e-18im\n",
       " -8.11091e-17-7.11169e-18im     -1.88211e-17+2.71728e-18im\n",
       " -4.96184e-16-5.20932e-17im  …  -1.54838e-18-1.71439e-18im\n",
       "  1.00541e-14+1.38768e-15im     -6.87113e-18-2.21584e-18im\n",
       "  -0.00294215+8.42268e-16im     -0.000479853+2.77827e-18im\n",
       "  6.59293e-17+9.47576e-18im       2.9492e-17+1.0571e-18im\n",
       "\n",
       "[:, :, 4, 6] =\n",
       "   6.76049e-6-4.69481e-18im  …    0.00284915-8.04881e-16im\n",
       " -9.39159e-18-3.38241e-18im      3.46825e-15-5.16887e-16im\n",
       "   -5.813e-17-5.3397e-18im       1.68774e-16-2.09573e-17im\n",
       "  1.11941e-15+1.60493e-16im     -1.54855e-17-3.25938e-18im\n",
       " -0.000467493+1.39386e-16im     -0.000208537+6.91179e-19im\n",
       "  7.20602e-17+6.85165e-18im  …   5.09626e-17+1.26716e-18im\n",
       "  -6.7683e-16-7.36929e-17im       1.5975e-18-5.00088e-18im\n",
       " -7.80557e-15-1.11334e-15im      2.15485e-17-1.65341e-18im\n",
       "   0.00284915-8.04881e-16im      0.000446146+1.49078e-19im\n",
       "\n",
       "[:, :, 5, 6] =\n",
       " -4.54415e-16-6.706e-17im    …  -7.69094e-15-1.0793e-15im\n",
       "  0.000179299-7.3607e-17im        0.00604541-6.87974e-16im\n",
       "  -1.4739e-17-1.57506e-18im      -5.0043e-16-1.02017e-17im\n",
       "  1.09019e-16+9.57655e-18im      1.17839e-17-5.53621e-18im\n",
       "  1.96774e-15+2.82873e-16im      1.91345e-17-8.53809e-19im\n",
       " -0.000970679+2.81793e-16im  …   -0.00243033+3.83537e-18im\n",
       "   -8.408e-17-9.79848e-18im     -1.05164e-16+4.47233e-19im\n",
       " -5.22283e-16-5.54104e-17im      2.15146e-17-6.01732e-18im\n",
       " -7.69094e-15-1.0793e-15im       3.41422e-17+5.69206e-19im\n",
       "\n",
       "[:, :, 6, 6] =\n",
       " -3.71751e-17-3.80307e-18im  …  -5.20795e-16-5.7057e-17im\n",
       " -6.65861e-16-1.0042e-16im       3.93263e-16+1.21973e-19im\n",
       "  0.000328051-9.22912e-17im       0.00940421+9.24265e-17im\n",
       "  7.82632e-18+1.33111e-18im      3.37776e-16-7.99599e-18im\n",
       "  1.40102e-16+1.36601e-17im     -5.17893e-17+5.12286e-18im\n",
       "  2.69713e-15+3.86742e-16im  …   2.66815e-18+1.35525e-18im\n",
       "  0.000246947-7.70698e-17im       0.00456367+1.36881e-17im\n",
       " -6.99558e-17-6.92873e-18im     -7.30752e-17-2.71051e-18im\n",
       " -5.20795e-16-5.7057e-17im       2.36932e-17-6.55942e-18im\n",
       "\n",
       "[:, :, 7, 6] =\n",
       "  1.00698e-18-5.61689e-20im  …   9.43599e-17+7.9782e-18im\n",
       "  3.61167e-17+3.36124e-18im     -5.54529e-17-1.02542e-17im\n",
       "  8.09693e-16+1.18868e-16im     -4.93287e-17-3.07337e-17im\n",
       "  0.000184851-5.47454e-17im        0.0117857+3.43963e-17im\n",
       " -1.25752e-17-2.59234e-18im     -3.71498e-16-1.23328e-17im\n",
       " -1.71826e-16-1.72308e-17im  …   1.64816e-17+3.15096e-18im\n",
       "  4.75735e-16+7.43733e-17im      1.85331e-18+4.17418e-18im\n",
       " -0.000875557+2.50574e-16im     -0.000327818+3.52366e-18im\n",
       "  9.43599e-17+7.9782e-18im       3.95056e-18-3.30682e-18im\n",
       "\n",
       "[:, :, 8, 6] =\n",
       "   3.97878e-6-1.51958e-18im  …  -0.000329846+9.95128e-17im\n",
       "  3.66064e-18-1.0283e-18im      -3.87217e-16+5.81132e-17im\n",
       "  2.52868e-17+3.16621e-18im     -1.30104e-18+9.72394e-18im\n",
       " -4.82549e-16-7.19114e-17im      5.53214e-17+7.23705e-18im\n",
       "  0.000408607-1.18761e-16im         0.013163+1.24582e-17im\n",
       " -8.18848e-18-2.02271e-18im  …  -1.45215e-17-7.2235e-18im\n",
       " -1.09644e-17-2.54788e-18im      -2.3744e-17+5.92923e-19im\n",
       "  2.21382e-15+3.20392e-16im     -2.25243e-16+3.36103e-18im\n",
       " -0.000329846+9.95128e-17im      -0.00745686-1.0842e-18im\n",
       "\n",
       "[:, :, 9, 6] =\n",
       "  2.38497e-16+3.33312e-17im  …   5.43367e-16+8.34785e-17im\n",
       "  -9.32496e-5+3.73796e-17im     -0.000424591+4.55975e-17im\n",
       "  1.89026e-18+4.37069e-19im      6.27482e-17+6.28837e-18im\n",
       "   1.1201e-18+1.06218e-18im      4.43506e-18+1.76183e-18im\n",
       " -1.02511e-15-1.47012e-16im     -3.44461e-16+1.17162e-17im\n",
       "  -4.24391e-5+9.01243e-18im  …     0.0152738-2.00852e-19im\n",
       "  -1.4184e-17-1.44673e-18im      3.55015e-16+1.28139e-17im\n",
       "  1.15727e-16+1.16569e-17im     -2.63055e-17+2.22261e-18im\n",
       "  5.43367e-16+8.34785e-17im      1.92039e-16-7.39968e-18im\n",
       "\n",
       "[:, :, 1, 7] =\n",
       "  2.51359e-16+2.42836e-17im  …  -7.43817e-17+2.21859e-17im\n",
       "   3.9788e-15+5.78411e-16im     -8.14177e-17+6.77076e-18im\n",
       "  -0.00228736-1.5884e-17im       -0.00132038-3.772e-16im\n",
       " -1.80778e-15+2.64006e-16im      -2.5774e-15+3.54269e-16im\n",
       "  2.39629e-16+2.99642e-17im     -1.17698e-16+1.28597e-17im\n",
       "  4.50749e-15+6.32065e-16im  …  -1.42941e-17+1.41455e-18im\n",
       "   0.00206168+6.0897e-21im       0.000202244+5.83216e-17im\n",
       "  -2.9822e-15+4.18764e-16im     -1.13295e-15+1.59811e-16im\n",
       " -7.43817e-17+2.21859e-17im      -7.8027e-17+7.68767e-18im\n",
       "\n",
       "[:, :, 2, 7] =\n",
       "   9.6861e-18+3.78842e-18im  …   5.11522e-17-1.1202e-19im\n",
       "  1.31401e-16+9.36787e-18im      1.81429e-17-1.16018e-17im\n",
       "  2.26964e-16+3.1236e-17im       -1.6742e-15-2.39865e-16im\n",
       "    0.0014373-2.36201e-16im       0.00200579+2.3414e-16im\n",
       "  7.09278e-17+5.57602e-18im      6.30925e-17-5.14996e-18im\n",
       "  4.40553e-16+4.46395e-17im  …   8.77251e-18-3.17129e-18im\n",
       " -4.74922e-15-6.66493e-16im      2.59951e-16+4.03798e-17im\n",
       "   0.00234483-3.91196e-16im       0.00088098+1.01691e-16im\n",
       "  5.11522e-17-1.1202e-19im      -1.19855e-18-3.0832e-18im\n",
       "\n",
       "[:, :, 3, 7] =\n",
       "  -4.08422e-5+2.3962e-17im   …    0.00266723-7.70599e-16im\n",
       " -4.93339e-17+7.77724e-18im      3.26016e-15-4.95657e-16im\n",
       " -5.88219e-17-6.50463e-18im      6.91369e-17-2.26234e-17im\n",
       " -1.27002e-15-1.67549e-16im     -1.07471e-16-2.63258e-18im\n",
       "  0.000588646-1.64253e-16im       0.00206238-1.12215e-17im\n",
       "  6.41753e-17+8.49045e-18im  …   2.85535e-18-9.78492e-18im\n",
       " -4.57513e-16-4.56443e-17im      1.42988e-17+3.18484e-19im\n",
       " -6.73677e-15-9.42392e-16im       7.1083e-18-2.48011e-18im\n",
       "   0.00266723-7.70599e-16im       0.00132886-1.1357e-17im\n",
       "\n",
       "[:, :, 4, 7] =\n",
       " -2.20434e-16-2.94841e-17im  …   7.28648e-15+1.02715e-15im\n",
       "   8.68054e-5-3.45532e-17im      -0.00572399+6.67657e-16im\n",
       "   1.1352e-17+1.72583e-18im      4.47414e-16+1.36033e-17im\n",
       " -1.53469e-17-5.77888e-19im     -2.35712e-17+2.13452e-18im\n",
       " -1.70194e-16-2.72211e-17im      4.69934e-18+1.12012e-17im\n",
       "  0.000428809-1.28974e-16im  …   -0.00182548+8.54487e-18im\n",
       "  6.26155e-17+7.96634e-18im      1.05032e-19+1.36542e-18im\n",
       "  4.75884e-16+5.07485e-17im      3.40168e-18+3.07642e-18im\n",
       "  7.28648e-15+1.02715e-15im     -1.28546e-17+6.72205e-18im\n",
       "\n",
       "[:, :, 5, 7] =\n",
       "  2.52423e-17+3.19946e-18im  …   4.96484e-16+5.13327e-17im\n",
       "  2.11091e-16+3.32109e-17im     -3.50161e-16+3.0273e-18im\n",
       " -0.000226274+6.54742e-17im       -0.0089071-5.03612e-17im\n",
       " -1.08105e-17-1.50857e-18im     -3.24505e-16+1.46062e-17im\n",
       " -7.14606e-17-6.89315e-18im       2.0261e-17-3.84214e-18im\n",
       " -2.16565e-15-3.10183e-16im  …   3.93362e-18-3.37458e-18im\n",
       "  -6.03771e-5+2.38253e-17im       0.00122446-1.15874e-18im\n",
       "  6.32653e-17+7.93246e-18im      4.63225e-17-2.57498e-18im\n",
       "  4.96484e-16+5.13327e-17im       7.7927e-19+5.69206e-18im\n",
       "\n",
       "[:, :, 6, 7] =\n",
       "   9.5806e-19-8.90443e-20im  …   9.44143e-17+7.935e-18im\n",
       "  3.60526e-17+3.3443e-18im      -5.54125e-17-1.02084e-17im\n",
       "  8.09811e-16+1.18792e-16im     -4.99724e-17-3.11776e-17im\n",
       "  0.000184851-5.46423e-17im        0.0117857+3.4586e-17im\n",
       " -1.26278e-17-2.53771e-18im     -3.71526e-16-1.32544e-17im\n",
       " -1.71812e-16-1.70948e-17im  …   1.66442e-17+3.02899e-18im\n",
       "  4.75742e-16+7.44749e-17im      1.84992e-18+4.49944e-18im\n",
       " -0.000875557+2.505e-16im       -0.000327818+2.41235e-18im\n",
       "  9.44143e-17+7.935e-18im        4.06237e-18-3.41524e-18im\n",
       "\n",
       "[:, :, 7, 7] =\n",
       "  -9.11726e-5+5.04366e-17im  …   0.000462644-1.36577e-16im\n",
       " -1.15917e-16+1.60748e-17im      5.40881e-16-7.77763e-17im\n",
       " -7.78929e-17-7.05197e-18im      2.29377e-18-7.9079e-18im\n",
       "  3.11462e-16+4.98273e-17im     -4.93041e-17+1.67035e-18im\n",
       " -0.000561864+1.61031e-16im       -0.0133868+1.11808e-18im\n",
       "  2.50986e-17+4.71797e-18im  …    3.2173e-16+2.00577e-17im\n",
       " -2.28933e-17-1.84484e-18im     -1.72896e-17+1.00966e-18im\n",
       " -2.40885e-15-3.44512e-16im      -1.1006e-16+2.76472e-18im\n",
       "  0.000462644-1.36577e-16im      -0.00486775+6.41035e-18im\n",
       "\n",
       "[:, :, 8, 7] =\n",
       " -2.67782e-16-3.80599e-17im  …  -1.07296e-15-1.57711e-16im\n",
       "  0.000104914-4.24385e-17im       0.00084824-9.56266e-17im\n",
       " -8.04745e-18+4.48927e-20im     -8.37885e-17-7.2506e-18im\n",
       "  3.69827e-17+3.68544e-18im      2.65223e-17-5.28549e-18im\n",
       "  1.40634e-15+2.02415e-16im      -1.2509e-17+6.09864e-18im\n",
       " -0.000217043+6.58585e-17im  …    -0.0139534+4.43981e-17im\n",
       "  6.36715e-18-9.99499e-20im      3.47351e-17+2.10064e-18im\n",
       " -1.54162e-16-1.52856e-17im     -9.21572e-19+1.6263e-19im\n",
       " -1.07296e-15-1.57711e-16im      4.85994e-17-1.16552e-18im\n",
       "\n",
       "[:, :, 9, 7] =\n",
       "  4.46008e-18+8.92561e-19im  …  -3.72407e-17-3.40338e-18im\n",
       " -4.34691e-16-5.98204e-17im      1.04905e-17-4.58753e-18im\n",
       "  -5.33932e-5+1.31604e-17im      0.000725838+5.1093e-18im\n",
       " -5.09363e-18-3.82012e-19im      9.18794e-17+3.56431e-18im\n",
       "   9.6422e-17+9.28348e-18im      -1.5023e-17+2.63258e-18im\n",
       "   2.6396e-16+4.24296e-17im  …   3.55503e-16-1.27529e-17im\n",
       "  0.000202244-5.83241e-17im        0.0161037-1.19535e-19im\n",
       " -1.61487e-17-2.35136e-18im     -3.31901e-16-9.75782e-18im\n",
       " -3.72407e-17-3.40338e-18im      8.67362e-19+4.63496e-18im\n",
       "\n",
       "[:, :, 1, 8] =\n",
       "  1.75823e-16-2.14805e-17im  …  -2.40728e-15+3.36326e-16im\n",
       "  1.85292e-16+2.1351e-17im      -2.42446e-16+2.40036e-17im\n",
       "  4.06139e-15+5.65495e-16im     -3.70537e-17+5.98768e-18im\n",
       "   0.00188989+1.55579e-18im       5.49936e-5+1.10402e-17im\n",
       " -1.93864e-15+2.81676e-16im      1.05413e-15-1.5246e-16im\n",
       "  1.28458e-16+2.24673e-17im  …   1.15741e-16-1.1562e-17im\n",
       " -2.98225e-15-4.18771e-16im     -1.60936e-17+2.30732e-18im\n",
       "   0.00125263+6.42388e-21im      0.000598207+1.74858e-16im\n",
       " -2.40728e-15+3.36326e-16im     -1.79552e-15+2.54557e-16im\n",
       "\n",
       "[:, :, 2, 8] =\n",
       " -0.000134016+6.09329e-17im  …    0.00188582-3.19726e-16im\n",
       " -1.70707e-16+2.5088e-17im       2.56447e-15-3.35517e-16im\n",
       "   2.0228e-16+2.55698e-17im      1.46283e-16-2.08124e-17im\n",
       " -1.40388e-15-1.94944e-16im        4.503e-17+1.12893e-17im\n",
       "    0.0015594-2.60753e-16im     -0.000820145-9.11204e-17im\n",
       "  9.30524e-17+5.16457e-18im  …  -4.76312e-17-3.74727e-18im\n",
       " -3.05917e-16-3.00064e-17im      1.29884e-17-9.48677e-20im\n",
       " -2.81438e-15-4.03639e-16im      8.11231e-16+1.10318e-16im\n",
       "   0.00188582-3.19726e-16im       0.00139558+1.56586e-16im\n",
       "\n",
       "[:, :, 3, 8] =\n",
       "  4.69787e-16+6.41438e-17im  …  -5.65682e-15-7.83407e-16im\n",
       " -0.000182096+7.37613e-17im       0.00438802-5.37564e-16im\n",
       "  1.71121e-17+2.55296e-18im      -1.6949e-16-2.09708e-17im\n",
       " -4.44258e-17-6.30658e-18im      2.39643e-17-8.43645e-18im\n",
       " -2.36175e-15-3.17858e-16im      1.65036e-17-7.07442e-18im\n",
       "  0.000752737-2.15833e-16im  …    -0.0021083+2.15587e-17im\n",
       " -7.54045e-17-6.05798e-18im     -4.76744e-17-7.70122e-18im\n",
       "   -2.836e-16-2.95377e-17im      2.44217e-17+5.93601e-18im\n",
       " -5.65682e-15-7.83407e-16im     -2.72338e-17+1.73472e-18im\n",
       "\n",
       "[:, :, 4, 8] =\n",
       " -1.07493e-17-1.07118e-18im  …   4.13504e-16+4.39356e-17im\n",
       " -1.69507e-16-2.38264e-17im     -2.82928e-16+1.38846e-17im\n",
       "  0.000102238-2.74036e-17im      -0.00715171-2.62174e-17im\n",
       " -7.89541e-18-6.23416e-19im     -8.76171e-18+1.37152e-17im\n",
       "  5.84775e-17+8.57282e-18im      1.91362e-17-7.58264e-18im\n",
       "  4.17881e-16+5.40644e-17im  …   1.27665e-17-4.18095e-18im\n",
       "   0.00063602-1.76613e-16im      -0.00318566+6.36969e-18im\n",
       "  4.37433e-17+6.00377e-18im      7.52978e-17+3.21195e-18im\n",
       "  4.13504e-16+4.39356e-17im      1.32544e-17+5.61752e-18im\n",
       "\n",
       "[:, :, 5, 8] =\n",
       "  3.10729e-19-8.3348e-19im   …   7.53029e-17+8.2213e-18im\n",
       "  8.16058e-18+1.25996e-18im     -4.68934e-17-1.08827e-17im\n",
       "  1.38761e-16+2.16866e-17im     -1.99154e-17-2.21042e-17im\n",
       "   9.94839e-6-6.13591e-18im        0.0101355-3.46945e-18im\n",
       "  2.43522e-18+9.48677e-20im     -6.53503e-17+5.19739e-18im\n",
       " -4.03607e-17-3.06457e-18im  …   4.95887e-17+5.47522e-18im\n",
       " -6.40765e-16-8.26399e-17im      -6.1664e-18+2.83248e-18im\n",
       " -0.000529986+1.55593e-16im      -0.00724472+6.72205e-18im\n",
       "  7.53029e-17+8.2213e-18im       3.34558e-16+3.65918e-18im\n",
       "\n",
       "[:, :, 6, 8] =\n",
       "   3.97878e-6-1.48654e-18im  …  -0.000329846+9.95603e-17im\n",
       "  3.63139e-18-1.03973e-18im     -3.87352e-16+5.81268e-17im\n",
       "  2.52575e-17+3.21703e-18im     -1.58565e-18+1.0056e-17im\n",
       " -4.82456e-16-7.1969e-17im       5.47251e-17+7.28448e-18im\n",
       "  0.000408607-1.18759e-16im         0.013163+1.25767e-17im\n",
       " -8.24587e-18-2.0549e-18im   …  -1.45215e-17-7.41323e-18im\n",
       " -1.09405e-17-2.53432e-18im     -2.42319e-17+7.99599e-19im\n",
       "  2.21379e-15+3.20336e-16im      -2.2611e-16+3.46945e-18im\n",
       " -0.000329846+9.95603e-17im      -0.00745686-7.86047e-19im\n",
       "\n",
       "[:, :, 7, 8] =\n",
       " -2.67776e-16-3.80582e-17im  …  -1.07293e-15-1.57718e-16im\n",
       "  0.000104914-4.2488e-17im        0.00084824-9.54911e-17im\n",
       " -8.06937e-18-4.15046e-20im     -8.39376e-17-7.30481e-18im\n",
       "  3.69832e-17+3.62022e-18im      2.64681e-17-4.97378e-18im\n",
       "  1.40637e-15+2.02346e-16im     -1.34306e-17+6.32903e-18im\n",
       " -0.000217043+6.59415e-17im  …    -0.0139534+4.46827e-17im\n",
       "  6.43364e-18-1.49078e-19im      3.45183e-17+2.43945e-18im\n",
       " -1.54196e-16-1.52669e-17im     -9.21572e-19+2.71051e-20im\n",
       " -1.07293e-15-1.57718e-16im      4.80573e-17-1.3146e-18im\n",
       "\n",
       "[:, :, 8, 8] =\n",
       " -4.61495e-18-2.40981e-19im  …  -6.86605e-17-6.28837e-18im\n",
       " -2.11708e-16-3.04585e-17im      5.64632e-17-4.3097e-18im\n",
       "   4.82447e-5-1.43877e-17im        0.0012722+9.51387e-18im\n",
       " -2.24294e-18-3.04932e-19im      5.77338e-17+2.95445e-18im\n",
       "  9.27738e-17+9.87979e-18im     -7.23705e-18-1.24683e-18im\n",
       "  7.68078e-16+1.12323e-16im  …  -5.03341e-17+4.87891e-19im\n",
       "  0.000414061-1.21109e-16im        0.0131439-2.65087e-17im\n",
       "  1.72456e-18-2.94767e-18im      3.44668e-16+9.18861e-18im\n",
       " -6.86605e-17-6.28837e-18im      5.71375e-17+2.81893e-18im\n",
       "\n",
       "[:, :, 9, 8] =\n",
       "  1.31756e-18-4.56974e-19im  …  -1.35356e-17-1.35525e-18im\n",
       " -1.53165e-18-2.09217e-19im      9.85946e-18-9.75782e-19im\n",
       " -5.80209e-17-7.36241e-18im      -2.8047e-17+2.03288e-18im\n",
       " -0.000209982+6.06425e-17im      -0.00189337-8.67362e-19im\n",
       "  9.41731e-18+1.56871e-18im      1.24765e-16+4.44523e-18im\n",
       "  2.80376e-17+2.34798e-18im  …  -2.72541e-17-2.38524e-18im\n",
       " -1.13282e-15-1.59842e-16im     -3.31956e-16+8.91756e-18im\n",
       "  0.000598207-1.74855e-16im        0.0191184-2.48323e-19im\n",
       " -1.35356e-17-1.35525e-18im     -5.12828e-16-1.7808e-17im\n",
       "\n",
       "[:, :, 1, 9] =\n",
       " -0.000184545+6.10326e-17im  …    0.00114283-1.06127e-21im\n",
       "  1.43154e-16-1.12466e-17im      -2.9911e-15+4.11032e-16im\n",
       "  1.88978e-16+1.76787e-17im     -2.96417e-16+2.96123e-17im\n",
       "  -3.4969e-15-4.79074e-16im      4.56707e-17-7.1083e-18im\n",
       "   0.00141859+2.06411e-18im       3.37839e-5+3.50841e-18im\n",
       " -1.57341e-15+2.25878e-16im  …   5.43259e-16-8.34531e-17im\n",
       " -7.44168e-17-2.22532e-17im     -3.71801e-17+3.31613e-18im\n",
       " -2.40736e-15-3.3634e-16im      -1.36084e-17+1.30104e-18im\n",
       "   0.00114283-1.06127e-21im      0.000423552+1.23569e-16im\n",
       "\n",
       "[:, :, 2, 9] =\n",
       "  5.21865e-16+6.9447e-17im   …  -2.99098e-15-4.11087e-16im\n",
       " -0.000294421+8.88486e-17im       0.00345425+1.57991e-20im\n",
       "  1.66187e-17+8.12188e-18im      1.38448e-18-3.80995e-18im\n",
       " -2.24016e-16-2.18629e-17im     -2.76963e-17+6.82031e-18im\n",
       " -1.88689e-15-2.53971e-16im      6.00284e-17+4.55365e-18im\n",
       "   0.00124911-2.09377e-16im  …  -0.000424591-4.56246e-17im\n",
       " -8.13203e-17-6.69728e-18im      1.05185e-17+4.6519e-18im\n",
       " -2.42397e-16-2.41133e-17im      9.80525e-18+8.94467e-19im\n",
       " -2.99098e-15-4.11087e-16im      5.11708e-16+8.07053e-17im\n",
       "\n",
       "[:, :, 3, 9] =\n",
       "  1.65726e-17+1.87411e-18im  …  -2.96335e-16-2.94471e-17im\n",
       "  4.76948e-16+6.28361e-17im      1.25573e-18+3.84384e-18im\n",
       " -0.000234567+6.9779e-17im        0.00643489+6.5205e-20im\n",
       " -1.69439e-17-5.64315e-18im      1.76906e-16+1.40777e-17im\n",
       " -1.01028e-16-1.07353e-17im      8.58891e-19-2.23617e-18im\n",
       "  -2.3104e-15-3.07227e-16im  …   6.27618e-17-6.22061e-18im\n",
       "  -0.00132038+3.77193e-16im      0.000725838-5.1093e-18im\n",
       " -3.70198e-17-6.21637e-18im     -2.80198e-17-1.89735e-18im\n",
       " -2.96335e-16-2.94471e-17im      1.91158e-17+1.65341e-18im\n",
       "\n",
       "[:, :, 4, 9] =\n",
       " -1.49087e-18-6.10393e-19im  …   4.56568e-17+7.00412e-18im\n",
       " -1.70678e-17-2.58133e-18im     -2.78928e-17-6.86097e-18im\n",
       " -4.07442e-16-5.32868e-17im      1.77231e-16-1.37287e-17im\n",
       " -0.000317437+9.07092e-17im       0.00949763+7.68668e-20im\n",
       "  5.88264e-18+1.71778e-18im     -2.58115e-16-1.01373e-17im\n",
       "  7.54523e-17+9.17675e-18im  …   4.29615e-18-2.04643e-18im\n",
       " -2.57746e-15-3.54232e-16im       9.2313e-17-3.59142e-18im\n",
       "   5.49936e-5-1.11114e-17im      -0.00189337+8.13152e-19im\n",
       "  4.56568e-17+7.00412e-18im      8.95009e-17+2.92735e-18im\n",
       "\n",
       "[:, :, 5, 9] =\n",
       "   6.46573e-5-3.61819e-17im  …    3.37839e-5-3.5694e-18im\n",
       "  8.01186e-17-1.20075e-17im      6.01444e-17-4.86536e-18im\n",
       "   1.0337e-18-8.90232e-19im      1.09098e-18+2.07354e-18im\n",
       "  4.44107e-16+5.85528e-17im     -2.58169e-16+1.01644e-17im\n",
       "  0.000134392-3.92481e-17im          0.01294-7.57056e-20im\n",
       "  1.28717e-18+3.998e-19im    …  -3.45383e-16-9.94755e-18im\n",
       " -1.17655e-16-1.28173e-17im      -1.4962e-17-2.57498e-18im\n",
       "  1.05407e-15+1.5251e-16im       1.25171e-16-4.98733e-18im\n",
       "   3.37839e-5-3.5694e-18im       -0.00292762+2.27682e-18im\n",
       "\n",
       "[:, :, 6, 9] =\n",
       "  2.38539e-16+3.32975e-17im  …   5.43334e-16+8.35056e-17im\n",
       "  -9.32496e-5+3.73876e-17im     -0.000424591+4.56652e-17im\n",
       "  1.87078e-18+4.69256e-19im      6.27753e-17+6.48488e-18im\n",
       "  1.09818e-18+1.04905e-18im      4.16401e-18+2.05321e-18im\n",
       " -1.02519e-15-1.47037e-16im      -3.4457e-16+1.18043e-17im\n",
       "  -4.24391e-5+9.02259e-18im  …     0.0152738-2.62313e-19im\n",
       " -1.42924e-17-1.52297e-18im      3.55286e-16+1.28613e-17im\n",
       "  1.15737e-16+1.15061e-17im      -2.6563e-17+2.11419e-18im\n",
       "  5.43334e-16+8.35056e-17im      1.91992e-16-7.23705e-18im\n",
       "\n",
       "[:, :, 7, 9] =\n",
       "  4.49809e-18+8.9722e-19im   …  -3.72203e-17-3.41778e-18im\n",
       " -4.34681e-16-5.98844e-17im      1.05921e-17-4.76371e-18im\n",
       "  -5.33932e-5+1.32374e-17im      0.000725838+5.32614e-18im\n",
       " -5.05213e-18-3.92176e-19im      9.21572e-17+3.44234e-18im\n",
       "  9.64186e-17+9.33854e-18im      -1.5233e-17+2.18196e-18im\n",
       "  2.63985e-16+4.23821e-17im  …   3.54419e-16-1.28885e-17im\n",
       "  0.000202244-5.84249e-17im        0.0161037+5.33466e-20im\n",
       " -1.60979e-17-2.30562e-18im     -3.33202e-16-8.78204e-18im\n",
       " -3.72203e-17-3.41778e-18im       1.3146e-18+4.01155e-18im\n",
       "\n",
       "[:, :, 8, 9] =\n",
       "  1.32857e-18-4.41304e-19im  …  -1.36152e-17-1.36203e-18im\n",
       " -1.52995e-18-1.72795e-19im      9.75104e-18-7.86047e-19im\n",
       " -5.80302e-17-7.38613e-18im     -2.81215e-17+1.92446e-18im\n",
       " -0.000209982+6.06323e-17im      -0.00189337-6.77626e-19im\n",
       "  9.40291e-18+1.64663e-18im      1.24927e-16+4.74338e-18im\n",
       "   2.8022e-17+2.39541e-18im  …  -2.64003e-17-1.95156e-18im\n",
       "  -1.1329e-15-1.59869e-16im      -3.3201e-16+8.94467e-18im\n",
       "  0.000598207-1.74821e-16im        0.0191184-3.61541e-19im\n",
       " -1.36152e-17-1.36203e-18im     -5.12014e-16-1.8323e-17im\n",
       "\n",
       "[:, :, 9, 9] =\n",
       "  0.000160611-9.08328e-17im  …   0.000423552-1.23623e-16im\n",
       "  2.00923e-16-2.96622e-17im      5.11789e-16-8.06646e-17im\n",
       "  3.70905e-17+2.17518e-18im      1.94784e-17-1.57209e-18im\n",
       "  8.73325e-16+1.1951e-16im       8.97177e-17-2.38524e-18im\n",
       " -0.000126381+3.95293e-17im      -0.00292762-2.35814e-18im\n",
       " -1.17356e-18+4.03188e-19im  …   1.92466e-16+6.80337e-18im\n",
       " -7.79524e-17-7.74866e-18im      1.04354e-18-4.33681e-18im\n",
       "  -1.7955e-15-2.54611e-16im     -5.13858e-16+1.76725e-17im\n",
       "  0.000423552-1.23623e-16im        0.0198897-4.10166e-20im"
      ]
     },
     "execution_count": 105,
     "metadata": {},
     "output_type": "execute_result"
    }
   ],
   "source": [
    "P1 = P.data\n",
    "P1t = Pt.data\n",
    "@einsum coefficient[k,l,m,n] := P1[k,i] * P1[l,i] * P1t[i,m] * P1t[i,n]"
   ]
  },
  {
   "cell_type": "code",
   "execution_count": 106,
   "id": "da16a59c-ec6c-4680-a979-61bb9e4798dd",
   "metadata": {},
   "outputs": [
    {
     "data": {
      "text/plain": [
       "-2.0973853174947253e-15 - 2.9879701313282204e-16im"
      ]
     },
     "execution_count": 106,
     "metadata": {},
     "output_type": "execute_result"
    }
   ],
   "source": [
    "coefficient[1,3,4,5]"
   ]
  },
  {
   "cell_type": "code",
   "execution_count": 107,
   "id": "8824a20e-adec-4986-affb-605a943ca1c6",
   "metadata": {},
   "outputs": [
    {
     "data": {
      "text/plain": [
       "-2.0970780562931088e-15 - 2.9901533587497683e-16im"
      ]
     },
     "execution_count": 107,
     "metadata": {},
     "output_type": "execute_result"
    }
   ],
   "source": [
    "coefficient[3,1,5,4]"
   ]
  },
  {
   "cell_type": "code",
   "execution_count": 108,
   "id": "33713f3e-c389-4ea2-8b86-a98659001029",
   "metadata": {},
   "outputs": [],
   "source": [
    "A = [destroy(Basis_Cut_MB, k) for k in 1:Cut_Off]\n",
    "At = [create(Basis_Cut_MB, k) for k in 1:Cut_Off];"
   ]
  },
  {
   "cell_type": "code",
   "execution_count": 109,
   "id": "0f605d8b-974d-4712-bff6-8dbc80d412e6",
   "metadata": {},
   "outputs": [
    {
     "data": {
      "text/plain": [
       "Operator(dim=220x220)\n",
       "  basis: ManyBody(onebodybasis=NLevel(N=9), states:220)sparse([13, 58, 66, 73, 74, 75, 76, 77, 78, 79], [36, 81, 117, 145, 166, 171, 172, 173, 174, 175], ComplexF64[1.0 + 0.0im, 1.4142135623730951 + 0.0im, 1.0 + 0.0im, 1.4142135623730951 + 0.0im, 1.4142135623730951 + 0.0im, 1.4142135623730951 + 0.0im, 1.0 + 0.0im, 1.0 + 0.0im, 1.0 + 0.0im, 1.0 + 0.0im], 220, 220)"
      ]
     },
     "execution_count": 109,
     "metadata": {},
     "output_type": "execute_result"
    }
   ],
   "source": [
    "At[1] * At[3] * A[4] * A[5]"
   ]
  },
  {
   "cell_type": "code",
   "execution_count": 110,
   "id": "9b9a2601-31fd-4df4-af2f-def0b2ef53ff",
   "metadata": {},
   "outputs": [
    {
     "data": {
      "text/plain": [
       "Operator(dim=220x220)\n",
       "  basis: ManyBody(onebodybasis=NLevel(N=9), states:220)sparse([13, 58, 66, 73, 74, 75, 76, 77, 78, 79], [36, 81, 117, 145, 166, 171, 172, 173, 174, 175], ComplexF64[1.0 + 0.0im, 1.4142135623730951 + 0.0im, 1.0 + 0.0im, 1.4142135623730951 + 0.0im, 1.4142135623730951 + 0.0im, 1.4142135623730951 + 0.0im, 1.0 + 0.0im, 1.0 + 0.0im, 1.0 + 0.0im, 1.0 + 0.0im], 220, 220)"
      ]
     },
     "execution_count": 110,
     "metadata": {},
     "output_type": "execute_result"
    }
   ],
   "source": [
    "At[3] * At[1] * A[5] * A[4]"
   ]
  },
  {
   "cell_type": "code",
   "execution_count": 141,
   "id": "f04debc3-bd73-42a8-b278-3a77273eeca5",
   "metadata": {},
   "outputs": [
    {
     "name": "stderr",
     "output_type": "stream",
     "text": [
      "0.0%┣                                              ┫ 0/100 [00:00<00:00, -0s/it]\n",
      "100.0%┣███████████████████████████████████████┫ 100/100 [00:00<00:00, 39.7kit/s]\n",
      "100.0%┣███████████████████████████████████████┫ 100/100 [00:00<00:00, 38.5kit/s]\n"
     ]
    },
    {
     "ename": "LoadError",
     "evalue": "InterruptException:",
     "output_type": "error",
     "traceback": [
      "InterruptException:",
      "",
      "Stacktrace:",
      "  [1] Array",
      "    @ ./boot.jl:477 [inlined]",
      "  [2] Array",
      "    @ ./boot.jl:486 [inlined]",
      "  [3] fill",
      "    @ ./array.jl:532 [inlined]",
      "  [4] fill",
      "    @ ./array.jl:530 [inlined]",
      "  [5] spzeros(#unused#::Type{ComplexF64}, #unused#::Type{Int64}, m::Int64, n::Int64)",
      "    @ SparseArrays ~/julia-1.9.3/share/julia/stdlib/v1.9/SparseArrays/src/sparsematrix.jl:1995",
      "  [6] spzeros",
      "    @ ~/julia-1.9.3/share/julia/stdlib/v1.9/SparseArrays/src/sparsematrix.jl:1999 [inlined]",
      "  [7] _allocres",
      "    @ ~/julia-1.9.3/share/julia/stdlib/v1.9/SparseArrays/src/higherorderfns.jl:253 [inlined]",
      "  [8] _noshapecheck_map(::SparseArrays.HigherOrderFns.var\"#3#4\"{typeof(*), SparseArrays.HigherOrderFns.var\"#17#20\"{ComplexF64, SparseArrays.HigherOrderFns.var\"#21#24\"}}, ::SparseMatrixCSC{ComplexF64, Int64})",
      "    @ SparseArrays.HigherOrderFns ~/julia-1.9.3/share/julia/stdlib/v1.9/SparseArrays/src/higherorderfns.jl:183",
      "  [9] _shapecheckbc",
      "    @ ~/julia-1.9.3/share/julia/stdlib/v1.9/SparseArrays/src/higherorderfns.jl:1061 [inlined]",
      " [10] _copy",
      "    @ ~/julia-1.9.3/share/julia/stdlib/v1.9/SparseArrays/src/higherorderfns.jl:1051 [inlined]",
      " [11] _copy",
      "    @ ~/julia-1.9.3/share/julia/stdlib/v1.9/SparseArrays/src/higherorderfns.jl:1056 [inlined]",
      " [12] copy",
      "    @ ~/julia-1.9.3/share/julia/stdlib/v1.9/SparseArrays/src/higherorderfns.jl:1047 [inlined]",
      " [13] materialize",
      "    @ ./broadcast.jl:873 [inlined]",
      " [14] broadcast_preserving_zero_d",
      "    @ ./broadcast.jl:862 [inlined]",
      " [15] *",
      "    @ ./arraymath.jl:21 [inlined]",
      " [16] *",
      "    @ ~/.julia/packages/QuantumOpticsBase/PqBOl/src/operators_dense.jl:90 [inlined]",
      " [17] get_mb_op(mb_basis::ManyBodyBasis{Vector{Int64}, NLevelBasis{Int64}, 0xa053f343942d3f5f, UInt64}, sp_op::Operator{NLevelBasis{Int64}, NLevelBasis{Int64}, Matrix{ComplexF64}})",
      "    @ Main ~/Kagome-Lattice/My Numerical Calculations/Many-Body/First Band Approximation Functions.ipynb:In[31]:17",
      " [18] #22",
      "    @ ./essentials.jl:0 [inlined]",
      " [19] iterate",
      "    @ ./generator.jl:47 [inlined]",
      " [20] collect_to!",
      "    @ ./array.jl:840 [inlined]",
      " [21] collect_to_with_first!",
      "    @ ./array.jl:818 [inlined]",
      " [22] collect(itr::Base.Generator{UnitRange{Int64}, var\"#22#24\"{ManyBodyBasis{Vector{Int64}, NLevelBasis{Int64}, 0xa053f343942d3f5f, UInt64}, Vector{Operator{NLevelBasis{Int64}, NLevelBasis{Int64}, Matrix{ComplexF64}}}}})",
      "    @ Base ./array.jl:792",
      " [23] get_num_mb_op(N::Int64, cut_sp_basis::NLevelBasis{Int64}, num_sub_list::Vector{Any}, cut_mb_basis::ManyBodyBasis{Vector{Int64}, NLevelBasis{Int64}, 0xa053f343942d3f5f, UInt64}, sub_basis::SubspaceBasis{Vector{Int64}, NLevelBasis{Int64}, Ket{NLevelBasis{Int64}, Vector{ComplexF64}}, 0x4e072a90301ce8d9, UInt64})",
      "    @ Main ~/Kagome-Lattice/My Numerical Calculations/Many-Body/First Band Approximation Functions.ipynb:In[1]:16",
      " [24] top-level scope",
      "    @ In[141]:1"
     ]
    }
   ],
   "source": [
    "Sub_Number_MB_Operator_List = get_num_mb_op(N_Site, Basis_Cut_Sp, Sub_Number_Operator_List, Basis_Cut_MB, Sub_Basis);"
   ]
  },
  {
   "cell_type": "code",
   "execution_count": 27,
   "id": "4497fafc-6eab-4fac-89a9-86aa4765baf3",
   "metadata": {
    "scrolled": true
   },
   "outputs": [],
   "source": [
    "Total_H = H_Kin + H_Int; #Hermitian Operator"
   ]
  },
  {
   "cell_type": "code",
   "execution_count": 28,
   "id": "5aafaf39-82c7-480c-90a8-ccf2a6595a66",
   "metadata": {},
   "outputs": [],
   "source": [
    "Total_H_1 = dense(Total_H).data\n",
    "E_1, U_1 = eigen((Total_H_1+Total_H_1')/2);"
   ]
  },
  {
   "cell_type": "code",
   "execution_count": 29,
   "id": "c1986a32-d2c4-4185-aaca-752960f30def",
   "metadata": {},
   "outputs": [],
   "source": [
    "Total_H_2 = dense(Total_H).data\n",
    "λ, Χ = eigen((Total_H_2+Total_H_2')/2);"
   ]
  },
  {
   "cell_type": "code",
   "execution_count": 30,
   "id": "6a946744-17f6-4200-a630-d77741dad4f9",
   "metadata": {},
   "outputs": [
    {
     "ename": "LoadError",
     "evalue": "MethodError: no method matching -(::Matrix{ComplexF64}, ::Float64)\nFor element-wise subtraction, use broadcasting with dot syntax: array .- scalar\n\n\u001b[0mClosest candidates are:\n\u001b[0m  -(\u001b[91m::T\u001b[39m, ::T) where T<:Union{Float16, Float32, Float64}\n\u001b[0m\u001b[90m   @\u001b[39m \u001b[90mBase\u001b[39m \u001b[90m\u001b[4mfloat.jl:409\u001b[24m\u001b[39m\n\u001b[0m  -(\u001b[91m::RecursiveArrayTools.ArrayPartition\u001b[39m, ::Number)\n\u001b[0m\u001b[90m   @\u001b[39m \u001b[35mRecursiveArrayTools\u001b[39m \u001b[90m~/.julia/packages/RecursiveArrayTools/gH9Kb/src/\u001b[39m\u001b[90m\u001b[4marray_partition.jl:125\u001b[24m\u001b[39m\n\u001b[0m  -(\u001b[91m::VectorizationBase.VecUnroll{N, W, T, V} where {T, V<:Union{Bool, Float16, Float32, Float64, Int16, Int32, Int64, Int8, UInt16, UInt32, UInt64, UInt8, SIMDTypes.Bit, VectorizationBase.AbstractSIMD{W, T}}}\u001b[39m, ::Union{Bool, Float16, Float32, Float64, Int16, Int32, Int64, Int8, UInt16, UInt32, UInt64, UInt8, SIMDTypes.Bit}) where {N, W}\n\u001b[0m\u001b[90m   @\u001b[39m \u001b[36mVectorizationBase\u001b[39m \u001b[90m~/.julia/packages/VectorizationBase/G9NJI/src/\u001b[39m\u001b[90m\u001b[4mbase_defs.jl:98\u001b[24m\u001b[39m\n\u001b[0m  ...\n",
     "output_type": "error",
     "traceback": [
      "MethodError: no method matching -(::Matrix{ComplexF64}, ::Float64)\nFor element-wise subtraction, use broadcasting with dot syntax: array .- scalar\n\n\u001b[0mClosest candidates are:\n\u001b[0m  -(\u001b[91m::T\u001b[39m, ::T) where T<:Union{Float16, Float32, Float64}\n\u001b[0m\u001b[90m   @\u001b[39m \u001b[90mBase\u001b[39m \u001b[90m\u001b[4mfloat.jl:409\u001b[24m\u001b[39m\n\u001b[0m  -(\u001b[91m::RecursiveArrayTools.ArrayPartition\u001b[39m, ::Number)\n\u001b[0m\u001b[90m   @\u001b[39m \u001b[35mRecursiveArrayTools\u001b[39m \u001b[90m~/.julia/packages/RecursiveArrayTools/gH9Kb/src/\u001b[39m\u001b[90m\u001b[4marray_partition.jl:125\u001b[24m\u001b[39m\n\u001b[0m  -(\u001b[91m::VectorizationBase.VecUnroll{N, W, T, V} where {T, V<:Union{Bool, Float16, Float32, Float64, Int16, Int32, Int64, Int8, UInt16, UInt32, UInt64, UInt8, SIMDTypes.Bit, VectorizationBase.AbstractSIMD{W, T}}}\u001b[39m, ::Union{Bool, Float16, Float32, Float64, Int16, Int32, Int64, Int8, UInt16, UInt32, UInt64, UInt8, SIMDTypes.Bit}) where {N, W}\n\u001b[0m\u001b[90m   @\u001b[39m \u001b[36mVectorizationBase\u001b[39m \u001b[90m~/.julia/packages/VectorizationBase/G9NJI/src/\u001b[39m\u001b[90m\u001b[4mbase_defs.jl:98\u001b[24m\u001b[39m\n\u001b[0m  ...\n",
      "",
      "Stacktrace:",
      " [1] top-level scope",
      "   @ In[30]:3"
     ]
    }
   ],
   "source": [
    "i = sortperm(λ, by=real)\n",
    "λ = λ[i]\n",
    "Χ = Χ[:, i]-3.141592653589793"
   ]
  },
  {
   "cell_type": "code",
   "execution_count": 31,
   "id": "f323540b-a2ff-476e-8b50-0c67294b7188",
   "metadata": {},
   "outputs": [
    {
     "data": {
      "text/plain": [
       "true"
      ]
     },
     "execution_count": 31,
     "metadata": {},
     "output_type": "execute_result"
    }
   ],
   "source": [
    "Χ == U_1"
   ]
  },
  {
   "cell_type": "markdown",
   "id": "46a61f15-c24b-4deb-977d-3e23bd8cf4a8",
   "metadata": {},
   "source": [
    "# Numeric Calculation of Flux Number per Plaquette $p/q$ in SP Level"
   ]
  },
  {
   "cell_type": "code",
   "execution_count": 236,
   "id": "9032db76-fa83-4cc6-8ce6-a7c4bb36f9a4",
   "metadata": {},
   "outputs": [
    {
     "data": {
      "text/plain": [
       "0.8975979010256552"
      ]
     },
     "execution_count": 236,
     "metadata": {},
     "output_type": "execute_result"
    }
   ],
   "source": [
    "(2*pi)*(p/q)"
   ]
  },
  {
   "cell_type": "code",
   "execution_count": 237,
   "id": "a7982ec5-ebfe-4742-90b3-344289fcdff9",
   "metadata": {},
   "outputs": [
    {
     "data": {
      "text/plain": [
       "-0.8976716709081023"
      ]
     },
     "execution_count": 237,
     "metadata": {},
     "output_type": "execute_result"
    }
   ],
   "source": [
    "angle((H_Sp.data)[11,12])+angle((H_Sp.data)[15,11])+angle((H_Sp.data)[16,15])+angle((H_Sp.data)[12,16])"
   ]
  },
  {
   "cell_type": "code",
   "execution_count": 92,
   "id": "d844f8ac-5610-44fb-85e2-8d90ffa7e7e7",
   "metadata": {},
   "outputs": [
    {
     "data": {
      "text/plain": [
       "-2.0941959233697696"
      ]
     },
     "execution_count": 92,
     "metadata": {},
     "output_type": "execute_result"
    }
   ],
   "source": [
    "angle((H_Sp.data)[15,16])+angle((H_Sp.data)[3,15])+angle((H_Sp.data)[4,3])+angle((H_Sp.data)[16,4])"
   ]
  },
  {
   "cell_type": "code",
   "execution_count": 93,
   "id": "59d35d9c-ba57-48f5-aa5f-2b0afe8e7ca6",
   "metadata": {},
   "outputs": [
    {
     "data": {
      "text/plain": [
       "4.188391846739538"
      ]
     },
     "execution_count": 93,
     "metadata": {},
     "output_type": "execute_result"
    }
   ],
   "source": [
    "angle((H_Sp.data)[8,12])+angle((H_Sp.data)[9,12])+angle((H_Sp.data)[5,9])+angle((H_Sp.data)[8,5])"
   ]
  },
  {
   "cell_type": "code",
   "execution_count": 94,
   "id": "2996dac8-d05a-44ae-87a2-8c539f8c5e92",
   "metadata": {},
   "outputs": [
    {
     "data": {
      "text/plain": [
       "1.056187406814294e-15"
      ]
     },
     "execution_count": 94,
     "metadata": {},
     "output_type": "execute_result"
    }
   ],
   "source": [
    "angle((H_Sp.data)[13,16])+angle((H_Sp.data)[1,13])+angle((H_Sp.data)[4,1])+angle((H_Sp.data)[16,4])"
   ]
  },
  {
   "cell_type": "code",
   "execution_count": 97,
   "id": "dfa15a65-93bb-4da3-b94f-4548734b4875",
   "metadata": {},
   "outputs": [
    {
     "data": {
      "text/plain": [
       "-3.141592653589793"
      ]
     },
     "execution_count": 97,
     "metadata": {},
     "output_type": "execute_result"
    }
   ],
   "source": [
    "angle((H_Sp.data)[4,1])"
   ]
  },
  {
   "cell_type": "code",
   "execution_count": 230,
   "id": "49922cf8-0cda-4b6b-89f4-be37c77722f5",
   "metadata": {},
   "outputs": [
    {
     "data": {
      "text/plain": [
       "-0.8976388405454536"
      ]
     },
     "execution_count": 230,
     "metadata": {},
     "output_type": "execute_result"
    }
   ],
   "source": [
    "angle((H_Sp.data)[13,16]*(H_Sp.data)[1,13]*(H_Sp.data)[4,1]*(H_Sp.data)[16,4])"
   ]
  },
  {
   "cell_type": "code",
   "execution_count": 231,
   "id": "a5705cdd-ccb7-45a9-a626-0c1b336b01eb",
   "metadata": {},
   "outputs": [
    {
     "data": {
      "text/plain": [
       "0.8975519060544785"
      ]
     },
     "execution_count": 231,
     "metadata": {},
     "output_type": "execute_result"
    }
   ],
   "source": [
    "angle((H_Sp.data)[5,8]*(H_Sp.data)[9,5]*(H_Sp.data)[12,9]*(H_Sp.data)[8,12])"
   ]
  },
  {
   "cell_type": "code",
   "execution_count": 232,
   "id": "9721822d-000a-401c-91c7-be6fdef7b16b",
   "metadata": {},
   "outputs": [
    {
     "data": {
      "text/plain": [
       "1.7951976069298923"
      ]
     },
     "execution_count": 232,
     "metadata": {},
     "output_type": "execute_result"
    }
   ],
   "source": [
    "angle((H_Sp.data)[5,6]*(H_Sp.data)[10,6]*(H_Sp.data)[9,10]*(H_Sp.data)[5,9])"
   ]
  },
  {
   "cell_type": "markdown",
   "id": "be2d0b63-9a64-4fd1-8570-1950e53877a7",
   "metadata": {},
   "source": [
    "# Impurity"
   ]
  },
  {
   "cell_type": "code",
   "execution_count": 229,
   "id": "ce2350be-5ab2-40ee-ac9b-2303e6660a9e",
   "metadata": {},
   "outputs": [
    {
     "data": {
      "image/png": "[encoded data removed]",
      "image/svg+xml": [
       "<?xml version=\"1.0\" encoding=\"utf-8\"?>\n",
       "<svg xmlns=\"http://www.w3.org/2000/svg\" xmlns:xlink=\"http://www.w3.org/1999/xlink\" width=\"600\" height=\"400\" viewBox=\"0 0 2400 1600\">\n",
       "<defs>\n",
       "  <clipPath id=\"clip210\">\n",
       "    <rect x=\"0\" y=\"0\" width=\"2400\" height=\"1600\"/>\n",
       "  </clipPath>\n",
       "</defs>\n",
       "<path clip-path=\"url(#clip210)\" d=\"M0 1600 L2400 1600 L2400 0 L0 0  Z\" fill=\"#ffffff\" fill-rule=\"evenodd\" fill-opacity=\"1\"/>\n",
       "<defs>\n",
       "  <clipPath id=\"clip211\">\n",
       "    <rect x=\"480\" y=\"0\" width=\"1681\" height=\"1600\"/>\n",
       "  </clipPath>\n",
       "</defs>\n",
       "<path clip-path=\"url(#clip210)\" d=\"M110.881 1486.45 L2352.76 1486.45 L2352.76 47.2441 L110.881 47.2441  Z\" fill=\"#ffffff\" fill-rule=\"evenodd\" fill-opacity=\"1\"/>\n",
       "<defs>\n",
       "  <clipPath id=\"clip212\">\n",
       "    <rect x=\"110\" y=\"47\" width=\"2243\" height=\"1440\"/>\n",
       "  </clipPath>\n",
       "</defs>\n",
       "<polyline clip-path=\"url(#clip212)\" style=\"stroke:#000000; stroke-linecap:round; stroke-linejoin:round; stroke-width:2; stroke-opacity:0.1; fill:none\" points=\"174.33,1486.45 174.33,47.2441 \"/>\n",
       "<polyline clip-path=\"url(#clip212)\" style=\"stroke:#000000; stroke-linecap:round; stroke-linejoin:round; stroke-width:2; stroke-opacity:0.1; fill:none\" points=\"879.322,1486.45 879.322,47.2441 \"/>\n",
       "<polyline clip-path=\"url(#clip212)\" style=\"stroke:#000000; stroke-linecap:round; stroke-linejoin:round; stroke-width:2; stroke-opacity:0.1; fill:none\" points=\"1584.31,1486.45 1584.31,47.2441 \"/>\n",
       "<polyline clip-path=\"url(#clip212)\" style=\"stroke:#000000; stroke-linecap:round; stroke-linejoin:round; stroke-width:2; stroke-opacity:0.1; fill:none\" points=\"2289.31,1486.45 2289.31,47.2441 \"/>\n",
       "<polyline clip-path=\"url(#clip210)\" style=\"stroke:#000000; stroke-linecap:round; stroke-linejoin:round; stroke-width:4; stroke-opacity:1; fill:none\" points=\"110.881,1486.45 2352.76,1486.45 \"/>\n",
       "<polyline clip-path=\"url(#clip210)\" style=\"stroke:#000000; stroke-linecap:round; stroke-linejoin:round; stroke-width:4; stroke-opacity:1; fill:none\" points=\"174.33,1486.45 174.33,1467.55 \"/>\n",
       "<polyline clip-path=\"url(#clip210)\" style=\"stroke:#000000; stroke-linecap:round; stroke-linejoin:round; stroke-width:4; stroke-opacity:1; fill:none\" points=\"879.322,1486.45 879.322,1467.55 \"/>\n",
       "<polyline clip-path=\"url(#clip210)\" style=\"stroke:#000000; stroke-linecap:round; stroke-linejoin:round; stroke-width:4; stroke-opacity:1; fill:none\" points=\"1584.31,1486.45 1584.31,1467.55 \"/>\n",
       "<polyline clip-path=\"url(#clip210)\" style=\"stroke:#000000; stroke-linecap:round; stroke-linejoin:round; stroke-width:4; stroke-opacity:1; fill:none\" points=\"2289.31,1486.45 2289.31,1467.55 \"/>\n",
       "<path clip-path=\"url(#clip210)\" d=\"M174.33 1517.37 Q170.719 1517.37 168.89 1520.93 Q167.085 1524.47 167.085 1531.6 Q167.085 1538.71 168.89 1542.27 Q170.719 1545.82 174.33 1545.82 Q177.964 1545.82 179.77 1542.27 Q181.599 1538.71 181.599 1531.6 Q181.599 1524.47 179.77 1520.93 Q177.964 1517.37 174.33 1517.37 M174.33 1513.66 Q180.14 1513.66 183.196 1518.27 Q186.275 1522.85 186.275 1531.6 Q186.275 1540.33 183.196 1544.94 Q180.14 1549.52 174.33 1549.52 Q168.52 1549.52 165.441 1544.94 Q162.386 1540.33 162.386 1531.6 Q162.386 1522.85 165.441 1518.27 Q168.52 1513.66 174.33 1513.66 Z\" fill=\"#000000\" fill-rule=\"nonzero\" fill-opacity=\"1\" /><path clip-path=\"url(#clip210)\" d=\"M869.704 1544.91 L877.343 1544.91 L877.343 1518.55 L869.033 1520.21 L869.033 1515.95 L877.297 1514.29 L881.973 1514.29 L881.973 1544.91 L889.612 1544.91 L889.612 1548.85 L869.704 1548.85 L869.704 1544.91 Z\" fill=\"#000000\" fill-rule=\"nonzero\" fill-opacity=\"1\" /><path clip-path=\"url(#clip210)\" d=\"M1578.97 1544.91 L1595.29 1544.91 L1595.29 1548.85 L1573.34 1548.85 L1573.34 1544.91 Q1576 1542.16 1580.59 1537.53 Q1585.19 1532.88 1586.37 1531.53 Q1588.62 1529.01 1589.5 1527.27 Q1590.4 1525.51 1590.4 1523.82 Q1590.4 1521.07 1588.46 1519.33 Q1586.54 1517.6 1583.43 1517.6 Q1581.24 1517.6 1578.78 1518.36 Q1576.35 1519.13 1573.57 1520.68 L1573.57 1515.95 Q1576.4 1514.82 1578.85 1514.24 Q1581.31 1513.66 1583.34 1513.66 Q1588.71 1513.66 1591.91 1516.35 Q1595.1 1519.03 1595.1 1523.52 Q1595.1 1525.65 1594.29 1527.57 Q1593.5 1529.47 1591.4 1532.07 Q1590.82 1532.74 1587.72 1535.95 Q1584.62 1539.15 1578.97 1544.91 Z\" fill=\"#000000\" fill-rule=\"nonzero\" fill-opacity=\"1\" /><path clip-path=\"url(#clip210)\" d=\"M2293.55 1530.21 Q2296.91 1530.93 2298.79 1533.2 Q2300.68 1535.47 2300.68 1538.8 Q2300.68 1543.92 2297.17 1546.72 Q2293.65 1549.52 2287.17 1549.52 Q2284.99 1549.52 2282.67 1549.08 Q2280.38 1548.66 2277.93 1547.81 L2277.93 1543.29 Q2279.87 1544.43 2282.19 1545.01 Q2284.5 1545.58 2287.03 1545.58 Q2291.42 1545.58 2293.72 1543.85 Q2296.03 1542.11 2296.03 1538.8 Q2296.03 1535.75 2293.88 1534.03 Q2291.75 1532.3 2287.93 1532.3 L2283.9 1532.3 L2283.9 1528.45 L2288.11 1528.45 Q2291.56 1528.45 2293.39 1527.09 Q2295.22 1525.7 2295.22 1523.11 Q2295.22 1520.45 2293.32 1519.03 Q2291.45 1517.6 2287.93 1517.6 Q2286.01 1517.6 2283.81 1518.01 Q2281.61 1518.43 2278.97 1519.31 L2278.97 1515.14 Q2281.63 1514.4 2283.95 1514.03 Q2286.29 1513.66 2288.35 1513.66 Q2293.67 1513.66 2296.77 1516.09 Q2299.87 1518.5 2299.87 1522.62 Q2299.87 1525.49 2298.23 1527.48 Q2296.59 1529.45 2293.55 1530.21 Z\" fill=\"#000000\" fill-rule=\"nonzero\" fill-opacity=\"1\" /><polyline clip-path=\"url(#clip212)\" style=\"stroke:#000000; stroke-linecap:round; stroke-linejoin:round; stroke-width:2; stroke-opacity:0.1; fill:none\" points=\"110.881,1445.72 2352.76,1445.72 \"/>\n",
       "<polyline clip-path=\"url(#clip212)\" style=\"stroke:#000000; stroke-linecap:round; stroke-linejoin:round; stroke-width:2; stroke-opacity:0.1; fill:none\" points=\"110.881,993.136 2352.76,993.136 \"/>\n",
       "<polyline clip-path=\"url(#clip212)\" style=\"stroke:#000000; stroke-linecap:round; stroke-linejoin:round; stroke-width:2; stroke-opacity:0.1; fill:none\" points=\"110.881,540.556 2352.76,540.556 \"/>\n",
       "<polyline clip-path=\"url(#clip212)\" style=\"stroke:#000000; stroke-linecap:round; stroke-linejoin:round; stroke-width:2; stroke-opacity:0.1; fill:none\" points=\"110.881,87.9763 2352.76,87.9763 \"/>\n",
       "<polyline clip-path=\"url(#clip210)\" style=\"stroke:#000000; stroke-linecap:round; stroke-linejoin:round; stroke-width:4; stroke-opacity:1; fill:none\" points=\"110.881,1486.45 110.881,47.2441 \"/>\n",
       "<polyline clip-path=\"url(#clip210)\" style=\"stroke:#000000; stroke-linecap:round; stroke-linejoin:round; stroke-width:4; stroke-opacity:1; fill:none\" points=\"110.881,1445.72 129.779,1445.72 \"/>\n",
       "<polyline clip-path=\"url(#clip210)\" style=\"stroke:#000000; stroke-linecap:round; stroke-linejoin:round; stroke-width:4; stroke-opacity:1; fill:none\" points=\"110.881,993.136 129.779,993.136 \"/>\n",
       "<polyline clip-path=\"url(#clip210)\" style=\"stroke:#000000; stroke-linecap:round; stroke-linejoin:round; stroke-width:4; stroke-opacity:1; fill:none\" points=\"110.881,540.556 129.779,540.556 \"/>\n",
       "<polyline clip-path=\"url(#clip210)\" style=\"stroke:#000000; stroke-linecap:round; stroke-linejoin:round; stroke-width:4; stroke-opacity:1; fill:none\" points=\"110.881,87.9763 129.779,87.9763 \"/>\n",
       "<path clip-path=\"url(#clip210)\" d=\"M62.9365 1431.51 Q59.3254 1431.51 57.4967 1435.08 Q55.6912 1438.62 55.6912 1445.75 Q55.6912 1452.86 57.4967 1456.42 Q59.3254 1459.96 62.9365 1459.96 Q66.5707 1459.96 68.3763 1456.42 Q70.205 1452.86 70.205 1445.75 Q70.205 1438.62 68.3763 1435.08 Q66.5707 1431.51 62.9365 1431.51 M62.9365 1427.81 Q68.7467 1427.81 71.8022 1432.42 Q74.8809 1437 74.8809 1445.75 Q74.8809 1454.48 71.8022 1459.08 Q68.7467 1463.67 62.9365 1463.67 Q57.1264 1463.67 54.0477 1459.08 Q50.9921 1454.48 50.9921 1445.75 Q50.9921 1437 54.0477 1432.42 Q57.1264 1427.81 62.9365 1427.81 Z\" fill=\"#000000\" fill-rule=\"nonzero\" fill-opacity=\"1\" /><path clip-path=\"url(#clip210)\" d=\"M54.9736 1006.48 L62.6124 1006.48 L62.6124 980.115 L54.3023 981.782 L54.3023 977.523 L62.5661 975.856 L67.242 975.856 L67.242 1006.48 L74.8809 1006.48 L74.8809 1010.42 L54.9736 1010.42 L54.9736 1006.48 Z\" fill=\"#000000\" fill-rule=\"nonzero\" fill-opacity=\"1\" /><path clip-path=\"url(#clip210)\" d=\"M58.5615 553.901 L74.8809 553.901 L74.8809 557.836 L52.9366 557.836 L52.9366 553.901 Q55.5986 551.146 60.1819 546.517 Q64.7883 541.864 65.9689 540.521 Q68.2143 537.998 69.0939 536.262 Q69.9967 534.503 69.9967 532.813 Q69.9967 530.058 68.0522 528.322 Q66.1309 526.586 63.0291 526.586 Q60.83 526.586 58.3763 527.35 Q55.9458 528.114 53.168 529.665 L53.168 524.943 Q55.9921 523.808 58.4458 523.23 Q60.8995 522.651 62.9365 522.651 Q68.3068 522.651 71.5013 525.336 Q74.6957 528.021 74.6957 532.512 Q74.6957 534.642 73.8855 536.563 Q73.0985 538.461 70.992 541.054 Q70.4133 541.725 67.3115 544.943 Q64.2096 548.137 58.5615 553.901 Z\" fill=\"#000000\" fill-rule=\"nonzero\" fill-opacity=\"1\" /><path clip-path=\"url(#clip210)\" d=\"M67.7513 86.6221 Q71.1078 87.3397 72.9827 89.6082 Q74.8809 91.8767 74.8809 95.21 Q74.8809 100.326 71.3624 103.127 Q67.8439 105.928 61.3624 105.928 Q59.1865 105.928 56.8717 105.488 Q54.5801 105.071 52.1264 104.215 L52.1264 99.7008 Q54.0708 100.835 56.3856 101.414 Q58.7004 101.992 61.2236 101.992 Q65.6217 101.992 67.9133 100.256 Q70.2281 98.5202 70.2281 95.21 Q70.2281 92.1545 68.0754 90.4415 Q65.9457 88.7054 62.1263 88.7054 L58.0986 88.7054 L58.0986 84.8629 L62.3115 84.8629 Q65.7606 84.8629 67.5893 83.4971 Q69.418 82.1083 69.418 79.5157 Q69.418 76.8537 67.5198 75.4416 Q65.6448 74.0064 62.1263 74.0064 Q60.205 74.0064 58.006 74.4231 Q55.8069 74.8398 53.168 75.7194 L53.168 71.5528 Q55.8301 70.812 58.1449 70.4416 Q60.4828 70.0713 62.543 70.0713 Q67.867 70.0713 70.9689 72.5018 Q74.0707 74.9092 74.0707 79.0296 Q74.0707 81.8999 72.4272 83.8907 Q70.7837 85.8582 67.7513 86.6221 Z\" fill=\"#000000\" fill-rule=\"nonzero\" fill-opacity=\"1\" /><circle clip-path=\"url(#clip212)\" cx=\"174.33\" cy=\"1445.72\" r=\"14.4\" fill=\"#009af9\" fill-rule=\"evenodd\" fill-opacity=\"1\" stroke=\"#000000\" stroke-opacity=\"1\" stroke-width=\"3.2\"/>\n",
       "<circle clip-path=\"url(#clip212)\" cx=\"879.322\" cy=\"1445.72\" r=\"14.4\" fill=\"#009af9\" fill-rule=\"evenodd\" fill-opacity=\"1\" stroke=\"#000000\" stroke-opacity=\"1\" stroke-width=\"3.2\"/>\n",
       "<circle clip-path=\"url(#clip212)\" cx=\"1584.31\" cy=\"1445.72\" r=\"14.4\" fill=\"#009af9\" fill-rule=\"evenodd\" fill-opacity=\"1\" stroke=\"#000000\" stroke-opacity=\"1\" stroke-width=\"3.2\"/>\n",
       "<circle clip-path=\"url(#clip212)\" cx=\"2289.31\" cy=\"1445.72\" r=\"14.4\" fill=\"#009af9\" fill-rule=\"evenodd\" fill-opacity=\"1\" stroke=\"#000000\" stroke-opacity=\"1\" stroke-width=\"3.2\"/>\n",
       "<circle clip-path=\"url(#clip212)\" cx=\"174.33\" cy=\"993.136\" r=\"14.4\" fill=\"#009af9\" fill-rule=\"evenodd\" fill-opacity=\"1\" stroke=\"#000000\" stroke-opacity=\"1\" stroke-width=\"3.2\"/>\n",
       "<circle clip-path=\"url(#clip212)\" cx=\"879.322\" cy=\"993.136\" r=\"14.4\" fill=\"#009af9\" fill-rule=\"evenodd\" fill-opacity=\"1\" stroke=\"#000000\" stroke-opacity=\"1\" stroke-width=\"3.2\"/>\n",
       "<circle clip-path=\"url(#clip212)\" cx=\"1584.31\" cy=\"993.136\" r=\"14.4\" fill=\"#009af9\" fill-rule=\"evenodd\" fill-opacity=\"1\" stroke=\"#000000\" stroke-opacity=\"1\" stroke-width=\"3.2\"/>\n",
       "<circle clip-path=\"url(#clip212)\" cx=\"2289.31\" cy=\"993.136\" r=\"14.4\" fill=\"#009af9\" fill-rule=\"evenodd\" fill-opacity=\"1\" stroke=\"#000000\" stroke-opacity=\"1\" stroke-width=\"3.2\"/>\n",
       "<circle clip-path=\"url(#clip212)\" cx=\"174.33\" cy=\"540.556\" r=\"14.4\" fill=\"#009af9\" fill-rule=\"evenodd\" fill-opacity=\"1\" stroke=\"#000000\" stroke-opacity=\"1\" stroke-width=\"3.2\"/>\n",
       "<circle clip-path=\"url(#clip212)\" cx=\"879.322\" cy=\"540.556\" r=\"14.4\" fill=\"#009af9\" fill-rule=\"evenodd\" fill-opacity=\"1\" stroke=\"#000000\" stroke-opacity=\"1\" stroke-width=\"3.2\"/>\n",
       "<circle clip-path=\"url(#clip212)\" cx=\"1584.31\" cy=\"540.556\" r=\"14.4\" fill=\"#009af9\" fill-rule=\"evenodd\" fill-opacity=\"1\" stroke=\"#000000\" stroke-opacity=\"1\" stroke-width=\"3.2\"/>\n",
       "<circle clip-path=\"url(#clip212)\" cx=\"2289.31\" cy=\"540.556\" r=\"14.4\" fill=\"#009af9\" fill-rule=\"evenodd\" fill-opacity=\"1\" stroke=\"#000000\" stroke-opacity=\"1\" stroke-width=\"3.2\"/>\n",
       "<circle clip-path=\"url(#clip212)\" cx=\"174.33\" cy=\"87.9763\" r=\"14.4\" fill=\"#009af9\" fill-rule=\"evenodd\" fill-opacity=\"1\" stroke=\"#000000\" stroke-opacity=\"1\" stroke-width=\"3.2\"/>\n",
       "<circle clip-path=\"url(#clip212)\" cx=\"879.322\" cy=\"87.9763\" r=\"14.4\" fill=\"#009af9\" fill-rule=\"evenodd\" fill-opacity=\"1\" stroke=\"#000000\" stroke-opacity=\"1\" stroke-width=\"3.2\"/>\n",
       "<circle clip-path=\"url(#clip212)\" cx=\"1584.31\" cy=\"87.9763\" r=\"14.4\" fill=\"#009af9\" fill-rule=\"evenodd\" fill-opacity=\"1\" stroke=\"#000000\" stroke-opacity=\"1\" stroke-width=\"3.2\"/>\n",
       "<circle clip-path=\"url(#clip212)\" cx=\"2289.31\" cy=\"87.9763\" r=\"14.4\" fill=\"#009af9\" fill-rule=\"evenodd\" fill-opacity=\"1\" stroke=\"#000000\" stroke-opacity=\"1\" stroke-width=\"3.2\"/>\n",
       "<path clip-path=\"url(#clip210)\" d=\"M157.499 1420.69 L170.867 1420.69 L170.867 1374.55 L156.324 1377.46 L156.324 1370.01 L170.786 1367.09 L178.968 1367.09 L178.968 1420.69 L192.336 1420.69 L192.336 1427.57 L157.499 1427.57 L157.499 1420.69 Z\" fill=\"#000000\" fill-rule=\"nonzero\" fill-opacity=\"1\" /><path clip-path=\"url(#clip210)\" d=\"M869.965 1420.69 L898.524 1420.69 L898.524 1427.57 L860.121 1427.57 L860.121 1420.69 Q864.78 1415.86 872.8 1407.76 Q880.862 1399.62 882.928 1397.27 Q886.857 1392.86 888.396 1389.82 Q889.976 1386.74 889.976 1383.78 Q889.976 1378.96 886.573 1375.92 Q883.211 1372.88 877.783 1372.88 Q873.935 1372.88 869.641 1374.22 Q865.387 1375.56 860.526 1378.27 L860.526 1370.01 Q865.468 1368.02 869.762 1367.01 Q874.056 1366 877.621 1366 Q887.019 1366 892.609 1370.7 Q898.2 1375.4 898.2 1383.25 Q898.2 1386.98 896.782 1390.34 Q895.404 1393.67 891.718 1398.2 Q890.705 1399.38 885.277 1405.01 Q879.849 1410.6 869.965 1420.69 Z\" fill=\"#000000\" fill-rule=\"nonzero\" fill-opacity=\"1\" /><path clip-path=\"url(#clip210)\" d=\"M1591.75 1394.96 Q1597.62 1396.22 1600.9 1400.19 Q1604.22 1404.16 1604.22 1409.99 Q1604.22 1418.94 1598.07 1423.84 Q1591.91 1428.75 1580.57 1428.75 Q1576.76 1428.75 1572.71 1427.98 Q1568.7 1427.25 1564.4 1425.75 L1564.4 1417.85 Q1567.81 1419.83 1571.86 1420.85 Q1575.91 1421.86 1580.32 1421.86 Q1588.02 1421.86 1592.03 1418.82 Q1596.08 1415.78 1596.08 1409.99 Q1596.08 1404.64 1592.32 1401.65 Q1588.59 1398.61 1581.9 1398.61 L1574.86 1398.61 L1574.86 1391.88 L1582.23 1391.88 Q1588.26 1391.88 1591.46 1389.49 Q1594.66 1387.06 1594.66 1382.53 Q1594.66 1377.87 1591.34 1375.4 Q1588.06 1372.88 1581.9 1372.88 Q1578.54 1372.88 1574.69 1373.61 Q1570.85 1374.34 1566.23 1375.88 L1566.23 1368.59 Q1570.89 1367.29 1574.94 1366.65 Q1579.03 1366 1582.63 1366 Q1591.95 1366 1597.38 1370.25 Q1602.81 1374.46 1602.81 1381.67 Q1602.81 1386.7 1599.93 1390.18 Q1597.05 1393.63 1591.75 1394.96 Z\" fill=\"#000000\" fill-rule=\"nonzero\" fill-opacity=\"1\" /><path clip-path=\"url(#clip210)\" d=\"M2294.57 1374.22 L2273.91 1406.51 L2294.57 1406.51 L2294.57 1374.22 M2292.43 1367.09 L2302.72 1367.09 L2302.72 1406.51 L2311.34 1406.51 L2311.34 1413.31 L2302.72 1413.31 L2302.72 1427.57 L2294.57 1427.57 L2294.57 1413.31 L2267.27 1413.31 L2267.27 1405.41 L2292.43 1367.09 Z\" fill=\"#000000\" fill-rule=\"nonzero\" fill-opacity=\"1\" /><path clip-path=\"url(#clip210)\" d=\"M157.316 914.512 L189.44 914.512 L189.44 921.398 L164.811 921.398 L164.811 936.225 Q166.593 935.617 168.375 935.334 Q170.158 935.009 171.94 935.009 Q182.067 935.009 187.982 940.559 Q193.896 946.109 193.896 955.588 Q193.896 965.351 187.82 970.779 Q181.743 976.167 170.684 976.167 Q166.877 976.167 162.907 975.519 Q158.977 974.87 154.764 973.574 L154.764 965.351 Q158.41 967.336 162.299 968.308 Q166.188 969.28 170.522 969.28 Q177.53 969.28 181.622 965.594 Q185.713 961.907 185.713 955.588 Q185.713 949.269 181.622 945.582 Q177.53 941.896 170.522 941.896 Q167.241 941.896 163.96 942.625 Q160.719 943.354 157.316 944.894 L157.316 914.512 Z\" fill=\"#000000\" fill-rule=\"nonzero\" fill-opacity=\"1\" /><path clip-path=\"url(#clip210)\" d=\"M880.031 941.491 Q874.522 941.491 871.281 945.258 Q868.081 949.026 868.081 955.588 Q868.081 962.11 871.281 965.918 Q874.522 969.685 880.031 969.685 Q885.54 969.685 888.741 965.918 Q891.981 962.11 891.981 955.588 Q891.981 949.026 888.741 945.258 Q885.54 941.491 880.031 941.491 M896.275 915.849 L896.275 923.302 Q893.197 921.844 890.037 921.074 Q886.918 920.305 883.839 920.305 Q875.737 920.305 871.443 925.773 Q867.19 931.242 866.582 942.301 Q868.972 938.777 872.578 936.913 Q876.183 935.009 880.517 935.009 Q889.632 935.009 894.898 940.559 Q900.205 946.068 900.205 955.588 Q900.205 964.905 894.696 970.536 Q889.186 976.167 880.031 976.167 Q869.539 976.167 863.99 968.146 Q858.44 960.085 858.44 944.813 Q858.44 930.472 865.245 921.966 Q872.051 913.418 883.515 913.418 Q886.594 913.418 889.713 914.026 Q892.873 914.633 896.275 915.849 Z\" fill=\"#000000\" fill-rule=\"nonzero\" fill-opacity=\"1\" /><path clip-path=\"url(#clip210)\" d=\"M1564.87 914.512 L1603.76 914.512 L1603.76 917.996 L1581.8 974.992 L1573.26 974.992 L1593.92 921.398 L1564.87 921.398 L1564.87 914.512 Z\" fill=\"#000000\" fill-rule=\"nonzero\" fill-opacity=\"1\" /><path clip-path=\"url(#clip210)\" d=\"M2289.31 946.271 Q2283.47 946.271 2280.11 949.39 Q2276.79 952.509 2276.79 957.978 Q2276.79 963.447 2280.11 966.566 Q2283.47 969.685 2289.31 969.685 Q2295.14 969.685 2298.5 966.566 Q2301.86 963.406 2301.86 957.978 Q2301.86 952.509 2298.5 949.39 Q2295.18 946.271 2289.31 946.271 M2281.12 942.787 Q2275.86 941.491 2272.9 937.886 Q2269.98 934.28 2269.98 929.095 Q2269.98 921.844 2275.13 917.631 Q2280.31 913.418 2289.31 913.418 Q2298.34 913.418 2303.48 917.631 Q2308.63 921.844 2308.63 929.095 Q2308.63 934.28 2305.67 937.886 Q2302.76 941.491 2297.53 942.787 Q2303.44 944.165 2306.73 948.175 Q2310.05 952.185 2310.05 957.978 Q2310.05 966.769 2304.66 971.468 Q2299.31 976.167 2289.31 976.167 Q2279.3 976.167 2273.91 971.468 Q2268.57 966.769 2268.57 957.978 Q2268.57 952.185 2271.89 948.175 Q2275.21 944.165 2281.12 942.787 M2278.13 929.865 Q2278.13 934.564 2281.04 937.197 Q2284 939.83 2289.31 939.83 Q2294.57 939.83 2297.53 937.197 Q2300.53 934.564 2300.53 929.865 Q2300.53 925.166 2297.53 922.533 Q2294.57 919.9 2289.31 919.9 Q2284 919.9 2281.04 922.533 Q2278.13 925.166 2278.13 929.865 Z\" fill=\"#000000\" fill-rule=\"nonzero\" fill-opacity=\"1\" /><path clip-path=\"url(#clip210)\" d=\"M157.357 521.156 L157.357 513.703 Q160.436 515.161 163.595 515.931 Q166.755 516.7 169.793 516.7 Q177.895 516.7 182.148 511.272 Q186.442 505.803 187.05 494.704 Q184.7 498.188 181.095 500.051 Q177.49 501.915 173.115 501.915 Q164.041 501.915 158.734 496.446 Q153.468 490.937 153.468 481.417 Q153.468 472.1 158.977 466.469 Q164.486 460.838 173.642 460.838 Q184.133 460.838 189.643 468.9 Q195.192 476.92 195.192 492.233 Q195.192 506.533 188.387 515.08 Q181.622 523.587 170.158 523.587 Q167.079 523.587 163.919 522.979 Q160.76 522.372 157.357 521.156 M173.642 495.514 Q179.151 495.514 182.351 491.747 Q185.592 487.979 185.592 481.417 Q185.592 474.895 182.351 471.128 Q179.151 467.32 173.642 467.32 Q168.132 467.32 164.892 471.128 Q161.691 474.895 161.691 481.417 Q161.691 487.979 164.892 491.747 Q168.132 495.514 173.642 495.514 Z\" fill=\"#000000\" fill-rule=\"nonzero\" fill-opacity=\"1\" /><path clip-path=\"url(#clip210)\" d=\"M835.026 515.526 L848.394 515.526 L848.394 469.386 L833.851 472.302 L833.851 464.849 L848.313 461.932 L856.495 461.932 L856.495 515.526 L869.863 515.526 L869.863 522.412 L835.026 522.412 L835.026 515.526 Z\" fill=\"#000000\" fill-rule=\"nonzero\" fill-opacity=\"1\" /><path clip-path=\"url(#clip210)\" d=\"M903.891 467.32 Q897.572 467.32 894.371 473.558 Q891.212 479.756 891.212 492.233 Q891.212 504.669 894.371 510.908 Q897.572 517.105 903.891 517.105 Q910.251 517.105 913.411 510.908 Q916.611 504.669 916.611 492.233 Q916.611 479.756 913.411 473.558 Q910.251 467.32 903.891 467.32 M903.891 460.838 Q914.059 460.838 919.406 468.9 Q924.794 476.92 924.794 492.233 Q924.794 507.505 919.406 515.566 Q914.059 523.587 903.891 523.587 Q893.723 523.587 888.336 515.566 Q882.988 507.505 882.988 492.233 Q882.988 476.92 888.336 468.9 Q893.723 460.838 903.891 460.838 Z\" fill=\"#000000\" fill-rule=\"nonzero\" fill-opacity=\"1\" /><path clip-path=\"url(#clip210)\" d=\"M1541.09 515.526 L1554.46 515.526 L1554.46 469.386 L1539.92 472.302 L1539.92 464.849 L1554.38 461.932 L1562.56 461.932 L1562.56 515.526 L1575.93 515.526 L1575.93 522.412 L1541.09 522.412 L1541.09 515.526 Z\" fill=\"#000000\" fill-rule=\"nonzero\" fill-opacity=\"1\" /><path clip-path=\"url(#clip210)\" d=\"M1593.87 515.526 L1607.24 515.526 L1607.24 469.386 L1592.7 472.302 L1592.7 464.849 L1607.16 461.932 L1615.34 461.932 L1615.34 515.526 L1628.71 515.526 L1628.71 522.412 L1593.87 522.412 L1593.87 515.526 Z\" fill=\"#000000\" fill-rule=\"nonzero\" fill-opacity=\"1\" /><path clip-path=\"url(#clip210)\" d=\"M2246.41 515.526 L2259.78 515.526 L2259.78 469.386 L2245.23 472.302 L2245.23 464.849 L2259.69 461.932 L2267.88 461.932 L2267.88 515.526 L2281.25 515.526 L2281.25 522.412 L2246.41 522.412 L2246.41 515.526 Z\" fill=\"#000000\" fill-rule=\"nonzero\" fill-opacity=\"1\" /><path clip-path=\"url(#clip210)\" d=\"M2304.82 515.526 L2333.38 515.526 L2333.38 522.412 L2294.98 522.412 L2294.98 515.526 Q2299.64 510.705 2307.66 502.603 Q2315.72 494.461 2317.78 492.111 Q2321.71 487.696 2323.25 484.658 Q2324.83 481.579 2324.83 478.622 Q2324.83 473.801 2321.43 470.763 Q2318.07 467.725 2312.64 467.725 Q2308.79 467.725 2304.5 469.062 Q2300.24 470.398 2295.38 473.113 L2295.38 464.849 Q2300.33 462.864 2304.62 461.851 Q2308.91 460.838 2312.48 460.838 Q2321.88 460.838 2327.47 465.537 Q2333.06 470.236 2333.06 478.095 Q2333.06 481.822 2331.64 485.184 Q2330.26 488.506 2326.57 493.043 Q2325.56 494.218 2320.13 499.849 Q2314.71 505.439 2304.82 515.526 Z\" fill=\"#000000\" fill-rule=\"nonzero\" fill-opacity=\"1\" /><path clip-path=\"url(#clip210)\" d=\"M130.601 62.9457 L143.969 62.9457 L143.969 16.8059 L129.426 19.7226 L129.426 12.2689 L143.888 9.35228 L152.07 9.35228 L152.07 62.9457 L165.438 62.9457 L165.438 69.8323 L130.601 69.8323 L130.601 62.9457 Z\" fill=\"#000000\" fill-rule=\"nonzero\" fill-opacity=\"1\" /><path clip-path=\"url(#clip210)\" d=\"M206.758 37.2225 Q212.631 38.4783 215.913 42.4482 Q219.234 46.4181 219.234 52.2514 Q219.234 61.2039 213.077 66.1054 Q206.92 71.007 195.577 71.007 Q191.769 71.007 187.718 70.2374 Q183.708 69.5082 179.414 68.0094 L179.414 60.1101 Q182.817 62.095 186.868 63.1078 Q190.919 64.1205 195.334 64.1205 Q203.031 64.1205 207.041 61.0823 Q211.092 58.0441 211.092 52.2514 Q211.092 46.9042 207.325 43.9065 Q203.598 40.8683 196.914 40.8683 L189.865 40.8683 L189.865 34.1438 L197.238 34.1438 Q203.274 34.1438 206.474 31.7538 Q209.674 29.3232 209.674 24.7862 Q209.674 20.1277 206.353 17.6566 Q203.071 15.1451 196.914 15.1451 Q193.552 15.1451 189.703 15.8742 Q185.855 16.6034 181.237 18.1427 L181.237 10.8511 Q185.896 9.55482 189.946 8.90668 Q194.038 8.25853 197.643 8.25853 Q206.96 8.25853 212.388 12.512 Q217.817 16.7249 217.817 23.9355 Q217.817 28.9587 214.94 32.4424 Q212.064 35.8857 206.758 37.2225 Z\" fill=\"#000000\" fill-rule=\"nonzero\" fill-opacity=\"1\" /><path clip-path=\"url(#clip210)\" d=\"M834.6 62.9457 L847.968 62.9457 L847.968 16.8059 L833.426 19.7226 L833.426 12.2689 L847.887 9.35228 L856.07 9.35228 L856.07 62.9457 L869.438 62.9457 L869.438 69.8323 L834.6 69.8323 L834.6 62.9457 Z\" fill=\"#000000\" fill-rule=\"nonzero\" fill-opacity=\"1\" /><path clip-path=\"url(#clip210)\" d=\"M908.448 16.4819 L887.789 48.7676 L908.448 48.7676 L908.448 16.4819 M906.301 9.35228 L916.591 9.35228 L916.591 48.7676 L925.219 48.7676 L925.219 55.5731 L916.591 55.5731 L916.591 69.8323 L908.448 69.8323 L908.448 55.5731 L881.145 55.5731 L881.145 47.6738 L906.301 9.35228 Z\" fill=\"#000000\" fill-rule=\"nonzero\" fill-opacity=\"1\" /><path clip-path=\"url(#clip210)\" d=\"M1540.89 62.9457 L1554.26 62.9457 L1554.26 16.8059 L1539.71 19.7226 L1539.71 12.2689 L1554.18 9.35228 L1562.36 9.35228 L1562.36 62.9457 L1575.73 62.9457 L1575.73 69.8323 L1540.89 69.8323 L1540.89 62.9457 Z\" fill=\"#000000\" fill-rule=\"nonzero\" fill-opacity=\"1\" /><path clip-path=\"url(#clip210)\" d=\"M1592.34 9.35228 L1624.46 9.35228 L1624.46 16.2388 L1599.83 16.2388 L1599.83 31.0651 Q1601.61 30.4575 1603.39 30.1739 Q1605.18 29.8499 1606.96 29.8499 Q1617.09 29.8499 1623 35.3996 Q1628.91 40.9493 1628.91 50.4284 Q1628.91 60.1911 1622.84 65.6193 Q1616.76 71.007 1605.7 71.007 Q1601.9 71.007 1597.93 70.3589 Q1594 69.7107 1589.78 68.4145 L1589.78 60.1911 Q1593.43 62.1761 1597.32 63.1483 Q1601.21 64.1205 1605.54 64.1205 Q1612.55 64.1205 1616.64 60.4342 Q1620.73 56.7479 1620.73 50.4284 Q1620.73 44.109 1616.64 40.4227 Q1612.55 36.7364 1605.54 36.7364 Q1602.26 36.7364 1598.98 37.4656 Q1595.74 38.1947 1592.34 39.7341 L1592.34 9.35228 Z\" fill=\"#000000\" fill-rule=\"nonzero\" fill-opacity=\"1\" /><path clip-path=\"url(#clip210)\" d=\"M2244.87 62.9457 L2258.24 62.9457 L2258.24 16.8059 L2243.69 19.7226 L2243.69 12.2689 L2258.16 9.35228 L2266.34 9.35228 L2266.34 62.9457 L2279.71 62.9457 L2279.71 69.8323 L2244.87 69.8323 L2244.87 62.9457 Z\" fill=\"#000000\" fill-rule=\"nonzero\" fill-opacity=\"1\" /><path clip-path=\"url(#clip210)\" d=\"M2314.75 36.3313 Q2309.24 36.3313 2306 40.0986 Q2302.8 43.866 2302.8 50.4284 Q2302.8 56.9504 2306 60.7583 Q2309.24 64.5256 2314.75 64.5256 Q2320.26 64.5256 2323.46 60.7583 Q2326.7 56.9504 2326.7 50.4284 Q2326.7 43.866 2323.46 40.0986 Q2320.26 36.3313 2314.75 36.3313 M2330.99 10.6891 L2330.99 18.1427 Q2327.91 16.6844 2324.75 15.9147 Q2321.63 15.1451 2318.55 15.1451 Q2310.45 15.1451 2306.16 20.6138 Q2301.9 26.0825 2301.3 37.1415 Q2303.69 33.6172 2307.29 31.7538 Q2310.9 29.8499 2315.23 29.8499 Q2324.35 29.8499 2329.61 35.3996 Q2334.92 40.9088 2334.92 50.4284 Q2334.92 59.7455 2329.41 65.3763 Q2323.9 71.007 2314.75 71.007 Q2304.25 71.007 2298.7 62.9862 Q2293.15 54.9249 2293.15 39.653 Q2293.15 25.3128 2299.96 16.8059 Q2306.77 8.25853 2318.23 8.25853 Q2321.31 8.25853 2324.43 8.86617 Q2327.59 9.4738 2330.99 10.6891 Z\" fill=\"#000000\" fill-rule=\"nonzero\" fill-opacity=\"1\" /></svg>\n"
      ],
      "text/html": [
       "<?xml version=\"1.0\" encoding=\"utf-8\"?>\n",
       "<svg xmlns=\"http://www.w3.org/2000/svg\" xmlns:xlink=\"http://www.w3.org/1999/xlink\" width=\"600\" height=\"400\" viewBox=\"0 0 2400 1600\">\n",
       "<defs>\n",
       "  <clipPath id=\"clip260\">\n",
       "    <rect x=\"0\" y=\"0\" width=\"2400\" height=\"1600\"/>\n",
       "  </clipPath>\n",
       "</defs>\n",
       "<path clip-path=\"url(#clip260)\" d=\"M0 1600 L2400 1600 L2400 0 L0 0  Z\" fill=\"#ffffff\" fill-rule=\"evenodd\" fill-opacity=\"1\"/>\n",
       "<defs>\n",
       "  <clipPath id=\"clip261\">\n",
       "    <rect x=\"480\" y=\"0\" width=\"1681\" height=\"1600\"/>\n",
       "  </clipPath>\n",
       "</defs>\n",
       "<path clip-path=\"url(#clip260)\" d=\"M110.881 1486.45 L2352.76 1486.45 L2352.76 47.2441 L110.881 47.2441  Z\" fill=\"#ffffff\" fill-rule=\"evenodd\" fill-opacity=\"1\"/>\n",
       "<defs>\n",
       "  <clipPath id=\"clip262\">\n",
       "    <rect x=\"110\" y=\"47\" width=\"2243\" height=\"1440\"/>\n",
       "  </clipPath>\n",
       "</defs>\n",
       "<polyline clip-path=\"url(#clip262)\" style=\"stroke:#000000; stroke-linecap:round; stroke-linejoin:round; stroke-width:2; stroke-opacity:0.1; fill:none\" points=\"174.33,1486.45 174.33,47.2441 \"/>\n",
       "<polyline clip-path=\"url(#clip262)\" style=\"stroke:#000000; stroke-linecap:round; stroke-linejoin:round; stroke-width:2; stroke-opacity:0.1; fill:none\" points=\"879.322,1486.45 879.322,47.2441 \"/>\n",
       "<polyline clip-path=\"url(#clip262)\" style=\"stroke:#000000; stroke-linecap:round; stroke-linejoin:round; stroke-width:2; stroke-opacity:0.1; fill:none\" points=\"1584.31,1486.45 1584.31,47.2441 \"/>\n",
       "<polyline clip-path=\"url(#clip262)\" style=\"stroke:#000000; stroke-linecap:round; stroke-linejoin:round; stroke-width:2; stroke-opacity:0.1; fill:none\" points=\"2289.31,1486.45 2289.31,47.2441 \"/>\n",
       "<polyline clip-path=\"url(#clip260)\" style=\"stroke:#000000; stroke-linecap:round; stroke-linejoin:round; stroke-width:4; stroke-opacity:1; fill:none\" points=\"110.881,1486.45 2352.76,1486.45 \"/>\n",
       "<polyline clip-path=\"url(#clip260)\" style=\"stroke:#000000; stroke-linecap:round; stroke-linejoin:round; stroke-width:4; stroke-opacity:1; fill:none\" points=\"174.33,1486.45 174.33,1467.55 \"/>\n",
       "<polyline clip-path=\"url(#clip260)\" style=\"stroke:#000000; stroke-linecap:round; stroke-linejoin:round; stroke-width:4; stroke-opacity:1; fill:none\" points=\"879.322,1486.45 879.322,1467.55 \"/>\n",
       "<polyline clip-path=\"url(#clip260)\" style=\"stroke:#000000; stroke-linecap:round; stroke-linejoin:round; stroke-width:4; stroke-opacity:1; fill:none\" points=\"1584.31,1486.45 1584.31,1467.55 \"/>\n",
       "<polyline clip-path=\"url(#clip260)\" style=\"stroke:#000000; stroke-linecap:round; stroke-linejoin:round; stroke-width:4; stroke-opacity:1; fill:none\" points=\"2289.31,1486.45 2289.31,1467.55 \"/>\n",
       "<path clip-path=\"url(#clip260)\" d=\"M174.33 1517.37 Q170.719 1517.37 168.89 1520.93 Q167.085 1524.47 167.085 1531.6 Q167.085 1538.71 168.89 1542.27 Q170.719 1545.82 174.33 1545.82 Q177.964 1545.82 179.77 1542.27 Q181.599 1538.71 181.599 1531.6 Q181.599 1524.47 179.77 1520.93 Q177.964 1517.37 174.33 1517.37 M174.33 1513.66 Q180.14 1513.66 183.196 1518.27 Q186.275 1522.85 186.275 1531.6 Q186.275 1540.33 183.196 1544.94 Q180.14 1549.52 174.33 1549.52 Q168.52 1549.52 165.441 1544.94 Q162.386 1540.33 162.386 1531.6 Q162.386 1522.85 165.441 1518.27 Q168.52 1513.66 174.33 1513.66 Z\" fill=\"#000000\" fill-rule=\"nonzero\" fill-opacity=\"1\" /><path clip-path=\"url(#clip260)\" d=\"M869.704 1544.91 L877.343 1544.91 L877.343 1518.55 L869.033 1520.21 L869.033 1515.95 L877.297 1514.29 L881.973 1514.29 L881.973 1544.91 L889.612 1544.91 L889.612 1548.85 L869.704 1548.85 L869.704 1544.91 Z\" fill=\"#000000\" fill-rule=\"nonzero\" fill-opacity=\"1\" /><path clip-path=\"url(#clip260)\" d=\"M1578.97 1544.91 L1595.29 1544.91 L1595.29 1548.85 L1573.34 1548.85 L1573.34 1544.91 Q1576 1542.16 1580.59 1537.53 Q1585.19 1532.88 1586.37 1531.53 Q1588.62 1529.01 1589.5 1527.27 Q1590.4 1525.51 1590.4 1523.82 Q1590.4 1521.07 1588.46 1519.33 Q1586.54 1517.6 1583.43 1517.6 Q1581.24 1517.6 1578.78 1518.36 Q1576.35 1519.13 1573.57 1520.68 L1573.57 1515.95 Q1576.4 1514.82 1578.85 1514.24 Q1581.31 1513.66 1583.34 1513.66 Q1588.71 1513.66 1591.91 1516.35 Q1595.1 1519.03 1595.1 1523.52 Q1595.1 1525.65 1594.29 1527.57 Q1593.5 1529.47 1591.4 1532.07 Q1590.82 1532.74 1587.72 1535.95 Q1584.62 1539.15 1578.97 1544.91 Z\" fill=\"#000000\" fill-rule=\"nonzero\" fill-opacity=\"1\" /><path clip-path=\"url(#clip260)\" d=\"M2293.55 1530.21 Q2296.91 1530.93 2298.79 1533.2 Q2300.68 1535.47 2300.68 1538.8 Q2300.68 1543.92 2297.17 1546.72 Q2293.65 1549.52 2287.17 1549.52 Q2284.99 1549.52 2282.67 1549.08 Q2280.38 1548.66 2277.93 1547.81 L2277.93 1543.29 Q2279.87 1544.43 2282.19 1545.01 Q2284.5 1545.58 2287.03 1545.58 Q2291.42 1545.58 2293.72 1543.85 Q2296.03 1542.11 2296.03 1538.8 Q2296.03 1535.75 2293.88 1534.03 Q2291.75 1532.3 2287.93 1532.3 L2283.9 1532.3 L2283.9 1528.45 L2288.11 1528.45 Q2291.56 1528.45 2293.39 1527.09 Q2295.22 1525.7 2295.22 1523.11 Q2295.22 1520.45 2293.32 1519.03 Q2291.45 1517.6 2287.93 1517.6 Q2286.01 1517.6 2283.81 1518.01 Q2281.61 1518.43 2278.97 1519.31 L2278.97 1515.14 Q2281.63 1514.4 2283.95 1514.03 Q2286.29 1513.66 2288.35 1513.66 Q2293.67 1513.66 2296.77 1516.09 Q2299.87 1518.5 2299.87 1522.62 Q2299.87 1525.49 2298.23 1527.48 Q2296.59 1529.45 2293.55 1530.21 Z\" fill=\"#000000\" fill-rule=\"nonzero\" fill-opacity=\"1\" /><polyline clip-path=\"url(#clip262)\" style=\"stroke:#000000; stroke-linecap:round; stroke-linejoin:round; stroke-width:2; stroke-opacity:0.1; fill:none\" points=\"110.881,1445.72 2352.76,1445.72 \"/>\n",
       "<polyline clip-path=\"url(#clip262)\" style=\"stroke:#000000; stroke-linecap:round; stroke-linejoin:round; stroke-width:2; stroke-opacity:0.1; fill:none\" points=\"110.881,993.136 2352.76,993.136 \"/>\n",
       "<polyline clip-path=\"url(#clip262)\" style=\"stroke:#000000; stroke-linecap:round; stroke-linejoin:round; stroke-width:2; stroke-opacity:0.1; fill:none\" points=\"110.881,540.556 2352.76,540.556 \"/>\n",
       "<polyline clip-path=\"url(#clip262)\" style=\"stroke:#000000; stroke-linecap:round; stroke-linejoin:round; stroke-width:2; stroke-opacity:0.1; fill:none\" points=\"110.881,87.9763 2352.76,87.9763 \"/>\n",
       "<polyline clip-path=\"url(#clip260)\" style=\"stroke:#000000; stroke-linecap:round; stroke-linejoin:round; stroke-width:4; stroke-opacity:1; fill:none\" points=\"110.881,1486.45 110.881,47.2441 \"/>\n",
       "<polyline clip-path=\"url(#clip260)\" style=\"stroke:#000000; stroke-linecap:round; stroke-linejoin:round; stroke-width:4; stroke-opacity:1; fill:none\" points=\"110.881,1445.72 129.779,1445.72 \"/>\n",
       "<polyline clip-path=\"url(#clip260)\" style=\"stroke:#000000; stroke-linecap:round; stroke-linejoin:round; stroke-width:4; stroke-opacity:1; fill:none\" points=\"110.881,993.136 129.779,993.136 \"/>\n",
       "<polyline clip-path=\"url(#clip260)\" style=\"stroke:#000000; stroke-linecap:round; stroke-linejoin:round; stroke-width:4; stroke-opacity:1; fill:none\" points=\"110.881,540.556 129.779,540.556 \"/>\n",
       "<polyline clip-path=\"url(#clip260)\" style=\"stroke:#000000; stroke-linecap:round; stroke-linejoin:round; stroke-width:4; stroke-opacity:1; fill:none\" points=\"110.881,87.9763 129.779,87.9763 \"/>\n",
       "<path clip-path=\"url(#clip260)\" d=\"M62.9365 1431.51 Q59.3254 1431.51 57.4967 1435.08 Q55.6912 1438.62 55.6912 1445.75 Q55.6912 1452.86 57.4967 1456.42 Q59.3254 1459.96 62.9365 1459.96 Q66.5707 1459.96 68.3763 1456.42 Q70.205 1452.86 70.205 1445.75 Q70.205 1438.62 68.3763 1435.08 Q66.5707 1431.51 62.9365 1431.51 M62.9365 1427.81 Q68.7467 1427.81 71.8022 1432.42 Q74.8809 1437 74.8809 1445.75 Q74.8809 1454.48 71.8022 1459.08 Q68.7467 1463.67 62.9365 1463.67 Q57.1264 1463.67 54.0477 1459.08 Q50.9921 1454.48 50.9921 1445.75 Q50.9921 1437 54.0477 1432.42 Q57.1264 1427.81 62.9365 1427.81 Z\" fill=\"#000000\" fill-rule=\"nonzero\" fill-opacity=\"1\" /><path clip-path=\"url(#clip260)\" d=\"M54.9736 1006.48 L62.6124 1006.48 L62.6124 980.115 L54.3023 981.782 L54.3023 977.523 L62.5661 975.856 L67.242 975.856 L67.242 1006.48 L74.8809 1006.48 L74.8809 1010.42 L54.9736 1010.42 L54.9736 1006.48 Z\" fill=\"#000000\" fill-rule=\"nonzero\" fill-opacity=\"1\" /><path clip-path=\"url(#clip260)\" d=\"M58.5615 553.901 L74.8809 553.901 L74.8809 557.836 L52.9366 557.836 L52.9366 553.901 Q55.5986 551.146 60.1819 546.517 Q64.7883 541.864 65.9689 540.521 Q68.2143 537.998 69.0939 536.262 Q69.9967 534.503 69.9967 532.813 Q69.9967 530.058 68.0522 528.322 Q66.1309 526.586 63.0291 526.586 Q60.83 526.586 58.3763 527.35 Q55.9458 528.114 53.168 529.665 L53.168 524.943 Q55.9921 523.808 58.4458 523.23 Q60.8995 522.651 62.9365 522.651 Q68.3068 522.651 71.5013 525.336 Q74.6957 528.021 74.6957 532.512 Q74.6957 534.642 73.8855 536.563 Q73.0985 538.461 70.992 541.054 Q70.4133 541.725 67.3115 544.943 Q64.2096 548.137 58.5615 553.901 Z\" fill=\"#000000\" fill-rule=\"nonzero\" fill-opacity=\"1\" /><path clip-path=\"url(#clip260)\" d=\"M67.7513 86.6221 Q71.1078 87.3397 72.9827 89.6082 Q74.8809 91.8767 74.8809 95.21 Q74.8809 100.326 71.3624 103.127 Q67.8439 105.928 61.3624 105.928 Q59.1865 105.928 56.8717 105.488 Q54.5801 105.071 52.1264 104.215 L52.1264 99.7008 Q54.0708 100.835 56.3856 101.414 Q58.7004 101.992 61.2236 101.992 Q65.6217 101.992 67.9133 100.256 Q70.2281 98.5202 70.2281 95.21 Q70.2281 92.1545 68.0754 90.4415 Q65.9457 88.7054 62.1263 88.7054 L58.0986 88.7054 L58.0986 84.8629 L62.3115 84.8629 Q65.7606 84.8629 67.5893 83.4971 Q69.418 82.1083 69.418 79.5157 Q69.418 76.8537 67.5198 75.4416 Q65.6448 74.0064 62.1263 74.0064 Q60.205 74.0064 58.006 74.4231 Q55.8069 74.8398 53.168 75.7194 L53.168 71.5528 Q55.8301 70.812 58.1449 70.4416 Q60.4828 70.0713 62.543 70.0713 Q67.867 70.0713 70.9689 72.5018 Q74.0707 74.9092 74.0707 79.0296 Q74.0707 81.8999 72.4272 83.8907 Q70.7837 85.8582 67.7513 86.6221 Z\" fill=\"#000000\" fill-rule=\"nonzero\" fill-opacity=\"1\" /><circle clip-path=\"url(#clip262)\" cx=\"174.33\" cy=\"1445.72\" r=\"14.4\" fill=\"#009af9\" fill-rule=\"evenodd\" fill-opacity=\"1\" stroke=\"#000000\" stroke-opacity=\"1\" stroke-width=\"3.2\"/>\n",
       "<circle clip-path=\"url(#clip262)\" cx=\"879.322\" cy=\"1445.72\" r=\"14.4\" fill=\"#009af9\" fill-rule=\"evenodd\" fill-opacity=\"1\" stroke=\"#000000\" stroke-opacity=\"1\" stroke-width=\"3.2\"/>\n",
       "<circle clip-path=\"url(#clip262)\" cx=\"1584.31\" cy=\"1445.72\" r=\"14.4\" fill=\"#009af9\" fill-rule=\"evenodd\" fill-opacity=\"1\" stroke=\"#000000\" stroke-opacity=\"1\" stroke-width=\"3.2\"/>\n",
       "<circle clip-path=\"url(#clip262)\" cx=\"2289.31\" cy=\"1445.72\" r=\"14.4\" fill=\"#009af9\" fill-rule=\"evenodd\" fill-opacity=\"1\" stroke=\"#000000\" stroke-opacity=\"1\" stroke-width=\"3.2\"/>\n",
       "<circle clip-path=\"url(#clip262)\" cx=\"174.33\" cy=\"993.136\" r=\"14.4\" fill=\"#009af9\" fill-rule=\"evenodd\" fill-opacity=\"1\" stroke=\"#000000\" stroke-opacity=\"1\" stroke-width=\"3.2\"/>\n",
       "<circle clip-path=\"url(#clip262)\" cx=\"879.322\" cy=\"993.136\" r=\"14.4\" fill=\"#009af9\" fill-rule=\"evenodd\" fill-opacity=\"1\" stroke=\"#000000\" stroke-opacity=\"1\" stroke-width=\"3.2\"/>\n",
       "<circle clip-path=\"url(#clip262)\" cx=\"1584.31\" cy=\"993.136\" r=\"14.4\" fill=\"#009af9\" fill-rule=\"evenodd\" fill-opacity=\"1\" stroke=\"#000000\" stroke-opacity=\"1\" stroke-width=\"3.2\"/>\n",
       "<circle clip-path=\"url(#clip262)\" cx=\"2289.31\" cy=\"993.136\" r=\"14.4\" fill=\"#009af9\" fill-rule=\"evenodd\" fill-opacity=\"1\" stroke=\"#000000\" stroke-opacity=\"1\" stroke-width=\"3.2\"/>\n",
       "<circle clip-path=\"url(#clip262)\" cx=\"174.33\" cy=\"540.556\" r=\"14.4\" fill=\"#009af9\" fill-rule=\"evenodd\" fill-opacity=\"1\" stroke=\"#000000\" stroke-opacity=\"1\" stroke-width=\"3.2\"/>\n",
       "<circle clip-path=\"url(#clip262)\" cx=\"879.322\" cy=\"540.556\" r=\"14.4\" fill=\"#009af9\" fill-rule=\"evenodd\" fill-opacity=\"1\" stroke=\"#000000\" stroke-opacity=\"1\" stroke-width=\"3.2\"/>\n",
       "<circle clip-path=\"url(#clip262)\" cx=\"1584.31\" cy=\"540.556\" r=\"14.4\" fill=\"#009af9\" fill-rule=\"evenodd\" fill-opacity=\"1\" stroke=\"#000000\" stroke-opacity=\"1\" stroke-width=\"3.2\"/>\n",
       "<circle clip-path=\"url(#clip262)\" cx=\"2289.31\" cy=\"540.556\" r=\"14.4\" fill=\"#009af9\" fill-rule=\"evenodd\" fill-opacity=\"1\" stroke=\"#000000\" stroke-opacity=\"1\" stroke-width=\"3.2\"/>\n",
       "<circle clip-path=\"url(#clip262)\" cx=\"174.33\" cy=\"87.9763\" r=\"14.4\" fill=\"#009af9\" fill-rule=\"evenodd\" fill-opacity=\"1\" stroke=\"#000000\" stroke-opacity=\"1\" stroke-width=\"3.2\"/>\n",
       "<circle clip-path=\"url(#clip262)\" cx=\"879.322\" cy=\"87.9763\" r=\"14.4\" fill=\"#009af9\" fill-rule=\"evenodd\" fill-opacity=\"1\" stroke=\"#000000\" stroke-opacity=\"1\" stroke-width=\"3.2\"/>\n",
       "<circle clip-path=\"url(#clip262)\" cx=\"1584.31\" cy=\"87.9763\" r=\"14.4\" fill=\"#009af9\" fill-rule=\"evenodd\" fill-opacity=\"1\" stroke=\"#000000\" stroke-opacity=\"1\" stroke-width=\"3.2\"/>\n",
       "<circle clip-path=\"url(#clip262)\" cx=\"2289.31\" cy=\"87.9763\" r=\"14.4\" fill=\"#009af9\" fill-rule=\"evenodd\" fill-opacity=\"1\" stroke=\"#000000\" stroke-opacity=\"1\" stroke-width=\"3.2\"/>\n",
       "<path clip-path=\"url(#clip260)\" d=\"M157.499 1420.69 L170.867 1420.69 L170.867 1374.55 L156.324 1377.46 L156.324 1370.01 L170.786 1367.09 L178.968 1367.09 L178.968 1420.69 L192.336 1420.69 L192.336 1427.57 L157.499 1427.57 L157.499 1420.69 Z\" fill=\"#000000\" fill-rule=\"nonzero\" fill-opacity=\"1\" /><path clip-path=\"url(#clip260)\" d=\"M869.965 1420.69 L898.524 1420.69 L898.524 1427.57 L860.121 1427.57 L860.121 1420.69 Q864.78 1415.86 872.8 1407.76 Q880.862 1399.62 882.928 1397.27 Q886.857 1392.86 888.396 1389.82 Q889.976 1386.74 889.976 1383.78 Q889.976 1378.96 886.573 1375.92 Q883.211 1372.88 877.783 1372.88 Q873.935 1372.88 869.641 1374.22 Q865.387 1375.56 860.526 1378.27 L860.526 1370.01 Q865.468 1368.02 869.762 1367.01 Q874.056 1366 877.621 1366 Q887.019 1366 892.609 1370.7 Q898.2 1375.4 898.2 1383.25 Q898.2 1386.98 896.782 1390.34 Q895.404 1393.67 891.718 1398.2 Q890.705 1399.38 885.277 1405.01 Q879.849 1410.6 869.965 1420.69 Z\" fill=\"#000000\" fill-rule=\"nonzero\" fill-opacity=\"1\" /><path clip-path=\"url(#clip260)\" d=\"M1591.75 1394.96 Q1597.62 1396.22 1600.9 1400.19 Q1604.22 1404.16 1604.22 1409.99 Q1604.22 1418.94 1598.07 1423.84 Q1591.91 1428.75 1580.57 1428.75 Q1576.76 1428.75 1572.71 1427.98 Q1568.7 1427.25 1564.4 1425.75 L1564.4 1417.85 Q1567.81 1419.83 1571.86 1420.85 Q1575.91 1421.86 1580.32 1421.86 Q1588.02 1421.86 1592.03 1418.82 Q1596.08 1415.78 1596.08 1409.99 Q1596.08 1404.64 1592.32 1401.65 Q1588.59 1398.61 1581.9 1398.61 L1574.86 1398.61 L1574.86 1391.88 L1582.23 1391.88 Q1588.26 1391.88 1591.46 1389.49 Q1594.66 1387.06 1594.66 1382.53 Q1594.66 1377.87 1591.34 1375.4 Q1588.06 1372.88 1581.9 1372.88 Q1578.54 1372.88 1574.69 1373.61 Q1570.85 1374.34 1566.23 1375.88 L1566.23 1368.59 Q1570.89 1367.29 1574.94 1366.65 Q1579.03 1366 1582.63 1366 Q1591.95 1366 1597.38 1370.25 Q1602.81 1374.46 1602.81 1381.67 Q1602.81 1386.7 1599.93 1390.18 Q1597.05 1393.63 1591.75 1394.96 Z\" fill=\"#000000\" fill-rule=\"nonzero\" fill-opacity=\"1\" /><path clip-path=\"url(#clip260)\" d=\"M2294.57 1374.22 L2273.91 1406.51 L2294.57 1406.51 L2294.57 1374.22 M2292.43 1367.09 L2302.72 1367.09 L2302.72 1406.51 L2311.34 1406.51 L2311.34 1413.31 L2302.72 1413.31 L2302.72 1427.57 L2294.57 1427.57 L2294.57 1413.31 L2267.27 1413.31 L2267.27 1405.41 L2292.43 1367.09 Z\" fill=\"#000000\" fill-rule=\"nonzero\" fill-opacity=\"1\" /><path clip-path=\"url(#clip260)\" d=\"M157.316 914.512 L189.44 914.512 L189.44 921.398 L164.811 921.398 L164.811 936.225 Q166.593 935.617 168.375 935.334 Q170.158 935.009 171.94 935.009 Q182.067 935.009 187.982 940.559 Q193.896 946.109 193.896 955.588 Q193.896 965.351 187.82 970.779 Q181.743 976.167 170.684 976.167 Q166.877 976.167 162.907 975.519 Q158.977 974.87 154.764 973.574 L154.764 965.351 Q158.41 967.336 162.299 968.308 Q166.188 969.28 170.522 969.28 Q177.53 969.28 181.622 965.594 Q185.713 961.907 185.713 955.588 Q185.713 949.269 181.622 945.582 Q177.53 941.896 170.522 941.896 Q167.241 941.896 163.96 942.625 Q160.719 943.354 157.316 944.894 L157.316 914.512 Z\" fill=\"#000000\" fill-rule=\"nonzero\" fill-opacity=\"1\" /><path clip-path=\"url(#clip260)\" d=\"M880.031 941.491 Q874.522 941.491 871.281 945.258 Q868.081 949.026 868.081 955.588 Q868.081 962.11 871.281 965.918 Q874.522 969.685 880.031 969.685 Q885.54 969.685 888.741 965.918 Q891.981 962.11 891.981 955.588 Q891.981 949.026 888.741 945.258 Q885.54 941.491 880.031 941.491 M896.275 915.849 L896.275 923.302 Q893.197 921.844 890.037 921.074 Q886.918 920.305 883.839 920.305 Q875.737 920.305 871.443 925.773 Q867.19 931.242 866.582 942.301 Q868.972 938.777 872.578 936.913 Q876.183 935.009 880.517 935.009 Q889.632 935.009 894.898 940.559 Q900.205 946.068 900.205 955.588 Q900.205 964.905 894.696 970.536 Q889.186 976.167 880.031 976.167 Q869.539 976.167 863.99 968.146 Q858.44 960.085 858.44 944.813 Q858.44 930.472 865.245 921.966 Q872.051 913.418 883.515 913.418 Q886.594 913.418 889.713 914.026 Q892.873 914.633 896.275 915.849 Z\" fill=\"#000000\" fill-rule=\"nonzero\" fill-opacity=\"1\" /><path clip-path=\"url(#clip260)\" d=\"M1564.87 914.512 L1603.76 914.512 L1603.76 917.996 L1581.8 974.992 L1573.26 974.992 L1593.92 921.398 L1564.87 921.398 L1564.87 914.512 Z\" fill=\"#000000\" fill-rule=\"nonzero\" fill-opacity=\"1\" /><path clip-path=\"url(#clip260)\" d=\"M2289.31 946.271 Q2283.47 946.271 2280.11 949.39 Q2276.79 952.509 2276.79 957.978 Q2276.79 963.447 2280.11 966.566 Q2283.47 969.685 2289.31 969.685 Q2295.14 969.685 2298.5 966.566 Q2301.86 963.406 2301.86 957.978 Q2301.86 952.509 2298.5 949.39 Q2295.18 946.271 2289.31 946.271 M2281.12 942.787 Q2275.86 941.491 2272.9 937.886 Q2269.98 934.28 2269.98 929.095 Q2269.98 921.844 2275.13 917.631 Q2280.31 913.418 2289.31 913.418 Q2298.34 913.418 2303.48 917.631 Q2308.63 921.844 2308.63 929.095 Q2308.63 934.28 2305.67 937.886 Q2302.76 941.491 2297.53 942.787 Q2303.44 944.165 2306.73 948.175 Q2310.05 952.185 2310.05 957.978 Q2310.05 966.769 2304.66 971.468 Q2299.31 976.167 2289.31 976.167 Q2279.3 976.167 2273.91 971.468 Q2268.57 966.769 2268.57 957.978 Q2268.57 952.185 2271.89 948.175 Q2275.21 944.165 2281.12 942.787 M2278.13 929.865 Q2278.13 934.564 2281.04 937.197 Q2284 939.83 2289.31 939.83 Q2294.57 939.83 2297.53 937.197 Q2300.53 934.564 2300.53 929.865 Q2300.53 925.166 2297.53 922.533 Q2294.57 919.9 2289.31 919.9 Q2284 919.9 2281.04 922.533 Q2278.13 925.166 2278.13 929.865 Z\" fill=\"#000000\" fill-rule=\"nonzero\" fill-opacity=\"1\" /><path clip-path=\"url(#clip260)\" d=\"M157.357 521.156 L157.357 513.703 Q160.436 515.161 163.595 515.931 Q166.755 516.7 169.793 516.7 Q177.895 516.7 182.148 511.272 Q186.442 505.803 187.05 494.704 Q184.7 498.188 181.095 500.051 Q177.49 501.915 173.115 501.915 Q164.041 501.915 158.734 496.446 Q153.468 490.937 153.468 481.417 Q153.468 472.1 158.977 466.469 Q164.486 460.838 173.642 460.838 Q184.133 460.838 189.643 468.9 Q195.192 476.92 195.192 492.233 Q195.192 506.533 188.387 515.08 Q181.622 523.587 170.158 523.587 Q167.079 523.587 163.919 522.979 Q160.76 522.372 157.357 521.156 M173.642 495.514 Q179.151 495.514 182.351 491.747 Q185.592 487.979 185.592 481.417 Q185.592 474.895 182.351 471.128 Q179.151 467.32 173.642 467.32 Q168.132 467.32 164.892 471.128 Q161.691 474.895 161.691 481.417 Q161.691 487.979 164.892 491.747 Q168.132 495.514 173.642 495.514 Z\" fill=\"#000000\" fill-rule=\"nonzero\" fill-opacity=\"1\" /><path clip-path=\"url(#clip260)\" d=\"M835.026 515.526 L848.394 515.526 L848.394 469.386 L833.851 472.302 L833.851 464.849 L848.313 461.932 L856.495 461.932 L856.495 515.526 L869.863 515.526 L869.863 522.412 L835.026 522.412 L835.026 515.526 Z\" fill=\"#000000\" fill-rule=\"nonzero\" fill-opacity=\"1\" /><path clip-path=\"url(#clip260)\" d=\"M903.891 467.32 Q897.572 467.32 894.371 473.558 Q891.212 479.756 891.212 492.233 Q891.212 504.669 894.371 510.908 Q897.572 517.105 903.891 517.105 Q910.251 517.105 913.411 510.908 Q916.611 504.669 916.611 492.233 Q916.611 479.756 913.411 473.558 Q910.251 467.32 903.891 467.32 M903.891 460.838 Q914.059 460.838 919.406 468.9 Q924.794 476.92 924.794 492.233 Q924.794 507.505 919.406 515.566 Q914.059 523.587 903.891 523.587 Q893.723 523.587 888.336 515.566 Q882.988 507.505 882.988 492.233 Q882.988 476.92 888.336 468.9 Q893.723 460.838 903.891 460.838 Z\" fill=\"#000000\" fill-rule=\"nonzero\" fill-opacity=\"1\" /><path clip-path=\"url(#clip260)\" d=\"M1541.09 515.526 L1554.46 515.526 L1554.46 469.386 L1539.92 472.302 L1539.92 464.849 L1554.38 461.932 L1562.56 461.932 L1562.56 515.526 L1575.93 515.526 L1575.93 522.412 L1541.09 522.412 L1541.09 515.526 Z\" fill=\"#000000\" fill-rule=\"nonzero\" fill-opacity=\"1\" /><path clip-path=\"url(#clip260)\" d=\"M1593.87 515.526 L1607.24 515.526 L1607.24 469.386 L1592.7 472.302 L1592.7 464.849 L1607.16 461.932 L1615.34 461.932 L1615.34 515.526 L1628.71 515.526 L1628.71 522.412 L1593.87 522.412 L1593.87 515.526 Z\" fill=\"#000000\" fill-rule=\"nonzero\" fill-opacity=\"1\" /><path clip-path=\"url(#clip260)\" d=\"M2246.41 515.526 L2259.78 515.526 L2259.78 469.386 L2245.23 472.302 L2245.23 464.849 L2259.69 461.932 L2267.88 461.932 L2267.88 515.526 L2281.25 515.526 L2281.25 522.412 L2246.41 522.412 L2246.41 515.526 Z\" fill=\"#000000\" fill-rule=\"nonzero\" fill-opacity=\"1\" /><path clip-path=\"url(#clip260)\" d=\"M2304.82 515.526 L2333.38 515.526 L2333.38 522.412 L2294.98 522.412 L2294.98 515.526 Q2299.64 510.705 2307.66 502.603 Q2315.72 494.461 2317.78 492.111 Q2321.71 487.696 2323.25 484.658 Q2324.83 481.579 2324.83 478.622 Q2324.83 473.801 2321.43 470.763 Q2318.07 467.725 2312.64 467.725 Q2308.79 467.725 2304.5 469.062 Q2300.24 470.398 2295.38 473.113 L2295.38 464.849 Q2300.33 462.864 2304.62 461.851 Q2308.91 460.838 2312.48 460.838 Q2321.88 460.838 2327.47 465.537 Q2333.06 470.236 2333.06 478.095 Q2333.06 481.822 2331.64 485.184 Q2330.26 488.506 2326.57 493.043 Q2325.56 494.218 2320.13 499.849 Q2314.71 505.439 2304.82 515.526 Z\" fill=\"#000000\" fill-rule=\"nonzero\" fill-opacity=\"1\" /><path clip-path=\"url(#clip260)\" d=\"M130.601 62.9457 L143.969 62.9457 L143.969 16.8059 L129.426 19.7226 L129.426 12.2689 L143.888 9.35228 L152.07 9.35228 L152.07 62.9457 L165.438 62.9457 L165.438 69.8323 L130.601 69.8323 L130.601 62.9457 Z\" fill=\"#000000\" fill-rule=\"nonzero\" fill-opacity=\"1\" /><path clip-path=\"url(#clip260)\" d=\"M206.758 37.2225 Q212.631 38.4783 215.913 42.4482 Q219.234 46.4181 219.234 52.2514 Q219.234 61.2039 213.077 66.1054 Q206.92 71.007 195.577 71.007 Q191.769 71.007 187.718 70.2374 Q183.708 69.5082 179.414 68.0094 L179.414 60.1101 Q182.817 62.095 186.868 63.1078 Q190.919 64.1205 195.334 64.1205 Q203.031 64.1205 207.041 61.0823 Q211.092 58.0441 211.092 52.2514 Q211.092 46.9042 207.325 43.9065 Q203.598 40.8683 196.914 40.8683 L189.865 40.8683 L189.865 34.1438 L197.238 34.1438 Q203.274 34.1438 206.474 31.7538 Q209.674 29.3232 209.674 24.7862 Q209.674 20.1277 206.353 17.6566 Q203.071 15.1451 196.914 15.1451 Q193.552 15.1451 189.703 15.8742 Q185.855 16.6034 181.237 18.1427 L181.237 10.8511 Q185.896 9.55482 189.946 8.90668 Q194.038 8.25853 197.643 8.25853 Q206.96 8.25853 212.388 12.512 Q217.817 16.7249 217.817 23.9355 Q217.817 28.9587 214.94 32.4424 Q212.064 35.8857 206.758 37.2225 Z\" fill=\"#000000\" fill-rule=\"nonzero\" fill-opacity=\"1\" /><path clip-path=\"url(#clip260)\" d=\"M834.6 62.9457 L847.968 62.9457 L847.968 16.8059 L833.426 19.7226 L833.426 12.2689 L847.887 9.35228 L856.07 9.35228 L856.07 62.9457 L869.438 62.9457 L869.438 69.8323 L834.6 69.8323 L834.6 62.9457 Z\" fill=\"#000000\" fill-rule=\"nonzero\" fill-opacity=\"1\" /><path clip-path=\"url(#clip260)\" d=\"M908.448 16.4819 L887.789 48.7676 L908.448 48.7676 L908.448 16.4819 M906.301 9.35228 L916.591 9.35228 L916.591 48.7676 L925.219 48.7676 L925.219 55.5731 L916.591 55.5731 L916.591 69.8323 L908.448 69.8323 L908.448 55.5731 L881.145 55.5731 L881.145 47.6738 L906.301 9.35228 Z\" fill=\"#000000\" fill-rule=\"nonzero\" fill-opacity=\"1\" /><path clip-path=\"url(#clip260)\" d=\"M1540.89 62.9457 L1554.26 62.9457 L1554.26 16.8059 L1539.71 19.7226 L1539.71 12.2689 L1554.18 9.35228 L1562.36 9.35228 L1562.36 62.9457 L1575.73 62.9457 L1575.73 69.8323 L1540.89 69.8323 L1540.89 62.9457 Z\" fill=\"#000000\" fill-rule=\"nonzero\" fill-opacity=\"1\" /><path clip-path=\"url(#clip260)\" d=\"M1592.34 9.35228 L1624.46 9.35228 L1624.46 16.2388 L1599.83 16.2388 L1599.83 31.0651 Q1601.61 30.4575 1603.39 30.1739 Q1605.18 29.8499 1606.96 29.8499 Q1617.09 29.8499 1623 35.3996 Q1628.91 40.9493 1628.91 50.4284 Q1628.91 60.1911 1622.84 65.6193 Q1616.76 71.007 1605.7 71.007 Q1601.9 71.007 1597.93 70.3589 Q1594 69.7107 1589.78 68.4145 L1589.78 60.1911 Q1593.43 62.1761 1597.32 63.1483 Q1601.21 64.1205 1605.54 64.1205 Q1612.55 64.1205 1616.64 60.4342 Q1620.73 56.7479 1620.73 50.4284 Q1620.73 44.109 1616.64 40.4227 Q1612.55 36.7364 1605.54 36.7364 Q1602.26 36.7364 1598.98 37.4656 Q1595.74 38.1947 1592.34 39.7341 L1592.34 9.35228 Z\" fill=\"#000000\" fill-rule=\"nonzero\" fill-opacity=\"1\" /><path clip-path=\"url(#clip260)\" d=\"M2244.87 62.9457 L2258.24 62.9457 L2258.24 16.8059 L2243.69 19.7226 L2243.69 12.2689 L2258.16 9.35228 L2266.34 9.35228 L2266.34 62.9457 L2279.71 62.9457 L2279.71 69.8323 L2244.87 69.8323 L2244.87 62.9457 Z\" fill=\"#000000\" fill-rule=\"nonzero\" fill-opacity=\"1\" /><path clip-path=\"url(#clip260)\" d=\"M2314.75 36.3313 Q2309.24 36.3313 2306 40.0986 Q2302.8 43.866 2302.8 50.4284 Q2302.8 56.9504 2306 60.7583 Q2309.24 64.5256 2314.75 64.5256 Q2320.26 64.5256 2323.46 60.7583 Q2326.7 56.9504 2326.7 50.4284 Q2326.7 43.866 2323.46 40.0986 Q2320.26 36.3313 2314.75 36.3313 M2330.99 10.6891 L2330.99 18.1427 Q2327.91 16.6844 2324.75 15.9147 Q2321.63 15.1451 2318.55 15.1451 Q2310.45 15.1451 2306.16 20.6138 Q2301.9 26.0825 2301.3 37.1415 Q2303.69 33.6172 2307.29 31.7538 Q2310.9 29.8499 2315.23 29.8499 Q2324.35 29.8499 2329.61 35.3996 Q2334.92 40.9088 2334.92 50.4284 Q2334.92 59.7455 2329.41 65.3763 Q2323.9 71.007 2314.75 71.007 Q2304.25 71.007 2298.7 62.9862 Q2293.15 54.9249 2293.15 39.653 Q2293.15 25.3128 2299.96 16.8059 Q2306.77 8.25853 2318.23 8.25853 Q2321.31 8.25853 2324.43 8.86617 Q2327.59 9.4738 2330.99 10.6891 Z\" fill=\"#000000\" fill-rule=\"nonzero\" fill-opacity=\"1\" /></svg>\n"
      ]
     },
     "execution_count": 229,
     "metadata": {},
     "output_type": "execute_result"
    }
   ],
   "source": [
    "co = vcat( ( [y x] for x in 0:Nx-1 for y in 0:Ny-1 ) ... )\n",
    "scatter(co[:,1],co[:,2], series_annotations = text.([i for i in 1:N_Site], :bottom), legend=false)"
   ]
  },
  {
   "cell_type": "code",
   "execution_count": 115,
   "id": "cae5e4d7-d79e-4c4d-be36-511b554cc2f2",
   "metadata": {},
   "outputs": [
    {
     "data": {
      "text/plain": [
       "Impurity([4.0, 0.0], [45, 7])"
      ]
     },
     "execution_count": 115,
     "metadata": {},
     "output_type": "execute_result"
    }
   ],
   "source": [
    "V0 = [4, 0]; Imp_Site = [45, 7]\n",
    "Impurity_Data = Impurity(V0, Imp_Site)"
   ]
  },
  {
   "cell_type": "code",
   "execution_count": 116,
   "id": "877e9595-6974-4bba-b4b0-59bb2de968e2",
   "metadata": {},
   "outputs": [],
   "source": [
    "Impurity_H = Imp_H(Total_H, Sub_Number_MB_Operator_List, Impurity_Data)\n",
    "Impurity_H = dense((Impurity_H+Impurity_H')/2);"
   ]
  },
  {
   "cell_type": "code",
   "execution_count": 121,
   "id": "21705918-b1e9-4f0e-b502-71d51245a746",
   "metadata": {},
   "outputs": [
    {
     "data": {
      "image/png": "[encoded data removed]",
      "image/svg+xml": [
       "<?xml version=\"1.0\" encoding=\"utf-8\"?>\n",
       "<svg xmlns=\"http://www.w3.org/2000/svg\" xmlns:xlink=\"http://www.w3.org/1999/xlink\" width=\"600\" height=\"400\" viewBox=\"0 0 2400 1600\">\n",
       "<defs>\n",
       "  <clipPath id=\"clip040\">\n",
       "    <rect x=\"0\" y=\"0\" width=\"2400\" height=\"1600\"/>\n",
       "  </clipPath>\n",
       "</defs>\n",
       "<path clip-path=\"url(#clip040)\" d=\"M0 1600 L2400 1600 L2400 0 L0 0  Z\" fill=\"#ffffff\" fill-rule=\"evenodd\" fill-opacity=\"1\"/>\n",
       "<defs>\n",
       "  <clipPath id=\"clip041\">\n",
       "    <rect x=\"480\" y=\"0\" width=\"1681\" height=\"1600\"/>\n",
       "  </clipPath>\n",
       "</defs>\n",
       "<path clip-path=\"url(#clip040)\" d=\"M149.191 1486.45 L2352.76 1486.45 L2352.76 123.472 L149.191 123.472  Z\" fill=\"#ffffff\" fill-rule=\"evenodd\" fill-opacity=\"1\"/>\n",
       "<defs>\n",
       "  <clipPath id=\"clip042\">\n",
       "    <rect x=\"149\" y=\"123\" width=\"2205\" height=\"1364\"/>\n",
       "  </clipPath>\n",
       "</defs>\n",
       "<polyline clip-path=\"url(#clip042)\" style=\"stroke:#000000; stroke-linecap:round; stroke-linejoin:round; stroke-width:2; stroke-opacity:0.1; fill:none\" points=\"194.087,1486.45 194.087,123.472 \"/>\n",
       "<polyline clip-path=\"url(#clip042)\" style=\"stroke:#000000; stroke-linecap:round; stroke-linejoin:round; stroke-width:2; stroke-opacity:0.1; fill:none\" points=\"630.817,1486.45 630.817,123.472 \"/>\n",
       "<polyline clip-path=\"url(#clip042)\" style=\"stroke:#000000; stroke-linecap:round; stroke-linejoin:round; stroke-width:2; stroke-opacity:0.1; fill:none\" points=\"1067.55,1486.45 1067.55,123.472 \"/>\n",
       "<polyline clip-path=\"url(#clip042)\" style=\"stroke:#000000; stroke-linecap:round; stroke-linejoin:round; stroke-width:2; stroke-opacity:0.1; fill:none\" points=\"1504.28,1486.45 1504.28,123.472 \"/>\n",
       "<polyline clip-path=\"url(#clip042)\" style=\"stroke:#000000; stroke-linecap:round; stroke-linejoin:round; stroke-width:2; stroke-opacity:0.1; fill:none\" points=\"1941.01,1486.45 1941.01,123.472 \"/>\n",
       "<polyline clip-path=\"url(#clip040)\" style=\"stroke:#000000; stroke-linecap:round; stroke-linejoin:round; stroke-width:4; stroke-opacity:1; fill:none\" points=\"149.191,1486.45 2352.76,1486.45 \"/>\n",
       "<polyline clip-path=\"url(#clip040)\" style=\"stroke:#000000; stroke-linecap:round; stroke-linejoin:round; stroke-width:4; stroke-opacity:1; fill:none\" points=\"194.087,1486.45 194.087,1467.55 \"/>\n",
       "<polyline clip-path=\"url(#clip040)\" style=\"stroke:#000000; stroke-linecap:round; stroke-linejoin:round; stroke-width:4; stroke-opacity:1; fill:none\" points=\"630.817,1486.45 630.817,1467.55 \"/>\n",
       "<polyline clip-path=\"url(#clip040)\" style=\"stroke:#000000; stroke-linecap:round; stroke-linejoin:round; stroke-width:4; stroke-opacity:1; fill:none\" points=\"1067.55,1486.45 1067.55,1467.55 \"/>\n",
       "<polyline clip-path=\"url(#clip040)\" style=\"stroke:#000000; stroke-linecap:round; stroke-linejoin:round; stroke-width:4; stroke-opacity:1; fill:none\" points=\"1504.28,1486.45 1504.28,1467.55 \"/>\n",
       "<polyline clip-path=\"url(#clip040)\" style=\"stroke:#000000; stroke-linecap:round; stroke-linejoin:round; stroke-width:4; stroke-opacity:1; fill:none\" points=\"1941.01,1486.45 1941.01,1467.55 \"/>\n",
       "<path clip-path=\"url(#clip040)\" d=\"M194.087 1517.37 Q190.476 1517.37 188.647 1520.93 Q186.841 1524.47 186.841 1531.6 Q186.841 1538.71 188.647 1542.27 Q190.476 1545.82 194.087 1545.82 Q197.721 1545.82 199.526 1542.27 Q201.355 1538.71 201.355 1531.6 Q201.355 1524.47 199.526 1520.93 Q197.721 1517.37 194.087 1517.37 M194.087 1513.66 Q199.897 1513.66 202.952 1518.27 Q206.031 1522.85 206.031 1531.6 Q206.031 1540.33 202.952 1544.94 Q199.897 1549.52 194.087 1549.52 Q188.277 1549.52 185.198 1544.94 Q182.142 1540.33 182.142 1531.6 Q182.142 1522.85 185.198 1518.27 Q188.277 1513.66 194.087 1513.66 Z\" fill=\"#000000\" fill-rule=\"nonzero\" fill-opacity=\"1\" /><path clip-path=\"url(#clip040)\" d=\"M610.088 1544.91 L626.407 1544.91 L626.407 1548.85 L604.463 1548.85 L604.463 1544.91 Q607.125 1542.16 611.708 1537.53 Q616.315 1532.88 617.495 1531.53 Q619.74 1529.01 620.62 1527.27 Q621.523 1525.51 621.523 1523.82 Q621.523 1521.07 619.578 1519.33 Q617.657 1517.6 614.555 1517.6 Q612.356 1517.6 609.903 1518.36 Q607.472 1519.13 604.694 1520.68 L604.694 1515.95 Q607.518 1514.82 609.972 1514.24 Q612.426 1513.66 614.463 1513.66 Q619.833 1513.66 623.027 1516.35 Q626.222 1519.03 626.222 1523.52 Q626.222 1525.65 625.412 1527.57 Q624.625 1529.47 622.518 1532.07 Q621.939 1532.74 618.838 1535.95 Q615.736 1539.15 610.088 1544.91 Z\" fill=\"#000000\" fill-rule=\"nonzero\" fill-opacity=\"1\" /><path clip-path=\"url(#clip040)\" d=\"M636.268 1514.29 L654.624 1514.29 L654.624 1518.22 L640.55 1518.22 L640.55 1526.7 Q641.569 1526.35 642.588 1526.19 Q643.606 1526 644.625 1526 Q650.412 1526 653.791 1529.17 Q657.171 1532.34 657.171 1537.76 Q657.171 1543.34 653.699 1546.44 Q650.226 1549.52 643.907 1549.52 Q641.731 1549.52 639.463 1549.15 Q637.217 1548.78 634.81 1548.04 L634.81 1543.34 Q636.893 1544.47 639.115 1545.03 Q641.338 1545.58 643.814 1545.58 Q647.819 1545.58 650.157 1543.48 Q652.495 1541.37 652.495 1537.76 Q652.495 1534.15 650.157 1532.04 Q647.819 1529.94 643.814 1529.94 Q641.939 1529.94 640.064 1530.35 Q638.213 1530.77 636.268 1531.65 L636.268 1514.29 Z\" fill=\"#000000\" fill-rule=\"nonzero\" fill-opacity=\"1\" /><path clip-path=\"url(#clip040)\" d=\"M1042.25 1514.29 L1060.6 1514.29 L1060.6 1518.22 L1046.53 1518.22 L1046.53 1526.7 Q1047.55 1526.35 1048.57 1526.19 Q1049.58 1526 1050.6 1526 Q1056.39 1526 1059.77 1529.17 Q1063.15 1532.34 1063.15 1537.76 Q1063.15 1543.34 1059.68 1546.44 Q1056.2 1549.52 1049.88 1549.52 Q1047.71 1549.52 1045.44 1549.15 Q1043.2 1548.78 1040.79 1548.04 L1040.79 1543.34 Q1042.87 1544.47 1045.09 1545.03 Q1047.32 1545.58 1049.79 1545.58 Q1053.8 1545.58 1056.13 1543.48 Q1058.47 1541.37 1058.47 1537.76 Q1058.47 1534.15 1056.13 1532.04 Q1053.8 1529.94 1049.79 1529.94 Q1047.92 1529.94 1046.04 1530.35 Q1044.19 1530.77 1042.25 1531.65 L1042.25 1514.29 Z\" fill=\"#000000\" fill-rule=\"nonzero\" fill-opacity=\"1\" /><path clip-path=\"url(#clip040)\" d=\"M1082.36 1517.37 Q1078.75 1517.37 1076.92 1520.93 Q1075.12 1524.47 1075.12 1531.6 Q1075.12 1538.71 1076.92 1542.27 Q1078.75 1545.82 1082.36 1545.82 Q1086 1545.82 1087.8 1542.27 Q1089.63 1538.71 1089.63 1531.6 Q1089.63 1524.47 1087.8 1520.93 Q1086 1517.37 1082.36 1517.37 M1082.36 1513.66 Q1088.17 1513.66 1091.23 1518.27 Q1094.31 1522.85 1094.31 1531.6 Q1094.31 1540.33 1091.23 1544.94 Q1088.17 1549.52 1082.36 1549.52 Q1076.55 1549.52 1073.47 1544.94 Q1070.42 1540.33 1070.42 1531.6 Q1070.42 1522.85 1073.47 1518.27 Q1076.55 1513.66 1082.36 1513.66 Z\" fill=\"#000000\" fill-rule=\"nonzero\" fill-opacity=\"1\" /><path clip-path=\"url(#clip040)\" d=\"M1478.13 1514.29 L1500.35 1514.29 L1500.35 1516.28 L1487.81 1548.85 L1482.92 1548.85 L1494.73 1518.22 L1478.13 1518.22 L1478.13 1514.29 Z\" fill=\"#000000\" fill-rule=\"nonzero\" fill-opacity=\"1\" /><path clip-path=\"url(#clip040)\" d=\"M1509.52 1514.29 L1527.88 1514.29 L1527.88 1518.22 L1513.8 1518.22 L1513.8 1526.7 Q1514.82 1526.35 1515.84 1526.19 Q1516.86 1526 1517.88 1526 Q1523.66 1526 1527.04 1529.17 Q1530.42 1532.34 1530.42 1537.76 Q1530.42 1543.34 1526.95 1546.44 Q1523.48 1549.52 1517.16 1549.52 Q1514.98 1549.52 1512.71 1549.15 Q1510.47 1548.78 1508.06 1548.04 L1508.06 1543.34 Q1510.14 1544.47 1512.37 1545.03 Q1514.59 1545.58 1517.07 1545.58 Q1521.07 1545.58 1523.41 1543.48 Q1525.75 1541.37 1525.75 1537.76 Q1525.75 1534.15 1523.41 1532.04 Q1521.07 1529.94 1517.07 1529.94 Q1515.19 1529.94 1513.32 1530.35 Q1511.46 1530.77 1509.52 1531.65 L1509.52 1514.29 Z\" fill=\"#000000\" fill-rule=\"nonzero\" fill-opacity=\"1\" /><path clip-path=\"url(#clip040)\" d=\"M1900.61 1544.91 L1908.25 1544.91 L1908.25 1518.55 L1899.94 1520.21 L1899.94 1515.95 L1908.21 1514.29 L1912.88 1514.29 L1912.88 1544.91 L1920.52 1544.91 L1920.52 1548.85 L1900.61 1548.85 L1900.61 1544.91 Z\" fill=\"#000000\" fill-rule=\"nonzero\" fill-opacity=\"1\" /><path clip-path=\"url(#clip040)\" d=\"M1939.97 1517.37 Q1936.35 1517.37 1934.53 1520.93 Q1932.72 1524.47 1932.72 1531.6 Q1932.72 1538.71 1934.53 1542.27 Q1936.35 1545.82 1939.97 1545.82 Q1943.6 1545.82 1945.4 1542.27 Q1947.23 1538.71 1947.23 1531.6 Q1947.23 1524.47 1945.4 1520.93 Q1943.6 1517.37 1939.97 1517.37 M1939.97 1513.66 Q1945.78 1513.66 1948.83 1518.27 Q1951.91 1522.85 1951.91 1531.6 Q1951.91 1540.33 1948.83 1544.94 Q1945.78 1549.52 1939.97 1549.52 Q1934.16 1549.52 1931.08 1544.94 Q1928.02 1540.33 1928.02 1531.6 Q1928.02 1522.85 1931.08 1518.27 Q1934.16 1513.66 1939.97 1513.66 Z\" fill=\"#000000\" fill-rule=\"nonzero\" fill-opacity=\"1\" /><path clip-path=\"url(#clip040)\" d=\"M1970.13 1517.37 Q1966.52 1517.37 1964.69 1520.93 Q1962.88 1524.47 1962.88 1531.6 Q1962.88 1538.71 1964.69 1542.27 Q1966.52 1545.82 1970.13 1545.82 Q1973.76 1545.82 1975.57 1542.27 Q1977.4 1538.71 1977.4 1531.6 Q1977.4 1524.47 1975.57 1520.93 Q1973.76 1517.37 1970.13 1517.37 M1970.13 1513.66 Q1975.94 1513.66 1978.99 1518.27 Q1982.07 1522.85 1982.07 1531.6 Q1982.07 1540.33 1978.99 1544.94 Q1975.94 1549.52 1970.13 1549.52 Q1964.32 1549.52 1961.24 1544.94 Q1958.18 1540.33 1958.18 1531.6 Q1958.18 1522.85 1961.24 1518.27 Q1964.32 1513.66 1970.13 1513.66 Z\" fill=\"#000000\" fill-rule=\"nonzero\" fill-opacity=\"1\" /><polyline clip-path=\"url(#clip042)\" style=\"stroke:#000000; stroke-linecap:round; stroke-linejoin:round; stroke-width:2; stroke-opacity:0.1; fill:none\" points=\"149.191,1354.53 2352.76,1354.53 \"/>\n",
       "<polyline clip-path=\"url(#clip042)\" style=\"stroke:#000000; stroke-linecap:round; stroke-linejoin:round; stroke-width:2; stroke-opacity:0.1; fill:none\" points=\"149.191,1116.04 2352.76,1116.04 \"/>\n",
       "<polyline clip-path=\"url(#clip042)\" style=\"stroke:#000000; stroke-linecap:round; stroke-linejoin:round; stroke-width:2; stroke-opacity:0.1; fill:none\" points=\"149.191,877.538 2352.76,877.538 \"/>\n",
       "<polyline clip-path=\"url(#clip042)\" style=\"stroke:#000000; stroke-linecap:round; stroke-linejoin:round; stroke-width:2; stroke-opacity:0.1; fill:none\" points=\"149.191,639.041 2352.76,639.041 \"/>\n",
       "<polyline clip-path=\"url(#clip042)\" style=\"stroke:#000000; stroke-linecap:round; stroke-linejoin:round; stroke-width:2; stroke-opacity:0.1; fill:none\" points=\"149.191,400.544 2352.76,400.544 \"/>\n",
       "<polyline clip-path=\"url(#clip042)\" style=\"stroke:#000000; stroke-linecap:round; stroke-linejoin:round; stroke-width:2; stroke-opacity:0.1; fill:none\" points=\"149.191,162.047 2352.76,162.047 \"/>\n",
       "<polyline clip-path=\"url(#clip040)\" style=\"stroke:#000000; stroke-linecap:round; stroke-linejoin:round; stroke-width:4; stroke-opacity:1; fill:none\" points=\"149.191,1486.45 149.191,123.472 \"/>\n",
       "<polyline clip-path=\"url(#clip040)\" style=\"stroke:#000000; stroke-linecap:round; stroke-linejoin:round; stroke-width:4; stroke-opacity:1; fill:none\" points=\"149.191,1354.53 168.089,1354.53 \"/>\n",
       "<polyline clip-path=\"url(#clip040)\" style=\"stroke:#000000; stroke-linecap:round; stroke-linejoin:round; stroke-width:4; stroke-opacity:1; fill:none\" points=\"149.191,1116.04 168.089,1116.04 \"/>\n",
       "<polyline clip-path=\"url(#clip040)\" style=\"stroke:#000000; stroke-linecap:round; stroke-linejoin:round; stroke-width:4; stroke-opacity:1; fill:none\" points=\"149.191,877.538 168.089,877.538 \"/>\n",
       "<polyline clip-path=\"url(#clip040)\" style=\"stroke:#000000; stroke-linecap:round; stroke-linejoin:round; stroke-width:4; stroke-opacity:1; fill:none\" points=\"149.191,639.041 168.089,639.041 \"/>\n",
       "<polyline clip-path=\"url(#clip040)\" style=\"stroke:#000000; stroke-linecap:round; stroke-linejoin:round; stroke-width:4; stroke-opacity:1; fill:none\" points=\"149.191,400.544 168.089,400.544 \"/>\n",
       "<polyline clip-path=\"url(#clip040)\" style=\"stroke:#000000; stroke-linecap:round; stroke-linejoin:round; stroke-width:4; stroke-opacity:1; fill:none\" points=\"149.191,162.047 168.089,162.047 \"/>\n",
       "<path clip-path=\"url(#clip040)\" d=\"M52.4736 1354.98 L82.1494 1354.98 L82.1494 1358.92 L52.4736 1358.92 L52.4736 1354.98 Z\" fill=\"#000000\" fill-rule=\"nonzero\" fill-opacity=\"1\" /><path clip-path=\"url(#clip040)\" d=\"M92.2882 1337.25 L110.645 1337.25 L110.645 1341.19 L96.5706 1341.19 L96.5706 1349.66 Q97.5891 1349.31 98.6076 1349.15 Q99.6261 1348.97 100.645 1348.97 Q106.432 1348.97 109.811 1352.14 Q113.191 1355.31 113.191 1360.72 Q113.191 1366.3 109.719 1369.41 Q106.246 1372.48 99.927 1372.48 Q97.7511 1372.48 95.4826 1372.11 Q93.2373 1371.74 90.8299 1371 L90.8299 1366.3 Q92.9132 1367.44 95.1354 1367.99 Q97.3576 1368.55 99.8345 1368.55 Q103.839 1368.55 106.177 1366.44 Q108.515 1364.34 108.515 1360.72 Q108.515 1357.11 106.177 1355.01 Q103.839 1352.9 99.8345 1352.9 Q97.9595 1352.9 96.0845 1353.32 Q94.2326 1353.73 92.2882 1354.61 L92.2882 1337.25 Z\" fill=\"#000000\" fill-rule=\"nonzero\" fill-opacity=\"1\" /><path clip-path=\"url(#clip040)\" d=\"M50.9921 1116.49 L80.6679 1116.49 L80.6679 1120.42 L50.9921 1120.42 L50.9921 1116.49 Z\" fill=\"#000000\" fill-rule=\"nonzero\" fill-opacity=\"1\" /><path clip-path=\"url(#clip040)\" d=\"M103.608 1102.83 L91.8021 1121.28 L103.608 1121.28 L103.608 1102.83 M102.381 1098.76 L108.26 1098.76 L108.26 1121.28 L113.191 1121.28 L113.191 1125.17 L108.26 1125.17 L108.26 1133.32 L103.608 1133.32 L103.608 1125.17 L88.0058 1125.17 L88.0058 1120.65 L102.381 1098.76 Z\" fill=\"#000000\" fill-rule=\"nonzero\" fill-opacity=\"1\" /><path clip-path=\"url(#clip040)\" d=\"M52.1264 877.99 L81.8021 877.99 L81.8021 881.925 L52.1264 881.925 L52.1264 877.99 Z\" fill=\"#000000\" fill-rule=\"nonzero\" fill-opacity=\"1\" /><path clip-path=\"url(#clip040)\" d=\"M106.061 876.184 Q109.418 876.902 111.293 879.17 Q113.191 881.439 113.191 884.772 Q113.191 889.888 109.672 892.689 Q106.154 895.49 99.6724 895.49 Q97.4965 895.49 95.1817 895.05 Q92.89 894.633 90.4364 893.777 L90.4364 889.263 Q92.3808 890.397 94.6956 890.976 Q97.0104 891.554 99.5335 891.554 Q103.932 891.554 106.223 889.818 Q108.538 888.082 108.538 884.772 Q108.538 881.717 106.385 880.004 Q104.256 878.267 100.436 878.267 L96.4085 878.267 L96.4085 874.425 L100.621 874.425 Q104.071 874.425 105.899 873.059 Q107.728 871.67 107.728 869.078 Q107.728 866.416 105.83 865.004 Q103.955 863.568 100.436 863.568 Q98.515 863.568 96.316 863.985 Q94.1169 864.402 91.478 865.281 L91.478 861.115 Q94.14 860.374 96.4548 860.004 Q98.7928 859.633 100.853 859.633 Q106.177 859.633 109.279 862.064 Q112.381 864.471 112.381 868.592 Q112.381 871.462 110.737 873.453 Q109.094 875.42 106.061 876.184 Z\" fill=\"#000000\" fill-rule=\"nonzero\" fill-opacity=\"1\" /><path clip-path=\"url(#clip040)\" d=\"M53.0754 639.493 L82.7512 639.493 L82.7512 643.428 L53.0754 643.428 L53.0754 639.493 Z\" fill=\"#000000\" fill-rule=\"nonzero\" fill-opacity=\"1\" /><path clip-path=\"url(#clip040)\" d=\"M96.8715 652.386 L113.191 652.386 L113.191 656.321 L91.2465 656.321 L91.2465 652.386 Q93.9086 649.631 98.4919 645.002 Q103.098 640.349 104.279 639.006 Q106.524 636.483 107.404 634.747 Q108.307 632.988 108.307 631.298 Q108.307 628.544 106.362 626.807 Q104.441 625.071 101.339 625.071 Q99.14 625.071 96.6863 625.835 Q94.2558 626.599 91.478 628.15 L91.478 623.428 Q94.3021 622.294 96.7558 621.715 Q99.2095 621.136 101.246 621.136 Q106.617 621.136 109.811 623.821 Q113.006 626.507 113.006 630.997 Q113.006 633.127 112.196 635.048 Q111.408 636.946 109.302 639.539 Q108.723 640.21 105.621 643.428 Q102.52 646.622 96.8715 652.386 Z\" fill=\"#000000\" fill-rule=\"nonzero\" fill-opacity=\"1\" /><path clip-path=\"url(#clip040)\" d=\"M52.7051 400.995 L82.3808 400.995 L82.3808 404.931 L52.7051 404.931 L52.7051 400.995 Z\" fill=\"#000000\" fill-rule=\"nonzero\" fill-opacity=\"1\" /><path clip-path=\"url(#clip040)\" d=\"M93.2836 413.889 L100.922 413.889 L100.922 387.523 L92.6123 389.19 L92.6123 384.931 L100.876 383.264 L105.552 383.264 L105.552 413.889 L113.191 413.889 L113.191 417.824 L93.2836 417.824 L93.2836 413.889 Z\" fill=\"#000000\" fill-rule=\"nonzero\" fill-opacity=\"1\" /><path clip-path=\"url(#clip040)\" d=\"M101.246 147.846 Q97.6354 147.846 95.8067 151.41 Q94.0012 154.952 94.0012 162.082 Q94.0012 169.188 95.8067 172.753 Q97.6354 176.295 101.246 176.295 Q104.881 176.295 106.686 172.753 Q108.515 169.188 108.515 162.082 Q108.515 154.952 106.686 151.41 Q104.881 147.846 101.246 147.846 M101.246 144.142 Q107.057 144.142 110.112 148.748 Q113.191 153.332 113.191 162.082 Q113.191 170.808 110.112 175.415 Q107.057 179.998 101.246 179.998 Q95.4363 179.998 92.3576 175.415 Q89.3021 170.808 89.3021 162.082 Q89.3021 153.332 92.3576 148.748 Q95.4363 144.142 101.246 144.142 Z\" fill=\"#000000\" fill-rule=\"nonzero\" fill-opacity=\"1\" /><path clip-path=\"url(#clip040)\" d=\"M1193.73 12.096 L1205.93 12.096 L1221.36 53.2532 L1236.88 12.096 L1249.07 12.096 L1249.07 72.576 L1241.09 72.576 L1241.09 19.4686 L1225.49 60.9499 L1217.27 60.9499 L1201.67 19.4686 L1201.67 72.576 L1193.73 72.576 L1193.73 12.096 Z\" fill=\"#000000\" fill-rule=\"nonzero\" fill-opacity=\"1\" /><path clip-path=\"url(#clip040)\" d=\"M1273.5 43.6931 L1273.5 65.8515 L1286.62 65.8515 Q1293.22 65.8515 1296.38 63.1374 Q1299.58 60.3828 1299.58 54.752 Q1299.58 49.0808 1296.38 46.4072 Q1293.22 43.6931 1286.62 43.6931 L1273.5 43.6931 M1273.5 18.8205 L1273.5 37.0496 L1285.61 37.0496 Q1291.6 37.0496 1294.52 34.8216 Q1297.48 32.5531 1297.48 27.935 Q1297.48 23.3575 1294.52 21.089 Q1291.6 18.8205 1285.61 18.8205 L1273.5 18.8205 M1265.31 12.096 L1286.22 12.096 Q1295.57 12.096 1300.64 15.9849 Q1305.7 19.8737 1305.7 27.0438 Q1305.7 32.5936 1303.11 35.8748 Q1300.52 39.156 1295.49 39.9662 Q1301.53 41.2625 1304.85 45.3944 Q1308.21 49.4858 1308.21 55.6432 Q1308.21 63.745 1302.7 68.1605 Q1297.19 72.576 1287.03 72.576 L1265.31 72.576 L1265.31 12.096 Z\" fill=\"#000000\" fill-rule=\"nonzero\" fill-opacity=\"1\" /><circle clip-path=\"url(#clip042)\" cx=\"211.556\" cy=\"1447.87\" r=\"14.4\" fill=\"#009af9\" fill-rule=\"evenodd\" fill-opacity=\"1\" stroke=\"#000000\" stroke-opacity=\"1\" stroke-width=\"3.2\"/>\n",
       "<circle clip-path=\"url(#clip042)\" cx=\"229.025\" cy=\"1373.2\" r=\"14.4\" fill=\"#009af9\" fill-rule=\"evenodd\" fill-opacity=\"1\" stroke=\"#000000\" stroke-opacity=\"1\" stroke-width=\"3.2\"/>\n",
       "<circle clip-path=\"url(#clip042)\" cx=\"246.494\" cy=\"1320.08\" r=\"14.4\" fill=\"#009af9\" fill-rule=\"evenodd\" fill-opacity=\"1\" stroke=\"#000000\" stroke-opacity=\"1\" stroke-width=\"3.2\"/>\n",
       "<circle clip-path=\"url(#clip042)\" cx=\"263.964\" cy=\"1286.79\" r=\"14.4\" fill=\"#009af9\" fill-rule=\"evenodd\" fill-opacity=\"1\" stroke=\"#000000\" stroke-opacity=\"1\" stroke-width=\"3.2\"/>\n",
       "<circle clip-path=\"url(#clip042)\" cx=\"281.433\" cy=\"1282.86\" r=\"14.4\" fill=\"#009af9\" fill-rule=\"evenodd\" fill-opacity=\"1\" stroke=\"#000000\" stroke-opacity=\"1\" stroke-width=\"3.2\"/>\n",
       "<circle clip-path=\"url(#clip042)\" cx=\"298.902\" cy=\"1279.04\" r=\"14.4\" fill=\"#009af9\" fill-rule=\"evenodd\" fill-opacity=\"1\" stroke=\"#000000\" stroke-opacity=\"1\" stroke-width=\"3.2\"/>\n",
       "<circle clip-path=\"url(#clip042)\" cx=\"316.371\" cy=\"1260.43\" r=\"14.4\" fill=\"#009af9\" fill-rule=\"evenodd\" fill-opacity=\"1\" stroke=\"#000000\" stroke-opacity=\"1\" stroke-width=\"3.2\"/>\n",
       "<circle clip-path=\"url(#clip042)\" cx=\"333.84\" cy=\"1233.77\" r=\"14.4\" fill=\"#009af9\" fill-rule=\"evenodd\" fill-opacity=\"1\" stroke=\"#000000\" stroke-opacity=\"1\" stroke-width=\"3.2\"/>\n",
       "<circle clip-path=\"url(#clip042)\" cx=\"351.31\" cy=\"1221.77\" r=\"14.4\" fill=\"#009af9\" fill-rule=\"evenodd\" fill-opacity=\"1\" stroke=\"#000000\" stroke-opacity=\"1\" stroke-width=\"3.2\"/>\n",
       "<circle clip-path=\"url(#clip042)\" cx=\"368.779\" cy=\"1217.52\" r=\"14.4\" fill=\"#009af9\" fill-rule=\"evenodd\" fill-opacity=\"1\" stroke=\"#000000\" stroke-opacity=\"1\" stroke-width=\"3.2\"/>\n",
       "<circle clip-path=\"url(#clip042)\" cx=\"386.248\" cy=\"1201.37\" r=\"14.4\" fill=\"#009af9\" fill-rule=\"evenodd\" fill-opacity=\"1\" stroke=\"#000000\" stroke-opacity=\"1\" stroke-width=\"3.2\"/>\n",
       "<circle clip-path=\"url(#clip042)\" cx=\"403.717\" cy=\"1179.89\" r=\"14.4\" fill=\"#009af9\" fill-rule=\"evenodd\" fill-opacity=\"1\" stroke=\"#000000\" stroke-opacity=\"1\" stroke-width=\"3.2\"/>\n",
       "<circle clip-path=\"url(#clip042)\" cx=\"421.186\" cy=\"1177.34\" r=\"14.4\" fill=\"#009af9\" fill-rule=\"evenodd\" fill-opacity=\"1\" stroke=\"#000000\" stroke-opacity=\"1\" stroke-width=\"3.2\"/>\n",
       "<circle clip-path=\"url(#clip042)\" cx=\"438.656\" cy=\"1170.09\" r=\"14.4\" fill=\"#009af9\" fill-rule=\"evenodd\" fill-opacity=\"1\" stroke=\"#000000\" stroke-opacity=\"1\" stroke-width=\"3.2\"/>\n",
       "<circle clip-path=\"url(#clip042)\" cx=\"456.125\" cy=\"1161.57\" r=\"14.4\" fill=\"#009af9\" fill-rule=\"evenodd\" fill-opacity=\"1\" stroke=\"#000000\" stroke-opacity=\"1\" stroke-width=\"3.2\"/>\n",
       "<circle clip-path=\"url(#clip042)\" cx=\"473.594\" cy=\"1159.95\" r=\"14.4\" fill=\"#009af9\" fill-rule=\"evenodd\" fill-opacity=\"1\" stroke=\"#000000\" stroke-opacity=\"1\" stroke-width=\"3.2\"/>\n",
       "<circle clip-path=\"url(#clip042)\" cx=\"491.063\" cy=\"1127.93\" r=\"14.4\" fill=\"#009af9\" fill-rule=\"evenodd\" fill-opacity=\"1\" stroke=\"#000000\" stroke-opacity=\"1\" stroke-width=\"3.2\"/>\n",
       "<circle clip-path=\"url(#clip042)\" cx=\"508.532\" cy=\"1126.8\" r=\"14.4\" fill=\"#009af9\" fill-rule=\"evenodd\" fill-opacity=\"1\" stroke=\"#000000\" stroke-opacity=\"1\" stroke-width=\"3.2\"/>\n",
       "<circle clip-path=\"url(#clip042)\" cx=\"526.002\" cy=\"1126.21\" r=\"14.4\" fill=\"#009af9\" fill-rule=\"evenodd\" fill-opacity=\"1\" stroke=\"#000000\" stroke-opacity=\"1\" stroke-width=\"3.2\"/>\n",
       "<circle clip-path=\"url(#clip042)\" cx=\"543.471\" cy=\"1109.02\" r=\"14.4\" fill=\"#009af9\" fill-rule=\"evenodd\" fill-opacity=\"1\" stroke=\"#000000\" stroke-opacity=\"1\" stroke-width=\"3.2\"/>\n",
       "<circle clip-path=\"url(#clip042)\" cx=\"560.94\" cy=\"1096.36\" r=\"14.4\" fill=\"#009af9\" fill-rule=\"evenodd\" fill-opacity=\"1\" stroke=\"#000000\" stroke-opacity=\"1\" stroke-width=\"3.2\"/>\n",
       "<circle clip-path=\"url(#clip042)\" cx=\"578.409\" cy=\"1090.71\" r=\"14.4\" fill=\"#009af9\" fill-rule=\"evenodd\" fill-opacity=\"1\" stroke=\"#000000\" stroke-opacity=\"1\" stroke-width=\"3.2\"/>\n",
       "<circle clip-path=\"url(#clip042)\" cx=\"595.878\" cy=\"1088.7\" r=\"14.4\" fill=\"#009af9\" fill-rule=\"evenodd\" fill-opacity=\"1\" stroke=\"#000000\" stroke-opacity=\"1\" stroke-width=\"3.2\"/>\n",
       "<circle clip-path=\"url(#clip042)\" cx=\"613.348\" cy=\"1079.03\" r=\"14.4\" fill=\"#009af9\" fill-rule=\"evenodd\" fill-opacity=\"1\" stroke=\"#000000\" stroke-opacity=\"1\" stroke-width=\"3.2\"/>\n",
       "<circle clip-path=\"url(#clip042)\" cx=\"630.817\" cy=\"1072.88\" r=\"14.4\" fill=\"#009af9\" fill-rule=\"evenodd\" fill-opacity=\"1\" stroke=\"#000000\" stroke-opacity=\"1\" stroke-width=\"3.2\"/>\n",
       "<circle clip-path=\"url(#clip042)\" cx=\"648.286\" cy=\"1072.26\" r=\"14.4\" fill=\"#009af9\" fill-rule=\"evenodd\" fill-opacity=\"1\" stroke=\"#000000\" stroke-opacity=\"1\" stroke-width=\"3.2\"/>\n",
       "<circle clip-path=\"url(#clip042)\" cx=\"665.755\" cy=\"1060.14\" r=\"14.4\" fill=\"#009af9\" fill-rule=\"evenodd\" fill-opacity=\"1\" stroke=\"#000000\" stroke-opacity=\"1\" stroke-width=\"3.2\"/>\n",
       "<circle clip-path=\"url(#clip042)\" cx=\"683.224\" cy=\"1057.01\" r=\"14.4\" fill=\"#009af9\" fill-rule=\"evenodd\" fill-opacity=\"1\" stroke=\"#000000\" stroke-opacity=\"1\" stroke-width=\"3.2\"/>\n",
       "<circle clip-path=\"url(#clip042)\" cx=\"700.694\" cy=\"1054.6\" r=\"14.4\" fill=\"#009af9\" fill-rule=\"evenodd\" fill-opacity=\"1\" stroke=\"#000000\" stroke-opacity=\"1\" stroke-width=\"3.2\"/>\n",
       "<circle clip-path=\"url(#clip042)\" cx=\"718.163\" cy=\"1049.85\" r=\"14.4\" fill=\"#009af9\" fill-rule=\"evenodd\" fill-opacity=\"1\" stroke=\"#000000\" stroke-opacity=\"1\" stroke-width=\"3.2\"/>\n",
       "<circle clip-path=\"url(#clip042)\" cx=\"735.632\" cy=\"1037.39\" r=\"14.4\" fill=\"#009af9\" fill-rule=\"evenodd\" fill-opacity=\"1\" stroke=\"#000000\" stroke-opacity=\"1\" stroke-width=\"3.2\"/>\n",
       "<circle clip-path=\"url(#clip042)\" cx=\"753.101\" cy=\"1030.74\" r=\"14.4\" fill=\"#009af9\" fill-rule=\"evenodd\" fill-opacity=\"1\" stroke=\"#000000\" stroke-opacity=\"1\" stroke-width=\"3.2\"/>\n",
       "<circle clip-path=\"url(#clip042)\" cx=\"770.57\" cy=\"1028.28\" r=\"14.4\" fill=\"#009af9\" fill-rule=\"evenodd\" fill-opacity=\"1\" stroke=\"#000000\" stroke-opacity=\"1\" stroke-width=\"3.2\"/>\n",
       "<circle clip-path=\"url(#clip042)\" cx=\"788.04\" cy=\"1026.47\" r=\"14.4\" fill=\"#009af9\" fill-rule=\"evenodd\" fill-opacity=\"1\" stroke=\"#000000\" stroke-opacity=\"1\" stroke-width=\"3.2\"/>\n",
       "<circle clip-path=\"url(#clip042)\" cx=\"805.509\" cy=\"1023.44\" r=\"14.4\" fill=\"#009af9\" fill-rule=\"evenodd\" fill-opacity=\"1\" stroke=\"#000000\" stroke-opacity=\"1\" stroke-width=\"3.2\"/>\n",
       "<circle clip-path=\"url(#clip042)\" cx=\"822.978\" cy=\"1021.29\" r=\"14.4\" fill=\"#009af9\" fill-rule=\"evenodd\" fill-opacity=\"1\" stroke=\"#000000\" stroke-opacity=\"1\" stroke-width=\"3.2\"/>\n",
       "<circle clip-path=\"url(#clip042)\" cx=\"840.447\" cy=\"1018.84\" r=\"14.4\" fill=\"#009af9\" fill-rule=\"evenodd\" fill-opacity=\"1\" stroke=\"#000000\" stroke-opacity=\"1\" stroke-width=\"3.2\"/>\n",
       "<circle clip-path=\"url(#clip042)\" cx=\"857.916\" cy=\"1010.86\" r=\"14.4\" fill=\"#009af9\" fill-rule=\"evenodd\" fill-opacity=\"1\" stroke=\"#000000\" stroke-opacity=\"1\" stroke-width=\"3.2\"/>\n",
       "<circle clip-path=\"url(#clip042)\" cx=\"875.386\" cy=\"1009.6\" r=\"14.4\" fill=\"#009af9\" fill-rule=\"evenodd\" fill-opacity=\"1\" stroke=\"#000000\" stroke-opacity=\"1\" stroke-width=\"3.2\"/>\n",
       "<circle clip-path=\"url(#clip042)\" cx=\"892.855\" cy=\"1006.62\" r=\"14.4\" fill=\"#009af9\" fill-rule=\"evenodd\" fill-opacity=\"1\" stroke=\"#000000\" stroke-opacity=\"1\" stroke-width=\"3.2\"/>\n",
       "<circle clip-path=\"url(#clip042)\" cx=\"910.324\" cy=\"1002.83\" r=\"14.4\" fill=\"#009af9\" fill-rule=\"evenodd\" fill-opacity=\"1\" stroke=\"#000000\" stroke-opacity=\"1\" stroke-width=\"3.2\"/>\n",
       "<circle clip-path=\"url(#clip042)\" cx=\"927.793\" cy=\"999.696\" r=\"14.4\" fill=\"#009af9\" fill-rule=\"evenodd\" fill-opacity=\"1\" stroke=\"#000000\" stroke-opacity=\"1\" stroke-width=\"3.2\"/>\n",
       "<circle clip-path=\"url(#clip042)\" cx=\"945.262\" cy=\"984.929\" r=\"14.4\" fill=\"#009af9\" fill-rule=\"evenodd\" fill-opacity=\"1\" stroke=\"#000000\" stroke-opacity=\"1\" stroke-width=\"3.2\"/>\n",
       "<circle clip-path=\"url(#clip042)\" cx=\"962.732\" cy=\"978.934\" r=\"14.4\" fill=\"#009af9\" fill-rule=\"evenodd\" fill-opacity=\"1\" stroke=\"#000000\" stroke-opacity=\"1\" stroke-width=\"3.2\"/>\n",
       "<circle clip-path=\"url(#clip042)\" cx=\"980.201\" cy=\"976.506\" r=\"14.4\" fill=\"#009af9\" fill-rule=\"evenodd\" fill-opacity=\"1\" stroke=\"#000000\" stroke-opacity=\"1\" stroke-width=\"3.2\"/>\n",
       "<circle clip-path=\"url(#clip042)\" cx=\"997.67\" cy=\"973.758\" r=\"14.4\" fill=\"#009af9\" fill-rule=\"evenodd\" fill-opacity=\"1\" stroke=\"#000000\" stroke-opacity=\"1\" stroke-width=\"3.2\"/>\n",
       "<circle clip-path=\"url(#clip042)\" cx=\"1015.14\" cy=\"971.626\" r=\"14.4\" fill=\"#009af9\" fill-rule=\"evenodd\" fill-opacity=\"1\" stroke=\"#000000\" stroke-opacity=\"1\" stroke-width=\"3.2\"/>\n",
       "<circle clip-path=\"url(#clip042)\" cx=\"1032.61\" cy=\"968.175\" r=\"14.4\" fill=\"#009af9\" fill-rule=\"evenodd\" fill-opacity=\"1\" stroke=\"#000000\" stroke-opacity=\"1\" stroke-width=\"3.2\"/>\n",
       "<circle clip-path=\"url(#clip042)\" cx=\"1050.08\" cy=\"963.991\" r=\"14.4\" fill=\"#009af9\" fill-rule=\"evenodd\" fill-opacity=\"1\" stroke=\"#000000\" stroke-opacity=\"1\" stroke-width=\"3.2\"/>\n",
       "<circle clip-path=\"url(#clip042)\" cx=\"1067.55\" cy=\"961.126\" r=\"14.4\" fill=\"#009af9\" fill-rule=\"evenodd\" fill-opacity=\"1\" stroke=\"#000000\" stroke-opacity=\"1\" stroke-width=\"3.2\"/>\n",
       "<circle clip-path=\"url(#clip042)\" cx=\"1085.02\" cy=\"957.797\" r=\"14.4\" fill=\"#009af9\" fill-rule=\"evenodd\" fill-opacity=\"1\" stroke=\"#000000\" stroke-opacity=\"1\" stroke-width=\"3.2\"/>\n",
       "<circle clip-path=\"url(#clip042)\" cx=\"1102.49\" cy=\"944.24\" r=\"14.4\" fill=\"#009af9\" fill-rule=\"evenodd\" fill-opacity=\"1\" stroke=\"#000000\" stroke-opacity=\"1\" stroke-width=\"3.2\"/>\n",
       "<circle clip-path=\"url(#clip042)\" cx=\"1119.95\" cy=\"943.047\" r=\"14.4\" fill=\"#009af9\" fill-rule=\"evenodd\" fill-opacity=\"1\" stroke=\"#000000\" stroke-opacity=\"1\" stroke-width=\"3.2\"/>\n",
       "<circle clip-path=\"url(#clip042)\" cx=\"1137.42\" cy=\"931.805\" r=\"14.4\" fill=\"#009af9\" fill-rule=\"evenodd\" fill-opacity=\"1\" stroke=\"#000000\" stroke-opacity=\"1\" stroke-width=\"3.2\"/>\n",
       "<circle clip-path=\"url(#clip042)\" cx=\"1154.89\" cy=\"926.327\" r=\"14.4\" fill=\"#009af9\" fill-rule=\"evenodd\" fill-opacity=\"1\" stroke=\"#000000\" stroke-opacity=\"1\" stroke-width=\"3.2\"/>\n",
       "<circle clip-path=\"url(#clip042)\" cx=\"1172.36\" cy=\"925.058\" r=\"14.4\" fill=\"#009af9\" fill-rule=\"evenodd\" fill-opacity=\"1\" stroke=\"#000000\" stroke-opacity=\"1\" stroke-width=\"3.2\"/>\n",
       "<circle clip-path=\"url(#clip042)\" cx=\"1189.83\" cy=\"914.809\" r=\"14.4\" fill=\"#009af9\" fill-rule=\"evenodd\" fill-opacity=\"1\" stroke=\"#000000\" stroke-opacity=\"1\" stroke-width=\"3.2\"/>\n",
       "<circle clip-path=\"url(#clip042)\" cx=\"1207.3\" cy=\"912.212\" r=\"14.4\" fill=\"#009af9\" fill-rule=\"evenodd\" fill-opacity=\"1\" stroke=\"#000000\" stroke-opacity=\"1\" stroke-width=\"3.2\"/>\n",
       "<circle clip-path=\"url(#clip042)\" cx=\"1224.77\" cy=\"904.732\" r=\"14.4\" fill=\"#009af9\" fill-rule=\"evenodd\" fill-opacity=\"1\" stroke=\"#000000\" stroke-opacity=\"1\" stroke-width=\"3.2\"/>\n",
       "<circle clip-path=\"url(#clip042)\" cx=\"1242.24\" cy=\"896.549\" r=\"14.4\" fill=\"#009af9\" fill-rule=\"evenodd\" fill-opacity=\"1\" stroke=\"#000000\" stroke-opacity=\"1\" stroke-width=\"3.2\"/>\n",
       "<circle clip-path=\"url(#clip042)\" cx=\"1259.71\" cy=\"893.772\" r=\"14.4\" fill=\"#009af9\" fill-rule=\"evenodd\" fill-opacity=\"1\" stroke=\"#000000\" stroke-opacity=\"1\" stroke-width=\"3.2\"/>\n",
       "<circle clip-path=\"url(#clip042)\" cx=\"1277.18\" cy=\"890.349\" r=\"14.4\" fill=\"#009af9\" fill-rule=\"evenodd\" fill-opacity=\"1\" stroke=\"#000000\" stroke-opacity=\"1\" stroke-width=\"3.2\"/>\n",
       "<circle clip-path=\"url(#clip042)\" cx=\"1294.65\" cy=\"882.687\" r=\"14.4\" fill=\"#009af9\" fill-rule=\"evenodd\" fill-opacity=\"1\" stroke=\"#000000\" stroke-opacity=\"1\" stroke-width=\"3.2\"/>\n",
       "<circle clip-path=\"url(#clip042)\" cx=\"1312.12\" cy=\"880.256\" r=\"14.4\" fill=\"#009af9\" fill-rule=\"evenodd\" fill-opacity=\"1\" stroke=\"#000000\" stroke-opacity=\"1\" stroke-width=\"3.2\"/>\n",
       "<circle clip-path=\"url(#clip042)\" cx=\"1329.58\" cy=\"857.654\" r=\"14.4\" fill=\"#009af9\" fill-rule=\"evenodd\" fill-opacity=\"1\" stroke=\"#000000\" stroke-opacity=\"1\" stroke-width=\"3.2\"/>\n",
       "<circle clip-path=\"url(#clip042)\" cx=\"1347.05\" cy=\"857.576\" r=\"14.4\" fill=\"#009af9\" fill-rule=\"evenodd\" fill-opacity=\"1\" stroke=\"#000000\" stroke-opacity=\"1\" stroke-width=\"3.2\"/>\n",
       "<circle clip-path=\"url(#clip042)\" cx=\"1364.52\" cy=\"854.005\" r=\"14.4\" fill=\"#009af9\" fill-rule=\"evenodd\" fill-opacity=\"1\" stroke=\"#000000\" stroke-opacity=\"1\" stroke-width=\"3.2\"/>\n",
       "<circle clip-path=\"url(#clip042)\" cx=\"1381.99\" cy=\"852.649\" r=\"14.4\" fill=\"#009af9\" fill-rule=\"evenodd\" fill-opacity=\"1\" stroke=\"#000000\" stroke-opacity=\"1\" stroke-width=\"3.2\"/>\n",
       "<circle clip-path=\"url(#clip042)\" cx=\"1399.46\" cy=\"848.781\" r=\"14.4\" fill=\"#009af9\" fill-rule=\"evenodd\" fill-opacity=\"1\" stroke=\"#000000\" stroke-opacity=\"1\" stroke-width=\"3.2\"/>\n",
       "<circle clip-path=\"url(#clip042)\" cx=\"1416.93\" cy=\"845.902\" r=\"14.4\" fill=\"#009af9\" fill-rule=\"evenodd\" fill-opacity=\"1\" stroke=\"#000000\" stroke-opacity=\"1\" stroke-width=\"3.2\"/>\n",
       "<circle clip-path=\"url(#clip042)\" cx=\"1434.4\" cy=\"840.1\" r=\"14.4\" fill=\"#009af9\" fill-rule=\"evenodd\" fill-opacity=\"1\" stroke=\"#000000\" stroke-opacity=\"1\" stroke-width=\"3.2\"/>\n",
       "<circle clip-path=\"url(#clip042)\" cx=\"1451.87\" cy=\"837.895\" r=\"14.4\" fill=\"#009af9\" fill-rule=\"evenodd\" fill-opacity=\"1\" stroke=\"#000000\" stroke-opacity=\"1\" stroke-width=\"3.2\"/>\n",
       "<circle clip-path=\"url(#clip042)\" cx=\"1469.34\" cy=\"825.07\" r=\"14.4\" fill=\"#009af9\" fill-rule=\"evenodd\" fill-opacity=\"1\" stroke=\"#000000\" stroke-opacity=\"1\" stroke-width=\"3.2\"/>\n",
       "<circle clip-path=\"url(#clip042)\" cx=\"1486.81\" cy=\"814.745\" r=\"14.4\" fill=\"#009af9\" fill-rule=\"evenodd\" fill-opacity=\"1\" stroke=\"#000000\" stroke-opacity=\"1\" stroke-width=\"3.2\"/>\n",
       "<circle clip-path=\"url(#clip042)\" cx=\"1504.28\" cy=\"812.904\" r=\"14.4\" fill=\"#009af9\" fill-rule=\"evenodd\" fill-opacity=\"1\" stroke=\"#000000\" stroke-opacity=\"1\" stroke-width=\"3.2\"/>\n",
       "<circle clip-path=\"url(#clip042)\" cx=\"1521.75\" cy=\"810.765\" r=\"14.4\" fill=\"#009af9\" fill-rule=\"evenodd\" fill-opacity=\"1\" stroke=\"#000000\" stroke-opacity=\"1\" stroke-width=\"3.2\"/>\n",
       "<circle clip-path=\"url(#clip042)\" cx=\"1539.22\" cy=\"806.968\" r=\"14.4\" fill=\"#009af9\" fill-rule=\"evenodd\" fill-opacity=\"1\" stroke=\"#000000\" stroke-opacity=\"1\" stroke-width=\"3.2\"/>\n",
       "<circle clip-path=\"url(#clip042)\" cx=\"1556.68\" cy=\"806.134\" r=\"14.4\" fill=\"#009af9\" fill-rule=\"evenodd\" fill-opacity=\"1\" stroke=\"#000000\" stroke-opacity=\"1\" stroke-width=\"3.2\"/>\n",
       "<circle clip-path=\"url(#clip042)\" cx=\"1574.15\" cy=\"805.492\" r=\"14.4\" fill=\"#009af9\" fill-rule=\"evenodd\" fill-opacity=\"1\" stroke=\"#000000\" stroke-opacity=\"1\" stroke-width=\"3.2\"/>\n",
       "<circle clip-path=\"url(#clip042)\" cx=\"1591.62\" cy=\"802.726\" r=\"14.4\" fill=\"#009af9\" fill-rule=\"evenodd\" fill-opacity=\"1\" stroke=\"#000000\" stroke-opacity=\"1\" stroke-width=\"3.2\"/>\n",
       "<circle clip-path=\"url(#clip042)\" cx=\"1609.09\" cy=\"800.812\" r=\"14.4\" fill=\"#009af9\" fill-rule=\"evenodd\" fill-opacity=\"1\" stroke=\"#000000\" stroke-opacity=\"1\" stroke-width=\"3.2\"/>\n",
       "<circle clip-path=\"url(#clip042)\" cx=\"1626.56\" cy=\"794.382\" r=\"14.4\" fill=\"#009af9\" fill-rule=\"evenodd\" fill-opacity=\"1\" stroke=\"#000000\" stroke-opacity=\"1\" stroke-width=\"3.2\"/>\n",
       "<circle clip-path=\"url(#clip042)\" cx=\"1644.03\" cy=\"788.02\" r=\"14.4\" fill=\"#009af9\" fill-rule=\"evenodd\" fill-opacity=\"1\" stroke=\"#000000\" stroke-opacity=\"1\" stroke-width=\"3.2\"/>\n",
       "<circle clip-path=\"url(#clip042)\" cx=\"1661.5\" cy=\"783.922\" r=\"14.4\" fill=\"#009af9\" fill-rule=\"evenodd\" fill-opacity=\"1\" stroke=\"#000000\" stroke-opacity=\"1\" stroke-width=\"3.2\"/>\n",
       "<circle clip-path=\"url(#clip042)\" cx=\"1678.97\" cy=\"774.205\" r=\"14.4\" fill=\"#009af9\" fill-rule=\"evenodd\" fill-opacity=\"1\" stroke=\"#000000\" stroke-opacity=\"1\" stroke-width=\"3.2\"/>\n",
       "<circle clip-path=\"url(#clip042)\" cx=\"1696.44\" cy=\"769.766\" r=\"14.4\" fill=\"#009af9\" fill-rule=\"evenodd\" fill-opacity=\"1\" stroke=\"#000000\" stroke-opacity=\"1\" stroke-width=\"3.2\"/>\n",
       "<circle clip-path=\"url(#clip042)\" cx=\"1713.91\" cy=\"768.435\" r=\"14.4\" fill=\"#009af9\" fill-rule=\"evenodd\" fill-opacity=\"1\" stroke=\"#000000\" stroke-opacity=\"1\" stroke-width=\"3.2\"/>\n",
       "<circle clip-path=\"url(#clip042)\" cx=\"1731.38\" cy=\"762.947\" r=\"14.4\" fill=\"#009af9\" fill-rule=\"evenodd\" fill-opacity=\"1\" stroke=\"#000000\" stroke-opacity=\"1\" stroke-width=\"3.2\"/>\n",
       "<circle clip-path=\"url(#clip042)\" cx=\"1748.85\" cy=\"755.115\" r=\"14.4\" fill=\"#009af9\" fill-rule=\"evenodd\" fill-opacity=\"1\" stroke=\"#000000\" stroke-opacity=\"1\" stroke-width=\"3.2\"/>\n",
       "<circle clip-path=\"url(#clip042)\" cx=\"1766.31\" cy=\"755.058\" r=\"14.4\" fill=\"#009af9\" fill-rule=\"evenodd\" fill-opacity=\"1\" stroke=\"#000000\" stroke-opacity=\"1\" stroke-width=\"3.2\"/>\n",
       "<circle clip-path=\"url(#clip042)\" cx=\"1783.78\" cy=\"747.231\" r=\"14.4\" fill=\"#009af9\" fill-rule=\"evenodd\" fill-opacity=\"1\" stroke=\"#000000\" stroke-opacity=\"1\" stroke-width=\"3.2\"/>\n",
       "<circle clip-path=\"url(#clip042)\" cx=\"1801.25\" cy=\"744.898\" r=\"14.4\" fill=\"#009af9\" fill-rule=\"evenodd\" fill-opacity=\"1\" stroke=\"#000000\" stroke-opacity=\"1\" stroke-width=\"3.2\"/>\n",
       "<circle clip-path=\"url(#clip042)\" cx=\"1818.72\" cy=\"740.243\" r=\"14.4\" fill=\"#009af9\" fill-rule=\"evenodd\" fill-opacity=\"1\" stroke=\"#000000\" stroke-opacity=\"1\" stroke-width=\"3.2\"/>\n",
       "<circle clip-path=\"url(#clip042)\" cx=\"1836.19\" cy=\"738.674\" r=\"14.4\" fill=\"#009af9\" fill-rule=\"evenodd\" fill-opacity=\"1\" stroke=\"#000000\" stroke-opacity=\"1\" stroke-width=\"3.2\"/>\n",
       "<circle clip-path=\"url(#clip042)\" cx=\"1853.66\" cy=\"728.822\" r=\"14.4\" fill=\"#009af9\" fill-rule=\"evenodd\" fill-opacity=\"1\" stroke=\"#000000\" stroke-opacity=\"1\" stroke-width=\"3.2\"/>\n",
       "<circle clip-path=\"url(#clip042)\" cx=\"1871.13\" cy=\"720.836\" r=\"14.4\" fill=\"#009af9\" fill-rule=\"evenodd\" fill-opacity=\"1\" stroke=\"#000000\" stroke-opacity=\"1\" stroke-width=\"3.2\"/>\n",
       "<circle clip-path=\"url(#clip042)\" cx=\"1888.6\" cy=\"716.558\" r=\"14.4\" fill=\"#009af9\" fill-rule=\"evenodd\" fill-opacity=\"1\" stroke=\"#000000\" stroke-opacity=\"1\" stroke-width=\"3.2\"/>\n",
       "<circle clip-path=\"url(#clip042)\" cx=\"1906.07\" cy=\"690.768\" r=\"14.4\" fill=\"#009af9\" fill-rule=\"evenodd\" fill-opacity=\"1\" stroke=\"#000000\" stroke-opacity=\"1\" stroke-width=\"3.2\"/>\n",
       "<circle clip-path=\"url(#clip042)\" cx=\"1923.54\" cy=\"684.997\" r=\"14.4\" fill=\"#009af9\" fill-rule=\"evenodd\" fill-opacity=\"1\" stroke=\"#000000\" stroke-opacity=\"1\" stroke-width=\"3.2\"/>\n",
       "<circle clip-path=\"url(#clip042)\" cx=\"1941.01\" cy=\"677.726\" r=\"14.4\" fill=\"#009af9\" fill-rule=\"evenodd\" fill-opacity=\"1\" stroke=\"#000000\" stroke-opacity=\"1\" stroke-width=\"3.2\"/>\n",
       "<circle clip-path=\"url(#clip042)\" cx=\"1958.48\" cy=\"668.253\" r=\"14.4\" fill=\"#009af9\" fill-rule=\"evenodd\" fill-opacity=\"1\" stroke=\"#000000\" stroke-opacity=\"1\" stroke-width=\"3.2\"/>\n",
       "<circle clip-path=\"url(#clip042)\" cx=\"1975.95\" cy=\"645.471\" r=\"14.4\" fill=\"#009af9\" fill-rule=\"evenodd\" fill-opacity=\"1\" stroke=\"#000000\" stroke-opacity=\"1\" stroke-width=\"3.2\"/>\n",
       "<circle clip-path=\"url(#clip042)\" cx=\"1993.41\" cy=\"642.012\" r=\"14.4\" fill=\"#009af9\" fill-rule=\"evenodd\" fill-opacity=\"1\" stroke=\"#000000\" stroke-opacity=\"1\" stroke-width=\"3.2\"/>\n",
       "<circle clip-path=\"url(#clip042)\" cx=\"2010.88\" cy=\"634.147\" r=\"14.4\" fill=\"#009af9\" fill-rule=\"evenodd\" fill-opacity=\"1\" stroke=\"#000000\" stroke-opacity=\"1\" stroke-width=\"3.2\"/>\n",
       "<circle clip-path=\"url(#clip042)\" cx=\"2028.35\" cy=\"620.114\" r=\"14.4\" fill=\"#009af9\" fill-rule=\"evenodd\" fill-opacity=\"1\" stroke=\"#000000\" stroke-opacity=\"1\" stroke-width=\"3.2\"/>\n",
       "<circle clip-path=\"url(#clip042)\" cx=\"2045.82\" cy=\"615.749\" r=\"14.4\" fill=\"#009af9\" fill-rule=\"evenodd\" fill-opacity=\"1\" stroke=\"#000000\" stroke-opacity=\"1\" stroke-width=\"3.2\"/>\n",
       "<circle clip-path=\"url(#clip042)\" cx=\"2063.29\" cy=\"601.928\" r=\"14.4\" fill=\"#009af9\" fill-rule=\"evenodd\" fill-opacity=\"1\" stroke=\"#000000\" stroke-opacity=\"1\" stroke-width=\"3.2\"/>\n",
       "<circle clip-path=\"url(#clip042)\" cx=\"2080.76\" cy=\"596.599\" r=\"14.4\" fill=\"#009af9\" fill-rule=\"evenodd\" fill-opacity=\"1\" stroke=\"#000000\" stroke-opacity=\"1\" stroke-width=\"3.2\"/>\n",
       "<circle clip-path=\"url(#clip042)\" cx=\"2098.23\" cy=\"591.413\" r=\"14.4\" fill=\"#009af9\" fill-rule=\"evenodd\" fill-opacity=\"1\" stroke=\"#000000\" stroke-opacity=\"1\" stroke-width=\"3.2\"/>\n",
       "<circle clip-path=\"url(#clip042)\" cx=\"2115.7\" cy=\"576.472\" r=\"14.4\" fill=\"#009af9\" fill-rule=\"evenodd\" fill-opacity=\"1\" stroke=\"#000000\" stroke-opacity=\"1\" stroke-width=\"3.2\"/>\n",
       "<circle clip-path=\"url(#clip042)\" cx=\"2133.17\" cy=\"569.731\" r=\"14.4\" fill=\"#009af9\" fill-rule=\"evenodd\" fill-opacity=\"1\" stroke=\"#000000\" stroke-opacity=\"1\" stroke-width=\"3.2\"/>\n",
       "<circle clip-path=\"url(#clip042)\" cx=\"2150.64\" cy=\"567.624\" r=\"14.4\" fill=\"#009af9\" fill-rule=\"evenodd\" fill-opacity=\"1\" stroke=\"#000000\" stroke-opacity=\"1\" stroke-width=\"3.2\"/>\n",
       "<circle clip-path=\"url(#clip042)\" cx=\"2168.11\" cy=\"554.951\" r=\"14.4\" fill=\"#009af9\" fill-rule=\"evenodd\" fill-opacity=\"1\" stroke=\"#000000\" stroke-opacity=\"1\" stroke-width=\"3.2\"/>\n",
       "<circle clip-path=\"url(#clip042)\" cx=\"2185.58\" cy=\"510.489\" r=\"14.4\" fill=\"#009af9\" fill-rule=\"evenodd\" fill-opacity=\"1\" stroke=\"#000000\" stroke-opacity=\"1\" stroke-width=\"3.2\"/>\n",
       "<circle clip-path=\"url(#clip042)\" cx=\"2203.04\" cy=\"491.777\" r=\"14.4\" fill=\"#009af9\" fill-rule=\"evenodd\" fill-opacity=\"1\" stroke=\"#000000\" stroke-opacity=\"1\" stroke-width=\"3.2\"/>\n",
       "<circle clip-path=\"url(#clip042)\" cx=\"2220.51\" cy=\"405.913\" r=\"14.4\" fill=\"#009af9\" fill-rule=\"evenodd\" fill-opacity=\"1\" stroke=\"#000000\" stroke-opacity=\"1\" stroke-width=\"3.2\"/>\n",
       "<circle clip-path=\"url(#clip042)\" cx=\"2237.98\" cy=\"398.365\" r=\"14.4\" fill=\"#009af9\" fill-rule=\"evenodd\" fill-opacity=\"1\" stroke=\"#000000\" stroke-opacity=\"1\" stroke-width=\"3.2\"/>\n",
       "<circle clip-path=\"url(#clip042)\" cx=\"2255.45\" cy=\"392.001\" r=\"14.4\" fill=\"#009af9\" fill-rule=\"evenodd\" fill-opacity=\"1\" stroke=\"#000000\" stroke-opacity=\"1\" stroke-width=\"3.2\"/>\n",
       "<circle clip-path=\"url(#clip042)\" cx=\"2272.92\" cy=\"348.182\" r=\"14.4\" fill=\"#009af9\" fill-rule=\"evenodd\" fill-opacity=\"1\" stroke=\"#000000\" stroke-opacity=\"1\" stroke-width=\"3.2\"/>\n",
       "<circle clip-path=\"url(#clip042)\" cx=\"2290.39\" cy=\"162.047\" r=\"14.4\" fill=\"#009af9\" fill-rule=\"evenodd\" fill-opacity=\"1\" stroke=\"#000000\" stroke-opacity=\"1\" stroke-width=\"3.2\"/>\n",
       "<path clip-path=\"url(#clip040)\" d=\"M222.643 272.585 L495.43 272.585 L495.43 168.905 L222.643 168.905  Z\" fill=\"#ffffff\" fill-rule=\"evenodd\" fill-opacity=\"1\"/>\n",
       "<polyline clip-path=\"url(#clip040)\" style=\"stroke:#000000; stroke-linecap:round; stroke-linejoin:round; stroke-width:4; stroke-opacity:1; fill:none\" points=\"222.643,272.585 495.43,272.585 495.43,168.905 222.643,168.905 222.643,272.585 \"/>\n",
       "<circle clip-path=\"url(#clip040)\" cx=\"320.579\" cy=\"220.745\" r=\"20.48\" fill=\"#009af9\" fill-rule=\"evenodd\" fill-opacity=\"1\" stroke=\"#000000\" stroke-opacity=\"1\" stroke-width=\"4.55111\"/>\n",
       "<path clip-path=\"url(#clip040)\" d=\"M432.358 240.432 Q430.552 245.062 428.84 246.474 Q427.127 247.886 424.256 247.886 L420.853 247.886 L420.853 244.321 L423.353 244.321 Q425.113 244.321 426.085 243.488 Q427.057 242.654 428.238 239.552 L429.002 237.608 L418.515 212.099 L423.029 212.099 L431.131 232.377 L439.233 212.099 L443.747 212.099 L432.358 240.432 Z\" fill=\"#000000\" fill-rule=\"nonzero\" fill-opacity=\"1\" /><path clip-path=\"url(#clip040)\" d=\"M451.038 234.089 L458.677 234.089 L458.677 207.724 L450.367 209.391 L450.367 205.131 L458.631 203.465 L463.307 203.465 L463.307 234.089 L470.946 234.089 L470.946 238.025 L451.038 238.025 L451.038 234.089 Z\" fill=\"#000000\" fill-rule=\"nonzero\" fill-opacity=\"1\" /></svg>\n"
      ],
      "text/html": [
       "<?xml version=\"1.0\" encoding=\"utf-8\"?>\n",
       "<svg xmlns=\"http://www.w3.org/2000/svg\" xmlns:xlink=\"http://www.w3.org/1999/xlink\" width=\"600\" height=\"400\" viewBox=\"0 0 2400 1600\">\n",
       "<defs>\n",
       "  <clipPath id=\"clip090\">\n",
       "    <rect x=\"0\" y=\"0\" width=\"2400\" height=\"1600\"/>\n",
       "  </clipPath>\n",
       "</defs>\n",
       "<path clip-path=\"url(#clip090)\" d=\"M0 1600 L2400 1600 L2400 0 L0 0  Z\" fill=\"#ffffff\" fill-rule=\"evenodd\" fill-opacity=\"1\"/>\n",
       "<defs>\n",
       "  <clipPath id=\"clip091\">\n",
       "    <rect x=\"480\" y=\"0\" width=\"1681\" height=\"1600\"/>\n",
       "  </clipPath>\n",
       "</defs>\n",
       "<path clip-path=\"url(#clip090)\" d=\"M149.191 1486.45 L2352.76 1486.45 L2352.76 123.472 L149.191 123.472  Z\" fill=\"#ffffff\" fill-rule=\"evenodd\" fill-opacity=\"1\"/>\n",
       "<defs>\n",
       "  <clipPath id=\"clip092\">\n",
       "    <rect x=\"149\" y=\"123\" width=\"2205\" height=\"1364\"/>\n",
       "  </clipPath>\n",
       "</defs>\n",
       "<polyline clip-path=\"url(#clip092)\" style=\"stroke:#000000; stroke-linecap:round; stroke-linejoin:round; stroke-width:2; stroke-opacity:0.1; fill:none\" points=\"194.087,1486.45 194.087,123.472 \"/>\n",
       "<polyline clip-path=\"url(#clip092)\" style=\"stroke:#000000; stroke-linecap:round; stroke-linejoin:round; stroke-width:2; stroke-opacity:0.1; fill:none\" points=\"630.817,1486.45 630.817,123.472 \"/>\n",
       "<polyline clip-path=\"url(#clip092)\" style=\"stroke:#000000; stroke-linecap:round; stroke-linejoin:round; stroke-width:2; stroke-opacity:0.1; fill:none\" points=\"1067.55,1486.45 1067.55,123.472 \"/>\n",
       "<polyline clip-path=\"url(#clip092)\" style=\"stroke:#000000; stroke-linecap:round; stroke-linejoin:round; stroke-width:2; stroke-opacity:0.1; fill:none\" points=\"1504.28,1486.45 1504.28,123.472 \"/>\n",
       "<polyline clip-path=\"url(#clip092)\" style=\"stroke:#000000; stroke-linecap:round; stroke-linejoin:round; stroke-width:2; stroke-opacity:0.1; fill:none\" points=\"1941.01,1486.45 1941.01,123.472 \"/>\n",
       "<polyline clip-path=\"url(#clip090)\" style=\"stroke:#000000; stroke-linecap:round; stroke-linejoin:round; stroke-width:4; stroke-opacity:1; fill:none\" points=\"149.191,1486.45 2352.76,1486.45 \"/>\n",
       "<polyline clip-path=\"url(#clip090)\" style=\"stroke:#000000; stroke-linecap:round; stroke-linejoin:round; stroke-width:4; stroke-opacity:1; fill:none\" points=\"194.087,1486.45 194.087,1467.55 \"/>\n",
       "<polyline clip-path=\"url(#clip090)\" style=\"stroke:#000000; stroke-linecap:round; stroke-linejoin:round; stroke-width:4; stroke-opacity:1; fill:none\" points=\"630.817,1486.45 630.817,1467.55 \"/>\n",
       "<polyline clip-path=\"url(#clip090)\" style=\"stroke:#000000; stroke-linecap:round; stroke-linejoin:round; stroke-width:4; stroke-opacity:1; fill:none\" points=\"1067.55,1486.45 1067.55,1467.55 \"/>\n",
       "<polyline clip-path=\"url(#clip090)\" style=\"stroke:#000000; stroke-linecap:round; stroke-linejoin:round; stroke-width:4; stroke-opacity:1; fill:none\" points=\"1504.28,1486.45 1504.28,1467.55 \"/>\n",
       "<polyline clip-path=\"url(#clip090)\" style=\"stroke:#000000; stroke-linecap:round; stroke-linejoin:round; stroke-width:4; stroke-opacity:1; fill:none\" points=\"1941.01,1486.45 1941.01,1467.55 \"/>\n",
       "<path clip-path=\"url(#clip090)\" d=\"M194.087 1517.37 Q190.476 1517.37 188.647 1520.93 Q186.841 1524.47 186.841 1531.6 Q186.841 1538.71 188.647 1542.27 Q190.476 1545.82 194.087 1545.82 Q197.721 1545.82 199.526 1542.27 Q201.355 1538.71 201.355 1531.6 Q201.355 1524.47 199.526 1520.93 Q197.721 1517.37 194.087 1517.37 M194.087 1513.66 Q199.897 1513.66 202.952 1518.27 Q206.031 1522.85 206.031 1531.6 Q206.031 1540.33 202.952 1544.94 Q199.897 1549.52 194.087 1549.52 Q188.277 1549.52 185.198 1544.94 Q182.142 1540.33 182.142 1531.6 Q182.142 1522.85 185.198 1518.27 Q188.277 1513.66 194.087 1513.66 Z\" fill=\"#000000\" fill-rule=\"nonzero\" fill-opacity=\"1\" /><path clip-path=\"url(#clip090)\" d=\"M610.088 1544.91 L626.407 1544.91 L626.407 1548.85 L604.463 1548.85 L604.463 1544.91 Q607.125 1542.16 611.708 1537.53 Q616.315 1532.88 617.495 1531.53 Q619.74 1529.01 620.62 1527.27 Q621.523 1525.51 621.523 1523.82 Q621.523 1521.07 619.578 1519.33 Q617.657 1517.6 614.555 1517.6 Q612.356 1517.6 609.903 1518.36 Q607.472 1519.13 604.694 1520.68 L604.694 1515.95 Q607.518 1514.82 609.972 1514.24 Q612.426 1513.66 614.463 1513.66 Q619.833 1513.66 623.027 1516.35 Q626.222 1519.03 626.222 1523.52 Q626.222 1525.65 625.412 1527.57 Q624.625 1529.47 622.518 1532.07 Q621.939 1532.74 618.838 1535.95 Q615.736 1539.15 610.088 1544.91 Z\" fill=\"#000000\" fill-rule=\"nonzero\" fill-opacity=\"1\" /><path clip-path=\"url(#clip090)\" d=\"M636.268 1514.29 L654.624 1514.29 L654.624 1518.22 L640.55 1518.22 L640.55 1526.7 Q641.569 1526.35 642.588 1526.19 Q643.606 1526 644.625 1526 Q650.412 1526 653.791 1529.17 Q657.171 1532.34 657.171 1537.76 Q657.171 1543.34 653.699 1546.44 Q650.226 1549.52 643.907 1549.52 Q641.731 1549.52 639.463 1549.15 Q637.217 1548.78 634.81 1548.04 L634.81 1543.34 Q636.893 1544.47 639.115 1545.03 Q641.338 1545.58 643.814 1545.58 Q647.819 1545.58 650.157 1543.48 Q652.495 1541.37 652.495 1537.76 Q652.495 1534.15 650.157 1532.04 Q647.819 1529.94 643.814 1529.94 Q641.939 1529.94 640.064 1530.35 Q638.213 1530.77 636.268 1531.65 L636.268 1514.29 Z\" fill=\"#000000\" fill-rule=\"nonzero\" fill-opacity=\"1\" /><path clip-path=\"url(#clip090)\" d=\"M1042.25 1514.29 L1060.6 1514.29 L1060.6 1518.22 L1046.53 1518.22 L1046.53 1526.7 Q1047.55 1526.35 1048.57 1526.19 Q1049.58 1526 1050.6 1526 Q1056.39 1526 1059.77 1529.17 Q1063.15 1532.34 1063.15 1537.76 Q1063.15 1543.34 1059.68 1546.44 Q1056.2 1549.52 1049.88 1549.52 Q1047.71 1549.52 1045.44 1549.15 Q1043.2 1548.78 1040.79 1548.04 L1040.79 1543.34 Q1042.87 1544.47 1045.09 1545.03 Q1047.32 1545.58 1049.79 1545.58 Q1053.8 1545.58 1056.13 1543.48 Q1058.47 1541.37 1058.47 1537.76 Q1058.47 1534.15 1056.13 1532.04 Q1053.8 1529.94 1049.79 1529.94 Q1047.92 1529.94 1046.04 1530.35 Q1044.19 1530.77 1042.25 1531.65 L1042.25 1514.29 Z\" fill=\"#000000\" fill-rule=\"nonzero\" fill-opacity=\"1\" /><path clip-path=\"url(#clip090)\" d=\"M1082.36 1517.37 Q1078.75 1517.37 1076.92 1520.93 Q1075.12 1524.47 1075.12 1531.6 Q1075.12 1538.71 1076.92 1542.27 Q1078.75 1545.82 1082.36 1545.82 Q1086 1545.82 1087.8 1542.27 Q1089.63 1538.71 1089.63 1531.6 Q1089.63 1524.47 1087.8 1520.93 Q1086 1517.37 1082.36 1517.37 M1082.36 1513.66 Q1088.17 1513.66 1091.23 1518.27 Q1094.31 1522.85 1094.31 1531.6 Q1094.31 1540.33 1091.23 1544.94 Q1088.17 1549.52 1082.36 1549.52 Q1076.55 1549.52 1073.47 1544.94 Q1070.42 1540.33 1070.42 1531.6 Q1070.42 1522.85 1073.47 1518.27 Q1076.55 1513.66 1082.36 1513.66 Z\" fill=\"#000000\" fill-rule=\"nonzero\" fill-opacity=\"1\" /><path clip-path=\"url(#clip090)\" d=\"M1478.13 1514.29 L1500.35 1514.29 L1500.35 1516.28 L1487.81 1548.85 L1482.92 1548.85 L1494.73 1518.22 L1478.13 1518.22 L1478.13 1514.29 Z\" fill=\"#000000\" fill-rule=\"nonzero\" fill-opacity=\"1\" /><path clip-path=\"url(#clip090)\" d=\"M1509.52 1514.29 L1527.88 1514.29 L1527.88 1518.22 L1513.8 1518.22 L1513.8 1526.7 Q1514.82 1526.35 1515.84 1526.19 Q1516.86 1526 1517.88 1526 Q1523.66 1526 1527.04 1529.17 Q1530.42 1532.34 1530.42 1537.76 Q1530.42 1543.34 1526.95 1546.44 Q1523.48 1549.52 1517.16 1549.52 Q1514.98 1549.52 1512.71 1549.15 Q1510.47 1548.78 1508.06 1548.04 L1508.06 1543.34 Q1510.14 1544.47 1512.37 1545.03 Q1514.59 1545.58 1517.07 1545.58 Q1521.07 1545.58 1523.41 1543.48 Q1525.75 1541.37 1525.75 1537.76 Q1525.75 1534.15 1523.41 1532.04 Q1521.07 1529.94 1517.07 1529.94 Q1515.19 1529.94 1513.32 1530.35 Q1511.46 1530.77 1509.52 1531.65 L1509.52 1514.29 Z\" fill=\"#000000\" fill-rule=\"nonzero\" fill-opacity=\"1\" /><path clip-path=\"url(#clip090)\" d=\"M1900.61 1544.91 L1908.25 1544.91 L1908.25 1518.55 L1899.94 1520.21 L1899.94 1515.95 L1908.21 1514.29 L1912.88 1514.29 L1912.88 1544.91 L1920.52 1544.91 L1920.52 1548.85 L1900.61 1548.85 L1900.61 1544.91 Z\" fill=\"#000000\" fill-rule=\"nonzero\" fill-opacity=\"1\" /><path clip-path=\"url(#clip090)\" d=\"M1939.97 1517.37 Q1936.35 1517.37 1934.53 1520.93 Q1932.72 1524.47 1932.72 1531.6 Q1932.72 1538.71 1934.53 1542.27 Q1936.35 1545.82 1939.97 1545.82 Q1943.6 1545.82 1945.4 1542.27 Q1947.23 1538.71 1947.23 1531.6 Q1947.23 1524.47 1945.4 1520.93 Q1943.6 1517.37 1939.97 1517.37 M1939.97 1513.66 Q1945.78 1513.66 1948.83 1518.27 Q1951.91 1522.85 1951.91 1531.6 Q1951.91 1540.33 1948.83 1544.94 Q1945.78 1549.52 1939.97 1549.52 Q1934.16 1549.52 1931.08 1544.94 Q1928.02 1540.33 1928.02 1531.6 Q1928.02 1522.85 1931.08 1518.27 Q1934.16 1513.66 1939.97 1513.66 Z\" fill=\"#000000\" fill-rule=\"nonzero\" fill-opacity=\"1\" /><path clip-path=\"url(#clip090)\" d=\"M1970.13 1517.37 Q1966.52 1517.37 1964.69 1520.93 Q1962.88 1524.47 1962.88 1531.6 Q1962.88 1538.71 1964.69 1542.27 Q1966.52 1545.82 1970.13 1545.82 Q1973.76 1545.82 1975.57 1542.27 Q1977.4 1538.71 1977.4 1531.6 Q1977.4 1524.47 1975.57 1520.93 Q1973.76 1517.37 1970.13 1517.37 M1970.13 1513.66 Q1975.94 1513.66 1978.99 1518.27 Q1982.07 1522.85 1982.07 1531.6 Q1982.07 1540.33 1978.99 1544.94 Q1975.94 1549.52 1970.13 1549.52 Q1964.32 1549.52 1961.24 1544.94 Q1958.18 1540.33 1958.18 1531.6 Q1958.18 1522.85 1961.24 1518.27 Q1964.32 1513.66 1970.13 1513.66 Z\" fill=\"#000000\" fill-rule=\"nonzero\" fill-opacity=\"1\" /><polyline clip-path=\"url(#clip092)\" style=\"stroke:#000000; stroke-linecap:round; stroke-linejoin:round; stroke-width:2; stroke-opacity:0.1; fill:none\" points=\"149.191,1354.53 2352.76,1354.53 \"/>\n",
       "<polyline clip-path=\"url(#clip092)\" style=\"stroke:#000000; stroke-linecap:round; stroke-linejoin:round; stroke-width:2; stroke-opacity:0.1; fill:none\" points=\"149.191,1116.04 2352.76,1116.04 \"/>\n",
       "<polyline clip-path=\"url(#clip092)\" style=\"stroke:#000000; stroke-linecap:round; stroke-linejoin:round; stroke-width:2; stroke-opacity:0.1; fill:none\" points=\"149.191,877.538 2352.76,877.538 \"/>\n",
       "<polyline clip-path=\"url(#clip092)\" style=\"stroke:#000000; stroke-linecap:round; stroke-linejoin:round; stroke-width:2; stroke-opacity:0.1; fill:none\" points=\"149.191,639.041 2352.76,639.041 \"/>\n",
       "<polyline clip-path=\"url(#clip092)\" style=\"stroke:#000000; stroke-linecap:round; stroke-linejoin:round; stroke-width:2; stroke-opacity:0.1; fill:none\" points=\"149.191,400.544 2352.76,400.544 \"/>\n",
       "<polyline clip-path=\"url(#clip092)\" style=\"stroke:#000000; stroke-linecap:round; stroke-linejoin:round; stroke-width:2; stroke-opacity:0.1; fill:none\" points=\"149.191,162.047 2352.76,162.047 \"/>\n",
       "<polyline clip-path=\"url(#clip090)\" style=\"stroke:#000000; stroke-linecap:round; stroke-linejoin:round; stroke-width:4; stroke-opacity:1; fill:none\" points=\"149.191,1486.45 149.191,123.472 \"/>\n",
       "<polyline clip-path=\"url(#clip090)\" style=\"stroke:#000000; stroke-linecap:round; stroke-linejoin:round; stroke-width:4; stroke-opacity:1; fill:none\" points=\"149.191,1354.53 168.089,1354.53 \"/>\n",
       "<polyline clip-path=\"url(#clip090)\" style=\"stroke:#000000; stroke-linecap:round; stroke-linejoin:round; stroke-width:4; stroke-opacity:1; fill:none\" points=\"149.191,1116.04 168.089,1116.04 \"/>\n",
       "<polyline clip-path=\"url(#clip090)\" style=\"stroke:#000000; stroke-linecap:round; stroke-linejoin:round; stroke-width:4; stroke-opacity:1; fill:none\" points=\"149.191,877.538 168.089,877.538 \"/>\n",
       "<polyline clip-path=\"url(#clip090)\" style=\"stroke:#000000; stroke-linecap:round; stroke-linejoin:round; stroke-width:4; stroke-opacity:1; fill:none\" points=\"149.191,639.041 168.089,639.041 \"/>\n",
       "<polyline clip-path=\"url(#clip090)\" style=\"stroke:#000000; stroke-linecap:round; stroke-linejoin:round; stroke-width:4; stroke-opacity:1; fill:none\" points=\"149.191,400.544 168.089,400.544 \"/>\n",
       "<polyline clip-path=\"url(#clip090)\" style=\"stroke:#000000; stroke-linecap:round; stroke-linejoin:round; stroke-width:4; stroke-opacity:1; fill:none\" points=\"149.191,162.047 168.089,162.047 \"/>\n",
       "<path clip-path=\"url(#clip090)\" d=\"M52.4736 1354.98 L82.1494 1354.98 L82.1494 1358.92 L52.4736 1358.92 L52.4736 1354.98 Z\" fill=\"#000000\" fill-rule=\"nonzero\" fill-opacity=\"1\" /><path clip-path=\"url(#clip090)\" d=\"M92.2882 1337.25 L110.645 1337.25 L110.645 1341.19 L96.5706 1341.19 L96.5706 1349.66 Q97.5891 1349.31 98.6076 1349.15 Q99.6261 1348.97 100.645 1348.97 Q106.432 1348.97 109.811 1352.14 Q113.191 1355.31 113.191 1360.72 Q113.191 1366.3 109.719 1369.41 Q106.246 1372.48 99.927 1372.48 Q97.7511 1372.48 95.4826 1372.11 Q93.2373 1371.74 90.8299 1371 L90.8299 1366.3 Q92.9132 1367.44 95.1354 1367.99 Q97.3576 1368.55 99.8345 1368.55 Q103.839 1368.55 106.177 1366.44 Q108.515 1364.34 108.515 1360.72 Q108.515 1357.11 106.177 1355.01 Q103.839 1352.9 99.8345 1352.9 Q97.9595 1352.9 96.0845 1353.32 Q94.2326 1353.73 92.2882 1354.61 L92.2882 1337.25 Z\" fill=\"#000000\" fill-rule=\"nonzero\" fill-opacity=\"1\" /><path clip-path=\"url(#clip090)\" d=\"M50.9921 1116.49 L80.6679 1116.49 L80.6679 1120.42 L50.9921 1120.42 L50.9921 1116.49 Z\" fill=\"#000000\" fill-rule=\"nonzero\" fill-opacity=\"1\" /><path clip-path=\"url(#clip090)\" d=\"M103.608 1102.83 L91.8021 1121.28 L103.608 1121.28 L103.608 1102.83 M102.381 1098.76 L108.26 1098.76 L108.26 1121.28 L113.191 1121.28 L113.191 1125.17 L108.26 1125.17 L108.26 1133.32 L103.608 1133.32 L103.608 1125.17 L88.0058 1125.17 L88.0058 1120.65 L102.381 1098.76 Z\" fill=\"#000000\" fill-rule=\"nonzero\" fill-opacity=\"1\" /><path clip-path=\"url(#clip090)\" d=\"M52.1264 877.99 L81.8021 877.99 L81.8021 881.925 L52.1264 881.925 L52.1264 877.99 Z\" fill=\"#000000\" fill-rule=\"nonzero\" fill-opacity=\"1\" /><path clip-path=\"url(#clip090)\" d=\"M106.061 876.184 Q109.418 876.902 111.293 879.17 Q113.191 881.439 113.191 884.772 Q113.191 889.888 109.672 892.689 Q106.154 895.49 99.6724 895.49 Q97.4965 895.49 95.1817 895.05 Q92.89 894.633 90.4364 893.777 L90.4364 889.263 Q92.3808 890.397 94.6956 890.976 Q97.0104 891.554 99.5335 891.554 Q103.932 891.554 106.223 889.818 Q108.538 888.082 108.538 884.772 Q108.538 881.717 106.385 880.004 Q104.256 878.267 100.436 878.267 L96.4085 878.267 L96.4085 874.425 L100.621 874.425 Q104.071 874.425 105.899 873.059 Q107.728 871.67 107.728 869.078 Q107.728 866.416 105.83 865.004 Q103.955 863.568 100.436 863.568 Q98.515 863.568 96.316 863.985 Q94.1169 864.402 91.478 865.281 L91.478 861.115 Q94.14 860.374 96.4548 860.004 Q98.7928 859.633 100.853 859.633 Q106.177 859.633 109.279 862.064 Q112.381 864.471 112.381 868.592 Q112.381 871.462 110.737 873.453 Q109.094 875.42 106.061 876.184 Z\" fill=\"#000000\" fill-rule=\"nonzero\" fill-opacity=\"1\" /><path clip-path=\"url(#clip090)\" d=\"M53.0754 639.493 L82.7512 639.493 L82.7512 643.428 L53.0754 643.428 L53.0754 639.493 Z\" fill=\"#000000\" fill-rule=\"nonzero\" fill-opacity=\"1\" /><path clip-path=\"url(#clip090)\" d=\"M96.8715 652.386 L113.191 652.386 L113.191 656.321 L91.2465 656.321 L91.2465 652.386 Q93.9086 649.631 98.4919 645.002 Q103.098 640.349 104.279 639.006 Q106.524 636.483 107.404 634.747 Q108.307 632.988 108.307 631.298 Q108.307 628.544 106.362 626.807 Q104.441 625.071 101.339 625.071 Q99.14 625.071 96.6863 625.835 Q94.2558 626.599 91.478 628.15 L91.478 623.428 Q94.3021 622.294 96.7558 621.715 Q99.2095 621.136 101.246 621.136 Q106.617 621.136 109.811 623.821 Q113.006 626.507 113.006 630.997 Q113.006 633.127 112.196 635.048 Q111.408 636.946 109.302 639.539 Q108.723 640.21 105.621 643.428 Q102.52 646.622 96.8715 652.386 Z\" fill=\"#000000\" fill-rule=\"nonzero\" fill-opacity=\"1\" /><path clip-path=\"url(#clip090)\" d=\"M52.7051 400.995 L82.3808 400.995 L82.3808 404.931 L52.7051 404.931 L52.7051 400.995 Z\" fill=\"#000000\" fill-rule=\"nonzero\" fill-opacity=\"1\" /><path clip-path=\"url(#clip090)\" d=\"M93.2836 413.889 L100.922 413.889 L100.922 387.523 L92.6123 389.19 L92.6123 384.931 L100.876 383.264 L105.552 383.264 L105.552 413.889 L113.191 413.889 L113.191 417.824 L93.2836 417.824 L93.2836 413.889 Z\" fill=\"#000000\" fill-rule=\"nonzero\" fill-opacity=\"1\" /><path clip-path=\"url(#clip090)\" d=\"M101.246 147.846 Q97.6354 147.846 95.8067 151.41 Q94.0012 154.952 94.0012 162.082 Q94.0012 169.188 95.8067 172.753 Q97.6354 176.295 101.246 176.295 Q104.881 176.295 106.686 172.753 Q108.515 169.188 108.515 162.082 Q108.515 154.952 106.686 151.41 Q104.881 147.846 101.246 147.846 M101.246 144.142 Q107.057 144.142 110.112 148.748 Q113.191 153.332 113.191 162.082 Q113.191 170.808 110.112 175.415 Q107.057 179.998 101.246 179.998 Q95.4363 179.998 92.3576 175.415 Q89.3021 170.808 89.3021 162.082 Q89.3021 153.332 92.3576 148.748 Q95.4363 144.142 101.246 144.142 Z\" fill=\"#000000\" fill-rule=\"nonzero\" fill-opacity=\"1\" /><path clip-path=\"url(#clip090)\" d=\"M1193.73 12.096 L1205.93 12.096 L1221.36 53.2532 L1236.88 12.096 L1249.07 12.096 L1249.07 72.576 L1241.09 72.576 L1241.09 19.4686 L1225.49 60.9499 L1217.27 60.9499 L1201.67 19.4686 L1201.67 72.576 L1193.73 72.576 L1193.73 12.096 Z\" fill=\"#000000\" fill-rule=\"nonzero\" fill-opacity=\"1\" /><path clip-path=\"url(#clip090)\" d=\"M1273.5 43.6931 L1273.5 65.8515 L1286.62 65.8515 Q1293.22 65.8515 1296.38 63.1374 Q1299.58 60.3828 1299.58 54.752 Q1299.58 49.0808 1296.38 46.4072 Q1293.22 43.6931 1286.62 43.6931 L1273.5 43.6931 M1273.5 18.8205 L1273.5 37.0496 L1285.61 37.0496 Q1291.6 37.0496 1294.52 34.8216 Q1297.48 32.5531 1297.48 27.935 Q1297.48 23.3575 1294.52 21.089 Q1291.6 18.8205 1285.61 18.8205 L1273.5 18.8205 M1265.31 12.096 L1286.22 12.096 Q1295.57 12.096 1300.64 15.9849 Q1305.7 19.8737 1305.7 27.0438 Q1305.7 32.5936 1303.11 35.8748 Q1300.52 39.156 1295.49 39.9662 Q1301.53 41.2625 1304.85 45.3944 Q1308.21 49.4858 1308.21 55.6432 Q1308.21 63.745 1302.7 68.1605 Q1297.19 72.576 1287.03 72.576 L1265.31 72.576 L1265.31 12.096 Z\" fill=\"#000000\" fill-rule=\"nonzero\" fill-opacity=\"1\" /><circle clip-path=\"url(#clip092)\" cx=\"211.556\" cy=\"1447.87\" r=\"14.4\" fill=\"#009af9\" fill-rule=\"evenodd\" fill-opacity=\"1\" stroke=\"#000000\" stroke-opacity=\"1\" stroke-width=\"3.2\"/>\n",
       "<circle clip-path=\"url(#clip092)\" cx=\"229.025\" cy=\"1373.2\" r=\"14.4\" fill=\"#009af9\" fill-rule=\"evenodd\" fill-opacity=\"1\" stroke=\"#000000\" stroke-opacity=\"1\" stroke-width=\"3.2\"/>\n",
       "<circle clip-path=\"url(#clip092)\" cx=\"246.494\" cy=\"1320.08\" r=\"14.4\" fill=\"#009af9\" fill-rule=\"evenodd\" fill-opacity=\"1\" stroke=\"#000000\" stroke-opacity=\"1\" stroke-width=\"3.2\"/>\n",
       "<circle clip-path=\"url(#clip092)\" cx=\"263.964\" cy=\"1286.79\" r=\"14.4\" fill=\"#009af9\" fill-rule=\"evenodd\" fill-opacity=\"1\" stroke=\"#000000\" stroke-opacity=\"1\" stroke-width=\"3.2\"/>\n",
       "<circle clip-path=\"url(#clip092)\" cx=\"281.433\" cy=\"1282.86\" r=\"14.4\" fill=\"#009af9\" fill-rule=\"evenodd\" fill-opacity=\"1\" stroke=\"#000000\" stroke-opacity=\"1\" stroke-width=\"3.2\"/>\n",
       "<circle clip-path=\"url(#clip092)\" cx=\"298.902\" cy=\"1279.04\" r=\"14.4\" fill=\"#009af9\" fill-rule=\"evenodd\" fill-opacity=\"1\" stroke=\"#000000\" stroke-opacity=\"1\" stroke-width=\"3.2\"/>\n",
       "<circle clip-path=\"url(#clip092)\" cx=\"316.371\" cy=\"1260.43\" r=\"14.4\" fill=\"#009af9\" fill-rule=\"evenodd\" fill-opacity=\"1\" stroke=\"#000000\" stroke-opacity=\"1\" stroke-width=\"3.2\"/>\n",
       "<circle clip-path=\"url(#clip092)\" cx=\"333.84\" cy=\"1233.77\" r=\"14.4\" fill=\"#009af9\" fill-rule=\"evenodd\" fill-opacity=\"1\" stroke=\"#000000\" stroke-opacity=\"1\" stroke-width=\"3.2\"/>\n",
       "<circle clip-path=\"url(#clip092)\" cx=\"351.31\" cy=\"1221.77\" r=\"14.4\" fill=\"#009af9\" fill-rule=\"evenodd\" fill-opacity=\"1\" stroke=\"#000000\" stroke-opacity=\"1\" stroke-width=\"3.2\"/>\n",
       "<circle clip-path=\"url(#clip092)\" cx=\"368.779\" cy=\"1217.52\" r=\"14.4\" fill=\"#009af9\" fill-rule=\"evenodd\" fill-opacity=\"1\" stroke=\"#000000\" stroke-opacity=\"1\" stroke-width=\"3.2\"/>\n",
       "<circle clip-path=\"url(#clip092)\" cx=\"386.248\" cy=\"1201.37\" r=\"14.4\" fill=\"#009af9\" fill-rule=\"evenodd\" fill-opacity=\"1\" stroke=\"#000000\" stroke-opacity=\"1\" stroke-width=\"3.2\"/>\n",
       "<circle clip-path=\"url(#clip092)\" cx=\"403.717\" cy=\"1179.89\" r=\"14.4\" fill=\"#009af9\" fill-rule=\"evenodd\" fill-opacity=\"1\" stroke=\"#000000\" stroke-opacity=\"1\" stroke-width=\"3.2\"/>\n",
       "<circle clip-path=\"url(#clip092)\" cx=\"421.186\" cy=\"1177.34\" r=\"14.4\" fill=\"#009af9\" fill-rule=\"evenodd\" fill-opacity=\"1\" stroke=\"#000000\" stroke-opacity=\"1\" stroke-width=\"3.2\"/>\n",
       "<circle clip-path=\"url(#clip092)\" cx=\"438.656\" cy=\"1170.09\" r=\"14.4\" fill=\"#009af9\" fill-rule=\"evenodd\" fill-opacity=\"1\" stroke=\"#000000\" stroke-opacity=\"1\" stroke-width=\"3.2\"/>\n",
       "<circle clip-path=\"url(#clip092)\" cx=\"456.125\" cy=\"1161.57\" r=\"14.4\" fill=\"#009af9\" fill-rule=\"evenodd\" fill-opacity=\"1\" stroke=\"#000000\" stroke-opacity=\"1\" stroke-width=\"3.2\"/>\n",
       "<circle clip-path=\"url(#clip092)\" cx=\"473.594\" cy=\"1159.95\" r=\"14.4\" fill=\"#009af9\" fill-rule=\"evenodd\" fill-opacity=\"1\" stroke=\"#000000\" stroke-opacity=\"1\" stroke-width=\"3.2\"/>\n",
       "<circle clip-path=\"url(#clip092)\" cx=\"491.063\" cy=\"1127.93\" r=\"14.4\" fill=\"#009af9\" fill-rule=\"evenodd\" fill-opacity=\"1\" stroke=\"#000000\" stroke-opacity=\"1\" stroke-width=\"3.2\"/>\n",
       "<circle clip-path=\"url(#clip092)\" cx=\"508.532\" cy=\"1126.8\" r=\"14.4\" fill=\"#009af9\" fill-rule=\"evenodd\" fill-opacity=\"1\" stroke=\"#000000\" stroke-opacity=\"1\" stroke-width=\"3.2\"/>\n",
       "<circle clip-path=\"url(#clip092)\" cx=\"526.002\" cy=\"1126.21\" r=\"14.4\" fill=\"#009af9\" fill-rule=\"evenodd\" fill-opacity=\"1\" stroke=\"#000000\" stroke-opacity=\"1\" stroke-width=\"3.2\"/>\n",
       "<circle clip-path=\"url(#clip092)\" cx=\"543.471\" cy=\"1109.02\" r=\"14.4\" fill=\"#009af9\" fill-rule=\"evenodd\" fill-opacity=\"1\" stroke=\"#000000\" stroke-opacity=\"1\" stroke-width=\"3.2\"/>\n",
       "<circle clip-path=\"url(#clip092)\" cx=\"560.94\" cy=\"1096.36\" r=\"14.4\" fill=\"#009af9\" fill-rule=\"evenodd\" fill-opacity=\"1\" stroke=\"#000000\" stroke-opacity=\"1\" stroke-width=\"3.2\"/>\n",
       "<circle clip-path=\"url(#clip092)\" cx=\"578.409\" cy=\"1090.71\" r=\"14.4\" fill=\"#009af9\" fill-rule=\"evenodd\" fill-opacity=\"1\" stroke=\"#000000\" stroke-opacity=\"1\" stroke-width=\"3.2\"/>\n",
       "<circle clip-path=\"url(#clip092)\" cx=\"595.878\" cy=\"1088.7\" r=\"14.4\" fill=\"#009af9\" fill-rule=\"evenodd\" fill-opacity=\"1\" stroke=\"#000000\" stroke-opacity=\"1\" stroke-width=\"3.2\"/>\n",
       "<circle clip-path=\"url(#clip092)\" cx=\"613.348\" cy=\"1079.03\" r=\"14.4\" fill=\"#009af9\" fill-rule=\"evenodd\" fill-opacity=\"1\" stroke=\"#000000\" stroke-opacity=\"1\" stroke-width=\"3.2\"/>\n",
       "<circle clip-path=\"url(#clip092)\" cx=\"630.817\" cy=\"1072.88\" r=\"14.4\" fill=\"#009af9\" fill-rule=\"evenodd\" fill-opacity=\"1\" stroke=\"#000000\" stroke-opacity=\"1\" stroke-width=\"3.2\"/>\n",
       "<circle clip-path=\"url(#clip092)\" cx=\"648.286\" cy=\"1072.26\" r=\"14.4\" fill=\"#009af9\" fill-rule=\"evenodd\" fill-opacity=\"1\" stroke=\"#000000\" stroke-opacity=\"1\" stroke-width=\"3.2\"/>\n",
       "<circle clip-path=\"url(#clip092)\" cx=\"665.755\" cy=\"1060.14\" r=\"14.4\" fill=\"#009af9\" fill-rule=\"evenodd\" fill-opacity=\"1\" stroke=\"#000000\" stroke-opacity=\"1\" stroke-width=\"3.2\"/>\n",
       "<circle clip-path=\"url(#clip092)\" cx=\"683.224\" cy=\"1057.01\" r=\"14.4\" fill=\"#009af9\" fill-rule=\"evenodd\" fill-opacity=\"1\" stroke=\"#000000\" stroke-opacity=\"1\" stroke-width=\"3.2\"/>\n",
       "<circle clip-path=\"url(#clip092)\" cx=\"700.694\" cy=\"1054.6\" r=\"14.4\" fill=\"#009af9\" fill-rule=\"evenodd\" fill-opacity=\"1\" stroke=\"#000000\" stroke-opacity=\"1\" stroke-width=\"3.2\"/>\n",
       "<circle clip-path=\"url(#clip092)\" cx=\"718.163\" cy=\"1049.85\" r=\"14.4\" fill=\"#009af9\" fill-rule=\"evenodd\" fill-opacity=\"1\" stroke=\"#000000\" stroke-opacity=\"1\" stroke-width=\"3.2\"/>\n",
       "<circle clip-path=\"url(#clip092)\" cx=\"735.632\" cy=\"1037.39\" r=\"14.4\" fill=\"#009af9\" fill-rule=\"evenodd\" fill-opacity=\"1\" stroke=\"#000000\" stroke-opacity=\"1\" stroke-width=\"3.2\"/>\n",
       "<circle clip-path=\"url(#clip092)\" cx=\"753.101\" cy=\"1030.74\" r=\"14.4\" fill=\"#009af9\" fill-rule=\"evenodd\" fill-opacity=\"1\" stroke=\"#000000\" stroke-opacity=\"1\" stroke-width=\"3.2\"/>\n",
       "<circle clip-path=\"url(#clip092)\" cx=\"770.57\" cy=\"1028.28\" r=\"14.4\" fill=\"#009af9\" fill-rule=\"evenodd\" fill-opacity=\"1\" stroke=\"#000000\" stroke-opacity=\"1\" stroke-width=\"3.2\"/>\n",
       "<circle clip-path=\"url(#clip092)\" cx=\"788.04\" cy=\"1026.47\" r=\"14.4\" fill=\"#009af9\" fill-rule=\"evenodd\" fill-opacity=\"1\" stroke=\"#000000\" stroke-opacity=\"1\" stroke-width=\"3.2\"/>\n",
       "<circle clip-path=\"url(#clip092)\" cx=\"805.509\" cy=\"1023.44\" r=\"14.4\" fill=\"#009af9\" fill-rule=\"evenodd\" fill-opacity=\"1\" stroke=\"#000000\" stroke-opacity=\"1\" stroke-width=\"3.2\"/>\n",
       "<circle clip-path=\"url(#clip092)\" cx=\"822.978\" cy=\"1021.29\" r=\"14.4\" fill=\"#009af9\" fill-rule=\"evenodd\" fill-opacity=\"1\" stroke=\"#000000\" stroke-opacity=\"1\" stroke-width=\"3.2\"/>\n",
       "<circle clip-path=\"url(#clip092)\" cx=\"840.447\" cy=\"1018.84\" r=\"14.4\" fill=\"#009af9\" fill-rule=\"evenodd\" fill-opacity=\"1\" stroke=\"#000000\" stroke-opacity=\"1\" stroke-width=\"3.2\"/>\n",
       "<circle clip-path=\"url(#clip092)\" cx=\"857.916\" cy=\"1010.86\" r=\"14.4\" fill=\"#009af9\" fill-rule=\"evenodd\" fill-opacity=\"1\" stroke=\"#000000\" stroke-opacity=\"1\" stroke-width=\"3.2\"/>\n",
       "<circle clip-path=\"url(#clip092)\" cx=\"875.386\" cy=\"1009.6\" r=\"14.4\" fill=\"#009af9\" fill-rule=\"evenodd\" fill-opacity=\"1\" stroke=\"#000000\" stroke-opacity=\"1\" stroke-width=\"3.2\"/>\n",
       "<circle clip-path=\"url(#clip092)\" cx=\"892.855\" cy=\"1006.62\" r=\"14.4\" fill=\"#009af9\" fill-rule=\"evenodd\" fill-opacity=\"1\" stroke=\"#000000\" stroke-opacity=\"1\" stroke-width=\"3.2\"/>\n",
       "<circle clip-path=\"url(#clip092)\" cx=\"910.324\" cy=\"1002.83\" r=\"14.4\" fill=\"#009af9\" fill-rule=\"evenodd\" fill-opacity=\"1\" stroke=\"#000000\" stroke-opacity=\"1\" stroke-width=\"3.2\"/>\n",
       "<circle clip-path=\"url(#clip092)\" cx=\"927.793\" cy=\"999.696\" r=\"14.4\" fill=\"#009af9\" fill-rule=\"evenodd\" fill-opacity=\"1\" stroke=\"#000000\" stroke-opacity=\"1\" stroke-width=\"3.2\"/>\n",
       "<circle clip-path=\"url(#clip092)\" cx=\"945.262\" cy=\"984.929\" r=\"14.4\" fill=\"#009af9\" fill-rule=\"evenodd\" fill-opacity=\"1\" stroke=\"#000000\" stroke-opacity=\"1\" stroke-width=\"3.2\"/>\n",
       "<circle clip-path=\"url(#clip092)\" cx=\"962.732\" cy=\"978.934\" r=\"14.4\" fill=\"#009af9\" fill-rule=\"evenodd\" fill-opacity=\"1\" stroke=\"#000000\" stroke-opacity=\"1\" stroke-width=\"3.2\"/>\n",
       "<circle clip-path=\"url(#clip092)\" cx=\"980.201\" cy=\"976.506\" r=\"14.4\" fill=\"#009af9\" fill-rule=\"evenodd\" fill-opacity=\"1\" stroke=\"#000000\" stroke-opacity=\"1\" stroke-width=\"3.2\"/>\n",
       "<circle clip-path=\"url(#clip092)\" cx=\"997.67\" cy=\"973.758\" r=\"14.4\" fill=\"#009af9\" fill-rule=\"evenodd\" fill-opacity=\"1\" stroke=\"#000000\" stroke-opacity=\"1\" stroke-width=\"3.2\"/>\n",
       "<circle clip-path=\"url(#clip092)\" cx=\"1015.14\" cy=\"971.626\" r=\"14.4\" fill=\"#009af9\" fill-rule=\"evenodd\" fill-opacity=\"1\" stroke=\"#000000\" stroke-opacity=\"1\" stroke-width=\"3.2\"/>\n",
       "<circle clip-path=\"url(#clip092)\" cx=\"1032.61\" cy=\"968.175\" r=\"14.4\" fill=\"#009af9\" fill-rule=\"evenodd\" fill-opacity=\"1\" stroke=\"#000000\" stroke-opacity=\"1\" stroke-width=\"3.2\"/>\n",
       "<circle clip-path=\"url(#clip092)\" cx=\"1050.08\" cy=\"963.991\" r=\"14.4\" fill=\"#009af9\" fill-rule=\"evenodd\" fill-opacity=\"1\" stroke=\"#000000\" stroke-opacity=\"1\" stroke-width=\"3.2\"/>\n",
       "<circle clip-path=\"url(#clip092)\" cx=\"1067.55\" cy=\"961.126\" r=\"14.4\" fill=\"#009af9\" fill-rule=\"evenodd\" fill-opacity=\"1\" stroke=\"#000000\" stroke-opacity=\"1\" stroke-width=\"3.2\"/>\n",
       "<circle clip-path=\"url(#clip092)\" cx=\"1085.02\" cy=\"957.797\" r=\"14.4\" fill=\"#009af9\" fill-rule=\"evenodd\" fill-opacity=\"1\" stroke=\"#000000\" stroke-opacity=\"1\" stroke-width=\"3.2\"/>\n",
       "<circle clip-path=\"url(#clip092)\" cx=\"1102.49\" cy=\"944.24\" r=\"14.4\" fill=\"#009af9\" fill-rule=\"evenodd\" fill-opacity=\"1\" stroke=\"#000000\" stroke-opacity=\"1\" stroke-width=\"3.2\"/>\n",
       "<circle clip-path=\"url(#clip092)\" cx=\"1119.95\" cy=\"943.047\" r=\"14.4\" fill=\"#009af9\" fill-rule=\"evenodd\" fill-opacity=\"1\" stroke=\"#000000\" stroke-opacity=\"1\" stroke-width=\"3.2\"/>\n",
       "<circle clip-path=\"url(#clip092)\" cx=\"1137.42\" cy=\"931.805\" r=\"14.4\" fill=\"#009af9\" fill-rule=\"evenodd\" fill-opacity=\"1\" stroke=\"#000000\" stroke-opacity=\"1\" stroke-width=\"3.2\"/>\n",
       "<circle clip-path=\"url(#clip092)\" cx=\"1154.89\" cy=\"926.327\" r=\"14.4\" fill=\"#009af9\" fill-rule=\"evenodd\" fill-opacity=\"1\" stroke=\"#000000\" stroke-opacity=\"1\" stroke-width=\"3.2\"/>\n",
       "<circle clip-path=\"url(#clip092)\" cx=\"1172.36\" cy=\"925.058\" r=\"14.4\" fill=\"#009af9\" fill-rule=\"evenodd\" fill-opacity=\"1\" stroke=\"#000000\" stroke-opacity=\"1\" stroke-width=\"3.2\"/>\n",
       "<circle clip-path=\"url(#clip092)\" cx=\"1189.83\" cy=\"914.809\" r=\"14.4\" fill=\"#009af9\" fill-rule=\"evenodd\" fill-opacity=\"1\" stroke=\"#000000\" stroke-opacity=\"1\" stroke-width=\"3.2\"/>\n",
       "<circle clip-path=\"url(#clip092)\" cx=\"1207.3\" cy=\"912.212\" r=\"14.4\" fill=\"#009af9\" fill-rule=\"evenodd\" fill-opacity=\"1\" stroke=\"#000000\" stroke-opacity=\"1\" stroke-width=\"3.2\"/>\n",
       "<circle clip-path=\"url(#clip092)\" cx=\"1224.77\" cy=\"904.732\" r=\"14.4\" fill=\"#009af9\" fill-rule=\"evenodd\" fill-opacity=\"1\" stroke=\"#000000\" stroke-opacity=\"1\" stroke-width=\"3.2\"/>\n",
       "<circle clip-path=\"url(#clip092)\" cx=\"1242.24\" cy=\"896.549\" r=\"14.4\" fill=\"#009af9\" fill-rule=\"evenodd\" fill-opacity=\"1\" stroke=\"#000000\" stroke-opacity=\"1\" stroke-width=\"3.2\"/>\n",
       "<circle clip-path=\"url(#clip092)\" cx=\"1259.71\" cy=\"893.772\" r=\"14.4\" fill=\"#009af9\" fill-rule=\"evenodd\" fill-opacity=\"1\" stroke=\"#000000\" stroke-opacity=\"1\" stroke-width=\"3.2\"/>\n",
       "<circle clip-path=\"url(#clip092)\" cx=\"1277.18\" cy=\"890.349\" r=\"14.4\" fill=\"#009af9\" fill-rule=\"evenodd\" fill-opacity=\"1\" stroke=\"#000000\" stroke-opacity=\"1\" stroke-width=\"3.2\"/>\n",
       "<circle clip-path=\"url(#clip092)\" cx=\"1294.65\" cy=\"882.687\" r=\"14.4\" fill=\"#009af9\" fill-rule=\"evenodd\" fill-opacity=\"1\" stroke=\"#000000\" stroke-opacity=\"1\" stroke-width=\"3.2\"/>\n",
       "<circle clip-path=\"url(#clip092)\" cx=\"1312.12\" cy=\"880.256\" r=\"14.4\" fill=\"#009af9\" fill-rule=\"evenodd\" fill-opacity=\"1\" stroke=\"#000000\" stroke-opacity=\"1\" stroke-width=\"3.2\"/>\n",
       "<circle clip-path=\"url(#clip092)\" cx=\"1329.58\" cy=\"857.654\" r=\"14.4\" fill=\"#009af9\" fill-rule=\"evenodd\" fill-opacity=\"1\" stroke=\"#000000\" stroke-opacity=\"1\" stroke-width=\"3.2\"/>\n",
       "<circle clip-path=\"url(#clip092)\" cx=\"1347.05\" cy=\"857.576\" r=\"14.4\" fill=\"#009af9\" fill-rule=\"evenodd\" fill-opacity=\"1\" stroke=\"#000000\" stroke-opacity=\"1\" stroke-width=\"3.2\"/>\n",
       "<circle clip-path=\"url(#clip092)\" cx=\"1364.52\" cy=\"854.005\" r=\"14.4\" fill=\"#009af9\" fill-rule=\"evenodd\" fill-opacity=\"1\" stroke=\"#000000\" stroke-opacity=\"1\" stroke-width=\"3.2\"/>\n",
       "<circle clip-path=\"url(#clip092)\" cx=\"1381.99\" cy=\"852.649\" r=\"14.4\" fill=\"#009af9\" fill-rule=\"evenodd\" fill-opacity=\"1\" stroke=\"#000000\" stroke-opacity=\"1\" stroke-width=\"3.2\"/>\n",
       "<circle clip-path=\"url(#clip092)\" cx=\"1399.46\" cy=\"848.781\" r=\"14.4\" fill=\"#009af9\" fill-rule=\"evenodd\" fill-opacity=\"1\" stroke=\"#000000\" stroke-opacity=\"1\" stroke-width=\"3.2\"/>\n",
       "<circle clip-path=\"url(#clip092)\" cx=\"1416.93\" cy=\"845.902\" r=\"14.4\" fill=\"#009af9\" fill-rule=\"evenodd\" fill-opacity=\"1\" stroke=\"#000000\" stroke-opacity=\"1\" stroke-width=\"3.2\"/>\n",
       "<circle clip-path=\"url(#clip092)\" cx=\"1434.4\" cy=\"840.1\" r=\"14.4\" fill=\"#009af9\" fill-rule=\"evenodd\" fill-opacity=\"1\" stroke=\"#000000\" stroke-opacity=\"1\" stroke-width=\"3.2\"/>\n",
       "<circle clip-path=\"url(#clip092)\" cx=\"1451.87\" cy=\"837.895\" r=\"14.4\" fill=\"#009af9\" fill-rule=\"evenodd\" fill-opacity=\"1\" stroke=\"#000000\" stroke-opacity=\"1\" stroke-width=\"3.2\"/>\n",
       "<circle clip-path=\"url(#clip092)\" cx=\"1469.34\" cy=\"825.07\" r=\"14.4\" fill=\"#009af9\" fill-rule=\"evenodd\" fill-opacity=\"1\" stroke=\"#000000\" stroke-opacity=\"1\" stroke-width=\"3.2\"/>\n",
       "<circle clip-path=\"url(#clip092)\" cx=\"1486.81\" cy=\"814.745\" r=\"14.4\" fill=\"#009af9\" fill-rule=\"evenodd\" fill-opacity=\"1\" stroke=\"#000000\" stroke-opacity=\"1\" stroke-width=\"3.2\"/>\n",
       "<circle clip-path=\"url(#clip092)\" cx=\"1504.28\" cy=\"812.904\" r=\"14.4\" fill=\"#009af9\" fill-rule=\"evenodd\" fill-opacity=\"1\" stroke=\"#000000\" stroke-opacity=\"1\" stroke-width=\"3.2\"/>\n",
       "<circle clip-path=\"url(#clip092)\" cx=\"1521.75\" cy=\"810.765\" r=\"14.4\" fill=\"#009af9\" fill-rule=\"evenodd\" fill-opacity=\"1\" stroke=\"#000000\" stroke-opacity=\"1\" stroke-width=\"3.2\"/>\n",
       "<circle clip-path=\"url(#clip092)\" cx=\"1539.22\" cy=\"806.968\" r=\"14.4\" fill=\"#009af9\" fill-rule=\"evenodd\" fill-opacity=\"1\" stroke=\"#000000\" stroke-opacity=\"1\" stroke-width=\"3.2\"/>\n",
       "<circle clip-path=\"url(#clip092)\" cx=\"1556.68\" cy=\"806.134\" r=\"14.4\" fill=\"#009af9\" fill-rule=\"evenodd\" fill-opacity=\"1\" stroke=\"#000000\" stroke-opacity=\"1\" stroke-width=\"3.2\"/>\n",
       "<circle clip-path=\"url(#clip092)\" cx=\"1574.15\" cy=\"805.492\" r=\"14.4\" fill=\"#009af9\" fill-rule=\"evenodd\" fill-opacity=\"1\" stroke=\"#000000\" stroke-opacity=\"1\" stroke-width=\"3.2\"/>\n",
       "<circle clip-path=\"url(#clip092)\" cx=\"1591.62\" cy=\"802.726\" r=\"14.4\" fill=\"#009af9\" fill-rule=\"evenodd\" fill-opacity=\"1\" stroke=\"#000000\" stroke-opacity=\"1\" stroke-width=\"3.2\"/>\n",
       "<circle clip-path=\"url(#clip092)\" cx=\"1609.09\" cy=\"800.812\" r=\"14.4\" fill=\"#009af9\" fill-rule=\"evenodd\" fill-opacity=\"1\" stroke=\"#000000\" stroke-opacity=\"1\" stroke-width=\"3.2\"/>\n",
       "<circle clip-path=\"url(#clip092)\" cx=\"1626.56\" cy=\"794.382\" r=\"14.4\" fill=\"#009af9\" fill-rule=\"evenodd\" fill-opacity=\"1\" stroke=\"#000000\" stroke-opacity=\"1\" stroke-width=\"3.2\"/>\n",
       "<circle clip-path=\"url(#clip092)\" cx=\"1644.03\" cy=\"788.02\" r=\"14.4\" fill=\"#009af9\" fill-rule=\"evenodd\" fill-opacity=\"1\" stroke=\"#000000\" stroke-opacity=\"1\" stroke-width=\"3.2\"/>\n",
       "<circle clip-path=\"url(#clip092)\" cx=\"1661.5\" cy=\"783.922\" r=\"14.4\" fill=\"#009af9\" fill-rule=\"evenodd\" fill-opacity=\"1\" stroke=\"#000000\" stroke-opacity=\"1\" stroke-width=\"3.2\"/>\n",
       "<circle clip-path=\"url(#clip092)\" cx=\"1678.97\" cy=\"774.205\" r=\"14.4\" fill=\"#009af9\" fill-rule=\"evenodd\" fill-opacity=\"1\" stroke=\"#000000\" stroke-opacity=\"1\" stroke-width=\"3.2\"/>\n",
       "<circle clip-path=\"url(#clip092)\" cx=\"1696.44\" cy=\"769.766\" r=\"14.4\" fill=\"#009af9\" fill-rule=\"evenodd\" fill-opacity=\"1\" stroke=\"#000000\" stroke-opacity=\"1\" stroke-width=\"3.2\"/>\n",
       "<circle clip-path=\"url(#clip092)\" cx=\"1713.91\" cy=\"768.435\" r=\"14.4\" fill=\"#009af9\" fill-rule=\"evenodd\" fill-opacity=\"1\" stroke=\"#000000\" stroke-opacity=\"1\" stroke-width=\"3.2\"/>\n",
       "<circle clip-path=\"url(#clip092)\" cx=\"1731.38\" cy=\"762.947\" r=\"14.4\" fill=\"#009af9\" fill-rule=\"evenodd\" fill-opacity=\"1\" stroke=\"#000000\" stroke-opacity=\"1\" stroke-width=\"3.2\"/>\n",
       "<circle clip-path=\"url(#clip092)\" cx=\"1748.85\" cy=\"755.115\" r=\"14.4\" fill=\"#009af9\" fill-rule=\"evenodd\" fill-opacity=\"1\" stroke=\"#000000\" stroke-opacity=\"1\" stroke-width=\"3.2\"/>\n",
       "<circle clip-path=\"url(#clip092)\" cx=\"1766.31\" cy=\"755.058\" r=\"14.4\" fill=\"#009af9\" fill-rule=\"evenodd\" fill-opacity=\"1\" stroke=\"#000000\" stroke-opacity=\"1\" stroke-width=\"3.2\"/>\n",
       "<circle clip-path=\"url(#clip092)\" cx=\"1783.78\" cy=\"747.231\" r=\"14.4\" fill=\"#009af9\" fill-rule=\"evenodd\" fill-opacity=\"1\" stroke=\"#000000\" stroke-opacity=\"1\" stroke-width=\"3.2\"/>\n",
       "<circle clip-path=\"url(#clip092)\" cx=\"1801.25\" cy=\"744.898\" r=\"14.4\" fill=\"#009af9\" fill-rule=\"evenodd\" fill-opacity=\"1\" stroke=\"#000000\" stroke-opacity=\"1\" stroke-width=\"3.2\"/>\n",
       "<circle clip-path=\"url(#clip092)\" cx=\"1818.72\" cy=\"740.243\" r=\"14.4\" fill=\"#009af9\" fill-rule=\"evenodd\" fill-opacity=\"1\" stroke=\"#000000\" stroke-opacity=\"1\" stroke-width=\"3.2\"/>\n",
       "<circle clip-path=\"url(#clip092)\" cx=\"1836.19\" cy=\"738.674\" r=\"14.4\" fill=\"#009af9\" fill-rule=\"evenodd\" fill-opacity=\"1\" stroke=\"#000000\" stroke-opacity=\"1\" stroke-width=\"3.2\"/>\n",
       "<circle clip-path=\"url(#clip092)\" cx=\"1853.66\" cy=\"728.822\" r=\"14.4\" fill=\"#009af9\" fill-rule=\"evenodd\" fill-opacity=\"1\" stroke=\"#000000\" stroke-opacity=\"1\" stroke-width=\"3.2\"/>\n",
       "<circle clip-path=\"url(#clip092)\" cx=\"1871.13\" cy=\"720.836\" r=\"14.4\" fill=\"#009af9\" fill-rule=\"evenodd\" fill-opacity=\"1\" stroke=\"#000000\" stroke-opacity=\"1\" stroke-width=\"3.2\"/>\n",
       "<circle clip-path=\"url(#clip092)\" cx=\"1888.6\" cy=\"716.558\" r=\"14.4\" fill=\"#009af9\" fill-rule=\"evenodd\" fill-opacity=\"1\" stroke=\"#000000\" stroke-opacity=\"1\" stroke-width=\"3.2\"/>\n",
       "<circle clip-path=\"url(#clip092)\" cx=\"1906.07\" cy=\"690.768\" r=\"14.4\" fill=\"#009af9\" fill-rule=\"evenodd\" fill-opacity=\"1\" stroke=\"#000000\" stroke-opacity=\"1\" stroke-width=\"3.2\"/>\n",
       "<circle clip-path=\"url(#clip092)\" cx=\"1923.54\" cy=\"684.997\" r=\"14.4\" fill=\"#009af9\" fill-rule=\"evenodd\" fill-opacity=\"1\" stroke=\"#000000\" stroke-opacity=\"1\" stroke-width=\"3.2\"/>\n",
       "<circle clip-path=\"url(#clip092)\" cx=\"1941.01\" cy=\"677.726\" r=\"14.4\" fill=\"#009af9\" fill-rule=\"evenodd\" fill-opacity=\"1\" stroke=\"#000000\" stroke-opacity=\"1\" stroke-width=\"3.2\"/>\n",
       "<circle clip-path=\"url(#clip092)\" cx=\"1958.48\" cy=\"668.253\" r=\"14.4\" fill=\"#009af9\" fill-rule=\"evenodd\" fill-opacity=\"1\" stroke=\"#000000\" stroke-opacity=\"1\" stroke-width=\"3.2\"/>\n",
       "<circle clip-path=\"url(#clip092)\" cx=\"1975.95\" cy=\"645.471\" r=\"14.4\" fill=\"#009af9\" fill-rule=\"evenodd\" fill-opacity=\"1\" stroke=\"#000000\" stroke-opacity=\"1\" stroke-width=\"3.2\"/>\n",
       "<circle clip-path=\"url(#clip092)\" cx=\"1993.41\" cy=\"642.012\" r=\"14.4\" fill=\"#009af9\" fill-rule=\"evenodd\" fill-opacity=\"1\" stroke=\"#000000\" stroke-opacity=\"1\" stroke-width=\"3.2\"/>\n",
       "<circle clip-path=\"url(#clip092)\" cx=\"2010.88\" cy=\"634.147\" r=\"14.4\" fill=\"#009af9\" fill-rule=\"evenodd\" fill-opacity=\"1\" stroke=\"#000000\" stroke-opacity=\"1\" stroke-width=\"3.2\"/>\n",
       "<circle clip-path=\"url(#clip092)\" cx=\"2028.35\" cy=\"620.114\" r=\"14.4\" fill=\"#009af9\" fill-rule=\"evenodd\" fill-opacity=\"1\" stroke=\"#000000\" stroke-opacity=\"1\" stroke-width=\"3.2\"/>\n",
       "<circle clip-path=\"url(#clip092)\" cx=\"2045.82\" cy=\"615.749\" r=\"14.4\" fill=\"#009af9\" fill-rule=\"evenodd\" fill-opacity=\"1\" stroke=\"#000000\" stroke-opacity=\"1\" stroke-width=\"3.2\"/>\n",
       "<circle clip-path=\"url(#clip092)\" cx=\"2063.29\" cy=\"601.928\" r=\"14.4\" fill=\"#009af9\" fill-rule=\"evenodd\" fill-opacity=\"1\" stroke=\"#000000\" stroke-opacity=\"1\" stroke-width=\"3.2\"/>\n",
       "<circle clip-path=\"url(#clip092)\" cx=\"2080.76\" cy=\"596.599\" r=\"14.4\" fill=\"#009af9\" fill-rule=\"evenodd\" fill-opacity=\"1\" stroke=\"#000000\" stroke-opacity=\"1\" stroke-width=\"3.2\"/>\n",
       "<circle clip-path=\"url(#clip092)\" cx=\"2098.23\" cy=\"591.413\" r=\"14.4\" fill=\"#009af9\" fill-rule=\"evenodd\" fill-opacity=\"1\" stroke=\"#000000\" stroke-opacity=\"1\" stroke-width=\"3.2\"/>\n",
       "<circle clip-path=\"url(#clip092)\" cx=\"2115.7\" cy=\"576.472\" r=\"14.4\" fill=\"#009af9\" fill-rule=\"evenodd\" fill-opacity=\"1\" stroke=\"#000000\" stroke-opacity=\"1\" stroke-width=\"3.2\"/>\n",
       "<circle clip-path=\"url(#clip092)\" cx=\"2133.17\" cy=\"569.731\" r=\"14.4\" fill=\"#009af9\" fill-rule=\"evenodd\" fill-opacity=\"1\" stroke=\"#000000\" stroke-opacity=\"1\" stroke-width=\"3.2\"/>\n",
       "<circle clip-path=\"url(#clip092)\" cx=\"2150.64\" cy=\"567.624\" r=\"14.4\" fill=\"#009af9\" fill-rule=\"evenodd\" fill-opacity=\"1\" stroke=\"#000000\" stroke-opacity=\"1\" stroke-width=\"3.2\"/>\n",
       "<circle clip-path=\"url(#clip092)\" cx=\"2168.11\" cy=\"554.951\" r=\"14.4\" fill=\"#009af9\" fill-rule=\"evenodd\" fill-opacity=\"1\" stroke=\"#000000\" stroke-opacity=\"1\" stroke-width=\"3.2\"/>\n",
       "<circle clip-path=\"url(#clip092)\" cx=\"2185.58\" cy=\"510.489\" r=\"14.4\" fill=\"#009af9\" fill-rule=\"evenodd\" fill-opacity=\"1\" stroke=\"#000000\" stroke-opacity=\"1\" stroke-width=\"3.2\"/>\n",
       "<circle clip-path=\"url(#clip092)\" cx=\"2203.04\" cy=\"491.777\" r=\"14.4\" fill=\"#009af9\" fill-rule=\"evenodd\" fill-opacity=\"1\" stroke=\"#000000\" stroke-opacity=\"1\" stroke-width=\"3.2\"/>\n",
       "<circle clip-path=\"url(#clip092)\" cx=\"2220.51\" cy=\"405.913\" r=\"14.4\" fill=\"#009af9\" fill-rule=\"evenodd\" fill-opacity=\"1\" stroke=\"#000000\" stroke-opacity=\"1\" stroke-width=\"3.2\"/>\n",
       "<circle clip-path=\"url(#clip092)\" cx=\"2237.98\" cy=\"398.365\" r=\"14.4\" fill=\"#009af9\" fill-rule=\"evenodd\" fill-opacity=\"1\" stroke=\"#000000\" stroke-opacity=\"1\" stroke-width=\"3.2\"/>\n",
       "<circle clip-path=\"url(#clip092)\" cx=\"2255.45\" cy=\"392.001\" r=\"14.4\" fill=\"#009af9\" fill-rule=\"evenodd\" fill-opacity=\"1\" stroke=\"#000000\" stroke-opacity=\"1\" stroke-width=\"3.2\"/>\n",
       "<circle clip-path=\"url(#clip092)\" cx=\"2272.92\" cy=\"348.182\" r=\"14.4\" fill=\"#009af9\" fill-rule=\"evenodd\" fill-opacity=\"1\" stroke=\"#000000\" stroke-opacity=\"1\" stroke-width=\"3.2\"/>\n",
       "<circle clip-path=\"url(#clip092)\" cx=\"2290.39\" cy=\"162.047\" r=\"14.4\" fill=\"#009af9\" fill-rule=\"evenodd\" fill-opacity=\"1\" stroke=\"#000000\" stroke-opacity=\"1\" stroke-width=\"3.2\"/>\n",
       "<path clip-path=\"url(#clip090)\" d=\"M222.643 272.585 L495.43 272.585 L495.43 168.905 L222.643 168.905  Z\" fill=\"#ffffff\" fill-rule=\"evenodd\" fill-opacity=\"1\"/>\n",
       "<polyline clip-path=\"url(#clip090)\" style=\"stroke:#000000; stroke-linecap:round; stroke-linejoin:round; stroke-width:4; stroke-opacity:1; fill:none\" points=\"222.643,272.585 495.43,272.585 495.43,168.905 222.643,168.905 222.643,272.585 \"/>\n",
       "<circle clip-path=\"url(#clip090)\" cx=\"320.579\" cy=\"220.745\" r=\"20.48\" fill=\"#009af9\" fill-rule=\"evenodd\" fill-opacity=\"1\" stroke=\"#000000\" stroke-opacity=\"1\" stroke-width=\"4.55111\"/>\n",
       "<path clip-path=\"url(#clip090)\" d=\"M432.358 240.432 Q430.552 245.062 428.84 246.474 Q427.127 247.886 424.256 247.886 L420.853 247.886 L420.853 244.321 L423.353 244.321 Q425.113 244.321 426.085 243.488 Q427.057 242.654 428.238 239.552 L429.002 237.608 L418.515 212.099 L423.029 212.099 L431.131 232.377 L439.233 212.099 L443.747 212.099 L432.358 240.432 Z\" fill=\"#000000\" fill-rule=\"nonzero\" fill-opacity=\"1\" /><path clip-path=\"url(#clip090)\" d=\"M451.038 234.089 L458.677 234.089 L458.677 207.724 L450.367 209.391 L450.367 205.131 L458.631 203.465 L463.307 203.465 L463.307 234.089 L470.946 234.089 L470.946 238.025 L451.038 238.025 L451.038 234.089 Z\" fill=\"#000000\" fill-rule=\"nonzero\" fill-opacity=\"1\" /></svg>\n"
      ]
     },
     "execution_count": 121,
     "metadata": {},
     "output_type": "execute_result"
    }
   ],
   "source": [
    "E_Imp, U_Imp = eigenstates(Impurity_H);\n",
    "scatter(E_Imp, title=\"MB\")"
   ]
  },
  {
   "cell_type": "markdown",
   "id": "ecdf0610-a9d4-4141-aef4-6771b92ce620",
   "metadata": {},
   "source": [
    "# Filter"
   ]
  },
  {
   "cell_type": "code",
   "execution_count": 140,
   "id": "9897e795-0c56-4909-b750-4e389b107c91",
   "metadata": {},
   "outputs": [
    {
     "data": {
      "text/plain": [
       "(ManyBody(onebodybasis=NLevel(N=7), states:120), ManyBody(onebodybasis=NLevel(N=20), states:1771))"
      ]
     },
     "execution_count": 140,
     "metadata": {},
     "output_type": "execute_result"
    }
   ],
   "source": [
    "typeof(U_Imp[5])\n",
    "U_Imp[5].basis,Basis_Cut_MB\n",
    "#round(expect(number(Basis_Cut_MB), U_Imp[5])) \n",
    "#expect(number(Basis_Cut_MB), U_Imp[5])"
   ]
  },
  {
   "cell_type": "code",
   "execution_count": 118,
   "id": "6b0f614a-3f3b-4172-ba4c-f52982ec5165",
   "metadata": {},
   "outputs": [
    {
     "data": {
      "text/plain": [
       "Get_Filtered_Energies (generic function with 1 method)"
      ]
     },
     "execution_count": 118,
     "metadata": {},
     "output_type": "execute_result"
    }
   ],
   "source": [
    "function Get_Filtered_Energies(Basis_Cut_MB, E_Imp, U_Imp, pn)\n",
    "    Filtered_Energies = Array{Float64}(undef, length(E_Imp), 2)\n",
    "    for i in 1:length(E_Imp)\n",
    "        Filtered_Energies[i] = round(expect(number(Basis_Cut_MB), U_Imp[i])) \n",
    "        Filtered_Energies[i,2] = E_Imp[i] \n",
    "    end\n",
    "    df = DataFrame(Filtered_Energies, :auto)\n",
    "    df = filter(row -> (row.x1 == pn),  df)\n",
    "    return Matrix(df)[:,2]\n",
    "end"
   ]
  },
  {
   "cell_type": "code",
   "execution_count": 119,
   "id": "ec184dc8-5b24-4241-9f84-f2c25963f2b7",
   "metadata": {},
   "outputs": [
    {
     "ename": "LoadError",
     "evalue": "MethodError: no method matching expect(::Operator{ManyBodyBasis{Vector{Int64}, NLevelBasis{Int64}, 0xa053f343942d3f5f, UInt64}, ManyBodyBasis{Vector{Int64}, NLevelBasis{Int64}, 0xa053f343942d3f5f, UInt64}, SparseMatrixCSC{ComplexF64, Int64}}, ::Ket{ManyBodyBasis{Vector{Int64}, NLevelBasis{Int64}, 0xe262886642e41e31, UInt64}, Vector{ComplexF64}})\n\n\u001b[0mClosest candidates are:\n\u001b[0m  expect(::Operator{B1, B2, <:SparseMatrixCSC}, \u001b[91m::Operator{B2, B2}\u001b[39m) where {B1, B2}\n\u001b[0m\u001b[90m   @\u001b[39m \u001b[36mQuantumOpticsBase\u001b[39m \u001b[90m~/.julia/packages/QuantumOpticsBase/PqBOl/src/\u001b[39m\u001b[90m\u001b[4moperators_sparse.jl:44\u001b[24m\u001b[39m\n\u001b[0m  expect(::DataOperator{B1, B2}, \u001b[91m::DataOperator{B2, B2}\u001b[39m) where {B1, B2}\n\u001b[0m\u001b[90m   @\u001b[39m \u001b[36mQuantumOpticsBase\u001b[39m \u001b[90m~/.julia/packages/QuantumOpticsBase/PqBOl/src/\u001b[39m\u001b[90m\u001b[4moperators_dense.jl:216\u001b[24m\u001b[39m\n\u001b[0m  expect(::DataOperator{B, B}, \u001b[91m::Ket{B}\u001b[39m) where B\n\u001b[0m\u001b[90m   @\u001b[39m \u001b[36mQuantumOpticsBase\u001b[39m \u001b[90m~/.julia/packages/QuantumOpticsBase/PqBOl/src/\u001b[39m\u001b[90m\u001b[4moperators_dense.jl:212\u001b[24m\u001b[39m\n\u001b[0m  ...\n",
     "output_type": "error",
     "traceback": [
      "MethodError: no method matching expect(::Operator{ManyBodyBasis{Vector{Int64}, NLevelBasis{Int64}, 0xa053f343942d3f5f, UInt64}, ManyBodyBasis{Vector{Int64}, NLevelBasis{Int64}, 0xa053f343942d3f5f, UInt64}, SparseMatrixCSC{ComplexF64, Int64}}, ::Ket{ManyBodyBasis{Vector{Int64}, NLevelBasis{Int64}, 0xe262886642e41e31, UInt64}, Vector{ComplexF64}})\n\n\u001b[0mClosest candidates are:\n\u001b[0m  expect(::Operator{B1, B2, <:SparseMatrixCSC}, \u001b[91m::Operator{B2, B2}\u001b[39m) where {B1, B2}\n\u001b[0m\u001b[90m   @\u001b[39m \u001b[36mQuantumOpticsBase\u001b[39m \u001b[90m~/.julia/packages/QuantumOpticsBase/PqBOl/src/\u001b[39m\u001b[90m\u001b[4moperators_sparse.jl:44\u001b[24m\u001b[39m\n\u001b[0m  expect(::DataOperator{B1, B2}, \u001b[91m::DataOperator{B2, B2}\u001b[39m) where {B1, B2}\n\u001b[0m\u001b[90m   @\u001b[39m \u001b[36mQuantumOpticsBase\u001b[39m \u001b[90m~/.julia/packages/QuantumOpticsBase/PqBOl/src/\u001b[39m\u001b[90m\u001b[4moperators_dense.jl:216\u001b[24m\u001b[39m\n\u001b[0m  expect(::DataOperator{B, B}, \u001b[91m::Ket{B}\u001b[39m) where B\n\u001b[0m\u001b[90m   @\u001b[39m \u001b[36mQuantumOpticsBase\u001b[39m \u001b[90m~/.julia/packages/QuantumOpticsBase/PqBOl/src/\u001b[39m\u001b[90m\u001b[4moperators_dense.jl:212\u001b[24m\u001b[39m\n\u001b[0m  ...\n",
      "",
      "Stacktrace:",
      " [1] Get_Filtered_Energies(Basis_Cut_MB::ManyBodyBasis{Vector{Int64}, NLevelBasis{Int64}, 0xa053f343942d3f5f, UInt64}, E_Imp::Vector{Float64}, U_Imp::Vector{Ket{ManyBodyBasis{Vector{Int64}, NLevelBasis{Int64}, 0xe262886642e41e31, UInt64}, Vector{ComplexF64}}}, pn::Int64)",
      "   @ Main ./In[118]:4",
      " [2] top-level scope",
      "   @ In[119]:1"
     ]
    }
   ],
   "source": [
    "Fil_Energies = Get_Filtered_Energies(Basis_Cut_MB, E_Imp, U_Imp, pn)\n",
    "Fil_Energies;"
   ]
  },
  {
   "cell_type": "code",
   "execution_count": 120,
   "id": "25b197e2-1765-4bb0-abc0-3b57cfcfa0b4",
   "metadata": {},
   "outputs": [
    {
     "data": {
      "image/png": "[encoded data removed]",
      "image/svg+xml": [
       "<?xml version=\"1.0\" encoding=\"utf-8\"?>\n",
       "<svg xmlns=\"http://www.w3.org/2000/svg\" xmlns:xlink=\"http://www.w3.org/1999/xlink\" width=\"600\" height=\"400\" viewBox=\"0 0 2400 1600\">\n",
       "<defs>\n",
       "  <clipPath id=\"clip950\">\n",
       "    <rect x=\"0\" y=\"0\" width=\"2400\" height=\"1600\"/>\n",
       "  </clipPath>\n",
       "</defs>\n",
       "<path clip-path=\"url(#clip950)\" d=\"M0 1600 L2400 1600 L2400 0 L0 0  Z\" fill=\"#ffffff\" fill-rule=\"evenodd\" fill-opacity=\"1\"/>\n",
       "<defs>\n",
       "  <clipPath id=\"clip951\">\n",
       "    <rect x=\"480\" y=\"0\" width=\"1681\" height=\"1600\"/>\n",
       "  </clipPath>\n",
       "</defs>\n",
       "<path clip-path=\"url(#clip950)\" d=\"M149.191 1486.45 L2352.76 1486.45 L2352.76 123.472 L149.191 123.472  Z\" fill=\"#ffffff\" fill-rule=\"evenodd\" fill-opacity=\"1\"/>\n",
       "<defs>\n",
       "  <clipPath id=\"clip952\">\n",
       "    <rect x=\"149\" y=\"123\" width=\"2205\" height=\"1364\"/>\n",
       "  </clipPath>\n",
       "</defs>\n",
       "<polyline clip-path=\"url(#clip952)\" style=\"stroke:#000000; stroke-linecap:round; stroke-linejoin:round; stroke-width:2; stroke-opacity:0.1; fill:none\" points=\"186.51,1486.45 186.51,123.472 \"/>\n",
       "<polyline clip-path=\"url(#clip952)\" style=\"stroke:#000000; stroke-linecap:round; stroke-linejoin:round; stroke-width:2; stroke-opacity:0.1; fill:none\" points=\"687.434,1486.45 687.434,123.472 \"/>\n",
       "<polyline clip-path=\"url(#clip952)\" style=\"stroke:#000000; stroke-linecap:round; stroke-linejoin:round; stroke-width:2; stroke-opacity:0.1; fill:none\" points=\"1188.36,1486.45 1188.36,123.472 \"/>\n",
       "<polyline clip-path=\"url(#clip952)\" style=\"stroke:#000000; stroke-linecap:round; stroke-linejoin:round; stroke-width:2; stroke-opacity:0.1; fill:none\" points=\"1689.28,1486.45 1689.28,123.472 \"/>\n",
       "<polyline clip-path=\"url(#clip952)\" style=\"stroke:#000000; stroke-linecap:round; stroke-linejoin:round; stroke-width:2; stroke-opacity:0.1; fill:none\" points=\"2190.21,1486.45 2190.21,123.472 \"/>\n",
       "<polyline clip-path=\"url(#clip950)\" style=\"stroke:#000000; stroke-linecap:round; stroke-linejoin:round; stroke-width:4; stroke-opacity:1; fill:none\" points=\"149.191,1486.45 2352.76,1486.45 \"/>\n",
       "<polyline clip-path=\"url(#clip950)\" style=\"stroke:#000000; stroke-linecap:round; stroke-linejoin:round; stroke-width:4; stroke-opacity:1; fill:none\" points=\"186.51,1486.45 186.51,1467.55 \"/>\n",
       "<polyline clip-path=\"url(#clip950)\" style=\"stroke:#000000; stroke-linecap:round; stroke-linejoin:round; stroke-width:4; stroke-opacity:1; fill:none\" points=\"687.434,1486.45 687.434,1467.55 \"/>\n",
       "<polyline clip-path=\"url(#clip950)\" style=\"stroke:#000000; stroke-linecap:round; stroke-linejoin:round; stroke-width:4; stroke-opacity:1; fill:none\" points=\"1188.36,1486.45 1188.36,1467.55 \"/>\n",
       "<polyline clip-path=\"url(#clip950)\" style=\"stroke:#000000; stroke-linecap:round; stroke-linejoin:round; stroke-width:4; stroke-opacity:1; fill:none\" points=\"1689.28,1486.45 1689.28,1467.55 \"/>\n",
       "<polyline clip-path=\"url(#clip950)\" style=\"stroke:#000000; stroke-linecap:round; stroke-linejoin:round; stroke-width:4; stroke-opacity:1; fill:none\" points=\"2190.21,1486.45 2190.21,1467.55 \"/>\n",
       "<path clip-path=\"url(#clip950)\" d=\"M186.51 1517.37 Q182.899 1517.37 181.07 1520.93 Q179.264 1524.47 179.264 1531.6 Q179.264 1538.71 181.07 1542.27 Q182.899 1545.82 186.51 1545.82 Q190.144 1545.82 191.949 1542.27 Q193.778 1538.71 193.778 1531.6 Q193.778 1524.47 191.949 1520.93 Q190.144 1517.37 186.51 1517.37 M186.51 1513.66 Q192.32 1513.66 195.375 1518.27 Q198.454 1522.85 198.454 1531.6 Q198.454 1540.33 195.375 1544.94 Q192.32 1549.52 186.51 1549.52 Q180.7 1549.52 177.621 1544.94 Q174.565 1540.33 174.565 1531.6 Q174.565 1522.85 177.621 1518.27 Q180.7 1513.66 186.51 1513.66 Z\" fill=\"#000000\" fill-rule=\"nonzero\" fill-opacity=\"1\" /><path clip-path=\"url(#clip950)\" d=\"M666.207 1544.91 L682.526 1544.91 L682.526 1548.85 L660.582 1548.85 L660.582 1544.91 Q663.244 1542.16 667.827 1537.53 Q672.434 1532.88 673.614 1531.53 Q675.86 1529.01 676.739 1527.27 Q677.642 1525.51 677.642 1523.82 Q677.642 1521.07 675.698 1519.33 Q673.776 1517.6 670.675 1517.6 Q668.476 1517.6 666.022 1518.36 Q663.591 1519.13 660.814 1520.68 L660.814 1515.95 Q663.638 1514.82 666.091 1514.24 Q668.545 1513.66 670.582 1513.66 Q675.952 1513.66 679.147 1516.35 Q682.341 1519.03 682.341 1523.52 Q682.341 1525.65 681.531 1527.57 Q680.744 1529.47 678.638 1532.07 Q678.059 1532.74 674.957 1535.95 Q671.855 1539.15 666.207 1544.91 Z\" fill=\"#000000\" fill-rule=\"nonzero\" fill-opacity=\"1\" /><path clip-path=\"url(#clip950)\" d=\"M702.341 1517.37 Q698.73 1517.37 696.901 1520.93 Q695.096 1524.47 695.096 1531.6 Q695.096 1538.71 696.901 1542.27 Q698.73 1545.82 702.341 1545.82 Q705.975 1545.82 707.781 1542.27 Q709.61 1538.71 709.61 1531.6 Q709.61 1524.47 707.781 1520.93 Q705.975 1517.37 702.341 1517.37 M702.341 1513.66 Q708.151 1513.66 711.207 1518.27 Q714.286 1522.85 714.286 1531.6 Q714.286 1540.33 711.207 1544.94 Q708.151 1549.52 702.341 1549.52 Q696.531 1549.52 693.452 1544.94 Q690.397 1540.33 690.397 1531.6 Q690.397 1522.85 693.452 1518.27 Q696.531 1513.66 702.341 1513.66 Z\" fill=\"#000000\" fill-rule=\"nonzero\" fill-opacity=\"1\" /><path clip-path=\"url(#clip950)\" d=\"M1176.53 1518.36 L1164.72 1536.81 L1176.53 1536.81 L1176.53 1518.36 M1175.3 1514.29 L1181.18 1514.29 L1181.18 1536.81 L1186.11 1536.81 L1186.11 1540.7 L1181.18 1540.7 L1181.18 1548.85 L1176.53 1548.85 L1176.53 1540.7 L1160.93 1540.7 L1160.93 1536.19 L1175.3 1514.29 Z\" fill=\"#000000\" fill-rule=\"nonzero\" fill-opacity=\"1\" /><path clip-path=\"url(#clip950)\" d=\"M1203.84 1517.37 Q1200.23 1517.37 1198.4 1520.93 Q1196.6 1524.47 1196.6 1531.6 Q1196.6 1538.71 1198.4 1542.27 Q1200.23 1545.82 1203.84 1545.82 Q1207.48 1545.82 1209.28 1542.27 Q1211.11 1538.71 1211.11 1531.6 Q1211.11 1524.47 1209.28 1520.93 Q1207.48 1517.37 1203.84 1517.37 M1203.84 1513.66 Q1209.65 1513.66 1212.71 1518.27 Q1215.79 1522.85 1215.79 1531.6 Q1215.79 1540.33 1212.71 1544.94 Q1209.65 1549.52 1203.84 1549.52 Q1198.03 1549.52 1194.96 1544.94 Q1191.9 1540.33 1191.9 1531.6 Q1191.9 1522.85 1194.96 1518.27 Q1198.03 1513.66 1203.84 1513.66 Z\" fill=\"#000000\" fill-rule=\"nonzero\" fill-opacity=\"1\" /><path clip-path=\"url(#clip950)\" d=\"M1674.69 1529.7 Q1671.54 1529.7 1669.69 1531.86 Q1667.86 1534.01 1667.86 1537.76 Q1667.86 1541.49 1669.69 1543.66 Q1671.54 1545.82 1674.69 1545.82 Q1677.84 1545.82 1679.66 1543.66 Q1681.52 1541.49 1681.52 1537.76 Q1681.52 1534.01 1679.66 1531.86 Q1677.84 1529.7 1674.69 1529.7 M1683.97 1515.05 L1683.97 1519.31 Q1682.21 1518.48 1680.4 1518.04 Q1678.62 1517.6 1676.86 1517.6 Q1672.23 1517.6 1669.78 1520.72 Q1667.35 1523.85 1667 1530.17 Q1668.37 1528.15 1670.43 1527.09 Q1672.49 1526 1674.96 1526 Q1680.17 1526 1683.18 1529.17 Q1686.21 1532.32 1686.21 1537.76 Q1686.21 1543.08 1683.07 1546.3 Q1679.92 1549.52 1674.69 1549.52 Q1668.69 1549.52 1665.52 1544.94 Q1662.35 1540.33 1662.35 1531.6 Q1662.35 1523.41 1666.24 1518.55 Q1670.13 1513.66 1676.68 1513.66 Q1678.44 1513.66 1680.22 1514.01 Q1682.03 1514.36 1683.97 1515.05 Z\" fill=\"#000000\" fill-rule=\"nonzero\" fill-opacity=\"1\" /><path clip-path=\"url(#clip950)\" d=\"M1704.27 1517.37 Q1700.66 1517.37 1698.83 1520.93 Q1697.02 1524.47 1697.02 1531.6 Q1697.02 1538.71 1698.83 1542.27 Q1700.66 1545.82 1704.27 1545.82 Q1707.9 1545.82 1709.71 1542.27 Q1711.54 1538.71 1711.54 1531.6 Q1711.54 1524.47 1709.71 1520.93 Q1707.9 1517.37 1704.27 1517.37 M1704.27 1513.66 Q1710.08 1513.66 1713.14 1518.27 Q1716.21 1522.85 1716.21 1531.6 Q1716.21 1540.33 1713.14 1544.94 Q1710.08 1549.52 1704.27 1549.52 Q1698.46 1549.52 1695.38 1544.94 Q1692.33 1540.33 1692.33 1531.6 Q1692.33 1522.85 1695.38 1518.27 Q1698.46 1513.66 1704.27 1513.66 Z\" fill=\"#000000\" fill-rule=\"nonzero\" fill-opacity=\"1\" /><path clip-path=\"url(#clip950)\" d=\"M2175.08 1532.44 Q2171.75 1532.44 2169.82 1534.22 Q2167.93 1536 2167.93 1539.13 Q2167.93 1542.25 2169.82 1544.03 Q2171.75 1545.82 2175.08 1545.82 Q2178.41 1545.82 2180.33 1544.03 Q2182.25 1542.23 2182.25 1539.13 Q2182.25 1536 2180.33 1534.22 Q2178.44 1532.44 2175.08 1532.44 M2170.4 1530.45 Q2167.39 1529.7 2165.7 1527.64 Q2164.04 1525.58 2164.04 1522.62 Q2164.04 1518.48 2166.98 1516.07 Q2169.94 1513.66 2175.08 1513.66 Q2180.24 1513.66 2183.18 1516.07 Q2186.12 1518.48 2186.12 1522.62 Q2186.12 1525.58 2184.43 1527.64 Q2182.76 1529.7 2179.78 1530.45 Q2183.16 1531.23 2185.03 1533.52 Q2186.93 1535.82 2186.93 1539.13 Q2186.93 1544.15 2183.85 1546.83 Q2180.8 1549.52 2175.08 1549.52 Q2169.36 1549.52 2166.28 1546.83 Q2163.23 1544.15 2163.23 1539.13 Q2163.23 1535.82 2165.13 1533.52 Q2167.02 1531.23 2170.4 1530.45 M2168.69 1523.06 Q2168.69 1525.75 2170.36 1527.25 Q2172.05 1528.76 2175.08 1528.76 Q2178.09 1528.76 2179.78 1527.25 Q2181.49 1525.75 2181.49 1523.06 Q2181.49 1520.38 2179.78 1518.87 Q2178.09 1517.37 2175.08 1517.37 Q2172.05 1517.37 2170.36 1518.87 Q2168.69 1520.38 2168.69 1523.06 Z\" fill=\"#000000\" fill-rule=\"nonzero\" fill-opacity=\"1\" /><path clip-path=\"url(#clip950)\" d=\"M2205.24 1517.37 Q2201.63 1517.37 2199.8 1520.93 Q2198 1524.47 2198 1531.6 Q2198 1538.71 2199.8 1542.27 Q2201.63 1545.82 2205.24 1545.82 Q2208.87 1545.82 2210.68 1542.27 Q2212.51 1538.71 2212.51 1531.6 Q2212.51 1524.47 2210.68 1520.93 Q2208.87 1517.37 2205.24 1517.37 M2205.24 1513.66 Q2211.05 1513.66 2214.11 1518.27 Q2217.19 1522.85 2217.19 1531.6 Q2217.19 1540.33 2214.11 1544.94 Q2211.05 1549.52 2205.24 1549.52 Q2199.43 1549.52 2196.35 1544.94 Q2193.3 1540.33 2193.3 1531.6 Q2193.3 1522.85 2196.35 1518.27 Q2199.43 1513.66 2205.24 1513.66 Z\" fill=\"#000000\" fill-rule=\"nonzero\" fill-opacity=\"1\" /><polyline clip-path=\"url(#clip952)\" style=\"stroke:#000000; stroke-linecap:round; stroke-linejoin:round; stroke-width:2; stroke-opacity:0.1; fill:none\" points=\"149.191,1329.52 2352.76,1329.52 \"/>\n",
       "<polyline clip-path=\"url(#clip952)\" style=\"stroke:#000000; stroke-linecap:round; stroke-linejoin:round; stroke-width:2; stroke-opacity:0.1; fill:none\" points=\"149.191,1040.21 2352.76,1040.21 \"/>\n",
       "<polyline clip-path=\"url(#clip952)\" style=\"stroke:#000000; stroke-linecap:round; stroke-linejoin:round; stroke-width:2; stroke-opacity:0.1; fill:none\" points=\"149.191,750.905 2352.76,750.905 \"/>\n",
       "<polyline clip-path=\"url(#clip952)\" style=\"stroke:#000000; stroke-linecap:round; stroke-linejoin:round; stroke-width:2; stroke-opacity:0.1; fill:none\" points=\"149.191,461.599 2352.76,461.599 \"/>\n",
       "<polyline clip-path=\"url(#clip952)\" style=\"stroke:#000000; stroke-linecap:round; stroke-linejoin:round; stroke-width:2; stroke-opacity:0.1; fill:none\" points=\"149.191,172.293 2352.76,172.293 \"/>\n",
       "<polyline clip-path=\"url(#clip950)\" style=\"stroke:#000000; stroke-linecap:round; stroke-linejoin:round; stroke-width:4; stroke-opacity:1; fill:none\" points=\"149.191,1486.45 149.191,123.472 \"/>\n",
       "<polyline clip-path=\"url(#clip950)\" style=\"stroke:#000000; stroke-linecap:round; stroke-linejoin:round; stroke-width:4; stroke-opacity:1; fill:none\" points=\"149.191,1329.52 168.089,1329.52 \"/>\n",
       "<polyline clip-path=\"url(#clip950)\" style=\"stroke:#000000; stroke-linecap:round; stroke-linejoin:round; stroke-width:4; stroke-opacity:1; fill:none\" points=\"149.191,1040.21 168.089,1040.21 \"/>\n",
       "<polyline clip-path=\"url(#clip950)\" style=\"stroke:#000000; stroke-linecap:round; stroke-linejoin:round; stroke-width:4; stroke-opacity:1; fill:none\" points=\"149.191,750.905 168.089,750.905 \"/>\n",
       "<polyline clip-path=\"url(#clip950)\" style=\"stroke:#000000; stroke-linecap:round; stroke-linejoin:round; stroke-width:4; stroke-opacity:1; fill:none\" points=\"149.191,461.599 168.089,461.599 \"/>\n",
       "<polyline clip-path=\"url(#clip950)\" style=\"stroke:#000000; stroke-linecap:round; stroke-linejoin:round; stroke-width:4; stroke-opacity:1; fill:none\" points=\"149.191,172.293 168.089,172.293 \"/>\n",
       "<path clip-path=\"url(#clip950)\" d=\"M52.4736 1329.97 L82.1494 1329.97 L82.1494 1333.9 L52.4736 1333.9 L52.4736 1329.97 Z\" fill=\"#000000\" fill-rule=\"nonzero\" fill-opacity=\"1\" /><path clip-path=\"url(#clip950)\" d=\"M92.2882 1312.24 L110.645 1312.24 L110.645 1316.17 L96.5706 1316.17 L96.5706 1324.65 Q97.5891 1324.3 98.6076 1324.14 Q99.6261 1323.95 100.645 1323.95 Q106.432 1323.95 109.811 1327.12 Q113.191 1330.29 113.191 1335.71 Q113.191 1341.29 109.719 1344.39 Q106.246 1347.47 99.927 1347.47 Q97.7511 1347.47 95.4826 1347.1 Q93.2373 1346.73 90.8299 1345.99 L90.8299 1341.29 Q92.9132 1342.42 95.1354 1342.98 Q97.3576 1343.53 99.8345 1343.53 Q103.839 1343.53 106.177 1341.43 Q108.515 1339.32 108.515 1335.71 Q108.515 1332.1 106.177 1329.99 Q103.839 1327.89 99.8345 1327.89 Q97.9595 1327.89 96.0845 1328.3 Q94.2326 1328.72 92.2882 1329.6 L92.2882 1312.24 Z\" fill=\"#000000\" fill-rule=\"nonzero\" fill-opacity=\"1\" /><path clip-path=\"url(#clip950)\" d=\"M50.9921 1040.66 L80.6679 1040.66 L80.6679 1044.6 L50.9921 1044.6 L50.9921 1040.66 Z\" fill=\"#000000\" fill-rule=\"nonzero\" fill-opacity=\"1\" /><path clip-path=\"url(#clip950)\" d=\"M103.608 1027.01 L91.8021 1045.45 L103.608 1045.45 L103.608 1027.01 M102.381 1022.93 L108.26 1022.93 L108.26 1045.45 L113.191 1045.45 L113.191 1049.34 L108.26 1049.34 L108.26 1057.49 L103.608 1057.49 L103.608 1049.34 L88.0058 1049.34 L88.0058 1044.83 L102.381 1022.93 Z\" fill=\"#000000\" fill-rule=\"nonzero\" fill-opacity=\"1\" /><path clip-path=\"url(#clip950)\" d=\"M52.1264 751.357 L81.8021 751.357 L81.8021 755.292 L52.1264 755.292 L52.1264 751.357 Z\" fill=\"#000000\" fill-rule=\"nonzero\" fill-opacity=\"1\" /><path clip-path=\"url(#clip950)\" d=\"M106.061 749.551 Q109.418 750.269 111.293 752.537 Q113.191 754.806 113.191 758.139 Q113.191 763.255 109.672 766.056 Q106.154 768.857 99.6724 768.857 Q97.4965 768.857 95.1817 768.417 Q92.89 768 90.4364 767.144 L90.4364 762.63 Q92.3808 763.764 94.6956 764.343 Q97.0104 764.921 99.5335 764.921 Q103.932 764.921 106.223 763.185 Q108.538 761.449 108.538 758.139 Q108.538 755.084 106.385 753.371 Q104.256 751.635 100.436 751.635 L96.4085 751.635 L96.4085 747.792 L100.621 747.792 Q104.071 747.792 105.899 746.426 Q107.728 745.037 107.728 742.445 Q107.728 739.783 105.83 738.371 Q103.955 736.936 100.436 736.936 Q98.515 736.936 96.316 737.352 Q94.1169 737.769 91.478 738.648 L91.478 734.482 Q94.14 733.741 96.4548 733.371 Q98.7928 733 100.853 733 Q106.177 733 109.279 735.431 Q112.381 737.838 112.381 741.959 Q112.381 744.829 110.737 746.82 Q109.094 748.787 106.061 749.551 Z\" fill=\"#000000\" fill-rule=\"nonzero\" fill-opacity=\"1\" /><path clip-path=\"url(#clip950)\" d=\"M53.0754 462.05 L82.7512 462.05 L82.7512 465.985 L53.0754 465.985 L53.0754 462.05 Z\" fill=\"#000000\" fill-rule=\"nonzero\" fill-opacity=\"1\" /><path clip-path=\"url(#clip950)\" d=\"M96.8715 474.944 L113.191 474.944 L113.191 478.879 L91.2465 478.879 L91.2465 474.944 Q93.9086 472.189 98.4919 467.56 Q103.098 462.907 104.279 461.564 Q106.524 459.041 107.404 457.305 Q108.307 455.546 108.307 453.856 Q108.307 451.101 106.362 449.365 Q104.441 447.629 101.339 447.629 Q99.14 447.629 96.6863 448.393 Q94.2558 449.157 91.478 450.708 L91.478 445.986 Q94.3021 444.851 96.7558 444.273 Q99.2095 443.694 101.246 443.694 Q106.617 443.694 109.811 446.379 Q113.006 449.064 113.006 453.555 Q113.006 455.685 112.196 457.606 Q111.408 459.504 109.302 462.097 Q108.723 462.768 105.621 465.985 Q102.52 469.18 96.8715 474.944 Z\" fill=\"#000000\" fill-rule=\"nonzero\" fill-opacity=\"1\" /><path clip-path=\"url(#clip950)\" d=\"M52.7051 172.744 L82.3808 172.744 L82.3808 176.679 L52.7051 176.679 L52.7051 172.744 Z\" fill=\"#000000\" fill-rule=\"nonzero\" fill-opacity=\"1\" /><path clip-path=\"url(#clip950)\" d=\"M93.2836 185.637 L100.922 185.637 L100.922 159.272 L92.6123 160.938 L92.6123 156.679 L100.876 155.013 L105.552 155.013 L105.552 185.637 L113.191 185.637 L113.191 189.573 L93.2836 189.573 L93.2836 185.637 Z\" fill=\"#000000\" fill-rule=\"nonzero\" fill-opacity=\"1\" /><path clip-path=\"url(#clip950)\" d=\"M1193.73 12.096 L1205.93 12.096 L1221.36 53.2532 L1236.88 12.096 L1249.07 12.096 L1249.07 72.576 L1241.09 72.576 L1241.09 19.4686 L1225.49 60.9499 L1217.27 60.9499 L1201.67 19.4686 L1201.67 72.576 L1193.73 72.576 L1193.73 12.096 Z\" fill=\"#000000\" fill-rule=\"nonzero\" fill-opacity=\"1\" /><path clip-path=\"url(#clip950)\" d=\"M1273.5 43.6931 L1273.5 65.8515 L1286.62 65.8515 Q1293.22 65.8515 1296.38 63.1374 Q1299.58 60.3828 1299.58 54.752 Q1299.58 49.0808 1296.38 46.4072 Q1293.22 43.6931 1286.62 43.6931 L1273.5 43.6931 M1273.5 18.8205 L1273.5 37.0496 L1285.61 37.0496 Q1291.6 37.0496 1294.52 34.8216 Q1297.48 32.5531 1297.48 27.935 Q1297.48 23.3575 1294.52 21.089 Q1291.6 18.8205 1285.61 18.8205 L1273.5 18.8205 M1265.31 12.096 L1286.22 12.096 Q1295.57 12.096 1300.64 15.9849 Q1305.7 19.8737 1305.7 27.0438 Q1305.7 32.5936 1303.11 35.8748 Q1300.52 39.156 1295.49 39.9662 Q1301.53 41.2625 1304.85 45.3944 Q1308.21 49.4858 1308.21 55.6432 Q1308.21 63.745 1302.7 68.1605 Q1297.19 72.576 1287.03 72.576 L1265.31 72.576 L1265.31 12.096 Z\" fill=\"#000000\" fill-rule=\"nonzero\" fill-opacity=\"1\" /><circle clip-path=\"url(#clip952)\" cx=\"211.556\" cy=\"1447.87\" r=\"14.4\" fill=\"#009af9\" fill-rule=\"evenodd\" fill-opacity=\"1\" stroke=\"#000000\" stroke-opacity=\"1\" stroke-width=\"3.2\"/>\n",
       "<circle clip-path=\"url(#clip952)\" cx=\"236.602\" cy=\"1357.01\" r=\"14.4\" fill=\"#009af9\" fill-rule=\"evenodd\" fill-opacity=\"1\" stroke=\"#000000\" stroke-opacity=\"1\" stroke-width=\"3.2\"/>\n",
       "<circle clip-path=\"url(#clip952)\" cx=\"261.648\" cy=\"1292.37\" r=\"14.4\" fill=\"#009af9\" fill-rule=\"evenodd\" fill-opacity=\"1\" stroke=\"#000000\" stroke-opacity=\"1\" stroke-width=\"3.2\"/>\n",
       "<circle clip-path=\"url(#clip952)\" cx=\"286.695\" cy=\"1249.37\" r=\"14.4\" fill=\"#009af9\" fill-rule=\"evenodd\" fill-opacity=\"1\" stroke=\"#000000\" stroke-opacity=\"1\" stroke-width=\"3.2\"/>\n",
       "<circle clip-path=\"url(#clip952)\" cx=\"311.741\" cy=\"1244.51\" r=\"14.4\" fill=\"#009af9\" fill-rule=\"evenodd\" fill-opacity=\"1\" stroke=\"#000000\" stroke-opacity=\"1\" stroke-width=\"3.2\"/>\n",
       "<circle clip-path=\"url(#clip952)\" cx=\"336.787\" cy=\"1241.69\" r=\"14.4\" fill=\"#009af9\" fill-rule=\"evenodd\" fill-opacity=\"1\" stroke=\"#000000\" stroke-opacity=\"1\" stroke-width=\"3.2\"/>\n",
       "<circle clip-path=\"url(#clip952)\" cx=\"361.833\" cy=\"1213.88\" r=\"14.4\" fill=\"#009af9\" fill-rule=\"evenodd\" fill-opacity=\"1\" stroke=\"#000000\" stroke-opacity=\"1\" stroke-width=\"3.2\"/>\n",
       "<circle clip-path=\"url(#clip952)\" cx=\"386.879\" cy=\"1169.71\" r=\"14.4\" fill=\"#009af9\" fill-rule=\"evenodd\" fill-opacity=\"1\" stroke=\"#000000\" stroke-opacity=\"1\" stroke-width=\"3.2\"/>\n",
       "<circle clip-path=\"url(#clip952)\" cx=\"411.926\" cy=\"1165.37\" r=\"14.4\" fill=\"#009af9\" fill-rule=\"evenodd\" fill-opacity=\"1\" stroke=\"#000000\" stroke-opacity=\"1\" stroke-width=\"3.2\"/>\n",
       "<circle clip-path=\"url(#clip952)\" cx=\"436.972\" cy=\"1143.34\" r=\"14.4\" fill=\"#009af9\" fill-rule=\"evenodd\" fill-opacity=\"1\" stroke=\"#000000\" stroke-opacity=\"1\" stroke-width=\"3.2\"/>\n",
       "<circle clip-path=\"url(#clip952)\" cx=\"462.018\" cy=\"1118.82\" r=\"14.4\" fill=\"#009af9\" fill-rule=\"evenodd\" fill-opacity=\"1\" stroke=\"#000000\" stroke-opacity=\"1\" stroke-width=\"3.2\"/>\n",
       "<circle clip-path=\"url(#clip952)\" cx=\"487.064\" cy=\"1117.44\" r=\"14.4\" fill=\"#009af9\" fill-rule=\"evenodd\" fill-opacity=\"1\" stroke=\"#000000\" stroke-opacity=\"1\" stroke-width=\"3.2\"/>\n",
       "<circle clip-path=\"url(#clip952)\" cx=\"512.11\" cy=\"1105.66\" r=\"14.4\" fill=\"#009af9\" fill-rule=\"evenodd\" fill-opacity=\"1\" stroke=\"#000000\" stroke-opacity=\"1\" stroke-width=\"3.2\"/>\n",
       "<circle clip-path=\"url(#clip952)\" cx=\"537.157\" cy=\"1090.03\" r=\"14.4\" fill=\"#009af9\" fill-rule=\"evenodd\" fill-opacity=\"1\" stroke=\"#000000\" stroke-opacity=\"1\" stroke-width=\"3.2\"/>\n",
       "<circle clip-path=\"url(#clip952)\" cx=\"562.203\" cy=\"1088.38\" r=\"14.4\" fill=\"#009af9\" fill-rule=\"evenodd\" fill-opacity=\"1\" stroke=\"#000000\" stroke-opacity=\"1\" stroke-width=\"3.2\"/>\n",
       "<circle clip-path=\"url(#clip952)\" cx=\"587.249\" cy=\"1060.12\" r=\"14.4\" fill=\"#009af9\" fill-rule=\"evenodd\" fill-opacity=\"1\" stroke=\"#000000\" stroke-opacity=\"1\" stroke-width=\"3.2\"/>\n",
       "<circle clip-path=\"url(#clip952)\" cx=\"612.295\" cy=\"1055.36\" r=\"14.4\" fill=\"#009af9\" fill-rule=\"evenodd\" fill-opacity=\"1\" stroke=\"#000000\" stroke-opacity=\"1\" stroke-width=\"3.2\"/>\n",
       "<circle clip-path=\"url(#clip952)\" cx=\"637.341\" cy=\"1031.13\" r=\"14.4\" fill=\"#009af9\" fill-rule=\"evenodd\" fill-opacity=\"1\" stroke=\"#000000\" stroke-opacity=\"1\" stroke-width=\"3.2\"/>\n",
       "<circle clip-path=\"url(#clip952)\" cx=\"662.388\" cy=\"1022.32\" r=\"14.4\" fill=\"#009af9\" fill-rule=\"evenodd\" fill-opacity=\"1\" stroke=\"#000000\" stroke-opacity=\"1\" stroke-width=\"3.2\"/>\n",
       "<circle clip-path=\"url(#clip952)\" cx=\"687.434\" cy=\"1018.69\" r=\"14.4\" fill=\"#009af9\" fill-rule=\"evenodd\" fill-opacity=\"1\" stroke=\"#000000\" stroke-opacity=\"1\" stroke-width=\"3.2\"/>\n",
       "<circle clip-path=\"url(#clip952)\" cx=\"712.48\" cy=\"1009.13\" r=\"14.4\" fill=\"#009af9\" fill-rule=\"evenodd\" fill-opacity=\"1\" stroke=\"#000000\" stroke-opacity=\"1\" stroke-width=\"3.2\"/>\n",
       "<circle clip-path=\"url(#clip952)\" cx=\"737.526\" cy=\"1005.13\" r=\"14.4\" fill=\"#009af9\" fill-rule=\"evenodd\" fill-opacity=\"1\" stroke=\"#000000\" stroke-opacity=\"1\" stroke-width=\"3.2\"/>\n",
       "<circle clip-path=\"url(#clip952)\" cx=\"762.572\" cy=\"990.567\" r=\"14.4\" fill=\"#009af9\" fill-rule=\"evenodd\" fill-opacity=\"1\" stroke=\"#000000\" stroke-opacity=\"1\" stroke-width=\"3.2\"/>\n",
       "<circle clip-path=\"url(#clip952)\" cx=\"787.619\" cy=\"986.045\" r=\"14.4\" fill=\"#009af9\" fill-rule=\"evenodd\" fill-opacity=\"1\" stroke=\"#000000\" stroke-opacity=\"1\" stroke-width=\"3.2\"/>\n",
       "<circle clip-path=\"url(#clip952)\" cx=\"812.665\" cy=\"974.527\" r=\"14.4\" fill=\"#009af9\" fill-rule=\"evenodd\" fill-opacity=\"1\" stroke=\"#000000\" stroke-opacity=\"1\" stroke-width=\"3.2\"/>\n",
       "<circle clip-path=\"url(#clip952)\" cx=\"837.711\" cy=\"964.331\" r=\"14.4\" fill=\"#009af9\" fill-rule=\"evenodd\" fill-opacity=\"1\" stroke=\"#000000\" stroke-opacity=\"1\" stroke-width=\"3.2\"/>\n",
       "<circle clip-path=\"url(#clip952)\" cx=\"862.757\" cy=\"960.999\" r=\"14.4\" fill=\"#009af9\" fill-rule=\"evenodd\" fill-opacity=\"1\" stroke=\"#000000\" stroke-opacity=\"1\" stroke-width=\"3.2\"/>\n",
       "<circle clip-path=\"url(#clip952)\" cx=\"887.803\" cy=\"959.187\" r=\"14.4\" fill=\"#009af9\" fill-rule=\"evenodd\" fill-opacity=\"1\" stroke=\"#000000\" stroke-opacity=\"1\" stroke-width=\"3.2\"/>\n",
       "<circle clip-path=\"url(#clip952)\" cx=\"912.85\" cy=\"946.742\" r=\"14.4\" fill=\"#009af9\" fill-rule=\"evenodd\" fill-opacity=\"1\" stroke=\"#000000\" stroke-opacity=\"1\" stroke-width=\"3.2\"/>\n",
       "<circle clip-path=\"url(#clip952)\" cx=\"937.896\" cy=\"932.866\" r=\"14.4\" fill=\"#009af9\" fill-rule=\"evenodd\" fill-opacity=\"1\" stroke=\"#000000\" stroke-opacity=\"1\" stroke-width=\"3.2\"/>\n",
       "<circle clip-path=\"url(#clip952)\" cx=\"962.942\" cy=\"931.07\" r=\"14.4\" fill=\"#009af9\" fill-rule=\"evenodd\" fill-opacity=\"1\" stroke=\"#000000\" stroke-opacity=\"1\" stroke-width=\"3.2\"/>\n",
       "<circle clip-path=\"url(#clip952)\" cx=\"987.988\" cy=\"929.011\" r=\"14.4\" fill=\"#009af9\" fill-rule=\"evenodd\" fill-opacity=\"1\" stroke=\"#000000\" stroke-opacity=\"1\" stroke-width=\"3.2\"/>\n",
       "<circle clip-path=\"url(#clip952)\" cx=\"1013.03\" cy=\"920.568\" r=\"14.4\" fill=\"#009af9\" fill-rule=\"evenodd\" fill-opacity=\"1\" stroke=\"#000000\" stroke-opacity=\"1\" stroke-width=\"3.2\"/>\n",
       "<circle clip-path=\"url(#clip952)\" cx=\"1038.08\" cy=\"909.191\" r=\"14.4\" fill=\"#009af9\" fill-rule=\"evenodd\" fill-opacity=\"1\" stroke=\"#000000\" stroke-opacity=\"1\" stroke-width=\"3.2\"/>\n",
       "<circle clip-path=\"url(#clip952)\" cx=\"1063.13\" cy=\"902.835\" r=\"14.4\" fill=\"#009af9\" fill-rule=\"evenodd\" fill-opacity=\"1\" stroke=\"#000000\" stroke-opacity=\"1\" stroke-width=\"3.2\"/>\n",
       "<circle clip-path=\"url(#clip952)\" cx=\"1088.17\" cy=\"899.11\" r=\"14.4\" fill=\"#009af9\" fill-rule=\"evenodd\" fill-opacity=\"1\" stroke=\"#000000\" stroke-opacity=\"1\" stroke-width=\"3.2\"/>\n",
       "<circle clip-path=\"url(#clip952)\" cx=\"1113.22\" cy=\"897.365\" r=\"14.4\" fill=\"#009af9\" fill-rule=\"evenodd\" fill-opacity=\"1\" stroke=\"#000000\" stroke-opacity=\"1\" stroke-width=\"3.2\"/>\n",
       "<circle clip-path=\"url(#clip952)\" cx=\"1138.27\" cy=\"890.872\" r=\"14.4\" fill=\"#009af9\" fill-rule=\"evenodd\" fill-opacity=\"1\" stroke=\"#000000\" stroke-opacity=\"1\" stroke-width=\"3.2\"/>\n",
       "<circle clip-path=\"url(#clip952)\" cx=\"1163.31\" cy=\"871.1\" r=\"14.4\" fill=\"#009af9\" fill-rule=\"evenodd\" fill-opacity=\"1\" stroke=\"#000000\" stroke-opacity=\"1\" stroke-width=\"3.2\"/>\n",
       "<circle clip-path=\"url(#clip952)\" cx=\"1188.36\" cy=\"868.766\" r=\"14.4\" fill=\"#009af9\" fill-rule=\"evenodd\" fill-opacity=\"1\" stroke=\"#000000\" stroke-opacity=\"1\" stroke-width=\"3.2\"/>\n",
       "<circle clip-path=\"url(#clip952)\" cx=\"1213.4\" cy=\"855.296\" r=\"14.4\" fill=\"#009af9\" fill-rule=\"evenodd\" fill-opacity=\"1\" stroke=\"#000000\" stroke-opacity=\"1\" stroke-width=\"3.2\"/>\n",
       "<circle clip-path=\"url(#clip952)\" cx=\"1238.45\" cy=\"845.496\" r=\"14.4\" fill=\"#009af9\" fill-rule=\"evenodd\" fill-opacity=\"1\" stroke=\"#000000\" stroke-opacity=\"1\" stroke-width=\"3.2\"/>\n",
       "<circle clip-path=\"url(#clip952)\" cx=\"1263.5\" cy=\"839.01\" r=\"14.4\" fill=\"#009af9\" fill-rule=\"evenodd\" fill-opacity=\"1\" stroke=\"#000000\" stroke-opacity=\"1\" stroke-width=\"3.2\"/>\n",
       "<circle clip-path=\"url(#clip952)\" cx=\"1288.54\" cy=\"830.315\" r=\"14.4\" fill=\"#009af9\" fill-rule=\"evenodd\" fill-opacity=\"1\" stroke=\"#000000\" stroke-opacity=\"1\" stroke-width=\"3.2\"/>\n",
       "<circle clip-path=\"url(#clip952)\" cx=\"1313.59\" cy=\"814.167\" r=\"14.4\" fill=\"#009af9\" fill-rule=\"evenodd\" fill-opacity=\"1\" stroke=\"#000000\" stroke-opacity=\"1\" stroke-width=\"3.2\"/>\n",
       "<circle clip-path=\"url(#clip952)\" cx=\"1338.64\" cy=\"808.12\" r=\"14.4\" fill=\"#009af9\" fill-rule=\"evenodd\" fill-opacity=\"1\" stroke=\"#000000\" stroke-opacity=\"1\" stroke-width=\"3.2\"/>\n",
       "<circle clip-path=\"url(#clip952)\" cx=\"1363.68\" cy=\"805.06\" r=\"14.4\" fill=\"#009af9\" fill-rule=\"evenodd\" fill-opacity=\"1\" stroke=\"#000000\" stroke-opacity=\"1\" stroke-width=\"3.2\"/>\n",
       "<circle clip-path=\"url(#clip952)\" cx=\"1388.73\" cy=\"800.792\" r=\"14.4\" fill=\"#009af9\" fill-rule=\"evenodd\" fill-opacity=\"1\" stroke=\"#000000\" stroke-opacity=\"1\" stroke-width=\"3.2\"/>\n",
       "<circle clip-path=\"url(#clip952)\" cx=\"1413.77\" cy=\"786.268\" r=\"14.4\" fill=\"#009af9\" fill-rule=\"evenodd\" fill-opacity=\"1\" stroke=\"#000000\" stroke-opacity=\"1\" stroke-width=\"3.2\"/>\n",
       "<circle clip-path=\"url(#clip952)\" cx=\"1438.82\" cy=\"783.239\" r=\"14.4\" fill=\"#009af9\" fill-rule=\"evenodd\" fill-opacity=\"1\" stroke=\"#000000\" stroke-opacity=\"1\" stroke-width=\"3.2\"/>\n",
       "<circle clip-path=\"url(#clip952)\" cx=\"1463.87\" cy=\"777.215\" r=\"14.4\" fill=\"#009af9\" fill-rule=\"evenodd\" fill-opacity=\"1\" stroke=\"#000000\" stroke-opacity=\"1\" stroke-width=\"3.2\"/>\n",
       "<circle clip-path=\"url(#clip952)\" cx=\"1488.91\" cy=\"772.367\" r=\"14.4\" fill=\"#009af9\" fill-rule=\"evenodd\" fill-opacity=\"1\" stroke=\"#000000\" stroke-opacity=\"1\" stroke-width=\"3.2\"/>\n",
       "<circle clip-path=\"url(#clip952)\" cx=\"1513.96\" cy=\"763.95\" r=\"14.4\" fill=\"#009af9\" fill-rule=\"evenodd\" fill-opacity=\"1\" stroke=\"#000000\" stroke-opacity=\"1\" stroke-width=\"3.2\"/>\n",
       "<circle clip-path=\"url(#clip952)\" cx=\"1539\" cy=\"754.06\" r=\"14.4\" fill=\"#009af9\" fill-rule=\"evenodd\" fill-opacity=\"1\" stroke=\"#000000\" stroke-opacity=\"1\" stroke-width=\"3.2\"/>\n",
       "<circle clip-path=\"url(#clip952)\" cx=\"1564.05\" cy=\"748.636\" r=\"14.4\" fill=\"#009af9\" fill-rule=\"evenodd\" fill-opacity=\"1\" stroke=\"#000000\" stroke-opacity=\"1\" stroke-width=\"3.2\"/>\n",
       "<circle clip-path=\"url(#clip952)\" cx=\"1589.1\" cy=\"727.877\" r=\"14.4\" fill=\"#009af9\" fill-rule=\"evenodd\" fill-opacity=\"1\" stroke=\"#000000\" stroke-opacity=\"1\" stroke-width=\"3.2\"/>\n",
       "<circle clip-path=\"url(#clip952)\" cx=\"1614.14\" cy=\"719.003\" r=\"14.4\" fill=\"#009af9\" fill-rule=\"evenodd\" fill-opacity=\"1\" stroke=\"#000000\" stroke-opacity=\"1\" stroke-width=\"3.2\"/>\n",
       "<circle clip-path=\"url(#clip952)\" cx=\"1639.19\" cy=\"701.554\" r=\"14.4\" fill=\"#009af9\" fill-rule=\"evenodd\" fill-opacity=\"1\" stroke=\"#000000\" stroke-opacity=\"1\" stroke-width=\"3.2\"/>\n",
       "<circle clip-path=\"url(#clip952)\" cx=\"1664.24\" cy=\"697.014\" r=\"14.4\" fill=\"#009af9\" fill-rule=\"evenodd\" fill-opacity=\"1\" stroke=\"#000000\" stroke-opacity=\"1\" stroke-width=\"3.2\"/>\n",
       "<circle clip-path=\"url(#clip952)\" cx=\"1689.28\" cy=\"687.033\" r=\"14.4\" fill=\"#009af9\" fill-rule=\"evenodd\" fill-opacity=\"1\" stroke=\"#000000\" stroke-opacity=\"1\" stroke-width=\"3.2\"/>\n",
       "<circle clip-path=\"url(#clip952)\" cx=\"1714.33\" cy=\"682.676\" r=\"14.4\" fill=\"#009af9\" fill-rule=\"evenodd\" fill-opacity=\"1\" stroke=\"#000000\" stroke-opacity=\"1\" stroke-width=\"3.2\"/>\n",
       "<circle clip-path=\"url(#clip952)\" cx=\"1739.37\" cy=\"671.035\" r=\"14.4\" fill=\"#009af9\" fill-rule=\"evenodd\" fill-opacity=\"1\" stroke=\"#000000\" stroke-opacity=\"1\" stroke-width=\"3.2\"/>\n",
       "<circle clip-path=\"url(#clip952)\" cx=\"1764.42\" cy=\"664.949\" r=\"14.4\" fill=\"#009af9\" fill-rule=\"evenodd\" fill-opacity=\"1\" stroke=\"#000000\" stroke-opacity=\"1\" stroke-width=\"3.2\"/>\n",
       "<circle clip-path=\"url(#clip952)\" cx=\"1789.47\" cy=\"663.879\" r=\"14.4\" fill=\"#009af9\" fill-rule=\"evenodd\" fill-opacity=\"1\" stroke=\"#000000\" stroke-opacity=\"1\" stroke-width=\"3.2\"/>\n",
       "<circle clip-path=\"url(#clip952)\" cx=\"1814.51\" cy=\"663.492\" r=\"14.4\" fill=\"#009af9\" fill-rule=\"evenodd\" fill-opacity=\"1\" stroke=\"#000000\" stroke-opacity=\"1\" stroke-width=\"3.2\"/>\n",
       "<circle clip-path=\"url(#clip952)\" cx=\"1839.56\" cy=\"657.394\" r=\"14.4\" fill=\"#009af9\" fill-rule=\"evenodd\" fill-opacity=\"1\" stroke=\"#000000\" stroke-opacity=\"1\" stroke-width=\"3.2\"/>\n",
       "<circle clip-path=\"url(#clip952)\" cx=\"1864.61\" cy=\"650.494\" r=\"14.4\" fill=\"#009af9\" fill-rule=\"evenodd\" fill-opacity=\"1\" stroke=\"#000000\" stroke-opacity=\"1\" stroke-width=\"3.2\"/>\n",
       "<circle clip-path=\"url(#clip952)\" cx=\"1889.65\" cy=\"632.722\" r=\"14.4\" fill=\"#009af9\" fill-rule=\"evenodd\" fill-opacity=\"1\" stroke=\"#000000\" stroke-opacity=\"1\" stroke-width=\"3.2\"/>\n",
       "<circle clip-path=\"url(#clip952)\" cx=\"1914.7\" cy=\"631.395\" r=\"14.4\" fill=\"#009af9\" fill-rule=\"evenodd\" fill-opacity=\"1\" stroke=\"#000000\" stroke-opacity=\"1\" stroke-width=\"3.2\"/>\n",
       "<circle clip-path=\"url(#clip952)\" cx=\"1939.74\" cy=\"613.917\" r=\"14.4\" fill=\"#009af9\" fill-rule=\"evenodd\" fill-opacity=\"1\" stroke=\"#000000\" stroke-opacity=\"1\" stroke-width=\"3.2\"/>\n",
       "<circle clip-path=\"url(#clip952)\" cx=\"1964.79\" cy=\"602.981\" r=\"14.4\" fill=\"#009af9\" fill-rule=\"evenodd\" fill-opacity=\"1\" stroke=\"#000000\" stroke-opacity=\"1\" stroke-width=\"3.2\"/>\n",
       "<circle clip-path=\"url(#clip952)\" cx=\"1989.84\" cy=\"601.224\" r=\"14.4\" fill=\"#009af9\" fill-rule=\"evenodd\" fill-opacity=\"1\" stroke=\"#000000\" stroke-opacity=\"1\" stroke-width=\"3.2\"/>\n",
       "<circle clip-path=\"url(#clip952)\" cx=\"2014.88\" cy=\"576.05\" r=\"14.4\" fill=\"#009af9\" fill-rule=\"evenodd\" fill-opacity=\"1\" stroke=\"#000000\" stroke-opacity=\"1\" stroke-width=\"3.2\"/>\n",
       "<circle clip-path=\"url(#clip952)\" cx=\"2039.93\" cy=\"551.895\" r=\"14.4\" fill=\"#009af9\" fill-rule=\"evenodd\" fill-opacity=\"1\" stroke=\"#000000\" stroke-opacity=\"1\" stroke-width=\"3.2\"/>\n",
       "<circle clip-path=\"url(#clip952)\" cx=\"2064.98\" cy=\"533.012\" r=\"14.4\" fill=\"#009af9\" fill-rule=\"evenodd\" fill-opacity=\"1\" stroke=\"#000000\" stroke-opacity=\"1\" stroke-width=\"3.2\"/>\n",
       "<circle clip-path=\"url(#clip952)\" cx=\"2090.02\" cy=\"515.76\" r=\"14.4\" fill=\"#009af9\" fill-rule=\"evenodd\" fill-opacity=\"1\" stroke=\"#000000\" stroke-opacity=\"1\" stroke-width=\"3.2\"/>\n",
       "<circle clip-path=\"url(#clip952)\" cx=\"2115.07\" cy=\"508.804\" r=\"14.4\" fill=\"#009af9\" fill-rule=\"evenodd\" fill-opacity=\"1\" stroke=\"#000000\" stroke-opacity=\"1\" stroke-width=\"3.2\"/>\n",
       "<circle clip-path=\"url(#clip952)\" cx=\"2140.11\" cy=\"503.892\" r=\"14.4\" fill=\"#009af9\" fill-rule=\"evenodd\" fill-opacity=\"1\" stroke=\"#000000\" stroke-opacity=\"1\" stroke-width=\"3.2\"/>\n",
       "<circle clip-path=\"url(#clip952)\" cx=\"2165.16\" cy=\"497.682\" r=\"14.4\" fill=\"#009af9\" fill-rule=\"evenodd\" fill-opacity=\"1\" stroke=\"#000000\" stroke-opacity=\"1\" stroke-width=\"3.2\"/>\n",
       "<circle clip-path=\"url(#clip952)\" cx=\"2190.21\" cy=\"478.139\" r=\"14.4\" fill=\"#009af9\" fill-rule=\"evenodd\" fill-opacity=\"1\" stroke=\"#000000\" stroke-opacity=\"1\" stroke-width=\"3.2\"/>\n",
       "<circle clip-path=\"url(#clip952)\" cx=\"2215.25\" cy=\"400.236\" r=\"14.4\" fill=\"#009af9\" fill-rule=\"evenodd\" fill-opacity=\"1\" stroke=\"#000000\" stroke-opacity=\"1\" stroke-width=\"3.2\"/>\n",
       "<circle clip-path=\"url(#clip952)\" cx=\"2240.3\" cy=\"363.413\" r=\"14.4\" fill=\"#009af9\" fill-rule=\"evenodd\" fill-opacity=\"1\" stroke=\"#000000\" stroke-opacity=\"1\" stroke-width=\"3.2\"/>\n",
       "<circle clip-path=\"url(#clip952)\" cx=\"2265.34\" cy=\"315.644\" r=\"14.4\" fill=\"#009af9\" fill-rule=\"evenodd\" fill-opacity=\"1\" stroke=\"#000000\" stroke-opacity=\"1\" stroke-width=\"3.2\"/>\n",
       "<circle clip-path=\"url(#clip952)\" cx=\"2290.39\" cy=\"162.047\" r=\"14.4\" fill=\"#009af9\" fill-rule=\"evenodd\" fill-opacity=\"1\" stroke=\"#000000\" stroke-opacity=\"1\" stroke-width=\"3.2\"/>\n",
       "</svg>\n"
      ],
      "text/html": [
       "<?xml version=\"1.0\" encoding=\"utf-8\"?>\n",
       "<svg xmlns=\"http://www.w3.org/2000/svg\" xmlns:xlink=\"http://www.w3.org/1999/xlink\" width=\"600\" height=\"400\" viewBox=\"0 0 2400 1600\">\n",
       "<defs>\n",
       "  <clipPath id=\"clip000\">\n",
       "    <rect x=\"0\" y=\"0\" width=\"2400\" height=\"1600\"/>\n",
       "  </clipPath>\n",
       "</defs>\n",
       "<path clip-path=\"url(#clip000)\" d=\"M0 1600 L2400 1600 L2400 0 L0 0  Z\" fill=\"#ffffff\" fill-rule=\"evenodd\" fill-opacity=\"1\"/>\n",
       "<defs>\n",
       "  <clipPath id=\"clip001\">\n",
       "    <rect x=\"480\" y=\"0\" width=\"1681\" height=\"1600\"/>\n",
       "  </clipPath>\n",
       "</defs>\n",
       "<path clip-path=\"url(#clip000)\" d=\"M149.191 1486.45 L2352.76 1486.45 L2352.76 123.472 L149.191 123.472  Z\" fill=\"#ffffff\" fill-rule=\"evenodd\" fill-opacity=\"1\"/>\n",
       "<defs>\n",
       "  <clipPath id=\"clip002\">\n",
       "    <rect x=\"149\" y=\"123\" width=\"2205\" height=\"1364\"/>\n",
       "  </clipPath>\n",
       "</defs>\n",
       "<polyline clip-path=\"url(#clip002)\" style=\"stroke:#000000; stroke-linecap:round; stroke-linejoin:round; stroke-width:2; stroke-opacity:0.1; fill:none\" points=\"186.51,1486.45 186.51,123.472 \"/>\n",
       "<polyline clip-path=\"url(#clip002)\" style=\"stroke:#000000; stroke-linecap:round; stroke-linejoin:round; stroke-width:2; stroke-opacity:0.1; fill:none\" points=\"687.434,1486.45 687.434,123.472 \"/>\n",
       "<polyline clip-path=\"url(#clip002)\" style=\"stroke:#000000; stroke-linecap:round; stroke-linejoin:round; stroke-width:2; stroke-opacity:0.1; fill:none\" points=\"1188.36,1486.45 1188.36,123.472 \"/>\n",
       "<polyline clip-path=\"url(#clip002)\" style=\"stroke:#000000; stroke-linecap:round; stroke-linejoin:round; stroke-width:2; stroke-opacity:0.1; fill:none\" points=\"1689.28,1486.45 1689.28,123.472 \"/>\n",
       "<polyline clip-path=\"url(#clip002)\" style=\"stroke:#000000; stroke-linecap:round; stroke-linejoin:round; stroke-width:2; stroke-opacity:0.1; fill:none\" points=\"2190.21,1486.45 2190.21,123.472 \"/>\n",
       "<polyline clip-path=\"url(#clip000)\" style=\"stroke:#000000; stroke-linecap:round; stroke-linejoin:round; stroke-width:4; stroke-opacity:1; fill:none\" points=\"149.191,1486.45 2352.76,1486.45 \"/>\n",
       "<polyline clip-path=\"url(#clip000)\" style=\"stroke:#000000; stroke-linecap:round; stroke-linejoin:round; stroke-width:4; stroke-opacity:1; fill:none\" points=\"186.51,1486.45 186.51,1467.55 \"/>\n",
       "<polyline clip-path=\"url(#clip000)\" style=\"stroke:#000000; stroke-linecap:round; stroke-linejoin:round; stroke-width:4; stroke-opacity:1; fill:none\" points=\"687.434,1486.45 687.434,1467.55 \"/>\n",
       "<polyline clip-path=\"url(#clip000)\" style=\"stroke:#000000; stroke-linecap:round; stroke-linejoin:round; stroke-width:4; stroke-opacity:1; fill:none\" points=\"1188.36,1486.45 1188.36,1467.55 \"/>\n",
       "<polyline clip-path=\"url(#clip000)\" style=\"stroke:#000000; stroke-linecap:round; stroke-linejoin:round; stroke-width:4; stroke-opacity:1; fill:none\" points=\"1689.28,1486.45 1689.28,1467.55 \"/>\n",
       "<polyline clip-path=\"url(#clip000)\" style=\"stroke:#000000; stroke-linecap:round; stroke-linejoin:round; stroke-width:4; stroke-opacity:1; fill:none\" points=\"2190.21,1486.45 2190.21,1467.55 \"/>\n",
       "<path clip-path=\"url(#clip000)\" d=\"M186.51 1517.37 Q182.899 1517.37 181.07 1520.93 Q179.264 1524.47 179.264 1531.6 Q179.264 1538.71 181.07 1542.27 Q182.899 1545.82 186.51 1545.82 Q190.144 1545.82 191.949 1542.27 Q193.778 1538.71 193.778 1531.6 Q193.778 1524.47 191.949 1520.93 Q190.144 1517.37 186.51 1517.37 M186.51 1513.66 Q192.32 1513.66 195.375 1518.27 Q198.454 1522.85 198.454 1531.6 Q198.454 1540.33 195.375 1544.94 Q192.32 1549.52 186.51 1549.52 Q180.7 1549.52 177.621 1544.94 Q174.565 1540.33 174.565 1531.6 Q174.565 1522.85 177.621 1518.27 Q180.7 1513.66 186.51 1513.66 Z\" fill=\"#000000\" fill-rule=\"nonzero\" fill-opacity=\"1\" /><path clip-path=\"url(#clip000)\" d=\"M666.207 1544.91 L682.526 1544.91 L682.526 1548.85 L660.582 1548.85 L660.582 1544.91 Q663.244 1542.16 667.827 1537.53 Q672.434 1532.88 673.614 1531.53 Q675.86 1529.01 676.739 1527.27 Q677.642 1525.51 677.642 1523.82 Q677.642 1521.07 675.698 1519.33 Q673.776 1517.6 670.675 1517.6 Q668.476 1517.6 666.022 1518.36 Q663.591 1519.13 660.814 1520.68 L660.814 1515.95 Q663.638 1514.82 666.091 1514.24 Q668.545 1513.66 670.582 1513.66 Q675.952 1513.66 679.147 1516.35 Q682.341 1519.03 682.341 1523.52 Q682.341 1525.65 681.531 1527.57 Q680.744 1529.47 678.638 1532.07 Q678.059 1532.74 674.957 1535.95 Q671.855 1539.15 666.207 1544.91 Z\" fill=\"#000000\" fill-rule=\"nonzero\" fill-opacity=\"1\" /><path clip-path=\"url(#clip000)\" d=\"M702.341 1517.37 Q698.73 1517.37 696.901 1520.93 Q695.096 1524.47 695.096 1531.6 Q695.096 1538.71 696.901 1542.27 Q698.73 1545.82 702.341 1545.82 Q705.975 1545.82 707.781 1542.27 Q709.61 1538.71 709.61 1531.6 Q709.61 1524.47 707.781 1520.93 Q705.975 1517.37 702.341 1517.37 M702.341 1513.66 Q708.151 1513.66 711.207 1518.27 Q714.286 1522.85 714.286 1531.6 Q714.286 1540.33 711.207 1544.94 Q708.151 1549.52 702.341 1549.52 Q696.531 1549.52 693.452 1544.94 Q690.397 1540.33 690.397 1531.6 Q690.397 1522.85 693.452 1518.27 Q696.531 1513.66 702.341 1513.66 Z\" fill=\"#000000\" fill-rule=\"nonzero\" fill-opacity=\"1\" /><path clip-path=\"url(#clip000)\" d=\"M1176.53 1518.36 L1164.72 1536.81 L1176.53 1536.81 L1176.53 1518.36 M1175.3 1514.29 L1181.18 1514.29 L1181.18 1536.81 L1186.11 1536.81 L1186.11 1540.7 L1181.18 1540.7 L1181.18 1548.85 L1176.53 1548.85 L1176.53 1540.7 L1160.93 1540.7 L1160.93 1536.19 L1175.3 1514.29 Z\" fill=\"#000000\" fill-rule=\"nonzero\" fill-opacity=\"1\" /><path clip-path=\"url(#clip000)\" d=\"M1203.84 1517.37 Q1200.23 1517.37 1198.4 1520.93 Q1196.6 1524.47 1196.6 1531.6 Q1196.6 1538.71 1198.4 1542.27 Q1200.23 1545.82 1203.84 1545.82 Q1207.48 1545.82 1209.28 1542.27 Q1211.11 1538.71 1211.11 1531.6 Q1211.11 1524.47 1209.28 1520.93 Q1207.48 1517.37 1203.84 1517.37 M1203.84 1513.66 Q1209.65 1513.66 1212.71 1518.27 Q1215.79 1522.85 1215.79 1531.6 Q1215.79 1540.33 1212.71 1544.94 Q1209.65 1549.52 1203.84 1549.52 Q1198.03 1549.52 1194.96 1544.94 Q1191.9 1540.33 1191.9 1531.6 Q1191.9 1522.85 1194.96 1518.27 Q1198.03 1513.66 1203.84 1513.66 Z\" fill=\"#000000\" fill-rule=\"nonzero\" fill-opacity=\"1\" /><path clip-path=\"url(#clip000)\" d=\"M1674.69 1529.7 Q1671.54 1529.7 1669.69 1531.86 Q1667.86 1534.01 1667.86 1537.76 Q1667.86 1541.49 1669.69 1543.66 Q1671.54 1545.82 1674.69 1545.82 Q1677.84 1545.82 1679.66 1543.66 Q1681.52 1541.49 1681.52 1537.76 Q1681.52 1534.01 1679.66 1531.86 Q1677.84 1529.7 1674.69 1529.7 M1683.97 1515.05 L1683.97 1519.31 Q1682.21 1518.48 1680.4 1518.04 Q1678.62 1517.6 1676.86 1517.6 Q1672.23 1517.6 1669.78 1520.72 Q1667.35 1523.85 1667 1530.17 Q1668.37 1528.15 1670.43 1527.09 Q1672.49 1526 1674.96 1526 Q1680.17 1526 1683.18 1529.17 Q1686.21 1532.32 1686.21 1537.76 Q1686.21 1543.08 1683.07 1546.3 Q1679.92 1549.52 1674.69 1549.52 Q1668.69 1549.52 1665.52 1544.94 Q1662.35 1540.33 1662.35 1531.6 Q1662.35 1523.41 1666.24 1518.55 Q1670.13 1513.66 1676.68 1513.66 Q1678.44 1513.66 1680.22 1514.01 Q1682.03 1514.36 1683.97 1515.05 Z\" fill=\"#000000\" fill-rule=\"nonzero\" fill-opacity=\"1\" /><path clip-path=\"url(#clip000)\" d=\"M1704.27 1517.37 Q1700.66 1517.37 1698.83 1520.93 Q1697.02 1524.47 1697.02 1531.6 Q1697.02 1538.71 1698.83 1542.27 Q1700.66 1545.82 1704.27 1545.82 Q1707.9 1545.82 1709.71 1542.27 Q1711.54 1538.71 1711.54 1531.6 Q1711.54 1524.47 1709.71 1520.93 Q1707.9 1517.37 1704.27 1517.37 M1704.27 1513.66 Q1710.08 1513.66 1713.14 1518.27 Q1716.21 1522.85 1716.21 1531.6 Q1716.21 1540.33 1713.14 1544.94 Q1710.08 1549.52 1704.27 1549.52 Q1698.46 1549.52 1695.38 1544.94 Q1692.33 1540.33 1692.33 1531.6 Q1692.33 1522.85 1695.38 1518.27 Q1698.46 1513.66 1704.27 1513.66 Z\" fill=\"#000000\" fill-rule=\"nonzero\" fill-opacity=\"1\" /><path clip-path=\"url(#clip000)\" d=\"M2175.08 1532.44 Q2171.75 1532.44 2169.82 1534.22 Q2167.93 1536 2167.93 1539.13 Q2167.93 1542.25 2169.82 1544.03 Q2171.75 1545.82 2175.08 1545.82 Q2178.41 1545.82 2180.33 1544.03 Q2182.25 1542.23 2182.25 1539.13 Q2182.25 1536 2180.33 1534.22 Q2178.44 1532.44 2175.08 1532.44 M2170.4 1530.45 Q2167.39 1529.7 2165.7 1527.64 Q2164.04 1525.58 2164.04 1522.62 Q2164.04 1518.48 2166.98 1516.07 Q2169.94 1513.66 2175.08 1513.66 Q2180.24 1513.66 2183.18 1516.07 Q2186.12 1518.48 2186.12 1522.62 Q2186.12 1525.58 2184.43 1527.64 Q2182.76 1529.7 2179.78 1530.45 Q2183.16 1531.23 2185.03 1533.52 Q2186.93 1535.82 2186.93 1539.13 Q2186.93 1544.15 2183.85 1546.83 Q2180.8 1549.52 2175.08 1549.52 Q2169.36 1549.52 2166.28 1546.83 Q2163.23 1544.15 2163.23 1539.13 Q2163.23 1535.82 2165.13 1533.52 Q2167.02 1531.23 2170.4 1530.45 M2168.69 1523.06 Q2168.69 1525.75 2170.36 1527.25 Q2172.05 1528.76 2175.08 1528.76 Q2178.09 1528.76 2179.78 1527.25 Q2181.49 1525.75 2181.49 1523.06 Q2181.49 1520.38 2179.78 1518.87 Q2178.09 1517.37 2175.08 1517.37 Q2172.05 1517.37 2170.36 1518.87 Q2168.69 1520.38 2168.69 1523.06 Z\" fill=\"#000000\" fill-rule=\"nonzero\" fill-opacity=\"1\" /><path clip-path=\"url(#clip000)\" d=\"M2205.24 1517.37 Q2201.63 1517.37 2199.8 1520.93 Q2198 1524.47 2198 1531.6 Q2198 1538.71 2199.8 1542.27 Q2201.63 1545.82 2205.24 1545.82 Q2208.87 1545.82 2210.68 1542.27 Q2212.51 1538.71 2212.51 1531.6 Q2212.51 1524.47 2210.68 1520.93 Q2208.87 1517.37 2205.24 1517.37 M2205.24 1513.66 Q2211.05 1513.66 2214.11 1518.27 Q2217.19 1522.85 2217.19 1531.6 Q2217.19 1540.33 2214.11 1544.94 Q2211.05 1549.52 2205.24 1549.52 Q2199.43 1549.52 2196.35 1544.94 Q2193.3 1540.33 2193.3 1531.6 Q2193.3 1522.85 2196.35 1518.27 Q2199.43 1513.66 2205.24 1513.66 Z\" fill=\"#000000\" fill-rule=\"nonzero\" fill-opacity=\"1\" /><polyline clip-path=\"url(#clip002)\" style=\"stroke:#000000; stroke-linecap:round; stroke-linejoin:round; stroke-width:2; stroke-opacity:0.1; fill:none\" points=\"149.191,1329.52 2352.76,1329.52 \"/>\n",
       "<polyline clip-path=\"url(#clip002)\" style=\"stroke:#000000; stroke-linecap:round; stroke-linejoin:round; stroke-width:2; stroke-opacity:0.1; fill:none\" points=\"149.191,1040.21 2352.76,1040.21 \"/>\n",
       "<polyline clip-path=\"url(#clip002)\" style=\"stroke:#000000; stroke-linecap:round; stroke-linejoin:round; stroke-width:2; stroke-opacity:0.1; fill:none\" points=\"149.191,750.905 2352.76,750.905 \"/>\n",
       "<polyline clip-path=\"url(#clip002)\" style=\"stroke:#000000; stroke-linecap:round; stroke-linejoin:round; stroke-width:2; stroke-opacity:0.1; fill:none\" points=\"149.191,461.599 2352.76,461.599 \"/>\n",
       "<polyline clip-path=\"url(#clip002)\" style=\"stroke:#000000; stroke-linecap:round; stroke-linejoin:round; stroke-width:2; stroke-opacity:0.1; fill:none\" points=\"149.191,172.293 2352.76,172.293 \"/>\n",
       "<polyline clip-path=\"url(#clip000)\" style=\"stroke:#000000; stroke-linecap:round; stroke-linejoin:round; stroke-width:4; stroke-opacity:1; fill:none\" points=\"149.191,1486.45 149.191,123.472 \"/>\n",
       "<polyline clip-path=\"url(#clip000)\" style=\"stroke:#000000; stroke-linecap:round; stroke-linejoin:round; stroke-width:4; stroke-opacity:1; fill:none\" points=\"149.191,1329.52 168.089,1329.52 \"/>\n",
       "<polyline clip-path=\"url(#clip000)\" style=\"stroke:#000000; stroke-linecap:round; stroke-linejoin:round; stroke-width:4; stroke-opacity:1; fill:none\" points=\"149.191,1040.21 168.089,1040.21 \"/>\n",
       "<polyline clip-path=\"url(#clip000)\" style=\"stroke:#000000; stroke-linecap:round; stroke-linejoin:round; stroke-width:4; stroke-opacity:1; fill:none\" points=\"149.191,750.905 168.089,750.905 \"/>\n",
       "<polyline clip-path=\"url(#clip000)\" style=\"stroke:#000000; stroke-linecap:round; stroke-linejoin:round; stroke-width:4; stroke-opacity:1; fill:none\" points=\"149.191,461.599 168.089,461.599 \"/>\n",
       "<polyline clip-path=\"url(#clip000)\" style=\"stroke:#000000; stroke-linecap:round; stroke-linejoin:round; stroke-width:4; stroke-opacity:1; fill:none\" points=\"149.191,172.293 168.089,172.293 \"/>\n",
       "<path clip-path=\"url(#clip000)\" d=\"M52.4736 1329.97 L82.1494 1329.97 L82.1494 1333.9 L52.4736 1333.9 L52.4736 1329.97 Z\" fill=\"#000000\" fill-rule=\"nonzero\" fill-opacity=\"1\" /><path clip-path=\"url(#clip000)\" d=\"M92.2882 1312.24 L110.645 1312.24 L110.645 1316.17 L96.5706 1316.17 L96.5706 1324.65 Q97.5891 1324.3 98.6076 1324.14 Q99.6261 1323.95 100.645 1323.95 Q106.432 1323.95 109.811 1327.12 Q113.191 1330.29 113.191 1335.71 Q113.191 1341.29 109.719 1344.39 Q106.246 1347.47 99.927 1347.47 Q97.7511 1347.47 95.4826 1347.1 Q93.2373 1346.73 90.8299 1345.99 L90.8299 1341.29 Q92.9132 1342.42 95.1354 1342.98 Q97.3576 1343.53 99.8345 1343.53 Q103.839 1343.53 106.177 1341.43 Q108.515 1339.32 108.515 1335.71 Q108.515 1332.1 106.177 1329.99 Q103.839 1327.89 99.8345 1327.89 Q97.9595 1327.89 96.0845 1328.3 Q94.2326 1328.72 92.2882 1329.6 L92.2882 1312.24 Z\" fill=\"#000000\" fill-rule=\"nonzero\" fill-opacity=\"1\" /><path clip-path=\"url(#clip000)\" d=\"M50.9921 1040.66 L80.6679 1040.66 L80.6679 1044.6 L50.9921 1044.6 L50.9921 1040.66 Z\" fill=\"#000000\" fill-rule=\"nonzero\" fill-opacity=\"1\" /><path clip-path=\"url(#clip000)\" d=\"M103.608 1027.01 L91.8021 1045.45 L103.608 1045.45 L103.608 1027.01 M102.381 1022.93 L108.26 1022.93 L108.26 1045.45 L113.191 1045.45 L113.191 1049.34 L108.26 1049.34 L108.26 1057.49 L103.608 1057.49 L103.608 1049.34 L88.0058 1049.34 L88.0058 1044.83 L102.381 1022.93 Z\" fill=\"#000000\" fill-rule=\"nonzero\" fill-opacity=\"1\" /><path clip-path=\"url(#clip000)\" d=\"M52.1264 751.357 L81.8021 751.357 L81.8021 755.292 L52.1264 755.292 L52.1264 751.357 Z\" fill=\"#000000\" fill-rule=\"nonzero\" fill-opacity=\"1\" /><path clip-path=\"url(#clip000)\" d=\"M106.061 749.551 Q109.418 750.269 111.293 752.537 Q113.191 754.806 113.191 758.139 Q113.191 763.255 109.672 766.056 Q106.154 768.857 99.6724 768.857 Q97.4965 768.857 95.1817 768.417 Q92.89 768 90.4364 767.144 L90.4364 762.63 Q92.3808 763.764 94.6956 764.343 Q97.0104 764.921 99.5335 764.921 Q103.932 764.921 106.223 763.185 Q108.538 761.449 108.538 758.139 Q108.538 755.084 106.385 753.371 Q104.256 751.635 100.436 751.635 L96.4085 751.635 L96.4085 747.792 L100.621 747.792 Q104.071 747.792 105.899 746.426 Q107.728 745.037 107.728 742.445 Q107.728 739.783 105.83 738.371 Q103.955 736.936 100.436 736.936 Q98.515 736.936 96.316 737.352 Q94.1169 737.769 91.478 738.648 L91.478 734.482 Q94.14 733.741 96.4548 733.371 Q98.7928 733 100.853 733 Q106.177 733 109.279 735.431 Q112.381 737.838 112.381 741.959 Q112.381 744.829 110.737 746.82 Q109.094 748.787 106.061 749.551 Z\" fill=\"#000000\" fill-rule=\"nonzero\" fill-opacity=\"1\" /><path clip-path=\"url(#clip000)\" d=\"M53.0754 462.05 L82.7512 462.05 L82.7512 465.985 L53.0754 465.985 L53.0754 462.05 Z\" fill=\"#000000\" fill-rule=\"nonzero\" fill-opacity=\"1\" /><path clip-path=\"url(#clip000)\" d=\"M96.8715 474.944 L113.191 474.944 L113.191 478.879 L91.2465 478.879 L91.2465 474.944 Q93.9086 472.189 98.4919 467.56 Q103.098 462.907 104.279 461.564 Q106.524 459.041 107.404 457.305 Q108.307 455.546 108.307 453.856 Q108.307 451.101 106.362 449.365 Q104.441 447.629 101.339 447.629 Q99.14 447.629 96.6863 448.393 Q94.2558 449.157 91.478 450.708 L91.478 445.986 Q94.3021 444.851 96.7558 444.273 Q99.2095 443.694 101.246 443.694 Q106.617 443.694 109.811 446.379 Q113.006 449.064 113.006 453.555 Q113.006 455.685 112.196 457.606 Q111.408 459.504 109.302 462.097 Q108.723 462.768 105.621 465.985 Q102.52 469.18 96.8715 474.944 Z\" fill=\"#000000\" fill-rule=\"nonzero\" fill-opacity=\"1\" /><path clip-path=\"url(#clip000)\" d=\"M52.7051 172.744 L82.3808 172.744 L82.3808 176.679 L52.7051 176.679 L52.7051 172.744 Z\" fill=\"#000000\" fill-rule=\"nonzero\" fill-opacity=\"1\" /><path clip-path=\"url(#clip000)\" d=\"M93.2836 185.637 L100.922 185.637 L100.922 159.272 L92.6123 160.938 L92.6123 156.679 L100.876 155.013 L105.552 155.013 L105.552 185.637 L113.191 185.637 L113.191 189.573 L93.2836 189.573 L93.2836 185.637 Z\" fill=\"#000000\" fill-rule=\"nonzero\" fill-opacity=\"1\" /><path clip-path=\"url(#clip000)\" d=\"M1193.73 12.096 L1205.93 12.096 L1221.36 53.2532 L1236.88 12.096 L1249.07 12.096 L1249.07 72.576 L1241.09 72.576 L1241.09 19.4686 L1225.49 60.9499 L1217.27 60.9499 L1201.67 19.4686 L1201.67 72.576 L1193.73 72.576 L1193.73 12.096 Z\" fill=\"#000000\" fill-rule=\"nonzero\" fill-opacity=\"1\" /><path clip-path=\"url(#clip000)\" d=\"M1273.5 43.6931 L1273.5 65.8515 L1286.62 65.8515 Q1293.22 65.8515 1296.38 63.1374 Q1299.58 60.3828 1299.58 54.752 Q1299.58 49.0808 1296.38 46.4072 Q1293.22 43.6931 1286.62 43.6931 L1273.5 43.6931 M1273.5 18.8205 L1273.5 37.0496 L1285.61 37.0496 Q1291.6 37.0496 1294.52 34.8216 Q1297.48 32.5531 1297.48 27.935 Q1297.48 23.3575 1294.52 21.089 Q1291.6 18.8205 1285.61 18.8205 L1273.5 18.8205 M1265.31 12.096 L1286.22 12.096 Q1295.57 12.096 1300.64 15.9849 Q1305.7 19.8737 1305.7 27.0438 Q1305.7 32.5936 1303.11 35.8748 Q1300.52 39.156 1295.49 39.9662 Q1301.53 41.2625 1304.85 45.3944 Q1308.21 49.4858 1308.21 55.6432 Q1308.21 63.745 1302.7 68.1605 Q1297.19 72.576 1287.03 72.576 L1265.31 72.576 L1265.31 12.096 Z\" fill=\"#000000\" fill-rule=\"nonzero\" fill-opacity=\"1\" /><circle clip-path=\"url(#clip002)\" cx=\"211.556\" cy=\"1447.87\" r=\"14.4\" fill=\"#009af9\" fill-rule=\"evenodd\" fill-opacity=\"1\" stroke=\"#000000\" stroke-opacity=\"1\" stroke-width=\"3.2\"/>\n",
       "<circle clip-path=\"url(#clip002)\" cx=\"236.602\" cy=\"1357.01\" r=\"14.4\" fill=\"#009af9\" fill-rule=\"evenodd\" fill-opacity=\"1\" stroke=\"#000000\" stroke-opacity=\"1\" stroke-width=\"3.2\"/>\n",
       "<circle clip-path=\"url(#clip002)\" cx=\"261.648\" cy=\"1292.37\" r=\"14.4\" fill=\"#009af9\" fill-rule=\"evenodd\" fill-opacity=\"1\" stroke=\"#000000\" stroke-opacity=\"1\" stroke-width=\"3.2\"/>\n",
       "<circle clip-path=\"url(#clip002)\" cx=\"286.695\" cy=\"1249.37\" r=\"14.4\" fill=\"#009af9\" fill-rule=\"evenodd\" fill-opacity=\"1\" stroke=\"#000000\" stroke-opacity=\"1\" stroke-width=\"3.2\"/>\n",
       "<circle clip-path=\"url(#clip002)\" cx=\"311.741\" cy=\"1244.51\" r=\"14.4\" fill=\"#009af9\" fill-rule=\"evenodd\" fill-opacity=\"1\" stroke=\"#000000\" stroke-opacity=\"1\" stroke-width=\"3.2\"/>\n",
       "<circle clip-path=\"url(#clip002)\" cx=\"336.787\" cy=\"1241.69\" r=\"14.4\" fill=\"#009af9\" fill-rule=\"evenodd\" fill-opacity=\"1\" stroke=\"#000000\" stroke-opacity=\"1\" stroke-width=\"3.2\"/>\n",
       "<circle clip-path=\"url(#clip002)\" cx=\"361.833\" cy=\"1213.88\" r=\"14.4\" fill=\"#009af9\" fill-rule=\"evenodd\" fill-opacity=\"1\" stroke=\"#000000\" stroke-opacity=\"1\" stroke-width=\"3.2\"/>\n",
       "<circle clip-path=\"url(#clip002)\" cx=\"386.879\" cy=\"1169.71\" r=\"14.4\" fill=\"#009af9\" fill-rule=\"evenodd\" fill-opacity=\"1\" stroke=\"#000000\" stroke-opacity=\"1\" stroke-width=\"3.2\"/>\n",
       "<circle clip-path=\"url(#clip002)\" cx=\"411.926\" cy=\"1165.37\" r=\"14.4\" fill=\"#009af9\" fill-rule=\"evenodd\" fill-opacity=\"1\" stroke=\"#000000\" stroke-opacity=\"1\" stroke-width=\"3.2\"/>\n",
       "<circle clip-path=\"url(#clip002)\" cx=\"436.972\" cy=\"1143.34\" r=\"14.4\" fill=\"#009af9\" fill-rule=\"evenodd\" fill-opacity=\"1\" stroke=\"#000000\" stroke-opacity=\"1\" stroke-width=\"3.2\"/>\n",
       "<circle clip-path=\"url(#clip002)\" cx=\"462.018\" cy=\"1118.82\" r=\"14.4\" fill=\"#009af9\" fill-rule=\"evenodd\" fill-opacity=\"1\" stroke=\"#000000\" stroke-opacity=\"1\" stroke-width=\"3.2\"/>\n",
       "<circle clip-path=\"url(#clip002)\" cx=\"487.064\" cy=\"1117.44\" r=\"14.4\" fill=\"#009af9\" fill-rule=\"evenodd\" fill-opacity=\"1\" stroke=\"#000000\" stroke-opacity=\"1\" stroke-width=\"3.2\"/>\n",
       "<circle clip-path=\"url(#clip002)\" cx=\"512.11\" cy=\"1105.66\" r=\"14.4\" fill=\"#009af9\" fill-rule=\"evenodd\" fill-opacity=\"1\" stroke=\"#000000\" stroke-opacity=\"1\" stroke-width=\"3.2\"/>\n",
       "<circle clip-path=\"url(#clip002)\" cx=\"537.157\" cy=\"1090.03\" r=\"14.4\" fill=\"#009af9\" fill-rule=\"evenodd\" fill-opacity=\"1\" stroke=\"#000000\" stroke-opacity=\"1\" stroke-width=\"3.2\"/>\n",
       "<circle clip-path=\"url(#clip002)\" cx=\"562.203\" cy=\"1088.38\" r=\"14.4\" fill=\"#009af9\" fill-rule=\"evenodd\" fill-opacity=\"1\" stroke=\"#000000\" stroke-opacity=\"1\" stroke-width=\"3.2\"/>\n",
       "<circle clip-path=\"url(#clip002)\" cx=\"587.249\" cy=\"1060.12\" r=\"14.4\" fill=\"#009af9\" fill-rule=\"evenodd\" fill-opacity=\"1\" stroke=\"#000000\" stroke-opacity=\"1\" stroke-width=\"3.2\"/>\n",
       "<circle clip-path=\"url(#clip002)\" cx=\"612.295\" cy=\"1055.36\" r=\"14.4\" fill=\"#009af9\" fill-rule=\"evenodd\" fill-opacity=\"1\" stroke=\"#000000\" stroke-opacity=\"1\" stroke-width=\"3.2\"/>\n",
       "<circle clip-path=\"url(#clip002)\" cx=\"637.341\" cy=\"1031.13\" r=\"14.4\" fill=\"#009af9\" fill-rule=\"evenodd\" fill-opacity=\"1\" stroke=\"#000000\" stroke-opacity=\"1\" stroke-width=\"3.2\"/>\n",
       "<circle clip-path=\"url(#clip002)\" cx=\"662.388\" cy=\"1022.32\" r=\"14.4\" fill=\"#009af9\" fill-rule=\"evenodd\" fill-opacity=\"1\" stroke=\"#000000\" stroke-opacity=\"1\" stroke-width=\"3.2\"/>\n",
       "<circle clip-path=\"url(#clip002)\" cx=\"687.434\" cy=\"1018.69\" r=\"14.4\" fill=\"#009af9\" fill-rule=\"evenodd\" fill-opacity=\"1\" stroke=\"#000000\" stroke-opacity=\"1\" stroke-width=\"3.2\"/>\n",
       "<circle clip-path=\"url(#clip002)\" cx=\"712.48\" cy=\"1009.13\" r=\"14.4\" fill=\"#009af9\" fill-rule=\"evenodd\" fill-opacity=\"1\" stroke=\"#000000\" stroke-opacity=\"1\" stroke-width=\"3.2\"/>\n",
       "<circle clip-path=\"url(#clip002)\" cx=\"737.526\" cy=\"1005.13\" r=\"14.4\" fill=\"#009af9\" fill-rule=\"evenodd\" fill-opacity=\"1\" stroke=\"#000000\" stroke-opacity=\"1\" stroke-width=\"3.2\"/>\n",
       "<circle clip-path=\"url(#clip002)\" cx=\"762.572\" cy=\"990.567\" r=\"14.4\" fill=\"#009af9\" fill-rule=\"evenodd\" fill-opacity=\"1\" stroke=\"#000000\" stroke-opacity=\"1\" stroke-width=\"3.2\"/>\n",
       "<circle clip-path=\"url(#clip002)\" cx=\"787.619\" cy=\"986.045\" r=\"14.4\" fill=\"#009af9\" fill-rule=\"evenodd\" fill-opacity=\"1\" stroke=\"#000000\" stroke-opacity=\"1\" stroke-width=\"3.2\"/>\n",
       "<circle clip-path=\"url(#clip002)\" cx=\"812.665\" cy=\"974.527\" r=\"14.4\" fill=\"#009af9\" fill-rule=\"evenodd\" fill-opacity=\"1\" stroke=\"#000000\" stroke-opacity=\"1\" stroke-width=\"3.2\"/>\n",
       "<circle clip-path=\"url(#clip002)\" cx=\"837.711\" cy=\"964.331\" r=\"14.4\" fill=\"#009af9\" fill-rule=\"evenodd\" fill-opacity=\"1\" stroke=\"#000000\" stroke-opacity=\"1\" stroke-width=\"3.2\"/>\n",
       "<circle clip-path=\"url(#clip002)\" cx=\"862.757\" cy=\"960.999\" r=\"14.4\" fill=\"#009af9\" fill-rule=\"evenodd\" fill-opacity=\"1\" stroke=\"#000000\" stroke-opacity=\"1\" stroke-width=\"3.2\"/>\n",
       "<circle clip-path=\"url(#clip002)\" cx=\"887.803\" cy=\"959.187\" r=\"14.4\" fill=\"#009af9\" fill-rule=\"evenodd\" fill-opacity=\"1\" stroke=\"#000000\" stroke-opacity=\"1\" stroke-width=\"3.2\"/>\n",
       "<circle clip-path=\"url(#clip002)\" cx=\"912.85\" cy=\"946.742\" r=\"14.4\" fill=\"#009af9\" fill-rule=\"evenodd\" fill-opacity=\"1\" stroke=\"#000000\" stroke-opacity=\"1\" stroke-width=\"3.2\"/>\n",
       "<circle clip-path=\"url(#clip002)\" cx=\"937.896\" cy=\"932.866\" r=\"14.4\" fill=\"#009af9\" fill-rule=\"evenodd\" fill-opacity=\"1\" stroke=\"#000000\" stroke-opacity=\"1\" stroke-width=\"3.2\"/>\n",
       "<circle clip-path=\"url(#clip002)\" cx=\"962.942\" cy=\"931.07\" r=\"14.4\" fill=\"#009af9\" fill-rule=\"evenodd\" fill-opacity=\"1\" stroke=\"#000000\" stroke-opacity=\"1\" stroke-width=\"3.2\"/>\n",
       "<circle clip-path=\"url(#clip002)\" cx=\"987.988\" cy=\"929.011\" r=\"14.4\" fill=\"#009af9\" fill-rule=\"evenodd\" fill-opacity=\"1\" stroke=\"#000000\" stroke-opacity=\"1\" stroke-width=\"3.2\"/>\n",
       "<circle clip-path=\"url(#clip002)\" cx=\"1013.03\" cy=\"920.568\" r=\"14.4\" fill=\"#009af9\" fill-rule=\"evenodd\" fill-opacity=\"1\" stroke=\"#000000\" stroke-opacity=\"1\" stroke-width=\"3.2\"/>\n",
       "<circle clip-path=\"url(#clip002)\" cx=\"1038.08\" cy=\"909.191\" r=\"14.4\" fill=\"#009af9\" fill-rule=\"evenodd\" fill-opacity=\"1\" stroke=\"#000000\" stroke-opacity=\"1\" stroke-width=\"3.2\"/>\n",
       "<circle clip-path=\"url(#clip002)\" cx=\"1063.13\" cy=\"902.835\" r=\"14.4\" fill=\"#009af9\" fill-rule=\"evenodd\" fill-opacity=\"1\" stroke=\"#000000\" stroke-opacity=\"1\" stroke-width=\"3.2\"/>\n",
       "<circle clip-path=\"url(#clip002)\" cx=\"1088.17\" cy=\"899.11\" r=\"14.4\" fill=\"#009af9\" fill-rule=\"evenodd\" fill-opacity=\"1\" stroke=\"#000000\" stroke-opacity=\"1\" stroke-width=\"3.2\"/>\n",
       "<circle clip-path=\"url(#clip002)\" cx=\"1113.22\" cy=\"897.365\" r=\"14.4\" fill=\"#009af9\" fill-rule=\"evenodd\" fill-opacity=\"1\" stroke=\"#000000\" stroke-opacity=\"1\" stroke-width=\"3.2\"/>\n",
       "<circle clip-path=\"url(#clip002)\" cx=\"1138.27\" cy=\"890.872\" r=\"14.4\" fill=\"#009af9\" fill-rule=\"evenodd\" fill-opacity=\"1\" stroke=\"#000000\" stroke-opacity=\"1\" stroke-width=\"3.2\"/>\n",
       "<circle clip-path=\"url(#clip002)\" cx=\"1163.31\" cy=\"871.1\" r=\"14.4\" fill=\"#009af9\" fill-rule=\"evenodd\" fill-opacity=\"1\" stroke=\"#000000\" stroke-opacity=\"1\" stroke-width=\"3.2\"/>\n",
       "<circle clip-path=\"url(#clip002)\" cx=\"1188.36\" cy=\"868.766\" r=\"14.4\" fill=\"#009af9\" fill-rule=\"evenodd\" fill-opacity=\"1\" stroke=\"#000000\" stroke-opacity=\"1\" stroke-width=\"3.2\"/>\n",
       "<circle clip-path=\"url(#clip002)\" cx=\"1213.4\" cy=\"855.296\" r=\"14.4\" fill=\"#009af9\" fill-rule=\"evenodd\" fill-opacity=\"1\" stroke=\"#000000\" stroke-opacity=\"1\" stroke-width=\"3.2\"/>\n",
       "<circle clip-path=\"url(#clip002)\" cx=\"1238.45\" cy=\"845.496\" r=\"14.4\" fill=\"#009af9\" fill-rule=\"evenodd\" fill-opacity=\"1\" stroke=\"#000000\" stroke-opacity=\"1\" stroke-width=\"3.2\"/>\n",
       "<circle clip-path=\"url(#clip002)\" cx=\"1263.5\" cy=\"839.01\" r=\"14.4\" fill=\"#009af9\" fill-rule=\"evenodd\" fill-opacity=\"1\" stroke=\"#000000\" stroke-opacity=\"1\" stroke-width=\"3.2\"/>\n",
       "<circle clip-path=\"url(#clip002)\" cx=\"1288.54\" cy=\"830.315\" r=\"14.4\" fill=\"#009af9\" fill-rule=\"evenodd\" fill-opacity=\"1\" stroke=\"#000000\" stroke-opacity=\"1\" stroke-width=\"3.2\"/>\n",
       "<circle clip-path=\"url(#clip002)\" cx=\"1313.59\" cy=\"814.167\" r=\"14.4\" fill=\"#009af9\" fill-rule=\"evenodd\" fill-opacity=\"1\" stroke=\"#000000\" stroke-opacity=\"1\" stroke-width=\"3.2\"/>\n",
       "<circle clip-path=\"url(#clip002)\" cx=\"1338.64\" cy=\"808.12\" r=\"14.4\" fill=\"#009af9\" fill-rule=\"evenodd\" fill-opacity=\"1\" stroke=\"#000000\" stroke-opacity=\"1\" stroke-width=\"3.2\"/>\n",
       "<circle clip-path=\"url(#clip002)\" cx=\"1363.68\" cy=\"805.06\" r=\"14.4\" fill=\"#009af9\" fill-rule=\"evenodd\" fill-opacity=\"1\" stroke=\"#000000\" stroke-opacity=\"1\" stroke-width=\"3.2\"/>\n",
       "<circle clip-path=\"url(#clip002)\" cx=\"1388.73\" cy=\"800.792\" r=\"14.4\" fill=\"#009af9\" fill-rule=\"evenodd\" fill-opacity=\"1\" stroke=\"#000000\" stroke-opacity=\"1\" stroke-width=\"3.2\"/>\n",
       "<circle clip-path=\"url(#clip002)\" cx=\"1413.77\" cy=\"786.268\" r=\"14.4\" fill=\"#009af9\" fill-rule=\"evenodd\" fill-opacity=\"1\" stroke=\"#000000\" stroke-opacity=\"1\" stroke-width=\"3.2\"/>\n",
       "<circle clip-path=\"url(#clip002)\" cx=\"1438.82\" cy=\"783.239\" r=\"14.4\" fill=\"#009af9\" fill-rule=\"evenodd\" fill-opacity=\"1\" stroke=\"#000000\" stroke-opacity=\"1\" stroke-width=\"3.2\"/>\n",
       "<circle clip-path=\"url(#clip002)\" cx=\"1463.87\" cy=\"777.215\" r=\"14.4\" fill=\"#009af9\" fill-rule=\"evenodd\" fill-opacity=\"1\" stroke=\"#000000\" stroke-opacity=\"1\" stroke-width=\"3.2\"/>\n",
       "<circle clip-path=\"url(#clip002)\" cx=\"1488.91\" cy=\"772.367\" r=\"14.4\" fill=\"#009af9\" fill-rule=\"evenodd\" fill-opacity=\"1\" stroke=\"#000000\" stroke-opacity=\"1\" stroke-width=\"3.2\"/>\n",
       "<circle clip-path=\"url(#clip002)\" cx=\"1513.96\" cy=\"763.95\" r=\"14.4\" fill=\"#009af9\" fill-rule=\"evenodd\" fill-opacity=\"1\" stroke=\"#000000\" stroke-opacity=\"1\" stroke-width=\"3.2\"/>\n",
       "<circle clip-path=\"url(#clip002)\" cx=\"1539\" cy=\"754.06\" r=\"14.4\" fill=\"#009af9\" fill-rule=\"evenodd\" fill-opacity=\"1\" stroke=\"#000000\" stroke-opacity=\"1\" stroke-width=\"3.2\"/>\n",
       "<circle clip-path=\"url(#clip002)\" cx=\"1564.05\" cy=\"748.636\" r=\"14.4\" fill=\"#009af9\" fill-rule=\"evenodd\" fill-opacity=\"1\" stroke=\"#000000\" stroke-opacity=\"1\" stroke-width=\"3.2\"/>\n",
       "<circle clip-path=\"url(#clip002)\" cx=\"1589.1\" cy=\"727.877\" r=\"14.4\" fill=\"#009af9\" fill-rule=\"evenodd\" fill-opacity=\"1\" stroke=\"#000000\" stroke-opacity=\"1\" stroke-width=\"3.2\"/>\n",
       "<circle clip-path=\"url(#clip002)\" cx=\"1614.14\" cy=\"719.003\" r=\"14.4\" fill=\"#009af9\" fill-rule=\"evenodd\" fill-opacity=\"1\" stroke=\"#000000\" stroke-opacity=\"1\" stroke-width=\"3.2\"/>\n",
       "<circle clip-path=\"url(#clip002)\" cx=\"1639.19\" cy=\"701.554\" r=\"14.4\" fill=\"#009af9\" fill-rule=\"evenodd\" fill-opacity=\"1\" stroke=\"#000000\" stroke-opacity=\"1\" stroke-width=\"3.2\"/>\n",
       "<circle clip-path=\"url(#clip002)\" cx=\"1664.24\" cy=\"697.014\" r=\"14.4\" fill=\"#009af9\" fill-rule=\"evenodd\" fill-opacity=\"1\" stroke=\"#000000\" stroke-opacity=\"1\" stroke-width=\"3.2\"/>\n",
       "<circle clip-path=\"url(#clip002)\" cx=\"1689.28\" cy=\"687.033\" r=\"14.4\" fill=\"#009af9\" fill-rule=\"evenodd\" fill-opacity=\"1\" stroke=\"#000000\" stroke-opacity=\"1\" stroke-width=\"3.2\"/>\n",
       "<circle clip-path=\"url(#clip002)\" cx=\"1714.33\" cy=\"682.676\" r=\"14.4\" fill=\"#009af9\" fill-rule=\"evenodd\" fill-opacity=\"1\" stroke=\"#000000\" stroke-opacity=\"1\" stroke-width=\"3.2\"/>\n",
       "<circle clip-path=\"url(#clip002)\" cx=\"1739.37\" cy=\"671.035\" r=\"14.4\" fill=\"#009af9\" fill-rule=\"evenodd\" fill-opacity=\"1\" stroke=\"#000000\" stroke-opacity=\"1\" stroke-width=\"3.2\"/>\n",
       "<circle clip-path=\"url(#clip002)\" cx=\"1764.42\" cy=\"664.949\" r=\"14.4\" fill=\"#009af9\" fill-rule=\"evenodd\" fill-opacity=\"1\" stroke=\"#000000\" stroke-opacity=\"1\" stroke-width=\"3.2\"/>\n",
       "<circle clip-path=\"url(#clip002)\" cx=\"1789.47\" cy=\"663.879\" r=\"14.4\" fill=\"#009af9\" fill-rule=\"evenodd\" fill-opacity=\"1\" stroke=\"#000000\" stroke-opacity=\"1\" stroke-width=\"3.2\"/>\n",
       "<circle clip-path=\"url(#clip002)\" cx=\"1814.51\" cy=\"663.492\" r=\"14.4\" fill=\"#009af9\" fill-rule=\"evenodd\" fill-opacity=\"1\" stroke=\"#000000\" stroke-opacity=\"1\" stroke-width=\"3.2\"/>\n",
       "<circle clip-path=\"url(#clip002)\" cx=\"1839.56\" cy=\"657.394\" r=\"14.4\" fill=\"#009af9\" fill-rule=\"evenodd\" fill-opacity=\"1\" stroke=\"#000000\" stroke-opacity=\"1\" stroke-width=\"3.2\"/>\n",
       "<circle clip-path=\"url(#clip002)\" cx=\"1864.61\" cy=\"650.494\" r=\"14.4\" fill=\"#009af9\" fill-rule=\"evenodd\" fill-opacity=\"1\" stroke=\"#000000\" stroke-opacity=\"1\" stroke-width=\"3.2\"/>\n",
       "<circle clip-path=\"url(#clip002)\" cx=\"1889.65\" cy=\"632.722\" r=\"14.4\" fill=\"#009af9\" fill-rule=\"evenodd\" fill-opacity=\"1\" stroke=\"#000000\" stroke-opacity=\"1\" stroke-width=\"3.2\"/>\n",
       "<circle clip-path=\"url(#clip002)\" cx=\"1914.7\" cy=\"631.395\" r=\"14.4\" fill=\"#009af9\" fill-rule=\"evenodd\" fill-opacity=\"1\" stroke=\"#000000\" stroke-opacity=\"1\" stroke-width=\"3.2\"/>\n",
       "<circle clip-path=\"url(#clip002)\" cx=\"1939.74\" cy=\"613.917\" r=\"14.4\" fill=\"#009af9\" fill-rule=\"evenodd\" fill-opacity=\"1\" stroke=\"#000000\" stroke-opacity=\"1\" stroke-width=\"3.2\"/>\n",
       "<circle clip-path=\"url(#clip002)\" cx=\"1964.79\" cy=\"602.981\" r=\"14.4\" fill=\"#009af9\" fill-rule=\"evenodd\" fill-opacity=\"1\" stroke=\"#000000\" stroke-opacity=\"1\" stroke-width=\"3.2\"/>\n",
       "<circle clip-path=\"url(#clip002)\" cx=\"1989.84\" cy=\"601.224\" r=\"14.4\" fill=\"#009af9\" fill-rule=\"evenodd\" fill-opacity=\"1\" stroke=\"#000000\" stroke-opacity=\"1\" stroke-width=\"3.2\"/>\n",
       "<circle clip-path=\"url(#clip002)\" cx=\"2014.88\" cy=\"576.05\" r=\"14.4\" fill=\"#009af9\" fill-rule=\"evenodd\" fill-opacity=\"1\" stroke=\"#000000\" stroke-opacity=\"1\" stroke-width=\"3.2\"/>\n",
       "<circle clip-path=\"url(#clip002)\" cx=\"2039.93\" cy=\"551.895\" r=\"14.4\" fill=\"#009af9\" fill-rule=\"evenodd\" fill-opacity=\"1\" stroke=\"#000000\" stroke-opacity=\"1\" stroke-width=\"3.2\"/>\n",
       "<circle clip-path=\"url(#clip002)\" cx=\"2064.98\" cy=\"533.012\" r=\"14.4\" fill=\"#009af9\" fill-rule=\"evenodd\" fill-opacity=\"1\" stroke=\"#000000\" stroke-opacity=\"1\" stroke-width=\"3.2\"/>\n",
       "<circle clip-path=\"url(#clip002)\" cx=\"2090.02\" cy=\"515.76\" r=\"14.4\" fill=\"#009af9\" fill-rule=\"evenodd\" fill-opacity=\"1\" stroke=\"#000000\" stroke-opacity=\"1\" stroke-width=\"3.2\"/>\n",
       "<circle clip-path=\"url(#clip002)\" cx=\"2115.07\" cy=\"508.804\" r=\"14.4\" fill=\"#009af9\" fill-rule=\"evenodd\" fill-opacity=\"1\" stroke=\"#000000\" stroke-opacity=\"1\" stroke-width=\"3.2\"/>\n",
       "<circle clip-path=\"url(#clip002)\" cx=\"2140.11\" cy=\"503.892\" r=\"14.4\" fill=\"#009af9\" fill-rule=\"evenodd\" fill-opacity=\"1\" stroke=\"#000000\" stroke-opacity=\"1\" stroke-width=\"3.2\"/>\n",
       "<circle clip-path=\"url(#clip002)\" cx=\"2165.16\" cy=\"497.682\" r=\"14.4\" fill=\"#009af9\" fill-rule=\"evenodd\" fill-opacity=\"1\" stroke=\"#000000\" stroke-opacity=\"1\" stroke-width=\"3.2\"/>\n",
       "<circle clip-path=\"url(#clip002)\" cx=\"2190.21\" cy=\"478.139\" r=\"14.4\" fill=\"#009af9\" fill-rule=\"evenodd\" fill-opacity=\"1\" stroke=\"#000000\" stroke-opacity=\"1\" stroke-width=\"3.2\"/>\n",
       "<circle clip-path=\"url(#clip002)\" cx=\"2215.25\" cy=\"400.236\" r=\"14.4\" fill=\"#009af9\" fill-rule=\"evenodd\" fill-opacity=\"1\" stroke=\"#000000\" stroke-opacity=\"1\" stroke-width=\"3.2\"/>\n",
       "<circle clip-path=\"url(#clip002)\" cx=\"2240.3\" cy=\"363.413\" r=\"14.4\" fill=\"#009af9\" fill-rule=\"evenodd\" fill-opacity=\"1\" stroke=\"#000000\" stroke-opacity=\"1\" stroke-width=\"3.2\"/>\n",
       "<circle clip-path=\"url(#clip002)\" cx=\"2265.34\" cy=\"315.644\" r=\"14.4\" fill=\"#009af9\" fill-rule=\"evenodd\" fill-opacity=\"1\" stroke=\"#000000\" stroke-opacity=\"1\" stroke-width=\"3.2\"/>\n",
       "<circle clip-path=\"url(#clip002)\" cx=\"2290.39\" cy=\"162.047\" r=\"14.4\" fill=\"#009af9\" fill-rule=\"evenodd\" fill-opacity=\"1\" stroke=\"#000000\" stroke-opacity=\"1\" stroke-width=\"3.2\"/>\n",
       "</svg>\n"
      ]
     },
     "execution_count": 120,
     "metadata": {},
     "output_type": "execute_result"
    }
   ],
   "source": [
    "scatter(Fil_Energies, label=false, title=\"MB\")"
   ]
  },
  {
   "cell_type": "code",
   "execution_count": 122,
   "id": "75ac5147-8f4c-493a-92bb-c47b575b975c",
   "metadata": {},
   "outputs": [
    {
     "data": {
      "text/plain": [
       "Get_Filtered_States (generic function with 1 method)"
      ]
     },
     "execution_count": 122,
     "metadata": {},
     "output_type": "execute_result"
    }
   ],
   "source": [
    "function Get_Filtered_States(Fil_Energies, U_Imp)\n",
    "    number_of_states = length(Fil_Energies)\n",
    "    return U_Imp[1:number_of_states]\n",
    "end"
   ]
  },
  {
   "cell_type": "code",
   "execution_count": 123,
   "id": "20745285-9357-4167-a307-d204969a3e8c",
   "metadata": {},
   "outputs": [],
   "source": [
    "Fil_States = Get_Filtered_States(Fil_Energies, U_Imp);"
   ]
  },
  {
   "cell_type": "markdown",
   "id": "a0456c0a-961b-46bb-91b1-70aaa4795198",
   "metadata": {},
   "source": [
    "# Density"
   ]
  },
  {
   "cell_type": "code",
   "execution_count": 124,
   "id": "ac4e7224-8568-44c4-b523-c90c394220dd",
   "metadata": {},
   "outputs": [
    {
     "ename": "LoadError",
     "evalue": "BoundsError: attempt to access 56-element Vector{Operator{ManyBodyBasis{Vector{Int64}, NLevelBasis{Int64}, 0xe262886642e41e31, UInt64}, ManyBodyBasis{Vector{Int64}, NLevelBasis{Int64}, 0xe262886642e41e31, UInt64}, SparseMatrixCSC{ComplexF64, Int64}}} at index [57]",
     "output_type": "error",
     "traceback": [
      "BoundsError: attempt to access 56-element Vector{Operator{ManyBodyBasis{Vector{Int64}, NLevelBasis{Int64}, 0xe262886642e41e31, UInt64}, ManyBodyBasis{Vector{Int64}, NLevelBasis{Int64}, 0xe262886642e41e31, UInt64}, SparseMatrixCSC{ComplexF64, Int64}}} at index [57]",
      "",
      "Stacktrace:",
      " [1] getindex",
      "   @ ./essentials.jl:13 [inlined]",
      " [2] Get_Density_Profile(N_Site::Int64, Sub_Number_MB_Operator_List::Vector{Operator{ManyBodyBasis{Vector{Int64}, NLevelBasis{Int64}, 0xe262886642e41e31, UInt64}, ManyBodyBasis{Vector{Int64}, NLevelBasis{Int64}, 0xe262886642e41e31, UInt64}, SparseMatrixCSC{ComplexF64, Int64}}}, Basis_Cut_MB::ManyBodyBasis{Vector{Int64}, NLevelBasis{Int64}, 0xa053f343942d3f5f, UInt64}, Fil_States::Vector{Ket{ManyBodyBasis{Vector{Int64}, NLevelBasis{Int64}, 0xe262886642e41e31, UInt64}, Vector{ComplexF64}}}, index::Int64)",
      "   @ Main ~/Kagome-Lattice/My Numerical Calculations/Many-Body/First Band Approximation Functions.ipynb:In[4]:4",
      " [3] Get_Avg_Density(Nx::Int64, Ny::Int64, Degeneracy::Int64, N_Site::Int64, Sub_Number_MB_Operator_List::Vector{Operator{ManyBodyBasis{Vector{Int64}, NLevelBasis{Int64}, 0xe262886642e41e31, UInt64}, ManyBodyBasis{Vector{Int64}, NLevelBasis{Int64}, 0xe262886642e41e31, UInt64}, SparseMatrixCSC{ComplexF64, Int64}}}, Basis_Cut_MB::ManyBodyBasis{Vector{Int64}, NLevelBasis{Int64}, 0xa053f343942d3f5f, UInt64}, Fil_States::Vector{Ket{ManyBodyBasis{Vector{Int64}, NLevelBasis{Int64}, 0xe262886642e41e31, UInt64}, Vector{ComplexF64}}})",
      "   @ Main ~/Kagome-Lattice/My Numerical Calculations/Many-Body/First Band Approximation Functions.ipynb:In[5]:4",
      " [4] top-level scope",
      "   @ In[124]:1"
     ]
    }
   ],
   "source": [
    "data = Get_Avg_Density(Nx, Ny, Degeneracy, N_Site, Sub_Number_MB_Operator_List, Basis_Cut_MB, Fil_States)'\n",
    "factor = 1\n",
    "Plots.heatmap(Interp(data, factor), aspect_ratio=:equal)\n",
    "#scatter!(co[:,1].+1,co[:,2].+1, series_annotations = text.([i for i in 1:N_Site], :bottom), legend=false)"
   ]
  },
  {
   "cell_type": "code",
   "execution_count": 125,
   "id": "6fdfaccc-3314-4763-9db7-a566bddcf7db",
   "metadata": {},
   "outputs": [
    {
     "ename": "LoadError",
     "evalue": "BoundsError: attempt to access 56-element Vector{Operator{ManyBodyBasis{Vector{Int64}, NLevelBasis{Int64}, 0xe262886642e41e31, UInt64}, ManyBodyBasis{Vector{Int64}, NLevelBasis{Int64}, 0xe262886642e41e31, UInt64}, SparseMatrixCSC{ComplexF64, Int64}}} at index [57]",
     "output_type": "error",
     "traceback": [
      "BoundsError: attempt to access 56-element Vector{Operator{ManyBodyBasis{Vector{Int64}, NLevelBasis{Int64}, 0xe262886642e41e31, UInt64}, ManyBodyBasis{Vector{Int64}, NLevelBasis{Int64}, 0xe262886642e41e31, UInt64}, SparseMatrixCSC{ComplexF64, Int64}}} at index [57]",
      "",
      "Stacktrace:",
      " [1] getindex",
      "   @ ./essentials.jl:13 [inlined]",
      " [2] Get_Density_Profile(N_Site::Int64, Sub_Number_MB_Operator_List::Vector{Operator{ManyBodyBasis{Vector{Int64}, NLevelBasis{Int64}, 0xe262886642e41e31, UInt64}, ManyBodyBasis{Vector{Int64}, NLevelBasis{Int64}, 0xe262886642e41e31, UInt64}, SparseMatrixCSC{ComplexF64, Int64}}}, Basis_Cut_MB::ManyBodyBasis{Vector{Int64}, NLevelBasis{Int64}, 0xa053f343942d3f5f, UInt64}, Fil_States::Vector{Ket{ManyBodyBasis{Vector{Int64}, NLevelBasis{Int64}, 0xe262886642e41e31, UInt64}, Vector{ComplexF64}}}, index::Int64)",
      "   @ Main ~/Kagome-Lattice/My Numerical Calculations/Many-Body/First Band Approximation Functions.ipynb:In[4]:4",
      " [3] Get_Avg_Density(Nx::Int64, Ny::Int64, Degeneracy::Int64, N_Site::Int64, Sub_Number_MB_Operator_List::Vector{Operator{ManyBodyBasis{Vector{Int64}, NLevelBasis{Int64}, 0xe262886642e41e31, UInt64}, ManyBodyBasis{Vector{Int64}, NLevelBasis{Int64}, 0xe262886642e41e31, UInt64}, SparseMatrixCSC{ComplexF64, Int64}}}, Basis_Cut_MB::ManyBodyBasis{Vector{Int64}, NLevelBasis{Int64}, 0xa053f343942d3f5f, UInt64}, Fil_States::Vector{Ket{ManyBodyBasis{Vector{Int64}, NLevelBasis{Int64}, 0xe262886642e41e31, UInt64}, Vector{ComplexF64}}})",
      "   @ Main ~/Kagome-Lattice/My Numerical Calculations/Many-Body/First Band Approximation Functions.ipynb:In[5]:4",
      " [4] top-level scope",
      "   @ In[125]:1"
     ]
    }
   ],
   "source": [
    "Total_Particle_Number = sum(Get_Avg_Density(Nx, Ny, Degeneracy, N_Site, Sub_Number_MB_Operator_List, Basis_Cut_MB, Fil_States))"
   ]
  },
  {
   "cell_type": "markdown",
   "id": "d1ea8463-a62d-43bf-8a56-09a2800029a9",
   "metadata": {},
   "source": [
    "# Moving Quasiholes"
   ]
  },
  {
   "cell_type": "code",
   "execution_count": 139,
   "id": "01aeccf6-6e6b-4c39-b935-8f5da9b79c9f",
   "metadata": {},
   "outputs": [
    {
     "data": {
      "text/plain": [
       "5-element Vector{Int64}:\n",
       " 13\n",
       " 14\n",
       " 10\n",
       " 11\n",
       "  7"
      ]
     },
     "execution_count": 139,
     "metadata": {},
     "output_type": "execute_result"
    }
   ],
   "source": [
    "start_point_1 = Impurity_Data.Imp_Site[1]\n",
    "lens_1 = [1, 1, 1, 1]\n",
    "dirs_1 = [1,-Ny,1,-Ny]\n",
    "rec_path_1 = rectangular_path(start_point_1,lens_1,dirs_1)\n",
    "rec_path_1 = unique(rec_path_1)\n",
    "#rec_path_1 = push!(rec_path_1, start_point_1)"
   ]
  },
  {
   "cell_type": "code",
   "execution_count": 140,
   "id": "fa499cc7-0e8a-4475-81d3-603b979d799f",
   "metadata": {},
   "outputs": [
    {
     "data": {
      "text/plain": [
       "5-element Vector{Int64}:\n",
       "  7\n",
       "  8\n",
       "  4\n",
       "  1\n",
       " 13"
      ]
     },
     "execution_count": 140,
     "metadata": {},
     "output_type": "execute_result"
    }
   ],
   "source": [
    "start_point_2 = Impurity_Data.Imp_Site[2]\n",
    "lens_2 = [1, 1,]\n",
    "dirs_2 = [1,-Ny]\n",
    "rec_path_2 = rectangular_path(start_point_2,lens_2,dirs_2)\n",
    "rec_path_2 = unique(rec_path_2)\n",
    "#rec_path_2 = push!(rec_path_2, start_point_2)\n",
    "push!(rec_path_2,1,13)"
   ]
  },
  {
   "cell_type": "markdown",
   "id": "002b3b57-318e-4a21-b56c-4ae7d312e67c",
   "metadata": {},
   "source": [
    "# Berry Matrix"
   ]
  },
  {
   "cell_type": "code",
   "execution_count": 141,
   "id": "e6d0c9af-89cd-4522-9888-8986f2e33555",
   "metadata": {},
   "outputs": [
    {
     "data": {
      "text/plain": [
       "0.05"
      ]
     },
     "execution_count": 141,
     "metadata": {},
     "output_type": "execute_result"
    }
   ],
   "source": [
    "V1 = Impurity_Data.V0[1]\n",
    "V2 = Impurity_Data.V0[2]\n",
    "delta_t = 0.05"
   ]
  },
  {
   "cell_type": "code",
   "execution_count": 142,
   "id": "6b6f3ded-5e44-4ad1-94e9-12fd7a2efdf8",
   "metadata": {},
   "outputs": [
    {
     "data": {
      "text/plain": [
       "21"
      ]
     },
     "execution_count": 142,
     "metadata": {},
     "output_type": "execute_result"
    }
   ],
   "source": [
    "STEP = 0:delta_t:1\n",
    "length(STEP)"
   ]
  },
  {
   "cell_type": "code",
   "execution_count": 143,
   "id": "5e751892-335e-48b7-9045-a7b0fdb76655",
   "metadata": {},
   "outputs": [
    {
     "name": "stderr",
     "output_type": "stream",
     "text": [
      "0.0%┣                                                ┫ 0/4 [00:00<00:00, -0s/it]\n",
      "50.0%┣███████████████████████▌                       ┫ 2/4 [00:00<00:00, 13it/s]\n",
      "100.0%┣██████████████████████████████████████████████┫ 4/4 [00:00<00:00, 20it/s]\n",
      "100.0%┣██████████████████████████████████████████████┫ 4/4 [00:00<00:00, 20it/s]\n",
      "0.0%┣                                                ┫ 0/4 [00:00<00:00, -0s/it]\n",
      "50.0%┣███████████████████████▌                       ┫ 2/4 [00:00<00:00, 16it/s]\n",
      "100.0%┣██████████████████████████████████████████████┫ 4/4 [00:00<00:00, 25it/s]\n",
      "100.0%┣██████████████████████████████████████████████┫ 4/4 [00:00<00:00, 25it/s]\n"
     ]
    },
    {
     "data": {
      "text/plain": [
       "2-element Vector{Float64}:\n",
       " -0.9999999999999958\n",
       "  5.69905914704693e-16"
      ]
     },
     "execution_count": 143,
     "metadata": {},
     "output_type": "execute_result"
    }
   ],
   "source": [
    "BerryMatrix = Berry_Matrix(rec_path_1, rec_path_2, Degeneracy, delta_t)\n",
    "BerryEnergies, BerryStates = eigen(BerryMatrix)\n",
    "angle.(BerryEnergies)/pi"
   ]
  },
  {
   "cell_type": "code",
   "execution_count": 144,
   "id": "690b9c98-0f6f-46a4-a819-611048623265",
   "metadata": {},
   "outputs": [
    {
     "data": {
      "text/plain": [
       "2-element Vector{ComplexF64}:\n",
       " -1.0000000000254885 - 1.3281907225328549e-14im\n",
       "  0.9999999999745116 + 1.790412234828e-15im"
      ]
     },
     "execution_count": 144,
     "metadata": {},
     "output_type": "execute_result"
    }
   ],
   "source": [
    "BerryEnergies"
   ]
  },
  {
   "cell_type": "code",
   "execution_count": 89,
   "id": "fb6ef580-d5fd-4c32-b284-4910eaca2615",
   "metadata": {},
   "outputs": [
    {
     "name": "stderr",
     "output_type": "stream",
     "text": [
      "0.0%┣                                                ┫ 0/4 [00:00<00:00, -0s/it]\n",
      "25.0%┣██████████▊                                ┫ 1/4 [00:12<Inf:Inf, InfGs/it]\n"
     ]
    },
    {
     "ename": "LoadError",
     "evalue": "InterruptException:",
     "output_type": "error",
     "traceback": [
      "InterruptException:",
      "",
      "Stacktrace:",
      "  [1] Array",
      "    @ ./boot.jl:477 [inlined]",
      "  [2] Array",
      "    @ ./boot.jl:486 [inlined]",
      "  [3] similar",
      "    @ ./array.jl:374 [inlined]",
      "  [4] similar",
      "    @ ./abstractarray.jl:838 [inlined]",
      "  [5] getindex",
      "    @ ./array.jl:923 [inlined]",
      "  [6] syevr!(jobz::Char, range::Char, uplo::Char, A::Matrix{ComplexF64}, vl::Float64, vu::Float64, il::Int64, iu::Int64, abstol::Float64)",
      "    @ LinearAlgebra.LAPACK ~/julia-1.9.3/share/julia/stdlib/v1.9/LinearAlgebra/src/lapack.jl:5284",
      "  [7] eigen!",
      "    @ ~/julia-1.9.3/share/julia/stdlib/v1.9/LinearAlgebra/src/symmetriceigen.jl:16 [inlined]",
      "  [8] eigen",
      "    @ ~/julia-1.9.3/share/julia/stdlib/v1.9/LinearAlgebra/src/symmetriceigen.jl:38 [inlined]",
      "  [9] eigenstates(op::Operator{ManyBodyBasis{Vector{Int64}, NLevelBasis{Int64}, 0x4e5b314f7ceb53a6, UInt64}, ManyBodyBasis{Vector{Int64}, NLevelBasis{Int64}, 0x4e5b314f7ceb53a6, UInt64}, Matrix{ComplexF64}}, n::Int64; warning::Bool)",
      "    @ QuantumOptics ~/.julia/packages/QuantumOptics/ul9s8/src/spectralanalysis.jl:26",
      " [10] eigenstates(op::Operator{ManyBodyBasis{Vector{Int64}, NLevelBasis{Int64}, 0x4e5b314f7ceb53a6, UInt64}, ManyBodyBasis{Vector{Int64}, NLevelBasis{Int64}, 0x4e5b314f7ceb53a6, UInt64}, Matrix{ComplexF64}}, n::Int64)",
      "    @ QuantumOptics ~/.julia/packages/QuantumOptics/ul9s8/src/spectralanalysis.jl:23",
      " [11] get_final_state(rec_path_1::Vector{Int64}, rec_path_2::Vector{Int64}, Degeneracy::Int64, delta_t::Float64)",
      "    @ Main ~/Kagome-Lattice/My Numerical Calculations/Many-Body/Braiding Utils.ipynb:In[+6]:28",
      " [12] top-level scope",
      "    @ In[89]:1"
     ]
    }
   ],
   "source": [
    "U_Imp_0, U_first, eig_list = get_final_state(rec_path_1, rec_path_2, Degeneracy, delta_t);"
   ]
  },
  {
   "cell_type": "code",
   "execution_count": null,
   "id": "bf59374a-e5a1-44b4-88ae-c4aa3a20affb",
   "metadata": {},
   "outputs": [],
   "source": []
  },
  {
   "cell_type": "code",
   "execution_count": null,
   "id": "215297fa-988b-44c6-a3cd-5d43eda9c48f",
   "metadata": {},
   "outputs": [],
   "source": []
  },
  {
   "cell_type": "code",
   "execution_count": null,
   "id": "119cc5bb-a6a6-4787-a683-faf656161801",
   "metadata": {},
   "outputs": [],
   "source": []
  },
  {
   "cell_type": "markdown",
   "id": "77a0ecc4-255d-4c84-b6ff-1e58b7a581c7",
   "metadata": {},
   "source": [
    "# Simulation"
   ]
  },
  {
   "cell_type": "code",
   "execution_count": 50,
   "id": "e38dc5f1-f01e-43ac-b7ab-ee3826b238d8",
   "metadata": {},
   "outputs": [
    {
     "name": "stdout",
     "output_type": "stream",
     "text": [
      "!Nx and Ny must be equalt to each other!\n"
     ]
    },
    {
     "name": "stderr",
     "output_type": "stream",
     "text": [
      "0.0%┣                                                ┫ 0/8 [00:00<00:00, -0s/it]\n",
      "12.5%┣█████▍                                     ┫ 1/8 [00:00<Inf:Inf, InfGs/it]\n",
      "25.0%┣████████████                                    ┫ 2/8 [00:01<00:04, 1it/s]\n",
      "37.5%┣██████████████████                              ┫ 3/8 [00:01<00:03, 2it/s]\n",
      "50.0%┣████████████████████████                        ┫ 4/8 [00:01<00:02, 2it/s]\n",
      "62.5%┣██████████████████████████████                  ┫ 5/8 [00:02<00:01, 2it/s]\n",
      "75.0%┣████████████████████████████████████            ┫ 6/8 [00:02<00:01, 2it/s]\n",
      "87.5%┣██████████████████████████████████████████      ┫ 7/8 [00:03<00:00, 2it/s]\n",
      "100.0%┣███████████████████████████████████████████████┫ 8/8 [00:03<00:00, 2it/s]\n",
      "100.0%┣███████████████████████████████████████████████┫ 8/8 [00:03<00:00, 2it/s]\n",
      "\u001b[36m\u001b[1m[ \u001b[22m\u001b[39m\u001b[36m\u001b[1mInfo: \u001b[22m\u001b[39mSaved animation to /home/can/Kagome-Lattice/My Numerical Calculations/Many-Body/Kapit-Mueller/tmp.gif\n"
     ]
    }
   ],
   "source": [
    "movie(delta_t, 50, Nx, Ny, Degeneracy, N_Site, Sub_Number_MB_Operator_List, Basis_Cut_MB, co)"
   ]
  },
  {
   "cell_type": "markdown",
   "id": "a382085e-69f2-4efd-aac0-24c9a73b1b01",
   "metadata": {},
   "source": [
    "# Charge Depletion Profile"
   ]
  },
  {
   "cell_type": "code",
   "execution_count": 271,
   "id": "cfe617fe-dbb2-45ba-bd54-f7461137a237",
   "metadata": {},
   "outputs": [],
   "source": [
    "coordinates_top_left, coordinates_top, coordinates_top_right, coordinates_left, coordinates_right, coordinates_bottom_left, coordinates_bottom, coordinates_bottom_right, co_districts = get_ghost_sites(co)\n",
    "ref_coordinates = co\n",
    "ref_site = 7\n",
    "radius_list = get_radii(ref_coordinates, co, ref_site, N_Site);\n",
    "All_Coordinates, X_Coordinates, Y_Coordinates, All_Coordinates_2 = get_all_sites(Nx, Ny, co);"
   ]
  },
  {
   "cell_type": "code",
   "execution_count": 272,
   "id": "912653f5-337f-4489-ab38-6e81d8857386",
   "metadata": {},
   "outputs": [
    {
     "data": {
      "text/plain": [
       "Inner_Sites (generic function with 1 method)"
      ]
     },
     "execution_count": 272,
     "metadata": {},
     "output_type": "execute_result"
    }
   ],
   "source": [
    "# Hangi siteler, ilgili yarı-çap içerisinde, şartını kontrol ediyoruz\n",
    "function Inner_Sites(Radius)\n",
    "    \n",
    "    ref_district = co # Center Distrinct\n",
    "    Ref_Site_X = ref_district[:,1][ref_site]\n",
    "    Ref_Site_Y = ref_district[:,2][ref_site]\n",
    "    \n",
    "    inner_sites = []\n",
    "    \n",
    "    for i in 1:Nx*Ny*9\n",
    "        \n",
    "        if (X_Coordinates[i] - Ref_Site_X)^2 + (Y_Coordinates[i] - Ref_Site_Y)^2 < (Radius+0.1)^2\n",
    "            \n",
    "            # Yarı-çap büyüdüğünde, periyodik noktalara sıçrayınca, \"get_eq_site\" fonksiyonu ile eş-değer siteleri buluyoruz.\n",
    "            push!(inner_sites, get_eq_site(X_Coordinates[i], Y_Coordinates[i]))\n",
    "        end\n",
    "    end\n",
    "    \n",
    "    return inner_sites\n",
    "end"
   ]
  },
  {
   "cell_type": "code",
   "execution_count": 273,
   "id": "e6ee831e-e2cc-4623-90f3-f447c0b2c42b",
   "metadata": {},
   "outputs": [
    {
     "data": {
      "text/plain": [
       "0.1875"
      ]
     },
     "execution_count": 273,
     "metadata": {},
     "output_type": "execute_result"
    }
   ],
   "source": [
    "ref_den = pn/(Nx*Ny)"
   ]
  },
  {
   "cell_type": "code",
   "execution_count": 274,
   "id": "b7441a4f-c76f-41ce-ac6c-cdfa36cf5aef",
   "metadata": {},
   "outputs": [
    {
     "data": {
      "text/plain": [
       "get_depletion_profile (generic function with 1 method)"
      ]
     },
     "execution_count": 274,
     "metadata": {},
     "output_type": "execute_result"
    }
   ],
   "source": [
    "function get_depletion_profile(radius_list, avg_density)\n",
    "    \n",
    "    density_list_1 = []\n",
    "    density_list_2 = []\n",
    "    depletion_prof = []\n",
    "    \n",
    "    for i in radius_list\n",
    "        \n",
    "        summ = 0\n",
    "    \n",
    "        for j in Inner_Sites(i)\n",
    "            \n",
    "            # r içindeki her bir sitenin ortalama yoğunluğu \n",
    "            push!(density_list_1, collect(Iterators.flatten((ref_den .- avg_density')))[j])\n",
    "            # Örgüde sadece bir tane quasi-parçacık boştayken gelen neredeyse ortalama yoğunluk 3/70'tir!\n",
    "            \n",
    "            # aynı yoğunluklar gelirse sadece onların birisini tut\n",
    "            density_list_2 = unique!(density_list_1)\n",
    "            \n",
    "            # her biri biricik ve her bir site için olan yoğunlukları topla\n",
    "            summ = sum(density_list_2)\n",
    "        end\n",
    "        \n",
    "        # Sitelerin toplam yoğunluklarını bir listede her bir yarı-çap için biriktir\n",
    "        push!(depletion_prof, summ)\n",
    "    end\n",
    "    \n",
    "    return depletion_prof\n",
    "end"
   ]
  },
  {
   "cell_type": "code",
   "execution_count": 275,
   "id": "09f6eef9-ca7d-4208-97d1-b92ca86989f3",
   "metadata": {},
   "outputs": [
    {
     "data": {
      "text/plain": [
       "6-element Vector{Any}:\n",
       " 0.18749999999999914\n",
       " 0.2955841276506699\n",
       " 0.22296487418979105\n",
       " 0.15250642939177894\n",
       " 0.028146383684182374\n",
       " 2.7755575615628914e-17"
      ]
     },
     "execution_count": 275,
     "metadata": {},
     "output_type": "execute_result"
    }
   ],
   "source": [
    "depletion_prof = get_depletion_profile(radius_list, data)"
   ]
  },
  {
   "cell_type": "code",
   "execution_count": 276,
   "id": "73db16bb-2905-48c4-8ea2-cabd3c62e029",
   "metadata": {},
   "outputs": [
    {
     "data": {
      "image/png": "[encoded data removed]",
      "image/svg+xml": [
       "<?xml version=\"1.0\" encoding=\"utf-8\"?>\n",
       "<svg xmlns=\"http://www.w3.org/2000/svg\" xmlns:xlink=\"http://www.w3.org/1999/xlink\" width=\"600\" height=\"400\" viewBox=\"0 0 2400 1600\">\n",
       "<defs>\n",
       "  <clipPath id=\"clip510\">\n",
       "    <rect x=\"0\" y=\"0\" width=\"2400\" height=\"1600\"/>\n",
       "  </clipPath>\n",
       "</defs>\n",
       "<path clip-path=\"url(#clip510)\" d=\"M0 1600 L2400 1600 L2400 0 L0 0  Z\" fill=\"#ffffff\" fill-rule=\"evenodd\" fill-opacity=\"1\"/>\n",
       "<defs>\n",
       "  <clipPath id=\"clip511\">\n",
       "    <rect x=\"480\" y=\"0\" width=\"1681\" height=\"1600\"/>\n",
       "  </clipPath>\n",
       "</defs>\n",
       "<defs>\n",
       "  <clipPath id=\"clip512\">\n",
       "    <rect x=\"209\" y=\"123\" width=\"2144\" height=\"1275\"/>\n",
       "  </clipPath>\n",
       "</defs>\n",
       "<path clip-path=\"url(#clip510)\" d=\"M255.015 1397.26 L2352.76 1397.26 L2352.76 123.472 L255.015 123.472  Z\" fill=\"#ffffff\" fill-rule=\"evenodd\" fill-opacity=\"1\"/>\n",
       "<defs>\n",
       "  <clipPath id=\"clip513\">\n",
       "    <rect x=\"255\" y=\"123\" width=\"2099\" height=\"1275\"/>\n",
       "  </clipPath>\n",
       "</defs>\n",
       "<polyline clip-path=\"url(#clip513)\" style=\"stroke:#000000; stroke-linecap:round; stroke-linejoin:round; stroke-width:2; stroke-opacity:0.1; fill:none\" points=\"314.385,1397.26 314.385,123.472 \"/>\n",
       "<polyline clip-path=\"url(#clip513)\" style=\"stroke:#000000; stroke-linecap:round; stroke-linejoin:round; stroke-width:2; stroke-opacity:0.1; fill:none\" points=\"1014.07,1397.26 1014.07,123.472 \"/>\n",
       "<polyline clip-path=\"url(#clip513)\" style=\"stroke:#000000; stroke-linecap:round; stroke-linejoin:round; stroke-width:2; stroke-opacity:0.1; fill:none\" points=\"1713.75,1397.26 1713.75,123.472 \"/>\n",
       "<polyline clip-path=\"url(#clip510)\" style=\"stroke:#000000; stroke-linecap:round; stroke-linejoin:round; stroke-width:4; stroke-opacity:1; fill:none\" points=\"255.015,1397.26 2352.76,1397.26 \"/>\n",
       "<polyline clip-path=\"url(#clip510)\" style=\"stroke:#000000; stroke-linecap:round; stroke-linejoin:round; stroke-width:4; stroke-opacity:1; fill:none\" points=\"314.385,1397.26 314.385,1378.36 \"/>\n",
       "<polyline clip-path=\"url(#clip510)\" style=\"stroke:#000000; stroke-linecap:round; stroke-linejoin:round; stroke-width:4; stroke-opacity:1; fill:none\" points=\"1014.07,1397.26 1014.07,1378.36 \"/>\n",
       "<polyline clip-path=\"url(#clip510)\" style=\"stroke:#000000; stroke-linecap:round; stroke-linejoin:round; stroke-width:4; stroke-opacity:1; fill:none\" points=\"1713.75,1397.26 1713.75,1378.36 \"/>\n",
       "<path clip-path=\"url(#clip510)\" d=\"M314.385 1428.18 Q310.774 1428.18 308.946 1431.74 Q307.14 1435.28 307.14 1442.41 Q307.14 1449.52 308.946 1453.09 Q310.774 1456.63 314.385 1456.63 Q318.02 1456.63 319.825 1453.09 Q321.654 1449.52 321.654 1442.41 Q321.654 1435.28 319.825 1431.74 Q318.02 1428.18 314.385 1428.18 M314.385 1424.47 Q320.196 1424.47 323.251 1429.08 Q326.33 1433.66 326.33 1442.41 Q326.33 1451.14 323.251 1455.75 Q320.196 1460.33 314.385 1460.33 Q308.575 1460.33 305.497 1455.75 Q302.441 1451.14 302.441 1442.41 Q302.441 1433.66 305.497 1429.08 Q308.575 1424.47 314.385 1424.47 Z\" fill=\"#000000\" fill-rule=\"nonzero\" fill-opacity=\"1\" /><path clip-path=\"url(#clip510)\" d=\"M1004.45 1455.72 L1012.09 1455.72 L1012.09 1429.36 L1003.78 1431.03 L1003.78 1426.77 L1012.04 1425.1 L1016.72 1425.1 L1016.72 1455.72 L1024.36 1455.72 L1024.36 1459.66 L1004.45 1459.66 L1004.45 1455.72 Z\" fill=\"#000000\" fill-rule=\"nonzero\" fill-opacity=\"1\" /><path clip-path=\"url(#clip510)\" d=\"M1708.4 1455.72 L1724.72 1455.72 L1724.72 1459.66 L1702.78 1459.66 L1702.78 1455.72 Q1705.44 1452.97 1710.02 1448.34 Q1714.63 1443.69 1715.81 1442.35 Q1718.06 1439.82 1718.94 1438.09 Q1719.84 1436.33 1719.84 1434.64 Q1719.84 1431.88 1717.89 1430.15 Q1715.97 1428.41 1712.87 1428.41 Q1710.67 1428.41 1708.22 1429.17 Q1705.79 1429.94 1703.01 1431.49 L1703.01 1426.77 Q1705.83 1425.63 1708.29 1425.05 Q1710.74 1424.47 1712.78 1424.47 Q1718.15 1424.47 1721.34 1427.16 Q1724.54 1429.85 1724.54 1434.34 Q1724.54 1436.47 1723.73 1438.39 Q1722.94 1440.28 1720.83 1442.88 Q1720.25 1443.55 1717.15 1446.77 Q1714.05 1449.96 1708.4 1455.72 Z\" fill=\"#000000\" fill-rule=\"nonzero\" fill-opacity=\"1\" /><path clip-path=\"url(#clip510)\" d=\"M1325.94 1512.16 Q1325.94 1519.52 1322.16 1526.44 Q1318.42 1533.36 1312.55 1537.54 Q1306.73 1541.72 1300.85 1541.72 Q1294.23 1541.72 1290.8 1534.85 Q1284.58 1559.79 1284.23 1560.44 Q1282.79 1562.58 1280.7 1562.58 Q1279.4 1562.58 1278.61 1561.78 Q1277.81 1561.03 1277.81 1559.84 Q1277.86 1559.44 1278.16 1558.2 L1288.11 1518.13 Q1290.4 1508.82 1297.32 1502.2 Q1304.29 1495.53 1311.75 1495.53 Q1317.68 1495.53 1321.81 1499.96 Q1325.94 1504.39 1325.94 1512.16 M1318.62 1507.78 Q1318.62 1502.8 1316.63 1500.31 Q1314.64 1497.77 1311.56 1497.77 Q1308.72 1497.77 1305.28 1500.06 Q1301.9 1502.35 1298.91 1507.43 Q1297.32 1510.37 1296.18 1514 Q1295.03 1517.63 1292.79 1526.59 Q1291.99 1530.18 1291.99 1530.37 Q1291.99 1530.77 1292.19 1531.67 Q1292.44 1532.56 1293.04 1533.96 Q1293.69 1535.3 1294.58 1536.5 Q1295.48 1537.69 1297.12 1538.59 Q1298.76 1539.43 1300.75 1539.43 Q1303.84 1539.43 1307.13 1536.94 Q1310.46 1534.41 1312.9 1529.78 Q1314.94 1526.04 1316.78 1519.03 Q1318.62 1511.96 1318.62 1507.78 Z\" fill=\"#000000\" fill-rule=\"nonzero\" fill-opacity=\"1\" /><polyline clip-path=\"url(#clip513)\" style=\"stroke:#000000; stroke-linecap:round; stroke-linejoin:round; stroke-width:2; stroke-opacity:0.1; fill:none\" points=\"255.015,1361.21 2352.76,1361.21 \"/>\n",
       "<polyline clip-path=\"url(#clip513)\" style=\"stroke:#000000; stroke-linecap:round; stroke-linejoin:round; stroke-width:2; stroke-opacity:0.1; fill:none\" points=\"255.015,954.663 2352.76,954.663 \"/>\n",
       "<polyline clip-path=\"url(#clip513)\" style=\"stroke:#000000; stroke-linecap:round; stroke-linejoin:round; stroke-width:2; stroke-opacity:0.1; fill:none\" points=\"255.015,548.117 2352.76,548.117 \"/>\n",
       "<polyline clip-path=\"url(#clip513)\" style=\"stroke:#000000; stroke-linecap:round; stroke-linejoin:round; stroke-width:2; stroke-opacity:0.1; fill:none\" points=\"255.015,141.57 2352.76,141.57 \"/>\n",
       "<polyline clip-path=\"url(#clip510)\" style=\"stroke:#000000; stroke-linecap:round; stroke-linejoin:round; stroke-width:4; stroke-opacity:1; fill:none\" points=\"255.015,1397.26 255.015,123.472 \"/>\n",
       "<polyline clip-path=\"url(#clip510)\" style=\"stroke:#000000; stroke-linecap:round; stroke-linejoin:round; stroke-width:4; stroke-opacity:1; fill:none\" points=\"255.015,1361.21 273.913,1361.21 \"/>\n",
       "<polyline clip-path=\"url(#clip510)\" style=\"stroke:#000000; stroke-linecap:round; stroke-linejoin:round; stroke-width:4; stroke-opacity:1; fill:none\" points=\"255.015,954.663 273.913,954.663 \"/>\n",
       "<polyline clip-path=\"url(#clip510)\" style=\"stroke:#000000; stroke-linecap:round; stroke-linejoin:round; stroke-width:4; stroke-opacity:1; fill:none\" points=\"255.015,548.117 273.913,548.117 \"/>\n",
       "<polyline clip-path=\"url(#clip510)\" style=\"stroke:#000000; stroke-linecap:round; stroke-linejoin:round; stroke-width:4; stroke-opacity:1; fill:none\" points=\"255.015,141.57 273.913,141.57 \"/>\n",
       "<path clip-path=\"url(#clip510)\" d=\"M161.84 1347.01 Q158.229 1347.01 156.4 1350.57 Q154.594 1354.11 154.594 1361.24 Q154.594 1368.35 156.4 1371.92 Q158.229 1375.46 161.84 1375.46 Q165.474 1375.46 167.28 1371.92 Q169.108 1368.35 169.108 1361.24 Q169.108 1354.11 167.28 1350.57 Q165.474 1347.01 161.84 1347.01 M161.84 1343.3 Q167.65 1343.3 170.705 1347.91 Q173.784 1352.49 173.784 1361.24 Q173.784 1369.97 170.705 1374.58 Q167.65 1379.16 161.84 1379.16 Q156.03 1379.16 152.951 1374.58 Q149.895 1369.97 149.895 1361.24 Q149.895 1352.49 152.951 1347.91 Q156.03 1343.3 161.84 1343.3 Z\" fill=\"#000000\" fill-rule=\"nonzero\" fill-opacity=\"1\" /><path clip-path=\"url(#clip510)\" d=\"M182.002 1372.61 L186.886 1372.61 L186.886 1378.49 L182.002 1378.49 L182.002 1372.61 Z\" fill=\"#000000\" fill-rule=\"nonzero\" fill-opacity=\"1\" /><path clip-path=\"url(#clip510)\" d=\"M207.071 1347.01 Q203.46 1347.01 201.631 1350.57 Q199.826 1354.11 199.826 1361.24 Q199.826 1368.35 201.631 1371.92 Q203.46 1375.46 207.071 1375.46 Q210.705 1375.46 212.511 1371.92 Q214.339 1368.35 214.339 1361.24 Q214.339 1354.11 212.511 1350.57 Q210.705 1347.01 207.071 1347.01 M207.071 1343.3 Q212.881 1343.3 215.937 1347.91 Q219.015 1352.49 219.015 1361.24 Q219.015 1369.97 215.937 1374.58 Q212.881 1379.16 207.071 1379.16 Q201.261 1379.16 198.182 1374.58 Q195.127 1369.97 195.127 1361.24 Q195.127 1352.49 198.182 1347.91 Q201.261 1343.3 207.071 1343.3 Z\" fill=\"#000000\" fill-rule=\"nonzero\" fill-opacity=\"1\" /><path clip-path=\"url(#clip510)\" d=\"M163.067 940.462 Q159.455 940.462 157.627 944.026 Q155.821 947.568 155.821 954.698 Q155.821 961.804 157.627 965.369 Q159.455 968.91 163.067 968.91 Q166.701 968.91 168.506 965.369 Q170.335 961.804 170.335 954.698 Q170.335 947.568 168.506 944.026 Q166.701 940.462 163.067 940.462 M163.067 936.758 Q168.877 936.758 171.932 941.364 Q175.011 945.948 175.011 954.698 Q175.011 963.424 171.932 968.031 Q168.877 972.614 163.067 972.614 Q157.256 972.614 154.178 968.031 Q151.122 963.424 151.122 954.698 Q151.122 945.948 154.178 941.364 Q157.256 936.758 163.067 936.758 Z\" fill=\"#000000\" fill-rule=\"nonzero\" fill-opacity=\"1\" /><path clip-path=\"url(#clip510)\" d=\"M183.229 966.063 L188.113 966.063 L188.113 971.943 L183.229 971.943 L183.229 966.063 Z\" fill=\"#000000\" fill-rule=\"nonzero\" fill-opacity=\"1\" /><path clip-path=\"url(#clip510)\" d=\"M199.108 968.008 L206.747 968.008 L206.747 941.642 L198.437 943.309 L198.437 939.05 L206.701 937.383 L211.377 937.383 L211.377 968.008 L219.015 968.008 L219.015 971.943 L199.108 971.943 L199.108 968.008 Z\" fill=\"#000000\" fill-rule=\"nonzero\" fill-opacity=\"1\" /><path clip-path=\"url(#clip510)\" d=\"M163.437 533.915 Q159.826 533.915 157.997 537.48 Q156.192 541.022 156.192 548.151 Q156.192 555.258 157.997 558.822 Q159.826 562.364 163.437 562.364 Q167.071 562.364 168.877 558.822 Q170.705 555.258 170.705 548.151 Q170.705 541.022 168.877 537.48 Q167.071 533.915 163.437 533.915 M163.437 530.212 Q169.247 530.212 172.303 534.818 Q175.381 539.401 175.381 548.151 Q175.381 556.878 172.303 561.485 Q169.247 566.068 163.437 566.068 Q157.627 566.068 154.548 561.485 Q151.493 556.878 151.493 548.151 Q151.493 539.401 154.548 534.818 Q157.627 530.212 163.437 530.212 Z\" fill=\"#000000\" fill-rule=\"nonzero\" fill-opacity=\"1\" /><path clip-path=\"url(#clip510)\" d=\"M183.599 559.517 L188.483 559.517 L188.483 565.397 L183.599 565.397 L183.599 559.517 Z\" fill=\"#000000\" fill-rule=\"nonzero\" fill-opacity=\"1\" /><path clip-path=\"url(#clip510)\" d=\"M202.696 561.461 L219.015 561.461 L219.015 565.397 L197.071 565.397 L197.071 561.461 Q199.733 558.707 204.316 554.077 Q208.923 549.424 210.103 548.082 Q212.349 545.559 213.228 543.823 Q214.131 542.063 214.131 540.374 Q214.131 537.619 212.187 535.883 Q210.265 534.147 207.164 534.147 Q204.965 534.147 202.511 534.911 Q200.08 535.674 197.303 537.225 L197.303 532.503 Q200.127 531.369 202.58 530.79 Q205.034 530.212 207.071 530.212 Q212.441 530.212 215.636 532.897 Q218.83 535.582 218.83 540.073 Q218.83 542.202 218.02 544.123 Q217.233 546.022 215.126 548.614 Q214.548 549.285 211.446 552.503 Q208.344 555.697 202.696 561.461 Z\" fill=\"#000000\" fill-rule=\"nonzero\" fill-opacity=\"1\" /><path clip-path=\"url(#clip510)\" d=\"M162.488 127.369 Q158.877 127.369 157.048 130.934 Q155.243 134.475 155.243 141.605 Q155.243 148.711 157.048 152.276 Q158.877 155.818 162.488 155.818 Q166.122 155.818 167.928 152.276 Q169.756 148.711 169.756 141.605 Q169.756 134.475 167.928 130.934 Q166.122 127.369 162.488 127.369 M162.488 123.665 Q168.298 123.665 171.354 128.272 Q174.432 132.855 174.432 141.605 Q174.432 150.332 171.354 154.938 Q168.298 159.521 162.488 159.521 Q156.678 159.521 153.599 154.938 Q150.544 150.332 150.544 141.605 Q150.544 132.855 153.599 128.272 Q156.678 123.665 162.488 123.665 Z\" fill=\"#000000\" fill-rule=\"nonzero\" fill-opacity=\"1\" /><path clip-path=\"url(#clip510)\" d=\"M182.65 152.971 L187.534 152.971 L187.534 158.85 L182.65 158.85 L182.65 152.971 Z\" fill=\"#000000\" fill-rule=\"nonzero\" fill-opacity=\"1\" /><path clip-path=\"url(#clip510)\" d=\"M211.886 140.216 Q215.242 140.934 217.117 143.202 Q219.015 145.471 219.015 148.804 Q219.015 153.92 215.497 156.721 Q211.978 159.521 205.497 159.521 Q203.321 159.521 201.006 159.082 Q198.715 158.665 196.261 157.808 L196.261 153.295 Q198.205 154.429 200.52 155.008 Q202.835 155.586 205.358 155.586 Q209.756 155.586 212.048 153.85 Q214.363 152.114 214.363 148.804 Q214.363 145.748 212.21 144.035 Q210.08 142.299 206.261 142.299 L202.233 142.299 L202.233 138.457 L206.446 138.457 Q209.895 138.457 211.724 137.091 Q213.552 135.702 213.552 133.11 Q213.552 130.448 211.654 129.035 Q209.779 127.6 206.261 127.6 Q204.34 127.6 202.14 128.017 Q199.941 128.434 197.303 129.313 L197.303 125.147 Q199.965 124.406 202.279 124.036 Q204.617 123.665 206.677 123.665 Q212.002 123.665 215.103 126.096 Q218.205 128.503 218.205 132.623 Q218.205 135.494 216.562 137.485 Q214.918 139.452 211.886 140.216 Z\" fill=\"#000000\" fill-rule=\"nonzero\" fill-opacity=\"1\" /><path clip-path=\"url(#clip510)\" d=\"M28.3763 753.92 Q35.5436 753.92 42.6611 756.508 Q49.7288 759.096 55.4527 763.426 Q61.1765 767.707 65.6063 773.281 Q69.9863 778.806 72.2261 784.729 Q78.1988 783.982 80.4386 782.489 Q82.7281 780.946 82.7281 777.512 Q82.7281 775.521 81.8322 773.381 Q80.9363 771.191 78.597 768.951 Q76.3074 766.711 72.9229 765.566 Q71.8279 765.218 71.8279 764.322 Q71.8279 763.974 72.1265 763.625 Q72.3754 763.227 72.8233 763.227 Q73.2215 763.227 74.6649 763.675 Q76.1581 764.073 78.4476 764.919 Q80.7372 765.766 83.1263 767.209 Q85.5651 768.652 87.7054 770.444 Q89.8456 772.186 91.1895 774.774 Q92.5831 777.363 92.5831 780.249 Q92.5831 782.639 91.6872 784.381 Q90.7913 786.073 89.6465 786.919 Q88.5017 787.715 86.6601 788.163 Q84.8683 788.611 83.8729 788.661 Q82.8774 788.711 81.3842 788.711 Q79.8413 788.711 73.5202 788.313 Q75.0631 793.688 75.0631 798.267 Q75.0631 809.566 67.647 816.982 Q60.2308 824.398 47.8374 824.398 Q39.177 824.398 30.5663 820.516 Q21.9059 816.633 15.4852 810.461 Q9.01474 804.29 4.98315 796.177 Q0.951563 788.014 0.951563 779.951 Q0.951563 768.503 8.56679 761.236 Q16.1322 753.92 28.3763 753.92 M25.1411 762.929 Q15.087 762.929 9.31338 767.856 Q3.48997 772.734 3.48997 780.548 Q3.48997 786.521 7.32247 793.141 Q11.155 799.711 18.5711 805.036 Q25.9872 810.262 35.2947 812.851 Q44.6022 815.389 51.1224 815.389 Q58.3395 815.389 63.7647 812.552 Q69.1402 809.715 71.3799 803.991 Q70.1854 804.588 68.1447 804.588 Q64.1629 804.588 60.9774 801.403 Q57.7422 798.217 57.7422 794.186 Q57.7422 792.394 58.2897 791 Q58.7874 789.557 59.8327 788.661 Q60.8779 787.715 61.8733 787.118 Q62.819 786.471 64.362 786.123 Q65.8552 785.724 66.6515 785.575 Q67.3981 785.426 68.742 785.227 Q66.0045 780.349 61.5249 776.367 Q56.9956 772.385 52.2174 769.946 Q47.3895 767.508 42.1634 765.865 Q36.8874 764.223 32.7065 763.576 Q28.4759 762.929 25.1411 762.929 M68.6424 788.014 Q64.0136 788.014 62.0227 789.507 Q59.982 790.951 59.982 794.186 Q59.982 797.371 62.5204 799.86 Q65.0588 802.349 68.1447 802.349 Q69.6877 802.349 70.6831 801.901 Q71.6288 801.403 72.027 800.507 Q72.3754 799.611 72.4749 799.064 Q72.5247 798.516 72.5247 797.67 Q72.5247 793.34 70.6831 789.109 Q70.3845 788.362 70.0858 788.213 Q69.7872 788.014 68.6424 788.014 Z\" fill=\"#000000\" fill-rule=\"nonzero\" fill-opacity=\"1\" /><path clip-path=\"url(#clip510)\" d=\"M91.2276 710.03 Q96.3841 710.03 101.227 712.678 Q106.07 715.291 108.996 719.402 Q111.923 723.478 111.923 727.59 Q111.923 732.223 107.115 734.627 Q124.57 738.983 125.023 739.226 Q126.521 740.237 126.521 741.7 Q126.521 742.606 125.964 743.163 Q125.441 743.721 124.605 743.721 Q124.326 743.686 123.455 743.477 L95.4085 736.509 Q88.8933 734.906 84.2594 730.063 Q79.5908 725.186 79.5908 719.959 Q79.5908 715.813 82.6916 712.922 Q85.7924 710.03 91.2276 710.03 M88.1616 715.151 Q84.6775 715.151 82.9355 716.545 Q81.1586 717.939 81.1586 720.099 Q81.1586 722.085 82.7613 724.489 Q84.364 726.858 87.9177 728.948 Q89.9734 730.063 92.5167 730.865 Q95.0601 731.666 101.331 733.234 Q103.84 733.791 103.979 733.791 Q104.258 733.791 104.885 733.652 Q105.512 733.478 106.488 733.06 Q107.429 732.607 108.265 731.98 Q109.101 731.352 109.728 730.203 Q110.32 729.053 110.32 727.659 Q110.32 725.499 108.578 723.2 Q106.802 720.865 103.561 719.158 Q100.948 717.73 96.0357 716.441 Q91.0883 715.151 88.1616 715.151 Z\" fill=\"#000000\" fill-rule=\"nonzero\" fill-opacity=\"1\" /><path clip-path=\"url(#clip510)\" d=\"M852.696 16.7545 L852.696 25.383 Q848.564 21.5346 843.865 19.6307 Q839.206 17.7268 833.94 17.7268 Q823.57 17.7268 818.061 24.0867 Q812.551 30.4061 812.551 42.3968 Q812.551 54.3469 818.061 60.7069 Q823.57 67.0263 833.94 67.0263 Q839.206 67.0263 843.865 65.1223 Q848.564 63.2184 852.696 59.3701 L852.696 67.9175 Q848.402 70.8341 843.581 72.2924 Q838.801 73.7508 833.454 73.7508 Q819.722 73.7508 811.822 65.3654 Q803.923 56.9395 803.923 42.3968 Q803.923 27.8135 811.822 19.4281 Q819.722 11.0023 833.454 11.0023 Q838.882 11.0023 843.662 12.4606 Q848.483 13.8784 852.696 16.7545 Z\" fill=\"#000000\" fill-rule=\"nonzero\" fill-opacity=\"1\" /><path clip-path=\"url(#clip510)\" d=\"M902.725 45.1919 L902.725 72.576 L895.271 72.576 L895.271 45.4349 Q895.271 38.994 892.759 35.7938 Q890.248 32.5936 885.225 32.5936 Q879.189 32.5936 875.705 36.4419 Q872.221 40.2903 872.221 46.9338 L872.221 72.576 L864.727 72.576 L864.727 9.54393 L872.221 9.54393 L872.221 34.2544 Q874.895 30.163 878.5 28.1376 Q882.146 26.1121 886.886 26.1121 Q894.704 26.1121 898.714 30.9732 Q902.725 35.7938 902.725 45.1919 Z\" fill=\"#000000\" fill-rule=\"nonzero\" fill-opacity=\"1\" /><path clip-path=\"url(#clip510)\" d=\"M938.211 49.7694 Q929.177 49.7694 925.693 51.8354 Q922.209 53.9013 922.209 58.8839 Q922.209 62.8538 924.802 65.2034 Q927.435 67.5124 931.932 67.5124 Q938.129 67.5124 941.856 63.1374 Q945.624 58.7219 945.624 51.4303 L945.624 49.7694 L938.211 49.7694 M953.077 46.6907 L953.077 72.576 L945.624 72.576 L945.624 65.6895 Q943.072 69.8214 939.264 71.8063 Q935.456 73.7508 929.947 73.7508 Q922.979 73.7508 918.847 69.8619 Q914.756 65.9325 914.756 59.3701 Q914.756 51.7138 919.86 47.825 Q925.005 43.9361 935.172 43.9361 L945.624 43.9361 L945.624 43.2069 Q945.624 38.0623 942.221 35.2672 Q938.859 32.4315 932.742 32.4315 Q928.853 32.4315 925.167 33.3632 Q921.48 34.295 918.078 36.1584 L918.078 29.2718 Q922.169 27.692 926.017 26.9223 Q929.866 26.1121 933.511 26.1121 Q943.355 26.1121 948.216 31.2163 Q953.077 36.3204 953.077 46.6907 Z\" fill=\"#000000\" fill-rule=\"nonzero\" fill-opacity=\"1\" /><path clip-path=\"url(#clip510)\" d=\"M994.721 34.1734 Q993.465 33.4443 991.966 33.1202 Q990.508 32.7556 988.725 32.7556 Q982.406 32.7556 979.003 36.8875 Q975.641 40.9789 975.641 48.6757 L975.641 72.576 L968.147 72.576 L968.147 27.2059 L975.641 27.2059 L975.641 34.2544 Q977.99 30.1225 981.758 28.1376 Q985.525 26.1121 990.913 26.1121 Q991.682 26.1121 992.614 26.2337 Q993.546 26.3147 994.68 26.5172 L994.721 34.1734 Z\" fill=\"#000000\" fill-rule=\"nonzero\" fill-opacity=\"1\" /><path clip-path=\"url(#clip510)\" d=\"M1030.94 49.3643 Q1030.94 41.2625 1027.57 36.8065 Q1024.25 32.3505 1018.22 32.3505 Q1012.22 32.3505 1008.86 36.8065 Q1005.54 41.2625 1005.54 49.3643 Q1005.54 57.4256 1008.86 61.8816 Q1012.22 66.3376 1018.22 66.3376 Q1024.25 66.3376 1027.57 61.8816 Q1030.94 57.4256 1030.94 49.3643 M1038.39 66.9452 Q1038.39 78.5308 1033.24 84.1616 Q1028.1 89.8329 1017.49 89.8329 Q1013.56 89.8329 1010.07 89.2252 Q1006.59 88.6581 1003.31 87.4428 L1003.31 80.1917 Q1006.59 81.9741 1009.79 82.8248 Q1012.99 83.6755 1016.31 83.6755 Q1023.64 83.6755 1027.29 79.8271 Q1030.94 76.0193 1030.94 68.282 L1030.94 64.5957 Q1028.63 68.6061 1025.02 70.5911 Q1021.42 72.576 1016.39 72.576 Q1008.05 72.576 1002.94 66.2161 Q997.84 59.8562 997.84 49.3643 Q997.84 38.832 1002.94 32.472 Q1008.05 26.1121 1016.39 26.1121 Q1021.42 26.1121 1025.02 28.0971 Q1028.63 30.082 1030.94 34.0924 L1030.94 27.2059 L1038.39 27.2059 L1038.39 66.9452 Z\" fill=\"#000000\" fill-rule=\"nonzero\" fill-opacity=\"1\" /><path clip-path=\"url(#clip510)\" d=\"M1092.55 48.0275 L1092.55 51.6733 L1058.28 51.6733 Q1058.77 59.3701 1062.9 63.421 Q1067.07 67.4314 1074.48 67.4314 Q1078.78 67.4314 1082.79 66.3781 Q1086.84 65.3249 1090.81 63.2184 L1090.81 70.267 Q1086.8 71.9684 1082.58 72.8596 Q1078.37 73.7508 1074.04 73.7508 Q1063.18 73.7508 1056.82 67.4314 Q1050.5 61.1119 1050.5 50.3365 Q1050.5 39.1965 1056.5 32.6746 Q1062.53 26.1121 1072.74 26.1121 Q1081.9 26.1121 1087.2 32.0264 Q1092.55 37.9003 1092.55 48.0275 M1085.1 45.84 Q1085.02 39.7232 1081.65 36.0774 Q1078.33 32.4315 1072.82 32.4315 Q1066.58 32.4315 1062.82 35.9558 Q1059.09 39.4801 1058.52 45.8805 L1085.1 45.84 Z\" fill=\"#000000\" fill-rule=\"nonzero\" fill-opacity=\"1\" /><path clip-path=\"url(#clip510)\" d=\"M1139.66 18.8205 L1139.66 65.8515 L1149.55 65.8515 Q1162.06 65.8515 1167.86 60.1802 Q1173.69 54.509 1173.69 42.2752 Q1173.69 30.1225 1167.86 24.4918 Q1162.06 18.8205 1149.55 18.8205 L1139.66 18.8205 M1131.48 12.096 L1148.29 12.096 Q1165.87 12.096 1174.09 19.4281 Q1182.32 26.7198 1182.32 42.2752 Q1182.32 57.9117 1174.05 65.2439 Q1165.79 72.576 1148.29 72.576 L1131.48 72.576 L1131.48 12.096 Z\" fill=\"#000000\" fill-rule=\"nonzero\" fill-opacity=\"1\" /><path clip-path=\"url(#clip510)\" d=\"M1233.85 48.0275 L1233.85 51.6733 L1199.57 51.6733 Q1200.06 59.3701 1204.19 63.421 Q1208.37 67.4314 1215.78 67.4314 Q1220.07 67.4314 1224.08 66.3781 Q1228.13 65.3249 1232.1 63.2184 L1232.1 70.267 Q1228.09 71.9684 1223.88 72.8596 Q1219.67 73.7508 1215.33 73.7508 Q1204.48 73.7508 1198.12 67.4314 Q1191.8 61.1119 1191.8 50.3365 Q1191.8 39.1965 1197.79 32.6746 Q1203.83 26.1121 1214.04 26.1121 Q1223.19 26.1121 1228.5 32.0264 Q1233.85 37.9003 1233.85 48.0275 M1226.39 45.84 Q1226.31 39.7232 1222.95 36.0774 Q1219.63 32.4315 1214.12 32.4315 Q1207.88 32.4315 1204.11 35.9558 Q1200.39 39.4801 1199.82 45.8805 L1226.39 45.84 Z\" fill=\"#000000\" fill-rule=\"nonzero\" fill-opacity=\"1\" /><path clip-path=\"url(#clip510)\" d=\"M1253.29 65.7705 L1253.29 89.8329 L1245.8 89.8329 L1245.8 27.2059 L1253.29 27.2059 L1253.29 34.0924 Q1255.64 30.0415 1259.2 28.0971 Q1262.81 26.1121 1267.79 26.1121 Q1276.06 26.1121 1281.2 32.6746 Q1286.39 39.2371 1286.39 49.9314 Q1286.39 60.6258 1281.2 67.1883 Q1276.06 73.7508 1267.79 73.7508 Q1262.81 73.7508 1259.2 71.8063 Q1255.64 69.8214 1253.29 65.7705 M1278.65 49.9314 Q1278.65 41.7081 1275.25 37.0496 Q1271.88 32.3505 1265.97 32.3505 Q1260.05 32.3505 1256.65 37.0496 Q1253.29 41.7081 1253.29 49.9314 Q1253.29 58.1548 1256.65 62.8538 Q1260.05 67.5124 1265.97 67.5124 Q1271.88 67.5124 1275.25 62.8538 Q1278.65 58.1548 1278.65 49.9314 Z\" fill=\"#000000\" fill-rule=\"nonzero\" fill-opacity=\"1\" /><path clip-path=\"url(#clip510)\" d=\"M1298.74 9.54393 L1306.19 9.54393 L1306.19 72.576 L1298.74 72.576 L1298.74 9.54393 Z\" fill=\"#000000\" fill-rule=\"nonzero\" fill-opacity=\"1\" /><path clip-path=\"url(#clip510)\" d=\"M1360.6 48.0275 L1360.6 51.6733 L1326.33 51.6733 Q1326.81 59.3701 1330.95 63.421 Q1335.12 67.4314 1342.53 67.4314 Q1346.83 67.4314 1350.84 66.3781 Q1354.89 65.3249 1358.86 63.2184 L1358.86 70.267 Q1354.85 71.9684 1350.63 72.8596 Q1346.42 73.7508 1342.09 73.7508 Q1331.23 73.7508 1324.87 67.4314 Q1318.55 61.1119 1318.55 50.3365 Q1318.55 39.1965 1324.55 32.6746 Q1330.58 26.1121 1340.79 26.1121 Q1349.94 26.1121 1355.25 32.0264 Q1360.6 37.9003 1360.6 48.0275 M1353.14 45.84 Q1353.06 39.7232 1349.7 36.0774 Q1346.38 32.4315 1340.87 32.4315 Q1334.63 32.4315 1330.86 35.9558 Q1327.14 39.4801 1326.57 45.8805 L1353.14 45.84 Z\" fill=\"#000000\" fill-rule=\"nonzero\" fill-opacity=\"1\" /><path clip-path=\"url(#clip510)\" d=\"M1380.2 14.324 L1380.2 27.2059 L1395.56 27.2059 L1395.56 32.9987 L1380.2 32.9987 L1380.2 57.6282 Q1380.2 63.1779 1381.7 64.7578 Q1383.24 66.3376 1387.9 66.3376 L1395.56 66.3376 L1395.56 72.576 L1387.9 72.576 Q1379.27 72.576 1375.99 69.3758 Q1372.71 66.1351 1372.71 57.6282 L1372.71 32.9987 L1367.24 32.9987 L1367.24 27.2059 L1372.71 27.2059 L1372.71 14.324 L1380.2 14.324 Z\" fill=\"#000000\" fill-rule=\"nonzero\" fill-opacity=\"1\" /><path clip-path=\"url(#clip510)\" d=\"M1405.36 27.2059 L1412.81 27.2059 L1412.81 72.576 L1405.36 72.576 L1405.36 27.2059 M1405.36 9.54393 L1412.81 9.54393 L1412.81 18.9825 L1405.36 18.9825 L1405.36 9.54393 Z\" fill=\"#000000\" fill-rule=\"nonzero\" fill-opacity=\"1\" /><path clip-path=\"url(#clip510)\" d=\"M1445.99 32.4315 Q1440 32.4315 1436.51 37.1306 Q1433.03 41.7891 1433.03 49.9314 Q1433.03 58.0738 1436.47 62.7728 Q1439.96 67.4314 1445.99 67.4314 Q1451.95 67.4314 1455.43 62.7323 Q1458.91 58.0333 1458.91 49.9314 Q1458.91 41.8701 1455.43 37.1711 Q1451.95 32.4315 1445.99 32.4315 M1445.99 26.1121 Q1455.71 26.1121 1461.26 32.4315 Q1466.81 38.7509 1466.81 49.9314 Q1466.81 61.0714 1461.26 67.4314 Q1455.71 73.7508 1445.99 73.7508 Q1436.23 73.7508 1430.68 67.4314 Q1425.17 61.0714 1425.17 49.9314 Q1425.17 38.7509 1430.68 32.4315 Q1436.23 26.1121 1445.99 26.1121 Z\" fill=\"#000000\" fill-rule=\"nonzero\" fill-opacity=\"1\" /><path clip-path=\"url(#clip510)\" d=\"M1516.88 45.1919 L1516.88 72.576 L1509.43 72.576 L1509.43 45.4349 Q1509.43 38.994 1506.92 35.7938 Q1504.41 32.5936 1499.38 32.5936 Q1493.35 32.5936 1489.86 36.4419 Q1486.38 40.2903 1486.38 46.9338 L1486.38 72.576 L1478.88 72.576 L1478.88 27.2059 L1486.38 27.2059 L1486.38 34.2544 Q1489.05 30.163 1492.66 28.1376 Q1496.3 26.1121 1501.04 26.1121 Q1508.86 26.1121 1512.87 30.9732 Q1516.88 35.7938 1516.88 45.1919 Z\" fill=\"#000000\" fill-rule=\"nonzero\" fill-opacity=\"1\" /><path clip-path=\"url(#clip510)\" d=\"M1566.63 18.8205 L1566.63 41.5461 L1576.92 41.5461 Q1582.63 41.5461 1585.75 38.5889 Q1588.87 35.6318 1588.87 30.163 Q1588.87 24.7348 1585.75 21.7777 Q1582.63 18.8205 1576.92 18.8205 L1566.63 18.8205 M1558.44 12.096 L1576.92 12.096 Q1587.08 12.096 1592.27 16.714 Q1597.5 21.2916 1597.5 30.163 Q1597.5 39.1155 1592.27 43.6931 Q1587.08 48.2706 1576.92 48.2706 L1566.63 48.2706 L1566.63 72.576 L1558.44 72.576 L1558.44 12.096 Z\" fill=\"#000000\" fill-rule=\"nonzero\" fill-opacity=\"1\" /><path clip-path=\"url(#clip510)\" d=\"M1632.98 34.1734 Q1631.73 33.4443 1630.23 33.1202 Q1628.77 32.7556 1626.99 32.7556 Q1620.67 32.7556 1617.26 36.8875 Q1613.9 40.9789 1613.9 48.6757 L1613.9 72.576 L1606.41 72.576 L1606.41 27.2059 L1613.9 27.2059 L1613.9 34.2544 Q1616.25 30.1225 1620.02 28.1376 Q1623.79 26.1121 1629.17 26.1121 Q1629.94 26.1121 1630.87 26.2337 Q1631.81 26.3147 1632.94 26.5172 L1632.98 34.1734 Z\" fill=\"#000000\" fill-rule=\"nonzero\" fill-opacity=\"1\" /><path clip-path=\"url(#clip510)\" d=\"M1656.56 32.4315 Q1650.56 32.4315 1647.08 37.1306 Q1643.59 41.7891 1643.59 49.9314 Q1643.59 58.0738 1647.04 62.7728 Q1650.52 67.4314 1656.56 67.4314 Q1662.51 67.4314 1666 62.7323 Q1669.48 58.0333 1669.48 49.9314 Q1669.48 41.8701 1666 37.1711 Q1662.51 32.4315 1656.56 32.4315 M1656.56 26.1121 Q1666.28 26.1121 1671.83 32.4315 Q1677.38 38.7509 1677.38 49.9314 Q1677.38 61.0714 1671.83 67.4314 Q1666.28 73.7508 1656.56 73.7508 Q1646.79 73.7508 1641.24 67.4314 Q1635.74 61.0714 1635.74 49.9314 Q1635.74 38.7509 1641.24 32.4315 Q1646.79 26.1121 1656.56 26.1121 Z\" fill=\"#000000\" fill-rule=\"nonzero\" fill-opacity=\"1\" /><path clip-path=\"url(#clip510)\" d=\"M1712.7 9.54393 L1712.7 15.7418 L1705.57 15.7418 Q1701.56 15.7418 1699.98 17.3622 Q1698.44 18.9825 1698.44 23.1955 L1698.44 27.2059 L1710.72 27.2059 L1710.72 32.9987 L1698.44 32.9987 L1698.44 72.576 L1690.95 72.576 L1690.95 32.9987 L1683.82 32.9987 L1683.82 27.2059 L1690.95 27.2059 L1690.95 24.0462 Q1690.95 16.471 1694.47 13.0277 Q1698 9.54393 1705.65 9.54393 L1712.7 9.54393 Z\" fill=\"#000000\" fill-rule=\"nonzero\" fill-opacity=\"1\" /><path clip-path=\"url(#clip510)\" d=\"M1718.94 27.2059 L1726.39 27.2059 L1726.39 72.576 L1718.94 72.576 L1718.94 27.2059 M1718.94 9.54393 L1726.39 9.54393 L1726.39 18.9825 L1718.94 18.9825 L1718.94 9.54393 Z\" fill=\"#000000\" fill-rule=\"nonzero\" fill-opacity=\"1\" /><path clip-path=\"url(#clip510)\" d=\"M1741.99 9.54393 L1749.44 9.54393 L1749.44 72.576 L1741.99 72.576 L1741.99 9.54393 Z\" fill=\"#000000\" fill-rule=\"nonzero\" fill-opacity=\"1\" /><path clip-path=\"url(#clip510)\" d=\"M1803.85 48.0275 L1803.85 51.6733 L1769.58 51.6733 Q1770.06 59.3701 1774.2 63.421 Q1778.37 67.4314 1785.78 67.4314 Q1790.08 67.4314 1794.09 66.3781 Q1798.14 65.3249 1802.11 63.2184 L1802.11 70.267 Q1798.1 71.9684 1793.88 72.8596 Q1789.67 73.7508 1785.34 73.7508 Q1774.48 73.7508 1768.12 67.4314 Q1761.8 61.1119 1761.8 50.3365 Q1761.8 39.1965 1767.8 32.6746 Q1773.83 26.1121 1784.04 26.1121 Q1793.19 26.1121 1798.5 32.0264 Q1803.85 37.9003 1803.85 48.0275 M1796.39 45.84 Q1796.31 39.7232 1792.95 36.0774 Q1789.63 32.4315 1784.12 32.4315 Q1777.88 32.4315 1774.11 35.9558 Q1770.39 39.4801 1769.82 45.8805 L1796.39 45.84 Z\" fill=\"#000000\" fill-rule=\"nonzero\" fill-opacity=\"1\" /><polyline clip-path=\"url(#clip513)\" style=\"stroke:#009af9; stroke-linecap:round; stroke-linejoin:round; stroke-width:12; stroke-opacity:1; fill:none\" points=\"314.385,598.935 1014.07,159.523 1303.89,454.754 1713.75,741.2 1878.92,1246.78 2293.39,1361.21 \"/>\n",
       "<circle clip-path=\"url(#clip513)\" cx=\"314.385\" cy=\"598.935\" r=\"18\" fill=\"#ffffff\" fill-rule=\"evenodd\" fill-opacity=\"1\" stroke=\"#0000ff\" stroke-opacity=\"1\" stroke-width=\"3.2\"/>\n",
       "<circle clip-path=\"url(#clip513)\" cx=\"1014.07\" cy=\"159.523\" r=\"18\" fill=\"#ffffff\" fill-rule=\"evenodd\" fill-opacity=\"1\" stroke=\"#0000ff\" stroke-opacity=\"1\" stroke-width=\"3.2\"/>\n",
       "<circle clip-path=\"url(#clip513)\" cx=\"1303.89\" cy=\"454.754\" r=\"18\" fill=\"#ffffff\" fill-rule=\"evenodd\" fill-opacity=\"1\" stroke=\"#0000ff\" stroke-opacity=\"1\" stroke-width=\"3.2\"/>\n",
       "<circle clip-path=\"url(#clip513)\" cx=\"1713.75\" cy=\"741.2\" r=\"18\" fill=\"#ffffff\" fill-rule=\"evenodd\" fill-opacity=\"1\" stroke=\"#0000ff\" stroke-opacity=\"1\" stroke-width=\"3.2\"/>\n",
       "<circle clip-path=\"url(#clip513)\" cx=\"1878.92\" cy=\"1246.78\" r=\"18\" fill=\"#ffffff\" fill-rule=\"evenodd\" fill-opacity=\"1\" stroke=\"#0000ff\" stroke-opacity=\"1\" stroke-width=\"3.2\"/>\n",
       "<circle clip-path=\"url(#clip513)\" cx=\"2293.39\" cy=\"1361.21\" r=\"18\" fill=\"#ffffff\" fill-rule=\"evenodd\" fill-opacity=\"1\" stroke=\"#0000ff\" stroke-opacity=\"1\" stroke-width=\"3.2\"/>\n",
       "</svg>\n"
      ],
      "text/html": [
       "<?xml version=\"1.0\" encoding=\"utf-8\"?>\n",
       "<svg xmlns=\"http://www.w3.org/2000/svg\" xmlns:xlink=\"http://www.w3.org/1999/xlink\" width=\"600\" height=\"400\" viewBox=\"0 0 2400 1600\">\n",
       "<defs>\n",
       "  <clipPath id=\"clip560\">\n",
       "    <rect x=\"0\" y=\"0\" width=\"2400\" height=\"1600\"/>\n",
       "  </clipPath>\n",
       "</defs>\n",
       "<path clip-path=\"url(#clip560)\" d=\"M0 1600 L2400 1600 L2400 0 L0 0  Z\" fill=\"#ffffff\" fill-rule=\"evenodd\" fill-opacity=\"1\"/>\n",
       "<defs>\n",
       "  <clipPath id=\"clip561\">\n",
       "    <rect x=\"480\" y=\"0\" width=\"1681\" height=\"1600\"/>\n",
       "  </clipPath>\n",
       "</defs>\n",
       "<defs>\n",
       "  <clipPath id=\"clip562\">\n",
       "    <rect x=\"255\" y=\"123\" width=\"2099\" height=\"1275\"/>\n",
       "  </clipPath>\n",
       "</defs>\n",
       "<path clip-path=\"url(#clip560)\" d=\"M255.015 1397.26 L2352.76 1397.26 L2352.76 123.472 L255.015 123.472  Z\" fill=\"#ffffff\" fill-rule=\"evenodd\" fill-opacity=\"1\"/>\n",
       "<polyline clip-path=\"url(#clip562)\" style=\"stroke:#000000; stroke-linecap:round; stroke-linejoin:round; stroke-width:2; stroke-opacity:0.1; fill:none\" points=\"314.385,1397.26 314.385,123.472 \"/>\n",
       "<polyline clip-path=\"url(#clip562)\" style=\"stroke:#000000; stroke-linecap:round; stroke-linejoin:round; stroke-width:2; stroke-opacity:0.1; fill:none\" points=\"1014.07,1397.26 1014.07,123.472 \"/>\n",
       "<polyline clip-path=\"url(#clip562)\" style=\"stroke:#000000; stroke-linecap:round; stroke-linejoin:round; stroke-width:2; stroke-opacity:0.1; fill:none\" points=\"1713.75,1397.26 1713.75,123.472 \"/>\n",
       "<polyline clip-path=\"url(#clip560)\" style=\"stroke:#000000; stroke-linecap:round; stroke-linejoin:round; stroke-width:4; stroke-opacity:1; fill:none\" points=\"255.015,1397.26 2352.76,1397.26 \"/>\n",
       "<polyline clip-path=\"url(#clip560)\" style=\"stroke:#000000; stroke-linecap:round; stroke-linejoin:round; stroke-width:4; stroke-opacity:1; fill:none\" points=\"314.385,1397.26 314.385,1378.36 \"/>\n",
       "<polyline clip-path=\"url(#clip560)\" style=\"stroke:#000000; stroke-linecap:round; stroke-linejoin:round; stroke-width:4; stroke-opacity:1; fill:none\" points=\"1014.07,1397.26 1014.07,1378.36 \"/>\n",
       "<polyline clip-path=\"url(#clip560)\" style=\"stroke:#000000; stroke-linecap:round; stroke-linejoin:round; stroke-width:4; stroke-opacity:1; fill:none\" points=\"1713.75,1397.26 1713.75,1378.36 \"/>\n",
       "<path clip-path=\"url(#clip560)\" d=\"M314.385 1428.18 Q310.774 1428.18 308.946 1431.74 Q307.14 1435.28 307.14 1442.41 Q307.14 1449.52 308.946 1453.09 Q310.774 1456.63 314.385 1456.63 Q318.02 1456.63 319.825 1453.09 Q321.654 1449.52 321.654 1442.41 Q321.654 1435.28 319.825 1431.74 Q318.02 1428.18 314.385 1428.18 M314.385 1424.47 Q320.196 1424.47 323.251 1429.08 Q326.33 1433.66 326.33 1442.41 Q326.33 1451.14 323.251 1455.75 Q320.196 1460.33 314.385 1460.33 Q308.575 1460.33 305.497 1455.75 Q302.441 1451.14 302.441 1442.41 Q302.441 1433.66 305.497 1429.08 Q308.575 1424.47 314.385 1424.47 Z\" fill=\"#000000\" fill-rule=\"nonzero\" fill-opacity=\"1\" /><path clip-path=\"url(#clip560)\" d=\"M1004.45 1455.72 L1012.09 1455.72 L1012.09 1429.36 L1003.78 1431.03 L1003.78 1426.77 L1012.04 1425.1 L1016.72 1425.1 L1016.72 1455.72 L1024.36 1455.72 L1024.36 1459.66 L1004.45 1459.66 L1004.45 1455.72 Z\" fill=\"#000000\" fill-rule=\"nonzero\" fill-opacity=\"1\" /><path clip-path=\"url(#clip560)\" d=\"M1708.4 1455.72 L1724.72 1455.72 L1724.72 1459.66 L1702.78 1459.66 L1702.78 1455.72 Q1705.44 1452.97 1710.02 1448.34 Q1714.63 1443.69 1715.81 1442.35 Q1718.06 1439.82 1718.94 1438.09 Q1719.84 1436.33 1719.84 1434.64 Q1719.84 1431.88 1717.89 1430.15 Q1715.97 1428.41 1712.87 1428.41 Q1710.67 1428.41 1708.22 1429.17 Q1705.79 1429.94 1703.01 1431.49 L1703.01 1426.77 Q1705.83 1425.63 1708.29 1425.05 Q1710.74 1424.47 1712.78 1424.47 Q1718.15 1424.47 1721.34 1427.16 Q1724.54 1429.85 1724.54 1434.34 Q1724.54 1436.47 1723.73 1438.39 Q1722.94 1440.28 1720.83 1442.88 Q1720.25 1443.55 1717.15 1446.77 Q1714.05 1449.96 1708.4 1455.72 Z\" fill=\"#000000\" fill-rule=\"nonzero\" fill-opacity=\"1\" /><path clip-path=\"url(#clip560)\" d=\"M1325.94 1512.16 Q1325.94 1519.52 1322.16 1526.44 Q1318.42 1533.36 1312.55 1537.54 Q1306.73 1541.72 1300.85 1541.72 Q1294.23 1541.72 1290.8 1534.85 Q1284.58 1559.79 1284.23 1560.44 Q1282.79 1562.58 1280.7 1562.58 Q1279.4 1562.58 1278.61 1561.78 Q1277.81 1561.03 1277.81 1559.84 Q1277.86 1559.44 1278.16 1558.2 L1288.11 1518.13 Q1290.4 1508.82 1297.32 1502.2 Q1304.29 1495.53 1311.75 1495.53 Q1317.68 1495.53 1321.81 1499.96 Q1325.94 1504.39 1325.94 1512.16 M1318.62 1507.78 Q1318.62 1502.8 1316.63 1500.31 Q1314.64 1497.77 1311.56 1497.77 Q1308.72 1497.77 1305.28 1500.06 Q1301.9 1502.35 1298.91 1507.43 Q1297.32 1510.37 1296.18 1514 Q1295.03 1517.63 1292.79 1526.59 Q1291.99 1530.18 1291.99 1530.37 Q1291.99 1530.77 1292.19 1531.67 Q1292.44 1532.56 1293.04 1533.96 Q1293.69 1535.3 1294.58 1536.5 Q1295.48 1537.69 1297.12 1538.59 Q1298.76 1539.43 1300.75 1539.43 Q1303.84 1539.43 1307.13 1536.94 Q1310.46 1534.41 1312.9 1529.78 Q1314.94 1526.04 1316.78 1519.03 Q1318.62 1511.96 1318.62 1507.78 Z\" fill=\"#000000\" fill-rule=\"nonzero\" fill-opacity=\"1\" /><polyline clip-path=\"url(#clip562)\" style=\"stroke:#000000; stroke-linecap:round; stroke-linejoin:round; stroke-width:2; stroke-opacity:0.1; fill:none\" points=\"255.015,1361.21 2352.76,1361.21 \"/>\n",
       "<polyline clip-path=\"url(#clip562)\" style=\"stroke:#000000; stroke-linecap:round; stroke-linejoin:round; stroke-width:2; stroke-opacity:0.1; fill:none\" points=\"255.015,954.663 2352.76,954.663 \"/>\n",
       "<polyline clip-path=\"url(#clip562)\" style=\"stroke:#000000; stroke-linecap:round; stroke-linejoin:round; stroke-width:2; stroke-opacity:0.1; fill:none\" points=\"255.015,548.117 2352.76,548.117 \"/>\n",
       "<polyline clip-path=\"url(#clip562)\" style=\"stroke:#000000; stroke-linecap:round; stroke-linejoin:round; stroke-width:2; stroke-opacity:0.1; fill:none\" points=\"255.015,141.57 2352.76,141.57 \"/>\n",
       "<polyline clip-path=\"url(#clip560)\" style=\"stroke:#000000; stroke-linecap:round; stroke-linejoin:round; stroke-width:4; stroke-opacity:1; fill:none\" points=\"255.015,1397.26 255.015,123.472 \"/>\n",
       "<polyline clip-path=\"url(#clip560)\" style=\"stroke:#000000; stroke-linecap:round; stroke-linejoin:round; stroke-width:4; stroke-opacity:1; fill:none\" points=\"255.015,1361.21 273.913,1361.21 \"/>\n",
       "<polyline clip-path=\"url(#clip560)\" style=\"stroke:#000000; stroke-linecap:round; stroke-linejoin:round; stroke-width:4; stroke-opacity:1; fill:none\" points=\"255.015,954.663 273.913,954.663 \"/>\n",
       "<polyline clip-path=\"url(#clip560)\" style=\"stroke:#000000; stroke-linecap:round; stroke-linejoin:round; stroke-width:4; stroke-opacity:1; fill:none\" points=\"255.015,548.117 273.913,548.117 \"/>\n",
       "<polyline clip-path=\"url(#clip560)\" style=\"stroke:#000000; stroke-linecap:round; stroke-linejoin:round; stroke-width:4; stroke-opacity:1; fill:none\" points=\"255.015,141.57 273.913,141.57 \"/>\n",
       "<path clip-path=\"url(#clip560)\" d=\"M161.84 1347.01 Q158.229 1347.01 156.4 1350.57 Q154.594 1354.11 154.594 1361.24 Q154.594 1368.35 156.4 1371.92 Q158.229 1375.46 161.84 1375.46 Q165.474 1375.46 167.28 1371.92 Q169.108 1368.35 169.108 1361.24 Q169.108 1354.11 167.28 1350.57 Q165.474 1347.01 161.84 1347.01 M161.84 1343.3 Q167.65 1343.3 170.705 1347.91 Q173.784 1352.49 173.784 1361.24 Q173.784 1369.97 170.705 1374.58 Q167.65 1379.16 161.84 1379.16 Q156.03 1379.16 152.951 1374.58 Q149.895 1369.97 149.895 1361.24 Q149.895 1352.49 152.951 1347.91 Q156.03 1343.3 161.84 1343.3 Z\" fill=\"#000000\" fill-rule=\"nonzero\" fill-opacity=\"1\" /><path clip-path=\"url(#clip560)\" d=\"M182.002 1372.61 L186.886 1372.61 L186.886 1378.49 L182.002 1378.49 L182.002 1372.61 Z\" fill=\"#000000\" fill-rule=\"nonzero\" fill-opacity=\"1\" /><path clip-path=\"url(#clip560)\" d=\"M207.071 1347.01 Q203.46 1347.01 201.631 1350.57 Q199.826 1354.11 199.826 1361.24 Q199.826 1368.35 201.631 1371.92 Q203.46 1375.46 207.071 1375.46 Q210.705 1375.46 212.511 1371.92 Q214.339 1368.35 214.339 1361.24 Q214.339 1354.11 212.511 1350.57 Q210.705 1347.01 207.071 1347.01 M207.071 1343.3 Q212.881 1343.3 215.937 1347.91 Q219.015 1352.49 219.015 1361.24 Q219.015 1369.97 215.937 1374.58 Q212.881 1379.16 207.071 1379.16 Q201.261 1379.16 198.182 1374.58 Q195.127 1369.97 195.127 1361.24 Q195.127 1352.49 198.182 1347.91 Q201.261 1343.3 207.071 1343.3 Z\" fill=\"#000000\" fill-rule=\"nonzero\" fill-opacity=\"1\" /><path clip-path=\"url(#clip560)\" d=\"M163.067 940.462 Q159.455 940.462 157.627 944.026 Q155.821 947.568 155.821 954.698 Q155.821 961.804 157.627 965.369 Q159.455 968.91 163.067 968.91 Q166.701 968.91 168.506 965.369 Q170.335 961.804 170.335 954.698 Q170.335 947.568 168.506 944.026 Q166.701 940.462 163.067 940.462 M163.067 936.758 Q168.877 936.758 171.932 941.364 Q175.011 945.948 175.011 954.698 Q175.011 963.424 171.932 968.031 Q168.877 972.614 163.067 972.614 Q157.256 972.614 154.178 968.031 Q151.122 963.424 151.122 954.698 Q151.122 945.948 154.178 941.364 Q157.256 936.758 163.067 936.758 Z\" fill=\"#000000\" fill-rule=\"nonzero\" fill-opacity=\"1\" /><path clip-path=\"url(#clip560)\" d=\"M183.229 966.063 L188.113 966.063 L188.113 971.943 L183.229 971.943 L183.229 966.063 Z\" fill=\"#000000\" fill-rule=\"nonzero\" fill-opacity=\"1\" /><path clip-path=\"url(#clip560)\" d=\"M199.108 968.008 L206.747 968.008 L206.747 941.642 L198.437 943.309 L198.437 939.05 L206.701 937.383 L211.377 937.383 L211.377 968.008 L219.015 968.008 L219.015 971.943 L199.108 971.943 L199.108 968.008 Z\" fill=\"#000000\" fill-rule=\"nonzero\" fill-opacity=\"1\" /><path clip-path=\"url(#clip560)\" d=\"M163.437 533.915 Q159.826 533.915 157.997 537.48 Q156.192 541.022 156.192 548.151 Q156.192 555.258 157.997 558.822 Q159.826 562.364 163.437 562.364 Q167.071 562.364 168.877 558.822 Q170.705 555.258 170.705 548.151 Q170.705 541.022 168.877 537.48 Q167.071 533.915 163.437 533.915 M163.437 530.212 Q169.247 530.212 172.303 534.818 Q175.381 539.401 175.381 548.151 Q175.381 556.878 172.303 561.485 Q169.247 566.068 163.437 566.068 Q157.627 566.068 154.548 561.485 Q151.493 556.878 151.493 548.151 Q151.493 539.401 154.548 534.818 Q157.627 530.212 163.437 530.212 Z\" fill=\"#000000\" fill-rule=\"nonzero\" fill-opacity=\"1\" /><path clip-path=\"url(#clip560)\" d=\"M183.599 559.517 L188.483 559.517 L188.483 565.397 L183.599 565.397 L183.599 559.517 Z\" fill=\"#000000\" fill-rule=\"nonzero\" fill-opacity=\"1\" /><path clip-path=\"url(#clip560)\" d=\"M202.696 561.461 L219.015 561.461 L219.015 565.397 L197.071 565.397 L197.071 561.461 Q199.733 558.707 204.316 554.077 Q208.923 549.424 210.103 548.082 Q212.349 545.559 213.228 543.823 Q214.131 542.063 214.131 540.374 Q214.131 537.619 212.187 535.883 Q210.265 534.147 207.164 534.147 Q204.965 534.147 202.511 534.911 Q200.08 535.674 197.303 537.225 L197.303 532.503 Q200.127 531.369 202.58 530.79 Q205.034 530.212 207.071 530.212 Q212.441 530.212 215.636 532.897 Q218.83 535.582 218.83 540.073 Q218.83 542.202 218.02 544.123 Q217.233 546.022 215.126 548.614 Q214.548 549.285 211.446 552.503 Q208.344 555.697 202.696 561.461 Z\" fill=\"#000000\" fill-rule=\"nonzero\" fill-opacity=\"1\" /><path clip-path=\"url(#clip560)\" d=\"M162.488 127.369 Q158.877 127.369 157.048 130.934 Q155.243 134.475 155.243 141.605 Q155.243 148.711 157.048 152.276 Q158.877 155.818 162.488 155.818 Q166.122 155.818 167.928 152.276 Q169.756 148.711 169.756 141.605 Q169.756 134.475 167.928 130.934 Q166.122 127.369 162.488 127.369 M162.488 123.665 Q168.298 123.665 171.354 128.272 Q174.432 132.855 174.432 141.605 Q174.432 150.332 171.354 154.938 Q168.298 159.521 162.488 159.521 Q156.678 159.521 153.599 154.938 Q150.544 150.332 150.544 141.605 Q150.544 132.855 153.599 128.272 Q156.678 123.665 162.488 123.665 Z\" fill=\"#000000\" fill-rule=\"nonzero\" fill-opacity=\"1\" /><path clip-path=\"url(#clip560)\" d=\"M182.65 152.971 L187.534 152.971 L187.534 158.85 L182.65 158.85 L182.65 152.971 Z\" fill=\"#000000\" fill-rule=\"nonzero\" fill-opacity=\"1\" /><path clip-path=\"url(#clip560)\" d=\"M211.886 140.216 Q215.242 140.934 217.117 143.202 Q219.015 145.471 219.015 148.804 Q219.015 153.92 215.497 156.721 Q211.978 159.521 205.497 159.521 Q203.321 159.521 201.006 159.082 Q198.715 158.665 196.261 157.808 L196.261 153.295 Q198.205 154.429 200.52 155.008 Q202.835 155.586 205.358 155.586 Q209.756 155.586 212.048 153.85 Q214.363 152.114 214.363 148.804 Q214.363 145.748 212.21 144.035 Q210.08 142.299 206.261 142.299 L202.233 142.299 L202.233 138.457 L206.446 138.457 Q209.895 138.457 211.724 137.091 Q213.552 135.702 213.552 133.11 Q213.552 130.448 211.654 129.035 Q209.779 127.6 206.261 127.6 Q204.34 127.6 202.14 128.017 Q199.941 128.434 197.303 129.313 L197.303 125.147 Q199.965 124.406 202.279 124.036 Q204.617 123.665 206.677 123.665 Q212.002 123.665 215.103 126.096 Q218.205 128.503 218.205 132.623 Q218.205 135.494 216.562 137.485 Q214.918 139.452 211.886 140.216 Z\" fill=\"#000000\" fill-rule=\"nonzero\" fill-opacity=\"1\" /><path clip-path=\"url(#clip560)\" d=\"M28.3763 753.92 Q35.5436 753.92 42.6611 756.508 Q49.7288 759.096 55.4527 763.426 Q61.1765 767.707 65.6063 773.281 Q69.9863 778.806 72.2261 784.729 Q78.1988 783.982 80.4386 782.489 Q82.7281 780.946 82.7281 777.512 Q82.7281 775.521 81.8322 773.381 Q80.9363 771.191 78.597 768.951 Q76.3074 766.711 72.9229 765.566 Q71.8279 765.218 71.8279 764.322 Q71.8279 763.974 72.1265 763.625 Q72.3754 763.227 72.8233 763.227 Q73.2215 763.227 74.6649 763.675 Q76.1581 764.073 78.4476 764.919 Q80.7372 765.766 83.1263 767.209 Q85.5651 768.652 87.7054 770.444 Q89.8456 772.186 91.1895 774.774 Q92.5831 777.363 92.5831 780.249 Q92.5831 782.639 91.6872 784.381 Q90.7913 786.073 89.6465 786.919 Q88.5017 787.715 86.6601 788.163 Q84.8683 788.611 83.8729 788.661 Q82.8774 788.711 81.3842 788.711 Q79.8413 788.711 73.5202 788.313 Q75.0631 793.688 75.0631 798.267 Q75.0631 809.566 67.647 816.982 Q60.2308 824.398 47.8374 824.398 Q39.177 824.398 30.5663 820.516 Q21.9059 816.633 15.4852 810.461 Q9.01474 804.29 4.98315 796.177 Q0.951563 788.014 0.951563 779.951 Q0.951563 768.503 8.56679 761.236 Q16.1322 753.92 28.3763 753.92 M25.1411 762.929 Q15.087 762.929 9.31338 767.856 Q3.48997 772.734 3.48997 780.548 Q3.48997 786.521 7.32247 793.141 Q11.155 799.711 18.5711 805.036 Q25.9872 810.262 35.2947 812.851 Q44.6022 815.389 51.1224 815.389 Q58.3395 815.389 63.7647 812.552 Q69.1402 809.715 71.3799 803.991 Q70.1854 804.588 68.1447 804.588 Q64.1629 804.588 60.9774 801.403 Q57.7422 798.217 57.7422 794.186 Q57.7422 792.394 58.2897 791 Q58.7874 789.557 59.8327 788.661 Q60.8779 787.715 61.8733 787.118 Q62.819 786.471 64.362 786.123 Q65.8552 785.724 66.6515 785.575 Q67.3981 785.426 68.742 785.227 Q66.0045 780.349 61.5249 776.367 Q56.9956 772.385 52.2174 769.946 Q47.3895 767.508 42.1634 765.865 Q36.8874 764.223 32.7065 763.576 Q28.4759 762.929 25.1411 762.929 M68.6424 788.014 Q64.0136 788.014 62.0227 789.507 Q59.982 790.951 59.982 794.186 Q59.982 797.371 62.5204 799.86 Q65.0588 802.349 68.1447 802.349 Q69.6877 802.349 70.6831 801.901 Q71.6288 801.403 72.027 800.507 Q72.3754 799.611 72.4749 799.064 Q72.5247 798.516 72.5247 797.67 Q72.5247 793.34 70.6831 789.109 Q70.3845 788.362 70.0858 788.213 Q69.7872 788.014 68.6424 788.014 Z\" fill=\"#000000\" fill-rule=\"nonzero\" fill-opacity=\"1\" /><path clip-path=\"url(#clip560)\" d=\"M91.2276 710.03 Q96.3841 710.03 101.227 712.678 Q106.07 715.291 108.996 719.402 Q111.923 723.478 111.923 727.59 Q111.923 732.223 107.115 734.627 Q124.57 738.983 125.023 739.226 Q126.521 740.237 126.521 741.7 Q126.521 742.606 125.964 743.163 Q125.441 743.721 124.605 743.721 Q124.326 743.686 123.455 743.477 L95.4085 736.509 Q88.8933 734.906 84.2594 730.063 Q79.5908 725.186 79.5908 719.959 Q79.5908 715.813 82.6916 712.922 Q85.7924 710.03 91.2276 710.03 M88.1616 715.151 Q84.6775 715.151 82.9355 716.545 Q81.1586 717.939 81.1586 720.099 Q81.1586 722.085 82.7613 724.489 Q84.364 726.858 87.9177 728.948 Q89.9734 730.063 92.5167 730.865 Q95.0601 731.666 101.331 733.234 Q103.84 733.791 103.979 733.791 Q104.258 733.791 104.885 733.652 Q105.512 733.478 106.488 733.06 Q107.429 732.607 108.265 731.98 Q109.101 731.352 109.728 730.203 Q110.32 729.053 110.32 727.659 Q110.32 725.499 108.578 723.2 Q106.802 720.865 103.561 719.158 Q100.948 717.73 96.0357 716.441 Q91.0883 715.151 88.1616 715.151 Z\" fill=\"#000000\" fill-rule=\"nonzero\" fill-opacity=\"1\" /><path clip-path=\"url(#clip560)\" d=\"M852.696 16.7545 L852.696 25.383 Q848.564 21.5346 843.865 19.6307 Q839.206 17.7268 833.94 17.7268 Q823.57 17.7268 818.061 24.0867 Q812.551 30.4061 812.551 42.3968 Q812.551 54.3469 818.061 60.7069 Q823.57 67.0263 833.94 67.0263 Q839.206 67.0263 843.865 65.1223 Q848.564 63.2184 852.696 59.3701 L852.696 67.9175 Q848.402 70.8341 843.581 72.2924 Q838.801 73.7508 833.454 73.7508 Q819.722 73.7508 811.822 65.3654 Q803.923 56.9395 803.923 42.3968 Q803.923 27.8135 811.822 19.4281 Q819.722 11.0023 833.454 11.0023 Q838.882 11.0023 843.662 12.4606 Q848.483 13.8784 852.696 16.7545 Z\" fill=\"#000000\" fill-rule=\"nonzero\" fill-opacity=\"1\" /><path clip-path=\"url(#clip560)\" d=\"M902.725 45.1919 L902.725 72.576 L895.271 72.576 L895.271 45.4349 Q895.271 38.994 892.759 35.7938 Q890.248 32.5936 885.225 32.5936 Q879.189 32.5936 875.705 36.4419 Q872.221 40.2903 872.221 46.9338 L872.221 72.576 L864.727 72.576 L864.727 9.54393 L872.221 9.54393 L872.221 34.2544 Q874.895 30.163 878.5 28.1376 Q882.146 26.1121 886.886 26.1121 Q894.704 26.1121 898.714 30.9732 Q902.725 35.7938 902.725 45.1919 Z\" fill=\"#000000\" fill-rule=\"nonzero\" fill-opacity=\"1\" /><path clip-path=\"url(#clip560)\" d=\"M938.211 49.7694 Q929.177 49.7694 925.693 51.8354 Q922.209 53.9013 922.209 58.8839 Q922.209 62.8538 924.802 65.2034 Q927.435 67.5124 931.932 67.5124 Q938.129 67.5124 941.856 63.1374 Q945.624 58.7219 945.624 51.4303 L945.624 49.7694 L938.211 49.7694 M953.077 46.6907 L953.077 72.576 L945.624 72.576 L945.624 65.6895 Q943.072 69.8214 939.264 71.8063 Q935.456 73.7508 929.947 73.7508 Q922.979 73.7508 918.847 69.8619 Q914.756 65.9325 914.756 59.3701 Q914.756 51.7138 919.86 47.825 Q925.005 43.9361 935.172 43.9361 L945.624 43.9361 L945.624 43.2069 Q945.624 38.0623 942.221 35.2672 Q938.859 32.4315 932.742 32.4315 Q928.853 32.4315 925.167 33.3632 Q921.48 34.295 918.078 36.1584 L918.078 29.2718 Q922.169 27.692 926.017 26.9223 Q929.866 26.1121 933.511 26.1121 Q943.355 26.1121 948.216 31.2163 Q953.077 36.3204 953.077 46.6907 Z\" fill=\"#000000\" fill-rule=\"nonzero\" fill-opacity=\"1\" /><path clip-path=\"url(#clip560)\" d=\"M994.721 34.1734 Q993.465 33.4443 991.966 33.1202 Q990.508 32.7556 988.725 32.7556 Q982.406 32.7556 979.003 36.8875 Q975.641 40.9789 975.641 48.6757 L975.641 72.576 L968.147 72.576 L968.147 27.2059 L975.641 27.2059 L975.641 34.2544 Q977.99 30.1225 981.758 28.1376 Q985.525 26.1121 990.913 26.1121 Q991.682 26.1121 992.614 26.2337 Q993.546 26.3147 994.68 26.5172 L994.721 34.1734 Z\" fill=\"#000000\" fill-rule=\"nonzero\" fill-opacity=\"1\" /><path clip-path=\"url(#clip560)\" d=\"M1030.94 49.3643 Q1030.94 41.2625 1027.57 36.8065 Q1024.25 32.3505 1018.22 32.3505 Q1012.22 32.3505 1008.86 36.8065 Q1005.54 41.2625 1005.54 49.3643 Q1005.54 57.4256 1008.86 61.8816 Q1012.22 66.3376 1018.22 66.3376 Q1024.25 66.3376 1027.57 61.8816 Q1030.94 57.4256 1030.94 49.3643 M1038.39 66.9452 Q1038.39 78.5308 1033.24 84.1616 Q1028.1 89.8329 1017.49 89.8329 Q1013.56 89.8329 1010.07 89.2252 Q1006.59 88.6581 1003.31 87.4428 L1003.31 80.1917 Q1006.59 81.9741 1009.79 82.8248 Q1012.99 83.6755 1016.31 83.6755 Q1023.64 83.6755 1027.29 79.8271 Q1030.94 76.0193 1030.94 68.282 L1030.94 64.5957 Q1028.63 68.6061 1025.02 70.5911 Q1021.42 72.576 1016.39 72.576 Q1008.05 72.576 1002.94 66.2161 Q997.84 59.8562 997.84 49.3643 Q997.84 38.832 1002.94 32.472 Q1008.05 26.1121 1016.39 26.1121 Q1021.42 26.1121 1025.02 28.0971 Q1028.63 30.082 1030.94 34.0924 L1030.94 27.2059 L1038.39 27.2059 L1038.39 66.9452 Z\" fill=\"#000000\" fill-rule=\"nonzero\" fill-opacity=\"1\" /><path clip-path=\"url(#clip560)\" d=\"M1092.55 48.0275 L1092.55 51.6733 L1058.28 51.6733 Q1058.77 59.3701 1062.9 63.421 Q1067.07 67.4314 1074.48 67.4314 Q1078.78 67.4314 1082.79 66.3781 Q1086.84 65.3249 1090.81 63.2184 L1090.81 70.267 Q1086.8 71.9684 1082.58 72.8596 Q1078.37 73.7508 1074.04 73.7508 Q1063.18 73.7508 1056.82 67.4314 Q1050.5 61.1119 1050.5 50.3365 Q1050.5 39.1965 1056.5 32.6746 Q1062.53 26.1121 1072.74 26.1121 Q1081.9 26.1121 1087.2 32.0264 Q1092.55 37.9003 1092.55 48.0275 M1085.1 45.84 Q1085.02 39.7232 1081.65 36.0774 Q1078.33 32.4315 1072.82 32.4315 Q1066.58 32.4315 1062.82 35.9558 Q1059.09 39.4801 1058.52 45.8805 L1085.1 45.84 Z\" fill=\"#000000\" fill-rule=\"nonzero\" fill-opacity=\"1\" /><path clip-path=\"url(#clip560)\" d=\"M1139.66 18.8205 L1139.66 65.8515 L1149.55 65.8515 Q1162.06 65.8515 1167.86 60.1802 Q1173.69 54.509 1173.69 42.2752 Q1173.69 30.1225 1167.86 24.4918 Q1162.06 18.8205 1149.55 18.8205 L1139.66 18.8205 M1131.48 12.096 L1148.29 12.096 Q1165.87 12.096 1174.09 19.4281 Q1182.32 26.7198 1182.32 42.2752 Q1182.32 57.9117 1174.05 65.2439 Q1165.79 72.576 1148.29 72.576 L1131.48 72.576 L1131.48 12.096 Z\" fill=\"#000000\" fill-rule=\"nonzero\" fill-opacity=\"1\" /><path clip-path=\"url(#clip560)\" d=\"M1233.85 48.0275 L1233.85 51.6733 L1199.57 51.6733 Q1200.06 59.3701 1204.19 63.421 Q1208.37 67.4314 1215.78 67.4314 Q1220.07 67.4314 1224.08 66.3781 Q1228.13 65.3249 1232.1 63.2184 L1232.1 70.267 Q1228.09 71.9684 1223.88 72.8596 Q1219.67 73.7508 1215.33 73.7508 Q1204.48 73.7508 1198.12 67.4314 Q1191.8 61.1119 1191.8 50.3365 Q1191.8 39.1965 1197.79 32.6746 Q1203.83 26.1121 1214.04 26.1121 Q1223.19 26.1121 1228.5 32.0264 Q1233.85 37.9003 1233.85 48.0275 M1226.39 45.84 Q1226.31 39.7232 1222.95 36.0774 Q1219.63 32.4315 1214.12 32.4315 Q1207.88 32.4315 1204.11 35.9558 Q1200.39 39.4801 1199.82 45.8805 L1226.39 45.84 Z\" fill=\"#000000\" fill-rule=\"nonzero\" fill-opacity=\"1\" /><path clip-path=\"url(#clip560)\" d=\"M1253.29 65.7705 L1253.29 89.8329 L1245.8 89.8329 L1245.8 27.2059 L1253.29 27.2059 L1253.29 34.0924 Q1255.64 30.0415 1259.2 28.0971 Q1262.81 26.1121 1267.79 26.1121 Q1276.06 26.1121 1281.2 32.6746 Q1286.39 39.2371 1286.39 49.9314 Q1286.39 60.6258 1281.2 67.1883 Q1276.06 73.7508 1267.79 73.7508 Q1262.81 73.7508 1259.2 71.8063 Q1255.64 69.8214 1253.29 65.7705 M1278.65 49.9314 Q1278.65 41.7081 1275.25 37.0496 Q1271.88 32.3505 1265.97 32.3505 Q1260.05 32.3505 1256.65 37.0496 Q1253.29 41.7081 1253.29 49.9314 Q1253.29 58.1548 1256.65 62.8538 Q1260.05 67.5124 1265.97 67.5124 Q1271.88 67.5124 1275.25 62.8538 Q1278.65 58.1548 1278.65 49.9314 Z\" fill=\"#000000\" fill-rule=\"nonzero\" fill-opacity=\"1\" /><path clip-path=\"url(#clip560)\" d=\"M1298.74 9.54393 L1306.19 9.54393 L1306.19 72.576 L1298.74 72.576 L1298.74 9.54393 Z\" fill=\"#000000\" fill-rule=\"nonzero\" fill-opacity=\"1\" /><path clip-path=\"url(#clip560)\" d=\"M1360.6 48.0275 L1360.6 51.6733 L1326.33 51.6733 Q1326.81 59.3701 1330.95 63.421 Q1335.12 67.4314 1342.53 67.4314 Q1346.83 67.4314 1350.84 66.3781 Q1354.89 65.3249 1358.86 63.2184 L1358.86 70.267 Q1354.85 71.9684 1350.63 72.8596 Q1346.42 73.7508 1342.09 73.7508 Q1331.23 73.7508 1324.87 67.4314 Q1318.55 61.1119 1318.55 50.3365 Q1318.55 39.1965 1324.55 32.6746 Q1330.58 26.1121 1340.79 26.1121 Q1349.94 26.1121 1355.25 32.0264 Q1360.6 37.9003 1360.6 48.0275 M1353.14 45.84 Q1353.06 39.7232 1349.7 36.0774 Q1346.38 32.4315 1340.87 32.4315 Q1334.63 32.4315 1330.86 35.9558 Q1327.14 39.4801 1326.57 45.8805 L1353.14 45.84 Z\" fill=\"#000000\" fill-rule=\"nonzero\" fill-opacity=\"1\" /><path clip-path=\"url(#clip560)\" d=\"M1380.2 14.324 L1380.2 27.2059 L1395.56 27.2059 L1395.56 32.9987 L1380.2 32.9987 L1380.2 57.6282 Q1380.2 63.1779 1381.7 64.7578 Q1383.24 66.3376 1387.9 66.3376 L1395.56 66.3376 L1395.56 72.576 L1387.9 72.576 Q1379.27 72.576 1375.99 69.3758 Q1372.71 66.1351 1372.71 57.6282 L1372.71 32.9987 L1367.24 32.9987 L1367.24 27.2059 L1372.71 27.2059 L1372.71 14.324 L1380.2 14.324 Z\" fill=\"#000000\" fill-rule=\"nonzero\" fill-opacity=\"1\" /><path clip-path=\"url(#clip560)\" d=\"M1405.36 27.2059 L1412.81 27.2059 L1412.81 72.576 L1405.36 72.576 L1405.36 27.2059 M1405.36 9.54393 L1412.81 9.54393 L1412.81 18.9825 L1405.36 18.9825 L1405.36 9.54393 Z\" fill=\"#000000\" fill-rule=\"nonzero\" fill-opacity=\"1\" /><path clip-path=\"url(#clip560)\" d=\"M1445.99 32.4315 Q1440 32.4315 1436.51 37.1306 Q1433.03 41.7891 1433.03 49.9314 Q1433.03 58.0738 1436.47 62.7728 Q1439.96 67.4314 1445.99 67.4314 Q1451.95 67.4314 1455.43 62.7323 Q1458.91 58.0333 1458.91 49.9314 Q1458.91 41.8701 1455.43 37.1711 Q1451.95 32.4315 1445.99 32.4315 M1445.99 26.1121 Q1455.71 26.1121 1461.26 32.4315 Q1466.81 38.7509 1466.81 49.9314 Q1466.81 61.0714 1461.26 67.4314 Q1455.71 73.7508 1445.99 73.7508 Q1436.23 73.7508 1430.68 67.4314 Q1425.17 61.0714 1425.17 49.9314 Q1425.17 38.7509 1430.68 32.4315 Q1436.23 26.1121 1445.99 26.1121 Z\" fill=\"#000000\" fill-rule=\"nonzero\" fill-opacity=\"1\" /><path clip-path=\"url(#clip560)\" d=\"M1516.88 45.1919 L1516.88 72.576 L1509.43 72.576 L1509.43 45.4349 Q1509.43 38.994 1506.92 35.7938 Q1504.41 32.5936 1499.38 32.5936 Q1493.35 32.5936 1489.86 36.4419 Q1486.38 40.2903 1486.38 46.9338 L1486.38 72.576 L1478.88 72.576 L1478.88 27.2059 L1486.38 27.2059 L1486.38 34.2544 Q1489.05 30.163 1492.66 28.1376 Q1496.3 26.1121 1501.04 26.1121 Q1508.86 26.1121 1512.87 30.9732 Q1516.88 35.7938 1516.88 45.1919 Z\" fill=\"#000000\" fill-rule=\"nonzero\" fill-opacity=\"1\" /><path clip-path=\"url(#clip560)\" d=\"M1566.63 18.8205 L1566.63 41.5461 L1576.92 41.5461 Q1582.63 41.5461 1585.75 38.5889 Q1588.87 35.6318 1588.87 30.163 Q1588.87 24.7348 1585.75 21.7777 Q1582.63 18.8205 1576.92 18.8205 L1566.63 18.8205 M1558.44 12.096 L1576.92 12.096 Q1587.08 12.096 1592.27 16.714 Q1597.5 21.2916 1597.5 30.163 Q1597.5 39.1155 1592.27 43.6931 Q1587.08 48.2706 1576.92 48.2706 L1566.63 48.2706 L1566.63 72.576 L1558.44 72.576 L1558.44 12.096 Z\" fill=\"#000000\" fill-rule=\"nonzero\" fill-opacity=\"1\" /><path clip-path=\"url(#clip560)\" d=\"M1632.98 34.1734 Q1631.73 33.4443 1630.23 33.1202 Q1628.77 32.7556 1626.99 32.7556 Q1620.67 32.7556 1617.26 36.8875 Q1613.9 40.9789 1613.9 48.6757 L1613.9 72.576 L1606.41 72.576 L1606.41 27.2059 L1613.9 27.2059 L1613.9 34.2544 Q1616.25 30.1225 1620.02 28.1376 Q1623.79 26.1121 1629.17 26.1121 Q1629.94 26.1121 1630.87 26.2337 Q1631.81 26.3147 1632.94 26.5172 L1632.98 34.1734 Z\" fill=\"#000000\" fill-rule=\"nonzero\" fill-opacity=\"1\" /><path clip-path=\"url(#clip560)\" d=\"M1656.56 32.4315 Q1650.56 32.4315 1647.08 37.1306 Q1643.59 41.7891 1643.59 49.9314 Q1643.59 58.0738 1647.04 62.7728 Q1650.52 67.4314 1656.56 67.4314 Q1662.51 67.4314 1666 62.7323 Q1669.48 58.0333 1669.48 49.9314 Q1669.48 41.8701 1666 37.1711 Q1662.51 32.4315 1656.56 32.4315 M1656.56 26.1121 Q1666.28 26.1121 1671.83 32.4315 Q1677.38 38.7509 1677.38 49.9314 Q1677.38 61.0714 1671.83 67.4314 Q1666.28 73.7508 1656.56 73.7508 Q1646.79 73.7508 1641.24 67.4314 Q1635.74 61.0714 1635.74 49.9314 Q1635.74 38.7509 1641.24 32.4315 Q1646.79 26.1121 1656.56 26.1121 Z\" fill=\"#000000\" fill-rule=\"nonzero\" fill-opacity=\"1\" /><path clip-path=\"url(#clip560)\" d=\"M1712.7 9.54393 L1712.7 15.7418 L1705.57 15.7418 Q1701.56 15.7418 1699.98 17.3622 Q1698.44 18.9825 1698.44 23.1955 L1698.44 27.2059 L1710.72 27.2059 L1710.72 32.9987 L1698.44 32.9987 L1698.44 72.576 L1690.95 72.576 L1690.95 32.9987 L1683.82 32.9987 L1683.82 27.2059 L1690.95 27.2059 L1690.95 24.0462 Q1690.95 16.471 1694.47 13.0277 Q1698 9.54393 1705.65 9.54393 L1712.7 9.54393 Z\" fill=\"#000000\" fill-rule=\"nonzero\" fill-opacity=\"1\" /><path clip-path=\"url(#clip560)\" d=\"M1718.94 27.2059 L1726.39 27.2059 L1726.39 72.576 L1718.94 72.576 L1718.94 27.2059 M1718.94 9.54393 L1726.39 9.54393 L1726.39 18.9825 L1718.94 18.9825 L1718.94 9.54393 Z\" fill=\"#000000\" fill-rule=\"nonzero\" fill-opacity=\"1\" /><path clip-path=\"url(#clip560)\" d=\"M1741.99 9.54393 L1749.44 9.54393 L1749.44 72.576 L1741.99 72.576 L1741.99 9.54393 Z\" fill=\"#000000\" fill-rule=\"nonzero\" fill-opacity=\"1\" /><path clip-path=\"url(#clip560)\" d=\"M1803.85 48.0275 L1803.85 51.6733 L1769.58 51.6733 Q1770.06 59.3701 1774.2 63.421 Q1778.37 67.4314 1785.78 67.4314 Q1790.08 67.4314 1794.09 66.3781 Q1798.14 65.3249 1802.11 63.2184 L1802.11 70.267 Q1798.1 71.9684 1793.88 72.8596 Q1789.67 73.7508 1785.34 73.7508 Q1774.48 73.7508 1768.12 67.4314 Q1761.8 61.1119 1761.8 50.3365 Q1761.8 39.1965 1767.8 32.6746 Q1773.83 26.1121 1784.04 26.1121 Q1793.19 26.1121 1798.5 32.0264 Q1803.85 37.9003 1803.85 48.0275 M1796.39 45.84 Q1796.31 39.7232 1792.95 36.0774 Q1789.63 32.4315 1784.12 32.4315 Q1777.88 32.4315 1774.11 35.9558 Q1770.39 39.4801 1769.82 45.8805 L1796.39 45.84 Z\" fill=\"#000000\" fill-rule=\"nonzero\" fill-opacity=\"1\" /><polyline clip-path=\"url(#clip562)\" style=\"stroke:#009af9; stroke-linecap:round; stroke-linejoin:round; stroke-width:12; stroke-opacity:1; fill:none\" points=\"314.385,598.935 1014.07,159.523 1303.89,454.754 1713.75,741.2 1878.92,1246.78 2293.39,1361.21 \"/>\n",
       "<circle clip-path=\"url(#clip562)\" cx=\"314.385\" cy=\"598.935\" r=\"18\" fill=\"#ffffff\" fill-rule=\"evenodd\" fill-opacity=\"1\" stroke=\"#0000ff\" stroke-opacity=\"1\" stroke-width=\"3.2\"/>\n",
       "<circle clip-path=\"url(#clip562)\" cx=\"1014.07\" cy=\"159.523\" r=\"18\" fill=\"#ffffff\" fill-rule=\"evenodd\" fill-opacity=\"1\" stroke=\"#0000ff\" stroke-opacity=\"1\" stroke-width=\"3.2\"/>\n",
       "<circle clip-path=\"url(#clip562)\" cx=\"1303.89\" cy=\"454.754\" r=\"18\" fill=\"#ffffff\" fill-rule=\"evenodd\" fill-opacity=\"1\" stroke=\"#0000ff\" stroke-opacity=\"1\" stroke-width=\"3.2\"/>\n",
       "<circle clip-path=\"url(#clip562)\" cx=\"1713.75\" cy=\"741.2\" r=\"18\" fill=\"#ffffff\" fill-rule=\"evenodd\" fill-opacity=\"1\" stroke=\"#0000ff\" stroke-opacity=\"1\" stroke-width=\"3.2\"/>\n",
       "<circle clip-path=\"url(#clip562)\" cx=\"1878.92\" cy=\"1246.78\" r=\"18\" fill=\"#ffffff\" fill-rule=\"evenodd\" fill-opacity=\"1\" stroke=\"#0000ff\" stroke-opacity=\"1\" stroke-width=\"3.2\"/>\n",
       "<circle clip-path=\"url(#clip562)\" cx=\"2293.39\" cy=\"1361.21\" r=\"18\" fill=\"#ffffff\" fill-rule=\"evenodd\" fill-opacity=\"1\" stroke=\"#0000ff\" stroke-opacity=\"1\" stroke-width=\"3.2\"/>\n",
       "</svg>\n"
      ]
     },
     "execution_count": 276,
     "metadata": {},
     "output_type": "execute_result"
    }
   ],
   "source": [
    "Plots.plot(radius_list, depletion_prof, xlabel=L\"\\rho\", ylabel=L\"Q_{\\rho}\", title=\"Charge Depletion Profile\", guidefontsize=17,legend=false, linewidth=3, xticks=0:1:12, yticks=0:0.10:0.46, m = (5, :white, stroke(1, :blue)))"
   ]
  },
  {
   "cell_type": "code",
   "execution_count": null,
   "id": "005fc0e8-16c5-4043-8523-1f27742c0a86",
   "metadata": {},
   "outputs": [],
   "source": []
  },
  {
   "cell_type": "code",
   "execution_count": null,
   "id": "c98809b1-6771-4051-952a-559bcbd8aa10",
   "metadata": {},
   "outputs": [],
   "source": []
  }
 ],
 "metadata": {
  "kernelspec": {
   "display_name": "Julia 1.9.3",
   "language": "julia",
   "name": "julia-1.9"
  },
  "language_info": {
   "file_extension": ".jl",
   "mimetype": "application/julia",
   "name": "julia",
   "version": "1.9.3"
  }
 },
 "nbformat": 4,
 "nbformat_minor": 5
}
