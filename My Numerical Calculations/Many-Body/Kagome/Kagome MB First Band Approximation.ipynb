{
 "cells": [
  {
   "cell_type": "code",
   "execution_count": 33,
   "id": "9d65a56d",
   "metadata": {
    "tags": []
   },
   "outputs": [
    {
     "data": {
      "text/plain": [
       "get_SP_H (generic function with 1 method)"
      ]
     },
     "execution_count": 33,
     "metadata": {},
     "output_type": "execute_result"
    }
   ],
   "source": [
    "using NBInclude\n",
    "@nbinclude(\"Kagome SP.ipynb\")"
   ]
  },
  {
   "cell_type": "code",
   "execution_count": 2,
   "id": "0865fe06",
   "metadata": {
    "tags": []
   },
   "outputs": [],
   "source": [
    "using QuantumOptics\n",
    "\n",
    "# https://juliapackages.com/p/einsum\n",
    "using Einsum\n",
    "\n",
    "using BenchmarkTools\n",
    "\n",
    "using LinearAlgebra"
   ]
  },
  {
   "cell_type": "code",
   "execution_count": 3,
   "id": "72e09226",
   "metadata": {
    "tags": []
   },
   "outputs": [
    {
     "data": {
      "text/plain": [
       "0.2"
      ]
     },
     "execution_count": 3,
     "metadata": {},
     "output_type": "execute_result"
    }
   ],
   "source": [
    "Nx = 5; Ny = 5; N=Nx*Ny*3; cut_off = 5\n",
    "PN = [0,1,2,3]\n",
    "U = 0.001\n",
    "# t1=-1;L1=0 ;t2=L2=0\n",
    "# t1=L1=0;t2=L2=-1\n",
    "t1 = -1;L1 = 0.28;t2 = 0.3;L2 = 0.2;\n",
    "# t1=t2=-1;L1=L2=0"
   ]
  },
  {
   "cell_type": "code",
   "execution_count": 4,
   "id": "faf26652-5e48-4f33-8abe-67ef77bd6732",
   "metadata": {
    "tags": []
   },
   "outputs": [],
   "source": [
    "sp_basis = NLevelBasis(N)\n",
    "sp_matrix = get_SP_H(Nx, Ny, t1, L1, t2, L2);"
   ]
  },
  {
   "cell_type": "code",
   "execution_count": 5,
   "id": "a8d3931c",
   "metadata": {
    "tags": []
   },
   "outputs": [
    {
     "data": {
      "text/plain": [
       "get_sp_op (generic function with 1 method)"
      ]
     },
     "execution_count": 5,
     "metadata": {},
     "output_type": "execute_result"
    }
   ],
   "source": [
    "function get_sp_op(sp_basis, sp_matrix)\n",
    "  \n",
    "    H = SparseOperator(sp_basis)\n",
    "\n",
    "    for m in 1:N\n",
    "        for n in 1:N\n",
    "            H += sp_matrix.data[m,n] * transition(sp_basis, m, n)\n",
    "        end\n",
    "    end\n",
    "    \n",
    "    return H\n",
    "end"
   ]
  },
  {
   "cell_type": "code",
   "execution_count": 6,
   "id": "63cd0f75-8cde-4635-a93f-b43c8bc7d70b",
   "metadata": {
    "tags": []
   },
   "outputs": [],
   "source": [
    "H1 = get_sp_op(sp_basis, sp_matrix);"
   ]
  },
  {
   "cell_type": "code",
   "execution_count": 7,
   "id": "54574062-6ad5-4ef0-bcb3-4c466fff5311",
   "metadata": {
    "tags": []
   },
   "outputs": [
    {
     "data": {
      "text/plain": [
       "true"
      ]
     },
     "execution_count": 7,
     "metadata": {},
     "output_type": "execute_result"
    }
   ],
   "source": [
    "#check operator form\n",
    "eigenenergies(dense(H1)) == eigenenergies(dense(sp_matrix))"
   ]
  },
  {
   "cell_type": "code",
   "execution_count": 8,
   "id": "3b820db5",
   "metadata": {
    "tags": []
   },
   "outputs": [
    {
     "data": {
      "text/plain": [
       "get_sub_states (generic function with 1 method)"
      ]
     },
     "execution_count": 8,
     "metadata": {},
     "output_type": "execute_result"
    }
   ],
   "source": [
    "function get_sub_states(sp_op, cut_off)\n",
    "    \n",
    "    E0, states0 = eigenstates(dense(sp_op))\n",
    "    states = states0[1:cut_off]\n",
    "    \n",
    "    return states\n",
    "end"
   ]
  },
  {
   "cell_type": "code",
   "execution_count": 9,
   "id": "33b796d2-62fe-44a0-a564-d306d96ed16a",
   "metadata": {
    "tags": []
   },
   "outputs": [],
   "source": [
    "sub_states = get_sub_states(H1, cut_off);"
   ]
  },
  {
   "cell_type": "code",
   "execution_count": 10,
   "id": "6c0f0db6",
   "metadata": {
    "tags": []
   },
   "outputs": [
    {
     "data": {
      "text/plain": [
       "get_projector_op (generic function with 1 method)"
      ]
     },
     "execution_count": 10,
     "metadata": {},
     "output_type": "execute_result"
    }
   ],
   "source": [
    "function get_projector_op(states, basis)\n",
    "    \n",
    "    b_sub = SubspaceBasis(basis,states)\n",
    "    P = projector(b_sub, basis)\n",
    "    Pt = dagger(P)\n",
    "    \n",
    "    return b_sub, P, Pt\n",
    "end"
   ]
  },
  {
   "cell_type": "code",
   "execution_count": 11,
   "id": "2337e8cd-5529-452a-947d-e63ca4e70ac7",
   "metadata": {
    "tags": []
   },
   "outputs": [],
   "source": [
    "b_sub, P, Pt = get_projector_op(sub_states, sp_basis);"
   ]
  },
  {
   "cell_type": "code",
   "execution_count": 12,
   "id": "f67102ba-1e4c-40d3-b8dc-2f8b585233ac",
   "metadata": {
    "tags": []
   },
   "outputs": [
    {
     "data": {
      "text/plain": [
       "get_subspace_op (generic function with 1 method)"
      ]
     },
     "execution_count": 12,
     "metadata": {},
     "output_type": "execute_result"
    }
   ],
   "source": [
    "function get_subspace_op(sp_op, P, Pt)\n",
    "    return P*sp_op*Pt\n",
    "end"
   ]
  },
  {
   "cell_type": "code",
   "execution_count": 13,
   "id": "39a357f9-9187-469d-8b85-8097ad10bb88",
   "metadata": {
    "tags": []
   },
   "outputs": [],
   "source": [
    "H1_sub = get_subspace_op(H1, P, Pt);"
   ]
  },
  {
   "cell_type": "code",
   "execution_count": 14,
   "id": "c78ac145",
   "metadata": {
    "tags": []
   },
   "outputs": [],
   "source": [
    "states_mb = bosonstates(b_sub, PN) \n",
    "basis_mb = ManyBodyBasis(b_sub, states_mb);"
   ]
  },
  {
   "cell_type": "code",
   "execution_count": 15,
   "id": "922bdb38-4290-4c4f-8176-77e9f032d27b",
   "metadata": {
    "tags": []
   },
   "outputs": [
    {
     "data": {
      "text/plain": [
       "get_mb_op (generic function with 1 method)"
      ]
     },
     "execution_count": 15,
     "metadata": {},
     "output_type": "execute_result"
    }
   ],
   "source": [
    "function get_mb_op(basis_mb, basis, sp_op)\n",
    "    \n",
    "    Op_MB = SparseOperator(basis_mb)\n",
    "    \n",
    "    for i in 1:length(basis)\n",
    "        for j in 1:length(basis)\n",
    "            Op_MB += sp_op.data[i,j] * transition(basis_mb, i, j)\n",
    "        end\n",
    "    end\n",
    "    \n",
    "    return Op_MB\n",
    "end"
   ]
  },
  {
   "cell_type": "code",
   "execution_count": 16,
   "id": "e9a37f7f",
   "metadata": {
    "tags": []
   },
   "outputs": [],
   "source": [
    "H1_MB = get_mb_op(basis_mb, b_sub, H1_sub);"
   ]
  },
  {
   "cell_type": "code",
   "execution_count": 17,
   "id": "cccfa7c5-2169-43d5-a03d-769599c4687d",
   "metadata": {
    "tags": []
   },
   "outputs": [
    {
     "data": {
      "text/plain": [
       "Kagome_Finite_U (generic function with 1 method)"
      ]
     },
     "execution_count": 17,
     "metadata": {},
     "output_type": "execute_result"
    }
   ],
   "source": [
    "@nbinclude(\"Kagome MB .ipynb\"; regex=r\"#.*executeme\")"
   ]
  },
  {
   "cell_type": "code",
   "execution_count": 18,
   "id": "83e1c3be-f909-4683-9a8e-9c893d207be0",
   "metadata": {
    "tags": []
   },
   "outputs": [
    {
     "data": {
      "text/plain": [
       "get_hubbard_int (generic function with 1 method)"
      ]
     },
     "execution_count": 18,
     "metadata": {},
     "output_type": "execute_result"
    }
   ],
   "source": [
    "function get_hubbard_int(P, Pt, b_sub, cut_off)\n",
    "    \n",
    "    bcut_mb = get_Bosonic_MB_Basis(cut_off, PN)\n",
    "    \n",
    "    @time begin\n",
    "    P1 = P.data\n",
    "    P1t = Pt.data;\n",
    "\n",
    "    @einsum P4[k,l,m,n] := P1[k,i] * P1[l,i] * P1t[i,m] * P1t[i,n]\n",
    "\n",
    "    Vint_mb_cut = SparseOperator(bcut_mb)\n",
    "        \n",
    "    for k in 1:cut_off\n",
    "        for l in 1:cut_off\n",
    "            for m in 1:cut_off\n",
    "                for n in 1:cut_off\n",
    "                    a1t = create(bcut_mb, k)\n",
    "                    a2t = create(bcut_mb, l)\n",
    "                    a2  = destroy(bcut_mb, m)      \n",
    "                    a1  = destroy(bcut_mb, n)      \n",
    "                    Vint_mb_cut += U/2*P4[k,l,m,n]*a1t*a2t*a2*a1\n",
    "                end\n",
    "            end\n",
    "        end\n",
    "    end\n",
    "    end\n",
    "    \n",
    "    return Vint_mb_cut\n",
    "end"
   ]
  },
  {
   "cell_type": "code",
   "execution_count": 19,
   "id": "409cb213",
   "metadata": {
    "tags": []
   },
   "outputs": [
    {
     "name": "stdout",
     "output_type": "stream",
     "text": [
      "  0.387196 seconds (499.16 k allocations: 51.392 MiB, 90.87% compilation time)\n"
     ]
    }
   ],
   "source": [
    "H1_Int = get_hubbard_int(P, Pt, b_sub, cut_off);"
   ]
  },
  {
   "cell_type": "code",
   "execution_count": 20,
   "id": "f62bf8ee-c781-4657-a95e-7d5c574681e2",
   "metadata": {
    "tags": []
   },
   "outputs": [],
   "source": [
    "bcut_mb = get_Bosonic_MB_Basis(cut_off,PN)\n",
    "H1cut = SparseOperator(bcut_mb)\n",
    "H1cut.data = H1_MB.data\n",
    "H_MB = H1cut + H1_Int;"
   ]
  },
  {
   "cell_type": "code",
   "execution_count": 21,
   "id": "dcd68fec-34ab-4dad-9f6a-2a7e35283a29",
   "metadata": {
    "tags": []
   },
   "outputs": [
    {
     "data": {
      "text/plain": [
       "get_energies (generic function with 1 method)"
      ]
     },
     "execution_count": 21,
     "metadata": {},
     "output_type": "execute_result"
    }
   ],
   "source": [
    "using DataFrames\n",
    "\n",
    "function get_energies(pn, Energies, states, basis)\n",
    "    PN_Energies = Array{Float64}(undef, length(states[1]), 2)\n",
    "    for i in 1:length(Energies)\n",
    "        PN_Energies[i] = round(expect(number(basis), states[i])) #expected values (first column)\n",
    "        PN_Energies[i,2] = E[i] #eigen-values (second column)\n",
    "    end\n",
    "    df = DataFrame(PN_Energies, :auto)\n",
    "    df = filter(row -> (row.x1 == pn),  df)\n",
    "    \n",
    "    return df\n",
    "end"
   ]
  },
  {
   "cell_type": "code",
   "execution_count": 22,
   "id": "939551eb-6b62-4c52-8bb3-4184c7afb59a",
   "metadata": {
    "tags": []
   },
   "outputs": [
    {
     "data": {
      "text/html": [
       "<div class=\"data-frame\"><p>35 rows × 2 columns</p><table class=\"data-frame\"><thead><tr><th></th><th>x1</th><th>x2</th></tr><tr><th></th><th title=\"Float64\">Float64</th><th title=\"Float64\">Float64</th></tr></thead><tbody><tr><th>1</th><td>3.0</td><td>-8.39996</td></tr><tr><th>2</th><td>3.0</td><td>-8.37437</td></tr><tr><th>3</th><td>3.0</td><td>-8.37437</td></tr><tr><th>4</th><td>3.0</td><td>-8.37437</td></tr><tr><th>5</th><td>3.0</td><td>-8.37437</td></tr><tr><th>6</th><td>3.0</td><td>-8.3488</td></tr><tr><th>7</th><td>3.0</td><td>-8.34879</td></tr><tr><th>8</th><td>3.0</td><td>-8.34879</td></tr><tr><th>9</th><td>3.0</td><td>-8.34879</td></tr><tr><th>10</th><td>3.0</td><td>-8.34879</td></tr><tr><th>11</th><td>3.0</td><td>-8.34879</td></tr><tr><th>12</th><td>3.0</td><td>-8.34879</td></tr><tr><th>13</th><td>3.0</td><td>-8.34879</td></tr><tr><th>14</th><td>3.0</td><td>-8.34879</td></tr><tr><th>15</th><td>3.0</td><td>-8.34877</td></tr><tr><th>16</th><td>3.0</td><td>-8.32325</td></tr><tr><th>17</th><td>3.0</td><td>-8.32325</td></tr><tr><th>18</th><td>3.0</td><td>-8.32325</td></tr><tr><th>19</th><td>3.0</td><td>-8.32324</td></tr><tr><th>20</th><td>3.0</td><td>-8.32324</td></tr><tr><th>21</th><td>3.0</td><td>-8.32324</td></tr><tr><th>22</th><td>3.0</td><td>-8.32324</td></tr><tr><th>23</th><td>3.0</td><td>-8.32323</td></tr><tr><th>24</th><td>3.0</td><td>-8.32323</td></tr><tr><th>25</th><td>3.0</td><td>-8.32323</td></tr><tr><th>26</th><td>3.0</td><td>-8.32323</td></tr><tr><th>27</th><td>3.0</td><td>-8.32323</td></tr><tr><th>28</th><td>3.0</td><td>-8.32323</td></tr><tr><th>29</th><td>3.0</td><td>-8.32323</td></tr><tr><th>30</th><td>3.0</td><td>-8.32323</td></tr><tr><th>&vellip;</th><td>&vellip;</td><td>&vellip;</td></tr></tbody></table></div>"
      ],
      "text/latex": [
       "\\begin{tabular}{r|cc}\n",
       "\t& x1 & x2\\\\\n",
       "\t\\hline\n",
       "\t& Float64 & Float64\\\\\n",
       "\t\\hline\n",
       "\t1 & 3.0 & -8.39996 \\\\\n",
       "\t2 & 3.0 & -8.37437 \\\\\n",
       "\t3 & 3.0 & -8.37437 \\\\\n",
       "\t4 & 3.0 & -8.37437 \\\\\n",
       "\t5 & 3.0 & -8.37437 \\\\\n",
       "\t6 & 3.0 & -8.3488 \\\\\n",
       "\t7 & 3.0 & -8.34879 \\\\\n",
       "\t8 & 3.0 & -8.34879 \\\\\n",
       "\t9 & 3.0 & -8.34879 \\\\\n",
       "\t10 & 3.0 & -8.34879 \\\\\n",
       "\t11 & 3.0 & -8.34879 \\\\\n",
       "\t12 & 3.0 & -8.34879 \\\\\n",
       "\t13 & 3.0 & -8.34879 \\\\\n",
       "\t14 & 3.0 & -8.34879 \\\\\n",
       "\t15 & 3.0 & -8.34877 \\\\\n",
       "\t16 & 3.0 & -8.32325 \\\\\n",
       "\t17 & 3.0 & -8.32325 \\\\\n",
       "\t18 & 3.0 & -8.32325 \\\\\n",
       "\t19 & 3.0 & -8.32324 \\\\\n",
       "\t20 & 3.0 & -8.32324 \\\\\n",
       "\t21 & 3.0 & -8.32324 \\\\\n",
       "\t22 & 3.0 & -8.32324 \\\\\n",
       "\t23 & 3.0 & -8.32323 \\\\\n",
       "\t24 & 3.0 & -8.32323 \\\\\n",
       "\t25 & 3.0 & -8.32323 \\\\\n",
       "\t26 & 3.0 & -8.32323 \\\\\n",
       "\t27 & 3.0 & -8.32323 \\\\\n",
       "\t28 & 3.0 & -8.32323 \\\\\n",
       "\t29 & 3.0 & -8.32323 \\\\\n",
       "\t30 & 3.0 & -8.32323 \\\\\n",
       "\t$\\dots$ & $\\dots$ & $\\dots$ \\\\\n",
       "\\end{tabular}\n"
      ],
      "text/plain": [
       "\u001b[1m35×2 DataFrame\u001b[0m\n",
       "\u001b[1m Row \u001b[0m│\u001b[1m x1      \u001b[0m\u001b[1m x2       \u001b[0m\n",
       "\u001b[1m     \u001b[0m│\u001b[90m Float64 \u001b[0m\u001b[90m Float64  \u001b[0m\n",
       "─────┼───────────────────\n",
       "   1 │     3.0  -8.39996\n",
       "   2 │     3.0  -8.37437\n",
       "   3 │     3.0  -8.37437\n",
       "   4 │     3.0  -8.37437\n",
       "   5 │     3.0  -8.37437\n",
       "   6 │     3.0  -8.3488\n",
       "   7 │     3.0  -8.34879\n",
       "   8 │     3.0  -8.34879\n",
       "   9 │     3.0  -8.34879\n",
       "  10 │     3.0  -8.34879\n",
       "  11 │     3.0  -8.34879\n",
       "  ⋮  │    ⋮        ⋮\n",
       "  26 │     3.0  -8.32323\n",
       "  27 │     3.0  -8.32323\n",
       "  28 │     3.0  -8.32323\n",
       "  29 │     3.0  -8.32323\n",
       "  30 │     3.0  -8.32323\n",
       "  31 │     3.0  -8.32323\n",
       "  32 │     3.0  -8.32321\n",
       "  33 │     3.0  -8.3232\n",
       "  34 │     3.0  -8.3232\n",
       "  35 │     3.0  -8.32319\n",
       "\u001b[36m          14 rows omitted\u001b[0m"
      ]
     },
     "execution_count": 22,
     "metadata": {},
     "output_type": "execute_result"
    }
   ],
   "source": [
    "pn = 3\n",
    "E, S = eigenstates(dense(dense((H_MB+dagger(H_MB))/2)))\n",
    "get_energies(pn, E, S, bcut_mb)"
   ]
  },
  {
   "cell_type": "markdown",
   "id": "9000cb20-fc3f-4c65-9826-0479992a1fd5",
   "metadata": {
    "tags": []
   },
   "source": [
    "# Density-Profile"
   ]
  },
  {
   "cell_type": "code",
   "execution_count": 23,
   "id": "7374f5c9-e6ef-432c-8b21-f94558fdb80f",
   "metadata": {
    "tags": []
   },
   "outputs": [
    {
     "data": {
      "text/plain": [
       "get_num_sub_list (generic function with 1 method)"
      ]
     },
     "execution_count": 23,
     "metadata": {},
     "output_type": "execute_result"
    }
   ],
   "source": [
    "function get_num_sub_list(sp_basis, P, Pt)\n",
    "    num_sub_list = []\n",
    "    for m in 1:N\n",
    "        NM = transition(sp_basis, m, m)\n",
    "        NMP = get_subspace_op(NM, P, Pt)\n",
    "        push!(num_sub_list, NMP)\n",
    "    end\n",
    "    return num_sub_list\n",
    "end"
   ]
  },
  {
   "cell_type": "code",
   "execution_count": 24,
   "id": "b29552d4-5ab9-410e-8203-0ca1c444059b",
   "metadata": {
    "tags": []
   },
   "outputs": [],
   "source": [
    "num_sub_list = get_num_sub_list(sp_basis,P,Pt);"
   ]
  },
  {
   "cell_type": "code",
   "execution_count": 25,
   "id": "e974bcba-339d-458e-bc78-0cdc2ca0c503",
   "metadata": {
    "tags": []
   },
   "outputs": [
    {
     "data": {
      "text/plain": [
       "get_mb_op (generic function with 1 method)"
      ]
     },
     "execution_count": 25,
     "metadata": {},
     "output_type": "execute_result"
    }
   ],
   "source": [
    "function get_mb_op(basis_mb, basis, sp_op)\n",
    "    \n",
    "    Op_MB = SparseOperator(basis_mb)\n",
    "    \n",
    "    for i in 1:length(basis)\n",
    "        for j in 1:length(basis)\n",
    "            Op_MB += sp_op.data[i,j] * transition(basis_mb, i, j)\n",
    "        end\n",
    "    end\n",
    "    \n",
    "    return Op_MB\n",
    "end"
   ]
  },
  {
   "cell_type": "code",
   "execution_count": 26,
   "id": "788c54ae-c9a7-43bf-acea-4a40dadd5d49",
   "metadata": {
    "tags": []
   },
   "outputs": [
    {
     "data": {
      "text/plain": [
       "get_num_mb_list (generic function with 1 method)"
      ]
     },
     "execution_count": 26,
     "metadata": {},
     "output_type": "execute_result"
    }
   ],
   "source": [
    "function get_num_mb_list(basis_mb, basis, num_sub_list)\n",
    "    \n",
    "    num_mb_list = []\n",
    "    \n",
    "    for m in 1:N\n",
    "        NMP = get_mb_op(basis_mb, basis, num_sub_list[m])\n",
    "        push!(num_mb_list, NMP)\n",
    "    end\n",
    "    \n",
    "    return num_mb_list\n",
    "end"
   ]
  },
  {
   "cell_type": "code",
   "execution_count": 27,
   "id": "20382845-dde4-4fbb-85e2-035c6b08baf5",
   "metadata": {
    "tags": []
   },
   "outputs": [],
   "source": [
    "num_mb_list = get_num_mb_list(basis_mb, b_sub, num_sub_list);"
   ]
  },
  {
   "cell_type": "markdown",
   "id": "092b5256-466a-427e-8ce4-528144ed5278",
   "metadata": {},
   "source": [
    "## num_mb_list[i] & number(bcut_mb,i)"
   ]
  },
  {
   "cell_type": "code",
   "execution_count": 94,
   "id": "2dea7292-5d22-47c0-9c54-07f12ed6fa58",
   "metadata": {
    "tags": []
   },
   "outputs": [
    {
     "data": {
      "text/plain": [
       "Operator(dim=56x56)\n",
       "  basis: ManyBody(onebodybasis=Subspace(superbasis=NLevel(N=48), states:5), states:56)sparse([2, 3, 4, 5, 6, 2, 3, 4, 5, 6  …  51, 52, 54, 55, 56, 36, 46, 52, 55, 56], [2, 2, 2, 2, 2, 3, 3, 3, 3, 3  …  55, 55, 55, 55, 55, 56, 56, 56, 56, 56], ComplexF64[0.02083333333333677 + 0.0im, 0.02434771592652171 - 0.014300956203994im, 0.00141509808154258 + 0.00082916494984738im, -0.0194894041552408 - 0.01105566925726306im, 0.00528383030426468 + 0.00498833530899649im, 0.02434771592652171 + 0.014300956203994im, 0.03827177372097706 + 0.0im, 0.00108463461426752 + 0.00194042536049291im, -0.01518796003655812 - 0.02629907566652964im, 0.00275093925443414 + 0.00945688304737332im  …  0.00078833632930482 - 0.00018177623461874im, -0.00176382681003412 - 2.472357421504e-5im, -0.0151802966023766 + 0.00372512665376931im, 0.02916813123507372 + 0.0im, -0.01314652249464073 - 0.00322605431447874im, 0.00915186254555854 - 0.00864005020037171im, 0.00476476655721558 - 0.01637980191928738im, 0.00096551087624774 - 0.00022262951109018im, -0.01314652249464073 + 0.00322605431447874im, 0.00760353866485029 + 0.0im], 56, 56)"
      ]
     },
     "execution_count": 94,
     "metadata": {},
     "output_type": "execute_result"
    }
   ],
   "source": [
    "num_mb_list[21] #num 21"
   ]
  },
  {
   "cell_type": "code",
   "execution_count": 95,
   "id": "417a3632-0196-424b-b933-e28e95535a63",
   "metadata": {
    "tags": []
   },
   "outputs": [
    {
     "data": {
      "text/plain": [
       "Operator(dim=56x56)\n",
       "  basis: ManyBody(onebodybasis=NLevel(N=5), states:56)sparse([6, 11, 15, 18, 20, 21, 26, 30, 33, 35  …  40, 43, 45, 46, 49, 51, 52, 54, 55, 56], [6, 11, 15, 18, 20, 21, 26, 30, 33, 35  …  40, 43, 45, 46, 49, 51, 52, 54, 55, 56], ComplexF64[1.0 + 0.0im, 1.0 + 0.0im, 1.0 + 0.0im, 1.0 + 0.0im, 1.0 + 0.0im, 2.0 + 0.0im, 1.0 + 0.0im, 1.0 + 0.0im, 1.0 + 0.0im, 1.0 + 0.0im  …  1.0 + 0.0im, 1.0 + 0.0im, 1.0 + 0.0im, 2.0 + 0.0im, 1.0 + 0.0im, 1.0 + 0.0im, 2.0 + 0.0im, 1.0 + 0.0im, 2.0 + 0.0im, 3.0 + 0.0im], 56, 56)"
      ]
     },
     "execution_count": 95,
     "metadata": {},
     "output_type": "execute_result"
    }
   ],
   "source": [
    "number(bcut_mb,5) #num 5"
   ]
  },
  {
   "cell_type": "markdown",
   "id": "2269caca-2d8b-47ca-b94c-17cc6fe769a7",
   "metadata": {},
   "source": [
    "## Error (IT DOESN'T WORK?)"
   ]
  },
  {
   "cell_type": "code",
   "execution_count": 97,
   "id": "f83838bd-a43c-4a6c-b983-abb684661e89",
   "metadata": {
    "tags": []
   },
   "outputs": [
    {
     "data": {
      "text/plain": [
       "Operator{ManyBodyBasis{Vector{Int64}, SubspaceBasis{Vector{Int64}, NLevelBasis{Int64}, Ket{NLevelBasis{Int64}, Vector{ComplexF64}}, 0x6e89b9c05d6b6b3a, UInt64}, 0xbfa4cc919ddd872b, UInt64}, ManyBodyBasis{Vector{Int64}, SubspaceBasis{Vector{Int64}, NLevelBasis{Int64}, Ket{NLevelBasis{Int64}, Vector{ComplexF64}}, 0x6e89b9c05d6b6b3a, UInt64}, 0xbfa4cc919ddd872b, UInt64}, Matrix{ComplexF64}}"
      ]
     },
     "execution_count": 97,
     "metadata": {},
     "output_type": "execute_result"
    }
   ],
   "source": [
    "typeof(dense(num_mb_list[1]))"
   ]
  },
  {
   "cell_type": "code",
   "execution_count": 98,
   "id": "80b351a4-1b94-4ac3-bc19-4eccbe036073",
   "metadata": {
    "tags": []
   },
   "outputs": [
    {
     "data": {
      "text/plain": [
       "Ket{ManyBodyBasis{Vector{Int64}, NLevelBasis{Int64}, 0xbfa4cc919ddd872b, UInt64}, Vector{ComplexF64}}"
      ]
     },
     "execution_count": 98,
     "metadata": {},
     "output_type": "execute_result"
    }
   ],
   "source": [
    "typeof(S[1])"
   ]
  },
  {
   "cell_type": "code",
   "execution_count": 99,
   "id": "f40f1ab3-a1a5-44a5-bd3b-ea70ac2b483c",
   "metadata": {
    "tags": []
   },
   "outputs": [
    {
     "ename": "LoadError",
     "evalue": "MethodError: no method matching expect(::Operator{ManyBodyBasis{Vector{Int64}, SubspaceBasis{Vector{Int64}, NLevelBasis{Int64}, Ket{NLevelBasis{Int64}, Vector{ComplexF64}}, 0x6e89b9c05d6b6b3a, UInt64}, 0xbfa4cc919ddd872b, UInt64}, ManyBodyBasis{Vector{Int64}, SubspaceBasis{Vector{Int64}, NLevelBasis{Int64}, Ket{NLevelBasis{Int64}, Vector{ComplexF64}}, 0x6e89b9c05d6b6b3a, UInt64}, 0xbfa4cc919ddd872b, UInt64}, SparseArrays.SparseMatrixCSC{ComplexF64, Int64}}, ::Ket{ManyBodyBasis{Vector{Int64}, NLevelBasis{Int64}, 0xbfa4cc919ddd872b, UInt64}, Ket{ManyBodyBasis{Vector{Int64}, NLevelBasis{Int64}, 0xbfa4cc919ddd872b, UInt64}, Vector{ComplexF64}}})\n\u001b[0mClosest candidates are:\n\u001b[0m  expect(::AbstractOperator, \u001b[91m::Vector\u001b[39m) at C:\\Users\\Can\\.julia\\packages\\QuantumOpticsBase\\iQrMn\\src\\operators.jl:301\n\u001b[0m  expect(::DataOperator{B, B}, \u001b[91m::Ket{B}\u001b[39m) where B at C:\\Users\\Can\\.julia\\packages\\QuantumOpticsBase\\iQrMn\\src\\operators_dense.jl:208\n\u001b[0m  expect(::AbstractOperator{B, B}, \u001b[91m::Ket{B}\u001b[39m) where B at C:\\Users\\Can\\.julia\\packages\\QuantumOpticsBase\\iQrMn\\src\\operators.jl:279\n\u001b[0m  ...",
     "output_type": "error",
     "traceback": [
      "MethodError: no method matching expect(::Operator{ManyBodyBasis{Vector{Int64}, SubspaceBasis{Vector{Int64}, NLevelBasis{Int64}, Ket{NLevelBasis{Int64}, Vector{ComplexF64}}, 0x6e89b9c05d6b6b3a, UInt64}, 0xbfa4cc919ddd872b, UInt64}, ManyBodyBasis{Vector{Int64}, SubspaceBasis{Vector{Int64}, NLevelBasis{Int64}, Ket{NLevelBasis{Int64}, Vector{ComplexF64}}, 0x6e89b9c05d6b6b3a, UInt64}, 0xbfa4cc919ddd872b, UInt64}, SparseArrays.SparseMatrixCSC{ComplexF64, Int64}}, ::Ket{ManyBodyBasis{Vector{Int64}, NLevelBasis{Int64}, 0xbfa4cc919ddd872b, UInt64}, Ket{ManyBodyBasis{Vector{Int64}, NLevelBasis{Int64}, 0xbfa4cc919ddd872b, UInt64}, Vector{ComplexF64}}})\n\u001b[0mClosest candidates are:\n\u001b[0m  expect(::AbstractOperator, \u001b[91m::Vector\u001b[39m) at C:\\Users\\Can\\.julia\\packages\\QuantumOpticsBase\\iQrMn\\src\\operators.jl:301\n\u001b[0m  expect(::DataOperator{B, B}, \u001b[91m::Ket{B}\u001b[39m) where B at C:\\Users\\Can\\.julia\\packages\\QuantumOpticsBase\\iQrMn\\src\\operators_dense.jl:208\n\u001b[0m  expect(::AbstractOperator{B, B}, \u001b[91m::Ket{B}\u001b[39m) where B at C:\\Users\\Can\\.julia\\packages\\QuantumOpticsBase\\iQrMn\\src\\operators.jl:279\n\u001b[0m  ...",
      "",
      "Stacktrace:",
      " [1] top-level scope",
      "   @ In[99]:1",
      " [2] eval",
      "   @ .\\boot.jl:373 [inlined]",
      " [3] include_string(mapexpr::typeof(REPL.softscope), mod::Module, code::String, filename::String)",
      "   @ Base .\\loading.jl:1196"
     ]
    }
   ],
   "source": [
    "expect(num_mb_list[1],Ket(bcut_mb,S[1]))"
   ]
  },
  {
   "cell_type": "markdown",
   "id": "404adfb7-75e3-4486-929a-e245a5af5a2e",
   "metadata": {},
   "source": [
    "## Version Check"
   ]
  },
  {
   "cell_type": "code",
   "execution_count": 100,
   "id": "d37eaaa1-098b-4103-9d1b-843b67d7af67",
   "metadata": {
    "tags": []
   },
   "outputs": [
    {
     "name": "stdout",
     "output_type": "stream",
     "text": [
      "\u001b[32m\u001b[1m      Status\u001b[22m\u001b[39m `C:\\Users\\Can\\.julia\\environments\\v1.7\\Project.toml`\n",
      " \u001b[90m [7d9fca2a] \u001b[39mArpack v0.5.4\n",
      " \u001b[90m [6e4b80f9] \u001b[39mBenchmarkTools v1.3.2\n",
      " \u001b[90m [ada6cbde] \u001b[39mBravais v0.1.5\n",
      " \u001b[90m [23470ee3] \u001b[39mBrillouin v0.5.6\n",
      " \u001b[90m [34da2185] \u001b[39mCompat v3.45.0\n",
      " \u001b[90m [a93c6f00] \u001b[39mDataFrames v1.3.3\n",
      " \u001b[90m [b7d42ee7] \u001b[39mEinsum v0.4.1\n",
      " \u001b[90m [7073ff75] \u001b[39mIJulia v1.23.2\n",
      " \u001b[90m [c21dee59] \u001b[39mLattices v0.1.0\n",
      " \u001b[90m [23992714] \u001b[39mMAT v0.10.3\n",
      " \u001b[90m [0db19996] \u001b[39mNBInclude v2.3.0\n",
      " \u001b[90m [b8a86587] \u001b[39mNearestNeighbors v0.4.10\n",
      " \u001b[90m [645ca80c] \u001b[39mNeighborhood v0.2.3\n",
      " \u001b[90m [6fe1bfb0] \u001b[39mOffsetArrays v1.10.8\n",
      " \u001b[90m [f0f68f2c] \u001b[39mPlotlyJS v0.18.8\n",
      " \u001b[90m [91a5bcdd] \u001b[39mPlots v1.27.1\n",
      " \u001b[90m [438e738f] \u001b[39mPyCall v1.95.1\n",
      " \u001b[90m [d330b81b] \u001b[39mPyPlot v2.10.0\n",
      " \u001b[90m [6e0679c1] \u001b[39mQuantumOptics v1.0.3\n",
      " \u001b[90m [db00978d] \u001b[39mTightBinding v0.1.3\n",
      " \u001b[90m [770da0de] \u001b[39mUpdateJulia v0.4.0\n"
     ]
    }
   ],
   "source": [
    "using Pkg\n",
    "Pkg.status()"
   ]
  },
  {
   "cell_type": "markdown",
   "id": "53bcdb24-0768-4e9a-8f21-61d2e6b175c0",
   "metadata": {},
   "source": [
    "## nm_mb_list -> NM_MB_Matrix -> Operator (IT WORK!)"
   ]
  },
  {
   "cell_type": "code",
   "execution_count": 28,
   "id": "5ce7ff06-1c92-47de-9368-24134a31d7f0",
   "metadata": {
    "tags": []
   },
   "outputs": [
    {
     "data": {
      "text/plain": [
       "0.03999999913304204 + 5.3761287751095486e-21im"
      ]
     },
     "execution_count": 28,
     "metadata": {},
     "output_type": "execute_result"
    }
   ],
   "source": [
    "NM_MB_Array_Storage = zeros(Complex{Float64},length(bcut_mb),length(bcut_mb),N);\n",
    "NM_MB_Matrix = zeros(Complex{Float64},length(bcut_mb),length(bcut_mb));\n",
    "for m in 1:N\n",
    "    for i in 1:length(bcut_mb)\n",
    "        for j in 1:length(bcut_mb)\n",
    "            NM_MB_Matrix[i,j] = num_mb_list[m].data[i,j]\n",
    "        end\n",
    "    end\n",
    "    NM_MB_Array_Storage[:,:,m] = NM_MB_Matrix\n",
    "end\n",
    "BL = BR = bcut_mb\n",
    "index_number_op = 6\n",
    "T = NM_MB_Array_Storage[:,:,index_number_op]\n",
    "Op = Operator(BL,BR,T);\n",
    "expect(Op, S[1])"
   ]
  },
  {
   "cell_type": "code",
   "execution_count": 29,
   "id": "86c74c5d-e75d-49e3-bf3b-8d2563f62bc6",
   "metadata": {
    "tags": []
   },
   "outputs": [
    {
     "data": {
      "text/plain": [
       "4-element Vector{Int64}:\n",
       " 0\n",
       " 1\n",
       " 2\n",
       " 3"
      ]
     },
     "execution_count": 29,
     "metadata": {},
     "output_type": "execute_result"
    }
   ],
   "source": [
    "PN"
   ]
  },
  {
   "cell_type": "code",
   "execution_count": 30,
   "id": "fcde3e3d-b254-40bd-a49b-def4247ae65e",
   "metadata": {
    "tags": []
   },
   "outputs": [
    {
     "name": "stdout",
     "output_type": "stream",
     "text": [
      "1\t0.03276073762274579 + 3.2260953852865373e-18im\n",
      "2\t0.04964175104634896 + 2.088994773521371e-18im\n",
      "3\t0.028454034061014526 + 2.8811802177906357e-18im\n",
      "4\t0.03513325046452836 + 1.1761099680082013e-18im\n",
      "5\t0.037102185579949855 - 1.049116983686641e-18im\n",
      "6\t0.03251758537821768 - 8.1004338027459955e-19im\n",
      "7\t0.034635357606109786 + 1.5701520157002609e-18im\n",
      "8\t0.035283178411265465 + 1.1321931947601336e-18im\n",
      "9\t0.033677686721954675 - 2.602810522115449e-19im\n",
      "10\t0.05108839524803562 - 1.9704763741288643e-18im\n",
      "11\t0.035792787409430774 + 8.987563958608763e-19im\n",
      "12\t0.06533496795506316 + 1.5059047165775082e-18im\n",
      "13\t0.027176991952796464 + 1.0422297963193742e-18im\n",
      "14\t0.05395109808180051 - 7.169087062668375e-19im\n",
      "15\t0.06118555847625529 - 5.501107736955661e-18im\n",
      "16\t0.029842517220198768 - 8.89736792612204e-20im\n",
      "17\t0.04878832889942881 - 1.9345889267645753e-18im\n",
      "18\t0.03756806947152915 - 1.1350016991219499e-18im\n",
      "19\t0.0303987520150631 + 8.020386561477991e-19im\n",
      "20\t0.05533194351505958 - 1.4382773377520137e-18im\n",
      "21\t0.03651983096601085 - 3.428415111647906e-18im\n",
      "22\t0.042491079991697475 - 1.2115184260990338e-18im\n",
      "23\t0.04879030037823997 + 1.2488961847396792e-18im\n",
      "24\t0.04956617509783346 - 1.6602208037365255e-18im\n",
      "25\t0.045528202753528035 - 2.307436733081951e-18im\n",
      "26\t0.036754943873734645 - 3.954957019425828e-18im\n",
      "27\t0.03422006819443502 + 2.223407435459387e-18im\n",
      "28\t0.03574548600560966 - 6.018534568363233e-19im\n",
      "29\t0.03255700466769807 - 3.929503915882793e-18im\n",
      "30\t0.06650699395459521 + 9.897652463905326e-19im\n",
      "31\t0.035155137303188096 - 5.760533607198448e-19im\n",
      "32\t0.029410616947849105 - 6.397736617818702e-19im\n",
      "33\t0.03838428847691631 + 2.287561986955957e-18im\n",
      "34\t0.02869483437055916 + 2.5418067274214874e-18im\n",
      "35\t0.041562104361225205 + 1.723317960724105e-18im\n",
      "36\t0.038196575175237044 + 4.786170163314446e-19im\n",
      "37\t0.037917747711091083 + 2.410984985769535e-18im\n",
      "38\t0.05299518974945497 + 2.90009405792583e-18im\n",
      "39\t0.06415328634012021 - 3.2653408450489064e-18im\n",
      "40\t0.03402555343339273 + 1.4118806860863453e-18im\n",
      "41\t0.054186688763148694 + 1.1139850043109323e-19im\n",
      "42\t0.03457682125234654 + 7.608011132297518e-20im\n",
      "43\t0.04265469749441102 - 3.729623676010401e-18im\n",
      "44\t0.029756626973486428 - 7.830378994442851e-19im\n",
      "45\t0.043512098766268326 - 5.47649181289395e-19im\n",
      "46\t0.03127369298518589 - 1.008926927285589e-18im\n",
      "47\t0.028789005164691545 - 5.050971615401925e-22im\n",
      "48\t0.03235917776412627 - 1.272644147538403e-18im\n",
      "49\t0.035247151064890674 - 4.531564487758507e-19im\n",
      "50\t0.02797046524212461 - 1.5101790851511708e-18im\n",
      "51\t0.03182818303300844 + 2.7863002621606335e-18im\n",
      "52\t0.03337007950920243 + 2.2262120817991274e-18im\n",
      "53\t0.03800245455933384 + 3.3293307504450744e-18im\n",
      "54\t0.056308995088291666 - 6.90662410833372e-19im\n",
      "55\t0.02791843259260646 - 2.2813123660094804e-19im\n",
      "56\t0.052058710746649486 + 2.9646410226125257e-18im\n",
      "57\t0.06440137945312459 + 9.757982645890706e-19im\n",
      "58\t0.04399223433486499 + 2.8573369434289478e-18im\n",
      "59\t0.041794203828886684 - 2.6728162778465807e-18im\n",
      "60\t0.02727895484651099 + 3.805487511914936e-19im\n",
      "61\t0.03466825837173742 - 5.235433021248221e-19im\n",
      "62\t0.03371416102319466 - 1.2539720493216401e-18im\n",
      "63\t0.027730342046326014 + 2.9562311290234873e-19im\n",
      "64\t0.033212175305440725 + 2.4657826769720583e-18im\n",
      "65\t0.027362984100565025 - 5.003397421070189e-19im\n",
      "66\t0.02963561890066641 - 9.136323021371049e-19im\n",
      "67\t0.033951687644635804 - 3.379268031765813e-20im\n",
      "68\t0.033938348942917966 + 2.035082850583224e-18im\n",
      "69\t0.03737664819313876 - 1.569394350570905e-18im\n",
      "70\t0.036982327360910616 + 1.1428646389179831e-18im\n",
      "71\t0.0433933001739482 - 1.4950718946520284e-19im\n",
      "72\t0.08308406198543465 + 3.250213044504697e-18im\n",
      "73\t0.03443752084298732 + 2.034812543468678e-18im\n",
      "74\t0.052591516657272144 + 6.598251725273577e-19im\n",
      "75\t0.03580039809845233 - 3.4163842074624354e-19im\n",
      "Max occ. number:3.0000000000000004 + 7.468836500221269e-18im"
     ]
    }
   ],
   "source": [
    "index_eig_states = 3\n",
    "Sum = 0\n",
    "expect_list=[]\n",
    "for i in 1:N\n",
    "    T = NM_MB_Array_Storage[:,:,i]\n",
    "    Op = Operator(BL,BR,T)\n",
    "    Sum += expect(Op, S[index_eig_states])\n",
    "    println(i,\"\\t\",expect(Op, S[index_eig_states]))\n",
    "    push!(expect_list,expect(Op, S[index_eig_states]))\n",
    "end\n",
    "print(\"Max occ. number:\", Sum)"
   ]
  },
  {
   "cell_type": "markdown",
   "id": "b7910ea5-8d40-46b8-9e86-afae813b8a78",
   "metadata": {},
   "source": [
    "# Kagome Plot"
   ]
  },
  {
   "cell_type": "code",
   "execution_count": 34,
   "id": "dd8f659c-ae3c-443c-ad2b-5483d8d25a9a",
   "metadata": {
    "tags": []
   },
   "outputs": [
    {
     "data": {
      "image/svg+xml": [
       "<?xml version=\"1.0\" encoding=\"utf-8\"?>\n",
       "<svg xmlns=\"http://www.w3.org/2000/svg\" xmlns:xlink=\"http://www.w3.org/1999/xlink\" width=\"600\" height=\"400\" viewBox=\"0 0 2400 1600\">\n",
       "<defs>\n",
       "  <clipPath id=\"clip660\">\n",
       "    <rect x=\"0\" y=\"0\" width=\"2400\" height=\"1600\"/>\n",
       "  </clipPath>\n",
       "</defs>\n",
       "<path clip-path=\"url(#clip660)\" d=\"\n",
       "M0 1600 L2400 1600 L2400 0 L0 0  Z\n",
       "  \" fill=\"#ffffff\" fill-rule=\"evenodd\" fill-opacity=\"1\"/>\n",
       "<defs>\n",
       "  <clipPath id=\"clip661\">\n",
       "    <rect x=\"480\" y=\"0\" width=\"1681\" height=\"1600\"/>\n",
       "  </clipPath>\n",
       "</defs>\n",
       "<path clip-path=\"url(#clip660)\" d=\"\n",
       "M112.177 1486.45 L2352.76 1486.45 L2352.76 47.2441 L112.177 47.2441  Z\n",
       "  \" fill=\"#ffffff\" fill-rule=\"evenodd\" fill-opacity=\"1\"/>\n",
       "<defs>\n",
       "  <clipPath id=\"clip662\">\n",
       "    <rect x=\"112\" y=\"47\" width=\"2242\" height=\"1440\"/>\n",
       "  </clipPath>\n",
       "</defs>\n",
       "<polyline clip-path=\"url(#clip660)\" style=\"stroke:#000000; stroke-linecap:round; stroke-linejoin:round; stroke-width:4; stroke-opacity:1; fill:none\" points=\"\n",
       "  112.177,1486.45 2352.76,1486.45 \n",
       "  \"/>\n",
       "<polyline clip-path=\"url(#clip660)\" style=\"stroke:#000000; stroke-linecap:round; stroke-linejoin:round; stroke-width:4; stroke-opacity:1; fill:none\" points=\"\n",
       "  175.59,1486.45 175.59,1467.55 \n",
       "  \"/>\n",
       "<polyline clip-path=\"url(#clip660)\" style=\"stroke:#000000; stroke-linecap:round; stroke-linejoin:round; stroke-width:4; stroke-opacity:1; fill:none\" points=\"\n",
       "  500.783,1486.45 500.783,1467.55 \n",
       "  \"/>\n",
       "<polyline clip-path=\"url(#clip660)\" style=\"stroke:#000000; stroke-linecap:round; stroke-linejoin:round; stroke-width:4; stroke-opacity:1; fill:none\" points=\"\n",
       "  825.975,1486.45 825.975,1467.55 \n",
       "  \"/>\n",
       "<polyline clip-path=\"url(#clip660)\" style=\"stroke:#000000; stroke-linecap:round; stroke-linejoin:round; stroke-width:4; stroke-opacity:1; fill:none\" points=\"\n",
       "  1151.17,1486.45 1151.17,1467.55 \n",
       "  \"/>\n",
       "<polyline clip-path=\"url(#clip660)\" style=\"stroke:#000000; stroke-linecap:round; stroke-linejoin:round; stroke-width:4; stroke-opacity:1; fill:none\" points=\"\n",
       "  1476.36,1486.45 1476.36,1467.55 \n",
       "  \"/>\n",
       "<polyline clip-path=\"url(#clip660)\" style=\"stroke:#000000; stroke-linecap:round; stroke-linejoin:round; stroke-width:4; stroke-opacity:1; fill:none\" points=\"\n",
       "  1801.55,1486.45 1801.55,1467.55 \n",
       "  \"/>\n",
       "<polyline clip-path=\"url(#clip660)\" style=\"stroke:#000000; stroke-linecap:round; stroke-linejoin:round; stroke-width:4; stroke-opacity:1; fill:none\" points=\"\n",
       "  2126.75,1486.45 2126.75,1467.55 \n",
       "  \"/>\n",
       "<path clip-path=\"url(#clip660)\" d=\"M175.59 1517.37 Q171.979 1517.37 170.15 1520.93 Q168.344 1524.47 168.344 1531.6 Q168.344 1538.71 170.15 1542.27 Q171.979 1545.82 175.59 1545.82 Q179.224 1545.82 181.03 1542.27 Q182.858 1538.71 182.858 1531.6 Q182.858 1524.47 181.03 1520.93 Q179.224 1517.37 175.59 1517.37 M175.59 1513.66 Q181.4 1513.66 184.455 1518.27 Q187.534 1522.85 187.534 1531.6 Q187.534 1540.33 184.455 1544.94 Q181.4 1549.52 175.59 1549.52 Q169.78 1549.52 166.701 1544.94 Q163.645 1540.33 163.645 1531.6 Q163.645 1522.85 166.701 1518.27 Q169.78 1513.66 175.59 1513.66 Z\" fill=\"#000000\" fill-rule=\"evenodd\" fill-opacity=\"1\" /><path clip-path=\"url(#clip660)\" d=\"M495.435 1544.91 L511.755 1544.91 L511.755 1548.85 L489.81 1548.85 L489.81 1544.91 Q492.472 1542.16 497.056 1537.53 Q501.662 1532.88 502.843 1531.53 Q505.088 1529.01 505.968 1527.27 Q506.871 1525.51 506.871 1523.82 Q506.871 1521.07 504.926 1519.33 Q503.005 1517.6 499.903 1517.6 Q497.704 1517.6 495.25 1518.36 Q492.82 1519.13 490.042 1520.68 L490.042 1515.95 Q492.866 1514.82 495.32 1514.24 Q497.773 1513.66 499.81 1513.66 Q505.181 1513.66 508.375 1516.35 Q511.57 1519.03 511.57 1523.52 Q511.57 1525.65 510.759 1527.57 Q509.972 1529.47 507.866 1532.07 Q507.287 1532.74 504.185 1535.95 Q501.084 1539.15 495.435 1544.91 Z\" fill=\"#000000\" fill-rule=\"evenodd\" fill-opacity=\"1\" /><path clip-path=\"url(#clip660)\" d=\"M828.985 1518.36 L817.179 1536.81 L828.985 1536.81 L828.985 1518.36 M827.758 1514.29 L833.637 1514.29 L833.637 1536.81 L838.568 1536.81 L838.568 1540.7 L833.637 1540.7 L833.637 1548.85 L828.985 1548.85 L828.985 1540.7 L813.383 1540.7 L813.383 1536.19 L827.758 1514.29 Z\" fill=\"#000000\" fill-rule=\"evenodd\" fill-opacity=\"1\" /><path clip-path=\"url(#clip660)\" d=\"M1151.57 1529.7 Q1148.43 1529.7 1146.57 1531.86 Q1144.74 1534.01 1144.74 1537.76 Q1144.74 1541.49 1146.57 1543.66 Q1148.43 1545.82 1151.57 1545.82 Q1154.72 1545.82 1156.55 1543.66 Q1158.4 1541.49 1158.4 1537.76 Q1158.4 1534.01 1156.55 1531.86 Q1154.72 1529.7 1151.57 1529.7 M1160.86 1515.05 L1160.86 1519.31 Q1159.1 1518.48 1157.29 1518.04 Q1155.51 1517.6 1153.75 1517.6 Q1149.12 1517.6 1146.67 1520.72 Q1144.24 1523.85 1143.89 1530.17 Q1145.25 1528.15 1147.31 1527.09 Q1149.37 1526 1151.85 1526 Q1157.06 1526 1160.07 1529.17 Q1163.1 1532.32 1163.1 1537.76 Q1163.1 1543.08 1159.95 1546.3 Q1156.8 1549.52 1151.57 1549.52 Q1145.58 1549.52 1142.41 1544.94 Q1139.24 1540.33 1139.24 1531.6 Q1139.24 1523.41 1143.12 1518.55 Q1147.01 1513.66 1153.56 1513.66 Q1155.32 1513.66 1157.11 1514.01 Q1158.91 1514.36 1160.86 1515.05 Z\" fill=\"#000000\" fill-rule=\"evenodd\" fill-opacity=\"1\" /><path clip-path=\"url(#clip660)\" d=\"M1476.36 1532.44 Q1473.03 1532.44 1471.11 1534.22 Q1469.21 1536 1469.21 1539.13 Q1469.21 1542.25 1471.11 1544.03 Q1473.03 1545.82 1476.36 1545.82 Q1479.69 1545.82 1481.62 1544.03 Q1483.54 1542.23 1483.54 1539.13 Q1483.54 1536 1481.62 1534.22 Q1479.72 1532.44 1476.36 1532.44 M1471.69 1530.45 Q1468.68 1529.7 1466.99 1527.64 Q1465.32 1525.58 1465.32 1522.62 Q1465.32 1518.48 1468.26 1516.07 Q1471.22 1513.66 1476.36 1513.66 Q1481.52 1513.66 1484.46 1516.07 Q1487.4 1518.48 1487.4 1522.62 Q1487.4 1525.58 1485.71 1527.64 Q1484.05 1529.7 1481.06 1530.45 Q1484.44 1531.23 1486.31 1533.52 Q1488.21 1535.82 1488.21 1539.13 Q1488.21 1544.15 1485.13 1546.83 Q1482.08 1549.52 1476.36 1549.52 Q1470.64 1549.52 1467.56 1546.83 Q1464.51 1544.15 1464.51 1539.13 Q1464.51 1535.82 1466.41 1533.52 Q1468.31 1531.23 1471.69 1530.45 M1469.97 1523.06 Q1469.97 1525.75 1471.64 1527.25 Q1473.33 1528.76 1476.36 1528.76 Q1479.37 1528.76 1481.06 1527.25 Q1482.77 1525.75 1482.77 1523.06 Q1482.77 1520.38 1481.06 1518.87 Q1479.37 1517.37 1476.36 1517.37 Q1473.33 1517.37 1471.64 1518.87 Q1469.97 1520.38 1469.97 1523.06 Z\" fill=\"#000000\" fill-rule=\"evenodd\" fill-opacity=\"1\" /><path clip-path=\"url(#clip660)\" d=\"M1776.24 1544.91 L1783.88 1544.91 L1783.88 1518.55 L1775.57 1520.21 L1775.57 1515.95 L1783.83 1514.29 L1788.51 1514.29 L1788.51 1544.91 L1796.15 1544.91 L1796.15 1548.85 L1776.24 1548.85 L1776.24 1544.91 Z\" fill=\"#000000\" fill-rule=\"evenodd\" fill-opacity=\"1\" /><path clip-path=\"url(#clip660)\" d=\"M1815.59 1517.37 Q1811.98 1517.37 1810.15 1520.93 Q1808.35 1524.47 1808.35 1531.6 Q1808.35 1538.71 1810.15 1542.27 Q1811.98 1545.82 1815.59 1545.82 Q1819.23 1545.82 1821.03 1542.27 Q1822.86 1538.71 1822.86 1531.6 Q1822.86 1524.47 1821.03 1520.93 Q1819.23 1517.37 1815.59 1517.37 M1815.59 1513.66 Q1821.4 1513.66 1824.46 1518.27 Q1827.54 1522.85 1827.54 1531.6 Q1827.54 1540.33 1824.46 1544.94 Q1821.4 1549.52 1815.59 1549.52 Q1809.78 1549.52 1806.7 1544.94 Q1803.65 1540.33 1803.65 1531.6 Q1803.65 1522.85 1806.7 1518.27 Q1809.78 1513.66 1815.59 1513.66 Z\" fill=\"#000000\" fill-rule=\"evenodd\" fill-opacity=\"1\" /><path clip-path=\"url(#clip660)\" d=\"M2102.23 1544.91 L2109.87 1544.91 L2109.87 1518.55 L2101.56 1520.21 L2101.56 1515.95 L2109.83 1514.29 L2114.5 1514.29 L2114.5 1544.91 L2122.14 1544.91 L2122.14 1548.85 L2102.23 1548.85 L2102.23 1544.91 Z\" fill=\"#000000\" fill-rule=\"evenodd\" fill-opacity=\"1\" /><path clip-path=\"url(#clip660)\" d=\"M2135.61 1544.91 L2151.93 1544.91 L2151.93 1548.85 L2129.99 1548.85 L2129.99 1544.91 Q2132.65 1542.16 2137.23 1537.53 Q2141.84 1532.88 2143.02 1531.53 Q2145.27 1529.01 2146.14 1527.27 Q2147.05 1525.51 2147.05 1523.82 Q2147.05 1521.07 2145.1 1519.33 Q2143.18 1517.6 2140.08 1517.6 Q2137.88 1517.6 2135.43 1518.36 Q2133 1519.13 2130.22 1520.68 L2130.22 1515.95 Q2133.04 1514.82 2135.5 1514.24 Q2137.95 1513.66 2139.99 1513.66 Q2145.36 1513.66 2148.55 1516.35 Q2151.75 1519.03 2151.75 1523.52 Q2151.75 1525.65 2150.94 1527.57 Q2150.15 1529.47 2148.04 1532.07 Q2147.46 1532.74 2144.36 1535.95 Q2141.26 1539.15 2135.61 1544.91 Z\" fill=\"#000000\" fill-rule=\"evenodd\" fill-opacity=\"1\" /><polyline clip-path=\"url(#clip660)\" style=\"stroke:#000000; stroke-linecap:round; stroke-linejoin:round; stroke-width:4; stroke-opacity:1; fill:none\" points=\"\n",
       "  112.177,1486.45 112.177,47.2441 \n",
       "  \"/>\n",
       "<polyline clip-path=\"url(#clip660)\" style=\"stroke:#000000; stroke-linecap:round; stroke-linejoin:round; stroke-width:4; stroke-opacity:1; fill:none\" points=\"\n",
       "  112.177,1445.72 131.075,1445.72 \n",
       "  \"/>\n",
       "<polyline clip-path=\"url(#clip660)\" style=\"stroke:#000000; stroke-linecap:round; stroke-linejoin:round; stroke-width:4; stroke-opacity:1; fill:none\" points=\"\n",
       "  112.177,1097.32 131.075,1097.32 \n",
       "  \"/>\n",
       "<polyline clip-path=\"url(#clip660)\" style=\"stroke:#000000; stroke-linecap:round; stroke-linejoin:round; stroke-width:4; stroke-opacity:1; fill:none\" points=\"\n",
       "  112.177,748.923 131.075,748.923 \n",
       "  \"/>\n",
       "<polyline clip-path=\"url(#clip660)\" style=\"stroke:#000000; stroke-linecap:round; stroke-linejoin:round; stroke-width:4; stroke-opacity:1; fill:none\" points=\"\n",
       "  112.177,400.527 131.075,400.527 \n",
       "  \"/>\n",
       "<polyline clip-path=\"url(#clip660)\" style=\"stroke:#000000; stroke-linecap:round; stroke-linejoin:round; stroke-width:4; stroke-opacity:1; fill:none\" points=\"\n",
       "  112.177,52.1313 131.075,52.1313 \n",
       "  \"/>\n",
       "<path clip-path=\"url(#clip660)\" d=\"M64.2328 1431.51 Q60.6217 1431.51 58.793 1435.08 Q56.9875 1438.62 56.9875 1445.75 Q56.9875 1452.86 58.793 1456.42 Q60.6217 1459.96 64.2328 1459.96 Q67.867 1459.96 69.6726 1456.42 Q71.5013 1452.86 71.5013 1445.75 Q71.5013 1438.62 69.6726 1435.08 Q67.867 1431.51 64.2328 1431.51 M64.2328 1427.81 Q70.0429 1427.81 73.0985 1432.42 Q76.1772 1437 76.1772 1445.75 Q76.1772 1454.48 73.0985 1459.08 Q70.0429 1463.67 64.2328 1463.67 Q58.4226 1463.67 55.344 1459.08 Q52.2884 1454.48 52.2884 1445.75 Q52.2884 1437 55.344 1432.42 Q58.4226 1427.81 64.2328 1427.81 Z\" fill=\"#000000\" fill-rule=\"evenodd\" fill-opacity=\"1\" /><path clip-path=\"url(#clip660)\" d=\"M59.8578 1110.66 L76.1772 1110.66 L76.1772 1114.6 L54.2328 1114.6 L54.2328 1110.66 Q56.8949 1107.91 61.4782 1103.28 Q66.0846 1098.63 67.2652 1097.28 Q69.5105 1094.76 70.3902 1093.03 Q71.2929 1091.27 71.2929 1089.58 Q71.2929 1086.82 69.3485 1085.09 Q67.4272 1083.35 64.3254 1083.35 Q62.1263 1083.35 59.6726 1084.11 Q57.2421 1084.88 54.4643 1086.43 L54.4643 1081.71 Q57.2884 1080.57 59.7421 1079.99 Q62.1958 1079.41 64.2328 1079.41 Q69.6031 1079.41 72.7976 1082.1 Q75.992 1084.78 75.992 1089.28 Q75.992 1091.41 75.1818 1093.33 Q74.3948 1095.22 72.2883 1097.82 Q71.7096 1098.49 68.6078 1101.71 Q65.5059 1104.9 59.8578 1110.66 Z\" fill=\"#000000\" fill-rule=\"evenodd\" fill-opacity=\"1\" /><path clip-path=\"url(#clip660)\" d=\"M66.5939 735.718 L54.7884 754.167 L66.5939 754.167 L66.5939 735.718 M65.367 731.643 L71.2466 731.643 L71.2466 754.167 L76.1772 754.167 L76.1772 758.055 L71.2466 758.055 L71.2466 766.203 L66.5939 766.203 L66.5939 758.055 L50.9921 758.055 L50.9921 753.542 L65.367 731.643 Z\" fill=\"#000000\" fill-rule=\"evenodd\" fill-opacity=\"1\" /><path clip-path=\"url(#clip660)\" d=\"M64.6495 398.664 Q61.5013 398.664 59.6495 400.817 Q57.8208 402.97 57.8208 406.719 Q57.8208 410.446 59.6495 412.622 Q61.5013 414.775 64.6495 414.775 Q67.7976 414.775 69.6263 412.622 Q71.4781 410.446 71.4781 406.719 Q71.4781 402.97 69.6263 400.817 Q67.7976 398.664 64.6495 398.664 M73.9318 384.011 L73.9318 388.271 Q72.1726 387.437 70.367 386.997 Q68.5846 386.558 66.8254 386.558 Q62.1958 386.558 59.7421 389.683 Q57.3115 392.808 56.9643 399.127 Q58.33 397.113 60.3902 396.048 Q62.4504 394.96 64.9272 394.96 Q70.1355 394.96 73.1448 398.132 Q76.1772 401.28 76.1772 406.719 Q76.1772 412.044 73.029 415.261 Q69.8809 418.479 64.6495 418.479 Q58.6541 418.479 55.4828 413.895 Q52.3116 409.289 52.3116 400.562 Q52.3116 392.368 56.2004 387.507 Q60.0893 382.622 66.6402 382.622 Q68.3994 382.622 70.1818 382.97 Q71.9874 383.317 73.9318 384.011 Z\" fill=\"#000000\" fill-rule=\"evenodd\" fill-opacity=\"1\" /><path clip-path=\"url(#clip660)\" d=\"M64.3254 52.9994 Q60.9921 52.9994 59.0708 54.7818 Q57.1726 56.5642 57.1726 59.6891 Q57.1726 62.8141 59.0708 64.5965 Q60.9921 66.3789 64.3254 66.3789 Q67.6587 66.3789 69.58 64.5965 Q71.5013 62.791 71.5013 59.6891 Q71.5013 56.5642 69.58 54.7818 Q67.6819 52.9994 64.3254 52.9994 M59.6495 51.0086 Q56.6402 50.2679 54.9504 48.2077 Q53.2838 46.1475 53.2838 43.1846 Q53.2838 39.0411 56.2236 36.6337 Q59.1865 34.2263 64.3254 34.2263 Q69.4874 34.2263 72.4272 36.6337 Q75.367 39.0411 75.367 43.1846 Q75.367 46.1475 73.6772 48.2077 Q72.0105 50.2679 69.0244 51.0086 Q72.404 51.7957 74.279 54.0873 Q76.1772 56.379 76.1772 59.6891 Q76.1772 64.7123 73.0985 67.3974 Q70.0429 70.0826 64.3254 70.0826 Q58.6078 70.0826 55.5291 67.3974 Q52.4736 64.7123 52.4736 59.6891 Q52.4736 56.379 54.3717 54.0873 Q56.2699 51.7957 59.6495 51.0086 M57.9365 43.6244 Q57.9365 46.3096 59.6032 47.8142 Q61.293 49.3188 64.3254 49.3188 Q67.3346 49.3188 69.0244 47.8142 Q70.7374 46.3096 70.7374 43.6244 Q70.7374 40.9392 69.0244 39.4346 Q67.3346 37.93 64.3254 37.93 Q61.293 37.93 59.6032 39.4346 Q57.9365 40.9392 57.9365 43.6244 Z\" fill=\"#000000\" fill-rule=\"evenodd\" fill-opacity=\"1\" /><circle clip-path=\"url(#clip662)\" cx=\"175.59\" cy=\"1445.72\" r=\"14.4\" fill=\"#009af9\" fill-rule=\"evenodd\" fill-opacity=\"1\" stroke=\"#000000\" stroke-opacity=\"1\" stroke-width=\"3.2\"/>\n",
       "<circle clip-path=\"url(#clip662)\" cx=\"338.186\" cy=\"1445.72\" r=\"14.4\" fill=\"#009af9\" fill-rule=\"evenodd\" fill-opacity=\"1\" stroke=\"#000000\" stroke-opacity=\"1\" stroke-width=\"3.2\"/>\n",
       "<circle clip-path=\"url(#clip662)\" cx=\"256.888\" cy=\"1294.86\" r=\"14.4\" fill=\"#009af9\" fill-rule=\"evenodd\" fill-opacity=\"1\" stroke=\"#000000\" stroke-opacity=\"1\" stroke-width=\"3.2\"/>\n",
       "<circle clip-path=\"url(#clip662)\" cx=\"338.186\" cy=\"1144\" r=\"14.4\" fill=\"#009af9\" fill-rule=\"evenodd\" fill-opacity=\"1\" stroke=\"#000000\" stroke-opacity=\"1\" stroke-width=\"3.2\"/>\n",
       "<circle clip-path=\"url(#clip662)\" cx=\"500.783\" cy=\"1144\" r=\"14.4\" fill=\"#009af9\" fill-rule=\"evenodd\" fill-opacity=\"1\" stroke=\"#000000\" stroke-opacity=\"1\" stroke-width=\"3.2\"/>\n",
       "<circle clip-path=\"url(#clip662)\" cx=\"419.484\" cy=\"993.136\" r=\"14.4\" fill=\"#009af9\" fill-rule=\"evenodd\" fill-opacity=\"1\" stroke=\"#000000\" stroke-opacity=\"1\" stroke-width=\"3.2\"/>\n",
       "<circle clip-path=\"url(#clip662)\" cx=\"500.783\" cy=\"842.276\" r=\"14.4\" fill=\"#009af9\" fill-rule=\"evenodd\" fill-opacity=\"1\" stroke=\"#000000\" stroke-opacity=\"1\" stroke-width=\"3.2\"/>\n",
       "<circle clip-path=\"url(#clip662)\" cx=\"663.379\" cy=\"842.276\" r=\"14.4\" fill=\"#009af9\" fill-rule=\"evenodd\" fill-opacity=\"1\" stroke=\"#000000\" stroke-opacity=\"1\" stroke-width=\"3.2\"/>\n",
       "<circle clip-path=\"url(#clip662)\" cx=\"582.081\" cy=\"691.416\" r=\"14.4\" fill=\"#009af9\" fill-rule=\"evenodd\" fill-opacity=\"1\" stroke=\"#000000\" stroke-opacity=\"1\" stroke-width=\"3.2\"/>\n",
       "<circle clip-path=\"url(#clip662)\" cx=\"663.379\" cy=\"540.556\" r=\"14.4\" fill=\"#009af9\" fill-rule=\"evenodd\" fill-opacity=\"1\" stroke=\"#000000\" stroke-opacity=\"1\" stroke-width=\"3.2\"/>\n",
       "<circle clip-path=\"url(#clip662)\" cx=\"825.975\" cy=\"540.556\" r=\"14.4\" fill=\"#009af9\" fill-rule=\"evenodd\" fill-opacity=\"1\" stroke=\"#000000\" stroke-opacity=\"1\" stroke-width=\"3.2\"/>\n",
       "<circle clip-path=\"url(#clip662)\" cx=\"744.677\" cy=\"389.696\" r=\"14.4\" fill=\"#009af9\" fill-rule=\"evenodd\" fill-opacity=\"1\" stroke=\"#000000\" stroke-opacity=\"1\" stroke-width=\"3.2\"/>\n",
       "<circle clip-path=\"url(#clip662)\" cx=\"825.975\" cy=\"238.836\" r=\"14.4\" fill=\"#009af9\" fill-rule=\"evenodd\" fill-opacity=\"1\" stroke=\"#000000\" stroke-opacity=\"1\" stroke-width=\"3.2\"/>\n",
       "<circle clip-path=\"url(#clip662)\" cx=\"988.572\" cy=\"238.836\" r=\"14.4\" fill=\"#009af9\" fill-rule=\"evenodd\" fill-opacity=\"1\" stroke=\"#000000\" stroke-opacity=\"1\" stroke-width=\"3.2\"/>\n",
       "<circle clip-path=\"url(#clip662)\" cx=\"907.274\" cy=\"87.9763\" r=\"14.4\" fill=\"#009af9\" fill-rule=\"evenodd\" fill-opacity=\"1\" stroke=\"#000000\" stroke-opacity=\"1\" stroke-width=\"3.2\"/>\n",
       "<circle clip-path=\"url(#clip662)\" cx=\"500.783\" cy=\"1445.72\" r=\"14.4\" fill=\"#009af9\" fill-rule=\"evenodd\" fill-opacity=\"1\" stroke=\"#000000\" stroke-opacity=\"1\" stroke-width=\"3.2\"/>\n",
       "<circle clip-path=\"url(#clip662)\" cx=\"663.379\" cy=\"1445.72\" r=\"14.4\" fill=\"#009af9\" fill-rule=\"evenodd\" fill-opacity=\"1\" stroke=\"#000000\" stroke-opacity=\"1\" stroke-width=\"3.2\"/>\n",
       "<circle clip-path=\"url(#clip662)\" cx=\"582.081\" cy=\"1294.86\" r=\"14.4\" fill=\"#009af9\" fill-rule=\"evenodd\" fill-opacity=\"1\" stroke=\"#000000\" stroke-opacity=\"1\" stroke-width=\"3.2\"/>\n",
       "<circle clip-path=\"url(#clip662)\" cx=\"663.379\" cy=\"1144\" r=\"14.4\" fill=\"#009af9\" fill-rule=\"evenodd\" fill-opacity=\"1\" stroke=\"#000000\" stroke-opacity=\"1\" stroke-width=\"3.2\"/>\n",
       "<circle clip-path=\"url(#clip662)\" cx=\"825.975\" cy=\"1144\" r=\"14.4\" fill=\"#009af9\" fill-rule=\"evenodd\" fill-opacity=\"1\" stroke=\"#000000\" stroke-opacity=\"1\" stroke-width=\"3.2\"/>\n",
       "<circle clip-path=\"url(#clip662)\" cx=\"744.677\" cy=\"993.136\" r=\"14.4\" fill=\"#009af9\" fill-rule=\"evenodd\" fill-opacity=\"1\" stroke=\"#000000\" stroke-opacity=\"1\" stroke-width=\"3.2\"/>\n",
       "<circle clip-path=\"url(#clip662)\" cx=\"825.975\" cy=\"842.276\" r=\"14.4\" fill=\"#009af9\" fill-rule=\"evenodd\" fill-opacity=\"1\" stroke=\"#000000\" stroke-opacity=\"1\" stroke-width=\"3.2\"/>\n",
       "<circle clip-path=\"url(#clip662)\" cx=\"988.572\" cy=\"842.276\" r=\"14.4\" fill=\"#009af9\" fill-rule=\"evenodd\" fill-opacity=\"1\" stroke=\"#000000\" stroke-opacity=\"1\" stroke-width=\"3.2\"/>\n",
       "<circle clip-path=\"url(#clip662)\" cx=\"907.274\" cy=\"691.416\" r=\"14.4\" fill=\"#009af9\" fill-rule=\"evenodd\" fill-opacity=\"1\" stroke=\"#000000\" stroke-opacity=\"1\" stroke-width=\"3.2\"/>\n",
       "<circle clip-path=\"url(#clip662)\" cx=\"988.572\" cy=\"540.556\" r=\"14.4\" fill=\"#009af9\" fill-rule=\"evenodd\" fill-opacity=\"1\" stroke=\"#000000\" stroke-opacity=\"1\" stroke-width=\"3.2\"/>\n",
       "<circle clip-path=\"url(#clip662)\" cx=\"1151.17\" cy=\"540.556\" r=\"14.4\" fill=\"#009af9\" fill-rule=\"evenodd\" fill-opacity=\"1\" stroke=\"#000000\" stroke-opacity=\"1\" stroke-width=\"3.2\"/>\n",
       "<circle clip-path=\"url(#clip662)\" cx=\"1069.87\" cy=\"389.696\" r=\"14.4\" fill=\"#009af9\" fill-rule=\"evenodd\" fill-opacity=\"1\" stroke=\"#000000\" stroke-opacity=\"1\" stroke-width=\"3.2\"/>\n",
       "<circle clip-path=\"url(#clip662)\" cx=\"1151.17\" cy=\"238.836\" r=\"14.4\" fill=\"#009af9\" fill-rule=\"evenodd\" fill-opacity=\"1\" stroke=\"#000000\" stroke-opacity=\"1\" stroke-width=\"3.2\"/>\n",
       "<circle clip-path=\"url(#clip662)\" cx=\"1313.76\" cy=\"238.836\" r=\"14.4\" fill=\"#009af9\" fill-rule=\"evenodd\" fill-opacity=\"1\" stroke=\"#000000\" stroke-opacity=\"1\" stroke-width=\"3.2\"/>\n",
       "<circle clip-path=\"url(#clip662)\" cx=\"1232.47\" cy=\"87.9763\" r=\"14.4\" fill=\"#009af9\" fill-rule=\"evenodd\" fill-opacity=\"1\" stroke=\"#000000\" stroke-opacity=\"1\" stroke-width=\"3.2\"/>\n",
       "<circle clip-path=\"url(#clip662)\" cx=\"825.975\" cy=\"1445.72\" r=\"14.4\" fill=\"#009af9\" fill-rule=\"evenodd\" fill-opacity=\"1\" stroke=\"#000000\" stroke-opacity=\"1\" stroke-width=\"3.2\"/>\n",
       "<circle clip-path=\"url(#clip662)\" cx=\"988.572\" cy=\"1445.72\" r=\"14.4\" fill=\"#009af9\" fill-rule=\"evenodd\" fill-opacity=\"1\" stroke=\"#000000\" stroke-opacity=\"1\" stroke-width=\"3.2\"/>\n",
       "<circle clip-path=\"url(#clip662)\" cx=\"907.274\" cy=\"1294.86\" r=\"14.4\" fill=\"#009af9\" fill-rule=\"evenodd\" fill-opacity=\"1\" stroke=\"#000000\" stroke-opacity=\"1\" stroke-width=\"3.2\"/>\n",
       "<circle clip-path=\"url(#clip662)\" cx=\"988.572\" cy=\"1144\" r=\"14.4\" fill=\"#009af9\" fill-rule=\"evenodd\" fill-opacity=\"1\" stroke=\"#000000\" stroke-opacity=\"1\" stroke-width=\"3.2\"/>\n",
       "<circle clip-path=\"url(#clip662)\" cx=\"1151.17\" cy=\"1144\" r=\"14.4\" fill=\"#009af9\" fill-rule=\"evenodd\" fill-opacity=\"1\" stroke=\"#000000\" stroke-opacity=\"1\" stroke-width=\"3.2\"/>\n",
       "<circle clip-path=\"url(#clip662)\" cx=\"1069.87\" cy=\"993.136\" r=\"14.4\" fill=\"#009af9\" fill-rule=\"evenodd\" fill-opacity=\"1\" stroke=\"#000000\" stroke-opacity=\"1\" stroke-width=\"3.2\"/>\n",
       "<circle clip-path=\"url(#clip662)\" cx=\"1151.17\" cy=\"842.276\" r=\"14.4\" fill=\"#009af9\" fill-rule=\"evenodd\" fill-opacity=\"1\" stroke=\"#000000\" stroke-opacity=\"1\" stroke-width=\"3.2\"/>\n",
       "<circle clip-path=\"url(#clip662)\" cx=\"1313.76\" cy=\"842.276\" r=\"14.4\" fill=\"#009af9\" fill-rule=\"evenodd\" fill-opacity=\"1\" stroke=\"#000000\" stroke-opacity=\"1\" stroke-width=\"3.2\"/>\n",
       "<circle clip-path=\"url(#clip662)\" cx=\"1232.47\" cy=\"691.416\" r=\"14.4\" fill=\"#009af9\" fill-rule=\"evenodd\" fill-opacity=\"1\" stroke=\"#000000\" stroke-opacity=\"1\" stroke-width=\"3.2\"/>\n",
       "<circle clip-path=\"url(#clip662)\" cx=\"1313.76\" cy=\"540.556\" r=\"14.4\" fill=\"#009af9\" fill-rule=\"evenodd\" fill-opacity=\"1\" stroke=\"#000000\" stroke-opacity=\"1\" stroke-width=\"3.2\"/>\n",
       "<circle clip-path=\"url(#clip662)\" cx=\"1476.36\" cy=\"540.556\" r=\"14.4\" fill=\"#009af9\" fill-rule=\"evenodd\" fill-opacity=\"1\" stroke=\"#000000\" stroke-opacity=\"1\" stroke-width=\"3.2\"/>\n",
       "<circle clip-path=\"url(#clip662)\" cx=\"1395.06\" cy=\"389.696\" r=\"14.4\" fill=\"#009af9\" fill-rule=\"evenodd\" fill-opacity=\"1\" stroke=\"#000000\" stroke-opacity=\"1\" stroke-width=\"3.2\"/>\n",
       "<circle clip-path=\"url(#clip662)\" cx=\"1476.36\" cy=\"238.836\" r=\"14.4\" fill=\"#009af9\" fill-rule=\"evenodd\" fill-opacity=\"1\" stroke=\"#000000\" stroke-opacity=\"1\" stroke-width=\"3.2\"/>\n",
       "<circle clip-path=\"url(#clip662)\" cx=\"1638.96\" cy=\"238.836\" r=\"14.4\" fill=\"#009af9\" fill-rule=\"evenodd\" fill-opacity=\"1\" stroke=\"#000000\" stroke-opacity=\"1\" stroke-width=\"3.2\"/>\n",
       "<circle clip-path=\"url(#clip662)\" cx=\"1557.66\" cy=\"87.9763\" r=\"14.4\" fill=\"#009af9\" fill-rule=\"evenodd\" fill-opacity=\"1\" stroke=\"#000000\" stroke-opacity=\"1\" stroke-width=\"3.2\"/>\n",
       "<circle clip-path=\"url(#clip662)\" cx=\"1151.17\" cy=\"1445.72\" r=\"14.4\" fill=\"#009af9\" fill-rule=\"evenodd\" fill-opacity=\"1\" stroke=\"#000000\" stroke-opacity=\"1\" stroke-width=\"3.2\"/>\n",
       "<circle clip-path=\"url(#clip662)\" cx=\"1313.76\" cy=\"1445.72\" r=\"14.4\" fill=\"#009af9\" fill-rule=\"evenodd\" fill-opacity=\"1\" stroke=\"#000000\" stroke-opacity=\"1\" stroke-width=\"3.2\"/>\n",
       "<circle clip-path=\"url(#clip662)\" cx=\"1232.47\" cy=\"1294.86\" r=\"14.4\" fill=\"#009af9\" fill-rule=\"evenodd\" fill-opacity=\"1\" stroke=\"#000000\" stroke-opacity=\"1\" stroke-width=\"3.2\"/>\n",
       "<circle clip-path=\"url(#clip662)\" cx=\"1313.76\" cy=\"1144\" r=\"14.4\" fill=\"#009af9\" fill-rule=\"evenodd\" fill-opacity=\"1\" stroke=\"#000000\" stroke-opacity=\"1\" stroke-width=\"3.2\"/>\n",
       "<circle clip-path=\"url(#clip662)\" cx=\"1476.36\" cy=\"1144\" r=\"14.4\" fill=\"#009af9\" fill-rule=\"evenodd\" fill-opacity=\"1\" stroke=\"#000000\" stroke-opacity=\"1\" stroke-width=\"3.2\"/>\n",
       "<circle clip-path=\"url(#clip662)\" cx=\"1395.06\" cy=\"993.136\" r=\"14.4\" fill=\"#009af9\" fill-rule=\"evenodd\" fill-opacity=\"1\" stroke=\"#000000\" stroke-opacity=\"1\" stroke-width=\"3.2\"/>\n",
       "<circle clip-path=\"url(#clip662)\" cx=\"1476.36\" cy=\"842.276\" r=\"14.4\" fill=\"#009af9\" fill-rule=\"evenodd\" fill-opacity=\"1\" stroke=\"#000000\" stroke-opacity=\"1\" stroke-width=\"3.2\"/>\n",
       "<circle clip-path=\"url(#clip662)\" cx=\"1638.96\" cy=\"842.276\" r=\"14.4\" fill=\"#009af9\" fill-rule=\"evenodd\" fill-opacity=\"1\" stroke=\"#000000\" stroke-opacity=\"1\" stroke-width=\"3.2\"/>\n",
       "<circle clip-path=\"url(#clip662)\" cx=\"1557.66\" cy=\"691.416\" r=\"14.4\" fill=\"#009af9\" fill-rule=\"evenodd\" fill-opacity=\"1\" stroke=\"#000000\" stroke-opacity=\"1\" stroke-width=\"3.2\"/>\n",
       "<circle clip-path=\"url(#clip662)\" cx=\"1638.96\" cy=\"540.556\" r=\"14.4\" fill=\"#009af9\" fill-rule=\"evenodd\" fill-opacity=\"1\" stroke=\"#000000\" stroke-opacity=\"1\" stroke-width=\"3.2\"/>\n",
       "<circle clip-path=\"url(#clip662)\" cx=\"1801.55\" cy=\"540.556\" r=\"14.4\" fill=\"#009af9\" fill-rule=\"evenodd\" fill-opacity=\"1\" stroke=\"#000000\" stroke-opacity=\"1\" stroke-width=\"3.2\"/>\n",
       "<circle clip-path=\"url(#clip662)\" cx=\"1720.26\" cy=\"389.696\" r=\"14.4\" fill=\"#009af9\" fill-rule=\"evenodd\" fill-opacity=\"1\" stroke=\"#000000\" stroke-opacity=\"1\" stroke-width=\"3.2\"/>\n",
       "<circle clip-path=\"url(#clip662)\" cx=\"1801.55\" cy=\"238.836\" r=\"14.4\" fill=\"#009af9\" fill-rule=\"evenodd\" fill-opacity=\"1\" stroke=\"#000000\" stroke-opacity=\"1\" stroke-width=\"3.2\"/>\n",
       "<circle clip-path=\"url(#clip662)\" cx=\"1964.15\" cy=\"238.836\" r=\"14.4\" fill=\"#009af9\" fill-rule=\"evenodd\" fill-opacity=\"1\" stroke=\"#000000\" stroke-opacity=\"1\" stroke-width=\"3.2\"/>\n",
       "<circle clip-path=\"url(#clip662)\" cx=\"1882.85\" cy=\"87.9763\" r=\"14.4\" fill=\"#009af9\" fill-rule=\"evenodd\" fill-opacity=\"1\" stroke=\"#000000\" stroke-opacity=\"1\" stroke-width=\"3.2\"/>\n",
       "<circle clip-path=\"url(#clip662)\" cx=\"1476.36\" cy=\"1445.72\" r=\"14.4\" fill=\"#009af9\" fill-rule=\"evenodd\" fill-opacity=\"1\" stroke=\"#000000\" stroke-opacity=\"1\" stroke-width=\"3.2\"/>\n",
       "<circle clip-path=\"url(#clip662)\" cx=\"1638.96\" cy=\"1445.72\" r=\"14.4\" fill=\"#009af9\" fill-rule=\"evenodd\" fill-opacity=\"1\" stroke=\"#000000\" stroke-opacity=\"1\" stroke-width=\"3.2\"/>\n",
       "<circle clip-path=\"url(#clip662)\" cx=\"1557.66\" cy=\"1294.86\" r=\"14.4\" fill=\"#009af9\" fill-rule=\"evenodd\" fill-opacity=\"1\" stroke=\"#000000\" stroke-opacity=\"1\" stroke-width=\"3.2\"/>\n",
       "<circle clip-path=\"url(#clip662)\" cx=\"1638.96\" cy=\"1144\" r=\"14.4\" fill=\"#009af9\" fill-rule=\"evenodd\" fill-opacity=\"1\" stroke=\"#000000\" stroke-opacity=\"1\" stroke-width=\"3.2\"/>\n",
       "<circle clip-path=\"url(#clip662)\" cx=\"1801.55\" cy=\"1144\" r=\"14.4\" fill=\"#009af9\" fill-rule=\"evenodd\" fill-opacity=\"1\" stroke=\"#000000\" stroke-opacity=\"1\" stroke-width=\"3.2\"/>\n",
       "<circle clip-path=\"url(#clip662)\" cx=\"1720.26\" cy=\"993.136\" r=\"14.4\" fill=\"#009af9\" fill-rule=\"evenodd\" fill-opacity=\"1\" stroke=\"#000000\" stroke-opacity=\"1\" stroke-width=\"3.2\"/>\n",
       "<circle clip-path=\"url(#clip662)\" cx=\"1801.55\" cy=\"842.276\" r=\"14.4\" fill=\"#009af9\" fill-rule=\"evenodd\" fill-opacity=\"1\" stroke=\"#000000\" stroke-opacity=\"1\" stroke-width=\"3.2\"/>\n",
       "<circle clip-path=\"url(#clip662)\" cx=\"1964.15\" cy=\"842.276\" r=\"14.4\" fill=\"#009af9\" fill-rule=\"evenodd\" fill-opacity=\"1\" stroke=\"#000000\" stroke-opacity=\"1\" stroke-width=\"3.2\"/>\n",
       "<circle clip-path=\"url(#clip662)\" cx=\"1882.85\" cy=\"691.416\" r=\"14.4\" fill=\"#009af9\" fill-rule=\"evenodd\" fill-opacity=\"1\" stroke=\"#000000\" stroke-opacity=\"1\" stroke-width=\"3.2\"/>\n",
       "<circle clip-path=\"url(#clip662)\" cx=\"1964.15\" cy=\"540.556\" r=\"14.4\" fill=\"#009af9\" fill-rule=\"evenodd\" fill-opacity=\"1\" stroke=\"#000000\" stroke-opacity=\"1\" stroke-width=\"3.2\"/>\n",
       "<circle clip-path=\"url(#clip662)\" cx=\"2126.75\" cy=\"540.556\" r=\"14.4\" fill=\"#009af9\" fill-rule=\"evenodd\" fill-opacity=\"1\" stroke=\"#000000\" stroke-opacity=\"1\" stroke-width=\"3.2\"/>\n",
       "<circle clip-path=\"url(#clip662)\" cx=\"2045.45\" cy=\"389.696\" r=\"14.4\" fill=\"#009af9\" fill-rule=\"evenodd\" fill-opacity=\"1\" stroke=\"#000000\" stroke-opacity=\"1\" stroke-width=\"3.2\"/>\n",
       "<circle clip-path=\"url(#clip662)\" cx=\"2126.75\" cy=\"238.836\" r=\"14.4\" fill=\"#009af9\" fill-rule=\"evenodd\" fill-opacity=\"1\" stroke=\"#000000\" stroke-opacity=\"1\" stroke-width=\"3.2\"/>\n",
       "<circle clip-path=\"url(#clip662)\" cx=\"2289.34\" cy=\"238.836\" r=\"14.4\" fill=\"#009af9\" fill-rule=\"evenodd\" fill-opacity=\"1\" stroke=\"#000000\" stroke-opacity=\"1\" stroke-width=\"3.2\"/>\n",
       "<circle clip-path=\"url(#clip662)\" cx=\"2208.05\" cy=\"87.9763\" r=\"14.4\" fill=\"#009af9\" fill-rule=\"evenodd\" fill-opacity=\"1\" stroke=\"#000000\" stroke-opacity=\"1\" stroke-width=\"3.2\"/>\n",
       "</svg>\n"
      ]
     },
     "execution_count": 34,
     "metadata": {},
     "output_type": "execute_result"
    }
   ],
   "source": [
    "plot_kagome(Nx,Ny)"
   ]
  },
  {
   "cell_type": "markdown",
   "id": "7f50a820-2f7f-4c30-bbde-3853f853f20e",
   "metadata": {
    "tags": []
   },
   "source": [
    "# Comparansion"
   ]
  },
  {
   "cell_type": "code",
   "execution_count": 73,
   "id": "8ac828dd",
   "metadata": {
    "tags": []
   },
   "outputs": [
    {
     "data": {
      "image/svg+xml": [
       "<?xml version=\"1.0\" encoding=\"utf-8\"?>\n",
       "<svg xmlns=\"http://www.w3.org/2000/svg\" xmlns:xlink=\"http://www.w3.org/1999/xlink\" width=\"600\" height=\"400\" viewBox=\"0 0 2400 1600\">\n",
       "<defs>\n",
       "  <clipPath id=\"clip040\">\n",
       "    <rect x=\"0\" y=\"0\" width=\"2400\" height=\"1600\"/>\n",
       "  </clipPath>\n",
       "</defs>\n",
       "<path clip-path=\"url(#clip040)\" d=\"\n",
       "M0 1600 L2400 1600 L2400 0 L0 0  Z\n",
       "  \" fill=\"#ffffff\" fill-rule=\"evenodd\" fill-opacity=\"1\"/>\n",
       "<defs>\n",
       "  <clipPath id=\"clip041\">\n",
       "    <rect x=\"480\" y=\"0\" width=\"1681\" height=\"1600\"/>\n",
       "  </clipPath>\n",
       "</defs>\n",
       "<path clip-path=\"url(#clip040)\" d=\"\n",
       "M257.204 1423.18 L2352.76 1423.18 L2352.76 123.472 L257.204 123.472  Z\n",
       "  \" fill=\"#ffffff\" fill-rule=\"evenodd\" fill-opacity=\"1\"/>\n",
       "<defs>\n",
       "  <clipPath id=\"clip042\">\n",
       "    <rect x=\"257\" y=\"123\" width=\"2097\" height=\"1301\"/>\n",
       "  </clipPath>\n",
       "</defs>\n",
       "<polyline clip-path=\"url(#clip042)\" style=\"stroke:#000000; stroke-linecap:round; stroke-linejoin:round; stroke-width:2; stroke-opacity:0.1; fill:none\" points=\"\n",
       "  711.899,1423.18 711.899,123.472 \n",
       "  \"/>\n",
       "<polyline clip-path=\"url(#clip042)\" style=\"stroke:#000000; stroke-linecap:round; stroke-linejoin:round; stroke-width:2; stroke-opacity:0.1; fill:none\" points=\"\n",
       "  1206.13,1423.18 1206.13,123.472 \n",
       "  \"/>\n",
       "<polyline clip-path=\"url(#clip042)\" style=\"stroke:#000000; stroke-linecap:round; stroke-linejoin:round; stroke-width:2; stroke-opacity:0.1; fill:none\" points=\"\n",
       "  1700.37,1423.18 1700.37,123.472 \n",
       "  \"/>\n",
       "<polyline clip-path=\"url(#clip042)\" style=\"stroke:#000000; stroke-linecap:round; stroke-linejoin:round; stroke-width:2; stroke-opacity:0.1; fill:none\" points=\"\n",
       "  2194.6,1423.18 2194.6,123.472 \n",
       "  \"/>\n",
       "<polyline clip-path=\"url(#clip040)\" style=\"stroke:#000000; stroke-linecap:round; stroke-linejoin:round; stroke-width:4; stroke-opacity:1; fill:none\" points=\"\n",
       "  257.204,1423.18 2352.76,1423.18 \n",
       "  \"/>\n",
       "<polyline clip-path=\"url(#clip040)\" style=\"stroke:#000000; stroke-linecap:round; stroke-linejoin:round; stroke-width:4; stroke-opacity:1; fill:none\" points=\"\n",
       "  711.899,1423.18 711.899,1404.28 \n",
       "  \"/>\n",
       "<polyline clip-path=\"url(#clip040)\" style=\"stroke:#000000; stroke-linecap:round; stroke-linejoin:round; stroke-width:4; stroke-opacity:1; fill:none\" points=\"\n",
       "  1206.13,1423.18 1206.13,1404.28 \n",
       "  \"/>\n",
       "<polyline clip-path=\"url(#clip040)\" style=\"stroke:#000000; stroke-linecap:round; stroke-linejoin:round; stroke-width:4; stroke-opacity:1; fill:none\" points=\"\n",
       "  1700.37,1423.18 1700.37,1404.28 \n",
       "  \"/>\n",
       "<polyline clip-path=\"url(#clip040)\" style=\"stroke:#000000; stroke-linecap:round; stroke-linejoin:round; stroke-width:4; stroke-opacity:1; fill:none\" points=\"\n",
       "  2194.6,1423.18 2194.6,1404.28 \n",
       "  \"/>\n",
       "<path clip-path=\"url(#clip040)\" d=\"M702.177 1451.02 L720.533 1451.02 L720.533 1454.96 L706.459 1454.96 L706.459 1463.43 Q707.478 1463.08 708.496 1462.92 Q709.515 1462.73 710.534 1462.73 Q716.321 1462.73 719.7 1465.9 Q723.08 1469.08 723.08 1474.49 Q723.08 1480.07 719.608 1483.17 Q716.135 1486.25 709.816 1486.25 Q707.64 1486.25 705.372 1485.88 Q703.126 1485.51 700.719 1484.77 L700.719 1480.07 Q702.802 1481.2 705.024 1481.76 Q707.246 1482.32 709.723 1482.32 Q713.728 1482.32 716.066 1480.21 Q718.404 1478.1 718.404 1474.49 Q718.404 1470.88 716.066 1468.77 Q713.728 1466.67 709.723 1466.67 Q707.848 1466.67 705.973 1467.08 Q704.122 1467.5 702.177 1468.38 L702.177 1451.02 Z\" fill=\"#000000\" fill-rule=\"evenodd\" fill-opacity=\"1\" /><path clip-path=\"url(#clip040)\" d=\"M1180.82 1481.64 L1188.46 1481.64 L1188.46 1455.28 L1180.15 1456.95 L1180.15 1452.69 L1188.41 1451.02 L1193.09 1451.02 L1193.09 1481.64 L1200.73 1481.64 L1200.73 1485.58 L1180.82 1485.58 L1180.82 1481.64 Z\" fill=\"#000000\" fill-rule=\"evenodd\" fill-opacity=\"1\" /><path clip-path=\"url(#clip040)\" d=\"M1220.17 1454.1 Q1216.56 1454.1 1214.73 1457.66 Q1212.93 1461.2 1212.93 1468.33 Q1212.93 1475.44 1214.73 1479.01 Q1216.56 1482.55 1220.17 1482.55 Q1223.81 1482.55 1225.61 1479.01 Q1227.44 1475.44 1227.44 1468.33 Q1227.44 1461.2 1225.61 1457.66 Q1223.81 1454.1 1220.17 1454.1 M1220.17 1450.39 Q1225.98 1450.39 1229.04 1455 Q1232.12 1459.58 1232.12 1468.33 Q1232.12 1477.06 1229.04 1481.67 Q1225.98 1486.25 1220.17 1486.25 Q1214.36 1486.25 1211.28 1481.67 Q1208.23 1477.06 1208.23 1468.33 Q1208.23 1459.58 1211.28 1455 Q1214.36 1450.39 1220.17 1450.39 Z\" fill=\"#000000\" fill-rule=\"evenodd\" fill-opacity=\"1\" /><path clip-path=\"url(#clip040)\" d=\"M1675.55 1481.64 L1683.19 1481.64 L1683.19 1455.28 L1674.88 1456.95 L1674.88 1452.69 L1683.14 1451.02 L1687.82 1451.02 L1687.82 1481.64 L1695.46 1481.64 L1695.46 1485.58 L1675.55 1485.58 L1675.55 1481.64 Z\" fill=\"#000000\" fill-rule=\"evenodd\" fill-opacity=\"1\" /><path clip-path=\"url(#clip040)\" d=\"M1704.95 1451.02 L1723.31 1451.02 L1723.31 1454.96 L1709.23 1454.96 L1709.23 1463.43 Q1710.25 1463.08 1711.27 1462.92 Q1712.29 1462.73 1713.31 1462.73 Q1719.09 1462.73 1722.47 1465.9 Q1725.85 1469.08 1725.85 1474.49 Q1725.85 1480.07 1722.38 1483.17 Q1718.91 1486.25 1712.59 1486.25 Q1710.41 1486.25 1708.14 1485.88 Q1705.9 1485.51 1703.49 1484.77 L1703.49 1480.07 Q1705.58 1481.2 1707.8 1481.76 Q1710.02 1482.32 1712.5 1482.32 Q1716.5 1482.32 1718.84 1480.21 Q1721.18 1478.1 1721.18 1474.49 Q1721.18 1470.88 1718.84 1468.77 Q1716.5 1466.67 1712.5 1466.67 Q1710.62 1466.67 1708.75 1467.08 Q1706.89 1467.5 1704.95 1468.38 L1704.95 1451.02 Z\" fill=\"#000000\" fill-rule=\"evenodd\" fill-opacity=\"1\" /><path clip-path=\"url(#clip040)\" d=\"M2173.37 1481.64 L2189.69 1481.64 L2189.69 1485.58 L2167.75 1485.58 L2167.75 1481.64 Q2170.41 1478.89 2174.99 1474.26 Q2179.6 1469.61 2180.78 1468.27 Q2183.03 1465.74 2183.91 1464.01 Q2184.81 1462.25 2184.81 1460.56 Q2184.81 1457.8 2182.86 1456.07 Q2180.94 1454.33 2177.84 1454.33 Q2175.64 1454.33 2173.19 1455.09 Q2170.76 1455.86 2167.98 1457.41 L2167.98 1452.69 Q2170.8 1451.55 2173.26 1450.97 Q2175.71 1450.39 2177.75 1450.39 Q2183.12 1450.39 2186.31 1453.08 Q2189.51 1455.77 2189.51 1460.26 Q2189.51 1462.39 2188.7 1464.31 Q2187.91 1466.2 2185.8 1468.8 Q2185.23 1469.47 2182.12 1472.69 Q2179.02 1475.88 2173.37 1481.64 Z\" fill=\"#000000\" fill-rule=\"evenodd\" fill-opacity=\"1\" /><path clip-path=\"url(#clip040)\" d=\"M2209.51 1454.1 Q2205.9 1454.1 2204.07 1457.66 Q2202.26 1461.2 2202.26 1468.33 Q2202.26 1475.44 2204.07 1479.01 Q2205.9 1482.55 2209.51 1482.55 Q2213.14 1482.55 2214.95 1479.01 Q2216.78 1475.44 2216.78 1468.33 Q2216.78 1461.2 2214.95 1457.66 Q2213.14 1454.1 2209.51 1454.1 M2209.51 1450.39 Q2215.32 1450.39 2218.37 1455 Q2221.45 1459.58 2221.45 1468.33 Q2221.45 1477.06 2218.37 1481.67 Q2215.32 1486.25 2209.51 1486.25 Q2203.7 1486.25 2200.62 1481.67 Q2197.56 1477.06 2197.56 1468.33 Q2197.56 1459.58 2200.62 1455 Q2203.7 1450.39 2209.51 1450.39 Z\" fill=\"#000000\" fill-rule=\"evenodd\" fill-opacity=\"1\" /><path clip-path=\"url(#clip040)\" d=\"M1319.91 1546.53 L1319.91 1568.04 L1314.05 1568.04 L1314.05 1546.72 Q1314.05 1541.66 1312.08 1539.14 Q1310.1 1536.63 1306.16 1536.63 Q1301.42 1536.63 1298.68 1539.65 Q1295.94 1542.68 1295.94 1547.9 L1295.94 1568.04 L1290.05 1568.04 L1290.05 1532.4 L1295.94 1532.4 L1295.94 1537.93 Q1298.04 1534.72 1300.87 1533.13 Q1303.74 1531.54 1307.46 1531.54 Q1313.61 1531.54 1316.76 1535.36 Q1319.91 1539.14 1319.91 1546.53 Z\" fill=\"#000000\" fill-rule=\"evenodd\" fill-opacity=\"1\" /><polyline clip-path=\"url(#clip042)\" style=\"stroke:#000000; stroke-linecap:round; stroke-linejoin:round; stroke-width:2; stroke-opacity:0.1; fill:none\" points=\"\n",
       "  257.204,1322.44 2352.76,1322.44 \n",
       "  \"/>\n",
       "<polyline clip-path=\"url(#clip042)\" style=\"stroke:#000000; stroke-linecap:round; stroke-linejoin:round; stroke-width:2; stroke-opacity:0.1; fill:none\" points=\"\n",
       "  257.204,1055.97 2352.76,1055.97 \n",
       "  \"/>\n",
       "<polyline clip-path=\"url(#clip042)\" style=\"stroke:#000000; stroke-linecap:round; stroke-linejoin:round; stroke-width:2; stroke-opacity:0.1; fill:none\" points=\"\n",
       "  257.204,789.492 2352.76,789.492 \n",
       "  \"/>\n",
       "<polyline clip-path=\"url(#clip042)\" style=\"stroke:#000000; stroke-linecap:round; stroke-linejoin:round; stroke-width:2; stroke-opacity:0.1; fill:none\" points=\"\n",
       "  257.204,523.016 2352.76,523.016 \n",
       "  \"/>\n",
       "<polyline clip-path=\"url(#clip042)\" style=\"stroke:#000000; stroke-linecap:round; stroke-linejoin:round; stroke-width:2; stroke-opacity:0.1; fill:none\" points=\"\n",
       "  257.204,256.54 2352.76,256.54 \n",
       "  \"/>\n",
       "<polyline clip-path=\"url(#clip040)\" style=\"stroke:#000000; stroke-linecap:round; stroke-linejoin:round; stroke-width:4; stroke-opacity:1; fill:none\" points=\"\n",
       "  257.204,1423.18 257.204,123.472 \n",
       "  \"/>\n",
       "<polyline clip-path=\"url(#clip040)\" style=\"stroke:#000000; stroke-linecap:round; stroke-linejoin:round; stroke-width:4; stroke-opacity:1; fill:none\" points=\"\n",
       "  257.204,1322.44 276.102,1322.44 \n",
       "  \"/>\n",
       "<polyline clip-path=\"url(#clip040)\" style=\"stroke:#000000; stroke-linecap:round; stroke-linejoin:round; stroke-width:4; stroke-opacity:1; fill:none\" points=\"\n",
       "  257.204,1055.97 276.102,1055.97 \n",
       "  \"/>\n",
       "<polyline clip-path=\"url(#clip040)\" style=\"stroke:#000000; stroke-linecap:round; stroke-linejoin:round; stroke-width:4; stroke-opacity:1; fill:none\" points=\"\n",
       "  257.204,789.492 276.102,789.492 \n",
       "  \"/>\n",
       "<polyline clip-path=\"url(#clip040)\" style=\"stroke:#000000; stroke-linecap:round; stroke-linejoin:round; stroke-width:4; stroke-opacity:1; fill:none\" points=\"\n",
       "  257.204,523.016 276.102,523.016 \n",
       "  \"/>\n",
       "<polyline clip-path=\"url(#clip040)\" style=\"stroke:#000000; stroke-linecap:round; stroke-linejoin:round; stroke-width:4; stroke-opacity:1; fill:none\" points=\"\n",
       "  257.204,256.54 276.102,256.54 \n",
       "  \"/>\n",
       "<path clip-path=\"url(#clip040)\" d=\"M114.26 1322.9 L143.936 1322.9 L143.936 1326.83 L114.26 1326.83 L114.26 1322.9 Z\" fill=\"#000000\" fill-rule=\"evenodd\" fill-opacity=\"1\" /><path clip-path=\"url(#clip040)\" d=\"M154.075 1305.16 L172.431 1305.16 L172.431 1309.1 L158.357 1309.1 L158.357 1317.57 Q159.376 1317.22 160.394 1317.06 Q161.413 1316.88 162.431 1316.88 Q168.218 1316.88 171.598 1320.05 Q174.977 1323.22 174.977 1328.64 Q174.977 1334.21 171.505 1337.32 Q168.033 1340.39 161.714 1340.39 Q159.538 1340.39 157.269 1340.02 Q155.024 1339.65 152.616 1338.91 L152.616 1334.21 Q154.7 1335.35 156.922 1335.9 Q159.144 1336.46 161.621 1336.46 Q165.626 1336.46 167.964 1334.35 Q170.302 1332.25 170.302 1328.64 Q170.302 1325.02 167.964 1322.92 Q165.626 1320.81 161.621 1320.81 Q159.746 1320.81 157.871 1321.23 Q156.019 1321.65 154.075 1322.52 L154.075 1305.16 Z\" fill=\"#000000\" fill-rule=\"evenodd\" fill-opacity=\"1\" /><path clip-path=\"url(#clip040)\" d=\"M184.19 1333.84 L189.075 1333.84 L189.075 1339.72 L184.19 1339.72 L184.19 1333.84 Z\" fill=\"#000000\" fill-rule=\"evenodd\" fill-opacity=\"1\" /><path clip-path=\"url(#clip040)\" d=\"M209.26 1308.24 Q205.649 1308.24 203.82 1311.81 Q202.014 1315.35 202.014 1322.48 Q202.014 1329.58 203.82 1333.15 Q205.649 1336.69 209.26 1336.69 Q212.894 1336.69 214.699 1333.15 Q216.528 1329.58 216.528 1322.48 Q216.528 1315.35 214.699 1311.81 Q212.894 1308.24 209.26 1308.24 M209.26 1304.54 Q215.07 1304.54 218.125 1309.15 Q221.204 1313.73 221.204 1322.48 Q221.204 1331.21 218.125 1335.81 Q215.07 1340.39 209.26 1340.39 Q203.449 1340.39 200.371 1335.81 Q197.315 1331.21 197.315 1322.48 Q197.315 1313.73 200.371 1309.15 Q203.449 1304.54 209.26 1304.54 Z\" fill=\"#000000\" fill-rule=\"evenodd\" fill-opacity=\"1\" /><path clip-path=\"url(#clip040)\" d=\"M115.256 1056.42 L144.931 1056.42 L144.931 1060.35 L115.256 1060.35 L115.256 1056.42 Z\" fill=\"#000000\" fill-rule=\"evenodd\" fill-opacity=\"1\" /><path clip-path=\"url(#clip040)\" d=\"M159.052 1069.31 L175.371 1069.31 L175.371 1073.25 L153.427 1073.25 L153.427 1069.31 Q156.089 1066.56 160.672 1061.93 Q165.278 1057.28 166.459 1055.93 Q168.704 1053.41 169.584 1051.67 Q170.487 1049.91 170.487 1048.22 Q170.487 1045.47 168.542 1043.73 Q166.621 1042 163.519 1042 Q161.32 1042 158.866 1042.76 Q156.436 1043.53 153.658 1045.08 L153.658 1040.35 Q156.482 1039.22 158.936 1038.64 Q161.39 1038.06 163.427 1038.06 Q168.797 1038.06 171.991 1040.75 Q175.186 1043.43 175.186 1047.92 Q175.186 1050.05 174.376 1051.97 Q173.589 1053.87 171.482 1056.47 Q170.903 1057.14 167.802 1060.35 Q164.7 1063.55 159.052 1069.31 Z\" fill=\"#000000\" fill-rule=\"evenodd\" fill-opacity=\"1\" /><path clip-path=\"url(#clip040)\" d=\"M185.186 1067.37 L190.07 1067.37 L190.07 1073.25 L185.186 1073.25 L185.186 1067.37 Z\" fill=\"#000000\" fill-rule=\"evenodd\" fill-opacity=\"1\" /><path clip-path=\"url(#clip040)\" d=\"M200.301 1038.69 L218.658 1038.69 L218.658 1042.62 L204.584 1042.62 L204.584 1051.1 Q205.602 1050.75 206.621 1050.59 Q207.639 1050.4 208.658 1050.4 Q214.445 1050.4 217.824 1053.57 Q221.204 1056.74 221.204 1062.16 Q221.204 1067.74 217.732 1070.84 Q214.26 1073.92 207.94 1073.92 Q205.764 1073.92 203.496 1073.55 Q201.25 1073.18 198.843 1072.44 L198.843 1067.74 Q200.926 1068.87 203.149 1069.43 Q205.371 1069.98 207.848 1069.98 Q211.852 1069.98 214.19 1067.88 Q216.528 1065.77 216.528 1062.16 Q216.528 1058.55 214.19 1056.44 Q211.852 1054.34 207.848 1054.34 Q205.973 1054.34 204.098 1054.75 Q202.246 1055.17 200.301 1056.05 L200.301 1038.69 Z\" fill=\"#000000\" fill-rule=\"evenodd\" fill-opacity=\"1\" /><path clip-path=\"url(#clip040)\" d=\"M164.028 775.291 Q160.417 775.291 158.589 778.856 Q156.783 782.397 156.783 789.527 Q156.783 796.633 158.589 800.198 Q160.417 803.74 164.028 803.74 Q167.663 803.74 169.468 800.198 Q171.297 796.633 171.297 789.527 Q171.297 782.397 169.468 778.856 Q167.663 775.291 164.028 775.291 M164.028 771.587 Q169.839 771.587 172.894 776.194 Q175.973 780.777 175.973 789.527 Q175.973 798.254 172.894 802.86 Q169.839 807.443 164.028 807.443 Q158.218 807.443 155.14 802.86 Q152.084 798.254 152.084 789.527 Q152.084 780.777 155.14 776.194 Q158.218 771.587 164.028 771.587 Z\" fill=\"#000000\" fill-rule=\"evenodd\" fill-opacity=\"1\" /><path clip-path=\"url(#clip040)\" d=\"M184.19 800.892 L189.075 800.892 L189.075 806.772 L184.19 806.772 L184.19 800.892 Z\" fill=\"#000000\" fill-rule=\"evenodd\" fill-opacity=\"1\" /><path clip-path=\"url(#clip040)\" d=\"M209.26 775.291 Q205.649 775.291 203.82 778.856 Q202.014 782.397 202.014 789.527 Q202.014 796.633 203.82 800.198 Q205.649 803.74 209.26 803.74 Q212.894 803.74 214.699 800.198 Q216.528 796.633 216.528 789.527 Q216.528 782.397 214.699 778.856 Q212.894 775.291 209.26 775.291 M209.26 771.587 Q215.07 771.587 218.125 776.194 Q221.204 780.777 221.204 789.527 Q221.204 798.254 218.125 802.86 Q215.07 807.443 209.26 807.443 Q203.449 807.443 200.371 802.86 Q197.315 798.254 197.315 789.527 Q197.315 780.777 200.371 776.194 Q203.449 771.587 209.26 771.587 Z\" fill=\"#000000\" fill-rule=\"evenodd\" fill-opacity=\"1\" /><path clip-path=\"url(#clip040)\" d=\"M159.052 536.361 L175.371 536.361 L175.371 540.296 L153.427 540.296 L153.427 536.361 Q156.089 533.606 160.672 528.977 Q165.278 524.324 166.459 522.982 Q168.704 520.458 169.584 518.722 Q170.487 516.963 170.487 515.273 Q170.487 512.519 168.542 510.783 Q166.621 509.046 163.519 509.046 Q161.32 509.046 158.866 509.81 Q156.436 510.574 153.658 512.125 L153.658 507.403 Q156.482 506.269 158.936 505.69 Q161.39 505.111 163.427 505.111 Q168.797 505.111 171.991 507.796 Q175.186 510.482 175.186 514.972 Q175.186 517.102 174.376 519.023 Q173.589 520.921 171.482 523.514 Q170.903 524.185 167.802 527.403 Q164.7 530.597 159.052 536.361 Z\" fill=\"#000000\" fill-rule=\"evenodd\" fill-opacity=\"1\" /><path clip-path=\"url(#clip040)\" d=\"M185.186 534.417 L190.07 534.417 L190.07 540.296 L185.186 540.296 L185.186 534.417 Z\" fill=\"#000000\" fill-rule=\"evenodd\" fill-opacity=\"1\" /><path clip-path=\"url(#clip040)\" d=\"M200.301 505.736 L218.658 505.736 L218.658 509.671 L204.584 509.671 L204.584 518.144 Q205.602 517.796 206.621 517.634 Q207.639 517.449 208.658 517.449 Q214.445 517.449 217.824 520.62 Q221.204 523.792 221.204 529.208 Q221.204 534.787 217.732 537.889 Q214.26 540.968 207.94 540.968 Q205.764 540.968 203.496 540.597 Q201.25 540.227 198.843 539.486 L198.843 534.787 Q200.926 535.921 203.149 536.477 Q205.371 537.032 207.848 537.032 Q211.852 537.032 214.19 534.926 Q216.528 532.819 216.528 529.208 Q216.528 525.597 214.19 523.491 Q211.852 521.384 207.848 521.384 Q205.973 521.384 204.098 521.801 Q202.246 522.218 200.301 523.097 L200.301 505.736 Z\" fill=\"#000000\" fill-rule=\"evenodd\" fill-opacity=\"1\" /><path clip-path=\"url(#clip040)\" d=\"M154.075 239.26 L172.431 239.26 L172.431 243.196 L158.357 243.196 L158.357 251.668 Q159.376 251.321 160.394 251.159 Q161.413 250.973 162.431 250.973 Q168.218 250.973 171.598 254.145 Q174.977 257.316 174.977 262.733 Q174.977 268.311 171.505 271.413 Q168.033 274.492 161.714 274.492 Q159.538 274.492 157.269 274.121 Q155.024 273.751 152.616 273.01 L152.616 268.311 Q154.7 269.445 156.922 270.001 Q159.144 270.557 161.621 270.557 Q165.626 270.557 167.964 268.45 Q170.302 266.344 170.302 262.733 Q170.302 259.121 167.964 257.015 Q165.626 254.909 161.621 254.909 Q159.746 254.909 157.871 255.325 Q156.019 255.742 154.075 256.621 L154.075 239.26 Z\" fill=\"#000000\" fill-rule=\"evenodd\" fill-opacity=\"1\" /><path clip-path=\"url(#clip040)\" d=\"M184.19 267.941 L189.075 267.941 L189.075 273.82 L184.19 273.82 L184.19 267.941 Z\" fill=\"#000000\" fill-rule=\"evenodd\" fill-opacity=\"1\" /><path clip-path=\"url(#clip040)\" d=\"M209.26 242.339 Q205.649 242.339 203.82 245.904 Q202.014 249.446 202.014 256.575 Q202.014 263.682 203.82 267.246 Q205.649 270.788 209.26 270.788 Q212.894 270.788 214.699 267.246 Q216.528 263.682 216.528 256.575 Q216.528 249.446 214.699 245.904 Q212.894 242.339 209.26 242.339 M209.26 238.635 Q215.07 238.635 218.125 243.242 Q221.204 247.825 221.204 256.575 Q221.204 265.302 218.125 269.908 Q215.07 274.492 209.26 274.492 Q203.449 274.492 200.371 269.908 Q197.315 265.302 197.315 256.575 Q197.315 247.825 200.371 243.242 Q203.449 238.635 209.26 238.635 Z\" fill=\"#000000\" fill-rule=\"evenodd\" fill-opacity=\"1\" /><path clip-path=\"url(#clip040)\" d=\"M16.4842 788.636 L16.4842 758.589 L21.895 758.589 L21.895 782.206 L35.9632 782.206 L35.9632 759.576 L41.3741 759.576 L41.3741 782.206 L58.5933 782.206 L58.5933 758.016 L64.0042 758.016 L64.0042 788.636 L16.4842 788.636 Z\" fill=\"#000000\" fill-rule=\"evenodd\" fill-opacity=\"1\" /><path clip-path=\"url(#clip040)\" d=\"M1128.54 12.096 L1136.77 12.096 L1136.77 48.8377 Q1136.77 58.5599 1140.29 62.8538 Q1143.81 67.1073 1151.71 67.1073 Q1159.57 67.1073 1163.1 62.8538 Q1166.62 58.5599 1166.62 48.8377 L1166.62 12.096 L1174.84 12.096 L1174.84 49.8504 Q1174.84 61.6791 1168.97 67.7149 Q1163.14 73.7508 1151.71 73.7508 Q1140.25 73.7508 1134.38 67.7149 Q1128.54 61.6791 1128.54 49.8504 L1128.54 12.096 Z\" fill=\"#000000\" fill-rule=\"evenodd\" fill-opacity=\"1\" /><path clip-path=\"url(#clip040)\" d=\"M1190.85 34.9026 L1242.78 34.9026 L1242.78 41.7081 L1190.85 41.7081 L1190.85 34.9026 M1190.85 51.4303 L1242.78 51.4303 L1242.78 58.3168 L1190.85 58.3168 L1190.85 51.4303 Z\" fill=\"#000000\" fill-rule=\"evenodd\" fill-opacity=\"1\" /><path clip-path=\"url(#clip040)\" d=\"M1277.94 17.4837 Q1271.62 17.4837 1268.42 23.7221 Q1265.26 29.92 1265.26 42.3968 Q1265.26 54.833 1268.42 61.0714 Q1271.62 67.2693 1277.94 67.2693 Q1284.3 67.2693 1287.46 61.0714 Q1290.66 54.833 1290.66 42.3968 Q1290.66 29.92 1287.46 23.7221 Q1284.3 17.4837 1277.94 17.4837 M1277.94 11.0023 Q1288.11 11.0023 1293.46 19.0636 Q1298.84 27.0843 1298.84 42.3968 Q1298.84 57.6687 1293.46 65.73 Q1288.11 73.7508 1277.94 73.7508 Q1267.77 73.7508 1262.38 65.73 Q1257.04 57.6687 1257.04 42.3968 Q1257.04 27.0843 1262.38 19.0636 Q1267.77 11.0023 1277.94 11.0023 Z\" fill=\"#000000\" fill-rule=\"evenodd\" fill-opacity=\"1\" /><path clip-path=\"url(#clip040)\" d=\"M1313.22 62.2867 L1321.77 62.2867 L1321.77 72.576 L1313.22 72.576 L1313.22 62.2867 Z\" fill=\"#000000\" fill-rule=\"evenodd\" fill-opacity=\"1\" /><path clip-path=\"url(#clip040)\" d=\"M1357.09 17.4837 Q1350.78 17.4837 1347.58 23.7221 Q1344.42 29.92 1344.42 42.3968 Q1344.42 54.833 1347.58 61.0714 Q1350.78 67.2693 1357.09 67.2693 Q1363.45 67.2693 1366.61 61.0714 Q1369.81 54.833 1369.81 42.3968 Q1369.81 29.92 1366.61 23.7221 Q1363.45 17.4837 1357.09 17.4837 M1357.09 11.0023 Q1367.26 11.0023 1372.61 19.0636 Q1378 27.0843 1378 42.3968 Q1378 57.6687 1372.61 65.73 Q1367.26 73.7508 1357.09 73.7508 Q1346.93 73.7508 1341.54 65.73 Q1336.19 57.6687 1336.19 42.3968 Q1336.19 27.0843 1341.54 19.0636 Q1346.93 11.0023 1357.09 11.0023 Z\" fill=\"#000000\" fill-rule=\"evenodd\" fill-opacity=\"1\" /><path clip-path=\"url(#clip040)\" d=\"M1409.88 17.4837 Q1403.56 17.4837 1400.36 23.7221 Q1397.2 29.92 1397.2 42.3968 Q1397.2 54.833 1400.36 61.0714 Q1403.56 67.2693 1409.88 67.2693 Q1416.24 67.2693 1419.4 61.0714 Q1422.6 54.833 1422.6 42.3968 Q1422.6 29.92 1419.4 23.7221 Q1416.24 17.4837 1409.88 17.4837 M1409.88 11.0023 Q1420.05 11.0023 1425.39 19.0636 Q1430.78 27.0843 1430.78 42.3968 Q1430.78 57.6687 1425.39 65.73 Q1420.05 73.7508 1409.88 73.7508 Q1399.71 73.7508 1394.32 65.73 Q1388.98 57.6687 1388.98 42.3968 Q1388.98 27.0843 1394.32 19.0636 Q1399.71 11.0023 1409.88 11.0023 Z\" fill=\"#000000\" fill-rule=\"evenodd\" fill-opacity=\"1\" /><path clip-path=\"url(#clip040)\" d=\"M1446.58 65.6895 L1459.95 65.6895 L1459.95 19.5497 L1445.4 22.4663 L1445.4 15.0127 L1459.87 12.096 L1468.05 12.096 L1468.05 65.6895 L1481.42 65.6895 L1481.42 72.576 L1446.58 72.576 L1446.58 65.6895 Z\" fill=\"#000000\" fill-rule=\"evenodd\" fill-opacity=\"1\" /><path clip-path=\"url(#clip042)\" d=\"M316.512 1358.4 L309.932 1377.32 L289.884 1377.74 L305.872 1389.87 L300.048 1409.05 L316.512 1397.6 L332.976 1409.05 L327.152 1389.87 L343.14 1377.74 L323.092 1377.32 L316.512 1358.4 Z\" fill=\"#009af9\" fill-rule=\"evenodd\" fill-opacity=\"1\" stroke=\"#000000\" stroke-opacity=\"1\" stroke-width=\"3.2\"/>\n",
       "<path clip-path=\"url(#clip042)\" d=\"M415.359 1355.36 L408.779 1374.29 L388.731 1374.71 L404.719 1386.84 L398.895 1406.02 L415.359 1394.56 L431.823 1406.02 L425.999 1386.84 L441.987 1374.71 L421.939 1374.29 L415.359 1355.36 Z\" fill=\"#009af9\" fill-rule=\"evenodd\" fill-opacity=\"1\" stroke=\"#000000\" stroke-opacity=\"1\" stroke-width=\"3.2\"/>\n",
       "<path clip-path=\"url(#clip042)\" d=\"M514.206 1355.36 L507.626 1374.29 L487.578 1374.71 L503.566 1386.84 L497.742 1406.02 L514.206 1394.56 L530.67 1406.02 L524.846 1386.84 L540.834 1374.71 L520.786 1374.29 L514.206 1355.36 Z\" fill=\"#009af9\" fill-rule=\"evenodd\" fill-opacity=\"1\" stroke=\"#000000\" stroke-opacity=\"1\" stroke-width=\"3.2\"/>\n",
       "<path clip-path=\"url(#clip042)\" d=\"M613.052 1355.36 L606.472 1374.29 L586.424 1374.71 L602.412 1386.84 L596.588 1406.02 L613.052 1394.56 L629.516 1406.02 L623.692 1386.84 L639.68 1374.71 L619.632 1374.29 L613.052 1355.36 Z\" fill=\"#009af9\" fill-rule=\"evenodd\" fill-opacity=\"1\" stroke=\"#000000\" stroke-opacity=\"1\" stroke-width=\"3.2\"/>\n",
       "<path clip-path=\"url(#clip042)\" d=\"M711.899 1354.89 L705.319 1373.82 L685.271 1374.24 L701.259 1386.37 L695.435 1405.55 L711.899 1394.09 L728.363 1405.55 L722.539 1386.37 L738.527 1374.24 L718.479 1373.82 L711.899 1354.89 Z\" fill=\"#009af9\" fill-rule=\"evenodd\" fill-opacity=\"1\" stroke=\"#000000\" stroke-opacity=\"1\" stroke-width=\"3.2\"/>\n",
       "<path clip-path=\"url(#clip042)\" d=\"M810.746 1354.89 L804.166 1373.82 L784.118 1374.24 L800.106 1386.37 L794.282 1405.55 L810.746 1394.09 L827.21 1405.55 L821.386 1386.37 L837.374 1374.24 L817.326 1373.82 L810.746 1354.89 Z\" fill=\"#009af9\" fill-rule=\"evenodd\" fill-opacity=\"1\" stroke=\"#000000\" stroke-opacity=\"1\" stroke-width=\"3.2\"/>\n",
       "<path clip-path=\"url(#clip042)\" d=\"M909.593 1354.89 L903.013 1373.82 L882.965 1374.24 L898.953 1386.37 L893.129 1405.55 L909.593 1394.09 L926.057 1405.55 L920.233 1386.37 L936.221 1374.24 L916.173 1373.82 L909.593 1354.89 Z\" fill=\"#009af9\" fill-rule=\"evenodd\" fill-opacity=\"1\" stroke=\"#000000\" stroke-opacity=\"1\" stroke-width=\"3.2\"/>\n",
       "<path clip-path=\"url(#clip042)\" d=\"M1008.44 1354.89 L1001.86 1373.82 L981.812 1374.24 L997.8 1386.37 L991.976 1405.55 L1008.44 1394.09 L1024.9 1405.55 L1019.08 1386.37 L1035.07 1374.24 L1015.02 1373.82 L1008.44 1354.89 Z\" fill=\"#009af9\" fill-rule=\"evenodd\" fill-opacity=\"1\" stroke=\"#000000\" stroke-opacity=\"1\" stroke-width=\"3.2\"/>\n",
       "<path clip-path=\"url(#clip042)\" d=\"M1107.29 1354.89 L1100.71 1373.82 L1080.66 1374.24 L1096.65 1386.37 L1090.82 1405.55 L1107.29 1394.09 L1123.75 1405.55 L1117.93 1386.37 L1133.91 1374.24 L1113.87 1373.82 L1107.29 1354.89 Z\" fill=\"#009af9\" fill-rule=\"evenodd\" fill-opacity=\"1\" stroke=\"#000000\" stroke-opacity=\"1\" stroke-width=\"3.2\"/>\n",
       "<path clip-path=\"url(#clip042)\" d=\"M1206.13 1354.89 L1199.55 1373.82 L1179.51 1374.24 L1195.49 1386.37 L1189.67 1405.55 L1206.13 1394.09 L1222.6 1405.55 L1216.77 1386.37 L1232.76 1374.24 L1212.71 1373.82 L1206.13 1354.89 Z\" fill=\"#009af9\" fill-rule=\"evenodd\" fill-opacity=\"1\" stroke=\"#000000\" stroke-opacity=\"1\" stroke-width=\"3.2\"/>\n",
       "<path clip-path=\"url(#clip042)\" d=\"M1304.98 1354 L1298.4 1372.92 L1278.35 1373.34 L1294.34 1385.47 L1288.52 1404.65 L1304.98 1393.2 L1321.44 1404.65 L1315.62 1385.47 L1331.61 1373.34 L1311.56 1372.92 L1304.98 1354 Z\" fill=\"#009af9\" fill-rule=\"evenodd\" fill-opacity=\"1\" stroke=\"#000000\" stroke-opacity=\"1\" stroke-width=\"3.2\"/>\n",
       "<path clip-path=\"url(#clip042)\" d=\"M1403.83 1354 L1397.25 1372.92 L1377.2 1373.34 L1393.19 1385.47 L1387.36 1404.65 L1403.83 1393.2 L1420.29 1404.65 L1414.47 1385.47 L1430.45 1373.34 L1410.41 1372.92 L1403.83 1354 Z\" fill=\"#009af9\" fill-rule=\"evenodd\" fill-opacity=\"1\" stroke=\"#000000\" stroke-opacity=\"1\" stroke-width=\"3.2\"/>\n",
       "<path clip-path=\"url(#clip042)\" d=\"M1502.67 1354 L1496.09 1372.92 L1476.05 1373.34 L1492.03 1385.47 L1486.21 1404.65 L1502.67 1393.2 L1519.14 1404.65 L1513.31 1385.47 L1529.3 1373.34 L1509.25 1372.92 L1502.67 1354 Z\" fill=\"#009af9\" fill-rule=\"evenodd\" fill-opacity=\"1\" stroke=\"#000000\" stroke-opacity=\"1\" stroke-width=\"3.2\"/>\n",
       "<path clip-path=\"url(#clip042)\" d=\"M1601.52 1354 L1594.94 1372.92 L1574.89 1373.34 L1590.88 1385.47 L1585.06 1404.65 L1601.52 1393.2 L1617.98 1404.65 L1612.16 1385.47 L1628.15 1373.34 L1608.1 1372.92 L1601.52 1354 Z\" fill=\"#009af9\" fill-rule=\"evenodd\" fill-opacity=\"1\" stroke=\"#000000\" stroke-opacity=\"1\" stroke-width=\"3.2\"/>\n",
       "<path clip-path=\"url(#clip042)\" d=\"M1700.37 1354 L1693.79 1372.92 L1673.74 1373.34 L1689.73 1385.47 L1683.9 1404.65 L1700.37 1393.2 L1716.83 1404.65 L1711.01 1385.47 L1727 1373.34 L1706.95 1372.92 L1700.37 1354 Z\" fill=\"#009af9\" fill-rule=\"evenodd\" fill-opacity=\"1\" stroke=\"#000000\" stroke-opacity=\"1\" stroke-width=\"3.2\"/>\n",
       "<path clip-path=\"url(#clip042)\" d=\"M1799.21 1354 L1792.63 1372.92 L1772.59 1373.34 L1788.57 1385.47 L1782.75 1404.65 L1799.21 1393.2 L1815.68 1404.65 L1809.85 1385.47 L1825.84 1373.34 L1805.79 1372.92 L1799.21 1354 Z\" fill=\"#009af9\" fill-rule=\"evenodd\" fill-opacity=\"1\" stroke=\"#000000\" stroke-opacity=\"1\" stroke-width=\"3.2\"/>\n",
       "<path clip-path=\"url(#clip042)\" d=\"M1898.06 1352.34 L1891.48 1371.26 L1871.43 1371.68 L1887.42 1383.81 L1881.6 1402.99 L1898.06 1391.54 L1914.52 1402.99 L1908.7 1383.81 L1924.69 1371.68 L1904.64 1371.26 L1898.06 1352.34 Z\" fill=\"#009af9\" fill-rule=\"evenodd\" fill-opacity=\"1\" stroke=\"#000000\" stroke-opacity=\"1\" stroke-width=\"3.2\"/>\n",
       "<path clip-path=\"url(#clip042)\" d=\"M1996.91 1352.33 L1990.33 1371.26 L1970.28 1371.68 L1986.27 1383.81 L1980.44 1402.99 L1996.91 1391.53 L2013.37 1402.99 L2007.55 1383.81 L2023.54 1371.68 L2003.49 1371.26 L1996.91 1352.33 Z\" fill=\"#009af9\" fill-rule=\"evenodd\" fill-opacity=\"1\" stroke=\"#000000\" stroke-opacity=\"1\" stroke-width=\"3.2\"/>\n",
       "<path clip-path=\"url(#clip042)\" d=\"M2095.75 1352.33 L2089.17 1371.26 L2069.13 1371.68 L2085.11 1383.81 L2079.29 1402.99 L2095.75 1391.53 L2112.22 1402.99 L2106.39 1383.81 L2122.38 1371.68 L2102.33 1371.26 L2095.75 1352.33 Z\" fill=\"#009af9\" fill-rule=\"evenodd\" fill-opacity=\"1\" stroke=\"#000000\" stroke-opacity=\"1\" stroke-width=\"3.2\"/>\n",
       "<path clip-path=\"url(#clip042)\" d=\"M2194.6 1352.33 L2188.02 1371.26 L2167.97 1371.68 L2183.96 1383.81 L2178.14 1402.99 L2194.6 1391.53 L2211.07 1402.99 L2205.24 1383.81 L2221.23 1371.68 L2201.18 1371.26 L2194.6 1352.33 Z\" fill=\"#009af9\" fill-rule=\"evenodd\" fill-opacity=\"1\" stroke=\"#000000\" stroke-opacity=\"1\" stroke-width=\"3.2\"/>\n",
       "<path clip-path=\"url(#clip042)\" d=\"M2293.45 1352.33 L2286.87 1371.26 L2266.82 1371.68 L2282.81 1383.81 L2276.98 1402.99 L2293.45 1391.53 L2309.91 1402.99 L2304.09 1383.81 L2320.08 1371.68 L2300.03 1371.26 L2293.45 1352.33 Z\" fill=\"#009af9\" fill-rule=\"evenodd\" fill-opacity=\"1\" stroke=\"#000000\" stroke-opacity=\"1\" stroke-width=\"3.2\"/>\n",
       "<circle clip-path=\"url(#clip042)\" cx=\"316.512\" cy=\"1386.4\" r=\"14.4\" fill=\"#e26f46\" fill-rule=\"evenodd\" fill-opacity=\"1\" stroke=\"#000000\" stroke-opacity=\"1\" stroke-width=\"3.2\"/>\n",
       "<circle clip-path=\"url(#clip042)\" cx=\"415.359\" cy=\"1383.36\" r=\"14.4\" fill=\"#e26f46\" fill-rule=\"evenodd\" fill-opacity=\"1\" stroke=\"#000000\" stroke-opacity=\"1\" stroke-width=\"3.2\"/>\n",
       "<circle clip-path=\"url(#clip042)\" cx=\"514.206\" cy=\"1383.36\" r=\"14.4\" fill=\"#e26f46\" fill-rule=\"evenodd\" fill-opacity=\"1\" stroke=\"#000000\" stroke-opacity=\"1\" stroke-width=\"3.2\"/>\n",
       "<circle clip-path=\"url(#clip042)\" cx=\"613.052\" cy=\"1383.36\" r=\"14.4\" fill=\"#e26f46\" fill-rule=\"evenodd\" fill-opacity=\"1\" stroke=\"#000000\" stroke-opacity=\"1\" stroke-width=\"3.2\"/>\n",
       "<circle clip-path=\"url(#clip042)\" cx=\"711.899\" cy=\"1382.89\" r=\"14.4\" fill=\"#e26f46\" fill-rule=\"evenodd\" fill-opacity=\"1\" stroke=\"#000000\" stroke-opacity=\"1\" stroke-width=\"3.2\"/>\n",
       "<circle clip-path=\"url(#clip042)\" cx=\"810.746\" cy=\"1380.34\" r=\"14.4\" fill=\"#e26f46\" fill-rule=\"evenodd\" fill-opacity=\"1\" stroke=\"#000000\" stroke-opacity=\"1\" stroke-width=\"3.2\"/>\n",
       "<circle clip-path=\"url(#clip042)\" cx=\"909.593\" cy=\"1380.33\" r=\"14.4\" fill=\"#e26f46\" fill-rule=\"evenodd\" fill-opacity=\"1\" stroke=\"#000000\" stroke-opacity=\"1\" stroke-width=\"3.2\"/>\n",
       "<circle clip-path=\"url(#clip042)\" cx=\"1008.44\" cy=\"1380.33\" r=\"14.4\" fill=\"#e26f46\" fill-rule=\"evenodd\" fill-opacity=\"1\" stroke=\"#000000\" stroke-opacity=\"1\" stroke-width=\"3.2\"/>\n",
       "<circle clip-path=\"url(#clip042)\" cx=\"1107.29\" cy=\"1380.33\" r=\"14.4\" fill=\"#e26f46\" fill-rule=\"evenodd\" fill-opacity=\"1\" stroke=\"#000000\" stroke-opacity=\"1\" stroke-width=\"3.2\"/>\n",
       "<circle clip-path=\"url(#clip042)\" cx=\"1206.13\" cy=\"1380.33\" r=\"14.4\" fill=\"#e26f46\" fill-rule=\"evenodd\" fill-opacity=\"1\" stroke=\"#000000\" stroke-opacity=\"1\" stroke-width=\"3.2\"/>\n",
       "<circle clip-path=\"url(#clip042)\" cx=\"1304.98\" cy=\"1380.33\" r=\"14.4\" fill=\"#e26f46\" fill-rule=\"evenodd\" fill-opacity=\"1\" stroke=\"#000000\" stroke-opacity=\"1\" stroke-width=\"3.2\"/>\n",
       "<circle clip-path=\"url(#clip042)\" cx=\"1403.83\" cy=\"1379.87\" r=\"14.4\" fill=\"#e26f46\" fill-rule=\"evenodd\" fill-opacity=\"1\" stroke=\"#000000\" stroke-opacity=\"1\" stroke-width=\"3.2\"/>\n",
       "<circle clip-path=\"url(#clip042)\" cx=\"1502.67\" cy=\"1379.86\" r=\"14.4\" fill=\"#e26f46\" fill-rule=\"evenodd\" fill-opacity=\"1\" stroke=\"#000000\" stroke-opacity=\"1\" stroke-width=\"3.2\"/>\n",
       "<circle clip-path=\"url(#clip042)\" cx=\"1601.52\" cy=\"1379.86\" r=\"14.4\" fill=\"#e26f46\" fill-rule=\"evenodd\" fill-opacity=\"1\" stroke=\"#000000\" stroke-opacity=\"1\" stroke-width=\"3.2\"/>\n",
       "<circle clip-path=\"url(#clip042)\" cx=\"1700.37\" cy=\"1379.4\" r=\"14.4\" fill=\"#e26f46\" fill-rule=\"evenodd\" fill-opacity=\"1\" stroke=\"#000000\" stroke-opacity=\"1\" stroke-width=\"3.2\"/>\n",
       "<circle clip-path=\"url(#clip042)\" cx=\"1799.21\" cy=\"1087.94\" r=\"14.4\" fill=\"#e26f46\" fill-rule=\"evenodd\" fill-opacity=\"1\" stroke=\"#000000\" stroke-opacity=\"1\" stroke-width=\"3.2\"/>\n",
       "<circle clip-path=\"url(#clip042)\" cx=\"1898.06\" cy=\"1084.91\" r=\"14.4\" fill=\"#e26f46\" fill-rule=\"evenodd\" fill-opacity=\"1\" stroke=\"#000000\" stroke-opacity=\"1\" stroke-width=\"3.2\"/>\n",
       "<circle clip-path=\"url(#clip042)\" cx=\"1996.91\" cy=\"1084.91\" r=\"14.4\" fill=\"#e26f46\" fill-rule=\"evenodd\" fill-opacity=\"1\" stroke=\"#000000\" stroke-opacity=\"1\" stroke-width=\"3.2\"/>\n",
       "<circle clip-path=\"url(#clip042)\" cx=\"2095.75\" cy=\"1084.91\" r=\"14.4\" fill=\"#e26f46\" fill-rule=\"evenodd\" fill-opacity=\"1\" stroke=\"#000000\" stroke-opacity=\"1\" stroke-width=\"3.2\"/>\n",
       "<circle clip-path=\"url(#clip042)\" cx=\"2194.6\" cy=\"1084.45\" r=\"14.4\" fill=\"#e26f46\" fill-rule=\"evenodd\" fill-opacity=\"1\" stroke=\"#000000\" stroke-opacity=\"1\" stroke-width=\"3.2\"/>\n",
       "<circle clip-path=\"url(#clip042)\" cx=\"2293.45\" cy=\"789.492\" r=\"14.4\" fill=\"#e26f46\" fill-rule=\"evenodd\" fill-opacity=\"1\" stroke=\"#000000\" stroke-opacity=\"1\" stroke-width=\"3.2\"/>\n",
       "<path clip-path=\"url(#clip040)\" d=\"\n",
       "M327.056 322.316 L816.491 322.316 L816.491 166.796 L327.056 166.796  Z\n",
       "  \" fill=\"#ffffff\" fill-rule=\"evenodd\" fill-opacity=\"1\"/>\n",
       "<polyline clip-path=\"url(#clip040)\" style=\"stroke:#000000; stroke-linecap:round; stroke-linejoin:round; stroke-width:4; stroke-opacity:1; fill:none\" points=\"\n",
       "  327.056,322.316 816.491,322.316 816.491,166.796 327.056,166.796 327.056,322.316 \n",
       "  \"/>\n",
       "<path clip-path=\"url(#clip040)\" d=\"M420.191 193.036 L414.175 210.341 L395.846 210.725 L410.463 221.81 L405.139 239.346 L420.191 228.876 L435.244 239.346 L429.919 221.81 L444.537 210.725 L426.207 210.341 L420.191 193.036 Z\" fill=\"#009af9\" fill-rule=\"evenodd\" fill-opacity=\"1\" stroke=\"#000000\" stroke-opacity=\"1\" stroke-width=\"2.92571\"/>\n",
       "<path clip-path=\"url(#clip040)\" d=\"M529.716 219.712 Q531.22 220.221 532.632 221.888 Q534.068 223.555 535.503 226.471 L540.248 235.916 L535.225 235.916 L530.804 227.05 Q529.091 223.578 527.47 222.444 Q525.873 221.309 523.096 221.309 L518.003 221.309 L518.003 235.916 L513.327 235.916 L513.327 201.356 L523.883 201.356 Q529.808 201.356 532.725 203.833 Q535.642 206.309 535.642 211.309 Q535.642 214.573 534.114 216.726 Q532.609 218.879 529.716 219.712 M518.003 205.198 L518.003 217.467 L523.883 217.467 Q527.262 217.467 528.975 215.916 Q530.711 214.342 530.711 211.309 Q530.711 208.277 528.975 206.749 Q527.262 205.198 523.883 205.198 L518.003 205.198 Z\" fill=\"#000000\" fill-rule=\"evenodd\" fill-opacity=\"1\" /><path clip-path=\"url(#clip040)\" d=\"M566.128 221.888 L566.128 223.971 L546.544 223.971 Q546.822 228.369 549.183 230.684 Q551.568 232.976 555.804 232.976 Q558.257 232.976 560.549 232.374 Q562.864 231.772 565.132 230.569 L565.132 234.596 Q562.841 235.568 560.433 236.078 Q558.026 236.587 555.549 236.587 Q549.345 236.587 545.711 232.976 Q542.1 229.365 542.1 223.207 Q542.1 216.842 545.526 213.115 Q548.975 209.365 554.808 209.365 Q560.04 209.365 563.072 212.745 Q566.128 216.101 566.128 221.888 M561.868 220.638 Q561.822 217.143 559.901 215.059 Q558.003 212.976 554.855 212.976 Q551.29 212.976 549.137 214.99 Q547.007 217.004 546.683 220.661 L561.868 220.638 Z\" fill=\"#000000\" fill-rule=\"evenodd\" fill-opacity=\"1\" /><path clip-path=\"url(#clip040)\" d=\"M584.901 222.883 Q579.739 222.883 577.748 224.064 Q575.757 225.244 575.757 228.092 Q575.757 230.36 577.239 231.703 Q578.743 233.022 581.313 233.022 Q584.854 233.022 586.984 230.522 Q589.137 227.999 589.137 223.832 L589.137 222.883 L584.901 222.883 M593.396 221.124 L593.396 235.916 L589.137 235.916 L589.137 231.981 Q587.678 234.342 585.503 235.476 Q583.327 236.587 580.179 236.587 Q576.197 236.587 573.836 234.365 Q571.498 232.119 571.498 228.369 Q571.498 223.994 574.415 221.772 Q577.354 219.55 583.165 219.55 L589.137 219.55 L589.137 219.133 Q589.137 216.194 587.192 214.596 Q585.271 212.976 581.776 212.976 Q579.554 212.976 577.447 213.508 Q575.341 214.041 573.396 215.106 L573.396 211.17 Q575.734 210.268 577.933 209.828 Q580.132 209.365 582.216 209.365 Q587.841 209.365 590.618 212.282 Q593.396 215.198 593.396 221.124 Z\" fill=\"#000000\" fill-rule=\"evenodd\" fill-opacity=\"1\" /><path clip-path=\"url(#clip040)\" d=\"M602.169 199.897 L606.428 199.897 L606.428 235.916 L602.169 235.916 L602.169 199.897 Z\" fill=\"#000000\" fill-rule=\"evenodd\" fill-opacity=\"1\" /><path clip-path=\"url(#clip040)\" d=\"M613.188 221.032 L625.664 221.032 L625.664 224.828 L613.188 224.828 L613.188 221.032 Z\" fill=\"#000000\" fill-rule=\"evenodd\" fill-opacity=\"1\" /><path clip-path=\"url(#clip040)\" d=\"M653.349 202.49 L653.349 207.05 Q650.687 205.777 648.326 205.152 Q645.965 204.527 643.766 204.527 Q639.947 204.527 637.863 206.008 Q635.803 207.49 635.803 210.221 Q635.803 212.513 637.169 213.694 Q638.558 214.851 642.4 215.569 L645.224 216.147 Q650.456 217.143 652.933 219.666 Q655.433 222.166 655.433 226.379 Q655.433 231.402 652.053 233.994 Q648.697 236.587 642.192 236.587 Q639.738 236.587 636.961 236.031 Q634.206 235.476 631.243 234.388 L631.243 229.573 Q634.09 231.17 636.822 231.981 Q639.553 232.791 642.192 232.791 Q646.197 232.791 648.373 231.217 Q650.549 229.643 650.549 226.726 Q650.549 224.18 648.974 222.744 Q647.424 221.309 643.859 220.592 L641.012 220.036 Q635.78 218.995 633.442 216.772 Q631.104 214.55 631.104 210.592 Q631.104 206.008 634.322 203.37 Q637.562 200.731 643.234 200.731 Q645.664 200.731 648.187 201.171 Q650.711 201.61 653.349 202.49 Z\" fill=\"#000000\" fill-rule=\"evenodd\" fill-opacity=\"1\" /><path clip-path=\"url(#clip040)\" d=\"M666.66 232.027 L666.66 245.777 L662.377 245.777 L662.377 209.99 L666.66 209.99 L666.66 213.925 Q668.002 211.61 670.039 210.499 Q672.099 209.365 674.947 209.365 Q679.669 209.365 682.609 213.115 Q685.571 216.865 685.571 222.976 Q685.571 229.087 682.609 232.837 Q679.669 236.587 674.947 236.587 Q672.099 236.587 670.039 235.476 Q668.002 234.342 666.66 232.027 M681.15 222.976 Q681.15 218.277 679.206 215.615 Q677.284 212.93 673.905 212.93 Q670.525 212.93 668.581 215.615 Q666.66 218.277 666.66 222.976 Q666.66 227.675 668.581 230.36 Q670.525 233.022 673.905 233.022 Q677.284 233.022 679.206 230.36 Q681.15 227.675 681.15 222.976 Z\" fill=\"#000000\" fill-rule=\"evenodd\" fill-opacity=\"1\" /><path clip-path=\"url(#clip040)\" d=\"M704.414 222.883 Q699.252 222.883 697.261 224.064 Q695.271 225.244 695.271 228.092 Q695.271 230.36 696.752 231.703 Q698.257 233.022 700.826 233.022 Q704.368 233.022 706.497 230.522 Q708.65 227.999 708.65 223.832 L708.65 222.883 L704.414 222.883 M712.909 221.124 L712.909 235.916 L708.65 235.916 L708.65 231.981 Q707.192 234.342 705.016 235.476 Q702.84 236.587 699.692 236.587 Q695.71 236.587 693.349 234.365 Q691.011 232.119 691.011 228.369 Q691.011 223.994 693.928 221.772 Q696.868 219.55 702.678 219.55 L708.65 219.55 L708.65 219.133 Q708.65 216.194 706.706 214.596 Q704.784 212.976 701.289 212.976 Q699.067 212.976 696.96 213.508 Q694.854 214.041 692.909 215.106 L692.909 211.17 Q695.247 210.268 697.446 209.828 Q699.645 209.365 701.729 209.365 Q707.354 209.365 710.132 212.282 Q712.909 215.198 712.909 221.124 Z\" fill=\"#000000\" fill-rule=\"evenodd\" fill-opacity=\"1\" /><path clip-path=\"url(#clip040)\" d=\"M740.34 210.985 L740.34 214.967 Q738.534 213.971 736.705 213.485 Q734.9 212.976 733.048 212.976 Q728.905 212.976 726.613 215.615 Q724.321 218.231 724.321 222.976 Q724.321 227.721 726.613 230.36 Q728.905 232.976 733.048 232.976 Q734.9 232.976 736.705 232.49 Q738.534 231.981 740.34 230.985 L740.34 234.92 Q738.557 235.754 736.636 236.17 Q734.738 236.587 732.585 236.587 Q726.729 236.587 723.28 232.906 Q719.831 229.226 719.831 222.976 Q719.831 216.633 723.303 212.999 Q726.798 209.365 732.863 209.365 Q734.83 209.365 736.705 209.782 Q738.58 210.175 740.34 210.985 Z\" fill=\"#000000\" fill-rule=\"evenodd\" fill-opacity=\"1\" /><path clip-path=\"url(#clip040)\" d=\"M769.923 221.888 L769.923 223.971 L750.34 223.971 Q750.617 228.369 752.979 230.684 Q755.363 232.976 759.599 232.976 Q762.053 232.976 764.344 232.374 Q766.659 231.772 768.928 230.569 L768.928 234.596 Q766.636 235.568 764.228 236.078 Q761.821 236.587 759.344 236.587 Q753.141 236.587 749.506 232.976 Q745.895 229.365 745.895 223.207 Q745.895 216.842 749.321 213.115 Q752.77 209.365 758.603 209.365 Q763.835 209.365 766.867 212.745 Q769.923 216.101 769.923 221.888 M765.664 220.638 Q765.617 217.143 763.696 215.059 Q761.798 212.976 758.65 212.976 Q755.085 212.976 752.932 214.99 Q750.803 217.004 750.479 220.661 L765.664 220.638 Z\" fill=\"#000000\" fill-rule=\"evenodd\" fill-opacity=\"1\" /><circle clip-path=\"url(#clip040)\" cx=\"420.191\" cy=\"270.476\" r=\"23.04\" fill=\"#e26f46\" fill-rule=\"evenodd\" fill-opacity=\"1\" stroke=\"#000000\" stroke-opacity=\"1\" stroke-width=\"5.12\"/>\n",
       "<path clip-path=\"url(#clip040)\" d=\"M535.572 254.33 L535.572 258.89 Q532.91 257.617 530.549 256.992 Q528.188 256.367 525.989 256.367 Q522.17 256.367 520.086 257.848 Q518.026 259.33 518.026 262.061 Q518.026 264.353 519.392 265.534 Q520.781 266.691 524.623 267.409 L527.447 267.987 Q532.679 268.983 535.156 271.506 Q537.656 274.006 537.656 278.219 Q537.656 283.242 534.276 285.834 Q530.92 288.427 524.415 288.427 Q521.961 288.427 519.183 287.871 Q516.429 287.316 513.466 286.228 L513.466 281.413 Q516.313 283.01 519.045 283.821 Q521.776 284.631 524.415 284.631 Q528.42 284.631 530.595 283.057 Q532.771 281.483 532.771 278.566 Q532.771 276.02 531.197 274.584 Q529.646 273.149 526.082 272.432 L523.234 271.876 Q518.003 270.835 515.665 268.612 Q513.327 266.39 513.327 262.432 Q513.327 257.848 516.545 255.21 Q519.785 252.571 525.457 252.571 Q527.887 252.571 530.41 253.011 Q532.933 253.45 535.572 254.33 Z\" fill=\"#000000\" fill-rule=\"evenodd\" fill-opacity=\"1\" /><path clip-path=\"url(#clip040)\" d=\"M544.322 277.524 L544.322 261.83 L548.581 261.83 L548.581 277.362 Q548.581 281.043 550.017 282.895 Q551.452 284.723 554.322 284.723 Q557.771 284.723 559.762 282.524 Q561.776 280.325 561.776 276.529 L561.776 261.83 L566.035 261.83 L566.035 287.756 L561.776 287.756 L561.776 283.774 Q560.225 286.135 558.165 287.293 Q556.128 288.427 553.419 288.427 Q548.952 288.427 546.637 285.649 Q544.322 282.871 544.322 277.524 M555.04 261.205 L555.04 261.205 Z\" fill=\"#000000\" fill-rule=\"evenodd\" fill-opacity=\"1\" /><path clip-path=\"url(#clip040)\" d=\"M593.419 274.816 Q593.419 270.117 591.475 267.455 Q589.553 264.77 586.174 264.77 Q582.794 264.77 580.85 267.455 Q578.929 270.117 578.929 274.816 Q578.929 279.515 580.85 282.2 Q582.794 284.862 586.174 284.862 Q589.553 284.862 591.475 282.2 Q593.419 279.515 593.419 274.816 M578.929 265.765 Q580.271 263.45 582.308 262.339 Q584.368 261.205 587.216 261.205 Q591.938 261.205 594.878 264.955 Q597.84 268.705 597.84 274.816 Q597.84 280.927 594.878 284.677 Q591.938 288.427 587.216 288.427 Q584.368 288.427 582.308 287.316 Q580.271 286.182 578.929 283.867 L578.929 287.756 L574.646 287.756 L574.646 251.737 L578.929 251.737 L578.929 265.765 Z\" fill=\"#000000\" fill-rule=\"evenodd\" fill-opacity=\"1\" /><path clip-path=\"url(#clip040)\" d=\"M602.748 272.872 L615.225 272.872 L615.225 276.668 L602.748 276.668 L602.748 272.872 Z\" fill=\"#000000\" fill-rule=\"evenodd\" fill-opacity=\"1\" /><path clip-path=\"url(#clip040)\" d=\"M642.91 254.33 L642.91 258.89 Q640.248 257.617 637.887 256.992 Q635.525 256.367 633.326 256.367 Q629.507 256.367 627.424 257.848 Q625.363 259.33 625.363 262.061 Q625.363 264.353 626.729 265.534 Q628.118 266.691 631.961 267.409 L634.785 267.987 Q640.016 268.983 642.493 271.506 Q644.993 274.006 644.993 278.219 Q644.993 283.242 641.613 285.834 Q638.257 288.427 631.752 288.427 Q629.299 288.427 626.521 287.871 Q623.766 287.316 620.803 286.228 L620.803 281.413 Q623.651 283.01 626.382 283.821 Q629.113 284.631 631.752 284.631 Q635.757 284.631 637.933 283.057 Q640.109 281.483 640.109 278.566 Q640.109 276.02 638.535 274.584 Q636.984 273.149 633.419 272.432 L630.572 271.876 Q625.34 270.835 623.002 268.612 Q620.664 266.39 620.664 262.432 Q620.664 257.848 623.882 255.21 Q627.123 252.571 632.794 252.571 Q635.225 252.571 637.748 253.011 Q640.271 253.45 642.91 254.33 Z\" fill=\"#000000\" fill-rule=\"evenodd\" fill-opacity=\"1\" /><path clip-path=\"url(#clip040)\" d=\"M656.22 283.867 L656.22 297.617 L651.937 297.617 L651.937 261.83 L656.22 261.83 L656.22 265.765 Q657.562 263.45 659.599 262.339 Q661.66 261.205 664.507 261.205 Q669.229 261.205 672.169 264.955 Q675.132 268.705 675.132 274.816 Q675.132 280.927 672.169 284.677 Q669.229 288.427 664.507 288.427 Q661.66 288.427 659.599 287.316 Q657.562 286.182 656.22 283.867 M670.71 274.816 Q670.71 270.117 668.766 267.455 Q666.845 264.77 663.465 264.77 Q660.086 264.77 658.141 267.455 Q656.22 270.117 656.22 274.816 Q656.22 279.515 658.141 282.2 Q660.086 284.862 663.465 284.862 Q666.845 284.862 668.766 282.2 Q670.71 279.515 670.71 274.816 Z\" fill=\"#000000\" fill-rule=\"evenodd\" fill-opacity=\"1\" /><path clip-path=\"url(#clip040)\" d=\"M693.974 274.723 Q688.812 274.723 686.821 275.904 Q684.831 277.084 684.831 279.932 Q684.831 282.2 686.312 283.543 Q687.817 284.862 690.386 284.862 Q693.928 284.862 696.058 282.362 Q698.21 279.839 698.21 275.672 L698.21 274.723 L693.974 274.723 M702.47 272.964 L702.47 287.756 L698.21 287.756 L698.21 283.821 Q696.752 286.182 694.576 287.316 Q692.4 288.427 689.252 288.427 Q685.271 288.427 682.909 286.205 Q680.572 283.959 680.572 280.209 Q680.572 275.834 683.488 273.612 Q686.428 271.39 692.238 271.39 L698.21 271.39 L698.21 270.973 Q698.21 268.034 696.266 266.436 Q694.345 264.816 690.849 264.816 Q688.627 264.816 686.521 265.348 Q684.414 265.881 682.47 266.946 L682.47 263.01 Q684.808 262.108 687.007 261.668 Q689.206 261.205 691.289 261.205 Q696.914 261.205 699.692 264.122 Q702.47 267.038 702.47 272.964 Z\" fill=\"#000000\" fill-rule=\"evenodd\" fill-opacity=\"1\" /><path clip-path=\"url(#clip040)\" d=\"M729.9 262.825 L729.9 266.807 Q728.094 265.811 726.266 265.325 Q724.46 264.816 722.608 264.816 Q718.465 264.816 716.173 267.455 Q713.882 270.071 713.882 274.816 Q713.882 279.561 716.173 282.2 Q718.465 284.816 722.608 284.816 Q724.46 284.816 726.266 284.33 Q728.094 283.821 729.9 282.825 L729.9 286.76 Q728.118 287.594 726.196 288.01 Q724.298 288.427 722.145 288.427 Q716.289 288.427 712.84 284.746 Q709.391 281.066 709.391 274.816 Q709.391 268.473 712.863 264.839 Q716.358 261.205 722.423 261.205 Q724.391 261.205 726.266 261.622 Q728.141 262.015 729.9 262.825 Z\" fill=\"#000000\" fill-rule=\"evenodd\" fill-opacity=\"1\" /><path clip-path=\"url(#clip040)\" d=\"M759.483 273.728 L759.483 275.811 L739.9 275.811 Q740.178 280.209 742.539 282.524 Q744.923 284.816 749.159 284.816 Q751.613 284.816 753.904 284.214 Q756.219 283.612 758.488 282.409 L758.488 286.436 Q756.196 287.408 753.789 287.918 Q751.381 288.427 748.904 288.427 Q742.701 288.427 739.067 284.816 Q735.455 281.205 735.455 275.047 Q735.455 268.682 738.881 264.955 Q742.33 261.205 748.164 261.205 Q753.395 261.205 756.428 264.585 Q759.483 267.941 759.483 273.728 M755.224 272.478 Q755.178 268.983 753.256 266.899 Q751.358 264.816 748.21 264.816 Q744.645 264.816 742.492 266.83 Q740.363 268.844 740.039 272.501 L755.224 272.478 Z\" fill=\"#000000\" fill-rule=\"evenodd\" fill-opacity=\"1\" /></svg>\n"
      ]
     },
     "execution_count": 73,
     "metadata": {},
     "output_type": "execute_result"
    }
   ],
   "source": [
    "#U çok küçükken (Band-Gap büyüdüğünde) subspace enerjileri, real-space enerjilerine yakınsar:\n",
    "\n",
    "using Plots\n",
    "\n",
    "MB_Hamiltonian = Kagome_Finite_U(Nx,Ny,Basis_MB,U,sp_op)\n",
    "real_space_finite_u = eigenenergies(dense(MB_Hamiltonian)); sub_space_finite_u = E_States[1]\n",
    "plot(1:length(real_space_finite_u[1:21]),real_space_finite_u,seriestype=:scatter,markershape=:star5,markersize=7,label=\"Real-Space\")\n",
    "plot!(1:length(sub_space_finite_u),sub_space_finite_u,seriestype=:scatter,label=\"Sub-Space\",legend=:topleft)\n",
    "title!(\"U=$(U)\");xlabel!(\"n\");ylabel!(\"E\")"
   ]
  }
 ],
 "metadata": {
  "kernelspec": {
   "display_name": "Julia 1.7.2",
   "language": "julia",
   "name": "julia-1.7"
  },
  "language_info": {
   "file_extension": ".jl",
   "mimetype": "application/julia",
   "name": "julia",
   "version": "1.7.2"
  }
 },
 "nbformat": 4,
 "nbformat_minor": 5
}
