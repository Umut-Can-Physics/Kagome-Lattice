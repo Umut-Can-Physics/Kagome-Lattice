{
 "cells": [
  {
   "cell_type": "code",
   "execution_count": 1,
   "id": "9d65a56d",
   "metadata": {
    "tags": []
   },
   "outputs": [
    {
     "data": {
      "text/plain": [
       "get_SP_H (generic function with 1 method)"
      ]
     },
     "execution_count": 1,
     "metadata": {},
     "output_type": "execute_result"
    }
   ],
   "source": [
    "using NBInclude\n",
    "@nbinclude(\"Kagome SP.ipynb\")"
   ]
  },
  {
   "cell_type": "code",
   "execution_count": 2,
   "id": "0865fe06",
   "metadata": {
    "tags": []
   },
   "outputs": [],
   "source": [
    "using QuantumOptics\n",
    "\n",
    "# https://juliapackages.com/p/einsum\n",
    "using Einsum\n",
    "\n",
    "using BenchmarkTools\n",
    "\n",
    "using LinearAlgebra"
   ]
  },
  {
   "cell_type": "code",
   "execution_count": 69,
   "id": "72e09226",
   "metadata": {
    "tags": []
   },
   "outputs": [
    {
     "data": {
      "text/plain": [
       "0.2"
      ]
     },
     "execution_count": 69,
     "metadata": {},
     "output_type": "execute_result"
    }
   ],
   "source": [
    "Nx = 4; Ny = 4; N=Nx*Ny*3; cut_off = 5\n",
    "PN = [0,1,2,3]\n",
    "U = 0.001\n",
    "# t1=-1;L1=0 ;t2=L2=0\n",
    "# t1=L1=0;t2=L2=-1\n",
    "t1 = -1;L1 = 0.28;t2 = 0.3;L2 = 0.2;\n",
    "# t1=t2=-1;L1=L2=0"
   ]
  },
  {
   "cell_type": "code",
   "execution_count": 70,
   "id": "faf26652-5e48-4f33-8abe-67ef77bd6732",
   "metadata": {
    "tags": []
   },
   "outputs": [],
   "source": [
    "sp_basis = NLevelBasis(N)\n",
    "sp_matrix = get_SP_H(Nx, Ny, t1, L1, t2, L2);"
   ]
  },
  {
   "cell_type": "code",
   "execution_count": 71,
   "id": "a8d3931c",
   "metadata": {
    "tags": []
   },
   "outputs": [
    {
     "data": {
      "text/plain": [
       "get_sp_op (generic function with 1 method)"
      ]
     },
     "execution_count": 71,
     "metadata": {},
     "output_type": "execute_result"
    }
   ],
   "source": [
    "function get_sp_op(sp_basis, sp_matrix)\n",
    "  \n",
    "    H = SparseOperator(sp_basis)\n",
    "\n",
    "    for m in 1:N\n",
    "        for n in 1:N\n",
    "            H += sp_matrix.data[m,n] * transition(sp_basis, m, n)\n",
    "        end\n",
    "    end\n",
    "    \n",
    "    return H\n",
    "end"
   ]
  },
  {
   "cell_type": "code",
   "execution_count": 72,
   "id": "63cd0f75-8cde-4635-a93f-b43c8bc7d70b",
   "metadata": {
    "tags": []
   },
   "outputs": [],
   "source": [
    "H1 = get_sp_op(sp_basis, sp_matrix);"
   ]
  },
  {
   "cell_type": "code",
   "execution_count": 73,
   "id": "54574062-6ad5-4ef0-bcb3-4c466fff5311",
   "metadata": {
    "tags": []
   },
   "outputs": [
    {
     "data": {
      "text/plain": [
       "true"
      ]
     },
     "execution_count": 73,
     "metadata": {},
     "output_type": "execute_result"
    }
   ],
   "source": [
    "#check operator form\n",
    "eigenenergies(dense(H1)) == eigenenergies(dense(sp_matrix))"
   ]
  },
  {
   "cell_type": "code",
   "execution_count": 74,
   "id": "3b820db5",
   "metadata": {
    "tags": []
   },
   "outputs": [
    {
     "data": {
      "text/plain": [
       "get_sub_states (generic function with 1 method)"
      ]
     },
     "execution_count": 74,
     "metadata": {},
     "output_type": "execute_result"
    }
   ],
   "source": [
    "function get_sub_states(sp_op, cut_off)\n",
    "    \n",
    "    E0, states0 = eigenstates(dense(sp_op))\n",
    "    states = states0[1:cut_off]\n",
    "    \n",
    "    return states\n",
    "end"
   ]
  },
  {
   "cell_type": "code",
   "execution_count": 75,
   "id": "33b796d2-62fe-44a0-a564-d306d96ed16a",
   "metadata": {
    "tags": []
   },
   "outputs": [],
   "source": [
    "sub_states = get_sub_states(H1, cut_off);"
   ]
  },
  {
   "cell_type": "code",
   "execution_count": 76,
   "id": "6c0f0db6",
   "metadata": {
    "tags": []
   },
   "outputs": [
    {
     "data": {
      "text/plain": [
       "get_projector_op (generic function with 1 method)"
      ]
     },
     "execution_count": 76,
     "metadata": {},
     "output_type": "execute_result"
    }
   ],
   "source": [
    "function get_projector_op(states, basis)\n",
    "    \n",
    "    b_sub = SubspaceBasis(basis,states)\n",
    "    P = projector(b_sub, basis)\n",
    "    Pt = dagger(P)\n",
    "    \n",
    "    return b_sub, P, Pt\n",
    "end"
   ]
  },
  {
   "cell_type": "code",
   "execution_count": 77,
   "id": "2337e8cd-5529-452a-947d-e63ca4e70ac7",
   "metadata": {
    "tags": []
   },
   "outputs": [],
   "source": [
    "b_sub, P, Pt = get_projector_op(sub_states, sp_basis);"
   ]
  },
  {
   "cell_type": "code",
   "execution_count": 78,
   "id": "f67102ba-1e4c-40d3-b8dc-2f8b585233ac",
   "metadata": {
    "tags": []
   },
   "outputs": [
    {
     "data": {
      "text/plain": [
       "get_subspace_op (generic function with 1 method)"
      ]
     },
     "execution_count": 78,
     "metadata": {},
     "output_type": "execute_result"
    }
   ],
   "source": [
    "function get_subspace_op(sp_op, P, Pt)\n",
    "    return P*sp_op*Pt\n",
    "end"
   ]
  },
  {
   "cell_type": "code",
   "execution_count": 79,
   "id": "39a357f9-9187-469d-8b85-8097ad10bb88",
   "metadata": {
    "tags": []
   },
   "outputs": [],
   "source": [
    "H1_sub = get_subspace_op(H1, P, Pt);"
   ]
  },
  {
   "cell_type": "code",
   "execution_count": 80,
   "id": "c78ac145",
   "metadata": {
    "tags": []
   },
   "outputs": [],
   "source": [
    "states_mb = bosonstates(b_sub, PN) \n",
    "basis_mb = ManyBodyBasis(b_sub, states_mb);"
   ]
  },
  {
   "cell_type": "code",
   "execution_count": 81,
   "id": "922bdb38-4290-4c4f-8176-77e9f032d27b",
   "metadata": {
    "tags": []
   },
   "outputs": [
    {
     "data": {
      "text/plain": [
       "get_mb_op (generic function with 1 method)"
      ]
     },
     "execution_count": 81,
     "metadata": {},
     "output_type": "execute_result"
    }
   ],
   "source": [
    "function get_mb_op(basis_mb, basis, sp_op)\n",
    "    \n",
    "    Op_MB = SparseOperator(basis_mb)\n",
    "    \n",
    "    for i in 1:length(basis)\n",
    "        for j in 1:length(basis)\n",
    "            Op_MB += sp_op.data[i,j] * transition(basis_mb, i, j)\n",
    "        end\n",
    "    end\n",
    "    \n",
    "    return Op_MB\n",
    "end"
   ]
  },
  {
   "cell_type": "code",
   "execution_count": 82,
   "id": "e9a37f7f",
   "metadata": {
    "tags": []
   },
   "outputs": [],
   "source": [
    "H1_MB = get_mb_op(basis_mb, b_sub, H1_sub);"
   ]
  },
  {
   "cell_type": "code",
   "execution_count": 83,
   "id": "cccfa7c5-2169-43d5-a03d-769599c4687d",
   "metadata": {
    "tags": []
   },
   "outputs": [
    {
     "data": {
      "text/plain": [
       "Kagome_Finite_U (generic function with 1 method)"
      ]
     },
     "execution_count": 83,
     "metadata": {},
     "output_type": "execute_result"
    }
   ],
   "source": [
    "@nbinclude(\"Kagome MB .ipynb\"; regex=r\"#.*executeme\")"
   ]
  },
  {
   "cell_type": "code",
   "execution_count": 84,
   "id": "83e1c3be-f909-4683-9a8e-9c893d207be0",
   "metadata": {
    "tags": []
   },
   "outputs": [
    {
     "data": {
      "text/plain": [
       "get_hubbard_int (generic function with 1 method)"
      ]
     },
     "execution_count": 84,
     "metadata": {},
     "output_type": "execute_result"
    }
   ],
   "source": [
    "function get_hubbard_int(P, Pt, b_sub, cut_off)\n",
    "    \n",
    "    bcut_mb = get_Bosonic_MB_Basis(cut_off, PN)\n",
    "    \n",
    "    @time begin\n",
    "    P1 = P.data\n",
    "    P1t = Pt.data;\n",
    "\n",
    "    @einsum P4[k,l,m,n] := P1[k,i] * P1[l,i] * P1t[i,m] * P1t[i,n]\n",
    "\n",
    "    Vint_mb_cut = SparseOperator(bcut_mb)\n",
    "        \n",
    "    for k in 1:cut_off\n",
    "        for l in 1:cut_off\n",
    "            for m in 1:cut_off\n",
    "                for n in 1:cut_off\n",
    "                    a1t = create(bcut_mb, k)\n",
    "                    a2t = create(bcut_mb, l)\n",
    "                    a2  = destroy(bcut_mb, m)      \n",
    "                    a1  = destroy(bcut_mb, n)      \n",
    "                    Vint_mb_cut += U/2*P4[k,l,m,n]*a1t*a2t*a2*a1\n",
    "                end\n",
    "            end\n",
    "        end\n",
    "    end\n",
    "    end\n",
    "    \n",
    "    return Vint_mb_cut\n",
    "end"
   ]
  },
  {
   "cell_type": "code",
   "execution_count": 85,
   "id": "409cb213",
   "metadata": {
    "tags": []
   },
   "outputs": [
    {
     "name": "stdout",
     "output_type": "stream",
     "text": [
      "  0.314462 seconds (227.01 k allocations: 36.540 MiB, 6.93% gc time, 79.76% compilation time)\n"
     ]
    }
   ],
   "source": [
    "H1_Int = get_hubbard_int(P, Pt, b_sub, cut_off);"
   ]
  },
  {
   "cell_type": "code",
   "execution_count": 86,
   "id": "f62bf8ee-c781-4657-a95e-7d5c574681e2",
   "metadata": {
    "tags": []
   },
   "outputs": [],
   "source": [
    "bcut_mb = get_Bosonic_MB_Basis(cut_off,PN)\n",
    "H1cut = SparseOperator(bcut_mb)\n",
    "H1cut.data = H1_MB.data\n",
    "H_MB = H1cut + H1_Int;"
   ]
  },
  {
   "cell_type": "code",
   "execution_count": 87,
   "id": "dcd68fec-34ab-4dad-9f6a-2a7e35283a29",
   "metadata": {
    "tags": []
   },
   "outputs": [
    {
     "data": {
      "text/plain": [
       "get_energies (generic function with 1 method)"
      ]
     },
     "execution_count": 87,
     "metadata": {},
     "output_type": "execute_result"
    }
   ],
   "source": [
    "using DataFrames\n",
    "\n",
    "function get_energies(pn, Energies, states, basis)\n",
    "    PN_Energies = Array{Float64}(undef, length(states[1]), 2)\n",
    "    for i in 1:length(Energies)\n",
    "        PN_Energies[i] = round(expect(number(basis), states[i])) #expected values (first column)\n",
    "        PN_Energies[i,2] = E[i] #eigen-values (second column)\n",
    "    end\n",
    "    df = DataFrame(PN_Energies, :auto)\n",
    "    df = filter(row -> (row.x1 == pn),  df)\n",
    "    \n",
    "    return df\n",
    "end"
   ]
  },
  {
   "cell_type": "code",
   "execution_count": 88,
   "id": "939551eb-6b62-4c52-8bb3-4184c7afb59a",
   "metadata": {
    "tags": []
   },
   "outputs": [
    {
     "data": {
      "text/html": [
       "<div class=\"data-frame\"><p>15 rows × 2 columns</p><table class=\"data-frame\"><thead><tr><th></th><th>x1</th><th>x2</th></tr><tr><th></th><th title=\"Float64\">Float64</th><th title=\"Float64\">Float64</th></tr></thead><tbody><tr><th>1</th><td>2.0</td><td>-5.59998</td></tr><tr><th>2</th><td>2.0</td><td>-5.57153</td></tr><tr><th>3</th><td>2.0</td><td>-5.57153</td></tr><tr><th>4</th><td>2.0</td><td>-5.57153</td></tr><tr><th>5</th><td>2.0</td><td>-5.56714</td></tr><tr><th>6</th><td>2.0</td><td>-5.54314</td></tr><tr><th>7</th><td>2.0</td><td>-5.54311</td></tr><tr><th>8</th><td>2.0</td><td>-5.54311</td></tr><tr><th>9</th><td>2.0</td><td>-5.54311</td></tr><tr><th>10</th><td>2.0</td><td>-5.5431</td></tr><tr><th>11</th><td>2.0</td><td>-5.54308</td></tr><tr><th>12</th><td>2.0</td><td>-5.53871</td></tr><tr><th>13</th><td>2.0</td><td>-5.53871</td></tr><tr><th>14</th><td>2.0</td><td>-5.5387</td></tr><tr><th>15</th><td>2.0</td><td>-5.53432</td></tr></tbody></table></div>"
      ],
      "text/latex": [
       "\\begin{tabular}{r|cc}\n",
       "\t& x1 & x2\\\\\n",
       "\t\\hline\n",
       "\t& Float64 & Float64\\\\\n",
       "\t\\hline\n",
       "\t1 & 2.0 & -5.59998 \\\\\n",
       "\t2 & 2.0 & -5.57153 \\\\\n",
       "\t3 & 2.0 & -5.57153 \\\\\n",
       "\t4 & 2.0 & -5.57153 \\\\\n",
       "\t5 & 2.0 & -5.56714 \\\\\n",
       "\t6 & 2.0 & -5.54314 \\\\\n",
       "\t7 & 2.0 & -5.54311 \\\\\n",
       "\t8 & 2.0 & -5.54311 \\\\\n",
       "\t9 & 2.0 & -5.54311 \\\\\n",
       "\t10 & 2.0 & -5.5431 \\\\\n",
       "\t11 & 2.0 & -5.54308 \\\\\n",
       "\t12 & 2.0 & -5.53871 \\\\\n",
       "\t13 & 2.0 & -5.53871 \\\\\n",
       "\t14 & 2.0 & -5.5387 \\\\\n",
       "\t15 & 2.0 & -5.53432 \\\\\n",
       "\\end{tabular}\n"
      ],
      "text/plain": [
       "\u001b[1m15×2 DataFrame\u001b[0m\n",
       "\u001b[1m Row \u001b[0m│\u001b[1m x1      \u001b[0m\u001b[1m x2       \u001b[0m\n",
       "\u001b[1m     \u001b[0m│\u001b[90m Float64 \u001b[0m\u001b[90m Float64  \u001b[0m\n",
       "─────┼───────────────────\n",
       "   1 │     2.0  -5.59998\n",
       "   2 │     2.0  -5.57153\n",
       "   3 │     2.0  -5.57153\n",
       "   4 │     2.0  -5.57153\n",
       "   5 │     2.0  -5.56714\n",
       "   6 │     2.0  -5.54314\n",
       "   7 │     2.0  -5.54311\n",
       "   8 │     2.0  -5.54311\n",
       "   9 │     2.0  -5.54311\n",
       "  10 │     2.0  -5.5431\n",
       "  11 │     2.0  -5.54308\n",
       "  12 │     2.0  -5.53871\n",
       "  13 │     2.0  -5.53871\n",
       "  14 │     2.0  -5.5387\n",
       "  15 │     2.0  -5.53432"
      ]
     },
     "execution_count": 88,
     "metadata": {},
     "output_type": "execute_result"
    }
   ],
   "source": [
    "pn = 2\n",
    "E, S = eigenstates(dense(dense((H_MB+dagger(H_MB))/2)))\n",
    "get_energies(pn, E, S, bcut_mb)"
   ]
  },
  {
   "cell_type": "markdown",
   "id": "9000cb20-fc3f-4c65-9826-0479992a1fd5",
   "metadata": {
    "tags": []
   },
   "source": [
    "# Density-Profile"
   ]
  },
  {
   "cell_type": "code",
   "execution_count": 89,
   "id": "7374f5c9-e6ef-432c-8b21-f94558fdb80f",
   "metadata": {
    "tags": []
   },
   "outputs": [
    {
     "data": {
      "text/plain": [
       "get_num_sub_list (generic function with 1 method)"
      ]
     },
     "execution_count": 89,
     "metadata": {},
     "output_type": "execute_result"
    }
   ],
   "source": [
    "function get_num_sub_list(sp_basis, P, Pt)\n",
    "    num_sub_list = []\n",
    "    for m in 1:N\n",
    "        NM = transition(sp_basis, m, m)\n",
    "        NMP = get_subspace_op(NM, P, Pt)\n",
    "        push!(num_sub_list, NMP)\n",
    "    end\n",
    "    return num_sub_list\n",
    "end"
   ]
  },
  {
   "cell_type": "code",
   "execution_count": 90,
   "id": "b29552d4-5ab9-410e-8203-0ca1c444059b",
   "metadata": {
    "tags": []
   },
   "outputs": [],
   "source": [
    "num_sub_list = get_num_sub_list(sp_basis,P,Pt);"
   ]
  },
  {
   "cell_type": "code",
   "execution_count": 91,
   "id": "e974bcba-339d-458e-bc78-0cdc2ca0c503",
   "metadata": {
    "tags": []
   },
   "outputs": [
    {
     "data": {
      "text/plain": [
       "get_mb_op (generic function with 1 method)"
      ]
     },
     "execution_count": 91,
     "metadata": {},
     "output_type": "execute_result"
    }
   ],
   "source": [
    "function get_mb_op(basis_mb, basis, sp_op)\n",
    "    \n",
    "    Op_MB = SparseOperator(basis_mb)\n",
    "    \n",
    "    for i in 1:length(basis)\n",
    "        for j in 1:length(basis)\n",
    "            Op_MB += sp_op.data[i,j] * transition(basis_mb, i, j)\n",
    "        end\n",
    "    end\n",
    "    \n",
    "    return Op_MB\n",
    "end"
   ]
  },
  {
   "cell_type": "code",
   "execution_count": 92,
   "id": "788c54ae-c9a7-43bf-acea-4a40dadd5d49",
   "metadata": {
    "tags": []
   },
   "outputs": [
    {
     "data": {
      "text/plain": [
       "get_num_mb_list (generic function with 1 method)"
      ]
     },
     "execution_count": 92,
     "metadata": {},
     "output_type": "execute_result"
    }
   ],
   "source": [
    "function get_num_mb_list(basis_mb, basis, num_sub_list)\n",
    "    \n",
    "    num_mb_list = []\n",
    "    \n",
    "    for m in 1:N\n",
    "        NMP = get_mb_op(basis_mb, basis, num_sub_list[m])\n",
    "        push!(num_mb_list, NMP)\n",
    "    end\n",
    "    \n",
    "    return num_mb_list\n",
    "end"
   ]
  },
  {
   "cell_type": "code",
   "execution_count": 93,
   "id": "20382845-dde4-4fbb-85e2-035c6b08baf5",
   "metadata": {
    "tags": []
   },
   "outputs": [],
   "source": [
    "num_mb_list = get_num_mb_list(basis_mb, b_sub, num_sub_list);"
   ]
  },
  {
   "cell_type": "markdown",
   "id": "092b5256-466a-427e-8ce4-528144ed5278",
   "metadata": {},
   "source": [
    "## num_mb_list[i] & number(bcut_mb,i)"
   ]
  },
  {
   "cell_type": "code",
   "execution_count": 94,
   "id": "2dea7292-5d22-47c0-9c54-07f12ed6fa58",
   "metadata": {
    "tags": []
   },
   "outputs": [
    {
     "data": {
      "text/plain": [
       "Operator(dim=56x56)\n",
       "  basis: ManyBody(onebodybasis=Subspace(superbasis=NLevel(N=48), states:5), states:56)sparse([2, 3, 4, 5, 6, 2, 3, 4, 5, 6  …  51, 52, 54, 55, 56, 36, 46, 52, 55, 56], [2, 2, 2, 2, 2, 3, 3, 3, 3, 3  …  55, 55, 55, 55, 55, 56, 56, 56, 56, 56], ComplexF64[0.02083333333333677 + 0.0im, 0.02434771592652171 - 0.014300956203994im, 0.00141509808154258 + 0.00082916494984738im, -0.0194894041552408 - 0.01105566925726306im, 0.00528383030426468 + 0.00498833530899649im, 0.02434771592652171 + 0.014300956203994im, 0.03827177372097706 + 0.0im, 0.00108463461426752 + 0.00194042536049291im, -0.01518796003655812 - 0.02629907566652964im, 0.00275093925443414 + 0.00945688304737332im  …  0.00078833632930482 - 0.00018177623461874im, -0.00176382681003412 - 2.472357421504e-5im, -0.0151802966023766 + 0.00372512665376931im, 0.02916813123507372 + 0.0im, -0.01314652249464073 - 0.00322605431447874im, 0.00915186254555854 - 0.00864005020037171im, 0.00476476655721558 - 0.01637980191928738im, 0.00096551087624774 - 0.00022262951109018im, -0.01314652249464073 + 0.00322605431447874im, 0.00760353866485029 + 0.0im], 56, 56)"
      ]
     },
     "execution_count": 94,
     "metadata": {},
     "output_type": "execute_result"
    }
   ],
   "source": [
    "num_mb_list[21] #num 21"
   ]
  },
  {
   "cell_type": "code",
   "execution_count": 95,
   "id": "417a3632-0196-424b-b933-e28e95535a63",
   "metadata": {
    "tags": []
   },
   "outputs": [
    {
     "data": {
      "text/plain": [
       "Operator(dim=56x56)\n",
       "  basis: ManyBody(onebodybasis=NLevel(N=5), states:56)sparse([6, 11, 15, 18, 20, 21, 26, 30, 33, 35  …  40, 43, 45, 46, 49, 51, 52, 54, 55, 56], [6, 11, 15, 18, 20, 21, 26, 30, 33, 35  …  40, 43, 45, 46, 49, 51, 52, 54, 55, 56], ComplexF64[1.0 + 0.0im, 1.0 + 0.0im, 1.0 + 0.0im, 1.0 + 0.0im, 1.0 + 0.0im, 2.0 + 0.0im, 1.0 + 0.0im, 1.0 + 0.0im, 1.0 + 0.0im, 1.0 + 0.0im  …  1.0 + 0.0im, 1.0 + 0.0im, 1.0 + 0.0im, 2.0 + 0.0im, 1.0 + 0.0im, 1.0 + 0.0im, 2.0 + 0.0im, 1.0 + 0.0im, 2.0 + 0.0im, 3.0 + 0.0im], 56, 56)"
      ]
     },
     "execution_count": 95,
     "metadata": {},
     "output_type": "execute_result"
    }
   ],
   "source": [
    "number(bcut_mb,5) #num 5"
   ]
  },
  {
   "cell_type": "markdown",
   "id": "2269caca-2d8b-47ca-b94c-17cc6fe769a7",
   "metadata": {},
   "source": [
    "## Error (IT DOESN'T WORK?)"
   ]
  },
  {
   "cell_type": "code",
   "execution_count": 97,
   "id": "f83838bd-a43c-4a6c-b983-abb684661e89",
   "metadata": {
    "tags": []
   },
   "outputs": [
    {
     "data": {
      "text/plain": [
       "Operator{ManyBodyBasis{Vector{Int64}, SubspaceBasis{Vector{Int64}, NLevelBasis{Int64}, Ket{NLevelBasis{Int64}, Vector{ComplexF64}}, 0x6e89b9c05d6b6b3a, UInt64}, 0xbfa4cc919ddd872b, UInt64}, ManyBodyBasis{Vector{Int64}, SubspaceBasis{Vector{Int64}, NLevelBasis{Int64}, Ket{NLevelBasis{Int64}, Vector{ComplexF64}}, 0x6e89b9c05d6b6b3a, UInt64}, 0xbfa4cc919ddd872b, UInt64}, Matrix{ComplexF64}}"
      ]
     },
     "execution_count": 97,
     "metadata": {},
     "output_type": "execute_result"
    }
   ],
   "source": [
    "typeof(dense(num_mb_list[1]))"
   ]
  },
  {
   "cell_type": "code",
   "execution_count": 98,
   "id": "80b351a4-1b94-4ac3-bc19-4eccbe036073",
   "metadata": {
    "tags": []
   },
   "outputs": [
    {
     "data": {
      "text/plain": [
       "Ket{ManyBodyBasis{Vector{Int64}, NLevelBasis{Int64}, 0xbfa4cc919ddd872b, UInt64}, Vector{ComplexF64}}"
      ]
     },
     "execution_count": 98,
     "metadata": {},
     "output_type": "execute_result"
    }
   ],
   "source": [
    "typeof(S[1])"
   ]
  },
  {
   "cell_type": "code",
   "execution_count": 99,
   "id": "f40f1ab3-a1a5-44a5-bd3b-ea70ac2b483c",
   "metadata": {
    "tags": []
   },
   "outputs": [
    {
     "ename": "LoadError",
     "evalue": "MethodError: no method matching expect(::Operator{ManyBodyBasis{Vector{Int64}, SubspaceBasis{Vector{Int64}, NLevelBasis{Int64}, Ket{NLevelBasis{Int64}, Vector{ComplexF64}}, 0x6e89b9c05d6b6b3a, UInt64}, 0xbfa4cc919ddd872b, UInt64}, ManyBodyBasis{Vector{Int64}, SubspaceBasis{Vector{Int64}, NLevelBasis{Int64}, Ket{NLevelBasis{Int64}, Vector{ComplexF64}}, 0x6e89b9c05d6b6b3a, UInt64}, 0xbfa4cc919ddd872b, UInt64}, SparseArrays.SparseMatrixCSC{ComplexF64, Int64}}, ::Ket{ManyBodyBasis{Vector{Int64}, NLevelBasis{Int64}, 0xbfa4cc919ddd872b, UInt64}, Ket{ManyBodyBasis{Vector{Int64}, NLevelBasis{Int64}, 0xbfa4cc919ddd872b, UInt64}, Vector{ComplexF64}}})\n\u001b[0mClosest candidates are:\n\u001b[0m  expect(::AbstractOperator, \u001b[91m::Vector\u001b[39m) at C:\\Users\\Can\\.julia\\packages\\QuantumOpticsBase\\iQrMn\\src\\operators.jl:301\n\u001b[0m  expect(::DataOperator{B, B}, \u001b[91m::Ket{B}\u001b[39m) where B at C:\\Users\\Can\\.julia\\packages\\QuantumOpticsBase\\iQrMn\\src\\operators_dense.jl:208\n\u001b[0m  expect(::AbstractOperator{B, B}, \u001b[91m::Ket{B}\u001b[39m) where B at C:\\Users\\Can\\.julia\\packages\\QuantumOpticsBase\\iQrMn\\src\\operators.jl:279\n\u001b[0m  ...",
     "output_type": "error",
     "traceback": [
      "MethodError: no method matching expect(::Operator{ManyBodyBasis{Vector{Int64}, SubspaceBasis{Vector{Int64}, NLevelBasis{Int64}, Ket{NLevelBasis{Int64}, Vector{ComplexF64}}, 0x6e89b9c05d6b6b3a, UInt64}, 0xbfa4cc919ddd872b, UInt64}, ManyBodyBasis{Vector{Int64}, SubspaceBasis{Vector{Int64}, NLevelBasis{Int64}, Ket{NLevelBasis{Int64}, Vector{ComplexF64}}, 0x6e89b9c05d6b6b3a, UInt64}, 0xbfa4cc919ddd872b, UInt64}, SparseArrays.SparseMatrixCSC{ComplexF64, Int64}}, ::Ket{ManyBodyBasis{Vector{Int64}, NLevelBasis{Int64}, 0xbfa4cc919ddd872b, UInt64}, Ket{ManyBodyBasis{Vector{Int64}, NLevelBasis{Int64}, 0xbfa4cc919ddd872b, UInt64}, Vector{ComplexF64}}})\n\u001b[0mClosest candidates are:\n\u001b[0m  expect(::AbstractOperator, \u001b[91m::Vector\u001b[39m) at C:\\Users\\Can\\.julia\\packages\\QuantumOpticsBase\\iQrMn\\src\\operators.jl:301\n\u001b[0m  expect(::DataOperator{B, B}, \u001b[91m::Ket{B}\u001b[39m) where B at C:\\Users\\Can\\.julia\\packages\\QuantumOpticsBase\\iQrMn\\src\\operators_dense.jl:208\n\u001b[0m  expect(::AbstractOperator{B, B}, \u001b[91m::Ket{B}\u001b[39m) where B at C:\\Users\\Can\\.julia\\packages\\QuantumOpticsBase\\iQrMn\\src\\operators.jl:279\n\u001b[0m  ...",
      "",
      "Stacktrace:",
      " [1] top-level scope",
      "   @ In[99]:1",
      " [2] eval",
      "   @ .\\boot.jl:373 [inlined]",
      " [3] include_string(mapexpr::typeof(REPL.softscope), mod::Module, code::String, filename::String)",
      "   @ Base .\\loading.jl:1196"
     ]
    }
   ],
   "source": [
    "expect(num_mb_list[1],Ket(bcut_mb,S[1]))"
   ]
  },
  {
   "cell_type": "markdown",
   "id": "404adfb7-75e3-4486-929a-e245a5af5a2e",
   "metadata": {},
   "source": [
    "## Version Check"
   ]
  },
  {
   "cell_type": "code",
   "execution_count": 100,
   "id": "d37eaaa1-098b-4103-9d1b-843b67d7af67",
   "metadata": {
    "tags": []
   },
   "outputs": [
    {
     "name": "stdout",
     "output_type": "stream",
     "text": [
      "\u001b[32m\u001b[1m      Status\u001b[22m\u001b[39m `C:\\Users\\Can\\.julia\\environments\\v1.7\\Project.toml`\n",
      " \u001b[90m [7d9fca2a] \u001b[39mArpack v0.5.4\n",
      " \u001b[90m [6e4b80f9] \u001b[39mBenchmarkTools v1.3.2\n",
      " \u001b[90m [ada6cbde] \u001b[39mBravais v0.1.5\n",
      " \u001b[90m [23470ee3] \u001b[39mBrillouin v0.5.6\n",
      " \u001b[90m [34da2185] \u001b[39mCompat v3.45.0\n",
      " \u001b[90m [a93c6f00] \u001b[39mDataFrames v1.3.3\n",
      " \u001b[90m [b7d42ee7] \u001b[39mEinsum v0.4.1\n",
      " \u001b[90m [7073ff75] \u001b[39mIJulia v1.23.2\n",
      " \u001b[90m [c21dee59] \u001b[39mLattices v0.1.0\n",
      " \u001b[90m [23992714] \u001b[39mMAT v0.10.3\n",
      " \u001b[90m [0db19996] \u001b[39mNBInclude v2.3.0\n",
      " \u001b[90m [b8a86587] \u001b[39mNearestNeighbors v0.4.10\n",
      " \u001b[90m [645ca80c] \u001b[39mNeighborhood v0.2.3\n",
      " \u001b[90m [6fe1bfb0] \u001b[39mOffsetArrays v1.10.8\n",
      " \u001b[90m [f0f68f2c] \u001b[39mPlotlyJS v0.18.8\n",
      " \u001b[90m [91a5bcdd] \u001b[39mPlots v1.27.1\n",
      " \u001b[90m [438e738f] \u001b[39mPyCall v1.95.1\n",
      " \u001b[90m [d330b81b] \u001b[39mPyPlot v2.10.0\n",
      " \u001b[90m [6e0679c1] \u001b[39mQuantumOptics v1.0.3\n",
      " \u001b[90m [db00978d] \u001b[39mTightBinding v0.1.3\n",
      " \u001b[90m [770da0de] \u001b[39mUpdateJulia v0.4.0\n"
     ]
    }
   ],
   "source": [
    "using Pkg\n",
    "Pkg.status()"
   ]
  },
  {
   "cell_type": "markdown",
   "id": "53bcdb24-0768-4e9a-8f21-61d2e6b175c0",
   "metadata": {},
   "source": [
    "## nm_mb_list -> NM_MB_Matrix -> Operator (IT WORK!)"
   ]
  },
  {
   "cell_type": "code",
   "execution_count": 101,
   "id": "5ce7ff06-1c92-47de-9368-24134a31d7f0",
   "metadata": {
    "tags": []
   },
   "outputs": [
    {
     "data": {
      "text/plain": [
       "0.06249999308400545 + 3.0570689548226357e-18im"
      ]
     },
     "execution_count": 101,
     "metadata": {},
     "output_type": "execute_result"
    }
   ],
   "source": [
    "NM_MB_Array_Storage = zeros(Complex{Float64},length(bcut_mb),length(bcut_mb),N);\n",
    "NM_MB_Matrix = zeros(Complex{Float64},length(bcut_mb),length(bcut_mb));\n",
    "for m in 1:N\n",
    "    for i in 1:length(bcut_mb)\n",
    "        for j in 1:length(bcut_mb)\n",
    "            NM_MB_Matrix[i,j] = num_mb_list[m].data[i,j]\n",
    "        end\n",
    "    end\n",
    "    NM_MB_Array_Storage[:,:,m] = NM_MB_Matrix\n",
    "end\n",
    "BL = BR = bcut_mb\n",
    "index_number_op = 6\n",
    "T = NM_MB_Array_Storage[:,:,index_number_op]\n",
    "Op = Operator(BL,BR,T);\n",
    "expect(Op, S[1])"
   ]
  },
  {
   "cell_type": "code",
   "execution_count": 103,
   "id": "86c74c5d-e75d-49e3-bf3b-8d2563f62bc6",
   "metadata": {
    "tags": []
   },
   "outputs": [
    {
     "data": {
      "text/plain": [
       "4-element Vector{Int64}:\n",
       " 0\n",
       " 1\n",
       " 2\n",
       " 3"
      ]
     },
     "execution_count": 103,
     "metadata": {},
     "output_type": "execute_result"
    }
   ],
   "source": [
    "PN"
   ]
  },
  {
   "cell_type": "code",
   "execution_count": 108,
   "id": "fcde3e3d-b254-40bd-a49b-def4247ae65e",
   "metadata": {
    "tags": []
   },
   "outputs": [
    {
     "name": "stdout",
     "output_type": "stream",
     "text": [
      "1\t0.08701520187245484 - 1.9591475626208554e-18im\n",
      "2\t0.06225508720617586 + 2.89712991839454e-18im\n",
      "3\t0.08617581313327029 + 2.8871863040596985e-18im\n",
      "4\t0.04814114714045895 - 1.0475750877954166e-18im\n",
      "5\t0.06225508424042377 + 3.3126506326995433e-18im\n",
      "6\t0.049511739785431774 - 6.343198637631139e-19im\n",
      "7\t0.08701520182214001 - 3.512980575636721e-18im\n",
      "8\t0.06225508752408514 + 3.2563501003768745e-18im\n",
      "9\t0.08617581306999914 + 4.646660734413328e-18im\n",
      "10\t0.04814114824664428 - 1.9348596932864688e-18im\n",
      "11\t0.0622550839863099 - 5.565669473491947e-18im\n",
      "12\t0.049511740781087915 - 3.993242498367156e-18im\n",
      "13\t0.048141149716100916 - 5.815316708557369e-19im\n",
      "14\t0.0419010072180727 + 1.6379631656724208e-18im\n",
      "15\t0.08617581583198859 - 1.1361604029690001e-17im\n",
      "16\t0.08701520273162358 - 5.9818882030511856e-18im\n",
      "17\t0.04190100805070753 - 5.337094574922237e-19im\n",
      "18\t0.049511743161964786 - 1.8276966605110792e-18im\n",
      "19\t0.048141149434759035 + 3.1311747882116522e-18im\n",
      "20\t0.04190100698798649 - 3.17003991594569e-18im\n",
      "21\t0.08617581367922841 - 1.1761956990791923e-17im\n",
      "22\t0.08701520178972284 + 9.748857996529189e-19im\n",
      "23\t0.0419010078190405 + 1.7503944439801244e-18im\n",
      "24\t0.04951174324691411 + 1.514367380371316e-18im\n",
      "25\t0.08701520173681988 - 2.68957594962477e-19im\n",
      "26\t0.06225508754430146 + 7.006612138422752e-18im\n",
      "27\t0.08617581271761662 - 4.559720680865325e-18im\n",
      "28\t0.048141146992912255 + 3.1998922358082665e-18im\n",
      "29\t0.06225508323513395 - 6.25990834443758e-18im\n",
      "30\t0.049511741035686785 - 7.116510553283218e-20im\n",
      "31\t0.08701520285705444 - 6.458625519244776e-18im\n",
      "32\t0.06225509041038193 + 5.917070611698169e-18im\n",
      "33\t0.08617581259013579 - 6.7756727793459746e-18im\n",
      "34\t0.04814114670513531 - 8.934534145261223e-20im\n",
      "35\t0.062255083711030376 + 2.7736654514792704e-19im\n",
      "36\t0.049511739640566245 + 3.658911563269034e-19im\n",
      "37\t0.04814114899292269 - 8.491569839088132e-19im\n",
      "38\t0.041901006183024794 - 4.349798250527194e-19im\n",
      "39\t0.08617581398752411 - 1.2696894996130791e-18im\n",
      "40\t0.08701520183173378 + 3.0510711675470006e-18im\n",
      "41\t0.04190100861529484 + 3.4806528334350275e-18im\n",
      "42\t0.04951174465033337 + 1.422314962781847e-18im\n",
      "43\t0.04814115111831659 - 3.996475811060151e-18im\n",
      "44\t0.04190100614092867 - 8.5258015390078e-20im\n",
      "45\t0.0861758151465327 - 3.67992163177151e-18im\n",
      "46\t0.08701520286928664 - 4.92589191199828e-18im\n",
      "47\t0.04190100953691008 + 1.475178448733879e-18im\n",
      "48\t0.04951174327382513 + 3.872676723564563e-18im\n",
      "Max occ. number:3.0000000000000004 - 3.751350063663698e-17im"
     ]
    }
   ],
   "source": [
    "index_eig_states = 3\n",
    "Sum = 0\n",
    "expect_list=[]\n",
    "for i in 1:N\n",
    "    T = NM_MB_Array_Storage[:,:,i]\n",
    "    Op = Operator(BL,BR,T)\n",
    "    Sum += expect(Op, S[index_eig_states])\n",
    "    println(i,\"\\t\",expect(Op, S[index_eig_states]))\n",
    "    push!(expect_list,expect(Op, S[index_eig_states]))\n",
    "end\n",
    "print(\"Max occ. number:\", Sum)"
   ]
  },
  {
   "cell_type": "markdown",
   "id": "b7910ea5-8d40-46b8-9e86-afae813b8a78",
   "metadata": {},
   "source": [
    "# Kagome Plot"
   ]
  },
  {
   "cell_type": "markdown",
   "id": "f60064f4-0a70-473a-9c10-7a8920240944",
   "metadata": {},
   "source": [
    "Kagome real space yapısını değiştirmeden plot yapamam çünkü, Julia ve Python'da ki 'Polygon' fonksiyonu koordinatları alma şekilleri çok farklı."
   ]
  },
  {
   "cell_type": "code",
   "execution_count": 154,
   "id": "8fbb8501-d899-461a-9292-96147e3db0e9",
   "metadata": {
    "tags": []
   },
   "outputs": [],
   "source": [
    "import Plots as plt"
   ]
  },
  {
   "cell_type": "code",
   "execution_count": 165,
   "id": "3bf49e87-7bf6-4bf7-8710-b7853ea3c7b7",
   "metadata": {
    "tags": []
   },
   "outputs": [
    {
     "data": {
      "image/svg+xml": [
       "<?xml version=\"1.0\" encoding=\"utf-8\"?>\n",
       "<svg xmlns=\"http://www.w3.org/2000/svg\" xmlns:xlink=\"http://www.w3.org/1999/xlink\" width=\"600\" height=\"400\" viewBox=\"0 0 2400 1600\">\n",
       "<defs>\n",
       "  <clipPath id=\"clip180\">\n",
       "    <rect x=\"0\" y=\"0\" width=\"2400\" height=\"1600\"/>\n",
       "  </clipPath>\n",
       "</defs>\n",
       "<path clip-path=\"url(#clip180)\" d=\"\n",
       "M0 1600 L2400 1600 L2400 0 L0 0  Z\n",
       "  \" fill=\"#ffffff\" fill-rule=\"evenodd\" fill-opacity=\"1\"/>\n",
       "<defs>\n",
       "  <clipPath id=\"clip181\">\n",
       "    <rect x=\"480\" y=\"0\" width=\"1681\" height=\"1600\"/>\n",
       "  </clipPath>\n",
       "</defs>\n",
       "<path clip-path=\"url(#clip180)\" d=\"\n",
       "M156.112 1486.45 L2352.76 1486.45 L2352.76 47.2441 L156.112 47.2441  Z\n",
       "  \" fill=\"#ffffff\" fill-rule=\"evenodd\" fill-opacity=\"1\"/>\n",
       "<defs>\n",
       "  <clipPath id=\"clip182\">\n",
       "    <rect x=\"156\" y=\"47\" width=\"2198\" height=\"1440\"/>\n",
       "  </clipPath>\n",
       "</defs>\n",
       "<polyline clip-path=\"url(#clip182)\" style=\"stroke:#000000; stroke-linecap:round; stroke-linejoin:round; stroke-width:2; stroke-opacity:0.1; fill:none\" points=\"\n",
       "  218.281,1486.45 218.281,47.2441 \n",
       "  \"/>\n",
       "<polyline clip-path=\"url(#clip182)\" style=\"stroke:#000000; stroke-linecap:round; stroke-linejoin:round; stroke-width:2; stroke-opacity:0.1; fill:none\" points=\"\n",
       "  736.358,1486.45 736.358,47.2441 \n",
       "  \"/>\n",
       "<polyline clip-path=\"url(#clip182)\" style=\"stroke:#000000; stroke-linecap:round; stroke-linejoin:round; stroke-width:2; stroke-opacity:0.1; fill:none\" points=\"\n",
       "  1254.43,1486.45 1254.43,47.2441 \n",
       "  \"/>\n",
       "<polyline clip-path=\"url(#clip182)\" style=\"stroke:#000000; stroke-linecap:round; stroke-linejoin:round; stroke-width:2; stroke-opacity:0.1; fill:none\" points=\"\n",
       "  1772.51,1486.45 1772.51,47.2441 \n",
       "  \"/>\n",
       "<polyline clip-path=\"url(#clip182)\" style=\"stroke:#000000; stroke-linecap:round; stroke-linejoin:round; stroke-width:2; stroke-opacity:0.1; fill:none\" points=\"\n",
       "  2290.59,1486.45 2290.59,47.2441 \n",
       "  \"/>\n",
       "<polyline clip-path=\"url(#clip180)\" style=\"stroke:#000000; stroke-linecap:round; stroke-linejoin:round; stroke-width:4; stroke-opacity:1; fill:none\" points=\"\n",
       "  156.112,1486.45 2352.76,1486.45 \n",
       "  \"/>\n",
       "<polyline clip-path=\"url(#clip180)\" style=\"stroke:#000000; stroke-linecap:round; stroke-linejoin:round; stroke-width:4; stroke-opacity:1; fill:none\" points=\"\n",
       "  218.281,1486.45 218.281,1467.55 \n",
       "  \"/>\n",
       "<polyline clip-path=\"url(#clip180)\" style=\"stroke:#000000; stroke-linecap:round; stroke-linejoin:round; stroke-width:4; stroke-opacity:1; fill:none\" points=\"\n",
       "  736.358,1486.45 736.358,1467.55 \n",
       "  \"/>\n",
       "<polyline clip-path=\"url(#clip180)\" style=\"stroke:#000000; stroke-linecap:round; stroke-linejoin:round; stroke-width:4; stroke-opacity:1; fill:none\" points=\"\n",
       "  1254.43,1486.45 1254.43,1467.55 \n",
       "  \"/>\n",
       "<polyline clip-path=\"url(#clip180)\" style=\"stroke:#000000; stroke-linecap:round; stroke-linejoin:round; stroke-width:4; stroke-opacity:1; fill:none\" points=\"\n",
       "  1772.51,1486.45 1772.51,1467.55 \n",
       "  \"/>\n",
       "<polyline clip-path=\"url(#clip180)\" style=\"stroke:#000000; stroke-linecap:round; stroke-linejoin:round; stroke-width:4; stroke-opacity:1; fill:none\" points=\"\n",
       "  2290.59,1486.45 2290.59,1467.55 \n",
       "  \"/>\n",
       "<path clip-path=\"url(#clip180)\" d=\"M195.666 1517.37 Q192.055 1517.37 190.226 1520.93 Q188.42 1524.47 188.42 1531.6 Q188.42 1538.71 190.226 1542.27 Q192.055 1545.82 195.666 1545.82 Q199.3 1545.82 201.105 1542.27 Q202.934 1538.71 202.934 1531.6 Q202.934 1524.47 201.105 1520.93 Q199.3 1517.37 195.666 1517.37 M195.666 1513.66 Q201.476 1513.66 204.531 1518.27 Q207.61 1522.85 207.61 1531.6 Q207.61 1540.33 204.531 1544.94 Q201.476 1549.52 195.666 1549.52 Q189.856 1549.52 186.777 1544.94 Q183.721 1540.33 183.721 1531.6 Q183.721 1522.85 186.777 1518.27 Q189.856 1513.66 195.666 1513.66 Z\" fill=\"#000000\" fill-rule=\"evenodd\" fill-opacity=\"1\" /><path clip-path=\"url(#clip180)\" d=\"M215.828 1542.97 L220.712 1542.97 L220.712 1548.85 L215.828 1548.85 L215.828 1542.97 Z\" fill=\"#000000\" fill-rule=\"evenodd\" fill-opacity=\"1\" /><path clip-path=\"url(#clip180)\" d=\"M240.897 1517.37 Q237.286 1517.37 235.457 1520.93 Q233.652 1524.47 233.652 1531.6 Q233.652 1538.71 235.457 1542.27 Q237.286 1545.82 240.897 1545.82 Q244.531 1545.82 246.337 1542.27 Q248.165 1538.71 248.165 1531.6 Q248.165 1524.47 246.337 1520.93 Q244.531 1517.37 240.897 1517.37 M240.897 1513.66 Q246.707 1513.66 249.763 1518.27 Q252.841 1522.85 252.841 1531.6 Q252.841 1540.33 249.763 1544.94 Q246.707 1549.52 240.897 1549.52 Q235.087 1549.52 232.008 1544.94 Q228.953 1540.33 228.953 1531.6 Q228.953 1522.85 232.008 1518.27 Q235.087 1513.66 240.897 1513.66 Z\" fill=\"#000000\" fill-rule=\"evenodd\" fill-opacity=\"1\" /><path clip-path=\"url(#clip180)\" d=\"M714.24 1517.37 Q710.629 1517.37 708.8 1520.93 Q706.994 1524.47 706.994 1531.6 Q706.994 1538.71 708.8 1542.27 Q710.629 1545.82 714.24 1545.82 Q717.874 1545.82 719.68 1542.27 Q721.508 1538.71 721.508 1531.6 Q721.508 1524.47 719.68 1520.93 Q717.874 1517.37 714.24 1517.37 M714.24 1513.66 Q720.05 1513.66 723.105 1518.27 Q726.184 1522.85 726.184 1531.6 Q726.184 1540.33 723.105 1544.94 Q720.05 1549.52 714.24 1549.52 Q708.43 1549.52 705.351 1544.94 Q702.295 1540.33 702.295 1531.6 Q702.295 1522.85 705.351 1518.27 Q708.43 1513.66 714.24 1513.66 Z\" fill=\"#000000\" fill-rule=\"evenodd\" fill-opacity=\"1\" /><path clip-path=\"url(#clip180)\" d=\"M734.402 1542.97 L739.286 1542.97 L739.286 1548.85 L734.402 1548.85 L734.402 1542.97 Z\" fill=\"#000000\" fill-rule=\"evenodd\" fill-opacity=\"1\" /><path clip-path=\"url(#clip180)\" d=\"M749.517 1514.29 L767.874 1514.29 L767.874 1518.22 L753.8 1518.22 L753.8 1526.7 Q754.818 1526.35 755.837 1526.19 Q756.855 1526 757.874 1526 Q763.661 1526 767.04 1529.17 Q770.42 1532.34 770.42 1537.76 Q770.42 1543.34 766.948 1546.44 Q763.476 1549.52 757.156 1549.52 Q754.98 1549.52 752.712 1549.15 Q750.466 1548.78 748.059 1548.04 L748.059 1543.34 Q750.142 1544.47 752.365 1545.03 Q754.587 1545.58 757.064 1545.58 Q761.068 1545.58 763.406 1543.48 Q765.744 1541.37 765.744 1537.76 Q765.744 1534.15 763.406 1532.04 Q761.068 1529.94 757.064 1529.94 Q755.189 1529.94 753.314 1530.35 Q751.462 1530.77 749.517 1531.65 L749.517 1514.29 Z\" fill=\"#000000\" fill-rule=\"evenodd\" fill-opacity=\"1\" /><path clip-path=\"url(#clip180)\" d=\"M1221.59 1544.91 L1229.23 1544.91 L1229.23 1518.55 L1220.92 1520.21 L1220.92 1515.95 L1229.18 1514.29 L1233.86 1514.29 L1233.86 1544.91 L1241.49 1544.91 L1241.49 1548.85 L1221.59 1548.85 L1221.59 1544.91 Z\" fill=\"#000000\" fill-rule=\"evenodd\" fill-opacity=\"1\" /><path clip-path=\"url(#clip180)\" d=\"M1250.94 1542.97 L1255.82 1542.97 L1255.82 1548.85 L1250.94 1548.85 L1250.94 1542.97 Z\" fill=\"#000000\" fill-rule=\"evenodd\" fill-opacity=\"1\" /><path clip-path=\"url(#clip180)\" d=\"M1276.01 1517.37 Q1272.4 1517.37 1270.57 1520.93 Q1268.76 1524.47 1268.76 1531.6 Q1268.76 1538.71 1270.57 1542.27 Q1272.4 1545.82 1276.01 1545.82 Q1279.64 1545.82 1281.45 1542.27 Q1283.28 1538.71 1283.28 1531.6 Q1283.28 1524.47 1281.45 1520.93 Q1279.64 1517.37 1276.01 1517.37 M1276.01 1513.66 Q1281.82 1513.66 1284.87 1518.27 Q1287.95 1522.85 1287.95 1531.6 Q1287.95 1540.33 1284.87 1544.94 Q1281.82 1549.52 1276.01 1549.52 Q1270.2 1549.52 1267.12 1544.94 Q1264.06 1540.33 1264.06 1531.6 Q1264.06 1522.85 1267.12 1518.27 Q1270.2 1513.66 1276.01 1513.66 Z\" fill=\"#000000\" fill-rule=\"evenodd\" fill-opacity=\"1\" /><path clip-path=\"url(#clip180)\" d=\"M1740.16 1544.91 L1747.8 1544.91 L1747.8 1518.55 L1739.49 1520.21 L1739.49 1515.95 L1747.75 1514.29 L1752.43 1514.29 L1752.43 1544.91 L1760.07 1544.91 L1760.07 1548.85 L1740.16 1548.85 L1740.16 1544.91 Z\" fill=\"#000000\" fill-rule=\"evenodd\" fill-opacity=\"1\" /><path clip-path=\"url(#clip180)\" d=\"M1769.51 1542.97 L1774.4 1542.97 L1774.4 1548.85 L1769.51 1548.85 L1769.51 1542.97 Z\" fill=\"#000000\" fill-rule=\"evenodd\" fill-opacity=\"1\" /><path clip-path=\"url(#clip180)\" d=\"M1784.63 1514.29 L1802.98 1514.29 L1802.98 1518.22 L1788.91 1518.22 L1788.91 1526.7 Q1789.93 1526.35 1790.95 1526.19 Q1791.97 1526 1792.98 1526 Q1798.77 1526 1802.15 1529.17 Q1805.53 1532.34 1805.53 1537.76 Q1805.53 1543.34 1802.06 1546.44 Q1798.59 1549.52 1792.27 1549.52 Q1790.09 1549.52 1787.82 1549.15 Q1785.58 1548.78 1783.17 1548.04 L1783.17 1543.34 Q1785.25 1544.47 1787.48 1545.03 Q1789.7 1545.58 1792.17 1545.58 Q1796.18 1545.58 1798.52 1543.48 Q1800.86 1541.37 1800.86 1537.76 Q1800.86 1534.15 1798.52 1532.04 Q1796.18 1529.94 1792.17 1529.94 Q1790.3 1529.94 1788.42 1530.35 Q1786.57 1530.77 1784.63 1531.65 L1784.63 1514.29 Z\" fill=\"#000000\" fill-rule=\"evenodd\" fill-opacity=\"1\" /><path clip-path=\"url(#clip180)\" d=\"M2261.83 1544.91 L2278.14 1544.91 L2278.14 1548.85 L2256.2 1548.85 L2256.2 1544.91 Q2258.86 1542.16 2263.45 1537.53 Q2268.05 1532.88 2269.23 1531.53 Q2271.48 1529.01 2272.36 1527.27 Q2273.26 1525.51 2273.26 1523.82 Q2273.26 1521.07 2271.32 1519.33 Q2269.39 1517.6 2266.29 1517.6 Q2264.09 1517.6 2261.64 1518.36 Q2259.21 1519.13 2256.43 1520.68 L2256.43 1515.95 Q2259.26 1514.82 2261.71 1514.24 Q2264.16 1513.66 2266.2 1513.66 Q2271.57 1513.66 2274.77 1516.35 Q2277.96 1519.03 2277.96 1523.52 Q2277.96 1525.65 2277.15 1527.57 Q2276.36 1529.47 2274.26 1532.07 Q2273.68 1532.74 2270.58 1535.95 Q2267.47 1539.15 2261.83 1544.91 Z\" fill=\"#000000\" fill-rule=\"evenodd\" fill-opacity=\"1\" /><path clip-path=\"url(#clip180)\" d=\"M2287.96 1542.97 L2292.84 1542.97 L2292.84 1548.85 L2287.96 1548.85 L2287.96 1542.97 Z\" fill=\"#000000\" fill-rule=\"evenodd\" fill-opacity=\"1\" /><path clip-path=\"url(#clip180)\" d=\"M2313.03 1517.37 Q2309.42 1517.37 2307.59 1520.93 Q2305.78 1524.47 2305.78 1531.6 Q2305.78 1538.71 2307.59 1542.27 Q2309.42 1545.82 2313.03 1545.82 Q2316.66 1545.82 2318.47 1542.27 Q2320.3 1538.71 2320.3 1531.6 Q2320.3 1524.47 2318.47 1520.93 Q2316.66 1517.37 2313.03 1517.37 M2313.03 1513.66 Q2318.84 1513.66 2321.89 1518.27 Q2324.97 1522.85 2324.97 1531.6 Q2324.97 1540.33 2321.89 1544.94 Q2318.84 1549.52 2313.03 1549.52 Q2307.22 1549.52 2304.14 1544.94 Q2301.08 1540.33 2301.08 1531.6 Q2301.08 1522.85 2304.14 1518.27 Q2307.22 1513.66 2313.03 1513.66 Z\" fill=\"#000000\" fill-rule=\"evenodd\" fill-opacity=\"1\" /><polyline clip-path=\"url(#clip182)\" style=\"stroke:#000000; stroke-linecap:round; stroke-linejoin:round; stroke-width:2; stroke-opacity:0.1; fill:none\" points=\"\n",
       "  156.112,1445.72 2352.76,1445.72 \n",
       "  \"/>\n",
       "<polyline clip-path=\"url(#clip182)\" style=\"stroke:#000000; stroke-linecap:round; stroke-linejoin:round; stroke-width:2; stroke-opacity:0.1; fill:none\" points=\"\n",
       "  156.112,1106.28 2352.76,1106.28 \n",
       "  \"/>\n",
       "<polyline clip-path=\"url(#clip182)\" style=\"stroke:#000000; stroke-linecap:round; stroke-linejoin:round; stroke-width:2; stroke-opacity:0.1; fill:none\" points=\"\n",
       "  156.112,766.846 2352.76,766.846 \n",
       "  \"/>\n",
       "<polyline clip-path=\"url(#clip182)\" style=\"stroke:#000000; stroke-linecap:round; stroke-linejoin:round; stroke-width:2; stroke-opacity:0.1; fill:none\" points=\"\n",
       "  156.112,427.411 2352.76,427.411 \n",
       "  \"/>\n",
       "<polyline clip-path=\"url(#clip182)\" style=\"stroke:#000000; stroke-linecap:round; stroke-linejoin:round; stroke-width:2; stroke-opacity:0.1; fill:none\" points=\"\n",
       "  156.112,87.9763 2352.76,87.9763 \n",
       "  \"/>\n",
       "<polyline clip-path=\"url(#clip180)\" style=\"stroke:#000000; stroke-linecap:round; stroke-linejoin:round; stroke-width:4; stroke-opacity:1; fill:none\" points=\"\n",
       "  156.112,1486.45 156.112,47.2441 \n",
       "  \"/>\n",
       "<polyline clip-path=\"url(#clip180)\" style=\"stroke:#000000; stroke-linecap:round; stroke-linejoin:round; stroke-width:4; stroke-opacity:1; fill:none\" points=\"\n",
       "  156.112,1445.72 175.01,1445.72 \n",
       "  \"/>\n",
       "<polyline clip-path=\"url(#clip180)\" style=\"stroke:#000000; stroke-linecap:round; stroke-linejoin:round; stroke-width:4; stroke-opacity:1; fill:none\" points=\"\n",
       "  156.112,1106.28 175.01,1106.28 \n",
       "  \"/>\n",
       "<polyline clip-path=\"url(#clip180)\" style=\"stroke:#000000; stroke-linecap:round; stroke-linejoin:round; stroke-width:4; stroke-opacity:1; fill:none\" points=\"\n",
       "  156.112,766.846 175.01,766.846 \n",
       "  \"/>\n",
       "<polyline clip-path=\"url(#clip180)\" style=\"stroke:#000000; stroke-linecap:round; stroke-linejoin:round; stroke-width:4; stroke-opacity:1; fill:none\" points=\"\n",
       "  156.112,427.411 175.01,427.411 \n",
       "  \"/>\n",
       "<polyline clip-path=\"url(#clip180)\" style=\"stroke:#000000; stroke-linecap:round; stroke-linejoin:round; stroke-width:4; stroke-opacity:1; fill:none\" points=\"\n",
       "  156.112,87.9763 175.01,87.9763 \n",
       "  \"/>\n",
       "<path clip-path=\"url(#clip180)\" d=\"M62.9365 1431.51 Q59.3254 1431.51 57.4967 1435.08 Q55.6912 1438.62 55.6912 1445.75 Q55.6912 1452.86 57.4967 1456.42 Q59.3254 1459.96 62.9365 1459.96 Q66.5707 1459.96 68.3763 1456.42 Q70.205 1452.86 70.205 1445.75 Q70.205 1438.62 68.3763 1435.08 Q66.5707 1431.51 62.9365 1431.51 M62.9365 1427.81 Q68.7467 1427.81 71.8022 1432.42 Q74.8809 1437 74.8809 1445.75 Q74.8809 1454.48 71.8022 1459.08 Q68.7467 1463.67 62.9365 1463.67 Q57.1264 1463.67 54.0477 1459.08 Q50.9921 1454.48 50.9921 1445.75 Q50.9921 1437 54.0477 1432.42 Q57.1264 1427.81 62.9365 1427.81 Z\" fill=\"#000000\" fill-rule=\"evenodd\" fill-opacity=\"1\" /><path clip-path=\"url(#clip180)\" d=\"M83.0984 1457.12 L87.9827 1457.12 L87.9827 1463 L83.0984 1463 L83.0984 1457.12 Z\" fill=\"#000000\" fill-rule=\"evenodd\" fill-opacity=\"1\" /><path clip-path=\"url(#clip180)\" d=\"M108.168 1431.51 Q104.557 1431.51 102.728 1435.08 Q100.922 1438.62 100.922 1445.75 Q100.922 1452.86 102.728 1456.42 Q104.557 1459.96 108.168 1459.96 Q111.802 1459.96 113.608 1456.42 Q115.436 1452.86 115.436 1445.75 Q115.436 1438.62 113.608 1435.08 Q111.802 1431.51 108.168 1431.51 M108.168 1427.81 Q113.978 1427.81 117.033 1432.42 Q120.112 1437 120.112 1445.75 Q120.112 1454.48 117.033 1459.08 Q113.978 1463.67 108.168 1463.67 Q102.358 1463.67 99.2789 1459.08 Q96.2234 1454.48 96.2234 1445.75 Q96.2234 1437 99.2789 1432.42 Q102.358 1427.81 108.168 1427.81 Z\" fill=\"#000000\" fill-rule=\"evenodd\" fill-opacity=\"1\" /><path clip-path=\"url(#clip180)\" d=\"M63.9319 1092.08 Q60.3208 1092.08 58.4921 1095.64 Q56.6865 1099.19 56.6865 1106.32 Q56.6865 1113.42 58.4921 1116.99 Q60.3208 1120.53 63.9319 1120.53 Q67.5661 1120.53 69.3717 1116.99 Q71.2004 1113.42 71.2004 1106.32 Q71.2004 1099.19 69.3717 1095.64 Q67.5661 1092.08 63.9319 1092.08 M63.9319 1088.38 Q69.742 1088.38 72.7976 1092.98 Q75.8763 1097.57 75.8763 1106.32 Q75.8763 1115.04 72.7976 1119.65 Q69.742 1124.23 63.9319 1124.23 Q58.1217 1124.23 55.043 1119.65 Q51.9875 1115.04 51.9875 1106.32 Q51.9875 1097.57 55.043 1092.98 Q58.1217 1088.38 63.9319 1088.38 Z\" fill=\"#000000\" fill-rule=\"evenodd\" fill-opacity=\"1\" /><path clip-path=\"url(#clip180)\" d=\"M84.0938 1117.68 L88.978 1117.68 L88.978 1123.56 L84.0938 1123.56 L84.0938 1117.68 Z\" fill=\"#000000\" fill-rule=\"evenodd\" fill-opacity=\"1\" /><path clip-path=\"url(#clip180)\" d=\"M99.2095 1089 L117.566 1089 L117.566 1092.94 L103.492 1092.94 L103.492 1101.41 Q104.51 1101.06 105.529 1100.9 Q106.547 1100.71 107.566 1100.71 Q113.353 1100.71 116.733 1103.89 Q120.112 1107.06 120.112 1112.47 Q120.112 1118.05 116.64 1121.15 Q113.168 1124.23 106.848 1124.23 Q104.672 1124.23 102.404 1123.86 Q100.159 1123.49 97.7511 1122.75 L97.7511 1118.05 Q99.8345 1119.19 102.057 1119.74 Q104.279 1120.3 106.756 1120.3 Q110.76 1120.3 113.098 1118.19 Q115.436 1116.08 115.436 1112.47 Q115.436 1108.86 113.098 1106.76 Q110.76 1104.65 106.756 1104.65 Q104.881 1104.65 103.006 1105.07 Q101.154 1105.48 99.2095 1106.36 L99.2095 1089 Z\" fill=\"#000000\" fill-rule=\"evenodd\" fill-opacity=\"1\" /><path clip-path=\"url(#clip180)\" d=\"M53.7467 780.191 L61.3856 780.191 L61.3856 753.825 L53.0754 755.492 L53.0754 751.233 L61.3393 749.566 L66.0152 749.566 L66.0152 780.191 L73.654 780.191 L73.654 784.126 L53.7467 784.126 L53.7467 780.191 Z\" fill=\"#000000\" fill-rule=\"evenodd\" fill-opacity=\"1\" /><path clip-path=\"url(#clip180)\" d=\"M83.0984 778.246 L87.9827 778.246 L87.9827 784.126 L83.0984 784.126 L83.0984 778.246 Z\" fill=\"#000000\" fill-rule=\"evenodd\" fill-opacity=\"1\" /><path clip-path=\"url(#clip180)\" d=\"M108.168 752.645 Q104.557 752.645 102.728 756.209 Q100.922 759.751 100.922 766.881 Q100.922 773.987 102.728 777.552 Q104.557 781.094 108.168 781.094 Q111.802 781.094 113.608 777.552 Q115.436 773.987 115.436 766.881 Q115.436 759.751 113.608 756.209 Q111.802 752.645 108.168 752.645 M108.168 748.941 Q113.978 748.941 117.033 753.547 Q120.112 758.131 120.112 766.881 Q120.112 775.608 117.033 780.214 Q113.978 784.797 108.168 784.797 Q102.358 784.797 99.2789 780.214 Q96.2234 775.608 96.2234 766.881 Q96.2234 758.131 99.2789 753.547 Q102.358 748.941 108.168 748.941 Z\" fill=\"#000000\" fill-rule=\"evenodd\" fill-opacity=\"1\" /><path clip-path=\"url(#clip180)\" d=\"M54.7421 440.756 L62.381 440.756 L62.381 414.39 L54.0708 416.057 L54.0708 411.798 L62.3347 410.131 L67.0106 410.131 L67.0106 440.756 L74.6494 440.756 L74.6494 444.691 L54.7421 444.691 L54.7421 440.756 Z\" fill=\"#000000\" fill-rule=\"evenodd\" fill-opacity=\"1\" /><path clip-path=\"url(#clip180)\" d=\"M84.0938 438.812 L88.978 438.812 L88.978 444.691 L84.0938 444.691 L84.0938 438.812 Z\" fill=\"#000000\" fill-rule=\"evenodd\" fill-opacity=\"1\" /><path clip-path=\"url(#clip180)\" d=\"M99.2095 410.131 L117.566 410.131 L117.566 414.066 L103.492 414.066 L103.492 422.538 Q104.51 422.191 105.529 422.029 Q106.547 421.844 107.566 421.844 Q113.353 421.844 116.733 425.015 Q120.112 428.187 120.112 433.603 Q120.112 439.182 116.64 442.284 Q113.168 445.362 106.848 445.362 Q104.672 445.362 102.404 444.992 Q100.159 444.622 97.7511 443.881 L97.7511 439.182 Q99.8345 440.316 102.057 440.872 Q104.279 441.427 106.756 441.427 Q110.76 441.427 113.098 439.321 Q115.436 437.214 115.436 433.603 Q115.436 429.992 113.098 427.886 Q110.76 425.779 106.756 425.779 Q104.881 425.779 103.006 426.196 Q101.154 426.613 99.2095 427.492 L99.2095 410.131 Z\" fill=\"#000000\" fill-rule=\"evenodd\" fill-opacity=\"1\" /><path clip-path=\"url(#clip180)\" d=\"M56.9643 101.321 L73.2837 101.321 L73.2837 105.256 L51.3393 105.256 L51.3393 101.321 Q54.0014 98.5665 58.5847 93.9369 Q63.1911 89.2841 64.3717 87.9416 Q66.617 85.4184 67.4967 83.6823 Q68.3994 81.9231 68.3994 80.2333 Q68.3994 77.4786 66.455 75.7425 Q64.5337 74.0064 61.4319 74.0064 Q59.2328 74.0064 56.7791 74.7703 Q54.3486 75.5342 51.5708 77.0851 L51.5708 72.3629 Q54.3949 71.2287 56.8486 70.65 Q59.3023 70.0713 61.3393 70.0713 Q66.7096 70.0713 69.9041 72.7565 Q73.0985 75.4416 73.0985 79.9323 Q73.0985 82.062 72.2883 83.9832 Q71.5013 85.8814 69.3948 88.474 Q68.8161 89.1453 65.7143 92.3628 Q62.6124 95.5573 56.9643 101.321 Z\" fill=\"#000000\" fill-rule=\"evenodd\" fill-opacity=\"1\" /><path clip-path=\"url(#clip180)\" d=\"M83.0984 99.3767 L87.9827 99.3767 L87.9827 105.256 L83.0984 105.256 L83.0984 99.3767 Z\" fill=\"#000000\" fill-rule=\"evenodd\" fill-opacity=\"1\" /><path clip-path=\"url(#clip180)\" d=\"M108.168 73.775 Q104.557 73.775 102.728 77.3398 Q100.922 80.8814 100.922 88.011 Q100.922 95.1174 102.728 98.6822 Q104.557 102.224 108.168 102.224 Q111.802 102.224 113.608 98.6822 Q115.436 95.1174 115.436 88.011 Q115.436 80.8814 113.608 77.3398 Q111.802 73.775 108.168 73.775 M108.168 70.0713 Q113.978 70.0713 117.033 74.6777 Q120.112 79.261 120.112 88.011 Q120.112 96.7378 117.033 101.344 Q113.978 105.928 108.168 105.928 Q102.358 105.928 99.2789 101.344 Q96.2234 96.7378 96.2234 88.011 Q96.2234 79.261 99.2789 74.6777 Q102.358 70.0713 108.168 70.0713 Z\" fill=\"#000000\" fill-rule=\"evenodd\" fill-opacity=\"1\" /><path clip-path=\"url(#clip182)\" d=\"\n",
       "M218.281 1445.72 L1254.43 87.9763 L2290.59 1445.72 L218.281 1445.72 L218.281 1445.72  Z\n",
       "  \" fill=\"#009af9\" fill-rule=\"evenodd\" fill-opacity=\"1\"/>\n",
       "<polyline clip-path=\"url(#clip182)\" style=\"stroke:#000000; stroke-linecap:round; stroke-linejoin:round; stroke-width:4; stroke-opacity:1; fill:none\" points=\"\n",
       "  218.281,1445.72 1254.43,87.9763 2290.59,1445.72 218.281,1445.72 \n",
       "  \"/>\n",
       "<path clip-path=\"url(#clip180)\" d=\"\n",
       "M1983.03 198.898 L2279.53 198.898 L2279.53 95.2176 L1983.03 95.2176  Z\n",
       "  \" fill=\"#ffffff\" fill-rule=\"evenodd\" fill-opacity=\"1\"/>\n",
       "<polyline clip-path=\"url(#clip180)\" style=\"stroke:#000000; stroke-linecap:round; stroke-linejoin:round; stroke-width:4; stroke-opacity:1; fill:none\" points=\"\n",
       "  1983.03,198.898 2279.53,198.898 2279.53,95.2176 1983.03,95.2176 1983.03,198.898 \n",
       "  \"/>\n",
       "<path clip-path=\"url(#clip180)\" d=\"\n",
       "M2007.44 167.794 L2153.88 167.794 L2153.88 126.322 L2007.44 126.322 L2007.44 167.794  Z\n",
       "  \" fill=\"#009af9\" fill-rule=\"evenodd\" fill-opacity=\"1\"/>\n",
       "<polyline clip-path=\"url(#clip180)\" style=\"stroke:#000000; stroke-linecap:round; stroke-linejoin:round; stroke-width:4; stroke-opacity:1; fill:none\" points=\"\n",
       "  2007.44,167.794 2153.88,167.794 2153.88,126.322 2007.44,126.322 2007.44,167.794 \n",
       "  \"/>\n",
       "<path clip-path=\"url(#clip180)\" d=\"M2192.13 166.745 Q2190.33 171.375 2188.61 172.787 Q2186.9 174.199 2184.03 174.199 L2180.63 174.199 L2180.63 170.634 L2183.13 170.634 Q2184.89 170.634 2185.86 169.8 Q2186.83 168.967 2188.01 165.865 L2188.78 163.921 L2178.29 138.412 L2182.8 138.412 L2190.91 158.689 L2199.01 138.412 L2203.52 138.412 L2192.13 166.745 Z\" fill=\"#000000\" fill-rule=\"evenodd\" fill-opacity=\"1\" /><path clip-path=\"url(#clip180)\" d=\"M2210.81 160.402 L2218.45 160.402 L2218.45 134.037 L2210.14 135.703 L2210.14 131.444 L2218.41 129.778 L2223.08 129.778 L2223.08 160.402 L2230.72 160.402 L2230.72 164.338 L2210.81 164.338 L2210.81 160.402 Z\" fill=\"#000000\" fill-rule=\"evenodd\" fill-opacity=\"1\" /></svg>\n"
      ]
     },
     "execution_count": 165,
     "metadata": {},
     "output_type": "execute_result"
    }
   ],
   "source": [
    "plt.plot(plt.Shape([0,1,2,0], [0,2,0,0]))"
   ]
  },
  {
   "cell_type": "code",
   "execution_count": 147,
   "id": "b1775605-9319-4564-b7de-3389e747d197",
   "metadata": {
    "tags": []
   },
   "outputs": [
    {
     "data": {
      "image/svg+xml": [
       "<?xml version=\"1.0\" encoding=\"utf-8\"?>\n",
       "<svg xmlns=\"http://www.w3.org/2000/svg\" xmlns:xlink=\"http://www.w3.org/1999/xlink\" width=\"600\" height=\"400\" viewBox=\"0 0 2400 1600\">\n",
       "<defs>\n",
       "  <clipPath id=\"clip100\">\n",
       "    <rect x=\"0\" y=\"0\" width=\"2400\" height=\"1600\"/>\n",
       "  </clipPath>\n",
       "</defs>\n",
       "<path clip-path=\"url(#clip100)\" d=\"\n",
       "M0 1600 L2400 1600 L2400 0 L0 0  Z\n",
       "  \" fill=\"#ffffff\" fill-rule=\"evenodd\" fill-opacity=\"1\"/>\n",
       "<defs>\n",
       "  <clipPath id=\"clip101\">\n",
       "    <rect x=\"480\" y=\"0\" width=\"1681\" height=\"1600\"/>\n",
       "  </clipPath>\n",
       "</defs>\n",
       "<path clip-path=\"url(#clip100)\" d=\"\n",
       "M156.112 1486.45 L2352.76 1486.45 L2352.76 47.2441 L156.112 47.2441  Z\n",
       "  \" fill=\"#ffffff\" fill-rule=\"evenodd\" fill-opacity=\"1\"/>\n",
       "<defs>\n",
       "  <clipPath id=\"clip102\">\n",
       "    <rect x=\"156\" y=\"47\" width=\"2198\" height=\"1440\"/>\n",
       "  </clipPath>\n",
       "</defs>\n",
       "<polyline clip-path=\"url(#clip102)\" style=\"stroke:#000000; stroke-linecap:round; stroke-linejoin:round; stroke-width:2; stroke-opacity:0.1; fill:none\" points=\"\n",
       "  228.315,1486.45 228.315,47.2441 \n",
       "  \"/>\n",
       "<polyline clip-path=\"url(#clip102)\" style=\"stroke:#000000; stroke-linecap:round; stroke-linejoin:round; stroke-width:2; stroke-opacity:0.1; fill:none\" points=\"\n",
       "  881.915,1486.45 881.915,47.2441 \n",
       "  \"/>\n",
       "<polyline clip-path=\"url(#clip102)\" style=\"stroke:#000000; stroke-linecap:round; stroke-linejoin:round; stroke-width:2; stroke-opacity:0.1; fill:none\" points=\"\n",
       "  1535.52,1486.45 1535.52,47.2441 \n",
       "  \"/>\n",
       "<polyline clip-path=\"url(#clip102)\" style=\"stroke:#000000; stroke-linecap:round; stroke-linejoin:round; stroke-width:2; stroke-opacity:0.1; fill:none\" points=\"\n",
       "  2189.12,1486.45 2189.12,47.2441 \n",
       "  \"/>\n",
       "<polyline clip-path=\"url(#clip100)\" style=\"stroke:#000000; stroke-linecap:round; stroke-linejoin:round; stroke-width:4; stroke-opacity:1; fill:none\" points=\"\n",
       "  156.112,1486.45 2352.76,1486.45 \n",
       "  \"/>\n",
       "<polyline clip-path=\"url(#clip100)\" style=\"stroke:#000000; stroke-linecap:round; stroke-linejoin:round; stroke-width:4; stroke-opacity:1; fill:none\" points=\"\n",
       "  228.315,1486.45 228.315,1467.55 \n",
       "  \"/>\n",
       "<polyline clip-path=\"url(#clip100)\" style=\"stroke:#000000; stroke-linecap:round; stroke-linejoin:round; stroke-width:4; stroke-opacity:1; fill:none\" points=\"\n",
       "  881.915,1486.45 881.915,1467.55 \n",
       "  \"/>\n",
       "<polyline clip-path=\"url(#clip100)\" style=\"stroke:#000000; stroke-linecap:round; stroke-linejoin:round; stroke-width:4; stroke-opacity:1; fill:none\" points=\"\n",
       "  1535.52,1486.45 1535.52,1467.55 \n",
       "  \"/>\n",
       "<polyline clip-path=\"url(#clip100)\" style=\"stroke:#000000; stroke-linecap:round; stroke-linejoin:round; stroke-width:4; stroke-opacity:1; fill:none\" points=\"\n",
       "  2189.12,1486.45 2189.12,1467.55 \n",
       "  \"/>\n",
       "<path clip-path=\"url(#clip100)\" d=\"M218.697 1544.91 L226.336 1544.91 L226.336 1518.55 L218.026 1520.21 L218.026 1515.95 L226.289 1514.29 L230.965 1514.29 L230.965 1544.91 L238.604 1544.91 L238.604 1548.85 L218.697 1548.85 L218.697 1544.91 Z\" fill=\"#000000\" fill-rule=\"evenodd\" fill-opacity=\"1\" /><path clip-path=\"url(#clip100)\" d=\"M876.568 1544.91 L892.887 1544.91 L892.887 1548.85 L870.943 1548.85 L870.943 1544.91 Q873.605 1542.16 878.188 1537.53 Q882.795 1532.88 883.975 1531.53 Q886.221 1529.01 887.1 1527.27 Q888.003 1525.51 888.003 1523.82 Q888.003 1521.07 886.059 1519.33 Q884.137 1517.6 881.035 1517.6 Q878.836 1517.6 876.383 1518.36 Q873.952 1519.13 871.174 1520.68 L871.174 1515.95 Q873.998 1514.82 876.452 1514.24 Q878.906 1513.66 880.943 1513.66 Q886.313 1513.66 889.508 1516.35 Q892.702 1519.03 892.702 1523.52 Q892.702 1525.65 891.892 1527.57 Q891.105 1529.47 888.998 1532.07 Q888.42 1532.74 885.318 1535.95 Q882.216 1539.15 876.568 1544.91 Z\" fill=\"#000000\" fill-rule=\"evenodd\" fill-opacity=\"1\" /><path clip-path=\"url(#clip100)\" d=\"M1539.76 1530.21 Q1543.12 1530.93 1544.99 1533.2 Q1546.89 1535.47 1546.89 1538.8 Q1546.89 1543.92 1543.37 1546.72 Q1539.86 1549.52 1533.37 1549.52 Q1531.2 1549.52 1528.88 1549.08 Q1526.59 1548.66 1524.14 1547.81 L1524.14 1543.29 Q1526.08 1544.43 1528.4 1545.01 Q1530.71 1545.58 1533.24 1545.58 Q1537.63 1545.58 1539.92 1543.85 Q1542.24 1542.11 1542.24 1538.8 Q1542.24 1535.75 1540.09 1534.03 Q1537.96 1532.3 1534.14 1532.3 L1530.11 1532.3 L1530.11 1528.45 L1534.32 1528.45 Q1537.77 1528.45 1539.6 1527.09 Q1541.43 1525.7 1541.43 1523.11 Q1541.43 1520.45 1539.53 1519.03 Q1537.66 1517.6 1534.14 1517.6 Q1532.22 1517.6 1530.02 1518.01 Q1527.82 1518.43 1525.18 1519.31 L1525.18 1515.14 Q1527.84 1514.4 1530.16 1514.03 Q1532.49 1513.66 1534.55 1513.66 Q1539.88 1513.66 1542.98 1516.09 Q1546.08 1518.5 1546.08 1522.62 Q1546.08 1525.49 1544.44 1527.48 Q1542.8 1529.45 1539.76 1530.21 Z\" fill=\"#000000\" fill-rule=\"evenodd\" fill-opacity=\"1\" /><path clip-path=\"url(#clip100)\" d=\"M2192.12 1518.36 L2180.32 1536.81 L2192.12 1536.81 L2192.12 1518.36 M2190.9 1514.29 L2196.78 1514.29 L2196.78 1536.81 L2201.71 1536.81 L2201.71 1540.7 L2196.78 1540.7 L2196.78 1548.85 L2192.12 1548.85 L2192.12 1540.7 L2176.52 1540.7 L2176.52 1536.19 L2190.9 1514.29 Z\" fill=\"#000000\" fill-rule=\"evenodd\" fill-opacity=\"1\" /><polyline clip-path=\"url(#clip102)\" style=\"stroke:#000000; stroke-linecap:round; stroke-linejoin:round; stroke-width:2; stroke-opacity:0.1; fill:none\" points=\"\n",
       "  156.112,1234.23 2352.76,1234.23 \n",
       "  \"/>\n",
       "<polyline clip-path=\"url(#clip102)\" style=\"stroke:#000000; stroke-linecap:round; stroke-linejoin:round; stroke-width:2; stroke-opacity:0.1; fill:none\" points=\"\n",
       "  156.112,931.474 2352.76,931.474 \n",
       "  \"/>\n",
       "<polyline clip-path=\"url(#clip102)\" style=\"stroke:#000000; stroke-linecap:round; stroke-linejoin:round; stroke-width:2; stroke-opacity:0.1; fill:none\" points=\"\n",
       "  156.112,628.721 2352.76,628.721 \n",
       "  \"/>\n",
       "<polyline clip-path=\"url(#clip102)\" style=\"stroke:#000000; stroke-linecap:round; stroke-linejoin:round; stroke-width:2; stroke-opacity:0.1; fill:none\" points=\"\n",
       "  156.112,325.968 2352.76,325.968 \n",
       "  \"/>\n",
       "<polyline clip-path=\"url(#clip100)\" style=\"stroke:#000000; stroke-linecap:round; stroke-linejoin:round; stroke-width:4; stroke-opacity:1; fill:none\" points=\"\n",
       "  156.112,1486.45 156.112,47.2441 \n",
       "  \"/>\n",
       "<polyline clip-path=\"url(#clip100)\" style=\"stroke:#000000; stroke-linecap:round; stroke-linejoin:round; stroke-width:4; stroke-opacity:1; fill:none\" points=\"\n",
       "  156.112,1234.23 175.01,1234.23 \n",
       "  \"/>\n",
       "<polyline clip-path=\"url(#clip100)\" style=\"stroke:#000000; stroke-linecap:round; stroke-linejoin:round; stroke-width:4; stroke-opacity:1; fill:none\" points=\"\n",
       "  156.112,931.474 175.01,931.474 \n",
       "  \"/>\n",
       "<polyline clip-path=\"url(#clip100)\" style=\"stroke:#000000; stroke-linecap:round; stroke-linejoin:round; stroke-width:4; stroke-opacity:1; fill:none\" points=\"\n",
       "  156.112,628.721 175.01,628.721 \n",
       "  \"/>\n",
       "<polyline clip-path=\"url(#clip100)\" style=\"stroke:#000000; stroke-linecap:round; stroke-linejoin:round; stroke-width:4; stroke-opacity:1; fill:none\" points=\"\n",
       "  156.112,325.968 175.01,325.968 \n",
       "  \"/>\n",
       "<path clip-path=\"url(#clip100)\" d=\"M62.9365 1220.03 Q59.3254 1220.03 57.4967 1223.59 Q55.6912 1227.13 55.6912 1234.26 Q55.6912 1241.37 57.4967 1244.93 Q59.3254 1248.47 62.9365 1248.47 Q66.5707 1248.47 68.3763 1244.93 Q70.205 1241.37 70.205 1234.26 Q70.205 1227.13 68.3763 1223.59 Q66.5707 1220.03 62.9365 1220.03 M62.9365 1216.32 Q68.7467 1216.32 71.8022 1220.93 Q74.8809 1225.51 74.8809 1234.26 Q74.8809 1242.99 71.8022 1247.6 Q68.7467 1252.18 62.9365 1252.18 Q57.1264 1252.18 54.0477 1247.6 Q50.9921 1242.99 50.9921 1234.26 Q50.9921 1225.51 54.0477 1220.93 Q57.1264 1216.32 62.9365 1216.32 Z\" fill=\"#000000\" fill-rule=\"evenodd\" fill-opacity=\"1\" /><path clip-path=\"url(#clip100)\" d=\"M83.0984 1245.63 L87.9827 1245.63 L87.9827 1251.51 L83.0984 1251.51 L83.0984 1245.63 Z\" fill=\"#000000\" fill-rule=\"evenodd\" fill-opacity=\"1\" /><path clip-path=\"url(#clip100)\" d=\"M108.168 1220.03 Q104.557 1220.03 102.728 1223.59 Q100.922 1227.13 100.922 1234.26 Q100.922 1241.37 102.728 1244.93 Q104.557 1248.47 108.168 1248.47 Q111.802 1248.47 113.608 1244.93 Q115.436 1241.37 115.436 1234.26 Q115.436 1227.13 113.608 1223.59 Q111.802 1220.03 108.168 1220.03 M108.168 1216.32 Q113.978 1216.32 117.033 1220.93 Q120.112 1225.51 120.112 1234.26 Q120.112 1242.99 117.033 1247.6 Q113.978 1252.18 108.168 1252.18 Q102.358 1252.18 99.2789 1247.6 Q96.2234 1242.99 96.2234 1234.26 Q96.2234 1225.51 99.2789 1220.93 Q102.358 1216.32 108.168 1216.32 Z\" fill=\"#000000\" fill-rule=\"evenodd\" fill-opacity=\"1\" /><path clip-path=\"url(#clip100)\" d=\"M63.9319 917.273 Q60.3208 917.273 58.4921 920.838 Q56.6865 924.379 56.6865 931.509 Q56.6865 938.615 58.4921 942.18 Q60.3208 945.722 63.9319 945.722 Q67.5661 945.722 69.3717 942.18 Q71.2004 938.615 71.2004 931.509 Q71.2004 924.379 69.3717 920.838 Q67.5661 917.273 63.9319 917.273 M63.9319 913.569 Q69.742 913.569 72.7976 918.176 Q75.8763 922.759 75.8763 931.509 Q75.8763 940.236 72.7976 944.842 Q69.742 949.426 63.9319 949.426 Q58.1217 949.426 55.043 944.842 Q51.9875 940.236 51.9875 931.509 Q51.9875 922.759 55.043 918.176 Q58.1217 913.569 63.9319 913.569 Z\" fill=\"#000000\" fill-rule=\"evenodd\" fill-opacity=\"1\" /><path clip-path=\"url(#clip100)\" d=\"M84.0938 942.875 L88.978 942.875 L88.978 948.754 L84.0938 948.754 L84.0938 942.875 Z\" fill=\"#000000\" fill-rule=\"evenodd\" fill-opacity=\"1\" /><path clip-path=\"url(#clip100)\" d=\"M99.2095 914.194 L117.566 914.194 L117.566 918.129 L103.492 918.129 L103.492 926.602 Q104.51 926.254 105.529 926.092 Q106.547 925.907 107.566 925.907 Q113.353 925.907 116.733 929.078 Q120.112 932.25 120.112 937.666 Q120.112 943.245 116.64 946.347 Q113.168 949.426 106.848 949.426 Q104.672 949.426 102.404 949.055 Q100.159 948.685 97.7511 947.944 L97.7511 943.245 Q99.8345 944.379 102.057 944.935 Q104.279 945.49 106.756 945.49 Q110.76 945.49 113.098 943.384 Q115.436 941.277 115.436 937.666 Q115.436 934.055 113.098 931.949 Q110.76 929.842 106.756 929.842 Q104.881 929.842 103.006 930.259 Q101.154 930.676 99.2095 931.555 L99.2095 914.194 Z\" fill=\"#000000\" fill-rule=\"evenodd\" fill-opacity=\"1\" /><path clip-path=\"url(#clip100)\" d=\"M53.7467 642.066 L61.3856 642.066 L61.3856 615.7 L53.0754 617.367 L53.0754 613.108 L61.3393 611.441 L66.0152 611.441 L66.0152 642.066 L73.654 642.066 L73.654 646.001 L53.7467 646.001 L53.7467 642.066 Z\" fill=\"#000000\" fill-rule=\"evenodd\" fill-opacity=\"1\" /><path clip-path=\"url(#clip100)\" d=\"M83.0984 640.122 L87.9827 640.122 L87.9827 646.001 L83.0984 646.001 L83.0984 640.122 Z\" fill=\"#000000\" fill-rule=\"evenodd\" fill-opacity=\"1\" /><path clip-path=\"url(#clip100)\" d=\"M108.168 614.52 Q104.557 614.52 102.728 618.085 Q100.922 621.626 100.922 628.756 Q100.922 635.862 102.728 639.427 Q104.557 642.969 108.168 642.969 Q111.802 642.969 113.608 639.427 Q115.436 635.862 115.436 628.756 Q115.436 621.626 113.608 618.085 Q111.802 614.52 108.168 614.52 M108.168 610.816 Q113.978 610.816 117.033 615.423 Q120.112 620.006 120.112 628.756 Q120.112 637.483 117.033 642.089 Q113.978 646.672 108.168 646.672 Q102.358 646.672 99.2789 642.089 Q96.2234 637.483 96.2234 628.756 Q96.2234 620.006 99.2789 615.423 Q102.358 610.816 108.168 610.816 Z\" fill=\"#000000\" fill-rule=\"evenodd\" fill-opacity=\"1\" /><path clip-path=\"url(#clip100)\" d=\"M54.7421 339.313 L62.381 339.313 L62.381 312.947 L54.0708 314.614 L54.0708 310.355 L62.3347 308.688 L67.0106 308.688 L67.0106 339.313 L74.6494 339.313 L74.6494 343.248 L54.7421 343.248 L54.7421 339.313 Z\" fill=\"#000000\" fill-rule=\"evenodd\" fill-opacity=\"1\" /><path clip-path=\"url(#clip100)\" d=\"M84.0938 337.368 L88.978 337.368 L88.978 343.248 L84.0938 343.248 L84.0938 337.368 Z\" fill=\"#000000\" fill-rule=\"evenodd\" fill-opacity=\"1\" /><path clip-path=\"url(#clip100)\" d=\"M99.2095 308.688 L117.566 308.688 L117.566 312.623 L103.492 312.623 L103.492 321.095 Q104.51 320.748 105.529 320.586 Q106.547 320.401 107.566 320.401 Q113.353 320.401 116.733 323.572 Q120.112 326.743 120.112 332.16 Q120.112 337.739 116.64 340.841 Q113.168 343.919 106.848 343.919 Q104.672 343.919 102.404 343.549 Q100.159 343.179 97.7511 342.438 L97.7511 337.739 Q99.8345 338.873 102.057 339.429 Q104.279 339.984 106.756 339.984 Q110.76 339.984 113.098 337.878 Q115.436 335.771 115.436 332.16 Q115.436 328.549 113.098 326.443 Q110.76 324.336 106.756 324.336 Q104.881 324.336 103.006 324.753 Q101.154 325.169 99.2095 326.049 L99.2095 308.688 Z\" fill=\"#000000\" fill-rule=\"evenodd\" fill-opacity=\"1\" /><path clip-path=\"url(#clip102)\" d=\"\n",
       "M228.315 673.145 L229.382 674.371 L230.437 678.034 L231.467 684.094 L232.462 692.481 L233.41 703.101 L234.301 715.834 L235.123 730.534 L235.869 747.035 L236.528 765.151 \n",
       "  L237.095 784.677 L237.562 805.39 L237.925 827.056 L238.178 849.43 L238.32 872.259 L238.349 895.283 L238.263 918.242 L238.065 940.875 L237.757 962.927 L237.341 984.146 \n",
       "  L236.824 1004.29 L236.21 1023.14 L235.506 1040.47 L234.721 1056.1 L233.863 1069.83 L232.943 1081.53 L231.97 1091.04 L230.956 1098.28 L229.911 1103.15 L228.849 1105.59 \n",
       "  L227.781 1105.59 L226.718 1103.15 L225.674 1098.28 L224.66 1091.04 L223.687 1081.53 L222.766 1069.83 L221.909 1056.1 L221.124 1040.47 L220.42 1023.14 L219.806 1004.29 \n",
       "  L219.288 984.146 L218.873 962.927 L218.564 940.875 L218.367 918.242 L218.281 895.283 L218.31 872.259 L218.452 849.43 L218.705 827.056 L219.068 805.39 L219.535 784.677 \n",
       "  L220.101 765.151 L220.761 747.035 L221.507 730.534 L222.329 715.834 L223.219 703.101 L224.167 692.481 L225.162 684.094 L226.193 678.034 L227.248 674.371 L228.315 673.145 \n",
       "  L228.315 673.145  Z\n",
       "  \" fill=\"#009af9\" fill-rule=\"evenodd\" fill-opacity=\"1\"/>\n",
       "<polyline clip-path=\"url(#clip102)\" style=\"stroke:#000000; stroke-linecap:round; stroke-linejoin:round; stroke-width:4; stroke-opacity:1; fill:none\" points=\"\n",
       "  228.315,673.145 229.382,674.371 230.437,678.034 231.467,684.094 232.462,692.481 233.41,703.101 234.301,715.834 235.123,730.534 235.869,747.035 236.528,765.151 \n",
       "  237.095,784.677 237.562,805.39 237.925,827.056 238.178,849.43 238.32,872.259 238.349,895.283 238.263,918.242 238.065,940.875 237.757,962.927 237.341,984.146 \n",
       "  236.824,1004.29 236.21,1023.14 235.506,1040.47 234.721,1056.1 233.863,1069.83 232.943,1081.53 231.97,1091.04 230.956,1098.28 229.911,1103.15 228.849,1105.59 \n",
       "  227.781,1105.59 226.718,1103.15 225.674,1098.28 224.66,1091.04 223.687,1081.53 222.766,1069.83 221.909,1056.1 221.124,1040.47 220.42,1023.14 219.806,1004.29 \n",
       "  219.288,984.146 218.873,962.927 218.564,940.875 218.367,918.242 218.281,895.283 218.31,872.259 218.452,849.43 218.705,827.056 219.068,805.39 219.535,784.677 \n",
       "  220.101,765.151 220.761,747.035 221.507,730.534 222.329,715.834 223.219,703.101 224.167,692.481 225.162,684.094 226.193,678.034 227.248,674.371 228.315,673.145 \n",
       "  \n",
       "  \"/>\n",
       "<path clip-path=\"url(#clip102)\" d=\"\n",
       "M881.915 592.042 L913.784 592.998 L945.292 595.856 L976.082 600.584 L1005.81 607.128 L1034.12 615.413 L1060.72 625.347 L1085.29 636.816 L1107.55 649.69 L1127.26 663.823 \n",
       "  L1144.19 679.057 L1158.15 695.217 L1168.97 712.12 L1176.55 729.576 L1180.78 747.387 L1181.63 765.349 L1179.08 783.261 L1173.17 800.92 L1163.96 818.124 L1151.55 834.679 \n",
       "  L1136.08 850.398 L1117.74 865.102 L1096.72 878.625 L1073.28 890.814 L1047.66 901.531 L1020.16 910.653 L991.099 918.078 L960.799 923.722 L929.606 927.52 L897.872 929.43 \n",
       "  L865.958 929.43 L834.224 927.52 L803.031 923.722 L772.732 918.078 L743.669 910.653 L716.173 901.531 L690.555 890.814 L667.105 878.625 L646.089 865.102 L627.745 850.398 \n",
       "  L612.281 834.679 L599.872 818.124 L590.659 800.92 L584.745 783.261 L582.199 765.349 L583.048 747.387 L587.284 729.576 L594.858 712.12 L605.685 695.217 L619.641 679.057 \n",
       "  L636.569 663.823 L656.277 649.69 L678.542 636.816 L703.111 625.347 L729.705 615.413 L758.025 607.128 L787.748 600.584 L818.538 595.856 L850.046 592.998 L881.915 592.042 \n",
       "  L881.915 592.042  Z\n",
       "  \" fill=\"#e26f46\" fill-rule=\"evenodd\" fill-opacity=\"1\"/>\n",
       "<polyline clip-path=\"url(#clip102)\" style=\"stroke:#000000; stroke-linecap:round; stroke-linejoin:round; stroke-width:4; stroke-opacity:1; fill:none\" points=\"\n",
       "  881.915,592.042 913.784,592.998 945.292,595.856 976.082,600.584 1005.81,607.128 1034.12,615.413 1060.72,625.347 1085.29,636.816 1107.55,649.69 1127.26,663.823 \n",
       "  1144.19,679.057 1158.15,695.217 1168.97,712.12 1176.55,729.576 1180.78,747.387 1181.63,765.349 1179.08,783.261 1173.17,800.92 1163.96,818.124 1151.55,834.679 \n",
       "  1136.08,850.398 1117.74,865.102 1096.72,878.625 1073.28,890.814 1047.66,901.531 1020.16,910.653 991.099,918.078 960.799,923.722 929.606,927.52 897.872,929.43 \n",
       "  865.958,929.43 834.224,927.52 803.031,923.722 772.732,918.078 743.669,910.653 716.173,901.531 690.555,890.814 667.105,878.625 646.089,865.102 627.745,850.398 \n",
       "  612.281,834.679 599.872,818.124 590.659,800.92 584.745,783.261 582.199,765.349 583.048,747.387 587.284,729.576 594.858,712.12 605.685,695.217 619.641,679.057 \n",
       "  636.569,663.823 656.277,649.69 678.542,636.816 703.111,625.347 729.705,615.413 758.025,607.128 787.748,600.584 818.538,595.856 850.046,592.998 881.915,592.042 \n",
       "  881.915,592.042 \n",
       "  \"/>\n",
       "<path clip-path=\"url(#clip102)\" d=\"\n",
       "M1535.52 770.039 L1596.15 771.955 L1656.09 777.679 L1714.67 787.147 L1771.22 800.252 L1825.1 816.845 L1875.69 836.738 L1922.44 859.706 L1964.79 885.489 L2002.29 913.794 \n",
       "  L2034.5 944.301 L2061.05 976.664 L2081.65 1010.52 L2096.06 1045.48 L2104.11 1081.14 L2105.73 1117.12 L2100.89 1152.99 L2089.64 1188.35 L2072.11 1222.81 L2048.5 1255.96 \n",
       "  L2019.08 1287.44 L1984.18 1316.89 L1944.19 1343.97 L1899.58 1368.38 L1850.84 1389.84 L1798.53 1408.11 L1743.24 1422.98 L1685.59 1434.28 L1626.25 1441.89 L1565.87 1445.72 \n",
       "  L1505.16 1445.72 L1444.78 1441.89 L1385.44 1434.28 L1327.79 1422.98 L1272.5 1408.11 L1220.19 1389.84 L1171.45 1368.38 L1126.84 1343.97 L1086.85 1316.89 L1051.95 1287.44 \n",
       "  L1022.53 1255.96 L998.923 1222.81 L981.394 1188.35 L970.144 1152.99 L965.3 1117.12 L966.916 1081.14 L974.975 1045.48 L989.385 1010.52 L1009.98 976.664 L1036.53 944.301 \n",
       "  L1068.74 913.794 L1106.24 885.489 L1148.59 859.706 L1195.34 836.738 L1245.93 816.845 L1299.81 800.252 L1356.36 787.147 L1414.94 777.679 L1474.88 771.955 L1535.52 770.039 \n",
       "  L1535.52 770.039  Z\n",
       "  \" fill=\"#3da44d\" fill-rule=\"evenodd\" fill-opacity=\"1\"/>\n",
       "<polyline clip-path=\"url(#clip102)\" style=\"stroke:#000000; stroke-linecap:round; stroke-linejoin:round; stroke-width:4; stroke-opacity:1; fill:none\" points=\"\n",
       "  1535.52,770.039 1596.15,771.955 1656.09,777.679 1714.67,787.147 1771.22,800.252 1825.1,816.845 1875.69,836.738 1922.44,859.706 1964.79,885.489 2002.29,913.794 \n",
       "  2034.5,944.301 2061.05,976.664 2081.65,1010.52 2096.06,1045.48 2104.11,1081.14 2105.73,1117.12 2100.89,1152.99 2089.64,1188.35 2072.11,1222.81 2048.5,1255.96 \n",
       "  2019.08,1287.44 1984.18,1316.89 1944.19,1343.97 1899.58,1368.38 1850.84,1389.84 1798.53,1408.11 1743.24,1422.98 1685.59,1434.28 1626.25,1441.89 1565.87,1445.72 \n",
       "  1505.16,1445.72 1444.78,1441.89 1385.44,1434.28 1327.79,1422.98 1272.5,1408.11 1220.19,1389.84 1171.45,1368.38 1126.84,1343.97 1086.85,1316.89 1051.95,1287.44 \n",
       "  1022.53,1255.96 998.923,1222.81 981.394,1188.35 970.144,1152.99 965.3,1117.12 966.916,1081.14 974.975,1045.48 989.385,1010.52 1009.98,976.664 1036.53,944.301 \n",
       "  1068.74,913.794 1106.24,885.489 1148.59,859.706 1195.34,836.738 1245.93,816.845 1299.81,800.252 1356.36,787.147 1414.94,777.679 1474.88,771.955 1535.52,770.039 \n",
       "  \n",
       "  \"/>\n",
       "<path clip-path=\"url(#clip102)\" d=\"\n",
       "M2189.12 87.9763 L2199.9 91.1467 L2210.57 100.622 L2221 116.295 L2231.06 137.988 L2240.65 165.455 L2249.65 198.385 L2257.97 236.405 L2265.51 279.084 L2272.18 325.939 \n",
       "  L2277.91 376.438 L2282.64 430.01 L2286.3 486.047 L2288.87 543.915 L2290.3 602.958 L2290.59 662.506 L2289.72 721.886 L2287.72 780.424 L2284.6 837.457 L2280.4 892.34 \n",
       "  L2275.17 944.449 L2268.96 993.195 L2261.84 1038.03 L2253.9 1078.43 L2245.23 1113.96 L2235.92 1144.2 L2226.08 1168.81 L2215.82 1187.52 L2205.26 1200.12 L2194.52 1206.45 \n",
       "  L2183.71 1206.45 L2172.97 1200.12 L2162.41 1187.52 L2152.15 1168.81 L2142.31 1144.2 L2133 1113.96 L2124.33 1078.43 L2116.39 1038.03 L2109.27 993.195 L2103.06 944.449 \n",
       "  L2097.83 892.34 L2093.63 837.457 L2090.51 780.424 L2088.51 721.886 L2087.64 662.506 L2087.93 602.958 L2089.37 543.915 L2091.93 486.047 L2095.6 430.01 L2100.32 376.438 \n",
       "  L2106.05 325.939 L2112.72 279.084 L2120.26 236.405 L2128.58 198.385 L2137.58 165.455 L2147.17 137.988 L2157.23 116.295 L2167.66 100.622 L2178.33 91.1467 L2189.12 87.9763 \n",
       "  L2189.12 87.9763  Z\n",
       "  \" fill=\"#c271d2\" fill-rule=\"evenodd\" fill-opacity=\"1\"/>\n",
       "<polyline clip-path=\"url(#clip102)\" style=\"stroke:#000000; stroke-linecap:round; stroke-linejoin:round; stroke-width:4; stroke-opacity:1; fill:none\" points=\"\n",
       "  2189.12,87.9763 2199.9,91.1467 2210.57,100.622 2221,116.295 2231.06,137.988 2240.65,165.455 2249.65,198.385 2257.97,236.405 2265.51,279.084 2272.18,325.939 \n",
       "  2277.91,376.438 2282.64,430.01 2286.3,486.047 2288.87,543.915 2290.3,602.958 2290.59,662.506 2289.72,721.886 2287.72,780.424 2284.6,837.457 2280.4,892.34 \n",
       "  2275.17,944.449 2268.96,993.195 2261.84,1038.03 2253.9,1078.43 2245.23,1113.96 2235.92,1144.2 2226.08,1168.81 2215.82,1187.52 2205.26,1200.12 2194.52,1206.45 \n",
       "  2183.71,1206.45 2172.97,1200.12 2162.41,1187.52 2152.15,1168.81 2142.31,1144.2 2133,1113.96 2124.33,1078.43 2116.39,1038.03 2109.27,993.195 2103.06,944.449 \n",
       "  2097.83,892.34 2093.63,837.457 2090.51,780.424 2088.51,721.886 2087.64,662.506 2087.93,602.958 2089.37,543.915 2091.93,486.047 2095.6,430.01 2100.32,376.438 \n",
       "  2106.05,325.939 2112.72,279.084 2120.26,236.405 2128.58,198.385 2137.58,165.455 2147.17,137.988 2157.23,116.295 2167.66,100.622 2178.33,91.1467 2189.12,87.9763 \n",
       "  \n",
       "  \"/>\n",
       "<path clip-path=\"url(#clip100)\" d=\"\n",
       "M1981.32 354.418 L2279.53 354.418 L2279.53 95.2176 L1981.32 95.2176  Z\n",
       "  \" fill=\"#ffffff\" fill-rule=\"evenodd\" fill-opacity=\"1\"/>\n",
       "<polyline clip-path=\"url(#clip100)\" style=\"stroke:#000000; stroke-linecap:round; stroke-linejoin:round; stroke-width:4; stroke-opacity:1; fill:none\" points=\"\n",
       "  1981.32,354.418 2279.53,354.418 2279.53,95.2176 1981.32,95.2176 1981.32,354.418 \n",
       "  \"/>\n",
       "<path clip-path=\"url(#clip100)\" d=\"\n",
       "M2005.73 167.794 L2152.17 167.794 L2152.17 126.322 L2005.73 126.322 L2005.73 167.794  Z\n",
       "  \" fill=\"#009af9\" fill-rule=\"evenodd\" fill-opacity=\"1\"/>\n",
       "<polyline clip-path=\"url(#clip100)\" style=\"stroke:#000000; stroke-linecap:round; stroke-linejoin:round; stroke-width:4; stroke-opacity:1; fill:none\" points=\"\n",
       "  2005.73,167.794 2152.17,167.794 2152.17,126.322 2005.73,126.322 2005.73,167.794 \n",
       "  \"/>\n",
       "<path clip-path=\"url(#clip100)\" d=\"M2190.42 166.745 Q2188.61 171.375 2186.9 172.787 Q2185.19 174.199 2182.32 174.199 L2178.91 174.199 L2178.91 170.634 L2181.41 170.634 Q2183.17 170.634 2184.15 169.8 Q2185.12 168.967 2186.3 165.865 L2187.06 163.921 L2176.58 138.412 L2181.09 138.412 L2189.19 158.689 L2197.29 138.412 L2201.81 138.412 L2190.42 166.745 Z\" fill=\"#000000\" fill-rule=\"evenodd\" fill-opacity=\"1\" /><path clip-path=\"url(#clip100)\" d=\"M2209.1 160.402 L2216.74 160.402 L2216.74 134.037 L2208.43 135.703 L2208.43 131.444 L2216.69 129.778 L2221.37 129.778 L2221.37 160.402 L2229.01 160.402 L2229.01 164.338 L2209.1 164.338 L2209.1 160.402 Z\" fill=\"#000000\" fill-rule=\"evenodd\" fill-opacity=\"1\" /><path clip-path=\"url(#clip100)\" d=\"\n",
       "M2005.73 219.634 L2152.17 219.634 L2152.17 178.162 L2005.73 178.162 L2005.73 219.634  Z\n",
       "  \" fill=\"#e26f46\" fill-rule=\"evenodd\" fill-opacity=\"1\"/>\n",
       "<polyline clip-path=\"url(#clip100)\" style=\"stroke:#000000; stroke-linecap:round; stroke-linejoin:round; stroke-width:4; stroke-opacity:1; fill:none\" points=\"\n",
       "  2005.73,219.634 2152.17,219.634 2152.17,178.162 2005.73,178.162 2005.73,219.634 \n",
       "  \"/>\n",
       "<path clip-path=\"url(#clip100)\" d=\"M2190.42 218.585 Q2188.61 223.215 2186.9 224.627 Q2185.19 226.039 2182.32 226.039 L2178.91 226.039 L2178.91 222.474 L2181.41 222.474 Q2183.17 222.474 2184.15 221.64 Q2185.12 220.807 2186.3 217.705 L2187.06 215.761 L2176.58 190.252 L2181.09 190.252 L2189.19 210.529 L2197.29 190.252 L2201.81 190.252 L2190.42 218.585 Z\" fill=\"#000000\" fill-rule=\"evenodd\" fill-opacity=\"1\" /><path clip-path=\"url(#clip100)\" d=\"M2212.32 212.242 L2228.64 212.242 L2228.64 216.178 L2206.69 216.178 L2206.69 212.242 Q2209.35 209.488 2213.94 204.858 Q2218.54 200.205 2219.72 198.863 Q2221.97 196.34 2222.85 194.604 Q2223.75 192.844 2223.75 191.155 Q2223.75 188.4 2221.81 186.664 Q2219.89 184.928 2216.79 184.928 Q2214.59 184.928 2212.13 185.692 Q2209.7 186.455 2206.92 188.006 L2206.92 183.284 Q2209.75 182.15 2212.2 181.571 Q2214.66 180.993 2216.69 180.993 Q2222.06 180.993 2225.26 183.678 Q2228.45 186.363 2228.45 190.854 Q2228.45 192.983 2227.64 194.905 Q2226.85 196.803 2224.75 199.395 Q2224.17 200.067 2221.07 203.284 Q2217.97 206.479 2212.32 212.242 Z\" fill=\"#000000\" fill-rule=\"evenodd\" fill-opacity=\"1\" /><path clip-path=\"url(#clip100)\" d=\"\n",
       "M2005.73 271.474 L2152.17 271.474 L2152.17 230.002 L2005.73 230.002 L2005.73 271.474  Z\n",
       "  \" fill=\"#3da44d\" fill-rule=\"evenodd\" fill-opacity=\"1\"/>\n",
       "<polyline clip-path=\"url(#clip100)\" style=\"stroke:#000000; stroke-linecap:round; stroke-linejoin:round; stroke-width:4; stroke-opacity:1; fill:none\" points=\"\n",
       "  2005.73,271.474 2152.17,271.474 2152.17,230.002 2005.73,230.002 2005.73,271.474 \n",
       "  \"/>\n",
       "<path clip-path=\"url(#clip100)\" d=\"M2190.42 270.425 Q2188.61 275.055 2186.9 276.467 Q2185.19 277.879 2182.32 277.879 L2178.91 277.879 L2178.91 274.314 L2181.41 274.314 Q2183.17 274.314 2184.15 273.48 Q2185.12 272.647 2186.3 269.545 L2187.06 267.601 L2176.58 242.092 L2181.09 242.092 L2189.19 262.369 L2197.29 242.092 L2201.81 242.092 L2190.42 270.425 Z\" fill=\"#000000\" fill-rule=\"evenodd\" fill-opacity=\"1\" /><path clip-path=\"url(#clip100)\" d=\"M2222.46 249.383 Q2225.81 250.101 2227.69 252.369 Q2229.59 254.638 2229.59 257.971 Q2229.59 263.087 2226.07 265.888 Q2222.55 268.689 2216.07 268.689 Q2213.89 268.689 2211.58 268.249 Q2209.29 267.832 2206.83 266.976 L2206.83 262.462 Q2208.78 263.596 2211.09 264.175 Q2213.41 264.754 2215.93 264.754 Q2220.33 264.754 2222.62 263.018 Q2224.93 261.281 2224.93 257.971 Q2224.93 254.916 2222.78 253.203 Q2220.65 251.467 2216.83 251.467 L2212.8 251.467 L2212.8 247.624 L2217.02 247.624 Q2220.47 247.624 2222.29 246.258 Q2224.12 244.87 2224.12 242.277 Q2224.12 239.615 2222.22 238.203 Q2220.35 236.768 2216.83 236.768 Q2214.91 236.768 2212.71 237.184 Q2210.51 237.601 2207.87 238.481 L2207.87 234.314 Q2210.54 233.573 2212.85 233.203 Q2215.19 232.833 2217.25 232.833 Q2222.57 232.833 2225.67 235.263 Q2228.78 237.67 2228.78 241.791 Q2228.78 244.661 2227.13 246.652 Q2225.49 248.62 2222.46 249.383 Z\" fill=\"#000000\" fill-rule=\"evenodd\" fill-opacity=\"1\" /><path clip-path=\"url(#clip100)\" d=\"\n",
       "M2005.73 323.314 L2152.17 323.314 L2152.17 281.842 L2005.73 281.842 L2005.73 323.314  Z\n",
       "  \" fill=\"#c271d2\" fill-rule=\"evenodd\" fill-opacity=\"1\"/>\n",
       "<polyline clip-path=\"url(#clip100)\" style=\"stroke:#000000; stroke-linecap:round; stroke-linejoin:round; stroke-width:4; stroke-opacity:1; fill:none\" points=\"\n",
       "  2005.73,323.314 2152.17,323.314 2152.17,281.842 2005.73,281.842 2005.73,323.314 \n",
       "  \"/>\n",
       "<path clip-path=\"url(#clip100)\" d=\"M2190.42 322.265 Q2188.61 326.895 2186.9 328.307 Q2185.19 329.719 2182.32 329.719 L2178.91 329.719 L2178.91 326.154 L2181.41 326.154 Q2183.17 326.154 2184.15 325.32 Q2185.12 324.487 2186.3 321.385 L2187.06 319.441 L2176.58 293.932 L2181.09 293.932 L2189.19 314.209 L2197.29 293.932 L2201.81 293.932 L2190.42 322.265 Z\" fill=\"#000000\" fill-rule=\"evenodd\" fill-opacity=\"1\" /><path clip-path=\"url(#clip100)\" d=\"M2221.14 289.372 L2209.33 307.821 L2221.14 307.821 L2221.14 289.372 M2219.91 285.298 L2225.79 285.298 L2225.79 307.821 L2230.72 307.821 L2230.72 311.709 L2225.79 311.709 L2225.79 319.858 L2221.14 319.858 L2221.14 311.709 L2205.54 311.709 L2205.54 307.196 L2219.91 285.298 Z\" fill=\"#000000\" fill-rule=\"evenodd\" fill-opacity=\"1\" /></svg>\n"
      ]
     },
     "execution_count": 161,
     "metadata": {},
     "output_type": "execute_result"
    }
   ],
   "source": [
    "import Plots as plt\n",
    "ang = range(0, 2π, length = 60)\n",
    "ellipse(x, y, w, h) = plt.Shape(w*sin.(ang).+x, h*cos.(ang).+y)    # Returns a Shape object\n",
    "myshapes = [ellipse(x,rand(),rand(),rand()) for x = 1:4]\n",
    "plt.plot(myshapes)"
   ]
  },
  {
   "cell_type": "code",
   "execution_count": 121,
   "id": "dd8f659c-ae3c-443c-ad2b-5483d8d25a9a",
   "metadata": {
    "tags": []
   },
   "outputs": [],
   "source": [
    "for i in 1:N\n",
    "    heatmap((i,i,real(expect_list[i])))\n",
    "end"
   ]
  },
  {
   "cell_type": "markdown",
   "id": "7f50a820-2f7f-4c30-bbde-3853f853f20e",
   "metadata": {
    "tags": []
   },
   "source": [
    "# Comparansion"
   ]
  },
  {
   "cell_type": "code",
   "execution_count": 73,
   "id": "8ac828dd",
   "metadata": {
    "tags": []
   },
   "outputs": [
    {
     "data": {
      "image/svg+xml": [
       "<?xml version=\"1.0\" encoding=\"utf-8\"?>\n",
       "<svg xmlns=\"http://www.w3.org/2000/svg\" xmlns:xlink=\"http://www.w3.org/1999/xlink\" width=\"600\" height=\"400\" viewBox=\"0 0 2400 1600\">\n",
       "<defs>\n",
       "  <clipPath id=\"clip040\">\n",
       "    <rect x=\"0\" y=\"0\" width=\"2400\" height=\"1600\"/>\n",
       "  </clipPath>\n",
       "</defs>\n",
       "<path clip-path=\"url(#clip040)\" d=\"\n",
       "M0 1600 L2400 1600 L2400 0 L0 0  Z\n",
       "  \" fill=\"#ffffff\" fill-rule=\"evenodd\" fill-opacity=\"1\"/>\n",
       "<defs>\n",
       "  <clipPath id=\"clip041\">\n",
       "    <rect x=\"480\" y=\"0\" width=\"1681\" height=\"1600\"/>\n",
       "  </clipPath>\n",
       "</defs>\n",
       "<path clip-path=\"url(#clip040)\" d=\"\n",
       "M257.204 1423.18 L2352.76 1423.18 L2352.76 123.472 L257.204 123.472  Z\n",
       "  \" fill=\"#ffffff\" fill-rule=\"evenodd\" fill-opacity=\"1\"/>\n",
       "<defs>\n",
       "  <clipPath id=\"clip042\">\n",
       "    <rect x=\"257\" y=\"123\" width=\"2097\" height=\"1301\"/>\n",
       "  </clipPath>\n",
       "</defs>\n",
       "<polyline clip-path=\"url(#clip042)\" style=\"stroke:#000000; stroke-linecap:round; stroke-linejoin:round; stroke-width:2; stroke-opacity:0.1; fill:none\" points=\"\n",
       "  711.899,1423.18 711.899,123.472 \n",
       "  \"/>\n",
       "<polyline clip-path=\"url(#clip042)\" style=\"stroke:#000000; stroke-linecap:round; stroke-linejoin:round; stroke-width:2; stroke-opacity:0.1; fill:none\" points=\"\n",
       "  1206.13,1423.18 1206.13,123.472 \n",
       "  \"/>\n",
       "<polyline clip-path=\"url(#clip042)\" style=\"stroke:#000000; stroke-linecap:round; stroke-linejoin:round; stroke-width:2; stroke-opacity:0.1; fill:none\" points=\"\n",
       "  1700.37,1423.18 1700.37,123.472 \n",
       "  \"/>\n",
       "<polyline clip-path=\"url(#clip042)\" style=\"stroke:#000000; stroke-linecap:round; stroke-linejoin:round; stroke-width:2; stroke-opacity:0.1; fill:none\" points=\"\n",
       "  2194.6,1423.18 2194.6,123.472 \n",
       "  \"/>\n",
       "<polyline clip-path=\"url(#clip040)\" style=\"stroke:#000000; stroke-linecap:round; stroke-linejoin:round; stroke-width:4; stroke-opacity:1; fill:none\" points=\"\n",
       "  257.204,1423.18 2352.76,1423.18 \n",
       "  \"/>\n",
       "<polyline clip-path=\"url(#clip040)\" style=\"stroke:#000000; stroke-linecap:round; stroke-linejoin:round; stroke-width:4; stroke-opacity:1; fill:none\" points=\"\n",
       "  711.899,1423.18 711.899,1404.28 \n",
       "  \"/>\n",
       "<polyline clip-path=\"url(#clip040)\" style=\"stroke:#000000; stroke-linecap:round; stroke-linejoin:round; stroke-width:4; stroke-opacity:1; fill:none\" points=\"\n",
       "  1206.13,1423.18 1206.13,1404.28 \n",
       "  \"/>\n",
       "<polyline clip-path=\"url(#clip040)\" style=\"stroke:#000000; stroke-linecap:round; stroke-linejoin:round; stroke-width:4; stroke-opacity:1; fill:none\" points=\"\n",
       "  1700.37,1423.18 1700.37,1404.28 \n",
       "  \"/>\n",
       "<polyline clip-path=\"url(#clip040)\" style=\"stroke:#000000; stroke-linecap:round; stroke-linejoin:round; stroke-width:4; stroke-opacity:1; fill:none\" points=\"\n",
       "  2194.6,1423.18 2194.6,1404.28 \n",
       "  \"/>\n",
       "<path clip-path=\"url(#clip040)\" d=\"M702.177 1451.02 L720.533 1451.02 L720.533 1454.96 L706.459 1454.96 L706.459 1463.43 Q707.478 1463.08 708.496 1462.92 Q709.515 1462.73 710.534 1462.73 Q716.321 1462.73 719.7 1465.9 Q723.08 1469.08 723.08 1474.49 Q723.08 1480.07 719.608 1483.17 Q716.135 1486.25 709.816 1486.25 Q707.64 1486.25 705.372 1485.88 Q703.126 1485.51 700.719 1484.77 L700.719 1480.07 Q702.802 1481.2 705.024 1481.76 Q707.246 1482.32 709.723 1482.32 Q713.728 1482.32 716.066 1480.21 Q718.404 1478.1 718.404 1474.49 Q718.404 1470.88 716.066 1468.77 Q713.728 1466.67 709.723 1466.67 Q707.848 1466.67 705.973 1467.08 Q704.122 1467.5 702.177 1468.38 L702.177 1451.02 Z\" fill=\"#000000\" fill-rule=\"evenodd\" fill-opacity=\"1\" /><path clip-path=\"url(#clip040)\" d=\"M1180.82 1481.64 L1188.46 1481.64 L1188.46 1455.28 L1180.15 1456.95 L1180.15 1452.69 L1188.41 1451.02 L1193.09 1451.02 L1193.09 1481.64 L1200.73 1481.64 L1200.73 1485.58 L1180.82 1485.58 L1180.82 1481.64 Z\" fill=\"#000000\" fill-rule=\"evenodd\" fill-opacity=\"1\" /><path clip-path=\"url(#clip040)\" d=\"M1220.17 1454.1 Q1216.56 1454.1 1214.73 1457.66 Q1212.93 1461.2 1212.93 1468.33 Q1212.93 1475.44 1214.73 1479.01 Q1216.56 1482.55 1220.17 1482.55 Q1223.81 1482.55 1225.61 1479.01 Q1227.44 1475.44 1227.44 1468.33 Q1227.44 1461.2 1225.61 1457.66 Q1223.81 1454.1 1220.17 1454.1 M1220.17 1450.39 Q1225.98 1450.39 1229.04 1455 Q1232.12 1459.58 1232.12 1468.33 Q1232.12 1477.06 1229.04 1481.67 Q1225.98 1486.25 1220.17 1486.25 Q1214.36 1486.25 1211.28 1481.67 Q1208.23 1477.06 1208.23 1468.33 Q1208.23 1459.58 1211.28 1455 Q1214.36 1450.39 1220.17 1450.39 Z\" fill=\"#000000\" fill-rule=\"evenodd\" fill-opacity=\"1\" /><path clip-path=\"url(#clip040)\" d=\"M1675.55 1481.64 L1683.19 1481.64 L1683.19 1455.28 L1674.88 1456.95 L1674.88 1452.69 L1683.14 1451.02 L1687.82 1451.02 L1687.82 1481.64 L1695.46 1481.64 L1695.46 1485.58 L1675.55 1485.58 L1675.55 1481.64 Z\" fill=\"#000000\" fill-rule=\"evenodd\" fill-opacity=\"1\" /><path clip-path=\"url(#clip040)\" d=\"M1704.95 1451.02 L1723.31 1451.02 L1723.31 1454.96 L1709.23 1454.96 L1709.23 1463.43 Q1710.25 1463.08 1711.27 1462.92 Q1712.29 1462.73 1713.31 1462.73 Q1719.09 1462.73 1722.47 1465.9 Q1725.85 1469.08 1725.85 1474.49 Q1725.85 1480.07 1722.38 1483.17 Q1718.91 1486.25 1712.59 1486.25 Q1710.41 1486.25 1708.14 1485.88 Q1705.9 1485.51 1703.49 1484.77 L1703.49 1480.07 Q1705.58 1481.2 1707.8 1481.76 Q1710.02 1482.32 1712.5 1482.32 Q1716.5 1482.32 1718.84 1480.21 Q1721.18 1478.1 1721.18 1474.49 Q1721.18 1470.88 1718.84 1468.77 Q1716.5 1466.67 1712.5 1466.67 Q1710.62 1466.67 1708.75 1467.08 Q1706.89 1467.5 1704.95 1468.38 L1704.95 1451.02 Z\" fill=\"#000000\" fill-rule=\"evenodd\" fill-opacity=\"1\" /><path clip-path=\"url(#clip040)\" d=\"M2173.37 1481.64 L2189.69 1481.64 L2189.69 1485.58 L2167.75 1485.58 L2167.75 1481.64 Q2170.41 1478.89 2174.99 1474.26 Q2179.6 1469.61 2180.78 1468.27 Q2183.03 1465.74 2183.91 1464.01 Q2184.81 1462.25 2184.81 1460.56 Q2184.81 1457.8 2182.86 1456.07 Q2180.94 1454.33 2177.84 1454.33 Q2175.64 1454.33 2173.19 1455.09 Q2170.76 1455.86 2167.98 1457.41 L2167.98 1452.69 Q2170.8 1451.55 2173.26 1450.97 Q2175.71 1450.39 2177.75 1450.39 Q2183.12 1450.39 2186.31 1453.08 Q2189.51 1455.77 2189.51 1460.26 Q2189.51 1462.39 2188.7 1464.31 Q2187.91 1466.2 2185.8 1468.8 Q2185.23 1469.47 2182.12 1472.69 Q2179.02 1475.88 2173.37 1481.64 Z\" fill=\"#000000\" fill-rule=\"evenodd\" fill-opacity=\"1\" /><path clip-path=\"url(#clip040)\" d=\"M2209.51 1454.1 Q2205.9 1454.1 2204.07 1457.66 Q2202.26 1461.2 2202.26 1468.33 Q2202.26 1475.44 2204.07 1479.01 Q2205.9 1482.55 2209.51 1482.55 Q2213.14 1482.55 2214.95 1479.01 Q2216.78 1475.44 2216.78 1468.33 Q2216.78 1461.2 2214.95 1457.66 Q2213.14 1454.1 2209.51 1454.1 M2209.51 1450.39 Q2215.32 1450.39 2218.37 1455 Q2221.45 1459.58 2221.45 1468.33 Q2221.45 1477.06 2218.37 1481.67 Q2215.32 1486.25 2209.51 1486.25 Q2203.7 1486.25 2200.62 1481.67 Q2197.56 1477.06 2197.56 1468.33 Q2197.56 1459.58 2200.62 1455 Q2203.7 1450.39 2209.51 1450.39 Z\" fill=\"#000000\" fill-rule=\"evenodd\" fill-opacity=\"1\" /><path clip-path=\"url(#clip040)\" d=\"M1319.91 1546.53 L1319.91 1568.04 L1314.05 1568.04 L1314.05 1546.72 Q1314.05 1541.66 1312.08 1539.14 Q1310.1 1536.63 1306.16 1536.63 Q1301.42 1536.63 1298.68 1539.65 Q1295.94 1542.68 1295.94 1547.9 L1295.94 1568.04 L1290.05 1568.04 L1290.05 1532.4 L1295.94 1532.4 L1295.94 1537.93 Q1298.04 1534.72 1300.87 1533.13 Q1303.74 1531.54 1307.46 1531.54 Q1313.61 1531.54 1316.76 1535.36 Q1319.91 1539.14 1319.91 1546.53 Z\" fill=\"#000000\" fill-rule=\"evenodd\" fill-opacity=\"1\" /><polyline clip-path=\"url(#clip042)\" style=\"stroke:#000000; stroke-linecap:round; stroke-linejoin:round; stroke-width:2; stroke-opacity:0.1; fill:none\" points=\"\n",
       "  257.204,1322.44 2352.76,1322.44 \n",
       "  \"/>\n",
       "<polyline clip-path=\"url(#clip042)\" style=\"stroke:#000000; stroke-linecap:round; stroke-linejoin:round; stroke-width:2; stroke-opacity:0.1; fill:none\" points=\"\n",
       "  257.204,1055.97 2352.76,1055.97 \n",
       "  \"/>\n",
       "<polyline clip-path=\"url(#clip042)\" style=\"stroke:#000000; stroke-linecap:round; stroke-linejoin:round; stroke-width:2; stroke-opacity:0.1; fill:none\" points=\"\n",
       "  257.204,789.492 2352.76,789.492 \n",
       "  \"/>\n",
       "<polyline clip-path=\"url(#clip042)\" style=\"stroke:#000000; stroke-linecap:round; stroke-linejoin:round; stroke-width:2; stroke-opacity:0.1; fill:none\" points=\"\n",
       "  257.204,523.016 2352.76,523.016 \n",
       "  \"/>\n",
       "<polyline clip-path=\"url(#clip042)\" style=\"stroke:#000000; stroke-linecap:round; stroke-linejoin:round; stroke-width:2; stroke-opacity:0.1; fill:none\" points=\"\n",
       "  257.204,256.54 2352.76,256.54 \n",
       "  \"/>\n",
       "<polyline clip-path=\"url(#clip040)\" style=\"stroke:#000000; stroke-linecap:round; stroke-linejoin:round; stroke-width:4; stroke-opacity:1; fill:none\" points=\"\n",
       "  257.204,1423.18 257.204,123.472 \n",
       "  \"/>\n",
       "<polyline clip-path=\"url(#clip040)\" style=\"stroke:#000000; stroke-linecap:round; stroke-linejoin:round; stroke-width:4; stroke-opacity:1; fill:none\" points=\"\n",
       "  257.204,1322.44 276.102,1322.44 \n",
       "  \"/>\n",
       "<polyline clip-path=\"url(#clip040)\" style=\"stroke:#000000; stroke-linecap:round; stroke-linejoin:round; stroke-width:4; stroke-opacity:1; fill:none\" points=\"\n",
       "  257.204,1055.97 276.102,1055.97 \n",
       "  \"/>\n",
       "<polyline clip-path=\"url(#clip040)\" style=\"stroke:#000000; stroke-linecap:round; stroke-linejoin:round; stroke-width:4; stroke-opacity:1; fill:none\" points=\"\n",
       "  257.204,789.492 276.102,789.492 \n",
       "  \"/>\n",
       "<polyline clip-path=\"url(#clip040)\" style=\"stroke:#000000; stroke-linecap:round; stroke-linejoin:round; stroke-width:4; stroke-opacity:1; fill:none\" points=\"\n",
       "  257.204,523.016 276.102,523.016 \n",
       "  \"/>\n",
       "<polyline clip-path=\"url(#clip040)\" style=\"stroke:#000000; stroke-linecap:round; stroke-linejoin:round; stroke-width:4; stroke-opacity:1; fill:none\" points=\"\n",
       "  257.204,256.54 276.102,256.54 \n",
       "  \"/>\n",
       "<path clip-path=\"url(#clip040)\" d=\"M114.26 1322.9 L143.936 1322.9 L143.936 1326.83 L114.26 1326.83 L114.26 1322.9 Z\" fill=\"#000000\" fill-rule=\"evenodd\" fill-opacity=\"1\" /><path clip-path=\"url(#clip040)\" d=\"M154.075 1305.16 L172.431 1305.16 L172.431 1309.1 L158.357 1309.1 L158.357 1317.57 Q159.376 1317.22 160.394 1317.06 Q161.413 1316.88 162.431 1316.88 Q168.218 1316.88 171.598 1320.05 Q174.977 1323.22 174.977 1328.64 Q174.977 1334.21 171.505 1337.32 Q168.033 1340.39 161.714 1340.39 Q159.538 1340.39 157.269 1340.02 Q155.024 1339.65 152.616 1338.91 L152.616 1334.21 Q154.7 1335.35 156.922 1335.9 Q159.144 1336.46 161.621 1336.46 Q165.626 1336.46 167.964 1334.35 Q170.302 1332.25 170.302 1328.64 Q170.302 1325.02 167.964 1322.92 Q165.626 1320.81 161.621 1320.81 Q159.746 1320.81 157.871 1321.23 Q156.019 1321.65 154.075 1322.52 L154.075 1305.16 Z\" fill=\"#000000\" fill-rule=\"evenodd\" fill-opacity=\"1\" /><path clip-path=\"url(#clip040)\" d=\"M184.19 1333.84 L189.075 1333.84 L189.075 1339.72 L184.19 1339.72 L184.19 1333.84 Z\" fill=\"#000000\" fill-rule=\"evenodd\" fill-opacity=\"1\" /><path clip-path=\"url(#clip040)\" d=\"M209.26 1308.24 Q205.649 1308.24 203.82 1311.81 Q202.014 1315.35 202.014 1322.48 Q202.014 1329.58 203.82 1333.15 Q205.649 1336.69 209.26 1336.69 Q212.894 1336.69 214.699 1333.15 Q216.528 1329.58 216.528 1322.48 Q216.528 1315.35 214.699 1311.81 Q212.894 1308.24 209.26 1308.24 M209.26 1304.54 Q215.07 1304.54 218.125 1309.15 Q221.204 1313.73 221.204 1322.48 Q221.204 1331.21 218.125 1335.81 Q215.07 1340.39 209.26 1340.39 Q203.449 1340.39 200.371 1335.81 Q197.315 1331.21 197.315 1322.48 Q197.315 1313.73 200.371 1309.15 Q203.449 1304.54 209.26 1304.54 Z\" fill=\"#000000\" fill-rule=\"evenodd\" fill-opacity=\"1\" /><path clip-path=\"url(#clip040)\" d=\"M115.256 1056.42 L144.931 1056.42 L144.931 1060.35 L115.256 1060.35 L115.256 1056.42 Z\" fill=\"#000000\" fill-rule=\"evenodd\" fill-opacity=\"1\" /><path clip-path=\"url(#clip040)\" d=\"M159.052 1069.31 L175.371 1069.31 L175.371 1073.25 L153.427 1073.25 L153.427 1069.31 Q156.089 1066.56 160.672 1061.93 Q165.278 1057.28 166.459 1055.93 Q168.704 1053.41 169.584 1051.67 Q170.487 1049.91 170.487 1048.22 Q170.487 1045.47 168.542 1043.73 Q166.621 1042 163.519 1042 Q161.32 1042 158.866 1042.76 Q156.436 1043.53 153.658 1045.08 L153.658 1040.35 Q156.482 1039.22 158.936 1038.64 Q161.39 1038.06 163.427 1038.06 Q168.797 1038.06 171.991 1040.75 Q175.186 1043.43 175.186 1047.92 Q175.186 1050.05 174.376 1051.97 Q173.589 1053.87 171.482 1056.47 Q170.903 1057.14 167.802 1060.35 Q164.7 1063.55 159.052 1069.31 Z\" fill=\"#000000\" fill-rule=\"evenodd\" fill-opacity=\"1\" /><path clip-path=\"url(#clip040)\" d=\"M185.186 1067.37 L190.07 1067.37 L190.07 1073.25 L185.186 1073.25 L185.186 1067.37 Z\" fill=\"#000000\" fill-rule=\"evenodd\" fill-opacity=\"1\" /><path clip-path=\"url(#clip040)\" d=\"M200.301 1038.69 L218.658 1038.69 L218.658 1042.62 L204.584 1042.62 L204.584 1051.1 Q205.602 1050.75 206.621 1050.59 Q207.639 1050.4 208.658 1050.4 Q214.445 1050.4 217.824 1053.57 Q221.204 1056.74 221.204 1062.16 Q221.204 1067.74 217.732 1070.84 Q214.26 1073.92 207.94 1073.92 Q205.764 1073.92 203.496 1073.55 Q201.25 1073.18 198.843 1072.44 L198.843 1067.74 Q200.926 1068.87 203.149 1069.43 Q205.371 1069.98 207.848 1069.98 Q211.852 1069.98 214.19 1067.88 Q216.528 1065.77 216.528 1062.16 Q216.528 1058.55 214.19 1056.44 Q211.852 1054.34 207.848 1054.34 Q205.973 1054.34 204.098 1054.75 Q202.246 1055.17 200.301 1056.05 L200.301 1038.69 Z\" fill=\"#000000\" fill-rule=\"evenodd\" fill-opacity=\"1\" /><path clip-path=\"url(#clip040)\" d=\"M164.028 775.291 Q160.417 775.291 158.589 778.856 Q156.783 782.397 156.783 789.527 Q156.783 796.633 158.589 800.198 Q160.417 803.74 164.028 803.74 Q167.663 803.74 169.468 800.198 Q171.297 796.633 171.297 789.527 Q171.297 782.397 169.468 778.856 Q167.663 775.291 164.028 775.291 M164.028 771.587 Q169.839 771.587 172.894 776.194 Q175.973 780.777 175.973 789.527 Q175.973 798.254 172.894 802.86 Q169.839 807.443 164.028 807.443 Q158.218 807.443 155.14 802.86 Q152.084 798.254 152.084 789.527 Q152.084 780.777 155.14 776.194 Q158.218 771.587 164.028 771.587 Z\" fill=\"#000000\" fill-rule=\"evenodd\" fill-opacity=\"1\" /><path clip-path=\"url(#clip040)\" d=\"M184.19 800.892 L189.075 800.892 L189.075 806.772 L184.19 806.772 L184.19 800.892 Z\" fill=\"#000000\" fill-rule=\"evenodd\" fill-opacity=\"1\" /><path clip-path=\"url(#clip040)\" d=\"M209.26 775.291 Q205.649 775.291 203.82 778.856 Q202.014 782.397 202.014 789.527 Q202.014 796.633 203.82 800.198 Q205.649 803.74 209.26 803.74 Q212.894 803.74 214.699 800.198 Q216.528 796.633 216.528 789.527 Q216.528 782.397 214.699 778.856 Q212.894 775.291 209.26 775.291 M209.26 771.587 Q215.07 771.587 218.125 776.194 Q221.204 780.777 221.204 789.527 Q221.204 798.254 218.125 802.86 Q215.07 807.443 209.26 807.443 Q203.449 807.443 200.371 802.86 Q197.315 798.254 197.315 789.527 Q197.315 780.777 200.371 776.194 Q203.449 771.587 209.26 771.587 Z\" fill=\"#000000\" fill-rule=\"evenodd\" fill-opacity=\"1\" /><path clip-path=\"url(#clip040)\" d=\"M159.052 536.361 L175.371 536.361 L175.371 540.296 L153.427 540.296 L153.427 536.361 Q156.089 533.606 160.672 528.977 Q165.278 524.324 166.459 522.982 Q168.704 520.458 169.584 518.722 Q170.487 516.963 170.487 515.273 Q170.487 512.519 168.542 510.783 Q166.621 509.046 163.519 509.046 Q161.32 509.046 158.866 509.81 Q156.436 510.574 153.658 512.125 L153.658 507.403 Q156.482 506.269 158.936 505.69 Q161.39 505.111 163.427 505.111 Q168.797 505.111 171.991 507.796 Q175.186 510.482 175.186 514.972 Q175.186 517.102 174.376 519.023 Q173.589 520.921 171.482 523.514 Q170.903 524.185 167.802 527.403 Q164.7 530.597 159.052 536.361 Z\" fill=\"#000000\" fill-rule=\"evenodd\" fill-opacity=\"1\" /><path clip-path=\"url(#clip040)\" d=\"M185.186 534.417 L190.07 534.417 L190.07 540.296 L185.186 540.296 L185.186 534.417 Z\" fill=\"#000000\" fill-rule=\"evenodd\" fill-opacity=\"1\" /><path clip-path=\"url(#clip040)\" d=\"M200.301 505.736 L218.658 505.736 L218.658 509.671 L204.584 509.671 L204.584 518.144 Q205.602 517.796 206.621 517.634 Q207.639 517.449 208.658 517.449 Q214.445 517.449 217.824 520.62 Q221.204 523.792 221.204 529.208 Q221.204 534.787 217.732 537.889 Q214.26 540.968 207.94 540.968 Q205.764 540.968 203.496 540.597 Q201.25 540.227 198.843 539.486 L198.843 534.787 Q200.926 535.921 203.149 536.477 Q205.371 537.032 207.848 537.032 Q211.852 537.032 214.19 534.926 Q216.528 532.819 216.528 529.208 Q216.528 525.597 214.19 523.491 Q211.852 521.384 207.848 521.384 Q205.973 521.384 204.098 521.801 Q202.246 522.218 200.301 523.097 L200.301 505.736 Z\" fill=\"#000000\" fill-rule=\"evenodd\" fill-opacity=\"1\" /><path clip-path=\"url(#clip040)\" d=\"M154.075 239.26 L172.431 239.26 L172.431 243.196 L158.357 243.196 L158.357 251.668 Q159.376 251.321 160.394 251.159 Q161.413 250.973 162.431 250.973 Q168.218 250.973 171.598 254.145 Q174.977 257.316 174.977 262.733 Q174.977 268.311 171.505 271.413 Q168.033 274.492 161.714 274.492 Q159.538 274.492 157.269 274.121 Q155.024 273.751 152.616 273.01 L152.616 268.311 Q154.7 269.445 156.922 270.001 Q159.144 270.557 161.621 270.557 Q165.626 270.557 167.964 268.45 Q170.302 266.344 170.302 262.733 Q170.302 259.121 167.964 257.015 Q165.626 254.909 161.621 254.909 Q159.746 254.909 157.871 255.325 Q156.019 255.742 154.075 256.621 L154.075 239.26 Z\" fill=\"#000000\" fill-rule=\"evenodd\" fill-opacity=\"1\" /><path clip-path=\"url(#clip040)\" d=\"M184.19 267.941 L189.075 267.941 L189.075 273.82 L184.19 273.82 L184.19 267.941 Z\" fill=\"#000000\" fill-rule=\"evenodd\" fill-opacity=\"1\" /><path clip-path=\"url(#clip040)\" d=\"M209.26 242.339 Q205.649 242.339 203.82 245.904 Q202.014 249.446 202.014 256.575 Q202.014 263.682 203.82 267.246 Q205.649 270.788 209.26 270.788 Q212.894 270.788 214.699 267.246 Q216.528 263.682 216.528 256.575 Q216.528 249.446 214.699 245.904 Q212.894 242.339 209.26 242.339 M209.26 238.635 Q215.07 238.635 218.125 243.242 Q221.204 247.825 221.204 256.575 Q221.204 265.302 218.125 269.908 Q215.07 274.492 209.26 274.492 Q203.449 274.492 200.371 269.908 Q197.315 265.302 197.315 256.575 Q197.315 247.825 200.371 243.242 Q203.449 238.635 209.26 238.635 Z\" fill=\"#000000\" fill-rule=\"evenodd\" fill-opacity=\"1\" /><path clip-path=\"url(#clip040)\" d=\"M16.4842 788.636 L16.4842 758.589 L21.895 758.589 L21.895 782.206 L35.9632 782.206 L35.9632 759.576 L41.3741 759.576 L41.3741 782.206 L58.5933 782.206 L58.5933 758.016 L64.0042 758.016 L64.0042 788.636 L16.4842 788.636 Z\" fill=\"#000000\" fill-rule=\"evenodd\" fill-opacity=\"1\" /><path clip-path=\"url(#clip040)\" d=\"M1128.54 12.096 L1136.77 12.096 L1136.77 48.8377 Q1136.77 58.5599 1140.29 62.8538 Q1143.81 67.1073 1151.71 67.1073 Q1159.57 67.1073 1163.1 62.8538 Q1166.62 58.5599 1166.62 48.8377 L1166.62 12.096 L1174.84 12.096 L1174.84 49.8504 Q1174.84 61.6791 1168.97 67.7149 Q1163.14 73.7508 1151.71 73.7508 Q1140.25 73.7508 1134.38 67.7149 Q1128.54 61.6791 1128.54 49.8504 L1128.54 12.096 Z\" fill=\"#000000\" fill-rule=\"evenodd\" fill-opacity=\"1\" /><path clip-path=\"url(#clip040)\" d=\"M1190.85 34.9026 L1242.78 34.9026 L1242.78 41.7081 L1190.85 41.7081 L1190.85 34.9026 M1190.85 51.4303 L1242.78 51.4303 L1242.78 58.3168 L1190.85 58.3168 L1190.85 51.4303 Z\" fill=\"#000000\" fill-rule=\"evenodd\" fill-opacity=\"1\" /><path clip-path=\"url(#clip040)\" d=\"M1277.94 17.4837 Q1271.62 17.4837 1268.42 23.7221 Q1265.26 29.92 1265.26 42.3968 Q1265.26 54.833 1268.42 61.0714 Q1271.62 67.2693 1277.94 67.2693 Q1284.3 67.2693 1287.46 61.0714 Q1290.66 54.833 1290.66 42.3968 Q1290.66 29.92 1287.46 23.7221 Q1284.3 17.4837 1277.94 17.4837 M1277.94 11.0023 Q1288.11 11.0023 1293.46 19.0636 Q1298.84 27.0843 1298.84 42.3968 Q1298.84 57.6687 1293.46 65.73 Q1288.11 73.7508 1277.94 73.7508 Q1267.77 73.7508 1262.38 65.73 Q1257.04 57.6687 1257.04 42.3968 Q1257.04 27.0843 1262.38 19.0636 Q1267.77 11.0023 1277.94 11.0023 Z\" fill=\"#000000\" fill-rule=\"evenodd\" fill-opacity=\"1\" /><path clip-path=\"url(#clip040)\" d=\"M1313.22 62.2867 L1321.77 62.2867 L1321.77 72.576 L1313.22 72.576 L1313.22 62.2867 Z\" fill=\"#000000\" fill-rule=\"evenodd\" fill-opacity=\"1\" /><path clip-path=\"url(#clip040)\" d=\"M1357.09 17.4837 Q1350.78 17.4837 1347.58 23.7221 Q1344.42 29.92 1344.42 42.3968 Q1344.42 54.833 1347.58 61.0714 Q1350.78 67.2693 1357.09 67.2693 Q1363.45 67.2693 1366.61 61.0714 Q1369.81 54.833 1369.81 42.3968 Q1369.81 29.92 1366.61 23.7221 Q1363.45 17.4837 1357.09 17.4837 M1357.09 11.0023 Q1367.26 11.0023 1372.61 19.0636 Q1378 27.0843 1378 42.3968 Q1378 57.6687 1372.61 65.73 Q1367.26 73.7508 1357.09 73.7508 Q1346.93 73.7508 1341.54 65.73 Q1336.19 57.6687 1336.19 42.3968 Q1336.19 27.0843 1341.54 19.0636 Q1346.93 11.0023 1357.09 11.0023 Z\" fill=\"#000000\" fill-rule=\"evenodd\" fill-opacity=\"1\" /><path clip-path=\"url(#clip040)\" d=\"M1409.88 17.4837 Q1403.56 17.4837 1400.36 23.7221 Q1397.2 29.92 1397.2 42.3968 Q1397.2 54.833 1400.36 61.0714 Q1403.56 67.2693 1409.88 67.2693 Q1416.24 67.2693 1419.4 61.0714 Q1422.6 54.833 1422.6 42.3968 Q1422.6 29.92 1419.4 23.7221 Q1416.24 17.4837 1409.88 17.4837 M1409.88 11.0023 Q1420.05 11.0023 1425.39 19.0636 Q1430.78 27.0843 1430.78 42.3968 Q1430.78 57.6687 1425.39 65.73 Q1420.05 73.7508 1409.88 73.7508 Q1399.71 73.7508 1394.32 65.73 Q1388.98 57.6687 1388.98 42.3968 Q1388.98 27.0843 1394.32 19.0636 Q1399.71 11.0023 1409.88 11.0023 Z\" fill=\"#000000\" fill-rule=\"evenodd\" fill-opacity=\"1\" /><path clip-path=\"url(#clip040)\" d=\"M1446.58 65.6895 L1459.95 65.6895 L1459.95 19.5497 L1445.4 22.4663 L1445.4 15.0127 L1459.87 12.096 L1468.05 12.096 L1468.05 65.6895 L1481.42 65.6895 L1481.42 72.576 L1446.58 72.576 L1446.58 65.6895 Z\" fill=\"#000000\" fill-rule=\"evenodd\" fill-opacity=\"1\" /><path clip-path=\"url(#clip042)\" d=\"M316.512 1358.4 L309.932 1377.32 L289.884 1377.74 L305.872 1389.87 L300.048 1409.05 L316.512 1397.6 L332.976 1409.05 L327.152 1389.87 L343.14 1377.74 L323.092 1377.32 L316.512 1358.4 Z\" fill=\"#009af9\" fill-rule=\"evenodd\" fill-opacity=\"1\" stroke=\"#000000\" stroke-opacity=\"1\" stroke-width=\"3.2\"/>\n",
       "<path clip-path=\"url(#clip042)\" d=\"M415.359 1355.36 L408.779 1374.29 L388.731 1374.71 L404.719 1386.84 L398.895 1406.02 L415.359 1394.56 L431.823 1406.02 L425.999 1386.84 L441.987 1374.71 L421.939 1374.29 L415.359 1355.36 Z\" fill=\"#009af9\" fill-rule=\"evenodd\" fill-opacity=\"1\" stroke=\"#000000\" stroke-opacity=\"1\" stroke-width=\"3.2\"/>\n",
       "<path clip-path=\"url(#clip042)\" d=\"M514.206 1355.36 L507.626 1374.29 L487.578 1374.71 L503.566 1386.84 L497.742 1406.02 L514.206 1394.56 L530.67 1406.02 L524.846 1386.84 L540.834 1374.71 L520.786 1374.29 L514.206 1355.36 Z\" fill=\"#009af9\" fill-rule=\"evenodd\" fill-opacity=\"1\" stroke=\"#000000\" stroke-opacity=\"1\" stroke-width=\"3.2\"/>\n",
       "<path clip-path=\"url(#clip042)\" d=\"M613.052 1355.36 L606.472 1374.29 L586.424 1374.71 L602.412 1386.84 L596.588 1406.02 L613.052 1394.56 L629.516 1406.02 L623.692 1386.84 L639.68 1374.71 L619.632 1374.29 L613.052 1355.36 Z\" fill=\"#009af9\" fill-rule=\"evenodd\" fill-opacity=\"1\" stroke=\"#000000\" stroke-opacity=\"1\" stroke-width=\"3.2\"/>\n",
       "<path clip-path=\"url(#clip042)\" d=\"M711.899 1354.89 L705.319 1373.82 L685.271 1374.24 L701.259 1386.37 L695.435 1405.55 L711.899 1394.09 L728.363 1405.55 L722.539 1386.37 L738.527 1374.24 L718.479 1373.82 L711.899 1354.89 Z\" fill=\"#009af9\" fill-rule=\"evenodd\" fill-opacity=\"1\" stroke=\"#000000\" stroke-opacity=\"1\" stroke-width=\"3.2\"/>\n",
       "<path clip-path=\"url(#clip042)\" d=\"M810.746 1354.89 L804.166 1373.82 L784.118 1374.24 L800.106 1386.37 L794.282 1405.55 L810.746 1394.09 L827.21 1405.55 L821.386 1386.37 L837.374 1374.24 L817.326 1373.82 L810.746 1354.89 Z\" fill=\"#009af9\" fill-rule=\"evenodd\" fill-opacity=\"1\" stroke=\"#000000\" stroke-opacity=\"1\" stroke-width=\"3.2\"/>\n",
       "<path clip-path=\"url(#clip042)\" d=\"M909.593 1354.89 L903.013 1373.82 L882.965 1374.24 L898.953 1386.37 L893.129 1405.55 L909.593 1394.09 L926.057 1405.55 L920.233 1386.37 L936.221 1374.24 L916.173 1373.82 L909.593 1354.89 Z\" fill=\"#009af9\" fill-rule=\"evenodd\" fill-opacity=\"1\" stroke=\"#000000\" stroke-opacity=\"1\" stroke-width=\"3.2\"/>\n",
       "<path clip-path=\"url(#clip042)\" d=\"M1008.44 1354.89 L1001.86 1373.82 L981.812 1374.24 L997.8 1386.37 L991.976 1405.55 L1008.44 1394.09 L1024.9 1405.55 L1019.08 1386.37 L1035.07 1374.24 L1015.02 1373.82 L1008.44 1354.89 Z\" fill=\"#009af9\" fill-rule=\"evenodd\" fill-opacity=\"1\" stroke=\"#000000\" stroke-opacity=\"1\" stroke-width=\"3.2\"/>\n",
       "<path clip-path=\"url(#clip042)\" d=\"M1107.29 1354.89 L1100.71 1373.82 L1080.66 1374.24 L1096.65 1386.37 L1090.82 1405.55 L1107.29 1394.09 L1123.75 1405.55 L1117.93 1386.37 L1133.91 1374.24 L1113.87 1373.82 L1107.29 1354.89 Z\" fill=\"#009af9\" fill-rule=\"evenodd\" fill-opacity=\"1\" stroke=\"#000000\" stroke-opacity=\"1\" stroke-width=\"3.2\"/>\n",
       "<path clip-path=\"url(#clip042)\" d=\"M1206.13 1354.89 L1199.55 1373.82 L1179.51 1374.24 L1195.49 1386.37 L1189.67 1405.55 L1206.13 1394.09 L1222.6 1405.55 L1216.77 1386.37 L1232.76 1374.24 L1212.71 1373.82 L1206.13 1354.89 Z\" fill=\"#009af9\" fill-rule=\"evenodd\" fill-opacity=\"1\" stroke=\"#000000\" stroke-opacity=\"1\" stroke-width=\"3.2\"/>\n",
       "<path clip-path=\"url(#clip042)\" d=\"M1304.98 1354 L1298.4 1372.92 L1278.35 1373.34 L1294.34 1385.47 L1288.52 1404.65 L1304.98 1393.2 L1321.44 1404.65 L1315.62 1385.47 L1331.61 1373.34 L1311.56 1372.92 L1304.98 1354 Z\" fill=\"#009af9\" fill-rule=\"evenodd\" fill-opacity=\"1\" stroke=\"#000000\" stroke-opacity=\"1\" stroke-width=\"3.2\"/>\n",
       "<path clip-path=\"url(#clip042)\" d=\"M1403.83 1354 L1397.25 1372.92 L1377.2 1373.34 L1393.19 1385.47 L1387.36 1404.65 L1403.83 1393.2 L1420.29 1404.65 L1414.47 1385.47 L1430.45 1373.34 L1410.41 1372.92 L1403.83 1354 Z\" fill=\"#009af9\" fill-rule=\"evenodd\" fill-opacity=\"1\" stroke=\"#000000\" stroke-opacity=\"1\" stroke-width=\"3.2\"/>\n",
       "<path clip-path=\"url(#clip042)\" d=\"M1502.67 1354 L1496.09 1372.92 L1476.05 1373.34 L1492.03 1385.47 L1486.21 1404.65 L1502.67 1393.2 L1519.14 1404.65 L1513.31 1385.47 L1529.3 1373.34 L1509.25 1372.92 L1502.67 1354 Z\" fill=\"#009af9\" fill-rule=\"evenodd\" fill-opacity=\"1\" stroke=\"#000000\" stroke-opacity=\"1\" stroke-width=\"3.2\"/>\n",
       "<path clip-path=\"url(#clip042)\" d=\"M1601.52 1354 L1594.94 1372.92 L1574.89 1373.34 L1590.88 1385.47 L1585.06 1404.65 L1601.52 1393.2 L1617.98 1404.65 L1612.16 1385.47 L1628.15 1373.34 L1608.1 1372.92 L1601.52 1354 Z\" fill=\"#009af9\" fill-rule=\"evenodd\" fill-opacity=\"1\" stroke=\"#000000\" stroke-opacity=\"1\" stroke-width=\"3.2\"/>\n",
       "<path clip-path=\"url(#clip042)\" d=\"M1700.37 1354 L1693.79 1372.92 L1673.74 1373.34 L1689.73 1385.47 L1683.9 1404.65 L1700.37 1393.2 L1716.83 1404.65 L1711.01 1385.47 L1727 1373.34 L1706.95 1372.92 L1700.37 1354 Z\" fill=\"#009af9\" fill-rule=\"evenodd\" fill-opacity=\"1\" stroke=\"#000000\" stroke-opacity=\"1\" stroke-width=\"3.2\"/>\n",
       "<path clip-path=\"url(#clip042)\" d=\"M1799.21 1354 L1792.63 1372.92 L1772.59 1373.34 L1788.57 1385.47 L1782.75 1404.65 L1799.21 1393.2 L1815.68 1404.65 L1809.85 1385.47 L1825.84 1373.34 L1805.79 1372.92 L1799.21 1354 Z\" fill=\"#009af9\" fill-rule=\"evenodd\" fill-opacity=\"1\" stroke=\"#000000\" stroke-opacity=\"1\" stroke-width=\"3.2\"/>\n",
       "<path clip-path=\"url(#clip042)\" d=\"M1898.06 1352.34 L1891.48 1371.26 L1871.43 1371.68 L1887.42 1383.81 L1881.6 1402.99 L1898.06 1391.54 L1914.52 1402.99 L1908.7 1383.81 L1924.69 1371.68 L1904.64 1371.26 L1898.06 1352.34 Z\" fill=\"#009af9\" fill-rule=\"evenodd\" fill-opacity=\"1\" stroke=\"#000000\" stroke-opacity=\"1\" stroke-width=\"3.2\"/>\n",
       "<path clip-path=\"url(#clip042)\" d=\"M1996.91 1352.33 L1990.33 1371.26 L1970.28 1371.68 L1986.27 1383.81 L1980.44 1402.99 L1996.91 1391.53 L2013.37 1402.99 L2007.55 1383.81 L2023.54 1371.68 L2003.49 1371.26 L1996.91 1352.33 Z\" fill=\"#009af9\" fill-rule=\"evenodd\" fill-opacity=\"1\" stroke=\"#000000\" stroke-opacity=\"1\" stroke-width=\"3.2\"/>\n",
       "<path clip-path=\"url(#clip042)\" d=\"M2095.75 1352.33 L2089.17 1371.26 L2069.13 1371.68 L2085.11 1383.81 L2079.29 1402.99 L2095.75 1391.53 L2112.22 1402.99 L2106.39 1383.81 L2122.38 1371.68 L2102.33 1371.26 L2095.75 1352.33 Z\" fill=\"#009af9\" fill-rule=\"evenodd\" fill-opacity=\"1\" stroke=\"#000000\" stroke-opacity=\"1\" stroke-width=\"3.2\"/>\n",
       "<path clip-path=\"url(#clip042)\" d=\"M2194.6 1352.33 L2188.02 1371.26 L2167.97 1371.68 L2183.96 1383.81 L2178.14 1402.99 L2194.6 1391.53 L2211.07 1402.99 L2205.24 1383.81 L2221.23 1371.68 L2201.18 1371.26 L2194.6 1352.33 Z\" fill=\"#009af9\" fill-rule=\"evenodd\" fill-opacity=\"1\" stroke=\"#000000\" stroke-opacity=\"1\" stroke-width=\"3.2\"/>\n",
       "<path clip-path=\"url(#clip042)\" d=\"M2293.45 1352.33 L2286.87 1371.26 L2266.82 1371.68 L2282.81 1383.81 L2276.98 1402.99 L2293.45 1391.53 L2309.91 1402.99 L2304.09 1383.81 L2320.08 1371.68 L2300.03 1371.26 L2293.45 1352.33 Z\" fill=\"#009af9\" fill-rule=\"evenodd\" fill-opacity=\"1\" stroke=\"#000000\" stroke-opacity=\"1\" stroke-width=\"3.2\"/>\n",
       "<circle clip-path=\"url(#clip042)\" cx=\"316.512\" cy=\"1386.4\" r=\"14.4\" fill=\"#e26f46\" fill-rule=\"evenodd\" fill-opacity=\"1\" stroke=\"#000000\" stroke-opacity=\"1\" stroke-width=\"3.2\"/>\n",
       "<circle clip-path=\"url(#clip042)\" cx=\"415.359\" cy=\"1383.36\" r=\"14.4\" fill=\"#e26f46\" fill-rule=\"evenodd\" fill-opacity=\"1\" stroke=\"#000000\" stroke-opacity=\"1\" stroke-width=\"3.2\"/>\n",
       "<circle clip-path=\"url(#clip042)\" cx=\"514.206\" cy=\"1383.36\" r=\"14.4\" fill=\"#e26f46\" fill-rule=\"evenodd\" fill-opacity=\"1\" stroke=\"#000000\" stroke-opacity=\"1\" stroke-width=\"3.2\"/>\n",
       "<circle clip-path=\"url(#clip042)\" cx=\"613.052\" cy=\"1383.36\" r=\"14.4\" fill=\"#e26f46\" fill-rule=\"evenodd\" fill-opacity=\"1\" stroke=\"#000000\" stroke-opacity=\"1\" stroke-width=\"3.2\"/>\n",
       "<circle clip-path=\"url(#clip042)\" cx=\"711.899\" cy=\"1382.89\" r=\"14.4\" fill=\"#e26f46\" fill-rule=\"evenodd\" fill-opacity=\"1\" stroke=\"#000000\" stroke-opacity=\"1\" stroke-width=\"3.2\"/>\n",
       "<circle clip-path=\"url(#clip042)\" cx=\"810.746\" cy=\"1380.34\" r=\"14.4\" fill=\"#e26f46\" fill-rule=\"evenodd\" fill-opacity=\"1\" stroke=\"#000000\" stroke-opacity=\"1\" stroke-width=\"3.2\"/>\n",
       "<circle clip-path=\"url(#clip042)\" cx=\"909.593\" cy=\"1380.33\" r=\"14.4\" fill=\"#e26f46\" fill-rule=\"evenodd\" fill-opacity=\"1\" stroke=\"#000000\" stroke-opacity=\"1\" stroke-width=\"3.2\"/>\n",
       "<circle clip-path=\"url(#clip042)\" cx=\"1008.44\" cy=\"1380.33\" r=\"14.4\" fill=\"#e26f46\" fill-rule=\"evenodd\" fill-opacity=\"1\" stroke=\"#000000\" stroke-opacity=\"1\" stroke-width=\"3.2\"/>\n",
       "<circle clip-path=\"url(#clip042)\" cx=\"1107.29\" cy=\"1380.33\" r=\"14.4\" fill=\"#e26f46\" fill-rule=\"evenodd\" fill-opacity=\"1\" stroke=\"#000000\" stroke-opacity=\"1\" stroke-width=\"3.2\"/>\n",
       "<circle clip-path=\"url(#clip042)\" cx=\"1206.13\" cy=\"1380.33\" r=\"14.4\" fill=\"#e26f46\" fill-rule=\"evenodd\" fill-opacity=\"1\" stroke=\"#000000\" stroke-opacity=\"1\" stroke-width=\"3.2\"/>\n",
       "<circle clip-path=\"url(#clip042)\" cx=\"1304.98\" cy=\"1380.33\" r=\"14.4\" fill=\"#e26f46\" fill-rule=\"evenodd\" fill-opacity=\"1\" stroke=\"#000000\" stroke-opacity=\"1\" stroke-width=\"3.2\"/>\n",
       "<circle clip-path=\"url(#clip042)\" cx=\"1403.83\" cy=\"1379.87\" r=\"14.4\" fill=\"#e26f46\" fill-rule=\"evenodd\" fill-opacity=\"1\" stroke=\"#000000\" stroke-opacity=\"1\" stroke-width=\"3.2\"/>\n",
       "<circle clip-path=\"url(#clip042)\" cx=\"1502.67\" cy=\"1379.86\" r=\"14.4\" fill=\"#e26f46\" fill-rule=\"evenodd\" fill-opacity=\"1\" stroke=\"#000000\" stroke-opacity=\"1\" stroke-width=\"3.2\"/>\n",
       "<circle clip-path=\"url(#clip042)\" cx=\"1601.52\" cy=\"1379.86\" r=\"14.4\" fill=\"#e26f46\" fill-rule=\"evenodd\" fill-opacity=\"1\" stroke=\"#000000\" stroke-opacity=\"1\" stroke-width=\"3.2\"/>\n",
       "<circle clip-path=\"url(#clip042)\" cx=\"1700.37\" cy=\"1379.4\" r=\"14.4\" fill=\"#e26f46\" fill-rule=\"evenodd\" fill-opacity=\"1\" stroke=\"#000000\" stroke-opacity=\"1\" stroke-width=\"3.2\"/>\n",
       "<circle clip-path=\"url(#clip042)\" cx=\"1799.21\" cy=\"1087.94\" r=\"14.4\" fill=\"#e26f46\" fill-rule=\"evenodd\" fill-opacity=\"1\" stroke=\"#000000\" stroke-opacity=\"1\" stroke-width=\"3.2\"/>\n",
       "<circle clip-path=\"url(#clip042)\" cx=\"1898.06\" cy=\"1084.91\" r=\"14.4\" fill=\"#e26f46\" fill-rule=\"evenodd\" fill-opacity=\"1\" stroke=\"#000000\" stroke-opacity=\"1\" stroke-width=\"3.2\"/>\n",
       "<circle clip-path=\"url(#clip042)\" cx=\"1996.91\" cy=\"1084.91\" r=\"14.4\" fill=\"#e26f46\" fill-rule=\"evenodd\" fill-opacity=\"1\" stroke=\"#000000\" stroke-opacity=\"1\" stroke-width=\"3.2\"/>\n",
       "<circle clip-path=\"url(#clip042)\" cx=\"2095.75\" cy=\"1084.91\" r=\"14.4\" fill=\"#e26f46\" fill-rule=\"evenodd\" fill-opacity=\"1\" stroke=\"#000000\" stroke-opacity=\"1\" stroke-width=\"3.2\"/>\n",
       "<circle clip-path=\"url(#clip042)\" cx=\"2194.6\" cy=\"1084.45\" r=\"14.4\" fill=\"#e26f46\" fill-rule=\"evenodd\" fill-opacity=\"1\" stroke=\"#000000\" stroke-opacity=\"1\" stroke-width=\"3.2\"/>\n",
       "<circle clip-path=\"url(#clip042)\" cx=\"2293.45\" cy=\"789.492\" r=\"14.4\" fill=\"#e26f46\" fill-rule=\"evenodd\" fill-opacity=\"1\" stroke=\"#000000\" stroke-opacity=\"1\" stroke-width=\"3.2\"/>\n",
       "<path clip-path=\"url(#clip040)\" d=\"\n",
       "M327.056 322.316 L816.491 322.316 L816.491 166.796 L327.056 166.796  Z\n",
       "  \" fill=\"#ffffff\" fill-rule=\"evenodd\" fill-opacity=\"1\"/>\n",
       "<polyline clip-path=\"url(#clip040)\" style=\"stroke:#000000; stroke-linecap:round; stroke-linejoin:round; stroke-width:4; stroke-opacity:1; fill:none\" points=\"\n",
       "  327.056,322.316 816.491,322.316 816.491,166.796 327.056,166.796 327.056,322.316 \n",
       "  \"/>\n",
       "<path clip-path=\"url(#clip040)\" d=\"M420.191 193.036 L414.175 210.341 L395.846 210.725 L410.463 221.81 L405.139 239.346 L420.191 228.876 L435.244 239.346 L429.919 221.81 L444.537 210.725 L426.207 210.341 L420.191 193.036 Z\" fill=\"#009af9\" fill-rule=\"evenodd\" fill-opacity=\"1\" stroke=\"#000000\" stroke-opacity=\"1\" stroke-width=\"2.92571\"/>\n",
       "<path clip-path=\"url(#clip040)\" d=\"M529.716 219.712 Q531.22 220.221 532.632 221.888 Q534.068 223.555 535.503 226.471 L540.248 235.916 L535.225 235.916 L530.804 227.05 Q529.091 223.578 527.47 222.444 Q525.873 221.309 523.096 221.309 L518.003 221.309 L518.003 235.916 L513.327 235.916 L513.327 201.356 L523.883 201.356 Q529.808 201.356 532.725 203.833 Q535.642 206.309 535.642 211.309 Q535.642 214.573 534.114 216.726 Q532.609 218.879 529.716 219.712 M518.003 205.198 L518.003 217.467 L523.883 217.467 Q527.262 217.467 528.975 215.916 Q530.711 214.342 530.711 211.309 Q530.711 208.277 528.975 206.749 Q527.262 205.198 523.883 205.198 L518.003 205.198 Z\" fill=\"#000000\" fill-rule=\"evenodd\" fill-opacity=\"1\" /><path clip-path=\"url(#clip040)\" d=\"M566.128 221.888 L566.128 223.971 L546.544 223.971 Q546.822 228.369 549.183 230.684 Q551.568 232.976 555.804 232.976 Q558.257 232.976 560.549 232.374 Q562.864 231.772 565.132 230.569 L565.132 234.596 Q562.841 235.568 560.433 236.078 Q558.026 236.587 555.549 236.587 Q549.345 236.587 545.711 232.976 Q542.1 229.365 542.1 223.207 Q542.1 216.842 545.526 213.115 Q548.975 209.365 554.808 209.365 Q560.04 209.365 563.072 212.745 Q566.128 216.101 566.128 221.888 M561.868 220.638 Q561.822 217.143 559.901 215.059 Q558.003 212.976 554.855 212.976 Q551.29 212.976 549.137 214.99 Q547.007 217.004 546.683 220.661 L561.868 220.638 Z\" fill=\"#000000\" fill-rule=\"evenodd\" fill-opacity=\"1\" /><path clip-path=\"url(#clip040)\" d=\"M584.901 222.883 Q579.739 222.883 577.748 224.064 Q575.757 225.244 575.757 228.092 Q575.757 230.36 577.239 231.703 Q578.743 233.022 581.313 233.022 Q584.854 233.022 586.984 230.522 Q589.137 227.999 589.137 223.832 L589.137 222.883 L584.901 222.883 M593.396 221.124 L593.396 235.916 L589.137 235.916 L589.137 231.981 Q587.678 234.342 585.503 235.476 Q583.327 236.587 580.179 236.587 Q576.197 236.587 573.836 234.365 Q571.498 232.119 571.498 228.369 Q571.498 223.994 574.415 221.772 Q577.354 219.55 583.165 219.55 L589.137 219.55 L589.137 219.133 Q589.137 216.194 587.192 214.596 Q585.271 212.976 581.776 212.976 Q579.554 212.976 577.447 213.508 Q575.341 214.041 573.396 215.106 L573.396 211.17 Q575.734 210.268 577.933 209.828 Q580.132 209.365 582.216 209.365 Q587.841 209.365 590.618 212.282 Q593.396 215.198 593.396 221.124 Z\" fill=\"#000000\" fill-rule=\"evenodd\" fill-opacity=\"1\" /><path clip-path=\"url(#clip040)\" d=\"M602.169 199.897 L606.428 199.897 L606.428 235.916 L602.169 235.916 L602.169 199.897 Z\" fill=\"#000000\" fill-rule=\"evenodd\" fill-opacity=\"1\" /><path clip-path=\"url(#clip040)\" d=\"M613.188 221.032 L625.664 221.032 L625.664 224.828 L613.188 224.828 L613.188 221.032 Z\" fill=\"#000000\" fill-rule=\"evenodd\" fill-opacity=\"1\" /><path clip-path=\"url(#clip040)\" d=\"M653.349 202.49 L653.349 207.05 Q650.687 205.777 648.326 205.152 Q645.965 204.527 643.766 204.527 Q639.947 204.527 637.863 206.008 Q635.803 207.49 635.803 210.221 Q635.803 212.513 637.169 213.694 Q638.558 214.851 642.4 215.569 L645.224 216.147 Q650.456 217.143 652.933 219.666 Q655.433 222.166 655.433 226.379 Q655.433 231.402 652.053 233.994 Q648.697 236.587 642.192 236.587 Q639.738 236.587 636.961 236.031 Q634.206 235.476 631.243 234.388 L631.243 229.573 Q634.09 231.17 636.822 231.981 Q639.553 232.791 642.192 232.791 Q646.197 232.791 648.373 231.217 Q650.549 229.643 650.549 226.726 Q650.549 224.18 648.974 222.744 Q647.424 221.309 643.859 220.592 L641.012 220.036 Q635.78 218.995 633.442 216.772 Q631.104 214.55 631.104 210.592 Q631.104 206.008 634.322 203.37 Q637.562 200.731 643.234 200.731 Q645.664 200.731 648.187 201.171 Q650.711 201.61 653.349 202.49 Z\" fill=\"#000000\" fill-rule=\"evenodd\" fill-opacity=\"1\" /><path clip-path=\"url(#clip040)\" d=\"M666.66 232.027 L666.66 245.777 L662.377 245.777 L662.377 209.99 L666.66 209.99 L666.66 213.925 Q668.002 211.61 670.039 210.499 Q672.099 209.365 674.947 209.365 Q679.669 209.365 682.609 213.115 Q685.571 216.865 685.571 222.976 Q685.571 229.087 682.609 232.837 Q679.669 236.587 674.947 236.587 Q672.099 236.587 670.039 235.476 Q668.002 234.342 666.66 232.027 M681.15 222.976 Q681.15 218.277 679.206 215.615 Q677.284 212.93 673.905 212.93 Q670.525 212.93 668.581 215.615 Q666.66 218.277 666.66 222.976 Q666.66 227.675 668.581 230.36 Q670.525 233.022 673.905 233.022 Q677.284 233.022 679.206 230.36 Q681.15 227.675 681.15 222.976 Z\" fill=\"#000000\" fill-rule=\"evenodd\" fill-opacity=\"1\" /><path clip-path=\"url(#clip040)\" d=\"M704.414 222.883 Q699.252 222.883 697.261 224.064 Q695.271 225.244 695.271 228.092 Q695.271 230.36 696.752 231.703 Q698.257 233.022 700.826 233.022 Q704.368 233.022 706.497 230.522 Q708.65 227.999 708.65 223.832 L708.65 222.883 L704.414 222.883 M712.909 221.124 L712.909 235.916 L708.65 235.916 L708.65 231.981 Q707.192 234.342 705.016 235.476 Q702.84 236.587 699.692 236.587 Q695.71 236.587 693.349 234.365 Q691.011 232.119 691.011 228.369 Q691.011 223.994 693.928 221.772 Q696.868 219.55 702.678 219.55 L708.65 219.55 L708.65 219.133 Q708.65 216.194 706.706 214.596 Q704.784 212.976 701.289 212.976 Q699.067 212.976 696.96 213.508 Q694.854 214.041 692.909 215.106 L692.909 211.17 Q695.247 210.268 697.446 209.828 Q699.645 209.365 701.729 209.365 Q707.354 209.365 710.132 212.282 Q712.909 215.198 712.909 221.124 Z\" fill=\"#000000\" fill-rule=\"evenodd\" fill-opacity=\"1\" /><path clip-path=\"url(#clip040)\" d=\"M740.34 210.985 L740.34 214.967 Q738.534 213.971 736.705 213.485 Q734.9 212.976 733.048 212.976 Q728.905 212.976 726.613 215.615 Q724.321 218.231 724.321 222.976 Q724.321 227.721 726.613 230.36 Q728.905 232.976 733.048 232.976 Q734.9 232.976 736.705 232.49 Q738.534 231.981 740.34 230.985 L740.34 234.92 Q738.557 235.754 736.636 236.17 Q734.738 236.587 732.585 236.587 Q726.729 236.587 723.28 232.906 Q719.831 229.226 719.831 222.976 Q719.831 216.633 723.303 212.999 Q726.798 209.365 732.863 209.365 Q734.83 209.365 736.705 209.782 Q738.58 210.175 740.34 210.985 Z\" fill=\"#000000\" fill-rule=\"evenodd\" fill-opacity=\"1\" /><path clip-path=\"url(#clip040)\" d=\"M769.923 221.888 L769.923 223.971 L750.34 223.971 Q750.617 228.369 752.979 230.684 Q755.363 232.976 759.599 232.976 Q762.053 232.976 764.344 232.374 Q766.659 231.772 768.928 230.569 L768.928 234.596 Q766.636 235.568 764.228 236.078 Q761.821 236.587 759.344 236.587 Q753.141 236.587 749.506 232.976 Q745.895 229.365 745.895 223.207 Q745.895 216.842 749.321 213.115 Q752.77 209.365 758.603 209.365 Q763.835 209.365 766.867 212.745 Q769.923 216.101 769.923 221.888 M765.664 220.638 Q765.617 217.143 763.696 215.059 Q761.798 212.976 758.65 212.976 Q755.085 212.976 752.932 214.99 Q750.803 217.004 750.479 220.661 L765.664 220.638 Z\" fill=\"#000000\" fill-rule=\"evenodd\" fill-opacity=\"1\" /><circle clip-path=\"url(#clip040)\" cx=\"420.191\" cy=\"270.476\" r=\"23.04\" fill=\"#e26f46\" fill-rule=\"evenodd\" fill-opacity=\"1\" stroke=\"#000000\" stroke-opacity=\"1\" stroke-width=\"5.12\"/>\n",
       "<path clip-path=\"url(#clip040)\" d=\"M535.572 254.33 L535.572 258.89 Q532.91 257.617 530.549 256.992 Q528.188 256.367 525.989 256.367 Q522.17 256.367 520.086 257.848 Q518.026 259.33 518.026 262.061 Q518.026 264.353 519.392 265.534 Q520.781 266.691 524.623 267.409 L527.447 267.987 Q532.679 268.983 535.156 271.506 Q537.656 274.006 537.656 278.219 Q537.656 283.242 534.276 285.834 Q530.92 288.427 524.415 288.427 Q521.961 288.427 519.183 287.871 Q516.429 287.316 513.466 286.228 L513.466 281.413 Q516.313 283.01 519.045 283.821 Q521.776 284.631 524.415 284.631 Q528.42 284.631 530.595 283.057 Q532.771 281.483 532.771 278.566 Q532.771 276.02 531.197 274.584 Q529.646 273.149 526.082 272.432 L523.234 271.876 Q518.003 270.835 515.665 268.612 Q513.327 266.39 513.327 262.432 Q513.327 257.848 516.545 255.21 Q519.785 252.571 525.457 252.571 Q527.887 252.571 530.41 253.011 Q532.933 253.45 535.572 254.33 Z\" fill=\"#000000\" fill-rule=\"evenodd\" fill-opacity=\"1\" /><path clip-path=\"url(#clip040)\" d=\"M544.322 277.524 L544.322 261.83 L548.581 261.83 L548.581 277.362 Q548.581 281.043 550.017 282.895 Q551.452 284.723 554.322 284.723 Q557.771 284.723 559.762 282.524 Q561.776 280.325 561.776 276.529 L561.776 261.83 L566.035 261.83 L566.035 287.756 L561.776 287.756 L561.776 283.774 Q560.225 286.135 558.165 287.293 Q556.128 288.427 553.419 288.427 Q548.952 288.427 546.637 285.649 Q544.322 282.871 544.322 277.524 M555.04 261.205 L555.04 261.205 Z\" fill=\"#000000\" fill-rule=\"evenodd\" fill-opacity=\"1\" /><path clip-path=\"url(#clip040)\" d=\"M593.419 274.816 Q593.419 270.117 591.475 267.455 Q589.553 264.77 586.174 264.77 Q582.794 264.77 580.85 267.455 Q578.929 270.117 578.929 274.816 Q578.929 279.515 580.85 282.2 Q582.794 284.862 586.174 284.862 Q589.553 284.862 591.475 282.2 Q593.419 279.515 593.419 274.816 M578.929 265.765 Q580.271 263.45 582.308 262.339 Q584.368 261.205 587.216 261.205 Q591.938 261.205 594.878 264.955 Q597.84 268.705 597.84 274.816 Q597.84 280.927 594.878 284.677 Q591.938 288.427 587.216 288.427 Q584.368 288.427 582.308 287.316 Q580.271 286.182 578.929 283.867 L578.929 287.756 L574.646 287.756 L574.646 251.737 L578.929 251.737 L578.929 265.765 Z\" fill=\"#000000\" fill-rule=\"evenodd\" fill-opacity=\"1\" /><path clip-path=\"url(#clip040)\" d=\"M602.748 272.872 L615.225 272.872 L615.225 276.668 L602.748 276.668 L602.748 272.872 Z\" fill=\"#000000\" fill-rule=\"evenodd\" fill-opacity=\"1\" /><path clip-path=\"url(#clip040)\" d=\"M642.91 254.33 L642.91 258.89 Q640.248 257.617 637.887 256.992 Q635.525 256.367 633.326 256.367 Q629.507 256.367 627.424 257.848 Q625.363 259.33 625.363 262.061 Q625.363 264.353 626.729 265.534 Q628.118 266.691 631.961 267.409 L634.785 267.987 Q640.016 268.983 642.493 271.506 Q644.993 274.006 644.993 278.219 Q644.993 283.242 641.613 285.834 Q638.257 288.427 631.752 288.427 Q629.299 288.427 626.521 287.871 Q623.766 287.316 620.803 286.228 L620.803 281.413 Q623.651 283.01 626.382 283.821 Q629.113 284.631 631.752 284.631 Q635.757 284.631 637.933 283.057 Q640.109 281.483 640.109 278.566 Q640.109 276.02 638.535 274.584 Q636.984 273.149 633.419 272.432 L630.572 271.876 Q625.34 270.835 623.002 268.612 Q620.664 266.39 620.664 262.432 Q620.664 257.848 623.882 255.21 Q627.123 252.571 632.794 252.571 Q635.225 252.571 637.748 253.011 Q640.271 253.45 642.91 254.33 Z\" fill=\"#000000\" fill-rule=\"evenodd\" fill-opacity=\"1\" /><path clip-path=\"url(#clip040)\" d=\"M656.22 283.867 L656.22 297.617 L651.937 297.617 L651.937 261.83 L656.22 261.83 L656.22 265.765 Q657.562 263.45 659.599 262.339 Q661.66 261.205 664.507 261.205 Q669.229 261.205 672.169 264.955 Q675.132 268.705 675.132 274.816 Q675.132 280.927 672.169 284.677 Q669.229 288.427 664.507 288.427 Q661.66 288.427 659.599 287.316 Q657.562 286.182 656.22 283.867 M670.71 274.816 Q670.71 270.117 668.766 267.455 Q666.845 264.77 663.465 264.77 Q660.086 264.77 658.141 267.455 Q656.22 270.117 656.22 274.816 Q656.22 279.515 658.141 282.2 Q660.086 284.862 663.465 284.862 Q666.845 284.862 668.766 282.2 Q670.71 279.515 670.71 274.816 Z\" fill=\"#000000\" fill-rule=\"evenodd\" fill-opacity=\"1\" /><path clip-path=\"url(#clip040)\" d=\"M693.974 274.723 Q688.812 274.723 686.821 275.904 Q684.831 277.084 684.831 279.932 Q684.831 282.2 686.312 283.543 Q687.817 284.862 690.386 284.862 Q693.928 284.862 696.058 282.362 Q698.21 279.839 698.21 275.672 L698.21 274.723 L693.974 274.723 M702.47 272.964 L702.47 287.756 L698.21 287.756 L698.21 283.821 Q696.752 286.182 694.576 287.316 Q692.4 288.427 689.252 288.427 Q685.271 288.427 682.909 286.205 Q680.572 283.959 680.572 280.209 Q680.572 275.834 683.488 273.612 Q686.428 271.39 692.238 271.39 L698.21 271.39 L698.21 270.973 Q698.21 268.034 696.266 266.436 Q694.345 264.816 690.849 264.816 Q688.627 264.816 686.521 265.348 Q684.414 265.881 682.47 266.946 L682.47 263.01 Q684.808 262.108 687.007 261.668 Q689.206 261.205 691.289 261.205 Q696.914 261.205 699.692 264.122 Q702.47 267.038 702.47 272.964 Z\" fill=\"#000000\" fill-rule=\"evenodd\" fill-opacity=\"1\" /><path clip-path=\"url(#clip040)\" d=\"M729.9 262.825 L729.9 266.807 Q728.094 265.811 726.266 265.325 Q724.46 264.816 722.608 264.816 Q718.465 264.816 716.173 267.455 Q713.882 270.071 713.882 274.816 Q713.882 279.561 716.173 282.2 Q718.465 284.816 722.608 284.816 Q724.46 284.816 726.266 284.33 Q728.094 283.821 729.9 282.825 L729.9 286.76 Q728.118 287.594 726.196 288.01 Q724.298 288.427 722.145 288.427 Q716.289 288.427 712.84 284.746 Q709.391 281.066 709.391 274.816 Q709.391 268.473 712.863 264.839 Q716.358 261.205 722.423 261.205 Q724.391 261.205 726.266 261.622 Q728.141 262.015 729.9 262.825 Z\" fill=\"#000000\" fill-rule=\"evenodd\" fill-opacity=\"1\" /><path clip-path=\"url(#clip040)\" d=\"M759.483 273.728 L759.483 275.811 L739.9 275.811 Q740.178 280.209 742.539 282.524 Q744.923 284.816 749.159 284.816 Q751.613 284.816 753.904 284.214 Q756.219 283.612 758.488 282.409 L758.488 286.436 Q756.196 287.408 753.789 287.918 Q751.381 288.427 748.904 288.427 Q742.701 288.427 739.067 284.816 Q735.455 281.205 735.455 275.047 Q735.455 268.682 738.881 264.955 Q742.33 261.205 748.164 261.205 Q753.395 261.205 756.428 264.585 Q759.483 267.941 759.483 273.728 M755.224 272.478 Q755.178 268.983 753.256 266.899 Q751.358 264.816 748.21 264.816 Q744.645 264.816 742.492 266.83 Q740.363 268.844 740.039 272.501 L755.224 272.478 Z\" fill=\"#000000\" fill-rule=\"evenodd\" fill-opacity=\"1\" /></svg>\n"
      ]
     },
     "execution_count": 73,
     "metadata": {},
     "output_type": "execute_result"
    }
   ],
   "source": [
    "#U çok küçükken (Band-Gap büyüdüğünde) subspace enerjileri, real-space enerjilerine yakınsar:\n",
    "\n",
    "using Plots\n",
    "\n",
    "MB_Hamiltonian = Kagome_Finite_U(Nx,Ny,Basis_MB,U,sp_op)\n",
    "real_space_finite_u = eigenenergies(dense(MB_Hamiltonian)); sub_space_finite_u = E_States[1]\n",
    "plot(1:length(real_space_finite_u[1:21]),real_space_finite_u,seriestype=:scatter,markershape=:star5,markersize=7,label=\"Real-Space\")\n",
    "plot!(1:length(sub_space_finite_u),sub_space_finite_u,seriestype=:scatter,label=\"Sub-Space\",legend=:topleft)\n",
    "title!(\"U=$(U)\");xlabel!(\"n\");ylabel!(\"E\")"
   ]
  }
 ],
 "metadata": {
  "kernelspec": {
   "display_name": "Julia 1.7.2",
   "language": "julia",
   "name": "julia-1.7"
  },
  "language_info": {
   "file_extension": ".jl",
   "mimetype": "application/julia",
   "name": "julia",
   "version": "1.7.2"
  }
 },
 "nbformat": 4,
 "nbformat_minor": 5
}
