{
 "cells": [
  {
   "cell_type": "markdown",
   "id": "43a8a09c-c94f-4a83-a7a8-186dac41f374",
   "metadata": {},
   "source": [
    "# Including Single Particle and First Band Approximation Functions"
   ]
  },
  {
   "cell_type": "code",
   "execution_count": 2,
   "id": "9d65a56d",
   "metadata": {
    "tags": []
   },
   "outputs": [
    {
     "data": {
      "text/plain": [
       "get_num_mb_op"
      ]
     },
     "execution_count": 2,
     "metadata": {},
     "output_type": "execute_result"
    }
   ],
   "source": [
    "using NBInclude\n",
    "@nbinclude(\"Kagome SP.ipynb\")\n",
    "@nbinclude(joinpath(\"..\",\"First Band Approximation Functions.ipynb\"))"
   ]
  },
  {
   "cell_type": "markdown",
   "id": "c6020ed2-de66-4802-9e9b-d367d3a330d6",
   "metadata": {},
   "source": [
    "# Initial Parameters"
   ]
  },
  {
   "cell_type": "code",
   "execution_count": 3,
   "id": "72e09226",
   "metadata": {
    "tags": []
   },
   "outputs": [],
   "source": [
    "Nx = 5; Ny = 5; N=Nx*Ny*3; cut_off = 5;\n",
    "PN = [0,1,2];\n",
    "U = 2;\n",
    "t1 = -1; L1 = 0.28; t2 = 0.3; L2 = 0.2;\n",
    "# t1=-1;L1=0 ;t2=L2=0 # t1=L1=0;t2=L2=-1 # t1=t2=-1;L1=L2=0"
   ]
  },
  {
   "cell_type": "markdown",
   "id": "381c8d81-b332-47ff-92ff-0af9412e4397",
   "metadata": {},
   "source": [
    "# Single Particle"
   ]
  },
  {
   "cell_type": "code",
   "execution_count": 4,
   "id": "faf26652-5e48-4f33-8abe-67ef77bd6732",
   "metadata": {
    "tags": []
   },
   "outputs": [],
   "source": [
    "sp_basis = NLevelBasis(N)\n",
    "sp_matrix = get_SP_H(Nx, Ny, t1, L1, t2, L2);"
   ]
  },
  {
   "cell_type": "code",
   "execution_count": 5,
   "id": "63cd0f75-8cde-4635-a93f-b43c8bc7d70b",
   "metadata": {
    "tags": []
   },
   "outputs": [],
   "source": [
    "H1 = get_sp_op_data(sp_basis, N, sp_matrix);"
   ]
  },
  {
   "cell_type": "code",
   "execution_count": 6,
   "id": "54574062-6ad5-4ef0-bcb3-4c466fff5311",
   "metadata": {
    "tags": []
   },
   "outputs": [
    {
     "data": {
      "text/plain": [
       "true"
      ]
     },
     "execution_count": 6,
     "metadata": {},
     "output_type": "execute_result"
    }
   ],
   "source": [
    "#check operator form\n",
    "eigenenergies(dense(H1)) == eigenenergies(dense(sp_matrix))"
   ]
  },
  {
   "cell_type": "code",
   "execution_count": 7,
   "id": "33b796d2-62fe-44a0-a564-d306d96ed16a",
   "metadata": {
    "tags": []
   },
   "outputs": [],
   "source": [
    "sub_states = get_sub_states(H1, cut_off);"
   ]
  },
  {
   "cell_type": "code",
   "execution_count": 8,
   "id": "2337e8cd-5529-452a-947d-e63ca4e70ac7",
   "metadata": {
    "tags": []
   },
   "outputs": [],
   "source": [
    "basis_sub, P, Pt = get_projector_op(sub_states, sp_basis);"
   ]
  },
  {
   "cell_type": "code",
   "execution_count": 9,
   "id": "39a357f9-9187-469d-8b85-8097ad10bb88",
   "metadata": {
    "tags": []
   },
   "outputs": [],
   "source": [
    "H1_sub = get_subspace_op(H1, P, Pt);"
   ]
  },
  {
   "cell_type": "code",
   "execution_count": 10,
   "id": "bded3836-72b5-480c-bca9-89df317da2b2",
   "metadata": {
    "tags": []
   },
   "outputs": [],
   "source": [
    "num_sub_list = get_num_sub_list(N, sp_basis, P, Pt);"
   ]
  },
  {
   "cell_type": "markdown",
   "id": "e609afed-ca8a-4788-8778-a72ebf65355a",
   "metadata": {},
   "source": [
    "# Many Body"
   ]
  },
  {
   "cell_type": "code",
   "execution_count": 11,
   "id": "c78ac145",
   "metadata": {
    "tags": []
   },
   "outputs": [],
   "source": [
    "states_mb = bosonstates(basis_sub, PN) \n",
    "basis_mb = ManyBodyBasis(basis_sub, states_mb);"
   ]
  },
  {
   "cell_type": "code",
   "execution_count": 12,
   "id": "e9a37f7f",
   "metadata": {
    "tags": []
   },
   "outputs": [],
   "source": [
    "H1_MB = get_mb_op(basis_mb, basis_sub, H1_sub);"
   ]
  },
  {
   "cell_type": "code",
   "execution_count": 13,
   "id": "cccfa7c5-2169-43d5-a03d-769599c4687d",
   "metadata": {
    "tags": []
   },
   "outputs": [],
   "source": [
    "@nbinclude(\"Kagome MB .ipynb\"; regex=r\"#.*executeme\");"
   ]
  },
  {
   "cell_type": "code",
   "execution_count": 14,
   "id": "09c52b02-0c1e-4076-b269-4197d096cc06",
   "metadata": {
    "tags": []
   },
   "outputs": [],
   "source": [
    "basis_cut_mb, basis_cut_sp = get_Bosonic_MB_Basis(cut_off,PN)\n",
    "H_Int = Hubbard_Interaction(basis_cut_sp, basis_cut_mb, P, Pt, cut_off);"
   ]
  },
  {
   "cell_type": "markdown",
   "id": "e2cba6ab-1f53-4f0c-b123-7350967e8702",
   "metadata": {},
   "source": [
    "# Constructing Total Hamiltonian"
   ]
  },
  {
   "cell_type": "code",
   "execution_count": 70,
   "id": "f62bf8ee-c781-4657-a95e-7d5c574681e2",
   "metadata": {
    "tags": []
   },
   "outputs": [],
   "source": [
    "H1cut = SparseOperator(basis_cut_mb)\n",
    "H1cut.data = H1_MB.data\n",
    "\n",
    "number_mb_list_operators = get_num_mb_op(N, basis_cut_sp, num_sub_list, basis_cut_mb, basis_sub)\n",
    "\n",
    "V = 4;V_imp_site=10\n",
    "V_imp = V * number_mb_list_operators[V_imp_site];\n",
    "H_total = H1cut + H_Int + V_imp;"
   ]
  },
  {
   "cell_type": "markdown",
   "id": "e43b2405-aa40-4198-8d1b-a19a602a705f",
   "metadata": {},
   "source": [
    "# Exact Diagonalization"
   ]
  },
  {
   "cell_type": "code",
   "execution_count": 71,
   "id": "dcd68fec-34ab-4dad-9f6a-2a7e35283a29",
   "metadata": {
    "tags": []
   },
   "outputs": [
    {
     "data": {
      "text/plain": [
       "get_energies (generic function with 1 method)"
      ]
     },
     "execution_count": 71,
     "metadata": {},
     "output_type": "execute_result"
    }
   ],
   "source": [
    "using DataFrames\n",
    "\n",
    "E, UU = eigenstates(dense(dense((H_total+dagger(H_total))/2)))\n",
    "\n",
    "function get_energies(pn, E, UU, basis)\n",
    "    PN_Energies = Array{Float64}(undef, length(E), 2)\n",
    "    for i in 1:length(E)\n",
    "        PN_Energies[i] = round(expect(number(basis), UU[i])) #expected values (first column)\n",
    "        PN_Energies[i,2] = E[i] #eigen-values (second column)\n",
    "    end\n",
    "    \n",
    "    # filter\n",
    "    df = DataFrame(PN_Energies, :auto)\n",
    "    df = filter(row -> (row.x1 == pn),  df)\n",
    "    \n",
    "    return df\n",
    "end"
   ]
  },
  {
   "cell_type": "code",
   "execution_count": 72,
   "id": "939551eb-6b62-4c52-8bb3-4184c7afb59a",
   "metadata": {
    "tags": []
   },
   "outputs": [
    {
     "name": "stdout",
     "output_type": "stream",
     "text": [
      "15-element Vector{Float64}:\n",
      " -5.564139907528857\n",
      " -5.524054213929802\n",
      " -5.520793892606464\n",
      " -5.51869157795927\n",
      " -5.515221205759301\n",
      " -5.505853345298276\n",
      " -5.504237679834005\n",
      " -5.501468409532167\n",
      " -5.497498899770877\n",
      " -5.476089282490228\n",
      " -5.199485646644139\n",
      " -5.184948665684033\n",
      " -5.177562944015835\n",
      " -5.17102475569663\n",
      " -4.834682876414361"
     ]
    }
   ],
   "source": [
    "pn = 2.0\n",
    "df = get_energies(pn, E, UU, basis_cut_mb)\n",
    "filtered_energies = Matrix(df)[:,2]\n",
    "show(stdout,\"text/plain\", filtered_energies) #show all outputs"
   ]
  },
  {
   "cell_type": "markdown",
   "id": "b617174b-d343-44ae-80a8-73d0f418107d",
   "metadata": {},
   "source": [
    "Allta ki fonksiyonun çalışması için, dizide ki filtre edilmiş parçacık sayısı her zaman en büyük değer de olmalıdır.\n",
    "Örneğin, `PN=[0,1,2,3,4]` iken filtre edilen parçacık sayısı `pn=4` olmalıdır!"
   ]
  },
  {
   "cell_type": "code",
   "execution_count": 73,
   "id": "3a3aad18-846f-4736-801e-0295a8da3207",
   "metadata": {
    "tags": []
   },
   "outputs": [
    {
     "data": {
      "text/plain": [
       "Restricted_Hubbard_States (generic function with 1 method)"
      ]
     },
     "execution_count": 73,
     "metadata": {},
     "output_type": "execute_result"
    }
   ],
   "source": [
    "function Restricted_Hubbard_States(states)\n",
    "    number_of_states = length(filtered_energies)\n",
    "    return states[1:number_of_states];\n",
    "end"
   ]
  },
  {
   "cell_type": "code",
   "execution_count": 74,
   "id": "b70dc2db-bf97-48a8-a4b7-1f8800da087d",
   "metadata": {
    "tags": []
   },
   "outputs": [],
   "source": [
    "r_hubbard_states = Restricted_Hubbard_States(UU);"
   ]
  },
  {
   "cell_type": "markdown",
   "id": "9000cb20-fc3f-4c65-9826-0479992a1fd5",
   "metadata": {
    "tags": []
   },
   "source": [
    "# Density-Profile"
   ]
  },
  {
   "cell_type": "code",
   "execution_count": 75,
   "id": "f0878930-2335-4f68-bec0-979b9e6b8c35",
   "metadata": {
    "tags": []
   },
   "outputs": [
    {
     "data": {
      "text/plain": [
       "0.021893961199270694 + 3.8624702394796095e-19im"
      ]
     },
     "execution_count": 75,
     "metadata": {},
     "output_type": "execute_result"
    }
   ],
   "source": [
    "# METHOD 1\n",
    "\n",
    "NM_MB_Array_Storage = zeros(Complex{Float64},length(basis_cut_mb),length(basis_cut_mb),N);\n",
    "NM_MB_Matrix = zeros(Complex{Float64},length(basis_cut_mb),length(basis_cut_mb));\n",
    "for m in 1:N\n",
    "    for i in 1:length(basis_cut_mb)\n",
    "        for j in 1:length(basis_cut_mb)\n",
    "            #NM_MB_Matrix[i,j] = num_mb_list[m].data[i,j]\n",
    "            NM_MB_Matrix[i,j] = number_mb_list_operators[m].data[i,j]\n",
    "            # NOT: num_mb_list ile number_mb_list_operators bazları farklı ama içerikleri aynı!\n",
    "        end\n",
    "    end\n",
    "    NM_MB_Array_Storage[:,:,m] = NM_MB_Matrix\n",
    "end\n",
    "\n",
    "BL = BR = basis_cut_mb\n",
    "index_number_op = 5\n",
    "T = NM_MB_Array_Storage[:,:,index_number_op]\n",
    "Op = Operator(BL,BR,T)\n",
    "index_eigen_states = 1\n",
    "expect(Op, r_hubbard_states[index_eigen_states])\n",
    "\n",
    "# METHOD 2\n",
    "# expect(number_mb_list_operators[index_number_op],r_hubbard_states[index_eigen_states])"
   ]
  },
  {
   "cell_type": "code",
   "execution_count": 76,
   "id": "7dcb4da7-bab6-4de5-a71b-dd81431d8106",
   "metadata": {
    "tags": []
   },
   "outputs": [],
   "source": [
    "Sum = 0\n",
    "total_expect_list=[]\n",
    "\n",
    "for i in 1:N\n",
    "    T = NM_MB_Array_Storage[:,:,i]\n",
    "    Op = Operator(BL,BR,T)\n",
    "    n_i = 0\n",
    "    for index_eig_states in 1:length(filtered_energies)       \n",
    "        Sum += expect(Op, r_hubbard_states[index_eig_states])\n",
    "        #println(i,\"\\t\",expect(Op, r_hubbard_states[index_eig_states]))\n",
    "        n_i += expect(Op, r_hubbard_states[index_eig_states])\n",
    "    end\n",
    "    push!(total_expect_list,n_i)\n",
    "end"
   ]
  },
  {
   "cell_type": "code",
   "execution_count": 77,
   "id": "3879509b-d8b4-48f6-a8f6-47b55771d5a8",
   "metadata": {
    "tags": []
   },
   "outputs": [
    {
     "data": {
      "text/plain": [
       "1.9999999999999991 + 5.07483908479653e-18im"
      ]
     },
     "execution_count": 77,
     "metadata": {},
     "output_type": "execute_result"
    }
   ],
   "source": [
    "index_eig_states = 1\n",
    "Sum = 0\n",
    "expect_list=[]\n",
    "\n",
    "for i in 1:N\n",
    "    T = NM_MB_Array_Storage[:,:,i]\n",
    "    Op = Operator(BL,BR,T)      \n",
    "    Sum += expect(Op, r_hubbard_states[index_eig_states])\n",
    "    #println(i,\"\\t\",expect(Op, r_hubbard_states[index_eig_states]))\n",
    "    push!(expect_list,expect(Op, r_hubbard_states[index_eig_states]))\n",
    "end\n",
    "Sum"
   ]
  },
  {
   "cell_type": "code",
   "execution_count": 78,
   "id": "d03d4b54-7e76-45ea-941e-9697f43043d3",
   "metadata": {
    "tags": []
   },
   "outputs": [
    {
     "data": {
      "text/plain": [
       "75-element Vector{Float64}:\n",
       " 0.032335135399728286\n",
       " 0.027990807852828644\n",
       " 0.02826247571240156\n",
       " 0.032935430022932796\n",
       " 0.021893961199270694\n",
       " 0.043813059089678086\n",
       " 0.03633846265437041\n",
       " 0.042467428165629616\n",
       " 0.0151956626298603\n",
       " 0.000585258079395527\n",
       " 0.015639928478228187\n",
       " 0.01394232514228701\n",
       " 0.03607716414548214\n",
       " ⋮\n",
       " 0.028134760339955732\n",
       " 0.028027704323732357\n",
       " 0.011037412758724477\n",
       " 0.008490232372924499\n",
       " 0.022299282299522716\n",
       " 0.019633440308118134\n",
       " 0.04369465167858269\n",
       " 0.017472368682704797\n",
       " 0.058958878807536884\n",
       " 0.049312380711515336\n",
       " 0.048232817456938484\n",
       " 0.026106979435380942"
      ]
     },
     "execution_count": 78,
     "metadata": {},
     "output_type": "execute_result"
    }
   ],
   "source": [
    "real(expect_list)"
   ]
  },
  {
   "cell_type": "markdown",
   "id": "3896cecc-4f38-4f98-89f1-317e685d871e",
   "metadata": {},
   "source": [
    "---------------"
   ]
  },
  {
   "cell_type": "code",
   "execution_count": 79,
   "id": "b29552d4-5ab9-410e-8203-0ca1c444059b",
   "metadata": {
    "tags": []
   },
   "outputs": [],
   "source": [
    "# num_sub_list = get_num_sub_list(sp_basis,P,Pt);"
   ]
  },
  {
   "cell_type": "code",
   "execution_count": 80,
   "id": "20382845-dde4-4fbb-85e2-035c6b08baf5",
   "metadata": {
    "tags": []
   },
   "outputs": [],
   "source": [
    "# num_mb_list = get_num_mb_list(basis_mb, b_sub, num_sub_list);"
   ]
  },
  {
   "cell_type": "markdown",
   "id": "092b5256-466a-427e-8ce4-528144ed5278",
   "metadata": {},
   "source": [
    "## num_mb_list[i] & number(bcut_mb,i)"
   ]
  },
  {
   "cell_type": "code",
   "execution_count": 81,
   "id": "2dea7292-5d22-47c0-9c54-07f12ed6fa58",
   "metadata": {
    "tags": []
   },
   "outputs": [],
   "source": [
    "# num_mb_list[7] #sub space'e project edilmiş number operator!\n",
    "# number(bcut_mb,7); #sub space'e project edilmemiş number operator!"
   ]
  },
  {
   "cell_type": "markdown",
   "id": "2269caca-2d8b-47ca-b94c-17cc6fe769a7",
   "metadata": {},
   "source": [
    "## Error (IT DOESN'T WORK?)"
   ]
  },
  {
   "cell_type": "code",
   "execution_count": 82,
   "id": "f83838bd-a43c-4a6c-b983-abb684661e89",
   "metadata": {
    "tags": []
   },
   "outputs": [],
   "source": [
    "# typeof(dense(num_mb_list[1]))"
   ]
  },
  {
   "cell_type": "code",
   "execution_count": 83,
   "id": "80b351a4-1b94-4ac3-bc19-4eccbe036073",
   "metadata": {
    "tags": []
   },
   "outputs": [],
   "source": [
    "# typeof(S[1])"
   ]
  },
  {
   "cell_type": "code",
   "execution_count": 84,
   "id": "f40f1ab3-a1a5-44a5-bd3b-ea70ac2b483c",
   "metadata": {
    "tags": []
   },
   "outputs": [],
   "source": [
    "# expect(num_mb_list[1],S[1])"
   ]
  },
  {
   "cell_type": "code",
   "execution_count": 85,
   "id": "062371dd-75cd-493c-be34-1cfa29355cf6",
   "metadata": {
    "tags": []
   },
   "outputs": [
    {
     "data": {
      "text/plain": [
       "(0.0, 0.0, 0.032335135399728286)"
      ]
     },
     "execution_count": 85,
     "metadata": {},
     "output_type": "execute_result"
    }
   ],
   "source": [
    "# Find x and y coordinates from given site index\n",
    "\n",
    "function exp_list0(site_indx)\n",
    "    \n",
    "    x_co = OffsetArray(get_sites(Nx, Ny, a1_vec, a2_vec, Basis)[4], 1:Nx*Ny*3)\n",
    "    y_co = OffsetArray(get_sites(Nx, Ny, a1_vec, a2_vec, Basis)[5], 1:Nx*Ny*3)\n",
    "    \n",
    "    x = hcat(x_co, y_co)[site_indx, 1]\n",
    "    y = hcat(x_co, y_co)[site_indx, 2] \n",
    "    exp_val = real(expect_list)[site_indx] \n",
    "    \n",
    "    return x, y, exp_val\n",
    "end\n",
    "exp_list0(1)"
   ]
  },
  {
   "cell_type": "code",
   "execution_count": 86,
   "id": "1f34e534-9bdd-4d5b-a866-d0e4e10e69e1",
   "metadata": {
    "tags": []
   },
   "outputs": [
    {
     "name": "stdout",
     "output_type": "stream",
     "text": [
      "2 => 1.0\t0.0 => [0.027990807852828644]"
     ]
    }
   ],
   "source": [
    "# Find site_index from given x and y coordinates\n",
    "\n",
    "function exp_list1(Xx, Yy)\n",
    "    co_list = hcat(x_co, y_co)\n",
    "    site_indx = intersect(findall(x->x==Xx, co_list[:,1]), findall(x->x==Yy, co_list[:,2]))\n",
    "    return real(expect_list)[site_indx] \n",
    "end\n",
    "\n",
    "x_co = OffsetArray(get_sites(Nx, Ny, a1_vec, a2_vec, Basis)[4], 1:Nx*Ny*3)\n",
    "y_co = OffsetArray(get_sites(Nx, Ny, a1_vec, a2_vec, Basis)[5], 1:Nx*Ny*3)\n",
    "site_index = 2\n",
    "Xx = x_co[site_index]\n",
    "Yy = y_co[site_index]\n",
    "print(site_index,\" => \",Xx,\"\\t\",Yy,\" => \",exp_list1(Xx, Yy))"
   ]
  },
  {
   "cell_type": "code",
   "execution_count": 88,
   "id": "5fb9309f-e3ac-4095-bf76-24fb14228666",
   "metadata": {
    "tags": []
   },
   "outputs": [
    {
     "data": {
      "text/plain": [
       "\"C:\\\\Users\\\\Can\\\\Downloads\\\\GITHUB FOLDER\\\\Kagome-Lattice\\\\My Numerical Calculations\\\\Many-Body\\\\Kagome\\\\V_imp_site=10.png\""
      ]
     },
     "execution_count": 88,
     "metadata": {},
     "output_type": "execute_result"
    }
   ],
   "source": [
    "x = Float64[]\n",
    "for i in x_co\n",
    "    push!(x,i)\n",
    "end\n",
    "y = Float64[]\n",
    "for i in y_co\n",
    "    push!(y,i)\n",
    "end\n",
    "z = exp_list1.(x, y)\n",
    "z = collect(Iterators.flatten(z))\n",
    "surface(x,y,z,xlabel=\"x\",ylabel=\"y\", camera=(0,90))\n",
    "title!(\"t1=$(t1),L1=$(L1),t2=$(t2),L2=$(L2) \\n Nx=$(Nx), Ny=$(Ny), N=$(N), Cut-off=$(cut_off) \\n PN=$(pn), U=$(U), V_imp=$(V) \\n V_imp_site=$(V_imp_site)\")\n",
    "scatter!(x,y,0 .* z,camera=(0,90), legend=false)\n",
    "savefig(\"V_imp_site=10.png\") # Plot and then save it!"
   ]
  },
  {
   "cell_type": "markdown",
   "id": "7f50a820-2f7f-4c30-bbde-3853f853f20e",
   "metadata": {
    "tags": []
   },
   "source": [
    "# Comparansion"
   ]
  },
  {
   "cell_type": "code",
   "execution_count": null,
   "id": "8ac828dd",
   "metadata": {
    "tags": []
   },
   "outputs": [],
   "source": [
    "#U çok küçükken (Band-Gap büyüdüğünde) subspace enerjileri, real-space enerjilerine yakınsar:\n",
    "\n",
    "MB_Hamiltonian = Kagome_Finite_U(Nx,Ny,Basis_MB,U,sp_op)\n",
    "real_space_finite_u = eigenenergies(dense(MB_Hamiltonian)); sub_space_finite_u = E_States[1]\n",
    "plot(1:length(real_space_finite_u[1:21]),real_space_finite_u,seriestype=:scatter,markershape=:star5,markersize=7,label=\"Real-Space\")\n",
    "plot!(1:length(sub_space_finite_u),sub_space_finite_u,seriestype=:scatter,label=\"Sub-Space\",legend=:topleft)\n",
    "title!(\"U=$(U)\");xlabel!(\"n\");ylabel!(\"E\")"
   ]
  }
 ],
 "metadata": {
  "@webio": {
   "lastCommId": "b9d8dbcd-fa3b-49d3-9a35-b96732b18c0d",
   "lastKernelId": "4069e10b-ce73-49af-b344-a0570c04a90b"
  },
  "kernelspec": {
   "display_name": "Julia 1.8.1",
   "language": "julia",
   "name": "julia-1.8"
  },
  "language_info": {
   "file_extension": ".jl",
   "mimetype": "application/julia",
   "name": "julia",
   "version": "1.8.1"
  }
 },
 "nbformat": 4,
 "nbformat_minor": 5
}
