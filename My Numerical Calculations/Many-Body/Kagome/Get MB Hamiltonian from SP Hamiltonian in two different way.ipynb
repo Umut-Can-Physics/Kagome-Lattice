{
 "cells": [
  {
   "cell_type": "code",
   "execution_count": 1,
   "id": "80b70ecc",
   "metadata": {},
   "outputs": [],
   "source": [
    "using PyCall,QuantumOptics,LinearAlgebra,SparseArrays"
   ]
  },
  {
   "cell_type": "code",
   "execution_count": 2,
   "id": "1211f97c",
   "metadata": {},
   "outputs": [],
   "source": [
    "py\"\"\"\n",
    "\n",
    "import matplotlib.pyplot as plt\n",
    "import numpy as np\n",
    "sqrt = np.sqrt\n",
    "a1_vec = np.array([2,0]);a2_vec = np.array([1,sqrt(3)])\n",
    "l1 = 3;l2 = 2;L = l1*l2;N = 3*L \n",
    "b1=np.array([0,0]);b2=a1_vec/2;b3=a2_vec/2\n",
    "Basis = [b1,b2,b3]\n",
    "basis_colors=['red','blue','green']\n",
    "coordinates = [];sites = [];atom_dict={}\n",
    "for i1 in range(l1):\n",
    "    for i2 in range(l2):\n",
    "        Lp = a1_vec * i1 + a2_vec * i2\n",
    "        center = a1_vec * i1 + a2_vec * i2 + b1\n",
    "        shift = (-b2-b3)/sqrt(3)/2\n",
    "        P1=np.array([center+shift,center+a1_vec+shift,center+a2_vec+shift])\n",
    "        for ib, b in enumerate(Basis):\n",
    "            atom_vec = Lp + b\n",
    "            atom_no = 3 * i1 * l2 + 3 * i2 + ib\n",
    "            site = [i1,i2,ib]\n",
    "            sites.append(site)\n",
    "            coordinates.append(atom_vec)\n",
    "            atom_dict[tuple(site)]=atom_vec\n",
    "NN = [[(0,0,1), (0,0,2), (-1,0,1),(0,-1,2),   (-1,0,2), (-1,1,1), (0,-1,1),(1,-1,2)], \n",
    "      [(0,0,-1),(0,0,1), (1,0,-1),(1,-1,1),   (0,-1,1), (1,-1,-1),(0,1,-1),(1,0,1)], \n",
    "      [(0,0,-1),(0,0,-2),(0,1,-2),(-1,1,-1),  (-1,1,-2),(-1,0,-1),(0,1,-1),(1,0,-2)]\n",
    "      ]\n",
    "# t1=L1=-1;t2=L2=0\n",
    "# t1=L1=0;t2=L2=-1\n",
    "t1 = -1;L1 = 0.28;t2 = 0.3;L2 = 0.2\n",
    "# t1=t2=-1;L1=L2=0\n",
    "hopps = [[t1+1j*L1,t1-1j*L1,t1+1j*L1,t1-1j*L1,  t2+1j*L2,t2-1j*L2,t2-1j*L2,t2+1j*L2], \n",
    "         [t1-1j*L1,t1+1j*L1,t1-1j*L1,t1+1j*L1,  t2-1j*L2,t2+1j*L2,t2+1j*L2,t2-1j*L2], \n",
    "         [t1-1j*L1,t1+1j*L1,t1+1j*L1,t1-1j*L1,  t2-1j*L2,t2+1j*L2,t2+1j*L2,t2-1j*L2]] \n",
    "H = np.zeros([N,N],dtype=complex)\n",
    "for atom_no in range(N):\n",
    "    atom_site=sites[atom_no]\n",
    "    for i_delta, delta in enumerate(NN[atom_site[2]]):\n",
    "        neighbor_site = np.array(atom_site)+np.array(delta)\n",
    "        neighbor_site[0] = neighbor_site[0]%l1\n",
    "        neighbor_site[1] = neighbor_site[1]%l2    \n",
    "        neighbor_no=3*neighbor_site[0]*l2+3*neighbor_site[1]+neighbor_site[2]\n",
    "        H[neighbor_no,atom_no]=hopps[atom_site[2]][i_delta] \n",
    "\n",
    "\"\"\""
   ]
  },
  {
   "cell_type": "code",
   "execution_count": 3,
   "id": "b5dc2b6d",
   "metadata": {},
   "outputs": [
    {
     "name": "stdout",
     "output_type": "stream",
     "text": [
      "Parameters:\n",
      "Size of Lattice=3X2\n",
      "Number of Sites=18\n",
      "Hopping Amplitudes: t1=-1,L1=0.28,t2=0.3,L2=0.2\n"
     ]
    },
    {
     "data": {
      "text/plain": [
       "18-element Vector{Float64}:\n",
       " -2.7999999999999994\n",
       " -2.7715699522112027\n",
       " -2.7683070420017826\n",
       " -2.7683070420017812\n",
       " -2.757774380143503\n",
       " -2.7577743801434993\n",
       " -0.14029952547266727\n",
       " -0.14029952547266653\n",
       "  5.39137334129462e-16\n",
       "  0.3035219724976965\n",
       "  0.3035219724976971\n",
       "  1.1228718707889795\n",
       "  1.6771281292110203\n",
       "  2.454252407645805\n",
       "  2.4542524076458054\n",
       "  2.7715699522111983\n",
       "  2.9086065674744477\n",
       "  2.9086065674744486"
      ]
     },
     "execution_count": 3,
     "metadata": {},
     "output_type": "execute_result"
    }
   ],
   "source": [
    "Nx = py\"l1\";Ny = py\"l2\";N = py\"N\";t1 = py\"t1\";L1 = py\"L1\";t2 = py\"t2\";L2 = py\"L2\"\n",
    "println(\"Parameters:\")\n",
    "println(\"Size of Lattice=\",Nx,\"X\",Ny)\n",
    "println(\"Number of Sites=\",N)\n",
    "println(\"Hopping Amplitudes: t1=\",t1,\",L1=\",L1,\",t2=\",t2,\",L2=\",L2)\n",
    "H = PyArray(py\"H\"o)\n",
    "eigvals(H)"
   ]
  },
  {
   "cell_type": "code",
   "execution_count": 26,
   "id": "6cadb6af",
   "metadata": {},
   "outputs": [
    {
     "data": {
      "text/plain": [
       "NLevel(N=18)"
      ]
     },
     "execution_count": 26,
     "metadata": {},
     "output_type": "execute_result"
    }
   ],
   "source": [
    "NBasis = NLevelBasis(N)"
   ]
  },
  {
   "cell_type": "code",
   "execution_count": 27,
   "id": "3ca29005",
   "metadata": {},
   "outputs": [
    {
     "data": {
      "text/plain": [
       "18-element Vector{Float64}:\n",
       " -2.7999999999999994\n",
       " -2.7715699522112027\n",
       " -2.7683070420017826\n",
       " -2.7683070420017812\n",
       " -2.757774380143503\n",
       " -2.7577743801434993\n",
       " -0.14029952547266727\n",
       " -0.14029952547266653\n",
       "  5.39137334129462e-16\n",
       "  0.3035219724976965\n",
       "  0.3035219724976971\n",
       "  1.1228718707889795\n",
       "  1.6771281292110203\n",
       "  2.454252407645805\n",
       "  2.4542524076458054\n",
       "  2.7715699522111983\n",
       "  2.9086065674744477\n",
       "  2.9086065674744486"
      ]
     },
     "execution_count": 27,
     "metadata": {},
     "output_type": "execute_result"
    }
   ],
   "source": [
    "# SINGLE PARTICLE\n",
    "Hamiltonian_sp = SparseOperator(NBasis)\n",
    "for m in 1:N\n",
    "    for n in 1:N\n",
    "        Hamiltonian_sp = Hamiltonian_sp + H[m,n] * transition(NBasis, m, n)\n",
    "    end\n",
    "end\n",
    "eigenenergies(dense(Hamiltonian_sp))"
   ]
  },
  {
   "cell_type": "markdown",
   "id": "ec533a20",
   "metadata": {},
   "source": [
    "eigvals(H) == EigenValues (TRUE!)"
   ]
  },
  {
   "cell_type": "code",
   "execution_count": 28,
   "id": "d73af95f",
   "metadata": {},
   "outputs": [
    {
     "data": {
      "text/plain": [
       "816-element Vector{Float64}:\n",
       " -8.3335461745941\n",
       " -8.291149615862603\n",
       " -7.877884327968178\n",
       " -7.8668045728385545\n",
       " -7.8668045728385465\n",
       " -7.829008803294748\n",
       " -7.829008803294729\n",
       " -7.792323219199143\n",
       " -7.772350158439619\n",
       " -7.772350158439603\n",
       " -7.7347264299447485\n",
       " -7.7347264299447405\n",
       " -7.681000002245724\n",
       "  ⋮\n",
       "  7.25444851520318\n",
       "  7.417740150599752\n",
       "  7.428348536102649\n",
       "  7.42913928936015\n",
       "  7.4524893812754245\n",
       "  7.452489381275436\n",
       "  7.466343698512413\n",
       "  7.466343698512444\n",
       "  7.659056683403624\n",
       "  7.659056683403707\n",
       "  7.757586114015492\n",
       "  8.19791978214602"
      ]
     },
     "execution_count": 28,
     "metadata": {},
     "output_type": "execute_result"
    }
   ],
   "source": [
    "# MANY-BODY #1\n",
    "PN=3\n",
    "States_mb = fermionstates(NBasis, [PN]) \n",
    "Basis_mb = ManyBodyBasis(NBasis, States_mb)\n",
    "Hamiltonian_mb = SparseOperator(Basis_mb) \n",
    "for m in 1:N\n",
    "    for n in 1:N\n",
    "        Hamiltonian_mb = Hamiltonian_mb + H[m,n] * transition(Basis_mb, m, n)\n",
    "    end\n",
    "end\n",
    "eigenenergies(dense(Hamiltonian_mb))    "
   ]
  },
  {
   "cell_type": "code",
   "execution_count": 25,
   "id": "a308319a",
   "metadata": {},
   "outputs": [
    {
     "data": {
      "text/plain": [
       "816-element Vector{Float64}:\n",
       " -8.3335461745941\n",
       " -8.291149615862603\n",
       " -7.877884327968178\n",
       " -7.8668045728385545\n",
       " -7.8668045728385465\n",
       " -7.829008803294748\n",
       " -7.829008803294729\n",
       " -7.792323219199143\n",
       " -7.772350158439619\n",
       " -7.772350158439603\n",
       " -7.7347264299447485\n",
       " -7.7347264299447405\n",
       " -7.681000002245724\n",
       "  ⋮\n",
       "  7.25444851520318\n",
       "  7.417740150599752\n",
       "  7.428348536102649\n",
       "  7.42913928936015\n",
       "  7.4524893812754245\n",
       "  7.452489381275436\n",
       "  7.466343698512413\n",
       "  7.466343698512444\n",
       "  7.659056683403624\n",
       "  7.659056683403707\n",
       "  7.757586114015492\n",
       "  8.19791978214602"
      ]
     },
     "execution_count": 25,
     "metadata": {},
     "output_type": "execute_result"
    }
   ],
   "source": [
    "# MANY-BODY #2\n",
    "H_mb = manybodyoperator(Basis_mb, Hamiltonian_sp)\n",
    "eigenenergies(dense(H_mb))    "
   ]
  },
  {
   "cell_type": "markdown",
   "id": "8b48f8d6",
   "metadata": {},
   "source": [
    "CONCLUSION: #1 Metod faster than #2 method"
   ]
  }
 ],
 "metadata": {
  "kernelspec": {
   "display_name": "Julia 1.9.3",
   "language": "julia",
   "name": "julia-1.9"
  },
  "language_info": {
   "file_extension": ".jl",
   "mimetype": "application/julia",
   "name": "julia",
   "version": "1.9.3"
  }
 },
 "nbformat": 4,
 "nbformat_minor": 5
}
