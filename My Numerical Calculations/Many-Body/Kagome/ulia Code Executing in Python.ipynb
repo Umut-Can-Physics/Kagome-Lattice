{
 "cells": [
  {
   "cell_type": "markdown",
   "id": "0cf2cb26-2db6-4968-aa51-cf9d1e08115d",
   "metadata": {},
   "source": [
    "# Julia Code Executing in Python"
   ]
  },
  {
   "cell_type": "code",
   "execution_count": 1,
   "id": "a8657331-344a-4aaa-9b83-4722b6453b3f",
   "metadata": {
    "tags": []
   },
   "outputs": [],
   "source": [
    "from julia import Base"
   ]
  },
  {
   "cell_type": "code",
   "execution_count": 2,
   "id": "19511b51-7caa-48c8-b3b0-78844c4fb910",
   "metadata": {
    "tags": []
   },
   "outputs": [
    {
     "data": {
      "text/plain": [
       "1.0"
      ]
     },
     "execution_count": 2,
     "metadata": {},
     "output_type": "execute_result"
    }
   ],
   "source": [
    "Base.sind(90)"
   ]
  },
  {
   "cell_type": "code",
   "execution_count": 3,
   "id": "97d190c6-899c-43fa-8732-06148edac578",
   "metadata": {
    "tags": []
   },
   "outputs": [],
   "source": [
    "from julia import Main"
   ]
  },
  {
   "cell_type": "code",
   "execution_count": 4,
   "id": "505e0597-3fca-49b3-b175-d3bbaf843330",
   "metadata": {
    "tags": []
   },
   "outputs": [],
   "source": [
    "Main.xs = [1, 2, 3]"
   ]
  },
  {
   "cell_type": "code",
   "execution_count": 5,
   "id": "577107c4-304e-4831-b54a-514a523f3f0c",
   "metadata": {
    "tags": []
   },
   "outputs": [
    {
     "data": {
      "text/plain": [
       "array([0.84147098, 0.90929743, 0.14112001])"
      ]
     },
     "execution_count": 5,
     "metadata": {},
     "output_type": "execute_result"
    }
   ],
   "source": [
    "Main.eval(\"sin.(xs)\")"
   ]
  },
  {
   "cell_type": "code",
   "execution_count": 6,
   "id": "439e3954-92c1-4ac5-9a70-8a634d733f32",
   "metadata": {
    "tags": []
   },
   "outputs": [
    {
     "name": "stdout",
     "output_type": "stream",
     "text": [
      "Initializing Julia interpreter. This may take some time...\n"
     ]
    }
   ],
   "source": [
    "%load_ext julia.magic"
   ]
  },
  {
   "cell_type": "code",
   "execution_count": 7,
   "id": "96fb0332-0bfe-492d-a30b-f96ec5e859e4",
   "metadata": {
    "tags": []
   },
   "outputs": [
    {
     "data": {
      "text/plain": [
       "array([[2, 3],\n",
       "       [4, 5]], dtype=int64)"
      ]
     },
     "execution_count": 7,
     "metadata": {},
     "output_type": "execute_result"
    }
   ],
   "source": [
    "%julia [1 2; 3 4] .+ 1"
   ]
  },
  {
   "cell_type": "code",
   "execution_count": 8,
   "id": "f992e98b-b2e6-40f7-b945-fba4f2a6ded0",
   "metadata": {
    "tags": []
   },
   "outputs": [],
   "source": [
    "import julia"
   ]
  },
  {
   "cell_type": "code",
   "execution_count": 9,
   "id": "1832ab86-fe53-4440-90e1-e6b117d0f43d",
   "metadata": {
    "tags": []
   },
   "outputs": [],
   "source": [
    "j = julia.Julia()"
   ]
  },
  {
   "cell_type": "code",
   "execution_count": 16,
   "id": "beaaf877-7819-44e6-82e2-2100045fb101",
   "metadata": {
    "tags": []
   },
   "outputs": [],
   "source": [
    "fn = j.include('Test.j')"
   ]
  },
  {
   "cell_type": "code",
   "execution_count": 17,
   "id": "ccbbeaa1-324f-40eb-9290-214d220a58f6",
   "metadata": {
    "tags": []
   },
   "outputs": [
    {
     "data": {
      "text/plain": [
       "<PyCall.jlwrap test_function>"
      ]
     },
     "execution_count": 17,
     "metadata": {},
     "output_type": "execute_result"
    }
   ],
   "source": [
    "fn"
   ]
  },
  {
   "cell_type": "code",
   "execution_count": 18,
   "id": "e9cd7052-fc01-4009-9d01-56556ad83455",
   "metadata": {
    "tags": []
   },
   "outputs": [
    {
     "data": {
      "text/plain": [
       "6"
      ]
     },
     "execution_count": 18,
     "metadata": {},
     "output_type": "execute_result"
    }
   ],
   "source": [
    "fn(3)"
   ]
  },
  {
   "cell_type": "code",
   "execution_count": null,
   "id": "9569af70-4ccd-41bb-9f94-5b913fc4df44",
   "metadata": {
    "tags": []
   },
   "outputs": [
    {
     "name": "stderr",
     "output_type": "stream",
     "text": [
      "C:\\Users\\Can\\AppData\\Roaming\\Python\\Python311\\site-packages\\julia\\core.py:709: FutureWarning: Accessing `Julia().<name>` to obtain Julia objects is deprecated.  Use `from julia import Main; Main.<name>` or `jl = Julia(); jl.eval('<name>')`.\n",
      "  warnings.warn(\n",
      "┌ Warning: Replacing docs for `SciMLOperators.AbstractSciMLOperator :: Union{}` in module `SciMLOperators`\n",
      "└ @ Base.Docs docs\\Docs.jl:240\n"
     ]
    }
   ],
   "source": [
    "fn2 = j.include(\"First Band Approximation.j\")"
   ]
  },
  {
   "cell_type": "code",
   "execution_count": null,
   "id": "c1ea853b-0c5c-43d0-8625-1db4a56fbf73",
   "metadata": {},
   "outputs": [],
   "source": []
  }
 ],
 "metadata": {
  "kernelspec": {
   "display_name": "Python 3 (ipykernel)",
   "language": "python",
   "name": "python3"
  },
  "language_info": {
   "codemirror_mode": {
    "name": "ipython",
    "version": 3
   },
   "file_extension": ".py",
   "mimetype": "text/x-python",
   "name": "python",
   "nbconvert_exporter": "python",
   "pygments_lexer": "ipython3",
   "version": "3.11.2"
  }
 },
 "nbformat": 4,
 "nbformat_minor": 5
}
