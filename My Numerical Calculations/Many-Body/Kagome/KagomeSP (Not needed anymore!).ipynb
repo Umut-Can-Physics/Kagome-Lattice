{
 "cells": [
  {
   "cell_type": "code",
   "execution_count": 4,
   "id": "5d7337dc",
   "metadata": {
    "tags": []
   },
   "outputs": [],
   "source": [
    "using PyCall"
   ]
  },
  {
   "cell_type": "code",
   "execution_count": 6,
   "id": "dc63644f",
   "metadata": {
    "tags": []
   },
   "outputs": [],
   "source": [
    "py\"\"\"\n",
    "\n",
    "import numpy as np\n",
    "sqrt = np.sqrt\n",
    "a1_vec = np.array([2,0]);a2_vec = np.array([1,sqrt(3)])\n",
    "\n",
    "l1 = 3\n",
    "l2 = 3\n",
    "\n",
    "L = l1*l2;N = 3*L \n",
    "b1=np.array([0,0]);b2=a1_vec/2;b3=a2_vec/2\n",
    "Basis = [b1,b2,b3]\n",
    "basis_colors=['red','blue','green']\n",
    "coordinates = [];sites = [];atom_dict={}\n",
    "for i1 in range(l1):\n",
    "    for i2 in range(l2):\n",
    "        Lp = a1_vec * i1 + a2_vec * i2\n",
    "        center = a1_vec * i1 + a2_vec * i2 + b1\n",
    "        shift = (-b2-b3)/sqrt(3)/2\n",
    "        P1=np.array([center+shift,center+a1_vec+shift,center+a2_vec+shift])\n",
    "        for ib, b in enumerate(Basis):\n",
    "            atom_vec = Lp + b\n",
    "            atom_no = 3 * i1 * l2 + 3 * i2 + ib\n",
    "            site = [i1,i2,ib]\n",
    "            sites.append(site)\n",
    "            coordinates.append(atom_vec)\n",
    "            atom_dict[tuple(site)]=atom_vec\n",
    "NN = [[(0,0,1), (0,0,2), (-1,0,1),(0,-1,2),   (-1,0,2), (-1,1,1), (0,-1,1),(1,-1,2)], \n",
    "      [(0,0,-1),(0,0,1), (1,0,-1),(1,-1,1),   (0,-1,1), (1,-1,-1),(0,1,-1),(1,0,1)], \n",
    "      [(0,0,-1),(0,0,-2),(0,1,-2),(-1,1,-1),  (-1,1,-2),(-1,0,-1),(0,1,-1),(1,0,-2)]\n",
    "      ]\n",
    "\n",
    "t1=-1;L1=t2=L2=0\n",
    "# t1=L1=0;t2=L2=-1\n",
    "# t1 = -1;L1 = 0.28;t2 = 0.3;L2 = 0.2\n",
    "# t1=t2=-1;L1=L2=0\n",
    "\n",
    "hopps = [[t1+1j*L1,t1-1j*L1,t1+1j*L1,t1-1j*L1,  t2+1j*L2,t2-1j*L2,t2-1j*L2,t2+1j*L2], # from A\n",
    "         [t1-1j*L1,t1+1j*L1,t1-1j*L1,t1+1j*L1,  t2-1j*L2,t2+1j*L2,t2+1j*L2,t2-1j*L2], # from B\n",
    "         [t1-1j*L1,t1+1j*L1,t1+1j*L1,t1-1j*L1,  t2-1j*L2,t2+1j*L2,t2+1j*L2,t2-1j*L2]] # from C\n",
    "\n",
    "H = np.zeros([N,N],dtype=complex)\n",
    "for atom_no in range(N):\n",
    "    atom_site=sites[atom_no]\n",
    "    for i_delta, delta in enumerate(NN[atom_site[2]]):\n",
    "        neighbor_site = np.array(atom_site)+np.array(delta)\n",
    "        neighbor_site[0] = neighbor_site[0]%l1\n",
    "        neighbor_site[1] = neighbor_site[1]%l2    \n",
    "        neighbor_no=3*neighbor_site[0]*l2+3*neighbor_site[1]+neighbor_site[2]\n",
    "        H[neighbor_no,atom_no]=hopps[atom_site[2]][i_delta] \n",
    "\n",
    "\"\"\""
   ]
  },
  {
   "cell_type": "code",
   "execution_count": 7,
   "id": "e2154a37",
   "metadata": {
    "tags": []
   },
   "outputs": [
    {
     "name": "stdout",
     "output_type": "stream",
     "text": [
      "Parameters:\n",
      "Number of Unit-Cells in Each Directions=3X3\n",
      "Number of Sites=27\n",
      "Hopping Amplitudes: t1=-1,L1=0,t2=0,L2=0\n"
     ]
    }
   ],
   "source": [
    "Nx = py\"l1\";Ny = py\"l2\";N = py\"N\";t1 = py\"t1\";L1 = py\"L1\";t2 = py\"t2\";L2 = py\"L2\"\n",
    "println(\"Parameters:\")\n",
    "println(\"Number of Unit-Cells in Each Directions=\",Nx,\"X\",Ny)\n",
    "println(\"Number of Sites=\",N)\n",
    "println(\"Hopping Amplitudes: t1=\",t1,\",L1=\",L1,\",t2=\",t2,\",L2=\",L2)"
   ]
  },
  {
   "cell_type": "code",
   "execution_count": 8,
   "id": "59705f7b",
   "metadata": {
    "tags": []
   },
   "outputs": [
    {
     "data": {
      "text/plain": [
       "27×27 PyArray{ComplexF64, 2}:\n",
       "  0.0+0.0im  -1.0+0.0im  -1.0+0.0im  …   0.0+0.0im   0.0+0.0im   0.0+0.0im\n",
       " -1.0+0.0im   0.0+0.0im  -1.0+0.0im      0.0+0.0im   0.0+0.0im   0.0+0.0im\n",
       " -1.0+0.0im  -1.0+0.0im   0.0+0.0im      0.0+0.0im   0.0+0.0im   0.0+0.0im\n",
       "  0.0+0.0im   0.0+0.0im  -1.0+0.0im      0.0+0.0im   0.0+0.0im   0.0+0.0im\n",
       "  0.0+0.0im   0.0+0.0im   0.0+0.0im      0.0+0.0im   0.0+0.0im   0.0+0.0im\n",
       "  0.0+0.0im   0.0+0.0im   0.0+0.0im  …   0.0+0.0im  -1.0+0.0im   0.0+0.0im\n",
       "  0.0+0.0im   0.0+0.0im   0.0+0.0im      0.0+0.0im  -1.0+0.0im   0.0+0.0im\n",
       "  0.0+0.0im   0.0+0.0im   0.0+0.0im      0.0+0.0im   0.0+0.0im   0.0+0.0im\n",
       " -1.0+0.0im   0.0+0.0im   0.0+0.0im      0.0+0.0im   0.0+0.0im   0.0+0.0im\n",
       "  0.0+0.0im  -1.0+0.0im   0.0+0.0im      0.0+0.0im   0.0+0.0im   0.0+0.0im\n",
       "  0.0+0.0im   0.0+0.0im   0.0+0.0im  …   0.0+0.0im   0.0+0.0im  -1.0+0.0im\n",
       "  0.0+0.0im   0.0+0.0im   0.0+0.0im      0.0+0.0im   0.0+0.0im   0.0+0.0im\n",
       "  0.0+0.0im   0.0+0.0im   0.0+0.0im      0.0+0.0im   0.0+0.0im   0.0+0.0im\n",
       "     ⋮                               ⋱                  ⋮       \n",
       "  0.0+0.0im   0.0+0.0im   0.0+0.0im  …   0.0+0.0im   0.0+0.0im   0.0+0.0im\n",
       "  0.0+0.0im   0.0+0.0im   0.0+0.0im     -1.0+0.0im   0.0+0.0im   0.0+0.0im\n",
       "  0.0+0.0im  -1.0+0.0im   0.0+0.0im      0.0+0.0im   0.0+0.0im   0.0+0.0im\n",
       "  0.0+0.0im   0.0+0.0im   0.0+0.0im      0.0+0.0im   0.0+0.0im  -1.0+0.0im\n",
       " -1.0+0.0im   0.0+0.0im   0.0+0.0im      0.0+0.0im   0.0+0.0im   0.0+0.0im\n",
       "  0.0+0.0im   0.0+0.0im   0.0+0.0im  …   0.0+0.0im   0.0+0.0im   0.0+0.0im\n",
       "  0.0+0.0im   0.0+0.0im   0.0+0.0im      0.0+0.0im   0.0+0.0im   0.0+0.0im\n",
       "  0.0+0.0im   0.0+0.0im  -1.0+0.0im      0.0+0.0im   0.0+0.0im   0.0+0.0im\n",
       "  0.0+0.0im   0.0+0.0im   0.0+0.0im     -1.0+0.0im   0.0+0.0im   0.0+0.0im\n",
       "  0.0+0.0im   0.0+0.0im   0.0+0.0im      0.0+0.0im  -1.0+0.0im  -1.0+0.0im\n",
       "  0.0+0.0im   0.0+0.0im   0.0+0.0im  …  -1.0+0.0im   0.0+0.0im  -1.0+0.0im\n",
       "  0.0+0.0im   0.0+0.0im   0.0+0.0im     -1.0+0.0im  -1.0+0.0im   0.0+0.0im"
      ]
     },
     "execution_count": 8,
     "metadata": {},
     "output_type": "execute_result"
    }
   ],
   "source": [
    "H = PyArray(py\"H\"o)"
   ]
  },
  {
   "cell_type": "code",
   "execution_count": 10,
   "id": "157af681-9e1a-4be3-a3c9-3dc06e2eccd3",
   "metadata": {
    "tags": []
   },
   "outputs": [
    {
     "data": {
      "text/plain": [
       "27-element Vector{Float64}:\n",
       " -4.0\n",
       " -2.7320508075688807\n",
       " -2.7320508075688803\n",
       " -2.7320508075688785\n",
       " -2.7320508075688754\n",
       " -2.732050807568875\n",
       " -2.732050807568874\n",
       " -1.0000000000000016\n",
       " -1.0000000000000007\n",
       " -1.0000000000000007\n",
       " -0.9999999999999994\n",
       "  0.7320508075688764\n",
       "  0.7320508075688765\n",
       "  ⋮\n",
       "  0.732050807568879\n",
       "  0.7320508075688795\n",
       "  1.9999999999999987\n",
       "  1.9999999999999993\n",
       "  1.9999999999999998\n",
       "  2.0\n",
       "  2.0\n",
       "  2.0000000000000004\n",
       "  2.0000000000000004\n",
       "  2.000000000000001\n",
       "  2.0000000000000013\n",
       "  2.0000000000000027"
      ]
     },
     "execution_count": 10,
     "metadata": {},
     "output_type": "execute_result"
    }
   ],
   "source": [
    "using LinearAlgebra\n",
    "eigvals(H)"
   ]
  }
 ],
 "metadata": {
  "kernelspec": {
   "display_name": "Julia 1.7.2",
   "language": "julia",
   "name": "julia-1.7"
  },
  "language_info": {
   "file_extension": ".jl",
   "mimetype": "application/julia",
   "name": "julia",
   "version": "1.7.2"
  }
 },
 "nbformat": 4,
 "nbformat_minor": 5
}
