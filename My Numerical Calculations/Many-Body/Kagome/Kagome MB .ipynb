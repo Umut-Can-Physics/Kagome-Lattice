{
 "cells": [
  {
   "cell_type": "code",
   "execution_count": 1,
   "id": "849f040f",
   "metadata": {
    "tags": []
   },
   "outputs": [
    {
     "data": {
      "text/plain": [
       "get_SP_H (generic function with 1 method)"
      ]
     },
     "execution_count": 1,
     "metadata": {},
     "output_type": "execute_result"
    }
   ],
   "source": [
    "# executeme\n",
    "\n",
    "using NBInclude\n",
    "@nbinclude(\"Kagome SP.ipynb\")"
   ]
  },
  {
   "cell_type": "code",
   "execution_count": 2,
   "id": "99d698b1",
   "metadata": {
    "tags": []
   },
   "outputs": [],
   "source": [
    "Nx = 2; Ny = 3; N = 3*Nx*Ny\n",
    "# t1=-1;L1=0 ;t2=L2=0\n",
    "# t1=L1=0;t2=L2=-1\n",
    "t1 = -1;L1 = 0.28;t2 = 0.3;L2 = 0.2;\n",
    "# t1=t2=-1;L1=L2=0\n",
    "PN = 3; U = 100;"
   ]
  },
  {
   "cell_type": "markdown",
   "id": "b138291e",
   "metadata": {},
   "source": [
    "### Hard-Core Interaction"
   ]
  },
  {
   "cell_type": "markdown",
   "id": "0a04a236",
   "metadata": {},
   "source": [
    "$$\\newcommand{\\ket}[1]{\\left|{#1}\\right\\rangle}$$\n",
    "$$\\newcommand{\\bra}[1]{\\left\\langle{#1}\\right|}$$\n",
    "$$\\newcommand{\\braket}[2]{\\left\\langle{#1}\\middle|{#2}\\right\\rangle}$$\n",
    "Generalized Fermionic Fock States:\n",
    "\\begin{align}\n",
    "c_\\alpha^{\\dagger}\\ket{...,n_\\beta,n_\\alpha,n_\\gamma,...} =(-1)^{\\sum_{\\beta<\\alpha}n_{\\beta}}\\left(\\sqrt{n_\\alpha+1} \\right) \\ket{...,n_\\beta,n_\\alpha+1,n_\\gamma,...} \n",
    "\\\\\n",
    "c_\\alpha\\ket{...,n_\\beta,n_\\alpha,n_\\gamma,...} =(-1)^{\\sum_{\\beta<\\alpha}n_{\\beta}}\\sqrt{n_\\alpha} \\ket{...,n_\\beta,n_\\alpha-1,n_\\gamma,...} \n",
    "\\end{align}"
   ]
  },
  {
   "cell_type": "markdown",
   "id": "adf85174",
   "metadata": {},
   "source": [
    "But, is transition operator fermionic or bosonic? Let's check:"
   ]
  },
  {
   "cell_type": "code",
   "execution_count": 6,
   "id": "b0a1c943",
   "metadata": {},
   "outputs": [],
   "source": [
    "# ParticleNum = 2; HardCoreStates = fermionstates(NBasis, [ParticleNum]); HardCoreBasis =  ManyBodyBasis(NBasis, HardCoreStates)\n",
    "# dense(transition(HardCoreBasis, 2,1))"
   ]
  },
  {
   "cell_type": "markdown",
   "id": "ff372f2d",
   "metadata": {},
   "source": [
    "Transition operator is bosonic operator due to fermionic states doesn't include -1 coefficient in transition matrix.\n",
    "So, we can construct hard core many body basis by using fermionic states. Note that we work only bosons on lattice."
   ]
  },
  {
   "cell_type": "markdown",
   "id": "034640b9",
   "metadata": {},
   "source": [
    "--------------"
   ]
  },
  {
   "cell_type": "markdown",
   "id": "532d7e5c",
   "metadata": {},
   "source": [
    "Construct hard-core states of bosonic system (Delete 2 occupation number in bosonic system):"
   ]
  },
  {
   "cell_type": "code",
   "execution_count": 7,
   "id": "db6f751f",
   "metadata": {},
   "outputs": [],
   "source": [
    "# # Find hard-core states for only 2 particle\n",
    "# function delete(M,N)\n",
    "#     \"\"\"\n",
    "#     M is bosonic states\n",
    "#     N is occupation number\n",
    "#     Returns Delete N occupation states from M bosonic states\n",
    "#     \"\"\"\n",
    "#     function myCondition(y)\n",
    "#         return N == y\n",
    "#     end\n",
    "#     m = []\n",
    "#     for i in 1:length(M)\n",
    "#        if findfirst(myCondition,M[i]) != nothing\n",
    "#             push!(m,i)\n",
    "#        end\n",
    "#     end\n",
    "#     return deleteat!(M,m)\n",
    "# end"
   ]
  },
  {
   "cell_type": "code",
   "execution_count": 8,
   "id": "00d101a1",
   "metadata": {},
   "outputs": [],
   "source": [
    "# # All of states in N Fock Space \n",
    "# # Max. Occupation number is equal to 1 (Hard-Core Interaction or Many-Body for Fermionic States)\n",
    "# HC_States = bosonstates(NBasis, [PN]) \n",
    "# # Delete PN=2 states from bosonic states to use in hard-core intereaction\n",
    "# HC_States = delete(HC_States, 2)\n",
    "# # Many-Body Basis\n",
    "# HC_Basis_MB = ManyBodyBasis(NBasis, HC_States)"
   ]
  },
  {
   "cell_type": "markdown",
   "id": "ea94e752",
   "metadata": {},
   "source": [
    "Conclusion: Hard-Core Bosonic System with Delete Function = Fermionic System"
   ]
  },
  {
   "cell_type": "markdown",
   "id": "c830c958",
   "metadata": {},
   "source": [
    "-----------"
   ]
  },
  {
   "cell_type": "code",
   "execution_count": 4,
   "id": "7e2f5021-1ca6-4f0e-b047-051a480cf996",
   "metadata": {
    "tags": []
   },
   "outputs": [],
   "source": [
    "# executeme\n",
    "\n",
    "sp_op = get_SP_H(Nx, Ny, t1, L1, t2, L2);"
   ]
  },
  {
   "cell_type": "code",
   "execution_count": 5,
   "id": "4274ea4c",
   "metadata": {
    "tags": []
   },
   "outputs": [
    {
     "data": {
      "text/plain": [
       "get_Fermionic_MB_basis (generic function with 1 method)"
      ]
     },
     "execution_count": 5,
     "metadata": {},
     "output_type": "execute_result"
    }
   ],
   "source": [
    "function get_Fermionic_MB_basis(N,PN)\n",
    "    \n",
    "    NBasis = NLevelBasis(N)\n",
    "    HC_States = fermionstates(NBasis, [PN]) \n",
    "    HC_Basis_MB = ManyBodyBasis(NBasis, HC_States);\n",
    "    \n",
    "    return HC_Basis_MB\n",
    "end"
   ]
  },
  {
   "cell_type": "code",
   "execution_count": 7,
   "id": "310ce84b-415b-4ab8-bd81-18fec1cd981b",
   "metadata": {
    "tags": []
   },
   "outputs": [],
   "source": [
    "HC_Basis_MB = get_Fermionic_MB_basis(N,PN);"
   ]
  },
  {
   "cell_type": "code",
   "execution_count": 8,
   "id": "3bf863d0",
   "metadata": {
    "tags": []
   },
   "outputs": [
    {
     "data": {
      "text/plain": [
       "Kagome_Hard_Core (generic function with 1 method)"
      ]
     },
     "execution_count": 8,
     "metadata": {},
     "output_type": "execute_result"
    }
   ],
   "source": [
    "function Kagome_Hard_Core(mb_basis, Nx, Ny, sp_op)\n",
    "    \n",
    "    N = Nx*Ny*3\n",
    "    # Many-Body Hamiltonian using METHOD #1 (MANUEL CONSTRUCTING)\n",
    "    HC_Hamiltonian_MB = SparseOperator(mb_basis)\n",
    "    # Number of states for Hard-core bosonic system is equal to number of states for fermionic system\n",
    "    for m in 1:N\n",
    "        for n in 1:N\n",
    "            # Phase Factors= H_NN[m,n] and H_NNN[m,n]\n",
    "            # Hopping Terms= transition(HC_NBasis_MB, m, n)\n",
    "            # The Neighbors Condition Hides Here: H[m,n]\n",
    "            HC_Hamiltonian_MB += sp_op.data[m,n] * transition(mb_basis, m, n)\n",
    "        end\n",
    "    end\n",
    "    return HC_Hamiltonian_MB\n",
    "end"
   ]
  },
  {
   "cell_type": "code",
   "execution_count": 9,
   "id": "73747af1-cea1-47a0-b248-8875b49b327b",
   "metadata": {
    "tags": []
   },
   "outputs": [],
   "source": [
    "HC_Hamiltonian_MB = Kagome_Hard_Core(HC_Basis_MB, Nx, Ny, sp_op)\n",
    "E0 = real(eigenenergies(dense(HC_Hamiltonian_MB)));"
   ]
  },
  {
   "cell_type": "markdown",
   "id": "69fac01f",
   "metadata": {},
   "source": [
    "Filling fraction for topological dejeneracy:\n",
    "\\begin{align}\n",
    "\\frac{1}{2} = \\frac{Particle Number}{N_{cell}} = \\frac{Particle Number}{N_xN_y}\n",
    "\\end{align}"
   ]
  },
  {
   "cell_type": "code",
   "execution_count": 10,
   "id": "bf2d9993",
   "metadata": {
    "tags": []
   },
   "outputs": [
    {
     "name": "stdout",
     "output_type": "stream",
     "text": [
      "Number of Particle=3\n",
      "Number of Unit-Cell=6\n",
      "Filling Fraction=0.5\n"
     ]
    }
   ],
   "source": [
    "println(\"Number of Particle=\",PN)\n",
    "println(\"Number of Unit-Cell=\",Nx*Ny)\n",
    "println(\"Filling Fraction=\",PN/(Nx*Ny))"
   ]
  },
  {
   "cell_type": "code",
   "execution_count": 11,
   "id": "32171cd4",
   "metadata": {
    "tags": []
   },
   "outputs": [
    {
     "data": {
      "image/svg+xml": [
       "<?xml version=\"1.0\" encoding=\"utf-8\"?>\n",
       "<svg xmlns=\"http://www.w3.org/2000/svg\" xmlns:xlink=\"http://www.w3.org/1999/xlink\" width=\"600\" height=\"400\" viewBox=\"0 0 2400 1600\">\n",
       "<defs>\n",
       "  <clipPath id=\"clip440\">\n",
       "    <rect x=\"0\" y=\"0\" width=\"2400\" height=\"1600\"/>\n",
       "  </clipPath>\n",
       "</defs>\n",
       "<path clip-path=\"url(#clip440)\" d=\"\n",
       "M0 1600 L2400 1600 L2400 0 L0 0  Z\n",
       "  \" fill=\"#ffffff\" fill-rule=\"evenodd\" fill-opacity=\"1\"/>\n",
       "<defs>\n",
       "  <clipPath id=\"clip441\">\n",
       "    <rect x=\"480\" y=\"0\" width=\"1681\" height=\"1600\"/>\n",
       "  </clipPath>\n",
       "</defs>\n",
       "<path clip-path=\"url(#clip440)\" d=\"\n",
       "M212.135 1423.18 L2352.76 1423.18 L2352.76 47.2441 L212.135 47.2441  Z\n",
       "  \" fill=\"#ffffff\" fill-rule=\"evenodd\" fill-opacity=\"1\"/>\n",
       "<defs>\n",
       "  <clipPath id=\"clip442\">\n",
       "    <rect x=\"212\" y=\"47\" width=\"2142\" height=\"1377\"/>\n",
       "  </clipPath>\n",
       "</defs>\n",
       "<polyline clip-path=\"url(#clip442)\" style=\"stroke:#000000; stroke-linecap:round; stroke-linejoin:round; stroke-width:2; stroke-opacity:0.1; fill:none\" points=\"\n",
       "  697.867,1423.18 697.867,47.2441 \n",
       "  \"/>\n",
       "<polyline clip-path=\"url(#clip442)\" style=\"stroke:#000000; stroke-linecap:round; stroke-linejoin:round; stroke-width:2; stroke-opacity:0.1; fill:none\" points=\"\n",
       "  1229.3,1423.18 1229.3,47.2441 \n",
       "  \"/>\n",
       "<polyline clip-path=\"url(#clip442)\" style=\"stroke:#000000; stroke-linecap:round; stroke-linejoin:round; stroke-width:2; stroke-opacity:0.1; fill:none\" points=\"\n",
       "  1760.74,1423.18 1760.74,47.2441 \n",
       "  \"/>\n",
       "<polyline clip-path=\"url(#clip442)\" style=\"stroke:#000000; stroke-linecap:round; stroke-linejoin:round; stroke-width:2; stroke-opacity:0.1; fill:none\" points=\"\n",
       "  2292.17,1423.18 2292.17,47.2441 \n",
       "  \"/>\n",
       "<polyline clip-path=\"url(#clip440)\" style=\"stroke:#000000; stroke-linecap:round; stroke-linejoin:round; stroke-width:4; stroke-opacity:1; fill:none\" points=\"\n",
       "  212.135,1423.18 2352.76,1423.18 \n",
       "  \"/>\n",
       "<polyline clip-path=\"url(#clip440)\" style=\"stroke:#000000; stroke-linecap:round; stroke-linejoin:round; stroke-width:4; stroke-opacity:1; fill:none\" points=\"\n",
       "  697.867,1423.18 697.867,1404.28 \n",
       "  \"/>\n",
       "<polyline clip-path=\"url(#clip440)\" style=\"stroke:#000000; stroke-linecap:round; stroke-linejoin:round; stroke-width:4; stroke-opacity:1; fill:none\" points=\"\n",
       "  1229.3,1423.18 1229.3,1404.28 \n",
       "  \"/>\n",
       "<polyline clip-path=\"url(#clip440)\" style=\"stroke:#000000; stroke-linecap:round; stroke-linejoin:round; stroke-width:4; stroke-opacity:1; fill:none\" points=\"\n",
       "  1760.74,1423.18 1760.74,1404.28 \n",
       "  \"/>\n",
       "<polyline clip-path=\"url(#clip440)\" style=\"stroke:#000000; stroke-linecap:round; stroke-linejoin:round; stroke-width:4; stroke-opacity:1; fill:none\" points=\"\n",
       "  2292.17,1423.18 2292.17,1404.28 \n",
       "  \"/>\n",
       "<path clip-path=\"url(#clip440)\" d=\"M688.144 1451.02 L706.501 1451.02 L706.501 1454.96 L692.427 1454.96 L692.427 1463.43 Q693.445 1463.08 694.464 1462.92 Q695.482 1462.73 696.501 1462.73 Q702.288 1462.73 705.668 1465.9 Q709.047 1469.08 709.047 1474.49 Q709.047 1480.07 705.575 1483.17 Q702.103 1486.25 695.783 1486.25 Q693.607 1486.25 691.339 1485.88 Q689.094 1485.51 686.686 1484.77 L686.686 1480.07 Q688.769 1481.2 690.992 1481.76 Q693.214 1482.32 695.691 1482.32 Q699.695 1482.32 702.033 1480.21 Q704.371 1478.1 704.371 1474.49 Q704.371 1470.88 702.033 1468.77 Q699.695 1466.67 695.691 1466.67 Q693.816 1466.67 691.941 1467.08 Q690.089 1467.5 688.144 1468.38 L688.144 1451.02 Z\" fill=\"#000000\" fill-rule=\"evenodd\" fill-opacity=\"1\" /><path clip-path=\"url(#clip440)\" d=\"M1203.99 1481.64 L1211.63 1481.64 L1211.63 1455.28 L1203.32 1456.95 L1203.32 1452.69 L1211.58 1451.02 L1216.26 1451.02 L1216.26 1481.64 L1223.9 1481.64 L1223.9 1485.58 L1203.99 1485.58 L1203.99 1481.64 Z\" fill=\"#000000\" fill-rule=\"evenodd\" fill-opacity=\"1\" /><path clip-path=\"url(#clip440)\" d=\"M1243.34 1454.1 Q1239.73 1454.1 1237.9 1457.66 Q1236.1 1461.2 1236.1 1468.33 Q1236.1 1475.44 1237.9 1479.01 Q1239.73 1482.55 1243.34 1482.55 Q1246.98 1482.55 1248.78 1479.01 Q1250.61 1475.44 1250.61 1468.33 Q1250.61 1461.2 1248.78 1457.66 Q1246.98 1454.1 1243.34 1454.1 M1243.34 1450.39 Q1249.15 1450.39 1252.21 1455 Q1255.29 1459.58 1255.29 1468.33 Q1255.29 1477.06 1252.21 1481.67 Q1249.15 1486.25 1243.34 1486.25 Q1237.53 1486.25 1234.45 1481.67 Q1231.4 1477.06 1231.4 1468.33 Q1231.4 1459.58 1234.45 1455 Q1237.53 1450.39 1243.34 1450.39 Z\" fill=\"#000000\" fill-rule=\"evenodd\" fill-opacity=\"1\" /><path clip-path=\"url(#clip440)\" d=\"M1735.92 1481.64 L1743.56 1481.64 L1743.56 1455.28 L1735.25 1456.95 L1735.25 1452.69 L1743.51 1451.02 L1748.19 1451.02 L1748.19 1481.64 L1755.83 1481.64 L1755.83 1485.58 L1735.92 1485.58 L1735.92 1481.64 Z\" fill=\"#000000\" fill-rule=\"evenodd\" fill-opacity=\"1\" /><path clip-path=\"url(#clip440)\" d=\"M1765.32 1451.02 L1783.68 1451.02 L1783.68 1454.96 L1769.6 1454.96 L1769.6 1463.43 Q1770.62 1463.08 1771.64 1462.92 Q1772.66 1462.73 1773.68 1462.73 Q1779.46 1462.73 1782.84 1465.9 Q1786.22 1469.08 1786.22 1474.49 Q1786.22 1480.07 1782.75 1483.17 Q1779.28 1486.25 1772.96 1486.25 Q1770.78 1486.25 1768.51 1485.88 Q1766.27 1485.51 1763.86 1484.77 L1763.86 1480.07 Q1765.95 1481.2 1768.17 1481.76 Q1770.39 1482.32 1772.87 1482.32 Q1776.87 1482.32 1779.21 1480.21 Q1781.55 1478.1 1781.55 1474.49 Q1781.55 1470.88 1779.21 1468.77 Q1776.87 1466.67 1772.87 1466.67 Q1770.99 1466.67 1769.12 1467.08 Q1767.26 1467.5 1765.32 1468.38 L1765.32 1451.02 Z\" fill=\"#000000\" fill-rule=\"evenodd\" fill-opacity=\"1\" /><path clip-path=\"url(#clip440)\" d=\"M2270.95 1481.64 L2287.26 1481.64 L2287.26 1485.58 L2265.32 1485.58 L2265.32 1481.64 Q2267.98 1478.89 2272.57 1474.26 Q2277.17 1469.61 2278.35 1468.27 Q2280.6 1465.74 2281.48 1464.01 Q2282.38 1462.25 2282.38 1460.56 Q2282.38 1457.8 2280.44 1456.07 Q2278.51 1454.33 2275.41 1454.33 Q2273.21 1454.33 2270.76 1455.09 Q2268.33 1455.86 2265.55 1457.41 L2265.55 1452.69 Q2268.38 1451.55 2270.83 1450.97 Q2273.28 1450.39 2275.32 1450.39 Q2280.69 1450.39 2283.89 1453.08 Q2287.08 1455.77 2287.08 1460.26 Q2287.08 1462.39 2286.27 1464.31 Q2285.48 1466.2 2283.38 1468.8 Q2282.8 1469.47 2279.7 1472.69 Q2276.59 1475.88 2270.95 1481.64 Z\" fill=\"#000000\" fill-rule=\"evenodd\" fill-opacity=\"1\" /><path clip-path=\"url(#clip440)\" d=\"M2307.08 1454.1 Q2303.47 1454.1 2301.64 1457.66 Q2299.83 1461.2 2299.83 1468.33 Q2299.83 1475.44 2301.64 1479.01 Q2303.47 1482.55 2307.08 1482.55 Q2310.71 1482.55 2312.52 1479.01 Q2314.35 1475.44 2314.35 1468.33 Q2314.35 1461.2 2312.52 1457.66 Q2310.71 1454.1 2307.08 1454.1 M2307.08 1450.39 Q2312.89 1450.39 2315.95 1455 Q2319.02 1459.58 2319.02 1468.33 Q2319.02 1477.06 2315.95 1481.67 Q2312.89 1486.25 2307.08 1486.25 Q2301.27 1486.25 2298.19 1481.67 Q2295.14 1477.06 2295.14 1468.33 Q2295.14 1459.58 2298.19 1455 Q2301.27 1450.39 2307.08 1450.39 Z\" fill=\"#000000\" fill-rule=\"evenodd\" fill-opacity=\"1\" /><path clip-path=\"url(#clip440)\" d=\"M1297.37 1546.53 L1297.37 1568.04 L1291.52 1568.04 L1291.52 1546.72 Q1291.52 1541.66 1289.54 1539.14 Q1287.57 1536.63 1283.62 1536.63 Q1278.88 1536.63 1276.14 1539.65 Q1273.41 1542.68 1273.41 1547.9 L1273.41 1568.04 L1267.52 1568.04 L1267.52 1532.4 L1273.41 1532.4 L1273.41 1537.93 Q1275.51 1534.72 1278.34 1533.13 Q1281.2 1531.54 1284.93 1531.54 Q1291.07 1531.54 1294.22 1535.36 Q1297.37 1539.14 1297.37 1546.53 Z\" fill=\"#000000\" fill-rule=\"evenodd\" fill-opacity=\"1\" /><polyline clip-path=\"url(#clip442)\" style=\"stroke:#000000; stroke-linecap:round; stroke-linejoin:round; stroke-width:2; stroke-opacity:0.1; fill:none\" points=\"\n",
       "  212.135,1201.01 2352.76,1201.01 \n",
       "  \"/>\n",
       "<polyline clip-path=\"url(#clip442)\" style=\"stroke:#000000; stroke-linecap:round; stroke-linejoin:round; stroke-width:2; stroke-opacity:0.1; fill:none\" points=\"\n",
       "  212.135,965.448 2352.76,965.448 \n",
       "  \"/>\n",
       "<polyline clip-path=\"url(#clip442)\" style=\"stroke:#000000; stroke-linecap:round; stroke-linejoin:round; stroke-width:2; stroke-opacity:0.1; fill:none\" points=\"\n",
       "  212.135,729.887 2352.76,729.887 \n",
       "  \"/>\n",
       "<polyline clip-path=\"url(#clip442)\" style=\"stroke:#000000; stroke-linecap:round; stroke-linejoin:round; stroke-width:2; stroke-opacity:0.1; fill:none\" points=\"\n",
       "  212.135,494.327 2352.76,494.327 \n",
       "  \"/>\n",
       "<polyline clip-path=\"url(#clip442)\" style=\"stroke:#000000; stroke-linecap:round; stroke-linejoin:round; stroke-width:2; stroke-opacity:0.1; fill:none\" points=\"\n",
       "  212.135,258.767 2352.76,258.767 \n",
       "  \"/>\n",
       "<polyline clip-path=\"url(#clip440)\" style=\"stroke:#000000; stroke-linecap:round; stroke-linejoin:round; stroke-width:4; stroke-opacity:1; fill:none\" points=\"\n",
       "  212.135,1423.18 212.135,47.2441 \n",
       "  \"/>\n",
       "<polyline clip-path=\"url(#clip440)\" style=\"stroke:#000000; stroke-linecap:round; stroke-linejoin:round; stroke-width:4; stroke-opacity:1; fill:none\" points=\"\n",
       "  212.135,1201.01 231.032,1201.01 \n",
       "  \"/>\n",
       "<polyline clip-path=\"url(#clip440)\" style=\"stroke:#000000; stroke-linecap:round; stroke-linejoin:round; stroke-width:4; stroke-opacity:1; fill:none\" points=\"\n",
       "  212.135,965.448 231.032,965.448 \n",
       "  \"/>\n",
       "<polyline clip-path=\"url(#clip440)\" style=\"stroke:#000000; stroke-linecap:round; stroke-linejoin:round; stroke-width:4; stroke-opacity:1; fill:none\" points=\"\n",
       "  212.135,729.887 231.032,729.887 \n",
       "  \"/>\n",
       "<polyline clip-path=\"url(#clip440)\" style=\"stroke:#000000; stroke-linecap:round; stroke-linejoin:round; stroke-width:4; stroke-opacity:1; fill:none\" points=\"\n",
       "  212.135,494.327 231.032,494.327 \n",
       "  \"/>\n",
       "<polyline clip-path=\"url(#clip440)\" style=\"stroke:#000000; stroke-linecap:round; stroke-linejoin:round; stroke-width:4; stroke-opacity:1; fill:none\" points=\"\n",
       "  212.135,258.767 231.032,258.767 \n",
       "  \"/>\n",
       "<path clip-path=\"url(#clip440)\" d=\"M114.26 1201.46 L143.936 1201.46 L143.936 1205.39 L114.26 1205.39 L114.26 1201.46 Z\" fill=\"#000000\" fill-rule=\"evenodd\" fill-opacity=\"1\" /><path clip-path=\"url(#clip440)\" d=\"M164.607 1199.14 Q161.459 1199.14 159.607 1201.3 Q157.778 1203.45 157.778 1207.2 Q157.778 1210.93 159.607 1213.1 Q161.459 1215.26 164.607 1215.26 Q167.755 1215.26 169.584 1213.1 Q171.436 1210.93 171.436 1207.2 Q171.436 1203.45 169.584 1201.3 Q167.755 1199.14 164.607 1199.14 M173.889 1184.49 L173.889 1188.75 Q172.13 1187.92 170.325 1187.48 Q168.542 1187.04 166.783 1187.04 Q162.153 1187.04 159.7 1190.16 Q157.269 1193.29 156.922 1199.61 Q158.288 1197.59 160.348 1196.53 Q162.408 1195.44 164.885 1195.44 Q170.093 1195.44 173.102 1198.61 Q176.135 1201.76 176.135 1207.2 Q176.135 1212.52 172.987 1215.74 Q169.839 1218.96 164.607 1218.96 Q158.612 1218.96 155.44 1214.38 Q152.269 1209.77 152.269 1201.04 Q152.269 1192.85 156.158 1187.99 Q160.047 1183.1 166.598 1183.1 Q168.357 1183.1 170.139 1183.45 Q171.945 1183.8 173.889 1184.49 Z\" fill=\"#000000\" fill-rule=\"evenodd\" fill-opacity=\"1\" /><path clip-path=\"url(#clip440)\" d=\"M115.07 965.899 L144.746 965.899 L144.746 969.834 L115.07 969.834 L115.07 965.899 Z\" fill=\"#000000\" fill-rule=\"evenodd\" fill-opacity=\"1\" /><path clip-path=\"url(#clip440)\" d=\"M169.005 964.093 Q172.362 964.811 174.237 967.08 Q176.135 969.348 176.135 972.681 Q176.135 977.797 172.616 980.598 Q169.098 983.399 162.616 983.399 Q160.44 983.399 158.126 982.959 Q155.834 982.542 153.38 981.686 L153.38 977.172 Q155.325 978.306 157.64 978.885 Q159.954 979.464 162.477 979.464 Q166.876 979.464 169.167 977.728 Q171.482 975.992 171.482 972.681 Q171.482 969.626 169.329 967.913 Q167.2 966.177 163.38 966.177 L159.353 966.177 L159.353 962.334 L163.565 962.334 Q167.015 962.334 168.843 960.968 Q170.672 959.58 170.672 956.987 Q170.672 954.325 168.774 952.913 Q166.899 951.478 163.38 951.478 Q161.459 951.478 159.26 951.894 Q157.061 952.311 154.422 953.191 L154.422 949.024 Q157.084 948.283 159.399 947.913 Q161.737 947.543 163.797 947.543 Q169.121 947.543 172.223 949.973 Q175.325 952.381 175.325 956.501 Q175.325 959.371 173.681 961.362 Q172.038 963.33 169.005 964.093 Z\" fill=\"#000000\" fill-rule=\"evenodd\" fill-opacity=\"1\" /><path clip-path=\"url(#clip440)\" d=\"M164.19 715.686 Q160.579 715.686 158.751 719.251 Q156.945 722.792 156.945 729.922 Q156.945 737.028 158.751 740.593 Q160.579 744.135 164.19 744.135 Q167.825 744.135 169.63 740.593 Q171.459 737.028 171.459 729.922 Q171.459 722.792 169.63 719.251 Q167.825 715.686 164.19 715.686 M164.19 711.982 Q170.001 711.982 173.056 716.589 Q176.135 721.172 176.135 729.922 Q176.135 738.649 173.056 743.255 Q170.001 747.839 164.19 747.839 Q158.38 747.839 155.302 743.255 Q152.246 738.649 152.246 729.922 Q152.246 721.172 155.302 716.589 Q158.38 711.982 164.19 711.982 Z\" fill=\"#000000\" fill-rule=\"evenodd\" fill-opacity=\"1\" /><path clip-path=\"url(#clip440)\" d=\"M169.005 492.973 Q172.362 493.69 174.237 495.959 Q176.135 498.227 176.135 501.561 Q176.135 506.676 172.616 509.477 Q169.098 512.278 162.616 512.278 Q160.44 512.278 158.126 511.838 Q155.834 511.422 153.38 510.565 L153.38 506.051 Q155.325 507.186 157.64 507.764 Q159.954 508.343 162.477 508.343 Q166.876 508.343 169.167 506.607 Q171.482 504.871 171.482 501.561 Q171.482 498.505 169.329 496.792 Q167.2 495.056 163.38 495.056 L159.353 495.056 L159.353 491.214 L163.565 491.214 Q167.015 491.214 168.843 489.848 Q170.672 488.459 170.672 485.866 Q170.672 483.204 168.774 481.792 Q166.899 480.357 163.38 480.357 Q161.459 480.357 159.26 480.774 Q157.061 481.19 154.422 482.07 L154.422 477.903 Q157.084 477.163 159.399 476.792 Q161.737 476.422 163.797 476.422 Q169.121 476.422 172.223 478.852 Q175.325 481.26 175.325 485.38 Q175.325 488.251 173.681 490.241 Q172.038 492.209 169.005 492.973 Z\" fill=\"#000000\" fill-rule=\"evenodd\" fill-opacity=\"1\" /><path clip-path=\"url(#clip440)\" d=\"M164.607 256.903 Q161.459 256.903 159.607 259.056 Q157.778 261.209 157.778 264.959 Q157.778 268.686 159.607 270.861 Q161.459 273.014 164.607 273.014 Q167.755 273.014 169.584 270.861 Q171.436 268.686 171.436 264.959 Q171.436 261.209 169.584 259.056 Q167.755 256.903 164.607 256.903 M173.889 242.25 L173.889 246.51 Q172.13 245.676 170.325 245.237 Q168.542 244.797 166.783 244.797 Q162.153 244.797 159.7 247.922 Q157.269 251.047 156.922 257.366 Q158.288 255.352 160.348 254.287 Q162.408 253.199 164.885 253.199 Q170.093 253.199 173.102 256.371 Q176.135 259.519 176.135 264.959 Q176.135 270.283 172.987 273.5 Q169.839 276.718 164.607 276.718 Q158.612 276.718 155.44 272.135 Q152.269 267.528 152.269 258.801 Q152.269 250.607 156.158 245.746 Q160.047 240.862 166.598 240.862 Q168.357 240.862 170.139 241.209 Q171.945 241.556 173.889 242.25 Z\" fill=\"#000000\" fill-rule=\"evenodd\" fill-opacity=\"1\" /><path clip-path=\"url(#clip440)\" d=\"M16.4842 750.521 L16.4842 720.475 L21.895 720.475 L21.895 744.092 L35.9632 744.092 L35.9632 721.462 L41.3741 721.462 L41.3741 744.092 L58.5933 744.092 L58.5933 719.902 L64.0042 719.902 L64.0042 750.521 L16.4842 750.521 Z\" fill=\"#000000\" fill-rule=\"evenodd\" fill-opacity=\"1\" /><circle clip-path=\"url(#clip442)\" cx=\"272.718\" cy=\"1384.24\" r=\"18\" fill=\"#009af9\" fill-rule=\"evenodd\" fill-opacity=\"1\" stroke=\"#000000\" stroke-opacity=\"1\" stroke-width=\"3.2\"/>\n",
       "<circle clip-path=\"url(#clip442)\" cx=\"379.005\" cy=\"1380.91\" r=\"18\" fill=\"#009af9\" fill-rule=\"evenodd\" fill-opacity=\"1\" stroke=\"#000000\" stroke-opacity=\"1\" stroke-width=\"3.2\"/>\n",
       "<circle clip-path=\"url(#clip442)\" cx=\"485.293\" cy=\"1348.46\" r=\"18\" fill=\"#009af9\" fill-rule=\"evenodd\" fill-opacity=\"1\" stroke=\"#000000\" stroke-opacity=\"1\" stroke-width=\"3.2\"/>\n",
       "<circle clip-path=\"url(#clip442)\" cx=\"591.58\" cy=\"1347.59\" r=\"18\" fill=\"#009af9\" fill-rule=\"evenodd\" fill-opacity=\"1\" stroke=\"#000000\" stroke-opacity=\"1\" stroke-width=\"3.2\"/>\n",
       "<circle clip-path=\"url(#clip442)\" cx=\"697.867\" cy=\"1347.59\" r=\"18\" fill=\"#009af9\" fill-rule=\"evenodd\" fill-opacity=\"1\" stroke=\"#000000\" stroke-opacity=\"1\" stroke-width=\"3.2\"/>\n",
       "<circle clip-path=\"url(#clip442)\" cx=\"804.154\" cy=\"1344.62\" r=\"18\" fill=\"#009af9\" fill-rule=\"evenodd\" fill-opacity=\"1\" stroke=\"#000000\" stroke-opacity=\"1\" stroke-width=\"3.2\"/>\n",
       "<circle clip-path=\"url(#clip442)\" cx=\"910.441\" cy=\"1344.62\" r=\"18\" fill=\"#009af9\" fill-rule=\"evenodd\" fill-opacity=\"1\" stroke=\"#000000\" stroke-opacity=\"1\" stroke-width=\"3.2\"/>\n",
       "<circle clip-path=\"url(#clip442)\" cx=\"1016.73\" cy=\"1341.74\" r=\"18\" fill=\"#009af9\" fill-rule=\"evenodd\" fill-opacity=\"1\" stroke=\"#000000\" stroke-opacity=\"1\" stroke-width=\"3.2\"/>\n",
       "<circle clip-path=\"url(#clip442)\" cx=\"1123.01\" cy=\"1340.17\" r=\"18\" fill=\"#009af9\" fill-rule=\"evenodd\" fill-opacity=\"1\" stroke=\"#000000\" stroke-opacity=\"1\" stroke-width=\"3.2\"/>\n",
       "<circle clip-path=\"url(#clip442)\" cx=\"1229.3\" cy=\"1340.17\" r=\"18\" fill=\"#009af9\" fill-rule=\"evenodd\" fill-opacity=\"1\" stroke=\"#000000\" stroke-opacity=\"1\" stroke-width=\"3.2\"/>\n",
       "<circle clip-path=\"url(#clip442)\" cx=\"1335.59\" cy=\"1337.22\" r=\"18\" fill=\"#009af9\" fill-rule=\"evenodd\" fill-opacity=\"1\" stroke=\"#000000\" stroke-opacity=\"1\" stroke-width=\"3.2\"/>\n",
       "<circle clip-path=\"url(#clip442)\" cx=\"1441.88\" cy=\"1337.22\" r=\"18\" fill=\"#009af9\" fill-rule=\"evenodd\" fill-opacity=\"1\" stroke=\"#000000\" stroke-opacity=\"1\" stroke-width=\"3.2\"/>\n",
       "<circle clip-path=\"url(#clip442)\" cx=\"1548.16\" cy=\"1333\" r=\"18\" fill=\"#009af9\" fill-rule=\"evenodd\" fill-opacity=\"1\" stroke=\"#000000\" stroke-opacity=\"1\" stroke-width=\"3.2\"/>\n",
       "<circle clip-path=\"url(#clip442)\" cx=\"1654.45\" cy=\"1332.79\" r=\"18\" fill=\"#009af9\" fill-rule=\"evenodd\" fill-opacity=\"1\" stroke=\"#000000\" stroke-opacity=\"1\" stroke-width=\"3.2\"/>\n",
       "<circle clip-path=\"url(#clip442)\" cx=\"1760.74\" cy=\"1326.49\" r=\"18\" fill=\"#009af9\" fill-rule=\"evenodd\" fill-opacity=\"1\" stroke=\"#000000\" stroke-opacity=\"1\" stroke-width=\"3.2\"/>\n",
       "<circle clip-path=\"url(#clip442)\" cx=\"1867.02\" cy=\"1326.49\" r=\"18\" fill=\"#009af9\" fill-rule=\"evenodd\" fill-opacity=\"1\" stroke=\"#000000\" stroke-opacity=\"1\" stroke-width=\"3.2\"/>\n",
       "<circle clip-path=\"url(#clip442)\" cx=\"1973.31\" cy=\"1315.75\" r=\"18\" fill=\"#009af9\" fill-rule=\"evenodd\" fill-opacity=\"1\" stroke=\"#000000\" stroke-opacity=\"1\" stroke-width=\"3.2\"/>\n",
       "<circle clip-path=\"url(#clip442)\" cx=\"2079.6\" cy=\"1309.02\" r=\"18\" fill=\"#009af9\" fill-rule=\"evenodd\" fill-opacity=\"1\" stroke=\"#000000\" stroke-opacity=\"1\" stroke-width=\"3.2\"/>\n",
       "<circle clip-path=\"url(#clip442)\" cx=\"2185.89\" cy=\"1308.64\" r=\"18\" fill=\"#009af9\" fill-rule=\"evenodd\" fill-opacity=\"1\" stroke=\"#000000\" stroke-opacity=\"1\" stroke-width=\"3.2\"/>\n",
       "<circle clip-path=\"url(#clip442)\" cx=\"2292.17\" cy=\"1308.64\" r=\"18\" fill=\"#009af9\" fill-rule=\"evenodd\" fill-opacity=\"1\" stroke=\"#000000\" stroke-opacity=\"1\" stroke-width=\"3.2\"/>\n",
       "</svg>\n"
      ]
     },
     "execution_count": 11,
     "metadata": {},
     "output_type": "execute_result"
    }
   ],
   "source": [
    "using Plots\n",
    "plot(1:length(E0[1:20]), E0, seriestype = :scatter, markersize = 5, legend=false, xlabel=\"n\", ylabel=\"E\")"
   ]
  },
  {
   "cell_type": "markdown",
   "id": "c71d66e5",
   "metadata": {},
   "source": [
    "#### Topological Flat Bands"
   ]
  },
  {
   "cell_type": "markdown",
   "id": "baaae07f",
   "metadata": {},
   "source": [
    "\\begin{equation}\n",
    "N_d=N_{\\phi}-N/\\nu_0  \\quad \\text{(If SP is a flat band}N_{d}=1), \\quad \\nu_0=1/2 \\rightarrow N_d=N_{\\phi}-2N=1 \\rightarrow N_{\\phi}=2N+1\n",
    "\\end{equation}\n",
    "Ground states degeneracy number given as:\n",
    "\\begin{equation}\n",
    "D(N,N_d,N_{\\phi}) = \\frac{(N_d+N-1)!}{N_d!(N-1)!}\\frac{N_{\\phi}}{N} \\rightarrow D=N_{\\phi}, \\quad N_{\\phi}=N_1N_2\\phi, \\quad \\phi\\text{:Magnetic flux per plaquet}\n",
    "\\end{equation}\n",
    "$N_{\\phi}$ is equal to unit-cell number, then it is calculated as $D=2N+1$. So, physical filling fraction $N/N_{\\phi}=\\frac{N}{2N+1}$. For instance, let's say total number of particles $N=4$ and number of unit-cell in each direction $N_xN_y=3X3$. Therefore we wait to get $D=N_{\\phi}=2*4+1=9$ ground state degeneracy."
   ]
  },
  {
   "cell_type": "markdown",
   "id": "719f0c79",
   "metadata": {},
   "source": [
    "### Bose-Hubbard"
   ]
  },
  {
   "cell_type": "markdown",
   "id": "b7db6ae4",
   "metadata": {},
   "source": [
    "\\begin{equation}\n",
    "H = -t \\sum_{<ij>} \\left( b_i^\\dagger b_j + h.c. \\right) + U/2 \\sum_i n_i \\left( n_i -1\\right)\n",
    "\\end{equation}"
   ]
  },
  {
   "cell_type": "code",
   "execution_count": 2,
   "id": "5c5d5a18",
   "metadata": {
    "tags": []
   },
   "outputs": [
    {
     "data": {
      "text/plain": [
       "get_Bosonic_MB_Basis (generic function with 1 method)"
      ]
     },
     "execution_count": 2,
     "metadata": {},
     "output_type": "execute_result"
    }
   ],
   "source": [
    "# executeme\n",
    "\n",
    "function get_Bosonic_MB_Basis(N,PN)\n",
    "    \n",
    "    NBasis = NLevelBasis(N)\n",
    "    States = bosonstates(NBasis, PN) \n",
    "    Basis_MB = ManyBodyBasis(NBasis, States)\n",
    "    \n",
    "    return Basis_MB\n",
    "end"
   ]
  },
  {
   "cell_type": "code",
   "execution_count": 3,
   "id": "08daa804-4da3-4cfc-8a95-56adc373cc97",
   "metadata": {
    "tags": []
   },
   "outputs": [
    {
     "ename": "LoadError",
     "evalue": "UndefVarError: Nx not defined",
     "output_type": "error",
     "traceback": [
      "UndefVarError: Nx not defined",
      "",
      "Stacktrace:",
      " [1] top-level scope",
      "   @ In[3]:3",
      " [2] eval",
      "   @ .\\boot.jl:373 [inlined]",
      " [3] include_string(mapexpr::typeof(REPL.softscope), mod::Module, code::String, filename::String)",
      "   @ Base .\\loading.jl:1196"
     ]
    }
   ],
   "source": [
    "# executeme\n",
    "\n",
    "Basis_MB = get_Bosonic_MB_Basis(N,PN);"
   ]
  },
  {
   "cell_type": "code",
   "execution_count": 15,
   "id": "5955dc3f",
   "metadata": {
    "tags": []
   },
   "outputs": [
    {
     "data": {
      "text/plain": [
       "Kagome_Finite_U (generic function with 1 method)"
      ]
     },
     "execution_count": 15,
     "metadata": {},
     "output_type": "execute_result"
    }
   ],
   "source": [
    "# executeme\n",
    "\n",
    "function Kagome_Finite_U(Nx,Ny,Basis_MB,U,sp_op)\n",
    "    \n",
    "    N = Nx*Ny*3\n",
    "    \n",
    "    # Kinetic term\n",
    "    KT = SparseOperator(Basis_MB)\n",
    "\n",
    "    # Interaction term\n",
    "    IT = SparseOperator(Basis_MB)\n",
    "\n",
    "    for m in 1:N\n",
    "        # Occupation (total particle) Operator: number()\n",
    "        IT = IT + U/2 * number(Basis_MB, m) * ( number(Basis_MB, m) - identityoperator(Basis_MB) ) \n",
    "\n",
    "        for n in 1:N\n",
    "            KT = KT + sp_op.data[m,n] * transition(Basis_MB, m, n)\n",
    "        end\n",
    "        \n",
    "    end\n",
    "    \n",
    "    MB_Hamiltonian = KT + IT\n",
    "    \n",
    "    return MB_Hamiltonian\n",
    "end"
   ]
  },
  {
   "cell_type": "code",
   "execution_count": 16,
   "id": "6e220a08-849f-4225-93e2-cb0adf6860e5",
   "metadata": {
    "tags": []
   },
   "outputs": [],
   "source": [
    "MB_Hamiltonian = Kagome_Finite_U(Nx,Ny,Basis_MB,U,sp_op)\n",
    "E1 = eigenenergies(dense(MB_Hamiltonian));"
   ]
  },
  {
   "cell_type": "code",
   "execution_count": 17,
   "id": "6cb24472",
   "metadata": {
    "tags": []
   },
   "outputs": [
    {
     "name": "stdout",
     "output_type": "stream",
     "text": [
      "Amplitude of Lattice Potantiel=100\n",
      "Number of Particle=3\n",
      "Number of Unit-Cell=6\n",
      "Filling Fraction=0.5\n"
     ]
    }
   ],
   "source": [
    "println(\"Amplitude of Lattice Potantiel=\",U)\n",
    "println(\"Number of Particle=\",PN)\n",
    "println(\"Number of Unit-Cell=\",Nx*Ny)\n",
    "println(\"Filling Fraction=\",PN/(Nx*Ny))"
   ]
  },
  {
   "cell_type": "code",
   "execution_count": 18,
   "id": "9cce7367",
   "metadata": {
    "tags": []
   },
   "outputs": [
    {
     "data": {
      "image/svg+xml": [
       "<?xml version=\"1.0\" encoding=\"utf-8\"?>\n",
       "<svg xmlns=\"http://www.w3.org/2000/svg\" xmlns:xlink=\"http://www.w3.org/1999/xlink\" width=\"600\" height=\"400\" viewBox=\"0 0 2400 1600\">\n",
       "<defs>\n",
       "  <clipPath id=\"clip480\">\n",
       "    <rect x=\"0\" y=\"0\" width=\"2400\" height=\"1600\"/>\n",
       "  </clipPath>\n",
       "</defs>\n",
       "<path clip-path=\"url(#clip480)\" d=\"\n",
       "M0 1600 L2400 1600 L2400 0 L0 0  Z\n",
       "  \" fill=\"#ffffff\" fill-rule=\"evenodd\" fill-opacity=\"1\"/>\n",
       "<defs>\n",
       "  <clipPath id=\"clip481\">\n",
       "    <rect x=\"480\" y=\"0\" width=\"1681\" height=\"1600\"/>\n",
       "  </clipPath>\n",
       "</defs>\n",
       "<path clip-path=\"url(#clip480)\" d=\"\n",
       "M234.125 1423.18 L2352.76 1423.18 L2352.76 47.2441 L234.125 47.2441  Z\n",
       "  \" fill=\"#ffffff\" fill-rule=\"evenodd\" fill-opacity=\"1\"/>\n",
       "<defs>\n",
       "  <clipPath id=\"clip482\">\n",
       "    <rect x=\"234\" y=\"47\" width=\"2120\" height=\"1377\"/>\n",
       "  </clipPath>\n",
       "</defs>\n",
       "<polyline clip-path=\"url(#clip482)\" style=\"stroke:#000000; stroke-linecap:round; stroke-linejoin:round; stroke-width:2; stroke-opacity:0.1; fill:none\" points=\"\n",
       "  253.297,1423.18 253.297,47.2441 \n",
       "  \"/>\n",
       "<polyline clip-path=\"url(#clip482)\" style=\"stroke:#000000; stroke-linecap:round; stroke-linejoin:round; stroke-width:2; stroke-opacity:0.1; fill:none\" points=\"\n",
       "  661.196,1423.18 661.196,47.2441 \n",
       "  \"/>\n",
       "<polyline clip-path=\"url(#clip482)\" style=\"stroke:#000000; stroke-linecap:round; stroke-linejoin:round; stroke-width:2; stroke-opacity:0.1; fill:none\" points=\"\n",
       "  1069.1,1423.18 1069.1,47.2441 \n",
       "  \"/>\n",
       "<polyline clip-path=\"url(#clip482)\" style=\"stroke:#000000; stroke-linecap:round; stroke-linejoin:round; stroke-width:2; stroke-opacity:0.1; fill:none\" points=\"\n",
       "  1477,1423.18 1477,47.2441 \n",
       "  \"/>\n",
       "<polyline clip-path=\"url(#clip482)\" style=\"stroke:#000000; stroke-linecap:round; stroke-linejoin:round; stroke-width:2; stroke-opacity:0.1; fill:none\" points=\"\n",
       "  1884.9,1423.18 1884.9,47.2441 \n",
       "  \"/>\n",
       "<polyline clip-path=\"url(#clip482)\" style=\"stroke:#000000; stroke-linecap:round; stroke-linejoin:round; stroke-width:2; stroke-opacity:0.1; fill:none\" points=\"\n",
       "  2292.79,1423.18 2292.79,47.2441 \n",
       "  \"/>\n",
       "<polyline clip-path=\"url(#clip480)\" style=\"stroke:#000000; stroke-linecap:round; stroke-linejoin:round; stroke-width:4; stroke-opacity:1; fill:none\" points=\"\n",
       "  234.125,1423.18 2352.76,1423.18 \n",
       "  \"/>\n",
       "<polyline clip-path=\"url(#clip480)\" style=\"stroke:#000000; stroke-linecap:round; stroke-linejoin:round; stroke-width:4; stroke-opacity:1; fill:none\" points=\"\n",
       "  253.297,1423.18 253.297,1404.28 \n",
       "  \"/>\n",
       "<polyline clip-path=\"url(#clip480)\" style=\"stroke:#000000; stroke-linecap:round; stroke-linejoin:round; stroke-width:4; stroke-opacity:1; fill:none\" points=\"\n",
       "  661.196,1423.18 661.196,1404.28 \n",
       "  \"/>\n",
       "<polyline clip-path=\"url(#clip480)\" style=\"stroke:#000000; stroke-linecap:round; stroke-linejoin:round; stroke-width:4; stroke-opacity:1; fill:none\" points=\"\n",
       "  1069.1,1423.18 1069.1,1404.28 \n",
       "  \"/>\n",
       "<polyline clip-path=\"url(#clip480)\" style=\"stroke:#000000; stroke-linecap:round; stroke-linejoin:round; stroke-width:4; stroke-opacity:1; fill:none\" points=\"\n",
       "  1477,1423.18 1477,1404.28 \n",
       "  \"/>\n",
       "<polyline clip-path=\"url(#clip480)\" style=\"stroke:#000000; stroke-linecap:round; stroke-linejoin:round; stroke-width:4; stroke-opacity:1; fill:none\" points=\"\n",
       "  1884.9,1423.18 1884.9,1404.28 \n",
       "  \"/>\n",
       "<polyline clip-path=\"url(#clip480)\" style=\"stroke:#000000; stroke-linecap:round; stroke-linejoin:round; stroke-width:4; stroke-opacity:1; fill:none\" points=\"\n",
       "  2292.79,1423.18 2292.79,1404.28 \n",
       "  \"/>\n",
       "<path clip-path=\"url(#clip480)\" d=\"M253.297 1454.1 Q249.686 1454.1 247.857 1457.66 Q246.051 1461.2 246.051 1468.33 Q246.051 1475.44 247.857 1479.01 Q249.686 1482.55 253.297 1482.55 Q256.931 1482.55 258.737 1479.01 Q260.565 1475.44 260.565 1468.33 Q260.565 1461.2 258.737 1457.66 Q256.931 1454.1 253.297 1454.1 M253.297 1450.39 Q259.107 1450.39 262.162 1455 Q265.241 1459.58 265.241 1468.33 Q265.241 1477.06 262.162 1481.67 Q259.107 1486.25 253.297 1486.25 Q247.487 1486.25 244.408 1481.67 Q241.352 1477.06 241.352 1468.33 Q241.352 1459.58 244.408 1455 Q247.487 1450.39 253.297 1450.39 Z\" fill=\"#000000\" fill-rule=\"evenodd\" fill-opacity=\"1\" /><path clip-path=\"url(#clip480)\" d=\"M635.884 1481.64 L643.523 1481.64 L643.523 1455.28 L635.213 1456.95 L635.213 1452.69 L643.477 1451.02 L648.152 1451.02 L648.152 1481.64 L655.791 1481.64 L655.791 1485.58 L635.884 1485.58 L635.884 1481.64 Z\" fill=\"#000000\" fill-rule=\"evenodd\" fill-opacity=\"1\" /><path clip-path=\"url(#clip480)\" d=\"M675.236 1454.1 Q671.625 1454.1 669.796 1457.66 Q667.99 1461.2 667.99 1468.33 Q667.99 1475.44 669.796 1479.01 Q671.625 1482.55 675.236 1482.55 Q678.87 1482.55 680.675 1479.01 Q682.504 1475.44 682.504 1468.33 Q682.504 1461.2 680.675 1457.66 Q678.87 1454.1 675.236 1454.1 M675.236 1450.39 Q681.046 1450.39 684.101 1455 Q687.18 1459.58 687.18 1468.33 Q687.18 1477.06 684.101 1481.67 Q681.046 1486.25 675.236 1486.25 Q669.425 1486.25 666.347 1481.67 Q663.291 1477.06 663.291 1468.33 Q663.291 1459.58 666.347 1455 Q669.425 1450.39 675.236 1450.39 Z\" fill=\"#000000\" fill-rule=\"evenodd\" fill-opacity=\"1\" /><path clip-path=\"url(#clip480)\" d=\"M1047.87 1481.64 L1064.19 1481.64 L1064.19 1485.58 L1042.24 1485.58 L1042.24 1481.64 Q1044.91 1478.89 1049.49 1474.26 Q1054.1 1469.61 1055.28 1468.27 Q1057.52 1465.74 1058.4 1464.01 Q1059.3 1462.25 1059.3 1460.56 Q1059.3 1457.8 1057.36 1456.07 Q1055.44 1454.33 1052.34 1454.33 Q1050.14 1454.33 1047.68 1455.09 Q1045.25 1455.86 1042.48 1457.41 L1042.48 1452.69 Q1045.3 1451.55 1047.75 1450.97 Q1050.21 1450.39 1052.24 1450.39 Q1057.61 1450.39 1060.81 1453.08 Q1064 1455.77 1064 1460.26 Q1064 1462.39 1063.19 1464.31 Q1062.41 1466.2 1060.3 1468.8 Q1059.72 1469.47 1056.62 1472.69 Q1053.52 1475.88 1047.87 1481.64 Z\" fill=\"#000000\" fill-rule=\"evenodd\" fill-opacity=\"1\" /><path clip-path=\"url(#clip480)\" d=\"M1084 1454.1 Q1080.39 1454.1 1078.56 1457.66 Q1076.76 1461.2 1076.76 1468.33 Q1076.76 1475.44 1078.56 1479.01 Q1080.39 1482.55 1084 1482.55 Q1087.64 1482.55 1089.44 1479.01 Q1091.27 1475.44 1091.27 1468.33 Q1091.27 1461.2 1089.44 1457.66 Q1087.64 1454.1 1084 1454.1 M1084 1450.39 Q1089.81 1450.39 1092.87 1455 Q1095.95 1459.58 1095.95 1468.33 Q1095.95 1477.06 1092.87 1481.67 Q1089.81 1486.25 1084 1486.25 Q1078.19 1486.25 1075.11 1481.67 Q1072.06 1477.06 1072.06 1468.33 Q1072.06 1459.58 1075.11 1455 Q1078.19 1450.39 1084 1450.39 Z\" fill=\"#000000\" fill-rule=\"evenodd\" fill-opacity=\"1\" /><path clip-path=\"url(#clip480)\" d=\"M1465.84 1466.95 Q1469.19 1467.66 1471.07 1469.93 Q1472.97 1472.2 1472.97 1475.53 Q1472.97 1480.65 1469.45 1483.45 Q1465.93 1486.25 1459.45 1486.25 Q1457.27 1486.25 1454.96 1485.81 Q1452.67 1485.39 1450.21 1484.54 L1450.21 1480.02 Q1452.16 1481.16 1454.47 1481.74 Q1456.79 1482.32 1459.31 1482.32 Q1463.71 1482.32 1466 1480.58 Q1468.31 1478.84 1468.31 1475.53 Q1468.31 1472.48 1466.16 1470.77 Q1464.03 1469.03 1460.21 1469.03 L1456.19 1469.03 L1456.19 1465.19 L1460.4 1465.19 Q1463.85 1465.19 1465.68 1463.82 Q1467.5 1462.43 1467.5 1459.84 Q1467.5 1457.18 1465.61 1455.77 Q1463.73 1454.33 1460.21 1454.33 Q1458.29 1454.33 1456.09 1454.75 Q1453.89 1455.16 1451.25 1456.04 L1451.25 1451.88 Q1453.92 1451.14 1456.23 1450.77 Q1458.57 1450.39 1460.63 1450.39 Q1465.95 1450.39 1469.06 1452.83 Q1472.16 1455.23 1472.16 1459.35 Q1472.16 1462.22 1470.51 1464.21 Q1468.87 1466.18 1465.84 1466.95 Z\" fill=\"#000000\" fill-rule=\"evenodd\" fill-opacity=\"1\" /><path clip-path=\"url(#clip480)\" d=\"M1491.83 1454.1 Q1488.22 1454.1 1486.39 1457.66 Q1484.59 1461.2 1484.59 1468.33 Q1484.59 1475.44 1486.39 1479.01 Q1488.22 1482.55 1491.83 1482.55 Q1495.47 1482.55 1497.27 1479.01 Q1499.1 1475.44 1499.1 1468.33 Q1499.1 1461.2 1497.27 1457.66 Q1495.47 1454.1 1491.83 1454.1 M1491.83 1450.39 Q1497.64 1450.39 1500.7 1455 Q1503.78 1459.58 1503.78 1468.33 Q1503.78 1477.06 1500.7 1481.67 Q1497.64 1486.25 1491.83 1486.25 Q1486.02 1486.25 1482.94 1481.67 Q1479.89 1477.06 1479.89 1468.33 Q1479.89 1459.58 1482.94 1455 Q1486.02 1450.39 1491.83 1450.39 Z\" fill=\"#000000\" fill-rule=\"evenodd\" fill-opacity=\"1\" /><path clip-path=\"url(#clip480)\" d=\"M1873.07 1455.09 L1861.26 1473.54 L1873.07 1473.54 L1873.07 1455.09 M1871.84 1451.02 L1877.72 1451.02 L1877.72 1473.54 L1882.65 1473.54 L1882.65 1477.43 L1877.72 1477.43 L1877.72 1485.58 L1873.07 1485.58 L1873.07 1477.43 L1857.46 1477.43 L1857.46 1472.92 L1871.84 1451.02 Z\" fill=\"#000000\" fill-rule=\"evenodd\" fill-opacity=\"1\" /><path clip-path=\"url(#clip480)\" d=\"M1900.38 1454.1 Q1896.77 1454.1 1894.94 1457.66 Q1893.14 1461.2 1893.14 1468.33 Q1893.14 1475.44 1894.94 1479.01 Q1896.77 1482.55 1900.38 1482.55 Q1904.02 1482.55 1905.82 1479.01 Q1907.65 1475.44 1907.65 1468.33 Q1907.65 1461.2 1905.82 1457.66 Q1904.02 1454.1 1900.38 1454.1 M1900.38 1450.39 Q1906.19 1450.39 1909.25 1455 Q1912.33 1459.58 1912.33 1468.33 Q1912.33 1477.06 1909.25 1481.67 Q1906.19 1486.25 1900.38 1486.25 Q1894.57 1486.25 1891.49 1481.67 Q1888.44 1477.06 1888.44 1468.33 Q1888.44 1459.58 1891.49 1455 Q1894.57 1450.39 1900.38 1450.39 Z\" fill=\"#000000\" fill-rule=\"evenodd\" fill-opacity=\"1\" /><path clip-path=\"url(#clip480)\" d=\"M2267.49 1451.02 L2285.85 1451.02 L2285.85 1454.96 L2271.78 1454.96 L2271.78 1463.43 Q2272.79 1463.08 2273.81 1462.92 Q2274.83 1462.73 2275.85 1462.73 Q2281.64 1462.73 2285.02 1465.9 Q2288.4 1469.08 2288.4 1474.49 Q2288.4 1480.07 2284.92 1483.17 Q2281.45 1486.25 2275.13 1486.25 Q2272.96 1486.25 2270.69 1485.88 Q2268.44 1485.51 2266.04 1484.77 L2266.04 1480.07 Q2268.12 1481.2 2270.34 1481.76 Q2272.56 1482.32 2275.04 1482.32 Q2279.04 1482.32 2281.38 1480.21 Q2283.72 1478.1 2283.72 1474.49 Q2283.72 1470.88 2281.38 1468.77 Q2279.04 1466.67 2275.04 1466.67 Q2273.17 1466.67 2271.29 1467.08 Q2269.44 1467.5 2267.49 1468.38 L2267.49 1451.02 Z\" fill=\"#000000\" fill-rule=\"evenodd\" fill-opacity=\"1\" /><path clip-path=\"url(#clip480)\" d=\"M2307.61 1454.1 Q2304 1454.1 2302.17 1457.66 Q2300.36 1461.2 2300.36 1468.33 Q2300.36 1475.44 2302.17 1479.01 Q2304 1482.55 2307.61 1482.55 Q2311.24 1482.55 2313.05 1479.01 Q2314.88 1475.44 2314.88 1468.33 Q2314.88 1461.2 2313.05 1457.66 Q2311.24 1454.1 2307.61 1454.1 M2307.61 1450.39 Q2313.42 1450.39 2316.48 1455 Q2319.55 1459.58 2319.55 1468.33 Q2319.55 1477.06 2316.48 1481.67 Q2313.42 1486.25 2307.61 1486.25 Q2301.8 1486.25 2298.72 1481.67 Q2295.67 1477.06 2295.67 1468.33 Q2295.67 1459.58 2298.72 1455 Q2301.8 1450.39 2307.61 1450.39 Z\" fill=\"#000000\" fill-rule=\"evenodd\" fill-opacity=\"1\" /><path clip-path=\"url(#clip480)\" d=\"M1308.37 1546.53 L1308.37 1568.04 L1302.51 1568.04 L1302.51 1546.72 Q1302.51 1541.66 1300.54 1539.14 Q1298.57 1536.63 1294.62 1536.63 Q1289.88 1536.63 1287.14 1539.65 Q1284.4 1542.68 1284.4 1547.9 L1284.4 1568.04 L1278.51 1568.04 L1278.51 1532.4 L1284.4 1532.4 L1284.4 1537.93 Q1286.5 1534.72 1289.33 1533.13 Q1292.2 1531.54 1295.92 1531.54 Q1302.07 1531.54 1305.22 1535.36 Q1308.37 1539.14 1308.37 1546.53 Z\" fill=\"#000000\" fill-rule=\"evenodd\" fill-opacity=\"1\" /><polyline clip-path=\"url(#clip482)\" style=\"stroke:#000000; stroke-linecap:round; stroke-linejoin:round; stroke-width:2; stroke-opacity:0.1; fill:none\" points=\"\n",
       "  234.125,1349.16 2352.76,1349.16 \n",
       "  \"/>\n",
       "<polyline clip-path=\"url(#clip482)\" style=\"stroke:#000000; stroke-linecap:round; stroke-linejoin:round; stroke-width:2; stroke-opacity:0.1; fill:none\" points=\"\n",
       "  234.125,928.272 2352.76,928.272 \n",
       "  \"/>\n",
       "<polyline clip-path=\"url(#clip482)\" style=\"stroke:#000000; stroke-linecap:round; stroke-linejoin:round; stroke-width:2; stroke-opacity:0.1; fill:none\" points=\"\n",
       "  234.125,507.383 2352.76,507.383 \n",
       "  \"/>\n",
       "<polyline clip-path=\"url(#clip482)\" style=\"stroke:#000000; stroke-linecap:round; stroke-linejoin:round; stroke-width:2; stroke-opacity:0.1; fill:none\" points=\"\n",
       "  234.125,86.4931 2352.76,86.4931 \n",
       "  \"/>\n",
       "<polyline clip-path=\"url(#clip480)\" style=\"stroke:#000000; stroke-linecap:round; stroke-linejoin:round; stroke-width:4; stroke-opacity:1; fill:none\" points=\"\n",
       "  234.125,1423.18 234.125,47.2441 \n",
       "  \"/>\n",
       "<polyline clip-path=\"url(#clip480)\" style=\"stroke:#000000; stroke-linecap:round; stroke-linejoin:round; stroke-width:4; stroke-opacity:1; fill:none\" points=\"\n",
       "  234.125,1349.16 253.023,1349.16 \n",
       "  \"/>\n",
       "<polyline clip-path=\"url(#clip480)\" style=\"stroke:#000000; stroke-linecap:round; stroke-linejoin:round; stroke-width:4; stroke-opacity:1; fill:none\" points=\"\n",
       "  234.125,928.272 253.023,928.272 \n",
       "  \"/>\n",
       "<polyline clip-path=\"url(#clip480)\" style=\"stroke:#000000; stroke-linecap:round; stroke-linejoin:round; stroke-width:4; stroke-opacity:1; fill:none\" points=\"\n",
       "  234.125,507.383 253.023,507.383 \n",
       "  \"/>\n",
       "<polyline clip-path=\"url(#clip480)\" style=\"stroke:#000000; stroke-linecap:round; stroke-linejoin:round; stroke-width:4; stroke-opacity:1; fill:none\" points=\"\n",
       "  234.125,86.4931 253.023,86.4931 \n",
       "  \"/>\n",
       "<path clip-path=\"url(#clip480)\" d=\"M186.181 1334.96 Q182.57 1334.96 180.741 1338.53 Q178.936 1342.07 178.936 1349.2 Q178.936 1356.3 180.741 1359.87 Q182.57 1363.41 186.181 1363.41 Q189.815 1363.41 191.621 1359.87 Q193.45 1356.3 193.45 1349.2 Q193.45 1342.07 191.621 1338.53 Q189.815 1334.96 186.181 1334.96 M186.181 1331.26 Q191.991 1331.26 195.047 1335.86 Q198.125 1340.45 198.125 1349.2 Q198.125 1357.92 195.047 1362.53 Q191.991 1367.11 186.181 1367.11 Q180.371 1367.11 177.292 1362.53 Q174.237 1357.92 174.237 1349.2 Q174.237 1340.45 177.292 1335.86 Q180.371 1331.26 186.181 1331.26 Z\" fill=\"#000000\" fill-rule=\"evenodd\" fill-opacity=\"1\" /><path clip-path=\"url(#clip480)\" d=\"M116.668 941.617 L124.306 941.617 L124.306 915.251 L115.996 916.918 L115.996 912.659 L124.26 910.992 L128.936 910.992 L128.936 941.617 L136.575 941.617 L136.575 945.552 L116.668 945.552 L116.668 941.617 Z\" fill=\"#000000\" fill-rule=\"evenodd\" fill-opacity=\"1\" /><path clip-path=\"url(#clip480)\" d=\"M156.019 914.071 Q152.408 914.071 150.579 917.636 Q148.774 921.177 148.774 928.307 Q148.774 935.413 150.579 938.978 Q152.408 942.52 156.019 942.52 Q159.653 942.52 161.459 938.978 Q163.288 935.413 163.288 928.307 Q163.288 921.177 161.459 917.636 Q159.653 914.071 156.019 914.071 M156.019 910.367 Q161.829 910.367 164.885 914.974 Q167.964 919.557 167.964 928.307 Q167.964 937.034 164.885 941.64 Q161.829 946.223 156.019 946.223 Q150.209 946.223 147.13 941.64 Q144.075 937.034 144.075 928.307 Q144.075 919.557 147.13 914.974 Q150.209 910.367 156.019 910.367 Z\" fill=\"#000000\" fill-rule=\"evenodd\" fill-opacity=\"1\" /><path clip-path=\"url(#clip480)\" d=\"M186.181 914.071 Q182.57 914.071 180.741 917.636 Q178.936 921.177 178.936 928.307 Q178.936 935.413 180.741 938.978 Q182.57 942.52 186.181 942.52 Q189.815 942.52 191.621 938.978 Q193.45 935.413 193.45 928.307 Q193.45 921.177 191.621 917.636 Q189.815 914.071 186.181 914.071 M186.181 910.367 Q191.991 910.367 195.047 914.974 Q198.125 919.557 198.125 928.307 Q198.125 937.034 195.047 941.64 Q191.991 946.223 186.181 946.223 Q180.371 946.223 177.292 941.64 Q174.237 937.034 174.237 928.307 Q174.237 919.557 177.292 914.974 Q180.371 910.367 186.181 910.367 Z\" fill=\"#000000\" fill-rule=\"evenodd\" fill-opacity=\"1\" /><path clip-path=\"url(#clip480)\" d=\"M119.885 520.727 L136.204 520.727 L136.204 524.663 L114.26 524.663 L114.26 520.727 Q116.922 517.973 121.505 513.343 Q126.112 508.691 127.292 507.348 Q129.538 504.825 130.417 503.089 Q131.32 501.329 131.32 499.64 Q131.32 496.885 129.376 495.149 Q127.455 493.413 124.353 493.413 Q122.154 493.413 119.7 494.177 Q117.269 494.941 114.492 496.492 L114.492 491.769 Q117.316 490.635 119.769 490.056 Q122.223 489.478 124.26 489.478 Q129.63 489.478 132.825 492.163 Q136.019 494.848 136.019 499.339 Q136.019 501.468 135.209 503.39 Q134.422 505.288 132.316 507.88 Q131.737 508.552 128.635 511.769 Q125.533 514.964 119.885 520.727 Z\" fill=\"#000000\" fill-rule=\"evenodd\" fill-opacity=\"1\" /><path clip-path=\"url(#clip480)\" d=\"M156.019 493.181 Q152.408 493.181 150.579 496.746 Q148.774 500.288 148.774 507.417 Q148.774 514.524 150.579 518.089 Q152.408 521.63 156.019 521.63 Q159.653 521.63 161.459 518.089 Q163.288 514.524 163.288 507.417 Q163.288 500.288 161.459 496.746 Q159.653 493.181 156.019 493.181 M156.019 489.478 Q161.829 489.478 164.885 494.084 Q167.964 498.667 167.964 507.417 Q167.964 516.144 164.885 520.751 Q161.829 525.334 156.019 525.334 Q150.209 525.334 147.13 520.751 Q144.075 516.144 144.075 507.417 Q144.075 498.667 147.13 494.084 Q150.209 489.478 156.019 489.478 Z\" fill=\"#000000\" fill-rule=\"evenodd\" fill-opacity=\"1\" /><path clip-path=\"url(#clip480)\" d=\"M186.181 493.181 Q182.57 493.181 180.741 496.746 Q178.936 500.288 178.936 507.417 Q178.936 514.524 180.741 518.089 Q182.57 521.63 186.181 521.63 Q189.815 521.63 191.621 518.089 Q193.45 514.524 193.45 507.417 Q193.45 500.288 191.621 496.746 Q189.815 493.181 186.181 493.181 M186.181 489.478 Q191.991 489.478 195.047 494.084 Q198.125 498.667 198.125 507.417 Q198.125 516.144 195.047 520.751 Q191.991 525.334 186.181 525.334 Q180.371 525.334 177.292 520.751 Q174.237 516.144 174.237 507.417 Q174.237 498.667 177.292 494.084 Q180.371 489.478 186.181 489.478 Z\" fill=\"#000000\" fill-rule=\"evenodd\" fill-opacity=\"1\" /><path clip-path=\"url(#clip480)\" d=\"M130.024 85.139 Q133.38 85.8565 135.255 88.125 Q137.154 90.3936 137.154 93.7269 Q137.154 98.8426 133.635 101.643 Q130.117 104.444 123.635 104.444 Q121.459 104.444 119.144 104.005 Q116.853 103.588 114.399 102.731 L114.399 98.2176 Q116.343 99.3518 118.658 99.9305 Q120.973 100.509 123.496 100.509 Q127.894 100.509 130.186 98.7731 Q132.501 97.037 132.501 93.7269 Q132.501 90.6713 130.348 88.9584 Q128.218 87.2223 124.399 87.2223 L120.371 87.2223 L120.371 83.3797 L124.584 83.3797 Q128.033 83.3797 129.862 82.014 Q131.691 80.6251 131.691 78.0325 Q131.691 75.3705 129.792 73.9585 Q127.917 72.5233 124.399 72.5233 Q122.478 72.5233 120.279 72.9399 Q118.08 73.3566 115.441 74.2362 L115.441 70.0696 Q118.103 69.3289 120.418 68.9585 Q122.755 68.5881 124.816 68.5881 Q130.14 68.5881 133.242 71.0187 Q136.343 73.4261 136.343 77.5464 Q136.343 80.4168 134.7 82.4075 Q133.056 84.3751 130.024 85.139 Z\" fill=\"#000000\" fill-rule=\"evenodd\" fill-opacity=\"1\" /><path clip-path=\"url(#clip480)\" d=\"M156.019 72.2918 Q152.408 72.2918 150.579 75.8566 Q148.774 79.3982 148.774 86.5278 Q148.774 93.6343 150.579 97.1991 Q152.408 100.741 156.019 100.741 Q159.653 100.741 161.459 97.1991 Q163.288 93.6343 163.288 86.5278 Q163.288 79.3982 161.459 75.8566 Q159.653 72.2918 156.019 72.2918 M156.019 68.5881 Q161.829 68.5881 164.885 73.1946 Q167.964 77.7779 167.964 86.5278 Q167.964 95.2546 164.885 99.8611 Q161.829 104.444 156.019 104.444 Q150.209 104.444 147.13 99.8611 Q144.075 95.2546 144.075 86.5278 Q144.075 77.7779 147.13 73.1946 Q150.209 68.5881 156.019 68.5881 Z\" fill=\"#000000\" fill-rule=\"evenodd\" fill-opacity=\"1\" /><path clip-path=\"url(#clip480)\" d=\"M186.181 72.2918 Q182.57 72.2918 180.741 75.8566 Q178.936 79.3982 178.936 86.5278 Q178.936 93.6343 180.741 97.1991 Q182.57 100.741 186.181 100.741 Q189.815 100.741 191.621 97.1991 Q193.45 93.6343 193.45 86.5278 Q193.45 79.3982 191.621 75.8566 Q189.815 72.2918 186.181 72.2918 M186.181 68.5881 Q191.991 68.5881 195.047 73.1946 Q198.125 77.7779 198.125 86.5278 Q198.125 95.2546 195.047 99.8611 Q191.991 104.444 186.181 104.444 Q180.371 104.444 177.292 99.8611 Q174.237 95.2546 174.237 86.5278 Q174.237 77.7779 177.292 73.1946 Q180.371 68.5881 186.181 68.5881 Z\" fill=\"#000000\" fill-rule=\"evenodd\" fill-opacity=\"1\" /><path clip-path=\"url(#clip480)\" d=\"M16.4842 750.521 L16.4842 720.475 L21.895 720.475 L21.895 744.092 L35.9632 744.092 L35.9632 721.462 L41.3741 721.462 L41.3741 744.092 L58.5933 744.092 L58.5933 719.902 L64.0042 719.902 L64.0042 750.521 L16.4842 750.521 Z\" fill=\"#000000\" fill-rule=\"evenodd\" fill-opacity=\"1\" /><circle clip-path=\"url(#clip482)\" cx=\"294.087\" cy=\"1384.24\" r=\"18\" fill=\"#009af9\" fill-rule=\"evenodd\" fill-opacity=\"1\" stroke=\"#000000\" stroke-opacity=\"1\" stroke-width=\"3.2\"/>\n",
       "<circle clip-path=\"url(#clip482)\" cx=\"334.877\" cy=\"1384.06\" r=\"18\" fill=\"#009af9\" fill-rule=\"evenodd\" fill-opacity=\"1\" stroke=\"#000000\" stroke-opacity=\"1\" stroke-width=\"3.2\"/>\n",
       "<circle clip-path=\"url(#clip482)\" cx=\"375.667\" cy=\"1382.4\" r=\"18\" fill=\"#009af9\" fill-rule=\"evenodd\" fill-opacity=\"1\" stroke=\"#000000\" stroke-opacity=\"1\" stroke-width=\"3.2\"/>\n",
       "<circle clip-path=\"url(#clip482)\" cx=\"416.457\" cy=\"1382.35\" r=\"18\" fill=\"#009af9\" fill-rule=\"evenodd\" fill-opacity=\"1\" stroke=\"#000000\" stroke-opacity=\"1\" stroke-width=\"3.2\"/>\n",
       "<circle clip-path=\"url(#clip482)\" cx=\"457.247\" cy=\"1382.35\" r=\"18\" fill=\"#009af9\" fill-rule=\"evenodd\" fill-opacity=\"1\" stroke=\"#000000\" stroke-opacity=\"1\" stroke-width=\"3.2\"/>\n",
       "<circle clip-path=\"url(#clip482)\" cx=\"498.036\" cy=\"1382.2\" r=\"18\" fill=\"#009af9\" fill-rule=\"evenodd\" fill-opacity=\"1\" stroke=\"#000000\" stroke-opacity=\"1\" stroke-width=\"3.2\"/>\n",
       "<circle clip-path=\"url(#clip482)\" cx=\"538.826\" cy=\"1382.2\" r=\"18\" fill=\"#009af9\" fill-rule=\"evenodd\" fill-opacity=\"1\" stroke=\"#000000\" stroke-opacity=\"1\" stroke-width=\"3.2\"/>\n",
       "<circle clip-path=\"url(#clip482)\" cx=\"579.616\" cy=\"1382.05\" r=\"18\" fill=\"#009af9\" fill-rule=\"evenodd\" fill-opacity=\"1\" stroke=\"#000000\" stroke-opacity=\"1\" stroke-width=\"3.2\"/>\n",
       "<circle clip-path=\"url(#clip482)\" cx=\"620.406\" cy=\"1381.97\" r=\"18\" fill=\"#009af9\" fill-rule=\"evenodd\" fill-opacity=\"1\" stroke=\"#000000\" stroke-opacity=\"1\" stroke-width=\"3.2\"/>\n",
       "<circle clip-path=\"url(#clip482)\" cx=\"661.196\" cy=\"1381.97\" r=\"18\" fill=\"#009af9\" fill-rule=\"evenodd\" fill-opacity=\"1\" stroke=\"#000000\" stroke-opacity=\"1\" stroke-width=\"3.2\"/>\n",
       "<circle clip-path=\"url(#clip482)\" cx=\"701.986\" cy=\"1381.82\" r=\"18\" fill=\"#009af9\" fill-rule=\"evenodd\" fill-opacity=\"1\" stroke=\"#000000\" stroke-opacity=\"1\" stroke-width=\"3.2\"/>\n",
       "<circle clip-path=\"url(#clip482)\" cx=\"742.776\" cy=\"1381.82\" r=\"18\" fill=\"#009af9\" fill-rule=\"evenodd\" fill-opacity=\"1\" stroke=\"#000000\" stroke-opacity=\"1\" stroke-width=\"3.2\"/>\n",
       "<circle clip-path=\"url(#clip482)\" cx=\"783.566\" cy=\"1381.59\" r=\"18\" fill=\"#009af9\" fill-rule=\"evenodd\" fill-opacity=\"1\" stroke=\"#000000\" stroke-opacity=\"1\" stroke-width=\"3.2\"/>\n",
       "<circle clip-path=\"url(#clip482)\" cx=\"824.356\" cy=\"1381.59\" r=\"18\" fill=\"#009af9\" fill-rule=\"evenodd\" fill-opacity=\"1\" stroke=\"#000000\" stroke-opacity=\"1\" stroke-width=\"3.2\"/>\n",
       "<circle clip-path=\"url(#clip482)\" cx=\"865.146\" cy=\"1381.27\" r=\"18\" fill=\"#009af9\" fill-rule=\"evenodd\" fill-opacity=\"1\" stroke=\"#000000\" stroke-opacity=\"1\" stroke-width=\"3.2\"/>\n",
       "<circle clip-path=\"url(#clip482)\" cx=\"905.936\" cy=\"1381.27\" r=\"18\" fill=\"#009af9\" fill-rule=\"evenodd\" fill-opacity=\"1\" stroke=\"#000000\" stroke-opacity=\"1\" stroke-width=\"3.2\"/>\n",
       "<circle clip-path=\"url(#clip482)\" cx=\"946.726\" cy=\"1380.72\" r=\"18\" fill=\"#009af9\" fill-rule=\"evenodd\" fill-opacity=\"1\" stroke=\"#000000\" stroke-opacity=\"1\" stroke-width=\"3.2\"/>\n",
       "<circle clip-path=\"url(#clip482)\" cx=\"987.516\" cy=\"1380.37\" r=\"18\" fill=\"#009af9\" fill-rule=\"evenodd\" fill-opacity=\"1\" stroke=\"#000000\" stroke-opacity=\"1\" stroke-width=\"3.2\"/>\n",
       "<circle clip-path=\"url(#clip482)\" cx=\"1028.31\" cy=\"1380.35\" r=\"18\" fill=\"#009af9\" fill-rule=\"evenodd\" fill-opacity=\"1\" stroke=\"#000000\" stroke-opacity=\"1\" stroke-width=\"3.2\"/>\n",
       "<circle clip-path=\"url(#clip482)\" cx=\"1069.1\" cy=\"1380.35\" r=\"18\" fill=\"#009af9\" fill-rule=\"evenodd\" fill-opacity=\"1\" stroke=\"#000000\" stroke-opacity=\"1\" stroke-width=\"3.2\"/>\n",
       "<circle clip-path=\"url(#clip482)\" cx=\"1109.89\" cy=\"1379.71\" r=\"18\" fill=\"#009af9\" fill-rule=\"evenodd\" fill-opacity=\"1\" stroke=\"#000000\" stroke-opacity=\"1\" stroke-width=\"3.2\"/>\n",
       "<circle clip-path=\"url(#clip482)\" cx=\"1150.68\" cy=\"1379.71\" r=\"18\" fill=\"#009af9\" fill-rule=\"evenodd\" fill-opacity=\"1\" stroke=\"#000000\" stroke-opacity=\"1\" stroke-width=\"3.2\"/>\n",
       "<circle clip-path=\"url(#clip482)\" cx=\"1191.47\" cy=\"1379.61\" r=\"18\" fill=\"#009af9\" fill-rule=\"evenodd\" fill-opacity=\"1\" stroke=\"#000000\" stroke-opacity=\"1\" stroke-width=\"3.2\"/>\n",
       "<circle clip-path=\"url(#clip482)\" cx=\"1232.26\" cy=\"1379.17\" r=\"18\" fill=\"#009af9\" fill-rule=\"evenodd\" fill-opacity=\"1\" stroke=\"#000000\" stroke-opacity=\"1\" stroke-width=\"3.2\"/>\n",
       "<circle clip-path=\"url(#clip482)\" cx=\"1273.05\" cy=\"1379.17\" r=\"18\" fill=\"#009af9\" fill-rule=\"evenodd\" fill-opacity=\"1\" stroke=\"#000000\" stroke-opacity=\"1\" stroke-width=\"3.2\"/>\n",
       "<circle clip-path=\"url(#clip482)\" cx=\"1313.84\" cy=\"1379.07\" r=\"18\" fill=\"#009af9\" fill-rule=\"evenodd\" fill-opacity=\"1\" stroke=\"#000000\" stroke-opacity=\"1\" stroke-width=\"3.2\"/>\n",
       "<circle clip-path=\"url(#clip482)\" cx=\"1354.63\" cy=\"1379.07\" r=\"18\" fill=\"#009af9\" fill-rule=\"evenodd\" fill-opacity=\"1\" stroke=\"#000000\" stroke-opacity=\"1\" stroke-width=\"3.2\"/>\n",
       "<circle clip-path=\"url(#clip482)\" cx=\"1395.42\" cy=\"1378.71\" r=\"18\" fill=\"#009af9\" fill-rule=\"evenodd\" fill-opacity=\"1\" stroke=\"#000000\" stroke-opacity=\"1\" stroke-width=\"3.2\"/>\n",
       "<circle clip-path=\"url(#clip482)\" cx=\"1436.21\" cy=\"1377.91\" r=\"18\" fill=\"#009af9\" fill-rule=\"evenodd\" fill-opacity=\"1\" stroke=\"#000000\" stroke-opacity=\"1\" stroke-width=\"3.2\"/>\n",
       "<circle clip-path=\"url(#clip482)\" cx=\"1477\" cy=\"1377.91\" r=\"18\" fill=\"#009af9\" fill-rule=\"evenodd\" fill-opacity=\"1\" stroke=\"#000000\" stroke-opacity=\"1\" stroke-width=\"3.2\"/>\n",
       "<circle clip-path=\"url(#clip482)\" cx=\"1517.79\" cy=\"1377.6\" r=\"18\" fill=\"#009af9\" fill-rule=\"evenodd\" fill-opacity=\"1\" stroke=\"#000000\" stroke-opacity=\"1\" stroke-width=\"3.2\"/>\n",
       "<circle clip-path=\"url(#clip482)\" cx=\"1558.58\" cy=\"1377.52\" r=\"18\" fill=\"#009af9\" fill-rule=\"evenodd\" fill-opacity=\"1\" stroke=\"#000000\" stroke-opacity=\"1\" stroke-width=\"3.2\"/>\n",
       "<circle clip-path=\"url(#clip482)\" cx=\"1599.37\" cy=\"1377.14\" r=\"18\" fill=\"#009af9\" fill-rule=\"evenodd\" fill-opacity=\"1\" stroke=\"#000000\" stroke-opacity=\"1\" stroke-width=\"3.2\"/>\n",
       "<circle clip-path=\"url(#clip482)\" cx=\"1640.16\" cy=\"1377\" r=\"18\" fill=\"#009af9\" fill-rule=\"evenodd\" fill-opacity=\"1\" stroke=\"#000000\" stroke-opacity=\"1\" stroke-width=\"3.2\"/>\n",
       "<circle clip-path=\"url(#clip482)\" cx=\"1680.95\" cy=\"1377\" r=\"18\" fill=\"#009af9\" fill-rule=\"evenodd\" fill-opacity=\"1\" stroke=\"#000000\" stroke-opacity=\"1\" stroke-width=\"3.2\"/>\n",
       "<circle clip-path=\"url(#clip482)\" cx=\"1721.74\" cy=\"1376.9\" r=\"18\" fill=\"#009af9\" fill-rule=\"evenodd\" fill-opacity=\"1\" stroke=\"#000000\" stroke-opacity=\"1\" stroke-width=\"3.2\"/>\n",
       "<circle clip-path=\"url(#clip482)\" cx=\"1762.53\" cy=\"1376.9\" r=\"18\" fill=\"#009af9\" fill-rule=\"evenodd\" fill-opacity=\"1\" stroke=\"#000000\" stroke-opacity=\"1\" stroke-width=\"3.2\"/>\n",
       "<circle clip-path=\"url(#clip482)\" cx=\"1803.32\" cy=\"1376.62\" r=\"18\" fill=\"#009af9\" fill-rule=\"evenodd\" fill-opacity=\"1\" stroke=\"#000000\" stroke-opacity=\"1\" stroke-width=\"3.2\"/>\n",
       "<circle clip-path=\"url(#clip482)\" cx=\"1844.11\" cy=\"1376.62\" r=\"18\" fill=\"#009af9\" fill-rule=\"evenodd\" fill-opacity=\"1\" stroke=\"#000000\" stroke-opacity=\"1\" stroke-width=\"3.2\"/>\n",
       "<circle clip-path=\"url(#clip482)\" cx=\"1884.9\" cy=\"1376.41\" r=\"18\" fill=\"#009af9\" fill-rule=\"evenodd\" fill-opacity=\"1\" stroke=\"#000000\" stroke-opacity=\"1\" stroke-width=\"3.2\"/>\n",
       "<circle clip-path=\"url(#clip482)\" cx=\"1925.69\" cy=\"1376.24\" r=\"18\" fill=\"#009af9\" fill-rule=\"evenodd\" fill-opacity=\"1\" stroke=\"#000000\" stroke-opacity=\"1\" stroke-width=\"3.2\"/>\n",
       "<circle clip-path=\"url(#clip482)\" cx=\"1966.47\" cy=\"1375.51\" r=\"18\" fill=\"#009af9\" fill-rule=\"evenodd\" fill-opacity=\"1\" stroke=\"#000000\" stroke-opacity=\"1\" stroke-width=\"3.2\"/>\n",
       "<circle clip-path=\"url(#clip482)\" cx=\"2007.26\" cy=\"1375.51\" r=\"18\" fill=\"#009af9\" fill-rule=\"evenodd\" fill-opacity=\"1\" stroke=\"#000000\" stroke-opacity=\"1\" stroke-width=\"3.2\"/>\n",
       "<circle clip-path=\"url(#clip482)\" cx=\"2048.05\" cy=\"1375.2\" r=\"18\" fill=\"#009af9\" fill-rule=\"evenodd\" fill-opacity=\"1\" stroke=\"#000000\" stroke-opacity=\"1\" stroke-width=\"3.2\"/>\n",
       "<circle clip-path=\"url(#clip482)\" cx=\"2088.84\" cy=\"1375.01\" r=\"18\" fill=\"#009af9\" fill-rule=\"evenodd\" fill-opacity=\"1\" stroke=\"#000000\" stroke-opacity=\"1\" stroke-width=\"3.2\"/>\n",
       "<circle clip-path=\"url(#clip482)\" cx=\"2129.63\" cy=\"1374.99\" r=\"18\" fill=\"#009af9\" fill-rule=\"evenodd\" fill-opacity=\"1\" stroke=\"#000000\" stroke-opacity=\"1\" stroke-width=\"3.2\"/>\n",
       "<circle clip-path=\"url(#clip482)\" cx=\"2170.42\" cy=\"1374.73\" r=\"18\" fill=\"#009af9\" fill-rule=\"evenodd\" fill-opacity=\"1\" stroke=\"#000000\" stroke-opacity=\"1\" stroke-width=\"3.2\"/>\n",
       "<circle clip-path=\"url(#clip482)\" cx=\"2211.21\" cy=\"1374.73\" r=\"18\" fill=\"#009af9\" fill-rule=\"evenodd\" fill-opacity=\"1\" stroke=\"#000000\" stroke-opacity=\"1\" stroke-width=\"3.2\"/>\n",
       "<circle clip-path=\"url(#clip482)\" cx=\"2252\" cy=\"1374.48\" r=\"18\" fill=\"#009af9\" fill-rule=\"evenodd\" fill-opacity=\"1\" stroke=\"#000000\" stroke-opacity=\"1\" stroke-width=\"3.2\"/>\n",
       "<circle clip-path=\"url(#clip482)\" cx=\"2292.79\" cy=\"1374.48\" r=\"18\" fill=\"#009af9\" fill-rule=\"evenodd\" fill-opacity=\"1\" stroke=\"#000000\" stroke-opacity=\"1\" stroke-width=\"3.2\"/>\n",
       "</svg>\n"
      ]
     },
     "execution_count": 18,
     "metadata": {},
     "output_type": "execute_result"
    }
   ],
   "source": [
    "plot(1:length(E1[1:50]), E1, seriestype = :scatter, markersize = 5, legend=false, xlabel=\"n\", ylabel=\"E\")"
   ]
  },
  {
   "cell_type": "code",
   "execution_count": 22,
   "id": "1f99b004",
   "metadata": {
    "tags": []
   },
   "outputs": [
    {
     "data": {
      "image/svg+xml": [
       "<?xml version=\"1.0\" encoding=\"utf-8\"?>\n",
       "<svg xmlns=\"http://www.w3.org/2000/svg\" xmlns:xlink=\"http://www.w3.org/1999/xlink\" width=\"600\" height=\"400\" viewBox=\"0 0 2400 1600\">\n",
       "<defs>\n",
       "  <clipPath id=\"clip640\">\n",
       "    <rect x=\"0\" y=\"0\" width=\"2400\" height=\"1600\"/>\n",
       "  </clipPath>\n",
       "</defs>\n",
       "<path clip-path=\"url(#clip640)\" d=\"\n",
       "M0 1600 L2400 1600 L2400 0 L0 0  Z\n",
       "  \" fill=\"#ffffff\" fill-rule=\"evenodd\" fill-opacity=\"1\"/>\n",
       "<defs>\n",
       "  <clipPath id=\"clip641\">\n",
       "    <rect x=\"480\" y=\"0\" width=\"1681\" height=\"1600\"/>\n",
       "  </clipPath>\n",
       "</defs>\n",
       "<path clip-path=\"url(#clip640)\" d=\"\n",
       "M170.857 1486.45 L2352.76 1486.45 L2352.76 123.472 L170.857 123.472  Z\n",
       "  \" fill=\"#ffffff\" fill-rule=\"evenodd\" fill-opacity=\"1\"/>\n",
       "<defs>\n",
       "  <clipPath id=\"clip642\">\n",
       "    <rect x=\"170\" y=\"123\" width=\"2183\" height=\"1364\"/>\n",
       "  </clipPath>\n",
       "</defs>\n",
       "<polyline clip-path=\"url(#clip642)\" style=\"stroke:#000000; stroke-linecap:round; stroke-linejoin:round; stroke-width:2; stroke-opacity:0.1; fill:none\" points=\"\n",
       "  665.956,1486.45 665.956,123.472 \n",
       "  \"/>\n",
       "<polyline clip-path=\"url(#clip642)\" style=\"stroke:#000000; stroke-linecap:round; stroke-linejoin:round; stroke-width:2; stroke-opacity:0.1; fill:none\" points=\"\n",
       "  1207.64,1486.45 1207.64,123.472 \n",
       "  \"/>\n",
       "<polyline clip-path=\"url(#clip642)\" style=\"stroke:#000000; stroke-linecap:round; stroke-linejoin:round; stroke-width:2; stroke-opacity:0.1; fill:none\" points=\"\n",
       "  1749.32,1486.45 1749.32,123.472 \n",
       "  \"/>\n",
       "<polyline clip-path=\"url(#clip642)\" style=\"stroke:#000000; stroke-linecap:round; stroke-linejoin:round; stroke-width:2; stroke-opacity:0.1; fill:none\" points=\"\n",
       "  2291,1486.45 2291,123.472 \n",
       "  \"/>\n",
       "<polyline clip-path=\"url(#clip640)\" style=\"stroke:#000000; stroke-linecap:round; stroke-linejoin:round; stroke-width:4; stroke-opacity:1; fill:none\" points=\"\n",
       "  170.857,1486.45 2352.76,1486.45 \n",
       "  \"/>\n",
       "<polyline clip-path=\"url(#clip640)\" style=\"stroke:#000000; stroke-linecap:round; stroke-linejoin:round; stroke-width:4; stroke-opacity:1; fill:none\" points=\"\n",
       "  665.956,1486.45 665.956,1467.55 \n",
       "  \"/>\n",
       "<polyline clip-path=\"url(#clip640)\" style=\"stroke:#000000; stroke-linecap:round; stroke-linejoin:round; stroke-width:4; stroke-opacity:1; fill:none\" points=\"\n",
       "  1207.64,1486.45 1207.64,1467.55 \n",
       "  \"/>\n",
       "<polyline clip-path=\"url(#clip640)\" style=\"stroke:#000000; stroke-linecap:round; stroke-linejoin:round; stroke-width:4; stroke-opacity:1; fill:none\" points=\"\n",
       "  1749.32,1486.45 1749.32,1467.55 \n",
       "  \"/>\n",
       "<polyline clip-path=\"url(#clip640)\" style=\"stroke:#000000; stroke-linecap:round; stroke-linejoin:round; stroke-width:4; stroke-opacity:1; fill:none\" points=\"\n",
       "  2291,1486.45 2291,1467.55 \n",
       "  \"/>\n",
       "<path clip-path=\"url(#clip640)\" d=\"M656.233 1514.29 L674.59 1514.29 L674.59 1518.22 L660.516 1518.22 L660.516 1526.7 Q661.534 1526.35 662.553 1526.19 Q663.571 1526 664.59 1526 Q670.377 1526 673.756 1529.17 Q677.136 1532.34 677.136 1537.76 Q677.136 1543.34 673.664 1546.44 Q670.192 1549.52 663.872 1549.52 Q661.696 1549.52 659.428 1549.15 Q657.182 1548.78 654.775 1548.04 L654.775 1543.34 Q656.858 1544.47 659.081 1545.03 Q661.303 1545.58 663.78 1545.58 Q667.784 1545.58 670.122 1543.48 Q672.46 1541.37 672.46 1537.76 Q672.46 1534.15 670.122 1532.04 Q667.784 1529.94 663.78 1529.94 Q661.905 1529.94 660.03 1530.35 Q658.178 1530.77 656.233 1531.65 L656.233 1514.29 Z\" fill=\"#000000\" fill-rule=\"evenodd\" fill-opacity=\"1\" /><path clip-path=\"url(#clip640)\" d=\"M1182.33 1544.91 L1189.96 1544.91 L1189.96 1518.55 L1181.65 1520.21 L1181.65 1515.95 L1189.92 1514.29 L1194.59 1514.29 L1194.59 1544.91 L1202.23 1544.91 L1202.23 1548.85 L1182.33 1548.85 L1182.33 1544.91 Z\" fill=\"#000000\" fill-rule=\"evenodd\" fill-opacity=\"1\" /><path clip-path=\"url(#clip640)\" d=\"M1221.68 1517.37 Q1218.07 1517.37 1216.24 1520.93 Q1214.43 1524.47 1214.43 1531.6 Q1214.43 1538.71 1216.24 1542.27 Q1218.07 1545.82 1221.68 1545.82 Q1225.31 1545.82 1227.12 1542.27 Q1228.95 1538.71 1228.95 1531.6 Q1228.95 1524.47 1227.12 1520.93 Q1225.31 1517.37 1221.68 1517.37 M1221.68 1513.66 Q1227.49 1513.66 1230.54 1518.27 Q1233.62 1522.85 1233.62 1531.6 Q1233.62 1540.33 1230.54 1544.94 Q1227.49 1549.52 1221.68 1549.52 Q1215.87 1549.52 1212.79 1544.94 Q1209.73 1540.33 1209.73 1531.6 Q1209.73 1522.85 1212.79 1518.27 Q1215.87 1513.66 1221.68 1513.66 Z\" fill=\"#000000\" fill-rule=\"evenodd\" fill-opacity=\"1\" /><path clip-path=\"url(#clip640)\" d=\"M1724.51 1544.91 L1732.15 1544.91 L1732.15 1518.55 L1723.84 1520.21 L1723.84 1515.95 L1732.1 1514.29 L1736.77 1514.29 L1736.77 1544.91 L1744.41 1544.91 L1744.41 1548.85 L1724.51 1548.85 L1724.51 1544.91 Z\" fill=\"#000000\" fill-rule=\"evenodd\" fill-opacity=\"1\" /><path clip-path=\"url(#clip640)\" d=\"M1753.9 1514.29 L1772.26 1514.29 L1772.26 1518.22 L1758.19 1518.22 L1758.19 1526.7 Q1759.21 1526.35 1760.22 1526.19 Q1761.24 1526 1762.26 1526 Q1768.05 1526 1771.43 1529.17 Q1774.81 1532.34 1774.81 1537.76 Q1774.81 1543.34 1771.33 1546.44 Q1767.86 1549.52 1761.54 1549.52 Q1759.37 1549.52 1757.1 1549.15 Q1754.85 1548.78 1752.45 1548.04 L1752.45 1543.34 Q1754.53 1544.47 1756.75 1545.03 Q1758.97 1545.58 1761.45 1545.58 Q1765.46 1545.58 1767.79 1543.48 Q1770.13 1541.37 1770.13 1537.76 Q1770.13 1534.15 1767.79 1532.04 Q1765.46 1529.94 1761.45 1529.94 Q1759.58 1529.94 1757.7 1530.35 Q1755.85 1530.77 1753.9 1531.65 L1753.9 1514.29 Z\" fill=\"#000000\" fill-rule=\"evenodd\" fill-opacity=\"1\" /><path clip-path=\"url(#clip640)\" d=\"M2269.78 1544.91 L2286.1 1544.91 L2286.1 1548.85 L2264.15 1548.85 L2264.15 1544.91 Q2266.81 1542.16 2271.4 1537.53 Q2276 1532.88 2277.18 1531.53 Q2279.43 1529.01 2280.31 1527.27 Q2281.21 1525.51 2281.21 1523.82 Q2281.21 1521.07 2279.27 1519.33 Q2277.35 1517.6 2274.24 1517.6 Q2272.05 1517.6 2269.59 1518.36 Q2267.16 1519.13 2264.38 1520.68 L2264.38 1515.95 Q2267.21 1514.82 2269.66 1514.24 Q2272.12 1513.66 2274.15 1513.66 Q2279.52 1513.66 2282.72 1516.35 Q2285.91 1519.03 2285.91 1523.52 Q2285.91 1525.65 2285.1 1527.57 Q2284.31 1529.47 2282.21 1532.07 Q2281.63 1532.74 2278.53 1535.95 Q2275.43 1539.15 2269.78 1544.91 Z\" fill=\"#000000\" fill-rule=\"evenodd\" fill-opacity=\"1\" /><path clip-path=\"url(#clip640)\" d=\"M2305.91 1517.37 Q2302.3 1517.37 2300.47 1520.93 Q2298.67 1524.47 2298.67 1531.6 Q2298.67 1538.71 2300.47 1542.27 Q2302.3 1545.82 2305.91 1545.82 Q2309.55 1545.82 2311.35 1542.27 Q2313.18 1538.71 2313.18 1531.6 Q2313.18 1524.47 2311.35 1520.93 Q2309.55 1517.37 2305.91 1517.37 M2305.91 1513.66 Q2311.72 1513.66 2314.78 1518.27 Q2317.86 1522.85 2317.86 1531.6 Q2317.86 1540.33 2314.78 1544.94 Q2311.72 1549.52 2305.91 1549.52 Q2300.1 1549.52 2297.02 1544.94 Q2293.97 1540.33 2293.97 1531.6 Q2293.97 1522.85 2297.02 1518.27 Q2300.1 1513.66 2305.91 1513.66 Z\" fill=\"#000000\" fill-rule=\"evenodd\" fill-opacity=\"1\" /><polyline clip-path=\"url(#clip642)\" style=\"stroke:#000000; stroke-linecap:round; stroke-linejoin:round; stroke-width:2; stroke-opacity:0.1; fill:none\" points=\"\n",
       "  170.857,1413.13 2352.76,1413.13 \n",
       "  \"/>\n",
       "<polyline clip-path=\"url(#clip642)\" style=\"stroke:#000000; stroke-linecap:round; stroke-linejoin:round; stroke-width:2; stroke-opacity:0.1; fill:none\" points=\"\n",
       "  170.857,996.202 2352.76,996.202 \n",
       "  \"/>\n",
       "<polyline clip-path=\"url(#clip642)\" style=\"stroke:#000000; stroke-linecap:round; stroke-linejoin:round; stroke-width:2; stroke-opacity:0.1; fill:none\" points=\"\n",
       "  170.857,579.277 2352.76,579.277 \n",
       "  \"/>\n",
       "<polyline clip-path=\"url(#clip642)\" style=\"stroke:#000000; stroke-linecap:round; stroke-linejoin:round; stroke-width:2; stroke-opacity:0.1; fill:none\" points=\"\n",
       "  170.857,162.351 2352.76,162.351 \n",
       "  \"/>\n",
       "<polyline clip-path=\"url(#clip640)\" style=\"stroke:#000000; stroke-linecap:round; stroke-linejoin:round; stroke-width:4; stroke-opacity:1; fill:none\" points=\"\n",
       "  170.857,1486.45 170.857,123.472 \n",
       "  \"/>\n",
       "<polyline clip-path=\"url(#clip640)\" style=\"stroke:#000000; stroke-linecap:round; stroke-linejoin:round; stroke-width:4; stroke-opacity:1; fill:none\" points=\"\n",
       "  170.857,1413.13 189.755,1413.13 \n",
       "  \"/>\n",
       "<polyline clip-path=\"url(#clip640)\" style=\"stroke:#000000; stroke-linecap:round; stroke-linejoin:round; stroke-width:4; stroke-opacity:1; fill:none\" points=\"\n",
       "  170.857,996.202 189.755,996.202 \n",
       "  \"/>\n",
       "<polyline clip-path=\"url(#clip640)\" style=\"stroke:#000000; stroke-linecap:round; stroke-linejoin:round; stroke-width:4; stroke-opacity:1; fill:none\" points=\"\n",
       "  170.857,579.277 189.755,579.277 \n",
       "  \"/>\n",
       "<polyline clip-path=\"url(#clip640)\" style=\"stroke:#000000; stroke-linecap:round; stroke-linejoin:round; stroke-width:4; stroke-opacity:1; fill:none\" points=\"\n",
       "  170.857,162.351 189.755,162.351 \n",
       "  \"/>\n",
       "<path clip-path=\"url(#clip640)\" d=\"M122.913 1398.93 Q119.302 1398.93 117.473 1402.49 Q115.668 1406.03 115.668 1413.16 Q115.668 1420.27 117.473 1423.83 Q119.302 1427.37 122.913 1427.37 Q126.547 1427.37 128.353 1423.83 Q130.182 1420.27 130.182 1413.16 Q130.182 1406.03 128.353 1402.49 Q126.547 1398.93 122.913 1398.93 M122.913 1395.22 Q128.723 1395.22 131.779 1399.83 Q134.857 1404.41 134.857 1413.16 Q134.857 1421.89 131.779 1426.49 Q128.723 1431.08 122.913 1431.08 Q117.103 1431.08 114.024 1426.49 Q110.969 1421.89 110.969 1413.16 Q110.969 1404.41 114.024 1399.83 Q117.103 1395.22 122.913 1395.22 Z\" fill=\"#000000\" fill-rule=\"evenodd\" fill-opacity=\"1\" /><path clip-path=\"url(#clip640)\" d=\"M53.3995 1009.55 L61.0384 1009.55 L61.0384 983.181 L52.7282 984.848 L52.7282 980.588 L60.9921 978.922 L65.668 978.922 L65.668 1009.55 L73.3068 1009.55 L73.3068 1013.48 L53.3995 1013.48 L53.3995 1009.55 Z\" fill=\"#000000\" fill-rule=\"evenodd\" fill-opacity=\"1\" /><path clip-path=\"url(#clip640)\" d=\"M92.7512 982 Q89.1401 982 87.3114 985.565 Q85.5058 989.107 85.5058 996.237 Q85.5058 1003.34 87.3114 1006.91 Q89.1401 1010.45 92.7512 1010.45 Q96.3854 1010.45 98.1909 1006.91 Q100.02 1003.34 100.02 996.237 Q100.02 989.107 98.1909 985.565 Q96.3854 982 92.7512 982 M92.7512 978.297 Q98.5613 978.297 101.617 982.903 Q104.696 987.487 104.696 996.237 Q104.696 1004.96 101.617 1009.57 Q98.5613 1014.15 92.7512 1014.15 Q86.941 1014.15 83.8623 1009.57 Q80.8068 1004.96 80.8068 996.237 Q80.8068 987.487 83.8623 982.903 Q86.941 978.297 92.7512 978.297 Z\" fill=\"#000000\" fill-rule=\"evenodd\" fill-opacity=\"1\" /><path clip-path=\"url(#clip640)\" d=\"M122.913 982 Q119.302 982 117.473 985.565 Q115.668 989.107 115.668 996.237 Q115.668 1003.34 117.473 1006.91 Q119.302 1010.45 122.913 1010.45 Q126.547 1010.45 128.353 1006.91 Q130.182 1003.34 130.182 996.237 Q130.182 989.107 128.353 985.565 Q126.547 982 122.913 982 M122.913 978.297 Q128.723 978.297 131.779 982.903 Q134.857 987.487 134.857 996.237 Q134.857 1004.96 131.779 1009.57 Q128.723 1014.15 122.913 1014.15 Q117.103 1014.15 114.024 1009.57 Q110.969 1004.96 110.969 996.237 Q110.969 987.487 114.024 982.903 Q117.103 978.297 122.913 978.297 Z\" fill=\"#000000\" fill-rule=\"evenodd\" fill-opacity=\"1\" /><path clip-path=\"url(#clip640)\" d=\"M56.6171 592.621 L72.9365 592.621 L72.9365 596.557 L50.9921 596.557 L50.9921 592.621 Q53.6541 589.867 58.2375 585.237 Q62.8439 580.584 64.0245 579.242 Q66.2698 576.719 67.1494 574.983 Q68.0522 573.223 68.0522 571.534 Q68.0522 568.779 66.1078 567.043 Q64.1865 565.307 61.0847 565.307 Q58.8856 565.307 56.4319 566.071 Q54.0014 566.835 51.2236 568.385 L51.2236 563.663 Q54.0477 562.529 56.5014 561.95 Q58.955 561.372 60.9921 561.372 Q66.3624 561.372 69.5568 564.057 Q72.7513 566.742 72.7513 571.233 Q72.7513 573.362 71.9411 575.284 Q71.1541 577.182 69.0476 579.774 Q68.4689 580.446 65.367 583.663 Q62.2652 586.858 56.6171 592.621 Z\" fill=\"#000000\" fill-rule=\"evenodd\" fill-opacity=\"1\" /><path clip-path=\"url(#clip640)\" d=\"M92.7512 565.075 Q89.1401 565.075 87.3114 568.64 Q85.5058 572.182 85.5058 579.311 Q85.5058 586.418 87.3114 589.983 Q89.1401 593.524 92.7512 593.524 Q96.3854 593.524 98.1909 589.983 Q100.02 586.418 100.02 579.311 Q100.02 572.182 98.1909 568.64 Q96.3854 565.075 92.7512 565.075 M92.7512 561.372 Q98.5613 561.372 101.617 565.978 Q104.696 570.561 104.696 579.311 Q104.696 588.038 101.617 592.645 Q98.5613 597.228 92.7512 597.228 Q86.941 597.228 83.8623 592.645 Q80.8068 588.038 80.8068 579.311 Q80.8068 570.561 83.8623 565.978 Q86.941 561.372 92.7512 561.372 Z\" fill=\"#000000\" fill-rule=\"evenodd\" fill-opacity=\"1\" /><path clip-path=\"url(#clip640)\" d=\"M122.913 565.075 Q119.302 565.075 117.473 568.64 Q115.668 572.182 115.668 579.311 Q115.668 586.418 117.473 589.983 Q119.302 593.524 122.913 593.524 Q126.547 593.524 128.353 589.983 Q130.182 586.418 130.182 579.311 Q130.182 572.182 128.353 568.64 Q126.547 565.075 122.913 565.075 M122.913 561.372 Q128.723 561.372 131.779 565.978 Q134.857 570.561 134.857 579.311 Q134.857 588.038 131.779 592.645 Q128.723 597.228 122.913 597.228 Q117.103 597.228 114.024 592.645 Q110.969 588.038 110.969 579.311 Q110.969 570.561 114.024 565.978 Q117.103 561.372 122.913 561.372 Z\" fill=\"#000000\" fill-rule=\"evenodd\" fill-opacity=\"1\" /><path clip-path=\"url(#clip640)\" d=\"M66.7559 160.997 Q70.1124 161.715 71.9874 163.983 Q73.8855 166.252 73.8855 169.585 Q73.8855 174.701 70.367 177.502 Q66.8485 180.303 60.3671 180.303 Q58.1912 180.303 55.8764 179.863 Q53.5847 179.446 51.131 178.59 L51.131 174.076 Q53.0754 175.21 55.3903 175.789 Q57.7051 176.368 60.2282 176.368 Q64.6263 176.368 66.918 174.631 Q69.2328 172.895 69.2328 169.585 Q69.2328 166.53 67.08 164.817 Q64.9504 163.081 61.131 163.081 L57.1032 163.081 L57.1032 159.238 L61.3161 159.238 Q64.7652 159.238 66.5939 157.872 Q68.4226 156.483 68.4226 153.891 Q68.4226 151.229 66.5245 149.817 Q64.6495 148.382 61.131 148.382 Q59.2097 148.382 57.0106 148.798 Q54.8115 149.215 52.1727 150.095 L52.1727 145.928 Q54.8347 145.187 57.1495 144.817 Q59.4875 144.446 61.5476 144.446 Q66.8717 144.446 69.9735 146.877 Q73.0753 149.284 73.0753 153.405 Q73.0753 156.275 71.4318 158.266 Q69.7883 160.233 66.7559 160.997 Z\" fill=\"#000000\" fill-rule=\"evenodd\" fill-opacity=\"1\" /><path clip-path=\"url(#clip640)\" d=\"M92.7512 148.15 Q89.1401 148.15 87.3114 151.715 Q85.5058 155.257 85.5058 162.386 Q85.5058 169.493 87.3114 173.057 Q89.1401 176.599 92.7512 176.599 Q96.3854 176.599 98.1909 173.057 Q100.02 169.493 100.02 162.386 Q100.02 155.257 98.1909 151.715 Q96.3854 148.15 92.7512 148.15 M92.7512 144.446 Q98.5613 144.446 101.617 149.053 Q104.696 153.636 104.696 162.386 Q104.696 171.113 101.617 175.719 Q98.5613 180.303 92.7512 180.303 Q86.941 180.303 83.8623 175.719 Q80.8068 171.113 80.8068 162.386 Q80.8068 153.636 83.8623 149.053 Q86.941 144.446 92.7512 144.446 Z\" fill=\"#000000\" fill-rule=\"evenodd\" fill-opacity=\"1\" /><path clip-path=\"url(#clip640)\" d=\"M122.913 148.15 Q119.302 148.15 117.473 151.715 Q115.668 155.257 115.668 162.386 Q115.668 169.493 117.473 173.057 Q119.302 176.599 122.913 176.599 Q126.547 176.599 128.353 173.057 Q130.182 169.493 130.182 162.386 Q130.182 155.257 128.353 151.715 Q126.547 148.15 122.913 148.15 M122.913 144.446 Q128.723 144.446 131.779 149.053 Q134.857 153.636 134.857 162.386 Q134.857 171.113 131.779 175.719 Q128.723 180.303 122.913 180.303 Q117.103 180.303 114.024 175.719 Q110.969 171.113 110.969 162.386 Q110.969 153.636 114.024 149.053 Q117.103 144.446 122.913 144.446 Z\" fill=\"#000000\" fill-rule=\"evenodd\" fill-opacity=\"1\" /><path clip-path=\"url(#clip640)\" d=\"M1123.87 12.096 L1132.1 12.096 L1132.1 48.8377 Q1132.1 58.5599 1135.62 62.8538 Q1139.15 67.1073 1147.04 67.1073 Q1154.9 67.1073 1158.43 62.8538 Q1161.95 58.5599 1161.95 48.8377 L1161.95 12.096 L1170.18 12.096 L1170.18 49.8504 Q1170.18 61.6791 1164.3 67.7149 Q1158.47 73.7508 1147.04 73.7508 Q1135.58 73.7508 1129.71 67.7149 Q1123.87 61.6791 1123.87 49.8504 L1123.87 12.096 Z\" fill=\"#000000\" fill-rule=\"evenodd\" fill-opacity=\"1\" /><path clip-path=\"url(#clip640)\" d=\"M1186.18 34.9026 L1238.11 34.9026 L1238.11 41.7081 L1186.18 41.7081 L1186.18 34.9026 M1186.18 51.4303 L1238.11 51.4303 L1238.11 58.3168 L1186.18 58.3168 L1186.18 51.4303 Z\" fill=\"#000000\" fill-rule=\"evenodd\" fill-opacity=\"1\" /><path clip-path=\"url(#clip640)\" d=\"M1257.19 65.6895 L1270.56 65.6895 L1270.56 19.5497 L1256.01 22.4663 L1256.01 15.0127 L1270.48 12.096 L1278.66 12.096 L1278.66 65.6895 L1292.03 65.6895 L1292.03 72.576 L1257.19 72.576 L1257.19 65.6895 Z\" fill=\"#000000\" fill-rule=\"evenodd\" fill-opacity=\"1\" /><path clip-path=\"url(#clip640)\" d=\"M1326.05 17.4837 Q1319.73 17.4837 1316.53 23.7221 Q1313.37 29.92 1313.37 42.3968 Q1313.37 54.833 1316.53 61.0714 Q1319.73 67.2693 1326.05 67.2693 Q1332.41 67.2693 1335.57 61.0714 Q1338.77 54.833 1338.77 42.3968 Q1338.77 29.92 1335.57 23.7221 Q1332.41 17.4837 1326.05 17.4837 M1326.05 11.0023 Q1336.22 11.0023 1341.57 19.0636 Q1346.96 27.0843 1346.96 42.3968 Q1346.96 57.6687 1341.57 65.73 Q1336.22 73.7508 1326.05 73.7508 Q1315.89 73.7508 1310.5 65.73 Q1305.15 57.6687 1305.15 42.3968 Q1305.15 27.0843 1310.5 19.0636 Q1315.89 11.0023 1326.05 11.0023 Z\" fill=\"#000000\" fill-rule=\"evenodd\" fill-opacity=\"1\" /><path clip-path=\"url(#clip640)\" d=\"M1378.84 17.4837 Q1372.52 17.4837 1369.32 23.7221 Q1366.16 29.92 1366.16 42.3968 Q1366.16 54.833 1369.32 61.0714 Q1372.52 67.2693 1378.84 67.2693 Q1385.2 67.2693 1388.36 61.0714 Q1391.56 54.833 1391.56 42.3968 Q1391.56 29.92 1388.36 23.7221 Q1385.2 17.4837 1378.84 17.4837 M1378.84 11.0023 Q1389.01 11.0023 1394.35 19.0636 Q1399.74 27.0843 1399.74 42.3968 Q1399.74 57.6687 1394.35 65.73 Q1389.01 73.7508 1378.84 73.7508 Q1368.67 73.7508 1363.28 65.73 Q1357.93 57.6687 1357.93 42.3968 Q1357.93 27.0843 1363.28 19.0636 Q1368.67 11.0023 1378.84 11.0023 Z\" fill=\"#000000\" fill-rule=\"evenodd\" fill-opacity=\"1\" /><circle clip-path=\"url(#clip642)\" cx=\"232.609\" cy=\"1447.87\" r=\"25.2\" fill=\"#009af9\" fill-rule=\"evenodd\" fill-opacity=\"1\" stroke=\"#000000\" stroke-opacity=\"1\" stroke-width=\"3.2\"/>\n",
       "<circle clip-path=\"url(#clip642)\" cx=\"340.946\" cy=\"1447.69\" r=\"25.2\" fill=\"#009af9\" fill-rule=\"evenodd\" fill-opacity=\"1\" stroke=\"#000000\" stroke-opacity=\"1\" stroke-width=\"3.2\"/>\n",
       "<circle clip-path=\"url(#clip642)\" cx=\"449.282\" cy=\"1445.97\" r=\"25.2\" fill=\"#009af9\" fill-rule=\"evenodd\" fill-opacity=\"1\" stroke=\"#000000\" stroke-opacity=\"1\" stroke-width=\"3.2\"/>\n",
       "<circle clip-path=\"url(#clip642)\" cx=\"557.619\" cy=\"1445.93\" r=\"25.2\" fill=\"#009af9\" fill-rule=\"evenodd\" fill-opacity=\"1\" stroke=\"#000000\" stroke-opacity=\"1\" stroke-width=\"3.2\"/>\n",
       "<circle clip-path=\"url(#clip642)\" cx=\"665.956\" cy=\"1445.93\" r=\"25.2\" fill=\"#009af9\" fill-rule=\"evenodd\" fill-opacity=\"1\" stroke=\"#000000\" stroke-opacity=\"1\" stroke-width=\"3.2\"/>\n",
       "<circle clip-path=\"url(#clip642)\" cx=\"774.292\" cy=\"1445.77\" r=\"25.2\" fill=\"#009af9\" fill-rule=\"evenodd\" fill-opacity=\"1\" stroke=\"#000000\" stroke-opacity=\"1\" stroke-width=\"3.2\"/>\n",
       "<circle clip-path=\"url(#clip642)\" cx=\"882.629\" cy=\"1445.77\" r=\"25.2\" fill=\"#009af9\" fill-rule=\"evenodd\" fill-opacity=\"1\" stroke=\"#000000\" stroke-opacity=\"1\" stroke-width=\"3.2\"/>\n",
       "<circle clip-path=\"url(#clip642)\" cx=\"990.965\" cy=\"1445.62\" r=\"25.2\" fill=\"#009af9\" fill-rule=\"evenodd\" fill-opacity=\"1\" stroke=\"#000000\" stroke-opacity=\"1\" stroke-width=\"3.2\"/>\n",
       "<circle clip-path=\"url(#clip642)\" cx=\"1099.3\" cy=\"1445.53\" r=\"25.2\" fill=\"#009af9\" fill-rule=\"evenodd\" fill-opacity=\"1\" stroke=\"#000000\" stroke-opacity=\"1\" stroke-width=\"3.2\"/>\n",
       "<circle clip-path=\"url(#clip642)\" cx=\"1207.64\" cy=\"1445.53\" r=\"25.2\" fill=\"#009af9\" fill-rule=\"evenodd\" fill-opacity=\"1\" stroke=\"#000000\" stroke-opacity=\"1\" stroke-width=\"3.2\"/>\n",
       "<circle clip-path=\"url(#clip642)\" cx=\"1315.97\" cy=\"1445.37\" r=\"25.2\" fill=\"#009af9\" fill-rule=\"evenodd\" fill-opacity=\"1\" stroke=\"#000000\" stroke-opacity=\"1\" stroke-width=\"3.2\"/>\n",
       "<circle clip-path=\"url(#clip642)\" cx=\"1424.31\" cy=\"1445.37\" r=\"25.2\" fill=\"#009af9\" fill-rule=\"evenodd\" fill-opacity=\"1\" stroke=\"#000000\" stroke-opacity=\"1\" stroke-width=\"3.2\"/>\n",
       "<circle clip-path=\"url(#clip642)\" cx=\"1532.65\" cy=\"1445.15\" r=\"25.2\" fill=\"#009af9\" fill-rule=\"evenodd\" fill-opacity=\"1\" stroke=\"#000000\" stroke-opacity=\"1\" stroke-width=\"3.2\"/>\n",
       "<circle clip-path=\"url(#clip642)\" cx=\"1640.98\" cy=\"1445.14\" r=\"25.2\" fill=\"#009af9\" fill-rule=\"evenodd\" fill-opacity=\"1\" stroke=\"#000000\" stroke-opacity=\"1\" stroke-width=\"3.2\"/>\n",
       "<circle clip-path=\"url(#clip642)\" cx=\"1749.32\" cy=\"1444.81\" r=\"25.2\" fill=\"#009af9\" fill-rule=\"evenodd\" fill-opacity=\"1\" stroke=\"#000000\" stroke-opacity=\"1\" stroke-width=\"3.2\"/>\n",
       "<circle clip-path=\"url(#clip642)\" cx=\"1857.66\" cy=\"1444.81\" r=\"25.2\" fill=\"#009af9\" fill-rule=\"evenodd\" fill-opacity=\"1\" stroke=\"#000000\" stroke-opacity=\"1\" stroke-width=\"3.2\"/>\n",
       "<circle clip-path=\"url(#clip642)\" cx=\"1965.99\" cy=\"1444.23\" r=\"25.2\" fill=\"#009af9\" fill-rule=\"evenodd\" fill-opacity=\"1\" stroke=\"#000000\" stroke-opacity=\"1\" stroke-width=\"3.2\"/>\n",
       "<circle clip-path=\"url(#clip642)\" cx=\"2074.33\" cy=\"1443.88\" r=\"25.2\" fill=\"#009af9\" fill-rule=\"evenodd\" fill-opacity=\"1\" stroke=\"#000000\" stroke-opacity=\"1\" stroke-width=\"3.2\"/>\n",
       "<circle clip-path=\"url(#clip642)\" cx=\"2182.67\" cy=\"1443.86\" r=\"25.2\" fill=\"#009af9\" fill-rule=\"evenodd\" fill-opacity=\"1\" stroke=\"#000000\" stroke-opacity=\"1\" stroke-width=\"3.2\"/>\n",
       "<circle clip-path=\"url(#clip642)\" cx=\"2291\" cy=\"1443.86\" r=\"25.2\" fill=\"#009af9\" fill-rule=\"evenodd\" fill-opacity=\"1\" stroke=\"#000000\" stroke-opacity=\"1\" stroke-width=\"3.2\"/>\n",
       "<circle clip-path=\"url(#clip642)\" cx=\"232.609\" cy=\"1447.87\" r=\"18\" fill=\"#e26f46\" fill-rule=\"evenodd\" fill-opacity=\"1\" stroke=\"#000000\" stroke-opacity=\"1\" stroke-width=\"3.2\"/>\n",
       "<circle clip-path=\"url(#clip642)\" cx=\"340.946\" cy=\"1447.7\" r=\"18\" fill=\"#e26f46\" fill-rule=\"evenodd\" fill-opacity=\"1\" stroke=\"#000000\" stroke-opacity=\"1\" stroke-width=\"3.2\"/>\n",
       "<circle clip-path=\"url(#clip642)\" cx=\"449.282\" cy=\"1446.05\" r=\"18\" fill=\"#e26f46\" fill-rule=\"evenodd\" fill-opacity=\"1\" stroke=\"#000000\" stroke-opacity=\"1\" stroke-width=\"3.2\"/>\n",
       "<circle clip-path=\"url(#clip642)\" cx=\"557.619\" cy=\"1446\" r=\"18\" fill=\"#e26f46\" fill-rule=\"evenodd\" fill-opacity=\"1\" stroke=\"#000000\" stroke-opacity=\"1\" stroke-width=\"3.2\"/>\n",
       "<circle clip-path=\"url(#clip642)\" cx=\"665.956\" cy=\"1446\" r=\"18\" fill=\"#e26f46\" fill-rule=\"evenodd\" fill-opacity=\"1\" stroke=\"#000000\" stroke-opacity=\"1\" stroke-width=\"3.2\"/>\n",
       "<circle clip-path=\"url(#clip642)\" cx=\"774.292\" cy=\"1445.85\" r=\"18\" fill=\"#e26f46\" fill-rule=\"evenodd\" fill-opacity=\"1\" stroke=\"#000000\" stroke-opacity=\"1\" stroke-width=\"3.2\"/>\n",
       "<circle clip-path=\"url(#clip642)\" cx=\"882.629\" cy=\"1445.85\" r=\"18\" fill=\"#e26f46\" fill-rule=\"evenodd\" fill-opacity=\"1\" stroke=\"#000000\" stroke-opacity=\"1\" stroke-width=\"3.2\"/>\n",
       "<circle clip-path=\"url(#clip642)\" cx=\"990.965\" cy=\"1445.7\" r=\"18\" fill=\"#e26f46\" fill-rule=\"evenodd\" fill-opacity=\"1\" stroke=\"#000000\" stroke-opacity=\"1\" stroke-width=\"3.2\"/>\n",
       "<circle clip-path=\"url(#clip642)\" cx=\"1099.3\" cy=\"1445.62\" r=\"18\" fill=\"#e26f46\" fill-rule=\"evenodd\" fill-opacity=\"1\" stroke=\"#000000\" stroke-opacity=\"1\" stroke-width=\"3.2\"/>\n",
       "<circle clip-path=\"url(#clip642)\" cx=\"1207.64\" cy=\"1445.62\" r=\"18\" fill=\"#e26f46\" fill-rule=\"evenodd\" fill-opacity=\"1\" stroke=\"#000000\" stroke-opacity=\"1\" stroke-width=\"3.2\"/>\n",
       "<circle clip-path=\"url(#clip642)\" cx=\"1315.97\" cy=\"1445.47\" r=\"18\" fill=\"#e26f46\" fill-rule=\"evenodd\" fill-opacity=\"1\" stroke=\"#000000\" stroke-opacity=\"1\" stroke-width=\"3.2\"/>\n",
       "<circle clip-path=\"url(#clip642)\" cx=\"1424.31\" cy=\"1445.47\" r=\"18\" fill=\"#e26f46\" fill-rule=\"evenodd\" fill-opacity=\"1\" stroke=\"#000000\" stroke-opacity=\"1\" stroke-width=\"3.2\"/>\n",
       "<circle clip-path=\"url(#clip642)\" cx=\"1532.65\" cy=\"1445.25\" r=\"18\" fill=\"#e26f46\" fill-rule=\"evenodd\" fill-opacity=\"1\" stroke=\"#000000\" stroke-opacity=\"1\" stroke-width=\"3.2\"/>\n",
       "<circle clip-path=\"url(#clip642)\" cx=\"1640.98\" cy=\"1445.25\" r=\"18\" fill=\"#e26f46\" fill-rule=\"evenodd\" fill-opacity=\"1\" stroke=\"#000000\" stroke-opacity=\"1\" stroke-width=\"3.2\"/>\n",
       "<circle clip-path=\"url(#clip642)\" cx=\"1749.32\" cy=\"1444.93\" r=\"18\" fill=\"#e26f46\" fill-rule=\"evenodd\" fill-opacity=\"1\" stroke=\"#000000\" stroke-opacity=\"1\" stroke-width=\"3.2\"/>\n",
       "<circle clip-path=\"url(#clip642)\" cx=\"1857.66\" cy=\"1444.93\" r=\"18\" fill=\"#e26f46\" fill-rule=\"evenodd\" fill-opacity=\"1\" stroke=\"#000000\" stroke-opacity=\"1\" stroke-width=\"3.2\"/>\n",
       "<circle clip-path=\"url(#clip642)\" cx=\"1965.99\" cy=\"1444.39\" r=\"18\" fill=\"#e26f46\" fill-rule=\"evenodd\" fill-opacity=\"1\" stroke=\"#000000\" stroke-opacity=\"1\" stroke-width=\"3.2\"/>\n",
       "<circle clip-path=\"url(#clip642)\" cx=\"2074.33\" cy=\"1444.04\" r=\"18\" fill=\"#e26f46\" fill-rule=\"evenodd\" fill-opacity=\"1\" stroke=\"#000000\" stroke-opacity=\"1\" stroke-width=\"3.2\"/>\n",
       "<circle clip-path=\"url(#clip642)\" cx=\"2182.67\" cy=\"1444.02\" r=\"18\" fill=\"#e26f46\" fill-rule=\"evenodd\" fill-opacity=\"1\" stroke=\"#000000\" stroke-opacity=\"1\" stroke-width=\"3.2\"/>\n",
       "<circle clip-path=\"url(#clip642)\" cx=\"2291\" cy=\"1444.02\" r=\"18\" fill=\"#e26f46\" fill-rule=\"evenodd\" fill-opacity=\"1\" stroke=\"#000000\" stroke-opacity=\"1\" stroke-width=\"3.2\"/>\n",
       "<path clip-path=\"url(#clip640)\" d=\"\n",
       "M243.587 324.425 L813.241 324.425 L813.241 168.905 L243.587 168.905  Z\n",
       "  \" fill=\"#ffffff\" fill-rule=\"evenodd\" fill-opacity=\"1\"/>\n",
       "<polyline clip-path=\"url(#clip640)\" style=\"stroke:#000000; stroke-linecap:round; stroke-linejoin:round; stroke-width:4; stroke-opacity:1; fill:none\" points=\"\n",
       "  243.587,324.425 813.241,324.425 813.241,168.905 243.587,168.905 243.587,324.425 \n",
       "  \"/>\n",
       "<circle clip-path=\"url(#clip640)\" cx=\"340.561\" cy=\"220.745\" r=\"23.04\" fill=\"#009af9\" fill-rule=\"evenodd\" fill-opacity=\"1\" stroke=\"#000000\" stroke-opacity=\"1\" stroke-width=\"2.92571\"/>\n",
       "<path clip-path=\"url(#clip640)\" d=\"M437.534 203.465 L442.21 203.465 L442.21 217.631 L459.2 217.631 L459.2 203.465 L463.876 203.465 L463.876 238.025 L459.2 238.025 L459.2 221.566 L442.21 221.566 L442.21 238.025 L437.534 238.025 L437.534 203.465 Z\" fill=\"#000000\" fill-rule=\"evenodd\" fill-opacity=\"1\" /><path clip-path=\"url(#clip640)\" d=\"M484.779 224.992 Q479.617 224.992 477.626 226.173 Q475.636 227.353 475.636 230.201 Q475.636 232.469 477.117 233.812 Q478.622 235.131 481.191 235.131 Q484.733 235.131 486.862 232.631 Q489.015 230.108 489.015 225.941 L489.015 224.992 L484.779 224.992 M493.274 223.233 L493.274 238.025 L489.015 238.025 L489.015 234.089 Q487.557 236.451 485.381 237.585 Q483.205 238.696 480.057 238.696 Q476.075 238.696 473.714 236.474 Q471.376 234.228 471.376 230.478 Q471.376 226.103 474.293 223.881 Q477.233 221.659 483.043 221.659 L489.015 221.659 L489.015 221.242 Q489.015 218.303 487.071 216.705 Q485.149 215.085 481.654 215.085 Q479.432 215.085 477.325 215.617 Q475.219 216.15 473.274 217.215 L473.274 213.279 Q475.612 212.377 477.811 211.937 Q480.011 211.474 482.094 211.474 Q487.719 211.474 490.497 214.391 Q493.274 217.307 493.274 223.233 Z\" fill=\"#000000\" fill-rule=\"evenodd\" fill-opacity=\"1\" /><path clip-path=\"url(#clip640)\" d=\"M517.071 216.08 Q516.353 215.664 515.496 215.478 Q514.663 215.27 513.645 215.27 Q510.034 215.27 508.089 217.631 Q506.168 219.969 506.168 224.367 L506.168 238.025 L501.885 238.025 L501.885 212.099 L506.168 212.099 L506.168 216.127 Q507.51 213.766 509.663 212.631 Q511.816 211.474 514.895 211.474 Q515.334 211.474 515.867 211.543 Q516.399 211.59 517.047 211.705 L517.071 216.08 Z\" fill=\"#000000\" fill-rule=\"evenodd\" fill-opacity=\"1\" /><path clip-path=\"url(#clip640)\" d=\"M537.765 216.034 L537.765 202.006 L542.024 202.006 L542.024 238.025 L537.765 238.025 L537.765 234.136 Q536.422 236.451 534.362 237.585 Q532.325 238.696 529.455 238.696 Q524.756 238.696 521.793 234.946 Q518.853 231.196 518.853 225.085 Q518.853 218.974 521.793 215.224 Q524.756 211.474 529.455 211.474 Q532.325 211.474 534.362 212.608 Q536.422 213.719 537.765 216.034 M523.251 225.085 Q523.251 229.784 525.172 232.469 Q527.117 235.131 530.496 235.131 Q533.876 235.131 535.82 232.469 Q537.765 229.784 537.765 225.085 Q537.765 220.386 535.82 217.724 Q533.876 215.039 530.496 215.039 Q527.117 215.039 525.172 217.724 Q523.251 220.386 523.251 225.085 Z\" fill=\"#000000\" fill-rule=\"evenodd\" fill-opacity=\"1\" /><path clip-path=\"url(#clip640)\" d=\"M548.644 223.14 L561.121 223.14 L561.121 226.937 L548.644 226.937 L548.644 223.14 Z\" fill=\"#000000\" fill-rule=\"evenodd\" fill-opacity=\"1\" /><path clip-path=\"url(#clip640)\" d=\"M593.968 206.127 L593.968 211.057 Q591.607 208.858 588.922 207.77 Q586.26 206.682 583.251 206.682 Q577.325 206.682 574.177 210.316 Q571.029 213.928 571.029 220.779 Q571.029 227.608 574.177 231.242 Q577.325 234.853 583.251 234.853 Q586.26 234.853 588.922 233.765 Q591.607 232.677 593.968 230.478 L593.968 235.363 Q591.515 237.029 588.76 237.863 Q586.028 238.696 582.973 238.696 Q575.126 238.696 570.612 233.904 Q566.098 229.09 566.098 220.779 Q566.098 212.446 570.612 207.654 Q575.126 202.84 582.973 202.84 Q586.075 202.84 588.806 203.673 Q591.561 204.483 593.968 206.127 Z\" fill=\"#000000\" fill-rule=\"evenodd\" fill-opacity=\"1\" /><path clip-path=\"url(#clip640)\" d=\"M611.051 215.085 Q607.626 215.085 605.635 217.77 Q603.644 220.432 603.644 225.085 Q603.644 229.738 605.612 232.423 Q607.602 235.085 611.051 235.085 Q614.454 235.085 616.445 232.4 Q618.436 229.715 618.436 225.085 Q618.436 220.478 616.445 217.793 Q614.454 215.085 611.051 215.085 M611.051 211.474 Q616.607 211.474 619.778 215.085 Q622.95 218.696 622.95 225.085 Q622.95 231.451 619.778 235.085 Q616.607 238.696 611.051 238.696 Q605.473 238.696 602.302 235.085 Q599.153 231.451 599.153 225.085 Q599.153 218.696 602.302 215.085 Q605.473 211.474 611.051 211.474 Z\" fill=\"#000000\" fill-rule=\"evenodd\" fill-opacity=\"1\" /><path clip-path=\"url(#clip640)\" d=\"M645.033 216.08 Q644.315 215.664 643.459 215.478 Q642.625 215.27 641.607 215.27 Q637.996 215.27 636.051 217.631 Q634.13 219.969 634.13 224.367 L634.13 238.025 L629.848 238.025 L629.848 212.099 L634.13 212.099 L634.13 216.127 Q635.473 213.766 637.625 212.631 Q639.778 211.474 642.857 211.474 Q643.297 211.474 643.829 211.543 Q644.361 211.59 645.01 211.705 L645.033 216.08 Z\" fill=\"#000000\" fill-rule=\"evenodd\" fill-opacity=\"1\" /><path clip-path=\"url(#clip640)\" d=\"M670.635 223.997 L670.635 226.08 L651.051 226.08 Q651.329 230.478 653.69 232.793 Q656.074 235.085 660.31 235.085 Q662.764 235.085 665.056 234.483 Q667.371 233.881 669.639 232.677 L669.639 236.705 Q667.347 237.677 664.94 238.187 Q662.533 238.696 660.056 238.696 Q653.852 238.696 650.218 235.085 Q646.607 231.474 646.607 225.316 Q646.607 218.951 650.033 215.224 Q653.482 211.474 659.315 211.474 Q664.547 211.474 667.579 214.853 Q670.635 218.21 670.635 223.997 M666.375 222.747 Q666.329 219.252 664.408 217.168 Q662.51 215.085 659.361 215.085 Q655.797 215.085 653.644 217.099 Q651.514 219.113 651.19 222.77 L666.375 222.747 Z\" fill=\"#000000\" fill-rule=\"evenodd\" fill-opacity=\"1\" /><circle clip-path=\"url(#clip640)\" cx=\"340.561\" cy=\"272.585\" r=\"23.04\" fill=\"#e26f46\" fill-rule=\"evenodd\" fill-opacity=\"1\" stroke=\"#000000\" stroke-opacity=\"1\" stroke-width=\"4.096\"/>\n",
       "<path clip-path=\"url(#clip640)\" d=\"M442.21 273.36 L442.21 286.022 L449.71 286.022 Q453.483 286.022 455.288 284.471 Q457.117 282.897 457.117 279.68 Q457.117 276.439 455.288 274.911 Q453.483 273.36 449.71 273.36 L442.21 273.36 M442.21 259.147 L442.21 269.564 L449.131 269.564 Q452.557 269.564 454.224 268.291 Q455.913 266.994 455.913 264.356 Q455.913 261.74 454.224 260.444 Q452.557 259.147 449.131 259.147 L442.21 259.147 M437.534 255.305 L449.478 255.305 Q454.825 255.305 457.719 257.527 Q460.612 259.749 460.612 263.846 Q460.612 267.018 459.131 268.893 Q457.65 270.768 454.779 271.23 Q458.228 271.971 460.126 274.332 Q462.048 276.67 462.048 280.189 Q462.048 284.818 458.9 287.342 Q455.751 289.865 449.941 289.865 L437.534 289.865 L437.534 255.305 Z\" fill=\"#000000\" fill-rule=\"evenodd\" fill-opacity=\"1\" /><path clip-path=\"url(#clip640)\" d=\"M479.918 266.925 Q476.492 266.925 474.501 269.61 Q472.511 272.272 472.511 276.925 Q472.511 281.578 474.478 284.263 Q476.469 286.925 479.918 286.925 Q483.321 286.925 485.311 284.24 Q487.302 281.555 487.302 276.925 Q487.302 272.318 485.311 269.633 Q483.321 266.925 479.918 266.925 M479.918 263.314 Q485.473 263.314 488.645 266.925 Q491.816 270.536 491.816 276.925 Q491.816 283.291 488.645 286.925 Q485.473 290.536 479.918 290.536 Q474.339 290.536 471.168 286.925 Q468.02 283.291 468.02 276.925 Q468.02 270.536 471.168 266.925 Q474.339 263.314 479.918 263.314 Z\" fill=\"#000000\" fill-rule=\"evenodd\" fill-opacity=\"1\" /><path clip-path=\"url(#clip640)\" d=\"M515.404 264.703 L515.404 268.731 Q513.598 267.805 511.654 267.342 Q509.709 266.879 507.626 266.879 Q504.455 266.879 502.858 267.851 Q501.284 268.823 501.284 270.768 Q501.284 272.249 502.418 273.105 Q503.552 273.939 506.978 274.703 L508.436 275.027 Q512.973 275.999 514.871 277.781 Q516.793 279.541 516.793 282.712 Q516.793 286.323 513.922 288.429 Q511.075 290.536 506.075 290.536 Q503.992 290.536 501.723 290.119 Q499.478 289.726 496.978 288.916 L496.978 284.517 Q499.339 285.744 501.631 286.369 Q503.922 286.971 506.168 286.971 Q509.177 286.971 510.797 285.953 Q512.418 284.911 512.418 283.036 Q512.418 281.3 511.237 280.374 Q510.08 279.448 506.121 278.592 L504.64 278.244 Q500.682 277.411 498.922 275.698 Q497.163 273.962 497.163 270.953 Q497.163 267.295 499.756 265.305 Q502.348 263.314 507.117 263.314 Q509.478 263.314 511.561 263.661 Q513.645 264.008 515.404 264.703 Z\" fill=\"#000000\" fill-rule=\"evenodd\" fill-opacity=\"1\" /><path clip-path=\"url(#clip640)\" d=\"M545.751 275.837 L545.751 277.92 L526.168 277.92 Q526.445 282.318 528.807 284.633 Q531.191 286.925 535.427 286.925 Q537.881 286.925 540.172 286.323 Q542.487 285.721 544.756 284.517 L544.756 288.545 Q542.464 289.517 540.056 290.027 Q537.649 290.536 535.172 290.536 Q528.969 290.536 525.334 286.925 Q521.723 283.314 521.723 277.156 Q521.723 270.791 525.149 267.064 Q528.598 263.314 534.432 263.314 Q539.663 263.314 542.695 266.693 Q545.751 270.05 545.751 275.837 M541.492 274.587 Q541.445 271.092 539.524 269.008 Q537.626 266.925 534.478 266.925 Q530.913 266.925 528.76 268.939 Q526.631 270.953 526.307 274.61 L541.492 274.587 Z\" fill=\"#000000\" fill-rule=\"evenodd\" fill-opacity=\"1\" /><path clip-path=\"url(#clip640)\" d=\"M550.589 274.98 L563.066 274.98 L563.066 278.777 L550.589 278.777 L550.589 274.98 Z\" fill=\"#000000\" fill-rule=\"evenodd\" fill-opacity=\"1\" /><path clip-path=\"url(#clip640)\" d=\"M570.033 255.305 L574.709 255.305 L574.709 269.471 L591.7 269.471 L591.7 255.305 L596.376 255.305 L596.376 289.865 L591.7 289.865 L591.7 273.406 L574.709 273.406 L574.709 289.865 L570.033 289.865 L570.033 255.305 Z\" fill=\"#000000\" fill-rule=\"evenodd\" fill-opacity=\"1\" /><path clip-path=\"url(#clip640)\" d=\"M605.056 279.633 L605.056 263.939 L609.315 263.939 L609.315 279.471 Q609.315 283.152 610.751 285.004 Q612.186 286.832 615.056 286.832 Q618.505 286.832 620.496 284.633 Q622.51 282.434 622.51 278.638 L622.51 263.939 L626.769 263.939 L626.769 289.865 L622.51 289.865 L622.51 285.883 Q620.959 288.244 618.899 289.402 Q616.862 290.536 614.153 290.536 Q609.686 290.536 607.371 287.758 Q605.056 284.98 605.056 279.633 M615.774 263.314 L615.774 263.314 Z\" fill=\"#000000\" fill-rule=\"evenodd\" fill-opacity=\"1\" /><path clip-path=\"url(#clip640)\" d=\"M654.153 276.925 Q654.153 272.226 652.209 269.564 Q650.287 266.879 646.908 266.879 Q643.528 266.879 641.584 269.564 Q639.662 272.226 639.662 276.925 Q639.662 281.624 641.584 284.309 Q643.528 286.971 646.908 286.971 Q650.287 286.971 652.209 284.309 Q654.153 281.624 654.153 276.925 M639.662 267.874 Q641.005 265.559 643.042 264.448 Q645.102 263.314 647.949 263.314 Q652.672 263.314 655.611 267.064 Q658.574 270.814 658.574 276.925 Q658.574 283.036 655.611 286.786 Q652.672 290.536 647.949 290.536 Q645.102 290.536 643.042 289.425 Q641.005 288.291 639.662 285.976 L639.662 289.865 L635.38 289.865 L635.38 253.846 L639.662 253.846 L639.662 267.874 Z\" fill=\"#000000\" fill-rule=\"evenodd\" fill-opacity=\"1\" /><path clip-path=\"url(#clip640)\" d=\"M684.246 276.925 Q684.246 272.226 682.301 269.564 Q680.38 266.879 677 266.879 Q673.621 266.879 671.676 269.564 Q669.755 272.226 669.755 276.925 Q669.755 281.624 671.676 284.309 Q673.621 286.971 677 286.971 Q680.38 286.971 682.301 284.309 Q684.246 281.624 684.246 276.925 M669.755 267.874 Q671.097 265.559 673.134 264.448 Q675.195 263.314 678.042 263.314 Q682.764 263.314 685.704 267.064 Q688.667 270.814 688.667 276.925 Q688.667 283.036 685.704 286.786 Q682.764 290.536 678.042 290.536 Q675.195 290.536 673.134 289.425 Q671.097 288.291 669.755 285.976 L669.755 289.865 L665.472 289.865 L665.472 253.846 L669.755 253.846 L669.755 267.874 Z\" fill=\"#000000\" fill-rule=\"evenodd\" fill-opacity=\"1\" /><path clip-path=\"url(#clip640)\" d=\"M707.509 276.832 Q702.347 276.832 700.357 278.013 Q698.366 279.193 698.366 282.041 Q698.366 284.309 699.847 285.652 Q701.352 286.971 703.921 286.971 Q707.463 286.971 709.593 284.471 Q711.745 281.948 711.745 277.781 L711.745 276.832 L707.509 276.832 M716.005 275.073 L716.005 289.865 L711.745 289.865 L711.745 285.929 Q710.287 288.291 708.111 289.425 Q705.935 290.536 702.787 290.536 Q698.806 290.536 696.445 288.314 Q694.107 286.068 694.107 282.318 Q694.107 277.943 697.023 275.721 Q699.963 273.499 705.773 273.499 L711.745 273.499 L711.745 273.082 Q711.745 270.143 709.801 268.545 Q707.88 266.925 704.384 266.925 Q702.162 266.925 700.056 267.457 Q697.949 267.99 696.005 269.055 L696.005 265.119 Q698.343 264.217 700.542 263.777 Q702.741 263.314 704.824 263.314 Q710.449 263.314 713.227 266.231 Q716.005 269.147 716.005 275.073 Z\" fill=\"#000000\" fill-rule=\"evenodd\" fill-opacity=\"1\" /><path clip-path=\"url(#clip640)\" d=\"M739.801 267.92 Q739.083 267.504 738.227 267.318 Q737.393 267.11 736.375 267.11 Q732.764 267.11 730.819 269.471 Q728.898 271.809 728.898 276.207 L728.898 289.865 L724.616 289.865 L724.616 263.939 L728.898 263.939 L728.898 267.967 Q730.241 265.606 732.393 264.471 Q734.546 263.314 737.625 263.314 Q738.065 263.314 738.597 263.383 Q739.13 263.43 739.778 263.545 L739.801 267.92 Z\" fill=\"#000000\" fill-rule=\"evenodd\" fill-opacity=\"1\" /><path clip-path=\"url(#clip640)\" d=\"M760.495 267.874 L760.495 253.846 L764.754 253.846 L764.754 289.865 L760.495 289.865 L760.495 285.976 Q759.153 288.291 757.092 289.425 Q755.055 290.536 752.185 290.536 Q747.486 290.536 744.523 286.786 Q741.583 283.036 741.583 276.925 Q741.583 270.814 744.523 267.064 Q747.486 263.314 752.185 263.314 Q755.055 263.314 757.092 264.448 Q759.153 265.559 760.495 267.874 M745.981 276.925 Q745.981 281.624 747.903 284.309 Q749.847 286.971 753.227 286.971 Q756.606 286.971 758.551 284.309 Q760.495 281.624 760.495 276.925 Q760.495 272.226 758.551 269.564 Q756.606 266.879 753.227 266.879 Q749.847 266.879 747.903 269.564 Q745.981 272.226 745.981 276.925 Z\" fill=\"#000000\" fill-rule=\"evenodd\" fill-opacity=\"1\" /></svg>\n"
      ]
     },
     "execution_count": 22,
     "metadata": {},
     "output_type": "execute_result"
    }
   ],
   "source": [
    "# U yeterince büyük iken bose-hubbard enerjileri, hard-core enerjilerine yaklaşır\n",
    "plot(1:length(E0[1:20]), E0, seriestype = :scatter, markersize = 7,label=\"Hard-Core\")\n",
    "plot!(1:length(E1[1:20]), E1, seriestype = :scatter, markersize = 5, label=\"Bose-Hubbard\", legend=:topleft)\n",
    "title!(\"U=$U\")"
   ]
  }
 ],
 "metadata": {
  "kernelspec": {
   "display_name": "Julia 1.7.2",
   "language": "julia",
   "name": "julia-1.7"
  },
  "language_info": {
   "file_extension": ".jl",
   "mimetype": "application/julia",
   "name": "julia",
   "version": "1.7.2"
  }
 },
 "nbformat": 4,
 "nbformat_minor": 5
}
