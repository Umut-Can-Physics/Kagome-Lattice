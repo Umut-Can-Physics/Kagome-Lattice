{
 "cells": [
  {
   "cell_type": "code",
   "execution_count": 13,
   "id": "1d782fc4-4fda-469a-ad80-efa3795360b0",
   "metadata": {
    "tags": []
   },
   "outputs": [],
   "source": [
    "Nx = 3; Ny = 3; L = Nx*Ny; N = 3*L \n",
    "# t1=-1;L1=0 ;t2=L2=0\n",
    "# t1=L1=0;t2=L2=-1\n",
    "t1 = -1;L1 = 0.28;t2 = 0.3;L2 = 0.2;\n",
    "# t1=t2=-1;L1=L2=0"
   ]
  },
  {
   "cell_type": "code",
   "execution_count": 6,
   "id": "5f298c85-bea1-41bf-afcb-053c325016db",
   "metadata": {
    "tags": []
   },
   "outputs": [],
   "source": [
    "a1_vec = [2 0]; a2_vec = [1 sqrt(3)]\n",
    "b1=[0 0];b2=a1_vec/2;b3=a2_vec/2\n",
    "Basis = [b1,b2,b3]\n",
    "basis_colors=[\"red\",\"blue\",\"green\"];"
   ]
  },
  {
   "cell_type": "code",
   "execution_count": 7,
   "id": "640f5d3a-9388-4b8c-b1f3-20d091ffe191",
   "metadata": {
    "tags": []
   },
   "outputs": [],
   "source": [
    "using OffsetArrays\n",
    "coordinates = []; sites = []; atom_dict=Dict{}()\n",
    "for i1 in 0:Nx-1\n",
    "    for i2 in 0:Ny-1\n",
    "        Lp = a1_vec * i1 + a2_vec * i2\n",
    "        center = a1_vec * i1 + a2_vec * i2 + b1\n",
    "        shift = (-b2-b3)/sqrt(3)/2\n",
    "        P1=[center+shift,center+a1_vec+shift,center+a2_vec+shift]\n",
    "        for (ib, b) in zip(Iterators.countfrom(0), Basis)\n",
    "            atom_vec = Lp + b\n",
    "            atom_no = 3 * i1 * Ny + 3 * i2 + ib\n",
    "            site = [i1,i2,ib]\n",
    "            sites = push!(sites, site)\n",
    "            coordinates = push!(coordinates, atom_vec)\n",
    "            atom_dict[tuple(site)]=atom_vec\n",
    "        end\n",
    "    end\n",
    "end\n",
    "sites = OffsetArray(sites, 0:26);"
   ]
  },
  {
   "cell_type": "code",
   "execution_count": 9,
   "id": "2dcf2b24-9358-4abb-9355-76c446203f0d",
   "metadata": {
    "tags": []
   },
   "outputs": [],
   "source": [
    "NN = [\n",
    "      [[0,0,1], [0,0,2], [-1,0,1],[0,-1,2],   [-1,0,2], [-1,1,1], [0,-1,1],[1,-1,2]], \n",
    "      [[0,0,-1],[0,0,1], [1,0,-1],[1,-1,1],   [0,-1,1], [1,-1,-1],[0,1,-1],[1,0,1]], \n",
    "      [[0,0,-1],[0,0,-2],[0,1,-2],[-1,1,-1],  [-1,1,-2],[-1,0,-1],[0,1,-1],[1,0,-2]]\n",
    "     ]\n",
    "\n",
    "NN = OffsetArray(NN, 0:2)\n",
    "\n",
    "hopps = [\n",
    "         [t1+1im*L1,t1-1im*L1,t1+1im*L1,t1-1im*L1,  t2+1im*L2,t2-1im*L2,t2-1im*L2,t2+1im*L2], \n",
    "         [t1-1im*L1,t1+1im*L1,t1-1im*L1,t1+1im*L1,  t2-1im*L2,t2+1im*L2,t2+1im*L2,t2-1im*L2], \n",
    "         [t1-1im*L1,t1+1im*L1,t1+1im*L1,t1-1im*L1,  t2-1im*L2,t2+1im*L2,t2+1im*L2,t2-1im*L2]\n",
    "        ] \n",
    "\n",
    "hopps = OffsetArray(hopps, 0:2);"
   ]
  },
  {
   "cell_type": "code",
   "execution_count": 12,
   "id": "c0632b66-7447-4930-b325-24b96f88310f",
   "metadata": {
    "tags": []
   },
   "outputs": [],
   "source": [
    "HH = OffsetArray(zeros(Complex{Float64},N,N), 0:N-1, 0:N-1)\n",
    "for atom_no in 0:N-1\n",
    "    atom_site=sites[atom_no]\n",
    "    for (i_delta, delta) in enumerate(NN[atom_site[3]])\n",
    "        neighbor_site = atom_site+delta\n",
    "        neighbor_site = OffsetArray(neighbor_site, 0:2)\n",
    "        neighbor_site[0] = mod(neighbor_site[0],Nx)\n",
    "        neighbor_site[1] = mod(neighbor_site[1],Ny)\n",
    "        neighbor_no=3*neighbor_site[0]*Ny+3*neighbor_site[1]+neighbor_site[2]\n",
    "        HH[neighbor_no,atom_no]=hopps[atom_site[3]][i_delta] \n",
    "    end\n",
    "end"
   ]
  },
  {
   "cell_type": "code",
   "execution_count": 11,
   "id": "a6094c74-a8e1-4487-b0c6-10f30e8a174b",
   "metadata": {
    "tags": []
   },
   "outputs": [],
   "source": [
    "# offset array kullandığımdan linear algenra kütüphanesiyle eigen hesaplayamıyorum mecbur quantumoptics kütüphanesi ile operatöre çevirip hesapladım.\n",
    "using QuantumOptics\n",
    "Basis = NLevelBasis(N)\n",
    "H = SparseOperator(Basis)\n",
    "for m in 0:N-1\n",
    "    for n in 0:N-1\n",
    "        H += HH[m,n] * transition(Basis, m+1, n+1)\n",
    "    end\n",
    "end"
   ]
  }
 ],
 "metadata": {
  "kernelspec": {
   "display_name": "Julia 1.8.1",
   "language": "julia",
   "name": "julia-1.8"
  },
  "language_info": {
   "file_extension": ".jl",
   "mimetype": "application/julia",
   "name": "julia",
   "version": "1.8.1"
  }
 },
 "nbformat": 4,
 "nbformat_minor": 5
}
