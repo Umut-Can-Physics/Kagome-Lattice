{
 "cells": [
  {
   "cell_type": "code",
   "execution_count": 1,
   "id": "descending-surrey",
   "metadata": {
    "tags": []
   },
   "outputs": [],
   "source": [
    "a1_vec = [2 0]; a2_vec = [1 sqrt(3)]\n",
    "b1=[0 0];b2=a1_vec/2;b3=a2_vec/2\n",
    "Basis = [b1,b2,b3];"
   ]
  },
  {
   "cell_type": "code",
   "execution_count": 2,
   "id": "horizontal-barrier",
   "metadata": {
    "tags": []
   },
   "outputs": [
    {
     "data": {
      "text/plain": [
       "get_sites (generic function with 1 method)"
      ]
     },
     "execution_count": 2,
     "metadata": {},
     "output_type": "execute_result"
    }
   ],
   "source": [
    "using OffsetArrays\n",
    "\n",
    "function get_sites(Nx, Ny, a1_vec, a2_vec, Basis)\n",
    "    x_co = []; y_co = []\n",
    "    coordinates = []; sites = []; atom_dict=Dict{}()\n",
    "    for i1 in 0:Nx-1\n",
    "        for i2 in 0:Ny-1\n",
    "            Lp = a1_vec * i1 + a2_vec * i2\n",
    "            center = a1_vec * i1 + a2_vec * i2 + b1\n",
    "            shift = (-b2-b3)/sqrt(3)/2\n",
    "            P1=[center+shift,center+a1_vec+shift,center+a2_vec+shift]\n",
    "            for (ib, b) in zip(Iterators.countfrom(0), Basis)\n",
    "                atom_vec = Lp + b\n",
    "                atom_no = 3 * i1 * Ny + 3 * i2 + ib\n",
    "                site = [i1,i2,ib]\n",
    "                sites = push!(sites, site)\n",
    "                coordinates = push!(coordinates, atom_vec)\n",
    "                atom_dict[tuple(site)]=atom_vec\n",
    "                x_co = push!(x_co, atom_vec[1]); y_co = push!(y_co, atom_vec[2])\n",
    "            end\n",
    "        end\n",
    "    end\n",
    "    sites = OffsetArray(sites, 0:Nx*Ny*3-1);\n",
    "    x_co = OffsetArray(x_co, 0:Nx*Ny*3-1)\n",
    "    y_co = OffsetArray(y_co, 0:Nx*Ny*3-1)\n",
    "    \n",
    "    return coordinates, sites, atom_dict, x_co, y_co\n",
    "end"
   ]
  },
  {
   "cell_type": "code",
   "execution_count": 3,
   "id": "satisfactory-alert",
   "metadata": {
    "tags": []
   },
   "outputs": [
    {
     "data": {
      "text/plain": [
       "plot_kagome (generic function with 1 method)"
      ]
     },
     "execution_count": 3,
     "metadata": {},
     "output_type": "execute_result"
    }
   ],
   "source": [
    "using Plots\n",
    "function plot_kagome(Nx,Ny)\n",
    "    x_co = OffsetArray(get_sites(Nx, Ny, a1_vec, a2_vec, Basis)[4], 1:Nx*Ny*3)\n",
    "    y_co = OffsetArray(get_sites(Nx, Ny, a1_vec, a2_vec, Basis)[5], 1:Nx*Ny*3)\n",
    "    p = scatter([x_co],[y_co],series_annotations = text.(1:N, :bottom),grid=false, legend = false)\n",
    "    return p\n",
    "end"
   ]
  },
  {
   "cell_type": "code",
   "execution_count": 4,
   "id": "severe-sentence",
   "metadata": {
    "tags": []
   },
   "outputs": [
    {
     "data": {
      "text/plain": [
       "get_NN_NNN (generic function with 1 method)"
      ]
     },
     "execution_count": 4,
     "metadata": {},
     "output_type": "execute_result"
    }
   ],
   "source": [
    "function get_NN_NNN(t1,L1,t2,L2)\n",
    "    \n",
    "    NN = [\n",
    "          [[0,0,1], [0,0,2], [-1,0,1],[0,-1,2],   [-1,0,2], [-1,1,1], [0,-1,1],[1,-1,2]], \n",
    "          [[0,0,-1],[0,0,1], [1,0,-1],[1,-1,1],   [0,-1,1], [1,-1,-1],[0,1,-1],[1,0,1]], \n",
    "          [[0,0,-1],[0,0,-2],[0,1,-2],[-1,1,-1],  [-1,1,-2],[-1,0,-1],[0,1,-1],[1,0,-2]]\n",
    "         ]\n",
    "\n",
    "    NN = OffsetArray(NN, 0:2)\n",
    "\n",
    "    hopps = [\n",
    "             [t1+1im*L1,t1-1im*L1,t1+1im*L1,t1-1im*L1,  t2+1im*L2,t2-1im*L2,t2-1im*L2,t2+1im*L2], \n",
    "             [t1-1im*L1,t1+1im*L1,t1-1im*L1,t1+1im*L1,  t2-1im*L2,t2+1im*L2,t2+1im*L2,t2-1im*L2], \n",
    "             [t1-1im*L1,t1+1im*L1,t1+1im*L1,t1-1im*L1,  t2-1im*L2,t2+1im*L2,t2+1im*L2,t2-1im*L2]\n",
    "            ] \n",
    "\n",
    "    hopps = OffsetArray(hopps, 0:2)\n",
    "    \n",
    "    return NN ,hopps\n",
    "end"
   ]
  },
  {
   "cell_type": "code",
   "execution_count": 5,
   "id": "cardiac-front",
   "metadata": {
    "tags": []
   },
   "outputs": [
    {
     "data": {
      "text/plain": [
       "get_H (generic function with 1 method)"
      ]
     },
     "execution_count": 5,
     "metadata": {},
     "output_type": "execute_result"
    }
   ],
   "source": [
    "function get_H(Nx, Ny, t1, L1, t2, L2)  \n",
    "    \n",
    "    N = Nx*Ny*3\n",
    "    \n",
    "    HH = OffsetArray(zeros(Complex{Float64},N,N), 0:N-1, 0:N-1)\n",
    "    \n",
    "    coordinates, sites, atom_dict, x_co, y_co = get_sites(Nx, Ny, a1_vec, a2_vec, Basis)\n",
    "    NN, hopps = get_NN_NNN(t1,L1,t2,L2)\n",
    "    \n",
    "    for atom_no in 0:N-1\n",
    "        atom_site=sites[atom_no]\n",
    "        for (i_delta, delta) in enumerate(NN[atom_site[3]])\n",
    "            neighbor_site = atom_site+delta\n",
    "            neighbor_site = OffsetArray(neighbor_site, 0:2)\n",
    "            neighbor_site[0] = mod(neighbor_site[0],Nx)\n",
    "            neighbor_site[1] = mod(neighbor_site[1],Ny)\n",
    "            neighbor_no=3*neighbor_site[0]*Ny+3*neighbor_site[1]+neighbor_site[2]\n",
    "            HH[neighbor_no,atom_no]=hopps[atom_site[3]][i_delta] \n",
    "        end\n",
    "    end\n",
    "    \n",
    "    return HH\n",
    "end"
   ]
  },
  {
   "cell_type": "code",
   "execution_count": 6,
   "id": "significant-exclusive",
   "metadata": {
    "tags": []
   },
   "outputs": [
    {
     "data": {
      "text/plain": [
       "get_SP_H (generic function with 1 method)"
      ]
     },
     "execution_count": 6,
     "metadata": {},
     "output_type": "execute_result"
    }
   ],
   "source": [
    "# offset array kullandığımdan linear algebra kütüphanesiyle eigen hesaplayamıyorum mecbur quantumoptics kütüphanesi ile operatöre çevirip hesapladım.\n",
    "using QuantumOptics\n",
    "\n",
    "function get_SP_H(Nx, Ny, t1, L1, t2, L2)\n",
    "    \n",
    "    N=Nx*Ny*3\n",
    "    HH = get_H(Nx, Ny, t1, L1, t2, L2)  \n",
    "    \n",
    "    Basis = NLevelBasis(N)\n",
    "    H = SparseOperator(Basis)\n",
    "    for m in 0:N-1\n",
    "        for n in 0:N-1\n",
    "            H += HH[m,n] * transition(Basis, m+1, n+1)\n",
    "        end\n",
    "    end\n",
    "    \n",
    "    return H\n",
    "end"
   ]
  }
 ],
 "metadata": {
  "kernelspec": {
   "display_name": "Julia 1.8.5",
   "language": "julia",
   "name": "julia-1.8"
  },
  "language_info": {
   "file_extension": ".jl",
   "mimetype": "application/julia",
   "name": "julia",
   "version": "1.8.5"
  }
 },
 "nbformat": 4,
 "nbformat_minor": 5
}
