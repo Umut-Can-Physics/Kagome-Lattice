{
 "cells": [
  {
   "cell_type": "code",
   "execution_count": 1,
   "id": "b0b9e81b-2c36-4116-9897-ecb244b6c93c",
   "metadata": {
    "tags": []
   },
   "outputs": [],
   "source": [
    "Nx = 3; Ny = 3; L = Nx*Ny; N = 3*L \n",
    "# t1=-1;L1=0 ;t2=L2=0\n",
    "# t1=L1=0;t2=L2=-1\n",
    "t1 = -1;L1 = 0.28;t2 = 0.3;L2 = 0.2;\n",
    "# t1=t2=-1;L1=L2=0"
   ]
  },
  {
   "cell_type": "code",
   "execution_count": 2,
   "id": "a1081d2b-4d55-4368-8aa1-bb53f38693af",
   "metadata": {
    "tags": []
   },
   "outputs": [],
   "source": [
    "a1_vec = [2 0]; a2_vec = [1 sqrt(3)]\n",
    "b1=[0 0];b2=a1_vec/2;b3=a2_vec/2\n",
    "Basis = [b1,b2,b3]\n",
    "basis_colors=[\"red\",\"blue\",\"green\"];"
   ]
  },
  {
   "cell_type": "code",
   "execution_count": 3,
   "id": "4b1ca3c7-611a-482f-a48e-e0038375ab57",
   "metadata": {
    "tags": []
   },
   "outputs": [],
   "source": [
    "using OffsetArrays\n",
    "coordinates = []; sites = []; atom_dict=Dict{}()\n",
    "for i1 in 0:Nx-1\n",
    "    for i2 in 0:Ny-1\n",
    "        Lp = a1_vec * i1 + a2_vec * i2\n",
    "        center = a1_vec * i1 + a2_vec * i2 + b1\n",
    "        shift = (-b2-b3)/sqrt(3)/2\n",
    "        P1=[center+shift,center+a1_vec+shift,center+a2_vec+shift]\n",
    "        for (ib, b) in zip(Iterators.countfrom(0), Basis)\n",
    "            atom_vec = Lp + b\n",
    "            atom_no = 3 * i1 * Ny + 3 * i2 + ib\n",
    "            site = [i1,i2,ib]\n",
    "            sites = push!(sites, site)\n",
    "            coordinates = push!(coordinates, atom_vec)\n",
    "            atom_dict[tuple(site)]=atom_vec\n",
    "        end\n",
    "    end\n",
    "end\n",
    "sites = OffsetArray(sites, 0:26);"
   ]
  },
  {
   "cell_type": "code",
   "execution_count": 4,
   "id": "4a100e24-6e95-4e88-8d49-7e7626a57b8c",
   "metadata": {
    "tags": []
   },
   "outputs": [],
   "source": [
    "NN = [\n",
    "      [[0,0,1], [0,0,2], [-1,0,1],[0,-1,2],   [-1,0,2], [-1,1,1], [0,-1,1],[1,-1,2]], \n",
    "      [[0,0,-1],[0,0,1], [1,0,-1],[1,-1,1],   [0,-1,1], [1,-1,-1],[0,1,-1],[1,0,1]], \n",
    "      [[0,0,-1],[0,0,-2],[0,1,-2],[-1,1,-1],  [-1,1,-2],[-1,0,-1],[0,1,-1],[1,0,-2]]\n",
    "     ]\n",
    "\n",
    "NN = OffsetArray(NN, 0:2)\n",
    "\n",
    "hopps = [\n",
    "         [t1+1im*L1,t1-1im*L1,t1+1im*L1,t1-1im*L1,  t2+1im*L2,t2-1im*L2,t2-1im*L2,t2+1im*L2], \n",
    "         [t1-1im*L1,t1+1im*L1,t1-1im*L1,t1+1im*L1,  t2-1im*L2,t2+1im*L2,t2+1im*L2,t2-1im*L2], \n",
    "         [t1-1im*L1,t1+1im*L1,t1+1im*L1,t1-1im*L1,  t2-1im*L2,t2+1im*L2,t2+1im*L2,t2-1im*L2]\n",
    "        ] \n",
    "\n",
    "hopps = OffsetArray(hopps, 0:2);"
   ]
  },
  {
   "cell_type": "code",
   "execution_count": 5,
   "id": "b7e3fbf7-3f52-415b-948b-bef10fb244fc",
   "metadata": {
    "tags": []
   },
   "outputs": [],
   "source": [
    "HH = OffsetArray(zeros(Complex{Float64},N,N), 0:N-1, 0:N-1)\n",
    "for atom_no in 0:N-1\n",
    "    atom_site=sites[atom_no]\n",
    "    for (i_delta, delta) in enumerate(NN[atom_site[3]])\n",
    "        neighbor_site = atom_site+delta\n",
    "        neighbor_site = OffsetArray(neighbor_site, 0:2)\n",
    "        neighbor_site[0] = mod(neighbor_site[0],Nx)\n",
    "        neighbor_site[1] = mod(neighbor_site[1],Ny)\n",
    "        neighbor_no=3*neighbor_site[0]*Ny+3*neighbor_site[1]+neighbor_site[2]\n",
    "        HH[neighbor_no,atom_no]=hopps[atom_site[3]][i_delta] \n",
    "    end\n",
    "end"
   ]
  },
  {
   "cell_type": "code",
   "execution_count": 6,
   "id": "ba9073ff-8e1f-46f8-a021-a606905af86d",
   "metadata": {
    "tags": []
   },
   "outputs": [],
   "source": [
    "# offset array kullandığımdan linear algenra kütüphanesiyle eigen hesaplayamıyorum mecbur quantumoptics kütüphanesi ile operatöre çevirip hesapladım.\n",
    "using QuantumOptics\n",
    "Basis = NLevelBasis(N)\n",
    "H = SparseOperator(Basis)\n",
    "for m in 0:N-1\n",
    "    for n in 0:N-1\n",
    "        H += HH[m,n] * transition(Basis, m+1, n+1)\n",
    "    end\n",
    "end"
   ]
  },
  {
   "cell_type": "code",
   "execution_count": null,
   "id": "1b16632f-14c8-4c8a-b894-1ef46930d3e6",
   "metadata": {},
   "outputs": [],
   "source": []
  }
 ],
 "metadata": {
  "kernelspec": {
   "display_name": "Julia 1.8.1",
   "language": "julia",
   "name": "julia-1.8"
  },
  "language_info": {
   "file_extension": ".jl",
   "mimetype": "application/julia",
   "name": "julia",
   "version": "1.8.1"
  }
 },
 "nbformat": 4,
 "nbformat_minor": 5
}
