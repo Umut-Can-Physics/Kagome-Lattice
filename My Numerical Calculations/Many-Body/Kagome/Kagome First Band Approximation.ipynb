{
 "cells": [
  {
   "cell_type": "markdown",
   "id": "1db7927c-5673-4780-8b76-c3d1fd7ec269",
   "metadata": {},
   "source": [
    "<span style=\"color:red\"> **NOTE THAT!** </span>\n",
    "\n",
    "<font size=\"5\">\n",
    "While a lattice with dimensions 6x5 and PN=2 leads to a robust charge, a smaller lattice with dimensions 4x4 and PN=3 results in a non-logical charge.\n",
    "</font>\n"
   ]
  },
  {
   "cell_type": "markdown",
   "id": "43a8a09c-c94f-4a83-a7a8-186dac41f374",
   "metadata": {},
   "source": [
    "# Including "
   ]
  },
  {
   "cell_type": "code",
   "execution_count": 1,
   "id": "76ab4588-94d3-4ef5-940d-f48ca5ebc7c5",
   "metadata": {},
   "outputs": [],
   "source": [
    "using NBInclude"
   ]
  },
  {
   "cell_type": "markdown",
   "id": "8adddea5-7047-4e67-992f-8e13bbdf2cbc",
   "metadata": {},
   "source": [
    "<font size=\"5\">\n",
    "Single Particle Operator\n",
    "</font>"
   ]
  },
  {
   "cell_type": "code",
   "execution_count": 2,
   "id": "a25a103c-7675-4f57-9021-7b128d4c865b",
   "metadata": {},
   "outputs": [],
   "source": [
    "@nbinclude(\"Kagome SP.ipynb\");"
   ]
  },
  {
   "cell_type": "markdown",
   "id": "3abbc444-30bd-491f-a517-746e81f59dc8",
   "metadata": {},
   "source": [
    "<font size=\"5\">\n",
    "    First Band Approximation Functions\n",
    "</font>"
   ]
  },
  {
   "cell_type": "code",
   "execution_count": 3,
   "id": "9d65a56d",
   "metadata": {
    "tags": []
   },
   "outputs": [],
   "source": [
    "@nbinclude(joinpath(\"..\",\"First Band Approximation Functions.ipynb\"));"
   ]
  },
  {
   "cell_type": "markdown",
   "id": "c6020ed2-de66-4802-9e9b-d367d3a330d6",
   "metadata": {},
   "source": [
    "# Model Parameters"
   ]
  },
  {
   "cell_type": "markdown",
   "id": "3b33f587-c1dc-42db-8cd3-dd60a7e801d0",
   "metadata": {},
   "source": [
    "<font size=\"5\">\n",
    "    Lattice Size\n",
    "</font>"
   ]
  },
  {
   "cell_type": "code",
   "execution_count": 4,
   "id": "0cbbf849-267b-4f3d-ba58-80e29c8cd4f7",
   "metadata": {},
   "outputs": [],
   "source": [
    "Nx = 4; Ny = 4; N=Nx*Ny*3; cut_off = Nx*Ny;"
   ]
  },
  {
   "cell_type": "markdown",
   "id": "de156ff2-f3f2-4baf-bc12-d9f2fe47bec4",
   "metadata": {},
   "source": [
    "<font size=\"5\">\n",
    "    Total Particle Number\n",
    "</font>"
   ]
  },
  {
   "cell_type": "code",
   "execution_count": 5,
   "id": "cde78146-2596-4eca-9fea-2aefe51a8034",
   "metadata": {},
   "outputs": [],
   "source": [
    "PN = [0,1,2,3];"
   ]
  },
  {
   "cell_type": "markdown",
   "id": "bbc59cfc-6a17-4108-a4a4-eea00a549359",
   "metadata": {},
   "source": [
    "<font size=\"5\">\n",
    "    Lattice Potantiel\n",
    "</font>"
   ]
  },
  {
   "cell_type": "code",
   "execution_count": 6,
   "id": "950c4f7f-8191-4edf-bba0-808d320862da",
   "metadata": {},
   "outputs": [],
   "source": [
    "U = 2;"
   ]
  },
  {
   "cell_type": "markdown",
   "id": "951e2a3b-9b81-4734-980a-2b559db78766",
   "metadata": {},
   "source": [
    "<font size=\"5\">\n",
    "    Hopping Parameters\n",
    "</font>"
   ]
  },
  {
   "cell_type": "code",
   "execution_count": 7,
   "id": "72e09226",
   "metadata": {
    "tags": []
   },
   "outputs": [],
   "source": [
    "t1 = -1; L1 = 0.28; t2 = 0.3; L2 = 0.2;"
   ]
  },
  {
   "cell_type": "markdown",
   "id": "7f8554c0-9ce1-4eb8-976d-6d51356e8a03",
   "metadata": {},
   "source": [
    "<font size=\"5\">\n",
    "\\begin{align}\n",
    "&N_{\\phi} \\text{ (The number of flux quanta)} = \\text{The number of ground state degeneracy of single particle} \\\\\n",
    "&\\text{In the Hofstadter model:}  \\quad N_{\\phi}=N_xN_y\\phi \\quad (p/q=1/N_y)\n",
    "\\end{align}\n",
    "</font>"
   ]
  },
  {
   "cell_type": "markdown",
   "id": "381c8d81-b332-47ff-92ff-0af9412e4397",
   "metadata": {},
   "source": [
    "# Single Particle Sub-Space"
   ]
  },
  {
   "cell_type": "markdown",
   "id": "b28243de-636e-459a-b4b8-b41eddf9b5dd",
   "metadata": {},
   "source": [
    "<font size=\"5\">\n",
    "    Single Particle Basis and Operator\n",
    "</font>"
   ]
  },
  {
   "cell_type": "code",
   "execution_count": 8,
   "id": "faf26652-5e48-4f33-8abe-67ef77bd6732",
   "metadata": {
    "tags": []
   },
   "outputs": [],
   "source": [
    "sp_basis = NLevelBasis(N)\n",
    "sp_matrix = dense(get_SP_H(Nx, Ny, t1, L1, t2, L2)).data;\n",
    "#H1 = get_sp_op_data(sp_basis, N, sp_matrix);\n",
    "H1 = get_sp_op(sp_basis, sp_matrix);"
   ]
  },
  {
   "cell_type": "markdown",
   "id": "479269e5-8e46-46a6-b4ff-eebbdf449f06",
   "metadata": {},
   "source": [
    "<font size=\"5\">\n",
    "    Eigen Energies\n",
    "</font>"
   ]
  },
  {
   "cell_type": "code",
   "execution_count": 9,
   "id": "54574062-6ad5-4ef0-bcb3-4c466fff5311",
   "metadata": {
    "tags": []
   },
   "outputs": [],
   "source": [
    "using LinearAlgebra\n",
    "#check operator form\n",
    "eigenenergies(dense(H1)) == eigvals(sp_matrix) # true\n",
    "eigvals(sp_matrix);"
   ]
  },
  {
   "cell_type": "markdown",
   "id": "4e570ece-827e-4ab7-9d6b-83828a2272ee",
   "metadata": {},
   "source": [
    "<font size=\"4\">\n",
    "    \\begin{equation}\n",
    "    \\text{In the kagome lattice:} \\quad N_{\\phi}=N_xN_y\n",
    "    \\end{equation}\n",
    "</font>"
   ]
  },
  {
   "cell_type": "markdown",
   "id": "cbeb9f69-4745-4a5b-924e-5e58e64ce9e2",
   "metadata": {},
   "source": [
    "<font size=\"5\">\n",
    "    Sub-Space States, Basis Single Particle Operator and Number Operator\n",
    "</font>"
   ]
  },
  {
   "cell_type": "code",
   "execution_count": 10,
   "id": "33b796d2-62fe-44a0-a564-d306d96ed16a",
   "metadata": {
    "tags": []
   },
   "outputs": [],
   "source": [
    "sub_states = get_sub_states(H1, cut_off);\n",
    "basis_sub, P, Pt = get_projector_op(sub_states, sp_basis);\n",
    "H1_sub = get_subspace_op(H1, P, Pt);\n",
    "num_sub_list = get_num_sub_list(N, sp_basis, P, Pt);"
   ]
  },
  {
   "cell_type": "markdown",
   "id": "e609afed-ca8a-4788-8778-a72ebf65355a",
   "metadata": {},
   "source": [
    "# Many-Body Sub-Space "
   ]
  },
  {
   "cell_type": "markdown",
   "id": "4ee85179-5b2c-41c9-8d11-36007e281c2f",
   "metadata": {},
   "source": [
    "<font size=\"5\">\n",
    "    Sub-Space States, Basis Many-Body Operator\n",
    "</font>"
   ]
  },
  {
   "cell_type": "code",
   "execution_count": 11,
   "id": "c78ac145",
   "metadata": {
    "tags": []
   },
   "outputs": [],
   "source": [
    "states_mb = bosonstates(basis_sub, PN) \n",
    "basis_mb = ManyBodyBasis(basis_sub, states_mb);\n",
    "H1_MB = get_mb_op(basis_mb, H1_sub);"
   ]
  },
  {
   "cell_type": "markdown",
   "id": "a7c8bca7-07bc-4b66-8361-c9c59e8ac1e7",
   "metadata": {},
   "source": [
    "<font size=\"5\">\n",
    "    Eigen Energies\n",
    "</font>"
   ]
  },
  {
   "cell_type": "code",
   "execution_count": 12,
   "id": "c16a71e0-3253-45b3-b763-0518531fda9b",
   "metadata": {},
   "outputs": [],
   "source": [
    "# Differ by numerical result\n",
    "eigvals(dense(H1_MB).data);\n",
    "eigenenergies(dense((H1_MB'+H1_MB)/2));"
   ]
  },
  {
   "cell_type": "code",
   "execution_count": null,
   "id": "09c52b02-0c1e-4076-b269-4197d096cc06",
   "metadata": {
    "tags": []
   },
   "outputs": [],
   "source": [
    "@nbinclude(\"Kagome MB .ipynb\"; regex=r\"#.*executeme\");\n",
    "basis_cut_mb, basis_cut_sp = get_Bosonic_MB_Basis(cut_off,PN)\n",
    "# Interaction part\n",
    "H_Int = Hubbard_Interaction(P, Pt, basis_cut_mb, cut_off, U);"
   ]
  },
  {
   "cell_type": "markdown",
   "id": "e2cba6ab-1f53-4f0c-b123-7350967e8702",
   "metadata": {},
   "source": [
    "# Total Hamiltonian with Impurity Potential"
   ]
  },
  {
   "cell_type": "code",
   "execution_count": null,
   "id": "f62bf8ee-c781-4657-a95e-7d5c574681e2",
   "metadata": {
    "tags": []
   },
   "outputs": [],
   "source": [
    "# Kinetic part\n",
    "H1cut = SparseOperator(basis_cut_mb)\n",
    "H1cut.data = H1_MB.data\n",
    "\n",
    "number_mb_list_operators = get_num_mb_op(N, basis_cut_sp, num_sub_list, basis_cut_mb, basis_sub)\n",
    "\n",
    "function get_total_H(V, imp_site, number_mb_list_operators, H1cut, H_Int)\n",
    "    V_imp = V * number_mb_list_operators[imp_site]\n",
    "    H_totall = H1cut + H_Int + V_imp\n",
    "    return H_totall\n",
    "end"
   ]
  },
  {
   "cell_type": "code",
   "execution_count": null,
   "id": "d6991754-d0da-403a-9895-8dd01d40bb7f",
   "metadata": {},
   "outputs": [],
   "source": [
    "plot_kagome(Nx,Ny)"
   ]
  },
  {
   "cell_type": "code",
   "execution_count": null,
   "id": "990ae7af-34b2-41aa-9264-82bb2dae4322",
   "metadata": {},
   "outputs": [],
   "source": [
    "imp_site = 20\n",
    "#Imp. potential\n",
    "V = 4\n",
    "\n",
    "H_total_imp = get_total_H(V, imp_site, number_mb_list_operators, H1cut, H_Int);\n",
    "#H_total = get_total_H(0, imp_site, number_mb_list_operators, H1cut, H_Int)\n",
    "\n",
    "#eigenenergies(dense((H_total+H_total')/2));"
   ]
  },
  {
   "cell_type": "markdown",
   "id": "e43b2405-aa40-4198-8d1b-a19a602a705f",
   "metadata": {},
   "source": [
    "# Exact Diagonalization"
   ]
  },
  {
   "cell_type": "code",
   "execution_count": null,
   "id": "dcd68fec-34ab-4dad-9f6a-2a7e35283a29",
   "metadata": {
    "tags": []
   },
   "outputs": [],
   "source": [
    "using DataFrames\n",
    "\n",
    "function get_energies(pn, E, V, basis)\n",
    "    PN_Energies = Array{Float64}(undef, length(E), 2)\n",
    "    for i in 1:length(E)\n",
    "        PN_Energies[i] = round(expect(number(basis), V[i])) \n",
    "        PN_Energies[i,2] = E[i] \n",
    "    end\n",
    "    \n",
    "    # filter\n",
    "    df = DataFrame(PN_Energies, :auto)\n",
    "    df = filter(row -> (row.x1 == pn),  df)\n",
    "    \n",
    "    return df\n",
    "end"
   ]
  },
  {
   "cell_type": "code",
   "execution_count": null,
   "id": "fb96895d-a0ad-4607-9c15-c150a108fb44",
   "metadata": {
    "tags": []
   },
   "outputs": [],
   "source": [
    "PN"
   ]
  },
  {
   "cell_type": "markdown",
   "id": "6085860a-f0b3-4e28-b02a-c75e24f35615",
   "metadata": {},
   "source": [
    "<font size=\"4\">\n",
    "    \\begin{align*}\n",
    "    \\text{The number of degeneracy (} \\mathscr{D} \\text{)} = \\frac{(N_d+N-1)!}{N_d!(N-1)!}\\frac{N_\\phi}{N}\n",
    "    \\end{align*}\n",
    "<end font>"
   ]
  },
  {
   "cell_type": "code",
   "execution_count": null,
   "id": "939551eb-6b62-4c52-8bb3-4184c7afb59a",
   "metadata": {
    "tags": []
   },
   "outputs": [],
   "source": [
    "Hermitian_H = (H_total_imp+dagger(H_total_imp))/2\n",
    "E, V = eigenstates(dense(Hermitian_H))\n",
    "#E0, V0 = eigenstates(dense((H_total+dagger(H_total))/2))\n",
    "\n",
    "#filtered particle number\n",
    "pn = maximum(PN)\n",
    "\n",
    "df = get_energies(pn, E, V, basis_cut_mb)\n",
    "#df_0 = get_energies(pn, E0, V0, basis_cut_mb)\n",
    "\n",
    "# V \\neq 0\n",
    "filtered_energies = Matrix(df)[:,2]\n",
    "\n",
    "# V = 0\n",
    "#filtered_energies_0 = Matrix(df_0)[:,2];"
   ]
  },
  {
   "cell_type": "markdown",
   "id": "b617174b-d343-44ae-80a8-73d0f418107d",
   "metadata": {},
   "source": [
    "Allta ki fonksiyonun çalışması için, dizide ki filtre edilmiş parçacık sayısı her zaman en büyük değer de olmalıdır.\n",
    "Örneğin, `PN=[0,1,2,3,4]` iken filtre edilen parçacık sayısı `pn=4` olmalıdır!"
   ]
  },
  {
   "cell_type": "code",
   "execution_count": null,
   "id": "3a3aad18-846f-4736-801e-0295a8da3207",
   "metadata": {
    "tags": []
   },
   "outputs": [],
   "source": [
    "# Eigenstates of filtered particles\n",
    "function Restricted_Hubbard_States(states)\n",
    "    number_of_states = length(filtered_energies)\n",
    "    return states[1:number_of_states];\n",
    "end"
   ]
  },
  {
   "cell_type": "code",
   "execution_count": null,
   "id": "b70dc2db-bf97-48a8-a4b7-1f8800da087d",
   "metadata": {
    "tags": []
   },
   "outputs": [],
   "source": [
    "r_hubbard_states = Restricted_Hubbard_States(V);"
   ]
  },
  {
   "cell_type": "markdown",
   "id": "9000cb20-fc3f-4c65-9826-0479992a1fd5",
   "metadata": {
    "tags": []
   },
   "source": [
    "# Densities"
   ]
  },
  {
   "cell_type": "code",
   "execution_count": null,
   "id": "f0878930-2335-4f68-bec0-979b9e6b8c35",
   "metadata": {
    "tags": []
   },
   "outputs": [],
   "source": [
    "NM_MB_Array_Storage = zeros(Complex{Float64},length(basis_cut_mb),length(basis_cut_mb),N);\n",
    "NM_MB_Matrix = zeros(Complex{Float64},length(basis_cut_mb),length(basis_cut_mb));\n",
    "for m in 1:N\n",
    "    for i in 1:length(basis_cut_mb)\n",
    "        for j in 1:length(basis_cut_mb)\n",
    "            NM_MB_Matrix[i,j] = number_mb_list_operators[m].data[i,j]\n",
    "        end\n",
    "    end\n",
    "    NM_MB_Array_Storage[:,:,m] = NM_MB_Matrix\n",
    "end"
   ]
  },
  {
   "cell_type": "code",
   "execution_count": null,
   "id": "6d55817d-0a0c-443b-835e-1615a0efa66d",
   "metadata": {},
   "outputs": [],
   "source": [
    "BL = BR = basis_cut_mb\n",
    "index_number_op = 4\n",
    "\n",
    "T = NM_MB_Array_Storage[:,:,index_number_op]\n",
    "Op = Operator(BL,BR,T)\n",
    "\n",
    "index_eigen_states = 1\n",
    "\n",
    "expect(Op, r_hubbard_states[index_eigen_states])"
   ]
  },
  {
   "cell_type": "markdown",
   "id": "3bd076f8-bc12-456a-bff3-4984903858f5",
   "metadata": {},
   "source": [
    "<font size=\"4\">\n",
    "$\\sum_{i} <\\psi_j|n_i|\\psi_j>, \\quad \\text{for a given j index}$\n",
    "</font>"
   ]
  },
  {
   "cell_type": "code",
   "execution_count": null,
   "id": "7dcb4da7-bab6-4de5-a71b-dd81431d8106",
   "metadata": {
    "tags": []
   },
   "outputs": [],
   "source": [
    "index_eig_states = 1\n",
    "\n",
    "function get_density_profiles(NM_MB_Array_Storage, r_hubbard_states, index_eig_states)\n",
    "    Sum = 0\n",
    "    expect_list = []\n",
    "    for i in 1:N\n",
    "        T = NM_MB_Array_Storage[:,:,i]\n",
    "        Op = Operator(BL,BR,T)   \n",
    "        # OPTIMIZE IT!\n",
    "        # Sum += expect(Op, r_hubbard_states[index_eig_states])\n",
    "        push!(expect_list, expect(Op, r_hubbard_states[index_eig_states]))\n",
    "    end\n",
    "    return real(expect_list)\n",
    "end"
   ]
  },
  {
   "cell_type": "markdown",
   "id": "469cc725-deca-426b-9a73-beee7716d7ce",
   "metadata": {},
   "source": [
    "<font size=\"4\">\n",
    "    \\begin{align*}\n",
    "    \\frac{N}{N_{\\Phi}} &= \\frac{2}{8}, \\quad \\text{In the Laughlin State: } \\frac{N}{N_{\\Phi}}=\\frac{2}{4}=\\frac{1}{2} => \\text{There are 2 free quasi-particles.} \\\\\n",
    "    &\\text{So, added 2 flux in the lattice is mean that, +2 free quasi-particles.}\n",
    "    \\end{align*}\n",
    "</font>"
   ]
  },
  {
   "cell_type": "code",
   "execution_count": null,
   "id": "84ba8126-a4d0-4466-a332-e844eae3369c",
   "metadata": {},
   "outputs": [],
   "source": [
    "get_density_profiles(NM_MB_Array_Storage, r_hubbard_states, index_eig_states);"
   ]
  },
  {
   "cell_type": "code",
   "execution_count": null,
   "id": "ede0a4d5-ca0b-463e-b666-629513959c69",
   "metadata": {},
   "outputs": [],
   "source": [
    "# AVERAGE (Nx=3; Ny=3; N=Nx*Ny*3; cut_off=Nx*Ny; PN=[0,1,2])\n",
    "\n",
    "# Degeneracy in The Sub-Space for V \\neq 0\n",
    "Degeneracy = 377 \n",
    "# avg_density = zeros((Nx,Ny)) \n",
    "# for index_eig_states in 1:Degeneracy\n",
    "#     avg_density += reshape(get_density_profiles(NM_MB_Array_Storage, r_hubbard_states, index_eig_states),Nx,Ny)\n",
    "# end    \n",
    "# avg_density = avg_density / Degeneracy;\n",
    "avg_density = zeros(N)\n",
    "for index_eig_states in 1:Degeneracy\n",
    "    avg_density += get_density_profiles(NM_MB_Array_Storage, r_hubbard_states, index_eig_states)\n",
    "end\n",
    "avg_density = avg_density / Degeneracy;\n",
    "\n",
    "# Degeneracy in The Sub-Space for V = 0\n",
    "# Degeneracy_0 = 16\n",
    "# avg_density_0 = zeros((Nx,Ny))\n",
    "# for index_eig_states in 1:Degeneracy_0\n",
    "#     avg_density_0 += reshape(get_density_profiles(NM_MB_Array_Storage, r_hubbard_states_0, index_eig_states),Nx,Ny)\n",
    "# end    \n",
    "# avg_density_0 = avg_density_0 / Degeneracy_0;\n",
    "\n",
    "# Degeneracy_0 => Örgüde sadece 2 quasi-parçacık boştayken geçerli dejenereliktir.\n",
    "# Ancak bizim bakmak istediğimiz resim, bu parçacıklardan birisini pinlenmiş ve diğerinin ise boşta olmasıdır."
   ]
  },
  {
   "cell_type": "code",
   "execution_count": null,
   "id": "4504cda8-5d6b-4efa-8021-144fcdcf0973",
   "metadata": {},
   "outputs": [],
   "source": [
    "avg_density"
   ]
  },
  {
   "cell_type": "markdown",
   "id": "d4efc8df-9e7f-44b6-a4c3-8a40a9447c8e",
   "metadata": {},
   "source": [
    "# Lattice and Minimum Distances"
   ]
  },
  {
   "cell_type": "code",
   "execution_count": null,
   "id": "45e9a5ca-213b-4e66-adb0-4327c6269c74",
   "metadata": {},
   "outputs": [],
   "source": [
    "# Lattice coordinates\n",
    "c = get_sites(Nx, Ny, a1_vec, a2_vec, Basis)[1]\n",
    "coordinates = hcat(first.(c), last.(c));"
   ]
  },
  {
   "cell_type": "code",
   "execution_count": null,
   "id": "e51d3e23-d155-4af6-a49b-b5cc16641f3e",
   "metadata": {},
   "outputs": [],
   "source": [
    "# Ghost Sites\n",
    "coordinates_top_left = (coordinates.-(Nx*a1_vec)).+(Ny*a2_vec)\n",
    "coordinates_top = coordinates.+(Ny*a2_vec)\n",
    "coordinates_top_right = (coordinates.+(Nx*a1_vec)).+(Ny*a2_vec)\n",
    "coordinates_left = coordinates.-(Nx*a1_vec)\n",
    "coordinates_right = coordinates.+(Nx*a1_vec)\n",
    "coordinates_bottom_left = (coordinates.-(Nx*a1_vec)).-(Ny*a2_vec)\n",
    "coordinates_bottom = coordinates.-(Ny*a2_vec)\n",
    "coordinates_bottom_right = (coordinates.+(Nx*a1_vec)).-(Ny*a2_vec)\n",
    "co_districts = [coordinates_top_left,coordinates_top,coordinates_top_right,coordinates_left,coordinates_right,coordinates,coordinates_bottom_left,coordinates_bottom,coordinates_bottom_right];"
   ]
  },
  {
   "cell_type": "code",
   "execution_count": null,
   "id": "d206aab2-20a2-4360-8684-2f0b5700cd6e",
   "metadata": {},
   "outputs": [],
   "source": [
    "# Distance Functions\n",
    "function find_co(coordinates, p) # coordinates: Distrincts of Periodic Site\n",
    "    x_co = coordinates[:,1]\n",
    "    y_co = coordinates[:,2]\n",
    "    x = hcat(x_co, y_co)[p, 1]\n",
    "    y = hcat(x_co, y_co)[p, 2]\n",
    "    return x, y\n",
    "end\n",
    "\n",
    "function distance(coordinates_p1, p1, coordinates_p2, p2)\n",
    "    x2 = find_co(coordinates_p2, p2)[1]\n",
    "    x1 = find_co(coordinates_p1, p1)[1]\n",
    "    y2 = find_co(coordinates_p2, p2)[2]\n",
    "    y1 = find_co(coordinates_p1, p1)[2]\n",
    "    return sqrt( (x2 - x1)^2 + (y2 - y1)^2 )\n",
    "end"
   ]
  },
  {
   "cell_type": "code",
   "execution_count": null,
   "id": "efef09bf-746b-4724-a897-fc1ce41747cc",
   "metadata": {},
   "outputs": [],
   "source": [
    "# Example of Disctance Function\n",
    "coordinates_p1=coordinates\n",
    "p1 = 1\n",
    "coordinates_p2=coordinates\n",
    "p2 = 5\n",
    "distance(coordinates_p1, p1, coordinates_p2, p2)"
   ]
  },
  {
   "cell_type": "markdown",
   "id": "edd7286b-ab0c-444e-ab70-2ab26f49334a",
   "metadata": {},
   "source": [
    "# Minimum Distances of Equivalent Sites from Center Reference Site"
   ]
  },
  {
   "cell_type": "code",
   "execution_count": null,
   "id": "26633d0b-cc6d-44c1-a153-be2f24555e7a",
   "metadata": {},
   "outputs": [],
   "source": [
    "ref_coordinates = coordinates\n",
    "ref_site = imp_site # Site That Pinned\n",
    "distances = []\n",
    "for site_idx in 1:N \n",
    "    push!(distances, distance(coordinates, site_idx, ref_coordinates, ref_site))\n",
    "end\n",
    "radius_list = sort(unique(distances));"
   ]
  },
  {
   "cell_type": "markdown",
   "id": "068fe35e-1368-4fc1-9d7d-ec25df751ba0",
   "metadata": {},
   "source": [
    "# Density Plot and $Q_{\\rho}$ Calculation with Equivalent Sites Conditions"
   ]
  },
  {
   "cell_type": "code",
   "execution_count": null,
   "id": "062371dd-75cd-493c-be34-1cfa29355cf6",
   "metadata": {
    "tags": []
   },
   "outputs": [],
   "source": [
    "# Find x and y coordinates from given site index\n",
    "\n",
    "function exp_list0(site_indx)\n",
    "    \n",
    "    x_co = OffsetArray(get_sites(Nx, Ny, a1_vec, a2_vec, Basis)[4], 1:N)\n",
    "    y_co = OffsetArray(get_sites(Nx, Ny, a1_vec, a2_vec, Basis)[5], 1:N)\n",
    "    \n",
    "    x = hcat(x_co, y_co)[site_indx, 1]\n",
    "    y = hcat(x_co, y_co)[site_indx, 2] \n",
    "    \n",
    "    #!!! \n",
    "    # Burada beklenen değerlerin sıralamasının site bazında olduğunu varsaydım!!!!\n",
    "    #!!!\n",
    "    exp_val = real(avg_density)[site_indx] \n",
    "    \n",
    "    return x, y, exp_val\n",
    "end\n",
    "exp_list0(2)"
   ]
  },
  {
   "cell_type": "code",
   "execution_count": null,
   "id": "1f34e534-9bdd-4d5b-a866-d0e4e10e69e1",
   "metadata": {
    "tags": []
   },
   "outputs": [],
   "source": [
    "# Find site_index from given x and y coordinates\n",
    "\n",
    "function exp_list1(Xx, Yy)\n",
    "    co_list = hcat(x_co, y_co)\n",
    "    site_indx = intersect(findall(x->x==Xx, co_list[:,1]), findall(x->x==Yy, co_list[:,2]))\n",
    "    return real(avg_density)[site_indx] \n",
    "end\n",
    "\n",
    "x_co = OffsetArray(get_sites(Nx, Ny, a1_vec, a2_vec, Basis)[4], 1:N)\n",
    "y_co = OffsetArray(get_sites(Nx, Ny, a1_vec, a2_vec, Basis)[5], 1:N)\n",
    "site_index = 2\n",
    "Xx = x_co[site_index]\n",
    "Yy = y_co[site_index]\n",
    "print(site_index,\" => \",Xx,\"\\t\",Yy,\" => \",exp_list1(Xx, Yy))"
   ]
  },
  {
   "cell_type": "code",
   "execution_count": null,
   "id": "53df178e-38aa-42c5-901a-a4b4d3b06dd2",
   "metadata": {},
   "outputs": [],
   "source": [
    "z = exp_list1.(x_co, y_co)\n",
    "z = collect(Iterators.flatten(z));"
   ]
  },
  {
   "cell_type": "code",
   "execution_count": null,
   "id": "019710d0-2a05-48c0-a82f-cc0033b4de3e",
   "metadata": {},
   "outputs": [],
   "source": [
    "z[imp_site]"
   ]
  },
  {
   "cell_type": "code",
   "execution_count": null,
   "id": "5fb9309f-e3ac-4095-bf76-24fb14228666",
   "metadata": {
    "tags": []
   },
   "outputs": [],
   "source": [
    "using LaTeXStrings\n",
    "\n",
    "density = exp_list1.(x_co, y_co)\n",
    "density = collect(Iterators.flatten(z))\n",
    "surface(x_co,y_co,z,xlabel=L\"$x$\",ylabel=L\"$y$\", camera = (0,90), size=(800,800), aspect_ratio=:equal)\n",
    "\n",
    "# Plot kagome as project to the plot of density profile\n",
    "scatter!(x_co, y_co, 0. *density, camera=(0,90), legend=false)"
   ]
  },
  {
   "cell_type": "code",
   "execution_count": 51,
   "id": "68ea24af-237f-4ed1-83bb-a9fed96ba088",
   "metadata": {},
   "outputs": [],
   "source": [
    "# Stack center of coordinates into a array\n",
    "All_Coordinates = vcat(coordinates_top_left,coordinates_top,coordinates_top_right,coordinates_left,coordinates,coordinates_right,coordinates_bottom_left,coordinates_bottom,coordinates_bottom_right)\n",
    "X_Coordinates = All_Coordinates[:,1]\n",
    "Y_Coordinates =  All_Coordinates[:,2];"
   ]
  },
  {
   "cell_type": "code",
   "execution_count": 52,
   "id": "6091e7ae-a0df-4017-a20a-a183b9afc2a1",
   "metadata": {},
   "outputs": [],
   "source": [
    "# Index and Coordinates of All Sites\n",
    "all_idx = []\n",
    "# There is number of 9 distrinct\n",
    "for i in 1:9 \n",
    "    for j in 1:N\n",
    "        push!(all_idx, j)\n",
    "    end\n",
    "end\n",
    "\n",
    "# All_Coordinates_2, her bir N'lik adet satır, sırasıyla bölge koordinatlarını soldan sağa ve aşağıdan yukarıya gösterir.\n",
    "# Her bir bölgede 1'den N'e site indekslemesi tüm siteler için yapılır.\n",
    "All_Coordinates_2 = hcat(all_idx,All_Coordinates);"
   ]
  },
  {
   "cell_type": "code",
   "execution_count": 53,
   "id": "c3740b83-2ebf-495c-a2c0-2fbf33780597",
   "metadata": {},
   "outputs": [],
   "source": [
    "# using Plots\n",
    "# center_x = coordinates[N,1]/2\n",
    "# center_y = coordinates[N,2]/2\n",
    "# scatter([coordinates_top_left[:,1]],[coordinates_top_left[:,2]],legend=false, alpha=0.3)\n",
    "# scatter!([coordinates_top[:,1]],[coordinates_top[:,2]], alpha=0.3)\n",
    "# scatter!([coordinates_top_right[:,1]],[coordinates_top_right[:,2]], alpha=0.3)\n",
    "# scatter!([coordinates_left[:,1]],[coordinates_left[:,2]], alpha=0.3)\n",
    "# scatter!([coordinates[:,1]], [coordinates[:,2]],series_annotations = text.(1:N, :bottom))\n",
    "# scatter!([coordinates_right[:,1]],[coordinates_right[:,2]], alpha=0.3)\n",
    "# scatter!([coordinates_bottom_left[:,1]],[coordinates_bottom_left[:,2]], alpha=0.3)\n",
    "# scatter!([coordinates_bottom[:,1]],[coordinates_bottom[:,2]], alpha=0.3)\n",
    "# scatter!([coordinates_bottom_right[:,1]],[coordinates_bottom_right[:,2]], alpha=0.3)"
   ]
  },
  {
   "cell_type": "code",
   "execution_count": 54,
   "id": "4bd5b188-c0e5-4080-bd82-9c4044b2da0c",
   "metadata": {},
   "outputs": [
    {
     "data": {
      "text/plain": [
       "48"
      ]
     },
     "execution_count": 54,
     "metadata": {},
     "output_type": "execute_result"
    }
   ],
   "source": [
    "# Example of Find Equivalent Site \n",
    "XX = 9.5 # 0 -> coordinates (X Coordinates of Center Distrinct Site)\n",
    "YY = 6.06217782649107 # 0 -> coordinates (Y Coordinates of Center Distrinct Site)\n",
    "# Önce verilen koordinat All_Coordinates_2'de hangi satırda olduğu belirlenir.\n",
    "Intersect = intersect(findall(x->x==XX, All_Coordinates[:,1]), findall(x->x==YY, All_Coordinates[:,2]))\n",
    "# Daha sonra, o sitenin, hangi merkez siteye karşılık geldiği tespit edilir.\n",
    "Equivalent_Site = All_Coordinates_2[:,1][Intersect][1]"
   ]
  },
  {
   "cell_type": "code",
   "execution_count": 55,
   "id": "67f4202b-9fb5-4429-8b4a-289ab193590a",
   "metadata": {},
   "outputs": [
    {
     "data": {
      "text/plain": [
       "21"
      ]
     },
     "execution_count": 55,
     "metadata": {},
     "output_type": "execute_result"
    }
   ],
   "source": [
    "function Get_Site_Idx(XX, YY)\n",
    "    Intersect = intersect(findall(x->x==XX, All_Coordinates[:,1]), findall(x->x==YY, All_Coordinates[:,2]))\n",
    "    Equivalent_Site = All_Coordinates_2[:,1][Intersect][1]\n",
    "    return Equivalent_Site\n",
    "end\n",
    "Get_Site_Idx(-3.5, 4.330127018922193)"
   ]
  },
  {
   "cell_type": "code",
   "execution_count": 56,
   "id": "bdd977df-159e-4f5b-8c7c-92e6e42bc91e",
   "metadata": {},
   "outputs": [
    {
     "data": {
      "text/plain": [
       "5-element Vector{Any}:\n",
       " 19\n",
       " 20\n",
       " 21\n",
       " 30\n",
       " 31"
      ]
     },
     "execution_count": 56,
     "metadata": {},
     "output_type": "execute_result"
    }
   ],
   "source": [
    "ref_district = coordinates # Referance Distrinc is the Center Distrinct\n",
    "\n",
    "# Find imp. site coordinates in the center distrinct\n",
    "Ref_Site_X = ref_district[:,1][imp_site]\n",
    "Ref_Site_Y = ref_district[:,2][imp_site]\n",
    "\n",
    "# Hangi siteler, ilgili yarı-çap içerisinde şartını kontrol ediyoruz\n",
    "function Inner_Sites(Radius)\n",
    "    \n",
    "    inner_sites = []\n",
    "    \n",
    "    for i in 1:N*9\n",
    "        \n",
    "        if (X_Coordinates[i] - Ref_Site_X)^2 + (Y_Coordinates[i] - Ref_Site_Y)^2 < (Radius+0.1)^2\n",
    "            \n",
    "            # Yarı-çap büyüdüğünde, periyodik noktalara sıçrayınca, \"Get_Site_Idx\" fonksiyonu ile eş-değer siteleri buluyoruz.\n",
    "            push!(inner_sites, Get_Site_Idx(X_Coordinates[i], Y_Coordinates[i]))\n",
    "        end\n",
    "    end\n",
    "    \n",
    "    return inner_sites\n",
    "end\n",
    "\n",
    "Radius = 1\n",
    "Inner_Sites(Radius)"
   ]
  },
  {
   "cell_type": "code",
   "execution_count": 57,
   "id": "41d8a162-6390-46a3-9144-db3966af4c5e",
   "metadata": {},
   "outputs": [
    {
     "data": {
      "image/svg+xml": [
       "<?xml version=\"1.0\" encoding=\"utf-8\"?>\n",
       "<svg xmlns=\"http://www.w3.org/2000/svg\" xmlns:xlink=\"http://www.w3.org/1999/xlink\" width=\"600\" height=\"400\" viewBox=\"0 0 2400 1600\">\n",
       "<defs>\n",
       "  <clipPath id=\"clip550\">\n",
       "    <rect x=\"0\" y=\"0\" width=\"2400\" height=\"1600\"/>\n",
       "  </clipPath>\n",
       "</defs>\n",
       "<path clip-path=\"url(#clip550)\" d=\"M0 1600 L2400 1600 L2400 0 L0 0  Z\" fill=\"#ffffff\" fill-rule=\"evenodd\" fill-opacity=\"1\"/>\n",
       "<defs>\n",
       "  <clipPath id=\"clip551\">\n",
       "    <rect x=\"480\" y=\"0\" width=\"1681\" height=\"1600\"/>\n",
       "  </clipPath>\n",
       "</defs>\n",
       "<path clip-path=\"url(#clip550)\" d=\"M112.177 1486.45 L2352.76 1486.45 L2352.76 47.2441 L112.177 47.2441  Z\" fill=\"#ffffff\" fill-rule=\"evenodd\" fill-opacity=\"1\"/>\n",
       "<defs>\n",
       "  <clipPath id=\"clip552\">\n",
       "    <rect x=\"112\" y=\"47\" width=\"2242\" height=\"1440\"/>\n",
       "  </clipPath>\n",
       "</defs>\n",
       "<polyline clip-path=\"url(#clip552)\" style=\"stroke:#000000; stroke-linecap:round; stroke-linejoin:round; stroke-width:2; stroke-opacity:0.1; fill:none\" points=\"175.59,1486.45 175.59,47.2441 \"/>\n",
       "<polyline clip-path=\"url(#clip552)\" style=\"stroke:#000000; stroke-linecap:round; stroke-linejoin:round; stroke-width:2; stroke-opacity:0.1; fill:none\" points=\"704.028,1486.45 704.028,47.2441 \"/>\n",
       "<polyline clip-path=\"url(#clip552)\" style=\"stroke:#000000; stroke-linecap:round; stroke-linejoin:round; stroke-width:2; stroke-opacity:0.1; fill:none\" points=\"1232.47,1486.45 1232.47,47.2441 \"/>\n",
       "<polyline clip-path=\"url(#clip552)\" style=\"stroke:#000000; stroke-linecap:round; stroke-linejoin:round; stroke-width:2; stroke-opacity:0.1; fill:none\" points=\"1760.9,1486.45 1760.9,47.2441 \"/>\n",
       "<polyline clip-path=\"url(#clip552)\" style=\"stroke:#000000; stroke-linecap:round; stroke-linejoin:round; stroke-width:2; stroke-opacity:0.1; fill:none\" points=\"2289.34,1486.45 2289.34,47.2441 \"/>\n",
       "<polyline clip-path=\"url(#clip550)\" style=\"stroke:#000000; stroke-linecap:round; stroke-linejoin:round; stroke-width:4; stroke-opacity:1; fill:none\" points=\"112.177,1486.45 2352.76,1486.45 \"/>\n",
       "<polyline clip-path=\"url(#clip550)\" style=\"stroke:#000000; stroke-linecap:round; stroke-linejoin:round; stroke-width:4; stroke-opacity:1; fill:none\" points=\"175.59,1486.45 175.59,1467.55 \"/>\n",
       "<polyline clip-path=\"url(#clip550)\" style=\"stroke:#000000; stroke-linecap:round; stroke-linejoin:round; stroke-width:4; stroke-opacity:1; fill:none\" points=\"704.028,1486.45 704.028,1467.55 \"/>\n",
       "<polyline clip-path=\"url(#clip550)\" style=\"stroke:#000000; stroke-linecap:round; stroke-linejoin:round; stroke-width:4; stroke-opacity:1; fill:none\" points=\"1232.47,1486.45 1232.47,1467.55 \"/>\n",
       "<polyline clip-path=\"url(#clip550)\" style=\"stroke:#000000; stroke-linecap:round; stroke-linejoin:round; stroke-width:4; stroke-opacity:1; fill:none\" points=\"1760.9,1486.45 1760.9,1467.55 \"/>\n",
       "<polyline clip-path=\"url(#clip550)\" style=\"stroke:#000000; stroke-linecap:round; stroke-linejoin:round; stroke-width:4; stroke-opacity:1; fill:none\" points=\"2289.34,1486.45 2289.34,1467.55 \"/>\n",
       "<path clip-path=\"url(#clip550)\" d=\"M152.974 1517.37 Q149.363 1517.37 147.534 1520.93 Q145.729 1524.47 145.729 1531.6 Q145.729 1538.71 147.534 1542.27 Q149.363 1545.82 152.974 1545.82 Q156.608 1545.82 158.414 1542.27 Q160.243 1538.71 160.243 1531.6 Q160.243 1524.47 158.414 1520.93 Q156.608 1517.37 152.974 1517.37 M152.974 1513.66 Q158.784 1513.66 161.84 1518.27 Q164.919 1522.85 164.919 1531.6 Q164.919 1540.33 161.84 1544.94 Q158.784 1549.52 152.974 1549.52 Q147.164 1549.52 144.085 1544.94 Q141.03 1540.33 141.03 1531.6 Q141.03 1522.85 144.085 1518.27 Q147.164 1513.66 152.974 1513.66 Z\" fill=\"#000000\" fill-rule=\"nonzero\" fill-opacity=\"1\" /><path clip-path=\"url(#clip550)\" d=\"M173.136 1542.97 L178.02 1542.97 L178.02 1548.85 L173.136 1548.85 L173.136 1542.97 Z\" fill=\"#000000\" fill-rule=\"nonzero\" fill-opacity=\"1\" /><path clip-path=\"url(#clip550)\" d=\"M198.205 1517.37 Q194.594 1517.37 192.766 1520.93 Q190.96 1524.47 190.96 1531.6 Q190.96 1538.71 192.766 1542.27 Q194.594 1545.82 198.205 1545.82 Q201.84 1545.82 203.645 1542.27 Q205.474 1538.71 205.474 1531.6 Q205.474 1524.47 203.645 1520.93 Q201.84 1517.37 198.205 1517.37 M198.205 1513.66 Q204.016 1513.66 207.071 1518.27 Q210.15 1522.85 210.15 1531.6 Q210.15 1540.33 207.071 1544.94 Q204.016 1549.52 198.205 1549.52 Q192.395 1549.52 189.317 1544.94 Q186.261 1540.33 186.261 1531.6 Q186.261 1522.85 189.317 1518.27 Q192.395 1513.66 198.205 1513.66 Z\" fill=\"#000000\" fill-rule=\"nonzero\" fill-opacity=\"1\" /><path clip-path=\"url(#clip550)\" d=\"M675.764 1544.91 L692.084 1544.91 L692.084 1548.85 L670.139 1548.85 L670.139 1544.91 Q672.801 1542.16 677.385 1537.53 Q681.991 1532.88 683.172 1531.53 Q685.417 1529.01 686.297 1527.27 Q687.2 1525.51 687.2 1523.82 Q687.2 1521.07 685.255 1519.33 Q683.334 1517.6 680.232 1517.6 Q678.033 1517.6 675.579 1518.36 Q673.149 1519.13 670.371 1520.68 L670.371 1515.95 Q673.195 1514.82 675.649 1514.24 Q678.102 1513.66 680.139 1513.66 Q685.51 1513.66 688.704 1516.35 Q691.899 1519.03 691.899 1523.52 Q691.899 1525.65 691.088 1527.57 Q690.301 1529.47 688.195 1532.07 Q687.616 1532.74 684.514 1535.95 Q681.413 1539.15 675.764 1544.91 Z\" fill=\"#000000\" fill-rule=\"nonzero\" fill-opacity=\"1\" /><path clip-path=\"url(#clip550)\" d=\"M701.899 1542.97 L706.783 1542.97 L706.783 1548.85 L701.899 1548.85 L701.899 1542.97 Z\" fill=\"#000000\" fill-rule=\"nonzero\" fill-opacity=\"1\" /><path clip-path=\"url(#clip550)\" d=\"M717.014 1514.29 L735.371 1514.29 L735.371 1518.22 L721.297 1518.22 L721.297 1526.7 Q722.315 1526.35 723.334 1526.19 Q724.352 1526 725.371 1526 Q731.158 1526 734.537 1529.17 Q737.917 1532.34 737.917 1537.76 Q737.917 1543.34 734.445 1546.44 Q730.972 1549.52 724.653 1549.52 Q722.477 1549.52 720.209 1549.15 Q717.963 1548.78 715.556 1548.04 L715.556 1543.34 Q717.639 1544.47 719.861 1545.03 Q722.084 1545.58 724.56 1545.58 Q728.565 1545.58 730.903 1543.48 Q733.241 1541.37 733.241 1537.76 Q733.241 1534.15 730.903 1532.04 Q728.565 1529.94 724.56 1529.94 Q722.685 1529.94 720.81 1530.35 Q718.959 1530.77 717.014 1531.65 L717.014 1514.29 Z\" fill=\"#000000\" fill-rule=\"nonzero\" fill-opacity=\"1\" /><path clip-path=\"url(#clip550)\" d=\"M1199.63 1514.29 L1217.99 1514.29 L1217.99 1518.22 L1203.91 1518.22 L1203.91 1526.7 Q1204.93 1526.35 1205.95 1526.19 Q1206.97 1526 1207.99 1526 Q1213.77 1526 1217.15 1529.17 Q1220.53 1532.34 1220.53 1537.76 Q1220.53 1543.34 1217.06 1546.44 Q1213.59 1549.52 1207.27 1549.52 Q1205.09 1549.52 1202.83 1549.15 Q1200.58 1548.78 1198.17 1548.04 L1198.17 1543.34 Q1200.26 1544.47 1202.48 1545.03 Q1204.7 1545.58 1207.18 1545.58 Q1211.18 1545.58 1213.52 1543.48 Q1215.86 1541.37 1215.86 1537.76 Q1215.86 1534.15 1213.52 1532.04 Q1211.18 1529.94 1207.18 1529.94 Q1205.3 1529.94 1203.43 1530.35 Q1201.58 1530.77 1199.63 1531.65 L1199.63 1514.29 Z\" fill=\"#000000\" fill-rule=\"nonzero\" fill-opacity=\"1\" /><path clip-path=\"url(#clip550)\" d=\"M1229.75 1542.97 L1234.63 1542.97 L1234.63 1548.85 L1229.75 1548.85 L1229.75 1542.97 Z\" fill=\"#000000\" fill-rule=\"nonzero\" fill-opacity=\"1\" /><path clip-path=\"url(#clip550)\" d=\"M1254.82 1517.37 Q1251.2 1517.37 1249.38 1520.93 Q1247.57 1524.47 1247.57 1531.6 Q1247.57 1538.71 1249.38 1542.27 Q1251.2 1545.82 1254.82 1545.82 Q1258.45 1545.82 1260.26 1542.27 Q1262.08 1538.71 1262.08 1531.6 Q1262.08 1524.47 1260.26 1520.93 Q1258.45 1517.37 1254.82 1517.37 M1254.82 1513.66 Q1260.63 1513.66 1263.68 1518.27 Q1266.76 1522.85 1266.76 1531.6 Q1266.76 1540.33 1263.68 1544.94 Q1260.63 1549.52 1254.82 1549.52 Q1249.01 1549.52 1245.93 1544.94 Q1242.87 1540.33 1242.87 1531.6 Q1242.87 1522.85 1245.93 1518.27 Q1249.01 1513.66 1254.82 1513.66 Z\" fill=\"#000000\" fill-rule=\"nonzero\" fill-opacity=\"1\" /><path clip-path=\"url(#clip550)\" d=\"M1727.22 1514.29 L1749.45 1514.29 L1749.45 1516.28 L1736.9 1548.85 L1732.02 1548.85 L1743.82 1518.22 L1727.22 1518.22 L1727.22 1514.29 Z\" fill=\"#000000\" fill-rule=\"nonzero\" fill-opacity=\"1\" /><path clip-path=\"url(#clip550)\" d=\"M1758.57 1542.97 L1763.45 1542.97 L1763.45 1548.85 L1758.57 1548.85 L1758.57 1542.97 Z\" fill=\"#000000\" fill-rule=\"nonzero\" fill-opacity=\"1\" /><path clip-path=\"url(#clip550)\" d=\"M1773.68 1514.29 L1792.04 1514.29 L1792.04 1518.22 L1777.97 1518.22 L1777.97 1526.7 Q1778.98 1526.35 1780 1526.19 Q1781.02 1526 1782.04 1526 Q1787.83 1526 1791.21 1529.17 Q1794.59 1532.34 1794.59 1537.76 Q1794.59 1543.34 1791.11 1546.44 Q1787.64 1549.52 1781.32 1549.52 Q1779.15 1549.52 1776.88 1549.15 Q1774.63 1548.78 1772.22 1548.04 L1772.22 1543.34 Q1774.31 1544.47 1776.53 1545.03 Q1778.75 1545.58 1781.23 1545.58 Q1785.23 1545.58 1787.57 1543.48 Q1789.91 1541.37 1789.91 1537.76 Q1789.91 1534.15 1787.57 1532.04 Q1785.23 1529.94 1781.23 1529.94 Q1779.35 1529.94 1777.48 1530.35 Q1775.63 1530.77 1773.68 1531.65 L1773.68 1514.29 Z\" fill=\"#000000\" fill-rule=\"nonzero\" fill-opacity=\"1\" /><path clip-path=\"url(#clip550)\" d=\"M2241.42 1544.91 L2249.05 1544.91 L2249.05 1518.55 L2240.74 1520.21 L2240.74 1515.95 L2249.01 1514.29 L2253.68 1514.29 L2253.68 1544.91 L2261.32 1544.91 L2261.32 1548.85 L2241.42 1548.85 L2241.42 1544.91 Z\" fill=\"#000000\" fill-rule=\"nonzero\" fill-opacity=\"1\" /><path clip-path=\"url(#clip550)\" d=\"M2280.77 1517.37 Q2277.16 1517.37 2275.33 1520.93 Q2273.52 1524.47 2273.52 1531.6 Q2273.52 1538.71 2275.33 1542.27 Q2277.16 1545.82 2280.77 1545.82 Q2284.4 1545.82 2286.21 1542.27 Q2288.04 1538.71 2288.04 1531.6 Q2288.04 1524.47 2286.21 1520.93 Q2284.4 1517.37 2280.77 1517.37 M2280.77 1513.66 Q2286.58 1513.66 2289.63 1518.27 Q2292.71 1522.85 2292.71 1531.6 Q2292.71 1540.33 2289.63 1544.94 Q2286.58 1549.52 2280.77 1549.52 Q2274.96 1549.52 2271.88 1544.94 Q2268.82 1540.33 2268.82 1531.6 Q2268.82 1522.85 2271.88 1518.27 Q2274.96 1513.66 2280.77 1513.66 Z\" fill=\"#000000\" fill-rule=\"nonzero\" fill-opacity=\"1\" /><path clip-path=\"url(#clip550)\" d=\"M2300.93 1542.97 L2305.81 1542.97 L2305.81 1548.85 L2300.93 1548.85 L2300.93 1542.97 Z\" fill=\"#000000\" fill-rule=\"nonzero\" fill-opacity=\"1\" /><path clip-path=\"url(#clip550)\" d=\"M2326 1517.37 Q2322.39 1517.37 2320.56 1520.93 Q2318.75 1524.47 2318.75 1531.6 Q2318.75 1538.71 2320.56 1542.27 Q2322.39 1545.82 2326 1545.82 Q2329.63 1545.82 2331.44 1542.27 Q2333.27 1538.71 2333.27 1531.6 Q2333.27 1524.47 2331.44 1520.93 Q2329.63 1517.37 2326 1517.37 M2326 1513.66 Q2331.81 1513.66 2334.86 1518.27 Q2337.94 1522.85 2337.94 1531.6 Q2337.94 1540.33 2334.86 1544.94 Q2331.81 1549.52 2326 1549.52 Q2320.19 1549.52 2317.11 1544.94 Q2314.05 1540.33 2314.05 1531.6 Q2314.05 1522.85 2317.11 1518.27 Q2320.19 1513.66 2326 1513.66 Z\" fill=\"#000000\" fill-rule=\"nonzero\" fill-opacity=\"1\" /><polyline clip-path=\"url(#clip552)\" style=\"stroke:#000000; stroke-linecap:round; stroke-linejoin:round; stroke-width:2; stroke-opacity:0.1; fill:none\" points=\"112.177,1445.72 2352.76,1445.72 \"/>\n",
       "<polyline clip-path=\"url(#clip552)\" style=\"stroke:#000000; stroke-linecap:round; stroke-linejoin:round; stroke-width:2; stroke-opacity:0.1; fill:none\" points=\"112.177,1221.75 2352.76,1221.75 \"/>\n",
       "<polyline clip-path=\"url(#clip552)\" style=\"stroke:#000000; stroke-linecap:round; stroke-linejoin:round; stroke-width:2; stroke-opacity:0.1; fill:none\" points=\"112.177,997.778 2352.76,997.778 \"/>\n",
       "<polyline clip-path=\"url(#clip552)\" style=\"stroke:#000000; stroke-linecap:round; stroke-linejoin:round; stroke-width:2; stroke-opacity:0.1; fill:none\" points=\"112.177,773.809 2352.76,773.809 \"/>\n",
       "<polyline clip-path=\"url(#clip552)\" style=\"stroke:#000000; stroke-linecap:round; stroke-linejoin:round; stroke-width:2; stroke-opacity:0.1; fill:none\" points=\"112.177,549.84 2352.76,549.84 \"/>\n",
       "<polyline clip-path=\"url(#clip552)\" style=\"stroke:#000000; stroke-linecap:round; stroke-linejoin:round; stroke-width:2; stroke-opacity:0.1; fill:none\" points=\"112.177,325.871 2352.76,325.871 \"/>\n",
       "<polyline clip-path=\"url(#clip552)\" style=\"stroke:#000000; stroke-linecap:round; stroke-linejoin:round; stroke-width:2; stroke-opacity:0.1; fill:none\" points=\"112.177,101.902 2352.76,101.902 \"/>\n",
       "<polyline clip-path=\"url(#clip550)\" style=\"stroke:#000000; stroke-linecap:round; stroke-linejoin:round; stroke-width:4; stroke-opacity:1; fill:none\" points=\"112.177,1486.45 112.177,47.2441 \"/>\n",
       "<polyline clip-path=\"url(#clip550)\" style=\"stroke:#000000; stroke-linecap:round; stroke-linejoin:round; stroke-width:4; stroke-opacity:1; fill:none\" points=\"112.177,1445.72 131.075,1445.72 \"/>\n",
       "<polyline clip-path=\"url(#clip550)\" style=\"stroke:#000000; stroke-linecap:round; stroke-linejoin:round; stroke-width:4; stroke-opacity:1; fill:none\" points=\"112.177,1221.75 131.075,1221.75 \"/>\n",
       "<polyline clip-path=\"url(#clip550)\" style=\"stroke:#000000; stroke-linecap:round; stroke-linejoin:round; stroke-width:4; stroke-opacity:1; fill:none\" points=\"112.177,997.778 131.075,997.778 \"/>\n",
       "<polyline clip-path=\"url(#clip550)\" style=\"stroke:#000000; stroke-linecap:round; stroke-linejoin:round; stroke-width:4; stroke-opacity:1; fill:none\" points=\"112.177,773.809 131.075,773.809 \"/>\n",
       "<polyline clip-path=\"url(#clip550)\" style=\"stroke:#000000; stroke-linecap:round; stroke-linejoin:round; stroke-width:4; stroke-opacity:1; fill:none\" points=\"112.177,549.84 131.075,549.84 \"/>\n",
       "<polyline clip-path=\"url(#clip550)\" style=\"stroke:#000000; stroke-linecap:round; stroke-linejoin:round; stroke-width:4; stroke-opacity:1; fill:none\" points=\"112.177,325.871 131.075,325.871 \"/>\n",
       "<polyline clip-path=\"url(#clip550)\" style=\"stroke:#000000; stroke-linecap:round; stroke-linejoin:round; stroke-width:4; stroke-opacity:1; fill:none\" points=\"112.177,101.902 131.075,101.902 \"/>\n",
       "<path clip-path=\"url(#clip550)\" d=\"M64.2328 1431.51 Q60.6217 1431.51 58.793 1435.08 Q56.9875 1438.62 56.9875 1445.75 Q56.9875 1452.86 58.793 1456.42 Q60.6217 1459.96 64.2328 1459.96 Q67.867 1459.96 69.6726 1456.42 Q71.5013 1452.86 71.5013 1445.75 Q71.5013 1438.62 69.6726 1435.08 Q67.867 1431.51 64.2328 1431.51 M64.2328 1427.81 Q70.0429 1427.81 73.0985 1432.42 Q76.1772 1437 76.1772 1445.75 Q76.1772 1454.48 73.0985 1459.08 Q70.0429 1463.67 64.2328 1463.67 Q58.4226 1463.67 55.344 1459.08 Q52.2884 1454.48 52.2884 1445.75 Q52.2884 1437 55.344 1432.42 Q58.4226 1427.81 64.2328 1427.81 Z\" fill=\"#000000\" fill-rule=\"nonzero\" fill-opacity=\"1\" /><path clip-path=\"url(#clip550)\" d=\"M56.2699 1235.09 L63.9087 1235.09 L63.9087 1208.73 L55.5986 1210.39 L55.5986 1206.13 L63.8624 1204.47 L68.5383 1204.47 L68.5383 1235.09 L76.1772 1235.09 L76.1772 1239.03 L56.2699 1239.03 L56.2699 1235.09 Z\" fill=\"#000000\" fill-rule=\"nonzero\" fill-opacity=\"1\" /><path clip-path=\"url(#clip550)\" d=\"M59.8578 1011.12 L76.1772 1011.12 L76.1772 1015.06 L54.2328 1015.06 L54.2328 1011.12 Q56.8949 1008.37 61.4782 1003.74 Q66.0846 999.086 67.2652 997.743 Q69.5105 995.22 70.3902 993.484 Q71.2929 991.725 71.2929 990.035 Q71.2929 987.28 69.3485 985.544 Q67.4272 983.808 64.3254 983.808 Q62.1263 983.808 59.6726 984.572 Q57.2421 985.336 54.4643 986.887 L54.4643 982.165 Q57.2884 981.03 59.7421 980.452 Q62.1958 979.873 64.2328 979.873 Q69.6031 979.873 72.7976 982.558 Q75.992 985.243 75.992 989.734 Q75.992 991.864 75.1818 993.785 Q74.3948 995.683 72.2883 998.276 Q71.7096 998.947 68.6078 1002.16 Q65.5059 1005.36 59.8578 1011.12 Z\" fill=\"#000000\" fill-rule=\"nonzero\" fill-opacity=\"1\" /><path clip-path=\"url(#clip550)\" d=\"M69.0476 772.455 Q72.404 773.172 74.279 775.441 Q76.1772 777.709 76.1772 781.043 Q76.1772 786.158 72.6587 788.959 Q69.1402 791.76 62.6587 791.76 Q60.4828 791.76 58.168 791.32 Q55.8764 790.904 53.4227 790.047 L53.4227 785.533 Q55.3671 786.668 57.6819 787.246 Q59.9967 787.825 62.5198 787.825 Q66.918 787.825 69.2096 786.089 Q71.5244 784.353 71.5244 781.043 Q71.5244 777.987 69.3717 776.274 Q67.242 774.538 63.4226 774.538 L59.3949 774.538 L59.3949 770.696 L63.6078 770.696 Q67.0569 770.696 68.8855 769.33 Q70.7142 767.941 70.7142 765.348 Q70.7142 762.686 68.8161 761.274 Q66.9411 759.839 63.4226 759.839 Q61.5013 759.839 59.3023 760.256 Q57.1032 760.672 54.4643 761.552 L54.4643 757.385 Q57.1264 756.645 59.4412 756.274 Q61.7791 755.904 63.8393 755.904 Q69.1633 755.904 72.2652 758.334 Q75.367 760.742 75.367 764.862 Q75.367 767.733 73.7235 769.723 Q72.08 771.691 69.0476 772.455 Z\" fill=\"#000000\" fill-rule=\"nonzero\" fill-opacity=\"1\" /><path clip-path=\"url(#clip550)\" d=\"M66.5939 536.634 L54.7884 555.083 L66.5939 555.083 L66.5939 536.634 M65.367 532.56 L71.2466 532.56 L71.2466 555.083 L76.1772 555.083 L76.1772 558.972 L71.2466 558.972 L71.2466 567.12 L66.5939 567.12 L66.5939 558.972 L50.9921 558.972 L50.9921 554.458 L65.367 532.56 Z\" fill=\"#000000\" fill-rule=\"nonzero\" fill-opacity=\"1\" /><path clip-path=\"url(#clip550)\" d=\"M55.2745 308.591 L73.6309 308.591 L73.6309 312.526 L59.5569 312.526 L59.5569 320.998 Q60.5754 320.651 61.5939 320.489 Q62.6124 320.304 63.6309 320.304 Q69.418 320.304 72.7976 323.475 Q76.1772 326.647 76.1772 332.063 Q76.1772 337.642 72.705 340.744 Q69.2328 343.822 62.9134 343.822 Q60.7374 343.822 58.4689 343.452 Q56.2236 343.082 53.8162 342.341 L53.8162 337.642 Q55.8995 338.776 58.1217 339.332 Q60.3439 339.887 62.8208 339.887 Q66.8254 339.887 69.1633 337.781 Q71.5013 335.674 71.5013 332.063 Q71.5013 328.452 69.1633 326.346 Q66.8254 324.239 62.8208 324.239 Q60.9458 324.239 59.0708 324.656 Q57.2189 325.072 55.2745 325.952 L55.2745 308.591 Z\" fill=\"#000000\" fill-rule=\"nonzero\" fill-opacity=\"1\" /><path clip-path=\"url(#clip550)\" d=\"M64.6495 100.039 Q61.5013 100.039 59.6495 102.192 Q57.8208 104.344 57.8208 108.094 Q57.8208 111.821 59.6495 113.997 Q61.5013 116.15 64.6495 116.15 Q67.7976 116.15 69.6263 113.997 Q71.4781 111.821 71.4781 108.094 Q71.4781 104.344 69.6263 102.192 Q67.7976 100.039 64.6495 100.039 M73.9318 85.3861 L73.9318 89.6453 Q72.1726 88.812 70.367 88.3722 Q68.5846 87.9323 66.8254 87.9323 Q62.1958 87.9323 59.7421 91.0573 Q57.3115 94.1823 56.9643 100.502 Q58.33 98.4878 60.3902 97.423 Q62.4504 96.3351 64.9272 96.3351 Q70.1355 96.3351 73.1448 99.5064 Q76.1772 102.654 76.1772 108.094 Q76.1772 113.418 73.029 116.636 Q69.8809 119.853 64.6495 119.853 Q58.6541 119.853 55.4828 115.27 Q52.3116 110.664 52.3116 101.937 Q52.3116 93.7425 56.2004 88.8814 Q60.0893 83.9972 66.6402 83.9972 Q68.3994 83.9972 70.1818 84.3444 Q71.9874 84.6916 73.9318 85.3861 Z\" fill=\"#000000\" fill-rule=\"nonzero\" fill-opacity=\"1\" /><circle clip-path=\"url(#clip552)\" cx=\"175.59\" cy=\"1445.72\" r=\"14.4\" fill=\"#009af9\" fill-rule=\"evenodd\" fill-opacity=\"1\" stroke=\"#000000\" stroke-opacity=\"1\" stroke-width=\"3.2\"/>\n",
       "<circle clip-path=\"url(#clip552)\" cx=\"386.965\" cy=\"1445.72\" r=\"14.4\" fill=\"#009af9\" fill-rule=\"evenodd\" fill-opacity=\"1\" stroke=\"#000000\" stroke-opacity=\"1\" stroke-width=\"3.2\"/>\n",
       "<circle clip-path=\"url(#clip552)\" cx=\"281.277\" cy=\"1251.75\" r=\"14.4\" fill=\"#009af9\" fill-rule=\"evenodd\" fill-opacity=\"1\" stroke=\"#000000\" stroke-opacity=\"1\" stroke-width=\"3.2\"/>\n",
       "<circle clip-path=\"url(#clip552)\" cx=\"386.965\" cy=\"1057.79\" r=\"14.4\" fill=\"#009af9\" fill-rule=\"evenodd\" fill-opacity=\"1\" stroke=\"#000000\" stroke-opacity=\"1\" stroke-width=\"3.2\"/>\n",
       "<circle clip-path=\"url(#clip552)\" cx=\"598.34\" cy=\"1057.79\" r=\"14.4\" fill=\"#009af9\" fill-rule=\"evenodd\" fill-opacity=\"1\" stroke=\"#000000\" stroke-opacity=\"1\" stroke-width=\"3.2\"/>\n",
       "<circle clip-path=\"url(#clip552)\" cx=\"492.653\" cy=\"863.827\" r=\"14.4\" fill=\"#009af9\" fill-rule=\"evenodd\" fill-opacity=\"1\" stroke=\"#000000\" stroke-opacity=\"1\" stroke-width=\"3.2\"/>\n",
       "<circle clip-path=\"url(#clip552)\" cx=\"598.34\" cy=\"669.865\" r=\"14.4\" fill=\"#009af9\" fill-rule=\"evenodd\" fill-opacity=\"1\" stroke=\"#000000\" stroke-opacity=\"1\" stroke-width=\"3.2\"/>\n",
       "<circle clip-path=\"url(#clip552)\" cx=\"809.716\" cy=\"669.865\" r=\"14.4\" fill=\"#009af9\" fill-rule=\"evenodd\" fill-opacity=\"1\" stroke=\"#000000\" stroke-opacity=\"1\" stroke-width=\"3.2\"/>\n",
       "<circle clip-path=\"url(#clip552)\" cx=\"704.028\" cy=\"475.902\" r=\"14.4\" fill=\"#009af9\" fill-rule=\"evenodd\" fill-opacity=\"1\" stroke=\"#000000\" stroke-opacity=\"1\" stroke-width=\"3.2\"/>\n",
       "<circle clip-path=\"url(#clip552)\" cx=\"809.716\" cy=\"281.939\" r=\"14.4\" fill=\"#009af9\" fill-rule=\"evenodd\" fill-opacity=\"1\" stroke=\"#000000\" stroke-opacity=\"1\" stroke-width=\"3.2\"/>\n",
       "<circle clip-path=\"url(#clip552)\" cx=\"1021.09\" cy=\"281.939\" r=\"14.4\" fill=\"#009af9\" fill-rule=\"evenodd\" fill-opacity=\"1\" stroke=\"#000000\" stroke-opacity=\"1\" stroke-width=\"3.2\"/>\n",
       "<circle clip-path=\"url(#clip552)\" cx=\"915.404\" cy=\"87.9763\" r=\"14.4\" fill=\"#009af9\" fill-rule=\"evenodd\" fill-opacity=\"1\" stroke=\"#000000\" stroke-opacity=\"1\" stroke-width=\"3.2\"/>\n",
       "<circle clip-path=\"url(#clip552)\" cx=\"598.34\" cy=\"1445.72\" r=\"14.4\" fill=\"#009af9\" fill-rule=\"evenodd\" fill-opacity=\"1\" stroke=\"#000000\" stroke-opacity=\"1\" stroke-width=\"3.2\"/>\n",
       "<circle clip-path=\"url(#clip552)\" cx=\"809.716\" cy=\"1445.72\" r=\"14.4\" fill=\"#009af9\" fill-rule=\"evenodd\" fill-opacity=\"1\" stroke=\"#000000\" stroke-opacity=\"1\" stroke-width=\"3.2\"/>\n",
       "<circle clip-path=\"url(#clip552)\" cx=\"704.028\" cy=\"1251.75\" r=\"14.4\" fill=\"#009af9\" fill-rule=\"evenodd\" fill-opacity=\"1\" stroke=\"#000000\" stroke-opacity=\"1\" stroke-width=\"3.2\"/>\n",
       "<circle clip-path=\"url(#clip552)\" cx=\"809.716\" cy=\"1057.79\" r=\"14.4\" fill=\"#009af9\" fill-rule=\"evenodd\" fill-opacity=\"1\" stroke=\"#000000\" stroke-opacity=\"1\" stroke-width=\"3.2\"/>\n",
       "<circle clip-path=\"url(#clip552)\" cx=\"1021.09\" cy=\"1057.79\" r=\"14.4\" fill=\"#009af9\" fill-rule=\"evenodd\" fill-opacity=\"1\" stroke=\"#000000\" stroke-opacity=\"1\" stroke-width=\"3.2\"/>\n",
       "<circle clip-path=\"url(#clip552)\" cx=\"915.404\" cy=\"863.827\" r=\"14.4\" fill=\"#009af9\" fill-rule=\"evenodd\" fill-opacity=\"1\" stroke=\"#000000\" stroke-opacity=\"1\" stroke-width=\"3.2\"/>\n",
       "<circle clip-path=\"url(#clip552)\" cx=\"1021.09\" cy=\"669.865\" r=\"14.4\" fill=\"#009af9\" fill-rule=\"evenodd\" fill-opacity=\"1\" stroke=\"#000000\" stroke-opacity=\"1\" stroke-width=\"3.2\"/>\n",
       "<circle clip-path=\"url(#clip552)\" cx=\"1232.47\" cy=\"669.865\" r=\"14.4\" fill=\"#009af9\" fill-rule=\"evenodd\" fill-opacity=\"1\" stroke=\"#000000\" stroke-opacity=\"1\" stroke-width=\"3.2\"/>\n",
       "<circle clip-path=\"url(#clip552)\" cx=\"1126.78\" cy=\"475.902\" r=\"14.4\" fill=\"#009af9\" fill-rule=\"evenodd\" fill-opacity=\"1\" stroke=\"#000000\" stroke-opacity=\"1\" stroke-width=\"3.2\"/>\n",
       "<circle clip-path=\"url(#clip552)\" cx=\"1232.47\" cy=\"281.939\" r=\"14.4\" fill=\"#009af9\" fill-rule=\"evenodd\" fill-opacity=\"1\" stroke=\"#000000\" stroke-opacity=\"1\" stroke-width=\"3.2\"/>\n",
       "<circle clip-path=\"url(#clip552)\" cx=\"1443.84\" cy=\"281.939\" r=\"14.4\" fill=\"#009af9\" fill-rule=\"evenodd\" fill-opacity=\"1\" stroke=\"#000000\" stroke-opacity=\"1\" stroke-width=\"3.2\"/>\n",
       "<circle clip-path=\"url(#clip552)\" cx=\"1338.15\" cy=\"87.9763\" r=\"14.4\" fill=\"#009af9\" fill-rule=\"evenodd\" fill-opacity=\"1\" stroke=\"#000000\" stroke-opacity=\"1\" stroke-width=\"3.2\"/>\n",
       "<circle clip-path=\"url(#clip552)\" cx=\"1021.09\" cy=\"1445.72\" r=\"14.4\" fill=\"#009af9\" fill-rule=\"evenodd\" fill-opacity=\"1\" stroke=\"#000000\" stroke-opacity=\"1\" stroke-width=\"3.2\"/>\n",
       "<circle clip-path=\"url(#clip552)\" cx=\"1232.47\" cy=\"1445.72\" r=\"14.4\" fill=\"#009af9\" fill-rule=\"evenodd\" fill-opacity=\"1\" stroke=\"#000000\" stroke-opacity=\"1\" stroke-width=\"3.2\"/>\n",
       "<circle clip-path=\"url(#clip552)\" cx=\"1126.78\" cy=\"1251.75\" r=\"14.4\" fill=\"#009af9\" fill-rule=\"evenodd\" fill-opacity=\"1\" stroke=\"#000000\" stroke-opacity=\"1\" stroke-width=\"3.2\"/>\n",
       "<circle clip-path=\"url(#clip552)\" cx=\"1232.47\" cy=\"1057.79\" r=\"14.4\" fill=\"#009af9\" fill-rule=\"evenodd\" fill-opacity=\"1\" stroke=\"#000000\" stroke-opacity=\"1\" stroke-width=\"3.2\"/>\n",
       "<circle clip-path=\"url(#clip552)\" cx=\"1443.84\" cy=\"1057.79\" r=\"14.4\" fill=\"#009af9\" fill-rule=\"evenodd\" fill-opacity=\"1\" stroke=\"#000000\" stroke-opacity=\"1\" stroke-width=\"3.2\"/>\n",
       "<circle clip-path=\"url(#clip552)\" cx=\"1338.15\" cy=\"863.827\" r=\"14.4\" fill=\"#009af9\" fill-rule=\"evenodd\" fill-opacity=\"1\" stroke=\"#000000\" stroke-opacity=\"1\" stroke-width=\"3.2\"/>\n",
       "<circle clip-path=\"url(#clip552)\" cx=\"1443.84\" cy=\"669.865\" r=\"14.4\" fill=\"#009af9\" fill-rule=\"evenodd\" fill-opacity=\"1\" stroke=\"#000000\" stroke-opacity=\"1\" stroke-width=\"3.2\"/>\n",
       "<circle clip-path=\"url(#clip552)\" cx=\"1655.22\" cy=\"669.865\" r=\"14.4\" fill=\"#009af9\" fill-rule=\"evenodd\" fill-opacity=\"1\" stroke=\"#000000\" stroke-opacity=\"1\" stroke-width=\"3.2\"/>\n",
       "<circle clip-path=\"url(#clip552)\" cx=\"1549.53\" cy=\"475.902\" r=\"14.4\" fill=\"#009af9\" fill-rule=\"evenodd\" fill-opacity=\"1\" stroke=\"#000000\" stroke-opacity=\"1\" stroke-width=\"3.2\"/>\n",
       "<circle clip-path=\"url(#clip552)\" cx=\"1655.22\" cy=\"281.939\" r=\"14.4\" fill=\"#009af9\" fill-rule=\"evenodd\" fill-opacity=\"1\" stroke=\"#000000\" stroke-opacity=\"1\" stroke-width=\"3.2\"/>\n",
       "<circle clip-path=\"url(#clip552)\" cx=\"1866.59\" cy=\"281.939\" r=\"14.4\" fill=\"#009af9\" fill-rule=\"evenodd\" fill-opacity=\"1\" stroke=\"#000000\" stroke-opacity=\"1\" stroke-width=\"3.2\"/>\n",
       "<circle clip-path=\"url(#clip552)\" cx=\"1760.9\" cy=\"87.9763\" r=\"14.4\" fill=\"#009af9\" fill-rule=\"evenodd\" fill-opacity=\"1\" stroke=\"#000000\" stroke-opacity=\"1\" stroke-width=\"3.2\"/>\n",
       "<circle clip-path=\"url(#clip552)\" cx=\"1443.84\" cy=\"1445.72\" r=\"14.4\" fill=\"#009af9\" fill-rule=\"evenodd\" fill-opacity=\"1\" stroke=\"#000000\" stroke-opacity=\"1\" stroke-width=\"3.2\"/>\n",
       "<circle clip-path=\"url(#clip552)\" cx=\"1655.22\" cy=\"1445.72\" r=\"14.4\" fill=\"#009af9\" fill-rule=\"evenodd\" fill-opacity=\"1\" stroke=\"#000000\" stroke-opacity=\"1\" stroke-width=\"3.2\"/>\n",
       "<circle clip-path=\"url(#clip552)\" cx=\"1549.53\" cy=\"1251.75\" r=\"14.4\" fill=\"#009af9\" fill-rule=\"evenodd\" fill-opacity=\"1\" stroke=\"#000000\" stroke-opacity=\"1\" stroke-width=\"3.2\"/>\n",
       "<circle clip-path=\"url(#clip552)\" cx=\"1655.22\" cy=\"1057.79\" r=\"14.4\" fill=\"#009af9\" fill-rule=\"evenodd\" fill-opacity=\"1\" stroke=\"#000000\" stroke-opacity=\"1\" stroke-width=\"3.2\"/>\n",
       "<circle clip-path=\"url(#clip552)\" cx=\"1866.59\" cy=\"1057.79\" r=\"14.4\" fill=\"#009af9\" fill-rule=\"evenodd\" fill-opacity=\"1\" stroke=\"#000000\" stroke-opacity=\"1\" stroke-width=\"3.2\"/>\n",
       "<circle clip-path=\"url(#clip552)\" cx=\"1760.9\" cy=\"863.827\" r=\"14.4\" fill=\"#009af9\" fill-rule=\"evenodd\" fill-opacity=\"1\" stroke=\"#000000\" stroke-opacity=\"1\" stroke-width=\"3.2\"/>\n",
       "<circle clip-path=\"url(#clip552)\" cx=\"1866.59\" cy=\"669.865\" r=\"14.4\" fill=\"#009af9\" fill-rule=\"evenodd\" fill-opacity=\"1\" stroke=\"#000000\" stroke-opacity=\"1\" stroke-width=\"3.2\"/>\n",
       "<circle clip-path=\"url(#clip552)\" cx=\"2077.97\" cy=\"669.865\" r=\"14.4\" fill=\"#009af9\" fill-rule=\"evenodd\" fill-opacity=\"1\" stroke=\"#000000\" stroke-opacity=\"1\" stroke-width=\"3.2\"/>\n",
       "<circle clip-path=\"url(#clip552)\" cx=\"1972.28\" cy=\"475.902\" r=\"14.4\" fill=\"#009af9\" fill-rule=\"evenodd\" fill-opacity=\"1\" stroke=\"#000000\" stroke-opacity=\"1\" stroke-width=\"3.2\"/>\n",
       "<circle clip-path=\"url(#clip552)\" cx=\"2077.97\" cy=\"281.939\" r=\"14.4\" fill=\"#009af9\" fill-rule=\"evenodd\" fill-opacity=\"1\" stroke=\"#000000\" stroke-opacity=\"1\" stroke-width=\"3.2\"/>\n",
       "<circle clip-path=\"url(#clip552)\" cx=\"2289.34\" cy=\"281.939\" r=\"14.4\" fill=\"#009af9\" fill-rule=\"evenodd\" fill-opacity=\"1\" stroke=\"#000000\" stroke-opacity=\"1\" stroke-width=\"3.2\"/>\n",
       "<circle clip-path=\"url(#clip552)\" cx=\"2183.66\" cy=\"87.9763\" r=\"14.4\" fill=\"#009af9\" fill-rule=\"evenodd\" fill-opacity=\"1\" stroke=\"#000000\" stroke-opacity=\"1\" stroke-width=\"3.2\"/>\n",
       "<path clip-path=\"url(#clip550)\" d=\"M158.758 1420.69 L172.126 1420.69 L172.126 1374.55 L157.584 1377.46 L157.584 1370.01 L172.045 1367.09 L180.228 1367.09 L180.228 1420.69 L193.596 1420.69 L193.596 1427.57 L158.758 1427.57 L158.758 1420.69 Z\" fill=\"#000000\" fill-rule=\"nonzero\" fill-opacity=\"1\" /><path clip-path=\"url(#clip550)\" d=\"M377.608 1420.69 L406.166 1420.69 L406.166 1427.57 L367.764 1427.57 L367.764 1420.69 Q372.422 1415.86 380.443 1407.76 Q388.504 1399.62 390.57 1397.27 Q394.5 1392.86 396.039 1389.82 Q397.619 1386.74 397.619 1383.78 Q397.619 1378.96 394.216 1375.92 Q390.854 1372.88 385.426 1372.88 Q381.577 1372.88 377.283 1374.22 Q373.03 1375.56 368.169 1378.27 L368.169 1370.01 Q373.111 1368.02 377.405 1367.01 Q381.699 1366 385.264 1366 Q394.662 1366 400.252 1370.7 Q405.842 1375.4 405.842 1383.25 Q405.842 1386.98 404.425 1390.34 Q403.047 1393.67 399.361 1398.2 Q398.348 1399.38 392.92 1405.01 Q387.492 1410.6 377.608 1420.69 Z\" fill=\"#000000\" fill-rule=\"nonzero\" fill-opacity=\"1\" /><path clip-path=\"url(#clip550)\" d=\"M288.711 1201 Q294.585 1202.25 297.866 1206.22 Q301.188 1210.19 301.188 1216.03 Q301.188 1224.98 295.03 1229.88 Q288.873 1234.78 277.53 1234.78 Q273.723 1234.78 269.672 1234.01 Q265.661 1233.28 261.367 1231.79 L261.367 1223.89 Q264.77 1225.87 268.821 1226.88 Q272.872 1227.9 277.287 1227.9 Q284.984 1227.9 288.994 1224.86 Q293.045 1221.82 293.045 1216.03 Q293.045 1210.68 289.278 1207.68 Q285.551 1204.64 278.867 1204.64 L271.819 1204.64 L271.819 1197.92 L279.191 1197.92 Q285.227 1197.92 288.427 1195.53 Q291.628 1193.1 291.628 1188.56 Q291.628 1183.9 288.306 1181.43 Q285.025 1178.92 278.867 1178.92 Q275.505 1178.92 271.657 1179.65 Q267.808 1180.38 263.19 1181.92 L263.19 1174.63 Q267.849 1173.33 271.9 1172.68 Q275.991 1172.04 279.596 1172.04 Q288.913 1172.04 294.342 1176.29 Q299.77 1180.5 299.77 1187.71 Q299.77 1192.74 296.894 1196.22 Q294.018 1199.66 288.711 1201 Z\" fill=\"#000000\" fill-rule=\"nonzero\" fill-opacity=\"1\" /><path clip-path=\"url(#clip550)\" d=\"M392.231 986.296 L371.572 1018.58 L392.231 1018.58 L392.231 986.296 M390.084 979.166 L400.374 979.166 L400.374 1018.58 L409.002 1018.58 L409.002 1025.39 L400.374 1025.39 L400.374 1039.65 L392.231 1039.65 L392.231 1025.39 L364.928 1025.39 L364.928 1017.49 L390.084 979.166 Z\" fill=\"#000000\" fill-rule=\"nonzero\" fill-opacity=\"1\" /><path clip-path=\"url(#clip550)\" d=\"M581.327 979.166 L613.45 979.166 L613.45 986.053 L588.821 986.053 L588.821 1000.88 Q590.603 1000.27 592.386 999.988 Q594.168 999.664 595.95 999.664 Q606.078 999.664 611.992 1005.21 Q617.906 1010.76 617.906 1020.24 Q617.906 1030 611.83 1035.43 Q605.754 1040.82 594.695 1040.82 Q590.887 1040.82 586.917 1040.17 Q582.988 1039.52 578.775 1038.23 L578.775 1030 Q582.42 1031.99 586.309 1032.96 Q590.198 1033.93 594.533 1033.93 Q601.541 1033.93 605.632 1030.25 Q609.724 1026.56 609.724 1020.24 Q609.724 1013.92 605.632 1010.24 Q601.541 1006.55 594.533 1006.55 Q591.251 1006.55 587.97 1007.28 Q584.729 1008.01 581.327 1009.55 L581.327 979.166 Z\" fill=\"#000000\" fill-rule=\"nonzero\" fill-opacity=\"1\" /><path clip-path=\"url(#clip550)\" d=\"M493.362 812.182 Q487.852 812.182 484.612 815.95 Q481.412 819.717 481.412 826.28 Q481.412 832.801 484.612 836.609 Q487.852 840.377 493.362 840.377 Q498.871 840.377 502.071 836.609 Q505.312 832.801 505.312 826.28 Q505.312 819.717 502.071 815.95 Q498.871 812.182 493.362 812.182 M509.606 786.54 L509.606 793.994 Q506.527 792.536 503.367 791.766 Q500.248 790.996 497.17 790.996 Q489.068 790.996 484.774 796.465 Q480.52 801.934 479.913 812.993 Q482.303 809.468 485.908 807.605 Q489.513 805.701 493.848 805.701 Q502.962 805.701 508.229 811.251 Q513.535 816.76 513.535 826.28 Q513.535 835.597 508.026 841.227 Q502.517 846.858 493.362 846.858 Q482.87 846.858 477.32 838.837 Q471.77 830.776 471.77 815.504 Q471.77 801.164 478.576 792.657 Q485.381 784.11 496.845 784.11 Q499.924 784.11 503.043 784.717 Q506.203 785.325 509.606 786.54 Z\" fill=\"#000000\" fill-rule=\"nonzero\" fill-opacity=\"1\" /><path clip-path=\"url(#clip550)\" d=\"M578.896 591.241 L617.785 591.241 L617.785 594.724 L595.829 651.721 L587.282 651.721 L607.941 598.127 L578.896 598.127 L578.896 591.241 Z\" fill=\"#000000\" fill-rule=\"nonzero\" fill-opacity=\"1\" /><path clip-path=\"url(#clip550)\" d=\"M809.716 623 Q803.883 623 800.52 626.119 Q797.199 629.238 797.199 634.707 Q797.199 640.176 800.52 643.295 Q803.883 646.414 809.716 646.414 Q815.549 646.414 818.911 643.295 Q822.274 640.135 822.274 634.707 Q822.274 629.238 818.911 626.119 Q815.59 623 809.716 623 M801.533 619.516 Q796.267 618.22 793.31 614.614 Q790.393 611.009 790.393 605.824 Q790.393 598.573 795.538 594.36 Q800.723 590.147 809.716 590.147 Q818.749 590.147 823.894 594.36 Q829.039 598.573 829.039 605.824 Q829.039 611.009 826.081 614.614 Q823.165 618.22 817.939 619.516 Q823.853 620.893 827.135 624.904 Q830.456 628.914 830.456 634.707 Q830.456 643.497 825.069 648.196 Q819.722 652.895 809.716 652.895 Q799.71 652.895 794.322 648.196 Q788.975 643.497 788.975 634.707 Q788.975 628.914 792.297 624.904 Q795.619 620.893 801.533 619.516 M798.535 606.594 Q798.535 611.293 801.452 613.926 Q804.409 616.559 809.716 616.559 Q814.982 616.559 817.939 613.926 Q820.937 611.293 820.937 606.594 Q820.937 601.894 817.939 599.261 Q814.982 596.628 809.716 596.628 Q804.409 596.628 801.452 599.261 Q798.535 601.894 798.535 606.594 Z\" fill=\"#000000\" fill-rule=\"nonzero\" fill-opacity=\"1\" /><path clip-path=\"url(#clip550)\" d=\"M687.055 456.502 L687.055 449.048 Q690.134 450.507 693.293 451.276 Q696.453 452.046 699.491 452.046 Q707.593 452.046 711.846 446.618 Q716.14 441.149 716.748 430.05 Q714.398 433.533 710.793 435.397 Q707.188 437.26 702.813 437.26 Q693.739 437.26 688.432 431.792 Q683.166 426.282 683.166 416.763 Q683.166 407.446 688.675 401.815 Q694.184 396.184 703.34 396.184 Q713.831 396.184 719.341 404.245 Q724.89 412.266 724.89 427.579 Q724.89 441.878 718.085 450.426 Q711.32 458.933 699.856 458.933 Q696.777 458.933 693.617 458.325 Q690.458 457.717 687.055 456.502 M703.34 430.86 Q708.849 430.86 712.049 427.092 Q715.29 423.325 715.29 416.763 Q715.29 410.241 712.049 406.473 Q708.849 402.666 703.34 402.666 Q697.83 402.666 694.59 406.473 Q691.389 410.241 691.389 416.763 Q691.389 423.325 694.59 427.092 Q697.83 430.86 703.34 430.86 Z\" fill=\"#000000\" fill-rule=\"nonzero\" fill-opacity=\"1\" /><path clip-path=\"url(#clip550)\" d=\"M765.419 256.909 L778.787 256.909 L778.787 210.769 L764.244 213.685 L764.244 206.232 L778.706 203.315 L786.889 203.315 L786.889 256.909 L800.257 256.909 L800.257 263.795 L765.419 263.795 L765.419 256.909 Z\" fill=\"#000000\" fill-rule=\"nonzero\" fill-opacity=\"1\" /><path clip-path=\"url(#clip550)\" d=\"M834.285 208.703 Q827.965 208.703 824.765 214.941 Q821.605 221.139 821.605 233.616 Q821.605 246.052 824.765 252.29 Q827.965 258.488 834.285 258.488 Q840.644 258.488 843.804 252.29 Q847.004 246.052 847.004 233.616 Q847.004 221.139 843.804 214.941 Q840.644 208.703 834.285 208.703 M834.285 202.221 Q844.452 202.221 849.8 210.283 Q855.187 218.303 855.187 233.616 Q855.187 248.888 849.8 256.949 Q844.452 264.97 834.285 264.97 Q824.117 264.97 818.729 256.949 Q813.382 248.888 813.382 233.616 Q813.382 218.303 818.729 210.283 Q824.117 202.221 834.285 202.221 Z\" fill=\"#000000\" fill-rule=\"nonzero\" fill-opacity=\"1\" /><path clip-path=\"url(#clip550)\" d=\"M977.868 256.909 L991.236 256.909 L991.236 210.769 L976.693 213.685 L976.693 206.232 L991.155 203.315 L999.338 203.315 L999.338 256.909 L1012.71 256.909 L1012.71 263.795 L977.868 263.795 L977.868 256.909 Z\" fill=\"#000000\" fill-rule=\"nonzero\" fill-opacity=\"1\" /><path clip-path=\"url(#clip550)\" d=\"M1030.65 256.909 L1044.02 256.909 L1044.02 210.769 L1029.48 213.685 L1029.48 206.232 L1043.94 203.315 L1052.12 203.315 L1052.12 256.909 L1065.49 256.909 L1065.49 263.795 L1030.65 263.795 L1030.65 256.909 Z\" fill=\"#000000\" fill-rule=\"nonzero\" fill-opacity=\"1\" /><path clip-path=\"url(#clip550)\" d=\"M872.504 62.9457 L885.872 62.9457 L885.872 16.8059 L871.33 19.7226 L871.33 12.2689 L885.791 9.35228 L893.974 9.35228 L893.974 62.9457 L907.342 62.9457 L907.342 69.8323 L872.504 69.8323 L872.504 62.9457 Z\" fill=\"#000000\" fill-rule=\"nonzero\" fill-opacity=\"1\" /><path clip-path=\"url(#clip550)\" d=\"M930.918 62.9457 L959.477 62.9457 L959.477 69.8323 L921.075 69.8323 L921.075 62.9457 Q925.733 58.1252 933.754 50.0234 Q941.815 41.881 943.881 39.5315 Q947.811 35.116 949.35 32.0778 Q950.93 28.9992 950.93 26.042 Q950.93 21.2214 947.527 18.1832 Q944.165 15.1451 938.737 15.1451 Q934.888 15.1451 930.594 16.4819 Q926.341 17.8187 921.48 20.5328 L921.48 12.2689 Q926.422 10.284 930.716 9.27126 Q935.01 8.25853 938.575 8.25853 Q947.973 8.25853 953.563 12.9576 Q959.153 17.6566 959.153 25.5154 Q959.153 29.2422 957.735 32.6045 Q956.358 35.9262 952.672 40.4632 Q951.659 41.638 946.231 47.2687 Q940.803 52.859 930.918 62.9457 Z\" fill=\"#000000\" fill-rule=\"nonzero\" fill-opacity=\"1\" /><path clip-path=\"url(#clip550)\" d=\"M554.611 1420.69 L567.979 1420.69 L567.979 1374.55 L553.436 1377.46 L553.436 1370.01 L567.898 1367.09 L576.081 1367.09 L576.081 1420.69 L589.449 1420.69 L589.449 1427.57 L554.611 1427.57 L554.611 1420.69 Z\" fill=\"#000000\" fill-rule=\"nonzero\" fill-opacity=\"1\" /><path clip-path=\"url(#clip550)\" d=\"M630.768 1394.96 Q636.642 1396.22 639.923 1400.19 Q643.245 1404.16 643.245 1409.99 Q643.245 1418.94 637.087 1423.84 Q630.93 1428.75 619.587 1428.75 Q615.78 1428.75 611.729 1427.98 Q607.718 1427.25 603.424 1425.75 L603.424 1417.85 Q606.827 1419.83 610.878 1420.85 Q614.929 1421.86 619.344 1421.86 Q627.041 1421.86 631.052 1418.82 Q635.102 1415.78 635.102 1409.99 Q635.102 1404.64 631.335 1401.65 Q627.608 1398.61 620.924 1398.61 L613.876 1398.61 L613.876 1391.88 L621.248 1391.88 Q627.284 1391.88 630.484 1389.49 Q633.685 1387.06 633.685 1382.53 Q633.685 1377.87 630.363 1375.4 Q627.082 1372.88 620.924 1372.88 Q617.562 1372.88 613.714 1373.61 Q609.865 1374.34 605.247 1375.88 L605.247 1368.59 Q609.906 1367.29 613.957 1366.65 Q618.048 1366 621.653 1366 Q630.971 1366 636.399 1370.25 Q641.827 1374.46 641.827 1381.67 Q641.827 1386.7 638.951 1390.18 Q636.075 1393.63 630.768 1394.96 Z\" fill=\"#000000\" fill-rule=\"nonzero\" fill-opacity=\"1\" /><path clip-path=\"url(#clip550)\" d=\"M764.994 1420.69 L778.362 1420.69 L778.362 1374.55 L763.819 1377.46 L763.819 1370.01 L778.281 1367.09 L786.464 1367.09 L786.464 1420.69 L799.832 1420.69 L799.832 1427.57 L764.994 1427.57 L764.994 1420.69 Z\" fill=\"#000000\" fill-rule=\"nonzero\" fill-opacity=\"1\" /><path clip-path=\"url(#clip550)\" d=\"M838.842 1374.22 L818.182 1406.51 L838.842 1406.51 L838.842 1374.22 M836.695 1367.09 L846.984 1367.09 L846.984 1406.51 L855.613 1406.51 L855.613 1413.31 L846.984 1413.31 L846.984 1427.57 L838.842 1427.57 L838.842 1413.31 L811.539 1413.31 L811.539 1405.41 L836.695 1367.09 Z\" fill=\"#000000\" fill-rule=\"nonzero\" fill-opacity=\"1\" /><path clip-path=\"url(#clip550)\" d=\"M660.602 1226.72 L673.97 1226.72 L673.97 1180.58 L659.428 1183.5 L659.428 1176.05 L673.889 1173.13 L682.072 1173.13 L682.072 1226.72 L695.44 1226.72 L695.44 1233.61 L660.602 1233.61 L660.602 1226.72 Z\" fill=\"#000000\" fill-rule=\"nonzero\" fill-opacity=\"1\" /><path clip-path=\"url(#clip550)\" d=\"M712.049 1173.13 L744.173 1173.13 L744.173 1180.02 L719.543 1180.02 L719.543 1194.84 Q721.326 1194.23 723.108 1193.95 Q724.89 1193.63 726.673 1193.63 Q736.8 1193.63 742.714 1199.18 Q748.629 1204.73 748.629 1214.21 Q748.629 1223.97 742.552 1229.4 Q736.476 1234.78 725.417 1234.78 Q721.609 1234.78 717.639 1234.14 Q713.71 1233.49 709.497 1232.19 L709.497 1223.97 Q713.143 1225.95 717.032 1226.92 Q720.92 1227.9 725.255 1227.9 Q732.263 1227.9 736.354 1224.21 Q740.446 1220.52 740.446 1214.21 Q740.446 1207.89 736.354 1204.2 Q732.263 1200.51 725.255 1200.51 Q721.974 1200.51 718.692 1201.24 Q715.452 1201.97 712.049 1203.51 L712.049 1173.13 Z\" fill=\"#000000\" fill-rule=\"nonzero\" fill-opacity=\"1\" /><path clip-path=\"url(#clip550)\" d=\"M765.277 1032.76 L778.645 1032.76 L778.645 986.62 L764.103 989.536 L764.103 982.083 L778.564 979.166 L786.747 979.166 L786.747 1032.76 L800.115 1032.76 L800.115 1039.65 L765.277 1039.65 L765.277 1032.76 Z\" fill=\"#000000\" fill-rule=\"nonzero\" fill-opacity=\"1\" /><path clip-path=\"url(#clip550)\" d=\"M835.156 1006.15 Q829.646 1006.15 826.406 1009.91 Q823.205 1013.68 823.205 1020.24 Q823.205 1026.76 826.406 1030.57 Q829.646 1034.34 835.156 1034.34 Q840.665 1034.34 843.865 1030.57 Q847.106 1026.76 847.106 1020.24 Q847.106 1013.68 843.865 1009.91 Q840.665 1006.15 835.156 1006.15 M851.4 980.503 L851.4 987.957 Q848.321 986.498 845.161 985.729 Q842.042 984.959 838.963 984.959 Q830.862 984.959 826.568 990.428 Q822.314 995.896 821.707 1006.96 Q824.097 1003.43 827.702 1001.57 Q831.307 999.664 835.642 999.664 Q844.756 999.664 850.022 1005.21 Q855.329 1010.72 855.329 1020.24 Q855.329 1029.56 849.82 1035.19 Q844.311 1040.82 835.156 1040.82 Q824.664 1040.82 819.114 1032.8 Q813.564 1024.74 813.564 1009.47 Q813.564 995.127 820.37 986.62 Q827.175 978.072 838.639 978.072 Q841.718 978.072 844.837 978.68 Q847.997 979.288 851.4 980.503 Z\" fill=\"#000000\" fill-rule=\"nonzero\" fill-opacity=\"1\" /><path clip-path=\"url(#clip550)\" d=\"M977.584 1032.76 L990.952 1032.76 L990.952 986.62 L976.41 989.536 L976.41 982.083 L990.871 979.166 L999.054 979.166 L999.054 1032.76 L1012.42 1032.76 L1012.42 1039.65 L977.584 1039.65 L977.584 1032.76 Z\" fill=\"#000000\" fill-rule=\"nonzero\" fill-opacity=\"1\" /><path clip-path=\"url(#clip550)\" d=\"M1026.88 979.166 L1065.77 979.166 L1065.77 982.65 L1043.82 1039.65 L1035.27 1039.65 L1055.93 986.053 L1026.88 986.053 L1026.88 979.166 Z\" fill=\"#000000\" fill-rule=\"nonzero\" fill-opacity=\"1\" /><path clip-path=\"url(#clip550)\" d=\"M871.188 838.797 L884.556 838.797 L884.556 792.657 L870.013 795.574 L870.013 788.12 L884.475 785.203 L892.658 785.203 L892.658 838.797 L906.026 838.797 L906.026 845.683 L871.188 845.683 L871.188 838.797 Z\" fill=\"#000000\" fill-rule=\"nonzero\" fill-opacity=\"1\" /><path clip-path=\"url(#clip550)\" d=\"M940.053 816.962 Q934.22 816.962 930.858 820.082 Q927.536 823.201 927.536 828.67 Q927.536 834.138 930.858 837.257 Q934.22 840.377 940.053 840.377 Q945.887 840.377 949.249 837.257 Q952.611 834.098 952.611 828.67 Q952.611 823.201 949.249 820.082 Q945.927 816.962 940.053 816.962 M931.87 813.479 Q926.604 812.182 923.647 808.577 Q920.73 804.972 920.73 799.787 Q920.73 792.536 925.875 788.323 Q931.06 784.11 940.053 784.11 Q949.087 784.11 954.231 788.323 Q959.376 792.536 959.376 799.787 Q959.376 804.972 956.419 808.577 Q953.502 812.182 948.277 813.479 Q954.191 814.856 957.472 818.866 Q960.794 822.877 960.794 828.67 Q960.794 837.46 955.406 842.159 Q950.059 846.858 940.053 846.858 Q930.048 846.858 924.66 842.159 Q919.313 837.46 919.313 828.67 Q919.313 822.877 922.634 818.866 Q925.956 814.856 931.87 813.479 M928.873 800.556 Q928.873 805.255 931.789 807.888 Q934.747 810.522 940.053 810.522 Q945.319 810.522 948.277 807.888 Q951.274 805.255 951.274 800.556 Q951.274 795.857 948.277 793.224 Q945.319 790.591 940.053 790.591 Q934.747 790.591 931.789 793.224 Q928.873 795.857 928.873 800.556 Z\" fill=\"#000000\" fill-rule=\"nonzero\" fill-opacity=\"1\" /><path clip-path=\"url(#clip550)\" d=\"M976.957 644.834 L990.325 644.834 L990.325 598.694 L975.782 601.611 L975.782 594.157 L990.244 591.241 L998.426 591.241 L998.426 644.834 L1011.79 644.834 L1011.79 651.721 L976.957 651.721 L976.957 644.834 Z\" fill=\"#000000\" fill-rule=\"nonzero\" fill-opacity=\"1\" /><path clip-path=\"url(#clip550)\" d=\"M1028.57 650.465 L1028.57 643.011 Q1031.64 644.469 1034.8 645.239 Q1037.96 646.009 1041 646.009 Q1049.1 646.009 1053.36 640.581 Q1057.65 635.112 1058.26 624.012 Q1055.91 627.496 1052.3 629.36 Q1048.7 631.223 1044.32 631.223 Q1035.25 631.223 1029.94 625.754 Q1024.68 620.245 1024.68 610.725 Q1024.68 601.408 1030.19 595.778 Q1035.69 590.147 1044.85 590.147 Q1055.34 590.147 1060.85 598.208 Q1066.4 606.229 1066.4 621.541 Q1066.4 635.841 1059.6 644.388 Q1052.83 652.895 1041.37 652.895 Q1038.29 652.895 1035.13 652.288 Q1031.97 651.68 1028.57 650.465 M1044.85 624.823 Q1050.36 624.823 1053.56 621.055 Q1056.8 617.288 1056.8 610.725 Q1056.8 604.203 1053.56 600.436 Q1050.36 596.628 1044.85 596.628 Q1039.34 596.628 1036.1 600.436 Q1032.9 604.203 1032.9 610.725 Q1032.9 617.288 1036.1 621.055 Q1039.34 624.823 1044.85 624.823 Z\" fill=\"#000000\" fill-rule=\"nonzero\" fill-opacity=\"1\" /><path clip-path=\"url(#clip550)\" d=\"M1195.32 644.834 L1223.88 644.834 L1223.88 651.721 L1185.48 651.721 L1185.48 644.834 Q1190.13 640.013 1198.16 631.912 Q1206.22 623.769 1208.28 621.42 Q1212.21 617.004 1213.75 613.966 Q1215.33 610.887 1215.33 607.93 Q1215.33 603.11 1211.93 600.072 Q1208.57 597.033 1203.14 597.033 Q1199.29 597.033 1195 598.37 Q1190.74 599.707 1185.88 602.421 L1185.88 594.157 Q1190.82 592.172 1195.12 591.16 Q1199.41 590.147 1202.98 590.147 Q1212.37 590.147 1217.96 594.846 Q1223.55 599.545 1223.55 607.404 Q1223.55 611.131 1222.14 614.493 Q1220.76 617.815 1217.07 622.352 Q1216.06 623.526 1210.63 629.157 Q1205.2 634.747 1195.32 644.834 Z\" fill=\"#000000\" fill-rule=\"nonzero\" fill-opacity=\"1\" /><path clip-path=\"url(#clip550)\" d=\"M1258.55 596.628 Q1252.23 596.628 1249.03 602.867 Q1245.88 609.065 1245.88 621.541 Q1245.88 633.978 1249.03 640.216 Q1252.23 646.414 1258.55 646.414 Q1264.91 646.414 1268.07 640.216 Q1271.27 633.978 1271.27 621.541 Q1271.27 609.065 1268.07 602.867 Q1264.91 596.628 1258.55 596.628 M1258.55 590.147 Q1268.72 590.147 1274.07 598.208 Q1279.46 606.229 1279.46 621.541 Q1279.46 636.813 1274.07 644.875 Q1268.72 652.895 1258.55 652.895 Q1248.39 652.895 1243 644.875 Q1237.65 636.813 1237.65 621.541 Q1237.65 606.229 1243 598.208 Q1248.39 590.147 1258.55 590.147 Z\" fill=\"#000000\" fill-rule=\"nonzero\" fill-opacity=\"1\" /><path clip-path=\"url(#clip550)\" d=\"M1090.71 450.871 L1119.26 450.871 L1119.26 457.758 L1080.86 457.758 L1080.86 450.871 Q1085.52 446.051 1093.54 437.949 Q1101.6 429.807 1103.67 427.457 Q1107.6 423.042 1109.14 420.003 Q1110.72 416.925 1110.72 413.968 Q1110.72 409.147 1107.31 406.109 Q1103.95 403.071 1098.52 403.071 Q1094.68 403.071 1090.38 404.407 Q1086.13 405.744 1081.27 408.458 L1081.27 400.194 Q1086.21 398.21 1090.5 397.197 Q1094.8 396.184 1098.36 396.184 Q1107.76 396.184 1113.35 400.883 Q1118.94 405.582 1118.94 413.441 Q1118.94 417.168 1117.52 420.53 Q1116.15 423.852 1112.46 428.389 Q1111.45 429.564 1106.02 435.194 Q1100.59 440.785 1090.71 450.871 Z\" fill=\"#000000\" fill-rule=\"nonzero\" fill-opacity=\"1\" /><path clip-path=\"url(#clip550)\" d=\"M1137.86 450.871 L1151.23 450.871 L1151.23 404.731 L1136.68 407.648 L1136.68 400.194 L1151.15 397.278 L1159.33 397.278 L1159.33 450.871 L1172.7 450.871 L1172.7 457.758 L1137.86 457.758 L1137.86 450.871 Z\" fill=\"#000000\" fill-rule=\"nonzero\" fill-opacity=\"1\" /><path clip-path=\"url(#clip550)\" d=\"M1196.72 256.909 L1225.28 256.909 L1225.28 263.795 L1186.87 263.795 L1186.87 256.909 Q1191.53 252.088 1199.55 243.986 Q1207.61 235.844 1209.68 233.494 Q1213.61 229.079 1215.15 226.041 Q1216.73 222.962 1216.73 220.005 Q1216.73 215.184 1213.33 212.146 Q1209.96 209.108 1204.54 209.108 Q1200.69 209.108 1196.39 210.445 Q1192.14 211.781 1187.28 214.496 L1187.28 206.232 Q1192.22 204.247 1196.51 203.234 Q1200.81 202.221 1204.37 202.221 Q1213.77 202.221 1219.36 206.92 Q1224.95 211.619 1224.95 219.478 Q1224.95 223.205 1223.53 226.567 Q1222.16 229.889 1218.47 234.426 Q1217.46 235.601 1212.03 241.232 Q1206.6 246.822 1196.72 256.909 Z\" fill=\"#000000\" fill-rule=\"nonzero\" fill-opacity=\"1\" /><path clip-path=\"url(#clip550)\" d=\"M1249.5 256.909 L1278.06 256.909 L1278.06 263.795 L1239.66 263.795 L1239.66 256.909 Q1244.32 252.088 1252.34 243.986 Q1260.4 235.844 1262.46 233.494 Q1266.39 229.079 1267.93 226.041 Q1269.51 222.962 1269.51 220.005 Q1269.51 215.184 1266.11 212.146 Q1262.75 209.108 1257.32 209.108 Q1253.47 209.108 1249.18 210.445 Q1244.92 211.781 1240.06 214.496 L1240.06 206.232 Q1245 204.247 1249.3 203.234 Q1253.59 202.221 1257.16 202.221 Q1266.55 202.221 1272.15 206.92 Q1277.74 211.619 1277.74 219.478 Q1277.74 223.205 1276.32 226.567 Q1274.94 229.889 1271.25 234.426 Q1270.24 235.601 1264.81 241.232 Q1259.38 246.822 1249.5 256.909 Z\" fill=\"#000000\" fill-rule=\"nonzero\" fill-opacity=\"1\" /><path clip-path=\"url(#clip550)\" d=\"M1407.26 256.909 L1435.82 256.909 L1435.82 263.795 L1397.42 263.795 L1397.42 256.909 Q1402.08 252.088 1410.1 243.986 Q1418.16 235.844 1420.23 233.494 Q1424.15 229.079 1425.69 226.041 Q1427.27 222.962 1427.27 220.005 Q1427.27 215.184 1423.87 212.146 Q1420.51 209.108 1415.08 209.108 Q1411.23 209.108 1406.94 210.445 Q1402.68 211.781 1397.82 214.496 L1397.82 206.232 Q1402.77 204.247 1407.06 203.234 Q1411.35 202.221 1414.92 202.221 Q1424.32 202.221 1429.91 206.92 Q1435.5 211.619 1435.5 219.478 Q1435.5 223.205 1434.08 226.567 Q1432.7 229.889 1429.02 234.426 Q1428 235.601 1422.57 241.232 Q1417.15 246.822 1407.26 256.909 Z\" fill=\"#000000\" fill-rule=\"nonzero\" fill-opacity=\"1\" /><path clip-path=\"url(#clip550)\" d=\"M1477.79 231.185 Q1483.66 232.441 1486.94 236.411 Q1490.27 240.381 1490.27 246.214 Q1490.27 255.167 1484.11 260.068 Q1477.95 264.97 1466.61 264.97 Q1462.8 264.97 1458.75 264.2 Q1454.74 263.471 1450.44 261.972 L1450.44 254.073 Q1453.85 256.058 1457.9 257.071 Q1461.95 258.083 1466.36 258.083 Q1474.06 258.083 1478.07 255.045 Q1482.12 252.007 1482.12 246.214 Q1482.12 240.867 1478.36 237.869 Q1474.63 234.831 1467.94 234.831 L1460.9 234.831 L1460.9 228.107 L1468.27 228.107 Q1474.3 228.107 1477.5 225.717 Q1480.71 223.286 1480.71 218.749 Q1480.71 214.09 1477.38 211.619 Q1474.1 209.108 1467.94 209.108 Q1464.58 209.108 1460.73 209.837 Q1456.89 210.566 1452.27 212.106 L1452.27 204.814 Q1456.93 203.518 1460.98 202.869 Q1465.07 202.221 1468.67 202.221 Q1477.99 202.221 1483.42 206.475 Q1488.85 210.688 1488.85 217.898 Q1488.85 222.921 1485.97 226.405 Q1483.1 229.848 1477.79 231.185 Z\" fill=\"#000000\" fill-rule=\"nonzero\" fill-opacity=\"1\" /><path clip-path=\"url(#clip550)\" d=\"M1300.58 62.9457 L1329.14 62.9457 L1329.14 69.8323 L1290.74 69.8323 L1290.74 62.9457 Q1295.4 58.1252 1303.42 50.0234 Q1311.48 41.881 1313.54 39.5315 Q1317.47 35.116 1319.01 32.0778 Q1320.59 28.9992 1320.59 26.042 Q1320.59 21.2214 1317.19 18.1832 Q1313.83 15.1451 1308.4 15.1451 Q1304.55 15.1451 1300.26 16.4819 Q1296 17.8187 1291.14 20.5328 L1291.14 12.2689 Q1296.09 10.284 1300.38 9.27126 Q1304.67 8.25853 1308.24 8.25853 Q1317.64 8.25853 1323.23 12.9576 Q1328.82 17.6566 1328.82 25.5154 Q1328.82 29.2422 1327.4 32.6045 Q1326.02 35.9262 1322.34 40.4632 Q1321.32 41.638 1315.89 47.2687 Q1310.47 52.859 1300.58 62.9457 Z\" fill=\"#000000\" fill-rule=\"nonzero\" fill-opacity=\"1\" /><path clip-path=\"url(#clip550)\" d=\"M1368.8 16.4819 L1348.14 48.7676 L1368.8 48.7676 L1368.8 16.4819 M1366.65 9.35228 L1376.94 9.35228 L1376.94 48.7676 L1385.57 48.7676 L1385.57 55.5731 L1376.94 55.5731 L1376.94 69.8323 L1368.8 69.8323 L1368.8 55.5731 L1341.5 55.5731 L1341.5 47.6738 L1366.65 9.35228 Z\" fill=\"#000000\" fill-rule=\"nonzero\" fill-opacity=\"1\" /><path clip-path=\"url(#clip550)\" d=\"M984.815 1420.69 L1013.37 1420.69 L1013.37 1427.57 L974.972 1427.57 L974.972 1420.69 Q979.63 1415.86 987.651 1407.76 Q995.712 1399.62 997.778 1397.27 Q1001.71 1392.86 1003.25 1389.82 Q1004.83 1386.74 1004.83 1383.78 Q1004.83 1378.96 1001.42 1375.92 Q998.062 1372.88 992.634 1372.88 Q988.785 1372.88 984.491 1374.22 Q980.238 1375.56 975.377 1378.27 L975.377 1370.01 Q980.319 1368.02 984.613 1367.01 Q988.907 1366 992.472 1366 Q1001.87 1366 1007.46 1370.7 Q1013.05 1375.4 1013.05 1383.25 Q1013.05 1386.98 1011.63 1390.34 Q1010.26 1393.67 1006.57 1398.2 Q1005.56 1399.38 1000.13 1405.01 Q994.7 1410.6 984.815 1420.69 Z\" fill=\"#000000\" fill-rule=\"nonzero\" fill-opacity=\"1\" /><path clip-path=\"url(#clip550)\" d=\"M1030.63 1367.09 L1062.75 1367.09 L1062.75 1373.98 L1038.13 1373.98 L1038.13 1388.8 Q1039.91 1388.2 1041.69 1387.91 Q1043.47 1387.59 1045.25 1387.59 Q1055.38 1387.59 1061.3 1393.14 Q1067.21 1398.69 1067.21 1408.17 Q1067.21 1417.93 1061.13 1423.36 Q1055.06 1428.75 1044 1428.75 Q1040.19 1428.75 1036.22 1428.1 Q1032.29 1427.45 1028.08 1426.15 L1028.08 1417.93 Q1031.72 1419.92 1035.61 1420.89 Q1039.5 1421.86 1043.84 1421.86 Q1050.85 1421.86 1054.94 1418.17 Q1059.03 1414.49 1059.03 1408.17 Q1059.03 1401.85 1054.94 1398.16 Q1050.85 1394.48 1043.84 1394.48 Q1040.56 1394.48 1037.27 1395.2 Q1034.03 1395.93 1030.63 1397.47 L1030.63 1367.09 Z\" fill=\"#000000\" fill-rule=\"nonzero\" fill-opacity=\"1\" /><path clip-path=\"url(#clip550)\" d=\"M1195.18 1420.69 L1223.74 1420.69 L1223.74 1427.57 L1185.33 1427.57 L1185.33 1420.69 Q1189.99 1415.86 1198.01 1407.76 Q1206.07 1399.62 1208.14 1397.27 Q1212.07 1392.86 1213.61 1389.82 Q1215.19 1386.74 1215.19 1383.78 Q1215.19 1378.96 1211.79 1375.92 Q1208.42 1372.88 1203 1372.88 Q1199.15 1372.88 1194.85 1374.22 Q1190.6 1375.56 1185.74 1378.27 L1185.74 1370.01 Q1190.68 1368.02 1194.98 1367.01 Q1199.27 1366 1202.83 1366 Q1212.23 1366 1217.82 1370.7 Q1223.41 1375.4 1223.41 1383.25 Q1223.41 1386.98 1221.99 1390.34 Q1220.62 1393.67 1216.93 1398.2 Q1215.92 1399.38 1210.49 1405.01 Q1205.06 1410.6 1195.18 1420.69 Z\" fill=\"#000000\" fill-rule=\"nonzero\" fill-opacity=\"1\" /><path clip-path=\"url(#clip550)\" d=\"M1259.43 1394.07 Q1253.92 1394.07 1250.68 1397.84 Q1247.48 1401.61 1247.48 1408.17 Q1247.48 1414.69 1250.68 1418.5 Q1253.92 1422.27 1259.43 1422.27 Q1264.93 1422.27 1268.13 1418.5 Q1271.38 1414.69 1271.38 1408.17 Q1271.38 1401.61 1268.13 1397.84 Q1264.93 1394.07 1259.43 1394.07 M1275.67 1368.43 L1275.67 1375.88 Q1272.59 1374.42 1269.43 1373.65 Q1266.31 1372.88 1263.23 1372.88 Q1255.13 1372.88 1250.84 1378.35 Q1246.58 1383.82 1245.98 1394.88 Q1248.37 1391.36 1251.97 1389.49 Q1255.58 1387.59 1259.91 1387.59 Q1269.03 1387.59 1274.29 1393.14 Q1279.6 1398.65 1279.6 1408.17 Q1279.6 1417.48 1274.09 1423.12 Q1268.58 1428.75 1259.43 1428.75 Q1248.93 1428.75 1243.38 1420.73 Q1237.83 1412.66 1237.83 1397.39 Q1237.83 1383.05 1244.64 1374.55 Q1251.45 1366 1262.91 1366 Q1265.99 1366 1269.11 1366.61 Q1272.27 1367.21 1275.67 1368.43 Z\" fill=\"#000000\" fill-rule=\"nonzero\" fill-opacity=\"1\" /><path clip-path=\"url(#clip550)\" d=\"M1090.42 1226.72 L1118.98 1226.72 L1118.98 1233.61 L1080.58 1233.61 L1080.58 1226.72 Q1085.24 1221.9 1093.26 1213.8 Q1101.32 1205.66 1103.38 1203.31 Q1107.31 1198.89 1108.85 1195.85 Q1110.43 1192.78 1110.43 1189.82 Q1110.43 1185 1107.03 1181.96 Q1103.67 1178.92 1098.24 1178.92 Q1094.39 1178.92 1090.1 1180.26 Q1085.84 1181.6 1080.98 1184.31 L1080.98 1176.05 Q1085.93 1174.06 1090.22 1173.05 Q1094.51 1172.04 1098.08 1172.04 Q1107.48 1172.04 1113.07 1176.73 Q1118.66 1181.43 1118.66 1189.29 Q1118.66 1193.02 1117.24 1196.38 Q1115.86 1199.7 1112.18 1204.24 Q1111.16 1205.41 1105.73 1211.05 Q1100.31 1216.64 1090.42 1226.72 Z\" fill=\"#000000\" fill-rule=\"nonzero\" fill-opacity=\"1\" /><path clip-path=\"url(#clip550)\" d=\"M1134.09 1173.13 L1172.98 1173.13 L1172.98 1176.61 L1151.02 1233.61 L1142.48 1233.61 L1163.14 1180.02 L1134.09 1180.02 L1134.09 1173.13 Z\" fill=\"#000000\" fill-rule=\"nonzero\" fill-opacity=\"1\" /><path clip-path=\"url(#clip550)\" d=\"M1195.4 1032.76 L1223.96 1032.76 L1223.96 1039.65 L1185.56 1039.65 L1185.56 1032.76 Q1190.22 1027.94 1198.24 1019.84 Q1206.3 1011.69 1208.36 1009.35 Q1212.29 1004.93 1213.83 1001.89 Q1215.41 998.813 1215.41 995.856 Q1215.41 991.035 1212.01 987.997 Q1208.65 984.959 1203.22 984.959 Q1199.37 984.959 1195.08 986.296 Q1190.82 987.633 1185.96 990.347 L1185.96 982.083 Q1190.9 980.098 1195.2 979.085 Q1199.49 978.072 1203.06 978.072 Q1212.46 978.072 1218.05 982.771 Q1223.64 987.47 1223.64 995.329 Q1223.64 999.056 1222.22 1002.42 Q1220.84 1005.74 1217.15 1010.28 Q1216.14 1011.45 1210.71 1017.08 Q1205.28 1022.67 1195.4 1032.76 Z\" fill=\"#000000\" fill-rule=\"nonzero\" fill-opacity=\"1\" /><path clip-path=\"url(#clip550)\" d=\"M1258.64 1010.93 Q1252.8 1010.93 1249.44 1014.04 Q1246.12 1017.16 1246.12 1022.63 Q1246.12 1028.1 1249.44 1031.22 Q1252.8 1034.34 1258.64 1034.34 Q1264.47 1034.34 1267.83 1031.22 Q1271.19 1028.06 1271.19 1022.63 Q1271.19 1017.16 1267.83 1014.04 Q1264.51 1010.93 1258.64 1010.93 M1250.45 1007.44 Q1245.19 1006.15 1242.23 1002.54 Q1239.31 998.935 1239.31 993.749 Q1239.31 986.498 1244.46 982.285 Q1249.64 978.072 1258.64 978.072 Q1267.67 978.072 1272.81 982.285 Q1277.96 986.498 1277.96 993.749 Q1277.96 998.935 1275 1002.54 Q1272.08 1006.15 1266.86 1007.44 Q1272.77 1008.82 1276.05 1012.83 Q1279.38 1016.84 1279.38 1022.63 Q1279.38 1031.42 1273.99 1036.12 Q1268.64 1040.82 1258.64 1040.82 Q1248.63 1040.82 1243.24 1036.12 Q1237.89 1031.42 1237.89 1022.63 Q1237.89 1016.84 1241.22 1012.83 Q1244.54 1008.82 1250.45 1007.44 M1247.45 994.519 Q1247.45 999.218 1250.37 1001.85 Q1253.33 1004.48 1258.64 1004.48 Q1263.9 1004.48 1266.86 1001.85 Q1269.86 999.218 1269.86 994.519 Q1269.86 989.82 1266.86 987.187 Q1263.9 984.554 1258.64 984.554 Q1253.33 984.554 1250.37 987.187 Q1247.45 989.82 1247.45 994.519 Z\" fill=\"#000000\" fill-rule=\"nonzero\" fill-opacity=\"1\" /><path clip-path=\"url(#clip550)\" d=\"M1406.86 1032.76 L1435.42 1032.76 L1435.42 1039.65 L1397.01 1039.65 L1397.01 1032.76 Q1401.67 1027.94 1409.69 1019.84 Q1417.75 1011.69 1419.82 1009.35 Q1423.75 1004.93 1425.29 1001.89 Q1426.87 998.813 1426.87 995.856 Q1426.87 991.035 1423.47 987.997 Q1420.1 984.959 1414.68 984.959 Q1410.83 984.959 1406.53 986.296 Q1402.28 987.633 1397.42 990.347 L1397.42 982.083 Q1402.36 980.098 1406.65 979.085 Q1410.95 978.072 1414.51 978.072 Q1423.91 978.072 1429.5 982.771 Q1435.09 987.47 1435.09 995.329 Q1435.09 999.056 1433.67 1002.42 Q1432.3 1005.74 1428.61 1010.28 Q1427.6 1011.45 1422.17 1017.08 Q1416.74 1022.67 1406.86 1032.76 Z\" fill=\"#000000\" fill-rule=\"nonzero\" fill-opacity=\"1\" /><path clip-path=\"url(#clip550)\" d=\"M1452.83 1038.39 L1452.83 1030.94 Q1455.91 1032.4 1459.07 1033.16 Q1462.23 1033.93 1465.27 1033.93 Q1473.37 1033.93 1477.63 1028.51 Q1481.92 1023.04 1482.53 1011.94 Q1480.18 1015.42 1476.57 1017.29 Q1472.97 1019.15 1468.59 1019.15 Q1459.52 1019.15 1454.21 1013.68 Q1448.95 1008.17 1448.95 998.651 Q1448.95 989.334 1454.46 983.703 Q1459.96 978.072 1469.12 978.072 Q1479.61 978.072 1485.12 986.134 Q1490.67 994.154 1490.67 1009.47 Q1490.67 1023.77 1483.86 1032.31 Q1477.1 1040.82 1465.64 1040.82 Q1462.56 1040.82 1459.4 1040.21 Q1456.24 1039.61 1452.83 1038.39 M1469.12 1012.75 Q1474.63 1012.75 1477.83 1008.98 Q1481.07 1005.21 1481.07 998.651 Q1481.07 992.129 1477.83 988.362 Q1474.63 984.554 1469.12 984.554 Q1463.61 984.554 1460.37 988.362 Q1457.17 992.129 1457.17 998.651 Q1457.17 1005.21 1460.37 1008.98 Q1463.61 1012.75 1469.12 1012.75 Z\" fill=\"#000000\" fill-rule=\"nonzero\" fill-opacity=\"1\" /><path clip-path=\"url(#clip550)\" d=\"M1318.63 813.074 Q1324.5 814.329 1327.78 818.299 Q1331.11 822.269 1331.11 828.102 Q1331.11 837.055 1324.95 841.957 Q1318.79 846.858 1307.45 846.858 Q1303.64 846.858 1299.59 846.088 Q1295.58 845.359 1291.29 843.86 L1291.29 835.961 Q1294.69 837.946 1298.74 838.959 Q1302.79 839.972 1307.21 839.972 Q1314.9 839.972 1318.91 836.933 Q1322.96 833.895 1322.96 828.102 Q1322.96 822.755 1319.2 819.758 Q1315.47 816.719 1308.79 816.719 L1301.74 816.719 L1301.74 809.995 L1309.11 809.995 Q1315.15 809.995 1318.35 807.605 Q1321.55 805.174 1321.55 800.637 Q1321.55 795.979 1318.22 793.508 Q1314.94 790.996 1308.79 790.996 Q1305.42 790.996 1301.57 791.725 Q1297.73 792.454 1293.11 793.994 L1293.11 786.702 Q1297.77 785.406 1301.82 784.758 Q1305.91 784.11 1309.51 784.11 Q1318.83 784.11 1324.26 788.363 Q1329.69 792.576 1329.69 799.787 Q1329.69 804.81 1326.81 808.294 Q1323.94 811.737 1318.63 813.074 Z\" fill=\"#000000\" fill-rule=\"nonzero\" fill-opacity=\"1\" /><path clip-path=\"url(#clip550)\" d=\"M1364.12 790.591 Q1357.8 790.591 1354.6 796.829 Q1351.44 803.027 1351.44 815.504 Q1351.44 827.94 1354.6 834.179 Q1357.8 840.377 1364.12 840.377 Q1370.48 840.377 1373.64 834.179 Q1376.84 827.94 1376.84 815.504 Q1376.84 803.027 1373.64 796.829 Q1370.48 790.591 1364.12 790.591 M1364.12 784.11 Q1374.29 784.11 1379.64 792.171 Q1385.02 800.192 1385.02 815.504 Q1385.02 830.776 1379.64 838.837 Q1374.29 846.858 1364.12 846.858 Q1353.95 846.858 1348.57 838.837 Q1343.22 830.776 1343.22 815.504 Q1343.22 800.192 1348.57 792.171 Q1353.95 784.11 1364.12 784.11 Z\" fill=\"#000000\" fill-rule=\"nonzero\" fill-opacity=\"1\" /><path clip-path=\"url(#clip550)\" d=\"M1425.39 619.111 Q1431.26 620.367 1434.55 624.336 Q1437.87 628.306 1437.87 634.14 Q1437.87 643.092 1431.71 647.994 Q1425.55 652.895 1414.21 652.895 Q1410.4 652.895 1406.35 652.126 Q1402.34 651.397 1398.05 649.898 L1398.05 641.998 Q1401.45 643.983 1405.5 644.996 Q1409.55 646.009 1413.97 646.009 Q1421.66 646.009 1425.67 642.971 Q1429.72 639.932 1429.72 634.14 Q1429.72 628.792 1425.96 625.795 Q1422.23 622.757 1415.55 622.757 L1408.5 622.757 L1408.5 616.032 L1415.87 616.032 Q1421.91 616.032 1425.11 613.642 Q1428.31 611.212 1428.31 606.675 Q1428.31 602.016 1424.98 599.545 Q1421.7 597.033 1415.55 597.033 Q1412.18 597.033 1408.34 597.763 Q1404.49 598.492 1399.87 600.031 L1399.87 592.739 Q1404.53 591.443 1408.58 590.795 Q1412.67 590.147 1416.28 590.147 Q1425.59 590.147 1431.02 594.4 Q1436.45 598.613 1436.45 605.824 Q1436.45 610.847 1433.57 614.331 Q1430.7 617.774 1425.39 619.111 Z\" fill=\"#000000\" fill-rule=\"nonzero\" fill-opacity=\"1\" /><path clip-path=\"url(#clip550)\" d=\"M1454.8 644.834 L1468.17 644.834 L1468.17 598.694 L1453.62 601.611 L1453.62 594.157 L1468.09 591.241 L1476.27 591.241 L1476.27 644.834 L1489.64 644.834 L1489.64 651.721 L1454.8 651.721 L1454.8 644.834 Z\" fill=\"#000000\" fill-rule=\"nonzero\" fill-opacity=\"1\" /><path clip-path=\"url(#clip550)\" d=\"M1637.09 619.111 Q1642.96 620.367 1646.24 624.336 Q1649.57 628.306 1649.57 634.14 Q1649.57 643.092 1643.41 647.994 Q1637.25 652.895 1625.91 652.895 Q1622.1 652.895 1618.05 652.126 Q1614.04 651.397 1609.75 649.898 L1609.75 641.998 Q1613.15 643.983 1617.2 644.996 Q1621.25 646.009 1625.67 646.009 Q1633.36 646.009 1637.37 642.971 Q1641.42 639.932 1641.42 634.14 Q1641.42 628.792 1637.66 625.795 Q1633.93 622.757 1627.25 622.757 L1620.2 622.757 L1620.2 616.032 L1627.57 616.032 Q1633.61 616.032 1636.81 613.642 Q1640.01 611.212 1640.01 606.675 Q1640.01 602.016 1636.68 599.545 Q1633.4 597.033 1627.25 597.033 Q1623.88 597.033 1620.04 597.763 Q1616.19 598.492 1611.57 600.031 L1611.57 592.739 Q1616.23 591.443 1620.28 590.795 Q1624.37 590.147 1627.97 590.147 Q1637.29 590.147 1642.72 594.4 Q1648.15 598.613 1648.15 605.824 Q1648.15 610.847 1645.27 614.331 Q1642.4 617.774 1637.09 619.111 Z\" fill=\"#000000\" fill-rule=\"nonzero\" fill-opacity=\"1\" /><path clip-path=\"url(#clip550)\" d=\"M1672.13 644.834 L1700.69 644.834 L1700.69 651.721 L1662.29 651.721 L1662.29 644.834 Q1666.94 640.013 1674.97 631.912 Q1683.03 623.769 1685.09 621.42 Q1689.02 617.004 1690.56 613.966 Q1692.14 610.887 1692.14 607.93 Q1692.14 603.11 1688.74 600.072 Q1685.38 597.033 1679.95 597.033 Q1676.1 597.033 1671.81 598.37 Q1667.55 599.707 1662.69 602.421 L1662.69 594.157 Q1667.63 592.172 1671.93 591.16 Q1676.22 590.147 1679.79 590.147 Q1689.18 590.147 1694.77 594.846 Q1700.36 599.545 1700.36 607.404 Q1700.36 611.131 1698.95 614.493 Q1697.57 617.815 1693.88 622.352 Q1692.87 623.526 1687.44 629.157 Q1682.01 634.747 1672.13 644.834 Z\" fill=\"#000000\" fill-rule=\"nonzero\" fill-opacity=\"1\" /><path clip-path=\"url(#clip550)\" d=\"M1530.57 425.148 Q1536.45 426.404 1539.73 430.374 Q1543.05 434.344 1543.05 440.177 Q1543.05 449.129 1536.89 454.031 Q1530.73 458.933 1519.39 458.933 Q1515.58 458.933 1511.53 458.163 Q1507.52 457.434 1503.23 455.935 L1503.23 448.036 Q1506.63 450.021 1510.68 451.033 Q1514.73 452.046 1519.15 452.046 Q1526.84 452.046 1530.85 449.008 Q1534.91 445.97 1534.91 440.177 Q1534.91 434.83 1531.14 431.832 Q1527.41 428.794 1520.73 428.794 L1513.68 428.794 L1513.68 422.069 L1521.05 422.069 Q1527.09 422.069 1530.29 419.679 Q1533.49 417.249 1533.49 412.712 Q1533.49 408.053 1530.17 405.582 Q1526.89 403.071 1520.73 403.071 Q1517.37 403.071 1513.52 403.8 Q1509.67 404.529 1505.05 406.068 L1505.05 398.777 Q1509.71 397.48 1513.76 396.832 Q1517.85 396.184 1521.46 396.184 Q1530.77 396.184 1536.2 400.438 Q1541.63 404.65 1541.63 411.861 Q1541.63 416.884 1538.75 420.368 Q1535.88 423.811 1530.57 425.148 Z\" fill=\"#000000\" fill-rule=\"nonzero\" fill-opacity=\"1\" /><path clip-path=\"url(#clip550)\" d=\"M1583.35 425.148 Q1589.23 426.404 1592.51 430.374 Q1595.83 434.344 1595.83 440.177 Q1595.83 449.129 1589.67 454.031 Q1583.52 458.933 1572.17 458.933 Q1568.37 458.933 1564.32 458.163 Q1560.3 457.434 1556.01 455.935 L1556.01 448.036 Q1559.41 450.021 1563.46 451.033 Q1567.52 452.046 1571.93 452.046 Q1579.63 452.046 1583.64 449.008 Q1587.69 445.97 1587.69 440.177 Q1587.69 434.83 1583.92 431.832 Q1580.19 428.794 1573.51 428.794 L1566.46 428.794 L1566.46 422.069 L1573.83 422.069 Q1579.87 422.069 1583.07 419.679 Q1586.27 417.249 1586.27 412.712 Q1586.27 408.053 1582.95 405.582 Q1579.67 403.071 1573.51 403.071 Q1570.15 403.071 1566.3 403.8 Q1562.45 404.529 1557.83 406.068 L1557.83 398.777 Q1562.49 397.48 1566.54 396.832 Q1570.63 396.184 1574.24 396.184 Q1583.56 396.184 1588.99 400.438 Q1594.41 404.65 1594.41 411.861 Q1594.41 416.884 1591.54 420.368 Q1588.66 423.811 1583.35 425.148 Z\" fill=\"#000000\" fill-rule=\"nonzero\" fill-opacity=\"1\" /><path clip-path=\"url(#clip550)\" d=\"M1635.27 231.185 Q1641.14 232.441 1644.42 236.411 Q1647.74 240.381 1647.74 246.214 Q1647.74 255.167 1641.59 260.068 Q1635.43 264.97 1624.09 264.97 Q1620.28 264.97 1616.23 264.2 Q1612.22 263.471 1607.92 261.972 L1607.92 254.073 Q1611.33 256.058 1615.38 257.071 Q1619.43 258.083 1623.84 258.083 Q1631.54 258.083 1635.55 255.045 Q1639.6 252.007 1639.6 246.214 Q1639.6 240.867 1635.83 237.869 Q1632.11 234.831 1625.42 234.831 L1618.37 234.831 L1618.37 228.107 L1625.75 228.107 Q1631.78 228.107 1634.98 225.717 Q1638.18 223.286 1638.18 218.749 Q1638.18 214.09 1634.86 211.619 Q1631.58 209.108 1625.42 209.108 Q1622.06 209.108 1618.21 209.837 Q1614.36 210.566 1609.75 212.106 L1609.75 204.814 Q1614.4 203.518 1618.46 202.869 Q1622.55 202.221 1626.15 202.221 Q1635.47 202.221 1640.9 206.475 Q1646.33 210.688 1646.33 217.898 Q1646.33 222.921 1643.45 226.405 Q1640.57 229.848 1635.27 231.185 Z\" fill=\"#000000\" fill-rule=\"nonzero\" fill-opacity=\"1\" /><path clip-path=\"url(#clip550)\" d=\"M1685.74 210.445 L1665.08 242.73 L1685.74 242.73 L1685.74 210.445 M1683.59 203.315 L1693.88 203.315 L1693.88 242.73 L1702.51 242.73 L1702.51 249.536 L1693.88 249.536 L1693.88 263.795 L1685.74 263.795 L1685.74 249.536 L1658.44 249.536 L1658.44 241.637 L1683.59 203.315 Z\" fill=\"#000000\" fill-rule=\"nonzero\" fill-opacity=\"1\" /><path clip-path=\"url(#clip550)\" d=\"M1847.94 231.185 Q1853.81 232.441 1857.09 236.411 Q1860.41 240.381 1860.41 246.214 Q1860.41 255.167 1854.26 260.068 Q1848.1 264.97 1836.76 264.97 Q1832.95 264.97 1828.9 264.2 Q1824.89 263.471 1820.59 261.972 L1820.59 254.073 Q1824 256.058 1828.05 257.071 Q1832.1 258.083 1836.51 258.083 Q1844.21 258.083 1848.22 255.045 Q1852.27 252.007 1852.27 246.214 Q1852.27 240.867 1848.51 237.869 Q1844.78 234.831 1838.09 234.831 L1831.05 234.831 L1831.05 228.107 L1838.42 228.107 Q1844.45 228.107 1847.65 225.717 Q1850.85 223.286 1850.85 218.749 Q1850.85 214.09 1847.53 211.619 Q1844.25 209.108 1838.09 209.108 Q1834.73 209.108 1830.88 209.837 Q1827.04 210.566 1822.42 212.106 L1822.42 204.814 Q1827.08 203.518 1831.13 202.869 Q1835.22 202.221 1838.82 202.221 Q1848.14 202.221 1853.57 206.475 Q1859 210.688 1859 217.898 Q1859 222.921 1856.12 226.405 Q1853.24 229.848 1847.94 231.185 Z\" fill=\"#000000\" fill-rule=\"nonzero\" fill-opacity=\"1\" /><path clip-path=\"url(#clip550)\" d=\"M1876.01 203.315 L1908.13 203.315 L1908.13 210.202 L1883.51 210.202 L1883.51 225.028 Q1885.29 224.42 1887.07 224.137 Q1888.85 223.813 1890.63 223.813 Q1900.76 223.813 1906.68 229.362 Q1912.59 234.912 1912.59 244.391 Q1912.59 254.154 1906.51 259.582 Q1900.44 264.97 1889.38 264.97 Q1885.57 264.97 1881.6 264.322 Q1877.67 263.674 1873.46 262.377 L1873.46 254.154 Q1877.1 256.139 1880.99 257.111 Q1884.88 258.083 1889.22 258.083 Q1896.22 258.083 1900.32 254.397 Q1904.41 250.711 1904.41 244.391 Q1904.41 238.072 1900.32 234.385 Q1896.22 230.699 1889.22 230.699 Q1885.94 230.699 1882.65 231.428 Q1879.41 232.157 1876.01 233.697 L1876.01 203.315 Z\" fill=\"#000000\" fill-rule=\"nonzero\" fill-opacity=\"1\" /><path clip-path=\"url(#clip550)\" d=\"M1741.24 37.2225 Q1747.11 38.4783 1750.39 42.4482 Q1753.71 46.4181 1753.71 52.2514 Q1753.71 61.2039 1747.56 66.1054 Q1741.4 71.007 1730.06 71.007 Q1726.25 71.007 1722.2 70.2374 Q1718.19 69.5082 1713.89 68.0094 L1713.89 60.1101 Q1717.3 62.095 1721.35 63.1078 Q1725.4 64.1205 1729.81 64.1205 Q1737.51 64.1205 1741.52 61.0823 Q1745.57 58.0441 1745.57 52.2514 Q1745.57 46.9042 1741.8 43.9065 Q1738.08 40.8683 1731.39 40.8683 L1724.35 40.8683 L1724.35 34.1438 L1731.72 34.1438 Q1737.75 34.1438 1740.95 31.7538 Q1744.15 29.3232 1744.15 24.7862 Q1744.15 20.1277 1740.83 17.6566 Q1737.55 15.1451 1731.39 15.1451 Q1728.03 15.1451 1724.18 15.8742 Q1720.34 16.6034 1715.72 18.1427 L1715.72 10.8511 Q1720.38 9.55482 1724.43 8.90668 Q1728.52 8.25853 1732.12 8.25853 Q1741.44 8.25853 1746.87 12.512 Q1752.3 16.7249 1752.3 23.9355 Q1752.3 28.9587 1749.42 32.4424 Q1746.54 35.8857 1741.24 37.2225 Z\" fill=\"#000000\" fill-rule=\"nonzero\" fill-opacity=\"1\" /><path clip-path=\"url(#clip550)\" d=\"M1787.74 36.3313 Q1782.23 36.3313 1778.99 40.0986 Q1775.79 43.866 1775.79 50.4284 Q1775.79 56.9504 1778.99 60.7583 Q1782.23 64.5256 1787.74 64.5256 Q1793.25 64.5256 1796.45 60.7583 Q1799.69 56.9504 1799.69 50.4284 Q1799.69 43.866 1796.45 40.0986 Q1793.25 36.3313 1787.74 36.3313 M1803.99 10.6891 L1803.99 18.1427 Q1800.91 16.6844 1797.75 15.9147 Q1794.63 15.1451 1791.55 15.1451 Q1783.45 15.1451 1779.15 20.6138 Q1774.9 26.0825 1774.29 37.1415 Q1776.68 33.6172 1780.29 31.7538 Q1783.89 29.8499 1788.23 29.8499 Q1797.34 29.8499 1802.61 35.3996 Q1807.92 40.9088 1807.92 50.4284 Q1807.92 59.7455 1802.41 65.3763 Q1796.9 71.007 1787.74 71.007 Q1777.25 71.007 1771.7 62.9862 Q1766.15 54.9249 1766.15 39.653 Q1766.15 25.3128 1772.96 16.8059 Q1779.76 8.25853 1791.23 8.25853 Q1794.3 8.25853 1797.42 8.86617 Q1800.58 9.4738 1803.99 10.6891 Z\" fill=\"#000000\" fill-rule=\"nonzero\" fill-opacity=\"1\" /><path clip-path=\"url(#clip550)\" d=\"M1425.11 1394.96 Q1430.98 1396.22 1434.26 1400.19 Q1437.58 1404.16 1437.58 1409.99 Q1437.58 1418.94 1431.43 1423.84 Q1425.27 1428.75 1413.93 1428.75 Q1410.12 1428.75 1406.07 1427.98 Q1402.06 1427.25 1397.76 1425.75 L1397.76 1417.85 Q1401.17 1419.83 1405.22 1420.85 Q1409.27 1421.86 1413.68 1421.86 Q1421.38 1421.86 1425.39 1418.82 Q1429.44 1415.78 1429.44 1409.99 Q1429.44 1404.64 1425.67 1401.65 Q1421.95 1398.61 1415.26 1398.61 L1408.21 1398.61 L1408.21 1391.88 L1415.59 1391.88 Q1421.62 1391.88 1424.82 1389.49 Q1428.02 1387.06 1428.02 1382.53 Q1428.02 1377.87 1424.7 1375.4 Q1421.42 1372.88 1415.26 1372.88 Q1411.9 1372.88 1408.05 1373.61 Q1404.2 1374.34 1399.59 1375.88 L1399.59 1368.59 Q1404.24 1367.29 1408.3 1366.65 Q1412.39 1366 1415.99 1366 Q1425.31 1366 1430.74 1370.25 Q1436.17 1374.46 1436.17 1381.67 Q1436.17 1386.7 1433.29 1390.18 Q1430.41 1393.63 1425.11 1394.96 Z\" fill=\"#000000\" fill-rule=\"nonzero\" fill-opacity=\"1\" /><path clip-path=\"url(#clip550)\" d=\"M1451.03 1367.09 L1489.92 1367.09 L1489.92 1370.58 L1467.97 1427.57 L1459.42 1427.57 L1480.08 1373.98 L1451.03 1373.98 L1451.03 1367.09 Z\" fill=\"#000000\" fill-rule=\"nonzero\" fill-opacity=\"1\" /><path clip-path=\"url(#clip550)\" d=\"M1635.77 1394.96 Q1641.65 1396.22 1644.93 1400.19 Q1648.25 1404.16 1648.25 1409.99 Q1648.25 1418.94 1642.09 1423.84 Q1635.93 1428.75 1624.59 1428.75 Q1620.78 1428.75 1616.73 1427.98 Q1612.72 1427.25 1608.43 1425.75 L1608.43 1417.85 Q1611.83 1419.83 1615.88 1420.85 Q1619.93 1421.86 1624.35 1421.86 Q1632.05 1421.86 1636.06 1418.82 Q1640.11 1415.78 1640.11 1409.99 Q1640.11 1404.64 1636.34 1401.65 Q1632.61 1398.61 1625.93 1398.61 L1618.88 1398.61 L1618.88 1391.88 L1626.25 1391.88 Q1632.29 1391.88 1635.49 1389.49 Q1638.69 1387.06 1638.69 1382.53 Q1638.69 1377.87 1635.37 1375.4 Q1632.09 1372.88 1625.93 1372.88 Q1622.57 1372.88 1618.72 1373.61 Q1614.87 1374.34 1610.25 1375.88 L1610.25 1368.59 Q1614.91 1367.29 1618.96 1366.65 Q1623.05 1366 1626.66 1366 Q1635.98 1366 1641.4 1370.25 Q1646.83 1374.46 1646.83 1381.67 Q1646.83 1386.7 1643.96 1390.18 Q1641.08 1393.63 1635.77 1394.96 Z\" fill=\"#000000\" fill-rule=\"nonzero\" fill-opacity=\"1\" /><path clip-path=\"url(#clip550)\" d=\"M1681.26 1398.85 Q1675.43 1398.85 1672.07 1401.97 Q1668.75 1405.09 1668.75 1410.56 Q1668.75 1416.03 1672.07 1419.15 Q1675.43 1422.27 1681.26 1422.27 Q1687.1 1422.27 1690.46 1419.15 Q1693.82 1415.99 1693.82 1410.56 Q1693.82 1405.09 1690.46 1401.97 Q1687.14 1398.85 1681.26 1398.85 M1673.08 1395.37 Q1667.82 1394.07 1664.86 1390.47 Q1661.94 1386.86 1661.94 1381.67 Q1661.94 1374.42 1667.09 1370.21 Q1672.27 1366 1681.26 1366 Q1690.3 1366 1695.44 1370.21 Q1700.59 1374.42 1700.59 1381.67 Q1700.59 1386.86 1697.63 1390.47 Q1694.71 1394.07 1689.49 1395.37 Q1695.4 1396.74 1698.68 1400.75 Q1702.01 1404.77 1702.01 1410.56 Q1702.01 1419.35 1696.62 1424.05 Q1691.27 1428.75 1681.26 1428.75 Q1671.26 1428.75 1665.87 1424.05 Q1660.52 1419.35 1660.52 1410.56 Q1660.52 1404.77 1663.85 1400.75 Q1667.17 1396.74 1673.08 1395.37 M1670.08 1382.44 Q1670.08 1387.14 1673 1389.78 Q1675.96 1392.41 1681.26 1392.41 Q1686.53 1392.41 1689.49 1389.78 Q1692.49 1387.14 1692.49 1382.44 Q1692.49 1377.75 1689.49 1375.11 Q1686.53 1372.48 1681.26 1372.48 Q1675.96 1372.48 1673 1375.11 Q1670.08 1377.75 1670.08 1382.44 Z\" fill=\"#000000\" fill-rule=\"nonzero\" fill-opacity=\"1\" /><path clip-path=\"url(#clip550)\" d=\"M1530.17 1201 Q1536.04 1202.25 1539.32 1206.22 Q1542.64 1210.19 1542.64 1216.03 Q1542.64 1224.98 1536.49 1229.88 Q1530.33 1234.78 1518.99 1234.78 Q1515.18 1234.78 1511.13 1234.01 Q1507.12 1233.28 1502.82 1231.79 L1502.82 1223.89 Q1506.23 1225.87 1510.28 1226.88 Q1514.33 1227.9 1518.74 1227.9 Q1526.44 1227.9 1530.45 1224.86 Q1534.5 1221.82 1534.5 1216.03 Q1534.5 1210.68 1530.73 1207.68 Q1527.01 1204.64 1520.32 1204.64 L1513.27 1204.64 L1513.27 1197.92 L1520.65 1197.92 Q1526.68 1197.92 1529.88 1195.53 Q1533.08 1193.1 1533.08 1188.56 Q1533.08 1183.9 1529.76 1181.43 Q1526.48 1178.92 1520.32 1178.92 Q1516.96 1178.92 1513.11 1179.65 Q1509.26 1180.38 1504.65 1181.92 L1504.65 1174.63 Q1509.3 1173.33 1513.35 1172.68 Q1517.45 1172.04 1521.05 1172.04 Q1530.37 1172.04 1535.8 1176.29 Q1541.23 1180.5 1541.23 1187.71 Q1541.23 1192.74 1538.35 1196.22 Q1535.47 1199.66 1530.17 1201 Z\" fill=\"#000000\" fill-rule=\"nonzero\" fill-opacity=\"1\" /><path clip-path=\"url(#clip550)\" d=\"M1558.4 1232.35 L1558.4 1224.9 Q1561.48 1226.36 1564.64 1227.13 Q1567.8 1227.9 1570.84 1227.9 Q1578.94 1227.9 1583.19 1222.47 Q1587.49 1217 1588.09 1205.9 Q1585.74 1209.38 1582.14 1211.25 Q1578.53 1213.11 1574.16 1213.11 Q1565.09 1213.11 1559.78 1207.64 Q1554.51 1202.13 1554.51 1192.61 Q1554.51 1183.3 1560.02 1177.67 Q1565.53 1172.04 1574.69 1172.04 Q1585.18 1172.04 1590.69 1180.1 Q1596.24 1188.12 1596.24 1203.43 Q1596.24 1217.73 1589.43 1226.28 Q1582.67 1234.78 1571.2 1234.78 Q1568.12 1234.78 1564.96 1234.18 Q1561.8 1233.57 1558.4 1232.35 M1574.69 1206.71 Q1580.19 1206.71 1583.4 1202.94 Q1586.64 1199.18 1586.64 1192.61 Q1586.64 1186.09 1583.4 1182.32 Q1580.19 1178.52 1574.69 1178.52 Q1569.18 1178.52 1565.94 1182.32 Q1562.74 1186.09 1562.74 1192.61 Q1562.74 1199.18 1565.94 1202.94 Q1569.18 1206.71 1574.69 1206.71 Z\" fill=\"#000000\" fill-rule=\"nonzero\" fill-opacity=\"1\" /><path clip-path=\"url(#clip550)\" d=\"M1634.52 986.296 L1613.86 1018.58 L1634.52 1018.58 L1634.52 986.296 M1632.37 979.166 L1642.66 979.166 L1642.66 1018.58 L1651.29 1018.58 L1651.29 1025.39 L1642.66 1025.39 L1642.66 1039.65 L1634.52 1039.65 L1634.52 1025.39 L1607.21 1025.39 L1607.21 1017.49 L1632.37 979.166 Z\" fill=\"#000000\" fill-rule=\"nonzero\" fill-opacity=\"1\" /><path clip-path=\"url(#clip550)\" d=\"M1682.32 984.554 Q1676 984.554 1672.8 990.792 Q1669.64 996.99 1669.64 1009.47 Q1669.64 1021.9 1672.8 1028.14 Q1676 1034.34 1682.32 1034.34 Q1688.68 1034.34 1691.84 1028.14 Q1695.04 1021.9 1695.04 1009.47 Q1695.04 996.99 1691.84 990.792 Q1688.68 984.554 1682.32 984.554 M1682.32 978.072 Q1692.49 978.072 1697.83 986.134 Q1703.22 994.154 1703.22 1009.47 Q1703.22 1024.74 1697.83 1032.8 Q1692.49 1040.82 1682.32 1040.82 Q1672.15 1040.82 1666.76 1032.8 Q1661.42 1024.74 1661.42 1009.47 Q1661.42 994.154 1666.76 986.134 Q1672.15 978.072 1682.32 978.072 Z\" fill=\"#000000\" fill-rule=\"nonzero\" fill-opacity=\"1\" /><path clip-path=\"url(#clip550)\" d=\"M1846.97 986.296 L1826.31 1018.58 L1846.97 1018.58 L1846.97 986.296 M1844.82 979.166 L1855.11 979.166 L1855.11 1018.58 L1863.74 1018.58 L1863.74 1025.39 L1855.11 1025.39 L1855.11 1039.65 L1846.97 1039.65 L1846.97 1025.39 L1819.66 1025.39 L1819.66 1017.49 L1844.82 979.166 Z\" fill=\"#000000\" fill-rule=\"nonzero\" fill-opacity=\"1\" /><path clip-path=\"url(#clip550)\" d=\"M1878.68 1032.76 L1892.05 1032.76 L1892.05 986.62 L1877.51 989.536 L1877.51 982.083 L1891.97 979.166 L1900.15 979.166 L1900.15 1032.76 L1913.52 1032.76 L1913.52 1039.65 L1878.68 1039.65 L1878.68 1032.76 Z\" fill=\"#000000\" fill-rule=\"nonzero\" fill-opacity=\"1\" /><path clip-path=\"url(#clip550)\" d=\"M1741.6 792.333 L1720.94 824.619 L1741.6 824.619 L1741.6 792.333 M1739.46 785.203 L1749.74 785.203 L1749.74 824.619 L1758.37 824.619 L1758.37 831.424 L1749.74 831.424 L1749.74 845.683 L1741.6 845.683 L1741.6 831.424 L1714.3 831.424 L1714.3 823.525 L1739.46 785.203 Z\" fill=\"#000000\" fill-rule=\"nonzero\" fill-opacity=\"1\" /><path clip-path=\"url(#clip550)\" d=\"M1778.95 838.797 L1807.51 838.797 L1807.51 845.683 L1769.11 845.683 L1769.11 838.797 Q1773.77 833.976 1781.79 825.874 Q1789.85 817.732 1791.91 815.383 Q1795.84 810.967 1797.38 807.929 Q1798.96 804.85 1798.96 801.893 Q1798.96 797.073 1795.56 794.034 Q1792.2 790.996 1786.77 790.996 Q1782.92 790.996 1778.63 792.333 Q1774.37 793.67 1769.51 796.384 L1769.51 788.12 Q1774.46 786.135 1778.75 785.122 Q1783.04 784.11 1786.61 784.11 Q1796.01 784.11 1801.6 788.809 Q1807.19 793.508 1807.19 801.366 Q1807.19 805.093 1805.77 808.456 Q1804.39 811.777 1800.71 816.314 Q1799.69 817.489 1794.26 823.12 Q1788.84 828.71 1778.95 838.797 Z\" fill=\"#000000\" fill-rule=\"nonzero\" fill-opacity=\"1\" /><path clip-path=\"url(#clip550)\" d=\"M1846.46 598.37 L1825.8 630.656 L1846.46 630.656 L1846.46 598.37 M1844.31 591.241 L1854.6 591.241 L1854.6 630.656 L1863.23 630.656 L1863.23 637.461 L1854.6 637.461 L1854.6 651.721 L1846.46 651.721 L1846.46 637.461 L1819.16 637.461 L1819.16 629.562 L1844.31 591.241 Z\" fill=\"#000000\" fill-rule=\"nonzero\" fill-opacity=\"1\" /><path clip-path=\"url(#clip550)\" d=\"M1901.55 619.111 Q1907.43 620.367 1910.71 624.336 Q1914.03 628.306 1914.03 634.14 Q1914.03 643.092 1907.87 647.994 Q1901.71 652.895 1890.37 652.895 Q1886.56 652.895 1882.51 652.126 Q1878.5 651.397 1874.21 649.898 L1874.21 641.998 Q1877.61 643.983 1881.66 644.996 Q1885.71 646.009 1890.13 646.009 Q1897.83 646.009 1901.84 642.971 Q1905.89 639.932 1905.89 634.14 Q1905.89 628.792 1902.12 625.795 Q1898.39 622.757 1891.71 622.757 L1884.66 622.757 L1884.66 616.032 L1892.03 616.032 Q1898.07 616.032 1901.27 613.642 Q1904.47 611.212 1904.47 606.675 Q1904.47 602.016 1901.15 599.545 Q1897.87 597.033 1891.71 597.033 Q1888.35 597.033 1884.5 597.763 Q1880.65 598.492 1876.03 600.031 L1876.03 592.739 Q1880.69 591.443 1884.74 590.795 Q1888.83 590.147 1892.44 590.147 Q1901.75 590.147 1907.18 594.4 Q1912.61 598.613 1912.61 605.824 Q1912.61 610.847 1909.73 614.331 Q1906.86 617.774 1901.55 619.111 Z\" fill=\"#000000\" fill-rule=\"nonzero\" fill-opacity=\"1\" /><path clip-path=\"url(#clip550)\" d=\"M2056.84 598.37 L2036.18 630.656 L2056.84 630.656 L2056.84 598.37 M2054.7 591.241 L2064.98 591.241 L2064.98 630.656 L2073.61 630.656 L2073.61 637.461 L2064.98 637.461 L2064.98 651.721 L2056.84 651.721 L2056.84 637.461 L2029.54 637.461 L2029.54 629.562 L2054.7 591.241 Z\" fill=\"#000000\" fill-rule=\"nonzero\" fill-opacity=\"1\" /><path clip-path=\"url(#clip550)\" d=\"M2109.63 598.37 L2088.97 630.656 L2109.63 630.656 L2109.63 598.37 M2107.48 591.241 L2117.77 591.241 L2117.77 630.656 L2126.4 630.656 L2126.4 637.461 L2117.77 637.461 L2117.77 651.721 L2109.63 651.721 L2109.63 637.461 L2082.32 637.461 L2082.32 629.562 L2107.48 591.241 Z\" fill=\"#000000\" fill-rule=\"nonzero\" fill-opacity=\"1\" /><path clip-path=\"url(#clip550)\" d=\"M1952.45 404.407 L1931.79 436.693 L1952.45 436.693 L1952.45 404.407 M1950.3 397.278 L1960.59 397.278 L1960.59 436.693 L1969.22 436.693 L1969.22 443.499 L1960.59 443.499 L1960.59 457.758 L1952.45 457.758 L1952.45 443.499 L1925.15 443.499 L1925.15 435.599 L1950.3 397.278 Z\" fill=\"#000000\" fill-rule=\"nonzero\" fill-opacity=\"1\" /><path clip-path=\"url(#clip550)\" d=\"M1982.83 397.278 L2014.96 397.278 L2014.96 404.164 L1990.33 404.164 L1990.33 418.991 Q1992.11 418.383 1993.89 418.099 Q1995.67 417.775 1997.46 417.775 Q2007.58 417.775 2013.5 423.325 Q2019.41 428.875 2019.41 438.354 Q2019.41 448.117 2013.34 453.545 Q2007.26 458.933 1996.2 458.933 Q1992.39 458.933 1988.42 458.284 Q1984.49 457.636 1980.28 456.34 L1980.28 448.117 Q1983.93 450.102 1987.82 451.074 Q1991.7 452.046 1996.04 452.046 Q2003.05 452.046 2007.14 448.36 Q2011.23 444.673 2011.23 438.354 Q2011.23 432.035 2007.14 428.348 Q2003.05 424.662 1996.04 424.662 Q1992.76 424.662 1989.48 425.391 Q1986.24 426.12 1982.83 427.66 L1982.83 397.278 Z\" fill=\"#000000\" fill-rule=\"nonzero\" fill-opacity=\"1\" /><path clip-path=\"url(#clip550)\" d=\"M2057.13 210.445 L2036.47 242.73 L2057.13 242.73 L2057.13 210.445 M2054.98 203.315 L2065.27 203.315 L2065.27 242.73 L2073.9 242.73 L2073.9 249.536 L2065.27 249.536 L2065.27 263.795 L2057.13 263.795 L2057.13 249.536 L2029.82 249.536 L2029.82 241.637 L2054.98 203.315 Z\" fill=\"#000000\" fill-rule=\"nonzero\" fill-opacity=\"1\" /><path clip-path=\"url(#clip550)\" d=\"M2105.94 230.294 Q2100.43 230.294 2097.19 234.061 Q2093.99 237.829 2093.99 244.391 Q2093.99 250.913 2097.19 254.721 Q2100.43 258.488 2105.94 258.488 Q2111.45 258.488 2114.65 254.721 Q2117.89 250.913 2117.89 244.391 Q2117.89 237.829 2114.65 234.061 Q2111.45 230.294 2105.94 230.294 M2122.18 204.652 L2122.18 212.106 Q2119.1 210.647 2115.95 209.878 Q2112.83 209.108 2109.75 209.108 Q2101.65 209.108 2097.35 214.577 Q2093.1 220.045 2092.49 231.104 Q2094.88 227.58 2098.49 225.717 Q2102.09 223.813 2106.43 223.813 Q2115.54 223.813 2120.81 229.362 Q2126.11 234.872 2126.11 244.391 Q2126.11 253.708 2120.6 259.339 Q2115.09 264.97 2105.94 264.97 Q2095.45 264.97 2089.9 256.949 Q2084.35 248.888 2084.35 233.616 Q2084.35 219.276 2091.15 210.769 Q2097.96 202.221 2109.42 202.221 Q2112.5 202.221 2115.62 202.829 Q2118.78 203.437 2122.18 204.652 Z\" fill=\"#000000\" fill-rule=\"nonzero\" fill-opacity=\"1\" /><path clip-path=\"url(#clip550)\" d=\"M2269.43 210.445 L2248.77 242.73 L2269.43 242.73 L2269.43 210.445 M2267.29 203.315 L2277.58 203.315 L2277.58 242.73 L2286.2 242.73 L2286.2 249.536 L2277.58 249.536 L2277.58 263.795 L2269.43 263.795 L2269.43 249.536 L2242.13 249.536 L2242.13 241.637 L2267.29 203.315 Z\" fill=\"#000000\" fill-rule=\"nonzero\" fill-opacity=\"1\" /><path clip-path=\"url(#clip550)\" d=\"M2297.67 203.315 L2336.56 203.315 L2336.56 206.799 L2314.6 263.795 L2306.05 263.795 L2326.71 210.202 L2297.67 210.202 L2297.67 203.315 Z\" fill=\"#000000\" fill-rule=\"nonzero\" fill-opacity=\"1\" /><path clip-path=\"url(#clip550)\" d=\"M2163.04 16.4819 L2142.38 48.7676 L2163.04 48.7676 L2163.04 16.4819 M2160.89 9.35228 L2171.18 9.35228 L2171.18 48.7676 L2179.81 48.7676 L2179.81 55.5731 L2171.18 55.5731 L2171.18 69.8323 L2163.04 69.8323 L2163.04 55.5731 L2135.73 55.5731 L2135.73 47.6738 L2160.89 9.35228 Z\" fill=\"#000000\" fill-rule=\"nonzero\" fill-opacity=\"1\" /><path clip-path=\"url(#clip550)\" d=\"M2210.84 41.1114 Q2205 41.1114 2201.64 44.2306 Q2198.32 47.3498 2198.32 52.8185 Q2198.32 58.2872 2201.64 61.4064 Q2205 64.5256 2210.84 64.5256 Q2216.67 64.5256 2220.03 61.4064 Q2223.39 58.2467 2223.39 52.8185 Q2223.39 47.3498 2220.03 44.2306 Q2216.71 41.1114 2210.84 41.1114 M2202.65 37.6276 Q2197.39 36.3313 2194.43 32.726 Q2191.51 29.1207 2191.51 23.9355 Q2191.51 16.6844 2196.66 12.4715 Q2201.84 8.25853 2210.84 8.25853 Q2219.87 8.25853 2225.02 12.4715 Q2230.16 16.6844 2230.16 23.9355 Q2230.16 29.1207 2227.2 32.726 Q2224.29 36.3313 2219.06 37.6276 Q2224.97 39.0049 2228.26 43.0153 Q2231.58 47.0257 2231.58 52.8185 Q2231.58 61.6089 2226.19 66.308 Q2220.84 71.007 2210.84 71.007 Q2200.83 71.007 2195.44 66.308 Q2190.1 61.6089 2190.1 52.8185 Q2190.1 47.0257 2193.42 43.0153 Q2196.74 39.0049 2202.65 37.6276 M2199.66 24.7052 Q2199.66 29.4043 2202.57 32.0373 Q2205.53 34.6704 2210.84 34.6704 Q2216.1 34.6704 2219.06 32.0373 Q2222.06 29.4043 2222.06 24.7052 Q2222.06 20.0062 2219.06 17.3731 Q2216.1 14.74 2210.84 14.74 Q2205.53 14.74 2202.57 17.3731 Q2199.66 20.0062 2199.66 24.7052 Z\" fill=\"#000000\" fill-rule=\"nonzero\" fill-opacity=\"1\" /><path clip-path=\"url(#clip552)\" d=\"M1232.47 641.865 L1225.89 660.793 L1205.84 661.213 L1221.83 673.337 L1216 692.517 L1232.47 681.065 L1248.93 692.517 L1243.11 673.337 L1259.09 661.213 L1239.05 660.793 L1232.47 641.865 Z\" fill=\"#e26f46\" fill-rule=\"evenodd\" fill-opacity=\"1\" stroke=\"#000000\" stroke-opacity=\"1\" stroke-width=\"3.2\"/>\n",
       "</svg>\n"
      ]
     },
     "execution_count": 57,
     "metadata": {},
     "output_type": "execute_result"
    }
   ],
   "source": [
    "scatter(x_co,y_co,legend=false,series_annotations = text.(1:N, :bottom))\n",
    "x_imp = exp_list0(imp_site)[1];y_imp=exp_list0(imp_site)[2]\n",
    "scatter!([x_imp], [y_imp],markershape=:star5,markersize=7)"
   ]
  },
  {
   "cell_type": "markdown",
   "id": "56df2844-edc1-4a90-9971-01810fc83b23",
   "metadata": {},
   "source": [
    "\\begin{align*}\n",
    "&Q_{\\rho} = \\sum_i \\left(<n_i>_{V=0}-<n_i>_{V \\neq 0} \\right) \\\\ \\\\\n",
    "&\\text{In Hofstadter model:}\\\\\n",
    "&N_x=8, N_y=10, N=3, \\mathcal{D}=7 \\\\ \\\\\n",
    "&<n_i>_{V=0} \\approx \\frac{N}{N_y(N_{\\Phi}-1)} = \\frac{N}{N_y(N_x-1)} = \\frac{3}{70} \\\\ \\\\\n",
    "&Q_{\\rho} \\approx \\frac{N}{N_{\\Phi}-1} = \\frac{N}{N_x-1} = \\frac{3}{7} \\\\ \\\\\n",
    "&\\text{In kagome lattice:} \\\\\n",
    "&N_x=4, N_y=2, N=3, \\mathcal{D}=7 \\\\ \\\\\n",
    "&<n_i>_{V=0} \\approx \\frac{N}{3(N_{\\Phi}-1)} = \\frac{N}{3(N_xN_y-1)} =  \\frac{3}{21} \\\\\n",
    " &Q_{\\rho} \\approx \\frac{N}{N_{\\Phi}-1} = \\frac{N}{N_xN_y-1} =  \\frac{3}{7} \\\\ \\\\\n",
    "\\end{align*}"
   ]
  },
  {
   "cell_type": "code",
   "execution_count": 58,
   "id": "c35f8a77-b5d7-4df6-9212-58cd8d2498e4",
   "metadata": {},
   "outputs": [],
   "source": [
    "#fonksiyonlaştır the ref. partc. den. "
   ]
  },
  {
   "cell_type": "code",
   "execution_count": 59,
   "id": "b4a8f7b8-401d-4f19-a1be-2169e2bd5156",
   "metadata": {},
   "outputs": [
    {
     "name": "stdout",
     "output_type": "stream",
     "text": [
      "Rho:0.0\tQ_rho:0.02273631290735586\n",
      "Rho:1.0\tQ_rho:-0.07018221391453923\n",
      "Rho:1.0\tQ_rho:-0.07018221391453923\n",
      "Rho:1.732\tQ_rho:-0.2372056944529094\n",
      "Rho:1.732\tQ_rho:-0.2372056944529094\n",
      "Rho:2.0\tQ_rho:-0.493647219223919\n",
      "Rho:2.0\tQ_rho:-0.493647219223919\n",
      "Rho:2.0\tQ_rho:-0.493647219223919\n",
      "Rho:2.646\tQ_rho:-0.8331278401171514\n",
      "Rho:3.0\tQ_rho:-1.0024630727920374\n",
      "Rho:3.464\tQ_rho:-1.2575128060881928\n",
      "Rho:3.464\tQ_rho:-1.2575128060881928\n",
      "Rho:3.606\tQ_rho:-1.556103314333827\n",
      "Rho:4.0\tQ_rho:-1.6840127244051035\n",
      "Rho:4.0\tQ_rho:-1.6840127244051035\n",
      "Rho:4.359\tQ_rho:-1.8539014220624177\n",
      "Rho:4.583\tQ_rho:-1.8539014220624177\n",
      "Rho:5.196\tQ_rho:-1.8539014220624177\n",
      "Rho:5.292\tQ_rho:-1.8539014220624177\n",
      "Rho:6.083\tQ_rho:-1.8539014220624177\n"
     ]
    }
   ],
   "source": [
    "density_list = []\n",
    "density_list_2 = []\n",
    "summ_list = []\n",
    "\n",
    "for i in radius_list\n",
    "    \n",
    "    summ = 0\n",
    "\n",
    "    for j in Inner_Sites(i)\n",
    "        \n",
    "        # r içindeki her bir sitenin ortalama yoğunluğu \n",
    "        push!(density_list, collect(Iterators.flatten((2/87 .- avg_density|>transpose)))[j])\n",
    "        # Örgüde sadece bir tane quasi-parçacık boştayken gelen neredeyse ortalama yoğunluk 3/70'tir!\n",
    "        \n",
    "        # aynı yoğunluklar gelirse sadece onların birisini tut\n",
    "        density_list_2 = unique!(density_list)\n",
    "        \n",
    "        # her biri biricik ve her bir site için olan yoğunlukları topla\n",
    "        summ = sum(density_list_2)\n",
    "    end\n",
    "    \n",
    "    # Sitelerin toplam yoğunluklarını bir listede her bir yarı-çap için biriktir\n",
    "    push!(summ_list, summ)\n",
    "    println(\"Rho:\",round(i,digits=3),\"\\t\",\"Q_rho:\",summ)\n",
    "end"
   ]
  },
  {
   "cell_type": "code",
   "execution_count": 60,
   "id": "6cb5ed96-3c79-4891-9b46-deb7fa83aee5",
   "metadata": {},
   "outputs": [
    {
     "data": {
      "image/svg+xml": [
       "<?xml version=\"1.0\" encoding=\"utf-8\"?>\n",
       "<svg xmlns=\"http://www.w3.org/2000/svg\" xmlns:xlink=\"http://www.w3.org/1999/xlink\" width=\"600\" height=\"400\" viewBox=\"0 0 2400 1600\">\n",
       "<defs>\n",
       "  <clipPath id=\"clip590\">\n",
       "    <rect x=\"0\" y=\"0\" width=\"2400\" height=\"1600\"/>\n",
       "  </clipPath>\n",
       "</defs>\n",
       "<path clip-path=\"url(#clip590)\" d=\"M0 1600 L2400 1600 L2400 0 L0 0  Z\" fill=\"#ffffff\" fill-rule=\"evenodd\" fill-opacity=\"1\"/>\n",
       "<defs>\n",
       "  <clipPath id=\"clip591\">\n",
       "    <rect x=\"480\" y=\"0\" width=\"1681\" height=\"1600\"/>\n",
       "  </clipPath>\n",
       "</defs>\n",
       "<defs>\n",
       "  <clipPath id=\"clip592\">\n",
       "    <rect x=\"112\" y=\"47\" width=\"2242\" height=\"1440\"/>\n",
       "  </clipPath>\n",
       "</defs>\n",
       "<path clip-path=\"url(#clip590)\" d=\"M292.839 1397.26 L2352.76 1397.26 L2352.76 123.472 L292.839 123.472  Z\" fill=\"#ffffff\" fill-rule=\"evenodd\" fill-opacity=\"1\"/>\n",
       "<defs>\n",
       "  <clipPath id=\"clip593\">\n",
       "    <rect x=\"292\" y=\"123\" width=\"2061\" height=\"1275\"/>\n",
       "  </clipPath>\n",
       "</defs>\n",
       "<polyline clip-path=\"url(#clip593)\" style=\"stroke:#000000; stroke-linecap:round; stroke-linejoin:round; stroke-width:2; stroke-opacity:0.1; fill:none\" points=\"351.139,1397.26 351.139,123.472 \"/>\n",
       "<polyline clip-path=\"url(#clip593)\" style=\"stroke:#000000; stroke-linecap:round; stroke-linejoin:round; stroke-width:2; stroke-opacity:0.1; fill:none\" points=\"670.618,1397.26 670.618,123.472 \"/>\n",
       "<polyline clip-path=\"url(#clip593)\" style=\"stroke:#000000; stroke-linecap:round; stroke-linejoin:round; stroke-width:2; stroke-opacity:0.1; fill:none\" points=\"990.098,1397.26 990.098,123.472 \"/>\n",
       "<polyline clip-path=\"url(#clip593)\" style=\"stroke:#000000; stroke-linecap:round; stroke-linejoin:round; stroke-width:2; stroke-opacity:0.1; fill:none\" points=\"1309.58,1397.26 1309.58,123.472 \"/>\n",
       "<polyline clip-path=\"url(#clip593)\" style=\"stroke:#000000; stroke-linecap:round; stroke-linejoin:round; stroke-width:2; stroke-opacity:0.1; fill:none\" points=\"1629.06,1397.26 1629.06,123.472 \"/>\n",
       "<polyline clip-path=\"url(#clip593)\" style=\"stroke:#000000; stroke-linecap:round; stroke-linejoin:round; stroke-width:2; stroke-opacity:0.1; fill:none\" points=\"1948.54,1397.26 1948.54,123.472 \"/>\n",
       "<polyline clip-path=\"url(#clip593)\" style=\"stroke:#000000; stroke-linecap:round; stroke-linejoin:round; stroke-width:2; stroke-opacity:0.1; fill:none\" points=\"2268.02,1397.26 2268.02,123.472 \"/>\n",
       "<polyline clip-path=\"url(#clip590)\" style=\"stroke:#000000; stroke-linecap:round; stroke-linejoin:round; stroke-width:4; stroke-opacity:1; fill:none\" points=\"292.839,1397.26 2352.76,1397.26 \"/>\n",
       "<polyline clip-path=\"url(#clip590)\" style=\"stroke:#000000; stroke-linecap:round; stroke-linejoin:round; stroke-width:4; stroke-opacity:1; fill:none\" points=\"351.139,1397.26 351.139,1378.36 \"/>\n",
       "<polyline clip-path=\"url(#clip590)\" style=\"stroke:#000000; stroke-linecap:round; stroke-linejoin:round; stroke-width:4; stroke-opacity:1; fill:none\" points=\"670.618,1397.26 670.618,1378.36 \"/>\n",
       "<polyline clip-path=\"url(#clip590)\" style=\"stroke:#000000; stroke-linecap:round; stroke-linejoin:round; stroke-width:4; stroke-opacity:1; fill:none\" points=\"990.098,1397.26 990.098,1378.36 \"/>\n",
       "<polyline clip-path=\"url(#clip590)\" style=\"stroke:#000000; stroke-linecap:round; stroke-linejoin:round; stroke-width:4; stroke-opacity:1; fill:none\" points=\"1309.58,1397.26 1309.58,1378.36 \"/>\n",
       "<polyline clip-path=\"url(#clip590)\" style=\"stroke:#000000; stroke-linecap:round; stroke-linejoin:round; stroke-width:4; stroke-opacity:1; fill:none\" points=\"1629.06,1397.26 1629.06,1378.36 \"/>\n",
       "<polyline clip-path=\"url(#clip590)\" style=\"stroke:#000000; stroke-linecap:round; stroke-linejoin:round; stroke-width:4; stroke-opacity:1; fill:none\" points=\"1948.54,1397.26 1948.54,1378.36 \"/>\n",
       "<polyline clip-path=\"url(#clip590)\" style=\"stroke:#000000; stroke-linecap:round; stroke-linejoin:round; stroke-width:4; stroke-opacity:1; fill:none\" points=\"2268.02,1397.26 2268.02,1378.36 \"/>\n",
       "<path clip-path=\"url(#clip590)\" d=\"M351.139 1428.18 Q347.528 1428.18 345.699 1431.74 Q343.893 1435.28 343.893 1442.41 Q343.893 1449.52 345.699 1453.09 Q347.528 1456.63 351.139 1456.63 Q354.773 1456.63 356.579 1453.09 Q358.407 1449.52 358.407 1442.41 Q358.407 1435.28 356.579 1431.74 Q354.773 1428.18 351.139 1428.18 M351.139 1424.47 Q356.949 1424.47 360.004 1429.08 Q363.083 1433.66 363.083 1442.41 Q363.083 1451.14 360.004 1455.75 Q356.949 1460.33 351.139 1460.33 Q345.329 1460.33 342.25 1455.75 Q339.194 1451.14 339.194 1442.41 Q339.194 1433.66 342.25 1429.08 Q345.329 1424.47 351.139 1424.47 Z\" fill=\"#000000\" fill-rule=\"nonzero\" fill-opacity=\"1\" /><path clip-path=\"url(#clip590)\" d=\"M661 1455.72 L668.639 1455.72 L668.639 1429.36 L660.329 1431.03 L660.329 1426.77 L668.593 1425.1 L673.269 1425.1 L673.269 1455.72 L680.908 1455.72 L680.908 1459.66 L661 1459.66 L661 1455.72 Z\" fill=\"#000000\" fill-rule=\"nonzero\" fill-opacity=\"1\" /><path clip-path=\"url(#clip590)\" d=\"M984.75 1455.72 L1001.07 1455.72 L1001.07 1459.66 L979.125 1459.66 L979.125 1455.72 Q981.788 1452.97 986.371 1448.34 Q990.977 1443.69 992.158 1442.35 Q994.403 1439.82 995.283 1438.09 Q996.186 1436.33 996.186 1434.64 Q996.186 1431.88 994.241 1430.15 Q992.32 1428.41 989.218 1428.41 Q987.019 1428.41 984.565 1429.17 Q982.135 1429.94 979.357 1431.49 L979.357 1426.77 Q982.181 1425.63 984.635 1425.05 Q987.088 1424.47 989.125 1424.47 Q994.496 1424.47 997.69 1427.16 Q1000.88 1429.85 1000.88 1434.34 Q1000.88 1436.47 1000.07 1438.39 Q999.287 1440.28 997.181 1442.88 Q996.602 1443.55 993.5 1446.77 Q990.399 1449.96 984.75 1455.72 Z\" fill=\"#000000\" fill-rule=\"nonzero\" fill-opacity=\"1\" /><path clip-path=\"url(#clip590)\" d=\"M1313.82 1441.03 Q1317.18 1441.74 1319.06 1444.01 Q1320.95 1446.28 1320.95 1449.61 Q1320.95 1454.73 1317.44 1457.53 Q1313.92 1460.33 1307.44 1460.33 Q1305.26 1460.33 1302.95 1459.89 Q1300.65 1459.47 1298.2 1458.62 L1298.2 1454.1 Q1300.14 1455.24 1302.46 1455.82 Q1304.77 1456.4 1307.3 1456.4 Q1311.7 1456.4 1313.99 1454.66 Q1316.3 1452.92 1316.3 1449.61 Q1316.3 1446.56 1314.15 1444.85 Q1312.02 1443.11 1308.2 1443.11 L1304.17 1443.11 L1304.17 1439.27 L1308.38 1439.27 Q1311.83 1439.27 1313.66 1437.9 Q1315.49 1436.51 1315.49 1433.92 Q1315.49 1431.26 1313.59 1429.85 Q1311.72 1428.41 1308.2 1428.41 Q1306.28 1428.41 1304.08 1428.83 Q1301.88 1429.24 1299.24 1430.12 L1299.24 1425.96 Q1301.9 1425.22 1304.22 1424.85 Q1306.56 1424.47 1308.62 1424.47 Q1313.94 1424.47 1317.04 1426.91 Q1320.14 1429.31 1320.14 1433.43 Q1320.14 1436.3 1318.5 1438.29 Q1316.86 1440.26 1313.82 1441.03 Z\" fill=\"#000000\" fill-rule=\"nonzero\" fill-opacity=\"1\" /><path clip-path=\"url(#clip590)\" d=\"M1632.07 1429.17 L1620.26 1447.62 L1632.07 1447.62 L1632.07 1429.17 M1630.84 1425.1 L1636.72 1425.1 L1636.72 1447.62 L1641.65 1447.62 L1641.65 1451.51 L1636.72 1451.51 L1636.72 1459.66 L1632.07 1459.66 L1632.07 1451.51 L1616.46 1451.51 L1616.46 1447 L1630.84 1425.1 Z\" fill=\"#000000\" fill-rule=\"nonzero\" fill-opacity=\"1\" /><path clip-path=\"url(#clip590)\" d=\"M1938.81 1425.1 L1957.17 1425.1 L1957.17 1429.04 L1943.1 1429.04 L1943.1 1437.51 Q1944.11 1437.16 1945.13 1437 Q1946.15 1436.81 1947.17 1436.81 Q1952.96 1436.81 1956.34 1439.98 Q1959.72 1443.16 1959.72 1448.57 Q1959.72 1454.15 1956.24 1457.25 Q1952.77 1460.33 1946.45 1460.33 Q1944.28 1460.33 1942.01 1459.96 Q1939.76 1459.59 1937.36 1458.85 L1937.36 1454.15 Q1939.44 1455.28 1941.66 1455.84 Q1943.88 1456.4 1946.36 1456.4 Q1950.36 1456.4 1952.7 1454.29 Q1955.04 1452.18 1955.04 1448.57 Q1955.04 1444.96 1952.7 1442.85 Q1950.36 1440.75 1946.36 1440.75 Q1944.49 1440.75 1942.61 1441.16 Q1940.76 1441.58 1938.81 1442.46 L1938.81 1425.1 Z\" fill=\"#000000\" fill-rule=\"nonzero\" fill-opacity=\"1\" /><path clip-path=\"url(#clip590)\" d=\"M2268.42 1440.52 Q2265.27 1440.52 2263.42 1442.67 Q2261.59 1444.82 2261.59 1448.57 Q2261.59 1452.3 2263.42 1454.47 Q2265.27 1456.63 2268.42 1456.63 Q2271.57 1456.63 2273.4 1454.47 Q2275.25 1452.3 2275.25 1448.57 Q2275.25 1444.82 2273.4 1442.67 Q2271.57 1440.52 2268.42 1440.52 M2277.7 1425.86 L2277.7 1430.12 Q2275.94 1429.29 2274.14 1428.85 Q2272.36 1428.41 2270.6 1428.41 Q2265.97 1428.41 2263.51 1431.53 Q2261.08 1434.66 2260.74 1440.98 Q2262.1 1438.97 2264.16 1437.9 Q2266.22 1436.81 2268.7 1436.81 Q2273.91 1436.81 2276.92 1439.98 Q2279.95 1443.13 2279.95 1448.57 Q2279.95 1453.9 2276.8 1457.11 Q2273.65 1460.33 2268.42 1460.33 Q2262.43 1460.33 2259.25 1455.75 Q2256.08 1451.14 2256.08 1442.41 Q2256.08 1434.22 2259.97 1429.36 Q2263.86 1424.47 2270.41 1424.47 Q2272.17 1424.47 2273.95 1424.82 Q2275.76 1425.17 2277.7 1425.86 Z\" fill=\"#000000\" fill-rule=\"nonzero\" fill-opacity=\"1\" /><path clip-path=\"url(#clip590)\" d=\"M1344.85 1512.16 Q1344.85 1519.52 1341.07 1526.44 Q1337.34 1533.36 1331.46 1537.54 Q1325.64 1541.72 1319.77 1541.72 Q1313.15 1541.72 1309.71 1534.85 Q1303.49 1559.79 1303.14 1560.44 Q1301.7 1562.58 1299.61 1562.58 Q1298.31 1562.58 1297.52 1561.78 Q1296.72 1561.03 1296.72 1559.84 Q1296.77 1559.44 1297.07 1558.2 L1307.02 1518.13 Q1309.31 1508.82 1316.23 1502.2 Q1323.2 1495.53 1330.67 1495.53 Q1336.59 1495.53 1340.72 1499.96 Q1344.85 1504.39 1344.85 1512.16 M1337.53 1507.78 Q1337.53 1502.8 1335.54 1500.31 Q1333.55 1497.77 1330.47 1497.77 Q1327.63 1497.77 1324.2 1500.06 Q1320.81 1502.35 1317.82 1507.43 Q1316.23 1510.37 1315.09 1514 Q1313.94 1517.63 1311.7 1526.59 Q1310.91 1530.18 1310.91 1530.37 Q1310.91 1530.77 1311.11 1531.67 Q1311.35 1532.56 1311.95 1533.96 Q1312.6 1535.3 1313.49 1536.5 Q1314.39 1537.69 1316.03 1538.59 Q1317.68 1539.43 1319.67 1539.43 Q1322.75 1539.43 1326.04 1536.94 Q1329.37 1534.41 1331.81 1529.78 Q1333.85 1526.04 1335.69 1519.03 Q1337.53 1511.96 1337.53 1507.78 Z\" fill=\"#000000\" fill-rule=\"nonzero\" fill-opacity=\"1\" /><polyline clip-path=\"url(#clip593)\" style=\"stroke:#000000; stroke-linecap:round; stroke-linejoin:round; stroke-width:2; stroke-opacity:0.1; fill:none\" points=\"292.839,1134.59 2352.76,1134.59 \"/>\n",
       "<polyline clip-path=\"url(#clip593)\" style=\"stroke:#000000; stroke-linecap:round; stroke-linejoin:round; stroke-width:2; stroke-opacity:0.1; fill:none\" points=\"292.839,814.422 2352.76,814.422 \"/>\n",
       "<polyline clip-path=\"url(#clip593)\" style=\"stroke:#000000; stroke-linecap:round; stroke-linejoin:round; stroke-width:2; stroke-opacity:0.1; fill:none\" points=\"292.839,494.252 2352.76,494.252 \"/>\n",
       "<polyline clip-path=\"url(#clip593)\" style=\"stroke:#000000; stroke-linecap:round; stroke-linejoin:round; stroke-width:2; stroke-opacity:0.1; fill:none\" points=\"292.839,174.082 2352.76,174.082 \"/>\n",
       "<polyline clip-path=\"url(#clip590)\" style=\"stroke:#000000; stroke-linecap:round; stroke-linejoin:round; stroke-width:4; stroke-opacity:1; fill:none\" points=\"292.839,1397.26 292.839,123.472 \"/>\n",
       "<polyline clip-path=\"url(#clip590)\" style=\"stroke:#000000; stroke-linecap:round; stroke-linejoin:round; stroke-width:4; stroke-opacity:1; fill:none\" points=\"292.839,1134.59 311.737,1134.59 \"/>\n",
       "<polyline clip-path=\"url(#clip590)\" style=\"stroke:#000000; stroke-linecap:round; stroke-linejoin:round; stroke-width:4; stroke-opacity:1; fill:none\" points=\"292.839,814.422 311.737,814.422 \"/>\n",
       "<polyline clip-path=\"url(#clip590)\" style=\"stroke:#000000; stroke-linecap:round; stroke-linejoin:round; stroke-width:4; stroke-opacity:1; fill:none\" points=\"292.839,494.252 311.737,494.252 \"/>\n",
       "<polyline clip-path=\"url(#clip590)\" style=\"stroke:#000000; stroke-linecap:round; stroke-linejoin:round; stroke-width:4; stroke-opacity:1; fill:none\" points=\"292.839,174.082 311.737,174.082 \"/>\n",
       "<path clip-path=\"url(#clip590)\" d=\"M150.891 1135.04 L180.566 1135.04 L180.566 1138.98 L150.891 1138.98 L150.891 1135.04 Z\" fill=\"#000000\" fill-rule=\"nonzero\" fill-opacity=\"1\" /><path clip-path=\"url(#clip590)\" d=\"M191.469 1147.94 L199.108 1147.94 L199.108 1121.57 L190.798 1123.24 L190.798 1118.98 L199.062 1117.31 L203.738 1117.31 L203.738 1147.94 L211.377 1147.94 L211.377 1151.87 L191.469 1151.87 L191.469 1147.94 Z\" fill=\"#000000\" fill-rule=\"nonzero\" fill-opacity=\"1\" /><path clip-path=\"url(#clip590)\" d=\"M220.821 1145.99 L225.705 1145.99 L225.705 1151.87 L220.821 1151.87 L220.821 1145.99 Z\" fill=\"#000000\" fill-rule=\"nonzero\" fill-opacity=\"1\" /><path clip-path=\"url(#clip590)\" d=\"M235.937 1117.31 L254.293 1117.31 L254.293 1121.25 L240.219 1121.25 L240.219 1129.72 Q241.237 1129.37 242.256 1129.21 Q243.274 1129.02 244.293 1129.02 Q250.08 1129.02 253.46 1132.2 Q256.839 1135.37 256.839 1140.78 Q256.839 1146.36 253.367 1149.46 Q249.895 1152.54 243.575 1152.54 Q241.4 1152.54 239.131 1152.17 Q236.886 1151.8 234.478 1151.06 L234.478 1146.36 Q236.562 1147.5 238.784 1148.05 Q241.006 1148.61 243.483 1148.61 Q247.487 1148.61 249.825 1146.5 Q252.163 1144.4 252.163 1140.78 Q252.163 1137.17 249.825 1135.07 Q247.487 1132.96 243.483 1132.96 Q241.608 1132.96 239.733 1133.38 Q237.881 1133.79 235.937 1134.67 L235.937 1117.31 Z\" fill=\"#000000\" fill-rule=\"nonzero\" fill-opacity=\"1\" /><path clip-path=\"url(#clip590)\" d=\"M149.895 814.873 L179.571 814.873 L179.571 818.808 L149.895 818.808 L149.895 814.873 Z\" fill=\"#000000\" fill-rule=\"nonzero\" fill-opacity=\"1\" /><path clip-path=\"url(#clip590)\" d=\"M190.474 827.767 L198.113 827.767 L198.113 801.401 L189.803 803.068 L189.803 798.809 L198.066 797.142 L202.742 797.142 L202.742 827.767 L210.381 827.767 L210.381 831.702 L190.474 831.702 L190.474 827.767 Z\" fill=\"#000000\" fill-rule=\"nonzero\" fill-opacity=\"1\" /><path clip-path=\"url(#clip590)\" d=\"M219.826 825.822 L224.71 825.822 L224.71 831.702 L219.826 831.702 L219.826 825.822 Z\" fill=\"#000000\" fill-rule=\"nonzero\" fill-opacity=\"1\" /><path clip-path=\"url(#clip590)\" d=\"M244.895 800.221 Q241.284 800.221 239.455 803.785 Q237.65 807.327 237.65 814.457 Q237.65 821.563 239.455 825.128 Q241.284 828.669 244.895 828.669 Q248.529 828.669 250.335 825.128 Q252.163 821.563 252.163 814.457 Q252.163 807.327 250.335 803.785 Q248.529 800.221 244.895 800.221 M244.895 796.517 Q250.705 796.517 253.761 801.123 Q256.839 805.707 256.839 814.457 Q256.839 823.183 253.761 827.79 Q250.705 832.373 244.895 832.373 Q239.085 832.373 236.006 827.79 Q232.95 823.183 232.95 814.457 Q232.95 805.707 236.006 801.123 Q239.085 796.517 244.895 796.517 Z\" fill=\"#000000\" fill-rule=\"nonzero\" fill-opacity=\"1\" /><path clip-path=\"url(#clip590)\" d=\"M150.891 494.703 L180.566 494.703 L180.566 498.638 L150.891 498.638 L150.891 494.703 Z\" fill=\"#000000\" fill-rule=\"nonzero\" fill-opacity=\"1\" /><path clip-path=\"url(#clip590)\" d=\"M200.659 480.05 Q197.048 480.05 195.219 483.615 Q193.414 487.157 193.414 494.287 Q193.414 501.393 195.219 504.958 Q197.048 508.499 200.659 508.499 Q204.293 508.499 206.099 504.958 Q207.927 501.393 207.927 494.287 Q207.927 487.157 206.099 483.615 Q204.293 480.05 200.659 480.05 M200.659 476.347 Q206.469 476.347 209.525 480.953 Q212.603 485.537 212.603 494.287 Q212.603 503.013 209.525 507.62 Q206.469 512.203 200.659 512.203 Q194.849 512.203 191.77 507.62 Q188.715 503.013 188.715 494.287 Q188.715 485.537 191.77 480.953 Q194.849 476.347 200.659 476.347 Z\" fill=\"#000000\" fill-rule=\"nonzero\" fill-opacity=\"1\" /><path clip-path=\"url(#clip590)\" d=\"M220.821 505.652 L225.705 505.652 L225.705 511.532 L220.821 511.532 L220.821 505.652 Z\" fill=\"#000000\" fill-rule=\"nonzero\" fill-opacity=\"1\" /><path clip-path=\"url(#clip590)\" d=\"M235.937 476.972 L254.293 476.972 L254.293 480.907 L240.219 480.907 L240.219 489.379 Q241.237 489.032 242.256 488.87 Q243.274 488.685 244.293 488.685 Q250.08 488.685 253.46 491.856 Q256.839 495.027 256.839 500.444 Q256.839 506.023 253.367 509.124 Q249.895 512.203 243.575 512.203 Q241.4 512.203 239.131 511.833 Q236.886 511.462 234.478 510.722 L234.478 506.023 Q236.562 507.157 238.784 507.712 Q241.006 508.268 243.483 508.268 Q247.487 508.268 249.825 506.161 Q252.163 504.055 252.163 500.444 Q252.163 496.833 249.825 494.726 Q247.487 492.62 243.483 492.62 Q241.608 492.62 239.733 493.037 Q237.881 493.453 235.937 494.333 L235.937 476.972 Z\" fill=\"#000000\" fill-rule=\"nonzero\" fill-opacity=\"1\" /><path clip-path=\"url(#clip590)\" d=\"M199.664 159.88 Q196.053 159.88 194.224 163.445 Q192.418 166.987 192.418 174.116 Q192.418 181.223 194.224 184.788 Q196.053 188.329 199.664 188.329 Q203.298 188.329 205.103 184.788 Q206.932 181.223 206.932 174.116 Q206.932 166.987 205.103 163.445 Q203.298 159.88 199.664 159.88 M199.664 156.177 Q205.474 156.177 208.529 160.783 Q211.608 165.366 211.608 174.116 Q211.608 182.843 208.529 187.45 Q205.474 192.033 199.664 192.033 Q193.853 192.033 190.775 187.45 Q187.719 182.843 187.719 174.116 Q187.719 165.366 190.775 160.783 Q193.853 156.177 199.664 156.177 Z\" fill=\"#000000\" fill-rule=\"nonzero\" fill-opacity=\"1\" /><path clip-path=\"url(#clip590)\" d=\"M219.826 185.482 L224.71 185.482 L224.71 191.362 L219.826 191.362 L219.826 185.482 Z\" fill=\"#000000\" fill-rule=\"nonzero\" fill-opacity=\"1\" /><path clip-path=\"url(#clip590)\" d=\"M244.895 159.88 Q241.284 159.88 239.455 163.445 Q237.65 166.987 237.65 174.116 Q237.65 181.223 239.455 184.788 Q241.284 188.329 244.895 188.329 Q248.529 188.329 250.335 184.788 Q252.163 181.223 252.163 174.116 Q252.163 166.987 250.335 163.445 Q248.529 159.88 244.895 159.88 M244.895 156.177 Q250.705 156.177 253.761 160.783 Q256.839 165.366 256.839 174.116 Q256.839 182.843 253.761 187.45 Q250.705 192.033 244.895 192.033 Q239.085 192.033 236.006 187.45 Q232.95 182.843 232.95 174.116 Q232.95 165.366 236.006 160.783 Q239.085 156.177 244.895 156.177 Z\" fill=\"#000000\" fill-rule=\"nonzero\" fill-opacity=\"1\" /><path clip-path=\"url(#clip590)\" d=\"M28.3763 753.92 Q35.5436 753.92 42.6611 756.508 Q49.7288 759.096 55.4527 763.426 Q61.1765 767.707 65.6063 773.281 Q69.9863 778.806 72.2261 784.729 Q78.1988 783.982 80.4386 782.489 Q82.7281 780.946 82.7281 777.512 Q82.7281 775.521 81.8322 773.381 Q80.9363 771.191 78.597 768.951 Q76.3074 766.711 72.9229 765.566 Q71.8279 765.218 71.8279 764.322 Q71.8279 763.974 72.1265 763.625 Q72.3754 763.227 72.8233 763.227 Q73.2215 763.227 74.6649 763.675 Q76.1581 764.073 78.4476 764.919 Q80.7372 765.766 83.1263 767.209 Q85.5651 768.652 87.7054 770.444 Q89.8456 772.186 91.1895 774.774 Q92.5831 777.363 92.5831 780.249 Q92.5831 782.639 91.6872 784.381 Q90.7913 786.073 89.6465 786.919 Q88.5017 787.715 86.6601 788.163 Q84.8683 788.611 83.8729 788.661 Q82.8774 788.711 81.3842 788.711 Q79.8413 788.711 73.5202 788.313 Q75.0631 793.688 75.0631 798.267 Q75.0631 809.566 67.647 816.982 Q60.2308 824.398 47.8374 824.398 Q39.177 824.398 30.5663 820.516 Q21.9059 816.633 15.4852 810.461 Q9.01474 804.29 4.98315 796.177 Q0.951563 788.014 0.951563 779.951 Q0.951563 768.503 8.56679 761.236 Q16.1322 753.92 28.3763 753.92 M25.1411 762.929 Q15.087 762.929 9.31338 767.856 Q3.48997 772.734 3.48997 780.548 Q3.48997 786.521 7.32247 793.141 Q11.155 799.711 18.5711 805.036 Q25.9872 810.262 35.2947 812.851 Q44.6022 815.389 51.1224 815.389 Q58.3395 815.389 63.7647 812.552 Q69.1402 809.715 71.3799 803.991 Q70.1854 804.588 68.1447 804.588 Q64.1629 804.588 60.9774 801.403 Q57.7422 798.217 57.7422 794.186 Q57.7422 792.394 58.2897 791 Q58.7874 789.557 59.8327 788.661 Q60.8779 787.715 61.8733 787.118 Q62.819 786.471 64.362 786.123 Q65.8552 785.724 66.6515 785.575 Q67.3981 785.426 68.742 785.227 Q66.0045 780.349 61.5249 776.367 Q56.9956 772.385 52.2174 769.946 Q47.3895 767.508 42.1634 765.865 Q36.8874 764.223 32.7065 763.576 Q28.4759 762.929 25.1411 762.929 M68.6424 788.014 Q64.0136 788.014 62.0227 789.507 Q59.982 790.951 59.982 794.186 Q59.982 797.371 62.5204 799.86 Q65.0588 802.349 68.1447 802.349 Q69.6877 802.349 70.6831 801.901 Q71.6288 801.403 72.027 800.507 Q72.3754 799.611 72.4749 799.064 Q72.5247 798.516 72.5247 797.67 Q72.5247 793.34 70.6831 789.109 Q70.3845 788.362 70.0858 788.213 Q69.7872 788.014 68.6424 788.014 Z\" fill=\"#000000\" fill-rule=\"nonzero\" fill-opacity=\"1\" /><path clip-path=\"url(#clip590)\" d=\"M91.2276 710.03 Q96.3841 710.03 101.227 712.678 Q106.07 715.291 108.996 719.402 Q111.923 723.478 111.923 727.59 Q111.923 732.223 107.115 734.627 Q124.57 738.983 125.023 739.226 Q126.521 740.237 126.521 741.7 Q126.521 742.606 125.964 743.163 Q125.441 743.721 124.605 743.721 Q124.326 743.686 123.455 743.477 L95.4085 736.509 Q88.8933 734.906 84.2594 730.063 Q79.5908 725.186 79.5908 719.959 Q79.5908 715.813 82.6916 712.922 Q85.7924 710.03 91.2276 710.03 M88.1616 715.151 Q84.6775 715.151 82.9355 716.545 Q81.1586 717.939 81.1586 720.099 Q81.1586 722.085 82.7613 724.489 Q84.364 726.858 87.9177 728.948 Q89.9734 730.063 92.5167 730.865 Q95.0601 731.666 101.331 733.234 Q103.84 733.791 103.979 733.791 Q104.258 733.791 104.885 733.652 Q105.512 733.478 106.488 733.06 Q107.429 732.607 108.265 731.98 Q109.101 731.352 109.728 730.203 Q110.32 729.053 110.32 727.659 Q110.32 725.499 108.578 723.2 Q106.802 720.865 103.561 719.158 Q100.948 717.73 96.0357 716.441 Q91.0883 715.151 88.1616 715.151 Z\" fill=\"#000000\" fill-rule=\"nonzero\" fill-opacity=\"1\" /><path clip-path=\"url(#clip590)\" d=\"M629.506 18.8205 L629.506 65.8515 L639.39 65.8515 Q651.907 65.8515 657.7 60.1802 Q663.533 54.509 663.533 42.2752 Q663.533 30.1225 657.7 24.4918 Q651.907 18.8205 639.39 18.8205 L629.506 18.8205 M621.323 12.096 L638.134 12.096 Q655.715 12.096 663.938 19.4281 Q672.162 26.7198 672.162 42.2752 Q672.162 57.9117 663.898 65.2439 Q655.634 72.576 638.134 72.576 L621.323 72.576 L621.323 12.096 Z\" fill=\"#000000\" fill-rule=\"nonzero\" fill-opacity=\"1\" /><path clip-path=\"url(#clip590)\" d=\"M723.689 48.0275 L723.689 51.6733 L689.418 51.6733 Q689.905 59.3701 694.036 63.421 Q698.209 67.4314 705.622 67.4314 Q709.916 67.4314 713.926 66.3781 Q717.977 65.3249 721.947 63.2184 L721.947 70.267 Q717.937 71.9684 713.724 72.8596 Q709.511 73.7508 705.176 73.7508 Q694.32 73.7508 687.96 67.4314 Q681.641 61.1119 681.641 50.3365 Q681.641 39.1965 687.636 32.6746 Q693.672 26.1121 703.88 26.1121 Q713.035 26.1121 718.342 32.0264 Q723.689 37.9003 723.689 48.0275 M716.235 45.84 Q716.154 39.7232 712.792 36.0774 Q709.47 32.4315 703.961 32.4315 Q697.723 32.4315 693.955 35.9558 Q690.229 39.4801 689.661 45.8805 L716.235 45.84 Z\" fill=\"#000000\" fill-rule=\"nonzero\" fill-opacity=\"1\" /><path clip-path=\"url(#clip590)\" d=\"M773.637 45.1919 L773.637 72.576 L766.183 72.576 L766.183 45.4349 Q766.183 38.994 763.672 35.7938 Q761.16 32.5936 756.137 32.5936 Q750.101 32.5936 746.617 36.4419 Q743.133 40.2903 743.133 46.9338 L743.133 72.576 L735.639 72.576 L735.639 27.2059 L743.133 27.2059 L743.133 34.2544 Q745.807 30.163 749.412 28.1376 Q753.058 26.1121 757.798 26.1121 Q765.616 26.1121 769.626 30.9732 Q773.637 35.7938 773.637 45.1919 Z\" fill=\"#000000\" fill-rule=\"nonzero\" fill-opacity=\"1\" /><path clip-path=\"url(#clip590)\" d=\"M817.427 28.5427 L817.427 35.5912 Q814.267 33.9709 810.865 33.1607 Q807.462 32.3505 803.816 32.3505 Q798.266 32.3505 795.471 34.0519 Q792.716 35.7533 792.716 39.156 Q792.716 41.7486 794.701 43.2475 Q796.686 44.7058 802.682 46.0426 L805.234 46.6097 Q813.174 48.3111 816.495 51.4303 Q819.858 54.509 819.858 60.0587 Q819.858 66.3781 814.834 70.0644 Q809.852 73.7508 801.102 73.7508 Q797.456 73.7508 793.486 73.0216 Q789.557 72.3329 785.182 70.9151 L785.182 63.2184 Q789.314 65.3654 793.324 66.4591 Q797.335 67.5124 801.264 67.5124 Q806.53 67.5124 809.366 65.73 Q812.201 63.9071 812.201 60.6258 Q812.201 57.5877 810.135 55.9673 Q808.11 54.3469 801.183 52.8481 L798.59 52.2405 Q791.663 50.7821 788.585 47.7845 Q785.506 44.7463 785.506 39.4801 Q785.506 33.0797 790.043 29.5959 Q794.58 26.1121 802.925 26.1121 Q807.057 26.1121 810.703 26.7198 Q814.348 27.3274 817.427 28.5427 Z\" fill=\"#000000\" fill-rule=\"nonzero\" fill-opacity=\"1\" /><path clip-path=\"url(#clip590)\" d=\"M831.727 27.2059 L839.18 27.2059 L839.18 72.576 L831.727 72.576 L831.727 27.2059 M831.727 9.54393 L839.18 9.54393 L839.18 18.9825 L831.727 18.9825 L831.727 9.54393 Z\" fill=\"#000000\" fill-rule=\"nonzero\" fill-opacity=\"1\" /><path clip-path=\"url(#clip590)\" d=\"M862.149 14.324 L862.149 27.2059 L877.502 27.2059 L877.502 32.9987 L862.149 32.9987 L862.149 57.6282 Q862.149 63.1779 863.648 64.7578 Q865.187 66.3376 869.846 66.3376 L877.502 66.3376 L877.502 72.576 L869.846 72.576 Q861.217 72.576 857.936 69.3758 Q854.655 66.1351 854.655 57.6282 L854.655 32.9987 L849.186 32.9987 L849.186 27.2059 L854.655 27.2059 L854.655 14.324 L862.149 14.324 Z\" fill=\"#000000\" fill-rule=\"nonzero\" fill-opacity=\"1\" /><path clip-path=\"url(#clip590)\" d=\"M906.182 76.7889 Q903.023 84.8907 900.025 87.3618 Q897.027 89.8329 892.004 89.8329 L886.049 89.8329 L886.049 83.5945 L890.424 83.5945 Q893.503 83.5945 895.204 82.1361 Q896.906 80.6778 898.972 75.2496 L900.309 71.8468 L881.958 27.2059 L889.857 27.2059 L904.035 62.6918 L918.214 27.2059 L926.113 27.2059 L906.182 76.7889 Z\" fill=\"#000000\" fill-rule=\"nonzero\" fill-opacity=\"1\" /><path clip-path=\"url(#clip590)\" d=\"M980.678 9.62495 Q975.25 18.942 972.617 28.0566 Q969.984 37.1711 969.984 46.5287 Q969.984 55.8863 972.617 65.0818 Q975.291 74.2369 980.678 83.5134 L974.197 83.5134 Q968.121 73.9938 965.082 64.7983 Q962.085 55.6027 962.085 46.5287 Q962.085 37.4952 965.082 28.3401 Q968.08 19.1851 974.197 9.62495 L980.678 9.62495 Z\" fill=\"#000000\" fill-rule=\"nonzero\" fill-opacity=\"1\" /><path clip-path=\"url(#clip590)\" d=\"M1040.75 16.7545 L1040.75 25.383 Q1036.62 21.5346 1031.92 19.6307 Q1027.26 17.7268 1022 17.7268 Q1011.63 17.7268 1006.12 24.0867 Q1000.61 30.4061 1000.61 42.3968 Q1000.61 54.3469 1006.12 60.7069 Q1011.63 67.0263 1022 67.0263 Q1027.26 67.0263 1031.92 65.1223 Q1036.62 63.2184 1040.75 59.3701 L1040.75 67.9175 Q1036.46 70.8341 1031.64 72.2924 Q1026.86 73.7508 1021.51 73.7508 Q1007.78 73.7508 999.88 65.3654 Q991.98 56.9395 991.98 42.3968 Q991.98 27.8135 999.88 19.4281 Q1007.78 11.0023 1021.51 11.0023 Q1026.94 11.0023 1031.72 12.4606 Q1036.54 13.8784 1040.75 16.7545 Z\" fill=\"#000000\" fill-rule=\"nonzero\" fill-opacity=\"1\" /><path clip-path=\"url(#clip590)\" d=\"M1090.78 45.1919 L1090.78 72.576 L1083.33 72.576 L1083.33 45.4349 Q1083.33 38.994 1080.82 35.7938 Q1078.31 32.5936 1073.28 32.5936 Q1067.25 32.5936 1063.76 36.4419 Q1060.28 40.2903 1060.28 46.9338 L1060.28 72.576 L1052.78 72.576 L1052.78 9.54393 L1060.28 9.54393 L1060.28 34.2544 Q1062.95 30.163 1066.56 28.1376 Q1070.2 26.1121 1074.94 26.1121 Q1082.76 26.1121 1086.77 30.9732 Q1090.78 35.7938 1090.78 45.1919 Z\" fill=\"#000000\" fill-rule=\"nonzero\" fill-opacity=\"1\" /><path clip-path=\"url(#clip590)\" d=\"M1126.27 49.7694 Q1117.23 49.7694 1113.75 51.8354 Q1110.27 53.9013 1110.27 58.8839 Q1110.27 62.8538 1112.86 65.2034 Q1115.49 67.5124 1119.99 67.5124 Q1126.19 67.5124 1129.91 63.1374 Q1133.68 58.7219 1133.68 51.4303 L1133.68 49.7694 L1126.27 49.7694 M1141.13 46.6907 L1141.13 72.576 L1133.68 72.576 L1133.68 65.6895 Q1131.13 69.8214 1127.32 71.8063 Q1123.51 73.7508 1118 73.7508 Q1111.04 73.7508 1106.9 69.8619 Q1102.81 65.9325 1102.81 59.3701 Q1102.81 51.7138 1107.92 47.825 Q1113.06 43.9361 1123.23 43.9361 L1133.68 43.9361 L1133.68 43.2069 Q1133.68 38.0623 1130.28 35.2672 Q1126.92 32.4315 1120.8 32.4315 Q1116.91 32.4315 1113.22 33.3632 Q1109.54 34.295 1106.13 36.1584 L1106.13 29.2718 Q1110.23 27.692 1114.07 26.9223 Q1117.92 26.1121 1121.57 26.1121 Q1131.41 26.1121 1136.27 31.2163 Q1141.13 36.3204 1141.13 46.6907 Z\" fill=\"#000000\" fill-rule=\"nonzero\" fill-opacity=\"1\" /><path clip-path=\"url(#clip590)\" d=\"M1182.78 34.1734 Q1181.52 33.4443 1180.02 33.1202 Q1178.57 32.7556 1176.78 32.7556 Q1170.46 32.7556 1167.06 36.8875 Q1163.7 40.9789 1163.7 48.6757 L1163.7 72.576 L1156.2 72.576 L1156.2 27.2059 L1163.7 27.2059 L1163.7 34.2544 Q1166.05 30.1225 1169.82 28.1376 Q1173.58 26.1121 1178.97 26.1121 Q1179.74 26.1121 1180.67 26.2337 Q1181.6 26.3147 1182.74 26.5172 L1182.78 34.1734 Z\" fill=\"#000000\" fill-rule=\"nonzero\" fill-opacity=\"1\" /><path clip-path=\"url(#clip590)\" d=\"M1218.99 49.3643 Q1218.99 41.2625 1215.63 36.8065 Q1212.31 32.3505 1206.27 32.3505 Q1200.28 32.3505 1196.92 36.8065 Q1193.59 41.2625 1193.59 49.3643 Q1193.59 57.4256 1196.92 61.8816 Q1200.28 66.3376 1206.27 66.3376 Q1212.31 66.3376 1215.63 61.8816 Q1218.99 57.4256 1218.99 49.3643 M1226.45 66.9452 Q1226.45 78.5308 1221.3 84.1616 Q1216.16 89.8329 1205.54 89.8329 Q1201.61 89.8329 1198.13 89.2252 Q1194.65 88.6581 1191.37 87.4428 L1191.37 80.1917 Q1194.65 81.9741 1197.85 82.8248 Q1201.05 83.6755 1204.37 83.6755 Q1211.7 83.6755 1215.35 79.8271 Q1218.99 76.0193 1218.99 68.282 L1218.99 64.5957 Q1216.68 68.6061 1213.08 70.5911 Q1209.47 72.576 1204.45 72.576 Q1196.11 72.576 1191 66.2161 Q1185.9 59.8562 1185.9 49.3643 Q1185.9 38.832 1191 32.472 Q1196.11 26.1121 1204.45 26.1121 Q1209.47 26.1121 1213.08 28.0971 Q1216.68 30.082 1218.99 34.0924 L1218.99 27.2059 L1226.45 27.2059 L1226.45 66.9452 Z\" fill=\"#000000\" fill-rule=\"nonzero\" fill-opacity=\"1\" /><path clip-path=\"url(#clip590)\" d=\"M1280.61 48.0275 L1280.61 51.6733 L1246.34 51.6733 Q1246.82 59.3701 1250.95 63.421 Q1255.13 67.4314 1262.54 67.4314 Q1266.83 67.4314 1270.84 66.3781 Q1274.9 65.3249 1278.87 63.2184 L1278.87 70.267 Q1274.86 71.9684 1270.64 72.8596 Q1266.43 73.7508 1262.09 73.7508 Q1251.24 73.7508 1244.88 67.4314 Q1238.56 61.1119 1238.56 50.3365 Q1238.56 39.1965 1244.55 32.6746 Q1250.59 26.1121 1260.8 26.1121 Q1269.95 26.1121 1275.26 32.0264 Q1280.61 37.9003 1280.61 48.0275 M1273.15 45.84 Q1273.07 39.7232 1269.71 36.0774 Q1266.39 32.4315 1260.88 32.4315 Q1254.64 32.4315 1250.87 35.9558 Q1247.15 39.4801 1246.58 45.8805 L1273.15 45.84 Z\" fill=\"#000000\" fill-rule=\"nonzero\" fill-opacity=\"1\" /><path clip-path=\"url(#clip590)\" d=\"M1291.67 9.62495 L1298.15 9.62495 Q1304.22 19.1851 1307.22 28.3401 Q1310.26 37.4952 1310.26 46.5287 Q1310.26 55.6027 1307.22 64.7983 Q1304.22 73.9938 1298.15 83.5134 L1291.67 83.5134 Q1297.05 74.2369 1299.69 65.0818 Q1302.36 55.8863 1302.36 46.5287 Q1302.36 37.1711 1299.69 28.0566 Q1297.05 18.942 1291.67 9.62495 Z\" fill=\"#000000\" fill-rule=\"nonzero\" fill-opacity=\"1\" /><path clip-path=\"url(#clip590)\" d=\"M1360.09 18.8205 L1360.09 65.8515 L1369.97 65.8515 Q1382.49 65.8515 1388.28 60.1802 Q1394.11 54.509 1394.11 42.2752 Q1394.11 30.1225 1388.28 24.4918 Q1382.49 18.8205 1369.97 18.8205 L1360.09 18.8205 M1351.9 12.096 L1368.71 12.096 Q1386.3 12.096 1394.52 19.4281 Q1402.74 26.7198 1402.74 42.2752 Q1402.74 57.9117 1394.48 65.2439 Q1386.21 72.576 1368.71 72.576 L1351.9 72.576 L1351.9 12.096 Z\" fill=\"#000000\" fill-rule=\"nonzero\" fill-opacity=\"1\" /><path clip-path=\"url(#clip590)\" d=\"M1454.27 48.0275 L1454.27 51.6733 L1420 51.6733 Q1420.49 59.3701 1424.62 63.421 Q1428.79 67.4314 1436.2 67.4314 Q1440.5 67.4314 1444.51 66.3781 Q1448.56 65.3249 1452.53 63.2184 L1452.53 70.267 Q1448.52 71.9684 1444.3 72.8596 Q1440.09 73.7508 1435.76 73.7508 Q1424.9 73.7508 1418.54 67.4314 Q1412.22 61.1119 1412.22 50.3365 Q1412.22 39.1965 1418.22 32.6746 Q1424.25 26.1121 1434.46 26.1121 Q1443.62 26.1121 1448.92 32.0264 Q1454.27 37.9003 1454.27 48.0275 M1446.82 45.84 Q1446.73 39.7232 1443.37 36.0774 Q1440.05 32.4315 1434.54 32.4315 Q1428.3 32.4315 1424.54 35.9558 Q1420.81 39.4801 1420.24 45.8805 L1446.82 45.84 Z\" fill=\"#000000\" fill-rule=\"nonzero\" fill-opacity=\"1\" /><path clip-path=\"url(#clip590)\" d=\"M1473.71 65.7705 L1473.71 89.8329 L1466.22 89.8329 L1466.22 27.2059 L1473.71 27.2059 L1473.71 34.0924 Q1476.06 30.0415 1479.63 28.0971 Q1483.23 26.1121 1488.22 26.1121 Q1496.48 26.1121 1501.62 32.6746 Q1506.81 39.2371 1506.81 49.9314 Q1506.81 60.6258 1501.62 67.1883 Q1496.48 73.7508 1488.22 73.7508 Q1483.23 73.7508 1479.63 71.8063 Q1476.06 69.8214 1473.71 65.7705 M1499.07 49.9314 Q1499.07 41.7081 1495.67 37.0496 Q1492.31 32.3505 1486.39 32.3505 Q1480.48 32.3505 1477.08 37.0496 Q1473.71 41.7081 1473.71 49.9314 Q1473.71 58.1548 1477.08 62.8538 Q1480.48 67.5124 1486.39 67.5124 Q1492.31 67.5124 1495.67 62.8538 Q1499.07 58.1548 1499.07 49.9314 Z\" fill=\"#000000\" fill-rule=\"nonzero\" fill-opacity=\"1\" /><path clip-path=\"url(#clip590)\" d=\"M1519.17 9.54393 L1526.62 9.54393 L1526.62 72.576 L1519.17 72.576 L1519.17 9.54393 Z\" fill=\"#000000\" fill-rule=\"nonzero\" fill-opacity=\"1\" /><path clip-path=\"url(#clip590)\" d=\"M1581.02 48.0275 L1581.02 51.6733 L1546.75 51.6733 Q1547.24 59.3701 1551.37 63.421 Q1555.54 67.4314 1562.96 67.4314 Q1567.25 67.4314 1571.26 66.3781 Q1575.31 65.3249 1579.28 63.2184 L1579.28 70.267 Q1575.27 71.9684 1571.06 72.8596 Q1566.84 73.7508 1562.51 73.7508 Q1551.65 73.7508 1545.29 67.4314 Q1538.97 61.1119 1538.97 50.3365 Q1538.97 39.1965 1544.97 32.6746 Q1551.01 26.1121 1561.21 26.1121 Q1570.37 26.1121 1575.68 32.0264 Q1581.02 37.9003 1581.02 48.0275 M1573.57 45.84 Q1573.49 39.7232 1570.13 36.0774 Q1566.8 32.4315 1561.29 32.4315 Q1555.06 32.4315 1551.29 35.9558 Q1547.56 39.4801 1546.99 45.8805 L1573.57 45.84 Z\" fill=\"#000000\" fill-rule=\"nonzero\" fill-opacity=\"1\" /><path clip-path=\"url(#clip590)\" d=\"M1600.63 14.324 L1600.63 27.2059 L1615.98 27.2059 L1615.98 32.9987 L1600.63 32.9987 L1600.63 57.6282 Q1600.63 63.1779 1602.13 64.7578 Q1603.67 66.3376 1608.33 66.3376 L1615.98 66.3376 L1615.98 72.576 L1608.33 72.576 Q1599.7 72.576 1596.42 69.3758 Q1593.13 66.1351 1593.13 57.6282 L1593.13 32.9987 L1587.67 32.9987 L1587.67 27.2059 L1593.13 27.2059 L1593.13 14.324 L1600.63 14.324 Z\" fill=\"#000000\" fill-rule=\"nonzero\" fill-opacity=\"1\" /><path clip-path=\"url(#clip590)\" d=\"M1625.78 27.2059 L1633.24 27.2059 L1633.24 72.576 L1625.78 72.576 L1625.78 27.2059 M1625.78 9.54393 L1633.24 9.54393 L1633.24 18.9825 L1625.78 18.9825 L1625.78 9.54393 Z\" fill=\"#000000\" fill-rule=\"nonzero\" fill-opacity=\"1\" /><path clip-path=\"url(#clip590)\" d=\"M1666.42 32.4315 Q1660.42 32.4315 1656.94 37.1306 Q1653.45 41.7891 1653.45 49.9314 Q1653.45 58.0738 1656.9 62.7728 Q1660.38 67.4314 1666.42 67.4314 Q1672.37 67.4314 1675.85 62.7323 Q1679.34 58.0333 1679.34 49.9314 Q1679.34 41.8701 1675.85 37.1711 Q1672.37 32.4315 1666.42 32.4315 M1666.42 26.1121 Q1676.14 26.1121 1681.69 32.4315 Q1687.24 38.7509 1687.24 49.9314 Q1687.24 61.0714 1681.69 67.4314 Q1676.14 73.7508 1666.42 73.7508 Q1656.65 73.7508 1651.1 67.4314 Q1645.59 61.0714 1645.59 49.9314 Q1645.59 38.7509 1651.1 32.4315 Q1656.65 26.1121 1666.42 26.1121 Z\" fill=\"#000000\" fill-rule=\"nonzero\" fill-opacity=\"1\" /><path clip-path=\"url(#clip590)\" d=\"M1737.31 45.1919 L1737.31 72.576 L1729.85 72.576 L1729.85 45.4349 Q1729.85 38.994 1727.34 35.7938 Q1724.83 32.5936 1719.81 32.5936 Q1713.77 32.5936 1710.29 36.4419 Q1706.8 40.2903 1706.8 46.9338 L1706.8 72.576 L1699.31 72.576 L1699.31 27.2059 L1706.8 27.2059 L1706.8 34.2544 Q1709.48 30.163 1713.08 28.1376 Q1716.73 26.1121 1721.47 26.1121 Q1729.29 26.1121 1733.3 30.9732 Q1737.31 35.7938 1737.31 45.1919 Z\" fill=\"#000000\" fill-rule=\"nonzero\" fill-opacity=\"1\" /><path clip-path=\"url(#clip590)\" d=\"M1787.05 18.8205 L1787.05 41.5461 L1797.34 41.5461 Q1803.05 41.5461 1806.17 38.5889 Q1809.29 35.6318 1809.29 30.163 Q1809.29 24.7348 1806.17 21.7777 Q1803.05 18.8205 1797.34 18.8205 L1787.05 18.8205 M1778.87 12.096 L1797.34 12.096 Q1807.51 12.096 1812.69 16.714 Q1817.92 21.2916 1817.92 30.163 Q1817.92 39.1155 1812.69 43.6931 Q1807.51 48.2706 1797.34 48.2706 L1787.05 48.2706 L1787.05 72.576 L1778.87 72.576 L1778.87 12.096 Z\" fill=\"#000000\" fill-rule=\"nonzero\" fill-opacity=\"1\" /><path clip-path=\"url(#clip590)\" d=\"M1853.41 34.1734 Q1852.15 33.4443 1850.65 33.1202 Q1849.19 32.7556 1847.41 32.7556 Q1841.09 32.7556 1837.69 36.8875 Q1834.33 40.9789 1834.33 48.6757 L1834.33 72.576 L1826.83 72.576 L1826.83 27.2059 L1834.33 27.2059 L1834.33 34.2544 Q1836.68 30.1225 1840.44 28.1376 Q1844.21 26.1121 1849.6 26.1121 Q1850.37 26.1121 1851.3 26.2337 Q1852.23 26.3147 1853.36 26.5172 L1853.41 34.1734 Z\" fill=\"#000000\" fill-rule=\"nonzero\" fill-opacity=\"1\" /><path clip-path=\"url(#clip590)\" d=\"M1876.98 32.4315 Q1870.99 32.4315 1867.5 37.1306 Q1864.02 41.7891 1864.02 49.9314 Q1864.02 58.0738 1867.46 62.7728 Q1870.95 67.4314 1876.98 67.4314 Q1882.94 67.4314 1886.42 62.7323 Q1889.9 58.0333 1889.9 49.9314 Q1889.9 41.8701 1886.42 37.1711 Q1882.94 32.4315 1876.98 32.4315 M1876.98 26.1121 Q1886.7 26.1121 1892.25 32.4315 Q1897.8 38.7509 1897.8 49.9314 Q1897.8 61.0714 1892.25 67.4314 Q1886.7 73.7508 1876.98 73.7508 Q1867.22 73.7508 1861.67 67.4314 Q1856.16 61.0714 1856.16 49.9314 Q1856.16 38.7509 1861.67 32.4315 Q1867.22 26.1121 1876.98 26.1121 Z\" fill=\"#000000\" fill-rule=\"nonzero\" fill-opacity=\"1\" /><path clip-path=\"url(#clip590)\" d=\"M1933.13 9.54393 L1933.13 15.7418 L1926 15.7418 Q1921.99 15.7418 1920.41 17.3622 Q1918.87 18.9825 1918.87 23.1955 L1918.87 27.2059 L1931.14 27.2059 L1931.14 32.9987 L1918.87 32.9987 L1918.87 72.576 L1911.37 72.576 L1911.37 32.9987 L1904.24 32.9987 L1904.24 27.2059 L1911.37 27.2059 L1911.37 24.0462 Q1911.37 16.471 1914.9 13.0277 Q1918.42 9.54393 1926.08 9.54393 L1933.13 9.54393 Z\" fill=\"#000000\" fill-rule=\"nonzero\" fill-opacity=\"1\" /><path clip-path=\"url(#clip590)\" d=\"M1939.37 27.2059 L1946.82 27.2059 L1946.82 72.576 L1939.37 72.576 L1939.37 27.2059 M1939.37 9.54393 L1946.82 9.54393 L1946.82 18.9825 L1939.37 18.9825 L1939.37 9.54393 Z\" fill=\"#000000\" fill-rule=\"nonzero\" fill-opacity=\"1\" /><path clip-path=\"url(#clip590)\" d=\"M1962.42 9.54393 L1969.87 9.54393 L1969.87 72.576 L1962.42 72.576 L1962.42 9.54393 Z\" fill=\"#000000\" fill-rule=\"nonzero\" fill-opacity=\"1\" /><path clip-path=\"url(#clip590)\" d=\"M2024.27 48.0275 L2024.27 51.6733 L1990 51.6733 Q1990.49 59.3701 1994.62 63.421 Q1998.79 67.4314 2006.21 67.4314 Q2010.5 67.4314 2014.51 66.3781 Q2018.56 65.3249 2022.53 63.2184 L2022.53 70.267 Q2018.52 71.9684 2014.31 72.8596 Q2010.09 73.7508 2005.76 73.7508 Q1994.9 73.7508 1988.54 67.4314 Q1982.22 61.1119 1982.22 50.3365 Q1982.22 39.1965 1988.22 32.6746 Q1994.26 26.1121 2004.46 26.1121 Q2013.62 26.1121 2018.93 32.0264 Q2024.27 37.9003 2024.27 48.0275 M2016.82 45.84 Q2016.74 39.7232 2013.38 36.0774 Q2010.05 32.4315 2004.54 32.4315 Q1998.31 32.4315 1994.54 35.9558 Q1990.81 39.4801 1990.24 45.8805 L2016.82 45.84 Z\" fill=\"#000000\" fill-rule=\"nonzero\" fill-opacity=\"1\" /><polyline clip-path=\"url(#clip593)\" style=\"stroke:#009af9; stroke-linecap:round; stroke-linejoin:round; stroke-width:12; stroke-opacity:1; fill:none\" points=\"351.139,159.523 670.618,219.022 670.618,219.022 904.493,325.974 904.493,325.974 990.098,490.184 990.098,490.184 1196.4,707.567 1309.58,815.999 1457.85,979.318 1503.04,1170.52 1629.06,1252.42 1629.06,1252.42 1743.72,1361.21 1815.18,1361.21 2011.2,1361.21 2041.67,1361.21 2294.46,1361.21 \"/>\n",
       "<circle clip-path=\"url(#clip593)\" cx=\"351.139\" cy=\"159.523\" r=\"18\" fill=\"#ffffff\" fill-rule=\"evenodd\" fill-opacity=\"1\" stroke=\"#0000ff\" stroke-opacity=\"1\" stroke-width=\"3.2\"/>\n",
       "<circle clip-path=\"url(#clip593)\" cx=\"670.618\" cy=\"219.022\" r=\"18\" fill=\"#ffffff\" fill-rule=\"evenodd\" fill-opacity=\"1\" stroke=\"#0000ff\" stroke-opacity=\"1\" stroke-width=\"3.2\"/>\n",
       "<circle clip-path=\"url(#clip593)\" cx=\"670.618\" cy=\"219.022\" r=\"18\" fill=\"#ffffff\" fill-rule=\"evenodd\" fill-opacity=\"1\" stroke=\"#0000ff\" stroke-opacity=\"1\" stroke-width=\"3.2\"/>\n",
       "<circle clip-path=\"url(#clip593)\" cx=\"904.493\" cy=\"325.974\" r=\"18\" fill=\"#ffffff\" fill-rule=\"evenodd\" fill-opacity=\"1\" stroke=\"#0000ff\" stroke-opacity=\"1\" stroke-width=\"3.2\"/>\n",
       "<circle clip-path=\"url(#clip593)\" cx=\"904.493\" cy=\"325.974\" r=\"18\" fill=\"#ffffff\" fill-rule=\"evenodd\" fill-opacity=\"1\" stroke=\"#0000ff\" stroke-opacity=\"1\" stroke-width=\"3.2\"/>\n",
       "<circle clip-path=\"url(#clip593)\" cx=\"990.098\" cy=\"490.184\" r=\"18\" fill=\"#ffffff\" fill-rule=\"evenodd\" fill-opacity=\"1\" stroke=\"#0000ff\" stroke-opacity=\"1\" stroke-width=\"3.2\"/>\n",
       "<circle clip-path=\"url(#clip593)\" cx=\"990.098\" cy=\"490.184\" r=\"18\" fill=\"#ffffff\" fill-rule=\"evenodd\" fill-opacity=\"1\" stroke=\"#0000ff\" stroke-opacity=\"1\" stroke-width=\"3.2\"/>\n",
       "<circle clip-path=\"url(#clip593)\" cx=\"990.098\" cy=\"490.184\" r=\"18\" fill=\"#ffffff\" fill-rule=\"evenodd\" fill-opacity=\"1\" stroke=\"#0000ff\" stroke-opacity=\"1\" stroke-width=\"3.2\"/>\n",
       "<circle clip-path=\"url(#clip593)\" cx=\"1196.4\" cy=\"707.567\" r=\"18\" fill=\"#ffffff\" fill-rule=\"evenodd\" fill-opacity=\"1\" stroke=\"#0000ff\" stroke-opacity=\"1\" stroke-width=\"3.2\"/>\n",
       "<circle clip-path=\"url(#clip593)\" cx=\"1309.58\" cy=\"815.999\" r=\"18\" fill=\"#ffffff\" fill-rule=\"evenodd\" fill-opacity=\"1\" stroke=\"#0000ff\" stroke-opacity=\"1\" stroke-width=\"3.2\"/>\n",
       "<circle clip-path=\"url(#clip593)\" cx=\"1457.85\" cy=\"979.318\" r=\"18\" fill=\"#ffffff\" fill-rule=\"evenodd\" fill-opacity=\"1\" stroke=\"#0000ff\" stroke-opacity=\"1\" stroke-width=\"3.2\"/>\n",
       "<circle clip-path=\"url(#clip593)\" cx=\"1457.85\" cy=\"979.318\" r=\"18\" fill=\"#ffffff\" fill-rule=\"evenodd\" fill-opacity=\"1\" stroke=\"#0000ff\" stroke-opacity=\"1\" stroke-width=\"3.2\"/>\n",
       "<circle clip-path=\"url(#clip593)\" cx=\"1503.04\" cy=\"1170.52\" r=\"18\" fill=\"#ffffff\" fill-rule=\"evenodd\" fill-opacity=\"1\" stroke=\"#0000ff\" stroke-opacity=\"1\" stroke-width=\"3.2\"/>\n",
       "<circle clip-path=\"url(#clip593)\" cx=\"1629.06\" cy=\"1252.42\" r=\"18\" fill=\"#ffffff\" fill-rule=\"evenodd\" fill-opacity=\"1\" stroke=\"#0000ff\" stroke-opacity=\"1\" stroke-width=\"3.2\"/>\n",
       "<circle clip-path=\"url(#clip593)\" cx=\"1629.06\" cy=\"1252.42\" r=\"18\" fill=\"#ffffff\" fill-rule=\"evenodd\" fill-opacity=\"1\" stroke=\"#0000ff\" stroke-opacity=\"1\" stroke-width=\"3.2\"/>\n",
       "<circle clip-path=\"url(#clip593)\" cx=\"1743.72\" cy=\"1361.21\" r=\"18\" fill=\"#ffffff\" fill-rule=\"evenodd\" fill-opacity=\"1\" stroke=\"#0000ff\" stroke-opacity=\"1\" stroke-width=\"3.2\"/>\n",
       "<circle clip-path=\"url(#clip593)\" cx=\"1815.18\" cy=\"1361.21\" r=\"18\" fill=\"#ffffff\" fill-rule=\"evenodd\" fill-opacity=\"1\" stroke=\"#0000ff\" stroke-opacity=\"1\" stroke-width=\"3.2\"/>\n",
       "<circle clip-path=\"url(#clip593)\" cx=\"2011.2\" cy=\"1361.21\" r=\"18\" fill=\"#ffffff\" fill-rule=\"evenodd\" fill-opacity=\"1\" stroke=\"#0000ff\" stroke-opacity=\"1\" stroke-width=\"3.2\"/>\n",
       "<circle clip-path=\"url(#clip593)\" cx=\"2041.67\" cy=\"1361.21\" r=\"18\" fill=\"#ffffff\" fill-rule=\"evenodd\" fill-opacity=\"1\" stroke=\"#0000ff\" stroke-opacity=\"1\" stroke-width=\"3.2\"/>\n",
       "<circle clip-path=\"url(#clip593)\" cx=\"2294.46\" cy=\"1361.21\" r=\"18\" fill=\"#ffffff\" fill-rule=\"evenodd\" fill-opacity=\"1\" stroke=\"#0000ff\" stroke-opacity=\"1\" stroke-width=\"3.2\"/>\n",
       "</svg>\n"
      ]
     },
     "execution_count": 60,
     "metadata": {},
     "output_type": "execute_result"
    }
   ],
   "source": [
    "Plots.plot(radius_list, summ_list, xlabel=L\"\\rho\", ylabel=L\"Q_{\\rho}\", title=\"Density (Charge) Depletion Profile\", guidefontsize=17,legend=false, linewidth=3, m = (5, :white, stroke(1, :blue)))\n",
    "# g(x)=2/87;x=0\n",
    "# Plots.plot!(g, x, length(radius_list), line=(:dot,2), xlim=(0,7))"
   ]
  },
  {
   "cell_type": "code",
   "execution_count": 47,
   "id": "8ac828dd",
   "metadata": {
    "tags": []
   },
   "outputs": [],
   "source": [
    "#U çok küçükken (Band-Gap büyüdüğünde) subspace enerjileri, real-space enerjilerine yakınsar:\n",
    "\n",
    "# MB_Hamiltonian = Kagome_Finite_U(Nx,Ny,Basis_MB,U,sp_op)\n",
    "# real_space_finite_u = eigenenergies(dense(MB_Hamiltonian)); sub_space_finite_u = E_States[1]\n",
    "# plot(1:length(real_space_finite_u[1:21]),real_space_finite_u,seriestype=:scatter,markershape=:star5,markersize=7,label=\"Real-Space\")\n",
    "# plot!(1:length(sub_space_finite_u),sub_space_finite_u,seriestype=:scatter,label=\"Sub-Space\",legend=:topleft)\n",
    "# title!(\"U=$(U)\");xlabel!(\"n\");ylabel!(\"E\")"
   ]
  }
 ],
 "metadata": {
  "@webio": {
   "lastCommId": "b9d8dbcd-fa3b-49d3-9a35-b96732b18c0d",
   "lastKernelId": "4069e10b-ce73-49af-b344-a0570c04a90b"
  },
  "kernelspec": {
   "display_name": "Julia 1.8.1",
   "language": "julia",
   "name": "julia-1.8"
  },
  "language_info": {
   "file_extension": ".jl",
   "mimetype": "application/julia",
   "name": "julia",
   "version": "1.8.1"
  }
 },
 "nbformat": 4,
 "nbformat_minor": 5
}
