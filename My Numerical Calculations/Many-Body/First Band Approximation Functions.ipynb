{
 "cells": [
  {
   "cell_type": "markdown",
   "id": "7b2ef9d5-732a-41e0-8a2f-20e2dbe2bf99",
   "metadata": {},
   "source": [
    "# The Essentials Function for Sub Space"
   ]
  },
  {
   "cell_type": "code",
   "execution_count": 25,
   "id": "45735fd7-1042-49c7-8dc7-68928d984e01",
   "metadata": {
    "editable": true,
    "slideshow": {
     "slide_type": ""
    },
    "tags": []
   },
   "outputs": [],
   "source": [
    "using QuantumOptics\n",
    "using Einsum"
   ]
  },
  {
   "cell_type": "code",
   "execution_count": 26,
   "id": "bc0eaf8b-0222-47b9-a636-15c383e19f78",
   "metadata": {},
   "outputs": [
    {
     "data": {
      "text/plain": [
       "get_sp_op"
      ]
     },
     "execution_count": 26,
     "metadata": {},
     "output_type": "execute_result"
    }
   ],
   "source": [
    "\"\"\"\n",
    "Compute the single-particle operator from single-particle matrix.\n",
    "\n",
    "#### Arguments\n",
    "- `sp_basis::NLevelBasis`: Single-Particle basis.\n",
    "- `N::Integer`: The total site number.\n",
    "- `sp_matrix::Matrix`: Hopping phases matrix from any model.\n",
    "\"\"\"\n",
    "function get_sp_op(sp_basis, sp_matrix)\n",
    "    \n",
    "    H = SparseOperator(sp_basis)\n",
    "\n",
    "    N, = size(sp_matrix)\n",
    "    \n",
    "    for m in 1:N\n",
    "        for n in 1:N\n",
    "            H += sp_matrix[m,n] * transition(sp_basis, m, n)\n",
    "        end\n",
    "    end\n",
    "    \n",
    "    return H\n",
    "end"
   ]
  },
  {
   "cell_type": "code",
   "execution_count": 27,
   "id": "c0a00055-2f93-41fa-a5f3-827a24a5cf60",
   "metadata": {
    "editable": true,
    "slideshow": {
     "slide_type": ""
    },
    "tags": []
   },
   "outputs": [
    {
     "data": {
      "text/plain": [
       "get_sub_states"
      ]
     },
     "execution_count": 27,
     "metadata": {},
     "output_type": "execute_result"
    }
   ],
   "source": [
    "\"\"\"\n",
    "Compute the first eigen-states in a given number.\n",
    "\n",
    "#### Arguments\n",
    "- `sp_op::get_sp_op`: Single-particle operator.\n",
    "- `cut_off::Int`: Limit value of eigen-state index.\n",
    "\"\"\"\n",
    "function get_sub_states(sp_op, cut_off)\n",
    "    \n",
    "    E0, states0 = eigenstates(dense(sp_op))\n",
    "    states = states0[1:cut_off]\n",
    "    \n",
    "    return states\n",
    "end"
   ]
  },
  {
   "cell_type": "code",
   "execution_count": 28,
   "id": "d6fdc0d9-8319-4567-8ba0-3a3f897ca15a",
   "metadata": {},
   "outputs": [
    {
     "data": {
      "text/plain": [
       "get_projector_op"
      ]
     },
     "execution_count": 28,
     "metadata": {},
     "output_type": "execute_result"
    }
   ],
   "source": [
    "\"\"\"\n",
    "Compute sub-space basis, projection and comlex conjugate of projection operator.\n",
    "\n",
    "#### Arguments\n",
    "- `states::get_sub_states`: Eigen-states of the sub-space.\n",
    "- `basis::NLevelBasis`: Single-particle basis.\n",
    "\"\"\"\n",
    "function get_projector_op(states, sp_basis)\n",
    "    \n",
    "    sub_basis = SubspaceBasis(sp_basis,states)\n",
    "    P = projector(sub_basis, sp_basis)\n",
    "    Pt = dagger(P)\n",
    "    \n",
    "    return sub_basis, P, Pt\n",
    "end"
   ]
  },
  {
   "cell_type": "markdown",
   "id": "64929ab6-3747-4ce7-b39f-40ba8f9ce502",
   "metadata": {},
   "source": [
    "<font size=\"5\">\n",
    "$\\hat{O}_{sub}=P\\hat{O}P^\\dagger$\n",
    "</font>"
   ]
  },
  {
   "cell_type": "code",
   "execution_count": 29,
   "id": "2054201b-a6aa-4e45-81c8-3d5937ad2e55",
   "metadata": {},
   "outputs": [
    {
     "data": {
      "text/plain": [
       "get_subspace_op"
      ]
     },
     "execution_count": 29,
     "metadata": {},
     "output_type": "execute_result"
    }
   ],
   "source": [
    "\"\"\"\n",
    "Compute the corresponding operator in the sub-space.\n",
    "\n",
    "#### Arguments\n",
    "- `sp_op::Operator`: Single-particle operator from single-particle matrix.\n",
    "- `P::get_projector_op[2]`: Projection operator.\n",
    "- `Pt::get_projector_op[3]`: Complex conjugate of projection operator.\n",
    "\"\"\"\n",
    "function get_subspace_op(sp_op, P, Pt)\n",
    "    return P*sp_op*Pt\n",
    "end"
   ]
  },
  {
   "cell_type": "markdown",
   "id": "fa729749-679d-4daf-bcc9-b7109cafe260",
   "metadata": {},
   "source": [
    "<font size=\"5\">\n",
    "    $n_i=a_i^\\dagger a_i$\n",
    "</font>"
   ]
  },
  {
   "cell_type": "code",
   "execution_count": 30,
   "id": "985bb34b-f9c8-4cc5-9243-22826996508a",
   "metadata": {
    "editable": true,
    "slideshow": {
     "slide_type": ""
    },
    "tags": []
   },
   "outputs": [
    {
     "data": {
      "text/plain": [
       "get_num_sub_list"
      ]
     },
     "execution_count": 30,
     "metadata": {},
     "output_type": "execute_result"
    }
   ],
   "source": [
    "\"\"\"\n",
    "Compute the single-particle number operator for each lattice sites.\n",
    "\n",
    "#### Arguments\n",
    "- `N::Integer`: The total site number.\n",
    "- `sp_basis::NLevelBasis`: Single-Particle basis.\n",
    "- `P::get_projector_op[2]`: Projection operator.\n",
    "- `Pt::get_projector_op[3]`: Complex conjugate of projection operator.\n",
    "\"\"\"\n",
    "function get_num_sub_list(N, sp_basis, P, Pt)\n",
    "    num_sub_list = []\n",
    "    for m in 1:N\n",
    "        num_op = transition(sp_basis, m, m)\n",
    "        num_sub_op = get_subspace_op(num_op, P, Pt)\n",
    "        push!(num_sub_list, num_sub_op)\n",
    "    end\n",
    "    return num_sub_list\n",
    "end"
   ]
  },
  {
   "cell_type": "markdown",
   "id": "6f813c79-442b-4431-a019-f8ce0cae7ad4",
   "metadata": {},
   "source": [
    "<font size=\"5\">\n",
    "    $\\hat{O}=\\sum_{ij} a^\\dagger_i a_j <u_i|\\hat{o}|u_j>$\n",
    "</font>"
   ]
  },
  {
   "cell_type": "code",
   "execution_count": 31,
   "id": "cb1d3da2-ace7-4513-b342-2fb36a261d63",
   "metadata": {
    "editable": true,
    "slideshow": {
     "slide_type": ""
    },
    "tags": []
   },
   "outputs": [
    {
     "data": {
      "text/plain": [
       "get_mb_op"
      ]
     },
     "execution_count": 31,
     "metadata": {},
     "output_type": "execute_result"
    }
   ],
   "source": [
    "\"\"\"\n",
    "Compute the many-body operator for boson particles from single-particle operator.\n",
    "\n",
    "#### Arguments\n",
    "- `mb_basis`: Many-body basis.\n",
    "- `sp_op::Operator`: Single-particle operator.\n",
    "\"\"\"\n",
    "function get_mb_op(mb_basis, sp_op)\n",
    "    \n",
    "    mb_op = SparseOperator(mb_basis)\n",
    "    \n",
    "    #N = sp_op.basis_l.N\n",
    "    N = sp_op.basis_l.shape[1]\n",
    "    \n",
    "    for i in 1:N\n",
    "        for j in 1:N\n",
    "            mb_op += sp_op.data[i,j] * transition(mb_basis, i, j)\n",
    "        end\n",
    "    end\n",
    "    \n",
    "    return mb_op\n",
    "end"
   ]
  },
  {
   "cell_type": "markdown",
   "id": "9d8eea98-dd50-4874-a2e1-7c0bf7ca10a1",
   "metadata": {},
   "source": [
    "<font size=\"5\">\n",
    "    $\\hat{V}=\\sum_{ijkl}a^\\dagger_ia^\\dagger_ja_ka_l <u_i|<u_j|\\hat{v}|u_k>|u_l>$\n",
    "</font>"
   ]
  },
  {
   "cell_type": "code",
   "execution_count": 32,
   "id": "6c2b8761-0f70-4997-b86d-28d929a1c8f7",
   "metadata": {},
   "outputs": [
    {
     "data": {
      "text/plain": [
       "create_tensor (generic function with 1 method)"
      ]
     },
     "execution_count": 32,
     "metadata": {},
     "output_type": "execute_result"
    }
   ],
   "source": [
    "function create_tensor(basis, dimension, size)\n",
    "    Createe = zeros(ComplexF64, dimension, dimension, size)\n",
    "    for i in 1:size\n",
    "        Createe[:,:,i] = dense(create(basis, i)).data\n",
    "    end\n",
    "    return Createe\n",
    "end"
   ]
  },
  {
   "cell_type": "code",
   "execution_count": 33,
   "id": "96347d0c-3716-4519-a539-f2404bdc314e",
   "metadata": {},
   "outputs": [
    {
     "data": {
      "text/plain": [
       "destroy_tensor (generic function with 1 method)"
      ]
     },
     "execution_count": 33,
     "metadata": {},
     "output_type": "execute_result"
    }
   ],
   "source": [
    "function destroy_tensor(basis, dimension, size)\n",
    "    Destroyy = zeros(ComplexF64, dimension, dimension, size)\n",
    "    for i in 1:size\n",
    "        Destroyy[:,:,i] = dense(destroy(basis, i)).data\n",
    "    end\n",
    "    return Destroyy\n",
    "end"
   ]
  },
  {
   "cell_type": "code",
   "execution_count": null,
   "id": "8f8d921b-9fed-45c5-b756-ad7a95ae4163",
   "metadata": {},
   "outputs": [],
   "source": [
    "function Hubbard_Interaction(P, Pt, cut_mb_basis, cut_off, U)\n",
    "    \n",
    "    # P1 and P1t are just a matrix, don't focus on it :)\n",
    "    P1 = P.data\n",
    "    P1t = Pt.data\n",
    "\n",
    "    #Preety fast calculation with einsum. No problem here\n",
    "    @einsum coefficient[k,l,m,n] := P1[k,i] * P1[l,i] * P1t[i,m] * P1t[i,n]\n",
    "\n",
    "    # Sparse operator for fast modifying\n",
    "    Vint_mb_cut = SparseOperator(cut_mb_basis)\n",
    "    \n",
    "    # The problem starts here :/    \n",
    "    for k in 1:cut_off\n",
    "        for l in 1:cut_off\n",
    "            for m in 1:cut_off\n",
    "                for n in 1:cut_off\n",
    "\n",
    "                    # These four operators are just matrices but note that they depend on the loop indices!\n",
    "                    a1t = create(cut_mb_basis, k)\n",
    "                    a2t = create(cut_mb_basis, l)\n",
    "                    a2  = destroy(cut_mb_basis, m)      \n",
    "                    a1  = destroy(cut_mb_basis, n)\n",
    "\n",
    "                    #Matrix multiplication pretty fast, no problem here      \n",
    "                    Vint_mb_cut += U/2*coefficient[k,l,m,n]*a1t*a2t*a2*a1\n",
    "                end\n",
    "            end\n",
    "        end\n",
    "    end\n",
    "    \n",
    "    return Vint_mb_cut\n",
    "end"
   ]
  },
  {
   "cell_type": "code",
   "execution_count": 38,
   "id": "1412dae1-e042-47f8-b886-1f2578c0d52a",
   "metadata": {},
   "outputs": [
    {
     "data": {
      "text/plain": [
       "Hubbard_Interaction (generic function with 1 method)"
      ]
     },
     "execution_count": 38,
     "metadata": {},
     "output_type": "execute_result"
    }
   ],
   "source": [
    "function Hubbard_Interaction_op(P, Pt, cut_mb_basis, cut_off, U)\n",
    "    \n",
    "    P1 = P.data\n",
    "    P1t = Pt.data\n",
    "\n",
    "    @einsum coefficient[k,l,m,n] := P1[k,i] * P1[l,i] * P1t[i,m] * P1t[i,n]\n",
    "\n",
    "    Vint_mb_cut = SparseOperator(cut_mb_basis)\n",
    "\n",
    "    A = [destroy(cut_mb_basis, k) for k in 1:cut_off]\n",
    "    At = [create(cut_mb_basis, k) for k in 1:cut_off]\n",
    "    \n",
    "    for k in ProgressBar(1:cut_off)\n",
    "        for l in 1:cut_off\n",
    "            for m in 1:cut_off\n",
    "                for n in 1:cut_off\n",
    "                    Vint_mb_cut += U/2 * coefficient[k,l,m,n] * At[k] * At[l] * A[m] * A[n]\n",
    "                end\n",
    "            end\n",
    "        end\n",
    "    end\n",
    "    \n",
    "    return Vint_mb_cut\n",
    "end"
   ]
  },
  {
   "cell_type": "code",
   "execution_count": null,
   "id": "9b5fa84f-a767-492a-8255-745284b62309",
   "metadata": {},
   "outputs": [],
   "source": [
    "function Hubbard_Interaction_sym(P, Pt, cut_mb_basis, cut_off, U)\n",
    "    \n",
    "    P1 = P.data\n",
    "    P1t = Pt.data\n",
    "\n",
    "    @einsum coefficient[k,l,m,n] := P1[k,i] * P1[l,i] * P1t[i,m] * P1t[i,n] # en baştan simetrik kurmak gerek!\n",
    "\n",
    "    Vint_mb_cut = SparseOperator(cut_mb_basis)\n",
    "\n",
    "    # bunlar zaten simetrik\n",
    "    A = [destroy(cut_mb_basis, k) for k in 1:cut_off]\n",
    "    At = [create(cut_mb_basis, k) for k in 1:cut_off]\n",
    "    \n",
    "    for k in ProgressBar(1:cut_off)\n",
    "        for l in 1:cut_off\n",
    "            for m in 1:cut_off\n",
    "                for n in 1:cut_off\n",
    "                    Vint_mb_cut += U/2 * coefficient[k,l,m,n] * At[k] * At[k] * A[m] * A[m]\n",
    "                end\n",
    "            end\n",
    "        end\n",
    "    end\n",
    "    \n",
    "    return Vint_mb_cut\n",
    "end"
   ]
  },
  {
   "cell_type": "code",
   "execution_count": 1,
   "id": "e277b7b0-8d1d-474d-a04b-d8b12e05456a",
   "metadata": {
    "editable": true,
    "slideshow": {
     "slide_type": ""
    },
    "tags": []
   },
   "outputs": [
    {
     "data": {
      "text/plain": [
       "get_num_mb_op (generic function with 1 method)"
      ]
     },
     "execution_count": 1,
     "metadata": {},
     "output_type": "execute_result"
    }
   ],
   "source": [
    "function get_num_mb_op(N, cut_sp_basis, num_sub_list, cut_mb_basis, sub_basis)\n",
    "    \n",
    "    # num_sp_op_list = []\n",
    "    # for i in 1:N\n",
    "    #     number_sp_list = Operator(cut_sp_basis, num_sub_list[i].data)\n",
    "    #     push!(num_sp_op_list, number_sp_list)\n",
    "    # end\n",
    "    \n",
    "    # num_mb_op_list = []\n",
    "    # for i in 1:N\n",
    "    #     number_mb_list = get_mb_op(cut_mb_basis, num_sp_op_list[i])\n",
    "    #     push!(num_mb_op_list, number_mb_list)\n",
    "    # end\n",
    "\n",
    "    number_sp_list = [Operator(cut_sp_basis, num_sub_list[i].data) for i in ProgressBar(1:N)]\n",
    "    number_mb_list = [get_mb_op(cut_mb_basis, number_sp_list[i]) for i in 1:N]\n",
    "    # num_mb_op_list = []\n",
    "    # num_mb_op_list = [push!(num_mb_op_list, number_mb_list[i]) for i in 1:N]\n",
    "    \n",
    "    return number_mb_list\n",
    "end"
   ]
  },
  {
   "cell_type": "code",
   "execution_count": null,
   "id": "5c8bb6c6-ec52-400e-874f-5f845e192803",
   "metadata": {},
   "outputs": [],
   "source": [
    "function plot_square_lattice(Nx, Ny)\n",
    "    co = vcat( ( [y x] for x in 0:Ny-1 for y in 0:Nx-1 ) ... )\n",
    "    p = scatter(co[:,1],co[:,2], series_annotations = text.([i for i in 1:N], :bottom), legend=false)\n",
    "    return co, display(p)\n",
    "end"
   ]
  },
  {
   "cell_type": "code",
   "execution_count": 2,
   "id": "01edc7f6-d8d4-4c7b-9723-26a684c90c35",
   "metadata": {
    "editable": true,
    "slideshow": {
     "slide_type": ""
    },
    "tags": []
   },
   "outputs": [
    {
     "data": {
      "text/plain": [
       "get_filtered_energies (generic function with 1 method)"
      ]
     },
     "execution_count": 2,
     "metadata": {},
     "output_type": "execute_result"
    }
   ],
   "source": [
    "# find specific particle number energies\n",
    "function get_filtered_energies(pn, E, V, basis)\n",
    "    PN_Energies = Array{Float64}(undef, length(E), 2)\n",
    "    for i in 1:length(E)\n",
    "        PN_Energies[i] = round(expect(number(basis), V[i])) \n",
    "        PN_Energies[i,2] = E[i] \n",
    "    end\n",
    "    \n",
    "    # filter\n",
    "    df = DataFrame(PN_Energies, :auto)\n",
    "    df = filter(row -> (row.x1 == pn),  df)\n",
    "    \n",
    "    return Matrix(df)[:,2]\n",
    "end"
   ]
  },
  {
   "cell_type": "markdown",
   "id": "17674069-712e-4b0a-a211-0301a4f468e1",
   "metadata": {},
   "source": [
    "Allta ki fonksiyonun çalışması için, dizide ki filtre edilmiş parçacık sayısı her zaman en büyük değer de olmalıdır.\n",
    "Örneğin, `PN=[0,1,2,3,4]` iken filtre edilen parçacık sayısı `pn=4` olmalıdır!"
   ]
  },
  {
   "cell_type": "code",
   "execution_count": 3,
   "id": "cd7a382d-9cb9-41b8-8dfb-80c2782dfa7c",
   "metadata": {},
   "outputs": [
    {
     "data": {
      "text/plain": [
       "Restricted_Hubbard_States (generic function with 1 method)"
      ]
     },
     "execution_count": 3,
     "metadata": {},
     "output_type": "execute_result"
    }
   ],
   "source": [
    "# Eigenstates of filtered particles\n",
    "function Restricted_Hubbard_States(states, filtered_energies)\n",
    "    number_of_states = length(filtered_energies)\n",
    "    return states[1:number_of_states];\n",
    "end"
   ]
  },
  {
   "cell_type": "code",
   "execution_count": 4,
   "id": "7603133f-bd28-4e2b-bb52-68d1b3fdd9ac",
   "metadata": {
    "editable": true,
    "slideshow": {
     "slide_type": ""
    },
    "tags": []
   },
   "outputs": [
    {
     "data": {
      "text/plain": [
       "Get_Density_Profile (generic function with 1 method)"
      ]
     },
     "execution_count": 4,
     "metadata": {},
     "output_type": "execute_result"
    }
   ],
   "source": [
    "function Get_Density_Profile(N_Site, Sub_Number_MB_Operator_List, Basis_Cut_MB, Fil_States, index)\n",
    "    Expectation_List = []\n",
    "    for site in 1:N_Site\n",
    "        push!(Expectation_List, expect(Sub_Number_MB_Operator_List[site], Fil_States[index]))\n",
    "    end\n",
    "    return real(Expectation_List)\n",
    "end"
   ]
  },
  {
   "cell_type": "code",
   "execution_count": 5,
   "id": "45d0713c-6b51-4f81-bcb4-e2e88193c598",
   "metadata": {
    "editable": true,
    "slideshow": {
     "slide_type": ""
    },
    "tags": []
   },
   "outputs": [
    {
     "data": {
      "text/plain": [
       "Get_Avg_Density (generic function with 1 method)"
      ]
     },
     "execution_count": 5,
     "metadata": {},
     "output_type": "execute_result"
    }
   ],
   "source": [
    "function Get_Avg_Density(Nx, Ny, Degeneracy, N_Site, Sub_Number_MB_Operator_List, Basis_Cut_MB, Fil_States)\n",
    "    Avg_Density = spzeros(Nx,Ny)\n",
    "    for index in 1:Degeneracy\n",
    "        Avg_Density += reshape(Get_Density_Profile(N_Site, Sub_Number_MB_Operator_List, Basis_Cut_MB, Fil_States, index), Nx, Ny)\n",
    "    end    \n",
    "    return Avg_Density / Degeneracy\n",
    "end"
   ]
  },
  {
   "cell_type": "code",
   "execution_count": 6,
   "id": "4ec4283e-939b-45fd-955b-570edb65a877",
   "metadata": {},
   "outputs": [
    {
     "data": {
      "text/plain": [
       "Get_Avg_Density_List (generic function with 1 method)"
      ]
     },
     "execution_count": 6,
     "metadata": {},
     "output_type": "execute_result"
    }
   ],
   "source": [
    "function Get_Avg_Density_List(Nx, Ny, Degeneracy, N_Site, Sub_Number_MB_Operator_List, Basis_Cut_MB, Fil_States)\n",
    "    Avg_Density = zeros(N_Site)\n",
    "    for index in 1:Degeneracy\n",
    "        Avg_Density += Get_Density_Profile(N_Site, Sub_Number_MB_Operator_List, Basis_Cut_MB, Fil_States, index)\n",
    "    end    \n",
    "    return Avg_Density / Degeneracy\n",
    "end"
   ]
  },
  {
   "cell_type": "code",
   "execution_count": 7,
   "id": "1feb76d1-4f95-40b1-b9b7-55e36f4444e6",
   "metadata": {},
   "outputs": [
    {
     "data": {
      "text/plain": [
       "Interp (generic function with 1 method)"
      ]
     },
     "execution_count": 7,
     "metadata": {},
     "output_type": "execute_result"
    }
   ],
   "source": [
    "function Interp(data, factor)\n",
    "    IC = CubicSplineInterpolation((axes(data,1), axes(data,2)), data)\n",
    "    finerx = LinRange(firstindex(data,1), lastindex(data,1), size(data,1) * factor)\n",
    "    finery = LinRange(firstindex(data,2), lastindex(data,2), size(data,2) * factor)\n",
    "    nx = length(finerx)\n",
    "    ny = length(finery)\n",
    "    data_interp = Array{Float64}(undef,nx,ny)\n",
    "    for i ∈ 1:nx, j ∈ 1:ny\n",
    "        data_interp[i,j] = IC(finerx[i],finery[j])\n",
    "    end\n",
    "    return finery, finerx, data_interp\n",
    "end"
   ]
  },
  {
   "cell_type": "code",
   "execution_count": 8,
   "id": "6dfd133c-f064-4b67-8c2f-a66adfadcf56",
   "metadata": {
    "editable": true,
    "slideshow": {
     "slide_type": ""
    },
    "tags": []
   },
   "outputs": [
    {
     "data": {
      "text/plain": [
       "exp_list0 (generic function with 1 method)"
      ]
     },
     "execution_count": 8,
     "metadata": {},
     "output_type": "execute_result"
    }
   ],
   "source": [
    "# Find x and y coordinates from given site index\n",
    "\n",
    "function exp_list0(Nx, Ny, a1_vec, a2_vec, Basis, site_indx, avg_density)\n",
    "    \n",
    "    x_co = OffsetArray(get_sites(Nx, Ny, a1_vec, a2_vec, Basis)[4], 1:N)\n",
    "    y_co = OffsetArray(get_sites(Nx, Ny, a1_vec, a2_vec, Basis)[5], 1:N)\n",
    "    \n",
    "    x = hcat(x_co, y_co)[site_indx, 1]\n",
    "    y = hcat(x_co, y_co)[site_indx, 2] \n",
    "    \n",
    "    #!!! \n",
    "    # Burada beklenen değerlerin sıralamasının site bazında olduğunu varsaydım!!!!\n",
    "    #!!!\n",
    "    exp_val = real(avg_density)[site_indx] \n",
    "    \n",
    "    return x, y, exp_val\n",
    "end"
   ]
  },
  {
   "cell_type": "code",
   "execution_count": 9,
   "id": "3bc33405-5afd-4195-870a-fd4b6d45b8f8",
   "metadata": {},
   "outputs": [
    {
     "data": {
      "text/plain": [
       "exp_list1 (generic function with 1 method)"
      ]
     },
     "execution_count": 9,
     "metadata": {},
     "output_type": "execute_result"
    }
   ],
   "source": [
    "# Find site_index from given x and y coordinates\n",
    "\n",
    "function exp_list1(Xx, Yy)\n",
    "    co_list = hcat(x_co, y_co)\n",
    "    site_indx = intersect(findall(x->x==Xx, co_list[:,1]), findall(x->x==Yy, co_list[:,2]))\n",
    "    return real(avg_density)[site_indx] \n",
    "end"
   ]
  },
  {
   "cell_type": "code",
   "execution_count": null,
   "id": "d7e5acab-c0ee-40d1-80fa-f89a63fc6647",
   "metadata": {},
   "outputs": [],
   "source": []
  },
  {
   "cell_type": "code",
   "execution_count": null,
   "id": "a5c2ae0e-0bc1-48d6-a293-8c540aacb2e8",
   "metadata": {},
   "outputs": [],
   "source": []
  },
  {
   "cell_type": "code",
   "execution_count": null,
   "id": "370dcc63-c704-4ea0-a7ab-2eea34e940af",
   "metadata": {},
   "outputs": [],
   "source": []
  },
  {
   "cell_type": "code",
   "execution_count": null,
   "id": "fe9b0682-e740-4771-b96f-0fe07e51cf72",
   "metadata": {},
   "outputs": [],
   "source": []
  }
 ],
 "metadata": {
  "kernelspec": {
   "display_name": "Julia 1.9.3",
   "language": "julia",
   "name": "julia-1.9"
  },
  "language_info": {
   "file_extension": ".jl",
   "mimetype": "application/julia",
   "name": "julia",
   "version": "1.9.3"
  }
 },
 "nbformat": 4,
 "nbformat_minor": 5
}
