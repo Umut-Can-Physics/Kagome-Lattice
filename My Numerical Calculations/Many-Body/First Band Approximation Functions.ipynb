{
 "cells": [
  {
   "cell_type": "markdown",
   "id": "7b2ef9d5-732a-41e0-8a2f-20e2dbe2bf99",
   "metadata": {},
   "source": [
    "# The Essentials Function to Calculate the Sub-Space Operators"
   ]
  },
  {
   "cell_type": "code",
   "execution_count": 15,
   "id": "45735fd7-1042-49c7-8dc7-68928d984e01",
   "metadata": {},
   "outputs": [],
   "source": [
    "using QuantumOptics\n",
    "\n",
    "# https://juliapackages.com/p/einsum\n",
    "using Einsum"
   ]
  },
  {
   "cell_type": "code",
   "execution_count": 16,
   "id": "bc0eaf8b-0222-47b9-a636-15c383e19f78",
   "metadata": {},
   "outputs": [
    {
     "data": {
      "text/plain": [
       "get_sp_op"
      ]
     },
     "execution_count": 16,
     "metadata": {},
     "output_type": "execute_result"
    }
   ],
   "source": [
    "\"\"\"\n",
    "Compute the single-particle operator from single-particle matrix.\n",
    "\n",
    "#### Arguments\n",
    "- `sp_basis::NLevelBasis`: Single-Particle basis.\n",
    "- `N::Integer`: The total site number.\n",
    "- `sp_matrix::Matrix`: Hopping phases matrix from any model.\n",
    "\"\"\"\n",
    "function get_sp_op(sp_basis, N, sp_matrix)\n",
    "    \n",
    "    H = SparseOperator(sp_basis)\n",
    "\n",
    "    for m in 1:N\n",
    "        for n in 1:N\n",
    "            H += sp_matrix[m,n] * transition(sp_basis, m, n)\n",
    "        end\n",
    "    end\n",
    "    \n",
    "    return H\n",
    "end"
   ]
  },
  {
   "cell_type": "code",
   "execution_count": 17,
   "id": "a60e0a13-11c6-4c72-b7bc-a00fcb84d343",
   "metadata": {},
   "outputs": [
    {
     "data": {
      "text/plain": [
       "get_sp_op_data"
      ]
     },
     "execution_count": 17,
     "metadata": {},
     "output_type": "execute_result"
    }
   ],
   "source": [
    "\"\"\"\n",
    "Compute the single-particle operator from single-particle matrix.\n",
    "\n",
    "#### Arguments\n",
    "- `sp_basis::NLevelBasis`: Single-Particle basis.\n",
    "- `N::Integer`: The total site number.\n",
    "- `sp_matrix::Matrix`: Hopping phases matrix from any model.\n",
    "\"\"\"\n",
    "function get_sp_op_data(sp_basis, N, sp_matrix)\n",
    "  \n",
    "    H = SparseOperator(sp_basis)\n",
    "\n",
    "    for m in 1:N\n",
    "        for n in 1:N\n",
    "            H += sp_matrix.data[m,n] * transition(sp_basis, m, n)\n",
    "        end\n",
    "    end\n",
    "    \n",
    "    return H\n",
    "end"
   ]
  },
  {
   "cell_type": "code",
   "execution_count": 3,
   "id": "c0a00055-2f93-41fa-a5f3-827a24a5cf60",
   "metadata": {},
   "outputs": [
    {
     "data": {
      "text/plain": [
       "get_sub_states"
      ]
     },
     "execution_count": 3,
     "metadata": {},
     "output_type": "execute_result"
    }
   ],
   "source": [
    "\"\"\"\n",
    "Compute the first eigen-states in a given number.\n",
    "\n",
    "#### Arguments\n",
    "- `sp_op::get_sp_op`: Single-particle operator.\n",
    "- `cut_off::Int`: Limit value of eigen-state index.\n",
    "\"\"\"\n",
    "function get_sub_states(sp_op, cut_off)\n",
    "    \n",
    "    E0, states0 = eigenstates(dense(sp_op))\n",
    "    states = states0[1:cut_off]\n",
    "    \n",
    "    return states\n",
    "end"
   ]
  },
  {
   "cell_type": "code",
   "execution_count": 18,
   "id": "d6fdc0d9-8319-4567-8ba0-3a3f897ca15a",
   "metadata": {},
   "outputs": [
    {
     "data": {
      "text/plain": [
       "get_projector_op"
      ]
     },
     "execution_count": 18,
     "metadata": {},
     "output_type": "execute_result"
    }
   ],
   "source": [
    "\"\"\"\n",
    "Compute sub-space basis, projection and comlex conjugate of projection operator.\n",
    "\n",
    "#### Arguments\n",
    "- `states::get_sub_states`: Eigen-states of the sub-space.\n",
    "- `basis::NLevelBasis`: Single-particle basis.\n",
    "\"\"\"\n",
    "function get_projector_op(states, sp_basis)\n",
    "    \n",
    "    b_sub = SubspaceBasis(sp_basis,states)\n",
    "    P = projector(b_sub, sp_basis)\n",
    "    Pt = dagger(P)\n",
    "    \n",
    "    return b_sub, P, Pt\n",
    "end"
   ]
  },
  {
   "cell_type": "code",
   "execution_count": 19,
   "id": "2054201b-a6aa-4e45-81c8-3d5937ad2e55",
   "metadata": {},
   "outputs": [
    {
     "data": {
      "text/plain": [
       "get_subspace_op"
      ]
     },
     "execution_count": 19,
     "metadata": {},
     "output_type": "execute_result"
    }
   ],
   "source": [
    "\"\"\"\n",
    "Compute the corresponding operator in the sub-space.\n",
    "\n",
    "#### Arguments\n",
    "- `sp_op::Operator`: Single-particle operator from single-particle matrix.\n",
    "- `P::get_projector_op[2]`: Projection operator.\n",
    "- `Pt::get_projector_op[3]`: Complex conjugate of projection operator.\n",
    "\"\"\"\n",
    "function get_subspace_op(sp_op, P, Pt)\n",
    "    return P*sp_op*Pt\n",
    "end"
   ]
  },
  {
   "cell_type": "code",
   "execution_count": 20,
   "id": "985bb34b-f9c8-4cc5-9243-22826996508a",
   "metadata": {},
   "outputs": [
    {
     "data": {
      "text/plain": [
       "get_num_sub_list"
      ]
     },
     "execution_count": 20,
     "metadata": {},
     "output_type": "execute_result"
    }
   ],
   "source": [
    "\"\"\"\n",
    "Compute the single-particle number operator for each lattice sites.\n",
    "\n",
    "#### Arguments\n",
    "- `N::Integer`: The total site number.\n",
    "- `sp_basis::NLevelBasis`: Single-Particle basis.\n",
    "- `P::get_projector_op[2]`: Projection operator.\n",
    "- `Pt::get_projector_op[3]`: Complex conjugate of projection operator.\n",
    "\"\"\"\n",
    "function get_num_sub_list(N, sp_basis, P, Pt)\n",
    "    num_sub_list = []\n",
    "    for m in 1:N\n",
    "        NM = transition(sp_basis, m, m)\n",
    "        NMP = get_subspace_op(NM, P, Pt)\n",
    "        push!(num_sub_list, NMP)\n",
    "    end\n",
    "    return num_sub_list\n",
    "end"
   ]
  },
  {
   "cell_type": "code",
   "execution_count": 21,
   "id": "cb1d3da2-ace7-4513-b342-2fb36a261d63",
   "metadata": {},
   "outputs": [
    {
     "data": {
      "text/plain": [
       "get_boson_mb_op"
      ]
     },
     "execution_count": 21,
     "metadata": {},
     "output_type": "execute_result"
    }
   ],
   "source": [
    "\"\"\"\n",
    "Compute the many-body operator for boson particles from single-particle operator.\n",
    "\n",
    "#### Arguments\n",
    "- `basis_mb`: Many-body basis.\n",
    "- `basis_sub::get_projector_op[1]`: Sub-space basis.\n",
    "- `sp_op::Operator`: Single-particle operator from single-particle matrix.\n",
    "\"\"\"\n",
    "function get_mb_op(basis_mb, basis_sub, sp_op)\n",
    "    \n",
    "    Op_mb = SparseOperator(basis_mb)\n",
    "    \n",
    "    for i in 1:length(basis_sub)\n",
    "        for j in 1:length(basis_sub)\n",
    "            Op_mb += sp_op.data[i,j] * transition(basis_mb, i, j)\n",
    "        end\n",
    "    end\n",
    "    \n",
    "    return Op_mb\n",
    "end"
   ]
  },
  {
   "cell_type": "code",
   "execution_count": 22,
   "id": "bf5d90ad-0308-42c8-9179-8ef4cfc90284",
   "metadata": {},
   "outputs": [],
   "source": [
    "# \"\"\"\n",
    "# Compute the Many-Body Number Operator for each lattice sites.\n",
    "\n",
    "# #### Arguments\n",
    "# - `basis_mb::ManyBodyBasis`: Created Many-Body Basis by using `bosonstates` or `fermionstates`.\n",
    "# - `basis::SubSpaceBasis`: Created Sub-Space Basis by using get_projector_op.\n",
    "# - `num_sub_list::ElementVector`: Created Single-Particle Number Number Operator for each lattice sites by using get_num_sub_list.\n",
    "# \"\"\"\n",
    "# function get_num_mb_list(basis_mb, basis, num_sub_list)\n",
    "    \n",
    "#     num_mb_list = []\n",
    "    \n",
    "#     for m in 1:N\n",
    "#         NMP = get_mb_op(basis_mb, basis, num_sub_list[m])\n",
    "#         push!(num_mb_list, NMP)\n",
    "#     end\n",
    "    \n",
    "#     return num_mb_list\n",
    "# end"
   ]
  },
  {
   "cell_type": "code",
   "execution_count": 9,
   "id": "00230b54-0ae4-45cc-a35c-08646777db92",
   "metadata": {},
   "outputs": [
    {
     "data": {
      "text/plain": [
       "get_hubbard_int (generic function with 1 method)"
      ]
     },
     "execution_count": 9,
     "metadata": {},
     "output_type": "execute_result"
    }
   ],
   "source": [
    "# function get_hubbard_int(num_op_list, basis_mb, U)\n",
    "\n",
    "#     IT = SparseOperator(basis_mb)\n",
    "    \n",
    "#     for m in 1:N\n",
    "#         IT += U/2 * ( num_op_list[m] * num_op_list[m] - num_op_list[m] )\n",
    "#     end\n",
    "    \n",
    "#     return IT\n",
    "# end"
   ]
  },
  {
   "cell_type": "code",
   "execution_count": 10,
   "id": "b6eab521-63d9-43a8-a8d2-fbfe4bb683ca",
   "metadata": {},
   "outputs": [
    {
     "data": {
      "text/plain": [
       "get_hubbard_int2 (generic function with 1 method)"
      ]
     },
     "execution_count": 10,
     "metadata": {},
     "output_type": "execute_result"
    }
   ],
   "source": [
    "# function get_hubbard_int2(basis, P, Pt)\n",
    "\n",
    "#     basis2 = basis ⊗ basis\n",
    "\n",
    "#     # interaction : at_i at_i a_i a_i = at_i a_i at_i a_i - at_i a_i = n_i n_i - n_i\n",
    "\n",
    "#     Vint = SparseOperator(basis2)\n",
    "\n",
    "#     for n in 1:N\n",
    "#         Vint += U/2*transition(basis,n,n)⊗transition(basis,n,n)\n",
    "#     end\n",
    "\n",
    "#     Vint_sub = (P⊗P)*Vint*(Pt⊗Pt)\n",
    "\n",
    "#     Vint_mb = manybodyoperator(basis_mb, Vint_sub)\n",
    "    \n",
    "#     return Vint_mb\n",
    "# end"
   ]
  },
  {
   "cell_type": "code",
   "execution_count": 11,
   "id": "741e2cbe-19ee-434c-91a5-697b4567541c",
   "metadata": {},
   "outputs": [
    {
     "data": {
      "text/plain": [
       "get_hubbard_int3 (generic function with 1 method)"
      ]
     },
     "execution_count": 11,
     "metadata": {},
     "output_type": "execute_result"
    }
   ],
   "source": [
    "# function get_hubbard_int3(P, Pt, b_sub, cut_off)\n",
    "   \n",
    "#     P1 = P.data\n",
    "#     P1t = Pt.data\n",
    "\n",
    "#     @einsum P4[k,l,m,n] := P1[k,i] * P1[l,i] * P1t[i,m] * P1t[i,n]\n",
    "\n",
    "#     b2_sub = b_sub ⊗ b_sub\n",
    "\n",
    "#     P4re = reshape(P4, cut_off^2, cut_off^2)\n",
    "\n",
    "#     Vint_bsub2 = SparseOperator(b2_sub,U/2*P4re)\n",
    "    \n",
    "#     Vint_bsub2_mb = manybodyoperator(basis_mb, Vint_bsub2)\n",
    "    \n",
    "#     return Vint_bsub2_mb\n",
    "# end"
   ]
  },
  {
   "cell_type": "code",
   "execution_count": 12,
   "id": "fec9ae10-384a-423a-8633-31c15b4aef0f",
   "metadata": {},
   "outputs": [
    {
     "data": {
      "text/plain": [
       "get_hubbard_int4 (generic function with 1 method)"
      ]
     },
     "execution_count": 12,
     "metadata": {},
     "output_type": "execute_result"
    }
   ],
   "source": [
    "# function get_hubbard_int4(P, Pt, b_sub, cut_off)\n",
    "    \n",
    "#     bcut_mb, bcut = get_Bosonic_MB_Basis(cut_off, PN)\n",
    "\n",
    "#     P1 = P.data\n",
    "#     P1t = Pt.data;\n",
    "\n",
    "#     @einsum P4[k,l,m,n] := P1[k,i] * P1[l,i] * P1t[i,m] * P1t[i,n]\n",
    "\n",
    "#     b2cut = bcut ⊗ bcut\n",
    "\n",
    "#     P4re = reshape(P4, cut_off^2, cut_off^2)\n",
    "\n",
    "#     Vint_bsub2 = SparseOperator(b2cut, U/2*P4re)\n",
    "        \n",
    "#     Vint_mb_cut = manybodyoperator(bcut_mb, Vint_bsub2)\n",
    "    \n",
    "#     return Vint_mb_cut\n",
    "# end"
   ]
  },
  {
   "cell_type": "code",
   "execution_count": 13,
   "id": "1412dae1-e042-47f8-b886-1f2578c0d52a",
   "metadata": {},
   "outputs": [
    {
     "data": {
      "text/plain": [
       "Hubbard_Interaction"
      ]
     },
     "execution_count": 13,
     "metadata": {},
     "output_type": "execute_result"
    }
   ],
   "source": [
    "\"\"\"\n",
    "Compute the on-site Bose-Hubbard Interaction term.\n",
    "\n",
    "#### Arguments:\n",
    "- `basis_cut_sp`: The cutt-off sites of bosonic many-body basis.\n",
    "- `basis_cut_mb`: The cutt-off sites of single-particle basis.\n",
    "- `P::Operator`: Projection operator.\n",
    "- `Pt::Operator`: Complex conjugate of projection operator.\n",
    "- `cut_off::Int`: Limit value of eigen-state index.\n",
    "\"\"\"\n",
    "function Hubbard_Interaction(basis_cut_sp, basis_cut_mb, P, Pt, cut_off)\n",
    "    \n",
    "    P1 = P.data\n",
    "    P1t = Pt.data;\n",
    "\n",
    "    @einsum Coefficient[k,l,m,n] := P1[k,i] * P1[l,i] * P1t[i,m] * P1t[i,n]\n",
    "\n",
    "    Vint_mb_cut = SparseOperator(basis_cut_mb)\n",
    "        \n",
    "    for k in 1:cut_off\n",
    "        for l in 1:cut_off\n",
    "            for m in 1:cut_off\n",
    "                for n in 1:cut_off\n",
    "                    a1t = create(basis_cut_mb, k)\n",
    "                    a2t = create(basis_cut_mb, l)\n",
    "                    a2  = destroy(basis_cut_mb, m)      \n",
    "                    a1  = destroy(basis_cut_mb, n)      \n",
    "                    Vint_mb_cut += U/2*Coefficient[k,l,m,n]*a1t*a2t*a2*a1\n",
    "                end\n",
    "            end\n",
    "        end\n",
    "    end\n",
    "    \n",
    "    return Vint_mb_cut\n",
    "end"
   ]
  },
  {
   "cell_type": "code",
   "execution_count": null,
   "id": "e277b7b0-8d1d-474d-a04b-d8b12e05456a",
   "metadata": {},
   "outputs": [],
   "source": [
    "\"\"\"\n",
    "Compute the many-body number operators for each sites.\n",
    "\n",
    "#### Arguments:\n",
    "- `basis_cut_sp`: The cutt-off sites of bosonic many-body basis.\n",
    "- `num_sub_list::get_num_sub_list`: Single-particle number operators.\n",
    "- `basis_cut_mb`: The cutt-off sites of single-particle basis.\n",
    "\"\"\"\n",
    "function get_num_mb_op(N, basis_cut_sp, num_sub_list, basis_cut_mb, basis_sub)\n",
    "    \n",
    "    number_sp_list_operators = []\n",
    "    for i in 1:N\n",
    "        number_sp_list = Operator(basis_cut_sp, num_sub_list[i].data)\n",
    "        push!(number_sp_list_operators, number_sp_list)\n",
    "    end\n",
    "    \n",
    "    number_mb_list_operators = []\n",
    "    for i in 1:N\n",
    "        number_mb_list = get_mb_op(basis_cut_mb, basis_sub, number_sp_list_operators[i])\n",
    "        # number_mb_list = manybodyoperator(bcut_mb, number_sp_list_operators[i])\n",
    "        push!(number_mb_list_operators, number_mb_list)\n",
    "    end\n",
    "    \n",
    "    return number_mb_list_operators\n",
    "end"
   ]
  }
 ],
 "metadata": {
  "kernelspec": {
   "display_name": "Julia 1.8.1",
   "language": "julia",
   "name": "julia-1.8"
  },
  "language_info": {
   "file_extension": ".jl",
   "mimetype": "application/julia",
   "name": "julia",
   "version": "1.8.1"
  }
 },
 "nbformat": 4,
 "nbformat_minor": 5
}
