{
 "cells": [
  {
   "cell_type": "markdown",
   "id": "a9d53396-d968-4ea8-8125-828f6bd2bd8c",
   "metadata": {},
   "source": [
    "Belki ileri de daha `genel` bir dökümantasyon hazırlanması gerekirse, tüm `global` değişkenleri de `fonksiyon argümanı olarak atayabiliriz."
   ]
  },
  {
   "cell_type": "code",
   "execution_count": 1,
   "id": "45735fd7-1042-49c7-8dc7-68928d984e01",
   "metadata": {},
   "outputs": [],
   "source": [
    "using QuantumOptics\n",
    "\n",
    "# https://juliapackages.com/p/einsum\n",
    "using Einsum"
   ]
  },
  {
   "cell_type": "code",
   "execution_count": 2,
   "id": "bc0eaf8b-0222-47b9-a636-15c383e19f78",
   "metadata": {},
   "outputs": [
    {
     "data": {
      "text/plain": [
       "get_sp_op"
      ]
     },
     "execution_count": 2,
     "metadata": {},
     "output_type": "execute_result"
    }
   ],
   "source": [
    "\"\"\"\n",
    "Compute the single-particle operator from single-particle matrix.\n",
    "\n",
    "#### Arguments\n",
    "- `sp_basis::NLevelBasis`: Single-Particle basis.\n",
    "- `sp_matrix::Matrix`: Any hopping phases matrix from any model.\n",
    "\"\"\"\n",
    "function get_sp_op(sp_basis, sp_matrix)\n",
    "  \n",
    "    H = SparseOperator(sp_basis)\n",
    "\n",
    "    for m in 1:N\n",
    "        for n in 1:N\n",
    "            H += sp_matrix[m,n] * transition(sp_basis, m, n)\n",
    "        end\n",
    "    end\n",
    "    \n",
    "    return H\n",
    "end"
   ]
  },
  {
   "cell_type": "code",
   "execution_count": null,
   "id": "a60e0a13-11c6-4c72-b7bc-a00fcb84d343",
   "metadata": {},
   "outputs": [],
   "source": [
    "function get_sp_op_data(sp_basis, sp_matrix)\n",
    "  \n",
    "    H = SparseOperator(sp_basis)\n",
    "\n",
    "    for m in 1:N\n",
    "        for n in 1:N\n",
    "            H += sp_matrix.data[m,n] * transition(sp_basis, m, n)\n",
    "        end\n",
    "    end\n",
    "    \n",
    "    return H\n",
    "end"
   ]
  },
  {
   "cell_type": "code",
   "execution_count": 3,
   "id": "c0a00055-2f93-41fa-a5f3-827a24a5cf60",
   "metadata": {},
   "outputs": [
    {
     "data": {
      "text/plain": [
       "get_sub_states"
      ]
     },
     "execution_count": 3,
     "metadata": {},
     "output_type": "execute_result"
    }
   ],
   "source": [
    "\"\"\"\n",
    "Compute the first given number eigen-states.\n",
    "\n",
    "#### Arguments\n",
    "- `sp_op::Operator`: Created single-particle operator by using `get_sp_op`.\n",
    "- `cut_off::Int`: Eigen-states order from `1` to `cut_off`.\n",
    "\"\"\"\n",
    "function get_sub_states(sp_op, cut_off)\n",
    "    \n",
    "    E0, states0 = eigenstates(dense(sp_op))\n",
    "    states = states0[1:cut_off]\n",
    "    \n",
    "    return states\n",
    "end"
   ]
  },
  {
   "cell_type": "code",
   "execution_count": 4,
   "id": "d6fdc0d9-8319-4567-8ba0-3a3f897ca15a",
   "metadata": {},
   "outputs": [
    {
     "data": {
      "text/plain": [
       "get_projector_op"
      ]
     },
     "execution_count": 4,
     "metadata": {},
     "output_type": "execute_result"
    }
   ],
   "source": [
    "\"\"\"\n",
    "Compute Sub-Space Basis, Projection and comlex conjugate of Projection operator.\n",
    "\n",
    "#### Arguments\n",
    "- `states::eigenstates`: Eigen-states of any operator.\n",
    "- `basis::NLevelBasis`: Single-Particle basis.\n",
    "\"\"\"\n",
    "function get_projector_op(states, basis)\n",
    "    \n",
    "    b_sub = SubspaceBasis(basis,states)\n",
    "    P = projector(b_sub, basis)\n",
    "    Pt = dagger(P)\n",
    "    \n",
    "    return b_sub, P, Pt\n",
    "end"
   ]
  },
  {
   "cell_type": "code",
   "execution_count": 5,
   "id": "2054201b-a6aa-4e45-81c8-3d5937ad2e55",
   "metadata": {},
   "outputs": [
    {
     "data": {
      "text/plain": [
       "get_subspace_op"
      ]
     },
     "execution_count": 5,
     "metadata": {},
     "output_type": "execute_result"
    }
   ],
   "source": [
    "\"\"\"\n",
    "Compute the Sub-Space Operator.\n",
    "\n",
    "#### Arguments\n",
    "- `sp_op::Operator`: Single-particle operator from single-particle matrix.\n",
    "- `P::Operator`: Projection operator.\n",
    "- `Pt::Operator`: Complex conjugate of Projection operator.\n",
    "\"\"\"\n",
    "function get_subspace_op(sp_op, P, Pt)\n",
    "    return P*sp_op*Pt\n",
    "end"
   ]
  },
  {
   "cell_type": "code",
   "execution_count": 6,
   "id": "985bb34b-f9c8-4cc5-9243-22826996508a",
   "metadata": {},
   "outputs": [
    {
     "data": {
      "text/plain": [
       "get_num_sub_list"
      ]
     },
     "execution_count": 6,
     "metadata": {},
     "output_type": "execute_result"
    }
   ],
   "source": [
    "\"\"\"\n",
    "Compute the Single-Particle Number Operator for each lattice sites.\n",
    "\n",
    "#### Arguments\n",
    "- `sp_basis::NLevelBasis`: Single-Particle basis.\n",
    "- `P::Operator`: Projection operator.\n",
    "- `Pt::Operator`: Complex conjugate of Projection operator.\n",
    "\"\"\"\n",
    "function get_num_sub_list(sp_basis, P, Pt)\n",
    "    num_sub_list = []\n",
    "    for m in 1:N\n",
    "        NM = transition(sp_basis, m, m)\n",
    "        NMP = get_subspace_op(NM, P, Pt)\n",
    "        push!(num_sub_list, NMP)\n",
    "    end\n",
    "    return num_sub_list\n",
    "end"
   ]
  },
  {
   "cell_type": "code",
   "execution_count": 7,
   "id": "cb1d3da2-ace7-4513-b342-2fb36a261d63",
   "metadata": {},
   "outputs": [
    {
     "data": {
      "text/plain": [
       "get_mb_op"
      ]
     },
     "execution_count": 7,
     "metadata": {},
     "output_type": "execute_result"
    }
   ],
   "source": [
    "\"\"\"\n",
    "Compute the Many-Body Operator from Single-Particle Operator.\n",
    "\n",
    "#### Arguments\n",
    "- `basis_mb::ManyBodyBasis`: Created Many-Body Basis by using `bosonstates` or `fermionstates`.\n",
    "- `basis::SubSpaceBasis`: Created Sub-Space Basis by using get_projector_op.\n",
    "- `sp_op::Operator`: Single-particle operator from single-particle matrix.\n",
    "\"\"\"\n",
    "function get_mb_op(basis_mb, basis, sp_op)\n",
    "    \n",
    "    Op_MB = SparseOperator(basis_mb)\n",
    "    \n",
    "    for i in 1:length(basis)\n",
    "        for j in 1:length(basis)\n",
    "            Op_MB += sp_op.data[i,j] * transition(basis_mb, i, j)\n",
    "        end\n",
    "    end\n",
    "    \n",
    "    return Op_MB\n",
    "end"
   ]
  },
  {
   "cell_type": "code",
   "execution_count": 8,
   "id": "bf5d90ad-0308-42c8-9179-8ef4cfc90284",
   "metadata": {},
   "outputs": [
    {
     "data": {
      "text/plain": [
       "get_num_mb_list"
      ]
     },
     "execution_count": 8,
     "metadata": {},
     "output_type": "execute_result"
    }
   ],
   "source": [
    "\"\"\"\n",
    "Compute the Many-Body Number Operator for each lattice sites.\n",
    "\n",
    "#### Arguments\n",
    "- `basis_mb::ManyBodyBasis`: Created Many-Body Basis by using `bosonstates` or `fermionstates`.\n",
    "- `basis::SubSpaceBasis`: Created Sub-Space Basis by using get_projector_op.\n",
    "- `num_sub_list::ElementVector`: Created Single-Particle Number Number Operator for each lattice sites by using get_num_sub_list.\n",
    "\"\"\"\n",
    "function get_num_mb_list(basis_mb, basis, num_sub_list)\n",
    "    \n",
    "    num_mb_list = []\n",
    "    \n",
    "    for m in 1:N\n",
    "        NMP = get_mb_op(basis_mb, basis, num_sub_list[m])\n",
    "        push!(num_mb_list, NMP)\n",
    "    end\n",
    "    \n",
    "    return num_mb_list\n",
    "end"
   ]
  },
  {
   "cell_type": "code",
   "execution_count": 9,
   "id": "00230b54-0ae4-45cc-a35c-08646777db92",
   "metadata": {},
   "outputs": [
    {
     "data": {
      "text/plain": [
       "get_hubbard_int (generic function with 1 method)"
      ]
     },
     "execution_count": 9,
     "metadata": {},
     "output_type": "execute_result"
    }
   ],
   "source": [
    "function get_hubbard_int(num_op_list, basis_mb, U)\n",
    "\n",
    "    IT = SparseOperator(basis_mb)\n",
    "    \n",
    "    for m in 1:N\n",
    "        IT += U/2 * ( num_op_list[m] * num_op_list[m] - num_op_list[m] )\n",
    "    end\n",
    "    \n",
    "    return IT\n",
    "end"
   ]
  },
  {
   "cell_type": "code",
   "execution_count": 10,
   "id": "b6eab521-63d9-43a8-a8d2-fbfe4bb683ca",
   "metadata": {},
   "outputs": [
    {
     "data": {
      "text/plain": [
       "get_hubbard_int2 (generic function with 1 method)"
      ]
     },
     "execution_count": 10,
     "metadata": {},
     "output_type": "execute_result"
    }
   ],
   "source": [
    "function get_hubbard_int2(basis, P, Pt)\n",
    "\n",
    "    basis2 = basis ⊗ basis\n",
    "\n",
    "    # interaction : at_i at_i a_i a_i = at_i a_i at_i a_i - at_i a_i = n_i n_i - n_i\n",
    "\n",
    "    Vint = SparseOperator(basis2)\n",
    "\n",
    "    for n in 1:N\n",
    "        Vint += U/2*transition(basis,n,n)⊗transition(basis,n,n)\n",
    "    end\n",
    "\n",
    "    Vint_sub = (P⊗P)*Vint*(Pt⊗Pt)\n",
    "\n",
    "    Vint_mb = manybodyoperator(basis_mb, Vint_sub)\n",
    "    \n",
    "    return Vint_mb\n",
    "end"
   ]
  },
  {
   "cell_type": "code",
   "execution_count": 11,
   "id": "741e2cbe-19ee-434c-91a5-697b4567541c",
   "metadata": {},
   "outputs": [
    {
     "data": {
      "text/plain": [
       "get_hubbard_int3 (generic function with 1 method)"
      ]
     },
     "execution_count": 11,
     "metadata": {},
     "output_type": "execute_result"
    }
   ],
   "source": [
    "function get_hubbard_int3(P, Pt, b_sub, cut_off)\n",
    "   \n",
    "    P1 = P.data\n",
    "    P1t = Pt.data\n",
    "\n",
    "    @einsum P4[k,l,m,n] := P1[k,i] * P1[l,i] * P1t[i,m] * P1t[i,n]\n",
    "\n",
    "    b2_sub = b_sub ⊗ b_sub\n",
    "\n",
    "    P4re = reshape(P4, cut_off^2, cut_off^2)\n",
    "\n",
    "    Vint_bsub2 = SparseOperator(b2_sub,U/2*P4re)\n",
    "    \n",
    "    Vint_bsub2_mb = manybodyoperator(basis_mb, Vint_bsub2)\n",
    "    \n",
    "    return Vint_bsub2_mb\n",
    "end"
   ]
  },
  {
   "cell_type": "code",
   "execution_count": 12,
   "id": "fec9ae10-384a-423a-8633-31c15b4aef0f",
   "metadata": {},
   "outputs": [
    {
     "data": {
      "text/plain": [
       "get_hubbard_int4 (generic function with 1 method)"
      ]
     },
     "execution_count": 12,
     "metadata": {},
     "output_type": "execute_result"
    }
   ],
   "source": [
    "function get_hubbard_int4(P, Pt, b_sub, cut_off)\n",
    "    \n",
    "    bcut_mb, bcut = get_Bosonic_MB_Basis(cut_off, PN)\n",
    "\n",
    "    P1 = P.data\n",
    "    P1t = Pt.data;\n",
    "\n",
    "    @einsum P4[k,l,m,n] := P1[k,i] * P1[l,i] * P1t[i,m] * P1t[i,n]\n",
    "\n",
    "    b2cut = bcut ⊗ bcut\n",
    "\n",
    "    P4re = reshape(P4, cut_off^2, cut_off^2)\n",
    "\n",
    "    Vint_bsub2 = SparseOperator(b2cut, U/2*P4re)\n",
    "        \n",
    "    Vint_mb_cut = manybodyoperator(bcut_mb, Vint_bsub2)\n",
    "    \n",
    "    return Vint_mb_cut\n",
    "end"
   ]
  },
  {
   "cell_type": "code",
   "execution_count": 13,
   "id": "1412dae1-e042-47f8-b886-1f2578c0d52a",
   "metadata": {},
   "outputs": [
    {
     "data": {
      "text/plain": [
       "Hubbard_Interaction"
      ]
     },
     "execution_count": 13,
     "metadata": {},
     "output_type": "execute_result"
    }
   ],
   "source": [
    "\"\"\"\n",
    "Compute the on-site Bose-Hubbard Interaction term.\n",
    "\n",
    "#### Arguments:\n",
    "- `P::Operator`: Projection operator.\n",
    "- `Pt::Operator`: Complex conjugate of Projection operator.\n",
    "- `b_sub::SubSpaceBasis`: Created Sub-Space Basis by using get_projector_op.\n",
    "- `cut-off::Integer`: A Integer variable.\n",
    "\"\"\"\n",
    "function Hubbard_Interaction(P, Pt, b_sub, cut_off)\n",
    "    \n",
    "    bcut_mb, bcut = get_Bosonic_MB_Basis(cut_off, PN)\n",
    "    \n",
    "    P1 = P.data\n",
    "    P1t = Pt.data;\n",
    "\n",
    "    @einsum P4[k,l,m,n] := P1[k,i] * P1[l,i] * P1t[i,m] * P1t[i,n]\n",
    "\n",
    "    Vint_mb_cut = SparseOperator(bcut_mb)\n",
    "        \n",
    "    for k in 1:cut_off\n",
    "        for l in 1:cut_off\n",
    "            for m in 1:cut_off\n",
    "                for n in 1:cut_off\n",
    "                    a1t = create(bcut_mb, k)\n",
    "                    a2t = create(bcut_mb, l)\n",
    "                    a2  = destroy(bcut_mb, m)      \n",
    "                    a1  = destroy(bcut_mb, n)      \n",
    "                    Vint_mb_cut += U/2*P4[k,l,m,n]*a1t*a2t*a2*a1\n",
    "                end\n",
    "            end\n",
    "        end\n",
    "    end\n",
    "    \n",
    "    return Vint_mb_cut\n",
    "end"
   ]
  }
 ],
 "metadata": {
  "kernelspec": {
   "display_name": "Julia 1.8.1",
   "language": "julia",
   "name": "julia-1.8"
  },
  "language_info": {
   "file_extension": ".jl",
   "mimetype": "application/julia",
   "name": "julia",
   "version": "1.8.1"
  }
 },
 "nbformat": 4,
 "nbformat_minor": 5
}
