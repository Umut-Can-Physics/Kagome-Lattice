{
 "cells": [
  {
   "cell_type": "markdown",
   "id": "7b2ef9d5-732a-41e0-8a2f-20e2dbe2bf99",
   "metadata": {},
   "source": [
    "# The Essentials Function for Sub Space"
   ]
  },
  {
   "cell_type": "code",
   "execution_count": 15,
   "id": "45735fd7-1042-49c7-8dc7-68928d984e01",
   "metadata": {},
   "outputs": [],
   "source": [
    "using QuantumOptics"
   ]
  },
  {
   "cell_type": "code",
   "execution_count": 16,
   "id": "bc0eaf8b-0222-47b9-a636-15c383e19f78",
   "metadata": {},
   "outputs": [
    {
     "data": {
      "text/plain": [
       "get_sp_op"
      ]
     },
     "execution_count": 16,
     "metadata": {},
     "output_type": "execute_result"
    }
   ],
   "source": [
    "\"\"\"\n",
    "Compute the single-particle operator from single-particle matrix.\n",
    "\n",
    "#### Arguments\n",
    "- `sp_basis::NLevelBasis`: Single-Particle basis.\n",
    "- `N::Integer`: The total site number.\n",
    "- `sp_matrix::Matrix`: Hopping phases matrix from any model.\n",
    "\"\"\"\n",
    "function get_sp_op(sp_basis, sp_matrix)\n",
    "    \n",
    "    H = SparseOperator(sp_basis)\n",
    "\n",
    "    N, = size(sp_matrix)\n",
    "    \n",
    "    for m in 1:N\n",
    "        for n in 1:N\n",
    "            H += sp_matrix[m,n] * transition(sp_basis, m, n)\n",
    "        end\n",
    "    end\n",
    "    \n",
    "    return H\n",
    "end"
   ]
  },
  {
   "cell_type": "code",
   "execution_count": 3,
   "id": "c0a00055-2f93-41fa-a5f3-827a24a5cf60",
   "metadata": {},
   "outputs": [
    {
     "data": {
      "text/plain": [
       "get_sub_states"
      ]
     },
     "execution_count": 3,
     "metadata": {},
     "output_type": "execute_result"
    }
   ],
   "source": [
    "\"\"\"\n",
    "Compute the first eigen-states in a given number.\n",
    "\n",
    "#### Arguments\n",
    "- `sp_op::get_sp_op`: Single-particle operator.\n",
    "- `cut_off::Int`: Limit value of eigen-state index.\n",
    "\"\"\"\n",
    "function get_sub_states(sp_op, cut_off)\n",
    "    \n",
    "    E0, states0 = eigenstates(dense(sp_op))\n",
    "    states = states0[1:cut_off]\n",
    "    \n",
    "    return states\n",
    "end"
   ]
  },
  {
   "cell_type": "code",
   "execution_count": 18,
   "id": "d6fdc0d9-8319-4567-8ba0-3a3f897ca15a",
   "metadata": {},
   "outputs": [
    {
     "data": {
      "text/plain": [
       "get_projector_op"
      ]
     },
     "execution_count": 18,
     "metadata": {},
     "output_type": "execute_result"
    }
   ],
   "source": [
    "\"\"\"\n",
    "Compute sub-space basis, projection and comlex conjugate of projection operator.\n",
    "\n",
    "#### Arguments\n",
    "- `states::get_sub_states`: Eigen-states of the sub-space.\n",
    "- `basis::NLevelBasis`: Single-particle basis.\n",
    "\"\"\"\n",
    "function get_projector_op(states, sp_basis)\n",
    "    \n",
    "    sub_basis = SubspaceBasis(sp_basis,states)\n",
    "    P = projector(sub_basis, sp_basis)\n",
    "    Pt = dagger(P)\n",
    "    \n",
    "    return sub_basis, P, Pt\n",
    "end"
   ]
  },
  {
   "cell_type": "markdown",
   "id": "64929ab6-3747-4ce7-b39f-40ba8f9ce502",
   "metadata": {},
   "source": [
    "<font size=\"5\">\n",
    "$\\hat{O}_{sub}=P\\hat{O}P^\\dagger$\n",
    "</font>"
   ]
  },
  {
   "cell_type": "code",
   "execution_count": 19,
   "id": "2054201b-a6aa-4e45-81c8-3d5937ad2e55",
   "metadata": {},
   "outputs": [
    {
     "data": {
      "text/plain": [
       "get_subspace_op"
      ]
     },
     "execution_count": 19,
     "metadata": {},
     "output_type": "execute_result"
    }
   ],
   "source": [
    "\"\"\"\n",
    "Compute the corresponding operator in the sub-space.\n",
    "\n",
    "#### Arguments\n",
    "- `sp_op::Operator`: Single-particle operator from single-particle matrix.\n",
    "- `P::get_projector_op[2]`: Projection operator.\n",
    "- `Pt::get_projector_op[3]`: Complex conjugate of projection operator.\n",
    "\"\"\"\n",
    "function get_subspace_op(sp_op, P, Pt)\n",
    "    return P*sp_op*Pt\n",
    "end"
   ]
  },
  {
   "cell_type": "markdown",
   "id": "fa729749-679d-4daf-bcc9-b7109cafe260",
   "metadata": {},
   "source": [
    "<font size=\"5\">\n",
    "    $n_i=a_i^\\dagger a_i$\n",
    "</font>"
   ]
  },
  {
   "cell_type": "code",
   "execution_count": 20,
   "id": "985bb34b-f9c8-4cc5-9243-22826996508a",
   "metadata": {},
   "outputs": [
    {
     "data": {
      "text/plain": [
       "get_num_sub_list"
      ]
     },
     "execution_count": 20,
     "metadata": {},
     "output_type": "execute_result"
    }
   ],
   "source": [
    "\"\"\"\n",
    "Compute the single-particle number operator for each lattice sites.\n",
    "\n",
    "#### Arguments\n",
    "- `N::Integer`: The total site number.\n",
    "- `sp_basis::NLevelBasis`: Single-Particle basis.\n",
    "- `P::get_projector_op[2]`: Projection operator.\n",
    "- `Pt::get_projector_op[3]`: Complex conjugate of projection operator.\n",
    "\"\"\"\n",
    "function get_num_sub_list(N, sp_basis, P, Pt)\n",
    "    num_sub_list = []\n",
    "    for m in 1:N\n",
    "        num_op = transition(sp_basis, m, m)\n",
    "        num_sub_op = get_subspace_op(num_op, P, Pt)\n",
    "        push!(num_sub_list, num_sub_op)\n",
    "    end\n",
    "    return num_sub_list\n",
    "end"
   ]
  },
  {
   "cell_type": "markdown",
   "id": "6f813c79-442b-4431-a019-f8ce0cae7ad4",
   "metadata": {},
   "source": [
    "<font size=\"5\">\n",
    "    $\\hat{O}=\\sum_{ij} a^\\dagger_i a_j <u_i|\\hat{o}|u_j>$\n",
    "</font>"
   ]
  },
  {
   "cell_type": "code",
   "execution_count": 21,
   "id": "cb1d3da2-ace7-4513-b342-2fb36a261d63",
   "metadata": {},
   "outputs": [
    {
     "data": {
      "text/plain": [
       "get_boson_mb_op"
      ]
     },
     "execution_count": 21,
     "metadata": {},
     "output_type": "execute_result"
    }
   ],
   "source": [
    "\"\"\"\n",
    "Compute the many-body operator for boson particles from single-particle operator.\n",
    "\n",
    "#### Arguments\n",
    "- `mb_basis`: Many-body basis.\n",
    "- `sp_op::Operator`: Single-particle operator.\n",
    "\"\"\"\n",
    "function get_mb_op(mb_basis, sp_op)\n",
    "    \n",
    "    mb_op = SparseOperator(mb_basis)\n",
    "    \n",
    "    N = sp_op.basis_l.N\n",
    "    \n",
    "    for i in 1:N\n",
    "        for j in 1:N\n",
    "            mb_op += sp_op.data[i,j] * transition(mb_basis, i, j)\n",
    "        end\n",
    "    end\n",
    "    \n",
    "    return mb_op\n",
    "end"
   ]
  },
  {
   "cell_type": "code",
   "execution_count": null,
   "id": "bdb62741-2a8d-4e4a-a784-5bccf9a5158a",
   "metadata": {},
   "outputs": [],
   "source": [
    "using Einsum"
   ]
  },
  {
   "cell_type": "markdown",
   "id": "9d8eea98-dd50-4874-a2e1-7c0bf7ca10a1",
   "metadata": {},
   "source": [
    "<font size=\"5\">\n",
    "    $\\hat{V}=\\sum_{ijkl}a^\\dagger_ia^\\dagger_ja_ka_l <u_i|<u_j|\\hat{v}|u_k>|u_l>$\n",
    "</font>"
   ]
  },
  {
   "cell_type": "code",
   "execution_count": 13,
   "id": "1412dae1-e042-47f8-b886-1f2578c0d52a",
   "metadata": {},
   "outputs": [
    {
     "data": {
      "text/plain": [
       "Hubbard_Interaction"
      ]
     },
     "execution_count": 13,
     "metadata": {},
     "output_type": "execute_result"
    }
   ],
   "source": [
    "function Hubbard_Interaction(P, Pt, cut_mb_basis, cut_off, U)\n",
    "    \n",
    "    P1 = P.data\n",
    "    P1t = Pt.data\n",
    "\n",
    "    @einsum coefficient[k,l,m,n] := P1[k,i] * P1[l,i] * P1t[i,m] * P1t[i,n]\n",
    "\n",
    "    Vint_mb_cut = SparseOperator(cut_mb_basis)\n",
    "        \n",
    "    for k in 1:cut_off\n",
    "        for l in 1:cut_off\n",
    "            for m in 1:cut_off\n",
    "                for n in 1:cut_off\n",
    "                    a1t = create(cut_mb_basis, k)\n",
    "                    a2t = create(cut_mb_basis, l)\n",
    "                    a2  = destroy(cut_mb_basis, m)      \n",
    "                    a1  = destroy(cut_mb_basis, n)      \n",
    "                    Vint_mb_cut += U/2*coefficient[k,l,m,n]*a1t*a2t*a2*a1\n",
    "                end\n",
    "            end\n",
    "        end\n",
    "    end\n",
    "    \n",
    "    return Vint_mb_cut\n",
    "end"
   ]
  },
  {
   "cell_type": "code",
   "execution_count": null,
   "id": "e277b7b0-8d1d-474d-a04b-d8b12e05456a",
   "metadata": {},
   "outputs": [],
   "source": [
    "function get_num_mb_op(N, cut_sp_basis, num_sub_list, cut_mb_basis, sub_basis)\n",
    "    \n",
    "    num_sp_op_list = []\n",
    "    for i in 1:N\n",
    "        number_sp_list = Operator(cut_sp_basis, num_sub_list[i].data)\n",
    "        push!(num_sp_op_list, number_sp_list)\n",
    "    end\n",
    "    \n",
    "    num_mb_op_list = []\n",
    "    for i in 1:N\n",
    "        number_mb_list = get_mb_op(cut_mb_basis, sub_basis, num_sp_op_list[i])\n",
    "        push!(num_mb_op_list, number_mb_list)\n",
    "    end\n",
    "    \n",
    "    return num_mb_op_list\n",
    "end"
   ]
  }
 ],
 "metadata": {
  "kernelspec": {
   "display_name": "Julia 1.8.1",
   "language": "julia",
   "name": "julia-1.8"
  },
  "language_info": {
   "file_extension": ".jl",
   "mimetype": "application/julia",
   "name": "julia",
   "version": "1.8.1"
  }
 },
 "nbformat": 4,
 "nbformat_minor": 5
}
