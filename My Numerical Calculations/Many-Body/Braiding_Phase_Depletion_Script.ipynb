{
 "cells": [
  {
   "cell_type": "markdown",
   "id": "2a828e68-bf4b-4fc6-a225-e8fbb8c9ba77",
   "metadata": {},
   "source": [
    "# Script of Braiding Phase $\\varphi_{br}$ by depletion profile"
   ]
  },
  {
   "cell_type": "code",
   "execution_count": 1,
   "id": "5f104644-8bf9-4639-a0bd-8268bc77a138",
   "metadata": {},
   "outputs": [
    {
     "data": {
      "text/plain": [
       "impurity_control (generic function with 1 method)"
      ]
     },
     "execution_count": 1,
     "metadata": {},
     "output_type": "execute_result"
    }
   ],
   "source": [
    "function impurity_control(V_Strength, V0, Imp_Site, N_Pin)\n",
    "    Impurity_Data = Impurity(V0, Imp_Site)\n",
    "    factor = 9 # particle density interpolation factor\n",
    "    E, Sub_Number_MB_Operator_List, basis_cut_mb, Degeneracy, Total_H, Sub_Number_MB_Operator_List, r_hubbard_states,pn, NPhi0 = Get_MB(Nx, Ny, p, q, cut_off, PN, U, Impurity_Data, factor, N_Pin)\n",
    "    avg_density = Get_Avg_Density(Nx, Ny, Degeneracy, N, Sub_Number_MB_Operator_List, basis_cut_mb, r_hubbard_states)\n",
    "    return E, Degeneracy, avg_density\n",
    "end"
   ]
  },
  {
   "cell_type": "code",
   "execution_count": null,
   "id": "b6b03a7b-93b4-4fd2-a25d-577feba2de5c",
   "metadata": {},
   "outputs": [],
   "source": [
    "function get_ref_prtcl_density(par_num,p,q,NPhi,N_Pin)\n",
    "    return (par_num*p/q)/((NPhi-N_Pin))\n",
    "end"
   ]
  },
  {
   "cell_type": "code",
   "execution_count": 2,
   "id": "528914e3-eb3c-4efd-a7ac-da3082ac0cc0",
   "metadata": {},
   "outputs": [],
   "source": [
    "# function impurity_control2(Nx, Ny, p, q, cut_off, PN, U, V_Strength, V0, Imp_Site, N_Pin)\n",
    "#     Impurity_Data = Impurity(V0, Imp_Site)\n",
    "#     factor = 9 # particle density interpolation factor\n",
    "#     N = Nx*Ny\n",
    "#     E, Sub_Number_MB_Operator_List, basis_cut_mb, Degeneracy, Total_H, Sub_Number_MB_Operator_List, r_hubbard_states,pn, NPhi0 = Get_MB(Nx, Ny, p, q, cut_off, PN, U, Impurity_Data, factor, N_Pin)\n",
    "#     avg_density = Get_Avg_Density(Nx, Ny, Degeneracy, N, Sub_Number_MB_Operator_List, basis_cut_mb, r_hubbard_states)\n",
    "#     return avg_density\n",
    "# end"
   ]
  },
  {
   "cell_type": "code",
   "execution_count": 3,
   "id": "3f60596e-3775-4a16-9b03-f59c97740a98",
   "metadata": {},
   "outputs": [
    {
     "data": {
      "text/plain": [
       "get_radius_list (generic function with 1 method)"
      ]
     },
     "execution_count": 3,
     "metadata": {},
     "output_type": "execute_result"
    }
   ],
   "source": [
    "function get_radius_list(Nx, Ny, ref_site)\n",
    "    N = Nx*Ny\n",
    "    coordinates, latticee = get_square_lattice(Nx, Ny)\n",
    "    coordinates_top_left, coordinates_top, coordinates_top_right, coordinates_left, coordinates_right, coordinates_bottom_left, coordinates_bottom, coordinates_bottom_right, co_districts = get_ghost_sites(Nx, Ny, coordinates)\n",
    "    radius_list = get_radii(coordinates, ref_site, N);\n",
    "    return radius_list\n",
    "end"
   ]
  },
  {
   "cell_type": "code",
   "execution_count": 4,
   "id": "9ea96785-e429-424f-96ca-61c14fff8df4",
   "metadata": {},
   "outputs": [
    {
     "data": {
      "text/plain": [
       "torus_distance_func (generic function with 1 method)"
      ]
     },
     "execution_count": 4,
     "metadata": {},
     "output_type": "execute_result"
    }
   ],
   "source": [
    "function torus_distance_func(Coords,ref_site, site_idx)\n",
    "    x1 = ref_site[1]\n",
    "    y1 = ref_site[2]\n",
    "    x2 = site_idx[1]\n",
    "    y2 = site_idx[2]\n",
    "    return sqrt((mod(x2-x1,Nx))^2 + (mod(y2-y1,Ny)^2))\n",
    "end"
   ]
  },
  {
   "cell_type": "code",
   "execution_count": 5,
   "id": "d6dd1ccd-aefc-4c7e-8e7c-5bb43bfbccb8",
   "metadata": {},
   "outputs": [
    {
     "data": {
      "text/plain": [
       "distance_func (generic function with 1 method)"
      ]
     },
     "execution_count": 5,
     "metadata": {},
     "output_type": "execute_result"
    }
   ],
   "source": [
    "function distance_func(Coords,ref_site, site_idx)\n",
    "    x1 = ref_site[1]\n",
    "    y1 = ref_site[2]\n",
    "    x2 = site_idx[1]\n",
    "    y2 = site_idx[2]\n",
    "    return sqrt( (x2-x1)^2 + (y2-y1)^2)\n",
    "end"
   ]
  },
  {
   "cell_type": "code",
   "execution_count": 6,
   "id": "2c8bfcf7-952e-42d2-bc0c-ee86d9e9226c",
   "metadata": {},
   "outputs": [
    {
     "data": {
      "text/plain": [
       "Inner_Sites2 (generic function with 1 method)"
      ]
     },
     "execution_count": 6,
     "metadata": {},
     "output_type": "execute_result"
    }
   ],
   "source": [
    "function Inner_Sites(Radius,ref_site,coords)\n",
    "    \n",
    "    inner_sites = []\n",
    "    \n",
    "    for i in 1:Nx*Ny\n",
    "        \n",
    "        Δx = abs(coords[i][1] - coords[ref_site][1])\n",
    "        Δx = min(Δx,mod(-Δx,Nx-1)+1) # Torus Distance\n",
    "\n",
    "        Δy = abs(coords[i][2] - coords[ref_site][2])\n",
    "        Δy = min(Δy,mod(-Δy,Ny-1)+1)\n",
    "        \n",
    "        if Δx^2 + Δy^2 <= (Radius)^2\n",
    "            push!(inner_sites, i)\n",
    "        end\n",
    "        \n",
    "    end\n",
    "    \n",
    "    return inner_sites\n",
    "end"
   ]
  },
  {
   "cell_type": "code",
   "execution_count": 7,
   "id": "f8bc28cd-a105-4e64-929a-070b3f500cf2",
   "metadata": {},
   "outputs": [],
   "source": [
    "# function Inner_Sites_copy(Nx, Ny, Radius, ref_site, coords)\n",
    "    \n",
    "#     inner_sites = []\n",
    "    \n",
    "#     for i in 1:Nx*Ny\n",
    "        \n",
    "#         Δx = abs(coords[i][1] - coords[ref_site][1])\n",
    "#         Δx = min(Δx,mod(-Δx,Nx-1)+1)\n",
    "\n",
    "#         Δy = abs(coords[i][2] - coords[ref_site][2])\n",
    "#         Δy = min(Δy,mod(-Δy,Ny-1)+1)\n",
    "        \n",
    "#         if Δx^2 + Δy^2 <= (Radius)^2\n",
    "#             push!(inner_sites, i)\n",
    "#         end\n",
    "        \n",
    "#     end\n",
    "    \n",
    "#     return inner_sites\n",
    "# end"
   ]
  },
  {
   "cell_type": "code",
   "execution_count": 13,
   "id": "f01b2799-0251-4b16-89f5-8593831d8645",
   "metadata": {},
   "outputs": [
    {
     "data": {
      "text/plain": [
       "d_k_qh (generic function with 1 method)"
      ]
     },
     "execution_count": 13,
     "metadata": {},
     "output_type": "execute_result"
    }
   ],
   "source": [
    "avg_density_func(j) = avg_density[(Coords[j].+1)...]\n",
    "d_k_qh(j) = ref_par_density .- avg_density_func(j)"
   ]
  },
  {
   "cell_type": "code",
   "execution_count": 8,
   "id": "0b210bfa-5afa-43ab-b5d3-32b610e74590",
   "metadata": {},
   "outputs": [
    {
     "data": {
      "text/plain": [
       "fractional_charge (generic function with 1 method)"
      ]
     },
     "execution_count": 8,
     "metadata": {},
     "output_type": "execute_result"
    }
   ],
   "source": [
    "function fractional_charge_rho_square(Nx, Ny, ref_site, density, ref_par_density)\n",
    "    \n",
    "    d_k_qh(j) = ref_par_density .- density[(Coords[j].+1)...]\n",
    "    #[density'...][j]\n",
    "    \n",
    "    d_qh_list = []\n",
    "    radius_list = get_radius_list(Nx, Ny, ref_site)\n",
    "    for ρ in radius_list\n",
    "        d_qh_value = 0\n",
    "        for j in Inner_Sites(ρ,ref_site,Coords)\n",
    "            d_qh_value += d_k_qh(j) * distance_func(Coords, Coords[ref_site], Coords[j])^2\n",
    "        end\n",
    "        push!(d_qh_list, d_qh_value) \n",
    "    end\n",
    "    return radius_list, d_qh_list\n",
    "end"
   ]
  },
  {
   "cell_type": "code",
   "execution_count": 9,
   "id": "4097c527-52cd-42fe-a628-d4fa41dff124",
   "metadata": {},
   "outputs": [
    {
     "data": {
      "text/plain": [
       "fractional_charge_2 (generic function with 1 method)"
      ]
     },
     "execution_count": 9,
     "metadata": {},
     "output_type": "execute_result"
    }
   ],
   "source": [
    "function fractional_charge_2(Nx, Ny, ref_site)\n",
    "    \n",
    "    d_qh_list = []\n",
    "    radius_list = get_radius_list(Nx, Ny, ref_site)\n",
    "    for ρ in radius_list\n",
    "        d_qh_value = 0\n",
    "        for j in Inner_Sites(ρ,ref_site,Coords)\n",
    "            d_qh_value += d_k_qh(j) * distance_func(Coords, Coords[ref_site], Coords[j])^2\n",
    "        end\n",
    "        push!(d_qh_list, d_qh_value) \n",
    "    end\n",
    "    return d_qh_list\n",
    "end"
   ]
  },
  {
   "cell_type": "code",
   "execution_count": 10,
   "id": "5e5e9356-987b-4f79-b13a-f8b10b3ff956",
   "metadata": {},
   "outputs": [
    {
     "data": {
      "text/plain": [
       "get_density_list (generic function with 1 method)"
      ]
     },
     "execution_count": 10,
     "metadata": {},
     "output_type": "execute_result"
    }
   ],
   "source": [
    "function get_density_list(ref_site)\n",
    "    d_qh_list = []\n",
    "    radius_list_ = get_radius_list(ref_site)\n",
    "    for ρ in radius_list\n",
    "        for j in Inner_Sites(ρ,ref_site,Coords)\n",
    "            push!(d_qh_list, d_k_qh(j)) \n",
    "        end\n",
    "    end\n",
    "    return d_qh_list\n",
    "end"
   ]
  },
  {
   "cell_type": "code",
   "execution_count": 11,
   "id": "5b260310-863e-4784-abaf-23304345b201",
   "metadata": {},
   "outputs": [
    {
     "data": {
      "text/plain": [
       "get_braid_phase (generic function with 1 method)"
      ]
     },
     "execution_count": 11,
     "metadata": {},
     "output_type": "execute_result"
    }
   ],
   "source": [
    "function get_braid_phase(radius_list, d_2_qh_list, d_1_qh_list,p,q,n)\n",
    "    a = 1 # lattica constant\n",
    "    α = p/q # flux per plaquette\n",
    "    l_b = a/sqrt(2*pi*α)\n",
    "    φ_br_list = []\n",
    "    for ρ in radius_list[1:n]\n",
    "        φ_br = 0\n",
    "        for j in Inner_Sites(ρ,ref_site,Coords)\n",
    "            φ_br += ( (d_2_qh_list[1:n][j] .- 2*d_1_qh_list[1:n][j] ) * distance_func(Coords, Coords[ref_site], Coords[j])^2)\n",
    "        end\n",
    "        push!(φ_br_list,(2*pi/(2*l_b^2)*φ_br))\n",
    "    end\n",
    "    return mod.(φ_br_list,2*pi)\n",
    "end"
   ]
  },
  {
   "cell_type": "code",
   "execution_count": 12,
   "id": "3671a59f-80ae-4e2d-a07b-16760e2da925",
   "metadata": {},
   "outputs": [],
   "source": [
    "# function get_braid_phase2(ρ_list, D_2_QH, D_1_QH,p,q,INNER_SITES)\n",
    "#     a = 1 # lattica constant\n",
    "#     α = p/q # flux per plaquette\n",
    "#     l_b = a/sqrt(2*pi*α) # magnetic length\n",
    "#     φ_br_list = []\n",
    "#     for ρ in ρ_list\n",
    "#         φ_br = 0\n",
    "#         for j in Inner_Sites_copy(10, 8, ρ, ref_site, Coords)\n",
    "#             φ_br += ( (D_2_QH(10,8,1,10,3,2,4,j) - 2*D_1_QH(10,7,1,10,3,2,4,j) ) * ρ^2)\n",
    "#         end\n",
    "#         push!(φ_br_list,(2*pi/(2*l_b^2)*φ_br))\n",
    "#     end\n",
    "#     return mod.(φ_br_list,2*pi)\n",
    "# end"
   ]
  },
  {
   "cell_type": "code",
   "execution_count": null,
   "id": "594f09c9-cadd-4d2d-88ed-42a28226e00d",
   "metadata": {},
   "outputs": [],
   "source": []
  }
 ],
 "metadata": {
  "kernelspec": {
   "display_name": "Julia 1.9.3",
   "language": "julia",
   "name": "julia-1.9"
  },
  "language_info": {
   "file_extension": ".jl",
   "mimetype": "application/julia",
   "name": "julia",
   "version": "1.9.3"
  }
 },
 "nbformat": 4,
 "nbformat_minor": 5
}
