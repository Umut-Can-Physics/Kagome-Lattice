{
 "cells": [
  {
   "cell_type": "code",
   "execution_count": 329,
   "id": "4e14ac7c",
   "metadata": {
    "tags": []
   },
   "outputs": [
    {
     "data": {
      "text/plain": [
       "Hofstadter_SP (generic function with 1 method)"
      ]
     },
     "execution_count": 329,
     "metadata": {},
     "output_type": "execute_result"
    }
   ],
   "source": [
    "using NBInclude\n",
    "@nbinclude(\"Hofstadter Single Particle in Julia.ipynb\")"
   ]
  },
  {
   "cell_type": "code",
   "execution_count": 330,
   "id": "1e698109",
   "metadata": {
    "tags": []
   },
   "outputs": [],
   "source": [
    "using QuantumOptics"
   ]
  },
  {
   "cell_type": "code",
   "execution_count": 331,
   "id": "205489ea",
   "metadata": {
    "tags": []
   },
   "outputs": [
    {
     "data": {
      "text/plain": [
       "Hofstadter_SP_Op (generic function with 1 method)"
      ]
     },
     "execution_count": 331,
     "metadata": {},
     "output_type": "execute_result"
    }
   ],
   "source": [
    "function Hofstadter_SP_Op(Nx, Ny, alpha, Basis)\n",
    "    \n",
    "    H_SP = Hofstadter_SP(Nx,Ny,alpha, 0)\n",
    "    \n",
    "    N = Nx*Ny\n",
    "    \n",
    "    H = SparseOperator(Basis)\n",
    "\n",
    "    for m in 1:N\n",
    "        for n in 1:N\n",
    "            H = H + H_SP[m,n] * transition(Basis, m, n)\n",
    "        end\n",
    "    end\n",
    "    \n",
    "    return H\n",
    "end"
   ]
  },
  {
   "cell_type": "markdown",
   "id": "3fc12020",
   "metadata": {},
   "source": [
    "1) Hofstadter SP QoJulia energies are has to be equal to Hofstadter Single Particle energies."
   ]
  },
  {
   "cell_type": "code",
   "execution_count": 332,
   "id": "bac3c7e6-873d-42d8-903c-68a494091a20",
   "metadata": {
    "tags": []
   },
   "outputs": [
    {
     "data": {
      "text/plain": [
       "2"
      ]
     },
     "execution_count": 332,
     "metadata": {},
     "output_type": "execute_result"
    }
   ],
   "source": [
    "Nx = 5; Ny = 5; N=Nx*Ny; q = 5; N_cut = 5\n",
    "PN = 2\n",
    "U = 2"
   ]
  },
  {
   "cell_type": "code",
   "execution_count": 333,
   "id": "c8e41280-c9e8-4114-9920-4479eb3bd165",
   "metadata": {
    "tags": []
   },
   "outputs": [
    {
     "data": {
      "text/plain": [
       "NLevel(N=25)"
      ]
     },
     "execution_count": 333,
     "metadata": {},
     "output_type": "execute_result"
    }
   ],
   "source": [
    "using LinearAlgebra\n",
    "\n",
    "basis = NLevelBasis(N)"
   ]
  },
  {
   "cell_type": "code",
   "execution_count": 334,
   "id": "a299af11-062e-49d9-a5e6-35cb26028f28",
   "metadata": {
    "tags": []
   },
   "outputs": [
    {
     "data": {
      "text/plain": [
       "Operator(dim=25x25)\n",
       "  basis: NLevel(N=25)sparse([2, 5, 6, 21, 1, 3, 7, 22, 2, 4  …  22, 24, 4, 19, 23, 25, 5, 20, 21, 24], [1, 1, 1, 1, 2, 2, 2, 2, 3, 3  …  23, 23, 24, 24, 24, 24, 25, 25, 25, 25], ComplexF64[-1.0 + 0.0im, -1.0 + 0.0im, -1.0 + 0.0im, -1.0 + 0.0im, -1.0 + 0.0im, -1.0 + 0.0im, -0.30901699437494745 - 0.9510565162951536im, -0.30901699437494745 + 0.9510565162951536im, -1.0 + 0.0im, -1.0 + 0.0im  …  -1.0 + 0.0im, -1.0 + 0.0im, 0.8090169943749476 + 0.587785252292473im, 0.8090169943749476 - 0.587785252292473im, -1.0 + 0.0im, -1.0 + 0.0im, -0.30901699437494723 + 0.9510565162951536im, -0.30901699437494723 - 0.9510565162951536im, -1.0 + 0.0im, -1.0 + 0.0im], 25, 25)"
      ]
     },
     "execution_count": 334,
     "metadata": {},
     "output_type": "execute_result"
    }
   ],
   "source": [
    "H1 = Hofstadter_SP_Op(Nx, Ny, 1/q, basis)"
   ]
  },
  {
   "cell_type": "code",
   "execution_count": 335,
   "id": "7aa79515-3e94-44aa-a128-e1674ac93531",
   "metadata": {
    "tags": []
   },
   "outputs": [
    {
     "data": {
      "text/plain": [
       "25-element Vector{Float64}:\n",
       " -2.966447989143374\n",
       " -2.966447989143373\n",
       " -2.966447989143372\n",
       " -2.966447989143372\n",
       " -2.9664479891433717\n",
       " -0.9021130325903087\n",
       " -0.9021130325903075\n",
       " -0.902113032590307\n",
       " -0.9021130325903065\n",
       " -0.9021130325903061\n",
       " -0.3819660112501061\n",
       " -0.381966011250105\n",
       " -0.3819660112501049\n",
       " -0.38196601125010354\n",
       " -0.38196601125010315\n",
       "  1.3484140003934757\n",
       "  1.3484140003934764\n",
       "  1.348414000393477\n",
       "  1.3484140003934773\n",
       "  1.3484140003934784\n",
       "  2.9021130325903055\n",
       "  2.9021130325903055\n",
       "  2.902113032590307\n",
       "  2.9021130325903077\n",
       "  2.902113032590309"
      ]
     },
     "execution_count": 335,
     "metadata": {},
     "output_type": "execute_result"
    }
   ],
   "source": [
    "eigenenergies(dense(H1))"
   ]
  },
  {
   "cell_type": "code",
   "execution_count": 336,
   "id": "bd89c49f-fde1-4683-ab61-62ee0afa9344",
   "metadata": {
    "tags": []
   },
   "outputs": [
    {
     "data": {
      "text/plain": [
       "true"
      ]
     },
     "execution_count": 336,
     "metadata": {},
     "output_type": "execute_result"
    }
   ],
   "source": [
    "eigenenergies(dense(H1)) == eigvals(Hofstadter_SP(Nx,Ny,1/q,0))"
   ]
  },
  {
   "cell_type": "code",
   "execution_count": 337,
   "id": "a6a50c54-c2c8-4137-a30c-7be448cc216f",
   "metadata": {
    "tags": []
   },
   "outputs": [
    {
     "data": {
      "text/plain": [
       "get_sub_states (generic function with 1 method)"
      ]
     },
     "execution_count": 337,
     "metadata": {},
     "output_type": "execute_result"
    }
   ],
   "source": [
    "function get_sub_states(SP_Op, N_cut)\n",
    "    \n",
    "    E0, states0 = eigenstates(dense(SP_Op))\n",
    "    states = states0[1:N_cut]\n",
    "    \n",
    "    return states\n",
    "end"
   ]
  },
  {
   "cell_type": "code",
   "execution_count": 338,
   "id": "3d8ded5e-b096-4294-91f6-b7ceb6211e0e",
   "metadata": {
    "tags": []
   },
   "outputs": [],
   "source": [
    "sub_states = get_sub_states(H1, N_cut);"
   ]
  },
  {
   "cell_type": "code",
   "execution_count": 339,
   "id": "5849cf99-54f7-44fe-a95c-609204134b36",
   "metadata": {
    "tags": []
   },
   "outputs": [
    {
     "data": {
      "text/plain": [
       "get_Projector (generic function with 1 method)"
      ]
     },
     "execution_count": 339,
     "metadata": {},
     "output_type": "execute_result"
    }
   ],
   "source": [
    "function get_Projector(states, Basis)\n",
    "    \n",
    "    b_sub = SubspaceBasis(Basis,states)\n",
    "    P = projector(b_sub, Basis)\n",
    "    Pt = dagger(P)\n",
    "    \n",
    "    return b_sub, P, Pt\n",
    "end"
   ]
  },
  {
   "cell_type": "code",
   "execution_count": 340,
   "id": "7e3bd77f-cec0-4e05-afba-3972fecb67ce",
   "metadata": {
    "tags": []
   },
   "outputs": [],
   "source": [
    "b_sub, P, Pt = get_Projector(sub_states, basis);"
   ]
  },
  {
   "cell_type": "code",
   "execution_count": 341,
   "id": "bd995b8b-3898-48cc-b87a-021d130f80c2",
   "metadata": {
    "tags": []
   },
   "outputs": [
    {
     "data": {
      "text/plain": [
       "Subspace_Op (generic function with 1 method)"
      ]
     },
     "execution_count": 341,
     "metadata": {},
     "output_type": "execute_result"
    }
   ],
   "source": [
    "function Subspace_Op(SP_Op, P)\n",
    "    return P*SP_Op*Pt\n",
    "end"
   ]
  },
  {
   "cell_type": "code",
   "execution_count": 342,
   "id": "790be2db-dd4a-4d9e-8131-0761fbf991e1",
   "metadata": {
    "tags": []
   },
   "outputs": [
    {
     "data": {
      "text/plain": [
       "Operator(dim=5x5)\n",
       "  basis: Subspace(superbasis=NLevel(N=25), states:5)\n",
       " -2.96645-0.0im       3.3e-16+4.0e-17im  …  -1.0e-17+0.0im\n",
       "  3.3e-16+1.0e-17im  -2.96645-1.1e-16im     -6.0e-17-6.0e-17im\n",
       " -6.0e-17-6.0e-17im  -2.8e-16-1.7e-16im          0.0+3.9e-16im\n",
       "      0.0+3.0e-17im   4.4e-16-2.2e-16im      7.8e-16+2.2e-16im\n",
       "  1.0e-17-6.0e-17im   6.0e-17+1.1e-16im     -2.96645-1.0e-17im"
      ]
     },
     "execution_count": 342,
     "metadata": {},
     "output_type": "execute_result"
    }
   ],
   "source": [
    "H1_sub = Subspace_Op(H1, P)"
   ]
  },
  {
   "cell_type": "code",
   "execution_count": 343,
   "id": "5ab974c4-4c68-4615-98af-2ce6c7a9767a",
   "metadata": {
    "tags": []
   },
   "outputs": [],
   "source": [
    "num_sub_list = []\n",
    "for m in 1:N\n",
    "    NM = transition(basis, m, m)\n",
    "    NMP = Subspace_Op(NM, P)\n",
    "    push!(num_sub_list, NMP)\n",
    "end"
   ]
  },
  {
   "cell_type": "code",
   "execution_count": 344,
   "id": "37e1ddbb-ffb0-44d4-ab7c-c78ffa95be3e",
   "metadata": {
    "tags": []
   },
   "outputs": [
    {
     "data": {
      "text/plain": [
       "ManyBody(onebodybasis=Subspace(superbasis=NLevel(N=25), states:5), states:15)"
      ]
     },
     "execution_count": 344,
     "metadata": {},
     "output_type": "execute_result"
    }
   ],
   "source": [
    "states_mb = bosonstates(b_sub, PN) \n",
    "basis_mb = ManyBodyBasis(b_sub, states_mb)"
   ]
  },
  {
   "cell_type": "code",
   "execution_count": 345,
   "id": "f6b95d70-d5ec-4163-9c3c-f993987bad52",
   "metadata": {
    "tags": []
   },
   "outputs": [
    {
     "data": {
      "text/plain": [
       "Operator(dim=15x15)\n",
       "  basis: ManyBody(onebodybasis=Subspace(superbasis=NLevel(N=25), states:5), states:15)sparse([1, 2, 3, 4, 5, 1, 2, 3, 4, 5  …  11, 12, 13, 14, 15, 5, 9, 12, 14, 15], [1, 1, 1, 1, 1, 2, 2, 2, 2, 2  …  14, 14, 14, 14, 14, 15, 15, 15, 15, 15], ComplexF64[-5.932895978286747 - 0.0im, 4.7e-16 + 1.0e-17im, -8.0e-17 - 8.0e-17im, 0.0 + 4.0e-17im, 2.0e-17 - 8.0e-17im, 4.7e-16 + 6.0e-17im, -5.932895978286745 - 1.1e-16im, -2.8e-16 - 1.7e-16im, 4.4e-16 - 2.2e-16im, 6.0e-17 + 1.1e-16im  …  0.0 + 3.9e-16im, -3.9e-16 - 1.7e-16im, 1.1e-15 + 3.1e-16im, -5.932895978286741 + 1.0e-16im, 1.1e-15 - 1.6e-16im, -2.0e-17 + 0.0im, -8.0e-17 - 8.0e-17im, 0.0 + 5.5e-16im, 1.1e-15 + 3.1e-16im, -5.932895978286742 - 3.0e-17im], 15, 15)"
      ]
     },
     "execution_count": 345,
     "metadata": {},
     "output_type": "execute_result"
    }
   ],
   "source": [
    "function get_MB_Op(MB_Basis, Basis, Op)\n",
    "    \n",
    "    Op_MB = SparseOperator(MB_Basis)\n",
    "    for i in 1:length(Basis)\n",
    "        for j in 1:length(Basis)\n",
    "            Op_MB = Op_MB + Op.data[i,j] * transition(MB_Basis, i, j)\n",
    "        end\n",
    "    end\n",
    "    \n",
    "    return Op_MB\n",
    "end\n",
    "\n",
    "H1_MB = get_MB_Op(basis_mb, b_sub, H1_sub)"
   ]
  },
  {
   "cell_type": "code",
   "execution_count": 346,
   "id": "9d07500a-71d8-4bc5-b26c-49ffa6b8bb3c",
   "metadata": {
    "tags": []
   },
   "outputs": [],
   "source": [
    "# H1_mb = manybodyoperator(basis_mb, H1_sub)"
   ]
  },
  {
   "cell_type": "code",
   "execution_count": 347,
   "id": "c543dad2-c732-4d92-b309-d1add97e752e",
   "metadata": {
    "tags": []
   },
   "outputs": [],
   "source": [
    "num_mb_list = []\n",
    "for m in 1:N\n",
    "    NMP = get_MB_Op(basis_mb, b_sub, num_sub_list[m])\n",
    "    push!(num_mb_list, NMP)\n",
    "end"
   ]
  },
  {
   "cell_type": "code",
   "execution_count": 348,
   "id": "814e83dd-ac5f-4d34-85fa-582584128913",
   "metadata": {
    "tags": []
   },
   "outputs": [
    {
     "data": {
      "text/plain": [
       "Operator(dim=15x15)\n",
       "  basis: ManyBody(onebodybasis=Subspace(superbasis=NLevel(N=25), states:5), states:15)sparse([1, 2, 3, 4, 5, 6, 7, 8, 9, 10  …  6, 7, 8, 9, 10, 11, 12, 13, 14, 15], [1, 1, 1, 1, 1, 1, 1, 1, 1, 1  …  15, 15, 15, 15, 15, 15, 15, 15, 15, 15], ComplexF64[-1.3961619523913684 + 0.0im, 0.00516089848643062 + 9.480078462494e-5im, -0.00177895505230145 + 0.00049843727453398im, 0.00399282885501431 - 0.00143453247944256im, -0.00131503021949532 + 0.00020288669648142im, 0.02792281688785346 - 0.00070959034773484im, 0.00909055521727068 - 0.01535403139591273im, -0.0075359513084783 - 0.00076588183127313im, 0.00472079056687338 + 0.00656687516252759im, -0.00977488531032327 - 0.0075647483561838im  …  0.01449206257970099 + 0.02003977504232739im, -0.01778661214785522 - 0.0244790911354106im, 0.0015192104743605 + 0.0201498139739635im, 0.01547900405689002 + 0.00384444214222339im, 0.00944892721253029 + 0.00680037862784733im, -0.00734972541872334 - 0.00637475057141834im, 0.03935885946773131 + 0.00317569760993477im, -0.02450872348358854 + 0.01690288207482372im, 0.01578288064017077 + 0.01949402484734764im, -1.4325719050279335 + 0.0im], 15, 15)"
      ]
     },
     "execution_count": 348,
     "metadata": {},
     "output_type": "execute_result"
    }
   ],
   "source": [
    "function Int_Op(MB_Num_Op_List, MB_Basis, U)\n",
    "\n",
    "    IT = SparseOperator(MB_Basis)\n",
    "    \n",
    "    for m in 1:N\n",
    "        IT = IT + U/2 * ( MB_Num_Op_List[m]*MB_Num_Op_List[m] - MB_Num_Op_List[m] )\n",
    "    end\n",
    "    \n",
    "    return IT\n",
    "end\n",
    "\n",
    "H_Int_MB = Int_Op(num_mb_list, basis_mb, U)"
   ]
  },
  {
   "cell_type": "code",
   "execution_count": 349,
   "id": "ef9269c7-e47a-4437-a574-2ed2f3dd3383",
   "metadata": {
    "tags": []
   },
   "outputs": [
    {
     "data": {
      "text/plain": [
       "Operator(dim=15x15)\n",
       "  basis: ManyBody(onebodybasis=Subspace(superbasis=NLevel(N=25), states:5), states:15)\n",
       "    0.203838+0.0im          …  0.000451391-0.00255317im\n",
       "   0.0051609+9.48008e-5im      -0.00575143+0.017804im\n",
       " -0.00177896+0.000498437im      0.00172758+0.00287198im\n",
       "  0.00399283-0.00143453im      -0.00259561+0.00782752im\n",
       " -0.00131503+0.000202887im      0.00514083+0.00806122im\n",
       "   0.0279228-0.00070959im   …    0.0144921+0.0200398im\n",
       "  0.00909056-0.015354im         -0.0177866-0.0244791im\n",
       " -0.00753595-0.000765882im      0.00151921+0.0201498im\n",
       "  0.00472079+0.00656688im         0.015479+0.00384444im\n",
       " -0.00977489-0.00756475im       0.00944893+0.00680038im\n",
       " -0.00554273+0.0124697im    …  -0.00734973-0.00637475im\n",
       "  0.00772461-0.00129291im        0.0393589+0.0031757im\n",
       "   0.0141431-0.0103721im        -0.0245087+0.0169029im\n",
       "  0.00416563-0.00584565im        0.0157829+0.019494im\n",
       " 0.000451391+0.00255317im         0.167428+0.0im"
      ]
     },
     "execution_count": 349,
     "metadata": {},
     "output_type": "execute_result"
    }
   ],
   "source": [
    "basis2 = basis ⊗ basis\n",
    "\n",
    "# interaction : at_i at_i a_i a_i = at_i a_i at_i a_i - at_i a_i = n_i n_i - n_i\n",
    "    \n",
    "Vint = SparseOperator(basis2)\n",
    "\n",
    "for n in 1:N\n",
    "    Vint += U/2*transition(basis,n,n)⊗transition(basis,n,n)\n",
    "end\n",
    "\n",
    "Vint_sub = (P⊗P)*Vint*(Pt⊗Pt)\n",
    "\n",
    "Vint_mb = manybodyoperator(basis_mb, Vint_sub)"
   ]
  },
  {
   "cell_type": "code",
   "execution_count": 350,
   "id": "44df2e47-18f5-4478-9462-f071fc21fb67",
   "metadata": {
    "tags": []
   },
   "outputs": [
    {
     "data": {
      "text/plain": [
       "Operator(dim=15x15)\n",
       "  basis: ManyBody(onebodybasis=Subspace(superbasis=NLevel(N=25), states:5), states:15)\n",
       "    -5.72906-0.0im          …  0.000451391-0.00255317im\n",
       "   0.0051609+9.48008e-5im      -0.00575143+0.017804im\n",
       " -0.00177896+0.000498437im      0.00172758+0.00287198im\n",
       "  0.00399283-0.00143453im      -0.00259561+0.00782752im\n",
       " -0.00131503+0.000202887im      0.00514083+0.00806122im\n",
       "   0.0279228-0.00070959im   …    0.0144921+0.0200398im\n",
       "  0.00909056-0.015354im         -0.0177866-0.0244791im\n",
       " -0.00753595-0.000765882im      0.00151921+0.0201498im\n",
       "  0.00472079+0.00656688im         0.015479+0.00384444im\n",
       " -0.00977489-0.00756475im       0.00944893+0.00680038im\n",
       " -0.00554273+0.0124697im    …  -0.00734973-0.00637475im\n",
       "  0.00772461-0.00129291im        0.0393589+0.0031757im\n",
       "   0.0141431-0.0103721im        -0.0245087+0.0169029im\n",
       "  0.00416563-0.00584565im        0.0157829+0.019494im\n",
       " 0.000451391+0.00255317im         -5.76547-3.0e-17im"
      ]
     },
     "execution_count": 350,
     "metadata": {},
     "output_type": "execute_result"
    }
   ],
   "source": [
    "H_MB = H1_MB + H_Int_MB\n",
    "H_mb = H1_MB + Vint_mb"
   ]
  },
  {
   "cell_type": "markdown",
   "id": "87a054cb",
   "metadata": {},
   "source": [
    "2) If U<<Band-Gap, Sub-Space Hofstadter Finite-U energies converges at Hofstadter Finite-U energies.\n",
    "3) When all SP states projected to the new sub-space, Sub-Space Hofstadter Finite-U energies have to equal to Hofstadter Finite-U energies."
   ]
  },
  {
   "cell_type": "code",
   "execution_count": 351,
   "id": "c5c80789",
   "metadata": {
    "tags": []
   },
   "outputs": [
    {
     "data": {
      "text/plain": [
       "Hofstadter_Finite_U (generic function with 1 method)"
      ]
     },
     "execution_count": 351,
     "metadata": {},
     "output_type": "execute_result"
    }
   ],
   "source": [
    "@nbinclude(\"Hofstadter MB in Julia.ipynb\"; regex=r\"#.*executeme\")"
   ]
  },
  {
   "cell_type": "code",
   "execution_count": 352,
   "id": "7246b2cf",
   "metadata": {
    "tags": []
   },
   "outputs": [
    {
     "name": "stdout",
     "output_type": "stream",
     "text": [
      "[-7.5300268624965305, -7.5300268624965305, -7.530026862496529, -7.530026862496527, -7.530026862496525, -7.372090091593086, -7.372090091593082, -7.372090091593081, -7.372090091593078, -7.3720900915930745, -7.296570980770628, -7.296570980770623, -7.296570980770623, -7.29657098077062, -7.296570980770618]\n",
      "[-5.930026862496534, -5.930026862496532, -5.930026862496527, -5.930026862496525, -5.930026862496525, -5.772090091593088, -5.772090091593086, -5.772090091593082, -5.772090091593081, -5.772090091593078, -5.696570980770627, -5.696570980770625, -5.696570980770623, -5.6965709807706215, -5.696570980770619]\n",
      "[-5.930812587456487, -5.930812587456478, -5.930812587456469, -5.930812587456454, -5.930812587456437, -5.81785420065733, -5.817854200657318, -5.817854200657314, -5.817854200657309, -5.81785420065728]"
     ]
    }
   ],
   "source": [
    "# using Plots\n",
    "\n",
    "E1 = eigenenergies(dense((H_MB+dagger(H_MB))/2))\n",
    "\n",
    "E_mb = eigenenergies(dense((H_mb+dagger(H_mb))/2))\n",
    "\n",
    "\n",
    "E2 = eigenenergies(dense(Hofstadter_Finite_U(Nx, Ny, 1/q, PN, U)))\n",
    "\n",
    "# print(E1-E2[1:length(E1)])\n",
    "\n",
    "# plot(1:length(E1),E1,seriestype=:scatter,markershape=:star5, markersize=6, label=\"Sub-Space\")\n",
    "# plot!(1:length(E2),E2,seriestype=:scatter,label=\"Real-Space\",legend=:topleft)\n",
    "# xlabel!(\"n\");ylabel!(\"E\")\n",
    "\n",
    "print(E1,'\\n', E_mb,'\\n',E2[1:10])"
   ]
  },
  {
   "cell_type": "code",
   "execution_count": 353,
   "id": "820f6aef-9c91-4726-9c57-946e398b2d2b",
   "metadata": {
    "tags": []
   },
   "outputs": [
    {
     "data": {
      "text/plain": [
       "15-element Vector{Float64}:\n",
       " -5.930026862496534\n",
       " -5.930026862496532\n",
       " -5.930026862496527\n",
       " -5.930026862496525\n",
       " -5.930026862496525\n",
       " -5.772090091593088\n",
       " -5.772090091593086\n",
       " -5.772090091593082\n",
       " -5.772090091593081\n",
       " -5.772090091593078\n",
       " -5.696570980770627\n",
       " -5.696570980770625\n",
       " -5.696570980770623\n",
       " -5.6965709807706215\n",
       " -5.696570980770619"
      ]
     },
     "execution_count": 353,
     "metadata": {},
     "output_type": "execute_result"
    }
   ],
   "source": [
    "E_mb"
   ]
  },
  {
   "cell_type": "code",
   "execution_count": null,
   "id": "33f38c02-0158-42a1-9555-23a52ced514c",
   "metadata": {},
   "outputs": [],
   "source": []
  },
  {
   "cell_type": "code",
   "execution_count": null,
   "id": "30397062-1808-49b1-8385-0fa9b593585a",
   "metadata": {},
   "outputs": [],
   "source": []
  },
  {
   "cell_type": "code",
   "execution_count": null,
   "id": "9f2f1d12-7046-43f0-adb5-ce5f1f68b213",
   "metadata": {},
   "outputs": [],
   "source": []
  },
  {
   "cell_type": "code",
   "execution_count": null,
   "id": "6bee4272-677d-45f3-b855-4ab6ac7560aa",
   "metadata": {},
   "outputs": [],
   "source": []
  }
 ],
 "metadata": {
  "kernelspec": {
   "display_name": "Julia 1.8.5",
   "language": "julia",
   "name": "julia-1.8"
  },
  "language_info": {
   "file_extension": ".jl",
   "mimetype": "application/julia",
   "name": "julia",
   "version": "1.8.5"
  }
 },
 "nbformat": 4,
 "nbformat_minor": 5
}
