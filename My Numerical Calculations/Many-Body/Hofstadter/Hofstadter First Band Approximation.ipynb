{
 "cells": [
  {
   "cell_type": "code",
   "execution_count": 1,
   "id": "portuguese-prediction",
   "metadata": {
    "tags": []
   },
   "outputs": [],
   "source": [
    "using NBInclude\n",
    "@nbinclude(\"Hofstadter Single Particle in Julia.ipynb\")\n",
    "@nbinclude(joinpath(\"..\",\"First Band Approximation Functions.ipynb\"));"
   ]
  },
  {
   "cell_type": "markdown",
   "id": "1cbf7141-36bd-4ef7-9487-deb38a7b9128",
   "metadata": {
    "tags": []
   },
   "source": [
    "# Initial Parameters"
   ]
  },
  {
   "cell_type": "code",
   "execution_count": 2,
   "id": "about-bones",
   "metadata": {
    "tags": []
   },
   "outputs": [
    {
     "name": "stdout",
     "output_type": "stream",
     "text": [
      "Magnetic flux per unit-cell:0.1\n",
      " Number of flux quanta:8"
     ]
    }
   ],
   "source": [
    "Nx = 8; Ny = 10; N=Nx*Ny; p = 1; q = Ny; cut_off = Nx;\n",
    "PN = [0,1,2,3];\n",
    "U = 2;\n",
    "print(\"Magnetic flux per unit-cell:\",p/q,\"\\n Number of flux quanta:\",Nx)"
   ]
  },
  {
   "cell_type": "markdown",
   "id": "aa578b60-4cd3-49a9-8e3d-aabffe7d92cf",
   "metadata": {
    "tags": []
   },
   "source": [
    "# Single-Particle"
   ]
  },
  {
   "cell_type": "code",
   "execution_count": 3,
   "id": "imperial-crisis",
   "metadata": {
    "tags": []
   },
   "outputs": [
    {
     "data": {
      "text/latex": [
       "Compute the single-particle operator from single-particle matrix.\n",
       "\n",
       "\\paragraph{Arguments}\n",
       "\\begin{itemize}\n",
       "\\item \\texttt{sp\\_basis::NLevelBasis}: Single-Particle basis.\n",
       "\n",
       "\n",
       "\\item \\texttt{N::Integer}: The total site number.\n",
       "\n",
       "\n",
       "\\item \\texttt{sp\\_matrix::Matrix}: Hopping phases matrix from any model.\n",
       "\n",
       "\\end{itemize}\n"
      ],
      "text/markdown": [
       "Compute the single-particle operator from single-particle matrix.\n",
       "\n",
       "#### Arguments\n",
       "\n",
       "  * `sp_basis::NLevelBasis`: Single-Particle basis.\n",
       "  * `N::Integer`: The total site number.\n",
       "  * `sp_matrix::Matrix`: Hopping phases matrix from any model.\n"
      ],
      "text/plain": [
       "  Compute the single-particle operator from single-particle matrix.\n",
       "\n",
       "\u001b[1m  Arguments\u001b[22m\n",
       "\u001b[1m  -----------\u001b[22m\n",
       "\n",
       "    •  \u001b[36msp_basis::NLevelBasis\u001b[39m: Single-Particle basis.\n",
       "\n",
       "    •  \u001b[36mN::Integer\u001b[39m: The total site number.\n",
       "\n",
       "    •  \u001b[36msp_matrix::Matrix\u001b[39m: Hopping phases matrix from any model."
      ]
     },
     "execution_count": 3,
     "metadata": {},
     "output_type": "execute_result"
    }
   ],
   "source": [
    "@doc get_sp_op"
   ]
  },
  {
   "cell_type": "code",
   "execution_count": 4,
   "id": "temporal-cleveland",
   "metadata": {
    "tags": []
   },
   "outputs": [],
   "source": [
    "sp_basis = NLevelBasis(N)\n",
    "periodicity = 0\n",
    "sp_matrix = Hofstadter_SP(Nx, Ny, p/q, periodicity);"
   ]
  },
  {
   "cell_type": "code",
   "execution_count": 5,
   "id": "likely-spank",
   "metadata": {
    "tags": []
   },
   "outputs": [],
   "source": [
    "H1 = get_sp_op(sp_basis, N, sp_matrix);"
   ]
  },
  {
   "cell_type": "code",
   "execution_count": 6,
   "id": "ignored-medium",
   "metadata": {
    "tags": []
   },
   "outputs": [
    {
     "data": {
      "text/plain": [
       "true"
      ]
     },
     "execution_count": 6,
     "metadata": {},
     "output_type": "execute_result"
    }
   ],
   "source": [
    "using LinearAlgebra\n",
    "eigenenergies(dense(H1)) == eigvals(sp_matrix) # true\n",
    "#show(stdout, \"text/plain\", eigvals(sp_matrix))"
   ]
  },
  {
   "cell_type": "code",
   "execution_count": 7,
   "id": "e2e9066d-37c3-4286-b5fa-db560eacf4c0",
   "metadata": {
    "tags": []
   },
   "outputs": [
    {
     "data": {
      "text/latex": [
       "Compute the first eigen-states in a given number.\n",
       "\n",
       "\\paragraph{Arguments}\n",
       "\\begin{itemize}\n",
       "\\item \\texttt{sp\\_op::get\\_sp\\_op}: Single-particle operator.\n",
       "\n",
       "\n",
       "\\item \\texttt{cut\\_off::Int}: Limit value of eigen-state index.\n",
       "\n",
       "\\end{itemize}\n"
      ],
      "text/markdown": [
       "Compute the first eigen-states in a given number.\n",
       "\n",
       "#### Arguments\n",
       "\n",
       "  * `sp_op::get_sp_op`: Single-particle operator.\n",
       "  * `cut_off::Int`: Limit value of eigen-state index.\n"
      ],
      "text/plain": [
       "  Compute the first eigen-states in a given number.\n",
       "\n",
       "\u001b[1m  Arguments\u001b[22m\n",
       "\u001b[1m  -----------\u001b[22m\n",
       "\n",
       "    •  \u001b[36msp_op::get_sp_op\u001b[39m: Single-particle operator.\n",
       "\n",
       "    •  \u001b[36mcut_off::Int\u001b[39m: Limit value of eigen-state index."
      ]
     },
     "execution_count": 7,
     "metadata": {},
     "output_type": "execute_result"
    }
   ],
   "source": [
    "@doc get_sub_states"
   ]
  },
  {
   "cell_type": "code",
   "execution_count": 8,
   "id": "compact-brooks",
   "metadata": {
    "tags": []
   },
   "outputs": [],
   "source": [
    "sub_states = get_sub_states(H1, cut_off);"
   ]
  },
  {
   "cell_type": "code",
   "execution_count": 9,
   "id": "d644861d-5ac6-4597-bfdb-9df51e96c229",
   "metadata": {
    "tags": []
   },
   "outputs": [
    {
     "data": {
      "text/latex": [
       "Compute sub-space basis, projection and comlex conjugate of projection operator.\n",
       "\n",
       "\\paragraph{Arguments}\n",
       "\\begin{itemize}\n",
       "\\item \\texttt{states::get\\_sub\\_states}: Eigen-states of the sub-space.\n",
       "\n",
       "\n",
       "\\item \\texttt{basis::NLevelBasis}: Single-particle basis.\n",
       "\n",
       "\\end{itemize}\n"
      ],
      "text/markdown": [
       "Compute sub-space basis, projection and comlex conjugate of projection operator.\n",
       "\n",
       "#### Arguments\n",
       "\n",
       "  * `states::get_sub_states`: Eigen-states of the sub-space.\n",
       "  * `basis::NLevelBasis`: Single-particle basis.\n"
      ],
      "text/plain": [
       "  Compute sub-space basis, projection and comlex conjugate of projection\n",
       "  operator.\n",
       "\n",
       "\u001b[1m  Arguments\u001b[22m\n",
       "\u001b[1m  -----------\u001b[22m\n",
       "\n",
       "    •  \u001b[36mstates::get_sub_states\u001b[39m: Eigen-states of the sub-space.\n",
       "\n",
       "    •  \u001b[36mbasis::NLevelBasis\u001b[39m: Single-particle basis."
      ]
     },
     "execution_count": 9,
     "metadata": {},
     "output_type": "execute_result"
    }
   ],
   "source": [
    "@doc get_projector_op"
   ]
  },
  {
   "cell_type": "code",
   "execution_count": 10,
   "id": "molecular-bankruptcy",
   "metadata": {
    "tags": []
   },
   "outputs": [],
   "source": [
    "basis_sub, P, Pt = get_projector_op(sub_states, sp_basis);"
   ]
  },
  {
   "cell_type": "code",
   "execution_count": 11,
   "id": "dd280e68-52a1-4367-b2f8-e73c8533f8bb",
   "metadata": {
    "tags": []
   },
   "outputs": [
    {
     "data": {
      "text/latex": [
       "Compute the corresponding operator in the sub-space.\n",
       "\n",
       "\\paragraph{Arguments}\n",
       "\\begin{itemize}\n",
       "\\item \\texttt{sp\\_op::Operator}: Single-particle operator from single-particle matrix.\n",
       "\n",
       "\n",
       "\\item \\texttt{P::get\\_projector\\_op[2]}: Projection operator.\n",
       "\n",
       "\n",
       "\\item \\texttt{Pt::get\\_projector\\_op[3]}: Complex conjugate of projection operator.\n",
       "\n",
       "\\end{itemize}\n"
      ],
      "text/markdown": [
       "Compute the corresponding operator in the sub-space.\n",
       "\n",
       "#### Arguments\n",
       "\n",
       "  * `sp_op::Operator`: Single-particle operator from single-particle matrix.\n",
       "  * `P::get_projector_op[2]`: Projection operator.\n",
       "  * `Pt::get_projector_op[3]`: Complex conjugate of projection operator.\n"
      ],
      "text/plain": [
       "  Compute the corresponding operator in the sub-space.\n",
       "\n",
       "\u001b[1m  Arguments\u001b[22m\n",
       "\u001b[1m  -----------\u001b[22m\n",
       "\n",
       "    •  \u001b[36msp_op::Operator\u001b[39m: Single-particle operator from single-particle\n",
       "       matrix.\n",
       "\n",
       "    •  \u001b[36mP::get_projector_op[2]\u001b[39m: Projection operator.\n",
       "\n",
       "    •  \u001b[36mPt::get_projector_op[3]\u001b[39m: Complex conjugate of projection operator."
      ]
     },
     "execution_count": 11,
     "metadata": {},
     "output_type": "execute_result"
    }
   ],
   "source": [
    "@doc get_subspace_op"
   ]
  },
  {
   "cell_type": "code",
   "execution_count": 12,
   "id": "informed-macro",
   "metadata": {
    "tags": []
   },
   "outputs": [],
   "source": [
    "H1_sub = get_subspace_op(H1, P, Pt);"
   ]
  },
  {
   "cell_type": "code",
   "execution_count": 13,
   "id": "c4bc4b2e-2868-45fa-8200-c6187ed42627",
   "metadata": {
    "tags": []
   },
   "outputs": [
    {
     "data": {
      "text/latex": [
       "Compute the single-particle number operator for each lattice sites.\n",
       "\n",
       "\\paragraph{Arguments}\n",
       "\\begin{itemize}\n",
       "\\item \\texttt{N::Integer}: The total site number.\n",
       "\n",
       "\n",
       "\\item \\texttt{sp\\_basis::NLevelBasis}: Single-Particle basis.\n",
       "\n",
       "\n",
       "\\item \\texttt{P::get\\_projector\\_op[2]}: Projection operator.\n",
       "\n",
       "\n",
       "\\item \\texttt{Pt::get\\_projector\\_op[3]}: Complex conjugate of projection operator.\n",
       "\n",
       "\\end{itemize}\n"
      ],
      "text/markdown": [
       "Compute the single-particle number operator for each lattice sites.\n",
       "\n",
       "#### Arguments\n",
       "\n",
       "  * `N::Integer`: The total site number.\n",
       "  * `sp_basis::NLevelBasis`: Single-Particle basis.\n",
       "  * `P::get_projector_op[2]`: Projection operator.\n",
       "  * `Pt::get_projector_op[3]`: Complex conjugate of projection operator.\n"
      ],
      "text/plain": [
       "  Compute the single-particle number operator for each lattice sites.\n",
       "\n",
       "\u001b[1m  Arguments\u001b[22m\n",
       "\u001b[1m  -----------\u001b[22m\n",
       "\n",
       "    •  \u001b[36mN::Integer\u001b[39m: The total site number.\n",
       "\n",
       "    •  \u001b[36msp_basis::NLevelBasis\u001b[39m: Single-Particle basis.\n",
       "\n",
       "    •  \u001b[36mP::get_projector_op[2]\u001b[39m: Projection operator.\n",
       "\n",
       "    •  \u001b[36mPt::get_projector_op[3]\u001b[39m: Complex conjugate of projection operator."
      ]
     },
     "execution_count": 13,
     "metadata": {},
     "output_type": "execute_result"
    }
   ],
   "source": [
    "@doc get_num_sub_list"
   ]
  },
  {
   "cell_type": "code",
   "execution_count": 14,
   "id": "cross-patrol",
   "metadata": {
    "tags": []
   },
   "outputs": [],
   "source": [
    "num_sub_list = get_num_sub_list(N, sp_basis, P, Pt);"
   ]
  },
  {
   "cell_type": "markdown",
   "id": "particular-surrey",
   "metadata": {},
   "source": [
    "# Many-Body"
   ]
  },
  {
   "cell_type": "code",
   "execution_count": 15,
   "id": "cccffa5e-d4fd-4260-a7c5-d2fe183534e1",
   "metadata": {
    "tags": []
   },
   "outputs": [
    {
     "data": {
      "text/latex": [
       "Compute the many-body operator for boson particles from single-particle operator.\n",
       "\n",
       "\\paragraph{Arguments}\n",
       "\\begin{itemize}\n",
       "\\item \\texttt{basis\\_mb}: Many-body basis.\n",
       "\n",
       "\n",
       "\\item \\texttt{basis\\_sub::get\\_projector\\_op[1]}: Sub-space basis.\n",
       "\n",
       "\n",
       "\\item \\texttt{sp\\_op::Operator}: Single-particle operator from single-particle matrix.\n",
       "\n",
       "\\end{itemize}\n"
      ],
      "text/markdown": [
       "Compute the many-body operator for boson particles from single-particle operator.\n",
       "\n",
       "#### Arguments\n",
       "\n",
       "  * `basis_mb`: Many-body basis.\n",
       "  * `basis_sub::get_projector_op[1]`: Sub-space basis.\n",
       "  * `sp_op::Operator`: Single-particle operator from single-particle matrix.\n"
      ],
      "text/plain": [
       "  Compute the many-body operator for boson particles from single-particle\n",
       "  operator.\n",
       "\n",
       "\u001b[1m  Arguments\u001b[22m\n",
       "\u001b[1m  -----------\u001b[22m\n",
       "\n",
       "    •  \u001b[36mbasis_mb\u001b[39m: Many-body basis.\n",
       "\n",
       "    •  \u001b[36mbasis_sub::get_projector_op[1]\u001b[39m: Sub-space basis.\n",
       "\n",
       "    •  \u001b[36msp_op::Operator\u001b[39m: Single-particle operator from single-particle\n",
       "       matrix."
      ]
     },
     "execution_count": 15,
     "metadata": {},
     "output_type": "execute_result"
    }
   ],
   "source": [
    "@doc get_mb_op"
   ]
  },
  {
   "cell_type": "code",
   "execution_count": 16,
   "id": "2d6ddf03-05b6-497a-af81-8ccf124adde4",
   "metadata": {
    "tags": []
   },
   "outputs": [],
   "source": [
    "states_mb = bosonstates(basis_sub, PN) \n",
    "basis_mb = ManyBodyBasis(basis_sub, states_mb);"
   ]
  },
  {
   "cell_type": "code",
   "execution_count": 17,
   "id": "6eca28a4-7872-49e8-8e57-31306169840c",
   "metadata": {
    "tags": []
   },
   "outputs": [],
   "source": [
    "H1_MB = get_mb_op(basis_mb, basis_sub, H1_sub);"
   ]
  },
  {
   "cell_type": "code",
   "execution_count": 18,
   "id": "d228561d-92e0-4e56-8eb3-0747bc107238",
   "metadata": {
    "tags": []
   },
   "outputs": [
    {
     "data": {
      "text/plain": [
       "Hofstadter_Finite_U (generic function with 1 method)"
      ]
     },
     "execution_count": 18,
     "metadata": {},
     "output_type": "execute_result"
    }
   ],
   "source": [
    "@nbinclude(\"Hofstadter MB in Julia.ipynb\"; regex=r\"#.*executeme\")"
   ]
  },
  {
   "cell_type": "code",
   "execution_count": 19,
   "id": "f5e7021c-a835-4d85-b45c-3ba5d456c977",
   "metadata": {
    "tags": []
   },
   "outputs": [
    {
     "data": {
      "text/latex": [
       "Compute the on-site Bose-Hubbard Interaction term.\n",
       "\n",
       "\\paragraph{Arguments:}\n",
       "\\begin{itemize}\n",
       "\\item \\texttt{basis\\_cut\\_sp}: The cutt-off sites of bosonic many-body basis.\n",
       "\n",
       "\n",
       "\\item \\texttt{basis\\_cut\\_mb}: The cutt-off sites of single-particle basis.\n",
       "\n",
       "\n",
       "\\item \\texttt{P::Operator}: Projection operator.\n",
       "\n",
       "\n",
       "\\item \\texttt{Pt::Operator}: Complex conjugate of projection operator.\n",
       "\n",
       "\n",
       "\\item \\texttt{cut\\_off::Int}: Limit value of eigen-state index.\n",
       "\n",
       "\\end{itemize}\n"
      ],
      "text/markdown": [
       "Compute the on-site Bose-Hubbard Interaction term.\n",
       "\n",
       "#### Arguments:\n",
       "\n",
       "  * `basis_cut_sp`: The cutt-off sites of bosonic many-body basis.\n",
       "  * `basis_cut_mb`: The cutt-off sites of single-particle basis.\n",
       "  * `P::Operator`: Projection operator.\n",
       "  * `Pt::Operator`: Complex conjugate of projection operator.\n",
       "  * `cut_off::Int`: Limit value of eigen-state index.\n"
      ],
      "text/plain": [
       "  Compute the on-site Bose-Hubbard Interaction term.\n",
       "\n",
       "\u001b[1m  Arguments:\u001b[22m\n",
       "\u001b[1m  ------------\u001b[22m\n",
       "\n",
       "    •  \u001b[36mbasis_cut_sp\u001b[39m: The cutt-off sites of bosonic many-body basis.\n",
       "\n",
       "    •  \u001b[36mbasis_cut_mb\u001b[39m: The cutt-off sites of single-particle basis.\n",
       "\n",
       "    •  \u001b[36mP::Operator\u001b[39m: Projection operator.\n",
       "\n",
       "    •  \u001b[36mPt::Operator\u001b[39m: Complex conjugate of projection operator.\n",
       "\n",
       "    •  \u001b[36mcut_off::Int\u001b[39m: Limit value of eigen-state index."
      ]
     },
     "execution_count": 19,
     "metadata": {},
     "output_type": "execute_result"
    }
   ],
   "source": [
    "@doc Hubbard_Interaction"
   ]
  },
  {
   "cell_type": "code",
   "execution_count": 20,
   "id": "dutch-philosophy",
   "metadata": {
    "tags": []
   },
   "outputs": [],
   "source": [
    "basis_cut_mb, basis_cut_sp = get_Bosonic_MB_Basis(cut_off,PN)\n",
    "H_Int = Hubbard_Interaction(basis_cut_sp, basis_cut_mb, P, Pt, cut_off);"
   ]
  },
  {
   "cell_type": "markdown",
   "id": "865cc1d6-3246-4f5a-9c75-dfe67eab2040",
   "metadata": {},
   "source": [
    "# Constructing Total Hamiltonians "
   ]
  },
  {
   "cell_type": "code",
   "execution_count": 21,
   "id": "technical-technology",
   "metadata": {
    "tags": []
   },
   "outputs": [],
   "source": [
    "H1cut = SparseOperator(basis_cut_mb)\n",
    "H1cut.data = H1_MB.data\n",
    "\n",
    "number_mb_list_operators = get_num_mb_op(N, basis_cut_sp, num_sub_list, basis_cut_mb, basis_sub)\n",
    "\n",
    "function get_total_H(V, imp_site, number_mb_list_operators, H1cut, H_Int)\n",
    "    V_imp = V * number_mb_list_operators[imp_site]\n",
    "    H_totall = H1cut + H_Int + V_imp\n",
    "    return H_totall\n",
    "end\n",
    "\n",
    "imp_site = 44\n",
    "H_total_imp = get_total_H(4, imp_site, number_mb_list_operators, H1cut, H_Int)\n",
    "H_total = get_total_H(0, 45, number_mb_list_operators, H1cut, H_Int);"
   ]
  },
  {
   "cell_type": "markdown",
   "id": "3f1b1096-6ac2-4940-9e20-a7b79871a0a7",
   "metadata": {},
   "source": [
    "# Exact-Diagonalization"
   ]
  },
  {
   "cell_type": "code",
   "execution_count": 22,
   "id": "436255b0-474b-4d97-8672-a458428a7a3d",
   "metadata": {
    "tags": []
   },
   "outputs": [
    {
     "data": {
      "text/plain": [
       "get_energies (generic function with 1 method)"
      ]
     },
     "execution_count": 22,
     "metadata": {},
     "output_type": "execute_result"
    }
   ],
   "source": [
    "using DataFrames\n",
    "\n",
    "E, V = eigenstates(dense((H_total_imp+dagger(H_total_imp))/2))\n",
    "E0, V0 = eigenstates(dense((H_total+dagger(H_total))/2))\n",
    "\n",
    "function get_energies(pn, E, V, basis)\n",
    "    PN_Energies = Array{Float64}(undef, length(E), 2)\n",
    "    for i in 1:length(E)\n",
    "        PN_Energies[i] = round(expect(number(basis), V[i])) #expected values (first column)\n",
    "        PN_Energies[i,2] = E[i] #eigen-values (second column)\n",
    "    end\n",
    "    \n",
    "    # filter\n",
    "    df = DataFrame(PN_Energies, :auto)\n",
    "    df = filter(row -> (row.x1 == pn),  df)\n",
    "    \n",
    "    return df\n",
    "end"
   ]
  },
  {
   "cell_type": "code",
   "execution_count": 23,
   "id": "583a1134-1a10-4849-8a76-76888954c9b5",
   "metadata": {
    "tags": []
   },
   "outputs": [
    {
     "data": {
      "text/plain": [
       "4-element Vector{Int64}:\n",
       " 0\n",
       " 1\n",
       " 2\n",
       " 3"
      ]
     },
     "execution_count": 23,
     "metadata": {},
     "output_type": "execute_result"
    }
   ],
   "source": [
    "PN"
   ]
  },
  {
   "cell_type": "code",
   "execution_count": 65,
   "id": "0fc34877-b975-44a9-bdf1-171087768b75",
   "metadata": {
    "tags": []
   },
   "outputs": [
    {
     "data": {
      "text/plain": [
       "120-element Vector{Float64}:\n",
       " -10.259932886485375\n",
       " -10.259932886485373\n",
       " -10.259901993554315\n",
       " -10.259901993554308\n",
       " -10.25990023222438\n",
       " -10.259900232224377\n",
       " -10.259900232224377\n",
       " -10.259900232224373\n",
       " -10.259850864410984\n",
       " -10.259850864410982\n",
       " -10.25985086441098\n",
       " -10.259850864410977\n",
       " -10.259849006190192\n",
       "   ⋮\n",
       "  -9.961172883168818\n",
       "  -9.96117288316881\n",
       "  -9.961002871235502\n",
       "  -9.9610028712355\n",
       "  -9.958174841380709\n",
       "  -9.958174841380703\n",
       "  -9.95783656383475\n",
       "  -9.957836563834746\n",
       "  -9.957836563834745\n",
       "  -9.957836563834743\n",
       "  -9.957496405192192\n",
       "  -9.957496405192186"
      ]
     },
     "execution_count": 65,
     "metadata": {},
     "output_type": "execute_result"
    }
   ],
   "source": [
    "pn = 3.0\n",
    "df = get_energies(pn, E, V, basis_cut_mb)\n",
    "df_0 = get_energies(pn, E0, V0, basis_cut_mb)\n",
    "# V \\neq 0\n",
    "filtered_energies = Matrix(df)[:,2]\n",
    "# V=0\n",
    "filtered_energies_0 = Matrix(df_0)[:,2]\n",
    "#show(stdout,\"text/plain\", filtered_energies) #show all outputs"
   ]
  },
  {
   "cell_type": "code",
   "execution_count": 111,
   "id": "df9681c9-386b-4078-bb13-17f20ad6f53e",
   "metadata": {
    "tags": []
   },
   "outputs": [
    {
     "data": {
      "image/svg+xml": [
       "<?xml version=\"1.0\" encoding=\"utf-8\"?>\n",
       "<svg xmlns=\"http://www.w3.org/2000/svg\" xmlns:xlink=\"http://www.w3.org/1999/xlink\" width=\"600\" height=\"400\" viewBox=\"0 0 2400 1600\">\n",
       "<defs>\n",
       "  <clipPath id=\"clip330\">\n",
       "    <rect x=\"0\" y=\"0\" width=\"2400\" height=\"1600\"/>\n",
       "  </clipPath>\n",
       "</defs>\n",
       "<path clip-path=\"url(#clip330)\" d=\"M0 1600 L2400 1600 L2400 0 L0 0  Z\" fill=\"#ffffff\" fill-rule=\"evenodd\" fill-opacity=\"1\"/>\n",
       "<defs>\n",
       "  <clipPath id=\"clip331\">\n",
       "    <rect x=\"480\" y=\"0\" width=\"1681\" height=\"1600\"/>\n",
       "  </clipPath>\n",
       "</defs>\n",
       "<path clip-path=\"url(#clip330)\" d=\"M287.366 1423.18 L2352.76 1423.18 L2352.76 47.2441 L287.366 47.2441  Z\" fill=\"#ffffff\" fill-rule=\"evenodd\" fill-opacity=\"1\"/>\n",
       "<defs>\n",
       "  <clipPath id=\"clip332\">\n",
       "    <rect x=\"287\" y=\"47\" width=\"2066\" height=\"1377\"/>\n",
       "  </clipPath>\n",
       "</defs>\n",
       "<polyline clip-path=\"url(#clip332)\" style=\"stroke:#000000; stroke-linecap:round; stroke-linejoin:round; stroke-width:2; stroke-opacity:0.1; fill:none\" points=\"288.512,1423.18 288.512,47.2441 \"/>\n",
       "<polyline clip-path=\"url(#clip332)\" style=\"stroke:#000000; stroke-linecap:round; stroke-linejoin:round; stroke-width:2; stroke-opacity:0.1; fill:none\" points=\"861.595,1423.18 861.595,47.2441 \"/>\n",
       "<polyline clip-path=\"url(#clip332)\" style=\"stroke:#000000; stroke-linecap:round; stroke-linejoin:round; stroke-width:2; stroke-opacity:0.1; fill:none\" points=\"1434.68,1423.18 1434.68,47.2441 \"/>\n",
       "<polyline clip-path=\"url(#clip332)\" style=\"stroke:#000000; stroke-linecap:round; stroke-linejoin:round; stroke-width:2; stroke-opacity:0.1; fill:none\" points=\"2007.76,1423.18 2007.76,47.2441 \"/>\n",
       "<polyline clip-path=\"url(#clip330)\" style=\"stroke:#000000; stroke-linecap:round; stroke-linejoin:round; stroke-width:4; stroke-opacity:1; fill:none\" points=\"287.366,1423.18 2352.76,1423.18 \"/>\n",
       "<polyline clip-path=\"url(#clip330)\" style=\"stroke:#000000; stroke-linecap:round; stroke-linejoin:round; stroke-width:4; stroke-opacity:1; fill:none\" points=\"288.512,1423.18 288.512,1404.28 \"/>\n",
       "<polyline clip-path=\"url(#clip330)\" style=\"stroke:#000000; stroke-linecap:round; stroke-linejoin:round; stroke-width:4; stroke-opacity:1; fill:none\" points=\"861.595,1423.18 861.595,1404.28 \"/>\n",
       "<polyline clip-path=\"url(#clip330)\" style=\"stroke:#000000; stroke-linecap:round; stroke-linejoin:round; stroke-width:4; stroke-opacity:1; fill:none\" points=\"1434.68,1423.18 1434.68,1404.28 \"/>\n",
       "<polyline clip-path=\"url(#clip330)\" style=\"stroke:#000000; stroke-linecap:round; stroke-linejoin:round; stroke-width:4; stroke-opacity:1; fill:none\" points=\"2007.76,1423.18 2007.76,1404.28 \"/>\n",
       "<path clip-path=\"url(#clip330)\" d=\"M288.512 1454.1 Q284.901 1454.1 283.072 1457.66 Q281.267 1461.2 281.267 1468.33 Q281.267 1475.44 283.072 1479.01 Q284.901 1482.55 288.512 1482.55 Q292.146 1482.55 293.952 1479.01 Q295.781 1475.44 295.781 1468.33 Q295.781 1461.2 293.952 1457.66 Q292.146 1454.1 288.512 1454.1 M288.512 1450.39 Q294.322 1450.39 297.378 1455 Q300.456 1459.58 300.456 1468.33 Q300.456 1477.06 297.378 1481.67 Q294.322 1486.25 288.512 1486.25 Q282.702 1486.25 279.623 1481.67 Q276.568 1477.06 276.568 1468.33 Q276.568 1459.58 279.623 1455 Q282.702 1450.39 288.512 1450.39 Z\" fill=\"#000000\" fill-rule=\"nonzero\" fill-opacity=\"1\" /><path clip-path=\"url(#clip330)\" d=\"M836.282 1481.64 L843.921 1481.64 L843.921 1455.28 L835.611 1456.95 L835.611 1452.69 L843.875 1451.02 L848.551 1451.02 L848.551 1481.64 L856.19 1481.64 L856.19 1485.58 L836.282 1485.58 L836.282 1481.64 Z\" fill=\"#000000\" fill-rule=\"nonzero\" fill-opacity=\"1\" /><path clip-path=\"url(#clip330)\" d=\"M875.634 1454.1 Q872.023 1454.1 870.194 1457.66 Q868.389 1461.2 868.389 1468.33 Q868.389 1475.44 870.194 1479.01 Q872.023 1482.55 875.634 1482.55 Q879.268 1482.55 881.074 1479.01 Q882.903 1475.44 882.903 1468.33 Q882.903 1461.2 881.074 1457.66 Q879.268 1454.1 875.634 1454.1 M875.634 1450.39 Q881.444 1450.39 884.5 1455 Q887.578 1459.58 887.578 1468.33 Q887.578 1477.06 884.5 1481.67 Q881.444 1486.25 875.634 1486.25 Q869.824 1486.25 866.745 1481.67 Q863.69 1477.06 863.69 1468.33 Q863.69 1459.58 866.745 1455 Q869.824 1450.39 875.634 1450.39 Z\" fill=\"#000000\" fill-rule=\"nonzero\" fill-opacity=\"1\" /><path clip-path=\"url(#clip330)\" d=\"M1413.45 1481.64 L1429.77 1481.64 L1429.77 1485.58 L1407.83 1485.58 L1407.83 1481.64 Q1410.49 1478.89 1415.07 1474.26 Q1419.68 1469.61 1420.86 1468.27 Q1423.1 1465.74 1423.98 1464.01 Q1424.89 1462.25 1424.89 1460.56 Q1424.89 1457.8 1422.94 1456.07 Q1421.02 1454.33 1417.92 1454.33 Q1415.72 1454.33 1413.27 1455.09 Q1410.83 1455.86 1408.06 1457.41 L1408.06 1452.69 Q1410.88 1451.55 1413.33 1450.97 Q1415.79 1450.39 1417.83 1450.39 Q1423.2 1450.39 1426.39 1453.08 Q1429.58 1455.77 1429.58 1460.26 Q1429.58 1462.39 1428.77 1464.31 Q1427.99 1466.2 1425.88 1468.8 Q1425.3 1469.47 1422.2 1472.69 Q1419.1 1475.88 1413.45 1481.64 Z\" fill=\"#000000\" fill-rule=\"nonzero\" fill-opacity=\"1\" /><path clip-path=\"url(#clip330)\" d=\"M1449.58 1454.1 Q1445.97 1454.1 1444.14 1457.66 Q1442.34 1461.2 1442.34 1468.33 Q1442.34 1475.44 1444.14 1479.01 Q1445.97 1482.55 1449.58 1482.55 Q1453.22 1482.55 1455.02 1479.01 Q1456.85 1475.44 1456.85 1468.33 Q1456.85 1461.2 1455.02 1457.66 Q1453.22 1454.1 1449.58 1454.1 M1449.58 1450.39 Q1455.39 1450.39 1458.45 1455 Q1461.53 1459.58 1461.53 1468.33 Q1461.53 1477.06 1458.45 1481.67 Q1455.39 1486.25 1449.58 1486.25 Q1443.77 1486.25 1440.7 1481.67 Q1437.64 1477.06 1437.64 1468.33 Q1437.64 1459.58 1440.7 1455 Q1443.77 1450.39 1449.58 1450.39 Z\" fill=\"#000000\" fill-rule=\"nonzero\" fill-opacity=\"1\" /><path clip-path=\"url(#clip330)\" d=\"M1996.6 1466.95 Q1999.96 1467.66 2001.83 1469.93 Q2003.73 1472.2 2003.73 1475.53 Q2003.73 1480.65 2000.21 1483.45 Q1996.7 1486.25 1990.21 1486.25 Q1988.04 1486.25 1985.72 1485.81 Q1983.43 1485.39 1980.98 1484.54 L1980.98 1480.02 Q1982.92 1481.16 1985.24 1481.74 Q1987.55 1482.32 1990.08 1482.32 Q1994.47 1482.32 1996.76 1480.58 Q1999.08 1478.84 1999.08 1475.53 Q1999.08 1472.48 1996.93 1470.77 Q1994.8 1469.03 1990.98 1469.03 L1986.95 1469.03 L1986.95 1465.19 L1991.16 1465.19 Q1994.61 1465.19 1996.44 1463.82 Q1998.27 1462.43 1998.27 1459.84 Q1998.27 1457.18 1996.37 1455.77 Q1994.5 1454.33 1990.98 1454.33 Q1989.06 1454.33 1986.86 1454.75 Q1984.66 1455.16 1982.02 1456.04 L1982.02 1451.88 Q1984.68 1451.14 1987 1450.77 Q1989.33 1450.39 1991.39 1450.39 Q1996.72 1450.39 1999.82 1452.83 Q2002.92 1455.23 2002.92 1459.35 Q2002.92 1462.22 2001.28 1464.21 Q1999.64 1466.18 1996.6 1466.95 Z\" fill=\"#000000\" fill-rule=\"nonzero\" fill-opacity=\"1\" /><path clip-path=\"url(#clip330)\" d=\"M2022.6 1454.1 Q2018.99 1454.1 2017.16 1457.66 Q2015.35 1461.2 2015.35 1468.33 Q2015.35 1475.44 2017.16 1479.01 Q2018.99 1482.55 2022.6 1482.55 Q2026.23 1482.55 2028.04 1479.01 Q2029.87 1475.44 2029.87 1468.33 Q2029.87 1461.2 2028.04 1457.66 Q2026.23 1454.1 2022.6 1454.1 M2022.6 1450.39 Q2028.41 1450.39 2031.46 1455 Q2034.54 1459.58 2034.54 1468.33 Q2034.54 1477.06 2031.46 1481.67 Q2028.41 1486.25 2022.6 1486.25 Q2016.79 1486.25 2013.71 1481.67 Q2010.65 1477.06 2010.65 1468.33 Q2010.65 1459.58 2013.71 1455 Q2016.79 1450.39 2022.6 1450.39 Z\" fill=\"#000000\" fill-rule=\"nonzero\" fill-opacity=\"1\" /><path clip-path=\"url(#clip330)\" d=\"M1334.99 1546.53 L1334.99 1568.04 L1329.13 1568.04 L1329.13 1546.72 Q1329.13 1541.66 1327.16 1539.14 Q1325.19 1536.63 1321.24 1536.63 Q1316.5 1536.63 1313.76 1539.65 Q1311.02 1542.68 1311.02 1547.9 L1311.02 1568.04 L1305.13 1568.04 L1305.13 1532.4 L1311.02 1532.4 L1311.02 1537.93 Q1313.12 1534.72 1315.96 1533.13 Q1318.82 1531.54 1322.54 1531.54 Q1328.69 1531.54 1331.84 1535.36 Q1334.99 1539.14 1334.99 1546.53 Z\" fill=\"#000000\" fill-rule=\"nonzero\" fill-opacity=\"1\" /><polyline clip-path=\"url(#clip332)\" style=\"stroke:#000000; stroke-linecap:round; stroke-linejoin:round; stroke-width:2; stroke-opacity:0.1; fill:none\" points=\"287.366,1270.04 2352.76,1270.04 \"/>\n",
       "<polyline clip-path=\"url(#clip332)\" style=\"stroke:#000000; stroke-linecap:round; stroke-linejoin:round; stroke-width:2; stroke-opacity:0.1; fill:none\" points=\"287.366,1051.26 2352.76,1051.26 \"/>\n",
       "<polyline clip-path=\"url(#clip332)\" style=\"stroke:#000000; stroke-linecap:round; stroke-linejoin:round; stroke-width:2; stroke-opacity:0.1; fill:none\" points=\"287.366,832.488 2352.76,832.488 \"/>\n",
       "<polyline clip-path=\"url(#clip332)\" style=\"stroke:#000000; stroke-linecap:round; stroke-linejoin:round; stroke-width:2; stroke-opacity:0.1; fill:none\" points=\"287.366,613.713 2352.76,613.713 \"/>\n",
       "<polyline clip-path=\"url(#clip332)\" style=\"stroke:#000000; stroke-linecap:round; stroke-linejoin:round; stroke-width:2; stroke-opacity:0.1; fill:none\" points=\"287.366,394.938 2352.76,394.938 \"/>\n",
       "<polyline clip-path=\"url(#clip332)\" style=\"stroke:#000000; stroke-linecap:round; stroke-linejoin:round; stroke-width:2; stroke-opacity:0.1; fill:none\" points=\"287.366,176.164 2352.76,176.164 \"/>\n",
       "<polyline clip-path=\"url(#clip330)\" style=\"stroke:#000000; stroke-linecap:round; stroke-linejoin:round; stroke-width:4; stroke-opacity:1; fill:none\" points=\"287.366,1423.18 287.366,47.2441 \"/>\n",
       "<polyline clip-path=\"url(#clip330)\" style=\"stroke:#000000; stroke-linecap:round; stroke-linejoin:round; stroke-width:4; stroke-opacity:1; fill:none\" points=\"287.366,1270.04 306.264,1270.04 \"/>\n",
       "<polyline clip-path=\"url(#clip330)\" style=\"stroke:#000000; stroke-linecap:round; stroke-linejoin:round; stroke-width:4; stroke-opacity:1; fill:none\" points=\"287.366,1051.26 306.264,1051.26 \"/>\n",
       "<polyline clip-path=\"url(#clip330)\" style=\"stroke:#000000; stroke-linecap:round; stroke-linejoin:round; stroke-width:4; stroke-opacity:1; fill:none\" points=\"287.366,832.488 306.264,832.488 \"/>\n",
       "<polyline clip-path=\"url(#clip330)\" style=\"stroke:#000000; stroke-linecap:round; stroke-linejoin:round; stroke-width:4; stroke-opacity:1; fill:none\" points=\"287.366,613.713 306.264,613.713 \"/>\n",
       "<polyline clip-path=\"url(#clip330)\" style=\"stroke:#000000; stroke-linecap:round; stroke-linejoin:round; stroke-width:4; stroke-opacity:1; fill:none\" points=\"287.366,394.938 306.264,394.938 \"/>\n",
       "<polyline clip-path=\"url(#clip330)\" style=\"stroke:#000000; stroke-linecap:round; stroke-linejoin:round; stroke-width:4; stroke-opacity:1; fill:none\" points=\"287.366,176.164 306.264,176.164 \"/>\n",
       "<path clip-path=\"url(#clip330)\" d=\"M114.26 1270.49 L143.936 1270.49 L143.936 1274.42 L114.26 1274.42 L114.26 1270.49 Z\" fill=\"#000000\" fill-rule=\"nonzero\" fill-opacity=\"1\" /><path clip-path=\"url(#clip330)\" d=\"M154.839 1283.38 L162.477 1283.38 L162.477 1257.02 L154.167 1258.68 L154.167 1254.42 L162.431 1252.76 L167.107 1252.76 L167.107 1283.38 L174.746 1283.38 L174.746 1287.32 L154.839 1287.32 L154.839 1283.38 Z\" fill=\"#000000\" fill-rule=\"nonzero\" fill-opacity=\"1\" /><path clip-path=\"url(#clip330)\" d=\"M194.19 1255.84 Q190.579 1255.84 188.75 1259.4 Q186.945 1262.94 186.945 1270.07 Q186.945 1277.18 188.75 1280.74 Q190.579 1284.29 194.19 1284.29 Q197.825 1284.29 199.63 1280.74 Q201.459 1277.18 201.459 1270.07 Q201.459 1262.94 199.63 1259.4 Q197.825 1255.84 194.19 1255.84 M194.19 1252.13 Q200 1252.13 203.056 1256.74 Q206.135 1261.32 206.135 1270.07 Q206.135 1278.8 203.056 1283.41 Q200 1287.99 194.19 1287.99 Q188.38 1287.99 185.301 1283.41 Q182.246 1278.8 182.246 1270.07 Q182.246 1261.32 185.301 1256.74 Q188.38 1252.13 194.19 1252.13 Z\" fill=\"#000000\" fill-rule=\"nonzero\" fill-opacity=\"1\" /><path clip-path=\"url(#clip330)\" d=\"M214.352 1281.44 L219.236 1281.44 L219.236 1287.32 L214.352 1287.32 L214.352 1281.44 Z\" fill=\"#000000\" fill-rule=\"nonzero\" fill-opacity=\"1\" /><path clip-path=\"url(#clip330)\" d=\"M239.422 1255.84 Q235.81 1255.84 233.982 1259.4 Q232.176 1262.94 232.176 1270.07 Q232.176 1277.18 233.982 1280.74 Q235.81 1284.29 239.422 1284.29 Q243.056 1284.29 244.861 1280.74 Q246.69 1277.18 246.69 1270.07 Q246.69 1262.94 244.861 1259.4 Q243.056 1255.84 239.422 1255.84 M239.422 1252.13 Q245.232 1252.13 248.287 1256.74 Q251.366 1261.32 251.366 1270.07 Q251.366 1278.8 248.287 1283.41 Q245.232 1287.99 239.422 1287.99 Q233.611 1287.99 230.533 1283.41 Q227.477 1278.8 227.477 1270.07 Q227.477 1261.32 230.533 1256.74 Q233.611 1252.13 239.422 1252.13 Z\" fill=\"#000000\" fill-rule=\"nonzero\" fill-opacity=\"1\" /><path clip-path=\"url(#clip330)\" d=\"M145.417 1051.71 L175.093 1051.71 L175.093 1055.65 L145.417 1055.65 L145.417 1051.71 Z\" fill=\"#000000\" fill-rule=\"nonzero\" fill-opacity=\"1\" /><path clip-path=\"url(#clip330)\" d=\"M185.325 1067.83 L185.325 1063.57 Q187.084 1064.4 188.889 1064.84 Q190.695 1065.28 192.431 1065.28 Q197.061 1065.28 199.491 1062.18 Q201.945 1059.05 202.292 1052.71 Q200.95 1054.7 198.889 1055.77 Q196.829 1056.83 194.329 1056.83 Q189.144 1056.83 186.112 1053.7 Q183.102 1050.56 183.102 1045.12 Q183.102 1039.79 186.251 1036.58 Q189.399 1033.36 194.63 1033.36 Q200.625 1033.36 203.774 1037.96 Q206.945 1042.55 206.945 1051.3 Q206.945 1059.47 203.056 1064.35 Q199.19 1069.21 192.639 1069.21 Q190.88 1069.21 189.075 1068.87 Q187.269 1068.52 185.325 1067.83 M194.63 1053.17 Q197.778 1053.17 199.607 1051.02 Q201.459 1048.87 201.459 1045.12 Q201.459 1041.39 199.607 1039.24 Q197.778 1037.06 194.63 1037.06 Q191.482 1037.06 189.63 1039.24 Q187.801 1041.39 187.801 1045.12 Q187.801 1048.87 189.63 1051.02 Q191.482 1053.17 194.63 1053.17 Z\" fill=\"#000000\" fill-rule=\"nonzero\" fill-opacity=\"1\" /><path clip-path=\"url(#clip330)\" d=\"M215.348 1062.66 L220.232 1062.66 L220.232 1068.54 L215.348 1068.54 L215.348 1062.66 Z\" fill=\"#000000\" fill-rule=\"nonzero\" fill-opacity=\"1\" /><path clip-path=\"url(#clip330)\" d=\"M230.463 1033.98 L248.82 1033.98 L248.82 1037.92 L234.746 1037.92 L234.746 1046.39 Q235.764 1046.04 236.783 1045.88 Q237.801 1045.7 238.82 1045.7 Q244.607 1045.7 247.986 1048.87 Q251.366 1052.04 251.366 1057.45 Q251.366 1063.03 247.894 1066.14 Q244.421 1069.21 238.102 1069.21 Q235.926 1069.21 233.658 1068.84 Q231.412 1068.47 229.005 1067.73 L229.005 1063.03 Q231.088 1064.17 233.31 1064.72 Q235.533 1065.28 238.009 1065.28 Q242.014 1065.28 244.352 1063.17 Q246.69 1061.07 246.69 1057.45 Q246.69 1053.84 244.352 1051.74 Q242.014 1049.63 238.009 1049.63 Q236.135 1049.63 234.26 1050.05 Q232.408 1050.46 230.463 1051.34 L230.463 1033.98 Z\" fill=\"#000000\" fill-rule=\"nonzero\" fill-opacity=\"1\" /><path clip-path=\"url(#clip330)\" d=\"M144.422 832.939 L174.098 832.939 L174.098 836.875 L144.422 836.875 L144.422 832.939 Z\" fill=\"#000000\" fill-rule=\"nonzero\" fill-opacity=\"1\" /><path clip-path=\"url(#clip330)\" d=\"M184.329 849.05 L184.329 844.791 Q186.088 845.624 187.894 846.064 Q189.7 846.504 191.436 846.504 Q196.065 846.504 198.496 843.402 Q200.95 840.277 201.297 833.935 Q199.954 835.925 197.894 836.99 Q195.834 838.055 193.334 838.055 Q188.149 838.055 185.116 834.93 Q182.107 831.782 182.107 826.342 Q182.107 821.018 185.255 817.801 Q188.403 814.583 193.635 814.583 Q199.63 814.583 202.778 819.189 Q205.949 823.773 205.949 832.523 Q205.949 840.694 202.061 845.578 Q198.195 850.439 191.644 850.439 Q189.885 850.439 188.079 850.092 Q186.274 849.745 184.329 849.05 M193.635 834.398 Q196.783 834.398 198.612 832.245 Q200.463 830.092 200.463 826.342 Q200.463 822.615 198.612 820.463 Q196.783 818.287 193.635 818.287 Q190.487 818.287 188.635 820.463 Q186.806 822.615 186.806 826.342 Q186.806 830.092 188.635 832.245 Q190.487 834.398 193.635 834.398 Z\" fill=\"#000000\" fill-rule=\"nonzero\" fill-opacity=\"1\" /><path clip-path=\"url(#clip330)\" d=\"M214.352 843.888 L219.236 843.888 L219.236 849.768 L214.352 849.768 L214.352 843.888 Z\" fill=\"#000000\" fill-rule=\"nonzero\" fill-opacity=\"1\" /><path clip-path=\"url(#clip330)\" d=\"M239.422 818.287 Q235.81 818.287 233.982 821.851 Q232.176 825.393 232.176 832.523 Q232.176 839.629 233.982 843.194 Q235.81 846.736 239.422 846.736 Q243.056 846.736 244.861 843.194 Q246.69 839.629 246.69 832.523 Q246.69 825.393 244.861 821.851 Q243.056 818.287 239.422 818.287 M239.422 814.583 Q245.232 814.583 248.287 819.189 Q251.366 823.773 251.366 832.523 Q251.366 841.25 248.287 845.856 Q245.232 850.439 239.422 850.439 Q233.611 850.439 230.533 845.856 Q227.477 841.25 227.477 832.523 Q227.477 823.773 230.533 819.189 Q233.611 814.583 239.422 814.583 Z\" fill=\"#000000\" fill-rule=\"nonzero\" fill-opacity=\"1\" /><path clip-path=\"url(#clip330)\" d=\"M145.417 614.165 L175.093 614.165 L175.093 618.1 L145.417 618.1 L145.417 614.165 Z\" fill=\"#000000\" fill-rule=\"nonzero\" fill-opacity=\"1\" /><path clip-path=\"url(#clip330)\" d=\"M195.186 614.581 Q191.852 614.581 189.931 616.364 Q188.033 618.146 188.033 621.271 Q188.033 624.396 189.931 626.178 Q191.852 627.961 195.186 627.961 Q198.519 627.961 200.44 626.178 Q202.362 624.373 202.362 621.271 Q202.362 618.146 200.44 616.364 Q198.542 614.581 195.186 614.581 M190.51 612.591 Q187.501 611.85 185.811 609.79 Q184.144 607.729 184.144 604.767 Q184.144 600.623 187.084 598.216 Q190.047 595.808 195.186 595.808 Q200.348 595.808 203.287 598.216 Q206.227 600.623 206.227 604.767 Q206.227 607.729 204.537 609.79 Q202.871 611.85 199.885 612.591 Q203.264 613.378 205.139 615.669 Q207.037 617.961 207.037 621.271 Q207.037 626.294 203.959 628.979 Q200.903 631.665 195.186 631.665 Q189.468 631.665 186.389 628.979 Q183.334 626.294 183.334 621.271 Q183.334 617.961 185.232 615.669 Q187.13 613.378 190.51 612.591 M188.797 605.206 Q188.797 607.891 190.463 609.396 Q192.153 610.901 195.186 610.901 Q198.195 610.901 199.885 609.396 Q201.598 607.891 201.598 605.206 Q201.598 602.521 199.885 601.017 Q198.195 599.512 195.186 599.512 Q192.153 599.512 190.463 601.017 Q188.797 602.521 188.797 605.206 Z\" fill=\"#000000\" fill-rule=\"nonzero\" fill-opacity=\"1\" /><path clip-path=\"url(#clip330)\" d=\"M215.348 625.114 L220.232 625.114 L220.232 630.993 L215.348 630.993 L215.348 625.114 Z\" fill=\"#000000\" fill-rule=\"nonzero\" fill-opacity=\"1\" /><path clip-path=\"url(#clip330)\" d=\"M230.463 596.433 L248.82 596.433 L248.82 600.368 L234.746 600.368 L234.746 608.841 Q235.764 608.493 236.783 608.331 Q237.801 608.146 238.82 608.146 Q244.607 608.146 247.986 611.317 Q251.366 614.489 251.366 619.905 Q251.366 625.484 247.894 628.586 Q244.421 631.665 238.102 631.665 Q235.926 631.665 233.658 631.294 Q231.412 630.924 229.005 630.183 L229.005 625.484 Q231.088 626.618 233.31 627.174 Q235.533 627.729 238.009 627.729 Q242.014 627.729 244.352 625.623 Q246.69 623.516 246.69 619.905 Q246.69 616.294 244.352 614.188 Q242.014 612.081 238.009 612.081 Q236.135 612.081 234.26 612.498 Q232.408 612.915 230.463 613.794 L230.463 596.433 Z\" fill=\"#000000\" fill-rule=\"nonzero\" fill-opacity=\"1\" /><path clip-path=\"url(#clip330)\" d=\"M144.422 395.39 L174.098 395.39 L174.098 399.325 L144.422 399.325 L144.422 395.39 Z\" fill=\"#000000\" fill-rule=\"nonzero\" fill-opacity=\"1\" /><path clip-path=\"url(#clip330)\" d=\"M194.19 395.807 Q190.857 395.807 188.936 397.589 Q187.038 399.371 187.038 402.496 Q187.038 405.621 188.936 407.404 Q190.857 409.186 194.19 409.186 Q197.524 409.186 199.445 407.404 Q201.366 405.598 201.366 402.496 Q201.366 399.371 199.445 397.589 Q197.547 395.807 194.19 395.807 M189.514 393.816 Q186.505 393.075 184.815 391.015 Q183.149 388.955 183.149 385.992 Q183.149 381.848 186.088 379.441 Q189.051 377.033 194.19 377.033 Q199.352 377.033 202.292 379.441 Q205.232 381.848 205.232 385.992 Q205.232 388.955 203.542 391.015 Q201.875 393.075 198.889 393.816 Q202.269 394.603 204.144 396.894 Q206.042 399.186 206.042 402.496 Q206.042 407.519 202.963 410.205 Q199.908 412.89 194.19 412.89 Q188.473 412.89 185.394 410.205 Q182.338 407.519 182.338 402.496 Q182.338 399.186 184.237 396.894 Q186.135 394.603 189.514 393.816 M187.801 386.432 Q187.801 389.117 189.468 390.621 Q191.158 392.126 194.19 392.126 Q197.2 392.126 198.889 390.621 Q200.602 389.117 200.602 386.432 Q200.602 383.746 198.889 382.242 Q197.2 380.737 194.19 380.737 Q191.158 380.737 189.468 382.242 Q187.801 383.746 187.801 386.432 Z\" fill=\"#000000\" fill-rule=\"nonzero\" fill-opacity=\"1\" /><path clip-path=\"url(#clip330)\" d=\"M214.352 406.339 L219.236 406.339 L219.236 412.218 L214.352 412.218 L214.352 406.339 Z\" fill=\"#000000\" fill-rule=\"nonzero\" fill-opacity=\"1\" /><path clip-path=\"url(#clip330)\" d=\"M239.422 380.737 Q235.81 380.737 233.982 384.302 Q232.176 387.844 232.176 394.973 Q232.176 402.08 233.982 405.644 Q235.81 409.186 239.422 409.186 Q243.056 409.186 244.861 405.644 Q246.69 402.08 246.69 394.973 Q246.69 387.844 244.861 384.302 Q243.056 380.737 239.422 380.737 M239.422 377.033 Q245.232 377.033 248.287 381.64 Q251.366 386.223 251.366 394.973 Q251.366 403.7 248.287 408.306 Q245.232 412.89 239.422 412.89 Q233.611 412.89 230.533 408.306 Q227.477 403.7 227.477 394.973 Q227.477 386.223 230.533 381.64 Q233.611 377.033 239.422 377.033 Z\" fill=\"#000000\" fill-rule=\"nonzero\" fill-opacity=\"1\" /><path clip-path=\"url(#clip330)\" d=\"M145.417 176.615 L175.093 176.615 L175.093 180.55 L145.417 180.55 L145.417 176.615 Z\" fill=\"#000000\" fill-rule=\"nonzero\" fill-opacity=\"1\" /><path clip-path=\"url(#clip330)\" d=\"M184.005 158.884 L206.227 158.884 L206.227 160.874 L193.681 193.444 L188.797 193.444 L200.602 162.819 L184.005 162.819 L184.005 158.884 Z\" fill=\"#000000\" fill-rule=\"nonzero\" fill-opacity=\"1\" /><path clip-path=\"url(#clip330)\" d=\"M215.348 187.564 L220.232 187.564 L220.232 193.444 L215.348 193.444 L215.348 187.564 Z\" fill=\"#000000\" fill-rule=\"nonzero\" fill-opacity=\"1\" /><path clip-path=\"url(#clip330)\" d=\"M230.463 158.884 L248.82 158.884 L248.82 162.819 L234.746 162.819 L234.746 171.291 Q235.764 170.944 236.783 170.782 Q237.801 170.597 238.82 170.597 Q244.607 170.597 247.986 173.768 Q251.366 176.939 251.366 182.356 Q251.366 187.934 247.894 191.036 Q244.421 194.115 238.102 194.115 Q235.926 194.115 233.658 193.745 Q231.412 193.374 229.005 192.634 L229.005 187.934 Q231.088 189.069 233.31 189.624 Q235.533 190.18 238.009 190.18 Q242.014 190.18 244.352 188.073 Q246.69 185.967 246.69 182.356 Q246.69 178.745 244.352 176.638 Q242.014 174.532 238.009 174.532 Q236.135 174.532 234.26 174.948 Q232.408 175.365 230.463 176.245 L230.463 158.884 Z\" fill=\"#000000\" fill-rule=\"nonzero\" fill-opacity=\"1\" /><path clip-path=\"url(#clip330)\" d=\"M16.4842 750.521 L16.4842 720.475 L21.895 720.475 L21.895 744.092 L35.9632 744.092 L35.9632 721.462 L41.3741 721.462 L41.3741 744.092 L58.5933 744.092 L58.5933 719.902 L64.0042 719.902 L64.0042 750.521 L16.4842 750.521 Z\" fill=\"#000000\" fill-rule=\"nonzero\" fill-opacity=\"1\" /><circle clip-path=\"url(#clip332)\" cx=\"345.82\" cy=\"1383.77\" r=\"14.4\" fill=\"#009af9\" fill-rule=\"evenodd\" fill-opacity=\"1\" stroke=\"#000000\" stroke-opacity=\"1\" stroke-width=\"3.2\"/>\n",
       "<circle clip-path=\"url(#clip332)\" cx=\"403.129\" cy=\"1383.77\" r=\"14.4\" fill=\"#009af9\" fill-rule=\"evenodd\" fill-opacity=\"1\" stroke=\"#000000\" stroke-opacity=\"1\" stroke-width=\"3.2\"/>\n",
       "<circle clip-path=\"url(#clip332)\" cx=\"460.437\" cy=\"1383.76\" r=\"14.4\" fill=\"#009af9\" fill-rule=\"evenodd\" fill-opacity=\"1\" stroke=\"#000000\" stroke-opacity=\"1\" stroke-width=\"3.2\"/>\n",
       "<circle clip-path=\"url(#clip332)\" cx=\"517.745\" cy=\"1383.76\" r=\"14.4\" fill=\"#009af9\" fill-rule=\"evenodd\" fill-opacity=\"1\" stroke=\"#000000\" stroke-opacity=\"1\" stroke-width=\"3.2\"/>\n",
       "<circle clip-path=\"url(#clip332)\" cx=\"575.053\" cy=\"1383.76\" r=\"14.4\" fill=\"#009af9\" fill-rule=\"evenodd\" fill-opacity=\"1\" stroke=\"#000000\" stroke-opacity=\"1\" stroke-width=\"3.2\"/>\n",
       "<circle clip-path=\"url(#clip332)\" cx=\"632.362\" cy=\"1383.76\" r=\"14.4\" fill=\"#009af9\" fill-rule=\"evenodd\" fill-opacity=\"1\" stroke=\"#000000\" stroke-opacity=\"1\" stroke-width=\"3.2\"/>\n",
       "<circle clip-path=\"url(#clip332)\" cx=\"689.67\" cy=\"1383.76\" r=\"14.4\" fill=\"#009af9\" fill-rule=\"evenodd\" fill-opacity=\"1\" stroke=\"#000000\" stroke-opacity=\"1\" stroke-width=\"3.2\"/>\n",
       "<circle clip-path=\"url(#clip332)\" cx=\"746.978\" cy=\"1383.76\" r=\"14.4\" fill=\"#009af9\" fill-rule=\"evenodd\" fill-opacity=\"1\" stroke=\"#000000\" stroke-opacity=\"1\" stroke-width=\"3.2\"/>\n",
       "<circle clip-path=\"url(#clip332)\" cx=\"804.286\" cy=\"1383.74\" r=\"14.4\" fill=\"#009af9\" fill-rule=\"evenodd\" fill-opacity=\"1\" stroke=\"#000000\" stroke-opacity=\"1\" stroke-width=\"3.2\"/>\n",
       "<circle clip-path=\"url(#clip332)\" cx=\"861.595\" cy=\"1383.74\" r=\"14.4\" fill=\"#009af9\" fill-rule=\"evenodd\" fill-opacity=\"1\" stroke=\"#000000\" stroke-opacity=\"1\" stroke-width=\"3.2\"/>\n",
       "<circle clip-path=\"url(#clip332)\" cx=\"918.903\" cy=\"1383.74\" r=\"14.4\" fill=\"#009af9\" fill-rule=\"evenodd\" fill-opacity=\"1\" stroke=\"#000000\" stroke-opacity=\"1\" stroke-width=\"3.2\"/>\n",
       "<circle clip-path=\"url(#clip332)\" cx=\"976.211\" cy=\"1383.74\" r=\"14.4\" fill=\"#009af9\" fill-rule=\"evenodd\" fill-opacity=\"1\" stroke=\"#000000\" stroke-opacity=\"1\" stroke-width=\"3.2\"/>\n",
       "<circle clip-path=\"url(#clip332)\" cx=\"1033.52\" cy=\"1383.73\" r=\"14.4\" fill=\"#009af9\" fill-rule=\"evenodd\" fill-opacity=\"1\" stroke=\"#000000\" stroke-opacity=\"1\" stroke-width=\"3.2\"/>\n",
       "<circle clip-path=\"url(#clip332)\" cx=\"1090.83\" cy=\"1383.73\" r=\"14.4\" fill=\"#009af9\" fill-rule=\"evenodd\" fill-opacity=\"1\" stroke=\"#000000\" stroke-opacity=\"1\" stroke-width=\"3.2\"/>\n",
       "<circle clip-path=\"url(#clip332)\" cx=\"1148.14\" cy=\"1383.72\" r=\"14.4\" fill=\"#009af9\" fill-rule=\"evenodd\" fill-opacity=\"1\" stroke=\"#000000\" stroke-opacity=\"1\" stroke-width=\"3.2\"/>\n",
       "<circle clip-path=\"url(#clip332)\" cx=\"1205.44\" cy=\"1383.72\" r=\"14.4\" fill=\"#009af9\" fill-rule=\"evenodd\" fill-opacity=\"1\" stroke=\"#000000\" stroke-opacity=\"1\" stroke-width=\"3.2\"/>\n",
       "<circle clip-path=\"url(#clip332)\" cx=\"1262.75\" cy=\"1352.22\" r=\"14.4\" fill=\"#009af9\" fill-rule=\"evenodd\" fill-opacity=\"1\" stroke=\"#000000\" stroke-opacity=\"1\" stroke-width=\"3.2\"/>\n",
       "<circle clip-path=\"url(#clip332)\" cx=\"1320.06\" cy=\"1352.22\" r=\"14.4\" fill=\"#009af9\" fill-rule=\"evenodd\" fill-opacity=\"1\" stroke=\"#000000\" stroke-opacity=\"1\" stroke-width=\"3.2\"/>\n",
       "<circle clip-path=\"url(#clip332)\" cx=\"1377.37\" cy=\"1352.19\" r=\"14.4\" fill=\"#009af9\" fill-rule=\"evenodd\" fill-opacity=\"1\" stroke=\"#000000\" stroke-opacity=\"1\" stroke-width=\"3.2\"/>\n",
       "<circle clip-path=\"url(#clip332)\" cx=\"1434.68\" cy=\"1352.19\" r=\"14.4\" fill=\"#009af9\" fill-rule=\"evenodd\" fill-opacity=\"1\" stroke=\"#000000\" stroke-opacity=\"1\" stroke-width=\"3.2\"/>\n",
       "<circle clip-path=\"url(#clip332)\" cx=\"1491.99\" cy=\"1352.19\" r=\"14.4\" fill=\"#009af9\" fill-rule=\"evenodd\" fill-opacity=\"1\" stroke=\"#000000\" stroke-opacity=\"1\" stroke-width=\"3.2\"/>\n",
       "<circle clip-path=\"url(#clip332)\" cx=\"1549.29\" cy=\"1352.19\" r=\"14.4\" fill=\"#009af9\" fill-rule=\"evenodd\" fill-opacity=\"1\" stroke=\"#000000\" stroke-opacity=\"1\" stroke-width=\"3.2\"/>\n",
       "<circle clip-path=\"url(#clip332)\" cx=\"1606.6\" cy=\"1352.16\" r=\"14.4\" fill=\"#009af9\" fill-rule=\"evenodd\" fill-opacity=\"1\" stroke=\"#000000\" stroke-opacity=\"1\" stroke-width=\"3.2\"/>\n",
       "<circle clip-path=\"url(#clip332)\" cx=\"1663.91\" cy=\"1352.16\" r=\"14.4\" fill=\"#009af9\" fill-rule=\"evenodd\" fill-opacity=\"1\" stroke=\"#000000\" stroke-opacity=\"1\" stroke-width=\"3.2\"/>\n",
       "<circle clip-path=\"url(#clip332)\" cx=\"1721.22\" cy=\"1351.85\" r=\"14.4\" fill=\"#009af9\" fill-rule=\"evenodd\" fill-opacity=\"1\" stroke=\"#000000\" stroke-opacity=\"1\" stroke-width=\"3.2\"/>\n",
       "<circle clip-path=\"url(#clip332)\" cx=\"1778.53\" cy=\"1351.85\" r=\"14.4\" fill=\"#009af9\" fill-rule=\"evenodd\" fill-opacity=\"1\" stroke=\"#000000\" stroke-opacity=\"1\" stroke-width=\"3.2\"/>\n",
       "<circle clip-path=\"url(#clip332)\" cx=\"1835.84\" cy=\"1351.81\" r=\"14.4\" fill=\"#009af9\" fill-rule=\"evenodd\" fill-opacity=\"1\" stroke=\"#000000\" stroke-opacity=\"1\" stroke-width=\"3.2\"/>\n",
       "<circle clip-path=\"url(#clip332)\" cx=\"1893.14\" cy=\"1351.81\" r=\"14.4\" fill=\"#009af9\" fill-rule=\"evenodd\" fill-opacity=\"1\" stroke=\"#000000\" stroke-opacity=\"1\" stroke-width=\"3.2\"/>\n",
       "<circle clip-path=\"url(#clip332)\" cx=\"1950.45\" cy=\"1351.81\" r=\"14.4\" fill=\"#009af9\" fill-rule=\"evenodd\" fill-opacity=\"1\" stroke=\"#000000\" stroke-opacity=\"1\" stroke-width=\"3.2\"/>\n",
       "<circle clip-path=\"url(#clip332)\" cx=\"2007.76\" cy=\"1351.81\" r=\"14.4\" fill=\"#009af9\" fill-rule=\"evenodd\" fill-opacity=\"1\" stroke=\"#000000\" stroke-opacity=\"1\" stroke-width=\"3.2\"/>\n",
       "<circle clip-path=\"url(#clip332)\" cx=\"2065.07\" cy=\"1351.77\" r=\"14.4\" fill=\"#009af9\" fill-rule=\"evenodd\" fill-opacity=\"1\" stroke=\"#000000\" stroke-opacity=\"1\" stroke-width=\"3.2\"/>\n",
       "<circle clip-path=\"url(#clip332)\" cx=\"2122.38\" cy=\"1351.77\" r=\"14.4\" fill=\"#009af9\" fill-rule=\"evenodd\" fill-opacity=\"1\" stroke=\"#000000\" stroke-opacity=\"1\" stroke-width=\"3.2\"/>\n",
       "<circle clip-path=\"url(#clip332)\" cx=\"2179.68\" cy=\"1346.97\" r=\"14.4\" fill=\"#009af9\" fill-rule=\"evenodd\" fill-opacity=\"1\" stroke=\"#000000\" stroke-opacity=\"1\" stroke-width=\"3.2\"/>\n",
       "<circle clip-path=\"url(#clip332)\" cx=\"2236.99\" cy=\"1346.97\" r=\"14.4\" fill=\"#009af9\" fill-rule=\"evenodd\" fill-opacity=\"1\" stroke=\"#000000\" stroke-opacity=\"1\" stroke-width=\"3.2\"/>\n",
       "<circle clip-path=\"url(#clip332)\" cx=\"2294.3\" cy=\"1346.96\" r=\"14.4\" fill=\"#009af9\" fill-rule=\"evenodd\" fill-opacity=\"1\" stroke=\"#000000\" stroke-opacity=\"1\" stroke-width=\"3.2\"/>\n",
       "</svg>\n"
      ]
     },
     "execution_count": 111,
     "metadata": {},
     "output_type": "execute_result"
    }
   ],
   "source": [
    "using Plots\n",
    "Plots.plot(1:35,E0,seriestype=:scatter,xlabel=\"n\",ylabel=\"E\",legend=false)\n",
    "#ylims!((-7.20544,-7.20536)) # Onur hocanın makalesinde ki FIG1 için sınırlar\n",
    "Plots.ylims!(( -10.35,-7.20536))"
   ]
  },
  {
   "cell_type": "markdown",
   "id": "aaca712c-b257-494d-bc14-71ded4bb8410",
   "metadata": {},
   "source": [
    "Allta ki fonksiyonun çalışması için, dizide ki filtre edilmiş parçacık sayısı her zaman en büyük değer de olmalıdır.\n",
    "Örneğin, `PN=[0,1,2,3,4]` iken filtre edilen parçacık sayısı `pn=4` olmalıdır!"
   ]
  },
  {
   "cell_type": "code",
   "execution_count": 26,
   "id": "d582d7a3-67c3-4775-bcb8-2862643ca5ac",
   "metadata": {
    "tags": []
   },
   "outputs": [
    {
     "data": {
      "text/plain": [
       "Restricted_Hubbard_States (generic function with 1 method)"
      ]
     },
     "execution_count": 26,
     "metadata": {},
     "output_type": "execute_result"
    }
   ],
   "source": [
    "function Restricted_Hubbard_States(states)\n",
    "    number_of_states = length(filtered_energies)\n",
    "    return states[1:number_of_states];\n",
    "end"
   ]
  },
  {
   "cell_type": "code",
   "execution_count": 27,
   "id": "da17cb7c-bc14-4026-adae-386b3b5b2083",
   "metadata": {
    "tags": []
   },
   "outputs": [],
   "source": [
    "r_hubbard_states = Restricted_Hubbard_States(V);\n",
    "r_hubbard_states_0 = Restricted_Hubbard_States(V0);"
   ]
  },
  {
   "cell_type": "markdown",
   "id": "14aea968-4016-4dc6-965b-e194bc4b4944",
   "metadata": {},
   "source": [
    "# Densities"
   ]
  },
  {
   "cell_type": "markdown",
   "id": "74774696-2ef4-47f5-a37a-99c049a241d4",
   "metadata": {},
   "source": [
    "<font size=\"4\">\n",
    "$<n_i>, \\quad \\text{i: site index}$\n",
    "</font>"
   ]
  },
  {
   "cell_type": "code",
   "execution_count": 28,
   "id": "36f916a4-68d4-4448-ac28-a27d6f24ce86",
   "metadata": {
    "tags": []
   },
   "outputs": [
    {
     "data": {
      "text/plain": [
       "0.056147989239729724 - 4.389882615309532e-19im"
      ]
     },
     "execution_count": 28,
     "metadata": {},
     "output_type": "execute_result"
    }
   ],
   "source": [
    "# METHOD 1\n",
    "\n",
    "NM_MB_Array_Storage = zeros(Complex{Float64},length(basis_cut_mb),length(basis_cut_mb),N);\n",
    "NM_MB_Matrix = zeros(Complex{Float64},length(basis_cut_mb),length(basis_cut_mb));\n",
    "for m in 1:N\n",
    "    for i in 1:length(basis_cut_mb)\n",
    "        for j in 1:length(basis_cut_mb)\n",
    "            #NM_MB_Matrix[i,j] = num_mb_list[m].data[i,j]\n",
    "            NM_MB_Matrix[i,j] = number_mb_list_operators[m].data[i,j]\n",
    "            # NOT: num_mb_list ile number_mb_list_operators bazları farklı ama içerikleri aynı!\n",
    "        end\n",
    "    end\n",
    "    NM_MB_Array_Storage[:,:,m] = NM_MB_Matrix\n",
    "end\n",
    "\n",
    "BL = BR = basis_cut_mb\n",
    "index_number_op = 4\n",
    "T = NM_MB_Array_Storage[:,:,index_number_op]\n",
    "Op = Operator(BL,BR,T)\n",
    "index_eigen_states = 1\n",
    "expect(Op, r_hubbard_states[index_eigen_states])\n",
    "expect(Op, r_hubbard_states_0[index_eigen_states])\n",
    "\n",
    "#or\n",
    "# expect(number_mb_list_operators[index_number_op],r_hubbard_states[index_eigen_states])"
   ]
  },
  {
   "cell_type": "markdown",
   "id": "de16c359-2839-4b2f-8f23-eb528631279b",
   "metadata": {},
   "source": [
    "<font size=\"4\">\n",
    "$\\sum_{i} <\\psi_j|n_j|\\psi_j>, \\quad \\text{for a given j index}$\n",
    "</font>"
   ]
  },
  {
   "cell_type": "code",
   "execution_count": 114,
   "id": "76f88a82-5b2a-42be-8493-09d88c08e621",
   "metadata": {
    "tags": []
   },
   "outputs": [
    {
     "data": {
      "text/plain": [
       "80-element Vector{Float64}:\n",
       " 0.04897975754606998\n",
       " 0.05283610960700737\n",
       " 0.059204140591718545\n",
       " 0.06331547289550829\n",
       " 0.05920414059129104\n",
       " 0.05283610960624559\n",
       " 0.0489797575452305\n",
       " 0.04864334686942337\n",
       " 0.035986391170550365\n",
       " 0.03798489998228845\n",
       " 0.041807089776743286\n",
       " 0.04443260436323079\n",
       " 0.04180708978026039\n",
       " ⋮\n",
       " 0.02893256010480624\n",
       " 0.0318041628444072\n",
       " 0.03423895356934607\n",
       " 0.03474700910158761\n",
       " 0.03598639116486954\n",
       " 0.0379848999810002\n",
       " 0.04180708978035307\n",
       " 0.04443260436345958\n",
       " 0.041807089776192234\n",
       " 0.037984899980668285\n",
       " 0.03598639116818403\n",
       " 0.03595696046175254"
      ]
     },
     "execution_count": 114,
     "metadata": {},
     "output_type": "execute_result"
    }
   ],
   "source": [
    "index_eig_states = 1\n",
    "\n",
    "function get_density_profiles(NM_MB_Array_Storage, r_hubbard_states, index_eig_states)\n",
    "    Sum = 0\n",
    "    expect_list=[]\n",
    "    for i in 1:N\n",
    "        T = NM_MB_Array_Storage[:,:,i]\n",
    "        Op = Operator(BL,BR,T)   \n",
    "        Sum += expect(Op, r_hubbard_states[index_eig_states])\n",
    "        push!(expect_list, expect(Op, r_hubbard_states[index_eig_states]))\n",
    "    end\n",
    "    return real(expect_list)\n",
    "end\n",
    "\n",
    "get_density_profiles(NM_MB_Array_Storage,r_hubbard_states, index_eig_states)"
   ]
  },
  {
   "cell_type": "code",
   "execution_count": 54,
   "id": "7e265d52-5561-45ed-a86d-8590314b2135",
   "metadata": {
    "tags": []
   },
   "outputs": [
    {
     "data": {
      "text/plain": [
       "80-element Vector{Float64}:\n",
       " 0.05611713798420365\n",
       " 0.056147989239164406\n",
       " 0.056117137984526055\n",
       " 0.056147989239729724\n",
       " 0.05611713798498152\n",
       " 0.0561479892397028\n",
       " 0.05611713798460368\n",
       " 0.05614798923914976\n",
       " 0.03029494245975348\n",
       " 0.030346126350135602\n",
       " 0.030294942460086436\n",
       " 0.03034612635082191\n",
       " 0.030294942460743476\n",
       " ⋮\n",
       " 0.01328948786301101\n",
       " 0.013376353262706395\n",
       " 0.013289487863601302\n",
       " 0.01337635326366607\n",
       " 0.030294942460338207\n",
       " 0.030346126350629513\n",
       " 0.03029494246020052\n",
       " 0.030346126350530817\n",
       " 0.03029494246014465\n",
       " 0.030346126350380215\n",
       " 0.03029494246021734\n",
       " 0.03034612635057496"
      ]
     },
     "execution_count": 54,
     "metadata": {},
     "output_type": "execute_result"
    }
   ],
   "source": [
    "get_density_profiles(NM_MB_Array_Storage,r_hubbard_states_0, index_eig_states)"
   ]
  },
  {
   "cell_type": "code",
   "execution_count": 172,
   "id": "879026ac-6676-41fd-b974-8d6d894c6f67",
   "metadata": {
    "tags": []
   },
   "outputs": [
    {
     "data": {
      "text/plain": [
       "8×10 Matrix{Float64}:\n",
       " 0.0375436  0.0375136  0.0374646  …  0.0374646  0.0374646  0.0375136\n",
       " 0.0375436  0.0375136  0.0374646     0.0374646  0.0374646  0.0375136\n",
       " 0.0375436  0.0375136  0.0374646     0.0374646  0.0374646  0.0375136\n",
       " 0.0375436  0.0375136  0.0374646     0.0374646  0.0374646  0.0375136\n",
       " 0.0375436  0.0375136  0.0374646     0.0374646  0.0374646  0.0375136\n",
       " 0.0375436  0.0375136  0.0374646  …  0.0374646  0.0374646  0.0375136\n",
       " 0.0375436  0.0375136  0.0374646     0.0374646  0.0374646  0.0375136\n",
       " 0.0375436  0.0375136  0.0374646     0.0374646  0.0374646  0.0375136"
      ]
     },
     "execution_count": 172,
     "metadata": {},
     "output_type": "execute_result"
    }
   ],
   "source": [
    "# ORTALAMA:\n",
    "\n",
    "Degeneracy = 7\n",
    "\n",
    "avg_density = zeros((Nx,Ny)) \n",
    "for index_eig_states in 1:Degeneracy\n",
    "    avg_density += reshape(get_density_profiles(NM_MB_Array_Storage, r_hubbard_states, index_eig_states),Nx,Ny)\n",
    "end    \n",
    "avg_density = avg_density / Degeneracy;\n",
    "\n",
    "Degeneracy_0 = 16\n",
    "\n",
    "avg_density_0 = zeros((Nx,Ny))\n",
    "for index_eig_states in 1:Degeneracy_0\n",
    "    avg_density_0 += reshape(get_density_profiles(NM_MB_Array_Storage, r_hubbard_states_0, index_eig_states),Nx,Ny)\n",
    "end    \n",
    "avg_density_0 = avg_density_0 / Degeneracy_0"
   ]
  },
  {
   "cell_type": "markdown",
   "id": "f04f7003-79d5-4ce7-b9f8-dfd66834d93d",
   "metadata": {},
   "source": [
    "# Density Heat-Maps"
   ]
  },
  {
   "cell_type": "code",
   "execution_count": 125,
   "id": "f817d7b8-29d5-4708-bd7d-c784e6be59ec",
   "metadata": {
    "tags": []
   },
   "outputs": [
    {
     "data": {
      "image/svg+xml": [
       "<?xml version=\"1.0\" encoding=\"utf-8\"?>\n",
       "<svg xmlns=\"http://www.w3.org/2000/svg\" xmlns:xlink=\"http://www.w3.org/1999/xlink\" width=\"600\" height=\"400\" viewBox=\"0 0 2400 1600\">\n",
       "<defs>\n",
       "  <clipPath id=\"clip450\">\n",
       "    <rect x=\"0\" y=\"0\" width=\"2400\" height=\"1600\"/>\n",
       "  </clipPath>\n",
       "</defs>\n",
       "<path clip-path=\"url(#clip450)\" d=\"M0 1600 L2400 1600 L2400 0 L0 0  Z\" fill=\"#ffffff\" fill-rule=\"evenodd\" fill-opacity=\"1\"/>\n",
       "<defs>\n",
       "  <clipPath id=\"clip451\">\n",
       "    <rect x=\"480\" y=\"0\" width=\"1681\" height=\"1600\"/>\n",
       "  </clipPath>\n",
       "</defs>\n",
       "<path clip-path=\"url(#clip450)\" d=\"M175.445 1423.18 L2112.76 1423.18 L2112.76 47.2441 L175.445 47.2441  Z\" fill=\"#ffffff\" fill-rule=\"evenodd\" fill-opacity=\"1\"/>\n",
       "<defs>\n",
       "  <clipPath id=\"clip452\">\n",
       "    <rect x=\"175\" y=\"47\" width=\"1938\" height=\"1377\"/>\n",
       "  </clipPath>\n",
       "</defs>\n",
       "<polyline clip-path=\"url(#clip452)\" style=\"stroke:#000000; stroke-linecap:round; stroke-linejoin:round; stroke-width:2; stroke-opacity:0.1; fill:none\" points=\"466.042,1423.18 466.042,47.2441 \"/>\n",
       "<polyline clip-path=\"url(#clip452)\" style=\"stroke:#000000; stroke-linecap:round; stroke-linejoin:round; stroke-width:2; stroke-opacity:0.1; fill:none\" points=\"853.504,1423.18 853.504,47.2441 \"/>\n",
       "<polyline clip-path=\"url(#clip452)\" style=\"stroke:#000000; stroke-linecap:round; stroke-linejoin:round; stroke-width:2; stroke-opacity:0.1; fill:none\" points=\"1240.97,1423.18 1240.97,47.2441 \"/>\n",
       "<polyline clip-path=\"url(#clip452)\" style=\"stroke:#000000; stroke-linecap:round; stroke-linejoin:round; stroke-width:2; stroke-opacity:0.1; fill:none\" points=\"1628.43,1423.18 1628.43,47.2441 \"/>\n",
       "<polyline clip-path=\"url(#clip452)\" style=\"stroke:#000000; stroke-linecap:round; stroke-linejoin:round; stroke-width:2; stroke-opacity:0.1; fill:none\" points=\"2015.89,1423.18 2015.89,47.2441 \"/>\n",
       "<polyline clip-path=\"url(#clip450)\" style=\"stroke:#000000; stroke-linecap:round; stroke-linejoin:round; stroke-width:4; stroke-opacity:1; fill:none\" points=\"175.445,1423.18 2112.76,1423.18 \"/>\n",
       "<polyline clip-path=\"url(#clip450)\" style=\"stroke:#000000; stroke-linecap:round; stroke-linejoin:round; stroke-width:4; stroke-opacity:1; fill:none\" points=\"466.042,1423.18 466.042,1404.28 \"/>\n",
       "<polyline clip-path=\"url(#clip450)\" style=\"stroke:#000000; stroke-linecap:round; stroke-linejoin:round; stroke-width:4; stroke-opacity:1; fill:none\" points=\"853.504,1423.18 853.504,1404.28 \"/>\n",
       "<polyline clip-path=\"url(#clip450)\" style=\"stroke:#000000; stroke-linecap:round; stroke-linejoin:round; stroke-width:4; stroke-opacity:1; fill:none\" points=\"1240.97,1423.18 1240.97,1404.28 \"/>\n",
       "<polyline clip-path=\"url(#clip450)\" style=\"stroke:#000000; stroke-linecap:round; stroke-linejoin:round; stroke-width:4; stroke-opacity:1; fill:none\" points=\"1628.43,1423.18 1628.43,1404.28 \"/>\n",
       "<polyline clip-path=\"url(#clip450)\" style=\"stroke:#000000; stroke-linecap:round; stroke-linejoin:round; stroke-width:4; stroke-opacity:1; fill:none\" points=\"2015.89,1423.18 2015.89,1404.28 \"/>\n",
       "<path clip-path=\"url(#clip450)\" d=\"M460.695 1481.64 L477.014 1481.64 L477.014 1485.58 L455.07 1485.58 L455.07 1481.64 Q457.732 1478.89 462.315 1474.26 Q466.921 1469.61 468.102 1468.27 Q470.347 1465.74 471.227 1464.01 Q472.13 1462.25 472.13 1460.56 Q472.13 1457.8 470.185 1456.07 Q468.264 1454.33 465.162 1454.33 Q462.963 1454.33 460.509 1455.09 Q458.079 1455.86 455.301 1457.41 L455.301 1452.69 Q458.125 1451.55 460.579 1450.97 Q463.033 1450.39 465.07 1450.39 Q470.44 1450.39 473.634 1453.08 Q476.829 1455.77 476.829 1460.26 Q476.829 1462.39 476.019 1464.31 Q475.232 1466.2 473.125 1468.8 Q472.546 1469.47 469.445 1472.69 Q466.343 1475.88 460.695 1481.64 Z\" fill=\"#000000\" fill-rule=\"nonzero\" fill-opacity=\"1\" /><path clip-path=\"url(#clip450)\" d=\"M856.513 1455.09 L844.708 1473.54 L856.513 1473.54 L856.513 1455.09 M855.286 1451.02 L861.166 1451.02 L861.166 1473.54 L866.096 1473.54 L866.096 1477.43 L861.166 1477.43 L861.166 1485.58 L856.513 1485.58 L856.513 1477.43 L840.911 1477.43 L840.911 1472.92 L855.286 1451.02 Z\" fill=\"#000000\" fill-rule=\"nonzero\" fill-opacity=\"1\" /><path clip-path=\"url(#clip450)\" d=\"M1241.37 1466.44 Q1238.22 1466.44 1236.37 1468.59 Q1234.54 1470.74 1234.54 1474.49 Q1234.54 1478.22 1236.37 1480.39 Q1238.22 1482.55 1241.37 1482.55 Q1244.52 1482.55 1246.35 1480.39 Q1248.2 1478.22 1248.2 1474.49 Q1248.2 1470.74 1246.35 1468.59 Q1244.52 1466.44 1241.37 1466.44 M1250.65 1451.78 L1250.65 1456.04 Q1248.89 1455.21 1247.09 1454.77 Q1245.31 1454.33 1243.55 1454.33 Q1238.92 1454.33 1236.46 1457.45 Q1234.03 1460.58 1233.69 1466.9 Q1235.05 1464.89 1237.11 1463.82 Q1239.17 1462.73 1241.65 1462.73 Q1246.86 1462.73 1249.87 1465.9 Q1252.9 1469.05 1252.9 1474.49 Q1252.9 1479.82 1249.75 1483.03 Q1246.6 1486.25 1241.37 1486.25 Q1235.38 1486.25 1232.2 1481.67 Q1229.03 1477.06 1229.03 1468.33 Q1229.03 1460.14 1232.92 1455.28 Q1236.81 1450.39 1243.36 1450.39 Q1245.12 1450.39 1246.9 1450.74 Q1248.71 1451.09 1250.65 1451.78 Z\" fill=\"#000000\" fill-rule=\"nonzero\" fill-opacity=\"1\" /><path clip-path=\"url(#clip450)\" d=\"M1628.43 1469.17 Q1625.09 1469.17 1623.17 1470.95 Q1621.28 1472.73 1621.28 1475.86 Q1621.28 1478.98 1623.17 1480.77 Q1625.09 1482.55 1628.43 1482.55 Q1631.76 1482.55 1633.68 1480.77 Q1635.6 1478.96 1635.6 1475.86 Q1635.6 1472.73 1633.68 1470.95 Q1631.78 1469.17 1628.43 1469.17 M1623.75 1467.18 Q1620.74 1466.44 1619.05 1464.38 Q1617.39 1462.32 1617.39 1459.35 Q1617.39 1455.21 1620.33 1452.8 Q1623.29 1450.39 1628.43 1450.39 Q1633.59 1450.39 1636.53 1452.8 Q1639.47 1455.21 1639.47 1459.35 Q1639.47 1462.32 1637.78 1464.38 Q1636.11 1466.44 1633.13 1467.18 Q1636.51 1467.96 1638.38 1470.26 Q1640.28 1472.55 1640.28 1475.86 Q1640.28 1480.88 1637.2 1483.57 Q1634.15 1486.25 1628.43 1486.25 Q1622.71 1486.25 1619.63 1483.57 Q1616.58 1480.88 1616.58 1475.86 Q1616.58 1472.55 1618.47 1470.26 Q1620.37 1467.96 1623.75 1467.18 M1622.04 1459.79 Q1622.04 1462.48 1623.71 1463.98 Q1625.4 1465.49 1628.43 1465.49 Q1631.44 1465.49 1633.13 1463.98 Q1634.84 1462.48 1634.84 1459.79 Q1634.84 1457.11 1633.13 1455.6 Q1631.44 1454.1 1628.43 1454.1 Q1625.4 1454.1 1623.71 1455.6 Q1622.04 1457.11 1622.04 1459.79 Z\" fill=\"#000000\" fill-rule=\"nonzero\" fill-opacity=\"1\" /><path clip-path=\"url(#clip450)\" d=\"M1990.58 1481.64 L1998.22 1481.64 L1998.22 1455.28 L1989.91 1456.95 L1989.91 1452.69 L1998.17 1451.02 L2002.85 1451.02 L2002.85 1481.64 L2010.49 1481.64 L2010.49 1485.58 L1990.58 1485.58 L1990.58 1481.64 Z\" fill=\"#000000\" fill-rule=\"nonzero\" fill-opacity=\"1\" /><path clip-path=\"url(#clip450)\" d=\"M2029.93 1454.1 Q2026.32 1454.1 2024.49 1457.66 Q2022.68 1461.2 2022.68 1468.33 Q2022.68 1475.44 2024.49 1479.01 Q2026.32 1482.55 2029.93 1482.55 Q2033.56 1482.55 2035.37 1479.01 Q2037.2 1475.44 2037.2 1468.33 Q2037.2 1461.2 2035.37 1457.66 Q2033.56 1454.1 2029.93 1454.1 M2029.93 1450.39 Q2035.74 1450.39 2038.8 1455 Q2041.87 1459.58 2041.87 1468.33 Q2041.87 1477.06 2038.8 1481.67 Q2035.74 1486.25 2029.93 1486.25 Q2024.12 1486.25 2021.04 1481.67 Q2017.99 1477.06 2017.99 1468.33 Q2017.99 1459.58 2021.04 1455 Q2024.12 1450.39 2029.93 1450.39 Z\" fill=\"#000000\" fill-rule=\"nonzero\" fill-opacity=\"1\" /><path clip-path=\"url(#clip450)\" d=\"M1160.72 1532.4 L1147.82 1549.74 L1161.38 1568.04 L1154.48 1568.04 L1144.1 1554.04 L1133.72 1568.04 L1126.82 1568.04 L1140.66 1549.39 L1128 1532.4 L1134.9 1532.4 L1144.36 1545.1 L1153.81 1532.4 L1160.72 1532.4 Z\" fill=\"#000000\" fill-rule=\"nonzero\" fill-opacity=\"1\" /><polyline clip-path=\"url(#clip452)\" style=\"stroke:#000000; stroke-linecap:round; stroke-linejoin:round; stroke-width:2; stroke-opacity:0.1; fill:none\" points=\"175.445,1165.19 2112.76,1165.19 \"/>\n",
       "<polyline clip-path=\"url(#clip452)\" style=\"stroke:#000000; stroke-linecap:round; stroke-linejoin:round; stroke-width:2; stroke-opacity:0.1; fill:none\" points=\"175.445,821.208 2112.76,821.208 \"/>\n",
       "<polyline clip-path=\"url(#clip452)\" style=\"stroke:#000000; stroke-linecap:round; stroke-linejoin:round; stroke-width:2; stroke-opacity:0.1; fill:none\" points=\"175.445,477.224 2112.76,477.224 \"/>\n",
       "<polyline clip-path=\"url(#clip452)\" style=\"stroke:#000000; stroke-linecap:round; stroke-linejoin:round; stroke-width:2; stroke-opacity:0.1; fill:none\" points=\"175.445,133.24 2112.76,133.24 \"/>\n",
       "<polyline clip-path=\"url(#clip450)\" style=\"stroke:#000000; stroke-linecap:round; stroke-linejoin:round; stroke-width:4; stroke-opacity:1; fill:none\" points=\"175.445,1423.18 175.445,47.2441 \"/>\n",
       "<polyline clip-path=\"url(#clip450)\" style=\"stroke:#000000; stroke-linecap:round; stroke-linejoin:round; stroke-width:4; stroke-opacity:1; fill:none\" points=\"175.445,1165.19 192.26,1165.19 \"/>\n",
       "<polyline clip-path=\"url(#clip450)\" style=\"stroke:#000000; stroke-linecap:round; stroke-linejoin:round; stroke-width:4; stroke-opacity:1; fill:none\" points=\"175.445,821.208 192.26,821.208 \"/>\n",
       "<polyline clip-path=\"url(#clip450)\" style=\"stroke:#000000; stroke-linecap:round; stroke-linejoin:round; stroke-width:4; stroke-opacity:1; fill:none\" points=\"175.445,477.224 192.26,477.224 \"/>\n",
       "<polyline clip-path=\"url(#clip450)\" style=\"stroke:#000000; stroke-linecap:round; stroke-linejoin:round; stroke-width:4; stroke-opacity:1; fill:none\" points=\"175.445,133.24 192.26,133.24 \"/>\n",
       "<path clip-path=\"url(#clip450)\" d=\"M123.126 1178.54 L139.445 1178.54 L139.445 1182.47 L117.501 1182.47 L117.501 1178.54 Q120.163 1175.78 124.746 1171.15 Q129.353 1166.5 130.533 1165.16 Q132.779 1162.63 133.658 1160.9 Q134.561 1159.14 134.561 1157.45 Q134.561 1154.69 132.617 1152.96 Q130.695 1151.22 127.593 1151.22 Q125.394 1151.22 122.941 1151.99 Q120.51 1152.75 117.732 1154.3 L117.732 1149.58 Q120.556 1148.44 123.01 1147.87 Q125.464 1147.29 127.501 1147.29 Q132.871 1147.29 136.066 1149.97 Q139.26 1152.66 139.26 1157.15 Q139.26 1159.28 138.45 1161.2 Q137.663 1163.1 135.556 1165.69 Q134.978 1166.36 131.876 1169.58 Q128.774 1172.77 123.126 1178.54 Z\" fill=\"#000000\" fill-rule=\"nonzero\" fill-opacity=\"1\" /><path clip-path=\"url(#clip450)\" d=\"M129.862 808.002 L118.056 826.451 L129.862 826.451 L129.862 808.002 M128.635 803.928 L134.515 803.928 L134.515 826.451 L139.445 826.451 L139.445 830.34 L134.515 830.34 L134.515 838.488 L129.862 838.488 L129.862 830.34 L114.26 830.34 L114.26 825.826 L128.635 803.928 Z\" fill=\"#000000\" fill-rule=\"nonzero\" fill-opacity=\"1\" /><path clip-path=\"url(#clip450)\" d=\"M127.917 475.361 Q124.769 475.361 122.918 477.513 Q121.089 479.666 121.089 483.416 Q121.089 487.143 122.918 489.319 Q124.769 491.472 127.917 491.472 Q131.066 491.472 132.894 489.319 Q134.746 487.143 134.746 483.416 Q134.746 479.666 132.894 477.513 Q131.066 475.361 127.917 475.361 M137.2 460.708 L137.2 464.967 Q135.441 464.134 133.635 463.694 Q131.853 463.254 130.093 463.254 Q125.464 463.254 123.01 466.379 Q120.58 469.504 120.232 475.824 Q121.598 473.81 123.658 472.745 Q125.718 471.657 128.195 471.657 Q133.404 471.657 136.413 474.828 Q139.445 477.976 139.445 483.416 Q139.445 488.74 136.297 491.958 Q133.149 495.175 127.917 495.175 Q121.922 495.175 118.751 490.592 Q115.58 485.986 115.58 477.259 Q115.58 469.064 119.468 464.203 Q123.357 459.319 129.908 459.319 Q131.667 459.319 133.45 459.666 Q135.255 460.013 137.2 460.708 Z\" fill=\"#000000\" fill-rule=\"nonzero\" fill-opacity=\"1\" /><path clip-path=\"url(#clip450)\" d=\"M127.593 134.108 Q124.26 134.108 122.339 135.891 Q120.441 137.673 120.441 140.798 Q120.441 143.923 122.339 145.705 Q124.26 147.488 127.593 147.488 Q130.927 147.488 132.848 145.705 Q134.769 143.9 134.769 140.798 Q134.769 137.673 132.848 135.891 Q130.95 134.108 127.593 134.108 M122.918 132.117 Q119.908 131.377 118.218 129.316 Q116.552 127.256 116.552 124.293 Q116.552 120.15 119.492 117.742 Q122.455 115.335 127.593 115.335 Q132.755 115.335 135.695 117.742 Q138.635 120.15 138.635 124.293 Q138.635 127.256 136.945 129.316 Q135.279 131.377 132.292 132.117 Q135.672 132.904 137.547 135.196 Q139.445 137.488 139.445 140.798 Q139.445 145.821 136.367 148.506 Q133.311 151.191 127.593 151.191 Q121.876 151.191 118.797 148.506 Q115.742 145.821 115.742 140.798 Q115.742 137.488 117.64 135.196 Q119.538 132.904 122.918 132.117 M121.205 124.733 Q121.205 127.418 122.871 128.923 Q124.561 130.428 127.593 130.428 Q130.603 130.428 132.292 128.923 Q134.005 127.418 134.005 124.733 Q134.005 122.048 132.292 120.543 Q130.603 119.039 127.593 119.039 Q124.561 119.039 122.871 120.543 Q121.205 122.048 121.205 124.733 Z\" fill=\"#000000\" fill-rule=\"nonzero\" fill-opacity=\"1\" /><path clip-path=\"url(#clip450)\" d=\"M67.3143 733.525 Q73.68 736.008 75.6216 738.363 Q77.5631 740.718 77.5631 744.665 L77.5631 749.344 L72.6615 749.344 L72.6615 745.906 Q72.6615 743.487 71.5157 742.151 Q70.3699 740.814 66.1048 739.191 L63.4312 738.14 L28.3562 752.559 L28.3562 746.352 L56.238 735.212 L28.3562 724.072 L28.3562 717.865 L67.3143 733.525 Z\" fill=\"#000000\" fill-rule=\"nonzero\" fill-opacity=\"1\" /><g clip-path=\"url(#clip452)\">\n",
       "<image width=\"1937\" height=\"1376\" xlink:href=\"data:image/png;base64,\n",
       "iVBORw0KGgoAAAANSUhEUgAAB5EAAAVgCAYAAABmFaq7AAAgAElEQVR4nOzbPW+OYRyH4b49SpGq\n",
       "YrPZLNImTBKrD+iLmIwGCwkSicTEJhEqT7xV07Rs51f4N+lxfILfdt/Xfd7X6vGTC/9W4Jz78PTh\n",
       "9AQYd3S8mJ4A4+4+ejk9AUYt9i9OT4B5JyfTC2De+vr0Ahh1/Prv9AQY9/75g+kJMG5zcTw9AUat\n",
       "TQ8AAAAAAAAA4OwQkQEAAAAAAACIiAwAAAAAAABARGQAAAAAAAAAIiIDAAAAAAAAEBEZAAAAAAAA\n",
       "gIjIAAAAAAAAAEREBgAAAAAAACAiMgAAAAAAAAARkQEAAAAAAACIiAwAAAAAAABARGQAAAAAAAAA\n",
       "IiIDAAAAAAAAEBEZAAAAAAAAgIjIAAAAAAAAAEREBgAAAAAAACAiMgAAAAAAAAARkQEAAAAAAACI\n",
       "iAwAAAAAAABARGQAAAAAAAAAIiIDAAAAAAAAEBEZAAAAAAAAgIjIAAAAAAAAAEREBgAAAAAAACAi\n",
       "MgAAAAAAAAARkQEAAAAAAACIiAwAAAAAAABARGQAAAAAAAAAIiIDAAAAAAAAEBEZAAAAAAAAgIjI\n",
       "AAAAAAAAAEREBgAAAAAAACAiMgAAAAAAAAARkQEAAAAAAACIiAwAAAAAAABARGQAAAAAAAAAIiID\n",
       "AAAAAAAAEBEZAAAAAAAAgIjIAAAAAAAAAEREBgAAAAAAACAiMgAAAAAAAAARkQEAAAAAAACIiAwA\n",
       "AAAAAABARGQAAAAAAAAAIiIDAAAAAAAAEBEZAAAAAAAAgIjIAAAAAAAAAEREBgAAAAAAACAiMgAA\n",
       "AAAAAAARkQEAAAAAAACIiAwAAAAAAABARGQAAAAAAAAAIiIDAAAAAAAAEBEZAAAAAAAAgIjIAAAA\n",
       "AAAAAEREBgAAAAAAACAiMgAAAAAAAAARkQEAAAAAAACIiAwAAAAAAABARGQAAAAAAAAAIiIDAAAA\n",
       "AAAAEBEZAAAAAAAAgIjIAAAAAAAAAEREBgAAAAAAACAiMgAAAAAAAAARkQEAAAAAAACIiAwAAAAA\n",
       "AABARGQAAAAAAAAAIiIDAAAAAAAAEBEZAAAAAAAAgIjIAAAAAAAAAEREBgAAAAAAACAiMgAAAAAA\n",
       "AAARkQEAAAAAAACIiAwAAAAAAABARGQAAAAAAAAAIiIDAAAAAAAAEBEZAAAAAAAAgIjIAAAAAAAA\n",
       "AEREBgAAAAAAACAiMgAAAAAAAAARkQEAAAAAAACIiAwAAAAAAABARGQAAAAAAAAAIiIDAAAAAAAA\n",
       "EBEZAAAAAAAAgIjIAAAAAAAAAEREBgAAAAAAACAiMgAAAAAAAAARkQEAAAAAAACIiAwAAAAAAABA\n",
       "RGQAAAAAAAAAIiIDAAAAAAAAEBEZAAAAAAAAgIjIAAAAAAAAAEREBgAAAAAAACAiMgAAAAAAAAAR\n",
       "kQEAAAAAAACIiAwAAAAAAABARGQAAAAAAAAAIiIDAAAAAAAAEBEZAAAAAAAAgIjIAAAAAAAAAERE\n",
       "BgAAAAAAACAiMgAAAAAAAAARkQEAAAAAAACIiAwAAAAAAABARGQAAAAAAAAAIiIDAAAAAAAAEBEZ\n",
       "AAAAAAAAgIjIAAAAAAAAAEREBgAAAAAAACAiMgAAAAAAAAARkQEAAAAAAACIiAwAAAAAAABARGQA\n",
       "AAAAAAAAIiIDAAAAAAAAEBEZAAAAAAAAgIjIAAAAAAAAAEREBgAAAAAAACAiMgAAAAAAAAARkQEA\n",
       "AAAAAACIiAwAAAAAAABARGQAAAAAAAAAIiIDAAAAAAAAEBEZAAAAAAAAgIjIAAAAAAAAAEREBgAA\n",
       "AAAAACAiMgAAAAAAAAARkQEAAAAAAACIiAwAAAAAAABARGQAAAAAAAAAIiIDAAAAAAAAEBEZAAAA\n",
       "AAAAgIjIAAAAAAAAAEREBgAAAAAAACAiMgAAAAAAAAARkQEAAAAAAACIiAwAAAAAAABARGQAAAAA\n",
       "AAAAIiIDAAAAAAAAEBEZAAAAAAAAgIjIAAAAAAAAAEREBgAAAAAAACAiMgAAAAAAAAARkQEAAAAA\n",
       "AACIiAwAAAAAAABARGQAAAAAAAAAIiIDAAAAAAAAEBEZAAAAAAAAgIjIAAAAAAAAAEREBgAAAAAA\n",
       "ACAiMgAAAAAAAAARkQEAAAAAAACIiAwAAAAAAABARGQAAAAAAAAAIiIDAAAAAAAAEBEZAAAAAAAA\n",
       "gIjIAAAAAAAAAEREBgAAAAAAACAiMgAAAAAAAAARkQEAAAAAAACIiAwAAAAAAABARGQAAAAAAAAA\n",
       "IiIDAAAAAAAAEBEZAAAAAAAAgIjIAAAAAAAAAEREBgAAAAAAACAiMgAAAAAAAAARkQEAAAAAAACI\n",
       "iAwAAAAAAABANlbWpycAcBacnvqvCFYXJ9MTYNTJ9VvTE2DemkMyrJx6J+J8W118mp4A43wnAsCT\n",
       "AAAAAAAAAICIyAAAAAAAAABERAYAAAAAAAAgIjIAAAAAAAAAEZEBAAAAAAAAiIgMAAAAAAAAQERk\n",
       "AAAAAAAAACIiAwAAAAAAABARGQAAAAAAAICIyAAAAAAAAABERAYAAAAAAAAgIjIAAAAAAAAAEZEB\n",
       "AAAAAAAAiIgMAAAAAAAAQERkAAAAAAAAACIiAwAAAAAAABARGQAAAAAAAICIyAAAAAAAAABERAYA\n",
       "AAAAAAAgIjIAAAAAAAAAEZEBAAAAAAAAiIgMAAAAAAAAQERkAAAAAAAAACIiAwAAAAAAABARGQAA\n",
       "AAAAAICIyAAAAAAAAABERAYAAAAAAAAgIjIAAAAAAAAAEZEBAAAAAAAAiIgMAAAAAAAAQERkAAAA\n",
       "AAAAACIiAwAAAAAAABARGQAAAAAAAICIyAAAAAAAAABERAYAAAAAAAAgIjIAAAAAAAAAEZEBAAAA\n",
       "AAAAiIgMAAAAAAAAQERkAAAAAAAAACIiAwAAAAAAABARGQAAAAAAAICIyAAAAAAAAABERAYAAAAA\n",
       "AAAgIjIAAAAAAAAAEZEBAAAAAAAAiIgMAAAAAAAAQERkAAAAAAAAACIiAwAAAAAAABARGQAAAAAA\n",
       "AICIyAAAAAAAAABERAYAAAAAAAAgIjIAAAAAAAAAEZEBAAAAAAAAiIgMAAAAAAAAQERkAAAAAAAA\n",
       "ACIiAwAAAAAAABARGQAAAAAAAICIyAAAAAAAAABERAYAAAAAAAAgIjIAAAAAAAAAEZEBAAAAAAAA\n",
       "iIgMAAAAAAAAQERkAAAAAAAAACIiAwAAAAAAABARGQAAAAAAAICIyAAAAAAAAABERAYAAAAAAAAg\n",
       "IjIAAAAAAAAAEZEBAAAAAAAAiIgMAAAAAAAAQERkAAAAAAAAACIiAwAAAAAAABARGQAAAAAAAICI\n",
       "yAAAAAAAAABERAYAAAAAAAAgIjIAAAAAAAAAEZEBAAAAAAAAiIgMAAAAAAAAQERkAAAAAAAAACIi\n",
       "AwAAAAAAABARGQAAAAAAAICIyAAAAAAAAABERAYAAAAAAAAgIjIAAAAAAAAAEZEBAAAAAAAAiIgM\n",
       "AAAAAAAAQERkAAAAAAAAACIiAwAAAAAAABARGQAAAAAAAICIyAAAAAAAAABERAYAAAAAAAAgIjIA\n",
       "AAAAAAAAEZEBAAAAAAAAiIgMAAAAAAAAQERkAAAAAAAAACIiAwAAAAAAABARGQAAAAAAAICIyAAA\n",
       "AAAAAABERAYAAAAAAAAgIjIAAAAAAAAAEZEBAAAAAAAAiIgMAAAAAAAAQERkAAAAAAAAACIiAwAA\n",
       "AAAAABARGQAAAAAAAICIyAAAAAAAAABERAYAAAAAAAAgIjIAAAAAAAAAEZEBAAAAAAAAiIgMAAAA\n",
       "AAAAQERkAAAAAAAAACIiAwAAAAAAABARGQAAAAAAAICIyAAAAAAAAABERAYAAAAAAAAgIjIAAAAA\n",
       "AAAAEZEBAAAAAAAAiIgMAAAAAAAAQERkAAAAAAAAACIiAwAAAAAAABARGQAAAAAAAICIyAAAAAAA\n",
       "AABERAYAAAAAAAAgIjIAAAAAAAAAEZEBAAAAAAAAiIgMAAAAAAAAQERkAAAAAAAAACIiAwAAAAAA\n",
       "ABARGQAAAAAAAICIyAAAAAAAAABERAYAAAAAAAAgIjIAAAAAAAAAEZEBAAAAAAAAiIgMAAAAAAAA\n",
       "QERkAAAAAAAAACIiAwAAAAAAABARGQAAAAAAAICIyAAAAAAAAABERAYAAAAAAAAgIjIAAAAAAAAA\n",
       "EZEBAAAAAAAAiIgMAAAAAAAAQERkAAAAAAAAACIiAwAAAAAAABARGQAAAAAAAICIyAAAAAAAAABE\n",
       "RAYAAAAAAAAgIjIAAAAAAAAAEZEBAAAAAAAAiIgMAAAAAAAAQERkAAAAAAAAACIiAwAAAAAAABAR\n",
       "GQAAAAAAAICIyAAAAAAAAABERAYAAAAAAAAgIjIAAAAAAAAAEZEBAAAAAAAAiIgMAAAAAAAAQERk\n",
       "AAAAAAAAACIiAwAAAAAAABARGQAAAAAAAICIyAAAAAAAAABERAYAAAAAAAAgIjIAAAAAAAAAEZEB\n",
       "AAAAAAAAiIgMAAAAAAAAQERkAAAAAAAAACIiAwAAAAAAABARGQAAAAAAAICIyAAAAAAAAABERAYA\n",
       "AAAAAAAgG6u3b0xvgHFbW4fTE2Dcl+XO9AQY9/XdnekJMOrK5+X0BBh3uLw6PQHGXbr2c3oCjPr1\n",
       "zbkAfhxuTU+Acbs7zsicb24iAwAAAAAAABARGQAAAAAAAICIyAAAAAAAAABERAYAAAAAAAAgIjIA\n",
       "AAAAAAAAEZEBAAAAAAAAiIgMAAAAAAAAQERkAAAAAAAAACIiAwAAAAAAABARGQAAAAAAAICIyAAA\n",
       "AAAAAABERAYAAAAAAAAgIjIAAAAAAAAAEZEBAAAAAAAAiIgMAAAAAAAAQERkAAAAAAAAACIiAwAA\n",
       "AAAAABARGQAAAAAAAICIyAAAAAAAAABERAYAAAAAAAAgIjIAAAAAAAAAEZEBAAAAAAAAiIgMAAAA\n",
       "AAAAQERkAAAAAAAAACIiAwAAAAAAABARGQAAAAAAAICIyAAAAAAAAABERAYAAAAAAAAgIjIAAAAA\n",
       "AAAAEZEBAAAAAAAAiIgMAAAAAAAAQERkAAAAAAAAACIiAwAAAAAAABARGQAAAAAAAICIyAAAAAAA\n",
       "AABERAYAAAAAAAAgIjIAAAAAAAAAEZEBAAAAAAAAiIgMAAAAAAAAQERkAAAAAAAAACIiAwAAAAAA\n",
       "ABARGQAAAAAAAICIyAAAAAAAAABERAYAAAAAAAAgIjIAAAAAAAAAEZEBAAAAAAAAiIgMAAAAAAAA\n",
       "QERkAAAAAAAAACIiAwAAAAAAABARGQAAAAAAAICIyAAAAAAAAABERAYAAAAAAAAgIjIAAAAAAAAA\n",
       "EZEBAAAAAAAAiIgMAAAAAAAAQERkAAAAAAAAACIiAwAAAAAAABARGQAAAAAAAICIyAAAAAAAAABE\n",
       "RAYAAAAAAAAgIjIAAAAAAAAAEZEBAAAAAAAAiIgMAAAAAAAAQERkAAAAAAAAACIiAwAAAAAAABAR\n",
       "GQAAAAAAAICIyAAAAAAAAABERAYAAAAAAAAgIjIAAAAAAAAAEZEBAAAAAAAAiIgMAAAAAAAAQERk\n",
       "AAAAAAAAACIiAwAAAAAAABARGQAAAAAAAICIyAAAAAAAAABERAYAAAAAAAAgIjIAAAAAAAAAEZEB\n",
       "AAAAAAAAiIgMAAAAAAAAQERkAAAAAAAAACIiAwAAAAAAABARGQAAAAAAAICIyAAAAAAAAABERAYA\n",
       "AAAAAAAgIjIAAAAAAAAAEZEBAAAAAAAAiIgMAAAAAAAAQERkAAAAAAAAACIiAwAAAAAAABARGQAA\n",
       "AAAAAICIyAAAAAAAAABERAYAAAAAAAAgIjIAAAAAAAAAEZEBAAAAAAAAiIgMAAAAAAAAQERkAAAA\n",
       "AAAAACIiAwAAAAAAABARGQAAAAAAAICIyAAAAAAAAABERAYAAAAAAAAgIjIAAAAAAAAAEZEBAAAA\n",
       "AAAAiIgMAAAAAAAAQERkAAAAAAAAACIiAwAAAAAAABARGQAAAAAAAICIyAAAAAAAAABERAYAAAAA\n",
       "AAAgIjIAAAAAAAAAEZEBAAAAAAAAiIgMAAAAAAAAQERkAAAAAAAAACIiAwAAAAAAABARGQAAAAAA\n",
       "AICIyAAAAAAAAABERAYAAAAAAAAgIjIAAAAAAAAAEZEBAAAAAAAAiIgMAAAAAAAAQERkAAAAAAAA\n",
       "ACIiAwAAAAAAABARGQAAAAAAAICIyAAAAAAAAABERAYAAAAAAAAgIjIAAAAAAAAAEZEBAAAAAAAA\n",
       "iIgMAAAAAAAAQERkAAAAAAAAACIiAwAAAAAAABARGQAAAAAAAICIyAAAAAAAAABERAYAAAAAAAAg\n",
       "IjIAAAAAAAAAEZEBAAAAAAAAiIgMAAAAAAAAQERkAAAAAAAAACIiAwAAAAAAABARGQAAAAAAAICI\n",
       "yAAAAAAAAABERAYAAAAAAAAgIjIAAAAAAAAAEZEBAAAAAAAAiIgMAAAAAAAAQERkAAAAAAAAACIi\n",
       "AwAAAAAAABARGQAAAAAAAICIyAAAAAAAAABERAYAAAAAAAAgIjIAAAAAAAAAEZEBAAAAAAAAiIgM\n",
       "AAAAAAAAQERkAAAAAAAAACIiAwAAAAAAABARGQAAAAAAAICIyAAAAAAAAABERAYAAAAAAAAgIjIA\n",
       "AAAAAAAAEZEBAAAAAAAAiIgMAAAAAAAAQERkAAAAAAAAACIiAwAAAAAAABARGQAAAAAAAICIyAAA\n",
       "AAAAAABERAYAAAAAAAAgIjIAAAAAAAAAEZEBAAAAAAAAiIgMAAAAAAAAQERkAAAAAAAAACIiAwAA\n",
       "AAAAABARGQAAAAAAAICIyAAAAAAAAABk48/e4+kNMG775ovpCTDu+8c70xNg3LO3+9MTYNSrg0vT\n",
       "E2Dcm9/L6Qkwbu/ytekJMOr+7uH0BBi3vXk0PQHG3bt5MD0BRrmJDAAAAAAAAEBEZAAAAAAAAAAi\n",
       "IgMAAAAAAAAQERkAAAAAAACAiMgAAAAAAAAAREQGAAAAAAAAICIyAAAAAAAAABGR4T/7dqxbAwCG\n",
       "Ybj0iLbpSdoyGEhEOhkMNpO4AJupt2noKG7AZCFisUgqUTkn5ygqtvcW/sHzXME3/29+AAAAAAAA\n",
       "ICIyAAAAAAAAABGRAQAAAAAAAIiIDAAAAAAAAEBEZAAAAAAAAAAiIgMAAAAAAAAQERkAAAAAAACA\n",
       "iMgAAAAAAAAAREQGAAAAAAAAICIyAAAAAAAAABGRAQAAAAAAAIiIDAAAAAAAAEBEZAAAAAAAAAAi\n",
       "IgMAAAAAAAAQERkAAAAAAACAiMgAAAAAAAAAREQGAAAAAAAAICIyAAAAAAAAABGRAQAAAAAAAIiI\n",
       "DAAAAAAAAEBEZAAAAAAAAAAiIgMAAAAAAAAQERkAAAAAAACAiMgAAAAAAAAAREQGAAAAAAAAICIy\n",
       "AAAAAAAAABGRAQAAAAAAAIiIDAAAAAAAAEBEZAAAAAAAAAAiIgMAAAAAAAAQERkAAAAAAACAiMgA\n",
       "AAAAAAAAREQGAAAAAAAAICIyAAAAAAAAABGRAQAAAAAAAIiIDAAAAAAAAEBEZAAAAAAAAAAiIgMA\n",
       "AAAAAAAQERkAAAAAAACAiMgAAAAAAAAAREQGAAAAAAAAICIyAAAAAAAAABGRAQAAAAAAAIiIDAAA\n",
       "AAAAAEBEZAAAAAAAAAAiIgMAAAAAAAAQERkAAAAAAACAiMgAAAAAAAAAREQGAAAAAAAAICIyAAAA\n",
       "AAAAABGRAQAAAAAAAIiIDAAAAAAAAEBEZAAAAAAAAAAiIgMAAAAAAAAQERkAAAAAAACAiMgAAAAA\n",
       "AAAAREQGAAAAAAAAICIyAAAAAAAAABGRAQAAAAAAAIiIDAAAAAAAAEBEZAAAAAAAAAAiIgMAAAAA\n",
       "AAAQERkAAAAAAACAiMgAAAAAAAAAREQGAAAAAAAAICIyAAAAAAAAABGRAQAAAAAAAIiIDAAAAAAA\n",
       "AEBEZAAAAAAAAAAiIgMAAAAAAAAQERkAAAAAAACAiMgAAAAAAAAAREQGAAAAAAAAICIyAAAAAAAA\n",
       "ABGRAQAAAAAAAIiIDAAAAAAAAEBEZAAAAAAAAAAiIgMAAAAAAAAQERkAAAAAAACAiMgAAAAAAAAA\n",
       "REQGAAAAAAAAICIyAAAAAAAAABGRAQAAAAAAAIiIDAAAAAAAAEBEZAAAAAAAAAAiIgMAAAAAAAAQ\n",
       "ERkAAAAAAACAiMgAAAAAAAAAREQGAAAAAAAAICIyAAAAAAAAABGRAQAAAAAAAIiIDAAAAAAAAEBE\n",
       "ZAAAAAAAAAAiIgMAAAAAAAAQERkAAAAAAACAiMgAAAAAAAAAREQGAAAAAAAAICIyAAAAAAAAABGR\n",
       "AQAAAAAAAIiIDAAAAAAAAEBEZAAAAAAAAAAiIgMAAAAAAAAQERkAAAAAAACAiMgAAAAAAAAAREQG\n",
       "AAAAAAAAICIyAAAAAAAAABGRAQAAAAAAAIiIDAAAAAAAAEBEZAAAAAAAAAAiIgMAAAAAAAAQERkA\n",
       "AAAAAACAiMgAAAAAAAAAREQGAAAAAAAAICIyAAAAAAAAABGRAQAAAAAAAIiIDAAAAAAAAEBEZAAA\n",
       "AAAAAAAiIgMAAAAAAAAQERkAAAAAAACAiMgAAAAAAAAAREQGAAAAAAAAICIyAAAAAAAAABGRAQAA\n",
       "AAAAAIiIDAAAAAAAAEBEZAAAAAAAAAAiIgMAAAAAAAAQERkAAAAAAACAiMgAAAAAAAAAREQGAAAA\n",
       "AAAAICIyAAAAAAAAABGRAQAAAAAAAIiIDAAAAAAAAEBEZAAAAAAAAAAiIgMAAAAAAAAQERkAAAAA\n",
       "AACAiMgAAAAAAAAAREQGAAAAAAAAICIyAAAAAAAAABGRAQAAAAAAAIiIDAAAAAAAAEBEZAAAAAAA\n",
       "AAAiIgMAAAAAAAAQERkAAAAAAACAiMgAAAAAAAAAREQGAAAAAAAAICIyAAAAAAAAABGRAQAAAAAA\n",
       "AIiIDAAAAAAAAEBEZAAAAAAAAAAiIgMAAAAAAAAQERkAAAAAAACAiMgAAAAAAAAAREQGAAAAAAAA\n",
       "ICIyAAAAAAAAABGRAQAAAAAAAIiIDAAAAAAAAEBEZAAAAAAAAAAiIgMAAAAAAAAQERkAAAAAAACA\n",
       "iMgAAAAAAAAAREQGAAAAAAAAICIyAAAAAAAAABGRAQAAAAAAAIiIDAAAAAAAAEAWB/deTG+AcTeO\n",
       "z6cnwLjf17vTE2Dcp/Xe9AQY9Xb7ZXoCjPu4eT09Acatbr6cngCjTtb3pyfAuCeLP9MTYNzt49X0\n",
       "BBjlExkAAAAAAACAiMgAAAAAAAAAREQGAAAAAAAAICIyAAAAAAAAABGRAQAAAAAAAIiIDAAAAAAA\n",
       "AEBEZAAAAAAAAAAiIgMAAAAAAAAQERkAAAAAAACAiMgAAAAAAAAAREQGAAAAAAAAICIyAAAAAAAA\n",
       "ABGRAQAAAAAAAIiIDAAAAAAAAEBEZAAAAAAAAAAiIgMAAAAAAAAQERkAAAAAAACAiMgAAAAAAAAA\n",
       "REQGAAAAAAAAICIyAAAAAAAAABGRAQAAAAAAAIiIDAAAAAAAAEBEZAAAAAAAAAAiIgMAAAAAAAAQ\n",
       "ERkAAAAAAACAiMgAAAAAAAAAREQGAAAAAAAAICIyAAAAAAAAABGRAQAAAAAAAIiIDAAAAAAAAEBE\n",
       "ZAAAAAAAAAAiIgMAAAAAAAAQERkAAAAAAACAiMgAAAAAAAAAREQGAAAAAAAAICIyAAAAAAAAABGR\n",
       "AQAAAAAAAIiIDAAAAAAAAEBEZAAAAAAAAAAiIgMAAAAAAAAQERkAAAAAAACAiMgAAAAAAAAAREQG\n",
       "AAAAAAAAICIyAAAAAAAAABGRAQAAAAAAAIiIDAAAAAAAAEBEZAAAAAAAAAAiIgMAAAAAAAAQERkA\n",
       "AAAAAACAiMgAAAAAAAAAREQGAAAAAAAAICIyAAAAAAAAABGRAQAAAAAAAIiIDAAAAAAAAEBEZAAA\n",
       "AAAAAAAiIgMAAAAAAAAQERkAAAAAAACAiMgAAAAAAAAAREQGAAAAAAAAICIyAAAAAAAAABGRAQAA\n",
       "AAAAAIiIDAAAAAAAAEBEZAAAAAAAAAAiIgMAAAAAAAAQERkAAAAAAACAiMgAAAAAAAAAREQGAAAA\n",
       "AAAAICIyAAAAAAAAABGRAQAAAAAAAIiIDAAAAAAAAEBEZAAAAAAAAAAiIgMAAAAAAAAQERkAAAAA\n",
       "AACAiMgAAAAAAAAAREQGAAAAAAAAICIyAAAAAAAAABGRAQAAAAAAAIiIDAAAAAAAAEBEZAAAAAAA\n",
       "AAAiIgMAAAAAAAAQERkAAAAAAACAiMgAAAAAAAAAREQGAAAAAAAAICIyAAAAAAAAABGRAQAAAAAA\n",
       "AIiIDAAAAAAAAEBEZAAAAAAAAAAiIgMAAAAAAAAQERkAAAAAAACAiMgAAAAAAAAAREQGAAAAAAAA\n",
       "ICIyAAAAAAAAABGRAQAAAAAAAIiIDAAAAAAAAEBEZAAAAAAAAAAiIgMAAAAAAAAQERkAAAAAAACA\n",
       "iMgAAAAAAAAAREQGAAAAAAAAICIyAAAAAAAAABGRAQAAAAAAAIiIDAAAAAAAAEBEZAAAAAAAAAAi\n",
       "IgMAAAAAAAAQERkAAAAAAACAiMgAAAAAAAAAREQGAAAAAAAAICIyAAAAAAAAABGRAQAAAAAAAIiI\n",
       "DAAAAAAAAEBEZAAAAAAAAAAiIgMAAAAAAAAQERkAAAAAAACAiMgAAAAAAAAAREQGAAAAAAAAICIy\n",
       "AAAAAAAAABGRAQAAAAAAAIiIDAAAAAAAAEBEZAAAAAAAAAAiIgMAAAAAAAAQERkAAAAAAACAiMgA\n",
       "AAAAAAAAREQGAAAAAAAAICIyAAAAAAAAABGRAQAAAAAAAIiIDAAAAAAAAEBEZAAAAAAAAAAiIgMA\n",
       "AAAAAAAQERkAAAAAAACAiMgAAAAAAAAAREQGAAAAAAAAICIyAAAAAAAAABGRAQAAAAAAAIiIDAAA\n",
       "AAAAAEBEZAAAAAAAAAAiIgMAAAAAAAAQERkAAAAAAACAiMgAAAAAAAAAREQGAAAAAAAAICIyAAAA\n",
       "AAAAABGRAQAAAAAAAIiIDAAAAAAAAEBEZHWpKYYAABTISURBVAAAAAAAAAAiIgMAAAAAAAAQERkA\n",
       "AAAAAACAiMgAAAAAAAAAREQGAAAAAAAAICIyAAAAAAAAABGRAQAAAAAAAIiIDAAAAAAAAEBEZAAA\n",
       "AAAAAAAiIgMAAAAAAAAQERkAAAAAAACAiMgAAAAAAAAAREQGAAAAAAAAICIyAAAAAAAAABGRAQAA\n",
       "AAAAAIiIDAAAAAAAAEBEZAAAAAAAAAAiIgMAAAAAAAAQERkAAAAAAACAiMgAAAAAAAAAREQGAAAA\n",
       "AAAAICIyAAAAAAAAABGRAQAAAAAAAIiIDAAAAAAAAEBEZAAAAAAAAAAiIgMAAAAAAAAQERkAAAAA\n",
       "AACAiMgAAAAAAAAAREQGAAAAAAAAIIvN1zfTG2Dcr+/L6Qkw7tbu9fQEGHd6+HN6Aox6fvVgegKM\n",
       "W/49m54A457uH01PgFGnh9vpCTDOnQh2dq50A/5zPpEBAAAAAAAAiIgMAAAAAAAAQERkAAAAAAAA\n",
       "ACIiAwAAAAAAABARGQAAAAAAAICIyAAAAAAAAABERAYAAAAAAAAgIjIAAAAAAAAAEZEBAAAAAAAA\n",
       "iIgMAAAAAAAAQERkAAAAAAAAACIiAwAAAAAAABARGQAAAAAAAICIyAAAAAAAAABERAYAAAAAAAAg\n",
       "IjIAAAAAAAAAEZEBAAAAAAAAiIgMAAAAAAAAQERkAAAAAAAAACIiAwAAAAAAABARGQAAAAAAAICI\n",
       "yAAAAAAAAABERAYAAAAAAAAgIjIAAAAAAAAAEZEBAAAAAAAAiIgMAAAAAAAAQERkAAAAAAAAACIi\n",
       "AwAAAAAAABARGQAAAAAAAICIyAAAAAAAAABERAYAAAAAAAAgIjIAAAAAAAAAEZEBAAAAAAAAiIgM\n",
       "AAAAAAAAQERkAAAAAAAAACIiAwAAAAAAABARGQAAAAAAAICIyAAAAAAAAABERAYAAAAAAAAgIjIA\n",
       "AAAAAAAAEZEBAAAAAAAAiIgMAAAAAAAAQERkAAAAAAAAACIiAwAAAAAAABARGQAAAAAAAICIyAAA\n",
       "AAAAAABERAYAAAAAAAAgIjIAAAAAAAAAEZEBAAAAAAAAiIgMAAAAAAAAQERkAAAAAAAAACIiAwAA\n",
       "AAAAABARGQAAAAAAAICIyAAAAAAAAABERAYAAAAAAAAgIjIAAAAAAAAAEZEBAAAAAAAAiIgMAAAA\n",
       "AAAAQERkAAAAAAAAACIiAwAAAAAAABARGQAAAAAAAICIyAAAAAAAAABERAYAAAAAAAAgIjIAAAAA\n",
       "AAAAEZEBAAAAAAAAiIgMAAAAAAAAQERkAAAAAAAAACIiAwAAAAAAABARGQAAAAAAAICIyAAAAAAA\n",
       "AABERAYAAAAAAAAgIjIAAAAAAAAAEZEBAAAAAAAAiIgMAAAAAAAAQERkAAAAAAAAACIiAwAAAAAA\n",
       "ABARGQAAAAAAAICIyAAAAAAAAABERAYAAAAAAAAgIjIAAAAAAAAAEZEBAAAAAAAAiIgMAAAAAAAA\n",
       "QERkAAAAAAAAACIiAwAAAAAAABARGQAAAAAAAICIyAAAAAAAAABERAYAAAAAAAAgIjIAAAAAAAAA\n",
       "EZEBAAAAAAAAiIgMAAAAAAAAQERkAAAAAAAAACIiAwAAAAAAABARGQAAAAAAAICIyAAAAAAAAABE\n",
       "RAYAAAAAAAAgIjIAAAAAAAAAEZEBAAAAAAAAiIgMAAAAAAAAQERkAAAAAAAAACIiAwAAAAAAABAR\n",
       "GQAAAAAAAICIyAAAAAAAAABERAYAAAAAAAAgIjIAAAAAAAAAEZEBAAAAAAAAiIgMAAAAAAAAQERk\n",
       "AAAAAAAAACIiAwAAAAAAABARGQAAAAAAAICIyAAAAAAAAABERAYAAAAAAAAgIjIAAAAAAAAAEZEB\n",
       "AAAAAAAAiIgMAAAAAAAAQERkAAAAAAAAACIiAwAAAAAAABARGQAAAAAAAICIyAAAAAAAAABERAYA\n",
       "AAAAAAAgIjIAAAAAAAAAEZEBAAAAAAAAiIgMAAAAAAAAQERkAAAAAAAAACIiAwAAAAAAABARGQAA\n",
       "AAAAAICIyAAAAAAAAABERAYAAAAAAAAgIjIAAAAAAAAAEZEBAAAAAAAAiIgMAAAAAAAAQERkAAAA\n",
       "AAAAACIiAwAAAAAAABARGQAAAAAAAICIyAAAAAAAAABERAYAAAAAAAAgIjIAAAAAAAAAEZEBAAAA\n",
       "AAAAiIgMAAAAAAAAQERkAAAAAAAAACIiAwAAAAAAABARGQAAAAAAAICIyAAAAAAAAABERAYAAAAA\n",
       "AAAgIjIAAAAAAAAAEZEBAAAAAAAAiIgMAAAAAAAAQERkAAAAAAAAACIiAwAAAAAAABARGQAAAAAA\n",
       "AICIyAAAAAAAAABERAYAAAAAAAAgIjIAAAAAAAAAEZEBAAAAAAAAiIgMAAAAAAAAQERkAAAAAAAA\n",
       "ACIiAwAAAAAAABARGQAAAAAAAICIyAAAAAAAAABERAYAAAAAAAAgIjIAAAAAAAAAEZEBAAAAAAAA\n",
       "iIgMAAAAAAAAQERkAAAAAAAAACIiAwAAAAAAABARGQAAAAAAAICIyAAAAAAAAABERAYAAAAAAAAg\n",
       "IjIAAAAAAAAAEZEBAAAAAAAAiIgMAAAAAAAAQERkAAAAAAAAALI4eHc+vQHGXVw8nJ4A4072NtMT\n",
       "YNyzx++nJ8CoV3cvpyfAuO3lcnoCjNs/Wk1PgFHrb0fTE2Dch8+PpifAuB8Xd6YnwCifyAAAAAAA\n",
       "AABERAYAAAAAAAAgIjIAAAAAAAAAEZEBAAAAAAAAiIgMAAAAAAAAQERkAAAAAAAAACIiAwAAAAAA\n",
       "ABARGQAAAAAAAICIyAAAAAAAAABERAYAAAAAAAAgIjIAAAAAAAAAEZEBAAAAAAAAiIgMAAAAAAAA\n",
       "QERkAAAAAAAAACIiAwAAAAAAABARGQAAAAAAAP61b682EQVQFEXDxzwScCRjkRhqoHQKwSHGoJ8c\n",
       "cLuFY9aq4NibnQtERAYAAAAAAAAgIjIAAAAAAAAAEZEBAAAAAAAAiIgMAAAAAAAAQERkAAAAAAAA\n",
       "ACIiAwAAAAAAABARGQAAAAAAAICIyAAAAAAAAABERAYAAAAAAAAgIjIAAAAAAAAAEZEBAAAAAAAA\n",
       "iIgMAAAAAAAAQERkAAAAAAAAACIiAwAAAAAAABARGQAAAAAAAICIyAAAAAAAAABERAYAAAAAAAAg\n",
       "IjIAAAAAAAAAEZEBAAAAAAAAiIgMAAAAAAAAQERkAAAAAAAAACIiAwAAAAAAABARGQAAAAAAAICI\n",
       "yAAAAAAAAABERAYAAAAAAAAgIjIAAAAAAAAAEZEBAAAAAAAAiIgMAAAAAAAAQERkAAAAAAAAACIi\n",
       "AwAAAAAAABARGQAAAAAAAICIyAAAAAAAAABERAYAAAAAAAAgIjIAAAAAAAAAEZEBAAAAAAAAiIgM\n",
       "AAAAAAAAQERkAAAAAAAAACIiAwAAAAAAABARGQAAAAAAAICIyAAAAAAAAABERAYAAAAAAAAgIjIA\n",
       "AAAAAAAAEZEBAAAAAAAAiIgMAAAAAAAAQERkAAAAAAAAACIiAwAAAAAAABARGQAAAAAAAICIyAAA\n",
       "AAAAAABERAYAAAAAAAAgIjIAAAAAAAAAEZEBAAAAAAAAiIgMAAAAAAAAQERkAAAAAAAAACIiAwAA\n",
       "AAAAABARGQAAAAAAAICIyAAAAAAAAABERAYAAAAAAAAgIjIAAAAAAAAAEZEBAAAAAAAAiIgMAAAA\n",
       "AAAAQERkAAAAAAAAACIiAwAAAAAAABARGQAAAAAAAICIyAAAAAAAAABERAYAAAAAAAAgIjIAAAAA\n",
       "AAAAEZEBAAAAAAAAiIgMAAAAAAAAQERkAAAAAAAAACIiAwAAAAAAABARGQAAAAAAAICIyAAAAAAA\n",
       "AABERAYAAAAAAAAgIjIAAAAAAAAAEZEBAAAAAAAAiIgMAAAAAAAAQERkAAAAAAAAACIiAwAAAAAA\n",
       "ABARGQAAAAAAAICIyAAAAAAAAABERAYAAAAAAAAgIjIAAAAAAAAAEZEBAAAAAAAAiIgMAAAAAAAA\n",
       "QERkAAAAAAAAACIiAwAAAAAAABARGQAAAAAAAICIyAAAAAAAAABERAYAAAAAAAAgIjIAAAAAAAAA\n",
       "EZEBAAAAAAAAiIgMAAAAAAAAQERkAAAAAAAAACIiAwAAAAAAABARGQAAAAAAAICIyAAAAAAAAABE\n",
       "RAYAAAAAAAAgIjIAAAAAAAAAEZEBAAAAAAAAiIgMAAAAAAAAQERkAAAAAAAAACIiAwAAAAAAABAR\n",
       "GQAAAAAAAICIyAAAAAAAAABERAYAAAAAAAAgIjIAAAAAAAAAEZEBAAAAAAAAiIgMAAAAAAAAQERk\n",
       "AAAAAAAAACIiAwAAAAAAABARGQAAAAAAAICIyAAAAAAAAABERAYAAAAAAAAgIjIAAAAAAAAAEZEB\n",
       "AAAAAAAAiIgMAAAAAAAAQERkAAAAAAAAACIiAwAAAAAAABARGQAAAAAAAICIyAAAAAAAAABERAYA\n",
       "AAAAAAAgIjIAAAAAAAAAEZEBAAAAAAAAiIgMAAAAAAAAQERkAAAAAAAAACIiAwAAAAAAABARGQAA\n",
       "AAAAAICIyAAAAAAAAABERAYAAAAAAAAgIjIAAAAAAAAAEZEBAAAAAAAAiIgMAAAAAAAAQERkAAAA\n",
       "AAAAACIiAwAAAAAAABARGQAAAAAAAICIyAAAAAAAAABERAYAAAAAAAAgIjIAAAAAAAAAEZEBAAAA\n",
       "AAAAiIgMAAAAAAAAQERkAAAAAAAAACIiAwAAAAAAABARGQAAAAAAAICIyAAAAAAAAABERAYAAAAA\n",
       "AAAgIjIAAAAAAAAAEZEBAAAAAAAAiIgMAAAAAAAAQERkAAAAAAAAACIiAwAAAAAAABARGQAAAAAA\n",
       "AICIyAAAAAAAAABERAYAAAAAAAAgIjIAAAAAAAAAEZEBAAAAAAAAyOPfz+96A8yd5/t6Asy9HOd6\n",
       "Asy9fnyvJ8DU3efbegLMPd0/rCfA3u15vQCmji93AVyvl/UEmDvPYz0BpnwiAwAAAAAAABARGQAA\n",
       "AAAAAICIyAAAAAAAAABERAYAAAAAAAAgIjIAAAAAAAAAEZEBAAAAAAAAiIgMAAAAAAAAQERkAAAA\n",
       "AAAAACIiAwAAAAAAABARGQAAAAAAAICIyAAAAAAAAABERAYAAAAAAAAgIjIAAAAAAAAAEZEBAAAA\n",
       "AAAAiIgMAAAAAAAAQERkAAAAAAAAACIiAwAAAAAAABARGQAAAAAAAICIyAAAAAAAAABERAYAAAAA\n",
       "AAAgIjIAAAAAAAAAEZEBAAAAAAAAiIgMAAAAAAAAQERkAAAAAAAAACIiAwAAAAAAABARGQAAAAAA\n",
       "AICIyAAAAAAAAABERAYAAAAAAAAgIjIAAAAAAAAAEZEBAAAAAAAAiIgMAAAAAAAAQERkAAAAAAAA\n",
       "ACIiAwAAAAAAABARGQAAAAAAAICIyAAAAAAAAABERAYAAAAAAAAgIjIAAAAAAAAAEZEBAAAAAAAA\n",
       "iIgMAAAAAAAAQERkAAAAAAAAACIiAwAAAAAAABARGQAAAAAAAICIyAAAAAAAAABERAYAAAAAAAAg\n",
       "IjIAAAAAAAAAEZEBAAAAAAAAiIgMAAAAAAAAQERkAAAAAAAAACIiAwAAAAAAABARGQAAAAAAAICI\n",
       "yAAAAAAAAABERAYAAAAAAAAgIjIAAAAAAAAAEZEBAAAAAAAAiIgMAAAAAAAAQERkAAAAAAAAACIi\n",
       "AwAAAAAAABARGQAAAAAAAICIyAAAAAAAAABERAYAAAAAAAAgIjIAAAAAAAAAEZEBAAAAAAAAiIgM\n",
       "AAAAAAAAQERkAAAAAAAAACIiAwAAAAAAABARGQAAAAAAAICIyAAAAAAAAABERAYAAAAAAAAgIjIA\n",
       "AAAAAAAAEZEBAAAAAAAAiIgMAAAAAAAAQERkAAAAAAAAACIiAwAAAAAAABARGQAAAAAAAICIyAAA\n",
       "AAAAAABERAYAAAAAAAAgIjIAAAAAAAAAEZEBAAAAAAAAiIgMAAAAAAAAQERkAAAAAAAAACIiAwAA\n",
       "AAAAABARGQAAAAAAAICIyAAAAAAAAABERAYAAAAAAAAgIjIAAAAAAAAAEZEBAAAAAAAAiIgMAAAA\n",
       "AAAAQERkAAAAAAAAACIiAwAAAAAAABARGQAAAAAAAICIyAAAAAAAAABERAYAAAAAAAAgIjIAAAAA\n",
       "AAAAEZEBAAAAAAAAiIgMAAAAAAAAQERkAAAAAAAAACIiAwAAAAAAABARGQAAAAAAAICIyAAAAAAA\n",
       "AABERAYAAAAAAAAgIjIAAAAAAAAAEZEBAAAAAAAAiIgMAAAAAAAAQERkAAAAAAAAACIiAwAAAAAA\n",
       "ABARGQAAAAAAAICIyAAAAAAAAABERAYAAAAAAAAgIjIAAAAAAAAAEZEBAAAAAAAAiIgMAAAAAAAA\n",
       "QERkAAAAAAAAACIiAwAAAAAAABARGQAAAAAAAICIyAAAAAAAAABERAYAAAAAAAAgIjIAAAAAAAAA\n",
       "EZEBAAAAAAAAiIgMAAAAAAAAQERkAAAAAAAAACIiAwAAAAAAABARGQAAAAAAAICIyAAAAAAAAABE\n",
       "RAYAAAAAAAAgIjIAAAAAAAAAEZEBAAAAAAAAiIgMAAAAAAAAQERkAAAAAAAAACIiAwAAAAAAABAR\n",
       "GQAAAAAAAICIyAAAAAAAAABERAYAAAAAAAAgIjIAAAAAAAAAEZEBAAAAAAAAiIgMAAAAAAAAQERk\n",
       "AAAAAAAAACIiAwAAAAAAABARGQAAAAAAAICIyAAAAAAAAABERAYAAAAAAAAgIjIAAAAAAAAAEZEB\n",
       "AAAAAAAAiIgMAAAAAAAAQERkAAAAAAAAACIiAwAAAAAAABARGQAAAAAAAICIyAAAAAAAAABERAYA\n",
       "AAAAAAAgIjIAAAAAAAAAEZEBAAAAAAAAiIgMAAAAAAAAQERkAAAAAAAAACIiAwAAAAAAABARGQAA\n",
       "AAAAAICIyAAAAAAAAABERAYAAAAAAAAgIjIAAAAAAAAAEZEBAAAAAAAAiIgMAAAAAAAAQERkAAAA\n",
       "AAAAACIiAwAAAAAAABARGQAAAAAAAICIyAAAAAAAAABERAYAAAAAAAAgIjIAAAAAAAAAEZEBAAAA\n",
       "AAAAiIgMAAAAAAAAQERkAAAAAAAAACIiAwAAAAAAABARGQAAAAAAAICIyAAAAAAAAADkH1nDevbl\n",
       "NjmPAAAAAElFTkSuQmCC\n",
       "\" transform=\"translate(175, 47)\"/>\n",
       "</g>\n",
       "<defs>\n",
       "  <clipPath id=\"clip453\">\n",
       "    <rect x=\"2160\" y=\"47\" width=\"73\" height=\"1377\"/>\n",
       "  </clipPath>\n",
       "</defs>\n",
       "<g clip-path=\"url(#clip453)\">\n",
       "<image width=\"72\" height=\"1376\" xlink:href=\"data:image/png;base64,\n",
       "iVBORw0KGgoAAAANSUhEUgAAAEgAAAVgCAYAAADsKhu7AAAL6UlEQVR4nO3dwZEjNxBFQVBR/lsh\n",
       "L6UFZIHqHclDpgUTL35wCXTP7Off+/c7/K+/vv0D/DqBgkBBoCBQmPv+/fbP8NMsKAgUBAoChXnv\n",
       "z7d/hp9mQUGgIFAQKAgUHDWCBQWBgkBBoDDPh/TKgoJAQaAgUJh3fUhvLCgIFAQKAgWBgqNGsKAg\n",
       "UBAoCBR8SAcLCgIFgYJAwX1QsKAgUBAoCBQECnMcNVYWFAQKAgWBgvugYEFBoCBQECgIFOa4MFtZ\n",
       "UBAoCBQECnPuP9/+GX6aBQWBgkBBoODSPlhQECgIFAQKAgX3QcGCgkBBoCBQ8CEdLCgIFAQKAgX3\n",
       "QcGCgkBBoCBQECjMx1FjZUFBoCBQECjMuf5XhI0FBYGCQEGgIFBw1AgWFAQKAgWBgqNGsKAgUBAo\n",
       "CBS8HxQsKAgUBAoCBYHCfBw1VhYUBAoCBYGCt1yDBQWBgkBBoOCbdLCgIFAQKAgUBAoePQcLCgIF\n",
       "gYJAwVEjWFAQKAgUBAoCBUeNYEFBoCBQECg4agQLCgIFgYJAYc693/4ZfpoFBYGCQEGgIFBw1AgW\n",
       "FAQKAgWBgkv7YEFBoCBQECj4kA4WFAQKAgWBgkBhPp5qrCwoCBQECgIFR41gQUGgIFAQKAgUvEAV\n",
       "LCgIFAQKAgX3QcGCgkBBoCBQcB8ULCgIFAQKAgWBgvugYEFBoCBQECj4kA4WFAQKAgWBgl/qDRYU\n",
       "BAoCBYGCQMFRI1hQECgIFAQKPqSDBQWBgkBBoCBQ8K9YsKAgUBAoCBR8SAcLCgIFgYJAYc7zIb2x\n",
       "oCBQECgIFAQKjhrBgoJAQaAgUPAhHSwoCBQECgIFH9LBgoJAQaAgUBAozLnv2z/DT7OgIFAQKAgU\n",
       "HDWCBQWBgkBBoCBQcNQIFhQECgIFgYKjRrCgIFAQKAgUfJMOFhQECgIFgYJAYY6TxsqCgkBBoCBQ\n",
       "mPMcNTYWFAQKAgWBgm/SwYKCQEGgIFAQKPhXLFhQECgIFAQK44/g7SwoCBQECgIFgYKjRrCgIFAQ\n",
       "KAgUfEgHCwoCBYGCQGHO/Xz7Z/hpFhQECgIFgYJAYd7zr9jGgoJAQaAgUHAfFCwoCBQECgIF90HB\n",
       "goJAQaAgUBAozLsabdQJAgWBgkDBUSNYUBAoCBQECgKFOR49rywoCBQECgKFeY4aKwsKAgWBgkBh\n",
       "jkv7lTpBoCBQECgIFBw1ggUFgYJAQaDg0j5YUBAoCBQECl7iDOoEgYJAQaAgUPCWa7CgIFAQKAgU\n",
       "XNoHCwoCBYGCQEGgMO9ptFEnCBQECgIF90HBgoJAQaAgUHAfFCwoCBQECgIFgcIc90ErdYJAQaAg\n",
       "UHDUCBYUBAoCBYGCD+lgQUGgIFAQKAgU/NZzsKAgUBAoCBT81nNQJwgUBAoCBYHCPEeNlQUFgYJA\n",
       "QaDgqUawoCBQECgIFPyvCEGdIFAQKAgUBArug4IFBYGCQEGg4D4oWFAQKAgUBAq+SQcLCgIFgYJA\n",
       "QaDgLdegThAoCBQECo4awYKCQEGgIFAQKHiqESwoCBQECgIFR41gQUGgIFAQKPiva4IFBYGCQEGg\n",
       "IFDwv2QGdYJAQaAgUHAfFCwoCBQECgIFT1aDBQWBgkBBoCBQcNQIFhQECgIFgcJcH9IrCwoCBYGC\n",
       "QEGg4LeegzpBoCBQECi4DwoWFAQKAgWBgg/pYEFBoCBQECgIFLxAFSwoCBQECgIFR41gQUGgIFAQ\n",
       "KPiQDhYUBAoCBYGCQMGfpgjqBIGCQEGgMNel/cqCgkBBoCBQECi4MAsWFAQKAgWBgg/pYEFBoCBQ\n",
       "ECj4kA4WFAQKAgWBgkDBH1gKFhQECgIFgYKjRrCgIFAQKAgUfEgHCwoCBYGCQEGg4FcRgjpBoCBQ\n",
       "ECj4VYRgQUGgIFAQKAgUXJgFCwoCBYGCQMGHdLCgIFAQKAgUvMQZLCgIFAQKAgWBgqNGsKAgUBAo\n",
       "CBTmHR/SGwsKAgWBgkDBfVCwoCBQECgIFAQK7oOCBQWBgkBBoOCoESwoCBQECgIFgYKjRrCgIFAQ\n",
       "KAgUHDWCBQWBgkBBoOCbdLCgIFAQKAgUBAr+FQsWFAQKAgWBwly/irCyoCBQECgIFHyTDhYUBAoC\n",
       "BYGCQMGj52BBQaAgUBAozHvf/hF+mwUFgYJAQaAgUHDUCBYUBAoCBYGCv4IXLCgIFAQKAgXfpIMF\n",
       "BYGCQEGgIFDwAlWwoCBQECgIFPwqQrCgIFAQKAgUvB8ULCgIFAQKAgWBgqcawYKCQEGgIFBwaR8s\n",
       "KAgUBAoCBYGCpxrBgoJAQaAgUHAfFCwoCBQECgIFj56DBQWBgkBBoCBQcB8ULCgIFAQKAgWPnoMF\n",
       "BYGCQEGgMPfbP8GPs6AgUBAoCBQECo4awYKCQEGgIFDwflCwoCBQECgIFAQKLsyCBQWBgkBBoOA+\n",
       "KFhQECgIFAQKvkkHCwoCBYGCQEGg4KgRLCgIFAQKAgWPnoMFBYGCQEGgMP4yxc6CgkBBoCBQECg4\n",
       "agQLCgIFgYJAwaPnYEFBoCBQECgIFDx6DhYUBAoCBYGCo0awoCBQECgIFHyTDhYUBAoCBYGCQGGu\n",
       "N6hWFhQECgIFgYL7oGBBQaAgUBAouA8KFhQECgIFgYJAwVEjWFAQKAgUBArzXNqvLCgIFAQKAgWB\n",
       "wtzjwmxjQUGgIFAQKHg/KFhQECgIFAQK/gpesKAgUBAoCBQECv4KXrCgIFAQKAgUPHoOFhQECgIF\n",
       "gYKXOIMFBYGCQEGgIFDwC3XBgoJAQaAgUHDUCBYUBAoCBYGCQMFbrsGCgkBBoCBQ8JZrsKAgUBAo\n",
       "CBR8kw4WFAQKAgWBgkDBW67BgoJAQaAgUPD3g4IFBYGCQEGg4D4oWFAQKAgUBAoCBY+egwUFgYJA\n",
       "QaDgqBEsKAgUBAoCBYGCo0awoCBQECgIFBw1ggUFgYJAQaDgQzpYUBAoCBQECgIF90HBgoJAQaAg\n",
       "UHDUCBYUBAoCBYGCb9LBgoJAQaAgUBAoOGoECwoCBYGCQMHfDwoWFAQKAgWBgkDB/+0TLCgIFAQK\n",
       "AgX3QcGCgkBBoCBQmHd8Sm8sKAgUBAoCBYGCo0awoCBQECgIFDx6DhYUBAoCBYGCJ6vBgoJAQaAg\n",
       "UBAouA8KFhQECgIFgYJHz8GCgkBBoCBQECg4agQLCgIFgYJAwR9YChYUBAoCBYHCXC8IrSwoCBQE\n",
       "CgIFgYIXqIIFBYGCQEGgMM9RY2VBQaAgUBAo+CYdLCgIFAQKAgWBgqcawYKCQEGgIFDwflCwoCBQ\n",
       "ECgIFAQKc/1C3cqCgkBBoCBQcB8ULCgIFAQKAgV/miJYUBAoCBQECgIFL1AFCwoCBYGCQMGlfbCg\n",
       "IFAQKAgU3AcFCwoCBYGCQEGgMPe4EdpYUBAoCBQECu6DggUFgYJAQaAgUPCvWLCgIFAQKAgUPNUI\n",
       "FhQECgIFgYJL+2BBQaAgUBAoCBTmfhw1NhYUBAoCBYGCo0awoCBQECgIFOb5kF5ZUBAoCBQECgIF\n",
       "R41gQUGgIFAQKMz9+JDeWFAQKAgUBAoCBUeNYEFBoCBQECh4qhEsKAgUBAoCBd+kgwUFgYJAQaAg\n",
       "UPCvWLCgIFAQKAgUPHoOFhQECgIFgcK88+fbP8NPs6AgUBAoCBQECu6DggUFgYJAQaDg/aBgQUGg\n",
       "IFAQKAgU5j4XZhsLCgIFgYJAwVEjWFAQKAgUBApzPXpeWVAQKAgUBAoCBUeNYEFBoCBQECg4agQL\n",
       "CgIFgYJAYd7zTXpjQUGgIFAQKAgU3AcFCwoCBYGCQMFLnMGCgkBBoCBQECg4agQLCgIFgYJAYZ6j\n",
       "xsqCgkBBoCBQ8E06WFAQKAgUBAoChbleoFpZUBAoCBQECv7gdrCgIFAQKAgU/CpCsKAgUBAoCBQE\n",
       "Cp5qBAsKAgWBgkDBUSNYUBAoCBQECgIF/4oFCwoCBYGCQMGj52BBQaAgUBAo+CYdLCgIFAQKAgWB\n",
       "whyPnlcWFAQKAgWBgqNGsKAgUBAoCBS8xBksKAgUBAoCBYHCHEeNlQUFgYJAQaDg/aBgQUGgIFAQ\n",
       "KAgUPHoOFhQECgIFgYL7oGBBQaAgUBAozDvv2z/DT7OgIFAQKAgUBArug4IFBYGCQEGgMMdRY2VB\n",
       "QaAgUBAo/AdhU+3PqlcPeQAAAABJRU5ErkJggg==\n",
       "\" transform=\"translate(2161, 47)\"/>\n",
       "</g>\n",
       "<path clip-path=\"url(#clip450)\" d=\"M2280.7 1188.04 Q2277.09 1188.04 2275.26 1191.61 Q2273.45 1195.15 2273.45 1202.28 Q2273.45 1209.38 2275.26 1212.95 Q2277.09 1216.49 2280.7 1216.49 Q2284.33 1216.49 2286.14 1212.95 Q2287.97 1209.38 2287.97 1202.28 Q2287.97 1195.15 2286.14 1191.61 Q2284.33 1188.04 2280.7 1188.04 M2280.7 1184.34 Q2286.51 1184.34 2289.57 1188.94 Q2292.64 1193.53 2292.64 1202.28 Q2292.64 1211 2289.57 1215.61 Q2286.51 1220.19 2280.7 1220.19 Q2274.89 1220.19 2271.81 1215.61 Q2268.76 1211 2268.76 1202.28 Q2268.76 1193.53 2271.81 1188.94 Q2274.89 1184.34 2280.7 1184.34 Z\" fill=\"#000000\" fill-rule=\"nonzero\" fill-opacity=\"1\" /><path clip-path=\"url(#clip450)\" d=\"M2300.86 1213.64 L2305.75 1213.64 L2305.75 1219.52 L2300.86 1219.52 L2300.86 1213.64 Z\" fill=\"#000000\" fill-rule=\"nonzero\" fill-opacity=\"1\" /><path clip-path=\"url(#clip450)\" d=\"M2325.93 1188.04 Q2322.32 1188.04 2320.49 1191.61 Q2318.69 1195.15 2318.69 1202.28 Q2318.69 1209.38 2320.49 1212.95 Q2322.32 1216.49 2325.93 1216.49 Q2329.57 1216.49 2331.37 1212.95 Q2333.2 1209.38 2333.2 1202.28 Q2333.2 1195.15 2331.37 1191.61 Q2329.57 1188.04 2325.93 1188.04 M2325.93 1184.34 Q2331.74 1184.34 2334.8 1188.94 Q2337.88 1193.53 2337.88 1202.28 Q2337.88 1211 2334.8 1215.61 Q2331.74 1220.19 2325.93 1220.19 Q2320.12 1220.19 2317.04 1215.61 Q2313.99 1211 2313.99 1202.28 Q2313.99 1193.53 2317.04 1188.94 Q2320.12 1184.34 2325.93 1184.34 Z\" fill=\"#000000\" fill-rule=\"nonzero\" fill-opacity=\"1\" /><path clip-path=\"url(#clip450)\" d=\"M2346.9 1215.59 L2354.54 1215.59 L2354.54 1189.22 L2346.23 1190.89 L2346.23 1186.63 L2354.5 1184.96 L2359.17 1184.96 L2359.17 1215.59 L2366.81 1215.59 L2366.81 1219.52 L2346.9 1219.52 L2346.9 1215.59 Z\" fill=\"#000000\" fill-rule=\"nonzero\" fill-opacity=\"1\" /><path clip-path=\"url(#clip450)\" d=\"M2280.7 970.725 Q2277.09 970.725 2275.26 974.29 Q2273.45 977.832 2273.45 984.961 Q2273.45 992.068 2275.26 995.632 Q2277.09 999.174 2280.7 999.174 Q2284.33 999.174 2286.14 995.632 Q2287.97 992.068 2287.97 984.961 Q2287.97 977.832 2286.14 974.29 Q2284.33 970.725 2280.7 970.725 M2280.7 967.021 Q2286.51 967.021 2289.57 971.628 Q2292.64 976.211 2292.64 984.961 Q2292.64 993.688 2289.57 998.294 Q2286.51 1002.88 2280.7 1002.88 Q2274.89 1002.88 2271.81 998.294 Q2268.76 993.688 2268.76 984.961 Q2268.76 976.211 2271.81 971.628 Q2274.89 967.021 2280.7 967.021 Z\" fill=\"#000000\" fill-rule=\"nonzero\" fill-opacity=\"1\" /><path clip-path=\"url(#clip450)\" d=\"M2300.86 996.327 L2305.75 996.327 L2305.75 1002.21 L2300.86 1002.21 L2300.86 996.327 Z\" fill=\"#000000\" fill-rule=\"nonzero\" fill-opacity=\"1\" /><path clip-path=\"url(#clip450)\" d=\"M2325.93 970.725 Q2322.32 970.725 2320.49 974.29 Q2318.69 977.832 2318.69 984.961 Q2318.69 992.068 2320.49 995.632 Q2322.32 999.174 2325.93 999.174 Q2329.57 999.174 2331.37 995.632 Q2333.2 992.068 2333.2 984.961 Q2333.2 977.832 2331.37 974.29 Q2329.57 970.725 2325.93 970.725 M2325.93 967.021 Q2331.74 967.021 2334.8 971.628 Q2337.88 976.211 2337.88 984.961 Q2337.88 993.688 2334.8 998.294 Q2331.74 1002.88 2325.93 1002.88 Q2320.12 1002.88 2317.04 998.294 Q2313.99 993.688 2313.99 984.961 Q2313.99 976.211 2317.04 971.628 Q2320.12 967.021 2325.93 967.021 Z\" fill=\"#000000\" fill-rule=\"nonzero\" fill-opacity=\"1\" /><path clip-path=\"url(#clip450)\" d=\"M2350.12 998.271 L2366.44 998.271 L2366.44 1002.21 L2344.5 1002.21 L2344.5 998.271 Q2347.16 995.517 2351.74 990.887 Q2356.35 986.234 2357.53 984.892 Q2359.77 982.369 2360.65 980.632 Q2361.56 978.873 2361.56 977.183 Q2361.56 974.429 2359.61 972.693 Q2357.69 970.957 2354.59 970.957 Q2352.39 970.957 2349.94 971.72 Q2347.51 972.484 2344.73 974.035 L2344.73 969.313 Q2347.55 968.179 2350.01 967.6 Q2352.46 967.021 2354.5 967.021 Q2359.87 967.021 2363.06 969.707 Q2366.26 972.392 2366.26 976.882 Q2366.26 979.012 2365.45 980.933 Q2364.66 982.832 2362.55 985.424 Q2361.97 986.095 2358.87 989.313 Q2355.77 992.507 2350.12 998.271 Z\" fill=\"#000000\" fill-rule=\"nonzero\" fill-opacity=\"1\" /><path clip-path=\"url(#clip450)\" d=\"M2280.7 753.41 Q2277.09 753.41 2275.26 756.975 Q2273.45 760.516 2273.45 767.646 Q2273.45 774.752 2275.26 778.317 Q2277.09 781.859 2280.7 781.859 Q2284.33 781.859 2286.14 778.317 Q2287.97 774.752 2287.97 767.646 Q2287.97 760.516 2286.14 756.975 Q2284.33 753.41 2280.7 753.41 M2280.7 749.706 Q2286.51 749.706 2289.57 754.313 Q2292.64 758.896 2292.64 767.646 Q2292.64 776.373 2289.57 780.979 Q2286.51 785.562 2280.7 785.562 Q2274.89 785.562 2271.81 780.979 Q2268.76 776.373 2268.76 767.646 Q2268.76 758.896 2271.81 754.313 Q2274.89 749.706 2280.7 749.706 Z\" fill=\"#000000\" fill-rule=\"nonzero\" fill-opacity=\"1\" /><path clip-path=\"url(#clip450)\" d=\"M2300.86 779.012 L2305.75 779.012 L2305.75 784.891 L2300.86 784.891 L2300.86 779.012 Z\" fill=\"#000000\" fill-rule=\"nonzero\" fill-opacity=\"1\" /><path clip-path=\"url(#clip450)\" d=\"M2325.93 753.41 Q2322.32 753.41 2320.49 756.975 Q2318.69 760.516 2318.69 767.646 Q2318.69 774.752 2320.49 778.317 Q2322.32 781.859 2325.93 781.859 Q2329.57 781.859 2331.37 778.317 Q2333.2 774.752 2333.2 767.646 Q2333.2 760.516 2331.37 756.975 Q2329.57 753.41 2325.93 753.41 M2325.93 749.706 Q2331.74 749.706 2334.8 754.313 Q2337.88 758.896 2337.88 767.646 Q2337.88 776.373 2334.8 780.979 Q2331.74 785.562 2325.93 785.562 Q2320.12 785.562 2317.04 780.979 Q2313.99 776.373 2313.99 767.646 Q2313.99 758.896 2317.04 754.313 Q2320.12 749.706 2325.93 749.706 Z\" fill=\"#000000\" fill-rule=\"nonzero\" fill-opacity=\"1\" /><path clip-path=\"url(#clip450)\" d=\"M2360.26 766.257 Q2363.62 766.975 2365.49 769.243 Q2367.39 771.512 2367.39 774.845 Q2367.39 779.961 2363.87 782.762 Q2360.35 785.562 2353.87 785.562 Q2351.7 785.562 2349.38 785.123 Q2347.09 784.706 2344.64 783.85 L2344.64 779.336 Q2346.58 780.47 2348.89 781.049 Q2351.21 781.627 2353.73 781.627 Q2358.13 781.627 2360.42 779.891 Q2362.74 778.155 2362.74 774.845 Q2362.74 771.789 2360.58 770.076 Q2358.45 768.34 2354.64 768.34 L2350.61 768.34 L2350.61 764.498 L2354.82 764.498 Q2358.27 764.498 2360.1 763.132 Q2361.93 761.743 2361.93 759.151 Q2361.93 756.489 2360.03 755.077 Q2358.15 753.641 2354.64 753.641 Q2352.71 753.641 2350.51 754.058 Q2348.32 754.475 2345.68 755.354 L2345.68 751.188 Q2348.34 750.447 2350.65 750.077 Q2352.99 749.706 2355.05 749.706 Q2360.38 749.706 2363.48 752.137 Q2366.58 754.544 2366.58 758.664 Q2366.58 761.535 2364.94 763.526 Q2363.29 765.493 2360.26 766.257 Z\" fill=\"#000000\" fill-rule=\"nonzero\" fill-opacity=\"1\" /><path clip-path=\"url(#clip450)\" d=\"M2280.7 536.095 Q2277.09 536.095 2275.26 539.659 Q2273.45 543.201 2273.45 550.331 Q2273.45 557.437 2275.26 561.002 Q2277.09 564.544 2280.7 564.544 Q2284.33 564.544 2286.14 561.002 Q2287.97 557.437 2287.97 550.331 Q2287.97 543.201 2286.14 539.659 Q2284.33 536.095 2280.7 536.095 M2280.7 532.391 Q2286.51 532.391 2289.57 536.997 Q2292.64 541.581 2292.64 550.331 Q2292.64 559.058 2289.57 563.664 Q2286.51 568.247 2280.7 568.247 Q2274.89 568.247 2271.81 563.664 Q2268.76 559.058 2268.76 550.331 Q2268.76 541.581 2271.81 536.997 Q2274.89 532.391 2280.7 532.391 Z\" fill=\"#000000\" fill-rule=\"nonzero\" fill-opacity=\"1\" /><path clip-path=\"url(#clip450)\" d=\"M2300.86 561.696 L2305.75 561.696 L2305.75 567.576 L2300.86 567.576 L2300.86 561.696 Z\" fill=\"#000000\" fill-rule=\"nonzero\" fill-opacity=\"1\" /><path clip-path=\"url(#clip450)\" d=\"M2325.93 536.095 Q2322.32 536.095 2320.49 539.659 Q2318.69 543.201 2318.69 550.331 Q2318.69 557.437 2320.49 561.002 Q2322.32 564.544 2325.93 564.544 Q2329.57 564.544 2331.37 561.002 Q2333.2 557.437 2333.2 550.331 Q2333.2 543.201 2331.37 539.659 Q2329.57 536.095 2325.93 536.095 M2325.93 532.391 Q2331.74 532.391 2334.8 536.997 Q2337.88 541.581 2337.88 550.331 Q2337.88 559.058 2334.8 563.664 Q2331.74 568.247 2325.93 568.247 Q2320.12 568.247 2317.04 563.664 Q2313.99 559.058 2313.99 550.331 Q2313.99 541.581 2317.04 536.997 Q2320.12 532.391 2325.93 532.391 Z\" fill=\"#000000\" fill-rule=\"nonzero\" fill-opacity=\"1\" /><path clip-path=\"url(#clip450)\" d=\"M2358.94 537.09 L2347.14 555.539 L2358.94 555.539 L2358.94 537.09 M2357.71 533.016 L2363.59 533.016 L2363.59 555.539 L2368.52 555.539 L2368.52 559.428 L2363.59 559.428 L2363.59 567.576 L2358.94 567.576 L2358.94 559.428 L2343.34 559.428 L2343.34 554.914 L2357.71 533.016 Z\" fill=\"#000000\" fill-rule=\"nonzero\" fill-opacity=\"1\" /><path clip-path=\"url(#clip450)\" d=\"M2280.7 318.779 Q2277.09 318.779 2275.26 322.344 Q2273.45 325.886 2273.45 333.015 Q2273.45 340.122 2275.26 343.687 Q2277.09 347.228 2280.7 347.228 Q2284.33 347.228 2286.14 343.687 Q2287.97 340.122 2287.97 333.015 Q2287.97 325.886 2286.14 322.344 Q2284.33 318.779 2280.7 318.779 M2280.7 315.076 Q2286.51 315.076 2289.57 319.682 Q2292.64 324.266 2292.64 333.015 Q2292.64 341.742 2289.57 346.349 Q2286.51 350.932 2280.7 350.932 Q2274.89 350.932 2271.81 346.349 Q2268.76 341.742 2268.76 333.015 Q2268.76 324.266 2271.81 319.682 Q2274.89 315.076 2280.7 315.076 Z\" fill=\"#000000\" fill-rule=\"nonzero\" fill-opacity=\"1\" /><path clip-path=\"url(#clip450)\" d=\"M2300.86 344.381 L2305.75 344.381 L2305.75 350.261 L2300.86 350.261 L2300.86 344.381 Z\" fill=\"#000000\" fill-rule=\"nonzero\" fill-opacity=\"1\" /><path clip-path=\"url(#clip450)\" d=\"M2325.93 318.779 Q2322.32 318.779 2320.49 322.344 Q2318.69 325.886 2318.69 333.015 Q2318.69 340.122 2320.49 343.687 Q2322.32 347.228 2325.93 347.228 Q2329.57 347.228 2331.37 343.687 Q2333.2 340.122 2333.2 333.015 Q2333.2 325.886 2331.37 322.344 Q2329.57 318.779 2325.93 318.779 M2325.93 315.076 Q2331.74 315.076 2334.8 319.682 Q2337.88 324.266 2337.88 333.015 Q2337.88 341.742 2334.8 346.349 Q2331.74 350.932 2325.93 350.932 Q2320.12 350.932 2317.04 346.349 Q2313.99 341.742 2313.99 333.015 Q2313.99 324.266 2317.04 319.682 Q2320.12 315.076 2325.93 315.076 Z\" fill=\"#000000\" fill-rule=\"nonzero\" fill-opacity=\"1\" /><path clip-path=\"url(#clip450)\" d=\"M2346.14 315.701 L2364.5 315.701 L2364.5 319.636 L2350.42 319.636 L2350.42 328.108 Q2351.44 327.761 2352.46 327.599 Q2353.48 327.414 2354.5 327.414 Q2360.28 327.414 2363.66 330.585 Q2367.04 333.756 2367.04 339.173 Q2367.04 344.752 2363.57 347.853 Q2360.1 350.932 2353.78 350.932 Q2351.6 350.932 2349.33 350.562 Q2347.09 350.191 2344.68 349.451 L2344.68 344.752 Q2346.76 345.886 2348.99 346.441 Q2351.21 346.997 2353.69 346.997 Q2357.69 346.997 2360.03 344.89 Q2362.37 342.784 2362.37 339.173 Q2362.37 335.562 2360.03 333.455 Q2357.69 331.349 2353.69 331.349 Q2351.81 331.349 2349.94 331.766 Q2348.08 332.182 2346.14 333.062 L2346.14 315.701 Z\" fill=\"#000000\" fill-rule=\"nonzero\" fill-opacity=\"1\" /><path clip-path=\"url(#clip450)\" d=\"M2280.7 101.464 Q2277.09 101.464 2275.26 105.029 Q2273.45 108.571 2273.45 115.7 Q2273.45 122.807 2275.26 126.372 Q2277.09 129.913 2280.7 129.913 Q2284.33 129.913 2286.14 126.372 Q2287.97 122.807 2287.97 115.7 Q2287.97 108.571 2286.14 105.029 Q2284.33 101.464 2280.7 101.464 M2280.7 97.7606 Q2286.51 97.7606 2289.57 102.367 Q2292.64 106.95 2292.64 115.7 Q2292.64 124.427 2289.57 129.034 Q2286.51 133.617 2280.7 133.617 Q2274.89 133.617 2271.81 129.034 Q2268.76 124.427 2268.76 115.7 Q2268.76 106.95 2271.81 102.367 Q2274.89 97.7606 2280.7 97.7606 Z\" fill=\"#000000\" fill-rule=\"nonzero\" fill-opacity=\"1\" /><path clip-path=\"url(#clip450)\" d=\"M2300.86 127.066 L2305.75 127.066 L2305.75 132.946 L2300.86 132.946 L2300.86 127.066 Z\" fill=\"#000000\" fill-rule=\"nonzero\" fill-opacity=\"1\" /><path clip-path=\"url(#clip450)\" d=\"M2325.93 101.464 Q2322.32 101.464 2320.49 105.029 Q2318.69 108.571 2318.69 115.7 Q2318.69 122.807 2320.49 126.372 Q2322.32 129.913 2325.93 129.913 Q2329.57 129.913 2331.37 126.372 Q2333.2 122.807 2333.2 115.7 Q2333.2 108.571 2331.37 105.029 Q2329.57 101.464 2325.93 101.464 M2325.93 97.7606 Q2331.74 97.7606 2334.8 102.367 Q2337.88 106.95 2337.88 115.7 Q2337.88 124.427 2334.8 129.034 Q2331.74 133.617 2325.93 133.617 Q2320.12 133.617 2317.04 129.034 Q2313.99 124.427 2313.99 115.7 Q2313.99 106.95 2317.04 102.367 Q2320.12 97.7606 2325.93 97.7606 Z\" fill=\"#000000\" fill-rule=\"nonzero\" fill-opacity=\"1\" /><path clip-path=\"url(#clip450)\" d=\"M2356.67 113.802 Q2353.52 113.802 2351.67 115.955 Q2349.84 118.108 2349.84 121.858 Q2349.84 125.584 2351.67 127.76 Q2353.52 129.913 2356.67 129.913 Q2359.82 129.913 2361.65 127.76 Q2363.5 125.584 2363.5 121.858 Q2363.5 118.108 2361.65 115.955 Q2359.82 113.802 2356.67 113.802 M2365.95 99.1494 L2365.95 103.409 Q2364.2 102.575 2362.39 102.136 Q2360.61 101.696 2358.85 101.696 Q2354.22 101.696 2351.76 104.821 Q2349.33 107.946 2348.99 114.265 Q2350.35 112.251 2352.41 111.186 Q2354.47 110.098 2356.95 110.098 Q2362.16 110.098 2365.17 113.27 Q2368.2 116.418 2368.2 121.858 Q2368.2 127.182 2365.05 130.399 Q2361.9 133.617 2356.67 133.617 Q2350.68 133.617 2347.51 129.034 Q2344.33 124.427 2344.33 115.7 Q2344.33 107.506 2348.22 102.645 Q2352.11 97.7606 2358.66 97.7606 Q2360.42 97.7606 2362.2 98.1078 Q2364.01 98.455 2365.95 99.1494 Z\" fill=\"#000000\" fill-rule=\"nonzero\" fill-opacity=\"1\" /><polyline clip-path=\"url(#clip450)\" style=\"stroke:#000000; stroke-linecap:round; stroke-linejoin:round; stroke-width:4; stroke-opacity:1; fill:none\" points=\"2232.76,1423.18 2232.76,1205.87 2256.76,1205.87 2232.76,1205.87 2232.76,988.555 2256.76,988.555 2232.76,988.555 2232.76,771.24 2256.76,771.24 2232.76,771.24 2232.76,553.925 2256.76,553.925 2232.76,553.925 2232.76,336.61 2256.76,336.61 2232.76,336.61 2232.76,119.294 2256.76,119.294 2232.76,119.294 2232.76,47.2441 \"/>\n",
       "</svg>\n"
      ]
     },
     "execution_count": 125,
     "metadata": {},
     "output_type": "execute_result"
    }
   ],
   "source": [
    "heatmap(reshape(get_density_profiles(NM_MB_Array_Storage, r_hubbard_states, index_eig_states), Nx, Ny),xlabel=\"x\", ylabel=\"y\")"
   ]
  },
  {
   "cell_type": "code",
   "execution_count": 249,
   "id": "5662511a-ca2f-4a26-a0df-39e963a55e0d",
   "metadata": {
    "tags": []
   },
   "outputs": [
    {
     "data": {
      "image/svg+xml": [
       "<?xml version=\"1.0\" encoding=\"utf-8\"?>\n",
       "<svg xmlns=\"http://www.w3.org/2000/svg\" xmlns:xlink=\"http://www.w3.org/1999/xlink\" width=\"600\" height=\"400\" viewBox=\"0 0 2400 1600\">\n",
       "<defs>\n",
       "  <clipPath id=\"clip330\">\n",
       "    <rect x=\"0\" y=\"0\" width=\"2400\" height=\"1600\"/>\n",
       "  </clipPath>\n",
       "</defs>\n",
       "<path clip-path=\"url(#clip330)\" d=\"M0 1600 L2400 1600 L2400 0 L0 0  Z\" fill=\"#ffffff\" fill-rule=\"evenodd\" fill-opacity=\"1\"/>\n",
       "<defs>\n",
       "  <clipPath id=\"clip331\">\n",
       "    <rect x=\"480\" y=\"0\" width=\"1681\" height=\"1600\"/>\n",
       "  </clipPath>\n",
       "</defs>\n",
       "<path clip-path=\"url(#clip330)\" d=\"M175.445 1351.55 L2112.76 1351.55 L2112.76 195.104 L175.445 195.104  Z\" fill=\"#ffffff\" fill-rule=\"evenodd\" fill-opacity=\"1\"/>\n",
       "<defs>\n",
       "  <clipPath id=\"clip332\">\n",
       "    <rect x=\"175\" y=\"195\" width=\"1938\" height=\"1157\"/>\n",
       "  </clipPath>\n",
       "</defs>\n",
       "<path clip-path=\"url(#clip330)\" d=\"M1145.79 1499.72 Q1143.3 1506.09 1140.95 1508.03 Q1138.59 1509.97 1134.65 1509.97 L1129.97 1509.97 L1129.97 1505.07 L1133.41 1505.07 Q1135.83 1505.07 1137.16 1503.92 Q1138.5 1502.78 1140.12 1498.51 L1141.17 1495.84 L1126.75 1460.76 L1132.96 1460.76 L1144.1 1488.65 L1155.24 1460.76 L1161.45 1460.76 L1145.79 1499.72 Z\" fill=\"#000000\" fill-rule=\"nonzero\" fill-opacity=\"1\" /><path clip-path=\"url(#clip330)\" d=\"M28.3562 756.711 L45.7028 769.602 L64.0042 756.043 L64.0042 762.95 L49.9996 773.326 L64.0042 783.702 L64.0042 790.609 L45.3526 776.763 L28.3562 789.431 L28.3562 782.524 L41.0558 773.071 L28.3562 763.618 L28.3562 756.711 Z\" fill=\"#000000\" fill-rule=\"nonzero\" fill-opacity=\"1\" /><path clip-path=\"url(#clip330)\" d=\"M1041.61 18.8205 L1041.61 41.5461 L1051.9 41.5461 Q1057.61 41.5461 1060.73 38.5889 Q1063.85 35.6318 1063.85 30.163 Q1063.85 24.7348 1060.73 21.7777 Q1057.61 18.8205 1051.9 18.8205 L1041.61 18.8205 M1033.43 12.096 L1051.9 12.096 Q1062.07 12.096 1067.25 16.714 Q1072.48 21.2916 1072.48 30.163 Q1072.48 39.1155 1067.25 43.6931 Q1062.07 48.2706 1051.9 48.2706 L1041.61 48.2706 L1041.61 72.576 L1033.43 72.576 L1033.43 12.096 Z\" fill=\"#000000\" fill-rule=\"nonzero\" fill-opacity=\"1\" /><path clip-path=\"url(#clip330)\" d=\"M1110.6 28.5427 L1110.6 35.5912 Q1107.44 33.9709 1104.04 33.1607 Q1100.63 32.3505 1096.99 32.3505 Q1091.44 32.3505 1088.64 34.0519 Q1085.89 35.7533 1085.89 39.156 Q1085.89 41.7486 1087.87 43.2475 Q1089.86 44.7058 1095.85 46.0426 L1098.41 46.6097 Q1106.35 48.3111 1109.67 51.4303 Q1113.03 54.509 1113.03 60.0587 Q1113.03 66.3781 1108.01 70.0644 Q1103.02 73.7508 1094.27 73.7508 Q1090.63 73.7508 1086.66 73.0216 Q1082.73 72.3329 1078.35 70.9151 L1078.35 63.2184 Q1082.49 65.3654 1086.5 66.4591 Q1090.51 67.5124 1094.44 67.5124 Q1099.7 67.5124 1102.54 65.73 Q1105.37 63.9071 1105.37 60.6258 Q1105.37 57.5877 1103.31 55.9673 Q1101.28 54.3469 1094.36 52.8481 L1091.76 52.2405 Q1084.84 50.7821 1081.76 47.7845 Q1078.68 44.7463 1078.68 39.4801 Q1078.68 33.0797 1083.22 29.5959 Q1087.75 26.1121 1096.1 26.1121 Q1100.23 26.1121 1103.88 26.7198 Q1107.52 27.3274 1110.6 28.5427 Z\" fill=\"#000000\" fill-rule=\"nonzero\" fill-opacity=\"1\" /><path clip-path=\"url(#clip330)\" d=\"M1124.9 27.2059 L1132.35 27.2059 L1132.35 72.576 L1124.9 72.576 L1124.9 27.2059 M1124.9 9.54393 L1132.35 9.54393 L1132.35 18.9825 L1124.9 18.9825 L1124.9 9.54393 Z\" fill=\"#000000\" fill-rule=\"nonzero\" fill-opacity=\"1\" /><path clip-path=\"url(#clip330)\" d=\"M1148.92 34.9026 L1200.85 34.9026 L1200.85 41.7081 L1148.92 41.7081 L1148.92 34.9026 M1148.92 51.4303 L1200.85 51.4303 L1200.85 58.3168 L1148.92 58.3168 L1148.92 51.4303 Z\" fill=\"#000000\" fill-rule=\"nonzero\" fill-opacity=\"1\" /><path clip-path=\"url(#clip330)\" d=\"M1219.93 65.6895 L1233.3 65.6895 L1233.3 19.5497 L1218.76 22.4663 L1218.76 15.0127 L1233.22 12.096 L1241.4 12.096 L1241.4 65.6895 L1254.77 65.6895 L1254.77 72.576 L1219.93 72.576 L1219.93 65.6895 Z\" fill=\"#000000\" fill-rule=\"nonzero\" fill-opacity=\"1\" /><g clip-path=\"url(#clip332)\">\n",
       "<image width=\"1364\" height=\"1091\" xlink:href=\"data:image/png;base64,\n",
       "iVBORw0KGgoAAAANSUhEUgAABVQAAARDCAYAAACHoKqzAAAgAElEQVR4nOzasWpYZRyH4aZJbBNb\n",
       "2rRWHOyWTRBpQSdRRwdvwPvyRnTQTQUXBRUEQUR0EKSi1WBj0xgTvYLGF5f/V3ieK/hN53znPd/G\n",
       "yTtP/XMBzvHNu69OT2Bhxyfb0xNY3Auvfzo9gYVt3708PYGVnZ5OL2B1m5vTC1jYyeePpiewuK8/\n",
       "emV6Agu7tH0yPYGFXZweAAAAAADwpBBUAQAAAAAiQRUAAAAAIBJUAQAAAAAiQRUAAAAAIBJUAQAA\n",
       "AAAiQRUAAAAAIBJUAQAAAAAiQRUAAAAAIBJUAQAAAAAiQRUAAAAAIBJUAQAAAAAiQRUAAAAAIBJU\n",
       "AQAAAAAiQRUAAAAAIBJUAQAAAAAiQRUAAAAAIBJUAQAAAAAiQRUAAAAAIBJUAQAAAAAiQRUAAAAA\n",
       "IBJUAQAAAAAiQRUAAAAAIBJUAQAAAAAiQRUAAAAAIBJUAQAAAAAiQRUAAAAAIBJUAQAAAAAiQRUA\n",
       "AAAAIBJUAQAAAAAiQRUAAAAAIBJUAQAAAAAiQRUAAAAAIBJUAQAAAAAiQRUAAAAAIBJUAQAAAAAi\n",
       "QRUAAAAAIBJUAQAAAAAiQRUAAAAAIBJUAQAAAAAiQRUAAAAAIBJUAQAAAAAiQRUAAAAAIBJUAQAA\n",
       "AAAiQRUAAAAAIBJUAQAAAAAiQRUAAAAAIBJUAQAAAAAiQRUAAAAAIBJUAQAAAAAiQRUAAAAAIBJU\n",
       "AQAAAAAiQRUAAAAAIBJUAQAAAAAiQRUAAAAAIBJUAQAAAAAiQRUAAAAAIBJUAQAAAAAiQRUAAAAA\n",
       "IBJUAQAAAAAiQRUAAAAAIBJUAQAAAAAiQRUAAAAAIBJUAQAAAAAiQRUAAAAAIBJUAQAAAAAiQRUA\n",
       "AAAAIBJUAQAAAAAiQRUAAAAAIBJUAQAAAAAiQRUAAAAAIBJUAQAAAAAiQRUAAAAAIBJUAQAAAAAi\n",
       "QRUAAAAAIBJUAQAAAAAiQRUAAAAAIBJUAQAAAAAiQRUAAAAAIBJUAQAAAAAiQRUAAAAAIBJUAQAA\n",
       "AAAiQRUAAAAAIBJUAQAAAAAiQRUAAAAAIBJUAQAAAAAiQRUAAAAAIBJUAQAAAAAiQRUAAAAAIBJU\n",
       "AQAAAAAiQRUAAAAAIBJUAQAAAAAiQRUAAAAAIBJUAQAAAAAiQRUAAAAAIBJUAQAAAAAiQRUAAAAA\n",
       "IBJUAQAAAAAiQRUAAAAAIBJUAQAAAAAiQRUAAAAAIBJUAQAAAAAiQRUAAAAAIBJUAQAAAAAiQRUA\n",
       "AAAAIBJUAQAAAAAiQRUAAAAAIBJUAQAAAAAiQRUAAAAAIBJUAQAAAAAiQRUAAAAAIBJUAQAAAAAi\n",
       "QRUAAAAAIBJUAQAAAAAiQRUAAAAAIBJUAQAAAAAiQRUAAAAAIBJUAQAAAAAiQRUAAAAAIBJUAQAA\n",
       "AAAiQRUAAAAAIBJUAQAAAAAiQRUAAAAAIBJUAQAAAAAiQRUAAAAAIBJUAQAAAAAiQRUAAAAAIBJU\n",
       "AQAAAAAiQRUAAAAAIBJUAQAAAAAiQRUAAAAAIBJUAQAAAAAiQRUAAAAAIBJUAQAAAAAiQRUAAAAA\n",
       "IBJUAQAAAACirQub0xOAJ9nZmf8ynG9j+3R6Ags7vfHs9ARWdtFBlf9w5h3D421s/zA9gcX5lgH+\n",
       "L08PAAAAAIBIUAUAAAAAiARVAAAAAIBIUAUAAAAAiARVAAAAAIBIUAUAAAAAiARVAAAAAIBIUAUA\n",
       "AAAAiARVAAAAAIBIUAUAAAAAiARVAAAAAIBIUAUAAAAAiARVAAAAAIBIUAUAAAAAiARVAAAAAIBI\n",
       "UAUAAAAAiARVAAAAAIBIUAUAAAAAiARVAAAAAIBIUAUAAAAAiARVAAAAAIBIUAUAAAAAiARVAAAA\n",
       "AIBIUAUAAAAAiARVAAAAAIBIUAUAAAAAiARVAAAAAIBIUAUAAAAAiARVAAAAAIBIUAUAAAAAiARV\n",
       "AAAAAIBIUAUAAAAAiARVAAAAAIBIUAUAAAAAiARVAAAAAIBIUAUAAAAAiARVAAAAAIBIUAUAAAAA\n",
       "iARVAAAAAIBIUAUAAAAAiARVAAAAAIBIUAUAAAAAiARVAAAAAIBIUAUAAAAAiARVAAAAAIBIUAUA\n",
       "AAAAiARVAAAAAIBIUAUAAAAAiARVAAAAAIBIUAUAAAAAiARVAAAAAIBIUAUAAAAAiARVAAAAAIBI\n",
       "UAUAAAAAiARVAAAAAIBIUAUAAAAAiARVAAAAAIBIUAUAAAAAiARVAAAAAIBIUAUAAAAAiARVAAAA\n",
       "AIBIUAUAAAAAiARVAAAAAIBIUAUAAAAAiARVAAAAAIBIUAUAAAAAiARVAAAAAIBIUAUAAAAAiARV\n",
       "AAAAAIBIUAUAAAAAiARVAAAAAIBIUAUAAAAAiARVAAAAAIBIUAUAAAAAiARVAAAAAIBIUAUAAAAA\n",
       "iARVAAAAAIBIUAUAAAAAiARVAAAAAIBIUAUAAAAAiARVAAAAAIBIUAUAAAAAiARVAAAAAIBIUAUA\n",
       "AAAAiARVAAAAAIBIUAUAAAAAiARVAAAAAIBIUAUAAAAAiARVAAAAAIBIUAUAAAAAiARVAAAAAIBI\n",
       "UAUAAAAAiARVAAAAAIBIUAUAAAAAiARVAAAAAIBIUAUAAAAAiARVAAAAAIBIUAUAAAAAiARVAAAA\n",
       "AIBIUAUAAAAAiARVAAAAAIBIUAUAAAAAiARVAAAAAIBIUAUAAAAAiARVAAAAAIBIUAUAAAAAiARV\n",
       "AAAAAIBIUAUAAAAAiARVAAAAAIBIUAUAAAAAiARVAAAAAIBIUAUAAAAAiARVAAAAAIBIUAUAAAAA\n",
       "iARVAAAAAIBIUAUAAAAAiARVAAAAAIBIUAUAAAAAiARVAAAAAIBIUAUAAAAAiARVAAAAAIBIUAUA\n",
       "AAAAiARVAAAAAIBIUAUAAAAAiARVAAAAAIBIUAUAAAAAiARVAAAAAIBIUAUAAAAAiARVAAAAAIBI\n",
       "UAUAAAAAiARVAAAAAIBIUAUAAAAAiARVAAAAAIBIUAUAAAAAiARVAAAAAIBoa+P2M9MbWNzu7tH0\n",
       "BBb288He9AQW98tX+9MTWNiVnw6mJ7Cwo4Or0xNY3M71B9MTWNjhr84gnO+Po93pCSzs5p5zKo/n\n",
       "hioAAAAAQCSoAgAAAABEgioAAAAAQCSoAgAAAABEgioAAAAAQCSoAgAAAABEgioAAAAAQCSoAgAA\n",
       "AABEgioAAAAAQCSoAgAAAABEgioAAAAAQCSoAgAAAABEgioAAAAAQCSoAgAAAABEgioAAAAAQCSo\n",
       "AgAAAABEgioAAAAAQCSoAgAAAABEgioAAAAAQCSoAgAAAABEgioAAAAAQCSoAgAAAABEgioAAAAA\n",
       "QCSoAgAAAABEgioAAAAAQCSoAgAAAABEgioAAAAAQCSoAgAAAABEgioAAAAAQCSoAgAAAABEgioA\n",
       "AAAAQCSoAgAAAABEgioAAAAAQCSoAgAAAABEgioAAAAAQCSoAgAAAABEgioAAAAAQCSoAgAAAABE\n",
       "gioAAAAAQCSoAgAAAABEgioAAAAAQCSoAgAAAABEgioAAAAAQCSoAgAAAABEgioAAAAAQCSoAgAA\n",
       "AABEgioAAAAAQCSoAgAAAABEgioAAAAAQCSoAgAAAABEgioAAAAAQCSoAgAAAABEgioAAAAAQCSo\n",
       "AgAAAABEgioAAAAAQCSoAgAAAABEgioAAAAAQCSoAgAAAABEgioAAAAAQCSoAgAAAABEgioAAAAA\n",
       "QCSoAgAAAABEgioAAAAAQCSoAgAAAABEgioAAAAAQCSoAgAAAABEgioAAAAAQCSoAgAAAABEgioA\n",
       "AAAAQCSoAgAAAABEgioAAAAAQCSoAgAAAABEgioAAAAAQCSoAgAAAABEgioAAAAAQCSoAgAAAABE\n",
       "gioAAAAAQCSoAgAAAABEgioAAAAAQCSoAgAAAABEgioAAAAAQCSoAgAAAABEgioAAAAAQCSoAgAA\n",
       "AABEgioAAAAAQCSoAgAAAABEgioAAAAAQCSoAgAAAABEgioAAAAAQCSoAgAAAABEgioAAAAAQCSo\n",
       "AgAAAABEgioAAAAAQCSoAgAAAABEgioAAAAAQCSoAgAAAABEgioAAAAAQCSoAgAAAABEgioAAAAA\n",
       "QCSoAgAAAABEgioAAAAAQCSoAgAAAABEgioAAAAAQCSoAgAAAABEgioAAAAAQCSoAgAAAABEgioA\n",
       "AAAAQCSoAgAAAABEgioAAAAAQCSoAgAAAABEgioAAAAAQCSoAgAAAABEgioAAAAAQCSoAgAAAABE\n",
       "gioAAAAAQCSoAgAAAABEgioAAAAAQCSoAgAAAABEgioAAAAAQCSoAgAAAABEgioAAAAAQCSoAgAA\n",
       "AABEgioAAAAAQCSoAgAAAABEgioAAAAAQCSoAgAAAABEgioAAAAAQCSoAgAAAABEgioAAAAAQCSo\n",
       "AgAAAABEgioAAAAAQCSoAgAAAABEgioAAAAAQCSoAgAAAABEgioAAAAAQCSoAgAAAABEWw/vvDm9\n",
       "gcVdu/XJ9AQW9tv3+9MTWNwHX96dnsDCPru/Mz2BhX3x58H0BBZ35+nr0xNY2Ms3j6YnsLhrl46n\n",
       "J7Cwl27dn57AwtxQBQAAAACIBFUAAAAAgEhQBQAAAACIBFUAAAAAgEhQBQAAAACIBFUAAAAAgEhQ\n",
       "BQAAAACIBFUAAAAAgEhQBQAAAACIBFUAAAAAgEhQBQAAAACIBFUAAAAAgEhQBQAAAACIBFUAAAAA\n",
       "gEhQBQAAAACIBFUAAAAAgEhQBQAAAACIBFUAAAAAgEhQBQAAAACIBFUAAAAAgEhQBQAAAACIBFUA\n",
       "AAAAgEhQBQAAAACIBFUAAAAAgEhQBQAAAACIBFUAAAAAgEhQBQAAAACIBFUAAAAAgEhQBQAAAACI\n",
       "BFUAAAAAgEhQBQAAAACIBFUAAAAAgEhQBQAAAACIBFUAAAAAgEhQBQAAAACIBFUAAAAAgEhQBQAA\n",
       "AACIBFUAAAAAgEhQBQAAAACIBFUAAAAAgEhQBQAAAACIBFUAAAAAgEhQBQAAAACIBFUAAAAAgEhQ\n",
       "BQAAAACIBFUAAAAAgEhQBQAAAACIBFUAAAAAgEhQBQAAAACIBFUAAAAAgEhQBQAAAACIBFUAAAAA\n",
       "gEhQBQAAAACIBFUAAAAAgEhQBQAAAACIBFUAAAAAgEhQBQAAAACIBFUAAAAAgEhQBQAAAACIBFUA\n",
       "AAAAgEhQBQAAAACIBFUAAAAAgEhQBQAAAACIBFUAAAAAgEhQBQAAAACIBFUAAAAAgEhQBQAAAACI\n",
       "BFUAAAAAgEhQBQAAAACIBFUAAAAAgEhQBQAAAACIBFUAAAAAgEhQBQAAAACIBFUAAAAAgEhQBQAA\n",
       "AACIBFUAAAAAgEhQBQAAAACIBFUAAAAAgEhQBQAAAACIBFUAAAAAgEhQBQAAAACIBFUAAAAAgEhQ\n",
       "BQAAAACIBFUAAAAAgEhQBQAAAACIBFUAAAAAgEhQBQAAAACIBFUAAAAAgEhQBQAAAACIBFUAAAAA\n",
       "gEhQBQAAAACIBFUAAAAAgEhQBQAAAACIBFUAAAAAgEhQBQAAAACIBFUAAAAAgEhQBQAAAACIBFUA\n",
       "AAAAgEhQBQAAAACIBFUAAAAAgEhQBQAAAACIBFUAAAAAgEhQBQAAAACIBFUAAAAAgEhQBQAAAACI\n",
       "BFUAAAAAgEhQBQAAAACIBFUAAAAAgEhQBQAAAACIBFUAAAAAgEhQBQAAAACIBFUAAAAAgEhQBQAA\n",
       "AACIBFUAAAAAgEhQBQAAAACIBFUAAAAAgEhQBQAAAACIBFUAAAAAgEhQBQAAAACIBFUAAAAAgEhQ\n",
       "BQAAAACIBFUAAAAAgEhQBQAAAACIBFUAAAAAgEhQBQAAAACIBFUAAAAAgEhQBQAAAACIBFUAAAAA\n",
       "gEhQBQAAAACIBFUAAAAAgEhQBQAAAACIBFUAAAAAgEhQBQAAAACIBFUAAAAAgEhQBQAAAACItnaf\n",
       "e2N6A4vb2Ht/egILOzndnJ7A4r47vDw9gYV9fPTj9AQW9u3D96YnsLgHF9+ansDCbhw+Pz2Bxb24\n",
       "9ff0BBZ2ae/B9AQW5oYqAAAAAEAkqAIAAAAARIIqAAAAAEAkqAIAAAAARIIqAAAAAEAkqAIAAAAA\n",
       "RIIqAAAAAEAkqAIAAAAARIIqAAAAAEAkqAIAAAAARIIqAAAAAEAkqAIAAAAARIIqAAAAAEAkqAIA\n",
       "AAAARIIqAAAAAEAkqAIAAAAARIIqAAAAAEAkqAIAAAAARIIqAAAAAEAkqAIAAAAARIIqAAAAAEAk\n",
       "qAIAAAAARIIqAAAAAEAkqAIAAAAARIIqAAAAAEAkqAIAAAAARIIqAAAAAEAkqAIAAAAARIIqAAAA\n",
       "AEAkqAIAAAAARIIqAAAAAEAkqAIAAAAARIIqAAAAAEAkqAIAAAAARIIqAAAAAEAkqAIAAAAARIIq\n",
       "AAAAAEAkqAIAAAAARIIqAAAAAEAkqAIAAAAARIIqAAAAAEAkqAIAAAAARIIqAAAAAEAkqAIAAAAA\n",
       "RIIqAAAAAEAkqAIAAAAARIIqAAAAAEAkqAIAAAAARIIqAAAAAEAkqAIAAAAARIIqAAAAAEAkqAIA\n",
       "AAAARIIqAAAAAEAkqAIAAAAARIIqAAAAAEAkqAIAAAAARIIqAAAAAEAkqAIAAAAARIIqAAAAAEAk\n",
       "qAIAAAAARIIqAAAAAEAkqAIAAAAARIIqAAAAAEAkqAIAAAAARIIqAAAAAEAkqAIAAAAARIIqAAAA\n",
       "AEAkqAIAAAAARIIqAAAAAEAkqAIAAAAARIIqAAAAAEAkqAIAAAAARIIqAAAAAEAkqAIAAAAARIIq\n",
       "AAAAAEAkqAIAAAAARIIqAAAAAEAkqAIAAAAARIIqAAAAAEAkqAIAAAAARIIqAAAAAEAkqAIAAAAA\n",
       "RIIqAAAAAEAkqAIAAAAARIIqAAAAAEAkqAIAAAAARIIqAAAAAEAkqAIAAAAARIIqAAAAAEAkqAIA\n",
       "AAAARIIqAAAAAEAkqAIAAAAARIIqAAAAAEAkqAIAAAAARIIqAAAAAEAkqAIAAAAARIIqAAAAAEAk\n",
       "qAIAAAAARIIqAAAAAEAkqAIAAAAARIIqAAAAAEAkqAIAAAAARIIqAAAAAEAkqAIAAAAARIIqAAAA\n",
       "AEAkqAIAAAAARIIqAAAAAEAkqAIAAAAARIIqAAAAAEAkqAIAAAAARIIqAAAAAEAkqAIAAAAARIIq\n",
       "AAAAAEAkqAIAAAAARIIqAAAAAEAkqAIAAAAARIIqAAAAAEAkqAIAAAAARIIqAAAAAEAkqAIAAAAA\n",
       "RIIqAAAAAEAkqAIAAAAARIIqAAAAAEAkqAIAAAAARIIqAAAAAEAkqAIAAAAARIIqAAAAAEAkqAIA\n",
       "AAAARIIqAAAAAEAkqAIAAAAARIIqAAAAAEAkqAIAAAAARIIqAAAAAEAkqAIAAAAARIIqAAAAAEC0\n",
       "9fDeh9MbWNxfv1+dnsDCtjdPpyewuP0rj6YnsLDXjm9PT2BhV8/enp7A4u7sXJ+ewML2rxxNT2Bx\n",
       "vmU4z7EWwjncUAUAAAAAiARVAAAAAIBIUAUAAAAAiARVAAAAAIBIUAUAAAAAiARVAAAAAIBIUAUA\n",
       "AAAAiARVAAAAAIBIUAUAAAAAiARVAAAAAIBIUAUAAAAAiARVAAAAAIBIUAUAAAAAiARVAAAAAIBI\n",
       "UAUAAAAAiARVAAAAAIBIUAUAAAAAiARVAAAAAIBIUAUAAAAAiARVAAAAAIBIUAUAAAAAiARVAAAA\n",
       "AIBIUAUAAAAAiARVAAAAAIBIUAUAAAAAiARVAAAAAIBIUAUAAAAAiARVAAAAAIBIUAUAAAAAiARV\n",
       "AAAAAIBIUAUAAAAAiARVAAAAAIBIUAUAAAAAiARVAAAAAIBIUAUAAAAAiARVAAAAAIBIUAUAAAAA\n",
       "iARVAAAAAIBIUAUAAAAAiARVAAAAAIBIUAUAAAAAiARVAAAAAIBIUAUAAAAAiARVAAAAAIBIUAUA\n",
       "AAAAiARVAAAAAIBIUAUAAAAAiARVAAAAAIBIUAUAAAAAiARVAAAAAIBIUAUAAAAAiARVAAAAAIBI\n",
       "UOXfdu0WN8sACKNogAq+JiUNPwkScCDwOBbBXrGsAIUhIZiKilaUQF4csANy3Yw4ZwWPnNwMAAAA\n",
       "ABAJqgAAAAAAkaAKAAAAABAJqgAAAAAAkaAKAAAAABAJqgAAAAAAkaAKAAAAABAJqgAAAAAAkaAK\n",
       "AAAAABAJqgAAAAAAkaAKAAAAABAJqgAAAAAAkaAKAAAAABAJqgAAAAAAkaAKAAAAABAJqgAAAAAA\n",
       "kaAKAAAAABAJqgAAAAAAkaAKAAAAABAJqgAAAAAAkaAKAAAAABAJqgAAAAAAkaAKAAAAABAJqgAA\n",
       "AAAAkaAKAAAAABAJqgAAAAAAkaAKAAAAABAJqgAAAAAAkaAKAAAAABAJqgAAAAAAkaAKAAAAABAJ\n",
       "qgAAAAAAkaAKAAAAABAJqgAAAAAAkaAKAAAAABAJqgAAAAAAkaAKAAAAABAJqgAAAAAAkaAKAAAA\n",
       "ABAJqgAAAAAAkaAKAAAAABAJqgAAAAAAkaAKAAAAABAJqgAAAAAAkaAKAAAAABAJqgAAAAAAkaAK\n",
       "AAAAABAJqgAAAAAAkaAKAAAAABAJqgAAAAAAkaAKAAAAABAJqgAAAAAAkaAKAAAAABAJqgAAAAAA\n",
       "kaAKAAAAABAJqgAAAAAAkaAKAAAAABAJqgAAAAAAkaAKAAAAABAJqgAAAAAAkaAKAAAAABAJqgAA\n",
       "AAAAkaAKAAAAABAJqgAAAAAAkaAKAAAAABAJqgAAAAAAkaAKAAAAABAJqgAAAAAAkaAKAAAAABAJ\n",
       "qgAAAAAAkaAKAAAAABAJqgAAAAAAkaAKAAAAABAJqgAAAAAAkaAKAAAAABAJqgAAAAAAkaAKAAAA\n",
       "ABAJqgAAAAAAkaAKAAAAABAJqgAAAAAAkaAKAAAAABAJqgAAAAAAkaAKAAAAABAJqgAAAAAA0dn5\n",
       "54/TG1ju5ubF9AQWe/zwmJ7Acu/efJmewGIfnt5NT2Cx33cX0xNY7nT5c3oCi/26vZyewHJfv7+a\n",
       "nsBiP26eTE9gMR+qAAAAAACRoAoAAAAAEAmqAAAAAACRoAoAAAAAEAmqAAAAAACRoAoAAAAAEAmq\n",
       "AAAAAACRoAoAAAAAEAmqAAAAAACRoAoAAAAAEAmqAAAAAACRoAoAAAAAEAmqAAAAAACRoAoAAAAA\n",
       "EAmqAAAAAACRoAoAAAAAEAmqAAAAAACRoAoAAAAAEAmqAAAAAACRoAoAAAAAEAmqAAAAAACRoAoA\n",
       "AAAAEAmqAAAAAACRoAoAAAAAEAmqAAAAAACRoAoAAAAAEAmqAAAAAACRoAoAAAAAEAmqAAAAAACR\n",
       "oAoAAAAAEAmqAAAAAACRoAoAAAAAEAmqAAAAAACRoAoAAAAAEAmqAAAAAACRoAoAAAAAEAmqAAAA\n",
       "AACRoAoAAAAAEAmqAAAAAACRoAoAAAAAEAmqAAAAAACRoAoAAAAAEAmqAAAAAACRoAoAAAAAEAmq\n",
       "AAAAAACRoAoAAAAAEAmqAAAAAACRoAoAAAAAEAmqAAAAAACRoAoAAAAAEAmqAAAAAACRoAoAAAAA\n",
       "EAmqAAAAAACRoAoAAAAAEAmqAAAAAACRoAoAAAAAEAmqAAAAAACRoAoAAAAAEAmqAAAAAACRoAoA\n",
       "AAAAEAmqAAAAAACRoAoAAAAAEAmqAAAAAACRoAoAAAAAEAmqAAAAAACRoAoAAAAAEAmqAAAAAACR\n",
       "oAoAAAAAEAmqAAAAAACRoAoAAAAAEAmqAAAAAACRoAoAAAAAEAmqAAAAAACRoAoAAAAAEAmqAAAA\n",
       "AACRoAoAAAAAEAmqAAAAAACRoAoAAAAAEAmqAAAAAACRoAoAAAAAEAmqAAAAAACRoAoAAAAAEAmq\n",
       "AAAAAACRoAoAAAAAEAmqAAAAAACRoAoAAAAAEAmqAAAAAACRoAoAAAAAEAmqAAAAAACRoAoAAAAA\n",
       "EAmqAAAAAACRoAoAAAAAEAmqAAAAAACRoAoAAAAAEAmqAAAAAACRoAoAAAAAEAmqAAAAAACRoAoA\n",
       "AAAAEAmqAAAAAACRoAoAAAAAEAmqAAAAAACRoAoAAAAAEAmqAAAAAACRoAoAAAAAEAmqAAAAAACR\n",
       "oAoAAAAAEAmqAAAAAACRoAoAAAAAEAmqAAAAAACRoAoAAAAAEAmqAAAAAACRoAoAAAAAEAmqAAAA\n",
       "AACRoAoAAAAAEAmqAAAAAACRoAoAAAAAEAmqAAAAAACRoAoAAAAAEAmqAAAAAACRoAoAAAAAEAmq\n",
       "AAAAAACRoAoAAAAAEAmqAAAAAACRoAoAAAAAEAmqAAAAAACRoAoAAAAAEAmqAAAAAACRoAoAAAAA\n",
       "EAmqAAAAAACRoAoAAAAAEAmqAAAAAACRoAoAAAAAEAmqAAAAAACRoAoAAAAAEAmqAAAAAADR2d+r\n",
       "2+kNLHccr6cnsNij0zE9geWevf02PYHF7r1/OT2Bxc7vP5iewHZ/LqYXsNjpkxuE/7u+fj49gcWO\n",
       "4zQ9gcV8qAIAAAAARIIqAAAAAEAkqAIAAAAARIIqAAAAAEAkqAIAAAAARIIqAAAAAEAkqAIAAAAA\n",
       "RIIqAAAAAEAkqAIAAAAARIIqAAAAAEAkqAIAAAAARIIqAAAAAEAkqAIAAAAARIIqAAAAAEAkqAIA\n",
       "AAAARIIqAAAAAEAkqAIAAAAARIIqAAAAAEAkqAIAAAAARIIqAAAAAEAkqAIAAAAARIIqAAAAAEAk\n",
       "qAIAAAAARIIqAAAAAEAkqAIAAAAARIIqAAAAAEAkqAIAAAAARIIqAAAAAEAkqAIAAAAARIIqAAAA\n",
       "AEAkqAIAAAAARIIqAAAAAEAkqAIAAAAARIIqAAAAAEAkqAIAAAAARIIqAAAAAEAkqAIAAAAARIIq\n",
       "AAAAAEAkqAIAAAAARIIqAAAAAEAkqAIAAAAARIIqAAAAAEAkqAIAAAAARIIqAAAAAEAkqAIAAAAA\n",
       "RIIqAAAAAEAkqAIAAAAARIIqAAAAAEAkqAIAAAAARIIqAAAAAEAkqAIAAAAARIIqAAAAAEAkqAIA\n",
       "AAAARIIqAAAAAEAkqAIAAAAARIIqAAAAAARPZM4AAAJYSURBVEAkqAIAAAAARIIqAAAAAEAkqAIA\n",
       "AAAARIIqAAAAAEAkqAIAAAAARIIqAAAAAEAkqAIAAAAARIIqAAAAAEAkqAIAAAAARIIqAAAAAEAk\n",
       "qAIAAAAARIIqAAAAAEAkqAIAAAAARIIqAAAAAEAkqAIAAAAARIIqAAAAAEAkqAIAAAAARIIqAAAA\n",
       "AEAkqAIAAAAARIIqAAAAAEAkqAIAAAAARIIqAAAAAEAkqAIAAAAARIIqAAAAAEAkqAIAAAAARIIq\n",
       "AAAAAEAkqAIAAAAARIIqAAAAAEAkqAIAAAAARIIqAAAAAEAkqAIAAAAARIIqAAAAAEAkqAIAAAAA\n",
       "RIIqAAAAAEAkqAIAAAAARIIqAAAAAEAkqAIAAAAARIIqAAAAAEAkqAIAAAAARIIqAAAAAEAkqAIA\n",
       "AAAARIIqAAAAAEAkqAIAAAAARIIqAAAAAEAkqAIAAAAARIIqAAAAAEAkqAIAAAAARIIqAAAAAEAk\n",
       "qAIAAAAARIIqAAAAAEAkqAIAAAAARIIqAAAAAEAkqAIAAAAARIIqAAAAAEAkqAIAAAAARIIqAAAA\n",
       "AEAkqAIAAAAARIIqAAAAAEAkqAIAAAAARIIqAAAAAEAkqAIAAAAARIIqAAAAAEAkqAIAAAAARIIq\n",
       "AAAAAEAkqAIAAAAARIIqAAAAAEAkqAIAAAAARIIqAAAAAEAkqAIAAAAARIIqAAAAAEAkqAIAAAAA\n",
       "RIIqAAAAAEAkqAIAAAAARIIqAAAAAEAkqAIAAAAARIIqAAAAAEAkqAIAAAAARIIqAAAAAEAkqAIA\n",
       "AAAARP8AVXd4vB0keuoAAAAASUVORK5CYII=\n",
       "\" transform=\"translate(462, 228)\"/>\n",
       "</g>\n",
       "<circle clip-path=\"url(#clip332)\" cx=\"530.422\" cy=\"1250.63\" r=\"10.8\" fill=\"#000000\" fill-rule=\"evenodd\" fill-opacity=\"1\" stroke=\"none\"/>\n",
       "<circle clip-path=\"url(#clip332)\" cx=\"530.422\" cy=\"1114.26\" r=\"10.8\" fill=\"#000000\" fill-rule=\"evenodd\" fill-opacity=\"1\" stroke=\"none\"/>\n",
       "<circle clip-path=\"url(#clip332)\" cx=\"530.422\" cy=\"977.886\" r=\"10.8\" fill=\"#000000\" fill-rule=\"evenodd\" fill-opacity=\"1\" stroke=\"none\"/>\n",
       "<circle clip-path=\"url(#clip332)\" cx=\"530.422\" cy=\"841.513\" r=\"10.8\" fill=\"#000000\" fill-rule=\"evenodd\" fill-opacity=\"1\" stroke=\"none\"/>\n",
       "<circle clip-path=\"url(#clip332)\" cx=\"530.422\" cy=\"705.139\" r=\"10.8\" fill=\"#000000\" fill-rule=\"evenodd\" fill-opacity=\"1\" stroke=\"none\"/>\n",
       "<circle clip-path=\"url(#clip332)\" cx=\"530.422\" cy=\"568.766\" r=\"10.8\" fill=\"#000000\" fill-rule=\"evenodd\" fill-opacity=\"1\" stroke=\"none\"/>\n",
       "<circle clip-path=\"url(#clip332)\" cx=\"530.422\" cy=\"432.393\" r=\"10.8\" fill=\"#000000\" fill-rule=\"evenodd\" fill-opacity=\"1\" stroke=\"none\"/>\n",
       "<circle clip-path=\"url(#clip332)\" cx=\"530.422\" cy=\"296.02\" r=\"10.8\" fill=\"#000000\" fill-rule=\"evenodd\" fill-opacity=\"1\" stroke=\"none\"/>\n",
       "<circle clip-path=\"url(#clip332)\" cx=\"666.795\" cy=\"1250.63\" r=\"10.8\" fill=\"#000000\" fill-rule=\"evenodd\" fill-opacity=\"1\" stroke=\"none\"/>\n",
       "<circle clip-path=\"url(#clip332)\" cx=\"666.795\" cy=\"1114.26\" r=\"10.8\" fill=\"#000000\" fill-rule=\"evenodd\" fill-opacity=\"1\" stroke=\"none\"/>\n",
       "<circle clip-path=\"url(#clip332)\" cx=\"666.795\" cy=\"977.886\" r=\"10.8\" fill=\"#000000\" fill-rule=\"evenodd\" fill-opacity=\"1\" stroke=\"none\"/>\n",
       "<circle clip-path=\"url(#clip332)\" cx=\"666.795\" cy=\"841.513\" r=\"10.8\" fill=\"#000000\" fill-rule=\"evenodd\" fill-opacity=\"1\" stroke=\"none\"/>\n",
       "<circle clip-path=\"url(#clip332)\" cx=\"666.795\" cy=\"705.139\" r=\"10.8\" fill=\"#000000\" fill-rule=\"evenodd\" fill-opacity=\"1\" stroke=\"none\"/>\n",
       "<circle clip-path=\"url(#clip332)\" cx=\"666.795\" cy=\"568.766\" r=\"10.8\" fill=\"#000000\" fill-rule=\"evenodd\" fill-opacity=\"1\" stroke=\"none\"/>\n",
       "<circle clip-path=\"url(#clip332)\" cx=\"666.795\" cy=\"432.393\" r=\"10.8\" fill=\"#000000\" fill-rule=\"evenodd\" fill-opacity=\"1\" stroke=\"none\"/>\n",
       "<circle clip-path=\"url(#clip332)\" cx=\"666.795\" cy=\"296.02\" r=\"10.8\" fill=\"#000000\" fill-rule=\"evenodd\" fill-opacity=\"1\" stroke=\"none\"/>\n",
       "<circle clip-path=\"url(#clip332)\" cx=\"803.168\" cy=\"1250.63\" r=\"10.8\" fill=\"#000000\" fill-rule=\"evenodd\" fill-opacity=\"1\" stroke=\"none\"/>\n",
       "<circle clip-path=\"url(#clip332)\" cx=\"803.168\" cy=\"1114.26\" r=\"10.8\" fill=\"#000000\" fill-rule=\"evenodd\" fill-opacity=\"1\" stroke=\"none\"/>\n",
       "<circle clip-path=\"url(#clip332)\" cx=\"803.168\" cy=\"977.886\" r=\"10.8\" fill=\"#000000\" fill-rule=\"evenodd\" fill-opacity=\"1\" stroke=\"none\"/>\n",
       "<circle clip-path=\"url(#clip332)\" cx=\"803.168\" cy=\"841.513\" r=\"10.8\" fill=\"#000000\" fill-rule=\"evenodd\" fill-opacity=\"1\" stroke=\"none\"/>\n",
       "<circle clip-path=\"url(#clip332)\" cx=\"803.168\" cy=\"705.139\" r=\"10.8\" fill=\"#000000\" fill-rule=\"evenodd\" fill-opacity=\"1\" stroke=\"none\"/>\n",
       "<circle clip-path=\"url(#clip332)\" cx=\"803.168\" cy=\"568.766\" r=\"10.8\" fill=\"#000000\" fill-rule=\"evenodd\" fill-opacity=\"1\" stroke=\"none\"/>\n",
       "<circle clip-path=\"url(#clip332)\" cx=\"803.168\" cy=\"432.393\" r=\"10.8\" fill=\"#000000\" fill-rule=\"evenodd\" fill-opacity=\"1\" stroke=\"none\"/>\n",
       "<circle clip-path=\"url(#clip332)\" cx=\"803.168\" cy=\"296.02\" r=\"10.8\" fill=\"#000000\" fill-rule=\"evenodd\" fill-opacity=\"1\" stroke=\"none\"/>\n",
       "<circle clip-path=\"url(#clip332)\" cx=\"939.541\" cy=\"1250.63\" r=\"10.8\" fill=\"#000000\" fill-rule=\"evenodd\" fill-opacity=\"1\" stroke=\"none\"/>\n",
       "<circle clip-path=\"url(#clip332)\" cx=\"939.541\" cy=\"1114.26\" r=\"10.8\" fill=\"#000000\" fill-rule=\"evenodd\" fill-opacity=\"1\" stroke=\"none\"/>\n",
       "<circle clip-path=\"url(#clip332)\" cx=\"939.541\" cy=\"977.886\" r=\"10.8\" fill=\"#000000\" fill-rule=\"evenodd\" fill-opacity=\"1\" stroke=\"none\"/>\n",
       "<circle clip-path=\"url(#clip332)\" cx=\"939.541\" cy=\"841.513\" r=\"10.8\" fill=\"#000000\" fill-rule=\"evenodd\" fill-opacity=\"1\" stroke=\"none\"/>\n",
       "<circle clip-path=\"url(#clip332)\" cx=\"939.541\" cy=\"705.139\" r=\"10.8\" fill=\"#000000\" fill-rule=\"evenodd\" fill-opacity=\"1\" stroke=\"none\"/>\n",
       "<circle clip-path=\"url(#clip332)\" cx=\"939.541\" cy=\"568.766\" r=\"10.8\" fill=\"#000000\" fill-rule=\"evenodd\" fill-opacity=\"1\" stroke=\"none\"/>\n",
       "<circle clip-path=\"url(#clip332)\" cx=\"939.541\" cy=\"432.393\" r=\"10.8\" fill=\"#000000\" fill-rule=\"evenodd\" fill-opacity=\"1\" stroke=\"none\"/>\n",
       "<circle clip-path=\"url(#clip332)\" cx=\"939.541\" cy=\"296.02\" r=\"10.8\" fill=\"#000000\" fill-rule=\"evenodd\" fill-opacity=\"1\" stroke=\"none\"/>\n",
       "<circle clip-path=\"url(#clip332)\" cx=\"1075.91\" cy=\"1250.63\" r=\"10.8\" fill=\"#000000\" fill-rule=\"evenodd\" fill-opacity=\"1\" stroke=\"none\"/>\n",
       "<circle clip-path=\"url(#clip332)\" cx=\"1075.91\" cy=\"1114.26\" r=\"10.8\" fill=\"#000000\" fill-rule=\"evenodd\" fill-opacity=\"1\" stroke=\"none\"/>\n",
       "<circle clip-path=\"url(#clip332)\" cx=\"1075.91\" cy=\"977.886\" r=\"10.8\" fill=\"#000000\" fill-rule=\"evenodd\" fill-opacity=\"1\" stroke=\"none\"/>\n",
       "<circle clip-path=\"url(#clip332)\" cx=\"1075.91\" cy=\"841.513\" r=\"10.8\" fill=\"#000000\" fill-rule=\"evenodd\" fill-opacity=\"1\" stroke=\"none\"/>\n",
       "<circle clip-path=\"url(#clip332)\" cx=\"1075.91\" cy=\"705.139\" r=\"10.8\" fill=\"#000000\" fill-rule=\"evenodd\" fill-opacity=\"1\" stroke=\"none\"/>\n",
       "<circle clip-path=\"url(#clip332)\" cx=\"1075.91\" cy=\"568.766\" r=\"10.8\" fill=\"#000000\" fill-rule=\"evenodd\" fill-opacity=\"1\" stroke=\"none\"/>\n",
       "<circle clip-path=\"url(#clip332)\" cx=\"1075.91\" cy=\"432.393\" r=\"10.8\" fill=\"#000000\" fill-rule=\"evenodd\" fill-opacity=\"1\" stroke=\"none\"/>\n",
       "<circle clip-path=\"url(#clip332)\" cx=\"1075.91\" cy=\"296.02\" r=\"10.8\" fill=\"#000000\" fill-rule=\"evenodd\" fill-opacity=\"1\" stroke=\"none\"/>\n",
       "<circle clip-path=\"url(#clip332)\" cx=\"1212.29\" cy=\"1250.63\" r=\"10.8\" fill=\"#000000\" fill-rule=\"evenodd\" fill-opacity=\"1\" stroke=\"none\"/>\n",
       "<circle clip-path=\"url(#clip332)\" cx=\"1212.29\" cy=\"1114.26\" r=\"10.8\" fill=\"#000000\" fill-rule=\"evenodd\" fill-opacity=\"1\" stroke=\"none\"/>\n",
       "<circle clip-path=\"url(#clip332)\" cx=\"1212.29\" cy=\"977.886\" r=\"10.8\" fill=\"#000000\" fill-rule=\"evenodd\" fill-opacity=\"1\" stroke=\"none\"/>\n",
       "<circle clip-path=\"url(#clip332)\" cx=\"1212.29\" cy=\"841.513\" r=\"10.8\" fill=\"#000000\" fill-rule=\"evenodd\" fill-opacity=\"1\" stroke=\"none\"/>\n",
       "<circle clip-path=\"url(#clip332)\" cx=\"1212.29\" cy=\"705.139\" r=\"10.8\" fill=\"#000000\" fill-rule=\"evenodd\" fill-opacity=\"1\" stroke=\"none\"/>\n",
       "<circle clip-path=\"url(#clip332)\" cx=\"1212.29\" cy=\"568.766\" r=\"10.8\" fill=\"#000000\" fill-rule=\"evenodd\" fill-opacity=\"1\" stroke=\"none\"/>\n",
       "<circle clip-path=\"url(#clip332)\" cx=\"1212.29\" cy=\"432.393\" r=\"10.8\" fill=\"#000000\" fill-rule=\"evenodd\" fill-opacity=\"1\" stroke=\"none\"/>\n",
       "<circle clip-path=\"url(#clip332)\" cx=\"1212.29\" cy=\"296.02\" r=\"10.8\" fill=\"#000000\" fill-rule=\"evenodd\" fill-opacity=\"1\" stroke=\"none\"/>\n",
       "<circle clip-path=\"url(#clip332)\" cx=\"1348.66\" cy=\"1250.63\" r=\"10.8\" fill=\"#000000\" fill-rule=\"evenodd\" fill-opacity=\"1\" stroke=\"none\"/>\n",
       "<circle clip-path=\"url(#clip332)\" cx=\"1348.66\" cy=\"1114.26\" r=\"10.8\" fill=\"#000000\" fill-rule=\"evenodd\" fill-opacity=\"1\" stroke=\"none\"/>\n",
       "<circle clip-path=\"url(#clip332)\" cx=\"1348.66\" cy=\"977.886\" r=\"10.8\" fill=\"#000000\" fill-rule=\"evenodd\" fill-opacity=\"1\" stroke=\"none\"/>\n",
       "<circle clip-path=\"url(#clip332)\" cx=\"1348.66\" cy=\"841.513\" r=\"10.8\" fill=\"#000000\" fill-rule=\"evenodd\" fill-opacity=\"1\" stroke=\"none\"/>\n",
       "<circle clip-path=\"url(#clip332)\" cx=\"1348.66\" cy=\"705.139\" r=\"10.8\" fill=\"#000000\" fill-rule=\"evenodd\" fill-opacity=\"1\" stroke=\"none\"/>\n",
       "<circle clip-path=\"url(#clip332)\" cx=\"1348.66\" cy=\"568.766\" r=\"10.8\" fill=\"#000000\" fill-rule=\"evenodd\" fill-opacity=\"1\" stroke=\"none\"/>\n",
       "<circle clip-path=\"url(#clip332)\" cx=\"1348.66\" cy=\"432.393\" r=\"10.8\" fill=\"#000000\" fill-rule=\"evenodd\" fill-opacity=\"1\" stroke=\"none\"/>\n",
       "<circle clip-path=\"url(#clip332)\" cx=\"1348.66\" cy=\"296.02\" r=\"10.8\" fill=\"#000000\" fill-rule=\"evenodd\" fill-opacity=\"1\" stroke=\"none\"/>\n",
       "<circle clip-path=\"url(#clip332)\" cx=\"1485.03\" cy=\"1250.63\" r=\"10.8\" fill=\"#000000\" fill-rule=\"evenodd\" fill-opacity=\"1\" stroke=\"none\"/>\n",
       "<circle clip-path=\"url(#clip332)\" cx=\"1485.03\" cy=\"1114.26\" r=\"10.8\" fill=\"#000000\" fill-rule=\"evenodd\" fill-opacity=\"1\" stroke=\"none\"/>\n",
       "<circle clip-path=\"url(#clip332)\" cx=\"1485.03\" cy=\"977.886\" r=\"10.8\" fill=\"#000000\" fill-rule=\"evenodd\" fill-opacity=\"1\" stroke=\"none\"/>\n",
       "<circle clip-path=\"url(#clip332)\" cx=\"1485.03\" cy=\"841.513\" r=\"10.8\" fill=\"#000000\" fill-rule=\"evenodd\" fill-opacity=\"1\" stroke=\"none\"/>\n",
       "<circle clip-path=\"url(#clip332)\" cx=\"1485.03\" cy=\"705.139\" r=\"10.8\" fill=\"#000000\" fill-rule=\"evenodd\" fill-opacity=\"1\" stroke=\"none\"/>\n",
       "<circle clip-path=\"url(#clip332)\" cx=\"1485.03\" cy=\"568.766\" r=\"10.8\" fill=\"#000000\" fill-rule=\"evenodd\" fill-opacity=\"1\" stroke=\"none\"/>\n",
       "<circle clip-path=\"url(#clip332)\" cx=\"1485.03\" cy=\"432.393\" r=\"10.8\" fill=\"#000000\" fill-rule=\"evenodd\" fill-opacity=\"1\" stroke=\"none\"/>\n",
       "<circle clip-path=\"url(#clip332)\" cx=\"1485.03\" cy=\"296.02\" r=\"10.8\" fill=\"#000000\" fill-rule=\"evenodd\" fill-opacity=\"1\" stroke=\"none\"/>\n",
       "<circle clip-path=\"url(#clip332)\" cx=\"1621.41\" cy=\"1250.63\" r=\"10.8\" fill=\"#000000\" fill-rule=\"evenodd\" fill-opacity=\"1\" stroke=\"none\"/>\n",
       "<circle clip-path=\"url(#clip332)\" cx=\"1621.41\" cy=\"1114.26\" r=\"10.8\" fill=\"#000000\" fill-rule=\"evenodd\" fill-opacity=\"1\" stroke=\"none\"/>\n",
       "<circle clip-path=\"url(#clip332)\" cx=\"1621.41\" cy=\"977.886\" r=\"10.8\" fill=\"#000000\" fill-rule=\"evenodd\" fill-opacity=\"1\" stroke=\"none\"/>\n",
       "<circle clip-path=\"url(#clip332)\" cx=\"1621.41\" cy=\"841.513\" r=\"10.8\" fill=\"#000000\" fill-rule=\"evenodd\" fill-opacity=\"1\" stroke=\"none\"/>\n",
       "<circle clip-path=\"url(#clip332)\" cx=\"1621.41\" cy=\"705.139\" r=\"10.8\" fill=\"#000000\" fill-rule=\"evenodd\" fill-opacity=\"1\" stroke=\"none\"/>\n",
       "<circle clip-path=\"url(#clip332)\" cx=\"1621.41\" cy=\"568.766\" r=\"10.8\" fill=\"#000000\" fill-rule=\"evenodd\" fill-opacity=\"1\" stroke=\"none\"/>\n",
       "<circle clip-path=\"url(#clip332)\" cx=\"1621.41\" cy=\"432.393\" r=\"10.8\" fill=\"#000000\" fill-rule=\"evenodd\" fill-opacity=\"1\" stroke=\"none\"/>\n",
       "<circle clip-path=\"url(#clip332)\" cx=\"1621.41\" cy=\"296.02\" r=\"10.8\" fill=\"#000000\" fill-rule=\"evenodd\" fill-opacity=\"1\" stroke=\"none\"/>\n",
       "<circle clip-path=\"url(#clip332)\" cx=\"1757.78\" cy=\"1250.63\" r=\"10.8\" fill=\"#000000\" fill-rule=\"evenodd\" fill-opacity=\"1\" stroke=\"none\"/>\n",
       "<circle clip-path=\"url(#clip332)\" cx=\"1757.78\" cy=\"1114.26\" r=\"10.8\" fill=\"#000000\" fill-rule=\"evenodd\" fill-opacity=\"1\" stroke=\"none\"/>\n",
       "<circle clip-path=\"url(#clip332)\" cx=\"1757.78\" cy=\"977.886\" r=\"10.8\" fill=\"#000000\" fill-rule=\"evenodd\" fill-opacity=\"1\" stroke=\"none\"/>\n",
       "<circle clip-path=\"url(#clip332)\" cx=\"1757.78\" cy=\"841.513\" r=\"10.8\" fill=\"#000000\" fill-rule=\"evenodd\" fill-opacity=\"1\" stroke=\"none\"/>\n",
       "<circle clip-path=\"url(#clip332)\" cx=\"1757.78\" cy=\"705.139\" r=\"10.8\" fill=\"#000000\" fill-rule=\"evenodd\" fill-opacity=\"1\" stroke=\"none\"/>\n",
       "<circle clip-path=\"url(#clip332)\" cx=\"1757.78\" cy=\"568.766\" r=\"10.8\" fill=\"#000000\" fill-rule=\"evenodd\" fill-opacity=\"1\" stroke=\"none\"/>\n",
       "<circle clip-path=\"url(#clip332)\" cx=\"1757.78\" cy=\"432.393\" r=\"10.8\" fill=\"#000000\" fill-rule=\"evenodd\" fill-opacity=\"1\" stroke=\"none\"/>\n",
       "<circle clip-path=\"url(#clip332)\" cx=\"1757.78\" cy=\"296.02\" r=\"10.8\" fill=\"#000000\" fill-rule=\"evenodd\" fill-opacity=\"1\" stroke=\"none\"/>\n",
       "<path clip-path=\"url(#clip332)\" d=\"M1212.29 568.766 L1215.72 568.788 L1219.15 568.853 L1222.59 568.961 L1226.02 569.112 L1229.45 569.307 L1232.87 569.544 L1236.3 569.825 L1239.72 570.149 L1243.13 570.516 L1246.54 570.926 L1249.94 571.378 L1253.34 571.874 L1256.73 572.412 L1260.12 572.993 L1263.5 573.617 L1266.86 574.283 L1270.23 574.991 L1273.58 575.742 L1276.92 576.535 L1280.25 577.369 L1283.57 578.246 L1286.88 579.164 L1290.18 580.124 L1293.46 581.126 L1296.73 582.169 L1299.99 583.252 L1303.24 584.377 L1306.47 585.543 L1309.68 586.749 L1312.88 587.995 L1316.07 589.282 L1319.24 590.609 L1322.39 591.975 L1325.52 593.381 L1328.63 594.827 L1331.73 596.311 L1334.81 597.835 L1337.87 599.397 L1340.91 600.997 L1343.92 602.636 L1346.92 604.312 L1349.9 606.026 L1352.85 607.777 L1355.78 609.566 L1358.69 611.391 L1361.58 613.253 L1364.44 615.151 L1367.28 617.084 L1370.09 619.054 L1372.88 621.058 L1375.64 623.098 L1378.38 625.172 L1381.09 627.28 L1383.78 629.423 L1386.43 631.599 L1389.06 633.808 L1391.66 636.051 L1394.24 638.325 L1396.78 640.633 L1399.29 642.971 L1401.78 645.342 L1404.23 647.743 L1406.66 650.176 L1409.05 652.638 L1411.42 655.131 L1413.75 657.653 L1416.05 660.204 L1418.31 662.784 L1420.55 665.392 L1422.75 668.028 L1424.92 670.692 L1427.05 673.383 L1429.15 676.1 L1431.21 678.844 L1433.25 681.613 L1435.24 684.408 L1437.2 687.228 L1439.13 690.072 L1441.02 692.94 L1442.87 695.832 L1444.68 698.747 L1446.46 701.684 L1448.21 704.644 L1449.91 707.625 L1451.58 710.628 L1453.21 713.651 L1454.8 716.695 L1456.35 719.758 L1457.86 722.841 L1459.34 725.942 L1460.77 729.062 L1462.17 732.2 L1463.53 735.355 L1464.84 738.527 L1466.12 741.715 L1467.36 744.919 L1468.55 748.138 L1469.71 751.372 L1470.82 754.621 L1471.9 757.883 L1472.93 761.158 L1473.92 764.446 L1474.87 767.747 L1475.78 771.059 L1476.64 774.382 L1477.47 777.716 L1478.25 781.06 L1478.99 784.414 L1479.69 787.776 L1480.34 791.147 L1480.96 794.526 L1481.53 797.913 L1482.05 801.307 L1482.54 804.706 L1482.98 808.112 L1483.38 811.523 L1483.74 814.939 L1484.05 818.359 L1484.32 821.783 L1484.55 825.209 L1484.73 828.639 L1484.87 832.07 L1484.97 835.503 L1485.02 838.937 L1485.03 842.371 L1485 845.805 L1484.92 849.239 L1484.8 852.671 L1484.64 856.101 L1484.44 859.529 L1484.19 862.955 L1483.9 866.377 L1483.56 869.795 L1483.19 873.208 L1482.76 876.616 L1482.3 880.019 L1481.8 883.416 L1481.25 886.806 L1480.65 890.189 L1480.02 893.564 L1479.34 896.931 L1478.62 900.289 L1477.86 903.638 L1477.06 906.977 L1476.22 910.306 L1475.33 913.624 L1474.4 916.93 L1473.43 920.224 L1472.42 923.506 L1471.36 926.775 L1470.27 930.03 L1469.13 933.272 L1467.96 936.498 L1466.74 939.71 L1465.49 942.906 L1464.19 946.086 L1462.85 949.25 L1461.48 952.396 L1460.06 955.525 L1458.61 958.636 L1457.11 961.728 L1455.58 964.801 L1454.01 967.854 L1452.4 970.888 L1450.75 973.901 L1449.06 976.893 L1447.34 979.864 L1445.58 982.812 L1443.78 985.738 L1441.95 988.642 L1440.08 991.522 L1438.17 994.378 L1436.23 997.21 L1434.25 1000.02 L1432.23 1002.8 L1430.19 1005.56 L1428.1 1008.29 L1425.99 1010.99 L1423.84 1013.67 L1421.65 1016.32 L1419.43 1018.94 L1417.18 1021.53 L1414.9 1024.1 L1412.59 1026.64 L1410.24 1029.14 L1407.86 1031.62 L1405.45 1034.07 L1403.01 1036.49 L1400.54 1038.87 L1398.04 1041.23 L1395.51 1043.55 L1392.95 1045.84 L1390.37 1048.1 L1387.75 1050.33 L1385.11 1052.52 L1382.44 1054.68 L1379.74 1056.8 L1377.02 1058.89 L1374.27 1060.95 L1371.49 1062.97 L1368.69 1064.96 L1365.86 1066.91 L1363.01 1068.83 L1360.14 1070.71 L1357.24 1072.55 L1354.32 1074.36 L1351.38 1076.13 L1348.41 1077.86 L1345.43 1079.56 L1342.42 1081.21 L1339.39 1082.83 L1336.34 1084.41 L1333.27 1085.96 L1330.19 1087.46 L1327.08 1088.93 L1323.95 1090.35 L1320.81 1091.74 L1317.65 1093.08 L1314.48 1094.39 L1311.29 1095.66 L1308.08 1096.88 L1304.85 1098.07 L1301.62 1099.22 L1298.36 1100.32 L1295.1 1101.38 L1291.82 1102.41 L1288.53 1103.39 L1285.23 1104.33 L1281.91 1105.22 L1278.59 1106.08 L1275.25 1106.89 L1271.9 1107.66 L1268.55 1108.39 L1265.18 1109.08 L1261.81 1109.73 L1258.43 1110.33 L1255.04 1110.89 L1251.64 1111.4 L1248.24 1111.88 L1244.84 1112.31 L1241.42 1112.7 L1238.01 1113.04 L1234.59 1113.35 L1231.16 1113.6 L1227.73 1113.82 L1224.3 1113.99 L1220.87 1114.12 L1217.44 1114.21 L1214 1114.25 L1210.57 1114.25 L1207.14 1114.21 L1203.7 1114.12 L1200.27 1113.99 L1196.84 1113.82 L1193.41 1113.6 L1189.99 1113.35 L1186.57 1113.04 L1183.15 1112.7 L1179.74 1112.31 L1176.33 1111.88 L1172.93 1111.4 L1169.54 1110.89 L1166.15 1110.33 L1162.77 1109.73 L1159.39 1109.08 L1156.03 1108.39 L1152.67 1107.66 L1149.33 1106.89 L1145.99 1106.08 L1142.66 1105.22 L1139.35 1104.33 L1136.04 1103.39 L1132.75 1102.41 L1129.48 1101.38 L1126.21 1100.32 L1122.96 1099.22 L1119.72 1098.07 L1116.5 1096.88 L1113.29 1095.66 L1110.1 1094.39 L1106.92 1093.08 L1103.76 1091.74 L1100.62 1090.35 L1097.5 1088.93 L1094.39 1087.46 L1091.3 1085.96 L1088.23 1084.41 L1085.18 1082.83 L1082.16 1081.21 L1079.15 1079.56 L1076.16 1077.86 L1073.2 1076.13 L1070.25 1074.36 L1067.33 1072.55 L1064.44 1070.71 L1061.56 1068.83 L1058.71 1066.91 L1055.89 1064.96 L1053.08 1062.97 L1050.31 1060.95 L1047.56 1058.89 L1044.83 1056.8 L1042.14 1054.68 L1039.47 1052.52 L1036.82 1050.33 L1034.21 1048.1 L1031.62 1045.84 L1029.06 1043.55 L1026.53 1041.23 L1024.03 1038.87 L1021.56 1036.49 L1019.12 1034.07 L1016.71 1031.62 L1014.34 1029.14 L1011.99 1026.64 L1009.67 1024.1 L1007.39 1021.53 L1005.14 1018.94 L1002.92 1016.32 L1000.74 1013.67 L998.587 1010.99 L996.47 1008.29 L994.388 1005.56 L992.339 1002.8 L990.326 1000.02 L988.348 997.21 L986.405 994.378 L984.498 991.522 L982.628 988.642 L980.793 985.738 L978.996 982.812 L977.235 979.864 L975.512 976.893 L973.826 973.901 L972.178 970.888 L970.568 967.854 L968.996 964.801 L967.463 961.728 L965.969 958.636 L964.514 955.525 L963.098 952.396 L961.721 949.25 L960.385 946.086 L959.088 942.906 L957.831 939.71 L956.615 936.498 L955.439 933.272 L954.304 930.03 L953.21 926.775 L952.157 923.506 L951.145 920.224 L950.175 916.93 L949.246 913.624 L948.359 910.306 L947.514 906.977 L946.711 903.638 L945.949 900.289 L945.23 896.931 L944.554 893.564 L943.92 890.189 L943.328 886.806 L942.779 883.416 L942.273 880.019 L941.809 876.616 L941.389 873.208 L941.011 869.795 L940.677 866.377 L940.385 862.955 L940.137 859.529 L939.931 856.101 L939.769 852.671 L939.65 849.239 L939.575 845.805 L939.542 842.371 L939.553 838.937 L939.607 835.503 L939.704 832.07 L939.845 828.639 L940.029 825.209 L940.255 821.783 L940.525 818.359 L940.839 814.939 L941.195 811.523 L941.594 808.112 L942.036 804.706 L942.521 801.307 L943.048 797.913 L943.619 794.526 L944.231 791.147 L944.887 787.776 L945.585 784.414 L946.325 781.06 L947.107 777.716 L947.931 774.382 L948.798 771.059 L949.705 767.747 L950.655 764.446 L951.646 761.158 L952.679 757.883 L953.752 754.621 L954.867 751.372 L956.022 748.138 L957.218 744.919 L958.455 741.715 L959.731 738.527 L961.048 735.355 L962.405 732.2 L963.801 729.062 L965.236 725.942 L966.711 722.841 L968.225 719.758 L969.777 716.695 L971.368 713.651 L972.997 710.628 L974.664 707.625 L976.369 704.644 L978.111 701.684 L979.89 698.747 L981.706 695.832 L983.558 692.94 L985.447 690.072 L987.372 687.228 L989.333 684.408 L991.328 681.613 L993.359 678.844 L995.425 676.1 L997.525 673.383 L999.659 670.692 L1001.83 668.028 L1004.03 665.392 L1006.26 662.784 L1008.53 660.204 L1010.83 657.653 L1013.16 655.131 L1015.52 652.638 L1017.91 650.176 L1020.34 647.743 L1022.79 645.342 L1025.28 642.971 L1027.79 640.633 L1030.34 638.325 L1032.91 636.051 L1035.51 633.808 L1038.14 631.599 L1040.8 629.423 L1043.48 627.28 L1046.19 625.172 L1048.93 623.098 L1051.69 621.058 L1054.48 619.054 L1057.3 617.084 L1060.13 615.151 L1063 613.253 L1065.88 611.391 L1068.79 609.566 L1071.72 607.777 L1074.68 606.026 L1077.65 604.312 L1080.65 602.636 L1083.67 600.997 L1086.71 599.397 L1089.77 597.835 L1092.84 596.311 L1095.94 594.827 L1099.06 593.381 L1102.19 591.975 L1105.34 590.609 L1108.51 589.282 L1111.69 587.995 L1114.89 586.749 L1118.11 585.543 L1121.34 584.377 L1124.58 583.252 L1127.84 582.169 L1131.11 581.126 L1134.4 580.124 L1137.7 579.164 L1141 578.246 L1144.32 577.369 L1147.66 576.535 L1151 575.742 L1154.35 574.991 L1157.71 574.283 L1161.08 573.617 L1164.46 572.993 L1167.84 572.412 L1171.23 571.874 L1174.63 571.378 L1178.03 570.926 L1181.44 570.516 L1184.86 570.149 L1188.28 569.825 L1191.7 569.544 L1195.13 569.307 L1198.56 569.112 L1201.99 568.961 L1205.42 568.853 L1208.85 568.788 L1212.29 568.766 L1212.29 568.766  Z\" fill=\"#ffffff\" fill-rule=\"evenodd\" fill-opacity=\"0.2\"/>\n",
       "<polyline clip-path=\"url(#clip332)\" style=\"stroke:#ffffff; stroke-linecap:round; stroke-linejoin:round; stroke-width:2; stroke-opacity:1; fill:none\" points=\"1212.29,568.766 1215.72,568.788 1219.15,568.853 1222.59,568.961 1226.02,569.112 1229.45,569.307 1232.87,569.544 1236.3,569.825 1239.72,570.149 1243.13,570.516 1246.54,570.926 1249.94,571.378 1253.34,571.874 1256.73,572.412 1260.12,572.993 1263.5,573.617 1266.86,574.283 1270.23,574.991 1273.58,575.742 1276.92,576.535 1280.25,577.369 1283.57,578.246 1286.88,579.164 1290.18,580.124 1293.46,581.126 1296.73,582.169 1299.99,583.252 1303.24,584.377 1306.47,585.543 1309.68,586.749 1312.88,587.995 1316.07,589.282 1319.24,590.609 1322.39,591.975 1325.52,593.381 1328.63,594.827 1331.73,596.311 1334.81,597.835 1337.87,599.397 1340.91,600.997 1343.92,602.636 1346.92,604.312 1349.9,606.026 1352.85,607.777 1355.78,609.566 1358.69,611.391 1361.58,613.253 1364.44,615.151 1367.28,617.084 1370.09,619.054 1372.88,621.058 1375.64,623.098 1378.38,625.172 1381.09,627.28 1383.78,629.423 1386.43,631.599 1389.06,633.808 1391.66,636.051 1394.24,638.325 1396.78,640.633 1399.29,642.971 1401.78,645.342 1404.23,647.743 1406.66,650.176 1409.05,652.638 1411.42,655.131 1413.75,657.653 1416.05,660.204 1418.31,662.784 1420.55,665.392 1422.75,668.028 1424.92,670.692 1427.05,673.383 1429.15,676.1 1431.21,678.844 1433.25,681.613 1435.24,684.408 1437.2,687.228 1439.13,690.072 1441.02,692.94 1442.87,695.832 1444.68,698.747 1446.46,701.684 1448.21,704.644 1449.91,707.625 1451.58,710.628 1453.21,713.651 1454.8,716.695 1456.35,719.758 1457.86,722.841 1459.34,725.942 1460.77,729.062 1462.17,732.2 1463.53,735.355 1464.84,738.527 1466.12,741.715 1467.36,744.919 1468.55,748.138 1469.71,751.372 1470.82,754.621 1471.9,757.883 1472.93,761.158 1473.92,764.446 1474.87,767.747 1475.78,771.059 1476.64,774.382 1477.47,777.716 1478.25,781.06 1478.99,784.414 1479.69,787.776 1480.34,791.147 1480.96,794.526 1481.53,797.913 1482.05,801.307 1482.54,804.706 1482.98,808.112 1483.38,811.523 1483.74,814.939 1484.05,818.359 1484.32,821.783 1484.55,825.209 1484.73,828.639 1484.87,832.07 1484.97,835.503 1485.02,838.937 1485.03,842.371 1485,845.805 1484.92,849.239 1484.8,852.671 1484.64,856.101 1484.44,859.529 1484.19,862.955 1483.9,866.377 1483.56,869.795 1483.19,873.208 1482.76,876.616 1482.3,880.019 1481.8,883.416 1481.25,886.806 1480.65,890.189 1480.02,893.564 1479.34,896.931 1478.62,900.289 1477.86,903.638 1477.06,906.977 1476.22,910.306 1475.33,913.624 1474.4,916.93 1473.43,920.224 1472.42,923.506 1471.36,926.775 1470.27,930.03 1469.13,933.272 1467.96,936.498 1466.74,939.71 1465.49,942.906 1464.19,946.086 1462.85,949.25 1461.48,952.396 1460.06,955.525 1458.61,958.636 1457.11,961.728 1455.58,964.801 1454.01,967.854 1452.4,970.888 1450.75,973.901 1449.06,976.893 1447.34,979.864 1445.58,982.812 1443.78,985.738 1441.95,988.642 1440.08,991.522 1438.17,994.378 1436.23,997.21 1434.25,1000.02 1432.23,1002.8 1430.19,1005.56 1428.1,1008.29 1425.99,1010.99 1423.84,1013.67 1421.65,1016.32 1419.43,1018.94 1417.18,1021.53 1414.9,1024.1 1412.59,1026.64 1410.24,1029.14 1407.86,1031.62 1405.45,1034.07 1403.01,1036.49 1400.54,1038.87 1398.04,1041.23 1395.51,1043.55 1392.95,1045.84 1390.37,1048.1 1387.75,1050.33 1385.11,1052.52 1382.44,1054.68 1379.74,1056.8 1377.02,1058.89 1374.27,1060.95 1371.49,1062.97 1368.69,1064.96 1365.86,1066.91 1363.01,1068.83 1360.14,1070.71 1357.24,1072.55 1354.32,1074.36 1351.38,1076.13 1348.41,1077.86 1345.43,1079.56 1342.42,1081.21 1339.39,1082.83 1336.34,1084.41 1333.27,1085.96 1330.19,1087.46 1327.08,1088.93 1323.95,1090.35 1320.81,1091.74 1317.65,1093.08 1314.48,1094.39 1311.29,1095.66 1308.08,1096.88 1304.85,1098.07 1301.62,1099.22 1298.36,1100.32 1295.1,1101.38 1291.82,1102.41 1288.53,1103.39 1285.23,1104.33 1281.91,1105.22 1278.59,1106.08 1275.25,1106.89 1271.9,1107.66 1268.55,1108.39 1265.18,1109.08 1261.81,1109.73 1258.43,1110.33 1255.04,1110.89 1251.64,1111.4 1248.24,1111.88 1244.84,1112.31 1241.42,1112.7 1238.01,1113.04 1234.59,1113.35 1231.16,1113.6 1227.73,1113.82 1224.3,1113.99 1220.87,1114.12 1217.44,1114.21 1214,1114.25 1210.57,1114.25 1207.14,1114.21 1203.7,1114.12 1200.27,1113.99 1196.84,1113.82 1193.41,1113.6 1189.99,1113.35 1186.57,1113.04 1183.15,1112.7 1179.74,1112.31 1176.33,1111.88 1172.93,1111.4 1169.54,1110.89 1166.15,1110.33 1162.77,1109.73 1159.39,1109.08 1156.03,1108.39 1152.67,1107.66 1149.33,1106.89 1145.99,1106.08 1142.66,1105.22 1139.35,1104.33 1136.04,1103.39 1132.75,1102.41 1129.48,1101.38 1126.21,1100.32 1122.96,1099.22 1119.72,1098.07 1116.5,1096.88 1113.29,1095.66 1110.1,1094.39 1106.92,1093.08 1103.76,1091.74 1100.62,1090.35 1097.5,1088.93 1094.39,1087.46 1091.3,1085.96 1088.23,1084.41 1085.18,1082.83 1082.16,1081.21 1079.15,1079.56 1076.16,1077.86 1073.2,1076.13 1070.25,1074.36 1067.33,1072.55 1064.44,1070.71 1061.56,1068.83 1058.71,1066.91 1055.89,1064.96 1053.08,1062.97 1050.31,1060.95 1047.56,1058.89 1044.83,1056.8 1042.14,1054.68 1039.47,1052.52 1036.82,1050.33 1034.21,1048.1 1031.62,1045.84 1029.06,1043.55 1026.53,1041.23 1024.03,1038.87 1021.56,1036.49 1019.12,1034.07 1016.71,1031.62 1014.34,1029.14 1011.99,1026.64 1009.67,1024.1 1007.39,1021.53 1005.14,1018.94 1002.92,1016.32 1000.74,1013.67 998.587,1010.99 996.47,1008.29 994.388,1005.56 992.339,1002.8 990.326,1000.02 988.348,997.21 986.405,994.378 984.498,991.522 982.628,988.642 980.793,985.738 978.996,982.812 977.235,979.864 975.512,976.893 973.826,973.901 972.178,970.888 970.568,967.854 968.996,964.801 967.463,961.728 965.969,958.636 964.514,955.525 963.098,952.396 961.721,949.25 960.385,946.086 959.088,942.906 957.831,939.71 956.615,936.498 955.439,933.272 954.304,930.03 953.21,926.775 952.157,923.506 951.145,920.224 950.175,916.93 949.246,913.624 948.359,910.306 947.514,906.977 946.711,903.638 945.949,900.289 945.23,896.931 944.554,893.564 943.92,890.189 943.328,886.806 942.779,883.416 942.273,880.019 941.809,876.616 941.389,873.208 941.011,869.795 940.677,866.377 940.385,862.955 940.137,859.529 939.931,856.101 939.769,852.671 939.65,849.239 939.575,845.805 939.542,842.371 939.553,838.937 939.607,835.503 939.704,832.07 939.845,828.639 940.029,825.209 940.255,821.783 940.525,818.359 940.839,814.939 941.195,811.523 941.594,808.112 942.036,804.706 942.521,801.307 943.048,797.913 943.619,794.526 944.231,791.147 944.887,787.776 945.585,784.414 946.325,781.06 947.107,777.716 947.931,774.382 948.798,771.059 949.705,767.747 950.655,764.446 951.646,761.158 952.679,757.883 953.752,754.621 954.867,751.372 956.022,748.138 957.218,744.919 958.455,741.715 959.731,738.527 961.048,735.355 962.405,732.2 963.801,729.062 965.236,725.942 966.711,722.841 968.225,719.758 969.777,716.695 971.368,713.651 972.997,710.628 974.664,707.625 976.369,704.644 978.111,701.684 979.89,698.747 981.706,695.832 983.558,692.94 985.447,690.072 987.372,687.228 989.333,684.408 991.328,681.613 993.359,678.844 995.425,676.1 997.525,673.383 999.659,670.692 1001.83,668.028 1004.03,665.392 1006.26,662.784 1008.53,660.204 1010.83,657.653 1013.16,655.131 1015.52,652.638 1017.91,650.176 1020.34,647.743 1022.79,645.342 1025.28,642.971 1027.79,640.633 1030.34,638.325 1032.91,636.051 1035.51,633.808 1038.14,631.599 1040.8,629.423 1043.48,627.28 1046.19,625.172 1048.93,623.098 1051.69,621.058 1054.48,619.054 1057.3,617.084 1060.13,615.151 1063,613.253 1065.88,611.391 1068.79,609.566 1071.72,607.777 1074.68,606.026 1077.65,604.312 1080.65,602.636 1083.67,600.997 1086.71,599.397 1089.77,597.835 1092.84,596.311 1095.94,594.827 1099.06,593.381 1102.19,591.975 1105.34,590.609 1108.51,589.282 1111.69,587.995 1114.89,586.749 1118.11,585.543 1121.34,584.377 1124.58,583.252 1127.84,582.169 1131.11,581.126 1134.4,580.124 1137.7,579.164 1141,578.246 1144.32,577.369 1147.66,576.535 1151,575.742 1154.35,574.991 1157.71,574.283 1161.08,573.617 1164.46,572.993 1167.84,572.412 1171.23,571.874 1174.63,571.378 1178.03,570.926 1181.44,570.516 1184.86,570.149 1188.28,569.825 1191.7,569.544 1195.13,569.307 1198.56,569.112 1201.99,568.961 1205.42,568.853 1208.85,568.788 1212.29,568.766 \"/>\n",
       "<defs>\n",
       "  <clipPath id=\"clip333\">\n",
       "    <rect x=\"2160\" y=\"195\" width=\"73\" height=\"1157\"/>\n",
       "  </clipPath>\n",
       "</defs>\n",
       "<g clip-path=\"url(#clip333)\">\n",
       "<image width=\"72\" height=\"1156\" xlink:href=\"data:image/png;base64,\n",
       "iVBORw0KGgoAAAANSUhEUgAAAEgAAASECAYAAADHiEmbAAAKO0lEQVR4nO3dwY3sRhAFQY5Q/lsh\n",
       "L6XfLQtUeSQPERYMEg9Ek5zZ/f17/r4P/+uvtz/A1wkUBAoChTn337c/w6dZUBAoCBQECnPvn7c/\n",
       "w6dZUBAoCBQcFIMFBYGCQEGgMNdFemVBQaAgUJh7XIM2FhQECgIFgYKDYrCgIFAQKLgGBQsKAgWB\n",
       "gkDB3XywoCBQECjM46C4sqAgUBAoCBTczQcLCgIFgcI8blZXFhQECgIFgcI855+3P8OnWVAQKAgU\n",
       "PFEMFhQECgIFgYK7+WBBQaAgUHANChYUBAoCBYGCu/lgQUGgIFCYn4PiyoKCQEGgIFCY5/g7ihsL\n",
       "CgIFgYKDYrCgIFAQKAgUHBSDBQWBgkDBq+dgQUGgIFAQKMzPQXFlQUGgIFDw9ZdgQUGgIFAQKDgo\n",
       "BgsKAgWBgrcawYKCQEGgIFBwUAwWFAQKAgUHxWBBQaAgUBAoOCgGCwoCBYHCPOe8/Rk+zYKCQEGg\n",
       "IFBwUAwWFAQKAgVPFIMFBYGCQEGg4CIdLCgIFAQKAoX5eeS6sqAgUBAoOCgGCwoCBYGCQMG7+WBB\n",
       "QaAgUHCzGiwoCBQECgIFd/PBgoJAQaDgZjVYUBAoCBQECi7SwYKCQEGg4McswYKCQEGgIFBwUAwW\n",
       "FAQKAgXXoGBBQaAgUBAouEgHCwoCBYGCa1CwoCBQECgIFOa5LtIbCwoCBYGCg2KwoCBQECgIFFyk\n",
       "gwUFgYJAwTUoWFAQKAgUBArznPv2Z/g0CwoCBYGCg2KwoCBQECgIFBwUgwUFgYJAwUExWFAQKAgU\n",
       "BAoOisGCgkBBoDCPc+LKgoJAQaAgUJjnOihuLCgIFAQKDorBgoJAQaAgUHCRDhYUBAoChfGHF3YW\n",
       "FAQKAgWBgoNisKAgUBAouAYFCwoCBYGCQGGe83v7M3yaBQWBgkBh7nUN2lhQECgIFAQK7uaDBQWB\n",
       "gkDBzWqwoCBQECgIFOYejTbqBIGCQEGg4CQdLCgIFAQK83jts7KgIFAQKAgU5jooriwoCBQECvN4\n",
       "orhSJwgUBAoCBQfFYEFBoCBQ8EQxWFAQKAgUBAq+HxTUCQIFgYKvvwQLCgIFgYJAwRPFYEFBoCBQ\n",
       "mHs12qgTBAoCBYGCu/lgQUGgIFBwsxosKAgUBAoChXncza/UCQIFgYKDYrCgIFAQKAgUXKSDBQWB\n",
       "gkDBj1mCBQWBgkBBoODHLEGdIFAQKPj3WcGCgkBBoCBQ8EQxWFAQKAgU/B3FoE4QKAgUBAru5oMF\n",
       "BYGCQMHNarCgIFAQKAgUHBSDBQWBgkDB11+COkGgIFAQKDgoBgsKAgWBgieKwYKCQEGgIFBwUAwW\n",
       "FAQKAgV/yzVYUBAoCBQECv4rQlAnCBQECm5WgwUFgYJAQaDgtU+woCBQECgIFJykgwUFgYJAYY5r\n",
       "0MqCgkBBoCBQ8GufoE4QKAgU3KwGCwoCBYGCQMFFOlhQECgIFLx6DhYUBAoCBYGCg2KwoCBQECi4\n",
       "BgULCgIFgYJAwS8OgzpBoCBQmOOJ4sqCgkBBoCBQcDcfLCgIFAQKrkHBgoJAQaAgUHCRDhYUBAoC\n",
       "Bb96DhYUBAoCBYGCg2KwoCBQECi4BgULCgIFgYJAwXcUgzpBoCBQ8B3FYEFBoCBQECi4mw8WFAQK\n",
       "AgXXoGBBQaAgUBAo+H5QsKAgUBAoOCgGCwoCBYGCQGHu4yK9saAgUBAouFkNFhQECgIFgYK7+WBB\n",
       "QaAgUHBQDBYUBAoCBYGCg2KwoCBQECg4KAYLCgIFgYJAwUExWFAQKAgUXIOCBQWBgkBBoDDHdxRX\n",
       "FhQECgIFB8VgQUGgIFAQKHjtEywoCBQECgKFufftj/BtFhQECgIFB8VgQUGgIFAQKPjTFMGCgkBB\n",
       "oOCgGCwoCBQECgIF7+aDBQWBgkDBdxSDBQWBgkBBoODVc7CgIFAQKHiiGCwoCBQECgIFTxSDBQWB\n",
       "gkDBE8VgQUGgIFAQKLibDxYUBAoCBW81ggUFgYJAQaDgbj5YUBAoCBS81QgWFAQKAgWBwpy3P8HH\n",
       "WVAQKAgUHBSDBQWBgkBBoODVc7CgIFAQKLhZDRYUBAoCBYGCu/lgQUGgIFBwUAwWFAQKAgWBgoNi\n",
       "sKAgUBAoeKsRLCgIFAQKAoXxg8OdBQWBgkDBQTFYUBAoCBQECl77BAsKAgWBgrcawYKCQEGgIFBw\n",
       "UAwWFAQKAgUHxWBBQaAgUBAozPHueWVBQaAgUHCzGiwoCBQECgIFd/PBgoJAQaAgUHCSDhYUBAoC\n",
       "Bf8+K1hQECgIFAQK/n1WsKAgUBAoePUcLCgIFAQKAgV/miJYUBAoCBT8aYpgQUGgIFAQKHjtEywo\n",
       "CBQECr7+EiwoCBQECgIFXyQPFhQECgIFB8VgQUGgIFAQKPh+ULCgIFAQKPj6S7CgIFAQKAgUHBSD\n",
       "BQWBgkDB11+CBQWBgkBBoOBXz8GCgkBBoOBmNVhQECgIFAQKXvsECwoCBYGCg2KwoCBQECgIFBwU\n",
       "gwUFgYJAwUExWFAQKAgUBAou0sGCgkBBoOBmNVhQECgIFAQKDorBgoJAQaDgoBgsKAgUBAoCBQfF\n",
       "YEFBoCBQ8KvnYEFBoCBQECj4Y7fBgoJAQaDgZjVYUBAoCBQECnMfV+mNBQWBgkDBQTFYUBAoCBQE\n",
       "Cl77BAsKAgWBgrcawYKCQEGgIFBwNx8sKAgUBAoCBa99ggUFgYJAwUExWFAQKAgUBAp+Fh4sKAgU\n",
       "BApzvHteWVAQKAgUBArezQcLCgIFgcJcB8WVBQWBgkBBoOCgGCwoCBQECp4oBgsKAgWBgkDBq+dg\n",
       "QUGgIFCY43vSKwsKAgWBgkDB3XywoCBQECj4QV2woCBQECgIFLx6DhYUBAoCBU8UgwUFgYJAQaDg\n",
       "bj5YUBAoCBTmPG5XNxYUBAoCBYGCu/lgQUGgIFBwDQoWFAQKAgWBgieKwYKCQEGg4IlisKAgUBAo\n",
       "CBTm/BwUNxYUBAoCBQfFYEFBoCBQECjMdZFeWVAQKAgUHBSDBQWBgkBBoDDn5yK9saAgUBAoOCgG\n",
       "CwoCBYGCQMETxWBBQaAgUHBQDBYUBAoCBYGCi3SwoCBQECh4qxEsKAgUBAoChbnPn7c/w6dZUBAo\n",
       "CBQECu7mgwUFgYJAwavnYEFBoCBQECjMue7mNxYUBAoCBQfFYEFBoCBQECjM8dpnZUFBoCBQcFAM\n",
       "FhQECgIFgYKDYrCgIFAQKMy9DoobCwoCBYGCQMHdfLCgIFAQKPj6S7CgIFAQKAgUHBSDBQWBgkBh\n",
       "roPiyoKCQEGgIFBwUAwWFAQKAoU5Xj2vLCgIFAQKAgV/wyxYUBAoCBR8RzFYUBAoCBQECp4oBgsK\n",
       "AgWBgoNisKAgUBAoCBRcpIMFBYGCQMFbjWBBQaAgUBAoOCgGCwoCBYHCPN5qrCwoCBQECgIFB8Vg\n",
       "QUGgIFDw9ZdgQUGgIFAQKMzjoLiyoCBQECh49RwsKAgUBAoCBa99ggUFgYJAwc1qsKAgUBAoCBTm\n",
       "Pvftz/BpFhQECgIFN6vBgoJAQaAgUJjHQXFlQUGgIFD4D4AX7Bc4PvhYAAAAAElFTkSuQmCC\n",
       "\" transform=\"translate(2161, 195)\"/>\n",
       "</g>\n",
       "<path clip-path=\"url(#clip330)\" d=\"M2285.18 1144.39 Q2280.21 1144.39 2277.7 1149.29 Q2275.22 1154.16 2275.22 1163.96 Q2275.22 1173.73 2277.7 1178.64 Q2280.21 1183.5 2285.18 1183.5 Q2290.18 1183.5 2292.66 1178.64 Q2295.17 1173.73 2295.17 1163.96 Q2295.17 1154.16 2292.66 1149.29 Q2290.18 1144.39 2285.18 1144.39 M2285.18 1139.3 Q2293.17 1139.3 2297.37 1145.63 Q2301.6 1151.93 2301.6 1163.96 Q2301.6 1175.96 2297.37 1182.3 Q2293.17 1188.6 2285.18 1188.6 Q2277.19 1188.6 2272.96 1182.3 Q2268.76 1175.96 2268.76 1163.96 Q2268.76 1151.93 2272.96 1145.63 Q2277.19 1139.3 2285.18 1139.3 Z\" fill=\"#000000\" fill-rule=\"nonzero\" fill-opacity=\"1\" /><path clip-path=\"url(#clip330)\" d=\"M2312.9 1179.59 L2319.62 1179.59 L2319.62 1187.67 L2312.9 1187.67 L2312.9 1179.59 Z\" fill=\"#000000\" fill-rule=\"nonzero\" fill-opacity=\"1\" /><path clip-path=\"url(#clip330)\" d=\"M2347.37 1144.39 Q2342.41 1144.39 2339.89 1149.29 Q2337.41 1154.16 2337.41 1163.96 Q2337.41 1173.73 2339.89 1178.64 Q2342.41 1183.5 2347.37 1183.5 Q2352.37 1183.5 2354.85 1178.64 Q2357.37 1173.73 2357.37 1163.96 Q2357.37 1154.16 2354.85 1149.29 Q2352.37 1144.39 2347.37 1144.39 M2347.37 1139.3 Q2355.36 1139.3 2359.56 1145.63 Q2363.8 1151.93 2363.8 1163.96 Q2363.8 1175.96 2359.56 1182.3 Q2355.36 1188.6 2347.37 1188.6 Q2339.38 1188.6 2335.15 1182.3 Q2330.95 1175.96 2330.95 1163.96 Q2330.95 1151.93 2335.15 1145.63 Q2339.38 1139.3 2347.37 1139.3 Z\" fill=\"#000000\" fill-rule=\"nonzero\" fill-opacity=\"1\" /><path clip-path=\"url(#clip330)\" d=\"M2376.21 1182.26 L2386.71 1182.26 L2386.71 1146.01 L2375.29 1148.3 L2375.29 1142.45 L2386.65 1140.15 L2393.08 1140.15 L2393.08 1182.26 L2403.58 1182.26 L2403.58 1187.67 L2376.21 1187.67 L2376.21 1182.26 Z\" fill=\"#000000\" fill-rule=\"nonzero\" fill-opacity=\"1\" /><path clip-path=\"url(#clip330)\" d=\"M2285.18 961.739 Q2280.21 961.739 2277.7 966.641 Q2275.22 971.51 2275.22 981.314 Q2275.22 991.085 2277.7 995.987 Q2280.21 1000.86 2285.18 1000.86 Q2290.18 1000.86 2292.66 995.987 Q2295.17 991.085 2295.17 981.314 Q2295.17 971.51 2292.66 966.641 Q2290.18 961.739 2285.18 961.739 M2285.18 956.646 Q2293.17 956.646 2297.37 962.98 Q2301.6 969.282 2301.6 981.314 Q2301.6 993.313 2297.37 999.647 Q2293.17 1005.95 2285.18 1005.95 Q2277.19 1005.95 2272.96 999.647 Q2268.76 993.313 2268.76 981.314 Q2268.76 969.282 2272.96 962.98 Q2277.19 956.646 2285.18 956.646 Z\" fill=\"#000000\" fill-rule=\"nonzero\" fill-opacity=\"1\" /><path clip-path=\"url(#clip330)\" d=\"M2312.9 996.941 L2319.62 996.941 L2319.62 1005.03 L2312.9 1005.03 L2312.9 996.941 Z\" fill=\"#000000\" fill-rule=\"nonzero\" fill-opacity=\"1\" /><path clip-path=\"url(#clip330)\" d=\"M2347.37 961.739 Q2342.41 961.739 2339.89 966.641 Q2337.41 971.51 2337.41 981.314 Q2337.41 991.085 2339.89 995.987 Q2342.41 1000.86 2347.37 1000.86 Q2352.37 1000.86 2354.85 995.987 Q2357.37 991.085 2357.37 981.314 Q2357.37 971.51 2354.85 966.641 Q2352.37 961.739 2347.37 961.739 M2347.37 956.646 Q2355.36 956.646 2359.56 962.98 Q2363.8 969.282 2363.8 981.314 Q2363.8 993.313 2359.56 999.647 Q2355.36 1005.95 2347.37 1005.95 Q2339.38 1005.95 2335.15 999.647 Q2330.95 993.313 2330.95 981.314 Q2330.95 969.282 2335.15 962.98 Q2339.38 956.646 2347.37 956.646 Z\" fill=\"#000000\" fill-rule=\"nonzero\" fill-opacity=\"1\" /><path clip-path=\"url(#clip330)\" d=\"M2380.63 999.615 L2403.07 999.615 L2403.07 1005.03 L2372.9 1005.03 L2372.9 999.615 Q2376.56 995.827 2382.86 989.462 Q2389.2 983.064 2390.82 981.218 Q2393.91 977.749 2395.12 975.362 Q2396.36 972.943 2396.36 970.619 Q2396.36 966.832 2393.68 964.444 Q2391.04 962.057 2386.78 962.057 Q2383.75 962.057 2380.38 963.108 Q2377.04 964.158 2373.22 966.291 L2373.22 959.797 Q2377.1 958.238 2380.47 957.442 Q2383.85 956.646 2386.65 956.646 Q2394.03 956.646 2398.43 960.339 Q2402.82 964.031 2402.82 970.205 Q2402.82 973.134 2401.7 975.775 Q2400.62 978.385 2397.73 981.95 Q2396.93 982.873 2392.66 987.297 Q2388.4 991.69 2380.63 999.615 Z\" fill=\"#000000\" fill-rule=\"nonzero\" fill-opacity=\"1\" /><path clip-path=\"url(#clip330)\" d=\"M2285.18 779.09 Q2280.21 779.09 2277.7 783.992 Q2275.22 788.862 2275.22 798.665 Q2275.22 808.436 2277.7 813.338 Q2280.21 818.208 2285.18 818.208 Q2290.18 818.208 2292.66 813.338 Q2295.17 808.436 2295.17 798.665 Q2295.17 788.862 2292.66 783.992 Q2290.18 779.09 2285.18 779.09 M2285.18 773.998 Q2293.17 773.998 2297.37 780.332 Q2301.6 786.634 2301.6 798.665 Q2301.6 810.664 2297.37 816.998 Q2293.17 823.3 2285.18 823.3 Q2277.19 823.3 2272.96 816.998 Q2268.76 810.664 2268.76 798.665 Q2268.76 786.634 2272.96 780.332 Q2277.19 773.998 2285.18 773.998 Z\" fill=\"#000000\" fill-rule=\"nonzero\" fill-opacity=\"1\" /><path clip-path=\"url(#clip330)\" d=\"M2312.9 814.293 L2319.62 814.293 L2319.62 822.377 L2312.9 822.377 L2312.9 814.293 Z\" fill=\"#000000\" fill-rule=\"nonzero\" fill-opacity=\"1\" /><path clip-path=\"url(#clip330)\" d=\"M2347.37 779.09 Q2342.41 779.09 2339.89 783.992 Q2337.41 788.862 2337.41 798.665 Q2337.41 808.436 2339.89 813.338 Q2342.41 818.208 2347.37 818.208 Q2352.37 818.208 2354.85 813.338 Q2357.37 808.436 2357.37 798.665 Q2357.37 788.862 2354.85 783.992 Q2352.37 779.09 2347.37 779.09 M2347.37 773.998 Q2355.36 773.998 2359.56 780.332 Q2363.8 786.634 2363.8 798.665 Q2363.8 810.664 2359.56 816.998 Q2355.36 823.3 2347.37 823.3 Q2339.38 823.3 2335.15 816.998 Q2330.95 810.664 2330.95 798.665 Q2330.95 786.634 2335.15 780.332 Q2339.38 773.998 2347.37 773.998 Z\" fill=\"#000000\" fill-rule=\"nonzero\" fill-opacity=\"1\" /><path clip-path=\"url(#clip330)\" d=\"M2394.57 796.755 Q2399.19 797.742 2401.77 800.861 Q2404.38 803.98 2404.38 808.564 Q2404.38 815.598 2399.54 819.449 Q2394.7 823.3 2385.79 823.3 Q2382.8 823.3 2379.61 822.695 Q2376.46 822.123 2373.09 820.945 L2373.09 814.738 Q2375.76 816.298 2378.95 817.094 Q2382.13 817.889 2385.6 817.889 Q2391.65 817.889 2394.8 815.502 Q2397.98 813.115 2397.98 808.564 Q2397.98 804.362 2395.02 802.007 Q2392.09 799.62 2386.84 799.62 L2381.3 799.62 L2381.3 794.336 L2387.09 794.336 Q2391.84 794.336 2394.35 792.458 Q2396.87 790.549 2396.87 786.984 Q2396.87 783.324 2394.26 781.382 Q2391.68 779.409 2386.84 779.409 Q2384.2 779.409 2381.17 779.982 Q2378.15 780.554 2374.52 781.764 L2374.52 776.035 Q2378.18 775.016 2381.37 774.507 Q2384.58 773.998 2387.41 773.998 Q2394.73 773.998 2399 777.34 Q2403.26 780.65 2403.26 786.315 Q2403.26 790.262 2401 792.999 Q2398.74 795.705 2394.57 796.755 Z\" fill=\"#000000\" fill-rule=\"nonzero\" fill-opacity=\"1\" /><path clip-path=\"url(#clip330)\" d=\"M2285.18 596.442 Q2280.21 596.442 2277.7 601.343 Q2275.22 606.213 2275.22 616.016 Q2275.22 625.788 2277.7 630.689 Q2280.21 635.559 2285.18 635.559 Q2290.18 635.559 2292.66 630.689 Q2295.17 625.788 2295.17 616.016 Q2295.17 606.213 2292.66 601.343 Q2290.18 596.442 2285.18 596.442 M2285.18 591.349 Q2293.17 591.349 2297.37 597.683 Q2301.6 603.985 2301.6 616.016 Q2301.6 628.016 2297.37 634.349 Q2293.17 640.651 2285.18 640.651 Q2277.19 640.651 2272.96 634.349 Q2268.76 628.016 2268.76 616.016 Q2268.76 603.985 2272.96 597.683 Q2277.19 591.349 2285.18 591.349 Z\" fill=\"#000000\" fill-rule=\"nonzero\" fill-opacity=\"1\" /><path clip-path=\"url(#clip330)\" d=\"M2312.9 631.644 L2319.62 631.644 L2319.62 639.728 L2312.9 639.728 L2312.9 631.644 Z\" fill=\"#000000\" fill-rule=\"nonzero\" fill-opacity=\"1\" /><path clip-path=\"url(#clip330)\" d=\"M2347.37 596.442 Q2342.41 596.442 2339.89 601.343 Q2337.41 606.213 2337.41 616.016 Q2337.41 625.788 2339.89 630.689 Q2342.41 635.559 2347.37 635.559 Q2352.37 635.559 2354.85 630.689 Q2357.37 625.788 2357.37 616.016 Q2357.37 606.213 2354.85 601.343 Q2352.37 596.442 2347.37 596.442 M2347.37 591.349 Q2355.36 591.349 2359.56 597.683 Q2363.8 603.985 2363.8 616.016 Q2363.8 628.016 2359.56 634.349 Q2355.36 640.651 2347.37 640.651 Q2339.38 640.651 2335.15 634.349 Q2330.95 628.016 2330.95 616.016 Q2330.95 603.985 2335.15 597.683 Q2339.38 591.349 2347.37 591.349 Z\" fill=\"#000000\" fill-rule=\"nonzero\" fill-opacity=\"1\" /><path clip-path=\"url(#clip330)\" d=\"M2392.76 597.81 L2376.53 623.178 L2392.76 623.178 L2392.76 597.81 M2391.07 592.208 L2399.16 592.208 L2399.16 623.178 L2405.94 623.178 L2405.94 628.525 L2399.16 628.525 L2399.16 639.728 L2392.76 639.728 L2392.76 628.525 L2371.31 628.525 L2371.31 622.318 L2391.07 592.208 Z\" fill=\"#000000\" fill-rule=\"nonzero\" fill-opacity=\"1\" /><path clip-path=\"url(#clip330)\" d=\"M2285.18 413.793 Q2280.21 413.793 2277.7 418.695 Q2275.22 423.564 2275.22 433.368 Q2275.22 443.139 2277.7 448.04 Q2280.21 452.91 2285.18 452.91 Q2290.18 452.91 2292.66 448.04 Q2295.17 443.139 2295.17 433.368 Q2295.17 423.564 2292.66 418.695 Q2290.18 413.793 2285.18 413.793 M2285.18 408.7 Q2293.17 408.7 2297.37 415.034 Q2301.6 421.336 2301.6 433.368 Q2301.6 445.367 2297.37 451.701 Q2293.17 458.003 2285.18 458.003 Q2277.19 458.003 2272.96 451.701 Q2268.76 445.367 2268.76 433.368 Q2268.76 421.336 2272.96 415.034 Q2277.19 408.7 2285.18 408.7 Z\" fill=\"#000000\" fill-rule=\"nonzero\" fill-opacity=\"1\" /><path clip-path=\"url(#clip330)\" d=\"M2312.9 448.995 L2319.62 448.995 L2319.62 457.08 L2312.9 457.08 L2312.9 448.995 Z\" fill=\"#000000\" fill-rule=\"nonzero\" fill-opacity=\"1\" /><path clip-path=\"url(#clip330)\" d=\"M2347.37 413.793 Q2342.41 413.793 2339.89 418.695 Q2337.41 423.564 2337.41 433.368 Q2337.41 443.139 2339.89 448.04 Q2342.41 452.91 2347.37 452.91 Q2352.37 452.91 2354.85 448.04 Q2357.37 443.139 2357.37 433.368 Q2357.37 423.564 2354.85 418.695 Q2352.37 413.793 2347.37 413.793 M2347.37 408.7 Q2355.36 408.7 2359.56 415.034 Q2363.8 421.336 2363.8 433.368 Q2363.8 445.367 2359.56 451.701 Q2355.36 458.003 2347.37 458.003 Q2339.38 458.003 2335.15 451.701 Q2330.95 445.367 2330.95 433.368 Q2330.95 421.336 2335.15 415.034 Q2339.38 408.7 2347.37 408.7 Z\" fill=\"#000000\" fill-rule=\"nonzero\" fill-opacity=\"1\" /><path clip-path=\"url(#clip330)\" d=\"M2375.16 409.56 L2400.4 409.56 L2400.4 414.971 L2381.05 414.971 L2381.05 426.62 Q2382.45 426.142 2383.85 425.92 Q2385.25 425.665 2386.65 425.665 Q2394.61 425.665 2399.25 430.026 Q2403.9 434.386 2403.9 441.834 Q2403.9 449.505 2399.13 453.77 Q2394.35 458.003 2385.66 458.003 Q2382.67 458.003 2379.55 457.494 Q2376.46 456.984 2373.15 455.966 L2373.15 449.505 Q2376.02 451.064 2379.07 451.828 Q2382.13 452.592 2385.53 452.592 Q2391.04 452.592 2394.26 449.696 Q2397.47 446.799 2397.47 441.834 Q2397.47 436.869 2394.26 433.972 Q2391.04 431.076 2385.53 431.076 Q2382.96 431.076 2380.38 431.649 Q2377.83 432.222 2375.16 433.431 L2375.16 409.56 Z\" fill=\"#000000\" fill-rule=\"nonzero\" fill-opacity=\"1\" /><path clip-path=\"url(#clip330)\" d=\"M2285.18 231.144 Q2280.21 231.144 2277.7 236.046 Q2275.22 240.916 2275.22 250.719 Q2275.22 260.49 2277.7 265.392 Q2280.21 270.262 2285.18 270.262 Q2290.18 270.262 2292.66 265.392 Q2295.17 260.49 2295.17 250.719 Q2295.17 240.916 2292.66 236.046 Q2290.18 231.144 2285.18 231.144 M2285.18 226.052 Q2293.17 226.052 2297.37 232.386 Q2301.6 238.688 2301.6 250.719 Q2301.6 262.718 2297.37 269.052 Q2293.17 275.354 2285.18 275.354 Q2277.19 275.354 2272.96 269.052 Q2268.76 262.718 2268.76 250.719 Q2268.76 238.688 2272.96 232.386 Q2277.19 226.052 2285.18 226.052 Z\" fill=\"#000000\" fill-rule=\"nonzero\" fill-opacity=\"1\" /><path clip-path=\"url(#clip330)\" d=\"M2312.9 266.347 L2319.62 266.347 L2319.62 274.431 L2312.9 274.431 L2312.9 266.347 Z\" fill=\"#000000\" fill-rule=\"nonzero\" fill-opacity=\"1\" /><path clip-path=\"url(#clip330)\" d=\"M2347.37 231.144 Q2342.41 231.144 2339.89 236.046 Q2337.41 240.916 2337.41 250.719 Q2337.41 260.49 2339.89 265.392 Q2342.41 270.262 2347.37 270.262 Q2352.37 270.262 2354.85 265.392 Q2357.37 260.49 2357.37 250.719 Q2357.37 240.916 2354.85 236.046 Q2352.37 231.144 2347.37 231.144 M2347.37 226.052 Q2355.36 226.052 2359.56 232.386 Q2363.8 238.688 2363.8 250.719 Q2363.8 262.718 2359.56 269.052 Q2355.36 275.354 2347.37 275.354 Q2339.38 275.354 2335.15 269.052 Q2330.95 262.718 2330.95 250.719 Q2330.95 238.688 2335.15 232.386 Q2339.38 226.052 2347.37 226.052 Z\" fill=\"#000000\" fill-rule=\"nonzero\" fill-opacity=\"1\" /><path clip-path=\"url(#clip330)\" d=\"M2389.64 248.109 Q2385.31 248.109 2382.77 251.069 Q2380.25 254.029 2380.25 259.185 Q2380.25 264.31 2382.77 267.302 Q2385.31 270.262 2389.64 270.262 Q2393.97 270.262 2396.48 267.302 Q2399.03 264.31 2399.03 259.185 Q2399.03 254.029 2396.48 251.069 Q2393.97 248.109 2389.64 248.109 M2402.4 227.961 L2402.4 233.818 Q2399.98 232.672 2397.5 232.067 Q2395.05 231.463 2392.63 231.463 Q2386.27 231.463 2382.89 235.759 Q2379.55 240.056 2379.07 248.745 Q2380.95 245.976 2383.78 244.512 Q2386.62 243.016 2390.02 243.016 Q2397.18 243.016 2401.32 247.377 Q2405.49 251.706 2405.49 259.185 Q2405.49 266.506 2401.16 270.93 Q2396.83 275.354 2389.64 275.354 Q2381.4 275.354 2377.04 269.052 Q2372.68 262.718 2372.68 250.719 Q2372.68 239.452 2378.02 232.768 Q2383.37 226.052 2392.38 226.052 Q2394.8 226.052 2397.25 226.529 Q2399.73 227.007 2402.4 227.961 Z\" fill=\"#000000\" fill-rule=\"nonzero\" fill-opacity=\"1\" /><polyline clip-path=\"url(#clip330)\" style=\"stroke:#000000; stroke-linecap:round; stroke-linejoin:round; stroke-width:4; stroke-opacity:1; fill:none\" points=\"2232.76,1351.55 2232.76,1168.9 2256.76,1168.9 2232.76,1168.9 2232.76,986.255 2256.76,986.255 2232.76,986.255 2232.76,803.607 2256.76,803.607 2232.76,803.607 2232.76,620.958 2256.76,620.958 2232.76,620.958 2232.76,438.309 2256.76,438.309 2232.76,438.309 2232.76,255.661 2256.76,255.661 2232.76,255.661 2232.76,195.104 \"/>\n",
       "<g clip-path=\"url(#clip330)\">\n",
       "<text style=\"fill:#008000; fill-opacity:1; font-family:Courier,Courier New,Lucida Sans Typewriter,Lucida Typewriter,monospace; font-size:74px; text-anchor:middle;\" transform=\"rotate(0, 530.422, 1272.13)\" x=\"530.422\" y=\"1272.13\">1</text>\n",
       "</g>\n",
       "<g clip-path=\"url(#clip330)\">\n",
       "<text style=\"fill:#008000; fill-opacity:1; font-family:Courier,Courier New,Lucida Sans Typewriter,Lucida Typewriter,monospace; font-size:74px; text-anchor:middle;\" transform=\"rotate(0, 530.422, 1135.76)\" x=\"530.422\" y=\"1135.76\">2</text>\n",
       "</g>\n",
       "<g clip-path=\"url(#clip330)\">\n",
       "<text style=\"fill:#008000; fill-opacity:1; font-family:Courier,Courier New,Lucida Sans Typewriter,Lucida Typewriter,monospace; font-size:74px; text-anchor:middle;\" transform=\"rotate(0, 530.422, 999.386)\" x=\"530.422\" y=\"999.386\">3</text>\n",
       "</g>\n",
       "<g clip-path=\"url(#clip330)\">\n",
       "<text style=\"fill:#008000; fill-opacity:1; font-family:Courier,Courier New,Lucida Sans Typewriter,Lucida Typewriter,monospace; font-size:74px; text-anchor:middle;\" transform=\"rotate(0, 530.422, 863.013)\" x=\"530.422\" y=\"863.013\">4</text>\n",
       "</g>\n",
       "<g clip-path=\"url(#clip330)\">\n",
       "<text style=\"fill:#008000; fill-opacity:1; font-family:Courier,Courier New,Lucida Sans Typewriter,Lucida Typewriter,monospace; font-size:74px; text-anchor:middle;\" transform=\"rotate(0, 530.422, 726.639)\" x=\"530.422\" y=\"726.639\">5</text>\n",
       "</g>\n",
       "<g clip-path=\"url(#clip330)\">\n",
       "<text style=\"fill:#008000; fill-opacity:1; font-family:Courier,Courier New,Lucida Sans Typewriter,Lucida Typewriter,monospace; font-size:74px; text-anchor:middle;\" transform=\"rotate(0, 530.422, 590.266)\" x=\"530.422\" y=\"590.266\">6</text>\n",
       "</g>\n",
       "<g clip-path=\"url(#clip330)\">\n",
       "<text style=\"fill:#008000; fill-opacity:1; font-family:Courier,Courier New,Lucida Sans Typewriter,Lucida Typewriter,monospace; font-size:74px; text-anchor:middle;\" transform=\"rotate(0, 530.422, 453.893)\" x=\"530.422\" y=\"453.893\">7</text>\n",
       "</g>\n",
       "<g clip-path=\"url(#clip330)\">\n",
       "<text style=\"fill:#008000; fill-opacity:1; font-family:Courier,Courier New,Lucida Sans Typewriter,Lucida Typewriter,monospace; font-size:74px; text-anchor:middle;\" transform=\"rotate(0, 530.422, 317.52)\" x=\"530.422\" y=\"317.52\">8</text>\n",
       "</g>\n",
       "<g clip-path=\"url(#clip330)\">\n",
       "<text style=\"fill:#008000; fill-opacity:1; font-family:Courier,Courier New,Lucida Sans Typewriter,Lucida Typewriter,monospace; font-size:74px; text-anchor:middle;\" transform=\"rotate(0, 666.795, 1272.13)\" x=\"666.795\" y=\"1272.13\">9</text>\n",
       "</g>\n",
       "<g clip-path=\"url(#clip330)\">\n",
       "<text style=\"fill:#008000; fill-opacity:1; font-family:Courier,Courier New,Lucida Sans Typewriter,Lucida Typewriter,monospace; font-size:74px; text-anchor:middle;\" transform=\"rotate(0, 666.795, 1135.76)\" x=\"666.795\" y=\"1135.76\">10</text>\n",
       "</g>\n",
       "<g clip-path=\"url(#clip330)\">\n",
       "<text style=\"fill:#008000; fill-opacity:1; font-family:Courier,Courier New,Lucida Sans Typewriter,Lucida Typewriter,monospace; font-size:74px; text-anchor:middle;\" transform=\"rotate(0, 666.795, 999.386)\" x=\"666.795\" y=\"999.386\">11</text>\n",
       "</g>\n",
       "<g clip-path=\"url(#clip330)\">\n",
       "<text style=\"fill:#008000; fill-opacity:1; font-family:Courier,Courier New,Lucida Sans Typewriter,Lucida Typewriter,monospace; font-size:74px; text-anchor:middle;\" transform=\"rotate(0, 666.795, 863.013)\" x=\"666.795\" y=\"863.013\">12</text>\n",
       "</g>\n",
       "<g clip-path=\"url(#clip330)\">\n",
       "<text style=\"fill:#008000; fill-opacity:1; font-family:Courier,Courier New,Lucida Sans Typewriter,Lucida Typewriter,monospace; font-size:74px; text-anchor:middle;\" transform=\"rotate(0, 666.795, 726.639)\" x=\"666.795\" y=\"726.639\">13</text>\n",
       "</g>\n",
       "<g clip-path=\"url(#clip330)\">\n",
       "<text style=\"fill:#008000; fill-opacity:1; font-family:Courier,Courier New,Lucida Sans Typewriter,Lucida Typewriter,monospace; font-size:74px; text-anchor:middle;\" transform=\"rotate(0, 666.795, 590.266)\" x=\"666.795\" y=\"590.266\">14</text>\n",
       "</g>\n",
       "<g clip-path=\"url(#clip330)\">\n",
       "<text style=\"fill:#008000; fill-opacity:1; font-family:Courier,Courier New,Lucida Sans Typewriter,Lucida Typewriter,monospace; font-size:74px; text-anchor:middle;\" transform=\"rotate(0, 666.795, 453.893)\" x=\"666.795\" y=\"453.893\">15</text>\n",
       "</g>\n",
       "<g clip-path=\"url(#clip330)\">\n",
       "<text style=\"fill:#008000; fill-opacity:1; font-family:Courier,Courier New,Lucida Sans Typewriter,Lucida Typewriter,monospace; font-size:74px; text-anchor:middle;\" transform=\"rotate(0, 666.795, 317.52)\" x=\"666.795\" y=\"317.52\">16</text>\n",
       "</g>\n",
       "<g clip-path=\"url(#clip330)\">\n",
       "<text style=\"fill:#008000; fill-opacity:1; font-family:Courier,Courier New,Lucida Sans Typewriter,Lucida Typewriter,monospace; font-size:74px; text-anchor:middle;\" transform=\"rotate(0, 803.168, 1272.13)\" x=\"803.168\" y=\"1272.13\">17</text>\n",
       "</g>\n",
       "<g clip-path=\"url(#clip330)\">\n",
       "<text style=\"fill:#008000; fill-opacity:1; font-family:Courier,Courier New,Lucida Sans Typewriter,Lucida Typewriter,monospace; font-size:74px; text-anchor:middle;\" transform=\"rotate(0, 803.168, 1135.76)\" x=\"803.168\" y=\"1135.76\">18</text>\n",
       "</g>\n",
       "<g clip-path=\"url(#clip330)\">\n",
       "<text style=\"fill:#008000; fill-opacity:1; font-family:Courier,Courier New,Lucida Sans Typewriter,Lucida Typewriter,monospace; font-size:74px; text-anchor:middle;\" transform=\"rotate(0, 803.168, 999.386)\" x=\"803.168\" y=\"999.386\">19</text>\n",
       "</g>\n",
       "<g clip-path=\"url(#clip330)\">\n",
       "<text style=\"fill:#008000; fill-opacity:1; font-family:Courier,Courier New,Lucida Sans Typewriter,Lucida Typewriter,monospace; font-size:74px; text-anchor:middle;\" transform=\"rotate(0, 803.168, 863.013)\" x=\"803.168\" y=\"863.013\">20</text>\n",
       "</g>\n",
       "<g clip-path=\"url(#clip330)\">\n",
       "<text style=\"fill:#008000; fill-opacity:1; font-family:Courier,Courier New,Lucida Sans Typewriter,Lucida Typewriter,monospace; font-size:74px; text-anchor:middle;\" transform=\"rotate(0, 803.168, 726.639)\" x=\"803.168\" y=\"726.639\">21</text>\n",
       "</g>\n",
       "<g clip-path=\"url(#clip330)\">\n",
       "<text style=\"fill:#008000; fill-opacity:1; font-family:Courier,Courier New,Lucida Sans Typewriter,Lucida Typewriter,monospace; font-size:74px; text-anchor:middle;\" transform=\"rotate(0, 803.168, 590.266)\" x=\"803.168\" y=\"590.266\">22</text>\n",
       "</g>\n",
       "<g clip-path=\"url(#clip330)\">\n",
       "<text style=\"fill:#008000; fill-opacity:1; font-family:Courier,Courier New,Lucida Sans Typewriter,Lucida Typewriter,monospace; font-size:74px; text-anchor:middle;\" transform=\"rotate(0, 803.168, 453.893)\" x=\"803.168\" y=\"453.893\">23</text>\n",
       "</g>\n",
       "<g clip-path=\"url(#clip330)\">\n",
       "<text style=\"fill:#008000; fill-opacity:1; font-family:Courier,Courier New,Lucida Sans Typewriter,Lucida Typewriter,monospace; font-size:74px; text-anchor:middle;\" transform=\"rotate(0, 803.168, 317.52)\" x=\"803.168\" y=\"317.52\">24</text>\n",
       "</g>\n",
       "<g clip-path=\"url(#clip330)\">\n",
       "<text style=\"fill:#008000; fill-opacity:1; font-family:Courier,Courier New,Lucida Sans Typewriter,Lucida Typewriter,monospace; font-size:74px; text-anchor:middle;\" transform=\"rotate(0, 939.541, 1272.13)\" x=\"939.541\" y=\"1272.13\">25</text>\n",
       "</g>\n",
       "<g clip-path=\"url(#clip330)\">\n",
       "<text style=\"fill:#008000; fill-opacity:1; font-family:Courier,Courier New,Lucida Sans Typewriter,Lucida Typewriter,monospace; font-size:74px; text-anchor:middle;\" transform=\"rotate(0, 939.541, 1135.76)\" x=\"939.541\" y=\"1135.76\">26</text>\n",
       "</g>\n",
       "<g clip-path=\"url(#clip330)\">\n",
       "<text style=\"fill:#008000; fill-opacity:1; font-family:Courier,Courier New,Lucida Sans Typewriter,Lucida Typewriter,monospace; font-size:74px; text-anchor:middle;\" transform=\"rotate(0, 939.541, 999.386)\" x=\"939.541\" y=\"999.386\">27</text>\n",
       "</g>\n",
       "<g clip-path=\"url(#clip330)\">\n",
       "<text style=\"fill:#008000; fill-opacity:1; font-family:Courier,Courier New,Lucida Sans Typewriter,Lucida Typewriter,monospace; font-size:74px; text-anchor:middle;\" transform=\"rotate(0, 939.541, 863.013)\" x=\"939.541\" y=\"863.013\">28</text>\n",
       "</g>\n",
       "<g clip-path=\"url(#clip330)\">\n",
       "<text style=\"fill:#008000; fill-opacity:1; font-family:Courier,Courier New,Lucida Sans Typewriter,Lucida Typewriter,monospace; font-size:74px; text-anchor:middle;\" transform=\"rotate(0, 939.541, 726.639)\" x=\"939.541\" y=\"726.639\">29</text>\n",
       "</g>\n",
       "<g clip-path=\"url(#clip330)\">\n",
       "<text style=\"fill:#008000; fill-opacity:1; font-family:Courier,Courier New,Lucida Sans Typewriter,Lucida Typewriter,monospace; font-size:74px; text-anchor:middle;\" transform=\"rotate(0, 939.541, 590.266)\" x=\"939.541\" y=\"590.266\">30</text>\n",
       "</g>\n",
       "<g clip-path=\"url(#clip330)\">\n",
       "<text style=\"fill:#008000; fill-opacity:1; font-family:Courier,Courier New,Lucida Sans Typewriter,Lucida Typewriter,monospace; font-size:74px; text-anchor:middle;\" transform=\"rotate(0, 939.541, 453.893)\" x=\"939.541\" y=\"453.893\">31</text>\n",
       "</g>\n",
       "<g clip-path=\"url(#clip330)\">\n",
       "<text style=\"fill:#008000; fill-opacity:1; font-family:Courier,Courier New,Lucida Sans Typewriter,Lucida Typewriter,monospace; font-size:74px; text-anchor:middle;\" transform=\"rotate(0, 939.541, 317.52)\" x=\"939.541\" y=\"317.52\">32</text>\n",
       "</g>\n",
       "<g clip-path=\"url(#clip330)\">\n",
       "<text style=\"fill:#008000; fill-opacity:1; font-family:Courier,Courier New,Lucida Sans Typewriter,Lucida Typewriter,monospace; font-size:74px; text-anchor:middle;\" transform=\"rotate(0, 1075.91, 1272.13)\" x=\"1075.91\" y=\"1272.13\">33</text>\n",
       "</g>\n",
       "<g clip-path=\"url(#clip330)\">\n",
       "<text style=\"fill:#008000; fill-opacity:1; font-family:Courier,Courier New,Lucida Sans Typewriter,Lucida Typewriter,monospace; font-size:74px; text-anchor:middle;\" transform=\"rotate(0, 1075.91, 1135.76)\" x=\"1075.91\" y=\"1135.76\">34</text>\n",
       "</g>\n",
       "<g clip-path=\"url(#clip330)\">\n",
       "<text style=\"fill:#008000; fill-opacity:1; font-family:Courier,Courier New,Lucida Sans Typewriter,Lucida Typewriter,monospace; font-size:74px; text-anchor:middle;\" transform=\"rotate(0, 1075.91, 999.386)\" x=\"1075.91\" y=\"999.386\">35</text>\n",
       "</g>\n",
       "<g clip-path=\"url(#clip330)\">\n",
       "<text style=\"fill:#008000; fill-opacity:1; font-family:Courier,Courier New,Lucida Sans Typewriter,Lucida Typewriter,monospace; font-size:74px; text-anchor:middle;\" transform=\"rotate(0, 1075.91, 863.013)\" x=\"1075.91\" y=\"863.013\">36</text>\n",
       "</g>\n",
       "<g clip-path=\"url(#clip330)\">\n",
       "<text style=\"fill:#008000; fill-opacity:1; font-family:Courier,Courier New,Lucida Sans Typewriter,Lucida Typewriter,monospace; font-size:74px; text-anchor:middle;\" transform=\"rotate(0, 1075.91, 726.639)\" x=\"1075.91\" y=\"726.639\">37</text>\n",
       "</g>\n",
       "<g clip-path=\"url(#clip330)\">\n",
       "<text style=\"fill:#008000; fill-opacity:1; font-family:Courier,Courier New,Lucida Sans Typewriter,Lucida Typewriter,monospace; font-size:74px; text-anchor:middle;\" transform=\"rotate(0, 1075.91, 590.266)\" x=\"1075.91\" y=\"590.266\">38</text>\n",
       "</g>\n",
       "<g clip-path=\"url(#clip330)\">\n",
       "<text style=\"fill:#008000; fill-opacity:1; font-family:Courier,Courier New,Lucida Sans Typewriter,Lucida Typewriter,monospace; font-size:74px; text-anchor:middle;\" transform=\"rotate(0, 1075.91, 453.893)\" x=\"1075.91\" y=\"453.893\">39</text>\n",
       "</g>\n",
       "<g clip-path=\"url(#clip330)\">\n",
       "<text style=\"fill:#008000; fill-opacity:1; font-family:Courier,Courier New,Lucida Sans Typewriter,Lucida Typewriter,monospace; font-size:74px; text-anchor:middle;\" transform=\"rotate(0, 1075.91, 317.52)\" x=\"1075.91\" y=\"317.52\">40</text>\n",
       "</g>\n",
       "<g clip-path=\"url(#clip330)\">\n",
       "<text style=\"fill:#008000; fill-opacity:1; font-family:Courier,Courier New,Lucida Sans Typewriter,Lucida Typewriter,monospace; font-size:74px; text-anchor:middle;\" transform=\"rotate(0, 1212.29, 1272.13)\" x=\"1212.29\" y=\"1272.13\">41</text>\n",
       "</g>\n",
       "<g clip-path=\"url(#clip330)\">\n",
       "<text style=\"fill:#008000; fill-opacity:1; font-family:Courier,Courier New,Lucida Sans Typewriter,Lucida Typewriter,monospace; font-size:74px; text-anchor:middle;\" transform=\"rotate(0, 1212.29, 1135.76)\" x=\"1212.29\" y=\"1135.76\">42</text>\n",
       "</g>\n",
       "<g clip-path=\"url(#clip330)\">\n",
       "<text style=\"fill:#008000; fill-opacity:1; font-family:Courier,Courier New,Lucida Sans Typewriter,Lucida Typewriter,monospace; font-size:74px; text-anchor:middle;\" transform=\"rotate(0, 1212.29, 999.386)\" x=\"1212.29\" y=\"999.386\">43</text>\n",
       "</g>\n",
       "<g clip-path=\"url(#clip330)\">\n",
       "<text style=\"fill:#008000; fill-opacity:1; font-family:Courier,Courier New,Lucida Sans Typewriter,Lucida Typewriter,monospace; font-size:74px; text-anchor:middle;\" transform=\"rotate(0, 1212.29, 863.013)\" x=\"1212.29\" y=\"863.013\">44</text>\n",
       "</g>\n",
       "<g clip-path=\"url(#clip330)\">\n",
       "<text style=\"fill:#008000; fill-opacity:1; font-family:Courier,Courier New,Lucida Sans Typewriter,Lucida Typewriter,monospace; font-size:74px; text-anchor:middle;\" transform=\"rotate(0, 1212.29, 726.639)\" x=\"1212.29\" y=\"726.639\">45</text>\n",
       "</g>\n",
       "<g clip-path=\"url(#clip330)\">\n",
       "<text style=\"fill:#008000; fill-opacity:1; font-family:Courier,Courier New,Lucida Sans Typewriter,Lucida Typewriter,monospace; font-size:74px; text-anchor:middle;\" transform=\"rotate(0, 1212.29, 590.266)\" x=\"1212.29\" y=\"590.266\">46</text>\n",
       "</g>\n",
       "<g clip-path=\"url(#clip330)\">\n",
       "<text style=\"fill:#008000; fill-opacity:1; font-family:Courier,Courier New,Lucida Sans Typewriter,Lucida Typewriter,monospace; font-size:74px; text-anchor:middle;\" transform=\"rotate(0, 1212.29, 453.893)\" x=\"1212.29\" y=\"453.893\">47</text>\n",
       "</g>\n",
       "<g clip-path=\"url(#clip330)\">\n",
       "<text style=\"fill:#008000; fill-opacity:1; font-family:Courier,Courier New,Lucida Sans Typewriter,Lucida Typewriter,monospace; font-size:74px; text-anchor:middle;\" transform=\"rotate(0, 1212.29, 317.52)\" x=\"1212.29\" y=\"317.52\">48</text>\n",
       "</g>\n",
       "<g clip-path=\"url(#clip330)\">\n",
       "<text style=\"fill:#008000; fill-opacity:1; font-family:Courier,Courier New,Lucida Sans Typewriter,Lucida Typewriter,monospace; font-size:74px; text-anchor:middle;\" transform=\"rotate(0, 1348.66, 1272.13)\" x=\"1348.66\" y=\"1272.13\">49</text>\n",
       "</g>\n",
       "<g clip-path=\"url(#clip330)\">\n",
       "<text style=\"fill:#008000; fill-opacity:1; font-family:Courier,Courier New,Lucida Sans Typewriter,Lucida Typewriter,monospace; font-size:74px; text-anchor:middle;\" transform=\"rotate(0, 1348.66, 1135.76)\" x=\"1348.66\" y=\"1135.76\">50</text>\n",
       "</g>\n",
       "<g clip-path=\"url(#clip330)\">\n",
       "<text style=\"fill:#008000; fill-opacity:1; font-family:Courier,Courier New,Lucida Sans Typewriter,Lucida Typewriter,monospace; font-size:74px; text-anchor:middle;\" transform=\"rotate(0, 1348.66, 999.386)\" x=\"1348.66\" y=\"999.386\">51</text>\n",
       "</g>\n",
       "<g clip-path=\"url(#clip330)\">\n",
       "<text style=\"fill:#008000; fill-opacity:1; font-family:Courier,Courier New,Lucida Sans Typewriter,Lucida Typewriter,monospace; font-size:74px; text-anchor:middle;\" transform=\"rotate(0, 1348.66, 863.013)\" x=\"1348.66\" y=\"863.013\">52</text>\n",
       "</g>\n",
       "<g clip-path=\"url(#clip330)\">\n",
       "<text style=\"fill:#008000; fill-opacity:1; font-family:Courier,Courier New,Lucida Sans Typewriter,Lucida Typewriter,monospace; font-size:74px; text-anchor:middle;\" transform=\"rotate(0, 1348.66, 726.639)\" x=\"1348.66\" y=\"726.639\">53</text>\n",
       "</g>\n",
       "<g clip-path=\"url(#clip330)\">\n",
       "<text style=\"fill:#008000; fill-opacity:1; font-family:Courier,Courier New,Lucida Sans Typewriter,Lucida Typewriter,monospace; font-size:74px; text-anchor:middle;\" transform=\"rotate(0, 1348.66, 590.266)\" x=\"1348.66\" y=\"590.266\">54</text>\n",
       "</g>\n",
       "<g clip-path=\"url(#clip330)\">\n",
       "<text style=\"fill:#008000; fill-opacity:1; font-family:Courier,Courier New,Lucida Sans Typewriter,Lucida Typewriter,monospace; font-size:74px; text-anchor:middle;\" transform=\"rotate(0, 1348.66, 453.893)\" x=\"1348.66\" y=\"453.893\">55</text>\n",
       "</g>\n",
       "<g clip-path=\"url(#clip330)\">\n",
       "<text style=\"fill:#008000; fill-opacity:1; font-family:Courier,Courier New,Lucida Sans Typewriter,Lucida Typewriter,monospace; font-size:74px; text-anchor:middle;\" transform=\"rotate(0, 1348.66, 317.52)\" x=\"1348.66\" y=\"317.52\">56</text>\n",
       "</g>\n",
       "<g clip-path=\"url(#clip330)\">\n",
       "<text style=\"fill:#008000; fill-opacity:1; font-family:Courier,Courier New,Lucida Sans Typewriter,Lucida Typewriter,monospace; font-size:74px; text-anchor:middle;\" transform=\"rotate(0, 1485.03, 1272.13)\" x=\"1485.03\" y=\"1272.13\">57</text>\n",
       "</g>\n",
       "<g clip-path=\"url(#clip330)\">\n",
       "<text style=\"fill:#008000; fill-opacity:1; font-family:Courier,Courier New,Lucida Sans Typewriter,Lucida Typewriter,monospace; font-size:74px; text-anchor:middle;\" transform=\"rotate(0, 1485.03, 1135.76)\" x=\"1485.03\" y=\"1135.76\">58</text>\n",
       "</g>\n",
       "<g clip-path=\"url(#clip330)\">\n",
       "<text style=\"fill:#008000; fill-opacity:1; font-family:Courier,Courier New,Lucida Sans Typewriter,Lucida Typewriter,monospace; font-size:74px; text-anchor:middle;\" transform=\"rotate(0, 1485.03, 999.386)\" x=\"1485.03\" y=\"999.386\">59</text>\n",
       "</g>\n",
       "<g clip-path=\"url(#clip330)\">\n",
       "<text style=\"fill:#008000; fill-opacity:1; font-family:Courier,Courier New,Lucida Sans Typewriter,Lucida Typewriter,monospace; font-size:74px; text-anchor:middle;\" transform=\"rotate(0, 1485.03, 863.013)\" x=\"1485.03\" y=\"863.013\">60</text>\n",
       "</g>\n",
       "<g clip-path=\"url(#clip330)\">\n",
       "<text style=\"fill:#008000; fill-opacity:1; font-family:Courier,Courier New,Lucida Sans Typewriter,Lucida Typewriter,monospace; font-size:74px; text-anchor:middle;\" transform=\"rotate(0, 1485.03, 726.639)\" x=\"1485.03\" y=\"726.639\">61</text>\n",
       "</g>\n",
       "<g clip-path=\"url(#clip330)\">\n",
       "<text style=\"fill:#008000; fill-opacity:1; font-family:Courier,Courier New,Lucida Sans Typewriter,Lucida Typewriter,monospace; font-size:74px; text-anchor:middle;\" transform=\"rotate(0, 1485.03, 590.266)\" x=\"1485.03\" y=\"590.266\">62</text>\n",
       "</g>\n",
       "<g clip-path=\"url(#clip330)\">\n",
       "<text style=\"fill:#008000; fill-opacity:1; font-family:Courier,Courier New,Lucida Sans Typewriter,Lucida Typewriter,monospace; font-size:74px; text-anchor:middle;\" transform=\"rotate(0, 1485.03, 453.893)\" x=\"1485.03\" y=\"453.893\">63</text>\n",
       "</g>\n",
       "<g clip-path=\"url(#clip330)\">\n",
       "<text style=\"fill:#008000; fill-opacity:1; font-family:Courier,Courier New,Lucida Sans Typewriter,Lucida Typewriter,monospace; font-size:74px; text-anchor:middle;\" transform=\"rotate(0, 1485.03, 317.52)\" x=\"1485.03\" y=\"317.52\">64</text>\n",
       "</g>\n",
       "<g clip-path=\"url(#clip330)\">\n",
       "<text style=\"fill:#008000; fill-opacity:1; font-family:Courier,Courier New,Lucida Sans Typewriter,Lucida Typewriter,monospace; font-size:74px; text-anchor:middle;\" transform=\"rotate(0, 1621.41, 1272.13)\" x=\"1621.41\" y=\"1272.13\">65</text>\n",
       "</g>\n",
       "<g clip-path=\"url(#clip330)\">\n",
       "<text style=\"fill:#008000; fill-opacity:1; font-family:Courier,Courier New,Lucida Sans Typewriter,Lucida Typewriter,monospace; font-size:74px; text-anchor:middle;\" transform=\"rotate(0, 1621.41, 1135.76)\" x=\"1621.41\" y=\"1135.76\">66</text>\n",
       "</g>\n",
       "<g clip-path=\"url(#clip330)\">\n",
       "<text style=\"fill:#008000; fill-opacity:1; font-family:Courier,Courier New,Lucida Sans Typewriter,Lucida Typewriter,monospace; font-size:74px; text-anchor:middle;\" transform=\"rotate(0, 1621.41, 999.386)\" x=\"1621.41\" y=\"999.386\">67</text>\n",
       "</g>\n",
       "<g clip-path=\"url(#clip330)\">\n",
       "<text style=\"fill:#008000; fill-opacity:1; font-family:Courier,Courier New,Lucida Sans Typewriter,Lucida Typewriter,monospace; font-size:74px; text-anchor:middle;\" transform=\"rotate(0, 1621.41, 863.013)\" x=\"1621.41\" y=\"863.013\">68</text>\n",
       "</g>\n",
       "<g clip-path=\"url(#clip330)\">\n",
       "<text style=\"fill:#008000; fill-opacity:1; font-family:Courier,Courier New,Lucida Sans Typewriter,Lucida Typewriter,monospace; font-size:74px; text-anchor:middle;\" transform=\"rotate(0, 1621.41, 726.639)\" x=\"1621.41\" y=\"726.639\">69</text>\n",
       "</g>\n",
       "<g clip-path=\"url(#clip330)\">\n",
       "<text style=\"fill:#008000; fill-opacity:1; font-family:Courier,Courier New,Lucida Sans Typewriter,Lucida Typewriter,monospace; font-size:74px; text-anchor:middle;\" transform=\"rotate(0, 1621.41, 590.266)\" x=\"1621.41\" y=\"590.266\">70</text>\n",
       "</g>\n",
       "<g clip-path=\"url(#clip330)\">\n",
       "<text style=\"fill:#008000; fill-opacity:1; font-family:Courier,Courier New,Lucida Sans Typewriter,Lucida Typewriter,monospace; font-size:74px; text-anchor:middle;\" transform=\"rotate(0, 1621.41, 453.893)\" x=\"1621.41\" y=\"453.893\">71</text>\n",
       "</g>\n",
       "<g clip-path=\"url(#clip330)\">\n",
       "<text style=\"fill:#008000; fill-opacity:1; font-family:Courier,Courier New,Lucida Sans Typewriter,Lucida Typewriter,monospace; font-size:74px; text-anchor:middle;\" transform=\"rotate(0, 1621.41, 317.52)\" x=\"1621.41\" y=\"317.52\">72</text>\n",
       "</g>\n",
       "<g clip-path=\"url(#clip330)\">\n",
       "<text style=\"fill:#008000; fill-opacity:1; font-family:Courier,Courier New,Lucida Sans Typewriter,Lucida Typewriter,monospace; font-size:74px; text-anchor:middle;\" transform=\"rotate(0, 1757.78, 1272.13)\" x=\"1757.78\" y=\"1272.13\">73</text>\n",
       "</g>\n",
       "<g clip-path=\"url(#clip330)\">\n",
       "<text style=\"fill:#008000; fill-opacity:1; font-family:Courier,Courier New,Lucida Sans Typewriter,Lucida Typewriter,monospace; font-size:74px; text-anchor:middle;\" transform=\"rotate(0, 1757.78, 1135.76)\" x=\"1757.78\" y=\"1135.76\">74</text>\n",
       "</g>\n",
       "<g clip-path=\"url(#clip330)\">\n",
       "<text style=\"fill:#008000; fill-opacity:1; font-family:Courier,Courier New,Lucida Sans Typewriter,Lucida Typewriter,monospace; font-size:74px; text-anchor:middle;\" transform=\"rotate(0, 1757.78, 999.386)\" x=\"1757.78\" y=\"999.386\">75</text>\n",
       "</g>\n",
       "<g clip-path=\"url(#clip330)\">\n",
       "<text style=\"fill:#008000; fill-opacity:1; font-family:Courier,Courier New,Lucida Sans Typewriter,Lucida Typewriter,monospace; font-size:74px; text-anchor:middle;\" transform=\"rotate(0, 1757.78, 863.013)\" x=\"1757.78\" y=\"863.013\">76</text>\n",
       "</g>\n",
       "<g clip-path=\"url(#clip330)\">\n",
       "<text style=\"fill:#008000; fill-opacity:1; font-family:Courier,Courier New,Lucida Sans Typewriter,Lucida Typewriter,monospace; font-size:74px; text-anchor:middle;\" transform=\"rotate(0, 1757.78, 726.639)\" x=\"1757.78\" y=\"726.639\">77</text>\n",
       "</g>\n",
       "<g clip-path=\"url(#clip330)\">\n",
       "<text style=\"fill:#008000; fill-opacity:1; font-family:Courier,Courier New,Lucida Sans Typewriter,Lucida Typewriter,monospace; font-size:74px; text-anchor:middle;\" transform=\"rotate(0, 1757.78, 590.266)\" x=\"1757.78\" y=\"590.266\">78</text>\n",
       "</g>\n",
       "<g clip-path=\"url(#clip330)\">\n",
       "<text style=\"fill:#008000; fill-opacity:1; font-family:Courier,Courier New,Lucida Sans Typewriter,Lucida Typewriter,monospace; font-size:74px; text-anchor:middle;\" transform=\"rotate(0, 1757.78, 453.893)\" x=\"1757.78\" y=\"453.893\">79</text>\n",
       "</g>\n",
       "<g clip-path=\"url(#clip330)\">\n",
       "<text style=\"fill:#008000; fill-opacity:1; font-family:Courier,Courier New,Lucida Sans Typewriter,Lucida Typewriter,monospace; font-size:74px; text-anchor:middle;\" transform=\"rotate(0, 1757.78, 317.52)\" x=\"1757.78\" y=\"317.52\">80</text>\n",
       "</g>\n",
       "</svg>\n"
      ]
     },
     "metadata": {},
     "output_type": "display_data"
    }
   ],
   "source": [
    "heatmap(reshape(get_density_profiles(NM_MB_Array_Storage, r_hubbard_states, index_eig_states), Nx, Ny),xlabel=\"y\", ylabel=\"x\", title=\"Psi=$(index_eig_states)\")\n",
    "\n",
    "# koordinatları 0 yerine 1'den başlatırsak heatmap ile uyumlu olur (.+1 operasyonu)\n",
    "x_coordinates = square_lattice(Nx,Ny)[2][:,1] .+1 \n",
    "y_coordinates = square_lattice(Nx,Ny)[2][:,2] .+1\n",
    "scatter!(y_coordinates,x_coordinates,label=false, aspect_ratio=1, showaxis = false, grid=false, markersize=3, c=:black)\n",
    "\n",
    "xx_coordinates = square_lattice(Nx,Ny)[2][:,1]\n",
    "yy_coordinates = square_lattice(Nx,Ny)[2][:,2]\n",
    "\n",
    "center_x = y_coordinates[imp_site]; center_y = x_coordinates[imp_site]; radius = 2;\n",
    "for i in 1:N\n",
    "    p = annotate!(y_coordinates[i], x_coordinates[i], text(\"$i\", :Courier, 10,:green), :color)    \n",
    "end\n",
    "\n",
    "function circle_shape(h,k,r)\n",
    "    beta = LinRange(0, 2*pi, 500)\n",
    "    h .+ r*sin.(beta), k .+ r*cos.(beta)\n",
    "end\n",
    "\n",
    "plot!(circle_shape(center_x,center_y,radius), seriestype=[:shape], lw=0.5, c=:white, linecolor= :white, legend=false, fillalpha=0.2)\n",
    "\n",
    "display(p)"
   ]
  },
  {
   "cell_type": "code",
   "execution_count": 240,
   "id": "1e9646b5-8681-40b7-8f80-a3b7129cdec6",
   "metadata": {
    "tags": []
   },
   "outputs": [
    {
     "data": {
      "text/plain": [
       "0.00989125417581756"
      ]
     },
     "execution_count": 240,
     "metadata": {},
     "output_type": "execute_result"
    }
   ],
   "source": [
    "collect(Iterators.flatten((avg_density)))[36]"
   ]
  },
  {
   "cell_type": "code",
   "execution_count": 241,
   "id": "94e4558e-3a93-4f8e-ba7d-5685aa925f0c",
   "metadata": {
    "tags": []
   },
   "outputs": [
    {
     "data": {
      "text/plain": [
       "7.725446280279761e-7"
      ]
     },
     "execution_count": 241,
     "metadata": {},
     "output_type": "execute_result"
    }
   ],
   "source": [
    "collect(Iterators.flatten((avg_density)))[44]"
   ]
  },
  {
   "cell_type": "code",
   "execution_count": 242,
   "id": "c9733afb-a9a1-4c3e-aa87-f2a2f8b95448",
   "metadata": {
    "tags": []
   },
   "outputs": [
    {
     "data": {
      "text/plain": [
       "7.725446280279761e-7"
      ]
     },
     "execution_count": 242,
     "metadata": {},
     "output_type": "execute_result"
    }
   ],
   "source": [
    "minimum(avg_density)"
   ]
  },
  {
   "cell_type": "code",
   "execution_count": 250,
   "id": "8a425726-1485-4d95-b1c8-11dd090d076c",
   "metadata": {
    "tags": []
   },
   "outputs": [
    {
     "data": {
      "text/plain": [
       "9-element Vector{Any}:\n",
       " 35\n",
       " 36\n",
       " 37\n",
       " 43\n",
       " 44\n",
       " 45\n",
       " 51\n",
       " 52\n",
       " 53"
      ]
     },
     "execution_count": 250,
     "metadata": {},
     "output_type": "execute_result"
    }
   ],
   "source": [
    "# Hangi site'lar yarı-çapı verilmiş daire içerisinde kontrol et\n",
    "function get_inner_sites(radius)\n",
    "    inner_sites = []\n",
    "    for i in 1:N\n",
    "        if (x_coordinates[i] - center_y)^2 + (y_coordinates[i] - center_x)^2 < radius^2\n",
    "            push!(inner_sites, i)\n",
    "        end\n",
    "    end\n",
    "    return inner_sites\n",
    "end\n",
    "get_inner_sites(radius)"
   ]
  },
  {
   "cell_type": "markdown",
   "id": "f41f7750-364e-46bf-924c-afd0554bb287",
   "metadata": {},
   "source": [
    "# Interpolation"
   ]
  },
  {
   "cell_type": "code",
   "execution_count": 154,
   "id": "71f20b1d-0f39-4f53-9d09-46340669996b",
   "metadata": {
    "tags": []
   },
   "outputs": [
    {
     "data": {
      "image/png": "[encoded data removed]"
     },
     "execution_count": 154,
     "metadata": {},
     "output_type": "execute_result"
    }
   ],
   "source": [
    "using CairoMakie\n",
    "\n",
    "fig = Figure()\n",
    "ax = Axis(fig[1,1], title=\"Average Density (Ground Degeneracy=$(Degeneracy))\", xlabel=\"X\", ylabel=\"Y\");\n",
    "\n",
    "hm = CairoMakie.heatmap!(avg_density|>transpose, interpolate=true)\n",
    "Colorbar(fig[1, 2], hm)\n",
    "\n",
    "x_coordinates = square_lattice(Nx,Ny)[2][:,1] .+ 1\n",
    "y_coordinates = square_lattice(Nx,Ny)[2][:,2] .+ 1\n",
    "CairoMakie.scatter!(y_coordinates, x_coordinates, color=:black, markersize=5)\n",
    "\n",
    "center_x = y_coordinates[imp_site]; center_y = x_coordinates[imp_site]\n",
    "CairoMakie.scatter!([center_x], [center_y], color=:red, markersize=10, marker =:star5)\n",
    "\n",
    "fig"
   ]
  },
  {
   "cell_type": "markdown",
   "id": "e6020113-9ce9-4cc8-b3a9-f21b90c05e3f",
   "metadata": {},
   "source": [
    "# $ Q_{\\rho}$"
   ]
  },
  {
   "cell_type": "markdown",
   "id": "07144b2b-cd05-49b1-a07c-8526f5cca214",
   "metadata": {},
   "source": [
    "<font size=\"4\">\n",
    "$Q_{\\rho} = \\sum_i \\left(<n_i>_{V=0}-<n_i>_{V \\neq 0} \\right)$\n",
    "</font>"
   ]
  },
  {
   "cell_type": "code",
   "execution_count": 253,
   "id": "7dfdb6e9-09fd-4a75-8053-97bf9867b7a4",
   "metadata": {
    "tags": []
   },
   "outputs": [
    {
     "data": {
      "text/plain": [
       "5-element Vector{Any}:\n",
       " 36\n",
       " 43\n",
       " 44\n",
       " 45\n",
       " 52"
      ]
     },
     "execution_count": 253,
     "metadata": {},
     "output_type": "execute_result"
    }
   ],
   "source": [
    "get_inner_sites(1+0.01)"
   ]
  },
  {
   "cell_type": "code",
   "execution_count": 245,
   "id": "5392d0d4-89b5-4f12-9eab-bf581fe87a2e",
   "metadata": {
    "tags": []
   },
   "outputs": [
    {
     "data": {
      "text/plain": [
       "0.3341426192095261"
      ]
     },
     "execution_count": 245,
     "metadata": {},
     "output_type": "execute_result"
    }
   ],
   "source": [
    "Q_rhoo = 0\n",
    "radiuss = 2+0.01\n",
    "for i in get_inner_sites(radiuss)\n",
    "     Q_rhoo += collect(Iterators.flatten((3/70 .- avg_density)))[i]\n",
    "end\n",
    "Q_rhoo"
   ]
  },
  {
   "cell_type": "code",
   "execution_count": 246,
   "id": "e49e8faa-0f20-447f-839c-05fc759790ad",
   "metadata": {
    "tags": []
   },
   "outputs": [
    {
     "name": "stdout",
     "output_type": "stream",
     "text": [
      "Radius=2.01 => Q_rho= 0.2751006349796604"
     ]
    }
   ],
   "source": [
    "Q_rho = 0\n",
    "radius = 2+0.01\n",
    "for i in [35, 36, 37, 26, 46, 25, 27, 45, 47] #Bunlar hangi merkezli siteler ? ANLAMADIM!\n",
    "    Q_rho += collect(Iterators.flatten((3/70 .- avg_density|>transpose)))[i]\n",
    "    #3/70 => Latiste sadece 1 quasi boştayken\n",
    "end\n",
    "print(\"Radius=$(radius) => Q_rho= \",Q_rho)"
   ]
  },
  {
   "cell_type": "code",
   "execution_count": 183,
   "id": "2e5286d7-edaa-4b60-a507-563ac899c7c4",
   "metadata": {
    "tags": []
   },
   "outputs": [
    {
     "data": {
      "text/plain": [
       "7.725446280279761e-7"
      ]
     },
     "execution_count": 183,
     "metadata": {},
     "output_type": "execute_result"
    }
   ],
   "source": [
    "collect(Iterators.flatten((avg_density|>transpose)))[36]"
   ]
  },
  {
   "cell_type": "code",
   "execution_count": 204,
   "id": "9318f183-2dec-4bba-aba9-78444a1abb97",
   "metadata": {
    "tags": []
   },
   "outputs": [
    {
     "data": {
      "text/plain": [
       "8×10 Matrix{Float64}:\n",
       " 0.0430381  0.0432735  0.0436517  …  0.0432998  0.0436517  0.0432735\n",
       " 0.0434487  0.0436019  0.0429855     0.0392661  0.0429855  0.0436019\n",
       " 0.0437731  0.0436166  0.0410937     0.0321119  0.0410937  0.0436166\n",
       " 0.0438066  0.043443   0.0398201     0.0280332  0.0398201  0.043443\n",
       " 0.0437731  0.0436166  0.0410937     0.0321119  0.0410937  0.0436166\n",
       " 0.0434487  0.0436019  0.0429855  …  0.0392661  0.0429855  0.0436019\n",
       " 0.0430381  0.0432735  0.0436517     0.0432998  0.0436517  0.0432735\n",
       " 0.0428547  0.0430687  0.0436346     0.044193   0.0436346  0.0430687"
      ]
     },
     "execution_count": 204,
     "metadata": {},
     "output_type": "execute_result"
    }
   ],
   "source": [
    "avg_density"
   ]
  },
  {
   "cell_type": "code",
   "execution_count": 254,
   "id": "07e3d2e1-8234-4071-900a-d4b264601599",
   "metadata": {
    "tags": []
   },
   "outputs": [
    {
     "data": {
      "image/svg+xml": [
       "<?xml version=\"1.0\" encoding=\"utf-8\"?>\n",
       "<svg xmlns=\"http://www.w3.org/2000/svg\" xmlns:xlink=\"http://www.w3.org/1999/xlink\" width=\"600\" height=\"400\" viewBox=\"0 0 2400 1600\">\n",
       "<defs>\n",
       "  <clipPath id=\"clip450\">\n",
       "    <rect x=\"0\" y=\"0\" width=\"2400\" height=\"1600\"/>\n",
       "  </clipPath>\n",
       "</defs>\n",
       "<path clip-path=\"url(#clip450)\" d=\"M0 1600 L2400 1600 L2400 0 L0 0  Z\" fill=\"#ffffff\" fill-rule=\"evenodd\" fill-opacity=\"1\"/>\n",
       "<defs>\n",
       "  <clipPath id=\"clip451\">\n",
       "    <rect x=\"480\" y=\"0\" width=\"1681\" height=\"1600\"/>\n",
       "  </clipPath>\n",
       "</defs>\n",
       "<path clip-path=\"url(#clip450)\" d=\"M112.177 1486.45 L2352.76 1486.45 L2352.76 47.2441 L112.177 47.2441  Z\" fill=\"#ffffff\" fill-rule=\"evenodd\" fill-opacity=\"1\"/>\n",
       "<defs>\n",
       "  <clipPath id=\"clip452\">\n",
       "    <rect x=\"112\" y=\"47\" width=\"2242\" height=\"1440\"/>\n",
       "  </clipPath>\n",
       "</defs>\n",
       "<polyline clip-path=\"url(#clip452)\" style=\"stroke:#000000; stroke-linecap:round; stroke-linejoin:round; stroke-width:2; stroke-opacity:0.1; fill:none\" points=\"175.59,1486.45 175.59,47.2441 \"/>\n",
       "<polyline clip-path=\"url(#clip452)\" style=\"stroke:#000000; stroke-linecap:round; stroke-linejoin:round; stroke-width:2; stroke-opacity:0.1; fill:none\" points=\"645.313,1486.45 645.313,47.2441 \"/>\n",
       "<polyline clip-path=\"url(#clip452)\" style=\"stroke:#000000; stroke-linecap:round; stroke-linejoin:round; stroke-width:2; stroke-opacity:0.1; fill:none\" points=\"1115.04,1486.45 1115.04,47.2441 \"/>\n",
       "<polyline clip-path=\"url(#clip452)\" style=\"stroke:#000000; stroke-linecap:round; stroke-linejoin:round; stroke-width:2; stroke-opacity:0.1; fill:none\" points=\"1584.76,1486.45 1584.76,47.2441 \"/>\n",
       "<polyline clip-path=\"url(#clip452)\" style=\"stroke:#000000; stroke-linecap:round; stroke-linejoin:round; stroke-width:2; stroke-opacity:0.1; fill:none\" points=\"2054.48,1486.45 2054.48,47.2441 \"/>\n",
       "<polyline clip-path=\"url(#clip450)\" style=\"stroke:#000000; stroke-linecap:round; stroke-linejoin:round; stroke-width:4; stroke-opacity:1; fill:none\" points=\"112.177,1486.45 2352.76,1486.45 \"/>\n",
       "<polyline clip-path=\"url(#clip450)\" style=\"stroke:#000000; stroke-linecap:round; stroke-linejoin:round; stroke-width:4; stroke-opacity:1; fill:none\" points=\"175.59,1486.45 175.59,1467.55 \"/>\n",
       "<polyline clip-path=\"url(#clip450)\" style=\"stroke:#000000; stroke-linecap:round; stroke-linejoin:round; stroke-width:4; stroke-opacity:1; fill:none\" points=\"645.313,1486.45 645.313,1467.55 \"/>\n",
       "<polyline clip-path=\"url(#clip450)\" style=\"stroke:#000000; stroke-linecap:round; stroke-linejoin:round; stroke-width:4; stroke-opacity:1; fill:none\" points=\"1115.04,1486.45 1115.04,1467.55 \"/>\n",
       "<polyline clip-path=\"url(#clip450)\" style=\"stroke:#000000; stroke-linecap:round; stroke-linejoin:round; stroke-width:4; stroke-opacity:1; fill:none\" points=\"1584.76,1486.45 1584.76,1467.55 \"/>\n",
       "<polyline clip-path=\"url(#clip450)\" style=\"stroke:#000000; stroke-linecap:round; stroke-linejoin:round; stroke-width:4; stroke-opacity:1; fill:none\" points=\"2054.48,1486.45 2054.48,1467.55 \"/>\n",
       "<path clip-path=\"url(#clip450)\" d=\"M175.59 1517.37 Q171.979 1517.37 170.15 1520.93 Q168.344 1524.47 168.344 1531.6 Q168.344 1538.71 170.15 1542.27 Q171.979 1545.82 175.59 1545.82 Q179.224 1545.82 181.03 1542.27 Q182.858 1538.71 182.858 1531.6 Q182.858 1524.47 181.03 1520.93 Q179.224 1517.37 175.59 1517.37 M175.59 1513.66 Q181.4 1513.66 184.455 1518.27 Q187.534 1522.85 187.534 1531.6 Q187.534 1540.33 184.455 1544.94 Q181.4 1549.52 175.59 1549.52 Q169.78 1549.52 166.701 1544.94 Q163.645 1540.33 163.645 1531.6 Q163.645 1522.85 166.701 1518.27 Q169.78 1513.66 175.59 1513.66 Z\" fill=\"#000000\" fill-rule=\"nonzero\" fill-opacity=\"1\" /><path clip-path=\"url(#clip450)\" d=\"M639.966 1544.91 L656.285 1544.91 L656.285 1548.85 L634.341 1548.85 L634.341 1544.91 Q637.003 1542.16 641.586 1537.53 Q646.192 1532.88 647.373 1531.53 Q649.618 1529.01 650.498 1527.27 Q651.401 1525.51 651.401 1523.82 Q651.401 1521.07 649.456 1519.33 Q647.535 1517.6 644.433 1517.6 Q642.234 1517.6 639.78 1518.36 Q637.35 1519.13 634.572 1520.68 L634.572 1515.95 Q637.396 1514.82 639.85 1514.24 Q642.304 1513.66 644.341 1513.66 Q649.711 1513.66 652.905 1516.35 Q656.1 1519.03 656.1 1523.52 Q656.1 1525.65 655.29 1527.57 Q654.503 1529.47 652.396 1532.07 Q651.817 1532.74 648.716 1535.95 Q645.614 1539.15 639.966 1544.91 Z\" fill=\"#000000\" fill-rule=\"nonzero\" fill-opacity=\"1\" /><path clip-path=\"url(#clip450)\" d=\"M1118.05 1518.36 L1106.24 1536.81 L1118.05 1536.81 L1118.05 1518.36 M1116.82 1514.29 L1122.7 1514.29 L1122.7 1536.81 L1127.63 1536.81 L1127.63 1540.7 L1122.7 1540.7 L1122.7 1548.85 L1118.05 1548.85 L1118.05 1540.7 L1102.44 1540.7 L1102.44 1536.19 L1116.82 1514.29 Z\" fill=\"#000000\" fill-rule=\"nonzero\" fill-opacity=\"1\" /><path clip-path=\"url(#clip450)\" d=\"M1585.16 1529.7 Q1582.02 1529.7 1580.16 1531.86 Q1578.34 1534.01 1578.34 1537.76 Q1578.34 1541.49 1580.16 1543.66 Q1582.02 1545.82 1585.16 1545.82 Q1588.31 1545.82 1590.14 1543.66 Q1591.99 1541.49 1591.99 1537.76 Q1591.99 1534.01 1590.14 1531.86 Q1588.31 1529.7 1585.16 1529.7 M1594.45 1515.05 L1594.45 1519.31 Q1592.69 1518.48 1590.88 1518.04 Q1589.1 1517.6 1587.34 1517.6 Q1582.71 1517.6 1580.26 1520.72 Q1577.83 1523.85 1577.48 1530.17 Q1578.84 1528.15 1580.9 1527.09 Q1582.96 1526 1585.44 1526 Q1590.65 1526 1593.66 1529.17 Q1596.69 1532.32 1596.69 1537.76 Q1596.69 1543.08 1593.54 1546.3 Q1590.4 1549.52 1585.16 1549.52 Q1579.17 1549.52 1576 1544.94 Q1572.83 1540.33 1572.83 1531.6 Q1572.83 1523.41 1576.71 1518.55 Q1580.6 1513.66 1587.15 1513.66 Q1588.91 1513.66 1590.7 1514.01 Q1592.5 1514.36 1594.45 1515.05 Z\" fill=\"#000000\" fill-rule=\"nonzero\" fill-opacity=\"1\" /><path clip-path=\"url(#clip450)\" d=\"M2054.48 1532.44 Q2051.15 1532.44 2049.23 1534.22 Q2047.33 1536 2047.33 1539.13 Q2047.33 1542.25 2049.23 1544.03 Q2051.15 1545.82 2054.48 1545.82 Q2057.82 1545.82 2059.74 1544.03 Q2061.66 1542.23 2061.66 1539.13 Q2061.66 1536 2059.74 1534.22 Q2057.84 1532.44 2054.48 1532.44 M2049.81 1530.45 Q2046.8 1529.7 2045.11 1527.64 Q2043.44 1525.58 2043.44 1522.62 Q2043.44 1518.48 2046.38 1516.07 Q2049.34 1513.66 2054.48 1513.66 Q2059.64 1513.66 2062.58 1516.07 Q2065.52 1518.48 2065.52 1522.62 Q2065.52 1525.58 2063.83 1527.64 Q2062.17 1529.7 2059.18 1530.45 Q2062.56 1531.23 2064.44 1533.52 Q2066.33 1535.82 2066.33 1539.13 Q2066.33 1544.15 2063.25 1546.83 Q2060.2 1549.52 2054.48 1549.52 Q2048.76 1549.52 2045.69 1546.83 Q2042.63 1544.15 2042.63 1539.13 Q2042.63 1535.82 2044.53 1533.52 Q2046.43 1531.23 2049.81 1530.45 M2048.09 1523.06 Q2048.09 1525.75 2049.76 1527.25 Q2051.45 1528.76 2054.48 1528.76 Q2057.49 1528.76 2059.18 1527.25 Q2060.89 1525.75 2060.89 1523.06 Q2060.89 1520.38 2059.18 1518.87 Q2057.49 1517.37 2054.48 1517.37 Q2051.45 1517.37 2049.76 1518.87 Q2048.09 1520.38 2048.09 1523.06 Z\" fill=\"#000000\" fill-rule=\"nonzero\" fill-opacity=\"1\" /><polyline clip-path=\"url(#clip452)\" style=\"stroke:#000000; stroke-linecap:round; stroke-linejoin:round; stroke-width:2; stroke-opacity:0.1; fill:none\" points=\"112.177,1445.72 2352.76,1445.72 \"/>\n",
       "<polyline clip-path=\"url(#clip452)\" style=\"stroke:#000000; stroke-linecap:round; stroke-linejoin:round; stroke-width:2; stroke-opacity:0.1; fill:none\" points=\"112.177,1057.79 2352.76,1057.79 \"/>\n",
       "<polyline clip-path=\"url(#clip452)\" style=\"stroke:#000000; stroke-linecap:round; stroke-linejoin:round; stroke-width:2; stroke-opacity:0.1; fill:none\" points=\"112.177,669.865 2352.76,669.865 \"/>\n",
       "<polyline clip-path=\"url(#clip452)\" style=\"stroke:#000000; stroke-linecap:round; stroke-linejoin:round; stroke-width:2; stroke-opacity:0.1; fill:none\" points=\"112.177,281.939 2352.76,281.939 \"/>\n",
       "<polyline clip-path=\"url(#clip450)\" style=\"stroke:#000000; stroke-linecap:round; stroke-linejoin:round; stroke-width:4; stroke-opacity:1; fill:none\" points=\"112.177,1486.45 112.177,47.2441 \"/>\n",
       "<polyline clip-path=\"url(#clip450)\" style=\"stroke:#000000; stroke-linecap:round; stroke-linejoin:round; stroke-width:4; stroke-opacity:1; fill:none\" points=\"112.177,1445.72 131.075,1445.72 \"/>\n",
       "<polyline clip-path=\"url(#clip450)\" style=\"stroke:#000000; stroke-linecap:round; stroke-linejoin:round; stroke-width:4; stroke-opacity:1; fill:none\" points=\"112.177,1057.79 131.075,1057.79 \"/>\n",
       "<polyline clip-path=\"url(#clip450)\" style=\"stroke:#000000; stroke-linecap:round; stroke-linejoin:round; stroke-width:4; stroke-opacity:1; fill:none\" points=\"112.177,669.865 131.075,669.865 \"/>\n",
       "<polyline clip-path=\"url(#clip450)\" style=\"stroke:#000000; stroke-linecap:round; stroke-linejoin:round; stroke-width:4; stroke-opacity:1; fill:none\" points=\"112.177,281.939 131.075,281.939 \"/>\n",
       "<path clip-path=\"url(#clip450)\" d=\"M64.2328 1431.51 Q60.6217 1431.51 58.793 1435.08 Q56.9875 1438.62 56.9875 1445.75 Q56.9875 1452.86 58.793 1456.42 Q60.6217 1459.96 64.2328 1459.96 Q67.867 1459.96 69.6726 1456.42 Q71.5013 1452.86 71.5013 1445.75 Q71.5013 1438.62 69.6726 1435.08 Q67.867 1431.51 64.2328 1431.51 M64.2328 1427.81 Q70.0429 1427.81 73.0985 1432.42 Q76.1772 1437 76.1772 1445.75 Q76.1772 1454.48 73.0985 1459.08 Q70.0429 1463.67 64.2328 1463.67 Q58.4226 1463.67 55.344 1459.08 Q52.2884 1454.48 52.2884 1445.75 Q52.2884 1437 55.344 1432.42 Q58.4226 1427.81 64.2328 1427.81 Z\" fill=\"#000000\" fill-rule=\"nonzero\" fill-opacity=\"1\" /><path clip-path=\"url(#clip450)\" d=\"M59.8578 1071.13 L76.1772 1071.13 L76.1772 1075.07 L54.2328 1075.07 L54.2328 1071.13 Q56.8949 1068.38 61.4782 1063.75 Q66.0846 1059.1 67.2652 1057.76 Q69.5105 1055.23 70.3902 1053.5 Q71.2929 1051.74 71.2929 1050.05 Q71.2929 1047.29 69.3485 1045.56 Q67.4272 1043.82 64.3254 1043.82 Q62.1263 1043.82 59.6726 1044.58 Q57.2421 1045.35 54.4643 1046.9 L54.4643 1042.18 Q57.2884 1041.04 59.7421 1040.46 Q62.1958 1039.89 64.2328 1039.89 Q69.6031 1039.89 72.7976 1042.57 Q75.992 1045.26 75.992 1049.75 Q75.992 1051.88 75.1818 1053.8 Q74.3948 1055.7 72.2883 1058.29 Q71.7096 1058.96 68.6078 1062.18 Q65.5059 1065.37 59.8578 1071.13 Z\" fill=\"#000000\" fill-rule=\"nonzero\" fill-opacity=\"1\" /><path clip-path=\"url(#clip450)\" d=\"M66.5939 656.659 L54.7884 675.108 L66.5939 675.108 L66.5939 656.659 M65.367 652.585 L71.2466 652.585 L71.2466 675.108 L76.1772 675.108 L76.1772 678.996 L71.2466 678.996 L71.2466 687.145 L66.5939 687.145 L66.5939 678.996 L50.9921 678.996 L50.9921 674.483 L65.367 652.585 Z\" fill=\"#000000\" fill-rule=\"nonzero\" fill-opacity=\"1\" /><path clip-path=\"url(#clip450)\" d=\"M64.6495 280.076 Q61.5013 280.076 59.6495 282.228 Q57.8208 284.381 57.8208 288.131 Q57.8208 291.858 59.6495 294.034 Q61.5013 296.187 64.6495 296.187 Q67.7976 296.187 69.6263 294.034 Q71.4781 291.858 71.4781 288.131 Q71.4781 284.381 69.6263 282.228 Q67.7976 280.076 64.6495 280.076 M73.9318 265.423 L73.9318 269.682 Q72.1726 268.849 70.367 268.409 Q68.5846 267.969 66.8254 267.969 Q62.1958 267.969 59.7421 271.094 Q57.3115 274.219 56.9643 280.539 Q58.33 278.525 60.3902 277.46 Q62.4504 276.372 64.9272 276.372 Q70.1355 276.372 73.1448 279.543 Q76.1772 282.691 76.1772 288.131 Q76.1772 293.455 73.029 296.673 Q69.8809 299.89 64.6495 299.89 Q58.6541 299.89 55.4828 295.307 Q52.3116 290.701 52.3116 281.974 Q52.3116 273.779 56.2004 268.918 Q60.0893 264.034 66.6402 264.034 Q68.3994 264.034 70.1818 264.381 Q71.9874 264.728 73.9318 265.423 Z\" fill=\"#000000\" fill-rule=\"nonzero\" fill-opacity=\"1\" /><circle clip-path=\"url(#clip452)\" cx=\"175.59\" cy=\"1445.72\" r=\"14.4\" fill=\"#009af9\" fill-rule=\"evenodd\" fill-opacity=\"1\" stroke=\"#000000\" stroke-opacity=\"1\" stroke-width=\"3.2\"/>\n",
       "<circle clip-path=\"url(#clip452)\" cx=\"175.59\" cy=\"1251.75\" r=\"14.4\" fill=\"#009af9\" fill-rule=\"evenodd\" fill-opacity=\"1\" stroke=\"#000000\" stroke-opacity=\"1\" stroke-width=\"3.2\"/>\n",
       "<circle clip-path=\"url(#clip452)\" cx=\"175.59\" cy=\"1057.79\" r=\"14.4\" fill=\"#009af9\" fill-rule=\"evenodd\" fill-opacity=\"1\" stroke=\"#000000\" stroke-opacity=\"1\" stroke-width=\"3.2\"/>\n",
       "<circle clip-path=\"url(#clip452)\" cx=\"175.59\" cy=\"863.827\" r=\"14.4\" fill=\"#009af9\" fill-rule=\"evenodd\" fill-opacity=\"1\" stroke=\"#000000\" stroke-opacity=\"1\" stroke-width=\"3.2\"/>\n",
       "<circle clip-path=\"url(#clip452)\" cx=\"175.59\" cy=\"669.865\" r=\"14.4\" fill=\"#009af9\" fill-rule=\"evenodd\" fill-opacity=\"1\" stroke=\"#000000\" stroke-opacity=\"1\" stroke-width=\"3.2\"/>\n",
       "<circle clip-path=\"url(#clip452)\" cx=\"175.59\" cy=\"475.902\" r=\"14.4\" fill=\"#009af9\" fill-rule=\"evenodd\" fill-opacity=\"1\" stroke=\"#000000\" stroke-opacity=\"1\" stroke-width=\"3.2\"/>\n",
       "<circle clip-path=\"url(#clip452)\" cx=\"175.59\" cy=\"281.939\" r=\"14.4\" fill=\"#009af9\" fill-rule=\"evenodd\" fill-opacity=\"1\" stroke=\"#000000\" stroke-opacity=\"1\" stroke-width=\"3.2\"/>\n",
       "<circle clip-path=\"url(#clip452)\" cx=\"175.59\" cy=\"87.9763\" r=\"14.4\" fill=\"#009af9\" fill-rule=\"evenodd\" fill-opacity=\"1\" stroke=\"#000000\" stroke-opacity=\"1\" stroke-width=\"3.2\"/>\n",
       "<circle clip-path=\"url(#clip452)\" cx=\"410.451\" cy=\"1445.72\" r=\"14.4\" fill=\"#009af9\" fill-rule=\"evenodd\" fill-opacity=\"1\" stroke=\"#000000\" stroke-opacity=\"1\" stroke-width=\"3.2\"/>\n",
       "<circle clip-path=\"url(#clip452)\" cx=\"410.451\" cy=\"1251.75\" r=\"14.4\" fill=\"#009af9\" fill-rule=\"evenodd\" fill-opacity=\"1\" stroke=\"#000000\" stroke-opacity=\"1\" stroke-width=\"3.2\"/>\n",
       "<circle clip-path=\"url(#clip452)\" cx=\"410.451\" cy=\"1057.79\" r=\"14.4\" fill=\"#009af9\" fill-rule=\"evenodd\" fill-opacity=\"1\" stroke=\"#000000\" stroke-opacity=\"1\" stroke-width=\"3.2\"/>\n",
       "<circle clip-path=\"url(#clip452)\" cx=\"410.451\" cy=\"863.827\" r=\"14.4\" fill=\"#009af9\" fill-rule=\"evenodd\" fill-opacity=\"1\" stroke=\"#000000\" stroke-opacity=\"1\" stroke-width=\"3.2\"/>\n",
       "<circle clip-path=\"url(#clip452)\" cx=\"410.451\" cy=\"669.865\" r=\"14.4\" fill=\"#009af9\" fill-rule=\"evenodd\" fill-opacity=\"1\" stroke=\"#000000\" stroke-opacity=\"1\" stroke-width=\"3.2\"/>\n",
       "<circle clip-path=\"url(#clip452)\" cx=\"410.451\" cy=\"475.902\" r=\"14.4\" fill=\"#009af9\" fill-rule=\"evenodd\" fill-opacity=\"1\" stroke=\"#000000\" stroke-opacity=\"1\" stroke-width=\"3.2\"/>\n",
       "<circle clip-path=\"url(#clip452)\" cx=\"410.451\" cy=\"281.939\" r=\"14.4\" fill=\"#009af9\" fill-rule=\"evenodd\" fill-opacity=\"1\" stroke=\"#000000\" stroke-opacity=\"1\" stroke-width=\"3.2\"/>\n",
       "<circle clip-path=\"url(#clip452)\" cx=\"410.451\" cy=\"87.9763\" r=\"14.4\" fill=\"#009af9\" fill-rule=\"evenodd\" fill-opacity=\"1\" stroke=\"#000000\" stroke-opacity=\"1\" stroke-width=\"3.2\"/>\n",
       "<circle clip-path=\"url(#clip452)\" cx=\"645.313\" cy=\"1445.72\" r=\"14.4\" fill=\"#009af9\" fill-rule=\"evenodd\" fill-opacity=\"1\" stroke=\"#000000\" stroke-opacity=\"1\" stroke-width=\"3.2\"/>\n",
       "<circle clip-path=\"url(#clip452)\" cx=\"645.313\" cy=\"1251.75\" r=\"14.4\" fill=\"#009af9\" fill-rule=\"evenodd\" fill-opacity=\"1\" stroke=\"#000000\" stroke-opacity=\"1\" stroke-width=\"3.2\"/>\n",
       "<circle clip-path=\"url(#clip452)\" cx=\"645.313\" cy=\"1057.79\" r=\"14.4\" fill=\"#009af9\" fill-rule=\"evenodd\" fill-opacity=\"1\" stroke=\"#000000\" stroke-opacity=\"1\" stroke-width=\"3.2\"/>\n",
       "<circle clip-path=\"url(#clip452)\" cx=\"645.313\" cy=\"863.827\" r=\"14.4\" fill=\"#009af9\" fill-rule=\"evenodd\" fill-opacity=\"1\" stroke=\"#000000\" stroke-opacity=\"1\" stroke-width=\"3.2\"/>\n",
       "<circle clip-path=\"url(#clip452)\" cx=\"645.313\" cy=\"669.865\" r=\"14.4\" fill=\"#009af9\" fill-rule=\"evenodd\" fill-opacity=\"1\" stroke=\"#000000\" stroke-opacity=\"1\" stroke-width=\"3.2\"/>\n",
       "<circle clip-path=\"url(#clip452)\" cx=\"645.313\" cy=\"475.902\" r=\"14.4\" fill=\"#009af9\" fill-rule=\"evenodd\" fill-opacity=\"1\" stroke=\"#000000\" stroke-opacity=\"1\" stroke-width=\"3.2\"/>\n",
       "<circle clip-path=\"url(#clip452)\" cx=\"645.313\" cy=\"281.939\" r=\"14.4\" fill=\"#009af9\" fill-rule=\"evenodd\" fill-opacity=\"1\" stroke=\"#000000\" stroke-opacity=\"1\" stroke-width=\"3.2\"/>\n",
       "<circle clip-path=\"url(#clip452)\" cx=\"645.313\" cy=\"87.9763\" r=\"14.4\" fill=\"#009af9\" fill-rule=\"evenodd\" fill-opacity=\"1\" stroke=\"#000000\" stroke-opacity=\"1\" stroke-width=\"3.2\"/>\n",
       "<circle clip-path=\"url(#clip452)\" cx=\"880.174\" cy=\"1445.72\" r=\"14.4\" fill=\"#009af9\" fill-rule=\"evenodd\" fill-opacity=\"1\" stroke=\"#000000\" stroke-opacity=\"1\" stroke-width=\"3.2\"/>\n",
       "<circle clip-path=\"url(#clip452)\" cx=\"880.174\" cy=\"1251.75\" r=\"14.4\" fill=\"#009af9\" fill-rule=\"evenodd\" fill-opacity=\"1\" stroke=\"#000000\" stroke-opacity=\"1\" stroke-width=\"3.2\"/>\n",
       "<circle clip-path=\"url(#clip452)\" cx=\"880.174\" cy=\"1057.79\" r=\"14.4\" fill=\"#009af9\" fill-rule=\"evenodd\" fill-opacity=\"1\" stroke=\"#000000\" stroke-opacity=\"1\" stroke-width=\"3.2\"/>\n",
       "<circle clip-path=\"url(#clip452)\" cx=\"880.174\" cy=\"863.827\" r=\"14.4\" fill=\"#009af9\" fill-rule=\"evenodd\" fill-opacity=\"1\" stroke=\"#000000\" stroke-opacity=\"1\" stroke-width=\"3.2\"/>\n",
       "<circle clip-path=\"url(#clip452)\" cx=\"880.174\" cy=\"669.865\" r=\"14.4\" fill=\"#009af9\" fill-rule=\"evenodd\" fill-opacity=\"1\" stroke=\"#000000\" stroke-opacity=\"1\" stroke-width=\"3.2\"/>\n",
       "<circle clip-path=\"url(#clip452)\" cx=\"880.174\" cy=\"475.902\" r=\"14.4\" fill=\"#009af9\" fill-rule=\"evenodd\" fill-opacity=\"1\" stroke=\"#000000\" stroke-opacity=\"1\" stroke-width=\"3.2\"/>\n",
       "<circle clip-path=\"url(#clip452)\" cx=\"880.174\" cy=\"281.939\" r=\"14.4\" fill=\"#009af9\" fill-rule=\"evenodd\" fill-opacity=\"1\" stroke=\"#000000\" stroke-opacity=\"1\" stroke-width=\"3.2\"/>\n",
       "<circle clip-path=\"url(#clip452)\" cx=\"880.174\" cy=\"87.9763\" r=\"14.4\" fill=\"#009af9\" fill-rule=\"evenodd\" fill-opacity=\"1\" stroke=\"#000000\" stroke-opacity=\"1\" stroke-width=\"3.2\"/>\n",
       "<circle clip-path=\"url(#clip452)\" cx=\"1115.04\" cy=\"1445.72\" r=\"14.4\" fill=\"#009af9\" fill-rule=\"evenodd\" fill-opacity=\"1\" stroke=\"#000000\" stroke-opacity=\"1\" stroke-width=\"3.2\"/>\n",
       "<circle clip-path=\"url(#clip452)\" cx=\"1115.04\" cy=\"1251.75\" r=\"14.4\" fill=\"#009af9\" fill-rule=\"evenodd\" fill-opacity=\"1\" stroke=\"#000000\" stroke-opacity=\"1\" stroke-width=\"3.2\"/>\n",
       "<circle clip-path=\"url(#clip452)\" cx=\"1115.04\" cy=\"1057.79\" r=\"14.4\" fill=\"#009af9\" fill-rule=\"evenodd\" fill-opacity=\"1\" stroke=\"#000000\" stroke-opacity=\"1\" stroke-width=\"3.2\"/>\n",
       "<circle clip-path=\"url(#clip452)\" cx=\"1115.04\" cy=\"863.827\" r=\"14.4\" fill=\"#009af9\" fill-rule=\"evenodd\" fill-opacity=\"1\" stroke=\"#000000\" stroke-opacity=\"1\" stroke-width=\"3.2\"/>\n",
       "<circle clip-path=\"url(#clip452)\" cx=\"1115.04\" cy=\"669.865\" r=\"14.4\" fill=\"#009af9\" fill-rule=\"evenodd\" fill-opacity=\"1\" stroke=\"#000000\" stroke-opacity=\"1\" stroke-width=\"3.2\"/>\n",
       "<circle clip-path=\"url(#clip452)\" cx=\"1115.04\" cy=\"475.902\" r=\"14.4\" fill=\"#009af9\" fill-rule=\"evenodd\" fill-opacity=\"1\" stroke=\"#000000\" stroke-opacity=\"1\" stroke-width=\"3.2\"/>\n",
       "<circle clip-path=\"url(#clip452)\" cx=\"1115.04\" cy=\"281.939\" r=\"14.4\" fill=\"#009af9\" fill-rule=\"evenodd\" fill-opacity=\"1\" stroke=\"#000000\" stroke-opacity=\"1\" stroke-width=\"3.2\"/>\n",
       "<circle clip-path=\"url(#clip452)\" cx=\"1115.04\" cy=\"87.9763\" r=\"14.4\" fill=\"#009af9\" fill-rule=\"evenodd\" fill-opacity=\"1\" stroke=\"#000000\" stroke-opacity=\"1\" stroke-width=\"3.2\"/>\n",
       "<circle clip-path=\"url(#clip452)\" cx=\"1349.9\" cy=\"1445.72\" r=\"14.4\" fill=\"#009af9\" fill-rule=\"evenodd\" fill-opacity=\"1\" stroke=\"#000000\" stroke-opacity=\"1\" stroke-width=\"3.2\"/>\n",
       "<circle clip-path=\"url(#clip452)\" cx=\"1349.9\" cy=\"1251.75\" r=\"14.4\" fill=\"#009af9\" fill-rule=\"evenodd\" fill-opacity=\"1\" stroke=\"#000000\" stroke-opacity=\"1\" stroke-width=\"3.2\"/>\n",
       "<circle clip-path=\"url(#clip452)\" cx=\"1349.9\" cy=\"1057.79\" r=\"14.4\" fill=\"#009af9\" fill-rule=\"evenodd\" fill-opacity=\"1\" stroke=\"#000000\" stroke-opacity=\"1\" stroke-width=\"3.2\"/>\n",
       "<circle clip-path=\"url(#clip452)\" cx=\"1349.9\" cy=\"863.827\" r=\"14.4\" fill=\"#009af9\" fill-rule=\"evenodd\" fill-opacity=\"1\" stroke=\"#000000\" stroke-opacity=\"1\" stroke-width=\"3.2\"/>\n",
       "<circle clip-path=\"url(#clip452)\" cx=\"1349.9\" cy=\"669.865\" r=\"14.4\" fill=\"#009af9\" fill-rule=\"evenodd\" fill-opacity=\"1\" stroke=\"#000000\" stroke-opacity=\"1\" stroke-width=\"3.2\"/>\n",
       "<circle clip-path=\"url(#clip452)\" cx=\"1349.9\" cy=\"475.902\" r=\"14.4\" fill=\"#009af9\" fill-rule=\"evenodd\" fill-opacity=\"1\" stroke=\"#000000\" stroke-opacity=\"1\" stroke-width=\"3.2\"/>\n",
       "<circle clip-path=\"url(#clip452)\" cx=\"1349.9\" cy=\"281.939\" r=\"14.4\" fill=\"#009af9\" fill-rule=\"evenodd\" fill-opacity=\"1\" stroke=\"#000000\" stroke-opacity=\"1\" stroke-width=\"3.2\"/>\n",
       "<circle clip-path=\"url(#clip452)\" cx=\"1349.9\" cy=\"87.9763\" r=\"14.4\" fill=\"#009af9\" fill-rule=\"evenodd\" fill-opacity=\"1\" stroke=\"#000000\" stroke-opacity=\"1\" stroke-width=\"3.2\"/>\n",
       "<circle clip-path=\"url(#clip452)\" cx=\"1584.76\" cy=\"1445.72\" r=\"14.4\" fill=\"#009af9\" fill-rule=\"evenodd\" fill-opacity=\"1\" stroke=\"#000000\" stroke-opacity=\"1\" stroke-width=\"3.2\"/>\n",
       "<circle clip-path=\"url(#clip452)\" cx=\"1584.76\" cy=\"1251.75\" r=\"14.4\" fill=\"#009af9\" fill-rule=\"evenodd\" fill-opacity=\"1\" stroke=\"#000000\" stroke-opacity=\"1\" stroke-width=\"3.2\"/>\n",
       "<circle clip-path=\"url(#clip452)\" cx=\"1584.76\" cy=\"1057.79\" r=\"14.4\" fill=\"#009af9\" fill-rule=\"evenodd\" fill-opacity=\"1\" stroke=\"#000000\" stroke-opacity=\"1\" stroke-width=\"3.2\"/>\n",
       "<circle clip-path=\"url(#clip452)\" cx=\"1584.76\" cy=\"863.827\" r=\"14.4\" fill=\"#009af9\" fill-rule=\"evenodd\" fill-opacity=\"1\" stroke=\"#000000\" stroke-opacity=\"1\" stroke-width=\"3.2\"/>\n",
       "<circle clip-path=\"url(#clip452)\" cx=\"1584.76\" cy=\"669.865\" r=\"14.4\" fill=\"#009af9\" fill-rule=\"evenodd\" fill-opacity=\"1\" stroke=\"#000000\" stroke-opacity=\"1\" stroke-width=\"3.2\"/>\n",
       "<circle clip-path=\"url(#clip452)\" cx=\"1584.76\" cy=\"475.902\" r=\"14.4\" fill=\"#009af9\" fill-rule=\"evenodd\" fill-opacity=\"1\" stroke=\"#000000\" stroke-opacity=\"1\" stroke-width=\"3.2\"/>\n",
       "<circle clip-path=\"url(#clip452)\" cx=\"1584.76\" cy=\"281.939\" r=\"14.4\" fill=\"#009af9\" fill-rule=\"evenodd\" fill-opacity=\"1\" stroke=\"#000000\" stroke-opacity=\"1\" stroke-width=\"3.2\"/>\n",
       "<circle clip-path=\"url(#clip452)\" cx=\"1584.76\" cy=\"87.9763\" r=\"14.4\" fill=\"#009af9\" fill-rule=\"evenodd\" fill-opacity=\"1\" stroke=\"#000000\" stroke-opacity=\"1\" stroke-width=\"3.2\"/>\n",
       "<circle clip-path=\"url(#clip452)\" cx=\"1819.62\" cy=\"1445.72\" r=\"14.4\" fill=\"#009af9\" fill-rule=\"evenodd\" fill-opacity=\"1\" stroke=\"#000000\" stroke-opacity=\"1\" stroke-width=\"3.2\"/>\n",
       "<circle clip-path=\"url(#clip452)\" cx=\"1819.62\" cy=\"1251.75\" r=\"14.4\" fill=\"#009af9\" fill-rule=\"evenodd\" fill-opacity=\"1\" stroke=\"#000000\" stroke-opacity=\"1\" stroke-width=\"3.2\"/>\n",
       "<circle clip-path=\"url(#clip452)\" cx=\"1819.62\" cy=\"1057.79\" r=\"14.4\" fill=\"#009af9\" fill-rule=\"evenodd\" fill-opacity=\"1\" stroke=\"#000000\" stroke-opacity=\"1\" stroke-width=\"3.2\"/>\n",
       "<circle clip-path=\"url(#clip452)\" cx=\"1819.62\" cy=\"863.827\" r=\"14.4\" fill=\"#009af9\" fill-rule=\"evenodd\" fill-opacity=\"1\" stroke=\"#000000\" stroke-opacity=\"1\" stroke-width=\"3.2\"/>\n",
       "<circle clip-path=\"url(#clip452)\" cx=\"1819.62\" cy=\"669.865\" r=\"14.4\" fill=\"#009af9\" fill-rule=\"evenodd\" fill-opacity=\"1\" stroke=\"#000000\" stroke-opacity=\"1\" stroke-width=\"3.2\"/>\n",
       "<circle clip-path=\"url(#clip452)\" cx=\"1819.62\" cy=\"475.902\" r=\"14.4\" fill=\"#009af9\" fill-rule=\"evenodd\" fill-opacity=\"1\" stroke=\"#000000\" stroke-opacity=\"1\" stroke-width=\"3.2\"/>\n",
       "<circle clip-path=\"url(#clip452)\" cx=\"1819.62\" cy=\"281.939\" r=\"14.4\" fill=\"#009af9\" fill-rule=\"evenodd\" fill-opacity=\"1\" stroke=\"#000000\" stroke-opacity=\"1\" stroke-width=\"3.2\"/>\n",
       "<circle clip-path=\"url(#clip452)\" cx=\"1819.62\" cy=\"87.9763\" r=\"14.4\" fill=\"#009af9\" fill-rule=\"evenodd\" fill-opacity=\"1\" stroke=\"#000000\" stroke-opacity=\"1\" stroke-width=\"3.2\"/>\n",
       "<circle clip-path=\"url(#clip452)\" cx=\"2054.48\" cy=\"1445.72\" r=\"14.4\" fill=\"#009af9\" fill-rule=\"evenodd\" fill-opacity=\"1\" stroke=\"#000000\" stroke-opacity=\"1\" stroke-width=\"3.2\"/>\n",
       "<circle clip-path=\"url(#clip452)\" cx=\"2054.48\" cy=\"1251.75\" r=\"14.4\" fill=\"#009af9\" fill-rule=\"evenodd\" fill-opacity=\"1\" stroke=\"#000000\" stroke-opacity=\"1\" stroke-width=\"3.2\"/>\n",
       "<circle clip-path=\"url(#clip452)\" cx=\"2054.48\" cy=\"1057.79\" r=\"14.4\" fill=\"#009af9\" fill-rule=\"evenodd\" fill-opacity=\"1\" stroke=\"#000000\" stroke-opacity=\"1\" stroke-width=\"3.2\"/>\n",
       "<circle clip-path=\"url(#clip452)\" cx=\"2054.48\" cy=\"863.827\" r=\"14.4\" fill=\"#009af9\" fill-rule=\"evenodd\" fill-opacity=\"1\" stroke=\"#000000\" stroke-opacity=\"1\" stroke-width=\"3.2\"/>\n",
       "<circle clip-path=\"url(#clip452)\" cx=\"2054.48\" cy=\"669.865\" r=\"14.4\" fill=\"#009af9\" fill-rule=\"evenodd\" fill-opacity=\"1\" stroke=\"#000000\" stroke-opacity=\"1\" stroke-width=\"3.2\"/>\n",
       "<circle clip-path=\"url(#clip452)\" cx=\"2054.48\" cy=\"475.902\" r=\"14.4\" fill=\"#009af9\" fill-rule=\"evenodd\" fill-opacity=\"1\" stroke=\"#000000\" stroke-opacity=\"1\" stroke-width=\"3.2\"/>\n",
       "<circle clip-path=\"url(#clip452)\" cx=\"2054.48\" cy=\"281.939\" r=\"14.4\" fill=\"#009af9\" fill-rule=\"evenodd\" fill-opacity=\"1\" stroke=\"#000000\" stroke-opacity=\"1\" stroke-width=\"3.2\"/>\n",
       "<circle clip-path=\"url(#clip452)\" cx=\"2054.48\" cy=\"87.9763\" r=\"14.4\" fill=\"#009af9\" fill-rule=\"evenodd\" fill-opacity=\"1\" stroke=\"#000000\" stroke-opacity=\"1\" stroke-width=\"3.2\"/>\n",
       "<circle clip-path=\"url(#clip452)\" cx=\"2289.34\" cy=\"1445.72\" r=\"14.4\" fill=\"#009af9\" fill-rule=\"evenodd\" fill-opacity=\"1\" stroke=\"#000000\" stroke-opacity=\"1\" stroke-width=\"3.2\"/>\n",
       "<circle clip-path=\"url(#clip452)\" cx=\"2289.34\" cy=\"1251.75\" r=\"14.4\" fill=\"#009af9\" fill-rule=\"evenodd\" fill-opacity=\"1\" stroke=\"#000000\" stroke-opacity=\"1\" stroke-width=\"3.2\"/>\n",
       "<circle clip-path=\"url(#clip452)\" cx=\"2289.34\" cy=\"1057.79\" r=\"14.4\" fill=\"#009af9\" fill-rule=\"evenodd\" fill-opacity=\"1\" stroke=\"#000000\" stroke-opacity=\"1\" stroke-width=\"3.2\"/>\n",
       "<circle clip-path=\"url(#clip452)\" cx=\"2289.34\" cy=\"863.827\" r=\"14.4\" fill=\"#009af9\" fill-rule=\"evenodd\" fill-opacity=\"1\" stroke=\"#000000\" stroke-opacity=\"1\" stroke-width=\"3.2\"/>\n",
       "<circle clip-path=\"url(#clip452)\" cx=\"2289.34\" cy=\"669.865\" r=\"14.4\" fill=\"#009af9\" fill-rule=\"evenodd\" fill-opacity=\"1\" stroke=\"#000000\" stroke-opacity=\"1\" stroke-width=\"3.2\"/>\n",
       "<circle clip-path=\"url(#clip452)\" cx=\"2289.34\" cy=\"475.902\" r=\"14.4\" fill=\"#009af9\" fill-rule=\"evenodd\" fill-opacity=\"1\" stroke=\"#000000\" stroke-opacity=\"1\" stroke-width=\"3.2\"/>\n",
       "<circle clip-path=\"url(#clip452)\" cx=\"2289.34\" cy=\"281.939\" r=\"14.4\" fill=\"#009af9\" fill-rule=\"evenodd\" fill-opacity=\"1\" stroke=\"#000000\" stroke-opacity=\"1\" stroke-width=\"3.2\"/>\n",
       "<circle clip-path=\"url(#clip452)\" cx=\"2289.34\" cy=\"87.9763\" r=\"14.4\" fill=\"#009af9\" fill-rule=\"evenodd\" fill-opacity=\"1\" stroke=\"#000000\" stroke-opacity=\"1\" stroke-width=\"3.2\"/>\n",
       "<path clip-path=\"url(#clip450)\" d=\"M158.758 1420.69 L172.126 1420.69 L172.126 1374.55 L157.584 1377.46 L157.584 1370.01 L172.045 1367.09 L180.228 1367.09 L180.228 1420.69 L193.596 1420.69 L193.596 1427.57 L158.758 1427.57 L158.758 1420.69 Z\" fill=\"#000000\" fill-rule=\"nonzero\" fill-opacity=\"1\" /><path clip-path=\"url(#clip450)\" d=\"M166.232 1226.72 L194.791 1226.72 L194.791 1233.61 L156.388 1233.61 L156.388 1226.72 Q161.047 1221.9 169.068 1213.8 Q177.129 1205.66 179.195 1203.31 Q183.124 1198.89 184.664 1195.85 Q186.244 1192.78 186.244 1189.82 Q186.244 1185 182.841 1181.96 Q179.479 1178.92 174.05 1178.92 Q170.202 1178.92 165.908 1180.26 Q161.655 1181.6 156.794 1184.31 L156.794 1176.05 Q161.736 1174.06 166.03 1173.05 Q170.324 1172.04 173.888 1172.04 Q183.286 1172.04 188.877 1176.73 Q194.467 1181.43 194.467 1189.29 Q194.467 1193.02 193.049 1196.38 Q191.672 1199.7 187.986 1204.24 Q186.973 1205.41 181.545 1211.05 Q176.116 1216.64 166.232 1226.72 Z\" fill=\"#000000\" fill-rule=\"nonzero\" fill-opacity=\"1\" /><path clip-path=\"url(#clip450)\" d=\"M183.023 1007.04 Q188.897 1008.29 192.178 1012.26 Q195.5 1016.23 195.5 1022.07 Q195.5 1031.02 189.343 1035.92 Q183.185 1040.82 171.843 1040.82 Q168.035 1040.82 163.984 1040.05 Q159.974 1039.32 155.68 1037.82 L155.68 1029.92 Q159.082 1031.91 163.133 1032.92 Q167.184 1033.93 171.6 1033.93 Q179.296 1033.93 183.307 1030.9 Q187.358 1027.86 187.358 1022.07 Q187.358 1016.72 183.59 1013.72 Q179.863 1010.68 173.179 1010.68 L166.131 1010.68 L166.131 1003.96 L173.504 1003.96 Q179.539 1003.96 182.74 1001.57 Q185.94 999.137 185.94 994.6 Q185.94 989.942 182.618 987.47 Q179.337 984.959 173.179 984.959 Q169.817 984.959 165.969 985.688 Q162.121 986.417 157.502 987.957 L157.502 980.665 Q162.161 979.369 166.212 978.721 Q170.303 978.072 173.909 978.072 Q183.226 978.072 188.654 982.326 Q194.082 986.539 194.082 993.749 Q194.082 998.773 191.206 1002.26 Q188.33 1005.7 183.023 1007.04 Z\" fill=\"#000000\" fill-rule=\"nonzero\" fill-opacity=\"1\" /><path clip-path=\"url(#clip450)\" d=\"M180.856 792.333 L160.196 824.619 L180.856 824.619 L180.856 792.333 M178.709 785.203 L188.998 785.203 L188.998 824.619 L197.627 824.619 L197.627 831.424 L188.998 831.424 L188.998 845.683 L180.856 845.683 L180.856 831.424 L153.553 831.424 L153.553 823.525 L178.709 785.203 Z\" fill=\"#000000\" fill-rule=\"nonzero\" fill-opacity=\"1\" /><path clip-path=\"url(#clip450)\" d=\"M158.576 591.241 L190.7 591.241 L190.7 598.127 L166.07 598.127 L166.07 612.953 Q167.853 612.346 169.635 612.062 Q171.417 611.738 173.2 611.738 Q183.327 611.738 189.241 617.288 Q195.156 622.838 195.156 632.317 Q195.156 642.079 189.079 647.508 Q183.003 652.895 171.944 652.895 Q168.136 652.895 164.166 652.247 Q160.237 651.599 156.024 650.303 L156.024 642.079 Q159.67 644.064 163.559 645.037 Q167.447 646.009 171.782 646.009 Q178.79 646.009 182.881 642.322 Q186.973 638.636 186.973 632.317 Q186.973 625.997 182.881 622.311 Q178.79 618.625 171.782 618.625 Q168.501 618.625 165.219 619.354 Q161.979 620.083 158.576 621.622 L158.576 591.241 Z\" fill=\"#000000\" fill-rule=\"nonzero\" fill-opacity=\"1\" /><path clip-path=\"url(#clip450)\" d=\"M176.299 424.257 Q170.789 424.257 167.549 428.024 Q164.349 431.792 164.349 438.354 Q164.349 444.876 167.549 448.684 Q170.789 452.451 176.299 452.451 Q181.808 452.451 185.008 448.684 Q188.249 444.876 188.249 438.354 Q188.249 431.792 185.008 428.024 Q181.808 424.257 176.299 424.257 M192.543 398.615 L192.543 406.068 Q189.464 404.61 186.304 403.84 Q183.185 403.071 180.107 403.071 Q172.005 403.071 167.711 408.539 Q163.457 414.008 162.85 425.067 Q165.24 421.543 168.845 419.679 Q172.45 417.775 176.785 417.775 Q185.899 417.775 191.166 423.325 Q196.472 428.834 196.472 438.354 Q196.472 447.671 190.963 453.302 Q185.454 458.933 176.299 458.933 Q165.807 458.933 160.257 450.912 Q154.707 442.85 154.707 427.579 Q154.707 413.238 161.513 404.731 Q168.318 396.184 179.782 396.184 Q182.861 396.184 185.98 396.792 Q189.14 397.399 192.543 398.615 Z\" fill=\"#000000\" fill-rule=\"nonzero\" fill-opacity=\"1\" /><path clip-path=\"url(#clip450)\" d=\"M156.145 203.315 L195.034 203.315 L195.034 206.799 L173.078 263.795 L164.531 263.795 L185.19 210.202 L156.145 210.202 L156.145 203.315 Z\" fill=\"#000000\" fill-rule=\"nonzero\" fill-opacity=\"1\" /><path clip-path=\"url(#clip450)\" d=\"M175.59 41.1114 Q169.756 41.1114 166.394 44.2306 Q163.072 47.3498 163.072 52.8185 Q163.072 58.2872 166.394 61.4064 Q169.756 64.5256 175.59 64.5256 Q181.423 64.5256 184.785 61.4064 Q188.148 58.2467 188.148 52.8185 Q188.148 47.3498 184.785 44.2306 Q181.464 41.1114 175.59 41.1114 M167.407 37.6276 Q162.141 36.3313 159.184 32.726 Q156.267 29.1207 156.267 23.9355 Q156.267 16.6844 161.412 12.4715 Q166.597 8.25853 175.59 8.25853 Q184.623 8.25853 189.768 12.4715 Q194.913 16.6844 194.913 23.9355 Q194.913 29.1207 191.955 32.726 Q189.039 36.3313 183.813 37.6276 Q189.727 39.0049 193.009 43.0153 Q196.33 47.0257 196.33 52.8185 Q196.33 61.6089 190.943 66.308 Q185.596 71.007 175.59 71.007 Q165.584 71.007 160.196 66.308 Q154.849 61.6089 154.849 52.8185 Q154.849 47.0257 158.171 43.0153 Q161.493 39.0049 167.407 37.6276 M164.409 24.7052 Q164.409 29.4043 167.326 32.0373 Q170.283 34.6704 175.59 34.6704 Q180.856 34.6704 183.813 32.0373 Q186.811 29.4043 186.811 24.7052 Q186.811 20.0062 183.813 17.3731 Q180.856 14.74 175.59 14.74 Q170.283 14.74 167.326 17.3731 Q164.409 20.0062 164.409 24.7052 Z\" fill=\"#000000\" fill-rule=\"nonzero\" fill-opacity=\"1\" /><path clip-path=\"url(#clip450)\" d=\"M393.478 1426.32 L393.478 1418.86 Q396.557 1420.32 399.716 1421.09 Q402.876 1421.86 405.914 1421.86 Q414.016 1421.86 418.27 1416.43 Q422.563 1410.96 423.171 1399.86 Q420.822 1403.35 417.216 1405.21 Q413.611 1407.07 409.236 1407.07 Q400.162 1407.07 394.855 1401.61 Q389.589 1396.1 389.589 1386.58 Q389.589 1377.26 395.098 1371.63 Q400.608 1366 409.763 1366 Q420.254 1366 425.764 1374.06 Q431.313 1382.08 431.313 1397.39 Q431.313 1411.69 424.508 1420.24 Q417.743 1428.75 406.279 1428.75 Q403.2 1428.75 400.04 1428.14 Q396.881 1427.53 393.478 1426.32 M409.763 1400.67 Q415.272 1400.67 418.472 1396.91 Q421.713 1393.14 421.713 1386.58 Q421.713 1380.05 418.472 1376.29 Q415.272 1372.48 409.763 1372.48 Q404.253 1372.48 401.013 1376.29 Q397.812 1380.05 397.812 1386.58 Q397.812 1393.14 401.013 1396.91 Q404.253 1400.67 409.763 1400.67 Z\" fill=\"#000000\" fill-rule=\"nonzero\" fill-opacity=\"1\" /><path clip-path=\"url(#clip450)\" d=\"M366.155 1226.72 L379.523 1226.72 L379.523 1180.58 L364.98 1183.5 L364.98 1176.05 L379.442 1173.13 L387.624 1173.13 L387.624 1226.72 L400.992 1226.72 L400.992 1233.61 L366.155 1233.61 L366.155 1226.72 Z\" fill=\"#000000\" fill-rule=\"nonzero\" fill-opacity=\"1\" /><path clip-path=\"url(#clip450)\" d=\"M435.02 1178.52 Q428.701 1178.52 425.5 1184.76 Q422.341 1190.95 422.341 1203.43 Q422.341 1215.87 425.5 1222.1 Q428.701 1228.3 435.02 1228.3 Q441.38 1228.3 444.54 1222.1 Q447.74 1215.87 447.74 1203.43 Q447.74 1190.95 444.54 1184.76 Q441.38 1178.52 435.02 1178.52 M435.02 1172.04 Q445.188 1172.04 450.535 1180.1 Q455.923 1188.12 455.923 1203.43 Q455.923 1218.7 450.535 1226.76 Q445.188 1234.78 435.02 1234.78 Q424.852 1234.78 419.465 1226.76 Q414.117 1218.7 414.117 1203.43 Q414.117 1188.12 419.465 1180.1 Q424.852 1172.04 435.02 1172.04 Z\" fill=\"#000000\" fill-rule=\"nonzero\" fill-opacity=\"1\" /><path clip-path=\"url(#clip450)\" d=\"M367.228 1032.76 L380.596 1032.76 L380.596 986.62 L366.053 989.536 L366.053 982.083 L380.515 979.166 L388.698 979.166 L388.698 1032.76 L402.066 1032.76 L402.066 1039.65 L367.228 1039.65 L367.228 1032.76 Z\" fill=\"#000000\" fill-rule=\"nonzero\" fill-opacity=\"1\" /><path clip-path=\"url(#clip450)\" d=\"M420.011 1032.76 L433.379 1032.76 L433.379 986.62 L418.837 989.536 L418.837 982.083 L433.298 979.166 L441.481 979.166 L441.481 1032.76 L454.849 1032.76 L454.849 1039.65 L420.011 1039.65 L420.011 1032.76 Z\" fill=\"#000000\" fill-rule=\"nonzero\" fill-opacity=\"1\" /><path clip-path=\"url(#clip450)\" d=\"M367.552 838.797 L380.92 838.797 L380.92 792.657 L366.377 795.574 L366.377 788.12 L380.839 785.203 L389.022 785.203 L389.022 838.797 L402.39 838.797 L402.39 845.683 L367.552 845.683 L367.552 838.797 Z\" fill=\"#000000\" fill-rule=\"nonzero\" fill-opacity=\"1\" /><path clip-path=\"url(#clip450)\" d=\"M425.966 838.797 L454.525 838.797 L454.525 845.683 L416.123 845.683 L416.123 838.797 Q420.781 833.976 428.802 825.874 Q436.863 817.732 438.929 815.383 Q442.859 810.967 444.398 807.929 Q445.978 804.85 445.978 801.893 Q445.978 797.073 442.575 794.034 Q439.213 790.996 433.784 790.996 Q429.936 790.996 425.642 792.333 Q421.389 793.67 416.528 796.384 L416.528 788.12 Q421.47 786.135 425.764 785.122 Q430.058 784.11 433.622 784.11 Q443.021 784.11 448.611 788.809 Q454.201 793.508 454.201 801.366 Q454.201 805.093 452.783 808.456 Q451.406 811.777 447.72 816.314 Q446.707 817.489 441.279 823.12 Q435.85 828.71 425.966 838.797 Z\" fill=\"#000000\" fill-rule=\"nonzero\" fill-opacity=\"1\" /><path clip-path=\"url(#clip450)\" d=\"M366.722 644.834 L380.09 644.834 L380.09 598.694 L365.547 601.611 L365.547 594.157 L380.009 591.241 L388.192 591.241 L388.192 644.834 L401.56 644.834 L401.56 651.721 L366.722 651.721 L366.722 644.834 Z\" fill=\"#000000\" fill-rule=\"nonzero\" fill-opacity=\"1\" /><path clip-path=\"url(#clip450)\" d=\"M442.879 619.111 Q448.753 620.367 452.034 624.336 Q455.356 628.306 455.356 634.14 Q455.356 643.092 449.198 647.994 Q443.041 652.895 431.698 652.895 Q427.89 652.895 423.84 652.126 Q419.829 651.397 415.535 649.898 L415.535 641.998 Q418.938 643.983 422.989 644.996 Q427.04 646.009 431.455 646.009 Q439.152 646.009 443.162 642.971 Q447.213 639.932 447.213 634.14 Q447.213 628.792 443.446 625.795 Q439.719 622.757 433.035 622.757 L425.987 622.757 L425.987 616.032 L433.359 616.032 Q439.395 616.032 442.595 613.642 Q445.795 611.212 445.795 606.675 Q445.795 602.016 442.474 599.545 Q439.192 597.033 433.035 597.033 Q429.673 597.033 425.824 597.763 Q421.976 598.492 417.358 600.031 L417.358 592.739 Q422.017 591.443 426.068 590.795 Q430.159 590.147 433.764 590.147 Q443.081 590.147 448.51 594.4 Q453.938 598.613 453.938 605.824 Q453.938 610.847 451.062 614.331 Q448.185 617.774 442.879 619.111 Z\" fill=\"#000000\" fill-rule=\"nonzero\" fill-opacity=\"1\" /><path clip-path=\"url(#clip450)\" d=\"M365.729 450.871 L379.097 450.871 L379.097 404.731 L364.555 407.648 L364.555 400.194 L379.016 397.278 L387.199 397.278 L387.199 450.871 L400.567 450.871 L400.567 457.758 L365.729 457.758 L365.729 450.871 Z\" fill=\"#000000\" fill-rule=\"nonzero\" fill-opacity=\"1\" /><path clip-path=\"url(#clip450)\" d=\"M439.577 404.407 L418.918 436.693 L439.577 436.693 L439.577 404.407 M437.43 397.278 L447.72 397.278 L447.72 436.693 L456.348 436.693 L456.348 443.499 L447.72 443.499 L447.72 457.758 L439.577 457.758 L439.577 443.499 L412.274 443.499 L412.274 435.599 L437.43 397.278 Z\" fill=\"#000000\" fill-rule=\"nonzero\" fill-opacity=\"1\" /><path clip-path=\"url(#clip450)\" d=\"M367.026 256.909 L380.394 256.909 L380.394 210.769 L365.851 213.685 L365.851 206.232 L380.313 203.315 L388.495 203.315 L388.495 256.909 L401.863 256.909 L401.863 263.795 L367.026 263.795 L367.026 256.909 Z\" fill=\"#000000\" fill-rule=\"nonzero\" fill-opacity=\"1\" /><path clip-path=\"url(#clip450)\" d=\"M418.472 203.315 L450.596 203.315 L450.596 210.202 L425.966 210.202 L425.966 225.028 Q427.749 224.42 429.531 224.137 Q431.313 223.813 433.096 223.813 Q443.223 223.813 449.137 229.362 Q455.052 234.912 455.052 244.391 Q455.052 254.154 448.975 259.582 Q442.899 264.97 431.84 264.97 Q428.032 264.97 424.062 264.322 Q420.133 263.674 415.92 262.377 L415.92 254.154 Q419.566 256.139 423.455 257.111 Q427.344 258.083 431.678 258.083 Q438.686 258.083 442.777 254.397 Q446.869 250.711 446.869 244.391 Q446.869 238.072 442.777 234.385 Q438.686 230.699 431.678 230.699 Q428.397 230.699 425.116 231.428 Q421.875 232.157 418.472 233.697 L418.472 203.315 Z\" fill=\"#000000\" fill-rule=\"nonzero\" fill-opacity=\"1\" /><path clip-path=\"url(#clip450)\" d=\"M366.013 62.9457 L379.381 62.9457 L379.381 16.8059 L364.838 19.7226 L364.838 12.2689 L379.3 9.35228 L387.483 9.35228 L387.483 62.9457 L400.851 62.9457 L400.851 69.8323 L366.013 69.8323 L366.013 62.9457 Z\" fill=\"#000000\" fill-rule=\"nonzero\" fill-opacity=\"1\" /><path clip-path=\"url(#clip450)\" d=\"M435.891 36.3313 Q430.382 36.3313 427.141 40.0986 Q423.941 43.866 423.941 50.4284 Q423.941 56.9504 427.141 60.7583 Q430.382 64.5256 435.891 64.5256 Q441.4 64.5256 444.6 60.7583 Q447.841 56.9504 447.841 50.4284 Q447.841 43.866 444.6 40.0986 Q441.4 36.3313 435.891 36.3313 M452.135 10.6891 L452.135 18.1427 Q449.056 16.6844 445.897 15.9147 Q442.777 15.1451 439.699 15.1451 Q431.597 15.1451 427.303 20.6138 Q423.05 26.0825 422.442 37.1415 Q424.832 33.6172 428.437 31.7538 Q432.043 29.8499 436.377 29.8499 Q445.492 29.8499 450.758 35.3996 Q456.064 40.9088 456.064 50.4284 Q456.064 59.7455 450.555 65.3763 Q445.046 71.007 435.891 71.007 Q425.399 71.007 419.849 62.9862 Q414.3 54.9249 414.3 39.653 Q414.3 25.3128 421.105 16.8059 Q427.911 8.25853 439.375 8.25853 Q442.453 8.25853 445.573 8.86617 Q448.732 9.4738 452.135 10.6891 Z\" fill=\"#000000\" fill-rule=\"nonzero\" fill-opacity=\"1\" /><path clip-path=\"url(#clip450)\" d=\"M601.806 1420.69 L615.174 1420.69 L615.174 1374.55 L600.631 1377.46 L600.631 1370.01 L615.093 1367.09 L623.276 1367.09 L623.276 1420.69 L636.644 1420.69 L636.644 1427.57 L601.806 1427.57 L601.806 1420.69 Z\" fill=\"#000000\" fill-rule=\"nonzero\" fill-opacity=\"1\" /><path clip-path=\"url(#clip450)\" d=\"M651.106 1367.09 L689.994 1367.09 L689.994 1370.58 L668.038 1427.57 L659.491 1427.57 L680.151 1373.98 L651.106 1373.98 L651.106 1367.09 Z\" fill=\"#000000\" fill-rule=\"nonzero\" fill-opacity=\"1\" /><path clip-path=\"url(#clip450)\" d=\"M601.097 1226.72 L614.465 1226.72 L614.465 1180.58 L599.922 1183.5 L599.922 1176.05 L614.384 1173.13 L622.567 1173.13 L622.567 1226.72 L635.935 1226.72 L635.935 1233.61 L601.097 1233.61 L601.097 1226.72 Z\" fill=\"#000000\" fill-rule=\"nonzero\" fill-opacity=\"1\" /><path clip-path=\"url(#clip450)\" d=\"M669.963 1204.89 Q664.129 1204.89 660.767 1208.01 Q657.445 1211.13 657.445 1216.6 Q657.445 1222.06 660.767 1225.18 Q664.129 1228.3 669.963 1228.3 Q675.796 1228.3 679.158 1225.18 Q682.52 1222.02 682.52 1216.6 Q682.52 1211.13 679.158 1208.01 Q675.836 1204.89 669.963 1204.89 M661.78 1201.4 Q656.514 1200.11 653.556 1196.5 Q650.64 1192.9 650.64 1187.71 Q650.64 1180.46 655.784 1176.25 Q660.97 1172.04 669.963 1172.04 Q678.996 1172.04 684.141 1176.25 Q689.285 1180.46 689.285 1187.71 Q689.285 1192.9 686.328 1196.5 Q683.412 1200.11 678.186 1201.4 Q684.1 1202.78 687.381 1206.79 Q690.703 1210.8 690.703 1216.6 Q690.703 1225.39 685.315 1230.08 Q679.968 1234.78 669.963 1234.78 Q659.957 1234.78 654.569 1230.08 Q649.222 1225.39 649.222 1216.6 Q649.222 1210.8 652.544 1206.79 Q655.865 1202.78 661.78 1201.4 M658.782 1188.48 Q658.782 1193.18 661.699 1195.81 Q664.656 1198.45 669.963 1198.45 Q675.229 1198.45 678.186 1195.81 Q681.184 1193.18 681.184 1188.48 Q681.184 1183.78 678.186 1181.15 Q675.229 1178.52 669.963 1178.52 Q664.656 1178.52 661.699 1181.15 Q658.782 1183.78 658.782 1188.48 Z\" fill=\"#000000\" fill-rule=\"nonzero\" fill-opacity=\"1\" /><path clip-path=\"url(#clip450)\" d=\"M601.178 1032.76 L614.546 1032.76 L614.546 986.62 L600.003 989.536 L600.003 982.083 L614.465 979.166 L622.648 979.166 L622.648 1032.76 L636.016 1032.76 L636.016 1039.65 L601.178 1039.65 L601.178 1032.76 Z\" fill=\"#000000\" fill-rule=\"nonzero\" fill-opacity=\"1\" /><path clip-path=\"url(#clip450)\" d=\"M652.787 1038.39 L652.787 1030.94 Q655.865 1032.4 659.025 1033.16 Q662.185 1033.93 665.223 1033.93 Q673.325 1033.93 677.578 1028.51 Q681.872 1023.04 682.48 1011.94 Q680.13 1015.42 676.525 1017.29 Q672.92 1019.15 668.545 1019.15 Q659.471 1019.15 654.164 1013.68 Q648.898 1008.17 648.898 998.651 Q648.898 989.334 654.407 983.703 Q659.916 978.072 669.071 978.072 Q679.563 978.072 685.072 986.134 Q690.622 994.154 690.622 1009.47 Q690.622 1023.77 683.817 1032.31 Q677.052 1040.82 665.588 1040.82 Q662.509 1040.82 659.349 1040.21 Q656.189 1039.61 652.787 1038.39 M669.071 1012.75 Q674.581 1012.75 677.781 1008.98 Q681.022 1005.21 681.022 998.651 Q681.022 992.129 677.781 988.362 Q674.581 984.554 669.071 984.554 Q663.562 984.554 660.321 988.362 Q657.121 992.129 657.121 998.651 Q657.121 1005.21 660.321 1008.98 Q663.562 1012.75 669.071 1012.75 Z\" fill=\"#000000\" fill-rule=\"nonzero\" fill-opacity=\"1\" /><path clip-path=\"url(#clip450)\" d=\"M608.166 838.797 L636.725 838.797 L636.725 845.683 L598.322 845.683 L598.322 838.797 Q602.981 833.976 611.002 825.874 Q619.063 817.732 621.129 815.383 Q625.058 810.967 626.598 807.929 Q628.177 804.85 628.177 801.893 Q628.177 797.073 624.775 794.034 Q621.412 790.996 615.984 790.996 Q612.136 790.996 607.842 792.333 Q603.588 793.67 598.727 796.384 L598.727 788.12 Q603.669 786.135 607.963 785.122 Q612.257 784.11 615.822 784.11 Q625.22 784.11 630.811 788.809 Q636.401 793.508 636.401 801.366 Q636.401 805.093 634.983 808.456 Q633.606 811.777 629.919 816.314 Q628.907 817.489 623.478 823.12 Q618.05 828.71 608.166 838.797 Z\" fill=\"#000000\" fill-rule=\"nonzero\" fill-opacity=\"1\" /><path clip-path=\"url(#clip450)\" d=\"M671.401 790.591 Q665.081 790.591 661.881 796.829 Q658.721 803.027 658.721 815.504 Q658.721 827.94 661.881 834.179 Q665.081 840.377 671.401 840.377 Q677.761 840.377 680.92 834.179 Q684.12 827.94 684.12 815.504 Q684.12 803.027 680.92 796.829 Q677.761 790.591 671.401 790.591 M671.401 784.11 Q681.568 784.11 686.916 792.171 Q692.303 800.192 692.303 815.504 Q692.303 830.776 686.916 838.837 Q681.568 846.858 671.401 846.858 Q661.233 846.858 655.845 838.837 Q650.498 830.776 650.498 815.504 Q650.498 800.192 655.845 792.171 Q661.233 784.11 671.401 784.11 Z\" fill=\"#000000\" fill-rule=\"nonzero\" fill-opacity=\"1\" /><path clip-path=\"url(#clip450)\" d=\"M609.239 644.834 L637.798 644.834 L637.798 651.721 L599.396 651.721 L599.396 644.834 Q604.054 640.013 612.075 631.912 Q620.136 623.769 622.202 621.42 Q626.132 617.004 627.671 613.966 Q629.251 610.887 629.251 607.93 Q629.251 603.11 625.848 600.072 Q622.486 597.033 617.058 597.033 Q613.209 597.033 608.915 598.37 Q604.662 599.707 599.801 602.421 L599.801 594.157 Q604.743 592.172 609.037 591.16 Q613.331 590.147 616.896 590.147 Q626.294 590.147 631.884 594.846 Q637.474 599.545 637.474 607.404 Q637.474 611.131 636.056 614.493 Q634.679 617.815 630.993 622.352 Q629.98 623.526 624.552 629.157 Q619.124 634.747 609.239 644.834 Z\" fill=\"#000000\" fill-rule=\"nonzero\" fill-opacity=\"1\" /><path clip-path=\"url(#clip450)\" d=\"M656.392 644.834 L669.76 644.834 L669.76 598.694 L655.217 601.611 L655.217 594.157 L669.679 591.241 L677.862 591.241 L677.862 644.834 L691.23 644.834 L691.23 651.721 L656.392 651.721 L656.392 644.834 Z\" fill=\"#000000\" fill-rule=\"nonzero\" fill-opacity=\"1\" /><path clip-path=\"url(#clip450)\" d=\"M609.564 450.871 L638.122 450.871 L638.122 457.758 L599.72 457.758 L599.72 450.871 Q604.378 446.051 612.399 437.949 Q620.46 429.807 622.526 427.457 Q626.456 423.042 627.995 420.003 Q629.575 416.925 629.575 413.968 Q629.575 409.147 626.172 406.109 Q622.81 403.071 617.382 403.071 Q613.533 403.071 609.239 404.407 Q604.986 405.744 600.125 408.458 L600.125 400.194 Q605.067 398.21 609.361 397.197 Q613.655 396.184 617.22 396.184 Q626.618 396.184 632.208 400.883 Q637.798 405.582 637.798 413.441 Q637.798 417.168 636.381 420.53 Q635.003 423.852 631.317 428.389 Q630.304 429.564 624.876 435.194 Q619.448 440.785 609.564 450.871 Z\" fill=\"#000000\" fill-rule=\"nonzero\" fill-opacity=\"1\" /><path clip-path=\"url(#clip450)\" d=\"M662.347 450.871 L690.906 450.871 L690.906 457.758 L652.503 457.758 L652.503 450.871 Q657.162 446.051 665.182 437.949 Q673.244 429.807 675.31 427.457 Q679.239 423.042 680.778 420.003 Q682.358 416.925 682.358 413.968 Q682.358 409.147 678.956 406.109 Q675.593 403.071 670.165 403.071 Q666.317 403.071 662.023 404.407 Q657.769 405.744 652.908 408.458 L652.908 400.194 Q657.85 398.21 662.144 397.197 Q666.438 396.184 670.003 396.184 Q679.401 396.184 684.991 400.883 Q690.582 405.582 690.582 413.441 Q690.582 417.168 689.164 420.53 Q687.787 423.852 684.1 428.389 Q683.087 429.564 677.659 435.194 Q672.231 440.785 662.347 450.871 Z\" fill=\"#000000\" fill-rule=\"nonzero\" fill-opacity=\"1\" /><path clip-path=\"url(#clip450)\" d=\"M608.733 256.909 L637.292 256.909 L637.292 263.795 L598.889 263.795 L598.889 256.909 Q603.548 252.088 611.569 243.986 Q619.63 235.844 621.696 233.494 Q625.625 229.079 627.165 226.041 Q628.745 222.962 628.745 220.005 Q628.745 215.184 625.342 212.146 Q621.98 209.108 616.551 209.108 Q612.703 209.108 608.409 210.445 Q604.156 211.781 599.295 214.496 L599.295 206.232 Q604.237 204.247 608.531 203.234 Q612.825 202.221 616.389 202.221 Q625.787 202.221 631.378 206.92 Q636.968 211.619 636.968 219.478 Q636.968 223.205 635.55 226.567 Q634.173 229.889 630.486 234.426 Q629.474 235.601 624.046 241.232 Q618.617 246.822 608.733 256.909 Z\" fill=\"#000000\" fill-rule=\"nonzero\" fill-opacity=\"1\" /><path clip-path=\"url(#clip450)\" d=\"M679.259 231.185 Q685.133 232.441 688.414 236.411 Q691.736 240.381 691.736 246.214 Q691.736 255.167 685.579 260.068 Q679.421 264.97 668.079 264.97 Q664.271 264.97 660.22 264.2 Q656.21 263.471 651.916 261.972 L651.916 254.073 Q655.319 256.058 659.369 257.071 Q663.42 258.083 667.836 258.083 Q675.533 258.083 679.543 255.045 Q683.594 252.007 683.594 246.214 Q683.594 240.867 679.826 237.869 Q676.1 234.831 669.416 234.831 L662.367 234.831 L662.367 228.107 L669.74 228.107 Q675.776 228.107 678.976 225.717 Q682.176 223.286 682.176 218.749 Q682.176 214.09 678.854 211.619 Q675.573 209.108 669.416 209.108 Q666.053 209.108 662.205 209.837 Q658.357 210.566 653.739 212.106 L653.739 204.814 Q658.397 203.518 662.448 202.869 Q666.54 202.221 670.145 202.221 Q679.462 202.221 684.89 206.475 Q690.318 210.688 690.318 217.898 Q690.318 222.921 687.442 226.405 Q684.566 229.848 679.259 231.185 Z\" fill=\"#000000\" fill-rule=\"nonzero\" fill-opacity=\"1\" /><path clip-path=\"url(#clip450)\" d=\"M607.741 62.9457 L636.3 62.9457 L636.3 69.8323 L597.897 69.8323 L597.897 62.9457 Q602.555 58.1252 610.576 50.0234 Q618.638 41.881 620.704 39.5315 Q624.633 35.116 626.172 32.0778 Q627.752 28.9992 627.752 26.042 Q627.752 21.2214 624.349 18.1832 Q620.987 15.1451 615.559 15.1451 Q611.711 15.1451 607.417 16.4819 Q603.163 17.8187 598.302 20.5328 L598.302 12.2689 Q603.244 10.284 607.538 9.27126 Q611.832 8.25853 615.397 8.25853 Q624.795 8.25853 630.385 12.9576 Q635.975 17.6566 635.975 25.5154 Q635.975 29.2422 634.558 32.6045 Q633.18 35.9262 629.494 40.4632 Q628.481 41.638 623.053 47.2687 Q617.625 52.859 607.741 62.9457 Z\" fill=\"#000000\" fill-rule=\"nonzero\" fill-opacity=\"1\" /><path clip-path=\"url(#clip450)\" d=\"M675.958 16.4819 L655.298 48.7676 L675.958 48.7676 L675.958 16.4819 M673.811 9.35228 L684.1 9.35228 L684.1 48.7676 L692.729 48.7676 L692.729 55.5731 L684.1 55.5731 L684.1 69.8323 L675.958 69.8323 L675.958 55.5731 L648.655 55.5731 L648.655 47.6738 L673.811 9.35228 Z\" fill=\"#000000\" fill-rule=\"nonzero\" fill-opacity=\"1\" /><path clip-path=\"url(#clip450)\" d=\"M843.898 1420.69 L872.457 1420.69 L872.457 1427.57 L834.055 1427.57 L834.055 1420.69 Q838.713 1415.86 846.734 1407.76 Q854.795 1399.62 856.861 1397.27 Q860.791 1392.86 862.33 1389.82 Q863.91 1386.74 863.91 1383.78 Q863.91 1378.96 860.507 1375.92 Q857.145 1372.88 851.717 1372.88 Q847.868 1372.88 843.574 1374.22 Q839.321 1375.56 834.46 1378.27 L834.46 1370.01 Q839.402 1368.02 843.696 1367.01 Q847.99 1366 851.555 1366 Q860.953 1366 866.543 1370.7 Q872.133 1375.4 872.133 1383.25 Q872.133 1386.98 870.715 1390.34 Q869.338 1393.67 865.652 1398.2 Q864.639 1399.38 859.211 1405.01 Q853.783 1410.6 843.898 1420.69 Z\" fill=\"#000000\" fill-rule=\"nonzero\" fill-opacity=\"1\" /><path clip-path=\"url(#clip450)\" d=\"M889.714 1367.09 L921.838 1367.09 L921.838 1373.98 L897.208 1373.98 L897.208 1388.8 Q898.991 1388.2 900.773 1387.91 Q902.556 1387.59 904.338 1387.59 Q914.465 1387.59 920.38 1393.14 Q926.294 1398.69 926.294 1408.17 Q926.294 1417.93 920.217 1423.36 Q914.141 1428.75 903.082 1428.75 Q899.274 1428.75 895.304 1428.1 Q891.375 1427.45 887.162 1426.15 L887.162 1417.93 Q890.808 1419.92 894.697 1420.89 Q898.586 1421.86 902.92 1421.86 Q909.928 1421.86 914.02 1418.17 Q918.111 1414.49 918.111 1408.17 Q918.111 1401.85 914.02 1398.16 Q909.928 1394.48 902.92 1394.48 Q899.639 1394.48 896.358 1395.2 Q893.117 1395.93 889.714 1397.47 L889.714 1367.09 Z\" fill=\"#000000\" fill-rule=\"nonzero\" fill-opacity=\"1\" /><path clip-path=\"url(#clip450)\" d=\"M842.886 1226.72 L871.445 1226.72 L871.445 1233.61 L833.042 1233.61 L833.042 1226.72 Q837.701 1221.9 845.721 1213.8 Q853.783 1205.66 855.849 1203.31 Q859.778 1198.89 861.317 1195.85 Q862.897 1192.78 862.897 1189.82 Q862.897 1185 859.494 1181.96 Q856.132 1178.92 850.704 1178.92 Q846.856 1178.92 842.562 1180.26 Q838.308 1181.6 833.447 1184.31 L833.447 1176.05 Q838.389 1174.06 842.683 1173.05 Q846.977 1172.04 850.542 1172.04 Q859.94 1172.04 865.53 1176.73 Q871.121 1181.43 871.121 1189.29 Q871.121 1193.02 869.703 1196.38 Q868.325 1199.7 864.639 1204.24 Q863.626 1205.41 858.198 1211.05 Q852.77 1216.64 842.886 1226.72 Z\" fill=\"#000000\" fill-rule=\"nonzero\" fill-opacity=\"1\" /><path clip-path=\"url(#clip450)\" d=\"M907.133 1200.11 Q901.624 1200.11 898.383 1203.88 Q895.183 1207.64 895.183 1214.21 Q895.183 1220.73 898.383 1224.53 Q901.624 1228.3 907.133 1228.3 Q912.642 1228.3 915.842 1224.53 Q919.083 1220.73 919.083 1214.21 Q919.083 1207.64 915.842 1203.88 Q912.642 1200.11 907.133 1200.11 M923.377 1174.47 L923.377 1181.92 Q920.298 1180.46 917.139 1179.69 Q914.02 1178.92 910.941 1178.92 Q902.839 1178.92 898.545 1184.39 Q894.292 1189.86 893.684 1200.92 Q896.074 1197.39 899.679 1195.53 Q903.285 1193.63 907.619 1193.63 Q916.734 1193.63 922 1199.18 Q927.307 1204.69 927.307 1214.21 Q927.307 1223.52 921.797 1229.15 Q916.288 1234.78 907.133 1234.78 Q896.641 1234.78 891.091 1226.76 Q885.542 1218.7 885.542 1203.43 Q885.542 1189.09 892.347 1180.58 Q899.153 1172.04 910.617 1172.04 Q913.696 1172.04 916.815 1172.64 Q919.974 1173.25 923.377 1174.47 Z\" fill=\"#000000\" fill-rule=\"nonzero\" fill-opacity=\"1\" /><path clip-path=\"url(#clip450)\" d=\"M843.817 1032.76 L872.376 1032.76 L872.376 1039.65 L833.974 1039.65 L833.974 1032.76 Q838.632 1027.94 846.653 1019.84 Q854.714 1011.69 856.78 1009.35 Q860.71 1004.93 862.249 1001.89 Q863.829 998.813 863.829 995.856 Q863.829 991.035 860.426 987.997 Q857.064 984.959 851.636 984.959 Q847.787 984.959 843.493 986.296 Q839.24 987.633 834.379 990.347 L834.379 982.083 Q839.321 980.098 843.615 979.085 Q847.909 978.072 851.474 978.072 Q860.872 978.072 866.462 982.771 Q872.052 987.47 872.052 995.329 Q872.052 999.056 870.634 1002.42 Q869.257 1005.74 865.571 1010.28 Q864.558 1011.45 859.13 1017.08 Q853.702 1022.67 843.817 1032.76 Z\" fill=\"#000000\" fill-rule=\"nonzero\" fill-opacity=\"1\" /><path clip-path=\"url(#clip450)\" d=\"M887.486 979.166 L926.375 979.166 L926.375 982.65 L904.419 1039.65 L895.872 1039.65 L916.531 986.053 L887.486 986.053 L887.486 979.166 Z\" fill=\"#000000\" fill-rule=\"nonzero\" fill-opacity=\"1\" /><path clip-path=\"url(#clip450)\" d=\"M843.109 838.797 L871.667 838.797 L871.667 845.683 L833.265 845.683 L833.265 838.797 Q837.923 833.976 845.944 825.874 Q854.005 817.732 856.071 815.383 Q860.001 810.967 861.54 807.929 Q863.12 804.85 863.12 801.893 Q863.12 797.073 859.717 794.034 Q856.355 790.996 850.927 790.996 Q847.078 790.996 842.784 792.333 Q838.531 793.67 833.67 796.384 L833.67 788.12 Q838.612 786.135 842.906 785.122 Q847.2 784.11 850.765 784.11 Q860.163 784.11 865.753 788.809 Q871.343 793.508 871.343 801.366 Q871.343 805.093 869.926 808.456 Q868.548 811.777 864.862 816.314 Q863.849 817.489 858.421 823.12 Q852.993 828.71 843.109 838.797 Z\" fill=\"#000000\" fill-rule=\"nonzero\" fill-opacity=\"1\" /><path clip-path=\"url(#clip450)\" d=\"M906.343 816.962 Q900.51 816.962 897.148 820.082 Q893.826 823.201 893.826 828.67 Q893.826 834.138 897.148 837.257 Q900.51 840.377 906.343 840.377 Q912.176 840.377 915.539 837.257 Q918.901 834.098 918.901 828.67 Q918.901 823.201 915.539 820.082 Q912.217 816.962 906.343 816.962 M898.16 813.479 Q892.894 812.182 889.937 808.577 Q887.02 804.972 887.02 799.787 Q887.02 792.536 892.165 788.323 Q897.35 784.11 906.343 784.11 Q915.377 784.11 920.521 788.323 Q925.666 792.536 925.666 799.787 Q925.666 804.972 922.709 808.577 Q919.792 812.182 914.566 813.479 Q920.481 814.856 923.762 818.866 Q927.084 822.877 927.084 828.67 Q927.084 837.46 921.696 842.159 Q916.349 846.858 906.343 846.858 Q896.337 846.858 890.95 842.159 Q885.602 837.46 885.602 828.67 Q885.602 822.877 888.924 818.866 Q892.246 814.856 898.16 813.479 M895.163 800.556 Q895.163 805.255 898.079 807.888 Q901.036 810.522 906.343 810.522 Q911.609 810.522 914.566 807.888 Q917.564 805.255 917.564 800.556 Q917.564 795.857 914.566 793.224 Q911.609 790.591 906.343 790.591 Q901.036 790.591 898.079 793.224 Q895.163 795.857 895.163 800.556 Z\" fill=\"#000000\" fill-rule=\"nonzero\" fill-opacity=\"1\" /><path clip-path=\"url(#clip450)\" d=\"M843.19 644.834 L871.748 644.834 L871.748 651.721 L833.346 651.721 L833.346 644.834 Q838.004 640.013 846.025 631.912 Q854.086 623.769 856.152 621.42 Q860.082 617.004 861.621 613.966 Q863.201 610.887 863.201 607.93 Q863.201 603.11 859.798 600.072 Q856.436 597.033 851.008 597.033 Q847.159 597.033 842.865 598.37 Q838.612 599.707 833.751 602.421 L833.751 594.157 Q838.693 592.172 842.987 591.16 Q847.281 590.147 850.846 590.147 Q860.244 590.147 865.834 594.846 Q871.424 599.545 871.424 607.404 Q871.424 611.131 870.007 614.493 Q868.629 617.815 864.943 622.352 Q863.93 623.526 858.502 629.157 Q853.074 634.747 843.19 644.834 Z\" fill=\"#000000\" fill-rule=\"nonzero\" fill-opacity=\"1\" /><path clip-path=\"url(#clip450)\" d=\"M889.167 650.465 L889.167 643.011 Q892.246 644.469 895.406 645.239 Q898.565 646.009 901.604 646.009 Q909.705 646.009 913.959 640.581 Q918.253 635.112 918.86 624.012 Q916.511 627.496 912.906 629.36 Q909.3 631.223 904.925 631.223 Q895.851 631.223 890.545 625.754 Q885.278 620.245 885.278 610.725 Q885.278 601.408 890.788 595.778 Q896.297 590.147 905.452 590.147 Q915.944 590.147 921.453 598.208 Q927.003 606.229 927.003 621.541 Q927.003 635.841 920.197 644.388 Q913.432 652.895 901.968 652.895 Q898.889 652.895 895.73 652.288 Q892.57 651.68 889.167 650.465 M905.452 624.823 Q910.961 624.823 914.161 621.055 Q917.402 617.288 917.402 610.725 Q917.402 604.203 914.161 600.436 Q910.961 596.628 905.452 596.628 Q899.943 596.628 896.702 600.436 Q893.502 604.203 893.502 610.725 Q893.502 617.288 896.702 621.055 Q899.943 624.823 905.452 624.823 Z\" fill=\"#000000\" fill-rule=\"nonzero\" fill-opacity=\"1\" /><path clip-path=\"url(#clip450)\" d=\"M860.649 425.148 Q866.523 426.404 869.804 430.374 Q873.126 434.344 873.126 440.177 Q873.126 449.129 866.968 454.031 Q860.811 458.933 849.468 458.933 Q845.661 458.933 841.61 458.163 Q837.599 457.434 833.305 455.935 L833.305 448.036 Q836.708 450.021 840.759 451.033 Q844.81 452.046 849.225 452.046 Q856.922 452.046 860.932 449.008 Q864.983 445.97 864.983 440.177 Q864.983 434.83 861.216 431.832 Q857.489 428.794 850.805 428.794 L843.757 428.794 L843.757 422.069 L851.129 422.069 Q857.165 422.069 860.365 419.679 Q863.566 417.249 863.566 412.712 Q863.566 408.053 860.244 405.582 Q856.963 403.071 850.805 403.071 Q847.443 403.071 843.595 403.8 Q839.746 404.529 835.128 406.068 L835.128 398.777 Q839.787 397.48 843.838 396.832 Q847.929 396.184 851.534 396.184 Q860.851 396.184 866.28 400.438 Q871.708 404.65 871.708 411.861 Q871.708 416.884 868.832 420.368 Q865.956 423.811 860.649 425.148 Z\" fill=\"#000000\" fill-rule=\"nonzero\" fill-opacity=\"1\" /><path clip-path=\"url(#clip450)\" d=\"M906.141 402.666 Q899.821 402.666 896.621 408.904 Q893.461 415.102 893.461 427.579 Q893.461 440.015 896.621 446.253 Q899.821 452.451 906.141 452.451 Q912.501 452.451 915.66 446.253 Q918.86 440.015 918.86 427.579 Q918.86 415.102 915.66 408.904 Q912.501 402.666 906.141 402.666 M906.141 396.184 Q916.308 396.184 921.656 404.245 Q927.043 412.266 927.043 427.579 Q927.043 442.85 921.656 450.912 Q916.308 458.933 906.141 458.933 Q895.973 458.933 890.585 450.912 Q885.238 442.85 885.238 427.579 Q885.238 412.266 890.585 404.245 Q895.973 396.184 906.141 396.184 Z\" fill=\"#000000\" fill-rule=\"nonzero\" fill-opacity=\"1\" /><path clip-path=\"url(#clip450)\" d=\"M861.722 231.185 Q867.596 232.441 870.877 236.411 Q874.199 240.381 874.199 246.214 Q874.199 255.167 868.042 260.068 Q861.884 264.97 850.542 264.97 Q846.734 264.97 842.683 264.2 Q838.673 263.471 834.379 261.972 L834.379 254.073 Q837.782 256.058 841.832 257.071 Q845.883 258.083 850.299 258.083 Q857.996 258.083 862.006 255.045 Q866.057 252.007 866.057 246.214 Q866.057 240.867 862.29 237.869 Q858.563 234.831 851.879 234.831 L844.83 234.831 L844.83 228.107 L852.203 228.107 Q858.239 228.107 861.439 225.717 Q864.639 223.286 864.639 218.749 Q864.639 214.09 861.317 211.619 Q858.036 209.108 851.879 209.108 Q848.516 209.108 844.668 209.837 Q840.82 210.566 836.202 212.106 L836.202 204.814 Q840.86 203.518 844.911 202.869 Q849.003 202.221 852.608 202.221 Q861.925 202.221 867.353 206.475 Q872.781 210.688 872.781 217.898 Q872.781 222.921 869.905 226.405 Q867.029 229.848 861.722 231.185 Z\" fill=\"#000000\" fill-rule=\"nonzero\" fill-opacity=\"1\" /><path clip-path=\"url(#clip450)\" d=\"M891.132 256.909 L904.5 256.909 L904.5 210.769 L889.957 213.685 L889.957 206.232 L904.419 203.315 L912.602 203.315 L912.602 256.909 L925.97 256.909 L925.97 263.795 L891.132 263.795 L891.132 256.909 Z\" fill=\"#000000\" fill-rule=\"nonzero\" fill-opacity=\"1\" /><path clip-path=\"url(#clip450)\" d=\"M862.046 37.2225 Q867.92 38.4783 871.202 42.4482 Q874.523 46.4181 874.523 52.2514 Q874.523 61.2039 868.366 66.1054 Q862.209 71.007 850.866 71.007 Q847.058 71.007 843.007 70.2374 Q838.997 69.5082 834.703 68.0094 L834.703 60.1101 Q838.106 62.095 842.157 63.1078 Q846.207 64.1205 850.623 64.1205 Q858.32 64.1205 862.33 61.0823 Q866.381 58.0441 866.381 52.2514 Q866.381 46.9042 862.614 43.9065 Q858.887 40.8683 852.203 40.8683 L845.154 40.8683 L845.154 34.1438 L852.527 34.1438 Q858.563 34.1438 861.763 31.7538 Q864.963 29.3232 864.963 24.7862 Q864.963 20.1277 861.641 17.6566 Q858.36 15.1451 852.203 15.1451 Q848.841 15.1451 844.992 15.8742 Q841.144 16.6034 836.526 18.1427 L836.526 10.8511 Q841.184 9.55482 845.235 8.90668 Q849.327 8.25853 852.932 8.25853 Q862.249 8.25853 867.677 12.512 Q873.105 16.7249 873.105 23.9355 Q873.105 28.9587 870.229 32.4424 Q867.353 35.8857 862.046 37.2225 Z\" fill=\"#000000\" fill-rule=\"nonzero\" fill-opacity=\"1\" /><path clip-path=\"url(#clip450)\" d=\"M897.087 62.9457 L925.646 62.9457 L925.646 69.8323 L887.243 69.8323 L887.243 62.9457 Q891.902 58.1252 899.922 50.0234 Q907.984 41.881 910.05 39.5315 Q913.979 35.116 915.518 32.0778 Q917.098 28.9992 917.098 26.042 Q917.098 21.2214 913.696 18.1832 Q910.333 15.1451 904.905 15.1451 Q901.057 15.1451 896.763 16.4819 Q892.509 17.8187 887.648 20.5328 L887.648 12.2689 Q892.59 10.284 896.884 9.27126 Q901.178 8.25853 904.743 8.25853 Q914.141 8.25853 919.731 12.9576 Q925.322 17.6566 925.322 25.5154 Q925.322 29.2422 923.904 32.6045 Q922.526 35.9262 918.84 40.4632 Q917.827 41.638 912.399 47.2687 Q906.971 52.859 897.087 62.9457 Z\" fill=\"#000000\" fill-rule=\"nonzero\" fill-opacity=\"1\" /><path clip-path=\"url(#clip450)\" d=\"M1096.08 1394.96 Q1101.95 1396.22 1105.23 1400.19 Q1108.55 1404.16 1108.55 1409.99 Q1108.55 1418.94 1102.4 1423.84 Q1096.24 1428.75 1084.9 1428.75 Q1081.09 1428.75 1077.04 1427.98 Q1073.03 1427.25 1068.73 1425.75 L1068.73 1417.85 Q1072.14 1419.83 1076.19 1420.85 Q1080.24 1421.86 1084.65 1421.86 Q1092.35 1421.86 1096.36 1418.82 Q1100.41 1415.78 1100.41 1409.99 Q1100.41 1404.64 1096.64 1401.65 Q1092.92 1398.61 1086.23 1398.61 L1079.19 1398.61 L1079.19 1391.88 L1086.56 1391.88 Q1092.59 1391.88 1095.79 1389.49 Q1098.99 1387.06 1098.99 1382.53 Q1098.99 1377.87 1095.67 1375.4 Q1092.39 1372.88 1086.23 1372.88 Q1082.87 1372.88 1079.02 1373.61 Q1075.17 1374.34 1070.56 1375.88 L1070.56 1368.59 Q1075.22 1367.29 1079.27 1366.65 Q1083.36 1366 1086.96 1366 Q1096.28 1366 1101.71 1370.25 Q1107.14 1374.46 1107.14 1381.67 Q1107.14 1386.7 1104.26 1390.18 Q1101.38 1393.63 1096.08 1394.96 Z\" fill=\"#000000\" fill-rule=\"nonzero\" fill-opacity=\"1\" /><path clip-path=\"url(#clip450)\" d=\"M1148.86 1394.96 Q1154.73 1396.22 1158.02 1400.19 Q1161.34 1404.16 1161.34 1409.99 Q1161.34 1418.94 1155.18 1423.84 Q1149.02 1428.75 1137.68 1428.75 Q1133.87 1428.75 1129.82 1427.98 Q1125.81 1427.25 1121.52 1425.75 L1121.52 1417.85 Q1124.92 1419.83 1128.97 1420.85 Q1133.02 1421.86 1137.44 1421.86 Q1145.13 1421.86 1149.14 1418.82 Q1153.2 1415.78 1153.2 1409.99 Q1153.2 1404.64 1149.43 1401.65 Q1145.7 1398.61 1139.02 1398.61 L1131.97 1398.61 L1131.97 1391.88 L1139.34 1391.88 Q1145.38 1391.88 1148.58 1389.49 Q1151.78 1387.06 1151.78 1382.53 Q1151.78 1377.87 1148.46 1375.4 Q1145.17 1372.88 1139.02 1372.88 Q1135.65 1372.88 1131.81 1373.61 Q1127.96 1374.34 1123.34 1375.88 L1123.34 1368.59 Q1128 1367.29 1132.05 1366.65 Q1136.14 1366 1139.75 1366 Q1149.06 1366 1154.49 1370.25 Q1159.92 1374.46 1159.92 1381.67 Q1159.92 1386.7 1157.04 1390.18 Q1154.17 1393.63 1148.86 1394.96 Z\" fill=\"#000000\" fill-rule=\"nonzero\" fill-opacity=\"1\" /><path clip-path=\"url(#clip450)\" d=\"M1095.09 1201 Q1100.96 1202.25 1104.24 1206.22 Q1107.56 1210.19 1107.56 1216.03 Q1107.56 1224.98 1101.4 1229.88 Q1095.25 1234.78 1083.9 1234.78 Q1080.1 1234.78 1076.05 1234.01 Q1072.04 1233.28 1067.74 1231.79 L1067.74 1223.89 Q1071.14 1225.87 1075.2 1226.88 Q1079.25 1227.9 1083.66 1227.9 Q1091.36 1227.9 1095.37 1224.86 Q1099.42 1221.82 1099.42 1216.03 Q1099.42 1210.68 1095.65 1207.68 Q1091.93 1204.64 1085.24 1204.64 L1078.19 1204.64 L1078.19 1197.92 L1085.57 1197.92 Q1091.6 1197.92 1094.8 1195.53 Q1098 1193.1 1098 1188.56 Q1098 1183.9 1094.68 1181.43 Q1091.4 1178.92 1085.24 1178.92 Q1081.88 1178.92 1078.03 1179.65 Q1074.18 1180.38 1069.56 1181.92 L1069.56 1174.63 Q1074.22 1173.33 1078.27 1172.68 Q1082.37 1172.04 1085.97 1172.04 Q1095.29 1172.04 1100.72 1176.29 Q1106.14 1180.5 1106.14 1187.71 Q1106.14 1192.74 1103.27 1196.22 Q1100.39 1199.66 1095.09 1201 Z\" fill=\"#000000\" fill-rule=\"nonzero\" fill-opacity=\"1\" /><path clip-path=\"url(#clip450)\" d=\"M1145.56 1180.26 L1124.9 1212.54 L1145.56 1212.54 L1145.56 1180.26 M1143.41 1173.13 L1153.7 1173.13 L1153.7 1212.54 L1162.33 1212.54 L1162.33 1219.35 L1153.7 1219.35 L1153.7 1233.61 L1145.56 1233.61 L1145.56 1219.35 L1118.26 1219.35 L1118.26 1211.45 L1143.41 1173.13 Z\" fill=\"#000000\" fill-rule=\"nonzero\" fill-opacity=\"1\" /><path clip-path=\"url(#clip450)\" d=\"M1096.38 1007.04 Q1102.26 1008.29 1105.54 1012.26 Q1108.86 1016.23 1108.86 1022.07 Q1108.86 1031.02 1102.7 1035.92 Q1096.54 1040.82 1085.2 1040.82 Q1081.39 1040.82 1077.34 1040.05 Q1073.33 1039.32 1069.04 1037.82 L1069.04 1029.92 Q1072.44 1031.91 1076.49 1032.92 Q1080.54 1033.93 1084.96 1033.93 Q1092.65 1033.93 1096.66 1030.9 Q1100.72 1027.86 1100.72 1022.07 Q1100.72 1016.72 1096.95 1013.72 Q1093.22 1010.68 1086.54 1010.68 L1079.49 1010.68 L1079.49 1003.96 L1086.86 1003.96 Q1092.9 1003.96 1096.1 1001.57 Q1099.3 999.137 1099.3 994.6 Q1099.3 989.942 1095.98 987.47 Q1092.7 984.959 1086.54 984.959 Q1083.18 984.959 1079.33 985.688 Q1075.48 986.417 1070.86 987.957 L1070.86 980.665 Q1075.52 979.369 1079.57 978.721 Q1083.66 978.072 1087.27 978.072 Q1096.58 978.072 1102.01 982.326 Q1107.44 986.539 1107.44 993.749 Q1107.44 998.773 1104.56 1002.26 Q1101.69 1005.7 1096.38 1007.04 Z\" fill=\"#000000\" fill-rule=\"nonzero\" fill-opacity=\"1\" /><path clip-path=\"url(#clip450)\" d=\"M1124.45 979.166 L1156.58 979.166 L1156.58 986.053 L1131.95 986.053 L1131.95 1000.88 Q1133.73 1000.27 1135.51 999.988 Q1137.3 999.664 1139.08 999.664 Q1149.21 999.664 1155.12 1005.21 Q1161.03 1010.76 1161.03 1020.24 Q1161.03 1030 1154.96 1035.43 Q1148.88 1040.82 1137.82 1040.82 Q1134.01 1040.82 1130.04 1040.17 Q1126.12 1039.52 1121.9 1038.23 L1121.9 1030 Q1125.55 1031.99 1129.44 1032.96 Q1133.33 1033.93 1137.66 1033.93 Q1144.67 1033.93 1148.76 1030.25 Q1152.85 1026.56 1152.85 1020.24 Q1152.85 1013.92 1148.76 1010.24 Q1144.67 1006.55 1137.66 1006.55 Q1134.38 1006.55 1131.1 1007.28 Q1127.86 1008.01 1124.45 1009.55 L1124.45 979.166 Z\" fill=\"#000000\" fill-rule=\"nonzero\" fill-opacity=\"1\" /><path clip-path=\"url(#clip450)\" d=\"M1095.37 813.074 Q1101.24 814.329 1104.52 818.299 Q1107.85 822.269 1107.85 828.102 Q1107.85 837.055 1101.69 841.957 Q1095.53 846.858 1084.19 846.858 Q1080.38 846.858 1076.33 846.088 Q1072.32 845.359 1068.03 843.86 L1068.03 835.961 Q1071.43 837.946 1075.48 838.959 Q1079.53 839.972 1083.95 839.972 Q1091.64 839.972 1095.65 836.933 Q1099.7 833.895 1099.7 828.102 Q1099.7 822.755 1095.94 819.758 Q1092.21 816.719 1085.52 816.719 L1078.48 816.719 L1078.48 809.995 L1085.85 809.995 Q1091.88 809.995 1095.09 807.605 Q1098.29 805.174 1098.29 800.637 Q1098.29 795.979 1094.96 793.508 Q1091.68 790.996 1085.52 790.996 Q1082.16 790.996 1078.31 791.725 Q1074.47 792.454 1069.85 793.994 L1069.85 786.702 Q1074.51 785.406 1078.56 784.758 Q1082.65 784.11 1086.25 784.11 Q1095.57 784.11 1101 788.363 Q1106.43 792.576 1106.43 799.787 Q1106.43 804.81 1103.55 808.294 Q1100.68 811.737 1095.37 813.074 Z\" fill=\"#000000\" fill-rule=\"nonzero\" fill-opacity=\"1\" /><path clip-path=\"url(#clip450)\" d=\"M1141.87 812.182 Q1136.36 812.182 1133.12 815.95 Q1129.92 819.717 1129.92 826.28 Q1129.92 832.801 1133.12 836.609 Q1136.36 840.377 1141.87 840.377 Q1147.38 840.377 1150.58 836.609 Q1153.82 832.801 1153.82 826.28 Q1153.82 819.717 1150.58 815.95 Q1147.38 812.182 1141.87 812.182 M1158.12 786.54 L1158.12 793.994 Q1155.04 792.536 1151.88 791.766 Q1148.76 790.996 1145.68 790.996 Q1137.58 790.996 1133.29 796.465 Q1129.03 801.934 1128.42 812.993 Q1130.81 809.468 1134.42 807.605 Q1138.02 805.701 1142.36 805.701 Q1151.47 805.701 1156.74 811.251 Q1162.05 816.76 1162.05 826.28 Q1162.05 835.597 1156.54 841.227 Q1151.03 846.858 1141.87 846.858 Q1131.38 846.858 1125.83 838.837 Q1120.28 830.776 1120.28 815.504 Q1120.28 801.164 1127.09 792.657 Q1133.89 784.11 1145.36 784.11 Q1148.44 784.11 1151.55 784.717 Q1154.71 785.325 1158.12 786.54 Z\" fill=\"#000000\" fill-rule=\"nonzero\" fill-opacity=\"1\" /><path clip-path=\"url(#clip450)\" d=\"M1096.3 619.111 Q1102.17 620.367 1105.46 624.336 Q1108.78 628.306 1108.78 634.14 Q1108.78 643.092 1102.62 647.994 Q1096.46 652.895 1085.12 652.895 Q1081.31 652.895 1077.26 652.126 Q1073.25 651.397 1068.96 649.898 L1068.96 641.998 Q1072.36 643.983 1076.41 644.996 Q1080.46 646.009 1084.88 646.009 Q1092.57 646.009 1096.58 642.971 Q1100.63 639.932 1100.63 634.14 Q1100.63 628.792 1096.87 625.795 Q1093.14 622.757 1086.46 622.757 L1079.41 622.757 L1079.41 616.032 L1086.78 616.032 Q1092.82 616.032 1096.02 613.642 Q1099.22 611.212 1099.22 606.675 Q1099.22 602.016 1095.9 599.545 Q1092.61 597.033 1086.46 597.033 Q1083.09 597.033 1079.25 597.763 Q1075.4 598.492 1070.78 600.031 L1070.78 592.739 Q1075.44 591.443 1079.49 590.795 Q1083.58 590.147 1087.19 590.147 Q1096.5 590.147 1101.93 594.4 Q1107.36 598.613 1107.36 605.824 Q1107.36 610.847 1104.48 614.331 Q1101.61 617.774 1096.3 619.111 Z\" fill=\"#000000\" fill-rule=\"nonzero\" fill-opacity=\"1\" /><path clip-path=\"url(#clip450)\" d=\"M1122.23 591.241 L1161.11 591.241 L1161.11 594.724 L1139.16 651.721 L1130.61 651.721 L1151.27 598.127 L1122.23 598.127 L1122.23 591.241 Z\" fill=\"#000000\" fill-rule=\"nonzero\" fill-opacity=\"1\" /><path clip-path=\"url(#clip450)\" d=\"M1095.59 425.148 Q1101.47 426.404 1104.75 430.374 Q1108.07 434.344 1108.07 440.177 Q1108.07 449.129 1101.91 454.031 Q1095.75 458.933 1084.41 458.933 Q1080.6 458.933 1076.55 458.163 Q1072.54 457.434 1068.25 455.935 L1068.25 448.036 Q1071.65 450.021 1075.7 451.033 Q1079.75 452.046 1084.17 452.046 Q1091.86 452.046 1095.88 449.008 Q1099.93 445.97 1099.93 440.177 Q1099.93 434.83 1096.16 431.832 Q1092.43 428.794 1085.75 428.794 L1078.7 428.794 L1078.7 422.069 L1086.07 422.069 Q1092.11 422.069 1095.31 419.679 Q1098.51 417.249 1098.51 412.712 Q1098.51 408.053 1095.19 405.582 Q1091.91 403.071 1085.75 403.071 Q1082.39 403.071 1078.54 403.8 Q1074.69 404.529 1070.07 406.068 L1070.07 398.777 Q1074.73 397.48 1078.78 396.832 Q1082.87 396.184 1086.48 396.184 Q1095.79 396.184 1101.22 400.438 Q1106.65 404.65 1106.65 411.861 Q1106.65 416.884 1103.77 420.368 Q1100.9 423.811 1095.59 425.148 Z\" fill=\"#000000\" fill-rule=\"nonzero\" fill-opacity=\"1\" /><path clip-path=\"url(#clip450)\" d=\"M1141.08 429.037 Q1135.25 429.037 1131.89 432.156 Q1128.57 435.275 1128.57 440.744 Q1128.57 446.213 1131.89 449.332 Q1135.25 452.451 1141.08 452.451 Q1146.92 452.451 1150.28 449.332 Q1153.64 446.172 1153.64 440.744 Q1153.64 435.275 1150.28 432.156 Q1146.96 429.037 1141.08 429.037 M1132.9 425.553 Q1127.63 424.257 1124.68 420.652 Q1121.76 417.046 1121.76 411.861 Q1121.76 404.61 1126.9 400.397 Q1132.09 396.184 1141.08 396.184 Q1150.12 396.184 1155.26 400.397 Q1160.41 404.61 1160.41 411.861 Q1160.41 417.046 1157.45 420.652 Q1154.53 424.257 1149.31 425.553 Q1155.22 426.93 1158.5 430.941 Q1161.82 434.951 1161.82 440.744 Q1161.82 449.534 1156.44 454.234 Q1151.09 458.933 1141.08 458.933 Q1131.08 458.933 1125.69 454.234 Q1120.34 449.534 1120.34 440.744 Q1120.34 434.951 1123.66 430.941 Q1126.99 426.93 1132.9 425.553 M1129.9 412.631 Q1129.9 417.33 1132.82 419.963 Q1135.78 422.596 1141.08 422.596 Q1146.35 422.596 1149.31 419.963 Q1152.3 417.33 1152.3 412.631 Q1152.3 407.932 1149.31 405.299 Q1146.35 402.666 1141.08 402.666 Q1135.78 402.666 1132.82 405.299 Q1129.9 407.932 1129.9 412.631 Z\" fill=\"#000000\" fill-rule=\"nonzero\" fill-opacity=\"1\" /><path clip-path=\"url(#clip450)\" d=\"M1095.67 231.185 Q1101.55 232.441 1104.83 236.411 Q1108.15 240.381 1108.15 246.214 Q1108.15 255.167 1101.99 260.068 Q1095.83 264.97 1084.49 264.97 Q1080.68 264.97 1076.63 264.2 Q1072.62 263.471 1068.33 261.972 L1068.33 254.073 Q1071.73 256.058 1075.78 257.071 Q1079.83 258.083 1084.25 258.083 Q1091.95 258.083 1095.96 255.045 Q1100.01 252.007 1100.01 246.214 Q1100.01 240.867 1096.24 237.869 Q1092.51 234.831 1085.83 234.831 L1078.78 234.831 L1078.78 228.107 L1086.15 228.107 Q1092.19 228.107 1095.39 225.717 Q1098.59 223.286 1098.59 218.749 Q1098.59 214.09 1095.27 211.619 Q1091.99 209.108 1085.83 209.108 Q1082.47 209.108 1078.62 209.837 Q1074.77 210.566 1070.15 212.106 L1070.15 204.814 Q1074.81 203.518 1078.86 202.869 Q1082.95 202.221 1086.56 202.221 Q1095.88 202.221 1101.3 206.475 Q1106.73 210.688 1106.73 217.898 Q1106.73 222.921 1103.86 226.405 Q1100.98 229.848 1095.67 231.185 Z\" fill=\"#000000\" fill-rule=\"nonzero\" fill-opacity=\"1\" /><path clip-path=\"url(#clip450)\" d=\"M1123.91 262.539 L1123.91 255.086 Q1126.99 256.544 1130.15 257.314 Q1133.31 258.083 1136.34 258.083 Q1144.45 258.083 1148.7 252.655 Q1152.99 247.186 1153.6 236.087 Q1151.25 239.571 1147.65 241.434 Q1144.04 243.297 1139.67 243.297 Q1130.59 243.297 1125.28 237.829 Q1120.02 232.32 1120.02 222.8 Q1120.02 213.483 1125.53 207.852 Q1131.04 202.221 1140.19 202.221 Q1150.68 202.221 1156.19 210.283 Q1161.74 218.303 1161.74 233.616 Q1161.74 247.916 1154.94 256.463 Q1148.17 264.97 1136.71 264.97 Q1133.63 264.97 1130.47 264.362 Q1127.31 263.755 1123.91 262.539 M1140.19 236.897 Q1145.7 236.897 1148.9 233.13 Q1152.14 229.362 1152.14 222.8 Q1152.14 216.278 1148.9 212.511 Q1145.7 208.703 1140.19 208.703 Q1134.68 208.703 1131.44 212.511 Q1128.24 216.278 1128.24 222.8 Q1128.24 229.362 1131.44 233.13 Q1134.68 236.897 1140.19 236.897 Z\" fill=\"#000000\" fill-rule=\"nonzero\" fill-opacity=\"1\" /><path clip-path=\"url(#clip450)\" d=\"M1094.34 16.4819 L1073.68 48.7676 L1094.34 48.7676 L1094.34 16.4819 M1092.19 9.35228 L1102.48 9.35228 L1102.48 48.7676 L1111.11 48.7676 L1111.11 55.5731 L1102.48 55.5731 L1102.48 69.8323 L1094.34 69.8323 L1094.34 55.5731 L1067.03 55.5731 L1067.03 47.6738 L1092.19 9.35228 Z\" fill=\"#000000\" fill-rule=\"nonzero\" fill-opacity=\"1\" /><path clip-path=\"url(#clip450)\" d=\"M1142.14 14.74 Q1135.82 14.74 1132.62 20.9784 Q1129.46 27.1763 1129.46 39.653 Q1129.46 52.0893 1132.62 58.3277 Q1135.82 64.5256 1142.14 64.5256 Q1148.5 64.5256 1151.66 58.3277 Q1154.86 52.0893 1154.86 39.653 Q1154.86 27.1763 1151.66 20.9784 Q1148.5 14.74 1142.14 14.74 M1142.14 8.25853 Q1152.3 8.25853 1157.65 16.3198 Q1163.04 24.3406 1163.04 39.653 Q1163.04 54.9249 1157.65 62.9862 Q1152.3 71.007 1142.14 71.007 Q1131.97 71.007 1126.58 62.9862 Q1121.23 54.9249 1121.23 39.653 Q1121.23 24.3406 1126.58 16.3198 Q1131.97 8.25853 1142.14 8.25853 Z\" fill=\"#000000\" fill-rule=\"nonzero\" fill-opacity=\"1\" /><path clip-path=\"url(#clip450)\" d=\"M1330.27 1374.22 L1309.61 1406.51 L1330.27 1406.51 L1330.27 1374.22 M1328.12 1367.09 L1338.41 1367.09 L1338.41 1406.51 L1347.04 1406.51 L1347.04 1413.31 L1338.41 1413.31 L1338.41 1427.57 L1330.27 1427.57 L1330.27 1413.31 L1302.97 1413.31 L1302.97 1405.41 L1328.12 1367.09 Z\" fill=\"#000000\" fill-rule=\"nonzero\" fill-opacity=\"1\" /><path clip-path=\"url(#clip450)\" d=\"M1361.99 1420.69 L1375.36 1420.69 L1375.36 1374.55 L1360.81 1377.46 L1360.81 1370.01 L1375.28 1367.09 L1383.46 1367.09 L1383.46 1420.69 L1396.83 1420.69 L1396.83 1427.57 L1361.99 1427.57 L1361.99 1420.69 Z\" fill=\"#000000\" fill-rule=\"nonzero\" fill-opacity=\"1\" /><path clip-path=\"url(#clip450)\" d=\"M1330.59 1180.26 L1309.94 1212.54 L1330.59 1212.54 L1330.59 1180.26 M1328.45 1173.13 L1338.74 1173.13 L1338.74 1212.54 L1347.37 1212.54 L1347.37 1219.35 L1338.74 1219.35 L1338.74 1233.61 L1330.59 1233.61 L1330.59 1219.35 L1303.29 1219.35 L1303.29 1211.45 L1328.45 1173.13 Z\" fill=\"#000000\" fill-rule=\"nonzero\" fill-opacity=\"1\" /><path clip-path=\"url(#clip450)\" d=\"M1367.94 1226.72 L1396.5 1226.72 L1396.5 1233.61 L1358.1 1233.61 L1358.1 1226.72 Q1362.76 1221.9 1370.78 1213.8 Q1378.84 1205.66 1380.91 1203.31 Q1384.84 1198.89 1386.38 1195.85 Q1387.96 1192.78 1387.96 1189.82 Q1387.96 1185 1384.55 1181.96 Q1381.19 1178.92 1375.76 1178.92 Q1371.91 1178.92 1367.62 1180.26 Q1363.37 1181.6 1358.51 1184.31 L1358.51 1176.05 Q1363.45 1174.06 1367.74 1173.05 Q1372.04 1172.04 1375.6 1172.04 Q1385 1172.04 1390.59 1176.73 Q1396.18 1181.43 1396.18 1189.29 Q1396.18 1193.02 1394.76 1196.38 Q1393.38 1199.7 1389.7 1204.24 Q1388.68 1205.41 1383.26 1211.05 Q1377.83 1216.64 1367.94 1226.72 Z\" fill=\"#000000\" fill-rule=\"nonzero\" fill-opacity=\"1\" /><path clip-path=\"url(#clip450)\" d=\"M1329.76 986.296 L1309.1 1018.58 L1329.76 1018.58 L1329.76 986.296 M1327.62 979.166 L1337.91 979.166 L1337.91 1018.58 L1346.54 1018.58 L1346.54 1025.39 L1337.91 1025.39 L1337.91 1039.65 L1329.76 1039.65 L1329.76 1025.39 L1302.46 1025.39 L1302.46 1017.49 L1327.62 979.166 Z\" fill=\"#000000\" fill-rule=\"nonzero\" fill-opacity=\"1\" /><path clip-path=\"url(#clip450)\" d=\"M1384.86 1007.04 Q1390.73 1008.29 1394.01 1012.26 Q1397.33 1016.23 1397.33 1022.07 Q1397.33 1031.02 1391.18 1035.92 Q1385.02 1040.82 1373.68 1040.82 Q1369.87 1040.82 1365.82 1040.05 Q1361.81 1039.32 1357.51 1037.82 L1357.51 1029.92 Q1360.92 1031.91 1364.97 1032.92 Q1369.02 1033.93 1373.43 1033.93 Q1381.13 1033.93 1385.14 1030.9 Q1389.19 1027.86 1389.19 1022.07 Q1389.19 1016.72 1385.42 1013.72 Q1381.7 1010.68 1375.01 1010.68 L1367.96 1010.68 L1367.96 1003.96 L1375.34 1003.96 Q1381.37 1003.96 1384.57 1001.57 Q1387.77 999.137 1387.77 994.6 Q1387.77 989.942 1384.45 987.47 Q1381.17 984.959 1375.01 984.959 Q1371.65 984.959 1367.8 985.688 Q1363.95 986.417 1359.34 987.957 L1359.34 980.665 Q1363.99 979.369 1368.05 978.721 Q1372.14 978.072 1375.74 978.072 Q1385.06 978.072 1390.49 982.326 Q1395.92 986.539 1395.92 993.749 Q1395.92 998.773 1393.04 1002.26 Q1390.16 1005.7 1384.86 1007.04 Z\" fill=\"#000000\" fill-rule=\"nonzero\" fill-opacity=\"1\" /><path clip-path=\"url(#clip450)\" d=\"M1328.77 792.333 L1308.11 824.619 L1328.77 824.619 L1328.77 792.333 M1326.62 785.203 L1336.91 785.203 L1336.91 824.619 L1345.54 824.619 L1345.54 831.424 L1336.91 831.424 L1336.91 845.683 L1328.77 845.683 L1328.77 831.424 L1301.47 831.424 L1301.47 823.525 L1326.62 785.203 Z\" fill=\"#000000\" fill-rule=\"nonzero\" fill-opacity=\"1\" /><path clip-path=\"url(#clip450)\" d=\"M1381.56 792.333 L1360.9 824.619 L1381.56 824.619 L1381.56 792.333 M1379.41 785.203 L1389.7 785.203 L1389.7 824.619 L1398.33 824.619 L1398.33 831.424 L1389.7 831.424 L1389.7 845.683 L1381.56 845.683 L1381.56 831.424 L1354.25 831.424 L1354.25 823.525 L1379.41 785.203 Z\" fill=\"#000000\" fill-rule=\"nonzero\" fill-opacity=\"1\" /><path clip-path=\"url(#clip450)\" d=\"M1330.07 598.37 L1309.41 630.656 L1330.07 630.656 L1330.07 598.37 M1327.92 591.241 L1338.21 591.241 L1338.21 630.656 L1346.84 630.656 L1346.84 637.461 L1338.21 637.461 L1338.21 651.721 L1330.07 651.721 L1330.07 637.461 L1302.77 637.461 L1302.77 629.562 L1327.92 591.241 Z\" fill=\"#000000\" fill-rule=\"nonzero\" fill-opacity=\"1\" /><path clip-path=\"url(#clip450)\" d=\"M1360.45 591.241 L1392.57 591.241 L1392.57 598.127 L1367.94 598.127 L1367.94 612.953 Q1369.73 612.346 1371.51 612.062 Q1373.29 611.738 1375.07 611.738 Q1385.2 611.738 1391.12 617.288 Q1397.03 622.838 1397.03 632.317 Q1397.03 642.079 1390.95 647.508 Q1384.88 652.895 1373.82 652.895 Q1370.01 652.895 1366.04 652.247 Q1362.11 651.599 1357.9 650.303 L1357.9 642.079 Q1361.54 644.064 1365.43 645.037 Q1369.32 646.009 1373.66 646.009 Q1380.66 646.009 1384.76 642.322 Q1388.85 638.636 1388.85 632.317 Q1388.85 625.997 1384.76 622.311 Q1380.66 618.625 1373.66 618.625 Q1370.37 618.625 1367.09 619.354 Q1363.85 620.083 1360.45 621.622 L1360.45 591.241 Z\" fill=\"#000000\" fill-rule=\"nonzero\" fill-opacity=\"1\" /><path clip-path=\"url(#clip450)\" d=\"M1329.06 404.407 L1308.4 436.693 L1329.06 436.693 L1329.06 404.407 M1326.91 397.278 L1337.2 397.278 L1337.2 436.693 L1345.83 436.693 L1345.83 443.499 L1337.2 443.499 L1337.2 457.758 L1329.06 457.758 L1329.06 443.499 L1301.75 443.499 L1301.75 435.599 L1326.91 397.278 Z\" fill=\"#000000\" fill-rule=\"nonzero\" fill-opacity=\"1\" /><path clip-path=\"url(#clip450)\" d=\"M1377.87 424.257 Q1372.36 424.257 1369.12 428.024 Q1365.92 431.792 1365.92 438.354 Q1365.92 444.876 1369.12 448.684 Q1372.36 452.451 1377.87 452.451 Q1383.38 452.451 1386.58 448.684 Q1389.82 444.876 1389.82 438.354 Q1389.82 431.792 1386.58 428.024 Q1383.38 424.257 1377.87 424.257 M1394.11 398.615 L1394.11 406.068 Q1391.03 404.61 1387.87 403.84 Q1384.76 403.071 1381.68 403.071 Q1373.57 403.071 1369.28 408.539 Q1365.03 414.008 1364.42 425.067 Q1366.81 421.543 1370.42 419.679 Q1374.02 417.775 1378.35 417.775 Q1387.47 417.775 1392.74 423.325 Q1398.04 428.834 1398.04 438.354 Q1398.04 447.671 1392.53 453.302 Q1387.02 458.933 1377.87 458.933 Q1367.38 458.933 1361.83 450.912 Q1356.28 442.85 1356.28 427.579 Q1356.28 413.238 1363.08 404.731 Q1369.89 396.184 1381.35 396.184 Q1384.43 396.184 1387.55 396.792 Q1390.71 397.399 1394.11 398.615 Z\" fill=\"#000000\" fill-rule=\"nonzero\" fill-opacity=\"1\" /><path clip-path=\"url(#clip450)\" d=\"M1329.99 210.445 L1309.33 242.73 L1329.99 242.73 L1329.99 210.445 M1327.84 203.315 L1338.13 203.315 L1338.13 242.73 L1346.76 242.73 L1346.76 249.536 L1338.13 249.536 L1338.13 263.795 L1329.99 263.795 L1329.99 249.536 L1302.68 249.536 L1302.68 241.637 L1327.84 203.315 Z\" fill=\"#000000\" fill-rule=\"nonzero\" fill-opacity=\"1\" /><path clip-path=\"url(#clip450)\" d=\"M1358.22 203.315 L1397.11 203.315 L1397.11 206.799 L1375.15 263.795 L1366.61 263.795 L1387.27 210.202 L1358.22 210.202 L1358.22 203.315 Z\" fill=\"#000000\" fill-rule=\"nonzero\" fill-opacity=\"1\" /><path clip-path=\"url(#clip450)\" d=\"M1329.28 16.4819 L1308.62 48.7676 L1329.28 48.7676 L1329.28 16.4819 M1327.13 9.35228 L1337.42 9.35228 L1337.42 48.7676 L1346.05 48.7676 L1346.05 55.5731 L1337.42 55.5731 L1337.42 69.8323 L1329.28 69.8323 L1329.28 55.5731 L1301.98 55.5731 L1301.98 47.6738 L1327.13 9.35228 Z\" fill=\"#000000\" fill-rule=\"nonzero\" fill-opacity=\"1\" /><path clip-path=\"url(#clip450)\" d=\"M1377.08 41.1114 Q1371.25 41.1114 1367.88 44.2306 Q1364.56 47.3498 1364.56 52.8185 Q1364.56 58.2872 1367.88 61.4064 Q1371.25 64.5256 1377.08 64.5256 Q1382.91 64.5256 1386.27 61.4064 Q1389.64 58.2467 1389.64 52.8185 Q1389.64 47.3498 1386.27 44.2306 Q1382.95 41.1114 1377.08 41.1114 M1368.9 37.6276 Q1363.63 36.3313 1360.67 32.726 Q1357.76 29.1207 1357.76 23.9355 Q1357.76 16.6844 1362.9 12.4715 Q1368.09 8.25853 1377.08 8.25853 Q1386.11 8.25853 1391.26 12.4715 Q1396.4 16.6844 1396.4 23.9355 Q1396.4 29.1207 1393.44 32.726 Q1390.53 36.3313 1385.3 37.6276 Q1391.22 39.0049 1394.5 43.0153 Q1397.82 47.0257 1397.82 52.8185 Q1397.82 61.6089 1392.43 66.308 Q1387.08 71.007 1377.08 71.007 Q1367.07 71.007 1361.69 66.308 Q1356.34 61.6089 1356.34 52.8185 Q1356.34 47.0257 1359.66 43.0153 Q1362.98 39.0049 1368.9 37.6276 M1365.9 24.7052 Q1365.9 29.4043 1368.82 32.0373 Q1371.77 34.6704 1377.08 34.6704 Q1382.35 34.6704 1385.3 32.0373 Q1388.3 29.4043 1388.3 24.7052 Q1388.3 20.0062 1385.3 17.3731 Q1382.35 14.74 1377.08 14.74 Q1371.77 14.74 1368.82 17.3731 Q1365.9 20.0062 1365.9 24.7052 Z\" fill=\"#000000\" fill-rule=\"nonzero\" fill-opacity=\"1\" /><path clip-path=\"url(#clip450)\" d=\"M1564.22 1374.22 L1543.56 1406.51 L1564.22 1406.51 L1564.22 1374.22 M1562.07 1367.09 L1572.36 1367.09 L1572.36 1406.51 L1580.99 1406.51 L1580.99 1413.31 L1572.36 1413.31 L1572.36 1427.57 L1564.22 1427.57 L1564.22 1413.31 L1536.92 1413.31 L1536.92 1405.41 L1562.07 1367.09 Z\" fill=\"#000000\" fill-rule=\"nonzero\" fill-opacity=\"1\" /><path clip-path=\"url(#clip450)\" d=\"M1594.76 1426.32 L1594.76 1418.86 Q1597.84 1420.32 1601 1421.09 Q1604.16 1421.86 1607.2 1421.86 Q1615.3 1421.86 1619.56 1416.43 Q1623.85 1410.96 1624.46 1399.86 Q1622.11 1403.35 1618.5 1405.21 Q1614.9 1407.07 1610.52 1407.07 Q1601.45 1407.07 1596.14 1401.61 Q1590.88 1396.1 1590.88 1386.58 Q1590.88 1377.26 1596.38 1371.63 Q1601.89 1366 1611.05 1366 Q1621.54 1366 1627.05 1374.06 Q1632.6 1382.08 1632.6 1397.39 Q1632.6 1411.69 1625.79 1420.24 Q1619.03 1428.75 1607.57 1428.75 Q1604.49 1428.75 1601.33 1428.14 Q1598.17 1427.53 1594.76 1426.32 M1611.05 1400.67 Q1616.56 1400.67 1619.76 1396.91 Q1623 1393.14 1623 1386.58 Q1623 1380.05 1619.76 1376.29 Q1616.56 1372.48 1611.05 1372.48 Q1605.54 1372.48 1602.3 1376.29 Q1599.1 1380.05 1599.1 1386.58 Q1599.1 1393.14 1602.3 1396.91 Q1605.54 1400.67 1611.05 1400.67 Z\" fill=\"#000000\" fill-rule=\"nonzero\" fill-opacity=\"1\" /><path clip-path=\"url(#clip450)\" d=\"M1540.48 1173.13 L1572.61 1173.13 L1572.61 1180.02 L1547.98 1180.02 L1547.98 1194.84 Q1549.76 1194.23 1551.54 1193.95 Q1553.32 1193.63 1555.11 1193.63 Q1565.23 1193.63 1571.15 1199.18 Q1577.06 1204.73 1577.06 1214.21 Q1577.06 1223.97 1570.99 1229.4 Q1564.91 1234.78 1553.85 1234.78 Q1550.04 1234.78 1546.07 1234.14 Q1542.14 1233.49 1537.93 1232.19 L1537.93 1223.97 Q1541.58 1225.95 1545.47 1226.92 Q1549.35 1227.9 1553.69 1227.9 Q1560.7 1227.9 1564.79 1224.21 Q1568.88 1220.52 1568.88 1214.21 Q1568.88 1207.89 1564.79 1204.2 Q1560.7 1200.51 1553.69 1200.51 Q1550.41 1200.51 1547.13 1201.24 Q1543.89 1201.97 1540.48 1203.51 L1540.48 1173.13 Z\" fill=\"#000000\" fill-rule=\"nonzero\" fill-opacity=\"1\" /><path clip-path=\"url(#clip450)\" d=\"M1610.68 1178.52 Q1604.37 1178.52 1601.16 1184.76 Q1598.01 1190.95 1598.01 1203.43 Q1598.01 1215.87 1601.16 1222.1 Q1604.37 1228.3 1610.68 1228.3 Q1617.04 1228.3 1620.2 1222.1 Q1623.4 1215.87 1623.4 1203.43 Q1623.4 1190.95 1620.2 1184.76 Q1617.04 1178.52 1610.68 1178.52 M1610.68 1172.04 Q1620.85 1172.04 1626.2 1180.1 Q1631.59 1188.12 1631.59 1203.43 Q1631.59 1218.7 1626.2 1226.76 Q1620.85 1234.78 1610.68 1234.78 Q1600.52 1234.78 1595.13 1226.76 Q1589.78 1218.7 1589.78 1203.43 Q1589.78 1188.12 1595.13 1180.1 Q1600.52 1172.04 1610.68 1172.04 Z\" fill=\"#000000\" fill-rule=\"nonzero\" fill-opacity=\"1\" /><path clip-path=\"url(#clip450)\" d=\"M1541.56 979.166 L1573.68 979.166 L1573.68 986.053 L1549.05 986.053 L1549.05 1000.88 Q1550.83 1000.27 1552.61 999.988 Q1554.4 999.664 1556.18 999.664 Q1566.31 999.664 1572.22 1005.21 Q1578.14 1010.76 1578.14 1020.24 Q1578.14 1030 1572.06 1035.43 Q1565.98 1040.82 1554.92 1040.82 Q1551.12 1040.82 1547.15 1040.17 Q1543.22 1039.52 1539 1038.23 L1539 1030 Q1542.65 1031.99 1546.54 1032.96 Q1550.43 1033.93 1554.76 1033.93 Q1561.77 1033.93 1565.86 1030.25 Q1569.95 1026.56 1569.95 1020.24 Q1569.95 1013.92 1565.86 1010.24 Q1561.77 1006.55 1554.76 1006.55 Q1551.48 1006.55 1548.2 1007.28 Q1544.96 1008.01 1541.56 1009.55 L1541.56 979.166 Z\" fill=\"#000000\" fill-rule=\"nonzero\" fill-opacity=\"1\" /><path clip-path=\"url(#clip450)\" d=\"M1595.68 1032.76 L1609.04 1032.76 L1609.04 986.62 L1594.5 989.536 L1594.5 982.083 L1608.96 979.166 L1617.15 979.166 L1617.15 1032.76 L1630.51 1032.76 L1630.51 1039.65 L1595.68 1039.65 L1595.68 1032.76 Z\" fill=\"#000000\" fill-rule=\"nonzero\" fill-opacity=\"1\" /><path clip-path=\"url(#clip450)\" d=\"M1541.88 785.203 L1574 785.203 L1574 792.09 L1549.37 792.09 L1549.37 806.916 Q1551.16 806.309 1552.94 806.025 Q1554.72 805.701 1556.5 805.701 Q1566.63 805.701 1572.55 811.251 Q1578.46 816.8 1578.46 826.28 Q1578.46 836.042 1572.38 841.47 Q1566.31 846.858 1555.25 846.858 Q1551.44 846.858 1547.47 846.21 Q1543.54 845.562 1539.33 844.266 L1539.33 836.042 Q1542.97 838.027 1546.86 838.999 Q1550.75 839.972 1555.09 839.972 Q1562.09 839.972 1566.19 836.285 Q1570.28 832.599 1570.28 826.28 Q1570.28 819.96 1566.19 816.274 Q1562.09 812.587 1555.09 812.587 Q1551.8 812.587 1548.52 813.317 Q1545.28 814.046 1541.88 815.585 L1541.88 785.203 Z\" fill=\"#000000\" fill-rule=\"nonzero\" fill-opacity=\"1\" /><path clip-path=\"url(#clip450)\" d=\"M1601.63 838.797 L1630.19 838.797 L1630.19 845.683 L1591.79 845.683 L1591.79 838.797 Q1596.45 833.976 1604.47 825.874 Q1612.53 817.732 1614.59 815.383 Q1618.52 810.967 1620.06 807.929 Q1621.64 804.85 1621.64 801.893 Q1621.64 797.073 1618.24 794.034 Q1614.88 790.996 1609.45 790.996 Q1605.6 790.996 1601.31 792.333 Q1597.05 793.67 1592.19 796.384 L1592.19 788.12 Q1597.13 786.135 1601.43 785.122 Q1605.72 784.11 1609.29 784.11 Q1618.69 784.11 1624.28 788.809 Q1629.87 793.508 1629.87 801.366 Q1629.87 805.093 1628.45 808.456 Q1627.07 811.777 1623.38 816.314 Q1622.37 817.489 1616.94 823.12 Q1611.52 828.71 1601.63 838.797 Z\" fill=\"#000000\" fill-rule=\"nonzero\" fill-opacity=\"1\" /><path clip-path=\"url(#clip450)\" d=\"M1541.05 591.241 L1573.17 591.241 L1573.17 598.127 L1548.54 598.127 L1548.54 612.953 Q1550.33 612.346 1552.11 612.062 Q1553.89 611.738 1555.67 611.738 Q1565.8 611.738 1571.71 617.288 Q1577.63 622.838 1577.63 632.317 Q1577.63 642.079 1571.55 647.508 Q1565.48 652.895 1554.42 652.895 Q1550.61 652.895 1546.64 652.247 Q1542.71 651.599 1538.5 650.303 L1538.5 642.079 Q1542.14 644.064 1546.03 645.037 Q1549.92 646.009 1554.26 646.009 Q1561.26 646.009 1565.35 642.322 Q1569.45 638.636 1569.45 632.317 Q1569.45 625.997 1565.35 622.311 Q1561.26 618.625 1554.26 618.625 Q1550.97 618.625 1547.69 619.354 Q1544.45 620.083 1541.05 621.622 L1541.05 591.241 Z\" fill=\"#000000\" fill-rule=\"nonzero\" fill-opacity=\"1\" /><path clip-path=\"url(#clip450)\" d=\"M1618.54 619.111 Q1624.42 620.367 1627.7 624.336 Q1631.02 628.306 1631.02 634.14 Q1631.02 643.092 1624.86 647.994 Q1618.71 652.895 1607.36 652.895 Q1603.55 652.895 1599.5 652.126 Q1595.49 651.397 1591.2 649.898 L1591.2 641.998 Q1594.6 643.983 1598.65 644.996 Q1602.7 646.009 1607.12 646.009 Q1614.82 646.009 1618.83 642.971 Q1622.88 639.932 1622.88 634.14 Q1622.88 628.792 1619.11 625.795 Q1615.38 622.757 1608.7 622.757 L1601.65 622.757 L1601.65 616.032 L1609.02 616.032 Q1615.06 616.032 1618.26 613.642 Q1621.46 611.212 1621.46 606.675 Q1621.46 602.016 1618.14 599.545 Q1614.86 597.033 1608.7 597.033 Q1605.34 597.033 1601.49 597.763 Q1597.64 598.492 1593.02 600.031 L1593.02 592.739 Q1597.68 591.443 1601.73 590.795 Q1605.82 590.147 1609.43 590.147 Q1618.75 590.147 1624.17 594.4 Q1629.6 598.613 1629.6 605.824 Q1629.6 610.847 1626.73 614.331 Q1623.85 617.774 1618.54 619.111 Z\" fill=\"#000000\" fill-rule=\"nonzero\" fill-opacity=\"1\" /><path clip-path=\"url(#clip450)\" d=\"M1540.06 397.278 L1572.18 397.278 L1572.18 404.164 L1547.55 404.164 L1547.55 418.991 Q1549.33 418.383 1551.12 418.099 Q1552.9 417.775 1554.68 417.775 Q1564.81 417.775 1570.72 423.325 Q1576.64 428.875 1576.64 438.354 Q1576.64 448.117 1570.56 453.545 Q1564.48 458.933 1553.43 458.933 Q1549.62 458.933 1545.65 458.284 Q1541.72 457.636 1537.5 456.34 L1537.5 448.117 Q1541.15 450.102 1545.04 451.074 Q1548.93 452.046 1553.26 452.046 Q1560.27 452.046 1564.36 448.36 Q1568.45 444.673 1568.45 438.354 Q1568.45 432.035 1564.36 428.348 Q1560.27 424.662 1553.26 424.662 Q1549.98 424.662 1546.7 425.391 Q1543.46 426.12 1540.06 427.66 L1540.06 397.278 Z\" fill=\"#000000\" fill-rule=\"nonzero\" fill-opacity=\"1\" /><path clip-path=\"url(#clip450)\" d=\"M1615.24 404.407 L1594.58 436.693 L1615.24 436.693 L1615.24 404.407 M1613.09 397.278 L1623.38 397.278 L1623.38 436.693 L1632.01 436.693 L1632.01 443.499 L1623.38 443.499 L1623.38 457.758 L1615.24 457.758 L1615.24 443.499 L1587.94 443.499 L1587.94 435.599 L1613.09 397.278 Z\" fill=\"#000000\" fill-rule=\"nonzero\" fill-opacity=\"1\" /><path clip-path=\"url(#clip450)\" d=\"M1541.35 203.315 L1573.48 203.315 L1573.48 210.202 L1548.85 210.202 L1548.85 225.028 Q1550.63 224.42 1552.41 224.137 Q1554.19 223.813 1555.98 223.813 Q1566.1 223.813 1572.02 229.362 Q1577.93 234.912 1577.93 244.391 Q1577.93 254.154 1571.86 259.582 Q1565.78 264.97 1554.72 264.97 Q1550.91 264.97 1546.94 264.322 Q1543.01 263.674 1538.8 262.377 L1538.8 254.154 Q1542.45 256.139 1546.34 257.111 Q1550.22 258.083 1554.56 258.083 Q1561.57 258.083 1565.66 254.397 Q1569.75 250.711 1569.75 244.391 Q1569.75 238.072 1565.66 234.385 Q1561.57 230.699 1554.56 230.699 Q1551.28 230.699 1548 231.428 Q1544.76 232.157 1541.35 233.697 L1541.35 203.315 Z\" fill=\"#000000\" fill-rule=\"nonzero\" fill-opacity=\"1\" /><path clip-path=\"url(#clip450)\" d=\"M1594.14 203.315 L1626.26 203.315 L1626.26 210.202 L1601.63 210.202 L1601.63 225.028 Q1603.41 224.42 1605.2 224.137 Q1606.98 223.813 1608.76 223.813 Q1618.89 223.813 1624.8 229.362 Q1630.72 234.912 1630.72 244.391 Q1630.72 254.154 1624.64 259.582 Q1618.56 264.97 1607.5 264.97 Q1603.7 264.97 1599.73 264.322 Q1595.8 263.674 1591.58 262.377 L1591.58 254.154 Q1595.23 256.139 1599.12 257.111 Q1603.01 258.083 1607.34 258.083 Q1614.35 258.083 1618.44 254.397 Q1622.53 250.711 1622.53 244.391 Q1622.53 238.072 1618.44 234.385 Q1614.35 230.699 1607.34 230.699 Q1604.06 230.699 1600.78 231.428 Q1597.54 232.157 1594.14 233.697 L1594.14 203.315 Z\" fill=\"#000000\" fill-rule=\"nonzero\" fill-opacity=\"1\" /><path clip-path=\"url(#clip450)\" d=\"M1540.34 9.35228 L1572.46 9.35228 L1572.46 16.2388 L1547.83 16.2388 L1547.83 31.0651 Q1549.62 30.4575 1551.4 30.1739 Q1553.18 29.8499 1554.96 29.8499 Q1565.09 29.8499 1571.01 35.3996 Q1576.92 40.9493 1576.92 50.4284 Q1576.92 60.1911 1570.84 65.6193 Q1564.77 71.007 1553.71 71.007 Q1549.9 71.007 1545.93 70.3589 Q1542 69.7107 1537.79 68.4145 L1537.79 60.1911 Q1541.43 62.1761 1545.32 63.1483 Q1549.21 64.1205 1553.55 64.1205 Q1560.55 64.1205 1564.65 60.4342 Q1568.74 56.7479 1568.74 50.4284 Q1568.74 44.109 1564.65 40.4227 Q1560.55 36.7364 1553.55 36.7364 Q1550.27 36.7364 1546.98 37.4656 Q1543.74 38.1947 1540.34 39.7341 L1540.34 9.35228 Z\" fill=\"#000000\" fill-rule=\"nonzero\" fill-opacity=\"1\" /><path clip-path=\"url(#clip450)\" d=\"M1611.56 36.3313 Q1606.05 36.3313 1602.81 40.0986 Q1599.61 43.866 1599.61 50.4284 Q1599.61 56.9504 1602.81 60.7583 Q1606.05 64.5256 1611.56 64.5256 Q1617.06 64.5256 1620.26 60.7583 Q1623.51 56.9504 1623.51 50.4284 Q1623.51 43.866 1620.26 40.0986 Q1617.06 36.3313 1611.56 36.3313 M1627.8 10.6891 L1627.8 18.1427 Q1624.72 16.6844 1621.56 15.9147 Q1618.44 15.1451 1615.36 15.1451 Q1607.26 15.1451 1602.97 20.6138 Q1598.71 26.0825 1598.11 37.1415 Q1600.5 33.6172 1604.1 31.7538 Q1607.71 29.8499 1612.04 29.8499 Q1621.16 29.8499 1626.42 35.3996 Q1631.73 40.9088 1631.73 50.4284 Q1631.73 59.7455 1626.22 65.3763 Q1620.71 71.007 1611.56 71.007 Q1601.06 71.007 1595.51 62.9862 Q1589.96 54.9249 1589.96 39.653 Q1589.96 25.3128 1596.77 16.8059 Q1603.58 8.25853 1615.04 8.25853 Q1618.12 8.25853 1621.24 8.86617 Q1624.4 9.4738 1627.8 10.6891 Z\" fill=\"#000000\" fill-rule=\"nonzero\" fill-opacity=\"1\" /><path clip-path=\"url(#clip450)\" d=\"M1776.13 1367.09 L1808.26 1367.09 L1808.26 1373.98 L1783.63 1373.98 L1783.63 1388.8 Q1785.41 1388.2 1787.19 1387.91 Q1788.98 1387.59 1790.76 1387.59 Q1800.88 1387.59 1806.8 1393.14 Q1812.71 1398.69 1812.71 1408.17 Q1812.71 1417.93 1806.64 1423.36 Q1800.56 1428.75 1789.5 1428.75 Q1785.69 1428.75 1781.72 1428.1 Q1777.79 1427.45 1773.58 1426.15 L1773.58 1417.93 Q1777.23 1419.92 1781.12 1420.89 Q1785.01 1421.86 1789.34 1421.86 Q1796.35 1421.86 1800.44 1418.17 Q1804.53 1414.49 1804.53 1408.17 Q1804.53 1401.85 1800.44 1398.16 Q1796.35 1394.48 1789.34 1394.48 Q1786.06 1394.48 1782.78 1395.2 Q1779.54 1395.93 1776.13 1397.47 L1776.13 1367.09 Z\" fill=\"#000000\" fill-rule=\"nonzero\" fill-opacity=\"1\" /><path clip-path=\"url(#clip450)\" d=\"M1826.77 1367.09 L1865.66 1367.09 L1865.66 1370.58 L1843.7 1427.57 L1835.16 1427.57 L1855.82 1373.98 L1826.77 1373.98 L1826.77 1367.09 Z\" fill=\"#000000\" fill-rule=\"nonzero\" fill-opacity=\"1\" /><path clip-path=\"url(#clip450)\" d=\"M1775.42 1173.13 L1807.55 1173.13 L1807.55 1180.02 L1782.92 1180.02 L1782.92 1194.84 Q1784.7 1194.23 1786.48 1193.95 Q1788.27 1193.63 1790.05 1193.63 Q1800.18 1193.63 1806.09 1199.18 Q1812 1204.73 1812 1214.21 Q1812 1223.97 1805.93 1229.4 Q1799.85 1234.78 1788.79 1234.78 Q1784.99 1234.78 1781.02 1234.14 Q1777.09 1233.49 1772.87 1232.19 L1772.87 1223.97 Q1776.52 1225.95 1780.41 1226.92 Q1784.3 1227.9 1788.63 1227.9 Q1795.64 1227.9 1799.73 1224.21 Q1803.82 1220.52 1803.82 1214.21 Q1803.82 1207.89 1799.73 1204.2 Q1795.64 1200.51 1788.63 1200.51 Q1785.35 1200.51 1782.07 1201.24 Q1778.83 1201.97 1775.42 1203.51 L1775.42 1173.13 Z\" fill=\"#000000\" fill-rule=\"nonzero\" fill-opacity=\"1\" /><path clip-path=\"url(#clip450)\" d=\"M1845.63 1204.89 Q1839.79 1204.89 1836.43 1208.01 Q1833.11 1211.13 1833.11 1216.6 Q1833.11 1222.06 1836.43 1225.18 Q1839.79 1228.3 1845.63 1228.3 Q1851.46 1228.3 1854.82 1225.18 Q1858.18 1222.02 1858.18 1216.6 Q1858.18 1211.13 1854.82 1208.01 Q1851.5 1204.89 1845.63 1204.89 M1837.44 1201.4 Q1832.18 1200.11 1829.22 1196.5 Q1826.3 1192.9 1826.3 1187.71 Q1826.3 1180.46 1831.45 1176.25 Q1836.63 1172.04 1845.63 1172.04 Q1854.66 1172.04 1859.81 1176.25 Q1864.95 1180.46 1864.95 1187.71 Q1864.95 1192.9 1861.99 1196.5 Q1859.08 1200.11 1853.85 1201.4 Q1859.76 1202.78 1863.05 1206.79 Q1866.37 1210.8 1866.37 1216.6 Q1866.37 1225.39 1860.98 1230.08 Q1855.63 1234.78 1845.63 1234.78 Q1835.62 1234.78 1830.23 1230.08 Q1824.89 1225.39 1824.89 1216.6 Q1824.89 1210.8 1828.21 1206.79 Q1831.53 1202.78 1837.44 1201.4 M1834.45 1188.48 Q1834.45 1193.18 1837.36 1195.81 Q1840.32 1198.45 1845.63 1198.45 Q1850.89 1198.45 1853.85 1195.81 Q1856.85 1193.18 1856.85 1188.48 Q1856.85 1183.78 1853.85 1181.15 Q1850.89 1178.52 1845.63 1178.52 Q1840.32 1178.52 1837.36 1181.15 Q1834.45 1183.78 1834.45 1188.48 Z\" fill=\"#000000\" fill-rule=\"nonzero\" fill-opacity=\"1\" /><path clip-path=\"url(#clip450)\" d=\"M1775.51 979.166 L1807.63 979.166 L1807.63 986.053 L1783 986.053 L1783 1000.88 Q1784.78 1000.27 1786.56 999.988 Q1788.35 999.664 1790.13 999.664 Q1800.26 999.664 1806.17 1005.21 Q1812.09 1010.76 1812.09 1020.24 Q1812.09 1030 1806.01 1035.43 Q1799.93 1040.82 1788.87 1040.82 Q1785.07 1040.82 1781.1 1040.17 Q1777.17 1039.52 1772.95 1038.23 L1772.95 1030 Q1776.6 1031.99 1780.49 1032.96 Q1784.38 1033.93 1788.71 1033.93 Q1795.72 1033.93 1799.81 1030.25 Q1803.9 1026.56 1803.9 1020.24 Q1803.9 1013.92 1799.81 1010.24 Q1795.72 1006.55 1788.71 1006.55 Q1785.43 1006.55 1782.15 1007.28 Q1778.91 1008.01 1775.51 1009.55 L1775.51 979.166 Z\" fill=\"#000000\" fill-rule=\"nonzero\" fill-opacity=\"1\" /><path clip-path=\"url(#clip450)\" d=\"M1828.45 1038.39 L1828.45 1030.94 Q1831.53 1032.4 1834.69 1033.16 Q1837.85 1033.93 1840.89 1033.93 Q1848.99 1033.93 1853.24 1028.51 Q1857.54 1023.04 1858.14 1011.94 Q1855.79 1015.42 1852.19 1017.29 Q1848.58 1019.15 1844.21 1019.15 Q1835.14 1019.15 1829.83 1013.68 Q1824.56 1008.17 1824.56 998.651 Q1824.56 989.334 1830.07 983.703 Q1835.58 978.072 1844.74 978.072 Q1855.23 978.072 1860.74 986.134 Q1866.29 994.154 1866.29 1009.47 Q1866.29 1023.77 1859.48 1032.31 Q1852.72 1040.82 1841.25 1040.82 Q1838.17 1040.82 1835.01 1040.21 Q1831.85 1039.61 1828.45 1038.39 M1844.74 1012.75 Q1850.25 1012.75 1853.45 1008.98 Q1856.69 1005.21 1856.69 998.651 Q1856.69 992.129 1853.45 988.362 Q1850.25 984.554 1844.74 984.554 Q1839.23 984.554 1835.99 988.362 Q1832.79 992.129 1832.79 998.651 Q1832.79 1005.21 1835.99 1008.98 Q1839.23 1012.75 1844.74 1012.75 Z\" fill=\"#000000\" fill-rule=\"nonzero\" fill-opacity=\"1\" /><path clip-path=\"url(#clip450)\" d=\"M1794.08 812.182 Q1788.57 812.182 1785.33 815.95 Q1782.13 819.717 1782.13 826.28 Q1782.13 832.801 1785.33 836.609 Q1788.57 840.377 1794.08 840.377 Q1799.59 840.377 1802.79 836.609 Q1806.03 832.801 1806.03 826.28 Q1806.03 819.717 1802.79 815.95 Q1799.59 812.182 1794.08 812.182 M1810.32 786.54 L1810.32 793.994 Q1807.24 792.536 1804.09 791.766 Q1800.97 790.996 1797.89 790.996 Q1789.79 790.996 1785.49 796.465 Q1781.24 801.934 1780.63 812.993 Q1783.02 809.468 1786.63 807.605 Q1790.23 805.701 1794.57 805.701 Q1803.68 805.701 1808.95 811.251 Q1814.25 816.76 1814.25 826.28 Q1814.25 835.597 1808.74 841.227 Q1803.23 846.858 1794.08 846.858 Q1783.59 846.858 1778.04 838.837 Q1772.49 830.776 1772.49 815.504 Q1772.49 801.164 1779.29 792.657 Q1786.1 784.11 1797.56 784.11 Q1800.64 784.11 1803.76 784.717 Q1806.92 785.325 1810.32 786.54 Z\" fill=\"#000000\" fill-rule=\"nonzero\" fill-opacity=\"1\" /><path clip-path=\"url(#clip450)\" d=\"M1845.85 790.591 Q1839.53 790.591 1836.33 796.829 Q1833.17 803.027 1833.17 815.504 Q1833.17 827.94 1836.33 834.179 Q1839.53 840.377 1845.85 840.377 Q1852.21 840.377 1855.37 834.179 Q1858.57 827.94 1858.57 815.504 Q1858.57 803.027 1855.37 796.829 Q1852.21 790.591 1845.85 790.591 M1845.85 784.11 Q1856.02 784.11 1861.36 792.171 Q1866.75 800.192 1866.75 815.504 Q1866.75 830.776 1861.36 838.837 Q1856.02 846.858 1845.85 846.858 Q1835.68 846.858 1830.29 838.837 Q1824.95 830.776 1824.95 815.504 Q1824.95 800.192 1830.29 792.171 Q1835.68 784.11 1845.85 784.11 Z\" fill=\"#000000\" fill-rule=\"nonzero\" fill-opacity=\"1\" /><path clip-path=\"url(#clip450)\" d=\"M1795.15 618.22 Q1789.64 618.22 1786.4 621.987 Q1783.2 625.754 1783.2 632.317 Q1783.2 638.839 1786.4 642.647 Q1789.64 646.414 1795.15 646.414 Q1800.66 646.414 1803.86 642.647 Q1807.1 638.839 1807.1 632.317 Q1807.1 625.754 1803.86 621.987 Q1800.66 618.22 1795.15 618.22 M1811.4 592.577 L1811.4 600.031 Q1808.32 598.573 1805.16 597.803 Q1802.04 597.033 1798.96 597.033 Q1790.86 597.033 1786.56 602.502 Q1782.31 607.971 1781.7 619.03 Q1784.09 615.506 1787.7 613.642 Q1791.3 611.738 1795.64 611.738 Q1804.75 611.738 1810.02 617.288 Q1815.33 622.797 1815.33 632.317 Q1815.33 641.634 1809.82 647.265 Q1804.31 652.895 1795.15 652.895 Q1784.66 652.895 1779.11 644.875 Q1773.56 636.813 1773.56 621.541 Q1773.56 607.201 1780.37 598.694 Q1787.17 590.147 1798.64 590.147 Q1801.72 590.147 1804.83 590.754 Q1807.99 591.362 1811.4 592.577 Z\" fill=\"#000000\" fill-rule=\"nonzero\" fill-opacity=\"1\" /><path clip-path=\"url(#clip450)\" d=\"M1830.84 644.834 L1844.21 644.834 L1844.21 598.694 L1829.67 601.611 L1829.67 594.157 L1844.13 591.241 L1852.31 591.241 L1852.31 644.834 L1865.68 644.834 L1865.68 651.721 L1830.84 651.721 L1830.84 644.834 Z\" fill=\"#000000\" fill-rule=\"nonzero\" fill-opacity=\"1\" /><path clip-path=\"url(#clip450)\" d=\"M1795.48 424.257 Q1789.97 424.257 1786.73 428.024 Q1783.53 431.792 1783.53 438.354 Q1783.53 444.876 1786.73 448.684 Q1789.97 452.451 1795.48 452.451 Q1800.99 452.451 1804.19 448.684 Q1807.43 444.876 1807.43 438.354 Q1807.43 431.792 1804.19 428.024 Q1800.99 424.257 1795.48 424.257 M1811.72 398.615 L1811.72 406.068 Q1808.64 404.61 1805.48 403.84 Q1802.36 403.071 1799.28 403.071 Q1791.18 403.071 1786.89 408.539 Q1782.64 414.008 1782.03 425.067 Q1784.42 421.543 1788.02 419.679 Q1791.63 417.775 1795.96 417.775 Q1805.08 417.775 1810.34 423.325 Q1815.65 428.834 1815.65 438.354 Q1815.65 447.671 1810.14 453.302 Q1804.63 458.933 1795.48 458.933 Q1784.99 458.933 1779.44 450.912 Q1773.89 442.85 1773.89 427.579 Q1773.89 413.238 1780.69 404.731 Q1787.5 396.184 1798.96 396.184 Q1802.04 396.184 1805.16 396.792 Q1808.32 397.399 1811.72 398.615 Z\" fill=\"#000000\" fill-rule=\"nonzero\" fill-opacity=\"1\" /><path clip-path=\"url(#clip450)\" d=\"M1836.8 450.871 L1865.36 450.871 L1865.36 457.758 L1826.95 457.758 L1826.95 450.871 Q1831.61 446.051 1839.63 437.949 Q1847.69 429.807 1849.76 427.457 Q1853.69 423.042 1855.23 420.003 Q1856.81 416.925 1856.81 413.968 Q1856.81 409.147 1853.4 406.109 Q1850.04 403.071 1844.61 403.071 Q1840.77 403.071 1836.47 404.407 Q1832.22 405.744 1827.36 408.458 L1827.36 400.194 Q1832.3 398.21 1836.59 397.197 Q1840.89 396.184 1844.45 396.184 Q1853.85 396.184 1859.44 400.883 Q1865.03 405.582 1865.03 413.441 Q1865.03 417.168 1863.61 420.53 Q1862.24 423.852 1858.55 428.389 Q1857.54 429.564 1852.11 435.194 Q1846.68 440.785 1836.8 450.871 Z\" fill=\"#000000\" fill-rule=\"nonzero\" fill-opacity=\"1\" /><path clip-path=\"url(#clip450)\" d=\"M1794.65 230.294 Q1789.14 230.294 1785.9 234.061 Q1782.7 237.829 1782.7 244.391 Q1782.7 250.913 1785.9 254.721 Q1789.14 258.488 1794.65 258.488 Q1800.16 258.488 1803.36 254.721 Q1806.6 250.913 1806.6 244.391 Q1806.6 237.829 1803.36 234.061 Q1800.16 230.294 1794.65 230.294 M1810.89 204.652 L1810.89 212.106 Q1807.81 210.647 1804.65 209.878 Q1801.53 209.108 1798.45 209.108 Q1790.35 209.108 1786.06 214.577 Q1781.81 220.045 1781.2 231.104 Q1783.59 227.58 1787.19 225.717 Q1790.8 223.813 1795.13 223.813 Q1804.25 223.813 1809.51 229.362 Q1814.82 234.872 1814.82 244.391 Q1814.82 253.708 1809.31 259.339 Q1803.8 264.97 1794.65 264.97 Q1784.15 264.97 1778.6 256.949 Q1773.06 248.888 1773.06 233.616 Q1773.06 219.276 1779.86 210.769 Q1786.67 202.221 1798.13 202.221 Q1801.21 202.221 1804.33 202.829 Q1807.49 203.437 1810.89 204.652 Z\" fill=\"#000000\" fill-rule=\"nonzero\" fill-opacity=\"1\" /><path clip-path=\"url(#clip450)\" d=\"M1853.71 231.185 Q1859.58 232.441 1862.86 236.411 Q1866.19 240.381 1866.19 246.214 Q1866.19 255.167 1860.03 260.068 Q1853.87 264.97 1842.53 264.97 Q1838.72 264.97 1834.67 264.2 Q1830.66 263.471 1826.37 261.972 L1826.37 254.073 Q1829.77 256.058 1833.82 257.071 Q1837.87 258.083 1842.29 258.083 Q1849.98 258.083 1853.99 255.045 Q1858.04 252.007 1858.04 246.214 Q1858.04 240.867 1854.28 237.869 Q1850.55 234.831 1843.86 234.831 L1836.82 234.831 L1836.82 228.107 L1844.19 228.107 Q1850.22 228.107 1853.43 225.717 Q1856.63 223.286 1856.63 218.749 Q1856.63 214.09 1853.3 211.619 Q1850.02 209.108 1843.86 209.108 Q1840.5 209.108 1836.65 209.837 Q1832.81 210.566 1828.19 212.106 L1828.19 204.814 Q1832.85 203.518 1836.9 202.869 Q1840.99 202.221 1844.59 202.221 Q1853.91 202.221 1859.34 206.475 Q1864.77 210.688 1864.77 217.898 Q1864.77 222.921 1861.89 226.405 Q1859.02 229.848 1853.71 231.185 Z\" fill=\"#000000\" fill-rule=\"nonzero\" fill-opacity=\"1\" /><path clip-path=\"url(#clip450)\" d=\"M1793.65 36.3313 Q1788.14 36.3313 1784.9 40.0986 Q1781.7 43.866 1781.7 50.4284 Q1781.7 56.9504 1784.9 60.7583 Q1788.14 64.5256 1793.65 64.5256 Q1799.16 64.5256 1802.36 60.7583 Q1805.6 56.9504 1805.6 50.4284 Q1805.6 43.866 1802.36 40.0986 Q1799.16 36.3313 1793.65 36.3313 M1809.9 10.6891 L1809.9 18.1427 Q1806.82 16.6844 1803.66 15.9147 Q1800.54 15.1451 1797.46 15.1451 Q1789.36 15.1451 1785.07 20.6138 Q1780.81 26.0825 1780.2 37.1415 Q1782.6 33.6172 1786.2 31.7538 Q1789.81 29.8499 1794.14 29.8499 Q1803.25 29.8499 1808.52 35.3996 Q1813.83 40.9088 1813.83 50.4284 Q1813.83 59.7455 1808.32 65.3763 Q1802.81 71.007 1793.65 71.007 Q1783.16 71.007 1777.61 62.9862 Q1772.06 54.9249 1772.06 39.653 Q1772.06 25.3128 1778.87 16.8059 Q1785.67 8.25853 1797.14 8.25853 Q1800.22 8.25853 1803.34 8.86617 Q1806.5 9.4738 1809.9 10.6891 Z\" fill=\"#000000\" fill-rule=\"nonzero\" fill-opacity=\"1\" /><path clip-path=\"url(#clip450)\" d=\"M1850.41 16.4819 L1829.75 48.7676 L1850.41 48.7676 L1850.41 16.4819 M1848.26 9.35228 L1858.55 9.35228 L1858.55 48.7676 L1867.18 48.7676 L1867.18 55.5731 L1858.55 55.5731 L1858.55 69.8323 L1850.41 69.8323 L1850.41 55.5731 L1823.1 55.5731 L1823.1 47.6738 L1848.26 9.35228 Z\" fill=\"#000000\" fill-rule=\"nonzero\" fill-opacity=\"1\" /><path clip-path=\"url(#clip450)\" d=\"M2029.81 1394.07 Q2024.3 1394.07 2021.06 1397.84 Q2017.86 1401.61 2017.86 1408.17 Q2017.86 1414.69 2021.06 1418.5 Q2024.3 1422.27 2029.81 1422.27 Q2035.32 1422.27 2038.52 1418.5 Q2041.76 1414.69 2041.76 1408.17 Q2041.76 1401.61 2038.52 1397.84 Q2035.32 1394.07 2029.81 1394.07 M2046.06 1368.43 L2046.06 1375.88 Q2042.98 1374.42 2039.82 1373.65 Q2036.7 1372.88 2033.62 1372.88 Q2025.52 1372.88 2021.22 1378.35 Q2016.97 1383.82 2016.36 1394.88 Q2018.75 1391.36 2022.36 1389.49 Q2025.96 1387.59 2030.3 1387.59 Q2039.41 1387.59 2044.68 1393.14 Q2049.99 1398.65 2049.99 1408.17 Q2049.99 1417.48 2044.48 1423.12 Q2038.97 1428.75 2029.81 1428.75 Q2019.32 1428.75 2013.77 1420.73 Q2008.22 1412.66 2008.22 1397.39 Q2008.22 1383.05 2015.03 1374.55 Q2021.83 1366 2033.3 1366 Q2036.37 1366 2039.49 1366.61 Q2042.65 1367.21 2046.06 1368.43 Z\" fill=\"#000000\" fill-rule=\"nonzero\" fill-opacity=\"1\" /><path clip-path=\"url(#clip450)\" d=\"M2064.16 1367.09 L2096.29 1367.09 L2096.29 1373.98 L2071.66 1373.98 L2071.66 1388.8 Q2073.44 1388.2 2075.22 1387.91 Q2077 1387.59 2078.79 1387.59 Q2088.91 1387.59 2094.83 1393.14 Q2100.74 1398.69 2100.74 1408.17 Q2100.74 1417.93 2094.67 1423.36 Q2088.59 1428.75 2077.53 1428.75 Q2073.72 1428.75 2069.75 1428.1 Q2065.82 1427.45 2061.61 1426.15 L2061.61 1417.93 Q2065.26 1419.92 2069.15 1420.89 Q2073.03 1421.86 2077.37 1421.86 Q2084.38 1421.86 2088.47 1418.17 Q2092.56 1414.49 2092.56 1408.17 Q2092.56 1401.85 2088.47 1398.16 Q2084.38 1394.48 2077.37 1394.48 Q2074.09 1394.48 2070.81 1395.2 Q2067.57 1395.93 2064.16 1397.47 L2064.16 1367.09 Z\" fill=\"#000000\" fill-rule=\"nonzero\" fill-opacity=\"1\" /><path clip-path=\"url(#clip450)\" d=\"M2028.8 1200.11 Q2023.29 1200.11 2020.05 1203.88 Q2016.85 1207.64 2016.85 1214.21 Q2016.85 1220.73 2020.05 1224.53 Q2023.29 1228.3 2028.8 1228.3 Q2034.31 1228.3 2037.51 1224.53 Q2040.75 1220.73 2040.75 1214.21 Q2040.75 1207.64 2037.51 1203.88 Q2034.31 1200.11 2028.8 1200.11 M2045.04 1174.47 L2045.04 1181.92 Q2041.96 1180.46 2038.8 1179.69 Q2035.69 1178.92 2032.61 1178.92 Q2024.51 1178.92 2020.21 1184.39 Q2015.96 1189.86 2015.35 1200.92 Q2017.74 1197.39 2021.35 1195.53 Q2024.95 1193.63 2029.29 1193.63 Q2038.4 1193.63 2043.67 1199.18 Q2048.97 1204.69 2048.97 1214.21 Q2048.97 1223.52 2043.46 1229.15 Q2037.95 1234.78 2028.8 1234.78 Q2018.31 1234.78 2012.76 1226.76 Q2007.21 1218.7 2007.21 1203.43 Q2007.21 1189.09 2014.01 1180.58 Q2020.82 1172.04 2032.28 1172.04 Q2035.36 1172.04 2038.48 1172.64 Q2041.64 1173.25 2045.04 1174.47 Z\" fill=\"#000000\" fill-rule=\"nonzero\" fill-opacity=\"1\" /><path clip-path=\"url(#clip450)\" d=\"M2081.58 1200.11 Q2076.07 1200.11 2072.83 1203.88 Q2069.63 1207.64 2069.63 1214.21 Q2069.63 1220.73 2072.83 1224.53 Q2076.07 1228.3 2081.58 1228.3 Q2087.09 1228.3 2090.29 1224.53 Q2093.53 1220.73 2093.53 1214.21 Q2093.53 1207.64 2090.29 1203.88 Q2087.09 1200.11 2081.58 1200.11 M2097.83 1174.47 L2097.83 1181.92 Q2094.75 1180.46 2091.59 1179.69 Q2088.47 1178.92 2085.39 1178.92 Q2077.29 1178.92 2072.99 1184.39 Q2068.74 1189.86 2068.13 1200.92 Q2070.52 1197.39 2074.13 1195.53 Q2077.73 1193.63 2082.07 1193.63 Q2091.18 1193.63 2096.45 1199.18 Q2101.76 1204.69 2101.76 1214.21 Q2101.76 1223.52 2096.25 1229.15 Q2090.74 1234.78 2081.58 1234.78 Q2071.09 1234.78 2065.54 1226.76 Q2059.99 1218.7 2059.99 1203.43 Q2059.99 1189.09 2066.8 1180.58 Q2073.6 1172.04 2085.07 1172.04 Q2088.14 1172.04 2091.26 1172.64 Q2094.42 1173.25 2097.83 1174.47 Z\" fill=\"#000000\" fill-rule=\"nonzero\" fill-opacity=\"1\" /><path clip-path=\"url(#clip450)\" d=\"M2029.73 1006.15 Q2024.22 1006.15 2020.98 1009.91 Q2017.78 1013.68 2017.78 1020.24 Q2017.78 1026.76 2020.98 1030.57 Q2024.22 1034.34 2029.73 1034.34 Q2035.24 1034.34 2038.44 1030.57 Q2041.68 1026.76 2041.68 1020.24 Q2041.68 1013.68 2038.44 1009.91 Q2035.24 1006.15 2029.73 1006.15 M2045.97 980.503 L2045.97 987.957 Q2042.9 986.498 2039.74 985.729 Q2036.62 984.959 2033.54 984.959 Q2025.44 984.959 2021.14 990.428 Q2016.89 995.896 2016.28 1006.96 Q2018.67 1003.43 2022.28 1001.57 Q2025.88 999.664 2030.22 999.664 Q2039.33 999.664 2044.6 1005.21 Q2049.9 1010.72 2049.9 1020.24 Q2049.9 1029.56 2044.4 1035.19 Q2038.89 1040.82 2029.73 1040.82 Q2019.24 1040.82 2013.69 1032.8 Q2008.14 1024.74 2008.14 1009.47 Q2008.14 995.127 2014.94 986.62 Q2021.75 978.072 2033.21 978.072 Q2036.29 978.072 2039.41 978.68 Q2042.57 979.288 2045.97 980.503 Z\" fill=\"#000000\" fill-rule=\"nonzero\" fill-opacity=\"1\" /><path clip-path=\"url(#clip450)\" d=\"M2061.94 979.166 L2100.82 979.166 L2100.82 982.65 L2078.87 1039.65 L2070.32 1039.65 L2090.98 986.053 L2061.94 986.053 L2061.94 979.166 Z\" fill=\"#000000\" fill-rule=\"nonzero\" fill-opacity=\"1\" /><path clip-path=\"url(#clip450)\" d=\"M2029.02 812.182 Q2023.51 812.182 2020.27 815.95 Q2017.07 819.717 2017.07 826.28 Q2017.07 832.801 2020.27 836.609 Q2023.51 840.377 2029.02 840.377 Q2034.53 840.377 2037.73 836.609 Q2040.97 832.801 2040.97 826.28 Q2040.97 819.717 2037.73 815.95 Q2034.53 812.182 2029.02 812.182 M2045.27 786.54 L2045.27 793.994 Q2042.19 792.536 2039.03 791.766 Q2035.91 790.996 2032.83 790.996 Q2024.73 790.996 2020.43 796.465 Q2016.18 801.934 2015.57 812.993 Q2017.96 809.468 2021.57 807.605 Q2025.17 805.701 2029.51 805.701 Q2038.62 805.701 2043.89 811.251 Q2049.2 816.76 2049.2 826.28 Q2049.2 835.597 2043.69 841.227 Q2038.18 846.858 2029.02 846.858 Q2018.53 846.858 2012.98 838.837 Q2007.43 830.776 2007.43 815.504 Q2007.43 801.164 2014.24 792.657 Q2021.04 784.11 2032.51 784.11 Q2035.58 784.11 2038.7 784.717 Q2041.86 785.325 2045.27 786.54 Z\" fill=\"#000000\" fill-rule=\"nonzero\" fill-opacity=\"1\" /><path clip-path=\"url(#clip450)\" d=\"M2080.79 816.962 Q2074.96 816.962 2071.6 820.082 Q2068.28 823.201 2068.28 828.67 Q2068.28 834.138 2071.6 837.257 Q2074.96 840.377 2080.79 840.377 Q2086.63 840.377 2089.99 837.257 Q2093.35 834.098 2093.35 828.67 Q2093.35 823.201 2089.99 820.082 Q2086.67 816.962 2080.79 816.962 M2072.61 813.479 Q2067.34 812.182 2064.39 808.577 Q2061.47 804.972 2061.47 799.787 Q2061.47 792.536 2066.61 788.323 Q2071.8 784.11 2080.79 784.11 Q2089.83 784.11 2094.97 788.323 Q2100.12 792.536 2100.12 799.787 Q2100.12 804.972 2097.16 808.577 Q2094.24 812.182 2089.02 813.479 Q2094.93 814.856 2098.21 818.866 Q2101.53 822.877 2101.53 828.67 Q2101.53 837.46 2096.15 842.159 Q2090.8 846.858 2080.79 846.858 Q2070.79 846.858 2065.4 842.159 Q2060.05 837.46 2060.05 828.67 Q2060.05 822.877 2063.37 818.866 Q2066.7 814.856 2072.61 813.479 M2069.61 800.556 Q2069.61 805.255 2072.53 807.888 Q2075.49 810.522 2080.79 810.522 Q2086.06 810.522 2089.02 807.888 Q2092.01 805.255 2092.01 800.556 Q2092.01 795.857 2089.02 793.224 Q2086.06 790.591 2080.79 790.591 Q2075.49 790.591 2072.53 793.224 Q2069.61 795.857 2069.61 800.556 Z\" fill=\"#000000\" fill-rule=\"nonzero\" fill-opacity=\"1\" /><path clip-path=\"url(#clip450)\" d=\"M2029.1 618.22 Q2023.59 618.22 2020.35 621.987 Q2017.15 625.754 2017.15 632.317 Q2017.15 638.839 2020.35 642.647 Q2023.59 646.414 2029.1 646.414 Q2034.61 646.414 2037.81 642.647 Q2041.05 638.839 2041.05 632.317 Q2041.05 625.754 2037.81 621.987 Q2034.61 618.22 2029.1 618.22 M2045.35 592.577 L2045.35 600.031 Q2042.27 598.573 2039.11 597.803 Q2035.99 597.033 2032.91 597.033 Q2024.81 597.033 2020.51 602.502 Q2016.26 607.971 2015.65 619.03 Q2018.04 615.506 2021.65 613.642 Q2025.25 611.738 2029.59 611.738 Q2038.7 611.738 2043.97 617.288 Q2049.28 622.797 2049.28 632.317 Q2049.28 641.634 2043.77 647.265 Q2038.26 652.895 2029.1 652.895 Q2018.61 652.895 2013.06 644.875 Q2007.51 636.813 2007.51 621.541 Q2007.51 607.201 2014.32 598.694 Q2021.12 590.147 2032.59 590.147 Q2035.67 590.147 2038.78 590.754 Q2041.94 591.362 2045.35 592.577 Z\" fill=\"#000000\" fill-rule=\"nonzero\" fill-opacity=\"1\" /><path clip-path=\"url(#clip450)\" d=\"M2063.62 650.465 L2063.62 643.011 Q2066.7 644.469 2069.85 645.239 Q2073.01 646.009 2076.05 646.009 Q2084.15 646.009 2088.41 640.581 Q2092.7 635.112 2093.31 624.012 Q2090.96 627.496 2087.35 629.36 Q2083.75 631.223 2079.37 631.223 Q2070.3 631.223 2064.99 625.754 Q2059.73 620.245 2059.73 610.725 Q2059.73 601.408 2065.24 595.778 Q2070.75 590.147 2079.9 590.147 Q2090.39 590.147 2095.9 598.208 Q2101.45 606.229 2101.45 621.541 Q2101.45 635.841 2094.65 644.388 Q2087.88 652.895 2076.42 652.895 Q2073.34 652.895 2070.18 652.288 Q2067.02 651.68 2063.62 650.465 M2079.9 624.823 Q2085.41 624.823 2088.61 621.055 Q2091.85 617.288 2091.85 610.725 Q2091.85 604.203 2088.61 600.436 Q2085.41 596.628 2079.9 596.628 Q2074.39 596.628 2071.15 600.436 Q2067.95 604.203 2067.95 610.725 Q2067.95 617.288 2071.15 621.055 Q2074.39 624.823 2079.9 624.823 Z\" fill=\"#000000\" fill-rule=\"nonzero\" fill-opacity=\"1\" /><path clip-path=\"url(#clip450)\" d=\"M2007.86 397.278 L2046.74 397.278 L2046.74 400.762 L2024.79 457.758 L2016.24 457.758 L2036.9 404.164 L2007.86 404.164 L2007.86 397.278 Z\" fill=\"#000000\" fill-rule=\"nonzero\" fill-opacity=\"1\" /><path clip-path=\"url(#clip450)\" d=\"M2080.21 402.666 Q2073.89 402.666 2070.69 408.904 Q2067.53 415.102 2067.53 427.579 Q2067.53 440.015 2070.69 446.253 Q2073.89 452.451 2080.21 452.451 Q2086.56 452.451 2089.72 446.253 Q2092.92 440.015 2092.92 427.579 Q2092.92 415.102 2089.72 408.904 Q2086.56 402.666 2080.21 402.666 M2080.21 396.184 Q2090.37 396.184 2095.72 404.245 Q2101.11 412.266 2101.11 427.579 Q2101.11 442.85 2095.72 450.912 Q2090.37 458.933 2080.21 458.933 Q2070.04 458.933 2064.65 450.912 Q2059.3 442.85 2059.3 427.579 Q2059.3 412.266 2064.65 404.245 Q2070.04 396.184 2080.21 396.184 Z\" fill=\"#000000\" fill-rule=\"nonzero\" fill-opacity=\"1\" /><path clip-path=\"url(#clip450)\" d=\"M2008.93 203.315 L2047.82 203.315 L2047.82 206.799 L2025.86 263.795 L2017.31 263.795 L2037.97 210.202 L2008.93 210.202 L2008.93 203.315 Z\" fill=\"#000000\" fill-rule=\"nonzero\" fill-opacity=\"1\" /><path clip-path=\"url(#clip450)\" d=\"M2065.2 256.909 L2078.56 256.909 L2078.56 210.769 L2064.02 213.685 L2064.02 206.232 L2078.48 203.315 L2086.67 203.315 L2086.67 256.909 L2100.03 256.909 L2100.03 263.795 L2065.2 263.795 L2065.2 256.909 Z\" fill=\"#000000\" fill-rule=\"nonzero\" fill-opacity=\"1\" /><path clip-path=\"url(#clip450)\" d=\"M2009.25 9.35228 L2048.14 9.35228 L2048.14 12.8361 L2026.19 69.8323 L2017.64 69.8323 L2038.3 16.2388 L2009.25 16.2388 L2009.25 9.35228 Z\" fill=\"#000000\" fill-rule=\"nonzero\" fill-opacity=\"1\" /><path clip-path=\"url(#clip450)\" d=\"M2071.15 62.9457 L2099.71 62.9457 L2099.71 69.8323 L2061.31 69.8323 L2061.31 62.9457 Q2065.97 58.1252 2073.99 50.0234 Q2082.05 41.881 2084.11 39.5315 Q2088.04 35.116 2089.58 32.0778 Q2091.16 28.9992 2091.16 26.042 Q2091.16 21.2214 2087.76 18.1832 Q2084.4 15.1451 2078.97 15.1451 Q2075.12 15.1451 2070.83 16.4819 Q2066.57 17.8187 2061.71 20.5328 L2061.71 12.2689 Q2066.65 10.284 2070.95 9.27126 Q2075.24 8.25853 2078.81 8.25853 Q2088.21 8.25853 2093.8 12.9576 Q2099.39 17.6566 2099.39 25.5154 Q2099.39 29.2422 2097.97 32.6045 Q2096.59 35.9262 2092.9 40.4632 Q2091.89 41.638 2086.46 47.2687 Q2081.04 52.859 2071.15 62.9457 Z\" fill=\"#000000\" fill-rule=\"nonzero\" fill-opacity=\"1\" /><path clip-path=\"url(#clip450)\" d=\"M2243.28 1367.09 L2282.17 1367.09 L2282.17 1370.58 L2260.22 1427.57 L2251.67 1427.57 L2272.33 1373.98 L2243.28 1373.98 L2243.28 1367.09 Z\" fill=\"#000000\" fill-rule=\"nonzero\" fill-opacity=\"1\" /><path clip-path=\"url(#clip450)\" d=\"M2322.93 1394.96 Q2328.8 1396.22 2332.08 1400.19 Q2335.4 1404.16 2335.4 1409.99 Q2335.4 1418.94 2329.24 1423.84 Q2323.09 1428.75 2311.74 1428.75 Q2307.94 1428.75 2303.89 1427.98 Q2299.88 1427.25 2295.58 1425.75 L2295.58 1417.85 Q2298.98 1419.83 2303.04 1420.85 Q2307.09 1421.86 2311.5 1421.86 Q2319.2 1421.86 2323.21 1418.82 Q2327.26 1415.78 2327.26 1409.99 Q2327.26 1404.64 2323.49 1401.65 Q2319.77 1398.61 2313.08 1398.61 L2306.03 1398.61 L2306.03 1391.88 L2313.41 1391.88 Q2319.44 1391.88 2322.64 1389.49 Q2325.84 1387.06 2325.84 1382.53 Q2325.84 1377.87 2322.52 1375.4 Q2319.24 1372.88 2313.08 1372.88 Q2309.72 1372.88 2305.87 1373.61 Q2302.02 1374.34 2297.4 1375.88 L2297.4 1368.59 Q2302.06 1367.29 2306.11 1366.65 Q2310.21 1366 2313.81 1366 Q2323.13 1366 2328.56 1370.25 Q2333.98 1374.46 2333.98 1381.67 Q2333.98 1386.7 2331.11 1390.18 Q2328.23 1393.63 2322.93 1394.96 Z\" fill=\"#000000\" fill-rule=\"nonzero\" fill-opacity=\"1\" /><path clip-path=\"url(#clip450)\" d=\"M2242.29 1173.13 L2281.18 1173.13 L2281.18 1176.61 L2259.22 1233.61 L2250.68 1233.61 L2271.34 1180.02 L2242.29 1180.02 L2242.29 1173.13 Z\" fill=\"#000000\" fill-rule=\"nonzero\" fill-opacity=\"1\" /><path clip-path=\"url(#clip450)\" d=\"M2319.62 1180.26 L2298.96 1212.54 L2319.62 1212.54 L2319.62 1180.26 M2317.48 1173.13 L2327.77 1173.13 L2327.77 1212.54 L2336.39 1212.54 L2336.39 1219.35 L2327.77 1219.35 L2327.77 1233.61 L2319.62 1233.61 L2319.62 1219.35 L2292.32 1219.35 L2292.32 1211.45 L2317.48 1173.13 Z\" fill=\"#000000\" fill-rule=\"nonzero\" fill-opacity=\"1\" /><path clip-path=\"url(#clip450)\" d=\"M2243.59 979.166 L2282.48 979.166 L2282.48 982.65 L2260.52 1039.65 L2251.97 1039.65 L2272.63 986.053 L2243.59 986.053 L2243.59 979.166 Z\" fill=\"#000000\" fill-rule=\"nonzero\" fill-opacity=\"1\" /><path clip-path=\"url(#clip450)\" d=\"M2298.52 979.166 L2330.64 979.166 L2330.64 986.053 L2306.01 986.053 L2306.01 1000.88 Q2307.8 1000.27 2309.58 999.988 Q2311.36 999.664 2313.14 999.664 Q2323.27 999.664 2329.18 1005.21 Q2335.1 1010.76 2335.1 1020.24 Q2335.1 1030 2329.02 1035.43 Q2322.95 1040.82 2311.89 1040.82 Q2308.08 1040.82 2304.11 1040.17 Q2300.18 1039.52 2295.97 1038.23 L2295.97 1030 Q2299.61 1031.99 2303.5 1032.96 Q2307.39 1033.93 2311.72 1033.93 Q2318.73 1033.93 2322.82 1030.25 Q2326.92 1026.56 2326.92 1020.24 Q2326.92 1013.92 2322.82 1010.24 Q2318.73 1006.55 2311.72 1006.55 Q2308.44 1006.55 2305.16 1007.28 Q2301.92 1008.01 2298.52 1009.55 L2298.52 979.166 Z\" fill=\"#000000\" fill-rule=\"nonzero\" fill-opacity=\"1\" /><path clip-path=\"url(#clip450)\" d=\"M2242.58 785.203 L2281.46 785.203 L2281.46 788.687 L2259.51 845.683 L2250.96 845.683 L2271.62 792.09 L2242.58 792.09 L2242.58 785.203 Z\" fill=\"#000000\" fill-rule=\"nonzero\" fill-opacity=\"1\" /><path clip-path=\"url(#clip450)\" d=\"M2315.94 812.182 Q2310.43 812.182 2307.19 815.95 Q2303.99 819.717 2303.99 826.28 Q2303.99 832.801 2307.19 836.609 Q2310.43 840.377 2315.94 840.377 Q2321.45 840.377 2324.65 836.609 Q2327.89 832.801 2327.89 826.28 Q2327.89 819.717 2324.65 815.95 Q2321.45 812.182 2315.94 812.182 M2332.18 786.54 L2332.18 793.994 Q2329.1 792.536 2325.94 791.766 Q2322.82 790.996 2319.75 790.996 Q2311.64 790.996 2307.35 796.465 Q2303.1 801.934 2302.49 812.993 Q2304.88 809.468 2308.48 807.605 Q2312.09 805.701 2316.42 805.701 Q2325.54 805.701 2330.8 811.251 Q2336.11 816.76 2336.11 826.28 Q2336.11 835.597 2330.6 841.227 Q2325.09 846.858 2315.94 846.858 Q2305.45 846.858 2299.9 838.837 Q2294.35 830.776 2294.35 815.504 Q2294.35 801.164 2301.15 792.657 Q2307.96 784.11 2319.42 784.11 Q2322.5 784.11 2325.62 784.717 Q2328.78 785.325 2332.18 786.54 Z\" fill=\"#000000\" fill-rule=\"nonzero\" fill-opacity=\"1\" /><path clip-path=\"url(#clip450)\" d=\"M2243.51 591.241 L2282.4 591.241 L2282.4 594.724 L2260.44 651.721 L2251.89 651.721 L2272.55 598.127 L2243.51 598.127 L2243.51 591.241 Z\" fill=\"#000000\" fill-rule=\"nonzero\" fill-opacity=\"1\" /><path clip-path=\"url(#clip450)\" d=\"M2296.29 591.241 L2335.18 591.241 L2335.18 594.724 L2313.22 651.721 L2304.68 651.721 L2325.34 598.127 L2296.29 598.127 L2296.29 591.241 Z\" fill=\"#000000\" fill-rule=\"nonzero\" fill-opacity=\"1\" /><path clip-path=\"url(#clip450)\" d=\"M2242.8 397.278 L2281.69 397.278 L2281.69 400.762 L2259.73 457.758 L2251.18 457.758 L2271.84 404.164 L2242.8 404.164 L2242.8 397.278 Z\" fill=\"#000000\" fill-rule=\"nonzero\" fill-opacity=\"1\" /><path clip-path=\"url(#clip450)\" d=\"M2315.15 429.037 Q2309.31 429.037 2305.95 432.156 Q2302.63 435.275 2302.63 440.744 Q2302.63 446.213 2305.95 449.332 Q2309.31 452.451 2315.15 452.451 Q2320.98 452.451 2324.34 449.332 Q2327.71 446.172 2327.71 440.744 Q2327.71 435.275 2324.34 432.156 Q2321.02 429.037 2315.15 429.037 M2306.96 425.553 Q2301.7 424.257 2298.74 420.652 Q2295.82 417.046 2295.82 411.861 Q2295.82 404.61 2300.97 400.397 Q2306.15 396.184 2315.15 396.184 Q2324.18 396.184 2329.33 400.397 Q2334.47 404.61 2334.47 411.861 Q2334.47 417.046 2331.51 420.652 Q2328.6 424.257 2323.37 425.553 Q2329.29 426.93 2332.57 430.941 Q2335.89 434.951 2335.89 440.744 Q2335.89 449.534 2330.5 454.234 Q2325.15 458.933 2315.15 458.933 Q2305.14 458.933 2299.75 454.234 Q2294.41 449.534 2294.41 440.744 Q2294.41 434.951 2297.73 430.941 Q2301.05 426.93 2306.96 425.553 M2303.97 412.631 Q2303.97 417.33 2306.88 419.963 Q2309.84 422.596 2315.15 422.596 Q2320.41 422.596 2323.37 419.963 Q2326.37 417.33 2326.37 412.631 Q2326.37 407.932 2323.37 405.299 Q2320.41 402.666 2315.15 402.666 Q2309.84 402.666 2306.88 405.299 Q2303.97 407.932 2303.97 412.631 Z\" fill=\"#000000\" fill-rule=\"nonzero\" fill-opacity=\"1\" /><path clip-path=\"url(#clip450)\" d=\"M2242.88 203.315 L2281.77 203.315 L2281.77 206.799 L2259.81 263.795 L2251.26 263.795 L2271.92 210.202 L2242.88 210.202 L2242.88 203.315 Z\" fill=\"#000000\" fill-rule=\"nonzero\" fill-opacity=\"1\" /><path clip-path=\"url(#clip450)\" d=\"M2297.97 262.539 L2297.97 255.086 Q2301.05 256.544 2304.21 257.314 Q2307.37 258.083 2310.41 258.083 Q2318.51 258.083 2322.76 252.655 Q2327.06 247.186 2327.66 236.087 Q2325.32 239.571 2321.71 241.434 Q2318.1 243.297 2313.73 243.297 Q2304.66 243.297 2299.35 237.829 Q2294.08 232.32 2294.08 222.8 Q2294.08 213.483 2299.59 207.852 Q2305.1 202.221 2314.26 202.221 Q2324.75 202.221 2330.26 210.283 Q2335.81 218.303 2335.81 233.616 Q2335.81 247.916 2329 256.463 Q2322.24 264.97 2310.77 264.97 Q2307.69 264.97 2304.53 264.362 Q2301.37 263.755 2297.97 262.539 M2314.26 236.897 Q2319.77 236.897 2322.97 233.13 Q2326.21 229.362 2326.21 222.8 Q2326.21 216.278 2322.97 212.511 Q2319.77 208.703 2314.26 208.703 Q2308.75 208.703 2305.51 212.511 Q2302.31 216.278 2302.31 222.8 Q2302.31 229.362 2305.51 233.13 Q2308.75 236.897 2314.26 236.897 Z\" fill=\"#000000\" fill-rule=\"nonzero\" fill-opacity=\"1\" /><path clip-path=\"url(#clip450)\" d=\"M2262.87 41.1114 Q2257.04 41.1114 2253.68 44.2306 Q2250.35 47.3498 2250.35 52.8185 Q2250.35 58.2872 2253.68 61.4064 Q2257.04 64.5256 2262.87 64.5256 Q2268.7 64.5256 2272.07 61.4064 Q2275.43 58.2467 2275.43 52.8185 Q2275.43 47.3498 2272.07 44.2306 Q2268.74 41.1114 2262.87 41.1114 M2254.69 37.6276 Q2249.42 36.3313 2246.46 32.726 Q2243.55 29.1207 2243.55 23.9355 Q2243.55 16.6844 2248.69 12.4715 Q2253.88 8.25853 2262.87 8.25853 Q2271.9 8.25853 2277.05 12.4715 Q2282.19 16.6844 2282.19 23.9355 Q2282.19 29.1207 2279.24 32.726 Q2276.32 36.3313 2271.09 37.6276 Q2277.01 39.0049 2280.29 43.0153 Q2283.61 47.0257 2283.61 52.8185 Q2283.61 61.6089 2278.22 66.308 Q2272.88 71.007 2262.87 71.007 Q2252.86 71.007 2247.48 66.308 Q2242.13 61.6089 2242.13 52.8185 Q2242.13 47.0257 2245.45 43.0153 Q2248.77 39.0049 2254.69 37.6276 M2251.69 24.7052 Q2251.69 29.4043 2254.61 32.0373 Q2257.56 34.6704 2262.87 34.6704 Q2268.14 34.6704 2271.09 32.0373 Q2274.09 29.4043 2274.09 24.7052 Q2274.09 20.0062 2271.09 17.3731 Q2268.14 14.74 2262.87 14.74 Q2257.56 14.74 2254.61 17.3731 Q2251.69 20.0062 2251.69 24.7052 Z\" fill=\"#000000\" fill-rule=\"nonzero\" fill-opacity=\"1\" /><path clip-path=\"url(#clip450)\" d=\"M2315.65 14.74 Q2309.33 14.74 2306.13 20.9784 Q2302.97 27.1763 2302.97 39.653 Q2302.97 52.0893 2306.13 58.3277 Q2309.33 64.5256 2315.65 64.5256 Q2322.01 64.5256 2325.17 58.3277 Q2328.37 52.0893 2328.37 39.653 Q2328.37 27.1763 2325.17 20.9784 Q2322.01 14.74 2315.65 14.74 M2315.65 8.25853 Q2325.82 8.25853 2331.17 16.3198 Q2336.56 24.3406 2336.56 39.653 Q2336.56 54.9249 2331.17 62.9862 Q2325.82 71.007 2315.65 71.007 Q2305.49 71.007 2300.1 62.9862 Q2294.75 54.9249 2294.75 39.653 Q2294.75 24.3406 2300.1 16.3198 Q2305.49 8.25853 2315.65 8.25853 Z\" fill=\"#000000\" fill-rule=\"nonzero\" fill-opacity=\"1\" /></svg>\n"
      ]
     },
     "execution_count": 254,
     "metadata": {},
     "output_type": "execute_result"
    }
   ],
   "source": [
    "# heatmap(reshape(avg_density, Nx, Ny))\n",
    "# pp = CairoMakie.scatter(y_coordinates, x_coordinates, color=:black, markersize=5)\n",
    "\n",
    "xx_coordinates = square_lattice(Nx,Ny)[2][:,1]\n",
    "yy_coordinates = square_lattice(Nx,Ny)[2][:,2]\n",
    "sites = []\n",
    "for i in 1:N\n",
    "    push!(sites,i)\n",
    "end\n",
    "Plots.scatter(yy_coordinates, xx_coordinates, series_annotations = text.(sites, :bottom), label=false)"
   ]
  },
  {
   "cell_type": "markdown",
   "id": "c8ba1c1a-0466-4c0e-ae50-68651ddddd72",
   "metadata": {},
   "source": [
    "# Animation"
   ]
  },
  {
   "cell_type": "code",
   "execution_count": 39,
   "id": "3b94f5ae-a205-48ea-9ed7-bac8407b3a50",
   "metadata": {
    "tags": []
   },
   "outputs": [],
   "source": [
    "# animated_exp_list = zeros(N,1,length(r_hubbard_states))\n",
    "# function animated_e_l()\n",
    "#     for i in 1:length(r_hubbard_states)\n",
    "#         expect_list=[]\n",
    "#         for j in 1:N\n",
    "#             T = NM_MB_Array_Storage[:,:,j]\n",
    "#             Op = Operator(BL,BR,T)\n",
    "#             push!(expect_list,expect(Op, r_hubbard_states[i]))\n",
    "#         end\n",
    "#         animated_exp_list[:,:,i] = real(expect_list)\n",
    "#     end\n",
    "#     return animated_exp_list\n",
    "# end"
   ]
  },
  {
   "cell_type": "code",
   "execution_count": 40,
   "id": "4476fa87-c99f-4428-a0d5-473049a5893a",
   "metadata": {
    "tags": []
   },
   "outputs": [],
   "source": [
    "# k = 1\n",
    "# initial_condition = reshape(animated_e_l()[:,:,k], Nx, Ny) #psi_1 (psi_k)'e karşılık gelen density matrix\n",
    "# heatmap(initial_condition)"
   ]
  },
  {
   "cell_type": "code",
   "execution_count": 41,
   "id": "e0b08e68-6ca6-4923-9cd6-2ec9f5cdf609",
   "metadata": {
    "tags": []
   },
   "outputs": [],
   "source": [
    "# initial_condition = reshape(animated_e_l()[:,:,1], Nx, Ny)\n",
    "# fps = 20\n",
    "# function heatgif(initial_condition)\n",
    "#     p = heatmap(initial_condition, xlabel=\"x\", ylabel=\"y\", title=(\"Nx=$Nx,Ny=$Ny,co=$cut_off,PN=$pn,U=$U, fps=$fps\"))\n",
    "#     anim = @animate for i=1:length(r_hubbard_states)\n",
    "#         h_map_matrix = reshape(animated_e_l()[:,:,i],Nx,Ny)\n",
    "#         heatmap!(p[1], h_map_matrix)\n",
    "#     end\n",
    "#     return anim\n",
    "# end"
   ]
  },
  {
   "cell_type": "code",
   "execution_count": 42,
   "id": "91adf7db-1421-4fd3-8615-3550623f1568",
   "metadata": {
    "tags": []
   },
   "outputs": [],
   "source": [
    "# anim = heatgif(initial_condition)\n",
    "# gif(anim, \"OUTPUT.gif\", fps=fps)"
   ]
  }
 ],
 "metadata": {
  "kernelspec": {
   "display_name": "Julia 1.8.1",
   "language": "julia",
   "name": "julia-1.8"
  },
  "language_info": {
   "file_extension": ".jl",
   "mimetype": "application/julia",
   "name": "julia",
   "version": "1.8.1"
  }
 },
 "nbformat": 4,
 "nbformat_minor": 5
}
