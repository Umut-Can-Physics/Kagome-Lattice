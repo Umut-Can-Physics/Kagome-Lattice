{
 "cells": [
  {
   "cell_type": "code",
   "execution_count": 1,
   "id": "portuguese-prediction",
   "metadata": {
    "tags": []
   },
   "outputs": [],
   "source": [
    "using NBInclude\n",
    "@nbinclude(\"Hofstadter Single Particle in Julia.ipynb\")\n",
    "@nbinclude(joinpath(\"..\",\"First Band Approximation Functions.ipynb\"));"
   ]
  },
  {
   "cell_type": "markdown",
   "id": "1cbf7141-36bd-4ef7-9487-deb38a7b9128",
   "metadata": {
    "tags": []
   },
   "source": [
    "# Initial Parameters"
   ]
  },
  {
   "cell_type": "code",
   "execution_count": 2,
   "id": "about-bones",
   "metadata": {
    "tags": []
   },
   "outputs": [],
   "source": [
    "Nx = 8; Ny = 10; N=Nx*Ny; p = 1; q = 10; cut_off = 8;\n",
    "PN = [0,1,2,3];\n",
    "U = 2;"
   ]
  },
  {
   "cell_type": "markdown",
   "id": "aa578b60-4cd3-49a9-8e3d-aabffe7d92cf",
   "metadata": {
    "tags": []
   },
   "source": [
    "# Single-Particle"
   ]
  },
  {
   "cell_type": "code",
   "execution_count": 3,
   "id": "imperial-crisis",
   "metadata": {
    "tags": []
   },
   "outputs": [
    {
     "data": {
      "text/latex": [
       "Compute the single-particle operator from single-particle matrix.\n",
       "\n",
       "\\paragraph{Arguments}\n",
       "\\begin{itemize}\n",
       "\\item \\texttt{sp\\_basis::NLevelBasis}: Single-Particle basis.\n",
       "\n",
       "\n",
       "\\item \\texttt{N::Integer}: The total site number.\n",
       "\n",
       "\n",
       "\\item \\texttt{sp\\_matrix::Matrix}: Hopping phases matrix from any model.\n",
       "\n",
       "\\end{itemize}\n"
      ],
      "text/markdown": [
       "Compute the single-particle operator from single-particle matrix.\n",
       "\n",
       "#### Arguments\n",
       "\n",
       "  * `sp_basis::NLevelBasis`: Single-Particle basis.\n",
       "  * `N::Integer`: The total site number.\n",
       "  * `sp_matrix::Matrix`: Hopping phases matrix from any model.\n"
      ],
      "text/plain": [
       "  Compute the single-particle operator from single-particle matrix.\n",
       "\n",
       "\u001b[1m  Arguments\u001b[22m\n",
       "\u001b[1m  -----------\u001b[22m\n",
       "\n",
       "    •  \u001b[36msp_basis::NLevelBasis\u001b[39m: Single-Particle basis.\n",
       "\n",
       "    •  \u001b[36mN::Integer\u001b[39m: The total site number.\n",
       "\n",
       "    •  \u001b[36msp_matrix::Matrix\u001b[39m: Hopping phases matrix from any model."
      ]
     },
     "execution_count": 3,
     "metadata": {},
     "output_type": "execute_result"
    }
   ],
   "source": [
    "@doc get_sp_op"
   ]
  },
  {
   "cell_type": "code",
   "execution_count": 4,
   "id": "temporal-cleveland",
   "metadata": {
    "tags": []
   },
   "outputs": [],
   "source": [
    "sp_basis = NLevelBasis(N)\n",
    "periodicity = 0\n",
    "sp_matrix = Hofstadter_SP(Nx, Ny, p/q, periodicity);"
   ]
  },
  {
   "cell_type": "code",
   "execution_count": 5,
   "id": "likely-spank",
   "metadata": {
    "tags": []
   },
   "outputs": [],
   "source": [
    "H1 = get_sp_op(sp_basis, N, sp_matrix);"
   ]
  },
  {
   "cell_type": "code",
   "execution_count": 6,
   "id": "ignored-medium",
   "metadata": {
    "tags": []
   },
   "outputs": [
    {
     "name": "stdout",
     "output_type": "stream",
     "text": [
      "80-element Vector{Float64}:\n",
      " -3.420053641408173\n",
      " -3.4200536414081695\n",
      " -3.4200153004721425\n",
      " -3.420015300472141\n",
      " -3.4200153004721403\n",
      " -3.4200153004721376\n",
      " -3.419976950201189\n",
      " -3.419976950201185\n",
      " -2.35230282337433\n",
      " -2.35230282337433\n",
      " -2.351552346547092\n",
      " -2.351552346547092\n",
      " -2.351552346547092\n",
      " -2.351552346547091\n",
      " -2.3507988713924597\n",
      " -2.3507988713924592\n",
      " -1.4776985043449289\n",
      " -1.477698504344928\n",
      " -1.4715820869198095\n",
      " -1.4715820869198095\n",
      " -1.4715820869198086\n",
      " -1.4715820869198086\n",
      " -1.465283441759455\n",
      " -1.4652834417594534\n",
      " -0.7570660026277768\n",
      " -0.7570660026277768\n",
      " -0.7258326903745499\n",
      " -0.7258326903745488\n",
      " -0.7258326903745481\n",
      " -0.7258326903745479\n",
      " -0.6882911202826466\n",
      " -0.6882911202826453\n",
      " -0.3458904742074982\n",
      " -0.3458904742074975\n",
      " -0.28514903651549856\n",
      " -0.28514903651549783\n",
      " -0.2851490365154978\n",
      " -0.2851490365154963\n",
      " -0.2241084340414668\n",
      " -0.22410843404146663\n",
      "  0.22410843404146696\n",
      "  0.22410843404146735\n",
      "  0.2851490365154943\n",
      "  0.2851490365154979\n",
      "  0.2851490365154984\n",
      "  0.2851490365154986\n",
      "  0.3458904742074982\n",
      "  0.3458904742074983\n",
      "  0.6882911202826455\n",
      "  0.6882911202826474\n",
      "  0.7258326903745481\n",
      "  0.7258326903745482\n",
      "  0.7258326903745485\n",
      "  0.7258326903745492\n",
      "  0.7570660026277776\n",
      "  0.7570660026277782\n",
      "  1.465283441759455\n",
      "  1.4652834417594562\n",
      "  1.4715820869198097\n",
      "  1.4715820869198104\n",
      "  1.4715820869198106\n",
      "  1.4715820869198106\n",
      "  1.4776985043449296\n",
      "  1.4776985043449304\n",
      "  2.3507988713924584\n",
      "  2.3507988713924592\n",
      "  2.3515523465470904\n",
      "  2.351552346547091\n",
      "  2.3515523465470953\n",
      "  2.3515523465470984\n",
      "  2.3523028233743286\n",
      "  2.3523028233743295\n",
      "  3.419976950201186\n",
      "  3.4199769502011867\n",
      "  3.420015300472135\n",
      "  3.4200153004721385\n",
      "  3.420015300472139\n",
      "  3.4200153004721394\n",
      "  3.4200536414081695\n",
      "  3.42005364140817"
     ]
    }
   ],
   "source": [
    "using LinearAlgebra\n",
    "eigenenergies(dense(H1)) == eigvals(sp_matrix) # true\n",
    "show(stdout, \"text/plain\", eigvals(sp_matrix))"
   ]
  },
  {
   "cell_type": "code",
   "execution_count": 7,
   "id": "e2e9066d-37c3-4286-b5fa-db560eacf4c0",
   "metadata": {
    "tags": []
   },
   "outputs": [
    {
     "data": {
      "text/latex": [
       "Compute the first eigen-states in a given number.\n",
       "\n",
       "\\paragraph{Arguments}\n",
       "\\begin{itemize}\n",
       "\\item \\texttt{sp\\_op::get\\_sp\\_op}: Single-particle operator.\n",
       "\n",
       "\n",
       "\\item \\texttt{cut\\_off::Int}: Limit value of eigen-state index.\n",
       "\n",
       "\\end{itemize}\n"
      ],
      "text/markdown": [
       "Compute the first eigen-states in a given number.\n",
       "\n",
       "#### Arguments\n",
       "\n",
       "  * `sp_op::get_sp_op`: Single-particle operator.\n",
       "  * `cut_off::Int`: Limit value of eigen-state index.\n"
      ],
      "text/plain": [
       "  Compute the first eigen-states in a given number.\n",
       "\n",
       "\u001b[1m  Arguments\u001b[22m\n",
       "\u001b[1m  -----------\u001b[22m\n",
       "\n",
       "    •  \u001b[36msp_op::get_sp_op\u001b[39m: Single-particle operator.\n",
       "\n",
       "    •  \u001b[36mcut_off::Int\u001b[39m: Limit value of eigen-state index."
      ]
     },
     "execution_count": 7,
     "metadata": {},
     "output_type": "execute_result"
    }
   ],
   "source": [
    "@doc get_sub_states"
   ]
  },
  {
   "cell_type": "code",
   "execution_count": 8,
   "id": "compact-brooks",
   "metadata": {
    "tags": []
   },
   "outputs": [],
   "source": [
    "sub_states = get_sub_states(H1, cut_off);"
   ]
  },
  {
   "cell_type": "code",
   "execution_count": 9,
   "id": "d644861d-5ac6-4597-bfdb-9df51e96c229",
   "metadata": {
    "tags": []
   },
   "outputs": [
    {
     "data": {
      "text/latex": [
       "Compute sub-space basis, projection and comlex conjugate of projection operator.\n",
       "\n",
       "\\paragraph{Arguments}\n",
       "\\begin{itemize}\n",
       "\\item \\texttt{states::get\\_sub\\_states}: Eigen-states of the sub-space.\n",
       "\n",
       "\n",
       "\\item \\texttt{basis::NLevelBasis}: Single-particle basis.\n",
       "\n",
       "\\end{itemize}\n"
      ],
      "text/markdown": [
       "Compute sub-space basis, projection and comlex conjugate of projection operator.\n",
       "\n",
       "#### Arguments\n",
       "\n",
       "  * `states::get_sub_states`: Eigen-states of the sub-space.\n",
       "  * `basis::NLevelBasis`: Single-particle basis.\n"
      ],
      "text/plain": [
       "  Compute sub-space basis, projection and comlex conjugate of projection\n",
       "  operator.\n",
       "\n",
       "\u001b[1m  Arguments\u001b[22m\n",
       "\u001b[1m  -----------\u001b[22m\n",
       "\n",
       "    •  \u001b[36mstates::get_sub_states\u001b[39m: Eigen-states of the sub-space.\n",
       "\n",
       "    •  \u001b[36mbasis::NLevelBasis\u001b[39m: Single-particle basis."
      ]
     },
     "execution_count": 9,
     "metadata": {},
     "output_type": "execute_result"
    }
   ],
   "source": [
    "@doc get_projector_op"
   ]
  },
  {
   "cell_type": "code",
   "execution_count": 10,
   "id": "molecular-bankruptcy",
   "metadata": {
    "tags": []
   },
   "outputs": [],
   "source": [
    "basis_sub, P, Pt = get_projector_op(sub_states, sp_basis);"
   ]
  },
  {
   "cell_type": "code",
   "execution_count": 11,
   "id": "dd280e68-52a1-4367-b2f8-e73c8533f8bb",
   "metadata": {
    "tags": []
   },
   "outputs": [
    {
     "data": {
      "text/latex": [
       "Compute the corresponding operator in the sub-space.\n",
       "\n",
       "\\paragraph{Arguments}\n",
       "\\begin{itemize}\n",
       "\\item \\texttt{sp\\_op::Operator}: Single-particle operator from single-particle matrix.\n",
       "\n",
       "\n",
       "\\item \\texttt{P::get\\_projector\\_op[2]}: Projection operator.\n",
       "\n",
       "\n",
       "\\item \\texttt{Pt::get\\_projector\\_op[3]}: Complex conjugate of projection operator.\n",
       "\n",
       "\\end{itemize}\n"
      ],
      "text/markdown": [
       "Compute the corresponding operator in the sub-space.\n",
       "\n",
       "#### Arguments\n",
       "\n",
       "  * `sp_op::Operator`: Single-particle operator from single-particle matrix.\n",
       "  * `P::get_projector_op[2]`: Projection operator.\n",
       "  * `Pt::get_projector_op[3]`: Complex conjugate of projection operator.\n"
      ],
      "text/plain": [
       "  Compute the corresponding operator in the sub-space.\n",
       "\n",
       "\u001b[1m  Arguments\u001b[22m\n",
       "\u001b[1m  -----------\u001b[22m\n",
       "\n",
       "    •  \u001b[36msp_op::Operator\u001b[39m: Single-particle operator from single-particle\n",
       "       matrix.\n",
       "\n",
       "    •  \u001b[36mP::get_projector_op[2]\u001b[39m: Projection operator.\n",
       "\n",
       "    •  \u001b[36mPt::get_projector_op[3]\u001b[39m: Complex conjugate of projection operator."
      ]
     },
     "execution_count": 11,
     "metadata": {},
     "output_type": "execute_result"
    }
   ],
   "source": [
    "@doc get_subspace_op"
   ]
  },
  {
   "cell_type": "code",
   "execution_count": 12,
   "id": "informed-macro",
   "metadata": {
    "tags": []
   },
   "outputs": [],
   "source": [
    "H1_sub = get_subspace_op(H1, P, Pt);"
   ]
  },
  {
   "cell_type": "code",
   "execution_count": 13,
   "id": "c4bc4b2e-2868-45fa-8200-c6187ed42627",
   "metadata": {
    "tags": []
   },
   "outputs": [
    {
     "data": {
      "text/latex": [
       "Compute the single-particle number operator for each lattice sites.\n",
       "\n",
       "\\paragraph{Arguments}\n",
       "\\begin{itemize}\n",
       "\\item \\texttt{N::Integer}: The total site number.\n",
       "\n",
       "\n",
       "\\item \\texttt{sp\\_basis::NLevelBasis}: Single-Particle basis.\n",
       "\n",
       "\n",
       "\\item \\texttt{P::get\\_projector\\_op[2]}: Projection operator.\n",
       "\n",
       "\n",
       "\\item \\texttt{Pt::get\\_projector\\_op[3]}: Complex conjugate of projection operator.\n",
       "\n",
       "\\end{itemize}\n"
      ],
      "text/markdown": [
       "Compute the single-particle number operator for each lattice sites.\n",
       "\n",
       "#### Arguments\n",
       "\n",
       "  * `N::Integer`: The total site number.\n",
       "  * `sp_basis::NLevelBasis`: Single-Particle basis.\n",
       "  * `P::get_projector_op[2]`: Projection operator.\n",
       "  * `Pt::get_projector_op[3]`: Complex conjugate of projection operator.\n"
      ],
      "text/plain": [
       "  Compute the single-particle number operator for each lattice sites.\n",
       "\n",
       "\u001b[1m  Arguments\u001b[22m\n",
       "\u001b[1m  -----------\u001b[22m\n",
       "\n",
       "    •  \u001b[36mN::Integer\u001b[39m: The total site number.\n",
       "\n",
       "    •  \u001b[36msp_basis::NLevelBasis\u001b[39m: Single-Particle basis.\n",
       "\n",
       "    •  \u001b[36mP::get_projector_op[2]\u001b[39m: Projection operator.\n",
       "\n",
       "    •  \u001b[36mPt::get_projector_op[3]\u001b[39m: Complex conjugate of projection operator."
      ]
     },
     "execution_count": 13,
     "metadata": {},
     "output_type": "execute_result"
    }
   ],
   "source": [
    "@doc get_num_sub_list"
   ]
  },
  {
   "cell_type": "code",
   "execution_count": 14,
   "id": "cross-patrol",
   "metadata": {
    "tags": []
   },
   "outputs": [],
   "source": [
    "num_sub_list = get_num_sub_list(N, sp_basis, P, Pt);"
   ]
  },
  {
   "cell_type": "markdown",
   "id": "particular-surrey",
   "metadata": {},
   "source": [
    "# Many-Body"
   ]
  },
  {
   "cell_type": "code",
   "execution_count": 15,
   "id": "cccffa5e-d4fd-4260-a7c5-d2fe183534e1",
   "metadata": {
    "tags": []
   },
   "outputs": [
    {
     "data": {
      "text/latex": [
       "Compute the many-body operator for boson particles from single-particle operator.\n",
       "\n",
       "\\paragraph{Arguments}\n",
       "\\begin{itemize}\n",
       "\\item \\texttt{basis\\_mb}: Many-body basis.\n",
       "\n",
       "\n",
       "\\item \\texttt{basis\\_sub::get\\_projector\\_op[1]}: Sub-space basis.\n",
       "\n",
       "\n",
       "\\item \\texttt{sp\\_op::Operator}: Single-particle operator from single-particle matrix.\n",
       "\n",
       "\\end{itemize}\n"
      ],
      "text/markdown": [
       "Compute the many-body operator for boson particles from single-particle operator.\n",
       "\n",
       "#### Arguments\n",
       "\n",
       "  * `basis_mb`: Many-body basis.\n",
       "  * `basis_sub::get_projector_op[1]`: Sub-space basis.\n",
       "  * `sp_op::Operator`: Single-particle operator from single-particle matrix.\n"
      ],
      "text/plain": [
       "  Compute the many-body operator for boson particles from single-particle\n",
       "  operator.\n",
       "\n",
       "\u001b[1m  Arguments\u001b[22m\n",
       "\u001b[1m  -----------\u001b[22m\n",
       "\n",
       "    •  \u001b[36mbasis_mb\u001b[39m: Many-body basis.\n",
       "\n",
       "    •  \u001b[36mbasis_sub::get_projector_op[1]\u001b[39m: Sub-space basis.\n",
       "\n",
       "    •  \u001b[36msp_op::Operator\u001b[39m: Single-particle operator from single-particle\n",
       "       matrix."
      ]
     },
     "execution_count": 15,
     "metadata": {},
     "output_type": "execute_result"
    }
   ],
   "source": [
    "@doc get_mb_op"
   ]
  },
  {
   "cell_type": "code",
   "execution_count": 16,
   "id": "2d6ddf03-05b6-497a-af81-8ccf124adde4",
   "metadata": {
    "tags": []
   },
   "outputs": [],
   "source": [
    "states_mb = bosonstates(basis_sub, PN) \n",
    "basis_mb = ManyBodyBasis(basis_sub, states_mb);"
   ]
  },
  {
   "cell_type": "code",
   "execution_count": 17,
   "id": "6eca28a4-7872-49e8-8e57-31306169840c",
   "metadata": {
    "tags": []
   },
   "outputs": [],
   "source": [
    "H1_MB = get_mb_op(basis_mb, basis_sub, H1_sub);"
   ]
  },
  {
   "cell_type": "code",
   "execution_count": 18,
   "id": "difficult-ground",
   "metadata": {
    "tags": []
   },
   "outputs": [],
   "source": [
    "# states_mb = bosonstates(b_sub, PN) \n",
    "# basis_mb = ManyBodyBasis(b_sub, states_mb)"
   ]
  },
  {
   "cell_type": "code",
   "execution_count": 19,
   "id": "final-reverse",
   "metadata": {
    "tags": []
   },
   "outputs": [],
   "source": [
    "# H1_MB = get_mb_op(basis_mb, b_sub, H1_sub);"
   ]
  },
  {
   "cell_type": "code",
   "execution_count": 20,
   "id": "4e49aaa7-d831-48fb-a9bb-77266aaed1b4",
   "metadata": {
    "tags": []
   },
   "outputs": [],
   "source": [
    "# @doc get_num_mb_list"
   ]
  },
  {
   "cell_type": "code",
   "execution_count": 21,
   "id": "advanced-edwards",
   "metadata": {
    "tags": []
   },
   "outputs": [],
   "source": [
    "# num_mb_list = get_num_mb_list(basis_mb, b_sub, num_sub_list);"
   ]
  },
  {
   "cell_type": "code",
   "execution_count": 22,
   "id": "d228561d-92e0-4e56-8eb3-0747bc107238",
   "metadata": {
    "tags": []
   },
   "outputs": [
    {
     "data": {
      "text/plain": [
       "Hofstadter_Finite_U (generic function with 1 method)"
      ]
     },
     "execution_count": 22,
     "metadata": {},
     "output_type": "execute_result"
    }
   ],
   "source": [
    "@nbinclude(\"Hofstadter MB in Julia.ipynb\"; regex=r\"#.*executeme\")"
   ]
  },
  {
   "cell_type": "code",
   "execution_count": 23,
   "id": "f5e7021c-a835-4d85-b45c-3ba5d456c977",
   "metadata": {
    "tags": []
   },
   "outputs": [
    {
     "data": {
      "text/latex": [
       "Compute the on-site Bose-Hubbard Interaction term.\n",
       "\n",
       "\\paragraph{Arguments:}\n",
       "\\begin{itemize}\n",
       "\\item \\texttt{basis\\_cut\\_sp}: The cutt-off sites of bosonic many-body basis.\n",
       "\n",
       "\n",
       "\\item \\texttt{basis\\_cut\\_mb}: The cutt-off sites of single-particle basis.\n",
       "\n",
       "\n",
       "\\item \\texttt{P::Operator}: Projection operator.\n",
       "\n",
       "\n",
       "\\item \\texttt{Pt::Operator}: Complex conjugate of projection operator.\n",
       "\n",
       "\n",
       "\\item \\texttt{cut\\_off::Int}: Limit value of eigen-state index.\n",
       "\n",
       "\\end{itemize}\n"
      ],
      "text/markdown": [
       "Compute the on-site Bose-Hubbard Interaction term.\n",
       "\n",
       "#### Arguments:\n",
       "\n",
       "  * `basis_cut_sp`: The cutt-off sites of bosonic many-body basis.\n",
       "  * `basis_cut_mb`: The cutt-off sites of single-particle basis.\n",
       "  * `P::Operator`: Projection operator.\n",
       "  * `Pt::Operator`: Complex conjugate of projection operator.\n",
       "  * `cut_off::Int`: Limit value of eigen-state index.\n"
      ],
      "text/plain": [
       "  Compute the on-site Bose-Hubbard Interaction term.\n",
       "\n",
       "\u001b[1m  Arguments:\u001b[22m\n",
       "\u001b[1m  ------------\u001b[22m\n",
       "\n",
       "    •  \u001b[36mbasis_cut_sp\u001b[39m: The cutt-off sites of bosonic many-body basis.\n",
       "\n",
       "    •  \u001b[36mbasis_cut_mb\u001b[39m: The cutt-off sites of single-particle basis.\n",
       "\n",
       "    •  \u001b[36mP::Operator\u001b[39m: Projection operator.\n",
       "\n",
       "    •  \u001b[36mPt::Operator\u001b[39m: Complex conjugate of projection operator.\n",
       "\n",
       "    •  \u001b[36mcut_off::Int\u001b[39m: Limit value of eigen-state index."
      ]
     },
     "execution_count": 23,
     "metadata": {},
     "output_type": "execute_result"
    }
   ],
   "source": [
    "@doc Hubbard_Interaction"
   ]
  },
  {
   "cell_type": "code",
   "execution_count": 24,
   "id": "dutch-philosophy",
   "metadata": {
    "tags": []
   },
   "outputs": [],
   "source": [
    "#bcut_mb, bcut = get_Bosonic_MB_Basis(cut_off,PN)\n",
    "basis_cut_mb, basis_cut_sp = get_Bosonic_MB_Basis(cut_off,PN)\n",
    "H_Int = Hubbard_Interaction(basis_cut_sp, basis_cut_mb, P, Pt, cut_off);"
   ]
  },
  {
   "cell_type": "markdown",
   "id": "865cc1d6-3246-4f5a-9c75-dfe67eab2040",
   "metadata": {},
   "source": [
    "# Constructing Total Hamiltonians "
   ]
  },
  {
   "cell_type": "code",
   "execution_count": 25,
   "id": "technical-technology",
   "metadata": {
    "tags": []
   },
   "outputs": [],
   "source": [
    "#bcut_mb, bcut = get_Bosonic_MB_Basis(cut_off,PN)\n",
    "H1cut = SparseOperator(basis_cut_mb)\n",
    "H1cut.data = H1_MB.data\n",
    "\n",
    "number_mb_list_operators = get_num_mb_op(N, basis_cut_sp, num_sub_list, basis_cut_mb, basis_sub)\n",
    "\n",
    "V = 4\n",
    "V_imp = V * number_mb_list_operators[45];\n",
    "H_total = H1cut + H_Int + V_imp;"
   ]
  },
  {
   "cell_type": "markdown",
   "id": "3f1b1096-6ac2-4940-9e20-a7b79871a0a7",
   "metadata": {},
   "source": [
    "# Exact-Diagonalization"
   ]
  },
  {
   "cell_type": "code",
   "execution_count": 26,
   "id": "436255b0-474b-4d97-8672-a458428a7a3d",
   "metadata": {
    "tags": []
   },
   "outputs": [
    {
     "data": {
      "text/plain": [
       "get_energies (generic function with 1 method)"
      ]
     },
     "execution_count": 26,
     "metadata": {},
     "output_type": "execute_result"
    }
   ],
   "source": [
    "using DataFrames\n",
    "\n",
    "E, U = eigenstates(dense(dense((H_total+dagger(H_total))/2)))\n",
    "\n",
    "function get_energies(pn, E, U, basis)\n",
    "    PN_Energies = Array{Float64}(undef, length(E), 2)\n",
    "    for i in 1:length(E)\n",
    "        PN_Energies[i] = round(expect(number(basis), U[i])) #expected values (first column)\n",
    "        PN_Energies[i,2] = E[i] #eigen-values (second column)\n",
    "    end\n",
    "    \n",
    "    # filter\n",
    "    df = DataFrame(PN_Energies, :auto)\n",
    "    df = filter(row -> (row.x1 == pn),  df)\n",
    "    \n",
    "    return df\n",
    "end"
   ]
  },
  {
   "cell_type": "code",
   "execution_count": 27,
   "id": "0fc34877-b975-44a9-bdf1-171087768b75",
   "metadata": {
    "tags": []
   },
   "outputs": [
    {
     "name": "stdout",
     "output_type": "stream",
     "text": [
      "120-element Vector{Float64}:\n",
      " -10.25989036827856\n",
      " -10.259884355536734\n",
      " -10.259864512378334\n",
      " -10.25985088435604\n",
      " -10.259839167727383\n",
      " -10.259824249734958\n",
      " -10.259823526897181\n",
      " -10.222086796366424\n",
      " -10.222016263190625\n",
      " -10.219513235302074\n",
      " -10.217732415278812\n",
      " -10.199841575511721\n",
      " -10.1964634812048\n",
      " -10.196370276921026\n",
      " -10.193897972434371\n",
      " -10.18860962520194\n",
      " -10.187124685014217\n",
      " -10.18711737709193\n",
      " -10.186720279397345\n",
      " -10.183076329588461\n",
      " -10.182809071771734\n",
      " -10.181271453209526\n",
      " -10.180632539389771\n",
      " -10.180167831109156\n",
      " -10.175528903872726\n",
      " -10.17527270547827\n",
      " -10.174944755401095\n",
      " -10.171993940011\n",
      " -10.167254547436373\n",
      " -10.164251522521697\n",
      " -10.163728078503043\n",
      " -10.163179883638062\n",
      " -10.162923289754174\n",
      " -10.162657819150247\n",
      " -10.162633162769872\n",
      " -10.157337248745863\n",
      " -10.152867101057538\n",
      " -10.152843232284178\n",
      " -10.15257961344863\n",
      " -10.150766859209641\n",
      " -10.14889866450043\n",
      " -10.147560425983405\n",
      " -10.147117480991529\n",
      " -10.142554852804855\n",
      " -10.142387363239061\n",
      " -10.1399374999124\n",
      " -10.135035512599288\n",
      " -10.131655201525328\n",
      " -10.129905207034367\n",
      " -10.129162259764824\n",
      " -10.127692315684708\n",
      " -10.12012293680393\n",
      " -10.119972910998118\n",
      " -10.117011224201272\n",
      " -10.116275662383579\n",
      " -10.116213511939813\n",
      " -10.115856858786746\n",
      " -10.115143556839806\n",
      " -10.109161819532082\n",
      " -10.10453895508036\n",
      " -10.104270512982279\n",
      " -10.100545365457517\n",
      " -10.098093199424978\n",
      " -10.09793640837661\n",
      " -10.076189152937266\n",
      " -10.049106424938312\n",
      " -10.026068882087031\n",
      " -10.004076205767035\n",
      "  -9.997208114041802\n",
      "  -9.981683274831136\n",
      "  -9.980822865609268\n",
      "  -9.968634664764803\n",
      "  -9.967719896436694\n",
      "  -9.963893475095972\n",
      "  -9.961905941945677\n",
      "  -9.961459088529793\n",
      "  -9.96139871912432\n",
      "  -9.961228176999695\n",
      "  -9.96118776811705\n",
      "  -9.960176971450338\n",
      "  -9.960008689529257\n",
      "  -9.95899029025289\n",
      "  -9.95883708056206\n",
      "  -9.957515746392385\n",
      "  -9.850881821888626\n",
      "  -9.841364185864261\n",
      "  -9.835708438760063\n",
      "  -9.832492746050333\n",
      "  -9.831909326035777\n",
      "  -9.810340776838611\n",
      "  -9.80669525964409\n",
      "  -9.805421055589774\n",
      "  -9.804421935855279\n",
      "  -9.7703380788478\n",
      "  -9.76806316251703\n",
      "  -9.767134024630483\n",
      "  -9.76248770156901\n",
      "  -9.756934659077633\n",
      "  -9.75686140824557\n",
      "  -9.752227879070656\n",
      "  -9.746654222876936\n",
      "  -9.738535866118028\n",
      "  -9.735030063723753\n",
      "  -9.720018255536305\n",
      "  -9.717226431165209\n",
      "  -9.695027764962301\n",
      "  -9.687856904481952\n",
      "  -9.679494881733666\n",
      "  -9.65120498916236\n",
      "  -9.646553983805251\n",
      "  -9.625829451051366\n",
      "  -9.621949132365057\n",
      "  -9.357538317049935\n",
      "  -9.349522601020238\n",
      "  -9.34758869155075\n",
      "  -9.317961495391943\n",
      "  -9.301453804822799\n",
      "  -9.241709143692601\n",
      "  -9.159917826968924\n",
      "  -8.75863103565573"
     ]
    }
   ],
   "source": [
    "pn = 3.0\n",
    "df = get_energies(pn, E, U, basis_cut_mb)\n",
    "filtered_energies = Matrix(df)[:,2]\n",
    "show(stdout,\"text/plain\", filtered_energies) #show all outputs"
   ]
  },
  {
   "cell_type": "markdown",
   "id": "aaca712c-b257-494d-bc14-71ded4bb8410",
   "metadata": {},
   "source": [
    "Allta ki fonksiyonun çalışması için, dizide ki filtre edilmiş parçacık sayısı her zaman en büyük değer olmalıdır.\n",
    "Örneğin, `PN=[0,1,2,3,4]` iken filtre edilen parçacık sayısı `pn=4` olmalıdır!"
   ]
  },
  {
   "cell_type": "code",
   "execution_count": 28,
   "id": "d582d7a3-67c3-4775-bcb8-2862643ca5ac",
   "metadata": {
    "tags": []
   },
   "outputs": [
    {
     "data": {
      "text/plain": [
       "Restricted_Hubbard_States (generic function with 1 method)"
      ]
     },
     "execution_count": 28,
     "metadata": {},
     "output_type": "execute_result"
    }
   ],
   "source": [
    "function Restricted_Hubbard_States(states)\n",
    "    number_of_states = length(filtered_energies)\n",
    "    return states[1:number_of_states];\n",
    "end"
   ]
  },
  {
   "cell_type": "code",
   "execution_count": 29,
   "id": "da17cb7c-bc14-4026-adae-386b3b5b2083",
   "metadata": {
    "tags": []
   },
   "outputs": [],
   "source": [
    "r_hubbard_states = Restricted_Hubbard_States(U);"
   ]
  },
  {
   "cell_type": "markdown",
   "id": "14aea968-4016-4dc6-965b-e194bc4b4944",
   "metadata": {},
   "source": [
    "# Density Profile"
   ]
  },
  {
   "cell_type": "code",
   "execution_count": 30,
   "id": "36f916a4-68d4-4448-ac28-a27d6f24ce86",
   "metadata": {
    "tags": []
   },
   "outputs": [
    {
     "data": {
      "text/plain": [
       "0.059204140591287 - 1.1100366773767606e-18im"
      ]
     },
     "execution_count": 30,
     "metadata": {},
     "output_type": "execute_result"
    }
   ],
   "source": [
    "# METHOD 1\n",
    "\n",
    "NM_MB_Array_Storage = zeros(Complex{Float64},length(basis_cut_mb),length(basis_cut_mb),N);\n",
    "NM_MB_Matrix = zeros(Complex{Float64},length(basis_cut_mb),length(basis_cut_mb));\n",
    "for m in 1:N\n",
    "    for i in 1:length(basis_cut_mb)\n",
    "        for j in 1:length(basis_cut_mb)\n",
    "            #NM_MB_Matrix[i,j] = num_mb_list[m].data[i,j]\n",
    "            NM_MB_Matrix[i,j] = number_mb_list_operators[m].data[i,j]\n",
    "            # NOT: num_mb_list ile number_mb_list_operators bazları farklı ama içerikleri aynı!\n",
    "        end\n",
    "    end\n",
    "    NM_MB_Array_Storage[:,:,m] = NM_MB_Matrix\n",
    "end\n",
    "\n",
    "BL = BR = basis_cut_mb\n",
    "index_number_op = 4\n",
    "T = NM_MB_Array_Storage[:,:,index_number_op]\n",
    "Op = Operator(BL,BR,T)\n",
    "index_eigen_states = 1\n",
    "expect(Op, r_hubbard_states[index_eigen_states])\n",
    "\n",
    "#or\n",
    "# expect(number_mb_list_operators[index_number_op],r_hubbard_states[index_eigen_states])"
   ]
  },
  {
   "cell_type": "code",
   "execution_count": 31,
   "id": "eb2700e3-348a-41e7-abf1-6f5f59e3705a",
   "metadata": {
    "tags": []
   },
   "outputs": [
    {
     "data": {
      "text/plain": [
       "4-element Vector{Int64}:\n",
       " 0\n",
       " 1\n",
       " 2\n",
       " 3"
      ]
     },
     "execution_count": 31,
     "metadata": {},
     "output_type": "execute_result"
    }
   ],
   "source": [
    "PN"
   ]
  },
  {
   "cell_type": "code",
   "execution_count": 32,
   "id": "81ff12cd-947c-4e4f-8b89-b4fc77c3f747",
   "metadata": {
    "tags": []
   },
   "outputs": [],
   "source": [
    "Sum = 0\n",
    "total_expect_list=[]\n",
    "\n",
    "for i in 1:N\n",
    "    T = NM_MB_Array_Storage[:,:,i]\n",
    "    Op = Operator(BL,BR,T)\n",
    "    n_i = 0\n",
    "    for index_eig_states in 1:q        \n",
    "        Sum += expect(Op, r_hubbard_states[index_eig_states])\n",
    "        #println(i,\"\\t\",expect(Op, r_hubbard_states[index_eig_states]))\n",
    "        n_i += expect(Op, r_hubbard_states[index_eig_states])\n",
    "    end\n",
    "    push!(total_expect_list,n_i)\n",
    "end"
   ]
  },
  {
   "cell_type": "code",
   "execution_count": 33,
   "id": "76f88a82-5b2a-42be-8493-09d88c08e621",
   "metadata": {
    "tags": []
   },
   "outputs": [
    {
     "data": {
      "text/plain": [
       "3.0000000000000004 - 6.812805910105764e-18im"
      ]
     },
     "execution_count": 33,
     "metadata": {},
     "output_type": "execute_result"
    }
   ],
   "source": [
    "index_eig_states = 1\n",
    "Sum = 0\n",
    "expect_list=[]\n",
    "\n",
    "for i in 1:N\n",
    "    T = NM_MB_Array_Storage[:,:,i]\n",
    "    Op = Operator(BL,BR,T)      \n",
    "    Sum += expect(Op, r_hubbard_states[index_eig_states])\n",
    "    #println(i,\"\\t\",expect(Op, r_hubbard_states[index_eig_states]))\n",
    "    push!(expect_list,expect(Op, r_hubbard_states[index_eig_states]))\n",
    "end\n",
    "Sum"
   ]
  },
  {
   "cell_type": "code",
   "execution_count": null,
   "id": "0bc8aee0-82b0-41f1-9540-bbda21f62eed",
   "metadata": {
    "tags": []
   },
   "outputs": [],
   "source": [
    "using Plots\n",
    "plot(1:20,E,seriestype=:scatter,title=\"Periodicity=$(periodicity)\")"
   ]
  },
  {
   "cell_type": "code",
   "execution_count": null,
   "id": "bc80592c-045b-4898-9a4b-c414e446434f",
   "metadata": {
    "tags": []
   },
   "outputs": [],
   "source": [
    "z = reshape(real(total_expect_list), Nx, Ny)\n",
    "heatmap(z, c=:thermal, xlabel=\"x\", ylabel=\"y\", title=(\"Nx=$Nx,Ny=$Ny,co=$cut_off,PN=$pn,U=$U \\n Psi($index_eig_states), Periodicity=$periodicity\"))"
   ]
  },
  {
   "cell_type": "code",
   "execution_count": null,
   "id": "00f3efcf-980b-4cb2-9c75-ee1229f7c84f",
   "metadata": {
    "tags": []
   },
   "outputs": [],
   "source": [
    "z = reshape(real(expect_list), Nx, Ny)\n",
    "heatmap(z, c=:thermal, xlabel=\"x\", ylabel=\"y\", title=(\"Nx=$Nx,Ny=$Ny,co=$cut_off,PN=$pn,U=$U \\n Psi($index_eig_states), Periodicity=$periodicity\"))"
   ]
  },
  {
   "cell_type": "markdown",
   "id": "c8ba1c1a-0466-4c0e-ae50-68651ddddd72",
   "metadata": {},
   "source": [
    "# Animation"
   ]
  },
  {
   "cell_type": "code",
   "execution_count": null,
   "id": "3b94f5ae-a205-48ea-9ed7-bac8407b3a50",
   "metadata": {
    "tags": []
   },
   "outputs": [],
   "source": [
    "# animated_exp_list = zeros(N,1,length(r_hubbard_states))\n",
    "# function animated_e_l()\n",
    "#     for i in 1:length(r_hubbard_states)\n",
    "#         expect_list=[]\n",
    "#         for j in 1:N\n",
    "#             T = NM_MB_Array_Storage[:,:,j]\n",
    "#             Op = Operator(BL,BR,T)\n",
    "#             push!(expect_list,expect(Op, r_hubbard_states[i]))\n",
    "#         end\n",
    "#         animated_exp_list[:,:,i] = real(expect_list)\n",
    "#     end\n",
    "#     return animated_exp_list\n",
    "# end"
   ]
  },
  {
   "cell_type": "code",
   "execution_count": null,
   "id": "4476fa87-c99f-4428-a0d5-473049a5893a",
   "metadata": {
    "tags": []
   },
   "outputs": [],
   "source": [
    "# k = 1\n",
    "# initial_condition = reshape(animated_e_l()[:,:,k], Nx, Ny) #psi_1 (psi_k)'e karşılık gelen density matrix\n",
    "# heatmap(initial_condition)"
   ]
  },
  {
   "cell_type": "code",
   "execution_count": null,
   "id": "e0b08e68-6ca6-4923-9cd6-2ec9f5cdf609",
   "metadata": {
    "tags": []
   },
   "outputs": [],
   "source": [
    "# initial_condition = reshape(animated_e_l()[:,:,1], Nx, Ny)\n",
    "# fps = 20\n",
    "# function heatgif(initial_condition)\n",
    "#     p = heatmap(initial_condition, xlabel=\"x\", ylabel=\"y\", title=(\"Nx=$Nx,Ny=$Ny,co=$cut_off,PN=$pn,U=$U, fps=$fps\"))\n",
    "#     anim = @animate for i=1:length(r_hubbard_states)\n",
    "#         h_map_matrix = reshape(animated_e_l()[:,:,i],Nx,Ny)\n",
    "#         heatmap!(p[1], h_map_matrix)\n",
    "#     end\n",
    "#     return anim\n",
    "# end"
   ]
  },
  {
   "cell_type": "code",
   "execution_count": null,
   "id": "91adf7db-1421-4fd3-8615-3550623f1568",
   "metadata": {
    "tags": []
   },
   "outputs": [],
   "source": [
    "# anim = heatgif(initial_condition)\n",
    "# gif(anim, \"OUTPUT.gif\", fps=fps)"
   ]
  }
 ],
 "metadata": {
  "kernelspec": {
   "display_name": "Julia 1.8.1",
   "language": "julia",
   "name": "julia-1.8"
  },
  "language_info": {
   "file_extension": ".jl",
   "mimetype": "application/julia",
   "name": "julia",
   "version": "1.8.1"
  }
 },
 "nbformat": 4,
 "nbformat_minor": 5
}
