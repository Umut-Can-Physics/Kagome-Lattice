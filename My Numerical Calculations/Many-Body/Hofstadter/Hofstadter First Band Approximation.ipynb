{
 "cells": [
  {
   "cell_type": "code",
   "execution_count": 42,
   "id": "therapeutic-impossible",
   "metadata": {
    "tags": []
   },
   "outputs": [
    {
     "data": {
      "text/plain": [
       "Hofstadter_SP (generic function with 1 method)"
      ]
     },
     "execution_count": 42,
     "metadata": {},
     "output_type": "execute_result"
    }
   ],
   "source": [
    "# executeme\n",
    "\n",
    "using NBInclude\n",
    "@nbinclude(\"Hofstadter Single Particle in Julia.ipynb\")"
   ]
  },
  {
   "cell_type": "code",
   "execution_count": 43,
   "id": "altered-twelve",
   "metadata": {
    "tags": []
   },
   "outputs": [],
   "source": [
    "# executeme\n",
    "\n",
    "#@time begin\n",
    "using QuantumOptics\n",
    "\n",
    "#https://juliapackages.com/p/einsum\n",
    "using Einsum\n",
    "\n",
    "# https://github.com/Jutho/TensorOperations.jl\n",
    "using TensorOperations\n",
    "\n",
    "using BenchmarkTools\n",
    "\n",
    "using LinearAlgebra\n",
    "\n",
    "#end"
   ]
  },
  {
   "cell_type": "markdown",
   "id": "raising-pathology",
   "metadata": {},
   "source": [
    "1) Hofstadter SP QoJulia energies are has to be equal to Hofstadter Single Particle energies."
   ]
  },
  {
   "cell_type": "code",
   "execution_count": 97,
   "id": "dressed-angel",
   "metadata": {
    "tags": []
   },
   "outputs": [
    {
     "data": {
      "text/plain": [
       "2"
      ]
     },
     "execution_count": 97,
     "metadata": {},
     "output_type": "execute_result"
    }
   ],
   "source": [
    "Nx = 8; Ny = 8; N=Nx*Ny; q = Nx; N_cut = q\n",
    "PN = 2\n",
    "U = 2"
   ]
  },
  {
   "cell_type": "code",
   "execution_count": 98,
   "id": "28e1fbf1-4daa-4fe4-90ae-1d865cffe1d3",
   "metadata": {
    "tags": []
   },
   "outputs": [],
   "source": [
    "basis = NLevelBasis(N)\n",
    "Op = Hofstadter_SP(Nx,Ny,1/q, 0);"
   ]
  },
  {
   "cell_type": "code",
   "execution_count": 99,
   "id": "gothic-protest",
   "metadata": {
    "tags": []
   },
   "outputs": [
    {
     "data": {
      "text/plain": [
       "get_sp_op (generic function with 1 method)"
      ]
     },
     "execution_count": 99,
     "metadata": {},
     "output_type": "execute_result"
    }
   ],
   "source": [
    "# executeme\n",
    "\n",
    "function get_sp_op(basis, Op)\n",
    "  \n",
    "    H = SparseOperator(basis)\n",
    "\n",
    "    for m in 1:N\n",
    "        for n in 1:N\n",
    "            H = H + Op[m,n] * transition(basis, m, n)\n",
    "        end\n",
    "    end\n",
    "    \n",
    "    return H\n",
    "end"
   ]
  },
  {
   "cell_type": "code",
   "execution_count": 100,
   "id": "exotic-oracle",
   "metadata": {
    "tags": []
   },
   "outputs": [
    {
     "data": {
      "text/plain": [
       "Operator(dim=64x64)\n",
       "  basis: NLevel(N=64)sparse([2, 8, 9, 57, 1, 3, 10, 58, 2, 4  …  61, 63, 7, 55, 62, 64, 8, 56, 57, 63], [1, 1, 1, 1, 2, 2, 2, 2, 3, 3  …  62, 62, 63, 63, 63, 63, 64, 64, 64, 64], ComplexF64[-1.0 + 0.0im, -1.0 + 0.0im, -1.0 + 0.0im, -1.0 + 0.0im, -1.0 + 0.0im, -1.0 + 0.0im, -0.7071067811865476 - 0.7071067811865475im, -0.7071067811865476 + 0.7071067811865475im, -1.0 + 0.0im, -1.0 + 0.0im  …  -1.0 + 0.0im, -1.0 + 0.0im, 1.8e-16 + 1.0im, 1.8e-16 - 1.0im, -1.0 + 0.0im, -1.0 + 0.0im, -0.7071067811865474 + 0.7071067811865477im, -0.7071067811865474 - 0.7071067811865477im, -1.0 + 0.0im, -1.0 + 0.0im], 64, 64)"
      ]
     },
     "execution_count": 100,
     "metadata": {},
     "output_type": "execute_result"
    }
   ],
   "source": [
    "H1 = get_sp_op(basis, Op)"
   ]
  },
  {
   "cell_type": "code",
   "execution_count": 101,
   "id": "bearing-burner",
   "metadata": {
    "tags": []
   },
   "outputs": [
    {
     "data": {
      "text/plain": [
       "true"
      ]
     },
     "execution_count": 101,
     "metadata": {},
     "output_type": "execute_result"
    }
   ],
   "source": [
    "#check op. form\n",
    "eigenenergies(dense(H1)) == eigvals(Hofstadter_SP(Nx,Ny,1/q,0))"
   ]
  },
  {
   "cell_type": "code",
   "execution_count": 102,
   "id": "quality-oakland",
   "metadata": {
    "tags": []
   },
   "outputs": [
    {
     "data": {
      "text/plain": [
       "get_sub_states (generic function with 1 method)"
      ]
     },
     "execution_count": 102,
     "metadata": {},
     "output_type": "execute_result"
    }
   ],
   "source": [
    "# executeme\n",
    "\n",
    "function get_sub_states(SP_Op, N_cut)\n",
    "    \n",
    "    E0, states0 = eigenstates(dense(SP_Op))\n",
    "    states = states0[1:N_cut]\n",
    "    \n",
    "    return states\n",
    "end"
   ]
  },
  {
   "cell_type": "code",
   "execution_count": 103,
   "id": "informative-adult",
   "metadata": {
    "tags": []
   },
   "outputs": [],
   "source": [
    "sub_states = get_sub_states(H1, N_cut);"
   ]
  },
  {
   "cell_type": "code",
   "execution_count": 104,
   "id": "visible-desktop",
   "metadata": {
    "tags": []
   },
   "outputs": [
    {
     "data": {
      "text/plain": [
       "get_Projector (generic function with 1 method)"
      ]
     },
     "execution_count": 104,
     "metadata": {},
     "output_type": "execute_result"
    }
   ],
   "source": [
    "# executeme\n",
    "\n",
    "function get_Projector(states, Basis)\n",
    "    \n",
    "    b_sub = SubspaceBasis(Basis,states)\n",
    "    P = projector(b_sub, Basis)\n",
    "    Pt = dagger(P)\n",
    "    \n",
    "    return b_sub, P, Pt\n",
    "end"
   ]
  },
  {
   "cell_type": "code",
   "execution_count": 105,
   "id": "seasonal-mobile",
   "metadata": {
    "tags": []
   },
   "outputs": [],
   "source": [
    "b_sub, P, Pt = get_Projector(sub_states, basis);"
   ]
  },
  {
   "cell_type": "code",
   "execution_count": 106,
   "id": "portuguese-cooperative",
   "metadata": {
    "tags": []
   },
   "outputs": [
    {
     "data": {
      "text/plain": [
       "Subspace_Op (generic function with 1 method)"
      ]
     },
     "execution_count": 106,
     "metadata": {},
     "output_type": "execute_result"
    }
   ],
   "source": [
    "# executeme\n",
    "\n",
    "function Subspace_Op(SP_Op, P, Pt)\n",
    "    return P*SP_Op*Pt\n",
    "end"
   ]
  },
  {
   "cell_type": "code",
   "execution_count": 107,
   "id": "steady-engineering",
   "metadata": {
    "tags": []
   },
   "outputs": [
    {
     "data": {
      "text/plain": [
       "Operator(dim=8x8)\n",
       "  basis: Subspace(superbasis=NLevel(N=64), states:8)\n",
       " -3.29066-2.2e-16im  -3.9e-16-3.3e-16im  …   1.0e-16-5.0e-16im\n",
       " -1.1e-16-1.1e-16im  -3.29066+2.2e-16im     -1.7e-16+2.4e-16im\n",
       " -2.5e-16-3.0e-17im  -4.0e-17+8.0e-17im      4.2e-16+2.8e-16im\n",
       "  2.2e-16-2.5e-16im  -1.7e-16+2.2e-16im     -1.4e-16+8.0e-17im\n",
       "  3.3e-16-8.9e-16im   1.7e-16-1.1e-16im     -2.8e-16+8.0e-17im\n",
       "  2.8e-16+2.2e-16im   3.0e-17-2.2e-16im  …  -5.6e-16+0.0im\n",
       "      0.0-1.1e-16im   3.0e-17-6.0e-17im     -6.0e-17-6.0e-17im\n",
       "  1.7e-16+4.4e-16im  -6.7e-16-3.2e-16im     -3.29066+0.0im"
      ]
     },
     "execution_count": 107,
     "metadata": {},
     "output_type": "execute_result"
    }
   ],
   "source": [
    "H1_sub = Subspace_Op(H1, P, Pt)"
   ]
  },
  {
   "cell_type": "code",
   "execution_count": 108,
   "id": "numerous-vienna",
   "metadata": {
    "tags": []
   },
   "outputs": [
    {
     "data": {
      "text/plain": [
       "get_num_sub_list (generic function with 1 method)"
      ]
     },
     "execution_count": 108,
     "metadata": {},
     "output_type": "execute_result"
    }
   ],
   "source": [
    "# executeme\n",
    "\n",
    "function get_num_sub_list(basis,P,Pt)\n",
    "    num_sub_list = []\n",
    "    for m in 1:N\n",
    "        NM = transition(basis, m, m)\n",
    "        NMP = Subspace_Op(NM, P,Pt)\n",
    "        push!(num_sub_list, NMP)\n",
    "    end\n",
    "    return num_sub_list\n",
    "end"
   ]
  },
  {
   "cell_type": "code",
   "execution_count": 109,
   "id": "central-recovery",
   "metadata": {
    "tags": []
   },
   "outputs": [],
   "source": [
    "num_sub_list = get_num_sub_list(basis,P,Pt);"
   ]
  },
  {
   "cell_type": "code",
   "execution_count": 110,
   "id": "statistical-postcard",
   "metadata": {
    "tags": []
   },
   "outputs": [
    {
     "data": {
      "text/plain": [
       "ManyBody(onebodybasis=Subspace(superbasis=NLevel(N=64), states:8), states:36)"
      ]
     },
     "execution_count": 110,
     "metadata": {},
     "output_type": "execute_result"
    }
   ],
   "source": [
    "states_mb = bosonstates(b_sub, PN) \n",
    "basis_mb = ManyBodyBasis(b_sub, states_mb)"
   ]
  },
  {
   "cell_type": "code",
   "execution_count": 111,
   "id": "certain-tuition",
   "metadata": {
    "tags": []
   },
   "outputs": [
    {
     "data": {
      "text/plain": [
       "get_MB_Op (generic function with 1 method)"
      ]
     },
     "execution_count": 111,
     "metadata": {},
     "output_type": "execute_result"
    }
   ],
   "source": [
    "# executeme\n",
    "\n",
    "function get_MB_Op(MB_Basis, Basis, Op)\n",
    "    \n",
    "    Op_MB = SparseOperator(MB_Basis)\n",
    "    for i in 1:length(Basis)\n",
    "        for j in 1:length(Basis)\n",
    "            Op_MB = Op_MB + Op.data[i,j] * transition(MB_Basis, i, j)\n",
    "        end\n",
    "    end\n",
    "    \n",
    "    return Op_MB\n",
    "end"
   ]
  },
  {
   "cell_type": "code",
   "execution_count": 112,
   "id": "another-london",
   "metadata": {
    "tags": []
   },
   "outputs": [],
   "source": [
    "H1_MB = get_MB_Op(basis_mb, b_sub, H1_sub);"
   ]
  },
  {
   "cell_type": "code",
   "execution_count": 113,
   "id": "mobile-alignment",
   "metadata": {
    "tags": []
   },
   "outputs": [],
   "source": [
    "# H1_mb = manybodyoperator(basis_mb, H1_sub)"
   ]
  },
  {
   "cell_type": "code",
   "execution_count": 114,
   "id": "arctic-sound",
   "metadata": {
    "tags": []
   },
   "outputs": [
    {
     "data": {
      "text/plain": [
       "get_num_mb_list (generic function with 1 method)"
      ]
     },
     "execution_count": 114,
     "metadata": {},
     "output_type": "execute_result"
    }
   ],
   "source": [
    "# executeme\n",
    "\n",
    "function get_num_mb_list(basis_mb, b_sub, num_sub_list)\n",
    "    num_mb_list = []\n",
    "    for m in 1:N\n",
    "        NMP = get_MB_Op(basis_mb, b_sub, num_sub_list[m])\n",
    "        push!(num_mb_list, NMP)\n",
    "    end\n",
    "    return num_mb_list\n",
    "end"
   ]
  },
  {
   "cell_type": "code",
   "execution_count": 115,
   "id": "spread-falls",
   "metadata": {
    "tags": []
   },
   "outputs": [],
   "source": [
    "num_mb_list = get_num_mb_list(basis_mb, b_sub, num_sub_list);"
   ]
  },
  {
   "cell_type": "code",
   "execution_count": 116,
   "id": "thermal-necklace",
   "metadata": {
    "tags": []
   },
   "outputs": [],
   "source": [
    "function Int_Op(MB_Num_Op_List, MB_Basis, U)\n",
    "\n",
    "    IT = SparseOperator(MB_Basis)\n",
    "    \n",
    "    for m in 1:N\n",
    "        IT = IT + U/2 * ( MB_Num_Op_List[m]*MB_Num_Op_List[m] - MB_Num_Op_List[m] )\n",
    "    end\n",
    "    \n",
    "    return IT\n",
    "end\n",
    "\n",
    "H_Int_MB = Int_Op(num_mb_list, basis_mb, U);"
   ]
  },
  {
   "cell_type": "code",
   "execution_count": 117,
   "id": "featured-source",
   "metadata": {
    "tags": []
   },
   "outputs": [
    {
     "name": "stdout",
     "output_type": "stream",
     "text": [
      "  3.260326 seconds (21.52 M allocations: 2.087 GiB, 23.95% gc time, 14.18% compilation time)\n"
     ]
    },
    {
     "data": {
      "text/plain": [
       "Operator(dim=36x36)\n",
       "  basis: ManyBody(onebodybasis=Subspace(superbasis=NLevel(N=64), states:8), states:36)\n",
       "    0.0779495+0.0im          …  -0.000255522-0.00472654im\n",
       "    0.0114156-0.0181543im          0.0026259+0.00290655im\n",
       "   -0.0202898-0.011048im          0.00127991-0.00780552im\n",
       "   0.00999451+0.0122762im         0.00401185+0.0056385im\n",
       "   -0.0035547-0.00964726im        0.00223007-0.00372999im\n",
       "   -0.0015556+0.00293585im   …    0.00117939-0.0013653im\n",
       "   0.00270117+0.0161275im       -0.000613702+0.00123327im\n",
       "   0.00663041+0.00606462im        0.00197101-0.00381254im\n",
       "   -0.0108066-0.00504781im       -0.00249395-0.000472747im\n",
       "   -0.0202041+0.00672195im        0.00752816+0.0045078im\n",
       "  -0.00118873+0.00123647im   …   -0.00302053+0.00388983im\n",
       "  -0.00569391+0.000695725im       0.00133404+0.00487496im\n",
       " -0.000609054+0.00460875im       -0.00782134+7.42659e-5im\n",
       "             ⋮               ⋱              ⋮\n",
       "  -0.00249624+0.00883803im       -0.00729811-0.00299892im\n",
       "   0.00230803+0.00261982im   …    -0.0117363+0.000835357im\n",
       "  0.000392453+0.00024643im       0.000439951+0.00482084im\n",
       "   0.00491333-0.00210331im        -0.0090344-0.000561163im\n",
       "   0.00582872+0.00314968im       -0.00299649+0.00347931im\n",
       "   0.00200362-0.00410183im        0.00504858+0.00185968im\n",
       "  -0.00115113-0.00516143im   …     0.0125024-0.0128168im\n",
       "   0.00969947-0.00387074im       -0.00637782-0.00659996im\n",
       "  -0.00560584-0.00250624im        -0.0253389+0.00485443im\n",
       " -0.000623021+0.000183717im      0.000178939+6.70193e-5im\n",
       "  -0.00748242+0.0072571im        0.000893921-0.00319043im\n",
       " -0.000255522+0.00472654im   …     0.0731647+0.0im"
      ]
     },
     "execution_count": 117,
     "metadata": {},
     "output_type": "execute_result"
    }
   ],
   "source": [
    "#@btime begin\n",
    "@time begin\n",
    "basis2 = basis ⊗ basis\n",
    "\n",
    "# interaction : at_i at_i a_i a_i = at_i a_i at_i a_i - at_i a_i = n_i n_i - n_i\n",
    "    \n",
    "Vint = SparseOperator(basis2)\n",
    "\n",
    "for n in 1:N\n",
    "    Vint += U/2*transition(basis,n,n)⊗transition(basis,n,n)\n",
    "end\n",
    "\n",
    "Vint_sub = (P⊗P)*Vint*(Pt⊗Pt)\n",
    "\n",
    "Vint_mb = manybodyoperator(basis_mb, Vint_sub)\n",
    "end"
   ]
  },
  {
   "cell_type": "code",
   "execution_count": 146,
   "id": "russian-hungarian",
   "metadata": {
    "tags": []
   },
   "outputs": [],
   "source": [
    "P1 = P.data\n",
    "P1t = Pt.data;"
   ]
  },
  {
   "cell_type": "code",
   "execution_count": 147,
   "id": "enabling-transparency",
   "metadata": {
    "tags": []
   },
   "outputs": [
    {
     "name": "stdout",
     "output_type": "stream",
     "text": [
      "  0.116271 seconds (1.86 M allocations: 56.849 MiB)\n"
     ]
    }
   ],
   "source": [
    "@time  @einsum P4[k,l,m,n] := P1[k,i] * P1[l,i] * P1t[i,m] * P1t[i,n];"
   ]
  },
  {
   "cell_type": "code",
   "execution_count": 148,
   "id": "clear-recording",
   "metadata": {
    "tags": []
   },
   "outputs": [
    {
     "name": "stdout",
     "output_type": "stream",
     "text": [
      "  0.000013 seconds (2 allocations: 176 bytes)\n"
     ]
    },
    {
     "data": {
      "text/plain": [
       "[Subspace(superbasis=NLevel(N=64), states:8) ⊗ Subspace(superbasis=NLevel(N=64), states:8)]"
      ]
     },
     "execution_count": 148,
     "metadata": {},
     "output_type": "execute_result"
    }
   ],
   "source": [
    "@time b2_sub = b_sub ⊗ b_sub"
   ]
  },
  {
   "cell_type": "code",
   "execution_count": 149,
   "id": "photographic-mongolia",
   "metadata": {
    "tags": []
   },
   "outputs": [
    {
     "name": "stdout",
     "output_type": "stream",
     "text": [
      "  0.000025 seconds (2 allocations: 96 bytes)\n"
     ]
    }
   ],
   "source": [
    "@time P4re = reshape(P4, N_cut^2, N_cut^2);"
   ]
  },
  {
   "cell_type": "code",
   "execution_count": 150,
   "id": "bronze-establishment",
   "metadata": {
    "tags": []
   },
   "outputs": [
    {
     "name": "stdout",
     "output_type": "stream",
     "text": [
      "  0.000095 seconds (9 allocations: 160.938 KiB)\n"
     ]
    }
   ],
   "source": [
    "@time Vint_bsub2 = SparseOperator(b2_sub,U/2*P4re);"
   ]
  },
  {
   "cell_type": "code",
   "execution_count": 151,
   "id": "static-purse",
   "metadata": {
    "tags": []
   },
   "outputs": [
    {
     "data": {
      "text/plain": [
       "get_Vint_bsub2_einsum (generic function with 1 method)"
      ]
     },
     "execution_count": 151,
     "metadata": {},
     "output_type": "execute_result"
    }
   ],
   "source": [
    "# executeme\n",
    "\n",
    "function get_Vint_bsub2_einsum(P, Pt, b_sub, N_cut)\n",
    "    P1 = P.data\n",
    "    P1t = Pt.data;\n",
    "\n",
    "    @einsum P4[k,l,m,n] := P1[k,i] * P1[l,i] * P1t[i,m] * P1t[i,n]\n",
    "\n",
    "    b2_sub = b_sub ⊗ b_sub\n",
    "\n",
    "    P4re = reshape(P4, N_cut^2, N_cut^2)\n",
    "\n",
    "    Vint_bsub2 = SparseOperator(b2_sub,U/2*P4re)\n",
    "    #Vint_bsub2 = Operator(b2_sub,U/2*P4re)\n",
    "\n",
    "    return Vint_bsub2\n",
    "end"
   ]
  },
  {
   "cell_type": "code",
   "execution_count": 152,
   "id": "spectacular-steel",
   "metadata": {
    "tags": []
   },
   "outputs": [
    {
     "name": "stdout",
     "output_type": "stream",
     "text": [
      "  0.134624 seconds (85.81 k allocations: 5.308 MiB, 98.46% compilation time)\n"
     ]
    }
   ],
   "source": [
    "@time begin\n",
    "Vint_bsub2 = get_Vint_bsub2_einsum(P, Pt, b_sub, N_cut)\n",
    "end;"
   ]
  },
  {
   "cell_type": "code",
   "execution_count": 153,
   "id": "million-material",
   "metadata": {
    "tags": []
   },
   "outputs": [
    {
     "name": "stdout",
     "output_type": "stream",
     "text": [
      "  1.398199 seconds (10.62 M allocations: 1.266 GiB, 17.53% gc time)\n"
     ]
    }
   ],
   "source": [
    "@time begin\n",
    "Vint_mb_einsum = manybodyoperator(basis_mb, Vint_bsub2)\n",
    "end;"
   ]
  },
  {
   "cell_type": "code",
   "execution_count": 154,
   "id": "41e159a8-4739-4a26-818c-55ca022a83ab",
   "metadata": {
    "tags": []
   },
   "outputs": [
    {
     "data": {
      "text/plain": [
       "(ManyBody(onebodybasis=NLevel(N=8), states:36), NLevel(N=8))"
      ]
     },
     "execution_count": 154,
     "metadata": {},
     "output_type": "execute_result"
    }
   ],
   "source": [
    "bcut_mb, bcut = get_Bosonic_MB_Basis(N_cut,PN)"
   ]
  },
  {
   "cell_type": "code",
   "execution_count": 155,
   "id": "9593aba3-9028-44be-afdc-b5dc055bb1ef",
   "metadata": {
    "tags": []
   },
   "outputs": [
    {
     "name": "stdout",
     "output_type": "stream",
     "text": [
      "  0.110425 seconds (1.86 M allocations: 57.006 MiB)\n"
     ]
    }
   ],
   "source": [
    "@time begin\n",
    "P1 = P.data\n",
    "P1t = Pt.data;\n",
    "\n",
    "@einsum P4[k,l,m,n] := P1[k,i] * P1[l,i] * P1t[i,m] * P1t[i,n]\n",
    "\n",
    "b2cut = bcut ⊗ bcut\n",
    "\n",
    "P4re = reshape(P4, N_cut^2, N_cut^2)\n",
    "Vint_bsub2 = SparseOperator(b2cut,U/2*P4re)\n",
    "end;"
   ]
  },
  {
   "cell_type": "code",
   "execution_count": 156,
   "id": "61f1e0af-c5b4-49e9-a9a6-1cf38207c2d8",
   "metadata": {
    "tags": []
   },
   "outputs": [
    {
     "name": "stdout",
     "output_type": "stream",
     "text": [
      "  1.405574 seconds (10.62 M allocations: 1.266 GiB, 15.72% gc time)\n"
     ]
    }
   ],
   "source": [
    "@time begin\n",
    "Vint_mb_cut = manybodyoperator(bcut_mb, Vint_bsub2)\n",
    "end;"
   ]
  },
  {
   "cell_type": "code",
   "execution_count": 132,
   "id": "primary-slide",
   "metadata": {
    "tags": []
   },
   "outputs": [
    {
     "data": {
      "text/plain": [
       "manybodyoperator_2_Hubbard (generic function with 1 method)"
      ]
     },
     "execution_count": 132,
     "metadata": {},
     "output_type": "execute_result"
    }
   ],
   "source": [
    "function manybodyoperator_2_Hubbard(basis::ManyBodyBasis, op::SparseOpType)\n",
    "    N = length(basis)\n",
    "    S = length(basis.onebodybasis)\n",
    "    result = SparseOperator(basis)\n",
    "    occupations = basis.occupations\n",
    "    rows = QuantumOpticsBase.rowvals(op.data)\n",
    "    values = QuantumOpticsBase.nonzeros(op.data)\n",
    "    @inbounds for column=1:S^2, j in QuantumOpticsBase.nzrange(op.data, column)\n",
    "        row = rows[j]\n",
    "        value = values[j]\n",
    "        index = Tuple(CartesianIndices((S, S, S, S))[(column-1)*S^2 + row])\n",
    "        for m=1:N, n=1:N\n",
    "            # println(\"row:\", row, \" column:\"column, ind_left)\n",
    "            C = QuantumOpticsBase.coefficient(occupations[m], occupations[n], index[1:2], index[3:4])\n",
    "            if C!=0.\n",
    "                result.data[m,n] += C*value\n",
    "            end\n",
    "        end\n",
    "    end\n",
    "    return result\n",
    "end"
   ]
  },
  {
   "cell_type": "code",
   "execution_count": 74,
   "id": "controlled-superior",
   "metadata": {
    "tags": []
   },
   "outputs": [
    {
     "name": "stdout",
     "output_type": "stream",
     "text": [
      "  0.083780 seconds (77.49 k allocations: 4.081 MiB, 99.28% compilation time)\n"
     ]
    }
   ],
   "source": [
    "@time Vint_mb_Hubbard = manybodyoperator_2_Hubbard(basis_mb, Vint_bsub2);"
   ]
  },
  {
   "cell_type": "code",
   "execution_count": 75,
   "id": "continuous-association",
   "metadata": {
    "tags": []
   },
   "outputs": [
    {
     "data": {
      "text/plain": [
       "true"
      ]
     },
     "execution_count": 75,
     "metadata": {},
     "output_type": "execute_result"
    }
   ],
   "source": [
    "isapprox( Vint_mb_einsum, Vint_mb_Hubbard )"
   ]
  },
  {
   "cell_type": "code",
   "execution_count": 76,
   "id": "offshore-dylan",
   "metadata": {
    "tags": []
   },
   "outputs": [
    {
     "data": {
      "text/plain": [
       "true"
      ]
     },
     "execution_count": 76,
     "metadata": {},
     "output_type": "execute_result"
    }
   ],
   "source": [
    "isapprox( Vint_mb , Vint_mb_einsum )"
   ]
  },
  {
   "cell_type": "code",
   "execution_count": 77,
   "id": "muslim-florence",
   "metadata": {
    "tags": []
   },
   "outputs": [
    {
     "data": {
      "text/plain": [
       "6×6 SparseArrays.SparseMatrixCSC{ComplexF64, Int64} with 36 stored entries:\n",
       "    0.39162-1.47451e-17im  …    0.0596277-0.053036im\n",
       " -0.0623729-0.00749462im        0.0179539-0.0124782im\n",
       "  0.0130024-0.0341827im         -0.031339-0.0823887im\n",
       "  0.0371678+0.00269294im       -0.0849376+0.0651927im\n",
       " -0.0494625+0.0943022im       -0.00894969-0.0359646im\n",
       "  0.0596277+0.053036im     …     0.351317-1.17094e-17im"
      ]
     },
     "execution_count": 77,
     "metadata": {},
     "output_type": "execute_result"
    }
   ],
   "source": [
    "Vint_mb_einsum.data"
   ]
  },
  {
   "cell_type": "code",
   "execution_count": 78,
   "id": "future-click",
   "metadata": {
    "tags": []
   },
   "outputs": [
    {
     "data": {
      "text/plain": [
       "6×6 SparseArrays.SparseMatrixCSC{ComplexF64, Int64} with 36 stored entries:\n",
       "    0.39162-1.47451e-17im  …    0.0596277-0.053036im\n",
       " -0.0623729-0.00749462im        0.0179539-0.0124782im\n",
       "  0.0130024-0.0341827im         -0.031339-0.0823887im\n",
       "  0.0371678+0.00269294im       -0.0849376+0.0651927im\n",
       " -0.0494625+0.0943022im       -0.00894969-0.0359646im\n",
       "  0.0596277+0.053036im     …     0.351317-1.17094e-17im"
      ]
     },
     "execution_count": 78,
     "metadata": {},
     "output_type": "execute_result"
    }
   ],
   "source": [
    "Vint_mb_Hubbard.data"
   ]
  },
  {
   "cell_type": "code",
   "execution_count": 79,
   "id": "facial-squad",
   "metadata": {
    "tags": []
   },
   "outputs": [
    {
     "data": {
      "text/plain": [
       "Operator(dim=6x6)\n",
       "  basis: ManyBody(onebodybasis=Subspace(superbasis=NLevel(N=9), states:3), states:6)sparse([1, 2, 3, 4, 5, 6, 1, 2, 3, 4  …  3, 4, 5, 6, 1, 2, 3, 4, 5, 6], [1, 1, 1, 1, 1, 1, 2, 2, 2, 2  …  5, 5, 5, 5, 6, 6, 6, 6, 6, 6], ComplexF64[-5.072481889080085 + 7.0e-17im, -0.06237291741456313 - 0.00749462289574094im, 0.01300238399161972 - 0.03418266124713084im, 0.03716777427851 + 0.00269293504848635im, -0.04946251729897929 + 0.09430216055688354im, 0.05962766535723585 + 0.0530359855118317im, -0.06237291741456313 + 0.00749462289574085im, -5.2544047986689835 + 4.0e-17im, 0.01265677755383486 - 0.05086158930894007im, -2.7e-16 - 1.1e-16im  …  0.08820862573245139 - 0.01059899734402867im, -9.0e-17 - 1.1e-16im, -5.173798431606525 + 1.2e-16im, -0.00894969323628626 + 0.03596457470227668im, 0.05962766535723585 - 0.0530359855118317im, 0.01795385454455051 - 0.01247819123292165im, -0.0313389604933155 - 0.08238866588393709im, -0.08493763881226458 + 0.06519270465165757im, -0.00894969323628638 - 0.03596457470227684im, -5.112785072611314 + 2.1e-16im], 6, 6)"
      ]
     },
     "execution_count": 79,
     "metadata": {},
     "output_type": "execute_result"
    }
   ],
   "source": [
    "H_MB = H1_MB + Vint_mb_einsum\n",
    "H_mb = H1_MB + Vint_mb_Hubbard"
   ]
  },
  {
   "cell_type": "markdown",
   "id": "collect-watson",
   "metadata": {},
   "source": [
    "2) If U<<Band-Gap, Sub-Space Hofstadter Finite-U energies converges at Hofstadter Finite-U energies.\n",
    "3) When all SP states projected to the new sub-space, Sub-Space Hofstadter Finite-U energies have to equal to Hofstadter Finite-U energies."
   ]
  },
  {
   "cell_type": "code",
   "execution_count": 80,
   "id": "optimum-liberal",
   "metadata": {
    "tags": []
   },
   "outputs": [
    {
     "data": {
      "text/plain": [
       "Hofstadter_Finite_U (generic function with 1 method)"
      ]
     },
     "execution_count": 80,
     "metadata": {},
     "output_type": "execute_result"
    }
   ],
   "source": [
    "@nbinclude(\"Hofstadter MB in Julia.ipynb\"; regex=r\"#.*executeme\")"
   ]
  },
  {
   "cell_type": "code",
   "execution_count": 81,
   "id": "necessary-interaction",
   "metadata": {
    "tags": []
   },
   "outputs": [
    {
     "name": "stdout",
     "output_type": "stream",
     "text": [
      "[-5.297434948471091, -5.297434948471087, -5.297434948471086, -4.964101615137758, -4.9641016151377535, -4.964101615137753]\n",
      "[-5.297434948471091, -5.297434948471087, -5.297434948471086, -4.964101615137758, -4.9641016151377535, -4.964101615137753]\n",
      "[-5.340971176014522, -5.340971176014518, -5.34097117601451, -5.066168265618836, -5.066168265618833, -5.06616826561883, -1.8128503544788697, -1.8128503544788683, -1.8128503544788683, -1.704570336931171]"
     ]
    }
   ],
   "source": [
    "# using Plots\n",
    "\n",
    "E1 = eigenenergies(dense((H_MB+dagger(H_MB))/2))\n",
    "\n",
    "E_mb = eigenenergies(dense((H_mb+dagger(H_mb))/2))\n",
    "\n",
    "\n",
    "E2 = eigenenergies(dense(Hofstadter_Finite_U(Nx, Ny, 1/q, PN, U)))\n",
    "\n",
    "# print(E1-E2[1:length(E1)])\n",
    "\n",
    "# plot(1:length(E1),E1,seriestype=:scatter,markershape=:star5, markersize=6, label=\"Sub-Space\")\n",
    "# plot!(1:length(E2),E2,seriestype=:scatter,label=\"Real-Space\",legend=:topleft)\n",
    "# xlabel!(\"n\");ylabel!(\"E\")\n",
    "\n",
    "print(E1,'\\n', E_mb,'\\n',E2[1:10])"
   ]
  },
  {
   "cell_type": "code",
   "execution_count": null,
   "id": "b73093d4-91fe-467f-9990-25b24c1c471f",
   "metadata": {},
   "outputs": [],
   "source": []
  },
  {
   "cell_type": "code",
   "execution_count": null,
   "id": "572a761b-28cc-4d4b-ba25-e929cd23a4f6",
   "metadata": {},
   "outputs": [],
   "source": []
  }
 ],
 "metadata": {
  "kernelspec": {
   "display_name": "Julia 1.8.5",
   "language": "julia",
   "name": "julia-1.8"
  },
  "language_info": {
   "file_extension": ".jl",
   "mimetype": "application/julia",
   "name": "julia",
   "version": "1.8.5"
  }
 },
 "nbformat": 4,
 "nbformat_minor": 5
}
