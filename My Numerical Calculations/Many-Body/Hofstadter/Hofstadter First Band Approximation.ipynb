{
 "cells": [
  {
   "cell_type": "code",
   "execution_count": 1,
   "id": "portuguese-prediction",
   "metadata": {
    "tags": []
   },
   "outputs": [],
   "source": [
    "using NBInclude\n",
    "@nbinclude(\"Hofstadter Single Particle in Julia.ipynb\")\n",
    "@nbinclude(joinpath(\"..\",\"First Band Approximation Functions.ipynb\"));"
   ]
  },
  {
   "cell_type": "markdown",
   "id": "1cbf7141-36bd-4ef7-9487-deb38a7b9128",
   "metadata": {
    "tags": []
   },
   "source": [
    "# Initial Parameters"
   ]
  },
  {
   "cell_type": "code",
   "execution_count": 2,
   "id": "about-bones",
   "metadata": {
    "tags": []
   },
   "outputs": [],
   "source": [
    "Nx = 8; Ny = 10; N=Nx*Ny; p = 1; q = 10; cut_off = 8;\n",
    "PN = [0,1,2,3];\n",
    "U = 2;"
   ]
  },
  {
   "cell_type": "markdown",
   "id": "aa578b60-4cd3-49a9-8e3d-aabffe7d92cf",
   "metadata": {
    "tags": []
   },
   "source": [
    "# Single-Particle"
   ]
  },
  {
   "cell_type": "code",
   "execution_count": 3,
   "id": "imperial-crisis",
   "metadata": {
    "tags": []
   },
   "outputs": [
    {
     "data": {
      "text/latex": [
       "Compute the single-particle operator from single-particle matrix.\n",
       "\n",
       "\\paragraph{Arguments}\n",
       "\\begin{itemize}\n",
       "\\item \\texttt{sp\\_basis::NLevelBasis}: Single-Particle basis.\n",
       "\n",
       "\n",
       "\\item \\texttt{N::Integer}: The total site number.\n",
       "\n",
       "\n",
       "\\item \\texttt{sp\\_matrix::Matrix}: Hopping phases matrix from any model.\n",
       "\n",
       "\\end{itemize}\n"
      ],
      "text/markdown": [
       "Compute the single-particle operator from single-particle matrix.\n",
       "\n",
       "#### Arguments\n",
       "\n",
       "  * `sp_basis::NLevelBasis`: Single-Particle basis.\n",
       "  * `N::Integer`: The total site number.\n",
       "  * `sp_matrix::Matrix`: Hopping phases matrix from any model.\n"
      ],
      "text/plain": [
       "  Compute the single-particle operator from single-particle matrix.\n",
       "\n",
       "\u001b[1m  Arguments\u001b[22m\n",
       "\u001b[1m  -----------\u001b[22m\n",
       "\n",
       "    •  \u001b[36msp_basis::NLevelBasis\u001b[39m: Single-Particle basis.\n",
       "\n",
       "    •  \u001b[36mN::Integer\u001b[39m: The total site number.\n",
       "\n",
       "    •  \u001b[36msp_matrix::Matrix\u001b[39m: Hopping phases matrix from any model."
      ]
     },
     "execution_count": 3,
     "metadata": {},
     "output_type": "execute_result"
    }
   ],
   "source": [
    "@doc get_sp_op"
   ]
  },
  {
   "cell_type": "code",
   "execution_count": 4,
   "id": "temporal-cleveland",
   "metadata": {
    "tags": []
   },
   "outputs": [],
   "source": [
    "sp_basis = NLevelBasis(N)\n",
    "periodicity = 0\n",
    "sp_matrix = Hofstadter_SP(Nx, Ny, p/q, periodicity);"
   ]
  },
  {
   "cell_type": "code",
   "execution_count": 5,
   "id": "likely-spank",
   "metadata": {
    "tags": []
   },
   "outputs": [],
   "source": [
    "H1 = get_sp_op(sp_basis, N, sp_matrix);"
   ]
  },
  {
   "cell_type": "code",
   "execution_count": 6,
   "id": "ignored-medium",
   "metadata": {
    "tags": []
   },
   "outputs": [
    {
     "name": "stdout",
     "output_type": "stream",
     "text": [
      "80-element Vector{Float64}:\n",
      " -3.420053641408173\n",
      " -3.4200536414081695\n",
      " -3.4200153004721425\n",
      " -3.420015300472141\n",
      " -3.4200153004721403\n",
      " -3.4200153004721376\n",
      " -3.419976950201189\n",
      " -3.419976950201185\n",
      " -2.35230282337433\n",
      " -2.35230282337433\n",
      " -2.351552346547092\n",
      " -2.351552346547092\n",
      " -2.351552346547092\n",
      " -2.351552346547091\n",
      " -2.3507988713924597\n",
      " -2.3507988713924592\n",
      " -1.4776985043449289\n",
      " -1.477698504344928\n",
      " -1.4715820869198095\n",
      " -1.4715820869198095\n",
      " -1.4715820869198086\n",
      " -1.4715820869198086\n",
      " -1.465283441759455\n",
      " -1.4652834417594534\n",
      " -0.7570660026277768\n",
      " -0.7570660026277768\n",
      " -0.7258326903745499\n",
      " -0.7258326903745488\n",
      " -0.7258326903745481\n",
      " -0.7258326903745479\n",
      " -0.6882911202826466\n",
      " -0.6882911202826453\n",
      " -0.3458904742074982\n",
      " -0.3458904742074975\n",
      " -0.28514903651549856\n",
      " -0.28514903651549783\n",
      " -0.2851490365154978\n",
      " -0.2851490365154963\n",
      " -0.2241084340414668\n",
      " -0.22410843404146663\n",
      "  0.22410843404146696\n",
      "  0.22410843404146735\n",
      "  0.2851490365154943\n",
      "  0.2851490365154979\n",
      "  0.2851490365154984\n",
      "  0.2851490365154986\n",
      "  0.3458904742074982\n",
      "  0.3458904742074983\n",
      "  0.6882911202826455\n",
      "  0.6882911202826474\n",
      "  0.7258326903745481\n",
      "  0.7258326903745482\n",
      "  0.7258326903745485\n",
      "  0.7258326903745492\n",
      "  0.7570660026277776\n",
      "  0.7570660026277782\n",
      "  1.465283441759455\n",
      "  1.4652834417594562\n",
      "  1.4715820869198097\n",
      "  1.4715820869198104\n",
      "  1.4715820869198106\n",
      "  1.4715820869198106\n",
      "  1.4776985043449296\n",
      "  1.4776985043449304\n",
      "  2.3507988713924584\n",
      "  2.3507988713924592\n",
      "  2.3515523465470904\n",
      "  2.351552346547091\n",
      "  2.3515523465470953\n",
      "  2.3515523465470984\n",
      "  2.3523028233743286\n",
      "  2.3523028233743295\n",
      "  3.419976950201186\n",
      "  3.4199769502011867\n",
      "  3.420015300472135\n",
      "  3.4200153004721385\n",
      "  3.420015300472139\n",
      "  3.4200153004721394\n",
      "  3.4200536414081695\n",
      "  3.42005364140817"
     ]
    }
   ],
   "source": [
    "using LinearAlgebra\n",
    "eigenenergies(dense(H1)) == eigvals(sp_matrix) # true\n",
    "show(stdout, \"text/plain\", eigvals(sp_matrix))"
   ]
  },
  {
   "cell_type": "code",
   "execution_count": 7,
   "id": "e2e9066d-37c3-4286-b5fa-db560eacf4c0",
   "metadata": {
    "tags": []
   },
   "outputs": [
    {
     "data": {
      "text/latex": [
       "Compute the first eigen-states in a given number.\n",
       "\n",
       "\\paragraph{Arguments}\n",
       "\\begin{itemize}\n",
       "\\item \\texttt{sp\\_op::get\\_sp\\_op}: Single-particle operator.\n",
       "\n",
       "\n",
       "\\item \\texttt{cut\\_off::Int}: Limit value of eigen-state index.\n",
       "\n",
       "\\end{itemize}\n"
      ],
      "text/markdown": [
       "Compute the first eigen-states in a given number.\n",
       "\n",
       "#### Arguments\n",
       "\n",
       "  * `sp_op::get_sp_op`: Single-particle operator.\n",
       "  * `cut_off::Int`: Limit value of eigen-state index.\n"
      ],
      "text/plain": [
       "  Compute the first eigen-states in a given number.\n",
       "\n",
       "\u001b[1m  Arguments\u001b[22m\n",
       "\u001b[1m  -----------\u001b[22m\n",
       "\n",
       "    •  \u001b[36msp_op::get_sp_op\u001b[39m: Single-particle operator.\n",
       "\n",
       "    •  \u001b[36mcut_off::Int\u001b[39m: Limit value of eigen-state index."
      ]
     },
     "execution_count": 7,
     "metadata": {},
     "output_type": "execute_result"
    }
   ],
   "source": [
    "@doc get_sub_states"
   ]
  },
  {
   "cell_type": "code",
   "execution_count": 8,
   "id": "compact-brooks",
   "metadata": {
    "tags": []
   },
   "outputs": [],
   "source": [
    "sub_states = get_sub_states(H1, cut_off);"
   ]
  },
  {
   "cell_type": "code",
   "execution_count": 9,
   "id": "d644861d-5ac6-4597-bfdb-9df51e96c229",
   "metadata": {
    "tags": []
   },
   "outputs": [
    {
     "data": {
      "text/latex": [
       "Compute sub-space basis, projection and comlex conjugate of projection operator.\n",
       "\n",
       "\\paragraph{Arguments}\n",
       "\\begin{itemize}\n",
       "\\item \\texttt{states::get\\_sub\\_states}: Eigen-states of the sub-space.\n",
       "\n",
       "\n",
       "\\item \\texttt{basis::NLevelBasis}: Single-particle basis.\n",
       "\n",
       "\\end{itemize}\n"
      ],
      "text/markdown": [
       "Compute sub-space basis, projection and comlex conjugate of projection operator.\n",
       "\n",
       "#### Arguments\n",
       "\n",
       "  * `states::get_sub_states`: Eigen-states of the sub-space.\n",
       "  * `basis::NLevelBasis`: Single-particle basis.\n"
      ],
      "text/plain": [
       "  Compute sub-space basis, projection and comlex conjugate of projection\n",
       "  operator.\n",
       "\n",
       "\u001b[1m  Arguments\u001b[22m\n",
       "\u001b[1m  -----------\u001b[22m\n",
       "\n",
       "    •  \u001b[36mstates::get_sub_states\u001b[39m: Eigen-states of the sub-space.\n",
       "\n",
       "    •  \u001b[36mbasis::NLevelBasis\u001b[39m: Single-particle basis."
      ]
     },
     "execution_count": 9,
     "metadata": {},
     "output_type": "execute_result"
    }
   ],
   "source": [
    "@doc get_projector_op"
   ]
  },
  {
   "cell_type": "code",
   "execution_count": 10,
   "id": "molecular-bankruptcy",
   "metadata": {
    "tags": []
   },
   "outputs": [],
   "source": [
    "basis_sub, P, Pt = get_projector_op(sub_states, sp_basis);"
   ]
  },
  {
   "cell_type": "code",
   "execution_count": 11,
   "id": "dd280e68-52a1-4367-b2f8-e73c8533f8bb",
   "metadata": {
    "tags": []
   },
   "outputs": [
    {
     "data": {
      "text/latex": [
       "Compute the corresponding operator in the sub-space.\n",
       "\n",
       "\\paragraph{Arguments}\n",
       "\\begin{itemize}\n",
       "\\item \\texttt{sp\\_op::Operator}: Single-particle operator from single-particle matrix.\n",
       "\n",
       "\n",
       "\\item \\texttt{P::get\\_projector\\_op[2]}: Projection operator.\n",
       "\n",
       "\n",
       "\\item \\texttt{Pt::get\\_projector\\_op[3]}: Complex conjugate of projection operator.\n",
       "\n",
       "\\end{itemize}\n"
      ],
      "text/markdown": [
       "Compute the corresponding operator in the sub-space.\n",
       "\n",
       "#### Arguments\n",
       "\n",
       "  * `sp_op::Operator`: Single-particle operator from single-particle matrix.\n",
       "  * `P::get_projector_op[2]`: Projection operator.\n",
       "  * `Pt::get_projector_op[3]`: Complex conjugate of projection operator.\n"
      ],
      "text/plain": [
       "  Compute the corresponding operator in the sub-space.\n",
       "\n",
       "\u001b[1m  Arguments\u001b[22m\n",
       "\u001b[1m  -----------\u001b[22m\n",
       "\n",
       "    •  \u001b[36msp_op::Operator\u001b[39m: Single-particle operator from single-particle\n",
       "       matrix.\n",
       "\n",
       "    •  \u001b[36mP::get_projector_op[2]\u001b[39m: Projection operator.\n",
       "\n",
       "    •  \u001b[36mPt::get_projector_op[3]\u001b[39m: Complex conjugate of projection operator."
      ]
     },
     "execution_count": 11,
     "metadata": {},
     "output_type": "execute_result"
    }
   ],
   "source": [
    "@doc get_subspace_op"
   ]
  },
  {
   "cell_type": "code",
   "execution_count": 12,
   "id": "informed-macro",
   "metadata": {
    "tags": []
   },
   "outputs": [],
   "source": [
    "H1_sub = get_subspace_op(H1, P, Pt);"
   ]
  },
  {
   "cell_type": "code",
   "execution_count": 13,
   "id": "c4bc4b2e-2868-45fa-8200-c6187ed42627",
   "metadata": {
    "tags": []
   },
   "outputs": [
    {
     "data": {
      "text/latex": [
       "Compute the single-particle number operator for each lattice sites.\n",
       "\n",
       "\\paragraph{Arguments}\n",
       "\\begin{itemize}\n",
       "\\item \\texttt{N::Integer}: The total site number.\n",
       "\n",
       "\n",
       "\\item \\texttt{sp\\_basis::NLevelBasis}: Single-Particle basis.\n",
       "\n",
       "\n",
       "\\item \\texttt{P::get\\_projector\\_op[2]}: Projection operator.\n",
       "\n",
       "\n",
       "\\item \\texttt{Pt::get\\_projector\\_op[3]}: Complex conjugate of projection operator.\n",
       "\n",
       "\\end{itemize}\n"
      ],
      "text/markdown": [
       "Compute the single-particle number operator for each lattice sites.\n",
       "\n",
       "#### Arguments\n",
       "\n",
       "  * `N::Integer`: The total site number.\n",
       "  * `sp_basis::NLevelBasis`: Single-Particle basis.\n",
       "  * `P::get_projector_op[2]`: Projection operator.\n",
       "  * `Pt::get_projector_op[3]`: Complex conjugate of projection operator.\n"
      ],
      "text/plain": [
       "  Compute the single-particle number operator for each lattice sites.\n",
       "\n",
       "\u001b[1m  Arguments\u001b[22m\n",
       "\u001b[1m  -----------\u001b[22m\n",
       "\n",
       "    •  \u001b[36mN::Integer\u001b[39m: The total site number.\n",
       "\n",
       "    •  \u001b[36msp_basis::NLevelBasis\u001b[39m: Single-Particle basis.\n",
       "\n",
       "    •  \u001b[36mP::get_projector_op[2]\u001b[39m: Projection operator.\n",
       "\n",
       "    •  \u001b[36mPt::get_projector_op[3]\u001b[39m: Complex conjugate of projection operator."
      ]
     },
     "execution_count": 13,
     "metadata": {},
     "output_type": "execute_result"
    }
   ],
   "source": [
    "@doc get_num_sub_list"
   ]
  },
  {
   "cell_type": "code",
   "execution_count": 14,
   "id": "cross-patrol",
   "metadata": {
    "tags": []
   },
   "outputs": [],
   "source": [
    "num_sub_list = get_num_sub_list(N, sp_basis, P, Pt);"
   ]
  },
  {
   "cell_type": "markdown",
   "id": "particular-surrey",
   "metadata": {},
   "source": [
    "# Many-Body"
   ]
  },
  {
   "cell_type": "code",
   "execution_count": 15,
   "id": "cccffa5e-d4fd-4260-a7c5-d2fe183534e1",
   "metadata": {
    "tags": []
   },
   "outputs": [
    {
     "data": {
      "text/latex": [
       "Compute the many-body operator for boson particles from single-particle operator.\n",
       "\n",
       "\\paragraph{Arguments}\n",
       "\\begin{itemize}\n",
       "\\item \\texttt{basis\\_mb}: Many-body basis.\n",
       "\n",
       "\n",
       "\\item \\texttt{basis\\_sub::get\\_projector\\_op[1]}: Sub-space basis.\n",
       "\n",
       "\n",
       "\\item \\texttt{sp\\_op::Operator}: Single-particle operator from single-particle matrix.\n",
       "\n",
       "\\end{itemize}\n"
      ],
      "text/markdown": [
       "Compute the many-body operator for boson particles from single-particle operator.\n",
       "\n",
       "#### Arguments\n",
       "\n",
       "  * `basis_mb`: Many-body basis.\n",
       "  * `basis_sub::get_projector_op[1]`: Sub-space basis.\n",
       "  * `sp_op::Operator`: Single-particle operator from single-particle matrix.\n"
      ],
      "text/plain": [
       "  Compute the many-body operator for boson particles from single-particle\n",
       "  operator.\n",
       "\n",
       "\u001b[1m  Arguments\u001b[22m\n",
       "\u001b[1m  -----------\u001b[22m\n",
       "\n",
       "    •  \u001b[36mbasis_mb\u001b[39m: Many-body basis.\n",
       "\n",
       "    •  \u001b[36mbasis_sub::get_projector_op[1]\u001b[39m: Sub-space basis.\n",
       "\n",
       "    •  \u001b[36msp_op::Operator\u001b[39m: Single-particle operator from single-particle\n",
       "       matrix."
      ]
     },
     "execution_count": 15,
     "metadata": {},
     "output_type": "execute_result"
    }
   ],
   "source": [
    "@doc get_mb_op"
   ]
  },
  {
   "cell_type": "code",
   "execution_count": 16,
   "id": "2d6ddf03-05b6-497a-af81-8ccf124adde4",
   "metadata": {
    "tags": []
   },
   "outputs": [],
   "source": [
    "states_mb = bosonstates(basis_sub, PN) \n",
    "basis_mb = ManyBodyBasis(basis_sub, states_mb);"
   ]
  },
  {
   "cell_type": "code",
   "execution_count": 17,
   "id": "6eca28a4-7872-49e8-8e57-31306169840c",
   "metadata": {
    "tags": []
   },
   "outputs": [],
   "source": [
    "H1_MB = get_mb_op(basis_mb, basis_sub, H1_sub);"
   ]
  },
  {
   "cell_type": "code",
   "execution_count": 18,
   "id": "difficult-ground",
   "metadata": {
    "tags": []
   },
   "outputs": [],
   "source": [
    "# states_mb = bosonstates(b_sub, PN) \n",
    "# basis_mb = ManyBodyBasis(b_sub, states_mb)"
   ]
  },
  {
   "cell_type": "code",
   "execution_count": 19,
   "id": "final-reverse",
   "metadata": {
    "tags": []
   },
   "outputs": [],
   "source": [
    "# H1_MB = get_mb_op(basis_mb, b_sub, H1_sub);"
   ]
  },
  {
   "cell_type": "code",
   "execution_count": 20,
   "id": "4e49aaa7-d831-48fb-a9bb-77266aaed1b4",
   "metadata": {
    "tags": []
   },
   "outputs": [],
   "source": [
    "# @doc get_num_mb_list"
   ]
  },
  {
   "cell_type": "code",
   "execution_count": 21,
   "id": "advanced-edwards",
   "metadata": {
    "tags": []
   },
   "outputs": [],
   "source": [
    "# num_mb_list = get_num_mb_list(basis_mb, b_sub, num_sub_list);"
   ]
  },
  {
   "cell_type": "code",
   "execution_count": 22,
   "id": "d228561d-92e0-4e56-8eb3-0747bc107238",
   "metadata": {
    "tags": []
   },
   "outputs": [
    {
     "data": {
      "text/plain": [
       "Hofstadter_Finite_U (generic function with 1 method)"
      ]
     },
     "execution_count": 22,
     "metadata": {},
     "output_type": "execute_result"
    }
   ],
   "source": [
    "@nbinclude(\"Hofstadter MB in Julia.ipynb\"; regex=r\"#.*executeme\")"
   ]
  },
  {
   "cell_type": "code",
   "execution_count": 23,
   "id": "f5e7021c-a835-4d85-b45c-3ba5d456c977",
   "metadata": {
    "tags": []
   },
   "outputs": [
    {
     "data": {
      "text/latex": [
       "Compute the on-site Bose-Hubbard Interaction term.\n",
       "\n",
       "\\paragraph{Arguments:}\n",
       "\\begin{itemize}\n",
       "\\item \\texttt{basis\\_cut\\_sp}: The cutt-off sites of bosonic many-body basis.\n",
       "\n",
       "\n",
       "\\item \\texttt{basis\\_cut\\_mb}: The cutt-off sites of single-particle basis.\n",
       "\n",
       "\n",
       "\\item \\texttt{P::Operator}: Projection operator.\n",
       "\n",
       "\n",
       "\\item \\texttt{Pt::Operator}: Complex conjugate of projection operator.\n",
       "\n",
       "\n",
       "\\item \\texttt{cut\\_off::Int}: Limit value of eigen-state index.\n",
       "\n",
       "\\end{itemize}\n"
      ],
      "text/markdown": [
       "Compute the on-site Bose-Hubbard Interaction term.\n",
       "\n",
       "#### Arguments:\n",
       "\n",
       "  * `basis_cut_sp`: The cutt-off sites of bosonic many-body basis.\n",
       "  * `basis_cut_mb`: The cutt-off sites of single-particle basis.\n",
       "  * `P::Operator`: Projection operator.\n",
       "  * `Pt::Operator`: Complex conjugate of projection operator.\n",
       "  * `cut_off::Int`: Limit value of eigen-state index.\n"
      ],
      "text/plain": [
       "  Compute the on-site Bose-Hubbard Interaction term.\n",
       "\n",
       "\u001b[1m  Arguments:\u001b[22m\n",
       "\u001b[1m  ------------\u001b[22m\n",
       "\n",
       "    •  \u001b[36mbasis_cut_sp\u001b[39m: The cutt-off sites of bosonic many-body basis.\n",
       "\n",
       "    •  \u001b[36mbasis_cut_mb\u001b[39m: The cutt-off sites of single-particle basis.\n",
       "\n",
       "    •  \u001b[36mP::Operator\u001b[39m: Projection operator.\n",
       "\n",
       "    •  \u001b[36mPt::Operator\u001b[39m: Complex conjugate of projection operator.\n",
       "\n",
       "    •  \u001b[36mcut_off::Int\u001b[39m: Limit value of eigen-state index."
      ]
     },
     "execution_count": 23,
     "metadata": {},
     "output_type": "execute_result"
    }
   ],
   "source": [
    "@doc Hubbard_Interaction"
   ]
  },
  {
   "cell_type": "code",
   "execution_count": 24,
   "id": "dutch-philosophy",
   "metadata": {
    "tags": []
   },
   "outputs": [],
   "source": [
    "#bcut_mb, bcut = get_Bosonic_MB_Basis(cut_off,PN)\n",
    "basis_cut_mb, basis_cut_sp = get_Bosonic_MB_Basis(cut_off,PN)\n",
    "H_Int = Hubbard_Interaction(basis_cut_sp, basis_cut_mb, P, Pt, cut_off);"
   ]
  },
  {
   "cell_type": "markdown",
   "id": "865cc1d6-3246-4f5a-9c75-dfe67eab2040",
   "metadata": {},
   "source": [
    "# Constructing Total Hamiltonians "
   ]
  },
  {
   "cell_type": "code",
   "execution_count": 25,
   "id": "technical-technology",
   "metadata": {
    "tags": []
   },
   "outputs": [],
   "source": [
    "H1cut = SparseOperator(basis_cut_mb)\n",
    "H1cut.data = H1_MB.data\n",
    "\n",
    "number_mb_list_operators = get_num_mb_op(N, basis_cut_sp, num_sub_list, basis_cut_mb, basis_sub)\n",
    "\n",
    "V = 4\n",
    "V_imp = V * number_mb_list_operators[45];\n",
    "H_total = H1cut + H_Int + V_imp;"
   ]
  },
  {
   "cell_type": "markdown",
   "id": "3f1b1096-6ac2-4940-9e20-a7b79871a0a7",
   "metadata": {},
   "source": [
    "# Exact-Diagonalization"
   ]
  },
  {
   "cell_type": "code",
   "execution_count": 26,
   "id": "436255b0-474b-4d97-8672-a458428a7a3d",
   "metadata": {
    "tags": []
   },
   "outputs": [
    {
     "data": {
      "text/plain": [
       "get_energies (generic function with 1 method)"
      ]
     },
     "execution_count": 26,
     "metadata": {},
     "output_type": "execute_result"
    }
   ],
   "source": [
    "using DataFrames\n",
    "\n",
    "E, U = eigenstates(dense(dense((H_total+dagger(H_total))/2)))\n",
    "\n",
    "function get_energies(pn, E, U, basis)\n",
    "    PN_Energies = Array{Float64}(undef, length(E), 2)\n",
    "    for i in 1:length(E)\n",
    "        PN_Energies[i] = round(expect(number(basis), U[i])) #expected values (first column)\n",
    "        PN_Energies[i,2] = E[i] #eigen-values (second column)\n",
    "    end\n",
    "    \n",
    "    # filter\n",
    "    df = DataFrame(PN_Energies, :auto)\n",
    "    df = filter(row -> (row.x1 == pn),  df)\n",
    "    \n",
    "    return df\n",
    "end"
   ]
  },
  {
   "cell_type": "code",
   "execution_count": 27,
   "id": "0fc34877-b975-44a9-bdf1-171087768b75",
   "metadata": {
    "tags": []
   },
   "outputs": [
    {
     "name": "stdout",
     "output_type": "stream",
     "text": [
      "120-element Vector{Float64}:\n",
      " -10.25989036827856\n",
      " -10.259884355536734\n",
      " -10.259864512378334\n",
      " -10.25985088435604\n",
      " -10.259839167727383\n",
      " -10.259824249734958\n",
      " -10.259823526897181\n",
      " -10.222086796366424\n",
      " -10.222016263190625\n",
      " -10.219513235302074\n",
      " -10.217732415278812\n",
      " -10.199841575511721\n",
      " -10.1964634812048\n",
      " -10.196370276921026\n",
      " -10.193897972434371\n",
      " -10.18860962520194\n",
      " -10.187124685014217\n",
      " -10.18711737709193\n",
      " -10.186720279397345\n",
      " -10.183076329588461\n",
      " -10.182809071771734\n",
      " -10.181271453209526\n",
      " -10.180632539389771\n",
      " -10.180167831109156\n",
      " -10.175528903872726\n",
      " -10.17527270547827\n",
      " -10.174944755401095\n",
      " -10.171993940011\n",
      " -10.167254547436373\n",
      " -10.164251522521697\n",
      " -10.163728078503043\n",
      " -10.163179883638062\n",
      " -10.162923289754174\n",
      " -10.162657819150247\n",
      " -10.162633162769872\n",
      " -10.157337248745863\n",
      " -10.152867101057538\n",
      " -10.152843232284178\n",
      " -10.15257961344863\n",
      " -10.150766859209641\n",
      " -10.14889866450043\n",
      " -10.147560425983405\n",
      " -10.147117480991529\n",
      " -10.142554852804855\n",
      " -10.142387363239061\n",
      " -10.1399374999124\n",
      " -10.135035512599288\n",
      " -10.131655201525328\n",
      " -10.129905207034367\n",
      " -10.129162259764824\n",
      " -10.127692315684708\n",
      " -10.12012293680393\n",
      " -10.119972910998118\n",
      " -10.117011224201272\n",
      " -10.116275662383579\n",
      " -10.116213511939813\n",
      " -10.115856858786746\n",
      " -10.115143556839806\n",
      " -10.109161819532082\n",
      " -10.10453895508036\n",
      " -10.104270512982279\n",
      " -10.100545365457517\n",
      " -10.098093199424978\n",
      " -10.09793640837661\n",
      " -10.076189152937266\n",
      " -10.049106424938312\n",
      " -10.026068882087031\n",
      " -10.004076205767035\n",
      "  -9.997208114041802\n",
      "  -9.981683274831136\n",
      "  -9.980822865609268\n",
      "  -9.968634664764803\n",
      "  -9.967719896436694\n",
      "  -9.963893475095972\n",
      "  -9.961905941945677\n",
      "  -9.961459088529793\n",
      "  -9.96139871912432\n",
      "  -9.961228176999695\n",
      "  -9.96118776811705\n",
      "  -9.960176971450338\n",
      "  -9.960008689529257\n",
      "  -9.95899029025289\n",
      "  -9.95883708056206\n",
      "  -9.957515746392385\n",
      "  -9.850881821888626\n",
      "  -9.841364185864261\n",
      "  -9.835708438760063\n",
      "  -9.832492746050333\n",
      "  -9.831909326035777\n",
      "  -9.810340776838611\n",
      "  -9.80669525964409\n",
      "  -9.805421055589774\n",
      "  -9.804421935855279\n",
      "  -9.7703380788478\n",
      "  -9.76806316251703\n",
      "  -9.767134024630483\n",
      "  -9.76248770156901\n",
      "  -9.756934659077633\n",
      "  -9.75686140824557\n",
      "  -9.752227879070656\n",
      "  -9.746654222876936\n",
      "  -9.738535866118028\n",
      "  -9.735030063723753\n",
      "  -9.720018255536305\n",
      "  -9.717226431165209\n",
      "  -9.695027764962301\n",
      "  -9.687856904481952\n",
      "  -9.679494881733666\n",
      "  -9.65120498916236\n",
      "  -9.646553983805251\n",
      "  -9.625829451051366\n",
      "  -9.621949132365057\n",
      "  -9.357538317049935\n",
      "  -9.349522601020238\n",
      "  -9.34758869155075\n",
      "  -9.317961495391943\n",
      "  -9.301453804822799\n",
      "  -9.241709143692601\n",
      "  -9.159917826968924\n",
      "  -8.75863103565573"
     ]
    }
   ],
   "source": [
    "pn = 3.0\n",
    "df = get_energies(pn, E, U, basis_cut_mb)\n",
    "filtered_energies = Matrix(df)[:,2]\n",
    "show(stdout,\"text/plain\", filtered_energies) #show all outputs"
   ]
  },
  {
   "cell_type": "markdown",
   "id": "aaca712c-b257-494d-bc14-71ded4bb8410",
   "metadata": {},
   "source": [
    "Allta ki fonksiyonun çalışması için, dizide ki filtre edilmiş parçacık sayısı her zaman en büyük değer de olmalıdır.\n",
    "Örneğin, `PN=[0,1,2,3,4]` iken filtre edilen parçacık sayısı `pn=4` olmalıdır!"
   ]
  },
  {
   "cell_type": "code",
   "execution_count": 28,
   "id": "d582d7a3-67c3-4775-bcb8-2862643ca5ac",
   "metadata": {
    "tags": []
   },
   "outputs": [
    {
     "data": {
      "text/plain": [
       "Restricted_Hubbard_States (generic function with 1 method)"
      ]
     },
     "execution_count": 28,
     "metadata": {},
     "output_type": "execute_result"
    }
   ],
   "source": [
    "function Restricted_Hubbard_States(states)\n",
    "    number_of_states = length(filtered_energies)\n",
    "    return states[1:number_of_states];\n",
    "end"
   ]
  },
  {
   "cell_type": "code",
   "execution_count": 29,
   "id": "da17cb7c-bc14-4026-adae-386b3b5b2083",
   "metadata": {
    "tags": []
   },
   "outputs": [],
   "source": [
    "r_hubbard_states = Restricted_Hubbard_States(U);"
   ]
  },
  {
   "cell_type": "markdown",
   "id": "14aea968-4016-4dc6-965b-e194bc4b4944",
   "metadata": {},
   "source": [
    "# Density Profile"
   ]
  },
  {
   "cell_type": "code",
   "execution_count": 30,
   "id": "36f916a4-68d4-4448-ac28-a27d6f24ce86",
   "metadata": {
    "tags": []
   },
   "outputs": [
    {
     "data": {
      "text/plain": [
       "0.059204140591287 - 1.1100366773767606e-18im"
      ]
     },
     "execution_count": 30,
     "metadata": {},
     "output_type": "execute_result"
    }
   ],
   "source": [
    "# METHOD 1\n",
    "\n",
    "NM_MB_Array_Storage = zeros(Complex{Float64},length(basis_cut_mb),length(basis_cut_mb),N);\n",
    "NM_MB_Matrix = zeros(Complex{Float64},length(basis_cut_mb),length(basis_cut_mb));\n",
    "for m in 1:N\n",
    "    for i in 1:length(basis_cut_mb)\n",
    "        for j in 1:length(basis_cut_mb)\n",
    "            #NM_MB_Matrix[i,j] = num_mb_list[m].data[i,j]\n",
    "            NM_MB_Matrix[i,j] = number_mb_list_operators[m].data[i,j]\n",
    "            # NOT: num_mb_list ile number_mb_list_operators bazları farklı ama içerikleri aynı!\n",
    "        end\n",
    "    end\n",
    "    NM_MB_Array_Storage[:,:,m] = NM_MB_Matrix\n",
    "end\n",
    "\n",
    "BL = BR = basis_cut_mb\n",
    "index_number_op = 4\n",
    "T = NM_MB_Array_Storage[:,:,index_number_op]\n",
    "Op = Operator(BL,BR,T)\n",
    "index_eigen_states = 1\n",
    "expect(Op, r_hubbard_states[index_eigen_states])\n",
    "\n",
    "#or\n",
    "# expect(number_mb_list_operators[index_number_op],r_hubbard_states[index_eigen_states])"
   ]
  },
  {
   "cell_type": "code",
   "execution_count": 31,
   "id": "eb2700e3-348a-41e7-abf1-6f5f59e3705a",
   "metadata": {
    "tags": []
   },
   "outputs": [
    {
     "data": {
      "text/plain": [
       "4-element Vector{Int64}:\n",
       " 0\n",
       " 1\n",
       " 2\n",
       " 3"
      ]
     },
     "execution_count": 31,
     "metadata": {},
     "output_type": "execute_result"
    }
   ],
   "source": [
    "PN"
   ]
  },
  {
   "cell_type": "code",
   "execution_count": 32,
   "id": "81ff12cd-947c-4e4f-8b89-b4fc77c3f747",
   "metadata": {
    "tags": []
   },
   "outputs": [],
   "source": [
    "Sum = 0\n",
    "total_expect_list=[]\n",
    "\n",
    "for i in 1:N\n",
    "    T = NM_MB_Array_Storage[:,:,i]\n",
    "    Op = Operator(BL,BR,T)\n",
    "    n_i = 0\n",
    "    for index_eig_states in 1:q        \n",
    "        Sum += expect(Op, r_hubbard_states[index_eig_states])\n",
    "        #println(i,\"\\t\",expect(Op, r_hubbard_states[index_eig_states]))\n",
    "        n_i += expect(Op, r_hubbard_states[index_eig_states])\n",
    "    end\n",
    "    push!(total_expect_list,n_i)\n",
    "end"
   ]
  },
  {
   "cell_type": "code",
   "execution_count": 33,
   "id": "76f88a82-5b2a-42be-8493-09d88c08e621",
   "metadata": {
    "tags": []
   },
   "outputs": [
    {
     "data": {
      "text/plain": [
       "3.0000000000000004 - 6.812805910105764e-18im"
      ]
     },
     "execution_count": 33,
     "metadata": {},
     "output_type": "execute_result"
    }
   ],
   "source": [
    "index_eig_states = 1\n",
    "Sum = 0\n",
    "expect_list=[]\n",
    "\n",
    "for i in 1:N\n",
    "    T = NM_MB_Array_Storage[:,:,i]\n",
    "    Op = Operator(BL,BR,T)      \n",
    "    Sum += expect(Op, r_hubbard_states[index_eig_states])\n",
    "    #println(i,\"\\t\",expect(Op, r_hubbard_states[index_eig_states]))\n",
    "    push!(expect_list,expect(Op, r_hubbard_states[index_eig_states]))\n",
    "end\n",
    "Sum"
   ]
  },
  {
   "cell_type": "code",
   "execution_count": 34,
   "id": "0bc8aee0-82b0-41f1-9540-bbda21f62eed",
   "metadata": {
    "tags": []
   },
   "outputs": [
    {
     "data": {
      "image/svg+xml": [
       "<?xml version=\"1.0\" encoding=\"utf-8\"?>\n",
       "<svg xmlns=\"http://www.w3.org/2000/svg\" xmlns:xlink=\"http://www.w3.org/1999/xlink\" width=\"600\" height=\"400\" viewBox=\"0 0 2400 1600\">\n",
       "<defs>\n",
       "  <clipPath id=\"clip370\">\n",
       "    <rect x=\"0\" y=\"0\" width=\"2400\" height=\"1600\"/>\n",
       "  </clipPath>\n",
       "</defs>\n",
       "<path clip-path=\"url(#clip370)\" d=\"M0 1600 L2400 1600 L2400 0 L0 0  Z\" fill=\"#ffffff\" fill-rule=\"evenodd\" fill-opacity=\"1\"/>\n",
       "<defs>\n",
       "  <clipPath id=\"clip371\">\n",
       "    <rect x=\"480\" y=\"0\" width=\"1681\" height=\"1600\"/>\n",
       "  </clipPath>\n",
       "</defs>\n",
       "<path clip-path=\"url(#clip370)\" d=\"M224.098 1486.45 L2352.76 1486.45 L2352.76 123.472 L224.098 123.472  Z\" fill=\"#ffffff\" fill-rule=\"evenodd\" fill-opacity=\"1\"/>\n",
       "<defs>\n",
       "  <clipPath id=\"clip372\">\n",
       "    <rect x=\"224\" y=\"123\" width=\"2130\" height=\"1364\"/>\n",
       "  </clipPath>\n",
       "</defs>\n",
       "<polyline clip-path=\"url(#clip372)\" style=\"stroke:#000000; stroke-linecap:round; stroke-linejoin:round; stroke-width:2; stroke-opacity:0.1; fill:none\" points=\"707.115,1486.45 707.115,123.472 \"/>\n",
       "<polyline clip-path=\"url(#clip372)\" style=\"stroke:#000000; stroke-linecap:round; stroke-linejoin:round; stroke-width:2; stroke-opacity:0.1; fill:none\" points=\"1235.58,1486.45 1235.58,123.472 \"/>\n",
       "<polyline clip-path=\"url(#clip372)\" style=\"stroke:#000000; stroke-linecap:round; stroke-linejoin:round; stroke-width:2; stroke-opacity:0.1; fill:none\" points=\"1764.05,1486.45 1764.05,123.472 \"/>\n",
       "<polyline clip-path=\"url(#clip372)\" style=\"stroke:#000000; stroke-linecap:round; stroke-linejoin:round; stroke-width:2; stroke-opacity:0.1; fill:none\" points=\"2292.51,1486.45 2292.51,123.472 \"/>\n",
       "<polyline clip-path=\"url(#clip370)\" style=\"stroke:#000000; stroke-linecap:round; stroke-linejoin:round; stroke-width:4; stroke-opacity:1; fill:none\" points=\"224.098,1486.45 2352.76,1486.45 \"/>\n",
       "<polyline clip-path=\"url(#clip370)\" style=\"stroke:#000000; stroke-linecap:round; stroke-linejoin:round; stroke-width:4; stroke-opacity:1; fill:none\" points=\"707.115,1486.45 707.115,1467.55 \"/>\n",
       "<polyline clip-path=\"url(#clip370)\" style=\"stroke:#000000; stroke-linecap:round; stroke-linejoin:round; stroke-width:4; stroke-opacity:1; fill:none\" points=\"1235.58,1486.45 1235.58,1467.55 \"/>\n",
       "<polyline clip-path=\"url(#clip370)\" style=\"stroke:#000000; stroke-linecap:round; stroke-linejoin:round; stroke-width:4; stroke-opacity:1; fill:none\" points=\"1764.05,1486.45 1764.05,1467.55 \"/>\n",
       "<polyline clip-path=\"url(#clip370)\" style=\"stroke:#000000; stroke-linecap:round; stroke-linejoin:round; stroke-width:4; stroke-opacity:1; fill:none\" points=\"2292.51,1486.45 2292.51,1467.55 \"/>\n",
       "<path clip-path=\"url(#clip370)\" d=\"M697.393 1514.29 L715.749 1514.29 L715.749 1518.22 L701.675 1518.22 L701.675 1526.7 Q702.694 1526.35 703.712 1526.19 Q704.731 1526 705.749 1526 Q711.536 1526 714.916 1529.17 Q718.296 1532.34 718.296 1537.76 Q718.296 1543.34 714.823 1546.44 Q711.351 1549.52 705.032 1549.52 Q702.856 1549.52 700.587 1549.15 Q698.342 1548.78 695.935 1548.04 L695.935 1543.34 Q698.018 1544.47 700.24 1545.03 Q702.462 1545.58 704.939 1545.58 Q708.944 1545.58 711.282 1543.48 Q713.62 1541.37 713.62 1537.76 Q713.62 1534.15 711.282 1532.04 Q708.944 1529.94 704.939 1529.94 Q703.064 1529.94 701.189 1530.35 Q699.337 1530.77 697.393 1531.65 L697.393 1514.29 Z\" fill=\"#000000\" fill-rule=\"evenodd\" fill-opacity=\"1\" /><path clip-path=\"url(#clip370)\" d=\"M1210.27 1544.91 L1217.91 1544.91 L1217.91 1518.55 L1209.6 1520.21 L1209.6 1515.95 L1217.86 1514.29 L1222.54 1514.29 L1222.54 1544.91 L1230.18 1544.91 L1230.18 1548.85 L1210.27 1548.85 L1210.27 1544.91 Z\" fill=\"#000000\" fill-rule=\"evenodd\" fill-opacity=\"1\" /><path clip-path=\"url(#clip370)\" d=\"M1249.62 1517.37 Q1246.01 1517.37 1244.18 1520.93 Q1242.37 1524.47 1242.37 1531.6 Q1242.37 1538.71 1244.18 1542.27 Q1246.01 1545.82 1249.62 1545.82 Q1253.25 1545.82 1255.06 1542.27 Q1256.89 1538.71 1256.89 1531.6 Q1256.89 1524.47 1255.06 1520.93 Q1253.25 1517.37 1249.62 1517.37 M1249.62 1513.66 Q1255.43 1513.66 1258.49 1518.27 Q1261.56 1522.85 1261.56 1531.6 Q1261.56 1540.33 1258.49 1544.94 Q1255.43 1549.52 1249.62 1549.52 Q1243.81 1549.52 1240.73 1544.94 Q1237.68 1540.33 1237.68 1531.6 Q1237.68 1522.85 1240.73 1518.27 Q1243.81 1513.66 1249.62 1513.66 Z\" fill=\"#000000\" fill-rule=\"evenodd\" fill-opacity=\"1\" /><path clip-path=\"url(#clip370)\" d=\"M1739.23 1544.91 L1746.87 1544.91 L1746.87 1518.55 L1738.56 1520.21 L1738.56 1515.95 L1746.82 1514.29 L1751.5 1514.29 L1751.5 1544.91 L1759.14 1544.91 L1759.14 1548.85 L1739.23 1548.85 L1739.23 1544.91 Z\" fill=\"#000000\" fill-rule=\"evenodd\" fill-opacity=\"1\" /><path clip-path=\"url(#clip370)\" d=\"M1768.63 1514.29 L1786.99 1514.29 L1786.99 1518.22 L1772.91 1518.22 L1772.91 1526.7 Q1773.93 1526.35 1774.95 1526.19 Q1775.97 1526 1776.99 1526 Q1782.77 1526 1786.15 1529.17 Q1789.53 1532.34 1789.53 1537.76 Q1789.53 1543.34 1786.06 1546.44 Q1782.59 1549.52 1776.27 1549.52 Q1774.09 1549.52 1771.82 1549.15 Q1769.58 1548.78 1767.17 1548.04 L1767.17 1543.34 Q1769.25 1544.47 1771.48 1545.03 Q1773.7 1545.58 1776.18 1545.58 Q1780.18 1545.58 1782.52 1543.48 Q1784.86 1541.37 1784.86 1537.76 Q1784.86 1534.15 1782.52 1532.04 Q1780.18 1529.94 1776.18 1529.94 Q1774.3 1529.94 1772.43 1530.35 Q1770.57 1530.77 1768.63 1531.65 L1768.63 1514.29 Z\" fill=\"#000000\" fill-rule=\"evenodd\" fill-opacity=\"1\" /><path clip-path=\"url(#clip370)\" d=\"M2271.28 1544.91 L2287.6 1544.91 L2287.6 1548.85 L2265.66 1548.85 L2265.66 1544.91 Q2268.32 1542.16 2272.9 1537.53 Q2277.51 1532.88 2278.69 1531.53 Q2280.94 1529.01 2281.82 1527.27 Q2282.72 1525.51 2282.72 1523.82 Q2282.72 1521.07 2280.77 1519.33 Q2278.85 1517.6 2275.75 1517.6 Q2273.55 1517.6 2271.1 1518.36 Q2268.67 1519.13 2265.89 1520.68 L2265.89 1515.95 Q2268.71 1514.82 2271.17 1514.24 Q2273.62 1513.66 2275.66 1513.66 Q2281.03 1513.66 2284.22 1516.35 Q2287.42 1519.03 2287.42 1523.52 Q2287.42 1525.65 2286.61 1527.57 Q2285.82 1529.47 2283.71 1532.07 Q2283.14 1532.74 2280.03 1535.95 Q2276.93 1539.15 2271.28 1544.91 Z\" fill=\"#000000\" fill-rule=\"evenodd\" fill-opacity=\"1\" /><path clip-path=\"url(#clip370)\" d=\"M2307.42 1517.37 Q2303.81 1517.37 2301.98 1520.93 Q2300.17 1524.47 2300.17 1531.6 Q2300.17 1538.71 2301.98 1542.27 Q2303.81 1545.82 2307.42 1545.82 Q2311.05 1545.82 2312.86 1542.27 Q2314.69 1538.71 2314.69 1531.6 Q2314.69 1524.47 2312.86 1520.93 Q2311.05 1517.37 2307.42 1517.37 M2307.42 1513.66 Q2313.23 1513.66 2316.28 1518.27 Q2319.36 1522.85 2319.36 1531.6 Q2319.36 1540.33 2316.28 1544.94 Q2313.23 1549.52 2307.42 1549.52 Q2301.61 1549.52 2298.53 1544.94 Q2295.47 1540.33 2295.47 1531.6 Q2295.47 1522.85 2298.53 1518.27 Q2301.61 1513.66 2307.42 1513.66 Z\" fill=\"#000000\" fill-rule=\"evenodd\" fill-opacity=\"1\" /><polyline clip-path=\"url(#clip372)\" style=\"stroke:#000000; stroke-linecap:round; stroke-linejoin:round; stroke-width:2; stroke-opacity:0.1; fill:none\" points=\"224.098,1415.3 2352.76,1415.3 \"/>\n",
       "<polyline clip-path=\"url(#clip372)\" style=\"stroke:#000000; stroke-linecap:round; stroke-linejoin:round; stroke-width:2; stroke-opacity:0.1; fill:none\" points=\"224.098,1101.99 2352.76,1101.99 \"/>\n",
       "<polyline clip-path=\"url(#clip372)\" style=\"stroke:#000000; stroke-linecap:round; stroke-linejoin:round; stroke-width:2; stroke-opacity:0.1; fill:none\" points=\"224.098,788.675 2352.76,788.675 \"/>\n",
       "<polyline clip-path=\"url(#clip372)\" style=\"stroke:#000000; stroke-linecap:round; stroke-linejoin:round; stroke-width:2; stroke-opacity:0.1; fill:none\" points=\"224.098,475.361 2352.76,475.361 \"/>\n",
       "<polyline clip-path=\"url(#clip372)\" style=\"stroke:#000000; stroke-linecap:round; stroke-linejoin:round; stroke-width:2; stroke-opacity:0.1; fill:none\" points=\"224.098,162.047 2352.76,162.047 \"/>\n",
       "<polyline clip-path=\"url(#clip370)\" style=\"stroke:#000000; stroke-linecap:round; stroke-linejoin:round; stroke-width:4; stroke-opacity:1; fill:none\" points=\"224.098,1486.45 224.098,123.472 \"/>\n",
       "<polyline clip-path=\"url(#clip370)\" style=\"stroke:#000000; stroke-linecap:round; stroke-linejoin:round; stroke-width:4; stroke-opacity:1; fill:none\" points=\"224.098,1415.3 242.996,1415.3 \"/>\n",
       "<polyline clip-path=\"url(#clip370)\" style=\"stroke:#000000; stroke-linecap:round; stroke-linejoin:round; stroke-width:4; stroke-opacity:1; fill:none\" points=\"224.098,1101.99 242.996,1101.99 \"/>\n",
       "<polyline clip-path=\"url(#clip370)\" style=\"stroke:#000000; stroke-linecap:round; stroke-linejoin:round; stroke-width:4; stroke-opacity:1; fill:none\" points=\"224.098,788.675 242.996,788.675 \"/>\n",
       "<polyline clip-path=\"url(#clip370)\" style=\"stroke:#000000; stroke-linecap:round; stroke-linejoin:round; stroke-width:4; stroke-opacity:1; fill:none\" points=\"224.098,475.361 242.996,475.361 \"/>\n",
       "<polyline clip-path=\"url(#clip370)\" style=\"stroke:#000000; stroke-linecap:round; stroke-linejoin:round; stroke-width:4; stroke-opacity:1; fill:none\" points=\"224.098,162.047 242.996,162.047 \"/>\n",
       "<path clip-path=\"url(#clip370)\" d=\"M50.9921 1415.75 L80.6679 1415.75 L80.6679 1419.69 L50.9921 1419.69 L50.9921 1415.75 Z\" fill=\"#000000\" fill-rule=\"evenodd\" fill-opacity=\"1\" /><path clip-path=\"url(#clip370)\" d=\"M91.5706 1428.65 L99.2095 1428.65 L99.2095 1402.28 L90.8993 1403.95 L90.8993 1399.69 L99.1632 1398.02 L103.839 1398.02 L103.839 1428.65 L111.478 1428.65 L111.478 1432.58 L91.5706 1432.58 L91.5706 1428.65 Z\" fill=\"#000000\" fill-rule=\"evenodd\" fill-opacity=\"1\" /><path clip-path=\"url(#clip370)\" d=\"M130.922 1401.1 Q127.311 1401.1 125.482 1404.67 Q123.677 1408.21 123.677 1415.34 Q123.677 1422.44 125.482 1426.01 Q127.311 1429.55 130.922 1429.55 Q134.556 1429.55 136.362 1426.01 Q138.191 1422.44 138.191 1415.34 Q138.191 1408.21 136.362 1404.67 Q134.556 1401.1 130.922 1401.1 M130.922 1397.4 Q136.732 1397.4 139.788 1402 Q142.867 1406.59 142.867 1415.34 Q142.867 1424.06 139.788 1428.67 Q136.732 1433.25 130.922 1433.25 Q125.112 1433.25 122.033 1428.67 Q118.978 1424.06 118.978 1415.34 Q118.978 1406.59 122.033 1402 Q125.112 1397.4 130.922 1397.4 Z\" fill=\"#000000\" fill-rule=\"evenodd\" fill-opacity=\"1\" /><path clip-path=\"url(#clip370)\" d=\"M151.084 1426.7 L155.968 1426.7 L155.968 1432.58 L151.084 1432.58 L151.084 1426.7 Z\" fill=\"#000000\" fill-rule=\"evenodd\" fill-opacity=\"1\" /><path clip-path=\"url(#clip370)\" d=\"M176.153 1401.1 Q172.542 1401.1 170.714 1404.67 Q168.908 1408.21 168.908 1415.34 Q168.908 1422.44 170.714 1426.01 Q172.542 1429.55 176.153 1429.55 Q179.788 1429.55 181.593 1426.01 Q183.422 1422.44 183.422 1415.34 Q183.422 1408.21 181.593 1404.67 Q179.788 1401.1 176.153 1401.1 M176.153 1397.4 Q181.964 1397.4 185.019 1402 Q188.098 1406.59 188.098 1415.34 Q188.098 1424.06 185.019 1428.67 Q181.964 1433.25 176.153 1433.25 Q170.343 1433.25 167.265 1428.67 Q164.209 1424.06 164.209 1415.34 Q164.209 1406.59 167.265 1402 Q170.343 1397.4 176.153 1397.4 Z\" fill=\"#000000\" fill-rule=\"evenodd\" fill-opacity=\"1\" /><path clip-path=\"url(#clip370)\" d=\"M82.1494 1102.44 L111.825 1102.44 L111.825 1106.37 L82.1494 1106.37 L82.1494 1102.44 Z\" fill=\"#000000\" fill-rule=\"evenodd\" fill-opacity=\"1\" /><path clip-path=\"url(#clip370)\" d=\"M120.737 1084.71 L142.959 1084.71 L142.959 1086.7 L130.413 1119.27 L125.529 1119.27 L137.334 1088.64 L120.737 1088.64 L120.737 1084.71 Z\" fill=\"#000000\" fill-rule=\"evenodd\" fill-opacity=\"1\" /><path clip-path=\"url(#clip370)\" d=\"M152.08 1113.39 L156.964 1113.39 L156.964 1119.27 L152.08 1119.27 L152.08 1113.39 Z\" fill=\"#000000\" fill-rule=\"evenodd\" fill-opacity=\"1\" /><path clip-path=\"url(#clip370)\" d=\"M167.195 1084.71 L185.552 1084.71 L185.552 1088.64 L171.478 1088.64 L171.478 1097.12 Q172.496 1096.77 173.515 1096.61 Q174.533 1096.42 175.552 1096.42 Q181.339 1096.42 184.718 1099.59 Q188.098 1102.76 188.098 1108.18 Q188.098 1113.76 184.626 1116.86 Q181.153 1119.94 174.834 1119.94 Q172.658 1119.94 170.39 1119.57 Q168.144 1119.2 165.737 1118.46 L165.737 1113.76 Q167.82 1114.89 170.042 1115.45 Q172.265 1116 174.741 1116 Q178.746 1116 181.084 1113.9 Q183.422 1111.79 183.422 1108.18 Q183.422 1104.57 181.084 1102.46 Q178.746 1100.36 174.741 1100.36 Q172.866 1100.36 170.991 1100.77 Q169.14 1101.19 167.195 1102.07 L167.195 1084.71 Z\" fill=\"#000000\" fill-rule=\"evenodd\" fill-opacity=\"1\" /><path clip-path=\"url(#clip370)\" d=\"M81.154 789.126 L110.83 789.126 L110.83 793.061 L81.154 793.061 L81.154 789.126 Z\" fill=\"#000000\" fill-rule=\"evenodd\" fill-opacity=\"1\" /><path clip-path=\"url(#clip370)\" d=\"M120.969 771.395 L139.325 771.395 L139.325 775.33 L125.251 775.33 L125.251 783.802 Q126.27 783.455 127.288 783.293 Q128.307 783.107 129.325 783.107 Q135.112 783.107 138.492 786.279 Q141.871 789.45 141.871 794.867 Q141.871 800.445 138.399 803.547 Q134.927 806.626 128.607 806.626 Q126.432 806.626 124.163 806.255 Q121.918 805.885 119.51 805.144 L119.51 800.445 Q121.594 801.58 123.816 802.135 Q126.038 802.691 128.515 802.691 Q132.519 802.691 134.857 800.584 Q137.195 798.478 137.195 794.867 Q137.195 791.256 134.857 789.149 Q132.519 787.043 128.515 787.043 Q126.64 787.043 124.765 787.459 Q122.913 787.876 120.969 788.756 L120.969 771.395 Z\" fill=\"#000000\" fill-rule=\"evenodd\" fill-opacity=\"1\" /><path clip-path=\"url(#clip370)\" d=\"M151.084 800.075 L155.968 800.075 L155.968 805.955 L151.084 805.955 L151.084 800.075 Z\" fill=\"#000000\" fill-rule=\"evenodd\" fill-opacity=\"1\" /><path clip-path=\"url(#clip370)\" d=\"M176.153 774.473 Q172.542 774.473 170.714 778.038 Q168.908 781.58 168.908 788.709 Q168.908 795.816 170.714 799.381 Q172.542 802.922 176.153 802.922 Q179.788 802.922 181.593 799.381 Q183.422 795.816 183.422 788.709 Q183.422 781.58 181.593 778.038 Q179.788 774.473 176.153 774.473 M176.153 770.77 Q181.964 770.77 185.019 775.376 Q188.098 779.959 188.098 788.709 Q188.098 797.436 185.019 802.043 Q181.964 806.626 176.153 806.626 Q170.343 806.626 167.265 802.043 Q164.209 797.436 164.209 788.709 Q164.209 779.959 167.265 775.376 Q170.343 770.77 176.153 770.77 Z\" fill=\"#000000\" fill-rule=\"evenodd\" fill-opacity=\"1\" /><path clip-path=\"url(#clip370)\" d=\"M82.1494 475.812 L111.825 475.812 L111.825 479.747 L82.1494 479.747 L82.1494 475.812 Z\" fill=\"#000000\" fill-rule=\"evenodd\" fill-opacity=\"1\" /><path clip-path=\"url(#clip370)\" d=\"M125.945 488.706 L142.265 488.706 L142.265 492.641 L120.32 492.641 L120.32 488.706 Q122.982 485.951 127.566 481.321 Q132.172 476.669 133.353 475.326 Q135.598 472.803 136.478 471.067 Q137.381 469.308 137.381 467.618 Q137.381 464.863 135.436 463.127 Q133.515 461.391 130.413 461.391 Q128.214 461.391 125.76 462.155 Q123.33 462.919 120.552 464.47 L120.552 459.747 Q123.376 458.613 125.83 458.034 Q128.283 457.456 130.32 457.456 Q135.691 457.456 138.885 460.141 Q142.08 462.826 142.08 467.317 Q142.08 469.446 141.269 471.368 Q140.482 473.266 138.376 475.858 Q137.797 476.53 134.695 479.747 Q131.594 482.942 125.945 488.706 Z\" fill=\"#000000\" fill-rule=\"evenodd\" fill-opacity=\"1\" /><path clip-path=\"url(#clip370)\" d=\"M152.08 486.761 L156.964 486.761 L156.964 492.641 L152.08 492.641 L152.08 486.761 Z\" fill=\"#000000\" fill-rule=\"evenodd\" fill-opacity=\"1\" /><path clip-path=\"url(#clip370)\" d=\"M167.195 458.081 L185.552 458.081 L185.552 462.016 L171.478 462.016 L171.478 470.488 Q172.496 470.141 173.515 469.979 Q174.533 469.794 175.552 469.794 Q181.339 469.794 184.718 472.965 Q188.098 476.136 188.098 481.553 Q188.098 487.132 184.626 490.233 Q181.153 493.312 174.834 493.312 Q172.658 493.312 170.39 492.942 Q168.144 492.571 165.737 491.831 L165.737 487.132 Q167.82 488.266 170.042 488.821 Q172.265 489.377 174.741 489.377 Q178.746 489.377 181.084 487.27 Q183.422 485.164 183.422 481.553 Q183.422 477.942 181.084 475.835 Q178.746 473.729 174.741 473.729 Q172.866 473.729 170.991 474.145 Q169.14 474.562 167.195 475.442 L167.195 458.081 Z\" fill=\"#000000\" fill-rule=\"evenodd\" fill-opacity=\"1\" /><path clip-path=\"url(#clip370)\" d=\"M130.922 147.846 Q127.311 147.846 125.482 151.41 Q123.677 154.952 123.677 162.082 Q123.677 169.188 125.482 172.753 Q127.311 176.295 130.922 176.295 Q134.556 176.295 136.362 172.753 Q138.191 169.188 138.191 162.082 Q138.191 154.952 136.362 151.41 Q134.556 147.846 130.922 147.846 M130.922 144.142 Q136.732 144.142 139.788 148.748 Q142.867 153.332 142.867 162.082 Q142.867 170.808 139.788 175.415 Q136.732 179.998 130.922 179.998 Q125.112 179.998 122.033 175.415 Q118.978 170.808 118.978 162.082 Q118.978 153.332 122.033 148.748 Q125.112 144.142 130.922 144.142 Z\" fill=\"#000000\" fill-rule=\"evenodd\" fill-opacity=\"1\" /><path clip-path=\"url(#clip370)\" d=\"M151.084 173.447 L155.968 173.447 L155.968 179.327 L151.084 179.327 L151.084 173.447 Z\" fill=\"#000000\" fill-rule=\"evenodd\" fill-opacity=\"1\" /><path clip-path=\"url(#clip370)\" d=\"M176.153 147.846 Q172.542 147.846 170.714 151.41 Q168.908 154.952 168.908 162.082 Q168.908 169.188 170.714 172.753 Q172.542 176.295 176.153 176.295 Q179.788 176.295 181.593 172.753 Q183.422 169.188 183.422 162.082 Q183.422 154.952 181.593 151.41 Q179.788 147.846 176.153 147.846 M176.153 144.142 Q181.964 144.142 185.019 148.748 Q188.098 153.332 188.098 162.082 Q188.098 170.808 185.019 175.415 Q181.964 179.998 176.153 179.998 Q170.343 179.998 167.265 175.415 Q164.209 170.808 164.209 162.082 Q164.209 153.332 167.265 148.748 Q170.343 144.142 176.153 144.142 Z\" fill=\"#000000\" fill-rule=\"evenodd\" fill-opacity=\"1\" /><path clip-path=\"url(#clip370)\" d=\"M1026.27 18.8205 L1026.27 41.5461 L1036.56 41.5461 Q1042.27 41.5461 1045.39 38.5889 Q1048.51 35.6318 1048.51 30.163 Q1048.51 24.7348 1045.39 21.7777 Q1042.27 18.8205 1036.56 18.8205 L1026.27 18.8205 M1018.09 12.096 L1036.56 12.096 Q1046.73 12.096 1051.91 16.714 Q1057.14 21.2916 1057.14 30.163 Q1057.14 39.1155 1051.91 43.6931 Q1046.73 48.2706 1036.56 48.2706 L1026.27 48.2706 L1026.27 72.576 L1018.09 72.576 L1018.09 12.096 Z\" fill=\"#000000\" fill-rule=\"evenodd\" fill-opacity=\"1\" /><path clip-path=\"url(#clip370)\" d=\"M1103.64 48.0275 L1103.64 51.6733 L1069.37 51.6733 Q1069.86 59.3701 1073.99 63.421 Q1078.16 67.4314 1085.58 67.4314 Q1089.87 67.4314 1093.88 66.3781 Q1097.93 65.3249 1101.9 63.2184 L1101.9 70.267 Q1097.89 71.9684 1093.68 72.8596 Q1089.47 73.7508 1085.13 73.7508 Q1074.28 73.7508 1067.92 67.4314 Q1061.6 61.1119 1061.6 50.3365 Q1061.6 39.1965 1067.59 32.6746 Q1073.63 26.1121 1083.84 26.1121 Q1092.99 26.1121 1098.3 32.0264 Q1103.64 37.9003 1103.64 48.0275 M1096.19 45.84 Q1096.11 39.7232 1092.75 36.0774 Q1089.43 32.4315 1083.92 32.4315 Q1077.68 32.4315 1073.91 35.9558 Q1070.18 39.4801 1069.62 45.8805 L1096.19 45.84 Z\" fill=\"#000000\" fill-rule=\"evenodd\" fill-opacity=\"1\" /><path clip-path=\"url(#clip370)\" d=\"M1142.17 34.1734 Q1140.91 33.4443 1139.41 33.1202 Q1137.96 32.7556 1136.17 32.7556 Q1129.85 32.7556 1126.45 36.8875 Q1123.09 40.9789 1123.09 48.6757 L1123.09 72.576 L1115.6 72.576 L1115.6 27.2059 L1123.09 27.2059 L1123.09 34.2544 Q1125.44 30.1225 1129.21 28.1376 Q1132.97 26.1121 1138.36 26.1121 Q1139.13 26.1121 1140.06 26.2337 Q1140.99 26.3147 1142.13 26.5172 L1142.17 34.1734 Z\" fill=\"#000000\" fill-rule=\"evenodd\" fill-opacity=\"1\" /><path clip-path=\"url(#clip370)\" d=\"M1149.99 27.2059 L1157.44 27.2059 L1157.44 72.576 L1149.99 72.576 L1149.99 27.2059 M1149.99 9.54393 L1157.44 9.54393 L1157.44 18.9825 L1149.99 18.9825 L1149.99 9.54393 Z\" fill=\"#000000\" fill-rule=\"evenodd\" fill-opacity=\"1\" /><path clip-path=\"url(#clip370)\" d=\"M1190.62 32.4315 Q1184.62 32.4315 1181.14 37.1306 Q1177.65 41.7891 1177.65 49.9314 Q1177.65 58.0738 1181.1 62.7728 Q1184.58 67.4314 1190.62 67.4314 Q1196.57 67.4314 1200.06 62.7323 Q1203.54 58.0333 1203.54 49.9314 Q1203.54 41.8701 1200.06 37.1711 Q1196.57 32.4315 1190.62 32.4315 M1190.62 26.1121 Q1200.34 26.1121 1205.89 32.4315 Q1211.44 38.7509 1211.44 49.9314 Q1211.44 61.0714 1205.89 67.4314 Q1200.34 73.7508 1190.62 73.7508 Q1180.86 73.7508 1175.31 67.4314 Q1169.8 61.0714 1169.8 49.9314 Q1169.8 38.7509 1175.31 32.4315 Q1180.86 26.1121 1190.62 26.1121 Z\" fill=\"#000000\" fill-rule=\"evenodd\" fill-opacity=\"1\" /><path clip-path=\"url(#clip370)\" d=\"M1253.65 34.0924 L1253.65 9.54393 L1261.1 9.54393 L1261.1 72.576 L1253.65 72.576 L1253.65 65.7705 Q1251.3 69.8214 1247.7 71.8063 Q1244.13 73.7508 1239.11 73.7508 Q1230.88 73.7508 1225.7 67.1883 Q1220.55 60.6258 1220.55 49.9314 Q1220.55 39.2371 1225.7 32.6746 Q1230.88 26.1121 1239.11 26.1121 Q1244.13 26.1121 1247.7 28.0971 Q1251.3 30.0415 1253.65 34.0924 M1228.25 49.9314 Q1228.25 58.1548 1231.61 62.8538 Q1235.02 67.5124 1240.93 67.5124 Q1246.84 67.5124 1250.25 62.8538 Q1253.65 58.1548 1253.65 49.9314 Q1253.65 41.7081 1250.25 37.0496 Q1246.84 32.3505 1240.93 32.3505 Q1235.02 32.3505 1231.61 37.0496 Q1228.25 41.7081 1228.25 49.9314 Z\" fill=\"#000000\" fill-rule=\"evenodd\" fill-opacity=\"1\" /><path clip-path=\"url(#clip370)\" d=\"M1276.46 27.2059 L1283.91 27.2059 L1283.91 72.576 L1276.46 72.576 L1276.46 27.2059 M1276.46 9.54393 L1283.91 9.54393 L1283.91 18.9825 L1276.46 18.9825 L1276.46 9.54393 Z\" fill=\"#000000\" fill-rule=\"evenodd\" fill-opacity=\"1\" /><path clip-path=\"url(#clip370)\" d=\"M1332.16 28.9478 L1332.16 35.9153 Q1329 34.1734 1325.8 33.3227 Q1322.64 32.4315 1319.4 32.4315 Q1312.14 32.4315 1308.13 37.0496 Q1304.12 41.6271 1304.12 49.9314 Q1304.12 58.2358 1308.13 62.8538 Q1312.14 67.4314 1319.4 67.4314 Q1322.64 67.4314 1325.8 66.5807 Q1329 65.6895 1332.16 63.9476 L1332.16 70.8341 Q1329.04 72.2924 1325.67 73.0216 Q1322.35 73.7508 1318.59 73.7508 Q1308.34 73.7508 1302.3 67.3098 Q1296.27 60.8689 1296.27 49.9314 Q1296.27 38.832 1302.34 32.472 Q1308.46 26.1121 1319.07 26.1121 Q1322.52 26.1121 1325.8 26.8413 Q1329.08 27.5299 1332.16 28.9478 Z\" fill=\"#000000\" fill-rule=\"evenodd\" fill-opacity=\"1\" /><path clip-path=\"url(#clip370)\" d=\"M1345.12 27.2059 L1352.57 27.2059 L1352.57 72.576 L1345.12 72.576 L1345.12 27.2059 M1345.12 9.54393 L1352.57 9.54393 L1352.57 18.9825 L1345.12 18.9825 L1345.12 9.54393 Z\" fill=\"#000000\" fill-rule=\"evenodd\" fill-opacity=\"1\" /><path clip-path=\"url(#clip370)\" d=\"M1375.54 14.324 L1375.54 27.2059 L1390.89 27.2059 L1390.89 32.9987 L1375.54 32.9987 L1375.54 57.6282 Q1375.54 63.1779 1377.04 64.7578 Q1378.58 66.3376 1383.24 66.3376 L1390.89 66.3376 L1390.89 72.576 L1383.24 72.576 Q1374.61 72.576 1371.33 69.3758 Q1368.05 66.1351 1368.05 57.6282 L1368.05 32.9987 L1362.58 32.9987 L1362.58 27.2059 L1368.05 27.2059 L1368.05 14.324 L1375.54 14.324 Z\" fill=\"#000000\" fill-rule=\"evenodd\" fill-opacity=\"1\" /><path clip-path=\"url(#clip370)\" d=\"M1419.57 76.7889 Q1416.42 84.8907 1413.42 87.3618 Q1410.42 89.8329 1405.4 89.8329 L1399.44 89.8329 L1399.44 83.5945 L1403.82 83.5945 Q1406.9 83.5945 1408.6 82.1361 Q1410.3 80.6778 1412.36 75.2496 L1413.7 71.8468 L1395.35 27.2059 L1403.25 27.2059 L1417.43 62.6918 L1431.61 27.2059 L1439.51 27.2059 L1419.57 76.7889 Z\" fill=\"#000000\" fill-rule=\"evenodd\" fill-opacity=\"1\" /><path clip-path=\"url(#clip370)\" d=\"M1450.77 34.9026 L1502.7 34.9026 L1502.7 41.7081 L1450.77 41.7081 L1450.77 34.9026 M1450.77 51.4303 L1502.7 51.4303 L1502.7 58.3168 L1450.77 58.3168 L1450.77 51.4303 Z\" fill=\"#000000\" fill-rule=\"evenodd\" fill-opacity=\"1\" /><path clip-path=\"url(#clip370)\" d=\"M1537.86 17.4837 Q1531.54 17.4837 1528.34 23.7221 Q1525.18 29.92 1525.18 42.3968 Q1525.18 54.833 1528.34 61.0714 Q1531.54 67.2693 1537.86 67.2693 Q1544.22 67.2693 1547.38 61.0714 Q1550.58 54.833 1550.58 42.3968 Q1550.58 29.92 1547.38 23.7221 Q1544.22 17.4837 1537.86 17.4837 M1537.86 11.0023 Q1548.03 11.0023 1553.38 19.0636 Q1558.76 27.0843 1558.76 42.3968 Q1558.76 57.6687 1553.38 65.73 Q1548.03 73.7508 1537.86 73.7508 Q1527.69 73.7508 1522.31 65.73 Q1516.96 57.6687 1516.96 42.3968 Q1516.96 27.0843 1522.31 19.0636 Q1527.69 11.0023 1537.86 11.0023 Z\" fill=\"#000000\" fill-rule=\"evenodd\" fill-opacity=\"1\" /><circle clip-path=\"url(#clip372)\" cx=\"284.343\" cy=\"1447.87\" r=\"14.4\" fill=\"#009af9\" fill-rule=\"evenodd\" fill-opacity=\"1\" stroke=\"#000000\" stroke-opacity=\"1\" stroke-width=\"3.2\"/>\n",
       "<circle clip-path=\"url(#clip372)\" cx=\"390.036\" cy=\"1447.87\" r=\"14.4\" fill=\"#009af9\" fill-rule=\"evenodd\" fill-opacity=\"1\" stroke=\"#000000\" stroke-opacity=\"1\" stroke-width=\"3.2\"/>\n",
       "<circle clip-path=\"url(#clip372)\" cx=\"495.729\" cy=\"1447.87\" r=\"14.4\" fill=\"#009af9\" fill-rule=\"evenodd\" fill-opacity=\"1\" stroke=\"#000000\" stroke-opacity=\"1\" stroke-width=\"3.2\"/>\n",
       "<circle clip-path=\"url(#clip372)\" cx=\"601.422\" cy=\"1447.87\" r=\"14.4\" fill=\"#009af9\" fill-rule=\"evenodd\" fill-opacity=\"1\" stroke=\"#000000\" stroke-opacity=\"1\" stroke-width=\"3.2\"/>\n",
       "<circle clip-path=\"url(#clip372)\" cx=\"707.115\" cy=\"1447.87\" r=\"14.4\" fill=\"#009af9\" fill-rule=\"evenodd\" fill-opacity=\"1\" stroke=\"#000000\" stroke-opacity=\"1\" stroke-width=\"3.2\"/>\n",
       "<circle clip-path=\"url(#clip372)\" cx=\"812.808\" cy=\"1447.86\" r=\"14.4\" fill=\"#009af9\" fill-rule=\"evenodd\" fill-opacity=\"1\" stroke=\"#000000\" stroke-opacity=\"1\" stroke-width=\"3.2\"/>\n",
       "<circle clip-path=\"url(#clip372)\" cx=\"918.501\" cy=\"1447.86\" r=\"14.4\" fill=\"#009af9\" fill-rule=\"evenodd\" fill-opacity=\"1\" stroke=\"#000000\" stroke-opacity=\"1\" stroke-width=\"3.2\"/>\n",
       "<circle clip-path=\"url(#clip372)\" cx=\"1024.19\" cy=\"1443.14\" r=\"14.4\" fill=\"#009af9\" fill-rule=\"evenodd\" fill-opacity=\"1\" stroke=\"#000000\" stroke-opacity=\"1\" stroke-width=\"3.2\"/>\n",
       "<circle clip-path=\"url(#clip372)\" cx=\"1129.89\" cy=\"1443.13\" r=\"14.4\" fill=\"#009af9\" fill-rule=\"evenodd\" fill-opacity=\"1\" stroke=\"#000000\" stroke-opacity=\"1\" stroke-width=\"3.2\"/>\n",
       "<circle clip-path=\"url(#clip372)\" cx=\"1235.58\" cy=\"1442.81\" r=\"14.4\" fill=\"#009af9\" fill-rule=\"evenodd\" fill-opacity=\"1\" stroke=\"#000000\" stroke-opacity=\"1\" stroke-width=\"3.2\"/>\n",
       "<circle clip-path=\"url(#clip372)\" cx=\"1341.27\" cy=\"1442.59\" r=\"14.4\" fill=\"#009af9\" fill-rule=\"evenodd\" fill-opacity=\"1\" stroke=\"#000000\" stroke-opacity=\"1\" stroke-width=\"3.2\"/>\n",
       "<circle clip-path=\"url(#clip372)\" cx=\"1446.97\" cy=\"1440.35\" r=\"14.4\" fill=\"#009af9\" fill-rule=\"evenodd\" fill-opacity=\"1\" stroke=\"#000000\" stroke-opacity=\"1\" stroke-width=\"3.2\"/>\n",
       "<circle clip-path=\"url(#clip372)\" cx=\"1552.66\" cy=\"1439.92\" r=\"14.4\" fill=\"#009af9\" fill-rule=\"evenodd\" fill-opacity=\"1\" stroke=\"#000000\" stroke-opacity=\"1\" stroke-width=\"3.2\"/>\n",
       "<circle clip-path=\"url(#clip372)\" cx=\"1658.35\" cy=\"1439.91\" r=\"14.4\" fill=\"#009af9\" fill-rule=\"evenodd\" fill-opacity=\"1\" stroke=\"#000000\" stroke-opacity=\"1\" stroke-width=\"3.2\"/>\n",
       "<circle clip-path=\"url(#clip372)\" cx=\"1764.05\" cy=\"1439.6\" r=\"14.4\" fill=\"#009af9\" fill-rule=\"evenodd\" fill-opacity=\"1\" stroke=\"#000000\" stroke-opacity=\"1\" stroke-width=\"3.2\"/>\n",
       "<circle clip-path=\"url(#clip372)\" cx=\"1869.74\" cy=\"1438.94\" r=\"14.4\" fill=\"#009af9\" fill-rule=\"evenodd\" fill-opacity=\"1\" stroke=\"#000000\" stroke-opacity=\"1\" stroke-width=\"3.2\"/>\n",
       "<circle clip-path=\"url(#clip372)\" cx=\"1975.43\" cy=\"1438.75\" r=\"14.4\" fill=\"#009af9\" fill-rule=\"evenodd\" fill-opacity=\"1\" stroke=\"#000000\" stroke-opacity=\"1\" stroke-width=\"3.2\"/>\n",
       "<circle clip-path=\"url(#clip372)\" cx=\"2081.12\" cy=\"1438.75\" r=\"14.4\" fill=\"#009af9\" fill-rule=\"evenodd\" fill-opacity=\"1\" stroke=\"#000000\" stroke-opacity=\"1\" stroke-width=\"3.2\"/>\n",
       "<circle clip-path=\"url(#clip372)\" cx=\"2186.82\" cy=\"1438.7\" r=\"14.4\" fill=\"#009af9\" fill-rule=\"evenodd\" fill-opacity=\"1\" stroke=\"#000000\" stroke-opacity=\"1\" stroke-width=\"3.2\"/>\n",
       "<circle clip-path=\"url(#clip372)\" cx=\"2292.51\" cy=\"1438.25\" r=\"14.4\" fill=\"#009af9\" fill-rule=\"evenodd\" fill-opacity=\"1\" stroke=\"#000000\" stroke-opacity=\"1\" stroke-width=\"3.2\"/>\n",
       "<path clip-path=\"url(#clip370)\" d=\"M2016.5 272.585 L2281.8 272.585 L2281.8 168.905 L2016.5 168.905  Z\" fill=\"#ffffff\" fill-rule=\"evenodd\" fill-opacity=\"1\"/>\n",
       "<polyline clip-path=\"url(#clip370)\" style=\"stroke:#000000; stroke-linecap:round; stroke-linejoin:round; stroke-width:4; stroke-opacity:1; fill:none\" points=\"2016.5,272.585 2281.8,272.585 2281.8,168.905 2016.5,168.905 2016.5,272.585 \"/>\n",
       "<circle clip-path=\"url(#clip370)\" cx=\"2111.11\" cy=\"220.745\" r=\"23.04\" fill=\"#009af9\" fill-rule=\"evenodd\" fill-opacity=\"1\" stroke=\"#000000\" stroke-opacity=\"1\" stroke-width=\"5.12\"/>\n",
       "<path clip-path=\"url(#clip370)\" d=\"M2219.56 240.432 Q2217.76 245.062 2216.04 246.474 Q2214.33 247.886 2211.46 247.886 L2208.06 247.886 L2208.06 244.321 L2210.56 244.321 Q2212.32 244.321 2213.29 243.488 Q2214.26 242.654 2215.44 239.552 L2216.2 237.608 L2205.72 212.099 L2210.23 212.099 L2218.33 232.377 L2226.44 212.099 L2230.95 212.099 L2219.56 240.432 Z\" fill=\"#000000\" fill-rule=\"evenodd\" fill-opacity=\"1\" /><path clip-path=\"url(#clip370)\" d=\"M2238.24 234.089 L2245.88 234.089 L2245.88 207.724 L2237.57 209.391 L2237.57 205.131 L2245.83 203.465 L2250.51 203.465 L2250.51 234.089 L2258.15 234.089 L2258.15 238.025 L2238.24 238.025 L2238.24 234.089 Z\" fill=\"#000000\" fill-rule=\"evenodd\" fill-opacity=\"1\" /></svg>\n"
      ]
     },
     "execution_count": 34,
     "metadata": {},
     "output_type": "execute_result"
    }
   ],
   "source": [
    "using Plots\n",
    "plot(1:20,E,seriestype=:scatter,title=\"Periodicity=$(periodicity)\")"
   ]
  },
  {
   "cell_type": "code",
   "execution_count": 42,
   "id": "c1f99164-3eaa-463b-84fc-21a49ff56a6b",
   "metadata": {
    "tags": []
   },
   "outputs": [
    {
     "data": {
      "image/svg+xml": [
       "<?xml version=\"1.0\" encoding=\"utf-8\"?>\n",
       "<svg xmlns=\"http://www.w3.org/2000/svg\" xmlns:xlink=\"http://www.w3.org/1999/xlink\" width=\"600\" height=\"400\" viewBox=\"0 0 2400 1600\">\n",
       "<defs>\n",
       "  <clipPath id=\"clip410\">\n",
       "    <rect x=\"0\" y=\"0\" width=\"2400\" height=\"1600\"/>\n",
       "  </clipPath>\n",
       "</defs>\n",
       "<path clip-path=\"url(#clip410)\" d=\"M0 1600 L2400 1600 L2400 0 L0 0  Z\" fill=\"#ffffff\" fill-rule=\"evenodd\" fill-opacity=\"1\"/>\n",
       "<defs>\n",
       "  <clipPath id=\"clip411\">\n",
       "    <rect x=\"480\" y=\"0\" width=\"1681\" height=\"1600\"/>\n",
       "  </clipPath>\n",
       "</defs>\n",
       "<path clip-path=\"url(#clip410)\" d=\"M112.177 1486.45 L2112.76 1486.45 L2112.76 47.2441 L112.177 47.2441  Z\" fill=\"#ffffff\" fill-rule=\"evenodd\" fill-opacity=\"1\"/>\n",
       "<defs>\n",
       "  <clipPath id=\"clip412\">\n",
       "    <rect x=\"112\" y=\"47\" width=\"2002\" height=\"1440\"/>\n",
       "  </clipPath>\n",
       "</defs>\n",
       "<polyline clip-path=\"url(#clip412)\" style=\"stroke:#000000; stroke-linecap:round; stroke-linejoin:round; stroke-width:2; stroke-opacity:0.1; fill:none\" points=\"412.264,1486.45 412.264,47.2441 \"/>\n",
       "<polyline clip-path=\"url(#clip412)\" style=\"stroke:#000000; stroke-linecap:round; stroke-linejoin:round; stroke-width:2; stroke-opacity:0.1; fill:none\" points=\"812.38,1486.45 812.38,47.2441 \"/>\n",
       "<polyline clip-path=\"url(#clip412)\" style=\"stroke:#000000; stroke-linecap:round; stroke-linejoin:round; stroke-width:2; stroke-opacity:0.1; fill:none\" points=\"1212.5,1486.45 1212.5,47.2441 \"/>\n",
       "<polyline clip-path=\"url(#clip412)\" style=\"stroke:#000000; stroke-linecap:round; stroke-linejoin:round; stroke-width:2; stroke-opacity:0.1; fill:none\" points=\"1612.61,1486.45 1612.61,47.2441 \"/>\n",
       "<polyline clip-path=\"url(#clip412)\" style=\"stroke:#000000; stroke-linecap:round; stroke-linejoin:round; stroke-width:2; stroke-opacity:0.1; fill:none\" points=\"2012.73,1486.45 2012.73,47.2441 \"/>\n",
       "<polyline clip-path=\"url(#clip410)\" style=\"stroke:#000000; stroke-linecap:round; stroke-linejoin:round; stroke-width:4; stroke-opacity:1; fill:none\" points=\"112.177,1486.45 2112.76,1486.45 \"/>\n",
       "<polyline clip-path=\"url(#clip410)\" style=\"stroke:#000000; stroke-linecap:round; stroke-linejoin:round; stroke-width:4; stroke-opacity:1; fill:none\" points=\"412.264,1486.45 412.264,1467.55 \"/>\n",
       "<polyline clip-path=\"url(#clip410)\" style=\"stroke:#000000; stroke-linecap:round; stroke-linejoin:round; stroke-width:4; stroke-opacity:1; fill:none\" points=\"812.38,1486.45 812.38,1467.55 \"/>\n",
       "<polyline clip-path=\"url(#clip410)\" style=\"stroke:#000000; stroke-linecap:round; stroke-linejoin:round; stroke-width:4; stroke-opacity:1; fill:none\" points=\"1212.5,1486.45 1212.5,1467.55 \"/>\n",
       "<polyline clip-path=\"url(#clip410)\" style=\"stroke:#000000; stroke-linecap:round; stroke-linejoin:round; stroke-width:4; stroke-opacity:1; fill:none\" points=\"1612.61,1486.45 1612.61,1467.55 \"/>\n",
       "<polyline clip-path=\"url(#clip410)\" style=\"stroke:#000000; stroke-linecap:round; stroke-linejoin:round; stroke-width:4; stroke-opacity:1; fill:none\" points=\"2012.73,1486.45 2012.73,1467.55 \"/>\n",
       "<path clip-path=\"url(#clip410)\" d=\"M406.917 1544.91 L423.236 1544.91 L423.236 1548.85 L401.292 1548.85 L401.292 1544.91 Q403.954 1542.16 408.537 1537.53 Q413.144 1532.88 414.324 1531.53 Q416.57 1529.01 417.449 1527.27 Q418.352 1525.51 418.352 1523.82 Q418.352 1521.07 416.407 1519.33 Q414.486 1517.6 411.384 1517.6 Q409.185 1517.6 406.732 1518.36 Q404.301 1519.13 401.523 1520.68 L401.523 1515.95 Q404.347 1514.82 406.801 1514.24 Q409.255 1513.66 411.292 1513.66 Q416.662 1513.66 419.857 1516.35 Q423.051 1519.03 423.051 1523.52 Q423.051 1525.65 422.241 1527.57 Q421.454 1529.47 419.347 1532.07 Q418.769 1532.74 415.667 1535.95 Q412.565 1539.15 406.917 1544.91 Z\" fill=\"#000000\" fill-rule=\"evenodd\" fill-opacity=\"1\" /><path clip-path=\"url(#clip410)\" d=\"M815.389 1518.36 L803.583 1536.81 L815.389 1536.81 L815.389 1518.36 M814.162 1514.29 L820.042 1514.29 L820.042 1536.81 L824.972 1536.81 L824.972 1540.7 L820.042 1540.7 L820.042 1548.85 L815.389 1548.85 L815.389 1540.7 L799.787 1540.7 L799.787 1536.19 L814.162 1514.29 Z\" fill=\"#000000\" fill-rule=\"evenodd\" fill-opacity=\"1\" /><path clip-path=\"url(#clip410)\" d=\"M1212.9 1529.7 Q1209.75 1529.7 1207.9 1531.86 Q1206.07 1534.01 1206.07 1537.76 Q1206.07 1541.49 1207.9 1543.66 Q1209.75 1545.82 1212.9 1545.82 Q1216.05 1545.82 1217.88 1543.66 Q1219.73 1541.49 1219.73 1537.76 Q1219.73 1534.01 1217.88 1531.86 Q1216.05 1529.7 1212.9 1529.7 M1222.18 1515.05 L1222.18 1519.31 Q1220.42 1518.48 1218.62 1518.04 Q1216.84 1517.6 1215.08 1517.6 Q1210.45 1517.6 1207.99 1520.72 Q1205.56 1523.85 1205.22 1530.17 Q1206.58 1528.15 1208.64 1527.09 Q1210.7 1526 1213.18 1526 Q1218.39 1526 1221.4 1529.17 Q1224.43 1532.32 1224.43 1537.76 Q1224.43 1543.08 1221.28 1546.3 Q1218.13 1549.52 1212.9 1549.52 Q1206.91 1549.52 1203.73 1544.94 Q1200.56 1540.33 1200.56 1531.6 Q1200.56 1523.41 1204.45 1518.55 Q1208.34 1513.66 1214.89 1513.66 Q1216.65 1513.66 1218.43 1514.01 Q1220.24 1514.36 1222.18 1515.05 Z\" fill=\"#000000\" fill-rule=\"evenodd\" fill-opacity=\"1\" /><path clip-path=\"url(#clip410)\" d=\"M1612.61 1532.44 Q1609.28 1532.44 1607.36 1534.22 Q1605.46 1536 1605.46 1539.13 Q1605.46 1542.25 1607.36 1544.03 Q1609.28 1545.82 1612.61 1545.82 Q1615.94 1545.82 1617.87 1544.03 Q1619.79 1542.23 1619.79 1539.13 Q1619.79 1536 1617.87 1534.22 Q1615.97 1532.44 1612.61 1532.44 M1607.94 1530.45 Q1604.93 1529.7 1603.24 1527.64 Q1601.57 1525.58 1601.57 1522.62 Q1601.57 1518.48 1604.51 1516.07 Q1607.47 1513.66 1612.61 1513.66 Q1617.77 1513.66 1620.71 1516.07 Q1623.65 1518.48 1623.65 1522.62 Q1623.65 1525.58 1621.96 1527.64 Q1620.3 1529.7 1617.31 1530.45 Q1620.69 1531.23 1622.56 1533.52 Q1624.46 1535.82 1624.46 1539.13 Q1624.46 1544.15 1621.38 1546.83 Q1618.33 1549.52 1612.61 1549.52 Q1606.89 1549.52 1603.81 1546.83 Q1600.76 1544.15 1600.76 1539.13 Q1600.76 1535.82 1602.66 1533.52 Q1604.56 1531.23 1607.94 1530.45 M1606.22 1523.06 Q1606.22 1525.75 1607.89 1527.25 Q1609.58 1528.76 1612.61 1528.76 Q1615.62 1528.76 1617.31 1527.25 Q1619.02 1525.75 1619.02 1523.06 Q1619.02 1520.38 1617.31 1518.87 Q1615.62 1517.37 1612.61 1517.37 Q1609.58 1517.37 1607.89 1518.87 Q1606.22 1520.38 1606.22 1523.06 Z\" fill=\"#000000\" fill-rule=\"evenodd\" fill-opacity=\"1\" /><path clip-path=\"url(#clip410)\" d=\"M1987.41 1544.91 L1995.05 1544.91 L1995.05 1518.55 L1986.74 1520.21 L1986.74 1515.95 L1995.01 1514.29 L1999.68 1514.29 L1999.68 1544.91 L2007.32 1544.91 L2007.32 1548.85 L1987.41 1548.85 L1987.41 1544.91 Z\" fill=\"#000000\" fill-rule=\"evenodd\" fill-opacity=\"1\" /><path clip-path=\"url(#clip410)\" d=\"M2026.77 1517.37 Q2023.16 1517.37 2021.33 1520.93 Q2019.52 1524.47 2019.52 1531.6 Q2019.52 1538.71 2021.33 1542.27 Q2023.16 1545.82 2026.77 1545.82 Q2030.4 1545.82 2032.21 1542.27 Q2034.03 1538.71 2034.03 1531.6 Q2034.03 1524.47 2032.21 1520.93 Q2030.4 1517.37 2026.77 1517.37 M2026.77 1513.66 Q2032.58 1513.66 2035.63 1518.27 Q2038.71 1522.85 2038.71 1531.6 Q2038.71 1540.33 2035.63 1544.94 Q2032.58 1549.52 2026.77 1549.52 Q2020.96 1549.52 2017.88 1544.94 Q2014.82 1540.33 2014.82 1531.6 Q2014.82 1522.85 2017.88 1518.27 Q2020.96 1513.66 2026.77 1513.66 Z\" fill=\"#000000\" fill-rule=\"evenodd\" fill-opacity=\"1\" /><polyline clip-path=\"url(#clip412)\" style=\"stroke:#000000; stroke-linecap:round; stroke-linejoin:round; stroke-width:2; stroke-opacity:0.1; fill:none\" points=\"112.177,1216.6 2112.76,1216.6 \"/>\n",
       "<polyline clip-path=\"url(#clip412)\" style=\"stroke:#000000; stroke-linecap:round; stroke-linejoin:round; stroke-width:2; stroke-opacity:0.1; fill:none\" points=\"112.177,856.796 2112.76,856.796 \"/>\n",
       "<polyline clip-path=\"url(#clip412)\" style=\"stroke:#000000; stroke-linecap:round; stroke-linejoin:round; stroke-width:2; stroke-opacity:0.1; fill:none\" points=\"112.177,496.995 2112.76,496.995 \"/>\n",
       "<polyline clip-path=\"url(#clip412)\" style=\"stroke:#000000; stroke-linecap:round; stroke-linejoin:round; stroke-width:2; stroke-opacity:0.1; fill:none\" points=\"112.177,137.194 2112.76,137.194 \"/>\n",
       "<polyline clip-path=\"url(#clip410)\" style=\"stroke:#000000; stroke-linecap:round; stroke-linejoin:round; stroke-width:4; stroke-opacity:1; fill:none\" points=\"112.177,1486.45 112.177,47.2441 \"/>\n",
       "<polyline clip-path=\"url(#clip410)\" style=\"stroke:#000000; stroke-linecap:round; stroke-linejoin:round; stroke-width:4; stroke-opacity:1; fill:none\" points=\"112.177,1216.6 129.051,1216.6 \"/>\n",
       "<polyline clip-path=\"url(#clip410)\" style=\"stroke:#000000; stroke-linecap:round; stroke-linejoin:round; stroke-width:4; stroke-opacity:1; fill:none\" points=\"112.177,856.796 129.051,856.796 \"/>\n",
       "<polyline clip-path=\"url(#clip410)\" style=\"stroke:#000000; stroke-linecap:round; stroke-linejoin:round; stroke-width:4; stroke-opacity:1; fill:none\" points=\"112.177,496.995 129.051,496.995 \"/>\n",
       "<polyline clip-path=\"url(#clip410)\" style=\"stroke:#000000; stroke-linecap:round; stroke-linejoin:round; stroke-width:4; stroke-opacity:1; fill:none\" points=\"112.177,137.194 129.051,137.194 \"/>\n",
       "<path clip-path=\"url(#clip410)\" d=\"M59.8578 1229.94 L76.1772 1229.94 L76.1772 1233.88 L54.2328 1233.88 L54.2328 1229.94 Q56.8949 1227.19 61.4782 1222.56 Q66.0846 1217.91 67.2652 1216.56 Q69.5105 1214.04 70.3902 1212.3 Q71.2929 1210.54 71.2929 1208.85 Q71.2929 1206.1 69.3485 1204.36 Q67.4272 1202.63 64.3254 1202.63 Q62.1263 1202.63 59.6726 1203.39 Q57.2421 1204.16 54.4643 1205.71 L54.4643 1200.98 Q57.2884 1199.85 59.7421 1199.27 Q62.1958 1198.69 64.2328 1198.69 Q69.6031 1198.69 72.7976 1201.38 Q75.992 1204.06 75.992 1208.55 Q75.992 1210.68 75.1818 1212.6 Q74.3948 1214.5 72.2883 1217.09 Q71.7096 1217.77 68.6078 1220.98 Q65.5059 1224.18 59.8578 1229.94 Z\" fill=\"#000000\" fill-rule=\"evenodd\" fill-opacity=\"1\" /><path clip-path=\"url(#clip410)\" d=\"M66.5939 843.59 L54.7884 862.039 L66.5939 862.039 L66.5939 843.59 M65.367 839.516 L71.2466 839.516 L71.2466 862.039 L76.1772 862.039 L76.1772 865.928 L71.2466 865.928 L71.2466 874.076 L66.5939 874.076 L66.5939 865.928 L50.9921 865.928 L50.9921 861.414 L65.367 839.516 Z\" fill=\"#000000\" fill-rule=\"evenodd\" fill-opacity=\"1\" /><path clip-path=\"url(#clip410)\" d=\"M64.6495 495.132 Q61.5013 495.132 59.6495 497.285 Q57.8208 499.437 57.8208 503.187 Q57.8208 506.914 59.6495 509.09 Q61.5013 511.243 64.6495 511.243 Q67.7976 511.243 69.6263 509.09 Q71.4781 506.914 71.4781 503.187 Q71.4781 499.437 69.6263 497.285 Q67.7976 495.132 64.6495 495.132 M73.9318 480.479 L73.9318 484.738 Q72.1726 483.905 70.367 483.465 Q68.5846 483.025 66.8254 483.025 Q62.1958 483.025 59.7421 486.15 Q57.3115 489.275 56.9643 495.595 Q58.33 493.581 60.3902 492.516 Q62.4504 491.428 64.9272 491.428 Q70.1355 491.428 73.1448 494.599 Q76.1772 497.748 76.1772 503.187 Q76.1772 508.511 73.029 511.729 Q69.8809 514.947 64.6495 514.947 Q58.6541 514.947 55.4828 510.363 Q52.3116 505.757 52.3116 497.03 Q52.3116 488.836 56.2004 483.975 Q60.0893 479.09 66.6402 479.09 Q68.3994 479.09 70.1818 479.437 Q71.9874 479.785 73.9318 480.479 Z\" fill=\"#000000\" fill-rule=\"evenodd\" fill-opacity=\"1\" /><path clip-path=\"url(#clip410)\" d=\"M64.3254 138.062 Q60.9921 138.062 59.0708 139.845 Q57.1726 141.627 57.1726 144.752 Q57.1726 147.877 59.0708 149.66 Q60.9921 151.442 64.3254 151.442 Q67.6587 151.442 69.58 149.66 Q71.5013 147.854 71.5013 144.752 Q71.5013 141.627 69.58 139.845 Q67.6819 138.062 64.3254 138.062 M59.6495 136.072 Q56.6402 135.331 54.9504 133.271 Q53.2838 131.211 53.2838 128.248 Q53.2838 124.104 56.2236 121.697 Q59.1865 119.289 64.3254 119.289 Q69.4874 119.289 72.4272 121.697 Q75.367 124.104 75.367 128.248 Q75.367 131.211 73.6772 133.271 Q72.0105 135.331 69.0244 136.072 Q72.404 136.859 74.279 139.15 Q76.1772 141.442 76.1772 144.752 Q76.1772 149.775 73.0985 152.46 Q70.0429 155.146 64.3254 155.146 Q58.6078 155.146 55.5291 152.46 Q52.4736 149.775 52.4736 144.752 Q52.4736 141.442 54.3717 139.15 Q56.2699 136.859 59.6495 136.072 M57.9365 128.687 Q57.9365 131.373 59.6032 132.877 Q61.293 134.382 64.3254 134.382 Q67.3346 134.382 69.0244 132.877 Q70.7374 131.373 70.7374 128.687 Q70.7374 126.002 69.0244 124.498 Q67.3346 122.993 64.3254 122.993 Q61.293 122.993 59.6032 124.498 Q57.9365 126.002 57.9365 128.687 Z\" fill=\"#000000\" fill-rule=\"evenodd\" fill-opacity=\"1\" /><g clip-path=\"url(#clip412)\">\n",
       "<image width=\"2001\" height=\"1439\" xlink:href=\"data:image/png;base64,\n",
       "iVBORw0KGgoAAAANSUhEUgAAB9EAAAWfCAYAAAAcawbXAAAgAElEQVR4nOzbvWoUUBRGURODQ0Yl\n",
       "CTGlhZBaJIKVgp34hnkLW+0sUlkopLLSThCNDP4Ng2hsdpv63mKtJ/jaw+Zs/Tm9cXkNuNL7F09G\n",
       "T4BprTeL0RNgWvefnY2eANPaenpv9ASY1/b10QtgXv/+jl4A07p8/XH0BJjW+avHoyfAtHYXm9ET\n",
       "YFrbowcAAAAAAAAAwCxEdAAAAAAAAACIiA4AAAAAAAAAEdEBAAAAAAAAICI6AAAAAAAAAEREBwAA\n",
       "AAAAAICI6AAAAAAAAAAQER0AAAAAAAAAIqIDAAAAAAAAQER0AAAAAAAAAIiIDgAAAAAAAAAR0QEA\n",
       "AAAAAAAgIjoAAAAAAAAAREQHAAAAAAAAgIjoAAAAAAAAABARHQAAAAAAAAAiogMAAAAAAABARHQA\n",
       "AAAAAAAAiIgOAAAAAAAAABHRAQAAAAAAACAiOgAAAAAAAABERAcAAAAAAACAiOgAAAAAAAAAEBEd\n",
       "AAAAAAAAACKiAwAAAAAAAEBEdAAAAAAAAACIiA4AAAAAAAAAEdEBAAAAAAAAICI6AAAAAAAAAERE\n",
       "BwAAAAAAAICI6AAAAAAAAAAQER0AAAAAAAAAIqIDAAAAAAAAQER0AAAAAAAAAIiIDgAAAAAAAAAR\n",
       "0QEAAAAAAAAgIjoAAAAAAAAAREQHAAAAAAAAgIjoAAAAAAAAABARHQAAAAAAAAAiogMAAAAAAABA\n",
       "RHQAAAAAAAAAiIgOAAAAAAAAABHRAQAAAAAAACAiOgAAAAAAAABERAcAAAAAAACAiOgAAAAAAAAA\n",
       "EBEdAAAAAAAAACKiAwAAAAAAAEBEdAAAAAAAAACIiA4AAAAAAAAAEdEBAAAAAAAAICI6AAAAAAAA\n",
       "AEREBwAAAAAAAICI6AAAAAAAAAAQER0AAAAAAAAAIqIDAAAAAAAAQER0AAAAAAAAAIiIDgAAAAAA\n",
       "AAAR0QEAAAAAAAAgIjoAAAAAAAAAREQHAAAAAAAAgIjoAAAAAAAAABARHQAAAAAAAAAiogMAAAAA\n",
       "AABARHQAAAAAAAAAiIgOAAAAAAAAABHRAQAAAAAAACAiOgAAAAAAAABERAcAAAAAAACAiOgAAAAA\n",
       "AAAAEBEdAAAAAAAAACKiAwAAAAAAAEBEdAAAAAAAAACIiA4AAAAAAAAAEdEBAAAAAAAAICI6AAAA\n",
       "AAAAAEREBwAAAAAAAICI6AAAAAAAAAAQER0AAAAAAAAAIqIDAAAAAAAAQER0AAAAAAAAAIiIDgAA\n",
       "AAAAAAAR0QEAAAAAAAAgIjoAAAAAAAAAREQHAAAAAAAAgIjoAAAAAAAAABARHQAAAAAAAAAiogMA\n",
       "AAAAAABARHQAAAAAAAAAiIgOAAAAAAAAABHRAQAAAAAAACAiOgAAAAAAAABERAcAAAAAAACAiOgA\n",
       "AAAAAAAAEBEdAAAAAAAAACKiAwAAAAAAAEBEdAAAAAAAAACIiA4AAAAAAAAAEdEBAAAAAAAAICI6\n",
       "AAAAAAAAAEREBwAAAAAAAICI6AAAAAAAAAAQER0AAAAAAAAAIqIDAAAAAAAAQER0AAAAAAAAAIiI\n",
       "DgAAAAAAAAAR0QEAAAAAAAAgIjoAAAAAAAAAREQHAAAAAAAAgIjoAAAAAAAAABARHQAAAAAAAAAi\n",
       "ogMAAAAAAABARHQAAAAAAAAAiIgOAAAAAAAAABHRAQAAAAAAACAiOgAAAAAAAABERAcAAAAAAACA\n",
       "iOgAAAAAAAAAEBEdAAAAAAAAACKiAwAAAAAAAEBEdAAAAAAAAACIiA4AAAAAAAAAEdEBAAAAAAAA\n",
       "ICI6AAAAAAAAAEREBwAAAAAAAICI6AAAAAAAAAAQER0AAAAAAAAAIqIDAAAAAAAAQER0AAAAAAAA\n",
       "AIiIDgAAAAAAAAAR0QEAAAAAAAAgIjoAAAAAAAAAREQHAAAAAAAAgIjoAAAAAAAAABARHQAAAAAA\n",
       "AAAiogMAAAAAAABARHQAAAAAAAAAiIgOAAAAAAAAABHRAQAAAAAAACAiOgAAAAAAAABERAcAAAAA\n",
       "AACAiOgAAAAAAAAAEBEdAAAAAAAAACKiAwAAAAAAAEBEdAAAAAAAAACIiA4AAAAAAAAAEdEBAAAA\n",
       "AAAAICI6AAAAAAAAAEREBwAAAAAAAICI6AAAAAAAAAAQER0AAAAAAAAAIqIDAAAAAAAAQER0AAAA\n",
       "AAAAAIiIDgAAAAAAAAAR0QEAAAAAAAAgIjoAAAAAAAAAREQHAAAAAAAAgIjoAAAAAAAAABARHQAA\n",
       "AAAAAAAiogMAAAAAAABARHQAAAAAAAAAiIgOAAAAAAAAABHRAQAAAAAAACAiOgAAAAAAAABERAcA\n",
       "AAAAAACAiOgAAAAAAAAAEBEdAAAAAAAAACKiAwAAAAAAAEBEdAAAAAAAAACIiA4AAAAAAAAAEdEB\n",
       "AAAAAAAAICI6AAAAAAAAAEREBwAAAAAAAICI6AAAAAAAAAAQER0AAAAAAAAAIqIDAAAAAAAAQER0\n",
       "AAAAAAAAAIiIDgAAAAAAAADZ2bp7Z/QGmNpyuR49Aab1eXUwegJM68v58egJMK1bn1ajJ8C01qvb\n",
       "oyfAtHb3f4yeANP6+dX9AVf5vl6OngDTOjxwn8NVfKIDAAAAAAAAQER0AAAAAAAAAIiIDgAAAAAA\n",
       "AAAR0QEAAAAAAAAgIjoAAAAAAAAAREQHAAAAAAAAgIjoAAAAAAAAABARHQAAAAAAAAAiogMAAAAA\n",
       "AABARHQAAAAAAAAAiIgOAAAAAAAAABHRAQAAAAAAACAiOgAAAAAAAABERAcAAAAAAACAiOgAAAAA\n",
       "AAAAEBEdAAAAAAAAACKiAwAAAAAAAEBEdAAAAAAAAACIiA4AAAAAAAAAEdEBAAAAAAAAICI6AAAA\n",
       "AAAAAEREBwAAAAAAAICI6AAAAAAAAAAQER0AAAAAAAAAIqIDAAAAAAAAQER0AAAAAAAAAIiIDgAA\n",
       "AAAAAAAR0QEAAAAAAAAgIjoAAAAAAAAAREQHAAAAAAAAgIjoAAAAAAAAABARHQAAAAAAAAAiogMA\n",
       "AAAAAABARHQAAAAAAAAAiIgOAAAAAAAAABHRAQAAAAAAACAiOgAAAAAAAABERAcAAAAAAACAiOgA\n",
       "AAAAAAAAEBEdAAAAAAAAACKiAwAAAAAAAEBEdAAAAAAAAACIiA4AAAAAAAAAEdEBAAAAAAAAICI6\n",
       "AAAAAAAAAEREBwAAAAAAAICI6AAAAAAAAAAQER0AAAAAAAAAIqIDAAAAAAAAQER0AAAAAAAAAIiI\n",
       "DgAAAAAAAAAR0QEAAAAAAAAgIjoAAAAAAAAAREQHAAAAAAAAgIjoAAAAAAAAABARHQAAAAAAAAAi\n",
       "ogMAAAAAAABARHQAAAAAAAAAiIgOAAAAAAAAABHRAQAAAAAAACAiOgAAAAAAAABERAcAAAAAAACA\n",
       "iOgAAAAAAAAAEBEdAAAAAAAAACKiAwAAAAAAAEBEdAAAAAAAAACIiA4AAAAAAAAAEdEBAAAAAAAA\n",
       "ICI6AAAAAAAAAEREBwAAAAAAAICI6AAAAAAAAAAQER0AAAAAAAAAIqIDAAAAAAAAQER0AAAAAAAA\n",
       "AIiIDgAAAAAAAAAR0QEAAAAAAAAgIjoAAAAAAAAAREQHAAAAAAAAgIjoAAAAAAAAABARHQAAAAAA\n",
       "AAAiogMAAAAAAABARHQAAAAAAAAAiIgOAAAAAAAAABHRAQAAAAAAACAiOgAAAAAAAABERAcAAAAA\n",
       "AACAiOgAAAAAAAAAEBEdAAAAAAAAACKiAwAAAAAAAEBEdAAAAAAAAACIiA4AAAAAAAAAEdEBAAAA\n",
       "AAAAICI6AAAAAAAAAEREBwAAAAAAAICI6AAAAAAAAAAQER0AAAAAAAAAIqIDAAAAAAAAQER0AAAA\n",
       "AAAAAIiIDgAAAAAAAAAR0QEAAAAAAAAgIjoAAAAAAAAAREQHAAAAAAAAgIjoAAAAAAAAABARHQAA\n",
       "AAAAAAAiogMAAAAAAABARHQAAAAAAAAAiIgOAAAAAAAAABHRAQAAAAAAACAiOgAAAAAAAABERAcA\n",
       "AAAAAACAiOgAAAAAAAAAEBEdAAAAAAAAACKiAwAAAAAAAEBEdAAAAAAAAACIiA4AAAAAAAAAEdEB\n",
       "AAAAAAAAICI6AAAAAAAAAEREBwAAAAAAAICI6AAAAAAAAAAQER0AAAAAAAAAIqIDAAAAAAAAQER0\n",
       "AAAAAAAAAIiIDgAAAAAAAAAR0QEAAAAAAAAgIjoAAAAAAAAAREQHAAAAAAAAgIjoAAAAAAAAABAR\n",
       "HQAAAAAAAAAiogMAAAAAAABARHQAAAAAAAAAiIgOAAAAAAAAABHRAQAAAAAAACAiOgAAAAAAAABE\n",
       "RAcAAAAAAACAiOgAAAAAAAAAEBEdAAAAAAAAACKiAwAAAAAAAEBEdAAAAAAAAACIiA4AAAAAAAAA\n",
       "EdEBAAAAAAAAICI6AAAAAAAAAEREBwAAAAAAAICI6AAAAAAAAAAQER0AAAAAAAAAIqIDAAAAAAAA\n",
       "QER0AAAAAAAAAIiIDgAAAAAAAAAR0QEAAAAAAAAgIjoAAAAAAAAAREQHAAAAAAAAgIjoAAAAAAAA\n",
       "ABARHQAAAAAAAAAiogMAAAAAAABARHQAAAAAAAAAiIgOAAAAAAAAABHRAQAAAAAAACAiOgAAAAAA\n",
       "AABERAcAAAAAAACAiOgAAAAAAAAAEBEdAAAAAAAAACKiAwAAAAAAAEBEdAAAAAAAAACIiA4AAAAA\n",
       "AAAAEdEBAAAAAAAAICI6AAAAAAAAAEREBwAAAAAAAICI6AAAAAAAAAAQER0AAAAAAAAAIqIDAAAA\n",
       "AAAAQER0AAAAAAAAAIiIDgAAAAAAAAAR0QEAAAAAAAAgIjoAAAAAAAAAREQHAAAAAAAAgIjoAAAA\n",
       "AAAAABARHQAAAAAAAAAiogMAAAAAAABARHQAAAAAAAAAiIgOAAAAAAAAANn5ffJ89AaY2t7R2egJ\n",
       "MK1vH45HT4BpvXz3cPQEmNabi93RE2Bab3+tRk+AaZ3c3B89Aab16HA9egJMa2+xGT0BpvXg6GL0\n",
       "BJiWT3QAAAAAAAAAiIgOAAAAAAAAABHRAQAAAAAAACAiOgAAAAAAAABERAcAAAAAAACAiOgAAAAA\n",
       "AAAAEBEdAAAAAAAAACKiAwAAAAAAAEBEdAAAAAAAAACIiA4AAAAAAAAAEdEBAAAAAAAAICI6AAAA\n",
       "AAAAAEREBwAAAAAAAICI6AAAAAAAAAAQER0AAAAAAAAAIqIDAAAAAAAAQER0AAAAAAAAAIiIDgAA\n",
       "AAAAAAAR0QEAAAAAAAAgIjoAAAAAAAAAREQHAAAAAAAAgIjoAAAAAAAAABARHQAAAAAAAAAiogMA\n",
       "AAAAAABARHQAAAAAAAAAiIgOAAAAAAAAABHRAQAAAAAAACAiOgAAAAAAAABERAcAAAAAAACAiOgA\n",
       "AAAAAAAAEBEdAAAAAAAAACKiAwAAAAAAAEBEdAAAAAAAAACIiA4AAAAAAAAAEdEBAAAAAAAAICI6\n",
       "AAAAAAAAAEREBwAAAAAAAICI6AAAAAAAAAAQER0AAAAAAAAAIqIDAAAAAAAAQER0AAAAAAAAAIiI\n",
       "DgAAAAAAAAAR0QEAAAAAAAAgIjoAAAAAAAAAREQHAAAAAAAAgIjoAAAAAAAAABARHQAAAAAAAAAi\n",
       "ogMAAAAAAABARHQAAAAAAAAAiIgOAAAAAAAAABHRAQAAAAAAACAiOgAAAAAAAABERAcAAAAAAACA\n",
       "iOgAAAAAAAAAEBEdAAAAAAAAACKiAwAAAAAAAEBEdAAAAAAAAACIiA4AAAAAAAAAEdEBAAAAAAAA\n",
       "ICI6AAAAAAAAAEREBwAAAAAAAICI6AAAAAAAAAAQER0AAAAAAAAAIqIDAAAAAAAAQER0AAAAAAAA\n",
       "AIiIDgAAAAAAAAAR0QEAAAAAAAAgIjoAAAAAAAAAREQHAAAAAAAAgIjoAAAAAAAAABARHQAAAAAA\n",
       "AAAiogMAAAAAAABARHQAAAAAAAAAiIgOAAAAAAAAABHRAQAAAAAAACAiOgAAAAAAAABERAcAAAAA\n",
       "AACAiOgAAAAAAAAAEBEdAAAAAAAAACKiAwAAAAAAAEBEdAAAAAAAAACIiA4AAAAAAAAAEdEBAAAA\n",
       "AAAAICI6AAAAAAAAAEREBwAAAAAAAICI6AAAAAAAAAAQER0AAAAAAAAAIqIDAAAAAAAAQER0AAAA\n",
       "AAAAAIiIDgAAAAAAAAAR0QEAAAAAAAAgIjoAAAAAAAAAREQHAAAAAAAAgIjoAAAAAAAAABARHQAA\n",
       "AAAAAAAiogMAAAAAAABARHQAAAAAAAAAiIgOAAAAAAAAABHRAQAAAAAAACAiOgAAAAAAAABERAcA\n",
       "AAAAAACAiOgAAAAAAAAAEBEdAAAAAAAAACKiAwAAAAAAAEBEdAAAAAAAAACIiA4AAAAAAAAAEdEB\n",
       "AAAAAAAAICI6AAAAAAAAAEREBwAAAAAAAICI6AAAAAAAAAAQER0AAAAAAAAAIqIDAAAAAAAAQER0\n",
       "AAAAAAAAAIiIDgAAAAAAAAAR0QEAAAAAAAAgIjoAAAAAAAAAREQHAAAAAAAAgIjoAAAAAAAAABAR\n",
       "HQAAAAAAAAAiogMAAAAAAABARHQAAAAAAAAAiIgOAAAAAAAAABHRAQAAAAAAACAiOgAAAAAAAABE\n",
       "RAcAAAAAAACAiOgAAAAAAAAAEBEdAAAAAAAAACKiAwAAAAAAAEBEdAAAAAAAAACIiA4AAAAAAAAA\n",
       "EdEBAAAAAAAAICI6AAAAAAAAAEREBwAAAAAAAICI6AAAAAAAAAAQER0AAAAAAAAAIqIDAAAAAAAA\n",
       "QER0AAAAAAAAAIiIDgAAAAAAAAAR0QEAAAAAAAAgIjoAAAAAAAAAREQHAAAAAAAAgIjoAAAAAAAA\n",
       "ABARHQAAAAAAAAAiogMAAAAAAABARHQAAAAAAAAAiIgOAAAAAAAAABHRAQAAAAAAACAiOgAA/Gff\n",
       "flW7gKM4DKP+xG1ssKnBoCCyZDDYTOIF2EzepmFRvAGTRRGLRZigsrH5b2J56/L3hOe5gk8+LwcA\n",
       "AAAAICI6AAAAAAAAAEREBwAAAAAAAICI6AAAAAAAAAAQER0AAAAAAAAAIqIDAAAAAAAAQER0AAAA\n",
       "AAAAAIiIDgAAAAAAAAAR0QEAAAAAAAAgIjoAAAAAAAAAREQHAAAAAAAAgIjoAAAAAAAAABARHQAA\n",
       "AAAAAAAiogMAAAAAAABARHQAAAAAAAAAiIgOAAAAAAAAABHRAQAAAAAAACAiOgAAAAAAAABERAcA\n",
       "AAAAAACAiOgAAAAAAAAAEBEdAAAAAAAAACKiAwAAAAAAAEBEdAAAAAAAAACIiA4AAAAAAAAAEdEB\n",
       "AAAAAAAAICI6AAAAAAAAAEREBwAAAAAAAICI6AAAAAAAAAAQER0AAAAAAAAAIqIDAAAAAAAAQER0\n",
       "AAAAAAAAAIiIDgAAAAAAAADZ7Nx5tnoDjHbl4Gj1BBjrz8W11RNgrI+nW6snwFhvzj+vngBjfTh7\n",
       "tXoCjHVy9fnqCTDWzdO7qyfAWI82f1dPgLFuHJysngBj+UQHAAAAAAAAgIjoAAAAAAAAABARHQAA\n",
       "AAAAAAAiogMAAAAAAABARHQAAAAAAAAAiIgOAAAAAAAAABHRAQAAAAAAACAiOgAAAAAAAABERAcA\n",
       "AAAAAACAiOgAAAAAAAAAEBEdAAAAAAAAACKiAwAAAAAAAEBEdAAAAAAAAACIiA4AAAAAAAAAEdEB\n",
       "AAAAAAAAICI6AAAAAAAAAEREBwAAAAAAAICI6AAAAAAAAAAQER0AAAAAAAAAIqIDAAAAAAAAQER0\n",
       "AAAAAAAAAIiIDgAAAAAAAAAR0QEAAAAAAAAgIjoAAAAAAAAAREQHAAAAAAAAgIjoAAAAAAAAABAR\n",
       "HQAAAAAAAAAiogMAAAAAAABARHQAAAAAAAAAiIgOAAAAAAAAABHRAQAAAAAAACAiOgAAAAAAAABE\n",
       "RAcAAAAAAACAiOgAAAAAAAAAEBEdAAAAAAAAACKiAwAAAAAAAEBEdAAAAAAAAACIiA4AAAAAAAAA\n",
       "EdEBAAAAAAAAICI6AAAAAAAAAEREBwAAAAAAAICI6AAAAAAAAAAQER0AAAAAAAAAIqIDAAAAAAAA\n",
       "QER0AAAAAAAAAIiIDgAAAAAAAAAR0QEAAAAAAAAgIjoAAAAAAAAAREQHAAAAAAAAgIjoAAAAAAAA\n",
       "ABARHQAAAAAAAAAiogMAAAAAAABARHQAAAAAAAAAiIgOAAAAAAAAABHRAQAAAAAAACAiOgAAAAAA\n",
       "AABERAcAAAAAAACAiOgAAAAAAAAAEBEdAAAAAAAAACKiAwAAAAAAAEBEdAAAAAAAAACIiA4AAAAA\n",
       "AAAAEdEBAAAAAAAAICI6AAAAAAAAAEREBwAAAAAAAICI6AAAAAAAAAAQER0AAAAAAAAAIqIDAAAA\n",
       "AAAAQER0AAAAAAAAAIiIDgAAAAAAAAAR0QEAAAAAAAAgIjoAAAAAAAAAREQHAAAAAAAAgIjoAAAA\n",
       "AAAAABARHQAAAAAAAAAiogMAAAAAAABARHQAAAAAAAAAiIgOAAAAAAAAABHRAQAAAAAAACAiOgAA\n",
       "AAAAAABERAcAAAAAAACAiOgAAAAAAAAAEBEdAAAAAAAAACKiAwAAAAAAAEBEdAAAAAAAAACIiA4A\n",
       "AAAAAAAAEdEBAAAAAAAAICI6AAAAAAAAAEREBwAAAAAAAICI6AAAAAAAAAAQER0AAAAAAAAAIqID\n",
       "AAAAAAAAQER0AAAAAAAAAIiIDgAAAAAAAAAR0QEAAAAAAAAgIjoAAAAAAAAAREQHAAAAAAAAgIjo\n",
       "AAAAAAAAABARHQAAAAAAAAAiogMAAAAAAABARHQAAAAAAAAAiIgOAAAAAAAAABHRAQAAAAAAACAi\n",
       "OgAAAAAAAABERAcAAAAAAACAiOgAAAAAAAAAEBEdAAAAAAAAACKiAwAAAAAAAEBEdAAAAAAAAACI\n",
       "iA4AAAAAAAAAEdEBAAAAAAAAICI6AAAAAAAAAEREBwAAAAAAAICI6AAAAAAAAAAQER0AAAAAAAAA\n",
       "IqIDAAAAAAAAQER0AAAAAAAAAIiIDgAAAAAAAAAR0QEAAAAAAAAgIjoAAAAAAAAAREQHAAAAAAAA\n",
       "gIjoAAAAAAAAABARHQAAAAAAAAAiogMAAAAAAABARHQAAAAAAAAAiIgOAAAAAAAAABHRAQAAAAAA\n",
       "ACAiOgAAAAAAAABERAcAAAAAAACAiOgAAAAAAAAAEBEdAAAAAAAAACKiAwAAAAAAAEBEdAAAAAAA\n",
       "AACIiA4AAAAAAAAAEdEBAAAAAAAAICI6AAAAAAAAAEREBwAAAAAAAICI6AAAAAAAAAAQER0AAAAA\n",
       "AAAAIqIDAAAAAAAAQER0AAAAAAAAAIiIDgAAAAAAAAAR0QEAAAAAAAAgIjoAAAAAAAAAREQHAAAA\n",
       "AAAAgIjoAAAAAAAAABARHQAAAAAAAAAiogMAAAAAAABARHQAAAAAAAAAiIgOAAAAAAAAABHRAQAA\n",
       "AAAAACAiOgAAAAAAAABERAcAAAAAAACAiOgAAAAAAAAAEBEdAAAAAAAAACKiAwAAAAAAAEBEdAAA\n",
       "AAAAAACIiA4AAAAAAAAAEdEBAAAAAAAAICI6AAAAAAAAAEREBwAAAAAAAICI6AAAAAAAAAAQER0A\n",
       "AAAAAAAAIqIDAAAAAAAAQER0AAAAAAAAAIiIDgAAAAAAAAAR0QEAAAAAAAAgIjoAAAAAAAAAREQH\n",
       "AAAAAAAAgIjoAAAAAAAAABARHQAAAAAAAAAiogMAAAAAAABARHQAAAAAAAAAiIgOAAAAAAAAABHR\n",
       "AQAAAAAAACAiOgAAAAAAAABERAcAAAAAAACAiOgAAAAAAAAAEBEdAAAAAAAAALI5+/J69QYY7fe3\n",
       "vdUTYKzr1y5WT4CxDnd/rp4AYz39dW/1BBhr79/L1RNgrMfb+6snwFiHu+erJ8BY7ldwuV/6B1zK\n",
       "JzoAAAAAAAAAREQHAAAAAAAAgIjoAAAAAAAAABARHQAAAAAAAAAiogMAAAAAAABARHQAAAAAAAAA\n",
       "iIgOAAAAAAAAABHRAQAAAAAAACAiOgAAAAAAAABERAcAAAAAAACAiOgAAAAAAAAAEBEdAAAAAAAA\n",
       "ACKiAwAAAAAAAEBEdAAAAAAAAACIiA4AAAAAAAAAEdEBAAAAAAAAICI6AAAAAAAAAEREBwAAAAAA\n",
       "AICI6AAAAAAAAAAQER0AAAAAAAAAIqIDAAAAAAAAQER0AAAAAAAAAIiIDgAAAAAAAAAR0QEAAAAA\n",
       "AAAgIjoAAAAAAAAAREQHAAAAAAAAgIjoAAAAAAAAABARHQAAAAAAAAAiogMAAAAAAABARHQAAAAA\n",
       "AAAAiIgOAAAAAAAAABHRAQAAAAAAACAiOgAAAAAAAABERAcAAAAAAACAiOgAAAAAAAAAEBEdAAAA\n",
       "AAAAACKiAwAAAAAAAEBEdAAAAAAAAACIiA4AAAAAAAAAEdEBAAAAAAAAICI6AAAAAAAAAEREBwAA\n",
       "AAAAAICI6AAAAAAAAAAQER0AAAAAAAAAIqIDAAAAAAAAQER0AAAAAAAAAIiIDgAAAAAAAAAR0QEA\n",
       "AAAAAAAgIjoAAAAAAAAAREQHAAAAAAAAgIjoAAAAAAAAABARHQAAAAAAAAAiogMAAAAAAABARHQA\n",
       "AAAAAAAAiIgOAAAAAAAAABHRAQAAAAAAACAiOgAAAAAAAABERAcAAAAAAACAiOgAAAAAAAAAEBEd\n",
       "AAAAAAAAACKiAwAAAAAAAEBEdAAAAAAAAACIiA4AAAAAAAAAEdEBAAAAAAAAICI6AAAAAAAAAERE\n",
       "BwAAAAAAAICI6AAAAAAAAAAQER0AAAAAAAAAIqIDAAAAAAAAQER0AAAAAAAAAIiIDgAAAAAAAAAR\n",
       "0QEAAAAAAAAgIjoAAAAAAAAAREQHAAAAAAAAgIjoAAAAAAAAABARHQAAAAAAAAAiogMAAAAAAABA\n",
       "RHQAAAAAAAAAiIgOAAAAAAAAABHRAQAAAAAAACAiOgAAAAAAAABERAcAAAAAAACAiOgAAAAAAAAA\n",
       "EBEdAAAAAAAAACKiAwAAAAAAAEBEdAAAAEo9/tAAABiZSURBVAAAAACIiA4AAAAAAAAAEdEBAAAA\n",
       "AAAAICI6AAAAAAAAAEREBwAAAAAAAICI6AAAAAAAAAAQER0AAAAAAAAAIqIDAAAAAAAAQER0AAAA\n",
       "AAAAAIiIDgAAAAAAAAAR0QEAAAAAAAAgIjoAAAAAAAAAREQHAAAAAAAAgIjoAAAAAAAAABARHQAA\n",
       "AAAAAAAiogMAAAAAAABARHQAAAAAAAAAiIgOAAAAAAAAABHRAQAAAAAAACAiOgAAAAAAAABERAcA\n",
       "AAAAAACAiOgAAAAAAAAAEBEdAAAAAAAAACKiAwAAAAAAAEBEdAAAAAAAAACIiA4AAAAAAAAAEdEB\n",
       "AAAAAAAAICI6AAAAAAAAAEREBwAAAAAAAICI6AAAAAAAAAAQER0AAAAAAAAAIqIDAAAAAAAAQER0\n",
       "AAAAAAAAAIiIDgAAAAAAAAAR0QEAAAAAAAAgIjoAAAAAAAAAREQHAAAAAAAAgIjoAAAAAAAAABAR\n",
       "HQAAAAAAAAAiogMAAAAAAABARHQAAAAAAAAAiIgOAAAAAAAAABHRAQAAAAAAACAiOgAAAAAAAABE\n",
       "RAcAAAAAAACAiOgAAAAAAAAAEBEdAAAAAAAAACKiAwAAAAAAAEBEdAAAAAAAAACIiA4AAAAAAAAA\n",
       "EdEBAAAAAAAAICI6AAAAAAAAAEREBwAAAAAAAICI6AAAAAAAAAAQER0AAAAAAAAAIqIDAAAAAAAA\n",
       "QER0AAAAAAAAAIiIDgAAAAAAAAAR0QEAAAAAAAAgIjoAAAAAAAAAREQHAAAAAAAAgIjoAAAAAAAA\n",
       "ABARHQAAAAAAAAAiogMAAAAAAABARHQAAAAAAAAAiIgOAAAAAAAAABHRAQAAAAAAACAiOgAAAAAA\n",
       "AABERAcAAAAAAACAiOgAAAAAAAAAEBEdAAAAAAAAACKiAwAAAAAAAEBEdAAAAAAAAACIiA4AAAAA\n",
       "AAAAEdEBAAAAAAAAICI6AAAAAAAAAEREBwAAAAAAAICI6AAAAAAAAAAQER0AAAAAAAAAIqIDAAAA\n",
       "AAAAQER0AAAAAAAAAIiIDgAAAAAAAAAR0QEAAAAAAAAgIjoAAAAAAAAAREQHAAAAAAAAgIjoAAAA\n",
       "AAAAABARHQAAAAAAAAAiogMAAAAAAABARHQAAAAAAAAAiIgOAAAAAAAAABHRAQAAAAAAACAiOgAA\n",
       "AAAAAABERAcAAAAAAACAiOgAAAAAAAAAkM3O26PVG2C04+P7qyfAWDe3zlZPgLGePHy3egKM9eL2\n",
       "99UTYKzz73urJ8BY2/snqyfAWKdf91dPgLHef3qwegKM9eP41uoJMJZPdAAAAAAAAACIiA4AAAAA\n",
       "AAAAEdEBAAAAAAAAICI6AAAAAAAAAEREBwAAAAAAAICI6AAAAAAAAAAQER0AAAAAAAAAIqIDAAAA\n",
       "AAAAQER0AAAAAAAAAIiIDgAAAAAAAAAR0QEAAAAAAAAgIjoAAAAAAAAAREQHAAAAAAAAgIjoAAAA\n",
       "AAAAABARHQAAAAAAAAAiogMAAAAAAABARHQAAAAAAAAAiIgOAAAAAAAAABHRAQAAAAAAACAiOgAA\n",
       "AAAAAABERAcAAAAAAACAiOgAAAAAAAAAEBEdAAAAAAAAACKiAwAAAAAAAEBEdAAAAAAAAACIiA4A\n",
       "AAAAAAAAEdEBAAAAAAAAICI6AAAAAAAAAEREBwAAAAAAAICI6AAAAAAAAAAQER0AAAAAAAAAIqID\n",
       "AAAAAAAAQER0AAAAAAAAAIiIDgAAAAAAAAAR0QEAAAAAAAAgIjoAAAAAAAAAREQHAAAAAAAAgIjo\n",
       "AAAAAAAAABARHQAAAAAAAAAiogMAAAAAAABARHQAAAAAAAAAiIgOAAAAAAAAABHRAQAAAAAAACAi\n",
       "OgAAAAAAAABERAcAAAAAAACAiOgAAAAAAAAAEBEdAAAAAAAAACKiAwAAAAAAAEBEdAAAAAAAAACI\n",
       "iA4AAAAAAAAAEdEBAAAAAAAAICI6AAAAAAAAAEREBwAAAAAAAICI6AAAAAAAAAAQER0AAAAAAAAA\n",
       "IqIDAAAAAAAAQER0AAAAAAAAAIiIDgAAAAAAAAAR0QEAAAAAAAAgIjoAAAAAAAAAREQHAAAAAAAA\n",
       "gIjoAAAAAAAAABARHQAAAAAAAAAiogMAAAAAAABARHQAAAAAAAAAiIgOAAAAAAAAABHRAQAAAAAA\n",
       "ACAiOgAAAAAAAABERAcAAAAAAACAiOgAAAAAAAAAEBEdAAAAAAAAACKiAwAAAAAAAEBEdAAAAAAA\n",
       "AACIiA4AAAAAAAAAEdEBAAAAAAAAICI6AAAAAAAAAEREBwAAAAAAAICI6AAAAAAAAAAQER0AAAAA\n",
       "AAAAIqIDAAAAAAAAQER0AAAAAAAAAIiIDgAAAAAAAAAR0QEAAAAAAAAgIjoAAAAAAAAAREQHAAAA\n",
       "AAAAgIjoAAAAAAAAABARHQAAAAAAAAAiogMAAAAAAABARHQAAAAAAAAAiIgOAAAAAAAAABHRAQAA\n",
       "AAAAACAiOgAAAAAAAABERAcAAAAAAACAiOgAAAAAAAAAEBEdAAAAAAAAACKiAwAAAAAAAEBEdAAA\n",
       "AAAAAACIiA4AAAAAAAAAEdEBAAAAAAAAICI6AAAAAAAAAEREBwAAAAAAAICI6AAAAAAAAAAQER0A\n",
       "AAAAAAAAIqIDAAAAAAAAQER0AAAAAAAAAIiIDgAAAAAAAAAR0QEAAAAAAAAgIjoAAAAAAAAAREQH\n",
       "AAAAAAAAgIjoAAAAAAAAABARHQAAAAAAAAAiogMAAAAAAABARHQAAAAAAAAAiIgOAAAAAAAAABHR\n",
       "AQAAAAAAACAiOgAAAAAAAP/bt0OcBqIwjKLQ1gwJOBIsEsMaWDoLwSGaEIIc07TFXDsG8x7JOSv4\n",
       "5Pxz8wCIiA4AAAAAAAAAEdEBAAAAAAAAICI6AAAAAAAAAEREBwAAAAAAAICI6AAAAAAAAAAQER0A\n",
       "AAAAAAAAIqIDAAAAAAAAQER0AAAAAAAAAIiIDgAAAAAAAAAR0QEAAAAAAAAgIjoAAAAAAAAAREQH\n",
       "AAAAAAAAgIjoAAAAAAAAABARHQAAAAAAAAAiogMAAAAAAABARHQAAAAAAAAAiIgOAAAAAAAAABHR\n",
       "AQAAAAAAACAiOgAAAAAAAABERAcAAAAAAACAiOgAAAAAAAAAEBEdAAAAAAAAACKiAwAAAAAAAEBE\n",
       "dAAAAAAAAACIiA4AAAAAAAAAEdEBAAAAAAAAICI6AAAAAAAAAEREBwAAAAAAAICI6AAAAAAAAAAQ\n",
       "ER0AAAAAAAAAIqIDAAAAAAAAQER0AAAAAAAAAIiIDgAAAAAAAAAR0QEAAAAAAAAgIjoAAAAAAAAA\n",
       "REQHAAAAAAAAgIjoAAAAAAAAABARHQAAAAAAAAAiogMAAAAAAABARHQAAAAAAAAAiIgOAAAAAAAA\n",
       "ABHRAQAAAAAAACAiOgAAAAAAAABERAcAAAAAAACAiOgAAAAAAAAAEBEdAAAAAAAAACKiAwAAAAAA\n",
       "AEBEdAAAAAAAAACIiA4AAAAAAAAAEdEBAAAAAAAAICI6AAAAAAAAAEREBwAAAAAAAICI6AAAAAAA\n",
       "AAAQER0AAAAAAAAAIqIDAAAAAAAAQER0AAAAAAAAAIiIDgAAAAAAAAAR0QEAAAAAAAAgIjoAAAAA\n",
       "AAAAREQHAAAAAAAAgIjoAAAAAAAAABARHQAAAAAAAAAiogMAAAAAAABADtfP79EbYGrr+jJ6Akzr\n",
       "YVlHT4BpPb5+jJ4A07p9ex49AaZ1t9uPngDzutyPXgDTWt7dH7DleHwaPQGmta7L6AkwLS/RAQAA\n",
       "AAAAACAiOgAAAAAAAABERAcAAAAAAACAiOgAAAAAAAAAEBEdAAAAAAAAACKiAwAAAAAAAEBEdAAA\n",
       "AAAAAACIiA4AAAAAAAAAEdEBAAAAAAAAICI6AAAAAAAAAEREBwAAAAAAAICI6AAAAAAAAAAQER0A\n",
       "AAAAAAAAIqIDAAAAAAAAQER0AAAAAAAAAIiIDgAAAAAAAAAR0QEAAAAAAAAgIjoAAAAAAAAAREQH\n",
       "AAAAAAAAgIjoAAAAAAAAABARHQAAAAAAAAAiogMAAAAAAABARHQAAAAAAAAAiIgOAAAAAAAAABHR\n",
       "AQAAAAAAACAiOgAAAAAAAABERAcAAAAAAACAiOgAAAAAAAAAEBEdAAAAAAAAACKiAwAAAAAAAEBE\n",
       "dAAAAAAAAACIiA4AAAAAAAAAEdEBAAAAAAAAICI6AAAAAAAAAEREBwAAAAAAAICI6AAAAAAAAAAQ\n",
       "ER0AAAAAAAAAIqIDAAAAAAAAQER0AAAAAAAAAIiIDgAAAAAAAAAR0QEAAAAAAAAgIjoAAAAAAAAA\n",
       "REQHAAAAAAAAgIjoAAAAAAAAABARHQAAAAAAAAAiogMAAAAAAABARHQAAAAAAAAAiIgOAAAAAAAA\n",
       "ABHRAQAAAAAAACAiOgAAAAAAAABERAcAAAAAAACAiOgAAAAAAAAAEBEdAAAAAAAAACKiAwAAAAAA\n",
       "AEBEdAAAAAAAAACIiA4AAAAAAAAAEdEBAAAAAAAAICI6AAAAAAAAAEREBwAAAAAAAICI6AAAAAAA\n",
       "AAAQER0AAAAAAAAAIqIDAAAAAAAAQER0AAAAAAAAAIiIDgAAAAAAAAAR0QEAAAAAAAAgIjoAAAAA\n",
       "AAAAREQHAAAAAAAAgIjoAAAAAAAAABARHQAAAAAAAAAiogMAAAAAAABARHQAAAAAAAAAiIgOAAAA\n",
       "AAAAABHRAQAAAAAAACAiOgAAAAAAAABERAcAAAAAAACAiOgAAAAAAAAAEBEdAAAAAAAAACKiAwAA\n",
       "AAAAAEBEdAAAAAAAAACIiA4AAAAAAAAAEdEBAAAAAAAAICI6AAAAAAAAAEREBwAAAAAAAICI6AAA\n",
       "AAAAAAAQER0AAAAAAAAAIqIDAAAAAAAAQER0AAAAAAAAAIiIDgAAAAAAAAAR0QEAAAAAAAAgIjoA\n",
       "AAAAAAAAREQHAAAAAAAAgIjoAAAAAAAAABARHQAAAAAAAAAiogMAAAAAAABARHQAAAAAAAAAiIgO\n",
       "AAAAAAAAABHRAQAAAAAAACAiOgAAAAAAAABERAcAAAAAAACAiOgAAAAAAAAAEBEdAAAAAAAAACKi\n",
       "AwAAAAAAAEBEdAAAAAAAAACIiA4AAAAAAAAAEdEBAAAAAAAAICI6AAAAAAAAAEREBwAAAAAAAICI\n",
       "6AAAAAAAAAAQER0AAAAAAAAAIqIDAAAAAAAAQER0AAAAAAAAAIiIDgAAAAAAAAAR0QEAAAAAAAAg\n",
       "IjoAAAAAAAAAREQHAAAAAAAAgIjoAAAAAAAAABARHQAAAAAAAAAiogMAAAAAAABARHQAAAAAAAAA\n",
       "iIgOAAAAAAAAABHRAQAAAAAAACAiOgAAAAAAAABERAcAAAAAAACAiOgAAAAAAAAAEBEdAAAAAAAA\n",
       "ACKiAwAAAAAAAEBEdAAAAAAAAACIiA4AAAAAAAAAEdEBAAAAAAAAICI6AAAAAAAAAEREBwAAAAAA\n",
       "AICI6AAAAAAAAAAQER0AAAAAAAAAIqIDAAAAAAAAQER0AAAAAAAAAIiIDgAAAAAAAAAR0QEAAAAA\n",
       "AAAgIjoAAAAAAAAAREQHAAAAAAAAgIjoAAAAAAAAABARHQAAAAAAAAAiogMAAAAAAABARHQAAAAA\n",
       "AAAAiIgOAAAAAAAAABHRAQAAAAAAACAiOgAAAAAAAABERAcAAAAAAACAiOgAAAAAAAAAEBEdAAAA\n",
       "AAAAACKiAwAAAAAAAEBEdAAAAAAAAACIiA4AAAAAAAAAEdEBAAAAAAAAICI6AAAAAAAAAEREBwAA\n",
       "AAAAAICI6AAAAAAAAAAQER0AAAAAAAAAIqIDAAAAAAAAQER0AAAAAAAAAIiIDgAAAAAAAAAR0QEA\n",
       "AAAAAAAgIjoAAAAAAAAAREQHAAAAAAAAgIjoAAAAAAAAABARHQAAAAAAAAAiogMAAAAAAABARHQA\n",
       "AAAAAAAAiIgOAAAAAAAAABHRAQAAAAAAACAiOgAAAAAAAABERAcAAAAAAACAiOgAAAAAAAAAEBEd\n",
       "AAAAAAAAACKiAwAAAAAAAEBEdAAAAAAAAACIiA4AAAAAAAAAEdEBAAAAAAAAICI6AAAAAAAAAERE\n",
       "BwAAAAAAAIAcbs6jJwDwX+12l9ETYFrX0370BJjW4edr9ASY19mRDpv2vq9gy8n9AZv8vwLgL7xE\n",
       "BwAAAAAAAICI6AAAAAAAAAAQER0AAAAAAAAAIqIDAAAAAAAAQER0AAAAAAAAAIiIDgAAAAAAAAAR\n",
       "0QEAAAAAAAAgIjoAAAAAAAAAREQHAAAAAAAAgIjoAAAAAAAAABARHQAAAAAAAAAiogMAAAAAAABA\n",
       "RHQAAAAAAAAAiIgOAAAAAAAAABHRAQAAAAAAACAiOgAAAAAAAABERAcAAAAAAACAiOgAAAAAAAAA\n",
       "EBEdAAAAAAAAACKiAwAAAAAAAEBEdAAAAAAAAACIiA4AAAAAAAAAEdEBAAAAAAAAICI6AAAAAAAA\n",
       "AEREBwAAAAAAAICI6AAAAAAAAAAQER0AAAAAAAAAIqIDAAAAAAAAQER0AAAAAAAAAIiIDgAAAAAA\n",
       "AAAR0QEAAAAAAAAgIjoAAAAAAAAAREQHAAAAAAAAgIjoAAAAAAAAABARHQAAAAAAAAAiogMAAAAA\n",
       "AABARHQAAAAAAAAAiIgOAAAAAAAAABHRAQAAAAAAACAiOgAAAAAAAABERAcAAAAAAACAiOgAAAAA\n",
       "AAAAEBEdAAAAAAAAACKiAwAAAAAAAEBEdAAAAAAAAACIiA4AAAAAAAAAEdEBAAAAAAAAICI6AAAA\n",
       "AAAAAEREBwAAAAAAAICI6AAAAAAAAAAQER0AAAAAAAAAIqIDAAAAAAAAQER0AAAAAAAAAIiIDgAA\n",
       "AAAAAAAR0QEAAAAAAAAgIjoAAAAAAAAAREQHAAAAAAAAgIjoAAAAAAAAABARHQAAAAAAAAAiogMA\n",
       "AAAAAABARHQAAAAAAAAAiIgOAAAAAAAAABHRAQAAAAAAACAiOgAAAAAAAABERAcAAAAAAACAiOgA\n",
       "AAAAAAAAEBEdAAAAAAAAACKiAwAAAAAAAEBEdAAAAAAAAACIiA4AAAAAAAAAEdEBAAAAAAAAICI6\n",
       "AAAAAAAAAEREBwAAAAAAAICI6AAAAAAAAAAQER0AAAAAAAAAIqIDAAAAAAAAQER0AAAAAAAAAIiI\n",
       "DgAAAAAAAAAR0QEAAAAAAAAgIjoAAAAAAAAAREQHAAAAAAAAgIjoAAAAAAAAABARHQAAAAAAAAAi\n",
       "ogMAAAAAAABARHQAAAAAAAAAiIgOAAAAAAAAABHRAQAAAAAAACAiOgAAAAAAAABERAcAAAAAAACA\n",
       "iOgAAAAAAAAAEBEdAAAAAAAAACKiAwAAAAAAAEBEdAAAAAAAAACIiA4AAAAAAAAAEdEBAAAAAAAA\n",
       "ICI6AAAAAAAAAEREBwAAAAAAAICI6AAAAAAAAAAQER0AAAAAAAAAIqIDAAAAAAAAQER0AAAAAAAA\n",
       "AIiIDgAAAAAAAAAR0QEAAAAAAAAgIjoAAAAAAAAAREQHAAAAAAAAgIjoAAAAAAAAABARHQAAAAAA\n",
       "AAAiogMAAAAAAABARHQAAAAAAAAAiIgOAAAAAAAAABHRAQAAAAAAACAiOgAAAAAAAABERAcAAAAA\n",
       "AACAiOgAAAAAAAAAEBEdAAAAAAAAACKiAwAAAAAAAEBEdAAAAAAAAACIiA4AAAAAAAAAEdEBAAAA\n",
       "AAAAICI6AAAAAAAAAEREBwAAAAAAAICI6AAAAAAAAAAQER0AAAAAAAAAIqIDAAAAAAAAQER0AAAA\n",
       "AAAAAIiIDgAAAAAAAAAR0QEAAAAAAAAgIjoAAAAAAAAAREQHAAAAAAAAgIjoAAAAAAAAABARHQAA\n",
       "AAAAAAAiogMAAAAAAABARHQAAAAAAAAAiIgOAAAAAAAAABHRAQAAAAAAACAiOgAAAAAAAABERAcA\n",
       "AAAAAACAiOgAAAAAAAAAEBEdAAAAAAAAACKiAwAAAAAAAEBEdAAAAAAAAACIiA4AAAAAAAAAEdEB\n",
       "AAAAAAAAICI6AAAAAAAAAEREBwAAAAAAAICI6AAAAAAAAAAQER0AAAAAAAAAIqIDAAAAAAAAQER0\n",
       "AAAAAAAAAIiIDgAAAAAAAAAR0QEAAAAAAAAgIjoAAAAAAAAAREQHAAAAAAAAgIjoAAAAAAAAABAR\n",
       "HQAAAAAAAAAiogMAAAAAAABARHQAAAAAAAAAiIgOAAAAAAAAABHRAQAAAAAAACAiOgAAAAAAAABE\n",
       "RAcAAAAAAACAiOgAAAAAAAAAEBEdAAAAAAAAACKiAwAAAAAAAEBEdAAAAAAAAACIiA4AAAAAAAAA\n",
       "EdEBAAAAAAAAICI6AAAAAAAAAEREBwAAAAAAAICI6AAAAAAAAAAQER0AAAAAAAAAIqIDAAAAAAAA\n",
       "QER0AAAAAAAAAIiIDgAAAAAAAAAR0QEAAAAAAAAgIjoAAAAAAAAAREQHAAAAAAAAgIjoAAAAAAAA\n",
       "AJBf3zx9O2/WMOgAAAAASUVORK5CYII=\n",
       "\" transform=\"translate(112, 47)\"/>\n",
       "</g>\n",
       "<defs>\n",
       "  <clipPath id=\"clip413\">\n",
       "    <rect x=\"2160\" y=\"47\" width=\"73\" height=\"1440\"/>\n",
       "  </clipPath>\n",
       "</defs>\n",
       "<g clip-path=\"url(#clip413)\">\n",
       "<image width=\"72\" height=\"1439\" xlink:href=\"data:image/png;base64,\n",
       "iVBORw0KGgoAAAANSUhEUgAAAEgAAAWfCAYAAAAI7rB3AAAMWUlEQVR4nO3dwY0rRxAFwaZQ/lsh\n",
       "L6XfLQtUeSQPERYsEg8c9MyQ+/n3/v0O/+uvb/8Bv06gIFAQKAgU5r5/v/03/DQLCgIFgYJAQaAw\n",
       "7/359t/w0ywoCBQECgIFR41gQUGgIFAQKAgU5rmKrSwoCBQECgIFgcK86yq2saAgUBAoCBQcNYIF\n",
       "BYGCQEGgIFBwFQsWFAQKAgWBgvtBwYKCQEGgIFAQKMxx1FhZUBAoCBQECgIFN8yCBQWBgkBBoDDH\n",
       "DbOVBQWBgkBBoCBQmHP/+fbf8NMsKAgUBAoCBYGCxz7BgoJAQaAgUHDDLFhQECgIFAQKAgVXsWBB\n",
       "QaAgUBAouB8ULCgIFAQKAgWBwnwcNVYWFAQKAgWBgkBhzvWfWTYWFAQKAgWBgqNGsKAgUBAoCBQE\n",
       "Co4awYKCQEGgIFAQKHjDLFhQECgIFAQK83HUWFlQECgIFAQKAgXvSQcLCgIFgYJAwVEjWFAQKAgU\n",
       "BAoCBc/mgwUFgYJAQaAgUHAWCxYUBAoCBYGCo0awoCBQECgIFAQKjhrBgoJAQaAgUBAozLn323/D\n",
       "T7OgIFAQKAgUHDWCBQWBgkBBoCBQ8NgnWFAQKAgUBAo+pIMFBYGCQEGgIFCYj6caKwsKAgWBgkBB\n",
       "oOAsFiwoCBQECgIFL1AFCwoCBYGCQEGg4IZZsKAgUBAoCBTcDwoWFAQKAgWBgkDBDbNgQUGgIFAQ\n",
       "KAgUXMWCBQWBgkBBoOB788GCgkBBoCBQECg4agQLCgIFgYJAQaDgKhYsKAgUBAoCBR/SwYKCQEGg\n",
       "IFAQKLiKBQsKAgWBgkBhzvMhvbGgIFAQKAgUBAqOGsGCgkBBoCBQECi4igULCgIFgYJAwYd0sKAg\n",
       "UBAoCBQECnPu+/bf8NMsKAgUBAoCBYGCs1iwoCBQECgIFBw1ggUFgYJAQaAgUHDUCBYUBAoCBYGC\n",
       "o0awoCBQECgIFAQKc5w0VhYUBAoCBYGCQGHOcxbbWFAQKAgUBAqOGsGCgkBBoCBQECi4igULCgIF\n",
       "gYJAQaAwfohzZ0FBoCBQECg4agQLCgIFgYJAQaDgKhYsKAgUBAoChTn38+2/4adZUBAoCBQECgKF\n",
       "ec9VbGNBQaAgUBAoCBTcMAsWFAQKAgWBghtmwYKCQEGgIFAQKMy7Gm3UCQIFgYJAwVEjWFAQKAgU\n",
       "BAoChTmeza8sKAgUBAoCBYHCPGexlQUFgYJAQaAwx1ONlTpBoCBQECgIFBw1ggUFgYJAQaAgUPDY\n",
       "J1hQECgIFAQKXgMO6gSBgkBBoCBQ8J50sKAgUBAoCBQ81QgWFAQKAgWBgkBh3tNoo04QKAgUBAoC\n",
       "BTfMggUFgYJAQaDghlmwoCBQECgIFAQKc9wwW6kTBAoCBYGCQMFZLFhQECgIFAQKPqSDBQWBgkBB\n",
       "oCBQ8L35YEFBoCBQECj43nxQJwgUBAoCBYHCPEeNlQUFgYJAQaAgUPDYJ1hQECgIFAQK/jNLUCcI\n",
       "FAQKAgWBghtmwYKCQEGgIFAQKLhhFiwoCBQECgIFR41gQUGgIFAQKAgUvCcd1AkCBYGCQMFRI1hQ\n",
       "ECgIFAQKAgVPNYIFBYGCQEGgIFBwFgsWFAQKAgWBgn+fFSwoCBQECgIFgYJ/ZRzUCQIFgYJAQaDg\n",
       "hlmwoCBQECgIFDybDxYUBAoCBYGCQMFRI1hQECgIFAQKc31IrywoCBQECgIFgYLvzQd1gkBBoCBQ\n",
       "ECi4YRYsKAgUBAoCBR/SwYKCQEGgIFAQKHjDLFhQECgIFAQKjhrBgoJAQaAgUBAouIoFCwoCBYGC\n",
       "QEGg4NdfgjpBoCBQECjM9VRjZUFBoCBQECgIFNwwCxYUBAoCBYGCQMFVLFhQECgIFAQKPqSDBQWB\n",
       "gkBBoCBQ8BtmwYKCQEGgIFBw1AgWFAQKAgWBgkDBVSxYUBAoCBQECgIFX2YJ6gSBgkBBoODLLMGC\n",
       "gkBBoCBQECi4YRYsKAgUBAoCBYGCq1iwoCBQECgIFLwGHCwoCBQECgIFgYKjRrCgIFAQKAgU5h0f\n",
       "0hsLCgIFgYJAQaDghlmwoCBQECgIFAQKbpgFCwoCBYGCQMFRI1hQECgIFAQKAgVHjWBBQaAgUBAo\n",
       "CBScxYIFBYGCQEGg4KgRLCgIFAQKAgWBgqtYsKAgUBAoCBTm+jLLyoKCQEGgIFAQKDhqBAsKAgWB\n",
       "gkBBoODZfLCgIFAQKAgU5r1v/wm/zYKCQEGgIFAQKDhqBAsKAgWBgkDBD00GCwoCBYGCQEGg4KgR\n",
       "LCgIFAQKAgWBgjfMggUFgYJAQaDgyyzBgoJAQaAgUBAoeMMsWFAQKAgUBAoCBY99ggUFgYJAQaDg\n",
       "qUawoCBQECgIFAQKHvsECwoCBYGCQMH9oGBBQaAgUBAoCBQ8mw8WFAQKAgWBgkDBDbNgQUGgIFAQ\n",
       "KHg2HywoCBQECgIFgcLcb/8FP86CgkBBoCBQECg4iwULCgIFgYJAwRtmwYKCQEGgIFAQKLhhFiwo\n",
       "CBQECgIF94OCBQWBgkBBoCBQcNQIFhQECgIFgYJAwVksWFAQKAgUBAqezQcLCgIFgYJAQaAwfvxl\n",
       "Z0FBoCBQECgIFJzFggUFgYJAQaDg2XywoCBQECgIFAQKns0HCwoCBYGCQMFRI1hQECgIFAQKAgVH\n",
       "jWBBQaAgUBAoCBTmesVsZUFBoCBQECi4YRYsKAgUBAoCBYGCG2bBgoJAQaAgUHDUCBYUBAoCBYGC\n",
       "QGGepxorCwoCBYGCQEGgMPe4YbaxoCBQECgIFLxAFSwoCBQECgIFgYIfmgwWFAQKAgWBgkDBD00G\n",
       "CwoCBYGCQMGz+WBBQaAgUBAoCBS8Jx0sKAgUBAoCBd84DBYUBAoCBYGCQMFRI1hQECgIFAQKAgXv\n",
       "SQcLCgIFgYJAwWvAwYKCQEGgIFAQKDhqBAsKAgWBgkBBoOA96WBBQaAgUBAo+ImuYEFBoCBQECgI\n",
       "FNwwCxYUBAoCBYGCZ/PBgoJAQaAgUBAoOGoECwoCBYGCQEGg4CwWLCgIFAQKAgVHjWBBQaAgUBAo\n",
       "CBRcxYIFBYGCQEGgIFBwwyxYUBAoCBQECo4awYKCQEGgIFAQKDhqBAsKAgWBgkDBUSNYUBAoCBQE\n",
       "CgIFP9EVLCgIFAQKAgWBgv8vFiwoCBQECgIFN8yCBQWBgkBBoCBQmHdcxjYWFAQKAgWBgkDBWSxY\n",
       "UBAoCBQECp7NBwsKAgWBgkBBoODZfLCgIFAQKAgU3A8KFhQECgIFgYJAwbP5YEFBoCBQECgIFJzF\n",
       "ggUFgYJAQaDgJ7qCBQWBgkBBoCBQmOsVs5UFBYGCQEGg4AWqYEFBoCBQECgIFOY5aqwsKAgUBAoC\n",
       "BYGCs1iwoCBQECgIFDzVCBYUBAoCBYGCQMEbZsGCgkBBoCBQECjM9ZXMlQUFgYJAQaDghlmwoCBQ\n",
       "ECgIFAQKfv0lWFAQKAgUBApeoAoWFAQKAgWBgkDBU41gQUGgIFAQKAgU3DALFhQECgIFgcLc45bZ\n",
       "xoKCQEGgIFAQKLhhFiwoCBQECgIFgYKrWLCgIFAQKAgUPNUIFhQECgIFgYJAwWOfYEFBoCBQECjM\n",
       "/ThqbCwoCBQECgIFgYKjRrCgIFAQKAgUBArzXMVWFhQECgIFgYKjRrCgIFAQKAgUBApzP65iGwsK\n",
       "AgWBgkBBoOAsFiwoCBQECgIFTzWCBQWBgkBBoCBQcNQIFhQECgIFgYIP6WBBQaAgUBAoCBQ8mw8W\n",
       "FAQKAgWBgkBh3vnz7b/hp1lQECgIFAQKbpgFCwoCBYGCQEGg4A2zYEFBoCBQECjMfe4HbSwoCBQE\n",
       "CgIFgYKjRrCgIFAQKAgUBApzPZtfWVAQKAgUBAqOGsGCgkBBoCBQECg4agQLCgIFgYJAQaAw7zmL\n",
       "bSwoCBQECgIFN8yCBQWBgkBBoCBQ8J50sKAgUBAoCBQcNYIFBYGCQEGgIFCY56ixsqAgUBAoCBQE\n",
       "Cs5iwYKCQEGgIFCY6wWqlQUFgYJAQaAgUPCb9sGCgkBBoCBQECj4MkuwoCBQECgIFDzVCBYUBAoC\n",
       "BYGCQMFRI1hQECgIFAQKPqSDBQWBgkBBoCBQ8Gw+WFAQKAgUBAoCBWexYEFBoCBQECjM8Wx+ZUFB\n",
       "oCBQECgIFBw1ggUFgYJAQaAgUPCedLCgIFAQKAgU5jhqrCwoCBQECgIFgYI3zIIFBYGCQEGg4Nl8\n",
       "sKAgUBAoCBQECm6YBQsKAgWBgkBBoDDvvG//DT/NgoJAQaAgUHDDLFhQECgIFAQKAoU5jhorCwoC\n",
       "BYGCQOE/LrLuTX/wFc8AAAAASUVORK5CYII=\n",
       "\" transform=\"translate(2161, 47)\"/>\n",
       "</g>\n",
       "<path clip-path=\"url(#clip410)\" d=\"M2280.7 1241.32 Q2277.09 1241.32 2275.26 1244.88 Q2273.45 1248.42 2273.45 1255.55 Q2273.45 1262.66 2275.26 1266.22 Q2277.09 1269.76 2280.7 1269.76 Q2284.33 1269.76 2286.14 1266.22 Q2287.97 1262.66 2287.97 1255.55 Q2287.97 1248.42 2286.14 1244.88 Q2284.33 1241.32 2280.7 1241.32 M2280.7 1237.61 Q2286.51 1237.61 2289.57 1242.22 Q2292.64 1246.8 2292.64 1255.55 Q2292.64 1264.28 2289.57 1268.89 Q2286.51 1273.47 2280.7 1273.47 Q2274.89 1273.47 2271.81 1268.89 Q2268.76 1264.28 2268.76 1255.55 Q2268.76 1246.8 2271.81 1242.22 Q2274.89 1237.61 2280.7 1237.61 Z\" fill=\"#000000\" fill-rule=\"evenodd\" fill-opacity=\"1\" /><path clip-path=\"url(#clip410)\" d=\"M2300.86 1266.92 L2305.75 1266.92 L2305.75 1272.8 L2300.86 1272.8 L2300.86 1266.92 Z\" fill=\"#000000\" fill-rule=\"evenodd\" fill-opacity=\"1\" /><path clip-path=\"url(#clip410)\" d=\"M2325.93 1241.32 Q2322.32 1241.32 2320.49 1244.88 Q2318.69 1248.42 2318.69 1255.55 Q2318.69 1262.66 2320.49 1266.22 Q2322.32 1269.76 2325.93 1269.76 Q2329.57 1269.76 2331.37 1266.22 Q2333.2 1262.66 2333.2 1255.55 Q2333.2 1248.42 2331.37 1244.88 Q2329.57 1241.32 2325.93 1241.32 M2325.93 1237.61 Q2331.74 1237.61 2334.8 1242.22 Q2337.88 1246.8 2337.88 1255.55 Q2337.88 1264.28 2334.8 1268.89 Q2331.74 1273.47 2325.93 1273.47 Q2320.12 1273.47 2317.04 1268.89 Q2313.99 1264.28 2313.99 1255.55 Q2313.99 1246.8 2317.04 1242.22 Q2320.12 1237.61 2325.93 1237.61 Z\" fill=\"#000000\" fill-rule=\"evenodd\" fill-opacity=\"1\" /><path clip-path=\"url(#clip410)\" d=\"M2346.9 1268.86 L2354.54 1268.86 L2354.54 1242.5 L2346.23 1244.16 L2346.23 1239.9 L2354.5 1238.24 L2359.17 1238.24 L2359.17 1268.86 L2366.81 1268.86 L2366.81 1272.8 L2346.9 1272.8 L2346.9 1268.86 Z\" fill=\"#000000\" fill-rule=\"evenodd\" fill-opacity=\"1\" /><path clip-path=\"url(#clip410)\" d=\"M2280.7 1014.01 Q2277.09 1014.01 2275.26 1017.57 Q2273.45 1021.11 2273.45 1028.24 Q2273.45 1035.35 2275.26 1038.92 Q2277.09 1042.46 2280.7 1042.46 Q2284.33 1042.46 2286.14 1038.92 Q2287.97 1035.35 2287.97 1028.24 Q2287.97 1021.11 2286.14 1017.57 Q2284.33 1014.01 2280.7 1014.01 M2280.7 1010.3 Q2286.51 1010.3 2289.57 1014.91 Q2292.64 1019.49 2292.64 1028.24 Q2292.64 1036.97 2289.57 1041.58 Q2286.51 1046.16 2280.7 1046.16 Q2274.89 1046.16 2271.81 1041.58 Q2268.76 1036.97 2268.76 1028.24 Q2268.76 1019.49 2271.81 1014.91 Q2274.89 1010.3 2280.7 1010.3 Z\" fill=\"#000000\" fill-rule=\"evenodd\" fill-opacity=\"1\" /><path clip-path=\"url(#clip410)\" d=\"M2300.86 1039.61 L2305.75 1039.61 L2305.75 1045.49 L2300.86 1045.49 L2300.86 1039.61 Z\" fill=\"#000000\" fill-rule=\"evenodd\" fill-opacity=\"1\" /><path clip-path=\"url(#clip410)\" d=\"M2325.93 1014.01 Q2322.32 1014.01 2320.49 1017.57 Q2318.69 1021.11 2318.69 1028.24 Q2318.69 1035.35 2320.49 1038.92 Q2322.32 1042.46 2325.93 1042.46 Q2329.57 1042.46 2331.37 1038.92 Q2333.2 1035.35 2333.2 1028.24 Q2333.2 1021.11 2331.37 1017.57 Q2329.57 1014.01 2325.93 1014.01 M2325.93 1010.3 Q2331.74 1010.3 2334.8 1014.91 Q2337.88 1019.49 2337.88 1028.24 Q2337.88 1036.97 2334.8 1041.58 Q2331.74 1046.16 2325.93 1046.16 Q2320.12 1046.16 2317.04 1041.58 Q2313.99 1036.97 2313.99 1028.24 Q2313.99 1019.49 2317.04 1014.91 Q2320.12 1010.3 2325.93 1010.3 Z\" fill=\"#000000\" fill-rule=\"evenodd\" fill-opacity=\"1\" /><path clip-path=\"url(#clip410)\" d=\"M2350.12 1041.55 L2366.44 1041.55 L2366.44 1045.49 L2344.5 1045.49 L2344.5 1041.55 Q2347.16 1038.8 2351.74 1034.17 Q2356.35 1029.52 2357.53 1028.17 Q2359.77 1025.65 2360.65 1023.92 Q2361.56 1022.16 2361.56 1020.47 Q2361.56 1017.71 2359.61 1015.98 Q2357.69 1014.24 2354.59 1014.24 Q2352.39 1014.24 2349.94 1015 Q2347.51 1015.77 2344.73 1017.32 L2344.73 1012.6 Q2347.55 1011.46 2350.01 1010.88 Q2352.46 1010.3 2354.5 1010.3 Q2359.87 1010.3 2363.06 1012.99 Q2366.26 1015.67 2366.26 1020.17 Q2366.26 1022.3 2365.45 1024.22 Q2364.66 1026.11 2362.55 1028.71 Q2361.97 1029.38 2358.87 1032.6 Q2355.77 1035.79 2350.12 1041.55 Z\" fill=\"#000000\" fill-rule=\"evenodd\" fill-opacity=\"1\" /><path clip-path=\"url(#clip410)\" d=\"M2280.7 786.701 Q2277.09 786.701 2275.26 790.265 Q2273.45 793.807 2273.45 800.937 Q2273.45 808.043 2275.26 811.608 Q2277.09 815.149 2280.7 815.149 Q2284.33 815.149 2286.14 811.608 Q2287.97 808.043 2287.97 800.937 Q2287.97 793.807 2286.14 790.265 Q2284.33 786.701 2280.7 786.701 M2280.7 782.997 Q2286.51 782.997 2289.57 787.603 Q2292.64 792.187 2292.64 800.937 Q2292.64 809.663 2289.57 814.27 Q2286.51 818.853 2280.7 818.853 Q2274.89 818.853 2271.81 814.27 Q2268.76 809.663 2268.76 800.937 Q2268.76 792.187 2271.81 787.603 Q2274.89 782.997 2280.7 782.997 Z\" fill=\"#000000\" fill-rule=\"evenodd\" fill-opacity=\"1\" /><path clip-path=\"url(#clip410)\" d=\"M2300.86 812.302 L2305.75 812.302 L2305.75 818.182 L2300.86 818.182 L2300.86 812.302 Z\" fill=\"#000000\" fill-rule=\"evenodd\" fill-opacity=\"1\" /><path clip-path=\"url(#clip410)\" d=\"M2325.93 786.701 Q2322.32 786.701 2320.49 790.265 Q2318.69 793.807 2318.69 800.937 Q2318.69 808.043 2320.49 811.608 Q2322.32 815.149 2325.93 815.149 Q2329.57 815.149 2331.37 811.608 Q2333.2 808.043 2333.2 800.937 Q2333.2 793.807 2331.37 790.265 Q2329.57 786.701 2325.93 786.701 M2325.93 782.997 Q2331.74 782.997 2334.8 787.603 Q2337.88 792.187 2337.88 800.937 Q2337.88 809.663 2334.8 814.27 Q2331.74 818.853 2325.93 818.853 Q2320.12 818.853 2317.04 814.27 Q2313.99 809.663 2313.99 800.937 Q2313.99 792.187 2317.04 787.603 Q2320.12 782.997 2325.93 782.997 Z\" fill=\"#000000\" fill-rule=\"evenodd\" fill-opacity=\"1\" /><path clip-path=\"url(#clip410)\" d=\"M2360.26 799.548 Q2363.62 800.265 2365.49 802.534 Q2367.39 804.802 2367.39 808.136 Q2367.39 813.251 2363.87 816.052 Q2360.35 818.853 2353.87 818.853 Q2351.7 818.853 2349.38 818.413 Q2347.09 817.997 2344.64 817.14 L2344.64 812.626 Q2346.58 813.761 2348.89 814.339 Q2351.21 814.918 2353.73 814.918 Q2358.13 814.918 2360.42 813.182 Q2362.74 811.446 2362.74 808.136 Q2362.74 805.08 2360.58 803.367 Q2358.45 801.631 2354.64 801.631 L2350.61 801.631 L2350.61 797.788 L2354.82 797.788 Q2358.27 797.788 2360.1 796.423 Q2361.93 795.034 2361.93 792.441 Q2361.93 789.779 2360.03 788.367 Q2358.15 786.932 2354.64 786.932 Q2352.71 786.932 2350.51 787.349 Q2348.32 787.765 2345.68 788.645 L2345.68 784.478 Q2348.34 783.738 2350.65 783.367 Q2352.99 782.997 2355.05 782.997 Q2360.38 782.997 2363.48 785.427 Q2366.58 787.835 2366.58 791.955 Q2366.58 794.825 2364.94 796.816 Q2363.29 798.784 2360.26 799.548 Z\" fill=\"#000000\" fill-rule=\"evenodd\" fill-opacity=\"1\" /><path clip-path=\"url(#clip410)\" d=\"M2280.7 559.393 Q2277.09 559.393 2275.26 562.958 Q2273.45 566.499 2273.45 573.629 Q2273.45 580.735 2275.26 584.3 Q2277.09 587.842 2280.7 587.842 Q2284.33 587.842 2286.14 584.3 Q2287.97 580.735 2287.97 573.629 Q2287.97 566.499 2286.14 562.958 Q2284.33 559.393 2280.7 559.393 M2280.7 555.689 Q2286.51 555.689 2289.57 560.296 Q2292.64 564.879 2292.64 573.629 Q2292.64 582.356 2289.57 586.962 Q2286.51 591.545 2280.7 591.545 Q2274.89 591.545 2271.81 586.962 Q2268.76 582.356 2268.76 573.629 Q2268.76 564.879 2271.81 560.296 Q2274.89 555.689 2280.7 555.689 Z\" fill=\"#000000\" fill-rule=\"evenodd\" fill-opacity=\"1\" /><path clip-path=\"url(#clip410)\" d=\"M2300.86 584.994 L2305.75 584.994 L2305.75 590.874 L2300.86 590.874 L2300.86 584.994 Z\" fill=\"#000000\" fill-rule=\"evenodd\" fill-opacity=\"1\" /><path clip-path=\"url(#clip410)\" d=\"M2325.93 559.393 Q2322.32 559.393 2320.49 562.958 Q2318.69 566.499 2318.69 573.629 Q2318.69 580.735 2320.49 584.3 Q2322.32 587.842 2325.93 587.842 Q2329.57 587.842 2331.37 584.3 Q2333.2 580.735 2333.2 573.629 Q2333.2 566.499 2331.37 562.958 Q2329.57 559.393 2325.93 559.393 M2325.93 555.689 Q2331.74 555.689 2334.8 560.296 Q2337.88 564.879 2337.88 573.629 Q2337.88 582.356 2334.8 586.962 Q2331.74 591.545 2325.93 591.545 Q2320.12 591.545 2317.04 586.962 Q2313.99 582.356 2313.99 573.629 Q2313.99 564.879 2317.04 560.296 Q2320.12 555.689 2325.93 555.689 Z\" fill=\"#000000\" fill-rule=\"evenodd\" fill-opacity=\"1\" /><path clip-path=\"url(#clip410)\" d=\"M2358.94 560.388 L2347.14 578.837 L2358.94 578.837 L2358.94 560.388 M2357.71 556.314 L2363.59 556.314 L2363.59 578.837 L2368.52 578.837 L2368.52 582.726 L2363.59 582.726 L2363.59 590.874 L2358.94 590.874 L2358.94 582.726 L2343.34 582.726 L2343.34 578.212 L2357.71 556.314 Z\" fill=\"#000000\" fill-rule=\"evenodd\" fill-opacity=\"1\" /><path clip-path=\"url(#clip410)\" d=\"M2280.7 332.085 Q2277.09 332.085 2275.26 335.65 Q2273.45 339.191 2273.45 346.321 Q2273.45 353.427 2275.26 356.992 Q2277.09 360.534 2280.7 360.534 Q2284.33 360.534 2286.14 356.992 Q2287.97 353.427 2287.97 346.321 Q2287.97 339.191 2286.14 335.65 Q2284.33 332.085 2280.7 332.085 M2280.7 328.381 Q2286.51 328.381 2289.57 332.988 Q2292.64 337.571 2292.64 346.321 Q2292.64 355.048 2289.57 359.654 Q2286.51 364.238 2280.7 364.238 Q2274.89 364.238 2271.81 359.654 Q2268.76 355.048 2268.76 346.321 Q2268.76 337.571 2271.81 332.988 Q2274.89 328.381 2280.7 328.381 Z\" fill=\"#000000\" fill-rule=\"evenodd\" fill-opacity=\"1\" /><path clip-path=\"url(#clip410)\" d=\"M2300.86 357.687 L2305.75 357.687 L2305.75 363.566 L2300.86 363.566 L2300.86 357.687 Z\" fill=\"#000000\" fill-rule=\"evenodd\" fill-opacity=\"1\" /><path clip-path=\"url(#clip410)\" d=\"M2325.93 332.085 Q2322.32 332.085 2320.49 335.65 Q2318.69 339.191 2318.69 346.321 Q2318.69 353.427 2320.49 356.992 Q2322.32 360.534 2325.93 360.534 Q2329.57 360.534 2331.37 356.992 Q2333.2 353.427 2333.2 346.321 Q2333.2 339.191 2331.37 335.65 Q2329.57 332.085 2325.93 332.085 M2325.93 328.381 Q2331.74 328.381 2334.8 332.988 Q2337.88 337.571 2337.88 346.321 Q2337.88 355.048 2334.8 359.654 Q2331.74 364.238 2325.93 364.238 Q2320.12 364.238 2317.04 359.654 Q2313.99 355.048 2313.99 346.321 Q2313.99 337.571 2317.04 332.988 Q2320.12 328.381 2325.93 328.381 Z\" fill=\"#000000\" fill-rule=\"evenodd\" fill-opacity=\"1\" /><path clip-path=\"url(#clip410)\" d=\"M2346.14 329.006 L2364.5 329.006 L2364.5 332.941 L2350.42 332.941 L2350.42 341.414 Q2351.44 341.066 2352.46 340.904 Q2353.48 340.719 2354.5 340.719 Q2360.28 340.719 2363.66 343.891 Q2367.04 347.062 2367.04 352.478 Q2367.04 358.057 2363.57 361.159 Q2360.1 364.238 2353.78 364.238 Q2351.6 364.238 2349.33 363.867 Q2347.09 363.497 2344.68 362.756 L2344.68 358.057 Q2346.76 359.191 2348.99 359.747 Q2351.21 360.302 2353.69 360.302 Q2357.69 360.302 2360.03 358.196 Q2362.37 356.09 2362.37 352.478 Q2362.37 348.867 2360.03 346.761 Q2357.69 344.654 2353.69 344.654 Q2351.81 344.654 2349.94 345.071 Q2348.08 345.488 2346.14 346.367 L2346.14 329.006 Z\" fill=\"#000000\" fill-rule=\"evenodd\" fill-opacity=\"1\" /><path clip-path=\"url(#clip410)\" d=\"M2280.7 104.777 Q2277.09 104.777 2275.26 108.342 Q2273.45 111.884 2273.45 119.013 Q2273.45 126.12 2275.26 129.685 Q2277.09 133.226 2280.7 133.226 Q2284.33 133.226 2286.14 129.685 Q2287.97 126.12 2287.97 119.013 Q2287.97 111.884 2286.14 108.342 Q2284.33 104.777 2280.7 104.777 M2280.7 101.074 Q2286.51 101.074 2289.57 105.68 Q2292.64 110.263 2292.64 119.013 Q2292.64 127.74 2289.57 132.347 Q2286.51 136.93 2280.7 136.93 Q2274.89 136.93 2271.81 132.347 Q2268.76 127.74 2268.76 119.013 Q2268.76 110.263 2271.81 105.68 Q2274.89 101.074 2280.7 101.074 Z\" fill=\"#000000\" fill-rule=\"evenodd\" fill-opacity=\"1\" /><path clip-path=\"url(#clip410)\" d=\"M2300.86 130.379 L2305.75 130.379 L2305.75 136.259 L2300.86 136.259 L2300.86 130.379 Z\" fill=\"#000000\" fill-rule=\"evenodd\" fill-opacity=\"1\" /><path clip-path=\"url(#clip410)\" d=\"M2325.93 104.777 Q2322.32 104.777 2320.49 108.342 Q2318.69 111.884 2318.69 119.013 Q2318.69 126.12 2320.49 129.685 Q2322.32 133.226 2325.93 133.226 Q2329.57 133.226 2331.37 129.685 Q2333.2 126.12 2333.2 119.013 Q2333.2 111.884 2331.37 108.342 Q2329.57 104.777 2325.93 104.777 M2325.93 101.074 Q2331.74 101.074 2334.8 105.68 Q2337.88 110.263 2337.88 119.013 Q2337.88 127.74 2334.8 132.347 Q2331.74 136.93 2325.93 136.93 Q2320.12 136.93 2317.04 132.347 Q2313.99 127.74 2313.99 119.013 Q2313.99 110.263 2317.04 105.68 Q2320.12 101.074 2325.93 101.074 Z\" fill=\"#000000\" fill-rule=\"evenodd\" fill-opacity=\"1\" /><path clip-path=\"url(#clip410)\" d=\"M2356.67 117.115 Q2353.52 117.115 2351.67 119.268 Q2349.84 121.421 2349.84 125.171 Q2349.84 128.897 2351.67 131.073 Q2353.52 133.226 2356.67 133.226 Q2359.82 133.226 2361.65 131.073 Q2363.5 128.897 2363.5 125.171 Q2363.5 121.421 2361.65 119.268 Q2359.82 117.115 2356.67 117.115 M2365.95 102.462 L2365.95 106.722 Q2364.2 105.888 2362.39 105.449 Q2360.61 105.009 2358.85 105.009 Q2354.22 105.009 2351.76 108.134 Q2349.33 111.259 2348.99 117.578 Q2350.35 115.564 2352.41 114.499 Q2354.47 113.411 2356.95 113.411 Q2362.16 113.411 2365.17 116.583 Q2368.2 119.731 2368.2 125.171 Q2368.2 130.495 2365.05 133.712 Q2361.9 136.93 2356.67 136.93 Q2350.68 136.93 2347.51 132.347 Q2344.33 127.74 2344.33 119.013 Q2344.33 110.819 2348.22 105.958 Q2352.11 101.074 2358.66 101.074 Q2360.42 101.074 2362.2 101.421 Q2364.01 101.768 2365.95 102.462 Z\" fill=\"#000000\" fill-rule=\"evenodd\" fill-opacity=\"1\" /><polyline clip-path=\"url(#clip410)\" style=\"stroke:#000000; stroke-linecap:round; stroke-linejoin:round; stroke-width:4; stroke-opacity:1; fill:none\" points=\"2232.76,1486.45 2232.76,1259.15 2256.76,1259.15 2232.76,1259.15 2232.76,1031.84 2256.76,1031.84 2232.76,1031.84 2232.76,804.531 2256.76,804.531 2232.76,804.531 2232.76,577.223 2256.76,577.223 2232.76,577.223 2232.76,349.915 2256.76,349.915 2232.76,349.915 2232.76,122.607 2256.76,122.607 2232.76,122.607 2232.76,47.2441 \"/>\n",
       "</svg>\n"
      ]
     },
     "execution_count": 42,
     "metadata": {},
     "output_type": "execute_result"
    }
   ],
   "source": [
    "heatmap(reshape(real(total_expect_list), Nx, Ny))\n",
    "heatmap(reshape(real(expect_list), Nx, Ny))"
   ]
  },
  {
   "cell_type": "markdown",
   "id": "c8ba1c1a-0466-4c0e-ae50-68651ddddd72",
   "metadata": {},
   "source": [
    "# Animation"
   ]
  },
  {
   "cell_type": "code",
   "execution_count": 38,
   "id": "3b94f5ae-a205-48ea-9ed7-bac8407b3a50",
   "metadata": {
    "tags": []
   },
   "outputs": [],
   "source": [
    "# animated_exp_list = zeros(N,1,length(r_hubbard_states))\n",
    "# function animated_e_l()\n",
    "#     for i in 1:length(r_hubbard_states)\n",
    "#         expect_list=[]\n",
    "#         for j in 1:N\n",
    "#             T = NM_MB_Array_Storage[:,:,j]\n",
    "#             Op = Operator(BL,BR,T)\n",
    "#             push!(expect_list,expect(Op, r_hubbard_states[i]))\n",
    "#         end\n",
    "#         animated_exp_list[:,:,i] = real(expect_list)\n",
    "#     end\n",
    "#     return animated_exp_list\n",
    "# end"
   ]
  },
  {
   "cell_type": "code",
   "execution_count": 39,
   "id": "4476fa87-c99f-4428-a0d5-473049a5893a",
   "metadata": {
    "tags": []
   },
   "outputs": [],
   "source": [
    "# k = 1\n",
    "# initial_condition = reshape(animated_e_l()[:,:,k], Nx, Ny) #psi_1 (psi_k)'e karşılık gelen density matrix\n",
    "# heatmap(initial_condition)"
   ]
  },
  {
   "cell_type": "code",
   "execution_count": 40,
   "id": "e0b08e68-6ca6-4923-9cd6-2ec9f5cdf609",
   "metadata": {
    "tags": []
   },
   "outputs": [],
   "source": [
    "# initial_condition = reshape(animated_e_l()[:,:,1], Nx, Ny)\n",
    "# fps = 20\n",
    "# function heatgif(initial_condition)\n",
    "#     p = heatmap(initial_condition, xlabel=\"x\", ylabel=\"y\", title=(\"Nx=$Nx,Ny=$Ny,co=$cut_off,PN=$pn,U=$U, fps=$fps\"))\n",
    "#     anim = @animate for i=1:length(r_hubbard_states)\n",
    "#         h_map_matrix = reshape(animated_e_l()[:,:,i],Nx,Ny)\n",
    "#         heatmap!(p[1], h_map_matrix)\n",
    "#     end\n",
    "#     return anim\n",
    "# end"
   ]
  },
  {
   "cell_type": "code",
   "execution_count": 41,
   "id": "91adf7db-1421-4fd3-8615-3550623f1568",
   "metadata": {
    "tags": []
   },
   "outputs": [],
   "source": [
    "# anim = heatgif(initial_condition)\n",
    "# gif(anim, \"OUTPUT.gif\", fps=fps)"
   ]
  }
 ],
 "metadata": {
  "kernelspec": {
   "display_name": "Julia 1.8.1",
   "language": "julia",
   "name": "julia-1.8"
  },
  "language_info": {
   "file_extension": ".jl",
   "mimetype": "application/julia",
   "name": "julia",
   "version": "1.8.1"
  }
 },
 "nbformat": 4,
 "nbformat_minor": 5
}
