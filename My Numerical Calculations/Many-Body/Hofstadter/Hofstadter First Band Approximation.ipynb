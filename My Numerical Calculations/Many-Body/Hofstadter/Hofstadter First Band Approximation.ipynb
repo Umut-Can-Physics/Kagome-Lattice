{
 "cells": [
  {
   "cell_type": "markdown",
   "id": "ceramic-motivation",
   "metadata": {
    "editable": true,
    "slideshow": {
     "slide_type": ""
    },
    "tags": []
   },
   "source": [
    "# Including"
   ]
  },
  {
   "cell_type": "code",
   "execution_count": 1,
   "id": "chinese-terrorism",
   "metadata": {
    "editable": true,
    "slideshow": {
     "slide_type": ""
    },
    "tags": []
   },
   "outputs": [],
   "source": [
    "using NBInclude\n",
    "using Plots\n",
    "using LaTeXStrings\n",
    "using SparseArrays\n",
    "using DataFrames\n",
    "using ProgressBars\n",
    "using Interpolations;\n",
    "using LinearAlgebra\n",
    "@nbinclude(\"Hofstadter Single Particle in Julia.ipynb\")\n",
    "@nbinclude(joinpath(\"..\",\"First Band Approximation Functions.ipynb\"))\n",
    "@nbinclude(joinpath(\"../Braiding Utils.ipynb\"))\n",
    "@nbinclude(\"../Aharonov-Bohm Phase.ipynb\");"
   ]
  },
  {
   "cell_type": "markdown",
   "id": "yellow-japan",
   "metadata": {
    "editable": true,
    "slideshow": {
     "slide_type": ""
    },
    "tags": []
   },
   "source": [
    "# Model Parameters"
   ]
  },
  {
   "cell_type": "markdown",
   "id": "atomic-scout",
   "metadata": {},
   "source": [
    "$\\phi=\\frac{p}{q}=\\frac{p}{N_y}, N_\\phi=\\phi NxNy=N_x \\text{ (The number of single particle degeneracy)}$"
   ]
  },
  {
   "cell_type": "code",
   "execution_count": 52,
   "id": "crazy-thermal",
   "metadata": {
    "editable": true,
    "slideshow": {
     "slide_type": ""
    },
    "tags": []
   },
   "outputs": [
    {
     "ename": "LoadError",
     "evalue": "InexactError: Int64(5.333333333333333)",
     "output_type": "error",
     "traceback": [
      "InexactError: Int64(5.333333333333333)",
      "",
      "Stacktrace:",
      " [1] Int64(x::Float64)",
      "   @ Base ./float.jl:900",
      " [2] top-level scope",
      "   @ In[52]:6"
     ]
    }
   ],
   "source": [
    "Nx=4\n",
    "Ny=4\n",
    "N=Nx*Ny\n",
    "p=1\n",
    "q=3\n",
    "NPhi = Int( Nx * Ny * (p/q) )\n",
    "cut_off = NPhi\n",
    "PN = [0, 1, 2]\n",
    "U = 4;"
   ]
  },
  {
   "cell_type": "markdown",
   "id": "790caddd-4257-4b74-88e9-a96af9a6b3ae",
   "metadata": {},
   "source": [
    "Nx=10\n",
    "Ny=10\n",
    "N=Nx*Ny\n",
    "p=1\n",
    "q=2\n",
    "NPhi = Int( Nx * Ny * (p/q) )\n",
    "cut_off = Nx\n",
    "PN = [0, 1, 2, 3]\n",
    "U = 4;\n",
    "Bu set için GS dejenere gelmedi ve quasi-hole pinlenmedi. GS dejenere katlılığının çok büyük olması ile ilgisi var mı?"
   ]
  },
  {
   "cell_type": "markdown",
   "id": "pressed-cylinder",
   "metadata": {
    "tags": []
   },
   "source": [
    "# Sub Space Kinetic Term"
   ]
  },
  {
   "cell_type": "code",
   "execution_count": 53,
   "id": "0b76b08d-bf9a-4a99-bc12-55eec6c555ff",
   "metadata": {
    "tags": []
   },
   "outputs": [
    {
     "data": {
      "text/plain": [
       "H_sp (generic function with 1 method)"
      ]
     },
     "execution_count": 53,
     "metadata": {},
     "output_type": "execute_result"
    }
   ],
   "source": [
    "function H_sp(N, Nx, Ny, p, q)\n",
    "    sp_basis = NLevelBasis(N)\n",
    "    periodicity = 0 #periodic (select 1 for hard-wall conditions)\n",
    "    sp_matrix = Hofstadter_SP(Nx, Ny, p/q, periodicity)\n",
    "    H1 = get_sp_op(sp_basis, sp_matrix)\n",
    "    return H1, sp_basis\n",
    "end"
   ]
  },
  {
   "cell_type": "code",
   "execution_count": 54,
   "id": "14f54111-0e8c-4021-8720-162c33697375",
   "metadata": {},
   "outputs": [
    {
     "name": "stdout",
     "output_type": "stream",
     "text": [
      "search: \u001b[0m\u001b[1mH\u001b[22m\u001b[0m\u001b[1mo\u001b[22m\u001b[0m\u001b[1mf\u001b[22m\u001b[0m\u001b[1ms\u001b[22m\u001b[0m\u001b[1mt\u001b[22m\u001b[0m\u001b[1ma\u001b[22m\u001b[0m\u001b[1md\u001b[22m\u001b[0m\u001b[1mt\u001b[22m\u001b[0m\u001b[1me\u001b[22m\u001b[0m\u001b[1mr\u001b[22m\u001b[0m\u001b[1m_\u001b[22m\u001b[0m\u001b[1mS\u001b[22m\u001b[0m\u001b[1mP\u001b[22m\n",
      "\n"
     ]
    },
    {
     "data": {
      "text/latex": [
       "No documentation found.\n",
       "\n",
       "\\texttt{Hofstadter\\_SP} is a \\texttt{Function}.\n",
       "\n",
       "\\begin{verbatim}\n",
       "# 1 method for generic function \"Hofstadter_SP\" from Main:\n",
       " [1] Hofstadter_SP(Nx, Ny, alpha, periodicity)\n",
       "     @ ~/Kagome-Lattice/My Numerical Calculations/Many-Body/Hofstadter/Hofstadter Single Particle in Julia.ipynb:In[52]:3\n",
       "\\end{verbatim}\n"
      ],
      "text/markdown": [
       "No documentation found.\n",
       "\n",
       "`Hofstadter_SP` is a `Function`.\n",
       "\n",
       "```\n",
       "# 1 method for generic function \"Hofstadter_SP\" from Main:\n",
       " [1] Hofstadter_SP(Nx, Ny, alpha, periodicity)\n",
       "     @ ~/Kagome-Lattice/My Numerical Calculations/Many-Body/Hofstadter/Hofstadter Single Particle in Julia.ipynb:In[52]:3\n",
       "```\n"
      ],
      "text/plain": [
       "  No documentation found.\n",
       "\n",
       "  \u001b[36mHofstadter_SP\u001b[39m is a \u001b[36mFunction\u001b[39m.\n",
       "\n",
       "\u001b[36m  # 1 method for generic function \"Hofstadter_SP\" from Main:\u001b[39m\n",
       "\u001b[36m   [1] Hofstadter_SP(Nx, Ny, alpha, periodicity)\u001b[39m\n",
       "\u001b[36m       @ ~/Kagome-Lattice/My Numerical Calculations/Many-Body/Hofstadter/Hofstadter Single Particle in Julia.ipynb:In[52]:3\u001b[39m"
      ]
     },
     "execution_count": 54,
     "metadata": {},
     "output_type": "execute_result"
    }
   ],
   "source": [
    "?Hofstadter_SP"
   ]
  },
  {
   "cell_type": "code",
   "execution_count": 55,
   "id": "86ce931a-be39-4d5f-9711-5512448a157f",
   "metadata": {},
   "outputs": [],
   "source": [
    "H1, sp_basis = H_sp(N, Nx, Ny, p, q);"
   ]
  },
  {
   "cell_type": "code",
   "execution_count": 56,
   "id": "3bdd000a-5184-429a-977b-abb948298238",
   "metadata": {},
   "outputs": [
    {
     "data": {
      "text/plain": [
       "1.5707963267948966"
      ]
     },
     "execution_count": 56,
     "metadata": {},
     "output_type": "execute_result"
    }
   ],
   "source": [
    "(1/4)*2*pi"
   ]
  },
  {
   "cell_type": "code",
   "execution_count": 57,
   "id": "44140bcf-c18d-4dc8-8728-16c403f5e2b0",
   "metadata": {},
   "outputs": [
    {
     "data": {
      "text/plain": [
       "2.0943951023931966"
      ]
     },
     "execution_count": 57,
     "metadata": {},
     "output_type": "execute_result"
    }
   ],
   "source": [
    "H1.data\n",
    "angle((H1.data)[11,12])+angle((H1.data)[15,11])+angle((H1.data)[16,15])+angle((H1.data)[12,16])-(2*pi)"
   ]
  },
  {
   "cell_type": "code",
   "execution_count": 58,
   "id": "19ab9a1f-5f5a-4aee-8c79-e771a384ba95",
   "metadata": {},
   "outputs": [
    {
     "data": {
      "text/plain": [
       "2.0943951023931966"
      ]
     },
     "execution_count": 58,
     "metadata": {},
     "output_type": "execute_result"
    }
   ],
   "source": [
    "mod(angle((H1.data)[15,16])+angle((H1.data)[3,15])+angle((H1.data)[4,3])+angle((H1.data)[16,4]), 2*pi)"
   ]
  },
  {
   "cell_type": "code",
   "execution_count": 59,
   "id": "3d146124-a404-47b4-9c7c-423cb008cbdd",
   "metadata": {},
   "outputs": [
    {
     "data": {
      "text/plain": [
       "2.094395102393195"
      ]
     },
     "execution_count": 59,
     "metadata": {},
     "output_type": "execute_result"
    }
   ],
   "source": [
    "mod(angle((H1.data)[8,12])+angle((H1.data)[9,12])+angle((H1.data)[5,9])+angle((H1.data)[8,5]),2*pi)"
   ]
  },
  {
   "cell_type": "code",
   "execution_count": 60,
   "id": "56948f9f-0037-46a1-b4a3-2cdbb5f24dbe",
   "metadata": {},
   "outputs": [
    {
     "data": {
      "text/plain": [
       "0.0"
      ]
     },
     "execution_count": 60,
     "metadata": {},
     "output_type": "execute_result"
    }
   ],
   "source": [
    "mod(angle((H1.data)[13,16])+angle((H1.data)[1,13])+angle((H1.data)[4,1])+angle((H1.data)[16,4]),2*pi)"
   ]
  },
  {
   "cell_type": "code",
   "execution_count": 50,
   "id": "2c4db556-54a8-4b73-850b-8b370f04b9e4",
   "metadata": {},
   "outputs": [
    {
     "data": {
      "text/plain": [
       "4.71238898038469"
      ]
     },
     "execution_count": 50,
     "metadata": {},
     "output_type": "execute_result"
    }
   ],
   "source": [
    "3*pi/2"
   ]
  },
  {
   "cell_type": "code",
   "execution_count": 51,
   "id": "9d7c0519-0012-4a8d-af92-64ea8a66ab8e",
   "metadata": {},
   "outputs": [
    {
     "data": {
      "text/plain": [
       "1.5707963267948966"
      ]
     },
     "execution_count": 51,
     "metadata": {},
     "output_type": "execute_result"
    }
   ],
   "source": [
    "(1/4)*2*pi"
   ]
  },
  {
   "cell_type": "code",
   "execution_count": 64,
   "id": "dabba147-5ce9-4b2a-9b96-6325b8533f37",
   "metadata": {},
   "outputs": [
    {
     "data": {
      "text/plain": [
       "16×2 transpose(::Matrix{Any}) with eltype Any:\n",
       " 0  0\n",
       " 1  0\n",
       " 2  0\n",
       " 3  0\n",
       " 0  1\n",
       " 1  1\n",
       " 2  1\n",
       " 3  1\n",
       " 0  2\n",
       " 1  2\n",
       " 2  2\n",
       " 3  2\n",
       " 0  3\n",
       " 1  3\n",
       " 2  3\n",
       " 3  3"
      ]
     },
     "execution_count": 64,
     "metadata": {},
     "output_type": "execute_result"
    }
   ],
   "source": [
    "lattice, coordinates = square_lattice(Nx,Ny)    \n",
    "coordinates"
   ]
  },
  {
   "cell_type": "code",
   "execution_count": 70,
   "id": "6dbbbcc6-fae6-48b4-b471-25e67ab7b28f",
   "metadata": {},
   "outputs": [
    {
     "data": {
      "text/plain": [
       "-0.49999999999999684 + 0.8660254037844405im"
      ]
     },
     "execution_count": 70,
     "metadata": {},
     "output_type": "execute_result"
    }
   ],
   "source": [
    "# coords[1,1]\n",
    "exp(2*pi*im*(p/q)*Ny*(coordinates[1,1]+Nx))"
   ]
  },
  {
   "cell_type": "code",
   "execution_count": 67,
   "id": "f2e1e2bb-836b-43e9-aff8-39e2467ca648",
   "metadata": {},
   "outputs": [
    {
     "data": {
      "text/plain": [
       "5.333333333333333"
      ]
     },
     "execution_count": 67,
     "metadata": {},
     "output_type": "execute_result"
    }
   ],
   "source": [
    "16/3"
   ]
  },
  {
   "cell_type": "code",
   "execution_count": 44,
   "id": "362d2d2f-d946-4eab-8261-20193763c69a",
   "metadata": {},
   "outputs": [
    {
     "data": {
      "text/plain": [
       "(1.5707963267948963, 3.141592653589793, 3.141592653589793, 3.1415926535897927)"
      ]
     },
     "execution_count": 44,
     "metadata": {},
     "output_type": "execute_result"
    }
   ],
   "source": [
    "angle((H1.data)[13,16]),angle((H1.data)[1,13]),angle((H1.data)[4,1]),angle((H1.data)[16,4])"
   ]
  },
  {
   "cell_type": "code",
   "execution_count": 35,
   "id": "6e5fc848-6d8e-434d-bd6c-c1242569d971",
   "metadata": {},
   "outputs": [
    {
     "data": {
      "text/plain": [
       "-3.141592653589793"
      ]
     },
     "execution_count": 35,
     "metadata": {},
     "output_type": "execute_result"
    }
   ],
   "source": [
    "angle((H1.data)[16,13])"
   ]
  },
  {
   "cell_type": "code",
   "execution_count": 5,
   "id": "e99c4112-9cd5-41e8-8e80-97de039631ad",
   "metadata": {
    "tags": []
   },
   "outputs": [
    {
     "data": {
      "text/plain": [
       "H_sub (generic function with 1 method)"
      ]
     },
     "execution_count": 5,
     "metadata": {},
     "output_type": "execute_result"
    }
   ],
   "source": [
    "function H_sub(N, Nx, Ny, p, q, H1, cut_off, sp_basis)\n",
    "    sub_states = get_sub_states(H1, cut_off)\n",
    "    basis_sub, P, Pt = get_projector_op(sub_states, sp_basis)\n",
    "    H1_sub = get_subspace_op(H1, P, Pt)\n",
    "    return H1_sub, basis_sub, P, Pt\n",
    "end"
   ]
  },
  {
   "cell_type": "code",
   "execution_count": 6,
   "id": "f75dec2b-c038-4b44-b4ff-7dffecdcd406",
   "metadata": {},
   "outputs": [
    {
     "ename": "LoadError",
     "evalue": "UndefVarError: `cut_off` not defined",
     "output_type": "error",
     "traceback": [
      "UndefVarError: `cut_off` not defined",
      "",
      "Stacktrace:",
      " [1] top-level scope",
      "   @ In[6]:1"
     ]
    }
   ],
   "source": [
    "H1_sub, basis_sub, P, Pt = H_sub(N, Nx, Ny, p, q, H1, cut_off, sp_basis);"
   ]
  },
  {
   "cell_type": "code",
   "execution_count": 7,
   "id": "adjustable-parliament",
   "metadata": {
    "editable": true,
    "slideshow": {
     "slide_type": ""
    },
    "tags": []
   },
   "outputs": [
    {
     "data": {
      "text/plain": [
       "H_Kin_MB (generic function with 1 method)"
      ]
     },
     "execution_count": 7,
     "metadata": {},
     "output_type": "execute_result"
    }
   ],
   "source": [
    "function H_Kin_MB(N, Nx, Ny, p, q, cut_off, PN)\n",
    "    states_mb = bosonstates(basis_sub, PN) \n",
    "    basis_mb = ManyBodyBasis(basis_sub, states_mb)\n",
    "    H1_MB = get_mb_op(basis_mb, H1_sub)\n",
    "    return H1_MB\n",
    "end"
   ]
  },
  {
   "cell_type": "code",
   "execution_count": 53,
   "id": "867b9c0a-9cb5-42d1-a8b1-0d10133763bd",
   "metadata": {
    "tags": []
   },
   "outputs": [],
   "source": [
    "@nbinclude(\"Hofstadter MB in Julia.ipynb\"; regex=r\"#.*executeme\");"
   ]
  },
  {
   "cell_type": "code",
   "execution_count": 54,
   "id": "5920b0e4-4039-42f0-9f48-f9597d85e659",
   "metadata": {
    "tags": []
   },
   "outputs": [
    {
     "data": {
      "text/plain": [
       "(ManyBody(onebodybasis=NLevel(N=5), states:21), NLevel(N=5))"
      ]
     },
     "execution_count": 54,
     "metadata": {},
     "output_type": "execute_result"
    }
   ],
   "source": [
    "basis_cut_mb, basis_cut_sp = get_Bosonic_MB_Basis(cut_off, PN)"
   ]
  },
  {
   "cell_type": "code",
   "execution_count": 55,
   "id": "3fa17c47-6fe9-4f8c-842f-871ad0b20be1",
   "metadata": {
    "tags": []
   },
   "outputs": [
    {
     "data": {
      "text/plain": [
       "H_Total_Sub (generic function with 1 method)"
      ]
     },
     "execution_count": 55,
     "metadata": {},
     "output_type": "execute_result"
    }
   ],
   "source": [
    "function H_Total_Sub(N, Nx, Ny, p, q, cut_off, PN, U, basis_cut_mb)\n",
    "    H_Kin = SparseOperator(basis_cut_mb)\n",
    "    H1_MB = H_Kin_MB(N, Nx, Ny, p, q, cut_off, PN)\n",
    "    H_Kin.data = H1_MB.data\n",
    "    H_Int = Hubbard_Interaction_op(P, Pt, basis_cut_mb, cut_off, U)\n",
    "    return H_Kin, H_Kin + H_Int\n",
    "end"
   ]
  },
  {
   "cell_type": "markdown",
   "id": "yellow-hamilton",
   "metadata": {},
   "source": [
    "# Sub Space Hubbard Interaction Term"
   ]
  },
  {
   "cell_type": "code",
   "execution_count": 56,
   "id": "cb8fb9df-b0a9-43db-8f4f-b78c9f1892d2",
   "metadata": {},
   "outputs": [
    {
     "name": "stderr",
     "output_type": "stream",
     "text": [
      "0.0%┣                                                ┫ 0/5 [00:00<00:00, -0s/it]\n",
      "100.0%┣████████████████████████████████████████████┫ 5/5 [00:00<00:00, 3.9kit/s]\n",
      "100.0%┣████████████████████████████████████████████┫ 5/5 [00:00<00:00, 3.8kit/s]\n"
     ]
    }
   ],
   "source": [
    "H_Kin, Total_H = H_Total_Sub(N, Nx, Ny, p, q, cut_off, PN, U, basis_cut_mb);"
   ]
  },
  {
   "cell_type": "markdown",
   "id": "lovely-tragedy",
   "metadata": {},
   "source": [
    "# Total Hamiltonian with Impurity Potential"
   ]
  },
  {
   "cell_type": "code",
   "execution_count": 57,
   "id": "db692d6f-227d-4738-b950-08e4d9d3d919",
   "metadata": {},
   "outputs": [
    {
     "data": {
      "image/png": "[encoded data removed]",
      "image/svg+xml": [
       "<?xml version=\"1.0\" encoding=\"utf-8\"?>\n",
       "<svg xmlns=\"http://www.w3.org/2000/svg\" xmlns:xlink=\"http://www.w3.org/1999/xlink\" width=\"600\" height=\"400\" viewBox=\"0 0 2400 1600\">\n",
       "<defs>\n",
       "  <clipPath id=\"clip820\">\n",
       "    <rect x=\"0\" y=\"0\" width=\"2400\" height=\"1600\"/>\n",
       "  </clipPath>\n",
       "</defs>\n",
       "<path clip-path=\"url(#clip820)\" d=\"M0 1600 L2400 1600 L2400 0 L0 0  Z\" fill=\"#ffffff\" fill-rule=\"evenodd\" fill-opacity=\"1\"/>\n",
       "<defs>\n",
       "  <clipPath id=\"clip821\">\n",
       "    <rect x=\"480\" y=\"0\" width=\"1681\" height=\"1600\"/>\n",
       "  </clipPath>\n",
       "</defs>\n",
       "<path clip-path=\"url(#clip820)\" d=\"M112.177 1486.45 L2352.76 1486.45 L2352.76 47.2441 L112.177 47.2441  Z\" fill=\"#ffffff\" fill-rule=\"evenodd\" fill-opacity=\"1\"/>\n",
       "<defs>\n",
       "  <clipPath id=\"clip822\">\n",
       "    <rect x=\"112\" y=\"47\" width=\"2242\" height=\"1440\"/>\n",
       "  </clipPath>\n",
       "</defs>\n",
       "<polyline clip-path=\"url(#clip822)\" style=\"stroke:#000000; stroke-linecap:round; stroke-linejoin:round; stroke-width:2; stroke-opacity:0.1; fill:none\" points=\"214.162,1486.45 214.162,47.2441 \"/>\n",
       "<polyline clip-path=\"url(#clip822)\" style=\"stroke:#000000; stroke-linecap:round; stroke-linejoin:round; stroke-width:2; stroke-opacity:0.1; fill:none\" points=\"553.597,1486.45 553.597,47.2441 \"/>\n",
       "<polyline clip-path=\"url(#clip822)\" style=\"stroke:#000000; stroke-linecap:round; stroke-linejoin:round; stroke-width:2; stroke-opacity:0.1; fill:none\" points=\"893.032,1486.45 893.032,47.2441 \"/>\n",
       "<polyline clip-path=\"url(#clip822)\" style=\"stroke:#000000; stroke-linecap:round; stroke-linejoin:round; stroke-width:2; stroke-opacity:0.1; fill:none\" points=\"1232.47,1486.45 1232.47,47.2441 \"/>\n",
       "<polyline clip-path=\"url(#clip822)\" style=\"stroke:#000000; stroke-linecap:round; stroke-linejoin:round; stroke-width:2; stroke-opacity:0.1; fill:none\" points=\"1571.9,1486.45 1571.9,47.2441 \"/>\n",
       "<polyline clip-path=\"url(#clip822)\" style=\"stroke:#000000; stroke-linecap:round; stroke-linejoin:round; stroke-width:2; stroke-opacity:0.1; fill:none\" points=\"1911.34,1486.45 1911.34,47.2441 \"/>\n",
       "<polyline clip-path=\"url(#clip822)\" style=\"stroke:#000000; stroke-linecap:round; stroke-linejoin:round; stroke-width:2; stroke-opacity:0.1; fill:none\" points=\"2250.77,1486.45 2250.77,47.2441 \"/>\n",
       "<polyline clip-path=\"url(#clip820)\" style=\"stroke:#000000; stroke-linecap:round; stroke-linejoin:round; stroke-width:4; stroke-opacity:1; fill:none\" points=\"112.177,1486.45 2352.76,1486.45 \"/>\n",
       "<polyline clip-path=\"url(#clip820)\" style=\"stroke:#000000; stroke-linecap:round; stroke-linejoin:round; stroke-width:4; stroke-opacity:1; fill:none\" points=\"214.162,1486.45 214.162,1467.55 \"/>\n",
       "<polyline clip-path=\"url(#clip820)\" style=\"stroke:#000000; stroke-linecap:round; stroke-linejoin:round; stroke-width:4; stroke-opacity:1; fill:none\" points=\"553.597,1486.45 553.597,1467.55 \"/>\n",
       "<polyline clip-path=\"url(#clip820)\" style=\"stroke:#000000; stroke-linecap:round; stroke-linejoin:round; stroke-width:4; stroke-opacity:1; fill:none\" points=\"893.032,1486.45 893.032,1467.55 \"/>\n",
       "<polyline clip-path=\"url(#clip820)\" style=\"stroke:#000000; stroke-linecap:round; stroke-linejoin:round; stroke-width:4; stroke-opacity:1; fill:none\" points=\"1232.47,1486.45 1232.47,1467.55 \"/>\n",
       "<polyline clip-path=\"url(#clip820)\" style=\"stroke:#000000; stroke-linecap:round; stroke-linejoin:round; stroke-width:4; stroke-opacity:1; fill:none\" points=\"1571.9,1486.45 1571.9,1467.55 \"/>\n",
       "<polyline clip-path=\"url(#clip820)\" style=\"stroke:#000000; stroke-linecap:round; stroke-linejoin:round; stroke-width:4; stroke-opacity:1; fill:none\" points=\"1911.34,1486.45 1911.34,1467.55 \"/>\n",
       "<polyline clip-path=\"url(#clip820)\" style=\"stroke:#000000; stroke-linecap:round; stroke-linejoin:round; stroke-width:4; stroke-opacity:1; fill:none\" points=\"2250.77,1486.45 2250.77,1467.55 \"/>\n",
       "<path clip-path=\"url(#clip820)\" d=\"M183.919 1532.02 L213.595 1532.02 L213.595 1535.95 L183.919 1535.95 L183.919 1532.02 Z\" fill=\"#000000\" fill-rule=\"nonzero\" fill-opacity=\"1\" /><path clip-path=\"url(#clip820)\" d=\"M224.498 1544.91 L232.136 1544.91 L232.136 1518.55 L223.826 1520.21 L223.826 1515.95 L232.09 1514.29 L236.766 1514.29 L236.766 1544.91 L244.405 1544.91 L244.405 1548.85 L224.498 1548.85 L224.498 1544.91 Z\" fill=\"#000000\" fill-rule=\"nonzero\" fill-opacity=\"1\" /><path clip-path=\"url(#clip820)\" d=\"M553.597 1517.37 Q549.986 1517.37 548.157 1520.93 Q546.352 1524.47 546.352 1531.6 Q546.352 1538.71 548.157 1542.27 Q549.986 1545.82 553.597 1545.82 Q557.231 1545.82 559.037 1542.27 Q560.865 1538.71 560.865 1531.6 Q560.865 1524.47 559.037 1520.93 Q557.231 1517.37 553.597 1517.37 M553.597 1513.66 Q559.407 1513.66 562.463 1518.27 Q565.541 1522.85 565.541 1531.6 Q565.541 1540.33 562.463 1544.94 Q559.407 1549.52 553.597 1549.52 Q547.787 1549.52 544.708 1544.94 Q541.652 1540.33 541.652 1531.6 Q541.652 1522.85 544.708 1518.27 Q547.787 1513.66 553.597 1513.66 Z\" fill=\"#000000\" fill-rule=\"nonzero\" fill-opacity=\"1\" /><path clip-path=\"url(#clip820)\" d=\"M883.414 1544.91 L891.053 1544.91 L891.053 1518.55 L882.742 1520.21 L882.742 1515.95 L891.006 1514.29 L895.682 1514.29 L895.682 1544.91 L903.321 1544.91 L903.321 1548.85 L883.414 1548.85 L883.414 1544.91 Z\" fill=\"#000000\" fill-rule=\"nonzero\" fill-opacity=\"1\" /><path clip-path=\"url(#clip820)\" d=\"M1227.12 1544.91 L1243.44 1544.91 L1243.44 1548.85 L1221.49 1548.85 L1221.49 1544.91 Q1224.16 1542.16 1228.74 1537.53 Q1233.35 1532.88 1234.53 1531.53 Q1236.77 1529.01 1237.65 1527.27 Q1238.55 1525.51 1238.55 1523.82 Q1238.55 1521.07 1236.61 1519.33 Q1234.69 1517.6 1231.59 1517.6 Q1229.39 1517.6 1226.93 1518.36 Q1224.5 1519.13 1221.73 1520.68 L1221.73 1515.95 Q1224.55 1514.82 1227 1514.24 Q1229.46 1513.66 1231.49 1513.66 Q1236.86 1513.66 1240.06 1516.35 Q1243.25 1519.03 1243.25 1523.52 Q1243.25 1525.65 1242.44 1527.57 Q1241.66 1529.47 1239.55 1532.07 Q1238.97 1532.74 1235.87 1535.95 Q1232.77 1539.15 1227.12 1544.91 Z\" fill=\"#000000\" fill-rule=\"nonzero\" fill-opacity=\"1\" /><path clip-path=\"url(#clip820)\" d=\"M1576.15 1530.21 Q1579.51 1530.93 1581.38 1533.2 Q1583.28 1535.47 1583.28 1538.8 Q1583.28 1543.92 1579.76 1546.72 Q1576.24 1549.52 1569.76 1549.52 Q1567.58 1549.52 1565.27 1549.08 Q1562.98 1548.66 1560.52 1547.81 L1560.52 1543.29 Q1562.47 1544.43 1564.78 1545.01 Q1567.1 1545.58 1569.62 1545.58 Q1574.02 1545.58 1576.31 1543.85 Q1578.63 1542.11 1578.63 1538.8 Q1578.63 1535.75 1576.47 1534.03 Q1574.34 1532.3 1570.52 1532.3 L1566.5 1532.3 L1566.5 1528.45 L1570.71 1528.45 Q1574.16 1528.45 1575.99 1527.09 Q1577.82 1525.7 1577.82 1523.11 Q1577.82 1520.45 1575.92 1519.03 Q1574.04 1517.6 1570.52 1517.6 Q1568.6 1517.6 1566.4 1518.01 Q1564.2 1518.43 1561.57 1519.31 L1561.57 1515.14 Q1564.23 1514.4 1566.54 1514.03 Q1568.88 1513.66 1570.94 1513.66 Q1576.26 1513.66 1579.37 1516.09 Q1582.47 1518.5 1582.47 1522.62 Q1582.47 1525.49 1580.82 1527.48 Q1579.18 1529.45 1576.15 1530.21 Z\" fill=\"#000000\" fill-rule=\"nonzero\" fill-opacity=\"1\" /><path clip-path=\"url(#clip820)\" d=\"M1914.35 1518.36 L1902.54 1536.81 L1914.35 1536.81 L1914.35 1518.36 M1913.12 1514.29 L1919 1514.29 L1919 1536.81 L1923.93 1536.81 L1923.93 1540.7 L1919 1540.7 L1919 1548.85 L1914.35 1548.85 L1914.35 1540.7 L1898.74 1540.7 L1898.74 1536.19 L1913.12 1514.29 Z\" fill=\"#000000\" fill-rule=\"nonzero\" fill-opacity=\"1\" /><path clip-path=\"url(#clip820)\" d=\"M2241.05 1514.29 L2259.41 1514.29 L2259.41 1518.22 L2245.33 1518.22 L2245.33 1526.7 Q2246.35 1526.35 2247.37 1526.19 Q2248.39 1526 2249.41 1526 Q2255.19 1526 2258.57 1529.17 Q2261.95 1532.34 2261.95 1537.76 Q2261.95 1543.34 2258.48 1546.44 Q2255.01 1549.52 2248.69 1549.52 Q2246.51 1549.52 2244.24 1549.15 Q2242 1548.78 2239.59 1548.04 L2239.59 1543.34 Q2241.67 1544.47 2243.9 1545.03 Q2246.12 1545.58 2248.6 1545.58 Q2252.6 1545.58 2254.94 1543.48 Q2257.28 1541.37 2257.28 1537.76 Q2257.28 1534.15 2254.94 1532.04 Q2252.6 1529.94 2248.6 1529.94 Q2246.72 1529.94 2244.85 1530.35 Q2242.99 1530.77 2241.05 1531.65 L2241.05 1514.29 Z\" fill=\"#000000\" fill-rule=\"nonzero\" fill-opacity=\"1\" /><polyline clip-path=\"url(#clip822)\" style=\"stroke:#000000; stroke-linecap:round; stroke-linejoin:round; stroke-width:2; stroke-opacity:0.1; fill:none\" points=\"112.177,1445.72 2352.76,1445.72 \"/>\n",
       "<polyline clip-path=\"url(#clip822)\" style=\"stroke:#000000; stroke-linecap:round; stroke-linejoin:round; stroke-width:2; stroke-opacity:0.1; fill:none\" points=\"112.177,1106.28 2352.76,1106.28 \"/>\n",
       "<polyline clip-path=\"url(#clip822)\" style=\"stroke:#000000; stroke-linecap:round; stroke-linejoin:round; stroke-width:2; stroke-opacity:0.1; fill:none\" points=\"112.177,766.846 2352.76,766.846 \"/>\n",
       "<polyline clip-path=\"url(#clip822)\" style=\"stroke:#000000; stroke-linecap:round; stroke-linejoin:round; stroke-width:2; stroke-opacity:0.1; fill:none\" points=\"112.177,427.411 2352.76,427.411 \"/>\n",
       "<polyline clip-path=\"url(#clip822)\" style=\"stroke:#000000; stroke-linecap:round; stroke-linejoin:round; stroke-width:2; stroke-opacity:0.1; fill:none\" points=\"112.177,87.9763 2352.76,87.9763 \"/>\n",
       "<polyline clip-path=\"url(#clip820)\" style=\"stroke:#000000; stroke-linecap:round; stroke-linejoin:round; stroke-width:4; stroke-opacity:1; fill:none\" points=\"112.177,1486.45 112.177,47.2441 \"/>\n",
       "<polyline clip-path=\"url(#clip820)\" style=\"stroke:#000000; stroke-linecap:round; stroke-linejoin:round; stroke-width:4; stroke-opacity:1; fill:none\" points=\"112.177,1445.72 131.075,1445.72 \"/>\n",
       "<polyline clip-path=\"url(#clip820)\" style=\"stroke:#000000; stroke-linecap:round; stroke-linejoin:round; stroke-width:4; stroke-opacity:1; fill:none\" points=\"112.177,1106.28 131.075,1106.28 \"/>\n",
       "<polyline clip-path=\"url(#clip820)\" style=\"stroke:#000000; stroke-linecap:round; stroke-linejoin:round; stroke-width:4; stroke-opacity:1; fill:none\" points=\"112.177,766.846 131.075,766.846 \"/>\n",
       "<polyline clip-path=\"url(#clip820)\" style=\"stroke:#000000; stroke-linecap:round; stroke-linejoin:round; stroke-width:4; stroke-opacity:1; fill:none\" points=\"112.177,427.411 131.075,427.411 \"/>\n",
       "<polyline clip-path=\"url(#clip820)\" style=\"stroke:#000000; stroke-linecap:round; stroke-linejoin:round; stroke-width:4; stroke-opacity:1; fill:none\" points=\"112.177,87.9763 131.075,87.9763 \"/>\n",
       "<path clip-path=\"url(#clip820)\" d=\"M64.2328 1431.51 Q60.6217 1431.51 58.793 1435.08 Q56.9875 1438.62 56.9875 1445.75 Q56.9875 1452.86 58.793 1456.42 Q60.6217 1459.96 64.2328 1459.96 Q67.867 1459.96 69.6726 1456.42 Q71.5013 1452.86 71.5013 1445.75 Q71.5013 1438.62 69.6726 1435.08 Q67.867 1431.51 64.2328 1431.51 M64.2328 1427.81 Q70.0429 1427.81 73.0985 1432.42 Q76.1772 1437 76.1772 1445.75 Q76.1772 1454.48 73.0985 1459.08 Q70.0429 1463.67 64.2328 1463.67 Q58.4226 1463.67 55.344 1459.08 Q52.2884 1454.48 52.2884 1445.75 Q52.2884 1437 55.344 1432.42 Q58.4226 1427.81 64.2328 1427.81 Z\" fill=\"#000000\" fill-rule=\"nonzero\" fill-opacity=\"1\" /><path clip-path=\"url(#clip820)\" d=\"M56.2699 1119.63 L63.9087 1119.63 L63.9087 1093.26 L55.5986 1094.93 L55.5986 1090.67 L63.8624 1089 L68.5383 1089 L68.5383 1119.63 L76.1772 1119.63 L76.1772 1123.56 L56.2699 1123.56 L56.2699 1119.63 Z\" fill=\"#000000\" fill-rule=\"nonzero\" fill-opacity=\"1\" /><path clip-path=\"url(#clip820)\" d=\"M59.8578 780.191 L76.1772 780.191 L76.1772 784.126 L54.2328 784.126 L54.2328 780.191 Q56.8949 777.436 61.4782 772.807 Q66.0846 768.154 67.2652 766.811 Q69.5105 764.288 70.3902 762.552 Q71.2929 760.793 71.2929 759.103 Q71.2929 756.348 69.3485 754.612 Q67.4272 752.876 64.3254 752.876 Q62.1263 752.876 59.6726 753.64 Q57.2421 754.404 54.4643 755.955 L54.4643 751.233 Q57.2884 750.098 59.7421 749.52 Q62.1958 748.941 64.2328 748.941 Q69.6031 748.941 72.7976 751.626 Q75.992 754.311 75.992 758.802 Q75.992 760.932 75.1818 762.853 Q74.3948 764.751 72.2883 767.344 Q71.7096 768.015 68.6078 771.233 Q65.5059 774.427 59.8578 780.191 Z\" fill=\"#000000\" fill-rule=\"nonzero\" fill-opacity=\"1\" /><path clip-path=\"url(#clip820)\" d=\"M69.0476 426.057 Q72.404 426.775 74.279 429.043 Q76.1772 431.312 76.1772 434.645 Q76.1772 439.761 72.6587 442.562 Q69.1402 445.362 62.6587 445.362 Q60.4828 445.362 58.168 444.923 Q55.8764 444.506 53.4227 443.649 L53.4227 439.136 Q55.3671 440.27 57.6819 440.849 Q59.9967 441.427 62.5198 441.427 Q66.918 441.427 69.2096 439.691 Q71.5244 437.955 71.5244 434.645 Q71.5244 431.589 69.3717 429.876 Q67.242 428.14 63.4226 428.14 L59.3949 428.14 L59.3949 424.298 L63.6078 424.298 Q67.0569 424.298 68.8855 422.932 Q70.7142 421.543 70.7142 418.951 Q70.7142 416.289 68.8161 414.876 Q66.9411 413.441 63.4226 413.441 Q61.5013 413.441 59.3023 413.858 Q57.1032 414.275 54.4643 415.154 L54.4643 410.988 Q57.1264 410.247 59.4412 409.877 Q61.7791 409.506 63.8393 409.506 Q69.1633 409.506 72.2652 411.937 Q75.367 414.344 75.367 418.464 Q75.367 421.335 73.7235 423.326 Q72.08 425.293 69.0476 426.057 Z\" fill=\"#000000\" fill-rule=\"nonzero\" fill-opacity=\"1\" /><path clip-path=\"url(#clip820)\" d=\"M66.5939 74.7703 L54.7884 93.2193 L66.5939 93.2193 L66.5939 74.7703 M65.367 70.6963 L71.2466 70.6963 L71.2466 93.2193 L76.1772 93.2193 L76.1772 97.1082 L71.2466 97.1082 L71.2466 105.256 L66.5939 105.256 L66.5939 97.1082 L50.9921 97.1082 L50.9921 92.5943 L65.367 70.6963 Z\" fill=\"#000000\" fill-rule=\"nonzero\" fill-opacity=\"1\" /><circle clip-path=\"url(#clip822)\" cx=\"553.597\" cy=\"1445.72\" r=\"14.4\" fill=\"#009af9\" fill-rule=\"evenodd\" fill-opacity=\"1\" stroke=\"#000000\" stroke-opacity=\"1\" stroke-width=\"3.2\"/>\n",
       "<circle clip-path=\"url(#clip822)\" cx=\"893.032\" cy=\"1445.72\" r=\"14.4\" fill=\"#009af9\" fill-rule=\"evenodd\" fill-opacity=\"1\" stroke=\"#000000\" stroke-opacity=\"1\" stroke-width=\"3.2\"/>\n",
       "<circle clip-path=\"url(#clip822)\" cx=\"1232.47\" cy=\"1445.72\" r=\"14.4\" fill=\"#009af9\" fill-rule=\"evenodd\" fill-opacity=\"1\" stroke=\"#000000\" stroke-opacity=\"1\" stroke-width=\"3.2\"/>\n",
       "<circle clip-path=\"url(#clip822)\" cx=\"1571.9\" cy=\"1445.72\" r=\"14.4\" fill=\"#009af9\" fill-rule=\"evenodd\" fill-opacity=\"1\" stroke=\"#000000\" stroke-opacity=\"1\" stroke-width=\"3.2\"/>\n",
       "<circle clip-path=\"url(#clip822)\" cx=\"1911.34\" cy=\"1445.72\" r=\"14.4\" fill=\"#009af9\" fill-rule=\"evenodd\" fill-opacity=\"1\" stroke=\"#000000\" stroke-opacity=\"1\" stroke-width=\"3.2\"/>\n",
       "<circle clip-path=\"url(#clip822)\" cx=\"553.597\" cy=\"1106.28\" r=\"14.4\" fill=\"#009af9\" fill-rule=\"evenodd\" fill-opacity=\"1\" stroke=\"#000000\" stroke-opacity=\"1\" stroke-width=\"3.2\"/>\n",
       "<circle clip-path=\"url(#clip822)\" cx=\"893.032\" cy=\"1106.28\" r=\"14.4\" fill=\"#009af9\" fill-rule=\"evenodd\" fill-opacity=\"1\" stroke=\"#000000\" stroke-opacity=\"1\" stroke-width=\"3.2\"/>\n",
       "<circle clip-path=\"url(#clip822)\" cx=\"1232.47\" cy=\"1106.28\" r=\"14.4\" fill=\"#009af9\" fill-rule=\"evenodd\" fill-opacity=\"1\" stroke=\"#000000\" stroke-opacity=\"1\" stroke-width=\"3.2\"/>\n",
       "<circle clip-path=\"url(#clip822)\" cx=\"1571.9\" cy=\"1106.28\" r=\"14.4\" fill=\"#009af9\" fill-rule=\"evenodd\" fill-opacity=\"1\" stroke=\"#000000\" stroke-opacity=\"1\" stroke-width=\"3.2\"/>\n",
       "<circle clip-path=\"url(#clip822)\" cx=\"1911.34\" cy=\"1106.28\" r=\"14.4\" fill=\"#009af9\" fill-rule=\"evenodd\" fill-opacity=\"1\" stroke=\"#000000\" stroke-opacity=\"1\" stroke-width=\"3.2\"/>\n",
       "<circle clip-path=\"url(#clip822)\" cx=\"553.597\" cy=\"766.846\" r=\"14.4\" fill=\"#009af9\" fill-rule=\"evenodd\" fill-opacity=\"1\" stroke=\"#000000\" stroke-opacity=\"1\" stroke-width=\"3.2\"/>\n",
       "<circle clip-path=\"url(#clip822)\" cx=\"893.032\" cy=\"766.846\" r=\"14.4\" fill=\"#009af9\" fill-rule=\"evenodd\" fill-opacity=\"1\" stroke=\"#000000\" stroke-opacity=\"1\" stroke-width=\"3.2\"/>\n",
       "<circle clip-path=\"url(#clip822)\" cx=\"1232.47\" cy=\"766.846\" r=\"14.4\" fill=\"#009af9\" fill-rule=\"evenodd\" fill-opacity=\"1\" stroke=\"#000000\" stroke-opacity=\"1\" stroke-width=\"3.2\"/>\n",
       "<circle clip-path=\"url(#clip822)\" cx=\"1571.9\" cy=\"766.846\" r=\"14.4\" fill=\"#009af9\" fill-rule=\"evenodd\" fill-opacity=\"1\" stroke=\"#000000\" stroke-opacity=\"1\" stroke-width=\"3.2\"/>\n",
       "<circle clip-path=\"url(#clip822)\" cx=\"1911.34\" cy=\"766.846\" r=\"14.4\" fill=\"#009af9\" fill-rule=\"evenodd\" fill-opacity=\"1\" stroke=\"#000000\" stroke-opacity=\"1\" stroke-width=\"3.2\"/>\n",
       "<circle clip-path=\"url(#clip822)\" cx=\"553.597\" cy=\"427.411\" r=\"14.4\" fill=\"#009af9\" fill-rule=\"evenodd\" fill-opacity=\"1\" stroke=\"#000000\" stroke-opacity=\"1\" stroke-width=\"3.2\"/>\n",
       "<circle clip-path=\"url(#clip822)\" cx=\"893.032\" cy=\"427.411\" r=\"14.4\" fill=\"#009af9\" fill-rule=\"evenodd\" fill-opacity=\"1\" stroke=\"#000000\" stroke-opacity=\"1\" stroke-width=\"3.2\"/>\n",
       "<circle clip-path=\"url(#clip822)\" cx=\"1232.47\" cy=\"427.411\" r=\"14.4\" fill=\"#009af9\" fill-rule=\"evenodd\" fill-opacity=\"1\" stroke=\"#000000\" stroke-opacity=\"1\" stroke-width=\"3.2\"/>\n",
       "<circle clip-path=\"url(#clip822)\" cx=\"1571.9\" cy=\"427.411\" r=\"14.4\" fill=\"#009af9\" fill-rule=\"evenodd\" fill-opacity=\"1\" stroke=\"#000000\" stroke-opacity=\"1\" stroke-width=\"3.2\"/>\n",
       "<circle clip-path=\"url(#clip822)\" cx=\"1911.34\" cy=\"427.411\" r=\"14.4\" fill=\"#009af9\" fill-rule=\"evenodd\" fill-opacity=\"1\" stroke=\"#000000\" stroke-opacity=\"1\" stroke-width=\"3.2\"/>\n",
       "<circle clip-path=\"url(#clip822)\" cx=\"553.597\" cy=\"87.9763\" r=\"14.4\" fill=\"#009af9\" fill-rule=\"evenodd\" fill-opacity=\"1\" stroke=\"#000000\" stroke-opacity=\"1\" stroke-width=\"3.2\"/>\n",
       "<circle clip-path=\"url(#clip822)\" cx=\"893.032\" cy=\"87.9763\" r=\"14.4\" fill=\"#009af9\" fill-rule=\"evenodd\" fill-opacity=\"1\" stroke=\"#000000\" stroke-opacity=\"1\" stroke-width=\"3.2\"/>\n",
       "<circle clip-path=\"url(#clip822)\" cx=\"1232.47\" cy=\"87.9763\" r=\"14.4\" fill=\"#009af9\" fill-rule=\"evenodd\" fill-opacity=\"1\" stroke=\"#000000\" stroke-opacity=\"1\" stroke-width=\"3.2\"/>\n",
       "<circle clip-path=\"url(#clip822)\" cx=\"1571.9\" cy=\"87.9763\" r=\"14.4\" fill=\"#009af9\" fill-rule=\"evenodd\" fill-opacity=\"1\" stroke=\"#000000\" stroke-opacity=\"1\" stroke-width=\"3.2\"/>\n",
       "<circle clip-path=\"url(#clip822)\" cx=\"1911.34\" cy=\"87.9763\" r=\"14.4\" fill=\"#009af9\" fill-rule=\"evenodd\" fill-opacity=\"1\" stroke=\"#000000\" stroke-opacity=\"1\" stroke-width=\"3.2\"/>\n",
       "<path clip-path=\"url(#clip820)\" d=\"M536.765 1420.69 L550.133 1420.69 L550.133 1374.55 L535.591 1377.46 L535.591 1370.01 L550.052 1367.09 L558.235 1367.09 L558.235 1420.69 L571.603 1420.69 L571.603 1427.57 L536.765 1427.57 L536.765 1420.69 Z\" fill=\"#000000\" fill-rule=\"nonzero\" fill-opacity=\"1\" /><path clip-path=\"url(#clip820)\" d=\"M883.674 1420.69 L912.233 1420.69 L912.233 1427.57 L873.83 1427.57 L873.83 1420.69 Q878.489 1415.86 886.51 1407.76 Q894.571 1399.62 896.637 1397.27 Q900.566 1392.86 902.106 1389.82 Q903.686 1386.74 903.686 1383.78 Q903.686 1378.96 900.283 1375.92 Q896.921 1372.88 891.492 1372.88 Q887.644 1372.88 883.35 1374.22 Q879.097 1375.56 874.235 1378.27 L874.235 1370.01 Q879.178 1368.02 883.472 1367.01 Q887.766 1366 891.33 1366 Q900.728 1366 906.319 1370.7 Q911.909 1375.4 911.909 1383.25 Q911.909 1386.98 910.491 1390.34 Q909.114 1393.67 905.427 1398.2 Q904.415 1399.38 898.987 1405.01 Q893.558 1410.6 883.674 1420.69 Z\" fill=\"#000000\" fill-rule=\"nonzero\" fill-opacity=\"1\" /><path clip-path=\"url(#clip820)\" d=\"M1239.9 1394.96 Q1245.77 1396.22 1249.05 1400.19 Q1252.38 1404.16 1252.38 1409.99 Q1252.38 1418.94 1246.22 1423.84 Q1240.06 1428.75 1228.72 1428.75 Q1224.91 1428.75 1220.86 1427.98 Q1216.85 1427.25 1212.56 1425.75 L1212.56 1417.85 Q1215.96 1419.83 1220.01 1420.85 Q1224.06 1421.86 1228.48 1421.86 Q1236.17 1421.86 1240.18 1418.82 Q1244.23 1415.78 1244.23 1409.99 Q1244.23 1404.64 1240.47 1401.65 Q1236.74 1398.61 1230.06 1398.61 L1223.01 1398.61 L1223.01 1391.88 L1230.38 1391.88 Q1236.42 1391.88 1239.62 1389.49 Q1242.82 1387.06 1242.82 1382.53 Q1242.82 1377.87 1239.49 1375.4 Q1236.21 1372.88 1230.06 1372.88 Q1226.69 1372.88 1222.85 1373.61 Q1219 1374.34 1214.38 1375.88 L1214.38 1368.59 Q1219.04 1367.29 1223.09 1366.65 Q1227.18 1366 1230.79 1366 Q1240.1 1366 1245.53 1370.25 Q1250.96 1374.46 1250.96 1381.67 Q1250.96 1386.7 1248.08 1390.18 Q1245.21 1393.63 1239.9 1394.96 Z\" fill=\"#000000\" fill-rule=\"nonzero\" fill-opacity=\"1\" /><path clip-path=\"url(#clip820)\" d=\"M1577.17 1374.22 L1556.51 1406.51 L1577.17 1406.51 L1577.17 1374.22 M1575.02 1367.09 L1585.31 1367.09 L1585.31 1406.51 L1593.94 1406.51 L1593.94 1413.31 L1585.31 1413.31 L1585.31 1427.57 L1577.17 1427.57 L1577.17 1413.31 L1549.86 1413.31 L1549.86 1405.41 L1575.02 1367.09 Z\" fill=\"#000000\" fill-rule=\"nonzero\" fill-opacity=\"1\" /><path clip-path=\"url(#clip820)\" d=\"M1894.32 1367.09 L1926.45 1367.09 L1926.45 1373.98 L1901.82 1373.98 L1901.82 1388.8 Q1903.6 1388.2 1905.38 1387.91 Q1907.16 1387.59 1908.95 1387.59 Q1919.07 1387.59 1924.99 1393.14 Q1930.9 1398.69 1930.9 1408.17 Q1930.9 1417.93 1924.83 1423.36 Q1918.75 1428.75 1907.69 1428.75 Q1903.88 1428.75 1899.91 1428.1 Q1895.98 1427.45 1891.77 1426.15 L1891.77 1417.93 Q1895.42 1419.92 1899.31 1420.89 Q1903.19 1421.86 1907.53 1421.86 Q1914.54 1421.86 1918.63 1418.17 Q1922.72 1414.49 1922.72 1408.17 Q1922.72 1401.85 1918.63 1398.16 Q1914.54 1394.48 1907.53 1394.48 Q1904.25 1394.48 1900.97 1395.2 Q1897.73 1395.93 1894.32 1397.47 L1894.32 1367.09 Z\" fill=\"#000000\" fill-rule=\"nonzero\" fill-opacity=\"1\" /><path clip-path=\"url(#clip820)\" d=\"M554.306 1054.64 Q548.797 1054.64 545.556 1058.4 Q542.356 1062.17 542.356 1068.73 Q542.356 1075.25 545.556 1079.06 Q548.797 1082.83 554.306 1082.83 Q559.815 1082.83 563.015 1079.06 Q566.256 1075.25 566.256 1068.73 Q566.256 1062.17 563.015 1058.4 Q559.815 1054.64 554.306 1054.64 M570.55 1028.99 L570.55 1036.45 Q567.471 1034.99 564.311 1034.22 Q561.192 1033.45 558.114 1033.45 Q550.012 1033.45 545.718 1038.92 Q541.464 1044.39 540.857 1055.45 Q543.247 1051.92 546.852 1050.06 Q550.457 1048.15 554.792 1048.15 Q563.906 1048.15 569.173 1053.7 Q574.479 1059.21 574.479 1068.73 Q574.479 1078.05 568.97 1083.68 Q563.461 1089.31 554.306 1089.31 Q543.814 1089.31 538.264 1081.29 Q532.714 1073.23 532.714 1057.96 Q532.714 1043.62 539.52 1035.11 Q546.325 1026.56 557.79 1026.56 Q560.868 1026.56 563.987 1027.17 Q567.147 1027.78 570.55 1028.99 Z\" fill=\"#000000\" fill-rule=\"nonzero\" fill-opacity=\"1\" /><path clip-path=\"url(#clip820)\" d=\"M873.587 1027.66 L912.476 1027.66 L912.476 1031.14 L890.52 1088.14 L881.973 1088.14 L902.632 1034.54 L873.587 1034.54 L873.587 1027.66 Z\" fill=\"#000000\" fill-rule=\"nonzero\" fill-opacity=\"1\" /><path clip-path=\"url(#clip820)\" d=\"M1232.47 1059.42 Q1226.63 1059.42 1223.27 1062.54 Q1219.95 1065.65 1219.95 1071.12 Q1219.95 1076.59 1223.27 1079.71 Q1226.63 1082.83 1232.47 1082.83 Q1238.3 1082.83 1241.66 1079.71 Q1245.02 1076.55 1245.02 1071.12 Q1245.02 1065.65 1241.66 1062.54 Q1238.34 1059.42 1232.47 1059.42 M1224.28 1055.93 Q1219.02 1054.64 1216.06 1051.03 Q1213.14 1047.43 1213.14 1042.24 Q1213.14 1034.99 1218.29 1030.78 Q1223.47 1026.56 1232.47 1026.56 Q1241.5 1026.56 1246.64 1030.78 Q1251.79 1034.99 1251.79 1042.24 Q1251.79 1047.43 1248.83 1051.03 Q1245.92 1054.64 1240.69 1055.93 Q1246.6 1057.31 1249.89 1061.32 Q1253.21 1065.33 1253.21 1071.12 Q1253.21 1079.91 1247.82 1084.61 Q1242.47 1089.31 1232.47 1089.31 Q1222.46 1089.31 1217.07 1084.61 Q1211.73 1079.91 1211.73 1071.12 Q1211.73 1065.33 1215.05 1061.32 Q1218.37 1057.31 1224.28 1055.93 M1221.29 1043.01 Q1221.29 1047.71 1224.2 1050.34 Q1227.16 1052.97 1232.47 1052.97 Q1237.73 1052.97 1240.69 1050.34 Q1243.69 1047.71 1243.69 1043.01 Q1243.69 1038.31 1240.69 1035.68 Q1237.73 1033.04 1232.47 1033.04 Q1227.16 1033.04 1224.2 1035.68 Q1221.29 1038.31 1221.29 1043.01 Z\" fill=\"#000000\" fill-rule=\"nonzero\" fill-opacity=\"1\" /><path clip-path=\"url(#clip820)\" d=\"M1554.93 1086.88 L1554.93 1079.43 Q1558.01 1080.89 1561.17 1081.66 Q1564.33 1082.43 1567.36 1082.43 Q1575.47 1082.43 1579.72 1077 Q1584.01 1071.53 1584.62 1060.43 Q1582.27 1063.91 1578.67 1065.78 Q1575.06 1067.64 1570.69 1067.64 Q1561.61 1067.64 1556.31 1062.17 Q1551.04 1056.66 1551.04 1047.14 Q1551.04 1037.82 1556.55 1032.19 Q1562.06 1026.56 1571.21 1026.56 Q1581.7 1026.56 1587.21 1034.62 Q1592.76 1042.65 1592.76 1057.96 Q1592.76 1072.26 1585.96 1080.8 Q1579.19 1089.31 1567.73 1089.31 Q1564.65 1089.31 1561.49 1088.7 Q1558.33 1088.1 1554.93 1086.88 M1571.21 1061.24 Q1576.72 1061.24 1579.92 1057.47 Q1583.16 1053.7 1583.16 1047.14 Q1583.16 1040.62 1579.92 1036.85 Q1576.72 1033.04 1571.21 1033.04 Q1565.7 1033.04 1562.46 1036.85 Q1559.26 1040.62 1559.26 1047.14 Q1559.26 1053.7 1562.46 1057.47 Q1565.7 1061.24 1571.21 1061.24 Z\" fill=\"#000000\" fill-rule=\"nonzero\" fill-opacity=\"1\" /><path clip-path=\"url(#clip820)\" d=\"M1867.04 1081.25 L1880.41 1081.25 L1880.41 1035.11 L1865.86 1038.03 L1865.86 1030.57 L1880.33 1027.66 L1888.51 1027.66 L1888.51 1081.25 L1901.88 1081.25 L1901.88 1088.14 L1867.04 1088.14 L1867.04 1081.25 Z\" fill=\"#000000\" fill-rule=\"nonzero\" fill-opacity=\"1\" /><path clip-path=\"url(#clip820)\" d=\"M1935.9 1033.04 Q1929.59 1033.04 1926.39 1039.28 Q1923.23 1045.48 1923.23 1057.96 Q1923.23 1070.39 1926.39 1076.63 Q1929.59 1082.83 1935.9 1082.83 Q1942.26 1082.83 1945.42 1076.63 Q1948.62 1070.39 1948.62 1057.96 Q1948.62 1045.48 1945.42 1039.28 Q1942.26 1033.04 1935.9 1033.04 M1935.9 1026.56 Q1946.07 1026.56 1951.42 1034.62 Q1956.81 1042.65 1956.81 1057.96 Q1956.81 1073.23 1951.42 1081.29 Q1946.07 1089.31 1935.9 1089.31 Q1925.74 1089.31 1920.35 1081.29 Q1915 1073.23 1915 1057.96 Q1915 1042.65 1920.35 1034.62 Q1925.74 1026.56 1935.9 1026.56 Z\" fill=\"#000000\" fill-rule=\"nonzero\" fill-opacity=\"1\" /><path clip-path=\"url(#clip820)\" d=\"M510.374 741.815 L523.742 741.815 L523.742 695.676 L509.199 698.592 L509.199 691.139 L523.661 688.222 L531.843 688.222 L531.843 741.815 L545.211 741.815 L545.211 748.702 L510.374 748.702 L510.374 741.815 Z\" fill=\"#000000\" fill-rule=\"nonzero\" fill-opacity=\"1\" /><path clip-path=\"url(#clip820)\" d=\"M563.157 741.815 L576.525 741.815 L576.525 695.676 L561.982 698.592 L561.982 691.139 L576.444 688.222 L584.627 688.222 L584.627 741.815 L597.995 741.815 L597.995 748.702 L563.157 748.702 L563.157 741.815 Z\" fill=\"#000000\" fill-rule=\"nonzero\" fill-opacity=\"1\" /><path clip-path=\"url(#clip820)\" d=\"M850.133 741.815 L863.501 741.815 L863.501 695.676 L848.958 698.592 L848.958 691.139 L863.42 688.222 L871.602 688.222 L871.602 741.815 L884.97 741.815 L884.97 748.702 L850.133 748.702 L850.133 741.815 Z\" fill=\"#000000\" fill-rule=\"nonzero\" fill-opacity=\"1\" /><path clip-path=\"url(#clip820)\" d=\"M908.547 741.815 L937.106 741.815 L937.106 748.702 L898.703 748.702 L898.703 741.815 Q903.361 736.995 911.382 728.893 Q919.444 720.751 921.51 718.401 Q925.439 713.986 926.978 710.948 Q928.558 707.869 928.558 704.912 Q928.558 700.091 925.155 697.053 Q921.793 694.015 916.365 694.015 Q912.517 694.015 908.223 695.352 Q903.969 696.688 899.108 699.402 L899.108 691.139 Q904.05 689.154 908.344 688.141 Q912.638 687.128 916.203 687.128 Q925.601 687.128 931.191 691.827 Q936.781 696.526 936.781 704.385 Q936.781 708.112 935.364 711.474 Q933.986 714.796 930.3 719.333 Q929.287 720.508 923.859 726.138 Q918.431 731.729 908.547 741.815 Z\" fill=\"#000000\" fill-rule=\"nonzero\" fill-opacity=\"1\" /><path clip-path=\"url(#clip820)\" d=\"M1188.74 741.815 L1202.11 741.815 L1202.11 695.676 L1187.56 698.592 L1187.56 691.139 L1202.02 688.222 L1210.21 688.222 L1210.21 741.815 L1223.57 741.815 L1223.57 748.702 L1188.74 748.702 L1188.74 741.815 Z\" fill=\"#000000\" fill-rule=\"nonzero\" fill-opacity=\"1\" /><path clip-path=\"url(#clip820)\" d=\"M1264.89 716.092 Q1270.77 717.348 1274.05 721.318 Q1277.37 725.288 1277.37 731.121 Q1277.37 740.074 1271.21 744.975 Q1265.06 749.877 1253.71 749.877 Q1249.91 749.877 1245.85 749.107 Q1241.84 748.378 1237.55 746.879 L1237.55 738.98 Q1240.95 740.965 1245 741.977 Q1249.05 742.99 1253.47 742.99 Q1261.17 742.99 1265.18 739.952 Q1269.23 736.914 1269.23 731.121 Q1269.23 725.774 1265.46 722.776 Q1261.73 719.738 1255.05 719.738 L1248 719.738 L1248 713.014 L1255.37 713.014 Q1261.41 713.014 1264.61 710.623 Q1267.81 708.193 1267.81 703.656 Q1267.81 698.997 1264.49 696.526 Q1261.21 694.015 1255.05 694.015 Q1251.69 694.015 1247.84 694.744 Q1243.99 695.473 1239.37 697.012 L1239.37 689.721 Q1244.03 688.425 1248.08 687.776 Q1252.17 687.128 1255.78 687.128 Q1265.1 687.128 1270.52 691.382 Q1275.95 695.595 1275.95 702.805 Q1275.95 707.828 1273.08 711.312 Q1270.2 714.755 1264.89 716.092 Z\" fill=\"#000000\" fill-rule=\"nonzero\" fill-opacity=\"1\" /><path clip-path=\"url(#clip820)\" d=\"M1527.18 741.815 L1540.55 741.815 L1540.55 695.676 L1526 698.592 L1526 691.139 L1540.47 688.222 L1548.65 688.222 L1548.65 741.815 L1562.02 741.815 L1562.02 748.702 L1527.18 748.702 L1527.18 741.815 Z\" fill=\"#000000\" fill-rule=\"nonzero\" fill-opacity=\"1\" /><path clip-path=\"url(#clip820)\" d=\"M1601.03 695.352 L1580.37 727.637 L1601.03 727.637 L1601.03 695.352 M1598.88 688.222 L1609.17 688.222 L1609.17 727.637 L1617.8 727.637 L1617.8 734.443 L1609.17 734.443 L1609.17 748.702 L1601.03 748.702 L1601.03 734.443 L1573.72 734.443 L1573.72 726.544 L1598.88 688.222 Z\" fill=\"#000000\" fill-rule=\"nonzero\" fill-opacity=\"1\" /><path clip-path=\"url(#clip820)\" d=\"M1867.91 741.815 L1881.28 741.815 L1881.28 695.676 L1866.74 698.592 L1866.74 691.139 L1881.2 688.222 L1889.38 688.222 L1889.38 741.815 L1902.75 741.815 L1902.75 748.702 L1867.91 748.702 L1867.91 741.815 Z\" fill=\"#000000\" fill-rule=\"nonzero\" fill-opacity=\"1\" /><path clip-path=\"url(#clip820)\" d=\"M1919.36 688.222 L1951.48 688.222 L1951.48 695.109 L1926.85 695.109 L1926.85 709.935 Q1928.63 709.327 1930.42 709.044 Q1932.2 708.72 1933.98 708.72 Q1944.11 708.72 1950.02 714.269 Q1955.94 719.819 1955.94 729.298 Q1955.94 739.061 1949.86 744.489 Q1943.78 749.877 1932.73 749.877 Q1928.92 749.877 1924.95 749.229 Q1921.02 748.58 1916.8 747.284 L1916.8 739.061 Q1920.45 741.046 1924.34 742.018 Q1928.23 742.99 1932.56 742.99 Q1939.57 742.99 1943.66 739.304 Q1947.75 735.618 1947.75 729.298 Q1947.75 722.979 1943.66 719.292 Q1939.57 715.606 1932.56 715.606 Q1929.28 715.606 1926 716.335 Q1922.76 717.064 1919.36 718.604 L1919.36 688.222 Z\" fill=\"#000000\" fill-rule=\"nonzero\" fill-opacity=\"1\" /><path clip-path=\"url(#clip820)\" d=\"M509.158 402.381 L522.526 402.381 L522.526 356.241 L507.984 359.157 L507.984 351.704 L522.445 348.787 L530.628 348.787 L530.628 402.381 L543.996 402.381 L543.996 409.267 L509.158 409.267 L509.158 402.381 Z\" fill=\"#000000\" fill-rule=\"nonzero\" fill-opacity=\"1\" /><path clip-path=\"url(#clip820)\" d=\"M579.037 375.766 Q573.527 375.766 570.287 379.533 Q567.086 383.301 567.086 389.863 Q567.086 396.385 570.287 400.193 Q573.527 403.96 579.037 403.96 Q584.546 403.96 587.746 400.193 Q590.987 396.385 590.987 389.863 Q590.987 383.301 587.746 379.533 Q584.546 375.766 579.037 375.766 M595.281 350.124 L595.281 357.578 Q592.202 356.119 589.042 355.35 Q585.923 354.58 582.844 354.58 Q574.743 354.58 570.449 360.049 Q566.195 365.517 565.588 376.576 Q567.978 373.052 571.583 371.189 Q575.188 369.285 579.523 369.285 Q588.637 369.285 593.903 374.834 Q599.21 380.344 599.21 389.863 Q599.21 399.18 593.701 404.811 Q588.192 410.442 579.037 410.442 Q568.545 410.442 562.995 402.421 Q557.445 394.36 557.445 379.088 Q557.445 364.748 564.251 356.241 Q571.056 347.693 582.52 347.693 Q585.599 347.693 588.718 348.301 Q591.878 348.909 595.281 350.124 Z\" fill=\"#000000\" fill-rule=\"nonzero\" fill-opacity=\"1\" /><path clip-path=\"url(#clip820)\" d=\"M849.525 402.381 L862.893 402.381 L862.893 356.241 L848.35 359.157 L848.35 351.704 L862.812 348.787 L870.995 348.787 L870.995 402.381 L884.363 402.381 L884.363 409.267 L849.525 409.267 L849.525 402.381 Z\" fill=\"#000000\" fill-rule=\"nonzero\" fill-opacity=\"1\" /><path clip-path=\"url(#clip820)\" d=\"M898.824 348.787 L937.713 348.787 L937.713 352.271 L915.757 409.267 L907.21 409.267 L927.869 355.674 L898.824 355.674 L898.824 348.787 Z\" fill=\"#000000\" fill-rule=\"nonzero\" fill-opacity=\"1\" /><path clip-path=\"url(#clip820)\" d=\"M1188.25 402.381 L1201.62 402.381 L1201.62 356.241 L1187.08 359.157 L1187.08 351.704 L1201.54 348.787 L1209.72 348.787 L1209.72 402.381 L1223.09 402.381 L1223.09 409.267 L1188.25 409.267 L1188.25 402.381 Z\" fill=\"#000000\" fill-rule=\"nonzero\" fill-opacity=\"1\" /><path clip-path=\"url(#clip820)\" d=\"M1257.12 380.546 Q1251.28 380.546 1247.92 383.665 Q1244.6 386.785 1244.6 392.253 Q1244.6 397.722 1247.92 400.841 Q1251.28 403.96 1257.12 403.96 Q1262.95 403.96 1266.31 400.841 Q1269.67 397.682 1269.67 392.253 Q1269.67 386.785 1266.31 383.665 Q1262.99 380.546 1257.12 380.546 M1248.93 377.062 Q1243.67 375.766 1240.71 372.161 Q1237.79 368.556 1237.79 363.37 Q1237.79 356.119 1242.94 351.906 Q1248.12 347.693 1257.12 347.693 Q1266.15 347.693 1271.29 351.906 Q1276.44 356.119 1276.44 363.37 Q1276.44 368.556 1273.48 372.161 Q1270.57 375.766 1265.34 377.062 Q1271.25 378.44 1274.54 382.45 Q1277.86 386.461 1277.86 392.253 Q1277.86 401.044 1272.47 405.743 Q1267.12 410.442 1257.12 410.442 Q1247.11 410.442 1241.72 405.743 Q1236.38 401.044 1236.38 392.253 Q1236.38 386.461 1239.7 382.45 Q1243.02 378.44 1248.93 377.062 M1245.94 364.14 Q1245.94 368.839 1248.85 371.472 Q1251.81 374.105 1257.12 374.105 Q1262.38 374.105 1265.34 371.472 Q1268.34 368.839 1268.34 364.14 Q1268.34 359.441 1265.34 356.808 Q1262.38 354.175 1257.12 354.175 Q1251.81 354.175 1248.85 356.808 Q1245.94 359.441 1245.94 364.14 Z\" fill=\"#000000\" fill-rule=\"nonzero\" fill-opacity=\"1\" /><path clip-path=\"url(#clip820)\" d=\"M1527.77 402.381 L1541.13 402.381 L1541.13 356.241 L1526.59 359.157 L1526.59 351.704 L1541.05 348.787 L1549.24 348.787 L1549.24 402.381 L1562.6 402.381 L1562.6 409.267 L1527.77 409.267 L1527.77 402.381 Z\" fill=\"#000000\" fill-rule=\"nonzero\" fill-opacity=\"1\" /><path clip-path=\"url(#clip820)\" d=\"M1579.38 408.011 L1579.38 400.558 Q1582.45 402.016 1585.61 402.786 Q1588.77 403.555 1591.81 403.555 Q1599.91 403.555 1604.17 398.127 Q1608.46 392.658 1609.07 381.559 Q1606.72 385.043 1603.11 386.906 Q1599.51 388.77 1595.13 388.77 Q1586.06 388.77 1580.75 383.301 Q1575.49 377.792 1575.49 368.272 Q1575.49 358.955 1581 353.324 Q1586.5 347.693 1595.66 347.693 Q1606.15 347.693 1611.66 355.755 Q1617.21 363.775 1617.21 379.088 Q1617.21 393.388 1610.41 401.935 Q1603.64 410.442 1592.18 410.442 Q1589.1 410.442 1585.94 409.834 Q1582.78 409.227 1579.38 408.011 M1595.66 382.369 Q1601.17 382.369 1604.37 378.602 Q1607.61 374.834 1607.61 368.272 Q1607.61 361.75 1604.37 357.983 Q1601.17 354.175 1595.66 354.175 Q1590.15 354.175 1586.91 357.983 Q1583.71 361.75 1583.71 368.272 Q1583.71 374.834 1586.91 378.602 Q1590.15 382.369 1595.66 382.369 Z\" fill=\"#000000\" fill-rule=\"nonzero\" fill-opacity=\"1\" /><path clip-path=\"url(#clip820)\" d=\"M1874.19 402.381 L1902.75 402.381 L1902.75 409.267 L1864.35 409.267 L1864.35 402.381 Q1869 397.56 1877.03 389.458 Q1885.09 381.316 1887.15 378.966 Q1891.08 374.551 1892.62 371.513 Q1894.2 368.434 1894.2 365.477 Q1894.2 360.656 1890.8 357.618 Q1887.44 354.58 1882.01 354.58 Q1878.16 354.58 1873.87 355.917 Q1869.61 357.254 1864.75 359.968 L1864.75 351.704 Q1869.69 349.719 1873.99 348.706 Q1878.28 347.693 1881.85 347.693 Q1891.24 347.693 1896.83 352.392 Q1902.42 357.091 1902.42 364.95 Q1902.42 368.677 1901.01 372.039 Q1899.63 375.361 1895.94 379.898 Q1894.93 381.073 1889.5 386.704 Q1884.07 392.294 1874.19 402.381 Z\" fill=\"#000000\" fill-rule=\"nonzero\" fill-opacity=\"1\" /><path clip-path=\"url(#clip820)\" d=\"M1937.42 354.175 Q1931.1 354.175 1927.9 360.413 Q1924.74 366.611 1924.74 379.088 Q1924.74 391.524 1927.9 397.763 Q1931.1 403.96 1937.42 403.96 Q1943.78 403.96 1946.94 397.763 Q1950.14 391.524 1950.14 379.088 Q1950.14 366.611 1946.94 360.413 Q1943.78 354.175 1937.42 354.175 M1937.42 347.693 Q1947.59 347.693 1952.94 355.755 Q1958.33 363.775 1958.33 379.088 Q1958.33 394.36 1952.94 402.421 Q1947.59 410.442 1937.42 410.442 Q1927.26 410.442 1921.87 402.421 Q1916.52 394.36 1916.52 379.088 Q1916.52 363.775 1921.87 355.755 Q1927.26 347.693 1937.42 347.693 Z\" fill=\"#000000\" fill-rule=\"nonzero\" fill-opacity=\"1\" /><path clip-path=\"url(#clip820)\" d=\"M517.524 62.9457 L546.082 62.9457 L546.082 69.8323 L507.68 69.8323 L507.68 62.9457 Q512.338 58.1252 520.359 50.0234 Q528.42 41.881 530.486 39.5315 Q534.416 35.116 535.955 32.0778 Q537.535 28.9992 537.535 26.042 Q537.535 21.2214 534.132 18.1832 Q530.77 15.1451 525.342 15.1451 Q521.493 15.1451 517.199 16.4819 Q512.946 17.8187 508.085 20.5328 L508.085 12.2689 Q513.027 10.284 517.321 9.27126 Q521.615 8.25853 525.18 8.25853 Q534.578 8.25853 540.168 12.9576 Q545.758 17.6566 545.758 25.5154 Q545.758 29.2422 544.341 32.6045 Q542.963 35.9262 539.277 40.4632 Q538.264 41.638 532.836 47.2687 Q527.408 52.859 517.524 62.9457 Z\" fill=\"#000000\" fill-rule=\"nonzero\" fill-opacity=\"1\" /><path clip-path=\"url(#clip820)\" d=\"M564.676 62.9457 L578.044 62.9457 L578.044 16.8059 L563.501 19.7226 L563.501 12.2689 L577.963 9.35228 L586.146 9.35228 L586.146 62.9457 L599.514 62.9457 L599.514 69.8323 L564.676 69.8323 L564.676 62.9457 Z\" fill=\"#000000\" fill-rule=\"nonzero\" fill-opacity=\"1\" /><path clip-path=\"url(#clip820)\" d=\"M857.282 62.9457 L885.841 62.9457 L885.841 69.8323 L847.439 69.8323 L847.439 62.9457 Q852.097 58.1252 860.118 50.0234 Q868.179 41.881 870.245 39.5315 Q874.175 35.116 875.714 32.0778 Q877.294 28.9992 877.294 26.042 Q877.294 21.2214 873.891 18.1832 Q870.529 15.1451 865.101 15.1451 Q861.252 15.1451 856.958 16.4819 Q852.705 17.8187 847.844 20.5328 L847.844 12.2689 Q852.786 10.284 857.08 9.27126 Q861.374 8.25853 864.939 8.25853 Q874.337 8.25853 879.927 12.9576 Q885.517 17.6566 885.517 25.5154 Q885.517 29.2422 884.099 32.6045 Q882.722 35.9262 879.036 40.4632 Q878.023 41.638 872.595 47.2687 Q867.167 52.859 857.282 62.9457 Z\" fill=\"#000000\" fill-rule=\"nonzero\" fill-opacity=\"1\" /><path clip-path=\"url(#clip820)\" d=\"M910.066 62.9457 L938.625 62.9457 L938.625 69.8323 L900.222 69.8323 L900.222 62.9457 Q904.881 58.1252 912.901 50.0234 Q920.963 41.881 923.029 39.5315 Q926.958 35.116 928.497 32.0778 Q930.077 28.9992 930.077 26.042 Q930.077 21.2214 926.674 18.1832 Q923.312 15.1451 917.884 15.1451 Q914.036 15.1451 909.742 16.4819 Q905.488 17.8187 900.627 20.5328 L900.627 12.2689 Q905.569 10.284 909.863 9.27126 Q914.157 8.25853 917.722 8.25853 Q927.12 8.25853 932.71 12.9576 Q938.301 17.6566 938.301 25.5154 Q938.301 29.2422 936.883 32.6045 Q935.505 35.9262 931.819 40.4632 Q930.806 41.638 925.378 47.2687 Q919.95 52.859 910.066 62.9457 Z\" fill=\"#000000\" fill-rule=\"nonzero\" fill-opacity=\"1\" /><path clip-path=\"url(#clip820)\" d=\"M1195.89 62.9457 L1224.45 62.9457 L1224.45 69.8323 L1186.04 69.8323 L1186.04 62.9457 Q1190.7 58.1252 1198.72 50.0234 Q1206.78 41.881 1208.85 39.5315 Q1212.78 35.116 1214.32 32.0778 Q1215.9 28.9992 1215.9 26.042 Q1215.9 21.2214 1212.5 18.1832 Q1209.13 15.1451 1203.71 15.1451 Q1199.86 15.1451 1195.56 16.4819 Q1191.31 17.8187 1186.45 20.5328 L1186.45 12.2689 Q1191.39 10.284 1195.68 9.27126 Q1199.98 8.25853 1203.54 8.25853 Q1212.94 8.25853 1218.53 12.9576 Q1224.12 17.6566 1224.12 25.5154 Q1224.12 29.2422 1222.7 32.6045 Q1221.33 35.9262 1217.64 40.4632 Q1216.63 41.638 1211.2 47.2687 Q1205.77 52.859 1195.89 62.9457 Z\" fill=\"#000000\" fill-rule=\"nonzero\" fill-opacity=\"1\" /><path clip-path=\"url(#clip820)\" d=\"M1266.41 37.2225 Q1272.29 38.4783 1275.57 42.4482 Q1278.89 46.4181 1278.89 52.2514 Q1278.89 61.2039 1272.73 66.1054 Q1266.58 71.007 1255.23 71.007 Q1251.42 71.007 1247.37 70.2374 Q1243.36 69.5082 1239.07 68.0094 L1239.07 60.1101 Q1242.47 62.095 1246.52 63.1078 Q1250.57 64.1205 1254.99 64.1205 Q1262.69 64.1205 1266.7 61.0823 Q1270.75 58.0441 1270.75 52.2514 Q1270.75 46.9042 1266.98 43.9065 Q1263.25 40.8683 1256.57 40.8683 L1249.52 40.8683 L1249.52 34.1438 L1256.89 34.1438 Q1262.93 34.1438 1266.13 31.7538 Q1269.33 29.3232 1269.33 24.7862 Q1269.33 20.1277 1266.01 17.6566 Q1262.73 15.1451 1256.57 15.1451 Q1253.21 15.1451 1249.36 15.8742 Q1245.51 16.6034 1240.89 18.1427 L1240.89 10.8511 Q1245.55 9.55482 1249.6 8.90668 Q1253.69 8.25853 1257.3 8.25853 Q1266.62 8.25853 1272.04 12.512 Q1277.47 16.7249 1277.47 23.9355 Q1277.47 28.9587 1274.6 32.4424 Q1271.72 35.8857 1266.41 37.2225 Z\" fill=\"#000000\" fill-rule=\"nonzero\" fill-opacity=\"1\" /><path clip-path=\"url(#clip820)\" d=\"M1534.33 62.9457 L1562.89 62.9457 L1562.89 69.8323 L1524.49 69.8323 L1524.49 62.9457 Q1529.14 58.1252 1537.16 50.0234 Q1545.23 41.881 1547.29 39.5315 Q1551.22 35.116 1552.76 32.0778 Q1554.34 28.9992 1554.34 26.042 Q1554.34 21.2214 1550.94 18.1832 Q1547.58 15.1451 1542.15 15.1451 Q1538.3 15.1451 1534.01 16.4819 Q1529.75 17.8187 1524.89 20.5328 L1524.89 12.2689 Q1529.83 10.284 1534.13 9.27126 Q1538.42 8.25853 1541.99 8.25853 Q1551.38 8.25853 1556.97 12.9576 Q1562.56 17.6566 1562.56 25.5154 Q1562.56 29.2422 1561.15 32.6045 Q1559.77 35.9262 1556.08 40.4632 Q1555.07 41.638 1549.64 47.2687 Q1544.21 52.859 1534.33 62.9457 Z\" fill=\"#000000\" fill-rule=\"nonzero\" fill-opacity=\"1\" /><path clip-path=\"url(#clip820)\" d=\"M1602.55 16.4819 L1581.89 48.7676 L1602.55 48.7676 L1602.55 16.4819 M1600.4 9.35228 L1610.69 9.35228 L1610.69 48.7676 L1619.32 48.7676 L1619.32 55.5731 L1610.69 55.5731 L1610.69 69.8323 L1602.55 69.8323 L1602.55 55.5731 L1575.24 55.5731 L1575.24 47.6738 L1600.4 9.35228 Z\" fill=\"#000000\" fill-rule=\"nonzero\" fill-opacity=\"1\" /><path clip-path=\"url(#clip820)\" d=\"M1875.06 62.9457 L1903.62 62.9457 L1903.62 69.8323 L1865.22 69.8323 L1865.22 62.9457 Q1869.88 58.1252 1877.9 50.0234 Q1885.96 41.881 1888.02 39.5315 Q1891.95 35.116 1893.49 32.0778 Q1895.07 28.9992 1895.07 26.042 Q1895.07 21.2214 1891.67 18.1832 Q1888.31 15.1451 1882.88 15.1451 Q1879.03 15.1451 1874.74 16.4819 Q1870.48 17.8187 1865.62 20.5328 L1865.62 12.2689 Q1870.56 10.284 1874.86 9.27126 Q1879.15 8.25853 1882.72 8.25853 Q1892.11 8.25853 1897.7 12.9576 Q1903.3 17.6566 1903.3 25.5154 Q1903.3 29.2422 1901.88 32.6045 Q1900.5 35.9262 1896.81 40.4632 Q1895.8 41.638 1890.37 47.2687 Q1884.94 52.859 1875.06 62.9457 Z\" fill=\"#000000\" fill-rule=\"nonzero\" fill-opacity=\"1\" /><path clip-path=\"url(#clip820)\" d=\"M1920.88 9.35228 L1953 9.35228 L1953 16.2388 L1928.37 16.2388 L1928.37 31.0651 Q1930.15 30.4575 1931.94 30.1739 Q1933.72 29.8499 1935.5 29.8499 Q1945.63 29.8499 1951.54 35.3996 Q1957.46 40.9493 1957.46 50.4284 Q1957.46 60.1911 1951.38 65.6193 Q1945.3 71.007 1934.24 71.007 Q1930.44 71.007 1926.47 70.3589 Q1922.54 69.7107 1918.32 68.4145 L1918.32 60.1911 Q1921.97 62.1761 1925.86 63.1483 Q1929.75 64.1205 1934.08 64.1205 Q1941.09 64.1205 1945.18 60.4342 Q1949.27 56.7479 1949.27 50.4284 Q1949.27 44.109 1945.18 40.4227 Q1941.09 36.7364 1934.08 36.7364 Q1930.8 36.7364 1927.52 37.4656 Q1924.28 38.1947 1920.88 39.7341 L1920.88 9.35228 Z\" fill=\"#000000\" fill-rule=\"nonzero\" fill-opacity=\"1\" /></svg>\n"
      ],
      "text/html": [
       "<?xml version=\"1.0\" encoding=\"utf-8\"?>\n",
       "<svg xmlns=\"http://www.w3.org/2000/svg\" xmlns:xlink=\"http://www.w3.org/1999/xlink\" width=\"600\" height=\"400\" viewBox=\"0 0 2400 1600\">\n",
       "<defs>\n",
       "  <clipPath id=\"clip870\">\n",
       "    <rect x=\"0\" y=\"0\" width=\"2400\" height=\"1600\"/>\n",
       "  </clipPath>\n",
       "</defs>\n",
       "<path clip-path=\"url(#clip870)\" d=\"M0 1600 L2400 1600 L2400 0 L0 0  Z\" fill=\"#ffffff\" fill-rule=\"evenodd\" fill-opacity=\"1\"/>\n",
       "<defs>\n",
       "  <clipPath id=\"clip871\">\n",
       "    <rect x=\"480\" y=\"0\" width=\"1681\" height=\"1600\"/>\n",
       "  </clipPath>\n",
       "</defs>\n",
       "<path clip-path=\"url(#clip870)\" d=\"M112.177 1486.45 L2352.76 1486.45 L2352.76 47.2441 L112.177 47.2441  Z\" fill=\"#ffffff\" fill-rule=\"evenodd\" fill-opacity=\"1\"/>\n",
       "<defs>\n",
       "  <clipPath id=\"clip872\">\n",
       "    <rect x=\"112\" y=\"47\" width=\"2242\" height=\"1440\"/>\n",
       "  </clipPath>\n",
       "</defs>\n",
       "<polyline clip-path=\"url(#clip872)\" style=\"stroke:#000000; stroke-linecap:round; stroke-linejoin:round; stroke-width:2; stroke-opacity:0.1; fill:none\" points=\"214.162,1486.45 214.162,47.2441 \"/>\n",
       "<polyline clip-path=\"url(#clip872)\" style=\"stroke:#000000; stroke-linecap:round; stroke-linejoin:round; stroke-width:2; stroke-opacity:0.1; fill:none\" points=\"553.597,1486.45 553.597,47.2441 \"/>\n",
       "<polyline clip-path=\"url(#clip872)\" style=\"stroke:#000000; stroke-linecap:round; stroke-linejoin:round; stroke-width:2; stroke-opacity:0.1; fill:none\" points=\"893.032,1486.45 893.032,47.2441 \"/>\n",
       "<polyline clip-path=\"url(#clip872)\" style=\"stroke:#000000; stroke-linecap:round; stroke-linejoin:round; stroke-width:2; stroke-opacity:0.1; fill:none\" points=\"1232.47,1486.45 1232.47,47.2441 \"/>\n",
       "<polyline clip-path=\"url(#clip872)\" style=\"stroke:#000000; stroke-linecap:round; stroke-linejoin:round; stroke-width:2; stroke-opacity:0.1; fill:none\" points=\"1571.9,1486.45 1571.9,47.2441 \"/>\n",
       "<polyline clip-path=\"url(#clip872)\" style=\"stroke:#000000; stroke-linecap:round; stroke-linejoin:round; stroke-width:2; stroke-opacity:0.1; fill:none\" points=\"1911.34,1486.45 1911.34,47.2441 \"/>\n",
       "<polyline clip-path=\"url(#clip872)\" style=\"stroke:#000000; stroke-linecap:round; stroke-linejoin:round; stroke-width:2; stroke-opacity:0.1; fill:none\" points=\"2250.77,1486.45 2250.77,47.2441 \"/>\n",
       "<polyline clip-path=\"url(#clip870)\" style=\"stroke:#000000; stroke-linecap:round; stroke-linejoin:round; stroke-width:4; stroke-opacity:1; fill:none\" points=\"112.177,1486.45 2352.76,1486.45 \"/>\n",
       "<polyline clip-path=\"url(#clip870)\" style=\"stroke:#000000; stroke-linecap:round; stroke-linejoin:round; stroke-width:4; stroke-opacity:1; fill:none\" points=\"214.162,1486.45 214.162,1467.55 \"/>\n",
       "<polyline clip-path=\"url(#clip870)\" style=\"stroke:#000000; stroke-linecap:round; stroke-linejoin:round; stroke-width:4; stroke-opacity:1; fill:none\" points=\"553.597,1486.45 553.597,1467.55 \"/>\n",
       "<polyline clip-path=\"url(#clip870)\" style=\"stroke:#000000; stroke-linecap:round; stroke-linejoin:round; stroke-width:4; stroke-opacity:1; fill:none\" points=\"893.032,1486.45 893.032,1467.55 \"/>\n",
       "<polyline clip-path=\"url(#clip870)\" style=\"stroke:#000000; stroke-linecap:round; stroke-linejoin:round; stroke-width:4; stroke-opacity:1; fill:none\" points=\"1232.47,1486.45 1232.47,1467.55 \"/>\n",
       "<polyline clip-path=\"url(#clip870)\" style=\"stroke:#000000; stroke-linecap:round; stroke-linejoin:round; stroke-width:4; stroke-opacity:1; fill:none\" points=\"1571.9,1486.45 1571.9,1467.55 \"/>\n",
       "<polyline clip-path=\"url(#clip870)\" style=\"stroke:#000000; stroke-linecap:round; stroke-linejoin:round; stroke-width:4; stroke-opacity:1; fill:none\" points=\"1911.34,1486.45 1911.34,1467.55 \"/>\n",
       "<polyline clip-path=\"url(#clip870)\" style=\"stroke:#000000; stroke-linecap:round; stroke-linejoin:round; stroke-width:4; stroke-opacity:1; fill:none\" points=\"2250.77,1486.45 2250.77,1467.55 \"/>\n",
       "<path clip-path=\"url(#clip870)\" d=\"M183.919 1532.02 L213.595 1532.02 L213.595 1535.95 L183.919 1535.95 L183.919 1532.02 Z\" fill=\"#000000\" fill-rule=\"nonzero\" fill-opacity=\"1\" /><path clip-path=\"url(#clip870)\" d=\"M224.498 1544.91 L232.136 1544.91 L232.136 1518.55 L223.826 1520.21 L223.826 1515.95 L232.09 1514.29 L236.766 1514.29 L236.766 1544.91 L244.405 1544.91 L244.405 1548.85 L224.498 1548.85 L224.498 1544.91 Z\" fill=\"#000000\" fill-rule=\"nonzero\" fill-opacity=\"1\" /><path clip-path=\"url(#clip870)\" d=\"M553.597 1517.37 Q549.986 1517.37 548.157 1520.93 Q546.352 1524.47 546.352 1531.6 Q546.352 1538.71 548.157 1542.27 Q549.986 1545.82 553.597 1545.82 Q557.231 1545.82 559.037 1542.27 Q560.865 1538.71 560.865 1531.6 Q560.865 1524.47 559.037 1520.93 Q557.231 1517.37 553.597 1517.37 M553.597 1513.66 Q559.407 1513.66 562.463 1518.27 Q565.541 1522.85 565.541 1531.6 Q565.541 1540.33 562.463 1544.94 Q559.407 1549.52 553.597 1549.52 Q547.787 1549.52 544.708 1544.94 Q541.652 1540.33 541.652 1531.6 Q541.652 1522.85 544.708 1518.27 Q547.787 1513.66 553.597 1513.66 Z\" fill=\"#000000\" fill-rule=\"nonzero\" fill-opacity=\"1\" /><path clip-path=\"url(#clip870)\" d=\"M883.414 1544.91 L891.053 1544.91 L891.053 1518.55 L882.742 1520.21 L882.742 1515.95 L891.006 1514.29 L895.682 1514.29 L895.682 1544.91 L903.321 1544.91 L903.321 1548.85 L883.414 1548.85 L883.414 1544.91 Z\" fill=\"#000000\" fill-rule=\"nonzero\" fill-opacity=\"1\" /><path clip-path=\"url(#clip870)\" d=\"M1227.12 1544.91 L1243.44 1544.91 L1243.44 1548.85 L1221.49 1548.85 L1221.49 1544.91 Q1224.16 1542.16 1228.74 1537.53 Q1233.35 1532.88 1234.53 1531.53 Q1236.77 1529.01 1237.65 1527.27 Q1238.55 1525.51 1238.55 1523.82 Q1238.55 1521.07 1236.61 1519.33 Q1234.69 1517.6 1231.59 1517.6 Q1229.39 1517.6 1226.93 1518.36 Q1224.5 1519.13 1221.73 1520.68 L1221.73 1515.95 Q1224.55 1514.82 1227 1514.24 Q1229.46 1513.66 1231.49 1513.66 Q1236.86 1513.66 1240.06 1516.35 Q1243.25 1519.03 1243.25 1523.52 Q1243.25 1525.65 1242.44 1527.57 Q1241.66 1529.47 1239.55 1532.07 Q1238.97 1532.74 1235.87 1535.95 Q1232.77 1539.15 1227.12 1544.91 Z\" fill=\"#000000\" fill-rule=\"nonzero\" fill-opacity=\"1\" /><path clip-path=\"url(#clip870)\" d=\"M1576.15 1530.21 Q1579.51 1530.93 1581.38 1533.2 Q1583.28 1535.47 1583.28 1538.8 Q1583.28 1543.92 1579.76 1546.72 Q1576.24 1549.52 1569.76 1549.52 Q1567.58 1549.52 1565.27 1549.08 Q1562.98 1548.66 1560.52 1547.81 L1560.52 1543.29 Q1562.47 1544.43 1564.78 1545.01 Q1567.1 1545.58 1569.62 1545.58 Q1574.02 1545.58 1576.31 1543.85 Q1578.63 1542.11 1578.63 1538.8 Q1578.63 1535.75 1576.47 1534.03 Q1574.34 1532.3 1570.52 1532.3 L1566.5 1532.3 L1566.5 1528.45 L1570.71 1528.45 Q1574.16 1528.45 1575.99 1527.09 Q1577.82 1525.7 1577.82 1523.11 Q1577.82 1520.45 1575.92 1519.03 Q1574.04 1517.6 1570.52 1517.6 Q1568.6 1517.6 1566.4 1518.01 Q1564.2 1518.43 1561.57 1519.31 L1561.57 1515.14 Q1564.23 1514.4 1566.54 1514.03 Q1568.88 1513.66 1570.94 1513.66 Q1576.26 1513.66 1579.37 1516.09 Q1582.47 1518.5 1582.47 1522.62 Q1582.47 1525.49 1580.82 1527.48 Q1579.18 1529.45 1576.15 1530.21 Z\" fill=\"#000000\" fill-rule=\"nonzero\" fill-opacity=\"1\" /><path clip-path=\"url(#clip870)\" d=\"M1914.35 1518.36 L1902.54 1536.81 L1914.35 1536.81 L1914.35 1518.36 M1913.12 1514.29 L1919 1514.29 L1919 1536.81 L1923.93 1536.81 L1923.93 1540.7 L1919 1540.7 L1919 1548.85 L1914.35 1548.85 L1914.35 1540.7 L1898.74 1540.7 L1898.74 1536.19 L1913.12 1514.29 Z\" fill=\"#000000\" fill-rule=\"nonzero\" fill-opacity=\"1\" /><path clip-path=\"url(#clip870)\" d=\"M2241.05 1514.29 L2259.41 1514.29 L2259.41 1518.22 L2245.33 1518.22 L2245.33 1526.7 Q2246.35 1526.35 2247.37 1526.19 Q2248.39 1526 2249.41 1526 Q2255.19 1526 2258.57 1529.17 Q2261.95 1532.34 2261.95 1537.76 Q2261.95 1543.34 2258.48 1546.44 Q2255.01 1549.52 2248.69 1549.52 Q2246.51 1549.52 2244.24 1549.15 Q2242 1548.78 2239.59 1548.04 L2239.59 1543.34 Q2241.67 1544.47 2243.9 1545.03 Q2246.12 1545.58 2248.6 1545.58 Q2252.6 1545.58 2254.94 1543.48 Q2257.28 1541.37 2257.28 1537.76 Q2257.28 1534.15 2254.94 1532.04 Q2252.6 1529.94 2248.6 1529.94 Q2246.72 1529.94 2244.85 1530.35 Q2242.99 1530.77 2241.05 1531.65 L2241.05 1514.29 Z\" fill=\"#000000\" fill-rule=\"nonzero\" fill-opacity=\"1\" /><polyline clip-path=\"url(#clip872)\" style=\"stroke:#000000; stroke-linecap:round; stroke-linejoin:round; stroke-width:2; stroke-opacity:0.1; fill:none\" points=\"112.177,1445.72 2352.76,1445.72 \"/>\n",
       "<polyline clip-path=\"url(#clip872)\" style=\"stroke:#000000; stroke-linecap:round; stroke-linejoin:round; stroke-width:2; stroke-opacity:0.1; fill:none\" points=\"112.177,1106.28 2352.76,1106.28 \"/>\n",
       "<polyline clip-path=\"url(#clip872)\" style=\"stroke:#000000; stroke-linecap:round; stroke-linejoin:round; stroke-width:2; stroke-opacity:0.1; fill:none\" points=\"112.177,766.846 2352.76,766.846 \"/>\n",
       "<polyline clip-path=\"url(#clip872)\" style=\"stroke:#000000; stroke-linecap:round; stroke-linejoin:round; stroke-width:2; stroke-opacity:0.1; fill:none\" points=\"112.177,427.411 2352.76,427.411 \"/>\n",
       "<polyline clip-path=\"url(#clip872)\" style=\"stroke:#000000; stroke-linecap:round; stroke-linejoin:round; stroke-width:2; stroke-opacity:0.1; fill:none\" points=\"112.177,87.9763 2352.76,87.9763 \"/>\n",
       "<polyline clip-path=\"url(#clip870)\" style=\"stroke:#000000; stroke-linecap:round; stroke-linejoin:round; stroke-width:4; stroke-opacity:1; fill:none\" points=\"112.177,1486.45 112.177,47.2441 \"/>\n",
       "<polyline clip-path=\"url(#clip870)\" style=\"stroke:#000000; stroke-linecap:round; stroke-linejoin:round; stroke-width:4; stroke-opacity:1; fill:none\" points=\"112.177,1445.72 131.075,1445.72 \"/>\n",
       "<polyline clip-path=\"url(#clip870)\" style=\"stroke:#000000; stroke-linecap:round; stroke-linejoin:round; stroke-width:4; stroke-opacity:1; fill:none\" points=\"112.177,1106.28 131.075,1106.28 \"/>\n",
       "<polyline clip-path=\"url(#clip870)\" style=\"stroke:#000000; stroke-linecap:round; stroke-linejoin:round; stroke-width:4; stroke-opacity:1; fill:none\" points=\"112.177,766.846 131.075,766.846 \"/>\n",
       "<polyline clip-path=\"url(#clip870)\" style=\"stroke:#000000; stroke-linecap:round; stroke-linejoin:round; stroke-width:4; stroke-opacity:1; fill:none\" points=\"112.177,427.411 131.075,427.411 \"/>\n",
       "<polyline clip-path=\"url(#clip870)\" style=\"stroke:#000000; stroke-linecap:round; stroke-linejoin:round; stroke-width:4; stroke-opacity:1; fill:none\" points=\"112.177,87.9763 131.075,87.9763 \"/>\n",
       "<path clip-path=\"url(#clip870)\" d=\"M64.2328 1431.51 Q60.6217 1431.51 58.793 1435.08 Q56.9875 1438.62 56.9875 1445.75 Q56.9875 1452.86 58.793 1456.42 Q60.6217 1459.96 64.2328 1459.96 Q67.867 1459.96 69.6726 1456.42 Q71.5013 1452.86 71.5013 1445.75 Q71.5013 1438.62 69.6726 1435.08 Q67.867 1431.51 64.2328 1431.51 M64.2328 1427.81 Q70.0429 1427.81 73.0985 1432.42 Q76.1772 1437 76.1772 1445.75 Q76.1772 1454.48 73.0985 1459.08 Q70.0429 1463.67 64.2328 1463.67 Q58.4226 1463.67 55.344 1459.08 Q52.2884 1454.48 52.2884 1445.75 Q52.2884 1437 55.344 1432.42 Q58.4226 1427.81 64.2328 1427.81 Z\" fill=\"#000000\" fill-rule=\"nonzero\" fill-opacity=\"1\" /><path clip-path=\"url(#clip870)\" d=\"M56.2699 1119.63 L63.9087 1119.63 L63.9087 1093.26 L55.5986 1094.93 L55.5986 1090.67 L63.8624 1089 L68.5383 1089 L68.5383 1119.63 L76.1772 1119.63 L76.1772 1123.56 L56.2699 1123.56 L56.2699 1119.63 Z\" fill=\"#000000\" fill-rule=\"nonzero\" fill-opacity=\"1\" /><path clip-path=\"url(#clip870)\" d=\"M59.8578 780.191 L76.1772 780.191 L76.1772 784.126 L54.2328 784.126 L54.2328 780.191 Q56.8949 777.436 61.4782 772.807 Q66.0846 768.154 67.2652 766.811 Q69.5105 764.288 70.3902 762.552 Q71.2929 760.793 71.2929 759.103 Q71.2929 756.348 69.3485 754.612 Q67.4272 752.876 64.3254 752.876 Q62.1263 752.876 59.6726 753.64 Q57.2421 754.404 54.4643 755.955 L54.4643 751.233 Q57.2884 750.098 59.7421 749.52 Q62.1958 748.941 64.2328 748.941 Q69.6031 748.941 72.7976 751.626 Q75.992 754.311 75.992 758.802 Q75.992 760.932 75.1818 762.853 Q74.3948 764.751 72.2883 767.344 Q71.7096 768.015 68.6078 771.233 Q65.5059 774.427 59.8578 780.191 Z\" fill=\"#000000\" fill-rule=\"nonzero\" fill-opacity=\"1\" /><path clip-path=\"url(#clip870)\" d=\"M69.0476 426.057 Q72.404 426.775 74.279 429.043 Q76.1772 431.312 76.1772 434.645 Q76.1772 439.761 72.6587 442.562 Q69.1402 445.362 62.6587 445.362 Q60.4828 445.362 58.168 444.923 Q55.8764 444.506 53.4227 443.649 L53.4227 439.136 Q55.3671 440.27 57.6819 440.849 Q59.9967 441.427 62.5198 441.427 Q66.918 441.427 69.2096 439.691 Q71.5244 437.955 71.5244 434.645 Q71.5244 431.589 69.3717 429.876 Q67.242 428.14 63.4226 428.14 L59.3949 428.14 L59.3949 424.298 L63.6078 424.298 Q67.0569 424.298 68.8855 422.932 Q70.7142 421.543 70.7142 418.951 Q70.7142 416.289 68.8161 414.876 Q66.9411 413.441 63.4226 413.441 Q61.5013 413.441 59.3023 413.858 Q57.1032 414.275 54.4643 415.154 L54.4643 410.988 Q57.1264 410.247 59.4412 409.877 Q61.7791 409.506 63.8393 409.506 Q69.1633 409.506 72.2652 411.937 Q75.367 414.344 75.367 418.464 Q75.367 421.335 73.7235 423.326 Q72.08 425.293 69.0476 426.057 Z\" fill=\"#000000\" fill-rule=\"nonzero\" fill-opacity=\"1\" /><path clip-path=\"url(#clip870)\" d=\"M66.5939 74.7703 L54.7884 93.2193 L66.5939 93.2193 L66.5939 74.7703 M65.367 70.6963 L71.2466 70.6963 L71.2466 93.2193 L76.1772 93.2193 L76.1772 97.1082 L71.2466 97.1082 L71.2466 105.256 L66.5939 105.256 L66.5939 97.1082 L50.9921 97.1082 L50.9921 92.5943 L65.367 70.6963 Z\" fill=\"#000000\" fill-rule=\"nonzero\" fill-opacity=\"1\" /><circle clip-path=\"url(#clip872)\" cx=\"553.597\" cy=\"1445.72\" r=\"14.4\" fill=\"#009af9\" fill-rule=\"evenodd\" fill-opacity=\"1\" stroke=\"#000000\" stroke-opacity=\"1\" stroke-width=\"3.2\"/>\n",
       "<circle clip-path=\"url(#clip872)\" cx=\"893.032\" cy=\"1445.72\" r=\"14.4\" fill=\"#009af9\" fill-rule=\"evenodd\" fill-opacity=\"1\" stroke=\"#000000\" stroke-opacity=\"1\" stroke-width=\"3.2\"/>\n",
       "<circle clip-path=\"url(#clip872)\" cx=\"1232.47\" cy=\"1445.72\" r=\"14.4\" fill=\"#009af9\" fill-rule=\"evenodd\" fill-opacity=\"1\" stroke=\"#000000\" stroke-opacity=\"1\" stroke-width=\"3.2\"/>\n",
       "<circle clip-path=\"url(#clip872)\" cx=\"1571.9\" cy=\"1445.72\" r=\"14.4\" fill=\"#009af9\" fill-rule=\"evenodd\" fill-opacity=\"1\" stroke=\"#000000\" stroke-opacity=\"1\" stroke-width=\"3.2\"/>\n",
       "<circle clip-path=\"url(#clip872)\" cx=\"1911.34\" cy=\"1445.72\" r=\"14.4\" fill=\"#009af9\" fill-rule=\"evenodd\" fill-opacity=\"1\" stroke=\"#000000\" stroke-opacity=\"1\" stroke-width=\"3.2\"/>\n",
       "<circle clip-path=\"url(#clip872)\" cx=\"553.597\" cy=\"1106.28\" r=\"14.4\" fill=\"#009af9\" fill-rule=\"evenodd\" fill-opacity=\"1\" stroke=\"#000000\" stroke-opacity=\"1\" stroke-width=\"3.2\"/>\n",
       "<circle clip-path=\"url(#clip872)\" cx=\"893.032\" cy=\"1106.28\" r=\"14.4\" fill=\"#009af9\" fill-rule=\"evenodd\" fill-opacity=\"1\" stroke=\"#000000\" stroke-opacity=\"1\" stroke-width=\"3.2\"/>\n",
       "<circle clip-path=\"url(#clip872)\" cx=\"1232.47\" cy=\"1106.28\" r=\"14.4\" fill=\"#009af9\" fill-rule=\"evenodd\" fill-opacity=\"1\" stroke=\"#000000\" stroke-opacity=\"1\" stroke-width=\"3.2\"/>\n",
       "<circle clip-path=\"url(#clip872)\" cx=\"1571.9\" cy=\"1106.28\" r=\"14.4\" fill=\"#009af9\" fill-rule=\"evenodd\" fill-opacity=\"1\" stroke=\"#000000\" stroke-opacity=\"1\" stroke-width=\"3.2\"/>\n",
       "<circle clip-path=\"url(#clip872)\" cx=\"1911.34\" cy=\"1106.28\" r=\"14.4\" fill=\"#009af9\" fill-rule=\"evenodd\" fill-opacity=\"1\" stroke=\"#000000\" stroke-opacity=\"1\" stroke-width=\"3.2\"/>\n",
       "<circle clip-path=\"url(#clip872)\" cx=\"553.597\" cy=\"766.846\" r=\"14.4\" fill=\"#009af9\" fill-rule=\"evenodd\" fill-opacity=\"1\" stroke=\"#000000\" stroke-opacity=\"1\" stroke-width=\"3.2\"/>\n",
       "<circle clip-path=\"url(#clip872)\" cx=\"893.032\" cy=\"766.846\" r=\"14.4\" fill=\"#009af9\" fill-rule=\"evenodd\" fill-opacity=\"1\" stroke=\"#000000\" stroke-opacity=\"1\" stroke-width=\"3.2\"/>\n",
       "<circle clip-path=\"url(#clip872)\" cx=\"1232.47\" cy=\"766.846\" r=\"14.4\" fill=\"#009af9\" fill-rule=\"evenodd\" fill-opacity=\"1\" stroke=\"#000000\" stroke-opacity=\"1\" stroke-width=\"3.2\"/>\n",
       "<circle clip-path=\"url(#clip872)\" cx=\"1571.9\" cy=\"766.846\" r=\"14.4\" fill=\"#009af9\" fill-rule=\"evenodd\" fill-opacity=\"1\" stroke=\"#000000\" stroke-opacity=\"1\" stroke-width=\"3.2\"/>\n",
       "<circle clip-path=\"url(#clip872)\" cx=\"1911.34\" cy=\"766.846\" r=\"14.4\" fill=\"#009af9\" fill-rule=\"evenodd\" fill-opacity=\"1\" stroke=\"#000000\" stroke-opacity=\"1\" stroke-width=\"3.2\"/>\n",
       "<circle clip-path=\"url(#clip872)\" cx=\"553.597\" cy=\"427.411\" r=\"14.4\" fill=\"#009af9\" fill-rule=\"evenodd\" fill-opacity=\"1\" stroke=\"#000000\" stroke-opacity=\"1\" stroke-width=\"3.2\"/>\n",
       "<circle clip-path=\"url(#clip872)\" cx=\"893.032\" cy=\"427.411\" r=\"14.4\" fill=\"#009af9\" fill-rule=\"evenodd\" fill-opacity=\"1\" stroke=\"#000000\" stroke-opacity=\"1\" stroke-width=\"3.2\"/>\n",
       "<circle clip-path=\"url(#clip872)\" cx=\"1232.47\" cy=\"427.411\" r=\"14.4\" fill=\"#009af9\" fill-rule=\"evenodd\" fill-opacity=\"1\" stroke=\"#000000\" stroke-opacity=\"1\" stroke-width=\"3.2\"/>\n",
       "<circle clip-path=\"url(#clip872)\" cx=\"1571.9\" cy=\"427.411\" r=\"14.4\" fill=\"#009af9\" fill-rule=\"evenodd\" fill-opacity=\"1\" stroke=\"#000000\" stroke-opacity=\"1\" stroke-width=\"3.2\"/>\n",
       "<circle clip-path=\"url(#clip872)\" cx=\"1911.34\" cy=\"427.411\" r=\"14.4\" fill=\"#009af9\" fill-rule=\"evenodd\" fill-opacity=\"1\" stroke=\"#000000\" stroke-opacity=\"1\" stroke-width=\"3.2\"/>\n",
       "<circle clip-path=\"url(#clip872)\" cx=\"553.597\" cy=\"87.9763\" r=\"14.4\" fill=\"#009af9\" fill-rule=\"evenodd\" fill-opacity=\"1\" stroke=\"#000000\" stroke-opacity=\"1\" stroke-width=\"3.2\"/>\n",
       "<circle clip-path=\"url(#clip872)\" cx=\"893.032\" cy=\"87.9763\" r=\"14.4\" fill=\"#009af9\" fill-rule=\"evenodd\" fill-opacity=\"1\" stroke=\"#000000\" stroke-opacity=\"1\" stroke-width=\"3.2\"/>\n",
       "<circle clip-path=\"url(#clip872)\" cx=\"1232.47\" cy=\"87.9763\" r=\"14.4\" fill=\"#009af9\" fill-rule=\"evenodd\" fill-opacity=\"1\" stroke=\"#000000\" stroke-opacity=\"1\" stroke-width=\"3.2\"/>\n",
       "<circle clip-path=\"url(#clip872)\" cx=\"1571.9\" cy=\"87.9763\" r=\"14.4\" fill=\"#009af9\" fill-rule=\"evenodd\" fill-opacity=\"1\" stroke=\"#000000\" stroke-opacity=\"1\" stroke-width=\"3.2\"/>\n",
       "<circle clip-path=\"url(#clip872)\" cx=\"1911.34\" cy=\"87.9763\" r=\"14.4\" fill=\"#009af9\" fill-rule=\"evenodd\" fill-opacity=\"1\" stroke=\"#000000\" stroke-opacity=\"1\" stroke-width=\"3.2\"/>\n",
       "<path clip-path=\"url(#clip870)\" d=\"M536.765 1420.69 L550.133 1420.69 L550.133 1374.55 L535.591 1377.46 L535.591 1370.01 L550.052 1367.09 L558.235 1367.09 L558.235 1420.69 L571.603 1420.69 L571.603 1427.57 L536.765 1427.57 L536.765 1420.69 Z\" fill=\"#000000\" fill-rule=\"nonzero\" fill-opacity=\"1\" /><path clip-path=\"url(#clip870)\" d=\"M883.674 1420.69 L912.233 1420.69 L912.233 1427.57 L873.83 1427.57 L873.83 1420.69 Q878.489 1415.86 886.51 1407.76 Q894.571 1399.62 896.637 1397.27 Q900.566 1392.86 902.106 1389.82 Q903.686 1386.74 903.686 1383.78 Q903.686 1378.96 900.283 1375.92 Q896.921 1372.88 891.492 1372.88 Q887.644 1372.88 883.35 1374.22 Q879.097 1375.56 874.235 1378.27 L874.235 1370.01 Q879.178 1368.02 883.472 1367.01 Q887.766 1366 891.33 1366 Q900.728 1366 906.319 1370.7 Q911.909 1375.4 911.909 1383.25 Q911.909 1386.98 910.491 1390.34 Q909.114 1393.67 905.427 1398.2 Q904.415 1399.38 898.987 1405.01 Q893.558 1410.6 883.674 1420.69 Z\" fill=\"#000000\" fill-rule=\"nonzero\" fill-opacity=\"1\" /><path clip-path=\"url(#clip870)\" d=\"M1239.9 1394.96 Q1245.77 1396.22 1249.05 1400.19 Q1252.38 1404.16 1252.38 1409.99 Q1252.38 1418.94 1246.22 1423.84 Q1240.06 1428.75 1228.72 1428.75 Q1224.91 1428.75 1220.86 1427.98 Q1216.85 1427.25 1212.56 1425.75 L1212.56 1417.85 Q1215.96 1419.83 1220.01 1420.85 Q1224.06 1421.86 1228.48 1421.86 Q1236.17 1421.86 1240.18 1418.82 Q1244.23 1415.78 1244.23 1409.99 Q1244.23 1404.64 1240.47 1401.65 Q1236.74 1398.61 1230.06 1398.61 L1223.01 1398.61 L1223.01 1391.88 L1230.38 1391.88 Q1236.42 1391.88 1239.62 1389.49 Q1242.82 1387.06 1242.82 1382.53 Q1242.82 1377.87 1239.49 1375.4 Q1236.21 1372.88 1230.06 1372.88 Q1226.69 1372.88 1222.85 1373.61 Q1219 1374.34 1214.38 1375.88 L1214.38 1368.59 Q1219.04 1367.29 1223.09 1366.65 Q1227.18 1366 1230.79 1366 Q1240.1 1366 1245.53 1370.25 Q1250.96 1374.46 1250.96 1381.67 Q1250.96 1386.7 1248.08 1390.18 Q1245.21 1393.63 1239.9 1394.96 Z\" fill=\"#000000\" fill-rule=\"nonzero\" fill-opacity=\"1\" /><path clip-path=\"url(#clip870)\" d=\"M1577.17 1374.22 L1556.51 1406.51 L1577.17 1406.51 L1577.17 1374.22 M1575.02 1367.09 L1585.31 1367.09 L1585.31 1406.51 L1593.94 1406.51 L1593.94 1413.31 L1585.31 1413.31 L1585.31 1427.57 L1577.17 1427.57 L1577.17 1413.31 L1549.86 1413.31 L1549.86 1405.41 L1575.02 1367.09 Z\" fill=\"#000000\" fill-rule=\"nonzero\" fill-opacity=\"1\" /><path clip-path=\"url(#clip870)\" d=\"M1894.32 1367.09 L1926.45 1367.09 L1926.45 1373.98 L1901.82 1373.98 L1901.82 1388.8 Q1903.6 1388.2 1905.38 1387.91 Q1907.16 1387.59 1908.95 1387.59 Q1919.07 1387.59 1924.99 1393.14 Q1930.9 1398.69 1930.9 1408.17 Q1930.9 1417.93 1924.83 1423.36 Q1918.75 1428.75 1907.69 1428.75 Q1903.88 1428.75 1899.91 1428.1 Q1895.98 1427.45 1891.77 1426.15 L1891.77 1417.93 Q1895.42 1419.92 1899.31 1420.89 Q1903.19 1421.86 1907.53 1421.86 Q1914.54 1421.86 1918.63 1418.17 Q1922.72 1414.49 1922.72 1408.17 Q1922.72 1401.85 1918.63 1398.16 Q1914.54 1394.48 1907.53 1394.48 Q1904.25 1394.48 1900.97 1395.2 Q1897.73 1395.93 1894.32 1397.47 L1894.32 1367.09 Z\" fill=\"#000000\" fill-rule=\"nonzero\" fill-opacity=\"1\" /><path clip-path=\"url(#clip870)\" d=\"M554.306 1054.64 Q548.797 1054.64 545.556 1058.4 Q542.356 1062.17 542.356 1068.73 Q542.356 1075.25 545.556 1079.06 Q548.797 1082.83 554.306 1082.83 Q559.815 1082.83 563.015 1079.06 Q566.256 1075.25 566.256 1068.73 Q566.256 1062.17 563.015 1058.4 Q559.815 1054.64 554.306 1054.64 M570.55 1028.99 L570.55 1036.45 Q567.471 1034.99 564.311 1034.22 Q561.192 1033.45 558.114 1033.45 Q550.012 1033.45 545.718 1038.92 Q541.464 1044.39 540.857 1055.45 Q543.247 1051.92 546.852 1050.06 Q550.457 1048.15 554.792 1048.15 Q563.906 1048.15 569.173 1053.7 Q574.479 1059.21 574.479 1068.73 Q574.479 1078.05 568.97 1083.68 Q563.461 1089.31 554.306 1089.31 Q543.814 1089.31 538.264 1081.29 Q532.714 1073.23 532.714 1057.96 Q532.714 1043.62 539.52 1035.11 Q546.325 1026.56 557.79 1026.56 Q560.868 1026.56 563.987 1027.17 Q567.147 1027.78 570.55 1028.99 Z\" fill=\"#000000\" fill-rule=\"nonzero\" fill-opacity=\"1\" /><path clip-path=\"url(#clip870)\" d=\"M873.587 1027.66 L912.476 1027.66 L912.476 1031.14 L890.52 1088.14 L881.973 1088.14 L902.632 1034.54 L873.587 1034.54 L873.587 1027.66 Z\" fill=\"#000000\" fill-rule=\"nonzero\" fill-opacity=\"1\" /><path clip-path=\"url(#clip870)\" d=\"M1232.47 1059.42 Q1226.63 1059.42 1223.27 1062.54 Q1219.95 1065.65 1219.95 1071.12 Q1219.95 1076.59 1223.27 1079.71 Q1226.63 1082.83 1232.47 1082.83 Q1238.3 1082.83 1241.66 1079.71 Q1245.02 1076.55 1245.02 1071.12 Q1245.02 1065.65 1241.66 1062.54 Q1238.34 1059.42 1232.47 1059.42 M1224.28 1055.93 Q1219.02 1054.64 1216.06 1051.03 Q1213.14 1047.43 1213.14 1042.24 Q1213.14 1034.99 1218.29 1030.78 Q1223.47 1026.56 1232.47 1026.56 Q1241.5 1026.56 1246.64 1030.78 Q1251.79 1034.99 1251.79 1042.24 Q1251.79 1047.43 1248.83 1051.03 Q1245.92 1054.64 1240.69 1055.93 Q1246.6 1057.31 1249.89 1061.32 Q1253.21 1065.33 1253.21 1071.12 Q1253.21 1079.91 1247.82 1084.61 Q1242.47 1089.31 1232.47 1089.31 Q1222.46 1089.31 1217.07 1084.61 Q1211.73 1079.91 1211.73 1071.12 Q1211.73 1065.33 1215.05 1061.32 Q1218.37 1057.31 1224.28 1055.93 M1221.29 1043.01 Q1221.29 1047.71 1224.2 1050.34 Q1227.16 1052.97 1232.47 1052.97 Q1237.73 1052.97 1240.69 1050.34 Q1243.69 1047.71 1243.69 1043.01 Q1243.69 1038.31 1240.69 1035.68 Q1237.73 1033.04 1232.47 1033.04 Q1227.16 1033.04 1224.2 1035.68 Q1221.29 1038.31 1221.29 1043.01 Z\" fill=\"#000000\" fill-rule=\"nonzero\" fill-opacity=\"1\" /><path clip-path=\"url(#clip870)\" d=\"M1554.93 1086.88 L1554.93 1079.43 Q1558.01 1080.89 1561.17 1081.66 Q1564.33 1082.43 1567.36 1082.43 Q1575.47 1082.43 1579.72 1077 Q1584.01 1071.53 1584.62 1060.43 Q1582.27 1063.91 1578.67 1065.78 Q1575.06 1067.64 1570.69 1067.64 Q1561.61 1067.64 1556.31 1062.17 Q1551.04 1056.66 1551.04 1047.14 Q1551.04 1037.82 1556.55 1032.19 Q1562.06 1026.56 1571.21 1026.56 Q1581.7 1026.56 1587.21 1034.62 Q1592.76 1042.65 1592.76 1057.96 Q1592.76 1072.26 1585.96 1080.8 Q1579.19 1089.31 1567.73 1089.31 Q1564.65 1089.31 1561.49 1088.7 Q1558.33 1088.1 1554.93 1086.88 M1571.21 1061.24 Q1576.72 1061.24 1579.92 1057.47 Q1583.16 1053.7 1583.16 1047.14 Q1583.16 1040.62 1579.92 1036.85 Q1576.72 1033.04 1571.21 1033.04 Q1565.7 1033.04 1562.46 1036.85 Q1559.26 1040.62 1559.26 1047.14 Q1559.26 1053.7 1562.46 1057.47 Q1565.7 1061.24 1571.21 1061.24 Z\" fill=\"#000000\" fill-rule=\"nonzero\" fill-opacity=\"1\" /><path clip-path=\"url(#clip870)\" d=\"M1867.04 1081.25 L1880.41 1081.25 L1880.41 1035.11 L1865.86 1038.03 L1865.86 1030.57 L1880.33 1027.66 L1888.51 1027.66 L1888.51 1081.25 L1901.88 1081.25 L1901.88 1088.14 L1867.04 1088.14 L1867.04 1081.25 Z\" fill=\"#000000\" fill-rule=\"nonzero\" fill-opacity=\"1\" /><path clip-path=\"url(#clip870)\" d=\"M1935.9 1033.04 Q1929.59 1033.04 1926.39 1039.28 Q1923.23 1045.48 1923.23 1057.96 Q1923.23 1070.39 1926.39 1076.63 Q1929.59 1082.83 1935.9 1082.83 Q1942.26 1082.83 1945.42 1076.63 Q1948.62 1070.39 1948.62 1057.96 Q1948.62 1045.48 1945.42 1039.28 Q1942.26 1033.04 1935.9 1033.04 M1935.9 1026.56 Q1946.07 1026.56 1951.42 1034.62 Q1956.81 1042.65 1956.81 1057.96 Q1956.81 1073.23 1951.42 1081.29 Q1946.07 1089.31 1935.9 1089.31 Q1925.74 1089.31 1920.35 1081.29 Q1915 1073.23 1915 1057.96 Q1915 1042.65 1920.35 1034.62 Q1925.74 1026.56 1935.9 1026.56 Z\" fill=\"#000000\" fill-rule=\"nonzero\" fill-opacity=\"1\" /><path clip-path=\"url(#clip870)\" d=\"M510.374 741.815 L523.742 741.815 L523.742 695.676 L509.199 698.592 L509.199 691.139 L523.661 688.222 L531.843 688.222 L531.843 741.815 L545.211 741.815 L545.211 748.702 L510.374 748.702 L510.374 741.815 Z\" fill=\"#000000\" fill-rule=\"nonzero\" fill-opacity=\"1\" /><path clip-path=\"url(#clip870)\" d=\"M563.157 741.815 L576.525 741.815 L576.525 695.676 L561.982 698.592 L561.982 691.139 L576.444 688.222 L584.627 688.222 L584.627 741.815 L597.995 741.815 L597.995 748.702 L563.157 748.702 L563.157 741.815 Z\" fill=\"#000000\" fill-rule=\"nonzero\" fill-opacity=\"1\" /><path clip-path=\"url(#clip870)\" d=\"M850.133 741.815 L863.501 741.815 L863.501 695.676 L848.958 698.592 L848.958 691.139 L863.42 688.222 L871.602 688.222 L871.602 741.815 L884.97 741.815 L884.97 748.702 L850.133 748.702 L850.133 741.815 Z\" fill=\"#000000\" fill-rule=\"nonzero\" fill-opacity=\"1\" /><path clip-path=\"url(#clip870)\" d=\"M908.547 741.815 L937.106 741.815 L937.106 748.702 L898.703 748.702 L898.703 741.815 Q903.361 736.995 911.382 728.893 Q919.444 720.751 921.51 718.401 Q925.439 713.986 926.978 710.948 Q928.558 707.869 928.558 704.912 Q928.558 700.091 925.155 697.053 Q921.793 694.015 916.365 694.015 Q912.517 694.015 908.223 695.352 Q903.969 696.688 899.108 699.402 L899.108 691.139 Q904.05 689.154 908.344 688.141 Q912.638 687.128 916.203 687.128 Q925.601 687.128 931.191 691.827 Q936.781 696.526 936.781 704.385 Q936.781 708.112 935.364 711.474 Q933.986 714.796 930.3 719.333 Q929.287 720.508 923.859 726.138 Q918.431 731.729 908.547 741.815 Z\" fill=\"#000000\" fill-rule=\"nonzero\" fill-opacity=\"1\" /><path clip-path=\"url(#clip870)\" d=\"M1188.74 741.815 L1202.11 741.815 L1202.11 695.676 L1187.56 698.592 L1187.56 691.139 L1202.02 688.222 L1210.21 688.222 L1210.21 741.815 L1223.57 741.815 L1223.57 748.702 L1188.74 748.702 L1188.74 741.815 Z\" fill=\"#000000\" fill-rule=\"nonzero\" fill-opacity=\"1\" /><path clip-path=\"url(#clip870)\" d=\"M1264.89 716.092 Q1270.77 717.348 1274.05 721.318 Q1277.37 725.288 1277.37 731.121 Q1277.37 740.074 1271.21 744.975 Q1265.06 749.877 1253.71 749.877 Q1249.91 749.877 1245.85 749.107 Q1241.84 748.378 1237.55 746.879 L1237.55 738.98 Q1240.95 740.965 1245 741.977 Q1249.05 742.99 1253.47 742.99 Q1261.17 742.99 1265.18 739.952 Q1269.23 736.914 1269.23 731.121 Q1269.23 725.774 1265.46 722.776 Q1261.73 719.738 1255.05 719.738 L1248 719.738 L1248 713.014 L1255.37 713.014 Q1261.41 713.014 1264.61 710.623 Q1267.81 708.193 1267.81 703.656 Q1267.81 698.997 1264.49 696.526 Q1261.21 694.015 1255.05 694.015 Q1251.69 694.015 1247.84 694.744 Q1243.99 695.473 1239.37 697.012 L1239.37 689.721 Q1244.03 688.425 1248.08 687.776 Q1252.17 687.128 1255.78 687.128 Q1265.1 687.128 1270.52 691.382 Q1275.95 695.595 1275.95 702.805 Q1275.95 707.828 1273.08 711.312 Q1270.2 714.755 1264.89 716.092 Z\" fill=\"#000000\" fill-rule=\"nonzero\" fill-opacity=\"1\" /><path clip-path=\"url(#clip870)\" d=\"M1527.18 741.815 L1540.55 741.815 L1540.55 695.676 L1526 698.592 L1526 691.139 L1540.47 688.222 L1548.65 688.222 L1548.65 741.815 L1562.02 741.815 L1562.02 748.702 L1527.18 748.702 L1527.18 741.815 Z\" fill=\"#000000\" fill-rule=\"nonzero\" fill-opacity=\"1\" /><path clip-path=\"url(#clip870)\" d=\"M1601.03 695.352 L1580.37 727.637 L1601.03 727.637 L1601.03 695.352 M1598.88 688.222 L1609.17 688.222 L1609.17 727.637 L1617.8 727.637 L1617.8 734.443 L1609.17 734.443 L1609.17 748.702 L1601.03 748.702 L1601.03 734.443 L1573.72 734.443 L1573.72 726.544 L1598.88 688.222 Z\" fill=\"#000000\" fill-rule=\"nonzero\" fill-opacity=\"1\" /><path clip-path=\"url(#clip870)\" d=\"M1867.91 741.815 L1881.28 741.815 L1881.28 695.676 L1866.74 698.592 L1866.74 691.139 L1881.2 688.222 L1889.38 688.222 L1889.38 741.815 L1902.75 741.815 L1902.75 748.702 L1867.91 748.702 L1867.91 741.815 Z\" fill=\"#000000\" fill-rule=\"nonzero\" fill-opacity=\"1\" /><path clip-path=\"url(#clip870)\" d=\"M1919.36 688.222 L1951.48 688.222 L1951.48 695.109 L1926.85 695.109 L1926.85 709.935 Q1928.63 709.327 1930.42 709.044 Q1932.2 708.72 1933.98 708.72 Q1944.11 708.72 1950.02 714.269 Q1955.94 719.819 1955.94 729.298 Q1955.94 739.061 1949.86 744.489 Q1943.78 749.877 1932.73 749.877 Q1928.92 749.877 1924.95 749.229 Q1921.02 748.58 1916.8 747.284 L1916.8 739.061 Q1920.45 741.046 1924.34 742.018 Q1928.23 742.99 1932.56 742.99 Q1939.57 742.99 1943.66 739.304 Q1947.75 735.618 1947.75 729.298 Q1947.75 722.979 1943.66 719.292 Q1939.57 715.606 1932.56 715.606 Q1929.28 715.606 1926 716.335 Q1922.76 717.064 1919.36 718.604 L1919.36 688.222 Z\" fill=\"#000000\" fill-rule=\"nonzero\" fill-opacity=\"1\" /><path clip-path=\"url(#clip870)\" d=\"M509.158 402.381 L522.526 402.381 L522.526 356.241 L507.984 359.157 L507.984 351.704 L522.445 348.787 L530.628 348.787 L530.628 402.381 L543.996 402.381 L543.996 409.267 L509.158 409.267 L509.158 402.381 Z\" fill=\"#000000\" fill-rule=\"nonzero\" fill-opacity=\"1\" /><path clip-path=\"url(#clip870)\" d=\"M579.037 375.766 Q573.527 375.766 570.287 379.533 Q567.086 383.301 567.086 389.863 Q567.086 396.385 570.287 400.193 Q573.527 403.96 579.037 403.96 Q584.546 403.96 587.746 400.193 Q590.987 396.385 590.987 389.863 Q590.987 383.301 587.746 379.533 Q584.546 375.766 579.037 375.766 M595.281 350.124 L595.281 357.578 Q592.202 356.119 589.042 355.35 Q585.923 354.58 582.844 354.58 Q574.743 354.58 570.449 360.049 Q566.195 365.517 565.588 376.576 Q567.978 373.052 571.583 371.189 Q575.188 369.285 579.523 369.285 Q588.637 369.285 593.903 374.834 Q599.21 380.344 599.21 389.863 Q599.21 399.18 593.701 404.811 Q588.192 410.442 579.037 410.442 Q568.545 410.442 562.995 402.421 Q557.445 394.36 557.445 379.088 Q557.445 364.748 564.251 356.241 Q571.056 347.693 582.52 347.693 Q585.599 347.693 588.718 348.301 Q591.878 348.909 595.281 350.124 Z\" fill=\"#000000\" fill-rule=\"nonzero\" fill-opacity=\"1\" /><path clip-path=\"url(#clip870)\" d=\"M849.525 402.381 L862.893 402.381 L862.893 356.241 L848.35 359.157 L848.35 351.704 L862.812 348.787 L870.995 348.787 L870.995 402.381 L884.363 402.381 L884.363 409.267 L849.525 409.267 L849.525 402.381 Z\" fill=\"#000000\" fill-rule=\"nonzero\" fill-opacity=\"1\" /><path clip-path=\"url(#clip870)\" d=\"M898.824 348.787 L937.713 348.787 L937.713 352.271 L915.757 409.267 L907.21 409.267 L927.869 355.674 L898.824 355.674 L898.824 348.787 Z\" fill=\"#000000\" fill-rule=\"nonzero\" fill-opacity=\"1\" /><path clip-path=\"url(#clip870)\" d=\"M1188.25 402.381 L1201.62 402.381 L1201.62 356.241 L1187.08 359.157 L1187.08 351.704 L1201.54 348.787 L1209.72 348.787 L1209.72 402.381 L1223.09 402.381 L1223.09 409.267 L1188.25 409.267 L1188.25 402.381 Z\" fill=\"#000000\" fill-rule=\"nonzero\" fill-opacity=\"1\" /><path clip-path=\"url(#clip870)\" d=\"M1257.12 380.546 Q1251.28 380.546 1247.92 383.665 Q1244.6 386.785 1244.6 392.253 Q1244.6 397.722 1247.92 400.841 Q1251.28 403.96 1257.12 403.96 Q1262.95 403.96 1266.31 400.841 Q1269.67 397.682 1269.67 392.253 Q1269.67 386.785 1266.31 383.665 Q1262.99 380.546 1257.12 380.546 M1248.93 377.062 Q1243.67 375.766 1240.71 372.161 Q1237.79 368.556 1237.79 363.37 Q1237.79 356.119 1242.94 351.906 Q1248.12 347.693 1257.12 347.693 Q1266.15 347.693 1271.29 351.906 Q1276.44 356.119 1276.44 363.37 Q1276.44 368.556 1273.48 372.161 Q1270.57 375.766 1265.34 377.062 Q1271.25 378.44 1274.54 382.45 Q1277.86 386.461 1277.86 392.253 Q1277.86 401.044 1272.47 405.743 Q1267.12 410.442 1257.12 410.442 Q1247.11 410.442 1241.72 405.743 Q1236.38 401.044 1236.38 392.253 Q1236.38 386.461 1239.7 382.45 Q1243.02 378.44 1248.93 377.062 M1245.94 364.14 Q1245.94 368.839 1248.85 371.472 Q1251.81 374.105 1257.12 374.105 Q1262.38 374.105 1265.34 371.472 Q1268.34 368.839 1268.34 364.14 Q1268.34 359.441 1265.34 356.808 Q1262.38 354.175 1257.12 354.175 Q1251.81 354.175 1248.85 356.808 Q1245.94 359.441 1245.94 364.14 Z\" fill=\"#000000\" fill-rule=\"nonzero\" fill-opacity=\"1\" /><path clip-path=\"url(#clip870)\" d=\"M1527.77 402.381 L1541.13 402.381 L1541.13 356.241 L1526.59 359.157 L1526.59 351.704 L1541.05 348.787 L1549.24 348.787 L1549.24 402.381 L1562.6 402.381 L1562.6 409.267 L1527.77 409.267 L1527.77 402.381 Z\" fill=\"#000000\" fill-rule=\"nonzero\" fill-opacity=\"1\" /><path clip-path=\"url(#clip870)\" d=\"M1579.38 408.011 L1579.38 400.558 Q1582.45 402.016 1585.61 402.786 Q1588.77 403.555 1591.81 403.555 Q1599.91 403.555 1604.17 398.127 Q1608.46 392.658 1609.07 381.559 Q1606.72 385.043 1603.11 386.906 Q1599.51 388.77 1595.13 388.77 Q1586.06 388.77 1580.75 383.301 Q1575.49 377.792 1575.49 368.272 Q1575.49 358.955 1581 353.324 Q1586.5 347.693 1595.66 347.693 Q1606.15 347.693 1611.66 355.755 Q1617.21 363.775 1617.21 379.088 Q1617.21 393.388 1610.41 401.935 Q1603.64 410.442 1592.18 410.442 Q1589.1 410.442 1585.94 409.834 Q1582.78 409.227 1579.38 408.011 M1595.66 382.369 Q1601.17 382.369 1604.37 378.602 Q1607.61 374.834 1607.61 368.272 Q1607.61 361.75 1604.37 357.983 Q1601.17 354.175 1595.66 354.175 Q1590.15 354.175 1586.91 357.983 Q1583.71 361.75 1583.71 368.272 Q1583.71 374.834 1586.91 378.602 Q1590.15 382.369 1595.66 382.369 Z\" fill=\"#000000\" fill-rule=\"nonzero\" fill-opacity=\"1\" /><path clip-path=\"url(#clip870)\" d=\"M1874.19 402.381 L1902.75 402.381 L1902.75 409.267 L1864.35 409.267 L1864.35 402.381 Q1869 397.56 1877.03 389.458 Q1885.09 381.316 1887.15 378.966 Q1891.08 374.551 1892.62 371.513 Q1894.2 368.434 1894.2 365.477 Q1894.2 360.656 1890.8 357.618 Q1887.44 354.58 1882.01 354.58 Q1878.16 354.58 1873.87 355.917 Q1869.61 357.254 1864.75 359.968 L1864.75 351.704 Q1869.69 349.719 1873.99 348.706 Q1878.28 347.693 1881.85 347.693 Q1891.24 347.693 1896.83 352.392 Q1902.42 357.091 1902.42 364.95 Q1902.42 368.677 1901.01 372.039 Q1899.63 375.361 1895.94 379.898 Q1894.93 381.073 1889.5 386.704 Q1884.07 392.294 1874.19 402.381 Z\" fill=\"#000000\" fill-rule=\"nonzero\" fill-opacity=\"1\" /><path clip-path=\"url(#clip870)\" d=\"M1937.42 354.175 Q1931.1 354.175 1927.9 360.413 Q1924.74 366.611 1924.74 379.088 Q1924.74 391.524 1927.9 397.763 Q1931.1 403.96 1937.42 403.96 Q1943.78 403.96 1946.94 397.763 Q1950.14 391.524 1950.14 379.088 Q1950.14 366.611 1946.94 360.413 Q1943.78 354.175 1937.42 354.175 M1937.42 347.693 Q1947.59 347.693 1952.94 355.755 Q1958.33 363.775 1958.33 379.088 Q1958.33 394.36 1952.94 402.421 Q1947.59 410.442 1937.42 410.442 Q1927.26 410.442 1921.87 402.421 Q1916.52 394.36 1916.52 379.088 Q1916.52 363.775 1921.87 355.755 Q1927.26 347.693 1937.42 347.693 Z\" fill=\"#000000\" fill-rule=\"nonzero\" fill-opacity=\"1\" /><path clip-path=\"url(#clip870)\" d=\"M517.524 62.9457 L546.082 62.9457 L546.082 69.8323 L507.68 69.8323 L507.68 62.9457 Q512.338 58.1252 520.359 50.0234 Q528.42 41.881 530.486 39.5315 Q534.416 35.116 535.955 32.0778 Q537.535 28.9992 537.535 26.042 Q537.535 21.2214 534.132 18.1832 Q530.77 15.1451 525.342 15.1451 Q521.493 15.1451 517.199 16.4819 Q512.946 17.8187 508.085 20.5328 L508.085 12.2689 Q513.027 10.284 517.321 9.27126 Q521.615 8.25853 525.18 8.25853 Q534.578 8.25853 540.168 12.9576 Q545.758 17.6566 545.758 25.5154 Q545.758 29.2422 544.341 32.6045 Q542.963 35.9262 539.277 40.4632 Q538.264 41.638 532.836 47.2687 Q527.408 52.859 517.524 62.9457 Z\" fill=\"#000000\" fill-rule=\"nonzero\" fill-opacity=\"1\" /><path clip-path=\"url(#clip870)\" d=\"M564.676 62.9457 L578.044 62.9457 L578.044 16.8059 L563.501 19.7226 L563.501 12.2689 L577.963 9.35228 L586.146 9.35228 L586.146 62.9457 L599.514 62.9457 L599.514 69.8323 L564.676 69.8323 L564.676 62.9457 Z\" fill=\"#000000\" fill-rule=\"nonzero\" fill-opacity=\"1\" /><path clip-path=\"url(#clip870)\" d=\"M857.282 62.9457 L885.841 62.9457 L885.841 69.8323 L847.439 69.8323 L847.439 62.9457 Q852.097 58.1252 860.118 50.0234 Q868.179 41.881 870.245 39.5315 Q874.175 35.116 875.714 32.0778 Q877.294 28.9992 877.294 26.042 Q877.294 21.2214 873.891 18.1832 Q870.529 15.1451 865.101 15.1451 Q861.252 15.1451 856.958 16.4819 Q852.705 17.8187 847.844 20.5328 L847.844 12.2689 Q852.786 10.284 857.08 9.27126 Q861.374 8.25853 864.939 8.25853 Q874.337 8.25853 879.927 12.9576 Q885.517 17.6566 885.517 25.5154 Q885.517 29.2422 884.099 32.6045 Q882.722 35.9262 879.036 40.4632 Q878.023 41.638 872.595 47.2687 Q867.167 52.859 857.282 62.9457 Z\" fill=\"#000000\" fill-rule=\"nonzero\" fill-opacity=\"1\" /><path clip-path=\"url(#clip870)\" d=\"M910.066 62.9457 L938.625 62.9457 L938.625 69.8323 L900.222 69.8323 L900.222 62.9457 Q904.881 58.1252 912.901 50.0234 Q920.963 41.881 923.029 39.5315 Q926.958 35.116 928.497 32.0778 Q930.077 28.9992 930.077 26.042 Q930.077 21.2214 926.674 18.1832 Q923.312 15.1451 917.884 15.1451 Q914.036 15.1451 909.742 16.4819 Q905.488 17.8187 900.627 20.5328 L900.627 12.2689 Q905.569 10.284 909.863 9.27126 Q914.157 8.25853 917.722 8.25853 Q927.12 8.25853 932.71 12.9576 Q938.301 17.6566 938.301 25.5154 Q938.301 29.2422 936.883 32.6045 Q935.505 35.9262 931.819 40.4632 Q930.806 41.638 925.378 47.2687 Q919.95 52.859 910.066 62.9457 Z\" fill=\"#000000\" fill-rule=\"nonzero\" fill-opacity=\"1\" /><path clip-path=\"url(#clip870)\" d=\"M1195.89 62.9457 L1224.45 62.9457 L1224.45 69.8323 L1186.04 69.8323 L1186.04 62.9457 Q1190.7 58.1252 1198.72 50.0234 Q1206.78 41.881 1208.85 39.5315 Q1212.78 35.116 1214.32 32.0778 Q1215.9 28.9992 1215.9 26.042 Q1215.9 21.2214 1212.5 18.1832 Q1209.13 15.1451 1203.71 15.1451 Q1199.86 15.1451 1195.56 16.4819 Q1191.31 17.8187 1186.45 20.5328 L1186.45 12.2689 Q1191.39 10.284 1195.68 9.27126 Q1199.98 8.25853 1203.54 8.25853 Q1212.94 8.25853 1218.53 12.9576 Q1224.12 17.6566 1224.12 25.5154 Q1224.12 29.2422 1222.7 32.6045 Q1221.33 35.9262 1217.64 40.4632 Q1216.63 41.638 1211.2 47.2687 Q1205.77 52.859 1195.89 62.9457 Z\" fill=\"#000000\" fill-rule=\"nonzero\" fill-opacity=\"1\" /><path clip-path=\"url(#clip870)\" d=\"M1266.41 37.2225 Q1272.29 38.4783 1275.57 42.4482 Q1278.89 46.4181 1278.89 52.2514 Q1278.89 61.2039 1272.73 66.1054 Q1266.58 71.007 1255.23 71.007 Q1251.42 71.007 1247.37 70.2374 Q1243.36 69.5082 1239.07 68.0094 L1239.07 60.1101 Q1242.47 62.095 1246.52 63.1078 Q1250.57 64.1205 1254.99 64.1205 Q1262.69 64.1205 1266.7 61.0823 Q1270.75 58.0441 1270.75 52.2514 Q1270.75 46.9042 1266.98 43.9065 Q1263.25 40.8683 1256.57 40.8683 L1249.52 40.8683 L1249.52 34.1438 L1256.89 34.1438 Q1262.93 34.1438 1266.13 31.7538 Q1269.33 29.3232 1269.33 24.7862 Q1269.33 20.1277 1266.01 17.6566 Q1262.73 15.1451 1256.57 15.1451 Q1253.21 15.1451 1249.36 15.8742 Q1245.51 16.6034 1240.89 18.1427 L1240.89 10.8511 Q1245.55 9.55482 1249.6 8.90668 Q1253.69 8.25853 1257.3 8.25853 Q1266.62 8.25853 1272.04 12.512 Q1277.47 16.7249 1277.47 23.9355 Q1277.47 28.9587 1274.6 32.4424 Q1271.72 35.8857 1266.41 37.2225 Z\" fill=\"#000000\" fill-rule=\"nonzero\" fill-opacity=\"1\" /><path clip-path=\"url(#clip870)\" d=\"M1534.33 62.9457 L1562.89 62.9457 L1562.89 69.8323 L1524.49 69.8323 L1524.49 62.9457 Q1529.14 58.1252 1537.16 50.0234 Q1545.23 41.881 1547.29 39.5315 Q1551.22 35.116 1552.76 32.0778 Q1554.34 28.9992 1554.34 26.042 Q1554.34 21.2214 1550.94 18.1832 Q1547.58 15.1451 1542.15 15.1451 Q1538.3 15.1451 1534.01 16.4819 Q1529.75 17.8187 1524.89 20.5328 L1524.89 12.2689 Q1529.83 10.284 1534.13 9.27126 Q1538.42 8.25853 1541.99 8.25853 Q1551.38 8.25853 1556.97 12.9576 Q1562.56 17.6566 1562.56 25.5154 Q1562.56 29.2422 1561.15 32.6045 Q1559.77 35.9262 1556.08 40.4632 Q1555.07 41.638 1549.64 47.2687 Q1544.21 52.859 1534.33 62.9457 Z\" fill=\"#000000\" fill-rule=\"nonzero\" fill-opacity=\"1\" /><path clip-path=\"url(#clip870)\" d=\"M1602.55 16.4819 L1581.89 48.7676 L1602.55 48.7676 L1602.55 16.4819 M1600.4 9.35228 L1610.69 9.35228 L1610.69 48.7676 L1619.32 48.7676 L1619.32 55.5731 L1610.69 55.5731 L1610.69 69.8323 L1602.55 69.8323 L1602.55 55.5731 L1575.24 55.5731 L1575.24 47.6738 L1600.4 9.35228 Z\" fill=\"#000000\" fill-rule=\"nonzero\" fill-opacity=\"1\" /><path clip-path=\"url(#clip870)\" d=\"M1875.06 62.9457 L1903.62 62.9457 L1903.62 69.8323 L1865.22 69.8323 L1865.22 62.9457 Q1869.88 58.1252 1877.9 50.0234 Q1885.96 41.881 1888.02 39.5315 Q1891.95 35.116 1893.49 32.0778 Q1895.07 28.9992 1895.07 26.042 Q1895.07 21.2214 1891.67 18.1832 Q1888.31 15.1451 1882.88 15.1451 Q1879.03 15.1451 1874.74 16.4819 Q1870.48 17.8187 1865.62 20.5328 L1865.62 12.2689 Q1870.56 10.284 1874.86 9.27126 Q1879.15 8.25853 1882.72 8.25853 Q1892.11 8.25853 1897.7 12.9576 Q1903.3 17.6566 1903.3 25.5154 Q1903.3 29.2422 1901.88 32.6045 Q1900.5 35.9262 1896.81 40.4632 Q1895.8 41.638 1890.37 47.2687 Q1884.94 52.859 1875.06 62.9457 Z\" fill=\"#000000\" fill-rule=\"nonzero\" fill-opacity=\"1\" /><path clip-path=\"url(#clip870)\" d=\"M1920.88 9.35228 L1953 9.35228 L1953 16.2388 L1928.37 16.2388 L1928.37 31.0651 Q1930.15 30.4575 1931.94 30.1739 Q1933.72 29.8499 1935.5 29.8499 Q1945.63 29.8499 1951.54 35.3996 Q1957.46 40.9493 1957.46 50.4284 Q1957.46 60.1911 1951.38 65.6193 Q1945.3 71.007 1934.24 71.007 Q1930.44 71.007 1926.47 70.3589 Q1922.54 69.7107 1918.32 68.4145 L1918.32 60.1911 Q1921.97 62.1761 1925.86 63.1483 Q1929.75 64.1205 1934.08 64.1205 Q1941.09 64.1205 1945.18 60.4342 Q1949.27 56.7479 1949.27 50.4284 Q1949.27 44.109 1945.18 40.4227 Q1941.09 36.7364 1934.08 36.7364 Q1930.8 36.7364 1927.52 37.4656 Q1924.28 38.1947 1920.88 39.7341 L1920.88 9.35228 Z\" fill=\"#000000\" fill-rule=\"nonzero\" fill-opacity=\"1\" /></svg>\n"
      ]
     },
     "metadata": {},
     "output_type": "display_data"
    },
    {
     "data": {
      "text/plain": [
       "([0 0; 1 0; … ; 3 4; 4 4], nothing)"
      ]
     },
     "execution_count": 57,
     "metadata": {},
     "output_type": "execute_result"
    }
   ],
   "source": [
    "plot_square_lattice(Nx, Ny)"
   ]
  },
  {
   "cell_type": "markdown",
   "id": "596c35be-6d9d-413b-8e73-fc4801cb239c",
   "metadata": {},
   "source": [
    "For particle pinning: V0<0 & PN = 1, U = 0!"
   ]
  },
  {
   "cell_type": "code",
   "execution_count": 58,
   "id": "44eca276-c696-4f56-9e03-27b3141a5d2a",
   "metadata": {
    "editable": true,
    "slideshow": {
     "slide_type": ""
    },
    "tags": []
   },
   "outputs": [],
   "source": [
    "V0 = [4, 0]; Imp_Site = [19, 1]\n",
    "Impurity_Data = Impurity(V0, Imp_Site);"
   ]
  },
  {
   "cell_type": "code",
   "execution_count": 59,
   "id": "7efa2faf-ec2d-44bd-87b1-53d99bd0a880",
   "metadata": {},
   "outputs": [
    {
     "data": {
      "text/plain": [
       "Number_sub (generic function with 1 method)"
      ]
     },
     "execution_count": 59,
     "metadata": {},
     "output_type": "execute_result"
    }
   ],
   "source": [
    "function Number_sub(N, sp_basis, P, Pt, basis_cut_sp, basis_cut_mb, basis_sub)\n",
    "    num_sub_list = get_num_sub_list(N, sp_basis, P, Pt)\n",
    "    Sub_Number_MB_Operator_List = get_num_mb_op(N, basis_cut_sp, num_sub_list, basis_cut_mb, basis_sub)\n",
    "    return Sub_Number_MB_Operator_List\n",
    "end"
   ]
  },
  {
   "cell_type": "code",
   "execution_count": 60,
   "id": "0a6039ea-7894-4402-987d-a88134244b02",
   "metadata": {},
   "outputs": [
    {
     "name": "stderr",
     "output_type": "stream",
     "text": [
      "0.0%┣                                               ┫ 0/25 [00:00<00:00, -0s/it]\n",
      "100.0%┣████████████████████████████████████████┫ 25/25 [00:00<00:00, 277.7kit/s]\n",
      "100.0%┣████████████████████████████████████████┫ 25/25 [00:00<00:00, 220.7kit/s]\n"
     ]
    }
   ],
   "source": [
    "Sub_Number_MB_Operator_List = Number_sub(N, sp_basis, P, Pt, basis_cut_sp, basis_cut_mb, basis_sub);"
   ]
  },
  {
   "cell_type": "code",
   "execution_count": 61,
   "id": "3cd45086-3c37-4b82-a99b-5ce0a8b1f6cf",
   "metadata": {
    "editable": true,
    "slideshow": {
     "slide_type": ""
    },
    "tags": []
   },
   "outputs": [
    {
     "data": {
      "text/plain": [
       "get_H_Impurity (generic function with 1 method)"
      ]
     },
     "execution_count": 61,
     "metadata": {},
     "output_type": "execute_result"
    }
   ],
   "source": [
    "function get_H_Impurity(N, sp_basis, P, Pt, basis_cut_sp, basis_cut_mb, basis_sub, Total_H, Sub_Number_MB_Operator_List, Impurity_Data)\n",
    "    H_Impurity = Imp_H(Total_H, Sub_Number_MB_Operator_List, Impurity_Data)\n",
    "    H_Impurity = dense((H_Impurity'+H_Impurity)/2);\n",
    "    return H_Impurity\n",
    "end"
   ]
  },
  {
   "cell_type": "code",
   "execution_count": 77,
   "id": "53d2462b-750f-4f1e-9608-5b297b57faba",
   "metadata": {},
   "outputs": [
    {
     "data": {
      "text/plain": [
       "Operator(dim=21x21)\n",
       "  basis: ManyBody(onebodybasis=NLevel(N=5), states:21)\n",
       " 0.0+0.0im         0.0+0.0im        …         0.0+0.0im\n",
       " 0.0+0.0im    -2.77742+0.0im                  0.0+0.0im\n",
       " 0.0+0.0im  -0.0725831+0.0205916im            0.0+0.0im\n",
       " 0.0+0.0im   -0.211111-0.0966143im            0.0+0.0im\n",
       " 0.0+0.0im   0.0680004-0.0561294im            0.0+0.0im\n",
       " 0.0+0.0im   -0.217056-0.0317573im  …         0.0+0.0im\n",
       " 0.0+0.0im         0.0+0.0im            0.0229451+0.038657im\n",
       " 0.0+0.0im         0.0+0.0im           -0.0133783+0.012825im\n",
       " 0.0+0.0im         0.0+0.0im           -0.0657446-0.00726629im\n",
       " 0.0+0.0im         0.0+0.0im            0.0256925+0.0431488im\n",
       " 0.0+0.0im         0.0+0.0im        …   -0.252858+0.0293577im\n",
       " 0.0+0.0im         0.0+0.0im           0.00992466+0.0236464im\n",
       " 0.0+0.0im         0.0+0.0im            0.0385346-0.00758159im\n",
       " 0.0+0.0im         0.0+0.0im           -0.0325696+0.00817572im\n",
       " 0.0+0.0im         0.0+0.0im             0.112211-0.0130903im\n",
       " 0.0+0.0im         0.0+0.0im        …   0.0453709-0.00568742im\n",
       " 0.0+0.0im         0.0+0.0im           -0.0370331+0.0270642im\n",
       " 0.0+0.0im         0.0+0.0im             0.325084+0.128512im\n",
       " 0.0+0.0im         0.0+0.0im           0.00956068-0.0271362im\n",
       " 0.0+0.0im         0.0+0.0im            -0.108327+0.163336im\n",
       " 0.0+0.0im         0.0+0.0im        …     -5.0811+0.0im"
      ]
     },
     "execution_count": 77,
     "metadata": {},
     "output_type": "execute_result"
    }
   ],
   "source": [
    "H_Impurity = get_H_Impurity(N, sp_basis, P, Pt, basis_cut_sp, basis_cut_mb, basis_sub, Total_H, Sub_Number_MB_Operator_List, Impurity_Data)"
   ]
  },
  {
   "cell_type": "code",
   "execution_count": null,
   "id": "c5472781-5fcb-478c-859f-02d866197ccc",
   "metadata": {},
   "outputs": [],
   "source": []
  },
  {
   "cell_type": "code",
   "execution_count": 63,
   "id": "344aa3d8-af7b-4fa1-ad2c-d8383252e345",
   "metadata": {},
   "outputs": [],
   "source": [
    "# SP IMPURITY"
   ]
  },
  {
   "cell_type": "code",
   "execution_count": 64,
   "id": "9a82f012-1b66-4f4b-b3c0-807bbecf499c",
   "metadata": {},
   "outputs": [],
   "source": [
    "# VV = zeros(Nx*Ny,Nx*Ny)\n",
    "# site = Impurity_Data.Imp_Site[1]\n",
    "# VV[site, site] = Impurity_Data.V0[1] # full localised single particle\n",
    "# VV = Operator(sp_basis,sp_basis,VV);"
   ]
  },
  {
   "cell_type": "code",
   "execution_count": 65,
   "id": "1b5bed01-94d8-4b91-8f2f-481ca03ca147",
   "metadata": {},
   "outputs": [],
   "source": [
    "# H_imp_SP = H1 + VV;"
   ]
  },
  {
   "cell_type": "code",
   "execution_count": 66,
   "id": "997b7fb3-63e5-4050-b2d9-69b9ee34484a",
   "metadata": {},
   "outputs": [],
   "source": [
    "# sub_states = get_sub_states(H_imp_SP, cut_off)\n",
    "# basis_sub, P, Pt = get_projector_op(sub_states, sp_basis)\n",
    "# H_imp_sp_sub = get_subspace_op(H_imp_SP, P, Pt)\n",
    "# H_imp_sp_sub = (H_imp_sp_sub' + H_imp_sp_sub)/2;"
   ]
  },
  {
   "cell_type": "code",
   "execution_count": 67,
   "id": "21b4b9fa-d170-4f2b-97c2-55e3c4bf5578",
   "metadata": {},
   "outputs": [],
   "source": [
    "# E_sp_sub, V_sp_sub = eigenstates(H_imp_sp_sub);\n",
    "# scatter(E_sp_sub)"
   ]
  },
  {
   "cell_type": "markdown",
   "id": "wrapped-wesley",
   "metadata": {},
   "source": [
    "\\begin{align*}\n",
    "    &\\text{Filling fraction:} \\quad \\nu=\\frac{N}{N_{\\Phi}} = \\frac{3}{8}, \\quad \\text{Laughlin fraction: } \\frac{N}{N_{\\Phi}}=\\frac{3}{6}=\\frac{1}{2} => \\text{There are 2 free quasi-particles.} \\\\\n",
    "    &\\text{So, added 2 flux in the lattice is mean that, +2 free quasi-particles. One of them is pinned.}\n",
    "\\end{align*}"
   ]
  },
  {
   "cell_type": "markdown",
   "id": "major-writer",
   "metadata": {},
   "source": [
    "# Exact Diagonalization"
   ]
  },
  {
   "cell_type": "code",
   "execution_count": 68,
   "id": "fde8bcf2-d4f2-45d4-8ef6-53712352b70a",
   "metadata": {},
   "outputs": [
    {
     "data": {
      "text/plain": [
       "1"
      ]
     },
     "execution_count": 68,
     "metadata": {},
     "output_type": "execute_result"
    }
   ],
   "source": [
    "N_Pin = 1"
   ]
  },
  {
   "cell_type": "code",
   "execution_count": 69,
   "id": "8bd233b1-3cd1-4013-b742-a4066506d94e",
   "metadata": {
    "tags": []
   },
   "outputs": [
    {
     "data": {
      "text/plain": [
       "ground_degeneracy (generic function with 1 method)"
      ]
     },
     "execution_count": 69,
     "metadata": {},
     "output_type": "execute_result"
    }
   ],
   "source": [
    "function ground_degeneracy(N_Pin, nu0, PN)\n",
    "    NPhi0 = Nx*Ny*(p/q)\n",
    "    NPhi = NPhi0-N_Pin\n",
    "    pn = maximum(PN)\n",
    "    N_d = Int(NPhi - pn/nu0)\n",
    "    Degeneracy = Int((factorial(N_d + pn - 1) / (factorial(N_d) * factorial(pn - 1))) * (NPhi / pn))\n",
    "    return Degeneracy\n",
    "end"
   ]
  },
  {
   "cell_type": "code",
   "execution_count": 70,
   "id": "ce838f9a-e9fb-4e45-9354-ad9147f29183",
   "metadata": {},
   "outputs": [
    {
     "data": {
      "text/plain": [
       "2"
      ]
     },
     "execution_count": 70,
     "metadata": {},
     "output_type": "execute_result"
    }
   ],
   "source": [
    "if length(PN) != 1\n",
    "    nu0 = 1/2\n",
    "    Degeneracy = ground_degeneracy(N_Pin, nu0, PN)\n",
    "else\n",
    "    Degeneracy = 1\n",
    "end"
   ]
  },
  {
   "cell_type": "code",
   "execution_count": 71,
   "id": "45453760-53c7-4e7f-a5ac-02c5e91623cc",
   "metadata": {},
   "outputs": [
    {
     "data": {
      "text/plain": [
       "2"
      ]
     },
     "execution_count": 71,
     "metadata": {},
     "output_type": "execute_result"
    }
   ],
   "source": [
    "Degeneracy"
   ]
  },
  {
   "cell_type": "code",
   "execution_count": 79,
   "id": "37e26066-0bf6-4cf8-adde-b5a000695171",
   "metadata": {},
   "outputs": [
    {
     "data": {
      "text/plain": [
       "21-element Vector{Float64}:\n",
       " -5.926755129669783\n",
       " -5.9246849879102585\n",
       " -5.81928786610193\n",
       " -5.7118665485760305\n",
       " -5.6584167030727714\n",
       " -5.580409395780075\n",
       " -5.579265763015054\n",
       " -5.508643184577587\n",
       " -5.463517767743623\n",
       " -5.460245983254503\n",
       " -5.076753464043842\n",
       " -4.9977505461547675\n",
       " -4.800134305743249\n",
       " -4.765359762372385\n",
       " -3.9203482662853206\n",
       " -2.966447989143375\n",
       " -2.9664479891433726\n",
       " -2.9664479891433717\n",
       " -2.9664479891433713\n",
       " -2.1664479891433737\n",
       "  0.0"
      ]
     },
     "execution_count": 79,
     "metadata": {},
     "output_type": "execute_result"
    }
   ],
   "source": [
    "E_no_filt, V_no_filt = eigenstates(H_Impurity);\n",
    "E_no_filt"
   ]
  },
  {
   "cell_type": "code",
   "execution_count": 72,
   "id": "633c41a1-3106-45e7-9436-f6b23dc41c5f",
   "metadata": {},
   "outputs": [
    {
     "data": {
      "text/plain": [
       "energies_imp (generic function with 1 method)"
      ]
     },
     "execution_count": 72,
     "metadata": {},
     "output_type": "execute_result"
    }
   ],
   "source": [
    "function energies_imp(H_Impurity, PN, basis_cut_mb)\n",
    "    E, V = eigenstates(H_Impurity)\n",
    "    pn = maximum(PN)\n",
    "    filtered_energies = get_filtered_energies(pn, E, V, basis_cut_mb)\n",
    "    return filtered_energies, V\n",
    "end"
   ]
  },
  {
   "cell_type": "code",
   "execution_count": 73,
   "id": "da8791b6-bfd3-4b66-8dcc-e00292c9364e",
   "metadata": {},
   "outputs": [],
   "source": [
    "# PN = 1 İken (AB faz hesaplarken) sadece bir parçacık var o yüzden filter yapmayacağız!!!"
   ]
  },
  {
   "cell_type": "code",
   "execution_count": 74,
   "id": "42d29711-49ca-4ebc-a4a5-5b4e4db267a6",
   "metadata": {},
   "outputs": [],
   "source": [
    "filtered_energies, V = energies_imp(H_Impurity, PN, basis_cut_mb);"
   ]
  },
  {
   "cell_type": "code",
   "execution_count": 75,
   "id": "72fd0c3c-6518-47cc-aaf9-cf2ed793c1f1",
   "metadata": {},
   "outputs": [
    {
     "data": {
      "text/plain": [
       "15-element Vector{Float64}:\n",
       " -5.926755129669783\n",
       " -5.9246849879102585\n",
       " -5.81928786610193\n",
       " -5.7118665485760305\n",
       " -5.6584167030727714\n",
       " -5.580409395780075\n",
       " -5.579265763015054\n",
       " -5.508643184577587\n",
       " -5.463517767743623\n",
       " -5.460245983254503\n",
       " -5.076753464043842\n",
       " -4.9977505461547675\n",
       " -4.800134305743249\n",
       " -4.765359762372385\n",
       " -3.9203482662853206"
      ]
     },
     "execution_count": 75,
     "metadata": {},
     "output_type": "execute_result"
    }
   ],
   "source": [
    "filtered_energies"
   ]
  },
  {
   "cell_type": "code",
   "execution_count": 76,
   "id": "454b9733-4688-4abb-91b8-8af26cb083ad",
   "metadata": {},
   "outputs": [
    {
     "data": {
      "image/png": "[encoded data removed]",
      "image/svg+xml": [
       "<?xml version=\"1.0\" encoding=\"utf-8\"?>\n",
       "<svg xmlns=\"http://www.w3.org/2000/svg\" xmlns:xlink=\"http://www.w3.org/1999/xlink\" width=\"600\" height=\"400\" viewBox=\"0 0 2400 1600\">\n",
       "<defs>\n",
       "  <clipPath id=\"clip910\">\n",
       "    <rect x=\"0\" y=\"0\" width=\"2400\" height=\"1600\"/>\n",
       "  </clipPath>\n",
       "</defs>\n",
       "<path clip-path=\"url(#clip910)\" d=\"M0 1600 L2400 1600 L2400 0 L0 0  Z\" fill=\"#ffffff\" fill-rule=\"evenodd\" fill-opacity=\"1\"/>\n",
       "<defs>\n",
       "  <clipPath id=\"clip911\">\n",
       "    <rect x=\"480\" y=\"0\" width=\"1681\" height=\"1600\"/>\n",
       "  </clipPath>\n",
       "</defs>\n",
       "<path clip-path=\"url(#clip910)\" d=\"M193.936 1486.45 L2352.76 1486.45 L2352.76 47.2441 L193.936 47.2441  Z\" fill=\"#ffffff\" fill-rule=\"evenodd\" fill-opacity=\"1\"/>\n",
       "<defs>\n",
       "  <clipPath id=\"clip912\">\n",
       "    <rect x=\"193\" y=\"47\" width=\"2160\" height=\"1440\"/>\n",
       "  </clipPath>\n",
       "</defs>\n",
       "<polyline clip-path=\"url(#clip912)\" style=\"stroke:#000000; stroke-linecap:round; stroke-linejoin:round; stroke-width:2; stroke-opacity:0.1; fill:none\" points=\"400.508,1486.45 400.508,47.2441 \"/>\n",
       "<polyline clip-path=\"url(#clip912)\" style=\"stroke:#000000; stroke-linecap:round; stroke-linejoin:round; stroke-width:2; stroke-opacity:0.1; fill:none\" points=\"691.454,1486.45 691.454,47.2441 \"/>\n",
       "<polyline clip-path=\"url(#clip912)\" style=\"stroke:#000000; stroke-linecap:round; stroke-linejoin:round; stroke-width:2; stroke-opacity:0.1; fill:none\" points=\"982.4,1486.45 982.4,47.2441 \"/>\n",
       "<polyline clip-path=\"url(#clip912)\" style=\"stroke:#000000; stroke-linecap:round; stroke-linejoin:round; stroke-width:2; stroke-opacity:0.1; fill:none\" points=\"1273.35,1486.45 1273.35,47.2441 \"/>\n",
       "<polyline clip-path=\"url(#clip912)\" style=\"stroke:#000000; stroke-linecap:round; stroke-linejoin:round; stroke-width:2; stroke-opacity:0.1; fill:none\" points=\"1564.29,1486.45 1564.29,47.2441 \"/>\n",
       "<polyline clip-path=\"url(#clip912)\" style=\"stroke:#000000; stroke-linecap:round; stroke-linejoin:round; stroke-width:2; stroke-opacity:0.1; fill:none\" points=\"1855.24,1486.45 1855.24,47.2441 \"/>\n",
       "<polyline clip-path=\"url(#clip912)\" style=\"stroke:#000000; stroke-linecap:round; stroke-linejoin:round; stroke-width:2; stroke-opacity:0.1; fill:none\" points=\"2146.18,1486.45 2146.18,47.2441 \"/>\n",
       "<polyline clip-path=\"url(#clip910)\" style=\"stroke:#000000; stroke-linecap:round; stroke-linejoin:round; stroke-width:4; stroke-opacity:1; fill:none\" points=\"193.936,1486.45 2352.76,1486.45 \"/>\n",
       "<polyline clip-path=\"url(#clip910)\" style=\"stroke:#000000; stroke-linecap:round; stroke-linejoin:round; stroke-width:4; stroke-opacity:1; fill:none\" points=\"400.508,1486.45 400.508,1467.55 \"/>\n",
       "<polyline clip-path=\"url(#clip910)\" style=\"stroke:#000000; stroke-linecap:round; stroke-linejoin:round; stroke-width:4; stroke-opacity:1; fill:none\" points=\"691.454,1486.45 691.454,1467.55 \"/>\n",
       "<polyline clip-path=\"url(#clip910)\" style=\"stroke:#000000; stroke-linecap:round; stroke-linejoin:round; stroke-width:4; stroke-opacity:1; fill:none\" points=\"982.4,1486.45 982.4,1467.55 \"/>\n",
       "<polyline clip-path=\"url(#clip910)\" style=\"stroke:#000000; stroke-linecap:round; stroke-linejoin:round; stroke-width:4; stroke-opacity:1; fill:none\" points=\"1273.35,1486.45 1273.35,1467.55 \"/>\n",
       "<polyline clip-path=\"url(#clip910)\" style=\"stroke:#000000; stroke-linecap:round; stroke-linejoin:round; stroke-width:4; stroke-opacity:1; fill:none\" points=\"1564.29,1486.45 1564.29,1467.55 \"/>\n",
       "<polyline clip-path=\"url(#clip910)\" style=\"stroke:#000000; stroke-linecap:round; stroke-linejoin:round; stroke-width:4; stroke-opacity:1; fill:none\" points=\"1855.24,1486.45 1855.24,1467.55 \"/>\n",
       "<polyline clip-path=\"url(#clip910)\" style=\"stroke:#000000; stroke-linecap:round; stroke-linejoin:round; stroke-width:4; stroke-opacity:1; fill:none\" points=\"2146.18,1486.45 2146.18,1467.55 \"/>\n",
       "<path clip-path=\"url(#clip910)\" d=\"M395.161 1544.91 L411.48 1544.91 L411.48 1548.85 L389.536 1548.85 L389.536 1544.91 Q392.198 1542.16 396.781 1537.53 Q401.387 1532.88 402.568 1531.53 Q404.813 1529.01 405.693 1527.27 Q406.596 1525.51 406.596 1523.82 Q406.596 1521.07 404.651 1519.33 Q402.73 1517.6 399.628 1517.6 Q397.429 1517.6 394.975 1518.36 Q392.545 1519.13 389.767 1520.68 L389.767 1515.95 Q392.591 1514.82 395.045 1514.24 Q397.498 1513.66 399.535 1513.66 Q404.906 1513.66 408.1 1516.35 Q411.295 1519.03 411.295 1523.52 Q411.295 1525.65 410.485 1527.57 Q409.697 1529.47 407.591 1532.07 Q407.012 1532.74 403.91 1535.95 Q400.809 1539.15 395.161 1544.91 Z\" fill=\"#000000\" fill-rule=\"nonzero\" fill-opacity=\"1\" /><path clip-path=\"url(#clip910)\" d=\"M694.463 1518.36 L682.658 1536.81 L694.463 1536.81 L694.463 1518.36 M693.236 1514.29 L699.116 1514.29 L699.116 1536.81 L704.046 1536.81 L704.046 1540.7 L699.116 1540.7 L699.116 1548.85 L694.463 1548.85 L694.463 1540.7 L678.861 1540.7 L678.861 1536.19 L693.236 1514.29 Z\" fill=\"#000000\" fill-rule=\"nonzero\" fill-opacity=\"1\" /><path clip-path=\"url(#clip910)\" d=\"M982.805 1529.7 Q979.657 1529.7 977.805 1531.86 Q975.976 1534.01 975.976 1537.76 Q975.976 1541.49 977.805 1543.66 Q979.657 1545.82 982.805 1545.82 Q985.953 1545.82 987.782 1543.66 Q989.634 1541.49 989.634 1537.76 Q989.634 1534.01 987.782 1531.86 Q985.953 1529.7 982.805 1529.7 M992.087 1515.05 L992.087 1519.31 Q990.328 1518.48 988.523 1518.04 Q986.74 1517.6 984.981 1517.6 Q980.351 1517.6 977.898 1520.72 Q975.467 1523.85 975.12 1530.17 Q976.486 1528.15 978.546 1527.09 Q980.606 1526 983.083 1526 Q988.291 1526 991.3 1529.17 Q994.333 1532.32 994.333 1537.76 Q994.333 1543.08 991.185 1546.3 Q988.036 1549.52 982.805 1549.52 Q976.81 1549.52 973.638 1544.94 Q970.467 1540.33 970.467 1531.6 Q970.467 1523.41 974.356 1518.55 Q978.245 1513.66 984.796 1513.66 Q986.555 1513.66 988.337 1514.01 Q990.143 1514.36 992.087 1515.05 Z\" fill=\"#000000\" fill-rule=\"nonzero\" fill-opacity=\"1\" /><path clip-path=\"url(#clip910)\" d=\"M1273.35 1532.44 Q1270.01 1532.44 1268.09 1534.22 Q1266.19 1536 1266.19 1539.13 Q1266.19 1542.25 1268.09 1544.03 Q1270.01 1545.82 1273.35 1545.82 Q1276.68 1545.82 1278.6 1544.03 Q1280.52 1542.23 1280.52 1539.13 Q1280.52 1536 1278.6 1534.22 Q1276.7 1532.44 1273.35 1532.44 M1268.67 1530.45 Q1265.66 1529.7 1263.97 1527.64 Q1262.3 1525.58 1262.3 1522.62 Q1262.3 1518.48 1265.24 1516.07 Q1268.21 1513.66 1273.35 1513.66 Q1278.51 1513.66 1281.45 1516.07 Q1284.39 1518.48 1284.39 1522.62 Q1284.39 1525.58 1282.7 1527.64 Q1281.03 1529.7 1278.05 1530.45 Q1281.42 1531.23 1283.3 1533.52 Q1285.2 1535.82 1285.2 1539.13 Q1285.2 1544.15 1282.12 1546.83 Q1279.06 1549.52 1273.35 1549.52 Q1267.63 1549.52 1264.55 1546.83 Q1261.49 1544.15 1261.49 1539.13 Q1261.49 1535.82 1263.39 1533.52 Q1265.29 1531.23 1268.67 1530.45 M1266.96 1523.06 Q1266.96 1525.75 1268.62 1527.25 Q1270.31 1528.76 1273.35 1528.76 Q1276.36 1528.76 1278.05 1527.25 Q1279.76 1525.75 1279.76 1523.06 Q1279.76 1520.38 1278.05 1518.87 Q1276.36 1517.37 1273.35 1517.37 Q1270.31 1517.37 1268.62 1518.87 Q1266.96 1520.38 1266.96 1523.06 Z\" fill=\"#000000\" fill-rule=\"nonzero\" fill-opacity=\"1\" /><path clip-path=\"url(#clip910)\" d=\"M1538.98 1544.91 L1546.62 1544.91 L1546.62 1518.55 L1538.31 1520.21 L1538.31 1515.95 L1546.57 1514.29 L1551.25 1514.29 L1551.25 1544.91 L1558.89 1544.91 L1558.89 1548.85 L1538.98 1548.85 L1538.98 1544.91 Z\" fill=\"#000000\" fill-rule=\"nonzero\" fill-opacity=\"1\" /><path clip-path=\"url(#clip910)\" d=\"M1578.33 1517.37 Q1574.72 1517.37 1572.89 1520.93 Q1571.09 1524.47 1571.09 1531.6 Q1571.09 1538.71 1572.89 1542.27 Q1574.72 1545.82 1578.33 1545.82 Q1581.97 1545.82 1583.77 1542.27 Q1585.6 1538.71 1585.6 1531.6 Q1585.6 1524.47 1583.77 1520.93 Q1581.97 1517.37 1578.33 1517.37 M1578.33 1513.66 Q1584.14 1513.66 1587.2 1518.27 Q1590.28 1522.85 1590.28 1531.6 Q1590.28 1540.33 1587.2 1544.94 Q1584.14 1549.52 1578.33 1549.52 Q1572.52 1549.52 1569.44 1544.94 Q1566.39 1540.33 1566.39 1531.6 Q1566.39 1522.85 1569.44 1518.27 Q1572.52 1513.66 1578.33 1513.66 Z\" fill=\"#000000\" fill-rule=\"nonzero\" fill-opacity=\"1\" /><path clip-path=\"url(#clip910)\" d=\"M1830.72 1544.91 L1838.36 1544.91 L1838.36 1518.55 L1830.05 1520.21 L1830.05 1515.95 L1838.32 1514.29 L1842.99 1514.29 L1842.99 1544.91 L1850.63 1544.91 L1850.63 1548.85 L1830.72 1548.85 L1830.72 1544.91 Z\" fill=\"#000000\" fill-rule=\"nonzero\" fill-opacity=\"1\" /><path clip-path=\"url(#clip910)\" d=\"M1864.1 1544.91 L1880.42 1544.91 L1880.42 1548.85 L1858.48 1548.85 L1858.48 1544.91 Q1861.14 1542.16 1865.72 1537.53 Q1870.33 1532.88 1871.51 1531.53 Q1873.76 1529.01 1874.64 1527.27 Q1875.54 1525.51 1875.54 1523.82 Q1875.54 1521.07 1873.59 1519.33 Q1871.67 1517.6 1868.57 1517.6 Q1866.37 1517.6 1863.92 1518.36 Q1861.49 1519.13 1858.71 1520.68 L1858.71 1515.95 Q1861.53 1514.82 1863.99 1514.24 Q1866.44 1513.66 1868.48 1513.66 Q1873.85 1513.66 1877.04 1516.35 Q1880.24 1519.03 1880.24 1523.52 Q1880.24 1525.65 1879.43 1527.57 Q1878.64 1529.47 1876.53 1532.07 Q1875.96 1532.74 1872.85 1535.95 Q1869.75 1539.15 1864.1 1544.91 Z\" fill=\"#000000\" fill-rule=\"nonzero\" fill-opacity=\"1\" /><path clip-path=\"url(#clip910)\" d=\"M2120.63 1544.91 L2128.27 1544.91 L2128.27 1518.55 L2119.96 1520.21 L2119.96 1515.95 L2128.22 1514.29 L2132.9 1514.29 L2132.9 1544.91 L2140.54 1544.91 L2140.54 1548.85 L2120.63 1548.85 L2120.63 1544.91 Z\" fill=\"#000000\" fill-rule=\"nonzero\" fill-opacity=\"1\" /><path clip-path=\"url(#clip910)\" d=\"M2162.83 1518.36 L2151.02 1536.81 L2162.83 1536.81 L2162.83 1518.36 M2161.6 1514.29 L2167.48 1514.29 L2167.48 1536.81 L2172.41 1536.81 L2172.41 1540.7 L2167.48 1540.7 L2167.48 1548.85 L2162.83 1548.85 L2162.83 1540.7 L2147.23 1540.7 L2147.23 1536.19 L2161.6 1514.29 Z\" fill=\"#000000\" fill-rule=\"nonzero\" fill-opacity=\"1\" /><polyline clip-path=\"url(#clip912)\" style=\"stroke:#000000; stroke-linecap:round; stroke-linejoin:round; stroke-width:2; stroke-opacity:0.1; fill:none\" points=\"193.936,1156.93 2352.76,1156.93 \"/>\n",
       "<polyline clip-path=\"url(#clip912)\" style=\"stroke:#000000; stroke-linecap:round; stroke-linejoin:round; stroke-width:2; stroke-opacity:0.1; fill:none\" points=\"193.936,818.579 2352.76,818.579 \"/>\n",
       "<polyline clip-path=\"url(#clip912)\" style=\"stroke:#000000; stroke-linecap:round; stroke-linejoin:round; stroke-width:2; stroke-opacity:0.1; fill:none\" points=\"193.936,480.228 2352.76,480.228 \"/>\n",
       "<polyline clip-path=\"url(#clip912)\" style=\"stroke:#000000; stroke-linecap:round; stroke-linejoin:round; stroke-width:2; stroke-opacity:0.1; fill:none\" points=\"193.936,141.877 2352.76,141.877 \"/>\n",
       "<polyline clip-path=\"url(#clip910)\" style=\"stroke:#000000; stroke-linecap:round; stroke-linejoin:round; stroke-width:4; stroke-opacity:1; fill:none\" points=\"193.936,1486.45 193.936,47.2441 \"/>\n",
       "<polyline clip-path=\"url(#clip910)\" style=\"stroke:#000000; stroke-linecap:round; stroke-linejoin:round; stroke-width:4; stroke-opacity:1; fill:none\" points=\"193.936,1156.93 212.834,1156.93 \"/>\n",
       "<polyline clip-path=\"url(#clip910)\" style=\"stroke:#000000; stroke-linecap:round; stroke-linejoin:round; stroke-width:4; stroke-opacity:1; fill:none\" points=\"193.936,818.579 212.834,818.579 \"/>\n",
       "<polyline clip-path=\"url(#clip910)\" style=\"stroke:#000000; stroke-linecap:round; stroke-linejoin:round; stroke-width:4; stroke-opacity:1; fill:none\" points=\"193.936,480.228 212.834,480.228 \"/>\n",
       "<polyline clip-path=\"url(#clip910)\" style=\"stroke:#000000; stroke-linecap:round; stroke-linejoin:round; stroke-width:4; stroke-opacity:1; fill:none\" points=\"193.936,141.877 212.834,141.877 \"/>\n",
       "<path clip-path=\"url(#clip910)\" d=\"M51.9875 1157.38 L81.6633 1157.38 L81.6633 1161.32 L51.9875 1161.32 L51.9875 1157.38 Z\" fill=\"#000000\" fill-rule=\"nonzero\" fill-opacity=\"1\" /><path clip-path=\"url(#clip910)\" d=\"M91.8021 1139.65 L110.158 1139.65 L110.158 1143.58 L96.0845 1143.58 L96.0845 1152.06 Q97.103 1151.71 98.1215 1151.55 Q99.14 1151.36 100.159 1151.36 Q105.946 1151.36 109.325 1154.53 Q112.705 1157.71 112.705 1163.12 Q112.705 1168.7 109.233 1171.8 Q105.76 1174.88 99.4409 1174.88 Q97.265 1174.88 94.9965 1174.51 Q92.7512 1174.14 90.3438 1173.4 L90.3438 1168.7 Q92.4271 1169.83 94.6493 1170.39 Q96.8715 1170.95 99.3483 1170.95 Q103.353 1170.95 105.691 1168.84 Q108.029 1166.73 108.029 1163.12 Q108.029 1159.51 105.691 1157.4 Q103.353 1155.3 99.3483 1155.3 Q97.4734 1155.3 95.5984 1155.71 Q93.7465 1156.13 91.8021 1157.01 L91.8021 1139.65 Z\" fill=\"#000000\" fill-rule=\"nonzero\" fill-opacity=\"1\" /><path clip-path=\"url(#clip910)\" d=\"M121.918 1168.33 L126.802 1168.33 L126.802 1174.21 L121.918 1174.21 L121.918 1168.33 Z\" fill=\"#000000\" fill-rule=\"nonzero\" fill-opacity=\"1\" /><path clip-path=\"url(#clip910)\" d=\"M137.033 1139.65 L155.39 1139.65 L155.39 1143.58 L141.316 1143.58 L141.316 1152.06 Q142.334 1151.71 143.353 1151.55 Q144.371 1151.36 145.39 1151.36 Q151.177 1151.36 154.556 1154.53 Q157.936 1157.71 157.936 1163.12 Q157.936 1168.7 154.464 1171.8 Q150.992 1174.88 144.672 1174.88 Q142.496 1174.88 140.228 1174.51 Q137.982 1174.14 135.575 1173.4 L135.575 1168.7 Q137.658 1169.83 139.881 1170.39 Q142.103 1170.95 144.58 1170.95 Q148.584 1170.95 150.922 1168.84 Q153.26 1166.73 153.26 1163.12 Q153.26 1159.51 150.922 1157.4 Q148.584 1155.3 144.58 1155.3 Q142.705 1155.3 140.83 1155.71 Q138.978 1156.13 137.033 1157.01 L137.033 1139.65 Z\" fill=\"#000000\" fill-rule=\"nonzero\" fill-opacity=\"1\" /><path clip-path=\"url(#clip910)\" d=\"M50.9921 819.03 L80.6679 819.03 L80.6679 822.965 L50.9921 822.965 L50.9921 819.03 Z\" fill=\"#000000\" fill-rule=\"nonzero\" fill-opacity=\"1\" /><path clip-path=\"url(#clip910)\" d=\"M90.8067 801.299 L109.163 801.299 L109.163 805.234 L95.0891 805.234 L95.0891 813.706 Q96.1076 813.359 97.1261 813.197 Q98.1447 813.012 99.1632 813.012 Q104.95 813.012 108.33 816.183 Q111.709 819.354 111.709 824.771 Q111.709 830.349 108.237 833.451 Q104.765 836.53 98.4456 836.53 Q96.2697 836.53 94.0012 836.16 Q91.7558 835.789 89.3484 835.049 L89.3484 830.349 Q91.4317 831.484 93.6539 832.039 Q95.8761 832.595 98.353 832.595 Q102.358 832.595 104.696 830.488 Q107.033 828.382 107.033 824.771 Q107.033 821.16 104.696 819.053 Q102.358 816.947 98.353 816.947 Q96.478 816.947 94.603 817.363 Q92.7512 817.78 90.8067 818.66 L90.8067 801.299 Z\" fill=\"#000000\" fill-rule=\"nonzero\" fill-opacity=\"1\" /><path clip-path=\"url(#clip910)\" d=\"M120.922 829.979 L125.807 829.979 L125.807 835.859 L120.922 835.859 L120.922 829.979 Z\" fill=\"#000000\" fill-rule=\"nonzero\" fill-opacity=\"1\" /><path clip-path=\"url(#clip910)\" d=\"M145.992 804.377 Q142.381 804.377 140.552 807.942 Q138.746 811.484 138.746 818.613 Q138.746 825.72 140.552 829.285 Q142.381 832.826 145.992 832.826 Q149.626 832.826 151.431 829.285 Q153.26 825.72 153.26 818.613 Q153.26 811.484 151.431 807.942 Q149.626 804.377 145.992 804.377 M145.992 800.674 Q151.802 800.674 154.857 805.28 Q157.936 809.863 157.936 818.613 Q157.936 827.34 154.857 831.947 Q151.802 836.53 145.992 836.53 Q140.181 836.53 137.103 831.947 Q134.047 827.34 134.047 818.613 Q134.047 809.863 137.103 805.28 Q140.181 800.674 145.992 800.674 Z\" fill=\"#000000\" fill-rule=\"nonzero\" fill-opacity=\"1\" /><path clip-path=\"url(#clip910)\" d=\"M51.9875 480.679 L81.6633 480.679 L81.6633 484.614 L51.9875 484.614 L51.9875 480.679 Z\" fill=\"#000000\" fill-rule=\"nonzero\" fill-opacity=\"1\" /><path clip-path=\"url(#clip910)\" d=\"M104.603 467.022 L92.7975 485.471 L104.603 485.471 L104.603 467.022 M103.376 462.948 L109.256 462.948 L109.256 485.471 L114.186 485.471 L114.186 489.36 L109.256 489.36 L109.256 497.508 L104.603 497.508 L104.603 489.36 L89.0012 489.36 L89.0012 484.846 L103.376 462.948 Z\" fill=\"#000000\" fill-rule=\"nonzero\" fill-opacity=\"1\" /><path clip-path=\"url(#clip910)\" d=\"M121.918 491.628 L126.802 491.628 L126.802 497.508 L121.918 497.508 L121.918 491.628 Z\" fill=\"#000000\" fill-rule=\"nonzero\" fill-opacity=\"1\" /><path clip-path=\"url(#clip910)\" d=\"M137.033 462.948 L155.39 462.948 L155.39 466.883 L141.316 466.883 L141.316 475.355 Q142.334 475.008 143.353 474.846 Q144.371 474.661 145.39 474.661 Q151.177 474.661 154.556 477.832 Q157.936 481.003 157.936 486.42 Q157.936 491.998 154.464 495.1 Q150.992 498.179 144.672 498.179 Q142.496 498.179 140.228 497.809 Q137.982 497.438 135.575 496.698 L135.575 491.998 Q137.658 493.133 139.881 493.688 Q142.103 494.244 144.58 494.244 Q148.584 494.244 150.922 492.137 Q153.26 490.031 153.26 486.42 Q153.26 482.809 150.922 480.702 Q148.584 478.596 144.58 478.596 Q142.705 478.596 140.83 479.012 Q138.978 479.429 137.033 480.309 L137.033 462.948 Z\" fill=\"#000000\" fill-rule=\"nonzero\" fill-opacity=\"1\" /><path clip-path=\"url(#clip910)\" d=\"M50.9921 142.328 L80.6679 142.328 L80.6679 146.263 L50.9921 146.263 L50.9921 142.328 Z\" fill=\"#000000\" fill-rule=\"nonzero\" fill-opacity=\"1\" /><path clip-path=\"url(#clip910)\" d=\"M103.608 128.671 L91.8021 147.12 L103.608 147.12 L103.608 128.671 M102.381 124.597 L108.26 124.597 L108.26 147.12 L113.191 147.12 L113.191 151.009 L108.26 151.009 L108.26 159.157 L103.608 159.157 L103.608 151.009 L88.0058 151.009 L88.0058 146.495 L102.381 124.597 Z\" fill=\"#000000\" fill-rule=\"nonzero\" fill-opacity=\"1\" /><path clip-path=\"url(#clip910)\" d=\"M120.922 153.277 L125.807 153.277 L125.807 159.157 L120.922 159.157 L120.922 153.277 Z\" fill=\"#000000\" fill-rule=\"nonzero\" fill-opacity=\"1\" /><path clip-path=\"url(#clip910)\" d=\"M145.992 127.675 Q142.381 127.675 140.552 131.24 Q138.746 134.782 138.746 141.911 Q138.746 149.018 140.552 152.583 Q142.381 156.124 145.992 156.124 Q149.626 156.124 151.431 152.583 Q153.26 149.018 153.26 141.911 Q153.26 134.782 151.431 131.24 Q149.626 127.675 145.992 127.675 M145.992 123.972 Q151.802 123.972 154.857 128.578 Q157.936 133.162 157.936 141.911 Q157.936 150.638 154.857 155.245 Q151.802 159.828 145.992 159.828 Q140.181 159.828 137.103 155.245 Q134.047 150.638 134.047 141.911 Q134.047 133.162 137.103 128.578 Q140.181 123.972 145.992 123.972 Z\" fill=\"#000000\" fill-rule=\"nonzero\" fill-opacity=\"1\" /><circle clip-path=\"url(#clip912)\" cx=\"255.035\" cy=\"1445.72\" r=\"14.4\" fill=\"#009af9\" fill-rule=\"evenodd\" fill-opacity=\"1\" stroke=\"#000000\" stroke-opacity=\"1\" stroke-width=\"3.2\"/>\n",
       "<circle clip-path=\"url(#clip912)\" cx=\"400.508\" cy=\"1444.31\" r=\"14.4\" fill=\"#009af9\" fill-rule=\"evenodd\" fill-opacity=\"1\" stroke=\"#000000\" stroke-opacity=\"1\" stroke-width=\"3.2\"/>\n",
       "<circle clip-path=\"url(#clip912)\" cx=\"545.981\" cy=\"1372.99\" r=\"14.4\" fill=\"#009af9\" fill-rule=\"evenodd\" fill-opacity=\"1\" stroke=\"#000000\" stroke-opacity=\"1\" stroke-width=\"3.2\"/>\n",
       "<circle clip-path=\"url(#clip912)\" cx=\"691.454\" cy=\"1300.3\" r=\"14.4\" fill=\"#009af9\" fill-rule=\"evenodd\" fill-opacity=\"1\" stroke=\"#000000\" stroke-opacity=\"1\" stroke-width=\"3.2\"/>\n",
       "<circle clip-path=\"url(#clip912)\" cx=\"836.927\" cy=\"1264.13\" r=\"14.4\" fill=\"#009af9\" fill-rule=\"evenodd\" fill-opacity=\"1\" stroke=\"#000000\" stroke-opacity=\"1\" stroke-width=\"3.2\"/>\n",
       "<circle clip-path=\"url(#clip912)\" cx=\"982.4\" cy=\"1211.34\" r=\"14.4\" fill=\"#009af9\" fill-rule=\"evenodd\" fill-opacity=\"1\" stroke=\"#000000\" stroke-opacity=\"1\" stroke-width=\"3.2\"/>\n",
       "<circle clip-path=\"url(#clip912)\" cx=\"1127.87\" cy=\"1210.57\" r=\"14.4\" fill=\"#009af9\" fill-rule=\"evenodd\" fill-opacity=\"1\" stroke=\"#000000\" stroke-opacity=\"1\" stroke-width=\"3.2\"/>\n",
       "<circle clip-path=\"url(#clip912)\" cx=\"1273.35\" cy=\"1162.78\" r=\"14.4\" fill=\"#009af9\" fill-rule=\"evenodd\" fill-opacity=\"1\" stroke=\"#000000\" stroke-opacity=\"1\" stroke-width=\"3.2\"/>\n",
       "<circle clip-path=\"url(#clip912)\" cx=\"1418.82\" cy=\"1132.24\" r=\"14.4\" fill=\"#009af9\" fill-rule=\"evenodd\" fill-opacity=\"1\" stroke=\"#000000\" stroke-opacity=\"1\" stroke-width=\"3.2\"/>\n",
       "<circle clip-path=\"url(#clip912)\" cx=\"1564.29\" cy=\"1130.03\" r=\"14.4\" fill=\"#009af9\" fill-rule=\"evenodd\" fill-opacity=\"1\" stroke=\"#000000\" stroke-opacity=\"1\" stroke-width=\"3.2\"/>\n",
       "<circle clip-path=\"url(#clip912)\" cx=\"1709.77\" cy=\"870.518\" r=\"14.4\" fill=\"#009af9\" fill-rule=\"evenodd\" fill-opacity=\"1\" stroke=\"#000000\" stroke-opacity=\"1\" stroke-width=\"3.2\"/>\n",
       "<circle clip-path=\"url(#clip912)\" cx=\"1855.24\" cy=\"817.056\" r=\"14.4\" fill=\"#009af9\" fill-rule=\"evenodd\" fill-opacity=\"1\" stroke=\"#000000\" stroke-opacity=\"1\" stroke-width=\"3.2\"/>\n",
       "<circle clip-path=\"url(#clip912)\" cx=\"2000.71\" cy=\"683.329\" r=\"14.4\" fill=\"#009af9\" fill-rule=\"evenodd\" fill-opacity=\"1\" stroke=\"#000000\" stroke-opacity=\"1\" stroke-width=\"3.2\"/>\n",
       "<circle clip-path=\"url(#clip912)\" cx=\"2146.18\" cy=\"659.797\" r=\"14.4\" fill=\"#009af9\" fill-rule=\"evenodd\" fill-opacity=\"1\" stroke=\"#000000\" stroke-opacity=\"1\" stroke-width=\"3.2\"/>\n",
       "<circle clip-path=\"url(#clip912)\" cx=\"2291.66\" cy=\"87.9763\" r=\"14.4\" fill=\"#009af9\" fill-rule=\"evenodd\" fill-opacity=\"1\" stroke=\"#000000\" stroke-opacity=\"1\" stroke-width=\"3.2\"/>\n",
       "<path clip-path=\"url(#clip910)\" d=\"M265.897 198.898 L534.209 198.898 L534.209 95.2176 L265.897 95.2176  Z\" fill=\"#ffffff\" fill-rule=\"evenodd\" fill-opacity=\"1\"/>\n",
       "<polyline clip-path=\"url(#clip910)\" style=\"stroke:#000000; stroke-linecap:round; stroke-linejoin:round; stroke-width:4; stroke-opacity:1; fill:none\" points=\"265.897,198.898 534.209,198.898 534.209,95.2176 265.897,95.2176 265.897,198.898 \"/>\n",
       "<circle clip-path=\"url(#clip910)\" cx=\"361.844\" cy=\"147.058\" r=\"20.48\" fill=\"#009af9\" fill-rule=\"evenodd\" fill-opacity=\"1\" stroke=\"#000000\" stroke-opacity=\"1\" stroke-width=\"4.55111\"/>\n",
       "<path clip-path=\"url(#clip910)\" d=\"M471.634 166.745 Q469.829 171.375 468.116 172.787 Q466.403 174.199 463.532 174.199 L460.13 174.199 L460.13 170.634 L462.63 170.634 Q464.389 170.634 465.361 169.8 Q466.333 168.967 467.514 165.865 L468.278 163.921 L457.792 138.412 L462.306 138.412 L470.407 158.689 L478.509 138.412 L483.023 138.412 L471.634 166.745 Z\" fill=\"#000000\" fill-rule=\"nonzero\" fill-opacity=\"1\" /><path clip-path=\"url(#clip910)\" d=\"M490.315 160.402 L497.954 160.402 L497.954 134.037 L489.643 135.703 L489.643 131.444 L497.907 129.778 L502.583 129.778 L502.583 160.402 L510.222 160.402 L510.222 164.338 L490.315 164.338 L490.315 160.402 Z\" fill=\"#000000\" fill-rule=\"nonzero\" fill-opacity=\"1\" /></svg>\n"
      ],
      "text/html": [
       "<?xml version=\"1.0\" encoding=\"utf-8\"?>\n",
       "<svg xmlns=\"http://www.w3.org/2000/svg\" xmlns:xlink=\"http://www.w3.org/1999/xlink\" width=\"600\" height=\"400\" viewBox=\"0 0 2400 1600\">\n",
       "<defs>\n",
       "  <clipPath id=\"clip960\">\n",
       "    <rect x=\"0\" y=\"0\" width=\"2400\" height=\"1600\"/>\n",
       "  </clipPath>\n",
       "</defs>\n",
       "<path clip-path=\"url(#clip960)\" d=\"M0 1600 L2400 1600 L2400 0 L0 0  Z\" fill=\"#ffffff\" fill-rule=\"evenodd\" fill-opacity=\"1\"/>\n",
       "<defs>\n",
       "  <clipPath id=\"clip961\">\n",
       "    <rect x=\"480\" y=\"0\" width=\"1681\" height=\"1600\"/>\n",
       "  </clipPath>\n",
       "</defs>\n",
       "<path clip-path=\"url(#clip960)\" d=\"M193.936 1486.45 L2352.76 1486.45 L2352.76 47.2441 L193.936 47.2441  Z\" fill=\"#ffffff\" fill-rule=\"evenodd\" fill-opacity=\"1\"/>\n",
       "<defs>\n",
       "  <clipPath id=\"clip962\">\n",
       "    <rect x=\"193\" y=\"47\" width=\"2160\" height=\"1440\"/>\n",
       "  </clipPath>\n",
       "</defs>\n",
       "<polyline clip-path=\"url(#clip962)\" style=\"stroke:#000000; stroke-linecap:round; stroke-linejoin:round; stroke-width:2; stroke-opacity:0.1; fill:none\" points=\"400.508,1486.45 400.508,47.2441 \"/>\n",
       "<polyline clip-path=\"url(#clip962)\" style=\"stroke:#000000; stroke-linecap:round; stroke-linejoin:round; stroke-width:2; stroke-opacity:0.1; fill:none\" points=\"691.454,1486.45 691.454,47.2441 \"/>\n",
       "<polyline clip-path=\"url(#clip962)\" style=\"stroke:#000000; stroke-linecap:round; stroke-linejoin:round; stroke-width:2; stroke-opacity:0.1; fill:none\" points=\"982.4,1486.45 982.4,47.2441 \"/>\n",
       "<polyline clip-path=\"url(#clip962)\" style=\"stroke:#000000; stroke-linecap:round; stroke-linejoin:round; stroke-width:2; stroke-opacity:0.1; fill:none\" points=\"1273.35,1486.45 1273.35,47.2441 \"/>\n",
       "<polyline clip-path=\"url(#clip962)\" style=\"stroke:#000000; stroke-linecap:round; stroke-linejoin:round; stroke-width:2; stroke-opacity:0.1; fill:none\" points=\"1564.29,1486.45 1564.29,47.2441 \"/>\n",
       "<polyline clip-path=\"url(#clip962)\" style=\"stroke:#000000; stroke-linecap:round; stroke-linejoin:round; stroke-width:2; stroke-opacity:0.1; fill:none\" points=\"1855.24,1486.45 1855.24,47.2441 \"/>\n",
       "<polyline clip-path=\"url(#clip962)\" style=\"stroke:#000000; stroke-linecap:round; stroke-linejoin:round; stroke-width:2; stroke-opacity:0.1; fill:none\" points=\"2146.18,1486.45 2146.18,47.2441 \"/>\n",
       "<polyline clip-path=\"url(#clip960)\" style=\"stroke:#000000; stroke-linecap:round; stroke-linejoin:round; stroke-width:4; stroke-opacity:1; fill:none\" points=\"193.936,1486.45 2352.76,1486.45 \"/>\n",
       "<polyline clip-path=\"url(#clip960)\" style=\"stroke:#000000; stroke-linecap:round; stroke-linejoin:round; stroke-width:4; stroke-opacity:1; fill:none\" points=\"400.508,1486.45 400.508,1467.55 \"/>\n",
       "<polyline clip-path=\"url(#clip960)\" style=\"stroke:#000000; stroke-linecap:round; stroke-linejoin:round; stroke-width:4; stroke-opacity:1; fill:none\" points=\"691.454,1486.45 691.454,1467.55 \"/>\n",
       "<polyline clip-path=\"url(#clip960)\" style=\"stroke:#000000; stroke-linecap:round; stroke-linejoin:round; stroke-width:4; stroke-opacity:1; fill:none\" points=\"982.4,1486.45 982.4,1467.55 \"/>\n",
       "<polyline clip-path=\"url(#clip960)\" style=\"stroke:#000000; stroke-linecap:round; stroke-linejoin:round; stroke-width:4; stroke-opacity:1; fill:none\" points=\"1273.35,1486.45 1273.35,1467.55 \"/>\n",
       "<polyline clip-path=\"url(#clip960)\" style=\"stroke:#000000; stroke-linecap:round; stroke-linejoin:round; stroke-width:4; stroke-opacity:1; fill:none\" points=\"1564.29,1486.45 1564.29,1467.55 \"/>\n",
       "<polyline clip-path=\"url(#clip960)\" style=\"stroke:#000000; stroke-linecap:round; stroke-linejoin:round; stroke-width:4; stroke-opacity:1; fill:none\" points=\"1855.24,1486.45 1855.24,1467.55 \"/>\n",
       "<polyline clip-path=\"url(#clip960)\" style=\"stroke:#000000; stroke-linecap:round; stroke-linejoin:round; stroke-width:4; stroke-opacity:1; fill:none\" points=\"2146.18,1486.45 2146.18,1467.55 \"/>\n",
       "<path clip-path=\"url(#clip960)\" d=\"M395.161 1544.91 L411.48 1544.91 L411.48 1548.85 L389.536 1548.85 L389.536 1544.91 Q392.198 1542.16 396.781 1537.53 Q401.387 1532.88 402.568 1531.53 Q404.813 1529.01 405.693 1527.27 Q406.596 1525.51 406.596 1523.82 Q406.596 1521.07 404.651 1519.33 Q402.73 1517.6 399.628 1517.6 Q397.429 1517.6 394.975 1518.36 Q392.545 1519.13 389.767 1520.68 L389.767 1515.95 Q392.591 1514.82 395.045 1514.24 Q397.498 1513.66 399.535 1513.66 Q404.906 1513.66 408.1 1516.35 Q411.295 1519.03 411.295 1523.52 Q411.295 1525.65 410.485 1527.57 Q409.697 1529.47 407.591 1532.07 Q407.012 1532.74 403.91 1535.95 Q400.809 1539.15 395.161 1544.91 Z\" fill=\"#000000\" fill-rule=\"nonzero\" fill-opacity=\"1\" /><path clip-path=\"url(#clip960)\" d=\"M694.463 1518.36 L682.658 1536.81 L694.463 1536.81 L694.463 1518.36 M693.236 1514.29 L699.116 1514.29 L699.116 1536.81 L704.046 1536.81 L704.046 1540.7 L699.116 1540.7 L699.116 1548.85 L694.463 1548.85 L694.463 1540.7 L678.861 1540.7 L678.861 1536.19 L693.236 1514.29 Z\" fill=\"#000000\" fill-rule=\"nonzero\" fill-opacity=\"1\" /><path clip-path=\"url(#clip960)\" d=\"M982.805 1529.7 Q979.657 1529.7 977.805 1531.86 Q975.976 1534.01 975.976 1537.76 Q975.976 1541.49 977.805 1543.66 Q979.657 1545.82 982.805 1545.82 Q985.953 1545.82 987.782 1543.66 Q989.634 1541.49 989.634 1537.76 Q989.634 1534.01 987.782 1531.86 Q985.953 1529.7 982.805 1529.7 M992.087 1515.05 L992.087 1519.31 Q990.328 1518.48 988.523 1518.04 Q986.74 1517.6 984.981 1517.6 Q980.351 1517.6 977.898 1520.72 Q975.467 1523.85 975.12 1530.17 Q976.486 1528.15 978.546 1527.09 Q980.606 1526 983.083 1526 Q988.291 1526 991.3 1529.17 Q994.333 1532.32 994.333 1537.76 Q994.333 1543.08 991.185 1546.3 Q988.036 1549.52 982.805 1549.52 Q976.81 1549.52 973.638 1544.94 Q970.467 1540.33 970.467 1531.6 Q970.467 1523.41 974.356 1518.55 Q978.245 1513.66 984.796 1513.66 Q986.555 1513.66 988.337 1514.01 Q990.143 1514.36 992.087 1515.05 Z\" fill=\"#000000\" fill-rule=\"nonzero\" fill-opacity=\"1\" /><path clip-path=\"url(#clip960)\" d=\"M1273.35 1532.44 Q1270.01 1532.44 1268.09 1534.22 Q1266.19 1536 1266.19 1539.13 Q1266.19 1542.25 1268.09 1544.03 Q1270.01 1545.82 1273.35 1545.82 Q1276.68 1545.82 1278.6 1544.03 Q1280.52 1542.23 1280.52 1539.13 Q1280.52 1536 1278.6 1534.22 Q1276.7 1532.44 1273.35 1532.44 M1268.67 1530.45 Q1265.66 1529.7 1263.97 1527.64 Q1262.3 1525.58 1262.3 1522.62 Q1262.3 1518.48 1265.24 1516.07 Q1268.21 1513.66 1273.35 1513.66 Q1278.51 1513.66 1281.45 1516.07 Q1284.39 1518.48 1284.39 1522.62 Q1284.39 1525.58 1282.7 1527.64 Q1281.03 1529.7 1278.05 1530.45 Q1281.42 1531.23 1283.3 1533.52 Q1285.2 1535.82 1285.2 1539.13 Q1285.2 1544.15 1282.12 1546.83 Q1279.06 1549.52 1273.35 1549.52 Q1267.63 1549.52 1264.55 1546.83 Q1261.49 1544.15 1261.49 1539.13 Q1261.49 1535.82 1263.39 1533.52 Q1265.29 1531.23 1268.67 1530.45 M1266.96 1523.06 Q1266.96 1525.75 1268.62 1527.25 Q1270.31 1528.76 1273.35 1528.76 Q1276.36 1528.76 1278.05 1527.25 Q1279.76 1525.75 1279.76 1523.06 Q1279.76 1520.38 1278.05 1518.87 Q1276.36 1517.37 1273.35 1517.37 Q1270.31 1517.37 1268.62 1518.87 Q1266.96 1520.38 1266.96 1523.06 Z\" fill=\"#000000\" fill-rule=\"nonzero\" fill-opacity=\"1\" /><path clip-path=\"url(#clip960)\" d=\"M1538.98 1544.91 L1546.62 1544.91 L1546.62 1518.55 L1538.31 1520.21 L1538.31 1515.95 L1546.57 1514.29 L1551.25 1514.29 L1551.25 1544.91 L1558.89 1544.91 L1558.89 1548.85 L1538.98 1548.85 L1538.98 1544.91 Z\" fill=\"#000000\" fill-rule=\"nonzero\" fill-opacity=\"1\" /><path clip-path=\"url(#clip960)\" d=\"M1578.33 1517.37 Q1574.72 1517.37 1572.89 1520.93 Q1571.09 1524.47 1571.09 1531.6 Q1571.09 1538.71 1572.89 1542.27 Q1574.72 1545.82 1578.33 1545.82 Q1581.97 1545.82 1583.77 1542.27 Q1585.6 1538.71 1585.6 1531.6 Q1585.6 1524.47 1583.77 1520.93 Q1581.97 1517.37 1578.33 1517.37 M1578.33 1513.66 Q1584.14 1513.66 1587.2 1518.27 Q1590.28 1522.85 1590.28 1531.6 Q1590.28 1540.33 1587.2 1544.94 Q1584.14 1549.52 1578.33 1549.52 Q1572.52 1549.52 1569.44 1544.94 Q1566.39 1540.33 1566.39 1531.6 Q1566.39 1522.85 1569.44 1518.27 Q1572.52 1513.66 1578.33 1513.66 Z\" fill=\"#000000\" fill-rule=\"nonzero\" fill-opacity=\"1\" /><path clip-path=\"url(#clip960)\" d=\"M1830.72 1544.91 L1838.36 1544.91 L1838.36 1518.55 L1830.05 1520.21 L1830.05 1515.95 L1838.32 1514.29 L1842.99 1514.29 L1842.99 1544.91 L1850.63 1544.91 L1850.63 1548.85 L1830.72 1548.85 L1830.72 1544.91 Z\" fill=\"#000000\" fill-rule=\"nonzero\" fill-opacity=\"1\" /><path clip-path=\"url(#clip960)\" d=\"M1864.1 1544.91 L1880.42 1544.91 L1880.42 1548.85 L1858.48 1548.85 L1858.48 1544.91 Q1861.14 1542.16 1865.72 1537.53 Q1870.33 1532.88 1871.51 1531.53 Q1873.76 1529.01 1874.64 1527.27 Q1875.54 1525.51 1875.54 1523.82 Q1875.54 1521.07 1873.59 1519.33 Q1871.67 1517.6 1868.57 1517.6 Q1866.37 1517.6 1863.92 1518.36 Q1861.49 1519.13 1858.71 1520.68 L1858.71 1515.95 Q1861.53 1514.82 1863.99 1514.24 Q1866.44 1513.66 1868.48 1513.66 Q1873.85 1513.66 1877.04 1516.35 Q1880.24 1519.03 1880.24 1523.52 Q1880.24 1525.65 1879.43 1527.57 Q1878.64 1529.47 1876.53 1532.07 Q1875.96 1532.74 1872.85 1535.95 Q1869.75 1539.15 1864.1 1544.91 Z\" fill=\"#000000\" fill-rule=\"nonzero\" fill-opacity=\"1\" /><path clip-path=\"url(#clip960)\" d=\"M2120.63 1544.91 L2128.27 1544.91 L2128.27 1518.55 L2119.96 1520.21 L2119.96 1515.95 L2128.22 1514.29 L2132.9 1514.29 L2132.9 1544.91 L2140.54 1544.91 L2140.54 1548.85 L2120.63 1548.85 L2120.63 1544.91 Z\" fill=\"#000000\" fill-rule=\"nonzero\" fill-opacity=\"1\" /><path clip-path=\"url(#clip960)\" d=\"M2162.83 1518.36 L2151.02 1536.81 L2162.83 1536.81 L2162.83 1518.36 M2161.6 1514.29 L2167.48 1514.29 L2167.48 1536.81 L2172.41 1536.81 L2172.41 1540.7 L2167.48 1540.7 L2167.48 1548.85 L2162.83 1548.85 L2162.83 1540.7 L2147.23 1540.7 L2147.23 1536.19 L2161.6 1514.29 Z\" fill=\"#000000\" fill-rule=\"nonzero\" fill-opacity=\"1\" /><polyline clip-path=\"url(#clip962)\" style=\"stroke:#000000; stroke-linecap:round; stroke-linejoin:round; stroke-width:2; stroke-opacity:0.1; fill:none\" points=\"193.936,1156.93 2352.76,1156.93 \"/>\n",
       "<polyline clip-path=\"url(#clip962)\" style=\"stroke:#000000; stroke-linecap:round; stroke-linejoin:round; stroke-width:2; stroke-opacity:0.1; fill:none\" points=\"193.936,818.579 2352.76,818.579 \"/>\n",
       "<polyline clip-path=\"url(#clip962)\" style=\"stroke:#000000; stroke-linecap:round; stroke-linejoin:round; stroke-width:2; stroke-opacity:0.1; fill:none\" points=\"193.936,480.228 2352.76,480.228 \"/>\n",
       "<polyline clip-path=\"url(#clip962)\" style=\"stroke:#000000; stroke-linecap:round; stroke-linejoin:round; stroke-width:2; stroke-opacity:0.1; fill:none\" points=\"193.936,141.877 2352.76,141.877 \"/>\n",
       "<polyline clip-path=\"url(#clip960)\" style=\"stroke:#000000; stroke-linecap:round; stroke-linejoin:round; stroke-width:4; stroke-opacity:1; fill:none\" points=\"193.936,1486.45 193.936,47.2441 \"/>\n",
       "<polyline clip-path=\"url(#clip960)\" style=\"stroke:#000000; stroke-linecap:round; stroke-linejoin:round; stroke-width:4; stroke-opacity:1; fill:none\" points=\"193.936,1156.93 212.834,1156.93 \"/>\n",
       "<polyline clip-path=\"url(#clip960)\" style=\"stroke:#000000; stroke-linecap:round; stroke-linejoin:round; stroke-width:4; stroke-opacity:1; fill:none\" points=\"193.936,818.579 212.834,818.579 \"/>\n",
       "<polyline clip-path=\"url(#clip960)\" style=\"stroke:#000000; stroke-linecap:round; stroke-linejoin:round; stroke-width:4; stroke-opacity:1; fill:none\" points=\"193.936,480.228 212.834,480.228 \"/>\n",
       "<polyline clip-path=\"url(#clip960)\" style=\"stroke:#000000; stroke-linecap:round; stroke-linejoin:round; stroke-width:4; stroke-opacity:1; fill:none\" points=\"193.936,141.877 212.834,141.877 \"/>\n",
       "<path clip-path=\"url(#clip960)\" d=\"M51.9875 1157.38 L81.6633 1157.38 L81.6633 1161.32 L51.9875 1161.32 L51.9875 1157.38 Z\" fill=\"#000000\" fill-rule=\"nonzero\" fill-opacity=\"1\" /><path clip-path=\"url(#clip960)\" d=\"M91.8021 1139.65 L110.158 1139.65 L110.158 1143.58 L96.0845 1143.58 L96.0845 1152.06 Q97.103 1151.71 98.1215 1151.55 Q99.14 1151.36 100.159 1151.36 Q105.946 1151.36 109.325 1154.53 Q112.705 1157.71 112.705 1163.12 Q112.705 1168.7 109.233 1171.8 Q105.76 1174.88 99.4409 1174.88 Q97.265 1174.88 94.9965 1174.51 Q92.7512 1174.14 90.3438 1173.4 L90.3438 1168.7 Q92.4271 1169.83 94.6493 1170.39 Q96.8715 1170.95 99.3483 1170.95 Q103.353 1170.95 105.691 1168.84 Q108.029 1166.73 108.029 1163.12 Q108.029 1159.51 105.691 1157.4 Q103.353 1155.3 99.3483 1155.3 Q97.4734 1155.3 95.5984 1155.71 Q93.7465 1156.13 91.8021 1157.01 L91.8021 1139.65 Z\" fill=\"#000000\" fill-rule=\"nonzero\" fill-opacity=\"1\" /><path clip-path=\"url(#clip960)\" d=\"M121.918 1168.33 L126.802 1168.33 L126.802 1174.21 L121.918 1174.21 L121.918 1168.33 Z\" fill=\"#000000\" fill-rule=\"nonzero\" fill-opacity=\"1\" /><path clip-path=\"url(#clip960)\" d=\"M137.033 1139.65 L155.39 1139.65 L155.39 1143.58 L141.316 1143.58 L141.316 1152.06 Q142.334 1151.71 143.353 1151.55 Q144.371 1151.36 145.39 1151.36 Q151.177 1151.36 154.556 1154.53 Q157.936 1157.71 157.936 1163.12 Q157.936 1168.7 154.464 1171.8 Q150.992 1174.88 144.672 1174.88 Q142.496 1174.88 140.228 1174.51 Q137.982 1174.14 135.575 1173.4 L135.575 1168.7 Q137.658 1169.83 139.881 1170.39 Q142.103 1170.95 144.58 1170.95 Q148.584 1170.95 150.922 1168.84 Q153.26 1166.73 153.26 1163.12 Q153.26 1159.51 150.922 1157.4 Q148.584 1155.3 144.58 1155.3 Q142.705 1155.3 140.83 1155.71 Q138.978 1156.13 137.033 1157.01 L137.033 1139.65 Z\" fill=\"#000000\" fill-rule=\"nonzero\" fill-opacity=\"1\" /><path clip-path=\"url(#clip960)\" d=\"M50.9921 819.03 L80.6679 819.03 L80.6679 822.965 L50.9921 822.965 L50.9921 819.03 Z\" fill=\"#000000\" fill-rule=\"nonzero\" fill-opacity=\"1\" /><path clip-path=\"url(#clip960)\" d=\"M90.8067 801.299 L109.163 801.299 L109.163 805.234 L95.0891 805.234 L95.0891 813.706 Q96.1076 813.359 97.1261 813.197 Q98.1447 813.012 99.1632 813.012 Q104.95 813.012 108.33 816.183 Q111.709 819.354 111.709 824.771 Q111.709 830.349 108.237 833.451 Q104.765 836.53 98.4456 836.53 Q96.2697 836.53 94.0012 836.16 Q91.7558 835.789 89.3484 835.049 L89.3484 830.349 Q91.4317 831.484 93.6539 832.039 Q95.8761 832.595 98.353 832.595 Q102.358 832.595 104.696 830.488 Q107.033 828.382 107.033 824.771 Q107.033 821.16 104.696 819.053 Q102.358 816.947 98.353 816.947 Q96.478 816.947 94.603 817.363 Q92.7512 817.78 90.8067 818.66 L90.8067 801.299 Z\" fill=\"#000000\" fill-rule=\"nonzero\" fill-opacity=\"1\" /><path clip-path=\"url(#clip960)\" d=\"M120.922 829.979 L125.807 829.979 L125.807 835.859 L120.922 835.859 L120.922 829.979 Z\" fill=\"#000000\" fill-rule=\"nonzero\" fill-opacity=\"1\" /><path clip-path=\"url(#clip960)\" d=\"M145.992 804.377 Q142.381 804.377 140.552 807.942 Q138.746 811.484 138.746 818.613 Q138.746 825.72 140.552 829.285 Q142.381 832.826 145.992 832.826 Q149.626 832.826 151.431 829.285 Q153.26 825.72 153.26 818.613 Q153.26 811.484 151.431 807.942 Q149.626 804.377 145.992 804.377 M145.992 800.674 Q151.802 800.674 154.857 805.28 Q157.936 809.863 157.936 818.613 Q157.936 827.34 154.857 831.947 Q151.802 836.53 145.992 836.53 Q140.181 836.53 137.103 831.947 Q134.047 827.34 134.047 818.613 Q134.047 809.863 137.103 805.28 Q140.181 800.674 145.992 800.674 Z\" fill=\"#000000\" fill-rule=\"nonzero\" fill-opacity=\"1\" /><path clip-path=\"url(#clip960)\" d=\"M51.9875 480.679 L81.6633 480.679 L81.6633 484.614 L51.9875 484.614 L51.9875 480.679 Z\" fill=\"#000000\" fill-rule=\"nonzero\" fill-opacity=\"1\" /><path clip-path=\"url(#clip960)\" d=\"M104.603 467.022 L92.7975 485.471 L104.603 485.471 L104.603 467.022 M103.376 462.948 L109.256 462.948 L109.256 485.471 L114.186 485.471 L114.186 489.36 L109.256 489.36 L109.256 497.508 L104.603 497.508 L104.603 489.36 L89.0012 489.36 L89.0012 484.846 L103.376 462.948 Z\" fill=\"#000000\" fill-rule=\"nonzero\" fill-opacity=\"1\" /><path clip-path=\"url(#clip960)\" d=\"M121.918 491.628 L126.802 491.628 L126.802 497.508 L121.918 497.508 L121.918 491.628 Z\" fill=\"#000000\" fill-rule=\"nonzero\" fill-opacity=\"1\" /><path clip-path=\"url(#clip960)\" d=\"M137.033 462.948 L155.39 462.948 L155.39 466.883 L141.316 466.883 L141.316 475.355 Q142.334 475.008 143.353 474.846 Q144.371 474.661 145.39 474.661 Q151.177 474.661 154.556 477.832 Q157.936 481.003 157.936 486.42 Q157.936 491.998 154.464 495.1 Q150.992 498.179 144.672 498.179 Q142.496 498.179 140.228 497.809 Q137.982 497.438 135.575 496.698 L135.575 491.998 Q137.658 493.133 139.881 493.688 Q142.103 494.244 144.58 494.244 Q148.584 494.244 150.922 492.137 Q153.26 490.031 153.26 486.42 Q153.26 482.809 150.922 480.702 Q148.584 478.596 144.58 478.596 Q142.705 478.596 140.83 479.012 Q138.978 479.429 137.033 480.309 L137.033 462.948 Z\" fill=\"#000000\" fill-rule=\"nonzero\" fill-opacity=\"1\" /><path clip-path=\"url(#clip960)\" d=\"M50.9921 142.328 L80.6679 142.328 L80.6679 146.263 L50.9921 146.263 L50.9921 142.328 Z\" fill=\"#000000\" fill-rule=\"nonzero\" fill-opacity=\"1\" /><path clip-path=\"url(#clip960)\" d=\"M103.608 128.671 L91.8021 147.12 L103.608 147.12 L103.608 128.671 M102.381 124.597 L108.26 124.597 L108.26 147.12 L113.191 147.12 L113.191 151.009 L108.26 151.009 L108.26 159.157 L103.608 159.157 L103.608 151.009 L88.0058 151.009 L88.0058 146.495 L102.381 124.597 Z\" fill=\"#000000\" fill-rule=\"nonzero\" fill-opacity=\"1\" /><path clip-path=\"url(#clip960)\" d=\"M120.922 153.277 L125.807 153.277 L125.807 159.157 L120.922 159.157 L120.922 153.277 Z\" fill=\"#000000\" fill-rule=\"nonzero\" fill-opacity=\"1\" /><path clip-path=\"url(#clip960)\" d=\"M145.992 127.675 Q142.381 127.675 140.552 131.24 Q138.746 134.782 138.746 141.911 Q138.746 149.018 140.552 152.583 Q142.381 156.124 145.992 156.124 Q149.626 156.124 151.431 152.583 Q153.26 149.018 153.26 141.911 Q153.26 134.782 151.431 131.24 Q149.626 127.675 145.992 127.675 M145.992 123.972 Q151.802 123.972 154.857 128.578 Q157.936 133.162 157.936 141.911 Q157.936 150.638 154.857 155.245 Q151.802 159.828 145.992 159.828 Q140.181 159.828 137.103 155.245 Q134.047 150.638 134.047 141.911 Q134.047 133.162 137.103 128.578 Q140.181 123.972 145.992 123.972 Z\" fill=\"#000000\" fill-rule=\"nonzero\" fill-opacity=\"1\" /><circle clip-path=\"url(#clip962)\" cx=\"255.035\" cy=\"1445.72\" r=\"14.4\" fill=\"#009af9\" fill-rule=\"evenodd\" fill-opacity=\"1\" stroke=\"#000000\" stroke-opacity=\"1\" stroke-width=\"3.2\"/>\n",
       "<circle clip-path=\"url(#clip962)\" cx=\"400.508\" cy=\"1444.31\" r=\"14.4\" fill=\"#009af9\" fill-rule=\"evenodd\" fill-opacity=\"1\" stroke=\"#000000\" stroke-opacity=\"1\" stroke-width=\"3.2\"/>\n",
       "<circle clip-path=\"url(#clip962)\" cx=\"545.981\" cy=\"1372.99\" r=\"14.4\" fill=\"#009af9\" fill-rule=\"evenodd\" fill-opacity=\"1\" stroke=\"#000000\" stroke-opacity=\"1\" stroke-width=\"3.2\"/>\n",
       "<circle clip-path=\"url(#clip962)\" cx=\"691.454\" cy=\"1300.3\" r=\"14.4\" fill=\"#009af9\" fill-rule=\"evenodd\" fill-opacity=\"1\" stroke=\"#000000\" stroke-opacity=\"1\" stroke-width=\"3.2\"/>\n",
       "<circle clip-path=\"url(#clip962)\" cx=\"836.927\" cy=\"1264.13\" r=\"14.4\" fill=\"#009af9\" fill-rule=\"evenodd\" fill-opacity=\"1\" stroke=\"#000000\" stroke-opacity=\"1\" stroke-width=\"3.2\"/>\n",
       "<circle clip-path=\"url(#clip962)\" cx=\"982.4\" cy=\"1211.34\" r=\"14.4\" fill=\"#009af9\" fill-rule=\"evenodd\" fill-opacity=\"1\" stroke=\"#000000\" stroke-opacity=\"1\" stroke-width=\"3.2\"/>\n",
       "<circle clip-path=\"url(#clip962)\" cx=\"1127.87\" cy=\"1210.57\" r=\"14.4\" fill=\"#009af9\" fill-rule=\"evenodd\" fill-opacity=\"1\" stroke=\"#000000\" stroke-opacity=\"1\" stroke-width=\"3.2\"/>\n",
       "<circle clip-path=\"url(#clip962)\" cx=\"1273.35\" cy=\"1162.78\" r=\"14.4\" fill=\"#009af9\" fill-rule=\"evenodd\" fill-opacity=\"1\" stroke=\"#000000\" stroke-opacity=\"1\" stroke-width=\"3.2\"/>\n",
       "<circle clip-path=\"url(#clip962)\" cx=\"1418.82\" cy=\"1132.24\" r=\"14.4\" fill=\"#009af9\" fill-rule=\"evenodd\" fill-opacity=\"1\" stroke=\"#000000\" stroke-opacity=\"1\" stroke-width=\"3.2\"/>\n",
       "<circle clip-path=\"url(#clip962)\" cx=\"1564.29\" cy=\"1130.03\" r=\"14.4\" fill=\"#009af9\" fill-rule=\"evenodd\" fill-opacity=\"1\" stroke=\"#000000\" stroke-opacity=\"1\" stroke-width=\"3.2\"/>\n",
       "<circle clip-path=\"url(#clip962)\" cx=\"1709.77\" cy=\"870.518\" r=\"14.4\" fill=\"#009af9\" fill-rule=\"evenodd\" fill-opacity=\"1\" stroke=\"#000000\" stroke-opacity=\"1\" stroke-width=\"3.2\"/>\n",
       "<circle clip-path=\"url(#clip962)\" cx=\"1855.24\" cy=\"817.056\" r=\"14.4\" fill=\"#009af9\" fill-rule=\"evenodd\" fill-opacity=\"1\" stroke=\"#000000\" stroke-opacity=\"1\" stroke-width=\"3.2\"/>\n",
       "<circle clip-path=\"url(#clip962)\" cx=\"2000.71\" cy=\"683.329\" r=\"14.4\" fill=\"#009af9\" fill-rule=\"evenodd\" fill-opacity=\"1\" stroke=\"#000000\" stroke-opacity=\"1\" stroke-width=\"3.2\"/>\n",
       "<circle clip-path=\"url(#clip962)\" cx=\"2146.18\" cy=\"659.797\" r=\"14.4\" fill=\"#009af9\" fill-rule=\"evenodd\" fill-opacity=\"1\" stroke=\"#000000\" stroke-opacity=\"1\" stroke-width=\"3.2\"/>\n",
       "<circle clip-path=\"url(#clip962)\" cx=\"2291.66\" cy=\"87.9763\" r=\"14.4\" fill=\"#009af9\" fill-rule=\"evenodd\" fill-opacity=\"1\" stroke=\"#000000\" stroke-opacity=\"1\" stroke-width=\"3.2\"/>\n",
       "<path clip-path=\"url(#clip960)\" d=\"M265.897 198.898 L534.209 198.898 L534.209 95.2176 L265.897 95.2176  Z\" fill=\"#ffffff\" fill-rule=\"evenodd\" fill-opacity=\"1\"/>\n",
       "<polyline clip-path=\"url(#clip960)\" style=\"stroke:#000000; stroke-linecap:round; stroke-linejoin:round; stroke-width:4; stroke-opacity:1; fill:none\" points=\"265.897,198.898 534.209,198.898 534.209,95.2176 265.897,95.2176 265.897,198.898 \"/>\n",
       "<circle clip-path=\"url(#clip960)\" cx=\"361.844\" cy=\"147.058\" r=\"20.48\" fill=\"#009af9\" fill-rule=\"evenodd\" fill-opacity=\"1\" stroke=\"#000000\" stroke-opacity=\"1\" stroke-width=\"4.55111\"/>\n",
       "<path clip-path=\"url(#clip960)\" d=\"M471.634 166.745 Q469.829 171.375 468.116 172.787 Q466.403 174.199 463.532 174.199 L460.13 174.199 L460.13 170.634 L462.63 170.634 Q464.389 170.634 465.361 169.8 Q466.333 168.967 467.514 165.865 L468.278 163.921 L457.792 138.412 L462.306 138.412 L470.407 158.689 L478.509 138.412 L483.023 138.412 L471.634 166.745 Z\" fill=\"#000000\" fill-rule=\"nonzero\" fill-opacity=\"1\" /><path clip-path=\"url(#clip960)\" d=\"M490.315 160.402 L497.954 160.402 L497.954 134.037 L489.643 135.703 L489.643 131.444 L497.907 129.778 L502.583 129.778 L502.583 160.402 L510.222 160.402 L510.222 164.338 L490.315 164.338 L490.315 160.402 Z\" fill=\"#000000\" fill-rule=\"nonzero\" fill-opacity=\"1\" /></svg>\n"
      ]
     },
     "execution_count": 76,
     "metadata": {},
     "output_type": "execute_result"
    }
   ],
   "source": [
    "scatter(filtered_energies)"
   ]
  },
  {
   "cell_type": "code",
   "execution_count": 31,
   "id": "defined-simpson",
   "metadata": {
    "tags": []
   },
   "outputs": [],
   "source": [
    "# Onur hocanın makalesinde ki FIG1 çıktısı\n",
    "\n",
    "# using Plots\n",
    "# using LaTeXStrings\n",
    "# Plots.plot(1:35, E0, seriestype=:scatter,xlabel=L\"$n$\",ylabel=L\"$E$\",title=L\"$V_{imp}=0$\",legend=false)\n",
    "# #ylims!((-7.20544,-7.20536))"
   ]
  },
  {
   "cell_type": "markdown",
   "id": "imposed-spotlight",
   "metadata": {},
   "source": [
    "Alltaki fonksiyonun çalışması için, dizideki filtre edilmiş parçacık sayısı her zaman en büyük değerde olmalıdır.\n",
    "Örneğin, `PN=[0,1,2,3,4]` iken filtre edilen parçacık sayısı `pn=4` olmalıdır!"
   ]
  },
  {
   "cell_type": "markdown",
   "id": "received-letters",
   "metadata": {},
   "source": [
    "# Density Profile"
   ]
  },
  {
   "cell_type": "code",
   "execution_count": 32,
   "id": "e807600d-dafa-4b19-8192-f85ff42f953b",
   "metadata": {
    "tags": []
   },
   "outputs": [],
   "source": [
    "filtered_energies;"
   ]
  },
  {
   "cell_type": "code",
   "execution_count": 33,
   "id": "37e87a65-dac9-4017-b718-bfb43d455afb",
   "metadata": {
    "tags": []
   },
   "outputs": [],
   "source": [
    "r_hubbard_states = Restricted_Hubbard_States(V, filtered_energies);"
   ]
  },
  {
   "cell_type": "code",
   "execution_count": 34,
   "id": "019df414-c244-44dd-bbc3-e7602246c4c6",
   "metadata": {},
   "outputs": [
    {
     "data": {
      "text/plain": [
       "plot_density (generic function with 1 method)"
      ]
     },
     "execution_count": 34,
     "metadata": {},
     "output_type": "execute_result"
    }
   ],
   "source": [
    "function plot_density(Nx, Ny, Degeneracy, N, Sub_Number_MB_Operator_List, basis_cut_mb, r_hubbard_states, factor)\n",
    "    avg_density = Get_Avg_Density(Nx, Ny, Degeneracy, N, Sub_Number_MB_Operator_List, basis_cut_mb, r_hubbard_states)\n",
    "    return Plots.heatmap(Interp(avg_density', factor), aspect_ratio=:equal)\n",
    "end"
   ]
  },
  {
   "cell_type": "code",
   "execution_count": 35,
   "id": "b236ef71-5ce5-42db-82ac-d936b433578b",
   "metadata": {},
   "outputs": [],
   "source": [
    "avg_density = Get_Avg_Density(Nx, Ny, Degeneracy, N, Sub_Number_MB_Operator_List, basis_cut_mb, r_hubbard_states);"
   ]
  },
  {
   "cell_type": "code",
   "execution_count": 36,
   "id": "3973ca7d-8678-4ec5-9f70-43bc6669ff9c",
   "metadata": {},
   "outputs": [
    {
     "data": {
      "image/png": "[encoded data removed]",
      "image/svg+xml": [
       "<?xml version=\"1.0\" encoding=\"utf-8\"?>\n",
       "<svg xmlns=\"http://www.w3.org/2000/svg\" xmlns:xlink=\"http://www.w3.org/1999/xlink\" width=\"600\" height=\"400\" viewBox=\"0 0 2400 1600\">\n",
       "<defs>\n",
       "  <clipPath id=\"clip730\">\n",
       "    <rect x=\"0\" y=\"0\" width=\"2400\" height=\"1600\"/>\n",
       "  </clipPath>\n",
       "</defs>\n",
       "<path clip-path=\"url(#clip730)\" d=\"M0 1600 L2400 1600 L2400 0 L0 0  Z\" fill=\"#ffffff\" fill-rule=\"evenodd\" fill-opacity=\"1\"/>\n",
       "<defs>\n",
       "  <clipPath id=\"clip731\">\n",
       "    <rect x=\"480\" y=\"0\" width=\"1681\" height=\"1600\"/>\n",
       "  </clipPath>\n",
       "</defs>\n",
       "<path clip-path=\"url(#clip730)\" d=\"M112.177 1409.37 L2112.76 1409.37 L2112.76 124.324 L112.177 124.324  Z\" fill=\"#ffffff\" fill-rule=\"evenodd\" fill-opacity=\"1\"/>\n",
       "<defs>\n",
       "  <clipPath id=\"clip732\">\n",
       "    <rect x=\"112\" y=\"124\" width=\"2002\" height=\"1286\"/>\n",
       "  </clipPath>\n",
       "</defs>\n",
       "<polyline clip-path=\"url(#clip732)\" style=\"stroke:#000000; stroke-linecap:round; stroke-linejoin:round; stroke-width:2; stroke-opacity:0.1; fill:none\" points=\"156.394,1409.37 156.394,124.324 \"/>\n",
       "<polyline clip-path=\"url(#clip732)\" style=\"stroke:#000000; stroke-linecap:round; stroke-linejoin:round; stroke-width:2; stroke-opacity:0.1; fill:none\" points=\"475.085,1409.37 475.085,124.324 \"/>\n",
       "<polyline clip-path=\"url(#clip732)\" style=\"stroke:#000000; stroke-linecap:round; stroke-linejoin:round; stroke-width:2; stroke-opacity:0.1; fill:none\" points=\"793.776,1409.37 793.776,124.324 \"/>\n",
       "<polyline clip-path=\"url(#clip732)\" style=\"stroke:#000000; stroke-linecap:round; stroke-linejoin:round; stroke-width:2; stroke-opacity:0.1; fill:none\" points=\"1112.47,1409.37 1112.47,124.324 \"/>\n",
       "<polyline clip-path=\"url(#clip732)\" style=\"stroke:#000000; stroke-linecap:round; stroke-linejoin:round; stroke-width:2; stroke-opacity:0.1; fill:none\" points=\"1431.16,1409.37 1431.16,124.324 \"/>\n",
       "<polyline clip-path=\"url(#clip732)\" style=\"stroke:#000000; stroke-linecap:round; stroke-linejoin:round; stroke-width:2; stroke-opacity:0.1; fill:none\" points=\"1749.85,1409.37 1749.85,124.324 \"/>\n",
       "<polyline clip-path=\"url(#clip732)\" style=\"stroke:#000000; stroke-linecap:round; stroke-linejoin:round; stroke-width:2; stroke-opacity:0.1; fill:none\" points=\"2068.54,1409.37 2068.54,124.324 \"/>\n",
       "<polyline clip-path=\"url(#clip730)\" style=\"stroke:#000000; stroke-linecap:round; stroke-linejoin:round; stroke-width:4; stroke-opacity:1; fill:none\" points=\"112.177,1409.37 2112.76,1409.37 \"/>\n",
       "<polyline clip-path=\"url(#clip730)\" style=\"stroke:#000000; stroke-linecap:round; stroke-linejoin:round; stroke-width:4; stroke-opacity:1; fill:none\" points=\"156.394,1409.37 156.394,1392.49 \"/>\n",
       "<polyline clip-path=\"url(#clip730)\" style=\"stroke:#000000; stroke-linecap:round; stroke-linejoin:round; stroke-width:4; stroke-opacity:1; fill:none\" points=\"475.085,1409.37 475.085,1392.49 \"/>\n",
       "<polyline clip-path=\"url(#clip730)\" style=\"stroke:#000000; stroke-linecap:round; stroke-linejoin:round; stroke-width:4; stroke-opacity:1; fill:none\" points=\"793.776,1409.37 793.776,1392.49 \"/>\n",
       "<polyline clip-path=\"url(#clip730)\" style=\"stroke:#000000; stroke-linecap:round; stroke-linejoin:round; stroke-width:4; stroke-opacity:1; fill:none\" points=\"1112.47,1409.37 1112.47,1392.49 \"/>\n",
       "<polyline clip-path=\"url(#clip730)\" style=\"stroke:#000000; stroke-linecap:round; stroke-linejoin:round; stroke-width:4; stroke-opacity:1; fill:none\" points=\"1431.16,1409.37 1431.16,1392.49 \"/>\n",
       "<polyline clip-path=\"url(#clip730)\" style=\"stroke:#000000; stroke-linecap:round; stroke-linejoin:round; stroke-width:4; stroke-opacity:1; fill:none\" points=\"1749.85,1409.37 1749.85,1392.49 \"/>\n",
       "<polyline clip-path=\"url(#clip730)\" style=\"stroke:#000000; stroke-linecap:round; stroke-linejoin:round; stroke-width:4; stroke-opacity:1; fill:none\" points=\"2068.54,1409.37 2068.54,1392.49 \"/>\n",
       "<path clip-path=\"url(#clip730)\" d=\"M156.394 1440.29 Q152.783 1440.29 150.955 1443.85 Q149.149 1447.39 149.149 1454.52 Q149.149 1461.63 150.955 1465.19 Q152.783 1468.74 156.394 1468.74 Q160.029 1468.74 161.834 1465.19 Q163.663 1461.63 163.663 1454.52 Q163.663 1447.39 161.834 1443.85 Q160.029 1440.29 156.394 1440.29 M156.394 1436.58 Q162.205 1436.58 165.26 1441.19 Q168.339 1445.77 168.339 1454.52 Q168.339 1463.25 165.26 1467.86 Q162.205 1472.44 156.394 1472.44 Q150.584 1472.44 147.506 1467.86 Q144.45 1463.25 144.45 1454.52 Q144.45 1445.77 147.506 1441.19 Q150.584 1436.58 156.394 1436.58 Z\" fill=\"#000000\" fill-rule=\"nonzero\" fill-opacity=\"1\" /><path clip-path=\"url(#clip730)\" d=\"M465.467 1467.83 L473.106 1467.83 L473.106 1441.47 L464.796 1443.13 L464.796 1438.87 L473.06 1437.21 L477.736 1437.21 L477.736 1467.83 L485.374 1467.83 L485.374 1471.77 L465.467 1471.77 L465.467 1467.83 Z\" fill=\"#000000\" fill-rule=\"nonzero\" fill-opacity=\"1\" /><path clip-path=\"url(#clip730)\" d=\"M788.429 1467.83 L804.748 1467.83 L804.748 1471.77 L782.804 1471.77 L782.804 1467.83 Q785.466 1465.08 790.049 1460.45 Q794.655 1455.8 795.836 1454.45 Q798.081 1451.93 798.961 1450.19 Q799.864 1448.43 799.864 1446.74 Q799.864 1443.99 797.919 1442.25 Q795.998 1440.52 792.896 1440.52 Q790.697 1440.52 788.243 1441.28 Q785.813 1442.05 783.035 1443.6 L783.035 1438.87 Q785.859 1437.74 788.313 1437.16 Q790.767 1436.58 792.804 1436.58 Q798.174 1436.58 801.368 1439.27 Q804.563 1441.95 804.563 1446.44 Q804.563 1448.57 803.753 1450.49 Q802.966 1452.39 800.859 1454.99 Q800.28 1455.66 797.179 1458.87 Q794.077 1462.07 788.429 1467.83 Z\" fill=\"#000000\" fill-rule=\"nonzero\" fill-opacity=\"1\" /><path clip-path=\"url(#clip730)\" d=\"M1116.71 1453.13 Q1120.07 1453.85 1121.95 1456.12 Q1123.84 1458.39 1123.84 1461.72 Q1123.84 1466.84 1120.33 1469.64 Q1116.81 1472.44 1110.33 1472.44 Q1108.15 1472.44 1105.83 1472 Q1103.54 1471.58 1101.09 1470.73 L1101.09 1466.21 Q1103.03 1467.35 1105.35 1467.93 Q1107.66 1468.5 1110.19 1468.5 Q1114.58 1468.5 1116.88 1466.77 Q1119.19 1465.03 1119.19 1461.72 Q1119.19 1458.67 1117.04 1456.95 Q1114.91 1455.22 1111.09 1455.22 L1107.06 1455.22 L1107.06 1451.37 L1111.27 1451.37 Q1114.72 1451.37 1116.55 1450.01 Q1118.38 1448.62 1118.38 1446.03 Q1118.38 1443.36 1116.48 1441.95 Q1114.61 1440.52 1111.09 1440.52 Q1109.17 1440.52 1106.97 1440.93 Q1104.77 1441.35 1102.13 1442.23 L1102.13 1438.06 Q1104.79 1437.32 1107.11 1436.95 Q1109.45 1436.58 1111.51 1436.58 Q1116.83 1436.58 1119.93 1439.01 Q1123.03 1441.42 1123.03 1445.54 Q1123.03 1448.41 1121.39 1450.4 Q1119.75 1452.37 1116.71 1453.13 Z\" fill=\"#000000\" fill-rule=\"nonzero\" fill-opacity=\"1\" /><path clip-path=\"url(#clip730)\" d=\"M1434.17 1441.28 L1422.36 1459.73 L1434.17 1459.73 L1434.17 1441.28 M1432.94 1437.21 L1438.82 1437.21 L1438.82 1459.73 L1443.75 1459.73 L1443.75 1463.62 L1438.82 1463.62 L1438.82 1471.77 L1434.17 1471.77 L1434.17 1463.62 L1418.56 1463.62 L1418.56 1459.11 L1432.94 1437.21 Z\" fill=\"#000000\" fill-rule=\"nonzero\" fill-opacity=\"1\" /><path clip-path=\"url(#clip730)\" d=\"M1740.13 1437.21 L1758.48 1437.21 L1758.48 1441.14 L1744.41 1441.14 L1744.41 1449.61 Q1745.43 1449.27 1746.45 1449.11 Q1747.46 1448.92 1748.48 1448.92 Q1754.27 1448.92 1757.65 1452.09 Q1761.03 1455.26 1761.03 1460.68 Q1761.03 1466.26 1757.56 1469.36 Q1754.08 1472.44 1747.76 1472.44 Q1745.59 1472.44 1743.32 1472.07 Q1741.07 1471.7 1738.67 1470.96 L1738.67 1466.26 Q1740.75 1467.39 1742.97 1467.95 Q1745.2 1468.5 1747.67 1468.5 Q1751.68 1468.5 1754.01 1466.4 Q1756.35 1464.29 1756.35 1460.68 Q1756.35 1457.07 1754.01 1454.96 Q1751.68 1452.86 1747.67 1452.86 Q1745.8 1452.86 1743.92 1453.27 Q1742.07 1453.69 1740.13 1454.57 L1740.13 1437.21 Z\" fill=\"#000000\" fill-rule=\"nonzero\" fill-opacity=\"1\" /><path clip-path=\"url(#clip730)\" d=\"M2068.94 1452.62 Q2065.8 1452.62 2063.94 1454.78 Q2062.12 1456.93 2062.12 1460.68 Q2062.12 1464.41 2063.94 1466.58 Q2065.8 1468.74 2068.94 1468.74 Q2072.09 1468.74 2073.92 1466.58 Q2075.77 1464.41 2075.77 1460.68 Q2075.77 1456.93 2073.92 1454.78 Q2072.09 1452.62 2068.94 1452.62 M2078.23 1437.97 L2078.23 1442.23 Q2076.47 1441.4 2074.66 1440.96 Q2072.88 1440.52 2071.12 1440.52 Q2066.49 1440.52 2064.04 1443.64 Q2061.61 1446.77 2061.26 1453.09 Q2062.62 1451.07 2064.68 1450.01 Q2066.74 1448.92 2069.22 1448.92 Q2074.43 1448.92 2077.44 1452.09 Q2080.47 1455.24 2080.47 1460.68 Q2080.47 1466 2077.32 1469.22 Q2074.18 1472.44 2068.94 1472.44 Q2062.95 1472.44 2059.78 1467.86 Q2056.61 1463.25 2056.61 1454.52 Q2056.61 1446.33 2060.49 1441.47 Q2064.38 1436.58 2070.93 1436.58 Q2072.69 1436.58 2074.48 1436.93 Q2076.28 1437.28 2078.23 1437.97 Z\" fill=\"#000000\" fill-rule=\"nonzero\" fill-opacity=\"1\" /><polyline clip-path=\"url(#clip732)\" style=\"stroke:#000000; stroke-linecap:round; stroke-linejoin:round; stroke-width:2; stroke-opacity:0.1; fill:none\" points=\"112.177,1404.23 2112.76,1404.23 \"/>\n",
       "<polyline clip-path=\"url(#clip732)\" style=\"stroke:#000000; stroke-linecap:round; stroke-linejoin:round; stroke-width:2; stroke-opacity:0.1; fill:none\" points=\"112.177,1085.54 2112.76,1085.54 \"/>\n",
       "<polyline clip-path=\"url(#clip732)\" style=\"stroke:#000000; stroke-linecap:round; stroke-linejoin:round; stroke-width:2; stroke-opacity:0.1; fill:none\" points=\"112.177,766.846 2112.76,766.846 \"/>\n",
       "<polyline clip-path=\"url(#clip732)\" style=\"stroke:#000000; stroke-linecap:round; stroke-linejoin:round; stroke-width:2; stroke-opacity:0.1; fill:none\" points=\"112.177,448.155 2112.76,448.155 \"/>\n",
       "<polyline clip-path=\"url(#clip732)\" style=\"stroke:#000000; stroke-linecap:round; stroke-linejoin:round; stroke-width:2; stroke-opacity:0.1; fill:none\" points=\"112.177,129.465 2112.76,129.465 \"/>\n",
       "<polyline clip-path=\"url(#clip730)\" style=\"stroke:#000000; stroke-linecap:round; stroke-linejoin:round; stroke-width:4; stroke-opacity:1; fill:none\" points=\"112.177,1409.37 112.177,124.324 \"/>\n",
       "<polyline clip-path=\"url(#clip730)\" style=\"stroke:#000000; stroke-linecap:round; stroke-linejoin:round; stroke-width:4; stroke-opacity:1; fill:none\" points=\"112.177,1404.23 129.051,1404.23 \"/>\n",
       "<polyline clip-path=\"url(#clip730)\" style=\"stroke:#000000; stroke-linecap:round; stroke-linejoin:round; stroke-width:4; stroke-opacity:1; fill:none\" points=\"112.177,1085.54 129.051,1085.54 \"/>\n",
       "<polyline clip-path=\"url(#clip730)\" style=\"stroke:#000000; stroke-linecap:round; stroke-linejoin:round; stroke-width:4; stroke-opacity:1; fill:none\" points=\"112.177,766.846 129.051,766.846 \"/>\n",
       "<polyline clip-path=\"url(#clip730)\" style=\"stroke:#000000; stroke-linecap:round; stroke-linejoin:round; stroke-width:4; stroke-opacity:1; fill:none\" points=\"112.177,448.155 129.051,448.155 \"/>\n",
       "<polyline clip-path=\"url(#clip730)\" style=\"stroke:#000000; stroke-linecap:round; stroke-linejoin:round; stroke-width:4; stroke-opacity:1; fill:none\" points=\"112.177,129.465 129.051,129.465 \"/>\n",
       "<path clip-path=\"url(#clip730)\" d=\"M56.2699 1417.57 L63.9087 1417.57 L63.9087 1391.21 L55.5986 1392.87 L55.5986 1388.61 L63.8624 1386.95 L68.5383 1386.95 L68.5383 1417.57 L76.1772 1417.57 L76.1772 1421.51 L56.2699 1421.51 L56.2699 1417.57 Z\" fill=\"#000000\" fill-rule=\"nonzero\" fill-opacity=\"1\" /><path clip-path=\"url(#clip730)\" d=\"M59.8578 1098.88 L76.1772 1098.88 L76.1772 1102.82 L54.2328 1102.82 L54.2328 1098.88 Q56.8949 1096.13 61.4782 1091.5 Q66.0846 1086.84 67.2652 1085.5 Q69.5105 1082.98 70.3902 1081.24 Q71.2929 1079.48 71.2929 1077.79 Q71.2929 1075.04 69.3485 1073.3 Q67.4272 1071.57 64.3254 1071.57 Q62.1263 1071.57 59.6726 1072.33 Q57.2421 1073.09 54.4643 1074.65 L54.4643 1069.92 Q57.2884 1068.79 59.7421 1068.21 Q62.1958 1067.63 64.2328 1067.63 Q69.6031 1067.63 72.7976 1070.32 Q75.992 1073 75.992 1077.49 Q75.992 1079.62 75.1818 1081.54 Q74.3948 1083.44 72.2883 1086.03 Q71.7096 1086.71 68.6078 1089.92 Q65.5059 1093.12 59.8578 1098.88 Z\" fill=\"#000000\" fill-rule=\"nonzero\" fill-opacity=\"1\" /><path clip-path=\"url(#clip730)\" d=\"M69.0476 765.492 Q72.404 766.209 74.279 768.478 Q76.1772 770.746 76.1772 774.08 Q76.1772 779.195 72.6587 781.996 Q69.1402 784.797 62.6587 784.797 Q60.4828 784.797 58.168 784.357 Q55.8764 783.941 53.4227 783.084 L53.4227 778.57 Q55.3671 779.705 57.6819 780.283 Q59.9967 780.862 62.5198 780.862 Q66.918 780.862 69.2096 779.126 Q71.5244 777.39 71.5244 774.08 Q71.5244 771.024 69.3717 769.311 Q67.242 767.575 63.4226 767.575 L59.3949 767.575 L59.3949 763.733 L63.6078 763.733 Q67.0569 763.733 68.8855 762.367 Q70.7142 760.978 70.7142 758.385 Q70.7142 755.723 68.8161 754.311 Q66.9411 752.876 63.4226 752.876 Q61.5013 752.876 59.3023 753.293 Q57.1032 753.709 54.4643 754.589 L54.4643 750.422 Q57.1264 749.682 59.4412 749.311 Q61.7791 748.941 63.8393 748.941 Q69.1633 748.941 72.2652 751.372 Q75.367 753.779 75.367 757.899 Q75.367 760.77 73.7235 762.76 Q72.08 764.728 69.0476 765.492 Z\" fill=\"#000000\" fill-rule=\"nonzero\" fill-opacity=\"1\" /><path clip-path=\"url(#clip730)\" d=\"M66.5939 434.949 L54.7884 453.398 L66.5939 453.398 L66.5939 434.949 M65.367 430.875 L71.2466 430.875 L71.2466 453.398 L76.1772 453.398 L76.1772 457.287 L71.2466 457.287 L71.2466 465.435 L66.5939 465.435 L66.5939 457.287 L50.9921 457.287 L50.9921 452.773 L65.367 430.875 Z\" fill=\"#000000\" fill-rule=\"nonzero\" fill-opacity=\"1\" /><path clip-path=\"url(#clip730)\" d=\"M55.2745 112.185 L73.6309 112.185 L73.6309 116.12 L59.5569 116.12 L59.5569 124.592 Q60.5754 124.245 61.5939 124.083 Q62.6124 123.897 63.6309 123.897 Q69.418 123.897 72.7976 127.069 Q76.1772 130.24 76.1772 135.657 Q76.1772 141.235 72.705 144.337 Q69.2328 147.416 62.9134 147.416 Q60.7374 147.416 58.4689 147.045 Q56.2236 146.675 53.8162 145.934 L53.8162 141.235 Q55.8995 142.37 58.1217 142.925 Q60.3439 143.481 62.8208 143.481 Q66.8254 143.481 69.1633 141.374 Q71.5013 139.268 71.5013 135.657 Q71.5013 132.046 69.1633 129.939 Q66.8254 127.833 62.8208 127.833 Q60.9458 127.833 59.0708 128.249 Q57.2189 128.666 55.2745 129.546 L55.2745 112.185 Z\" fill=\"#000000\" fill-rule=\"nonzero\" fill-opacity=\"1\" /><g clip-path=\"url(#clip732)\">\n",
       "<image width=\"1285\" height=\"1285\" xlink:href=\"data:image/png;base64,\n",
       "iVBORw0KGgoAAAANSUhEUgAABQUAAAUFCAYAAACuAKUAAAAgAElEQVR4nOzaza7rOpMl2qDsnY9c\n",
       "r31RzdqWxNtwZrNQMwAK/s7hGO2JCP1SdKw1/vf/979mpcaRxcJcWu/rtbbm6nP5ppf2rsp7jxH2\n",
       "Xn6Mad9nkv/58tdrptmZ1rzDclnuGw6z8wp7Z7lOzZpnFruzXN2fLNfIjrTm9TdundYcac0zy8X1\n",
       "qmqkNc/wXMJ6vd5hzc/6Y4xrhrm0XpyrqvqE780nXAM++RpZ4WHOv9n3a37eUe7+hPuPqpp/05pp\n",
       "7k/cO6+Z5a7FuSdqXmfe+zyz+3iGNePclT8/55XV/IQ1096tY7yz9+u8w95hvV7vMDez3HXn+9K4\n",
       "5sxq3mHuiZp3uDzfjX17uoWdYc3GF+RnOr9qRnhG6c++Y2T1Or9205qvxblWzSP7vfIO673Dep3e\n",
       "f0Z4jEf+W+n9WlvzzyvLvcPcN5vtI+Pe73Bf2sjGuT9Z7hXmejWzTfHrv7J6nTUAAAAAAPgXMBQE\n",
       "AAAAgM0YCgIAAADAZgwFAQAAAGAzhoIAAAAAsBlDQQAAAADYjKEgAAAAAGzGUBAAAAAANmMoCAAA\n",
       "AACbMRQEAAAAgM286/4/eXpkM8RZr6X1OtmR1lx9Lt/mS3u3ZrZp77RmXC/NVc0wG1eMj3G9OWea\n",
       "7FRNm4f17rBclvuGw+y81uaqas4zC95p708UG3eWq6qqK8yGNUdar6rG9TcLhjXTeuMM+zay4wyP\n",
       "8YHe9VncO6xXVTXS7PJc+G5VVX2y92t+snVqfhrr+N8sOz/vKHf/zXJpvaqqO+29+Bg7Na8f5aqq\n",
       "rjPLnmHNM6zXyca5K9sffq7GMcY1s1xa77zzve7nzvaRac0zrNfJnjNbK1bXq6q6wppXWDPNVVXd\n",
       "4fbwCnfad9g73pZWujOtmmnvvPVynV9Acc3wt038S3JkvY/Gpzit+QrP+3Xk1+eV9k7fr7Be5z18\n",
       "h9k7vNe9NSDbo92v9N1eu1Z0aj6xBqQ187f7d7OI1fynIAAAAABsxlAQAAAAADZjKAgAAAAAmzEU\n",
       "BAAAAIDNGAoCAAAAwGYMBQEAAABgM4aCAAAAALAZQ0EAAAAA2IyhIAAAAABs5j2uv3l6ZDPEGeZq\n",
       "vH7YO52H5nPT8cPe8XnXCGNhLq33RO/ZaL1c1ny2jjEMz3txvSusl/eeac1W7zPL3VluhLm6P1mu\n",
       "qurKsiOsOcJ6397ZWp7WHGdYL8x9s6t7N65P3Dus+Vlcryo+xjj3CZ/xT/4ezk+4rnzCdfxv/g2Z\n",
       "n3eUu/9mubhemOv0Tmt2el9h9vr8WVrvbBzjeYbHGOY+Ye7bO9tzpsf4ucJ6V36Mac249x3Wu/P9\n",
       "5uqaZ6t3WHNm68rqelVVV5hdnftms9wd1rzTeo3fAum+ON0+9/bZi6U/axrXJ/71FQaP8EoejZ9z\n",
       "r5HWzHKvxj18pzXD3HVkv2t672H4boc3MX1fO9m7sn3fjNeKzhqQZfN3e33vvN7Scv9d9IGaAf8p\n",
       "CAAAAACbMRQEAAAAgM0YCgIAAADAZgwFAQAAAGAzhoIAAAAAsBlDQQAAAADYjKEgAAAAAGzGUBAA\n",
       "AAAANmMoCAAAAACbedf1N0+PbIY4wlyNV9x6xjV/lKvGMaaz2Ebv+N7UCOuFubReIzvj3v8Ac3bC\n",
       "YewOq62t981ev8lV1bjPLLg4N+5PVq+q6sqyac0R1quqqjNby9OaY3G9Ts06w5ppvaoan7Rmen3C\n",
       "emnfqqpP+OymuTN7v+ansU6FpzP/huv95x23vj/ZniGteae5v51jzLJXfIx/4t5pzXPxMab1qqrO\n",
       "M6y5OFdV9bmy7OfMnrMzrXfle93PnWXTmp872xumfauqzrhmlkvrVVWdM1tX0t5XWO+8831peoxp\n",
       "76uxPN+La97hvv1uHGO6LU5LdnbZqz3xayX9CRT/4gwLHiO/kkd45q+w5qtxIc8jq/kOe8fv4ZH/\n",
       "Vsprhu9X40mL39n43c72ka01YHkuvz6tn+X/6RYvQP5TEAAAAAA2YygIAAAAAJsxFAQAAACAzRgK\n",
       "AgAAAMBmDAUBAAAAYDOGggAAAACwGUNBAAAAANiMoSAAAAAAbMZQEAAAAAA2YygIAAAAAJt5j+tv\n",
       "HJ4jnCEeYW684t4j7b04F59zVVWF5zNGmGv0Ts+nVvcO63Wyccm8d5qcccUwOfOK62veYb0wV1U1\n",
       "r7B1lhtpvaqq+1yaG3G9T5arqnFl2TRXaa7T+1x7jGm9qorPJz7GTu+05ies+QmfnzTXqpm9s/MT\n",
       "rhWNyzg/4bfmk30P7zBXVTX/vsOav8n1av6Jclej9xlm05ppvfNsHGOY/YS5Tu/PFfa+smcyz3WO\n",
       "MXu/PnfYO87l+800m+bOme/lVtc87yx3NY4x7X2FW69O7ytc8tNd3x32vhtb3TSabnU7u+xfaf1S\n",
       "CsPxr7Sw3qtxkEdcMwu+Rn4XX2H0CntfR1aw9R4e2RuWv19579U15+JcVWMWkdZs9Ob/zn8KAgAA\n",
       "AMBmDAUBAAAAYDOGggAAAACwGUNBAAAAANiMoSAAAAAAbMZQEAAAAAA2YygIAAAAAJsxFAQAAACA\n",
       "zRgKAgAAAMBm3nX9jcPjeGXBGc4axxX3niOtGR5jWG+kfavy8wlrxuf8Lbq0d14vzHVqxr3zzjOP\n",
       "Li7Y6Rxm5/2bXFWNGT7jac37jHtX2HukNa/P2npVNcKace+0XiM7wjV/nGHvNNeomfdu3JvV55P2\n",
       "bhxjndkzPj/h+xWeyvzk35r5yb6x8/NemququsPsHR5jXi8/xivMrs51smeaO9fmqqo+YTbOXZ3e\n",
       "2XOR1vzcab1wX1pVf+Oa2TsbH+OdrwGfcI//ubNN2tnqndYMc3G9KFZVVVdY8wq3fGm9Xs0sd6fb\n",
       "0iz2SM25fIOfi3/VNH6vrK6Zvl1H4yBfYXR1rqrqdYTv18gejPidafwkv8I18j6y5o3lp+5wvZir\n",
       "c1GqmX1g/fnhcrFc/spmZ+0/BQEAAABgM4aCAAAAALAZQ0EAAAAA2IyhIAAAAABsxlAQAAAAADZj\n",
       "KAgAAAAAmzEUBAAAAIDNGAoCAAAAwGYMBQEAAABgM+9xf/L0vLLYCGeN4xW3HnHN8BiPtF5jbhpn\n",
       "s1x8zp3eY0Sxmc6Lw3r/HW5kF9dLozMtmAbjglUzy4605rzX5qriNaDuLDfSelVV97k0N9LcFfat\n",
       "qrqy9XQszlVVjTOseYbnE9frHGPae+0x9mouzn3yZ3x+wncxbD0/2To+z/xbMz/Zd/s+s9z8vPPe\n",
       "Z5a9w5pp7mocY5pNc2ej9xlen9W5T5jrZOPc1eh9Zc/k3zD3ucNcWK+q6m9a887e2dW5Xs1s4/WZ\n",
       "+V7uXFwzrXc2tnJX3Dutl/e+w2xaM63X2EWmW90ndtl5ePHPlSd+KR1hcHWuquoVZvNc3vyVPuNh\n",
       "ySs88St9cKvqOrLsHda8G2vkfWRvY3o26bvdeQ/zS5nOLFbPF/5tsgvuPwUBAAAAYDOGggAAAACw\n",
       "GUNBAAAAANiMoSAAAAAAbMZQEAAAAAA2YygIAAAAAJsxFAQAAACAzRgKAgAAAMBmDAUBAAAAYDPv\n",
       "cX3i8BzZDHGEuRp33LuOrGZ8jDM9xsbcNMymx/hE76qRpUaWS+v9d9H1NfPmYW4u7tuoN8PsTN+b\n",
       "tN4V1quqO+s90pp33nvcZ1gzy8X1rjBXVel6ujpXVVVpNu69/vrUufgYz07vMHuGz+Qny82zsQaE\n",
       "hzg/2Xo2z/Cb9Hlnjatqnlk2rXl/XnHvO665tvcVnnMne57re5/heZ9hzc/iXFXV5wprxrn8+fm7\n",
       "uObfO83le7m09yesmfb+3Pm+6xPun9Oand7nTGuurXc2fq5c4ZKffhrSelVV9+Kaab00V5XviuMt\n",
       "cd76Zzq/atKfSumqcqT1Ggf5CrOrc1VVr/DEr/BCpu/C1fhJnr4P6SiisfzUHT4Z8fsVrpGdpzx/\n",
       "Z5+YB6z1yMQiLDpGdiXTnP8UBAAAAIDNGAoCAAAAwGYMBQEAAABgM4aCAAAAALAZQ0EAAAAA2Iyh\n",
       "IAAAAABsxlAQAAAAADZjKAgAAAAAmzEUBAAAAIDNGAoCAAAAwGbe4/rk6fEKc+Gs8bjj1nNmNUfa\n",
       "O8zNtF5V1REeYzqL7fSOz2eE9cJcpbmHaubNw9xc23Z26oXZmb03I+09ryzX6F13VnN0et9nVvMK\n",
       "e9/h2ndlfb+9s5ojrXl2eqfXZ23vcTa+IXHN9denzvBZi3Phu3Dma8A8s3VqnuF6/8m+2fMMv+1V\n",
       "dYc149z5Xt87rHmFubRvVdX1Wdv7bNybM665OHfl9/AT1vxc2Xn/bfT+G9b83Gnv7D38G9b79k5r\n",
       "Zrm8Xr7v+oTZz8xy5wO902X3s34Zr2txzavTO8zey3P5Qaa//OKKjeuzeIcf/7KIf/40ah5h8Aib\n",
       "d/5L6BX2jnON5u/0vQl7h8t43eF6VlUVLrt1h3f7bjy5M3wXw7FKzeVvTfOn8Y+M8Lzjp2LkJ532\n",
       "Tle0eE0JcwAAAADAv4ShIAAAAABsxlAQAAAAADZjKAgAAAAAmzEUBAAAAIDNGAoCAAAAwGYMBQEA\n",
       "AABgM4aCAAAAALAZQ0EAAAAA2My7rjMOj3FnwSObNc6ZzyTHCLPHK+sd1ov7VlWF55P2rjHy3vH5\n",
       "pDXXH+OsMBuXbFyf1eaMYqOyXKdmpTVn+L6muaoa9xXWDHNpvUbvcYdrWrj2jc4amWavz/reZ5gN\n",
       "c/m5PHB94nPJn5/VNecZvof55an6hGvaGX7n0twny7Vqnu8od4f1vtm1Na9PVu8K+36zYe+w5tno\n",
       "fV5Z78+Pco/0vhu9w+zfK9v//E3r3fk+8hNm05p/72xN+YS5TjbOzU7vLHemuXQZz7dJcc3rgd53\n",
       "uI9Me9/hfvNubHXT05nhuTRaL5c+uZ1fK+nvtHRVOcLmaa6q6hVmX+G5vBo3MVye6x0eY/o8NpbI\n",
       "usM7PsOndzbWyHS0MuMnKLtCeb3fvrN593Bvkd6adNFtlExHMGNkvf2nIAAAAABsxlAQAAAAADZj\n",
       "KAgAAAAAmzEUBAAAAIDNGAoCAAAAwGYMBQEAAABgM4aCAAAAALAZQ0EAAAAA2IyhIAAAAABs5j2u\n",
       "M08f2Qxxziw3RmMmGfe+1/ZuHOMMj/GJ3lUjSs24d1Yv7fstub5m3jzMzdWNGwVnmE2f8TCX1mv1\n",
       "vq+sXpqrqnGHa1VYM177OmtkmP039R5nfg8rza7OVVWd2bM7z/A9DC/jPBvfkPP1k9wd5r7Z99Ka\n",
       "9yerV1V1hTWvxceY9q2qOq+s9xnWPK8Hei/OfRrH+Lmz7N80d+Xv1987y8a943r5MX7imtmmJu39\n",
       "Cet9s1kuPcZwaf72Dpfn9BjT3ulnoVPzCvd8V6N3XjPLpbfmTvevVXWH++J4Sxx3Xi/+VdP4WTNm\n",
       "Fk5XlSNsnuaqqtIV/xUe5Ltxfa7w+qSfhvT9aizjdac1w3Pp9E7fh/y9SZs3FvKw5iPv1+Ka+WQj\n",
       "v+L5MWY105z/FAQAAACAzRgKAgAAAMBmDAUBAAAAYDOGggAAAACwGUNBAAAAANiMoSAAAAAAbMZQ\n",
       "EAAAAAA2YygIAAAAAJsxFAQAAACAzRgKAgAAAMBm3nWfeXpmM8Qxstw8GjPJxb0r7D3TelU1wmOs\n",
       "9Po0etcYYSw9xqxeVZrLa868YN57uewoW0c47zAXXqG4XpirqnGnNa+wXparqkrXqnGFNdN6jTVy\n",
       "XGE2PMa4Xqt3mDsX1+tk03uY5qpqXuF7Ex7ivML17MzX8TQ7z9dPcp3svTjXyV5p7kpz7yjX6X2G\n",
       "vc8z730u7v1ZnHui5ud+oPedvYerc1VVf+9sXfkb1kzrffJtwPKand7n4ppn+lm4851pXDPcy13p\n",
       "nq+RTXN3uNdNc51svNVt9F5thLv80TjEEf5WOsLex8xyr/h3X977nT6Pjd7vcDm9w/NOl+fGa5jX\n",
       "DOv1nvDVv7VTnf8zyxbo8cj/rq39/R7nGovAERY9wt81R9jbfwoCAAAAwGYMBQEAAABgM4aCAAAA\n",
       "ALAZQ0EAAAAA2IyhIAAAAABsxlAQAAAAADZjKAgAAAAAmzEUBAAAAIDNGAoCAAAAwGbe4zrz9Mhm\n",
       "iPPIcmM2ZpJhzRkeY4W9R9j3v8NZ6zA30nP5hsNceIyV1gtz3/Dikp3eq82lsa87So2Z9s7qxbmq\n",
       "qjs8xvsK64W5Vs1sTUvXvtYaGR5jXLPT+wqvT5gbi+u1smnubDy7Z/jeXOG6cobrc5qrqnm9slxY\n",
       "c55ZvTvMdbJxLjznJ3pfYe5sXJ8rPJ/rfGe9G9fnvLPsJ6z5SeuFuW82e3ZX5zrZv8tz+V5ldc2/\n",
       "4VL6aR1jWDNccj+NZTzNpp+GT7ifOu98M3eGNa+0d7rnq6or3Eemve9wE3uHfTs1Z5zrSNPh75W4\n",
       "Wv5+jZllj7Bmmns1/k/oFda8wty70Tv8GVLpkpa+2vPI72H6NvSe3bXi3/mPSO93+Juz836Fc5D0\n",
       "CMfI7uIY+T7pWFxzXFk9/ykIAAAAAJsxFAQAAACAzRgKAgAAAMBmDAUBAAAAYDOGggAAAACwGUNB\n",
       "AAAAANiMoSAAAAAAbMZQEAAAAAA2YygIAAAAAJt5j+uKw/OYUW7MLFdhvaqqGdYcac2R5dK+nZrj\n",
       "uMN6+cx2xtms9xgjK5fmvuGlNRt3JtY5m0jn+UnPaIbPT/rO3GG9qqoZrhd3lhthrlUzXNPita+x\n",
       "Ro7rXFqzsz5X2Hv1MdbZOcbwWTuz3Lwa71d4mPMM158rW3PT3Lf3K8rdae7KcjPMPdE7rVdVdYU1\n",
       "f5WrqjrD7HmHvcPcE73PO3t203pVVZ8wm+fy9+tvmP3c2RqQ5zrHmNbM6qXH+LexDUh7pzXTelVV\n",
       "n3BfE35CGvXygzzTmuF+/Er3fFV1hvvIK+x9jzAX1vtmw99fi3P/k85k7036m2E0fl2M8P91jrDm\n",
       "MbN6rzBXVfUKj/Ed5q7Gb6Ur/L17hb8l7wd+c97rf03GVv82Tp/dB6YB8bvQGUWES1p+jOHs5whz\n",
       "VVVHZfufI7zbx0jrAQAAAABbMRQEAAAAgM0YCgIAAADAZgwFAQAAAGAzhoIAAAAAsBlDQQAAAADY\n",
       "jKEgAAAAAGzGUBAAAAAANmMoCAAAAACbedd9xuExsxniPMJZY1ivqmosrpke4xiNuWmYnel5j5m3\n",
       "HncYDI9xjLRxlvuGF8c6vVcL783M72GaHWnvO3wmZpirqpFm72ttrqrGldYM17QwNxprZIXHGNds\n",
       "XJ+09/Jc5xjPtHf4jDdazzNbL+YV5s5wLT1fUe7bO6x5ZTXTY7wbx3iHvdOaab1O9vpRrpM9w3t9\n",
       "Nnqfd1ozy33C3p+wb1V+jGnNTu/PzN7ttObfO6uX5r69s1zee23fJ2r+vfN90ifcJ51hzbheY5+U\n",
       "Zs9Kc/mH7gp/C1xhzSs8xjv9DVJVd1hzhnvdNPc/6ZXS3yGd3ysj/H+dI8y94lz+rXmFv2OvmdV8\n",
       "N/5H6Q7v4b14HtBYAhpPWbjfzFsv7vxMxTQZjyIa39j0vTnCGcwR7hfSelVVR3jHj5G9X0f4m8p/\n",
       "CgIAAADAZgwFAQAAAGAzhoIAAAAAsBlDQQAAAADYjKEgAAAAAGzGUBAAAAAANmMoCAAAAACbMRQE\n",
       "AAAAgM0YCgIAAADAZgwFAQAAAGAz77qvPD1mFqssl9arqpqLa46Z5eaRH2PcOz3vccet5wjnu2HN\n",
       "EdcbWa7jgZrpXVzeOXzOWtk4F97rMFdVVXeYndm6MjrrT5iNa6a5a/0x1hVex0bv+LzT3qvrVVXd\n",
       "4bp7hc9449bUFb7dV7j2hbmZ1quqeb7CmlnuDnNpvW82O5+099W4Ptfi807rXXd+fc7FNc87vz5n\n",
       "XHNt784xfsLsZ2bva1rvmw1rxr3TXBR7pGaa+9s6xrRmto5/wlxV1Sfc/3zCfU2aOxv7pE/4YTpH\n",
       "lrsaH7rVNe80F/b91syuZfq7b4b1npG9r6PxPzhHmD1mmBvZev+q/DuXZt/hvbln3jvNhst4+lOp\n",
       "ZuO36QzvYb7y5b0f+FW+vO8Rhkf4PTwa3dM38QjnIHm9/G4f4ZOR1nyFa4D/FAQAAACAzRgKAgAA\n",
       "AMBmDAUBAAAAYDOGggAAAACwGUNBAAAAANiMoSAAAAAAbMZQEAAAAAA2YygIAAAAAJsxFAQAAACA\n",
       "zbzHdeXpY0axObNcWq+qalTYe4Q1w1zat1MzP8aRt15cc447rPfAXLlx3nHJ5RVD6bvQyMbP5B3e\n",
       "wxnmGjXHDNeVxvoz7rU147Uv7VuNY1ydq6q6wvsYX8ewXpqrqnmFz254iPPK3+w0O69sTctzryj3\n",
       "y953WO+bXVszrdfJXmHva3G9qqrrzrJn2Pu88+tzhr0/MzzGMPcJ+1blx5ifS74GxDXvrOYZ9k7r\n",
       "fbOLc+GSm9arqvp7Z0U/Ye5vY5/0Cfcgnwpz4V7lTD9KVfUZac0zy40sV1V1hTWvsOYdnnea+2az\n",
       "ezPjXGOfvdgIf12kuW82W6eOkX0bjspyr3pHuU72jnP5AnSH60U6i5jh9Wn9H1V8OlnN3m/Ytb94\n",
       "02qdrkf4Oz/9vXt03q8weoTf7fRcjsY+6RXOdF7hM36kuSgFAAAAAPxrGAoCAAAAwGYMBQEAAABg\n",
       "M4aCAAAAALAZQ0EAAAAA2IyhIAAAAABsxlAQAAAAADZjKAgAAAAAmzEUBAAAAIDNvOu+lxcdI8vN\n",
       "TtEwPNIxZ3yMjaMcWXaEuRmfTN47vTkj7Z32/Yaj1AzvTU9aNLyHadvZuT5hNq0ZvttjNtaAdL2Y\n",
       "V9b7znLf3mnN8BjT69NZI68we4Xnktariq9PfoxprvGMp9n0tK/GYnFna9q80txrab2qqnlnNe/4\n",
       "GLPcHZ5Lp3daM61XVXWF2SvsfYXPRJr7Zn/X+1xcM62X5qqqPuEH/rzX5p7o/UmPsbFEfsK1b3mu\n",
       "sVdJs3Gu8Y39hB+HT7gH+dSZ5UaW62TPsPc1PnHvtOad9o7r5Xu5Gd7DPNd4weLnPP2tFObyXw01\n",
       "wv/XOSr71hz1jnLpva6qeo8/Ue4O38M7rFdVdYf3O30u0kei9XMuFS596TPxzWaOMJl2Phrb8SM8\n",
       "7/gYH+j9Ct/tV7j/eTXmJatrpjn/KQgAAAAAmzEUBAAAAIDNGAoCAAAAwGYMBQEAAABgM4aCAAAA\n",
       "ALAZQ0EAAAAA2IyhIAAAAABsxlAQAAAAADZjKAgAAAAAmzEUBAAAAIDNvOu+GvGZxUaWG2m9qppH\n",
       "mL3DXFhv3PncdI4wmF6f9JyrKp3vzgoPcqb3Oj3pPDviC/lLnXuTlgxrzjuKjbTendX79s7Wi5HW\n",
       "DM+lVTNd01bnGtnl51KV38fFuZmuuVVV6WNxZWvAvPO1Yl7hWh7mZvhtSHNV+TGmuXvxuXRq3mHN\n",
       "+37lveOaWe6Kc/kxpjXPxblf9j4b3+wzfGfTmr3eWe4TLmlxvcYn9vxR79Yxhmv+J/y+f9IPQ1V9\n",
       "wj3I3zqzeiPNfaJcVdVZWfYMa6b1qqquMHuH1+cKczO8L9/e4d4i3jA0fkuGe/eR/lYKc3m9qlHZ\n",
       "9+YIf/cd4x3Wy3JVVXdl9/s9/kS5+F5Xfg/z37Fx41j4Mz9uHv+eq6oRXsr4CU9/uze+IUfYPB2D\n",
       "HI3fAq8w+gpr5vXyvdwrfIDSmmk9/ykIAAAAAJsxFAQAAACAzRgKAgAAAMBmDAUBAAAAYDOGggAA\n",
       "AACwGUNBAAAAANiMoSAAAAAAbMZQEAAAAAA2YygIAAAAAJt5j/uOwzMNpqPGvHWNMDfT4OrGVTWO\n",
       "7ArN9AI1rk+NrPcYYe+RnfjsXKD05sQlV9/sqvgpj1+GOFhjpr3TXPgApbmqiteL+1qba9XMjjE/\n",
       "l8aLuLrmT3uHz1maq6pKb/cdvttX4+9ad5adaS7sneZaNRefy904xntxzavR+wp7p7n0XNJ6new1\n",
       "1+aqqs4we4bf4jR3NTZe6fnEx5iuFQ/UPMOl72ws42n2E/fOgmnu2zvLfsK9xWfm+4BPnVlupLlP\n",
       "mPsb5aqqzsqyZ2W9rzDXyV4zuz53eL1n4x7e4UZgpnvdxj67l03KZWvFaPwPTvo77ahXmMuud5qr\n",
       "qpojvIfhD9nZuC/552bx77nOPCCsOcKiozMvOcLnJ7yQR9j7aFyfV1ozrfdA71c4B1ld71szO/NX\n",
       "+KC90nsdpQAAAACAfw1DQQAAAADYjKEgAAAAAGzGUBAAAAAANmMoCAAAAACbMRQEAAAAgM0YCgIA\n",
       "AADAZgwFAQAAAGAzhoIAAAAAsJl3zTsOjzA644Jx69gIx5zxaXfGpnd2QiM978b1mWnREd6d8EKO\n",
       "+GQqP5/5wIPxKzN+Gyp+c9Kad/aQj8YakNaMe6f1qvKXdnWucYzx+cS5xvOzumacy2JVVTNcI9O1\n",
       "NK5XVfNKa2ZrX9o7rdfqfWW5Oz6X9ceY9k5zT9S8Fueqqq65unf+jK8+nyv8Fp+N63PGNcNcY7+Q\n",
       "10zrhbnGMp73zoJnuF84G/uANPsJc2ddce/POMPcJ8z9zXKV5aqqzjB7hblzZudSVXVXlr1mdh1n\n",
       "mLsb93CGz8UMNxeztc9eK/8NlK9TR/gNuccrqxfem2N07mGWneFvzplPDvJsfMnDYONbM8KaI6zZ\n",
       "+al9hDVf4XtzhJf7aOxVXmH0lX4PG0vAK74+ab0smPatqnqH2XSPlu75/KcgAAAAAGzGUBAAAAAA\n",
       "NmMoCAAAAACbMRQEAAAAgM0YCgIAAADAZgwFAQAAAGAzhoIAAAAAsBlDQQAAAADYjKEgAAAAAGzm\n",
       "Xfedp8MR4ghLzs5Icoa5sPcIe8/G5akxstwDo9hRWe8Z5jqdY+k9TK/jP8FMT7qRDXMjfXg7D3mY\n",
       "faR3uFaNdE1Lcw9cnzjXWZ/v8PkJc/Fpd9bI+PKEa8DdWEzT7OLes3GM6Xnfae8ry93pOTd6x7nG\n",
       "RmB1zbxefn2u9B6GNa/G9bnimr/JfbNpLu0dt270znLn4lxV1RmukXnvLJjmqqo+4cfhrCurN7Lc\n",
       "N3uGvT9h7u/S3Df7f6LcNbNjvGbe+6rs+k+AU2UAACAASURBVNxh73tm92aGuaqqGW4EZviczfjH\n",
       "xTedydafEa99jW9s+AP1qFeUi69j+uO9kU3vzRyde5hJfxenPznTelVVR5g9wucnzXV6v9Le4WPx\n",
       "avx0P8N9Ulrz1fgdcoU1r7DmFT5Aab2qqjOs+V68R/OfggAAAACwGUNBAAAAANiMoSAAAAAAbMZQ\n",
       "EAAAAAA2YygIAAAAAJsxFAQAAACAzRgKAgAAAMBmDAUBAAAAYDOGggAAAACwGUNBAAAAANjMu+bM\n",
       "0/ed5cJR42i0nmHreMwZ1huNselMmy++jl8jTGVFZ3qBZtb32zzMps9kWu8J8XvTeciz7Eh7py9N\n",
       "+jx2aqbHeK+/Pj89xjSbXvN44ev0Xp3LYlWVrxf34lxVzTA773CNjOt1jjHtHebC653Wq6q6l/fO\n",
       "r0/a+wprXjOt17g+ac04l1+fNLs+F8UeqXk21p+05hXWXF2vquoMv0tXmEvrnY2F/Aqz57jC3mfc\n",
       "O82e4xPWy3JX/Y1yVVXXDGvOrGaa+2az63Mvzs3K7nVV1Qz3NfHvkNY+O8zFy+7a316dbHwdx+rr\n",
       "3cuuNsLffiO+N+vv4REOD46w5hHuF6qqXmHNM3x+8nr5XuW1+lvcGAfE3+3Fe5X0m92qme51w3fG\n",
       "fwoCAAAAwGYMBQEAAABgM4aCAAAAALAZQ0EAAAAA2IyhIAAAAABsxlAQAAAAADZjKAgAAAAAmzEU\n",
       "BAAAAIDNGAoCAAAAwGbedd95+ghniHNmuTvMVdU4suxMe1eYm/n1GXHn9Do27k08381qjvhs0lzV\n",
       "XF4zf35iy0s2nvH02f1VrqpG+s6m60rn/UprLj7G0XkP0+wDa+T65yKM3fkaUGk2zM3ZWH9muEam\n",
       "ve+19b411553eoyde5hm77B3mququtPzDu91Wi/NVVVdi2t2eqfZ9BhX556o2bs3/9m5Xs0smObO\n",
       "xnfurCvrHebOcca9r/HJalaWu9LczHLf7N+lNTu975ldy9W5Gd7rqqoZP2urf/flNeOt+8jWn9H4\n",
       "H5wRfr/GyK7jDH/3zcbvlU52tfT36Vh8b47xinJVVefMskfY+9V4fs7w+XmF1zFdnV+N3ytX+NnO\n",
       "9wtx6x/uAx7Yy4X3MO3tPwUBAAAAYDOGggAAAACwGUNBAAAAANiMoSAAAAAAbMZQEAAAAAA2YygI\n",
       "AAAAAJsxFAQAAACAzRgKAgAAAMBmDAUBAAAAYDPvmjNPp9m45gO97zvLpePQ2ZmbZsc4wtwMT6Wq\n",
       "qo7GtfyRESfTc/lhxc57s7pm+mAsf19/3fufcH3SdeqB3mHNeF1Jc498QsI38c7XgDQ705rhMc7G\n",
       "NyQ97/QY09z9xDGGuTu915Vfy7TmE8eYZq/FuU42PcbVuaqqK1wD4lzc+YHecS5fJNNsnAsX8qux\n",
       "kF8jq3mO7O5cdca9zzB71ecnuW82PMaZ1bxnfn3SmjOsec/sHs4w999Vs5rpJuSJ/XgsXfs6v1de\n",
       "YcXs+qS/OVubudAIz3s0/kfpGll2zPA6jix3NtaAI6x5hfc6zVVVXeEm/wqv+R0+F1fjGf/Vt/iJ\n",
       "munPuc5I51d7Of8pCAAAAACbMRQEAAAAgM0YCgIAAADAZgwFAQAAAGAzhoIAAAAAsBlDQQAAAADY\n",
       "jKEgAAAAAGzGUBAAAAAANmMoCAAAAACbedeceTrNxjU7ve8oNkY255zLz6UqP5+151LVOJ9NjdUF\n",
       "H3nGFz+TYW78cA34Ze/169m/rXfaN8xVVd3hmziz3AxznZpx7/Bc0lxV43wWX5/OdZwz/cau732H\n",
       "2V/lqtaf9yPXJ663NvfNrr43nd7/2blvNgtfi3N3/FRUXWH2qivLjSxXVXXXuTR3zbBemOtkV+eq\n",
       "qubimnNm92aG9/obzp6fGT+TP/z9E6/Pjf/BGekebe3/9eQrQFX6q2rEufxcRnje93hluUpz7yhX\n",
       "VXWl609YM11Lv9nsfK7wPbzCe5N+u77Z3+xVOtk0dz2yVwm/2+m5hH39pyAAAAAAbMZQEAAAAAA2\n",
       "YygIAAAAAJsxFAQAAACAzRgKAgAAAMBmDAUBAAAAYDOGggAAAACwGUNBAAAAANiMoSAAAAAAbMZQ\n",
       "EAAAAAA28x5zxuGZZtPcyHvXHGt71+Jz6dQcq8+l0Xu18FSqKj/EtOaPTrnV/IlbuPo9fOYgw9jv\n",
       "nvF47esc4/L1J2+9+tbkucYiEK/ji3NVNcNsmnvkGO+1x7j8nBvZ+4e9l+caH7r0vO/w/UrrVeWv\n",
       "bH6MYS7s+60Z5hbX+2Xvu7GQx73DmmnuatzFq66w99rcEzXvOrPczHKd7EyPsdU7qznTXHiMab2v\n",
       "8FmbWW7+8MfACL8NvWN8Yu++VvpNvMP/PRojf8bHzGre9VqbaxzjXe8wl70318jX5zt8v+7w90r8\n",
       "rWn8Vop7P7BPWr0PSE+7tVdJ36/Fezn/KQgAAAAAmzEUBAAAAIDNGAoCAAAAwGYMBQEAAABgM4aC\n",
       "AAAAALAZQ0EAAAAA2IyhIAAAAABsxlAQAAAAADZjKAgAAAAAm3lXzTw9w+zqXFXVSGuOrFwWax1i\n",
       "foxp0fAgq2qEvTuns7xgejrhPYyv9xPi1p1jXHs+I63XecjTaFzzh+vPT69Pmvvd87P8XDqt4975\n",
       "GpmfT1Zzxrmwb1Wli2TeO/3QZbFvzTS4+BgbvdOa9xPHmN7DOJfLzyerl/ZO+3Zqpsd4Ny7Qnebi\n",
       "3lmwdYxpzfBK3uFZ3yO9Onk2ztWV9w6z98xyM8yl17FVMz3GTu/w+sS58BgrzVXnfH64CYk7xz9s\n",
       "4pojXAPyZTfdBzzwnI3sf4/umf+P0pGuAWPtu/3IOpWukY17k38bVudyy7/Fnd6Lf/rF5xLmnuid\n",
       "1vOfggAAAACwGUNBAAAAANiMoSAAAAAAbMZQEAAAAAA2YygIAAAAAJsxFAQAAACAzRgKAgAAAMBm\n",
       "DAUBAAAAYDOGggAAAACwmXfNRno8dhz/bzM80BHmVterqprhBYqv4wO9V3ukbXoPf/pALo3963r/\n",
       "qFyr6E97P9A8LfnIeae9w3c2znWa/2q9aPR95LyDco21NM3Gubhz1Qyv5epHvHWMi5eA1r2Jc1nN\n",
       "+4GlND3vO633QO/VS2nvGf9VLj/KNHuHd3HGd7vqrmtpzTg3s769mmtz33CYjWuuv4fL3+4n9lOp\n",
       "ka7P69fxEX8b0t+mnWc8+5+i+BnvrAEjyx5p7/C8O8eYZp9YI/O1L3vSZvh+zca8JK6Z7vk645LV\n",
       "uQeWqeW9w+voPwUBAAAAYDOGggAAAACwGUNBAAAAANiMoSAAAAAAbMZQEAAAAAA2YygIAAAAAJsx\n",
       "FAQAAACAzRgKAgAAAMBmDAUBAAAAYDOGggAAAACwmXcvPtfmZlqvqsbIs//x0vPunPMTNRf7Bxxi\n",
       "fpAP1Evfh7jk4vf11351Op16/5BLudQ/5Zzjz1K4AD3wPObR7Bjjc/mpxjHG1zy8Pg9cx/yxSI+x\n",
       "YfUn5IFjXP35eqL36k/xbOx1Z1g1rRnXa1zJWfdPct9sej5h78XXsVOz4vN+4vqs/p32wJv4QO/l\n",
       "P0Me+V2z9vlJvzW9/xNa/W6vf37y9eeJNfI3x9jrnebCvp29brrN/hftAzrW79Gyiv5TEAAAAAA2\n",
       "YygIAAAAAJsxFAQAAACAzRgKAgAAAMBmDAUBAAAAYDOGggAAAACwGUNBAAAAANiMoSAAAAAAbMZQ\n",
       "EAAAAAA28/71AcB/lhHm5qNHAb8243eBZcJlZf3qs/5ex8f4wFL6y96rr2XnEFe/s09cxzT6T3h+\n",
       "lp9LVc3Fa8AMk73nbK30GDvd8/N+5C4u7f3E9Vl9jI8sAg88u2s7V40nPtpj7b3Jj/GB52zxuVRV\n",
       "zfQ4w97pebeOMe39wBqw/vv1u2/IL39pr//OrQ+vPkb/KQgAAAAAmzEUBAAAAIDNGAoCAAAAwGYM\n",
       "BQEAAABgM4aCAAAAALAZQ0EAAAAA2IyhIAAAAABsxlAQAAAAADZjKAgAAAAAm3n34mNtbqT1/m2e\n",
       "OO9/wLWMD/EfcC6xxrnE0RnGFr+vv/ar0+nU+4dcysQIn7P5bzpp4F8r/HL+sOAvdU4mzf4TLtAT\n",
       "x7i45hO35ncFH6r5G+mZbLtLii/Q756J+a9az6r+XevzAzY97YT/FAQAAACAzRgKAgAAAMBmDAUB\n",
       "AAAAYDOGggAAAACwGUNBAAAAANiMoSAAAAAAbMZQEAAAAAA2YygIAAAAAJsxFAQAAACAzbxr/PoQ\n",
       "QiM90DC3ul4zmtV7oHece+D6rNZqnYZnGEufs7Beo3X+jKfnkvZt9P5RuVbRX659nXf7P92/6FSq\n",
       "Kn9vnlgiFz+6I365W4tA2Ht18J/Re/W17B3ij3r/cJv0RO/fPj+/8sBC9Y+4QE8c49qane1CvALE\n",
       "n7mseW/lWX3N13+/Uv+EJ/wZq/fZv3sP02f8t/v2PdfnX/5E3JH/FAQAAACAzRgKAgAAAMBmDAUB\n",
       "AAAAYDOGggAAAACwGUNBAAAAANiMoSAAAAAAbMZQEAAAAAA2YygIAAAAAJsxFAQAAACAzRgKAgAA\n",
       "AMBm3lUjT48wuzr3DS+tORe3bYVb552Z8YEu7t26hT86xpb0Hobl4getUTNtPbOCo/M8Ln+3/wG9\n",
       "n7g+cb1ONj2f8KF84jWMez9wjGHNJ1bn1Eizq6/PL+91Z5GMzye912EuPpcfX/LFn6+47+J6Vb87\n",
       "l478XudHuX4ZD/cBWblmzTSX/3/C+t5PvLFre+f7+7z373KVP7yLn/FW0djvfu8uf3Ybx5j/blh9\n",
       "Lut7p+fdOsbFa98zvX9Tr5V9YB8Qn/fi3o/8nFvc238KAgAAAMBmDAUBAAAAYDOGggAAAACwGUNB\n",
       "AAAAANiMoSAAAAAAbMZQEAAAAAA2YygIAAAAAJsxFAQAAACAzRgKAgAAAMBm3nOMPJ1m45o/7L38\n",
       "XDbt3TnG9H63av6LzMX1/k3v4TfcyP6/pWvfaPX95RrwH55rSE97jsZLE59PWDPMPbJExvXCY2ws\n",
       "PiOumdaLW8fHufqRbN3C+NVOn5/GvYlza3t31sj4+qT14s5Vx+rlOezbesZn+F1Kv19pvcb/CKT3\n",
       "e3Xum82OM86NMDcb1yesWXHNzr1ZW3OOOyvXuD6xuPf61g98jB/ovfhdaP2f0Np1JX5nWjUXH+MD\n",
       "7+Eza+Ti9fmRkUV6jA/0Xp1bvVS0eq/d4/tPQQAAAADYjKEgAAAAAGzGUBAAAAAANmMoCAAAAACb\n",
       "MRQEAAAAgM0YCgIAAADAZgwFAQAAAGAzhoIAAAAAsBlDQQAAAADYzLvGyNNpdnWukZ1x73Ae+sPr\n",
       "M9NjfKD3I9en0vNulFzcu2r+pOszwuvduOBj+TP+RO/02b3Txlmuk31kjfxVrvHOHGE2rdnoPRbX\n",
       "XF3viZr5Y7b+GONcY81d3ftYfa8rP5/09er85Ta/Pmt7d5aptOYTvVdf82PxdWz1Ds9mde6bzY7y\n",
       "qNfSXFXVCHuPsGZa72jsx+8ZHmNYMz3Gryw70+s4w3vTeA/n2m12bw+yfFe+ekPVud/pXnf1qtt4\n",
       "dh94xtOa+fqz/hjzNXJt7pv9zbeh9w1Zm2tNItLvdrp/Xty3k129T/KfggAAAACwGUNBAAAAANiM\n",
       "oSAAAAAAbMZQEAAAAAA2YygIAAAAAJsxFAQAAACAzRgKAgAAAMBmDAUBAAAAYDOGggAAAACwGUNB\n",
       "AAAAANjMu8bI02l2de6XvUdjbhpm5yPXJzzOxb3jc/kWXdr7GWnvGabycxlhzao7zIXPROdPA3d4\n",
       "jPHzmJ5zVR3hec/wmt9h7mg8j2n2H7FGpvc6i/VqZrnReH7m6poPHGOa/VXu172PX12feG3Oj3H1\n",
       "uVTlS/kRnk/aO61XVXWE60+6THU+X+nyHOfCxa/3CQlrht+5+BhnfiWP8KrHufFq9H6HNc+wXtb7\n",
       "DnPf3ll2hjXnTPd836qJdE2Lv5uNrVy+zV67H/8m02y4Tj3yuyZ7b0b4nI3wOUvrtWo+0Dt9Z+Pr\n",
       "E+bSvp3sMdPcD9fn+DuXP+P5t/iBb2yYS0uu3ldUdfZoa+v5T0EAAAAA2IyhIAAAAABsxlAQAAAA\n",
       "ADZjKAgAAAAAmzEUBAAAAIDNGAoCAAAAwGYMBQEAAABgM4aCAAAAALAZQ0EAAAAA2My7jsZccITZ\n",
       "NNfoPX/Ve4wsV1XzCLOrz6UqP86w5ozr5denlc0KLq7XMRfnqmZ6OjO7h+O+w4KNZzx8fsYIzzt9\n",
       "Z6pqpuc9wvMO14B55+/hSJ/xeK1Y/36lJdPncRz5M17xc5HlZqd3mg1z8Xk/cIzjyJ7x9F3o3MP0\n",
       "3U5zR/pMPFBzda7qt9cnP5+03tpcVdURfhPz3nnzX5137/pk4bh3WO8Vfl+rql7h/xMc9Vqa+/bO\n",
       "slfc+x3mrihXVTXDdXdWmGusAXf4fo10b5rGRn59Rri5SK9jZ5+9/ldDuO/qdE732eEzPkb4LoS5\n",
       "bzZ8b+Jc3nukNcN3+7U49+29du1L19yqqiNcy+NvTZzLLf/Odb6xy7/v4Z6msU4t7x3vFwAAAACA\n",
       "rRgKAgAAAMBmDAUBAAAAYDOGggAAAACwGUNBAAAAANiMoSAAAAAAbMZQEAAAAAA2YygIAAAAAJsx\n",
       "FAQAAACAzbxrjDx9hNkwN5/ondYMc/NozE1HmE1zjd7xtYxzae/GPezc71/Uq6qqGcbS6xjWq6qa\n",
       "aTbLzfRxvMO2VfHtnuF5j871SbPxexieeGudWr0G/G59riO93lnsWzPMPfD8jPB+pzVX577ZxccY\n",
       "3sPOMR5hzTQ3jnwBOsLj/FXu39b7FX5reseYLRivcF1Jc1X58rN6Ke0cY3ze4R7kFZ71q/L38FWv\n",
       "LDfDXFivquoa77Dmnyg3x5XlKst9s9m1jHOdfVK6h42rhb+VGhuB9LwrznX22WEuPp0sOFq/lbJ3\n",
       "doTvzTGy3AjfrW/NLJvnsve1quqVrgFp71qbq6p6zXSdWr9Gxmt+/C1em/tms9xPv7HpMS7uW/W7\n",
       "PZr/FAQAAACAzRgKAgAAAMBmDAUBAAAAYDOGggAAAACwGUNBAAAAANiMoSAAAAAAbMZQEAAAAAA2\n",
       "YygIAAAAAJsxFAQAAACAzbzraMwFR5adYe6J3mnNmfZO+zZ6L7+OVVVjLO2d1wtzVTUrrZlWzHsv\n",
       "N2YYy3KdmpXWvMNynccsTqbn3bg+4XnP8IRGeuKddepOa4ZXstM7zR7hgxEfY+MeptnVuaoaYTbP\n",
       "ZdcxzfV6h7nxwDGmNcPcka57VXWEx3ks7t05xleYXZ17omZ63q/Gpzg/xqxoukxVVb3CJfIVXvL0\n",
       "vI/GPimtmV6f1wxzjf8ReIXfzvd4Rbm73nHvu66luVl/snrhmlJV9Qr3NTPd/zTWgFz2XNzxrq+z\n",
       "Hw+/IekmtrGPjJPxz5X0vPP3a4S/00ZY8xjZ+5XmOtlXmmusAUf4zr4W596NY0zP5z2zNTJdc6uq\n",
       "3uEzma758bem8Z1Lv4n5NzZuHWfzb3Hat7OXS2um9cI9X1YOAAAAAPi3MBQEAAAAgM0YCgIAAADA\n",
       "ZgwFAQAAAGAzhoIAAAAAsBlDQQAAAADYjKEgAAAAAGzGUBAAAAAANmMoCAAAAACbMRQEAAAAgM28\n",
       "a+RzwXmE2dW5qkqPcx6vpfXqGFmuUTO+jo17UyM8zvQY03rVuT7pMTZq/sqcWaxzKmHNUXdWL318\n",
       "wnJVVTN9dCu8PuE5V1WNI8ymB3mvX6fSd3s8sQaka1WYS1unl/tbM7yHYW4ejYc3zca58H1tHGOa\n",
       "TXNHeIxprlczPcb8+hzjN71fnWO8w94jzeUvWHx9wtwrXFJeYb1vNiua1kyPsdc7rBfemnd+eeqK\n",
       "r3kWfIe5q/E/Au+Z7bPvmT3jV73j3q9ww/IO368Z1ktz/5OOUul70/n3jXDTORbn7sZGIL+W6b1p\n",
       "7CMX/7wY8W+g/PqMcM0/RvYejspyx2i8h+PP4tx/xb3fac3Kcu8w95pZrqrqPbNr+QrvzTvMVVW9\n",
       "wucn/Tas/m5WVb3D1yHfg+S9V+9rntmrrO0d7w2jFAAAAADwr2EoCAAAAACbMRQEAAAAgM0YCgIA\n",
       "AADAZgwFAQAAAGAzhoIAAAAAsBlDQQAAAADYjKEgAAAAAGzGUBAAAAAANvOexytPH+EMMc2NfCY5\n",
       "f9Q77tuoGeeOEbeece+05up6zWxWcH10zsWtw3qN3nOGzcPc6FzHO8zFj1l+fWZ4fUb4zqZr35jp\n",
       "Sdf6NbKz/izvHZ534x7Gf4YKa45O71dY85Wdd57Lj3GE13z5MV75M54e47E416o5smt+jLX1qqpe\n",
       "4TP5usNceIzfbPaCvcLzic8l/W52eoffkHdjX3GF0V/lqqre4b7vCi/5HV6fq7EPuMOF/J7ZN/Zu\n",
       "7JNm+D2e4WZlhs/j7BxjvN/MYqPzjIf3cYT3MM9dUa6qaoZrWnqvW/vsOJte8/B6N+5hfM1H9n4d\n",
       "4700V1X1qiz7Gv8V5v40emc135XVfM8wF55zJ/sO18h343+40uwrfCbTb2xa75vNcu/Fuaqqd3gp\n",
       "02N8xfWe2CetzflPQQAAAADYjKEgAAAAAGzGUBAAAAAANmMoCAAAAACbMRQEAAAAgM0YCgIAAADA\n",
       "ZgwFAQAAAGAzhoIAAAAAsBlDQQAAAADYzLuOxlwwzYa5OR7oHdaci+tV1fpj7PROs2Mszc20Xqd3\n",
       "NWqutrr1nHnrEWbnneXu8B52HrMwl571qFfePL6UYfBIr3fjGI/s3swjqzle4b2uqrrXrs9pbrzy\n",
       "Z3xeYTat2bk+V5Yd4T1cnavK7/cRnssd9j4ax3jEx5jdw1bvMPv6Ua6q6nUv7p2+11X1HlnNK/wW\n",
       "r85VVZ3huvuaWc1Xuo5XY1k5st7vsN7V+MamS+Q7rHmHX+2r8Zzd4THe4ff9buyT7vEnys1wHxC3\n",
       "TvdnDflrk79fI73f4f+EjPC3xTGvKFdVdYd72BmuZ43N4QOy653el6qqMbL35gjv4THeS3NVVa/K\n",
       "3sNX+L6+6r/i3u8wm+eyY/wz8+vzJ/zd8CdcI9+NecA7XFjyXNi38Z1La77Cmq/Gb/dXuJanuffi\n",
       "XKd3uo9M94b+UxAAAAAANmMoCAAAAACbMRQEAAAAgM0YCgIAAADAZgwFAQAAAGAzhoIAAAAAsBlD\n",
       "QQAAAADYjKEgAAAAAGzGUBAAAAAANmMoCAAAAACbedfxisPzCGeIaW40ZpJhzfgY096NY/xl7xoj\n",
       "is24d1Yvzn3DD9T8DzdnIxpmw+sz6g4bZ7FvNO29vHWN8PrMyta0cYT1Zngdq2qk6+kR1kzXlKqK\n",
       "1/LVvdN6VVWv7JqPK3wywnv47Z0d5wxzY3GuVTO85kdY724c43Glva+wXv6MH+l5L869Gs94mn3d\n",
       "We7d6H3N7Fq+wrU0zo38PXyH2SvOxa3rOrJwuvzc4aOb1quqSl+He2bncofXJ81VVc10vxn+38Gc\n",
       "jd8h8Z7qT1bvkc1Kuk9Kc/kaeYV7/BHuk+44l633VVXHCL/F4d5rtm5Oml18Dxu/a9L7PUZ2b456\n",
       "R7nXyHJVVa/w/Upz7zD3zf5XlPsz01zW+8/Mr887fG/e4fua5qqq3uHe/R1+D+Nc4xvyDk8nrZnW\n",
       "e6Jmuv95N36vpPukNPcKe/tPQQAAAADYjKEgAAAAAGzGUBAAAAAANmMoCAAAAACbMRQEAAAAgM0Y\n",
       "CgIAAADAZgwFAQAAAGAzhoIAAAAAsBlDQQAAAADYzHu+GnPBEWaP19p6VTWPtHeYC3vPxjH+tPcY\n",
       "S3vn9cJcVc1aX/M/3pxxdKTZmV2feYTXMaxXVTXCe5iededOz7DqCHPp2jdmuJ5V1XzdWc07qzmP\n",
       "rF5V1Qh71x2uAatzVTWu9N6ET1Caq6q6wnuTXvMwF9erqiPMxs9ZeM5p36qq+3VlNa/suTjS57aq\n",
       "XneWve/sGF/hs3sfWb2qqle4D3iF1/w111+fd/iNvcJvyNX4hqTZ68je7VbvkdWMl774XLJ635ph\n",
       "Lj3G8Cub9v32Dt+b8NFttM63VJ2igc62NHzMaoRFR+P/N0Zle4sxPlHurneYy9fIGWbnCL+Hq292\n",
       "Q7on7t3D8Ns5snt9hM/EEd7rqqpX/Yly7zQ3s1yn5p+w5p+ZnfefxvX5E96bP+Fv8j+NBSjNprl3\n",
       "2Prd+M6lNf+ENd/poltV73BvkdZM671axxju5f5/du1gSVId2BKtC4j8///tBL1BnDvsa9vtKTqq\n",
       "SmuNt7kLEEKhzDQXrqX+UxAAAAAANuNQEAAAAAA241AQAAAAADbjUBAAAAAANuNQEAAAAAA241AQ\n",
       "AAAAADbjUBAAAAAANuNQEAAAAAA241AQAAAAADZz1XHm6SM7Q5wjrBnWq6qqEfZOa4b1OmOcac3V\n",
       "uUZ2jhHWS3MfOFdOe1ea65iLy+X1ZpzNrns84bOZd9i3aqa943q5EabT+zjS+302RjmftTXTelVV\n",
       "T5g90jGGubuxBqQ1n/AZdp5Nmg3HOMPcOPP3a5zZvRxh7yPsPcO+VVVH+LzT+3Pc+f05wu9xmjvD\n",
       "d+FJ35lGzSvt3VgD7rhmtkLfM7uP98jfw3SMd1iys/w84d/Bw+Un7p3e76qq9LOdzor0MzePfIzp\n",
       "lIz3m43/T5jprmFeacFQfn9GvE8K17PGPvu3st9fZ5i7K1ufn/Eb5aqqZjh789zifXtL+qzz+XOE\n",
       "z2Z9LnxnquoKs+d8La1XVfUK3+04F/Z+pWcbVfUK3+1X+G5fjfX5CpeLNPdanOv0vsLL7vR+hfuV\n",
       "6whzYb1XYx+Z1oxzYW//KQgAAAAAm3EoCAAAAACbcSgIAAAAAJtxKAgAAAAAm3EoCAAAAACbcSgI\n",
       "AAAAAJtxKAgAAAAAm3EoCAAAAACbcSgIAAAAAJu56jjj8EyzIzxrPPIzybm6ZlgvvuZGzRoj653W\n",
       "+0Dv5fWqalbaO6/5PXNprKpqzCdMhnO3wnozv9+j7qUlO096hjdzpPd8ZsEZ5qqqxpHd83mE1xLW\n",
       "q6qaZ5YdT1gzzYV93zWzuTvu8Nmcw4crkQAAIABJREFUjRcszYa5cWbvQp35Oj7Ce3mEvWfYO+1b\n",
       "VXVcYe/wWZ+N+/OEc/J8sjE+4RjTXFXVeWS9zyNb/c6Z977C3k+4QN/hN+lufEPS3k+4Rj6N9fkJ\n",
       "Pw5P+GyedBvQ2Mqlb+Liz1xnq5Lv5dL/O0i/NVVVle3JRzjGdL8wGnP8CPewI5wYd+P/N47w/tzj\n",
       "inJnuOd7wlwnm+754r3uB8TzrPEM02z6rNPcOfPfu2dl8+eaYS6sV1X1Csd5hdf9GmGu8Qxf4VnE\n",
       "K1wr0lyrZng5V5h7NX7Qpb1f4T7gin/4VV1hzVdY8xX+TuuNMay5OOc/BQEAAABgMw4FAQAAAGAz\n",
       "DgUBAAAAYDMOBQEAAABgMw4FAQAAAGAzDgUBAAAAYDMOBQEAAABgMw4FAQAAAGAzDgUBAAAAYDMO\n",
       "BQEAAABgM9c8rzw9sjPEeYRnjWG9qqo6zqx3WvMDY4x7rx5jo+asEdZLcx84V057p9fyETOMhbmq\n",
       "mukZ/Xyi2EifzXNnuaqa4bMZT5bL707+tDt3POrbeYbn4prhs+5k5xPOn3RePI01IM2e4XU/+bMZ\n",
       "4bOJe5/hHL/y92uE9yfPZb2PxjOcYXaG9/E48/tzpr3D3BPen6dxf86ZzYtrhmOc+f15jqz3E64V\n",
       "d9j7Ca+5k02vutU7XPPT+/OEe7TGKl5P+KWLPyHptiKLtbOZzjckvZvhGhlWG415doTZI+z+27g/\n",
       "R2W/le7wDXvS3MhneVpzhjMtzf1POrP298VoPcMse4QvdzonzjBXVXXNtTXTelVVV1jzFf4GWp17\n",
       "Z7P58wq/2T9h7l3zO7mrsYy/RvYeXkeWe4W5Xu9sTbsW12v1Xpzzn4IAAAAAsBmHggAAAACwGYeC\n",
       "AAAAALAZh4IAAAAAsBmHggAAAACwGYeCAAAAALAZh4IAAAAAsBmHggAAAACwGYeCAAAAALCZq44z\n",
       "Ds8jPEMcYc20XlXNEWbDmnG99FqqqpaPcazvneYq690aY1izWjX/cHPG0VFhdj5h6ywXP5eqGvPO\n",
       "ei/v3KmZ3scsN8/GM0yf97n6GVaNJ8yGvesJ1760byd7ZuvUePJnEz/HK8yF1xI/l6qqM3u/Rnh/\n",
       "jjA3w769muEYr3wfcDzZOI8nq3mGuSfsW1V1pTWPrOZ15KvkE2afmeXuMPc01qm0d5w7Gr3T3Azn\n",
       "ePityVepPDvD+xPXC3M9n9jLhd+G8FucTp/RuJYjzB7hPEtzVVVn+JvlDvdyd/jWPPHblWfz9+sT\n",
       "b1j2DNNZMRr/g5POtXRenJXNibMxxjPsfX2g9yv8HXuFuVf4m7PzLU5r/oQ1X41/4foJs6/wctLe\n",
       "P0f+Hr7C7GuEuU/0jnPZepbmOtkr3keGe+coBQAAAAD8MxwKAgAAAMBmHAoCAAAAwGYcCgIAAADA\n",
       "ZhwKAgAAAMBmHAoCAAAAwGYcCgIAAADAZhwKAgAAAMBmHAoCAAAAwGaueV55emRniPMIzxrDeu/s\n",
       "+Z3ejTF+s3f8bOKaI4yFuY/V/MPNmUcrzM4nio0wVyPMVdV8smczwmc90zlR8ezp3PKsb+cZnuG9\n",
       "TJ/h0Xg2Ye90Xswn+zaMJx9jpdkrvOdP42FfdxQbac0zzTXuT/oMz/Bazmy9P67Gd+5J72PYO8xV\n",
       "VZ1nuK6ENdPcE65772xW85rhtYS5qqpnhtcTrgFpbs5sTrxrLs7FnfN7OY+sefrN7nyS4s9N/Nr8\n",
       "+fup3i4y3IOEE+MI9+2dfUA4feoIr+VsrAF3+M7elf2musM37Gm8iU/83oTrT9y5k073umm1zl43\n",
       "yx7hen+Gi8XR+D+hMxzjFf7mvBq9r/A3Ytz7yOq9Gj/JX+EY05o/nd6La/6EC1rr/sQ1w1zjd+wr\n",
       "/F2V1kzrXY3fc9eR7alW9/afggAAAACwGYeCAAAAALAZh4IAAAAAsBmHggAAAACwGYeCAAAAALAZ\n",
       "h4IAAAAAsBmHggAAAACwGYeCAAAAALAZh4IAAAAAsJlrHmeeTrMjO2ucYe6rvY/GGFf37tyf5TVH\n",
       "GAtzVTXjbF7zjzdnHB0VZucTts5yab2qqhE+m/RZj878CXNpxZlWPD/xDLPc7MyfNJs+7yfNXVmu\n",
       "VTPMXfkaOZ7wnp9Z73Gl19KY48+d9X6y6x6L61VVHWe4Bpzh97DxDGd4L4+Z1TzC6z4bz/AJa86Z\n",
       "1XzCXFXVFV53WjPPRbFWzfj+NPYLac30cvJcY46ny3jcO7V+3/WJHV9cM9xbHOEyfjTm+JmuK+HT\n",
       "+W3coTuca3dlF/7Ea0p+g57wutM9WryX+4B0T5zm3tnMET7rI6x4NvbjZ9g7rXk1eqfZOHdkuVfj\n",
       "J3mafYWX3en9k/YOF7X4WhqLZJr9icfY6Z2tfetz2X68U/MKa15nlvOfggAAAACwGYeCAAAAALAZ\n",
       "h4IAAAAAsBmHggAAAACwGYeCAAAAALAZh4IAAAAAsBmHggAAAACwGYeCAAAAALAZh4IAAAAAsBmH\n",
       "ggAAAACwmavOKw7PcWbBEZ41HvmZ5Ld6z7Rep3d8LWN57/h64t6dMa6u2egdm4vL5fVm2ns+UWyE\n",
       "ubReVdUM7/mYWS6tV5U/7fSOj9XPuqpm+rzPLDca8yd9jnNma/54st7zyefPeMLvTdg7zlVVXeE4\n",
       "n3Cmpb3TvlU14t730nrH0/gWL645O72vrPeZ9g7rzXA962TT3NXqnV33s3iMnXV8VjZ305qt3vH1\n",
       "hPXivmGwqrUvXqm3mwr3AWm1D2wjR7jsHuEoj8YzzGtmRc/GBLrD7B2OMf16PY39VJpN91Prd3K5\n",
       "fI6v3+vG8yzMnY0xptnVuaqq8LNd15EFX3G9LFdV9Qqzq3NVVT/hYpXWTOv9HPleNx9jVrPTO635\n",
       "OrK9Sp7Lx3iFNa9zbc5/CgIAAADAZhwKAgAAAMBmHAoCAAAAwGYcCgIAAADAZhwKAgAAAMBmHAoC\n",
       "AAAAwGYcCgIAAADAZhwKAgAAAMBmHAoCAAAAwGaueVx5epxZ7sjOGudonEl+q3fat6oqrJn37tyf\n",
       "sbhmOsaw7zu8NNYIfsAMY2GuVfMJW2e5tF5V1Qif93zSZ7P+GaYVZ3y/G73PLDzTeXHmz6ZmtpaP\n",
       "sPd8st7jyb8h6Zwc6ZwMx9jJjiu9P1luhLmqqrrS677D3uHb8OTfmmNxzXytqJozXX+y3ufieu9s\n",
       "WHOG9yccYyf7rdw7m+bS3nHrzlL+F1j7N/3WlzjdyoX7hdFYxtNxxjvdsGC87lXVGUbTz/vdeL/u\n",
       "8IW4w5fhGVnwabyI6eOeYe/WNnux+KdX4w2L53jYPH8XOnM8y6bvwtXofYUXdKW9F9erqnqFNfNc\n",
       "PsnTmj9hzZ8je2PTer2aWe4V5jrZV7hAv45sP/46s1wnuzrnPwUBAAAAYDMOBQEAAABgMw4FAQAA\n",
       "AGAzDgUBAAAAYDMOBQEAAABgMw4FAQAAAGAzDgUBAAAAYDMOBQEAAABgMw4FAQAAAGAzV51XHJ7j\n",
       "zIIjPGs8wnpVNdOacS7rHfdt9V6ca9UcYcHV9apmhdlGzT/enHF01LO25kzr3VmuqubM5sWI/97Q\n",
       "mT9rjbBir2+WHvG8CJ9hVc3F82I84bchnWdVVTOs+YQ1r07vMPuEz/AK509Yr9c7fYbhu/3k35rx\n",
       "ZO/sCGses7EGhOtPhWOcYe8zrNepuTr3md5p3yxXla+n6X6hsz7HvdPrbvT+mnBv2Nl2jXApzXeb\n",
       "efN0pTrCkkd4LWfj/vzGNbOiv+s/IXWHuSdcK57GIpB+teP3cHzvTUynxWi8YPF7k87xsGJaryqf\n",
       "u+l7czZ+7l5hzTgX9n59YIyvI5u7nd4/cc3sTVxdr5ONc2f+O/bnyLJp7nWm15KPMb2eK879Rjn/\n",
       "KQgAAAAAm3EoCAAAAACbcSgIAAAAAJtxKAgAAAAAm3EoCAAAAACbcSgIAAAAAJtxKAgAAAAAm3Eo\n",
       "CAAAAACbcSgIAAAAAJtxKAgAAAAAm7nm8crTIztDnEd41jjO5b3TmjOu1zg3XV3zA73j664RxsJc\n",
       "p+ZHeqfm0liNNFg1495P2DrL1WzMs3lnsfgZ5q3Tx53f8bBvo+CcYfhc+6yrqsbimvP5wBjDmvMJ\n",
       "53g6xqqqNHuFuXCMdX3g/qRrwBO+NE/2XldVHXHN9IXNF4G5uPeZ9k77VtUMa67OvbNp7ntjTBf9\n",
       "vHejdTzOT+wtvmOEy89o/I/A6rvY+e+EdB+QrlNnWO/Ml/G45m+6XWj0vsM5nn4O41wWa9VMX+14\n",
       "v9kpungL+4lfSkf4MhzpO9MYZPzeLM5VVV1h9goXltX1qqpeRzbRrvAHRlqvquonzKY1f47s7X6F\n",
       "uU7NnyPbm6b1qqpeZ1Yzz/0urVdVdcU1s9wV9vafggAAAACwGYeCAAAAALAZh4IAAAAAsBmHggAA\n",
       "AACwGYeCAAAAALAZh4IAAAAAsBmHggAAAACwGYeCAAAAALAZh4IAAAAAsJlrHleePsIzxHGGufxM\n",
       "cq6uGefCvo2ac/UYO9kxwoKr61VVdbLfqNdpPcNgmquqGWbD3nM+Yd87y1XVmOk9D3NxvaoZ1hxh\n",
       "Ln8yeXLE2fQZfmD+HNm8GGdYL51nVTWfrOYIa3buT1ozvp4nvI+NMeb3J6wZjrGefA1I39l0rRgz\n",
       "/84dz9p1ZS7OVVWdq2t21sjV1532DXOtmp2i/5Bv7ZJ6O7m13+KjsdcNP191hheUrilH4wad6RjD\n",
       "OX43et/pp2F5Lh9kumP4xBqwumT8fjWeYfwrLZ3ji+tV5e9XnGv83E1rXmnuyGbFq3F/4ppx73zm\n",
       "vsJFMu39E9fLfwv8HNme8ydcTNN6VVWvMBvnzix3nb9RrlczzF1Zb/8pCAAAAACbcSgIAAAAAJtx\n",
       "KAgAAAAAm3EoCAAAAACbcSgIAAAAAJtxKAgAAAAAm3EoCAAAAACbcSgIAAAAAJtxKAgAAAAAm7nq\n",
       "vPL0OKPYHOFZY1jvnU1rru0dX0ur9+JcK5v2HmnjMJfXHJ2aXzLjYJysGmF2PmG9MDfzeTbjbJYb\n",
       "c/2zTu/4CJONJ5g/7zA3zkb3cF7MxWOM52NVjdU1n7x3PeG37gnHeC2+j9V4ZcP7M9L705nk4Ts7\n",
       "nix3hLl37zSX1Zzp+tNZp+Lea+tVNdeqpN4X709rb5G2Xl5xfed465XWW5yrqhrhII9wX3o01vEj\n",
       "7R2WPMILPxufmjscY/p5vxsT904/nWG99HOY5qryt6FTc3Xv1atP7/3KcvFuPK3XGOSZvjeLc53s\n",
       "dWRP+wp/e12Nn+SvuGb2Jr7Ca+n0/ol7h7nzjnK93lnNVu8w+zp/l/Z+XfkYryvrvTrnPwUBAAAA\n",
       "YDMOBQEAAABgMw4FAQAAAGAzDgUBAAAAYDMOBQEAAABgMw4FAQAAAGAzDgUBAAAAYDMOBQEAAABg\n",
       "Mw4FAQAAAGAz1zxeeXqEZ4jjXFuvUXPGY1ycq1p/3Z3eNbJUXDOrVyPMdWrGue+JRzhmo2qYnU8W\n",
       "C3NVaa4qvvIjy82ZP+uxeP6kT6b1CMOqeclG8/B5j7l2nsW5qppp7ye9lvW945ofuD/1pGMM51lY\n",
       "r9LnUlX13FFspO92Zw0Is2nu+MAY01t5xjUbvePg+vX5X7L8qtO9YaN3nAs/YGmuqmo82T4y3W0e\n",
       "jTuevrNH2P0MX9izsde9wyX/DG/53XgPnzB6p5/iNJfFqipfI9MZ+YEtWi79qbS+ZLrNXp6rqkpX\n",
       "tCNcV67Gz90zHOcV9w5zjTUyrfkKa76O/A1Ls+tz2d6wqurnXFvz5/yNe7/OrObrCnNh7zRXVXWF\n",
       "va8rq5nW85+CAAAAALAZh4IAAAAAsBmHggAAAACwGYeCAAAAALAZh4IAAAAAsBmHggAAAACwGYeC\n",
       "AAAAALAZh4IAAAAAsBmHggAAAACwGYeCAAAAALCZq44rT48zzGVnjTOt16iZ59ZeSy+b5Uar91ja\n",
       "O6+X5hrZuPdfYM5OOMw9UWqMLFczzFXVnOH8SXNP/qzTko2KC1O99AjnxWw8mzrDkaZzMu3dmOPp\n",
       "dae95wd6p/c8v5bGDHq+8wzja2nUrHmHubz1kWZnuArEubBvp2a6Un2id5jrrX1rfbP3ap0tTTx7\n",
       "0u1UeCePxh2Pd7oj7N3Y6x7hnuEM78+Z1mtMyDu87it8D+9O7zCb5p50reh85sJcvNx/cbGIX+3G\n",
       "GpC+DekasPp9rWq8X2HNtF6n5hVuGK60XuP+xL2P7G14NXq/0ppHtkeL653hnq+qftLeYc1O79f5\n",
       "uzR3XWtzVVWvxTXPMOc/BQEAAABgMw4FAQAAAGAzDgUBAAAAYDMOBQEAAABgMw4FAQAAAGAzDgUB\n",
       "AAAAYDMOBQEAAABgMw4FAQAAAGAzDgUBAAAAYDNXHa88PbIzxDnOpfVa2dW9G2Mc6RnrB3rH57tj\n",
       "hPWy3Ahzn+j9Vxgzjs4ZZseTFgw732GuaoS95xM+w84Un1nN9Ko/McviZxiOcsRXU/HznmdYM72W\n",
       "+Jqraq6du6PRe4a9xxPexzCX1quqqmvtPU/vTz5vG/d8hutK4/aka8AIc/HyE9b7r3tWcu1S0evd\n",
       "KfmH+8xuIXy/wubjbrxfce/0G5LtidN6VVVH+nl/sjcs3LX/1ztrfoafmjOt11gD7nD/k06Lu7E+\n",
       "3+E4089SeBvjep2ana1FanXJT/yqideVsF78vjbWgDOseYY101yn9xX3zmbkdeRjfIW9ryPr/Qpz\n",
       "vZrZHi3t/Trz35Jx77Dm6/rNe59ZNq2Z5q7GGM+05ivLnWHOfwoCAAAAwGYcCgIAAADAZhwKAgAA\n",
       "AMBmHAoCAAAAwGYcCgIAAADAZhwKAgAAAMBmHAoCAAAAwGYcCgIAAADAZhwKAgAAAMBmrnlceXqc\n",
       "YS48a0xznd7hOef4yBjT7Preo8bimmm9MNep+bV6HXNxrmqMMDvTZ/hk5TrPcGY1x5HVnLPR+wmz\n",
       "4e1Jn8xoPMOaa+fFjOtV1Zll4+sJn3Wcq8b1xLm894ivZ/X9+cD8WZxLl553yXAN+MAzrHlHsSNc\n",
       "V54wl9br6EyLuGb4TUx3U9sKX4h8VjT2AWku3aKFvY94j10Vft7rCO9jmquqOp7sA3+GNc+w3tVY\n",
       "A37Dh3OHNdPcO5tdd7r2PWm9ztuQfhrSenHnbjgQv4fLS+bvV1wvDDZ6x+9ho3da8zqyvUVcr7FO\n",
       "pb1fYS6t16uZ7adeae7Mcp1smrvO37z3lWXT3LU418meae6V5fynIAAAAABsxqEgAAAAAGzGoSAA\n",
       "AAAAbMahIAAAAABsxqEgAAAAAGzGoSAAAAAAbMahIAAAAABsxqEgAAAAAGzGoSAAAAAAbMahIAAA\n",
       "AABs5qrjladHeoYY5uJ6VWOca2uuvpZGzRH3Hst7pzVH2ns0xhhfT6fmn24uz8605niy2Mxy7953\n",
       "mFw8z6riVzG+nLReWK6qaoTh9BmOmXefaTa9QWdaLx9jfD3pGDtzN+39rH02cd9Gzfiex7ksVtWY\n",
       "4+Gz6aw/rZcxcKRTolEzvT9p79738F/6dn5R+BDjHU06KSrfUo07HWO2dz46283weo5wX3qk+/uq\n",
       "OsPe58wuKK13h/XevbPrvp+sZvioq6rqCcd5h7M3/BzWbNyfdD3t1Ewt/oQ0Vty8c/oupr2P+H0N\n",
       "CzZqxu9rY41cXfNKc0e+E0izV/g7rdP7dWa/09KaryOrl/atqrrO36U1ryurV1X1CrNpzTj3yseY\n",
       "Zs/FOf8pCAAAAACbcSgIAAAAAJtxKAgAAAAAm3EoCAAAAACbcSgIAAAAAJtxKAgAAAAAm3EoCAAA\n",
       "AACbcSgIAAAAAJtxKAgAAAAAm7lqXHl6ZGeII8yl9d7OtTVXX8s7vbR358x2jLD38jGmfT+T/PPN\n",
       "RjLLjrhmdh9n68mk2TvsvV46deeTFmw8w2PtM5wz753Pi8W9z/RGVn7T096d+xPXzMaY3p8RT7RO\n",
       "zcX3p3Ef02w6xt4cT+dPWHBm61nnixQuAQ3/0vdwvc7dGeFaHucW931n19ZMc8edj/EIP7LnyPbt\n",
       "Z+P+nGnvJx1j1vt+8pl2hmvaHT7sJ1ynqqruMJvWfMJH8zTexPizFO9h/3ytdSr9LRAWPdI1ICvX\n",
       "qpm+X701IKx5ZPuFK6x3hfU6vV8jHOOR/aaqqrrCPXla83VmuSvMvbO/a3tfWb1ONs69stwZ5jrZ\n",
       "1Tn/KQgAAAAAm3EoCAAAAACbcSgIAAAAAJtxKAgAAAAAm3EoCAAAAACbcSgIAAAAAJtxKAgAAAAA\n",
       "m3EoCAAAAACbcSgIAAAAAJu56rji8BjpGWKYi+t1slkuvpbOGOPeY2m9/4pmsUp7h7n4Who1w1yn\n",
       "82qz5vKaI66Z5WZ8H/M7mdaM5+Ns9E5vzxPm4ter86zXPsP8ohtzcmY3aJzpjWyMMb2e5Q+74utO\n",
       "e48w11kr4pqLx/iZOZ4Z8847L54/o7LenV3AE65px+pv8V9i+VWPxnzsZJNyYb0094max+JcVdVx\n",
       "Z29E3jt/w45xLu19hmvF3djrxjXDtSJdUz5RM85FqbcZ1oy/Xq3Xeu16Gu/bG23jX4jpWrG4XlXV\n",
       "uXhdSet1sueRzcprZLm0XlXVlfaOc/k+Ka55ZjXT3tfVGOP5G+bS3lm9qqrrFfYOa55pvTD3rvl/\n",
       "lvY+0lyUAgAAAAD+GQ4FAQAAAGAzDgUBAAAAYDMOBQEAAABgMw4FAQAAAGAzDgUBAAAAYDMOBQEA\n",
       "AABgMw4FAQAAAGAzDgUBAAAAYDPXGGeeHuEZYpprnEmOL/WO+zZq1hhZrHNmG9asSnuH9eK+ee+/\n",
       "QX4lMy8aRud4olz8DFvPZW3Nxt2JO8906obd52iM8ghrhr3H7NyhbF7UzHIz7d0Y4zjXjrHTe15p\n",
       "du11d55hes/TmnG91jqV3p/F9aoqnePxux3Xy4VLQPq2/iV/uW2sAfnECAt2ei/Ohb0726S8ZprL\n",
       "ZtoR5t7Z7HfD8WRjPJ78d8gZ1jyf7M25w9xv47fAGX6/7pnVfNJNTVXdYTatmeZmY4zpTOvUTHW+\n",
       "NomP7LLTdzusdyxeU6qqzjCb9k7rvbPZDDrDj3Fa7zryNfIMs9dxL+99nVnNM+0d1ruu3yj3iZrX\n",
       "ldWrqjrTmq8sdy7OdbLH6lyUAgAAAAD+GQ4FAQAAAGAzDgUBAAAAYDMOBQEAAABgMw4FAQAAAGAz\n",
       "DgUBAAAAYDMOBQEAAABgMw4FAQAAAGAzDgUBAAAAYDMOBQEAAABgM1eNK0+P7AxxhLnWmWTau8bS\n",
       "enHuE73Teh/pvbjvf+mVsc79WW8ujVVVzZGF43s+n7Dv+nk2w1znCaa3chxZMrw9cb13zTAbPuvZ\n",
       "6D0qfN4znGdhbqY3siq/6Wf6fq2/P2nN9D52FoH0nsfXHcc+McawYOsZpq2zZz3CQab1quJXO979\n",
       "NN6uxo5q9dxtfOhS6cNubQPWrs9pbqT1Gtk0d4S53w+M8Qi/h8edz/J7nFnNcK97h7nzyN+u+wl7\n",
       "h9/DZzZ6z+yFeMLcXFyvqvNpSPebf770W1NVlW7J05pHWq+xBpyL159z5GtAXPPIaqa9r7Bep/d1\n",
       "3mG9LPeumV5P2Pv6Dfs2xnit7Z3mWr1fYe8wd7z+T5R7Z8OaP2t7+09BAAAAANiMQ0EAAAAA2IxD\n",
       "QQAAAADYjENBAAAAANiMQ0EAAAAA2IxDQQAAAADYjENBAAAAANiMQ0EAAAAA2IxDQQAAAADYzFXj\n",
       "jMNjhGeIaa5xJjnGWFszHOOotO8Hasb38V11be/GdcfSMa6t9xkzS3WmT1izZto7vd9P1rfSq64a\n",
       "6aW07k9Yc3XBvGKN8MLnkdbMe8/wOY50/qT1GmOM35twjHXmcze+l2HvMcPe6bVU47rDa0mfdWee\n",
       "tR73dwrm60/4DPP72KgZ1uvsAtK34Vh8zzvbhTSb11y/PudjTOt9YozhPPvAGI8w+/tkYzwav0Pu\n",
       "J+t9Ptmbcy/OVVXdR1ozm2jPbPQON1VPmJuL61VVzXD1S5fd3mq2+ndD+H41KsbrT9g7fV8/sQac\n",
       "Ye4I17OqqjPcP59hzfNYm3tn76U1rzOrV1V1htm0ZlrvvPIxXufv0prnK6v3rhn2DmumuaMxxjS7\n",
       "PBelAAAAAIB/hkNBAAAAANiMQ0EAAAAA2IxDQQAAAADYjENBAAAAANiMQ0EAAAAA2IxDQQAAAADY\n",
       "jENBAAAAANiMQ0EAAAAA2Mw1xpmnR3aGOMYICzbOJNPeac0PjDG/7iwXX8u7+eLeab2GeIyfkPae\n",
       "S+u1rnhmvefIciO9lvSS30WXlgwv5b+ai687XPvSvlVVdYRjfNJn/eS9x5XlwjHWzHrPtF6j5jjT\n",
       "6857z/D9qrR3Wi/NVdVI14DFveN3ptH7I+vPYvlXIX8P0+tO3+3OZ/MIs0+48Kb15kc+7ek63ni/\n",
       "4m1SOMcX51o1029N+qyPfI6n2ePOvrF34/7cT9b7frL98/2EYwzrdbJP+IJ1ej/hy7g6Nxu73RnX\n",
       "XFvvm1prwOKa6TfpaIwxzaa5s7P+LK6Z5+4o16oZ7jdbvc8sm+auK633G+Wqqs605pXVPF6N+xPW\n",
       "PF9p77W5qqrjZ23NkdaLUgAAAADAP8OhIAAAAABsxqEgAAAAAGzGoSAAAAAAbMahIAAAAABsxqEg\n",
       "AAAAAGzGoSAAAAAAbMahIAAAAABsxqEgAAAAAGzGoSAAAAAAbOaqccbhMUaYDM8aR34mOSrsHdZc\n",
       "Xa9XM72Pae6bvTtjXJ9cb3XvmSfDZzPSmvMJ+zbmeHo54bXkdyd/Mp2aWd/GM0yz6Y08OleTZdMx\n",
       "jpn2bowxnZNp73iMVeNcez2fGGMqn5PptTR6p5e9uF6r6uJb3vkqzMrm+AgvPK1XlY8zXfHT25iP\n",
       "sOpIH3icazRf3Dt9hp11fITZ8bt2nh2NMabZ48jGmOaqqo47+81yPNksP56s9xnWq6q6w+wzw1yj\n",
       "9zOzF2J1boa5Ts3U7CwC6zeIYWz9PiBdS+M1oPExXl3zHI01IFwvzsXrT1qvkz3Pe2nuEzXPa/0Y\n",
       "j7Tm6zfLXVmuqup4Zb2PsPfOm/w7AAAgAElEQVTqXCc74t7hNUcpAAAAAOCf4VAQAAAAADbjUBAA\n",
       "AAAANuNQEAAAAAA241AQAAAAADbjUBAAAAAANuNQEAAAAAA241AQAAAAADbjUBAAAAAANnON0TgX\n",
       "DLOjxtJ6/1M1S4U1x+J6jZr5taT18t55zUbvVHx//iX5NY85l3ae6fva6DvTV3s+YTB/v9JRjjiZ\n",
       "5WadYb289xxZblR4Hxs1K8zNI+s96sr6VtUM51o6J2f8rN/pLBZe95nWy2LvaFpzbe906rxLpnM3\n",
       "fYa5v+ELko5xjvT9aqzP4XoR1wwnxtF4ME9aMy3YmLwjXXe/lKuqulf3PrLc85t/a0b4bTiO7Nt5\n",
       "hPU62fPJZtB9Z2N8wnpVVXeYfcINVaf3Mxf3DnMz3Rw2svFb0+kdJzNx5846leYWrxVHY4xpdoTf\n",
       "uTNcp9690/Un7b22XlXVed5hLuwd1uv1znLHFdYLc+/s79LeR1ivqup4hb3jXDjGsF5V1Uh7/2S5\n",
       "uF6UAgAAAAD+GQ4FAQAAAGAzDgUBAAAAYDMOBQEAAABgMw4FAQAAAGAzDgUBAAAAYDMOBQEAAABg\n",
       "Mw4FAQAAAGAzDgUBAAAAYDNXjfxccKRniGOsrdeomZ5zjgrrxX07NdPr7vRenIyfYd55vW/2nusr\n",
       "ppcTBkc9a/tW1ZjZ3E1rjvW3sWZcNMuNxrOedWbBxWOsqhphzXlk86LqyurNxhiPcIzh3G09mxle\n",
       "97l4UnbuT3g9eckPzLN0jHG93CdqfqdgvrVI34WqxvuQrj8fuO4jXafiMTbWgNU101y47nWyI1zH\n",
       "x2+We0ZjnoW9n3SMR/jdrKoj7f1kNfN6+e+VM8ymNZ/GJm11zRnmOmNMa850AfrAPnK5zj473ZvG\n",
       "P+eyeuna/K6ZvTdpzfQ97GTT3Lm4XlXVeYY1zzusl+U+UfO41uaqqs645m+WezXuzyurOeLeYb2f\n",
       "LPeumV3PiHuH8zFKAQAAAAD/DIeCAAAAALAZh4IAAAAAsBmHggAAAACwGYeCAAAAALAZh4IAAAAA\n",
       "sBmHggAAAACwGYeCAAAAALAZh4IAAAAAsJlr1Jmnx8hileVq5GeSec0wF56Hxn0bvfOa3+wdN15c\n",
       "71M1/3zxVYfBmc7xOdPONccT1sx6zw886s71JDpjjHuPbN2d1biW9NmENecIex+d+51mwzE2nnX8\n",
       "bMJc3Ptcf3/SZ5jfx7BcQ/radFqvrpm/2t/7JvU6Z2tA+m6PsF5rkOm6EuaORu94TYu3sOF9bKyR\n",
       "I13H02f4iTHeWfb5za7lOMJ5VlX3ke0tniftndbLf6+k2dW5qqon3LDMtHdar7FRmuELln+XOotA\n",
       "Hl3buvF+pbl0DVicq6o60vU5fLc7688RrpFp7/NM691RrqrqSGueWc10jJ2axxXmFterqjpev0tr\n",
       "HldW7907qznCMaa5tG+nZv2E780ri/lPQQAAAADYjENBAAAAANiMQ0EAAAAA2IxDQQAAAADYjENB\n",
       "AAAAANiMQ0EAAAAA2IxDQQAAAADYjENBAAAAANiMQ0EAAAAA2IxDQQAAAADYzFUjPxccNcJglovr\n",
       "VVU+zsW9w2tp1fwbejc6x8nVrZdfy3fNubZeendm5zUMw2nNtN47HPZe/LeO0Xgwc5xpMuvduJZ5\n",
       "hL2f8HpGmDsa9ye97vSeH8/y3vmzWd037726XGclXTzCj/TOn01YrzPIOLt+H1DjDktmuRmuAWPk\n",
       "72G8rnxiSxP2PsI1babXnV5zVY30nodjHL/ZGEdjLT3Cmk/4TXruRu97bc3nzL6xT9i3qup5skn5\n",
       "PGHvMFdVNWdaM9xPpXu+xl4urhkXbPSOk5lP/ApJ14B4PYvX8fXr1BGuK53eac04d66t966ZfWPj\n",
       "3mG9qqrjSnuHubRemOtkx/Wb1XvlvccrrJmOMaw3OmP8Cd+HV/huv7KVyn8KAgAAAMBmHAoCAAAA\n",
       "wGYcCgIAAADAZhwKAgAAAMBmHAoCAAAAwGYcCgIAAADAZhwKAgAAAMBmHAoCAAAAwGYcCgIAAADA\n",
       "Zq4xRiOeZUd61viR3mHNsHdc77/0H987rRY/m7V9/x7rrzu95XMu7tvIzvDdHvVk9Ubj7xLhdcfX\n",
       "M7KC6TX/TzpqXWdYLX/YI5wYM7zucYT1nuxZv4uGNcPeo3F/Yul9DHOfGOMHrjqWvl+fGOPq3uk3\n",
       "tnMtve92VPAz2aTcSNfxfA0Y4RpQ4w5zjTVy8fqTrqUV1nv3Du9lmBtp7s6fYTrGtOa482/s+A1r\n",
       "nlnN486+xc+Z358nvJ75ZLnnyV/sOdfWnHNt7lM1/yXpOpX+ZsjrrV/H033kka57jWy69qX1jsYa\n",
       "kGaPM/vOjVbvrOZxrc2NMPeu+bu05vHKe4+0d1gzzzV+K72y2HiFi8Ar+875T0EAAAAA2IxDQQAA\n",
       "AADYjENBAAAAANiMQ0EAAAAA2IxDQQAAAADYjENBAAAAANiMQ0EAAAAA2IxDQQAAAADYjENBAAAA\n",
       "ANjM1TkXHDXCYJaL6/2X/k7vxhi/2TvMhkNs9v5mzT/dbGTTZ5jVnPMD9zvsXR/onb43M53kM1v7\n",
       "RusZZjVneB9HY32e40yTS3PpfKyqmsfa3rPxbNLnOGf6bDKd2ZOGl/duDTLzkfsT9w7XiuXfzcb6\n",
       "E29p1u9B8ub32rZVNccT1kxfhqxeVVWl60/cO8sd8bqXr5EjzD1pvTsf43OEz/AOc7/pt6vqCHs/\n",
       "d1bzObN6x51/i58z3Ac8We558hcsrZnuD2fYu7PfjHun61TrI7J6b7r+C5avfWvrdfZyR7qOx+tZ\n",
       "vo6n62la8wjXgNYYz+zbGfcO61VVHVf43U7HmNYLc62ar/W9x+s3rBk+m1c4L15Z7F0zfLlf4bfz\n",
       "dUUx/ykIAAAAAJtxKAgAAAAAm3EoCAAAAACbcSgIAAAAAJtxKAgAAAAAm3EoCAAAAACbcSgIAAAA\n",
       "AJtxKAgAAAAAm3EoCAAAAACbucYYjXiWHWGuvtn7A2Nc3jvOdYbZueffqPeJip2qc2nX+aGrSYyR\n",
       "XctsXHI6x2f6ejV6z3CSj7h5eC2tv51kFzRmVnPWmbcOb+YIa870XWg8xBHWnGnNRu+05jjCMabP\n",
       "urGmxPd8ce/Wqrd4SeuUS1/teL8Q1sv7rt8HdL4hX9v/dO5PfM/DOd75iMTrSlgvXCvqeMKCjWyY\n",
       "O8Lc/M3HOI7sG/LcWc3RuD/zzr6dI+x9PFm9J+zbqZley/PkL9hM9xZhzbheY5GM95xpzc4+8kt7\n",
       "8tY6tbjm6lxVvk9K3+1W73Pt2peO8Qj7VuVjHOcd9s5yVVXjSq8nqzmutblP1Byv9fdnvMLn/Qr7\n",
       "vhprzxX+9ntdYS4bpP8UBAAAAIDNOBQEAAAAgM04FAQAAACAzTgUBAAAAIDNOBQEAAAAgM04FAQA\n",
       "AACAzTgUBAAAAIDNOBQEAAAAgM04FAQAAACAzTgUBAAAAIDNXJ1zwVEjDcYVl/eOx5jl8r6N3mm1\n",
       "Vrm1vdfX6z3t71n8DGvG2TyZd18Zq6p4kGnJzjWn7+JMX5yZrX2dZ1gjq5lWbPWu8yu95+iMMcwe\n",
       "69+GtHd+f1Z2/a9mGF59dzrfueVP5iPfue/tVeK9RbpONVqna1/ee3GukR3jDus9cesZrivjCGvG\n",
       "9Rr7gDC7Pte4j3eWHXf4TWr0fsKaIxzjvLNv9nHmv5WeJ9wHpL3DelVV8wn3STPMpdcS1nuHw96L\n",
       "67Vqhj7SOV52w/Un3Vg09nLpmhaPsbEGHGF2nGFucb2qqiPtHefC72Eje1xZblzhGMN6reziMVZV\n",
       "jVc4z6+0Xrg+p7mqqlfY/HqF9bKc/xQEAAAAgM04FAQAAACAzTgUBAAAAIDNOBQEAAAAgM04FAQA\n",
       "AACAzTgUBAAAAIDNOBQEAAAAgM04FAQAAACAzTgUBAAAAIDNXKNGnh6NbFKu0zvNhmPMe6+95qqq\n",
       "Ed/H9b1X1+w9wx3l92fUjHIzrpnV6zzB1b17zde+N/GVjMbfTuLLDp91p3f8vNN5dmZtR3jRDfmz\n",
       "aRQ9Vo9z/XWnFRe/hY2Kn+idS783+VKxer9QNVd/3xv7rnRvkY4x3qt09oara4670fqJcjPMjXDt\n",
       "S+tVVY10nYpz4bUc4XpfVfMO72Oaa/Qece/s2/k8WS6tV1U1wuw8w1w4xnc2XANmWDOu11gj02w4\n",
       "xfN9aV4zli5TrZrpIMM9X7hWpOtZJxv3DtepT9Qc59rcu3f2XYp7X43v3OKa4wxzV+P+pNfzCp/1\n",
       "1Xixryw2XuEaeYXfr1fYuJO9XlFsvrKc/xQEAAAAgM04FAQAAACAzTgUBAAAAIDNOBQEAAAAgM04\n",
       "FAQAAACAzTgUBAAAAIDNOBQEAAAAgM04FAQAAACAzTgUBAAAAIDNXDVGI55l84qN3uE4R6fmcv9O\n",
       "729eyXebh+YniqYXnjZffyPHyHrPuXqtqApL1giDab08mK8/c4R/j5n5RBvh33hmPH+y3BhnWK/z\n",
       "2oS9j0bFJ8ymjybs+4nlLO4dNp+tb3EeXV9w7T6gdd2hEd70me5pGnu01TU/McZ4Uh6Lc1VVxx3F\n",
       "4uU5XH8661T9puvU2t7ptVRV1R3eoPuJYuPIclVVM+w97+y7NJ60Xv4/FDOuGb6HYb1W73Rf84Rj\n",
       "bOyT0j1Vvv3p9M6jS7U+NeneK+29fp0aI3xnP7BGputFnDvXr1NxzTP8JoX1qqrGtbjmFV5LmGtl\n",
       "r7Dg1fidlmZf4W+bKxzkK72Yqnq9oti8slxaz38KAgAAAMBmHAoCAAAAwGYcCgIAAADAZhwKAgAA\n",
       "AMBmHAoCAAAAwGYcCgIAAADAZhwKAgAAAMBmHAoCAAAAwGYcCgIAAADAZhwKAgAAAMBmrqoRh5cn\n",
       "R6dink0rrs11Lmf1tXzC3zDGL0pvz/ynWv8l1s7dztozw0VgzHSNzP9ukz7vESezXGeepb1nnY2q\n",
       "Ye/wVs4nLJjWC8tVrV918znRmOOLa87OVacf2Ti3uG+r9yf2IGvv+QhfmnTd+69oFjvW7yPjRSAd\n",
       "47izeke6qFTNI3vDxm/4Jh7pGBsr1Z1dz/gN50/j/tSdfRtGOMb5hGO8G9/i1TWfxvqc9g73IDPt\n",
       "ne5pGr07NfPm60tGPnApY4QXE+ZGZw2Ia4ZrRaf34prjTOvl69Q4s3U37V1prqrGFV5PWjOu13iG\n",
       "VxYbV/jiXI3/cXuFvy+ucJBp7hXmqmper7BmlpvXT5Tzn4IAAAAAsBmHggAAAACwGYeCAAAAALAZ\n",
       "h4IAAAAAsBmHggAAAACwGYeCAAAAALAZh4IAAAAAsBmHggAAAACwGYeCAAAAALCZa7TiYXr0qq61\n",
       "uPc3L+UD/rHL4f+5782gtPNMl6k5w3r5NY+weVxz5n+3GZVez9q/BXVmxKxzac3sinvp+NGkbRu3\n",
       "O7+ebJD5fWzM8bRmeCNb82fx3mKE9Vp90+sO38PP9F573Wm9dzi87uN7vSvsXUdY7/fOclU1jiw7\n",
       "j3C1+A3XvePJ6lVV3en9Ccd4N1a+OxvnvMNn82S5kdarqhnWXD3Gd+/w3U43SqvrVeWbtHQ/lXfO\n",
       "ey82Rm+3khVN9zRh78YYR/puh7nW+rO4Ztz7zMc4wmya6/UO788VPsOwXl1Z7N07fA+v7DdDnGvV\n",
       "DC/oekWx+cpyrZphrsLe/lMQAAAAADbjUBAAAAAANuNQEAAAAAA241AQAAAAADbjUBAAAAAANuNQ\n",
       "EAAAAAA241AQAAAAADbjUBAAAAAANuNQEAAAAAA2c1WNPD0a2aRcp3cru65er+t3xgh/mnSpmPOz\n",
       "4/jffeL9Smtmf48Z9cSd5whrLr7ns1EwvTtpxc4TjEcZ/qksveyZP8Llf6aL72Pj2z7TbFzzA3uQ\n",
       "NHenN7wzxnQCrb6PVfE4497htRzrn+EIa6br3rv1bxZMr+cT9+c3vT932DtbBeadL1TjN1xZwt51\n",
       "Nz5Kd/puZ9cznuwZznit6NQMryWsV1U1n/C9mWHNsF7NxjckzabTotH7a1pDDC88Xu7Teo33MHy3\n",
       "xwjfw3StqKo6wppnuk6l9RqbudVjTHNVNa60ZljwCr9JZ2OSX+H6c11hLr2YTs0sN69XWC/MVdV8\n",
       "ra05r58o5z8FAQAAAGAzDgUBAAAAYDMOBQEAAABgMw4FAQAAAGAzDgUBAAAAYDMOBQEAAABgMw4F\n",
       "AQAAAGAzDgUBAAAAYDMOBQEAAABgM1eNsbzoqPU12cgMc9+cZukY/wqdG7n6wj+x/mRmGBwzv+YZ\n",
       "rqcjLJnWe9fMsnOs/VtQ7/6ENcN51pmN8bxYXLFzu+cTjvJIryacE+mDqfXf99moN8L3IZ/j4TNs\n",
       "vIfzXvtsRuNvt/F6Ed6f/H53nmHWO32GrWeTZo+0929Yr/HOpHM3HGMdd9b2tzHG44li885W0xHm\n",
       "qqoqzabvYVrvzK75XTN8Nmc4xidfA0b4DYnX/NX1Kt+rxBuGf2o/XvlmJd1IhrmR1quqOhbXDOu9\n",
       "s9m7ONKa4bsd16uqOsP7E+bqzFun2ZGuP1e6njUGeYXZOHfFrWeavV5Le8+0XlXV9bO05gzr+U9B\n",
       "AAAAANiMQ0EAAAAA2IxDQQAAAADYjENBAAAAANiMQ0EAAAAA2IxDQQAAAADYjENBAAAAANiMQ0EA\n",
       "AAAA2IxDQQAAAADYjENBAAAAANjM1QmPGovbr66X1xyfaP0XmGFuNJJfkw4R/n/J53ianGFwpMGq\n",
       "miP8G898st7hIjkbf1sa4Tsb35+4c2ftW1uvYxzhPV/dvDPP0m9seifTeVtVM5yTae/0WnobhsXX\n",
       "3el9p9nFvRvPMM3G60/j/ox0nMfv0t7pe/3uHY7xN72WsPeRfRfeve8oNtKaR76gzTPLjjusmeae\n",
       "znsYjjGsOZ/GswlrpnuLubjeu+ji71yn998g3CjFS1+68UpzVTXSbPpuN9aAsbpmmBvh2vOuGebO\n",
       "LDbOxhxPs1c4yDMcZJqrqrrC7JUdU80wV1VV52tx76xemnv3Tmv+LM35T0EAAAAA2IxDQQAAAADY\n",
       "jENBAAAAANiMQ0EAAAAA2IxDQQAAAADYjENBAAAAANiMQ0EAAAAA2IxDQQAAAADYjENBAAAAANjM\n",
       "NWp8ewx/OPfnfzcbWffyf5fdy84dX9n3X5OufbMzbZffyvXvzBjhdc/sb0ZhuXfNMDfCYOfZxM87\n",
       "rpeZrWeYZeOKR/qs149xhhNjPB/oHf69M34XGpN8jKz3vMOanRcs7B3XjHONvy9/s/eR3p90/oTP\n",
       "Ou1bVXX8Lu2drgF13FmuU/N+1uaqaqTZI9xPnVlu3I2Pe1iz0svurJFpNu2dfhs635BwjHHF1vfr\n",
       "L5BugFbXC9+ZqsZnKa3ZueZ4GQ9rnmv7vmuGczzMxWtuVdUVXtAZXtCZ1ruyXFU8xpnWvDq9X1nv\n",
       "sOYM69UZ5qpqXj9Le6c5/ykIAAAAAJtxKAgAAAAAm3EoCAAAAACbcSgIAAAAAJtxKAgAAAAAm3Eo\n",
       "CAAAAACbcSgIAAAAAJtxKAgAAAAAm3EoCAAAAACbuT5TdvwlNf90s5Fde3/Szr2unetZ332t1dfy\n",
       "iYrflD2bMfKrnnE0nRffu+PxCEc+x9NbOcO/BY3xZPVm/rel9HLi9afxCGfYO5894RyvO6z4iRmZ\n",
       "jjGfZ/NIH2KWS+/jW7quhL3TCTkafz+Ns+t7jzC7+rrT+/239I7nT/gujPSdeYez3uM3LBfOnyOr\n",
       "986mNcO178i+Na3smeXGndZr7FXuMBu2Hk/jy5Bm05LP4o92Vf4x/sQW7Vvbvm/+LE43Sus/xTWO\n",
       "sHfnX5TSbJz7wDp+htkzHGSaq6o6zix3hbkzzeVHSjPundWc1yvuvbxmmOuMcZ5pzZ+lOf8pCAAA\n",
       "AACbcSgIAAAAAJtxKAgAAAAAm3EoCAAAAACbcSgIAAAAAJtxKAgAAAAAm3EoCAAAAACbcSgIAAAA\n",
       "AJtxKAgAAAAAm3EoCAAAAACbuXrx8ZlRrPQXDPEzZphbe4PSrp/x3e5/vm/en0/0Tufu2t6j8c7M\n",
       "xUPsvK1p7xH2nuHfjMZ4soJVNWdaM6zXuEMjvEEzbP6J2TjiCw+vJZ0U8cRt3Mcn/Jvj0Zjl4f2Z\n",
       "T/oM07+LdtaAtHc6Hxt/u03nT3o9ae+47wdqfqT3l3JVVeM3LJnVnEdWr8J6796Lax75N6TOO8vd\n",
       "Yc2095OPcZxpzezrMBu3J61ZYc0x4w1DbnXND2w3073F+OY+e/Fy39pwrv50NvYB8XKa1oxzjXX8\n",
       "DLNp7jgbvcNsmJtpvatxpHRm2RnmOr3zmq+sXpo7s9y75s/a3Jnl/KcgAAAAAGzGoSAAAAAAbMah\n",
       "IAAAAABsxqEgAAAAAGzGoSAAAAAAbMahIAAAAABsxqEgAAAAAGzGoSAAAAAAbMahIAAAAABs5qoa\n",
       "3x7DH242sn/DvUyv52+4ll115iT/d+kc/8T9Xv9+xVcTBkd42bPxt6UxnqzmzGqOdJBf1XnWWXaG\n",
       "ubG43v9UjVJHWDOdkFU142w2f+b4jXJjNO7PE/YOx9jpPcPsGOEY73SxaNyfsHdcM633gd7pHJ/p\n",
       "u1BV4wifzRHO3bR32PfdO8wedxQbYa6qqu61vevIvkn1hLlONsyNp/GdS7Nhbqat42DlW6rVuYbx\n",
       "zX326u1hWq+xjsfLblqzsUbG2dVrX2ONrDOtea6tV1V1ZjXneS2tV2m9Tu8ry8X1qqrOV1Yz7v0T\n",
       "1sv6vrNhzbB3hfX8pyAAAAAAbMahIAAAAABsxqEgAAAAAGzGoSAAAAAAbMahIAAAAABsxqEgAAAA\n",
       "AGzGoSAAAAAAbMahIAAAAABsxqEgAAAAAGzm+vYAlpthbnx0FP+A9EZ+0zcf4t9wf/h/bYRzco5w\n",
       "/rSmWdY7fWtmGEwvpapqhn+HGvH9efLeI+ydth7p/c7XqRk/w3CehX07Y0xnUHp/6sl7x9d9hH/v\n",
       "DCd5+lyqqiqdF2Euvo9VVeEcj3Ppdcf1Omtk2rsxf1bf82f1/a6q8ZvF4mtJx5j1ffcOa4bvYfy+\n",
       "VtVIs+mzOcJvyHNnuaqqJ62Z5hof2cU1x0w/iK2NwOLcP7Yfj5e0dI1MyzW+Ncfi9Tmt18mma8Xq\n",
       "XFXVcWa5M10jw3pVVWfaOzwCCuvNtF6j97zCXKv3K+wd5tJ6Ya6VjXv/RDn/KQgAAAAAm3EoCAAA\n",
       "AACbcSgIAAAAAJtxKAgAAAAAm3EoCAAAAACbcSgIAAAAAJtxKAj8f+3ay3YkOY4FQDKk6v//4FFw\n",
       "FtmznKqLbngyJZitcQC+nO6CAgAAABhGUxAAAAAAhtEUBAAAAIBhPm8P4Gc5zfl2c76fpnu9+We9\n",
       "a36+xRZWnsNsQjvMeUql08XMkqalK2Pczft9dv5/rR2uz9np+ryzfFHU/+VMF7M5bn+F+dY64Ybv\n",
       "MO68Cv+bPFlsXDs+vIVDHo7xhP+T3aX/3aa10zOe3lOVSyCM/UrPbqV2uJZpXDjGXRhjvJbxXP4n\n",
       "C6uMMXxm91fzehdqr7D2foV337vwHH5l74b1DuNOGFfJ+Q7fTOl3ReVjrjvnt/iOfEB8VzTnq8S+\n",
       "mu+ztdZK74C0dpzvI4tba52P5pwfee0050lzfmStohPGPZLzM699Pv66Erc+/5XFrbXWRxZ70rhX\n",
       "Nka/FAQAAACAYTQFAQAAAGAYTUEAAAAAGEZTEAAAAACG0RQEAAAAgGE0BQEAAABgGE1BAAAAABhG\n",
       "UxAAAAAAhtEUBAAAAIBhNAUBAAAAYJjPu+X3tconjLs3wrXyUVbcnRG/0xPnh99pF57Xk4Y2H4vK\n",
       "jXJ27yD3ySdzdphzvcOE4f/U4jmvtU5WO13H9Pycwi6m65PmjNe7kDM9lTv9v+ir8Bym5yLdm8L5\n",
       "2WlsGBefs8IY28/urvxvu3c+8d58VcaY3iv/k4V1z2Wttd/ZGOO9KexhWjvNedJ87/ye2q+v3pyF\n",
       "2usdvhPDd02er/BhkcZWcnbXvim+x+OEvXXXyt+Jac5X4Y5M74s0Zxh3KmP8+Ahrh3Efee3zCls7\n",
       "4RjPR2++Ws6/evOttU6cM4vLxxjmK8TmY/xXFOaXggAAAAAwjKYgAAAAAAyjKQgAAAAAw2gKAgAA\n",
       "AMAwmoIAAAAAMIymIAAAAAAMoykIAAAAAMNoCgIAAADAMJqCAAAAADDM593ypxC7r5QujbB5iM+o\n",
       "zAj+M2fsMUsvgf4F2mHts9Pa4VwKU+m+Ik8hYTzt8H9l6TruwsNwwpfIXu8sX1h3FxYyH2Oa8yuu\n",
       "Hb9kw/mcdN6F9dnvsParv/aJ17x3D/O6ee14jIUPr/hJjHOGcYUxpvM5X821Kx+wX+HvCXYWV9rD\n",
       "8Pla4fO107m883vqvNOc2T2+w7h/F2+tHX/MvQsfAvE7Mf1D7YEPzu6UpY+f9JlN0z1wB8Q5w2ch\n",
       "fR8Wcp5XWjuN+8ji1lrrIx1jmLNUO4s9H2ELKKwd51trrTA2zXk+/opLx7FhXJrvvApjTGPDuDSf\n",
       "XwoCAAAAwDCaggAAAAAwjKYgAAAAAAyjKQgAAAAAw2gKAgAAAMAwmoIAAAAAMIymIAAAAAAMoykI\n",
       "AAAAAMNoCgIAAADAMJ+3B/CTnHOx+G4N4weIj+PNczvWE09itpG7ufa5N5XSTM5Oo8N1DC/8s/MH\n",
       "bKcTT1PGc36HcWvlq57F5fuy1j5fWc6wdvospPnWWmu9wtrhg3Pe/bW796awhXFwfi5KxcOw5vNT\n",
       "W6AsKl3Hr965rLXW2dnvCXZYu3QHvMPfMnxlcWdnd0pcd6213lnO9c7u3RPGVXKuV/qeC/O9Cx+S\n",
       "8R9L6fvwgY/Y7pRPfCelz013XCE2vSvyd9daK87ZHfeRxa21TnfOj0rtsLUT5jwfWb647lprpTnj\n",
       "uL8KtbPYNGdc+4ExxnGvLM4vBQEAAABgGE1BAAAAABhGUxAAAAAAhtEUBAAAAIBhNAUBAAAAYBhN\n",
       "QQAAAAAYRlMQAAAAAIbRFAQAAACAYTQFAQAAAGAYTUEAAAAAGObz9gByJ4zbj47ijxUuT7qK8Odx\n",
       "ev9e992Xrfd+4M49cfO1REsAAB1XSURBVMq89j695+fsrPaunNtwjHntd5avso7NOXe+2fG5SM9k\n",
       "PMbC+uRrGdZ+FWrHaxnGhfkqT1b3fVGqnU47z9hat1S7+9otDHJ/hecivafCfJWc6Xz2V/bbiLO/\n",
       "srprrbWznDvN+cru3LXWWu8wNn3XpPle/e+5/J1dqZ2HXtP8/dP9zJRiX+Fvjyq145zhs53me31k\n",
       "cWvFYzwfYc5S7ay1k9Y+H2GrKKxbytkdV6h90vm8/grzZXGP5Azj/FIQAAAAAIbRFAQAAACAYTQF\n",
       "AQAAAGAYTUEAAAAAGEZTEAAAAACG0RQEAAAAgGE0BQEAAABgGE1BAAAAABhGUxAAAAAAhvm8PYB+\n",
       "5/YAAH6A/UDO7H7eD9Q+ccoscJ/+d006xngqJ/y/3y7MJR7kO8/ZLl2hB874DnOGS34Kyxg/N+Gx\n",
       "iGsX/r2cnrR8Z/LIvHaW84mvzbx2eE815ytJn4VK7TDnDuNOeE/td2GM76+sdprznV8CO71304f7\n",
       "FT7c78o7JKsdZyy9i9OLt5AyUXq80nds8zNbybfDc/FK55K/RE56JuMxpnEfWdwqjPEjy3kKtdcr\n",
       "a+2csHaer9BSCmPP668wLq8dx340135ijDsb4w7z+aUgAAAAAAyjKQgAAAAAw2gKAgAAAMAwmoIA\n",
       "AAAAMIymIAAAAAAMoykIAAAAAMNoCgIAAADAMJqCAAAAADCMpiAAAAAADPN5ewAAf7Z9ewB/uFOI\n",
       "vbeW3ZVPnDCvvE+6llnc2VlcXreQM81XWp8s9uwsboe1aye8N+d+5esTb+M7rR3WDfOtteJ/Rcfr\n",
       "UygdPzdx7d58Ffnz1Ztvrfzue+T5Cmvnd8BXlq+0QmHtnT6I+QN20tjwod3pwx2+F37VTn+PEuYs\n",
       "vL9i3Smf+PRJH4a0eJwvjz2vcK8rteOcYdzrIwqL51LKmcWl+dZa63ykObMWUJ6vMMb22oV2Vlo7\n",
       "zdkdV8oZrs/O8vmlIAAAAAAMoykIAAAAAMNoCgIAAADAMJqCAAAAADCMpiAAAAAADKMpCAAAAADD\n",
       "aAoCAAAAwDCaggAAAAAwjKYgAAAAAAzzudYuhJ/HBgLwe1Xuvj/fvjadvPD5Qa+QJ5b7pEnDwB2+\n",
       "s8/ONybNGX8uFGp3i4dYypnuTZov13x8cpV/L7/DGYXn4hRqx2c3dMJ8lSPe/TRcPWfN+X7lTJ+v\n",
       "LC7Ot7+iuH8Xz2q/09qFFUpjw0vgvMMHbL+zuLXWTj8E4g+Giw/YE+LtDgPDM3GeOGc7PD+vSu0s\n",
       "53mltT9a6/6qHeb8yOLifGvF84lzvj7DfFnc7dppzrUvjnFnsTuMS+fil4IAAAAAMIymIAAAAAAM\n",
       "oykIAAAAAMNoCgIAAADAMJqCAAAAADCMpiAAAAAADKMpCAAAAADDaAoCAAAAwDCaggAAAAAwjKYg\n",
       "AAAAAAzzeXsAANPsfXsEnfLJ7H0eHMc/Vo+izsUhxisZBqZTeWJbzs7+57gLC37CecfzCR/EyvKk\n",
       "teO5FGrn084i43yFFTrpAqX/sn73147vqe65rLXyVU/3MJxz5TlMc8b5ct05nxlj+nB/ZbXflVsg\n",
       "i93dl2mab6110rPWHffTxB+S6V4Xzlka+wovv0Lt9Nsirv36yOqm+Uo5s7g03xM5nxhjXHs/sD5x\n",
       "zqxFFudL4yqxYdwO4/xSEAAAAACG0RQEAAAAgGE0BQEAAABgGE1BAAAAABhGUxAAAAAAhtEUBAAA\n",
       "AIBhNAUBAAAAYBhNQQAAAAAYRlMQAAAAAIb5rIXvMO6UBwLw3e30inym+s3ioT9/jDf38Jzed2yc\n",
       "rTLnMHivd3vtfbL/Y6Y598nGuHb+/9P062eHgaf0PRXG7o/efCvNt9Z+ZTnPO51LuIdrrRXWXuHZ\n",
       "Tdensofxc3PCOyA8aCdem7V2PO8wXziXtdYKr4D2v1ZKV2Rz4C5Vz2LTd018R1Yu8nS/u+N+BRdi\n",
       "b0lfYN35Ki/j8F38SmsXfqOUxr7SMaaXSv6eO2lsGvfKa6exJ80ZjjHOV8gZz6WwN/Faxuesea/X\n",
       "Wrv7/IRxfikIAAAAAMNoCgIAAADAMJqCAAAAADCMpiAAAAAADKMpCAAAAADDaAoCAAAAwDCaggAA\n",
       "AAAwjKYgAAAAAAyjKQgAAAAAw3zeHgB/qnN7APy/9u0B8NtM3esn5t19p/WPce9sjCetHU55V+YS\n",
       "jzH7n+M++b6c/Q5zZrVPOO1wyv8OzsLSlLt0btO9yeL2+mjN9ys4PBc73cNsjP+ODnOG5yw9GGG+\n",
       "X7Wz+exX914XnsPwmY3vs1e+h+k4u+ddOePxbRoei/CRqdUOp3PSS/Kdn/H4uUnfDYV3SO7P/15Y\n",
       "O82ZxZ04X6F2GveqHPLw3ZDmTN8hlTGmsWHcCee81mqfT76O+RjjOz/NWTo/4XdNuo7dcWvl826O\n",
       "80tBAAAAABhGUxAAAAAAhtEUBAAAAIBhNAUBAAAAYBhNQQAAAAAYRlMQAAAAAIbRFAQAAACAYTQF\n",
       "AQAAAGAYTUEAAAAAGObz9gD43c7tAfBfS/dwPzqKMSzjP/guC/RdxvnP4pmEgeeB10I6xlPYlh0G\n",
       "pznzfIX/n4ZrucPAUu0wZ1w7zXfyMZ79EUa+s7DS+oSx6Rh3OsZ0zpWc6Vya49Za65XGhvOuXEDx\n",
       "3qQPYvzAxtLHIX0O00ehVDvOGY6xckXG+x3eP+ke5ikrgaHKiy4LO2ngbo57Imfh/onfiWlceJ+V\n",
       "3sVhbPtc1lonvZ9vvkPinOl9X3nHfof1yeazw5xpnF8KAgAAAMAwmoIAAAAAMIymIAAAAAAMoykI\n",
       "AAAAAMNoCgIAAADAMJqCAAAAADCMpiAAAAAADKMpCAAAAADDaAoCAAAAwDCaggAAAAAwzOftAdDl\n",
       "3B4Af5z0TOxHR/HdPbM632HN743xO6xOqnYzpzPvfbb3zkd5Tu/uVLKd8P+Ye72zfDv8v+jJ8v2q\n",
       "nc0or53vzQ7X58TnJ4xL57LWWuHerBPudaH2CXOm80n3sDLGW7Xj81jKme31fhX2MDw/O9zr88rO\n",
       "+K7c5O/0nIU57z1ea7/Tu68yyPReyeJO4Y6M17z5PVf7qOmuHeZL49bK7/wwZ+X+Wel9Ed9T4bwL\n",
       "91T3GEu14/2+8z6s5UzP5BNnN51P+l1aea7T2N4x+qUgAAAAAAyjKQgAAAAAw2gKAgAAAMAwmoIA\n",
       "AAAAMIymIAAAAAAMoykIAAAAAMNoCgIAAADAMJqCAAAAADCMpiAAAAAADPN5ewD8nXN7AIxQOWf7\n",
       "sVHwu9zbw7zyzzlntZlkz+K5uYc7HOMTr6902qd3fXZhvc8OY8Mx7sL/bk+4N+lCpvMunccTzmen\n",
       "8y78bzvNmZ6fNF96Jko5L8U9kvOd1073O30W0osqfrby2BOuz658o8VnrfmMl/bwpvgl0lz2iXd2\n",
       "uodpusodEL4b0nmX7sjmnA/c4/E7MV3Hyjs2nE/73lTOT/f9U6id703zuXjkHdu7h34pCAAAAADD\n",
       "aAoCAAAAwDCaggAAAAAwjKYgAAAAAAyjKQgAAAAAw2gKAgAAAMAwmoIAAAAAMIymIAAAAAAMoykI\n",
       "AAAAAMN83h7ATOf2AABa7Aej58nWZ4fvkGfeNOEYw60+hUGmp+eEgTssftLJFIrvcDbpXB6pHa94\n",
       "PsgdruWJJ15ZoPRgpIc3Xcf8/+/p3qRzSfcwr9uf8+zC+ux3mDO9p7rPY56z+5w9kTO+S594t6fv\n",
       "htId+UDO7oRxaLw5YVzhDug+45V3bHyvdNd+4Dm8uD7x78LS+7kyxu41v1n7ge+k7pzp/eyXggAA\n",
       "AAAwjKYgAAAAAAyjKQgAAAAAw2gKAgAAAMAwmoIAAAAAMIymIAAAAAAMoykIAAAAAMNoCgIAAADA\n",
       "MJqCAAAAADCMpiAAAAAADPN5ewAA8Lh9qe55Imk2mR0WP6XFeWRCl6TzzuccZ2wPrEhzdscVYncY\n",
       "V1mf9pzNc6nE3op7pHZe+lusT/Mzewq1d1o7ztn/Dmm/0SqvpJ0G3/pgKNSOh/gN3iFP3D/d8/4O\n",
       "93gpZxbW//VTuC8e2etLZ7dyj7c/21mcXwoCAAAAwDCaggAAAAAwjKYgAAAAAAyjKQgAAAAAw2gK\n",
       "AgAAAMAwmoIAAAAAMIymIAAAAAAMoykIAAAAAMNoCgIAAADAMJ+3BwBAhz2s7t3SscoYz2OjuODm\n",
       "5txcyHTe/euzw5z9q/MdHsR8lCeNzBMWfI+1zNx7Fr6FHc77FNYnPpPde3Pxzi29Y7vPWjrvB/Yw\n",
       "vqea4yqeyBnX7g28+3n2xDpevJ9vnovu9/vFvdnN6+iXggAAAAAwjKYgAAAAAAyjKQgAAAAAw2gK\n",
       "AgAAAMAwmoIAAAAAMIymIAAAAAAMoykIAAAAAMNoCgIAAADAMJqCAAAAADDM5+0BAABP2GHceXQU\n",
       "31+6jmtZy0kq5+In1b7pG8x7h2N85Kq4deffvCO/S+0/W2llvsW0uwfZP+knroBrXyCPnIk0aaF4\n",
       "8zi/xaMQ8ktBAAAAABhGUxAAAAAAhtEUBAAAAIBhNAUBAAAAYBhNQQAAAAAYRlMQAAAAAIbRFAQA\n",
       "AACAYTQFAQAAAGAYTUEAAAAAGObz9gAAgCec2wP4IawjEBp5Xdyc9MgFb7cLsTNXvH/W6Zp/i/V+\n",
       "ZJBp0kLx5nGm6SrP1y1+KQgAAAAAw2gKAgAAAMAwmoIAAAAAMIymIAAAAAAMoykIAAAAAMNoCgIA\n",
       "AADAMJqCAAAAADCMpiAAAAAADKMpCAAAAADDaAoCAAAAwDCftwcAQIcTxu1LdR+ofbE0/6SyOTdz\n",
       "dkvH2D+Xe6vzHfalIpzPuXnGv8OauwN+e774TH6HdQw9MpWL63PCj5Wd3lP/+VD+pngYFxbfT3yg\n",
       "/aAzXphLvjM374qbe9P93Ny8K9LnKwvzS0EAAAAAGEZTEAAAAACG0RQEAAAAgGE0BQEAAABgGE1B\n",
       "AAAAABhGUxAAAAAAhtEUBAAAAIBhNAUBAAAAYBhNQQAAAAAY5vP2AADgcef2ADplk/keU745yv7a\n",
       "ccZHpp0m7Y6rCHOe/jGe9vl0zyVP2b6HpTE25/wWtR94FuIx9peOhWPclTG2r/kTe9Ocbz9Q/IRJ\n",
       "S7VT6QKFxSt3QHrY4iH2n/HTfk/ltbtzpsen9H699Z4rad6bwhmPz098BWT5/FIQAAAAAIbRFAQA\n",
       "AACAYTQFAQAAAGAYTUEAAAAAGEZTEAAAAACG0RQEAAAAgGE0BQEAAABgGE1BAAAAABhGUxAAAAAA\n",
       "hvm8PYCZdhh3Hh0FwO+V3mnpHTlT/5vhgYw3X19h8XiIpcmksd1xeWye8YExxmv5c2rvB/Ywnctu\n",
       "n3M19p/V1qc7Z+96l2LTPXzijN98DrvXvHR8Lr2Ynih78U/JvHRYfBe++eLPyOZzluZ7xMVvkPY7\n",
       "Jb/TzgO1732j3Rtjms0vBQEAAABgGE1BAAAAABhGUxAAAAAAhtEUBAAAAIBhNAUBAAAAYBhNQQAA\n",
       "AAAYRlMQAAAAAIbRFAQAAACAYTQFAQAAAGAYTUEAAAAAGObz9gAA+L5OIXa3Z80z3pOvUGUtb2XM\n",
       "c3bHrXXa5/PE+qSVw9qnMMY4trl2YYz5Hj6wPrfm/cP2cMc53+2123OGcfGcK7W/wRnP9/qB9SnN\n",
       "u7n2Telnzbf4TLp3xtOz+8y7OL2nwt9mXX2++r/lvkXtm2O89J3tl4IAAAAAMIymIAAAAAAMoykI\n",
       "AAAAAMNoCgIAAADAMJqCAAAAADCMpiAAAAAADKMpCAAAAADDaAoCAAAAwDCaggAAAAAwzOftAfB3\n",
       "diH2PDYKfrrKOeP7S++K/nPRfUvti/fe3Ru3u3qe75yLM49r98adyno3r0+pdhp73s21nxjjA7Xj\n",
       "nNn65LXTfIXYS89CKTYdY3geazkvxa210j3cT9QO17K99s09LN0BeSj/vfQb7ZTuyNAJv2F3/xnf\n",
       "Ye0TP6/5b7jSb7R4by7ekU/czzusHX//pOeidI/fuZ/9UhAAAAAAhtEUBAAAAIBhNAUBAAAAYBhN\n",
       "QQAAAAAYRlMQAAAAAIbRFAQAAACAYTQFAQAAAGAYTUEAAAAAGEZTEAAAAACG+bw9ALrsMO48Ogr+\n",
       "JOmZ4O9Unph8xdOsN/fwzx/jz7vNumeU5TuPLGRYuzTn5pzxxPMx5rXf92p3x8VzWYU1z3KeSu0w\n",
       "ZzrGndauPGBhzrx2c75KzvbncK2dxravY2UPm5+bJ56v7nk/sj7hc1h5h8Sh3S/F/u+k7/H9k94V\n",
       "+W+Uut+x+2R7U/pW6X5uSu+5cC0vvkNO/I594Duyfc37x5jfab1j9EtBAAAAABhGUxAAAAAAhtEU\n",
       "BAAAAIBhNAUBAAAAYBhNQQAAAAAYRlMQAAAAAIbRFAQAAACAYTQFAQAAAGAYTUEAAAAAGObz9gD4\n",
       "3XYYdx4dBf+NdA9pUXkURm7NT1ug73D3ZWM88VQqcw5rpznzQeajDHM+Mcab6xPPO8153llY6fxk\n",
       "OfN5V9YnrX0pbq183lfH+B1qNz9fhTHuW2Nca+1b8y6NsT9n7ImcWeFCaPadtHeaM8t3wrprrbVe\n",
       "aWz626PC+Ym/f7qf7cL6hDl3uObn5L/hSp+vOOdPeheXYi+9iwux+RnP4vxSEAAAAACG0RQEAAAA\n",
       "gGE0BQEAAABgGE1BAAAAABhGUxAAAAAAhtEUBAAAAIBhNAUBAAAAYBhNQQAAAAAYRlMQAAAAAIbR\n",
       "FAQAAACAYT5vD4A/1X4g53kg50/yxJrzvVWeme9wfibeAf1zPqc7Z57vpLHxGCtzyWLjMcb53mG+\n",
       "tdZJYx+oHcf2jjGfcx570pwP1L4WV8rZvDeFMe609jvLuR9Ynzhnd7611nr37k2t9p2zG5+JtQpn\n",
       "t/tdU9Gds/J9ltYOc4brs3f+O6H4SO4w8ImfKKXLGA5xv/I9PKd3b2rvkLR27/0Tv7N/BYdx996x\n",
       "7fOujLH9Wy6L80tBAAAAABhGUxAAAAAAhtEUBAAAAIBhNAUBAAAAYBhNQQAAAAAYRlMQAAAAAIbR\n",
       "FAQAAACAYTQFAQAAAGAYTUEAAAAAGObz9gCYZN8eAMA/OL3ZSul6a6f5TqVuPKEnar9ba3fP5Vdk\n",
       "WjucS+EAnTQ2rH3i9U7j8tpxzjhfHrvjvekfY177qzlfYR3f3evzwB1wcQ/jc9a9jpXYeIzN99la\n",
       "+X4/cD+3v2KfKJz+qXTCwJ0mLNxT4SBP+tuj9FlYK/45006PWbrgpXs8XJ8wLs231lrnnS3Q3s3f\n",
       "AQ+85054JuP3XCFn//vr3j2exvmlIAAAAAAMoykIAAAAAMNoCgIAAADAMJqCAAAAADCMpiAAAAAA\n",
       "DKMpCAAAAADDaAoCAAAAwDCaggAAAAAwjKYgAAAAAAzzeXsAAD/FOVnc3o9Ub873yCBD3XN5oHJ/\n",
       "YEGW86S104N7uXZ3zjTfqazPebfWXivLV4tN1zHMl8attU46xrj2V1y7fT4PrM+t2vvdP8b9wPrE\n",
       "OcP5xPN+YH3iuCf2Js2Z3n2lM978bii9Yu99W8RO+O2107mk33KVb74sNs14Kr9RSs/FO4vbr/Cd\n",
       "XfpMCmfeHbdW4f5Ja/e/Q85uvvvSfGs98N4Ov0HOR5hvrRO/Y9NDmcX5pSAAAAAADKMpCAAAAADD\n",
       "aAoCAAAAwDCaggAAAAAwjKYgAAAAAAyjKQgAAAAAw2gKAgAAAMAwmoIAAAAAMIymIAAAAAAMoykI\n",
       "AAAAAMN81sLPM6MAGCS9Sfejo/gnf/59fx4ZYnfS/kGeNGe8QPkYu2vH+Uo532G+MC7Ntyrrk+U8\n",
       "8RifyNm9joXY7ri11o5zfrXWjusWasc530/sYfP6vMN8a8Xzyff6gXOWrvm7964o1U7fDd351iqs\n",
       "eZaz9J30zEdDr53NKJ5KmC+OW2utHf6maIfPa+EnSvHjkOYM13G/8/VJv0F2eHpPYW/Su++E89nh\n",
       "Hj7xrRLP5eI3yCNjjL85s3dnWtsvBQEAAABgGE1BAAAAABhGUxAAAAAAhtEUBAAAAIBhNAUBAAAA\n",
       "YBhNQQAAAAAYRlMQAAAAAIbRFAQAAACAYTQFAQAAAGCYz9sDABjntIbV7OZ8jwzyOxTvr33ig5HW\n",
       "zuLiuoXaec53Xrp5ffrXe611wvmkcZX16a4dxsV1S7W/evM9kHN3z6WS8909xnwdu8dY28M7Z3yn\n",
       "c7ldO17z9O5rzrfW2nHtB+7nux8smZN9pO34Wy4LPGHdtVbhJ0VhzsIR32HtyrUSeRXWJ/5EC/f6\n",
       "ndc+O31m070J86V1V/4Oaf+mWfl9mq/jz3nP+aUgAAAAAAyjKQgAAAAAw2gKAgAAAMAwmoIAAAAA\n",
       "MIymIAAAAAAMoykIAAAAAMNoCgIAAADAMJqCAAAAADCMpiAAAAAADPO51rk9BoAL0rtvPzqK3+7q\n",
       "lf8d3je9YzyVfCeNzeLi2nHdynz6a6/1Ditnces051tr5WNM16e/dpwzrl0Y4/lqrb0r69M97+a5\n",
       "rLXWet/Zw53WXSseY7w3hdrxONMxdq93qXZ4fip7E695dv/Ee1i5x9PY5vdhLedFO/zmPGHcDvd6\n",
       "F34nFJ7Jk86l8hOl8Eim04mPxDv/WyDewnQP07i18vsnHOR54F180rsv3MRS7fb3+0cY13+Pd++N\n",
       "XwoCAAAAwDCaggAAAAAwjKYgAAAAAAyjKQgAAAAAw2gKAgAAAMAwmoIAAAAAMIymIAAAAAAMoykI\n",
       "AAAAAMNoCgIAAADAMJ+3BwDwZzsP5NwXa/8k/etzunOeSr4sNh9jd1wh9rzDbIXa8Vo2r2M4l7XW\n",
       "OukY0/Up1M7H+RXWzuJWGrdWPsY4rr/2jued5qvsYVY7HuO7fw/j+YS1a+sTrvk7HWNzXKV297Ow\n",
       "VjzOnd5T8Vzu3eO1d2xaujnnTr/5CrXTnCeM24VzFtberyyucsTjz+fmdCecy1prrXA+O6x+CpPe\n",
       "4T6ed/O5KNyRac703XBu1n7gOyD+7mv+5vNLQQAAAAAYRlMQAAAAAIbRFAQAAACAYTQFAQAAAGAY\n",
       "TUEAAAAAGEZTEAAAAACG0RQEAAAAgGE0BQEAAABgGE1BAAAAABhGUxAAAAAAhvm8PQCAec7tAVxy\n",
       "b96nu/ZJ8+V18zGGceEYS2vTnfO889IrjE1zxrXzMeaxD9Tunnf7Ouax+3w9ULs5Z5rvHcattXZa\n",
       "+52u4wN7GNaOc6b5nqgdn8cHnsN0LoX1yc9P8/0cvw8Lsd1xJd3fC7s331pr7TBnGrcqYwxj31lc\n",
       "PMS11kl/zpRuYXjEd2F94tOTTrxyftL7Iqy9w3xn999TJ55L/o6ND9D5COPS74rKGLu/VbI4vxQE\n",
       "AAAAgGE0BQEAAABgGE1BAAAAABhGUxAAAAAAhtEUBAAAAIBhNAUBAAAAYBhNQQAAAAAYRlMQAAAA\n",
       "AIbRFAQAAACAYT5vD+DPt28PAL6hc3sA/Db39vo8UfukObO4R1YnTBqvTzzntc56t+Ys7WF7zmwu\n",
       "p7A+66Q503UM49Za+XzSnP1j3OerN2eab621m3Pu9wN72J0zjIvnstbV9YnPzzuNC2tX1qc5Z21v\n",
       "0trpu6H3vi/FdseVdOd84G/JHebsjnsiZ+EnSjs9kmnCtPbJ12fHj1eWcxfOzwkXaIe143yFe/yk\n",
       "d1q82ZV3SPN3UvdcVmGMK3vPpXPxS0EAAAAAGEZTEAAAAACG0RQEAAAAgGE0BQEAAABgGE1BAAAA\n",
       "ABhGUxAAAAAAhtEUBAAAAIBhNAUBAAAAYBhNQQAAAAAY5vP2APrt2wMAHnkOzwM5+f/dW+/zRO2T\n",
       "5szi8hEW5hKOMV+f7nwP5Iz3Za2z3mFgFnfS2mG+Xzl7x/gtap+vLO6JnIX1iXO+e9dnl9Yni41z\n",
       "vvvXcXevTzrGtfr3Js2XxhViu9exUju+d7vzFWJ38zu7GtqrUDj9fD5Z4NlhwjSuEvsKf3tUeb7C\n",
       "lDs9unHhB/6uSdcx3Ou18nslPhfp/VPZw3Bz4vfcyX/jFn8nhe+lvT966671wDdaFueXggAAAAAw\n",
       "jKYgAAAAAAyjKQgAAAAAw2gKAgAAAMAwmoIAAAAAMIymIAAAAAAMoykIAAAAAMNoCgIAAADAMJqC\n",
       "AAAAADDM/wICrBtOd6CAxQAAAABJRU5ErkJggg==\n",
       "\" transform=\"translate(470, 124)\"/>\n",
       "</g>\n",
       "<defs>\n",
       "  <clipPath id=\"clip733\">\n",
       "    <rect x=\"2160\" y=\"124\" width=\"73\" height=\"1286\"/>\n",
       "  </clipPath>\n",
       "</defs>\n",
       "<g clip-path=\"url(#clip733)\">\n",
       "<image width=\"72\" height=\"1285\" xlink:href=\"data:image/png;base64,\n",
       "iVBORw0KGgoAAAANSUhEUgAAAEgAAAUFCAYAAAC0E4VSAAALMElEQVR4nO3dwa3kRhAFQY5Q/lsh\n",
       "L6XtlgWqPJKHCAsGiQeit4d/9vfv+fs+/K+/3v4AXydQECgIFAQKc+6/b3+GT7OgIFAQKAgU5t4/\n",
       "b3+GT7OgIFAQKAgUnKSDBQWBgkBBoDDXQ3plQUGgIFAQKMw9HtIbCwoCBYGCQMFJOlhQECgIFAQK\n",
       "HtLBgoJAQaAgUHDdESwoCBQECgKFeZykVxYUBAoCBYGC645gQUGgIFAQKMzjumNlQUGgIFAQKMxz\n",
       "/nn7M3yaBQWBgkBBoOBOOlhQECgIFAQKrjuCBQWBgkBBoOAhHSwoCBQECgIF1x3BgoJAQaAgUJif\n",
       "k/TKgoJAQaAgUJjn+D3pjQUFgYJAQaDgJB0sKAgUBAoCBSfpYEFBoCBQECh4uyNYUBAoCBQECvNz\n",
       "kl5ZUBAoCBQECl7BCxYUBAoCBYGCk3SwoCBQECgIFHxxGCwoCBQECgIFJ+lgQUGgIFAQKDhJBwsK\n",
       "AgWBgkDBSTpYUBAoCBQECvOc8/Zn+DQLCgIFgYJAwUk6WFAQKAgUBArupIMFBYGCQEGg4CEdLCgI\n",
       "FAQKAoX5uZNeWVAQKAgUBApO0sGCgkBBoCBQ8HZHsKAgUBAoCBRcdwQLCgIFgYJAwXVHsKAgUBAo\n",
       "CBRcdwQLCgIFgYJAwUM6WFAQKAgUBAr+4jBYUBAoCBQECk7SwYKCQEGgIFDwkA4WFAQKAgWBgod0\n",
       "sKAgUBAoCBQ8pIMFBYGCQEGgMM/1kN5YUBAoCBQECk7SwYKCQEGgIFDwkA4WFAQKAgWBgod0sKAg\n",
       "UBAoCBTmOfftz/BpFhQECgIFgYKTdLCgIFAQKAgUnKSDBQWBgkBBoCBQ8E+NYEFBoCBQECj4p0aw\n",
       "oCBQECgIFOZxkF5ZUBAoCBQECvNcJ+mNBQWBgkBBoOAkHSwoCBQECgIFD+lgQUGgIFAQKIwfoNpZ\n",
       "UBAoCBQECk7SwYKCQEGgIFDwkA4WFAQKAgWBwjzn9/Zn+DQLCgIFgYJAYe71kN5YUBAoCBQECq47\n",
       "ggUFgYJAQaDguiNYUBAoCBQECnOPRht1gkBBoCBQcJIOFhQECgIFgcI8vjhcWVAQKAgUBApznaRX\n",
       "FhQECgIFgcI87qRX6gSBgkBBoOAkHSwoCBQECgIFd9LBgoJAQaAgUPAKXlAnCBQECgIFr+AFCwoC\n",
       "BYGCQMGddLCgIFAQKAgU5l6NNuoEgYJAQaDguiNYUBAoCBQECq47ggUFgYJAQaAwj+uOlTpBoCBQ\n",
       "ECg4SQcLCgIFgYJAwUM6WFAQKAgUBAr+4jBYUBAoCBQECv7iMKgTBAoCBYGC/4g2WFAQKAgUBAru\n",
       "pIMFBYGCQEGg4PekgzpBoCBQECi47ggWFAQKAgWBguuOYEFBoCBQECg4SQcLCgIFgYJAwSt4QZ0g\n",
       "UBAoCBScpIMFBYGCQEGg4E46WFAQKAgUBApO0sGCgkBBoCBQ8KP/wYKCQEGgIFDw32cFdYJAQaAg\n",
       "UHDdESwoCBQECgIFXxwGCwoCBYGCQMFJOlhQECgIFAQKczykVxYUBAoCBYGCvzgM6gSBgkBBoOC6\n",
       "I1hQECgIFAQKHtLBgoJAQaAgUPB2R7CgIFAQKAgUBAr+qREsKAgUBAoCBQ/pYEFBoCBQECj4u/mg\n",
       "ThAoCBQECnNc2q8sKAgUBAoCBdcdwYKCQEGgIFDwkA4WFAQKAgWBgod0sKAgUBAoCBT8uEmwoCBQ\n",
       "ECgIFJykgwUFgYJAQaDgIR0sKAgUBAoCBe9JB3WCQEGgIFDwnnSwoCBQECgIFFx3BAsKAgWBgkDB\n",
       "QzpYUBAoCBQECl7BCxYUBAoCBYGCk3SwoCBQECgIFOY+HtIbCwoCBYGCQMF1R7CgIFAQKAgUXHcE\n",
       "CwoCBYGCQMFJOlhQECgIFAQKTtLBgoJAQaAgUHCSDhYUBAoCBYGCk3SwoCBQECgIFDykgwUFgYJA\n",
       "QaAwx3vSKwsKAgWBgkDBSTpYUBAoCBQECr44DBYUBAoCBYHC3Pv2R/g2CwoCBYGCQMFJOlhQECgI\n",
       "FAQKfmApWFAQKAgUBApO0sGCgkBBoCBQ8HZHsKAgUBAoCBS8Jx0sKAgUBAoCBW93BAsKAgWBgkDB\n",
       "nXSwoCBQECgIFNxJBwsKAgWBgkDBnXSwoCBQECgIFFx3BAsKAgWBgkDBF4fBgoJAQaAgUHDdESwo\n",
       "CBQECgIFXxwGCwoCBYGCQGHO25/g4ywoCBQECgIFJ+lgQUGgIFAQKHi7I1hQECgIFAQKrjuCBQWB\n",
       "gkBBoOC6I1hQECgIFAQKTtLBgoJAQaAgUHCSDhYUBAoCBYGCLw6DBQWBgkBBoDD+KnxnQUGgIFAQ\n",
       "KDhJBwsKAgWBgkBBoOCb1WBBQaAgUBAo+GY1WFAQKAgUBApO0sGCgkBBoCBQcJIOFhQECgIFgcIc\n",
       "77+sLCgIFAQKAgXXHcGCgkBBoCBQcN0RLCgIFAQKAgUn6WBBQaAgUBAo+J96gwUFgYJAQaDgf+oN\n",
       "FhQECgIFgYK3O4IFBYGCQEGg4BeoggUFgYJAQaDgF6iCBQWBgkBBoOCLw2BBQaAgUBAoeAUvWFAQ\n",
       "KAgUBAr+mCVYUBAoCBQECk7SwYKCQEGgIFDwCl6woCBQECgIFLyCFywoCBQECgIFJ+lgQUGgIFAQ\n",
       "KHgFL1hQECgIFAQKfrsjWFAQKAgUBAquO4IFBYGCQEGg4IvDYEFBoCBQECg4SQcLCgIFgYJAwUk6\n",
       "WFAQKAgUBApO0sGCgkBBoCBQ8JAOFhQECgIFgYLrjmBBQaAgUBAoOEkHCwoCBYGCQMFJOlhQECgI\n",
       "FAQKTtLBgoJAQaAgUPDbHcGCgkBBoCBQ8KP/wYKCQEGgIFBw3REsKAgUBAoChbmPp/TGgoJAQaAg\n",
       "UHCSDhYUBAoCBYGCLw6DBQWBgkBBoOCLw2BBQaAgUBAouO4IFhQECgIFgYIvDoMFBYGCQEGg4CQd\n",
       "LCgIFAQKAgW/3REsKAgUBAoChTle71hZUBAoCBQECt7uCBYUBAoCBYHCXCfplQUFgYJAQaDgJB0s\n",
       "KAgUBAoCBXfSwYKCQEGgIFDwdkewoCBQECgIFOb4Y5aVBQWBgkBBoOC6I1hQECgIFAQKAgV/Nx8s\n",
       "KAgUBAoCBa+/BAsKAgWBgkDBpX2woCBQECgIFFx3BAsKAgWBgkBhzuPCY2NBQaAgUBAouO4IFhQE\n",
       "CgIFgYKHdLCgIFAQKAgU3EkHCwoCBYGCQMGddLCgIFAQKAgU5vycpDcWFAQKAgWBgpN0sKAgUBAo\n",
       "CBTmekivLCgIFAQKAgUn6WBBQaAgUBAozPl5SG8sKAgUBAoCBSfpYEFBoCBQECi4kw4WFAQKAgWB\n",
       "gpN0sKAgUBAoCBQ8pIMFBYGCQEGg4IvDYEFBoCBQECjMff68/Rk+zYKCQEGgIFBw3REsKAgUBAoC\n",
       "BW93BAsKAgWBgkBhznXdsbGgIFAQKAgUnKSDBQWBgkBBoDDHF4crCwoCBYGCQMFJOlhQECgIFAQK\n",
       "TtLBgoJAQaAgUJh7naQ3FhQECgIFgYLrjmBBQaAgUBAoeAUvWFAQKAgUBApO0sGCgkBBoCBQmOsk\n",
       "vbKgIFAQKAgUnKSDBQWBgkBBoDDH2x0rCwoCBYGCQMFPlQYLCgIFgYJAwXvSwYKCQEGgIFBwJx0s\n",
       "KAgUBAoCBSfpYEFBoCBQECh4SAcLCgIFgYJAwReHwYKCQEGgIFBwkg4WFAQKAgWBwjy+OFxZUBAo\n",
       "CBQECk7SwYKCQEGgIFDwCl6woCBQECgIFOZxkl5ZUBAoCBQECt7uCBYUBAoCBYGCLw6DBQWBgkBB\n",
       "oOC6I1hQECgIFAQKc5/79mf4NAsKAgWBgkDBdUewoCBQECgIFOZxkl5ZUBAoCBQECv8BchLtGWsS\n",
       "xKgAAAAASUVORK5CYII=\n",
       "\" transform=\"translate(2161, 124)\"/>\n",
       "</g>\n",
       "<path clip-path=\"url(#clip730)\" d=\"M2280.7 1084.56 Q2277.09 1084.56 2275.26 1088.12 Q2273.45 1091.67 2273.45 1098.8 Q2273.45 1105.9 2275.26 1109.47 Q2277.09 1113.01 2280.7 1113.01 Q2284.33 1113.01 2286.14 1109.47 Q2287.97 1105.9 2287.97 1098.8 Q2287.97 1091.67 2286.14 1088.12 Q2284.33 1084.56 2280.7 1084.56 M2280.7 1080.86 Q2286.51 1080.86 2289.57 1085.46 Q2292.64 1090.05 2292.64 1098.8 Q2292.64 1107.52 2289.57 1112.13 Q2286.51 1116.71 2280.7 1116.71 Q2274.89 1116.71 2271.81 1112.13 Q2268.76 1107.52 2268.76 1098.8 Q2268.76 1090.05 2271.81 1085.46 Q2274.89 1080.86 2280.7 1080.86 Z\" fill=\"#000000\" fill-rule=\"nonzero\" fill-opacity=\"1\" /><path clip-path=\"url(#clip730)\" d=\"M2300.86 1110.16 L2305.75 1110.16 L2305.75 1116.04 L2300.86 1116.04 L2300.86 1110.16 Z\" fill=\"#000000\" fill-rule=\"nonzero\" fill-opacity=\"1\" /><path clip-path=\"url(#clip730)\" d=\"M2325.93 1084.56 Q2322.32 1084.56 2320.49 1088.12 Q2318.69 1091.67 2318.69 1098.8 Q2318.69 1105.9 2320.49 1109.47 Q2322.32 1113.01 2325.93 1113.01 Q2329.57 1113.01 2331.37 1109.47 Q2333.2 1105.9 2333.2 1098.8 Q2333.2 1091.67 2331.37 1088.12 Q2329.57 1084.56 2325.93 1084.56 M2325.93 1080.86 Q2331.74 1080.86 2334.8 1085.46 Q2337.88 1090.05 2337.88 1098.8 Q2337.88 1107.52 2334.8 1112.13 Q2331.74 1116.71 2325.93 1116.71 Q2320.12 1116.71 2317.04 1112.13 Q2313.99 1107.52 2313.99 1098.8 Q2313.99 1090.05 2317.04 1085.46 Q2320.12 1080.86 2325.93 1080.86 Z\" fill=\"#000000\" fill-rule=\"nonzero\" fill-opacity=\"1\" /><path clip-path=\"url(#clip730)\" d=\"M2350.12 1112.11 L2366.44 1112.11 L2366.44 1116.04 L2344.5 1116.04 L2344.5 1112.11 Q2347.16 1109.35 2351.74 1104.72 Q2356.35 1100.07 2357.53 1098.73 Q2359.77 1096.2 2360.65 1094.47 Q2361.56 1092.71 2361.56 1091.02 Q2361.56 1088.26 2359.61 1086.53 Q2357.69 1084.79 2354.59 1084.79 Q2352.39 1084.79 2349.94 1085.56 Q2347.51 1086.32 2344.73 1087.87 L2344.73 1083.15 Q2347.55 1082.01 2350.01 1081.44 Q2352.46 1080.86 2354.5 1080.86 Q2359.87 1080.86 2363.06 1083.54 Q2366.26 1086.23 2366.26 1090.72 Q2366.26 1092.85 2365.45 1094.77 Q2364.66 1096.67 2362.55 1099.26 Q2361.97 1099.93 2358.87 1103.15 Q2355.77 1106.34 2350.12 1112.11 Z\" fill=\"#000000\" fill-rule=\"nonzero\" fill-opacity=\"1\" /><path clip-path=\"url(#clip730)\" d=\"M2376.3 1081.48 L2394.66 1081.48 L2394.66 1085.42 L2380.58 1085.42 L2380.58 1093.89 Q2381.6 1093.54 2382.62 1093.38 Q2383.64 1093.19 2384.66 1093.19 Q2390.45 1093.19 2393.82 1096.37 Q2397.2 1099.54 2397.2 1104.95 Q2397.2 1110.53 2393.73 1113.63 Q2390.26 1116.71 2383.94 1116.71 Q2381.76 1116.71 2379.5 1116.34 Q2377.25 1115.97 2374.84 1115.23 L2374.84 1110.53 Q2376.93 1111.67 2379.15 1112.22 Q2381.37 1112.78 2383.85 1112.78 Q2387.85 1112.78 2390.19 1110.67 Q2392.53 1108.56 2392.53 1104.95 Q2392.53 1101.34 2390.19 1099.24 Q2387.85 1097.13 2383.85 1097.13 Q2381.97 1097.13 2380.1 1097.55 Q2378.25 1097.96 2376.3 1098.84 L2376.3 1081.48 Z\" fill=\"#000000\" fill-rule=\"nonzero\" fill-opacity=\"1\" /><path clip-path=\"url(#clip730)\" d=\"M2280.7 776.311 Q2277.09 776.311 2275.26 779.876 Q2273.45 783.418 2273.45 790.547 Q2273.45 797.654 2275.26 801.219 Q2277.09 804.76 2280.7 804.76 Q2284.33 804.76 2286.14 801.219 Q2287.97 797.654 2287.97 790.547 Q2287.97 783.418 2286.14 779.876 Q2284.33 776.311 2280.7 776.311 M2280.7 772.608 Q2286.51 772.608 2289.57 777.214 Q2292.64 781.798 2292.64 790.547 Q2292.64 799.274 2289.57 803.881 Q2286.51 808.464 2280.7 808.464 Q2274.89 808.464 2271.81 803.881 Q2268.76 799.274 2268.76 790.547 Q2268.76 781.798 2271.81 777.214 Q2274.89 772.608 2280.7 772.608 Z\" fill=\"#000000\" fill-rule=\"nonzero\" fill-opacity=\"1\" /><path clip-path=\"url(#clip730)\" d=\"M2300.86 801.913 L2305.75 801.913 L2305.75 807.793 L2300.86 807.793 L2300.86 801.913 Z\" fill=\"#000000\" fill-rule=\"nonzero\" fill-opacity=\"1\" /><path clip-path=\"url(#clip730)\" d=\"M2325.93 776.311 Q2322.32 776.311 2320.49 779.876 Q2318.69 783.418 2318.69 790.547 Q2318.69 797.654 2320.49 801.219 Q2322.32 804.76 2325.93 804.76 Q2329.57 804.76 2331.37 801.219 Q2333.2 797.654 2333.2 790.547 Q2333.2 783.418 2331.37 779.876 Q2329.57 776.311 2325.93 776.311 M2325.93 772.608 Q2331.74 772.608 2334.8 777.214 Q2337.88 781.798 2337.88 790.547 Q2337.88 799.274 2334.8 803.881 Q2331.74 808.464 2325.93 808.464 Q2320.12 808.464 2317.04 803.881 Q2313.99 799.274 2313.99 790.547 Q2313.99 781.798 2317.04 777.214 Q2320.12 772.608 2325.93 772.608 Z\" fill=\"#000000\" fill-rule=\"nonzero\" fill-opacity=\"1\" /><path clip-path=\"url(#clip730)\" d=\"M2346.14 773.233 L2364.5 773.233 L2364.5 777.168 L2350.42 777.168 L2350.42 785.64 Q2351.44 785.293 2352.46 785.131 Q2353.48 784.946 2354.5 784.946 Q2360.28 784.946 2363.66 788.117 Q2367.04 791.288 2367.04 796.705 Q2367.04 802.284 2363.57 805.385 Q2360.1 808.464 2353.78 808.464 Q2351.6 808.464 2349.33 808.094 Q2347.09 807.723 2344.68 806.983 L2344.68 802.284 Q2346.76 803.418 2348.99 803.973 Q2351.21 804.529 2353.69 804.529 Q2357.69 804.529 2360.03 802.422 Q2362.37 800.316 2362.37 796.705 Q2362.37 793.094 2360.03 790.987 Q2357.69 788.881 2353.69 788.881 Q2351.81 788.881 2349.94 789.297 Q2348.08 789.714 2346.14 790.594 L2346.14 773.233 Z\" fill=\"#000000\" fill-rule=\"nonzero\" fill-opacity=\"1\" /><path clip-path=\"url(#clip730)\" d=\"M2386.26 776.311 Q2382.64 776.311 2380.82 779.876 Q2379.01 783.418 2379.01 790.547 Q2379.01 797.654 2380.82 801.219 Q2382.64 804.76 2386.26 804.76 Q2389.89 804.76 2391.7 801.219 Q2393.52 797.654 2393.52 790.547 Q2393.52 783.418 2391.7 779.876 Q2389.89 776.311 2386.26 776.311 M2386.26 772.608 Q2392.07 772.608 2395.12 777.214 Q2398.2 781.798 2398.2 790.547 Q2398.2 799.274 2395.12 803.881 Q2392.07 808.464 2386.26 808.464 Q2380.45 808.464 2377.37 803.881 Q2374.31 799.274 2374.31 790.547 Q2374.31 781.798 2377.37 777.214 Q2380.45 772.608 2386.26 772.608 Z\" fill=\"#000000\" fill-rule=\"nonzero\" fill-opacity=\"1\" /><path clip-path=\"url(#clip730)\" d=\"M2280.7 468.063 Q2277.09 468.063 2275.26 471.628 Q2273.45 475.169 2273.45 482.299 Q2273.45 489.405 2275.26 492.97 Q2277.09 496.512 2280.7 496.512 Q2284.33 496.512 2286.14 492.97 Q2287.97 489.405 2287.97 482.299 Q2287.97 475.169 2286.14 471.628 Q2284.33 468.063 2280.7 468.063 M2280.7 464.359 Q2286.51 464.359 2289.57 468.965 Q2292.64 473.549 2292.64 482.299 Q2292.64 491.026 2289.57 495.632 Q2286.51 500.215 2280.7 500.215 Q2274.89 500.215 2271.81 495.632 Q2268.76 491.026 2268.76 482.299 Q2268.76 473.549 2271.81 468.965 Q2274.89 464.359 2280.7 464.359 Z\" fill=\"#000000\" fill-rule=\"nonzero\" fill-opacity=\"1\" /><path clip-path=\"url(#clip730)\" d=\"M2300.86 493.664 L2305.75 493.664 L2305.75 499.544 L2300.86 499.544 L2300.86 493.664 Z\" fill=\"#000000\" fill-rule=\"nonzero\" fill-opacity=\"1\" /><path clip-path=\"url(#clip730)\" d=\"M2325.93 468.063 Q2322.32 468.063 2320.49 471.628 Q2318.69 475.169 2318.69 482.299 Q2318.69 489.405 2320.49 492.97 Q2322.32 496.512 2325.93 496.512 Q2329.57 496.512 2331.37 492.97 Q2333.2 489.405 2333.2 482.299 Q2333.2 475.169 2331.37 471.628 Q2329.57 468.063 2325.93 468.063 M2325.93 464.359 Q2331.74 464.359 2334.8 468.965 Q2337.88 473.549 2337.88 482.299 Q2337.88 491.026 2334.8 495.632 Q2331.74 500.215 2325.93 500.215 Q2320.12 500.215 2317.04 495.632 Q2313.99 491.026 2313.99 482.299 Q2313.99 473.549 2317.04 468.965 Q2320.12 464.359 2325.93 464.359 Z\" fill=\"#000000\" fill-rule=\"nonzero\" fill-opacity=\"1\" /><path clip-path=\"url(#clip730)\" d=\"M2344.91 464.984 L2367.14 464.984 L2367.14 466.975 L2354.59 499.544 L2349.7 499.544 L2361.51 468.919 L2344.91 468.919 L2344.91 464.984 Z\" fill=\"#000000\" fill-rule=\"nonzero\" fill-opacity=\"1\" /><path clip-path=\"url(#clip730)\" d=\"M2376.3 464.984 L2394.66 464.984 L2394.66 468.919 L2380.58 468.919 L2380.58 477.391 Q2381.6 477.044 2382.62 476.882 Q2383.64 476.697 2384.66 476.697 Q2390.45 476.697 2393.82 479.868 Q2397.2 483.039 2397.2 488.456 Q2397.2 494.035 2393.73 497.137 Q2390.26 500.215 2383.94 500.215 Q2381.76 500.215 2379.5 499.845 Q2377.25 499.475 2374.84 498.734 L2374.84 494.035 Q2376.93 495.169 2379.15 495.725 Q2381.37 496.28 2383.85 496.28 Q2387.85 496.28 2390.19 494.174 Q2392.53 492.067 2392.53 488.456 Q2392.53 484.845 2390.19 482.739 Q2387.85 480.632 2383.85 480.632 Q2381.97 480.632 2380.1 481.049 Q2378.25 481.465 2376.3 482.345 L2376.3 464.984 Z\" fill=\"#000000\" fill-rule=\"nonzero\" fill-opacity=\"1\" /><path clip-path=\"url(#clip730)\" d=\"M2280.7 159.814 Q2277.09 159.814 2275.26 163.379 Q2273.45 166.92 2273.45 174.05 Q2273.45 181.156 2275.26 184.721 Q2277.09 188.263 2280.7 188.263 Q2284.33 188.263 2286.14 184.721 Q2287.97 181.156 2287.97 174.05 Q2287.97 166.92 2286.14 163.379 Q2284.33 159.814 2280.7 159.814 M2280.7 156.11 Q2286.51 156.11 2289.57 160.717 Q2292.64 165.3 2292.64 174.05 Q2292.64 182.777 2289.57 187.383 Q2286.51 191.967 2280.7 191.967 Q2274.89 191.967 2271.81 187.383 Q2268.76 182.777 2268.76 174.05 Q2268.76 165.3 2271.81 160.717 Q2274.89 156.11 2280.7 156.11 Z\" fill=\"#000000\" fill-rule=\"nonzero\" fill-opacity=\"1\" /><path clip-path=\"url(#clip730)\" d=\"M2300.86 185.416 L2305.75 185.416 L2305.75 191.295 L2300.86 191.295 L2300.86 185.416 Z\" fill=\"#000000\" fill-rule=\"nonzero\" fill-opacity=\"1\" /><path clip-path=\"url(#clip730)\" d=\"M2316.74 187.36 L2324.38 187.36 L2324.38 160.995 L2316.07 162.661 L2316.07 158.402 L2324.33 156.735 L2329.01 156.735 L2329.01 187.36 L2336.65 187.36 L2336.65 191.295 L2316.74 191.295 L2316.74 187.36 Z\" fill=\"#000000\" fill-rule=\"nonzero\" fill-opacity=\"1\" /><path clip-path=\"url(#clip730)\" d=\"M2356.09 159.814 Q2352.48 159.814 2350.65 163.379 Q2348.85 166.92 2348.85 174.05 Q2348.85 181.156 2350.65 184.721 Q2352.48 188.263 2356.09 188.263 Q2359.73 188.263 2361.53 184.721 Q2363.36 181.156 2363.36 174.05 Q2363.36 166.92 2361.53 163.379 Q2359.73 159.814 2356.09 159.814 M2356.09 156.11 Q2361.9 156.11 2364.96 160.717 Q2368.04 165.3 2368.04 174.05 Q2368.04 182.777 2364.96 187.383 Q2361.9 191.967 2356.09 191.967 Q2350.28 191.967 2347.2 187.383 Q2344.15 182.777 2344.15 174.05 Q2344.15 165.3 2347.2 160.717 Q2350.28 156.11 2356.09 156.11 Z\" fill=\"#000000\" fill-rule=\"nonzero\" fill-opacity=\"1\" /><path clip-path=\"url(#clip730)\" d=\"M2386.26 159.814 Q2382.64 159.814 2380.82 163.379 Q2379.01 166.92 2379.01 174.05 Q2379.01 181.156 2380.82 184.721 Q2382.64 188.263 2386.26 188.263 Q2389.89 188.263 2391.7 184.721 Q2393.52 181.156 2393.52 174.05 Q2393.52 166.92 2391.7 163.379 Q2389.89 159.814 2386.26 159.814 M2386.26 156.11 Q2392.07 156.11 2395.12 160.717 Q2398.2 165.3 2398.2 174.05 Q2398.2 182.777 2395.12 187.383 Q2392.07 191.967 2386.26 191.967 Q2380.45 191.967 2377.37 187.383 Q2374.31 182.777 2374.31 174.05 Q2374.31 165.3 2377.37 160.717 Q2380.45 156.11 2386.26 156.11 Z\" fill=\"#000000\" fill-rule=\"nonzero\" fill-opacity=\"1\" /><polyline clip-path=\"url(#clip730)\" style=\"stroke:#000000; stroke-linecap:round; stroke-linejoin:round; stroke-width:4; stroke-opacity:1; fill:none\" points=\"2232.76,1409.37 2232.76,1102.39 2256.76,1102.39 2232.76,1102.39 2232.76,794.142 2256.76,794.142 2232.76,794.142 2232.76,485.893 2256.76,485.893 2232.76,485.893 2232.76,177.644 2256.76,177.644 2232.76,177.644 2232.76,124.324 \"/>\n",
       "</svg>\n"
      ],
      "text/html": [
       "<?xml version=\"1.0\" encoding=\"utf-8\"?>\n",
       "<svg xmlns=\"http://www.w3.org/2000/svg\" xmlns:xlink=\"http://www.w3.org/1999/xlink\" width=\"600\" height=\"400\" viewBox=\"0 0 2400 1600\">\n",
       "<defs>\n",
       "  <clipPath id=\"clip780\">\n",
       "    <rect x=\"0\" y=\"0\" width=\"2400\" height=\"1600\"/>\n",
       "  </clipPath>\n",
       "</defs>\n",
       "<path clip-path=\"url(#clip780)\" d=\"M0 1600 L2400 1600 L2400 0 L0 0  Z\" fill=\"#ffffff\" fill-rule=\"evenodd\" fill-opacity=\"1\"/>\n",
       "<defs>\n",
       "  <clipPath id=\"clip781\">\n",
       "    <rect x=\"480\" y=\"0\" width=\"1681\" height=\"1600\"/>\n",
       "  </clipPath>\n",
       "</defs>\n",
       "<path clip-path=\"url(#clip780)\" d=\"M112.177 1409.37 L2112.76 1409.37 L2112.76 124.324 L112.177 124.324  Z\" fill=\"#ffffff\" fill-rule=\"evenodd\" fill-opacity=\"1\"/>\n",
       "<defs>\n",
       "  <clipPath id=\"clip782\">\n",
       "    <rect x=\"112\" y=\"124\" width=\"2002\" height=\"1286\"/>\n",
       "  </clipPath>\n",
       "</defs>\n",
       "<polyline clip-path=\"url(#clip782)\" style=\"stroke:#000000; stroke-linecap:round; stroke-linejoin:round; stroke-width:2; stroke-opacity:0.1; fill:none\" points=\"156.394,1409.37 156.394,124.324 \"/>\n",
       "<polyline clip-path=\"url(#clip782)\" style=\"stroke:#000000; stroke-linecap:round; stroke-linejoin:round; stroke-width:2; stroke-opacity:0.1; fill:none\" points=\"475.085,1409.37 475.085,124.324 \"/>\n",
       "<polyline clip-path=\"url(#clip782)\" style=\"stroke:#000000; stroke-linecap:round; stroke-linejoin:round; stroke-width:2; stroke-opacity:0.1; fill:none\" points=\"793.776,1409.37 793.776,124.324 \"/>\n",
       "<polyline clip-path=\"url(#clip782)\" style=\"stroke:#000000; stroke-linecap:round; stroke-linejoin:round; stroke-width:2; stroke-opacity:0.1; fill:none\" points=\"1112.47,1409.37 1112.47,124.324 \"/>\n",
       "<polyline clip-path=\"url(#clip782)\" style=\"stroke:#000000; stroke-linecap:round; stroke-linejoin:round; stroke-width:2; stroke-opacity:0.1; fill:none\" points=\"1431.16,1409.37 1431.16,124.324 \"/>\n",
       "<polyline clip-path=\"url(#clip782)\" style=\"stroke:#000000; stroke-linecap:round; stroke-linejoin:round; stroke-width:2; stroke-opacity:0.1; fill:none\" points=\"1749.85,1409.37 1749.85,124.324 \"/>\n",
       "<polyline clip-path=\"url(#clip782)\" style=\"stroke:#000000; stroke-linecap:round; stroke-linejoin:round; stroke-width:2; stroke-opacity:0.1; fill:none\" points=\"2068.54,1409.37 2068.54,124.324 \"/>\n",
       "<polyline clip-path=\"url(#clip780)\" style=\"stroke:#000000; stroke-linecap:round; stroke-linejoin:round; stroke-width:4; stroke-opacity:1; fill:none\" points=\"112.177,1409.37 2112.76,1409.37 \"/>\n",
       "<polyline clip-path=\"url(#clip780)\" style=\"stroke:#000000; stroke-linecap:round; stroke-linejoin:round; stroke-width:4; stroke-opacity:1; fill:none\" points=\"156.394,1409.37 156.394,1392.49 \"/>\n",
       "<polyline clip-path=\"url(#clip780)\" style=\"stroke:#000000; stroke-linecap:round; stroke-linejoin:round; stroke-width:4; stroke-opacity:1; fill:none\" points=\"475.085,1409.37 475.085,1392.49 \"/>\n",
       "<polyline clip-path=\"url(#clip780)\" style=\"stroke:#000000; stroke-linecap:round; stroke-linejoin:round; stroke-width:4; stroke-opacity:1; fill:none\" points=\"793.776,1409.37 793.776,1392.49 \"/>\n",
       "<polyline clip-path=\"url(#clip780)\" style=\"stroke:#000000; stroke-linecap:round; stroke-linejoin:round; stroke-width:4; stroke-opacity:1; fill:none\" points=\"1112.47,1409.37 1112.47,1392.49 \"/>\n",
       "<polyline clip-path=\"url(#clip780)\" style=\"stroke:#000000; stroke-linecap:round; stroke-linejoin:round; stroke-width:4; stroke-opacity:1; fill:none\" points=\"1431.16,1409.37 1431.16,1392.49 \"/>\n",
       "<polyline clip-path=\"url(#clip780)\" style=\"stroke:#000000; stroke-linecap:round; stroke-linejoin:round; stroke-width:4; stroke-opacity:1; fill:none\" points=\"1749.85,1409.37 1749.85,1392.49 \"/>\n",
       "<polyline clip-path=\"url(#clip780)\" style=\"stroke:#000000; stroke-linecap:round; stroke-linejoin:round; stroke-width:4; stroke-opacity:1; fill:none\" points=\"2068.54,1409.37 2068.54,1392.49 \"/>\n",
       "<path clip-path=\"url(#clip780)\" d=\"M156.394 1440.29 Q152.783 1440.29 150.955 1443.85 Q149.149 1447.39 149.149 1454.52 Q149.149 1461.63 150.955 1465.19 Q152.783 1468.74 156.394 1468.74 Q160.029 1468.74 161.834 1465.19 Q163.663 1461.63 163.663 1454.52 Q163.663 1447.39 161.834 1443.85 Q160.029 1440.29 156.394 1440.29 M156.394 1436.58 Q162.205 1436.58 165.26 1441.19 Q168.339 1445.77 168.339 1454.52 Q168.339 1463.25 165.26 1467.86 Q162.205 1472.44 156.394 1472.44 Q150.584 1472.44 147.506 1467.86 Q144.45 1463.25 144.45 1454.52 Q144.45 1445.77 147.506 1441.19 Q150.584 1436.58 156.394 1436.58 Z\" fill=\"#000000\" fill-rule=\"nonzero\" fill-opacity=\"1\" /><path clip-path=\"url(#clip780)\" d=\"M465.467 1467.83 L473.106 1467.83 L473.106 1441.47 L464.796 1443.13 L464.796 1438.87 L473.06 1437.21 L477.736 1437.21 L477.736 1467.83 L485.374 1467.83 L485.374 1471.77 L465.467 1471.77 L465.467 1467.83 Z\" fill=\"#000000\" fill-rule=\"nonzero\" fill-opacity=\"1\" /><path clip-path=\"url(#clip780)\" d=\"M788.429 1467.83 L804.748 1467.83 L804.748 1471.77 L782.804 1471.77 L782.804 1467.83 Q785.466 1465.08 790.049 1460.45 Q794.655 1455.8 795.836 1454.45 Q798.081 1451.93 798.961 1450.19 Q799.864 1448.43 799.864 1446.74 Q799.864 1443.99 797.919 1442.25 Q795.998 1440.52 792.896 1440.52 Q790.697 1440.52 788.243 1441.28 Q785.813 1442.05 783.035 1443.6 L783.035 1438.87 Q785.859 1437.74 788.313 1437.16 Q790.767 1436.58 792.804 1436.58 Q798.174 1436.58 801.368 1439.27 Q804.563 1441.95 804.563 1446.44 Q804.563 1448.57 803.753 1450.49 Q802.966 1452.39 800.859 1454.99 Q800.28 1455.66 797.179 1458.87 Q794.077 1462.07 788.429 1467.83 Z\" fill=\"#000000\" fill-rule=\"nonzero\" fill-opacity=\"1\" /><path clip-path=\"url(#clip780)\" d=\"M1116.71 1453.13 Q1120.07 1453.85 1121.95 1456.12 Q1123.84 1458.39 1123.84 1461.72 Q1123.84 1466.84 1120.33 1469.64 Q1116.81 1472.44 1110.33 1472.44 Q1108.15 1472.44 1105.83 1472 Q1103.54 1471.58 1101.09 1470.73 L1101.09 1466.21 Q1103.03 1467.35 1105.35 1467.93 Q1107.66 1468.5 1110.19 1468.5 Q1114.58 1468.5 1116.88 1466.77 Q1119.19 1465.03 1119.19 1461.72 Q1119.19 1458.67 1117.04 1456.95 Q1114.91 1455.22 1111.09 1455.22 L1107.06 1455.22 L1107.06 1451.37 L1111.27 1451.37 Q1114.72 1451.37 1116.55 1450.01 Q1118.38 1448.62 1118.38 1446.03 Q1118.38 1443.36 1116.48 1441.95 Q1114.61 1440.52 1111.09 1440.52 Q1109.17 1440.52 1106.97 1440.93 Q1104.77 1441.35 1102.13 1442.23 L1102.13 1438.06 Q1104.79 1437.32 1107.11 1436.95 Q1109.45 1436.58 1111.51 1436.58 Q1116.83 1436.58 1119.93 1439.01 Q1123.03 1441.42 1123.03 1445.54 Q1123.03 1448.41 1121.39 1450.4 Q1119.75 1452.37 1116.71 1453.13 Z\" fill=\"#000000\" fill-rule=\"nonzero\" fill-opacity=\"1\" /><path clip-path=\"url(#clip780)\" d=\"M1434.17 1441.28 L1422.36 1459.73 L1434.17 1459.73 L1434.17 1441.28 M1432.94 1437.21 L1438.82 1437.21 L1438.82 1459.73 L1443.75 1459.73 L1443.75 1463.62 L1438.82 1463.62 L1438.82 1471.77 L1434.17 1471.77 L1434.17 1463.62 L1418.56 1463.62 L1418.56 1459.11 L1432.94 1437.21 Z\" fill=\"#000000\" fill-rule=\"nonzero\" fill-opacity=\"1\" /><path clip-path=\"url(#clip780)\" d=\"M1740.13 1437.21 L1758.48 1437.21 L1758.48 1441.14 L1744.41 1441.14 L1744.41 1449.61 Q1745.43 1449.27 1746.45 1449.11 Q1747.46 1448.92 1748.48 1448.92 Q1754.27 1448.92 1757.65 1452.09 Q1761.03 1455.26 1761.03 1460.68 Q1761.03 1466.26 1757.56 1469.36 Q1754.08 1472.44 1747.76 1472.44 Q1745.59 1472.44 1743.32 1472.07 Q1741.07 1471.7 1738.67 1470.96 L1738.67 1466.26 Q1740.75 1467.39 1742.97 1467.95 Q1745.2 1468.5 1747.67 1468.5 Q1751.68 1468.5 1754.01 1466.4 Q1756.35 1464.29 1756.35 1460.68 Q1756.35 1457.07 1754.01 1454.96 Q1751.68 1452.86 1747.67 1452.86 Q1745.8 1452.86 1743.92 1453.27 Q1742.07 1453.69 1740.13 1454.57 L1740.13 1437.21 Z\" fill=\"#000000\" fill-rule=\"nonzero\" fill-opacity=\"1\" /><path clip-path=\"url(#clip780)\" d=\"M2068.94 1452.62 Q2065.8 1452.62 2063.94 1454.78 Q2062.12 1456.93 2062.12 1460.68 Q2062.12 1464.41 2063.94 1466.58 Q2065.8 1468.74 2068.94 1468.74 Q2072.09 1468.74 2073.92 1466.58 Q2075.77 1464.41 2075.77 1460.68 Q2075.77 1456.93 2073.92 1454.78 Q2072.09 1452.62 2068.94 1452.62 M2078.23 1437.97 L2078.23 1442.23 Q2076.47 1441.4 2074.66 1440.96 Q2072.88 1440.52 2071.12 1440.52 Q2066.49 1440.52 2064.04 1443.64 Q2061.61 1446.77 2061.26 1453.09 Q2062.62 1451.07 2064.68 1450.01 Q2066.74 1448.92 2069.22 1448.92 Q2074.43 1448.92 2077.44 1452.09 Q2080.47 1455.24 2080.47 1460.68 Q2080.47 1466 2077.32 1469.22 Q2074.18 1472.44 2068.94 1472.44 Q2062.95 1472.44 2059.78 1467.86 Q2056.61 1463.25 2056.61 1454.52 Q2056.61 1446.33 2060.49 1441.47 Q2064.38 1436.58 2070.93 1436.58 Q2072.69 1436.58 2074.48 1436.93 Q2076.28 1437.28 2078.23 1437.97 Z\" fill=\"#000000\" fill-rule=\"nonzero\" fill-opacity=\"1\" /><polyline clip-path=\"url(#clip782)\" style=\"stroke:#000000; stroke-linecap:round; stroke-linejoin:round; stroke-width:2; stroke-opacity:0.1; fill:none\" points=\"112.177,1404.23 2112.76,1404.23 \"/>\n",
       "<polyline clip-path=\"url(#clip782)\" style=\"stroke:#000000; stroke-linecap:round; stroke-linejoin:round; stroke-width:2; stroke-opacity:0.1; fill:none\" points=\"112.177,1085.54 2112.76,1085.54 \"/>\n",
       "<polyline clip-path=\"url(#clip782)\" style=\"stroke:#000000; stroke-linecap:round; stroke-linejoin:round; stroke-width:2; stroke-opacity:0.1; fill:none\" points=\"112.177,766.846 2112.76,766.846 \"/>\n",
       "<polyline clip-path=\"url(#clip782)\" style=\"stroke:#000000; stroke-linecap:round; stroke-linejoin:round; stroke-width:2; stroke-opacity:0.1; fill:none\" points=\"112.177,448.155 2112.76,448.155 \"/>\n",
       "<polyline clip-path=\"url(#clip782)\" style=\"stroke:#000000; stroke-linecap:round; stroke-linejoin:round; stroke-width:2; stroke-opacity:0.1; fill:none\" points=\"112.177,129.465 2112.76,129.465 \"/>\n",
       "<polyline clip-path=\"url(#clip780)\" style=\"stroke:#000000; stroke-linecap:round; stroke-linejoin:round; stroke-width:4; stroke-opacity:1; fill:none\" points=\"112.177,1409.37 112.177,124.324 \"/>\n",
       "<polyline clip-path=\"url(#clip780)\" style=\"stroke:#000000; stroke-linecap:round; stroke-linejoin:round; stroke-width:4; stroke-opacity:1; fill:none\" points=\"112.177,1404.23 129.051,1404.23 \"/>\n",
       "<polyline clip-path=\"url(#clip780)\" style=\"stroke:#000000; stroke-linecap:round; stroke-linejoin:round; stroke-width:4; stroke-opacity:1; fill:none\" points=\"112.177,1085.54 129.051,1085.54 \"/>\n",
       "<polyline clip-path=\"url(#clip780)\" style=\"stroke:#000000; stroke-linecap:round; stroke-linejoin:round; stroke-width:4; stroke-opacity:1; fill:none\" points=\"112.177,766.846 129.051,766.846 \"/>\n",
       "<polyline clip-path=\"url(#clip780)\" style=\"stroke:#000000; stroke-linecap:round; stroke-linejoin:round; stroke-width:4; stroke-opacity:1; fill:none\" points=\"112.177,448.155 129.051,448.155 \"/>\n",
       "<polyline clip-path=\"url(#clip780)\" style=\"stroke:#000000; stroke-linecap:round; stroke-linejoin:round; stroke-width:4; stroke-opacity:1; fill:none\" points=\"112.177,129.465 129.051,129.465 \"/>\n",
       "<path clip-path=\"url(#clip780)\" d=\"M56.2699 1417.57 L63.9087 1417.57 L63.9087 1391.21 L55.5986 1392.87 L55.5986 1388.61 L63.8624 1386.95 L68.5383 1386.95 L68.5383 1417.57 L76.1772 1417.57 L76.1772 1421.51 L56.2699 1421.51 L56.2699 1417.57 Z\" fill=\"#000000\" fill-rule=\"nonzero\" fill-opacity=\"1\" /><path clip-path=\"url(#clip780)\" d=\"M59.8578 1098.88 L76.1772 1098.88 L76.1772 1102.82 L54.2328 1102.82 L54.2328 1098.88 Q56.8949 1096.13 61.4782 1091.5 Q66.0846 1086.84 67.2652 1085.5 Q69.5105 1082.98 70.3902 1081.24 Q71.2929 1079.48 71.2929 1077.79 Q71.2929 1075.04 69.3485 1073.3 Q67.4272 1071.57 64.3254 1071.57 Q62.1263 1071.57 59.6726 1072.33 Q57.2421 1073.09 54.4643 1074.65 L54.4643 1069.92 Q57.2884 1068.79 59.7421 1068.21 Q62.1958 1067.63 64.2328 1067.63 Q69.6031 1067.63 72.7976 1070.32 Q75.992 1073 75.992 1077.49 Q75.992 1079.62 75.1818 1081.54 Q74.3948 1083.44 72.2883 1086.03 Q71.7096 1086.71 68.6078 1089.92 Q65.5059 1093.12 59.8578 1098.88 Z\" fill=\"#000000\" fill-rule=\"nonzero\" fill-opacity=\"1\" /><path clip-path=\"url(#clip780)\" d=\"M69.0476 765.492 Q72.404 766.209 74.279 768.478 Q76.1772 770.746 76.1772 774.08 Q76.1772 779.195 72.6587 781.996 Q69.1402 784.797 62.6587 784.797 Q60.4828 784.797 58.168 784.357 Q55.8764 783.941 53.4227 783.084 L53.4227 778.57 Q55.3671 779.705 57.6819 780.283 Q59.9967 780.862 62.5198 780.862 Q66.918 780.862 69.2096 779.126 Q71.5244 777.39 71.5244 774.08 Q71.5244 771.024 69.3717 769.311 Q67.242 767.575 63.4226 767.575 L59.3949 767.575 L59.3949 763.733 L63.6078 763.733 Q67.0569 763.733 68.8855 762.367 Q70.7142 760.978 70.7142 758.385 Q70.7142 755.723 68.8161 754.311 Q66.9411 752.876 63.4226 752.876 Q61.5013 752.876 59.3023 753.293 Q57.1032 753.709 54.4643 754.589 L54.4643 750.422 Q57.1264 749.682 59.4412 749.311 Q61.7791 748.941 63.8393 748.941 Q69.1633 748.941 72.2652 751.372 Q75.367 753.779 75.367 757.899 Q75.367 760.77 73.7235 762.76 Q72.08 764.728 69.0476 765.492 Z\" fill=\"#000000\" fill-rule=\"nonzero\" fill-opacity=\"1\" /><path clip-path=\"url(#clip780)\" d=\"M66.5939 434.949 L54.7884 453.398 L66.5939 453.398 L66.5939 434.949 M65.367 430.875 L71.2466 430.875 L71.2466 453.398 L76.1772 453.398 L76.1772 457.287 L71.2466 457.287 L71.2466 465.435 L66.5939 465.435 L66.5939 457.287 L50.9921 457.287 L50.9921 452.773 L65.367 430.875 Z\" fill=\"#000000\" fill-rule=\"nonzero\" fill-opacity=\"1\" /><path clip-path=\"url(#clip780)\" d=\"M55.2745 112.185 L73.6309 112.185 L73.6309 116.12 L59.5569 116.12 L59.5569 124.592 Q60.5754 124.245 61.5939 124.083 Q62.6124 123.897 63.6309 123.897 Q69.418 123.897 72.7976 127.069 Q76.1772 130.24 76.1772 135.657 Q76.1772 141.235 72.705 144.337 Q69.2328 147.416 62.9134 147.416 Q60.7374 147.416 58.4689 147.045 Q56.2236 146.675 53.8162 145.934 L53.8162 141.235 Q55.8995 142.37 58.1217 142.925 Q60.3439 143.481 62.8208 143.481 Q66.8254 143.481 69.1633 141.374 Q71.5013 139.268 71.5013 135.657 Q71.5013 132.046 69.1633 129.939 Q66.8254 127.833 62.8208 127.833 Q60.9458 127.833 59.0708 128.249 Q57.2189 128.666 55.2745 129.546 L55.2745 112.185 Z\" fill=\"#000000\" fill-rule=\"nonzero\" fill-opacity=\"1\" /><g clip-path=\"url(#clip782)\">\n",
       "<image width=\"1285\" height=\"1285\" xlink:href=\"data:image/png;base64,\n",
       "iVBORw0KGgoAAAANSUhEUgAABQUAAAUFCAYAAACuAKUAAAAgAElEQVR4nOzaza7rOpMl2qDsnY9c\n",
       "r31RzdqWxNtwZrNQMwAK/s7hGO2JCP1SdKw1/vf/979mpcaRxcJcWu/rtbbm6nP5ppf2rsp7jxH2\n",
       "Xn6Mad9nkv/58tdrptmZ1rzDclnuGw6z8wp7Z7lOzZpnFruzXN2fLNfIjrTm9TdundYcac0zy8X1\n",
       "qmqkNc/wXMJ6vd5hzc/6Y4xrhrm0XpyrqvqE780nXAM++RpZ4WHOv9n3a37eUe7+hPuPqpp/05pp\n",
       "7k/cO6+Z5a7FuSdqXmfe+zyz+3iGNePclT8/55XV/IQ1096tY7yz9+u8w95hvV7vMDez3HXn+9K4\n",
       "5sxq3mHuiZp3uDzfjX17uoWdYc3GF+RnOr9qRnhG6c++Y2T1Or9205qvxblWzSP7vfIO673Dep3e\n",
       "f0Z4jEf+W+n9WlvzzyvLvcPcN5vtI+Pe73Bf2sjGuT9Z7hXmejWzTfHrv7J6nTUAAAAAAPgXMBQE\n",
       "AAAAgM0YCgIAAADAZgwFAQAAAGAzhoIAAAAAsBlDQQAAAADYjKEgAAAAAGzGUBAAAAAANmMoCAAA\n",
       "AACbMRQEAAAAgM286/4/eXpkM8RZr6X1OtmR1lx9Lt/mS3u3ZrZp77RmXC/NVc0wG1eMj3G9OWea\n",
       "7FRNm4f17rBclvuGw+y81uaqas4zC95p708UG3eWq6qqK8yGNUdar6rG9TcLhjXTeuMM+zay4wyP\n",
       "8YHe9VncO6xXVTXS7PJc+G5VVX2y92t+snVqfhrr+N8sOz/vKHf/zXJpvaqqO+29+Bg7Na8f5aqq\n",
       "rjPLnmHNM6zXyca5K9sffq7GMcY1s1xa77zzve7nzvaRac0zrNfJnjNbK1bXq6q6wppXWDPNVVXd\n",
       "4fbwCnfad9g73pZWujOtmmnvvPVynV9Acc3wt038S3JkvY/Gpzit+QrP+3Xk1+eV9k7fr7Be5z18\n",
       "h9k7vNe9NSDbo92v9N1eu1Z0aj6xBqQ187f7d7OI1fynIAAAAABsxlAQAAAAADZjKAgAAAAAmzEU\n",
       "BAAAAIDNGAoCAAAAwGYMBQEAAABgM4aCAAAAALAZQ0EAAAAA2IyhIAAAAABs5j2uv3l6ZDPEGeZq\n",
       "vH7YO52H5nPT8cPe8XnXCGNhLq33RO/ZaL1c1ny2jjEMz3txvSusl/eeac1W7zPL3VluhLm6P1mu\n",
       "qurKsiOsOcJ6397ZWp7WHGdYL8x9s6t7N65P3Dus+Vlcryo+xjj3CZ/xT/4ezk+4rnzCdfxv/g2Z\n",
       "n3eUu/9mubhemOv0Tmt2el9h9vr8WVrvbBzjeYbHGOY+Ye7bO9tzpsf4ucJ6V36Mac249x3Wu/P9\n",
       "5uqaZ6t3WHNm68rqelVVV5hdnftms9wd1rzTeo3fAum+ON0+9/bZi6U/axrXJ/71FQaP8EoejZ9z\n",
       "r5HWzHKvxj18pzXD3HVkv2t672H4boc3MX1fO9m7sn3fjNeKzhqQZfN3e33vvN7Scv9d9IGaAf8p\n",
       "CAAAAACbMRQEAAAAgM0YCgIAAADAZgwFAQAAAGAzhoIAAAAAsBlDQQAAAADYjKEgAAAAAGzGUBAA\n",
       "AAAANmMoCAAAAACbedf1N0+PbIY4wlyNV9x6xjV/lKvGMaaz2Ebv+N7UCOuFubReIzvj3v8Ac3bC\n",
       "YewOq62t981ev8lV1bjPLLg4N+5PVq+q6sqyac0R1quqqjNby9OaY3G9Ts06w5ppvaoan7Rmen3C\n",
       "emnfqqpP+OymuTN7v+ansU6FpzP/huv95x23vj/ZniGteae5v51jzLJXfIx/4t5pzXPxMab1qqrO\n",
       "M6y5OFdV9bmy7OfMnrMzrXfle93PnWXTmp872xumfauqzrhmlkvrVVWdM1tX0t5XWO+8831peoxp\n",
       "76uxPN+La97hvv1uHGO6LU5LdnbZqz3xayX9CRT/4gwLHiO/kkd45q+w5qtxIc8jq/kOe8fv4ZH/\n",
       "Vsprhu9X40mL39n43c72ka01YHkuvz6tn+X/6RYvQP5TEAAAAAA2YygIAAAAAJsxFAQAAACAzRgK\n",
       "AgAAAMBmDAUBAAAAYDOGggAAAACwGUNBAAAAANiMoSAAAAAAbMZQEAAAAAA2YygIAAAAAJt5j+tv\n",
       "HJ4jnCEeYW684t4j7b04F59zVVWF5zNGmGv0Ts+nVvcO63Wyccm8d5qcccUwOfOK62veYb0wV1U1\n",
       "r7B1lhtpvaqq+1yaG3G9T5arqnFl2TRXaa7T+1x7jGm9qorPJz7GTu+05ies+QmfnzTXqpm9s/MT\n",
       "rhWNyzg/4bfmk30P7zBXVTX/vsOav8n1av6Jclej9xlm05ppvfNsHGOY/YS5Tu/PFfa+smcyz3WO\n",
       "MXu/PnfYO87l+800m+bOme/lVtc87yx3NY4x7X2FW69O7ytc8tNd3x32vhtb3TSabnU7u+xfaf1S\n",
       "CsPxr7Sw3qtxkEdcMwu+Rn4XX2H0CntfR1aw9R4e2RuWv19579U15+JcVWMWkdZs9Ob/zn8KAgAA\n",
       "AMBmDAUBAAAAYDOGggAAAACwGUNBAAAAANiMoSAAAAAAbMZQEAAAAAA2YygIAAAAAJsxFAQAAACA\n",
       "zRgKAgAAAMBm3nX9jcPjeGXBGc4axxX3niOtGR5jWG+kfavy8wlrxuf8Lbq0d14vzHVqxr3zzjOP\n",
       "Li7Y6Rxm5/2bXFWNGT7jac37jHtX2HukNa/P2npVNcKace+0XiM7wjV/nGHvNNeomfdu3JvV55P2\n",
       "bhxjndkzPj/h+xWeyvzk35r5yb6x8/NemququsPsHR5jXi8/xivMrs51smeaO9fmqqo+YTbOXZ3e\n",
       "2XOR1vzcab1wX1pVf+Oa2TsbH+OdrwGfcI//ubNN2tnqndYMc3G9KFZVVVdY8wq3fGm9Xs0sd6fb\n",
       "0iz2SM25fIOfi3/VNH6vrK6Zvl1H4yBfYXR1rqrqdYTv18gejPidafwkv8I18j6y5o3lp+5wvZir\n",
       "c1GqmX1g/fnhcrFc/spmZ+0/BQEAAABgM4aCAAAAALAZQ0EAAAAA2IyhIAAAAABsxlAQAAAAADZj\n",
       "KAgAAAAAmzEUBAAAAIDNGAoCAAAAwGYMBQEAAABgM+9xf/L0vLLYCGeN4xW3HnHN8BiPtF5jbhpn\n",
       "s1x8zp3eY0Sxmc6Lw3r/HW5kF9dLozMtmAbjglUzy4605rzX5qriNaDuLDfSelVV97k0N9LcFfat\n",
       "qrqy9XQszlVVjTOseYbnE9frHGPae+0x9mouzn3yZ3x+wncxbD0/2To+z/xbMz/Zd/s+s9z8vPPe\n",
       "Z5a9w5pp7mocY5pNc2ej9xlen9W5T5jrZOPc1eh9Zc/k3zD3ucNcWK+q6m9a887e2dW5Xs1s4/WZ\n",
       "+V7uXFwzrXc2tnJX3Dutl/e+w2xaM63X2EWmW90ndtl5ePHPlSd+KR1hcHWuquoVZvNc3vyVPuNh\n",
       "ySs88St9cKvqOrLsHda8G2vkfWRvY3o26bvdeQ/zS5nOLFbPF/5tsgvuPwUBAAAAYDOGggAAAACw\n",
       "GUNBAAAAANiMoSAAAAAAbMZQEAAAAAA2YygIAAAAAJsxFAQAAACAzRgKAgAAAMBmDAUBAAAAYDPv\n",
       "cX3i8BzZDHGEuRp33LuOrGZ8jDM9xsbcNMymx/hE76qRpUaWS+v9d9H1NfPmYW4u7tuoN8PsTN+b\n",
       "tN4V1quqO+s90pp33nvcZ1gzy8X1rjBXVel6ujpXVVVpNu69/vrUufgYz07vMHuGz+Qny82zsQaE\n",
       "hzg/2Xo2z/Cb9Hlnjatqnlk2rXl/XnHvO665tvcVnnMne57re5/heZ9hzc/iXFXV5wprxrn8+fm7\n",
       "uObfO83le7m09yesmfb+3Pm+6xPun9Oand7nTGuurXc2fq5c4ZKffhrSelVV9+Kaab00V5XviuMt\n",
       "cd76Zzq/atKfSumqcqT1Ggf5CrOrc1VVr/DEr/BCpu/C1fhJnr4P6SiisfzUHT4Z8fsVrpGdpzx/\n",
       "Z5+YB6z1yMQiLDpGdiXTnP8UBAAAAIDNGAoCAAAAwGYMBQEAAABgM4aCAAAAALAZQ0EAAAAA2Iyh\n",
       "IAAAAABsxlAQAAAAADZjKAgAAAAAmzEUBAAAAIDNGAoCAAAAwGbe4/rk6fEKc+Gs8bjj1nNmNUfa\n",
       "O8zNtF5V1REeYzqL7fSOz2eE9cJcpbmHaubNw9xc23Z26oXZmb03I+09ryzX6F13VnN0et9nVvMK\n",
       "e9/h2ndlfb+9s5ojrXl2eqfXZ23vcTa+IXHN9denzvBZi3Phu3Dma8A8s3VqnuF6/8m+2fMMv+1V\n",
       "dYc149z5Xt87rHmFubRvVdX1Wdv7bNybM665OHfl9/AT1vxc2Xn/bfT+G9b83Gnv7D38G9b79k5r\n",
       "Zrm8Xr7v+oTZz8xy5wO902X3s34Zr2txzavTO8zey3P5Qaa//OKKjeuzeIcf/7KIf/40ah5h8Aib\n",
       "d/5L6BX2jnON5u/0vQl7h8t43eF6VlUVLrt1h3f7bjy5M3wXw7FKzeVvTfOn8Y+M8Lzjp2LkJ532\n",
       "Tle0eE0JcwAAAADAv4ShIAAAAABsxlAQAAAAADZjKAgAAAAAmzEUBAAAAIDNGAoCAAAAwGYMBQEA\n",
       "AABgM4aCAAAAALAZQ0EAAAAA2My7rjMOj3FnwSObNc6ZzyTHCLPHK+sd1ov7VlWF55P2rjHy3vH5\n",
       "pDXXH+OsMBuXbFyf1eaMYqOyXKdmpTVn+L6muaoa9xXWDHNpvUbvcYdrWrj2jc4amWavz/reZ5gN\n",
       "c/m5PHB94nPJn5/VNecZvof55an6hGvaGX7n0twny7Vqnu8od4f1vtm1Na9PVu8K+36zYe+w5tno\n",
       "fV5Z78+Pco/0vhu9w+zfK9v//E3r3fk+8hNm05p/72xN+YS5TjbOzU7vLHemuXQZz7dJcc3rgd53\n",
       "uI9Me9/hfvNubHXT05nhuTRaL5c+uZ1fK+nvtHRVOcLmaa6q6hVmX+G5vBo3MVye6x0eY/o8NpbI\n",
       "usM7PsOndzbWyHS0MuMnKLtCeb3fvrN593Bvkd6adNFtlExHMGNkvf2nIAAAAABsxlAQAAAAADZj\n",
       "KAgAAAAAmzEUBAAAAIDNGAoCAAAAwGYMBQEAAABgM4aCAAAAALAZQ0EAAAAA2IyhIAAAAABs5j2u\n",
       "M08f2Qxxziw3RmMmGfe+1/ZuHOMMj/GJ3lUjSs24d1Yv7fstub5m3jzMzdWNGwVnmE2f8TCX1mv1\n",
       "vq+sXpqrqnGHa1VYM177OmtkmP039R5nfg8rza7OVVWd2bM7z/A9DC/jPBvfkPP1k9wd5r7Z99Ka\n",
       "9yerV1V1hTWvxceY9q2qOq+s9xnWPK8Hei/OfRrH+Lmz7N80d+Xv1987y8a943r5MX7imtmmJu39\n",
       "Cet9s1kuPcZwaf72Dpfn9BjT3ulnoVPzCvd8V6N3XjPLpbfmTvevVXWH++J4Sxx3Xi/+VdP4WTNm\n",
       "Fk5XlSNsnuaqqtIV/xUe5Ltxfa7w+qSfhvT9aizjdac1w3Pp9E7fh/y9SZs3FvKw5iPv1+Ka+WQj\n",
       "v+L5MWY105z/FAQAAACAzRgKAgAAAMBmDAUBAAAAYDOGggAAAACwGUNBAAAAANiMoSAAAAAAbMZQ\n",
       "EAAAAAA2YygIAAAAAJsxFAQAAACAzRgKAgAAAMBm3nWfeXpmM8Qxstw8GjPJxb0r7D3TelU1wmOs\n",
       "9Po0etcYYSw9xqxeVZrLa868YN57uewoW0c47zAXXqG4XpirqnGnNa+wXparqkrXqnGFNdN6jTVy\n",
       "XGE2PMa4Xqt3mDsX1+tk03uY5qpqXuF7Ex7ivML17MzX8TQ7z9dPcp3svTjXyV5p7kpz7yjX6X2G\n",
       "vc8z730u7v1ZnHui5ud+oPedvYerc1VVf+9sXfkb1kzrffJtwPKand7n4ppn+lm4851pXDPcy13p\n",
       "nq+RTXN3uNdNc51svNVt9F5thLv80TjEEf5WOsLex8xyr/h3X977nT6Pjd7vcDm9w/NOl+fGa5jX\n",
       "DOv1nvDVv7VTnf8zyxbo8cj/rq39/R7nGovAERY9wt81R9jbfwoCAAAAwGYMBQEAAABgM4aCAAAA\n",
       "ALAZQ0EAAAAA2IyhIAAAAABsxlAQAAAAADZjKAgAAAAAmzEUBAAAAIDNGAoCAAAAwGbe4zrz9Mhm\n",
       "iPPIcmM2ZpJhzRkeY4W9R9j3v8NZ6zA30nP5hsNceIyV1gtz3/Dikp3eq82lsa87So2Z9s7qxbmq\n",
       "qjs8xvsK64W5Vs1sTUvXvtYaGR5jXLPT+wqvT5gbi+u1smnubDy7Z/jeXOG6cobrc5qrqnm9slxY\n",
       "c55ZvTvMdbJxLjznJ3pfYe5sXJ8rPJ/rfGe9G9fnvLPsJ6z5SeuFuW82e3ZX5zrZv8tz+V5ldc2/\n",
       "4VL6aR1jWDNccj+NZTzNpp+GT7ifOu98M3eGNa+0d7rnq6or3Eemve9wE3uHfTs1Z5zrSNPh75W4\n",
       "Wv5+jZllj7Bmmns1/k/oFda8wty70Tv8GVLpkpa+2vPI72H6NvSe3bXi3/mPSO93+Juz836Fc5D0\n",
       "CMfI7uIY+T7pWFxzXFk9/ykIAAAAAJsxFAQAAACAzRgKAgAAAMBmDAUBAAAAYDOGggAAAACwGUNB\n",
       "AAAAANiMoSAAAAAAbMZQEAAAAAA2YygIAAAAAJt5j+uKw/OYUW7MLFdhvaqqGdYcac2R5dK+nZrj\n",
       "uMN6+cx2xtms9xgjK5fmvuGlNRt3JtY5m0jn+UnPaIbPT/rO3GG9qqoZrhd3lhthrlUzXNPita+x\n",
       "Ro7rXFqzsz5X2Hv1MdbZOcbwWTuz3Lwa71d4mPMM158rW3PT3Lf3K8rdae7KcjPMPdE7rVdVdYU1\n",
       "f5WrqjrD7HmHvcPcE73PO3t203pVVZ8wm+fy9+tvmP3c2RqQ5zrHmNbM6qXH+LexDUh7pzXTelVV\n",
       "n3BfE35CGvXygzzTmuF+/Er3fFV1hvvIK+x9jzAX1vtmw99fi3P/k85k7036m2E0fl2M8P91jrDm\n",
       "MbN6rzBXVfUKj/Ed5q7Gb6Ur/L17hb8l7wd+c97rf03GVv82Tp/dB6YB8bvQGUWES1p+jOHs5whz\n",
       "VVVHZfufI7zbx0jrAQAAAABbMRQEAAAAgM0YCgIAAADAZgwFAQAAAGAzhoIAAAAAsBlDQQAAAADY\n",
       "jKEgAAAAAGzGUBAAAAAANmMoCAAAAACbedd9xuExsxniPMJZY1ivqmosrpke4xiNuWmYnel5j5m3\n",
       "HncYDI9xjLRxlvuGF8c6vVcL783M72GaHWnvO3wmZpirqpFm72ttrqrGldYM17QwNxprZIXHGNds\n",
       "XJ+09/Jc5xjPtHf4jDdazzNbL+YV5s5wLT1fUe7bO6x5ZTXTY7wbx3iHvdOaab1O9vpRrpM9w3t9\n",
       "Nnqfd1ozy33C3p+wb1V+jGnNTu/PzN7ttObfO6uX5r69s1zee23fJ2r+vfN90ifcJ51hzbheY5+U\n",
       "Zs9Kc/mH7gp/C1xhzSs8xjv9DVJVd1hzhnvdNPc/6ZXS3yGd3ysj/H+dI8y94lz+rXmFv2OvmdV8\n",
       "N/5H6Q7v4b14HtBYAhpPWbjfzFsv7vxMxTQZjyIa39j0vTnCGcwR7hfSelVVR3jHj5G9X0f4m8p/\n",
       "CgIAAADAZgwFAQAAAGAzhoIAAAAAsBlDQQAAAADYjKEgAAAAAGzGUBAAAAAANmMoCAAAAACbMRQE\n",
       "AAAAgM0YCgIAAADAZgwFAQAAAGAz77qvPD1mFqssl9arqpqLa46Z5eaRH2PcOz3vccet5wjnu2HN\n",
       "EdcbWa7jgZrpXVzeOXzOWtk4F97rMFdVVXeYndm6MjrrT5iNa6a5a/0x1hVex0bv+LzT3qvrVVXd\n",
       "4bp7hc9449bUFb7dV7j2hbmZ1quqeb7CmlnuDnNpvW82O5+099W4Ptfi807rXXd+fc7FNc87vz5n\n",
       "XHNt784xfsLsZ2bva1rvmw1rxr3TXBR7pGaa+9s6xrRmto5/wlxV1Sfc/3zCfU2aOxv7pE/4YTpH\n",
       "lrsaH7rVNe80F/b91syuZfq7b4b1npG9r6PxPzhHmD1mmBvZev+q/DuXZt/hvbln3jvNhst4+lOp\n",
       "ZuO36QzvYb7y5b0f+FW+vO8Rhkf4PTwa3dM38QjnIHm9/G4f4ZOR1nyFa4D/FAQAAACAzRgKAgAA\n",
       "AMBmDAUBAAAAYDOGggAAAACwGUNBAAAAANiMoSAAAAAAbMZQEAAAAAA2YygIAAAAAJsxFAQAAACA\n",
       "zbzHdeXpY0axObNcWq+qalTYe4Q1w1zat1MzP8aRt15cc447rPfAXLlx3nHJ5RVD6bvQyMbP5B3e\n",
       "wxnmGjXHDNeVxvoz7rU147Uv7VuNY1ydq6q6wvsYX8ewXpqrqnmFz254iPPK3+w0O69sTctzryj3\n",
       "y953WO+bXVszrdfJXmHva3G9qqrrzrJn2Pu88+tzhr0/MzzGMPcJ+1blx5ifS74GxDXvrOYZ9k7r\n",
       "fbOLc+GSm9arqvp7Z0U/Ye5vY5/0Cfcgnwpz4V7lTD9KVfUZac0zy40sV1V1hTWvsOYdnnea+2az\n",
       "ezPjXGOfvdgIf12kuW82W6eOkX0bjspyr3pHuU72jnP5AnSH60U6i5jh9Wn9H1V8OlnN3m/Ytb94\n",
       "02qdrkf4Oz/9vXt03q8weoTf7fRcjsY+6RXOdF7hM36kuSgFAAAAAPxrGAoCAAAAwGYMBQEAAABg\n",
       "M4aCAAAAALAZQ0EAAAAA2IyhIAAAAABsxlAQAAAAADZjKAgAAAAAmzEUBAAAAIDNvOu+lxcdI8vN\n",
       "TtEwPNIxZ3yMjaMcWXaEuRmfTN47vTkj7Z32/Yaj1AzvTU9aNLyHadvZuT5hNq0ZvttjNtaAdL2Y\n",
       "V9b7znLf3mnN8BjT69NZI68we4Xnktariq9PfoxprvGMp9n0tK/GYnFna9q80txrab2qqnlnNe/4\n",
       "GLPcHZ5Lp3daM61XVXWF2SvsfYXPRJr7Zn/X+1xcM62X5qqqPuEH/rzX5p7o/UmPsbFEfsK1b3mu\n",
       "sVdJs3Gu8Y39hB+HT7gH+dSZ5UaW62TPsPc1PnHvtOad9o7r5Xu5Gd7DPNd4weLnPP2tFObyXw01\n",
       "wv/XOSr71hz1jnLpva6qeo8/Ue4O38M7rFdVdYf3O30u0kei9XMuFS596TPxzWaOMJl2Phrb8SM8\n",
       "7/gYH+j9Ct/tV7j/eTXmJatrpjn/KQgAAAAAmzEUBAAAAIDNGAoCAAAAwGYMBQEAAABgM4aCAAAA\n",
       "ALAZQ0EAAAAA2IyhIAAAAABsxlAQAAAAADZjKAgAAAAAmzEUBAAAAIDNvOu+GvGZxUaWG2m9qppH\n",
       "mL3DXFhv3PncdI4wmF6f9JyrKp3vzgoPcqb3Oj3pPDviC/lLnXuTlgxrzjuKjbTendX79s7Wi5HW\n",
       "DM+lVTNd01bnGtnl51KV38fFuZmuuVVV6WNxZWvAvPO1Yl7hWh7mZvhtSHNV+TGmuXvxuXRq3mHN\n",
       "+37lveOaWe6Kc/kxpjXPxblf9j4b3+wzfGfTmr3eWe4TLmlxvcYn9vxR79Yxhmv+J/y+f9IPQ1V9\n",
       "wj3I3zqzeiPNfaJcVdVZWfYMa6b1qqquMHuH1+cKczO8L9/e4d4i3jA0fkuGe/eR/lYKc3m9qlHZ\n",
       "9+YIf/cd4x3Wy3JVVXdl9/s9/kS5+F5Xfg/z37Fx41j4Mz9uHv+eq6oRXsr4CU9/uze+IUfYPB2D\n",
       "HI3fAq8w+gpr5vXyvdwrfIDSmmk9/ykIAAAAAJsxFAQAAACAzRgKAgAAAMBmDAUBAAAAYDOGggAA\n",
       "AACwGUNBAAAAANiMoSAAAAAAbMZQEAAAAAA2YygIAAAAAJt5j/uOwzMNpqPGvHWNMDfT4OrGVTWO\n",
       "7ArN9AI1rk+NrPcYYe+RnfjsXKD05sQlV9/sqvgpj1+GOFhjpr3TXPgApbmqiteL+1qba9XMjjE/\n",
       "l8aLuLrmT3uHz1maq6pKb/cdvttX4+9ad5adaS7sneZaNRefy904xntxzavR+wp7p7n0XNJ6new1\n",
       "1+aqqs4we4bf4jR3NTZe6fnEx5iuFQ/UPMOl72ws42n2E/fOgmnu2zvLfsK9xWfm+4BPnVlupLlP\n",
       "mPsb5aqqzsqyZ2W9rzDXyV4zuz53eL1n4x7e4UZgpnvdxj67l03KZWvFaPwPTvo77ahXmMuud5qr\n",
       "qpojvIfhD9nZuC/552bx77nOPCCsOcKiozMvOcLnJ7yQR9j7aFyfV1ozrfdA71c4B1ld71szO/NX\n",
       "+KC90nsdpQAAAACAfw1DQQAAAADYjKEgAAAAAGzGUBAAAAAANmMoCAAAAACbMRQEAAAAgM0YCgIA\n",
       "AADAZgwFAQAAAGAzhoIAAAAAsJl3zTsOjzA644Jx69gIx5zxaXfGpnd2QiM978b1mWnREd6d8EKO\n",
       "+GQqP5/5wIPxKzN+Gyp+c9Kad/aQj8YakNaMe6f1qvKXdnWucYzx+cS5xvOzumacy2JVVTNcI9O1\n",
       "NK5XVfNKa2ZrX9o7rdfqfWW5Oz6X9ceY9k5zT9S8Fueqqq65unf+jK8+nyv8Fp+N63PGNcNcY7+Q\n",
       "10zrhbnGMp73zoJnuF84G/uANPsJc2ddce/POMPcJ8z9zXKV5aqqzjB7hblzZudSVXVXlr1mdh1n\n",
       "mLsb93CGz8UMNxeztc9eK/8NlK9TR/gNuccrqxfem2N07mGWneFvzplPDvJsfMnDYONbM8KaI6zZ\n",
       "+al9hDVf4XtzhJf7aOxVXmH0lX4PG0vAK74+ab0smPatqnqH2XSPlu75/KcgAAAAAGzGUBAAAAAA\n",
       "NmMoCAAAAACbMRQEAAAAgM0YCgIAAADAZgwFAQAAAGAzhoIAAAAAsBlDQQAAAADYjKEgAAAAAGzm\n",
       "Xfedp8MR4ghLzs5Icoa5sPcIe8/G5akxstwDo9hRWe8Z5jqdY+k9TK/jP8FMT7qRDXMjfXg7D3mY\n",
       "faR3uFaNdE1Lcw9cnzjXWZ/v8PkJc/Fpd9bI+PKEa8DdWEzT7OLes3GM6Xnfae8ry93pOTd6x7nG\n",
       "RmB1zbxefn2u9B6GNa/G9bnimr/JfbNpLu0dt270znLn4lxV1RmukXnvLJjmqqo+4cfhrCurN7Lc\n",
       "N3uGvT9h7u/S3Df7f6LcNbNjvGbe+6rs+k+AU2UAACAASURBVNxh73tm92aGuaqqGW4EZviczfjH\n",
       "xTedydafEa99jW9s+AP1qFeUi69j+uO9kU3vzRyde5hJfxenPznTelVVR5g9wucnzXV6v9Le4WPx\n",
       "avx0P8N9Ulrz1fgdcoU1r7DmFT5Aab2qqjOs+V68R/OfggAAAACwGUNBAAAAANiMoSAAAAAAbMZQ\n",
       "EAAAAAA2YygIAAAAAJsxFAQAAACAzRgKAgAAAMBmDAUBAAAAYDOGggAAAACwGUNBAAAAANjMu+bM\n",
       "0/ed5cJR42i0nmHreMwZ1huNselMmy++jl8jTGVFZ3qBZtb32zzMps9kWu8J8XvTeciz7Eh7py9N\n",
       "+jx2aqbHeK+/Pj89xjSbXvN44ev0Xp3LYlWVrxf34lxVzTA773CNjOt1jjHtHebC653Wq6q6l/fO\n",
       "r0/a+wprXjOt17g+ac04l1+fNLs+F8UeqXk21p+05hXWXF2vquoMv0tXmEvrnY2F/Aqz57jC3mfc\n",
       "O82e4xPWy3JX/Y1yVVXXDGvOrGaa+2az63Mvzs3K7nVV1Qz3NfHvkNY+O8zFy+7a316dbHwdx+rr\n",
       "3cuuNsLffiO+N+vv4REOD46w5hHuF6qqXmHNM3x+8nr5XuW1+lvcGAfE3+3Fe5X0m92qme51w3fG\n",
       "fwoCAAAAwGYMBQEAAABgM4aCAAAAALAZQ0EAAAAA2IyhIAAAAABsxlAQAAAAADZjKAgAAAAAmzEU\n",
       "BAAAAIDNGAoCAAAAwGbedd95+ghniHNmuTvMVdU4suxMe1eYm/n1GXHn9Do27k08381qjvhs0lzV\n",
       "XF4zf35iy0s2nvH02f1VrqpG+s6m60rn/UprLj7G0XkP0+wDa+T65yKM3fkaUGk2zM3ZWH9muEam\n",
       "ve+19b411553eoyde5hm77B3mququtPzDu91Wi/NVVVdi2t2eqfZ9BhX556o2bs3/9m5Xs0smObO\n",
       "xnfurCvrHebOcca9r/HJalaWu9LczHLf7N+lNTu975ldy9W5Gd7rqqoZP2urf/flNeOt+8jWn9H4\n",
       "H5wRfr/GyK7jDH/3zcbvlU52tfT36Vh8b47xinJVVefMskfY+9V4fs7w+XmF1zFdnV+N3ytX+NnO\n",
       "9wtx6x/uAx7Yy4X3MO3tPwUBAAAAYDOGggAAAACwGUNBAAAAANiMoSAAAAAAbMZQEAAAAAA2YygI\n",
       "AAAAAJsxFAQAAACAzRgKAgAAAMBmDAUBAAAAYDPvmjNPp9m45gO97zvLpePQ2ZmbZsc4wtwMT6Wq\n",
       "qo7GtfyRESfTc/lhxc57s7pm+mAsf19/3fufcH3SdeqB3mHNeF1Jc498QsI38c7XgDQ705rhMc7G\n",
       "NyQ97/QY09z9xDGGuTu915Vfy7TmE8eYZq/FuU42PcbVuaqqK1wD4lzc+YHecS5fJNNsnAsX8qux\n",
       "kF8jq3mO7O5cdca9zzB71ecnuW82PMaZ1bxnfn3SmjOsec/sHs4w999Vs5rpJuSJ/XgsXfs6v1de\n",
       "YcXs+qS/OVubudAIz3s0/kfpGll2zPA6jix3NtaAI6x5hfc6zVVVXeEm/wqv+R0+F1fjGf/Vt/iJ\n",
       "munPuc5I51d7Of8pCAAAAACbMRQEAAAAgM0YCgIAAADAZgwFAQAAAGAzhoIAAAAAsBlDQQAAAADY\n",
       "jKEgAAAAAGzGUBAAAAAANmMoCAAAAACbedeceTrNxjU7ve8oNkY255zLz6UqP5+151LVOJ9NjdUF\n",
       "H3nGFz+TYW78cA34Ze/169m/rXfaN8xVVd3hmziz3AxznZpx7/Bc0lxV43wWX5/OdZwz/cau732H\n",
       "2V/lqtaf9yPXJ663NvfNrr43nd7/2blvNgtfi3N3/FRUXWH2qivLjSxXVXXXuTR3zbBemOtkV+eq\n",
       "qubimnNm92aG9/obzp6fGT+TP/z9E6/Pjf/BGekebe3/9eQrQFX6q2rEufxcRnje93hluUpz7yhX\n",
       "VXWl609YM11Lv9nsfK7wPbzCe5N+u77Z3+xVOtk0dz2yVwm/2+m5hH39pyAAAAAAbMZQEAAAAAA2\n",
       "YygIAAAAAJsxFAQAAACAzRgKAgAAAMBmDAUBAAAAYDOGggAAAACwGUNBAAAAANiMoSAAAAAAbMZQ\n",
       "EAAAAAA28x5zxuGZZtPcyHvXHGt71+Jz6dQcq8+l0Xu18FSqKj/EtOaPTrnV/IlbuPo9fOYgw9jv\n",
       "nvF47esc4/L1J2+9+tbkucYiEK/ji3NVNcNsmnvkGO+1x7j8nBvZ+4e9l+caH7r0vO/w/UrrVeWv\n",
       "bH6MYS7s+60Z5hbX+2Xvu7GQx73DmmnuatzFq66w99rcEzXvOrPczHKd7EyPsdU7qznTXHiMab2v\n",
       "8FmbWW7+8MfACL8NvWN8Yu++VvpNvMP/PRojf8bHzGre9VqbaxzjXe8wl70318jX5zt8v+7w90r8\n",
       "rWn8Vop7P7BPWr0PSE+7tVdJ36/Fezn/KQgAAAAAmzEUBAAAAIDNGAoCAAAAwGYMBQEAAABgM4aC\n",
       "AAAAALAZQ0EAAAAA2IyhIAAAAABsxlAQAAAAADZjKAgAAAAAm3lXzTw9w+zqXFXVSGuOrFwWax1i\n",
       "foxp0fAgq2qEvTuns7xgejrhPYyv9xPi1p1jXHs+I63XecjTaFzzh+vPT69Pmvvd87P8XDqt4975\n",
       "GpmfT1Zzxrmwb1Wli2TeO/3QZbFvzTS4+BgbvdOa9xPHmN7DOJfLzyerl/ZO+3Zqpsd4Ny7Qnebi\n",
       "3lmwdYxpzfBK3uFZ3yO9Onk2ztWV9w6z98xyM8yl17FVMz3GTu/w+sS58BgrzVXnfH64CYk7xz9s\n",
       "4pojXAPyZTfdBzzwnI3sf4/umf+P0pGuAWPtu/3IOpWukY17k38bVudyy7/Fnd6Lf/rF5xLmnuid\n",
       "1vOfggAAAACwGUNBAAAAANiMoSAAAAAAbMZQEAAAAAA2YygIAAAAAJsxFAQAAACAzRgKAgAAAMBm\n",
       "DAUBAAAAYDOGggAAAACwmXfNRno8dhz/bzM80BHmVterqprhBYqv4wO9V3ukbXoPf/pALo3963r/\n",
       "qFyr6E97P9A8LfnIeae9w3c2znWa/2q9aPR95LyDco21NM3Gubhz1Qyv5epHvHWMi5eA1r2Jc1nN\n",
       "+4GlND3vO633QO/VS2nvGf9VLj/KNHuHd3HGd7vqrmtpzTg3s769mmtz33CYjWuuv4fL3+4n9lOp\n",
       "ka7P69fxEX8b0t+mnWc8+5+i+BnvrAEjyx5p7/C8O8eYZp9YI/O1L3vSZvh+zca8JK6Z7vk645LV\n",
       "uQeWqeW9w+voPwUBAAAAYDOGggAAAACwGUNBAAAAANiMoSAAAAAAbMZQEAAAAAA2YygIAAAAAJsx\n",
       "FAQAAACAzRgKAgAAAMBmDAUBAAAAYDOGggAAAACwmXcvPtfmZlqvqsbIs//x0vPunPMTNRf7Bxxi\n",
       "fpAP1Evfh7jk4vf11351Op16/5BLudQ/5Zzjz1K4AD3wPObR7Bjjc/mpxjHG1zy8Pg9cx/yxSI+x\n",
       "YfUn5IFjXP35eqL36k/xbOx1Z1g1rRnXa1zJWfdPct9sej5h78XXsVOz4vN+4vqs/p32wJv4QO/l\n",
       "P0Me+V2z9vlJvzW9/xNa/W6vf37y9eeJNfI3x9jrnebCvp29brrN/hftAzrW79Gyiv5TEAAAAAA2\n",
       "YygIAAAAAJsxFAQAAACAzRgKAgAAAMBmDAUBAAAAYDOGggAAAACwGUNBAAAAANiMoSAAAAAAbMZQ\n",
       "EAAAAAA28/71AcB/lhHm5qNHAb8243eBZcJlZf3qs/5ex8f4wFL6y96rr2XnEFe/s09cxzT6T3h+\n",
       "lp9LVc3Fa8AMk73nbK30GDvd8/N+5C4u7f3E9Vl9jI8sAg88u2s7V40nPtpj7b3Jj/GB52zxuVRV\n",
       "zfQ4w97pebeOMe39wBqw/vv1u2/IL39pr//OrQ+vPkb/KQgAAAAAmzEUBAAAAIDNGAoCAAAAwGYM\n",
       "BQEAAABgM4aCAAAAALAZQ0EAAAAA2IyhIAAAAABsxlAQAAAAADZjKAgAAAAAm3n34mNtbqT1/m2e\n",
       "OO9/wLWMD/EfcC6xxrnE0RnGFr+vv/ar0+nU+4dcysQIn7P5bzpp4F8r/HL+sOAvdU4mzf4TLtAT\n",
       "x7i45hO35ncFH6r5G+mZbLtLii/Q756J+a9az6r+XevzAzY97YT/FAQAAACAzRgKAgAAAMBmDAUB\n",
       "AAAAYDOGggAAAACwGUNBAAAAANiMoSAAAAAAbMZQEAAAAAA2YygIAAAAAJsxFAQAAACAzbxr/PoQ\n",
       "QiM90DC3ul4zmtV7oHece+D6rNZqnYZnGEufs7Beo3X+jKfnkvZt9P5RuVbRX659nXf7P92/6FSq\n",
       "Kn9vnlgiFz+6I365W4tA2Ht18J/Re/W17B3ij3r/cJv0RO/fPj+/8sBC9Y+4QE8c49qane1CvALE\n",
       "n7mseW/lWX3N13+/Uv+EJ/wZq/fZv3sP02f8t/v2PdfnX/5E3JH/FAQAAACAzRgKAgAAAMBmDAUB\n",
       "AAAAYDOGggAAAACwGUNBAAAAANiMoSAAAAAAbMZQEAAAAAA2YygIAAAAAJsxFAQAAACAzRgKAgAA\n",
       "AMBm3lUjT48wuzr3DS+tORe3bYVb552Z8YEu7t26hT86xpb0Hobl4getUTNtPbOCo/M8Ln+3/wG9\n",
       "n7g+cb1ONj2f8KF84jWMez9wjGHNJ1bn1Eizq6/PL+91Z5GMzye912EuPpcfX/LFn6+47+J6Vb87\n",
       "l478XudHuX4ZD/cBWblmzTSX/3/C+t5PvLFre+f7+7z373KVP7yLn/FW0djvfu8uf3Ybx5j/blh9\n",
       "Lut7p+fdOsbFa98zvX9Tr5V9YB8Qn/fi3o/8nFvc238KAgAAAMBmDAUBAAAAYDOGggAAAACwGUNB\n",
       "AAAAANiMoSAAAAAAbMZQEAAAAAA2YygIAAAAAJsxFAQAAACAzRgKAgAAAMBm3nOMPJ1m45o/7L38\n",
       "XDbt3TnG9H63av6LzMX1/k3v4TfcyP6/pWvfaPX95RrwH55rSE97jsZLE59PWDPMPbJExvXCY2ws\n",
       "PiOumdaLW8fHufqRbN3C+NVOn5/GvYlza3t31sj4+qT14s5Vx+rlOezbesZn+F1Kv19pvcb/CKT3\n",
       "e3Xum82OM86NMDcb1yesWXHNzr1ZW3OOOyvXuD6xuPf61g98jB/ovfhdaP2f0Np1JX5nWjUXH+MD\n",
       "7+Eza+Ti9fmRkUV6jA/0Xp1bvVS0eq/d4/tPQQAAAADYjKEgAAAAAGzGUBAAAAAANmMoCAAAAACb\n",
       "MRQEAAAAgM0YCgIAAADAZgwFAQAAAGAzhoIAAAAAsBlDQQAAAADYzLvGyNNpdnWukZ1x73Ae+sPr\n",
       "M9NjfKD3I9en0vNulFzcu2r+pOszwuvduOBj+TP+RO/02b3Txlmuk31kjfxVrvHOHGE2rdnoPRbX\n",
       "XF3viZr5Y7b+GONcY81d3ftYfa8rP5/09er85Ta/Pmt7d5aptOYTvVdf82PxdWz1Ds9mde6bzY7y\n",
       "qNfSXFXVCHuPsGZa72jsx+8ZHmNYMz3Gryw70+s4w3vTeA/n2m12bw+yfFe+ekPVud/pXnf1qtt4\n",
       "dh94xtOa+fqz/hjzNXJt7pv9zbeh9w1Zm2tNItLvdrp/Xty3k129T/KfggAAAACwGUNBAAAAANiM\n",
       "oSAAAAAAbMZQEAAAAAA2YygIAAAAAJsxFAQAAACAzRgKAgAAAMBmDAUBAAAAYDOGggAAAACwGUNB\n",
       "AAAAANjMu8bI02l2de6XvUdjbhpm5yPXJzzOxb3jc/kWXdr7GWnvGabycxlhzao7zIXPROdPA3d4\n",
       "jPHzmJ5zVR3hec/wmt9h7mg8j2n2H7FGpvc6i/VqZrnReH7m6poPHGOa/VXu172PX12feG3Oj3H1\n",
       "uVTlS/kRnk/aO61XVXWE60+6THU+X+nyHOfCxa/3CQlrht+5+BhnfiWP8KrHufFq9H6HNc+wXtb7\n",
       "DnPf3ll2hjXnTPd836qJdE2Lv5uNrVy+zV67H/8m02y4Tj3yuyZ7b0b4nI3wOUvrtWo+0Dt9Z+Pr\n",
       "E+bSvp3sMdPcD9fn+DuXP+P5t/iBb2yYS0uu3ldUdfZoa+v5T0EAAAAA2IyhIAAAAABsxlAQAAAA\n",
       "ADZjKAgAAAAAmzEUBAAAAIDNGAoCAAAAwGYMBQEAAABgM4aCAAAAALAZQ0EAAAAA2My7jsZccITZ\n",
       "NNfoPX/Ve4wsV1XzCLOrz6UqP86w5ozr5denlc0KLq7XMRfnqmZ6OjO7h+O+w4KNZzx8fsYIzzt9\n",
       "Z6pqpuc9wvMO14B55+/hSJ/xeK1Y/36lJdPncRz5M17xc5HlZqd3mg1z8Xk/cIzjyJ7x9F3o3MP0\n",
       "3U5zR/pMPFBzda7qt9cnP5+03tpcVdURfhPz3nnzX5137/pk4bh3WO8Vfl+rql7h/xMc9Vqa+/bO\n",
       "slfc+x3mrihXVTXDdXdWmGusAXf4fo10b5rGRn59Rri5SK9jZ5+9/ldDuO/qdE732eEzPkb4LoS5\n",
       "bzZ8b+Jc3nukNcN3+7U49+29du1L19yqqiNcy+NvTZzLLf/Odb6xy7/v4Z6msU4t7x3vFwAAAACA\n",
       "rRgKAgAAAMBmDAUBAAAAYDOGggAAAACwGUNBAAAAANiMoSAAAAAAbMZQEAAAAAA2YygIAAAAAJsx\n",
       "FAQAAACAzbxrjDx9hNkwN5/ondYMc/NozE1HmE1zjd7xtYxzae/GPezc71/Uq6qqGcbS6xjWq6qa\n",
       "aTbLzfRxvMO2VfHtnuF5j871SbPxexieeGudWr0G/G59riO93lnsWzPMPfD8jPB+pzVX577ZxccY\n",
       "3sPOMR5hzTQ3jnwBOsLj/FXu39b7FX5reseYLRivcF1Jc1X58rN6Ke0cY3ze4R7kFZ71q/L38FWv\n",
       "LDfDXFivquoa77Dmnyg3x5XlKst9s9m1jHOdfVK6h42rhb+VGhuB9LwrznX22WEuPp0sOFq/lbJ3\n",
       "doTvzTGy3AjfrW/NLJvnsve1quqVrgFp71qbq6p6zXSdWr9Gxmt+/C1em/tms9xPv7HpMS7uW/W7\n",
       "PZr/FAQAAACAzRgKAgAAAMBmDAUBAAAAYDOGggAAAACwGUNBAAAAANiMoSAAAAAAbMZQEAAAAAA2\n",
       "YygIAAAAAJsxFAQAAACAzbzraMwFR5adYe6J3mnNmfZO+zZ6L7+OVVVjLO2d1wtzVTUrrZlWzHsv\n",
       "N2YYy3KdmpXWvMNynccsTqbn3bg+4XnP8IRGeuKddepOa4ZXstM7zR7hgxEfY+MeptnVuaoaYTbP\n",
       "ZdcxzfV6h7nxwDGmNcPcka57VXWEx3ks7t05xleYXZ17omZ63q/Gpzg/xqxoukxVVb3CJfIVXvL0\n",
       "vI/GPimtmV6f1wxzjf8ReIXfzvd4Rbm73nHvu66luVl/snrhmlJV9Qr3NTPd/zTWgFz2XNzxrq+z\n",
       "Hw+/IekmtrGPjJPxz5X0vPP3a4S/00ZY8xjZ+5XmOtlXmmusAUf4zr4W596NY0zP5z2zNTJdc6uq\n",
       "3uEzma758bem8Z1Lv4n5NzZuHWfzb3Hat7OXS2um9cI9X1YOAAAAAPi3MBQEAAAAgM0YCgIAAADA\n",
       "ZgwFAQAAAGAzhoIAAAAAsBlDQQAAAADYjKEgAAAAAGzGUBAAAAAANmMoCAAAAACbMRQEAAAAgM28\n",
       "a+RzwXmE2dW5qkqPcx6vpfXqGFmuUTO+jo17UyM8zvQY03rVuT7pMTZq/sqcWaxzKmHNUXdWL318\n",
       "wnJVVTN9dCu8PuE5V1WNI8ymB3mvX6fSd3s8sQaka1WYS1unl/tbM7yHYW4ejYc3zca58H1tHGOa\n",
       "TXNHeIxprlczPcb8+hzjN71fnWO8w94jzeUvWHx9wtwrXFJeYb1vNiua1kyPsdc7rBfemnd+eeqK\n",
       "r3kWfIe5q/E/Au+Z7bPvmT3jV73j3q9ww/IO368Z1ktz/5OOUul70/n3jXDTORbn7sZGIL+W6b1p\n",
       "7CMX/7wY8W+g/PqMcM0/RvYejspyx2i8h+PP4tx/xb3fac3Kcu8w95pZrqrqPbNr+QrvzTvMVVW9\n",
       "wucn/Tas/m5WVb3D1yHfg+S9V+9rntmrrO0d7w2jFAAAAADwr2EoCAAAAACbMRQEAAAAgM0YCgIA\n",
       "AADAZgwFAQAAAGAzhoIAAAAAsBlDQQAAAADYjKEgAAAAAGzGUBAAAAAANvOexytPH+EMMc2NfCY5\n",
       "f9Q77tuoGeeOEbeece+05up6zWxWcH10zsWtw3qN3nOGzcPc6FzHO8zFj1l+fWZ4fUb4zqZr35jp\n",
       "Sdf6NbKz/izvHZ534x7Gf4YKa45O71dY85Wdd57Lj3GE13z5MV75M54e47E416o5smt+jLX1qqpe\n",
       "4TP5usNceIzfbPaCvcLzic8l/W52eoffkHdjX3GF0V/lqqre4b7vCi/5HV6fq7EPuMOF/J7ZN/Zu\n",
       "7JNm+D2e4WZlhs/j7BxjvN/MYqPzjIf3cYT3MM9dUa6qaoZrWnqvW/vsOJte8/B6N+5hfM1H9n4d\n",
       "4700V1X1qiz7Gv8V5v40emc135XVfM8wF55zJ/sO18h343+40uwrfCbTb2xa75vNcu/Fuaqqd3gp\n",
       "02N8xfWe2CetzflPQQAAAADYjKEgAAAAAGzGUBAAAAAANmMoCAAAAACbMRQEAAAAgM0YCgIAAADA\n",
       "ZgwFAQAAAGAzhoIAAAAAsBlDQQAAAADYzLuOxlwwzYa5OR7oHdaci+tV1fpj7PROs2Mszc20Xqd3\n",
       "NWqutrr1nHnrEWbnneXu8B52HrMwl571qFfePL6UYfBIr3fjGI/s3swjqzle4b2uqrrXrs9pbrzy\n",
       "Z3xeYTat2bk+V5Yd4T1cnavK7/cRnssd9j4ax3jEx5jdw1bvMPv6Ua6q6nUv7p2+11X1HlnNK/wW\n",
       "r85VVZ3huvuaWc1Xuo5XY1k5st7vsN7V+MamS+Q7rHmHX+2r8Zzd4THe4ff9buyT7vEnys1wHxC3\n",
       "TvdnDflrk79fI73f4f+EjPC3xTGvKFdVdYd72BmuZ43N4QOy653el6qqMbL35gjv4THeS3NVVa/K\n",
       "3sNX+L6+6r/i3u8wm+eyY/wz8+vzJ/zd8CdcI9+NecA7XFjyXNi38Z1La77Cmq/Gb/dXuJanuffi\n",
       "XKd3uo9M94b+UxAAAAAANmMoCAAAAACbMRQEAAAAgM0YCgIAAADAZgwFAQAAAGAzhoIAAAAAsBlD\n",
       "QQAAAADYjKEgAAAAAGzGUBAAAAAANmMoCAAAAACbedfxisPzCGeIaW40ZpJhzfgY096NY/xl7xoj\n",
       "is24d1Yvzn3DD9T8DzdnIxpmw+sz6g4bZ7FvNO29vHWN8PrMyta0cYT1Zngdq2qk6+kR1kzXlKqK\n",
       "1/LVvdN6VVWv7JqPK3wywnv47Z0d5wxzY3GuVTO85kdY724c43Glva+wXv6MH+l5L869Gs94mn3d\n",
       "We7d6H3N7Fq+wrU0zo38PXyH2SvOxa3rOrJwuvzc4aOb1quqSl+He2bncofXJ81VVc10vxn+38Gc\n",
       "jd8h8Z7qT1bvkc1Kuk9Kc/kaeYV7/BHuk+44l633VVXHCL/F4d5rtm5Oml18Dxu/a9L7PUZ2b456\n",
       "R7nXyHJVVa/w/Upz7zD3zf5XlPsz01zW+8/Mr887fG/e4fua5qqq3uHe/R1+D+Nc4xvyDk8nrZnW\n",
       "e6Jmuv95N36vpPukNPcKe/tPQQAAAADYjKEgAAAAAGzGUBAAAAAANmMoCAAAAACbMRQEAAAAgM0Y\n",
       "CgIAAADAZgwFAQAAAGAzhoIAAAAAsBlDQQAAAADYzHu+GnPBEWaP19p6VTWPtHeYC3vPxjH+tPcY\n",
       "S3vn9cJcVc1aX/M/3pxxdKTZmV2feYTXMaxXVTXCe5iededOz7DqCHPp2jdmuJ5V1XzdWc07qzmP\n",
       "rF5V1Qh71x2uAatzVTWu9N6ET1Caq6q6wnuTXvMwF9erqiPMxs9ZeM5p36qq+3VlNa/suTjS57aq\n",
       "XneWve/sGF/hs3sfWb2qqle4D3iF1/w111+fd/iNvcJvyNX4hqTZ68je7VbvkdWMl774XLJ635ph\n",
       "Lj3G8Cub9v32Dt+b8NFttM63VJ2igc62NHzMaoRFR+P/N0Zle4sxPlHurneYy9fIGWbnCL+Hq292\n",
       "Q7on7t3D8Ns5snt9hM/EEd7rqqpX/Yly7zQ3s1yn5p+w5p+ZnfefxvX5E96bP+Fv8j+NBSjNprl3\n",
       "2Prd+M6lNf+ENd/poltV73BvkdZM671axxju5f5/du1gSVId2BKtC4j8///tBL1BnDvsa9vtKTqq\n",
       "SmuNt7kLEEKhzDQXrqX+UxAAAAAANuNQEAAAAAA241AQAAAAADbjUBAAAAAANuNQEAAAAAA241AQ\n",
       "AAAAADbjUBAAAAAANuNQEAAAAAA241AQAAAAADZz1XHm6SM7Q5wjrBnWq6qqEfZOa4b1OmOcac3V\n",
       "uUZ2jhHWS3MfOFdOe1ea65iLy+X1ZpzNrns84bOZd9i3aqa943q5EabT+zjS+302RjmftTXTelVV\n",
       "T5g90jGGubuxBqQ1n/AZdp5Nmg3HOMPcOPP3a5zZvRxh7yPsPcO+VVVH+LzT+3Pc+f05wu9xmjvD\n",
       "d+FJ35lGzSvt3VgD7rhmtkLfM7uP98jfw3SMd1iys/w84d/Bw+Un7p3e76qq9LOdzor0MzePfIzp\n",
       "lIz3m43/T5jprmFeacFQfn9GvE8K17PGPvu3st9fZ5i7K1ufn/Eb5aqqZjh789zifXtL+qzz+XOE\n",
       "z2Z9LnxnquoKs+d8La1XVfUK3+04F/Z+pWcbVfUK3+1X+G5fjfX5CpeLNPdanOv0vsLL7vR+hfuV\n",
       "6whzYb1XYx+Z1oxzYW//KQgAAAAAm3EoCAAAAACbcSgIAAAAAJtxKAgAAAAAm3EoCAAAAACbcSgI\n",
       "AAAAAJtxKAgAAAAAm3EoCAAAAACbcSgIAAAAAJu56jjj8EyzIzxrPPIzybm6ZlgvvuZGzRoj653W\n",
       "+0Dv5fWqalbaO6/5PXNprKpqzCdMhnO3wnozv9+j7qUlO096hjdzpPd8ZsEZ5qqqxpHd83mE1xLW\n",
       "q6qaZ5YdT1gzzYV93zWzuTvu8Nmcw4crkQAAIABJREFUjRcszYa5cWbvQp35Oj7Ce3mEvWfYO+1b\n",
       "VXVcYe/wWZ+N+/OEc/J8sjE+4RjTXFXVeWS9zyNb/c6Z977C3k+4QN/hN+lufEPS3k+4Rj6N9fkJ\n",
       "Pw5P+GyedBvQ2Mqlb+Liz1xnq5Lv5dL/O0i/NVVVle3JRzjGdL8wGnP8CPewI5wYd+P/N47w/tzj\n",
       "inJnuOd7wlwnm+754r3uB8TzrPEM02z6rNPcOfPfu2dl8+eaYS6sV1X1Csd5hdf9GmGu8Qxf4VnE\n",
       "K1wr0lyrZng5V5h7NX7Qpb1f4T7gin/4VV1hzVdY8xX+TuuNMay5OOc/BQEAAABgMw4FAQAAAGAz\n",
       "DgUBAAAAYDMOBQEAAABgMw4FAQAAAGAzDgUBAAAAYDMOBQEAAABgMw4FAQAAAGAzDgUBAAAAYDMO\n",
       "BQEAAABgM9c8rzw9sjPEeYRnjWG9qqo6zqx3WvMDY4x7rx5jo+asEdZLcx84V057p9fyETOMhbmq\n",
       "mukZ/Xyi2EifzXNnuaqa4bMZT5bL707+tDt3POrbeYbn4prhs+5k5xPOn3RePI01IM2e4XU/+bMZ\n",
       "4bOJe5/hHL/y92uE9yfPZb2PxjOcYXaG9/E48/tzpr3D3BPen6dxf86ZzYtrhmOc+f15jqz3E64V\n",
       "d9j7Ca+5k02vutU7XPPT+/OEe7TGKl5P+KWLPyHptiKLtbOZzjckvZvhGhlWG415doTZI+z+27g/\n",
       "R2W/le7wDXvS3MhneVpzhjMtzf1POrP298VoPcMse4QvdzonzjBXVXXNtTXTelVVV1jzFf4GWp17\n",
       "Z7P58wq/2T9h7l3zO7mrsYy/RvYeXkeWe4W5Xu9sTbsW12v1Xpzzn4IAAAAAsBmHggAAAACwGYeC\n",
       "AAAAALAZh4IAAAAAsBmHggAAAACwGYeCAAAAALAZh4IAAAAAsBmHggAAAACwGYeCAAAAALCZq44z\n",
       "Ds8jPEMcYc20XlXNEWbDmnG99FqqqpaPcazvneYq690aY1izWjX/cHPG0VFhdj5h6ywXP5eqGvPO\n",
       "ei/v3KmZ3scsN8/GM0yf97n6GVaNJ8yGvesJ1760byd7ZuvUePJnEz/HK8yF1xI/l6qqM3u/Rnh/\n",
       "jjA3w769muEYr3wfcDzZOI8nq3mGuSfsW1V1pTWPrOZ15KvkE2afmeXuMPc01qm0d5w7Gr3T3Azn\n",
       "ePityVepPDvD+xPXC3M9n9jLhd+G8FucTp/RuJYjzB7hPEtzVVVn+JvlDvdyd/jWPPHblWfz9+sT\n",
       "b1j2DNNZMRr/g5POtXRenJXNibMxxjPsfX2g9yv8HXuFuVf4m7PzLU5r/oQ1X41/4foJs6/wctLe\n",
       "P0f+Hr7C7GuEuU/0jnPZepbmOtkr3keGe+coBQAAAAD8MxwKAgAAAMBmHAoCAAAAwGYcCgIAAADA\n",
       "ZhwKAgAAAMBmHAoCAAAAwGYcCgIAAADAZhwKAgAAAMBmHAoCAAAAwGaueV55emRniPMIzxrDeu/s\n",
       "+Z3ejTF+s3f8bOKaI4yFuY/V/MPNmUcrzM4nio0wVyPMVdV8smczwmc90zlR8ezp3PKsb+cZnuG9\n",
       "TJ/h0Xg2Ye90Xswn+zaMJx9jpdkrvOdP42FfdxQbac0zzTXuT/oMz/Bazmy9P67Gd+5J72PYO8xV\n",
       "VZ1nuK6ENdPcE65772xW85rhtYS5qqpnhtcTrgFpbs5sTrxrLs7FnfN7OY+sefrN7nyS4s9N/Nr8\n",
       "+fup3i4y3IOEE+MI9+2dfUA4feoIr+VsrAF3+M7elf2musM37Gm8iU/83oTrT9y5k073umm1zl43\n",
       "yx7hen+Gi8XR+D+hMxzjFf7mvBq9r/A3Ytz7yOq9Gj/JX+EY05o/nd6La/6EC1rr/sQ1w1zjd+wr\n",
       "/F2V1kzrXY3fc9eR7alW9/afggAAAACwGYeCAAAAALAZh4IAAAAAsBmHggAAAACwGYeCAAAAALAZ\n",
       "h4IAAAAAsBmHggAAAACwGYeCAAAAALAZh4IAAAAAsJlrHmeeTrMjO2ucYe6rvY/GGFf37tyf5TVH\n",
       "GAtzVTXjbF7zjzdnHB0VZucTts5yab2qqhE+m/RZj878CXNpxZlWPD/xDLPc7MyfNJs+7yfNXVmu\n",
       "VTPMXfkaOZ7wnp9Z73Gl19KY48+d9X6y6x6L61VVHWe4Bpzh97DxDGd4L4+Z1TzC6z4bz/AJa86Z\n",
       "1XzCXFXVFV53WjPPRbFWzfj+NPYLac30cvJcY46ny3jcO7V+3/WJHV9cM9xbHOEyfjTm+JmuK+HT\n",
       "+W3coTuca3dlF/7Ea0p+g57wutM9WryX+4B0T5zm3tnMET7rI6x4NvbjZ9g7rXk1eqfZOHdkuVfj\n",
       "J3mafYWX3en9k/YOF7X4WhqLZJr9icfY6Z2tfetz2X68U/MKa15nlvOfggAAAACwGYeCAAAAALAZ\n",
       "h4IAAAAAsBmHggAAAACwGYeCAAAAALAZh4IAAAAAsBmHggAAAACwGYeCAAAAALAZh4IAAAAAsBmH\n",
       "ggAAAACwmavOKw7PcWbBEZ41HvmZ5Ld6z7Rep3d8LWN57/h64t6dMa6u2egdm4vL5fVm2ns+UWyE\n",
       "ubReVdUM7/mYWS6tV5U/7fSOj9XPuqpm+rzPLDca8yd9jnNma/54st7zyefPeMLvTdg7zlVVXeE4\n",
       "n3Cmpb3TvlU14t730nrH0/gWL645O72vrPeZ9g7rzXA962TT3NXqnV33s3iMnXV8VjZ305qt3vH1\n",
       "hPXivmGwqrUvXqm3mwr3AWm1D2wjR7jsHuEoj8YzzGtmRc/GBLrD7B2OMf16PY39VJpN91Prd3K5\n",
       "fI6v3+vG8yzMnY0xptnVuaqq8LNd15EFX3G9LFdV9Qqzq3NVVT/hYpXWTOv9HPleNx9jVrPTO635\n",
       "OrK9Sp7Lx3iFNa9zbc5/CgIAAADAZhwKAgAAAMBmHAoCAAAAwGYcCgIAAADAZhwKAgAAAMBmHAoC\n",
       "AAAAwGYcCgIAAADAZhwKAgAAAMBmHAoCAAAAwGaueVx5epxZ7sjOGudonEl+q3fat6oqrJn37tyf\n",
       "sbhmOsaw7zu8NNYIfsAMY2GuVfMJW2e5tF5V1Qif93zSZ7P+GaYVZ3y/G73PLDzTeXHmz6ZmtpaP\n",
       "sPd8st7jyb8h6Zwc6ZwMx9jJjiu9P1luhLmqqrrS677D3uHb8OTfmmNxzXytqJozXX+y3ufieu9s\n",
       "WHOG9yccYyf7rdw7m+bS3nHrzlL+F1j7N/3WlzjdyoX7hdFYxtNxxjvdsGC87lXVGUbTz/vdeL/u\n",
       "8IW4w5fhGVnwabyI6eOeYe/WNnux+KdX4w2L53jYPH8XOnM8y6bvwtXofYUXdKW9F9erqnqFNfNc\n",
       "PsnTmj9hzZ8je2PTer2aWe4V5jrZV7hAv45sP/46s1wnuzrnPwUBAAAAYDMOBQEAAABgMw4FAQAA\n",
       "AGAzDgUBAAAAYDMOBQEAAABgMw4FAQAAAGAzDgUBAAAAYDMOBQEAAABgMw4FAQAAAGAzV51XHJ7j\n",
       "zIIjPGs8wnpVNdOacS7rHfdt9V6ca9UcYcHV9apmhdlGzT/enHF01LO25kzr3VmuqubM5sWI/97Q\n",
       "mT9rjbBir2+WHvG8CJ9hVc3F82I84bchnWdVVTOs+YQ1r07vMPuEz/AK509Yr9c7fYbhu/3k35rx\n",
       "ZO/sCGses7EGhOtPhWOcYe8zrNepuTr3md5p3yxXla+n6X6hsz7HvdPrbvT+mnBv2Nl2jXApzXeb\n",
       "efN0pTrCkkd4LWfj/vzGNbOiv+s/IXWHuSdcK57GIpB+teP3cHzvTUynxWi8YPF7k87xsGJaryqf\n",
       "u+l7czZ+7l5hzTgX9n59YIyvI5u7nd4/cc3sTVxdr5ONc2f+O/bnyLJp7nWm15KPMb2eK879Rjn/\n",
       "KQgAAAAAm3EoCAAAAACbcSgIAAAAAJtxKAgAAAAAm3EoCAAAAACbcSgIAAAAAJtxKAgAAAAAm3Eo\n",
       "CAAAAACbcSgIAAAAAJtxKAgAAAAAm7nm8crTIztDnEd41jjO5b3TmjOu1zg3XV3zA73j664RxsJc\n",
       "p+ZHeqfm0liNNFg1495P2DrL1WzMs3lnsfgZ5q3Tx53f8bBvo+CcYfhc+6yrqsbimvP5wBjDmvMJ\n",
       "53g6xqqqNHuFuXCMdX3g/qRrwBO+NE/2XldVHXHN9IXNF4G5uPeZ9k77VtUMa67OvbNp7ntjTBf9\n",
       "vHejdTzOT+wtvmOEy89o/I/A6rvY+e+EdB+QrlNnWO/Ml/G45m+6XWj0vsM5nn4O41wWa9VMX+14\n",
       "v9kpungL+4lfSkf4MhzpO9MYZPzeLM5VVV1h9goXltX1qqpeRzbRrvAHRlqvquonzKY1f47s7X6F\n",
       "uU7NnyPbm6b1qqpeZ1Yzz/0urVdVdcU1s9wV9vafggAAAACwGYeCAAAAALAZh4IAAAAAsBmHggAA\n",
       "AACwGYeCAAAAALAZh4IAAAAAsBmHggAAAACwGYeCAAAAALAZh4IAAAAAsJlrHleePsIzxHGGufxM\n",
       "cq6uGefCvo2ac/UYO9kxwoKr61VVdbLfqNdpPcNgmquqGWbD3nM+Yd87y1XVmOk9D3NxvaoZ1hxh\n",
       "Ln8yeXLE2fQZfmD+HNm8GGdYL51nVTWfrOYIa3buT1ozvp4nvI+NMeb3J6wZjrGefA1I39l0rRgz\n",
       "/84dz9p1ZS7OVVWdq2t21sjV1532DXOtmp2i/5Bv7ZJ6O7m13+KjsdcNP191hheUrilH4wad6RjD\n",
       "OX43et/pp2F5Lh9kumP4xBqwumT8fjWeYfwrLZ3ji+tV5e9XnGv83E1rXmnuyGbFq3F/4ppx73zm\n",
       "vsJFMu39E9fLfwv8HNme8ydcTNN6VVWvMBvnzix3nb9RrlczzF1Zb/8pCAAAAACbcSgIAAAAAJtx\n",
       "KAgAAAAAm3EoCAAAAACbcSgIAAAAAJtxKAgAAAAAm3EoCAAAAACbcSgIAAAAAJtxKAgAAAAAm7nq\n",
       "vPL0OKPYHOFZY1jvnU1rru0dX0ur9+JcK5v2HmnjMJfXHJ2aXzLjYJysGmF2PmG9MDfzeTbjbJYb\n",
       "c/2zTu/4CJONJ5g/7zA3zkb3cF7MxWOM52NVjdU1n7x3PeG37gnHeC2+j9V4ZcP7M9L705nk4Ts7\n",
       "nix3hLl37zSX1Zzp+tNZp+Lea+tVNdeqpN4X709rb5G2Xl5xfed465XWW5yrqhrhII9wX3o01vEj\n",
       "7R2WPMILPxufmjscY/p5vxsT904/nWG99HOY5qryt6FTc3Xv1atP7/3KcvFuPK3XGOSZvjeLc53s\n",
       "dWRP+wp/e12Nn+SvuGb2Jr7Ca+n0/ol7h7nzjnK93lnNVu8w+zp/l/Z+XfkYryvrvTrnPwUBAAAA\n",
       "YDMOBQEAAABgMw4FAQAAAGAzDgUBAAAAYDMOBQEAAABgMw4FAQAAAGAzDgUBAAAAYDMOBQEAAABg\n",
       "Mw4FAQAAAGAz1zxeeXqEZ4jjXFuvUXPGY1ycq1p/3Z3eNbJUXDOrVyPMdWrGue+JRzhmo2qYnU8W\n",
       "C3NVaa4qvvIjy82ZP+uxeP6kT6b1CMOqeclG8/B5j7l2nsW5qppp7ye9lvW945ofuD/1pGMM51lY\n",
       "r9LnUlX13FFspO92Zw0Is2nu+MAY01t5xjUbvePg+vX5X7L8qtO9YaN3nAs/YGmuqmo82T4y3W0e\n",
       "jTuevrNH2P0MX9izsde9wyX/DG/53XgPnzB6p5/iNJfFqipfI9MZ+YEtWi79qbS+ZLrNXp6rqkpX\n",
       "tCNcV67Gz90zHOcV9w5zjTUyrfkKa76O/A1Ls+tz2d6wqurnXFvz5/yNe7/OrObrCnNh7zRXVXWF\n",
       "va8rq5nW85+CAAAAALAZh4IAAAAAsBmHggAAAACwGYeCAAAAALAZh4IAAAAAsBmHggAAAACwGYeC\n",
       "AAAAALAZh4IAAAAAsBmHggAAAACwGYeCAAAAALCZq44rT48zzGVnjTOt16iZ59ZeSy+b5Uar91ja\n",
       "O6+X5hrZuPdfYM5OOMw9UWqMLFczzFXVnOH8SXNP/qzTko2KC1O99AjnxWw8mzrDkaZzMu3dmOPp\n",
       "dae95wd6p/c8v5bGDHq+8wzja2nUrHmHubz1kWZnuArEubBvp2a6Un2id5jrrX1rfbP3ap0tTTx7\n",
       "0u1UeCePxh2Pd7oj7N3Y6x7hnuEM78+Z1mtMyDu87it8D+9O7zCb5p50reh85sJcvNx/cbGIX+3G\n",
       "GpC+DekasPp9rWq8X2HNtF6n5hVuGK60XuP+xL2P7G14NXq/0ppHtkeL653hnq+qftLeYc1O79f5\n",
       "uzR3XWtzVVWvxTXPMOc/BQEAAABgMw4FAQAAAGAzDgUBAAAAYDMOBQEAAABgMw4FAQAAAGAzDgUB\n",
       "AAAAYDMOBQEAAABgMw4FAQAAAGAzDgUBAAAAYDNXHa88PbIzxDnOpfVa2dW9G2Mc6RnrB3rH57tj\n",
       "hPWy3Ahzn+j9Vxgzjs4ZZseTFgw732GuaoS95xM+w84Un1nN9Ko/McviZxiOcsRXU/HznmdYM72W\n",
       "+Jqraq6du6PRe4a9xxPexzCX1quqqmvtPU/vTz5vG/d8hutK4/aka8AIc/HyE9b7r3tWcu1S0evd\n",
       "KfmH+8xuIXy/wubjbrxfce/0G5LtidN6VVVH+nl/sjcs3LX/1ztrfoafmjOt11gD7nD/k06Lu7E+\n",
       "3+E4089SeBvjep2ana1FanXJT/yqideVsF78vjbWgDOseYY101yn9xX3zmbkdeRjfIW9ryPr/Qpz\n",
       "vZrZHi3t/Trz35Jx77Dm6/rNe59ZNq2Z5q7GGM+05ivLnWHOfwoCAAAAwGYcCgIAAADAZhwKAgAA\n",
       "AMBmHAoCAAAAwGYcCgIAAADAZhwKAgAAAMBmHAoCAAAAwGYcCgIAAADAZhwKAgAAAMBmrnlceXqc\n",
       "YS48a0xznd7hOef4yBjT7Preo8bimmm9MNep+bV6HXNxrmqMMDvTZ/hk5TrPcGY1x5HVnLPR+wmz\n",
       "4e1Jn8xoPMOaa+fFjOtV1Zll4+sJn3Wcq8b1xLm894ivZ/X9+cD8WZxLl553yXAN+MAzrHlHsSNc\n",
       "V54wl9br6EyLuGb4TUx3U9sKX4h8VjT2AWku3aKFvY94j10Vft7rCO9jmquqOp7sA3+GNc+w3tVY\n",
       "A37Dh3OHNdPcO5tdd7r2PWm9ztuQfhrSenHnbjgQv4fLS+bvV1wvDDZ6x+9ho3da8zqyvUVcr7FO\n",
       "pb1fYS6t16uZ7adeae7Mcp1smrvO37z3lWXT3LU418meae6V5fynIAAAAABsxqEgAAAAAGzGoSAA\n",
       "AAAAbMahIAAAAABsxqEgAAAAAGzGoSAAAAAAbMahIAAAAABsxqEgAAAAAGzGoSAAAAAAbMahIAAA\n",
       "AABs5qrjladHeoYY5uJ6VWOca2uuvpZGzRH3Hst7pzVH2ns0xhhfT6fmn24uz8605niy2Mxy7953\n",
       "mFw8z6riVzG+nLReWK6qaoTh9BmOmXefaTa9QWdaLx9jfD3pGDtzN+39rH02cd9Gzfiex7ksVtWY\n",
       "4+Gz6aw/rZcxcKRTolEzvT9p79738F/6dn5R+BDjHU06KSrfUo07HWO2dz46283weo5wX3qk+/uq\n",
       "OsPe58wuKK13h/XevbPrvp+sZvioq6rqCcd5h7M3/BzWbNyfdD3t1Ewt/oQ0Vty8c/oupr2P+H0N\n",
       "CzZqxu9rY41cXfNKc0e+E0izV/g7rdP7dWa/09KaryOrl/atqrrO36U1ryurV1X1CrNpzTj3yseY\n",
       "Zs/FOf8pCAAAAACbcSgIAAAAAJtxKAgAAAAAm3EoCAAAAACbcSgIAAAAAJtxKAgAAAAAm3EoCAAA\n",
       "AACbcSgIAAAAAJtxKAgAAAAAm7lqXHl6ZGeII8yl9d7OtTVXX8s7vbR358x2jLD38jGmfT+T/PPN\n",
       "RjLLjrhmdh9n68mk2TvsvV46deeTFmw8w2PtM5wz753Pi8W9z/RGVn7T096d+xPXzMaY3p8RT7RO\n",
       "zcX3p3Ef02w6xt4cT+dPWHBm61nnixQuAQ3/0vdwvc7dGeFaHucW931n19ZMc8edj/EIP7LnyPbt\n",
       "Z+P+nGnvJx1j1vt+8pl2hmvaHT7sJ1ynqqruMJvWfMJH8zTexPizFO9h/3ytdSr9LRAWPdI1ICvX\n",
       "qpm+X701IKx5ZPuFK6x3hfU6vV8jHOOR/aaqqrrCPXla83VmuSvMvbO/a3tfWb1ONs69stwZ5jrZ\n",
       "1Tn/KQgAAAAAm3EoCAAAAACbcSgIAAAAAJtxKAgAAAAAm3EoCAAAAACbcSgIAAAAAJtxKAgAAAAA\n",
       "m3EoCAAAAACbcSgIAAAAAJu56rji8BjpGWKYi+t1slkuvpbOGOPeY2m9/4pmsUp7h7n4Who1w1yn\n",
       "82qz5vKaI66Z5WZ8H/M7mdaM5+Ns9E5vzxPm4ter86zXPsP8ohtzcmY3aJzpjWyMMb2e5Q+74utO\n",
       "e48w11kr4pqLx/iZOZ4Z8847L54/o7LenV3AE65px+pv8V9i+VWPxnzsZJNyYb0094max+JcVdVx\n",
       "Z29E3jt/w45xLu19hmvF3djrxjXDtSJdUz5RM85FqbcZ1oy/Xq3Xeu16Gu/bG23jX4jpWrG4XlXV\n",
       "uXhdSet1sueRzcprZLm0XlXVlfaOc/k+Ka55ZjXT3tfVGOP5G+bS3lm9qqrrFfYOa55pvTD3rvl/\n",
       "lvY+0lyUAgAAAAD+GQ4FAQAAAGAzDgUBAAAAYDMOBQEAAABgMw4FAQAAAGAzDgUBAAAAYDMOBQEA\n",
       "AABgMw4FAQAAAGAzDgUBAAAAYDPXGGeeHuEZYpprnEmOL/WO+zZq1hhZrHNmG9asSnuH9eK+ee+/\n",
       "QX4lMy8aRud4olz8DFvPZW3Nxt2JO8906obd52iM8ghrhr3H7NyhbF7UzHIz7d0Y4zjXjrHTe15p\n",
       "du11d55hes/TmnG91jqV3p/F9aoqnePxux3Xy4VLQPq2/iV/uW2sAfnECAt2ei/Ohb0726S8ZprL\n",
       "ZtoR5t7Z7HfD8WRjPJ78d8gZ1jyf7M25w9xv47fAGX6/7pnVfNJNTVXdYTatmeZmY4zpTOvUTHW+\n",
       "NomP7LLTdzusdyxeU6qqzjCb9k7rvbPZDDrDj3Fa7zryNfIMs9dxL+99nVnNM+0d1ruu3yj3iZrX\n",
       "ldWrqjrTmq8sdy7OdbLH6lyUAgAAAAD+GQ4FAQAAAGAzDgUBAAAAYDMOBQEAAABgMw4FAQAAAGAz\n",
       "DgUBAAAAYDMOBQEAAABgMw4FAQAAAGAzDgUBAAAAYDMOBQEAAABgM1eNK0+P7AxxhLnWmWTau8bS\n",
       "enHuE73Teh/pvbjvf+mVsc79WW8ujVVVzZGF43s+n7Dv+nk2w1znCaa3chxZMrw9cb13zTAbPuvZ\n",
       "6D0qfN4znGdhbqY3siq/6Wf6fq2/P2nN9D52FoH0nsfXHcc+McawYOsZpq2zZz3CQab1quJXO979\n",
       "NN6uxo5q9dxtfOhS6cNubQPWrs9pbqT1Gtk0d4S53w+M8Qi/h8edz/J7nFnNcK97h7nzyN+u+wl7\n",
       "h9/DZzZ6z+yFeMLcXFyvqvNpSPebf770W1NVlW7J05pHWq+xBpyL159z5GtAXPPIaqa9r7Bep/d1\n",
       "3mG9LPeumV5P2Pv6Dfs2xnit7Z3mWr1fYe8wd7z+T5R7Z8OaP2t7+09BAAAAANiMQ0EAAAAA2IxD\n",
       "QQAAAADYjENBAAAAANiMQ0EAAAAA2IxDQQAAAADYjENBAAAAANiMQ0EAAAAA2IxDQQAAAADYzFXj\n",
       "jMNjhGeIaa5xJjnGWFszHOOotO8Hasb38V11be/GdcfSMa6t9xkzS3WmT1izZto7vd9P1rfSq64a\n",
       "6aW07k9Yc3XBvGKN8MLnkdbMe8/wOY50/qT1GmOM35twjHXmcze+l2HvMcPe6bVU47rDa0mfdWee\n",
       "tR73dwrm60/4DPP72KgZ1uvsAtK34Vh8zzvbhTSb11y/PudjTOt9YozhPPvAGI8w+/tkYzwav0Pu\n",
       "J+t9Ptmbcy/OVVXdR1ozm2jPbPQON1VPmJuL61VVzXD1S5fd3mq2+ndD+H41KsbrT9g7fV8/sQac\n",
       "Ye4I17OqqjPcP59hzfNYm3tn76U1rzOrV1V1htm0ZlrvvPIxXufv0prnK6v3rhn2DmumuaMxxjS7\n",
       "PBelAAAAAIB/hkNBAAAAANiMQ0EAAAAA2IxDQQAAAADYjENBAAAAANiMQ0EAAAAA2IxDQQAAAADY\n",
       "jENBAAAAANiMQ0EAAAAA2Mw1xpmnR3aGOMYICzbOJNPeac0PjDG/7iwXX8u7+eLeab2GeIyfkPae\n",
       "S+u1rnhmvefIciO9lvSS30WXlgwv5b+ai687XPvSvlVVdYRjfNJn/eS9x5XlwjHWzHrPtF6j5jjT\n",
       "6857z/D9qrR3Wi/NVdVI14DFveN3ptH7I+vPYvlXIX8P0+tO3+3OZ/MIs0+48Kb15kc+7ek63ni/\n",
       "4m1SOMcX51o1029N+qyPfI6n2ePOvrF34/7cT9b7frL98/2EYwzrdbJP+IJ1ej/hy7g6Nxu73RnX\n",
       "XFvvm1prwOKa6TfpaIwxzaa5s7P+LK6Z5+4o16oZ7jdbvc8sm+auK633G+Wqqs605pXVPF6N+xPW\n",
       "PF9p77W5qqrjZ23NkdaLUgAAAADAP8OhIAAAAABsxqEgAAAAAGzGoSAAAAAAbMahIAAAAABsxqEg\n",
       "AAAAAGzGoSAAAAAAbMahIAAAAABsxqEgAAAAAGzGoSAAAAAAbOaqccbhMUaYDM8aR34mOSrsHdZc\n",
       "Xa9XM72Pae6bvTtjXJ9cb3XvmSfDZzPSmvMJ+zbmeHo54bXkdyd/Mp2aWd/GM0yz6Y08OleTZdMx\n",
       "jpn2bowxnZNp73iMVeNcez2fGGMqn5PptTR6p5e9uF6r6uJb3vkqzMrm+AgvPK1XlY8zXfHT25iP\n",
       "sOpIH3icazRf3Dt9hp11fITZ8bt2nh2NMabZ48jGmOaqqo47+81yPNksP56s9xnWq6q6w+wzw1yj\n",
       "9zOzF2J1boa5Ts3U7CwC6zeIYWz9PiBdS+M1oPExXl3zHI01IFwvzsXrT1qvkz3Pe2nuEzXPa/0Y\n",
       "j7Tm6zfLXVmuqup4Zb2PsPfOm/w7AAAgAElEQVTqXCc74t7hNUcpAAAAAOCf4VAQAAAAADbjUBAA\n",
       "AAAANuNQEAAAAAA241AQAAAAADbjUBAAAAAANuNQEAAAAAA241AQAAAAADbjUBAAAAAANnON0TgX\n",
       "DLOjxtJ6/1M1S4U1x+J6jZr5taT18t55zUbvVHx//iX5NY85l3ae6fva6DvTV3s+YTB/v9JRjjiZ\n",
       "5WadYb289xxZblR4Hxs1K8zNI+s96sr6VtUM51o6J2f8rN/pLBZe95nWy2LvaFpzbe906rxLpnM3\n",
       "fYa5v+ELko5xjvT9aqzP4XoR1wwnxtF4ME9aMy3YmLwjXXe/lKuqulf3PrLc85t/a0b4bTiO7Nt5\n",
       "hPU62fPJZtB9Z2N8wnpVVXeYfcINVaf3Mxf3DnMz3Rw2svFb0+kdJzNx5846leYWrxVHY4xpdoTf\n",
       "uTNcp9690/Un7b22XlXVed5hLuwd1uv1znLHFdYLc+/s79LeR1ivqup4hb3jXDjGsF5V1Uh7/2S5\n",
       "uF6UAgAAAAD+GQ4FAQAAAGAzDgUBAAAAYDMOBQEAAABgMw4FAQAAAGAzDgUBAAAAYDMOBQEAAABg\n",
       "Mw4FAQAAAGAzDgUBAAAAYDNXjfxccKRniGOsrdeomZ5zjgrrxX07NdPr7vRenIyfYd55vW/2nusr\n",
       "ppcTBkc9a/tW1ZjZ3E1rjvW3sWZcNMuNxrOedWbBxWOsqhphzXlk86LqyurNxhiPcIzh3G09mxle\n",
       "97l4UnbuT3g9eckPzLN0jHG93CdqfqdgvrVI34WqxvuQrj8fuO4jXafiMTbWgNU101y47nWyI1zH\n",
       "x2+We0ZjnoW9n3SMR/jdrKoj7f1kNfN6+e+VM8ymNZ/GJm11zRnmOmNMa850AfrAPnK5zj473ZvG\n",
       "P+eyeuna/K6ZvTdpzfQ97GTT3Lm4XlXVeYY1zzusl+U+UfO41uaqqs645m+WezXuzyurOeLeYb2f\n",
       "LPeumV3PiHuH8zFKAQAAAAD/DIeCAAAAALAZh4IAAAAAsBmHggAAAACwGYeCAAAAALAZh4IAAAAA\n",
       "sBmHggAAAACwGYeCAAAAALAZh4IAAAAAsJlr1Jmnx8hileVq5GeSec0wF56Hxn0bvfOa3+wdN15c\n",
       "71M1/3zxVYfBmc7xOdPONccT1sx6zw886s71JDpjjHuPbN2d1biW9NmENecIex+d+51mwzE2nnX8\n",
       "bMJc3Ptcf3/SZ5jfx7BcQ/radFqvrpm/2t/7JvU6Z2tA+m6PsF5rkOm6EuaORu94TYu3sOF9bKyR\n",
       "I13H02f4iTHeWfb5za7lOMJ5VlX3ke0tniftndbLf6+k2dW5qqon3LDMtHdar7FRmuELln+XOotA\n",
       "Hl3buvF+pbl0DVicq6o60vU5fLc7688RrpFp7/NM691RrqrqSGueWc10jJ2axxXmFterqjpev0tr\n",
       "HldW7907qznCMaa5tG+nZv2E780ri/lPQQAAAADYjENBAAAAANiMQ0EAAAAA2IxDQQAAAADYjENB\n",
       "AAAAANiMQ0EAAAAA2IxDQQAAAADYjENBAAAAANiMQ0EAAAAA2IxDQQAAAADYzFUjPxccNcJglovr\n",
       "VVU+zsW9w2tp1fwbejc6x8nVrZdfy3fNubZeendm5zUMw2nNtN47HPZe/LeO0Xgwc5xpMuvduJZ5\n",
       "hL2f8HpGmDsa9ye97vSeH8/y3vmzWd037726XGclXTzCj/TOn01YrzPIOLt+H1DjDktmuRmuAWPk\n",
       "72G8rnxiSxP2PsI1babXnV5zVY30nodjHL/ZGEdjLT3Cmk/4TXruRu97bc3nzL6xT9i3qup5skn5\n",
       "PGHvMFdVNWdaM9xPpXu+xl4urhkXbPSOk5lP/ApJ14B4PYvX8fXr1BGuK53eac04d66t966ZfWPj\n",
       "3mG9qqrjSnuHubRemOtkx/Wb1XvlvccrrJmOMaw3OmP8Cd+HV/huv7KVyn8KAgAAAMBmHAoCAAAA\n",
       "wGYcCgIAAADAZhwKAgAAAMBmHAoCAAAAwGYcCgIAAADAZhwKAgAAAMBmHAoCAAAAwGYcCgIAAADA\n",
       "Zq4xRiOeZUd61viR3mHNsHdc77/0H987rRY/m7V9/x7rrzu95XMu7tvIzvDdHvVk9Ubj7xLhdcfX\n",
       "M7KC6TX/TzpqXWdYLX/YI5wYM7zucYT1nuxZv4uGNcPeo3F/Yul9DHOfGOMHrjqWvl+fGOPq3uk3\n",
       "tnMtve92VPAz2aTcSNfxfA0Y4RpQ4w5zjTVy8fqTrqUV1nv3Du9lmBtp7s6fYTrGtOa482/s+A1r\n",
       "nlnN486+xc+Z358nvJ75ZLnnyV/sOdfWnHNt7lM1/yXpOpX+ZsjrrV/H033kka57jWy69qX1jsYa\n",
       "kGaPM/vOjVbvrOZxrc2NMPeu+bu05vHKe4+0d1gzzzV+K72y2HiFi8Ar+875T0EAAAAA2IxDQQAA\n",
       "AADYjENBAAAAANiMQ0EAAAAA2IxDQQAAAADYjENBAAAAANiMQ0EAAAAA2IxDQQAAAADYjENBAAAA\n",
       "ANjM1TkXHDXCYJaL6/2X/k7vxhi/2TvMhkNs9v5mzT/dbGTTZ5jVnPMD9zvsXR/onb43M53kM1v7\n",
       "RusZZjVneB9HY32e40yTS3PpfKyqmsfa3rPxbNLnOGf6bDKd2ZOGl/duDTLzkfsT9w7XiuXfzcb6\n",
       "E29p1u9B8ub32rZVNccT1kxfhqxeVVWl60/cO8sd8bqXr5EjzD1pvTsf43OEz/AOc7/pt6vqCHs/\n",
       "d1bzObN6x51/i58z3Ac8We558hcsrZnuD2fYu7PfjHun61TrI7J6b7r+C5avfWvrdfZyR7qOx+tZ\n",
       "vo6n62la8wjXgNYYz+zbGfcO61VVHVf43U7HmNYLc62ar/W9x+s3rBk+m1c4L15Z7F0zfLlf4bfz\n",
       "dUUx/ykIAAAAAJtxKAgAAAAAm3EoCAAAAACbcSgIAAAAAJtxKAgAAAAAm3EoCAAAAACbcSgIAAAA\n",
       "AJtxKAgAAAAAm3EoCAAAAACbucYYjXiWHWGuvtn7A2Nc3jvOdYbZueffqPeJip2qc2nX+aGrSYyR\n",
       "XctsXHI6x2f6ejV6z3CSj7h5eC2tv51kFzRmVnPWmbcOb+YIa870XWg8xBHWnGnNRu+05jjCMabP\n",
       "urGmxPd8ce/Wqrd4SeuUS1/teL8Q1sv7rt8HdL4hX9v/dO5PfM/DOd75iMTrSlgvXCvqeMKCjWyY\n",
       "O8Lc/M3HOI7sG/LcWc3RuD/zzr6dI+x9PFm9J+zbqZley/PkL9hM9xZhzbheY5GM95xpzc4+8kt7\n",
       "8tY6tbjm6lxVvk9K3+1W73Pt2peO8Qj7VuVjHOcd9s5yVVXjSq8nqzmutblP1Byv9fdnvMLn/Qr7\n",
       "vhprzxX+9ntdYS4bpP8UBAAAAIDNOBQEAAAAgM04FAQAAACAzTgUBAAAAIDNOBQEAAAAgM04FAQA\n",
       "AACAzTgUBAAAAIDNOBQEAAAAgM04FAQAAACAzTgUBAAAAIDNXJ1zwVEjDcYVl/eOx5jl8r6N3mm1\n",
       "Vrm1vdfX6z3t71n8DGvG2TyZd18Zq6p4kGnJzjWn7+JMX5yZrX2dZ1gjq5lWbPWu8yu95+iMMcwe\n",
       "69+GtHd+f1Z2/a9mGF59dzrfueVP5iPfue/tVeK9RbpONVqna1/ee3GukR3jDus9cesZrivjCGvG\n",
       "9Rr7gDC7Pte4j3eWHXf4TWr0fsKaIxzjvLNv9nHmv5WeJ9wHpL3DelVV8wn3STPMpdcS1nuHw96L\n",
       "67Vqhj7SOV52w/Un3Vg09nLpmhaPsbEGHGF2nGFucb2qqiPtHefC72Eje1xZblzhGMN6reziMVZV\n",
       "jVc4z6+0Xrg+p7mqqlfY/HqF9bKc/xQEAAAAgM04FAQAAACAzTgUBAAAAIDNOBQEAAAAgM04FAQA\n",
       "AACAzTgUBAAAAIDNOBQEAAAAgM04FAQAAACAzTgUBAAAAIDNXKNGnh6NbFKu0zvNhmPMe6+95qqq\n",
       "Ed/H9b1X1+w9wx3l92fUjHIzrpnV6zzB1b17zde+N/GVjMbfTuLLDp91p3f8vNN5dmZtR3jRDfmz\n",
       "aRQ9Vo9z/XWnFRe/hY2Kn+idS783+VKxer9QNVd/3xv7rnRvkY4x3qt09oara4670fqJcjPMjXDt\n",
       "S+tVVY10nYpz4bUc4XpfVfMO72Oaa/Qece/s2/k8WS6tV1U1wuw8w1w4xnc2XANmWDOu11gj02w4\n",
       "xfN9aV4zli5TrZrpIMM9X7hWpOtZJxv3DtepT9Qc59rcu3f2XYp7X43v3OKa4wxzV+P+pNfzCp/1\n",
       "1Xixryw2XuEaeYXfr1fYuJO9XlFsvrKc/xQEAAAAgM04FAQAAACAzTgUBAAAAIDNOBQEAAAAgM04\n",
       "FAQAAACAzTgUBAAAAIDNOBQEAAAAgM04FAQAAACAzTgUBAAAAIDNXDVGI55l84qN3uE4R6fmcv9O\n",
       "729eyXebh+YniqYXnjZffyPHyHrPuXqtqApL1giDab08mK8/c4R/j5n5RBvh33hmPH+y3BhnWK/z\n",
       "2oS9j0bFJ8ymjybs+4nlLO4dNp+tb3EeXV9w7T6gdd2hEd70me5pGnu01TU/McZ4Uh6Lc1VVxx3F\n",
       "4uU5XH8661T9puvU2t7ptVRV1R3eoPuJYuPIclVVM+w97+y7NJ60Xv4/FDOuGb6HYb1W73Rf84Rj\n",
       "bOyT0j1Vvv3p9M6jS7U+NeneK+29fp0aI3xnP7BGputFnDvXr1NxzTP8JoX1qqrGtbjmFV5LmGtl\n",
       "r7Dg1fidlmZf4W+bKxzkK72Yqnq9oti8slxaz38KAgAAAMBmHAoCAAAAwGYcCgIAAADAZhwKAgAA\n",
       "AMBmHAoCAAAAwGYcCgIAAADAZhwKAgAAAMBmHAoCAAAAwGYcCgIAAADAZhwKAgAAAMBmrqoRh5cn\n",
       "R6dink0rrs11Lmf1tXzC3zDGL0pvz/ynWv8l1s7dztozw0VgzHSNzP9ukz7vESezXGeepb1nnY2q\n",
       "Ye/wVs4nLJjWC8tVrV918znRmOOLa87OVacf2Ti3uG+r9yf2IGvv+QhfmnTd+69oFjvW7yPjRSAd\n",
       "47izeke6qFTNI3vDxm/4Jh7pGBsr1Z1dz/gN50/j/tSdfRtGOMb5hGO8G9/i1TWfxvqc9g73IDPt\n",
       "ne5pGr07NfPm60tGPnApY4QXE+ZGZw2Ia4ZrRaf34prjTOvl69Q4s3U37V1prqrGFV5PWjOu13iG\n",
       "VxYbV/jiXI3/cXuFvy+ucJBp7hXmqmper7BmlpvXT5Tzn4IAAAAAsBmHggAAAACwGYeCAAAAALAZ\n",
       "h4IAAAAAsBmHggAAAACwGYeCAAAAALAZh4IAAAAAsBmHggAAAACwGYeCAAAAALCZa7TiYXr0qq61\n",
       "uPc3L+UD/rHL4f+5782gtPNMl6k5w3r5NY+weVxz5n+3GZVez9q/BXVmxKxzac3sinvp+NGkbRu3\n",
       "O7+ebJD5fWzM8bRmeCNb82fx3mKE9Vp90+sO38PP9F573Wm9dzi87uN7vSvsXUdY7/fOclU1jiw7\n",
       "j3C1+A3XvePJ6lVV3en9Ccd4N1a+OxvnvMNn82S5kdarqhnWXD3Gd+/w3U43SqvrVeWbtHQ/lXfO\n",
       "ey82Rm+3khVN9zRh78YYR/puh7nW+rO4Ztz7zMc4wmya6/UO788VPsOwXl1Z7N07fA+v7DdDnGvV\n",
       "DC/oekWx+cpyrZphrsLe/lMQAAAAADbjUBAAAAAANuNQEAAAAAA241AQAAAAADbjUBAAAAAANuNQ\n",
       "EAAAAAA241AQAAAAADbjUBAAAAAANuNQEAAAAAA2c1WNPD0a2aRcp3cru65er+t3xgh/mnSpmPOz\n",
       "4/jffeL9Smtmf48Z9cSd5whrLr7ns1EwvTtpxc4TjEcZ/qksveyZP8Llf6aL72Pj2z7TbFzzA3uQ\n",
       "NHenN7wzxnQCrb6PVfE4497htRzrn+EIa6br3rv1bxZMr+cT9+c3vT932DtbBeadL1TjN1xZwt51\n",
       "Nz5Kd/puZ9cznuwZznit6NQMryWsV1U1n/C9mWHNsF7NxjckzabTotH7a1pDDC88Xu7Teo33MHy3\n",
       "xwjfw3StqKo6wppnuk6l9RqbudVjTHNVNa60ZljwCr9JZ2OSX+H6c11hLr2YTs0sN69XWC/MVdV8\n",
       "ra05r58o5z8FAQAAAGAzDgUBAAAAYDMOBQEAAABgMw4FAQAAAGAzDgUBAAAAYDMOBQEAAABgMw4F\n",
       "AQAAAGAzDgUBAAAAYDMOBQEAAABgM1eNsbzoqPU12cgMc9+cZukY/wqdG7n6wj+x/mRmGBwzv+YZ\n",
       "rqcjLJnWe9fMsnOs/VtQ7/6ENcN51pmN8bxYXLFzu+cTjvJIryacE+mDqfXf99moN8L3IZ/j4TNs\n",
       "vIfzXvtsRuNvt/F6Ed6f/H53nmHWO32GrWeTZo+0929Yr/HOpHM3HGMdd9b2tzHG44li885W0xHm\n",
       "qqoqzabvYVrvzK75XTN8Nmc4xidfA0b4DYnX/NX1Kt+rxBuGf2o/XvlmJd1IhrmR1quqOhbXDOu9\n",
       "s9m7ONKa4bsd16uqOsP7E+bqzFun2ZGuP1e6njUGeYXZOHfFrWeavV5Le8+0XlXV9bO05gzr+U9B\n",
       "AAAAANiMQ0EAAAAA2IxDQQAAAADYjENBAAAAANiMQ0EAAAAA2IxDQQAAAADYjENBAAAAANiMQ0EA\n",
       "AAAA2IxDQQAAAADYjENBAAAAANjM1QmPGovbr66X1xyfaP0XmGFuNJJfkw4R/n/J53ianGFwpMGq\n",
       "miP8G898st7hIjkbf1sa4Tsb35+4c2ftW1uvYxzhPV/dvDPP0m9seifTeVtVM5yTae/0WnobhsXX\n",
       "3el9p9nFvRvPMM3G60/j/ox0nMfv0t7pe/3uHY7xN72WsPeRfRfeve8oNtKaR76gzTPLjjusmeae\n",
       "znsYjjGsOZ/GswlrpnuLubjeu+ji71yn998g3CjFS1+68UpzVTXSbPpuN9aAsbpmmBvh2vOuGebO\n",
       "LDbOxhxPs1c4yDMcZJqrqrrC7JUdU80wV1VV52tx76xemnv3Tmv+LM35T0EAAAAA2IxDQQAAAADY\n",
       "jENBAAAAANiMQ0EAAAAA2IxDQQAAAADYjENBAAAAANiMQ0EAAAAA2IxDQQAAAADYjENBAAAAANjM\n",
       "NWp8ewx/OPfnfzcbWffyf5fdy84dX9n3X5OufbMzbZffyvXvzBjhdc/sb0ZhuXfNMDfCYOfZxM87\n",
       "rpeZrWeYZeOKR/qs149xhhNjPB/oHf69M34XGpN8jKz3vMOanRcs7B3XjHONvy9/s/eR3p90/oTP\n",
       "Ou1bVXX8Lu2drgF13FmuU/N+1uaqaqTZI9xPnVlu3I2Pe1iz0svurJFpNu2dfhs635BwjHHF1vfr\n",
       "L5BugFbXC9+ZqsZnKa3ZueZ4GQ9rnmv7vmuGczzMxWtuVdUVXtAZXtCZ1ruyXFU8xpnWvDq9X1nv\n",
       "sOYM69UZ5qpqXj9Le6c5/ykIAAAAAJtxKAgAAAAAm3EoCAAAAACbcSgIAAAAAJtxKAgAAAAAm3Eo\n",
       "CAAAAACbcSgIAAAAAJtxKAgAAAAAm3EoCAAAAACbuT5TdvwlNf90s5Fde3/Szr2unetZ332t1dfy\n",
       "iYrflD2bMfKrnnE0nRffu+PxCEc+x9NbOcO/BY3xZPVm/rel9HLi9afxCGfYO5894RyvO6z4iRmZ\n",
       "jjGfZ/NIH2KWS+/jW7quhL3TCTkafz+Ns+t7jzC7+rrT+/239I7nT/gujPSdeYez3uM3LBfOnyOr\n",
       "986mNcO178i+Na3smeXGndZr7FXuMBu2Hk/jy5Bm05LP4o92Vf4x/sQW7Vvbvm/+LE43Sus/xTWO\n",
       "sHfnX5TSbJz7wDp+htkzHGSaq6o6zix3hbkzzeVHSjPundWc1yvuvbxmmOuMcZ5pzZ+lOf8pCAAA\n",
       "AACbcSgIAAAAAJtxKAgAAAAAm3EoCAAAAACbcSgIAAAAAJtxKAgAAAAAm3EoCAAAAACbcSgIAAAA\n",
       "AJtxKAgAAAAAm3EoCAAAAACbuXrx8ZlRrPQXDPEzZphbe4PSrp/x3e5/vm/en0/0Tufu2t6j8c7M\n",
       "xUPsvK1p7xH2nuHfjMZ4soJVNWdaM6zXuEMjvEEzbP6J2TjiCw+vJZ0U8cRt3Mcn/Jvj0Zjl4f2Z\n",
       "T/oM07+LdtaAtHc6Hxt/u03nT3o9ae+47wdqfqT3l3JVVeM3LJnVnEdWr8J6796Lax75N6TOO8vd\n",
       "Yc2095OPcZxpzezrMBu3J61ZYc0x4w1DbnXND2w3073F+OY+e/Fy39pwrv50NvYB8XKa1oxzjXX8\n",
       "DLNp7jgbvcNsmJtpvatxpHRm2RnmOr3zmq+sXpo7s9y75s/a3Jnl/KcgAAAAAGzGoSAAAAAAbMah\n",
       "IAAAAABsxqEgAAAAAGzGoSAAAAAAbMahIAAAAABsxqEgAAAAAGzGoSAAAAAAbMahIAAAAABs5qoa\n",
       "3x7DH242sn/DvUyv52+4ll115iT/d+kc/8T9Xv9+xVcTBkd42bPxt6UxnqzmzGqOdJBf1XnWWXaG\n",
       "ubG43v9UjVJHWDOdkFU142w2f+b4jXJjNO7PE/YOx9jpPcPsGOEY73SxaNyfsHdcM633gd7pHJ/p\n",
       "u1BV4wifzRHO3bR32PfdO8wedxQbYa6qqu61vevIvkn1hLlONsyNp/GdS7Nhbqat42DlW6rVuYbx\n",
       "zX326u1hWq+xjsfLblqzsUbG2dVrX2ONrDOtea6tV1V1ZjXneS2tV2m9Tu8ry8X1qqrOV1Yz7v0T\n",
       "1sv6vrNhzbB3hfX8pyAAAAAAbMahIAAAAABsxqEgAAAAAGzGoSAAAAAAbMahIAAAAABsxqEgAAAA\n",
       "AGzGoSAAAAAAbMahIAAAAABsxqEgAAAAAGzm+vYAlpthbnx0FP+A9EZ+0zcf4t9wf/h/bYRzco5w\n",
       "/rSmWdY7fWtmGEwvpapqhn+HGvH9efLeI+ydth7p/c7XqRk/w3CehX07Y0xnUHp/6sl7x9d9hH/v\n",
       "DCd5+lyqqiqdF2Euvo9VVeEcj3Ppdcf1Omtk2rsxf1bf82f1/a6q8ZvF4mtJx5j1ffcOa4bvYfy+\n",
       "VtVIs+mzOcJvyHNnuaqqJ62Z5hof2cU1x0w/iK2NwOLcP7Yfj5e0dI1MyzW+Ncfi9Tmt18mma8Xq\n",
       "XFXVcWa5M10jw3pVVWfaOzwCCuvNtF6j97zCXKv3K+wd5tJ6Ya6VjXv/RDn/KQgAAAAAm3EoCAAA\n",
       "AACbcSgIAAAAAJtxKAgAAAAAm3EoCAAAAACbcSgIAAAAAJtxKAj8f+3ay3YkOY4FQDKk6v//4FFw\n",
       "FtmznKqLbngyJZitcQC+nO6CAgAAABhGUxAAAAAAhtEUBAAAAIBhPm8P4Gc5zfl2c76fpnu9+We9\n",
       "a36+xRZWnsNsQjvMeUql08XMkqalK2Pczft9dv5/rR2uz9np+ryzfFHU/+VMF7M5bn+F+dY64Ybv\n",
       "MO68Cv+bPFlsXDs+vIVDHo7xhP+T3aX/3aa10zOe3lOVSyCM/UrPbqV2uJZpXDjGXRhjvJbxXP4n\n",
       "C6uMMXxm91fzehdqr7D2foV337vwHH5l74b1DuNOGFfJ+Q7fTOl3ReVjrjvnt/iOfEB8VzTnq8S+\n",
       "mu+ztdZK74C0dpzvI4tba52P5pwfee0050lzfmStohPGPZLzM699Pv66Erc+/5XFrbXWRxZ70rhX\n",
       "Nka/FAQAAACAYTQFAQAAAGAYTUEAAAAAGEZTEAAAAACG0RQEAAAAgGE0BQEAAABgGE1BAAAAABhG\n",
       "UxAAAAAAhtEUBAAAAIBhNAUBAAAAYJjPu+X3tconjLs3wrXyUVbcnRG/0xPnh99pF57Xk4Y2H4vK\n",
       "jXJ27yD3ySdzdphzvcOE4f/U4jmvtU5WO13H9Pycwi6m65PmjNe7kDM9lTv9v+ir8Bym5yLdm8L5\n",
       "2WlsGBefs8IY28/urvxvu3c+8d58VcaY3iv/k4V1z2Wttd/ZGOO9KexhWjvNedJ87/ye2q+v3pyF\n",
       "2usdvhPDd02er/BhkcZWcnbXvim+x+OEvXXXyt+Jac5X4Y5M74s0Zxh3KmP8+Ahrh3Efee3zCls7\n",
       "4RjPR2++Ws6/evOttU6cM4vLxxjmK8TmY/xXFOaXggAAAAAwjKYgAAAAAAyjKQgAAAAAw2gKAgAA\n",
       "AMAwmoIAAAAAMIymIAAAAAAMoykIAAAAAMNoCgIAAADAMJqCAAAAADDM593ypxC7r5QujbB5iM+o\n",
       "zAj+M2fsMUsvgf4F2mHts9Pa4VwKU+m+Ik8hYTzt8H9l6TruwsNwwpfIXu8sX1h3FxYyH2Oa8yuu\n",
       "Hb9kw/mcdN6F9dnvsParv/aJ17x3D/O6ee14jIUPr/hJjHOGcYUxpvM5X821Kx+wX+HvCXYWV9rD\n",
       "8Pla4fO107m883vqvNOc2T2+w7h/F2+tHX/MvQsfAvE7Mf1D7YEPzu6UpY+f9JlN0z1wB8Q5w2ch\n",
       "fR8Wcp5XWjuN+8ji1lrrIx1jmLNUO4s9H2ELKKwd51trrTA2zXk+/opLx7FhXJrvvApjTGPDuDSf\n",
       "XwoCAAAAwDCaggAAAAAwjKYgAAAAAAyjKQgAAAAAw2gKAgAAAMAwmoIAAAAAMIymIAAAAAAMoykI\n",
       "AAAAAMNoCgIAAADAMJ+3B/CTnHOx+G4N4weIj+PNczvWE09itpG7ufa5N5XSTM5Oo8N1DC/8s/MH\n",
       "bKcTT1PGc36HcWvlq57F5fuy1j5fWc6wdvospPnWWmu9wtrhg3Pe/bW796awhXFwfi5KxcOw5vNT\n",
       "W6AsKl3Hr965rLXW2dnvCXZYu3QHvMPfMnxlcWdnd0pcd6213lnO9c7u3RPGVXKuV/qeC/O9Cx+S\n",
       "8R9L6fvwgY/Y7pRPfCelz013XCE2vSvyd9daK87ZHfeRxa21TnfOj0rtsLUT5jwfWb647lprpTnj\n",
       "uL8KtbPYNGdc+4ExxnGvLM4vBQEAAABgGE1BAAAAABhGUxAAAAAAhtEUBAAAAIBhNAUBAAAAYBhN\n",
       "QQAAAAAYRlMQAAAAAIbRFAQAAACAYTQFAQAAAGAYTUEAAAAAGObz9gByJ4zbj47ijxUuT7qK8Odx\n",
       "ev9e992Xrfd+4M49cfO1REsAAB1XSURBVMq89j695+fsrPaunNtwjHntd5avso7NOXe+2fG5SM9k\n",
       "PMbC+uRrGdZ+FWrHaxnGhfkqT1b3fVGqnU47z9hat1S7+9otDHJ/hecivafCfJWc6Xz2V/bbiLO/\n",
       "srprrbWznDvN+cru3LXWWu8wNn3XpPle/e+5/J1dqZ2HXtP8/dP9zJRiX+Fvjyq145zhs53me31k\n",
       "cWvFYzwfYc5S7ay1k9Y+H2GrKKxbytkdV6h90vm8/grzZXGP5Azj/FIQAAAAAIbRFAQAAACAYTQF\n",
       "AQAAAGAYTUEAAAAAGEZTEAAAAACG0RQEAAAAgGE0BQEAAABgGE1BAAAAABhGUxAAAAAAhvm8PYB+\n",
       "5/YAAH6A/UDO7H7eD9Q+ccoscJ/+d006xngqJ/y/3y7MJR7kO8/ZLl2hB874DnOGS34Kyxg/N+Gx\n",
       "iGsX/r2cnrR8Z/LIvHaW84mvzbx2eE815ytJn4VK7TDnDuNOeE/td2GM76+sdprznV8CO71304f7\n",
       "FT7c78o7JKsdZyy9i9OLt5AyUXq80nds8zNbybfDc/FK55K/RE56JuMxpnEfWdwqjPEjy3kKtdcr\n",
       "a+2csHaer9BSCmPP668wLq8dx340135ijDsb4w7z+aUgAAAAAAyjKQgAAAAAw2gKAgAAAMAwmoIA\n",
       "AAAAMIymIAAAAAAMoykIAAAAAMNoCgIAAADAMJqCAAAAADCMpiAAAAAADPN5ewAAf7Z9ewB/uFOI\n",
       "vbeW3ZVPnDCvvE+6llnc2VlcXreQM81XWp8s9uwsboe1aye8N+d+5esTb+M7rR3WDfOtteJ/Rcfr\n",
       "UygdPzdx7d58Ffnz1Ztvrfzue+T5Cmvnd8BXlq+0QmHtnT6I+QN20tjwod3pwx2+F37VTn+PEuYs\n",
       "vL9i3Smf+PRJH4a0eJwvjz2vcK8rteOcYdzrIwqL51LKmcWl+dZa63ykObMWUJ6vMMb22oV2Vlo7\n",
       "zdkdV8oZrs/O8vmlIAAAAAAMoykIAAAAAMNoCgIAAADAMJqCAAAAADCMpiAAAAAADKMpCAAAAADD\n",
       "aAoCAAAAwDCaggAAAAAwjKYgAAAAAAzzudYuhJ/HBgLwe1Xuvj/fvjadvPD5Qa+QJ5b7pEnDwB2+\n",
       "s8/ONybNGX8uFGp3i4dYypnuTZov13x8cpV/L7/DGYXn4hRqx2c3dMJ8lSPe/TRcPWfN+X7lTJ+v\n",
       "LC7Ot7+iuH8Xz2q/09qFFUpjw0vgvMMHbL+zuLXWTj8E4g+Giw/YE+LtDgPDM3GeOGc7PD+vSu0s\n",
       "53mltT9a6/6qHeb8yOLifGvF84lzvj7DfFnc7dppzrUvjnFnsTuMS+fil4IAAAAAMIymIAAAAAAM\n",
       "oykIAAAAAMNoCgIAAADAMJqCAAAAADCMpiAAAAAADKMpCAAAAADDaAoCAAAAwDCaggAAAAAwjKYg\n",
       "AAAAAAzzeXsAANPsfXsEnfLJ7H0eHMc/Vo+izsUhxisZBqZTeWJbzs7+57gLC37CecfzCR/EyvKk\n",
       "teO5FGrn084i43yFFTrpAqX/sn73147vqe65rLXyVU/3MJxz5TlMc8b5ct05nxlj+nB/ZbXflVsg\n",
       "i93dl2mab6110rPWHffTxB+S6V4Xzlka+wovv0Lt9Nsirv36yOqm+Uo5s7g03xM5nxhjXHs/sD5x\n",
       "zqxFFudL4yqxYdwO4/xSEAAAAACG0RQEAAAAgGE0BQEAAABgGE1BAAAAABhGUxAAAAAAhtEUBAAA\n",
       "AIBhNAUBAAAAYBhNQQAAAAAYRlMQAAAAAIb5rIXvMO6UBwLw3e30inym+s3ioT9/jDf38Jzed2yc\n",
       "rTLnMHivd3vtfbL/Y6Y598nGuHb+/9P062eHgaf0PRXG7o/efCvNt9Z+ZTnPO51LuIdrrRXWXuHZ\n",
       "Tdensofxc3PCOyA8aCdem7V2PO8wXziXtdYKr4D2v1ZKV2Rz4C5Vz2LTd018R1Yu8nS/u+N+BRdi\n",
       "b0lfYN35Ki/j8F38SmsXfqOUxr7SMaaXSv6eO2lsGvfKa6exJ80ZjjHOV8gZz6WwN/Faxuesea/X\n",
       "Wrv7/IRxfikIAAAAAMNoCgIAAADAMJqCAAAAADCMpiAAAAAADKMpCAAAAADDaAoCAAAAwDCaggAA\n",
       "AAAwjKYgAAAAAAyjKQgAAAAAw3zeHgB/qnN7APy/9u0B8NtM3esn5t19p/WPce9sjCetHU55V+YS\n",
       "jzH7n+M++b6c/Q5zZrVPOO1wyv8OzsLSlLt0btO9yeL2+mjN9ys4PBc73cNsjP+ODnOG5yw9GGG+\n",
       "X7Wz+exX914XnsPwmY3vs1e+h+k4u+ddOePxbRoei/CRqdUOp3PSS/Kdn/H4uUnfDYV3SO7P/15Y\n",
       "O82ZxZ04X6F2GveqHPLw3ZDmTN8hlTGmsWHcCee81mqfT76O+RjjOz/NWTo/4XdNuo7dcWvl826O\n",
       "80tBAAAAABhGUxAAAAAAhtEUBAAAAIBhNAUBAAAAYBhNQQAAAAAYRlMQAAAAAIbRFAQAAACAYTQF\n",
       "AQAAAGAYTUEAAAAAGObz9gD43c7tAfBfS/dwPzqKMSzjP/guC/RdxvnP4pmEgeeB10I6xlPYlh0G\n",
       "pznzfIX/n4ZrucPAUu0wZ1w7zXfyMZ79EUa+s7DS+oSx6Rh3OsZ0zpWc6Vya49Za65XGhvOuXEDx\n",
       "3qQPYvzAxtLHIX0O00ehVDvOGY6xckXG+x3eP+ke5ikrgaHKiy4LO2ngbo57Imfh/onfiWlceJ+V\n",
       "3sVhbPtc1lonvZ9vvkPinOl9X3nHfof1yeazw5xpnF8KAgAAAMAwmoIAAAAAMIymIAAAAAAMoykI\n",
       "AAAAAMNoCgIAAADAMJqCAAAAADCMpiAAAAAADKMpCAAAAADDaAoCAAAAwDCaggAAAAAwzOftAdDl\n",
       "3B4Af5z0TOxHR/HdPbM632HN743xO6xOqnYzpzPvfbb3zkd5Tu/uVLKd8P+Ye72zfDv8v+jJ8v2q\n",
       "nc0or53vzQ7X58TnJ4xL57LWWuHerBPudaH2CXOm80n3sDLGW7Xj81jKme31fhX2MDw/O9zr88rO\n",
       "+K7c5O/0nIU57z1ea7/Tu68yyPReyeJO4Y6M17z5PVf7qOmuHeZL49bK7/wwZ+X+Wel9Ed9T4bwL\n",
       "91T3GEu14/2+8z6s5UzP5BNnN51P+l1aea7T2N4x+qUgAAAAAAyjKQgAAAAAw2gKAgAAAMAwmoIA\n",
       "AAAAMIymIAAAAAAMoykIAAAAAMNoCgIAAADAMJqCAAAAADCMpiAAAAAADPN5ewD8nXN7AIxQOWf7\n",
       "sVHwu9zbw7zyzzlntZlkz+K5uYc7HOMTr6902qd3fXZhvc8OY8Mx7sL/bk+4N+lCpvMunccTzmen\n",
       "8y78bzvNmZ6fNF96Jko5L8U9kvOd1073O30W0osqfrby2BOuz658o8VnrfmMl/bwpvgl0lz2iXd2\n",
       "uodpusodEL4b0nmX7sjmnA/c4/E7MV3Hyjs2nE/73lTOT/f9U6id703zuXjkHdu7h34pCAAAAADD\n",
       "aAoCAAAAwDCaggAAAAAwjKYgAAAAAAyjKQgAAAAAw2gKAgAAAMAwmoIAAAAAMIymIAAAAAAMoykI\n",
       "AAAAAMN83h7ATOf2AABa7Aej58nWZ4fvkGfeNOEYw60+hUGmp+eEgTssftLJFIrvcDbpXB6pHa94\n",
       "PsgdruWJJ15ZoPRgpIc3Xcf8/+/p3qRzSfcwr9uf8+zC+ux3mDO9p7rPY56z+5w9kTO+S594t6fv\n",
       "htId+UDO7oRxaLw5YVzhDug+45V3bHyvdNd+4Dm8uD7x78LS+7kyxu41v1n7ge+k7pzp/eyXggAA\n",
       "AAAwjKYgAAAAAAyjKQgAAAAAw2gKAgAAAMAwmoIAAAAAMIymIAAAAAAMoykIAAAAAMNoCgIAAADA\n",
       "MJqCAAAAADCMpiAAAAAADPN5ewAA8Lh9qe55Imk2mR0WP6XFeWRCl6TzzuccZ2wPrEhzdscVYncY\n",
       "V1mf9pzNc6nE3op7pHZe+lusT/Mzewq1d1o7ztn/Dmm/0SqvpJ0G3/pgKNSOh/gN3iFP3D/d8/4O\n",
       "93gpZxbW//VTuC8e2etLZ7dyj7c/21mcXwoCAAAAwDCaggAAAAAwjKYgAAAAAAyjKQgAAAAAw2gK\n",
       "AgAAAMAwmoIAAAAAMIymIAAAAAAMoykIAAAAAMNoCgIAAADAMJ+3BwBAhz2s7t3SscoYz2OjuODm\n",
       "5txcyHTe/euzw5z9q/MdHsR8lCeNzBMWfI+1zNx7Fr6FHc77FNYnPpPde3Pxzi29Y7vPWjrvB/Yw\n",
       "vqea4yqeyBnX7g28+3n2xDpevJ9vnovu9/vFvdnN6+iXggAAAAAwjKYgAAAAAAyjKQgAAAAAw2gK\n",
       "AgAAAMAwmoIAAAAAMIymIAAAAAAMoykIAAAAAMNoCgIAAADAMJqCAAAAADDM5+0BAABP2GHceXQU\n",
       "31+6jmtZy0kq5+In1b7pG8x7h2N85Kq4deffvCO/S+0/W2llvsW0uwfZP+knroBrXyCPnIk0aaF4\n",
       "8zi/xaMQ8ktBAAAAABhGUxAAAAAAhtEUBAAAAIBhNAUBAAAAYBhNQQAAAAAYRlMQAAAAAIbRFAQA\n",
       "AACAYTQFAQAAAGAYTUEAAAAAGObz9gAAgCec2wP4IawjEBp5Xdyc9MgFb7cLsTNXvH/W6Zp/i/V+\n",
       "ZJBp0kLx5nGm6SrP1y1+KQgAAAAAw2gKAgAAAMAwmoIAAAAAMIymIAAAAAAMoykIAAAAAMNoCgIA\n",
       "AADAMJqCAAAAADCMpiAAAAAADKMpCAAAAADDaAoCAAAAwDCftwcAQIcTxu1LdR+ofbE0/6SyOTdz\n",
       "dkvH2D+Xe6vzHfalIpzPuXnGv8OauwN+e774TH6HdQw9MpWL63PCj5Wd3lP/+VD+pngYFxbfT3yg\n",
       "/aAzXphLvjM374qbe9P93Ny8K9LnKwvzS0EAAAAAGEZTEAAAAACG0RQEAAAAgGE0BQEAAABgGE1B\n",
       "AAAAABhGUxAAAAAAhtEUBAAAAIBhNAUBAAAAYBhNQQAAAAAY5vP2AADgcef2ADplk/keU745yv7a\n",
       "ccZHpp0m7Y6rCHOe/jGe9vl0zyVP2b6HpTE25/wWtR94FuIx9peOhWPclTG2r/kTe9Ocbz9Q/IRJ\n",
       "S7VT6QKFxSt3QHrY4iH2n/HTfk/ltbtzpsen9H699Z4rad6bwhmPz098BWT5/FIQAAAAAIbRFAQA\n",
       "AACAYTQFAQAAAGAYTUEAAAAAGEZTEAAAAACG0RQEAAAAgGE0BQEAAABgGE1BAAAAABhGUxAAAAAA\n",
       "hvm8PYCZdhh3Hh0FwO+V3mnpHTlT/5vhgYw3X19h8XiIpcmksd1xeWye8YExxmv5c2rvB/Ywnctu\n",
       "n3M19p/V1qc7Z+96l2LTPXzijN98DrvXvHR8Lr2Ynih78U/JvHRYfBe++eLPyOZzluZ7xMVvkPY7\n",
       "Jb/TzgO1732j3Rtjms0vBQEAAABgGE1BAAAAABhGUxAAAAAAhtEUBAAAAIBhNAUBAAAAYBhNQQAA\n",
       "AAAYRlMQAAAAAIbRFAQAAACAYTQFAQAAAGAYTUEAAAAAGObz9gAA+L5OIXa3Z80z3pOvUGUtb2XM\n",
       "c3bHrXXa5/PE+qSVw9qnMMY4trl2YYz5Hj6wPrfm/cP2cMc53+2123OGcfGcK7W/wRnP9/qB9SnN\n",
       "u7n2Telnzbf4TLp3xtOz+8y7OL2nwt9mXX2++r/lvkXtm2O89J3tl4IAAAAAMIymIAAAAAAMoykI\n",
       "AAAAAMNoCgIAAADAMJqCAAAAADCMpiAAAAAADKMpCAAAAADDaAoCAAAAwDCaggAAAAAwzOftAfB3\n",
       "diH2PDYKfrrKOeP7S++K/nPRfUvti/fe3Ru3u3qe75yLM49r98adyno3r0+pdhp73s21nxjjA7Xj\n",
       "nNn65LXTfIXYS89CKTYdY3geazkvxa210j3cT9QO17K99s09LN0BeSj/vfQb7ZTuyNAJv2F3/xnf\n",
       "Ye0TP6/5b7jSb7R4by7ekU/czzusHX//pOeidI/fuZ/9UhAAAAAAhtEUBAAAAIBhNAUBAAAAYBhN\n",
       "QQAAAAAYRlMQAAAAAIbRFAQAAACAYTQFAQAAAGAYTUEAAAAAGEZTEAAAAACG+bw9ALrsMO48Ogr+\n",
       "JOmZ4O9Unph8xdOsN/fwzx/jz7vNumeU5TuPLGRYuzTn5pzxxPMx5rXf92p3x8VzWYU1z3KeSu0w\n",
       "ZzrGndauPGBhzrx2c75KzvbncK2dxravY2UPm5+bJ56v7nk/sj7hc1h5h8Sh3S/F/u+k7/H9k94V\n",
       "+W+Uut+x+2R7U/pW6X5uSu+5cC0vvkNO/I594Duyfc37x5jfab1j9EtBAAAAABhGUxAAAAAAhtEU\n",
       "BAAAAIBhNAUBAAAAYBhNQQAAAAAYRlMQAAAAAIbRFAQAAACAYTQFAQAAAGAYTUEAAAAAGObz9gD4\n",
       "3XYYdx4dBf+NdA9pUXkURm7NT1ug73D3ZWM88VQqcw5rpznzQeajDHM+Mcab6xPPO8153llY6fxk\n",
       "OfN5V9YnrX0pbq183lfH+B1qNz9fhTHuW2Nca+1b8y6NsT9n7ImcWeFCaPadtHeaM8t3wrprrbVe\n",
       "aWz626PC+Ym/f7qf7cL6hDl3uObn5L/hSp+vOOdPeheXYi+9iwux+RnP4vxSEAAAAACG0RQEAAAA\n",
       "gGE0BQEAAABgGE1BAAAAABhGUxAAAAAAhtEUBAAAAIBhNAUBAAAAYBhNQQAAAAAYRlMQAAAAAIbR\n",
       "FAQAAACAYT5vD4A/1X4g53kg50/yxJrzvVWeme9wfibeAf1zPqc7Z57vpLHxGCtzyWLjMcb53mG+\n",
       "tdZJYx+oHcf2jjGfcx570pwP1L4WV8rZvDeFMe609jvLuR9Ynzhnd7611nr37k2t9p2zG5+JtQpn\n",
       "t/tdU9Gds/J9ltYOc4brs3f+O6H4SO4w8ImfKKXLGA5xv/I9PKd3b2rvkLR27/0Tv7N/BYdx996x\n",
       "7fOujLH9Wy6L80tBAAAAABhGUxAAAAAAhtEUBAAAAIBhNAUBAAAAYBhNQQAAAAAYRlMQAAAAAIbR\n",
       "FAQAAACAYTQFAQAAAGAYTUEAAAAAGObz9gCYZN8eAMA/OL3ZSul6a6f5TqVuPKEnar9ba3fP5Vdk\n",
       "WjucS+EAnTQ2rH3i9U7j8tpxzjhfHrvjvekfY177qzlfYR3f3evzwB1wcQ/jc9a9jpXYeIzN99la\n",
       "+X4/cD+3v2KfKJz+qXTCwJ0mLNxT4SBP+tuj9FlYK/45006PWbrgpXs8XJ8wLs231lrnnS3Q3s3f\n",
       "AQ+85054JuP3XCFn//vr3j2exvmlIAAAAAAMoykIAAAAAMNoCgIAAADAMJqCAAAAADCMpiAAAAAA\n",
       "DKMpCAAAAADDaAoCAAAAwDCaggAAAAAwjKYgAAAAAAzzeXsAAD/FOVnc3o9Ub873yCBD3XN5oHJ/\n",
       "YEGW86S104N7uXZ3zjTfqazPebfWXivLV4tN1zHMl8attU46xrj2V1y7fT4PrM+t2vvdP8b9wPrE\n",
       "OcP5xPN+YH3iuCf2Js2Z3n2lM978bii9Yu99W8RO+O2107mk33KVb74sNs14Kr9RSs/FO4vbr/Cd\n",
       "XfpMCmfeHbdW4f5Ja/e/Q85uvvvSfGs98N4Ov0HOR5hvrRO/Y9NDmcX5pSAAAAAADKMpCAAAAADD\n",
       "aAoCAAAAwDCaggAAAAAwjKYgAAAAAAyjKQgAAAAAw2gKAgAAAMAwmoIAAAAAMIymIAAAAAAMoykI\n",
       "AAAAAMN81sLPM6MAGCS9Sfejo/gnf/59fx4ZYnfS/kGeNGe8QPkYu2vH+Uo532G+MC7Ntyrrk+U8\n",
       "8RifyNm9joXY7ri11o5zfrXWjusWasc530/sYfP6vMN8a8Xzyff6gXOWrvm7964o1U7fDd351iqs\n",
       "eZaz9J30zEdDr53NKJ5KmC+OW2utHf6maIfPa+EnSvHjkOYM13G/8/VJv0F2eHpPYW/Su++E89nh\n",
       "Hj7xrRLP5eI3yCNjjL85s3dnWtsvBQEAAABgGE1BAAAAABhGUxAAAAAAhtEUBAAAAIBhNAUBAAAA\n",
       "YBhNQQAAAAAYRlMQAAAAAIbRFAQAAACAYTQFAQAAAGCYz9sDABjntIbV7OZ8jwzyOxTvr33ig5HW\n",
       "zuLiuoXaec53Xrp5ffrXe611wvmkcZX16a4dxsV1S7W/evM9kHN3z6WS8909xnwdu8dY28M7Z3yn\n",
       "c7ldO17z9O5rzrfW2nHtB+7nux8smZN9pO34Wy4LPGHdtVbhJ0VhzsIR32HtyrUSeRXWJ/5EC/f6\n",
       "ndc+O31m070J86V1V/4Oaf+mWfl9mq/jz3nP+aUgAAAAAAyjKQgAAAAAw2gKAgAAAMAwmoIAAAAA\n",
       "MIymIAAAAAAMoykIAAAAAMNoCgIAAADAMJqCAAAAADCMpiAAAAAADPO51rk9BoAL0rtvPzqK3+7q\n",
       "lf8d3je9YzyVfCeNzeLi2nHdynz6a6/1Ditnces051tr5WNM16e/dpwzrl0Y4/lqrb0r69M97+a5\n",
       "rLXWet/Zw53WXSseY7w3hdrxONMxdq93qXZ4fip7E695dv/Ee1i5x9PY5vdhLedFO/zmPGHcDvd6\n",
       "F34nFJ7Jk86l8hOl8Eim04mPxDv/WyDewnQP07i18vsnHOR54F180rsv3MRS7fb3+0cY13+Pd++N\n",
       "XwoCAAAAwDCaggAAAAAwjKYgAAAAAAyjKQgAAAAAw2gKAgAAAMAwmoIAAAAAMIymIAAAAAAMoykI\n",
       "AAAAAMNoCgIAAADAMJ+3BwDwZzsP5NwXa/8k/etzunOeSr4sNh9jd1wh9rzDbIXa8Vo2r2M4l7XW\n",
       "OukY0/Up1M7H+RXWzuJWGrdWPsY4rr/2jued5qvsYVY7HuO7fw/j+YS1a+sTrvk7HWNzXKV297Ow\n",
       "VjzOnd5T8Vzu3eO1d2xaujnnTr/5CrXTnCeM24VzFtberyyucsTjz+fmdCecy1prrXA+O6x+CpPe\n",
       "4T6ed/O5KNyRac703XBu1n7gOyD+7mv+5vNLQQAAAAAYRlMQAAAAAIbRFAQAAACAYTQFAQAAAGAY\n",
       "TUEAAAAAGEZTEAAAAACG0RQEAAAAgGE0BQEAAABgGE1BAAAAABhGUxAAAAAAhvm8PQCAec7tAVxy\n",
       "b96nu/ZJ8+V18zGGceEYS2vTnfO889IrjE1zxrXzMeaxD9Tunnf7Ouax+3w9ULs5Z5rvHcattXZa\n",
       "+52u4wN7GNaOc6b5nqgdn8cHnsN0LoX1yc9P8/0cvw8Lsd1xJd3fC7s331pr7TBnGrcqYwxj31lc\n",
       "PMS11kl/zpRuYXjEd2F94tOTTrxyftL7Iqy9w3xn999TJ55L/o6ND9D5COPS74rKGLu/VbI4vxQE\n",
       "AAAAgGE0BQEAAABgGE1BAAAAABhGUxAAAAAAhtEUBAAAAIBhNAUBAAAAYBhNQQAAAAAYRlMQAAAA\n",
       "AIbRFAQAAACAYT5vD+DPt28PAL6hc3sA/Db39vo8UfukObO4R1YnTBqvTzzntc56t+Ys7WF7zmwu\n",
       "p7A+66Q503UM49Za+XzSnP1j3OerN2eab621m3Pu9wN72J0zjIvnstbV9YnPzzuNC2tX1qc5Z21v\n",
       "0trpu6H3vi/FdseVdOd84G/JHebsjnsiZ+EnSjs9kmnCtPbJ12fHj1eWcxfOzwkXaIe143yFe/yk\n",
       "d1q82ZV3SPN3UvdcVmGMK3vPpXPxS0EAAAAAGEZTEAAAAACG0RQEAAAAgGE0BQEAAABgGE1BAAAA\n",
       "ABhGUxAAAAAAhtEUBAAAAIBhNAUBAAAAYBhNQQAAAAAY5vP2APrt2wMAHnkOzwM5+f/dW+/zRO2T\n",
       "5szi8hEW5hKOMV+f7nwP5Iz3Za2z3mFgFnfS2mG+Xzl7x/gtap+vLO6JnIX1iXO+e9dnl9Yni41z\n",
       "vvvXcXevTzrGtfr3Js2XxhViu9exUju+d7vzFWJ38zu7GtqrUDj9fD5Z4NlhwjSuEvsKf3tUeb7C\n",
       "lDs9unHhB/6uSdcx3Ou18nslPhfp/VPZw3Bz4vfcyX/jFn8nhe+lvT966671wDdaFueXggAAAAAw\n",
       "jKYgAAAAAAyjKQgAAAAAw2gKAgAAAMAwmoIAAAAAMIymIAAAAAAMoykIAAAAAMNoCgIAAADAMJqC\n",
       "AAAAADDM/wICrBtOd6CAxQAAAABJRU5ErkJggg==\n",
       "\" transform=\"translate(470, 124)\"/>\n",
       "</g>\n",
       "<defs>\n",
       "  <clipPath id=\"clip783\">\n",
       "    <rect x=\"2160\" y=\"124\" width=\"73\" height=\"1286\"/>\n",
       "  </clipPath>\n",
       "</defs>\n",
       "<g clip-path=\"url(#clip783)\">\n",
       "<image width=\"72\" height=\"1285\" xlink:href=\"data:image/png;base64,\n",
       "iVBORw0KGgoAAAANSUhEUgAAAEgAAAUFCAYAAAC0E4VSAAALMElEQVR4nO3dwa3kRhAFQY5Q/lsh\n",
       "L6XtlgWqPJKHCAsGiQeit4d/9vfv+fs+/K+/3v4AXydQECgIFAQKc+6/b3+GT7OgIFAQKAgU5t4/\n",
       "b3+GT7OgIFAQKAgUnKSDBQWBgkBBoDDXQ3plQUGgIFAQKMw9HtIbCwoCBYGCQMFJOlhQECgIFAQK\n",
       "HtLBgoJAQaAgUHDdESwoCBQECgKFeZykVxYUBAoCBYGC645gQUGgIFAQKMzjumNlQUGgIFAQKMxz\n",
       "/nn7M3yaBQWBgkBBoOBOOlhQECgIFAQKrjuCBQWBgkBBoOAhHSwoCBQECgIF1x3BgoJAQaAgUJif\n",
       "k/TKgoJAQaAgUJjn+D3pjQUFgYJAQaDgJB0sKAgUBAoCBSfpYEFBoCBQECh4uyNYUBAoCBQECvNz\n",
       "kl5ZUBAoCBQECl7BCxYUBAoCBYGCk3SwoCBQECgIFHxxGCwoCBQECgIFJ+lgQUGgIFAQKDhJBwsK\n",
       "AgWBgkDBSTpYUBAoCBQECvOc8/Zn+DQLCgIFgYJAwUk6WFAQKAgUBArupIMFBYGCQEGg4CEdLCgI\n",
       "FAQKAoX5uZNeWVAQKAgUBApO0sGCgkBBoCBQ8HZHsKAgUBAoCBRcdwQLCgIFgYJAwXVHsKAgUBAo\n",
       "CBRcdwQLCgIFgYJAwUM6WFAQKAgUBAr+4jBYUBAoCBQECk7SwYKCQEGgIFDwkA4WFAQKAgWBgod0\n",
       "sKAgUBAoCBQ8pIMFBYGCQEGgMM/1kN5YUBAoCBQECk7SwYKCQEGgIFDwkA4WFAQKAgWBgod0sKAg\n",
       "UBAoCBTmOfftz/BpFhQECgIFgYKTdLCgIFAQKAgUnKSDBQWBgkBBoCBQ8E+NYEFBoCBQECj4p0aw\n",
       "oCBQECgIFOZxkF5ZUBAoCBQECvNcJ+mNBQWBgkBBoOAkHSwoCBQECgIFD+lgQUGgIFAQKIwfoNpZ\n",
       "UBAoCBQECk7SwYKCQEGgIFDwkA4WFAQKAgWBwjzn9/Zn+DQLCgIFgYJAYe71kN5YUBAoCBQECq47\n",
       "ggUFgYJAQaDguiNYUBAoCBQECnOPRht1gkBBoCBQcJIOFhQECgIFgcI8vjhcWVAQKAgUBApznaRX\n",
       "FhQECgIFgcI87qRX6gSBgkBBoOAkHSwoCBQECgIFd9LBgoJAQaAgUPAKXlAnCBQECgIFr+AFCwoC\n",
       "BYGCQMGddLCgIFAQKAgU5l6NNuoEgYJAQaDguiNYUBAoCBQECq47ggUFgYJAQaAwj+uOlTpBoCBQ\n",
       "ECg4SQcLCgIFgYJAwUM6WFAQKAgUBAr+4jBYUBAoCBQECv7iMKgTBAoCBYGC/4g2WFAQKAgUBAru\n",
       "pIMFBYGCQEGg4PekgzpBoCBQECi47ggWFAQKAgWBguuOYEFBoCBQECg4SQcLCgIFgYJAwSt4QZ0g\n",
       "UBAoCBScpIMFBYGCQEGg4E46WFAQKAgUBApO0sGCgkBBoCBQ8KP/wYKCQEGgIFDw32cFdYJAQaAg\n",
       "UHDdESwoCBQECgIFXxwGCwoCBYGCQMFJOlhQECgIFAQKczykVxYUBAoCBYGCvzgM6gSBgkBBoOC6\n",
       "I1hQECgIFAQKHtLBgoJAQaAgUPB2R7CgIFAQKAgUBAr+qREsKAgUBAoCBQ/pYEFBoCBQECj4u/mg\n",
       "ThAoCBQECnNc2q8sKAgUBAoCBdcdwYKCQEGgIFDwkA4WFAQKAgWBgod0sKAgUBAoCBT8uEmwoCBQ\n",
       "ECgIFJykgwUFgYJAQaDgIR0sKAgUBAoCBe9JB3WCQEGgIFDwnnSwoCBQECgIFFx3BAsKAgWBgkDB\n",
       "QzpYUBAoCBQECl7BCxYUBAoCBYGCk3SwoCBQECgIFOY+HtIbCwoCBYGCQMF1R7CgIFAQKAgUXHcE\n",
       "CwoCBYGCQMFJOlhQECgIFAQKTtLBgoJAQaAgUHCSDhYUBAoCBYGCk3SwoCBQECgIFDykgwUFgYJA\n",
       "QaAwx3vSKwsKAgWBgkDBSTpYUBAoCBQECr44DBYUBAoCBYHC3Pv2R/g2CwoCBYGCQMFJOlhQECgI\n",
       "FAQKfmApWFAQKAgUBApO0sGCgkBBoCBQ8HZHsKAgUBAoCBS8Jx0sKAgUBAoCBW93BAsKAgWBgkDB\n",
       "nXSwoCBQECgIFNxJBwsKAgWBgkDBnXSwoCBQECgIFFx3BAsKAgWBgkDBF4fBgoJAQaAgUHDdESwo\n",
       "CBQECgIFXxwGCwoCBYGCQGHO25/g4ywoCBQECgIFJ+lgQUGgIFAQKHi7I1hQECgIFAQKrjuCBQWB\n",
       "gkBBoOC6I1hQECgIFAQKTtLBgoJAQaAgUHCSDhYUBAoCBYGCLw6DBQWBgkBBoDD+KnxnQUGgIFAQ\n",
       "KDhJBwsKAgWBgkBBoOCb1WBBQaAgUBAo+GY1WFAQKAgUBApO0sGCgkBBoCBQcJIOFhQECgIFgcIc\n",
       "77+sLCgIFAQKAgXXHcGCgkBBoCBQcN0RLCgIFAQKAgUn6WBBQaAgUBAo+J96gwUFgYJAQaDgf+oN\n",
       "FhQECgIFgYK3O4IFBYGCQEGg4BeoggUFgYJAQaDgF6iCBQWBgkBBoOCLw2BBQaAgUBAoeAUvWFAQ\n",
       "KAgUBAr+mCVYUBAoCBQECk7SwYKCQEGgIFDwCl6woCBQECgIFLyCFywoCBQECgIFJ+lgQUGgIFAQ\n",
       "KHgFL1hQECgIFAQKfrsjWFAQKAgUBAquO4IFBYGCQEGg4IvDYEFBoCBQECg4SQcLCgIFgYJAwUk6\n",
       "WFAQKAgUBApO0sGCgkBBoCBQ8JAOFhQECgIFgYLrjmBBQaAgUBAoOEkHCwoCBYGCQMFJOlhQECgI\n",
       "FAQKTtLBgoJAQaAgUPDbHcGCgkBBoCBQ8KP/wYKCQEGgIFBw3REsKAgUBAoChbmPp/TGgoJAQaAg\n",
       "UHCSDhYUBAoCBYGCLw6DBQWBgkBBoOCLw2BBQaAgUBAouO4IFhQECgIFgYIvDoMFBYGCQEGg4CQd\n",
       "LCgIFAQKAgW/3REsKAgUBAoChTle71hZUBAoCBQECt7uCBYUBAoCBYHCXCfplQUFgYJAQaDgJB0s\n",
       "KAgUBAoCBXfSwYKCQEGgIFDwdkewoCBQECgIFOb4Y5aVBQWBgkBBoOC6I1hQECgIFAQKAgV/Nx8s\n",
       "KAgUBAoCBa+/BAsKAgWBgkDBpX2woCBQECgIFFx3BAsKAgWBgkBhzuPCY2NBQaAgUBAouO4IFhQE\n",
       "CgIFgYKHdLCgIFAQKAgU3EkHCwoCBYGCQMGddLCgIFAQKAgU5vycpDcWFAQKAgWBgpN0sKAgUBAo\n",
       "CBTmekivLCgIFAQKAgUn6WBBQaAgUBAozPl5SG8sKAgUBAoCBSfpYEFBoCBQECi4kw4WFAQKAgWB\n",
       "gpN0sKAgUBAoCBQ8pIMFBYGCQEGg4IvDYEFBoCBQECjMff68/Rk+zYKCQEGgIFBw3REsKAgUBAoC\n",
       "BW93BAsKAgWBgkBhznXdsbGgIFAQKAgUnKSDBQWBgkBBoDDHF4crCwoCBYGCQMFJOlhQECgIFAQK\n",
       "TtLBgoJAQaAgUJh7naQ3FhQECgIFgYLrjmBBQaAgUBAoeAUvWFAQKAgUBApO0sGCgkBBoCBQmOsk\n",
       "vbKgIFAQKAgUnKSDBQWBgkBBoDDH2x0rCwoCBYGCQMFPlQYLCgIFgYJAwXvSwYKCQEGgIFBwJx0s\n",
       "KAgUBAoCBSfpYEFBoCBQECh4SAcLCgIFgYJAwReHwYKCQEGgIFBwkg4WFAQKAgWBwjy+OFxZUBAo\n",
       "CBQECk7SwYKCQEGgIFDwCl6woCBQECgIFOZxkl5ZUBAoCBQECt7uCBYUBAoCBYGCLw6DBQWBgkBB\n",
       "oOC6I1hQECgIFAQKc5/79mf4NAsKAgWBgkDBdUewoCBQECgIFOZxkl5ZUBAoCBQECv8BchLtGWsS\n",
       "xKgAAAAASUVORK5CYII=\n",
       "\" transform=\"translate(2161, 124)\"/>\n",
       "</g>\n",
       "<path clip-path=\"url(#clip780)\" d=\"M2280.7 1084.56 Q2277.09 1084.56 2275.26 1088.12 Q2273.45 1091.67 2273.45 1098.8 Q2273.45 1105.9 2275.26 1109.47 Q2277.09 1113.01 2280.7 1113.01 Q2284.33 1113.01 2286.14 1109.47 Q2287.97 1105.9 2287.97 1098.8 Q2287.97 1091.67 2286.14 1088.12 Q2284.33 1084.56 2280.7 1084.56 M2280.7 1080.86 Q2286.51 1080.86 2289.57 1085.46 Q2292.64 1090.05 2292.64 1098.8 Q2292.64 1107.52 2289.57 1112.13 Q2286.51 1116.71 2280.7 1116.71 Q2274.89 1116.71 2271.81 1112.13 Q2268.76 1107.52 2268.76 1098.8 Q2268.76 1090.05 2271.81 1085.46 Q2274.89 1080.86 2280.7 1080.86 Z\" fill=\"#000000\" fill-rule=\"nonzero\" fill-opacity=\"1\" /><path clip-path=\"url(#clip780)\" d=\"M2300.86 1110.16 L2305.75 1110.16 L2305.75 1116.04 L2300.86 1116.04 L2300.86 1110.16 Z\" fill=\"#000000\" fill-rule=\"nonzero\" fill-opacity=\"1\" /><path clip-path=\"url(#clip780)\" d=\"M2325.93 1084.56 Q2322.32 1084.56 2320.49 1088.12 Q2318.69 1091.67 2318.69 1098.8 Q2318.69 1105.9 2320.49 1109.47 Q2322.32 1113.01 2325.93 1113.01 Q2329.57 1113.01 2331.37 1109.47 Q2333.2 1105.9 2333.2 1098.8 Q2333.2 1091.67 2331.37 1088.12 Q2329.57 1084.56 2325.93 1084.56 M2325.93 1080.86 Q2331.74 1080.86 2334.8 1085.46 Q2337.88 1090.05 2337.88 1098.8 Q2337.88 1107.52 2334.8 1112.13 Q2331.74 1116.71 2325.93 1116.71 Q2320.12 1116.71 2317.04 1112.13 Q2313.99 1107.52 2313.99 1098.8 Q2313.99 1090.05 2317.04 1085.46 Q2320.12 1080.86 2325.93 1080.86 Z\" fill=\"#000000\" fill-rule=\"nonzero\" fill-opacity=\"1\" /><path clip-path=\"url(#clip780)\" d=\"M2350.12 1112.11 L2366.44 1112.11 L2366.44 1116.04 L2344.5 1116.04 L2344.5 1112.11 Q2347.16 1109.35 2351.74 1104.72 Q2356.35 1100.07 2357.53 1098.73 Q2359.77 1096.2 2360.65 1094.47 Q2361.56 1092.71 2361.56 1091.02 Q2361.56 1088.26 2359.61 1086.53 Q2357.69 1084.79 2354.59 1084.79 Q2352.39 1084.79 2349.94 1085.56 Q2347.51 1086.32 2344.73 1087.87 L2344.73 1083.15 Q2347.55 1082.01 2350.01 1081.44 Q2352.46 1080.86 2354.5 1080.86 Q2359.87 1080.86 2363.06 1083.54 Q2366.26 1086.23 2366.26 1090.72 Q2366.26 1092.85 2365.45 1094.77 Q2364.66 1096.67 2362.55 1099.26 Q2361.97 1099.93 2358.87 1103.15 Q2355.77 1106.34 2350.12 1112.11 Z\" fill=\"#000000\" fill-rule=\"nonzero\" fill-opacity=\"1\" /><path clip-path=\"url(#clip780)\" d=\"M2376.3 1081.48 L2394.66 1081.48 L2394.66 1085.42 L2380.58 1085.42 L2380.58 1093.89 Q2381.6 1093.54 2382.62 1093.38 Q2383.64 1093.19 2384.66 1093.19 Q2390.45 1093.19 2393.82 1096.37 Q2397.2 1099.54 2397.2 1104.95 Q2397.2 1110.53 2393.73 1113.63 Q2390.26 1116.71 2383.94 1116.71 Q2381.76 1116.71 2379.5 1116.34 Q2377.25 1115.97 2374.84 1115.23 L2374.84 1110.53 Q2376.93 1111.67 2379.15 1112.22 Q2381.37 1112.78 2383.85 1112.78 Q2387.85 1112.78 2390.19 1110.67 Q2392.53 1108.56 2392.53 1104.95 Q2392.53 1101.34 2390.19 1099.24 Q2387.85 1097.13 2383.85 1097.13 Q2381.97 1097.13 2380.1 1097.55 Q2378.25 1097.96 2376.3 1098.84 L2376.3 1081.48 Z\" fill=\"#000000\" fill-rule=\"nonzero\" fill-opacity=\"1\" /><path clip-path=\"url(#clip780)\" d=\"M2280.7 776.311 Q2277.09 776.311 2275.26 779.876 Q2273.45 783.418 2273.45 790.547 Q2273.45 797.654 2275.26 801.219 Q2277.09 804.76 2280.7 804.76 Q2284.33 804.76 2286.14 801.219 Q2287.97 797.654 2287.97 790.547 Q2287.97 783.418 2286.14 779.876 Q2284.33 776.311 2280.7 776.311 M2280.7 772.608 Q2286.51 772.608 2289.57 777.214 Q2292.64 781.798 2292.64 790.547 Q2292.64 799.274 2289.57 803.881 Q2286.51 808.464 2280.7 808.464 Q2274.89 808.464 2271.81 803.881 Q2268.76 799.274 2268.76 790.547 Q2268.76 781.798 2271.81 777.214 Q2274.89 772.608 2280.7 772.608 Z\" fill=\"#000000\" fill-rule=\"nonzero\" fill-opacity=\"1\" /><path clip-path=\"url(#clip780)\" d=\"M2300.86 801.913 L2305.75 801.913 L2305.75 807.793 L2300.86 807.793 L2300.86 801.913 Z\" fill=\"#000000\" fill-rule=\"nonzero\" fill-opacity=\"1\" /><path clip-path=\"url(#clip780)\" d=\"M2325.93 776.311 Q2322.32 776.311 2320.49 779.876 Q2318.69 783.418 2318.69 790.547 Q2318.69 797.654 2320.49 801.219 Q2322.32 804.76 2325.93 804.76 Q2329.57 804.76 2331.37 801.219 Q2333.2 797.654 2333.2 790.547 Q2333.2 783.418 2331.37 779.876 Q2329.57 776.311 2325.93 776.311 M2325.93 772.608 Q2331.74 772.608 2334.8 777.214 Q2337.88 781.798 2337.88 790.547 Q2337.88 799.274 2334.8 803.881 Q2331.74 808.464 2325.93 808.464 Q2320.12 808.464 2317.04 803.881 Q2313.99 799.274 2313.99 790.547 Q2313.99 781.798 2317.04 777.214 Q2320.12 772.608 2325.93 772.608 Z\" fill=\"#000000\" fill-rule=\"nonzero\" fill-opacity=\"1\" /><path clip-path=\"url(#clip780)\" d=\"M2346.14 773.233 L2364.5 773.233 L2364.5 777.168 L2350.42 777.168 L2350.42 785.64 Q2351.44 785.293 2352.46 785.131 Q2353.48 784.946 2354.5 784.946 Q2360.28 784.946 2363.66 788.117 Q2367.04 791.288 2367.04 796.705 Q2367.04 802.284 2363.57 805.385 Q2360.1 808.464 2353.78 808.464 Q2351.6 808.464 2349.33 808.094 Q2347.09 807.723 2344.68 806.983 L2344.68 802.284 Q2346.76 803.418 2348.99 803.973 Q2351.21 804.529 2353.69 804.529 Q2357.69 804.529 2360.03 802.422 Q2362.37 800.316 2362.37 796.705 Q2362.37 793.094 2360.03 790.987 Q2357.69 788.881 2353.69 788.881 Q2351.81 788.881 2349.94 789.297 Q2348.08 789.714 2346.14 790.594 L2346.14 773.233 Z\" fill=\"#000000\" fill-rule=\"nonzero\" fill-opacity=\"1\" /><path clip-path=\"url(#clip780)\" d=\"M2386.26 776.311 Q2382.64 776.311 2380.82 779.876 Q2379.01 783.418 2379.01 790.547 Q2379.01 797.654 2380.82 801.219 Q2382.64 804.76 2386.26 804.76 Q2389.89 804.76 2391.7 801.219 Q2393.52 797.654 2393.52 790.547 Q2393.52 783.418 2391.7 779.876 Q2389.89 776.311 2386.26 776.311 M2386.26 772.608 Q2392.07 772.608 2395.12 777.214 Q2398.2 781.798 2398.2 790.547 Q2398.2 799.274 2395.12 803.881 Q2392.07 808.464 2386.26 808.464 Q2380.45 808.464 2377.37 803.881 Q2374.31 799.274 2374.31 790.547 Q2374.31 781.798 2377.37 777.214 Q2380.45 772.608 2386.26 772.608 Z\" fill=\"#000000\" fill-rule=\"nonzero\" fill-opacity=\"1\" /><path clip-path=\"url(#clip780)\" d=\"M2280.7 468.063 Q2277.09 468.063 2275.26 471.628 Q2273.45 475.169 2273.45 482.299 Q2273.45 489.405 2275.26 492.97 Q2277.09 496.512 2280.7 496.512 Q2284.33 496.512 2286.14 492.97 Q2287.97 489.405 2287.97 482.299 Q2287.97 475.169 2286.14 471.628 Q2284.33 468.063 2280.7 468.063 M2280.7 464.359 Q2286.51 464.359 2289.57 468.965 Q2292.64 473.549 2292.64 482.299 Q2292.64 491.026 2289.57 495.632 Q2286.51 500.215 2280.7 500.215 Q2274.89 500.215 2271.81 495.632 Q2268.76 491.026 2268.76 482.299 Q2268.76 473.549 2271.81 468.965 Q2274.89 464.359 2280.7 464.359 Z\" fill=\"#000000\" fill-rule=\"nonzero\" fill-opacity=\"1\" /><path clip-path=\"url(#clip780)\" d=\"M2300.86 493.664 L2305.75 493.664 L2305.75 499.544 L2300.86 499.544 L2300.86 493.664 Z\" fill=\"#000000\" fill-rule=\"nonzero\" fill-opacity=\"1\" /><path clip-path=\"url(#clip780)\" d=\"M2325.93 468.063 Q2322.32 468.063 2320.49 471.628 Q2318.69 475.169 2318.69 482.299 Q2318.69 489.405 2320.49 492.97 Q2322.32 496.512 2325.93 496.512 Q2329.57 496.512 2331.37 492.97 Q2333.2 489.405 2333.2 482.299 Q2333.2 475.169 2331.37 471.628 Q2329.57 468.063 2325.93 468.063 M2325.93 464.359 Q2331.74 464.359 2334.8 468.965 Q2337.88 473.549 2337.88 482.299 Q2337.88 491.026 2334.8 495.632 Q2331.74 500.215 2325.93 500.215 Q2320.12 500.215 2317.04 495.632 Q2313.99 491.026 2313.99 482.299 Q2313.99 473.549 2317.04 468.965 Q2320.12 464.359 2325.93 464.359 Z\" fill=\"#000000\" fill-rule=\"nonzero\" fill-opacity=\"1\" /><path clip-path=\"url(#clip780)\" d=\"M2344.91 464.984 L2367.14 464.984 L2367.14 466.975 L2354.59 499.544 L2349.7 499.544 L2361.51 468.919 L2344.91 468.919 L2344.91 464.984 Z\" fill=\"#000000\" fill-rule=\"nonzero\" fill-opacity=\"1\" /><path clip-path=\"url(#clip780)\" d=\"M2376.3 464.984 L2394.66 464.984 L2394.66 468.919 L2380.58 468.919 L2380.58 477.391 Q2381.6 477.044 2382.62 476.882 Q2383.64 476.697 2384.66 476.697 Q2390.45 476.697 2393.82 479.868 Q2397.2 483.039 2397.2 488.456 Q2397.2 494.035 2393.73 497.137 Q2390.26 500.215 2383.94 500.215 Q2381.76 500.215 2379.5 499.845 Q2377.25 499.475 2374.84 498.734 L2374.84 494.035 Q2376.93 495.169 2379.15 495.725 Q2381.37 496.28 2383.85 496.28 Q2387.85 496.28 2390.19 494.174 Q2392.53 492.067 2392.53 488.456 Q2392.53 484.845 2390.19 482.739 Q2387.85 480.632 2383.85 480.632 Q2381.97 480.632 2380.1 481.049 Q2378.25 481.465 2376.3 482.345 L2376.3 464.984 Z\" fill=\"#000000\" fill-rule=\"nonzero\" fill-opacity=\"1\" /><path clip-path=\"url(#clip780)\" d=\"M2280.7 159.814 Q2277.09 159.814 2275.26 163.379 Q2273.45 166.92 2273.45 174.05 Q2273.45 181.156 2275.26 184.721 Q2277.09 188.263 2280.7 188.263 Q2284.33 188.263 2286.14 184.721 Q2287.97 181.156 2287.97 174.05 Q2287.97 166.92 2286.14 163.379 Q2284.33 159.814 2280.7 159.814 M2280.7 156.11 Q2286.51 156.11 2289.57 160.717 Q2292.64 165.3 2292.64 174.05 Q2292.64 182.777 2289.57 187.383 Q2286.51 191.967 2280.7 191.967 Q2274.89 191.967 2271.81 187.383 Q2268.76 182.777 2268.76 174.05 Q2268.76 165.3 2271.81 160.717 Q2274.89 156.11 2280.7 156.11 Z\" fill=\"#000000\" fill-rule=\"nonzero\" fill-opacity=\"1\" /><path clip-path=\"url(#clip780)\" d=\"M2300.86 185.416 L2305.75 185.416 L2305.75 191.295 L2300.86 191.295 L2300.86 185.416 Z\" fill=\"#000000\" fill-rule=\"nonzero\" fill-opacity=\"1\" /><path clip-path=\"url(#clip780)\" d=\"M2316.74 187.36 L2324.38 187.36 L2324.38 160.995 L2316.07 162.661 L2316.07 158.402 L2324.33 156.735 L2329.01 156.735 L2329.01 187.36 L2336.65 187.36 L2336.65 191.295 L2316.74 191.295 L2316.74 187.36 Z\" fill=\"#000000\" fill-rule=\"nonzero\" fill-opacity=\"1\" /><path clip-path=\"url(#clip780)\" d=\"M2356.09 159.814 Q2352.48 159.814 2350.65 163.379 Q2348.85 166.92 2348.85 174.05 Q2348.85 181.156 2350.65 184.721 Q2352.48 188.263 2356.09 188.263 Q2359.73 188.263 2361.53 184.721 Q2363.36 181.156 2363.36 174.05 Q2363.36 166.92 2361.53 163.379 Q2359.73 159.814 2356.09 159.814 M2356.09 156.11 Q2361.9 156.11 2364.96 160.717 Q2368.04 165.3 2368.04 174.05 Q2368.04 182.777 2364.96 187.383 Q2361.9 191.967 2356.09 191.967 Q2350.28 191.967 2347.2 187.383 Q2344.15 182.777 2344.15 174.05 Q2344.15 165.3 2347.2 160.717 Q2350.28 156.11 2356.09 156.11 Z\" fill=\"#000000\" fill-rule=\"nonzero\" fill-opacity=\"1\" /><path clip-path=\"url(#clip780)\" d=\"M2386.26 159.814 Q2382.64 159.814 2380.82 163.379 Q2379.01 166.92 2379.01 174.05 Q2379.01 181.156 2380.82 184.721 Q2382.64 188.263 2386.26 188.263 Q2389.89 188.263 2391.7 184.721 Q2393.52 181.156 2393.52 174.05 Q2393.52 166.92 2391.7 163.379 Q2389.89 159.814 2386.26 159.814 M2386.26 156.11 Q2392.07 156.11 2395.12 160.717 Q2398.2 165.3 2398.2 174.05 Q2398.2 182.777 2395.12 187.383 Q2392.07 191.967 2386.26 191.967 Q2380.45 191.967 2377.37 187.383 Q2374.31 182.777 2374.31 174.05 Q2374.31 165.3 2377.37 160.717 Q2380.45 156.11 2386.26 156.11 Z\" fill=\"#000000\" fill-rule=\"nonzero\" fill-opacity=\"1\" /><polyline clip-path=\"url(#clip780)\" style=\"stroke:#000000; stroke-linecap:round; stroke-linejoin:round; stroke-width:4; stroke-opacity:1; fill:none\" points=\"2232.76,1409.37 2232.76,1102.39 2256.76,1102.39 2232.76,1102.39 2232.76,794.142 2256.76,794.142 2232.76,794.142 2232.76,485.893 2256.76,485.893 2232.76,485.893 2232.76,177.644 2256.76,177.644 2232.76,177.644 2232.76,124.324 \"/>\n",
       "</svg>\n"
      ]
     },
     "execution_count": 36,
     "metadata": {},
     "output_type": "execute_result"
    }
   ],
   "source": [
    "factor = 25\n",
    "plot_density(Nx, Ny, Degeneracy, N, Sub_Number_MB_Operator_List, basis_cut_mb, r_hubbard_states, factor)\n",
    "#scatter!(co[:,1].+1,co[:,2].+1, series_annotations = text.([i for i in 1:N], :bottom), legend=false)"
   ]
  },
  {
   "cell_type": "markdown",
   "id": "55623e97-511b-4836-a8c8-6ed654171816",
   "metadata": {},
   "source": [
    "# Braiding and AB Phase Calculations"
   ]
  },
  {
   "cell_type": "code",
   "execution_count": 117,
   "id": "49f6d5d3-1f1f-49cd-8be0-921272207fcb",
   "metadata": {},
   "outputs": [
    {
     "data": {
      "image/png": "[encoded data removed]",
      "image/svg+xml": [
       "<?xml version=\"1.0\" encoding=\"utf-8\"?>\n",
       "<svg xmlns=\"http://www.w3.org/2000/svg\" xmlns:xlink=\"http://www.w3.org/1999/xlink\" width=\"600\" height=\"400\" viewBox=\"0 0 2400 1600\">\n",
       "<defs>\n",
       "  <clipPath id=\"clip890\">\n",
       "    <rect x=\"0\" y=\"0\" width=\"2400\" height=\"1600\"/>\n",
       "  </clipPath>\n",
       "</defs>\n",
       "<path clip-path=\"url(#clip890)\" d=\"M0 1600 L2400 1600 L2400 0 L0 0  Z\" fill=\"#ffffff\" fill-rule=\"evenodd\" fill-opacity=\"1\"/>\n",
       "<defs>\n",
       "  <clipPath id=\"clip891\">\n",
       "    <rect x=\"480\" y=\"0\" width=\"1681\" height=\"1600\"/>\n",
       "  </clipPath>\n",
       "</defs>\n",
       "<path clip-path=\"url(#clip890)\" d=\"M112.177 1486.45 L2352.76 1486.45 L2352.76 47.2441 L112.177 47.2441  Z\" fill=\"#ffffff\" fill-rule=\"evenodd\" fill-opacity=\"1\"/>\n",
       "<defs>\n",
       "  <clipPath id=\"clip892\">\n",
       "    <rect x=\"112\" y=\"47\" width=\"2242\" height=\"1440\"/>\n",
       "  </clipPath>\n",
       "</defs>\n",
       "<polyline clip-path=\"url(#clip892)\" style=\"stroke:#000000; stroke-linecap:round; stroke-linejoin:round; stroke-width:2; stroke-opacity:0.1; fill:none\" points=\"175.59,1486.45 175.59,47.2441 \"/>\n",
       "<polyline clip-path=\"url(#clip892)\" style=\"stroke:#000000; stroke-linecap:round; stroke-linejoin:round; stroke-width:2; stroke-opacity:0.1; fill:none\" points=\"779.519,1486.45 779.519,47.2441 \"/>\n",
       "<polyline clip-path=\"url(#clip892)\" style=\"stroke:#000000; stroke-linecap:round; stroke-linejoin:round; stroke-width:2; stroke-opacity:0.1; fill:none\" points=\"1383.45,1486.45 1383.45,47.2441 \"/>\n",
       "<polyline clip-path=\"url(#clip892)\" style=\"stroke:#000000; stroke-linecap:round; stroke-linejoin:round; stroke-width:2; stroke-opacity:0.1; fill:none\" points=\"1987.38,1486.45 1987.38,47.2441 \"/>\n",
       "<polyline clip-path=\"url(#clip890)\" style=\"stroke:#000000; stroke-linecap:round; stroke-linejoin:round; stroke-width:4; stroke-opacity:1; fill:none\" points=\"112.177,1486.45 2352.76,1486.45 \"/>\n",
       "<polyline clip-path=\"url(#clip890)\" style=\"stroke:#000000; stroke-linecap:round; stroke-linejoin:round; stroke-width:4; stroke-opacity:1; fill:none\" points=\"175.59,1486.45 175.59,1467.55 \"/>\n",
       "<polyline clip-path=\"url(#clip890)\" style=\"stroke:#000000; stroke-linecap:round; stroke-linejoin:round; stroke-width:4; stroke-opacity:1; fill:none\" points=\"779.519,1486.45 779.519,1467.55 \"/>\n",
       "<polyline clip-path=\"url(#clip890)\" style=\"stroke:#000000; stroke-linecap:round; stroke-linejoin:round; stroke-width:4; stroke-opacity:1; fill:none\" points=\"1383.45,1486.45 1383.45,1467.55 \"/>\n",
       "<polyline clip-path=\"url(#clip890)\" style=\"stroke:#000000; stroke-linecap:round; stroke-linejoin:round; stroke-width:4; stroke-opacity:1; fill:none\" points=\"1987.38,1486.45 1987.38,1467.55 \"/>\n",
       "<path clip-path=\"url(#clip890)\" d=\"M175.59 1517.37 Q171.979 1517.37 170.15 1520.93 Q168.344 1524.47 168.344 1531.6 Q168.344 1538.71 170.15 1542.27 Q171.979 1545.82 175.59 1545.82 Q179.224 1545.82 181.03 1542.27 Q182.858 1538.71 182.858 1531.6 Q182.858 1524.47 181.03 1520.93 Q179.224 1517.37 175.59 1517.37 M175.59 1513.66 Q181.4 1513.66 184.455 1518.27 Q187.534 1522.85 187.534 1531.6 Q187.534 1540.33 184.455 1544.94 Q181.4 1549.52 175.59 1549.52 Q169.78 1549.52 166.701 1544.94 Q163.645 1540.33 163.645 1531.6 Q163.645 1522.85 166.701 1518.27 Q169.78 1513.66 175.59 1513.66 Z\" fill=\"#000000\" fill-rule=\"nonzero\" fill-opacity=\"1\" /><path clip-path=\"url(#clip890)\" d=\"M774.172 1544.91 L790.492 1544.91 L790.492 1548.85 L768.547 1548.85 L768.547 1544.91 Q771.209 1542.16 775.793 1537.53 Q780.399 1532.88 781.58 1531.53 Q783.825 1529.01 784.705 1527.27 Q785.607 1525.51 785.607 1523.82 Q785.607 1521.07 783.663 1519.33 Q781.742 1517.6 778.64 1517.6 Q776.441 1517.6 773.987 1518.36 Q771.556 1519.13 768.779 1520.68 L768.779 1515.95 Q771.603 1514.82 774.056 1514.24 Q776.51 1513.66 778.547 1513.66 Q783.917 1513.66 787.112 1516.35 Q790.306 1519.03 790.306 1523.52 Q790.306 1525.65 789.496 1527.57 Q788.709 1529.47 786.603 1532.07 Q786.024 1532.74 782.922 1535.95 Q779.82 1539.15 774.172 1544.91 Z\" fill=\"#000000\" fill-rule=\"nonzero\" fill-opacity=\"1\" /><path clip-path=\"url(#clip890)\" d=\"M1386.46 1518.36 L1374.65 1536.81 L1386.46 1536.81 L1386.46 1518.36 M1385.23 1514.29 L1391.11 1514.29 L1391.11 1536.81 L1396.04 1536.81 L1396.04 1540.7 L1391.11 1540.7 L1391.11 1548.85 L1386.46 1548.85 L1386.46 1540.7 L1370.86 1540.7 L1370.86 1536.19 L1385.23 1514.29 Z\" fill=\"#000000\" fill-rule=\"nonzero\" fill-opacity=\"1\" /><path clip-path=\"url(#clip890)\" d=\"M1987.78 1529.7 Q1984.64 1529.7 1982.78 1531.86 Q1980.95 1534.01 1980.95 1537.76 Q1980.95 1541.49 1982.78 1543.66 Q1984.64 1545.82 1987.78 1545.82 Q1990.93 1545.82 1992.76 1543.66 Q1994.61 1541.49 1994.61 1537.76 Q1994.61 1534.01 1992.76 1531.86 Q1990.93 1529.7 1987.78 1529.7 M1997.07 1515.05 L1997.07 1519.31 Q1995.31 1518.48 1993.5 1518.04 Q1991.72 1517.6 1989.96 1517.6 Q1985.33 1517.6 1982.88 1520.72 Q1980.45 1523.85 1980.1 1530.17 Q1981.46 1528.15 1983.52 1527.09 Q1985.58 1526 1988.06 1526 Q1993.27 1526 1996.28 1529.17 Q1999.31 1532.32 1999.31 1537.76 Q1999.31 1543.08 1996.16 1546.3 Q1993.02 1549.52 1987.78 1549.52 Q1981.79 1549.52 1978.62 1544.94 Q1975.45 1540.33 1975.45 1531.6 Q1975.45 1523.41 1979.33 1518.55 Q1983.22 1513.66 1989.77 1513.66 Q1991.53 1513.66 1993.32 1514.01 Q1995.12 1514.36 1997.07 1515.05 Z\" fill=\"#000000\" fill-rule=\"nonzero\" fill-opacity=\"1\" /><polyline clip-path=\"url(#clip892)\" style=\"stroke:#000000; stroke-linecap:round; stroke-linejoin:round; stroke-width:2; stroke-opacity:0.1; fill:none\" points=\"112.177,1445.72 2352.76,1445.72 \"/>\n",
       "<polyline clip-path=\"url(#clip892)\" style=\"stroke:#000000; stroke-linecap:round; stroke-linejoin:round; stroke-width:2; stroke-opacity:0.1; fill:none\" points=\"112.177,1144 2352.76,1144 \"/>\n",
       "<polyline clip-path=\"url(#clip892)\" style=\"stroke:#000000; stroke-linecap:round; stroke-linejoin:round; stroke-width:2; stroke-opacity:0.1; fill:none\" points=\"112.177,842.276 2352.76,842.276 \"/>\n",
       "<polyline clip-path=\"url(#clip892)\" style=\"stroke:#000000; stroke-linecap:round; stroke-linejoin:round; stroke-width:2; stroke-opacity:0.1; fill:none\" points=\"112.177,540.556 2352.76,540.556 \"/>\n",
       "<polyline clip-path=\"url(#clip892)\" style=\"stroke:#000000; stroke-linecap:round; stroke-linejoin:round; stroke-width:2; stroke-opacity:0.1; fill:none\" points=\"112.177,238.836 2352.76,238.836 \"/>\n",
       "<polyline clip-path=\"url(#clip890)\" style=\"stroke:#000000; stroke-linecap:round; stroke-linejoin:round; stroke-width:4; stroke-opacity:1; fill:none\" points=\"112.177,1486.45 112.177,47.2441 \"/>\n",
       "<polyline clip-path=\"url(#clip890)\" style=\"stroke:#000000; stroke-linecap:round; stroke-linejoin:round; stroke-width:4; stroke-opacity:1; fill:none\" points=\"112.177,1445.72 131.075,1445.72 \"/>\n",
       "<polyline clip-path=\"url(#clip890)\" style=\"stroke:#000000; stroke-linecap:round; stroke-linejoin:round; stroke-width:4; stroke-opacity:1; fill:none\" points=\"112.177,1144 131.075,1144 \"/>\n",
       "<polyline clip-path=\"url(#clip890)\" style=\"stroke:#000000; stroke-linecap:round; stroke-linejoin:round; stroke-width:4; stroke-opacity:1; fill:none\" points=\"112.177,842.276 131.075,842.276 \"/>\n",
       "<polyline clip-path=\"url(#clip890)\" style=\"stroke:#000000; stroke-linecap:round; stroke-linejoin:round; stroke-width:4; stroke-opacity:1; fill:none\" points=\"112.177,540.556 131.075,540.556 \"/>\n",
       "<polyline clip-path=\"url(#clip890)\" style=\"stroke:#000000; stroke-linecap:round; stroke-linejoin:round; stroke-width:4; stroke-opacity:1; fill:none\" points=\"112.177,238.836 131.075,238.836 \"/>\n",
       "<path clip-path=\"url(#clip890)\" d=\"M64.2328 1431.51 Q60.6217 1431.51 58.793 1435.08 Q56.9875 1438.62 56.9875 1445.75 Q56.9875 1452.86 58.793 1456.42 Q60.6217 1459.96 64.2328 1459.96 Q67.867 1459.96 69.6726 1456.42 Q71.5013 1452.86 71.5013 1445.75 Q71.5013 1438.62 69.6726 1435.08 Q67.867 1431.51 64.2328 1431.51 M64.2328 1427.81 Q70.0429 1427.81 73.0985 1432.42 Q76.1772 1437 76.1772 1445.75 Q76.1772 1454.48 73.0985 1459.08 Q70.0429 1463.67 64.2328 1463.67 Q58.4226 1463.67 55.344 1459.08 Q52.2884 1454.48 52.2884 1445.75 Q52.2884 1437 55.344 1432.42 Q58.4226 1427.81 64.2328 1427.81 Z\" fill=\"#000000\" fill-rule=\"nonzero\" fill-opacity=\"1\" /><path clip-path=\"url(#clip890)\" d=\"M59.8578 1157.34 L76.1772 1157.34 L76.1772 1161.28 L54.2328 1161.28 L54.2328 1157.34 Q56.8949 1154.59 61.4782 1149.96 Q66.0846 1145.3 67.2652 1143.96 Q69.5105 1141.44 70.3902 1139.7 Q71.2929 1137.94 71.2929 1136.25 Q71.2929 1133.5 69.3485 1131.76 Q67.4272 1130.03 64.3254 1130.03 Q62.1263 1130.03 59.6726 1130.79 Q57.2421 1131.55 54.4643 1133.1 L54.4643 1128.38 Q57.2884 1127.25 59.7421 1126.67 Q62.1958 1126.09 64.2328 1126.09 Q69.6031 1126.09 72.7976 1128.78 Q75.992 1131.46 75.992 1135.95 Q75.992 1138.08 75.1818 1140 Q74.3948 1141.9 72.2883 1144.49 Q71.7096 1145.16 68.6078 1148.38 Q65.5059 1151.58 59.8578 1157.34 Z\" fill=\"#000000\" fill-rule=\"nonzero\" fill-opacity=\"1\" /><path clip-path=\"url(#clip890)\" d=\"M66.5939 829.07 L54.7884 847.519 L66.5939 847.519 L66.5939 829.07 M65.367 824.996 L71.2466 824.996 L71.2466 847.519 L76.1772 847.519 L76.1772 851.408 L71.2466 851.408 L71.2466 859.556 L66.5939 859.556 L66.5939 851.408 L50.9921 851.408 L50.9921 846.894 L65.367 824.996 Z\" fill=\"#000000\" fill-rule=\"nonzero\" fill-opacity=\"1\" /><path clip-path=\"url(#clip890)\" d=\"M64.6495 538.693 Q61.5013 538.693 59.6495 540.845 Q57.8208 542.998 57.8208 546.748 Q57.8208 550.475 59.6495 552.651 Q61.5013 554.804 64.6495 554.804 Q67.7976 554.804 69.6263 552.651 Q71.4781 550.475 71.4781 546.748 Q71.4781 542.998 69.6263 540.845 Q67.7976 538.693 64.6495 538.693 M73.9318 524.04 L73.9318 528.299 Q72.1726 527.466 70.367 527.026 Q68.5846 526.586 66.8254 526.586 Q62.1958 526.586 59.7421 529.711 Q57.3115 532.836 56.9643 539.156 Q58.33 537.142 60.3902 536.077 Q62.4504 534.989 64.9272 534.989 Q70.1355 534.989 73.1448 538.16 Q76.1772 541.308 76.1772 546.748 Q76.1772 552.072 73.029 555.29 Q69.8809 558.507 64.6495 558.507 Q58.6541 558.507 55.4828 553.924 Q52.3116 549.318 52.3116 540.591 Q52.3116 532.396 56.2004 527.535 Q60.0893 522.651 66.6402 522.651 Q68.3994 522.651 70.1818 522.998 Q71.9874 523.346 73.9318 524.04 Z\" fill=\"#000000\" fill-rule=\"nonzero\" fill-opacity=\"1\" /><path clip-path=\"url(#clip890)\" d=\"M64.3254 239.704 Q60.9921 239.704 59.0708 241.487 Q57.1726 243.269 57.1726 246.394 Q57.1726 249.519 59.0708 251.301 Q60.9921 253.084 64.3254 253.084 Q67.6587 253.084 69.58 251.301 Q71.5013 249.496 71.5013 246.394 Q71.5013 243.269 69.58 241.487 Q67.6819 239.704 64.3254 239.704 M59.6495 237.714 Q56.6402 236.973 54.9504 234.913 Q53.2838 232.852 53.2838 229.89 Q53.2838 225.746 56.2236 223.339 Q59.1865 220.931 64.3254 220.931 Q69.4874 220.931 72.4272 223.339 Q75.367 225.746 75.367 229.89 Q75.367 232.852 73.6772 234.913 Q72.0105 236.973 69.0244 237.714 Q72.404 238.501 74.279 240.792 Q76.1772 243.084 76.1772 246.394 Q76.1772 251.417 73.0985 254.102 Q70.0429 256.788 64.3254 256.788 Q58.6078 256.788 55.5291 254.102 Q52.4736 251.417 52.4736 246.394 Q52.4736 243.084 54.3717 240.792 Q56.2699 238.501 59.6495 237.714 M57.9365 230.329 Q57.9365 233.014 59.6032 234.519 Q61.293 236.024 64.3254 236.024 Q67.3346 236.024 69.0244 234.519 Q70.7374 233.014 70.7374 230.329 Q70.7374 227.644 69.0244 226.14 Q67.3346 224.635 64.3254 224.635 Q61.293 224.635 59.6032 226.14 Q57.9365 227.644 57.9365 230.329 Z\" fill=\"#000000\" fill-rule=\"nonzero\" fill-opacity=\"1\" /><circle clip-path=\"url(#clip892)\" cx=\"175.59\" cy=\"1445.72\" r=\"14.4\" fill=\"#009af9\" fill-rule=\"evenodd\" fill-opacity=\"1\" stroke=\"#000000\" stroke-opacity=\"1\" stroke-width=\"3.2\"/>\n",
       "<circle clip-path=\"url(#clip892)\" cx=\"477.555\" cy=\"1445.72\" r=\"14.4\" fill=\"#009af9\" fill-rule=\"evenodd\" fill-opacity=\"1\" stroke=\"#000000\" stroke-opacity=\"1\" stroke-width=\"3.2\"/>\n",
       "<circle clip-path=\"url(#clip892)\" cx=\"779.519\" cy=\"1445.72\" r=\"14.4\" fill=\"#009af9\" fill-rule=\"evenodd\" fill-opacity=\"1\" stroke=\"#000000\" stroke-opacity=\"1\" stroke-width=\"3.2\"/>\n",
       "<circle clip-path=\"url(#clip892)\" cx=\"1081.48\" cy=\"1445.72\" r=\"14.4\" fill=\"#009af9\" fill-rule=\"evenodd\" fill-opacity=\"1\" stroke=\"#000000\" stroke-opacity=\"1\" stroke-width=\"3.2\"/>\n",
       "<circle clip-path=\"url(#clip892)\" cx=\"1383.45\" cy=\"1445.72\" r=\"14.4\" fill=\"#009af9\" fill-rule=\"evenodd\" fill-opacity=\"1\" stroke=\"#000000\" stroke-opacity=\"1\" stroke-width=\"3.2\"/>\n",
       "<circle clip-path=\"url(#clip892)\" cx=\"1685.41\" cy=\"1445.72\" r=\"14.4\" fill=\"#009af9\" fill-rule=\"evenodd\" fill-opacity=\"1\" stroke=\"#000000\" stroke-opacity=\"1\" stroke-width=\"3.2\"/>\n",
       "<circle clip-path=\"url(#clip892)\" cx=\"1987.38\" cy=\"1445.72\" r=\"14.4\" fill=\"#009af9\" fill-rule=\"evenodd\" fill-opacity=\"1\" stroke=\"#000000\" stroke-opacity=\"1\" stroke-width=\"3.2\"/>\n",
       "<circle clip-path=\"url(#clip892)\" cx=\"2289.34\" cy=\"1445.72\" r=\"14.4\" fill=\"#009af9\" fill-rule=\"evenodd\" fill-opacity=\"1\" stroke=\"#000000\" stroke-opacity=\"1\" stroke-width=\"3.2\"/>\n",
       "<circle clip-path=\"url(#clip892)\" cx=\"175.59\" cy=\"1294.86\" r=\"14.4\" fill=\"#009af9\" fill-rule=\"evenodd\" fill-opacity=\"1\" stroke=\"#000000\" stroke-opacity=\"1\" stroke-width=\"3.2\"/>\n",
       "<circle clip-path=\"url(#clip892)\" cx=\"477.555\" cy=\"1294.86\" r=\"14.4\" fill=\"#009af9\" fill-rule=\"evenodd\" fill-opacity=\"1\" stroke=\"#000000\" stroke-opacity=\"1\" stroke-width=\"3.2\"/>\n",
       "<circle clip-path=\"url(#clip892)\" cx=\"779.519\" cy=\"1294.86\" r=\"14.4\" fill=\"#009af9\" fill-rule=\"evenodd\" fill-opacity=\"1\" stroke=\"#000000\" stroke-opacity=\"1\" stroke-width=\"3.2\"/>\n",
       "<circle clip-path=\"url(#clip892)\" cx=\"1081.48\" cy=\"1294.86\" r=\"14.4\" fill=\"#009af9\" fill-rule=\"evenodd\" fill-opacity=\"1\" stroke=\"#000000\" stroke-opacity=\"1\" stroke-width=\"3.2\"/>\n",
       "<circle clip-path=\"url(#clip892)\" cx=\"1383.45\" cy=\"1294.86\" r=\"14.4\" fill=\"#009af9\" fill-rule=\"evenodd\" fill-opacity=\"1\" stroke=\"#000000\" stroke-opacity=\"1\" stroke-width=\"3.2\"/>\n",
       "<circle clip-path=\"url(#clip892)\" cx=\"1685.41\" cy=\"1294.86\" r=\"14.4\" fill=\"#009af9\" fill-rule=\"evenodd\" fill-opacity=\"1\" stroke=\"#000000\" stroke-opacity=\"1\" stroke-width=\"3.2\"/>\n",
       "<circle clip-path=\"url(#clip892)\" cx=\"1987.38\" cy=\"1294.86\" r=\"14.4\" fill=\"#009af9\" fill-rule=\"evenodd\" fill-opacity=\"1\" stroke=\"#000000\" stroke-opacity=\"1\" stroke-width=\"3.2\"/>\n",
       "<circle clip-path=\"url(#clip892)\" cx=\"2289.34\" cy=\"1294.86\" r=\"14.4\" fill=\"#009af9\" fill-rule=\"evenodd\" fill-opacity=\"1\" stroke=\"#000000\" stroke-opacity=\"1\" stroke-width=\"3.2\"/>\n",
       "<circle clip-path=\"url(#clip892)\" cx=\"175.59\" cy=\"1144\" r=\"14.4\" fill=\"#009af9\" fill-rule=\"evenodd\" fill-opacity=\"1\" stroke=\"#000000\" stroke-opacity=\"1\" stroke-width=\"3.2\"/>\n",
       "<circle clip-path=\"url(#clip892)\" cx=\"477.555\" cy=\"1144\" r=\"14.4\" fill=\"#009af9\" fill-rule=\"evenodd\" fill-opacity=\"1\" stroke=\"#000000\" stroke-opacity=\"1\" stroke-width=\"3.2\"/>\n",
       "<circle clip-path=\"url(#clip892)\" cx=\"779.519\" cy=\"1144\" r=\"14.4\" fill=\"#009af9\" fill-rule=\"evenodd\" fill-opacity=\"1\" stroke=\"#000000\" stroke-opacity=\"1\" stroke-width=\"3.2\"/>\n",
       "<circle clip-path=\"url(#clip892)\" cx=\"1081.48\" cy=\"1144\" r=\"14.4\" fill=\"#009af9\" fill-rule=\"evenodd\" fill-opacity=\"1\" stroke=\"#000000\" stroke-opacity=\"1\" stroke-width=\"3.2\"/>\n",
       "<circle clip-path=\"url(#clip892)\" cx=\"1383.45\" cy=\"1144\" r=\"14.4\" fill=\"#009af9\" fill-rule=\"evenodd\" fill-opacity=\"1\" stroke=\"#000000\" stroke-opacity=\"1\" stroke-width=\"3.2\"/>\n",
       "<circle clip-path=\"url(#clip892)\" cx=\"1685.41\" cy=\"1144\" r=\"14.4\" fill=\"#009af9\" fill-rule=\"evenodd\" fill-opacity=\"1\" stroke=\"#000000\" stroke-opacity=\"1\" stroke-width=\"3.2\"/>\n",
       "<circle clip-path=\"url(#clip892)\" cx=\"1987.38\" cy=\"1144\" r=\"14.4\" fill=\"#009af9\" fill-rule=\"evenodd\" fill-opacity=\"1\" stroke=\"#000000\" stroke-opacity=\"1\" stroke-width=\"3.2\"/>\n",
       "<circle clip-path=\"url(#clip892)\" cx=\"2289.34\" cy=\"1144\" r=\"14.4\" fill=\"#009af9\" fill-rule=\"evenodd\" fill-opacity=\"1\" stroke=\"#000000\" stroke-opacity=\"1\" stroke-width=\"3.2\"/>\n",
       "<circle clip-path=\"url(#clip892)\" cx=\"175.59\" cy=\"993.136\" r=\"14.4\" fill=\"#009af9\" fill-rule=\"evenodd\" fill-opacity=\"1\" stroke=\"#000000\" stroke-opacity=\"1\" stroke-width=\"3.2\"/>\n",
       "<circle clip-path=\"url(#clip892)\" cx=\"477.555\" cy=\"993.136\" r=\"14.4\" fill=\"#009af9\" fill-rule=\"evenodd\" fill-opacity=\"1\" stroke=\"#000000\" stroke-opacity=\"1\" stroke-width=\"3.2\"/>\n",
       "<circle clip-path=\"url(#clip892)\" cx=\"779.519\" cy=\"993.136\" r=\"14.4\" fill=\"#009af9\" fill-rule=\"evenodd\" fill-opacity=\"1\" stroke=\"#000000\" stroke-opacity=\"1\" stroke-width=\"3.2\"/>\n",
       "<circle clip-path=\"url(#clip892)\" cx=\"1081.48\" cy=\"993.136\" r=\"14.4\" fill=\"#009af9\" fill-rule=\"evenodd\" fill-opacity=\"1\" stroke=\"#000000\" stroke-opacity=\"1\" stroke-width=\"3.2\"/>\n",
       "<circle clip-path=\"url(#clip892)\" cx=\"1383.45\" cy=\"993.136\" r=\"14.4\" fill=\"#009af9\" fill-rule=\"evenodd\" fill-opacity=\"1\" stroke=\"#000000\" stroke-opacity=\"1\" stroke-width=\"3.2\"/>\n",
       "<circle clip-path=\"url(#clip892)\" cx=\"1685.41\" cy=\"993.136\" r=\"14.4\" fill=\"#009af9\" fill-rule=\"evenodd\" fill-opacity=\"1\" stroke=\"#000000\" stroke-opacity=\"1\" stroke-width=\"3.2\"/>\n",
       "<circle clip-path=\"url(#clip892)\" cx=\"1987.38\" cy=\"993.136\" r=\"14.4\" fill=\"#009af9\" fill-rule=\"evenodd\" fill-opacity=\"1\" stroke=\"#000000\" stroke-opacity=\"1\" stroke-width=\"3.2\"/>\n",
       "<circle clip-path=\"url(#clip892)\" cx=\"2289.34\" cy=\"993.136\" r=\"14.4\" fill=\"#009af9\" fill-rule=\"evenodd\" fill-opacity=\"1\" stroke=\"#000000\" stroke-opacity=\"1\" stroke-width=\"3.2\"/>\n",
       "<circle clip-path=\"url(#clip892)\" cx=\"175.59\" cy=\"842.276\" r=\"14.4\" fill=\"#009af9\" fill-rule=\"evenodd\" fill-opacity=\"1\" stroke=\"#000000\" stroke-opacity=\"1\" stroke-width=\"3.2\"/>\n",
       "<circle clip-path=\"url(#clip892)\" cx=\"477.555\" cy=\"842.276\" r=\"14.4\" fill=\"#009af9\" fill-rule=\"evenodd\" fill-opacity=\"1\" stroke=\"#000000\" stroke-opacity=\"1\" stroke-width=\"3.2\"/>\n",
       "<circle clip-path=\"url(#clip892)\" cx=\"779.519\" cy=\"842.276\" r=\"14.4\" fill=\"#009af9\" fill-rule=\"evenodd\" fill-opacity=\"1\" stroke=\"#000000\" stroke-opacity=\"1\" stroke-width=\"3.2\"/>\n",
       "<circle clip-path=\"url(#clip892)\" cx=\"1081.48\" cy=\"842.276\" r=\"14.4\" fill=\"#009af9\" fill-rule=\"evenodd\" fill-opacity=\"1\" stroke=\"#000000\" stroke-opacity=\"1\" stroke-width=\"3.2\"/>\n",
       "<circle clip-path=\"url(#clip892)\" cx=\"1383.45\" cy=\"842.276\" r=\"14.4\" fill=\"#009af9\" fill-rule=\"evenodd\" fill-opacity=\"1\" stroke=\"#000000\" stroke-opacity=\"1\" stroke-width=\"3.2\"/>\n",
       "<circle clip-path=\"url(#clip892)\" cx=\"1685.41\" cy=\"842.276\" r=\"14.4\" fill=\"#009af9\" fill-rule=\"evenodd\" fill-opacity=\"1\" stroke=\"#000000\" stroke-opacity=\"1\" stroke-width=\"3.2\"/>\n",
       "<circle clip-path=\"url(#clip892)\" cx=\"1987.38\" cy=\"842.276\" r=\"14.4\" fill=\"#009af9\" fill-rule=\"evenodd\" fill-opacity=\"1\" stroke=\"#000000\" stroke-opacity=\"1\" stroke-width=\"3.2\"/>\n",
       "<circle clip-path=\"url(#clip892)\" cx=\"2289.34\" cy=\"842.276\" r=\"14.4\" fill=\"#009af9\" fill-rule=\"evenodd\" fill-opacity=\"1\" stroke=\"#000000\" stroke-opacity=\"1\" stroke-width=\"3.2\"/>\n",
       "<circle clip-path=\"url(#clip892)\" cx=\"175.59\" cy=\"691.416\" r=\"14.4\" fill=\"#009af9\" fill-rule=\"evenodd\" fill-opacity=\"1\" stroke=\"#000000\" stroke-opacity=\"1\" stroke-width=\"3.2\"/>\n",
       "<circle clip-path=\"url(#clip892)\" cx=\"477.555\" cy=\"691.416\" r=\"14.4\" fill=\"#009af9\" fill-rule=\"evenodd\" fill-opacity=\"1\" stroke=\"#000000\" stroke-opacity=\"1\" stroke-width=\"3.2\"/>\n",
       "<circle clip-path=\"url(#clip892)\" cx=\"779.519\" cy=\"691.416\" r=\"14.4\" fill=\"#009af9\" fill-rule=\"evenodd\" fill-opacity=\"1\" stroke=\"#000000\" stroke-opacity=\"1\" stroke-width=\"3.2\"/>\n",
       "<circle clip-path=\"url(#clip892)\" cx=\"1081.48\" cy=\"691.416\" r=\"14.4\" fill=\"#009af9\" fill-rule=\"evenodd\" fill-opacity=\"1\" stroke=\"#000000\" stroke-opacity=\"1\" stroke-width=\"3.2\"/>\n",
       "<circle clip-path=\"url(#clip892)\" cx=\"1383.45\" cy=\"691.416\" r=\"14.4\" fill=\"#009af9\" fill-rule=\"evenodd\" fill-opacity=\"1\" stroke=\"#000000\" stroke-opacity=\"1\" stroke-width=\"3.2\"/>\n",
       "<circle clip-path=\"url(#clip892)\" cx=\"1685.41\" cy=\"691.416\" r=\"14.4\" fill=\"#009af9\" fill-rule=\"evenodd\" fill-opacity=\"1\" stroke=\"#000000\" stroke-opacity=\"1\" stroke-width=\"3.2\"/>\n",
       "<circle clip-path=\"url(#clip892)\" cx=\"1987.38\" cy=\"691.416\" r=\"14.4\" fill=\"#009af9\" fill-rule=\"evenodd\" fill-opacity=\"1\" stroke=\"#000000\" stroke-opacity=\"1\" stroke-width=\"3.2\"/>\n",
       "<circle clip-path=\"url(#clip892)\" cx=\"2289.34\" cy=\"691.416\" r=\"14.4\" fill=\"#009af9\" fill-rule=\"evenodd\" fill-opacity=\"1\" stroke=\"#000000\" stroke-opacity=\"1\" stroke-width=\"3.2\"/>\n",
       "<circle clip-path=\"url(#clip892)\" cx=\"175.59\" cy=\"540.556\" r=\"14.4\" fill=\"#009af9\" fill-rule=\"evenodd\" fill-opacity=\"1\" stroke=\"#000000\" stroke-opacity=\"1\" stroke-width=\"3.2\"/>\n",
       "<circle clip-path=\"url(#clip892)\" cx=\"477.555\" cy=\"540.556\" r=\"14.4\" fill=\"#009af9\" fill-rule=\"evenodd\" fill-opacity=\"1\" stroke=\"#000000\" stroke-opacity=\"1\" stroke-width=\"3.2\"/>\n",
       "<circle clip-path=\"url(#clip892)\" cx=\"779.519\" cy=\"540.556\" r=\"14.4\" fill=\"#009af9\" fill-rule=\"evenodd\" fill-opacity=\"1\" stroke=\"#000000\" stroke-opacity=\"1\" stroke-width=\"3.2\"/>\n",
       "<circle clip-path=\"url(#clip892)\" cx=\"1081.48\" cy=\"540.556\" r=\"14.4\" fill=\"#009af9\" fill-rule=\"evenodd\" fill-opacity=\"1\" stroke=\"#000000\" stroke-opacity=\"1\" stroke-width=\"3.2\"/>\n",
       "<circle clip-path=\"url(#clip892)\" cx=\"1383.45\" cy=\"540.556\" r=\"14.4\" fill=\"#009af9\" fill-rule=\"evenodd\" fill-opacity=\"1\" stroke=\"#000000\" stroke-opacity=\"1\" stroke-width=\"3.2\"/>\n",
       "<circle clip-path=\"url(#clip892)\" cx=\"1685.41\" cy=\"540.556\" r=\"14.4\" fill=\"#009af9\" fill-rule=\"evenodd\" fill-opacity=\"1\" stroke=\"#000000\" stroke-opacity=\"1\" stroke-width=\"3.2\"/>\n",
       "<circle clip-path=\"url(#clip892)\" cx=\"1987.38\" cy=\"540.556\" r=\"14.4\" fill=\"#009af9\" fill-rule=\"evenodd\" fill-opacity=\"1\" stroke=\"#000000\" stroke-opacity=\"1\" stroke-width=\"3.2\"/>\n",
       "<circle clip-path=\"url(#clip892)\" cx=\"2289.34\" cy=\"540.556\" r=\"14.4\" fill=\"#009af9\" fill-rule=\"evenodd\" fill-opacity=\"1\" stroke=\"#000000\" stroke-opacity=\"1\" stroke-width=\"3.2\"/>\n",
       "<circle clip-path=\"url(#clip892)\" cx=\"175.59\" cy=\"389.696\" r=\"14.4\" fill=\"#009af9\" fill-rule=\"evenodd\" fill-opacity=\"1\" stroke=\"#000000\" stroke-opacity=\"1\" stroke-width=\"3.2\"/>\n",
       "<circle clip-path=\"url(#clip892)\" cx=\"477.555\" cy=\"389.696\" r=\"14.4\" fill=\"#009af9\" fill-rule=\"evenodd\" fill-opacity=\"1\" stroke=\"#000000\" stroke-opacity=\"1\" stroke-width=\"3.2\"/>\n",
       "<circle clip-path=\"url(#clip892)\" cx=\"779.519\" cy=\"389.696\" r=\"14.4\" fill=\"#009af9\" fill-rule=\"evenodd\" fill-opacity=\"1\" stroke=\"#000000\" stroke-opacity=\"1\" stroke-width=\"3.2\"/>\n",
       "<circle clip-path=\"url(#clip892)\" cx=\"1081.48\" cy=\"389.696\" r=\"14.4\" fill=\"#009af9\" fill-rule=\"evenodd\" fill-opacity=\"1\" stroke=\"#000000\" stroke-opacity=\"1\" stroke-width=\"3.2\"/>\n",
       "<circle clip-path=\"url(#clip892)\" cx=\"1383.45\" cy=\"389.696\" r=\"14.4\" fill=\"#009af9\" fill-rule=\"evenodd\" fill-opacity=\"1\" stroke=\"#000000\" stroke-opacity=\"1\" stroke-width=\"3.2\"/>\n",
       "<circle clip-path=\"url(#clip892)\" cx=\"1685.41\" cy=\"389.696\" r=\"14.4\" fill=\"#009af9\" fill-rule=\"evenodd\" fill-opacity=\"1\" stroke=\"#000000\" stroke-opacity=\"1\" stroke-width=\"3.2\"/>\n",
       "<circle clip-path=\"url(#clip892)\" cx=\"1987.38\" cy=\"389.696\" r=\"14.4\" fill=\"#009af9\" fill-rule=\"evenodd\" fill-opacity=\"1\" stroke=\"#000000\" stroke-opacity=\"1\" stroke-width=\"3.2\"/>\n",
       "<circle clip-path=\"url(#clip892)\" cx=\"2289.34\" cy=\"389.696\" r=\"14.4\" fill=\"#009af9\" fill-rule=\"evenodd\" fill-opacity=\"1\" stroke=\"#000000\" stroke-opacity=\"1\" stroke-width=\"3.2\"/>\n",
       "<circle clip-path=\"url(#clip892)\" cx=\"175.59\" cy=\"238.836\" r=\"14.4\" fill=\"#009af9\" fill-rule=\"evenodd\" fill-opacity=\"1\" stroke=\"#000000\" stroke-opacity=\"1\" stroke-width=\"3.2\"/>\n",
       "<circle clip-path=\"url(#clip892)\" cx=\"477.555\" cy=\"238.836\" r=\"14.4\" fill=\"#009af9\" fill-rule=\"evenodd\" fill-opacity=\"1\" stroke=\"#000000\" stroke-opacity=\"1\" stroke-width=\"3.2\"/>\n",
       "<circle clip-path=\"url(#clip892)\" cx=\"779.519\" cy=\"238.836\" r=\"14.4\" fill=\"#009af9\" fill-rule=\"evenodd\" fill-opacity=\"1\" stroke=\"#000000\" stroke-opacity=\"1\" stroke-width=\"3.2\"/>\n",
       "<circle clip-path=\"url(#clip892)\" cx=\"1081.48\" cy=\"238.836\" r=\"14.4\" fill=\"#009af9\" fill-rule=\"evenodd\" fill-opacity=\"1\" stroke=\"#000000\" stroke-opacity=\"1\" stroke-width=\"3.2\"/>\n",
       "<circle clip-path=\"url(#clip892)\" cx=\"1383.45\" cy=\"238.836\" r=\"14.4\" fill=\"#009af9\" fill-rule=\"evenodd\" fill-opacity=\"1\" stroke=\"#000000\" stroke-opacity=\"1\" stroke-width=\"3.2\"/>\n",
       "<circle clip-path=\"url(#clip892)\" cx=\"1685.41\" cy=\"238.836\" r=\"14.4\" fill=\"#009af9\" fill-rule=\"evenodd\" fill-opacity=\"1\" stroke=\"#000000\" stroke-opacity=\"1\" stroke-width=\"3.2\"/>\n",
       "<circle clip-path=\"url(#clip892)\" cx=\"1987.38\" cy=\"238.836\" r=\"14.4\" fill=\"#009af9\" fill-rule=\"evenodd\" fill-opacity=\"1\" stroke=\"#000000\" stroke-opacity=\"1\" stroke-width=\"3.2\"/>\n",
       "<circle clip-path=\"url(#clip892)\" cx=\"2289.34\" cy=\"238.836\" r=\"14.4\" fill=\"#009af9\" fill-rule=\"evenodd\" fill-opacity=\"1\" stroke=\"#000000\" stroke-opacity=\"1\" stroke-width=\"3.2\"/>\n",
       "<circle clip-path=\"url(#clip892)\" cx=\"175.59\" cy=\"87.9763\" r=\"14.4\" fill=\"#009af9\" fill-rule=\"evenodd\" fill-opacity=\"1\" stroke=\"#000000\" stroke-opacity=\"1\" stroke-width=\"3.2\"/>\n",
       "<circle clip-path=\"url(#clip892)\" cx=\"477.555\" cy=\"87.9763\" r=\"14.4\" fill=\"#009af9\" fill-rule=\"evenodd\" fill-opacity=\"1\" stroke=\"#000000\" stroke-opacity=\"1\" stroke-width=\"3.2\"/>\n",
       "<circle clip-path=\"url(#clip892)\" cx=\"779.519\" cy=\"87.9763\" r=\"14.4\" fill=\"#009af9\" fill-rule=\"evenodd\" fill-opacity=\"1\" stroke=\"#000000\" stroke-opacity=\"1\" stroke-width=\"3.2\"/>\n",
       "<circle clip-path=\"url(#clip892)\" cx=\"1081.48\" cy=\"87.9763\" r=\"14.4\" fill=\"#009af9\" fill-rule=\"evenodd\" fill-opacity=\"1\" stroke=\"#000000\" stroke-opacity=\"1\" stroke-width=\"3.2\"/>\n",
       "<circle clip-path=\"url(#clip892)\" cx=\"1383.45\" cy=\"87.9763\" r=\"14.4\" fill=\"#009af9\" fill-rule=\"evenodd\" fill-opacity=\"1\" stroke=\"#000000\" stroke-opacity=\"1\" stroke-width=\"3.2\"/>\n",
       "<circle clip-path=\"url(#clip892)\" cx=\"1685.41\" cy=\"87.9763\" r=\"14.4\" fill=\"#009af9\" fill-rule=\"evenodd\" fill-opacity=\"1\" stroke=\"#000000\" stroke-opacity=\"1\" stroke-width=\"3.2\"/>\n",
       "<circle clip-path=\"url(#clip892)\" cx=\"1987.38\" cy=\"87.9763\" r=\"14.4\" fill=\"#009af9\" fill-rule=\"evenodd\" fill-opacity=\"1\" stroke=\"#000000\" stroke-opacity=\"1\" stroke-width=\"3.2\"/>\n",
       "<circle clip-path=\"url(#clip892)\" cx=\"2289.34\" cy=\"87.9763\" r=\"14.4\" fill=\"#009af9\" fill-rule=\"evenodd\" fill-opacity=\"1\" stroke=\"#000000\" stroke-opacity=\"1\" stroke-width=\"3.2\"/>\n",
       "<path clip-path=\"url(#clip890)\" d=\"M158.758 1420.69 L172.126 1420.69 L172.126 1374.55 L157.584 1377.46 L157.584 1370.01 L172.045 1367.09 L180.228 1367.09 L180.228 1420.69 L193.596 1420.69 L193.596 1427.57 L158.758 1427.57 L158.758 1420.69 Z\" fill=\"#000000\" fill-rule=\"nonzero\" fill-opacity=\"1\" /><path clip-path=\"url(#clip890)\" d=\"M468.197 1420.69 L496.756 1420.69 L496.756 1427.57 L458.353 1427.57 L458.353 1420.69 Q463.012 1415.86 471.033 1407.76 Q479.094 1399.62 481.16 1397.27 Q485.089 1392.86 486.629 1389.82 Q488.208 1386.74 488.208 1383.78 Q488.208 1378.96 484.806 1375.92 Q481.443 1372.88 476.015 1372.88 Q472.167 1372.88 467.873 1374.22 Q463.619 1375.56 458.758 1378.27 L458.758 1370.01 Q463.7 1368.02 467.994 1367.01 Q472.288 1366 475.853 1366 Q485.251 1366 490.842 1370.7 Q496.432 1375.4 496.432 1383.25 Q496.432 1386.98 495.014 1390.34 Q493.637 1393.67 489.95 1398.2 Q488.938 1399.38 483.509 1405.01 Q478.081 1410.6 468.197 1420.69 Z\" fill=\"#000000\" fill-rule=\"nonzero\" fill-opacity=\"1\" /><path clip-path=\"url(#clip890)\" d=\"M786.953 1394.96 Q792.827 1396.22 796.108 1400.19 Q799.43 1404.16 799.43 1409.99 Q799.43 1418.94 793.272 1423.84 Q787.115 1428.75 775.772 1428.75 Q771.964 1428.75 767.914 1427.98 Q763.903 1427.25 759.609 1425.75 L759.609 1417.85 Q763.012 1419.83 767.063 1420.85 Q771.114 1421.86 775.529 1421.86 Q783.226 1421.86 787.236 1418.82 Q791.287 1415.78 791.287 1409.99 Q791.287 1404.64 787.52 1401.65 Q783.793 1398.61 777.109 1398.61 L770.06 1398.61 L770.06 1391.88 L777.433 1391.88 Q783.469 1391.88 786.669 1389.49 Q789.869 1387.06 789.869 1382.53 Q789.869 1377.87 786.548 1375.4 Q783.266 1372.88 777.109 1372.88 Q773.747 1372.88 769.898 1373.61 Q766.05 1374.34 761.432 1375.88 L761.432 1368.59 Q766.091 1367.29 770.142 1366.65 Q774.233 1366 777.838 1366 Q787.155 1366 792.584 1370.25 Q798.012 1374.46 798.012 1381.67 Q798.012 1386.7 795.136 1390.18 Q792.259 1393.63 786.953 1394.96 Z\" fill=\"#000000\" fill-rule=\"nonzero\" fill-opacity=\"1\" /><path clip-path=\"url(#clip890)\" d=\"M1086.75 1374.22 L1066.09 1406.51 L1086.75 1406.51 L1086.75 1374.22 M1084.6 1367.09 L1094.89 1367.09 L1094.89 1406.51 L1103.52 1406.51 L1103.52 1413.31 L1094.89 1413.31 L1094.89 1427.57 L1086.75 1427.57 L1086.75 1413.31 L1059.45 1413.31 L1059.45 1405.41 L1084.6 1367.09 Z\" fill=\"#000000\" fill-rule=\"nonzero\" fill-opacity=\"1\" /><path clip-path=\"url(#clip890)\" d=\"M1366.44 1367.09 L1398.56 1367.09 L1398.56 1373.98 L1373.93 1373.98 L1373.93 1388.8 Q1375.71 1388.2 1377.49 1387.91 Q1379.28 1387.59 1381.06 1387.59 Q1391.19 1387.59 1397.1 1393.14 Q1403.01 1398.69 1403.01 1408.17 Q1403.01 1417.93 1396.94 1423.36 Q1390.86 1428.75 1379.8 1428.75 Q1376 1428.75 1372.03 1428.1 Q1368.1 1427.45 1363.88 1426.15 L1363.88 1417.93 Q1367.53 1419.92 1371.42 1420.89 Q1375.31 1421.86 1379.64 1421.86 Q1386.65 1421.86 1390.74 1418.17 Q1394.83 1414.49 1394.83 1408.17 Q1394.83 1401.85 1390.74 1398.16 Q1386.65 1394.48 1379.64 1394.48 Q1376.36 1394.48 1373.08 1395.2 Q1369.84 1395.93 1366.44 1397.47 L1366.44 1367.09 Z\" fill=\"#000000\" fill-rule=\"nonzero\" fill-opacity=\"1\" /><path clip-path=\"url(#clip890)\" d=\"M1686.12 1394.07 Q1680.61 1394.07 1677.37 1397.84 Q1674.17 1401.61 1674.17 1408.17 Q1674.17 1414.69 1677.37 1418.5 Q1680.61 1422.27 1686.12 1422.27 Q1691.63 1422.27 1694.83 1418.5 Q1698.07 1414.69 1698.07 1408.17 Q1698.07 1401.61 1694.83 1397.84 Q1691.63 1394.07 1686.12 1394.07 M1702.37 1368.43 L1702.37 1375.88 Q1699.29 1374.42 1696.13 1373.65 Q1693.01 1372.88 1689.93 1372.88 Q1681.83 1372.88 1677.53 1378.35 Q1673.28 1383.82 1672.67 1394.88 Q1675.06 1391.36 1678.67 1389.49 Q1682.27 1387.59 1686.61 1387.59 Q1695.72 1387.59 1700.99 1393.14 Q1706.3 1398.65 1706.3 1408.17 Q1706.3 1417.48 1700.79 1423.12 Q1695.28 1428.75 1686.12 1428.75 Q1675.63 1428.75 1670.08 1420.73 Q1664.53 1412.66 1664.53 1397.39 Q1664.53 1383.05 1671.34 1374.55 Q1678.14 1366 1689.61 1366 Q1692.69 1366 1695.8 1366.61 Q1698.96 1367.21 1702.37 1368.43 Z\" fill=\"#000000\" fill-rule=\"nonzero\" fill-opacity=\"1\" /><path clip-path=\"url(#clip890)\" d=\"M1967.93 1367.09 L2006.82 1367.09 L2006.82 1370.58 L1984.87 1427.57 L1976.32 1427.57 L1996.98 1373.98 L1967.93 1373.98 L1967.93 1367.09 Z\" fill=\"#000000\" fill-rule=\"nonzero\" fill-opacity=\"1\" /><path clip-path=\"url(#clip890)\" d=\"M2289.34 1398.85 Q2283.51 1398.85 2280.15 1401.97 Q2276.83 1405.09 2276.83 1410.56 Q2276.83 1416.03 2280.15 1419.15 Q2283.51 1422.27 2289.34 1422.27 Q2295.18 1422.27 2298.54 1419.15 Q2301.9 1415.99 2301.9 1410.56 Q2301.9 1405.09 2298.54 1401.97 Q2295.22 1398.85 2289.34 1398.85 M2281.16 1395.37 Q2275.89 1394.07 2272.94 1390.47 Q2270.02 1386.86 2270.02 1381.67 Q2270.02 1374.42 2275.17 1370.21 Q2280.35 1366 2289.34 1366 Q2298.38 1366 2303.52 1370.21 Q2308.67 1374.42 2308.67 1381.67 Q2308.67 1386.86 2305.71 1390.47 Q2302.79 1394.07 2297.57 1395.37 Q2303.48 1396.74 2306.76 1400.75 Q2310.08 1404.77 2310.08 1410.56 Q2310.08 1419.35 2304.7 1424.05 Q2299.35 1428.75 2289.34 1428.75 Q2279.34 1428.75 2273.95 1424.05 Q2268.6 1419.35 2268.6 1410.56 Q2268.6 1404.77 2271.92 1400.75 Q2275.25 1396.74 2281.16 1395.37 M2278.16 1382.44 Q2278.16 1387.14 2281.08 1389.78 Q2284.04 1392.41 2289.34 1392.41 Q2294.61 1392.41 2297.57 1389.78 Q2300.56 1387.14 2300.56 1382.44 Q2300.56 1377.75 2297.57 1375.11 Q2294.61 1372.48 2289.34 1372.48 Q2284.04 1372.48 2281.08 1375.11 Q2278.16 1377.75 2278.16 1382.44 Z\" fill=\"#000000\" fill-rule=\"nonzero\" fill-opacity=\"1\" /><path clip-path=\"url(#clip890)\" d=\"M158.616 1275.46 L158.616 1268 Q161.695 1269.46 164.855 1270.23 Q168.015 1271 171.053 1271 Q179.155 1271 183.408 1265.57 Q187.702 1260.1 188.31 1249 Q185.96 1252.49 182.355 1254.35 Q178.749 1256.21 174.375 1256.21 Q165.3 1256.21 159.994 1250.75 Q154.728 1245.24 154.728 1235.72 Q154.728 1226.4 160.237 1220.77 Q165.746 1215.14 174.901 1215.14 Q185.393 1215.14 190.902 1223.2 Q196.452 1231.22 196.452 1246.53 Q196.452 1260.83 189.646 1269.38 Q182.881 1277.89 171.417 1277.89 Q168.339 1277.89 165.179 1277.28 Q162.019 1276.67 158.616 1275.46 M174.901 1249.81 Q180.41 1249.81 183.611 1246.05 Q186.851 1242.28 186.851 1235.72 Q186.851 1229.19 183.611 1225.43 Q180.41 1221.62 174.901 1221.62 Q169.392 1221.62 166.151 1225.43 Q162.951 1229.19 162.951 1235.72 Q162.951 1242.28 166.151 1246.05 Q169.392 1249.81 174.901 1249.81 Z\" fill=\"#000000\" fill-rule=\"nonzero\" fill-opacity=\"1\" /><path clip-path=\"url(#clip890)\" d=\"M433.258 1269.83 L446.626 1269.83 L446.626 1223.69 L432.083 1226.6 L432.083 1219.15 L446.545 1216.23 L454.728 1216.23 L454.728 1269.83 L468.096 1269.83 L468.096 1276.71 L433.258 1276.71 L433.258 1269.83 Z\" fill=\"#000000\" fill-rule=\"nonzero\" fill-opacity=\"1\" /><path clip-path=\"url(#clip890)\" d=\"M502.123 1221.62 Q495.804 1221.62 492.604 1227.86 Q489.444 1234.06 489.444 1246.53 Q489.444 1258.97 492.604 1265.21 Q495.804 1271.41 502.123 1271.41 Q508.483 1271.41 511.643 1265.21 Q514.843 1258.97 514.843 1246.53 Q514.843 1234.06 511.643 1227.86 Q508.483 1221.62 502.123 1221.62 M502.123 1215.14 Q512.291 1215.14 517.638 1223.2 Q523.026 1231.22 523.026 1246.53 Q523.026 1261.8 517.638 1269.87 Q512.291 1277.89 502.123 1277.89 Q491.956 1277.89 486.568 1269.87 Q481.221 1261.8 481.221 1246.53 Q481.221 1231.22 486.568 1223.2 Q491.956 1215.14 502.123 1215.14 Z\" fill=\"#000000\" fill-rule=\"nonzero\" fill-opacity=\"1\" /><path clip-path=\"url(#clip890)\" d=\"M736.296 1269.83 L749.664 1269.83 L749.664 1223.69 L735.121 1226.6 L735.121 1219.15 L749.583 1216.23 L757.766 1216.23 L757.766 1269.83 L771.134 1269.83 L771.134 1276.71 L736.296 1276.71 L736.296 1269.83 Z\" fill=\"#000000\" fill-rule=\"nonzero\" fill-opacity=\"1\" /><path clip-path=\"url(#clip890)\" d=\"M789.079 1269.83 L802.447 1269.83 L802.447 1223.69 L787.905 1226.6 L787.905 1219.15 L802.366 1216.23 L810.549 1216.23 L810.549 1269.83 L823.917 1269.83 L823.917 1276.71 L789.079 1276.71 L789.079 1269.83 Z\" fill=\"#000000\" fill-rule=\"nonzero\" fill-opacity=\"1\" /><path clip-path=\"url(#clip890)\" d=\"M1038.59 1269.83 L1051.95 1269.83 L1051.95 1223.69 L1037.41 1226.6 L1037.41 1219.15 L1051.87 1216.23 L1060.05 1216.23 L1060.05 1269.83 L1073.42 1269.83 L1073.42 1276.71 L1038.59 1276.71 L1038.59 1269.83 Z\" fill=\"#000000\" fill-rule=\"nonzero\" fill-opacity=\"1\" /><path clip-path=\"url(#clip890)\" d=\"M1097 1269.83 L1125.56 1269.83 L1125.56 1276.71 L1087.16 1276.71 L1087.16 1269.83 Q1091.81 1265 1099.83 1256.9 Q1107.9 1248.76 1109.96 1246.41 Q1113.89 1242 1115.43 1238.96 Q1117.01 1235.88 1117.01 1232.92 Q1117.01 1228.1 1113.61 1225.06 Q1110.25 1222.02 1104.82 1222.02 Q1100.97 1222.02 1096.68 1223.36 Q1092.42 1224.7 1087.56 1227.41 L1087.56 1219.15 Q1092.5 1217.16 1096.8 1216.15 Q1101.09 1215.14 1104.66 1215.14 Q1114.05 1215.14 1119.64 1219.84 Q1125.23 1224.54 1125.23 1232.39 Q1125.23 1236.12 1123.82 1239.48 Q1122.44 1242.81 1118.75 1247.34 Q1117.74 1248.52 1112.31 1254.15 Q1106.88 1259.74 1097 1269.83 Z\" fill=\"#000000\" fill-rule=\"nonzero\" fill-opacity=\"1\" /><path clip-path=\"url(#clip890)\" d=\"M1339.72 1269.83 L1353.09 1269.83 L1353.09 1223.69 L1338.54 1226.6 L1338.54 1219.15 L1353.01 1216.23 L1361.19 1216.23 L1361.19 1269.83 L1374.56 1269.83 L1374.56 1276.71 L1339.72 1276.71 L1339.72 1269.83 Z\" fill=\"#000000\" fill-rule=\"nonzero\" fill-opacity=\"1\" /><path clip-path=\"url(#clip890)\" d=\"M1415.88 1244.1 Q1421.75 1245.36 1425.03 1249.33 Q1428.35 1253.3 1428.35 1259.13 Q1428.35 1268.08 1422.2 1272.98 Q1416.04 1277.89 1404.7 1277.89 Q1400.89 1277.89 1396.84 1277.12 Q1392.83 1276.39 1388.53 1274.89 L1388.53 1266.99 Q1391.94 1268.97 1395.99 1269.99 Q1400.04 1271 1404.45 1271 Q1412.15 1271 1416.16 1267.96 Q1420.21 1264.92 1420.21 1259.13 Q1420.21 1253.78 1416.44 1250.79 Q1412.72 1247.75 1406.03 1247.75 L1398.98 1247.75 L1398.98 1241.02 L1406.36 1241.02 Q1412.39 1241.02 1415.59 1238.63 Q1418.79 1236.2 1418.79 1231.67 Q1418.79 1227.01 1415.47 1224.54 Q1412.19 1222.02 1406.03 1222.02 Q1402.67 1222.02 1398.82 1222.75 Q1394.97 1223.48 1390.36 1225.02 L1390.36 1217.73 Q1395.01 1216.43 1399.07 1215.79 Q1403.16 1215.14 1406.76 1215.14 Q1416.08 1215.14 1421.51 1219.39 Q1426.94 1223.6 1426.94 1230.82 Q1426.94 1235.84 1424.06 1239.32 Q1421.18 1242.77 1415.88 1244.1 Z\" fill=\"#000000\" fill-rule=\"nonzero\" fill-opacity=\"1\" /><path clip-path=\"url(#clip890)\" d=\"M1640.69 1269.83 L1654.06 1269.83 L1654.06 1223.69 L1639.52 1226.6 L1639.52 1219.15 L1653.98 1216.23 L1662.16 1216.23 L1662.16 1269.83 L1675.53 1269.83 L1675.53 1276.71 L1640.69 1276.71 L1640.69 1269.83 Z\" fill=\"#000000\" fill-rule=\"nonzero\" fill-opacity=\"1\" /><path clip-path=\"url(#clip890)\" d=\"M1714.54 1223.36 L1693.88 1255.65 L1714.54 1255.65 L1714.54 1223.36 M1712.39 1216.23 L1722.68 1216.23 L1722.68 1255.65 L1731.31 1255.65 L1731.31 1262.45 L1722.68 1262.45 L1722.68 1276.71 L1714.54 1276.71 L1714.54 1262.45 L1687.24 1262.45 L1687.24 1254.55 L1712.39 1216.23 Z\" fill=\"#000000\" fill-rule=\"nonzero\" fill-opacity=\"1\" /><path clip-path=\"url(#clip890)\" d=\"M1943.95 1269.83 L1957.32 1269.83 L1957.32 1223.69 L1942.78 1226.6 L1942.78 1219.15 L1957.24 1216.23 L1965.42 1216.23 L1965.42 1269.83 L1978.79 1269.83 L1978.79 1276.71 L1943.95 1276.71 L1943.95 1269.83 Z\" fill=\"#000000\" fill-rule=\"nonzero\" fill-opacity=\"1\" /><path clip-path=\"url(#clip890)\" d=\"M1995.4 1216.23 L2027.52 1216.23 L2027.52 1223.12 L2002.89 1223.12 L2002.89 1237.94 Q2004.68 1237.34 2006.46 1237.05 Q2008.24 1236.73 2010.02 1236.73 Q2020.15 1236.73 2026.06 1242.28 Q2031.98 1247.83 2031.98 1257.31 Q2031.98 1267.07 2025.9 1272.5 Q2019.83 1277.89 2008.77 1277.89 Q2004.96 1277.89 2000.99 1277.24 Q1997.06 1276.59 1992.85 1275.29 L1992.85 1267.07 Q1996.49 1269.06 2000.38 1270.03 Q2004.27 1271 2008.61 1271 Q2015.61 1271 2019.7 1267.31 Q2023.8 1263.63 2023.8 1257.31 Q2023.8 1250.99 2019.7 1247.3 Q2015.61 1243.62 2008.61 1243.62 Q2005.32 1243.62 2002.04 1244.35 Q1998.8 1245.07 1995.4 1246.61 L1995.4 1216.23 Z\" fill=\"#000000\" fill-rule=\"nonzero\" fill-opacity=\"1\" /><path clip-path=\"url(#clip890)\" d=\"M2244.9 1269.83 L2258.27 1269.83 L2258.27 1223.69 L2243.73 1226.6 L2243.73 1219.15 L2258.19 1216.23 L2266.37 1216.23 L2266.37 1269.83 L2279.74 1269.83 L2279.74 1276.71 L2244.9 1276.71 L2244.9 1269.83 Z\" fill=\"#000000\" fill-rule=\"nonzero\" fill-opacity=\"1\" /><path clip-path=\"url(#clip890)\" d=\"M2314.78 1243.21 Q2309.27 1243.21 2306.03 1246.98 Q2302.83 1250.75 2302.83 1257.31 Q2302.83 1263.83 2306.03 1267.64 Q2309.27 1271.41 2314.78 1271.41 Q2320.29 1271.41 2323.49 1267.64 Q2326.73 1263.83 2326.73 1257.31 Q2326.73 1250.75 2323.49 1246.98 Q2320.29 1243.21 2314.78 1243.21 M2331.03 1217.57 L2331.03 1225.02 Q2327.95 1223.56 2324.79 1222.79 Q2321.67 1222.02 2318.59 1222.02 Q2310.49 1222.02 2306.2 1227.49 Q2301.94 1232.96 2301.33 1244.02 Q2303.72 1240.5 2307.33 1238.63 Q2310.93 1236.73 2315.27 1236.73 Q2324.38 1236.73 2329.65 1242.28 Q2334.96 1247.79 2334.96 1257.31 Q2334.96 1266.63 2329.45 1272.26 Q2323.94 1277.89 2314.78 1277.89 Q2304.29 1277.89 2298.74 1269.87 Q2293.19 1261.8 2293.19 1246.53 Q2293.19 1232.19 2300 1223.69 Q2306.8 1215.14 2318.27 1215.14 Q2321.35 1215.14 2324.46 1215.75 Q2327.62 1216.35 2331.03 1217.57 Z\" fill=\"#000000\" fill-rule=\"nonzero\" fill-opacity=\"1\" /><path clip-path=\"url(#clip890)\" d=\"M132.083 1118.97 L145.451 1118.97 L145.451 1072.83 L130.908 1075.74 L130.908 1068.29 L145.37 1065.37 L153.553 1065.37 L153.553 1118.97 L166.921 1118.97 L166.921 1125.85 L132.083 1125.85 L132.083 1118.97 Z\" fill=\"#000000\" fill-rule=\"nonzero\" fill-opacity=\"1\" /><path clip-path=\"url(#clip890)\" d=\"M181.383 1065.37 L220.271 1065.37 L220.271 1068.86 L198.315 1125.85 L189.768 1125.85 L210.428 1072.26 L181.383 1072.26 L181.383 1065.37 Z\" fill=\"#000000\" fill-rule=\"nonzero\" fill-opacity=\"1\" /><path clip-path=\"url(#clip890)\" d=\"M433.339 1118.97 L446.707 1118.97 L446.707 1072.83 L432.164 1075.74 L432.164 1068.29 L446.626 1065.37 L454.809 1065.37 L454.809 1118.97 L468.177 1118.97 L468.177 1125.85 L433.339 1125.85 L433.339 1118.97 Z\" fill=\"#000000\" fill-rule=\"nonzero\" fill-opacity=\"1\" /><path clip-path=\"url(#clip890)\" d=\"M502.204 1097.13 Q496.371 1097.13 493.009 1100.25 Q489.687 1103.37 489.687 1108.84 Q489.687 1114.31 493.009 1117.43 Q496.371 1120.55 502.204 1120.55 Q508.038 1120.55 511.4 1117.43 Q514.762 1114.27 514.762 1108.84 Q514.762 1103.37 511.4 1100.25 Q508.078 1097.13 502.204 1097.13 M494.021 1093.65 Q488.755 1092.35 485.798 1088.75 Q482.882 1085.14 482.882 1079.96 Q482.882 1072.7 488.026 1068.49 Q493.211 1064.28 502.204 1064.28 Q511.238 1064.28 516.382 1068.49 Q521.527 1072.7 521.527 1079.96 Q521.527 1085.14 518.57 1088.75 Q515.653 1092.35 510.428 1093.65 Q516.342 1095.02 519.623 1099.03 Q522.945 1103.05 522.945 1108.84 Q522.945 1117.63 517.557 1122.33 Q512.21 1127.03 502.204 1127.03 Q492.199 1127.03 486.811 1122.33 Q481.464 1117.63 481.464 1108.84 Q481.464 1103.05 484.785 1099.03 Q488.107 1095.02 494.021 1093.65 M491.024 1080.72 Q491.024 1085.42 493.94 1088.06 Q496.898 1090.69 502.204 1090.69 Q507.47 1090.69 510.428 1088.06 Q513.425 1085.42 513.425 1080.72 Q513.425 1076.03 510.428 1073.39 Q507.47 1070.76 502.204 1070.76 Q496.898 1070.76 493.94 1073.39 Q491.024 1076.03 491.024 1080.72 Z\" fill=\"#000000\" fill-rule=\"nonzero\" fill-opacity=\"1\" /><path clip-path=\"url(#clip890)\" d=\"M735.385 1118.97 L748.753 1118.97 L748.753 1072.83 L734.21 1075.74 L734.21 1068.29 L748.672 1065.37 L756.855 1065.37 L756.855 1118.97 L770.223 1118.97 L770.223 1125.85 L735.385 1125.85 L735.385 1118.97 Z\" fill=\"#000000\" fill-rule=\"nonzero\" fill-opacity=\"1\" /><path clip-path=\"url(#clip890)\" d=\"M786.993 1124.6 L786.993 1117.14 Q790.072 1118.6 793.232 1119.37 Q796.391 1120.14 799.43 1120.14 Q807.531 1120.14 811.785 1114.71 Q816.079 1109.24 816.686 1098.14 Q814.337 1101.63 810.732 1103.49 Q807.126 1105.35 802.751 1105.35 Q793.677 1105.35 788.371 1099.89 Q783.104 1094.38 783.104 1084.86 Q783.104 1075.54 788.614 1069.91 Q794.123 1064.28 803.278 1064.28 Q813.77 1064.28 819.279 1072.34 Q824.829 1080.36 824.829 1095.67 Q824.829 1109.97 818.023 1118.52 Q811.258 1127.03 799.794 1127.03 Q796.715 1127.03 793.556 1126.42 Q790.396 1125.81 786.993 1124.6 M803.278 1098.95 Q808.787 1098.95 811.987 1095.19 Q815.228 1091.42 815.228 1084.86 Q815.228 1078.33 811.987 1074.57 Q808.787 1070.76 803.278 1070.76 Q797.769 1070.76 794.528 1074.57 Q791.328 1078.33 791.328 1084.86 Q791.328 1091.42 794.528 1095.19 Q797.769 1098.95 803.278 1098.95 Z\" fill=\"#000000\" fill-rule=\"nonzero\" fill-opacity=\"1\" /><path clip-path=\"url(#clip890)\" d=\"M1044.34 1118.97 L1072.9 1118.97 L1072.9 1125.85 L1034.49 1125.85 L1034.49 1118.97 Q1039.15 1114.14 1047.17 1106.04 Q1055.23 1097.9 1057.3 1095.55 Q1061.23 1091.14 1062.77 1088.1 Q1064.35 1085.02 1064.35 1082.06 Q1064.35 1077.24 1060.95 1074.2 Q1057.58 1071.16 1052.16 1071.16 Q1048.31 1071.16 1044.01 1072.5 Q1039.76 1073.84 1034.9 1076.55 L1034.9 1068.29 Q1039.84 1066.3 1044.13 1065.29 Q1048.43 1064.28 1051.99 1064.28 Q1061.39 1064.28 1066.98 1068.98 Q1072.57 1073.68 1072.57 1081.53 Q1072.57 1085.26 1071.15 1088.62 Q1069.78 1091.95 1066.09 1096.48 Q1065.08 1097.66 1059.65 1103.29 Q1054.22 1108.88 1044.34 1118.97 Z\" fill=\"#000000\" fill-rule=\"nonzero\" fill-opacity=\"1\" /><path clip-path=\"url(#clip890)\" d=\"M1107.57 1070.76 Q1101.25 1070.76 1098.05 1077 Q1094.89 1083.2 1094.89 1095.67 Q1094.89 1108.11 1098.05 1114.35 Q1101.25 1120.55 1107.57 1120.55 Q1113.93 1120.55 1117.09 1114.35 Q1120.29 1108.11 1120.29 1095.67 Q1120.29 1083.2 1117.09 1077 Q1113.93 1070.76 1107.57 1070.76 M1107.57 1064.28 Q1117.74 1064.28 1123.09 1072.34 Q1128.47 1080.36 1128.47 1095.67 Q1128.47 1110.94 1123.09 1119.01 Q1117.74 1127.03 1107.57 1127.03 Q1097.4 1127.03 1092.02 1119.01 Q1086.67 1110.94 1086.67 1095.67 Q1086.67 1080.36 1092.02 1072.34 Q1097.4 1064.28 1107.57 1064.28 Z\" fill=\"#000000\" fill-rule=\"nonzero\" fill-opacity=\"1\" /><path clip-path=\"url(#clip890)\" d=\"M1347.38 1118.97 L1375.93 1118.97 L1375.93 1125.85 L1337.53 1125.85 L1337.53 1118.97 Q1342.19 1114.14 1350.21 1106.04 Q1358.27 1097.9 1360.34 1095.55 Q1364.27 1091.14 1365.81 1088.1 Q1367.39 1085.02 1367.39 1082.06 Q1367.39 1077.24 1363.98 1074.2 Q1360.62 1071.16 1355.19 1071.16 Q1351.35 1071.16 1347.05 1072.5 Q1342.8 1073.84 1337.94 1076.55 L1337.94 1068.29 Q1342.88 1066.3 1347.17 1065.29 Q1351.47 1064.28 1355.03 1064.28 Q1364.43 1064.28 1370.02 1068.98 Q1375.61 1073.68 1375.61 1081.53 Q1375.61 1085.26 1374.19 1088.62 Q1372.82 1091.95 1369.13 1096.48 Q1368.12 1097.66 1362.69 1103.29 Q1357.26 1108.88 1347.38 1118.97 Z\" fill=\"#000000\" fill-rule=\"nonzero\" fill-opacity=\"1\" /><path clip-path=\"url(#clip890)\" d=\"M1394.53 1118.97 L1407.9 1118.97 L1407.9 1072.83 L1393.35 1075.74 L1393.35 1068.29 L1407.82 1065.37 L1416 1065.37 L1416 1118.97 L1429.37 1118.97 L1429.37 1125.85 L1394.53 1125.85 L1394.53 1118.97 Z\" fill=\"#000000\" fill-rule=\"nonzero\" fill-opacity=\"1\" /><path clip-path=\"url(#clip890)\" d=\"M1649.66 1118.97 L1678.22 1118.97 L1678.22 1125.85 L1639.82 1125.85 L1639.82 1118.97 Q1644.48 1114.14 1652.5 1106.04 Q1660.56 1097.9 1662.63 1095.55 Q1666.56 1091.14 1668.1 1088.1 Q1669.68 1085.02 1669.68 1082.06 Q1669.68 1077.24 1666.27 1074.2 Q1662.91 1071.16 1657.48 1071.16 Q1653.63 1071.16 1649.34 1072.5 Q1645.09 1073.84 1640.23 1076.55 L1640.23 1068.29 Q1645.17 1066.3 1649.46 1065.29 Q1653.76 1064.28 1657.32 1064.28 Q1666.72 1064.28 1672.31 1068.98 Q1677.9 1073.68 1677.9 1081.53 Q1677.9 1085.26 1676.48 1088.62 Q1675.1 1091.95 1671.42 1096.48 Q1670.41 1097.66 1664.98 1103.29 Q1659.55 1108.88 1649.66 1118.97 Z\" fill=\"#000000\" fill-rule=\"nonzero\" fill-opacity=\"1\" /><path clip-path=\"url(#clip890)\" d=\"M1702.45 1118.97 L1731.01 1118.97 L1731.01 1125.85 L1692.6 1125.85 L1692.6 1118.97 Q1697.26 1114.14 1705.28 1106.04 Q1713.34 1097.9 1715.41 1095.55 Q1719.34 1091.14 1720.88 1088.1 Q1722.46 1085.02 1722.46 1082.06 Q1722.46 1077.24 1719.06 1074.2 Q1715.69 1071.16 1710.27 1071.16 Q1706.42 1071.16 1702.12 1072.5 Q1697.87 1073.84 1693.01 1076.55 L1693.01 1068.29 Q1697.95 1066.3 1702.25 1065.29 Q1706.54 1064.28 1710.1 1064.28 Q1719.5 1064.28 1725.09 1068.98 Q1730.68 1073.68 1730.68 1081.53 Q1730.68 1085.26 1729.26 1088.62 Q1727.89 1091.95 1724.2 1096.48 Q1723.19 1097.66 1717.76 1103.29 Q1712.33 1108.88 1702.45 1118.97 Z\" fill=\"#000000\" fill-rule=\"nonzero\" fill-opacity=\"1\" /><path clip-path=\"url(#clip890)\" d=\"M1950.8 1118.97 L1979.36 1118.97 L1979.36 1125.85 L1940.96 1125.85 L1940.96 1118.97 Q1945.61 1114.14 1953.63 1106.04 Q1961.7 1097.9 1963.76 1095.55 Q1967.69 1091.14 1969.23 1088.1 Q1970.81 1085.02 1970.81 1082.06 Q1970.81 1077.24 1967.41 1074.2 Q1964.05 1071.16 1958.62 1071.16 Q1954.77 1071.16 1950.47 1072.5 Q1946.22 1073.84 1941.36 1076.55 L1941.36 1068.29 Q1946.3 1066.3 1950.6 1065.29 Q1954.89 1064.28 1958.46 1064.28 Q1967.85 1064.28 1973.44 1068.98 Q1979.03 1073.68 1979.03 1081.53 Q1979.03 1085.26 1977.62 1088.62 Q1976.24 1091.95 1972.55 1096.48 Q1971.54 1097.66 1966.11 1103.29 Q1960.68 1108.88 1950.8 1118.97 Z\" fill=\"#000000\" fill-rule=\"nonzero\" fill-opacity=\"1\" /><path clip-path=\"url(#clip890)\" d=\"M2021.33 1093.24 Q2027.2 1094.5 2030.48 1098.47 Q2033.8 1102.44 2033.8 1108.27 Q2033.8 1117.22 2027.64 1122.12 Q2021.49 1127.03 2010.14 1127.03 Q2006.34 1127.03 2002.29 1126.26 Q1998.28 1125.53 1993.98 1124.03 L1993.98 1116.13 Q1997.38 1118.11 2001.44 1119.13 Q2005.49 1120.14 2009.9 1120.14 Q2017.6 1120.14 2021.61 1117.1 Q2025.66 1114.06 2025.66 1108.27 Q2025.66 1102.92 2021.89 1099.93 Q2018.17 1096.89 2011.48 1096.89 L2004.43 1096.89 L2004.43 1090.16 L2011.81 1090.16 Q2017.84 1090.16 2021.04 1087.77 Q2024.24 1085.34 2024.24 1080.81 Q2024.24 1076.15 2020.92 1073.68 Q2017.64 1071.16 2011.48 1071.16 Q2008.12 1071.16 2004.27 1071.89 Q2000.42 1072.62 1995.8 1074.16 L1995.8 1066.87 Q2000.46 1065.57 2004.51 1064.93 Q2008.61 1064.28 2012.21 1064.28 Q2021.53 1064.28 2026.96 1068.53 Q2032.38 1072.74 2032.38 1079.96 Q2032.38 1084.98 2029.51 1088.46 Q2026.63 1091.91 2021.33 1093.24 Z\" fill=\"#000000\" fill-rule=\"nonzero\" fill-opacity=\"1\" /><path clip-path=\"url(#clip890)\" d=\"M2251.77 1118.97 L2280.33 1118.97 L2280.33 1125.85 L2241.93 1125.85 L2241.93 1118.97 Q2246.59 1114.14 2254.61 1106.04 Q2262.67 1097.9 2264.73 1095.55 Q2268.66 1091.14 2270.2 1088.1 Q2271.78 1085.02 2271.78 1082.06 Q2271.78 1077.24 2268.38 1074.2 Q2265.02 1071.16 2259.59 1071.16 Q2255.74 1071.16 2251.45 1072.5 Q2247.19 1073.84 2242.33 1076.55 L2242.33 1068.29 Q2247.27 1066.3 2251.57 1065.29 Q2255.86 1064.28 2259.43 1064.28 Q2268.83 1064.28 2274.42 1068.98 Q2280.01 1073.68 2280.01 1081.53 Q2280.01 1085.26 2278.59 1088.62 Q2277.21 1091.95 2273.52 1096.48 Q2272.51 1097.66 2267.08 1103.29 Q2261.66 1108.88 2251.77 1118.97 Z\" fill=\"#000000\" fill-rule=\"nonzero\" fill-opacity=\"1\" /><path clip-path=\"url(#clip890)\" d=\"M2319.99 1072.5 L2299.33 1104.79 L2319.99 1104.79 L2319.99 1072.5 M2317.84 1065.37 L2328.13 1065.37 L2328.13 1104.79 L2336.76 1104.79 L2336.76 1111.59 L2328.13 1111.59 L2328.13 1125.85 L2319.99 1125.85 L2319.99 1111.59 L2292.69 1111.59 L2292.69 1103.69 L2317.84 1065.37 Z\" fill=\"#000000\" fill-rule=\"nonzero\" fill-opacity=\"1\" /><path clip-path=\"url(#clip890)\" d=\"M139.314 968.105 L167.873 968.105 L167.873 974.992 L129.47 974.992 L129.47 968.105 Q134.129 963.285 142.15 955.183 Q150.211 947.041 152.277 944.691 Q156.206 940.276 157.746 937.237 Q159.325 934.159 159.325 931.202 Q159.325 926.381 155.923 923.343 Q152.56 920.305 147.132 920.305 Q143.284 920.305 138.99 921.641 Q134.736 922.978 129.875 925.692 L129.875 917.429 Q134.817 915.444 139.111 914.431 Q143.405 913.418 146.97 913.418 Q156.368 913.418 161.958 918.117 Q167.549 922.816 167.549 930.675 Q167.549 934.402 166.131 937.764 Q164.754 941.086 161.067 945.623 Q160.055 946.798 154.626 952.428 Q149.198 958.019 139.314 968.105 Z\" fill=\"#000000\" fill-rule=\"nonzero\" fill-opacity=\"1\" /><path clip-path=\"url(#clip890)\" d=\"M185.13 914.512 L217.253 914.512 L217.253 921.398 L192.624 921.398 L192.624 936.225 Q194.406 935.617 196.189 935.334 Q197.971 935.009 199.753 935.009 Q209.881 935.009 215.795 940.559 Q221.709 946.109 221.709 955.588 Q221.709 965.351 215.633 970.779 Q209.557 976.167 198.498 976.167 Q194.69 976.167 190.72 975.519 Q186.791 974.87 182.578 973.574 L182.578 965.351 Q186.223 967.336 190.112 968.308 Q194.001 969.28 198.336 969.28 Q205.344 969.28 209.435 965.594 Q213.526 961.907 213.526 955.588 Q213.526 949.269 209.435 945.582 Q205.344 941.896 198.336 941.896 Q195.054 941.896 191.773 942.625 Q188.532 943.354 185.13 944.894 L185.13 914.512 Z\" fill=\"#000000\" fill-rule=\"nonzero\" fill-opacity=\"1\" /><path clip-path=\"url(#clip890)\" d=\"M440.266 968.105 L468.825 968.105 L468.825 974.992 L430.422 974.992 L430.422 968.105 Q435.081 963.285 443.102 955.183 Q451.163 947.041 453.229 944.691 Q457.158 940.276 458.698 937.237 Q460.277 934.159 460.277 931.202 Q460.277 926.381 456.875 923.343 Q453.512 920.305 448.084 920.305 Q444.236 920.305 439.942 921.641 Q435.688 922.978 430.827 925.692 L430.827 917.429 Q435.769 915.444 440.063 914.431 Q444.357 913.418 447.922 913.418 Q457.32 913.418 462.911 918.117 Q468.501 922.816 468.501 930.675 Q468.501 934.402 467.083 937.764 Q465.706 941.086 462.019 945.623 Q461.007 946.798 455.578 952.428 Q450.15 958.019 440.266 968.105 Z\" fill=\"#000000\" fill-rule=\"nonzero\" fill-opacity=\"1\" /><path clip-path=\"url(#clip890)\" d=\"M504.513 941.491 Q499.004 941.491 495.763 945.258 Q492.563 949.026 492.563 955.588 Q492.563 962.11 495.763 965.918 Q499.004 969.685 504.513 969.685 Q510.023 969.685 513.223 965.918 Q516.464 962.11 516.464 955.588 Q516.464 949.026 513.223 945.258 Q510.023 941.491 504.513 941.491 M520.757 915.849 L520.757 923.302 Q517.679 921.844 514.519 921.074 Q511.4 920.305 508.321 920.305 Q500.219 920.305 495.925 925.773 Q491.672 931.242 491.064 942.301 Q493.454 938.777 497.06 936.913 Q500.665 935.009 504.999 935.009 Q514.114 935.009 519.38 940.559 Q524.687 946.068 524.687 955.588 Q524.687 964.905 519.178 970.536 Q513.668 976.167 504.513 976.167 Q494.021 976.167 488.472 968.146 Q482.922 960.085 482.922 944.813 Q482.922 930.472 489.728 921.966 Q496.533 913.418 507.997 913.418 Q511.076 913.418 514.195 914.026 Q517.355 914.633 520.757 915.849 Z\" fill=\"#000000\" fill-rule=\"nonzero\" fill-opacity=\"1\" /><path clip-path=\"url(#clip890)\" d=\"M743.162 968.105 L771.721 968.105 L771.721 974.992 L733.319 974.992 L733.319 968.105 Q737.977 963.285 745.998 955.183 Q754.059 947.041 756.125 944.691 Q760.055 940.276 761.594 937.237 Q763.174 934.159 763.174 931.202 Q763.174 926.381 759.771 923.343 Q756.409 920.305 750.981 920.305 Q747.132 920.305 742.838 921.641 Q738.585 922.978 733.724 925.692 L733.724 917.429 Q738.666 915.444 742.96 914.431 Q747.254 913.418 750.819 913.418 Q760.217 913.418 765.807 918.117 Q771.397 922.816 771.397 930.675 Q771.397 934.402 769.979 937.764 Q768.602 941.086 764.916 945.623 Q763.903 946.798 758.475 952.428 Q753.047 958.019 743.162 968.105 Z\" fill=\"#000000\" fill-rule=\"nonzero\" fill-opacity=\"1\" /><path clip-path=\"url(#clip890)\" d=\"M786.831 914.512 L825.72 914.512 L825.72 917.996 L803.764 974.992 L795.217 974.992 L815.876 921.398 L786.831 921.398 L786.831 914.512 Z\" fill=\"#000000\" fill-rule=\"nonzero\" fill-opacity=\"1\" /><path clip-path=\"url(#clip890)\" d=\"M1044.42 968.105 L1072.98 968.105 L1072.98 974.992 L1034.57 974.992 L1034.57 968.105 Q1039.23 963.285 1047.25 955.183 Q1055.32 947.041 1057.38 944.691 Q1061.31 940.276 1062.85 937.237 Q1064.43 934.159 1064.43 931.202 Q1064.43 926.381 1061.03 923.343 Q1057.66 920.305 1052.24 920.305 Q1048.39 920.305 1044.09 921.641 Q1039.84 922.978 1034.98 925.692 L1034.98 917.429 Q1039.92 915.444 1044.22 914.431 Q1048.51 913.418 1052.07 913.418 Q1061.47 913.418 1067.06 918.117 Q1072.65 922.816 1072.65 930.675 Q1072.65 934.402 1071.24 937.764 Q1069.86 941.086 1066.17 945.623 Q1065.16 946.798 1059.73 952.428 Q1054.3 958.019 1044.42 968.105 Z\" fill=\"#000000\" fill-rule=\"nonzero\" fill-opacity=\"1\" /><path clip-path=\"url(#clip890)\" d=\"M1107.65 946.271 Q1101.82 946.271 1098.46 949.39 Q1095.14 952.509 1095.14 957.978 Q1095.14 963.447 1098.46 966.566 Q1101.82 969.685 1107.65 969.685 Q1113.49 969.685 1116.85 966.566 Q1120.21 963.406 1120.21 957.978 Q1120.21 952.509 1116.85 949.39 Q1113.53 946.271 1107.65 946.271 M1099.47 942.787 Q1094.2 941.491 1091.25 937.886 Q1088.33 934.28 1088.33 929.095 Q1088.33 921.844 1093.47 917.631 Q1098.66 913.418 1107.65 913.418 Q1116.69 913.418 1121.83 917.631 Q1126.98 921.844 1126.98 929.095 Q1126.98 934.28 1124.02 937.886 Q1121.1 941.491 1115.88 942.787 Q1121.79 944.165 1125.07 948.175 Q1128.39 952.185 1128.39 957.978 Q1128.39 966.769 1123.01 971.468 Q1117.66 976.167 1107.65 976.167 Q1097.65 976.167 1092.26 971.468 Q1086.91 966.769 1086.91 957.978 Q1086.91 952.185 1090.23 948.175 Q1093.56 944.165 1099.47 942.787 M1096.47 929.865 Q1096.47 934.564 1099.39 937.197 Q1102.35 939.83 1107.65 939.83 Q1112.92 939.83 1115.88 937.197 Q1118.87 934.564 1118.87 929.865 Q1118.87 925.166 1115.88 922.533 Q1112.92 919.9 1107.65 919.9 Q1102.35 919.9 1099.39 922.533 Q1096.47 925.166 1096.47 929.865 Z\" fill=\"#000000\" fill-rule=\"nonzero\" fill-opacity=\"1\" /><path clip-path=\"url(#clip890)\" d=\"M1346.46 968.105 L1375.02 968.105 L1375.02 974.992 L1336.62 974.992 L1336.62 968.105 Q1341.28 963.285 1349.3 955.183 Q1357.36 947.041 1359.43 944.691 Q1363.36 940.276 1364.9 937.237 Q1366.48 934.159 1366.48 931.202 Q1366.48 926.381 1363.07 923.343 Q1359.71 920.305 1354.28 920.305 Q1350.43 920.305 1346.14 921.641 Q1341.89 922.978 1337.03 925.692 L1337.03 917.429 Q1341.97 915.444 1346.26 914.431 Q1350.56 913.418 1354.12 913.418 Q1363.52 913.418 1369.11 918.117 Q1374.7 922.816 1374.7 930.675 Q1374.7 934.402 1373.28 937.764 Q1371.9 941.086 1368.22 945.623 Q1367.2 946.798 1361.78 952.428 Q1356.35 958.019 1346.46 968.105 Z\" fill=\"#000000\" fill-rule=\"nonzero\" fill-opacity=\"1\" /><path clip-path=\"url(#clip890)\" d=\"M1392.44 973.736 L1392.44 966.282 Q1395.52 967.741 1398.68 968.51 Q1401.84 969.28 1404.88 969.28 Q1412.98 969.28 1417.23 963.852 Q1421.53 958.383 1422.14 947.284 Q1419.79 950.767 1416.18 952.631 Q1412.57 954.494 1408.2 954.494 Q1399.13 954.494 1393.82 949.026 Q1388.55 943.516 1388.55 933.997 Q1388.55 924.68 1394.06 919.049 Q1399.57 913.418 1408.73 913.418 Q1419.22 913.418 1424.73 921.479 Q1430.28 929.5 1430.28 944.813 Q1430.28 959.112 1423.47 967.66 Q1416.71 976.167 1405.24 976.167 Q1402.16 976.167 1399 975.559 Q1395.84 974.951 1392.44 973.736 M1408.73 948.094 Q1414.24 948.094 1417.44 944.327 Q1420.68 940.559 1420.68 933.997 Q1420.68 927.475 1417.44 923.707 Q1414.24 919.9 1408.73 919.9 Q1403.22 919.9 1399.98 923.707 Q1396.78 927.475 1396.78 933.997 Q1396.78 940.559 1399.98 944.327 Q1403.22 948.094 1408.73 948.094 Z\" fill=\"#000000\" fill-rule=\"nonzero\" fill-opacity=\"1\" /><path clip-path=\"url(#clip890)\" d=\"M1665.89 942.382 Q1671.76 943.638 1675.04 947.608 Q1678.37 951.578 1678.37 957.411 Q1678.37 966.363 1672.21 971.265 Q1666.05 976.167 1654.71 976.167 Q1650.9 976.167 1646.85 975.397 Q1642.84 974.668 1638.54 973.169 L1638.54 965.27 Q1641.95 967.255 1646 968.267 Q1650.05 969.28 1654.46 969.28 Q1662.16 969.28 1666.17 966.242 Q1670.22 963.204 1670.22 957.411 Q1670.22 952.064 1666.46 949.066 Q1662.73 946.028 1656.04 946.028 L1649 946.028 L1649 939.303 L1656.37 939.303 Q1662.4 939.303 1665.6 936.913 Q1668.81 934.483 1668.81 929.946 Q1668.81 925.287 1665.48 922.816 Q1662.2 920.305 1656.04 920.305 Q1652.68 920.305 1648.83 921.034 Q1644.99 921.763 1640.37 923.302 L1640.37 916.011 Q1645.03 914.714 1649.08 914.066 Q1653.17 913.418 1656.77 913.418 Q1666.09 913.418 1671.52 917.672 Q1676.95 921.885 1676.95 929.095 Q1676.95 934.118 1674.07 937.602 Q1671.2 941.045 1665.89 942.382 Z\" fill=\"#000000\" fill-rule=\"nonzero\" fill-opacity=\"1\" /><path clip-path=\"url(#clip890)\" d=\"M1711.38 919.9 Q1705.06 919.9 1701.86 926.138 Q1698.7 932.336 1698.7 944.813 Q1698.7 957.249 1701.86 963.487 Q1705.06 969.685 1711.38 969.685 Q1717.74 969.685 1720.9 963.487 Q1724.1 957.249 1724.1 944.813 Q1724.1 932.336 1720.9 926.138 Q1717.74 919.9 1711.38 919.9 M1711.38 913.418 Q1721.55 913.418 1726.89 921.479 Q1732.28 929.5 1732.28 944.813 Q1732.28 960.085 1726.89 968.146 Q1721.55 976.167 1711.38 976.167 Q1701.21 976.167 1695.82 968.146 Q1690.48 960.085 1690.48 944.813 Q1690.48 929.5 1695.82 921.479 Q1701.21 913.418 1711.38 913.418 Z\" fill=\"#000000\" fill-rule=\"nonzero\" fill-opacity=\"1\" /><path clip-path=\"url(#clip890)\" d=\"M1968.93 942.382 Q1974.8 943.638 1978.08 947.608 Q1981.4 951.578 1981.4 957.411 Q1981.4 966.363 1975.25 971.265 Q1969.09 976.167 1957.75 976.167 Q1953.94 976.167 1949.89 975.397 Q1945.88 974.668 1941.58 973.169 L1941.58 965.27 Q1944.99 967.255 1949.04 968.267 Q1953.09 969.28 1957.5 969.28 Q1965.2 969.28 1969.21 966.242 Q1973.26 963.204 1973.26 957.411 Q1973.26 952.064 1969.49 949.066 Q1965.77 946.028 1959.08 946.028 L1952.03 946.028 L1952.03 939.303 L1959.41 939.303 Q1965.44 939.303 1968.64 936.913 Q1971.84 934.483 1971.84 929.946 Q1971.84 925.287 1968.52 922.816 Q1965.24 920.305 1959.08 920.305 Q1955.72 920.305 1951.87 921.034 Q1948.02 921.763 1943.41 923.302 L1943.41 916.011 Q1948.06 914.714 1952.12 914.066 Q1956.21 913.418 1959.81 913.418 Q1969.13 913.418 1974.56 917.672 Q1979.99 921.885 1979.99 929.095 Q1979.99 934.118 1977.11 937.602 Q1974.23 941.045 1968.93 942.382 Z\" fill=\"#000000\" fill-rule=\"nonzero\" fill-opacity=\"1\" /><path clip-path=\"url(#clip890)\" d=\"M1998.34 968.105 L2011.7 968.105 L2011.7 921.966 L1997.16 924.882 L1997.16 917.429 L2011.62 914.512 L2019.81 914.512 L2019.81 968.105 L2033.17 968.105 L2033.17 974.992 L1998.34 974.992 L1998.34 968.105 Z\" fill=\"#000000\" fill-rule=\"nonzero\" fill-opacity=\"1\" /><path clip-path=\"url(#clip890)\" d=\"M2271.22 942.382 Q2277.09 943.638 2280.37 947.608 Q2283.69 951.578 2283.69 957.411 Q2283.69 966.363 2277.53 971.265 Q2271.38 976.167 2260.04 976.167 Q2256.23 976.167 2252.18 975.397 Q2248.17 974.668 2243.87 973.169 L2243.87 965.27 Q2247.27 967.255 2251.33 968.267 Q2255.38 969.28 2259.79 969.28 Q2267.49 969.28 2271.5 966.242 Q2275.55 963.204 2275.55 957.411 Q2275.55 952.064 2271.78 949.066 Q2268.06 946.028 2261.37 946.028 L2254.32 946.028 L2254.32 939.303 L2261.7 939.303 Q2267.73 939.303 2270.93 936.913 Q2274.13 934.483 2274.13 929.946 Q2274.13 925.287 2270.81 922.816 Q2267.53 920.305 2261.37 920.305 Q2258.01 920.305 2254.16 921.034 Q2250.31 921.763 2245.69 923.302 L2245.69 916.011 Q2250.35 914.714 2254.4 914.066 Q2258.5 913.418 2262.1 913.418 Q2271.42 913.418 2276.85 917.672 Q2282.27 921.885 2282.27 929.095 Q2282.27 934.118 2279.4 937.602 Q2276.52 941.045 2271.22 942.382 Z\" fill=\"#000000\" fill-rule=\"nonzero\" fill-opacity=\"1\" /><path clip-path=\"url(#clip890)\" d=\"M2306.26 968.105 L2334.81 968.105 L2334.81 974.992 L2296.41 974.992 L2296.41 968.105 Q2301.07 963.285 2309.09 955.183 Q2317.15 947.041 2319.22 944.691 Q2323.15 940.276 2324.69 937.237 Q2326.27 934.159 2326.27 931.202 Q2326.27 926.381 2322.86 923.343 Q2319.5 920.305 2314.07 920.305 Q2310.23 920.305 2305.93 921.641 Q2301.68 922.978 2296.82 925.692 L2296.82 917.429 Q2301.76 915.444 2306.05 914.431 Q2310.35 913.418 2313.91 913.418 Q2323.31 913.418 2328.9 918.117 Q2334.49 922.816 2334.49 930.675 Q2334.49 934.402 2333.07 937.764 Q2331.7 941.086 2328.01 945.623 Q2327 946.798 2321.57 952.428 Q2316.14 958.019 2306.26 968.105 Z\" fill=\"#000000\" fill-rule=\"nonzero\" fill-opacity=\"1\" /><path clip-path=\"url(#clip890)\" d=\"M156.632 791.522 Q162.505 792.778 165.787 796.748 Q169.108 800.718 169.108 806.551 Q169.108 815.504 162.951 820.405 Q156.794 825.307 145.451 825.307 Q141.643 825.307 137.592 824.537 Q133.582 823.808 129.288 822.309 L129.288 814.41 Q132.691 816.395 136.742 817.407 Q140.793 818.42 145.208 818.42 Q152.905 818.42 156.915 815.382 Q160.966 812.344 160.966 806.551 Q160.966 801.204 157.199 798.206 Q153.472 795.168 146.788 795.168 L139.739 795.168 L139.739 788.443 L147.112 788.443 Q153.148 788.443 156.348 786.053 Q159.548 783.623 159.548 779.086 Q159.548 774.427 156.226 771.956 Q152.945 769.445 146.788 769.445 Q143.426 769.445 139.577 770.174 Q135.729 770.903 131.111 772.442 L131.111 765.151 Q135.769 763.854 139.82 763.206 Q143.912 762.558 147.517 762.558 Q156.834 762.558 162.262 766.812 Q167.691 771.025 167.691 778.235 Q167.691 783.258 164.814 786.742 Q161.938 790.185 156.632 791.522 Z\" fill=\"#000000\" fill-rule=\"nonzero\" fill-opacity=\"1\" /><path clip-path=\"url(#clip890)\" d=\"M209.415 791.522 Q215.289 792.778 218.57 796.748 Q221.892 800.718 221.892 806.551 Q221.892 815.504 215.734 820.405 Q209.577 825.307 198.234 825.307 Q194.426 825.307 190.376 824.537 Q186.365 823.808 182.071 822.309 L182.071 814.41 Q185.474 816.395 189.525 817.407 Q193.576 818.42 197.991 818.42 Q205.688 818.42 209.698 815.382 Q213.749 812.344 213.749 806.551 Q213.749 801.204 209.982 798.206 Q206.255 795.168 199.571 795.168 L192.523 795.168 L192.523 788.443 L199.895 788.443 Q205.931 788.443 209.131 786.053 Q212.331 783.623 212.331 779.086 Q212.331 774.427 209.01 771.956 Q205.729 769.445 199.571 769.445 Q196.209 769.445 192.361 770.174 Q188.512 770.903 183.894 772.442 L183.894 765.151 Q188.553 763.854 192.604 763.206 Q196.695 762.558 200.3 762.558 Q209.617 762.558 215.046 766.812 Q220.474 771.025 220.474 778.235 Q220.474 783.258 217.598 786.742 Q214.722 790.185 209.415 791.522 Z\" fill=\"#000000\" fill-rule=\"nonzero\" fill-opacity=\"1\" /><path clip-path=\"url(#clip890)\" d=\"M457.604 791.522 Q463.478 792.778 466.759 796.748 Q470.081 800.718 470.081 806.551 Q470.081 815.504 463.923 820.405 Q457.766 825.307 446.423 825.307 Q442.616 825.307 438.565 824.537 Q434.554 823.808 430.26 822.309 L430.26 814.41 Q433.663 816.395 437.714 817.407 Q441.765 818.42 446.18 818.42 Q453.877 818.42 457.887 815.382 Q461.938 812.344 461.938 806.551 Q461.938 801.204 458.171 798.206 Q454.444 795.168 447.76 795.168 L440.712 795.168 L440.712 788.443 L448.084 788.443 Q454.12 788.443 457.32 786.053 Q460.521 783.623 460.521 779.086 Q460.521 774.427 457.199 771.956 Q453.918 769.445 447.76 769.445 Q444.398 769.445 440.55 770.174 Q436.701 770.903 432.083 772.442 L432.083 765.151 Q436.742 763.854 440.793 763.206 Q444.884 762.558 448.489 762.558 Q457.806 762.558 463.235 766.812 Q468.663 771.025 468.663 778.235 Q468.663 783.258 465.787 786.742 Q462.911 790.185 457.604 791.522 Z\" fill=\"#000000\" fill-rule=\"nonzero\" fill-opacity=\"1\" /><path clip-path=\"url(#clip890)\" d=\"M508.078 770.782 L487.419 803.067 L508.078 803.067 L508.078 770.782 M505.931 763.652 L516.22 763.652 L516.22 803.067 L524.849 803.067 L524.849 809.873 L516.22 809.873 L516.22 824.132 L508.078 824.132 L508.078 809.873 L480.775 809.873 L480.775 801.974 L505.931 763.652 Z\" fill=\"#000000\" fill-rule=\"nonzero\" fill-opacity=\"1\" /><path clip-path=\"url(#clip890)\" d=\"M760.865 791.522 Q766.739 792.778 770.02 796.748 Q773.342 800.718 773.342 806.551 Q773.342 815.504 767.184 820.405 Q761.027 825.307 749.684 825.307 Q745.877 825.307 741.826 824.537 Q737.815 823.808 733.521 822.309 L733.521 814.41 Q736.924 816.395 740.975 817.407 Q745.026 818.42 749.441 818.42 Q757.138 818.42 761.149 815.382 Q765.199 812.344 765.199 806.551 Q765.199 801.204 761.432 798.206 Q757.705 795.168 751.021 795.168 L743.973 795.168 L743.973 788.443 L751.345 788.443 Q757.381 788.443 760.581 786.053 Q763.782 783.623 763.782 779.086 Q763.782 774.427 760.46 771.956 Q757.179 769.445 751.021 769.445 Q747.659 769.445 743.811 770.174 Q739.962 770.903 735.344 772.442 L735.344 765.151 Q740.003 763.854 744.054 763.206 Q748.145 762.558 751.75 762.558 Q761.067 762.558 766.496 766.812 Q771.924 771.025 771.924 778.235 Q771.924 783.258 769.048 786.742 Q766.172 790.185 760.865 791.522 Z\" fill=\"#000000\" fill-rule=\"nonzero\" fill-opacity=\"1\" /><path clip-path=\"url(#clip890)\" d=\"M788.938 763.652 L821.061 763.652 L821.061 770.538 L796.432 770.538 L796.432 785.365 Q798.214 784.757 799.997 784.474 Q801.779 784.15 803.561 784.15 Q813.689 784.15 819.603 789.699 Q825.517 795.249 825.517 804.728 Q825.517 814.491 819.441 819.919 Q813.365 825.307 802.306 825.307 Q798.498 825.307 794.528 824.659 Q790.599 824.01 786.386 822.714 L786.386 814.491 Q790.031 816.476 793.92 817.448 Q797.809 818.42 802.144 818.42 Q809.152 818.42 813.243 814.734 Q817.335 811.048 817.335 804.728 Q817.335 798.409 813.243 794.722 Q809.152 791.036 802.144 791.036 Q798.862 791.036 795.581 791.765 Q792.34 792.494 788.938 794.034 L788.938 763.652 Z\" fill=\"#000000\" fill-rule=\"nonzero\" fill-opacity=\"1\" /><path clip-path=\"url(#clip890)\" d=\"M1061.82 791.522 Q1067.69 792.778 1070.97 796.748 Q1074.29 800.718 1074.29 806.551 Q1074.29 815.504 1068.14 820.405 Q1061.98 825.307 1050.64 825.307 Q1046.83 825.307 1042.78 824.537 Q1038.77 823.808 1034.47 822.309 L1034.47 814.41 Q1037.88 816.395 1041.93 817.407 Q1045.98 818.42 1050.39 818.42 Q1058.09 818.42 1062.1 815.382 Q1066.15 812.344 1066.15 806.551 Q1066.15 801.204 1062.38 798.206 Q1058.66 795.168 1051.97 795.168 L1044.92 795.168 L1044.92 788.443 L1052.3 788.443 Q1058.33 788.443 1061.53 786.053 Q1064.73 783.623 1064.73 779.086 Q1064.73 774.427 1061.41 771.956 Q1058.13 769.445 1051.97 769.445 Q1048.61 769.445 1044.76 770.174 Q1040.91 770.903 1036.3 772.442 L1036.3 765.151 Q1040.95 763.854 1045.01 763.206 Q1049.1 762.558 1052.7 762.558 Q1062.02 762.558 1067.45 766.812 Q1072.88 771.025 1072.88 778.235 Q1072.88 783.258 1070 786.742 Q1067.12 790.185 1061.82 791.522 Z\" fill=\"#000000\" fill-rule=\"nonzero\" fill-opacity=\"1\" /><path clip-path=\"url(#clip890)\" d=\"M1108.32 790.631 Q1102.81 790.631 1099.57 794.398 Q1096.37 798.166 1096.37 804.728 Q1096.37 811.25 1099.57 815.058 Q1102.81 818.825 1108.32 818.825 Q1113.83 818.825 1117.03 815.058 Q1120.27 811.25 1120.27 804.728 Q1120.27 798.166 1117.03 794.398 Q1113.83 790.631 1108.32 790.631 M1124.57 764.989 L1124.57 772.442 Q1121.49 770.984 1118.33 770.214 Q1115.21 769.445 1112.13 769.445 Q1104.03 769.445 1099.73 774.913 Q1095.48 780.382 1094.87 791.441 Q1097.26 787.917 1100.87 786.053 Q1104.47 784.15 1108.81 784.15 Q1117.92 784.15 1123.19 789.699 Q1128.49 795.208 1128.49 804.728 Q1128.49 814.045 1122.99 819.676 Q1117.48 825.307 1108.32 825.307 Q1097.83 825.307 1092.28 817.286 Q1086.73 809.225 1086.73 793.953 Q1086.73 779.613 1093.54 771.106 Q1100.34 762.558 1111.81 762.558 Q1114.88 762.558 1118 763.166 Q1121.16 763.773 1124.57 764.989 Z\" fill=\"#000000\" fill-rule=\"nonzero\" fill-opacity=\"1\" /><path clip-path=\"url(#clip890)\" d=\"M1364.71 791.522 Q1370.59 792.778 1373.87 796.748 Q1377.19 800.718 1377.19 806.551 Q1377.19 815.504 1371.03 820.405 Q1364.88 825.307 1353.53 825.307 Q1349.73 825.307 1345.67 824.537 Q1341.66 823.808 1337.37 822.309 L1337.37 814.41 Q1340.77 816.395 1344.82 817.407 Q1348.87 818.42 1353.29 818.42 Q1360.99 818.42 1365 815.382 Q1369.05 812.344 1369.05 806.551 Q1369.05 801.204 1365.28 798.206 Q1361.55 795.168 1354.87 795.168 L1347.82 795.168 L1347.82 788.443 L1355.19 788.443 Q1361.23 788.443 1364.43 786.053 Q1367.63 783.623 1367.63 779.086 Q1367.63 774.427 1364.31 771.956 Q1361.03 769.445 1354.87 769.445 Q1351.51 769.445 1347.66 770.174 Q1343.81 770.903 1339.19 772.442 L1339.19 765.151 Q1343.85 763.854 1347.9 763.206 Q1351.99 762.558 1355.6 762.558 Q1364.92 762.558 1370.34 766.812 Q1375.77 771.025 1375.77 778.235 Q1375.77 783.258 1372.9 786.742 Q1370.02 790.185 1364.71 791.522 Z\" fill=\"#000000\" fill-rule=\"nonzero\" fill-opacity=\"1\" /><path clip-path=\"url(#clip890)\" d=\"M1390.64 763.652 L1429.53 763.652 L1429.53 767.136 L1407.57 824.132 L1399.02 824.132 L1419.68 770.538 L1390.64 770.538 L1390.64 763.652 Z\" fill=\"#000000\" fill-rule=\"nonzero\" fill-opacity=\"1\" /><path clip-path=\"url(#clip890)\" d=\"M1665.97 791.522 Q1671.84 792.778 1675.12 796.748 Q1678.45 800.718 1678.45 806.551 Q1678.45 815.504 1672.29 820.405 Q1666.13 825.307 1654.79 825.307 Q1650.98 825.307 1646.93 824.537 Q1642.92 823.808 1638.63 822.309 L1638.63 814.41 Q1642.03 816.395 1646.08 817.407 Q1650.13 818.42 1654.55 818.42 Q1662.24 818.42 1666.25 815.382 Q1670.3 812.344 1670.3 806.551 Q1670.3 801.204 1666.54 798.206 Q1662.81 795.168 1656.13 795.168 L1649.08 795.168 L1649.08 788.443 L1656.45 788.443 Q1662.49 788.443 1665.69 786.053 Q1668.89 783.623 1668.89 779.086 Q1668.89 774.427 1665.56 771.956 Q1662.28 769.445 1656.13 769.445 Q1652.76 769.445 1648.92 770.174 Q1645.07 770.903 1640.45 772.442 L1640.45 765.151 Q1645.11 763.854 1649.16 763.206 Q1653.25 762.558 1656.85 762.558 Q1666.17 762.558 1671.6 766.812 Q1677.03 771.025 1677.03 778.235 Q1677.03 783.258 1674.15 786.742 Q1671.28 790.185 1665.97 791.522 Z\" fill=\"#000000\" fill-rule=\"nonzero\" fill-opacity=\"1\" /><path clip-path=\"url(#clip890)\" d=\"M1711.46 795.411 Q1705.63 795.411 1702.27 798.53 Q1698.94 801.649 1698.94 807.118 Q1698.94 812.587 1702.27 815.706 Q1705.63 818.825 1711.46 818.825 Q1717.29 818.825 1720.66 815.706 Q1724.02 812.546 1724.02 807.118 Q1724.02 801.649 1720.66 798.53 Q1717.33 795.411 1711.46 795.411 M1703.28 791.927 Q1698.01 790.631 1695.05 787.026 Q1692.14 783.42 1692.14 778.235 Q1692.14 770.984 1697.28 766.771 Q1702.47 762.558 1711.46 762.558 Q1720.49 762.558 1725.64 766.771 Q1730.78 770.984 1730.78 778.235 Q1730.78 783.42 1727.83 787.026 Q1724.91 790.631 1719.68 791.927 Q1725.6 793.305 1728.88 797.315 Q1732.2 801.325 1732.2 807.118 Q1732.2 815.909 1726.81 820.608 Q1721.47 825.307 1711.46 825.307 Q1701.46 825.307 1696.07 820.608 Q1690.72 815.909 1690.72 807.118 Q1690.72 801.325 1694.04 797.315 Q1697.36 793.305 1703.28 791.927 M1700.28 779.005 Q1700.28 783.704 1703.2 786.337 Q1706.15 788.97 1711.46 788.97 Q1716.73 788.97 1719.68 786.337 Q1722.68 783.704 1722.68 779.005 Q1722.68 774.306 1719.68 771.673 Q1716.73 769.04 1711.46 769.04 Q1706.15 769.04 1703.2 771.673 Q1700.28 774.306 1700.28 779.005 Z\" fill=\"#000000\" fill-rule=\"nonzero\" fill-opacity=\"1\" /><path clip-path=\"url(#clip890)\" d=\"M1968.02 791.522 Q1973.89 792.778 1977.17 796.748 Q1980.49 800.718 1980.49 806.551 Q1980.49 815.504 1974.33 820.405 Q1968.18 825.307 1956.83 825.307 Q1953.03 825.307 1948.98 824.537 Q1944.97 823.808 1940.67 822.309 L1940.67 814.41 Q1944.07 816.395 1948.13 817.407 Q1952.18 818.42 1956.59 818.42 Q1964.29 818.42 1968.3 815.382 Q1972.35 812.344 1972.35 806.551 Q1972.35 801.204 1968.58 798.206 Q1964.86 795.168 1958.17 795.168 L1951.12 795.168 L1951.12 788.443 L1958.5 788.443 Q1964.53 788.443 1967.73 786.053 Q1970.93 783.623 1970.93 779.086 Q1970.93 774.427 1967.61 771.956 Q1964.33 769.445 1958.17 769.445 Q1954.81 769.445 1950.96 770.174 Q1947.11 770.903 1942.49 772.442 L1942.49 765.151 Q1947.15 763.854 1951.2 763.206 Q1955.3 762.558 1958.9 762.558 Q1968.22 762.558 1973.65 766.812 Q1979.07 771.025 1979.07 778.235 Q1979.07 783.258 1976.2 786.742 Q1973.32 790.185 1968.02 791.522 Z\" fill=\"#000000\" fill-rule=\"nonzero\" fill-opacity=\"1\" /><path clip-path=\"url(#clip890)\" d=\"M1996.25 822.876 L1996.25 815.423 Q1999.33 816.881 2002.49 817.651 Q2005.65 818.42 2008.69 818.42 Q2016.79 818.42 2021.04 812.992 Q2025.34 807.523 2025.94 796.424 Q2023.59 799.908 2019.99 801.771 Q2016.38 803.634 2012.01 803.634 Q2002.93 803.634 1997.63 798.166 Q1992.36 792.656 1992.36 783.137 Q1992.36 773.82 1997.87 768.189 Q2003.38 762.558 2012.53 762.558 Q2023.03 762.558 2028.54 770.62 Q2034.09 778.64 2034.09 793.953 Q2034.09 808.252 2027.28 816.8 Q2020.51 825.307 2009.05 825.307 Q2005.97 825.307 2002.81 824.699 Q1999.65 824.091 1996.25 822.876 M2012.53 797.234 Q2018.04 797.234 2021.24 793.467 Q2024.48 789.699 2024.48 783.137 Q2024.48 776.615 2021.24 772.848 Q2018.04 769.04 2012.53 769.04 Q2007.03 769.04 2003.78 772.848 Q2000.58 776.615 2000.58 783.137 Q2000.58 789.699 2003.78 793.467 Q2007.03 797.234 2012.53 797.234 Z\" fill=\"#000000\" fill-rule=\"nonzero\" fill-opacity=\"1\" /><path clip-path=\"url(#clip890)\" d=\"M2268.64 770.782 L2247.98 803.067 L2268.64 803.067 L2268.64 770.782 M2266.5 763.652 L2276.79 763.652 L2276.79 803.067 L2285.41 803.067 L2285.41 809.873 L2276.79 809.873 L2276.79 824.132 L2268.64 824.132 L2268.64 809.873 L2241.34 809.873 L2241.34 801.974 L2266.5 763.652 Z\" fill=\"#000000\" fill-rule=\"nonzero\" fill-opacity=\"1\" /><path clip-path=\"url(#clip890)\" d=\"M2316.44 769.04 Q2310.12 769.04 2306.92 775.278 Q2303.76 781.476 2303.76 793.953 Q2303.76 806.389 2306.92 812.627 Q2310.12 818.825 2316.44 818.825 Q2322.8 818.825 2325.96 812.627 Q2329.16 806.389 2329.16 793.953 Q2329.16 781.476 2325.96 775.278 Q2322.8 769.04 2316.44 769.04 M2316.44 762.558 Q2326.61 762.558 2331.96 770.62 Q2337.35 778.64 2337.35 793.953 Q2337.35 809.225 2331.96 817.286 Q2326.61 825.307 2316.44 825.307 Q2306.28 825.307 2300.89 817.286 Q2295.54 809.225 2295.54 793.953 Q2295.54 778.64 2300.89 770.62 Q2306.28 762.558 2316.44 762.558 Z\" fill=\"#000000\" fill-rule=\"nonzero\" fill-opacity=\"1\" /><path clip-path=\"url(#clip890)\" d=\"M155.963 619.922 L135.304 652.207 L155.963 652.207 L155.963 619.922 M153.816 612.792 L164.105 612.792 L164.105 652.207 L172.734 652.207 L172.734 659.013 L164.105 659.013 L164.105 673.272 L155.963 673.272 L155.963 659.013 L128.66 659.013 L128.66 651.114 L153.816 612.792 Z\" fill=\"#000000\" fill-rule=\"nonzero\" fill-opacity=\"1\" /><path clip-path=\"url(#clip890)\" d=\"M187.682 666.385 L201.05 666.385 L201.05 620.246 L186.507 623.162 L186.507 615.709 L200.969 612.792 L209.152 612.792 L209.152 666.385 L222.52 666.385 L222.52 673.272 L187.682 673.272 L187.682 666.385 Z\" fill=\"#000000\" fill-rule=\"nonzero\" fill-opacity=\"1\" /><path clip-path=\"url(#clip890)\" d=\"M458.252 619.922 L437.592 652.207 L458.252 652.207 L458.252 619.922 M456.105 612.792 L466.394 612.792 L466.394 652.207 L475.023 652.207 L475.023 659.013 L466.394 659.013 L466.394 673.272 L458.252 673.272 L458.252 659.013 L430.949 659.013 L430.949 651.114 L456.105 612.792 Z\" fill=\"#000000\" fill-rule=\"nonzero\" fill-opacity=\"1\" /><path clip-path=\"url(#clip890)\" d=\"M495.601 666.385 L524.16 666.385 L524.16 673.272 L485.758 673.272 L485.758 666.385 Q490.416 661.565 498.437 653.463 Q506.498 645.321 508.564 642.971 Q512.494 638.556 514.033 635.518 Q515.613 632.439 515.613 629.482 Q515.613 624.661 512.21 621.623 Q508.848 618.585 503.42 618.585 Q499.571 618.585 495.277 619.922 Q491.024 621.258 486.163 623.973 L486.163 615.709 Q491.105 613.724 495.399 612.711 Q499.693 611.698 503.258 611.698 Q512.656 611.698 518.246 616.397 Q523.836 621.096 523.836 628.955 Q523.836 632.682 522.418 636.044 Q521.041 639.366 517.355 643.903 Q516.342 645.078 510.914 650.708 Q505.486 656.299 495.601 666.385 Z\" fill=\"#000000\" fill-rule=\"nonzero\" fill-opacity=\"1\" /><path clip-path=\"url(#clip890)\" d=\"M759.386 619.922 L738.727 652.207 L759.386 652.207 L759.386 619.922 M757.239 612.792 L767.529 612.792 L767.529 652.207 L776.157 652.207 L776.157 659.013 L767.529 659.013 L767.529 673.272 L759.386 673.272 L759.386 659.013 L732.083 659.013 L732.083 651.114 L757.239 612.792 Z\" fill=\"#000000\" fill-rule=\"nonzero\" fill-opacity=\"1\" /><path clip-path=\"url(#clip890)\" d=\"M814.479 640.662 Q820.352 641.918 823.634 645.888 Q826.955 649.858 826.955 655.691 Q826.955 664.644 820.798 669.545 Q814.641 674.447 803.298 674.447 Q799.49 674.447 795.439 673.677 Q791.429 672.948 787.135 671.449 L787.135 663.55 Q790.538 665.535 794.589 666.548 Q798.64 667.56 803.055 667.56 Q810.752 667.56 814.762 664.522 Q818.813 661.484 818.813 655.691 Q818.813 650.344 815.046 647.346 Q811.319 644.308 804.635 644.308 L797.586 644.308 L797.586 637.584 L804.959 637.584 Q810.995 637.584 814.195 635.194 Q817.395 632.763 817.395 628.226 Q817.395 623.567 814.074 621.096 Q810.792 618.585 804.635 618.585 Q801.273 618.585 797.424 619.314 Q793.576 620.043 788.958 621.582 L788.958 614.291 Q793.617 612.995 797.667 612.346 Q801.759 611.698 805.364 611.698 Q814.681 611.698 820.109 615.952 Q825.538 620.165 825.538 627.375 Q825.538 632.398 822.661 635.882 Q819.785 639.325 814.479 640.662 Z\" fill=\"#000000\" fill-rule=\"nonzero\" fill-opacity=\"1\" /><path clip-path=\"url(#clip890)\" d=\"M1060.36 619.922 L1039.7 652.207 L1060.36 652.207 L1060.36 619.922 M1058.21 612.792 L1068.5 612.792 L1068.5 652.207 L1077.13 652.207 L1077.13 659.013 L1068.5 659.013 L1068.5 673.272 L1060.36 673.272 L1060.36 659.013 L1033.06 659.013 L1033.06 651.114 L1058.21 612.792 Z\" fill=\"#000000\" fill-rule=\"nonzero\" fill-opacity=\"1\" /><path clip-path=\"url(#clip890)\" d=\"M1113.14 619.922 L1092.48 652.207 L1113.14 652.207 L1113.14 619.922 M1110.99 612.792 L1121.28 612.792 L1121.28 652.207 L1129.91 652.207 L1129.91 659.013 L1121.28 659.013 L1121.28 673.272 L1113.14 673.272 L1113.14 659.013 L1085.84 659.013 L1085.84 651.114 L1110.99 612.792 Z\" fill=\"#000000\" fill-rule=\"nonzero\" fill-opacity=\"1\" /><path clip-path=\"url(#clip890)\" d=\"M1363.62 619.922 L1342.96 652.207 L1363.62 652.207 L1363.62 619.922 M1361.47 612.792 L1371.76 612.792 L1371.76 652.207 L1380.39 652.207 L1380.39 659.013 L1371.76 659.013 L1371.76 673.272 L1363.62 673.272 L1363.62 659.013 L1336.32 659.013 L1336.32 651.114 L1361.47 612.792 Z\" fill=\"#000000\" fill-rule=\"nonzero\" fill-opacity=\"1\" /><path clip-path=\"url(#clip890)\" d=\"M1394 612.792 L1426.13 612.792 L1426.13 619.679 L1401.5 619.679 L1401.5 634.505 Q1403.28 633.897 1405.06 633.614 Q1406.84 633.29 1408.63 633.29 Q1418.75 633.29 1424.67 638.839 Q1430.58 644.389 1430.58 653.868 Q1430.58 663.631 1424.5 669.059 Q1418.43 674.447 1407.37 674.447 Q1403.56 674.447 1399.59 673.799 Q1395.66 673.15 1391.45 671.854 L1391.45 663.631 Q1395.1 665.616 1398.98 666.588 Q1402.87 667.56 1407.21 667.56 Q1414.22 667.56 1418.31 663.874 Q1422.4 660.188 1422.4 653.868 Q1422.4 647.549 1418.31 643.862 Q1414.22 640.176 1407.21 640.176 Q1403.93 640.176 1400.65 640.905 Q1397.4 641.634 1394 643.174 L1394 612.792 Z\" fill=\"#000000\" fill-rule=\"nonzero\" fill-opacity=\"1\" /><path clip-path=\"url(#clip890)\" d=\"M1664.57 619.922 L1643.91 652.207 L1664.57 652.207 L1664.57 619.922 M1662.42 612.792 L1672.71 612.792 L1672.71 652.207 L1681.34 652.207 L1681.34 659.013 L1672.71 659.013 L1672.71 673.272 L1664.57 673.272 L1664.57 659.013 L1637.27 659.013 L1637.27 651.114 L1662.42 612.792 Z\" fill=\"#000000\" fill-rule=\"nonzero\" fill-opacity=\"1\" /><path clip-path=\"url(#clip890)\" d=\"M1713.39 639.771 Q1707.88 639.771 1704.64 643.538 Q1701.44 647.306 1701.44 653.868 Q1701.44 660.39 1704.64 664.198 Q1707.88 667.965 1713.39 667.965 Q1718.89 667.965 1722.09 664.198 Q1725.34 660.39 1725.34 653.868 Q1725.34 647.306 1722.09 643.538 Q1718.89 639.771 1713.39 639.771 M1729.63 614.129 L1729.63 621.582 Q1726.55 620.124 1723.39 619.354 Q1720.27 618.585 1717.19 618.585 Q1709.09 618.585 1704.8 624.054 Q1700.54 629.522 1699.94 640.581 Q1702.33 637.057 1705.93 635.194 Q1709.54 633.29 1713.87 633.29 Q1722.99 633.29 1728.25 638.839 Q1733.56 644.349 1733.56 653.868 Q1733.56 663.185 1728.05 668.816 Q1722.54 674.447 1713.39 674.447 Q1702.89 674.447 1697.34 666.426 Q1691.79 658.365 1691.79 643.093 Q1691.79 628.753 1698.6 620.246 Q1705.4 611.698 1716.87 611.698 Q1719.95 611.698 1723.07 612.306 Q1726.23 612.914 1729.63 614.129 Z\" fill=\"#000000\" fill-rule=\"nonzero\" fill-opacity=\"1\" /><path clip-path=\"url(#clip890)\" d=\"M1967.47 619.922 L1946.81 652.207 L1967.47 652.207 L1967.47 619.922 M1965.32 612.792 L1975.61 612.792 L1975.61 652.207 L1984.24 652.207 L1984.24 659.013 L1975.61 659.013 L1975.61 673.272 L1967.47 673.272 L1967.47 659.013 L1940.17 659.013 L1940.17 651.114 L1965.32 612.792 Z\" fill=\"#000000\" fill-rule=\"nonzero\" fill-opacity=\"1\" /><path clip-path=\"url(#clip890)\" d=\"M1995.7 612.792 L2034.59 612.792 L2034.59 616.276 L2012.64 673.272 L2004.09 673.272 L2024.75 619.679 L1995.7 619.679 L1995.7 612.792 Z\" fill=\"#000000\" fill-rule=\"nonzero\" fill-opacity=\"1\" /><path clip-path=\"url(#clip890)\" d=\"M2268.72 619.922 L2248.06 652.207 L2268.72 652.207 L2268.72 619.922 M2266.58 612.792 L2276.87 612.792 L2276.87 652.207 L2285.49 652.207 L2285.49 659.013 L2276.87 659.013 L2276.87 673.272 L2268.72 673.272 L2268.72 659.013 L2241.42 659.013 L2241.42 651.114 L2266.58 612.792 Z\" fill=\"#000000\" fill-rule=\"nonzero\" fill-opacity=\"1\" /><path clip-path=\"url(#clip890)\" d=\"M2316.52 644.551 Q2310.69 644.551 2307.33 647.67 Q2304.01 650.789 2304.01 656.258 Q2304.01 661.727 2307.33 664.846 Q2310.69 667.965 2316.52 667.965 Q2322.36 667.965 2325.72 664.846 Q2329.08 661.686 2329.08 656.258 Q2329.08 650.789 2325.72 647.67 Q2322.4 644.551 2316.52 644.551 M2308.34 641.067 Q2303.08 639.771 2300.12 636.166 Q2297.2 632.56 2297.2 627.375 Q2297.2 620.124 2302.35 615.911 Q2307.53 611.698 2316.52 611.698 Q2325.56 611.698 2330.7 615.911 Q2335.85 620.124 2335.85 627.375 Q2335.85 632.56 2332.89 636.166 Q2329.97 639.771 2324.75 641.067 Q2330.66 642.445 2333.94 646.455 Q2337.27 650.465 2337.27 656.258 Q2337.27 665.049 2331.88 669.748 Q2326.53 674.447 2316.52 674.447 Q2306.52 674.447 2301.13 669.748 Q2295.78 665.049 2295.78 656.258 Q2295.78 650.465 2299.11 646.455 Q2302.43 642.445 2308.34 641.067 M2305.34 628.145 Q2305.34 632.844 2308.26 635.477 Q2311.22 638.11 2316.52 638.11 Q2321.79 638.11 2324.75 635.477 Q2327.75 632.844 2327.75 628.145 Q2327.75 623.446 2324.75 620.813 Q2321.79 618.18 2316.52 618.18 Q2311.22 618.18 2308.26 620.813 Q2305.34 623.446 2305.34 628.145 Z\" fill=\"#000000\" fill-rule=\"nonzero\" fill-opacity=\"1\" /><path clip-path=\"url(#clip890)\" d=\"M155.052 469.062 L134.392 501.347 L155.052 501.347 L155.052 469.062 M152.905 461.932 L163.194 461.932 L163.194 501.347 L171.822 501.347 L171.822 508.153 L163.194 508.153 L163.194 522.412 L155.052 522.412 L155.052 508.153 L127.749 508.153 L127.749 500.254 L152.905 461.932 Z\" fill=\"#000000\" fill-rule=\"nonzero\" fill-opacity=\"1\" /><path clip-path=\"url(#clip890)\" d=\"M185.596 521.156 L185.596 513.703 Q188.674 515.161 191.834 515.931 Q194.994 516.7 198.032 516.7 Q206.134 516.7 210.387 511.272 Q214.681 505.803 215.289 494.704 Q212.939 498.188 209.334 500.051 Q205.729 501.915 201.354 501.915 Q192.28 501.915 186.973 496.446 Q181.707 490.937 181.707 481.417 Q181.707 472.1 187.216 466.469 Q192.725 460.838 201.88 460.838 Q212.372 460.838 217.881 468.9 Q223.431 476.92 223.431 492.233 Q223.431 506.533 216.625 515.08 Q209.86 523.587 198.396 523.587 Q195.318 523.587 192.158 522.979 Q188.998 522.372 185.596 521.156 M201.88 495.514 Q207.389 495.514 210.59 491.747 Q213.83 487.979 213.83 481.417 Q213.83 474.895 210.59 471.128 Q207.389 467.32 201.88 467.32 Q196.371 467.32 193.13 471.128 Q189.93 474.895 189.93 481.417 Q189.93 487.979 193.13 491.747 Q196.371 495.514 201.88 495.514 Z\" fill=\"#000000\" fill-rule=\"nonzero\" fill-opacity=\"1\" /><path clip-path=\"url(#clip890)\" d=\"M433.278 461.932 L465.402 461.932 L465.402 468.819 L440.772 468.819 L440.772 483.645 Q442.555 483.037 444.337 482.754 Q446.12 482.43 447.902 482.43 Q458.029 482.43 463.944 487.979 Q469.858 493.529 469.858 503.008 Q469.858 512.771 463.781 518.199 Q457.705 523.587 446.646 523.587 Q442.838 523.587 438.868 522.939 Q434.939 522.291 430.726 520.994 L430.726 512.771 Q434.372 514.756 438.261 515.728 Q442.15 516.7 446.484 516.7 Q453.492 516.7 457.584 513.014 Q461.675 509.328 461.675 503.008 Q461.675 496.689 457.584 493.003 Q453.492 489.316 446.484 489.316 Q443.203 489.316 439.922 490.045 Q436.681 490.775 433.278 492.314 L433.278 461.932 Z\" fill=\"#000000\" fill-rule=\"nonzero\" fill-opacity=\"1\" /><path clip-path=\"url(#clip890)\" d=\"M503.48 467.32 Q497.161 467.32 493.961 473.558 Q490.801 479.756 490.801 492.233 Q490.801 504.669 493.961 510.908 Q497.161 517.105 503.48 517.105 Q509.84 517.105 513 510.908 Q516.2 504.669 516.2 492.233 Q516.2 479.756 513 473.558 Q509.84 467.32 503.48 467.32 M503.48 460.838 Q513.648 460.838 518.995 468.9 Q524.383 476.92 524.383 492.233 Q524.383 507.505 518.995 515.566 Q513.648 523.587 503.48 523.587 Q493.313 523.587 487.925 515.566 Q482.578 507.505 482.578 492.233 Q482.578 476.92 487.925 468.9 Q493.313 460.838 503.48 460.838 Z\" fill=\"#000000\" fill-rule=\"nonzero\" fill-opacity=\"1\" /><path clip-path=\"url(#clip890)\" d=\"M736.316 461.932 L768.44 461.932 L768.44 468.819 L743.811 468.819 L743.811 483.645 Q745.593 483.037 747.375 482.754 Q749.158 482.43 750.94 482.43 Q761.067 482.43 766.982 487.979 Q772.896 493.529 772.896 503.008 Q772.896 512.771 766.82 518.199 Q760.743 523.587 749.684 523.587 Q745.877 523.587 741.907 522.939 Q737.977 522.291 733.764 520.994 L733.764 512.771 Q737.41 514.756 741.299 515.728 Q745.188 516.7 749.522 516.7 Q756.53 516.7 760.622 513.014 Q764.713 509.328 764.713 503.008 Q764.713 496.689 760.622 493.003 Q756.53 489.316 749.522 489.316 Q746.241 489.316 742.96 490.045 Q739.719 490.775 736.316 492.314 L736.316 461.932 Z\" fill=\"#000000\" fill-rule=\"nonzero\" fill-opacity=\"1\" /><path clip-path=\"url(#clip890)\" d=\"M790.437 515.526 L803.805 515.526 L803.805 469.386 L789.262 472.302 L789.262 464.849 L803.724 461.932 L811.906 461.932 L811.906 515.526 L825.274 515.526 L825.274 522.412 L790.437 522.412 L790.437 515.526 Z\" fill=\"#000000\" fill-rule=\"nonzero\" fill-opacity=\"1\" /><path clip-path=\"url(#clip890)\" d=\"M1038.61 461.932 L1070.73 461.932 L1070.73 468.819 L1046.1 468.819 L1046.1 483.645 Q1047.88 483.037 1049.66 482.754 Q1051.45 482.43 1053.23 482.43 Q1063.36 482.43 1069.27 487.979 Q1075.18 493.529 1075.18 503.008 Q1075.18 512.771 1069.11 518.199 Q1063.03 523.587 1051.97 523.587 Q1048.17 523.587 1044.2 522.939 Q1040.27 522.291 1036.05 520.994 L1036.05 512.771 Q1039.7 514.756 1043.59 515.728 Q1047.48 516.7 1051.81 516.7 Q1058.82 516.7 1062.91 513.014 Q1067 509.328 1067 503.008 Q1067 496.689 1062.91 493.003 Q1058.82 489.316 1051.81 489.316 Q1048.53 489.316 1045.25 490.045 Q1042.01 490.775 1038.61 492.314 L1038.61 461.932 Z\" fill=\"#000000\" fill-rule=\"nonzero\" fill-opacity=\"1\" /><path clip-path=\"url(#clip890)\" d=\"M1098.36 515.526 L1126.92 515.526 L1126.92 522.412 L1088.51 522.412 L1088.51 515.526 Q1093.17 510.705 1101.19 502.603 Q1109.25 494.461 1111.32 492.111 Q1115.25 487.696 1116.79 484.658 Q1118.37 481.579 1118.37 478.622 Q1118.37 473.801 1114.96 470.763 Q1111.6 467.725 1106.17 467.725 Q1102.33 467.725 1098.03 469.062 Q1093.78 470.398 1088.92 473.113 L1088.92 464.849 Q1093.86 462.864 1098.15 461.851 Q1102.45 460.838 1106.01 460.838 Q1115.41 460.838 1121 465.537 Q1126.59 470.236 1126.59 478.095 Q1126.59 481.822 1125.17 485.184 Q1123.8 488.506 1120.11 493.043 Q1119.1 494.218 1113.67 499.849 Q1108.24 505.439 1098.36 515.526 Z\" fill=\"#000000\" fill-rule=\"nonzero\" fill-opacity=\"1\" /><path clip-path=\"url(#clip890)\" d=\"M1339.74 461.932 L1371.86 461.932 L1371.86 468.819 L1347.23 468.819 L1347.23 483.645 Q1349.02 483.037 1350.8 482.754 Q1352.58 482.43 1354.36 482.43 Q1364.49 482.43 1370.41 487.979 Q1376.32 493.529 1376.32 503.008 Q1376.32 512.771 1370.24 518.199 Q1364.17 523.587 1353.11 523.587 Q1349.3 523.587 1345.33 522.939 Q1341.4 522.291 1337.19 520.994 L1337.19 512.771 Q1340.83 514.756 1344.72 515.728 Q1348.61 516.7 1352.95 516.7 Q1359.95 516.7 1364.05 513.014 Q1368.14 509.328 1368.14 503.008 Q1368.14 496.689 1364.05 493.003 Q1359.95 489.316 1352.95 489.316 Q1349.66 489.316 1346.38 490.045 Q1343.14 490.775 1339.74 492.314 L1339.74 461.932 Z\" fill=\"#000000\" fill-rule=\"nonzero\" fill-opacity=\"1\" /><path clip-path=\"url(#clip890)\" d=\"M1417.23 489.802 Q1423.11 491.058 1426.39 495.028 Q1429.71 498.998 1429.71 504.831 Q1429.71 513.784 1423.55 518.685 Q1417.4 523.587 1406.05 523.587 Q1402.25 523.587 1398.19 522.817 Q1394.18 522.088 1389.89 520.589 L1389.89 512.69 Q1393.29 514.675 1397.34 515.688 Q1401.39 516.7 1405.81 516.7 Q1413.51 516.7 1417.52 513.662 Q1421.57 510.624 1421.57 504.831 Q1421.57 499.484 1417.8 496.486 Q1414.07 493.448 1407.39 493.448 L1400.34 493.448 L1400.34 486.724 L1407.71 486.724 Q1413.75 486.724 1416.95 484.334 Q1420.15 481.903 1420.15 477.366 Q1420.15 472.707 1416.83 470.236 Q1413.55 467.725 1407.39 467.725 Q1404.03 467.725 1400.18 468.454 Q1396.33 469.183 1391.71 470.723 L1391.71 463.431 Q1396.37 462.135 1400.42 461.486 Q1404.51 460.838 1408.12 460.838 Q1417.44 460.838 1422.86 465.092 Q1428.29 469.305 1428.29 476.515 Q1428.29 481.538 1425.42 485.022 Q1422.54 488.466 1417.23 489.802 Z\" fill=\"#000000\" fill-rule=\"nonzero\" fill-opacity=\"1\" /><path clip-path=\"url(#clip890)\" d=\"M1640.71 461.932 L1672.84 461.932 L1672.84 468.819 L1648.21 468.819 L1648.21 483.645 Q1649.99 483.037 1651.77 482.754 Q1653.55 482.43 1655.34 482.43 Q1665.46 482.43 1671.38 487.979 Q1677.29 493.529 1677.29 503.008 Q1677.29 512.771 1671.22 518.199 Q1665.14 523.587 1654.08 523.587 Q1650.27 523.587 1646.3 522.939 Q1642.37 522.291 1638.16 520.994 L1638.16 512.771 Q1641.81 514.756 1645.69 515.728 Q1649.58 516.7 1653.92 516.7 Q1660.93 516.7 1665.02 513.014 Q1669.11 509.328 1669.11 503.008 Q1669.11 496.689 1665.02 493.003 Q1660.93 489.316 1653.92 489.316 Q1650.64 489.316 1647.36 490.045 Q1644.11 490.775 1640.71 492.314 L1640.71 461.932 Z\" fill=\"#000000\" fill-rule=\"nonzero\" fill-opacity=\"1\" /><path clip-path=\"url(#clip890)\" d=\"M1715.9 469.062 L1695.24 501.347 L1715.9 501.347 L1715.9 469.062 M1713.75 461.932 L1724.04 461.932 L1724.04 501.347 L1732.67 501.347 L1732.67 508.153 L1724.04 508.153 L1724.04 522.412 L1715.9 522.412 L1715.9 508.153 L1688.59 508.153 L1688.59 500.254 L1713.75 461.932 Z\" fill=\"#000000\" fill-rule=\"nonzero\" fill-opacity=\"1\" /><path clip-path=\"url(#clip890)\" d=\"M1943.97 461.932 L1976.1 461.932 L1976.1 468.819 L1951.47 468.819 L1951.47 483.645 Q1953.25 483.037 1955.03 482.754 Q1956.81 482.43 1958.6 482.43 Q1968.72 482.43 1974.64 487.979 Q1980.55 493.529 1980.55 503.008 Q1980.55 512.771 1974.48 518.199 Q1968.4 523.587 1957.34 523.587 Q1953.53 523.587 1949.56 522.939 Q1945.63 522.291 1941.42 520.994 L1941.42 512.771 Q1945.07 514.756 1948.96 515.728 Q1952.84 516.7 1957.18 516.7 Q1964.19 516.7 1968.28 513.014 Q1972.37 509.328 1972.37 503.008 Q1972.37 496.689 1968.28 493.003 Q1964.19 489.316 1957.18 489.316 Q1953.9 489.316 1950.62 490.045 Q1947.38 490.775 1943.97 492.314 L1943.97 461.932 Z\" fill=\"#000000\" fill-rule=\"nonzero\" fill-opacity=\"1\" /><path clip-path=\"url(#clip890)\" d=\"M1996.76 461.932 L2028.88 461.932 L2028.88 468.819 L2004.25 468.819 L2004.25 483.645 Q2006.03 483.037 2007.82 482.754 Q2009.6 482.43 2011.38 482.43 Q2021.51 482.43 2027.42 487.979 Q2033.34 493.529 2033.34 503.008 Q2033.34 512.771 2027.26 518.199 Q2021.18 523.587 2010.12 523.587 Q2006.32 523.587 2002.35 522.939 Q1998.42 522.291 1994.2 520.994 L1994.2 512.771 Q1997.85 514.756 2001.74 515.728 Q2005.63 516.7 2009.96 516.7 Q2016.97 516.7 2021.06 513.014 Q2025.15 509.328 2025.15 503.008 Q2025.15 496.689 2021.06 493.003 Q2016.97 489.316 2009.96 489.316 Q2006.68 489.316 2003.4 490.045 Q2000.16 490.775 1996.76 492.314 L1996.76 461.932 Z\" fill=\"#000000\" fill-rule=\"nonzero\" fill-opacity=\"1\" /><path clip-path=\"url(#clip890)\" d=\"M2244.93 461.932 L2277.05 461.932 L2277.05 468.819 L2252.42 468.819 L2252.42 483.645 Q2254.2 483.037 2255.98 482.754 Q2257.77 482.43 2259.55 482.43 Q2269.68 482.43 2275.59 487.979 Q2281.5 493.529 2281.5 503.008 Q2281.5 512.771 2275.43 518.199 Q2269.35 523.587 2258.29 523.587 Q2254.49 523.587 2250.52 522.939 Q2246.59 522.291 2242.37 520.994 L2242.37 512.771 Q2246.02 514.756 2249.91 515.728 Q2253.8 516.7 2258.13 516.7 Q2265.14 516.7 2269.23 513.014 Q2273.32 509.328 2273.32 503.008 Q2273.32 496.689 2269.23 493.003 Q2265.14 489.316 2258.13 489.316 Q2254.85 489.316 2251.57 490.045 Q2248.33 490.775 2244.93 492.314 L2244.93 461.932 Z\" fill=\"#000000\" fill-rule=\"nonzero\" fill-opacity=\"1\" /><path clip-path=\"url(#clip890)\" d=\"M2316.14 488.911 Q2310.63 488.911 2307.39 492.678 Q2304.19 496.446 2304.19 503.008 Q2304.19 509.53 2307.39 513.338 Q2310.63 517.105 2316.14 517.105 Q2321.65 517.105 2324.85 513.338 Q2328.09 509.53 2328.09 503.008 Q2328.09 496.446 2324.85 492.678 Q2321.65 488.911 2316.14 488.911 M2332.38 463.269 L2332.38 470.723 Q2329.31 469.264 2326.15 468.495 Q2323.03 467.725 2319.95 467.725 Q2311.85 467.725 2307.55 473.194 Q2303.3 478.662 2302.69 489.721 Q2305.08 486.197 2308.69 484.334 Q2312.29 482.43 2316.63 482.43 Q2325.74 482.43 2331.01 487.979 Q2336.31 493.489 2336.31 503.008 Q2336.31 512.325 2330.8 517.956 Q2325.3 523.587 2316.14 523.587 Q2305.65 523.587 2300.1 515.566 Q2294.55 507.505 2294.55 492.233 Q2294.55 477.893 2301.35 469.386 Q2308.16 460.838 2319.62 460.838 Q2322.7 460.838 2325.82 461.446 Q2328.98 462.054 2332.38 463.269 Z\" fill=\"#000000\" fill-rule=\"nonzero\" fill-opacity=\"1\" /><path clip-path=\"url(#clip890)\" d=\"M132.103 311.072 L164.227 311.072 L164.227 317.959 L139.597 317.959 L139.597 332.785 Q141.38 332.177 143.162 331.894 Q144.945 331.57 146.727 331.57 Q156.854 331.57 162.769 337.119 Q168.683 342.669 168.683 352.148 Q168.683 361.911 162.607 367.339 Q156.53 372.727 145.471 372.727 Q141.663 372.727 137.694 372.079 Q133.764 371.431 129.551 370.134 L129.551 361.911 Q133.197 363.896 137.086 364.868 Q140.975 365.84 145.309 365.84 Q152.317 365.84 156.409 362.154 Q160.5 358.468 160.5 352.148 Q160.5 345.829 156.409 342.143 Q152.317 338.456 145.309 338.456 Q142.028 338.456 138.747 339.185 Q135.506 339.915 132.103 341.454 L132.103 311.072 Z\" fill=\"#000000\" fill-rule=\"nonzero\" fill-opacity=\"1\" /><path clip-path=\"url(#clip890)\" d=\"M182.74 311.072 L221.628 311.072 L221.628 314.556 L199.672 371.552 L191.125 371.552 L211.785 317.959 L182.74 317.959 L182.74 311.072 Z\" fill=\"#000000\" fill-rule=\"nonzero\" fill-opacity=\"1\" /><path clip-path=\"url(#clip890)\" d=\"M433.359 311.072 L465.483 311.072 L465.483 317.959 L440.853 317.959 L440.853 332.785 Q442.636 332.177 444.418 331.894 Q446.201 331.57 447.983 331.57 Q458.11 331.57 464.025 337.119 Q469.939 342.669 469.939 352.148 Q469.939 361.911 463.863 367.339 Q457.786 372.727 446.727 372.727 Q442.919 372.727 438.949 372.079 Q435.02 371.431 430.807 370.134 L430.807 361.911 Q434.453 363.896 438.342 364.868 Q442.231 365.84 446.565 365.84 Q453.573 365.84 457.665 362.154 Q461.756 358.468 461.756 352.148 Q461.756 345.829 457.665 342.143 Q453.573 338.456 446.565 338.456 Q443.284 338.456 440.003 339.185 Q436.762 339.915 433.359 341.454 L433.359 311.072 Z\" fill=\"#000000\" fill-rule=\"nonzero\" fill-opacity=\"1\" /><path clip-path=\"url(#clip890)\" d=\"M503.561 342.831 Q497.728 342.831 494.366 345.95 Q491.044 349.07 491.044 354.538 Q491.044 360.007 494.366 363.126 Q497.728 366.245 503.561 366.245 Q509.395 366.245 512.757 363.126 Q516.119 359.967 516.119 354.538 Q516.119 349.07 512.757 345.95 Q509.435 342.831 503.561 342.831 M495.379 339.347 Q490.112 338.051 487.155 334.446 Q484.239 330.841 484.239 325.655 Q484.239 318.404 489.383 314.191 Q494.568 309.978 503.561 309.978 Q512.595 309.978 517.74 314.191 Q522.884 318.404 522.884 325.655 Q522.884 330.841 519.927 334.446 Q517.01 338.051 511.785 339.347 Q517.699 340.725 520.98 344.735 Q524.302 348.746 524.302 354.538 Q524.302 363.329 518.914 368.028 Q513.567 372.727 503.561 372.727 Q493.556 372.727 488.168 368.028 Q482.821 363.329 482.821 354.538 Q482.821 348.746 486.142 344.735 Q489.464 340.725 495.379 339.347 M492.381 326.425 Q492.381 331.124 495.298 333.757 Q498.255 336.39 503.561 336.39 Q508.828 336.39 511.785 333.757 Q514.782 331.124 514.782 326.425 Q514.782 321.726 511.785 319.093 Q508.828 316.46 503.561 316.46 Q498.255 316.46 495.298 319.093 Q492.381 321.726 492.381 326.425 Z\" fill=\"#000000\" fill-rule=\"nonzero\" fill-opacity=\"1\" /><path clip-path=\"url(#clip890)\" d=\"M735.405 311.072 L767.529 311.072 L767.529 317.959 L742.899 317.959 L742.899 332.785 Q744.682 332.177 746.464 331.894 Q748.246 331.57 750.029 331.57 Q760.156 331.57 766.07 337.119 Q771.985 342.669 771.985 352.148 Q771.985 361.911 765.908 367.339 Q759.832 372.727 748.773 372.727 Q744.965 372.727 740.995 372.079 Q737.066 371.431 732.853 370.134 L732.853 361.911 Q736.499 363.896 740.388 364.868 Q744.276 365.84 748.611 365.84 Q755.619 365.84 759.71 362.154 Q763.802 358.468 763.802 352.148 Q763.802 345.829 759.71 342.143 Q755.619 338.456 748.611 338.456 Q745.33 338.456 742.048 339.185 Q738.808 339.915 735.405 341.454 L735.405 311.072 Z\" fill=\"#000000\" fill-rule=\"nonzero\" fill-opacity=\"1\" /><path clip-path=\"url(#clip890)\" d=\"M788.35 370.296 L788.35 362.843 Q791.429 364.301 794.589 365.071 Q797.748 365.84 800.787 365.84 Q808.888 365.84 813.142 360.412 Q817.436 354.943 818.043 343.844 Q815.694 347.328 812.089 349.191 Q808.483 351.055 804.108 351.055 Q795.034 351.055 789.728 345.586 Q784.461 340.077 784.461 330.557 Q784.461 321.24 789.971 315.609 Q795.48 309.978 804.635 309.978 Q815.127 309.978 820.636 318.04 Q826.186 326.06 826.186 341.373 Q826.186 355.673 819.38 364.22 Q812.615 372.727 801.151 372.727 Q798.072 372.727 794.913 372.119 Q791.753 371.512 788.35 370.296 M804.635 344.654 Q810.144 344.654 813.344 340.887 Q816.585 337.119 816.585 330.557 Q816.585 324.035 813.344 320.268 Q810.144 316.46 804.635 316.46 Q799.126 316.46 795.885 320.268 Q792.685 324.035 792.685 330.557 Q792.685 337.119 795.885 340.887 Q799.126 344.654 804.635 344.654 Z\" fill=\"#000000\" fill-rule=\"nonzero\" fill-opacity=\"1\" /><path clip-path=\"url(#clip890)\" d=\"M1055.94 338.051 Q1050.43 338.051 1047.19 341.819 Q1043.99 345.586 1043.99 352.148 Q1043.99 358.67 1047.19 362.478 Q1050.43 366.245 1055.94 366.245 Q1061.45 366.245 1064.65 362.478 Q1067.89 358.67 1067.89 352.148 Q1067.89 345.586 1064.65 341.819 Q1061.45 338.051 1055.94 338.051 M1072.19 312.409 L1072.19 319.863 Q1069.11 318.404 1065.95 317.635 Q1062.83 316.865 1059.75 316.865 Q1051.65 316.865 1047.36 322.334 Q1043.1 327.802 1042.49 338.861 Q1044.88 335.337 1048.49 333.474 Q1052.09 331.57 1056.43 331.57 Q1065.54 331.57 1070.81 337.119 Q1076.12 342.629 1076.12 352.148 Q1076.12 361.465 1070.61 367.096 Q1065.1 372.727 1055.94 372.727 Q1045.45 372.727 1039.9 364.706 Q1034.35 356.645 1034.35 341.373 Q1034.35 327.033 1041.16 318.526 Q1047.96 309.978 1059.43 309.978 Q1062.51 309.978 1065.62 310.586 Q1068.78 311.194 1072.19 312.409 Z\" fill=\"#000000\" fill-rule=\"nonzero\" fill-opacity=\"1\" /><path clip-path=\"url(#clip890)\" d=\"M1107.71 316.46 Q1101.39 316.46 1098.19 322.698 Q1095.03 328.896 1095.03 341.373 Q1095.03 353.809 1098.19 360.048 Q1101.39 366.245 1107.71 366.245 Q1114.07 366.245 1117.23 360.048 Q1120.43 353.809 1120.43 341.373 Q1120.43 328.896 1117.23 322.698 Q1114.07 316.46 1107.71 316.46 M1107.71 309.978 Q1117.88 309.978 1123.23 318.04 Q1128.62 326.06 1128.62 341.373 Q1128.62 356.645 1123.23 364.706 Q1117.88 372.727 1107.71 372.727 Q1097.55 372.727 1092.16 364.706 Q1086.81 356.645 1086.81 341.373 Q1086.81 326.06 1092.16 318.04 Q1097.55 309.978 1107.71 309.978 Z\" fill=\"#000000\" fill-rule=\"nonzero\" fill-opacity=\"1\" /><path clip-path=\"url(#clip890)\" d=\"M1358.98 338.051 Q1353.47 338.051 1350.23 341.819 Q1347.03 345.586 1347.03 352.148 Q1347.03 358.67 1350.23 362.478 Q1353.47 366.245 1358.98 366.245 Q1364.49 366.245 1367.69 362.478 Q1370.93 358.67 1370.93 352.148 Q1370.93 345.586 1367.69 341.819 Q1364.49 338.051 1358.98 338.051 M1375.23 312.409 L1375.23 319.863 Q1372.15 318.404 1368.99 317.635 Q1365.87 316.865 1362.79 316.865 Q1354.69 316.865 1350.39 322.334 Q1346.14 327.802 1345.53 338.861 Q1347.92 335.337 1351.53 333.474 Q1355.13 331.57 1359.47 331.57 Q1368.58 331.57 1373.85 337.119 Q1379.15 342.629 1379.15 352.148 Q1379.15 361.465 1373.65 367.096 Q1368.14 372.727 1358.98 372.727 Q1348.49 372.727 1342.94 364.706 Q1337.39 356.645 1337.39 341.373 Q1337.39 327.033 1344.2 318.526 Q1351 309.978 1362.47 309.978 Q1365.54 309.978 1368.66 310.586 Q1371.82 311.194 1375.23 312.409 Z\" fill=\"#000000\" fill-rule=\"nonzero\" fill-opacity=\"1\" /><path clip-path=\"url(#clip890)\" d=\"M1394.67 364.666 L1408.04 364.666 L1408.04 318.526 L1393.5 321.442 L1393.5 313.989 L1407.96 311.072 L1416.14 311.072 L1416.14 364.666 L1429.51 364.666 L1429.51 371.552 L1394.67 371.552 L1394.67 364.666 Z\" fill=\"#000000\" fill-rule=\"nonzero\" fill-opacity=\"1\" /><path clip-path=\"url(#clip890)\" d=\"M1661.27 338.051 Q1655.76 338.051 1652.52 341.819 Q1649.32 345.586 1649.32 352.148 Q1649.32 358.67 1652.52 362.478 Q1655.76 366.245 1661.27 366.245 Q1666.78 366.245 1669.98 362.478 Q1673.22 358.67 1673.22 352.148 Q1673.22 345.586 1669.98 341.819 Q1666.78 338.051 1661.27 338.051 M1677.51 312.409 L1677.51 319.863 Q1674.44 318.404 1671.28 317.635 Q1668.16 316.865 1665.08 316.865 Q1656.98 316.865 1652.68 322.334 Q1648.43 327.802 1647.82 338.861 Q1650.21 335.337 1653.82 333.474 Q1657.42 331.57 1661.76 331.57 Q1670.87 331.57 1676.14 337.119 Q1681.44 342.629 1681.44 352.148 Q1681.44 361.465 1675.93 367.096 Q1670.43 372.727 1661.27 372.727 Q1650.78 372.727 1645.23 364.706 Q1639.68 356.645 1639.68 341.373 Q1639.68 327.033 1646.48 318.526 Q1653.29 309.978 1664.75 309.978 Q1667.83 309.978 1670.95 310.586 Q1674.11 311.194 1677.51 312.409 Z\" fill=\"#000000\" fill-rule=\"nonzero\" fill-opacity=\"1\" /><path clip-path=\"url(#clip890)\" d=\"M1702.59 364.666 L1731.15 364.666 L1731.15 371.552 L1692.75 371.552 L1692.75 364.666 Q1697.4 359.845 1705.43 351.743 Q1713.49 343.601 1715.55 341.251 Q1719.48 336.836 1721.02 333.798 Q1722.6 330.719 1722.6 327.762 Q1722.6 322.941 1719.2 319.903 Q1715.84 316.865 1710.41 316.865 Q1706.56 316.865 1702.27 318.202 Q1698.01 319.539 1693.15 322.253 L1693.15 313.989 Q1698.09 312.004 1702.39 310.991 Q1706.68 309.978 1710.25 309.978 Q1719.64 309.978 1725.23 314.677 Q1730.82 319.377 1730.82 327.235 Q1730.82 330.962 1729.41 334.324 Q1728.03 337.646 1724.34 342.183 Q1723.33 343.358 1717.9 348.989 Q1712.47 354.579 1702.59 364.666 Z\" fill=\"#000000\" fill-rule=\"nonzero\" fill-opacity=\"1\" /><path clip-path=\"url(#clip890)\" d=\"M1962.4 338.051 Q1956.9 338.051 1953.65 341.819 Q1950.45 345.586 1950.45 352.148 Q1950.45 358.67 1953.65 362.478 Q1956.9 366.245 1962.4 366.245 Q1967.91 366.245 1971.11 362.478 Q1974.35 358.67 1974.35 352.148 Q1974.35 345.586 1971.11 341.819 Q1967.91 338.051 1962.4 338.051 M1978.65 312.409 L1978.65 319.863 Q1975.57 318.404 1972.41 317.635 Q1969.29 316.865 1966.21 316.865 Q1958.11 316.865 1953.82 322.334 Q1949.56 327.802 1948.96 338.861 Q1951.35 335.337 1954.95 333.474 Q1958.56 331.57 1962.89 331.57 Q1972.01 331.57 1977.27 337.119 Q1982.58 342.629 1982.58 352.148 Q1982.58 361.465 1977.07 367.096 Q1971.56 372.727 1962.4 372.727 Q1951.91 372.727 1946.36 364.706 Q1940.81 356.645 1940.81 341.373 Q1940.81 327.033 1947.62 318.526 Q1954.42 309.978 1965.89 309.978 Q1968.97 309.978 1972.09 310.586 Q1975.25 311.194 1978.65 312.409 Z\" fill=\"#000000\" fill-rule=\"nonzero\" fill-opacity=\"1\" /><path clip-path=\"url(#clip890)\" d=\"M2021.47 338.942 Q2027.34 340.198 2030.62 344.168 Q2033.94 348.138 2033.94 353.971 Q2033.94 362.924 2027.79 367.825 Q2021.63 372.727 2010.29 372.727 Q2006.48 372.727 2002.43 371.957 Q1998.42 371.228 1994.12 369.729 L1994.12 361.83 Q1997.53 363.815 2001.58 364.828 Q2005.63 365.84 2010.04 365.84 Q2017.74 365.84 2021.75 362.802 Q2025.8 359.764 2025.8 353.971 Q2025.8 348.624 2022.03 345.626 Q2018.31 342.588 2011.62 342.588 L2004.57 342.588 L2004.57 335.864 L2011.95 335.864 Q2017.98 335.864 2021.18 333.474 Q2024.38 331.043 2024.38 326.506 Q2024.38 321.848 2021.06 319.377 Q2017.78 316.865 2011.62 316.865 Q2008.26 316.865 2004.41 317.594 Q2000.56 318.323 1995.95 319.863 L1995.95 312.571 Q2000.6 311.275 2004.66 310.627 Q2008.75 309.978 2012.35 309.978 Q2021.67 309.978 2027.1 314.232 Q2032.53 318.445 2032.53 325.655 Q2032.53 330.679 2029.65 334.162 Q2026.77 337.606 2021.47 338.942 Z\" fill=\"#000000\" fill-rule=\"nonzero\" fill-opacity=\"1\" /><path clip-path=\"url(#clip890)\" d=\"M2263.38 338.051 Q2257.87 338.051 2254.63 341.819 Q2251.43 345.586 2251.43 352.148 Q2251.43 358.67 2254.63 362.478 Q2257.87 366.245 2263.38 366.245 Q2268.89 366.245 2272.09 362.478 Q2275.33 358.67 2275.33 352.148 Q2275.33 345.586 2272.09 341.819 Q2268.89 338.051 2263.38 338.051 M2279.62 312.409 L2279.62 319.863 Q2276.54 318.404 2273.38 317.635 Q2270.26 316.865 2267.18 316.865 Q2259.08 316.865 2254.79 322.334 Q2250.54 327.802 2249.93 338.861 Q2252.32 335.337 2255.92 333.474 Q2259.53 331.57 2263.86 331.57 Q2272.98 331.57 2278.24 337.119 Q2283.55 342.629 2283.55 352.148 Q2283.55 361.465 2278.04 367.096 Q2272.53 372.727 2263.38 372.727 Q2252.89 372.727 2247.34 364.706 Q2241.79 356.645 2241.79 341.373 Q2241.79 327.033 2248.59 318.526 Q2255.4 309.978 2266.86 309.978 Q2269.94 309.978 2273.06 310.586 Q2276.22 311.194 2279.62 312.409 Z\" fill=\"#000000\" fill-rule=\"nonzero\" fill-opacity=\"1\" /><path clip-path=\"url(#clip890)\" d=\"M2320.13 318.202 L2299.47 350.487 L2320.13 350.487 L2320.13 318.202 M2317.98 311.072 L2328.27 311.072 L2328.27 350.487 L2336.9 350.487 L2336.9 357.293 L2328.27 357.293 L2328.27 371.552 L2320.13 371.552 L2320.13 357.293 L2292.83 357.293 L2292.83 349.394 L2317.98 311.072 Z\" fill=\"#000000\" fill-rule=\"nonzero\" fill-opacity=\"1\" /><path clip-path=\"url(#clip890)\" d=\"M150.92 187.191 Q145.411 187.191 142.17 190.959 Q138.97 194.726 138.97 201.288 Q138.97 207.81 142.17 211.618 Q145.411 215.386 150.92 215.386 Q156.429 215.386 159.629 211.618 Q162.87 207.81 162.87 201.288 Q162.87 194.726 159.629 190.959 Q156.429 187.191 150.92 187.191 M167.164 161.549 L167.164 169.003 Q164.085 167.544 160.926 166.775 Q157.806 166.005 154.728 166.005 Q146.626 166.005 142.332 171.474 Q138.078 176.942 137.471 188.001 Q139.861 184.477 143.466 182.614 Q147.071 180.71 151.406 180.71 Q160.52 180.71 165.787 186.26 Q171.093 191.769 171.093 201.288 Q171.093 210.605 165.584 216.236 Q160.075 221.867 150.92 221.867 Q140.428 221.867 134.878 213.846 Q129.328 205.785 129.328 190.513 Q129.328 176.173 136.134 167.666 Q142.939 159.118 154.404 159.118 Q157.482 159.118 160.601 159.726 Q163.761 160.334 167.164 161.549 Z\" fill=\"#000000\" fill-rule=\"nonzero\" fill-opacity=\"1\" /><path clip-path=\"url(#clip890)\" d=\"M185.271 160.212 L217.395 160.212 L217.395 167.099 L192.766 167.099 L192.766 181.925 Q194.548 181.317 196.33 181.034 Q198.113 180.71 199.895 180.71 Q210.022 180.71 215.937 186.26 Q221.851 191.809 221.851 201.288 Q221.851 211.051 215.775 216.479 Q209.698 221.867 198.639 221.867 Q194.832 221.867 190.862 221.219 Q186.932 220.571 182.719 219.274 L182.719 211.051 Q186.365 213.036 190.254 214.008 Q194.143 214.98 198.477 214.98 Q205.485 214.98 209.577 211.294 Q213.668 207.608 213.668 201.288 Q213.668 194.969 209.577 191.283 Q205.485 187.596 198.477 187.596 Q195.196 187.596 191.915 188.325 Q188.674 189.055 185.271 190.594 L185.271 160.212 Z\" fill=\"#000000\" fill-rule=\"nonzero\" fill-opacity=\"1\" /><path clip-path=\"url(#clip890)\" d=\"M451.872 187.191 Q446.363 187.191 443.122 190.959 Q439.922 194.726 439.922 201.288 Q439.922 207.81 443.122 211.618 Q446.363 215.386 451.872 215.386 Q457.381 215.386 460.581 211.618 Q463.822 207.81 463.822 201.288 Q463.822 194.726 460.581 190.959 Q457.381 187.191 451.872 187.191 M468.116 161.549 L468.116 169.003 Q465.037 167.544 461.878 166.775 Q458.758 166.005 455.68 166.005 Q447.578 166.005 443.284 171.474 Q439.03 176.942 438.423 188.001 Q440.813 184.477 444.418 182.614 Q448.023 180.71 452.358 180.71 Q461.472 180.71 466.739 186.26 Q472.045 191.769 472.045 201.288 Q472.045 210.605 466.536 216.236 Q461.027 221.867 451.872 221.867 Q441.38 221.867 435.83 213.846 Q430.281 205.785 430.281 190.513 Q430.281 176.173 437.086 167.666 Q443.892 159.118 455.356 159.118 Q458.434 159.118 461.553 159.726 Q464.713 160.334 468.116 161.549 Z\" fill=\"#000000\" fill-rule=\"nonzero\" fill-opacity=\"1\" /><path clip-path=\"url(#clip890)\" d=\"M504.655 187.191 Q499.146 187.191 495.905 190.959 Q492.705 194.726 492.705 201.288 Q492.705 207.81 495.905 211.618 Q499.146 215.386 504.655 215.386 Q510.164 215.386 513.365 211.618 Q516.605 207.81 516.605 201.288 Q516.605 194.726 513.365 190.959 Q510.164 187.191 504.655 187.191 M520.899 161.549 L520.899 169.003 Q517.821 167.544 514.661 166.775 Q511.542 166.005 508.463 166.005 Q500.361 166.005 496.067 171.474 Q491.814 176.942 491.206 188.001 Q493.596 184.477 497.201 182.614 Q500.807 180.71 505.141 180.71 Q514.256 180.71 519.522 186.26 Q524.829 191.769 524.829 201.288 Q524.829 210.605 519.319 216.236 Q513.81 221.867 504.655 221.867 Q494.163 221.867 488.614 213.846 Q483.064 205.785 483.064 190.513 Q483.064 176.173 489.869 167.666 Q496.675 159.118 508.139 159.118 Q511.218 159.118 514.337 159.726 Q517.496 160.334 520.899 161.549 Z\" fill=\"#000000\" fill-rule=\"nonzero\" fill-opacity=\"1\" /><path clip-path=\"url(#clip890)\" d=\"M754.768 187.191 Q749.259 187.191 746.018 190.959 Q742.818 194.726 742.818 201.288 Q742.818 207.81 746.018 211.618 Q749.259 215.386 754.768 215.386 Q760.278 215.386 763.478 211.618 Q766.719 207.81 766.719 201.288 Q766.719 194.726 763.478 190.959 Q760.278 187.191 754.768 187.191 M771.012 161.549 L771.012 169.003 Q767.934 167.544 764.774 166.775 Q761.655 166.005 758.576 166.005 Q750.474 166.005 746.18 171.474 Q741.927 176.942 741.319 188.001 Q743.709 184.477 747.315 182.614 Q750.92 180.71 755.254 180.71 Q764.369 180.71 769.635 186.26 Q774.942 191.769 774.942 201.288 Q774.942 210.605 769.433 216.236 Q763.923 221.867 754.768 221.867 Q744.276 221.867 738.727 213.846 Q733.177 205.785 733.177 190.513 Q733.177 176.173 739.983 167.666 Q746.788 159.118 758.252 159.118 Q761.331 159.118 764.45 159.726 Q767.61 160.334 771.012 161.549 Z\" fill=\"#000000\" fill-rule=\"nonzero\" fill-opacity=\"1\" /><path clip-path=\"url(#clip890)\" d=\"M786.973 160.212 L825.862 160.212 L825.862 163.696 L803.906 220.692 L795.358 220.692 L816.018 167.099 L786.973 167.099 L786.973 160.212 Z\" fill=\"#000000\" fill-rule=\"nonzero\" fill-opacity=\"1\" /><path clip-path=\"url(#clip890)\" d=\"M1056.02 187.191 Q1050.51 187.191 1047.27 190.959 Q1044.07 194.726 1044.07 201.288 Q1044.07 207.81 1047.27 211.618 Q1050.51 215.386 1056.02 215.386 Q1061.53 215.386 1064.73 211.618 Q1067.97 207.81 1067.97 201.288 Q1067.97 194.726 1064.73 190.959 Q1061.53 187.191 1056.02 187.191 M1072.27 161.549 L1072.27 169.003 Q1069.19 167.544 1066.03 166.775 Q1062.91 166.005 1059.83 166.005 Q1051.73 166.005 1047.44 171.474 Q1043.18 176.942 1042.58 188.001 Q1044.97 184.477 1048.57 182.614 Q1052.18 180.71 1056.51 180.71 Q1065.62 180.71 1070.89 186.26 Q1076.2 191.769 1076.2 201.288 Q1076.2 210.605 1070.69 216.236 Q1065.18 221.867 1056.02 221.867 Q1045.53 221.867 1039.98 213.846 Q1034.43 205.785 1034.43 190.513 Q1034.43 176.173 1041.24 167.666 Q1048.04 159.118 1059.51 159.118 Q1062.59 159.118 1065.71 159.726 Q1068.87 160.334 1072.27 161.549 Z\" fill=\"#000000\" fill-rule=\"nonzero\" fill-opacity=\"1\" /><path clip-path=\"url(#clip890)\" d=\"M1107.79 191.971 Q1101.96 191.971 1098.6 195.09 Q1095.28 198.21 1095.28 203.678 Q1095.28 209.147 1098.6 212.266 Q1101.96 215.386 1107.79 215.386 Q1113.63 215.386 1116.99 212.266 Q1120.35 209.107 1120.35 203.678 Q1120.35 198.21 1116.99 195.09 Q1113.67 191.971 1107.79 191.971 M1099.61 188.488 Q1094.35 187.191 1091.39 183.586 Q1088.47 179.981 1088.47 174.795 Q1088.47 167.544 1093.62 163.331 Q1098.8 159.118 1107.79 159.118 Q1116.83 159.118 1121.97 163.331 Q1127.12 167.544 1127.12 174.795 Q1127.12 179.981 1124.16 183.586 Q1121.24 187.191 1116.02 188.488 Q1121.93 189.865 1125.21 193.875 Q1128.54 197.886 1128.54 203.678 Q1128.54 212.469 1123.15 217.168 Q1117.8 221.867 1107.79 221.867 Q1097.79 221.867 1092.4 217.168 Q1087.05 212.469 1087.05 203.678 Q1087.05 197.886 1090.38 193.875 Q1093.7 189.865 1099.61 188.488 M1096.61 175.565 Q1096.61 180.264 1099.53 182.897 Q1102.49 185.53 1107.79 185.53 Q1113.06 185.53 1116.02 182.897 Q1119.02 180.264 1119.02 175.565 Q1119.02 170.866 1116.02 168.233 Q1113.06 165.6 1107.79 165.6 Q1102.49 165.6 1099.53 168.233 Q1096.61 170.866 1096.61 175.565 Z\" fill=\"#000000\" fill-rule=\"nonzero\" fill-opacity=\"1\" /><path clip-path=\"url(#clip890)\" d=\"M1358.07 187.191 Q1352.56 187.191 1349.32 190.959 Q1346.12 194.726 1346.12 201.288 Q1346.12 207.81 1349.32 211.618 Q1352.56 215.386 1358.07 215.386 Q1363.58 215.386 1366.78 211.618 Q1370.02 207.81 1370.02 201.288 Q1370.02 194.726 1366.78 190.959 Q1363.58 187.191 1358.07 187.191 M1374.31 161.549 L1374.31 169.003 Q1371.24 167.544 1368.08 166.775 Q1364.96 166.005 1361.88 166.005 Q1353.78 166.005 1349.48 171.474 Q1345.23 176.942 1344.62 188.001 Q1347.01 184.477 1350.62 182.614 Q1354.22 180.71 1358.56 180.71 Q1367.67 180.71 1372.94 186.26 Q1378.24 191.769 1378.24 201.288 Q1378.24 210.605 1372.73 216.236 Q1367.23 221.867 1358.07 221.867 Q1347.58 221.867 1342.03 213.846 Q1336.48 205.785 1336.48 190.513 Q1336.48 176.173 1343.28 167.666 Q1350.09 159.118 1361.55 159.118 Q1364.63 159.118 1367.75 159.726 Q1370.91 160.334 1374.31 161.549 Z\" fill=\"#000000\" fill-rule=\"nonzero\" fill-opacity=\"1\" /><path clip-path=\"url(#clip890)\" d=\"M1392.58 219.436 L1392.58 211.983 Q1395.66 213.441 1398.82 214.211 Q1401.98 214.98 1405.02 214.98 Q1413.12 214.98 1417.38 209.552 Q1421.67 204.084 1422.28 192.984 Q1419.93 196.468 1416.32 198.331 Q1412.72 200.195 1408.34 200.195 Q1399.27 200.195 1393.96 194.726 Q1388.69 189.217 1388.69 179.697 Q1388.69 170.38 1394.2 164.749 Q1399.71 159.118 1408.87 159.118 Q1419.36 159.118 1424.87 167.18 Q1430.42 175.201 1430.42 190.513 Q1430.42 204.813 1423.61 213.36 Q1416.85 221.867 1405.38 221.867 Q1402.31 221.867 1399.15 221.259 Q1395.99 220.652 1392.58 219.436 M1408.87 193.794 Q1414.38 193.794 1417.58 190.027 Q1420.82 186.26 1420.82 179.697 Q1420.82 173.175 1417.58 169.408 Q1414.38 165.6 1408.87 165.6 Q1403.36 165.6 1400.12 169.408 Q1396.92 173.175 1396.92 179.697 Q1396.92 186.26 1400.12 190.027 Q1403.36 193.794 1408.87 193.794 Z\" fill=\"#000000\" fill-rule=\"nonzero\" fill-opacity=\"1\" /><path clip-path=\"url(#clip890)\" d=\"M1638.79 160.212 L1677.68 160.212 L1677.68 163.696 L1655.72 220.692 L1647.17 220.692 L1667.83 167.099 L1638.79 167.099 L1638.79 160.212 Z\" fill=\"#000000\" fill-rule=\"nonzero\" fill-opacity=\"1\" /><path clip-path=\"url(#clip890)\" d=\"M1711.14 165.6 Q1704.82 165.6 1701.62 171.838 Q1698.46 178.036 1698.46 190.513 Q1698.46 202.949 1701.62 209.188 Q1704.82 215.386 1711.14 215.386 Q1717.5 215.386 1720.66 209.188 Q1723.86 202.949 1723.86 190.513 Q1723.86 178.036 1720.66 171.838 Q1717.5 165.6 1711.14 165.6 M1711.14 159.118 Q1721.3 159.118 1726.65 167.18 Q1732.04 175.201 1732.04 190.513 Q1732.04 205.785 1726.65 213.846 Q1721.3 221.867 1711.14 221.867 Q1700.97 221.867 1695.58 213.846 Q1690.23 205.785 1690.23 190.513 Q1690.23 175.201 1695.58 167.18 Q1700.97 159.118 1711.14 159.118 Z\" fill=\"#000000\" fill-rule=\"nonzero\" fill-opacity=\"1\" /><path clip-path=\"url(#clip890)\" d=\"M1941.83 160.212 L1980.71 160.212 L1980.71 163.696 L1958.76 220.692 L1950.21 220.692 L1970.87 167.099 L1941.83 167.099 L1941.83 160.212 Z\" fill=\"#000000\" fill-rule=\"nonzero\" fill-opacity=\"1\" /><path clip-path=\"url(#clip890)\" d=\"M1998.09 213.806 L2011.46 213.806 L2011.46 167.666 L1996.92 170.583 L1996.92 163.129 L2011.38 160.212 L2019.56 160.212 L2019.56 213.806 L2032.93 213.806 L2032.93 220.692 L1998.09 220.692 L1998.09 213.806 Z\" fill=\"#000000\" fill-rule=\"nonzero\" fill-opacity=\"1\" /><path clip-path=\"url(#clip890)\" d=\"M2244.11 160.212 L2283 160.212 L2283 163.696 L2261.05 220.692 L2252.5 220.692 L2273.16 167.099 L2244.11 167.099 L2244.11 160.212 Z\" fill=\"#000000\" fill-rule=\"nonzero\" fill-opacity=\"1\" /><path clip-path=\"url(#clip890)\" d=\"M2306.01 213.806 L2334.57 213.806 L2334.57 220.692 L2296.17 220.692 L2296.17 213.806 Q2300.83 208.985 2308.85 200.883 Q2316.91 192.741 2318.98 190.391 Q2322.91 185.976 2324.44 182.938 Q2326.02 179.859 2326.02 176.902 Q2326.02 172.081 2322.62 169.043 Q2319.26 166.005 2313.83 166.005 Q2309.98 166.005 2305.69 167.342 Q2301.44 168.679 2296.57 171.393 L2296.57 163.129 Q2301.52 161.144 2305.81 160.131 Q2310.1 159.118 2313.67 159.118 Q2323.07 159.118 2328.66 163.818 Q2334.25 168.517 2334.25 176.375 Q2334.25 180.102 2332.83 183.464 Q2331.45 186.786 2327.77 191.323 Q2326.75 192.498 2321.33 198.129 Q2315.9 203.719 2306.01 213.806 Z\" fill=\"#000000\" fill-rule=\"nonzero\" fill-opacity=\"1\" /><path clip-path=\"url(#clip890)\" d=\"M129.531 9.35228 L168.42 9.35228 L168.42 12.8361 L146.464 69.8323 L137.916 69.8323 L158.576 16.2388 L129.531 16.2388 L129.531 9.35228 Z\" fill=\"#000000\" fill-rule=\"nonzero\" fill-opacity=\"1\" /><path clip-path=\"url(#clip890)\" d=\"M209.172 37.2225 Q215.046 38.4783 218.327 42.4482 Q221.649 46.4181 221.649 52.2514 Q221.649 61.2039 215.491 66.1054 Q209.334 71.007 197.991 71.007 Q194.183 71.007 190.133 70.2374 Q186.122 69.5082 181.828 68.0094 L181.828 60.1101 Q185.231 62.095 189.282 63.1078 Q193.333 64.1205 197.748 64.1205 Q205.445 64.1205 209.455 61.0823 Q213.506 58.0441 213.506 52.2514 Q213.506 46.9042 209.739 43.9065 Q206.012 40.8683 199.328 40.8683 L192.28 40.8683 L192.28 34.1438 L199.652 34.1438 Q205.688 34.1438 208.888 31.7538 Q212.088 29.3232 212.088 24.7862 Q212.088 20.1277 208.767 17.6566 Q205.485 15.1451 199.328 15.1451 Q195.966 15.1451 192.117 15.8742 Q188.269 16.6034 183.651 18.1427 L183.651 10.8511 Q188.31 9.55482 192.361 8.90668 Q196.452 8.25853 200.057 8.25853 Q209.374 8.25853 214.803 12.512 Q220.231 16.7249 220.231 23.9355 Q220.231 28.9587 217.355 32.4424 Q214.478 35.8857 209.172 37.2225 Z\" fill=\"#000000\" fill-rule=\"nonzero\" fill-opacity=\"1\" /><path clip-path=\"url(#clip890)\" d=\"M430.503 9.35228 L469.392 9.35228 L469.392 12.8361 L447.436 69.8323 L438.889 69.8323 L459.548 16.2388 L430.503 16.2388 L430.503 9.35228 Z\" fill=\"#000000\" fill-rule=\"nonzero\" fill-opacity=\"1\" /><path clip-path=\"url(#clip890)\" d=\"M507.835 16.4819 L487.175 48.7676 L507.835 48.7676 L507.835 16.4819 M505.688 9.35228 L515.977 9.35228 L515.977 48.7676 L524.606 48.7676 L524.606 55.5731 L515.977 55.5731 L515.977 69.8323 L507.835 69.8323 L507.835 55.5731 L480.532 55.5731 L480.532 47.6738 L505.688 9.35228 Z\" fill=\"#000000\" fill-rule=\"nonzero\" fill-opacity=\"1\" /><path clip-path=\"url(#clip890)\" d=\"M733.764 9.35228 L772.653 9.35228 L772.653 12.8361 L750.697 69.8323 L742.15 69.8323 L762.809 16.2388 L733.764 16.2388 L733.764 9.35228 Z\" fill=\"#000000\" fill-rule=\"nonzero\" fill-opacity=\"1\" /><path clip-path=\"url(#clip890)\" d=\"M788.695 9.35228 L820.818 9.35228 L820.818 16.2388 L796.189 16.2388 L796.189 31.0651 Q797.971 30.4575 799.754 30.1739 Q801.536 29.8499 803.318 29.8499 Q813.446 29.8499 819.36 35.3996 Q825.274 40.9493 825.274 50.4284 Q825.274 60.1911 819.198 65.6193 Q813.122 71.007 802.063 71.007 Q798.255 71.007 794.285 70.3589 Q790.356 69.7107 786.143 68.4145 L786.143 60.1911 Q789.788 62.1761 793.677 63.1483 Q797.566 64.1205 801.901 64.1205 Q808.909 64.1205 813 60.4342 Q817.091 56.7479 817.091 50.4284 Q817.091 44.109 813 40.4227 Q808.909 36.7364 801.901 36.7364 Q798.619 36.7364 795.338 37.4656 Q792.097 38.1947 788.695 39.7341 L788.695 9.35228 Z\" fill=\"#000000\" fill-rule=\"nonzero\" fill-opacity=\"1\" /><path clip-path=\"url(#clip890)\" d=\"M1034.72 9.35228 L1073.61 9.35228 L1073.61 12.8361 L1051.65 69.8323 L1043.1 69.8323 L1063.76 16.2388 L1034.72 16.2388 L1034.72 9.35228 Z\" fill=\"#000000\" fill-rule=\"nonzero\" fill-opacity=\"1\" /><path clip-path=\"url(#clip890)\" d=\"M1108.08 36.3313 Q1102.57 36.3313 1099.33 40.0986 Q1096.13 43.866 1096.13 50.4284 Q1096.13 56.9504 1099.33 60.7583 Q1102.57 64.5256 1108.08 64.5256 Q1113.59 64.5256 1116.79 60.7583 Q1120.03 56.9504 1120.03 50.4284 Q1120.03 43.866 1116.79 40.0986 Q1113.59 36.3313 1108.08 36.3313 M1124.32 10.6891 L1124.32 18.1427 Q1121.24 16.6844 1118.08 15.9147 Q1114.96 15.1451 1111.89 15.1451 Q1103.78 15.1451 1099.49 20.6138 Q1095.24 26.0825 1094.63 37.1415 Q1097.02 33.6172 1100.62 31.7538 Q1104.23 29.8499 1108.56 29.8499 Q1117.68 29.8499 1122.95 35.3996 Q1128.25 40.9088 1128.25 50.4284 Q1128.25 59.7455 1122.74 65.3763 Q1117.23 71.007 1108.08 71.007 Q1097.59 71.007 1092.04 62.9862 Q1086.49 54.9249 1086.49 39.653 Q1086.49 25.3128 1093.29 16.8059 Q1100.1 8.25853 1111.56 8.25853 Q1114.64 8.25853 1117.76 8.86617 Q1120.92 9.4738 1124.32 10.6891 Z\" fill=\"#000000\" fill-rule=\"nonzero\" fill-opacity=\"1\" /><path clip-path=\"url(#clip890)\" d=\"M1337.61 9.35228 L1376.5 9.35228 L1376.5 12.8361 L1354.55 69.8323 L1346 69.8323 L1366.66 16.2388 L1337.61 16.2388 L1337.61 9.35228 Z\" fill=\"#000000\" fill-rule=\"nonzero\" fill-opacity=\"1\" /><path clip-path=\"url(#clip890)\" d=\"M1390.4 9.35228 L1429.28 9.35228 L1429.28 12.8361 L1407.33 69.8323 L1398.78 69.8323 L1419.44 16.2388 L1390.4 16.2388 L1390.4 9.35228 Z\" fill=\"#000000\" fill-rule=\"nonzero\" fill-opacity=\"1\" /><path clip-path=\"url(#clip890)\" d=\"M1638.87 9.35228 L1677.76 9.35228 L1677.76 12.8361 L1655.8 69.8323 L1647.25 69.8323 L1667.91 16.2388 L1638.87 16.2388 L1638.87 9.35228 Z\" fill=\"#000000\" fill-rule=\"nonzero\" fill-opacity=\"1\" /><path clip-path=\"url(#clip890)\" d=\"M1711.22 41.1114 Q1705.38 41.1114 1702.02 44.2306 Q1698.7 47.3498 1698.7 52.8185 Q1698.7 58.2872 1702.02 61.4064 Q1705.38 64.5256 1711.22 64.5256 Q1717.05 64.5256 1720.41 61.4064 Q1723.78 58.2467 1723.78 52.8185 Q1723.78 47.3498 1720.41 44.2306 Q1717.09 41.1114 1711.22 41.1114 M1703.04 37.6276 Q1697.77 36.3313 1694.81 32.726 Q1691.9 29.1207 1691.9 23.9355 Q1691.9 16.6844 1697.04 12.4715 Q1702.22 8.25853 1711.22 8.25853 Q1720.25 8.25853 1725.4 12.4715 Q1730.54 16.6844 1730.54 23.9355 Q1730.54 29.1207 1727.58 32.726 Q1724.67 36.3313 1719.44 37.6276 Q1725.36 39.0049 1728.64 43.0153 Q1731.96 47.0257 1731.96 52.8185 Q1731.96 61.6089 1726.57 66.308 Q1721.22 71.007 1711.22 71.007 Q1701.21 71.007 1695.82 66.308 Q1690.48 61.6089 1690.48 52.8185 Q1690.48 47.0257 1693.8 43.0153 Q1697.12 39.0049 1703.04 37.6276 M1700.04 24.7052 Q1700.04 29.4043 1702.95 32.0373 Q1705.91 34.6704 1711.22 34.6704 Q1716.48 34.6704 1719.44 32.0373 Q1722.44 29.4043 1722.44 24.7052 Q1722.44 20.0062 1719.44 17.3731 Q1716.48 14.74 1711.22 14.74 Q1705.91 14.74 1702.95 17.3731 Q1700.04 20.0062 1700.04 24.7052 Z\" fill=\"#000000\" fill-rule=\"nonzero\" fill-opacity=\"1\" /><path clip-path=\"url(#clip890)\" d=\"M1940.91 9.35228 L1979.8 9.35228 L1979.8 12.8361 L1957.85 69.8323 L1949.3 69.8323 L1969.96 16.2388 L1940.91 16.2388 L1940.91 9.35228 Z\" fill=\"#000000\" fill-rule=\"nonzero\" fill-opacity=\"1\" /><path clip-path=\"url(#clip890)\" d=\"M1996.01 68.5765 L1996.01 61.1228 Q1999.09 62.5812 2002.25 63.3508 Q2005.41 64.1205 2008.44 64.1205 Q2016.55 64.1205 2020.8 58.6923 Q2025.09 53.2236 2025.7 42.1241 Q2023.35 45.6079 2019.75 47.4713 Q2016.14 49.3347 2011.76 49.3347 Q2002.69 49.3347 1997.38 43.866 Q1992.12 38.3568 1992.12 28.8371 Q1992.12 19.52 1997.63 13.8893 Q2003.14 8.25853 2012.29 8.25853 Q2022.78 8.25853 2028.29 16.3198 Q2033.84 24.3406 2033.84 39.653 Q2033.84 53.9527 2027.04 62.5001 Q2020.27 71.007 2008.81 71.007 Q2005.73 71.007 2002.57 70.3994 Q1999.41 69.7918 1996.01 68.5765 M2012.29 42.9343 Q2017.8 42.9343 2021 39.1669 Q2024.24 35.3996 2024.24 28.8371 Q2024.24 22.3152 2021 18.5478 Q2017.8 14.74 2012.29 14.74 Q2006.78 14.74 2003.54 18.5478 Q2000.34 22.3152 2000.34 28.8371 Q2000.34 35.3996 2003.54 39.1669 Q2006.78 42.9343 2012.29 42.9343 Z\" fill=\"#000000\" fill-rule=\"nonzero\" fill-opacity=\"1\" /><path clip-path=\"url(#clip890)\" d=\"M2262.87 41.1114 Q2257.04 41.1114 2253.68 44.2306 Q2250.35 47.3498 2250.35 52.8185 Q2250.35 58.2872 2253.68 61.4064 Q2257.04 64.5256 2262.87 64.5256 Q2268.7 64.5256 2272.07 61.4064 Q2275.43 58.2467 2275.43 52.8185 Q2275.43 47.3498 2272.07 44.2306 Q2268.74 41.1114 2262.87 41.1114 M2254.69 37.6276 Q2249.42 36.3313 2246.46 32.726 Q2243.55 29.1207 2243.55 23.9355 Q2243.55 16.6844 2248.69 12.4715 Q2253.88 8.25853 2262.87 8.25853 Q2271.9 8.25853 2277.05 12.4715 Q2282.19 16.6844 2282.19 23.9355 Q2282.19 29.1207 2279.24 32.726 Q2276.32 36.3313 2271.09 37.6276 Q2277.01 39.0049 2280.29 43.0153 Q2283.61 47.0257 2283.61 52.8185 Q2283.61 61.6089 2278.22 66.308 Q2272.88 71.007 2262.87 71.007 Q2252.86 71.007 2247.48 66.308 Q2242.13 61.6089 2242.13 52.8185 Q2242.13 47.0257 2245.45 43.0153 Q2248.77 39.0049 2254.69 37.6276 M2251.69 24.7052 Q2251.69 29.4043 2254.61 32.0373 Q2257.56 34.6704 2262.87 34.6704 Q2268.14 34.6704 2271.09 32.0373 Q2274.09 29.4043 2274.09 24.7052 Q2274.09 20.0062 2271.09 17.3731 Q2268.14 14.74 2262.87 14.74 Q2257.56 14.74 2254.61 17.3731 Q2251.69 20.0062 2251.69 24.7052 Z\" fill=\"#000000\" fill-rule=\"nonzero\" fill-opacity=\"1\" /><path clip-path=\"url(#clip890)\" d=\"M2315.65 14.74 Q2309.33 14.74 2306.13 20.9784 Q2302.97 27.1763 2302.97 39.653 Q2302.97 52.0893 2306.13 58.3277 Q2309.33 64.5256 2315.65 64.5256 Q2322.01 64.5256 2325.17 58.3277 Q2328.37 52.0893 2328.37 39.653 Q2328.37 27.1763 2325.17 20.9784 Q2322.01 14.74 2315.65 14.74 M2315.65 8.25853 Q2325.82 8.25853 2331.17 16.3198 Q2336.56 24.3406 2336.56 39.653 Q2336.56 54.9249 2331.17 62.9862 Q2325.82 71.007 2315.65 71.007 Q2305.49 71.007 2300.1 62.9862 Q2294.75 54.9249 2294.75 39.653 Q2294.75 24.3406 2300.1 16.3198 Q2305.49 8.25853 2315.65 8.25853 Z\" fill=\"#000000\" fill-rule=\"nonzero\" fill-opacity=\"1\" /></svg>\n"
      ],
      "text/html": [
       "<?xml version=\"1.0\" encoding=\"utf-8\"?>\n",
       "<svg xmlns=\"http://www.w3.org/2000/svg\" xmlns:xlink=\"http://www.w3.org/1999/xlink\" width=\"600\" height=\"400\" viewBox=\"0 0 2400 1600\">\n",
       "<defs>\n",
       "  <clipPath id=\"clip940\">\n",
       "    <rect x=\"0\" y=\"0\" width=\"2400\" height=\"1600\"/>\n",
       "  </clipPath>\n",
       "</defs>\n",
       "<path clip-path=\"url(#clip940)\" d=\"M0 1600 L2400 1600 L2400 0 L0 0  Z\" fill=\"#ffffff\" fill-rule=\"evenodd\" fill-opacity=\"1\"/>\n",
       "<defs>\n",
       "  <clipPath id=\"clip941\">\n",
       "    <rect x=\"480\" y=\"0\" width=\"1681\" height=\"1600\"/>\n",
       "  </clipPath>\n",
       "</defs>\n",
       "<path clip-path=\"url(#clip940)\" d=\"M112.177 1486.45 L2352.76 1486.45 L2352.76 47.2441 L112.177 47.2441  Z\" fill=\"#ffffff\" fill-rule=\"evenodd\" fill-opacity=\"1\"/>\n",
       "<defs>\n",
       "  <clipPath id=\"clip942\">\n",
       "    <rect x=\"112\" y=\"47\" width=\"2242\" height=\"1440\"/>\n",
       "  </clipPath>\n",
       "</defs>\n",
       "<polyline clip-path=\"url(#clip942)\" style=\"stroke:#000000; stroke-linecap:round; stroke-linejoin:round; stroke-width:2; stroke-opacity:0.1; fill:none\" points=\"175.59,1486.45 175.59,47.2441 \"/>\n",
       "<polyline clip-path=\"url(#clip942)\" style=\"stroke:#000000; stroke-linecap:round; stroke-linejoin:round; stroke-width:2; stroke-opacity:0.1; fill:none\" points=\"779.519,1486.45 779.519,47.2441 \"/>\n",
       "<polyline clip-path=\"url(#clip942)\" style=\"stroke:#000000; stroke-linecap:round; stroke-linejoin:round; stroke-width:2; stroke-opacity:0.1; fill:none\" points=\"1383.45,1486.45 1383.45,47.2441 \"/>\n",
       "<polyline clip-path=\"url(#clip942)\" style=\"stroke:#000000; stroke-linecap:round; stroke-linejoin:round; stroke-width:2; stroke-opacity:0.1; fill:none\" points=\"1987.38,1486.45 1987.38,47.2441 \"/>\n",
       "<polyline clip-path=\"url(#clip940)\" style=\"stroke:#000000; stroke-linecap:round; stroke-linejoin:round; stroke-width:4; stroke-opacity:1; fill:none\" points=\"112.177,1486.45 2352.76,1486.45 \"/>\n",
       "<polyline clip-path=\"url(#clip940)\" style=\"stroke:#000000; stroke-linecap:round; stroke-linejoin:round; stroke-width:4; stroke-opacity:1; fill:none\" points=\"175.59,1486.45 175.59,1467.55 \"/>\n",
       "<polyline clip-path=\"url(#clip940)\" style=\"stroke:#000000; stroke-linecap:round; stroke-linejoin:round; stroke-width:4; stroke-opacity:1; fill:none\" points=\"779.519,1486.45 779.519,1467.55 \"/>\n",
       "<polyline clip-path=\"url(#clip940)\" style=\"stroke:#000000; stroke-linecap:round; stroke-linejoin:round; stroke-width:4; stroke-opacity:1; fill:none\" points=\"1383.45,1486.45 1383.45,1467.55 \"/>\n",
       "<polyline clip-path=\"url(#clip940)\" style=\"stroke:#000000; stroke-linecap:round; stroke-linejoin:round; stroke-width:4; stroke-opacity:1; fill:none\" points=\"1987.38,1486.45 1987.38,1467.55 \"/>\n",
       "<path clip-path=\"url(#clip940)\" d=\"M175.59 1517.37 Q171.979 1517.37 170.15 1520.93 Q168.344 1524.47 168.344 1531.6 Q168.344 1538.71 170.15 1542.27 Q171.979 1545.82 175.59 1545.82 Q179.224 1545.82 181.03 1542.27 Q182.858 1538.71 182.858 1531.6 Q182.858 1524.47 181.03 1520.93 Q179.224 1517.37 175.59 1517.37 M175.59 1513.66 Q181.4 1513.66 184.455 1518.27 Q187.534 1522.85 187.534 1531.6 Q187.534 1540.33 184.455 1544.94 Q181.4 1549.52 175.59 1549.52 Q169.78 1549.52 166.701 1544.94 Q163.645 1540.33 163.645 1531.6 Q163.645 1522.85 166.701 1518.27 Q169.78 1513.66 175.59 1513.66 Z\" fill=\"#000000\" fill-rule=\"nonzero\" fill-opacity=\"1\" /><path clip-path=\"url(#clip940)\" d=\"M774.172 1544.91 L790.492 1544.91 L790.492 1548.85 L768.547 1548.85 L768.547 1544.91 Q771.209 1542.16 775.793 1537.53 Q780.399 1532.88 781.58 1531.53 Q783.825 1529.01 784.705 1527.27 Q785.607 1525.51 785.607 1523.82 Q785.607 1521.07 783.663 1519.33 Q781.742 1517.6 778.64 1517.6 Q776.441 1517.6 773.987 1518.36 Q771.556 1519.13 768.779 1520.68 L768.779 1515.95 Q771.603 1514.82 774.056 1514.24 Q776.51 1513.66 778.547 1513.66 Q783.917 1513.66 787.112 1516.35 Q790.306 1519.03 790.306 1523.52 Q790.306 1525.65 789.496 1527.57 Q788.709 1529.47 786.603 1532.07 Q786.024 1532.74 782.922 1535.95 Q779.82 1539.15 774.172 1544.91 Z\" fill=\"#000000\" fill-rule=\"nonzero\" fill-opacity=\"1\" /><path clip-path=\"url(#clip940)\" d=\"M1386.46 1518.36 L1374.65 1536.81 L1386.46 1536.81 L1386.46 1518.36 M1385.23 1514.29 L1391.11 1514.29 L1391.11 1536.81 L1396.04 1536.81 L1396.04 1540.7 L1391.11 1540.7 L1391.11 1548.85 L1386.46 1548.85 L1386.46 1540.7 L1370.86 1540.7 L1370.86 1536.19 L1385.23 1514.29 Z\" fill=\"#000000\" fill-rule=\"nonzero\" fill-opacity=\"1\" /><path clip-path=\"url(#clip940)\" d=\"M1987.78 1529.7 Q1984.64 1529.7 1982.78 1531.86 Q1980.95 1534.01 1980.95 1537.76 Q1980.95 1541.49 1982.78 1543.66 Q1984.64 1545.82 1987.78 1545.82 Q1990.93 1545.82 1992.76 1543.66 Q1994.61 1541.49 1994.61 1537.76 Q1994.61 1534.01 1992.76 1531.86 Q1990.93 1529.7 1987.78 1529.7 M1997.07 1515.05 L1997.07 1519.31 Q1995.31 1518.48 1993.5 1518.04 Q1991.72 1517.6 1989.96 1517.6 Q1985.33 1517.6 1982.88 1520.72 Q1980.45 1523.85 1980.1 1530.17 Q1981.46 1528.15 1983.52 1527.09 Q1985.58 1526 1988.06 1526 Q1993.27 1526 1996.28 1529.17 Q1999.31 1532.32 1999.31 1537.76 Q1999.31 1543.08 1996.16 1546.3 Q1993.02 1549.52 1987.78 1549.52 Q1981.79 1549.52 1978.62 1544.94 Q1975.45 1540.33 1975.45 1531.6 Q1975.45 1523.41 1979.33 1518.55 Q1983.22 1513.66 1989.77 1513.66 Q1991.53 1513.66 1993.32 1514.01 Q1995.12 1514.36 1997.07 1515.05 Z\" fill=\"#000000\" fill-rule=\"nonzero\" fill-opacity=\"1\" /><polyline clip-path=\"url(#clip942)\" style=\"stroke:#000000; stroke-linecap:round; stroke-linejoin:round; stroke-width:2; stroke-opacity:0.1; fill:none\" points=\"112.177,1445.72 2352.76,1445.72 \"/>\n",
       "<polyline clip-path=\"url(#clip942)\" style=\"stroke:#000000; stroke-linecap:round; stroke-linejoin:round; stroke-width:2; stroke-opacity:0.1; fill:none\" points=\"112.177,1144 2352.76,1144 \"/>\n",
       "<polyline clip-path=\"url(#clip942)\" style=\"stroke:#000000; stroke-linecap:round; stroke-linejoin:round; stroke-width:2; stroke-opacity:0.1; fill:none\" points=\"112.177,842.276 2352.76,842.276 \"/>\n",
       "<polyline clip-path=\"url(#clip942)\" style=\"stroke:#000000; stroke-linecap:round; stroke-linejoin:round; stroke-width:2; stroke-opacity:0.1; fill:none\" points=\"112.177,540.556 2352.76,540.556 \"/>\n",
       "<polyline clip-path=\"url(#clip942)\" style=\"stroke:#000000; stroke-linecap:round; stroke-linejoin:round; stroke-width:2; stroke-opacity:0.1; fill:none\" points=\"112.177,238.836 2352.76,238.836 \"/>\n",
       "<polyline clip-path=\"url(#clip940)\" style=\"stroke:#000000; stroke-linecap:round; stroke-linejoin:round; stroke-width:4; stroke-opacity:1; fill:none\" points=\"112.177,1486.45 112.177,47.2441 \"/>\n",
       "<polyline clip-path=\"url(#clip940)\" style=\"stroke:#000000; stroke-linecap:round; stroke-linejoin:round; stroke-width:4; stroke-opacity:1; fill:none\" points=\"112.177,1445.72 131.075,1445.72 \"/>\n",
       "<polyline clip-path=\"url(#clip940)\" style=\"stroke:#000000; stroke-linecap:round; stroke-linejoin:round; stroke-width:4; stroke-opacity:1; fill:none\" points=\"112.177,1144 131.075,1144 \"/>\n",
       "<polyline clip-path=\"url(#clip940)\" style=\"stroke:#000000; stroke-linecap:round; stroke-linejoin:round; stroke-width:4; stroke-opacity:1; fill:none\" points=\"112.177,842.276 131.075,842.276 \"/>\n",
       "<polyline clip-path=\"url(#clip940)\" style=\"stroke:#000000; stroke-linecap:round; stroke-linejoin:round; stroke-width:4; stroke-opacity:1; fill:none\" points=\"112.177,540.556 131.075,540.556 \"/>\n",
       "<polyline clip-path=\"url(#clip940)\" style=\"stroke:#000000; stroke-linecap:round; stroke-linejoin:round; stroke-width:4; stroke-opacity:1; fill:none\" points=\"112.177,238.836 131.075,238.836 \"/>\n",
       "<path clip-path=\"url(#clip940)\" d=\"M64.2328 1431.51 Q60.6217 1431.51 58.793 1435.08 Q56.9875 1438.62 56.9875 1445.75 Q56.9875 1452.86 58.793 1456.42 Q60.6217 1459.96 64.2328 1459.96 Q67.867 1459.96 69.6726 1456.42 Q71.5013 1452.86 71.5013 1445.75 Q71.5013 1438.62 69.6726 1435.08 Q67.867 1431.51 64.2328 1431.51 M64.2328 1427.81 Q70.0429 1427.81 73.0985 1432.42 Q76.1772 1437 76.1772 1445.75 Q76.1772 1454.48 73.0985 1459.08 Q70.0429 1463.67 64.2328 1463.67 Q58.4226 1463.67 55.344 1459.08 Q52.2884 1454.48 52.2884 1445.75 Q52.2884 1437 55.344 1432.42 Q58.4226 1427.81 64.2328 1427.81 Z\" fill=\"#000000\" fill-rule=\"nonzero\" fill-opacity=\"1\" /><path clip-path=\"url(#clip940)\" d=\"M59.8578 1157.34 L76.1772 1157.34 L76.1772 1161.28 L54.2328 1161.28 L54.2328 1157.34 Q56.8949 1154.59 61.4782 1149.96 Q66.0846 1145.3 67.2652 1143.96 Q69.5105 1141.44 70.3902 1139.7 Q71.2929 1137.94 71.2929 1136.25 Q71.2929 1133.5 69.3485 1131.76 Q67.4272 1130.03 64.3254 1130.03 Q62.1263 1130.03 59.6726 1130.79 Q57.2421 1131.55 54.4643 1133.1 L54.4643 1128.38 Q57.2884 1127.25 59.7421 1126.67 Q62.1958 1126.09 64.2328 1126.09 Q69.6031 1126.09 72.7976 1128.78 Q75.992 1131.46 75.992 1135.95 Q75.992 1138.08 75.1818 1140 Q74.3948 1141.9 72.2883 1144.49 Q71.7096 1145.16 68.6078 1148.38 Q65.5059 1151.58 59.8578 1157.34 Z\" fill=\"#000000\" fill-rule=\"nonzero\" fill-opacity=\"1\" /><path clip-path=\"url(#clip940)\" d=\"M66.5939 829.07 L54.7884 847.519 L66.5939 847.519 L66.5939 829.07 M65.367 824.996 L71.2466 824.996 L71.2466 847.519 L76.1772 847.519 L76.1772 851.408 L71.2466 851.408 L71.2466 859.556 L66.5939 859.556 L66.5939 851.408 L50.9921 851.408 L50.9921 846.894 L65.367 824.996 Z\" fill=\"#000000\" fill-rule=\"nonzero\" fill-opacity=\"1\" /><path clip-path=\"url(#clip940)\" d=\"M64.6495 538.693 Q61.5013 538.693 59.6495 540.845 Q57.8208 542.998 57.8208 546.748 Q57.8208 550.475 59.6495 552.651 Q61.5013 554.804 64.6495 554.804 Q67.7976 554.804 69.6263 552.651 Q71.4781 550.475 71.4781 546.748 Q71.4781 542.998 69.6263 540.845 Q67.7976 538.693 64.6495 538.693 M73.9318 524.04 L73.9318 528.299 Q72.1726 527.466 70.367 527.026 Q68.5846 526.586 66.8254 526.586 Q62.1958 526.586 59.7421 529.711 Q57.3115 532.836 56.9643 539.156 Q58.33 537.142 60.3902 536.077 Q62.4504 534.989 64.9272 534.989 Q70.1355 534.989 73.1448 538.16 Q76.1772 541.308 76.1772 546.748 Q76.1772 552.072 73.029 555.29 Q69.8809 558.507 64.6495 558.507 Q58.6541 558.507 55.4828 553.924 Q52.3116 549.318 52.3116 540.591 Q52.3116 532.396 56.2004 527.535 Q60.0893 522.651 66.6402 522.651 Q68.3994 522.651 70.1818 522.998 Q71.9874 523.346 73.9318 524.04 Z\" fill=\"#000000\" fill-rule=\"nonzero\" fill-opacity=\"1\" /><path clip-path=\"url(#clip940)\" d=\"M64.3254 239.704 Q60.9921 239.704 59.0708 241.487 Q57.1726 243.269 57.1726 246.394 Q57.1726 249.519 59.0708 251.301 Q60.9921 253.084 64.3254 253.084 Q67.6587 253.084 69.58 251.301 Q71.5013 249.496 71.5013 246.394 Q71.5013 243.269 69.58 241.487 Q67.6819 239.704 64.3254 239.704 M59.6495 237.714 Q56.6402 236.973 54.9504 234.913 Q53.2838 232.852 53.2838 229.89 Q53.2838 225.746 56.2236 223.339 Q59.1865 220.931 64.3254 220.931 Q69.4874 220.931 72.4272 223.339 Q75.367 225.746 75.367 229.89 Q75.367 232.852 73.6772 234.913 Q72.0105 236.973 69.0244 237.714 Q72.404 238.501 74.279 240.792 Q76.1772 243.084 76.1772 246.394 Q76.1772 251.417 73.0985 254.102 Q70.0429 256.788 64.3254 256.788 Q58.6078 256.788 55.5291 254.102 Q52.4736 251.417 52.4736 246.394 Q52.4736 243.084 54.3717 240.792 Q56.2699 238.501 59.6495 237.714 M57.9365 230.329 Q57.9365 233.014 59.6032 234.519 Q61.293 236.024 64.3254 236.024 Q67.3346 236.024 69.0244 234.519 Q70.7374 233.014 70.7374 230.329 Q70.7374 227.644 69.0244 226.14 Q67.3346 224.635 64.3254 224.635 Q61.293 224.635 59.6032 226.14 Q57.9365 227.644 57.9365 230.329 Z\" fill=\"#000000\" fill-rule=\"nonzero\" fill-opacity=\"1\" /><circle clip-path=\"url(#clip942)\" cx=\"175.59\" cy=\"1445.72\" r=\"14.4\" fill=\"#009af9\" fill-rule=\"evenodd\" fill-opacity=\"1\" stroke=\"#000000\" stroke-opacity=\"1\" stroke-width=\"3.2\"/>\n",
       "<circle clip-path=\"url(#clip942)\" cx=\"477.555\" cy=\"1445.72\" r=\"14.4\" fill=\"#009af9\" fill-rule=\"evenodd\" fill-opacity=\"1\" stroke=\"#000000\" stroke-opacity=\"1\" stroke-width=\"3.2\"/>\n",
       "<circle clip-path=\"url(#clip942)\" cx=\"779.519\" cy=\"1445.72\" r=\"14.4\" fill=\"#009af9\" fill-rule=\"evenodd\" fill-opacity=\"1\" stroke=\"#000000\" stroke-opacity=\"1\" stroke-width=\"3.2\"/>\n",
       "<circle clip-path=\"url(#clip942)\" cx=\"1081.48\" cy=\"1445.72\" r=\"14.4\" fill=\"#009af9\" fill-rule=\"evenodd\" fill-opacity=\"1\" stroke=\"#000000\" stroke-opacity=\"1\" stroke-width=\"3.2\"/>\n",
       "<circle clip-path=\"url(#clip942)\" cx=\"1383.45\" cy=\"1445.72\" r=\"14.4\" fill=\"#009af9\" fill-rule=\"evenodd\" fill-opacity=\"1\" stroke=\"#000000\" stroke-opacity=\"1\" stroke-width=\"3.2\"/>\n",
       "<circle clip-path=\"url(#clip942)\" cx=\"1685.41\" cy=\"1445.72\" r=\"14.4\" fill=\"#009af9\" fill-rule=\"evenodd\" fill-opacity=\"1\" stroke=\"#000000\" stroke-opacity=\"1\" stroke-width=\"3.2\"/>\n",
       "<circle clip-path=\"url(#clip942)\" cx=\"1987.38\" cy=\"1445.72\" r=\"14.4\" fill=\"#009af9\" fill-rule=\"evenodd\" fill-opacity=\"1\" stroke=\"#000000\" stroke-opacity=\"1\" stroke-width=\"3.2\"/>\n",
       "<circle clip-path=\"url(#clip942)\" cx=\"2289.34\" cy=\"1445.72\" r=\"14.4\" fill=\"#009af9\" fill-rule=\"evenodd\" fill-opacity=\"1\" stroke=\"#000000\" stroke-opacity=\"1\" stroke-width=\"3.2\"/>\n",
       "<circle clip-path=\"url(#clip942)\" cx=\"175.59\" cy=\"1294.86\" r=\"14.4\" fill=\"#009af9\" fill-rule=\"evenodd\" fill-opacity=\"1\" stroke=\"#000000\" stroke-opacity=\"1\" stroke-width=\"3.2\"/>\n",
       "<circle clip-path=\"url(#clip942)\" cx=\"477.555\" cy=\"1294.86\" r=\"14.4\" fill=\"#009af9\" fill-rule=\"evenodd\" fill-opacity=\"1\" stroke=\"#000000\" stroke-opacity=\"1\" stroke-width=\"3.2\"/>\n",
       "<circle clip-path=\"url(#clip942)\" cx=\"779.519\" cy=\"1294.86\" r=\"14.4\" fill=\"#009af9\" fill-rule=\"evenodd\" fill-opacity=\"1\" stroke=\"#000000\" stroke-opacity=\"1\" stroke-width=\"3.2\"/>\n",
       "<circle clip-path=\"url(#clip942)\" cx=\"1081.48\" cy=\"1294.86\" r=\"14.4\" fill=\"#009af9\" fill-rule=\"evenodd\" fill-opacity=\"1\" stroke=\"#000000\" stroke-opacity=\"1\" stroke-width=\"3.2\"/>\n",
       "<circle clip-path=\"url(#clip942)\" cx=\"1383.45\" cy=\"1294.86\" r=\"14.4\" fill=\"#009af9\" fill-rule=\"evenodd\" fill-opacity=\"1\" stroke=\"#000000\" stroke-opacity=\"1\" stroke-width=\"3.2\"/>\n",
       "<circle clip-path=\"url(#clip942)\" cx=\"1685.41\" cy=\"1294.86\" r=\"14.4\" fill=\"#009af9\" fill-rule=\"evenodd\" fill-opacity=\"1\" stroke=\"#000000\" stroke-opacity=\"1\" stroke-width=\"3.2\"/>\n",
       "<circle clip-path=\"url(#clip942)\" cx=\"1987.38\" cy=\"1294.86\" r=\"14.4\" fill=\"#009af9\" fill-rule=\"evenodd\" fill-opacity=\"1\" stroke=\"#000000\" stroke-opacity=\"1\" stroke-width=\"3.2\"/>\n",
       "<circle clip-path=\"url(#clip942)\" cx=\"2289.34\" cy=\"1294.86\" r=\"14.4\" fill=\"#009af9\" fill-rule=\"evenodd\" fill-opacity=\"1\" stroke=\"#000000\" stroke-opacity=\"1\" stroke-width=\"3.2\"/>\n",
       "<circle clip-path=\"url(#clip942)\" cx=\"175.59\" cy=\"1144\" r=\"14.4\" fill=\"#009af9\" fill-rule=\"evenodd\" fill-opacity=\"1\" stroke=\"#000000\" stroke-opacity=\"1\" stroke-width=\"3.2\"/>\n",
       "<circle clip-path=\"url(#clip942)\" cx=\"477.555\" cy=\"1144\" r=\"14.4\" fill=\"#009af9\" fill-rule=\"evenodd\" fill-opacity=\"1\" stroke=\"#000000\" stroke-opacity=\"1\" stroke-width=\"3.2\"/>\n",
       "<circle clip-path=\"url(#clip942)\" cx=\"779.519\" cy=\"1144\" r=\"14.4\" fill=\"#009af9\" fill-rule=\"evenodd\" fill-opacity=\"1\" stroke=\"#000000\" stroke-opacity=\"1\" stroke-width=\"3.2\"/>\n",
       "<circle clip-path=\"url(#clip942)\" cx=\"1081.48\" cy=\"1144\" r=\"14.4\" fill=\"#009af9\" fill-rule=\"evenodd\" fill-opacity=\"1\" stroke=\"#000000\" stroke-opacity=\"1\" stroke-width=\"3.2\"/>\n",
       "<circle clip-path=\"url(#clip942)\" cx=\"1383.45\" cy=\"1144\" r=\"14.4\" fill=\"#009af9\" fill-rule=\"evenodd\" fill-opacity=\"1\" stroke=\"#000000\" stroke-opacity=\"1\" stroke-width=\"3.2\"/>\n",
       "<circle clip-path=\"url(#clip942)\" cx=\"1685.41\" cy=\"1144\" r=\"14.4\" fill=\"#009af9\" fill-rule=\"evenodd\" fill-opacity=\"1\" stroke=\"#000000\" stroke-opacity=\"1\" stroke-width=\"3.2\"/>\n",
       "<circle clip-path=\"url(#clip942)\" cx=\"1987.38\" cy=\"1144\" r=\"14.4\" fill=\"#009af9\" fill-rule=\"evenodd\" fill-opacity=\"1\" stroke=\"#000000\" stroke-opacity=\"1\" stroke-width=\"3.2\"/>\n",
       "<circle clip-path=\"url(#clip942)\" cx=\"2289.34\" cy=\"1144\" r=\"14.4\" fill=\"#009af9\" fill-rule=\"evenodd\" fill-opacity=\"1\" stroke=\"#000000\" stroke-opacity=\"1\" stroke-width=\"3.2\"/>\n",
       "<circle clip-path=\"url(#clip942)\" cx=\"175.59\" cy=\"993.136\" r=\"14.4\" fill=\"#009af9\" fill-rule=\"evenodd\" fill-opacity=\"1\" stroke=\"#000000\" stroke-opacity=\"1\" stroke-width=\"3.2\"/>\n",
       "<circle clip-path=\"url(#clip942)\" cx=\"477.555\" cy=\"993.136\" r=\"14.4\" fill=\"#009af9\" fill-rule=\"evenodd\" fill-opacity=\"1\" stroke=\"#000000\" stroke-opacity=\"1\" stroke-width=\"3.2\"/>\n",
       "<circle clip-path=\"url(#clip942)\" cx=\"779.519\" cy=\"993.136\" r=\"14.4\" fill=\"#009af9\" fill-rule=\"evenodd\" fill-opacity=\"1\" stroke=\"#000000\" stroke-opacity=\"1\" stroke-width=\"3.2\"/>\n",
       "<circle clip-path=\"url(#clip942)\" cx=\"1081.48\" cy=\"993.136\" r=\"14.4\" fill=\"#009af9\" fill-rule=\"evenodd\" fill-opacity=\"1\" stroke=\"#000000\" stroke-opacity=\"1\" stroke-width=\"3.2\"/>\n",
       "<circle clip-path=\"url(#clip942)\" cx=\"1383.45\" cy=\"993.136\" r=\"14.4\" fill=\"#009af9\" fill-rule=\"evenodd\" fill-opacity=\"1\" stroke=\"#000000\" stroke-opacity=\"1\" stroke-width=\"3.2\"/>\n",
       "<circle clip-path=\"url(#clip942)\" cx=\"1685.41\" cy=\"993.136\" r=\"14.4\" fill=\"#009af9\" fill-rule=\"evenodd\" fill-opacity=\"1\" stroke=\"#000000\" stroke-opacity=\"1\" stroke-width=\"3.2\"/>\n",
       "<circle clip-path=\"url(#clip942)\" cx=\"1987.38\" cy=\"993.136\" r=\"14.4\" fill=\"#009af9\" fill-rule=\"evenodd\" fill-opacity=\"1\" stroke=\"#000000\" stroke-opacity=\"1\" stroke-width=\"3.2\"/>\n",
       "<circle clip-path=\"url(#clip942)\" cx=\"2289.34\" cy=\"993.136\" r=\"14.4\" fill=\"#009af9\" fill-rule=\"evenodd\" fill-opacity=\"1\" stroke=\"#000000\" stroke-opacity=\"1\" stroke-width=\"3.2\"/>\n",
       "<circle clip-path=\"url(#clip942)\" cx=\"175.59\" cy=\"842.276\" r=\"14.4\" fill=\"#009af9\" fill-rule=\"evenodd\" fill-opacity=\"1\" stroke=\"#000000\" stroke-opacity=\"1\" stroke-width=\"3.2\"/>\n",
       "<circle clip-path=\"url(#clip942)\" cx=\"477.555\" cy=\"842.276\" r=\"14.4\" fill=\"#009af9\" fill-rule=\"evenodd\" fill-opacity=\"1\" stroke=\"#000000\" stroke-opacity=\"1\" stroke-width=\"3.2\"/>\n",
       "<circle clip-path=\"url(#clip942)\" cx=\"779.519\" cy=\"842.276\" r=\"14.4\" fill=\"#009af9\" fill-rule=\"evenodd\" fill-opacity=\"1\" stroke=\"#000000\" stroke-opacity=\"1\" stroke-width=\"3.2\"/>\n",
       "<circle clip-path=\"url(#clip942)\" cx=\"1081.48\" cy=\"842.276\" r=\"14.4\" fill=\"#009af9\" fill-rule=\"evenodd\" fill-opacity=\"1\" stroke=\"#000000\" stroke-opacity=\"1\" stroke-width=\"3.2\"/>\n",
       "<circle clip-path=\"url(#clip942)\" cx=\"1383.45\" cy=\"842.276\" r=\"14.4\" fill=\"#009af9\" fill-rule=\"evenodd\" fill-opacity=\"1\" stroke=\"#000000\" stroke-opacity=\"1\" stroke-width=\"3.2\"/>\n",
       "<circle clip-path=\"url(#clip942)\" cx=\"1685.41\" cy=\"842.276\" r=\"14.4\" fill=\"#009af9\" fill-rule=\"evenodd\" fill-opacity=\"1\" stroke=\"#000000\" stroke-opacity=\"1\" stroke-width=\"3.2\"/>\n",
       "<circle clip-path=\"url(#clip942)\" cx=\"1987.38\" cy=\"842.276\" r=\"14.4\" fill=\"#009af9\" fill-rule=\"evenodd\" fill-opacity=\"1\" stroke=\"#000000\" stroke-opacity=\"1\" stroke-width=\"3.2\"/>\n",
       "<circle clip-path=\"url(#clip942)\" cx=\"2289.34\" cy=\"842.276\" r=\"14.4\" fill=\"#009af9\" fill-rule=\"evenodd\" fill-opacity=\"1\" stroke=\"#000000\" stroke-opacity=\"1\" stroke-width=\"3.2\"/>\n",
       "<circle clip-path=\"url(#clip942)\" cx=\"175.59\" cy=\"691.416\" r=\"14.4\" fill=\"#009af9\" fill-rule=\"evenodd\" fill-opacity=\"1\" stroke=\"#000000\" stroke-opacity=\"1\" stroke-width=\"3.2\"/>\n",
       "<circle clip-path=\"url(#clip942)\" cx=\"477.555\" cy=\"691.416\" r=\"14.4\" fill=\"#009af9\" fill-rule=\"evenodd\" fill-opacity=\"1\" stroke=\"#000000\" stroke-opacity=\"1\" stroke-width=\"3.2\"/>\n",
       "<circle clip-path=\"url(#clip942)\" cx=\"779.519\" cy=\"691.416\" r=\"14.4\" fill=\"#009af9\" fill-rule=\"evenodd\" fill-opacity=\"1\" stroke=\"#000000\" stroke-opacity=\"1\" stroke-width=\"3.2\"/>\n",
       "<circle clip-path=\"url(#clip942)\" cx=\"1081.48\" cy=\"691.416\" r=\"14.4\" fill=\"#009af9\" fill-rule=\"evenodd\" fill-opacity=\"1\" stroke=\"#000000\" stroke-opacity=\"1\" stroke-width=\"3.2\"/>\n",
       "<circle clip-path=\"url(#clip942)\" cx=\"1383.45\" cy=\"691.416\" r=\"14.4\" fill=\"#009af9\" fill-rule=\"evenodd\" fill-opacity=\"1\" stroke=\"#000000\" stroke-opacity=\"1\" stroke-width=\"3.2\"/>\n",
       "<circle clip-path=\"url(#clip942)\" cx=\"1685.41\" cy=\"691.416\" r=\"14.4\" fill=\"#009af9\" fill-rule=\"evenodd\" fill-opacity=\"1\" stroke=\"#000000\" stroke-opacity=\"1\" stroke-width=\"3.2\"/>\n",
       "<circle clip-path=\"url(#clip942)\" cx=\"1987.38\" cy=\"691.416\" r=\"14.4\" fill=\"#009af9\" fill-rule=\"evenodd\" fill-opacity=\"1\" stroke=\"#000000\" stroke-opacity=\"1\" stroke-width=\"3.2\"/>\n",
       "<circle clip-path=\"url(#clip942)\" cx=\"2289.34\" cy=\"691.416\" r=\"14.4\" fill=\"#009af9\" fill-rule=\"evenodd\" fill-opacity=\"1\" stroke=\"#000000\" stroke-opacity=\"1\" stroke-width=\"3.2\"/>\n",
       "<circle clip-path=\"url(#clip942)\" cx=\"175.59\" cy=\"540.556\" r=\"14.4\" fill=\"#009af9\" fill-rule=\"evenodd\" fill-opacity=\"1\" stroke=\"#000000\" stroke-opacity=\"1\" stroke-width=\"3.2\"/>\n",
       "<circle clip-path=\"url(#clip942)\" cx=\"477.555\" cy=\"540.556\" r=\"14.4\" fill=\"#009af9\" fill-rule=\"evenodd\" fill-opacity=\"1\" stroke=\"#000000\" stroke-opacity=\"1\" stroke-width=\"3.2\"/>\n",
       "<circle clip-path=\"url(#clip942)\" cx=\"779.519\" cy=\"540.556\" r=\"14.4\" fill=\"#009af9\" fill-rule=\"evenodd\" fill-opacity=\"1\" stroke=\"#000000\" stroke-opacity=\"1\" stroke-width=\"3.2\"/>\n",
       "<circle clip-path=\"url(#clip942)\" cx=\"1081.48\" cy=\"540.556\" r=\"14.4\" fill=\"#009af9\" fill-rule=\"evenodd\" fill-opacity=\"1\" stroke=\"#000000\" stroke-opacity=\"1\" stroke-width=\"3.2\"/>\n",
       "<circle clip-path=\"url(#clip942)\" cx=\"1383.45\" cy=\"540.556\" r=\"14.4\" fill=\"#009af9\" fill-rule=\"evenodd\" fill-opacity=\"1\" stroke=\"#000000\" stroke-opacity=\"1\" stroke-width=\"3.2\"/>\n",
       "<circle clip-path=\"url(#clip942)\" cx=\"1685.41\" cy=\"540.556\" r=\"14.4\" fill=\"#009af9\" fill-rule=\"evenodd\" fill-opacity=\"1\" stroke=\"#000000\" stroke-opacity=\"1\" stroke-width=\"3.2\"/>\n",
       "<circle clip-path=\"url(#clip942)\" cx=\"1987.38\" cy=\"540.556\" r=\"14.4\" fill=\"#009af9\" fill-rule=\"evenodd\" fill-opacity=\"1\" stroke=\"#000000\" stroke-opacity=\"1\" stroke-width=\"3.2\"/>\n",
       "<circle clip-path=\"url(#clip942)\" cx=\"2289.34\" cy=\"540.556\" r=\"14.4\" fill=\"#009af9\" fill-rule=\"evenodd\" fill-opacity=\"1\" stroke=\"#000000\" stroke-opacity=\"1\" stroke-width=\"3.2\"/>\n",
       "<circle clip-path=\"url(#clip942)\" cx=\"175.59\" cy=\"389.696\" r=\"14.4\" fill=\"#009af9\" fill-rule=\"evenodd\" fill-opacity=\"1\" stroke=\"#000000\" stroke-opacity=\"1\" stroke-width=\"3.2\"/>\n",
       "<circle clip-path=\"url(#clip942)\" cx=\"477.555\" cy=\"389.696\" r=\"14.4\" fill=\"#009af9\" fill-rule=\"evenodd\" fill-opacity=\"1\" stroke=\"#000000\" stroke-opacity=\"1\" stroke-width=\"3.2\"/>\n",
       "<circle clip-path=\"url(#clip942)\" cx=\"779.519\" cy=\"389.696\" r=\"14.4\" fill=\"#009af9\" fill-rule=\"evenodd\" fill-opacity=\"1\" stroke=\"#000000\" stroke-opacity=\"1\" stroke-width=\"3.2\"/>\n",
       "<circle clip-path=\"url(#clip942)\" cx=\"1081.48\" cy=\"389.696\" r=\"14.4\" fill=\"#009af9\" fill-rule=\"evenodd\" fill-opacity=\"1\" stroke=\"#000000\" stroke-opacity=\"1\" stroke-width=\"3.2\"/>\n",
       "<circle clip-path=\"url(#clip942)\" cx=\"1383.45\" cy=\"389.696\" r=\"14.4\" fill=\"#009af9\" fill-rule=\"evenodd\" fill-opacity=\"1\" stroke=\"#000000\" stroke-opacity=\"1\" stroke-width=\"3.2\"/>\n",
       "<circle clip-path=\"url(#clip942)\" cx=\"1685.41\" cy=\"389.696\" r=\"14.4\" fill=\"#009af9\" fill-rule=\"evenodd\" fill-opacity=\"1\" stroke=\"#000000\" stroke-opacity=\"1\" stroke-width=\"3.2\"/>\n",
       "<circle clip-path=\"url(#clip942)\" cx=\"1987.38\" cy=\"389.696\" r=\"14.4\" fill=\"#009af9\" fill-rule=\"evenodd\" fill-opacity=\"1\" stroke=\"#000000\" stroke-opacity=\"1\" stroke-width=\"3.2\"/>\n",
       "<circle clip-path=\"url(#clip942)\" cx=\"2289.34\" cy=\"389.696\" r=\"14.4\" fill=\"#009af9\" fill-rule=\"evenodd\" fill-opacity=\"1\" stroke=\"#000000\" stroke-opacity=\"1\" stroke-width=\"3.2\"/>\n",
       "<circle clip-path=\"url(#clip942)\" cx=\"175.59\" cy=\"238.836\" r=\"14.4\" fill=\"#009af9\" fill-rule=\"evenodd\" fill-opacity=\"1\" stroke=\"#000000\" stroke-opacity=\"1\" stroke-width=\"3.2\"/>\n",
       "<circle clip-path=\"url(#clip942)\" cx=\"477.555\" cy=\"238.836\" r=\"14.4\" fill=\"#009af9\" fill-rule=\"evenodd\" fill-opacity=\"1\" stroke=\"#000000\" stroke-opacity=\"1\" stroke-width=\"3.2\"/>\n",
       "<circle clip-path=\"url(#clip942)\" cx=\"779.519\" cy=\"238.836\" r=\"14.4\" fill=\"#009af9\" fill-rule=\"evenodd\" fill-opacity=\"1\" stroke=\"#000000\" stroke-opacity=\"1\" stroke-width=\"3.2\"/>\n",
       "<circle clip-path=\"url(#clip942)\" cx=\"1081.48\" cy=\"238.836\" r=\"14.4\" fill=\"#009af9\" fill-rule=\"evenodd\" fill-opacity=\"1\" stroke=\"#000000\" stroke-opacity=\"1\" stroke-width=\"3.2\"/>\n",
       "<circle clip-path=\"url(#clip942)\" cx=\"1383.45\" cy=\"238.836\" r=\"14.4\" fill=\"#009af9\" fill-rule=\"evenodd\" fill-opacity=\"1\" stroke=\"#000000\" stroke-opacity=\"1\" stroke-width=\"3.2\"/>\n",
       "<circle clip-path=\"url(#clip942)\" cx=\"1685.41\" cy=\"238.836\" r=\"14.4\" fill=\"#009af9\" fill-rule=\"evenodd\" fill-opacity=\"1\" stroke=\"#000000\" stroke-opacity=\"1\" stroke-width=\"3.2\"/>\n",
       "<circle clip-path=\"url(#clip942)\" cx=\"1987.38\" cy=\"238.836\" r=\"14.4\" fill=\"#009af9\" fill-rule=\"evenodd\" fill-opacity=\"1\" stroke=\"#000000\" stroke-opacity=\"1\" stroke-width=\"3.2\"/>\n",
       "<circle clip-path=\"url(#clip942)\" cx=\"2289.34\" cy=\"238.836\" r=\"14.4\" fill=\"#009af9\" fill-rule=\"evenodd\" fill-opacity=\"1\" stroke=\"#000000\" stroke-opacity=\"1\" stroke-width=\"3.2\"/>\n",
       "<circle clip-path=\"url(#clip942)\" cx=\"175.59\" cy=\"87.9763\" r=\"14.4\" fill=\"#009af9\" fill-rule=\"evenodd\" fill-opacity=\"1\" stroke=\"#000000\" stroke-opacity=\"1\" stroke-width=\"3.2\"/>\n",
       "<circle clip-path=\"url(#clip942)\" cx=\"477.555\" cy=\"87.9763\" r=\"14.4\" fill=\"#009af9\" fill-rule=\"evenodd\" fill-opacity=\"1\" stroke=\"#000000\" stroke-opacity=\"1\" stroke-width=\"3.2\"/>\n",
       "<circle clip-path=\"url(#clip942)\" cx=\"779.519\" cy=\"87.9763\" r=\"14.4\" fill=\"#009af9\" fill-rule=\"evenodd\" fill-opacity=\"1\" stroke=\"#000000\" stroke-opacity=\"1\" stroke-width=\"3.2\"/>\n",
       "<circle clip-path=\"url(#clip942)\" cx=\"1081.48\" cy=\"87.9763\" r=\"14.4\" fill=\"#009af9\" fill-rule=\"evenodd\" fill-opacity=\"1\" stroke=\"#000000\" stroke-opacity=\"1\" stroke-width=\"3.2\"/>\n",
       "<circle clip-path=\"url(#clip942)\" cx=\"1383.45\" cy=\"87.9763\" r=\"14.4\" fill=\"#009af9\" fill-rule=\"evenodd\" fill-opacity=\"1\" stroke=\"#000000\" stroke-opacity=\"1\" stroke-width=\"3.2\"/>\n",
       "<circle clip-path=\"url(#clip942)\" cx=\"1685.41\" cy=\"87.9763\" r=\"14.4\" fill=\"#009af9\" fill-rule=\"evenodd\" fill-opacity=\"1\" stroke=\"#000000\" stroke-opacity=\"1\" stroke-width=\"3.2\"/>\n",
       "<circle clip-path=\"url(#clip942)\" cx=\"1987.38\" cy=\"87.9763\" r=\"14.4\" fill=\"#009af9\" fill-rule=\"evenodd\" fill-opacity=\"1\" stroke=\"#000000\" stroke-opacity=\"1\" stroke-width=\"3.2\"/>\n",
       "<circle clip-path=\"url(#clip942)\" cx=\"2289.34\" cy=\"87.9763\" r=\"14.4\" fill=\"#009af9\" fill-rule=\"evenodd\" fill-opacity=\"1\" stroke=\"#000000\" stroke-opacity=\"1\" stroke-width=\"3.2\"/>\n",
       "<path clip-path=\"url(#clip940)\" d=\"M158.758 1420.69 L172.126 1420.69 L172.126 1374.55 L157.584 1377.46 L157.584 1370.01 L172.045 1367.09 L180.228 1367.09 L180.228 1420.69 L193.596 1420.69 L193.596 1427.57 L158.758 1427.57 L158.758 1420.69 Z\" fill=\"#000000\" fill-rule=\"nonzero\" fill-opacity=\"1\" /><path clip-path=\"url(#clip940)\" d=\"M468.197 1420.69 L496.756 1420.69 L496.756 1427.57 L458.353 1427.57 L458.353 1420.69 Q463.012 1415.86 471.033 1407.76 Q479.094 1399.62 481.16 1397.27 Q485.089 1392.86 486.629 1389.82 Q488.208 1386.74 488.208 1383.78 Q488.208 1378.96 484.806 1375.92 Q481.443 1372.88 476.015 1372.88 Q472.167 1372.88 467.873 1374.22 Q463.619 1375.56 458.758 1378.27 L458.758 1370.01 Q463.7 1368.02 467.994 1367.01 Q472.288 1366 475.853 1366 Q485.251 1366 490.842 1370.7 Q496.432 1375.4 496.432 1383.25 Q496.432 1386.98 495.014 1390.34 Q493.637 1393.67 489.95 1398.2 Q488.938 1399.38 483.509 1405.01 Q478.081 1410.6 468.197 1420.69 Z\" fill=\"#000000\" fill-rule=\"nonzero\" fill-opacity=\"1\" /><path clip-path=\"url(#clip940)\" d=\"M786.953 1394.96 Q792.827 1396.22 796.108 1400.19 Q799.43 1404.16 799.43 1409.99 Q799.43 1418.94 793.272 1423.84 Q787.115 1428.75 775.772 1428.75 Q771.964 1428.75 767.914 1427.98 Q763.903 1427.25 759.609 1425.75 L759.609 1417.85 Q763.012 1419.83 767.063 1420.85 Q771.114 1421.86 775.529 1421.86 Q783.226 1421.86 787.236 1418.82 Q791.287 1415.78 791.287 1409.99 Q791.287 1404.64 787.52 1401.65 Q783.793 1398.61 777.109 1398.61 L770.06 1398.61 L770.06 1391.88 L777.433 1391.88 Q783.469 1391.88 786.669 1389.49 Q789.869 1387.06 789.869 1382.53 Q789.869 1377.87 786.548 1375.4 Q783.266 1372.88 777.109 1372.88 Q773.747 1372.88 769.898 1373.61 Q766.05 1374.34 761.432 1375.88 L761.432 1368.59 Q766.091 1367.29 770.142 1366.65 Q774.233 1366 777.838 1366 Q787.155 1366 792.584 1370.25 Q798.012 1374.46 798.012 1381.67 Q798.012 1386.7 795.136 1390.18 Q792.259 1393.63 786.953 1394.96 Z\" fill=\"#000000\" fill-rule=\"nonzero\" fill-opacity=\"1\" /><path clip-path=\"url(#clip940)\" d=\"M1086.75 1374.22 L1066.09 1406.51 L1086.75 1406.51 L1086.75 1374.22 M1084.6 1367.09 L1094.89 1367.09 L1094.89 1406.51 L1103.52 1406.51 L1103.52 1413.31 L1094.89 1413.31 L1094.89 1427.57 L1086.75 1427.57 L1086.75 1413.31 L1059.45 1413.31 L1059.45 1405.41 L1084.6 1367.09 Z\" fill=\"#000000\" fill-rule=\"nonzero\" fill-opacity=\"1\" /><path clip-path=\"url(#clip940)\" d=\"M1366.44 1367.09 L1398.56 1367.09 L1398.56 1373.98 L1373.93 1373.98 L1373.93 1388.8 Q1375.71 1388.2 1377.49 1387.91 Q1379.28 1387.59 1381.06 1387.59 Q1391.19 1387.59 1397.1 1393.14 Q1403.01 1398.69 1403.01 1408.17 Q1403.01 1417.93 1396.94 1423.36 Q1390.86 1428.75 1379.8 1428.75 Q1376 1428.75 1372.03 1428.1 Q1368.1 1427.45 1363.88 1426.15 L1363.88 1417.93 Q1367.53 1419.92 1371.42 1420.89 Q1375.31 1421.86 1379.64 1421.86 Q1386.65 1421.86 1390.74 1418.17 Q1394.83 1414.49 1394.83 1408.17 Q1394.83 1401.85 1390.74 1398.16 Q1386.65 1394.48 1379.64 1394.48 Q1376.36 1394.48 1373.08 1395.2 Q1369.84 1395.93 1366.44 1397.47 L1366.44 1367.09 Z\" fill=\"#000000\" fill-rule=\"nonzero\" fill-opacity=\"1\" /><path clip-path=\"url(#clip940)\" d=\"M1686.12 1394.07 Q1680.61 1394.07 1677.37 1397.84 Q1674.17 1401.61 1674.17 1408.17 Q1674.17 1414.69 1677.37 1418.5 Q1680.61 1422.27 1686.12 1422.27 Q1691.63 1422.27 1694.83 1418.5 Q1698.07 1414.69 1698.07 1408.17 Q1698.07 1401.61 1694.83 1397.84 Q1691.63 1394.07 1686.12 1394.07 M1702.37 1368.43 L1702.37 1375.88 Q1699.29 1374.42 1696.13 1373.65 Q1693.01 1372.88 1689.93 1372.88 Q1681.83 1372.88 1677.53 1378.35 Q1673.28 1383.82 1672.67 1394.88 Q1675.06 1391.36 1678.67 1389.49 Q1682.27 1387.59 1686.61 1387.59 Q1695.72 1387.59 1700.99 1393.14 Q1706.3 1398.65 1706.3 1408.17 Q1706.3 1417.48 1700.79 1423.12 Q1695.28 1428.75 1686.12 1428.75 Q1675.63 1428.75 1670.08 1420.73 Q1664.53 1412.66 1664.53 1397.39 Q1664.53 1383.05 1671.34 1374.55 Q1678.14 1366 1689.61 1366 Q1692.69 1366 1695.8 1366.61 Q1698.96 1367.21 1702.37 1368.43 Z\" fill=\"#000000\" fill-rule=\"nonzero\" fill-opacity=\"1\" /><path clip-path=\"url(#clip940)\" d=\"M1967.93 1367.09 L2006.82 1367.09 L2006.82 1370.58 L1984.87 1427.57 L1976.32 1427.57 L1996.98 1373.98 L1967.93 1373.98 L1967.93 1367.09 Z\" fill=\"#000000\" fill-rule=\"nonzero\" fill-opacity=\"1\" /><path clip-path=\"url(#clip940)\" d=\"M2289.34 1398.85 Q2283.51 1398.85 2280.15 1401.97 Q2276.83 1405.09 2276.83 1410.56 Q2276.83 1416.03 2280.15 1419.15 Q2283.51 1422.27 2289.34 1422.27 Q2295.18 1422.27 2298.54 1419.15 Q2301.9 1415.99 2301.9 1410.56 Q2301.9 1405.09 2298.54 1401.97 Q2295.22 1398.85 2289.34 1398.85 M2281.16 1395.37 Q2275.89 1394.07 2272.94 1390.47 Q2270.02 1386.86 2270.02 1381.67 Q2270.02 1374.42 2275.17 1370.21 Q2280.35 1366 2289.34 1366 Q2298.38 1366 2303.52 1370.21 Q2308.67 1374.42 2308.67 1381.67 Q2308.67 1386.86 2305.71 1390.47 Q2302.79 1394.07 2297.57 1395.37 Q2303.48 1396.74 2306.76 1400.75 Q2310.08 1404.77 2310.08 1410.56 Q2310.08 1419.35 2304.7 1424.05 Q2299.35 1428.75 2289.34 1428.75 Q2279.34 1428.75 2273.95 1424.05 Q2268.6 1419.35 2268.6 1410.56 Q2268.6 1404.77 2271.92 1400.75 Q2275.25 1396.74 2281.16 1395.37 M2278.16 1382.44 Q2278.16 1387.14 2281.08 1389.78 Q2284.04 1392.41 2289.34 1392.41 Q2294.61 1392.41 2297.57 1389.78 Q2300.56 1387.14 2300.56 1382.44 Q2300.56 1377.75 2297.57 1375.11 Q2294.61 1372.48 2289.34 1372.48 Q2284.04 1372.48 2281.08 1375.11 Q2278.16 1377.75 2278.16 1382.44 Z\" fill=\"#000000\" fill-rule=\"nonzero\" fill-opacity=\"1\" /><path clip-path=\"url(#clip940)\" d=\"M158.616 1275.46 L158.616 1268 Q161.695 1269.46 164.855 1270.23 Q168.015 1271 171.053 1271 Q179.155 1271 183.408 1265.57 Q187.702 1260.1 188.31 1249 Q185.96 1252.49 182.355 1254.35 Q178.749 1256.21 174.375 1256.21 Q165.3 1256.21 159.994 1250.75 Q154.728 1245.24 154.728 1235.72 Q154.728 1226.4 160.237 1220.77 Q165.746 1215.14 174.901 1215.14 Q185.393 1215.14 190.902 1223.2 Q196.452 1231.22 196.452 1246.53 Q196.452 1260.83 189.646 1269.38 Q182.881 1277.89 171.417 1277.89 Q168.339 1277.89 165.179 1277.28 Q162.019 1276.67 158.616 1275.46 M174.901 1249.81 Q180.41 1249.81 183.611 1246.05 Q186.851 1242.28 186.851 1235.72 Q186.851 1229.19 183.611 1225.43 Q180.41 1221.62 174.901 1221.62 Q169.392 1221.62 166.151 1225.43 Q162.951 1229.19 162.951 1235.72 Q162.951 1242.28 166.151 1246.05 Q169.392 1249.81 174.901 1249.81 Z\" fill=\"#000000\" fill-rule=\"nonzero\" fill-opacity=\"1\" /><path clip-path=\"url(#clip940)\" d=\"M433.258 1269.83 L446.626 1269.83 L446.626 1223.69 L432.083 1226.6 L432.083 1219.15 L446.545 1216.23 L454.728 1216.23 L454.728 1269.83 L468.096 1269.83 L468.096 1276.71 L433.258 1276.71 L433.258 1269.83 Z\" fill=\"#000000\" fill-rule=\"nonzero\" fill-opacity=\"1\" /><path clip-path=\"url(#clip940)\" d=\"M502.123 1221.62 Q495.804 1221.62 492.604 1227.86 Q489.444 1234.06 489.444 1246.53 Q489.444 1258.97 492.604 1265.21 Q495.804 1271.41 502.123 1271.41 Q508.483 1271.41 511.643 1265.21 Q514.843 1258.97 514.843 1246.53 Q514.843 1234.06 511.643 1227.86 Q508.483 1221.62 502.123 1221.62 M502.123 1215.14 Q512.291 1215.14 517.638 1223.2 Q523.026 1231.22 523.026 1246.53 Q523.026 1261.8 517.638 1269.87 Q512.291 1277.89 502.123 1277.89 Q491.956 1277.89 486.568 1269.87 Q481.221 1261.8 481.221 1246.53 Q481.221 1231.22 486.568 1223.2 Q491.956 1215.14 502.123 1215.14 Z\" fill=\"#000000\" fill-rule=\"nonzero\" fill-opacity=\"1\" /><path clip-path=\"url(#clip940)\" d=\"M736.296 1269.83 L749.664 1269.83 L749.664 1223.69 L735.121 1226.6 L735.121 1219.15 L749.583 1216.23 L757.766 1216.23 L757.766 1269.83 L771.134 1269.83 L771.134 1276.71 L736.296 1276.71 L736.296 1269.83 Z\" fill=\"#000000\" fill-rule=\"nonzero\" fill-opacity=\"1\" /><path clip-path=\"url(#clip940)\" d=\"M789.079 1269.83 L802.447 1269.83 L802.447 1223.69 L787.905 1226.6 L787.905 1219.15 L802.366 1216.23 L810.549 1216.23 L810.549 1269.83 L823.917 1269.83 L823.917 1276.71 L789.079 1276.71 L789.079 1269.83 Z\" fill=\"#000000\" fill-rule=\"nonzero\" fill-opacity=\"1\" /><path clip-path=\"url(#clip940)\" d=\"M1038.59 1269.83 L1051.95 1269.83 L1051.95 1223.69 L1037.41 1226.6 L1037.41 1219.15 L1051.87 1216.23 L1060.05 1216.23 L1060.05 1269.83 L1073.42 1269.83 L1073.42 1276.71 L1038.59 1276.71 L1038.59 1269.83 Z\" fill=\"#000000\" fill-rule=\"nonzero\" fill-opacity=\"1\" /><path clip-path=\"url(#clip940)\" d=\"M1097 1269.83 L1125.56 1269.83 L1125.56 1276.71 L1087.16 1276.71 L1087.16 1269.83 Q1091.81 1265 1099.83 1256.9 Q1107.9 1248.76 1109.96 1246.41 Q1113.89 1242 1115.43 1238.96 Q1117.01 1235.88 1117.01 1232.92 Q1117.01 1228.1 1113.61 1225.06 Q1110.25 1222.02 1104.82 1222.02 Q1100.97 1222.02 1096.68 1223.36 Q1092.42 1224.7 1087.56 1227.41 L1087.56 1219.15 Q1092.5 1217.16 1096.8 1216.15 Q1101.09 1215.14 1104.66 1215.14 Q1114.05 1215.14 1119.64 1219.84 Q1125.23 1224.54 1125.23 1232.39 Q1125.23 1236.12 1123.82 1239.48 Q1122.44 1242.81 1118.75 1247.34 Q1117.74 1248.52 1112.31 1254.15 Q1106.88 1259.74 1097 1269.83 Z\" fill=\"#000000\" fill-rule=\"nonzero\" fill-opacity=\"1\" /><path clip-path=\"url(#clip940)\" d=\"M1339.72 1269.83 L1353.09 1269.83 L1353.09 1223.69 L1338.54 1226.6 L1338.54 1219.15 L1353.01 1216.23 L1361.19 1216.23 L1361.19 1269.83 L1374.56 1269.83 L1374.56 1276.71 L1339.72 1276.71 L1339.72 1269.83 Z\" fill=\"#000000\" fill-rule=\"nonzero\" fill-opacity=\"1\" /><path clip-path=\"url(#clip940)\" d=\"M1415.88 1244.1 Q1421.75 1245.36 1425.03 1249.33 Q1428.35 1253.3 1428.35 1259.13 Q1428.35 1268.08 1422.2 1272.98 Q1416.04 1277.89 1404.7 1277.89 Q1400.89 1277.89 1396.84 1277.12 Q1392.83 1276.39 1388.53 1274.89 L1388.53 1266.99 Q1391.94 1268.97 1395.99 1269.99 Q1400.04 1271 1404.45 1271 Q1412.15 1271 1416.16 1267.96 Q1420.21 1264.92 1420.21 1259.13 Q1420.21 1253.78 1416.44 1250.79 Q1412.72 1247.75 1406.03 1247.75 L1398.98 1247.75 L1398.98 1241.02 L1406.36 1241.02 Q1412.39 1241.02 1415.59 1238.63 Q1418.79 1236.2 1418.79 1231.67 Q1418.79 1227.01 1415.47 1224.54 Q1412.19 1222.02 1406.03 1222.02 Q1402.67 1222.02 1398.82 1222.75 Q1394.97 1223.48 1390.36 1225.02 L1390.36 1217.73 Q1395.01 1216.43 1399.07 1215.79 Q1403.16 1215.14 1406.76 1215.14 Q1416.08 1215.14 1421.51 1219.39 Q1426.94 1223.6 1426.94 1230.82 Q1426.94 1235.84 1424.06 1239.32 Q1421.18 1242.77 1415.88 1244.1 Z\" fill=\"#000000\" fill-rule=\"nonzero\" fill-opacity=\"1\" /><path clip-path=\"url(#clip940)\" d=\"M1640.69 1269.83 L1654.06 1269.83 L1654.06 1223.69 L1639.52 1226.6 L1639.52 1219.15 L1653.98 1216.23 L1662.16 1216.23 L1662.16 1269.83 L1675.53 1269.83 L1675.53 1276.71 L1640.69 1276.71 L1640.69 1269.83 Z\" fill=\"#000000\" fill-rule=\"nonzero\" fill-opacity=\"1\" /><path clip-path=\"url(#clip940)\" d=\"M1714.54 1223.36 L1693.88 1255.65 L1714.54 1255.65 L1714.54 1223.36 M1712.39 1216.23 L1722.68 1216.23 L1722.68 1255.65 L1731.31 1255.65 L1731.31 1262.45 L1722.68 1262.45 L1722.68 1276.71 L1714.54 1276.71 L1714.54 1262.45 L1687.24 1262.45 L1687.24 1254.55 L1712.39 1216.23 Z\" fill=\"#000000\" fill-rule=\"nonzero\" fill-opacity=\"1\" /><path clip-path=\"url(#clip940)\" d=\"M1943.95 1269.83 L1957.32 1269.83 L1957.32 1223.69 L1942.78 1226.6 L1942.78 1219.15 L1957.24 1216.23 L1965.42 1216.23 L1965.42 1269.83 L1978.79 1269.83 L1978.79 1276.71 L1943.95 1276.71 L1943.95 1269.83 Z\" fill=\"#000000\" fill-rule=\"nonzero\" fill-opacity=\"1\" /><path clip-path=\"url(#clip940)\" d=\"M1995.4 1216.23 L2027.52 1216.23 L2027.52 1223.12 L2002.89 1223.12 L2002.89 1237.94 Q2004.68 1237.34 2006.46 1237.05 Q2008.24 1236.73 2010.02 1236.73 Q2020.15 1236.73 2026.06 1242.28 Q2031.98 1247.83 2031.98 1257.31 Q2031.98 1267.07 2025.9 1272.5 Q2019.83 1277.89 2008.77 1277.89 Q2004.96 1277.89 2000.99 1277.24 Q1997.06 1276.59 1992.85 1275.29 L1992.85 1267.07 Q1996.49 1269.06 2000.38 1270.03 Q2004.27 1271 2008.61 1271 Q2015.61 1271 2019.7 1267.31 Q2023.8 1263.63 2023.8 1257.31 Q2023.8 1250.99 2019.7 1247.3 Q2015.61 1243.62 2008.61 1243.62 Q2005.32 1243.62 2002.04 1244.35 Q1998.8 1245.07 1995.4 1246.61 L1995.4 1216.23 Z\" fill=\"#000000\" fill-rule=\"nonzero\" fill-opacity=\"1\" /><path clip-path=\"url(#clip940)\" d=\"M2244.9 1269.83 L2258.27 1269.83 L2258.27 1223.69 L2243.73 1226.6 L2243.73 1219.15 L2258.19 1216.23 L2266.37 1216.23 L2266.37 1269.83 L2279.74 1269.83 L2279.74 1276.71 L2244.9 1276.71 L2244.9 1269.83 Z\" fill=\"#000000\" fill-rule=\"nonzero\" fill-opacity=\"1\" /><path clip-path=\"url(#clip940)\" d=\"M2314.78 1243.21 Q2309.27 1243.21 2306.03 1246.98 Q2302.83 1250.75 2302.83 1257.31 Q2302.83 1263.83 2306.03 1267.64 Q2309.27 1271.41 2314.78 1271.41 Q2320.29 1271.41 2323.49 1267.64 Q2326.73 1263.83 2326.73 1257.31 Q2326.73 1250.75 2323.49 1246.98 Q2320.29 1243.21 2314.78 1243.21 M2331.03 1217.57 L2331.03 1225.02 Q2327.95 1223.56 2324.79 1222.79 Q2321.67 1222.02 2318.59 1222.02 Q2310.49 1222.02 2306.2 1227.49 Q2301.94 1232.96 2301.33 1244.02 Q2303.72 1240.5 2307.33 1238.63 Q2310.93 1236.73 2315.27 1236.73 Q2324.38 1236.73 2329.65 1242.28 Q2334.96 1247.79 2334.96 1257.31 Q2334.96 1266.63 2329.45 1272.26 Q2323.94 1277.89 2314.78 1277.89 Q2304.29 1277.89 2298.74 1269.87 Q2293.19 1261.8 2293.19 1246.53 Q2293.19 1232.19 2300 1223.69 Q2306.8 1215.14 2318.27 1215.14 Q2321.35 1215.14 2324.46 1215.75 Q2327.62 1216.35 2331.03 1217.57 Z\" fill=\"#000000\" fill-rule=\"nonzero\" fill-opacity=\"1\" /><path clip-path=\"url(#clip940)\" d=\"M132.083 1118.97 L145.451 1118.97 L145.451 1072.83 L130.908 1075.74 L130.908 1068.29 L145.37 1065.37 L153.553 1065.37 L153.553 1118.97 L166.921 1118.97 L166.921 1125.85 L132.083 1125.85 L132.083 1118.97 Z\" fill=\"#000000\" fill-rule=\"nonzero\" fill-opacity=\"1\" /><path clip-path=\"url(#clip940)\" d=\"M181.383 1065.37 L220.271 1065.37 L220.271 1068.86 L198.315 1125.85 L189.768 1125.85 L210.428 1072.26 L181.383 1072.26 L181.383 1065.37 Z\" fill=\"#000000\" fill-rule=\"nonzero\" fill-opacity=\"1\" /><path clip-path=\"url(#clip940)\" d=\"M433.339 1118.97 L446.707 1118.97 L446.707 1072.83 L432.164 1075.74 L432.164 1068.29 L446.626 1065.37 L454.809 1065.37 L454.809 1118.97 L468.177 1118.97 L468.177 1125.85 L433.339 1125.85 L433.339 1118.97 Z\" fill=\"#000000\" fill-rule=\"nonzero\" fill-opacity=\"1\" /><path clip-path=\"url(#clip940)\" d=\"M502.204 1097.13 Q496.371 1097.13 493.009 1100.25 Q489.687 1103.37 489.687 1108.84 Q489.687 1114.31 493.009 1117.43 Q496.371 1120.55 502.204 1120.55 Q508.038 1120.55 511.4 1117.43 Q514.762 1114.27 514.762 1108.84 Q514.762 1103.37 511.4 1100.25 Q508.078 1097.13 502.204 1097.13 M494.021 1093.65 Q488.755 1092.35 485.798 1088.75 Q482.882 1085.14 482.882 1079.96 Q482.882 1072.7 488.026 1068.49 Q493.211 1064.28 502.204 1064.28 Q511.238 1064.28 516.382 1068.49 Q521.527 1072.7 521.527 1079.96 Q521.527 1085.14 518.57 1088.75 Q515.653 1092.35 510.428 1093.65 Q516.342 1095.02 519.623 1099.03 Q522.945 1103.05 522.945 1108.84 Q522.945 1117.63 517.557 1122.33 Q512.21 1127.03 502.204 1127.03 Q492.199 1127.03 486.811 1122.33 Q481.464 1117.63 481.464 1108.84 Q481.464 1103.05 484.785 1099.03 Q488.107 1095.02 494.021 1093.65 M491.024 1080.72 Q491.024 1085.42 493.94 1088.06 Q496.898 1090.69 502.204 1090.69 Q507.47 1090.69 510.428 1088.06 Q513.425 1085.42 513.425 1080.72 Q513.425 1076.03 510.428 1073.39 Q507.47 1070.76 502.204 1070.76 Q496.898 1070.76 493.94 1073.39 Q491.024 1076.03 491.024 1080.72 Z\" fill=\"#000000\" fill-rule=\"nonzero\" fill-opacity=\"1\" /><path clip-path=\"url(#clip940)\" d=\"M735.385 1118.97 L748.753 1118.97 L748.753 1072.83 L734.21 1075.74 L734.21 1068.29 L748.672 1065.37 L756.855 1065.37 L756.855 1118.97 L770.223 1118.97 L770.223 1125.85 L735.385 1125.85 L735.385 1118.97 Z\" fill=\"#000000\" fill-rule=\"nonzero\" fill-opacity=\"1\" /><path clip-path=\"url(#clip940)\" d=\"M786.993 1124.6 L786.993 1117.14 Q790.072 1118.6 793.232 1119.37 Q796.391 1120.14 799.43 1120.14 Q807.531 1120.14 811.785 1114.71 Q816.079 1109.24 816.686 1098.14 Q814.337 1101.63 810.732 1103.49 Q807.126 1105.35 802.751 1105.35 Q793.677 1105.35 788.371 1099.89 Q783.104 1094.38 783.104 1084.86 Q783.104 1075.54 788.614 1069.91 Q794.123 1064.28 803.278 1064.28 Q813.77 1064.28 819.279 1072.34 Q824.829 1080.36 824.829 1095.67 Q824.829 1109.97 818.023 1118.52 Q811.258 1127.03 799.794 1127.03 Q796.715 1127.03 793.556 1126.42 Q790.396 1125.81 786.993 1124.6 M803.278 1098.95 Q808.787 1098.95 811.987 1095.19 Q815.228 1091.42 815.228 1084.86 Q815.228 1078.33 811.987 1074.57 Q808.787 1070.76 803.278 1070.76 Q797.769 1070.76 794.528 1074.57 Q791.328 1078.33 791.328 1084.86 Q791.328 1091.42 794.528 1095.19 Q797.769 1098.95 803.278 1098.95 Z\" fill=\"#000000\" fill-rule=\"nonzero\" fill-opacity=\"1\" /><path clip-path=\"url(#clip940)\" d=\"M1044.34 1118.97 L1072.9 1118.97 L1072.9 1125.85 L1034.49 1125.85 L1034.49 1118.97 Q1039.15 1114.14 1047.17 1106.04 Q1055.23 1097.9 1057.3 1095.55 Q1061.23 1091.14 1062.77 1088.1 Q1064.35 1085.02 1064.35 1082.06 Q1064.35 1077.24 1060.95 1074.2 Q1057.58 1071.16 1052.16 1071.16 Q1048.31 1071.16 1044.01 1072.5 Q1039.76 1073.84 1034.9 1076.55 L1034.9 1068.29 Q1039.84 1066.3 1044.13 1065.29 Q1048.43 1064.28 1051.99 1064.28 Q1061.39 1064.28 1066.98 1068.98 Q1072.57 1073.68 1072.57 1081.53 Q1072.57 1085.26 1071.15 1088.62 Q1069.78 1091.95 1066.09 1096.48 Q1065.08 1097.66 1059.65 1103.29 Q1054.22 1108.88 1044.34 1118.97 Z\" fill=\"#000000\" fill-rule=\"nonzero\" fill-opacity=\"1\" /><path clip-path=\"url(#clip940)\" d=\"M1107.57 1070.76 Q1101.25 1070.76 1098.05 1077 Q1094.89 1083.2 1094.89 1095.67 Q1094.89 1108.11 1098.05 1114.35 Q1101.25 1120.55 1107.57 1120.55 Q1113.93 1120.55 1117.09 1114.35 Q1120.29 1108.11 1120.29 1095.67 Q1120.29 1083.2 1117.09 1077 Q1113.93 1070.76 1107.57 1070.76 M1107.57 1064.28 Q1117.74 1064.28 1123.09 1072.34 Q1128.47 1080.36 1128.47 1095.67 Q1128.47 1110.94 1123.09 1119.01 Q1117.74 1127.03 1107.57 1127.03 Q1097.4 1127.03 1092.02 1119.01 Q1086.67 1110.94 1086.67 1095.67 Q1086.67 1080.36 1092.02 1072.34 Q1097.4 1064.28 1107.57 1064.28 Z\" fill=\"#000000\" fill-rule=\"nonzero\" fill-opacity=\"1\" /><path clip-path=\"url(#clip940)\" d=\"M1347.38 1118.97 L1375.93 1118.97 L1375.93 1125.85 L1337.53 1125.85 L1337.53 1118.97 Q1342.19 1114.14 1350.21 1106.04 Q1358.27 1097.9 1360.34 1095.55 Q1364.27 1091.14 1365.81 1088.1 Q1367.39 1085.02 1367.39 1082.06 Q1367.39 1077.24 1363.98 1074.2 Q1360.62 1071.16 1355.19 1071.16 Q1351.35 1071.16 1347.05 1072.5 Q1342.8 1073.84 1337.94 1076.55 L1337.94 1068.29 Q1342.88 1066.3 1347.17 1065.29 Q1351.47 1064.28 1355.03 1064.28 Q1364.43 1064.28 1370.02 1068.98 Q1375.61 1073.68 1375.61 1081.53 Q1375.61 1085.26 1374.19 1088.62 Q1372.82 1091.95 1369.13 1096.48 Q1368.12 1097.66 1362.69 1103.29 Q1357.26 1108.88 1347.38 1118.97 Z\" fill=\"#000000\" fill-rule=\"nonzero\" fill-opacity=\"1\" /><path clip-path=\"url(#clip940)\" d=\"M1394.53 1118.97 L1407.9 1118.97 L1407.9 1072.83 L1393.35 1075.74 L1393.35 1068.29 L1407.82 1065.37 L1416 1065.37 L1416 1118.97 L1429.37 1118.97 L1429.37 1125.85 L1394.53 1125.85 L1394.53 1118.97 Z\" fill=\"#000000\" fill-rule=\"nonzero\" fill-opacity=\"1\" /><path clip-path=\"url(#clip940)\" d=\"M1649.66 1118.97 L1678.22 1118.97 L1678.22 1125.85 L1639.82 1125.85 L1639.82 1118.97 Q1644.48 1114.14 1652.5 1106.04 Q1660.56 1097.9 1662.63 1095.55 Q1666.56 1091.14 1668.1 1088.1 Q1669.68 1085.02 1669.68 1082.06 Q1669.68 1077.24 1666.27 1074.2 Q1662.91 1071.16 1657.48 1071.16 Q1653.63 1071.16 1649.34 1072.5 Q1645.09 1073.84 1640.23 1076.55 L1640.23 1068.29 Q1645.17 1066.3 1649.46 1065.29 Q1653.76 1064.28 1657.32 1064.28 Q1666.72 1064.28 1672.31 1068.98 Q1677.9 1073.68 1677.9 1081.53 Q1677.9 1085.26 1676.48 1088.62 Q1675.1 1091.95 1671.42 1096.48 Q1670.41 1097.66 1664.98 1103.29 Q1659.55 1108.88 1649.66 1118.97 Z\" fill=\"#000000\" fill-rule=\"nonzero\" fill-opacity=\"1\" /><path clip-path=\"url(#clip940)\" d=\"M1702.45 1118.97 L1731.01 1118.97 L1731.01 1125.85 L1692.6 1125.85 L1692.6 1118.97 Q1697.26 1114.14 1705.28 1106.04 Q1713.34 1097.9 1715.41 1095.55 Q1719.34 1091.14 1720.88 1088.1 Q1722.46 1085.02 1722.46 1082.06 Q1722.46 1077.24 1719.06 1074.2 Q1715.69 1071.16 1710.27 1071.16 Q1706.42 1071.16 1702.12 1072.5 Q1697.87 1073.84 1693.01 1076.55 L1693.01 1068.29 Q1697.95 1066.3 1702.25 1065.29 Q1706.54 1064.28 1710.1 1064.28 Q1719.5 1064.28 1725.09 1068.98 Q1730.68 1073.68 1730.68 1081.53 Q1730.68 1085.26 1729.26 1088.62 Q1727.89 1091.95 1724.2 1096.48 Q1723.19 1097.66 1717.76 1103.29 Q1712.33 1108.88 1702.45 1118.97 Z\" fill=\"#000000\" fill-rule=\"nonzero\" fill-opacity=\"1\" /><path clip-path=\"url(#clip940)\" d=\"M1950.8 1118.97 L1979.36 1118.97 L1979.36 1125.85 L1940.96 1125.85 L1940.96 1118.97 Q1945.61 1114.14 1953.63 1106.04 Q1961.7 1097.9 1963.76 1095.55 Q1967.69 1091.14 1969.23 1088.1 Q1970.81 1085.02 1970.81 1082.06 Q1970.81 1077.24 1967.41 1074.2 Q1964.05 1071.16 1958.62 1071.16 Q1954.77 1071.16 1950.47 1072.5 Q1946.22 1073.84 1941.36 1076.55 L1941.36 1068.29 Q1946.3 1066.3 1950.6 1065.29 Q1954.89 1064.28 1958.46 1064.28 Q1967.85 1064.28 1973.44 1068.98 Q1979.03 1073.68 1979.03 1081.53 Q1979.03 1085.26 1977.62 1088.62 Q1976.24 1091.95 1972.55 1096.48 Q1971.54 1097.66 1966.11 1103.29 Q1960.68 1108.88 1950.8 1118.97 Z\" fill=\"#000000\" fill-rule=\"nonzero\" fill-opacity=\"1\" /><path clip-path=\"url(#clip940)\" d=\"M2021.33 1093.24 Q2027.2 1094.5 2030.48 1098.47 Q2033.8 1102.44 2033.8 1108.27 Q2033.8 1117.22 2027.64 1122.12 Q2021.49 1127.03 2010.14 1127.03 Q2006.34 1127.03 2002.29 1126.26 Q1998.28 1125.53 1993.98 1124.03 L1993.98 1116.13 Q1997.38 1118.11 2001.44 1119.13 Q2005.49 1120.14 2009.9 1120.14 Q2017.6 1120.14 2021.61 1117.1 Q2025.66 1114.06 2025.66 1108.27 Q2025.66 1102.92 2021.89 1099.93 Q2018.17 1096.89 2011.48 1096.89 L2004.43 1096.89 L2004.43 1090.16 L2011.81 1090.16 Q2017.84 1090.16 2021.04 1087.77 Q2024.24 1085.34 2024.24 1080.81 Q2024.24 1076.15 2020.92 1073.68 Q2017.64 1071.16 2011.48 1071.16 Q2008.12 1071.16 2004.27 1071.89 Q2000.42 1072.62 1995.8 1074.16 L1995.8 1066.87 Q2000.46 1065.57 2004.51 1064.93 Q2008.61 1064.28 2012.21 1064.28 Q2021.53 1064.28 2026.96 1068.53 Q2032.38 1072.74 2032.38 1079.96 Q2032.38 1084.98 2029.51 1088.46 Q2026.63 1091.91 2021.33 1093.24 Z\" fill=\"#000000\" fill-rule=\"nonzero\" fill-opacity=\"1\" /><path clip-path=\"url(#clip940)\" d=\"M2251.77 1118.97 L2280.33 1118.97 L2280.33 1125.85 L2241.93 1125.85 L2241.93 1118.97 Q2246.59 1114.14 2254.61 1106.04 Q2262.67 1097.9 2264.73 1095.55 Q2268.66 1091.14 2270.2 1088.1 Q2271.78 1085.02 2271.78 1082.06 Q2271.78 1077.24 2268.38 1074.2 Q2265.02 1071.16 2259.59 1071.16 Q2255.74 1071.16 2251.45 1072.5 Q2247.19 1073.84 2242.33 1076.55 L2242.33 1068.29 Q2247.27 1066.3 2251.57 1065.29 Q2255.86 1064.28 2259.43 1064.28 Q2268.83 1064.28 2274.42 1068.98 Q2280.01 1073.68 2280.01 1081.53 Q2280.01 1085.26 2278.59 1088.62 Q2277.21 1091.95 2273.52 1096.48 Q2272.51 1097.66 2267.08 1103.29 Q2261.66 1108.88 2251.77 1118.97 Z\" fill=\"#000000\" fill-rule=\"nonzero\" fill-opacity=\"1\" /><path clip-path=\"url(#clip940)\" d=\"M2319.99 1072.5 L2299.33 1104.79 L2319.99 1104.79 L2319.99 1072.5 M2317.84 1065.37 L2328.13 1065.37 L2328.13 1104.79 L2336.76 1104.79 L2336.76 1111.59 L2328.13 1111.59 L2328.13 1125.85 L2319.99 1125.85 L2319.99 1111.59 L2292.69 1111.59 L2292.69 1103.69 L2317.84 1065.37 Z\" fill=\"#000000\" fill-rule=\"nonzero\" fill-opacity=\"1\" /><path clip-path=\"url(#clip940)\" d=\"M139.314 968.105 L167.873 968.105 L167.873 974.992 L129.47 974.992 L129.47 968.105 Q134.129 963.285 142.15 955.183 Q150.211 947.041 152.277 944.691 Q156.206 940.276 157.746 937.237 Q159.325 934.159 159.325 931.202 Q159.325 926.381 155.923 923.343 Q152.56 920.305 147.132 920.305 Q143.284 920.305 138.99 921.641 Q134.736 922.978 129.875 925.692 L129.875 917.429 Q134.817 915.444 139.111 914.431 Q143.405 913.418 146.97 913.418 Q156.368 913.418 161.958 918.117 Q167.549 922.816 167.549 930.675 Q167.549 934.402 166.131 937.764 Q164.754 941.086 161.067 945.623 Q160.055 946.798 154.626 952.428 Q149.198 958.019 139.314 968.105 Z\" fill=\"#000000\" fill-rule=\"nonzero\" fill-opacity=\"1\" /><path clip-path=\"url(#clip940)\" d=\"M185.13 914.512 L217.253 914.512 L217.253 921.398 L192.624 921.398 L192.624 936.225 Q194.406 935.617 196.189 935.334 Q197.971 935.009 199.753 935.009 Q209.881 935.009 215.795 940.559 Q221.709 946.109 221.709 955.588 Q221.709 965.351 215.633 970.779 Q209.557 976.167 198.498 976.167 Q194.69 976.167 190.72 975.519 Q186.791 974.87 182.578 973.574 L182.578 965.351 Q186.223 967.336 190.112 968.308 Q194.001 969.28 198.336 969.28 Q205.344 969.28 209.435 965.594 Q213.526 961.907 213.526 955.588 Q213.526 949.269 209.435 945.582 Q205.344 941.896 198.336 941.896 Q195.054 941.896 191.773 942.625 Q188.532 943.354 185.13 944.894 L185.13 914.512 Z\" fill=\"#000000\" fill-rule=\"nonzero\" fill-opacity=\"1\" /><path clip-path=\"url(#clip940)\" d=\"M440.266 968.105 L468.825 968.105 L468.825 974.992 L430.422 974.992 L430.422 968.105 Q435.081 963.285 443.102 955.183 Q451.163 947.041 453.229 944.691 Q457.158 940.276 458.698 937.237 Q460.277 934.159 460.277 931.202 Q460.277 926.381 456.875 923.343 Q453.512 920.305 448.084 920.305 Q444.236 920.305 439.942 921.641 Q435.688 922.978 430.827 925.692 L430.827 917.429 Q435.769 915.444 440.063 914.431 Q444.357 913.418 447.922 913.418 Q457.32 913.418 462.911 918.117 Q468.501 922.816 468.501 930.675 Q468.501 934.402 467.083 937.764 Q465.706 941.086 462.019 945.623 Q461.007 946.798 455.578 952.428 Q450.15 958.019 440.266 968.105 Z\" fill=\"#000000\" fill-rule=\"nonzero\" fill-opacity=\"1\" /><path clip-path=\"url(#clip940)\" d=\"M504.513 941.491 Q499.004 941.491 495.763 945.258 Q492.563 949.026 492.563 955.588 Q492.563 962.11 495.763 965.918 Q499.004 969.685 504.513 969.685 Q510.023 969.685 513.223 965.918 Q516.464 962.11 516.464 955.588 Q516.464 949.026 513.223 945.258 Q510.023 941.491 504.513 941.491 M520.757 915.849 L520.757 923.302 Q517.679 921.844 514.519 921.074 Q511.4 920.305 508.321 920.305 Q500.219 920.305 495.925 925.773 Q491.672 931.242 491.064 942.301 Q493.454 938.777 497.06 936.913 Q500.665 935.009 504.999 935.009 Q514.114 935.009 519.38 940.559 Q524.687 946.068 524.687 955.588 Q524.687 964.905 519.178 970.536 Q513.668 976.167 504.513 976.167 Q494.021 976.167 488.472 968.146 Q482.922 960.085 482.922 944.813 Q482.922 930.472 489.728 921.966 Q496.533 913.418 507.997 913.418 Q511.076 913.418 514.195 914.026 Q517.355 914.633 520.757 915.849 Z\" fill=\"#000000\" fill-rule=\"nonzero\" fill-opacity=\"1\" /><path clip-path=\"url(#clip940)\" d=\"M743.162 968.105 L771.721 968.105 L771.721 974.992 L733.319 974.992 L733.319 968.105 Q737.977 963.285 745.998 955.183 Q754.059 947.041 756.125 944.691 Q760.055 940.276 761.594 937.237 Q763.174 934.159 763.174 931.202 Q763.174 926.381 759.771 923.343 Q756.409 920.305 750.981 920.305 Q747.132 920.305 742.838 921.641 Q738.585 922.978 733.724 925.692 L733.724 917.429 Q738.666 915.444 742.96 914.431 Q747.254 913.418 750.819 913.418 Q760.217 913.418 765.807 918.117 Q771.397 922.816 771.397 930.675 Q771.397 934.402 769.979 937.764 Q768.602 941.086 764.916 945.623 Q763.903 946.798 758.475 952.428 Q753.047 958.019 743.162 968.105 Z\" fill=\"#000000\" fill-rule=\"nonzero\" fill-opacity=\"1\" /><path clip-path=\"url(#clip940)\" d=\"M786.831 914.512 L825.72 914.512 L825.72 917.996 L803.764 974.992 L795.217 974.992 L815.876 921.398 L786.831 921.398 L786.831 914.512 Z\" fill=\"#000000\" fill-rule=\"nonzero\" fill-opacity=\"1\" /><path clip-path=\"url(#clip940)\" d=\"M1044.42 968.105 L1072.98 968.105 L1072.98 974.992 L1034.57 974.992 L1034.57 968.105 Q1039.23 963.285 1047.25 955.183 Q1055.32 947.041 1057.38 944.691 Q1061.31 940.276 1062.85 937.237 Q1064.43 934.159 1064.43 931.202 Q1064.43 926.381 1061.03 923.343 Q1057.66 920.305 1052.24 920.305 Q1048.39 920.305 1044.09 921.641 Q1039.84 922.978 1034.98 925.692 L1034.98 917.429 Q1039.92 915.444 1044.22 914.431 Q1048.51 913.418 1052.07 913.418 Q1061.47 913.418 1067.06 918.117 Q1072.65 922.816 1072.65 930.675 Q1072.65 934.402 1071.24 937.764 Q1069.86 941.086 1066.17 945.623 Q1065.16 946.798 1059.73 952.428 Q1054.3 958.019 1044.42 968.105 Z\" fill=\"#000000\" fill-rule=\"nonzero\" fill-opacity=\"1\" /><path clip-path=\"url(#clip940)\" d=\"M1107.65 946.271 Q1101.82 946.271 1098.46 949.39 Q1095.14 952.509 1095.14 957.978 Q1095.14 963.447 1098.46 966.566 Q1101.82 969.685 1107.65 969.685 Q1113.49 969.685 1116.85 966.566 Q1120.21 963.406 1120.21 957.978 Q1120.21 952.509 1116.85 949.39 Q1113.53 946.271 1107.65 946.271 M1099.47 942.787 Q1094.2 941.491 1091.25 937.886 Q1088.33 934.28 1088.33 929.095 Q1088.33 921.844 1093.47 917.631 Q1098.66 913.418 1107.65 913.418 Q1116.69 913.418 1121.83 917.631 Q1126.98 921.844 1126.98 929.095 Q1126.98 934.28 1124.02 937.886 Q1121.1 941.491 1115.88 942.787 Q1121.79 944.165 1125.07 948.175 Q1128.39 952.185 1128.39 957.978 Q1128.39 966.769 1123.01 971.468 Q1117.66 976.167 1107.65 976.167 Q1097.65 976.167 1092.26 971.468 Q1086.91 966.769 1086.91 957.978 Q1086.91 952.185 1090.23 948.175 Q1093.56 944.165 1099.47 942.787 M1096.47 929.865 Q1096.47 934.564 1099.39 937.197 Q1102.35 939.83 1107.65 939.83 Q1112.92 939.83 1115.88 937.197 Q1118.87 934.564 1118.87 929.865 Q1118.87 925.166 1115.88 922.533 Q1112.92 919.9 1107.65 919.9 Q1102.35 919.9 1099.39 922.533 Q1096.47 925.166 1096.47 929.865 Z\" fill=\"#000000\" fill-rule=\"nonzero\" fill-opacity=\"1\" /><path clip-path=\"url(#clip940)\" d=\"M1346.46 968.105 L1375.02 968.105 L1375.02 974.992 L1336.62 974.992 L1336.62 968.105 Q1341.28 963.285 1349.3 955.183 Q1357.36 947.041 1359.43 944.691 Q1363.36 940.276 1364.9 937.237 Q1366.48 934.159 1366.48 931.202 Q1366.48 926.381 1363.07 923.343 Q1359.71 920.305 1354.28 920.305 Q1350.43 920.305 1346.14 921.641 Q1341.89 922.978 1337.03 925.692 L1337.03 917.429 Q1341.97 915.444 1346.26 914.431 Q1350.56 913.418 1354.12 913.418 Q1363.52 913.418 1369.11 918.117 Q1374.7 922.816 1374.7 930.675 Q1374.7 934.402 1373.28 937.764 Q1371.9 941.086 1368.22 945.623 Q1367.2 946.798 1361.78 952.428 Q1356.35 958.019 1346.46 968.105 Z\" fill=\"#000000\" fill-rule=\"nonzero\" fill-opacity=\"1\" /><path clip-path=\"url(#clip940)\" d=\"M1392.44 973.736 L1392.44 966.282 Q1395.52 967.741 1398.68 968.51 Q1401.84 969.28 1404.88 969.28 Q1412.98 969.28 1417.23 963.852 Q1421.53 958.383 1422.14 947.284 Q1419.79 950.767 1416.18 952.631 Q1412.57 954.494 1408.2 954.494 Q1399.13 954.494 1393.82 949.026 Q1388.55 943.516 1388.55 933.997 Q1388.55 924.68 1394.06 919.049 Q1399.57 913.418 1408.73 913.418 Q1419.22 913.418 1424.73 921.479 Q1430.28 929.5 1430.28 944.813 Q1430.28 959.112 1423.47 967.66 Q1416.71 976.167 1405.24 976.167 Q1402.16 976.167 1399 975.559 Q1395.84 974.951 1392.44 973.736 M1408.73 948.094 Q1414.24 948.094 1417.44 944.327 Q1420.68 940.559 1420.68 933.997 Q1420.68 927.475 1417.44 923.707 Q1414.24 919.9 1408.73 919.9 Q1403.22 919.9 1399.98 923.707 Q1396.78 927.475 1396.78 933.997 Q1396.78 940.559 1399.98 944.327 Q1403.22 948.094 1408.73 948.094 Z\" fill=\"#000000\" fill-rule=\"nonzero\" fill-opacity=\"1\" /><path clip-path=\"url(#clip940)\" d=\"M1665.89 942.382 Q1671.76 943.638 1675.04 947.608 Q1678.37 951.578 1678.37 957.411 Q1678.37 966.363 1672.21 971.265 Q1666.05 976.167 1654.71 976.167 Q1650.9 976.167 1646.85 975.397 Q1642.84 974.668 1638.54 973.169 L1638.54 965.27 Q1641.95 967.255 1646 968.267 Q1650.05 969.28 1654.46 969.28 Q1662.16 969.28 1666.17 966.242 Q1670.22 963.204 1670.22 957.411 Q1670.22 952.064 1666.46 949.066 Q1662.73 946.028 1656.04 946.028 L1649 946.028 L1649 939.303 L1656.37 939.303 Q1662.4 939.303 1665.6 936.913 Q1668.81 934.483 1668.81 929.946 Q1668.81 925.287 1665.48 922.816 Q1662.2 920.305 1656.04 920.305 Q1652.68 920.305 1648.83 921.034 Q1644.99 921.763 1640.37 923.302 L1640.37 916.011 Q1645.03 914.714 1649.08 914.066 Q1653.17 913.418 1656.77 913.418 Q1666.09 913.418 1671.52 917.672 Q1676.95 921.885 1676.95 929.095 Q1676.95 934.118 1674.07 937.602 Q1671.2 941.045 1665.89 942.382 Z\" fill=\"#000000\" fill-rule=\"nonzero\" fill-opacity=\"1\" /><path clip-path=\"url(#clip940)\" d=\"M1711.38 919.9 Q1705.06 919.9 1701.86 926.138 Q1698.7 932.336 1698.7 944.813 Q1698.7 957.249 1701.86 963.487 Q1705.06 969.685 1711.38 969.685 Q1717.74 969.685 1720.9 963.487 Q1724.1 957.249 1724.1 944.813 Q1724.1 932.336 1720.9 926.138 Q1717.74 919.9 1711.38 919.9 M1711.38 913.418 Q1721.55 913.418 1726.89 921.479 Q1732.28 929.5 1732.28 944.813 Q1732.28 960.085 1726.89 968.146 Q1721.55 976.167 1711.38 976.167 Q1701.21 976.167 1695.82 968.146 Q1690.48 960.085 1690.48 944.813 Q1690.48 929.5 1695.82 921.479 Q1701.21 913.418 1711.38 913.418 Z\" fill=\"#000000\" fill-rule=\"nonzero\" fill-opacity=\"1\" /><path clip-path=\"url(#clip940)\" d=\"M1968.93 942.382 Q1974.8 943.638 1978.08 947.608 Q1981.4 951.578 1981.4 957.411 Q1981.4 966.363 1975.25 971.265 Q1969.09 976.167 1957.75 976.167 Q1953.94 976.167 1949.89 975.397 Q1945.88 974.668 1941.58 973.169 L1941.58 965.27 Q1944.99 967.255 1949.04 968.267 Q1953.09 969.28 1957.5 969.28 Q1965.2 969.28 1969.21 966.242 Q1973.26 963.204 1973.26 957.411 Q1973.26 952.064 1969.49 949.066 Q1965.77 946.028 1959.08 946.028 L1952.03 946.028 L1952.03 939.303 L1959.41 939.303 Q1965.44 939.303 1968.64 936.913 Q1971.84 934.483 1971.84 929.946 Q1971.84 925.287 1968.52 922.816 Q1965.24 920.305 1959.08 920.305 Q1955.72 920.305 1951.87 921.034 Q1948.02 921.763 1943.41 923.302 L1943.41 916.011 Q1948.06 914.714 1952.12 914.066 Q1956.21 913.418 1959.81 913.418 Q1969.13 913.418 1974.56 917.672 Q1979.99 921.885 1979.99 929.095 Q1979.99 934.118 1977.11 937.602 Q1974.23 941.045 1968.93 942.382 Z\" fill=\"#000000\" fill-rule=\"nonzero\" fill-opacity=\"1\" /><path clip-path=\"url(#clip940)\" d=\"M1998.34 968.105 L2011.7 968.105 L2011.7 921.966 L1997.16 924.882 L1997.16 917.429 L2011.62 914.512 L2019.81 914.512 L2019.81 968.105 L2033.17 968.105 L2033.17 974.992 L1998.34 974.992 L1998.34 968.105 Z\" fill=\"#000000\" fill-rule=\"nonzero\" fill-opacity=\"1\" /><path clip-path=\"url(#clip940)\" d=\"M2271.22 942.382 Q2277.09 943.638 2280.37 947.608 Q2283.69 951.578 2283.69 957.411 Q2283.69 966.363 2277.53 971.265 Q2271.38 976.167 2260.04 976.167 Q2256.23 976.167 2252.18 975.397 Q2248.17 974.668 2243.87 973.169 L2243.87 965.27 Q2247.27 967.255 2251.33 968.267 Q2255.38 969.28 2259.79 969.28 Q2267.49 969.28 2271.5 966.242 Q2275.55 963.204 2275.55 957.411 Q2275.55 952.064 2271.78 949.066 Q2268.06 946.028 2261.37 946.028 L2254.32 946.028 L2254.32 939.303 L2261.7 939.303 Q2267.73 939.303 2270.93 936.913 Q2274.13 934.483 2274.13 929.946 Q2274.13 925.287 2270.81 922.816 Q2267.53 920.305 2261.37 920.305 Q2258.01 920.305 2254.16 921.034 Q2250.31 921.763 2245.69 923.302 L2245.69 916.011 Q2250.35 914.714 2254.4 914.066 Q2258.5 913.418 2262.1 913.418 Q2271.42 913.418 2276.85 917.672 Q2282.27 921.885 2282.27 929.095 Q2282.27 934.118 2279.4 937.602 Q2276.52 941.045 2271.22 942.382 Z\" fill=\"#000000\" fill-rule=\"nonzero\" fill-opacity=\"1\" /><path clip-path=\"url(#clip940)\" d=\"M2306.26 968.105 L2334.81 968.105 L2334.81 974.992 L2296.41 974.992 L2296.41 968.105 Q2301.07 963.285 2309.09 955.183 Q2317.15 947.041 2319.22 944.691 Q2323.15 940.276 2324.69 937.237 Q2326.27 934.159 2326.27 931.202 Q2326.27 926.381 2322.86 923.343 Q2319.5 920.305 2314.07 920.305 Q2310.23 920.305 2305.93 921.641 Q2301.68 922.978 2296.82 925.692 L2296.82 917.429 Q2301.76 915.444 2306.05 914.431 Q2310.35 913.418 2313.91 913.418 Q2323.31 913.418 2328.9 918.117 Q2334.49 922.816 2334.49 930.675 Q2334.49 934.402 2333.07 937.764 Q2331.7 941.086 2328.01 945.623 Q2327 946.798 2321.57 952.428 Q2316.14 958.019 2306.26 968.105 Z\" fill=\"#000000\" fill-rule=\"nonzero\" fill-opacity=\"1\" /><path clip-path=\"url(#clip940)\" d=\"M156.632 791.522 Q162.505 792.778 165.787 796.748 Q169.108 800.718 169.108 806.551 Q169.108 815.504 162.951 820.405 Q156.794 825.307 145.451 825.307 Q141.643 825.307 137.592 824.537 Q133.582 823.808 129.288 822.309 L129.288 814.41 Q132.691 816.395 136.742 817.407 Q140.793 818.42 145.208 818.42 Q152.905 818.42 156.915 815.382 Q160.966 812.344 160.966 806.551 Q160.966 801.204 157.199 798.206 Q153.472 795.168 146.788 795.168 L139.739 795.168 L139.739 788.443 L147.112 788.443 Q153.148 788.443 156.348 786.053 Q159.548 783.623 159.548 779.086 Q159.548 774.427 156.226 771.956 Q152.945 769.445 146.788 769.445 Q143.426 769.445 139.577 770.174 Q135.729 770.903 131.111 772.442 L131.111 765.151 Q135.769 763.854 139.82 763.206 Q143.912 762.558 147.517 762.558 Q156.834 762.558 162.262 766.812 Q167.691 771.025 167.691 778.235 Q167.691 783.258 164.814 786.742 Q161.938 790.185 156.632 791.522 Z\" fill=\"#000000\" fill-rule=\"nonzero\" fill-opacity=\"1\" /><path clip-path=\"url(#clip940)\" d=\"M209.415 791.522 Q215.289 792.778 218.57 796.748 Q221.892 800.718 221.892 806.551 Q221.892 815.504 215.734 820.405 Q209.577 825.307 198.234 825.307 Q194.426 825.307 190.376 824.537 Q186.365 823.808 182.071 822.309 L182.071 814.41 Q185.474 816.395 189.525 817.407 Q193.576 818.42 197.991 818.42 Q205.688 818.42 209.698 815.382 Q213.749 812.344 213.749 806.551 Q213.749 801.204 209.982 798.206 Q206.255 795.168 199.571 795.168 L192.523 795.168 L192.523 788.443 L199.895 788.443 Q205.931 788.443 209.131 786.053 Q212.331 783.623 212.331 779.086 Q212.331 774.427 209.01 771.956 Q205.729 769.445 199.571 769.445 Q196.209 769.445 192.361 770.174 Q188.512 770.903 183.894 772.442 L183.894 765.151 Q188.553 763.854 192.604 763.206 Q196.695 762.558 200.3 762.558 Q209.617 762.558 215.046 766.812 Q220.474 771.025 220.474 778.235 Q220.474 783.258 217.598 786.742 Q214.722 790.185 209.415 791.522 Z\" fill=\"#000000\" fill-rule=\"nonzero\" fill-opacity=\"1\" /><path clip-path=\"url(#clip940)\" d=\"M457.604 791.522 Q463.478 792.778 466.759 796.748 Q470.081 800.718 470.081 806.551 Q470.081 815.504 463.923 820.405 Q457.766 825.307 446.423 825.307 Q442.616 825.307 438.565 824.537 Q434.554 823.808 430.26 822.309 L430.26 814.41 Q433.663 816.395 437.714 817.407 Q441.765 818.42 446.18 818.42 Q453.877 818.42 457.887 815.382 Q461.938 812.344 461.938 806.551 Q461.938 801.204 458.171 798.206 Q454.444 795.168 447.76 795.168 L440.712 795.168 L440.712 788.443 L448.084 788.443 Q454.12 788.443 457.32 786.053 Q460.521 783.623 460.521 779.086 Q460.521 774.427 457.199 771.956 Q453.918 769.445 447.76 769.445 Q444.398 769.445 440.55 770.174 Q436.701 770.903 432.083 772.442 L432.083 765.151 Q436.742 763.854 440.793 763.206 Q444.884 762.558 448.489 762.558 Q457.806 762.558 463.235 766.812 Q468.663 771.025 468.663 778.235 Q468.663 783.258 465.787 786.742 Q462.911 790.185 457.604 791.522 Z\" fill=\"#000000\" fill-rule=\"nonzero\" fill-opacity=\"1\" /><path clip-path=\"url(#clip940)\" d=\"M508.078 770.782 L487.419 803.067 L508.078 803.067 L508.078 770.782 M505.931 763.652 L516.22 763.652 L516.22 803.067 L524.849 803.067 L524.849 809.873 L516.22 809.873 L516.22 824.132 L508.078 824.132 L508.078 809.873 L480.775 809.873 L480.775 801.974 L505.931 763.652 Z\" fill=\"#000000\" fill-rule=\"nonzero\" fill-opacity=\"1\" /><path clip-path=\"url(#clip940)\" d=\"M760.865 791.522 Q766.739 792.778 770.02 796.748 Q773.342 800.718 773.342 806.551 Q773.342 815.504 767.184 820.405 Q761.027 825.307 749.684 825.307 Q745.877 825.307 741.826 824.537 Q737.815 823.808 733.521 822.309 L733.521 814.41 Q736.924 816.395 740.975 817.407 Q745.026 818.42 749.441 818.42 Q757.138 818.42 761.149 815.382 Q765.199 812.344 765.199 806.551 Q765.199 801.204 761.432 798.206 Q757.705 795.168 751.021 795.168 L743.973 795.168 L743.973 788.443 L751.345 788.443 Q757.381 788.443 760.581 786.053 Q763.782 783.623 763.782 779.086 Q763.782 774.427 760.46 771.956 Q757.179 769.445 751.021 769.445 Q747.659 769.445 743.811 770.174 Q739.962 770.903 735.344 772.442 L735.344 765.151 Q740.003 763.854 744.054 763.206 Q748.145 762.558 751.75 762.558 Q761.067 762.558 766.496 766.812 Q771.924 771.025 771.924 778.235 Q771.924 783.258 769.048 786.742 Q766.172 790.185 760.865 791.522 Z\" fill=\"#000000\" fill-rule=\"nonzero\" fill-opacity=\"1\" /><path clip-path=\"url(#clip940)\" d=\"M788.938 763.652 L821.061 763.652 L821.061 770.538 L796.432 770.538 L796.432 785.365 Q798.214 784.757 799.997 784.474 Q801.779 784.15 803.561 784.15 Q813.689 784.15 819.603 789.699 Q825.517 795.249 825.517 804.728 Q825.517 814.491 819.441 819.919 Q813.365 825.307 802.306 825.307 Q798.498 825.307 794.528 824.659 Q790.599 824.01 786.386 822.714 L786.386 814.491 Q790.031 816.476 793.92 817.448 Q797.809 818.42 802.144 818.42 Q809.152 818.42 813.243 814.734 Q817.335 811.048 817.335 804.728 Q817.335 798.409 813.243 794.722 Q809.152 791.036 802.144 791.036 Q798.862 791.036 795.581 791.765 Q792.34 792.494 788.938 794.034 L788.938 763.652 Z\" fill=\"#000000\" fill-rule=\"nonzero\" fill-opacity=\"1\" /><path clip-path=\"url(#clip940)\" d=\"M1061.82 791.522 Q1067.69 792.778 1070.97 796.748 Q1074.29 800.718 1074.29 806.551 Q1074.29 815.504 1068.14 820.405 Q1061.98 825.307 1050.64 825.307 Q1046.83 825.307 1042.78 824.537 Q1038.77 823.808 1034.47 822.309 L1034.47 814.41 Q1037.88 816.395 1041.93 817.407 Q1045.98 818.42 1050.39 818.42 Q1058.09 818.42 1062.1 815.382 Q1066.15 812.344 1066.15 806.551 Q1066.15 801.204 1062.38 798.206 Q1058.66 795.168 1051.97 795.168 L1044.92 795.168 L1044.92 788.443 L1052.3 788.443 Q1058.33 788.443 1061.53 786.053 Q1064.73 783.623 1064.73 779.086 Q1064.73 774.427 1061.41 771.956 Q1058.13 769.445 1051.97 769.445 Q1048.61 769.445 1044.76 770.174 Q1040.91 770.903 1036.3 772.442 L1036.3 765.151 Q1040.95 763.854 1045.01 763.206 Q1049.1 762.558 1052.7 762.558 Q1062.02 762.558 1067.45 766.812 Q1072.88 771.025 1072.88 778.235 Q1072.88 783.258 1070 786.742 Q1067.12 790.185 1061.82 791.522 Z\" fill=\"#000000\" fill-rule=\"nonzero\" fill-opacity=\"1\" /><path clip-path=\"url(#clip940)\" d=\"M1108.32 790.631 Q1102.81 790.631 1099.57 794.398 Q1096.37 798.166 1096.37 804.728 Q1096.37 811.25 1099.57 815.058 Q1102.81 818.825 1108.32 818.825 Q1113.83 818.825 1117.03 815.058 Q1120.27 811.25 1120.27 804.728 Q1120.27 798.166 1117.03 794.398 Q1113.83 790.631 1108.32 790.631 M1124.57 764.989 L1124.57 772.442 Q1121.49 770.984 1118.33 770.214 Q1115.21 769.445 1112.13 769.445 Q1104.03 769.445 1099.73 774.913 Q1095.48 780.382 1094.87 791.441 Q1097.26 787.917 1100.87 786.053 Q1104.47 784.15 1108.81 784.15 Q1117.92 784.15 1123.19 789.699 Q1128.49 795.208 1128.49 804.728 Q1128.49 814.045 1122.99 819.676 Q1117.48 825.307 1108.32 825.307 Q1097.83 825.307 1092.28 817.286 Q1086.73 809.225 1086.73 793.953 Q1086.73 779.613 1093.54 771.106 Q1100.34 762.558 1111.81 762.558 Q1114.88 762.558 1118 763.166 Q1121.16 763.773 1124.57 764.989 Z\" fill=\"#000000\" fill-rule=\"nonzero\" fill-opacity=\"1\" /><path clip-path=\"url(#clip940)\" d=\"M1364.71 791.522 Q1370.59 792.778 1373.87 796.748 Q1377.19 800.718 1377.19 806.551 Q1377.19 815.504 1371.03 820.405 Q1364.88 825.307 1353.53 825.307 Q1349.73 825.307 1345.67 824.537 Q1341.66 823.808 1337.37 822.309 L1337.37 814.41 Q1340.77 816.395 1344.82 817.407 Q1348.87 818.42 1353.29 818.42 Q1360.99 818.42 1365 815.382 Q1369.05 812.344 1369.05 806.551 Q1369.05 801.204 1365.28 798.206 Q1361.55 795.168 1354.87 795.168 L1347.82 795.168 L1347.82 788.443 L1355.19 788.443 Q1361.23 788.443 1364.43 786.053 Q1367.63 783.623 1367.63 779.086 Q1367.63 774.427 1364.31 771.956 Q1361.03 769.445 1354.87 769.445 Q1351.51 769.445 1347.66 770.174 Q1343.81 770.903 1339.19 772.442 L1339.19 765.151 Q1343.85 763.854 1347.9 763.206 Q1351.99 762.558 1355.6 762.558 Q1364.92 762.558 1370.34 766.812 Q1375.77 771.025 1375.77 778.235 Q1375.77 783.258 1372.9 786.742 Q1370.02 790.185 1364.71 791.522 Z\" fill=\"#000000\" fill-rule=\"nonzero\" fill-opacity=\"1\" /><path clip-path=\"url(#clip940)\" d=\"M1390.64 763.652 L1429.53 763.652 L1429.53 767.136 L1407.57 824.132 L1399.02 824.132 L1419.68 770.538 L1390.64 770.538 L1390.64 763.652 Z\" fill=\"#000000\" fill-rule=\"nonzero\" fill-opacity=\"1\" /><path clip-path=\"url(#clip940)\" d=\"M1665.97 791.522 Q1671.84 792.778 1675.12 796.748 Q1678.45 800.718 1678.45 806.551 Q1678.45 815.504 1672.29 820.405 Q1666.13 825.307 1654.79 825.307 Q1650.98 825.307 1646.93 824.537 Q1642.92 823.808 1638.63 822.309 L1638.63 814.41 Q1642.03 816.395 1646.08 817.407 Q1650.13 818.42 1654.55 818.42 Q1662.24 818.42 1666.25 815.382 Q1670.3 812.344 1670.3 806.551 Q1670.3 801.204 1666.54 798.206 Q1662.81 795.168 1656.13 795.168 L1649.08 795.168 L1649.08 788.443 L1656.45 788.443 Q1662.49 788.443 1665.69 786.053 Q1668.89 783.623 1668.89 779.086 Q1668.89 774.427 1665.56 771.956 Q1662.28 769.445 1656.13 769.445 Q1652.76 769.445 1648.92 770.174 Q1645.07 770.903 1640.45 772.442 L1640.45 765.151 Q1645.11 763.854 1649.16 763.206 Q1653.25 762.558 1656.85 762.558 Q1666.17 762.558 1671.6 766.812 Q1677.03 771.025 1677.03 778.235 Q1677.03 783.258 1674.15 786.742 Q1671.28 790.185 1665.97 791.522 Z\" fill=\"#000000\" fill-rule=\"nonzero\" fill-opacity=\"1\" /><path clip-path=\"url(#clip940)\" d=\"M1711.46 795.411 Q1705.63 795.411 1702.27 798.53 Q1698.94 801.649 1698.94 807.118 Q1698.94 812.587 1702.27 815.706 Q1705.63 818.825 1711.46 818.825 Q1717.29 818.825 1720.66 815.706 Q1724.02 812.546 1724.02 807.118 Q1724.02 801.649 1720.66 798.53 Q1717.33 795.411 1711.46 795.411 M1703.28 791.927 Q1698.01 790.631 1695.05 787.026 Q1692.14 783.42 1692.14 778.235 Q1692.14 770.984 1697.28 766.771 Q1702.47 762.558 1711.46 762.558 Q1720.49 762.558 1725.64 766.771 Q1730.78 770.984 1730.78 778.235 Q1730.78 783.42 1727.83 787.026 Q1724.91 790.631 1719.68 791.927 Q1725.6 793.305 1728.88 797.315 Q1732.2 801.325 1732.2 807.118 Q1732.2 815.909 1726.81 820.608 Q1721.47 825.307 1711.46 825.307 Q1701.46 825.307 1696.07 820.608 Q1690.72 815.909 1690.72 807.118 Q1690.72 801.325 1694.04 797.315 Q1697.36 793.305 1703.28 791.927 M1700.28 779.005 Q1700.28 783.704 1703.2 786.337 Q1706.15 788.97 1711.46 788.97 Q1716.73 788.97 1719.68 786.337 Q1722.68 783.704 1722.68 779.005 Q1722.68 774.306 1719.68 771.673 Q1716.73 769.04 1711.46 769.04 Q1706.15 769.04 1703.2 771.673 Q1700.28 774.306 1700.28 779.005 Z\" fill=\"#000000\" fill-rule=\"nonzero\" fill-opacity=\"1\" /><path clip-path=\"url(#clip940)\" d=\"M1968.02 791.522 Q1973.89 792.778 1977.17 796.748 Q1980.49 800.718 1980.49 806.551 Q1980.49 815.504 1974.33 820.405 Q1968.18 825.307 1956.83 825.307 Q1953.03 825.307 1948.98 824.537 Q1944.97 823.808 1940.67 822.309 L1940.67 814.41 Q1944.07 816.395 1948.13 817.407 Q1952.18 818.42 1956.59 818.42 Q1964.29 818.42 1968.3 815.382 Q1972.35 812.344 1972.35 806.551 Q1972.35 801.204 1968.58 798.206 Q1964.86 795.168 1958.17 795.168 L1951.12 795.168 L1951.12 788.443 L1958.5 788.443 Q1964.53 788.443 1967.73 786.053 Q1970.93 783.623 1970.93 779.086 Q1970.93 774.427 1967.61 771.956 Q1964.33 769.445 1958.17 769.445 Q1954.81 769.445 1950.96 770.174 Q1947.11 770.903 1942.49 772.442 L1942.49 765.151 Q1947.15 763.854 1951.2 763.206 Q1955.3 762.558 1958.9 762.558 Q1968.22 762.558 1973.65 766.812 Q1979.07 771.025 1979.07 778.235 Q1979.07 783.258 1976.2 786.742 Q1973.32 790.185 1968.02 791.522 Z\" fill=\"#000000\" fill-rule=\"nonzero\" fill-opacity=\"1\" /><path clip-path=\"url(#clip940)\" d=\"M1996.25 822.876 L1996.25 815.423 Q1999.33 816.881 2002.49 817.651 Q2005.65 818.42 2008.69 818.42 Q2016.79 818.42 2021.04 812.992 Q2025.34 807.523 2025.94 796.424 Q2023.59 799.908 2019.99 801.771 Q2016.38 803.634 2012.01 803.634 Q2002.93 803.634 1997.63 798.166 Q1992.36 792.656 1992.36 783.137 Q1992.36 773.82 1997.87 768.189 Q2003.38 762.558 2012.53 762.558 Q2023.03 762.558 2028.54 770.62 Q2034.09 778.64 2034.09 793.953 Q2034.09 808.252 2027.28 816.8 Q2020.51 825.307 2009.05 825.307 Q2005.97 825.307 2002.81 824.699 Q1999.65 824.091 1996.25 822.876 M2012.53 797.234 Q2018.04 797.234 2021.24 793.467 Q2024.48 789.699 2024.48 783.137 Q2024.48 776.615 2021.24 772.848 Q2018.04 769.04 2012.53 769.04 Q2007.03 769.04 2003.78 772.848 Q2000.58 776.615 2000.58 783.137 Q2000.58 789.699 2003.78 793.467 Q2007.03 797.234 2012.53 797.234 Z\" fill=\"#000000\" fill-rule=\"nonzero\" fill-opacity=\"1\" /><path clip-path=\"url(#clip940)\" d=\"M2268.64 770.782 L2247.98 803.067 L2268.64 803.067 L2268.64 770.782 M2266.5 763.652 L2276.79 763.652 L2276.79 803.067 L2285.41 803.067 L2285.41 809.873 L2276.79 809.873 L2276.79 824.132 L2268.64 824.132 L2268.64 809.873 L2241.34 809.873 L2241.34 801.974 L2266.5 763.652 Z\" fill=\"#000000\" fill-rule=\"nonzero\" fill-opacity=\"1\" /><path clip-path=\"url(#clip940)\" d=\"M2316.44 769.04 Q2310.12 769.04 2306.92 775.278 Q2303.76 781.476 2303.76 793.953 Q2303.76 806.389 2306.92 812.627 Q2310.12 818.825 2316.44 818.825 Q2322.8 818.825 2325.96 812.627 Q2329.16 806.389 2329.16 793.953 Q2329.16 781.476 2325.96 775.278 Q2322.8 769.04 2316.44 769.04 M2316.44 762.558 Q2326.61 762.558 2331.96 770.62 Q2337.35 778.64 2337.35 793.953 Q2337.35 809.225 2331.96 817.286 Q2326.61 825.307 2316.44 825.307 Q2306.28 825.307 2300.89 817.286 Q2295.54 809.225 2295.54 793.953 Q2295.54 778.64 2300.89 770.62 Q2306.28 762.558 2316.44 762.558 Z\" fill=\"#000000\" fill-rule=\"nonzero\" fill-opacity=\"1\" /><path clip-path=\"url(#clip940)\" d=\"M155.963 619.922 L135.304 652.207 L155.963 652.207 L155.963 619.922 M153.816 612.792 L164.105 612.792 L164.105 652.207 L172.734 652.207 L172.734 659.013 L164.105 659.013 L164.105 673.272 L155.963 673.272 L155.963 659.013 L128.66 659.013 L128.66 651.114 L153.816 612.792 Z\" fill=\"#000000\" fill-rule=\"nonzero\" fill-opacity=\"1\" /><path clip-path=\"url(#clip940)\" d=\"M187.682 666.385 L201.05 666.385 L201.05 620.246 L186.507 623.162 L186.507 615.709 L200.969 612.792 L209.152 612.792 L209.152 666.385 L222.52 666.385 L222.52 673.272 L187.682 673.272 L187.682 666.385 Z\" fill=\"#000000\" fill-rule=\"nonzero\" fill-opacity=\"1\" /><path clip-path=\"url(#clip940)\" d=\"M458.252 619.922 L437.592 652.207 L458.252 652.207 L458.252 619.922 M456.105 612.792 L466.394 612.792 L466.394 652.207 L475.023 652.207 L475.023 659.013 L466.394 659.013 L466.394 673.272 L458.252 673.272 L458.252 659.013 L430.949 659.013 L430.949 651.114 L456.105 612.792 Z\" fill=\"#000000\" fill-rule=\"nonzero\" fill-opacity=\"1\" /><path clip-path=\"url(#clip940)\" d=\"M495.601 666.385 L524.16 666.385 L524.16 673.272 L485.758 673.272 L485.758 666.385 Q490.416 661.565 498.437 653.463 Q506.498 645.321 508.564 642.971 Q512.494 638.556 514.033 635.518 Q515.613 632.439 515.613 629.482 Q515.613 624.661 512.21 621.623 Q508.848 618.585 503.42 618.585 Q499.571 618.585 495.277 619.922 Q491.024 621.258 486.163 623.973 L486.163 615.709 Q491.105 613.724 495.399 612.711 Q499.693 611.698 503.258 611.698 Q512.656 611.698 518.246 616.397 Q523.836 621.096 523.836 628.955 Q523.836 632.682 522.418 636.044 Q521.041 639.366 517.355 643.903 Q516.342 645.078 510.914 650.708 Q505.486 656.299 495.601 666.385 Z\" fill=\"#000000\" fill-rule=\"nonzero\" fill-opacity=\"1\" /><path clip-path=\"url(#clip940)\" d=\"M759.386 619.922 L738.727 652.207 L759.386 652.207 L759.386 619.922 M757.239 612.792 L767.529 612.792 L767.529 652.207 L776.157 652.207 L776.157 659.013 L767.529 659.013 L767.529 673.272 L759.386 673.272 L759.386 659.013 L732.083 659.013 L732.083 651.114 L757.239 612.792 Z\" fill=\"#000000\" fill-rule=\"nonzero\" fill-opacity=\"1\" /><path clip-path=\"url(#clip940)\" d=\"M814.479 640.662 Q820.352 641.918 823.634 645.888 Q826.955 649.858 826.955 655.691 Q826.955 664.644 820.798 669.545 Q814.641 674.447 803.298 674.447 Q799.49 674.447 795.439 673.677 Q791.429 672.948 787.135 671.449 L787.135 663.55 Q790.538 665.535 794.589 666.548 Q798.64 667.56 803.055 667.56 Q810.752 667.56 814.762 664.522 Q818.813 661.484 818.813 655.691 Q818.813 650.344 815.046 647.346 Q811.319 644.308 804.635 644.308 L797.586 644.308 L797.586 637.584 L804.959 637.584 Q810.995 637.584 814.195 635.194 Q817.395 632.763 817.395 628.226 Q817.395 623.567 814.074 621.096 Q810.792 618.585 804.635 618.585 Q801.273 618.585 797.424 619.314 Q793.576 620.043 788.958 621.582 L788.958 614.291 Q793.617 612.995 797.667 612.346 Q801.759 611.698 805.364 611.698 Q814.681 611.698 820.109 615.952 Q825.538 620.165 825.538 627.375 Q825.538 632.398 822.661 635.882 Q819.785 639.325 814.479 640.662 Z\" fill=\"#000000\" fill-rule=\"nonzero\" fill-opacity=\"1\" /><path clip-path=\"url(#clip940)\" d=\"M1060.36 619.922 L1039.7 652.207 L1060.36 652.207 L1060.36 619.922 M1058.21 612.792 L1068.5 612.792 L1068.5 652.207 L1077.13 652.207 L1077.13 659.013 L1068.5 659.013 L1068.5 673.272 L1060.36 673.272 L1060.36 659.013 L1033.06 659.013 L1033.06 651.114 L1058.21 612.792 Z\" fill=\"#000000\" fill-rule=\"nonzero\" fill-opacity=\"1\" /><path clip-path=\"url(#clip940)\" d=\"M1113.14 619.922 L1092.48 652.207 L1113.14 652.207 L1113.14 619.922 M1110.99 612.792 L1121.28 612.792 L1121.28 652.207 L1129.91 652.207 L1129.91 659.013 L1121.28 659.013 L1121.28 673.272 L1113.14 673.272 L1113.14 659.013 L1085.84 659.013 L1085.84 651.114 L1110.99 612.792 Z\" fill=\"#000000\" fill-rule=\"nonzero\" fill-opacity=\"1\" /><path clip-path=\"url(#clip940)\" d=\"M1363.62 619.922 L1342.96 652.207 L1363.62 652.207 L1363.62 619.922 M1361.47 612.792 L1371.76 612.792 L1371.76 652.207 L1380.39 652.207 L1380.39 659.013 L1371.76 659.013 L1371.76 673.272 L1363.62 673.272 L1363.62 659.013 L1336.32 659.013 L1336.32 651.114 L1361.47 612.792 Z\" fill=\"#000000\" fill-rule=\"nonzero\" fill-opacity=\"1\" /><path clip-path=\"url(#clip940)\" d=\"M1394 612.792 L1426.13 612.792 L1426.13 619.679 L1401.5 619.679 L1401.5 634.505 Q1403.28 633.897 1405.06 633.614 Q1406.84 633.29 1408.63 633.29 Q1418.75 633.29 1424.67 638.839 Q1430.58 644.389 1430.58 653.868 Q1430.58 663.631 1424.5 669.059 Q1418.43 674.447 1407.37 674.447 Q1403.56 674.447 1399.59 673.799 Q1395.66 673.15 1391.45 671.854 L1391.45 663.631 Q1395.1 665.616 1398.98 666.588 Q1402.87 667.56 1407.21 667.56 Q1414.22 667.56 1418.31 663.874 Q1422.4 660.188 1422.4 653.868 Q1422.4 647.549 1418.31 643.862 Q1414.22 640.176 1407.21 640.176 Q1403.93 640.176 1400.65 640.905 Q1397.4 641.634 1394 643.174 L1394 612.792 Z\" fill=\"#000000\" fill-rule=\"nonzero\" fill-opacity=\"1\" /><path clip-path=\"url(#clip940)\" d=\"M1664.57 619.922 L1643.91 652.207 L1664.57 652.207 L1664.57 619.922 M1662.42 612.792 L1672.71 612.792 L1672.71 652.207 L1681.34 652.207 L1681.34 659.013 L1672.71 659.013 L1672.71 673.272 L1664.57 673.272 L1664.57 659.013 L1637.27 659.013 L1637.27 651.114 L1662.42 612.792 Z\" fill=\"#000000\" fill-rule=\"nonzero\" fill-opacity=\"1\" /><path clip-path=\"url(#clip940)\" d=\"M1713.39 639.771 Q1707.88 639.771 1704.64 643.538 Q1701.44 647.306 1701.44 653.868 Q1701.44 660.39 1704.64 664.198 Q1707.88 667.965 1713.39 667.965 Q1718.89 667.965 1722.09 664.198 Q1725.34 660.39 1725.34 653.868 Q1725.34 647.306 1722.09 643.538 Q1718.89 639.771 1713.39 639.771 M1729.63 614.129 L1729.63 621.582 Q1726.55 620.124 1723.39 619.354 Q1720.27 618.585 1717.19 618.585 Q1709.09 618.585 1704.8 624.054 Q1700.54 629.522 1699.94 640.581 Q1702.33 637.057 1705.93 635.194 Q1709.54 633.29 1713.87 633.29 Q1722.99 633.29 1728.25 638.839 Q1733.56 644.349 1733.56 653.868 Q1733.56 663.185 1728.05 668.816 Q1722.54 674.447 1713.39 674.447 Q1702.89 674.447 1697.34 666.426 Q1691.79 658.365 1691.79 643.093 Q1691.79 628.753 1698.6 620.246 Q1705.4 611.698 1716.87 611.698 Q1719.95 611.698 1723.07 612.306 Q1726.23 612.914 1729.63 614.129 Z\" fill=\"#000000\" fill-rule=\"nonzero\" fill-opacity=\"1\" /><path clip-path=\"url(#clip940)\" d=\"M1967.47 619.922 L1946.81 652.207 L1967.47 652.207 L1967.47 619.922 M1965.32 612.792 L1975.61 612.792 L1975.61 652.207 L1984.24 652.207 L1984.24 659.013 L1975.61 659.013 L1975.61 673.272 L1967.47 673.272 L1967.47 659.013 L1940.17 659.013 L1940.17 651.114 L1965.32 612.792 Z\" fill=\"#000000\" fill-rule=\"nonzero\" fill-opacity=\"1\" /><path clip-path=\"url(#clip940)\" d=\"M1995.7 612.792 L2034.59 612.792 L2034.59 616.276 L2012.64 673.272 L2004.09 673.272 L2024.75 619.679 L1995.7 619.679 L1995.7 612.792 Z\" fill=\"#000000\" fill-rule=\"nonzero\" fill-opacity=\"1\" /><path clip-path=\"url(#clip940)\" d=\"M2268.72 619.922 L2248.06 652.207 L2268.72 652.207 L2268.72 619.922 M2266.58 612.792 L2276.87 612.792 L2276.87 652.207 L2285.49 652.207 L2285.49 659.013 L2276.87 659.013 L2276.87 673.272 L2268.72 673.272 L2268.72 659.013 L2241.42 659.013 L2241.42 651.114 L2266.58 612.792 Z\" fill=\"#000000\" fill-rule=\"nonzero\" fill-opacity=\"1\" /><path clip-path=\"url(#clip940)\" d=\"M2316.52 644.551 Q2310.69 644.551 2307.33 647.67 Q2304.01 650.789 2304.01 656.258 Q2304.01 661.727 2307.33 664.846 Q2310.69 667.965 2316.52 667.965 Q2322.36 667.965 2325.72 664.846 Q2329.08 661.686 2329.08 656.258 Q2329.08 650.789 2325.72 647.67 Q2322.4 644.551 2316.52 644.551 M2308.34 641.067 Q2303.08 639.771 2300.12 636.166 Q2297.2 632.56 2297.2 627.375 Q2297.2 620.124 2302.35 615.911 Q2307.53 611.698 2316.52 611.698 Q2325.56 611.698 2330.7 615.911 Q2335.85 620.124 2335.85 627.375 Q2335.85 632.56 2332.89 636.166 Q2329.97 639.771 2324.75 641.067 Q2330.66 642.445 2333.94 646.455 Q2337.27 650.465 2337.27 656.258 Q2337.27 665.049 2331.88 669.748 Q2326.53 674.447 2316.52 674.447 Q2306.52 674.447 2301.13 669.748 Q2295.78 665.049 2295.78 656.258 Q2295.78 650.465 2299.11 646.455 Q2302.43 642.445 2308.34 641.067 M2305.34 628.145 Q2305.34 632.844 2308.26 635.477 Q2311.22 638.11 2316.52 638.11 Q2321.79 638.11 2324.75 635.477 Q2327.75 632.844 2327.75 628.145 Q2327.75 623.446 2324.75 620.813 Q2321.79 618.18 2316.52 618.18 Q2311.22 618.18 2308.26 620.813 Q2305.34 623.446 2305.34 628.145 Z\" fill=\"#000000\" fill-rule=\"nonzero\" fill-opacity=\"1\" /><path clip-path=\"url(#clip940)\" d=\"M155.052 469.062 L134.392 501.347 L155.052 501.347 L155.052 469.062 M152.905 461.932 L163.194 461.932 L163.194 501.347 L171.822 501.347 L171.822 508.153 L163.194 508.153 L163.194 522.412 L155.052 522.412 L155.052 508.153 L127.749 508.153 L127.749 500.254 L152.905 461.932 Z\" fill=\"#000000\" fill-rule=\"nonzero\" fill-opacity=\"1\" /><path clip-path=\"url(#clip940)\" d=\"M185.596 521.156 L185.596 513.703 Q188.674 515.161 191.834 515.931 Q194.994 516.7 198.032 516.7 Q206.134 516.7 210.387 511.272 Q214.681 505.803 215.289 494.704 Q212.939 498.188 209.334 500.051 Q205.729 501.915 201.354 501.915 Q192.28 501.915 186.973 496.446 Q181.707 490.937 181.707 481.417 Q181.707 472.1 187.216 466.469 Q192.725 460.838 201.88 460.838 Q212.372 460.838 217.881 468.9 Q223.431 476.92 223.431 492.233 Q223.431 506.533 216.625 515.08 Q209.86 523.587 198.396 523.587 Q195.318 523.587 192.158 522.979 Q188.998 522.372 185.596 521.156 M201.88 495.514 Q207.389 495.514 210.59 491.747 Q213.83 487.979 213.83 481.417 Q213.83 474.895 210.59 471.128 Q207.389 467.32 201.88 467.32 Q196.371 467.32 193.13 471.128 Q189.93 474.895 189.93 481.417 Q189.93 487.979 193.13 491.747 Q196.371 495.514 201.88 495.514 Z\" fill=\"#000000\" fill-rule=\"nonzero\" fill-opacity=\"1\" /><path clip-path=\"url(#clip940)\" d=\"M433.278 461.932 L465.402 461.932 L465.402 468.819 L440.772 468.819 L440.772 483.645 Q442.555 483.037 444.337 482.754 Q446.12 482.43 447.902 482.43 Q458.029 482.43 463.944 487.979 Q469.858 493.529 469.858 503.008 Q469.858 512.771 463.781 518.199 Q457.705 523.587 446.646 523.587 Q442.838 523.587 438.868 522.939 Q434.939 522.291 430.726 520.994 L430.726 512.771 Q434.372 514.756 438.261 515.728 Q442.15 516.7 446.484 516.7 Q453.492 516.7 457.584 513.014 Q461.675 509.328 461.675 503.008 Q461.675 496.689 457.584 493.003 Q453.492 489.316 446.484 489.316 Q443.203 489.316 439.922 490.045 Q436.681 490.775 433.278 492.314 L433.278 461.932 Z\" fill=\"#000000\" fill-rule=\"nonzero\" fill-opacity=\"1\" /><path clip-path=\"url(#clip940)\" d=\"M503.48 467.32 Q497.161 467.32 493.961 473.558 Q490.801 479.756 490.801 492.233 Q490.801 504.669 493.961 510.908 Q497.161 517.105 503.48 517.105 Q509.84 517.105 513 510.908 Q516.2 504.669 516.2 492.233 Q516.2 479.756 513 473.558 Q509.84 467.32 503.48 467.32 M503.48 460.838 Q513.648 460.838 518.995 468.9 Q524.383 476.92 524.383 492.233 Q524.383 507.505 518.995 515.566 Q513.648 523.587 503.48 523.587 Q493.313 523.587 487.925 515.566 Q482.578 507.505 482.578 492.233 Q482.578 476.92 487.925 468.9 Q493.313 460.838 503.48 460.838 Z\" fill=\"#000000\" fill-rule=\"nonzero\" fill-opacity=\"1\" /><path clip-path=\"url(#clip940)\" d=\"M736.316 461.932 L768.44 461.932 L768.44 468.819 L743.811 468.819 L743.811 483.645 Q745.593 483.037 747.375 482.754 Q749.158 482.43 750.94 482.43 Q761.067 482.43 766.982 487.979 Q772.896 493.529 772.896 503.008 Q772.896 512.771 766.82 518.199 Q760.743 523.587 749.684 523.587 Q745.877 523.587 741.907 522.939 Q737.977 522.291 733.764 520.994 L733.764 512.771 Q737.41 514.756 741.299 515.728 Q745.188 516.7 749.522 516.7 Q756.53 516.7 760.622 513.014 Q764.713 509.328 764.713 503.008 Q764.713 496.689 760.622 493.003 Q756.53 489.316 749.522 489.316 Q746.241 489.316 742.96 490.045 Q739.719 490.775 736.316 492.314 L736.316 461.932 Z\" fill=\"#000000\" fill-rule=\"nonzero\" fill-opacity=\"1\" /><path clip-path=\"url(#clip940)\" d=\"M790.437 515.526 L803.805 515.526 L803.805 469.386 L789.262 472.302 L789.262 464.849 L803.724 461.932 L811.906 461.932 L811.906 515.526 L825.274 515.526 L825.274 522.412 L790.437 522.412 L790.437 515.526 Z\" fill=\"#000000\" fill-rule=\"nonzero\" fill-opacity=\"1\" /><path clip-path=\"url(#clip940)\" d=\"M1038.61 461.932 L1070.73 461.932 L1070.73 468.819 L1046.1 468.819 L1046.1 483.645 Q1047.88 483.037 1049.66 482.754 Q1051.45 482.43 1053.23 482.43 Q1063.36 482.43 1069.27 487.979 Q1075.18 493.529 1075.18 503.008 Q1075.18 512.771 1069.11 518.199 Q1063.03 523.587 1051.97 523.587 Q1048.17 523.587 1044.2 522.939 Q1040.27 522.291 1036.05 520.994 L1036.05 512.771 Q1039.7 514.756 1043.59 515.728 Q1047.48 516.7 1051.81 516.7 Q1058.82 516.7 1062.91 513.014 Q1067 509.328 1067 503.008 Q1067 496.689 1062.91 493.003 Q1058.82 489.316 1051.81 489.316 Q1048.53 489.316 1045.25 490.045 Q1042.01 490.775 1038.61 492.314 L1038.61 461.932 Z\" fill=\"#000000\" fill-rule=\"nonzero\" fill-opacity=\"1\" /><path clip-path=\"url(#clip940)\" d=\"M1098.36 515.526 L1126.92 515.526 L1126.92 522.412 L1088.51 522.412 L1088.51 515.526 Q1093.17 510.705 1101.19 502.603 Q1109.25 494.461 1111.32 492.111 Q1115.25 487.696 1116.79 484.658 Q1118.37 481.579 1118.37 478.622 Q1118.37 473.801 1114.96 470.763 Q1111.6 467.725 1106.17 467.725 Q1102.33 467.725 1098.03 469.062 Q1093.78 470.398 1088.92 473.113 L1088.92 464.849 Q1093.86 462.864 1098.15 461.851 Q1102.45 460.838 1106.01 460.838 Q1115.41 460.838 1121 465.537 Q1126.59 470.236 1126.59 478.095 Q1126.59 481.822 1125.17 485.184 Q1123.8 488.506 1120.11 493.043 Q1119.1 494.218 1113.67 499.849 Q1108.24 505.439 1098.36 515.526 Z\" fill=\"#000000\" fill-rule=\"nonzero\" fill-opacity=\"1\" /><path clip-path=\"url(#clip940)\" d=\"M1339.74 461.932 L1371.86 461.932 L1371.86 468.819 L1347.23 468.819 L1347.23 483.645 Q1349.02 483.037 1350.8 482.754 Q1352.58 482.43 1354.36 482.43 Q1364.49 482.43 1370.41 487.979 Q1376.32 493.529 1376.32 503.008 Q1376.32 512.771 1370.24 518.199 Q1364.17 523.587 1353.11 523.587 Q1349.3 523.587 1345.33 522.939 Q1341.4 522.291 1337.19 520.994 L1337.19 512.771 Q1340.83 514.756 1344.72 515.728 Q1348.61 516.7 1352.95 516.7 Q1359.95 516.7 1364.05 513.014 Q1368.14 509.328 1368.14 503.008 Q1368.14 496.689 1364.05 493.003 Q1359.95 489.316 1352.95 489.316 Q1349.66 489.316 1346.38 490.045 Q1343.14 490.775 1339.74 492.314 L1339.74 461.932 Z\" fill=\"#000000\" fill-rule=\"nonzero\" fill-opacity=\"1\" /><path clip-path=\"url(#clip940)\" d=\"M1417.23 489.802 Q1423.11 491.058 1426.39 495.028 Q1429.71 498.998 1429.71 504.831 Q1429.71 513.784 1423.55 518.685 Q1417.4 523.587 1406.05 523.587 Q1402.25 523.587 1398.19 522.817 Q1394.18 522.088 1389.89 520.589 L1389.89 512.69 Q1393.29 514.675 1397.34 515.688 Q1401.39 516.7 1405.81 516.7 Q1413.51 516.7 1417.52 513.662 Q1421.57 510.624 1421.57 504.831 Q1421.57 499.484 1417.8 496.486 Q1414.07 493.448 1407.39 493.448 L1400.34 493.448 L1400.34 486.724 L1407.71 486.724 Q1413.75 486.724 1416.95 484.334 Q1420.15 481.903 1420.15 477.366 Q1420.15 472.707 1416.83 470.236 Q1413.55 467.725 1407.39 467.725 Q1404.03 467.725 1400.18 468.454 Q1396.33 469.183 1391.71 470.723 L1391.71 463.431 Q1396.37 462.135 1400.42 461.486 Q1404.51 460.838 1408.12 460.838 Q1417.44 460.838 1422.86 465.092 Q1428.29 469.305 1428.29 476.515 Q1428.29 481.538 1425.42 485.022 Q1422.54 488.466 1417.23 489.802 Z\" fill=\"#000000\" fill-rule=\"nonzero\" fill-opacity=\"1\" /><path clip-path=\"url(#clip940)\" d=\"M1640.71 461.932 L1672.84 461.932 L1672.84 468.819 L1648.21 468.819 L1648.21 483.645 Q1649.99 483.037 1651.77 482.754 Q1653.55 482.43 1655.34 482.43 Q1665.46 482.43 1671.38 487.979 Q1677.29 493.529 1677.29 503.008 Q1677.29 512.771 1671.22 518.199 Q1665.14 523.587 1654.08 523.587 Q1650.27 523.587 1646.3 522.939 Q1642.37 522.291 1638.16 520.994 L1638.16 512.771 Q1641.81 514.756 1645.69 515.728 Q1649.58 516.7 1653.92 516.7 Q1660.93 516.7 1665.02 513.014 Q1669.11 509.328 1669.11 503.008 Q1669.11 496.689 1665.02 493.003 Q1660.93 489.316 1653.92 489.316 Q1650.64 489.316 1647.36 490.045 Q1644.11 490.775 1640.71 492.314 L1640.71 461.932 Z\" fill=\"#000000\" fill-rule=\"nonzero\" fill-opacity=\"1\" /><path clip-path=\"url(#clip940)\" d=\"M1715.9 469.062 L1695.24 501.347 L1715.9 501.347 L1715.9 469.062 M1713.75 461.932 L1724.04 461.932 L1724.04 501.347 L1732.67 501.347 L1732.67 508.153 L1724.04 508.153 L1724.04 522.412 L1715.9 522.412 L1715.9 508.153 L1688.59 508.153 L1688.59 500.254 L1713.75 461.932 Z\" fill=\"#000000\" fill-rule=\"nonzero\" fill-opacity=\"1\" /><path clip-path=\"url(#clip940)\" d=\"M1943.97 461.932 L1976.1 461.932 L1976.1 468.819 L1951.47 468.819 L1951.47 483.645 Q1953.25 483.037 1955.03 482.754 Q1956.81 482.43 1958.6 482.43 Q1968.72 482.43 1974.64 487.979 Q1980.55 493.529 1980.55 503.008 Q1980.55 512.771 1974.48 518.199 Q1968.4 523.587 1957.34 523.587 Q1953.53 523.587 1949.56 522.939 Q1945.63 522.291 1941.42 520.994 L1941.42 512.771 Q1945.07 514.756 1948.96 515.728 Q1952.84 516.7 1957.18 516.7 Q1964.19 516.7 1968.28 513.014 Q1972.37 509.328 1972.37 503.008 Q1972.37 496.689 1968.28 493.003 Q1964.19 489.316 1957.18 489.316 Q1953.9 489.316 1950.62 490.045 Q1947.38 490.775 1943.97 492.314 L1943.97 461.932 Z\" fill=\"#000000\" fill-rule=\"nonzero\" fill-opacity=\"1\" /><path clip-path=\"url(#clip940)\" d=\"M1996.76 461.932 L2028.88 461.932 L2028.88 468.819 L2004.25 468.819 L2004.25 483.645 Q2006.03 483.037 2007.82 482.754 Q2009.6 482.43 2011.38 482.43 Q2021.51 482.43 2027.42 487.979 Q2033.34 493.529 2033.34 503.008 Q2033.34 512.771 2027.26 518.199 Q2021.18 523.587 2010.12 523.587 Q2006.32 523.587 2002.35 522.939 Q1998.42 522.291 1994.2 520.994 L1994.2 512.771 Q1997.85 514.756 2001.74 515.728 Q2005.63 516.7 2009.96 516.7 Q2016.97 516.7 2021.06 513.014 Q2025.15 509.328 2025.15 503.008 Q2025.15 496.689 2021.06 493.003 Q2016.97 489.316 2009.96 489.316 Q2006.68 489.316 2003.4 490.045 Q2000.16 490.775 1996.76 492.314 L1996.76 461.932 Z\" fill=\"#000000\" fill-rule=\"nonzero\" fill-opacity=\"1\" /><path clip-path=\"url(#clip940)\" d=\"M2244.93 461.932 L2277.05 461.932 L2277.05 468.819 L2252.42 468.819 L2252.42 483.645 Q2254.2 483.037 2255.98 482.754 Q2257.77 482.43 2259.55 482.43 Q2269.68 482.43 2275.59 487.979 Q2281.5 493.529 2281.5 503.008 Q2281.5 512.771 2275.43 518.199 Q2269.35 523.587 2258.29 523.587 Q2254.49 523.587 2250.52 522.939 Q2246.59 522.291 2242.37 520.994 L2242.37 512.771 Q2246.02 514.756 2249.91 515.728 Q2253.8 516.7 2258.13 516.7 Q2265.14 516.7 2269.23 513.014 Q2273.32 509.328 2273.32 503.008 Q2273.32 496.689 2269.23 493.003 Q2265.14 489.316 2258.13 489.316 Q2254.85 489.316 2251.57 490.045 Q2248.33 490.775 2244.93 492.314 L2244.93 461.932 Z\" fill=\"#000000\" fill-rule=\"nonzero\" fill-opacity=\"1\" /><path clip-path=\"url(#clip940)\" d=\"M2316.14 488.911 Q2310.63 488.911 2307.39 492.678 Q2304.19 496.446 2304.19 503.008 Q2304.19 509.53 2307.39 513.338 Q2310.63 517.105 2316.14 517.105 Q2321.65 517.105 2324.85 513.338 Q2328.09 509.53 2328.09 503.008 Q2328.09 496.446 2324.85 492.678 Q2321.65 488.911 2316.14 488.911 M2332.38 463.269 L2332.38 470.723 Q2329.31 469.264 2326.15 468.495 Q2323.03 467.725 2319.95 467.725 Q2311.85 467.725 2307.55 473.194 Q2303.3 478.662 2302.69 489.721 Q2305.08 486.197 2308.69 484.334 Q2312.29 482.43 2316.63 482.43 Q2325.74 482.43 2331.01 487.979 Q2336.31 493.489 2336.31 503.008 Q2336.31 512.325 2330.8 517.956 Q2325.3 523.587 2316.14 523.587 Q2305.65 523.587 2300.1 515.566 Q2294.55 507.505 2294.55 492.233 Q2294.55 477.893 2301.35 469.386 Q2308.16 460.838 2319.62 460.838 Q2322.7 460.838 2325.82 461.446 Q2328.98 462.054 2332.38 463.269 Z\" fill=\"#000000\" fill-rule=\"nonzero\" fill-opacity=\"1\" /><path clip-path=\"url(#clip940)\" d=\"M132.103 311.072 L164.227 311.072 L164.227 317.959 L139.597 317.959 L139.597 332.785 Q141.38 332.177 143.162 331.894 Q144.945 331.57 146.727 331.57 Q156.854 331.57 162.769 337.119 Q168.683 342.669 168.683 352.148 Q168.683 361.911 162.607 367.339 Q156.53 372.727 145.471 372.727 Q141.663 372.727 137.694 372.079 Q133.764 371.431 129.551 370.134 L129.551 361.911 Q133.197 363.896 137.086 364.868 Q140.975 365.84 145.309 365.84 Q152.317 365.84 156.409 362.154 Q160.5 358.468 160.5 352.148 Q160.5 345.829 156.409 342.143 Q152.317 338.456 145.309 338.456 Q142.028 338.456 138.747 339.185 Q135.506 339.915 132.103 341.454 L132.103 311.072 Z\" fill=\"#000000\" fill-rule=\"nonzero\" fill-opacity=\"1\" /><path clip-path=\"url(#clip940)\" d=\"M182.74 311.072 L221.628 311.072 L221.628 314.556 L199.672 371.552 L191.125 371.552 L211.785 317.959 L182.74 317.959 L182.74 311.072 Z\" fill=\"#000000\" fill-rule=\"nonzero\" fill-opacity=\"1\" /><path clip-path=\"url(#clip940)\" d=\"M433.359 311.072 L465.483 311.072 L465.483 317.959 L440.853 317.959 L440.853 332.785 Q442.636 332.177 444.418 331.894 Q446.201 331.57 447.983 331.57 Q458.11 331.57 464.025 337.119 Q469.939 342.669 469.939 352.148 Q469.939 361.911 463.863 367.339 Q457.786 372.727 446.727 372.727 Q442.919 372.727 438.949 372.079 Q435.02 371.431 430.807 370.134 L430.807 361.911 Q434.453 363.896 438.342 364.868 Q442.231 365.84 446.565 365.84 Q453.573 365.84 457.665 362.154 Q461.756 358.468 461.756 352.148 Q461.756 345.829 457.665 342.143 Q453.573 338.456 446.565 338.456 Q443.284 338.456 440.003 339.185 Q436.762 339.915 433.359 341.454 L433.359 311.072 Z\" fill=\"#000000\" fill-rule=\"nonzero\" fill-opacity=\"1\" /><path clip-path=\"url(#clip940)\" d=\"M503.561 342.831 Q497.728 342.831 494.366 345.95 Q491.044 349.07 491.044 354.538 Q491.044 360.007 494.366 363.126 Q497.728 366.245 503.561 366.245 Q509.395 366.245 512.757 363.126 Q516.119 359.967 516.119 354.538 Q516.119 349.07 512.757 345.95 Q509.435 342.831 503.561 342.831 M495.379 339.347 Q490.112 338.051 487.155 334.446 Q484.239 330.841 484.239 325.655 Q484.239 318.404 489.383 314.191 Q494.568 309.978 503.561 309.978 Q512.595 309.978 517.74 314.191 Q522.884 318.404 522.884 325.655 Q522.884 330.841 519.927 334.446 Q517.01 338.051 511.785 339.347 Q517.699 340.725 520.98 344.735 Q524.302 348.746 524.302 354.538 Q524.302 363.329 518.914 368.028 Q513.567 372.727 503.561 372.727 Q493.556 372.727 488.168 368.028 Q482.821 363.329 482.821 354.538 Q482.821 348.746 486.142 344.735 Q489.464 340.725 495.379 339.347 M492.381 326.425 Q492.381 331.124 495.298 333.757 Q498.255 336.39 503.561 336.39 Q508.828 336.39 511.785 333.757 Q514.782 331.124 514.782 326.425 Q514.782 321.726 511.785 319.093 Q508.828 316.46 503.561 316.46 Q498.255 316.46 495.298 319.093 Q492.381 321.726 492.381 326.425 Z\" fill=\"#000000\" fill-rule=\"nonzero\" fill-opacity=\"1\" /><path clip-path=\"url(#clip940)\" d=\"M735.405 311.072 L767.529 311.072 L767.529 317.959 L742.899 317.959 L742.899 332.785 Q744.682 332.177 746.464 331.894 Q748.246 331.57 750.029 331.57 Q760.156 331.57 766.07 337.119 Q771.985 342.669 771.985 352.148 Q771.985 361.911 765.908 367.339 Q759.832 372.727 748.773 372.727 Q744.965 372.727 740.995 372.079 Q737.066 371.431 732.853 370.134 L732.853 361.911 Q736.499 363.896 740.388 364.868 Q744.276 365.84 748.611 365.84 Q755.619 365.84 759.71 362.154 Q763.802 358.468 763.802 352.148 Q763.802 345.829 759.71 342.143 Q755.619 338.456 748.611 338.456 Q745.33 338.456 742.048 339.185 Q738.808 339.915 735.405 341.454 L735.405 311.072 Z\" fill=\"#000000\" fill-rule=\"nonzero\" fill-opacity=\"1\" /><path clip-path=\"url(#clip940)\" d=\"M788.35 370.296 L788.35 362.843 Q791.429 364.301 794.589 365.071 Q797.748 365.84 800.787 365.84 Q808.888 365.84 813.142 360.412 Q817.436 354.943 818.043 343.844 Q815.694 347.328 812.089 349.191 Q808.483 351.055 804.108 351.055 Q795.034 351.055 789.728 345.586 Q784.461 340.077 784.461 330.557 Q784.461 321.24 789.971 315.609 Q795.48 309.978 804.635 309.978 Q815.127 309.978 820.636 318.04 Q826.186 326.06 826.186 341.373 Q826.186 355.673 819.38 364.22 Q812.615 372.727 801.151 372.727 Q798.072 372.727 794.913 372.119 Q791.753 371.512 788.35 370.296 M804.635 344.654 Q810.144 344.654 813.344 340.887 Q816.585 337.119 816.585 330.557 Q816.585 324.035 813.344 320.268 Q810.144 316.46 804.635 316.46 Q799.126 316.46 795.885 320.268 Q792.685 324.035 792.685 330.557 Q792.685 337.119 795.885 340.887 Q799.126 344.654 804.635 344.654 Z\" fill=\"#000000\" fill-rule=\"nonzero\" fill-opacity=\"1\" /><path clip-path=\"url(#clip940)\" d=\"M1055.94 338.051 Q1050.43 338.051 1047.19 341.819 Q1043.99 345.586 1043.99 352.148 Q1043.99 358.67 1047.19 362.478 Q1050.43 366.245 1055.94 366.245 Q1061.45 366.245 1064.65 362.478 Q1067.89 358.67 1067.89 352.148 Q1067.89 345.586 1064.65 341.819 Q1061.45 338.051 1055.94 338.051 M1072.19 312.409 L1072.19 319.863 Q1069.11 318.404 1065.95 317.635 Q1062.83 316.865 1059.75 316.865 Q1051.65 316.865 1047.36 322.334 Q1043.1 327.802 1042.49 338.861 Q1044.88 335.337 1048.49 333.474 Q1052.09 331.57 1056.43 331.57 Q1065.54 331.57 1070.81 337.119 Q1076.12 342.629 1076.12 352.148 Q1076.12 361.465 1070.61 367.096 Q1065.1 372.727 1055.94 372.727 Q1045.45 372.727 1039.9 364.706 Q1034.35 356.645 1034.35 341.373 Q1034.35 327.033 1041.16 318.526 Q1047.96 309.978 1059.43 309.978 Q1062.51 309.978 1065.62 310.586 Q1068.78 311.194 1072.19 312.409 Z\" fill=\"#000000\" fill-rule=\"nonzero\" fill-opacity=\"1\" /><path clip-path=\"url(#clip940)\" d=\"M1107.71 316.46 Q1101.39 316.46 1098.19 322.698 Q1095.03 328.896 1095.03 341.373 Q1095.03 353.809 1098.19 360.048 Q1101.39 366.245 1107.71 366.245 Q1114.07 366.245 1117.23 360.048 Q1120.43 353.809 1120.43 341.373 Q1120.43 328.896 1117.23 322.698 Q1114.07 316.46 1107.71 316.46 M1107.71 309.978 Q1117.88 309.978 1123.23 318.04 Q1128.62 326.06 1128.62 341.373 Q1128.62 356.645 1123.23 364.706 Q1117.88 372.727 1107.71 372.727 Q1097.55 372.727 1092.16 364.706 Q1086.81 356.645 1086.81 341.373 Q1086.81 326.06 1092.16 318.04 Q1097.55 309.978 1107.71 309.978 Z\" fill=\"#000000\" fill-rule=\"nonzero\" fill-opacity=\"1\" /><path clip-path=\"url(#clip940)\" d=\"M1358.98 338.051 Q1353.47 338.051 1350.23 341.819 Q1347.03 345.586 1347.03 352.148 Q1347.03 358.67 1350.23 362.478 Q1353.47 366.245 1358.98 366.245 Q1364.49 366.245 1367.69 362.478 Q1370.93 358.67 1370.93 352.148 Q1370.93 345.586 1367.69 341.819 Q1364.49 338.051 1358.98 338.051 M1375.23 312.409 L1375.23 319.863 Q1372.15 318.404 1368.99 317.635 Q1365.87 316.865 1362.79 316.865 Q1354.69 316.865 1350.39 322.334 Q1346.14 327.802 1345.53 338.861 Q1347.92 335.337 1351.53 333.474 Q1355.13 331.57 1359.47 331.57 Q1368.58 331.57 1373.85 337.119 Q1379.15 342.629 1379.15 352.148 Q1379.15 361.465 1373.65 367.096 Q1368.14 372.727 1358.98 372.727 Q1348.49 372.727 1342.94 364.706 Q1337.39 356.645 1337.39 341.373 Q1337.39 327.033 1344.2 318.526 Q1351 309.978 1362.47 309.978 Q1365.54 309.978 1368.66 310.586 Q1371.82 311.194 1375.23 312.409 Z\" fill=\"#000000\" fill-rule=\"nonzero\" fill-opacity=\"1\" /><path clip-path=\"url(#clip940)\" d=\"M1394.67 364.666 L1408.04 364.666 L1408.04 318.526 L1393.5 321.442 L1393.5 313.989 L1407.96 311.072 L1416.14 311.072 L1416.14 364.666 L1429.51 364.666 L1429.51 371.552 L1394.67 371.552 L1394.67 364.666 Z\" fill=\"#000000\" fill-rule=\"nonzero\" fill-opacity=\"1\" /><path clip-path=\"url(#clip940)\" d=\"M1661.27 338.051 Q1655.76 338.051 1652.52 341.819 Q1649.32 345.586 1649.32 352.148 Q1649.32 358.67 1652.52 362.478 Q1655.76 366.245 1661.27 366.245 Q1666.78 366.245 1669.98 362.478 Q1673.22 358.67 1673.22 352.148 Q1673.22 345.586 1669.98 341.819 Q1666.78 338.051 1661.27 338.051 M1677.51 312.409 L1677.51 319.863 Q1674.44 318.404 1671.28 317.635 Q1668.16 316.865 1665.08 316.865 Q1656.98 316.865 1652.68 322.334 Q1648.43 327.802 1647.82 338.861 Q1650.21 335.337 1653.82 333.474 Q1657.42 331.57 1661.76 331.57 Q1670.87 331.57 1676.14 337.119 Q1681.44 342.629 1681.44 352.148 Q1681.44 361.465 1675.93 367.096 Q1670.43 372.727 1661.27 372.727 Q1650.78 372.727 1645.23 364.706 Q1639.68 356.645 1639.68 341.373 Q1639.68 327.033 1646.48 318.526 Q1653.29 309.978 1664.75 309.978 Q1667.83 309.978 1670.95 310.586 Q1674.11 311.194 1677.51 312.409 Z\" fill=\"#000000\" fill-rule=\"nonzero\" fill-opacity=\"1\" /><path clip-path=\"url(#clip940)\" d=\"M1702.59 364.666 L1731.15 364.666 L1731.15 371.552 L1692.75 371.552 L1692.75 364.666 Q1697.4 359.845 1705.43 351.743 Q1713.49 343.601 1715.55 341.251 Q1719.48 336.836 1721.02 333.798 Q1722.6 330.719 1722.6 327.762 Q1722.6 322.941 1719.2 319.903 Q1715.84 316.865 1710.41 316.865 Q1706.56 316.865 1702.27 318.202 Q1698.01 319.539 1693.15 322.253 L1693.15 313.989 Q1698.09 312.004 1702.39 310.991 Q1706.68 309.978 1710.25 309.978 Q1719.64 309.978 1725.23 314.677 Q1730.82 319.377 1730.82 327.235 Q1730.82 330.962 1729.41 334.324 Q1728.03 337.646 1724.34 342.183 Q1723.33 343.358 1717.9 348.989 Q1712.47 354.579 1702.59 364.666 Z\" fill=\"#000000\" fill-rule=\"nonzero\" fill-opacity=\"1\" /><path clip-path=\"url(#clip940)\" d=\"M1962.4 338.051 Q1956.9 338.051 1953.65 341.819 Q1950.45 345.586 1950.45 352.148 Q1950.45 358.67 1953.65 362.478 Q1956.9 366.245 1962.4 366.245 Q1967.91 366.245 1971.11 362.478 Q1974.35 358.67 1974.35 352.148 Q1974.35 345.586 1971.11 341.819 Q1967.91 338.051 1962.4 338.051 M1978.65 312.409 L1978.65 319.863 Q1975.57 318.404 1972.41 317.635 Q1969.29 316.865 1966.21 316.865 Q1958.11 316.865 1953.82 322.334 Q1949.56 327.802 1948.96 338.861 Q1951.35 335.337 1954.95 333.474 Q1958.56 331.57 1962.89 331.57 Q1972.01 331.57 1977.27 337.119 Q1982.58 342.629 1982.58 352.148 Q1982.58 361.465 1977.07 367.096 Q1971.56 372.727 1962.4 372.727 Q1951.91 372.727 1946.36 364.706 Q1940.81 356.645 1940.81 341.373 Q1940.81 327.033 1947.62 318.526 Q1954.42 309.978 1965.89 309.978 Q1968.97 309.978 1972.09 310.586 Q1975.25 311.194 1978.65 312.409 Z\" fill=\"#000000\" fill-rule=\"nonzero\" fill-opacity=\"1\" /><path clip-path=\"url(#clip940)\" d=\"M2021.47 338.942 Q2027.34 340.198 2030.62 344.168 Q2033.94 348.138 2033.94 353.971 Q2033.94 362.924 2027.79 367.825 Q2021.63 372.727 2010.29 372.727 Q2006.48 372.727 2002.43 371.957 Q1998.42 371.228 1994.12 369.729 L1994.12 361.83 Q1997.53 363.815 2001.58 364.828 Q2005.63 365.84 2010.04 365.84 Q2017.74 365.84 2021.75 362.802 Q2025.8 359.764 2025.8 353.971 Q2025.8 348.624 2022.03 345.626 Q2018.31 342.588 2011.62 342.588 L2004.57 342.588 L2004.57 335.864 L2011.95 335.864 Q2017.98 335.864 2021.18 333.474 Q2024.38 331.043 2024.38 326.506 Q2024.38 321.848 2021.06 319.377 Q2017.78 316.865 2011.62 316.865 Q2008.26 316.865 2004.41 317.594 Q2000.56 318.323 1995.95 319.863 L1995.95 312.571 Q2000.6 311.275 2004.66 310.627 Q2008.75 309.978 2012.35 309.978 Q2021.67 309.978 2027.1 314.232 Q2032.53 318.445 2032.53 325.655 Q2032.53 330.679 2029.65 334.162 Q2026.77 337.606 2021.47 338.942 Z\" fill=\"#000000\" fill-rule=\"nonzero\" fill-opacity=\"1\" /><path clip-path=\"url(#clip940)\" d=\"M2263.38 338.051 Q2257.87 338.051 2254.63 341.819 Q2251.43 345.586 2251.43 352.148 Q2251.43 358.67 2254.63 362.478 Q2257.87 366.245 2263.38 366.245 Q2268.89 366.245 2272.09 362.478 Q2275.33 358.67 2275.33 352.148 Q2275.33 345.586 2272.09 341.819 Q2268.89 338.051 2263.38 338.051 M2279.62 312.409 L2279.62 319.863 Q2276.54 318.404 2273.38 317.635 Q2270.26 316.865 2267.18 316.865 Q2259.08 316.865 2254.79 322.334 Q2250.54 327.802 2249.93 338.861 Q2252.32 335.337 2255.92 333.474 Q2259.53 331.57 2263.86 331.57 Q2272.98 331.57 2278.24 337.119 Q2283.55 342.629 2283.55 352.148 Q2283.55 361.465 2278.04 367.096 Q2272.53 372.727 2263.38 372.727 Q2252.89 372.727 2247.34 364.706 Q2241.79 356.645 2241.79 341.373 Q2241.79 327.033 2248.59 318.526 Q2255.4 309.978 2266.86 309.978 Q2269.94 309.978 2273.06 310.586 Q2276.22 311.194 2279.62 312.409 Z\" fill=\"#000000\" fill-rule=\"nonzero\" fill-opacity=\"1\" /><path clip-path=\"url(#clip940)\" d=\"M2320.13 318.202 L2299.47 350.487 L2320.13 350.487 L2320.13 318.202 M2317.98 311.072 L2328.27 311.072 L2328.27 350.487 L2336.9 350.487 L2336.9 357.293 L2328.27 357.293 L2328.27 371.552 L2320.13 371.552 L2320.13 357.293 L2292.83 357.293 L2292.83 349.394 L2317.98 311.072 Z\" fill=\"#000000\" fill-rule=\"nonzero\" fill-opacity=\"1\" /><path clip-path=\"url(#clip940)\" d=\"M150.92 187.191 Q145.411 187.191 142.17 190.959 Q138.97 194.726 138.97 201.288 Q138.97 207.81 142.17 211.618 Q145.411 215.386 150.92 215.386 Q156.429 215.386 159.629 211.618 Q162.87 207.81 162.87 201.288 Q162.87 194.726 159.629 190.959 Q156.429 187.191 150.92 187.191 M167.164 161.549 L167.164 169.003 Q164.085 167.544 160.926 166.775 Q157.806 166.005 154.728 166.005 Q146.626 166.005 142.332 171.474 Q138.078 176.942 137.471 188.001 Q139.861 184.477 143.466 182.614 Q147.071 180.71 151.406 180.71 Q160.52 180.71 165.787 186.26 Q171.093 191.769 171.093 201.288 Q171.093 210.605 165.584 216.236 Q160.075 221.867 150.92 221.867 Q140.428 221.867 134.878 213.846 Q129.328 205.785 129.328 190.513 Q129.328 176.173 136.134 167.666 Q142.939 159.118 154.404 159.118 Q157.482 159.118 160.601 159.726 Q163.761 160.334 167.164 161.549 Z\" fill=\"#000000\" fill-rule=\"nonzero\" fill-opacity=\"1\" /><path clip-path=\"url(#clip940)\" d=\"M185.271 160.212 L217.395 160.212 L217.395 167.099 L192.766 167.099 L192.766 181.925 Q194.548 181.317 196.33 181.034 Q198.113 180.71 199.895 180.71 Q210.022 180.71 215.937 186.26 Q221.851 191.809 221.851 201.288 Q221.851 211.051 215.775 216.479 Q209.698 221.867 198.639 221.867 Q194.832 221.867 190.862 221.219 Q186.932 220.571 182.719 219.274 L182.719 211.051 Q186.365 213.036 190.254 214.008 Q194.143 214.98 198.477 214.98 Q205.485 214.98 209.577 211.294 Q213.668 207.608 213.668 201.288 Q213.668 194.969 209.577 191.283 Q205.485 187.596 198.477 187.596 Q195.196 187.596 191.915 188.325 Q188.674 189.055 185.271 190.594 L185.271 160.212 Z\" fill=\"#000000\" fill-rule=\"nonzero\" fill-opacity=\"1\" /><path clip-path=\"url(#clip940)\" d=\"M451.872 187.191 Q446.363 187.191 443.122 190.959 Q439.922 194.726 439.922 201.288 Q439.922 207.81 443.122 211.618 Q446.363 215.386 451.872 215.386 Q457.381 215.386 460.581 211.618 Q463.822 207.81 463.822 201.288 Q463.822 194.726 460.581 190.959 Q457.381 187.191 451.872 187.191 M468.116 161.549 L468.116 169.003 Q465.037 167.544 461.878 166.775 Q458.758 166.005 455.68 166.005 Q447.578 166.005 443.284 171.474 Q439.03 176.942 438.423 188.001 Q440.813 184.477 444.418 182.614 Q448.023 180.71 452.358 180.71 Q461.472 180.71 466.739 186.26 Q472.045 191.769 472.045 201.288 Q472.045 210.605 466.536 216.236 Q461.027 221.867 451.872 221.867 Q441.38 221.867 435.83 213.846 Q430.281 205.785 430.281 190.513 Q430.281 176.173 437.086 167.666 Q443.892 159.118 455.356 159.118 Q458.434 159.118 461.553 159.726 Q464.713 160.334 468.116 161.549 Z\" fill=\"#000000\" fill-rule=\"nonzero\" fill-opacity=\"1\" /><path clip-path=\"url(#clip940)\" d=\"M504.655 187.191 Q499.146 187.191 495.905 190.959 Q492.705 194.726 492.705 201.288 Q492.705 207.81 495.905 211.618 Q499.146 215.386 504.655 215.386 Q510.164 215.386 513.365 211.618 Q516.605 207.81 516.605 201.288 Q516.605 194.726 513.365 190.959 Q510.164 187.191 504.655 187.191 M520.899 161.549 L520.899 169.003 Q517.821 167.544 514.661 166.775 Q511.542 166.005 508.463 166.005 Q500.361 166.005 496.067 171.474 Q491.814 176.942 491.206 188.001 Q493.596 184.477 497.201 182.614 Q500.807 180.71 505.141 180.71 Q514.256 180.71 519.522 186.26 Q524.829 191.769 524.829 201.288 Q524.829 210.605 519.319 216.236 Q513.81 221.867 504.655 221.867 Q494.163 221.867 488.614 213.846 Q483.064 205.785 483.064 190.513 Q483.064 176.173 489.869 167.666 Q496.675 159.118 508.139 159.118 Q511.218 159.118 514.337 159.726 Q517.496 160.334 520.899 161.549 Z\" fill=\"#000000\" fill-rule=\"nonzero\" fill-opacity=\"1\" /><path clip-path=\"url(#clip940)\" d=\"M754.768 187.191 Q749.259 187.191 746.018 190.959 Q742.818 194.726 742.818 201.288 Q742.818 207.81 746.018 211.618 Q749.259 215.386 754.768 215.386 Q760.278 215.386 763.478 211.618 Q766.719 207.81 766.719 201.288 Q766.719 194.726 763.478 190.959 Q760.278 187.191 754.768 187.191 M771.012 161.549 L771.012 169.003 Q767.934 167.544 764.774 166.775 Q761.655 166.005 758.576 166.005 Q750.474 166.005 746.18 171.474 Q741.927 176.942 741.319 188.001 Q743.709 184.477 747.315 182.614 Q750.92 180.71 755.254 180.71 Q764.369 180.71 769.635 186.26 Q774.942 191.769 774.942 201.288 Q774.942 210.605 769.433 216.236 Q763.923 221.867 754.768 221.867 Q744.276 221.867 738.727 213.846 Q733.177 205.785 733.177 190.513 Q733.177 176.173 739.983 167.666 Q746.788 159.118 758.252 159.118 Q761.331 159.118 764.45 159.726 Q767.61 160.334 771.012 161.549 Z\" fill=\"#000000\" fill-rule=\"nonzero\" fill-opacity=\"1\" /><path clip-path=\"url(#clip940)\" d=\"M786.973 160.212 L825.862 160.212 L825.862 163.696 L803.906 220.692 L795.358 220.692 L816.018 167.099 L786.973 167.099 L786.973 160.212 Z\" fill=\"#000000\" fill-rule=\"nonzero\" fill-opacity=\"1\" /><path clip-path=\"url(#clip940)\" d=\"M1056.02 187.191 Q1050.51 187.191 1047.27 190.959 Q1044.07 194.726 1044.07 201.288 Q1044.07 207.81 1047.27 211.618 Q1050.51 215.386 1056.02 215.386 Q1061.53 215.386 1064.73 211.618 Q1067.97 207.81 1067.97 201.288 Q1067.97 194.726 1064.73 190.959 Q1061.53 187.191 1056.02 187.191 M1072.27 161.549 L1072.27 169.003 Q1069.19 167.544 1066.03 166.775 Q1062.91 166.005 1059.83 166.005 Q1051.73 166.005 1047.44 171.474 Q1043.18 176.942 1042.58 188.001 Q1044.97 184.477 1048.57 182.614 Q1052.18 180.71 1056.51 180.71 Q1065.62 180.71 1070.89 186.26 Q1076.2 191.769 1076.2 201.288 Q1076.2 210.605 1070.69 216.236 Q1065.18 221.867 1056.02 221.867 Q1045.53 221.867 1039.98 213.846 Q1034.43 205.785 1034.43 190.513 Q1034.43 176.173 1041.24 167.666 Q1048.04 159.118 1059.51 159.118 Q1062.59 159.118 1065.71 159.726 Q1068.87 160.334 1072.27 161.549 Z\" fill=\"#000000\" fill-rule=\"nonzero\" fill-opacity=\"1\" /><path clip-path=\"url(#clip940)\" d=\"M1107.79 191.971 Q1101.96 191.971 1098.6 195.09 Q1095.28 198.21 1095.28 203.678 Q1095.28 209.147 1098.6 212.266 Q1101.96 215.386 1107.79 215.386 Q1113.63 215.386 1116.99 212.266 Q1120.35 209.107 1120.35 203.678 Q1120.35 198.21 1116.99 195.09 Q1113.67 191.971 1107.79 191.971 M1099.61 188.488 Q1094.35 187.191 1091.39 183.586 Q1088.47 179.981 1088.47 174.795 Q1088.47 167.544 1093.62 163.331 Q1098.8 159.118 1107.79 159.118 Q1116.83 159.118 1121.97 163.331 Q1127.12 167.544 1127.12 174.795 Q1127.12 179.981 1124.16 183.586 Q1121.24 187.191 1116.02 188.488 Q1121.93 189.865 1125.21 193.875 Q1128.54 197.886 1128.54 203.678 Q1128.54 212.469 1123.15 217.168 Q1117.8 221.867 1107.79 221.867 Q1097.79 221.867 1092.4 217.168 Q1087.05 212.469 1087.05 203.678 Q1087.05 197.886 1090.38 193.875 Q1093.7 189.865 1099.61 188.488 M1096.61 175.565 Q1096.61 180.264 1099.53 182.897 Q1102.49 185.53 1107.79 185.53 Q1113.06 185.53 1116.02 182.897 Q1119.02 180.264 1119.02 175.565 Q1119.02 170.866 1116.02 168.233 Q1113.06 165.6 1107.79 165.6 Q1102.49 165.6 1099.53 168.233 Q1096.61 170.866 1096.61 175.565 Z\" fill=\"#000000\" fill-rule=\"nonzero\" fill-opacity=\"1\" /><path clip-path=\"url(#clip940)\" d=\"M1358.07 187.191 Q1352.56 187.191 1349.32 190.959 Q1346.12 194.726 1346.12 201.288 Q1346.12 207.81 1349.32 211.618 Q1352.56 215.386 1358.07 215.386 Q1363.58 215.386 1366.78 211.618 Q1370.02 207.81 1370.02 201.288 Q1370.02 194.726 1366.78 190.959 Q1363.58 187.191 1358.07 187.191 M1374.31 161.549 L1374.31 169.003 Q1371.24 167.544 1368.08 166.775 Q1364.96 166.005 1361.88 166.005 Q1353.78 166.005 1349.48 171.474 Q1345.23 176.942 1344.62 188.001 Q1347.01 184.477 1350.62 182.614 Q1354.22 180.71 1358.56 180.71 Q1367.67 180.71 1372.94 186.26 Q1378.24 191.769 1378.24 201.288 Q1378.24 210.605 1372.73 216.236 Q1367.23 221.867 1358.07 221.867 Q1347.58 221.867 1342.03 213.846 Q1336.48 205.785 1336.48 190.513 Q1336.48 176.173 1343.28 167.666 Q1350.09 159.118 1361.55 159.118 Q1364.63 159.118 1367.75 159.726 Q1370.91 160.334 1374.31 161.549 Z\" fill=\"#000000\" fill-rule=\"nonzero\" fill-opacity=\"1\" /><path clip-path=\"url(#clip940)\" d=\"M1392.58 219.436 L1392.58 211.983 Q1395.66 213.441 1398.82 214.211 Q1401.98 214.98 1405.02 214.98 Q1413.12 214.98 1417.38 209.552 Q1421.67 204.084 1422.28 192.984 Q1419.93 196.468 1416.32 198.331 Q1412.72 200.195 1408.34 200.195 Q1399.27 200.195 1393.96 194.726 Q1388.69 189.217 1388.69 179.697 Q1388.69 170.38 1394.2 164.749 Q1399.71 159.118 1408.87 159.118 Q1419.36 159.118 1424.87 167.18 Q1430.42 175.201 1430.42 190.513 Q1430.42 204.813 1423.61 213.36 Q1416.85 221.867 1405.38 221.867 Q1402.31 221.867 1399.15 221.259 Q1395.99 220.652 1392.58 219.436 M1408.87 193.794 Q1414.38 193.794 1417.58 190.027 Q1420.82 186.26 1420.82 179.697 Q1420.82 173.175 1417.58 169.408 Q1414.38 165.6 1408.87 165.6 Q1403.36 165.6 1400.12 169.408 Q1396.92 173.175 1396.92 179.697 Q1396.92 186.26 1400.12 190.027 Q1403.36 193.794 1408.87 193.794 Z\" fill=\"#000000\" fill-rule=\"nonzero\" fill-opacity=\"1\" /><path clip-path=\"url(#clip940)\" d=\"M1638.79 160.212 L1677.68 160.212 L1677.68 163.696 L1655.72 220.692 L1647.17 220.692 L1667.83 167.099 L1638.79 167.099 L1638.79 160.212 Z\" fill=\"#000000\" fill-rule=\"nonzero\" fill-opacity=\"1\" /><path clip-path=\"url(#clip940)\" d=\"M1711.14 165.6 Q1704.82 165.6 1701.62 171.838 Q1698.46 178.036 1698.46 190.513 Q1698.46 202.949 1701.62 209.188 Q1704.82 215.386 1711.14 215.386 Q1717.5 215.386 1720.66 209.188 Q1723.86 202.949 1723.86 190.513 Q1723.86 178.036 1720.66 171.838 Q1717.5 165.6 1711.14 165.6 M1711.14 159.118 Q1721.3 159.118 1726.65 167.18 Q1732.04 175.201 1732.04 190.513 Q1732.04 205.785 1726.65 213.846 Q1721.3 221.867 1711.14 221.867 Q1700.97 221.867 1695.58 213.846 Q1690.23 205.785 1690.23 190.513 Q1690.23 175.201 1695.58 167.18 Q1700.97 159.118 1711.14 159.118 Z\" fill=\"#000000\" fill-rule=\"nonzero\" fill-opacity=\"1\" /><path clip-path=\"url(#clip940)\" d=\"M1941.83 160.212 L1980.71 160.212 L1980.71 163.696 L1958.76 220.692 L1950.21 220.692 L1970.87 167.099 L1941.83 167.099 L1941.83 160.212 Z\" fill=\"#000000\" fill-rule=\"nonzero\" fill-opacity=\"1\" /><path clip-path=\"url(#clip940)\" d=\"M1998.09 213.806 L2011.46 213.806 L2011.46 167.666 L1996.92 170.583 L1996.92 163.129 L2011.38 160.212 L2019.56 160.212 L2019.56 213.806 L2032.93 213.806 L2032.93 220.692 L1998.09 220.692 L1998.09 213.806 Z\" fill=\"#000000\" fill-rule=\"nonzero\" fill-opacity=\"1\" /><path clip-path=\"url(#clip940)\" d=\"M2244.11 160.212 L2283 160.212 L2283 163.696 L2261.05 220.692 L2252.5 220.692 L2273.16 167.099 L2244.11 167.099 L2244.11 160.212 Z\" fill=\"#000000\" fill-rule=\"nonzero\" fill-opacity=\"1\" /><path clip-path=\"url(#clip940)\" d=\"M2306.01 213.806 L2334.57 213.806 L2334.57 220.692 L2296.17 220.692 L2296.17 213.806 Q2300.83 208.985 2308.85 200.883 Q2316.91 192.741 2318.98 190.391 Q2322.91 185.976 2324.44 182.938 Q2326.02 179.859 2326.02 176.902 Q2326.02 172.081 2322.62 169.043 Q2319.26 166.005 2313.83 166.005 Q2309.98 166.005 2305.69 167.342 Q2301.44 168.679 2296.57 171.393 L2296.57 163.129 Q2301.52 161.144 2305.81 160.131 Q2310.1 159.118 2313.67 159.118 Q2323.07 159.118 2328.66 163.818 Q2334.25 168.517 2334.25 176.375 Q2334.25 180.102 2332.83 183.464 Q2331.45 186.786 2327.77 191.323 Q2326.75 192.498 2321.33 198.129 Q2315.9 203.719 2306.01 213.806 Z\" fill=\"#000000\" fill-rule=\"nonzero\" fill-opacity=\"1\" /><path clip-path=\"url(#clip940)\" d=\"M129.531 9.35228 L168.42 9.35228 L168.42 12.8361 L146.464 69.8323 L137.916 69.8323 L158.576 16.2388 L129.531 16.2388 L129.531 9.35228 Z\" fill=\"#000000\" fill-rule=\"nonzero\" fill-opacity=\"1\" /><path clip-path=\"url(#clip940)\" d=\"M209.172 37.2225 Q215.046 38.4783 218.327 42.4482 Q221.649 46.4181 221.649 52.2514 Q221.649 61.2039 215.491 66.1054 Q209.334 71.007 197.991 71.007 Q194.183 71.007 190.133 70.2374 Q186.122 69.5082 181.828 68.0094 L181.828 60.1101 Q185.231 62.095 189.282 63.1078 Q193.333 64.1205 197.748 64.1205 Q205.445 64.1205 209.455 61.0823 Q213.506 58.0441 213.506 52.2514 Q213.506 46.9042 209.739 43.9065 Q206.012 40.8683 199.328 40.8683 L192.28 40.8683 L192.28 34.1438 L199.652 34.1438 Q205.688 34.1438 208.888 31.7538 Q212.088 29.3232 212.088 24.7862 Q212.088 20.1277 208.767 17.6566 Q205.485 15.1451 199.328 15.1451 Q195.966 15.1451 192.117 15.8742 Q188.269 16.6034 183.651 18.1427 L183.651 10.8511 Q188.31 9.55482 192.361 8.90668 Q196.452 8.25853 200.057 8.25853 Q209.374 8.25853 214.803 12.512 Q220.231 16.7249 220.231 23.9355 Q220.231 28.9587 217.355 32.4424 Q214.478 35.8857 209.172 37.2225 Z\" fill=\"#000000\" fill-rule=\"nonzero\" fill-opacity=\"1\" /><path clip-path=\"url(#clip940)\" d=\"M430.503 9.35228 L469.392 9.35228 L469.392 12.8361 L447.436 69.8323 L438.889 69.8323 L459.548 16.2388 L430.503 16.2388 L430.503 9.35228 Z\" fill=\"#000000\" fill-rule=\"nonzero\" fill-opacity=\"1\" /><path clip-path=\"url(#clip940)\" d=\"M507.835 16.4819 L487.175 48.7676 L507.835 48.7676 L507.835 16.4819 M505.688 9.35228 L515.977 9.35228 L515.977 48.7676 L524.606 48.7676 L524.606 55.5731 L515.977 55.5731 L515.977 69.8323 L507.835 69.8323 L507.835 55.5731 L480.532 55.5731 L480.532 47.6738 L505.688 9.35228 Z\" fill=\"#000000\" fill-rule=\"nonzero\" fill-opacity=\"1\" /><path clip-path=\"url(#clip940)\" d=\"M733.764 9.35228 L772.653 9.35228 L772.653 12.8361 L750.697 69.8323 L742.15 69.8323 L762.809 16.2388 L733.764 16.2388 L733.764 9.35228 Z\" fill=\"#000000\" fill-rule=\"nonzero\" fill-opacity=\"1\" /><path clip-path=\"url(#clip940)\" d=\"M788.695 9.35228 L820.818 9.35228 L820.818 16.2388 L796.189 16.2388 L796.189 31.0651 Q797.971 30.4575 799.754 30.1739 Q801.536 29.8499 803.318 29.8499 Q813.446 29.8499 819.36 35.3996 Q825.274 40.9493 825.274 50.4284 Q825.274 60.1911 819.198 65.6193 Q813.122 71.007 802.063 71.007 Q798.255 71.007 794.285 70.3589 Q790.356 69.7107 786.143 68.4145 L786.143 60.1911 Q789.788 62.1761 793.677 63.1483 Q797.566 64.1205 801.901 64.1205 Q808.909 64.1205 813 60.4342 Q817.091 56.7479 817.091 50.4284 Q817.091 44.109 813 40.4227 Q808.909 36.7364 801.901 36.7364 Q798.619 36.7364 795.338 37.4656 Q792.097 38.1947 788.695 39.7341 L788.695 9.35228 Z\" fill=\"#000000\" fill-rule=\"nonzero\" fill-opacity=\"1\" /><path clip-path=\"url(#clip940)\" d=\"M1034.72 9.35228 L1073.61 9.35228 L1073.61 12.8361 L1051.65 69.8323 L1043.1 69.8323 L1063.76 16.2388 L1034.72 16.2388 L1034.72 9.35228 Z\" fill=\"#000000\" fill-rule=\"nonzero\" fill-opacity=\"1\" /><path clip-path=\"url(#clip940)\" d=\"M1108.08 36.3313 Q1102.57 36.3313 1099.33 40.0986 Q1096.13 43.866 1096.13 50.4284 Q1096.13 56.9504 1099.33 60.7583 Q1102.57 64.5256 1108.08 64.5256 Q1113.59 64.5256 1116.79 60.7583 Q1120.03 56.9504 1120.03 50.4284 Q1120.03 43.866 1116.79 40.0986 Q1113.59 36.3313 1108.08 36.3313 M1124.32 10.6891 L1124.32 18.1427 Q1121.24 16.6844 1118.08 15.9147 Q1114.96 15.1451 1111.89 15.1451 Q1103.78 15.1451 1099.49 20.6138 Q1095.24 26.0825 1094.63 37.1415 Q1097.02 33.6172 1100.62 31.7538 Q1104.23 29.8499 1108.56 29.8499 Q1117.68 29.8499 1122.95 35.3996 Q1128.25 40.9088 1128.25 50.4284 Q1128.25 59.7455 1122.74 65.3763 Q1117.23 71.007 1108.08 71.007 Q1097.59 71.007 1092.04 62.9862 Q1086.49 54.9249 1086.49 39.653 Q1086.49 25.3128 1093.29 16.8059 Q1100.1 8.25853 1111.56 8.25853 Q1114.64 8.25853 1117.76 8.86617 Q1120.92 9.4738 1124.32 10.6891 Z\" fill=\"#000000\" fill-rule=\"nonzero\" fill-opacity=\"1\" /><path clip-path=\"url(#clip940)\" d=\"M1337.61 9.35228 L1376.5 9.35228 L1376.5 12.8361 L1354.55 69.8323 L1346 69.8323 L1366.66 16.2388 L1337.61 16.2388 L1337.61 9.35228 Z\" fill=\"#000000\" fill-rule=\"nonzero\" fill-opacity=\"1\" /><path clip-path=\"url(#clip940)\" d=\"M1390.4 9.35228 L1429.28 9.35228 L1429.28 12.8361 L1407.33 69.8323 L1398.78 69.8323 L1419.44 16.2388 L1390.4 16.2388 L1390.4 9.35228 Z\" fill=\"#000000\" fill-rule=\"nonzero\" fill-opacity=\"1\" /><path clip-path=\"url(#clip940)\" d=\"M1638.87 9.35228 L1677.76 9.35228 L1677.76 12.8361 L1655.8 69.8323 L1647.25 69.8323 L1667.91 16.2388 L1638.87 16.2388 L1638.87 9.35228 Z\" fill=\"#000000\" fill-rule=\"nonzero\" fill-opacity=\"1\" /><path clip-path=\"url(#clip940)\" d=\"M1711.22 41.1114 Q1705.38 41.1114 1702.02 44.2306 Q1698.7 47.3498 1698.7 52.8185 Q1698.7 58.2872 1702.02 61.4064 Q1705.38 64.5256 1711.22 64.5256 Q1717.05 64.5256 1720.41 61.4064 Q1723.78 58.2467 1723.78 52.8185 Q1723.78 47.3498 1720.41 44.2306 Q1717.09 41.1114 1711.22 41.1114 M1703.04 37.6276 Q1697.77 36.3313 1694.81 32.726 Q1691.9 29.1207 1691.9 23.9355 Q1691.9 16.6844 1697.04 12.4715 Q1702.22 8.25853 1711.22 8.25853 Q1720.25 8.25853 1725.4 12.4715 Q1730.54 16.6844 1730.54 23.9355 Q1730.54 29.1207 1727.58 32.726 Q1724.67 36.3313 1719.44 37.6276 Q1725.36 39.0049 1728.64 43.0153 Q1731.96 47.0257 1731.96 52.8185 Q1731.96 61.6089 1726.57 66.308 Q1721.22 71.007 1711.22 71.007 Q1701.21 71.007 1695.82 66.308 Q1690.48 61.6089 1690.48 52.8185 Q1690.48 47.0257 1693.8 43.0153 Q1697.12 39.0049 1703.04 37.6276 M1700.04 24.7052 Q1700.04 29.4043 1702.95 32.0373 Q1705.91 34.6704 1711.22 34.6704 Q1716.48 34.6704 1719.44 32.0373 Q1722.44 29.4043 1722.44 24.7052 Q1722.44 20.0062 1719.44 17.3731 Q1716.48 14.74 1711.22 14.74 Q1705.91 14.74 1702.95 17.3731 Q1700.04 20.0062 1700.04 24.7052 Z\" fill=\"#000000\" fill-rule=\"nonzero\" fill-opacity=\"1\" /><path clip-path=\"url(#clip940)\" d=\"M1940.91 9.35228 L1979.8 9.35228 L1979.8 12.8361 L1957.85 69.8323 L1949.3 69.8323 L1969.96 16.2388 L1940.91 16.2388 L1940.91 9.35228 Z\" fill=\"#000000\" fill-rule=\"nonzero\" fill-opacity=\"1\" /><path clip-path=\"url(#clip940)\" d=\"M1996.01 68.5765 L1996.01 61.1228 Q1999.09 62.5812 2002.25 63.3508 Q2005.41 64.1205 2008.44 64.1205 Q2016.55 64.1205 2020.8 58.6923 Q2025.09 53.2236 2025.7 42.1241 Q2023.35 45.6079 2019.75 47.4713 Q2016.14 49.3347 2011.76 49.3347 Q2002.69 49.3347 1997.38 43.866 Q1992.12 38.3568 1992.12 28.8371 Q1992.12 19.52 1997.63 13.8893 Q2003.14 8.25853 2012.29 8.25853 Q2022.78 8.25853 2028.29 16.3198 Q2033.84 24.3406 2033.84 39.653 Q2033.84 53.9527 2027.04 62.5001 Q2020.27 71.007 2008.81 71.007 Q2005.73 71.007 2002.57 70.3994 Q1999.41 69.7918 1996.01 68.5765 M2012.29 42.9343 Q2017.8 42.9343 2021 39.1669 Q2024.24 35.3996 2024.24 28.8371 Q2024.24 22.3152 2021 18.5478 Q2017.8 14.74 2012.29 14.74 Q2006.78 14.74 2003.54 18.5478 Q2000.34 22.3152 2000.34 28.8371 Q2000.34 35.3996 2003.54 39.1669 Q2006.78 42.9343 2012.29 42.9343 Z\" fill=\"#000000\" fill-rule=\"nonzero\" fill-opacity=\"1\" /><path clip-path=\"url(#clip940)\" d=\"M2262.87 41.1114 Q2257.04 41.1114 2253.68 44.2306 Q2250.35 47.3498 2250.35 52.8185 Q2250.35 58.2872 2253.68 61.4064 Q2257.04 64.5256 2262.87 64.5256 Q2268.7 64.5256 2272.07 61.4064 Q2275.43 58.2467 2275.43 52.8185 Q2275.43 47.3498 2272.07 44.2306 Q2268.74 41.1114 2262.87 41.1114 M2254.69 37.6276 Q2249.42 36.3313 2246.46 32.726 Q2243.55 29.1207 2243.55 23.9355 Q2243.55 16.6844 2248.69 12.4715 Q2253.88 8.25853 2262.87 8.25853 Q2271.9 8.25853 2277.05 12.4715 Q2282.19 16.6844 2282.19 23.9355 Q2282.19 29.1207 2279.24 32.726 Q2276.32 36.3313 2271.09 37.6276 Q2277.01 39.0049 2280.29 43.0153 Q2283.61 47.0257 2283.61 52.8185 Q2283.61 61.6089 2278.22 66.308 Q2272.88 71.007 2262.87 71.007 Q2252.86 71.007 2247.48 66.308 Q2242.13 61.6089 2242.13 52.8185 Q2242.13 47.0257 2245.45 43.0153 Q2248.77 39.0049 2254.69 37.6276 M2251.69 24.7052 Q2251.69 29.4043 2254.61 32.0373 Q2257.56 34.6704 2262.87 34.6704 Q2268.14 34.6704 2271.09 32.0373 Q2274.09 29.4043 2274.09 24.7052 Q2274.09 20.0062 2271.09 17.3731 Q2268.14 14.74 2262.87 14.74 Q2257.56 14.74 2254.61 17.3731 Q2251.69 20.0062 2251.69 24.7052 Z\" fill=\"#000000\" fill-rule=\"nonzero\" fill-opacity=\"1\" /><path clip-path=\"url(#clip940)\" d=\"M2315.65 14.74 Q2309.33 14.74 2306.13 20.9784 Q2302.97 27.1763 2302.97 39.653 Q2302.97 52.0893 2306.13 58.3277 Q2309.33 64.5256 2315.65 64.5256 Q2322.01 64.5256 2325.17 58.3277 Q2328.37 52.0893 2328.37 39.653 Q2328.37 27.1763 2325.17 20.9784 Q2322.01 14.74 2315.65 14.74 M2315.65 8.25853 Q2325.82 8.25853 2331.17 16.3198 Q2336.56 24.3406 2336.56 39.653 Q2336.56 54.9249 2331.17 62.9862 Q2325.82 71.007 2315.65 71.007 Q2305.49 71.007 2300.1 62.9862 Q2294.75 54.9249 2294.75 39.653 Q2294.75 24.3406 2300.1 16.3198 Q2305.49 8.25853 2315.65 8.25853 Z\" fill=\"#000000\" fill-rule=\"nonzero\" fill-opacity=\"1\" /></svg>\n"
      ]
     },
     "metadata": {},
     "output_type": "display_data"
    },
    {
     "data": {
      "text/plain": [
       "([0 0; 1 0; … ; 6 9; 7 9], nothing)"
      ]
     },
     "execution_count": 117,
     "metadata": {},
     "output_type": "execute_result"
    }
   ],
   "source": [
    "plot_square_lattice(Nx, Ny)"
   ]
  },
  {
   "cell_type": "code",
   "execution_count": 118,
   "id": "1836db66-f8d3-451e-9563-27d78f6a8d25",
   "metadata": {},
   "outputs": [
    {
     "data": {
      "text/plain": [
       "19"
      ]
     },
     "execution_count": 118,
     "metadata": {},
     "output_type": "execute_result"
    }
   ],
   "source": [
    "start_point_1 = Impurity_Data.Imp_Site[1]"
   ]
  },
  {
   "cell_type": "code",
   "execution_count": 119,
   "id": "d8a63a8c-da52-419c-bb68-72053ad8cd2a",
   "metadata": {},
   "outputs": [
    {
     "data": {
      "text/plain": [
       "17-element Vector{Int64}:\n",
       " 19\n",
       " 20\n",
       " 21\n",
       " 22\n",
       " 30\n",
       " 38\n",
       " 46\n",
       " 54\n",
       " 62\n",
       " 61\n",
       " 60\n",
       " 59\n",
       " 51\n",
       " 43\n",
       " 35\n",
       " 27\n",
       " 19"
      ]
     },
     "execution_count": 119,
     "metadata": {},
     "output_type": "execute_result"
    }
   ],
   "source": [
    "lens_1 = [3, 5, 3, 5]\n",
    "dirs_1 = [1, Nx, -1, -Nx]\n",
    "rec_path_1 = unique(rectangular_path(start_point_1,lens_1,dirs_1))\n",
    "rec_path_1 = push!(rec_path_1,start_point_1)"
   ]
  },
  {
   "cell_type": "code",
   "execution_count": 120,
   "id": "62dd8f67-503e-4fd5-a2a6-428bc3fe0ef3",
   "metadata": {},
   "outputs": [
    {
     "data": {
      "text/plain": [
       "62"
      ]
     },
     "execution_count": 120,
     "metadata": {},
     "output_type": "execute_result"
    }
   ],
   "source": [
    "start_point_2 = Impurity_Data.Imp_Site[2]"
   ]
  },
  {
   "cell_type": "code",
   "execution_count": 121,
   "id": "f03e91ce-9284-483a-b034-5975f3f7d08d",
   "metadata": {},
   "outputs": [
    {
     "data": {
      "text/plain": [
       "17-element Vector{Int64}:\n",
       " 62\n",
       " 61\n",
       " 60\n",
       " 59\n",
       " 51\n",
       " 43\n",
       " 35\n",
       " 27\n",
       " 19\n",
       " 20\n",
       " 21\n",
       " 22\n",
       " 30\n",
       " 38\n",
       " 46\n",
       " 54\n",
       " 62"
      ]
     },
     "execution_count": 121,
     "metadata": {},
     "output_type": "execute_result"
    }
   ],
   "source": [
    "lens_2 = [3, 5, 3, 5]\n",
    "dirs_2 = [-1, -Nx, 1, Nx]\n",
    "rec_path_2 = unique(rectangular_path(start_point_2,lens_2,dirs_2))\n",
    "rec_path_2 = push!(rec_path_2,start_point_2)"
   ]
  },
  {
   "cell_type": "code",
   "execution_count": 122,
   "id": "43eb188d-83c6-4e78-a11c-53ac2c49e005",
   "metadata": {},
   "outputs": [
    {
     "data": {
      "text/plain": [
       "0.0"
      ]
     },
     "execution_count": 122,
     "metadata": {},
     "output_type": "execute_result"
    }
   ],
   "source": [
    "N_Pin = 4 # Burada ki N_Pin ile yukarıda tanımladığımız N_Pin farklılar!\n",
    "V1 = Impurity_Data.V0[1]\n",
    "V2 = 0;\n",
    "V2 = Impurity_Data.V0[2]"
   ]
  },
  {
   "cell_type": "code",
   "execution_count": 123,
   "id": "a1243be7-8e7d-4e7b-b895-6ab7d7addd3b",
   "metadata": {},
   "outputs": [],
   "source": [
    "Imp_Site = [rec_path_1[1], rec_path_1[2], rec_path_2[1], rec_path_2[2]]\n",
    "V0 = [V1, 0, V2, 0]\n",
    "Impurity_Data = Impurity(V0, Imp_Site);"
   ]
  },
  {
   "cell_type": "code",
   "execution_count": 124,
   "id": "dbf35100-37f8-4e86-bfaa-7f4599b3dd4b",
   "metadata": {},
   "outputs": [],
   "source": [
    "Impurity_H = Imp_H(Total_H, Sub_Number_MB_Operator_List, Impurity_Data)\n",
    "Impurity_H = dense((Impurity_H+Impurity_H')/2);"
   ]
  },
  {
   "cell_type": "code",
   "execution_count": 125,
   "id": "c0c19e5e-6e41-411f-8b59-03538a925bd2",
   "metadata": {},
   "outputs": [],
   "source": [
    "E_Imp_0, U_Imp_0 = eigenstates(Impurity_H)\n",
    "U_Imp_0 = hcat([U_Imp_0[i].data for i in 1:Degeneracy] ...);"
   ]
  },
  {
   "cell_type": "code",
   "execution_count": 126,
   "id": "b9b6ed58-10b5-40f9-be22-20e097e883f0",
   "metadata": {},
   "outputs": [],
   "source": [
    "U_first = copy(U_Imp_0);"
   ]
  },
  {
   "cell_type": "code",
   "execution_count": 127,
   "id": "b25413c3-0c7a-432b-ae7d-b8301f418194",
   "metadata": {},
   "outputs": [
    {
     "data": {
      "text/plain": [
       "101"
      ]
     },
     "execution_count": 127,
     "metadata": {},
     "output_type": "execute_result"
    }
   ],
   "source": [
    "delta_t = 0.01\n",
    "STEP = 0:delta_t:1\n",
    "length(STEP)"
   ]
  },
  {
   "cell_type": "code",
   "execution_count": 128,
   "id": "cdbd6390-af03-490a-8d7f-8efd2b18b35b",
   "metadata": {
    "scrolled": true
   },
   "outputs": [],
   "source": [
    "Imp_Site_List = [ [imp, rec_path_1[idx+1], rec_path_2[idx], rec_path_2[idx+1] ] for (idx,imp) in (enumerate(rec_path_1[1:end-1])) ]\n",
    "V0_List = [ [V1*(1-step), V1*step, V2*(1-step), V2*step] for step in STEP ];"
   ]
  },
  {
   "cell_type": "code",
   "execution_count": 129,
   "id": "fc663ab4-97b5-43fc-8d3c-df2690d914f2",
   "metadata": {
    "scrolled": true
   },
   "outputs": [],
   "source": [
    "Impurity_Data_List = [ [Impurity(V00, Imp_Sitee)] for Imp_Sitee in Imp_Site_List for V00 in V0_List ];"
   ]
  },
  {
   "cell_type": "code",
   "execution_count": 130,
   "id": "fecae073-3662-4ec7-9603-b2246317959a",
   "metadata": {},
   "outputs": [
    {
     "name": "stderr",
     "output_type": "stream",
     "text": [
      "0.0%┣                                            ┫ 0/1.6k [00:00<00:-18, -0s/it]\n",
      "4.5%┣██                                        ┫ 73/1.6k [00:00<00:01, 1.2kit/s]\n",
      "33.5%┣█████████████▍                          ┫ 541/1.6k [00:00<00:00, 4.8kit/s]\n",
      "53.6%┣█████████████████████▍                  ┫ 866/1.6k [00:00<00:00, 5.4kit/s]\n",
      "73.5%┣████████████████████████████▋          ┫ 1.2k/1.6k [00:00<00:00, 5.6kit/s]\n",
      "93.9%┣████████████████████████████████████▋  ┫ 1.5k/1.6k [00:00<00:00, 5.8kit/s]\n",
      "100.0%┣██████████████████████████████████████┫ 1.6k/1.6k [00:00<00:00, 5.8kit/s]\n",
      "100.0%┣██████████████████████████████████████┫ 1.6k/1.6k [00:00<00:00, 5.8kit/s]\n"
     ]
    }
   ],
   "source": [
    "Impurity_H_List = [ Imp_H(Total_H, Sub_Number_MB_Operator_List, Impurity_Dataa[1]) for Impurity_Dataa in ProgressBar(Impurity_Data_List) ];"
   ]
  },
  {
   "cell_type": "code",
   "execution_count": 131,
   "id": "969f0b91-b836-4be8-87b8-a45e61284abe",
   "metadata": {},
   "outputs": [
    {
     "data": {
      "text/plain": [
       "U_Imp_0_Ket (generic function with 1 method)"
      ]
     },
     "execution_count": 131,
     "metadata": {},
     "output_type": "execute_result"
    }
   ],
   "source": [
    "function U_Imp_0_Ket(U_Imp_0)\n",
    "    Eigen_List = []\n",
    "    U_IMP_0_List = []\n",
    "    for Impurity_HH in ProgressBar(Impurity_H_List)\n",
    "        Impurity_HH = dense((Impurity_HH+Impurity_HH')/2)\n",
    "        E_Imp, U_Imp = eigenstates(Impurity_HH)\n",
    "        push!(Eigen_List, U_Imp)\n",
    "        U_Imp = hcat([U_Imp[i].data for i in 1:Degeneracy] ...)\n",
    "        A = U_Imp_0'*U_Imp\n",
    "        A_inv = inv(A)\n",
    "        U_Imp_0 = U_Imp*A_inv\n",
    "        # for i in 1:Degeneracy\n",
    "        #     Norm_0 = sqrt(U_Imp_0[:,i]'*U_Imp_0[:,i])\n",
    "        #     U_Imp_0[:,i] = U_Imp_0[:,i] ./ Norm_0\n",
    "        # end\n",
    "        #global U_Imp_0 = gram_schmidt(U_Imp_0)\n",
    "    end\n",
    "    return U_Imp_0, Eigen_List, U_IMP_0_List\n",
    "end"
   ]
  },
  {
   "cell_type": "code",
   "execution_count": 132,
   "id": "8747fd48-79e8-4390-b5bd-f7664e8c48e3",
   "metadata": {
    "scrolled": true
   },
   "outputs": [
    {
     "name": "stderr",
     "output_type": "stream",
     "text": [
      "0.0%┣                                             ┫ 0/1.6k [00:00<00:00, -0s/it]\n",
      "0.1%┣                                         ┫ 1/1.6k [00:00<Inf:Inf, InfGs/it]\n",
      "0.8%┣▍                                           ┫ 13/1.6k [00:00<00:22, 74it/s]\n",
      "1.6%┣▊                                          ┫ 26/1.6k [00:00<00:14, 116it/s]\n",
      "2.4%┣█                                          ┫ 39/1.6k [00:00<00:11, 143it/s]\n",
      "3.3%┣█▍                                         ┫ 54/1.6k [00:00<00:09, 167it/s]\n",
      "4.3%┣█▉                                         ┫ 69/1.6k [00:00<00:08, 184it/s]\n",
      "5.2%┣██▎                                        ┫ 84/1.6k [00:00<00:08, 197it/s]\n",
      "6.1%┣██▋                                        ┫ 99/1.6k [00:00<00:07, 208it/s]\n",
      "7.1%┣███                                       ┫ 114/1.6k [00:01<00:07, 216it/s]\n",
      "8.0%┣███▍                                      ┫ 129/1.6k [00:01<00:07, 223it/s]\n",
      "8.9%┣███▊                                      ┫ 144/1.6k [00:01<00:06, 228it/s]\n",
      "9.8%┣████▏                                     ┫ 159/1.6k [00:01<00:06, 233it/s]\n",
      "10.8%┣████▍                                    ┫ 174/1.6k [00:01<00:06, 237it/s]\n",
      "11.7%┣████▉                                    ┫ 189/1.6k [00:01<00:06, 241it/s]\n",
      "12.6%┣█████▏                                   ┫ 204/1.6k [00:01<00:06, 244it/s]\n",
      "13.6%┣█████▋                                   ┫ 219/1.6k [00:01<00:06, 247it/s]\n",
      "14.5%┣██████                                   ┫ 234/1.6k [00:01<00:06, 249it/s]\n",
      "15.4%┣██████▎                                  ┫ 249/1.6k [00:01<00:05, 252it/s]\n",
      "16.3%┣██████▊                                  ┫ 264/1.6k [00:01<00:05, 254it/s]\n",
      "17.3%┣███████                                  ┫ 279/1.6k [00:01<00:05, 255it/s]\n",
      "18.2%┣███████▌                                 ┫ 294/1.6k [00:01<00:05, 257it/s]\n",
      "19.1%┣███████▉                                 ┫ 309/1.6k [00:01<00:05, 258it/s]\n",
      "20.0%┣████████▏                                ┫ 324/1.6k [00:01<00:05, 259it/s]\n",
      "21.0%┣████████▋                                ┫ 339/1.6k [00:01<00:05, 260it/s]\n",
      "21.9%┣█████████                                ┫ 354/1.6k [00:01<00:05, 261it/s]\n",
      "22.8%┣█████████▍                               ┫ 369/1.6k [00:01<00:05, 262it/s]\n",
      "23.8%┣█████████▊                               ┫ 384/1.6k [00:01<00:05, 263it/s]\n",
      "24.7%┣██████████▏                              ┫ 399/1.6k [00:02<00:05, 264it/s]\n",
      "25.6%┣██████████▌                              ┫ 414/1.6k [00:02<00:05, 264it/s]\n",
      "26.5%┣██████████▉                              ┫ 429/1.6k [00:02<00:04, 265it/s]\n",
      "27.5%┣███████████▎                             ┫ 444/1.6k [00:02<00:04, 265it/s]\n",
      "28.4%┣███████████▋                             ┫ 459/1.6k [00:02<00:04, 266it/s]\n",
      "29.3%┣████████████                             ┫ 474/1.6k [00:02<00:04, 267it/s]\n",
      "30.3%┣████████████▍                            ┫ 489/1.6k [00:02<00:04, 267it/s]\n",
      "31.2%┣████████████▉                            ┫ 504/1.6k [00:02<00:04, 268it/s]\n",
      "32.1%┣█████████████▏                           ┫ 519/1.6k [00:02<00:04, 268it/s]\n",
      "33.0%┣█████████████▌                           ┫ 534/1.6k [00:02<00:04, 269it/s]\n",
      "34.0%┣██████████████                           ┫ 549/1.6k [00:02<00:04, 269it/s]\n",
      "34.9%┣██████████████▎                          ┫ 564/1.6k [00:02<00:04, 269it/s]\n",
      "35.8%┣██████████████▋                          ┫ 578/1.6k [00:02<00:04, 270it/s]\n",
      "36.7%┣███████████████                          ┫ 593/1.6k [00:02<00:04, 270it/s]\n",
      "37.6%┣███████████████▍                         ┫ 608/1.6k [00:02<00:04, 270it/s]\n",
      "38.6%┣███████████████▉                         ┫ 623/1.6k [00:02<00:04, 271it/s]\n",
      "39.5%┣████████████████▏                        ┫ 638/1.6k [00:02<00:04, 271it/s]\n",
      "40.4%┣████████████████▋                        ┫ 653/1.6k [00:02<00:04, 271it/s]\n",
      "41.3%┣█████████████████                        ┫ 668/1.6k [00:02<00:03, 272it/s]\n",
      "42.3%┣█████████████████▎                       ┫ 683/1.6k [00:03<00:03, 272it/s]\n",
      "43.2%┣█████████████████▊                       ┫ 698/1.6k [00:03<00:03, 272it/s]\n",
      "44.1%┣██████████████████                       ┫ 713/1.6k [00:03<00:03, 272it/s]\n",
      "45.0%┣██████████████████▌                      ┫ 728/1.6k [00:03<00:03, 272it/s]\n",
      "46.0%┣██████████████████▉                      ┫ 743/1.6k [00:03<00:03, 273it/s]\n",
      "46.9%┣███████████████████▎                     ┫ 758/1.6k [00:03<00:03, 273it/s]\n",
      "47.8%┣███████████████████▋                     ┫ 773/1.6k [00:03<00:03, 273it/s]\n",
      "48.8%┣████████████████████                     ┫ 788/1.6k [00:03<00:03, 273it/s]\n",
      "49.7%┣████████████████████▍                    ┫ 803/1.6k [00:03<00:03, 274it/s]\n",
      "50.6%┣████████████████████▊                    ┫ 818/1.6k [00:03<00:03, 274it/s]\n",
      "51.5%┣█████████████████████▏                   ┫ 833/1.6k [00:03<00:03, 274it/s]\n",
      "52.5%┣█████████████████████▌                   ┫ 848/1.6k [00:03<00:03, 274it/s]\n",
      "53.4%┣██████████████████████                   ┫ 863/1.6k [00:03<00:03, 274it/s]\n",
      "54.3%┣██████████████████████▎                  ┫ 878/1.6k [00:03<00:03, 274it/s]\n",
      "55.3%┣██████████████████████▋                  ┫ 893/1.6k [00:03<00:03, 275it/s]\n",
      "56.2%┣███████████████████████                  ┫ 908/1.6k [00:03<00:03, 275it/s]\n",
      "57.1%┣███████████████████████▍                 ┫ 923/1.6k [00:03<00:03, 275it/s]\n",
      "58.0%┣███████████████████████▉                 ┫ 938/1.6k [00:03<00:02, 275it/s]\n",
      "59.0%┣████████████████████████▏                ┫ 953/1.6k [00:03<00:02, 275it/s]\n",
      "59.9%┣████████████████████████▋                ┫ 968/1.6k [00:04<00:02, 275it/s]\n",
      "60.8%┣█████████████████████████                ┫ 983/1.6k [00:04<00:02, 276it/s]\n",
      "61.8%┣█████████████████████████▎               ┫ 998/1.6k [00:04<00:02, 276it/s]\n",
      "62.7%┣█████████████████████████               ┫ 1.0k/1.6k [00:04<00:02, 276it/s]\n",
      "63.6%┣█████████████████████████▍              ┫ 1.0k/1.6k [00:04<00:02, 276it/s]\n",
      "64.5%┣█████████████████████████▉              ┫ 1.0k/1.6k [00:04<00:02, 276it/s]\n",
      "65.4%┣██████████████████████████▏             ┫ 1.1k/1.6k [00:04<00:02, 276it/s]\n",
      "66.3%┣██████████████████████████▌             ┫ 1.1k/1.6k [00:04<00:02, 276it/s]\n",
      "67.3%┣███████████████████████████             ┫ 1.1k/1.6k [00:04<00:02, 276it/s]\n",
      "68.2%┣███████████████████████████▎            ┫ 1.1k/1.6k [00:04<00:02, 277it/s]\n",
      "69.1%┣███████████████████████████▋            ┫ 1.1k/1.6k [00:04<00:02, 277it/s]\n",
      "70.0%┣████████████████████████████            ┫ 1.1k/1.6k [00:04<00:02, 277it/s]\n",
      "71.0%┣████████████████████████████▍           ┫ 1.1k/1.6k [00:04<00:02, 277it/s]\n",
      "71.9%┣████████████████████████████▊           ┫ 1.2k/1.6k [00:04<00:02, 277it/s]\n",
      "72.8%┣█████████████████████████████▏          ┫ 1.2k/1.6k [00:04<00:02, 277it/s]\n",
      "73.8%┣█████████████████████████████▌          ┫ 1.2k/1.6k [00:04<00:02, 277it/s]\n",
      "74.7%┣█████████████████████████████▉          ┫ 1.2k/1.6k [00:04<00:01, 277it/s]\n",
      "75.6%┣██████████████████████████████▎         ┫ 1.2k/1.6k [00:04<00:01, 277it/s]\n",
      "76.5%┣██████████████████████████████▋         ┫ 1.2k/1.6k [00:04<00:01, 277it/s]\n",
      "77.5%┣███████████████████████████████         ┫ 1.3k/1.6k [00:05<00:01, 277it/s]\n",
      "78.4%┣███████████████████████████████▍        ┫ 1.3k/1.6k [00:05<00:01, 278it/s]\n",
      "79.3%┣███████████████████████████████▊        ┫ 1.3k/1.6k [00:05<00:01, 278it/s]\n",
      "80.3%┣████████████████████████████████        ┫ 1.3k/1.6k [00:05<00:01, 278it/s]\n",
      "81.2%┣████████████████████████████████▌       ┫ 1.3k/1.6k [00:05<00:01, 278it/s]\n",
      "82.1%┣████████████████████████████████▉       ┫ 1.3k/1.6k [00:05<00:01, 278it/s]\n",
      "83.0%┣█████████████████████████████████▏      ┫ 1.3k/1.6k [00:05<00:01, 278it/s]\n",
      "83.9%┣█████████████████████████████████▋      ┫ 1.4k/1.6k [00:05<00:01, 278it/s]\n",
      "84.8%┣██████████████████████████████████      ┫ 1.4k/1.6k [00:05<00:01, 278it/s]\n",
      "85.8%┣██████████████████████████████████▎     ┫ 1.4k/1.6k [00:05<00:01, 278it/s]\n",
      "86.7%┣██████████████████████████████████▊     ┫ 1.4k/1.6k [00:05<00:01, 278it/s]\n",
      "87.6%┣███████████████████████████████████     ┫ 1.4k/1.6k [00:05<00:01, 278it/s]\n",
      "88.6%┣███████████████████████████████████▍    ┫ 1.4k/1.6k [00:05<00:01, 278it/s]\n",
      "89.5%┣███████████████████████████████████▉    ┫ 1.4k/1.6k [00:05<00:01, 278it/s]\n",
      "90.4%┣████████████████████████████████████▏   ┫ 1.5k/1.6k [00:05<00:01, 279it/s]\n",
      "91.3%┣████████████████████████████████████▌   ┫ 1.5k/1.6k [00:05<00:01, 278it/s]\n",
      "92.3%┣█████████████████████████████████████   ┫ 1.5k/1.6k [00:05<00:00, 279it/s]\n",
      "93.2%┣█████████████████████████████████████▎  ┫ 1.5k/1.6k [00:05<00:00, 279it/s]\n",
      "94.1%┣█████████████████████████████████████▋  ┫ 1.5k/1.6k [00:05<00:00, 279it/s]\n",
      "95.0%┣██████████████████████████████████████  ┫ 1.5k/1.6k [00:06<00:00, 279it/s]\n",
      "96.0%┣██████████████████████████████████████▍ ┫ 1.6k/1.6k [00:06<00:00, 279it/s]\n",
      "96.9%┣██████████████████████████████████████▊ ┫ 1.6k/1.6k [00:06<00:00, 279it/s]\n",
      "97.8%┣███████████████████████████████████████▏┫ 1.6k/1.6k [00:06<00:00, 279it/s]\n",
      "98.8%┣███████████████████████████████████████▌┫ 1.6k/1.6k [00:06<00:00, 279it/s]\n",
      "99.7%┣███████████████████████████████████████▉┫ 1.6k/1.6k [00:06<00:00, 279it/s]\n",
      "100.0%┣███████████████████████████████████████┫ 1.6k/1.6k [00:06<00:00, 279it/s]\n",
      "100.0%┣███████████████████████████████████████┫ 1.6k/1.6k [00:06<00:00, 279it/s]\n"
     ]
    }
   ],
   "source": [
    "U_Imp_0, Eigen_List, U_IMP_0_List = U_Imp_0_Ket(U_Imp_0);"
   ]
  },
  {
   "cell_type": "code",
   "execution_count": 133,
   "id": "cd46e71e-ca59-4a60-a61d-5a17bd2b54b1",
   "metadata": {},
   "outputs": [
    {
     "data": {
      "text/plain": [
       "7-element Vector{Float64}:\n",
       " -0.7590493171697305\n",
       " -0.7315974876505751\n",
       "  0.6898770566370135\n",
       "  0.6620763994307819\n",
       "  0.4138033598097666\n",
       "  0.37581100956999564\n",
       "  0.349078979372801"
      ]
     },
     "execution_count": 133,
     "metadata": {},
     "output_type": "execute_result"
    }
   ],
   "source": [
    "BerryEnergies, BerryStates = eigen(U_Imp_0' * U_first)\n",
    "Θ = angle.(BerryEnergies)/pi"
   ]
  },
  {
   "cell_type": "code",
   "execution_count": 134,
   "id": "19f7e893-5a49-4bca-be7f-81be3d94f230",
   "metadata": {},
   "outputs": [
    {
     "data": {
      "text/plain": [
       "1.0000000000000533"
      ]
     },
     "execution_count": 134,
     "metadata": {},
     "output_type": "execute_result"
    }
   ],
   "source": [
    "sum(Θ)"
   ]
  },
  {
   "cell_type": "code",
   "execution_count": 55,
   "id": "bc28ca33-5c13-408f-95c1-8c0d5574b63c",
   "metadata": {},
   "outputs": [
    {
     "ename": "LoadError",
     "evalue": "UndefVarError: `Degeneracy` not defined",
     "output_type": "error",
     "traceback": [
      "UndefVarError: `Degeneracy` not defined",
      ""
     ]
    }
   ],
   "source": [
    "Degeneracy"
   ]
  },
  {
   "cell_type": "code",
   "execution_count": 56,
   "id": "9659301e-86de-4044-8ec2-dd8d447acbe7",
   "metadata": {},
   "outputs": [
    {
     "ename": "LoadError",
     "evalue": "UndefVarError: `Degeneracy` not defined",
     "output_type": "error",
     "traceback": [
      "UndefVarError: `Degeneracy` not defined",
      "",
      "Stacktrace:",
      " [1] top-level scope",
      "   @ In[56]:1"
     ]
    }
   ],
   "source": [
    "data1 = Get_Avg_Density(Nx, Ny, Degeneracy, N, Sub_Number_MB_Operator_List, basis_cut_mb, Eigen_List[1])'\n",
    "heatmap(Interp(data1, 1), aspect_ratio=:equal)"
   ]
  },
  {
   "cell_type": "markdown",
   "id": "b60c48e5-bcd0-46c8-b612-6579d919fb88",
   "metadata": {},
   "source": [
    "# Single Particle Brading with Tanh Potential"
   ]
  },
  {
   "cell_type": "code",
   "execution_count": 57,
   "id": "4277fc73-cae8-4e0a-a3a8-7f68e700019c",
   "metadata": {},
   "outputs": [],
   "source": [
    "# Not: Kodun başında ki parametreler SP için OLMALI!"
   ]
  },
  {
   "cell_type": "code",
   "execution_count": 58,
   "id": "5a74a42d-cf04-4db5-9234-5455913a5d70",
   "metadata": {},
   "outputs": [],
   "source": [
    "# co = vcat( ( [y x] for x in 0:Ny-1 for y in 0:Nx-1 ) ... );"
   ]
  },
  {
   "cell_type": "code",
   "execution_count": 59,
   "id": "ac837dc8-5bdc-4e19-afde-88d94a756614",
   "metadata": {},
   "outputs": [],
   "source": [
    "# plot_square_lattice(Nx, Ny)"
   ]
  },
  {
   "cell_type": "code",
   "execution_count": 60,
   "id": "fefffb56-7568-4e68-9a5d-f1697c770757",
   "metadata": {},
   "outputs": [],
   "source": [
    "# x0, y0 = co[18,:]\n",
    "# x1, y1 = co[20,:]\n",
    "# x2, y2 = co[48,:]\n",
    "# x3, y3 = co[46,:]\n",
    "# coord = [x0, y0, x1, y1, x2, y2, x3, y3];"
   ]
  },
  {
   "cell_type": "code",
   "execution_count": 61,
   "id": "e5c636aa-0a3c-466d-96d8-700f6a1a4b8a",
   "metadata": {},
   "outputs": [],
   "source": [
    "# mutable struct impurity\n",
    "#     V0::Float64\n",
    "#     pos::Array{Float64}\n",
    "#     wid::Float64\n",
    "# end"
   ]
  },
  {
   "cell_type": "code",
   "execution_count": 62,
   "id": "29742033-1405-4ea5-a37c-5201af1c7f43",
   "metadata": {
    "editable": true,
    "slideshow": {
     "slide_type": ""
    },
    "tags": []
   },
   "outputs": [],
   "source": [
    "# V0 = 10\n",
    "# wid = 0.1\n",
    "# imps = [impurity(V0, [x0,y0], wid) ];"
   ]
  },
  {
   "cell_type": "code",
   "execution_count": 63,
   "id": "74a74293-9ffd-49be-a290-acfa580916ac",
   "metadata": {},
   "outputs": [],
   "source": [
    "# function Vpin2(imp, N, co)\n",
    "#     VV   = zeros(N,N)\n",
    "#     for site in 1:N\n",
    "#         VV[site, site] = imp.V0*(tanh( norm( co[site,:] - imp.pos ) / imp.wid )^2 -1)\n",
    "#     end\n",
    "#     return VV\n",
    "# end"
   ]
  },
  {
   "cell_type": "code",
   "execution_count": 64,
   "id": "6b167674-aa23-4b11-83ff-2b5e87a210a0",
   "metadata": {},
   "outputs": [],
   "source": [
    "# function Vimp2(imps, N, co)\n",
    "#     VM   = zeros(N,N)\n",
    "#     for imp in imps \n",
    "#         VM +=  Vpin2(imp, N, co)\n",
    "#     end\n",
    "#     return VM\n",
    "# end"
   ]
  },
  {
   "cell_type": "code",
   "execution_count": 65,
   "id": "b791cb1b-c8c7-46bf-a3a9-654423184003",
   "metadata": {},
   "outputs": [],
   "source": [
    "# function Himp(imps, N, co, basis, H1)\n",
    "#     VimpM = Vimp2(imps, N, co)\n",
    "#     Vimp_op = get_sp_op(basis, VimpM)\n",
    "#     return H1 + Vimp_op\n",
    "# end"
   ]
  },
  {
   "cell_type": "code",
   "execution_count": 66,
   "id": "8ceec605-47c7-4c14-9afa-7469c3f4f534",
   "metadata": {},
   "outputs": [],
   "source": [
    "# H1_tanh = Himp(imps, N, co, sp_basis, H1);"
   ]
  },
  {
   "cell_type": "code",
   "execution_count": 67,
   "id": "949dcb3f-e4ec-49f2-ad6f-ad19a655e486",
   "metadata": {},
   "outputs": [],
   "source": [
    "# E_0, U_0 = eigenstates(dense(H1_tanh));"
   ]
  },
  {
   "cell_type": "code",
   "execution_count": 68,
   "id": "ffa5274d-4dae-4816-b9ab-fdf62555fa42",
   "metadata": {},
   "outputs": [],
   "source": [
    "# θ, ψ_list = get_ab_phase2(coord, 0.1, V0, wid, N, co, sp_basis, H1, U_0, Degeneracy);"
   ]
  },
  {
   "cell_type": "code",
   "execution_count": 69,
   "id": "bcf1f495-c5ae-4298-91c3-ceeb5f489384",
   "metadata": {},
   "outputs": [],
   "source": [
    "# θ"
   ]
  },
  {
   "cell_type": "code",
   "execution_count": null,
   "id": "f87d84c6-1d83-4a25-98ef-0f92b7c76d44",
   "metadata": {},
   "outputs": [],
   "source": []
  },
  {
   "cell_type": "code",
   "execution_count": null,
   "id": "87f164e3-1578-450e-85d4-4b678fcb07a9",
   "metadata": {},
   "outputs": [],
   "source": []
  }
 ],
 "metadata": {
  "kernelspec": {
   "display_name": "Julia 1.9.3",
   "language": "julia",
   "name": "julia-1.9"
  },
  "language_info": {
   "file_extension": ".jl",
   "mimetype": "application/julia",
   "name": "julia",
   "version": "1.9.3"
  }
 },
 "nbformat": 4,
 "nbformat_minor": 5
}
