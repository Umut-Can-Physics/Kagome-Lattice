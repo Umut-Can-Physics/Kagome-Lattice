{
 "cells": [
  {
   "cell_type": "code",
   "execution_count": 1,
   "id": "decreased-habitat",
   "metadata": {
    "tags": []
   },
   "outputs": [
    {
     "data": {
      "text/plain": [
       "Hofstadter_SP (generic function with 1 method)"
      ]
     },
     "execution_count": 1,
     "metadata": {},
     "output_type": "execute_result"
    }
   ],
   "source": [
    "# executeme\n",
    "\n",
    "using NBInclude\n",
    "@nbinclude(\"Hofstadter Single Particle in Julia.ipynb\")"
   ]
  },
  {
   "cell_type": "code",
   "execution_count": 2,
   "id": "mediterranean-approval",
   "metadata": {
    "tags": []
   },
   "outputs": [],
   "source": [
    "# executeme\n",
    "\n",
    "#@time begin\n",
    "using QuantumOptics\n",
    "\n",
    "#https://juliapackages.com/p/einsum\n",
    "using Einsum\n",
    "\n",
    "# https://github.com/Jutho/TensorOperations.jl\n",
    "using TensorOperations\n",
    "\n",
    "using BenchmarkTools\n",
    "\n",
    "using LinearAlgebra\n",
    "\n",
    "#end"
   ]
  },
  {
   "cell_type": "markdown",
   "id": "experienced-extent",
   "metadata": {},
   "source": [
    "1) Hofstadter SP QoJulia energies are has to be equal to Hofstadter Single Particle energies."
   ]
  },
  {
   "cell_type": "code",
   "execution_count": 3,
   "id": "vulnerable-court",
   "metadata": {
    "tags": []
   },
   "outputs": [
    {
     "data": {
      "text/plain": [
       "2"
      ]
     },
     "execution_count": 3,
     "metadata": {},
     "output_type": "execute_result"
    }
   ],
   "source": [
    "Nx = 3; Ny = 3; N=Nx*Ny; q = 3; N_cut = q\n",
    "PN = 2\n",
    "U = 2"
   ]
  },
  {
   "cell_type": "code",
   "execution_count": 4,
   "id": "respected-essay",
   "metadata": {
    "tags": []
   },
   "outputs": [
    {
     "data": {
      "text/plain": [
       "Hofstadter_SP_Op (generic function with 1 method)"
      ]
     },
     "execution_count": 4,
     "metadata": {},
     "output_type": "execute_result"
    }
   ],
   "source": [
    "# executeme\n",
    "\n",
    "function Hofstadter_SP_Op(Nx, Ny, alpha, Basis)\n",
    "    \n",
    "    H_SP = Hofstadter_SP(Nx,Ny,alpha, 0)\n",
    "    \n",
    "    N = Nx*Ny\n",
    "    \n",
    "    H = SparseOperator(Basis)\n",
    "\n",
    "    for m in 1:N\n",
    "        for n in 1:N\n",
    "            H = H + H_SP[m,n] * transition(Basis, m, n)\n",
    "        end\n",
    "    end\n",
    "    \n",
    "    return H\n",
    "end"
   ]
  },
  {
   "cell_type": "code",
   "execution_count": 5,
   "id": "southern-beast",
   "metadata": {
    "tags": []
   },
   "outputs": [
    {
     "data": {
      "text/plain": [
       "NLevel(N=9)"
      ]
     },
     "execution_count": 5,
     "metadata": {},
     "output_type": "execute_result"
    }
   ],
   "source": [
    "basis = NLevelBasis(N)"
   ]
  },
  {
   "cell_type": "code",
   "execution_count": 6,
   "id": "democratic-transfer",
   "metadata": {
    "tags": []
   },
   "outputs": [
    {
     "data": {
      "text/plain": [
       "Operator(dim=9x9)\n",
       "  basis: NLevel(N=9)sparse([2, 3, 4, 7, 1, 3, 5, 8, 1, 2  …  8, 9, 2, 5, 7, 9, 3, 6, 7, 8], [1, 1, 1, 1, 2, 2, 2, 2, 3, 3, 3, 3, 4, 4, 4, 4, 5, 5, 5, 5, 6, 6, 6, 6, 7, 7, 7, 7, 8, 8, 8, 8, 9, 9, 9, 9], ComplexF64[-1.0 + 0.0im, -1.0 + 0.0im, -1.0 + 0.0im, -1.0 + 0.0im, -1.0 + 0.0im, -1.0 + 0.0im, 0.4999999999999998 - 0.8660254037844387im, 0.4999999999999998 + 0.8660254037844387im, -1.0 + 0.0im, -1.0 + 0.0im  …  -1.0 + 0.0im, -1.0 + 0.0im, 0.4999999999999998 - 0.8660254037844387im, 0.4999999999999998 + 0.8660254037844387im, -1.0 + 0.0im, -1.0 + 0.0im, 0.5000000000000004 + 0.8660254037844386im, 0.5000000000000004 - 0.8660254037844386im, -1.0 + 0.0im, -1.0 + 0.0im], 9, 9)"
      ]
     },
     "execution_count": 6,
     "metadata": {},
     "output_type": "execute_result"
    }
   ],
   "source": [
    "H1 = Hofstadter_SP_Op(Nx, Ny, 1/q, basis)"
   ]
  },
  {
   "cell_type": "code",
   "execution_count": 7,
   "id": "normal-modern",
   "metadata": {
    "tags": []
   },
   "outputs": [
    {
     "data": {
      "text/plain": [
       "9-element Vector{Float64}:\n",
       " -2.7320508075688794\n",
       " -2.732050807568878\n",
       " -2.7320508075688763\n",
       "  0.7320508075688769\n",
       "  0.732050807568877\n",
       "  0.7320508075688779\n",
       "  2.0000000000000004\n",
       "  2.0000000000000004\n",
       "  2.0000000000000018"
      ]
     },
     "execution_count": 7,
     "metadata": {},
     "output_type": "execute_result"
    }
   ],
   "source": [
    "eigenenergies(dense(H1))"
   ]
  },
  {
   "cell_type": "code",
   "execution_count": 8,
   "id": "painted-female",
   "metadata": {
    "tags": []
   },
   "outputs": [
    {
     "data": {
      "text/plain": [
       "true"
      ]
     },
     "execution_count": 8,
     "metadata": {},
     "output_type": "execute_result"
    }
   ],
   "source": [
    "eigenenergies(dense(H1)) == eigvals(Hofstadter_SP(Nx,Ny,1/q,0))"
   ]
  },
  {
   "cell_type": "code",
   "execution_count": 9,
   "id": "contrary-marshall",
   "metadata": {
    "tags": []
   },
   "outputs": [
    {
     "data": {
      "text/plain": [
       "get_sub_states (generic function with 1 method)"
      ]
     },
     "execution_count": 9,
     "metadata": {},
     "output_type": "execute_result"
    }
   ],
   "source": [
    "# executeme\n",
    "\n",
    "function get_sub_states(SP_Op, N_cut)\n",
    "    \n",
    "    E0, states0 = eigenstates(dense(SP_Op))\n",
    "    states = states0[1:N_cut]\n",
    "    \n",
    "    return states\n",
    "end"
   ]
  },
  {
   "cell_type": "code",
   "execution_count": 10,
   "id": "fleet-accreditation",
   "metadata": {
    "tags": []
   },
   "outputs": [],
   "source": [
    "sub_states = get_sub_states(H1, N_cut);"
   ]
  },
  {
   "cell_type": "code",
   "execution_count": 11,
   "id": "psychological-killing",
   "metadata": {
    "tags": []
   },
   "outputs": [
    {
     "data": {
      "text/plain": [
       "get_Projector (generic function with 1 method)"
      ]
     },
     "execution_count": 11,
     "metadata": {},
     "output_type": "execute_result"
    }
   ],
   "source": [
    "# executeme\n",
    "\n",
    "function get_Projector(states, Basis)\n",
    "    \n",
    "    b_sub = SubspaceBasis(Basis,states)\n",
    "    P = projector(b_sub, Basis)\n",
    "    Pt = dagger(P)\n",
    "    \n",
    "    return b_sub, P, Pt\n",
    "end"
   ]
  },
  {
   "cell_type": "code",
   "execution_count": 12,
   "id": "subject-perspective",
   "metadata": {
    "tags": []
   },
   "outputs": [],
   "source": [
    "b_sub, P, Pt = get_Projector(sub_states, basis);"
   ]
  },
  {
   "cell_type": "code",
   "execution_count": 13,
   "id": "continent-there",
   "metadata": {
    "tags": []
   },
   "outputs": [
    {
     "data": {
      "text/plain": [
       "Subspace_Op (generic function with 1 method)"
      ]
     },
     "execution_count": 13,
     "metadata": {},
     "output_type": "execute_result"
    }
   ],
   "source": [
    "# executeme\n",
    "\n",
    "function Subspace_Op(SP_Op, P, Pt)\n",
    "    return P*SP_Op*Pt\n",
    "end"
   ]
  },
  {
   "cell_type": "code",
   "execution_count": 14,
   "id": "comfortable-omega",
   "metadata": {
    "tags": []
   },
   "outputs": [
    {
     "data": {
      "text/plain": [
       "Operator(dim=3x3)\n",
       "  basis: Subspace(superbasis=NLevel(N=9), states:3)\n",
       " -2.73205-0.0im           0.0+0.0im      -2.2e-16+1.1e-16im\n",
       " -1.1e-16+1.0e-17im  -2.73205-2.0e-17im  -1.0e-17+7.0e-17im\n",
       " -2.2e-16-1.0e-16im   3.0e-17+5.0e-17im  -2.73205+2.2e-16im"
      ]
     },
     "execution_count": 14,
     "metadata": {},
     "output_type": "execute_result"
    }
   ],
   "source": [
    "H1_sub = Subspace_Op(H1, P, Pt)"
   ]
  },
  {
   "cell_type": "code",
   "execution_count": 15,
   "id": "primary-indiana",
   "metadata": {
    "tags": []
   },
   "outputs": [
    {
     "data": {
      "text/plain": [
       "get_num_sub_list (generic function with 1 method)"
      ]
     },
     "execution_count": 15,
     "metadata": {},
     "output_type": "execute_result"
    }
   ],
   "source": [
    "# executeme\n",
    "\n",
    "function get_num_sub_list(basis,P,Pt)\n",
    "    num_sub_list = []\n",
    "    for m in 1:N\n",
    "        NM = transition(basis, m, m)\n",
    "        NMP = Subspace_Op(NM, P,Pt)\n",
    "        push!(num_sub_list, NMP)\n",
    "    end\n",
    "    return num_sub_list\n",
    "end"
   ]
  },
  {
   "cell_type": "code",
   "execution_count": 16,
   "id": "incredible-cholesterol",
   "metadata": {},
   "outputs": [],
   "source": [
    "num_sub_list = get_num_sub_list(basis,P,Pt);"
   ]
  },
  {
   "cell_type": "code",
   "execution_count": 17,
   "id": "conceptual-franklin",
   "metadata": {
    "tags": []
   },
   "outputs": [
    {
     "data": {
      "text/plain": [
       "ManyBody(onebodybasis=Subspace(superbasis=NLevel(N=9), states:3), states:6)"
      ]
     },
     "execution_count": 17,
     "metadata": {},
     "output_type": "execute_result"
    }
   ],
   "source": [
    "states_mb = bosonstates(b_sub, PN) \n",
    "basis_mb = ManyBodyBasis(b_sub, states_mb)"
   ]
  },
  {
   "cell_type": "code",
   "execution_count": 18,
   "id": "aging-graham",
   "metadata": {
    "tags": []
   },
   "outputs": [
    {
     "data": {
      "text/plain": [
       "get_MB_Op (generic function with 1 method)"
      ]
     },
     "execution_count": 18,
     "metadata": {},
     "output_type": "execute_result"
    }
   ],
   "source": [
    "# executeme\n",
    "\n",
    "function get_MB_Op(MB_Basis, Basis, Op)\n",
    "    \n",
    "    Op_MB = SparseOperator(MB_Basis)\n",
    "    for i in 1:length(Basis)\n",
    "        for j in 1:length(Basis)\n",
    "            Op_MB = Op_MB + Op.data[i,j] * transition(MB_Basis, i, j)\n",
    "        end\n",
    "    end\n",
    "    \n",
    "    return Op_MB\n",
    "end"
   ]
  },
  {
   "cell_type": "code",
   "execution_count": 19,
   "id": "compressed-toolbox",
   "metadata": {
    "tags": []
   },
   "outputs": [
    {
     "data": {
      "text/plain": [
       "Operator(dim=6x6)\n",
       "  basis: ManyBody(onebodybasis=Subspace(superbasis=NLevel(N=9), states:3), states:6)sparse([1, 2, 3, 2, 3, 4, 5, 1, 2, 3  …  6, 4, 5, 2, 4, 5, 6, 3, 5, 6], [1, 1, 1, 2, 2, 2, 2, 3, 3, 3, 3, 3, 4, 4, 5, 5, 5, 5, 6, 6, 6], ComplexF64[-5.464101615137758 + 0.0im, -1.6e-16 + 1.0e-17im, -3.1e-16 - 1.4e-16im, -5.464101615137757 - 2.0e-17im, 3.0e-17 + 5.0e-17im, -1.6e-16 + 1.0e-17im, -2.2e-16 - 1.0e-16im, -3.1e-16 + 1.6e-16im, -1.0e-17 + 7.0e-17im, -5.464101615137756 + 2.2e-16im  …  -3.1e-16 - 1.4e-16im, -5.464101615137757 - 4.0e-17im, 5.0e-17 + 7.0e-17im, -2.2e-16 + 1.1e-16im, -1.0e-17 + 1.0e-16im, -5.464101615137755 + 2.0e-16im, 5.0e-17 + 7.0e-17im, -3.1e-16 + 1.6e-16im, -1.0e-17 + 1.0e-16im, -5.464101615137756 + 4.4e-16im], 6, 6)"
      ]
     },
     "execution_count": 19,
     "metadata": {},
     "output_type": "execute_result"
    }
   ],
   "source": [
    "H1_MB = get_MB_Op(basis_mb, b_sub, H1_sub)"
   ]
  },
  {
   "cell_type": "code",
   "execution_count": 20,
   "id": "collective-rochester",
   "metadata": {
    "tags": []
   },
   "outputs": [],
   "source": [
    "# H1_mb = manybodyoperator(basis_mb, H1_sub)"
   ]
  },
  {
   "cell_type": "code",
   "execution_count": 21,
   "id": "dangerous-jacket",
   "metadata": {
    "tags": []
   },
   "outputs": [
    {
     "data": {
      "text/plain": [
       "get_num_mb_list (generic function with 1 method)"
      ]
     },
     "execution_count": 21,
     "metadata": {},
     "output_type": "execute_result"
    }
   ],
   "source": [
    "# executeme\n",
    "\n",
    "function get_num_mb_list(basis_mb, b_sub, num_sub_list)\n",
    "    num_mb_list = []\n",
    "    for m in 1:N\n",
    "        NMP = get_MB_Op(basis_mb, b_sub, num_sub_list[m])\n",
    "        push!(num_mb_list, NMP)\n",
    "    end\n",
    "    return num_mb_list\n",
    "end"
   ]
  },
  {
   "cell_type": "code",
   "execution_count": 22,
   "id": "foster-wells",
   "metadata": {},
   "outputs": [],
   "source": [
    "num_mb_list = get_num_mb_list(basis_mb, b_sub, num_sub_list);"
   ]
  },
  {
   "cell_type": "code",
   "execution_count": 23,
   "id": "promotional-laser",
   "metadata": {
    "tags": []
   },
   "outputs": [],
   "source": [
    "function Int_Op(MB_Num_Op_List, MB_Basis, U)\n",
    "\n",
    "    IT = SparseOperator(MB_Basis)\n",
    "    \n",
    "    for m in 1:N\n",
    "        IT = IT + U/2 * ( MB_Num_Op_List[m]*MB_Num_Op_List[m] - MB_Num_Op_List[m] )\n",
    "    end\n",
    "    \n",
    "    return IT\n",
    "end\n",
    "\n",
    "H_Int_MB = Int_Op(num_mb_list, basis_mb, U);"
   ]
  },
  {
   "cell_type": "code",
   "execution_count": 24,
   "id": "forced-psychology",
   "metadata": {
    "tags": []
   },
   "outputs": [
    {
     "name": "stdout",
     "output_type": "stream",
     "text": [
      "  0.436950 seconds (347.75 k allocations: 23.349 MiB, 3.71% gc time, 99.74% compilation time)\n"
     ]
    },
    {
     "data": {
      "text/plain": [
       "Operator(dim=6x6)\n",
       "  basis: ManyBody(onebodybasis=Subspace(superbasis=NLevel(N=9), states:3), states:6)\n",
       "   0.325738+0.0im         -0.0260049+0.00677932im  …  -0.0390018-0.0467974im\n",
       " -0.0260049-0.00677932im    0.303695-0.0im            -0.0528966-0.112426im\n",
       "  0.0861412-0.0403437im   -0.0628686+0.0522079im      -0.0453325-0.0212312im\n",
       "   0.118168-0.0109049im      3.0e-17+0.0im             0.0181752+0.0181239im\n",
       "  0.0122897-0.00227428im  -0.0577122+0.0270292im       0.0444548+0.0369166im\n",
       " -0.0390018+0.0467974im   -0.0528966+0.112426im    …    0.379433+0.0im"
      ]
     },
     "execution_count": 24,
     "metadata": {},
     "output_type": "execute_result"
    }
   ],
   "source": [
    "#@btime begin\n",
    "@time begin\n",
    "basis2 = basis ⊗ basis\n",
    "\n",
    "# interaction : at_i at_i a_i a_i = at_i a_i at_i a_i - at_i a_i = n_i n_i - n_i\n",
    "    \n",
    "Vint = SparseOperator(basis2)\n",
    "\n",
    "for n in 1:N\n",
    "    Vint += U/2*transition(basis,n,n)⊗transition(basis,n,n)\n",
    "end\n",
    "\n",
    "Vint_sub = (P⊗P)*Vint*(Pt⊗Pt)\n",
    "\n",
    "Vint_mb = manybodyoperator(basis_mb, Vint_sub)\n",
    "end"
   ]
  },
  {
   "cell_type": "code",
   "execution_count": 25,
   "id": "caring-latitude",
   "metadata": {},
   "outputs": [
    {
     "data": {
      "text/plain": [
       "get_Vint_bsub2_einsum (generic function with 1 method)"
      ]
     },
     "execution_count": 25,
     "metadata": {},
     "output_type": "execute_result"
    }
   ],
   "source": [
    "# executeme\n",
    "\n",
    "function get_Vint_bsub2_einsum(P, Pt, b_sub, N_cut)\n",
    "    P1 = P.data\n",
    "    P1t = Pt.data;\n",
    "\n",
    "    @einsum P4[k,l,m,n] := P1[k,i] * P1[l,i] * P1t[i,m] * P1t[i,n]\n",
    "\n",
    "    b2_sub = b_sub ⊗ b_sub\n",
    "\n",
    "    P4re = reshape(P4, N_cut^2, N_cut^2)\n",
    "\n",
    "    Vint_bsub2 = Operator(b2_sub,U/2*P4re)\n",
    "\n",
    "    return Vint_bsub2\n",
    "end"
   ]
  },
  {
   "cell_type": "code",
   "execution_count": 26,
   "id": "dynamic-printer",
   "metadata": {},
   "outputs": [
    {
     "name": "stdout",
     "output_type": "stream",
     "text": [
      "  0.165468 seconds (382.22 k allocations: 24.649 MiB, 99.69% compilation time)\n"
     ]
    },
    {
     "data": {
      "text/plain": [
       "Operator(dim=9x9)\n",
       "  basis: [Subspace(superbasis=NLevel(N=9), states:3) ⊗ Subspace(superbasis=NLevel(N=9), states:3)]\n",
       "    0.162869-1.0e-17im      …  -0.0195009-0.0233987im\n",
       " -0.00919411-0.00239685im      -0.0187018-0.0397487im\n",
       "   0.0304555-0.0142637im       -0.0160275-0.00750637im\n",
       " -0.00919411-0.00239685im      -0.0187018-0.0397487im\n",
       "    0.059084-0.00545245im      0.00908761+0.00906197im\n",
       "  0.00434506-0.000804078im  …   0.0157171+0.013052im\n",
       "   0.0304555-0.0142637im       -0.0160275-0.00750637im\n",
       "  0.00434506-0.000804078im      0.0157171+0.013052im\n",
       "  -0.0195009+0.0233987im         0.189717-1.0e-17im"
      ]
     },
     "execution_count": 26,
     "metadata": {},
     "output_type": "execute_result"
    }
   ],
   "source": [
    "@time begin\n",
    "Vint_bsub2 = get_Vint_bsub2_einsum(P, Pt, b_sub, N_cut)\n",
    "end"
   ]
  },
  {
   "cell_type": "code",
   "execution_count": 27,
   "id": "incorrect-course",
   "metadata": {},
   "outputs": [
    {
     "name": "stdout",
     "output_type": "stream",
     "text": [
      "  0.000311 seconds (11.67 k allocations: 912.312 KiB)\n"
     ]
    },
    {
     "data": {
      "text/plain": [
       "Operator(dim=6x6)\n",
       "  basis: ManyBody(onebodybasis=Subspace(superbasis=NLevel(N=9), states:3), states:6)\n",
       "   0.325738-1.0e-17im     -0.0260049+0.00677932im  …  -0.0390018-0.0467974im\n",
       " -0.0260049-0.00677932im    0.303695+0.0im            -0.0528966-0.112426im\n",
       "  0.0861412-0.0403437im   -0.0628686+0.0522079im      -0.0453325-0.0212312im\n",
       "   0.118168-0.0109049im      1.0e-17+1.0e-17im         0.0181752+0.0181239im\n",
       "  0.0122897-0.00227428im  -0.0577122+0.0270292im       0.0444548+0.0369166im\n",
       " -0.0390018+0.0467974im   -0.0528966+0.112426im    …    0.379433-2.0e-17im"
      ]
     },
     "execution_count": 27,
     "metadata": {},
     "output_type": "execute_result"
    }
   ],
   "source": [
    "@time begin\n",
    "Vint_mb_einsum = manybodyoperator(basis_mb, Vint_bsub2)\n",
    "end"
   ]
  },
  {
   "cell_type": "code",
   "execution_count": 28,
   "id": "relevant-xerox",
   "metadata": {},
   "outputs": [
    {
     "data": {
      "text/plain": [
       "true"
      ]
     },
     "execution_count": 28,
     "metadata": {},
     "output_type": "execute_result"
    }
   ],
   "source": [
    "isapprox( Vint_mb , Vint_mb_einsum )"
   ]
  },
  {
   "cell_type": "code",
   "execution_count": 29,
   "id": "educated-elder",
   "metadata": {
    "tags": []
   },
   "outputs": [
    {
     "data": {
      "text/plain": [
       "Operator(dim=6x6)\n",
       "  basis: ManyBody(onebodybasis=Subspace(superbasis=NLevel(N=9), states:3), states:6)\n",
       "   -5.13836+0.0im         -0.0260049+0.00677932im  …  -0.0390018-0.0467974im\n",
       " -0.0260049-0.00677932im    -5.16041-2.0e-17im        -0.0528966-0.112426im\n",
       "  0.0861412-0.0403437im   -0.0628686+0.0522079im      -0.0453325-0.0212312im\n",
       "   0.118168-0.0109049im     -1.3e-16+2.0e-17im         0.0181752+0.0181239im\n",
       "  0.0122897-0.00227428im  -0.0577122+0.0270292im       0.0444548+0.0369166im\n",
       " -0.0390018+0.0467974im   -0.0528966+0.112426im    …    -5.08467+4.4e-16im"
      ]
     },
     "execution_count": 29,
     "metadata": {},
     "output_type": "execute_result"
    }
   ],
   "source": [
    "H_MB = H1_MB + Vint_mb_einsum\n",
    "H_mb = H1_MB + Vint_mb"
   ]
  },
  {
   "cell_type": "markdown",
   "id": "imperial-basket",
   "metadata": {},
   "source": [
    "2) If U<<Band-Gap, Sub-Space Hofstadter Finite-U energies converges at Hofstadter Finite-U energies.\n",
    "3) When all SP states projected to the new sub-space, Sub-Space Hofstadter Finite-U energies have to equal to Hofstadter Finite-U energies."
   ]
  },
  {
   "cell_type": "code",
   "execution_count": 30,
   "id": "regulated-complaint",
   "metadata": {
    "tags": []
   },
   "outputs": [
    {
     "data": {
      "text/plain": [
       "Hofstadter_Finite_U (generic function with 1 method)"
      ]
     },
     "execution_count": 30,
     "metadata": {},
     "output_type": "execute_result"
    }
   ],
   "source": [
    "@nbinclude(\"Hofstadter MB in Julia.ipynb\"; regex=r\"#.*executeme\")"
   ]
  },
  {
   "cell_type": "code",
   "execution_count": 31,
   "id": "previous-columbia",
   "metadata": {
    "tags": []
   },
   "outputs": [
    {
     "name": "stdout",
     "output_type": "stream",
     "text": [
      "[-5.29743494847109, -5.297434948471089, -5.297434948471085, -4.964101615137757, -4.964101615137756, -4.9641016151377535]\n",
      "[-5.297434948471091, -5.29743494847109, -5.297434948471087, -4.964101615137757, -4.964101615137755, -4.964101615137754]\n",
      "[-5.340971176014529, -5.340971176014522, -5.340971176014509, -5.0661682656188365, -5.06616826561883, -5.066168265618821, -1.81285035447887, -1.8128503544788692, -1.8128503544788688, -1.704570336931173]"
     ]
    }
   ],
   "source": [
    "# using Plots\n",
    "\n",
    "E1 = eigenenergies(dense((H_MB+dagger(H_MB))/2))\n",
    "\n",
    "E_mb = eigenenergies(dense((H_mb+dagger(H_mb))/2))\n",
    "\n",
    "\n",
    "E2 = eigenenergies(dense(Hofstadter_Finite_U(Nx, Ny, 1/q, PN, U)))\n",
    "\n",
    "# print(E1-E2[1:length(E1)])\n",
    "\n",
    "# plot(1:length(E1),E1,seriestype=:scatter,markershape=:star5, markersize=6, label=\"Sub-Space\")\n",
    "# plot!(1:length(E2),E2,seriestype=:scatter,label=\"Real-Space\",legend=:topleft)\n",
    "# xlabel!(\"n\");ylabel!(\"E\")\n",
    "\n",
    "print(E1,'\\n', E_mb,'\\n',E2[1:10])"
   ]
  },
  {
   "cell_type": "code",
   "execution_count": 32,
   "id": "awful-briefing",
   "metadata": {
    "tags": []
   },
   "outputs": [
    {
     "data": {
      "text/plain": [
       "6-element Vector{Float64}:\n",
       " -5.297434948471091\n",
       " -5.29743494847109\n",
       " -5.297434948471087\n",
       " -4.964101615137757\n",
       " -4.964101615137755\n",
       " -4.964101615137754"
      ]
     },
     "execution_count": 32,
     "metadata": {},
     "output_type": "execute_result"
    }
   ],
   "source": [
    "E_mb"
   ]
  },
  {
   "cell_type": "code",
   "execution_count": null,
   "id": "grand-course",
   "metadata": {},
   "outputs": [],
   "source": []
  },
  {
   "cell_type": "code",
   "execution_count": null,
   "id": "graduate-burden",
   "metadata": {},
   "outputs": [],
   "source": []
  },
  {
   "cell_type": "code",
   "execution_count": null,
   "id": "challenging-output",
   "metadata": {},
   "outputs": [],
   "source": []
  },
  {
   "cell_type": "code",
   "execution_count": null,
   "id": "alpha-output",
   "metadata": {},
   "outputs": [],
   "source": []
  }
 ],
 "metadata": {
  "kernelspec": {
   "display_name": "Julia 1.9.0-rc1",
   "language": "julia",
   "name": "julia-1.9"
  },
  "language_info": {
   "file_extension": ".jl",
   "mimetype": "application/julia",
   "name": "julia",
   "version": "1.9.0"
  }
 },
 "nbformat": 4,
 "nbformat_minor": 5
}
