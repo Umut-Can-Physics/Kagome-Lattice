{
 "cells": [
  {
   "cell_type": "code",
   "execution_count": 14,
   "id": "portuguese-prediction",
   "metadata": {
    "tags": []
   },
   "outputs": [
    {
     "data": {
      "text/plain": [
       "Hubbard_Interaction"
      ]
     },
     "execution_count": 14,
     "metadata": {},
     "output_type": "execute_result"
    }
   ],
   "source": [
    "using NBInclude\n",
    "@nbinclude(\"Hofstadter Single Particle in Julia.ipynb\")\n",
    "@nbinclude(joinpath(\"..\",\"First Band Approximation Functions.ipynb\"))"
   ]
  },
  {
   "cell_type": "markdown",
   "id": "1cbf7141-36bd-4ef7-9487-deb38a7b9128",
   "metadata": {},
   "source": [
    "# Initial Parameters"
   ]
  },
  {
   "cell_type": "code",
   "execution_count": 15,
   "id": "about-bones",
   "metadata": {
    "tags": []
   },
   "outputs": [],
   "source": [
    "Nx = 5; Ny = 5; N=Nx*Ny; q = 5; cut_off = 5\n",
    "PN = [0,1,2]\n",
    "U = 2;"
   ]
  },
  {
   "cell_type": "markdown",
   "id": "aa578b60-4cd3-49a9-8e3d-aabffe7d92cf",
   "metadata": {
    "tags": []
   },
   "source": [
    "# Single-Particle"
   ]
  },
  {
   "cell_type": "code",
   "execution_count": 16,
   "id": "imperial-crisis",
   "metadata": {
    "tags": []
   },
   "outputs": [
    {
     "data": {
      "text/latex": [
       "Compute the single-particle operator from single-particle matrix.\n",
       "\n",
       "\\paragraph{Arguments}\n",
       "\\begin{itemize}\n",
       "\\item \\texttt{sp\\_basis::NLevelBasis}: Single-Particle basis.\n",
       "\n",
       "\n",
       "\\item \\texttt{sp\\_matrix::Matrix}: Any hopping phases matrix from any model.\n",
       "\n",
       "\\end{itemize}\n"
      ],
      "text/markdown": [
       "Compute the single-particle operator from single-particle matrix.\n",
       "\n",
       "#### Arguments\n",
       "\n",
       "  * `sp_basis::NLevelBasis`: Single-Particle basis.\n",
       "  * `sp_matrix::Matrix`: Any hopping phases matrix from any model.\n"
      ],
      "text/plain": [
       "  Compute the single-particle operator from single-particle matrix.\n",
       "\n",
       "\u001b[1m  Arguments\u001b[22m\n",
       "\u001b[1m  -----------\u001b[22m\n",
       "\n",
       "    •  \u001b[36msp_basis::NLevelBasis\u001b[39m: Single-Particle basis.\n",
       "\n",
       "    •  \u001b[36msp_matrix::Matrix\u001b[39m: Any hopping phases matrix from any model."
      ]
     },
     "execution_count": 16,
     "metadata": {},
     "output_type": "execute_result"
    }
   ],
   "source": [
    "@doc get_sp_op"
   ]
  },
  {
   "cell_type": "code",
   "execution_count": 17,
   "id": "temporal-cleveland",
   "metadata": {
    "tags": []
   },
   "outputs": [],
   "source": [
    "sp_basis = NLevelBasis(N);\n",
    "periodicity = 0\n",
    "sp_matrix = Hofstadter_SP(Nx, Ny, 1/q, periodicity);"
   ]
  },
  {
   "cell_type": "code",
   "execution_count": 18,
   "id": "likely-spank",
   "metadata": {
    "tags": []
   },
   "outputs": [],
   "source": [
    "H1 = get_sp_op(sp_basis, sp_matrix);"
   ]
  },
  {
   "cell_type": "code",
   "execution_count": 25,
   "id": "ignored-medium",
   "metadata": {
    "tags": []
   },
   "outputs": [
    {
     "data": {
      "text/plain": [
       "true"
      ]
     },
     "execution_count": 25,
     "metadata": {},
     "output_type": "execute_result"
    }
   ],
   "source": [
    "#check operator form\n",
    "using LinearAlgebra\n",
    "eigenenergies(dense(H1)) == eigvals(sp_matrix)\n",
    "#eigvals(sp_matrix)"
   ]
  },
  {
   "cell_type": "code",
   "execution_count": 26,
   "id": "e2e9066d-37c3-4286-b5fa-db560eacf4c0",
   "metadata": {
    "tags": []
   },
   "outputs": [
    {
     "data": {
      "text/latex": [
       "Compute the first given number eigen-states.\n",
       "\n",
       "\\paragraph{Arguments}\n",
       "\\begin{itemize}\n",
       "\\item \\texttt{sp\\_op::Operator}: Created single-particle operator by using \\texttt{get\\_sp\\_op}.\n",
       "\n",
       "\n",
       "\\item \\texttt{cut\\_off::Int}: Eigen-states order from \\texttt{1} to \\texttt{cut\\_off}.\n",
       "\n",
       "\\end{itemize}\n"
      ],
      "text/markdown": [
       "Compute the first given number eigen-states.\n",
       "\n",
       "#### Arguments\n",
       "\n",
       "  * `sp_op::Operator`: Created single-particle operator by using `get_sp_op`.\n",
       "  * `cut_off::Int`: Eigen-states order from `1` to `cut_off`.\n"
      ],
      "text/plain": [
       "  Compute the first given number eigen-states.\n",
       "\n",
       "\u001b[1m  Arguments\u001b[22m\n",
       "\u001b[1m  -----------\u001b[22m\n",
       "\n",
       "    •  \u001b[36msp_op::Operator\u001b[39m: Created single-particle operator by using\n",
       "       \u001b[36mget_sp_op\u001b[39m.\n",
       "\n",
       "    •  \u001b[36mcut_off::Int\u001b[39m: Eigen-states order from \u001b[36m1\u001b[39m to \u001b[36mcut_off\u001b[39m."
      ]
     },
     "execution_count": 26,
     "metadata": {},
     "output_type": "execute_result"
    }
   ],
   "source": [
    "@doc get_sub_states"
   ]
  },
  {
   "cell_type": "code",
   "execution_count": 27,
   "id": "compact-brooks",
   "metadata": {
    "tags": []
   },
   "outputs": [],
   "source": [
    "sub_states = get_sub_states(H1, cut_off);"
   ]
  },
  {
   "cell_type": "code",
   "execution_count": 28,
   "id": "d644861d-5ac6-4597-bfdb-9df51e96c229",
   "metadata": {
    "tags": []
   },
   "outputs": [
    {
     "data": {
      "text/latex": [
       "Compute Sub-Space Basis, Projection and comlex conjugate of Projection operator.\n",
       "\n",
       "\\paragraph{Arguments}\n",
       "\\begin{itemize}\n",
       "\\item \\texttt{states::eigenstates}: Eigen-states of any operator.\n",
       "\n",
       "\n",
       "\\item \\texttt{basis::NLevelBasis}: Single-Particle basis.\n",
       "\n",
       "\\end{itemize}\n"
      ],
      "text/markdown": [
       "Compute Sub-Space Basis, Projection and comlex conjugate of Projection operator.\n",
       "\n",
       "#### Arguments\n",
       "\n",
       "  * `states::eigenstates`: Eigen-states of any operator.\n",
       "  * `basis::NLevelBasis`: Single-Particle basis.\n"
      ],
      "text/plain": [
       "  Compute Sub-Space Basis, Projection and comlex conjugate of Projection\n",
       "  operator.\n",
       "\n",
       "\u001b[1m  Arguments\u001b[22m\n",
       "\u001b[1m  -----------\u001b[22m\n",
       "\n",
       "    •  \u001b[36mstates::eigenstates\u001b[39m: Eigen-states of any operator.\n",
       "\n",
       "    •  \u001b[36mbasis::NLevelBasis\u001b[39m: Single-Particle basis."
      ]
     },
     "execution_count": 28,
     "metadata": {},
     "output_type": "execute_result"
    }
   ],
   "source": [
    "@doc get_projector_op"
   ]
  },
  {
   "cell_type": "code",
   "execution_count": 29,
   "id": "molecular-bankruptcy",
   "metadata": {
    "tags": []
   },
   "outputs": [],
   "source": [
    "b_sub, P, Pt = get_projector_op(sub_states, sp_basis);"
   ]
  },
  {
   "cell_type": "code",
   "execution_count": 30,
   "id": "dd280e68-52a1-4367-b2f8-e73c8533f8bb",
   "metadata": {
    "tags": []
   },
   "outputs": [
    {
     "data": {
      "text/latex": [
       "Compute the Sub-Space Operator.\n",
       "\n",
       "\\paragraph{Arguments}\n",
       "\\begin{itemize}\n",
       "\\item \\texttt{sp\\_op::Operator}: Single-particle operator from single-particle matrix.\n",
       "\n",
       "\n",
       "\\item \\texttt{P::Operator}: Projection operator.\n",
       "\n",
       "\n",
       "\\item \\texttt{Pt::Operator}: Complex conjugate of Projection operator.\n",
       "\n",
       "\\end{itemize}\n"
      ],
      "text/markdown": [
       "Compute the Sub-Space Operator.\n",
       "\n",
       "#### Arguments\n",
       "\n",
       "  * `sp_op::Operator`: Single-particle operator from single-particle matrix.\n",
       "  * `P::Operator`: Projection operator.\n",
       "  * `Pt::Operator`: Complex conjugate of Projection operator.\n"
      ],
      "text/plain": [
       "  Compute the Sub-Space Operator.\n",
       "\n",
       "\u001b[1m  Arguments\u001b[22m\n",
       "\u001b[1m  -----------\u001b[22m\n",
       "\n",
       "    •  \u001b[36msp_op::Operator\u001b[39m: Single-particle operator from single-particle\n",
       "       matrix.\n",
       "\n",
       "    •  \u001b[36mP::Operator\u001b[39m: Projection operator.\n",
       "\n",
       "    •  \u001b[36mPt::Operator\u001b[39m: Complex conjugate of Projection operator."
      ]
     },
     "execution_count": 30,
     "metadata": {},
     "output_type": "execute_result"
    }
   ],
   "source": [
    "@doc get_subspace_op"
   ]
  },
  {
   "cell_type": "code",
   "execution_count": 31,
   "id": "informed-macro",
   "metadata": {
    "tags": []
   },
   "outputs": [],
   "source": [
    "H1_sub = get_subspace_op(H1, P, Pt);"
   ]
  },
  {
   "cell_type": "code",
   "execution_count": 32,
   "id": "c4bc4b2e-2868-45fa-8200-c6187ed42627",
   "metadata": {
    "tags": []
   },
   "outputs": [
    {
     "data": {
      "text/latex": [
       "Compute the Single-Particle Number Operator for each lattice sites.\n",
       "\n",
       "\\paragraph{Arguments}\n",
       "\\begin{itemize}\n",
       "\\item \\texttt{sp\\_basis::NLevelBasis}: Single-Particle basis.\n",
       "\n",
       "\n",
       "\\item \\texttt{P::Operator}: Projection operator.\n",
       "\n",
       "\n",
       "\\item \\texttt{Pt::Operator}: Complex conjugate of Projection operator.\n",
       "\n",
       "\\end{itemize}\n"
      ],
      "text/markdown": [
       "Compute the Single-Particle Number Operator for each lattice sites.\n",
       "\n",
       "#### Arguments\n",
       "\n",
       "  * `sp_basis::NLevelBasis`: Single-Particle basis.\n",
       "  * `P::Operator`: Projection operator.\n",
       "  * `Pt::Operator`: Complex conjugate of Projection operator.\n"
      ],
      "text/plain": [
       "  Compute the Single-Particle Number Operator for each lattice sites.\n",
       "\n",
       "\u001b[1m  Arguments\u001b[22m\n",
       "\u001b[1m  -----------\u001b[22m\n",
       "\n",
       "    •  \u001b[36msp_basis::NLevelBasis\u001b[39m: Single-Particle basis.\n",
       "\n",
       "    •  \u001b[36mP::Operator\u001b[39m: Projection operator.\n",
       "\n",
       "    •  \u001b[36mPt::Operator\u001b[39m: Complex conjugate of Projection operator."
      ]
     },
     "execution_count": 32,
     "metadata": {},
     "output_type": "execute_result"
    }
   ],
   "source": [
    "@doc get_num_sub_list"
   ]
  },
  {
   "cell_type": "code",
   "execution_count": 33,
   "id": "cross-patrol",
   "metadata": {
    "tags": []
   },
   "outputs": [],
   "source": [
    "num_sub_list = get_num_sub_list(sp_basis,P,Pt);"
   ]
  },
  {
   "cell_type": "markdown",
   "id": "particular-surrey",
   "metadata": {},
   "source": [
    "# Many-Body"
   ]
  },
  {
   "cell_type": "code",
   "execution_count": 34,
   "id": "difficult-ground",
   "metadata": {
    "tags": []
   },
   "outputs": [
    {
     "data": {
      "text/plain": [
       "ManyBody(onebodybasis=Subspace(superbasis=NLevel(N=25), states:5), states:21)"
      ]
     },
     "execution_count": 34,
     "metadata": {},
     "output_type": "execute_result"
    }
   ],
   "source": [
    "states_mb = bosonstates(b_sub, PN) \n",
    "basis_mb = ManyBodyBasis(b_sub, states_mb)"
   ]
  },
  {
   "cell_type": "code",
   "execution_count": 35,
   "id": "cccffa5e-d4fd-4260-a7c5-d2fe183534e1",
   "metadata": {
    "tags": []
   },
   "outputs": [
    {
     "data": {
      "text/latex": [
       "Compute the Many-Body Operator from Single-Particle Operator.\n",
       "\n",
       "\\paragraph{Arguments}\n",
       "\\begin{itemize}\n",
       "\\item \\texttt{basis\\_mb::ManyBodyBasis}: Created Many-Body Basis by using \\texttt{bosonstates} or \\texttt{fermionstates}.\n",
       "\n",
       "\n",
       "\\item \\texttt{basis::SubSpaceBasis}: Created Sub-Space Basis by using get\\emph{projector}op.\n",
       "\n",
       "\n",
       "\\item \\texttt{sp\\_op::Operator}: Single-particle operator from single-particle matrix.\n",
       "\n",
       "\\end{itemize}\n"
      ],
      "text/markdown": [
       "Compute the Many-Body Operator from Single-Particle Operator.\n",
       "\n",
       "#### Arguments\n",
       "\n",
       "  * `basis_mb::ManyBodyBasis`: Created Many-Body Basis by using `bosonstates` or `fermionstates`.\n",
       "  * `basis::SubSpaceBasis`: Created Sub-Space Basis by using get*projector*op.\n",
       "  * `sp_op::Operator`: Single-particle operator from single-particle matrix.\n"
      ],
      "text/plain": [
       "  Compute the Many-Body Operator from Single-Particle Operator.\n",
       "\n",
       "\u001b[1m  Arguments\u001b[22m\n",
       "\u001b[1m  -----------\u001b[22m\n",
       "\n",
       "    •  \u001b[36mbasis_mb::ManyBodyBasis\u001b[39m: Created Many-Body Basis by using\n",
       "       \u001b[36mbosonstates\u001b[39m or \u001b[36mfermionstates\u001b[39m.\n",
       "\n",
       "    •  \u001b[36mbasis::SubSpaceBasis\u001b[39m: Created Sub-Space Basis by using\n",
       "       get\u001b[4mprojector\u001b[24mop.\n",
       "\n",
       "    •  \u001b[36msp_op::Operator\u001b[39m: Single-particle operator from single-particle\n",
       "       matrix."
      ]
     },
     "execution_count": 35,
     "metadata": {},
     "output_type": "execute_result"
    }
   ],
   "source": [
    "@doc get_mb_op"
   ]
  },
  {
   "cell_type": "code",
   "execution_count": 36,
   "id": "final-reverse",
   "metadata": {
    "tags": []
   },
   "outputs": [],
   "source": [
    "H1_MB = get_mb_op(basis_mb, b_sub, H1_sub);"
   ]
  },
  {
   "cell_type": "code",
   "execution_count": 37,
   "id": "4e49aaa7-d831-48fb-a9bb-77266aaed1b4",
   "metadata": {
    "tags": []
   },
   "outputs": [
    {
     "data": {
      "text/latex": [
       "Compute the Many-Body Number Operator for each lattice sites.\n",
       "\n",
       "\\paragraph{Arguments}\n",
       "\\begin{itemize}\n",
       "\\item \\texttt{basis\\_mb::ManyBodyBasis}: Created Many-Body Basis by using \\texttt{bosonstates} or \\texttt{fermionstates}.\n",
       "\n",
       "\n",
       "\\item \\texttt{basis::SubSpaceBasis}: Created Sub-Space Basis by using get\\emph{projector}op.\n",
       "\n",
       "\n",
       "\\item \\texttt{num\\_sub\\_list::ElementVector}: Created Single-Particle Number Number Operator for each lattice sites by using get\\emph{num}sub\\_list.\n",
       "\n",
       "\\end{itemize}\n"
      ],
      "text/markdown": [
       "Compute the Many-Body Number Operator for each lattice sites.\n",
       "\n",
       "#### Arguments\n",
       "\n",
       "  * `basis_mb::ManyBodyBasis`: Created Many-Body Basis by using `bosonstates` or `fermionstates`.\n",
       "  * `basis::SubSpaceBasis`: Created Sub-Space Basis by using get*projector*op.\n",
       "  * `num_sub_list::ElementVector`: Created Single-Particle Number Number Operator for each lattice sites by using get*num*sub_list.\n"
      ],
      "text/plain": [
       "  Compute the Many-Body Number Operator for each lattice sites.\n",
       "\n",
       "\u001b[1m  Arguments\u001b[22m\n",
       "\u001b[1m  -----------\u001b[22m\n",
       "\n",
       "    •  \u001b[36mbasis_mb::ManyBodyBasis\u001b[39m: Created Many-Body Basis by using\n",
       "       \u001b[36mbosonstates\u001b[39m or \u001b[36mfermionstates\u001b[39m.\n",
       "\n",
       "    •  \u001b[36mbasis::SubSpaceBasis\u001b[39m: Created Sub-Space Basis by using\n",
       "       get\u001b[4mprojector\u001b[24mop.\n",
       "\n",
       "    •  \u001b[36mnum_sub_list::ElementVector\u001b[39m: Created Single-Particle Number Number\n",
       "       Operator for each lattice sites by using get\u001b[4mnum\u001b[24msub_list."
      ]
     },
     "execution_count": 37,
     "metadata": {},
     "output_type": "execute_result"
    }
   ],
   "source": [
    "@doc get_num_mb_list"
   ]
  },
  {
   "cell_type": "code",
   "execution_count": 38,
   "id": "advanced-edwards",
   "metadata": {
    "tags": []
   },
   "outputs": [],
   "source": [
    "num_mb_list = get_num_mb_list(basis_mb, b_sub, num_sub_list);"
   ]
  },
  {
   "cell_type": "code",
   "execution_count": 39,
   "id": "f5e7021c-a835-4d85-b45c-3ba5d456c977",
   "metadata": {
    "tags": []
   },
   "outputs": [
    {
     "data": {
      "text/latex": [
       "Compute the on-site Bose-Hubbard Interaction term.\n",
       "\n",
       "\\paragraph{Arguments:}\n",
       "\\begin{itemize}\n",
       "\\item \\texttt{P::Operator}: Projection operator.\n",
       "\n",
       "\n",
       "\\item \\texttt{Pt::Operator}: Complex conjugate of Projection operator.\n",
       "\n",
       "\n",
       "\\item \\texttt{b\\_sub::SubSpaceBasis}: Created Sub-Space Basis by using get\\emph{projector}op.\n",
       "\n",
       "\n",
       "\\item \\texttt{cut-off::Integer}: A Integer variable.\n",
       "\n",
       "\\end{itemize}\n"
      ],
      "text/markdown": [
       "Compute the on-site Bose-Hubbard Interaction term.\n",
       "\n",
       "#### Arguments:\n",
       "\n",
       "  * `P::Operator`: Projection operator.\n",
       "  * `Pt::Operator`: Complex conjugate of Projection operator.\n",
       "  * `b_sub::SubSpaceBasis`: Created Sub-Space Basis by using get*projector*op.\n",
       "  * `cut-off::Integer`: A Integer variable.\n"
      ],
      "text/plain": [
       "  Compute the on-site Bose-Hubbard Interaction term.\n",
       "\n",
       "\u001b[1m  Arguments:\u001b[22m\n",
       "\u001b[1m  ------------\u001b[22m\n",
       "\n",
       "    •  \u001b[36mP::Operator\u001b[39m: Projection operator.\n",
       "\n",
       "    •  \u001b[36mPt::Operator\u001b[39m: Complex conjugate of Projection operator.\n",
       "\n",
       "    •  \u001b[36mb_sub::SubSpaceBasis\u001b[39m: Created Sub-Space Basis by using\n",
       "       get\u001b[4mprojector\u001b[24mop.\n",
       "\n",
       "    •  \u001b[36mcut-off::Integer\u001b[39m: A Integer variable."
      ]
     },
     "execution_count": 39,
     "metadata": {},
     "output_type": "execute_result"
    }
   ],
   "source": [
    "@doc Hubbard_Interaction"
   ]
  },
  {
   "cell_type": "code",
   "execution_count": 40,
   "id": "d228561d-92e0-4e56-8eb3-0747bc107238",
   "metadata": {
    "tags": []
   },
   "outputs": [
    {
     "data": {
      "text/plain": [
       "Hofstadter_Finite_U (generic function with 1 method)"
      ]
     },
     "execution_count": 40,
     "metadata": {},
     "output_type": "execute_result"
    }
   ],
   "source": [
    "@nbinclude(\"Hofstadter MB in Julia.ipynb\"; regex=r\"#.*executeme\")"
   ]
  },
  {
   "cell_type": "code",
   "execution_count": 41,
   "id": "dutch-philosophy",
   "metadata": {
    "tags": []
   },
   "outputs": [],
   "source": [
    "H_Int_MB5 = Hubbard_Interaction(P, Pt, b_sub, cut_off);"
   ]
  },
  {
   "cell_type": "markdown",
   "id": "851a46f6-53fc-473c-b8c3-b056cedd4120",
   "metadata": {},
   "source": [
    "# Controlling Many-Body Function in QoJulia Freamwork"
   ]
  },
  {
   "cell_type": "code",
   "execution_count": 42,
   "id": "civil-constitutional",
   "metadata": {
    "tags": []
   },
   "outputs": [],
   "source": [
    "# function manybodyoperator_2_Hubbard(basis::ManyBodyBasis, op::SparseOpType)\n",
    "#     N = length(basis)\n",
    "#     S = length(basis.onebodybasis)\n",
    "#     result = SparseOperator(basis)\n",
    "#     occupations = basis.occupations\n",
    "#     rows = QuantumOpticsBase.rowvals(op.data)\n",
    "#     values = QuantumOpticsBase.nonzeros(op.data)\n",
    "#     @inbounds for column=1:S^2, j in QuantumOpticsBase.nzrange(op.data, column)\n",
    "#         row = rows[j]\n",
    "#         value = values[j]\n",
    "#         index = Tuple(CartesianIndices((S, S, S, S))[(column-1)*S^2 + row])\n",
    "#         for m=1:N, n=1:N\n",
    "#             # println(\"row:\", row, \" column:\"column, ind_left)\n",
    "#             C = QuantumOpticsBase.coefficient(occupations[m], occupations[n], index[1:2], index[3:4])\n",
    "#             if C!=0.\n",
    "#                 result.data[m,n] += C*value\n",
    "#             end\n",
    "#         end\n",
    "#     end\n",
    "#     return result\n",
    "# end"
   ]
  },
  {
   "cell_type": "markdown",
   "id": "865cc1d6-3246-4f5a-9c75-dfe67eab2040",
   "metadata": {},
   "source": [
    "# Constructing Total Hamiltonians "
   ]
  },
  {
   "cell_type": "code",
   "execution_count": 43,
   "id": "technical-technology",
   "metadata": {
    "tags": []
   },
   "outputs": [],
   "source": [
    "bcut_mb, bcut = get_Bosonic_MB_Basis(cut_off,PN)\n",
    "H1cut = SparseOperator(bcut_mb)\n",
    "H1cut.data = H1_MB.data\n",
    "H1_MB\n",
    "\n",
    "number_sp_list_operators = []\n",
    "for i in 1:N\n",
    "    number_sp_list = Operator(bcut, num_sub_list[i].data)\n",
    "    push!(number_sp_list_operators, number_sp_list)\n",
    "end\n",
    "number_mb_list_operators = []\n",
    "for i in 1:N\n",
    "    number_mb_list = get_mb_op(bcut_mb, b_sub, number_sp_list_operators[i])\n",
    "    # number_mb_list = manybodyoperator(bcut_mb, number_sp_list_operators[i])\n",
    "    push!(number_mb_list_operators, number_mb_list)\n",
    "end\n",
    "\n",
    "V = 4\n",
    "V_imp = V * number_mb_list_operators[Int(round(N/2))] * 0;\n",
    "H_MB5 = H1cut + H_Int_MB5 + V_imp;"
   ]
  },
  {
   "cell_type": "code",
   "execution_count": 44,
   "id": "8ade64fb-53e8-427e-bd75-d7a468dfea7c",
   "metadata": {
    "tags": []
   },
   "outputs": [
    {
     "data": {
      "text/plain": [
       "0.0"
      ]
     },
     "execution_count": 44,
     "metadata": {},
     "output_type": "execute_result"
    }
   ],
   "source": [
    "(H1cut + H_Int_MB5)\n",
    "(H1cut + H_Int_MB5 + V_imp)\n",
    "minimum(abs.(V_imp.data))"
   ]
  },
  {
   "cell_type": "markdown",
   "id": "3f1b1096-6ac2-4940-9e20-a7b79871a0a7",
   "metadata": {},
   "source": [
    "# Exact-Diagonalization"
   ]
  },
  {
   "cell_type": "code",
   "execution_count": 45,
   "id": "436255b0-474b-4d97-8672-a458428a7a3d",
   "metadata": {
    "tags": []
   },
   "outputs": [
    {
     "data": {
      "text/plain": [
       "get_energies (generic function with 1 method)"
      ]
     },
     "execution_count": 45,
     "metadata": {},
     "output_type": "execute_result"
    }
   ],
   "source": [
    "using DataFrames\n",
    "\n",
    "Hubbard_States = eigenstates(dense(dense((H_MB5+dagger(H_MB5))/2)))\n",
    "\n",
    "function get_energies(pn, states, basis)\n",
    "    PN_Energies = Array{Float64}(undef, length(states[1]), 2)\n",
    "    for i in 1:length(states[1])\n",
    "        PN_Energies[i] = round(expect(number(basis), states[2][i])) #expected values (first column)\n",
    "        PN_Energies[i,2] = states[1][i] #eigen-values (second column)\n",
    "    end\n",
    "    \n",
    "    # filter\n",
    "    df = DataFrame(PN_Energies, :auto)\n",
    "    df = filter(row -> (row.x1 == pn),  df)\n",
    "    \n",
    "    return df\n",
    "end"
   ]
  },
  {
   "cell_type": "code",
   "execution_count": 46,
   "id": "0fc34877-b975-44a9-bdf1-171087768b75",
   "metadata": {
    "tags": []
   },
   "outputs": [
    {
     "data": {
      "text/plain": [
       "15-element Vector{Float64}:\n",
       " -5.930026862496532\n",
       " -5.930026862496529\n",
       " -5.930026862496527\n",
       " -5.9300268624965256\n",
       " -5.930026862496525\n",
       " -5.772090091593083\n",
       " -5.772090091593082\n",
       " -5.77209009159308\n",
       " -5.772090091593079\n",
       " -5.772090091593076\n",
       " -5.696570980770623\n",
       " -5.6965709807706215\n",
       " -5.696570980770621\n",
       " -5.69657098077062\n",
       " -5.696570980770619"
      ]
     },
     "execution_count": 46,
     "metadata": {},
     "output_type": "execute_result"
    }
   ],
   "source": [
    "pn = 2.0\n",
    "df = get_energies(pn, Hubbard_States, bcut_mb)\n",
    "filtered_energies = Matrix(df)[:,2]"
   ]
  },
  {
   "cell_type": "markdown",
   "id": "aaca712c-b257-494d-bc14-71ded4bb8410",
   "metadata": {},
   "source": [
    "Allta ki fonksiyonun çalışması için, dizide ki filtre edilmiş parçacık sayısı her zaman en büyük değer olmalıdır.\n",
    "Örneğin, `PN=[0,1,2,3,4]` iken filtre edilen parçacık sayısı `pn=4` olmalıdır!"
   ]
  },
  {
   "cell_type": "code",
   "execution_count": 43,
   "id": "d582d7a3-67c3-4775-bcb8-2862643ca5ac",
   "metadata": {
    "tags": []
   },
   "outputs": [
    {
     "data": {
      "text/plain": [
       "Restricted_Hubbard_States (generic function with 1 method)"
      ]
     },
     "execution_count": 43,
     "metadata": {},
     "output_type": "execute_result"
    }
   ],
   "source": [
    "function Restricted_Hubbard_States(states)\n",
    "    number_of_states = length(filtered_energies)\n",
    "    return states[2][1:number_of_states];\n",
    "end"
   ]
  },
  {
   "cell_type": "code",
   "execution_count": 44,
   "id": "da17cb7c-bc14-4026-adae-386b3b5b2083",
   "metadata": {
    "tags": []
   },
   "outputs": [],
   "source": [
    "r_hubbard_states = Restricted_Hubbard_States(Hubbard_States);"
   ]
  },
  {
   "cell_type": "markdown",
   "id": "14aea968-4016-4dc6-965b-e194bc4b4944",
   "metadata": {},
   "source": [
    "# Density Profile"
   ]
  },
  {
   "cell_type": "code",
   "execution_count": 45,
   "id": "36f916a4-68d4-4448-ac28-a27d6f24ce86",
   "metadata": {
    "tags": []
   },
   "outputs": [
    {
     "data": {
      "text/plain": [
       "0.16339110266974724 - 4.809241316273104e-18im"
      ]
     },
     "execution_count": 45,
     "metadata": {},
     "output_type": "execute_result"
    }
   ],
   "source": [
    "# METHOD 1\n",
    "\n",
    "NM_MB_Array_Storage = zeros(Complex{Float64},length(bcut_mb),length(bcut_mb),N);\n",
    "NM_MB_Matrix = zeros(Complex{Float64},length(bcut_mb),length(bcut_mb));\n",
    "for m in 1:N\n",
    "    for i in 1:length(bcut_mb)\n",
    "        for j in 1:length(bcut_mb)\n",
    "            NM_MB_Matrix[i,j] = num_mb_list[m].data[i,j]\n",
    "        end\n",
    "    end\n",
    "    NM_MB_Array_Storage[:,:,m] = NM_MB_Matrix\n",
    "end\n",
    "\n",
    "BL = BR = bcut_mb\n",
    "index_number_op = 4\n",
    "T = NM_MB_Array_Storage[:,:,index_number_op]\n",
    "Op = Operator(BL,BR,T)\n",
    "index_eigen_states = 1\n",
    "expect(Op, r_hubbard_states[index_eigen_states])\n",
    "\n",
    "#or\n",
    "# expect(number_mb_list_operators[index_number_op],r_hubbard_states[index_eigen_states])"
   ]
  },
  {
   "cell_type": "code",
   "execution_count": 46,
   "id": "eb2700e3-348a-41e7-abf1-6f5f59e3705a",
   "metadata": {
    "tags": []
   },
   "outputs": [
    {
     "data": {
      "text/plain": [
       "4-element Vector{Int64}:\n",
       " 0\n",
       " 1\n",
       " 2\n",
       " 3"
      ]
     },
     "execution_count": 46,
     "metadata": {},
     "output_type": "execute_result"
    }
   ],
   "source": [
    "PN"
   ]
  },
  {
   "cell_type": "code",
   "execution_count": 47,
   "id": "81ff12cd-947c-4e4f-8b89-b4fc77c3f747",
   "metadata": {
    "tags": []
   },
   "outputs": [
    {
     "name": "stdout",
     "output_type": "stream",
     "text": [
      "Total Particle Number:30.000000000000114 - 1.8601970489373084e-16im\n"
     ]
    },
    {
     "data": {
      "text/plain": [
       "80-element Vector{Any}:\n",
       "  0.2827994818224308 - 2.950143790573436e-18im\n",
       "  0.5833397561743273 + 5.7409899659620224e-18im\n",
       "  0.8184496926189666 - 5.928952284503978e-18im\n",
       "  0.9012749783874806 - 1.345575943210929e-18im\n",
       "  0.8971926651315842 - 3.887509649318792e-18im\n",
       "  0.8128565433137361 + 1.837704815261699e-17im\n",
       "  0.5827527096548312 - 9.537815152029424e-18im\n",
       "  0.2884064229619159 - 1.9633760496211652e-18im\n",
       " 0.20280576710949705 - 2.119867868168235e-18im\n",
       " 0.47095480350931024 - 6.349062014778329e-19im\n",
       "   0.673231948489982 - 1.429478278949224e-17im\n",
       "   0.737058517672534 - 2.936382317594636e-17im\n",
       "  0.7339309116141604 - 7.529331289244517e-18im\n",
       "                     ⋮\n",
       "  0.7323070376886335 - 2.289893685025652e-17im\n",
       "  0.6722927974996409 + 9.371228421286757e-18im\n",
       " 0.47643251041969265 - 6.644126438262732e-18im\n",
       " 0.21464859546317452 + 1.08278645286712e-18im\n",
       " 0.28035939342674204 - 1.2149824051803433e-17im\n",
       "  0.5821708848902107 + 4.56505759944745e-18im\n",
       "  0.8178845693882126 - 4.2853357219646805e-18im\n",
       "   0.899924932404258 - 1.1058764138449558e-17im\n",
       "  0.8959686746773773 - 2.0326229989721897e-17im\n",
       "  0.8132212794515161 - 1.0685396316639047e-17im\n",
       "  0.5846208698772202 + 3.6774481344249734e-18im\n",
       "  0.2884094914268134 - 3.83330385108099e-19im"
      ]
     },
     "execution_count": 47,
     "metadata": {},
     "output_type": "execute_result"
    }
   ],
   "source": [
    "index_eig_states = 2\n",
    "Sum = 0\n",
    "expect_list=[]\n",
    "\n",
    "for i in 1:N\n",
    "    T = NM_MB_Array_Storage[:,:,i]\n",
    "    Op = Operator(BL,BR,T)\n",
    "    n_i = 0\n",
    "    for index_eig_states in 1:q        \n",
    "        Sum += expect(Op, r_hubbard_states[index_eig_states])\n",
    "        #println(i,\"\\t\",expect(Op, r_hubbard_states[index_eig_states]))\n",
    "        n_i += expect(Op, r_hubbard_states[index_eig_states])\n",
    "    end\n",
    "    push!(expect_list,n_i)\n",
    "end\n",
    "println(\"Total Particle Number:\", Sum)\n",
    "expect_list"
   ]
  },
  {
   "cell_type": "code",
   "execution_count": 48,
   "id": "76f88a82-5b2a-42be-8493-09d88c08e621",
   "metadata": {
    "tags": []
   },
   "outputs": [],
   "source": [
    "# index_eig_states = 1\n",
    "# Sum = 0\n",
    "# expect_list=[]\n",
    "\n",
    "# for i in 1:N\n",
    "#     T = NM_MB_Array_Storage[:,:,i]\n",
    "#     Op = Operator(BL,BR,T)      \n",
    "#     Sum += expect(Op, r_hubbard_states[index_eig_states])\n",
    "#     println(i,\"\\t\",expect(Op, r_hubbard_states[index_eig_states]))\n",
    "#     push!(expect_list,expect(Op, r_hubbard_states[index_eig_states]))\n",
    "# end\n",
    "# print(\"Total Particle Number:\", Sum)"
   ]
  },
  {
   "cell_type": "code",
   "execution_count": 49,
   "id": "0bc8aee0-82b0-41f1-9540-bbda21f62eed",
   "metadata": {
    "tags": []
   },
   "outputs": [
    {
     "data": {
      "image/svg+xml": [
       "<?xml version=\"1.0\" encoding=\"utf-8\"?>\n",
       "<svg xmlns=\"http://www.w3.org/2000/svg\" xmlns:xlink=\"http://www.w3.org/1999/xlink\" width=\"600\" height=\"400\" viewBox=\"0 0 2400 1600\">\n",
       "<defs>\n",
       "  <clipPath id=\"clip150\">\n",
       "    <rect x=\"0\" y=\"0\" width=\"2400\" height=\"1600\"/>\n",
       "  </clipPath>\n",
       "</defs>\n",
       "<path clip-path=\"url(#clip150)\" d=\"M0 1600 L2400 1600 L2400 0 L0 0  Z\" fill=\"#ffffff\" fill-rule=\"evenodd\" fill-opacity=\"1\"/>\n",
       "<defs>\n",
       "  <clipPath id=\"clip151\">\n",
       "    <rect x=\"480\" y=\"0\" width=\"1681\" height=\"1600\"/>\n",
       "  </clipPath>\n",
       "</defs>\n",
       "<path clip-path=\"url(#clip150)\" d=\"M224.098 1486.45 L2352.76 1486.45 L2352.76 123.472 L224.098 123.472  Z\" fill=\"#ffffff\" fill-rule=\"evenodd\" fill-opacity=\"1\"/>\n",
       "<defs>\n",
       "  <clipPath id=\"clip152\">\n",
       "    <rect x=\"224\" y=\"123\" width=\"2130\" height=\"1364\"/>\n",
       "  </clipPath>\n",
       "</defs>\n",
       "<polyline clip-path=\"url(#clip152)\" style=\"stroke:#000000; stroke-linecap:round; stroke-linejoin:round; stroke-width:2; stroke-opacity:0.1; fill:none\" points=\"707.115,1486.45 707.115,123.472 \"/>\n",
       "<polyline clip-path=\"url(#clip152)\" style=\"stroke:#000000; stroke-linecap:round; stroke-linejoin:round; stroke-width:2; stroke-opacity:0.1; fill:none\" points=\"1235.58,1486.45 1235.58,123.472 \"/>\n",
       "<polyline clip-path=\"url(#clip152)\" style=\"stroke:#000000; stroke-linecap:round; stroke-linejoin:round; stroke-width:2; stroke-opacity:0.1; fill:none\" points=\"1764.05,1486.45 1764.05,123.472 \"/>\n",
       "<polyline clip-path=\"url(#clip152)\" style=\"stroke:#000000; stroke-linecap:round; stroke-linejoin:round; stroke-width:2; stroke-opacity:0.1; fill:none\" points=\"2292.51,1486.45 2292.51,123.472 \"/>\n",
       "<polyline clip-path=\"url(#clip150)\" style=\"stroke:#000000; stroke-linecap:round; stroke-linejoin:round; stroke-width:4; stroke-opacity:1; fill:none\" points=\"224.098,1486.45 2352.76,1486.45 \"/>\n",
       "<polyline clip-path=\"url(#clip150)\" style=\"stroke:#000000; stroke-linecap:round; stroke-linejoin:round; stroke-width:4; stroke-opacity:1; fill:none\" points=\"707.115,1486.45 707.115,1467.55 \"/>\n",
       "<polyline clip-path=\"url(#clip150)\" style=\"stroke:#000000; stroke-linecap:round; stroke-linejoin:round; stroke-width:4; stroke-opacity:1; fill:none\" points=\"1235.58,1486.45 1235.58,1467.55 \"/>\n",
       "<polyline clip-path=\"url(#clip150)\" style=\"stroke:#000000; stroke-linecap:round; stroke-linejoin:round; stroke-width:4; stroke-opacity:1; fill:none\" points=\"1764.05,1486.45 1764.05,1467.55 \"/>\n",
       "<polyline clip-path=\"url(#clip150)\" style=\"stroke:#000000; stroke-linecap:round; stroke-linejoin:round; stroke-width:4; stroke-opacity:1; fill:none\" points=\"2292.51,1486.45 2292.51,1467.55 \"/>\n",
       "<path clip-path=\"url(#clip150)\" d=\"M697.393 1514.29 L715.749 1514.29 L715.749 1518.22 L701.675 1518.22 L701.675 1526.7 Q702.694 1526.35 703.712 1526.19 Q704.731 1526 705.749 1526 Q711.536 1526 714.916 1529.17 Q718.296 1532.34 718.296 1537.76 Q718.296 1543.34 714.823 1546.44 Q711.351 1549.52 705.032 1549.52 Q702.856 1549.52 700.587 1549.15 Q698.342 1548.78 695.935 1548.04 L695.935 1543.34 Q698.018 1544.47 700.24 1545.03 Q702.462 1545.58 704.939 1545.58 Q708.944 1545.58 711.282 1543.48 Q713.62 1541.37 713.62 1537.76 Q713.62 1534.15 711.282 1532.04 Q708.944 1529.94 704.939 1529.94 Q703.064 1529.94 701.189 1530.35 Q699.337 1530.77 697.393 1531.65 L697.393 1514.29 Z\" fill=\"#000000\" fill-rule=\"evenodd\" fill-opacity=\"1\" /><path clip-path=\"url(#clip150)\" d=\"M1210.27 1544.91 L1217.91 1544.91 L1217.91 1518.55 L1209.6 1520.21 L1209.6 1515.95 L1217.86 1514.29 L1222.54 1514.29 L1222.54 1544.91 L1230.18 1544.91 L1230.18 1548.85 L1210.27 1548.85 L1210.27 1544.91 Z\" fill=\"#000000\" fill-rule=\"evenodd\" fill-opacity=\"1\" /><path clip-path=\"url(#clip150)\" d=\"M1249.62 1517.37 Q1246.01 1517.37 1244.18 1520.93 Q1242.37 1524.47 1242.37 1531.6 Q1242.37 1538.71 1244.18 1542.27 Q1246.01 1545.82 1249.62 1545.82 Q1253.25 1545.82 1255.06 1542.27 Q1256.89 1538.71 1256.89 1531.6 Q1256.89 1524.47 1255.06 1520.93 Q1253.25 1517.37 1249.62 1517.37 M1249.62 1513.66 Q1255.43 1513.66 1258.49 1518.27 Q1261.56 1522.85 1261.56 1531.6 Q1261.56 1540.33 1258.49 1544.94 Q1255.43 1549.52 1249.62 1549.52 Q1243.81 1549.52 1240.73 1544.94 Q1237.68 1540.33 1237.68 1531.6 Q1237.68 1522.85 1240.73 1518.27 Q1243.81 1513.66 1249.62 1513.66 Z\" fill=\"#000000\" fill-rule=\"evenodd\" fill-opacity=\"1\" /><path clip-path=\"url(#clip150)\" d=\"M1739.23 1544.91 L1746.87 1544.91 L1746.87 1518.55 L1738.56 1520.21 L1738.56 1515.95 L1746.82 1514.29 L1751.5 1514.29 L1751.5 1544.91 L1759.14 1544.91 L1759.14 1548.85 L1739.23 1548.85 L1739.23 1544.91 Z\" fill=\"#000000\" fill-rule=\"evenodd\" fill-opacity=\"1\" /><path clip-path=\"url(#clip150)\" d=\"M1768.63 1514.29 L1786.99 1514.29 L1786.99 1518.22 L1772.91 1518.22 L1772.91 1526.7 Q1773.93 1526.35 1774.95 1526.19 Q1775.97 1526 1776.99 1526 Q1782.77 1526 1786.15 1529.17 Q1789.53 1532.34 1789.53 1537.76 Q1789.53 1543.34 1786.06 1546.44 Q1782.59 1549.52 1776.27 1549.52 Q1774.09 1549.52 1771.82 1549.15 Q1769.58 1548.78 1767.17 1548.04 L1767.17 1543.34 Q1769.25 1544.47 1771.48 1545.03 Q1773.7 1545.58 1776.18 1545.58 Q1780.18 1545.58 1782.52 1543.48 Q1784.86 1541.37 1784.86 1537.76 Q1784.86 1534.15 1782.52 1532.04 Q1780.18 1529.94 1776.18 1529.94 Q1774.3 1529.94 1772.43 1530.35 Q1770.57 1530.77 1768.63 1531.65 L1768.63 1514.29 Z\" fill=\"#000000\" fill-rule=\"evenodd\" fill-opacity=\"1\" /><path clip-path=\"url(#clip150)\" d=\"M2271.28 1544.91 L2287.6 1544.91 L2287.6 1548.85 L2265.66 1548.85 L2265.66 1544.91 Q2268.32 1542.16 2272.9 1537.53 Q2277.51 1532.88 2278.69 1531.53 Q2280.94 1529.01 2281.82 1527.27 Q2282.72 1525.51 2282.72 1523.82 Q2282.72 1521.07 2280.77 1519.33 Q2278.85 1517.6 2275.75 1517.6 Q2273.55 1517.6 2271.1 1518.36 Q2268.67 1519.13 2265.89 1520.68 L2265.89 1515.95 Q2268.71 1514.82 2271.17 1514.24 Q2273.62 1513.66 2275.66 1513.66 Q2281.03 1513.66 2284.22 1516.35 Q2287.42 1519.03 2287.42 1523.52 Q2287.42 1525.65 2286.61 1527.57 Q2285.82 1529.47 2283.71 1532.07 Q2283.14 1532.74 2280.03 1535.95 Q2276.93 1539.15 2271.28 1544.91 Z\" fill=\"#000000\" fill-rule=\"evenodd\" fill-opacity=\"1\" /><path clip-path=\"url(#clip150)\" d=\"M2307.42 1517.37 Q2303.81 1517.37 2301.98 1520.93 Q2300.17 1524.47 2300.17 1531.6 Q2300.17 1538.71 2301.98 1542.27 Q2303.81 1545.82 2307.42 1545.82 Q2311.05 1545.82 2312.86 1542.27 Q2314.69 1538.71 2314.69 1531.6 Q2314.69 1524.47 2312.86 1520.93 Q2311.05 1517.37 2307.42 1517.37 M2307.42 1513.66 Q2313.23 1513.66 2316.28 1518.27 Q2319.36 1522.85 2319.36 1531.6 Q2319.36 1540.33 2316.28 1544.94 Q2313.23 1549.52 2307.42 1549.52 Q2301.61 1549.52 2298.53 1544.94 Q2295.47 1540.33 2295.47 1531.6 Q2295.47 1522.85 2298.53 1518.27 Q2301.61 1513.66 2307.42 1513.66 Z\" fill=\"#000000\" fill-rule=\"evenodd\" fill-opacity=\"1\" /><polyline clip-path=\"url(#clip152)\" style=\"stroke:#000000; stroke-linecap:round; stroke-linejoin:round; stroke-width:2; stroke-opacity:0.1; fill:none\" points=\"224.098,1377.2 2352.76,1377.2 \"/>\n",
       "<polyline clip-path=\"url(#clip152)\" style=\"stroke:#000000; stroke-linecap:round; stroke-linejoin:round; stroke-width:2; stroke-opacity:0.1; fill:none\" points=\"224.098,1073.42 2352.76,1073.42 \"/>\n",
       "<polyline clip-path=\"url(#clip152)\" style=\"stroke:#000000; stroke-linecap:round; stroke-linejoin:round; stroke-width:2; stroke-opacity:0.1; fill:none\" points=\"224.098,769.626 2352.76,769.626 \"/>\n",
       "<polyline clip-path=\"url(#clip152)\" style=\"stroke:#000000; stroke-linecap:round; stroke-linejoin:round; stroke-width:2; stroke-opacity:0.1; fill:none\" points=\"224.098,465.836 2352.76,465.836 \"/>\n",
       "<polyline clip-path=\"url(#clip152)\" style=\"stroke:#000000; stroke-linecap:round; stroke-linejoin:round; stroke-width:2; stroke-opacity:0.1; fill:none\" points=\"224.098,162.047 2352.76,162.047 \"/>\n",
       "<polyline clip-path=\"url(#clip150)\" style=\"stroke:#000000; stroke-linecap:round; stroke-linejoin:round; stroke-width:4; stroke-opacity:1; fill:none\" points=\"224.098,1486.45 224.098,123.472 \"/>\n",
       "<polyline clip-path=\"url(#clip150)\" style=\"stroke:#000000; stroke-linecap:round; stroke-linejoin:round; stroke-width:4; stroke-opacity:1; fill:none\" points=\"224.098,1377.2 242.996,1377.2 \"/>\n",
       "<polyline clip-path=\"url(#clip150)\" style=\"stroke:#000000; stroke-linecap:round; stroke-linejoin:round; stroke-width:4; stroke-opacity:1; fill:none\" points=\"224.098,1073.42 242.996,1073.42 \"/>\n",
       "<polyline clip-path=\"url(#clip150)\" style=\"stroke:#000000; stroke-linecap:round; stroke-linejoin:round; stroke-width:4; stroke-opacity:1; fill:none\" points=\"224.098,769.626 242.996,769.626 \"/>\n",
       "<polyline clip-path=\"url(#clip150)\" style=\"stroke:#000000; stroke-linecap:round; stroke-linejoin:round; stroke-width:4; stroke-opacity:1; fill:none\" points=\"224.098,465.836 242.996,465.836 \"/>\n",
       "<polyline clip-path=\"url(#clip150)\" style=\"stroke:#000000; stroke-linecap:round; stroke-linejoin:round; stroke-width:4; stroke-opacity:1; fill:none\" points=\"224.098,162.047 242.996,162.047 \"/>\n",
       "<path clip-path=\"url(#clip150)\" d=\"M50.9921 1377.66 L80.6679 1377.66 L80.6679 1381.59 L50.9921 1381.59 L50.9921 1377.66 Z\" fill=\"#000000\" fill-rule=\"evenodd\" fill-opacity=\"1\" /><path clip-path=\"url(#clip150)\" d=\"M91.5706 1390.55 L99.2095 1390.55 L99.2095 1364.18 L90.8993 1365.85 L90.8993 1361.59 L99.1632 1359.92 L103.839 1359.92 L103.839 1390.55 L111.478 1390.55 L111.478 1394.48 L91.5706 1394.48 L91.5706 1390.55 Z\" fill=\"#000000\" fill-rule=\"evenodd\" fill-opacity=\"1\" /><path clip-path=\"url(#clip150)\" d=\"M130.922 1363 Q127.311 1363 125.482 1366.57 Q123.677 1370.11 123.677 1377.24 Q123.677 1384.35 125.482 1387.91 Q127.311 1391.45 130.922 1391.45 Q134.556 1391.45 136.362 1387.91 Q138.191 1384.35 138.191 1377.24 Q138.191 1370.11 136.362 1366.57 Q134.556 1363 130.922 1363 M130.922 1359.3 Q136.732 1359.3 139.788 1363.91 Q142.867 1368.49 142.867 1377.24 Q142.867 1385.97 139.788 1390.57 Q136.732 1395.16 130.922 1395.16 Q125.112 1395.16 122.033 1390.57 Q118.978 1385.97 118.978 1377.24 Q118.978 1368.49 122.033 1363.91 Q125.112 1359.3 130.922 1359.3 Z\" fill=\"#000000\" fill-rule=\"evenodd\" fill-opacity=\"1\" /><path clip-path=\"url(#clip150)\" d=\"M151.084 1388.61 L155.968 1388.61 L155.968 1394.48 L151.084 1394.48 L151.084 1388.61 Z\" fill=\"#000000\" fill-rule=\"evenodd\" fill-opacity=\"1\" /><path clip-path=\"url(#clip150)\" d=\"M176.153 1363 Q172.542 1363 170.714 1366.57 Q168.908 1370.11 168.908 1377.24 Q168.908 1384.35 170.714 1387.91 Q172.542 1391.45 176.153 1391.45 Q179.788 1391.45 181.593 1387.91 Q183.422 1384.35 183.422 1377.24 Q183.422 1370.11 181.593 1366.57 Q179.788 1363 176.153 1363 M176.153 1359.3 Q181.964 1359.3 185.019 1363.91 Q188.098 1368.49 188.098 1377.24 Q188.098 1385.97 185.019 1390.57 Q181.964 1395.16 176.153 1395.16 Q170.343 1395.16 167.265 1390.57 Q164.209 1385.97 164.209 1377.24 Q164.209 1368.49 167.265 1363.91 Q170.343 1359.3 176.153 1359.3 Z\" fill=\"#000000\" fill-rule=\"evenodd\" fill-opacity=\"1\" /><path clip-path=\"url(#clip150)\" d=\"M82.1494 1073.87 L111.825 1073.87 L111.825 1077.8 L82.1494 1077.8 L82.1494 1073.87 Z\" fill=\"#000000\" fill-rule=\"evenodd\" fill-opacity=\"1\" /><path clip-path=\"url(#clip150)\" d=\"M120.737 1056.14 L142.959 1056.14 L142.959 1058.13 L130.413 1090.7 L125.529 1090.7 L137.334 1060.07 L120.737 1060.07 L120.737 1056.14 Z\" fill=\"#000000\" fill-rule=\"evenodd\" fill-opacity=\"1\" /><path clip-path=\"url(#clip150)\" d=\"M152.08 1084.82 L156.964 1084.82 L156.964 1090.7 L152.08 1090.7 L152.08 1084.82 Z\" fill=\"#000000\" fill-rule=\"evenodd\" fill-opacity=\"1\" /><path clip-path=\"url(#clip150)\" d=\"M167.195 1056.14 L185.552 1056.14 L185.552 1060.07 L171.478 1060.07 L171.478 1068.54 Q172.496 1068.2 173.515 1068.03 Q174.533 1067.85 175.552 1067.85 Q181.339 1067.85 184.718 1071.02 Q188.098 1074.19 188.098 1079.61 Q188.098 1085.19 184.626 1088.29 Q181.153 1091.37 174.834 1091.37 Q172.658 1091.37 170.39 1091 Q168.144 1090.63 165.737 1089.89 L165.737 1085.19 Q167.82 1086.32 170.042 1086.88 Q172.265 1087.43 174.741 1087.43 Q178.746 1087.43 181.084 1085.32 Q183.422 1083.22 183.422 1079.61 Q183.422 1076 181.084 1073.89 Q178.746 1071.78 174.741 1071.78 Q172.866 1071.78 170.991 1072.2 Q169.14 1072.62 167.195 1073.5 L167.195 1056.14 Z\" fill=\"#000000\" fill-rule=\"evenodd\" fill-opacity=\"1\" /><path clip-path=\"url(#clip150)\" d=\"M81.154 770.077 L110.83 770.077 L110.83 774.012 L81.154 774.012 L81.154 770.077 Z\" fill=\"#000000\" fill-rule=\"evenodd\" fill-opacity=\"1\" /><path clip-path=\"url(#clip150)\" d=\"M120.969 752.346 L139.325 752.346 L139.325 756.281 L125.251 756.281 L125.251 764.753 Q126.27 764.406 127.288 764.244 Q128.307 764.059 129.325 764.059 Q135.112 764.059 138.492 767.23 Q141.871 770.401 141.871 775.818 Q141.871 781.397 138.399 784.498 Q134.927 787.577 128.607 787.577 Q126.432 787.577 124.163 787.207 Q121.918 786.836 119.51 786.096 L119.51 781.397 Q121.594 782.531 123.816 783.086 Q126.038 783.642 128.515 783.642 Q132.519 783.642 134.857 781.535 Q137.195 779.429 137.195 775.818 Q137.195 772.207 134.857 770.1 Q132.519 767.994 128.515 767.994 Q126.64 767.994 124.765 768.411 Q122.913 768.827 120.969 769.707 L120.969 752.346 Z\" fill=\"#000000\" fill-rule=\"evenodd\" fill-opacity=\"1\" /><path clip-path=\"url(#clip150)\" d=\"M151.084 781.026 L155.968 781.026 L155.968 786.906 L151.084 786.906 L151.084 781.026 Z\" fill=\"#000000\" fill-rule=\"evenodd\" fill-opacity=\"1\" /><path clip-path=\"url(#clip150)\" d=\"M176.153 755.424 Q172.542 755.424 170.714 758.989 Q168.908 762.531 168.908 769.661 Q168.908 776.767 170.714 780.332 Q172.542 783.873 176.153 783.873 Q179.788 783.873 181.593 780.332 Q183.422 776.767 183.422 769.661 Q183.422 762.531 181.593 758.989 Q179.788 755.424 176.153 755.424 M176.153 751.721 Q181.964 751.721 185.019 756.327 Q188.098 760.911 188.098 769.661 Q188.098 778.387 185.019 782.994 Q181.964 787.577 176.153 787.577 Q170.343 787.577 167.265 782.994 Q164.209 778.387 164.209 769.661 Q164.209 760.911 167.265 756.327 Q170.343 751.721 176.153 751.721 Z\" fill=\"#000000\" fill-rule=\"evenodd\" fill-opacity=\"1\" /><path clip-path=\"url(#clip150)\" d=\"M82.1494 466.288 L111.825 466.288 L111.825 470.223 L82.1494 470.223 L82.1494 466.288 Z\" fill=\"#000000\" fill-rule=\"evenodd\" fill-opacity=\"1\" /><path clip-path=\"url(#clip150)\" d=\"M125.945 479.181 L142.265 479.181 L142.265 483.116 L120.32 483.116 L120.32 479.181 Q122.982 476.427 127.566 471.797 Q132.172 467.144 133.353 465.802 Q135.598 463.278 136.478 461.542 Q137.381 459.783 137.381 458.093 Q137.381 455.339 135.436 453.603 Q133.515 451.867 130.413 451.867 Q128.214 451.867 125.76 452.63 Q123.33 453.394 120.552 454.945 L120.552 450.223 Q123.376 449.089 125.83 448.51 Q128.283 447.931 130.32 447.931 Q135.691 447.931 138.885 450.617 Q142.08 453.302 142.08 457.792 Q142.08 459.922 141.269 461.843 Q140.482 463.741 138.376 466.334 Q137.797 467.005 134.695 470.223 Q131.594 473.417 125.945 479.181 Z\" fill=\"#000000\" fill-rule=\"evenodd\" fill-opacity=\"1\" /><path clip-path=\"url(#clip150)\" d=\"M152.08 477.237 L156.964 477.237 L156.964 483.116 L152.08 483.116 L152.08 477.237 Z\" fill=\"#000000\" fill-rule=\"evenodd\" fill-opacity=\"1\" /><path clip-path=\"url(#clip150)\" d=\"M167.195 448.556 L185.552 448.556 L185.552 452.492 L171.478 452.492 L171.478 460.964 Q172.496 460.616 173.515 460.454 Q174.533 460.269 175.552 460.269 Q181.339 460.269 184.718 463.441 Q188.098 466.612 188.098 472.028 Q188.098 477.607 184.626 480.709 Q181.153 483.788 174.834 483.788 Q172.658 483.788 170.39 483.417 Q168.144 483.047 165.737 482.306 L165.737 477.607 Q167.82 478.741 170.042 479.297 Q172.265 479.852 174.741 479.852 Q178.746 479.852 181.084 477.746 Q183.422 475.64 183.422 472.028 Q183.422 468.417 181.084 466.311 Q178.746 464.204 174.741 464.204 Q172.866 464.204 170.991 464.621 Q169.14 465.038 167.195 465.917 L167.195 448.556 Z\" fill=\"#000000\" fill-rule=\"evenodd\" fill-opacity=\"1\" /><path clip-path=\"url(#clip150)\" d=\"M130.922 147.846 Q127.311 147.846 125.482 151.41 Q123.677 154.952 123.677 162.082 Q123.677 169.188 125.482 172.753 Q127.311 176.295 130.922 176.295 Q134.556 176.295 136.362 172.753 Q138.191 169.188 138.191 162.082 Q138.191 154.952 136.362 151.41 Q134.556 147.846 130.922 147.846 M130.922 144.142 Q136.732 144.142 139.788 148.748 Q142.867 153.332 142.867 162.082 Q142.867 170.808 139.788 175.415 Q136.732 179.998 130.922 179.998 Q125.112 179.998 122.033 175.415 Q118.978 170.808 118.978 162.082 Q118.978 153.332 122.033 148.748 Q125.112 144.142 130.922 144.142 Z\" fill=\"#000000\" fill-rule=\"evenodd\" fill-opacity=\"1\" /><path clip-path=\"url(#clip150)\" d=\"M151.084 173.447 L155.968 173.447 L155.968 179.327 L151.084 179.327 L151.084 173.447 Z\" fill=\"#000000\" fill-rule=\"evenodd\" fill-opacity=\"1\" /><path clip-path=\"url(#clip150)\" d=\"M176.153 147.846 Q172.542 147.846 170.714 151.41 Q168.908 154.952 168.908 162.082 Q168.908 169.188 170.714 172.753 Q172.542 176.295 176.153 176.295 Q179.788 176.295 181.593 172.753 Q183.422 169.188 183.422 162.082 Q183.422 154.952 181.593 151.41 Q179.788 147.846 176.153 147.846 M176.153 144.142 Q181.964 144.142 185.019 148.748 Q188.098 153.332 188.098 162.082 Q188.098 170.808 185.019 175.415 Q181.964 179.998 176.153 179.998 Q170.343 179.998 167.265 175.415 Q164.209 170.808 164.209 162.082 Q164.209 153.332 167.265 148.748 Q170.343 144.142 176.153 144.142 Z\" fill=\"#000000\" fill-rule=\"evenodd\" fill-opacity=\"1\" /><path clip-path=\"url(#clip150)\" d=\"M1026.27 18.8205 L1026.27 41.5461 L1036.56 41.5461 Q1042.27 41.5461 1045.39 38.5889 Q1048.51 35.6318 1048.51 30.163 Q1048.51 24.7348 1045.39 21.7777 Q1042.27 18.8205 1036.56 18.8205 L1026.27 18.8205 M1018.09 12.096 L1036.56 12.096 Q1046.73 12.096 1051.91 16.714 Q1057.14 21.2916 1057.14 30.163 Q1057.14 39.1155 1051.91 43.6931 Q1046.73 48.2706 1036.56 48.2706 L1026.27 48.2706 L1026.27 72.576 L1018.09 72.576 L1018.09 12.096 Z\" fill=\"#000000\" fill-rule=\"evenodd\" fill-opacity=\"1\" /><path clip-path=\"url(#clip150)\" d=\"M1103.64 48.0275 L1103.64 51.6733 L1069.37 51.6733 Q1069.86 59.3701 1073.99 63.421 Q1078.16 67.4314 1085.58 67.4314 Q1089.87 67.4314 1093.88 66.3781 Q1097.93 65.3249 1101.9 63.2184 L1101.9 70.267 Q1097.89 71.9684 1093.68 72.8596 Q1089.47 73.7508 1085.13 73.7508 Q1074.28 73.7508 1067.92 67.4314 Q1061.6 61.1119 1061.6 50.3365 Q1061.6 39.1965 1067.59 32.6746 Q1073.63 26.1121 1083.84 26.1121 Q1092.99 26.1121 1098.3 32.0264 Q1103.64 37.9003 1103.64 48.0275 M1096.19 45.84 Q1096.11 39.7232 1092.75 36.0774 Q1089.43 32.4315 1083.92 32.4315 Q1077.68 32.4315 1073.91 35.9558 Q1070.18 39.4801 1069.62 45.8805 L1096.19 45.84 Z\" fill=\"#000000\" fill-rule=\"evenodd\" fill-opacity=\"1\" /><path clip-path=\"url(#clip150)\" d=\"M1142.17 34.1734 Q1140.91 33.4443 1139.41 33.1202 Q1137.96 32.7556 1136.17 32.7556 Q1129.85 32.7556 1126.45 36.8875 Q1123.09 40.9789 1123.09 48.6757 L1123.09 72.576 L1115.6 72.576 L1115.6 27.2059 L1123.09 27.2059 L1123.09 34.2544 Q1125.44 30.1225 1129.21 28.1376 Q1132.97 26.1121 1138.36 26.1121 Q1139.13 26.1121 1140.06 26.2337 Q1140.99 26.3147 1142.13 26.5172 L1142.17 34.1734 Z\" fill=\"#000000\" fill-rule=\"evenodd\" fill-opacity=\"1\" /><path clip-path=\"url(#clip150)\" d=\"M1149.99 27.2059 L1157.44 27.2059 L1157.44 72.576 L1149.99 72.576 L1149.99 27.2059 M1149.99 9.54393 L1157.44 9.54393 L1157.44 18.9825 L1149.99 18.9825 L1149.99 9.54393 Z\" fill=\"#000000\" fill-rule=\"evenodd\" fill-opacity=\"1\" /><path clip-path=\"url(#clip150)\" d=\"M1190.62 32.4315 Q1184.62 32.4315 1181.14 37.1306 Q1177.65 41.7891 1177.65 49.9314 Q1177.65 58.0738 1181.1 62.7728 Q1184.58 67.4314 1190.62 67.4314 Q1196.57 67.4314 1200.06 62.7323 Q1203.54 58.0333 1203.54 49.9314 Q1203.54 41.8701 1200.06 37.1711 Q1196.57 32.4315 1190.62 32.4315 M1190.62 26.1121 Q1200.34 26.1121 1205.89 32.4315 Q1211.44 38.7509 1211.44 49.9314 Q1211.44 61.0714 1205.89 67.4314 Q1200.34 73.7508 1190.62 73.7508 Q1180.86 73.7508 1175.31 67.4314 Q1169.8 61.0714 1169.8 49.9314 Q1169.8 38.7509 1175.31 32.4315 Q1180.86 26.1121 1190.62 26.1121 Z\" fill=\"#000000\" fill-rule=\"evenodd\" fill-opacity=\"1\" /><path clip-path=\"url(#clip150)\" d=\"M1253.65 34.0924 L1253.65 9.54393 L1261.1 9.54393 L1261.1 72.576 L1253.65 72.576 L1253.65 65.7705 Q1251.3 69.8214 1247.7 71.8063 Q1244.13 73.7508 1239.11 73.7508 Q1230.88 73.7508 1225.7 67.1883 Q1220.55 60.6258 1220.55 49.9314 Q1220.55 39.2371 1225.7 32.6746 Q1230.88 26.1121 1239.11 26.1121 Q1244.13 26.1121 1247.7 28.0971 Q1251.3 30.0415 1253.65 34.0924 M1228.25 49.9314 Q1228.25 58.1548 1231.61 62.8538 Q1235.02 67.5124 1240.93 67.5124 Q1246.84 67.5124 1250.25 62.8538 Q1253.65 58.1548 1253.65 49.9314 Q1253.65 41.7081 1250.25 37.0496 Q1246.84 32.3505 1240.93 32.3505 Q1235.02 32.3505 1231.61 37.0496 Q1228.25 41.7081 1228.25 49.9314 Z\" fill=\"#000000\" fill-rule=\"evenodd\" fill-opacity=\"1\" /><path clip-path=\"url(#clip150)\" d=\"M1276.46 27.2059 L1283.91 27.2059 L1283.91 72.576 L1276.46 72.576 L1276.46 27.2059 M1276.46 9.54393 L1283.91 9.54393 L1283.91 18.9825 L1276.46 18.9825 L1276.46 9.54393 Z\" fill=\"#000000\" fill-rule=\"evenodd\" fill-opacity=\"1\" /><path clip-path=\"url(#clip150)\" d=\"M1332.16 28.9478 L1332.16 35.9153 Q1329 34.1734 1325.8 33.3227 Q1322.64 32.4315 1319.4 32.4315 Q1312.14 32.4315 1308.13 37.0496 Q1304.12 41.6271 1304.12 49.9314 Q1304.12 58.2358 1308.13 62.8538 Q1312.14 67.4314 1319.4 67.4314 Q1322.64 67.4314 1325.8 66.5807 Q1329 65.6895 1332.16 63.9476 L1332.16 70.8341 Q1329.04 72.2924 1325.67 73.0216 Q1322.35 73.7508 1318.59 73.7508 Q1308.34 73.7508 1302.3 67.3098 Q1296.27 60.8689 1296.27 49.9314 Q1296.27 38.832 1302.34 32.472 Q1308.46 26.1121 1319.07 26.1121 Q1322.52 26.1121 1325.8 26.8413 Q1329.08 27.5299 1332.16 28.9478 Z\" fill=\"#000000\" fill-rule=\"evenodd\" fill-opacity=\"1\" /><path clip-path=\"url(#clip150)\" d=\"M1345.12 27.2059 L1352.57 27.2059 L1352.57 72.576 L1345.12 72.576 L1345.12 27.2059 M1345.12 9.54393 L1352.57 9.54393 L1352.57 18.9825 L1345.12 18.9825 L1345.12 9.54393 Z\" fill=\"#000000\" fill-rule=\"evenodd\" fill-opacity=\"1\" /><path clip-path=\"url(#clip150)\" d=\"M1375.54 14.324 L1375.54 27.2059 L1390.89 27.2059 L1390.89 32.9987 L1375.54 32.9987 L1375.54 57.6282 Q1375.54 63.1779 1377.04 64.7578 Q1378.58 66.3376 1383.24 66.3376 L1390.89 66.3376 L1390.89 72.576 L1383.24 72.576 Q1374.61 72.576 1371.33 69.3758 Q1368.05 66.1351 1368.05 57.6282 L1368.05 32.9987 L1362.58 32.9987 L1362.58 27.2059 L1368.05 27.2059 L1368.05 14.324 L1375.54 14.324 Z\" fill=\"#000000\" fill-rule=\"evenodd\" fill-opacity=\"1\" /><path clip-path=\"url(#clip150)\" d=\"M1419.57 76.7889 Q1416.42 84.8907 1413.42 87.3618 Q1410.42 89.8329 1405.4 89.8329 L1399.44 89.8329 L1399.44 83.5945 L1403.82 83.5945 Q1406.9 83.5945 1408.6 82.1361 Q1410.3 80.6778 1412.36 75.2496 L1413.7 71.8468 L1395.35 27.2059 L1403.25 27.2059 L1417.43 62.6918 L1431.61 27.2059 L1439.51 27.2059 L1419.57 76.7889 Z\" fill=\"#000000\" fill-rule=\"evenodd\" fill-opacity=\"1\" /><path clip-path=\"url(#clip150)\" d=\"M1450.77 34.9026 L1502.7 34.9026 L1502.7 41.7081 L1450.77 41.7081 L1450.77 34.9026 M1450.77 51.4303 L1502.7 51.4303 L1502.7 58.3168 L1450.77 58.3168 L1450.77 51.4303 Z\" fill=\"#000000\" fill-rule=\"evenodd\" fill-opacity=\"1\" /><path clip-path=\"url(#clip150)\" d=\"M1537.86 17.4837 Q1531.54 17.4837 1528.34 23.7221 Q1525.18 29.92 1525.18 42.3968 Q1525.18 54.833 1528.34 61.0714 Q1531.54 67.2693 1537.86 67.2693 Q1544.22 67.2693 1547.38 61.0714 Q1550.58 54.833 1550.58 42.3968 Q1550.58 29.92 1547.38 23.7221 Q1544.22 17.4837 1537.86 17.4837 M1537.86 11.0023 Q1548.03 11.0023 1553.38 19.0636 Q1558.76 27.0843 1558.76 42.3968 Q1558.76 57.6687 1553.38 65.73 Q1548.03 73.7508 1537.86 73.7508 Q1527.69 73.7508 1522.31 65.73 Q1516.96 57.6687 1516.96 42.3968 Q1516.96 27.0843 1522.31 19.0636 Q1527.69 11.0023 1537.86 11.0023 Z\" fill=\"#000000\" fill-rule=\"evenodd\" fill-opacity=\"1\" /><circle clip-path=\"url(#clip152)\" cx=\"284.343\" cy=\"1447.87\" r=\"14.4\" fill=\"#009af9\" fill-rule=\"evenodd\" fill-opacity=\"1\" stroke=\"#000000\" stroke-opacity=\"1\" stroke-width=\"3.2\"/>\n",
       "<circle clip-path=\"url(#clip152)\" cx=\"390.036\" cy=\"1441.03\" r=\"14.4\" fill=\"#009af9\" fill-rule=\"evenodd\" fill-opacity=\"1\" stroke=\"#000000\" stroke-opacity=\"1\" stroke-width=\"3.2\"/>\n",
       "<circle clip-path=\"url(#clip152)\" cx=\"495.729\" cy=\"1437.27\" r=\"14.4\" fill=\"#009af9\" fill-rule=\"evenodd\" fill-opacity=\"1\" stroke=\"#000000\" stroke-opacity=\"1\" stroke-width=\"3.2\"/>\n",
       "<circle clip-path=\"url(#clip152)\" cx=\"601.422\" cy=\"1436.28\" r=\"14.4\" fill=\"#009af9\" fill-rule=\"evenodd\" fill-opacity=\"1\" stroke=\"#000000\" stroke-opacity=\"1\" stroke-width=\"3.2\"/>\n",
       "<circle clip-path=\"url(#clip152)\" cx=\"707.115\" cy=\"1429.63\" r=\"14.4\" fill=\"#009af9\" fill-rule=\"evenodd\" fill-opacity=\"1\" stroke=\"#000000\" stroke-opacity=\"1\" stroke-width=\"3.2\"/>\n",
       "<circle clip-path=\"url(#clip152)\" cx=\"812.808\" cy=\"1428.02\" r=\"14.4\" fill=\"#009af9\" fill-rule=\"evenodd\" fill-opacity=\"1\" stroke=\"#000000\" stroke-opacity=\"1\" stroke-width=\"3.2\"/>\n",
       "<circle clip-path=\"url(#clip152)\" cx=\"918.501\" cy=\"1426.24\" r=\"14.4\" fill=\"#009af9\" fill-rule=\"evenodd\" fill-opacity=\"1\" stroke=\"#000000\" stroke-opacity=\"1\" stroke-width=\"3.2\"/>\n",
       "<circle clip-path=\"url(#clip152)\" cx=\"1024.19\" cy=\"1423.73\" r=\"14.4\" fill=\"#009af9\" fill-rule=\"evenodd\" fill-opacity=\"1\" stroke=\"#000000\" stroke-opacity=\"1\" stroke-width=\"3.2\"/>\n",
       "<circle clip-path=\"url(#clip152)\" cx=\"1129.89\" cy=\"1420.71\" r=\"14.4\" fill=\"#009af9\" fill-rule=\"evenodd\" fill-opacity=\"1\" stroke=\"#000000\" stroke-opacity=\"1\" stroke-width=\"3.2\"/>\n",
       "<circle clip-path=\"url(#clip152)\" cx=\"1235.58\" cy=\"1419.39\" r=\"14.4\" fill=\"#009af9\" fill-rule=\"evenodd\" fill-opacity=\"1\" stroke=\"#000000\" stroke-opacity=\"1\" stroke-width=\"3.2\"/>\n",
       "<circle clip-path=\"url(#clip152)\" cx=\"1341.27\" cy=\"1418.66\" r=\"14.4\" fill=\"#009af9\" fill-rule=\"evenodd\" fill-opacity=\"1\" stroke=\"#000000\" stroke-opacity=\"1\" stroke-width=\"3.2\"/>\n",
       "<circle clip-path=\"url(#clip152)\" cx=\"1446.97\" cy=\"1415.7\" r=\"14.4\" fill=\"#009af9\" fill-rule=\"evenodd\" fill-opacity=\"1\" stroke=\"#000000\" stroke-opacity=\"1\" stroke-width=\"3.2\"/>\n",
       "<circle clip-path=\"url(#clip152)\" cx=\"1552.66\" cy=\"1414.5\" r=\"14.4\" fill=\"#009af9\" fill-rule=\"evenodd\" fill-opacity=\"1\" stroke=\"#000000\" stroke-opacity=\"1\" stroke-width=\"3.2\"/>\n",
       "<circle clip-path=\"url(#clip152)\" cx=\"1658.35\" cy=\"1413.6\" r=\"14.4\" fill=\"#009af9\" fill-rule=\"evenodd\" fill-opacity=\"1\" stroke=\"#000000\" stroke-opacity=\"1\" stroke-width=\"3.2\"/>\n",
       "<circle clip-path=\"url(#clip152)\" cx=\"1764.05\" cy=\"1411.9\" r=\"14.4\" fill=\"#009af9\" fill-rule=\"evenodd\" fill-opacity=\"1\" stroke=\"#000000\" stroke-opacity=\"1\" stroke-width=\"3.2\"/>\n",
       "<circle clip-path=\"url(#clip152)\" cx=\"1869.74\" cy=\"1410.96\" r=\"14.4\" fill=\"#009af9\" fill-rule=\"evenodd\" fill-opacity=\"1\" stroke=\"#000000\" stroke-opacity=\"1\" stroke-width=\"3.2\"/>\n",
       "<circle clip-path=\"url(#clip152)\" cx=\"1975.43\" cy=\"1409.24\" r=\"14.4\" fill=\"#009af9\" fill-rule=\"evenodd\" fill-opacity=\"1\" stroke=\"#000000\" stroke-opacity=\"1\" stroke-width=\"3.2\"/>\n",
       "<circle clip-path=\"url(#clip152)\" cx=\"2081.12\" cy=\"1407.45\" r=\"14.4\" fill=\"#009af9\" fill-rule=\"evenodd\" fill-opacity=\"1\" stroke=\"#000000\" stroke-opacity=\"1\" stroke-width=\"3.2\"/>\n",
       "<circle clip-path=\"url(#clip152)\" cx=\"2186.82\" cy=\"1403.73\" r=\"14.4\" fill=\"#009af9\" fill-rule=\"evenodd\" fill-opacity=\"1\" stroke=\"#000000\" stroke-opacity=\"1\" stroke-width=\"3.2\"/>\n",
       "<circle clip-path=\"url(#clip152)\" cx=\"2292.51\" cy=\"1402.27\" r=\"14.4\" fill=\"#009af9\" fill-rule=\"evenodd\" fill-opacity=\"1\" stroke=\"#000000\" stroke-opacity=\"1\" stroke-width=\"3.2\"/>\n",
       "<path clip-path=\"url(#clip150)\" d=\"M2016.5 272.585 L2281.8 272.585 L2281.8 168.905 L2016.5 168.905  Z\" fill=\"#ffffff\" fill-rule=\"evenodd\" fill-opacity=\"1\"/>\n",
       "<polyline clip-path=\"url(#clip150)\" style=\"stroke:#000000; stroke-linecap:round; stroke-linejoin:round; stroke-width:4; stroke-opacity:1; fill:none\" points=\"2016.5,272.585 2281.8,272.585 2281.8,168.905 2016.5,168.905 2016.5,272.585 \"/>\n",
       "<circle clip-path=\"url(#clip150)\" cx=\"2111.11\" cy=\"220.745\" r=\"23.04\" fill=\"#009af9\" fill-rule=\"evenodd\" fill-opacity=\"1\" stroke=\"#000000\" stroke-opacity=\"1\" stroke-width=\"5.12\"/>\n",
       "<path clip-path=\"url(#clip150)\" d=\"M2219.56 240.432 Q2217.76 245.062 2216.04 246.474 Q2214.33 247.886 2211.46 247.886 L2208.06 247.886 L2208.06 244.321 L2210.56 244.321 Q2212.32 244.321 2213.29 243.488 Q2214.26 242.654 2215.44 239.552 L2216.2 237.608 L2205.72 212.099 L2210.23 212.099 L2218.33 232.377 L2226.44 212.099 L2230.95 212.099 L2219.56 240.432 Z\" fill=\"#000000\" fill-rule=\"evenodd\" fill-opacity=\"1\" /><path clip-path=\"url(#clip150)\" d=\"M2238.24 234.089 L2245.88 234.089 L2245.88 207.724 L2237.57 209.391 L2237.57 205.131 L2245.83 203.465 L2250.51 203.465 L2250.51 234.089 L2258.15 234.089 L2258.15 238.025 L2238.24 238.025 L2238.24 234.089 Z\" fill=\"#000000\" fill-rule=\"evenodd\" fill-opacity=\"1\" /></svg>\n"
      ]
     },
     "execution_count": 49,
     "metadata": {},
     "output_type": "execute_result"
    }
   ],
   "source": [
    "using Plots\n",
    "plot(1:20,Hubbard_States[1],seriestype=:scatter,title=\"Periodicity=$(periodicity)\")"
   ]
  },
  {
   "cell_type": "code",
   "execution_count": 35,
   "id": "bc80592c-045b-4898-9a4b-c414e446434f",
   "metadata": {
    "tags": []
   },
   "outputs": [
    {
     "ename": "LoadError",
     "evalue": "DimensionMismatch: new dimensions (8, 10) must be consistent with array size 0",
     "output_type": "error",
     "traceback": [
      "DimensionMismatch: new dimensions (8, 10) must be consistent with array size 0",
      "",
      "Stacktrace:",
      " [1] (::Base.var\"#throw_dmrsa#289\")(dims::Tuple{Int64, Int64}, len::Int64)",
      "   @ Base .\\reshapedarray.jl:41",
      " [2] reshape",
      "   @ .\\reshapedarray.jl:45 [inlined]",
      " [3] reshape(::Vector{Any}, ::Int64, ::Int64)",
      "   @ Base .\\reshapedarray.jl:117",
      " [4] top-level scope",
      "   @ In[35]:1"
     ]
    }
   ],
   "source": [
    "z = reshape(real(expect_list), Nx, Ny)\n",
    "heatmap(z, c=:thermal, xlabel=\"x\", ylabel=\"y\", title=(\"Nx=$Nx,Ny=$Ny,co=$cut_off,PN=$pn,U=$U \\n Psi($index_eig_states), Periodicity=$periodicity\"))"
   ]
  },
  {
   "cell_type": "markdown",
   "id": "c8ba1c1a-0466-4c0e-ae50-68651ddddd72",
   "metadata": {},
   "source": [
    "# Animation"
   ]
  },
  {
   "cell_type": "code",
   "execution_count": 36,
   "id": "3b94f5ae-a205-48ea-9ed7-bac8407b3a50",
   "metadata": {
    "tags": []
   },
   "outputs": [],
   "source": [
    "# animated_exp_list = zeros(N,1,length(r_hubbard_states))\n",
    "# function animated_e_l()\n",
    "#     for i in 1:length(r_hubbard_states)\n",
    "#         expect_list=[]\n",
    "#         for j in 1:N\n",
    "#             T = NM_MB_Array_Storage[:,:,j]\n",
    "#             Op = Operator(BL,BR,T)\n",
    "#             push!(expect_list,expect(Op, r_hubbard_states[i]))\n",
    "#         end\n",
    "#         animated_exp_list[:,:,i] = real(expect_list)\n",
    "#     end\n",
    "#     return animated_exp_list\n",
    "# end"
   ]
  },
  {
   "cell_type": "code",
   "execution_count": 37,
   "id": "4476fa87-c99f-4428-a0d5-473049a5893a",
   "metadata": {
    "tags": []
   },
   "outputs": [],
   "source": [
    "# k = 1\n",
    "# initial_condition = reshape(animated_e_l()[:,:,k], Nx, Ny) #psi_1 (psi_k)'e karşılık gelen density matrix\n",
    "# heatmap(initial_condition)"
   ]
  },
  {
   "cell_type": "code",
   "execution_count": 38,
   "id": "e0b08e68-6ca6-4923-9cd6-2ec9f5cdf609",
   "metadata": {
    "tags": []
   },
   "outputs": [],
   "source": [
    "# initial_condition = reshape(animated_e_l()[:,:,1], Nx, Ny)\n",
    "# fps = 20\n",
    "# function heatgif(initial_condition)\n",
    "#     p = heatmap(initial_condition, xlabel=\"x\", ylabel=\"y\", title=(\"Nx=$Nx,Ny=$Ny,co=$cut_off,PN=$pn,U=$U, fps=$fps\"))\n",
    "#     anim = @animate for i=1:length(r_hubbard_states)\n",
    "#         h_map_matrix = reshape(animated_e_l()[:,:,i],Nx,Ny)\n",
    "#         heatmap!(p[1], h_map_matrix)\n",
    "#     end\n",
    "#     return anim\n",
    "# end"
   ]
  },
  {
   "cell_type": "code",
   "execution_count": 39,
   "id": "91adf7db-1421-4fd3-8615-3550623f1568",
   "metadata": {
    "tags": []
   },
   "outputs": [],
   "source": [
    "# anim = heatgif(initial_condition)\n",
    "# gif(anim, \"OUTPUT.gif\", fps=fps)"
   ]
  }
 ],
 "metadata": {
  "kernelspec": {
   "display_name": "Julia 1.8.1",
   "language": "julia",
   "name": "julia-1.8"
  },
  "language_info": {
   "file_extension": ".jl",
   "mimetype": "application/julia",
   "name": "julia",
   "version": "1.8.1"
  }
 },
 "nbformat": 4,
 "nbformat_minor": 5
}
