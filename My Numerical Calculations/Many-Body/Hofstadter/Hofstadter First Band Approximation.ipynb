{
 "cells": [
  {
   "cell_type": "code",
   "execution_count": 1,
   "id": "portuguese-prediction",
   "metadata": {
    "tags": []
   },
   "outputs": [
    {
     "data": {
      "text/plain": [
       "Hubbard_Interaction"
      ]
     },
     "execution_count": 1,
     "metadata": {},
     "output_type": "execute_result"
    }
   ],
   "source": [
    "using NBInclude\n",
    "@nbinclude(\"Hofstadter Single Particle in Julia.ipynb\")\n",
    "@nbinclude(joinpath(\"..\",\"First Band Approximation Functions.ipynb\"))"
   ]
  },
  {
   "cell_type": "markdown",
   "id": "1cbf7141-36bd-4ef7-9487-deb38a7b9128",
   "metadata": {},
   "source": [
    "# Initial Parameters"
   ]
  },
  {
   "cell_type": "code",
   "execution_count": 2,
   "id": "about-bones",
   "metadata": {
    "tags": []
   },
   "outputs": [],
   "source": [
    "Nx = 20; Ny = 20; N=Nx*Ny; q = Nx; cut_off = q\n",
    "PN = [0,1,2]\n",
    "U = 2;"
   ]
  },
  {
   "cell_type": "markdown",
   "id": "aa578b60-4cd3-49a9-8e3d-aabffe7d92cf",
   "metadata": {
    "tags": []
   },
   "source": [
    "# Single-Particle"
   ]
  },
  {
   "cell_type": "code",
   "execution_count": 3,
   "id": "imperial-crisis",
   "metadata": {
    "tags": []
   },
   "outputs": [
    {
     "data": {
      "text/latex": [
       "Compute the single-particle operator from single-particle matrix.\n",
       "\n",
       "\\paragraph{Arguments}\n",
       "\\begin{itemize}\n",
       "\\item \\texttt{sp\\_basis::NLevelBasis}: Single-Particle basis.\n",
       "\n",
       "\n",
       "\\item \\texttt{sp\\_matrix::Matrix}: Any hopping phases matrix from any model.\n",
       "\n",
       "\\end{itemize}\n"
      ],
      "text/markdown": [
       "Compute the single-particle operator from single-particle matrix.\n",
       "\n",
       "#### Arguments\n",
       "\n",
       "  * `sp_basis::NLevelBasis`: Single-Particle basis.\n",
       "  * `sp_matrix::Matrix`: Any hopping phases matrix from any model.\n"
      ],
      "text/plain": [
       "  Compute the single-particle operator from single-particle matrix.\n",
       "\n",
       "\u001b[1m  Arguments\u001b[22m\n",
       "\u001b[1m  -----------\u001b[22m\n",
       "\n",
       "    •  \u001b[36msp_basis::NLevelBasis\u001b[39m: Single-Particle basis.\n",
       "\n",
       "    •  \u001b[36msp_matrix::Matrix\u001b[39m: Any hopping phases matrix from any model."
      ]
     },
     "execution_count": 3,
     "metadata": {},
     "output_type": "execute_result"
    }
   ],
   "source": [
    "@doc get_sp_op"
   ]
  },
  {
   "cell_type": "code",
   "execution_count": 4,
   "id": "temporal-cleveland",
   "metadata": {
    "tags": []
   },
   "outputs": [],
   "source": [
    "sp_basis = NLevelBasis(N);\n",
    "periodicity = 1\n",
    "sp_matrix = Hofstadter_SP(Nx, Ny, 1/q, periodicity);"
   ]
  },
  {
   "cell_type": "code",
   "execution_count": 5,
   "id": "likely-spank",
   "metadata": {
    "tags": []
   },
   "outputs": [],
   "source": [
    "H1 = get_sp_op(sp_basis, sp_matrix);"
   ]
  },
  {
   "cell_type": "code",
   "execution_count": 6,
   "id": "ignored-medium",
   "metadata": {
    "tags": []
   },
   "outputs": [
    {
     "data": {
      "text/plain": [
       "true"
      ]
     },
     "execution_count": 6,
     "metadata": {},
     "output_type": "execute_result"
    }
   ],
   "source": [
    "#check operator form\n",
    "using LinearAlgebra\n",
    "eigenenergies(dense(H1)) == eigvals(sp_matrix)"
   ]
  },
  {
   "cell_type": "code",
   "execution_count": 7,
   "id": "e2e9066d-37c3-4286-b5fa-db560eacf4c0",
   "metadata": {
    "tags": []
   },
   "outputs": [
    {
     "data": {
      "text/latex": [
       "Compute the first given number eigen-states.\n",
       "\n",
       "\\paragraph{Arguments}\n",
       "\\begin{itemize}\n",
       "\\item \\texttt{sp\\_op::Operator}: Created single-particle operator by using \\texttt{get\\_sp\\_op}.\n",
       "\n",
       "\n",
       "\\item \\texttt{cut\\_off::Int}: Eigen-states order from \\texttt{1} to \\texttt{cut\\_off}.\n",
       "\n",
       "\\end{itemize}\n"
      ],
      "text/markdown": [
       "Compute the first given number eigen-states.\n",
       "\n",
       "#### Arguments\n",
       "\n",
       "  * `sp_op::Operator`: Created single-particle operator by using `get_sp_op`.\n",
       "  * `cut_off::Int`: Eigen-states order from `1` to `cut_off`.\n"
      ],
      "text/plain": [
       "  Compute the first given number eigen-states.\n",
       "\n",
       "\u001b[1m  Arguments\u001b[22m\n",
       "\u001b[1m  -----------\u001b[22m\n",
       "\n",
       "    •  \u001b[36msp_op::Operator\u001b[39m: Created single-particle operator by using\n",
       "       \u001b[36mget_sp_op\u001b[39m.\n",
       "\n",
       "    •  \u001b[36mcut_off::Int\u001b[39m: Eigen-states order from \u001b[36m1\u001b[39m to \u001b[36mcut_off\u001b[39m."
      ]
     },
     "execution_count": 7,
     "metadata": {},
     "output_type": "execute_result"
    }
   ],
   "source": [
    "@doc get_sub_states"
   ]
  },
  {
   "cell_type": "code",
   "execution_count": 8,
   "id": "compact-brooks",
   "metadata": {
    "tags": []
   },
   "outputs": [],
   "source": [
    "sub_states = get_sub_states(H1, cut_off);"
   ]
  },
  {
   "cell_type": "code",
   "execution_count": 9,
   "id": "d644861d-5ac6-4597-bfdb-9df51e96c229",
   "metadata": {
    "tags": []
   },
   "outputs": [
    {
     "data": {
      "text/latex": [
       "Compute Sub-Space Basis, Projection and comlex conjugate of Projection operator.\n",
       "\n",
       "\\paragraph{Arguments}\n",
       "\\begin{itemize}\n",
       "\\item \\texttt{states::eigenstates}: Eigen-states of any operator.\n",
       "\n",
       "\n",
       "\\item \\texttt{basis::NLevelBasis}: Single-Particle basis.\n",
       "\n",
       "\\end{itemize}\n"
      ],
      "text/markdown": [
       "Compute Sub-Space Basis, Projection and comlex conjugate of Projection operator.\n",
       "\n",
       "#### Arguments\n",
       "\n",
       "  * `states::eigenstates`: Eigen-states of any operator.\n",
       "  * `basis::NLevelBasis`: Single-Particle basis.\n"
      ],
      "text/plain": [
       "  Compute Sub-Space Basis, Projection and comlex conjugate of Projection\n",
       "  operator.\n",
       "\n",
       "\u001b[1m  Arguments\u001b[22m\n",
       "\u001b[1m  -----------\u001b[22m\n",
       "\n",
       "    •  \u001b[36mstates::eigenstates\u001b[39m: Eigen-states of any operator.\n",
       "\n",
       "    •  \u001b[36mbasis::NLevelBasis\u001b[39m: Single-Particle basis."
      ]
     },
     "execution_count": 9,
     "metadata": {},
     "output_type": "execute_result"
    }
   ],
   "source": [
    "@doc get_projector_op"
   ]
  },
  {
   "cell_type": "code",
   "execution_count": 10,
   "id": "molecular-bankruptcy",
   "metadata": {
    "tags": []
   },
   "outputs": [],
   "source": [
    "b_sub, P, Pt = get_projector_op(sub_states, sp_basis);"
   ]
  },
  {
   "cell_type": "code",
   "execution_count": 11,
   "id": "dd280e68-52a1-4367-b2f8-e73c8533f8bb",
   "metadata": {
    "tags": []
   },
   "outputs": [
    {
     "data": {
      "text/latex": [
       "Compute the Sub-Space Operator.\n",
       "\n",
       "\\paragraph{Arguments}\n",
       "\\begin{itemize}\n",
       "\\item \\texttt{sp\\_op::Operator}: Single-particle operator from single-particle matrix.\n",
       "\n",
       "\n",
       "\\item \\texttt{P::Operator}: Projection operator.\n",
       "\n",
       "\n",
       "\\item \\texttt{Pt::Operator}: Complex conjugate of Projection operator.\n",
       "\n",
       "\\end{itemize}\n"
      ],
      "text/markdown": [
       "Compute the Sub-Space Operator.\n",
       "\n",
       "#### Arguments\n",
       "\n",
       "  * `sp_op::Operator`: Single-particle operator from single-particle matrix.\n",
       "  * `P::Operator`: Projection operator.\n",
       "  * `Pt::Operator`: Complex conjugate of Projection operator.\n"
      ],
      "text/plain": [
       "  Compute the Sub-Space Operator.\n",
       "\n",
       "\u001b[1m  Arguments\u001b[22m\n",
       "\u001b[1m  -----------\u001b[22m\n",
       "\n",
       "    •  \u001b[36msp_op::Operator\u001b[39m: Single-particle operator from single-particle\n",
       "       matrix.\n",
       "\n",
       "    •  \u001b[36mP::Operator\u001b[39m: Projection operator.\n",
       "\n",
       "    •  \u001b[36mPt::Operator\u001b[39m: Complex conjugate of Projection operator."
      ]
     },
     "execution_count": 11,
     "metadata": {},
     "output_type": "execute_result"
    }
   ],
   "source": [
    "@doc get_subspace_op"
   ]
  },
  {
   "cell_type": "code",
   "execution_count": 12,
   "id": "informed-macro",
   "metadata": {
    "tags": []
   },
   "outputs": [],
   "source": [
    "H1_sub = get_subspace_op(H1, P, Pt);"
   ]
  },
  {
   "cell_type": "code",
   "execution_count": 13,
   "id": "c4bc4b2e-2868-45fa-8200-c6187ed42627",
   "metadata": {
    "tags": []
   },
   "outputs": [
    {
     "data": {
      "text/latex": [
       "Compute the Single-Particle Number Operator for each lattice sites.\n",
       "\n",
       "\\paragraph{Arguments}\n",
       "\\begin{itemize}\n",
       "\\item \\texttt{sp\\_basis::NLevelBasis}: Single-Particle basis.\n",
       "\n",
       "\n",
       "\\item \\texttt{P::Operator}: Projection operator.\n",
       "\n",
       "\n",
       "\\item \\texttt{Pt::Operator}: Complex conjugate of Projection operator.\n",
       "\n",
       "\\end{itemize}\n"
      ],
      "text/markdown": [
       "Compute the Single-Particle Number Operator for each lattice sites.\n",
       "\n",
       "#### Arguments\n",
       "\n",
       "  * `sp_basis::NLevelBasis`: Single-Particle basis.\n",
       "  * `P::Operator`: Projection operator.\n",
       "  * `Pt::Operator`: Complex conjugate of Projection operator.\n"
      ],
      "text/plain": [
       "  Compute the Single-Particle Number Operator for each lattice sites.\n",
       "\n",
       "\u001b[1m  Arguments\u001b[22m\n",
       "\u001b[1m  -----------\u001b[22m\n",
       "\n",
       "    •  \u001b[36msp_basis::NLevelBasis\u001b[39m: Single-Particle basis.\n",
       "\n",
       "    •  \u001b[36mP::Operator\u001b[39m: Projection operator.\n",
       "\n",
       "    •  \u001b[36mPt::Operator\u001b[39m: Complex conjugate of Projection operator."
      ]
     },
     "execution_count": 13,
     "metadata": {},
     "output_type": "execute_result"
    }
   ],
   "source": [
    "@doc get_num_sub_list"
   ]
  },
  {
   "cell_type": "code",
   "execution_count": 14,
   "id": "cross-patrol",
   "metadata": {
    "tags": []
   },
   "outputs": [],
   "source": [
    "num_sub_list = get_num_sub_list(sp_basis,P,Pt);"
   ]
  },
  {
   "cell_type": "markdown",
   "id": "particular-surrey",
   "metadata": {},
   "source": [
    "# Many-Body"
   ]
  },
  {
   "cell_type": "code",
   "execution_count": 15,
   "id": "difficult-ground",
   "metadata": {
    "tags": []
   },
   "outputs": [
    {
     "data": {
      "text/plain": [
       "ManyBody(onebodybasis=Subspace(superbasis=NLevel(N=400), states:20), states:231)"
      ]
     },
     "execution_count": 15,
     "metadata": {},
     "output_type": "execute_result"
    }
   ],
   "source": [
    "states_mb = bosonstates(b_sub, PN) \n",
    "basis_mb = ManyBodyBasis(b_sub, states_mb)"
   ]
  },
  {
   "cell_type": "code",
   "execution_count": 16,
   "id": "cccffa5e-d4fd-4260-a7c5-d2fe183534e1",
   "metadata": {
    "tags": []
   },
   "outputs": [
    {
     "data": {
      "text/latex": [
       "Compute the Many-Body Operator from Single-Particle Operator.\n",
       "\n",
       "\\paragraph{Arguments}\n",
       "\\begin{itemize}\n",
       "\\item \\texttt{basis\\_mb::ManyBodyBasis}: Created Many-Body Basis by using \\texttt{bosonstates} or \\texttt{fermionstates}.\n",
       "\n",
       "\n",
       "\\item \\texttt{basis::SubSpaceBasis}: Created Sub-Space Basis by using get\\emph{projector}op.\n",
       "\n",
       "\n",
       "\\item \\texttt{sp\\_op::Operator}: Single-particle operator from single-particle matrix.\n",
       "\n",
       "\\end{itemize}\n"
      ],
      "text/markdown": [
       "Compute the Many-Body Operator from Single-Particle Operator.\n",
       "\n",
       "#### Arguments\n",
       "\n",
       "  * `basis_mb::ManyBodyBasis`: Created Many-Body Basis by using `bosonstates` or `fermionstates`.\n",
       "  * `basis::SubSpaceBasis`: Created Sub-Space Basis by using get*projector*op.\n",
       "  * `sp_op::Operator`: Single-particle operator from single-particle matrix.\n"
      ],
      "text/plain": [
       "  Compute the Many-Body Operator from Single-Particle Operator.\n",
       "\n",
       "\u001b[1m  Arguments\u001b[22m\n",
       "\u001b[1m  -----------\u001b[22m\n",
       "\n",
       "    •  \u001b[36mbasis_mb::ManyBodyBasis\u001b[39m: Created Many-Body Basis by using\n",
       "       \u001b[36mbosonstates\u001b[39m or \u001b[36mfermionstates\u001b[39m.\n",
       "\n",
       "    •  \u001b[36mbasis::SubSpaceBasis\u001b[39m: Created Sub-Space Basis by using\n",
       "       get\u001b[4mprojector\u001b[24mop.\n",
       "\n",
       "    •  \u001b[36msp_op::Operator\u001b[39m: Single-particle operator from single-particle\n",
       "       matrix."
      ]
     },
     "execution_count": 16,
     "metadata": {},
     "output_type": "execute_result"
    }
   ],
   "source": [
    "@doc get_mb_op"
   ]
  },
  {
   "cell_type": "code",
   "execution_count": 17,
   "id": "final-reverse",
   "metadata": {
    "tags": []
   },
   "outputs": [],
   "source": [
    "H1_MB = get_mb_op(basis_mb, b_sub, H1_sub);"
   ]
  },
  {
   "cell_type": "code",
   "execution_count": 18,
   "id": "4e49aaa7-d831-48fb-a9bb-77266aaed1b4",
   "metadata": {
    "tags": []
   },
   "outputs": [
    {
     "data": {
      "text/latex": [
       "Compute the Many-Body Number Operator for each lattice sites.\n",
       "\n",
       "\\paragraph{Arguments}\n",
       "\\begin{itemize}\n",
       "\\item \\texttt{basis\\_mb::ManyBodyBasis}: Created Many-Body Basis by using \\texttt{bosonstates} or \\texttt{fermionstates}.\n",
       "\n",
       "\n",
       "\\item \\texttt{basis::SubSpaceBasis}: Created Sub-Space Basis by using get\\emph{projector}op.\n",
       "\n",
       "\n",
       "\\item \\texttt{num\\_sub\\_list::ElementVector}: Created Single-Particle Number Number Operator for each lattice sites by using get\\emph{num}sub\\_list.\n",
       "\n",
       "\\end{itemize}\n"
      ],
      "text/markdown": [
       "Compute the Many-Body Number Operator for each lattice sites.\n",
       "\n",
       "#### Arguments\n",
       "\n",
       "  * `basis_mb::ManyBodyBasis`: Created Many-Body Basis by using `bosonstates` or `fermionstates`.\n",
       "  * `basis::SubSpaceBasis`: Created Sub-Space Basis by using get*projector*op.\n",
       "  * `num_sub_list::ElementVector`: Created Single-Particle Number Number Operator for each lattice sites by using get*num*sub_list.\n"
      ],
      "text/plain": [
       "  Compute the Many-Body Number Operator for each lattice sites.\n",
       "\n",
       "\u001b[1m  Arguments\u001b[22m\n",
       "\u001b[1m  -----------\u001b[22m\n",
       "\n",
       "    •  \u001b[36mbasis_mb::ManyBodyBasis\u001b[39m: Created Many-Body Basis by using\n",
       "       \u001b[36mbosonstates\u001b[39m or \u001b[36mfermionstates\u001b[39m.\n",
       "\n",
       "    •  \u001b[36mbasis::SubSpaceBasis\u001b[39m: Created Sub-Space Basis by using\n",
       "       get\u001b[4mprojector\u001b[24mop.\n",
       "\n",
       "    •  \u001b[36mnum_sub_list::ElementVector\u001b[39m: Created Single-Particle Number Number\n",
       "       Operator for each lattice sites by using get\u001b[4mnum\u001b[24msub_list."
      ]
     },
     "execution_count": 18,
     "metadata": {},
     "output_type": "execute_result"
    }
   ],
   "source": [
    "@doc get_num_mb_list"
   ]
  },
  {
   "cell_type": "code",
   "execution_count": 19,
   "id": "advanced-edwards",
   "metadata": {
    "tags": []
   },
   "outputs": [],
   "source": [
    "num_mb_list = get_num_mb_list(basis_mb, b_sub, num_sub_list);"
   ]
  },
  {
   "cell_type": "code",
   "execution_count": 20,
   "id": "f5e7021c-a835-4d85-b45c-3ba5d456c977",
   "metadata": {
    "tags": []
   },
   "outputs": [
    {
     "data": {
      "text/latex": [
       "Compute the on-site Bose-Hubbard Interaction term.\n",
       "\n",
       "\\paragraph{Arguments:}\n",
       "\\begin{itemize}\n",
       "\\item \\texttt{P::Operator}: Projection operator.\n",
       "\n",
       "\n",
       "\\item \\texttt{Pt::Operator}: Complex conjugate of Projection operator.\n",
       "\n",
       "\n",
       "\\item \\texttt{b\\_sub::SubSpaceBasis}: Created Sub-Space Basis by using get\\emph{projector}op.\n",
       "\n",
       "\n",
       "\\item \\texttt{cut-off::Integer}: A Integer variable.\n",
       "\n",
       "\\end{itemize}\n"
      ],
      "text/markdown": [
       "Compute the on-site Bose-Hubbard Interaction term.\n",
       "\n",
       "#### Arguments:\n",
       "\n",
       "  * `P::Operator`: Projection operator.\n",
       "  * `Pt::Operator`: Complex conjugate of Projection operator.\n",
       "  * `b_sub::SubSpaceBasis`: Created Sub-Space Basis by using get*projector*op.\n",
       "  * `cut-off::Integer`: A Integer variable.\n"
      ],
      "text/plain": [
       "  Compute the on-site Bose-Hubbard Interaction term.\n",
       "\n",
       "\u001b[1m  Arguments:\u001b[22m\n",
       "\u001b[1m  ------------\u001b[22m\n",
       "\n",
       "    •  \u001b[36mP::Operator\u001b[39m: Projection operator.\n",
       "\n",
       "    •  \u001b[36mPt::Operator\u001b[39m: Complex conjugate of Projection operator.\n",
       "\n",
       "    •  \u001b[36mb_sub::SubSpaceBasis\u001b[39m: Created Sub-Space Basis by using\n",
       "       get\u001b[4mprojector\u001b[24mop.\n",
       "\n",
       "    •  \u001b[36mcut-off::Integer\u001b[39m: A Integer variable."
      ]
     },
     "execution_count": 20,
     "metadata": {},
     "output_type": "execute_result"
    }
   ],
   "source": [
    "@doc Hubbard_Interaction"
   ]
  },
  {
   "cell_type": "code",
   "execution_count": 21,
   "id": "d228561d-92e0-4e56-8eb3-0747bc107238",
   "metadata": {
    "tags": []
   },
   "outputs": [
    {
     "data": {
      "text/plain": [
       "Hofstadter_Finite_U (generic function with 1 method)"
      ]
     },
     "execution_count": 21,
     "metadata": {},
     "output_type": "execute_result"
    }
   ],
   "source": [
    "@nbinclude(\"Hofstadter MB in Julia.ipynb\"; regex=r\"#.*executeme\")"
   ]
  },
  {
   "cell_type": "code",
   "execution_count": 22,
   "id": "dutch-philosophy",
   "metadata": {
    "tags": []
   },
   "outputs": [],
   "source": [
    "H_Int_MB5 = Hubbard_Interaction(P, Pt, b_sub, cut_off);"
   ]
  },
  {
   "cell_type": "markdown",
   "id": "851a46f6-53fc-473c-b8c3-b056cedd4120",
   "metadata": {},
   "source": [
    "# Controlling Many-Body Function in QoJulia Freamwork"
   ]
  },
  {
   "cell_type": "code",
   "execution_count": 23,
   "id": "civil-constitutional",
   "metadata": {
    "tags": []
   },
   "outputs": [],
   "source": [
    "# function manybodyoperator_2_Hubbard(basis::ManyBodyBasis, op::SparseOpType)\n",
    "#     N = length(basis)\n",
    "#     S = length(basis.onebodybasis)\n",
    "#     result = SparseOperator(basis)\n",
    "#     occupations = basis.occupations\n",
    "#     rows = QuantumOpticsBase.rowvals(op.data)\n",
    "#     values = QuantumOpticsBase.nonzeros(op.data)\n",
    "#     @inbounds for column=1:S^2, j in QuantumOpticsBase.nzrange(op.data, column)\n",
    "#         row = rows[j]\n",
    "#         value = values[j]\n",
    "#         index = Tuple(CartesianIndices((S, S, S, S))[(column-1)*S^2 + row])\n",
    "#         for m=1:N, n=1:N\n",
    "#             # println(\"row:\", row, \" column:\"column, ind_left)\n",
    "#             C = QuantumOpticsBase.coefficient(occupations[m], occupations[n], index[1:2], index[3:4])\n",
    "#             if C!=0.\n",
    "#                 result.data[m,n] += C*value\n",
    "#             end\n",
    "#         end\n",
    "#     end\n",
    "#     return result\n",
    "# end"
   ]
  },
  {
   "cell_type": "markdown",
   "id": "865cc1d6-3246-4f5a-9c75-dfe67eab2040",
   "metadata": {},
   "source": [
    "# Constructing Total Hamiltonians "
   ]
  },
  {
   "cell_type": "code",
   "execution_count": 24,
   "id": "technical-technology",
   "metadata": {
    "tags": []
   },
   "outputs": [],
   "source": [
    "bcut_mb, bcut = get_Bosonic_MB_Basis(cut_off,PN)\n",
    "H1cut = SparseOperator(bcut_mb)\n",
    "H1cut.data = H1_MB.data\n",
    "H1_MB\n",
    "\n",
    "H_MB5 = H1cut + H_Int_MB5;"
   ]
  },
  {
   "cell_type": "code",
   "execution_count": null,
   "id": "d1637cc5-14b1-46c7-9da4-4845c303e6d4",
   "metadata": {
    "tags": []
   },
   "outputs": [],
   "source": [
    "number_sp_list_operators = []\n",
    "for i in 1:N\n",
    "    number_sp_list = Operator(bcut, num_sub_list[i].data)\n",
    "    push!(number_sp_list_operators, number_sp_list)\n",
    "end\n",
    "number_mb_list_operators = []\n",
    "for i in 1:N\n",
    "    number_mb_list = manybodyoperator(bcut_mb, number_sp_list_operators[i])\n",
    "    push!(number_mb_list_operators, number_mb_list)\n",
    "end"
   ]
  },
  {
   "cell_type": "markdown",
   "id": "3f1b1096-6ac2-4940-9e20-a7b79871a0a7",
   "metadata": {},
   "source": [
    "# Exact-Diagonalization"
   ]
  },
  {
   "cell_type": "code",
   "execution_count": null,
   "id": "436255b0-474b-4d97-8672-a458428a7a3d",
   "metadata": {
    "tags": []
   },
   "outputs": [],
   "source": [
    "using DataFrames\n",
    "\n",
    "Hubbard_States = eigenstates(dense(dense((H_MB5+dagger(H_MB5))/2)))\n",
    "\n",
    "function get_energies(pn, states, basis)\n",
    "    PN_Energies = Array{Float64}(undef, length(states[1]), 2)\n",
    "    for i in 1:length(states[1])\n",
    "        PN_Energies[i] = round(expect(number(basis), states[2][i])) #expected values (first column)\n",
    "        PN_Energies[i,2] = states[1][i] #eigen-values (second column)\n",
    "    end\n",
    "    df = DataFrame(PN_Energies, :auto)\n",
    "    df = filter(row -> (row.x1 == pn),  df)\n",
    "    \n",
    "    return df\n",
    "end"
   ]
  },
  {
   "cell_type": "code",
   "execution_count": null,
   "id": "0fc34877-b975-44a9-bdf1-171087768b75",
   "metadata": {
    "tags": []
   },
   "outputs": [],
   "source": [
    "pn=2.0\n",
    "df = get_energies(pn, Hubbard_States, bcut_mb)"
   ]
  },
  {
   "cell_type": "markdown",
   "id": "aaca712c-b257-494d-bc14-71ded4bb8410",
   "metadata": {},
   "source": [
    "Allta ki fonksiyonun çalışması için, dizide ki filtre edilmiş parçacık sayısı her zaman en büyük değer olmalıdır.\n",
    "Örneğin, `PN=[0,1,2,3,4]` iken filtre edilen parçacık sayısı `pn=4` olmalıdır!"
   ]
  },
  {
   "cell_type": "code",
   "execution_count": null,
   "id": "d582d7a3-67c3-4775-bcb8-2862643ca5ac",
   "metadata": {
    "tags": []
   },
   "outputs": [],
   "source": [
    "function Restricted_Hubbard_States(df ,states)\n",
    "    Energies_for_spesific_particle_number = Matrix(df)[:,2]\n",
    "    number_of_states = length(Energies_for_spesific_particle_number)\n",
    "    return states[2][1:number_of_states];\n",
    "end"
   ]
  },
  {
   "cell_type": "code",
   "execution_count": null,
   "id": "da17cb7c-bc14-4026-adae-386b3b5b2083",
   "metadata": {
    "tags": []
   },
   "outputs": [],
   "source": [
    "r_hubbard_states = Restricted_Hubbard_States(df , Hubbard_States);"
   ]
  },
  {
   "cell_type": "markdown",
   "id": "14aea968-4016-4dc6-965b-e194bc4b4944",
   "metadata": {},
   "source": [
    "# Density Profile"
   ]
  },
  {
   "cell_type": "code",
   "execution_count": null,
   "id": "36f916a4-68d4-4448-ac28-a27d6f24ce86",
   "metadata": {
    "tags": []
   },
   "outputs": [],
   "source": [
    "# METHOD 1\n",
    "\n",
    "NM_MB_Array_Storage = zeros(Complex{Float64},length(bcut_mb),length(bcut_mb),N);\n",
    "NM_MB_Matrix = zeros(Complex{Float64},length(bcut_mb),length(bcut_mb));\n",
    "for m in 1:N\n",
    "    for i in 1:length(bcut_mb)\n",
    "        for j in 1:length(bcut_mb)\n",
    "            NM_MB_Matrix[i,j] = num_mb_list[m].data[i,j]\n",
    "        end\n",
    "    end\n",
    "    NM_MB_Array_Storage[:,:,m] = NM_MB_Matrix\n",
    "end\n",
    "BL = BR = bcut_mb\n",
    "index_number_op = 4\n",
    "T = NM_MB_Array_Storage[:,:,index_number_op]\n",
    "Op = Operator(BL,BR,T)\n",
    "index_eigen_states = 1\n",
    "expect(Op, r_hubbard_states[index_eigen_states])"
   ]
  },
  {
   "cell_type": "code",
   "execution_count": null,
   "id": "0c381e89-15a3-4512-8ba6-1f12ffd5adc3",
   "metadata": {
    "tags": []
   },
   "outputs": [],
   "source": [
    "#or"
   ]
  },
  {
   "cell_type": "code",
   "execution_count": null,
   "id": "3b54f1a6-a4e4-40b1-8ee0-fe552e1fc1f0",
   "metadata": {
    "tags": []
   },
   "outputs": [],
   "source": [
    "# METHOD 2\n",
    "expect(number_mb_list_operators[index_number_op],r_hubbard_states[index_eigen_states])"
   ]
  },
  {
   "cell_type": "code",
   "execution_count": null,
   "id": "eb2700e3-348a-41e7-abf1-6f5f59e3705a",
   "metadata": {
    "tags": []
   },
   "outputs": [],
   "source": [
    "PN"
   ]
  },
  {
   "cell_type": "code",
   "execution_count": null,
   "id": "81ff12cd-947c-4e4f-8b89-b4fc77c3f747",
   "metadata": {
    "tags": []
   },
   "outputs": [],
   "source": [
    "# index_eig_states = 15\n",
    "# Sum = 0\n",
    "# expect_list=[]\n",
    "\n",
    "# for i in 1:N\n",
    "#     T = NM_MB_Array_Storage[:,:,i]\n",
    "#     Op = Operator(BL,BR,T)\n",
    "#     n_i = 0\n",
    "#     for index_eig_states in 1:q        \n",
    "#         Sum += expect(Op, r_hubbard_states[index_eig_states])\n",
    "#         #println(i,\"\\t\",expect(Op, r_hubbard_states[index_eig_states]))\n",
    "#         n_i += expect(Op, r_hubbard_states[index_eig_states])\n",
    "#     end\n",
    "#     push!(expect_list,n_i)\n",
    "# end\n",
    "# print(\"Total Particle Number:\", Sum)"
   ]
  },
  {
   "cell_type": "code",
   "execution_count": null,
   "id": "76f88a82-5b2a-42be-8493-09d88c08e621",
   "metadata": {
    "tags": []
   },
   "outputs": [],
   "source": [
    "index_eig_states = 201\n",
    "Sum = 0\n",
    "expect_list=[]\n",
    "\n",
    "for i in 1:N\n",
    "    T = NM_MB_Array_Storage[:,:,i]\n",
    "    Op = Operator(BL,BR,T)      \n",
    "    Sum += expect(Op, r_hubbard_states[index_eig_states])\n",
    "    #println(i,\"\\t\",expect(Op, r_hubbard_states[index_eig_states]))\n",
    "    push!(expect_list,expect(Op, r_hubbard_states[index_eig_states]))\n",
    "end\n",
    "print(\"Total Particle Number:\", Sum)"
   ]
  },
  {
   "cell_type": "code",
   "execution_count": null,
   "id": "0bc8aee0-82b0-41f1-9540-bbda21f62eed",
   "metadata": {
    "tags": []
   },
   "outputs": [],
   "source": [
    "using Plots\n",
    "plot(1:length(Hubbard_States[1]),Hubbard_States[1],seriestype=:scatter)"
   ]
  },
  {
   "cell_type": "code",
   "execution_count": null,
   "id": "bc80592c-045b-4898-9a4b-c414e446434f",
   "metadata": {
    "tags": []
   },
   "outputs": [],
   "source": [
    "z = reshape(real(expect_list), Nx, Ny)\n",
    "heatmap(z, c=:thermal, xlabel=\"x\", ylabel=\"y\", title=(\"Nx=$Nx,Ny=$Ny,co=$cut_off,PN=$pn,U=$U \\n Psi($index_eig_states), Periodicity=$periodicity\"))"
   ]
  },
  {
   "cell_type": "markdown",
   "id": "c8ba1c1a-0466-4c0e-ae50-68651ddddd72",
   "metadata": {},
   "source": [
    "# Animation"
   ]
  },
  {
   "cell_type": "code",
   "execution_count": 45,
   "id": "3b94f5ae-a205-48ea-9ed7-bac8407b3a50",
   "metadata": {
    "tags": []
   },
   "outputs": [
    {
     "data": {
      "text/plain": [
       "animated_e_l (generic function with 1 method)"
      ]
     },
     "execution_count": 45,
     "metadata": {},
     "output_type": "execute_result"
    }
   ],
   "source": [
    "animated_exp_list = zeros(N,1,length(r_hubbard_states))\n",
    "function animated_e_l()\n",
    "    for i in 1:length(r_hubbard_states)\n",
    "        expect_list=[]\n",
    "        for j in 1:N\n",
    "            T = NM_MB_Array_Storage[:,:,j]\n",
    "            Op = Operator(BL,BR,T)\n",
    "            push!(expect_list,expect(Op, r_hubbard_states[i]))\n",
    "        end\n",
    "        animated_exp_list[:,:,i] = real(expect_list)\n",
    "    end\n",
    "    return animated_exp_list\n",
    "end"
   ]
  },
  {
   "cell_type": "code",
   "execution_count": 35,
   "id": "4476fa87-c99f-4428-a0d5-473049a5893a",
   "metadata": {
    "tags": []
   },
   "outputs": [
    {
     "data": {
      "image/svg+xml": [
       "<?xml version=\"1.0\" encoding=\"utf-8\"?>\n",
       "<svg xmlns=\"http://www.w3.org/2000/svg\" xmlns:xlink=\"http://www.w3.org/1999/xlink\" width=\"600\" height=\"400\" viewBox=\"0 0 2400 1600\">\n",
       "<defs>\n",
       "  <clipPath id=\"clip980\">\n",
       "    <rect x=\"0\" y=\"0\" width=\"2400\" height=\"1600\"/>\n",
       "  </clipPath>\n",
       "</defs>\n",
       "<path clip-path=\"url(#clip980)\" d=\"M0 1600 L2400 1600 L2400 0 L0 0  Z\" fill=\"#ffffff\" fill-rule=\"evenodd\" fill-opacity=\"1\"/>\n",
       "<defs>\n",
       "  <clipPath id=\"clip981\">\n",
       "    <rect x=\"480\" y=\"0\" width=\"1681\" height=\"1600\"/>\n",
       "  </clipPath>\n",
       "</defs>\n",
       "<path clip-path=\"url(#clip980)\" d=\"M140.696 1486.45 L2112.76 1486.45 L2112.76 47.2441 L140.696 47.2441  Z\" fill=\"#ffffff\" fill-rule=\"evenodd\" fill-opacity=\"1\"/>\n",
       "<defs>\n",
       "  <clipPath id=\"clip982\">\n",
       "    <rect x=\"140\" y=\"47\" width=\"1973\" height=\"1440\"/>\n",
       "  </clipPath>\n",
       "</defs>\n",
       "<polyline clip-path=\"url(#clip982)\" style=\"stroke:#000000; stroke-linecap:round; stroke-linejoin:round; stroke-width:2; stroke-opacity:0.1; fill:none\" points=\"584.409,1486.45 584.409,47.2441 \"/>\n",
       "<polyline clip-path=\"url(#clip982)\" style=\"stroke:#000000; stroke-linecap:round; stroke-linejoin:round; stroke-width:2; stroke-opacity:0.1; fill:none\" points=\"1077.42,1486.45 1077.42,47.2441 \"/>\n",
       "<polyline clip-path=\"url(#clip982)\" style=\"stroke:#000000; stroke-linecap:round; stroke-linejoin:round; stroke-width:2; stroke-opacity:0.1; fill:none\" points=\"1570.44,1486.45 1570.44,47.2441 \"/>\n",
       "<polyline clip-path=\"url(#clip982)\" style=\"stroke:#000000; stroke-linecap:round; stroke-linejoin:round; stroke-width:2; stroke-opacity:0.1; fill:none\" points=\"2063.45,1486.45 2063.45,47.2441 \"/>\n",
       "<polyline clip-path=\"url(#clip980)\" style=\"stroke:#000000; stroke-linecap:round; stroke-linejoin:round; stroke-width:4; stroke-opacity:1; fill:none\" points=\"140.696,1486.45 2112.76,1486.45 \"/>\n",
       "<polyline clip-path=\"url(#clip980)\" style=\"stroke:#000000; stroke-linecap:round; stroke-linejoin:round; stroke-width:4; stroke-opacity:1; fill:none\" points=\"584.409,1486.45 584.409,1467.55 \"/>\n",
       "<polyline clip-path=\"url(#clip980)\" style=\"stroke:#000000; stroke-linecap:round; stroke-linejoin:round; stroke-width:4; stroke-opacity:1; fill:none\" points=\"1077.42,1486.45 1077.42,1467.55 \"/>\n",
       "<polyline clip-path=\"url(#clip980)\" style=\"stroke:#000000; stroke-linecap:round; stroke-linejoin:round; stroke-width:4; stroke-opacity:1; fill:none\" points=\"1570.44,1486.45 1570.44,1467.55 \"/>\n",
       "<polyline clip-path=\"url(#clip980)\" style=\"stroke:#000000; stroke-linecap:round; stroke-linejoin:round; stroke-width:4; stroke-opacity:1; fill:none\" points=\"2063.45,1486.45 2063.45,1467.55 \"/>\n",
       "<path clip-path=\"url(#clip980)\" d=\"M574.687 1514.29 L593.043 1514.29 L593.043 1518.22 L578.969 1518.22 L578.969 1526.7 Q579.988 1526.35 581.006 1526.19 Q582.025 1526 583.043 1526 Q588.83 1526 592.21 1529.17 Q595.59 1532.34 595.59 1537.76 Q595.59 1543.34 592.117 1546.44 Q588.645 1549.52 582.326 1549.52 Q580.15 1549.52 577.881 1549.15 Q575.636 1548.78 573.229 1548.04 L573.229 1543.34 Q575.312 1544.47 577.534 1545.03 Q579.756 1545.58 582.233 1545.58 Q586.238 1545.58 588.576 1543.48 Q590.914 1541.37 590.914 1537.76 Q590.914 1534.15 588.576 1532.04 Q586.238 1529.94 582.233 1529.94 Q580.358 1529.94 578.483 1530.35 Q576.631 1530.77 574.687 1531.65 L574.687 1514.29 Z\" fill=\"#000000\" fill-rule=\"evenodd\" fill-opacity=\"1\" /><path clip-path=\"url(#clip980)\" d=\"M1052.11 1544.91 L1059.75 1544.91 L1059.75 1518.55 L1051.44 1520.21 L1051.44 1515.95 L1059.7 1514.29 L1064.38 1514.29 L1064.38 1544.91 L1072.02 1544.91 L1072.02 1548.85 L1052.11 1548.85 L1052.11 1544.91 Z\" fill=\"#000000\" fill-rule=\"evenodd\" fill-opacity=\"1\" /><path clip-path=\"url(#clip980)\" d=\"M1091.46 1517.37 Q1087.85 1517.37 1086.02 1520.93 Q1084.22 1524.47 1084.22 1531.6 Q1084.22 1538.71 1086.02 1542.27 Q1087.85 1545.82 1091.46 1545.82 Q1095.1 1545.82 1096.9 1542.27 Q1098.73 1538.71 1098.73 1531.6 Q1098.73 1524.47 1096.9 1520.93 Q1095.1 1517.37 1091.46 1517.37 M1091.46 1513.66 Q1097.27 1513.66 1100.33 1518.27 Q1103.41 1522.85 1103.41 1531.6 Q1103.41 1540.33 1100.33 1544.94 Q1097.27 1549.52 1091.46 1549.52 Q1085.65 1549.52 1082.57 1544.94 Q1079.52 1540.33 1079.52 1531.6 Q1079.52 1522.85 1082.57 1518.27 Q1085.65 1513.66 1091.46 1513.66 Z\" fill=\"#000000\" fill-rule=\"evenodd\" fill-opacity=\"1\" /><path clip-path=\"url(#clip980)\" d=\"M1545.62 1544.91 L1553.26 1544.91 L1553.26 1518.55 L1544.95 1520.21 L1544.95 1515.95 L1553.22 1514.29 L1557.89 1514.29 L1557.89 1544.91 L1565.53 1544.91 L1565.53 1548.85 L1545.62 1548.85 L1545.62 1544.91 Z\" fill=\"#000000\" fill-rule=\"evenodd\" fill-opacity=\"1\" /><path clip-path=\"url(#clip980)\" d=\"M1575.02 1514.29 L1593.38 1514.29 L1593.38 1518.22 L1579.3 1518.22 L1579.3 1526.7 Q1580.32 1526.35 1581.34 1526.19 Q1582.36 1526 1583.38 1526 Q1589.17 1526 1592.55 1529.17 Q1595.93 1532.34 1595.93 1537.76 Q1595.93 1543.34 1592.45 1546.44 Q1588.98 1549.52 1582.66 1549.52 Q1580.49 1549.52 1578.22 1549.15 Q1575.97 1548.78 1573.56 1548.04 L1573.56 1543.34 Q1575.65 1544.47 1577.87 1545.03 Q1580.09 1545.58 1582.57 1545.58 Q1586.57 1545.58 1588.91 1543.48 Q1591.25 1541.37 1591.25 1537.76 Q1591.25 1534.15 1588.91 1532.04 Q1586.57 1529.94 1582.57 1529.94 Q1580.69 1529.94 1578.82 1530.35 Q1576.97 1530.77 1575.02 1531.65 L1575.02 1514.29 Z\" fill=\"#000000\" fill-rule=\"evenodd\" fill-opacity=\"1\" /><path clip-path=\"url(#clip980)\" d=\"M2042.23 1544.91 L2058.55 1544.91 L2058.55 1548.85 L2036.6 1548.85 L2036.6 1544.91 Q2039.26 1542.16 2043.85 1537.53 Q2048.45 1532.88 2049.64 1531.53 Q2051.88 1529.01 2052.76 1527.27 Q2053.66 1525.51 2053.66 1523.82 Q2053.66 1521.07 2051.72 1519.33 Q2049.8 1517.6 2046.7 1517.6 Q2044.5 1517.6 2042.04 1518.36 Q2039.61 1519.13 2036.83 1520.68 L2036.83 1515.95 Q2039.66 1514.82 2042.11 1514.24 Q2044.57 1513.66 2046.6 1513.66 Q2051.97 1513.66 2055.17 1516.35 Q2058.36 1519.03 2058.36 1523.52 Q2058.36 1525.65 2057.55 1527.57 Q2056.76 1529.47 2054.66 1532.07 Q2054.08 1532.74 2050.98 1535.95 Q2047.88 1539.15 2042.23 1544.91 Z\" fill=\"#000000\" fill-rule=\"evenodd\" fill-opacity=\"1\" /><path clip-path=\"url(#clip980)\" d=\"M2078.36 1517.37 Q2074.75 1517.37 2072.92 1520.93 Q2071.12 1524.47 2071.12 1531.6 Q2071.12 1538.71 2072.92 1542.27 Q2074.75 1545.82 2078.36 1545.82 Q2082 1545.82 2083.8 1542.27 Q2085.63 1538.71 2085.63 1531.6 Q2085.63 1524.47 2083.8 1520.93 Q2082 1517.37 2078.36 1517.37 M2078.36 1513.66 Q2084.17 1513.66 2087.23 1518.27 Q2090.31 1522.85 2090.31 1531.6 Q2090.31 1540.33 2087.23 1544.94 Q2084.17 1549.52 2078.36 1549.52 Q2072.55 1549.52 2069.47 1544.94 Q2066.42 1540.33 2066.42 1531.6 Q2066.42 1522.85 2069.47 1518.27 Q2072.55 1513.66 2078.36 1513.66 Z\" fill=\"#000000\" fill-rule=\"evenodd\" fill-opacity=\"1\" /><polyline clip-path=\"url(#clip982)\" style=\"stroke:#000000; stroke-linecap:round; stroke-linejoin:round; stroke-width:2; stroke-opacity:0.1; fill:none\" points=\"140.696,1162.63 2112.76,1162.63 \"/>\n",
       "<polyline clip-path=\"url(#clip982)\" style=\"stroke:#000000; stroke-linecap:round; stroke-linejoin:round; stroke-width:2; stroke-opacity:0.1; fill:none\" points=\"140.696,802.826 2112.76,802.826 \"/>\n",
       "<polyline clip-path=\"url(#clip982)\" style=\"stroke:#000000; stroke-linecap:round; stroke-linejoin:round; stroke-width:2; stroke-opacity:0.1; fill:none\" points=\"140.696,443.025 2112.76,443.025 \"/>\n",
       "<polyline clip-path=\"url(#clip982)\" style=\"stroke:#000000; stroke-linecap:round; stroke-linejoin:round; stroke-width:2; stroke-opacity:0.1; fill:none\" points=\"140.696,83.2242 2112.76,83.2242 \"/>\n",
       "<polyline clip-path=\"url(#clip980)\" style=\"stroke:#000000; stroke-linecap:round; stroke-linejoin:round; stroke-width:4; stroke-opacity:1; fill:none\" points=\"140.696,1486.45 140.696,47.2441 \"/>\n",
       "<polyline clip-path=\"url(#clip980)\" style=\"stroke:#000000; stroke-linecap:round; stroke-linejoin:round; stroke-width:4; stroke-opacity:1; fill:none\" points=\"140.696,1162.63 157.543,1162.63 \"/>\n",
       "<polyline clip-path=\"url(#clip980)\" style=\"stroke:#000000; stroke-linecap:round; stroke-linejoin:round; stroke-width:4; stroke-opacity:1; fill:none\" points=\"140.696,802.826 157.543,802.826 \"/>\n",
       "<polyline clip-path=\"url(#clip980)\" style=\"stroke:#000000; stroke-linecap:round; stroke-linejoin:round; stroke-width:4; stroke-opacity:1; fill:none\" points=\"140.696,443.025 157.543,443.025 \"/>\n",
       "<polyline clip-path=\"url(#clip980)\" style=\"stroke:#000000; stroke-linecap:round; stroke-linejoin:round; stroke-width:4; stroke-opacity:1; fill:none\" points=\"140.696,83.2242 157.543,83.2242 \"/>\n",
       "<path clip-path=\"url(#clip980)\" d=\"M83.7929 1145.35 L102.149 1145.35 L102.149 1149.28 L88.0753 1149.28 L88.0753 1157.75 Q89.0938 1157.41 90.1123 1157.25 Q91.1308 1157.06 92.1493 1157.06 Q97.9363 1157.06 101.316 1160.23 Q104.696 1163.4 104.696 1168.82 Q104.696 1174.4 101.223 1177.5 Q97.7511 1180.58 91.4317 1180.58 Q89.2558 1180.58 86.9873 1180.21 Q84.7419 1179.84 82.3346 1179.1 L82.3346 1174.4 Q84.4179 1175.53 86.6401 1176.09 Q88.8623 1176.64 91.3391 1176.64 Q95.3437 1176.64 97.6817 1174.54 Q100.02 1172.43 100.02 1168.82 Q100.02 1165.21 97.6817 1163.1 Q95.3437 1161 91.3391 1161 Q89.4641 1161 87.5892 1161.41 Q85.7373 1161.83 83.7929 1162.71 L83.7929 1145.35 Z\" fill=\"#000000\" fill-rule=\"evenodd\" fill-opacity=\"1\" /><path clip-path=\"url(#clip980)\" d=\"M53.3995 816.171 L61.0384 816.171 L61.0384 789.805 L52.7282 791.472 L52.7282 787.213 L60.9921 785.546 L65.668 785.546 L65.668 816.171 L73.3068 816.171 L73.3068 820.106 L53.3995 820.106 L53.3995 816.171 Z\" fill=\"#000000\" fill-rule=\"evenodd\" fill-opacity=\"1\" /><path clip-path=\"url(#clip980)\" d=\"M92.7512 788.625 Q89.1401 788.625 87.3114 792.19 Q85.5058 795.731 85.5058 802.861 Q85.5058 809.967 87.3114 813.532 Q89.1401 817.074 92.7512 817.074 Q96.3854 817.074 98.1909 813.532 Q100.02 809.967 100.02 802.861 Q100.02 795.731 98.1909 792.19 Q96.3854 788.625 92.7512 788.625 M92.7512 784.921 Q98.5613 784.921 101.617 789.528 Q104.696 794.111 104.696 802.861 Q104.696 811.588 101.617 816.194 Q98.5613 820.777 92.7512 820.777 Q86.941 820.777 83.8623 816.194 Q80.8068 811.588 80.8068 802.861 Q80.8068 794.111 83.8623 789.528 Q86.941 784.921 92.7512 784.921 Z\" fill=\"#000000\" fill-rule=\"evenodd\" fill-opacity=\"1\" /><path clip-path=\"url(#clip980)\" d=\"M54.3949 456.37 L62.0337 456.37 L62.0337 430.004 L53.7236 431.671 L53.7236 427.412 L61.9874 425.745 L66.6633 425.745 L66.6633 456.37 L74.3022 456.37 L74.3022 460.305 L54.3949 460.305 L54.3949 456.37 Z\" fill=\"#000000\" fill-rule=\"evenodd\" fill-opacity=\"1\" /><path clip-path=\"url(#clip980)\" d=\"M83.7929 425.745 L102.149 425.745 L102.149 429.68 L88.0753 429.68 L88.0753 438.152 Q89.0938 437.805 90.1123 437.643 Q91.1308 437.458 92.1493 437.458 Q97.9363 437.458 101.316 440.629 Q104.696 443.801 104.696 449.217 Q104.696 454.796 101.223 457.898 Q97.7511 460.976 91.4317 460.976 Q89.2558 460.976 86.9873 460.606 Q84.7419 460.236 82.3346 459.495 L82.3346 454.796 Q84.4179 455.93 86.6401 456.486 Q88.8623 457.041 91.3391 457.041 Q95.3437 457.041 97.6817 454.935 Q100.02 452.828 100.02 449.217 Q100.02 445.606 97.6817 443.5 Q95.3437 441.393 91.3391 441.393 Q89.4641 441.393 87.5892 441.81 Q85.7373 442.227 83.7929 443.106 L83.7929 425.745 Z\" fill=\"#000000\" fill-rule=\"evenodd\" fill-opacity=\"1\" /><path clip-path=\"url(#clip980)\" d=\"M56.6171 96.569 L72.9365 96.569 L72.9365 100.504 L50.9921 100.504 L50.9921 96.569 Q53.6541 93.8144 58.2375 89.1848 Q62.8439 84.5321 64.0245 83.1895 Q66.2698 80.6663 67.1494 78.9302 Q68.0522 77.171 68.0522 75.4812 Q68.0522 72.7266 66.1078 70.9905 Q64.1865 69.2544 61.0847 69.2544 Q58.8856 69.2544 56.4319 70.0182 Q54.0014 70.7821 51.2236 72.333 L51.2236 67.6108 Q54.0477 66.4766 56.5014 65.8979 Q58.955 65.3192 60.9921 65.3192 Q66.3624 65.3192 69.5568 68.0044 Q72.7513 70.6895 72.7513 75.1803 Q72.7513 77.3099 71.9411 79.2312 Q71.1541 81.1293 69.0476 83.7219 Q68.4689 84.3932 65.367 87.6107 Q62.2652 90.8052 56.6171 96.569 Z\" fill=\"#000000\" fill-rule=\"evenodd\" fill-opacity=\"1\" /><path clip-path=\"url(#clip980)\" d=\"M92.7512 69.0229 Q89.1401 69.0229 87.3114 72.5877 Q85.5058 76.1293 85.5058 83.2589 Q85.5058 90.3654 87.3114 93.9302 Q89.1401 97.4718 92.7512 97.4718 Q96.3854 97.4718 98.1909 93.9302 Q100.02 90.3654 100.02 83.2589 Q100.02 76.1293 98.1909 72.5877 Q96.3854 69.0229 92.7512 69.0229 M92.7512 65.3192 Q98.5613 65.3192 101.617 69.9256 Q104.696 74.509 104.696 83.2589 Q104.696 91.9857 101.617 96.5922 Q98.5613 101.175 92.7512 101.175 Q86.941 101.175 83.8623 96.5922 Q80.8068 91.9857 80.8068 83.2589 Q80.8068 74.509 83.8623 69.9256 Q86.941 65.3192 92.7512 65.3192 Z\" fill=\"#000000\" fill-rule=\"evenodd\" fill-opacity=\"1\" /><g clip-path=\"url(#clip982)\">\n",
       "<image width=\"1972\" height=\"1439\" xlink:href=\"data:image/png;base64,\n",
       "iVBORw0KGgoAAAANSUhEUgAAB7QAAAWfCAYAAAArpcnjAAAgAElEQVR4nOzbwapVZRyH4f86bssI\n",
       "K4kgxJo6spuQRiZ0A11dNxBEo+6iIHIUVFQSUSiR6fGsJksoSogm3xs8zxX84Busvdb77W3mtA8A\n",
       "AAAAAAAAxJytHgAAAAAAAAAA/0TQBgAAAAAAACBJ0AYAAAAAAAAgSdAGAAAAAAAAIEnQBgAAAAAA\n",
       "ACBJ0AYAAAAAAAAgSdAGAAAAAAAAIEnQBgAAAAAAACBJ0AYAAAAAAAAgSdAGAAAAAAAAIEnQBgAA\n",
       "AAAAACBJ0AYAAAAAAAAgSdAGAAAAAAAAIEnQBgAAAAAAACBJ0AYAAAAAAAAgSdAGAAAAAAAAIEnQ\n",
       "BgAAAAAAACBJ0AYAAAAAAAAgSdAGAAAAAAAAIEnQBgAAAAAAACBJ0AYAAAAAAAAgSdAGAAAAAAAA\n",
       "IEnQBgAAAAAAACBJ0AYAAAAAAAAgSdAGAAAAAAAAIEnQBgAAAAAAACBJ0AYAAAAAAAAgSdAGAAAA\n",
       "AAAAIEnQBgAAAAAAACBJ0AYAAAAAAAAgSdAGAAAAAAAAIEnQBgAAAAAAACBJ0AYAAAAAAAAgSdAG\n",
       "AAAAAAAAIEnQBgAAAAAAACBJ0AYAAAAAAAAgSdAGAAAAAAAAIEnQBgAAAAAAACBJ0AYAAAAAAAAg\n",
       "SdAGAAAAAAAAIEnQBgAAAAAAACBJ0AYAAAAAAAAgSdAGAAAAAAAAIEnQBgAAAAAAACBJ0AYAAAAA\n",
       "AAAgSdAGAAAAAAAAIEnQBgAAAAAAACBJ0AYAAAAAAAAgSdAGAAAAAAAAIEnQBgAAAAAAACBJ0AYA\n",
       "AAAAAAAgSdAGAAAAAAAAIEnQBgAAAAAAACBJ0AYAAAAAAAAgSdAGAAAAAAAAIEnQBgAAAAAAACBJ\n",
       "0AYAAAAAAAAgSdAGAAAAAAAAIEnQBgAAAAAAACBJ0AYAAAAAAAAgSdAGAAAAAAAAIEnQBgAAAAAA\n",
       "ACBJ0AYAAAAAAAAgSdAGAAAAAAAAIEnQBgAAAAAAACBJ0AYAAAAAAAAgSdAGAAAAAAAAIEnQBgAA\n",
       "AAAAACBJ0AYAAAAAAAAgSdAGAAAAAAAAIEnQBgAAAAAAACBJ0AYAAAAAAAAgSdAGAAAAAAAAIEnQ\n",
       "BgAAAAAAACBJ0AYAAAAAAAAgSdAGAAAAAAAAIEnQBgAAAAAAACBJ0AYAAAAAAAAgSdAGAAAAAAAA\n",
       "IEnQBgAAAAAAACBJ0AYAAAAAAAAgSdAGAAAAAAAAIEnQBgAAAAAAACBJ0AYAAAAAAAAgSdAGAAAA\n",
       "AAAAIEnQBgAAAAAAACBJ0AYAAAAAAAAgSdAGAAAAAAAAIEnQBgAAAAAAACBJ0AYAAAAAAAAgSdAG\n",
       "AAAAAAAAIEnQBgAAAAAAACBJ0AYAAAAAAAAgSdAGAAAAAAAAIEnQBgAAAAAAACBJ0AYAAAAAAAAg\n",
       "SdAGAAAAAAAAIEnQBgAAAAAAACBJ0AYAAAAAAAAgSdAGAAAAAAAAIEnQBgAAAAAAACBJ0AYAAAAA\n",
       "AAAgSdAGAAAAAAAAIEnQBgAAAAAAACBJ0AYAAAAAAAAgSdAGAAAAAAAAIEnQBgAAAAAAACBJ0AYA\n",
       "AAAAAAAgSdAGAAAAAAAAIEnQBgAAAAAAACBJ0AYAAAAAAAAgSdAGAAAAAAAAIEnQBgAAAAAAACBJ\n",
       "0AYAAAAAAAAgSdAGAAAAAAAAIEnQBgAAAAAAACBJ0AYAAAAAAAAgSdAGAAAAAAAAIEnQBgAAAAAA\n",
       "ACBJ0AYAAAAAAAAgSdAGAAAAAAAAIEnQBgAAAAAAACBJ0AYAAAAAAAAgSdAGAAAAAAAAIEnQBgAA\n",
       "AAAAACBJ0AYAAAAAAAAgSdAGAAAAAAAAIEnQBgAAAAAAACBJ0AYAAAAAAAAgSdAGAAAAAAAAIEnQ\n",
       "BgAAAAAAACBJ0AYAAAAAAAAgSdAGAAAAAAAAIEnQBgAAAAAAACBJ0AYAAAAAAAAgSdAGAAAAAAAA\n",
       "IEnQBgAAAAAAACBJ0AYAAAAAAAAgSdAGAAAAAAAAIEnQBgAAAAAAACBJ0AYAAAAAAAAgSdAGAAAA\n",
       "AAAAIEnQBgAAAAAAACDptHoAAADw/7atHsCfOA34q331AA5OAgAA+K/8QxsAAAAAAACAJEEbAAAA\n",
       "AAAAgCRBGwAAAAAAAIAkQRsAAAAAAACAJEEbAAAAAAAAgCRBGwAAAAAAAIAkQRsAAAAAAACAJEEb\n",
       "AAAAAAAAgCRBGwAAAAAAAIAkQRsAAAAAAACAJEEbAAAAAAAAgCRBGwAAAAAAAIAkQRsAAAAAAACA\n",
       "JEEbAAAAAAAAgCRBGwAAAAAAAIAkQRsAAAAAAACAJEEbAAAAAAAAgCRBGwAAAAAAAIAkQRsAAAAA\n",
       "AACAJEEbAAAAAAAAgCRBGwAAAAAAAIAkQRsAAAAAAACAJEEbAAAAAAAAgCRBGwAAAAAAAIAkQRsA\n",
       "AAAAAACAJEEbAAAAAAAAgCRBGwAAAAAAAIAkQRsAAAAAAACAJEEbAAAAAAAAgCRBGwAAAAAAAIAk\n",
       "QRsAAAAAAACAJEEbAAAAAAAAgCRBGwAAAAAAAIAkQRsAAAAAAACAJEEbAAAAAAAAgCRBGwAAAAAA\n",
       "AIAkQRsAAAAAAACAJEEbAAAAAAAAgCRBGwAAAAAAAIAkQRsAAAAAAACAJEEbAAAAAAAAgCRBGwAA\n",
       "AAAAAIAkQRsAAAAAAACAJEEbAAAAAAAAgCRBGwAAAAAAAIAkQRsAAAAAAACAJEEbAAAAAAAAgCRB\n",
       "GwAAAAAAAIAkQRsAAAAAAACAJEEbAAAAAAAAgCRBGwAAAAAAAIAkQRsAAAAAAACAJEEbAAAAAAAA\n",
       "gCRBGwAAAAAAAIAkQRsAAAAAAACAJEEbAAAAAAAAgCRBGwAAAAAAAIAkQRsAAAAAAACAJEEbAAAA\n",
       "AAAAgCRBGwAAAAAAAIAkQRsAAAAAAACAJEEbAAAAAAAAgCRBGwAAAAAAAIAkQRsAAAAAAACAJEEb\n",
       "AAAAAAAAgCRBGwAAAAAAAIAkQRsAAAAAAACAJEEbAAAAAAAAgCRBGwAAAAAAAIAkQRsAAAAAAACA\n",
       "JEEbAAAAAAAAgKTT6gEAwL+zzbZ6As9s7gRWbHNp9QRmZjbn0OFZAX+1rx7AYdufrp7AzOzjHDL2\n",
       "i9ULmJndcwIA/hd8jQUAAAAAAAAgSdAGAAAAAAAAIEnQBgAAAAAAACBJ0AYAAAAAAAAgSdAGAAAA\n",
       "AAAAIEnQBgAAAAAAACBJ0AYAAAAAAAAgSdAGAAAAAAAAIEnQBgAAAAAAACBJ0AYAAAAAAAAgSdAG\n",
       "AAAAAAAAIEnQBgAAAAAAACBJ0AYAAAAAAAAgSdAGAAAAAAAAIEnQBgAAAAAAACBJ0AYAAAAAAAAg\n",
       "SdAGAAAAAAAAIEnQBgAAAAAAACBJ0AYAAAAAAAAgSdAGAAAAAAAAIEnQBgAAAAAAACBJ0AYAAAAA\n",
       "AAAgSdAGAAAAAAAAIEnQBgAAAAAAACBJ0AYAAAAAAAAgSdAGAAAAAAAAIEnQBgAAAAAAACBJ0AYA\n",
       "AAAAAAAgSdAGAAAAAAAAIEnQBgAAAAAAACBJ0AYAAAAAAAAgSdAGAAAAAAAAIEnQBgAAAAAAACBJ\n",
       "0AYAAAAAAAAgSdAGAAAAAAAAIEnQBgAAAAAAACBJ0AYAAAAAAAAgSdAGAAAAAAAAIEnQBgAAAAAA\n",
       "ACBJ0AYAAAAAAAAgSdAGAAAAAAAAIEnQBgAAAAAAACBJ0AYAAAAAAAAgSdAGAAAAAAAAIEnQBgAA\n",
       "AAAAACBJ0AYAAAAAAAAgSdAGAAAAAAAAIEnQBgAAAAAAACBJ0AYAAAAAAAAgSdAGAAAAAAAAIEnQ\n",
       "BgAAAAAAACBJ0AYAAAAAAAAgSdAGAAAAAAAAIEnQBgAAAAAAACBJ0AYAAAAAAAAgSdAGAAAAAAAA\n",
       "IEnQBgAAAAAAACBJ0AYAAAAAAAAgSdAGAAAAAAAAIEnQBgAAAAAAACBJ0AYAAAAAAAAgSdAGAAAA\n",
       "AAAAIEnQBgAAAAAAACBJ0AYAAAAAAAAgSdAGAAAAAAAAIEnQBgAAAAAAACBJ0AYAAAAAAAAgSdAG\n",
       "AAAAAAAAIEnQBgAAAAAAACBJ0AYAAAAAAAAgSdAGAAAAAAAAIOm0egAAfdvm/lPBtr24egKH06Wr\n",
       "qydwuHK6tnoCM3Pl7JXVEzhc3q6sngApT/ZHqydweHTxYPUEZubR+c+rJ3A4f/pw9QRmZvbfVy/g\n",
       "sO8XqycAEKZQAAAAAAAAAJAkaAMAAAAAAACQJGgDAAAAAAAAkCRoAwAAAAAAAJAkaAMAAAAAAACQ\n",
       "JGgDAAAAAAAAkCRoAwAAAAAAAJAkaAMAAAAAAACQJGgDAAAAAAAAkCRoAwAAAAAAAJAkaAMAAAAA\n",
       "AACQJGgDAAAAAAAAkCRoAwAAAAAAAJAkaAMAAAAAAACQJGgDAAAAAAAAkCRoAwAAAAAAAJAkaAMA\n",
       "AAAAAACQJGgDAAAAAAAAkCRoAwAAAAAAAJAkaAMAAAAAAACQJGgDAAAAAAAAkCRoAwAAAAAAAJAk\n",
       "aAMAAAAAAACQJGgDAAAAAAAAkCRoAwAAAAAAAJAkaAMAAAAAAACQJGgDAAAAAAAAkCRoAwAAAAAA\n",
       "AJAkaAMAAAAAAACQJGgDAAAAAAAAkCRoAwAAAAAAAJAkaAMAAAAAAACQJGgDAAAAAAAAkCRoAwAA\n",
       "AAAAAJAkaAMAAAAAAACQJGgDAAAAAAAAkCRoAwAAAAAAAJAkaAMAAAAAAACQJGgDAAAAAAAAkCRo\n",
       "AwAAAAAAAJAkaAMAAAAAAACQJGgDAAAAAAAAkCRoAwAAAAAAAJAkaAMAAAAAAACQJGgDAAAAAAAA\n",
       "kCRoAwAAAAAAAJAkaAMAAAAAAACQJGgDAAAAAAAAkCRoAwAAAAAAAJAkaAMAAAAAAACQJGgDAAAA\n",
       "AAAAkCRoAwAAAAAAAJAkaAMAAAAAAACQJGgDAAAAAAAAkCRoAwAAAAAAAJAkaAMAAAAAAACQJGgD\n",
       "AAAAAAAAkCRoAwAAAAAAAJAkaAMAAAAAAACQJGgDAAAAAAAAkCRoAwAAAAAAAJAkaAMAAAAAAACQ\n",
       "JGgDAAAAAAAAkCRoAwAAAAAAAJAkaAMAAAAAAACQJGgDAAAAAAAAkCRoAwAAAAAAAJAkaAMAAAAA\n",
       "AACQJGgDAAAAAAAAkCRoAwAAAAAAAJAkaAMAAAAAAACQdFo9AOB5ttlWT+CwbS+unsDMvHT5zdUT\n",
       "ONw43Vo9gcPNs+urJzAzb7/snmzFay/sqydAyi+PvVNUfP3rxeoJzMy9s+9WT+Dw7fnnqycwM789\n",
       "+WH1BJ7ZH61ewGEf7xRAjy9PAAAAAAAAACQJ2gAAAAAAAAAkCdoAAAAAAAAAJAnaAAAAAAAAACQJ\n",
       "2gAAAAAAAAAkCdoAAAAAAAAAJAnaAAAAAAAAACQJ2gAAAAAAAAAkCdoAAAAAAAAAJAnaAAAAAAAA\n",
       "ACQJ2gAAAAAAAAAkCdoAAAAAAAAAJAnaAAAAAAAAACQJ2gAAAAAAAAAkCdoAAAAAAAAAJAnaAAAA\n",
       "AAAAACQJ2gAAAAAAAAAkCdoAAAAAAAAAJAnaAAAAAAAAACQJ2gAAAAAAAAAkCdoAAAAAAAAAJAna\n",
       "AAAAAAAAACQJ2gAAAAAAAAAkCdoAAAAAAAAAJAnaAAAAAAAAACQJ2gAAAAAAAAAkCdoAAAAAAAAA\n",
       "JAnaAAAAAAAAACQJ2gAAAAAAAAAkCdoAAAAAAAAAJAnaAAAAAAAAACQJ2gAAAAAAAAAkCdoAAAAA\n",
       "AAAAJAnaAAAAAAAAACQJ2gAAAAAAAAAkCdoAAAAAAAAAJAnaAAAAAAAAACQJ2gAAAAAAAAAkCdoA\n",
       "AAAAAAAAJAnaAAAAAAAAACQJ2gAAAAAAAAAkCdoAAAAAAAAAJAnaAAAAAAAAACQJ2gAAAAAAAAAk\n",
       "CdoAAAAAAAAAJAnaAAAAAAAAACQJ2gAAAAAAAAAkCdoAAAAAAAAAJAnaAAAAAAAAACQJ2gAAAAAA\n",
       "AAAkCdoAAAAAAAAAJAnaAAAAAAAAACQJ2gAAAAAAAAAkCdoAAAAAAAAAJAnaAAAAAAAAACQJ2gAA\n",
       "AAAAAAAkCdoAAAAAAAAAJAnaAAAAAAAAACQJ2gAAAAAAAAAkCdoAAAAAAAAAJAnaAAAAAAAAACQJ\n",
       "2gAAAAAAAAAkCdoAAAAAAAAAJAnaAAAAAAAAACQJ2gAAAAAAAAAkCdoAAAAAAAAAJAnaAAAAAAAA\n",
       "ACQJ2gAAAAAAAAAkCdoAAAAAAAAAJAnaAAAAAAAAACQJ2gAAAAAAAAAknVYPAHiuzZ2bitOlq6sn\n",
       "MDM3TrdWT+Dw7tUbqydwuPPW/dUTmJl3bt5bPYHDK9d/XD0BUh5898bqCRw+u3dz9QRm5pNv/I6t\n",
       "+PTh6gXMzHx18evqCRye7I9XT+CZ/enqBQB/oxYBAAAAAAAAkCRoAwAAAAAAAJAkaAMAAAAAAACQ\n",
       "JGgDAAAAAAAAkCRoAwAAAAAAAJAkaAMAAAAAAACQJGgDAAAAAAAAkCRoAwAAAAAAAJAkaAMAAAAA\n",
       "AACQJGgDAAAAAAAAkCRoAwAAAAAAAJAkaAMAAAAAAACQJGgDAAAAAAAAkCRoAwAAAAAAAJAkaAMA\n",
       "AAAAAACQJGgDAAAAAAAAkCRoAwAAAAAAAJAkaAMAAAAAAACQJGgDAAAAAAAAkCRoAwAAAAAAAJAk\n",
       "aAMAAAAAAACQJGgDAAAAAAAAkCRoAwAAAAAAAJAkaAMAAAAAAACQJGgDAAAAAAAAkCRoAwAAAAAA\n",
       "AJAkaAMAAAAAAACQJGgDAAAAAAAAkCRoAwAAAAAAAJAkaAMAAAAAAACQJGgDAAAAAAAAkCRoAwAA\n",
       "AAAAAJAkaAMAAAAAAACQJGgDAAAAAAAAkCRoAwAAAAAAAJAkaAMAAAAAAACQJGgDAAAAAAAAkCRo\n",
       "AwAAAAAAAJAkaAMAAAAAAACQJGgDAAAAAAAAkCRoAwAAAAAAAJAkaAMAAAAAAACQJGgDAAAAAAAA\n",
       "kCRoAwAAAAAAAJAkaAMAAAAAAACQJGgDAAAAAAAAkCRoAwAAAAAAAJAkaAMAAAAAAACQJGgDAAAA\n",
       "AAAAkCRoAwAAAAAAAJAkaAMAAAAAAACQJGgDAAAAAAAAkCRoAwAAAAAAAJAkaAMAAAAAAACQJGgD\n",
       "AAAAAAAAkCRoAwAAAAAAAJAkaAMAAAAAAACQJGgDAAAAAAAAkCRoAwAAAAAAAJAkaAMAAAAAAACQ\n",
       "JGgDAAAAAAAAkCRoAwAAAAAAAJAkaAMAAAAAAACQJGgDAAAAAAAAkCRoAwAAAAAAAJAkaAMAAAAA\n",
       "AACQJGgDAAAAAAAAkCRoAwAAAAAAAJAkaAMAAAAAAACQJGgDAAAAAAAAkCRoAwAAAAAAAJB0Wj0A\n",
       "4Hm2ubR6Aocrp2urJzAzN8+ur57A4c5b91dP4HD7g49WT2BmHt99b/UEDhev3109AVJe/emL1RM4\n",
       "3P7YMzvhw/dXL+Dw9Zfe7wq+970j4/z8l9UTOOzzdPUEgL/xD20AAAAAAAAAkgRtAAAAAAAAAJIE\n",
       "bQAAAAAAAACSBG0AAAAAAAAAkgRtAAAAAAAAAJIEbQAAAAAAAACSBG0AAAAAAAAAkgRtAAAAAAAA\n",
       "AJIEbQAAAAAAAACSBG0AAAAAAAAAkgRtAAAAAAAAAJIEbQAAAAAAAACSBG0AAAAAAAAAkgRtAAAA\n",
       "AADgD/btYNXO8gzD8LvSbdglkFpELEGCs4DQQI8h0wb0HDysznoAFqzDzsWJkEJhz8RIKJQStd24\n",
       "ibpXB/0FC22n7z24riN44Ie11vfd6weAJEEbAAAAAAAAgCRBGwAAAAAAAIAkQRsAAAAAAACAJEEb\n",
       "AAAAAAAAgCRBGwAAAAAAAIAkQRsAAAAAAACAJEEbAAAAAAAAgCRBGwAAAAAAAIAkQRsAAAAAAACA\n",
       "JEEbAAAAAAAAgCRBGwAAAAAAAIAkQRsAAAAAAACAJEEbAAAAAAAAgCRBGwAAAAAAAIAkQRsAAAAA\n",
       "AACAJEEbAAAAAAAAgCRBGwAAAAAAAIAkQRsAAAAAAACAJEEbAAAAAAAAgCRBGwAAAAAAAIAkQRsA\n",
       "AAAAAACAJEEbAAAAAAAAgCRBGwAAAAAAAIAkQRsAAAAAAACAJEEbAAAAAAAAgCRBGwAAAAAAAIAk\n",
       "QRsAAAAAAACAJEEbAAAAAAAAgCRBGwAAAAAAAIAkQRsAAAAAAACAJEEbAAAAAAAAgCRBGwAAAAAA\n",
       "AIAkQRsAAAAAAACAJEEbAAAAAAAAgCRBGwAAAAAAAIAkQRsAAAAAAACAJEEbAAAAAAAAgCRBGwAA\n",
       "AAAAAIAkQRsAAAAAAACAJEEbAAAAAAAAgCRBGwAAAAAAAIAkQRsAAAAAAACAJEEbAAAAAAAAgCRB\n",
       "GwAAAAAAAIAkQRsAAAAAAACAJEEbAAAAAAAAgCRBGwAAAAAAAIAkQRsAAAAAAACAJEEbAAAAAAAA\n",
       "gCRBGwAAAAAAAIAkQRsAAAAAAACAJEEbAAAAAAAAgCRBGwAAAAAAAIAkQRsAAAAAAACAJEEbAAAA\n",
       "AAAAgCRBGwAAAAAAAIAkQRsAAAAAAACApIvtAVB02h7Av51+tr2Aw+Wd+9sTmJmH9/wPreLxo6vt\n",
       "CRxePf3t9gRm5vKd97cncLh++dn2BEjx+dRx83R7ATMzjz/1O7bi4fO3ticwM5f/cN9R8U/3gBmn\n",
       "8/YCZmY8BvhPbsYBAAAAAAAASBK0AQAAAAAAAEgStAEAAAAAAABIErQBAAAAAAAASBK0AQAAAAAA\n",
       "AEgStAEAAAAAAABIErQBAAAAAAAASBK0AQAAAAAAAEgStAEAAAAAAABIErQBAAAAAAAASBK0AQAA\n",
       "AAAAAEgStAEAAAAAAABIErQBAAAAAAAASBK0AQAAAAAAAEgStAEAAAAAAABIErQBAAAAAAAASBK0\n",
       "AQAAAAAAAEgStAEAAAAAAABIErQBAAAAAAAASBK0AQAAAAAAAEgStAEAAAAAAABIErQBAAAAAAAA\n",
       "SBK0AQAAAAAAAEgStAEAAAAAAABIErQBAAAAAAAASBK0AQAAAAAAAEgStAEAAAAAAABIErQBAAAA\n",
       "AAAASBK0AQAAAAAAAEgStAEAAAAAAABIErQBAAAAAAAASBK0AQAAAAAAAEgStAEAAAAAAABIErQB\n",
       "AAAAAAAASBK0AQAAAAAAAEgStAEAAAAAAABIErQBAAAAAAAASBK0AQAAAAAAAEgStAEAAAAAAABI\n",
       "ErQBAAAAAAAASBK0AQAAAAAAAEgStAEAAAAAAABIErQBAAAAAAAASBK0AQAAAAAAAEgStAEAAAAA\n",
       "AABIErQBAAAAAAAASBK0AQAAAAAAAEgStAEAAAAAAABIErQBAAAAAAAASBK0AQAAAAAAAEgStAEA\n",
       "AAAAAABIErQBAAAAAAAASBK0AQAAAAAAAEgStAEAAAAAAABIErQBAAAAAAAASBK0AQAAAAAAAEgS\n",
       "tAEAAAAAAABIErQBAAAAAAAASBK0AQAAAAAAAEgStAEAAAAAAABIErQBAAAAAAAASBK0AQAAAAAA\n",
       "AEgStAEAAAAAAABIErQBAAAAAAAASBK0AQAAAAAAAEgStAEAAAAAAABIErQBAAAAAAAASBK0AQAA\n",
       "AAAAAEgStAEAAAAAAABIErQBAAAAAAAASBK0AQAAAAAAAEi62B4ATaftAcyM59Dx2ulyewIz8/rd\n",
       "8/YEDvcf/G17AofbN55uT2Bmrl9+tj2Bw70//W57AqRcP/lgewKH0xvvbk9gZu4/+GR7Agfnuwb3\n",
       "HSXuATs8iwbfE/BT3tAGAAAAAAAAIEnQBgAAAAAAACBJ0AYAAAAAAAAgSdAGAAAAAAAAIEnQBgAA\n",
       "AAAAACBJ0AYAAAAAAAAgSdAGAAAAAAAAIEnQBgAAAAAAACBJ0AYAAAAAAAAgSdAGAAAAAAAAIEnQ\n",
       "BgAAAAAAACBJ0AYAAAAAAAAgSdAGAAAAAAAAIEnQBgAAAAAAACBJ0AYAAAAAAAAgSdAGAAAAAAAA\n",
       "IEnQBgAAAAAAACBJ0AYAAAAAAAAgSdAGAAAAAAAAIEnQBgAAAAAAACBJ0AYAAAAAAAAgSdAGAAAA\n",
       "AAAAIEnQBgAAAAAAACBJ0AYAAAAAAAAgSdAGAAAAAAAAIEnQBgAAAAAAACBJ0AYAAAAAAAAgSdAG\n",
       "AAAAAAAAIEnQBgAAAAAAACBJ0AYAAAAAAAAgSdAGAAAAAAAAIEnQBgAAAAAAACBJ0AYAAAAAAAAg\n",
       "SdAGAAAAAAAAIEnQBgAAAAAAACBJ0AYAAAAAAAAgSdAGAAAAAAAAIEnQBgAAAAAAACBJ0AYAAAAA\n",
       "AAAgSdAGAAAAAAAAIEnQBgAAAAAAACBJ0AYAAAAAAAAgSdAGAAAAAAAAIEnQBgAAAAAAACBJ0AYA\n",
       "AAAAAAAgSdAGAAAAAAAAIEnQBgAAAAAAACBJ0AYAAAAAAAAgSdAGAAAAAAAAIEnQBgAAAAAAACBJ\n",
       "0AYAAAAAAAAgSdAGAAAAAAAAIEnQBgAAAAAAACBJ0AYAAAAAAAAgSdAGAAAAAAAAIEnQBgAAAAAA\n",
       "ACBJ0AYAAAAAAAAgSdAGAAAAAAAAIEnQBgAAAAAAACBJ0AYAAAAAAAAgSdAGAAAAAAAAIEnQBgAA\n",
       "AAAAACBJ0AYAAAAAAAAgSdAGAAAAAAAAIEnQBgAAAAAAACBJ0AYAAAAAAAAgSdAGAAAAAAAAIEnQ\n",
       "BgAAAAAAACBJ0AYAAAAAAAAgSdAGAAAAAAAAIEnQBgAAAAAAACBJ0AYAAAAAAAAgSdAGAAAAAAAA\n",
       "IEnQBgAAAAAAACBJ0AYAAAAAAAAgSdAGAAAAAAAAIEnQBgAAAAAAACBJ0AYAAAAAAAAgSdAGAAAA\n",
       "AAAAIEnQBgAAAAAAACBJ0AYAAAAAAAAgSdAGAAAAAAAAIEnQBgAAAAAAACBJ0AYAAAAAAAAgSdAG\n",
       "AAAAAAAAIEnQBgAAAAAAACBJ0AYAAAAAAAAgSdAGAAAAAAAAIEnQBgAAAAAAACBJ0AYAAAAAAAAg\n",
       "SdAGAAAAAAAAIEnQBgAAAAAAACBJ0AYAAAAAAAAgSdAGAAAAAAAAIEnQBgAAAAAAACBJ0AYAAAAA\n",
       "AAAgSdAGAAAAAAAAIEnQBgAAAAAAACBJ0M3A/FoAAB0NSURBVAYAAAAAAAAgSdAGAAAAAAAAIEnQ\n",
       "BgAAAAAAACBJ0AYAAAAAAAAgSdAGAAAAAAAAIEnQBgAAAAAAACBJ0AYAAAAAAAAgSdAGAAAAAAAA\n",
       "IEnQBgAAAAAAACBJ0AYAAAAAAAAgSdAGAAAAAAAAIEnQBgAAAAAAACBJ0AYAAAAAAAAgSdAGAAAA\n",
       "AAAAIEnQBgAAAAAAACBJ0AYAAAAAAAAgSdAGAAAAAAAAIEnQBgAAAAAAACBJ0AYAAAAAAAAgSdAG\n",
       "AAAAAAAAIEnQBgAAAAAAACBJ0AYAAAAAAAAgSdAGAAAAAAAAIEnQBgAAAAAAACBJ0AYAAAAAAAAg\n",
       "SdAGAAAAAAAAIEnQBgAAAAAAACBJ0AYAAAAAAAAgSdAGAAAAAAAAIEnQBgAAAAAAACBJ0AYAAAAA\n",
       "AAAgSdAGAAAAAAAAIEnQBgAAAAAAACBJ0AYAAAAAAAAgSdAGAAAAAAAAIEnQBgAAAAAAACBJ0AYA\n",
       "AAAAAAAgSdAGAAAAAAAAIEnQBgAAAAAAACBJ0AYAAAAAAAAgSdAGAAAAAAAAIEnQBgAAAAAAACBJ\n",
       "0AYAAAAAAAAgSdAGAAAAAAAAIEnQBgAAAAAAACDpYnsANJ23BzAznkPHd+eb7QnMzFevTtsTOHzz\n",
       "4s3tCRx+8fe/bE9gZi7feX97AofrJx9sT4CUe7/8zfYEDjeff7g9gZn52u/YDOe7BvcdJe4BOzwL\n",
       "oMcb2gAAAAAAAAAkCdoAAAAAAAAAJAnaAAAAAAAAACQJ2gAAAAAAAAAkCdoAAAAAAAAAJAnaAAAA\n",
       "AAAAACQJ2gAAAAAAAAAkCdoAAAAAAAAAJAnaAAAAAAAAACQJ2gAAAAAAAAAkCdoAAAAAAAAAJAna\n",
       "AAAAAAAAACQJ2gAAAAAAAAAkCdoAAAAAAAAAJAnaAAAAAAAAACQJ2gAAAAAAAAAkCdoAAAAAAAAA\n",
       "JAnaAAAAAAAAACQJ2gAAAAAAAAAkCdoAAAAAAAAAJAnaAAAAAAAAACQJ2gAAAAAAAAAkCdoAAAAA\n",
       "AAAAJAnaAAAAAAAAACQJ2gAAAAAAAAAkCdoAAAAAAAAAJAnaAAAAAAAAACQJ2gAAAAAAAAAkCdoA\n",
       "AAAAAAAAJAnaAAAAAAAAACQJ2gAAAAAAAAAkCdoAAAAAAAAAJAnaAAAAAAAAACQJ2gAAAAAAAAAk\n",
       "CdoAAAAAAAAAJAnaAAAAAAAAACQJ2gAAAAAAAAAkCdoAAAAAAAAAJAnaAAAAAAAAACQJ2gAAAAAA\n",
       "AAAkCdoAAAAAAAAAJAnaAAAAAAAAACQJ2gAAAAAAAAAkCdoAAAAAAAAAJAnaAAAAAAAAACQJ2gAA\n",
       "AAAAAAAkCdoAAAAAAAAAJAnaAAAAAAAAACQJ2gAAAAAAAAAkCdoAAAAAAAAAJAnaAAAAAAAAACQJ\n",
       "2gAAAAAAAAAkCdoAAAAAAAAAJAnaAAAAAAAAACQJ2gAAAAAAAAAkCdoAAAAAAAAAJAnaAAAAAAAA\n",
       "ACQJ2gAAAAAAAAAkCdoAAAAAAAAAJAnaAAAAAAAAACQJ2gAAAAAAAAAkCdoAAAAAAAAAJAnaAAAA\n",
       "AAAAACQJ2gAAAAAAAAAkCdoAAAAAAAAAJAnaAAAAAAAAACQJ2gAAAAAAAAAkCdoAAAAAAAAAJAna\n",
       "AAAAAAAAACQJ2gAAAAAAAAAkCdoAAAAAAAAAJF1sD4Ci8/YAZmbmdP5hewKHm9tvticwM19c325P\n",
       "4PDs6tH2BA5PPvrD9gRm5ubp9gJ+dHrj3e0JkHLz+YfbEzjc/eiP2xOYmWdX721P4OB81+C+I8Q9\n",
       "YIa7caDIG9oAAAAAAAAAJAnaAAAAAAAAACQJ2gAAAAAAAAAkCdoAAAAAAAAAJAnaAAAAAAAAACQJ\n",
       "2gAAAAAAAAAkCdoAAAAAAAAAJAnaAAAAAAAAACQJ2gAAAAAAAAAkCdoAAAAAAAAAJAnaAAAAAAAA\n",
       "ACQJ2gAAAAAAAAAkCdoAAAAAAAAAJAnaAAAAAAAAACQJ2gAAAAAAAAAkCdoAAAAAAAAAJAnaAAAA\n",
       "AAAAACQJ2gAAAAAAAAAkCdoAAAAAAAAAJAnaAAAAAAAAACQJ2gAAAAAAAAAkCdoAAAAAAAAAJAna\n",
       "AAAAAAAAACQJ2gAAAAAAAAAkCdoAAAAAAAAAJAnaAAAAAAAAACQJ2gAAAAAAAAAkCdoAAAAAAAAA\n",
       "JAnaAAAAAAAAACQJ2gAAAAAAAAAkCdoAAAAAAAAAJAnaAAAAAAAAACQJ2gAAAAAAAAAkCdoAAAAA\n",
       "AAAAJAnaAAAAAAAAACQJ2gAAAAAAAAAkCdoAAAAAAAAAJAnaAAAAAAAAACQJ2gAAAAAAAAAkCdoA\n",
       "AAAAAAAAJAnaAAAAAAAAACQJ2gAAAAAAAAAkCdoAAAAAAAAAJAnaAAAAAAAAACQJ2gAAAAAAAAAk\n",
       "CdoAAAAAAAAAJAnaAAAAAAAAACQJ2gAAAAAAAAAkCdoAAAAAAAAAJAnaAAAAAAAAACQJ2gAAAAAA\n",
       "AAAkCdoAAAAAAAAAJAnaAAAAAAAAACQJ2gAAAAAAAAAkCdoAAAAAAAAAJAnaAAAAAAAAACQJ2gAA\n",
       "AAAAAAAkCdoAAAAAAAAAJAnaAAAAAAAAACQJ2gAAAAAAAAAkCdoAAAAAAAAAJAnaAAAAAAAAACQJ\n",
       "2gAAAAAAAAAkCdoAAAAAAAAAJAnaAAAAAAAAACQJ2gAAAAAAAAAkCdoAAAAAAAAAJAnaAAAAAAAA\n",
       "ACQJ2gAAAAAAAAAkCdoAAAAAAAAAJAnaAAAAAAAAACRdbA8A+F/O88P2BA4337/cnsDMXN15sT2B\n",
       "w8fP396ewI9+/972Ambm8adX2xM43H/wyfYESPn6xZvbEzg8u/KdXfDx87e2J3C4uv1yewLjvqPE\n",
       "PSAA/483tAEAAAAAAABIErQBAAAAAAAASBK0AQAAAAAAAEgStAEAAAAAAABIErQBAAAAAAAASBK0\n",
       "AQAAAAAAAEgStAEAAAAAAABIErQBAAAAAAAASBK0AQAAAAAAAEgStAEAAAAAAABIErQBAAAAAAAA\n",
       "SBK0AQAAAAAAAEgStAEAAAAAAABIErQBAAAAAAAASBK0AQAAAAAAAEgStAEAAAAAAABIErQBAAAA\n",
       "AAAASBK0AQAAAAAAAEgStAEAAAAAAABIErQBAAAAAAAASBK0AQAAAAAAAEgStAEAAAAAAABIErQB\n",
       "AAAAAAAASBK0AQAAAAAAAEgStAEAAAAAAABIErQBAAAAAAAASBK0AQAAAAAAAEgStAEAAAAAAABI\n",
       "ErQBAAAAAAAASBK0AQAAAAAAAEgStAEAAAAAAABIErQBAAAAAAAASBK0AQAAAAAAAEgStAEAAAAA\n",
       "AABIErQBAAAAAAAASBK0AQAAAAAAAEgStAEAAAAAAABIErQBAAAAAAAASBK0AQAAAAAAAEgStAEA\n",
       "AAAAAABIErQBAAAAAAAASBK0AQAAAAAAAEgStAEAAAAAAABIErQBAAAAAAAASBK0AQAAAAAAAEgS\n",
       "tAEAAAAAAABIErQBAAAAAAAASBK0AQAAAAAAAEgStAEAAAAAAABIErQBAAAAAAAASBK0AQAAAAAA\n",
       "AEgStAEAAAAAAABIErQBAAAAAAAASBK0AQAAAAAAAEgStAEAAAAAAABIErQBAAAAAAAASBK0AQAA\n",
       "AAAAAEgStAEAAAAAAABIErQBAAAAAAAASBK0AQAAAAAAAEgStAEAAAAAAABIErQBAAAAAAAASBK0\n",
       "AQAAAAAAAEgStAEAAAAAAABIErQBAAAAAAAASBK0AQAAAAAAAEgStAEAAAAAAABIErQBAAAAAAAA\n",
       "SBK0AQAAAAAAAEgStAEAAAAAAABIErQBAAAAAAAASDrNXJy3RwD8N6c5bU/gcLpzuT2Bmfn5a7/a\n",
       "nsDh7Ytfb0/g8OjOg+0JzMzDe/4nW/H6Xcc7+KmvXjlTVHxxfbs9gZm5un2xPYHDl9//eXsCM/Pt\n",
       "d3/dnsDhfHuzPYHDeZwpgB43TwAAAAAAAAAkCdoAAAAAAAAAJAnaAAAAAAAAACQJ2gAAAAAAAAAk\n",
       "CdoAAAAAAAAAJAnaAAAAAAAAACQJ2gAAAAAAAAAkCdoAAAAAAAAAJAnaAAAAAAAAACQJ2gAAAAAA\n",
       "AAAkCdoAAAAAAAAAJAnaAAAAAAAAACQJ2gAAAAAAAAAkCdoAAAAAAAAAJAnaAAAAAAAAACQJ2gAA\n",
       "AAAAAAAkCdoAAAAAAAAAJAnaAAAAAAAAACQJ2gAAAAAAAAAkCdoAAAAAAAAAJAnaAAAAAAAAACQJ\n",
       "2gAAAAAAAAAkCdoAAAAAAAAAJAnaAAAAAAAAACQJ2gAAAAAAAAAkCdoAAAAAAAAAJAnaAAAAAAAA\n",
       "APyrfTtIjSoIwyj6l2mxJwruf5GCTiImXU5aSEaCk7ot56zggxo8qPsqSdAGAAAAAAAAIEnQBgAA\n",
       "AAAAACBJ0AYAAAAAAAAgSdAGAAAAAAAAIEnQBgAAAAAAACBJ0AYAAAAAAAAgSdAGAAAAAAAAIEnQ\n",
       "BgAAAAAAACBJ0AYAAAAAAAAgSdAGAAAAAAAAIEnQBgAAAAAAACBJ0AYAAAAAAAAgSdAGAAAAAAAA\n",
       "IEnQBgAAAAAAACBJ0AYAAAAAAAAgSdAGAAAAAAAAIEnQBgAAAAAAACBJ0AYAAAAAAAAgSdAGAAAA\n",
       "AAAAIEnQBgAAAAAAACBJ0AYAAAAAAAAgSdAGAAAAAAAAIEnQBgAAAAAAACBJ0AYAAAAAAAAgSdAG\n",
       "AAAAAAAAIEnQBgAAAAAAACBJ0AYAAAAAAAAgSdAGAAAAAAAAIEnQBgAAAAAAACBJ0AYAAAAAAAAg\n",
       "SdAGAAAAAAAAIEnQBgAAAAAAACBJ0AYAAAAAAAAgSdAGAAAAAAAAIEnQBgAAAAAAACBJ0AYAAAAA\n",
       "AAAgSdAGAAAAAAAAIEnQBgAAAAAAACBJ0AYAAAAAAAAgSdAGAAAAAAAAIEnQBgAAAAAAACBJ0AYA\n",
       "AAAAAAAgSdAGAAAAAAAAIEnQBgAAAAAAACBpzVz26REAtK3l/6eCtT6dnsDd5enz6QncXS9fT09g\n",
       "Zq4fvpyewN3HdT09AVJ+7efTE7h7vn0/PYGZeX75dnoCdy+vP05PYGb2/nl6And7305PACBMoQAA\n",
       "AAAAAAAgSdAGAAAAAAAAIEnQBgAAAAAAACBJ0AYAAAAAAAAgSdAGAAAAAAAAIEnQBgAAAAAAACBJ\n",
       "0AYAAAAAAAAgSdAGAAAAAAAAIEnQBgAAAAAAACBJ0AYAAAAAAAAgSdAGAAAAAAAAIEnQBgAAAAAA\n",
       "ACBJ0AYAAAAAAAAgSdAGAAAAAAAAIEnQBgAAAAAAACBJ0AYAAAAAAAAgSdAGAAAAAAAAIEnQBgAA\n",
       "AAAAACBJ0AYAAAAAAAAgSdAGAAAAAAAAIEnQBgAAAAAAACBJ0AYAAAAAAAAgSdAGAAAAAAAAIEnQ\n",
       "BgAAAAAAACBJ0AYAAAAAAAAgSdAGAAAAAAAAIEnQBgAAAAAAACBJ0AYAAAAAAAAgSdAGAAAAAAAA\n",
       "IEnQBgAAAAAAACBJ0AYAAAAAAAAgSdAGAAAAAAAAIEnQBgAAAAAAACBJ0AYAAAAAAAAgSdAGAAAA\n",
       "AAAAIEnQBgAAAAAAACBJ0AYAAAAAAAAgSdAGAAAAAAAAIEnQBgAAAAAAACBJ0AYAAAAAAAAgSdAG\n",
       "AAAAAAAAIEnQBgAAAAAAACBJ0AYAAAAAAAAgSdAGAAAAAAAAIEnQBgAAAAAAACBJ0AYAAAAAAAAg\n",
       "SdAGAAAAAAAAIEnQBgAAAAAAACBJ0AYAAAAAAAAgSdAGAAAAAAAAIEnQBgAAAAAAACBJ0AYAAAAA\n",
       "AAAgSdAGAAAAAAAAIEnQBgAAAAAAACBJ0AYAAAAAAAAgSdAGAAAAAAAAIEnQBgAAAAAAACBJ0AYA\n",
       "AAAAAAAgSdAGAAAAAAAAIEnQBgAAAAAAACBJ0AYAAAAAAAAgSdAGAAAAAAAAIEnQBgAAAAAAACBJ\n",
       "0AYAAAAAAAAgSdAGAAAAAAAAIEnQBgAAAAAAACBJ0AYAAAAAAAAgSdAGAAAAAAAAIEnQBgAAAAAA\n",
       "ACBJ0AYAAAAAAAAgSdAGAAAAAAAAIGnNXPbpEQDA361Zpyfwx/JPYMWap9MTmJlZzqHDtwLec+WR\n",
       "sV9PL2Bm9jiHjH07vYCZ2b4TAPAQ3MYCAAAAAAAAkCRoAwAAAAAAAJAkaAMAAAAAAACQJGgDAAAA\n",
       "AAAAkCRoAwAAAAAAAJAkaAMAAAAAAACQJGgDAAAAAAAAkCRoAwAAAAAAAJAkaAMAAAAAAACQJGgD\n",
       "AAAAAAAAkCRoAwAAAAAAAJAkaAMAAAAAAACQJGgDAAAAAAAAkCRoAwAAAAAAAJAkaAMAAAAAAACQ\n",
       "JGgDAAAAAAAAkCRoAwAAAAAAAJAkaAMAAAAAAACQJGgDAAAAAAAAkCRoAwAAAAAAAJAkaAMAAAAA\n",
       "AACQJGgDAAAAAAAAkCRoAwAAAAAAAJAkaAMAAAAAAACQJGgDAAAAAAAAkCRoAwAAAAAAAJAkaAMA\n",
       "AAAAAACQJGgDAAAAAAAAkCRoAwAAAAAAAJAkaAMAAAAAAACQJGgDAAAAAAAAkCRoAwAAAAAAAJAk\n",
       "aAMAAAAAAACQJGgDAAAAAAAAkCRoAwAAAAAAAJAkaAMAAAAAAACQJGgDAAAAAAAAkCRoAwAAAAAA\n",
       "AJAkaAMAAAAAAACQJGgDAAAAAAAAkCRoAwAAAAAAAJAkaAMAAAAAAACQJGgDAAAAAAAAkCRoAwAA\n",
       "AAAAAJAkaAMAAAAAAACQJGgDAAAAAAAAkCRoAwAAAAAAAJAkaAMAAAAAAACQJGgDAAAAAAAAkCRo\n",
       "AwAAAAAAAJAkaAMAAAAAAACQJGgDAAAAAAAAkCRoAwAAAAAAAJAkaAMAAAAAAACQJGgDAAAAAAAA\n",
       "kCRoAwAAAAAAAJAkaAMAAAAAAACQJGgDAAAAAAAAkCRoAwAAAAAAAJAkaAMAAAAAAACQJGgDAAAA\n",
       "AAAAkCRoAwAAAAAAAJAkaAMAAAAAAACQJGgDAAAAAAAAkCRoAwAAAAAAAJAkaAMAAAAAAACQJGgD\n",
       "AAAAAAAAkCRoAwAAAAAAAJAkaAMAAAAAAACQJGgDAAAAAAAAkCRoAwAAAAAAAJC0Zi779AgAAOBx\n",
       "rdMDeMNpwHuuPCqcBAAA8K+80AYAAAAAAAAgSdAGAAAAAAAAIEnQBgAAAAAAACBJ0AYAAAAAAAAg\n",
       "SdAGAAAAAAAAIEnQBgAAAAAAACBJ0AYAAAAAAAAgSdAGAAAAAAAAIEnQBgAAAAAAACBJ0AYAAAAA\n",
       "AAAgSdAGAAAAAAAAIEnQBgAAAAAAACBJ0AYAAAAAAAAgSdAGAAAAAAAAIEnQBgAAAAAAACBJ0AYA\n",
       "AAAAAAAgSdAGAAAAAAAAIEnQBgAAAAAAACBJ0AYAAAAAAAAgSdAGAAAAAAAAIEnQBgAAAAAAACBJ\n",
       "0AYAAAAAAAAgSdAGAAAAAAAAIEnQBgAAAAAAACBJ0AYAAAAAAAAgSdAGAAAAAAAAIEnQBgAAAAAA\n",
       "ACBJ0AYAAAAAAAAgSdAGAAAAAAAAIEnQBgAAAAAAACBJ0AYAAAAAAAAgSdAGAAAAAAAAIEnQBgAA\n",
       "AAAAACBJ0AYAAAAAAAAgSdAGAAAAAAAAIEnQBgAAAAAAACBJ0AYAAAAAAAAgSdAGAAAAAAAAIEnQ\n",
       "BgAAAAAAACBJ0AYAAAAAAAAgSdAGAAAAAAAAIEnQBgAAAAAAACBJ0AYAAAAAAAAgSdAGAAAAAAAA\n",
       "IEnQBgAAAAAAACBJ0AYAAAAAAAAgSdAGAAAAAAAAIEnQBgAAAAAAACBJ0AYAAAAAAAAgSdAGAAAA\n",
       "AAAAIEnQBgAAAAAAACBJ0AYAAAAAAAAgSdAGAAAAAAAAIEnQBgAAAAAAACBJ0AYAAAAAAAAgSdAG\n",
       "AAAAAAAAIEnQBgAAAAAAACBJ0AYAAAAAAAAgSdAGAAAAAAAAIEnQBgAAAAAAACBJ0AYAAAAAAAAg\n",
       "SdAGAAAAAAAAIEnQBgAAAAAAACBJ0AYAAAAAAAAgSdAGAAAAAAAAIEnQBgAAAAAAACBJ0AYAAAAA\n",
       "AAAgSdAGAAAAAAAAIEnQBgAAAAAAACBJ0AYAAAAAAAAgSdAGAAAAAAAAIOlyegAAAPDY9ukBvOE0\n",
       "AAAAgP+LF9oAAAAAAAAAJAnaAAAAAAAAACQJ2gAAAAAAAAAkCdoAAAAAAAAAJAnaAAAAAAAAACQJ\n",
       "2gAAAAAAAAAkCdoAAAAAAAAAJAnaAAAAAAAAACQJ2gAAAAAAAAAkCdoAAAAAAAAAJAnaAAAAAAAA\n",
       "ACQJ2gAAAAAAAAAkCdoAAAAAAAAAJAnaAAAAAAAAACQJ2gAAAAAAAAAkCdoAAAAAAAAAJAnaAAAA\n",
       "AAAAACQJ2gAAAAAAAAAkCdoAAAAAAAAAJAnaAAAAAAAAACQJ2gAAAAAAAAAkCdoAAAAAAAAAJAna\n",
       "AAAAAAAAACQJ2gAAAAAAAAAkCdoAAAAAAAAAJAnaAAAAAAAAACQJ2gAAAAAAAAAkCdoAAAAAAAAA\n",
       "JAnaAAAAAAAAACQJ2gAAAAAAAAAkCdoAAAAAAAAAJAnaAAAAAAAAACQJ2gAAAAAAAAAkCdoAAAAA\n",
       "AAAAJAnaAAAAAAAAACQJ2gAAAAAAAAAkCdoAAAAAAAAAJAnaAAAAAAAAACQJ2gAAAAAAAAAkCdoA\n",
       "AAAAAAAAJAnaAAAAAAAAACQJ2gAAAAAAAAAkCdoAAAAAAAAAJAnaAAAAAAAAACQJ2gAAAAAAAAAk\n",
       "CdoAAAAAAAAAJAnaAAAAAAAAACQJ2gAAAAAAAAAkCdoAAAAAAAAAJAnaAAAAAAAAACQJ2gAAAAAA\n",
       "AAAkCdoAAAAAAAAAJAnaAAAAAAAAACQJ2gAAAAAAAAAkCdoAAAAAAAAAJAnaAAAAAAAAACQJ2gAA\n",
       "AAAAAAAkCdoAAAAAAAAAJAnaAAAAAAAAACQJ2gAAAAAAAAAkCdoAAAAAAAAAJAnaAAAAAAAAACQJ\n",
       "2gAAAAAAAAAkCdoAAAAAAAAAJAnaAAAAAAAAACQJ2gAAAAAAAAAkCdoAAAAAAAAAJAnaAAAAAAAA\n",
       "ACQJ2gAAAAAAAAAkCdoAAAAAAAAAJAnaAAAAAAAAACQJ2gAAAAAAAAAkCdoAAAAAAAAAJAnaAAAA\n",
       "AAAAACQJ2gAAAAAAAAAkCdoAAAAAAAAAJAnaAAAAAAAAACQJ2gAAAAAAAAAkCdoAAAAAAAAAJAna\n",
       "AAAAAAAAACQJ2gAAAAAAAAAkCdoAAAAAAAAAJAnaAAAAAAAAACQJ2gAAAAAAAAAkCdoAAAAAAAAA\n",
       "JAnaAAAAAAAAACQJ2gAAAAAAAAAkCdoAAAAAAAAAJAnaAAAAAAAAACQJ2gAAAAAAAAAkCdoAAAAA\n",
       "AAAAJAnaAAAAAAAAACQJ2gAAAAAAAAAkCdoAAAAAAAAAJAnaAAAAAAAAACQJ2gAAAAAAAAAkCdoA\n",
       "AAAAAAAAJAnaAAAAAAAAACQJ2gAAAAAAAAAkCdoAAAAAAAAAJAnaAAAAAAAAACQJ2gAAAAAAAAAk\n",
       "CdoAAAAAAAAAJAnaAAAAAAAAACQJ2gAAAAAAAAAkCdoAAAAAAAAAJAnaAAAAAAAAACQJ2gAAAAAA\n",
       "AAAkCdoAAAAAAAAAJAnaAAAAAAAAACQJ2gAAAAAAAAAkCdoAAAAAAAAAJAnaAAAAAAAAACQJ2gAA\n",
       "AAAAAAAkCdoAAAAAAAAAJAnaAAAAAAAAACQJ2gAAAAAAAAAkCdoAAAAAAAAAJAnaAAAAAAAAACQJ\n",
       "2gAAAAAAAAAkCdoAAAAAAAAAJAnaAAAAAAAAACQJ2gAAAAAAAAAkCdoAAAAAAAAAJAnaAAAAAAAA\n",
       "ACQJ2gAAAAAAAAAkCdoAAAAAAAAAJAnaAAAAAAAAACQJ2gAAAAAAAAAkCdoAAAAAAAAAJAnaAAAA\n",
       "AAAAACQJ2gAAAAAAAAAkCdoAAAAAAAAAJAnaAAAAAAAAACQJ2gAAAAAAAAAkCdoAAAAAAAAAJAna\n",
       "AAAAAAAAACQJ2gAAAAAAAAAkCdoAAAAAAAAAJAnaAAAAAAAAACQJ2gAAAAAAAAAkCdoAAAAAAAAA\n",
       "JP0GnmAAJIR/ZJUAAAAASUVORK5CYII=\n",
       "\" transform=\"translate(141, 47)\"/>\n",
       "</g>\n",
       "<defs>\n",
       "  <clipPath id=\"clip983\">\n",
       "    <rect x=\"2160\" y=\"47\" width=\"73\" height=\"1440\"/>\n",
       "  </clipPath>\n",
       "</defs>\n",
       "<g clip-path=\"url(#clip983)\">\n",
       "<image width=\"72\" height=\"1439\" xlink:href=\"data:image/png;base64,\n",
       "iVBORw0KGgoAAAANSUhEUgAAAEgAAAWfCAYAAAAI7rB3AAAMWUlEQVR4nO3dwY0rRxAFwaZQ/lsh\n",
       "L6XfLQtUeSQPERYsEg8c9MyQ+/n3/v0O/+uvb/8Bv06gIFAQKAgU5r5/v/03/DQLCgIFgYJAQaAw\n",
       "7/359t/w0ywoCBQECgIFR41gQUGgIFAQKAgU5rmKrSwoCBQECgIFgcK86yq2saAgUBAoCBQcNYIF\n",
       "BYGCQEGgIFBwFQsWFAQKAgWBgvtBwYKCQEGgIFAQKMxx1FhZUBAoCBQECgIFN8yCBQWBgkBBoDDH\n",
       "DbOVBQWBgkBBoCBQmHP/+fbf8NMsKAgUBAoCBYGCxz7BgoJAQaAgUHDDLFhQECgIFAQKAgVXsWBB\n",
       "QaAgUBAouB8ULCgIFAQKAgWBwnwcNVYWFAQKAgWBgkBhzvWfWTYWFAQKAgWBgqNGsKAgUBAoCBQE\n",
       "Co4awYKCQEGgIFAQKHjDLFhQECgIFAQK83HUWFlQECgIFAQKAgXvSQcLCgIFgYJAwVEjWFAQKAgU\n",
       "BAoCBc/mgwUFgYJAQaAgUHAWCxYUBAoCBYGCo0awoCBQECgIFAQKjhrBgoJAQaAgUBAozLn323/D\n",
       "T7OgIFAQKAgUHDWCBQWBgkBBoCBQ8NgnWFAQKAgUBAo+pIMFBYGCQEGgIFCYj6caKwsKAgWBgkBB\n",
       "oOAsFiwoCBQECgIFL1AFCwoCBYGCQEGg4IZZsKAgUBAoCBTcDwoWFAQKAgWBgkDBDbNgQUGgIFAQ\n",
       "KAgUXMWCBQWBgkBBoOB788GCgkBBoCBQECg4agQLCgIFgYJAQaDgKhYsKAgUBAoCBR/SwYKCQEGg\n",
       "IFAQKLiKBQsKAgWBgkBhzvMhvbGgIFAQKAgUBAqOGsGCgkBBoCBQECi4igULCgIFgYJAwYd0sKAg\n",
       "UBAoCBQECnPu+/bf8NMsKAgUBAoCBYGCs1iwoCBQECgIFBw1ggUFgYJAQaAgUHDUCBYUBAoCBYGC\n",
       "o0awoCBQECgIFAQKc5w0VhYUBAoCBYGCQGHOcxbbWFAQKAgUBAqOGsGCgkBBoCBQECi4igULCgIF\n",
       "gYJAQaAwfohzZ0FBoCBQECg4agQLCgIFgYJAQaDgKhYsKAgUBAoChTn38+2/4adZUBAoCBQECgKF\n",
       "ec9VbGNBQaAgUBAoCBTcMAsWFAQKAgWBghtmwYKCQEGgIFAQKMy7Gm3UCQIFgYJAwVEjWFAQKAgU\n",
       "BAoChTmeza8sKAgUBAoCBYHCPGexlQUFgYJAQaAwx1ONlTpBoCBQECgIFBw1ggUFgYJAQaAgUPDY\n",
       "J1hQECgIFAQKXgMO6gSBgkBBoCBQ8J50sKAgUBAoCBQ81QgWFAQKAgWBgkBh3tNoo04QKAgUBAoC\n",
       "BTfMggUFgYJAQaDghlmwoCBQECgIFAQKc9wwW6kTBAoCBYGCQMFZLFhQECgIFAQKPqSDBQWBgkBB\n",
       "oCBQ8L35YEFBoCBQECj43nxQJwgUBAoCBYHCPEeNlQUFgYJAQaAgUPDYJ1hQECgIFAQK/jNLUCcI\n",
       "FAQKAgWBghtmwYKCQEGgIFAQKLhhFiwoCBQECgIFR41gQUGgIFAQKAgUvCcd1AkCBYGCQMFRI1hQ\n",
       "ECgIFAQKAgVPNYIFBYGCQEGgIFBwFgsWFAQKAgWBgn+fFSwoCBQECgIFgYJ/ZRzUCQIFgYJAQaDg\n",
       "hlmwoCBQECgIFDybDxYUBAoCBYGCQMFRI1hQECgIFAQKc31IrywoCBQECgIFgYLvzQd1gkBBoCBQ\n",
       "ECi4YRYsKAgUBAoCBR/SwYKCQEGgIFAQKHjDLFhQECgIFAQKjhrBgoJAQaAgUBAouIoFCwoCBYGC\n",
       "QEGg4NdfgjpBoCBQECjM9VRjZUFBoCBQECgIFNwwCxYUBAoCBYGCQMFVLFhQECgIFAQKPqSDBQWB\n",
       "gkBBoCBQ8BtmwYKCQEGgIFBw1AgWFAQKAgWBgkDBVSxYUBAoCBQECgIFX2YJ6gSBgkBBoODLLMGC\n",
       "gkBBoCBQECi4YRYsKAgUBAoCBYGCq1iwoCBQECgIFLwGHCwoCBQECgIFgYKjRrCgIFAQKAgU5h0f\n",
       "0hsLCgIFgYJAQaDghlmwoCBQECgIFAQKbpgFCwoCBYGCQMFRI1hQECgIFAQKAgVHjWBBQaAgUBAo\n",
       "CBScxYIFBYGCQEGg4KgRLCgIFAQKAgWBgqtYsKAgUBAoCBTm+jLLyoKCQEGgIFAQKDhqBAsKAgWB\n",
       "gkBBoODZfLCgIFAQKAgU5r1v/wm/zYKCQEGgIFAQKDhqBAsKAgWBgkDBD00GCwoCBYGCQEGg4KgR\n",
       "LCgIFAQKAgWBgjfMggUFgYJAQaDgyyzBgoJAQaAgUBAoeMMsWFAQKAgUBAoCBY99ggUFgYJAQaDg\n",
       "qUawoCBQECgIFAQKHvsECwoCBYGCQMH9oGBBQaAgUBAoCBQ8mw8WFAQKAgWBgkDBDbNgQUGgIFAQ\n",
       "KHg2HywoCBQECgIFgcLcb/8FP86CgkBBoCBQECg4iwULCgIFgYJAwRtmwYKCQEGgIFAQKLhhFiwo\n",
       "CBQECgIF94OCBQWBgkBBoCBQcNQIFhQECgIFgYJAwVksWFAQKAgUBAqezQcLCgIFgYJAQaAwfvxl\n",
       "Z0FBoCBQECgIFJzFggUFgYJAQaDg2XywoCBQECgIFAQKns0HCwoCBYGCQMFRI1hQECgIFAQKAgVH\n",
       "jWBBQaAgUBAoCBTmesVsZUFBoCBQECi4YRYsKAgUBAoCBYGCG2bBgoJAQaAgUHDUCBYUBAoCBYGC\n",
       "QGGepxorCwoCBYGCQEGgMPe4YbaxoCBQECgIFLxAFSwoCBQECgIFgYIfmgwWFAQKAgWBgkDBD00G\n",
       "CwoCBYGCQMGz+WBBQaAgUBAoCBS8Jx0sKAgUBAoCBd84DBYUBAoCBYGCQMFRI1hQECgIFAQKAgXv\n",
       "SQcLCgIFgYJAwWvAwYKCQEGgIFAQKDhqBAsKAgWBgkBBoOA96WBBQaAgUBAo+ImuYEFBoCBQECgI\n",
       "FNwwCxYUBAoCBYGCZ/PBgoJAQaAgUBAoOGoECwoCBYGCQEGg4CwWLCgIFAQKAgVHjWBBQaAgUBAo\n",
       "CBRcxYIFBYGCQEGgIFBwwyxYUBAoCBQECo4awYKCQEGgIFAQKDhqBAsKAgWBgkDBUSNYUBAoCBQE\n",
       "CgIFP9EVLCgIFAQKAgWBgv8vFiwoCBQECgIFN8yCBQWBgkBBoCBQmHdcxjYWFAQKAgWBgkDBWSxY\n",
       "UBAoCBQECp7NBwsKAgWBgkBBoODZfLCgIFAQKAgU3A8KFhQECgIFgYJAwbP5YEFBoCBQECgIFJzF\n",
       "ggUFgYJAQaDgJ7qCBQWBgkBBoCBQmOsVs5UFBYGCQEGg4AWqYEFBoCBQECgIFOY5aqwsKAgUBAoC\n",
       "BYGCs1iwoCBQECgIFDzVCBYUBAoCBYGCQMEbZsGCgkBBoCBQECjM9ZXMlQUFgYJAQaDghlmwoCBQ\n",
       "ECgIFAQKfv0lWFAQKAgUBApeoAoWFAQKAgWBgkDBU41gQUGgIFAQKAgU3DALFhQECgIFgcLc45bZ\n",
       "xoKCQEGgIFAQKLhhFiwoCBQECgIFgYKrWLCgIFAQKAgUPNUIFhQECgIFgYJAwWOfYEFBoCBQECjM\n",
       "/ThqbCwoCBQECgIFgYKjRrCgIFAQKAgUBArzXMVWFhQECgIFgYKjRrCgIFAQKAgUBApzP65iGwsK\n",
       "AgWBgkBBoOAsFiwoCBQECgIFTzWCBQWBgkBBoCBQcNQIFhQECgIFgYIP6WBBQaAgUBAoCBQ8mw8W\n",
       "FAQKAgWBgkBh3vnz7b/hp1lQECgIFAQKbpgFCwoCBYGCQEGg4A2zYEFBoCBQECjMfe4HbSwoCBQE\n",
       "CgIFgYKjRrCgIFAQKAgUBApzPZtfWVAQKAgUBAqOGsGCgkBBoCBQECg4agQLCgIFgYJAQaAw7zmL\n",
       "bSwoCBQECgIFN8yCBQWBgkBBoCBQ8J50sKAgUBAoCBQcNYIFBYGCQEGgIFCY56ixsqAgUBAoCBQE\n",
       "Cs5iwYKCQEGgIFCY6wWqlQUFgYJAQaAgUPCb9sGCgkBBoCBQECj4MkuwoCBQECgIFDzVCBYUBAoC\n",
       "BYGCQMFRI1hQECgIFAQKPqSDBQWBgkBBoCBQ8Gw+WFAQKAgUBAoCBWexYEFBoCBQECjM8Wx+ZUFB\n",
       "oCBQECgIFBw1ggUFgYJAQaAgUPCedLCgIFAQKAgU5jhqrCwoCBQECgIFgYI3zIIFBYGCQEGg4Nl8\n",
       "sKAgUBAoCBQECm6YBQsKAgWBgkBBoDDvvG//DT/NgoJAQaAgUHDDLFhQECgIFAQKAoU5jhorCwoC\n",
       "BYGCQOE/LrLuTX/wFc8AAAAASUVORK5CYII=\n",
       "\" transform=\"translate(2161, 47)\"/>\n",
       "</g>\n",
       "<path clip-path=\"url(#clip980)\" d=\"M2280.7 1250.32 Q2277.09 1250.32 2275.26 1253.89 Q2273.45 1257.43 2273.45 1264.56 Q2273.45 1271.67 2275.26 1275.23 Q2277.09 1278.77 2280.7 1278.77 Q2284.33 1278.77 2286.14 1275.23 Q2287.97 1271.67 2287.97 1264.56 Q2287.97 1257.43 2286.14 1253.89 Q2284.33 1250.32 2280.7 1250.32 M2280.7 1246.62 Q2286.51 1246.62 2289.57 1251.23 Q2292.64 1255.81 2292.64 1264.56 Q2292.64 1273.29 2289.57 1277.89 Q2286.51 1282.48 2280.7 1282.48 Q2274.89 1282.48 2271.81 1277.89 Q2268.76 1273.29 2268.76 1264.56 Q2268.76 1255.81 2271.81 1251.23 Q2274.89 1246.62 2280.7 1246.62 Z\" fill=\"#000000\" fill-rule=\"evenodd\" fill-opacity=\"1\" /><path clip-path=\"url(#clip980)\" d=\"M2300.86 1275.92 L2305.75 1275.92 L2305.75 1281.8 L2300.86 1281.8 L2300.86 1275.92 Z\" fill=\"#000000\" fill-rule=\"evenodd\" fill-opacity=\"1\" /><path clip-path=\"url(#clip980)\" d=\"M2325.93 1250.32 Q2322.32 1250.32 2320.49 1253.89 Q2318.69 1257.43 2318.69 1264.56 Q2318.69 1271.67 2320.49 1275.23 Q2322.32 1278.77 2325.93 1278.77 Q2329.57 1278.77 2331.37 1275.23 Q2333.2 1271.67 2333.2 1264.56 Q2333.2 1257.43 2331.37 1253.89 Q2329.57 1250.32 2325.93 1250.32 M2325.93 1246.62 Q2331.74 1246.62 2334.8 1251.23 Q2337.88 1255.81 2337.88 1264.56 Q2337.88 1273.29 2334.8 1277.89 Q2331.74 1282.48 2325.93 1282.48 Q2320.12 1282.48 2317.04 1277.89 Q2313.99 1273.29 2313.99 1264.56 Q2313.99 1255.81 2317.04 1251.23 Q2320.12 1246.62 2325.93 1246.62 Z\" fill=\"#000000\" fill-rule=\"evenodd\" fill-opacity=\"1\" /><path clip-path=\"url(#clip980)\" d=\"M2356.09 1250.32 Q2352.48 1250.32 2350.65 1253.89 Q2348.85 1257.43 2348.85 1264.56 Q2348.85 1271.67 2350.65 1275.23 Q2352.48 1278.77 2356.09 1278.77 Q2359.73 1278.77 2361.53 1275.23 Q2363.36 1271.67 2363.36 1264.56 Q2363.36 1257.43 2361.53 1253.89 Q2359.73 1250.32 2356.09 1250.32 M2356.09 1246.62 Q2361.9 1246.62 2364.96 1251.23 Q2368.04 1255.81 2368.04 1264.56 Q2368.04 1273.29 2364.96 1277.89 Q2361.9 1282.48 2356.09 1282.48 Q2350.28 1282.48 2347.2 1277.89 Q2344.15 1273.29 2344.15 1264.56 Q2344.15 1255.81 2347.2 1251.23 Q2350.28 1246.62 2356.09 1246.62 Z\" fill=\"#000000\" fill-rule=\"evenodd\" fill-opacity=\"1\" /><path clip-path=\"url(#clip980)\" d=\"M2376.3 1247.24 L2394.66 1247.24 L2394.66 1251.18 L2380.58 1251.18 L2380.58 1259.65 Q2381.6 1259.3 2382.62 1259.14 Q2383.64 1258.96 2384.66 1258.96 Q2390.45 1258.96 2393.82 1262.13 Q2397.2 1265.3 2397.2 1270.72 Q2397.2 1276.3 2393.73 1279.4 Q2390.26 1282.48 2383.94 1282.48 Q2381.76 1282.48 2379.5 1282.11 Q2377.25 1281.73 2374.84 1280.99 L2374.84 1276.3 Q2376.93 1277.43 2379.15 1277.98 Q2381.37 1278.54 2383.85 1278.54 Q2387.85 1278.54 2390.19 1276.43 Q2392.53 1274.33 2392.53 1270.72 Q2392.53 1267.11 2390.19 1265 Q2387.85 1262.89 2383.85 1262.89 Q2381.97 1262.89 2380.1 1263.31 Q2378.25 1263.73 2376.3 1264.61 L2376.3 1247.24 Z\" fill=\"#000000\" fill-rule=\"evenodd\" fill-opacity=\"1\" /><path clip-path=\"url(#clip980)\" d=\"M2280.7 1032.03 Q2277.09 1032.03 2275.26 1035.59 Q2273.45 1039.13 2273.45 1046.26 Q2273.45 1053.37 2275.26 1056.94 Q2277.09 1060.48 2280.7 1060.48 Q2284.33 1060.48 2286.14 1056.94 Q2287.97 1053.37 2287.97 1046.26 Q2287.97 1039.13 2286.14 1035.59 Q2284.33 1032.03 2280.7 1032.03 M2280.7 1028.32 Q2286.51 1028.32 2289.57 1032.93 Q2292.64 1037.51 2292.64 1046.26 Q2292.64 1054.99 2289.57 1059.6 Q2286.51 1064.18 2280.7 1064.18 Q2274.89 1064.18 2271.81 1059.6 Q2268.76 1054.99 2268.76 1046.26 Q2268.76 1037.51 2271.81 1032.93 Q2274.89 1028.32 2280.7 1028.32 Z\" fill=\"#000000\" fill-rule=\"evenodd\" fill-opacity=\"1\" /><path clip-path=\"url(#clip980)\" d=\"M2300.86 1057.63 L2305.75 1057.63 L2305.75 1063.51 L2300.86 1063.51 L2300.86 1057.63 Z\" fill=\"#000000\" fill-rule=\"evenodd\" fill-opacity=\"1\" /><path clip-path=\"url(#clip980)\" d=\"M2325.93 1032.03 Q2322.32 1032.03 2320.49 1035.59 Q2318.69 1039.13 2318.69 1046.26 Q2318.69 1053.37 2320.49 1056.94 Q2322.32 1060.48 2325.93 1060.48 Q2329.57 1060.48 2331.37 1056.94 Q2333.2 1053.37 2333.2 1046.26 Q2333.2 1039.13 2331.37 1035.59 Q2329.57 1032.03 2325.93 1032.03 M2325.93 1028.32 Q2331.74 1028.32 2334.8 1032.93 Q2337.88 1037.51 2337.88 1046.26 Q2337.88 1054.99 2334.8 1059.6 Q2331.74 1064.18 2325.93 1064.18 Q2320.12 1064.18 2317.04 1059.6 Q2313.99 1054.99 2313.99 1046.26 Q2313.99 1037.51 2317.04 1032.93 Q2320.12 1028.32 2325.93 1028.32 Z\" fill=\"#000000\" fill-rule=\"evenodd\" fill-opacity=\"1\" /><path clip-path=\"url(#clip980)\" d=\"M2346.9 1059.57 L2354.54 1059.57 L2354.54 1033.21 L2346.23 1034.88 L2346.23 1030.62 L2354.5 1028.95 L2359.17 1028.95 L2359.17 1059.57 L2366.81 1059.57 L2366.81 1063.51 L2346.9 1063.51 L2346.9 1059.57 Z\" fill=\"#000000\" fill-rule=\"evenodd\" fill-opacity=\"1\" /><path clip-path=\"url(#clip980)\" d=\"M2386.26 1032.03 Q2382.64 1032.03 2380.82 1035.59 Q2379.01 1039.13 2379.01 1046.26 Q2379.01 1053.37 2380.82 1056.94 Q2382.64 1060.48 2386.26 1060.48 Q2389.89 1060.48 2391.7 1056.94 Q2393.52 1053.37 2393.52 1046.26 Q2393.52 1039.13 2391.7 1035.59 Q2389.89 1032.03 2386.26 1032.03 M2386.26 1028.32 Q2392.07 1028.32 2395.12 1032.93 Q2398.2 1037.51 2398.2 1046.26 Q2398.2 1054.99 2395.12 1059.6 Q2392.07 1064.18 2386.26 1064.18 Q2380.45 1064.18 2377.37 1059.6 Q2374.31 1054.99 2374.31 1046.26 Q2374.31 1037.51 2377.37 1032.93 Q2380.45 1028.32 2386.26 1028.32 Z\" fill=\"#000000\" fill-rule=\"evenodd\" fill-opacity=\"1\" /><path clip-path=\"url(#clip980)\" d=\"M2280.7 813.733 Q2277.09 813.733 2275.26 817.298 Q2273.45 820.84 2273.45 827.969 Q2273.45 835.076 2275.26 838.641 Q2277.09 842.182 2280.7 842.182 Q2284.33 842.182 2286.14 838.641 Q2287.97 835.076 2287.97 827.969 Q2287.97 820.84 2286.14 817.298 Q2284.33 813.733 2280.7 813.733 M2280.7 810.03 Q2286.51 810.03 2289.57 814.636 Q2292.64 819.219 2292.64 827.969 Q2292.64 836.696 2289.57 841.303 Q2286.51 845.886 2280.7 845.886 Q2274.89 845.886 2271.81 841.303 Q2268.76 836.696 2268.76 827.969 Q2268.76 819.219 2271.81 814.636 Q2274.89 810.03 2280.7 810.03 Z\" fill=\"#000000\" fill-rule=\"evenodd\" fill-opacity=\"1\" /><path clip-path=\"url(#clip980)\" d=\"M2300.86 839.335 L2305.75 839.335 L2305.75 845.215 L2300.86 845.215 L2300.86 839.335 Z\" fill=\"#000000\" fill-rule=\"evenodd\" fill-opacity=\"1\" /><path clip-path=\"url(#clip980)\" d=\"M2325.93 813.733 Q2322.32 813.733 2320.49 817.298 Q2318.69 820.84 2318.69 827.969 Q2318.69 835.076 2320.49 838.641 Q2322.32 842.182 2325.93 842.182 Q2329.57 842.182 2331.37 838.641 Q2333.2 835.076 2333.2 827.969 Q2333.2 820.84 2331.37 817.298 Q2329.57 813.733 2325.93 813.733 M2325.93 810.03 Q2331.74 810.03 2334.8 814.636 Q2337.88 819.219 2337.88 827.969 Q2337.88 836.696 2334.8 841.303 Q2331.74 845.886 2325.93 845.886 Q2320.12 845.886 2317.04 841.303 Q2313.99 836.696 2313.99 827.969 Q2313.99 819.219 2317.04 814.636 Q2320.12 810.03 2325.93 810.03 Z\" fill=\"#000000\" fill-rule=\"evenodd\" fill-opacity=\"1\" /><path clip-path=\"url(#clip980)\" d=\"M2346.9 841.279 L2354.54 841.279 L2354.54 814.914 L2346.23 816.58 L2346.23 812.321 L2354.5 810.655 L2359.17 810.655 L2359.17 841.279 L2366.81 841.279 L2366.81 845.215 L2346.9 845.215 L2346.9 841.279 Z\" fill=\"#000000\" fill-rule=\"evenodd\" fill-opacity=\"1\" /><path clip-path=\"url(#clip980)\" d=\"M2376.3 810.655 L2394.66 810.655 L2394.66 814.59 L2380.58 814.59 L2380.58 823.062 Q2381.6 822.715 2382.62 822.553 Q2383.64 822.367 2384.66 822.367 Q2390.45 822.367 2393.82 825.539 Q2397.2 828.71 2397.2 834.127 Q2397.2 839.705 2393.73 842.807 Q2390.26 845.886 2383.94 845.886 Q2381.76 845.886 2379.5 845.515 Q2377.25 845.145 2374.84 844.404 L2374.84 839.705 Q2376.93 840.84 2379.15 841.395 Q2381.37 841.951 2383.85 841.951 Q2387.85 841.951 2390.19 839.844 Q2392.53 837.738 2392.53 834.127 Q2392.53 830.516 2390.19 828.409 Q2387.85 826.303 2383.85 826.303 Q2381.97 826.303 2380.1 826.719 Q2378.25 827.136 2376.3 828.016 L2376.3 810.655 Z\" fill=\"#000000\" fill-rule=\"evenodd\" fill-opacity=\"1\" /><path clip-path=\"url(#clip980)\" d=\"M2280.7 595.438 Q2277.09 595.438 2275.26 599.003 Q2273.45 602.545 2273.45 609.674 Q2273.45 616.781 2275.26 620.346 Q2277.09 623.887 2280.7 623.887 Q2284.33 623.887 2286.14 620.346 Q2287.97 616.781 2287.97 609.674 Q2287.97 602.545 2286.14 599.003 Q2284.33 595.438 2280.7 595.438 M2280.7 591.735 Q2286.51 591.735 2289.57 596.341 Q2292.64 600.924 2292.64 609.674 Q2292.64 618.401 2289.57 623.008 Q2286.51 627.591 2280.7 627.591 Q2274.89 627.591 2271.81 623.008 Q2268.76 618.401 2268.76 609.674 Q2268.76 600.924 2271.81 596.341 Q2274.89 591.735 2280.7 591.735 Z\" fill=\"#000000\" fill-rule=\"evenodd\" fill-opacity=\"1\" /><path clip-path=\"url(#clip980)\" d=\"M2300.86 621.04 L2305.75 621.04 L2305.75 626.92 L2300.86 626.92 L2300.86 621.04 Z\" fill=\"#000000\" fill-rule=\"evenodd\" fill-opacity=\"1\" /><path clip-path=\"url(#clip980)\" d=\"M2325.93 595.438 Q2322.32 595.438 2320.49 599.003 Q2318.69 602.545 2318.69 609.674 Q2318.69 616.781 2320.49 620.346 Q2322.32 623.887 2325.93 623.887 Q2329.57 623.887 2331.37 620.346 Q2333.2 616.781 2333.2 609.674 Q2333.2 602.545 2331.37 599.003 Q2329.57 595.438 2325.93 595.438 M2325.93 591.735 Q2331.74 591.735 2334.8 596.341 Q2337.88 600.924 2337.88 609.674 Q2337.88 618.401 2334.8 623.008 Q2331.74 627.591 2325.93 627.591 Q2320.12 627.591 2317.04 623.008 Q2313.99 618.401 2313.99 609.674 Q2313.99 600.924 2317.04 596.341 Q2320.12 591.735 2325.93 591.735 Z\" fill=\"#000000\" fill-rule=\"evenodd\" fill-opacity=\"1\" /><path clip-path=\"url(#clip980)\" d=\"M2350.12 622.985 L2366.44 622.985 L2366.44 626.92 L2344.5 626.92 L2344.5 622.985 Q2347.16 620.23 2351.74 615.6 Q2356.35 610.948 2357.53 609.605 Q2359.77 607.082 2360.65 605.346 Q2361.56 603.586 2361.56 601.897 Q2361.56 599.142 2359.61 597.406 Q2357.69 595.67 2354.59 595.67 Q2352.39 595.67 2349.94 596.434 Q2347.51 597.198 2344.73 598.749 L2344.73 594.026 Q2347.55 592.892 2350.01 592.313 Q2352.46 591.735 2354.5 591.735 Q2359.87 591.735 2363.06 594.42 Q2366.26 597.105 2366.26 601.596 Q2366.26 603.725 2365.45 605.647 Q2364.66 607.545 2362.55 610.137 Q2361.97 610.809 2358.87 614.026 Q2355.77 617.221 2350.12 622.985 Z\" fill=\"#000000\" fill-rule=\"evenodd\" fill-opacity=\"1\" /><path clip-path=\"url(#clip980)\" d=\"M2386.26 595.438 Q2382.64 595.438 2380.82 599.003 Q2379.01 602.545 2379.01 609.674 Q2379.01 616.781 2380.82 620.346 Q2382.64 623.887 2386.26 623.887 Q2389.89 623.887 2391.7 620.346 Q2393.52 616.781 2393.52 609.674 Q2393.52 602.545 2391.7 599.003 Q2389.89 595.438 2386.26 595.438 M2386.26 591.735 Q2392.07 591.735 2395.12 596.341 Q2398.2 600.924 2398.2 609.674 Q2398.2 618.401 2395.12 623.008 Q2392.07 627.591 2386.26 627.591 Q2380.45 627.591 2377.37 623.008 Q2374.31 618.401 2374.31 609.674 Q2374.31 600.924 2377.37 596.341 Q2380.45 591.735 2386.26 591.735 Z\" fill=\"#000000\" fill-rule=\"evenodd\" fill-opacity=\"1\" /><path clip-path=\"url(#clip980)\" d=\"M2280.7 377.143 Q2277.09 377.143 2275.26 380.708 Q2273.45 384.25 2273.45 391.38 Q2273.45 398.486 2275.26 402.051 Q2277.09 405.592 2280.7 405.592 Q2284.33 405.592 2286.14 402.051 Q2287.97 398.486 2287.97 391.38 Q2287.97 384.25 2286.14 380.708 Q2284.33 377.143 2280.7 377.143 M2280.7 373.44 Q2286.51 373.44 2289.57 378.046 Q2292.64 382.63 2292.64 391.38 Q2292.64 400.106 2289.57 404.713 Q2286.51 409.296 2280.7 409.296 Q2274.89 409.296 2271.81 404.713 Q2268.76 400.106 2268.76 391.38 Q2268.76 382.63 2271.81 378.046 Q2274.89 373.44 2280.7 373.44 Z\" fill=\"#000000\" fill-rule=\"evenodd\" fill-opacity=\"1\" /><path clip-path=\"url(#clip980)\" d=\"M2300.86 402.745 L2305.75 402.745 L2305.75 408.625 L2300.86 408.625 L2300.86 402.745 Z\" fill=\"#000000\" fill-rule=\"evenodd\" fill-opacity=\"1\" /><path clip-path=\"url(#clip980)\" d=\"M2325.93 377.143 Q2322.32 377.143 2320.49 380.708 Q2318.69 384.25 2318.69 391.38 Q2318.69 398.486 2320.49 402.051 Q2322.32 405.592 2325.93 405.592 Q2329.57 405.592 2331.37 402.051 Q2333.2 398.486 2333.2 391.38 Q2333.2 384.25 2331.37 380.708 Q2329.57 377.143 2325.93 377.143 M2325.93 373.44 Q2331.74 373.44 2334.8 378.046 Q2337.88 382.63 2337.88 391.38 Q2337.88 400.106 2334.8 404.713 Q2331.74 409.296 2325.93 409.296 Q2320.12 409.296 2317.04 404.713 Q2313.99 400.106 2313.99 391.38 Q2313.99 382.63 2317.04 378.046 Q2320.12 373.44 2325.93 373.44 Z\" fill=\"#000000\" fill-rule=\"evenodd\" fill-opacity=\"1\" /><path clip-path=\"url(#clip980)\" d=\"M2350.12 404.69 L2366.44 404.69 L2366.44 408.625 L2344.5 408.625 L2344.5 404.69 Q2347.16 401.935 2351.74 397.305 Q2356.35 392.653 2357.53 391.31 Q2359.77 388.787 2360.65 387.051 Q2361.56 385.292 2361.56 383.602 Q2361.56 380.847 2359.61 379.111 Q2357.69 377.375 2354.59 377.375 Q2352.39 377.375 2349.94 378.139 Q2347.51 378.903 2344.73 380.454 L2344.73 375.731 Q2347.55 374.597 2350.01 374.018 Q2352.46 373.44 2354.5 373.44 Q2359.87 373.44 2363.06 376.125 Q2366.26 378.81 2366.26 383.301 Q2366.26 385.43 2365.45 387.352 Q2364.66 389.25 2362.55 391.842 Q2361.97 392.514 2358.87 395.731 Q2355.77 398.926 2350.12 404.69 Z\" fill=\"#000000\" fill-rule=\"evenodd\" fill-opacity=\"1\" /><path clip-path=\"url(#clip980)\" d=\"M2376.3 374.065 L2394.66 374.065 L2394.66 378 L2380.58 378 L2380.58 386.472 Q2381.6 386.125 2382.62 385.963 Q2383.64 385.778 2384.66 385.778 Q2390.45 385.778 2393.82 388.949 Q2397.2 392.12 2397.2 397.537 Q2397.2 403.116 2393.73 406.217 Q2390.26 409.296 2383.94 409.296 Q2381.76 409.296 2379.5 408.926 Q2377.25 408.555 2374.84 407.815 L2374.84 403.116 Q2376.93 404.25 2379.15 404.805 Q2381.37 405.361 2383.85 405.361 Q2387.85 405.361 2390.19 403.254 Q2392.53 401.148 2392.53 397.537 Q2392.53 393.926 2390.19 391.819 Q2387.85 389.713 2383.85 389.713 Q2381.97 389.713 2380.1 390.13 Q2378.25 390.546 2376.3 391.426 L2376.3 374.065 Z\" fill=\"#000000\" fill-rule=\"evenodd\" fill-opacity=\"1\" /><path clip-path=\"url(#clip980)\" d=\"M2280.7 158.849 Q2277.09 158.849 2275.26 162.413 Q2273.45 165.955 2273.45 173.085 Q2273.45 180.191 2275.26 183.756 Q2277.09 187.298 2280.7 187.298 Q2284.33 187.298 2286.14 183.756 Q2287.97 180.191 2287.97 173.085 Q2287.97 165.955 2286.14 162.413 Q2284.33 158.849 2280.7 158.849 M2280.7 155.145 Q2286.51 155.145 2289.57 159.751 Q2292.64 164.335 2292.64 173.085 Q2292.64 181.811 2289.57 186.418 Q2286.51 191.001 2280.7 191.001 Q2274.89 191.001 2271.81 186.418 Q2268.76 181.811 2268.76 173.085 Q2268.76 164.335 2271.81 159.751 Q2274.89 155.145 2280.7 155.145 Z\" fill=\"#000000\" fill-rule=\"evenodd\" fill-opacity=\"1\" /><path clip-path=\"url(#clip980)\" d=\"M2300.86 184.45 L2305.75 184.45 L2305.75 190.33 L2300.86 190.33 L2300.86 184.45 Z\" fill=\"#000000\" fill-rule=\"evenodd\" fill-opacity=\"1\" /><path clip-path=\"url(#clip980)\" d=\"M2325.93 158.849 Q2322.32 158.849 2320.49 162.413 Q2318.69 165.955 2318.69 173.085 Q2318.69 180.191 2320.49 183.756 Q2322.32 187.298 2325.93 187.298 Q2329.57 187.298 2331.37 183.756 Q2333.2 180.191 2333.2 173.085 Q2333.2 165.955 2331.37 162.413 Q2329.57 158.849 2325.93 158.849 M2325.93 155.145 Q2331.74 155.145 2334.8 159.751 Q2337.88 164.335 2337.88 173.085 Q2337.88 181.811 2334.8 186.418 Q2331.74 191.001 2325.93 191.001 Q2320.12 191.001 2317.04 186.418 Q2313.99 181.811 2313.99 173.085 Q2313.99 164.335 2317.04 159.751 Q2320.12 155.145 2325.93 155.145 Z\" fill=\"#000000\" fill-rule=\"evenodd\" fill-opacity=\"1\" /><path clip-path=\"url(#clip980)\" d=\"M2360.26 171.696 Q2363.62 172.413 2365.49 174.682 Q2367.39 176.95 2367.39 180.284 Q2367.39 185.399 2363.87 188.2 Q2360.35 191.001 2353.87 191.001 Q2351.7 191.001 2349.38 190.561 Q2347.09 190.145 2344.64 189.288 L2344.64 184.774 Q2346.58 185.909 2348.89 186.487 Q2351.21 187.066 2353.73 187.066 Q2358.13 187.066 2360.42 185.33 Q2362.74 183.594 2362.74 180.284 Q2362.74 177.228 2360.58 175.515 Q2358.45 173.779 2354.64 173.779 L2350.61 173.779 L2350.61 169.936 L2354.82 169.936 Q2358.27 169.936 2360.1 168.571 Q2361.93 167.182 2361.93 164.589 Q2361.93 161.927 2360.03 160.515 Q2358.15 159.08 2354.64 159.08 Q2352.71 159.08 2350.51 159.497 Q2348.32 159.913 2345.68 160.793 L2345.68 156.626 Q2348.34 155.886 2350.65 155.515 Q2352.99 155.145 2355.05 155.145 Q2360.38 155.145 2363.48 157.575 Q2366.58 159.983 2366.58 164.103 Q2366.58 166.974 2364.94 168.964 Q2363.29 170.932 2360.26 171.696 Z\" fill=\"#000000\" fill-rule=\"evenodd\" fill-opacity=\"1\" /><path clip-path=\"url(#clip980)\" d=\"M2386.26 158.849 Q2382.64 158.849 2380.82 162.413 Q2379.01 165.955 2379.01 173.085 Q2379.01 180.191 2380.82 183.756 Q2382.64 187.298 2386.26 187.298 Q2389.89 187.298 2391.7 183.756 Q2393.52 180.191 2393.52 173.085 Q2393.52 165.955 2391.7 162.413 Q2389.89 158.849 2386.26 158.849 M2386.26 155.145 Q2392.07 155.145 2395.12 159.751 Q2398.2 164.335 2398.2 173.085 Q2398.2 181.811 2395.12 186.418 Q2392.07 191.001 2386.26 191.001 Q2380.45 191.001 2377.37 186.418 Q2374.31 181.811 2374.31 173.085 Q2374.31 164.335 2377.37 159.751 Q2380.45 155.145 2386.26 155.145 Z\" fill=\"#000000\" fill-rule=\"evenodd\" fill-opacity=\"1\" /><polyline clip-path=\"url(#clip980)\" style=\"stroke:#000000; stroke-linecap:round; stroke-linejoin:round; stroke-width:4; stroke-opacity:1; fill:none\" points=\"2232.76,1486.45 2232.76,1268.15 2256.76,1268.15 2232.76,1268.15 2232.76,1049.86 2256.76,1049.86 2232.76,1049.86 2232.76,831.563 2256.76,831.563 2232.76,831.563 2232.76,613.268 2256.76,613.268 2232.76,613.268 2232.76,394.974 2256.76,394.974 2232.76,394.974 2232.76,176.679 2256.76,176.679 2232.76,176.679 2232.76,47.2441 \"/>\n",
       "</svg>\n"
      ]
     },
     "execution_count": 35,
     "metadata": {},
     "output_type": "execute_result"
    }
   ],
   "source": [
    "k = 1\n",
    "initial_condition = reshape(animated_e_l()[:,:,k], Nx, Ny) #psi_1 (psi_k)'e karşılık gelen density matrix\n",
    "heatmap(initial_condition)"
   ]
  },
  {
   "cell_type": "code",
   "execution_count": 46,
   "id": "e0b08e68-6ca6-4923-9cd6-2ec9f5cdf609",
   "metadata": {
    "tags": []
   },
   "outputs": [
    {
     "data": {
      "text/plain": [
       "heatgif (generic function with 1 method)"
      ]
     },
     "execution_count": 46,
     "metadata": {},
     "output_type": "execute_result"
    }
   ],
   "source": [
    "initial_condition = reshape(animated_e_l()[:,:,1], Nx, Ny)\n",
    "fps = 20\n",
    "function heatgif(initial_condition)\n",
    "    p = heatmap(initial_condition, xlabel=\"x\", ylabel=\"y\", title=(\"Nx=$Nx,Ny=$Ny,co=$cut_off,PN=$pn,U=$U, fps=$fps\"))\n",
    "    anim = @animate for i=1:length(r_hubbard_states)\n",
    "        h_map_matrix = reshape(animated_e_l()[:,:,i],Nx,Ny)\n",
    "        heatmap!(p[1], h_map_matrix)\n",
    "    end\n",
    "    return anim\n",
    "end"
   ]
  },
  {
   "cell_type": "code",
   "execution_count": null,
   "id": "91adf7db-1421-4fd3-8615-3550623f1568",
   "metadata": {
    "tags": []
   },
   "outputs": [],
   "source": [
    "anim = heatgif(initial_condition)\n",
    "gif(anim, \"OUTPUT.gif\", fps=fps)"
   ]
  },
  {
   "cell_type": "code",
   "execution_count": null,
   "id": "8c1df8fa-f8d9-4d6a-aa1e-74a5dcb988e4",
   "metadata": {},
   "outputs": [],
   "source": []
  }
 ],
 "metadata": {
  "kernelspec": {
   "display_name": "Julia 1.8.1",
   "language": "julia",
   "name": "julia-1.8"
  },
  "language_info": {
   "file_extension": ".jl",
   "mimetype": "application/julia",
   "name": "julia",
   "version": "1.8.1"
  }
 },
 "nbformat": 4,
 "nbformat_minor": 5
}
