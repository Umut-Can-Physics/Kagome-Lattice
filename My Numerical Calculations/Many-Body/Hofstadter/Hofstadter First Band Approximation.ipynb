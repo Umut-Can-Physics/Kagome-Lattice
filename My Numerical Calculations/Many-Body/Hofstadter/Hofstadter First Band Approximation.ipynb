{
 "cells": [
  {
   "cell_type": "code",
   "execution_count": 1,
   "id": "4e14ac7c",
   "metadata": {
    "tags": []
   },
   "outputs": [
    {
     "data": {
      "text/plain": [
       "Hofstadter_SP (generic function with 1 method)"
      ]
     },
     "execution_count": 1,
     "metadata": {},
     "output_type": "execute_result"
    }
   ],
   "source": [
    "using NBInclude\n",
    "@nbinclude(\"Hofstadter Single Particle in Julia.ipynb\")"
   ]
  },
  {
   "cell_type": "code",
   "execution_count": 2,
   "id": "1e698109",
   "metadata": {
    "tags": []
   },
   "outputs": [],
   "source": [
    "using QuantumOptics"
   ]
  },
  {
   "cell_type": "code",
   "execution_count": 3,
   "id": "205489ea",
   "metadata": {
    "tags": []
   },
   "outputs": [
    {
     "data": {
      "text/plain": [
       "Hofstadter_SP_Op (generic function with 1 method)"
      ]
     },
     "execution_count": 3,
     "metadata": {},
     "output_type": "execute_result"
    }
   ],
   "source": [
    "function Hofstadter_SP_Op(Nx, Ny, alpha, Basis)\n",
    "    \n",
    "    H_SP = Hofstadter_SP(Nx,Ny,alpha, 0)\n",
    "    \n",
    "    N = Nx*Ny\n",
    "    \n",
    "    H = SparseOperator(Basis)\n",
    "\n",
    "    for m in 1:N\n",
    "        for n in 1:N\n",
    "            H = H + H_SP[m,n] * transition(Basis, m, n)\n",
    "        end\n",
    "    end\n",
    "    \n",
    "    return H\n",
    "end"
   ]
  },
  {
   "cell_type": "markdown",
   "id": "3fc12020",
   "metadata": {},
   "source": [
    "1) Hofstadter SP QoJulia energies are has to be equal to Hofstadter Single Particle energies."
   ]
  },
  {
   "cell_type": "code",
   "execution_count": 4,
   "id": "c208c575",
   "metadata": {
    "tags": []
   },
   "outputs": [
    {
     "data": {
      "text/plain": [
       "true"
      ]
     },
     "execution_count": 4,
     "metadata": {},
     "output_type": "execute_result"
    }
   ],
   "source": [
    "using LinearAlgebra\n",
    "\n",
    "Basis = NLevelBasis(4*4)\n",
    "eigenenergies(dense(Hofstadter_SP_Op(4, 4, 1/4, Basis))) == eigvals(Hofstadter_SP(4,4,1/4,0))"
   ]
  },
  {
   "cell_type": "code",
   "execution_count": 6,
   "id": "a6a50c54-c2c8-4137-a30c-7be448cc216f",
   "metadata": {
    "tags": []
   },
   "outputs": [
    {
     "data": {
      "text/plain": [
       "get_sub_states (generic function with 1 method)"
      ]
     },
     "execution_count": 6,
     "metadata": {},
     "output_type": "execute_result"
    }
   ],
   "source": [
    "function get_sub_states(SP_Op, N_cut)\n",
    "    \n",
    "    E0, states0 = eigenstates(dense(SP_Op))\n",
    "    states = states0[1:N_cut]\n",
    "    \n",
    "    return states\n",
    "end"
   ]
  },
  {
   "cell_type": "code",
   "execution_count": 7,
   "id": "5849cf99-54f7-44fe-a95c-609204134b36",
   "metadata": {
    "tags": []
   },
   "outputs": [
    {
     "data": {
      "text/plain": [
       "get_Projector (generic function with 1 method)"
      ]
     },
     "execution_count": 7,
     "metadata": {},
     "output_type": "execute_result"
    }
   ],
   "source": [
    "function get_Projector(states, Basis)\n",
    "    \n",
    "    b_sub = SubspaceBasis(Basis,states)\n",
    "    P = projector(b_sub, Basis)\n",
    "    Pt = dagger(P)\n",
    "    \n",
    "    return b_sub, P, Pt\n",
    "end"
   ]
  },
  {
   "cell_type": "code",
   "execution_count": 8,
   "id": "bd995b8b-3898-48cc-b87a-021d130f80c2",
   "metadata": {
    "tags": []
   },
   "outputs": [
    {
     "data": {
      "text/plain": [
       "Subspace_Op (generic function with 1 method)"
      ]
     },
     "execution_count": 8,
     "metadata": {},
     "output_type": "execute_result"
    }
   ],
   "source": [
    "function Subspace_Op(SP_Op, P)\n",
    "    return P*SP_Op*Pt\n",
    "end"
   ]
  },
  {
   "cell_type": "code",
   "execution_count": 27,
   "id": "36e2ca81-1a55-440b-a6c2-e4d502373f39",
   "metadata": {
    "tags": []
   },
   "outputs": [
    {
     "data": {
      "text/plain": [
       "Operator(dim=4x4)\n",
       "  basis: Subspace(superbasis=NLevel(N=64), states:4)\n",
       " -2.82843-0.0im       3.0e-17+0.0im      …  -9.0e-17+1.1e-16im\n",
       "  5.0e-17-0.0im      -2.82843-0.0im          2.4e-16-1.3e-16im\n",
       "  1.3e-16+6.0e-17im  -3.4e-16+1.0e-17im     -1.7e-16-1.7e-16im\n",
       " -8.0e-17-1.0e-17im   1.1e-16+1.9e-16im     -2.44949-1.1e-16im"
      ]
     },
     "execution_count": 27,
     "metadata": {},
     "output_type": "execute_result"
    }
   ],
   "source": [
    "Nx = 8; Ny = 8; N=Nx*Ny; alpha = 1/2; N_cut = 4\n",
    "\n",
    "Basis = NLevelBasis(Nx*Ny)\n",
    "H1 = Hofstadter_SP_Op(Nx, Ny, alpha, Basis)\n",
    "states = get_sub_states(H1, N_cut)\n",
    "b_sub, P, Pt = get_Projector(states, Basis)\n",
    "H1_Projected = Subspace_Op(H1, P)"
   ]
  },
  {
   "cell_type": "code",
   "execution_count": 28,
   "id": "5ab974c4-4c68-4615-98af-2ce6c7a9767a",
   "metadata": {
    "tags": []
   },
   "outputs": [],
   "source": [
    "Num_Op_List = []\n",
    "Num2_Op_List = []\n",
    "for m in 1:N\n",
    "    NM = transition(Basis, m, m)\n",
    "    NMP = P*NM*Pt\n",
    "    NM2P = P*NM^2*Pt\n",
    "    push!(Num2_Op_List, NM2P)\n",
    "    push!(Num_Op_List, NMP)\n",
    "end"
   ]
  },
  {
   "cell_type": "code",
   "execution_count": 29,
   "id": "adab7c85-666a-492e-8765-b52e2997746b",
   "metadata": {
    "tags": []
   },
   "outputs": [],
   "source": [
    "PN = 2\n",
    "\n",
    "MB_States = bosonstates(b_sub, [PN]) \n",
    "MB_Basis = ManyBodyBasis(b_sub, MB_States)\n",
    "\n",
    "function get_MB_Op(MB_Basis, Basis, Op)\n",
    "    \n",
    "    Op_MB = SparseOperator(MB_Basis)\n",
    "    for i in 1:length(Basis)\n",
    "        for j in 1:length(Basis)\n",
    "            Op_MB = Op_MB + Op.data[i,j] * transition(MB_Basis, i, j)\n",
    "        end\n",
    "    end\n",
    "    \n",
    "    return Op_MB\n",
    "end\n",
    "\n",
    "H1_MB = get_MB_Op(MB_Basis, b_sub, H1_Projected)\n",
    "\n",
    "MB_Num_Op_List = []\n",
    "MB_Num2_Op_List = []\n",
    "for m in 1:N\n",
    "    NMP = get_MB_Op(MB_Basis, b_sub, Num_Op_List[m])\n",
    "    NMP2 = get_MB_Op(MB_Basis, b_sub, Num2_Op_List[m])\n",
    "    push!(MB_Num_Op_List, NMP)\n",
    "    push!(MB_Num2_Op_List, NMP2)\n",
    "end"
   ]
  },
  {
   "cell_type": "code",
   "execution_count": 30,
   "id": "814e83dd-ac5f-4d34-85fa-582584128913",
   "metadata": {
    "tags": []
   },
   "outputs": [
    {
     "data": {
      "text/plain": [
       "Operator(dim=10x10)\n",
       "  basis: ManyBody(onebodybasis=Subspace(superbasis=NLevel(N=64), states:4), states:10)sparse(Int64[], Int64[], ComplexF64[], 10, 10)"
      ]
     },
     "execution_count": 30,
     "metadata": {},
     "output_type": "execute_result"
    }
   ],
   "source": [
    "U = 2\n",
    "\n",
    "function Int_Op(MB_Num_Op_List, MB_Num2_Op_List, U)\n",
    "\n",
    "    IT = SparseOperator(MB_Basis)\n",
    "    \n",
    "    for m in 1:N\n",
    "        IT = IT + U/2 * (MB_Num2_Op_List[m] - MB_Num_Op_List[m])\n",
    "    end\n",
    "    \n",
    "    return IT\n",
    "end\n",
    "\n",
    "H_Int_MB = Int_Op(MB_Num_Op_List, MB_Num2_Op_List, U)"
   ]
  },
  {
   "cell_type": "code",
   "execution_count": 31,
   "id": "44df2e47-18f5-4478-9462-f071fc21fb67",
   "metadata": {
    "tags": []
   },
   "outputs": [
    {
     "data": {
      "text/plain": [
       "Operator(dim=10x10)\n",
       "  basis: ManyBody(onebodybasis=Subspace(superbasis=NLevel(N=64), states:4), states:10)sparse([1, 2, 3, 4, 1, 2, 3, 4, 5, 6  …  4, 6, 7, 8, 9, 10, 4, 7, 9, 10], [1, 1, 1, 1, 2, 2, 2, 2, 2, 2  …  9, 9, 9, 9, 9, 9, 10, 10, 10, 10], ComplexF64[-5.6568542494923815 - 0.0im, 7.0e-17 - 0.0im, 1.8e-16 + 9.0e-17im, -1.1e-16 - 2.0e-17im, 4.0e-17 + 0.0im, -5.656854249492383 - 0.0im, -3.4e-16 + 1.0e-17im, 1.1e-16 + 1.9e-16im, 7.0e-17 - 0.0im, 1.3e-16 + 6.0e-17im  …  1.2e-16 - 2.0e-17im, 2.4e-16 - 1.3e-16im, -1.7e-16 + 2.0e-17im, -2.4e-16 - 2.4e-16im, -4.898979485566354 - 6.0e-17im, -2.4e-16 + 8.0e-17im, -1.2e-16 + 1.6e-16im, 3.3e-16 - 1.8e-16im, -2.4e-16 - 2.4e-16im, -4.898979485566354 - 2.2e-16im], 10, 10)"
      ]
     },
     "execution_count": 31,
     "metadata": {},
     "output_type": "execute_result"
    }
   ],
   "source": [
    "H_MB = H1_MB + H_Int_MB"
   ]
  },
  {
   "cell_type": "markdown",
   "id": "87a054cb",
   "metadata": {},
   "source": [
    "2) If U<<Band-Gap, Sub-Space Hofstadter Finite-U energies converges at Hofstadter Finite-U energies.\n",
    "3) When all SP states projected to the new sub-space, Sub-Space Hofstadter Finite-U energies have to equal to Hofstadter Finite-U energies."
   ]
  },
  {
   "cell_type": "code",
   "execution_count": 18,
   "id": "c5c80789",
   "metadata": {
    "tags": []
   },
   "outputs": [
    {
     "data": {
      "text/plain": [
       "Hofstadter_Non_Int (generic function with 1 method)"
      ]
     },
     "execution_count": 18,
     "metadata": {},
     "output_type": "execute_result"
    }
   ],
   "source": [
    "@nbinclude(\"Hofstadter MB in Julia.ipynb\"; regex=r\"#.*executeme\")"
   ]
  },
  {
   "cell_type": "code",
   "execution_count": 32,
   "id": "3b6f8b5e-06b7-4696-9611-ef9229028699",
   "metadata": {
    "tags": []
   },
   "outputs": [
    {
     "data": {
      "text/plain": [
       "10-element Vector{Float64}:\n",
       " -5.656854249492388\n",
       " -5.6568542494923815\n",
       " -5.6568542494923815\n",
       " -5.277916867529371\n",
       " -5.27791686752937\n",
       " -5.2779168675293695\n",
       " -5.277916867529364\n",
       " -4.898979485566356\n",
       " -4.898979485566355\n",
       " -4.898979485566354"
      ]
     },
     "execution_count": 32,
     "metadata": {},
     "output_type": "execute_result"
    }
   ],
   "source": [
    "E1 = eigenenergies(dense((H_MB+dagger(H_MB))/2))"
   ]
  },
  {
   "cell_type": "code",
   "execution_count": 19,
   "id": "7246b2cf",
   "metadata": {
    "tags": []
   },
   "outputs": [
    {
     "data": {
      "text/plain": [
       "325-element Vector{Float64}:\n",
       " -5.80422606518063\n",
       " -5.804226065180629\n",
       " -5.804226065180615\n",
       " -5.804226065180608\n",
       " -5.804226065180594\n",
       " -5.6663813837786305\n",
       " -5.666381383778626\n",
       " -5.666381383778617\n",
       " -5.666381383778617\n",
       " -5.666381383778617\n",
       " -5.65929311871793\n",
       " -5.659293118717916\n",
       " -5.659293118717908\n",
       "  ⋮\n",
       "  5.937498269754853\n",
       "  5.937498269754853\n",
       "  6.183619050574752\n",
       "  6.183619050574754\n",
       "  6.183619050574755\n",
       "  6.18361905057476\n",
       "  6.183619050574766\n",
       "  6.279364187452772\n",
       "  6.27936418745278\n",
       "  6.279364187452785\n",
       "  6.279364187452792\n",
       "  6.279364187452807"
      ]
     },
     "execution_count": 19,
     "metadata": {},
     "output_type": "execute_result"
    }
   ],
   "source": [
    "# using Plots\n",
    "\n",
    "E1 = eigenenergies(dense((H_MB+dagger(H_MB))/2))\n",
    "\n",
    "E2 = eigenenergies(dense(Hofstadter_Finite_U(Nx, Ny, alpha, PN, U)))\n",
    "\n",
    "# print(E1-E2[1:length(E1)])\n",
    "\n",
    "# plot(1:length(E1),E1,seriestype=:scatter,markershape=:star5, markersize=6, label=\"Sub-Space\")\n",
    "# plot!(1:length(E2),E2,seriestype=:scatter,label=\"Real-Space\",legend=:topleft)\n",
    "# xlabel!(\"n\");ylabel!(\"E\")"
   ]
  },
  {
   "cell_type": "code",
   "execution_count": 20,
   "id": "ee390ff9-deaf-41b3-aa30-28e0bd6c6639",
   "metadata": {
    "tags": []
   },
   "outputs": [
    {
     "data": {
      "text/plain": [
       "15-element Vector{Float64}:\n",
       " -5.93289597828675\n",
       " -5.932895978286747\n",
       " -5.932895978286747\n",
       " -5.932895978286747\n",
       " -5.932895978286745\n",
       " -5.932895978286745\n",
       " -5.932895978286744\n",
       " -5.932895978286744\n",
       " -5.932895978286743\n",
       " -5.932895978286743\n",
       " -5.932895978286743\n",
       " -5.9328959782867425\n",
       " -5.932895978286742\n",
       " -5.932895978286742\n",
       " -5.932895978286742"
      ]
     },
     "execution_count": 20,
     "metadata": {},
     "output_type": "execute_result"
    }
   ],
   "source": [
    "E1"
   ]
  }
 ],
 "metadata": {
  "kernelspec": {
   "display_name": "Julia 1.7.2",
   "language": "julia",
   "name": "julia-1.7"
  },
  "language_info": {
   "file_extension": ".jl",
   "mimetype": "application/julia",
   "name": "julia",
   "version": "1.7.2"
  }
 },
 "nbformat": 4,
 "nbformat_minor": 5
}
