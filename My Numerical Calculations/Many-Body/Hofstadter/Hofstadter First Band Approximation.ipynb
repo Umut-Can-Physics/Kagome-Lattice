{
 "cells": [
  {
   "cell_type": "code",
   "execution_count": 1,
   "id": "portuguese-prediction",
   "metadata": {
    "tags": []
   },
   "outputs": [],
   "source": [
    "using NBInclude\n",
    "@nbinclude(\"Hofstadter Single Particle in Julia.ipynb\")\n",
    "@nbinclude(joinpath(\"..\",\"First Band Approximation Functions.ipynb\"));"
   ]
  },
  {
   "cell_type": "markdown",
   "id": "1cbf7141-36bd-4ef7-9487-deb38a7b9128",
   "metadata": {
    "tags": []
   },
   "source": [
    "# Initial Parameters"
   ]
  },
  {
   "cell_type": "code",
   "execution_count": 2,
   "id": "about-bones",
   "metadata": {
    "tags": []
   },
   "outputs": [
    {
     "name": "stdout",
     "output_type": "stream",
     "text": [
      "Magnetic flux per unit-cell:0.1\n",
      " Number of flux quanta:8"
     ]
    }
   ],
   "source": [
    "Nx = 8; Ny = 10; N=Nx*Ny; p = 1; q = Ny; cut_off = Nx;\n",
    "PN = [0,1,2,3];\n",
    "U = 2;\n",
    "print(\"Magnetic flux per unit-cell:\",p/q,\"\\n Number of flux quanta:\",Nx)"
   ]
  },
  {
   "cell_type": "markdown",
   "id": "aa578b60-4cd3-49a9-8e3d-aabffe7d92cf",
   "metadata": {
    "tags": []
   },
   "source": [
    "# Single-Particle"
   ]
  },
  {
   "cell_type": "code",
   "execution_count": 3,
   "id": "imperial-crisis",
   "metadata": {
    "tags": []
   },
   "outputs": [
    {
     "data": {
      "text/latex": [
       "Compute the single-particle operator from single-particle matrix.\n",
       "\n",
       "\\paragraph{Arguments}\n",
       "\\begin{itemize}\n",
       "\\item \\texttt{sp\\_basis::NLevelBasis}: Single-Particle basis.\n",
       "\n",
       "\n",
       "\\item \\texttt{N::Integer}: The total site number.\n",
       "\n",
       "\n",
       "\\item \\texttt{sp\\_matrix::Matrix}: Hopping phases matrix from any model.\n",
       "\n",
       "\\end{itemize}\n"
      ],
      "text/markdown": [
       "Compute the single-particle operator from single-particle matrix.\n",
       "\n",
       "#### Arguments\n",
       "\n",
       "  * `sp_basis::NLevelBasis`: Single-Particle basis.\n",
       "  * `N::Integer`: The total site number.\n",
       "  * `sp_matrix::Matrix`: Hopping phases matrix from any model.\n"
      ],
      "text/plain": [
       "  Compute the single-particle operator from single-particle matrix.\n",
       "\n",
       "\u001b[1m  Arguments\u001b[22m\n",
       "\u001b[1m  -----------\u001b[22m\n",
       "\n",
       "    •  \u001b[36msp_basis::NLevelBasis\u001b[39m: Single-Particle basis.\n",
       "\n",
       "    •  \u001b[36mN::Integer\u001b[39m: The total site number.\n",
       "\n",
       "    •  \u001b[36msp_matrix::Matrix\u001b[39m: Hopping phases matrix from any model."
      ]
     },
     "execution_count": 3,
     "metadata": {},
     "output_type": "execute_result"
    }
   ],
   "source": [
    "@doc get_sp_op"
   ]
  },
  {
   "cell_type": "code",
   "execution_count": 4,
   "id": "temporal-cleveland",
   "metadata": {
    "tags": []
   },
   "outputs": [],
   "source": [
    "sp_basis = NLevelBasis(N)\n",
    "periodicity = 0\n",
    "sp_matrix = Hofstadter_SP(Nx, Ny, p/q, periodicity);"
   ]
  },
  {
   "cell_type": "code",
   "execution_count": 5,
   "id": "likely-spank",
   "metadata": {
    "tags": []
   },
   "outputs": [],
   "source": [
    "H1 = get_sp_op(sp_basis, N, sp_matrix);"
   ]
  },
  {
   "cell_type": "code",
   "execution_count": 6,
   "id": "ignored-medium",
   "metadata": {
    "tags": []
   },
   "outputs": [
    {
     "data": {
      "text/plain": [
       "true"
      ]
     },
     "execution_count": 6,
     "metadata": {},
     "output_type": "execute_result"
    }
   ],
   "source": [
    "using LinearAlgebra\n",
    "eigenenergies(dense(H1)) == eigvals(sp_matrix) # true\n",
    "#show(stdout, \"text/plain\", eigvals(sp_matrix))"
   ]
  },
  {
   "cell_type": "code",
   "execution_count": 7,
   "id": "e2e9066d-37c3-4286-b5fa-db560eacf4c0",
   "metadata": {
    "tags": []
   },
   "outputs": [
    {
     "data": {
      "text/latex": [
       "Compute the first eigen-states in a given number.\n",
       "\n",
       "\\paragraph{Arguments}\n",
       "\\begin{itemize}\n",
       "\\item \\texttt{sp\\_op::get\\_sp\\_op}: Single-particle operator.\n",
       "\n",
       "\n",
       "\\item \\texttt{cut\\_off::Int}: Limit value of eigen-state index.\n",
       "\n",
       "\\end{itemize}\n"
      ],
      "text/markdown": [
       "Compute the first eigen-states in a given number.\n",
       "\n",
       "#### Arguments\n",
       "\n",
       "  * `sp_op::get_sp_op`: Single-particle operator.\n",
       "  * `cut_off::Int`: Limit value of eigen-state index.\n"
      ],
      "text/plain": [
       "  Compute the first eigen-states in a given number.\n",
       "\n",
       "\u001b[1m  Arguments\u001b[22m\n",
       "\u001b[1m  -----------\u001b[22m\n",
       "\n",
       "    •  \u001b[36msp_op::get_sp_op\u001b[39m: Single-particle operator.\n",
       "\n",
       "    •  \u001b[36mcut_off::Int\u001b[39m: Limit value of eigen-state index."
      ]
     },
     "execution_count": 7,
     "metadata": {},
     "output_type": "execute_result"
    }
   ],
   "source": [
    "@doc get_sub_states"
   ]
  },
  {
   "cell_type": "code",
   "execution_count": 8,
   "id": "compact-brooks",
   "metadata": {
    "tags": []
   },
   "outputs": [],
   "source": [
    "sub_states = get_sub_states(H1, cut_off);"
   ]
  },
  {
   "cell_type": "code",
   "execution_count": 9,
   "id": "d644861d-5ac6-4597-bfdb-9df51e96c229",
   "metadata": {
    "tags": []
   },
   "outputs": [
    {
     "data": {
      "text/latex": [
       "Compute sub-space basis, projection and comlex conjugate of projection operator.\n",
       "\n",
       "\\paragraph{Arguments}\n",
       "\\begin{itemize}\n",
       "\\item \\texttt{states::get\\_sub\\_states}: Eigen-states of the sub-space.\n",
       "\n",
       "\n",
       "\\item \\texttt{basis::NLevelBasis}: Single-particle basis.\n",
       "\n",
       "\\end{itemize}\n"
      ],
      "text/markdown": [
       "Compute sub-space basis, projection and comlex conjugate of projection operator.\n",
       "\n",
       "#### Arguments\n",
       "\n",
       "  * `states::get_sub_states`: Eigen-states of the sub-space.\n",
       "  * `basis::NLevelBasis`: Single-particle basis.\n"
      ],
      "text/plain": [
       "  Compute sub-space basis, projection and comlex conjugate of projection\n",
       "  operator.\n",
       "\n",
       "\u001b[1m  Arguments\u001b[22m\n",
       "\u001b[1m  -----------\u001b[22m\n",
       "\n",
       "    •  \u001b[36mstates::get_sub_states\u001b[39m: Eigen-states of the sub-space.\n",
       "\n",
       "    •  \u001b[36mbasis::NLevelBasis\u001b[39m: Single-particle basis."
      ]
     },
     "execution_count": 9,
     "metadata": {},
     "output_type": "execute_result"
    }
   ],
   "source": [
    "@doc get_projector_op"
   ]
  },
  {
   "cell_type": "code",
   "execution_count": 10,
   "id": "molecular-bankruptcy",
   "metadata": {
    "tags": []
   },
   "outputs": [],
   "source": [
    "basis_sub, P, Pt = get_projector_op(sub_states, sp_basis);"
   ]
  },
  {
   "cell_type": "code",
   "execution_count": 11,
   "id": "dd280e68-52a1-4367-b2f8-e73c8533f8bb",
   "metadata": {
    "tags": []
   },
   "outputs": [
    {
     "data": {
      "text/latex": [
       "Compute the corresponding operator in the sub-space.\n",
       "\n",
       "\\paragraph{Arguments}\n",
       "\\begin{itemize}\n",
       "\\item \\texttt{sp\\_op::Operator}: Single-particle operator from single-particle matrix.\n",
       "\n",
       "\n",
       "\\item \\texttt{P::get\\_projector\\_op[2]}: Projection operator.\n",
       "\n",
       "\n",
       "\\item \\texttt{Pt::get\\_projector\\_op[3]}: Complex conjugate of projection operator.\n",
       "\n",
       "\\end{itemize}\n"
      ],
      "text/markdown": [
       "Compute the corresponding operator in the sub-space.\n",
       "\n",
       "#### Arguments\n",
       "\n",
       "  * `sp_op::Operator`: Single-particle operator from single-particle matrix.\n",
       "  * `P::get_projector_op[2]`: Projection operator.\n",
       "  * `Pt::get_projector_op[3]`: Complex conjugate of projection operator.\n"
      ],
      "text/plain": [
       "  Compute the corresponding operator in the sub-space.\n",
       "\n",
       "\u001b[1m  Arguments\u001b[22m\n",
       "\u001b[1m  -----------\u001b[22m\n",
       "\n",
       "    •  \u001b[36msp_op::Operator\u001b[39m: Single-particle operator from single-particle\n",
       "       matrix.\n",
       "\n",
       "    •  \u001b[36mP::get_projector_op[2]\u001b[39m: Projection operator.\n",
       "\n",
       "    •  \u001b[36mPt::get_projector_op[3]\u001b[39m: Complex conjugate of projection operator."
      ]
     },
     "execution_count": 11,
     "metadata": {},
     "output_type": "execute_result"
    }
   ],
   "source": [
    "@doc get_subspace_op"
   ]
  },
  {
   "cell_type": "code",
   "execution_count": 12,
   "id": "informed-macro",
   "metadata": {
    "tags": []
   },
   "outputs": [],
   "source": [
    "H1_sub = get_subspace_op(H1, P, Pt);"
   ]
  },
  {
   "cell_type": "code",
   "execution_count": 13,
   "id": "c4bc4b2e-2868-45fa-8200-c6187ed42627",
   "metadata": {
    "tags": []
   },
   "outputs": [
    {
     "data": {
      "text/latex": [
       "Compute the single-particle number operator for each lattice sites.\n",
       "\n",
       "\\paragraph{Arguments}\n",
       "\\begin{itemize}\n",
       "\\item \\texttt{N::Integer}: The total site number.\n",
       "\n",
       "\n",
       "\\item \\texttt{sp\\_basis::NLevelBasis}: Single-Particle basis.\n",
       "\n",
       "\n",
       "\\item \\texttt{P::get\\_projector\\_op[2]}: Projection operator.\n",
       "\n",
       "\n",
       "\\item \\texttt{Pt::get\\_projector\\_op[3]}: Complex conjugate of projection operator.\n",
       "\n",
       "\\end{itemize}\n"
      ],
      "text/markdown": [
       "Compute the single-particle number operator for each lattice sites.\n",
       "\n",
       "#### Arguments\n",
       "\n",
       "  * `N::Integer`: The total site number.\n",
       "  * `sp_basis::NLevelBasis`: Single-Particle basis.\n",
       "  * `P::get_projector_op[2]`: Projection operator.\n",
       "  * `Pt::get_projector_op[3]`: Complex conjugate of projection operator.\n"
      ],
      "text/plain": [
       "  Compute the single-particle number operator for each lattice sites.\n",
       "\n",
       "\u001b[1m  Arguments\u001b[22m\n",
       "\u001b[1m  -----------\u001b[22m\n",
       "\n",
       "    •  \u001b[36mN::Integer\u001b[39m: The total site number.\n",
       "\n",
       "    •  \u001b[36msp_basis::NLevelBasis\u001b[39m: Single-Particle basis.\n",
       "\n",
       "    •  \u001b[36mP::get_projector_op[2]\u001b[39m: Projection operator.\n",
       "\n",
       "    •  \u001b[36mPt::get_projector_op[3]\u001b[39m: Complex conjugate of projection operator."
      ]
     },
     "execution_count": 13,
     "metadata": {},
     "output_type": "execute_result"
    }
   ],
   "source": [
    "@doc get_num_sub_list"
   ]
  },
  {
   "cell_type": "code",
   "execution_count": 14,
   "id": "cross-patrol",
   "metadata": {
    "tags": []
   },
   "outputs": [],
   "source": [
    "num_sub_list = get_num_sub_list(N, sp_basis, P, Pt);"
   ]
  },
  {
   "cell_type": "markdown",
   "id": "particular-surrey",
   "metadata": {},
   "source": [
    "# Many-Body"
   ]
  },
  {
   "cell_type": "code",
   "execution_count": 15,
   "id": "cccffa5e-d4fd-4260-a7c5-d2fe183534e1",
   "metadata": {
    "tags": []
   },
   "outputs": [
    {
     "data": {
      "text/latex": [
       "Compute the many-body operator for boson particles from single-particle operator.\n",
       "\n",
       "\\paragraph{Arguments}\n",
       "\\begin{itemize}\n",
       "\\item \\texttt{basis\\_mb}: Many-body basis.\n",
       "\n",
       "\n",
       "\\item \\texttt{basis\\_sub::get\\_projector\\_op[1]}: Sub-space basis.\n",
       "\n",
       "\n",
       "\\item \\texttt{sp\\_op::Operator}: Single-particle operator from single-particle matrix.\n",
       "\n",
       "\\end{itemize}\n"
      ],
      "text/markdown": [
       "Compute the many-body operator for boson particles from single-particle operator.\n",
       "\n",
       "#### Arguments\n",
       "\n",
       "  * `basis_mb`: Many-body basis.\n",
       "  * `basis_sub::get_projector_op[1]`: Sub-space basis.\n",
       "  * `sp_op::Operator`: Single-particle operator from single-particle matrix.\n"
      ],
      "text/plain": [
       "  Compute the many-body operator for boson particles from single-particle\n",
       "  operator.\n",
       "\n",
       "\u001b[1m  Arguments\u001b[22m\n",
       "\u001b[1m  -----------\u001b[22m\n",
       "\n",
       "    •  \u001b[36mbasis_mb\u001b[39m: Many-body basis.\n",
       "\n",
       "    •  \u001b[36mbasis_sub::get_projector_op[1]\u001b[39m: Sub-space basis.\n",
       "\n",
       "    •  \u001b[36msp_op::Operator\u001b[39m: Single-particle operator from single-particle\n",
       "       matrix."
      ]
     },
     "execution_count": 15,
     "metadata": {},
     "output_type": "execute_result"
    }
   ],
   "source": [
    "@doc get_mb_op"
   ]
  },
  {
   "cell_type": "code",
   "execution_count": 16,
   "id": "2d6ddf03-05b6-497a-af81-8ccf124adde4",
   "metadata": {
    "tags": []
   },
   "outputs": [],
   "source": [
    "states_mb = bosonstates(basis_sub, PN) \n",
    "basis_mb = ManyBodyBasis(basis_sub, states_mb);"
   ]
  },
  {
   "cell_type": "code",
   "execution_count": 17,
   "id": "6eca28a4-7872-49e8-8e57-31306169840c",
   "metadata": {
    "tags": []
   },
   "outputs": [],
   "source": [
    "H1_MB = get_mb_op(basis_mb, basis_sub, H1_sub);"
   ]
  },
  {
   "cell_type": "code",
   "execution_count": 18,
   "id": "d228561d-92e0-4e56-8eb3-0747bc107238",
   "metadata": {
    "tags": []
   },
   "outputs": [
    {
     "data": {
      "text/plain": [
       "Hofstadter_Finite_U (generic function with 1 method)"
      ]
     },
     "execution_count": 18,
     "metadata": {},
     "output_type": "execute_result"
    }
   ],
   "source": [
    "@nbinclude(\"Hofstadter MB in Julia.ipynb\"; regex=r\"#.*executeme\")"
   ]
  },
  {
   "cell_type": "code",
   "execution_count": 19,
   "id": "f5e7021c-a835-4d85-b45c-3ba5d456c977",
   "metadata": {
    "tags": []
   },
   "outputs": [
    {
     "data": {
      "text/latex": [
       "Compute the on-site Bose-Hubbard Interaction term.\n",
       "\n",
       "\\paragraph{Arguments:}\n",
       "\\begin{itemize}\n",
       "\\item \\texttt{basis\\_cut\\_sp}: The cutt-off sites of bosonic many-body basis.\n",
       "\n",
       "\n",
       "\\item \\texttt{basis\\_cut\\_mb}: The cutt-off sites of single-particle basis.\n",
       "\n",
       "\n",
       "\\item \\texttt{P::Operator}: Projection operator.\n",
       "\n",
       "\n",
       "\\item \\texttt{Pt::Operator}: Complex conjugate of projection operator.\n",
       "\n",
       "\n",
       "\\item \\texttt{cut\\_off::Int}: Limit value of eigen-state index.\n",
       "\n",
       "\\end{itemize}\n"
      ],
      "text/markdown": [
       "Compute the on-site Bose-Hubbard Interaction term.\n",
       "\n",
       "#### Arguments:\n",
       "\n",
       "  * `basis_cut_sp`: The cutt-off sites of bosonic many-body basis.\n",
       "  * `basis_cut_mb`: The cutt-off sites of single-particle basis.\n",
       "  * `P::Operator`: Projection operator.\n",
       "  * `Pt::Operator`: Complex conjugate of projection operator.\n",
       "  * `cut_off::Int`: Limit value of eigen-state index.\n"
      ],
      "text/plain": [
       "  Compute the on-site Bose-Hubbard Interaction term.\n",
       "\n",
       "\u001b[1m  Arguments:\u001b[22m\n",
       "\u001b[1m  ------------\u001b[22m\n",
       "\n",
       "    •  \u001b[36mbasis_cut_sp\u001b[39m: The cutt-off sites of bosonic many-body basis.\n",
       "\n",
       "    •  \u001b[36mbasis_cut_mb\u001b[39m: The cutt-off sites of single-particle basis.\n",
       "\n",
       "    •  \u001b[36mP::Operator\u001b[39m: Projection operator.\n",
       "\n",
       "    •  \u001b[36mPt::Operator\u001b[39m: Complex conjugate of projection operator.\n",
       "\n",
       "    •  \u001b[36mcut_off::Int\u001b[39m: Limit value of eigen-state index."
      ]
     },
     "execution_count": 19,
     "metadata": {},
     "output_type": "execute_result"
    }
   ],
   "source": [
    "@doc Hubbard_Interaction"
   ]
  },
  {
   "cell_type": "code",
   "execution_count": 20,
   "id": "dutch-philosophy",
   "metadata": {
    "tags": []
   },
   "outputs": [],
   "source": [
    "basis_cut_mb, basis_cut_sp = get_Bosonic_MB_Basis(cut_off,PN)\n",
    "H_Int = Hubbard_Interaction(basis_cut_sp, basis_cut_mb, P, Pt, cut_off);"
   ]
  },
  {
   "cell_type": "markdown",
   "id": "865cc1d6-3246-4f5a-9c75-dfe67eab2040",
   "metadata": {},
   "source": [
    "# Constructing Total Hamiltonians "
   ]
  },
  {
   "cell_type": "code",
   "execution_count": 21,
   "id": "technical-technology",
   "metadata": {
    "tags": []
   },
   "outputs": [],
   "source": [
    "H1cut = SparseOperator(basis_cut_mb)\n",
    "H1cut.data = H1_MB.data\n",
    "\n",
    "number_mb_list_operators = get_num_mb_op(N, basis_cut_sp, num_sub_list, basis_cut_mb, basis_sub)\n",
    "\n",
    "function get_total_H(V, imp_site, number_mb_list_operators, H1cut, H_Int)\n",
    "    V_imp = V * number_mb_list_operators[imp_site]\n",
    "    H_totall = H1cut + H_Int + V_imp\n",
    "    return H_totall\n",
    "end\n",
    "\n",
    "imp_site = 44\n",
    "H_total_imp = get_total_H(4, imp_site, number_mb_list_operators, H1cut, H_Int)\n",
    "H_total = get_total_H(0, 45, number_mb_list_operators, H1cut, H_Int);"
   ]
  },
  {
   "cell_type": "markdown",
   "id": "3f1b1096-6ac2-4940-9e20-a7b79871a0a7",
   "metadata": {},
   "source": [
    "# Exact-Diagonalization"
   ]
  },
  {
   "cell_type": "code",
   "execution_count": 22,
   "id": "436255b0-474b-4d97-8672-a458428a7a3d",
   "metadata": {
    "tags": []
   },
   "outputs": [
    {
     "data": {
      "text/plain": [
       "get_energies (generic function with 1 method)"
      ]
     },
     "execution_count": 22,
     "metadata": {},
     "output_type": "execute_result"
    }
   ],
   "source": [
    "using DataFrames\n",
    "\n",
    "E, V = eigenstates(dense((H_total_imp+dagger(H_total_imp))/2))\n",
    "E0, V0 = eigenstates(dense((H_total+dagger(H_total))/2))\n",
    "\n",
    "function get_energies(pn, E, V, basis)\n",
    "    PN_Energies = Array{Float64}(undef, length(E), 2)\n",
    "    for i in 1:length(E)\n",
    "        PN_Energies[i] = round(expect(number(basis), V[i])) #expected values (first column)\n",
    "        PN_Energies[i,2] = E[i] #eigen-values (second column)\n",
    "    end\n",
    "    \n",
    "    # filter\n",
    "    df = DataFrame(PN_Energies, :auto)\n",
    "    df = filter(row -> (row.x1 == pn),  df)\n",
    "    \n",
    "    return df\n",
    "end"
   ]
  },
  {
   "cell_type": "code",
   "execution_count": 23,
   "id": "583a1134-1a10-4849-8a76-76888954c9b5",
   "metadata": {
    "tags": []
   },
   "outputs": [
    {
     "data": {
      "text/plain": [
       "4-element Vector{Int64}:\n",
       " 0\n",
       " 1\n",
       " 2\n",
       " 3"
      ]
     },
     "execution_count": 23,
     "metadata": {},
     "output_type": "execute_result"
    }
   ],
   "source": [
    "PN"
   ]
  },
  {
   "cell_type": "code",
   "execution_count": 24,
   "id": "0fc34877-b975-44a9-bdf1-171087768b75",
   "metadata": {
    "tags": []
   },
   "outputs": [
    {
     "data": {
      "text/plain": [
       "120-element Vector{Float64}:\n",
       " -10.259932886485375\n",
       " -10.259932886485373\n",
       " -10.259901993554315\n",
       " -10.259901993554308\n",
       " -10.25990023222438\n",
       " -10.259900232224377\n",
       " -10.259900232224377\n",
       " -10.259900232224373\n",
       " -10.259850864410984\n",
       " -10.259850864410982\n",
       " -10.25985086441098\n",
       " -10.259850864410977\n",
       " -10.259849006190192\n",
       "   ⋮\n",
       "  -9.961172883168818\n",
       "  -9.96117288316881\n",
       "  -9.961002871235502\n",
       "  -9.9610028712355\n",
       "  -9.958174841380709\n",
       "  -9.958174841380703\n",
       "  -9.95783656383475\n",
       "  -9.957836563834746\n",
       "  -9.957836563834745\n",
       "  -9.957836563834743\n",
       "  -9.957496405192192\n",
       "  -9.957496405192186"
      ]
     },
     "execution_count": 24,
     "metadata": {},
     "output_type": "execute_result"
    }
   ],
   "source": [
    "pn = 3.0\n",
    "df = get_energies(pn, E, V, basis_cut_mb)\n",
    "df_0 = get_energies(pn, E0, V0, basis_cut_mb)\n",
    "# V \\neq 0\n",
    "filtered_energies = Matrix(df)[:,2]\n",
    "# V=0\n",
    "filtered_energies_0 = Matrix(df_0)[:,2]\n",
    "#show(stdout,\"text/plain\", filtered_energies) #show all outputs"
   ]
  },
  {
   "cell_type": "code",
   "execution_count": 25,
   "id": "df9681c9-386b-4078-bb13-17f20ad6f53e",
   "metadata": {
    "tags": []
   },
   "outputs": [
    {
     "data": {
      "image/svg+xml": [
       "<?xml version=\"1.0\" encoding=\"utf-8\"?>\n",
       "<svg xmlns=\"http://www.w3.org/2000/svg\" xmlns:xlink=\"http://www.w3.org/1999/xlink\" width=\"600\" height=\"400\" viewBox=\"0 0 2400 1600\">\n",
       "<defs>\n",
       "  <clipPath id=\"clip540\">\n",
       "    <rect x=\"0\" y=\"0\" width=\"2400\" height=\"1600\"/>\n",
       "  </clipPath>\n",
       "</defs>\n",
       "<path clip-path=\"url(#clip540)\" d=\"M0 1600 L2400 1600 L2400 0 L0 0  Z\" fill=\"#ffffff\" fill-rule=\"evenodd\" fill-opacity=\"1\"/>\n",
       "<defs>\n",
       "  <clipPath id=\"clip541\">\n",
       "    <rect x=\"480\" y=\"0\" width=\"1681\" height=\"1600\"/>\n",
       "  </clipPath>\n",
       "</defs>\n",
       "<path clip-path=\"url(#clip540)\" d=\"M287.366 1423.18 L2352.76 1423.18 L2352.76 47.2441 L287.366 47.2441  Z\" fill=\"#ffffff\" fill-rule=\"evenodd\" fill-opacity=\"1\"/>\n",
       "<defs>\n",
       "  <clipPath id=\"clip542\">\n",
       "    <rect x=\"287\" y=\"47\" width=\"2066\" height=\"1377\"/>\n",
       "  </clipPath>\n",
       "</defs>\n",
       "<polyline clip-path=\"url(#clip542)\" style=\"stroke:#000000; stroke-linecap:round; stroke-linejoin:round; stroke-width:2; stroke-opacity:0.1; fill:none\" points=\"288.512,1423.18 288.512,47.2441 \"/>\n",
       "<polyline clip-path=\"url(#clip542)\" style=\"stroke:#000000; stroke-linecap:round; stroke-linejoin:round; stroke-width:2; stroke-opacity:0.1; fill:none\" points=\"861.595,1423.18 861.595,47.2441 \"/>\n",
       "<polyline clip-path=\"url(#clip542)\" style=\"stroke:#000000; stroke-linecap:round; stroke-linejoin:round; stroke-width:2; stroke-opacity:0.1; fill:none\" points=\"1434.68,1423.18 1434.68,47.2441 \"/>\n",
       "<polyline clip-path=\"url(#clip542)\" style=\"stroke:#000000; stroke-linecap:round; stroke-linejoin:round; stroke-width:2; stroke-opacity:0.1; fill:none\" points=\"2007.76,1423.18 2007.76,47.2441 \"/>\n",
       "<polyline clip-path=\"url(#clip540)\" style=\"stroke:#000000; stroke-linecap:round; stroke-linejoin:round; stroke-width:4; stroke-opacity:1; fill:none\" points=\"287.366,1423.18 2352.76,1423.18 \"/>\n",
       "<polyline clip-path=\"url(#clip540)\" style=\"stroke:#000000; stroke-linecap:round; stroke-linejoin:round; stroke-width:4; stroke-opacity:1; fill:none\" points=\"288.512,1423.18 288.512,1404.28 \"/>\n",
       "<polyline clip-path=\"url(#clip540)\" style=\"stroke:#000000; stroke-linecap:round; stroke-linejoin:round; stroke-width:4; stroke-opacity:1; fill:none\" points=\"861.595,1423.18 861.595,1404.28 \"/>\n",
       "<polyline clip-path=\"url(#clip540)\" style=\"stroke:#000000; stroke-linecap:round; stroke-linejoin:round; stroke-width:4; stroke-opacity:1; fill:none\" points=\"1434.68,1423.18 1434.68,1404.28 \"/>\n",
       "<polyline clip-path=\"url(#clip540)\" style=\"stroke:#000000; stroke-linecap:round; stroke-linejoin:round; stroke-width:4; stroke-opacity:1; fill:none\" points=\"2007.76,1423.18 2007.76,1404.28 \"/>\n",
       "<path clip-path=\"url(#clip540)\" d=\"M288.512 1454.1 Q284.901 1454.1 283.072 1457.66 Q281.267 1461.2 281.267 1468.33 Q281.267 1475.44 283.072 1479.01 Q284.901 1482.55 288.512 1482.55 Q292.146 1482.55 293.952 1479.01 Q295.781 1475.44 295.781 1468.33 Q295.781 1461.2 293.952 1457.66 Q292.146 1454.1 288.512 1454.1 M288.512 1450.39 Q294.322 1450.39 297.378 1455 Q300.456 1459.58 300.456 1468.33 Q300.456 1477.06 297.378 1481.67 Q294.322 1486.25 288.512 1486.25 Q282.702 1486.25 279.623 1481.67 Q276.568 1477.06 276.568 1468.33 Q276.568 1459.58 279.623 1455 Q282.702 1450.39 288.512 1450.39 Z\" fill=\"#000000\" fill-rule=\"nonzero\" fill-opacity=\"1\" /><path clip-path=\"url(#clip540)\" d=\"M836.282 1481.64 L843.921 1481.64 L843.921 1455.28 L835.611 1456.95 L835.611 1452.69 L843.875 1451.02 L848.551 1451.02 L848.551 1481.64 L856.19 1481.64 L856.19 1485.58 L836.282 1485.58 L836.282 1481.64 Z\" fill=\"#000000\" fill-rule=\"nonzero\" fill-opacity=\"1\" /><path clip-path=\"url(#clip540)\" d=\"M875.634 1454.1 Q872.023 1454.1 870.194 1457.66 Q868.389 1461.2 868.389 1468.33 Q868.389 1475.44 870.194 1479.01 Q872.023 1482.55 875.634 1482.55 Q879.268 1482.55 881.074 1479.01 Q882.903 1475.44 882.903 1468.33 Q882.903 1461.2 881.074 1457.66 Q879.268 1454.1 875.634 1454.1 M875.634 1450.39 Q881.444 1450.39 884.5 1455 Q887.578 1459.58 887.578 1468.33 Q887.578 1477.06 884.5 1481.67 Q881.444 1486.25 875.634 1486.25 Q869.824 1486.25 866.745 1481.67 Q863.69 1477.06 863.69 1468.33 Q863.69 1459.58 866.745 1455 Q869.824 1450.39 875.634 1450.39 Z\" fill=\"#000000\" fill-rule=\"nonzero\" fill-opacity=\"1\" /><path clip-path=\"url(#clip540)\" d=\"M1413.45 1481.64 L1429.77 1481.64 L1429.77 1485.58 L1407.83 1485.58 L1407.83 1481.64 Q1410.49 1478.89 1415.07 1474.26 Q1419.68 1469.61 1420.86 1468.27 Q1423.1 1465.74 1423.98 1464.01 Q1424.89 1462.25 1424.89 1460.56 Q1424.89 1457.8 1422.94 1456.07 Q1421.02 1454.33 1417.92 1454.33 Q1415.72 1454.33 1413.27 1455.09 Q1410.83 1455.86 1408.06 1457.41 L1408.06 1452.69 Q1410.88 1451.55 1413.33 1450.97 Q1415.79 1450.39 1417.83 1450.39 Q1423.2 1450.39 1426.39 1453.08 Q1429.58 1455.77 1429.58 1460.26 Q1429.58 1462.39 1428.77 1464.31 Q1427.99 1466.2 1425.88 1468.8 Q1425.3 1469.47 1422.2 1472.69 Q1419.1 1475.88 1413.45 1481.64 Z\" fill=\"#000000\" fill-rule=\"nonzero\" fill-opacity=\"1\" /><path clip-path=\"url(#clip540)\" d=\"M1449.58 1454.1 Q1445.97 1454.1 1444.14 1457.66 Q1442.34 1461.2 1442.34 1468.33 Q1442.34 1475.44 1444.14 1479.01 Q1445.97 1482.55 1449.58 1482.55 Q1453.22 1482.55 1455.02 1479.01 Q1456.85 1475.44 1456.85 1468.33 Q1456.85 1461.2 1455.02 1457.66 Q1453.22 1454.1 1449.58 1454.1 M1449.58 1450.39 Q1455.39 1450.39 1458.45 1455 Q1461.53 1459.58 1461.53 1468.33 Q1461.53 1477.06 1458.45 1481.67 Q1455.39 1486.25 1449.58 1486.25 Q1443.77 1486.25 1440.7 1481.67 Q1437.64 1477.06 1437.64 1468.33 Q1437.64 1459.58 1440.7 1455 Q1443.77 1450.39 1449.58 1450.39 Z\" fill=\"#000000\" fill-rule=\"nonzero\" fill-opacity=\"1\" /><path clip-path=\"url(#clip540)\" d=\"M1996.6 1466.95 Q1999.96 1467.66 2001.83 1469.93 Q2003.73 1472.2 2003.73 1475.53 Q2003.73 1480.65 2000.21 1483.45 Q1996.7 1486.25 1990.21 1486.25 Q1988.04 1486.25 1985.72 1485.81 Q1983.43 1485.39 1980.98 1484.54 L1980.98 1480.02 Q1982.92 1481.16 1985.24 1481.74 Q1987.55 1482.32 1990.08 1482.32 Q1994.47 1482.32 1996.76 1480.58 Q1999.08 1478.84 1999.08 1475.53 Q1999.08 1472.48 1996.93 1470.77 Q1994.8 1469.03 1990.98 1469.03 L1986.95 1469.03 L1986.95 1465.19 L1991.16 1465.19 Q1994.61 1465.19 1996.44 1463.82 Q1998.27 1462.43 1998.27 1459.84 Q1998.27 1457.18 1996.37 1455.77 Q1994.5 1454.33 1990.98 1454.33 Q1989.06 1454.33 1986.86 1454.75 Q1984.66 1455.16 1982.02 1456.04 L1982.02 1451.88 Q1984.68 1451.14 1987 1450.77 Q1989.33 1450.39 1991.39 1450.39 Q1996.72 1450.39 1999.82 1452.83 Q2002.92 1455.23 2002.92 1459.35 Q2002.92 1462.22 2001.28 1464.21 Q1999.64 1466.18 1996.6 1466.95 Z\" fill=\"#000000\" fill-rule=\"nonzero\" fill-opacity=\"1\" /><path clip-path=\"url(#clip540)\" d=\"M2022.6 1454.1 Q2018.99 1454.1 2017.16 1457.66 Q2015.35 1461.2 2015.35 1468.33 Q2015.35 1475.44 2017.16 1479.01 Q2018.99 1482.55 2022.6 1482.55 Q2026.23 1482.55 2028.04 1479.01 Q2029.87 1475.44 2029.87 1468.33 Q2029.87 1461.2 2028.04 1457.66 Q2026.23 1454.1 2022.6 1454.1 M2022.6 1450.39 Q2028.41 1450.39 2031.46 1455 Q2034.54 1459.58 2034.54 1468.33 Q2034.54 1477.06 2031.46 1481.67 Q2028.41 1486.25 2022.6 1486.25 Q2016.79 1486.25 2013.71 1481.67 Q2010.65 1477.06 2010.65 1468.33 Q2010.65 1459.58 2013.71 1455 Q2016.79 1450.39 2022.6 1450.39 Z\" fill=\"#000000\" fill-rule=\"nonzero\" fill-opacity=\"1\" /><path clip-path=\"url(#clip540)\" d=\"M1334.99 1546.53 L1334.99 1568.04 L1329.13 1568.04 L1329.13 1546.72 Q1329.13 1541.66 1327.16 1539.14 Q1325.19 1536.63 1321.24 1536.63 Q1316.5 1536.63 1313.76 1539.65 Q1311.02 1542.68 1311.02 1547.9 L1311.02 1568.04 L1305.13 1568.04 L1305.13 1532.4 L1311.02 1532.4 L1311.02 1537.93 Q1313.12 1534.72 1315.96 1533.13 Q1318.82 1531.54 1322.54 1531.54 Q1328.69 1531.54 1331.84 1535.36 Q1334.99 1539.14 1334.99 1546.53 Z\" fill=\"#000000\" fill-rule=\"nonzero\" fill-opacity=\"1\" /><polyline clip-path=\"url(#clip542)\" style=\"stroke:#000000; stroke-linecap:round; stroke-linejoin:round; stroke-width:2; stroke-opacity:0.1; fill:none\" points=\"287.366,1270.04 2352.76,1270.04 \"/>\n",
       "<polyline clip-path=\"url(#clip542)\" style=\"stroke:#000000; stroke-linecap:round; stroke-linejoin:round; stroke-width:2; stroke-opacity:0.1; fill:none\" points=\"287.366,1051.26 2352.76,1051.26 \"/>\n",
       "<polyline clip-path=\"url(#clip542)\" style=\"stroke:#000000; stroke-linecap:round; stroke-linejoin:round; stroke-width:2; stroke-opacity:0.1; fill:none\" points=\"287.366,832.488 2352.76,832.488 \"/>\n",
       "<polyline clip-path=\"url(#clip542)\" style=\"stroke:#000000; stroke-linecap:round; stroke-linejoin:round; stroke-width:2; stroke-opacity:0.1; fill:none\" points=\"287.366,613.713 2352.76,613.713 \"/>\n",
       "<polyline clip-path=\"url(#clip542)\" style=\"stroke:#000000; stroke-linecap:round; stroke-linejoin:round; stroke-width:2; stroke-opacity:0.1; fill:none\" points=\"287.366,394.938 2352.76,394.938 \"/>\n",
       "<polyline clip-path=\"url(#clip542)\" style=\"stroke:#000000; stroke-linecap:round; stroke-linejoin:round; stroke-width:2; stroke-opacity:0.1; fill:none\" points=\"287.366,176.164 2352.76,176.164 \"/>\n",
       "<polyline clip-path=\"url(#clip540)\" style=\"stroke:#000000; stroke-linecap:round; stroke-linejoin:round; stroke-width:4; stroke-opacity:1; fill:none\" points=\"287.366,1423.18 287.366,47.2441 \"/>\n",
       "<polyline clip-path=\"url(#clip540)\" style=\"stroke:#000000; stroke-linecap:round; stroke-linejoin:round; stroke-width:4; stroke-opacity:1; fill:none\" points=\"287.366,1270.04 306.264,1270.04 \"/>\n",
       "<polyline clip-path=\"url(#clip540)\" style=\"stroke:#000000; stroke-linecap:round; stroke-linejoin:round; stroke-width:4; stroke-opacity:1; fill:none\" points=\"287.366,1051.26 306.264,1051.26 \"/>\n",
       "<polyline clip-path=\"url(#clip540)\" style=\"stroke:#000000; stroke-linecap:round; stroke-linejoin:round; stroke-width:4; stroke-opacity:1; fill:none\" points=\"287.366,832.488 306.264,832.488 \"/>\n",
       "<polyline clip-path=\"url(#clip540)\" style=\"stroke:#000000; stroke-linecap:round; stroke-linejoin:round; stroke-width:4; stroke-opacity:1; fill:none\" points=\"287.366,613.713 306.264,613.713 \"/>\n",
       "<polyline clip-path=\"url(#clip540)\" style=\"stroke:#000000; stroke-linecap:round; stroke-linejoin:round; stroke-width:4; stroke-opacity:1; fill:none\" points=\"287.366,394.938 306.264,394.938 \"/>\n",
       "<polyline clip-path=\"url(#clip540)\" style=\"stroke:#000000; stroke-linecap:round; stroke-linejoin:round; stroke-width:4; stroke-opacity:1; fill:none\" points=\"287.366,176.164 306.264,176.164 \"/>\n",
       "<path clip-path=\"url(#clip540)\" d=\"M114.26 1270.49 L143.936 1270.49 L143.936 1274.42 L114.26 1274.42 L114.26 1270.49 Z\" fill=\"#000000\" fill-rule=\"nonzero\" fill-opacity=\"1\" /><path clip-path=\"url(#clip540)\" d=\"M154.839 1283.38 L162.477 1283.38 L162.477 1257.02 L154.167 1258.68 L154.167 1254.42 L162.431 1252.76 L167.107 1252.76 L167.107 1283.38 L174.746 1283.38 L174.746 1287.32 L154.839 1287.32 L154.839 1283.38 Z\" fill=\"#000000\" fill-rule=\"nonzero\" fill-opacity=\"1\" /><path clip-path=\"url(#clip540)\" d=\"M194.19 1255.84 Q190.579 1255.84 188.75 1259.4 Q186.945 1262.94 186.945 1270.07 Q186.945 1277.18 188.75 1280.74 Q190.579 1284.29 194.19 1284.29 Q197.825 1284.29 199.63 1280.74 Q201.459 1277.18 201.459 1270.07 Q201.459 1262.94 199.63 1259.4 Q197.825 1255.84 194.19 1255.84 M194.19 1252.13 Q200 1252.13 203.056 1256.74 Q206.135 1261.32 206.135 1270.07 Q206.135 1278.8 203.056 1283.41 Q200 1287.99 194.19 1287.99 Q188.38 1287.99 185.301 1283.41 Q182.246 1278.8 182.246 1270.07 Q182.246 1261.32 185.301 1256.74 Q188.38 1252.13 194.19 1252.13 Z\" fill=\"#000000\" fill-rule=\"nonzero\" fill-opacity=\"1\" /><path clip-path=\"url(#clip540)\" d=\"M214.352 1281.44 L219.236 1281.44 L219.236 1287.32 L214.352 1287.32 L214.352 1281.44 Z\" fill=\"#000000\" fill-rule=\"nonzero\" fill-opacity=\"1\" /><path clip-path=\"url(#clip540)\" d=\"M239.422 1255.84 Q235.81 1255.84 233.982 1259.4 Q232.176 1262.94 232.176 1270.07 Q232.176 1277.18 233.982 1280.74 Q235.81 1284.29 239.422 1284.29 Q243.056 1284.29 244.861 1280.74 Q246.69 1277.18 246.69 1270.07 Q246.69 1262.94 244.861 1259.4 Q243.056 1255.84 239.422 1255.84 M239.422 1252.13 Q245.232 1252.13 248.287 1256.74 Q251.366 1261.32 251.366 1270.07 Q251.366 1278.8 248.287 1283.41 Q245.232 1287.99 239.422 1287.99 Q233.611 1287.99 230.533 1283.41 Q227.477 1278.8 227.477 1270.07 Q227.477 1261.32 230.533 1256.74 Q233.611 1252.13 239.422 1252.13 Z\" fill=\"#000000\" fill-rule=\"nonzero\" fill-opacity=\"1\" /><path clip-path=\"url(#clip540)\" d=\"M145.417 1051.71 L175.093 1051.71 L175.093 1055.65 L145.417 1055.65 L145.417 1051.71 Z\" fill=\"#000000\" fill-rule=\"nonzero\" fill-opacity=\"1\" /><path clip-path=\"url(#clip540)\" d=\"M185.325 1067.83 L185.325 1063.57 Q187.084 1064.4 188.889 1064.84 Q190.695 1065.28 192.431 1065.28 Q197.061 1065.28 199.491 1062.18 Q201.945 1059.05 202.292 1052.71 Q200.95 1054.7 198.889 1055.77 Q196.829 1056.83 194.329 1056.83 Q189.144 1056.83 186.112 1053.7 Q183.102 1050.56 183.102 1045.12 Q183.102 1039.79 186.251 1036.58 Q189.399 1033.36 194.63 1033.36 Q200.625 1033.36 203.774 1037.96 Q206.945 1042.55 206.945 1051.3 Q206.945 1059.47 203.056 1064.35 Q199.19 1069.21 192.639 1069.21 Q190.88 1069.21 189.075 1068.87 Q187.269 1068.52 185.325 1067.83 M194.63 1053.17 Q197.778 1053.17 199.607 1051.02 Q201.459 1048.87 201.459 1045.12 Q201.459 1041.39 199.607 1039.24 Q197.778 1037.06 194.63 1037.06 Q191.482 1037.06 189.63 1039.24 Q187.801 1041.39 187.801 1045.12 Q187.801 1048.87 189.63 1051.02 Q191.482 1053.17 194.63 1053.17 Z\" fill=\"#000000\" fill-rule=\"nonzero\" fill-opacity=\"1\" /><path clip-path=\"url(#clip540)\" d=\"M215.348 1062.66 L220.232 1062.66 L220.232 1068.54 L215.348 1068.54 L215.348 1062.66 Z\" fill=\"#000000\" fill-rule=\"nonzero\" fill-opacity=\"1\" /><path clip-path=\"url(#clip540)\" d=\"M230.463 1033.98 L248.82 1033.98 L248.82 1037.92 L234.746 1037.92 L234.746 1046.39 Q235.764 1046.04 236.783 1045.88 Q237.801 1045.7 238.82 1045.7 Q244.607 1045.7 247.986 1048.87 Q251.366 1052.04 251.366 1057.45 Q251.366 1063.03 247.894 1066.14 Q244.421 1069.21 238.102 1069.21 Q235.926 1069.21 233.658 1068.84 Q231.412 1068.47 229.005 1067.73 L229.005 1063.03 Q231.088 1064.17 233.31 1064.72 Q235.533 1065.28 238.009 1065.28 Q242.014 1065.28 244.352 1063.17 Q246.69 1061.07 246.69 1057.45 Q246.69 1053.84 244.352 1051.74 Q242.014 1049.63 238.009 1049.63 Q236.135 1049.63 234.26 1050.05 Q232.408 1050.46 230.463 1051.34 L230.463 1033.98 Z\" fill=\"#000000\" fill-rule=\"nonzero\" fill-opacity=\"1\" /><path clip-path=\"url(#clip540)\" d=\"M144.422 832.939 L174.098 832.939 L174.098 836.875 L144.422 836.875 L144.422 832.939 Z\" fill=\"#000000\" fill-rule=\"nonzero\" fill-opacity=\"1\" /><path clip-path=\"url(#clip540)\" d=\"M184.329 849.05 L184.329 844.791 Q186.088 845.624 187.894 846.064 Q189.7 846.504 191.436 846.504 Q196.065 846.504 198.496 843.402 Q200.95 840.277 201.297 833.935 Q199.954 835.925 197.894 836.99 Q195.834 838.055 193.334 838.055 Q188.149 838.055 185.116 834.93 Q182.107 831.782 182.107 826.342 Q182.107 821.018 185.255 817.801 Q188.403 814.583 193.635 814.583 Q199.63 814.583 202.778 819.189 Q205.949 823.773 205.949 832.523 Q205.949 840.694 202.061 845.578 Q198.195 850.439 191.644 850.439 Q189.885 850.439 188.079 850.092 Q186.274 849.745 184.329 849.05 M193.635 834.398 Q196.783 834.398 198.612 832.245 Q200.463 830.092 200.463 826.342 Q200.463 822.615 198.612 820.463 Q196.783 818.287 193.635 818.287 Q190.487 818.287 188.635 820.463 Q186.806 822.615 186.806 826.342 Q186.806 830.092 188.635 832.245 Q190.487 834.398 193.635 834.398 Z\" fill=\"#000000\" fill-rule=\"nonzero\" fill-opacity=\"1\" /><path clip-path=\"url(#clip540)\" d=\"M214.352 843.888 L219.236 843.888 L219.236 849.768 L214.352 849.768 L214.352 843.888 Z\" fill=\"#000000\" fill-rule=\"nonzero\" fill-opacity=\"1\" /><path clip-path=\"url(#clip540)\" d=\"M239.422 818.287 Q235.81 818.287 233.982 821.851 Q232.176 825.393 232.176 832.523 Q232.176 839.629 233.982 843.194 Q235.81 846.736 239.422 846.736 Q243.056 846.736 244.861 843.194 Q246.69 839.629 246.69 832.523 Q246.69 825.393 244.861 821.851 Q243.056 818.287 239.422 818.287 M239.422 814.583 Q245.232 814.583 248.287 819.189 Q251.366 823.773 251.366 832.523 Q251.366 841.25 248.287 845.856 Q245.232 850.439 239.422 850.439 Q233.611 850.439 230.533 845.856 Q227.477 841.25 227.477 832.523 Q227.477 823.773 230.533 819.189 Q233.611 814.583 239.422 814.583 Z\" fill=\"#000000\" fill-rule=\"nonzero\" fill-opacity=\"1\" /><path clip-path=\"url(#clip540)\" d=\"M145.417 614.165 L175.093 614.165 L175.093 618.1 L145.417 618.1 L145.417 614.165 Z\" fill=\"#000000\" fill-rule=\"nonzero\" fill-opacity=\"1\" /><path clip-path=\"url(#clip540)\" d=\"M195.186 614.581 Q191.852 614.581 189.931 616.364 Q188.033 618.146 188.033 621.271 Q188.033 624.396 189.931 626.178 Q191.852 627.961 195.186 627.961 Q198.519 627.961 200.44 626.178 Q202.362 624.373 202.362 621.271 Q202.362 618.146 200.44 616.364 Q198.542 614.581 195.186 614.581 M190.51 612.591 Q187.501 611.85 185.811 609.79 Q184.144 607.729 184.144 604.767 Q184.144 600.623 187.084 598.216 Q190.047 595.808 195.186 595.808 Q200.348 595.808 203.287 598.216 Q206.227 600.623 206.227 604.767 Q206.227 607.729 204.537 609.79 Q202.871 611.85 199.885 612.591 Q203.264 613.378 205.139 615.669 Q207.037 617.961 207.037 621.271 Q207.037 626.294 203.959 628.979 Q200.903 631.665 195.186 631.665 Q189.468 631.665 186.389 628.979 Q183.334 626.294 183.334 621.271 Q183.334 617.961 185.232 615.669 Q187.13 613.378 190.51 612.591 M188.797 605.206 Q188.797 607.891 190.463 609.396 Q192.153 610.901 195.186 610.901 Q198.195 610.901 199.885 609.396 Q201.598 607.891 201.598 605.206 Q201.598 602.521 199.885 601.017 Q198.195 599.512 195.186 599.512 Q192.153 599.512 190.463 601.017 Q188.797 602.521 188.797 605.206 Z\" fill=\"#000000\" fill-rule=\"nonzero\" fill-opacity=\"1\" /><path clip-path=\"url(#clip540)\" d=\"M215.348 625.114 L220.232 625.114 L220.232 630.993 L215.348 630.993 L215.348 625.114 Z\" fill=\"#000000\" fill-rule=\"nonzero\" fill-opacity=\"1\" /><path clip-path=\"url(#clip540)\" d=\"M230.463 596.433 L248.82 596.433 L248.82 600.368 L234.746 600.368 L234.746 608.841 Q235.764 608.493 236.783 608.331 Q237.801 608.146 238.82 608.146 Q244.607 608.146 247.986 611.317 Q251.366 614.489 251.366 619.905 Q251.366 625.484 247.894 628.586 Q244.421 631.665 238.102 631.665 Q235.926 631.665 233.658 631.294 Q231.412 630.924 229.005 630.183 L229.005 625.484 Q231.088 626.618 233.31 627.174 Q235.533 627.729 238.009 627.729 Q242.014 627.729 244.352 625.623 Q246.69 623.516 246.69 619.905 Q246.69 616.294 244.352 614.188 Q242.014 612.081 238.009 612.081 Q236.135 612.081 234.26 612.498 Q232.408 612.915 230.463 613.794 L230.463 596.433 Z\" fill=\"#000000\" fill-rule=\"nonzero\" fill-opacity=\"1\" /><path clip-path=\"url(#clip540)\" d=\"M144.422 395.39 L174.098 395.39 L174.098 399.325 L144.422 399.325 L144.422 395.39 Z\" fill=\"#000000\" fill-rule=\"nonzero\" fill-opacity=\"1\" /><path clip-path=\"url(#clip540)\" d=\"M194.19 395.807 Q190.857 395.807 188.936 397.589 Q187.038 399.371 187.038 402.496 Q187.038 405.621 188.936 407.404 Q190.857 409.186 194.19 409.186 Q197.524 409.186 199.445 407.404 Q201.366 405.598 201.366 402.496 Q201.366 399.371 199.445 397.589 Q197.547 395.807 194.19 395.807 M189.514 393.816 Q186.505 393.075 184.815 391.015 Q183.149 388.955 183.149 385.992 Q183.149 381.848 186.088 379.441 Q189.051 377.033 194.19 377.033 Q199.352 377.033 202.292 379.441 Q205.232 381.848 205.232 385.992 Q205.232 388.955 203.542 391.015 Q201.875 393.075 198.889 393.816 Q202.269 394.603 204.144 396.894 Q206.042 399.186 206.042 402.496 Q206.042 407.519 202.963 410.205 Q199.908 412.89 194.19 412.89 Q188.473 412.89 185.394 410.205 Q182.338 407.519 182.338 402.496 Q182.338 399.186 184.237 396.894 Q186.135 394.603 189.514 393.816 M187.801 386.432 Q187.801 389.117 189.468 390.621 Q191.158 392.126 194.19 392.126 Q197.2 392.126 198.889 390.621 Q200.602 389.117 200.602 386.432 Q200.602 383.746 198.889 382.242 Q197.2 380.737 194.19 380.737 Q191.158 380.737 189.468 382.242 Q187.801 383.746 187.801 386.432 Z\" fill=\"#000000\" fill-rule=\"nonzero\" fill-opacity=\"1\" /><path clip-path=\"url(#clip540)\" d=\"M214.352 406.339 L219.236 406.339 L219.236 412.218 L214.352 412.218 L214.352 406.339 Z\" fill=\"#000000\" fill-rule=\"nonzero\" fill-opacity=\"1\" /><path clip-path=\"url(#clip540)\" d=\"M239.422 380.737 Q235.81 380.737 233.982 384.302 Q232.176 387.844 232.176 394.973 Q232.176 402.08 233.982 405.644 Q235.81 409.186 239.422 409.186 Q243.056 409.186 244.861 405.644 Q246.69 402.08 246.69 394.973 Q246.69 387.844 244.861 384.302 Q243.056 380.737 239.422 380.737 M239.422 377.033 Q245.232 377.033 248.287 381.64 Q251.366 386.223 251.366 394.973 Q251.366 403.7 248.287 408.306 Q245.232 412.89 239.422 412.89 Q233.611 412.89 230.533 408.306 Q227.477 403.7 227.477 394.973 Q227.477 386.223 230.533 381.64 Q233.611 377.033 239.422 377.033 Z\" fill=\"#000000\" fill-rule=\"nonzero\" fill-opacity=\"1\" /><path clip-path=\"url(#clip540)\" d=\"M145.417 176.615 L175.093 176.615 L175.093 180.55 L145.417 180.55 L145.417 176.615 Z\" fill=\"#000000\" fill-rule=\"nonzero\" fill-opacity=\"1\" /><path clip-path=\"url(#clip540)\" d=\"M184.005 158.884 L206.227 158.884 L206.227 160.874 L193.681 193.444 L188.797 193.444 L200.602 162.819 L184.005 162.819 L184.005 158.884 Z\" fill=\"#000000\" fill-rule=\"nonzero\" fill-opacity=\"1\" /><path clip-path=\"url(#clip540)\" d=\"M215.348 187.564 L220.232 187.564 L220.232 193.444 L215.348 193.444 L215.348 187.564 Z\" fill=\"#000000\" fill-rule=\"nonzero\" fill-opacity=\"1\" /><path clip-path=\"url(#clip540)\" d=\"M230.463 158.884 L248.82 158.884 L248.82 162.819 L234.746 162.819 L234.746 171.291 Q235.764 170.944 236.783 170.782 Q237.801 170.597 238.82 170.597 Q244.607 170.597 247.986 173.768 Q251.366 176.939 251.366 182.356 Q251.366 187.934 247.894 191.036 Q244.421 194.115 238.102 194.115 Q235.926 194.115 233.658 193.745 Q231.412 193.374 229.005 192.634 L229.005 187.934 Q231.088 189.069 233.31 189.624 Q235.533 190.18 238.009 190.18 Q242.014 190.18 244.352 188.073 Q246.69 185.967 246.69 182.356 Q246.69 178.745 244.352 176.638 Q242.014 174.532 238.009 174.532 Q236.135 174.532 234.26 174.948 Q232.408 175.365 230.463 176.245 L230.463 158.884 Z\" fill=\"#000000\" fill-rule=\"nonzero\" fill-opacity=\"1\" /><path clip-path=\"url(#clip540)\" d=\"M16.4842 750.521 L16.4842 720.475 L21.895 720.475 L21.895 744.092 L35.9632 744.092 L35.9632 721.462 L41.3741 721.462 L41.3741 744.092 L58.5933 744.092 L58.5933 719.902 L64.0042 719.902 L64.0042 750.521 L16.4842 750.521 Z\" fill=\"#000000\" fill-rule=\"nonzero\" fill-opacity=\"1\" /><circle clip-path=\"url(#clip542)\" cx=\"345.82\" cy=\"1383.77\" r=\"14.4\" fill=\"#009af9\" fill-rule=\"evenodd\" fill-opacity=\"1\" stroke=\"#000000\" stroke-opacity=\"1\" stroke-width=\"3.2\"/>\n",
       "<circle clip-path=\"url(#clip542)\" cx=\"403.129\" cy=\"1383.77\" r=\"14.4\" fill=\"#009af9\" fill-rule=\"evenodd\" fill-opacity=\"1\" stroke=\"#000000\" stroke-opacity=\"1\" stroke-width=\"3.2\"/>\n",
       "<circle clip-path=\"url(#clip542)\" cx=\"460.437\" cy=\"1383.76\" r=\"14.4\" fill=\"#009af9\" fill-rule=\"evenodd\" fill-opacity=\"1\" stroke=\"#000000\" stroke-opacity=\"1\" stroke-width=\"3.2\"/>\n",
       "<circle clip-path=\"url(#clip542)\" cx=\"517.745\" cy=\"1383.76\" r=\"14.4\" fill=\"#009af9\" fill-rule=\"evenodd\" fill-opacity=\"1\" stroke=\"#000000\" stroke-opacity=\"1\" stroke-width=\"3.2\"/>\n",
       "<circle clip-path=\"url(#clip542)\" cx=\"575.053\" cy=\"1383.76\" r=\"14.4\" fill=\"#009af9\" fill-rule=\"evenodd\" fill-opacity=\"1\" stroke=\"#000000\" stroke-opacity=\"1\" stroke-width=\"3.2\"/>\n",
       "<circle clip-path=\"url(#clip542)\" cx=\"632.362\" cy=\"1383.76\" r=\"14.4\" fill=\"#009af9\" fill-rule=\"evenodd\" fill-opacity=\"1\" stroke=\"#000000\" stroke-opacity=\"1\" stroke-width=\"3.2\"/>\n",
       "<circle clip-path=\"url(#clip542)\" cx=\"689.67\" cy=\"1383.76\" r=\"14.4\" fill=\"#009af9\" fill-rule=\"evenodd\" fill-opacity=\"1\" stroke=\"#000000\" stroke-opacity=\"1\" stroke-width=\"3.2\"/>\n",
       "<circle clip-path=\"url(#clip542)\" cx=\"746.978\" cy=\"1383.76\" r=\"14.4\" fill=\"#009af9\" fill-rule=\"evenodd\" fill-opacity=\"1\" stroke=\"#000000\" stroke-opacity=\"1\" stroke-width=\"3.2\"/>\n",
       "<circle clip-path=\"url(#clip542)\" cx=\"804.286\" cy=\"1383.74\" r=\"14.4\" fill=\"#009af9\" fill-rule=\"evenodd\" fill-opacity=\"1\" stroke=\"#000000\" stroke-opacity=\"1\" stroke-width=\"3.2\"/>\n",
       "<circle clip-path=\"url(#clip542)\" cx=\"861.595\" cy=\"1383.74\" r=\"14.4\" fill=\"#009af9\" fill-rule=\"evenodd\" fill-opacity=\"1\" stroke=\"#000000\" stroke-opacity=\"1\" stroke-width=\"3.2\"/>\n",
       "<circle clip-path=\"url(#clip542)\" cx=\"918.903\" cy=\"1383.74\" r=\"14.4\" fill=\"#009af9\" fill-rule=\"evenodd\" fill-opacity=\"1\" stroke=\"#000000\" stroke-opacity=\"1\" stroke-width=\"3.2\"/>\n",
       "<circle clip-path=\"url(#clip542)\" cx=\"976.211\" cy=\"1383.74\" r=\"14.4\" fill=\"#009af9\" fill-rule=\"evenodd\" fill-opacity=\"1\" stroke=\"#000000\" stroke-opacity=\"1\" stroke-width=\"3.2\"/>\n",
       "<circle clip-path=\"url(#clip542)\" cx=\"1033.52\" cy=\"1383.73\" r=\"14.4\" fill=\"#009af9\" fill-rule=\"evenodd\" fill-opacity=\"1\" stroke=\"#000000\" stroke-opacity=\"1\" stroke-width=\"3.2\"/>\n",
       "<circle clip-path=\"url(#clip542)\" cx=\"1090.83\" cy=\"1383.73\" r=\"14.4\" fill=\"#009af9\" fill-rule=\"evenodd\" fill-opacity=\"1\" stroke=\"#000000\" stroke-opacity=\"1\" stroke-width=\"3.2\"/>\n",
       "<circle clip-path=\"url(#clip542)\" cx=\"1148.14\" cy=\"1383.72\" r=\"14.4\" fill=\"#009af9\" fill-rule=\"evenodd\" fill-opacity=\"1\" stroke=\"#000000\" stroke-opacity=\"1\" stroke-width=\"3.2\"/>\n",
       "<circle clip-path=\"url(#clip542)\" cx=\"1205.44\" cy=\"1383.72\" r=\"14.4\" fill=\"#009af9\" fill-rule=\"evenodd\" fill-opacity=\"1\" stroke=\"#000000\" stroke-opacity=\"1\" stroke-width=\"3.2\"/>\n",
       "<circle clip-path=\"url(#clip542)\" cx=\"1262.75\" cy=\"1352.22\" r=\"14.4\" fill=\"#009af9\" fill-rule=\"evenodd\" fill-opacity=\"1\" stroke=\"#000000\" stroke-opacity=\"1\" stroke-width=\"3.2\"/>\n",
       "<circle clip-path=\"url(#clip542)\" cx=\"1320.06\" cy=\"1352.22\" r=\"14.4\" fill=\"#009af9\" fill-rule=\"evenodd\" fill-opacity=\"1\" stroke=\"#000000\" stroke-opacity=\"1\" stroke-width=\"3.2\"/>\n",
       "<circle clip-path=\"url(#clip542)\" cx=\"1377.37\" cy=\"1352.19\" r=\"14.4\" fill=\"#009af9\" fill-rule=\"evenodd\" fill-opacity=\"1\" stroke=\"#000000\" stroke-opacity=\"1\" stroke-width=\"3.2\"/>\n",
       "<circle clip-path=\"url(#clip542)\" cx=\"1434.68\" cy=\"1352.19\" r=\"14.4\" fill=\"#009af9\" fill-rule=\"evenodd\" fill-opacity=\"1\" stroke=\"#000000\" stroke-opacity=\"1\" stroke-width=\"3.2\"/>\n",
       "<circle clip-path=\"url(#clip542)\" cx=\"1491.99\" cy=\"1352.19\" r=\"14.4\" fill=\"#009af9\" fill-rule=\"evenodd\" fill-opacity=\"1\" stroke=\"#000000\" stroke-opacity=\"1\" stroke-width=\"3.2\"/>\n",
       "<circle clip-path=\"url(#clip542)\" cx=\"1549.29\" cy=\"1352.19\" r=\"14.4\" fill=\"#009af9\" fill-rule=\"evenodd\" fill-opacity=\"1\" stroke=\"#000000\" stroke-opacity=\"1\" stroke-width=\"3.2\"/>\n",
       "<circle clip-path=\"url(#clip542)\" cx=\"1606.6\" cy=\"1352.16\" r=\"14.4\" fill=\"#009af9\" fill-rule=\"evenodd\" fill-opacity=\"1\" stroke=\"#000000\" stroke-opacity=\"1\" stroke-width=\"3.2\"/>\n",
       "<circle clip-path=\"url(#clip542)\" cx=\"1663.91\" cy=\"1352.16\" r=\"14.4\" fill=\"#009af9\" fill-rule=\"evenodd\" fill-opacity=\"1\" stroke=\"#000000\" stroke-opacity=\"1\" stroke-width=\"3.2\"/>\n",
       "<circle clip-path=\"url(#clip542)\" cx=\"1721.22\" cy=\"1351.85\" r=\"14.4\" fill=\"#009af9\" fill-rule=\"evenodd\" fill-opacity=\"1\" stroke=\"#000000\" stroke-opacity=\"1\" stroke-width=\"3.2\"/>\n",
       "<circle clip-path=\"url(#clip542)\" cx=\"1778.53\" cy=\"1351.85\" r=\"14.4\" fill=\"#009af9\" fill-rule=\"evenodd\" fill-opacity=\"1\" stroke=\"#000000\" stroke-opacity=\"1\" stroke-width=\"3.2\"/>\n",
       "<circle clip-path=\"url(#clip542)\" cx=\"1835.84\" cy=\"1351.81\" r=\"14.4\" fill=\"#009af9\" fill-rule=\"evenodd\" fill-opacity=\"1\" stroke=\"#000000\" stroke-opacity=\"1\" stroke-width=\"3.2\"/>\n",
       "<circle clip-path=\"url(#clip542)\" cx=\"1893.14\" cy=\"1351.81\" r=\"14.4\" fill=\"#009af9\" fill-rule=\"evenodd\" fill-opacity=\"1\" stroke=\"#000000\" stroke-opacity=\"1\" stroke-width=\"3.2\"/>\n",
       "<circle clip-path=\"url(#clip542)\" cx=\"1950.45\" cy=\"1351.81\" r=\"14.4\" fill=\"#009af9\" fill-rule=\"evenodd\" fill-opacity=\"1\" stroke=\"#000000\" stroke-opacity=\"1\" stroke-width=\"3.2\"/>\n",
       "<circle clip-path=\"url(#clip542)\" cx=\"2007.76\" cy=\"1351.81\" r=\"14.4\" fill=\"#009af9\" fill-rule=\"evenodd\" fill-opacity=\"1\" stroke=\"#000000\" stroke-opacity=\"1\" stroke-width=\"3.2\"/>\n",
       "<circle clip-path=\"url(#clip542)\" cx=\"2065.07\" cy=\"1351.77\" r=\"14.4\" fill=\"#009af9\" fill-rule=\"evenodd\" fill-opacity=\"1\" stroke=\"#000000\" stroke-opacity=\"1\" stroke-width=\"3.2\"/>\n",
       "<circle clip-path=\"url(#clip542)\" cx=\"2122.38\" cy=\"1351.77\" r=\"14.4\" fill=\"#009af9\" fill-rule=\"evenodd\" fill-opacity=\"1\" stroke=\"#000000\" stroke-opacity=\"1\" stroke-width=\"3.2\"/>\n",
       "<circle clip-path=\"url(#clip542)\" cx=\"2179.68\" cy=\"1346.97\" r=\"14.4\" fill=\"#009af9\" fill-rule=\"evenodd\" fill-opacity=\"1\" stroke=\"#000000\" stroke-opacity=\"1\" stroke-width=\"3.2\"/>\n",
       "<circle clip-path=\"url(#clip542)\" cx=\"2236.99\" cy=\"1346.97\" r=\"14.4\" fill=\"#009af9\" fill-rule=\"evenodd\" fill-opacity=\"1\" stroke=\"#000000\" stroke-opacity=\"1\" stroke-width=\"3.2\"/>\n",
       "<circle clip-path=\"url(#clip542)\" cx=\"2294.3\" cy=\"1346.96\" r=\"14.4\" fill=\"#009af9\" fill-rule=\"evenodd\" fill-opacity=\"1\" stroke=\"#000000\" stroke-opacity=\"1\" stroke-width=\"3.2\"/>\n",
       "</svg>\n"
      ]
     },
     "execution_count": 25,
     "metadata": {},
     "output_type": "execute_result"
    }
   ],
   "source": [
    "using Plots\n",
    "Plots.plot(1:35,E0,seriestype=:scatter,xlabel=\"n\",ylabel=\"E\",legend=false)\n",
    "#ylims!((-7.20544,-7.20536)) # Onur hocanın makalesinde ki FIG1 için sınırlar\n",
    "Plots.ylims!(( -10.35,-7.20536))"
   ]
  },
  {
   "cell_type": "markdown",
   "id": "aaca712c-b257-494d-bc14-71ded4bb8410",
   "metadata": {},
   "source": [
    "Allta ki fonksiyonun çalışması için, dizide ki filtre edilmiş parçacık sayısı her zaman en büyük değer de olmalıdır.\n",
    "Örneğin, `PN=[0,1,2,3,4]` iken filtre edilen parçacık sayısı `pn=4` olmalıdır!"
   ]
  },
  {
   "cell_type": "code",
   "execution_count": 26,
   "id": "d582d7a3-67c3-4775-bcb8-2862643ca5ac",
   "metadata": {
    "tags": []
   },
   "outputs": [
    {
     "data": {
      "text/plain": [
       "Restricted_Hubbard_States (generic function with 1 method)"
      ]
     },
     "execution_count": 26,
     "metadata": {},
     "output_type": "execute_result"
    }
   ],
   "source": [
    "function Restricted_Hubbard_States(states)\n",
    "    number_of_states = length(filtered_energies)\n",
    "    return states[1:number_of_states];\n",
    "end"
   ]
  },
  {
   "cell_type": "code",
   "execution_count": 27,
   "id": "da17cb7c-bc14-4026-adae-386b3b5b2083",
   "metadata": {
    "tags": []
   },
   "outputs": [],
   "source": [
    "r_hubbard_states = Restricted_Hubbard_States(V);\n",
    "r_hubbard_states_0 = Restricted_Hubbard_States(V0);"
   ]
  },
  {
   "cell_type": "markdown",
   "id": "14aea968-4016-4dc6-965b-e194bc4b4944",
   "metadata": {},
   "source": [
    "# Densities"
   ]
  },
  {
   "cell_type": "markdown",
   "id": "74774696-2ef4-47f5-a37a-99c049a241d4",
   "metadata": {},
   "source": [
    "<font size=\"4\">\n",
    "$<n_i>, \\quad \\text{i: site index}$\n",
    "</font>"
   ]
  },
  {
   "cell_type": "code",
   "execution_count": 28,
   "id": "36f916a4-68d4-4448-ac28-a27d6f24ce86",
   "metadata": {
    "tags": []
   },
   "outputs": [
    {
     "data": {
      "text/plain": [
       "0.056147989239729724 - 4.389882615309532e-19im"
      ]
     },
     "execution_count": 28,
     "metadata": {},
     "output_type": "execute_result"
    }
   ],
   "source": [
    "# METHOD 1\n",
    "\n",
    "NM_MB_Array_Storage = zeros(Complex{Float64},length(basis_cut_mb),length(basis_cut_mb),N);\n",
    "NM_MB_Matrix = zeros(Complex{Float64},length(basis_cut_mb),length(basis_cut_mb));\n",
    "for m in 1:N\n",
    "    for i in 1:length(basis_cut_mb)\n",
    "        for j in 1:length(basis_cut_mb)\n",
    "            #NM_MB_Matrix[i,j] = num_mb_list[m].data[i,j]\n",
    "            NM_MB_Matrix[i,j] = number_mb_list_operators[m].data[i,j]\n",
    "            # NOT: num_mb_list ile number_mb_list_operators bazları farklı ama içerikleri aynı!\n",
    "        end\n",
    "    end\n",
    "    NM_MB_Array_Storage[:,:,m] = NM_MB_Matrix\n",
    "end\n",
    "\n",
    "BL = BR = basis_cut_mb\n",
    "index_number_op = 4\n",
    "T = NM_MB_Array_Storage[:,:,index_number_op]\n",
    "Op = Operator(BL,BR,T)\n",
    "index_eigen_states = 1\n",
    "expect(Op, r_hubbard_states[index_eigen_states])\n",
    "expect(Op, r_hubbard_states_0[index_eigen_states])\n",
    "\n",
    "#or\n",
    "# expect(number_mb_list_operators[index_number_op],r_hubbard_states[index_eigen_states])"
   ]
  },
  {
   "cell_type": "markdown",
   "id": "de16c359-2839-4b2f-8f23-eb528631279b",
   "metadata": {},
   "source": [
    "<font size=\"4\">\n",
    "$\\sum_{i} <\\psi_j|n_j|\\psi_j>, \\quad \\text{for a given j index}$\n",
    "</font>"
   ]
  },
  {
   "cell_type": "code",
   "execution_count": 29,
   "id": "76f88a82-5b2a-42be-8493-09d88c08e621",
   "metadata": {
    "tags": []
   },
   "outputs": [
    {
     "data": {
      "text/plain": [
       "80-element Vector{Float64}:\n",
       " 0.04897975754606998\n",
       " 0.05283610960700737\n",
       " 0.059204140591718545\n",
       " 0.06331547289550829\n",
       " 0.05920414059129104\n",
       " 0.05283610960624559\n",
       " 0.0489797575452305\n",
       " 0.04864334686942337\n",
       " 0.035986391170550365\n",
       " 0.03798489998228845\n",
       " 0.041807089776743286\n",
       " 0.04443260436323079\n",
       " 0.04180708978026039\n",
       " ⋮\n",
       " 0.02893256010480624\n",
       " 0.0318041628444072\n",
       " 0.03423895356934607\n",
       " 0.03474700910158761\n",
       " 0.03598639116486954\n",
       " 0.0379848999810002\n",
       " 0.04180708978035307\n",
       " 0.04443260436345958\n",
       " 0.041807089776192234\n",
       " 0.037984899980668285\n",
       " 0.03598639116818403\n",
       " 0.03595696046175254"
      ]
     },
     "execution_count": 29,
     "metadata": {},
     "output_type": "execute_result"
    }
   ],
   "source": [
    "index_eig_states = 1\n",
    "\n",
    "function get_density_profiles(NM_MB_Array_Storage, r_hubbard_states, index_eig_states)\n",
    "    Sum = 0\n",
    "    expect_list=[]\n",
    "    for i in 1:N\n",
    "        T = NM_MB_Array_Storage[:,:,i]\n",
    "        Op = Operator(BL,BR,T)   \n",
    "        Sum += expect(Op, r_hubbard_states[index_eig_states])\n",
    "        push!(expect_list, expect(Op, r_hubbard_states[index_eig_states]))\n",
    "    end\n",
    "    return real(expect_list)\n",
    "end\n",
    "\n",
    "get_density_profiles(NM_MB_Array_Storage,r_hubbard_states, index_eig_states)"
   ]
  },
  {
   "cell_type": "code",
   "execution_count": 30,
   "id": "879026ac-6676-41fd-b974-8d6d894c6f67",
   "metadata": {
    "tags": []
   },
   "outputs": [],
   "source": [
    "# ORTALAMA:\n",
    "\n",
    "Degeneracy = 7\n",
    "avg_density = zeros((Nx,Ny)) \n",
    "for index_eig_states in 1:Degeneracy\n",
    "    avg_density += reshape(get_density_profiles(NM_MB_Array_Storage, r_hubbard_states, index_eig_states),Nx,Ny)\n",
    "end    \n",
    "avg_density = avg_density / Degeneracy;\n",
    "\n",
    "Degeneracy_0 = 16\n",
    "avg_density_0 = zeros((Nx,Ny))\n",
    "for index_eig_states in 1:Degeneracy_0\n",
    "    avg_density_0 += reshape(get_density_profiles(NM_MB_Array_Storage, r_hubbard_states_0, index_eig_states),Nx,Ny)\n",
    "end    \n",
    "avg_density_0 = avg_density_0 / Degeneracy_0;\n",
    "\n",
    "# Degeneracy_0 => Örgüde 2 quasi boştayken"
   ]
  },
  {
   "cell_type": "markdown",
   "id": "f04f7003-79d5-4ce7-b9f8-dfd66834d93d",
   "metadata": {},
   "source": [
    "# Density Heat-Maps"
   ]
  },
  {
   "cell_type": "code",
   "execution_count": 31,
   "id": "443171da-8b44-4045-bf06-6685e14b6906",
   "metadata": {
    "tags": []
   },
   "outputs": [],
   "source": [
    "site_idx = range(1,Nx*Ny) \n",
    "lattice = reverse(OffsetArray(reshape(site_idx, (Ny,Nx)), 1:Ny, 1:Nx), dims=1)\n",
    "coordinates = []\n",
    "for x in 0:Nx-1\n",
    "    for y in 0:Ny-1\n",
    "        coordinates = [coordinates; x; y]\n",
    "    end\n",
    "end\n",
    "coordinates = reshape(coordinates, (2, Nx*Ny)) |> transpose;"
   ]
  },
  {
   "cell_type": "code",
   "execution_count": 46,
   "id": "15cb81ad-581f-445f-a559-238fd28d03b6",
   "metadata": {
    "tags": []
   },
   "outputs": [
    {
     "data": {
      "text/plain": [
       "10×8 OffsetArray(::Matrix{Int64}, 1:10, 1:8) with eltype Int64 with indices 1:10×1:8:\n",
       " 10  20  30  40  50  60  70  80\n",
       "  9  19  29  39  49  59  69  79\n",
       "  8  18  28  38  48  58  68  78\n",
       "  7  17  27  37  47  57  67  77\n",
       "  6  16  26  36  46  56  66  76\n",
       "  5  15  25  35  45  55  65  75\n",
       "  4  14  24  34  44  54  64  74\n",
       "  3  13  23  33  43  53  63  73\n",
       "  2  12  22  32  42  52  62  72\n",
       "  1  11  21  31  41  51  61  71"
      ]
     },
     "execution_count": 46,
     "metadata": {},
     "output_type": "execute_result"
    }
   ],
   "source": [
    "lattice"
   ]
  },
  {
   "cell_type": "code",
   "execution_count": 32,
   "id": "098a06cb-996b-4131-8125-1d2f503ecb47",
   "metadata": {},
   "outputs": [
    {
     "data": {
      "text/plain": [
       "3.1622776601683795"
      ]
     },
     "execution_count": 32,
     "metadata": {},
     "output_type": "execute_result"
    }
   ],
   "source": [
    "function find_co(p)\n",
    "    x_co = coordinates[:,1]\n",
    "    y_co = coordinates[:,2]\n",
    "    x = hcat(x_co, y_co)[p, 1]\n",
    "    y = hcat(x_co, y_co)[p, 2]\n",
    "    return x, y\n",
    "end\n",
    "function distance(p1,p2)\n",
    "    return sqrt( (find_co(p2)[1] - find_co(p1)[1])^2 + (find_co(p2)[2] - find_co(p1)[2])^2 )\n",
    "end\n",
    "distance(47,18)"
   ]
  },
  {
   "cell_type": "code",
   "execution_count": 33,
   "id": "f817d7b8-29d5-4708-bd7d-c784e6be59ec",
   "metadata": {
    "tags": []
   },
   "outputs": [
    {
     "data": {
      "image/svg+xml": [
       "<?xml version=\"1.0\" encoding=\"utf-8\"?>\n",
       "<svg xmlns=\"http://www.w3.org/2000/svg\" xmlns:xlink=\"http://www.w3.org/1999/xlink\" width=\"600\" height=\"400\" viewBox=\"0 0 2400 1600\">\n",
       "<defs>\n",
       "  <clipPath id=\"clip580\">\n",
       "    <rect x=\"0\" y=\"0\" width=\"2400\" height=\"1600\"/>\n",
       "  </clipPath>\n",
       "</defs>\n",
       "<path clip-path=\"url(#clip580)\" d=\"M0 1600 L2400 1600 L2400 0 L0 0  Z\" fill=\"#ffffff\" fill-rule=\"evenodd\" fill-opacity=\"1\"/>\n",
       "<defs>\n",
       "  <clipPath id=\"clip581\">\n",
       "    <rect x=\"480\" y=\"0\" width=\"1681\" height=\"1600\"/>\n",
       "  </clipPath>\n",
       "</defs>\n",
       "<path clip-path=\"url(#clip580)\" d=\"M138.959 1412.57 L2112.76 1412.57 L2112.76 197.353 L138.959 197.353  Z\" fill=\"#ffffff\" fill-rule=\"evenodd\" fill-opacity=\"1\"/>\n",
       "<defs>\n",
       "  <clipPath id=\"clip582\">\n",
       "    <rect x=\"138\" y=\"197\" width=\"1975\" height=\"1216\"/>\n",
       "  </clipPath>\n",
       "</defs>\n",
       "<path clip-path=\"url(#clip580)\" d=\"M1023.37 18.8205 L1023.37 41.5461 L1033.66 41.5461 Q1039.37 41.5461 1042.49 38.5889 Q1045.61 35.6318 1045.61 30.163 Q1045.61 24.7348 1042.49 21.7777 Q1039.37 18.8205 1033.66 18.8205 L1023.37 18.8205 M1015.19 12.096 L1033.66 12.096 Q1043.83 12.096 1049.01 16.714 Q1054.24 21.2916 1054.24 30.163 Q1054.24 39.1155 1049.01 43.6931 Q1043.83 48.2706 1033.66 48.2706 L1023.37 48.2706 L1023.37 72.576 L1015.19 72.576 L1015.19 12.096 Z\" fill=\"#000000\" fill-rule=\"nonzero\" fill-opacity=\"1\" /><path clip-path=\"url(#clip580)\" d=\"M1092.36 28.5427 L1092.36 35.5912 Q1089.2 33.9709 1085.79 33.1607 Q1082.39 32.3505 1078.75 32.3505 Q1073.2 32.3505 1070.4 34.0519 Q1067.65 35.7533 1067.65 39.156 Q1067.65 41.7486 1069.63 43.2475 Q1071.62 44.7058 1077.61 46.0426 L1080.16 46.6097 Q1088.1 48.3111 1091.42 51.4303 Q1094.79 54.509 1094.79 60.0587 Q1094.79 66.3781 1089.76 70.0644 Q1084.78 73.7508 1076.03 73.7508 Q1072.39 73.7508 1068.42 73.0216 Q1064.49 72.3329 1060.11 70.9151 L1060.11 63.2184 Q1064.24 65.3654 1068.25 66.4591 Q1072.26 67.5124 1076.19 67.5124 Q1081.46 67.5124 1084.3 65.73 Q1087.13 63.9071 1087.13 60.6258 Q1087.13 57.5877 1085.07 55.9673 Q1083.04 54.3469 1076.11 52.8481 L1073.52 52.2405 Q1066.59 50.7821 1063.51 47.7845 Q1060.44 44.7463 1060.44 39.4801 Q1060.44 33.0797 1064.97 29.5959 Q1069.51 26.1121 1077.85 26.1121 Q1081.99 26.1121 1085.63 26.7198 Q1089.28 27.3274 1092.36 28.5427 Z\" fill=\"#000000\" fill-rule=\"nonzero\" fill-opacity=\"1\" /><path clip-path=\"url(#clip580)\" d=\"M1106.66 27.2059 L1114.11 27.2059 L1114.11 72.576 L1106.66 72.576 L1106.66 27.2059 M1106.66 9.54393 L1114.11 9.54393 L1114.11 18.9825 L1106.66 18.9825 L1106.66 9.54393 Z\" fill=\"#000000\" fill-rule=\"nonzero\" fill-opacity=\"1\" /><path clip-path=\"url(#clip580)\" d=\"M1130.68 34.9026 L1182.61 34.9026 L1182.61 41.7081 L1130.68 41.7081 L1130.68 34.9026 M1130.68 51.4303 L1182.61 51.4303 L1182.61 58.3168 L1130.68 58.3168 L1130.68 51.4303 Z\" fill=\"#000000\" fill-rule=\"nonzero\" fill-opacity=\"1\" /><path clip-path=\"url(#clip580)\" d=\"M1201.69 65.6895 L1215.06 65.6895 L1215.06 19.5497 L1200.52 22.4663 L1200.52 15.0127 L1214.98 12.096 L1223.16 12.096 L1223.16 65.6895 L1236.53 65.6895 L1236.53 72.576 L1201.69 72.576 L1201.69 65.6895 Z\" fill=\"#000000\" fill-rule=\"nonzero\" fill-opacity=\"1\" /><g clip-path=\"url(#clip582)\">\n",
       "<image width=\"917\" height=\"1146\" xlink:href=\"data:image/png;base64,\n",
       "iVBORw0KGgoAAAANSUhEUgAAA5UAAAR6CAYAAADbHVMKAAAbbElEQVR4nOzZy4pldxmH4a7aFbt3\n",
       "2dXpQxoySAaBGou2kKkRBx7AmSNvyFvwPjJIZonTQCLoTBodBILah1TsdlcXRVU5zfjlDx9unucK\n",
       "frBYrPXyHfz1l7+4ucVeOD4+n57AIm8/fjE9gQVuP3g1PYFFLr49mZ7AIt89ezQ9gQV2u+30BOB7\n",
       "DqcHAAAA8P9LVAIAAJCJSgAAADJRCQAAQCYqAQAAyEQlAAAAmagEAAAgE5UAAABkohIAAIBMVAIA\n",
       "AJCJSgAAADJRCQAAQCYqAQAAyEQlAAAAmagEAAAgE5UAAABkohIAAIBMVAIAAJCJSgAAADJRCQAA\n",
       "QCYqAQAAyEQlAAAAmagEAAAgE5UAAABkohIAAIBMVAIAAJCJSgAAADJRCQAAQCYqAQAAyEQlAAAA\n",
       "magEAAAgE5UAAABkohIAAIBMVAIAAJCJSgAAADJRCQAAQCYqAQAAyEQlAAAAmagEAAAgE5UAAABk\n",
       "ohIAAIBMVAIAAJCJSgAAADJRCQAAQCYqAQAAyEQlAAAAmagEAAAgE5UAAABkohIAAIBMVAIAAJCJ\n",
       "SgAAADJRCQAAQCYqAQAAyEQlAAAAmagEAAAgE5UAAABkohIAAIBMVAIAAJCJSgAAADJRCQAAQCYq\n",
       "AQAAyEQlAAAAmagEAAAgE5UAAABkohIAAIBMVAIAAJCJSgAAADJRCQAAQCYqAQAAyEQlAAAAmagE\n",
       "AAAgE5UAAABkohIAAIBMVAIAAJCJSgAAADJRCQAAQCYqAQAAyEQlAAAAmagEAAAgE5UAAABkohIA\n",
       "AIBMVAIAAJCJSgAAADJRCQAAQCYqAQAAyEQlAAAAmagEAAAgE5UAAABkohIAAIBMVAIAAJCJSgAA\n",
       "ADJRCQAAQCYqAQAAyEQlAAAAmagEAAAgE5UAAABkohIAAIBMVAIAAJCJSgAAADJRCQAAQCYqAQAA\n",
       "yEQlAAAAmagEAAAgE5UAAABkohIAAIBMVAIAAJCJSgAAADJRCQAAQCYqAQAAyEQlAAAAmagEAAAg\n",
       "E5UAAABkohIAAIBMVAIAAJAdnV/cnt7AIv86ezA9gUVe/v10egILXF5tpiewyFubq+kJLPLwzm56\n",
       "Agvc23qO++Lw8Hp6Agu4VAIAAJCJSgAAADJRCQAAQCYqAQAAyEQlAAAAmagEAAAgE5UAAABkohIA\n",
       "AIBMVAIAAJCJSgAAADJRCQAAQCYqAQAAyEQlAAAAmagEAAAgE5UAAABkohIAAIBMVAIAAJCJSgAA\n",
       "ADJRCQAAQCYqAQAAyEQlAAAAmagEAAAgE5UAAABkohIAAIBMVAIAAJCJSgAAADJRCQAAQCYqAQAA\n",
       "yEQlAAAAmagEAAAgE5UAAABkohIAAIBMVAIAAJCJSgAAADJRCQAAQCYqAQAAyEQlAAAAmagEAAAg\n",
       "E5UAAABkohIAAIBMVAIAAJCJSgAAADJRCQAAQCYqAQAAyEQlAAAAmagEAAAgE5UAAABkohIAAIBM\n",
       "VAIAAJCJSgAAADJRCQAAQCYqAQAAyEQlAAAAmagEAAAgE5UAAABkohIAAIBMVAIAAJCJSgAAADJR\n",
       "CQAAQCYqAQAAyEQlAAAAmagEAAAgE5UAAABkohIAAIBMVAIAAJCJSgAAADJRCQAAQCYqAQAAyEQl\n",
       "AAAAmagEAAAgE5UAAABkohIAAIBMVAIAAJCJSgAAADJRCQAAQCYqAQAAyEQlAAAAmagEAAAgE5UA\n",
       "AABkohIAAIBMVAIAAJCJSgAAADJRCQAAQCYqAQAAyEQlAAAAmagEAAAgE5UAAABkohIAAIBMVAIA\n",
       "AJCJSgAAADJRCQAAQCYqAQAAyEQlAAAAmagEAAAgE5UAAABkohIAAIBMVAIAAJCJSgAAADJRCQAA\n",
       "QCYqAQAAyEQlAAAAmagEAAAgE5UAAABkohIAAIBMVAIAAJCJSgAAADJRCQAAQCYqAQAAyEQlAAAA\n",
       "magEAAAgE5UAAABkohIAAIBMVAIAAJCJSgAAALKDN3+4dzM9gjWe/eV0egKLfPrnn05PYIGnr+9M\n",
       "T2CR07tvpiewyK9+8uX0BBZ4/KOn0xNY5OZyMz2BBVwqAQAAyEQlAAAAmagEAAAgE5UAAABkohIA\n",
       "AIBMVAIAAJCJSgAAADJRCQAAQCYqAQAAyEQlAAAAmagEAAAgE5UAAABkohIAAIBMVAIAAJCJSgAA\n",
       "ADJRCQAAQCYqAQAAyEQlAAAAmagEAAAgE5UAAABkohIAAIBMVAIAAJCJSgAAADJRCQAAQCYqAQAA\n",
       "yEQlAAAAmagEAAAgE5UAAABkohIAAIBMVAIAAJCJSgAAADJRCQAAQCYqAQAAyEQlAAAAmagEAAAg\n",
       "E5UAAABkohIAAIBMVAIAAJCJSgAAADJRCQAAQCYqAQAAyEQlAAAAmagEAAAgE5UAAABkohIAAIBM\n",
       "VAIAAJCJSgAAADJRCQAAQCYqAQAAyEQlAAAAmagEAAAgE5UAAABkohIAAIBMVAIAAJCJSgAAADJR\n",
       "CQAAQCYqAQAAyEQlAAAAmagEAAAgE5UAAABkohIAAIBMVAIAAJCJSgAAADJRCQAAQCYqAQAAyEQl\n",
       "AAAAmagEAAAgE5UAAABkohIAAIBMVAIAAJCJSgAAADJRCQAAQCYqAQAAyEQlAAAAmagEAAAgE5UA\n",
       "AABkohIAAIBMVAIAAJCJSgAAADJRCQAAQCYqAQAAyEQlAAAAmagEAAAgE5UAAABkohIAAIBMVAIA\n",
       "AJCJSgAAADJRCQAAQCYqAQAAyEQlAAAAmagEAAAgE5UAAABkohIAAIBMVAIAAJCJSgAAADJRCQAA\n",
       "QCYqAQAAyEQlAAAAmagEAAAgE5UAAABkohIAAIBMVAIAAJCJSgAAADJRCQAAQCYqAQAAyEQlAAAA\n",
       "magEAAAgE5UAAABkohIAAIBMVAIAAJCJSgAAADJRCQAAQCYqAQAAyI4OPvpgegOL3P3mbHoCi3zx\n",
       "Yjs9gQX+dP719AQW+dnF+9MTWOR37/hW7gP/r/vj6OW/pyewgEslAAAAmagEAAAgE5UAAABkohIA\n",
       "AIBMVAIAAJCJSgAAADJRCQAAQCYqAQAAyEQlAAAAmagEAAAgE5UAAABkohIAAIBMVAIAAJCJSgAA\n",
       "ADJRCQAAQCYqAQAAyEQlAAAAmagEAAAgE5UAAABkohIAAIBMVAIAAJCJSgAAADJRCQAAQCYqAQAA\n",
       "yEQlAAAAmagEAAAgE5UAAABkohIAAIBMVAIAAJCJSgAAADJRCQAAQCYqAQAAyEQlAAAAmagEAAAg\n",
       "E5UAAABkohIAAIBMVAIAAJCJSgAAADJRCQAAQCYqAQAAyEQlAAAAmagEAAAgE5UAAABkohIAAIBM\n",
       "VAIAAJCJSgAAADJRCQAAQCYqAQAAyEQlAAAAmagEAAAgE5UAAABkohIAAIBMVAIAAJCJSgAAADJR\n",
       "CQAAQCYqAQAAyEQlAAAAmagEAAAgE5UAAABkohIAAIBMVAIAAJCJSgAAADJRCQAAQCYqAQAAyEQl\n",
       "AAAAmagEAAAgE5UAAABkohIAAIBMVAIAAJCJSgAAADJRCQAAQCYqAQAAyEQlAAAAmagEAAAgE5UA\n",
       "AABkohIAAIBMVAIAAJCJSgAAADJRCQAAQCYqAQAAyEQlAAAAmagEAAAgE5UAAABkohIAAIBMVAIA\n",
       "AJCJSgAAADJRCQAAQCYqAQAAyEQlAAAAmagEAAAgE5UAAABkohIAAIBMVAIAAJCJSgAAADJRCQAA\n",
       "QCYqAQAAyEQlAAAAmagEAAAgE5UAAABkohIAAIBMVAIAAJCJSgAAADJRCQAAQCYqAQAAyEQlAAAA\n",
       "magEAAAgE5UAAABkohIAAIBMVAIAAJCJSgAAADJRCQAAQCYqAQAAyEQlAAAAmagEAAAgO7p1uJne\n",
       "wCLnZyfTE1jkq/+eTU9ggb/tPp6ewCIn17+fnsAivpX74dj/6/64uppewAIulQAAAGSiEgAAgExU\n",
       "AgAAkIlKAAAAMlEJAABAJioBAADIRCUAAACZqAQAACATlQAAAGSiEgAAgExUAgAAkIlKAAAAMlEJ\n",
       "AABAJioBAADIRCUAAACZqAQAACATlQAAAGSiEgAAgExUAgAAkIlKAAAAMlEJAABAJioBAADIRCUA\n",
       "AACZqAQAACATlQAAAGSiEgAAgExUAgAAkIlKAAAAMlEJAABAJioBAADIRCUAAACZqAQAACATlQAA\n",
       "AGSiEgAAgExUAgAAkIlKAAAAMlEJAABAJioBAADIRCUAAACZqAQAACATlQAAAGSiEgAAgExUAgAA\n",
       "kIlKAAAAMlEJAABAJioBAADIRCUAAACZqAQAACATlQAAAGSiEgAAgExUAgAAkIlKAAAAMlEJAABA\n",
       "JioBAADIRCUAAACZqAQAACATlQAAAGSiEgAAgExUAgAAkIlKAAAAMlEJAABAJioBAADIRCUAAACZ\n",
       "qAQAACATlQAAAGSiEgAAgExUAgAAkIlKAAAAMlEJAABAJioBAADIRCUAAACZqAQAACATlQAAAGSi\n",
       "EgAAgExUAgAAkIlKAAAAMlEJAABAJioBAADIRCUAAACZqAQAACATlQAAAGSiEgAAgExUAgAAkIlK\n",
       "AAAAMlEJAABAJioBAADIRCUAAACZqAQAACATlQAAAGSiEgAAgExUAgAAkIlKAAAAMlEJAABAJioB\n",
       "AADIRCUAAACZqAQAACATlQAAAGSiEgAAgExUAgAAkIlKAAAAMlEJAABAJioBAADIRCUAAACZqAQA\n",
       "ACATlQAAAGSiEgAAgExUAgAAkIlKAAAAMlEJAABAJioBAADIRCUAAACZqAQAACATlQAAAGRHt66v\n",
       "pjewyPb+q+kJLPLkh/enJ7DAq8PfTk9gkSdb7+S+8K3cE9cn0wtYZbOZXsACLpUAAABkohIAAIBM\n",
       "VAIAAJCJSgAAADJRCQAAQCYqAQAAyEQlAAAAmagEAAAgE5UAAABkohIAAIBMVAIAAJCJSgAAADJR\n",
       "CQAAQCYqAQAAyEQlAAAAmagEAAAgE5UAAABkohIAAIBMVAIAAJCJSgAAADJRCQAAQCYqAQAAyEQl\n",
       "AAAAmagEAAAgE5UAAABkohIAAIBMVAIAAJCJSgAAADJRCQAAQCYqAQAAyEQlAAAAmagEAAAgE5UA\n",
       "AABkohIAAIBMVAIAAJCJSgAAADJRCQAAQCYqAQAAyEQlAAAAmagEAAAgE5UAAABkohIAAIBMVAIA\n",
       "AJCJSgAAADJRCQAAQCYqAQAAyEQlAAAAmagEAAAgE5UAAABkohIAAIBMVAIAAJCJSgAAADJRCQAA\n",
       "QCYqAQAAyEQlAAAAmagEAAAgE5UAAABkohIAAIBMVAIAAJCJSgAAADJRCQAAQCYqAQAAyEQlAAAA\n",
       "magEAAAgE5UAAABkohIAAIBMVAIAAJCJSgAAADJRCQAAQCYqAQAAyEQlAAAAmagEAAAgE5UAAABk\n",
       "ohIAAIBMVAIAAJCJSgAAADJRCQAAQCYqAQAAyEQlAAAAmagEAAAgE5UAAABkohIAAIBMVAIAAJCJ\n",
       "SgAAADJRCQAAQCYqAQAAyEQlAAAAmagEAAAgE5UAAABkohIAAIBMVAIAAJCJSgAAADJRCQAAQCYq\n",
       "AQAAyEQlAAAAmagEAAAgE5UAAABkohIAAIBMVAIAAJCJSgAAADJRCQAAQCYqAQAAyEQlAAAAmagE\n",
       "AAAgE5UAAABkohIAAIBMVAIAAJCJSgAAADJRCQAAQCYqAQAAyEQlAAAAmagEAAAgE5UAAABkohIA\n",
       "AIDs6Obzf0xvYJHXz0+nJ7DIh4/OpyewwMPX701PYJHTu97JffH6+f3pCSyw/fzp9AQWubzcTE9g\n",
       "AZdKAAAAMlEJAABAJioBAADIRCUAAACZqAQAACATlQAAAGSiEgAAgExUAgAAkIlKAAAAMlEJAABA\n",
       "JioBAADIRCUAAACZqAQAACATlQAAAGSiEgAAgExUAgAAkIlKAAAAMlEJAABAJioBAADIRCUAAACZ\n",
       "qAQAACATlQAAAGSiEgAAgExUAgAAkIlKAAAAMlEJAABAJioBAADIRCUAAACZqAQAACATlQAAAGSi\n",
       "EgAAgExUAgAAkIlKAAAAMlEJAABAJioBAADIRCUAAACZqAQAACATlQAAAGSiEgAAgExUAgAAkIlK\n",
       "AAAAMlEJAABAJioBAADIRCUAAACZqAQAACATlQAAAGSiEgAAgExUAgAAkIlKAAAAMlEJAABAJioB\n",
       "AADIRCUAAACZqAQAACATlQAAAGSiEgAAgExUAgAAkIlKAAAAMlEJAABAJioBAADIRCUAAACZqAQA\n",
       "ACATlQAAAGSiEgAAgExUAgAAkIlKAAAAMlEJAABAJioBAADIRCUAAACZqAQAACATlQAAAGSiEgAA\n",
       "gExUAgAAkIlKAAAAMlEJAABAJioBAADIRCUAAACZqAQAACATlQAAAGSiEgAAgExUAgAAkIlKAAAA\n",
       "MlEJAABAJioBAADIRCUAAACZqAQAACATlQAAAGSiEgAAgExUAgAAkIlKAAAAMlEJAABAJioBAADI\n",
       "RCUAAACZqAQAACATlQAAAGSiEgAAgExUAgAAkIlKAAAAMlEJAABAJioBAADIRCUAAACZqAQAACAT\n",
       "lQAAAGSiEgAAgExUAgAAkIlKAAAAMlEJAABAJioBAADIRCUAAACZqAQAACATlQAAAGSiEgAAgExU\n",
       "AgAAkIlKAAAAMlEJAABAdvDFR7+5mR7BGv85P56ewCIv33iW++DyajM9gUXe2lxNT2CRh3d20xNY\n",
       "4N7Wc9wXh4fX0xNYwKUSAACATFQCAACQiUoAAAAyUQkAAEAmKgEAAMhEJQAAAJmoBAAAIBOVAAAA\n",
       "ZKISAACATFQCAACQiUoAAAAyUQkAAEAmKgEAAMhEJQAAAJmoBAAAIBOVAAAAZKISAACATFQCAACQ\n",
       "iUoAAAAyUQkAAEAmKgEAAMhEJQAAAJmoBAAAIBOVAAAAZKISAACATFQCAACQiUoAAAAyUQkAAEAm\n",
       "KgEAAMhEJQAAAJmoBAAAIBOVAAAAZKISAACATFQCAACQiUoAAAAyUQkAAEAmKgEAAMhEJQAAAJmo\n",
       "BAAAIBOVAAAAZKISAACATFQCAACQiUoAAAAyUQkAAEAmKgEAAMhEJQAAAJmoBAAAIBOVAAAAZKIS\n",
       "AACATFQCAACQiUoAAAAyUQkAAEAmKgEAAMhEJQAAAJmoBAAAIBOVAAAAZKISAACATFQCAACQiUoA\n",
       "AAAyUQkAAEAmKgEAAMhEJQAAAJmoBAAAIBOVAAAAZKISAACATFQCAACQiUoAAAAyUQkAAEAmKgEA\n",
       "AMhEJQAAAJmoBAAAIBOVAAAAZKISAACATFQCAACQiUoAAAAyUQkAAEAmKgEAAMhEJQAAAJmoBAAA\n",
       "IBOVAAAAZKISAACATFQCAACQiUoAAAAyUQkAAEAmKgEAAMhEJQAAAJmoBAAAIBOVAAAAZKISAACA\n",
       "TFQCAACQiUoAAAAyUQkAAEAmKgEAAMhEJQAAAJmoBAAAIBOVAAAAZKISAACATFQCAACQiUoAAAAy\n",
       "UQkAAEAmKgEAAMhEJQAAAJmoBAAAIBOVAAAAZKISAACATFQCAACQiUoAAAAyUQkAAEAmKgEAAMhE\n",
       "JQAAAJmoBAAAIBOVAAAAZKISAACA7Gh7+2J6A4s8enA2PYFFfvz4xfQEFrj94NX0BBa5+PZkegKL\n",
       "fPfs0fQEFtjtttMTgO9xqQQAACATlQAAAGSiEgAAgExUAgAAkIlKAAAAMlEJAABAJioBAADIRCUA\n",
       "AACZqAQAACATlQAAAGSiEgAAgExUAgAAkIlKAAAAMlEJAABAJioBAADIRCUAAACZqAQAACATlQAA\n",
       "AGSiEgAAgExUAgAAkIlKAAAAMlEJAABAJioBAADIRCUAAACZqAQAACATlQAAAGSiEgAAgExUAgAA\n",
       "kIlKAAAAMlEJAABAJioBAADIRCUAAACZqAQAACATlQAAAGSiEgAAgExUAgAAkIlKAAAAMlEJAABA\n",
       "JioBAADIRCUAAACZqAQAACATlQAAAGSiEgAAgExUAgAAkIlKAAAAMlEJAABAJioBAADIRCUAAACZ\n",
       "qAQAACATlQAAAGSiEgAAgExUAgAAkIlKAAAAMlEJAABAJioBAADIRCUAAACZqAQAACATlQAAAGSi\n",
       "EgAAgExUAgAAkIlKAAAAMlEJAABAJioBAADIRCUAAACZqAQAACATlQAAAGSiEgAAgExUAgAAkIlK\n",
       "AAAAMlEJAABAJioBAADIRCUAAACZqAQAACATlQAAAGSiEgAAgExUAgAAkIlKAAAAMlEJAABAJioB\n",
       "AADIRCUAAACZqAQAACATlQAAAGSiEgAAgExUAgAAkIlKAAAAMlEJAABAJioBAADIRCUAAACZqAQA\n",
       "ACATlQAAAGSiEgAAgExUAgAAkIlKAAAAMlEJAABAJioBAADIRCUAAACZqAQAACATlQAAAGSiEgAA\n",
       "gExUAgAAkIlKAAAAMlEJAABAJioBAADIRCUAAACZqAQAACATlQAAAGSiEgAAgExUAgAAkIlKAAAA\n",
       "MlEJAABAJioBAADIRCUAAACZqAQAACATlQAAAGQHl3/8wc30CNY4eP+d6Qkssnvy6+kJLHD87s+n\n",
       "J7DI7p+fTU9gkeOvPpmewAI3Xz+fnsAqV9MDWMGlEgAAgExUAgAAkIlKAAAAMlEJAABAJioBAADI\n",
       "RCUAAACZqAQAACATlQAAAGSiEgAAgExUAgAAkIlKAAAAMlEJAABAJioBAADIRCUAAACZqAQAACAT\n",
       "lQAAAGSiEgAAgExUAgAAkIlKAAAAMlEJAABAJioBAADIRCUAAACZqAQAACATlQAAAGSiEgAAgExU\n",
       "AgAAkIlKAAAAMlEJAABAJioBAADIRCUAAACZqAQAACATlQAAAGSiEgAAgExUAgAAkIlKAAAAMlEJ\n",
       "AABAJioBAADIRCUAAACZqAQAAPhf+3UsAAAAADDI33oOu8siNqkEAABgk0oAAAA2qQQAAGCTSgAA\n",
       "ADapBAAAYJNKAAAANqkEAABgk0oAAAA2qQQAAGCTSgAAADapBAAAYJNKAAAANqkEAABgk0oAAAA2\n",
       "qQQAAGCTSgAAADapBAAAYJNKAAAANqkEAABgk0oAAAA2qQQAAGCTSgAAADapBAAAYJNKAAAANqkE\n",
       "AABgk0oAAAA2qQQAAGCTSgAAADapBAAAYJNKAAAANqkEAABgk0oAAAA2qQQAAGCTSgAAADapBAAA\n",
       "YJNKAAAANqkEAABgk0oAAAA2qQQAAGCTSgAAADapBAAAYJNKAAAANqkEAABgk0oAAAA2qQQAAGCT\n",
       "SgAAADapBAAAYJNKAAAANqkEAABgk0oAAAA2qQQAAGCTSgAAADapBAAAYJNKAAAANqkEAABgk0oA\n",
       "AAA2qQQAAGCTSgAAADapBAAAYJNKAAAANqkEAABgk0oAAAA2qQQAAGCTSgAAADapBAAAYJNKAAAA\n",
       "NqkEAABgk0oAAAA2qQQAAGCTSgAAADapBAAAYJNKAAAANqkEAABgk0oAAAC2AMXdfcHyalIPAAAA\n",
       "AElFTkSuQmCC\n",
       "\" transform=\"translate(667, 232)\"/>\n",
       "</g>\n",
       "<circle clip-path=\"url(#clip582)\" cx=\"724.608\" cy=\"1320.85\" r=\"10.8\" fill=\"#000000\" fill-rule=\"evenodd\" fill-opacity=\"1\" stroke=\"none\"/>\n",
       "<circle clip-path=\"url(#clip582)\" cx=\"724.608\" cy=\"1206.21\" r=\"10.8\" fill=\"#000000\" fill-rule=\"evenodd\" fill-opacity=\"1\" stroke=\"none\"/>\n",
       "<circle clip-path=\"url(#clip582)\" cx=\"724.608\" cy=\"1091.57\" r=\"10.8\" fill=\"#000000\" fill-rule=\"evenodd\" fill-opacity=\"1\" stroke=\"none\"/>\n",
       "<circle clip-path=\"url(#clip582)\" cx=\"724.608\" cy=\"976.924\" r=\"10.8\" fill=\"#000000\" fill-rule=\"evenodd\" fill-opacity=\"1\" stroke=\"none\"/>\n",
       "<circle clip-path=\"url(#clip582)\" cx=\"724.608\" cy=\"862.281\" r=\"10.8\" fill=\"#000000\" fill-rule=\"evenodd\" fill-opacity=\"1\" stroke=\"none\"/>\n",
       "<circle clip-path=\"url(#clip582)\" cx=\"724.608\" cy=\"747.639\" r=\"10.8\" fill=\"#000000\" fill-rule=\"evenodd\" fill-opacity=\"1\" stroke=\"none\"/>\n",
       "<circle clip-path=\"url(#clip582)\" cx=\"724.608\" cy=\"632.996\" r=\"10.8\" fill=\"#000000\" fill-rule=\"evenodd\" fill-opacity=\"1\" stroke=\"none\"/>\n",
       "<circle clip-path=\"url(#clip582)\" cx=\"724.608\" cy=\"518.353\" r=\"10.8\" fill=\"#000000\" fill-rule=\"evenodd\" fill-opacity=\"1\" stroke=\"none\"/>\n",
       "<circle clip-path=\"url(#clip582)\" cx=\"724.608\" cy=\"403.71\" r=\"10.8\" fill=\"#000000\" fill-rule=\"evenodd\" fill-opacity=\"1\" stroke=\"none\"/>\n",
       "<circle clip-path=\"url(#clip582)\" cx=\"724.608\" cy=\"289.067\" r=\"10.8\" fill=\"#000000\" fill-rule=\"evenodd\" fill-opacity=\"1\" stroke=\"none\"/>\n",
       "<circle clip-path=\"url(#clip582)\" cx=\"839.251\" cy=\"1320.85\" r=\"10.8\" fill=\"#000000\" fill-rule=\"evenodd\" fill-opacity=\"1\" stroke=\"none\"/>\n",
       "<circle clip-path=\"url(#clip582)\" cx=\"839.251\" cy=\"1206.21\" r=\"10.8\" fill=\"#000000\" fill-rule=\"evenodd\" fill-opacity=\"1\" stroke=\"none\"/>\n",
       "<circle clip-path=\"url(#clip582)\" cx=\"839.251\" cy=\"1091.57\" r=\"10.8\" fill=\"#000000\" fill-rule=\"evenodd\" fill-opacity=\"1\" stroke=\"none\"/>\n",
       "<circle clip-path=\"url(#clip582)\" cx=\"839.251\" cy=\"976.924\" r=\"10.8\" fill=\"#000000\" fill-rule=\"evenodd\" fill-opacity=\"1\" stroke=\"none\"/>\n",
       "<circle clip-path=\"url(#clip582)\" cx=\"839.251\" cy=\"862.281\" r=\"10.8\" fill=\"#000000\" fill-rule=\"evenodd\" fill-opacity=\"1\" stroke=\"none\"/>\n",
       "<circle clip-path=\"url(#clip582)\" cx=\"839.251\" cy=\"747.639\" r=\"10.8\" fill=\"#000000\" fill-rule=\"evenodd\" fill-opacity=\"1\" stroke=\"none\"/>\n",
       "<circle clip-path=\"url(#clip582)\" cx=\"839.251\" cy=\"632.996\" r=\"10.8\" fill=\"#000000\" fill-rule=\"evenodd\" fill-opacity=\"1\" stroke=\"none\"/>\n",
       "<circle clip-path=\"url(#clip582)\" cx=\"839.251\" cy=\"518.353\" r=\"10.8\" fill=\"#000000\" fill-rule=\"evenodd\" fill-opacity=\"1\" stroke=\"none\"/>\n",
       "<circle clip-path=\"url(#clip582)\" cx=\"839.251\" cy=\"403.71\" r=\"10.8\" fill=\"#000000\" fill-rule=\"evenodd\" fill-opacity=\"1\" stroke=\"none\"/>\n",
       "<circle clip-path=\"url(#clip582)\" cx=\"839.251\" cy=\"289.067\" r=\"10.8\" fill=\"#000000\" fill-rule=\"evenodd\" fill-opacity=\"1\" stroke=\"none\"/>\n",
       "<circle clip-path=\"url(#clip582)\" cx=\"953.893\" cy=\"1320.85\" r=\"10.8\" fill=\"#000000\" fill-rule=\"evenodd\" fill-opacity=\"1\" stroke=\"none\"/>\n",
       "<circle clip-path=\"url(#clip582)\" cx=\"953.893\" cy=\"1206.21\" r=\"10.8\" fill=\"#000000\" fill-rule=\"evenodd\" fill-opacity=\"1\" stroke=\"none\"/>\n",
       "<circle clip-path=\"url(#clip582)\" cx=\"953.893\" cy=\"1091.57\" r=\"10.8\" fill=\"#000000\" fill-rule=\"evenodd\" fill-opacity=\"1\" stroke=\"none\"/>\n",
       "<circle clip-path=\"url(#clip582)\" cx=\"953.893\" cy=\"976.924\" r=\"10.8\" fill=\"#000000\" fill-rule=\"evenodd\" fill-opacity=\"1\" stroke=\"none\"/>\n",
       "<circle clip-path=\"url(#clip582)\" cx=\"953.893\" cy=\"862.281\" r=\"10.8\" fill=\"#000000\" fill-rule=\"evenodd\" fill-opacity=\"1\" stroke=\"none\"/>\n",
       "<circle clip-path=\"url(#clip582)\" cx=\"953.893\" cy=\"747.639\" r=\"10.8\" fill=\"#000000\" fill-rule=\"evenodd\" fill-opacity=\"1\" stroke=\"none\"/>\n",
       "<circle clip-path=\"url(#clip582)\" cx=\"953.893\" cy=\"632.996\" r=\"10.8\" fill=\"#000000\" fill-rule=\"evenodd\" fill-opacity=\"1\" stroke=\"none\"/>\n",
       "<circle clip-path=\"url(#clip582)\" cx=\"953.893\" cy=\"518.353\" r=\"10.8\" fill=\"#000000\" fill-rule=\"evenodd\" fill-opacity=\"1\" stroke=\"none\"/>\n",
       "<circle clip-path=\"url(#clip582)\" cx=\"953.893\" cy=\"403.71\" r=\"10.8\" fill=\"#000000\" fill-rule=\"evenodd\" fill-opacity=\"1\" stroke=\"none\"/>\n",
       "<circle clip-path=\"url(#clip582)\" cx=\"953.893\" cy=\"289.067\" r=\"10.8\" fill=\"#000000\" fill-rule=\"evenodd\" fill-opacity=\"1\" stroke=\"none\"/>\n",
       "<circle clip-path=\"url(#clip582)\" cx=\"1068.54\" cy=\"1320.85\" r=\"10.8\" fill=\"#000000\" fill-rule=\"evenodd\" fill-opacity=\"1\" stroke=\"none\"/>\n",
       "<circle clip-path=\"url(#clip582)\" cx=\"1068.54\" cy=\"1206.21\" r=\"10.8\" fill=\"#000000\" fill-rule=\"evenodd\" fill-opacity=\"1\" stroke=\"none\"/>\n",
       "<circle clip-path=\"url(#clip582)\" cx=\"1068.54\" cy=\"1091.57\" r=\"10.8\" fill=\"#000000\" fill-rule=\"evenodd\" fill-opacity=\"1\" stroke=\"none\"/>\n",
       "<circle clip-path=\"url(#clip582)\" cx=\"1068.54\" cy=\"976.924\" r=\"10.8\" fill=\"#000000\" fill-rule=\"evenodd\" fill-opacity=\"1\" stroke=\"none\"/>\n",
       "<circle clip-path=\"url(#clip582)\" cx=\"1068.54\" cy=\"862.281\" r=\"10.8\" fill=\"#000000\" fill-rule=\"evenodd\" fill-opacity=\"1\" stroke=\"none\"/>\n",
       "<circle clip-path=\"url(#clip582)\" cx=\"1068.54\" cy=\"747.639\" r=\"10.8\" fill=\"#000000\" fill-rule=\"evenodd\" fill-opacity=\"1\" stroke=\"none\"/>\n",
       "<circle clip-path=\"url(#clip582)\" cx=\"1068.54\" cy=\"632.996\" r=\"10.8\" fill=\"#000000\" fill-rule=\"evenodd\" fill-opacity=\"1\" stroke=\"none\"/>\n",
       "<circle clip-path=\"url(#clip582)\" cx=\"1068.54\" cy=\"518.353\" r=\"10.8\" fill=\"#000000\" fill-rule=\"evenodd\" fill-opacity=\"1\" stroke=\"none\"/>\n",
       "<circle clip-path=\"url(#clip582)\" cx=\"1068.54\" cy=\"403.71\" r=\"10.8\" fill=\"#000000\" fill-rule=\"evenodd\" fill-opacity=\"1\" stroke=\"none\"/>\n",
       "<circle clip-path=\"url(#clip582)\" cx=\"1068.54\" cy=\"289.067\" r=\"10.8\" fill=\"#000000\" fill-rule=\"evenodd\" fill-opacity=\"1\" stroke=\"none\"/>\n",
       "<circle clip-path=\"url(#clip582)\" cx=\"1183.18\" cy=\"1320.85\" r=\"10.8\" fill=\"#000000\" fill-rule=\"evenodd\" fill-opacity=\"1\" stroke=\"none\"/>\n",
       "<circle clip-path=\"url(#clip582)\" cx=\"1183.18\" cy=\"1206.21\" r=\"10.8\" fill=\"#000000\" fill-rule=\"evenodd\" fill-opacity=\"1\" stroke=\"none\"/>\n",
       "<circle clip-path=\"url(#clip582)\" cx=\"1183.18\" cy=\"1091.57\" r=\"10.8\" fill=\"#000000\" fill-rule=\"evenodd\" fill-opacity=\"1\" stroke=\"none\"/>\n",
       "<circle clip-path=\"url(#clip582)\" cx=\"1183.18\" cy=\"976.924\" r=\"10.8\" fill=\"#000000\" fill-rule=\"evenodd\" fill-opacity=\"1\" stroke=\"none\"/>\n",
       "<circle clip-path=\"url(#clip582)\" cx=\"1183.18\" cy=\"862.281\" r=\"10.8\" fill=\"#000000\" fill-rule=\"evenodd\" fill-opacity=\"1\" stroke=\"none\"/>\n",
       "<circle clip-path=\"url(#clip582)\" cx=\"1183.18\" cy=\"747.639\" r=\"10.8\" fill=\"#000000\" fill-rule=\"evenodd\" fill-opacity=\"1\" stroke=\"none\"/>\n",
       "<circle clip-path=\"url(#clip582)\" cx=\"1183.18\" cy=\"632.996\" r=\"10.8\" fill=\"#000000\" fill-rule=\"evenodd\" fill-opacity=\"1\" stroke=\"none\"/>\n",
       "<circle clip-path=\"url(#clip582)\" cx=\"1183.18\" cy=\"518.353\" r=\"10.8\" fill=\"#000000\" fill-rule=\"evenodd\" fill-opacity=\"1\" stroke=\"none\"/>\n",
       "<circle clip-path=\"url(#clip582)\" cx=\"1183.18\" cy=\"403.71\" r=\"10.8\" fill=\"#000000\" fill-rule=\"evenodd\" fill-opacity=\"1\" stroke=\"none\"/>\n",
       "<circle clip-path=\"url(#clip582)\" cx=\"1183.18\" cy=\"289.067\" r=\"10.8\" fill=\"#000000\" fill-rule=\"evenodd\" fill-opacity=\"1\" stroke=\"none\"/>\n",
       "<circle clip-path=\"url(#clip582)\" cx=\"1297.82\" cy=\"1320.85\" r=\"10.8\" fill=\"#000000\" fill-rule=\"evenodd\" fill-opacity=\"1\" stroke=\"none\"/>\n",
       "<circle clip-path=\"url(#clip582)\" cx=\"1297.82\" cy=\"1206.21\" r=\"10.8\" fill=\"#000000\" fill-rule=\"evenodd\" fill-opacity=\"1\" stroke=\"none\"/>\n",
       "<circle clip-path=\"url(#clip582)\" cx=\"1297.82\" cy=\"1091.57\" r=\"10.8\" fill=\"#000000\" fill-rule=\"evenodd\" fill-opacity=\"1\" stroke=\"none\"/>\n",
       "<circle clip-path=\"url(#clip582)\" cx=\"1297.82\" cy=\"976.924\" r=\"10.8\" fill=\"#000000\" fill-rule=\"evenodd\" fill-opacity=\"1\" stroke=\"none\"/>\n",
       "<circle clip-path=\"url(#clip582)\" cx=\"1297.82\" cy=\"862.281\" r=\"10.8\" fill=\"#000000\" fill-rule=\"evenodd\" fill-opacity=\"1\" stroke=\"none\"/>\n",
       "<circle clip-path=\"url(#clip582)\" cx=\"1297.82\" cy=\"747.639\" r=\"10.8\" fill=\"#000000\" fill-rule=\"evenodd\" fill-opacity=\"1\" stroke=\"none\"/>\n",
       "<circle clip-path=\"url(#clip582)\" cx=\"1297.82\" cy=\"632.996\" r=\"10.8\" fill=\"#000000\" fill-rule=\"evenodd\" fill-opacity=\"1\" stroke=\"none\"/>\n",
       "<circle clip-path=\"url(#clip582)\" cx=\"1297.82\" cy=\"518.353\" r=\"10.8\" fill=\"#000000\" fill-rule=\"evenodd\" fill-opacity=\"1\" stroke=\"none\"/>\n",
       "<circle clip-path=\"url(#clip582)\" cx=\"1297.82\" cy=\"403.71\" r=\"10.8\" fill=\"#000000\" fill-rule=\"evenodd\" fill-opacity=\"1\" stroke=\"none\"/>\n",
       "<circle clip-path=\"url(#clip582)\" cx=\"1297.82\" cy=\"289.067\" r=\"10.8\" fill=\"#000000\" fill-rule=\"evenodd\" fill-opacity=\"1\" stroke=\"none\"/>\n",
       "<circle clip-path=\"url(#clip582)\" cx=\"1412.46\" cy=\"1320.85\" r=\"10.8\" fill=\"#000000\" fill-rule=\"evenodd\" fill-opacity=\"1\" stroke=\"none\"/>\n",
       "<circle clip-path=\"url(#clip582)\" cx=\"1412.46\" cy=\"1206.21\" r=\"10.8\" fill=\"#000000\" fill-rule=\"evenodd\" fill-opacity=\"1\" stroke=\"none\"/>\n",
       "<circle clip-path=\"url(#clip582)\" cx=\"1412.46\" cy=\"1091.57\" r=\"10.8\" fill=\"#000000\" fill-rule=\"evenodd\" fill-opacity=\"1\" stroke=\"none\"/>\n",
       "<circle clip-path=\"url(#clip582)\" cx=\"1412.46\" cy=\"976.924\" r=\"10.8\" fill=\"#000000\" fill-rule=\"evenodd\" fill-opacity=\"1\" stroke=\"none\"/>\n",
       "<circle clip-path=\"url(#clip582)\" cx=\"1412.46\" cy=\"862.281\" r=\"10.8\" fill=\"#000000\" fill-rule=\"evenodd\" fill-opacity=\"1\" stroke=\"none\"/>\n",
       "<circle clip-path=\"url(#clip582)\" cx=\"1412.46\" cy=\"747.639\" r=\"10.8\" fill=\"#000000\" fill-rule=\"evenodd\" fill-opacity=\"1\" stroke=\"none\"/>\n",
       "<circle clip-path=\"url(#clip582)\" cx=\"1412.46\" cy=\"632.996\" r=\"10.8\" fill=\"#000000\" fill-rule=\"evenodd\" fill-opacity=\"1\" stroke=\"none\"/>\n",
       "<circle clip-path=\"url(#clip582)\" cx=\"1412.46\" cy=\"518.353\" r=\"10.8\" fill=\"#000000\" fill-rule=\"evenodd\" fill-opacity=\"1\" stroke=\"none\"/>\n",
       "<circle clip-path=\"url(#clip582)\" cx=\"1412.46\" cy=\"403.71\" r=\"10.8\" fill=\"#000000\" fill-rule=\"evenodd\" fill-opacity=\"1\" stroke=\"none\"/>\n",
       "<circle clip-path=\"url(#clip582)\" cx=\"1412.46\" cy=\"289.067\" r=\"10.8\" fill=\"#000000\" fill-rule=\"evenodd\" fill-opacity=\"1\" stroke=\"none\"/>\n",
       "<circle clip-path=\"url(#clip582)\" cx=\"1527.11\" cy=\"1320.85\" r=\"10.8\" fill=\"#000000\" fill-rule=\"evenodd\" fill-opacity=\"1\" stroke=\"none\"/>\n",
       "<circle clip-path=\"url(#clip582)\" cx=\"1527.11\" cy=\"1206.21\" r=\"10.8\" fill=\"#000000\" fill-rule=\"evenodd\" fill-opacity=\"1\" stroke=\"none\"/>\n",
       "<circle clip-path=\"url(#clip582)\" cx=\"1527.11\" cy=\"1091.57\" r=\"10.8\" fill=\"#000000\" fill-rule=\"evenodd\" fill-opacity=\"1\" stroke=\"none\"/>\n",
       "<circle clip-path=\"url(#clip582)\" cx=\"1527.11\" cy=\"976.924\" r=\"10.8\" fill=\"#000000\" fill-rule=\"evenodd\" fill-opacity=\"1\" stroke=\"none\"/>\n",
       "<circle clip-path=\"url(#clip582)\" cx=\"1527.11\" cy=\"862.281\" r=\"10.8\" fill=\"#000000\" fill-rule=\"evenodd\" fill-opacity=\"1\" stroke=\"none\"/>\n",
       "<circle clip-path=\"url(#clip582)\" cx=\"1527.11\" cy=\"747.639\" r=\"10.8\" fill=\"#000000\" fill-rule=\"evenodd\" fill-opacity=\"1\" stroke=\"none\"/>\n",
       "<circle clip-path=\"url(#clip582)\" cx=\"1527.11\" cy=\"632.996\" r=\"10.8\" fill=\"#000000\" fill-rule=\"evenodd\" fill-opacity=\"1\" stroke=\"none\"/>\n",
       "<circle clip-path=\"url(#clip582)\" cx=\"1527.11\" cy=\"518.353\" r=\"10.8\" fill=\"#000000\" fill-rule=\"evenodd\" fill-opacity=\"1\" stroke=\"none\"/>\n",
       "<circle clip-path=\"url(#clip582)\" cx=\"1527.11\" cy=\"403.71\" r=\"10.8\" fill=\"#000000\" fill-rule=\"evenodd\" fill-opacity=\"1\" stroke=\"none\"/>\n",
       "<circle clip-path=\"url(#clip582)\" cx=\"1527.11\" cy=\"289.067\" r=\"10.8\" fill=\"#000000\" fill-rule=\"evenodd\" fill-opacity=\"1\" stroke=\"none\"/>\n",
       "<path clip-path=\"url(#clip582)\" d=\"M1068.54 621.531 L1066.95 621.541 L1065.36 621.571 L1063.77 621.621 L1062.19 621.691 L1060.6 621.781 L1059.02 621.891 L1057.44 622.021 L1055.85 622.171 L1054.28 622.34 L1052.7 622.53 L1051.13 622.739 L1049.55 622.968 L1047.99 623.217 L1046.42 623.486 L1044.86 623.774 L1043.3 624.082 L1041.75 624.41 L1040.2 624.757 L1038.65 625.123 L1037.11 625.509 L1035.58 625.914 L1034.05 626.339 L1032.52 626.783 L1031 627.246 L1029.49 627.728 L1027.98 628.229 L1026.48 628.749 L1024.99 629.288 L1023.5 629.846 L1022.02 630.422 L1020.55 631.017 L1019.09 631.631 L1017.63 632.262 L1016.18 632.913 L1014.74 633.581 L1013.31 634.267 L1011.89 634.972 L1010.47 635.694 L1009.07 636.434 L1007.67 637.191 L1006.29 637.966 L1004.91 638.759 L1003.54 639.569 L1002.19 640.396 L1000.84 641.239 L999.51 642.1 L998.186 642.978 L996.874 643.872 L995.573 644.782 L994.284 645.709 L993.006 646.652 L991.741 647.611 L990.487 648.586 L989.246 649.577 L988.018 650.583 L986.802 651.604 L985.6 652.641 L984.41 653.693 L983.234 654.76 L982.071 655.841 L980.922 656.937 L979.787 658.047 L978.666 659.172 L977.559 660.31 L976.467 661.463 L975.389 662.629 L974.326 663.809 L973.278 665.001 L972.245 666.207 L971.227 667.426 L970.225 668.658 L969.239 669.902 L968.268 671.158 L967.313 672.427 L966.374 673.707 L965.451 675 L964.544 676.303 L963.654 677.618 L962.781 678.945 L961.925 680.282 L961.085 681.629 L960.262 682.988 L959.457 684.356 L958.669 685.734 L957.898 687.123 L957.145 688.521 L956.409 689.928 L955.691 691.344 L954.992 692.77 L954.31 694.204 L953.646 695.646 L953 697.097 L952.373 698.555 L951.764 700.022 L951.174 701.496 L950.602 702.977 L950.049 704.466 L949.515 705.961 L949 707.463 L948.503 708.971 L948.026 710.486 L947.568 712.006 L947.129 713.532 L946.709 715.064 L946.309 716.6 L945.927 718.142 L945.566 719.688 L945.224 721.238 L944.901 722.793 L944.598 724.352 L944.314 725.914 L944.051 727.48 L943.807 729.049 L943.583 730.621 L943.378 732.196 L943.194 733.773 L943.029 735.352 L942.884 736.933 L942.76 738.516 L942.655 740.101 L942.57 741.686 L942.505 743.273 L942.46 744.86 L942.435 746.448 L942.43 748.036 L942.445 749.623 L942.48 751.211 L942.535 752.798 L942.61 754.384 L942.705 755.969 L942.819 757.553 L942.954 759.135 L943.109 760.715 L943.284 762.293 L943.478 763.869 L943.692 765.443 L943.926 767.013 L944.18 768.581 L944.454 770.145 L944.747 771.705 L945.06 773.262 L945.392 774.815 L945.744 776.363 L946.116 777.907 L946.506 779.446 L946.917 780.98 L947.346 782.509 L947.795 784.032 L948.262 785.549 L948.749 787.061 L949.255 788.566 L949.78 790.064 L950.324 791.556 L950.886 793.041 L951.467 794.519 L952.066 795.989 L952.685 797.452 L953.321 798.907 L953.976 800.353 L954.648 801.792 L955.339 803.221 L956.048 804.642 L956.775 806.054 L957.519 807.457 L958.281 808.85 L959.061 810.233 L959.857 811.607 L960.671 812.97 L961.503 814.323 L962.351 815.665 L963.216 816.997 L964.097 818.318 L964.996 819.627 L965.91 820.925 L966.841 822.211 L967.788 823.486 L968.751 824.748 L969.73 825.999 L970.724 827.237 L971.734 828.462 L972.76 829.674 L973.8 830.874 L974.856 832.06 L975.926 833.233 L977.011 834.392 L978.111 835.538 L979.225 836.669 L980.353 837.787 L981.495 838.89 L982.651 839.979 L983.82 841.053 L985.003 842.112 L986.199 843.156 L987.409 844.186 L988.631 845.199 L989.865 846.198 L991.113 847.18 L992.372 848.147 L993.644 849.098 L994.927 850.033 L996.222 850.952 L997.529 851.854 L998.847 852.74 L1000.18 853.609 L1001.52 854.462 L1002.87 855.297 L1004.23 856.116 L1005.6 856.917 L1006.98 857.7 L1008.37 858.467 L1009.77 859.216 L1011.18 859.947 L1012.6 860.66 L1014.02 861.355 L1015.46 862.033 L1016.91 862.692 L1018.36 863.333 L1019.82 863.956 L1021.29 864.56 L1022.76 865.145 L1024.25 865.712 L1025.74 866.261 L1027.23 866.79 L1028.74 867.301 L1030.25 867.792 L1031.76 868.265 L1033.28 868.719 L1034.81 869.153 L1036.34 869.568 L1037.88 869.963 L1039.43 870.34 L1040.97 870.697 L1042.52 871.034 L1044.08 871.352 L1045.64 871.65 L1047.2 871.928 L1048.77 872.187 L1050.34 872.426 L1051.91 872.645 L1053.49 872.845 L1055.06 873.024 L1056.64 873.184 L1058.23 873.324 L1059.81 873.443 L1061.39 873.543 L1062.98 873.623 L1064.57 873.683 L1066.15 873.723 L1067.74 873.743 L1069.33 873.743 L1070.92 873.723 L1072.51 873.683 L1074.09 873.623 L1075.68 873.543 L1077.26 873.443 L1078.85 873.324 L1080.43 873.184 L1082.01 873.024 L1083.59 872.845 L1085.16 872.645 L1086.73 872.426 L1088.3 872.187 L1089.87 871.928 L1091.43 871.65 L1092.99 871.352 L1094.55 871.034 L1096.1 870.697 L1097.65 870.34 L1099.19 869.963 L1100.73 869.568 L1102.26 869.153 L1103.79 868.719 L1105.31 868.265 L1106.83 867.792 L1108.34 867.301 L1109.84 866.79 L1111.34 866.261 L1112.83 865.712 L1114.31 865.145 L1115.78 864.56 L1117.25 863.956 L1118.71 863.333 L1120.17 862.692 L1121.61 862.033 L1123.05 861.355 L1124.48 860.66 L1125.89 859.947 L1127.3 859.216 L1128.7 858.467 L1130.09 857.7 L1131.48 856.917 L1132.85 856.116 L1134.21 855.297 L1135.56 854.462 L1136.9 853.609 L1138.23 852.74 L1139.54 851.854 L1140.85 850.952 L1142.15 850.033 L1143.43 849.098 L1144.7 848.147 L1145.96 847.18 L1147.21 846.198 L1148.44 845.199 L1149.66 844.186 L1150.87 843.156 L1152.07 842.112 L1153.25 841.053 L1154.42 839.979 L1155.58 838.89 L1156.72 837.787 L1157.85 836.669 L1158.96 835.538 L1160.06 834.392 L1161.15 833.233 L1162.22 832.06 L1163.27 830.874 L1164.31 829.674 L1165.34 828.462 L1166.35 827.237 L1167.34 825.999 L1168.32 824.748 L1169.28 823.486 L1170.23 822.211 L1171.16 820.925 L1172.08 819.627 L1172.98 818.318 L1173.86 816.997 L1174.72 815.665 L1175.57 814.323 L1176.4 812.97 L1177.22 811.607 L1178.01 810.233 L1178.79 808.85 L1179.55 807.457 L1180.3 806.054 L1181.02 804.642 L1181.73 803.221 L1182.42 801.792 L1183.1 800.353 L1183.75 798.907 L1184.39 797.452 L1185.01 795.989 L1185.61 794.519 L1186.19 793.041 L1186.75 791.556 L1187.29 790.064 L1187.82 788.566 L1188.32 787.061 L1188.81 785.549 L1189.28 784.032 L1189.73 782.509 L1190.16 780.98 L1190.57 779.446 L1190.96 777.907 L1191.33 776.363 L1191.68 774.815 L1192.01 773.262 L1192.33 771.705 L1192.62 770.145 L1192.89 768.581 L1193.15 767.013 L1193.38 765.443 L1193.59 763.869 L1193.79 762.293 L1193.96 760.715 L1194.12 759.135 L1194.25 757.553 L1194.37 755.969 L1194.46 754.384 L1194.54 752.798 L1194.59 751.211 L1194.63 749.623 L1194.64 748.036 L1194.64 746.448 L1194.61 744.86 L1194.57 743.273 L1194.5 741.686 L1194.42 740.101 L1194.31 738.516 L1194.19 736.933 L1194.04 735.352 L1193.88 733.773 L1193.69 732.196 L1193.49 730.621 L1193.27 729.049 L1193.02 727.48 L1192.76 725.914 L1192.47 724.352 L1192.17 722.793 L1191.85 721.238 L1191.51 719.688 L1191.15 718.142 L1190.76 716.6 L1190.36 715.064 L1189.94 713.532 L1189.5 712.006 L1189.05 710.486 L1188.57 708.971 L1188.07 707.463 L1187.56 705.961 L1187.02 704.466 L1186.47 702.977 L1185.9 701.496 L1185.31 700.022 L1184.7 698.555 L1184.07 697.097 L1183.43 695.646 L1182.76 694.204 L1182.08 692.77 L1181.38 691.344 L1180.66 689.928 L1179.93 688.521 L1179.17 687.123 L1178.4 685.734 L1177.62 684.356 L1176.81 682.988 L1175.99 681.629 L1175.15 680.282 L1174.29 678.945 L1173.42 677.618 L1172.53 676.303 L1171.62 675 L1170.7 673.707 L1169.76 672.427 L1168.8 671.158 L1167.83 669.902 L1166.85 668.658 L1165.85 667.426 L1164.83 666.207 L1163.79 665.001 L1162.75 663.809 L1161.68 662.629 L1160.61 661.463 L1159.51 660.31 L1158.41 659.172 L1157.29 658.047 L1156.15 656.937 L1155 655.841 L1153.84 654.76 L1152.66 653.693 L1151.47 652.641 L1150.27 651.604 L1149.05 650.583 L1147.83 649.577 L1146.59 648.586 L1145.33 647.611 L1144.07 646.652 L1142.79 645.709 L1141.5 644.782 L1140.2 643.872 L1138.89 642.978 L1137.56 642.1 L1136.23 641.239 L1134.88 640.396 L1133.53 639.569 L1132.16 638.759 L1130.79 637.966 L1129.4 637.191 L1128 636.434 L1126.6 635.694 L1125.19 634.972 L1123.76 634.267 L1122.33 633.581 L1120.89 632.913 L1119.44 632.262 L1117.98 631.631 L1116.52 631.017 L1115.05 630.422 L1113.57 629.846 L1112.08 629.288 L1110.59 628.749 L1109.09 628.229 L1107.58 627.728 L1106.07 627.246 L1104.55 626.783 L1103.02 626.339 L1101.49 625.914 L1099.96 625.509 L1098.42 625.123 L1096.87 624.757 L1095.32 624.41 L1093.77 624.082 L1092.21 623.774 L1090.65 623.486 L1089.09 623.217 L1087.52 622.968 L1085.95 622.739 L1084.37 622.53 L1082.8 622.34 L1081.22 622.171 L1079.64 622.021 L1078.05 621.891 L1076.47 621.781 L1074.89 621.691 L1073.3 621.621 L1071.71 621.571 L1070.12 621.541 L1068.54 621.531 L1068.54 621.531  Z\" fill=\"#ffffff\" fill-rule=\"evenodd\" fill-opacity=\"0.2\"/>\n",
       "<polyline clip-path=\"url(#clip582)\" style=\"stroke:#ffffff; stroke-linecap:round; stroke-linejoin:round; stroke-width:2; stroke-opacity:1; fill:none\" points=\"1068.54,621.531 1066.95,621.541 1065.36,621.571 1063.77,621.621 1062.19,621.691 1060.6,621.781 1059.02,621.891 1057.44,622.021 1055.85,622.171 1054.28,622.34 1052.7,622.53 1051.13,622.739 1049.55,622.968 1047.99,623.217 1046.42,623.486 1044.86,623.774 1043.3,624.082 1041.75,624.41 1040.2,624.757 1038.65,625.123 1037.11,625.509 1035.58,625.914 1034.05,626.339 1032.52,626.783 1031,627.246 1029.49,627.728 1027.98,628.229 1026.48,628.749 1024.99,629.288 1023.5,629.846 1022.02,630.422 1020.55,631.017 1019.09,631.631 1017.63,632.262 1016.18,632.913 1014.74,633.581 1013.31,634.267 1011.89,634.972 1010.47,635.694 1009.07,636.434 1007.67,637.191 1006.29,637.966 1004.91,638.759 1003.54,639.569 1002.19,640.396 1000.84,641.239 999.51,642.1 998.186,642.978 996.874,643.872 995.573,644.782 994.284,645.709 993.006,646.652 991.741,647.611 990.487,648.586 989.246,649.577 988.018,650.583 986.802,651.604 985.6,652.641 984.41,653.693 983.234,654.76 982.071,655.841 980.922,656.937 979.787,658.047 978.666,659.172 977.559,660.31 976.467,661.463 975.389,662.629 974.326,663.809 973.278,665.001 972.245,666.207 971.227,667.426 970.225,668.658 969.239,669.902 968.268,671.158 967.313,672.427 966.374,673.707 965.451,675 964.544,676.303 963.654,677.618 962.781,678.945 961.925,680.282 961.085,681.629 960.262,682.988 959.457,684.356 958.669,685.734 957.898,687.123 957.145,688.521 956.409,689.928 955.691,691.344 954.992,692.77 954.31,694.204 953.646,695.646 953,697.097 952.373,698.555 951.764,700.022 951.174,701.496 950.602,702.977 950.049,704.466 949.515,705.961 949,707.463 948.503,708.971 948.026,710.486 947.568,712.006 947.129,713.532 946.709,715.064 946.309,716.6 945.927,718.142 945.566,719.688 945.224,721.238 944.901,722.793 944.598,724.352 944.314,725.914 944.051,727.48 943.807,729.049 943.583,730.621 943.378,732.196 943.194,733.773 943.029,735.352 942.884,736.933 942.76,738.516 942.655,740.101 942.57,741.686 942.505,743.273 942.46,744.86 942.435,746.448 942.43,748.036 942.445,749.623 942.48,751.211 942.535,752.798 942.61,754.384 942.705,755.969 942.819,757.553 942.954,759.135 943.109,760.715 943.284,762.293 943.478,763.869 943.692,765.443 943.926,767.013 944.18,768.581 944.454,770.145 944.747,771.705 945.06,773.262 945.392,774.815 945.744,776.363 946.116,777.907 946.506,779.446 946.917,780.98 947.346,782.509 947.795,784.032 948.262,785.549 948.749,787.061 949.255,788.566 949.78,790.064 950.324,791.556 950.886,793.041 951.467,794.519 952.066,795.989 952.685,797.452 953.321,798.907 953.976,800.353 954.648,801.792 955.339,803.221 956.048,804.642 956.775,806.054 957.519,807.457 958.281,808.85 959.061,810.233 959.857,811.607 960.671,812.97 961.503,814.323 962.351,815.665 963.216,816.997 964.097,818.318 964.996,819.627 965.91,820.925 966.841,822.211 967.788,823.486 968.751,824.748 969.73,825.999 970.724,827.237 971.734,828.462 972.76,829.674 973.8,830.874 974.856,832.06 975.926,833.233 977.011,834.392 978.111,835.538 979.225,836.669 980.353,837.787 981.495,838.89 982.651,839.979 983.82,841.053 985.003,842.112 986.199,843.156 987.409,844.186 988.631,845.199 989.865,846.198 991.113,847.18 992.372,848.147 993.644,849.098 994.927,850.033 996.222,850.952 997.529,851.854 998.847,852.74 1000.18,853.609 1001.52,854.462 1002.87,855.297 1004.23,856.116 1005.6,856.917 1006.98,857.7 1008.37,858.467 1009.77,859.216 1011.18,859.947 1012.6,860.66 1014.02,861.355 1015.46,862.033 1016.91,862.692 1018.36,863.333 1019.82,863.956 1021.29,864.56 1022.76,865.145 1024.25,865.712 1025.74,866.261 1027.23,866.79 1028.74,867.301 1030.25,867.792 1031.76,868.265 1033.28,868.719 1034.81,869.153 1036.34,869.568 1037.88,869.963 1039.43,870.34 1040.97,870.697 1042.52,871.034 1044.08,871.352 1045.64,871.65 1047.2,871.928 1048.77,872.187 1050.34,872.426 1051.91,872.645 1053.49,872.845 1055.06,873.024 1056.64,873.184 1058.23,873.324 1059.81,873.443 1061.39,873.543 1062.98,873.623 1064.57,873.683 1066.15,873.723 1067.74,873.743 1069.33,873.743 1070.92,873.723 1072.51,873.683 1074.09,873.623 1075.68,873.543 1077.26,873.443 1078.85,873.324 1080.43,873.184 1082.01,873.024 1083.59,872.845 1085.16,872.645 1086.73,872.426 1088.3,872.187 1089.87,871.928 1091.43,871.65 1092.99,871.352 1094.55,871.034 1096.1,870.697 1097.65,870.34 1099.19,869.963 1100.73,869.568 1102.26,869.153 1103.79,868.719 1105.31,868.265 1106.83,867.792 1108.34,867.301 1109.84,866.79 1111.34,866.261 1112.83,865.712 1114.31,865.145 1115.78,864.56 1117.25,863.956 1118.71,863.333 1120.17,862.692 1121.61,862.033 1123.05,861.355 1124.48,860.66 1125.89,859.947 1127.3,859.216 1128.7,858.467 1130.09,857.7 1131.48,856.917 1132.85,856.116 1134.21,855.297 1135.56,854.462 1136.9,853.609 1138.23,852.74 1139.54,851.854 1140.85,850.952 1142.15,850.033 1143.43,849.098 1144.7,848.147 1145.96,847.18 1147.21,846.198 1148.44,845.199 1149.66,844.186 1150.87,843.156 1152.07,842.112 1153.25,841.053 1154.42,839.979 1155.58,838.89 1156.72,837.787 1157.85,836.669 1158.96,835.538 1160.06,834.392 1161.15,833.233 1162.22,832.06 1163.27,830.874 1164.31,829.674 1165.34,828.462 1166.35,827.237 1167.34,825.999 1168.32,824.748 1169.28,823.486 1170.23,822.211 1171.16,820.925 1172.08,819.627 1172.98,818.318 1173.86,816.997 1174.72,815.665 1175.57,814.323 1176.4,812.97 1177.22,811.607 1178.01,810.233 1178.79,808.85 1179.55,807.457 1180.3,806.054 1181.02,804.642 1181.73,803.221 1182.42,801.792 1183.1,800.353 1183.75,798.907 1184.39,797.452 1185.01,795.989 1185.61,794.519 1186.19,793.041 1186.75,791.556 1187.29,790.064 1187.82,788.566 1188.32,787.061 1188.81,785.549 1189.28,784.032 1189.73,782.509 1190.16,780.98 1190.57,779.446 1190.96,777.907 1191.33,776.363 1191.68,774.815 1192.01,773.262 1192.33,771.705 1192.62,770.145 1192.89,768.581 1193.15,767.013 1193.38,765.443 1193.59,763.869 1193.79,762.293 1193.96,760.715 1194.12,759.135 1194.25,757.553 1194.37,755.969 1194.46,754.384 1194.54,752.798 1194.59,751.211 1194.63,749.623 1194.64,748.036 1194.64,746.448 1194.61,744.86 1194.57,743.273 1194.5,741.686 1194.42,740.101 1194.31,738.516 1194.19,736.933 1194.04,735.352 1193.88,733.773 1193.69,732.196 1193.49,730.621 1193.27,729.049 1193.02,727.48 1192.76,725.914 1192.47,724.352 1192.17,722.793 1191.85,721.238 1191.51,719.688 1191.15,718.142 1190.76,716.6 1190.36,715.064 1189.94,713.532 1189.5,712.006 1189.05,710.486 1188.57,708.971 1188.07,707.463 1187.56,705.961 1187.02,704.466 1186.47,702.977 1185.9,701.496 1185.31,700.022 1184.7,698.555 1184.07,697.097 1183.43,695.646 1182.76,694.204 1182.08,692.77 1181.38,691.344 1180.66,689.928 1179.93,688.521 1179.17,687.123 1178.4,685.734 1177.62,684.356 1176.81,682.988 1175.99,681.629 1175.15,680.282 1174.29,678.945 1173.42,677.618 1172.53,676.303 1171.62,675 1170.7,673.707 1169.76,672.427 1168.8,671.158 1167.83,669.902 1166.85,668.658 1165.85,667.426 1164.83,666.207 1163.79,665.001 1162.75,663.809 1161.68,662.629 1160.61,661.463 1159.51,660.31 1158.41,659.172 1157.29,658.047 1156.15,656.937 1155,655.841 1153.84,654.76 1152.66,653.693 1151.47,652.641 1150.27,651.604 1149.05,650.583 1147.83,649.577 1146.59,648.586 1145.33,647.611 1144.07,646.652 1142.79,645.709 1141.5,644.782 1140.2,643.872 1138.89,642.978 1137.56,642.1 1136.23,641.239 1134.88,640.396 1133.53,639.569 1132.16,638.759 1130.79,637.966 1129.4,637.191 1128,636.434 1126.6,635.694 1125.19,634.972 1123.76,634.267 1122.33,633.581 1120.89,632.913 1119.44,632.262 1117.98,631.631 1116.52,631.017 1115.05,630.422 1113.57,629.846 1112.08,629.288 1110.59,628.749 1109.09,628.229 1107.58,627.728 1106.07,627.246 1104.55,626.783 1103.02,626.339 1101.49,625.914 1099.96,625.509 1098.42,625.123 1096.87,624.757 1095.32,624.41 1093.77,624.082 1092.21,623.774 1090.65,623.486 1089.09,623.217 1087.52,622.968 1085.95,622.739 1084.37,622.53 1082.8,622.34 1081.22,622.171 1079.64,622.021 1078.05,621.891 1076.47,621.781 1074.89,621.691 1073.3,621.621 1071.71,621.571 1070.12,621.541 1068.54,621.531 1068.54,621.531 \"/>\n",
       "<defs>\n",
       "  <clipPath id=\"clip583\">\n",
       "    <rect x=\"2160\" y=\"197\" width=\"73\" height=\"1216\"/>\n",
       "  </clipPath>\n",
       "</defs>\n",
       "<g clip-path=\"url(#clip583)\">\n",
       "<image width=\"72\" height=\"1215\" xlink:href=\"data:image/png;base64,\n",
       "iVBORw0KGgoAAAANSUhEUgAAAEgAAAS/CAYAAACpNb71AAAKrElEQVR4nO3dwY3sRhAFQY5Q/lsh\n",
       "L6XfLQtUeSQPERYMEg9Ek5yd/f17/r4P/+uvtz/A1wkUBAoChTn337c/w6dZUBAoCBQECnPvn7c/\n",
       "w6dZUBAoCBQECk7SwYKCQEGgMNc1aGVBQaAgUBAozD0u0hsLCgIFgYJAwUk6WFAQKAgUBAou0sGC\n",
       "gkBBoOBuPlhQECgIFAQK8zgoriwoCBQECgIFd/PBgoJAQaAgUJjH446VBQWBgkBhnvPP25/h0ywo\n",
       "CBQECgIFj1yDBQWBgkBBoOBuPlhQECgIFAQKLtLBgoJAQaDgbj5YUBAoCBQECvNzUFxZUBAoCBQE\n",
       "CvMcv+W6saAgUBAoCBScpIMFBYGCQMFBMVhQECgIFAQK3s0HCwoCBYGCQGF+TtIrCwoCBYGCQME3\n",
       "zIIFBYGCQMFBMVhQECgIFAQK3osFCwoCBYGCQMFJOlhQECgIFAQKTtLBgoJAQaDgoBgsKAgUBAoC\n",
       "hXnOefszfJoFBYGCQEGg4CQdLCgIFAQKAgWPXIMFBYGCQME1KFhQECgIFAQK8/PIdWVBQaAgUBAo\n",
       "OEkHCwoCBYGCQMGXF4IFBYGCQMHdfLCgIFAQKAgU3M0HCwoCBYGCQMHdfLCgIFAQKAgUXKSDBQWB\n",
       "gkDBn0MFCwoCBYGCQMFBMVhQECgIFAQKLtLBgoJAQaAgUHCRDhYUBAoCBdegYEFBoCBQECjMc12k\n",
       "NxYUBAoCBYGCk3SwoCBQECgIFFykgwUFgYJAwTUoWFAQKAgUBArznPv2Z/g0CwoCBYGCQMFJOlhQ\n",
       "ECgIFAQKTtLBgoJAQaDgoBgsKAgUBAoCBQfFYEFBoCBQECjM4yC9sqAgUBAoCBTmuU7SGwsKAgWB\n",
       "goNisKAgUBAoCBRcpIMFBYGCQEGgMH78ZWdBQaAgUBAoOEkHCwoCBYGCa1CwoCBQECgIFOY5v7c/\n",
       "w6dZUBAoCBQECnOvi/TGgoJAQaAgUPC4I1hQECgIFNzNBwsKAgWBgkBh7tFoo04QKAgUBApO0sGC\n",
       "gkBBoDCP1z4rCwoCBYGCQGGug+LKgoJAQaAgUJjHI9eVOkGgIFAQKDhJBwsKAgWBgkeuwYKCQEGg\n",
       "IFDwBaqgThAoCBQECr5AFSwoCBQECgIFj1yDBQWBgkBh7tVoo04QKAgUBAru5oMFBYGCQEGg4G4+\n",
       "WFAQKAgUBArzeNyxUicIFAQKDorBgoJAQaAgUHCRDhYUBAoCBYGCvxcLFhQECgIFgYK/FwvqBIGC\n",
       "QMG/8AsWFAQKAgWBgkeuwYKCQEGgIFDwW65BnSBQECgIFDzuCBYUBAoCBXfzwYKCQEGgIFBwUAwW\n",
       "FAQKAgWBgi9QBXWCQEGgIFBwkg4WFAQKAgWPXIMFBYGCQEGg4KAYLCgIFAQKAgU/uB0sKAgUBAoC\n",
       "Bf+6JqgTBAoCBXfzwYKCQEGgIFDwXixYUBAoCBQECk7SwYKCQEGgIFCY4yK9sqAgUBAo+HOooE4Q\n",
       "KAgUBAru5oMFBYGCQEGg4CIdLCgIFAQKAgVfXggWFAQKAgUHxWBBQaAgUBAouEgHCwoCBYGCQMHf\n",
       "rAZ1gkBBoCBQmOOR68qCgkBBoOBuPlhQECgIFAQKLtLBgoJAQaAgUHCRDhYUBAoCBYGCHxYIFhQE\n",
       "CgIFB8VgQUGgIFAQKLhIBwsKAgWBgkDBt1yDOkGgIFAQKPiWa7CgIFAQKLibDxYUBAoCBYGCi3Sw\n",
       "oCBQECgIFHyBKlhQECgIFAQKTtLBgoJAQaAw93EN2lhQECgIFAQK7uaDBQWBgkBBoOBuPlhQECgI\n",
       "FAQKTtLBgoJAQaDgoBgsKAgUBAoCBQfFYEFBoCBQECg4SQcLCgIFgYJAwUU6WFAQKAgU5viW68qC\n",
       "gkBBoCBQcFAMFhQECgIFgYL3YsGCgkBBoDD3vv0Rvs2CgkBBoCBQcFAMFhQECgIFgYJffwkWFAQK\n",
       "AgWBgpN0sKAgUBAoeDcfLCgIFAQKAgXfcg0WFAQKAgWBgi8vBAsKAgWBgkDBI9dgQUGgIFDwyDVY\n",
       "UBAoCBQECh65BgsKAgWBgkDB3XywoCBQECgIFLwXCxYUBAoCBXfzwYKCQEGgIFDwXixYUBAoCBQE\n",
       "CnPe/gQfZ0FBoCBQECg4SQcLCgIFgYJ388GCgkBBoCBQcDcfLCgIFAQKAgV388GCgkBBoCBQcJIO\n",
       "FhQECgIFB8VgQUGgIFAQKHgvFiwoCBQECgKF8SerOwsKAgWBgkDBSTpYUBAoCBS89gkWFAQKAgWB\n",
       "gvdiwYKCQEGgIFBwkg4WFAQKAgWBgpN0sKAgUBAozPFyfmVBQaAgUBAouJsPFhQECgIFgYK7+WBB\n",
       "QaAgUBAoOEkHCwoCBYGCf+EXLCgIFAQKAgX/4zBYUBAoCBQECr68ECwoCBQECgIFv/4SLCgIFAQK\n",
       "ftwkWFAQKAgUBAreiwULCgIFgYJAwReoggUFgYJAQaDgTxGCBQWBgkDBQTFYUBAoCBQECr5AFSwo\n",
       "CBQECgIFX6AKFhQECgIFgYKTdLCgIFAQKPgCVbCgIFAQKAgU/LBAsKAgUBAoCBTczQcLCgIFgYJA\n",
       "wXuxYEFBoCBQcFAMFhQECgIFgYKDYrCgIFAQKAgUnKSDBQWBgkBBoOAiHSwoCBQECu7mgwUFgYJA\n",
       "QaDgoBgsKAgUBAoCBSfpYEFBoCBQECg4SQcLCgIFgYIfFggWFAQKAgWBgh/cDhYUBAoCBYGCu/lg\n",
       "QUGgIFAQKMx9XKU3FhQECgIFB8VgQUGgIFAQKHgvFiwoCBQECgIF78WCBQWBgkDB3XywoCBQECgI\n",
       "FLz2CRYUBAoCBYGCk3SwoCBQECgIFPywQLCgIFAQKMzxcn5lQUGgIFAQKHg3HywoCBQECgKFuU7S\n",
       "KwsKAgWBgkDBSTpYUBAoCBQ8cg0WFAQKAgWBgnfzwYKCQEGgIFCY408RVhYUBAoCBYGCxx3BgoJA\n",
       "QaDgb1aDBQWBgkBBoODdfLCgIFAQKAgUPHINFhQECgIFgYLHHcGCgkBBoDDncT+/saAgUBAoCBTc\n",
       "zQcLCgIFgYJAwUU6WFAQKAgUBAoeuQYLCgIFgYJHrsGCgkBBoCBQmPNzUNxYUBAoCBQECk7SwYKC\n",
       "QEGgIFCY6yK9sqAgUBAoOCgGCwoCBYGCQGHOz0V6Y0FBoCBQECg4SQcLCgIFgYJAwSPXYEFBoCBQ\n",
       "cFAMFhQECgIFgYKLdLCgIFAQKAgUvBcLFhQECgIFgcLc58/bn+HTLCgIFAQK7uaDBQWBgkBBoODd\n",
       "fLCgIFAQKAgU5lx38xsLCgIFgYJAwUk6WFAQKAgU5njts7KgIFAQKAgUHBSDBQWBgkBBoOAkHSwo\n",
       "CBQECgKFuddJemNBQaAgUHA3HywoCBQECgIFX6AKFhQECgIFgYKTdLCgIFAQKAgU5jpJrywoCBQE\n",
       "Cg6KwYKCQEGgIFCY4938yoKCQEGgIFDwM4HBgoJAQaAgUPAt12BBQaAgUPDINVhQECgIFAQKDorB\n",
       "goJAQaAgUHCRDhYUBAoCBYGC92LBgoJAQaDgoBgsKAgUBAoChXm8F1tZUBAoCBQECk7SwYKCQEGg\n",
       "IFDwDbNgQUGgIFCYx0FxZUFBoCBQECh4Nx8sKAgUBAoCBe/FggUFgYJAQaDgcUewoCBQECjMfe7b\n",
       "n+HTLCgIFAQKAgV388GCgkBBoCBQmMdJemVBQaAgUPgPFqPsjX8fAIUAAAAASUVORK5CYII=\n",
       "\" transform=\"translate(2161, 197)\"/>\n",
       "</g>\n",
       "<path clip-path=\"url(#clip580)\" d=\"M2280.7 1202.81 Q2277.09 1202.81 2275.26 1206.38 Q2273.45 1209.92 2273.45 1217.05 Q2273.45 1224.15 2275.26 1227.72 Q2277.09 1231.26 2280.7 1231.26 Q2284.33 1231.26 2286.14 1227.72 Q2287.97 1224.15 2287.97 1217.05 Q2287.97 1209.92 2286.14 1206.38 Q2284.33 1202.81 2280.7 1202.81 M2280.7 1199.11 Q2286.51 1199.11 2289.57 1203.71 Q2292.64 1208.3 2292.64 1217.05 Q2292.64 1225.77 2289.57 1230.38 Q2286.51 1234.96 2280.7 1234.96 Q2274.89 1234.96 2271.81 1230.38 Q2268.76 1225.77 2268.76 1217.05 Q2268.76 1208.3 2271.81 1203.71 Q2274.89 1199.11 2280.7 1199.11 Z\" fill=\"#000000\" fill-rule=\"nonzero\" fill-opacity=\"1\" /><path clip-path=\"url(#clip580)\" d=\"M2300.86 1228.41 L2305.75 1228.41 L2305.75 1234.29 L2300.86 1234.29 L2300.86 1228.41 Z\" fill=\"#000000\" fill-rule=\"nonzero\" fill-opacity=\"1\" /><path clip-path=\"url(#clip580)\" d=\"M2325.93 1202.81 Q2322.32 1202.81 2320.49 1206.38 Q2318.69 1209.92 2318.69 1217.05 Q2318.69 1224.15 2320.49 1227.72 Q2322.32 1231.26 2325.93 1231.26 Q2329.57 1231.26 2331.37 1227.72 Q2333.2 1224.15 2333.2 1217.05 Q2333.2 1209.92 2331.37 1206.38 Q2329.57 1202.81 2325.93 1202.81 M2325.93 1199.11 Q2331.74 1199.11 2334.8 1203.71 Q2337.88 1208.3 2337.88 1217.05 Q2337.88 1225.77 2334.8 1230.38 Q2331.74 1234.96 2325.93 1234.96 Q2320.12 1234.96 2317.04 1230.38 Q2313.99 1225.77 2313.99 1217.05 Q2313.99 1208.3 2317.04 1203.71 Q2320.12 1199.11 2325.93 1199.11 Z\" fill=\"#000000\" fill-rule=\"nonzero\" fill-opacity=\"1\" /><path clip-path=\"url(#clip580)\" d=\"M2346.9 1230.36 L2354.54 1230.36 L2354.54 1203.99 L2346.23 1205.66 L2346.23 1201.4 L2354.5 1199.73 L2359.17 1199.73 L2359.17 1230.36 L2366.81 1230.36 L2366.81 1234.29 L2346.9 1234.29 L2346.9 1230.36 Z\" fill=\"#000000\" fill-rule=\"nonzero\" fill-opacity=\"1\" /><path clip-path=\"url(#clip580)\" d=\"M2280.7 1010.88 Q2277.09 1010.88 2275.26 1014.45 Q2273.45 1017.99 2273.45 1025.12 Q2273.45 1032.22 2275.26 1035.79 Q2277.09 1039.33 2280.7 1039.33 Q2284.33 1039.33 2286.14 1035.79 Q2287.97 1032.22 2287.97 1025.12 Q2287.97 1017.99 2286.14 1014.45 Q2284.33 1010.88 2280.7 1010.88 M2280.7 1007.18 Q2286.51 1007.18 2289.57 1011.78 Q2292.64 1016.37 2292.64 1025.12 Q2292.64 1033.84 2289.57 1038.45 Q2286.51 1043.03 2280.7 1043.03 Q2274.89 1043.03 2271.81 1038.45 Q2268.76 1033.84 2268.76 1025.12 Q2268.76 1016.37 2271.81 1011.78 Q2274.89 1007.18 2280.7 1007.18 Z\" fill=\"#000000\" fill-rule=\"nonzero\" fill-opacity=\"1\" /><path clip-path=\"url(#clip580)\" d=\"M2300.86 1036.48 L2305.75 1036.48 L2305.75 1042.36 L2300.86 1042.36 L2300.86 1036.48 Z\" fill=\"#000000\" fill-rule=\"nonzero\" fill-opacity=\"1\" /><path clip-path=\"url(#clip580)\" d=\"M2325.93 1010.88 Q2322.32 1010.88 2320.49 1014.45 Q2318.69 1017.99 2318.69 1025.12 Q2318.69 1032.22 2320.49 1035.79 Q2322.32 1039.33 2325.93 1039.33 Q2329.57 1039.33 2331.37 1035.79 Q2333.2 1032.22 2333.2 1025.12 Q2333.2 1017.99 2331.37 1014.45 Q2329.57 1010.88 2325.93 1010.88 M2325.93 1007.18 Q2331.74 1007.18 2334.8 1011.78 Q2337.88 1016.37 2337.88 1025.12 Q2337.88 1033.84 2334.8 1038.45 Q2331.74 1043.03 2325.93 1043.03 Q2320.12 1043.03 2317.04 1038.45 Q2313.99 1033.84 2313.99 1025.12 Q2313.99 1016.37 2317.04 1011.78 Q2320.12 1007.18 2325.93 1007.18 Z\" fill=\"#000000\" fill-rule=\"nonzero\" fill-opacity=\"1\" /><path clip-path=\"url(#clip580)\" d=\"M2350.12 1038.43 L2366.44 1038.43 L2366.44 1042.36 L2344.5 1042.36 L2344.5 1038.43 Q2347.16 1035.67 2351.74 1031.04 Q2356.35 1026.39 2357.53 1025.05 Q2359.77 1022.52 2360.65 1020.79 Q2361.56 1019.03 2361.56 1017.34 Q2361.56 1014.58 2359.61 1012.85 Q2357.69 1011.11 2354.59 1011.11 Q2352.39 1011.11 2349.94 1011.88 Q2347.51 1012.64 2344.73 1014.19 L2344.73 1009.47 Q2347.55 1008.33 2350.01 1007.76 Q2352.46 1007.18 2354.5 1007.18 Q2359.87 1007.18 2363.06 1009.86 Q2366.26 1012.55 2366.26 1017.04 Q2366.26 1019.17 2365.45 1021.09 Q2364.66 1022.99 2362.55 1025.58 Q2361.97 1026.25 2358.87 1029.47 Q2355.77 1032.66 2350.12 1038.43 Z\" fill=\"#000000\" fill-rule=\"nonzero\" fill-opacity=\"1\" /><path clip-path=\"url(#clip580)\" d=\"M2280.7 818.95 Q2277.09 818.95 2275.26 822.514 Q2273.45 826.056 2273.45 833.186 Q2273.45 840.292 2275.26 843.857 Q2277.09 847.398 2280.7 847.398 Q2284.33 847.398 2286.14 843.857 Q2287.97 840.292 2287.97 833.186 Q2287.97 826.056 2286.14 822.514 Q2284.33 818.95 2280.7 818.95 M2280.7 815.246 Q2286.51 815.246 2289.57 819.852 Q2292.64 824.436 2292.64 833.186 Q2292.64 841.912 2289.57 846.519 Q2286.51 851.102 2280.7 851.102 Q2274.89 851.102 2271.81 846.519 Q2268.76 841.912 2268.76 833.186 Q2268.76 824.436 2271.81 819.852 Q2274.89 815.246 2280.7 815.246 Z\" fill=\"#000000\" fill-rule=\"nonzero\" fill-opacity=\"1\" /><path clip-path=\"url(#clip580)\" d=\"M2300.86 844.551 L2305.75 844.551 L2305.75 850.431 L2300.86 850.431 L2300.86 844.551 Z\" fill=\"#000000\" fill-rule=\"nonzero\" fill-opacity=\"1\" /><path clip-path=\"url(#clip580)\" d=\"M2325.93 818.95 Q2322.32 818.95 2320.49 822.514 Q2318.69 826.056 2318.69 833.186 Q2318.69 840.292 2320.49 843.857 Q2322.32 847.398 2325.93 847.398 Q2329.57 847.398 2331.37 843.857 Q2333.2 840.292 2333.2 833.186 Q2333.2 826.056 2331.37 822.514 Q2329.57 818.95 2325.93 818.95 M2325.93 815.246 Q2331.74 815.246 2334.8 819.852 Q2337.88 824.436 2337.88 833.186 Q2337.88 841.912 2334.8 846.519 Q2331.74 851.102 2325.93 851.102 Q2320.12 851.102 2317.04 846.519 Q2313.99 841.912 2313.99 833.186 Q2313.99 824.436 2317.04 819.852 Q2320.12 815.246 2325.93 815.246 Z\" fill=\"#000000\" fill-rule=\"nonzero\" fill-opacity=\"1\" /><path clip-path=\"url(#clip580)\" d=\"M2360.26 831.797 Q2363.62 832.514 2365.49 834.783 Q2367.39 837.051 2367.39 840.385 Q2367.39 845.5 2363.87 848.301 Q2360.35 851.102 2353.87 851.102 Q2351.7 851.102 2349.38 850.662 Q2347.09 850.246 2344.64 849.389 L2344.64 844.875 Q2346.58 846.01 2348.89 846.588 Q2351.21 847.167 2353.73 847.167 Q2358.13 847.167 2360.42 845.431 Q2362.74 843.695 2362.74 840.385 Q2362.74 837.329 2360.58 835.616 Q2358.45 833.88 2354.64 833.88 L2350.61 833.88 L2350.61 830.037 L2354.82 830.037 Q2358.27 830.037 2360.1 828.672 Q2361.93 827.283 2361.93 824.69 Q2361.93 822.028 2360.03 820.616 Q2358.15 819.181 2354.64 819.181 Q2352.71 819.181 2350.51 819.598 Q2348.32 820.014 2345.68 820.894 L2345.68 816.727 Q2348.34 815.987 2350.65 815.616 Q2352.99 815.246 2355.05 815.246 Q2360.38 815.246 2363.48 817.676 Q2366.58 820.084 2366.58 824.204 Q2366.58 827.074 2364.94 829.065 Q2363.29 831.033 2360.26 831.797 Z\" fill=\"#000000\" fill-rule=\"nonzero\" fill-opacity=\"1\" /><path clip-path=\"url(#clip580)\" d=\"M2280.7 627.019 Q2277.09 627.019 2275.26 630.583 Q2273.45 634.125 2273.45 641.255 Q2273.45 648.361 2275.26 651.926 Q2277.09 655.468 2280.7 655.468 Q2284.33 655.468 2286.14 651.926 Q2287.97 648.361 2287.97 641.255 Q2287.97 634.125 2286.14 630.583 Q2284.33 627.019 2280.7 627.019 M2280.7 623.315 Q2286.51 623.315 2289.57 627.921 Q2292.64 632.505 2292.64 641.255 Q2292.64 649.982 2289.57 654.588 Q2286.51 659.171 2280.7 659.171 Q2274.89 659.171 2271.81 654.588 Q2268.76 649.982 2268.76 641.255 Q2268.76 632.505 2271.81 627.921 Q2274.89 623.315 2280.7 623.315 Z\" fill=\"#000000\" fill-rule=\"nonzero\" fill-opacity=\"1\" /><path clip-path=\"url(#clip580)\" d=\"M2300.86 652.62 L2305.75 652.62 L2305.75 658.5 L2300.86 658.5 L2300.86 652.62 Z\" fill=\"#000000\" fill-rule=\"nonzero\" fill-opacity=\"1\" /><path clip-path=\"url(#clip580)\" d=\"M2325.93 627.019 Q2322.32 627.019 2320.49 630.583 Q2318.69 634.125 2318.69 641.255 Q2318.69 648.361 2320.49 651.926 Q2322.32 655.468 2325.93 655.468 Q2329.57 655.468 2331.37 651.926 Q2333.2 648.361 2333.2 641.255 Q2333.2 634.125 2331.37 630.583 Q2329.57 627.019 2325.93 627.019 M2325.93 623.315 Q2331.74 623.315 2334.8 627.921 Q2337.88 632.505 2337.88 641.255 Q2337.88 649.982 2334.8 654.588 Q2331.74 659.171 2325.93 659.171 Q2320.12 659.171 2317.04 654.588 Q2313.99 649.982 2313.99 641.255 Q2313.99 632.505 2317.04 627.921 Q2320.12 623.315 2325.93 623.315 Z\" fill=\"#000000\" fill-rule=\"nonzero\" fill-opacity=\"1\" /><path clip-path=\"url(#clip580)\" d=\"M2358.94 628.014 L2347.14 646.463 L2358.94 646.463 L2358.94 628.014 M2357.71 623.94 L2363.59 623.94 L2363.59 646.463 L2368.52 646.463 L2368.52 650.352 L2363.59 650.352 L2363.59 658.5 L2358.94 658.5 L2358.94 650.352 L2343.34 650.352 L2343.34 645.838 L2357.71 623.94 Z\" fill=\"#000000\" fill-rule=\"nonzero\" fill-opacity=\"1\" /><path clip-path=\"url(#clip580)\" d=\"M2280.7 435.088 Q2277.09 435.088 2275.26 438.653 Q2273.45 442.194 2273.45 449.324 Q2273.45 456.43 2275.26 459.995 Q2277.09 463.537 2280.7 463.537 Q2284.33 463.537 2286.14 459.995 Q2287.97 456.43 2287.97 449.324 Q2287.97 442.194 2286.14 438.653 Q2284.33 435.088 2280.7 435.088 M2280.7 431.384 Q2286.51 431.384 2289.57 435.991 Q2292.64 440.574 2292.64 449.324 Q2292.64 458.051 2289.57 462.657 Q2286.51 467.24 2280.7 467.24 Q2274.89 467.24 2271.81 462.657 Q2268.76 458.051 2268.76 449.324 Q2268.76 440.574 2271.81 435.991 Q2274.89 431.384 2280.7 431.384 Z\" fill=\"#000000\" fill-rule=\"nonzero\" fill-opacity=\"1\" /><path clip-path=\"url(#clip580)\" d=\"M2300.86 460.69 L2305.75 460.69 L2305.75 466.569 L2300.86 466.569 L2300.86 460.69 Z\" fill=\"#000000\" fill-rule=\"nonzero\" fill-opacity=\"1\" /><path clip-path=\"url(#clip580)\" d=\"M2325.93 435.088 Q2322.32 435.088 2320.49 438.653 Q2318.69 442.194 2318.69 449.324 Q2318.69 456.43 2320.49 459.995 Q2322.32 463.537 2325.93 463.537 Q2329.57 463.537 2331.37 459.995 Q2333.2 456.43 2333.2 449.324 Q2333.2 442.194 2331.37 438.653 Q2329.57 435.088 2325.93 435.088 M2325.93 431.384 Q2331.74 431.384 2334.8 435.991 Q2337.88 440.574 2337.88 449.324 Q2337.88 458.051 2334.8 462.657 Q2331.74 467.24 2325.93 467.24 Q2320.12 467.24 2317.04 462.657 Q2313.99 458.051 2313.99 449.324 Q2313.99 440.574 2317.04 435.991 Q2320.12 431.384 2325.93 431.384 Z\" fill=\"#000000\" fill-rule=\"nonzero\" fill-opacity=\"1\" /><path clip-path=\"url(#clip580)\" d=\"M2346.14 432.009 L2364.5 432.009 L2364.5 435.944 L2350.42 435.944 L2350.42 444.416 Q2351.44 444.069 2352.46 443.907 Q2353.48 443.722 2354.5 443.722 Q2360.28 443.722 2363.66 446.893 Q2367.04 450.065 2367.04 455.481 Q2367.04 461.06 2363.57 464.162 Q2360.1 467.24 2353.78 467.24 Q2351.6 467.24 2349.33 466.87 Q2347.09 466.5 2344.68 465.759 L2344.68 461.06 Q2346.76 462.194 2348.99 462.75 Q2351.21 463.305 2353.69 463.305 Q2357.69 463.305 2360.03 461.199 Q2362.37 459.092 2362.37 455.481 Q2362.37 451.87 2360.03 449.764 Q2357.69 447.657 2353.69 447.657 Q2351.81 447.657 2349.94 448.074 Q2348.08 448.491 2346.14 449.37 L2346.14 432.009 Z\" fill=\"#000000\" fill-rule=\"nonzero\" fill-opacity=\"1\" /><path clip-path=\"url(#clip580)\" d=\"M2280.7 243.157 Q2277.09 243.157 2275.26 246.722 Q2273.45 250.263 2273.45 257.393 Q2273.45 264.499 2275.26 268.064 Q2277.09 271.606 2280.7 271.606 Q2284.33 271.606 2286.14 268.064 Q2287.97 264.499 2287.97 257.393 Q2287.97 250.263 2286.14 246.722 Q2284.33 243.157 2280.7 243.157 M2280.7 239.453 Q2286.51 239.453 2289.57 244.06 Q2292.64 248.643 2292.64 257.393 Q2292.64 266.12 2289.57 270.726 Q2286.51 275.31 2280.7 275.31 Q2274.89 275.31 2271.81 270.726 Q2268.76 266.12 2268.76 257.393 Q2268.76 248.643 2271.81 244.06 Q2274.89 239.453 2280.7 239.453 Z\" fill=\"#000000\" fill-rule=\"nonzero\" fill-opacity=\"1\" /><path clip-path=\"url(#clip580)\" d=\"M2300.86 268.759 L2305.75 268.759 L2305.75 274.638 L2300.86 274.638 L2300.86 268.759 Z\" fill=\"#000000\" fill-rule=\"nonzero\" fill-opacity=\"1\" /><path clip-path=\"url(#clip580)\" d=\"M2325.93 243.157 Q2322.32 243.157 2320.49 246.722 Q2318.69 250.263 2318.69 257.393 Q2318.69 264.499 2320.49 268.064 Q2322.32 271.606 2325.93 271.606 Q2329.57 271.606 2331.37 268.064 Q2333.2 264.499 2333.2 257.393 Q2333.2 250.263 2331.37 246.722 Q2329.57 243.157 2325.93 243.157 M2325.93 239.453 Q2331.74 239.453 2334.8 244.06 Q2337.88 248.643 2337.88 257.393 Q2337.88 266.12 2334.8 270.726 Q2331.74 275.31 2325.93 275.31 Q2320.12 275.31 2317.04 270.726 Q2313.99 266.12 2313.99 257.393 Q2313.99 248.643 2317.04 244.06 Q2320.12 239.453 2325.93 239.453 Z\" fill=\"#000000\" fill-rule=\"nonzero\" fill-opacity=\"1\" /><path clip-path=\"url(#clip580)\" d=\"M2356.67 255.495 Q2353.52 255.495 2351.67 257.648 Q2349.84 259.8 2349.84 263.55 Q2349.84 267.277 2351.67 269.453 Q2353.52 271.606 2356.67 271.606 Q2359.82 271.606 2361.65 269.453 Q2363.5 267.277 2363.5 263.55 Q2363.5 259.8 2361.65 257.648 Q2359.82 255.495 2356.67 255.495 M2365.95 240.842 L2365.95 245.101 Q2364.2 244.268 2362.39 243.828 Q2360.61 243.388 2358.85 243.388 Q2354.22 243.388 2351.76 246.513 Q2349.33 249.638 2348.99 255.958 Q2350.35 253.944 2352.41 252.879 Q2354.47 251.791 2356.95 251.791 Q2362.16 251.791 2365.17 254.962 Q2368.2 258.111 2368.2 263.55 Q2368.2 268.874 2365.05 272.092 Q2361.9 275.31 2356.67 275.31 Q2350.68 275.31 2347.51 270.726 Q2344.33 266.12 2344.33 257.393 Q2344.33 249.199 2348.22 244.338 Q2352.11 239.453 2358.66 239.453 Q2360.42 239.453 2362.2 239.801 Q2364.01 240.148 2365.95 240.842 Z\" fill=\"#000000\" fill-rule=\"nonzero\" fill-opacity=\"1\" /><polyline clip-path=\"url(#clip580)\" style=\"stroke:#000000; stroke-linecap:round; stroke-linejoin:round; stroke-width:4; stroke-opacity:1; fill:none\" points=\"2232.76,1412.57 2232.76,1220.64 2256.76,1220.64 2232.76,1220.64 2232.76,1028.71 2256.76,1028.71 2232.76,1028.71 2232.76,836.78 2256.76,836.78 2232.76,836.78 2232.76,644.849 2256.76,644.849 2232.76,644.849 2232.76,452.918 2256.76,452.918 2232.76,452.918 2232.76,260.987 2256.76,260.987 2232.76,260.987 2232.76,197.353 \"/>\n",
       "<g clip-path=\"url(#clip580)\">\n",
       "<text style=\"fill:#008000; fill-opacity:1; font-family:Courier,Courier New,Lucida Sans Typewriter,Lucida Typewriter,monospace; font-size:74px; text-anchor:middle;\" transform=\"rotate(0, 724.608, 1342.35)\" x=\"724.608\" y=\"1342.35\">1</text>\n",
       "</g>\n",
       "<g clip-path=\"url(#clip580)\">\n",
       "<text style=\"fill:#008000; fill-opacity:1; font-family:Courier,Courier New,Lucida Sans Typewriter,Lucida Typewriter,monospace; font-size:74px; text-anchor:middle;\" transform=\"rotate(0, 724.608, 1227.71)\" x=\"724.608\" y=\"1227.71\">2</text>\n",
       "</g>\n",
       "<g clip-path=\"url(#clip580)\">\n",
       "<text style=\"fill:#008000; fill-opacity:1; font-family:Courier,Courier New,Lucida Sans Typewriter,Lucida Typewriter,monospace; font-size:74px; text-anchor:middle;\" transform=\"rotate(0, 724.608, 1113.07)\" x=\"724.608\" y=\"1113.07\">3</text>\n",
       "</g>\n",
       "<g clip-path=\"url(#clip580)\">\n",
       "<text style=\"fill:#008000; fill-opacity:1; font-family:Courier,Courier New,Lucida Sans Typewriter,Lucida Typewriter,monospace; font-size:74px; text-anchor:middle;\" transform=\"rotate(0, 724.608, 998.424)\" x=\"724.608\" y=\"998.424\">4</text>\n",
       "</g>\n",
       "<g clip-path=\"url(#clip580)\">\n",
       "<text style=\"fill:#008000; fill-opacity:1; font-family:Courier,Courier New,Lucida Sans Typewriter,Lucida Typewriter,monospace; font-size:74px; text-anchor:middle;\" transform=\"rotate(0, 724.608, 883.781)\" x=\"724.608\" y=\"883.781\">5</text>\n",
       "</g>\n",
       "<g clip-path=\"url(#clip580)\">\n",
       "<text style=\"fill:#008000; fill-opacity:1; font-family:Courier,Courier New,Lucida Sans Typewriter,Lucida Typewriter,monospace; font-size:74px; text-anchor:middle;\" transform=\"rotate(0, 724.608, 769.139)\" x=\"724.608\" y=\"769.139\">6</text>\n",
       "</g>\n",
       "<g clip-path=\"url(#clip580)\">\n",
       "<text style=\"fill:#008000; fill-opacity:1; font-family:Courier,Courier New,Lucida Sans Typewriter,Lucida Typewriter,monospace; font-size:74px; text-anchor:middle;\" transform=\"rotate(0, 724.608, 654.496)\" x=\"724.608\" y=\"654.496\">7</text>\n",
       "</g>\n",
       "<g clip-path=\"url(#clip580)\">\n",
       "<text style=\"fill:#008000; fill-opacity:1; font-family:Courier,Courier New,Lucida Sans Typewriter,Lucida Typewriter,monospace; font-size:74px; text-anchor:middle;\" transform=\"rotate(0, 724.608, 539.853)\" x=\"724.608\" y=\"539.853\">8</text>\n",
       "</g>\n",
       "<g clip-path=\"url(#clip580)\">\n",
       "<text style=\"fill:#008000; fill-opacity:1; font-family:Courier,Courier New,Lucida Sans Typewriter,Lucida Typewriter,monospace; font-size:74px; text-anchor:middle;\" transform=\"rotate(0, 724.608, 425.21)\" x=\"724.608\" y=\"425.21\">9</text>\n",
       "</g>\n",
       "<g clip-path=\"url(#clip580)\">\n",
       "<text style=\"fill:#008000; fill-opacity:1; font-family:Courier,Courier New,Lucida Sans Typewriter,Lucida Typewriter,monospace; font-size:74px; text-anchor:middle;\" transform=\"rotate(0, 724.608, 310.567)\" x=\"724.608\" y=\"310.567\">10</text>\n",
       "</g>\n",
       "<g clip-path=\"url(#clip580)\">\n",
       "<text style=\"fill:#008000; fill-opacity:1; font-family:Courier,Courier New,Lucida Sans Typewriter,Lucida Typewriter,monospace; font-size:74px; text-anchor:middle;\" transform=\"rotate(0, 839.251, 1342.35)\" x=\"839.251\" y=\"1342.35\">11</text>\n",
       "</g>\n",
       "<g clip-path=\"url(#clip580)\">\n",
       "<text style=\"fill:#008000; fill-opacity:1; font-family:Courier,Courier New,Lucida Sans Typewriter,Lucida Typewriter,monospace; font-size:74px; text-anchor:middle;\" transform=\"rotate(0, 839.251, 1227.71)\" x=\"839.251\" y=\"1227.71\">12</text>\n",
       "</g>\n",
       "<g clip-path=\"url(#clip580)\">\n",
       "<text style=\"fill:#008000; fill-opacity:1; font-family:Courier,Courier New,Lucida Sans Typewriter,Lucida Typewriter,monospace; font-size:74px; text-anchor:middle;\" transform=\"rotate(0, 839.251, 1113.07)\" x=\"839.251\" y=\"1113.07\">13</text>\n",
       "</g>\n",
       "<g clip-path=\"url(#clip580)\">\n",
       "<text style=\"fill:#008000; fill-opacity:1; font-family:Courier,Courier New,Lucida Sans Typewriter,Lucida Typewriter,monospace; font-size:74px; text-anchor:middle;\" transform=\"rotate(0, 839.251, 998.424)\" x=\"839.251\" y=\"998.424\">14</text>\n",
       "</g>\n",
       "<g clip-path=\"url(#clip580)\">\n",
       "<text style=\"fill:#008000; fill-opacity:1; font-family:Courier,Courier New,Lucida Sans Typewriter,Lucida Typewriter,monospace; font-size:74px; text-anchor:middle;\" transform=\"rotate(0, 839.251, 883.781)\" x=\"839.251\" y=\"883.781\">15</text>\n",
       "</g>\n",
       "<g clip-path=\"url(#clip580)\">\n",
       "<text style=\"fill:#008000; fill-opacity:1; font-family:Courier,Courier New,Lucida Sans Typewriter,Lucida Typewriter,monospace; font-size:74px; text-anchor:middle;\" transform=\"rotate(0, 839.251, 769.139)\" x=\"839.251\" y=\"769.139\">16</text>\n",
       "</g>\n",
       "<g clip-path=\"url(#clip580)\">\n",
       "<text style=\"fill:#008000; fill-opacity:1; font-family:Courier,Courier New,Lucida Sans Typewriter,Lucida Typewriter,monospace; font-size:74px; text-anchor:middle;\" transform=\"rotate(0, 839.251, 654.496)\" x=\"839.251\" y=\"654.496\">17</text>\n",
       "</g>\n",
       "<g clip-path=\"url(#clip580)\">\n",
       "<text style=\"fill:#008000; fill-opacity:1; font-family:Courier,Courier New,Lucida Sans Typewriter,Lucida Typewriter,monospace; font-size:74px; text-anchor:middle;\" transform=\"rotate(0, 839.251, 539.853)\" x=\"839.251\" y=\"539.853\">18</text>\n",
       "</g>\n",
       "<g clip-path=\"url(#clip580)\">\n",
       "<text style=\"fill:#008000; fill-opacity:1; font-family:Courier,Courier New,Lucida Sans Typewriter,Lucida Typewriter,monospace; font-size:74px; text-anchor:middle;\" transform=\"rotate(0, 839.251, 425.21)\" x=\"839.251\" y=\"425.21\">19</text>\n",
       "</g>\n",
       "<g clip-path=\"url(#clip580)\">\n",
       "<text style=\"fill:#008000; fill-opacity:1; font-family:Courier,Courier New,Lucida Sans Typewriter,Lucida Typewriter,monospace; font-size:74px; text-anchor:middle;\" transform=\"rotate(0, 839.251, 310.567)\" x=\"839.251\" y=\"310.567\">20</text>\n",
       "</g>\n",
       "<g clip-path=\"url(#clip580)\">\n",
       "<text style=\"fill:#008000; fill-opacity:1; font-family:Courier,Courier New,Lucida Sans Typewriter,Lucida Typewriter,monospace; font-size:74px; text-anchor:middle;\" transform=\"rotate(0, 953.893, 1342.35)\" x=\"953.893\" y=\"1342.35\">21</text>\n",
       "</g>\n",
       "<g clip-path=\"url(#clip580)\">\n",
       "<text style=\"fill:#008000; fill-opacity:1; font-family:Courier,Courier New,Lucida Sans Typewriter,Lucida Typewriter,monospace; font-size:74px; text-anchor:middle;\" transform=\"rotate(0, 953.893, 1227.71)\" x=\"953.893\" y=\"1227.71\">22</text>\n",
       "</g>\n",
       "<g clip-path=\"url(#clip580)\">\n",
       "<text style=\"fill:#008000; fill-opacity:1; font-family:Courier,Courier New,Lucida Sans Typewriter,Lucida Typewriter,monospace; font-size:74px; text-anchor:middle;\" transform=\"rotate(0, 953.893, 1113.07)\" x=\"953.893\" y=\"1113.07\">23</text>\n",
       "</g>\n",
       "<g clip-path=\"url(#clip580)\">\n",
       "<text style=\"fill:#008000; fill-opacity:1; font-family:Courier,Courier New,Lucida Sans Typewriter,Lucida Typewriter,monospace; font-size:74px; text-anchor:middle;\" transform=\"rotate(0, 953.893, 998.424)\" x=\"953.893\" y=\"998.424\">24</text>\n",
       "</g>\n",
       "<g clip-path=\"url(#clip580)\">\n",
       "<text style=\"fill:#008000; fill-opacity:1; font-family:Courier,Courier New,Lucida Sans Typewriter,Lucida Typewriter,monospace; font-size:74px; text-anchor:middle;\" transform=\"rotate(0, 953.893, 883.781)\" x=\"953.893\" y=\"883.781\">25</text>\n",
       "</g>\n",
       "<g clip-path=\"url(#clip580)\">\n",
       "<text style=\"fill:#008000; fill-opacity:1; font-family:Courier,Courier New,Lucida Sans Typewriter,Lucida Typewriter,monospace; font-size:74px; text-anchor:middle;\" transform=\"rotate(0, 953.893, 769.139)\" x=\"953.893\" y=\"769.139\">26</text>\n",
       "</g>\n",
       "<g clip-path=\"url(#clip580)\">\n",
       "<text style=\"fill:#008000; fill-opacity:1; font-family:Courier,Courier New,Lucida Sans Typewriter,Lucida Typewriter,monospace; font-size:74px; text-anchor:middle;\" transform=\"rotate(0, 953.893, 654.496)\" x=\"953.893\" y=\"654.496\">27</text>\n",
       "</g>\n",
       "<g clip-path=\"url(#clip580)\">\n",
       "<text style=\"fill:#008000; fill-opacity:1; font-family:Courier,Courier New,Lucida Sans Typewriter,Lucida Typewriter,monospace; font-size:74px; text-anchor:middle;\" transform=\"rotate(0, 953.893, 539.853)\" x=\"953.893\" y=\"539.853\">28</text>\n",
       "</g>\n",
       "<g clip-path=\"url(#clip580)\">\n",
       "<text style=\"fill:#008000; fill-opacity:1; font-family:Courier,Courier New,Lucida Sans Typewriter,Lucida Typewriter,monospace; font-size:74px; text-anchor:middle;\" transform=\"rotate(0, 953.893, 425.21)\" x=\"953.893\" y=\"425.21\">29</text>\n",
       "</g>\n",
       "<g clip-path=\"url(#clip580)\">\n",
       "<text style=\"fill:#008000; fill-opacity:1; font-family:Courier,Courier New,Lucida Sans Typewriter,Lucida Typewriter,monospace; font-size:74px; text-anchor:middle;\" transform=\"rotate(0, 953.893, 310.567)\" x=\"953.893\" y=\"310.567\">30</text>\n",
       "</g>\n",
       "<g clip-path=\"url(#clip580)\">\n",
       "<text style=\"fill:#008000; fill-opacity:1; font-family:Courier,Courier New,Lucida Sans Typewriter,Lucida Typewriter,monospace; font-size:74px; text-anchor:middle;\" transform=\"rotate(0, 1068.54, 1342.35)\" x=\"1068.54\" y=\"1342.35\">31</text>\n",
       "</g>\n",
       "<g clip-path=\"url(#clip580)\">\n",
       "<text style=\"fill:#008000; fill-opacity:1; font-family:Courier,Courier New,Lucida Sans Typewriter,Lucida Typewriter,monospace; font-size:74px; text-anchor:middle;\" transform=\"rotate(0, 1068.54, 1227.71)\" x=\"1068.54\" y=\"1227.71\">32</text>\n",
       "</g>\n",
       "<g clip-path=\"url(#clip580)\">\n",
       "<text style=\"fill:#008000; fill-opacity:1; font-family:Courier,Courier New,Lucida Sans Typewriter,Lucida Typewriter,monospace; font-size:74px; text-anchor:middle;\" transform=\"rotate(0, 1068.54, 1113.07)\" x=\"1068.54\" y=\"1113.07\">33</text>\n",
       "</g>\n",
       "<g clip-path=\"url(#clip580)\">\n",
       "<text style=\"fill:#008000; fill-opacity:1; font-family:Courier,Courier New,Lucida Sans Typewriter,Lucida Typewriter,monospace; font-size:74px; text-anchor:middle;\" transform=\"rotate(0, 1068.54, 998.424)\" x=\"1068.54\" y=\"998.424\">34</text>\n",
       "</g>\n",
       "<g clip-path=\"url(#clip580)\">\n",
       "<text style=\"fill:#008000; fill-opacity:1; font-family:Courier,Courier New,Lucida Sans Typewriter,Lucida Typewriter,monospace; font-size:74px; text-anchor:middle;\" transform=\"rotate(0, 1068.54, 883.781)\" x=\"1068.54\" y=\"883.781\">35</text>\n",
       "</g>\n",
       "<g clip-path=\"url(#clip580)\">\n",
       "<text style=\"fill:#008000; fill-opacity:1; font-family:Courier,Courier New,Lucida Sans Typewriter,Lucida Typewriter,monospace; font-size:74px; text-anchor:middle;\" transform=\"rotate(0, 1068.54, 769.139)\" x=\"1068.54\" y=\"769.139\">36</text>\n",
       "</g>\n",
       "<g clip-path=\"url(#clip580)\">\n",
       "<text style=\"fill:#008000; fill-opacity:1; font-family:Courier,Courier New,Lucida Sans Typewriter,Lucida Typewriter,monospace; font-size:74px; text-anchor:middle;\" transform=\"rotate(0, 1068.54, 654.496)\" x=\"1068.54\" y=\"654.496\">37</text>\n",
       "</g>\n",
       "<g clip-path=\"url(#clip580)\">\n",
       "<text style=\"fill:#008000; fill-opacity:1; font-family:Courier,Courier New,Lucida Sans Typewriter,Lucida Typewriter,monospace; font-size:74px; text-anchor:middle;\" transform=\"rotate(0, 1068.54, 539.853)\" x=\"1068.54\" y=\"539.853\">38</text>\n",
       "</g>\n",
       "<g clip-path=\"url(#clip580)\">\n",
       "<text style=\"fill:#008000; fill-opacity:1; font-family:Courier,Courier New,Lucida Sans Typewriter,Lucida Typewriter,monospace; font-size:74px; text-anchor:middle;\" transform=\"rotate(0, 1068.54, 425.21)\" x=\"1068.54\" y=\"425.21\">39</text>\n",
       "</g>\n",
       "<g clip-path=\"url(#clip580)\">\n",
       "<text style=\"fill:#008000; fill-opacity:1; font-family:Courier,Courier New,Lucida Sans Typewriter,Lucida Typewriter,monospace; font-size:74px; text-anchor:middle;\" transform=\"rotate(0, 1068.54, 310.567)\" x=\"1068.54\" y=\"310.567\">40</text>\n",
       "</g>\n",
       "<g clip-path=\"url(#clip580)\">\n",
       "<text style=\"fill:#008000; fill-opacity:1; font-family:Courier,Courier New,Lucida Sans Typewriter,Lucida Typewriter,monospace; font-size:74px; text-anchor:middle;\" transform=\"rotate(0, 1183.18, 1342.35)\" x=\"1183.18\" y=\"1342.35\">41</text>\n",
       "</g>\n",
       "<g clip-path=\"url(#clip580)\">\n",
       "<text style=\"fill:#008000; fill-opacity:1; font-family:Courier,Courier New,Lucida Sans Typewriter,Lucida Typewriter,monospace; font-size:74px; text-anchor:middle;\" transform=\"rotate(0, 1183.18, 1227.71)\" x=\"1183.18\" y=\"1227.71\">42</text>\n",
       "</g>\n",
       "<g clip-path=\"url(#clip580)\">\n",
       "<text style=\"fill:#008000; fill-opacity:1; font-family:Courier,Courier New,Lucida Sans Typewriter,Lucida Typewriter,monospace; font-size:74px; text-anchor:middle;\" transform=\"rotate(0, 1183.18, 1113.07)\" x=\"1183.18\" y=\"1113.07\">43</text>\n",
       "</g>\n",
       "<g clip-path=\"url(#clip580)\">\n",
       "<text style=\"fill:#008000; fill-opacity:1; font-family:Courier,Courier New,Lucida Sans Typewriter,Lucida Typewriter,monospace; font-size:74px; text-anchor:middle;\" transform=\"rotate(0, 1183.18, 998.424)\" x=\"1183.18\" y=\"998.424\">44</text>\n",
       "</g>\n",
       "<g clip-path=\"url(#clip580)\">\n",
       "<text style=\"fill:#008000; fill-opacity:1; font-family:Courier,Courier New,Lucida Sans Typewriter,Lucida Typewriter,monospace; font-size:74px; text-anchor:middle;\" transform=\"rotate(0, 1183.18, 883.781)\" x=\"1183.18\" y=\"883.781\">45</text>\n",
       "</g>\n",
       "<g clip-path=\"url(#clip580)\">\n",
       "<text style=\"fill:#008000; fill-opacity:1; font-family:Courier,Courier New,Lucida Sans Typewriter,Lucida Typewriter,monospace; font-size:74px; text-anchor:middle;\" transform=\"rotate(0, 1183.18, 769.139)\" x=\"1183.18\" y=\"769.139\">46</text>\n",
       "</g>\n",
       "<g clip-path=\"url(#clip580)\">\n",
       "<text style=\"fill:#008000; fill-opacity:1; font-family:Courier,Courier New,Lucida Sans Typewriter,Lucida Typewriter,monospace; font-size:74px; text-anchor:middle;\" transform=\"rotate(0, 1183.18, 654.496)\" x=\"1183.18\" y=\"654.496\">47</text>\n",
       "</g>\n",
       "<g clip-path=\"url(#clip580)\">\n",
       "<text style=\"fill:#008000; fill-opacity:1; font-family:Courier,Courier New,Lucida Sans Typewriter,Lucida Typewriter,monospace; font-size:74px; text-anchor:middle;\" transform=\"rotate(0, 1183.18, 539.853)\" x=\"1183.18\" y=\"539.853\">48</text>\n",
       "</g>\n",
       "<g clip-path=\"url(#clip580)\">\n",
       "<text style=\"fill:#008000; fill-opacity:1; font-family:Courier,Courier New,Lucida Sans Typewriter,Lucida Typewriter,monospace; font-size:74px; text-anchor:middle;\" transform=\"rotate(0, 1183.18, 425.21)\" x=\"1183.18\" y=\"425.21\">49</text>\n",
       "</g>\n",
       "<g clip-path=\"url(#clip580)\">\n",
       "<text style=\"fill:#008000; fill-opacity:1; font-family:Courier,Courier New,Lucida Sans Typewriter,Lucida Typewriter,monospace; font-size:74px; text-anchor:middle;\" transform=\"rotate(0, 1183.18, 310.567)\" x=\"1183.18\" y=\"310.567\">50</text>\n",
       "</g>\n",
       "<g clip-path=\"url(#clip580)\">\n",
       "<text style=\"fill:#008000; fill-opacity:1; font-family:Courier,Courier New,Lucida Sans Typewriter,Lucida Typewriter,monospace; font-size:74px; text-anchor:middle;\" transform=\"rotate(0, 1297.82, 1342.35)\" x=\"1297.82\" y=\"1342.35\">51</text>\n",
       "</g>\n",
       "<g clip-path=\"url(#clip580)\">\n",
       "<text style=\"fill:#008000; fill-opacity:1; font-family:Courier,Courier New,Lucida Sans Typewriter,Lucida Typewriter,monospace; font-size:74px; text-anchor:middle;\" transform=\"rotate(0, 1297.82, 1227.71)\" x=\"1297.82\" y=\"1227.71\">52</text>\n",
       "</g>\n",
       "<g clip-path=\"url(#clip580)\">\n",
       "<text style=\"fill:#008000; fill-opacity:1; font-family:Courier,Courier New,Lucida Sans Typewriter,Lucida Typewriter,monospace; font-size:74px; text-anchor:middle;\" transform=\"rotate(0, 1297.82, 1113.07)\" x=\"1297.82\" y=\"1113.07\">53</text>\n",
       "</g>\n",
       "<g clip-path=\"url(#clip580)\">\n",
       "<text style=\"fill:#008000; fill-opacity:1; font-family:Courier,Courier New,Lucida Sans Typewriter,Lucida Typewriter,monospace; font-size:74px; text-anchor:middle;\" transform=\"rotate(0, 1297.82, 998.424)\" x=\"1297.82\" y=\"998.424\">54</text>\n",
       "</g>\n",
       "<g clip-path=\"url(#clip580)\">\n",
       "<text style=\"fill:#008000; fill-opacity:1; font-family:Courier,Courier New,Lucida Sans Typewriter,Lucida Typewriter,monospace; font-size:74px; text-anchor:middle;\" transform=\"rotate(0, 1297.82, 883.781)\" x=\"1297.82\" y=\"883.781\">55</text>\n",
       "</g>\n",
       "<g clip-path=\"url(#clip580)\">\n",
       "<text style=\"fill:#008000; fill-opacity:1; font-family:Courier,Courier New,Lucida Sans Typewriter,Lucida Typewriter,monospace; font-size:74px; text-anchor:middle;\" transform=\"rotate(0, 1297.82, 769.139)\" x=\"1297.82\" y=\"769.139\">56</text>\n",
       "</g>\n",
       "<g clip-path=\"url(#clip580)\">\n",
       "<text style=\"fill:#008000; fill-opacity:1; font-family:Courier,Courier New,Lucida Sans Typewriter,Lucida Typewriter,monospace; font-size:74px; text-anchor:middle;\" transform=\"rotate(0, 1297.82, 654.496)\" x=\"1297.82\" y=\"654.496\">57</text>\n",
       "</g>\n",
       "<g clip-path=\"url(#clip580)\">\n",
       "<text style=\"fill:#008000; fill-opacity:1; font-family:Courier,Courier New,Lucida Sans Typewriter,Lucida Typewriter,monospace; font-size:74px; text-anchor:middle;\" transform=\"rotate(0, 1297.82, 539.853)\" x=\"1297.82\" y=\"539.853\">58</text>\n",
       "</g>\n",
       "<g clip-path=\"url(#clip580)\">\n",
       "<text style=\"fill:#008000; fill-opacity:1; font-family:Courier,Courier New,Lucida Sans Typewriter,Lucida Typewriter,monospace; font-size:74px; text-anchor:middle;\" transform=\"rotate(0, 1297.82, 425.21)\" x=\"1297.82\" y=\"425.21\">59</text>\n",
       "</g>\n",
       "<g clip-path=\"url(#clip580)\">\n",
       "<text style=\"fill:#008000; fill-opacity:1; font-family:Courier,Courier New,Lucida Sans Typewriter,Lucida Typewriter,monospace; font-size:74px; text-anchor:middle;\" transform=\"rotate(0, 1297.82, 310.567)\" x=\"1297.82\" y=\"310.567\">60</text>\n",
       "</g>\n",
       "<g clip-path=\"url(#clip580)\">\n",
       "<text style=\"fill:#008000; fill-opacity:1; font-family:Courier,Courier New,Lucida Sans Typewriter,Lucida Typewriter,monospace; font-size:74px; text-anchor:middle;\" transform=\"rotate(0, 1412.46, 1342.35)\" x=\"1412.46\" y=\"1342.35\">61</text>\n",
       "</g>\n",
       "<g clip-path=\"url(#clip580)\">\n",
       "<text style=\"fill:#008000; fill-opacity:1; font-family:Courier,Courier New,Lucida Sans Typewriter,Lucida Typewriter,monospace; font-size:74px; text-anchor:middle;\" transform=\"rotate(0, 1412.46, 1227.71)\" x=\"1412.46\" y=\"1227.71\">62</text>\n",
       "</g>\n",
       "<g clip-path=\"url(#clip580)\">\n",
       "<text style=\"fill:#008000; fill-opacity:1; font-family:Courier,Courier New,Lucida Sans Typewriter,Lucida Typewriter,monospace; font-size:74px; text-anchor:middle;\" transform=\"rotate(0, 1412.46, 1113.07)\" x=\"1412.46\" y=\"1113.07\">63</text>\n",
       "</g>\n",
       "<g clip-path=\"url(#clip580)\">\n",
       "<text style=\"fill:#008000; fill-opacity:1; font-family:Courier,Courier New,Lucida Sans Typewriter,Lucida Typewriter,monospace; font-size:74px; text-anchor:middle;\" transform=\"rotate(0, 1412.46, 998.424)\" x=\"1412.46\" y=\"998.424\">64</text>\n",
       "</g>\n",
       "<g clip-path=\"url(#clip580)\">\n",
       "<text style=\"fill:#008000; fill-opacity:1; font-family:Courier,Courier New,Lucida Sans Typewriter,Lucida Typewriter,monospace; font-size:74px; text-anchor:middle;\" transform=\"rotate(0, 1412.46, 883.781)\" x=\"1412.46\" y=\"883.781\">65</text>\n",
       "</g>\n",
       "<g clip-path=\"url(#clip580)\">\n",
       "<text style=\"fill:#008000; fill-opacity:1; font-family:Courier,Courier New,Lucida Sans Typewriter,Lucida Typewriter,monospace; font-size:74px; text-anchor:middle;\" transform=\"rotate(0, 1412.46, 769.139)\" x=\"1412.46\" y=\"769.139\">66</text>\n",
       "</g>\n",
       "<g clip-path=\"url(#clip580)\">\n",
       "<text style=\"fill:#008000; fill-opacity:1; font-family:Courier,Courier New,Lucida Sans Typewriter,Lucida Typewriter,monospace; font-size:74px; text-anchor:middle;\" transform=\"rotate(0, 1412.46, 654.496)\" x=\"1412.46\" y=\"654.496\">67</text>\n",
       "</g>\n",
       "<g clip-path=\"url(#clip580)\">\n",
       "<text style=\"fill:#008000; fill-opacity:1; font-family:Courier,Courier New,Lucida Sans Typewriter,Lucida Typewriter,monospace; font-size:74px; text-anchor:middle;\" transform=\"rotate(0, 1412.46, 539.853)\" x=\"1412.46\" y=\"539.853\">68</text>\n",
       "</g>\n",
       "<g clip-path=\"url(#clip580)\">\n",
       "<text style=\"fill:#008000; fill-opacity:1; font-family:Courier,Courier New,Lucida Sans Typewriter,Lucida Typewriter,monospace; font-size:74px; text-anchor:middle;\" transform=\"rotate(0, 1412.46, 425.21)\" x=\"1412.46\" y=\"425.21\">69</text>\n",
       "</g>\n",
       "<g clip-path=\"url(#clip580)\">\n",
       "<text style=\"fill:#008000; fill-opacity:1; font-family:Courier,Courier New,Lucida Sans Typewriter,Lucida Typewriter,monospace; font-size:74px; text-anchor:middle;\" transform=\"rotate(0, 1412.46, 310.567)\" x=\"1412.46\" y=\"310.567\">70</text>\n",
       "</g>\n",
       "<g clip-path=\"url(#clip580)\">\n",
       "<text style=\"fill:#008000; fill-opacity:1; font-family:Courier,Courier New,Lucida Sans Typewriter,Lucida Typewriter,monospace; font-size:74px; text-anchor:middle;\" transform=\"rotate(0, 1527.11, 1342.35)\" x=\"1527.11\" y=\"1342.35\">71</text>\n",
       "</g>\n",
       "<g clip-path=\"url(#clip580)\">\n",
       "<text style=\"fill:#008000; fill-opacity:1; font-family:Courier,Courier New,Lucida Sans Typewriter,Lucida Typewriter,monospace; font-size:74px; text-anchor:middle;\" transform=\"rotate(0, 1527.11, 1227.71)\" x=\"1527.11\" y=\"1227.71\">72</text>\n",
       "</g>\n",
       "<g clip-path=\"url(#clip580)\">\n",
       "<text style=\"fill:#008000; fill-opacity:1; font-family:Courier,Courier New,Lucida Sans Typewriter,Lucida Typewriter,monospace; font-size:74px; text-anchor:middle;\" transform=\"rotate(0, 1527.11, 1113.07)\" x=\"1527.11\" y=\"1113.07\">73</text>\n",
       "</g>\n",
       "<g clip-path=\"url(#clip580)\">\n",
       "<text style=\"fill:#008000; fill-opacity:1; font-family:Courier,Courier New,Lucida Sans Typewriter,Lucida Typewriter,monospace; font-size:74px; text-anchor:middle;\" transform=\"rotate(0, 1527.11, 998.424)\" x=\"1527.11\" y=\"998.424\">74</text>\n",
       "</g>\n",
       "<g clip-path=\"url(#clip580)\">\n",
       "<text style=\"fill:#008000; fill-opacity:1; font-family:Courier,Courier New,Lucida Sans Typewriter,Lucida Typewriter,monospace; font-size:74px; text-anchor:middle;\" transform=\"rotate(0, 1527.11, 883.781)\" x=\"1527.11\" y=\"883.781\">75</text>\n",
       "</g>\n",
       "<g clip-path=\"url(#clip580)\">\n",
       "<text style=\"fill:#008000; fill-opacity:1; font-family:Courier,Courier New,Lucida Sans Typewriter,Lucida Typewriter,monospace; font-size:74px; text-anchor:middle;\" transform=\"rotate(0, 1527.11, 769.139)\" x=\"1527.11\" y=\"769.139\">76</text>\n",
       "</g>\n",
       "<g clip-path=\"url(#clip580)\">\n",
       "<text style=\"fill:#008000; fill-opacity:1; font-family:Courier,Courier New,Lucida Sans Typewriter,Lucida Typewriter,monospace; font-size:74px; text-anchor:middle;\" transform=\"rotate(0, 1527.11, 654.496)\" x=\"1527.11\" y=\"654.496\">77</text>\n",
       "</g>\n",
       "<g clip-path=\"url(#clip580)\">\n",
       "<text style=\"fill:#008000; fill-opacity:1; font-family:Courier,Courier New,Lucida Sans Typewriter,Lucida Typewriter,monospace; font-size:74px; text-anchor:middle;\" transform=\"rotate(0, 1527.11, 539.853)\" x=\"1527.11\" y=\"539.853\">78</text>\n",
       "</g>\n",
       "<g clip-path=\"url(#clip580)\">\n",
       "<text style=\"fill:#008000; fill-opacity:1; font-family:Courier,Courier New,Lucida Sans Typewriter,Lucida Typewriter,monospace; font-size:74px; text-anchor:middle;\" transform=\"rotate(0, 1527.11, 425.21)\" x=\"1527.11\" y=\"425.21\">79</text>\n",
       "</g>\n",
       "<g clip-path=\"url(#clip580)\">\n",
       "<text style=\"fill:#008000; fill-opacity:1; font-family:Courier,Courier New,Lucida Sans Typewriter,Lucida Typewriter,monospace; font-size:74px; text-anchor:middle;\" transform=\"rotate(0, 1527.11, 310.567)\" x=\"1527.11\" y=\"310.567\">80</text>\n",
       "</g>\n",
       "</svg>\n"
      ]
     },
     "execution_count": 33,
     "metadata": {},
     "output_type": "execute_result"
    }
   ],
   "source": [
    "Plots.heatmap(reshape(get_density_profiles(NM_MB_Array_Storage, r_hubbard_states, index_eig_states), Nx, Ny)|>transpose)\n",
    "\n",
    "# # koordinatları 0 yerine 1'den başlatırsak heatmap ile uyumlu olur (.+1 operasyonu)\n",
    "x_coordinates = coordinates[:,1] .+1\n",
    "y_coordinates = coordinates[:,2] .+1\n",
    "Plots.scatter!(x_coordinates, y_coordinates, label=false, aspect_ratio=1, showaxis = false, grid=false, markersize=3, c=:black, title=\"Psi=1\")\n",
    "\n",
    "for i in 1:N\n",
    "    p = annotate!(x_coordinates[i],y_coordinates[i], text(\"$i\", :Courier, 10,:green))\n",
    "end\n",
    "\n",
    "function circle_shape(h,k,r)\n",
    "    beta = reverse(LinRange(0, 2*pi, 500))\n",
    "    h .+ r*sin.(beta), k .+ r*cos.(beta)\n",
    "end\n",
    "\n",
    "# Bu örnekte imp_site=44 aslında 36.site'dır. Çünkü burada density en düşüktür.\n",
    "center_x = x_coordinates[36]; center_y = y_coordinates[36]; radius = 1+0.1\n",
    "plot!(circle_shape(center_x,center_y,radius), seriestype=[:shape], lw=0.5, c=:white, linecolor= :white, legend=false, fillalpha=0.2)\n",
    "\n",
    "p"
   ]
  },
  {
   "cell_type": "code",
   "execution_count": 45,
   "id": "4c8be9e1-3ef6-40b0-98ad-6d48603fd2f5",
   "metadata": {
    "tags": []
   },
   "outputs": [
    {
     "data": {
      "text/plain": [
       "get_inner_sites (generic function with 1 method)"
      ]
     },
     "execution_count": 45,
     "metadata": {},
     "output_type": "execute_result"
    }
   ],
   "source": [
    "function get_inner_sites(radius)\n",
    "    inner_sites = []\n",
    "    for i in 1:N\n",
    "        if (x_coordinates[i] - center_x)^2 + (y_coordinates[i] - center_y)^2 < radius^2\n",
    "            push!(inner_sites, i)\n",
    "        end\n",
    "    end\n",
    "    return inner_sites\n",
    "end"
   ]
  },
  {
   "cell_type": "markdown",
   "id": "f41f7750-364e-46bf-924c-afd0554bb287",
   "metadata": {},
   "source": [
    "# Interpolation"
   ]
  },
  {
   "cell_type": "code",
   "execution_count": 35,
   "id": "71f20b1d-0f39-4f53-9d09-46340669996b",
   "metadata": {
    "tags": []
   },
   "outputs": [
    {
     "data": {
      "image/png": "[encoded data removed]"
     },
     "execution_count": 35,
     "metadata": {},
     "output_type": "execute_result"
    }
   ],
   "source": [
    "using CairoMakie\n",
    "\n",
    "fig = Figure()\n",
    "ax = Axis(fig[1,1], title=\"Average Density (Ground Degeneracy=$(Degeneracy))\", xlabel=\"X\", ylabel=\"Y\");\n",
    "\n",
    "hm = CairoMakie.heatmap!(avg_density, interpolate=true)\n",
    "Colorbar(fig[1, 2], hm)\n",
    "\n",
    "x_coordinates = square_lattice(Nx,Ny)[2][:,1] .+ 1\n",
    "y_coordinates = square_lattice(Nx,Ny)[2][:,2] .+ 1\n",
    "CairoMakie.scatter!(x_coordinates, y_coordinates, color=:black, markersize=5)\n",
    "\n",
    "center_x = x_coordinates[imp_site]; center_y = y_coordinates[imp_site]\n",
    "CairoMakie.scatter!([center_x], [center_y], color=:red, markersize=10, marker= :star5)\n",
    "\n",
    "fig"
   ]
  },
  {
   "cell_type": "markdown",
   "id": "e6020113-9ce9-4cc8-b3a9-f21b90c05e3f",
   "metadata": {},
   "source": [
    "# $ Q_{\\rho}$"
   ]
  },
  {
   "cell_type": "markdown",
   "id": "07144b2b-cd05-49b1-a07c-8526f5cca214",
   "metadata": {},
   "source": [
    "<font size=\"3\">\n",
    "$Q_{\\rho} = \\sum_i \\left(<n_i>_{V=0}-<n_i>_{V \\neq 0} \\right)$\n",
    "</font>"
   ]
  },
  {
   "cell_type": "code",
   "execution_count": 44,
   "id": "5392d0d4-89b5-4f12-9eab-bf581fe87a2e",
   "metadata": {
    "tags": []
   },
   "outputs": [
    {
     "data": {
      "image/svg+xml": [
       "<?xml version=\"1.0\" encoding=\"utf-8\"?>\n",
       "<svg xmlns=\"http://www.w3.org/2000/svg\" xmlns:xlink=\"http://www.w3.org/1999/xlink\" width=\"600\" height=\"400\" viewBox=\"0 0 2400 1600\">\n",
       "<defs>\n",
       "  <clipPath id=\"clip700\">\n",
       "    <rect x=\"0\" y=\"0\" width=\"2400\" height=\"1600\"/>\n",
       "  </clipPath>\n",
       "</defs>\n",
       "<path clip-path=\"url(#clip700)\" d=\"M0 1600 L2400 1600 L2400 0 L0 0  Z\" fill=\"#ffffff\" fill-rule=\"evenodd\" fill-opacity=\"1\"/>\n",
       "<defs>\n",
       "  <clipPath id=\"clip701\">\n",
       "    <rect x=\"480\" y=\"0\" width=\"1681\" height=\"1600\"/>\n",
       "  </clipPath>\n",
       "</defs>\n",
       "<path clip-path=\"url(#clip700)\" d=\"M219.866 1423.18 L2352.76 1423.18 L2352.76 47.2441 L219.866 47.2441  Z\" fill=\"#ffffff\" fill-rule=\"evenodd\" fill-opacity=\"1\"/>\n",
       "<defs>\n",
       "  <clipPath id=\"clip702\">\n",
       "    <rect x=\"219\" y=\"47\" width=\"2134\" height=\"1377\"/>\n",
       "  </clipPath>\n",
       "</defs>\n",
       "<polyline clip-path=\"url(#clip702)\" style=\"stroke:#000000; stroke-linecap:round; stroke-linejoin:round; stroke-width:2; stroke-opacity:0.1; fill:none\" points=\"219.866,1423.18 219.866,47.2441 \"/>\n",
       "<polyline clip-path=\"url(#clip702)\" style=\"stroke:#000000; stroke-linecap:round; stroke-linejoin:round; stroke-width:2; stroke-opacity:0.1; fill:none\" points=\"548.003,1423.18 548.003,47.2441 \"/>\n",
       "<polyline clip-path=\"url(#clip702)\" style=\"stroke:#000000; stroke-linecap:round; stroke-linejoin:round; stroke-width:2; stroke-opacity:0.1; fill:none\" points=\"876.14,1423.18 876.14,47.2441 \"/>\n",
       "<polyline clip-path=\"url(#clip702)\" style=\"stroke:#000000; stroke-linecap:round; stroke-linejoin:round; stroke-width:2; stroke-opacity:0.1; fill:none\" points=\"1204.28,1423.18 1204.28,47.2441 \"/>\n",
       "<polyline clip-path=\"url(#clip702)\" style=\"stroke:#000000; stroke-linecap:round; stroke-linejoin:round; stroke-width:2; stroke-opacity:0.1; fill:none\" points=\"1532.41,1423.18 1532.41,47.2441 \"/>\n",
       "<polyline clip-path=\"url(#clip702)\" style=\"stroke:#000000; stroke-linecap:round; stroke-linejoin:round; stroke-width:2; stroke-opacity:0.1; fill:none\" points=\"1860.55,1423.18 1860.55,47.2441 \"/>\n",
       "<polyline clip-path=\"url(#clip702)\" style=\"stroke:#000000; stroke-linecap:round; stroke-linejoin:round; stroke-width:2; stroke-opacity:0.1; fill:none\" points=\"2188.69,1423.18 2188.69,47.2441 \"/>\n",
       "<polyline clip-path=\"url(#clip700)\" style=\"stroke:#000000; stroke-linecap:round; stroke-linejoin:round; stroke-width:4; stroke-opacity:1; fill:none\" points=\"219.866,1423.18 2352.76,1423.18 \"/>\n",
       "<polyline clip-path=\"url(#clip700)\" style=\"stroke:#000000; stroke-linecap:round; stroke-linejoin:round; stroke-width:4; stroke-opacity:1; fill:none\" points=\"219.866,1423.18 219.866,1404.28 \"/>\n",
       "<polyline clip-path=\"url(#clip700)\" style=\"stroke:#000000; stroke-linecap:round; stroke-linejoin:round; stroke-width:4; stroke-opacity:1; fill:none\" points=\"548.003,1423.18 548.003,1404.28 \"/>\n",
       "<polyline clip-path=\"url(#clip700)\" style=\"stroke:#000000; stroke-linecap:round; stroke-linejoin:round; stroke-width:4; stroke-opacity:1; fill:none\" points=\"876.14,1423.18 876.14,1404.28 \"/>\n",
       "<polyline clip-path=\"url(#clip700)\" style=\"stroke:#000000; stroke-linecap:round; stroke-linejoin:round; stroke-width:4; stroke-opacity:1; fill:none\" points=\"1204.28,1423.18 1204.28,1404.28 \"/>\n",
       "<polyline clip-path=\"url(#clip700)\" style=\"stroke:#000000; stroke-linecap:round; stroke-linejoin:round; stroke-width:4; stroke-opacity:1; fill:none\" points=\"1532.41,1423.18 1532.41,1404.28 \"/>\n",
       "<polyline clip-path=\"url(#clip700)\" style=\"stroke:#000000; stroke-linecap:round; stroke-linejoin:round; stroke-width:4; stroke-opacity:1; fill:none\" points=\"1860.55,1423.18 1860.55,1404.28 \"/>\n",
       "<polyline clip-path=\"url(#clip700)\" style=\"stroke:#000000; stroke-linecap:round; stroke-linejoin:round; stroke-width:4; stroke-opacity:1; fill:none\" points=\"2188.69,1423.18 2188.69,1404.28 \"/>\n",
       "<path clip-path=\"url(#clip700)\" d=\"M219.866 1454.1 Q216.255 1454.1 214.426 1457.66 Q212.621 1461.2 212.621 1468.33 Q212.621 1475.44 214.426 1479.01 Q216.255 1482.55 219.866 1482.55 Q223.501 1482.55 225.306 1479.01 Q227.135 1475.44 227.135 1468.33 Q227.135 1461.2 225.306 1457.66 Q223.501 1454.1 219.866 1454.1 M219.866 1450.39 Q225.676 1450.39 228.732 1455 Q231.811 1459.58 231.811 1468.33 Q231.811 1477.06 228.732 1481.67 Q225.676 1486.25 219.866 1486.25 Q214.056 1486.25 210.977 1481.67 Q207.922 1477.06 207.922 1468.33 Q207.922 1459.58 210.977 1455 Q214.056 1450.39 219.866 1450.39 Z\" fill=\"#000000\" fill-rule=\"nonzero\" fill-opacity=\"1\" /><path clip-path=\"url(#clip700)\" d=\"M538.385 1481.64 L546.024 1481.64 L546.024 1455.28 L537.714 1456.95 L537.714 1452.69 L545.978 1451.02 L550.654 1451.02 L550.654 1481.64 L558.292 1481.64 L558.292 1485.58 L538.385 1485.58 L538.385 1481.64 Z\" fill=\"#000000\" fill-rule=\"nonzero\" fill-opacity=\"1\" /><path clip-path=\"url(#clip700)\" d=\"M870.793 1481.64 L887.112 1481.64 L887.112 1485.58 L865.168 1485.58 L865.168 1481.64 Q867.83 1478.89 872.413 1474.26 Q877.02 1469.61 878.2 1468.27 Q880.446 1465.74 881.325 1464.01 Q882.228 1462.25 882.228 1460.56 Q882.228 1457.8 880.283 1456.07 Q878.362 1454.33 875.26 1454.33 Q873.061 1454.33 870.608 1455.09 Q868.177 1455.86 865.399 1457.41 L865.399 1452.69 Q868.223 1451.55 870.677 1450.97 Q873.131 1450.39 875.168 1450.39 Q880.538 1450.39 883.733 1453.08 Q886.927 1455.77 886.927 1460.26 Q886.927 1462.39 886.117 1464.31 Q885.33 1466.2 883.223 1468.8 Q882.645 1469.47 879.543 1472.69 Q876.441 1475.88 870.793 1481.64 Z\" fill=\"#000000\" fill-rule=\"nonzero\" fill-opacity=\"1\" /><path clip-path=\"url(#clip700)\" d=\"M1208.52 1466.95 Q1211.88 1467.66 1213.76 1469.93 Q1215.65 1472.2 1215.65 1475.53 Q1215.65 1480.65 1212.14 1483.45 Q1208.62 1486.25 1202.14 1486.25 Q1199.96 1486.25 1197.64 1485.81 Q1195.35 1485.39 1192.9 1484.54 L1192.9 1480.02 Q1194.84 1481.16 1197.16 1481.74 Q1199.47 1482.32 1202 1482.32 Q1206.39 1482.32 1208.69 1480.58 Q1211 1478.84 1211 1475.53 Q1211 1472.48 1208.85 1470.77 Q1206.72 1469.03 1202.9 1469.03 L1198.87 1469.03 L1198.87 1465.19 L1203.08 1465.19 Q1206.53 1465.19 1208.36 1463.82 Q1210.19 1462.43 1210.19 1459.84 Q1210.19 1457.18 1208.29 1455.77 Q1206.42 1454.33 1202.9 1454.33 Q1200.98 1454.33 1198.78 1454.75 Q1196.58 1455.16 1193.94 1456.04 L1193.94 1451.88 Q1196.6 1451.14 1198.92 1450.77 Q1201.26 1450.39 1203.32 1450.39 Q1208.64 1450.39 1211.74 1452.83 Q1214.84 1455.23 1214.84 1459.35 Q1214.84 1462.22 1213.2 1464.21 Q1211.56 1466.18 1208.52 1466.95 Z\" fill=\"#000000\" fill-rule=\"nonzero\" fill-opacity=\"1\" /><path clip-path=\"url(#clip700)\" d=\"M1535.42 1455.09 L1523.62 1473.54 L1535.42 1473.54 L1535.42 1455.09 M1534.2 1451.02 L1540.08 1451.02 L1540.08 1473.54 L1545.01 1473.54 L1545.01 1477.43 L1540.08 1477.43 L1540.08 1485.58 L1535.42 1485.58 L1535.42 1477.43 L1519.82 1477.43 L1519.82 1472.92 L1534.2 1451.02 Z\" fill=\"#000000\" fill-rule=\"nonzero\" fill-opacity=\"1\" /><path clip-path=\"url(#clip700)\" d=\"M1850.83 1451.02 L1869.18 1451.02 L1869.18 1454.96 L1855.11 1454.96 L1855.11 1463.43 Q1856.13 1463.08 1857.15 1462.92 Q1858.17 1462.73 1859.18 1462.73 Q1864.97 1462.73 1868.35 1465.9 Q1871.73 1469.08 1871.73 1474.49 Q1871.73 1480.07 1868.26 1483.17 Q1864.79 1486.25 1858.47 1486.25 Q1856.29 1486.25 1854.02 1485.88 Q1851.78 1485.51 1849.37 1484.77 L1849.37 1480.07 Q1851.45 1481.2 1853.68 1481.76 Q1855.9 1482.32 1858.37 1482.32 Q1862.38 1482.32 1864.72 1480.21 Q1867.06 1478.1 1867.06 1474.49 Q1867.06 1470.88 1864.72 1468.77 Q1862.38 1466.67 1858.37 1466.67 Q1856.5 1466.67 1854.62 1467.08 Q1852.77 1467.5 1850.83 1468.38 L1850.83 1451.02 Z\" fill=\"#000000\" fill-rule=\"nonzero\" fill-opacity=\"1\" /><path clip-path=\"url(#clip700)\" d=\"M2189.09 1466.44 Q2185.94 1466.44 2184.09 1468.59 Q2182.26 1470.74 2182.26 1474.49 Q2182.26 1478.22 2184.09 1480.39 Q2185.94 1482.55 2189.09 1482.55 Q2192.24 1482.55 2194.07 1480.39 Q2195.92 1478.22 2195.92 1474.49 Q2195.92 1470.74 2194.07 1468.59 Q2192.24 1466.44 2189.09 1466.44 M2198.37 1451.78 L2198.37 1456.04 Q2196.62 1455.21 2194.81 1454.77 Q2193.03 1454.33 2191.27 1454.33 Q2186.64 1454.33 2184.19 1457.45 Q2181.75 1460.58 2181.41 1466.9 Q2182.77 1464.89 2184.83 1463.82 Q2186.89 1462.73 2189.37 1462.73 Q2194.58 1462.73 2197.59 1465.9 Q2200.62 1469.05 2200.62 1474.49 Q2200.62 1479.82 2197.47 1483.03 Q2194.32 1486.25 2189.09 1486.25 Q2183.1 1486.25 2179.93 1481.67 Q2176.75 1477.06 2176.75 1468.33 Q2176.75 1460.14 2180.64 1455.28 Q2184.53 1450.39 2191.08 1450.39 Q2192.84 1450.39 2194.62 1450.74 Q2196.43 1451.09 2198.37 1451.78 Z\" fill=\"#000000\" fill-rule=\"nonzero\" fill-opacity=\"1\" /><path clip-path=\"url(#clip700)\" d=\"M1204.35 1545.76 Q1206.42 1546.46 1208.36 1548.76 Q1210.34 1551.05 1212.31 1555.06 L1218.83 1568.04 L1211.93 1568.04 L1205.85 1555.85 Q1203.49 1551.08 1201.27 1549.52 Q1199.07 1547.96 1195.25 1547.96 L1188.25 1547.96 L1188.25 1568.04 L1181.82 1568.04 L1181.82 1520.52 L1196.33 1520.52 Q1204.48 1520.52 1208.49 1523.93 Q1212.5 1527.34 1212.5 1534.21 Q1212.5 1538.7 1210.4 1541.66 Q1208.33 1544.62 1204.35 1545.76 M1188.25 1525.81 L1188.25 1542.68 L1196.33 1542.68 Q1200.98 1542.68 1203.33 1540.54 Q1205.72 1538.38 1205.72 1534.21 Q1205.72 1530.04 1203.33 1527.94 Q1200.98 1525.81 1196.33 1525.81 L1188.25 1525.81 Z\" fill=\"#000000\" fill-rule=\"nonzero\" fill-opacity=\"1\" /><path clip-path=\"url(#clip700)\" d=\"M1241.62 1550.12 Q1234.53 1550.12 1231.79 1551.75 Q1229.05 1553.37 1229.05 1557.29 Q1229.05 1560.4 1231.09 1562.25 Q1233.16 1564.07 1236.69 1564.07 Q1241.56 1564.07 1244.49 1560.63 Q1247.45 1557.16 1247.45 1551.43 L1247.45 1550.12 L1241.62 1550.12 M1253.3 1547.71 L1253.3 1568.04 L1247.45 1568.04 L1247.45 1562.63 Q1245.44 1565.88 1242.45 1567.44 Q1239.46 1568.97 1235.13 1568.97 Q1229.66 1568.97 1226.41 1565.91 Q1223.2 1562.82 1223.2 1557.67 Q1223.2 1551.65 1227.21 1548.6 Q1231.25 1545.54 1239.24 1545.54 L1247.45 1545.54 L1247.45 1544.97 Q1247.45 1540.93 1244.77 1538.73 Q1242.13 1536.5 1237.33 1536.5 Q1234.27 1536.5 1231.38 1537.23 Q1228.48 1537.97 1225.81 1539.43 L1225.81 1534.02 Q1229.02 1532.78 1232.04 1532.17 Q1235.07 1531.54 1237.93 1531.54 Q1245.67 1531.54 1249.49 1535.55 Q1253.3 1539.56 1253.3 1547.71 Z\" fill=\"#000000\" fill-rule=\"nonzero\" fill-opacity=\"1\" /><path clip-path=\"url(#clip700)\" d=\"M1288.83 1537.81 L1288.83 1518.52 L1294.68 1518.52 L1294.68 1568.04 L1288.83 1568.04 L1288.83 1562.7 Q1286.98 1565.88 1284.15 1567.44 Q1281.35 1568.97 1277.4 1568.97 Q1270.94 1568.97 1266.86 1563.81 Q1262.82 1558.65 1262.82 1550.25 Q1262.82 1541.85 1266.86 1536.69 Q1270.94 1531.54 1277.4 1531.54 Q1281.35 1531.54 1284.15 1533.1 Q1286.98 1534.62 1288.83 1537.81 M1268.87 1550.25 Q1268.87 1556.71 1271.51 1560.4 Q1274.18 1564.07 1278.83 1564.07 Q1283.48 1564.07 1286.15 1560.4 Q1288.83 1556.71 1288.83 1550.25 Q1288.83 1543.79 1286.15 1540.13 Q1283.48 1536.44 1278.83 1536.44 Q1274.18 1536.44 1271.51 1540.13 Q1268.87 1543.79 1268.87 1550.25 Z\" fill=\"#000000\" fill-rule=\"nonzero\" fill-opacity=\"1\" /><path clip-path=\"url(#clip700)\" d=\"M1306.75 1532.4 L1312.6 1532.4 L1312.6 1568.04 L1306.75 1568.04 L1306.75 1532.4 M1306.75 1518.52 L1312.6 1518.52 L1312.6 1525.93 L1306.75 1525.93 L1306.75 1518.52 Z\" fill=\"#000000\" fill-rule=\"nonzero\" fill-opacity=\"1\" /><path clip-path=\"url(#clip700)\" d=\"M1324.25 1553.98 L1324.25 1532.4 L1330.11 1532.4 L1330.11 1553.75 Q1330.11 1558.81 1332.08 1561.36 Q1334.05 1563.87 1338 1563.87 Q1342.74 1563.87 1345.48 1560.85 Q1348.25 1557.83 1348.25 1552.61 L1348.25 1532.4 L1354.11 1532.4 L1354.11 1568.04 L1348.25 1568.04 L1348.25 1562.57 Q1346.12 1565.82 1343.28 1567.41 Q1340.48 1568.97 1336.76 1568.97 Q1330.62 1568.97 1327.43 1565.15 Q1324.25 1561.33 1324.25 1553.98 M1338.99 1531.54 L1338.99 1531.54 Z\" fill=\"#000000\" fill-rule=\"nonzero\" fill-opacity=\"1\" /><path clip-path=\"url(#clip700)\" d=\"M1388.89 1533.45 L1388.89 1538.98 Q1386.41 1537.71 1383.74 1537.07 Q1381.06 1536.44 1378.2 1536.44 Q1373.84 1536.44 1371.64 1537.77 Q1369.48 1539.11 1369.48 1541.79 Q1369.48 1543.82 1371.04 1545 Q1372.6 1546.15 1377.31 1547.2 L1379.31 1547.64 Q1385.55 1548.98 1388.16 1551.43 Q1390.8 1553.85 1390.8 1558.21 Q1390.8 1563.17 1386.86 1566.07 Q1382.94 1568.97 1376.07 1568.97 Q1373.2 1568.97 1370.08 1568.39 Q1367 1567.85 1363.56 1566.74 L1363.56 1560.69 Q1366.81 1562.38 1369.96 1563.24 Q1373.11 1564.07 1376.19 1564.07 Q1380.33 1564.07 1382.56 1562.66 Q1384.79 1561.23 1384.79 1558.65 Q1384.79 1556.27 1383.17 1554.99 Q1381.57 1553.72 1376.13 1552.54 L1374.09 1552.07 Q1368.65 1550.92 1366.23 1548.56 Q1363.81 1546.18 1363.81 1542.04 Q1363.81 1537.01 1367.38 1534.27 Q1370.94 1531.54 1377.5 1531.54 Q1380.75 1531.54 1383.61 1532.01 Q1386.48 1532.49 1388.89 1533.45 Z\" fill=\"#000000\" fill-rule=\"nonzero\" fill-opacity=\"1\" /><polyline clip-path=\"url(#clip702)\" style=\"stroke:#000000; stroke-linecap:round; stroke-linejoin:round; stroke-width:2; stroke-opacity:0.1; fill:none\" points=\"219.866,1417.58 2352.76,1417.58 \"/>\n",
       "<polyline clip-path=\"url(#clip702)\" style=\"stroke:#000000; stroke-linecap:round; stroke-linejoin:round; stroke-width:2; stroke-opacity:0.1; fill:none\" points=\"219.866,1107.25 2352.76,1107.25 \"/>\n",
       "<polyline clip-path=\"url(#clip702)\" style=\"stroke:#000000; stroke-linecap:round; stroke-linejoin:round; stroke-width:2; stroke-opacity:0.1; fill:none\" points=\"219.866,796.906 2352.76,796.906 \"/>\n",
       "<polyline clip-path=\"url(#clip702)\" style=\"stroke:#000000; stroke-linecap:round; stroke-linejoin:round; stroke-width:2; stroke-opacity:0.1; fill:none\" points=\"219.866,486.567 2352.76,486.567 \"/>\n",
       "<polyline clip-path=\"url(#clip702)\" style=\"stroke:#000000; stroke-linecap:round; stroke-linejoin:round; stroke-width:2; stroke-opacity:0.1; fill:none\" points=\"219.866,176.228 2352.76,176.228 \"/>\n",
       "<polyline clip-path=\"url(#clip700)\" style=\"stroke:#000000; stroke-linecap:round; stroke-linejoin:round; stroke-width:4; stroke-opacity:1; fill:none\" points=\"219.866,1423.18 219.866,47.2441 \"/>\n",
       "<polyline clip-path=\"url(#clip700)\" style=\"stroke:#000000; stroke-linecap:round; stroke-linejoin:round; stroke-width:4; stroke-opacity:1; fill:none\" points=\"219.866,1417.58 238.764,1417.58 \"/>\n",
       "<polyline clip-path=\"url(#clip700)\" style=\"stroke:#000000; stroke-linecap:round; stroke-linejoin:round; stroke-width:4; stroke-opacity:1; fill:none\" points=\"219.866,1107.25 238.764,1107.25 \"/>\n",
       "<polyline clip-path=\"url(#clip700)\" style=\"stroke:#000000; stroke-linecap:round; stroke-linejoin:round; stroke-width:4; stroke-opacity:1; fill:none\" points=\"219.866,796.906 238.764,796.906 \"/>\n",
       "<polyline clip-path=\"url(#clip700)\" style=\"stroke:#000000; stroke-linecap:round; stroke-linejoin:round; stroke-width:4; stroke-opacity:1; fill:none\" points=\"219.866,486.567 238.764,486.567 \"/>\n",
       "<polyline clip-path=\"url(#clip700)\" style=\"stroke:#000000; stroke-linecap:round; stroke-linejoin:round; stroke-width:4; stroke-opacity:1; fill:none\" points=\"219.866,176.228 238.764,176.228 \"/>\n",
       "<path clip-path=\"url(#clip700)\" d=\"M126.691 1403.38 Q123.08 1403.38 121.251 1406.95 Q119.445 1410.49 119.445 1417.62 Q119.445 1424.73 121.251 1428.29 Q123.08 1431.83 126.691 1431.83 Q130.325 1431.83 132.13 1428.29 Q133.959 1424.73 133.959 1417.62 Q133.959 1410.49 132.13 1406.95 Q130.325 1403.38 126.691 1403.38 M126.691 1399.68 Q132.501 1399.68 135.556 1404.29 Q138.635 1408.87 138.635 1417.62 Q138.635 1426.35 135.556 1430.95 Q132.501 1435.54 126.691 1435.54 Q120.88 1435.54 117.802 1430.95 Q114.746 1426.35 114.746 1417.62 Q114.746 1408.87 117.802 1404.29 Q120.88 1399.68 126.691 1399.68 Z\" fill=\"#000000\" fill-rule=\"nonzero\" fill-opacity=\"1\" /><path clip-path=\"url(#clip700)\" d=\"M146.853 1428.99 L151.737 1428.99 L151.737 1434.86 L146.853 1434.86 L146.853 1428.99 Z\" fill=\"#000000\" fill-rule=\"nonzero\" fill-opacity=\"1\" /><path clip-path=\"url(#clip700)\" d=\"M171.922 1403.38 Q168.311 1403.38 166.482 1406.95 Q164.677 1410.49 164.677 1417.62 Q164.677 1424.73 166.482 1428.29 Q168.311 1431.83 171.922 1431.83 Q175.556 1431.83 177.362 1428.29 Q179.19 1424.73 179.19 1417.62 Q179.19 1410.49 177.362 1406.95 Q175.556 1403.38 171.922 1403.38 M171.922 1399.68 Q177.732 1399.68 180.788 1404.29 Q183.866 1408.87 183.866 1417.62 Q183.866 1426.35 180.788 1430.95 Q177.732 1435.54 171.922 1435.54 Q166.112 1435.54 163.033 1430.95 Q159.978 1426.35 159.978 1417.62 Q159.978 1408.87 163.033 1404.29 Q166.112 1399.68 171.922 1399.68 Z\" fill=\"#000000\" fill-rule=\"nonzero\" fill-opacity=\"1\" /><path clip-path=\"url(#clip700)\" d=\"M127.917 1093.04 Q124.306 1093.04 122.478 1096.61 Q120.672 1100.15 120.672 1107.28 Q120.672 1114.39 122.478 1117.95 Q124.306 1121.49 127.917 1121.49 Q131.552 1121.49 133.357 1117.95 Q135.186 1114.39 135.186 1107.28 Q135.186 1100.15 133.357 1096.61 Q131.552 1093.04 127.917 1093.04 M127.917 1089.34 Q133.728 1089.34 136.783 1093.95 Q139.862 1098.53 139.862 1107.28 Q139.862 1116.01 136.783 1120.61 Q133.728 1125.2 127.917 1125.2 Q122.107 1125.2 119.029 1120.61 Q115.973 1116.01 115.973 1107.28 Q115.973 1098.53 119.029 1093.95 Q122.107 1089.34 127.917 1089.34 Z\" fill=\"#000000\" fill-rule=\"nonzero\" fill-opacity=\"1\" /><path clip-path=\"url(#clip700)\" d=\"M148.079 1118.65 L152.964 1118.65 L152.964 1124.53 L148.079 1124.53 L148.079 1118.65 Z\" fill=\"#000000\" fill-rule=\"nonzero\" fill-opacity=\"1\" /><path clip-path=\"url(#clip700)\" d=\"M163.959 1120.59 L171.598 1120.59 L171.598 1094.22 L163.288 1095.89 L163.288 1091.63 L171.552 1089.97 L176.227 1089.97 L176.227 1120.59 L183.866 1120.59 L183.866 1124.53 L163.959 1124.53 L163.959 1120.59 Z\" fill=\"#000000\" fill-rule=\"nonzero\" fill-opacity=\"1\" /><path clip-path=\"url(#clip700)\" d=\"M128.288 782.705 Q124.677 782.705 122.848 786.27 Q121.043 789.811 121.043 796.941 Q121.043 804.047 122.848 807.612 Q124.677 811.154 128.288 811.154 Q131.922 811.154 133.728 807.612 Q135.556 804.047 135.556 796.941 Q135.556 789.811 133.728 786.27 Q131.922 782.705 128.288 782.705 M128.288 779.001 Q134.098 779.001 137.154 783.608 Q140.232 788.191 140.232 796.941 Q140.232 805.668 137.154 810.274 Q134.098 814.858 128.288 814.858 Q122.478 814.858 119.399 810.274 Q116.343 805.668 116.343 796.941 Q116.343 788.191 119.399 783.608 Q122.478 779.001 128.288 779.001 Z\" fill=\"#000000\" fill-rule=\"nonzero\" fill-opacity=\"1\" /><path clip-path=\"url(#clip700)\" d=\"M148.45 808.307 L153.334 808.307 L153.334 814.186 L148.45 814.186 L148.45 808.307 Z\" fill=\"#000000\" fill-rule=\"nonzero\" fill-opacity=\"1\" /><path clip-path=\"url(#clip700)\" d=\"M167.547 810.251 L183.866 810.251 L183.866 814.186 L161.922 814.186 L161.922 810.251 Q164.584 807.497 169.167 802.867 Q173.774 798.214 174.954 796.872 Q177.2 794.348 178.079 792.612 Q178.982 790.853 178.982 789.163 Q178.982 786.409 177.038 784.673 Q175.116 782.936 172.014 782.936 Q169.815 782.936 167.362 783.7 Q164.931 784.464 162.153 786.015 L162.153 781.293 Q164.977 780.159 167.431 779.58 Q169.885 779.001 171.922 779.001 Q177.292 779.001 180.487 781.686 Q183.681 784.372 183.681 788.862 Q183.681 790.992 182.871 792.913 Q182.084 794.811 179.977 797.404 Q179.399 798.075 176.297 801.293 Q173.195 804.487 167.547 810.251 Z\" fill=\"#000000\" fill-rule=\"nonzero\" fill-opacity=\"1\" /><path clip-path=\"url(#clip700)\" d=\"M127.339 472.366 Q123.728 472.366 121.899 475.931 Q120.093 479.472 120.093 486.602 Q120.093 493.708 121.899 497.273 Q123.728 500.815 127.339 500.815 Q130.973 500.815 132.779 497.273 Q134.607 493.708 134.607 486.602 Q134.607 479.472 132.779 475.931 Q130.973 472.366 127.339 472.366 M127.339 468.662 Q133.149 468.662 136.204 473.268 Q139.283 477.852 139.283 486.602 Q139.283 495.329 136.204 499.935 Q133.149 504.518 127.339 504.518 Q121.529 504.518 118.45 499.935 Q115.394 495.329 115.394 486.602 Q115.394 477.852 118.45 473.268 Q121.529 468.662 127.339 468.662 Z\" fill=\"#000000\" fill-rule=\"nonzero\" fill-opacity=\"1\" /><path clip-path=\"url(#clip700)\" d=\"M147.501 497.967 L152.385 497.967 L152.385 503.847 L147.501 503.847 L147.501 497.967 Z\" fill=\"#000000\" fill-rule=\"nonzero\" fill-opacity=\"1\" /><path clip-path=\"url(#clip700)\" d=\"M176.737 485.213 Q180.093 485.93 181.968 488.199 Q183.866 490.467 183.866 493.801 Q183.866 498.917 180.348 501.717 Q176.829 504.518 170.348 504.518 Q168.172 504.518 165.857 504.079 Q163.565 503.662 161.112 502.805 L161.112 498.292 Q163.056 499.426 165.371 500.004 Q167.686 500.583 170.209 500.583 Q174.607 500.583 176.899 498.847 Q179.214 497.111 179.214 493.801 Q179.214 490.745 177.061 489.032 Q174.931 487.296 171.112 487.296 L167.084 487.296 L167.084 483.454 L171.297 483.454 Q174.746 483.454 176.575 482.088 Q178.403 480.699 178.403 478.106 Q178.403 475.444 176.505 474.032 Q174.63 472.597 171.112 472.597 Q169.19 472.597 166.991 473.014 Q164.792 473.431 162.153 474.31 L162.153 470.144 Q164.815 469.403 167.13 469.032 Q169.468 468.662 171.528 468.662 Q176.852 468.662 179.954 471.093 Q183.056 473.5 183.056 477.62 Q183.056 480.491 181.413 482.481 Q179.769 484.449 176.737 485.213 Z\" fill=\"#000000\" fill-rule=\"nonzero\" fill-opacity=\"1\" /><path clip-path=\"url(#clip700)\" d=\"M126.205 162.026 Q122.593 162.026 120.765 165.591 Q118.959 169.133 118.959 176.262 Q118.959 183.369 120.765 186.934 Q122.593 190.475 126.205 190.475 Q129.839 190.475 131.644 186.934 Q133.473 183.369 133.473 176.262 Q133.473 169.133 131.644 165.591 Q129.839 162.026 126.205 162.026 M126.205 158.323 Q132.015 158.323 135.07 162.929 Q138.149 167.513 138.149 176.262 Q138.149 184.989 135.07 189.596 Q132.015 194.179 126.205 194.179 Q120.394 194.179 117.316 189.596 Q114.26 184.989 114.26 176.262 Q114.26 167.513 117.316 162.929 Q120.394 158.323 126.205 158.323 Z\" fill=\"#000000\" fill-rule=\"nonzero\" fill-opacity=\"1\" /><path clip-path=\"url(#clip700)\" d=\"M146.366 187.628 L151.251 187.628 L151.251 193.508 L146.366 193.508 L146.366 187.628 Z\" fill=\"#000000\" fill-rule=\"nonzero\" fill-opacity=\"1\" /><path clip-path=\"url(#clip700)\" d=\"M174.283 163.022 L162.477 181.471 L174.283 181.471 L174.283 163.022 M173.056 158.948 L178.936 158.948 L178.936 181.471 L183.866 181.471 L183.866 185.36 L178.936 185.36 L178.936 193.508 L174.283 193.508 L174.283 185.36 L158.681 185.36 L158.681 180.846 L173.056 158.948 Z\" fill=\"#000000\" fill-rule=\"nonzero\" fill-opacity=\"1\" /><path clip-path=\"url(#clip700)\" d=\"M20.8447 804.948 Q20.8447 811.951 26.0645 816.088 Q31.2844 820.194 40.2919 820.194 Q49.2675 820.194 54.4874 816.088 Q59.7073 811.951 59.7073 804.948 Q59.7073 797.946 54.4874 793.872 Q49.2675 789.766 40.2919 789.766 Q31.2844 789.766 26.0645 793.872 Q20.8447 797.946 20.8447 804.948 M63.1448 795.941 L72.4069 787.474 L72.4069 795.241 L64.7999 802.275 Q64.8635 803.325 64.8954 803.898 Q64.9272 804.439 64.9272 804.948 Q64.9272 814.974 58.2432 820.99 Q51.5274 826.974 40.2919 826.974 Q29.0246 826.974 22.3406 820.99 Q15.6248 814.974 15.6248 804.948 Q15.6248 794.954 22.3406 788.97 Q29.0246 782.987 40.2919 782.987 Q48.5673 782.987 54.4556 786.329 Q60.3439 789.639 63.1448 795.941 Z\" fill=\"#000000\" fill-rule=\"nonzero\" fill-opacity=\"1\" /><path clip-path=\"url(#clip700)\" d=\"M74.8259 746.097 L79.3773 746.097 L79.3773 779.963 L74.8259 779.963 L74.8259 746.097 Z\" fill=\"#000000\" fill-rule=\"nonzero\" fill-opacity=\"1\" /><path clip-path=\"url(#clip700)\" d=\"M33.8307 719.934 Q33.2578 720.921 33.0032 722.099 Q32.7167 723.244 32.7167 724.645 Q32.7167 729.61 35.9632 732.284 Q39.1779 734.926 45.2253 734.926 L64.0042 734.926 L64.0042 740.814 L28.3562 740.814 L28.3562 734.926 L33.8944 734.926 Q30.6479 733.079 29.0883 730.119 Q27.4968 727.159 27.4968 722.926 Q27.4968 722.321 27.5923 721.589 Q27.656 720.857 27.8151 719.966 L33.8307 719.934 Z\" fill=\"#000000\" fill-rule=\"nonzero\" fill-opacity=\"1\" /><path clip-path=\"url(#clip700)\" d=\"M42.4881 685.305 L64.0042 685.305 L64.0042 691.161 L42.679 691.161 Q37.6183 691.161 35.1038 693.135 Q32.5894 695.108 32.5894 699.055 Q32.5894 703.797 35.6131 706.534 Q38.6368 709.272 43.8567 709.272 L64.0042 709.272 L64.0042 715.16 L14.479 715.16 L14.479 709.272 L33.8944 709.272 Q30.6797 707.171 29.0883 704.338 Q27.4968 701.474 27.4968 697.75 Q27.4968 691.607 31.3163 688.456 Q35.1038 685.305 42.4881 685.305 Z\" fill=\"#000000\" fill-rule=\"nonzero\" fill-opacity=\"1\" /><path clip-path=\"url(#clip700)\" d=\"M32.4621 659.81 Q32.4621 664.521 36.1542 667.258 Q39.8145 669.995 46.212 669.995 Q52.6095 669.995 56.3017 667.29 Q59.9619 664.553 59.9619 659.81 Q59.9619 655.131 56.2698 652.394 Q52.5777 649.657 46.212 649.657 Q39.8781 649.657 36.186 652.394 Q32.4621 655.131 32.4621 659.81 M27.4968 659.81 Q27.4968 652.171 32.4621 647.811 Q37.4273 643.45 46.212 643.45 Q54.9649 643.45 59.9619 647.811 Q64.9272 652.171 64.9272 659.81 Q64.9272 667.481 59.9619 671.841 Q54.9649 676.17 46.212 676.17 Q37.4273 676.17 32.4621 671.841 Q27.4968 667.481 27.4968 659.81 Z\" fill=\"#000000\" fill-rule=\"nonzero\" fill-opacity=\"1\" /><polyline clip-path=\"url(#clip702)\" style=\"stroke:#009af9; stroke-linecap:round; stroke-linejoin:round; stroke-width:4; stroke-opacity:1; fill:none\" points=\"252.68,1384.24 389.116,1384.24 525.552,1384.24 661.988,1170.37 798.423,967.99 934.859,836.662 1071.3,653.644 1207.73,472.318 1344.17,418.54 1480.6,298.178 1617.04,195.966 1753.47,197.597 1889.91,141.501 2026.35,133.669 2162.78,86.1857 2299.22,86.1857 2435.65,87.5594 2572.09,87.5594 2708.53,87.5594 2844.96,87.5594 \"/>\n",
       "<polyline clip-path=\"url(#clip702)\" style=\"stroke:#e26f46; stroke-linecap:round; stroke-linejoin:round; stroke-width:8; stroke-opacity:1; fill:none\" stroke-dasharray=\"4, 8\" points=\"219.866,87.5594 262.593,87.5594 657.666,87.5594 895.088,87.5594 1095.83,87.5594 1313.88,87.5594 1514.91,87.5594 1730.44,87.5594 1980.14,87.5594 2202.05,87.5594 2396.65,87.5594 2608.81,87.5594 2822.23,87.5594 3058.2,87.5594 3282.71,87.5594 3516.15,87.5594 3712.66,87.5594 3952.58,87.5594 4172.36,87.5594 4375.34,87.5594 4580.95,87.5594 4811.39,87.5594 5020.2,87.5594 5259.28,87.5594 5480.64,87.5594 5698.88,87.5594 5910.77,87.5594 6127.98,87.5594 6365.97,87.5594 6711.68,87.5594 6782.6,87.5594 \"/>\n",
       "</svg>\n"
      ]
     },
     "execution_count": 44,
     "metadata": {},
     "output_type": "execute_result"
    }
   ],
   "source": [
    "Radius = range(0.1, 8, length=20)\n",
    "function get_Q_rhos(Radius)\n",
    "    Q_rho = []\n",
    "    for radius in Radius\n",
    "        Sum = 0\n",
    "        for i in get_inner_sites(radius)\n",
    "            Sum += collect(Iterators.flatten((3/70 .- avg_density|>transpose)))[i]\n",
    "            #3/7 => Latiste sadece 1 quasi varken ve boştayken\n",
    "            #avg_density_0 => Latiste iki boşta quasi varken\n",
    "        end\n",
    "        push!(Q_rho, Sum)\n",
    "    end\n",
    "    return Q_rho\n",
    "end\n",
    "Plots.plot(Radius, get_Q_rhos(Radius), xlabel=\"Radius\",ylabel=\"Q_rho\", legend=false)\n",
    "g(x)=3/7\n",
    "Plots.plot!(g, 0, length(Radius), line=(:dot,2),xlim=(0,6.5))"
   ]
  },
  {
   "cell_type": "markdown",
   "id": "c8ba1c1a-0466-4c0e-ae50-68651ddddd72",
   "metadata": {},
   "source": [
    "# Animation"
   ]
  },
  {
   "cell_type": "code",
   "execution_count": 39,
   "id": "3b94f5ae-a205-48ea-9ed7-bac8407b3a50",
   "metadata": {
    "tags": []
   },
   "outputs": [],
   "source": [
    "# animated_exp_list = zeros(N,1,length(r_hubbard_states))\n",
    "# function animated_e_l()\n",
    "#     for i in 1:length(r_hubbard_states)\n",
    "#         expect_list=[]\n",
    "#         for j in 1:N\n",
    "#             T = NM_MB_Array_Storage[:,:,j]\n",
    "#             Op = Operator(BL,BR,T)\n",
    "#             push!(expect_list,expect(Op, r_hubbard_states[i]))\n",
    "#         end\n",
    "#         animated_exp_list[:,:,i] = real(expect_list)\n",
    "#     end\n",
    "#     return animated_exp_list\n",
    "# end"
   ]
  },
  {
   "cell_type": "code",
   "execution_count": 40,
   "id": "4476fa87-c99f-4428-a0d5-473049a5893a",
   "metadata": {
    "tags": []
   },
   "outputs": [],
   "source": [
    "# k = 1\n",
    "# initial_condition = reshape(animated_e_l()[:,:,k], Nx, Ny) #psi_1 (psi_k)'e karşılık gelen density matrix\n",
    "# heatmap(initial_condition)"
   ]
  },
  {
   "cell_type": "code",
   "execution_count": 41,
   "id": "e0b08e68-6ca6-4923-9cd6-2ec9f5cdf609",
   "metadata": {
    "tags": []
   },
   "outputs": [],
   "source": [
    "# initial_condition = reshape(animated_e_l()[:,:,1], Nx, Ny)\n",
    "# fps = 20\n",
    "# function heatgif(initial_condition)\n",
    "#     p = heatmap(initial_condition, xlabel=\"x\", ylabel=\"y\", title=(\"Nx=$Nx,Ny=$Ny,co=$cut_off,PN=$pn,U=$U, fps=$fps\"))\n",
    "#     anim = @animate for i=1:length(r_hubbard_states)\n",
    "#         h_map_matrix = reshape(animated_e_l()[:,:,i],Nx,Ny)\n",
    "#         heatmap!(p[1], h_map_matrix)\n",
    "#     end\n",
    "#     return anim\n",
    "# end"
   ]
  },
  {
   "cell_type": "code",
   "execution_count": 42,
   "id": "91adf7db-1421-4fd3-8615-3550623f1568",
   "metadata": {
    "tags": []
   },
   "outputs": [],
   "source": [
    "# anim = heatgif(initial_condition)\n",
    "# gif(anim, \"OUTPUT.gif\", fps=fps)"
   ]
  }
 ],
 "metadata": {
  "kernelspec": {
   "display_name": "Julia 1.8.1",
   "language": "julia",
   "name": "julia-1.8"
  },
  "language_info": {
   "file_extension": ".jl",
   "mimetype": "application/julia",
   "name": "julia",
   "version": "1.8.1"
  }
 },
 "nbformat": 4,
 "nbformat_minor": 5
}
