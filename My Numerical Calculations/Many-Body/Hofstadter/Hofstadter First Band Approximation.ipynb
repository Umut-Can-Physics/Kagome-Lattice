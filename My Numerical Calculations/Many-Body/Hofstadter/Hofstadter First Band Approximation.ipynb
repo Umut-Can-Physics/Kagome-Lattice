{
 "cells": [
  {
   "cell_type": "code",
   "execution_count": 1,
   "id": "4e14ac7c",
   "metadata": {
    "tags": []
   },
   "outputs": [
    {
     "data": {
      "text/plain": [
       "Hofstadter_SP (generic function with 1 method)"
      ]
     },
     "execution_count": 1,
     "metadata": {},
     "output_type": "execute_result"
    }
   ],
   "source": [
    "using NBInclude\n",
    "@nbinclude(\"Hofstadter Single Particle in Julia.ipynb\")"
   ]
  },
  {
   "cell_type": "code",
   "execution_count": 2,
   "id": "1e698109",
   "metadata": {
    "tags": []
   },
   "outputs": [],
   "source": [
    "using QuantumOptics"
   ]
  },
  {
   "cell_type": "code",
   "execution_count": 3,
   "id": "205489ea",
   "metadata": {
    "tags": []
   },
   "outputs": [
    {
     "data": {
      "text/plain": [
       "Hofstadter_SP_Op (generic function with 1 method)"
      ]
     },
     "execution_count": 3,
     "metadata": {},
     "output_type": "execute_result"
    }
   ],
   "source": [
    "function Hofstadter_SP_Op(Nx, Ny, alpha, Basis)\n",
    "    \n",
    "    H_SP = Hofstadter_SP(Nx,Ny,alpha, 0)\n",
    "    \n",
    "    N = Nx*Ny\n",
    "    \n",
    "    H = SparseOperator(Basis)\n",
    "\n",
    "    for m in 1:N\n",
    "        for n in 1:N\n",
    "            H = H + H_SP[m,n] * transition(Basis, m, n)\n",
    "        end\n",
    "    end\n",
    "    \n",
    "    return H\n",
    "end"
   ]
  },
  {
   "cell_type": "markdown",
   "id": "3fc12020",
   "metadata": {},
   "source": [
    "1) Hofstadter SP QoJulia energies are has to be equal to Hofstadter Single Particle energies."
   ]
  },
  {
   "cell_type": "code",
   "execution_count": 4,
   "id": "bac3c7e6-873d-42d8-903c-68a494091a20",
   "metadata": {
    "tags": []
   },
   "outputs": [
    {
     "data": {
      "text/plain": [
       "1"
      ]
     },
     "execution_count": 4,
     "metadata": {},
     "output_type": "execute_result"
    }
   ],
   "source": [
    "Nx = 4; Ny = 4; N=Nx*Ny; q = 4; N_cut = 4\n",
    "PN = 2\n",
    "U = 1"
   ]
  },
  {
   "cell_type": "code",
   "execution_count": 5,
   "id": "c8e41280-c9e8-4114-9920-4479eb3bd165",
   "metadata": {
    "tags": []
   },
   "outputs": [
    {
     "data": {
      "text/plain": [
       "NLevel(N=16)"
      ]
     },
     "execution_count": 5,
     "metadata": {},
     "output_type": "execute_result"
    }
   ],
   "source": [
    "using LinearAlgebra\n",
    "\n",
    "basis = NLevelBasis(N)"
   ]
  },
  {
   "cell_type": "code",
   "execution_count": 6,
   "id": "a299af11-062e-49d9-a5e6-35cb26028f28",
   "metadata": {
    "tags": []
   },
   "outputs": [
    {
     "data": {
      "text/plain": [
       "Operator(dim=16x16)\n",
       "  basis: NLevel(N=16)sparse([2, 4, 5, 13, 1, 3, 6, 14, 2, 4  …  13, 15, 3, 11, 14, 16, 4, 12, 13, 15], [1, 1, 1, 1, 2, 2, 2, 2, 3, 3  …  14, 14, 15, 15, 15, 15, 16, 16, 16, 16], ComplexF64[-1.0 + 0.0im, -1.0 + 0.0im, -1.0 + 0.0im, -1.0 + 0.0im, -1.0 + 0.0im, -1.0 + 0.0im, -6.0e-17 - 1.0im, -6.0e-17 + 1.0im, -1.0 + 0.0im, -1.0 + 0.0im  …  -1.0 + 0.0im, -1.0 + 0.0im, 1.0 - 1.2e-16im, 1.0 + 1.2e-16im, -1.0 + 0.0im, -1.0 + 0.0im, 1.8e-16 + 1.0im, 1.8e-16 - 1.0im, -1.0 + 0.0im, -1.0 + 0.0im], 16, 16)"
      ]
     },
     "execution_count": 6,
     "metadata": {},
     "output_type": "execute_result"
    }
   ],
   "source": [
    "H1 = Hofstadter_SP_Op(Nx, Ny, 1/q, basis)"
   ]
  },
  {
   "cell_type": "code",
   "execution_count": 7,
   "id": "bd89c49f-fde1-4683-ab61-62ee0afa9344",
   "metadata": {
    "tags": []
   },
   "outputs": [
    {
     "data": {
      "text/plain": [
       "true"
      ]
     },
     "execution_count": 7,
     "metadata": {},
     "output_type": "execute_result"
    }
   ],
   "source": [
    "eigenenergies(dense(H1)) == eigvals(Hofstadter_SP(Nx,Ny,1/q,0))"
   ]
  },
  {
   "cell_type": "code",
   "execution_count": 8,
   "id": "a6a50c54-c2c8-4137-a30c-7be448cc216f",
   "metadata": {
    "tags": []
   },
   "outputs": [
    {
     "data": {
      "text/plain": [
       "get_sub_states (generic function with 1 method)"
      ]
     },
     "execution_count": 8,
     "metadata": {},
     "output_type": "execute_result"
    }
   ],
   "source": [
    "function get_sub_states(SP_Op, N_cut)\n",
    "    \n",
    "    E0, states0 = eigenstates(dense(SP_Op))\n",
    "    states = states0[1:N_cut]\n",
    "    \n",
    "    return states\n",
    "end"
   ]
  },
  {
   "cell_type": "code",
   "execution_count": 10,
   "id": "3d8ded5e-b096-4294-91f6-b7ceb6211e0e",
   "metadata": {
    "tags": []
   },
   "outputs": [],
   "source": [
    "sub_states = get_sub_states(H1, N_cut);"
   ]
  },
  {
   "cell_type": "code",
   "execution_count": 11,
   "id": "5849cf99-54f7-44fe-a95c-609204134b36",
   "metadata": {
    "tags": []
   },
   "outputs": [
    {
     "data": {
      "text/plain": [
       "get_Projector (generic function with 1 method)"
      ]
     },
     "execution_count": 11,
     "metadata": {},
     "output_type": "execute_result"
    }
   ],
   "source": [
    "function get_Projector(states, Basis)\n",
    "    \n",
    "    b_sub = SubspaceBasis(Basis,states)\n",
    "    P = projector(b_sub, Basis)\n",
    "    Pt = dagger(P)\n",
    "    \n",
    "    return b_sub, P, Pt\n",
    "end"
   ]
  },
  {
   "cell_type": "code",
   "execution_count": 12,
   "id": "7e3bd77f-cec0-4e05-afba-3972fecb67ce",
   "metadata": {
    "tags": []
   },
   "outputs": [],
   "source": [
    "b_sub, P, Pt = get_Projector(sub_states, basis);"
   ]
  },
  {
   "cell_type": "code",
   "execution_count": 13,
   "id": "bd995b8b-3898-48cc-b87a-021d130f80c2",
   "metadata": {
    "tags": []
   },
   "outputs": [
    {
     "data": {
      "text/plain": [
       "Subspace_Op (generic function with 1 method)"
      ]
     },
     "execution_count": 13,
     "metadata": {},
     "output_type": "execute_result"
    }
   ],
   "source": [
    "function Subspace_Op(SP_Op, P)\n",
    "    return P*SP_Op*Pt\n",
    "end"
   ]
  },
  {
   "cell_type": "code",
   "execution_count": 14,
   "id": "790be2db-dd4a-4d9e-8131-0761fbf991e1",
   "metadata": {
    "tags": []
   },
   "outputs": [
    {
     "data": {
      "text/plain": [
       "Operator(dim=4x4)\n",
       "  basis: Subspace(superbasis=NLevel(N=16), states:4)\n",
       " -2.82843-1.1e-16im       0.0+1.1e-16im  …   6.0e-17+8.0e-17im\n",
       " -6.0e-17-3.0e-17im  -2.82843-1.1e-16im      1.1e-16+0.0im\n",
       "      0.0+0.0im       6.0e-17+1.1e-16im          0.0+0.0im\n",
       "  6.0e-17+0.0im       1.1e-16+0.0im         -2.82843-1.0e-17im"
      ]
     },
     "execution_count": 14,
     "metadata": {},
     "output_type": "execute_result"
    }
   ],
   "source": [
    "H1_sub = Subspace_Op(H1, P)"
   ]
  },
  {
   "cell_type": "code",
   "execution_count": 16,
   "id": "5ab974c4-4c68-4615-98af-2ce6c7a9767a",
   "metadata": {
    "tags": []
   },
   "outputs": [],
   "source": [
    "num_sub_list = []\n",
    "for m in 1:N\n",
    "    NM = transition(basis, m, m)\n",
    "    NMP = Subspace_Op(NM, P)\n",
    "    push!(num_sub_list, NMP)\n",
    "end"
   ]
  },
  {
   "cell_type": "code",
   "execution_count": 17,
   "id": "37e1ddbb-ffb0-44d4-ab7c-c78ffa95be3e",
   "metadata": {
    "tags": []
   },
   "outputs": [
    {
     "data": {
      "text/plain": [
       "ManyBody(onebodybasis=Subspace(superbasis=NLevel(N=16), states:4), states:10)"
      ]
     },
     "execution_count": 17,
     "metadata": {},
     "output_type": "execute_result"
    }
   ],
   "source": [
    "states_mb = bosonstates(b_sub, PN) \n",
    "basis_mb = ManyBodyBasis(b_sub, states_mb)"
   ]
  },
  {
   "cell_type": "code",
   "execution_count": 18,
   "id": "f6b95d70-d5ec-4163-9c3c-f993987bad52",
   "metadata": {
    "tags": []
   },
   "outputs": [
    {
     "data": {
      "text/plain": [
       "Operator(dim=10x10)\n",
       "  basis: ManyBody(onebodybasis=Subspace(superbasis=NLevel(N=16), states:4), states:10)sparse([1, 2, 4, 1, 2, 3, 4, 5, 7, 1  …  9, 3, 4, 6, 7, 9, 10, 4, 7, 10], [1, 1, 1, 2, 2, 2, 2, 2, 2, 3  …  8, 9, 9, 9, 9, 9, 9, 10, 10, 10], ComplexF64[-5.656854249492381 - 2.2e-16im, -8.0e-17 - 4.0e-17im, 8.0e-17 + 0.0im, 0.0 + 1.6e-16im, -5.65685424949238 - 2.2e-16im, 6.0e-17 + 1.1e-16im, 1.1e-16 + 0.0im, -8.0e-17 - 4.0e-17im, 6.0e-17 + 0.0im, -1.6e-16 - 1.6e-16im  …  8.0e-17 - 2.0e-17im, 6.0e-17 + 8.0e-17im, -1.1e-16 - 1.1e-16im, 1.1e-16 + 0.0im, 1.0e-16 - 1.1e-16im, -5.6568542494923815 - 1.2e-16im, 8.0e-17 - 2.0e-17im, 8.0e-17 + 1.2e-16im, 1.6e-16 + 0.0im, -5.6568542494923815 - 2.0e-17im], 10, 10)"
      ]
     },
     "execution_count": 18,
     "metadata": {},
     "output_type": "execute_result"
    }
   ],
   "source": [
    "function get_MB_Op(MB_Basis, Basis, Op)\n",
    "    \n",
    "    Op_MB = SparseOperator(MB_Basis)\n",
    "    for i in 1:length(Basis)\n",
    "        for j in 1:length(Basis)\n",
    "            Op_MB = Op_MB + Op.data[i,j] * transition(MB_Basis, i, j)\n",
    "        end\n",
    "    end\n",
    "    \n",
    "    return Op_MB\n",
    "end\n",
    "\n",
    "H1_MB = get_MB_Op(basis_mb, b_sub, H1_sub)"
   ]
  },
  {
   "cell_type": "code",
   "execution_count": 52,
   "id": "9d07500a-71d8-4bc5-b26c-49ffa6b8bb3c",
   "metadata": {
    "tags": []
   },
   "outputs": [],
   "source": [
    "# H1_mb = manybodyoperator(basis_mb, H1_sub)"
   ]
  },
  {
   "cell_type": "code",
   "execution_count": 19,
   "id": "c543dad2-c732-4d92-b309-d1add97e752e",
   "metadata": {
    "tags": []
   },
   "outputs": [],
   "source": [
    "num_mb_list = []\n",
    "for m in 1:N\n",
    "    NMP = get_MB_Op(basis_mb, b_sub, num_sub_list[m])\n",
    "    push!(num_mb_list, NMP)\n",
    "end"
   ]
  },
  {
   "cell_type": "code",
   "execution_count": 23,
   "id": "814e83dd-ac5f-4d34-85fa-582584128913",
   "metadata": {
    "tags": []
   },
   "outputs": [
    {
     "data": {
      "text/plain": [
       "Operator(dim=10x10)\n",
       "  basis: ManyBody(onebodybasis=Subspace(superbasis=NLevel(N=16), states:4), states:10)sparse([1, 2, 3, 4, 5, 6, 7, 8, 9, 10  …  1, 2, 3, 4, 5, 6, 7, 8, 9, 10], [1, 1, 1, 1, 1, 1, 1, 1, 1, 1  …  10, 10, 10, 10, 10, 10, 10, 10, 10, 10], ComplexF64[-1.28936050169679 + 0.0im, 0.00757962569811259 + 0.01185689701910187im, -0.0437258336476612 + 0.02661961296988589im, -0.01095277178701358 + 0.04650569240555596im, -0.01893974682379918 + 0.06663927799719217im, 0.02022746845292802 + 0.01717055615191673im, -0.00575227287204036 + 0.04613495742640633im, 0.03793323862671036 - 0.01164801203674734im, 0.02858758182358304 - 0.05907386795967209im, 0.01184660099881899 + 0.012708215570994im  …  0.01184660099881899 - 0.012708215570994im, 0.0161342208377085 - 0.02433646597608097im, -0.03492065003154119 + 0.00192034448810921im, 0.00262592956589625 + 0.00030173629125369im, 0.0359038153203539 - 0.01402817893925641im, -0.03498222498650828 + 0.01584048041542828im, -0.00846315454922784 - 0.00157627059385108im, 0.02685036340361696 + 0.02436765262778182im, -0.00445249519690202 - 0.0045988514041991im, -1.2265625000000013 + 0.0im], 10, 10)"
      ]
     },
     "execution_count": 23,
     "metadata": {},
     "output_type": "execute_result"
    }
   ],
   "source": [
    "U = 2\n",
    "\n",
    "function Int_Op(MB_Num_Op_List, MB_Basis, U)\n",
    "\n",
    "    IT = SparseOperator(MB_Basis)\n",
    "    \n",
    "    for m in 1:N\n",
    "        IT = IT + U/2 * ( MB_Num_Op_List[m]*MB_Num_Op_List[m] - MB_Num_Op_List[m] )\n",
    "    end\n",
    "    \n",
    "    return IT\n",
    "end\n",
    "\n",
    "H_Int_MB = Int_Op(num_mb_list, basis_mb, U)"
   ]
  },
  {
   "cell_type": "code",
   "execution_count": 24,
   "id": "ef9269c7-e47a-4437-a574-2ed2f3dd3383",
   "metadata": {
    "tags": []
   },
   "outputs": [
    {
     "data": {
      "text/plain": [
       "Operator(dim=10x10)\n",
       "  basis: ManyBody(onebodybasis=Subspace(superbasis=NLevel(N=16), states:4), states:10)\n",
       "    0.210639+0.0im        …    0.0118466-0.0127082im\n",
       "  0.00757963+0.0118569im       0.0161342-0.0243365im\n",
       "  -0.0437258+0.0266196im      -0.0349207+0.00192034im\n",
       "  -0.0109528+0.0465057im      0.00262593+0.000301736im\n",
       "  -0.0189397+0.0666393im       0.0359038-0.0140282im\n",
       "   0.0202275+0.0171706im  …   -0.0349822+0.0158405im\n",
       " -0.00575227+0.046135im      -0.00846315-0.00157627im\n",
       "   0.0379332-0.011648im        0.0268504+0.0243677im\n",
       "   0.0285876-0.0590739im      -0.0044525-0.00459885im\n",
       "   0.0118466+0.0127082im        0.273437+0.0im"
      ]
     },
     "execution_count": 24,
     "metadata": {},
     "output_type": "execute_result"
    }
   ],
   "source": [
    "basis2 = basis ⊗ basis\n",
    "\n",
    "# interaction : at_i at_i a_i a_i = at_i a_i at_i a_i - at_i a_i = n_i n_i - n_i\n",
    "    \n",
    "Vint2 = SparseOperator(basis2)\n",
    "\n",
    "for n in 1:N\n",
    "    Vint2 += U/2*transition(basis,n,n)⊗transition(basis,n,n)\n",
    "end\n",
    "\n",
    "Vint2_sub = (P⊗P)*Vint2*(Pt⊗Pt)\n",
    "\n",
    "Vint_mb = manybodyoperator(basis_mb, Vint2_sub)"
   ]
  },
  {
   "cell_type": "code",
   "execution_count": 25,
   "id": "44df2e47-18f5-4478-9462-f071fc21fb67",
   "metadata": {
    "tags": []
   },
   "outputs": [
    {
     "data": {
      "text/plain": [
       "Operator(dim=10x10)\n",
       "  basis: ManyBody(onebodybasis=Subspace(superbasis=NLevel(N=16), states:4), states:10)\n",
       "    -5.44621-2.2e-16im    …    0.0118466-0.0127082im\n",
       "  0.00757963+0.0118569im       0.0161342-0.0243365im\n",
       "  -0.0437258+0.0266196im      -0.0349207+0.00192034im\n",
       "  -0.0109528+0.0465057im      0.00262593+0.000301736im\n",
       "  -0.0189397+0.0666393im       0.0359038-0.0140282im\n",
       "   0.0202275+0.0171706im  …   -0.0349822+0.0158405im\n",
       " -0.00575227+0.046135im      -0.00846315-0.00157627im\n",
       "   0.0379332-0.011648im        0.0268504+0.0243677im\n",
       "   0.0285876-0.0590739im      -0.0044525-0.00459885im\n",
       "   0.0118466+0.0127082im        -5.38342-2.0e-17im"
      ]
     },
     "execution_count": 25,
     "metadata": {},
     "output_type": "execute_result"
    }
   ],
   "source": [
    "H_MB = H1_MB + H_Int_MB\n",
    "H_MB = H1_MB + Vint_mb"
   ]
  },
  {
   "cell_type": "markdown",
   "id": "87a054cb",
   "metadata": {},
   "source": [
    "2) If U<<Band-Gap, Sub-Space Hofstadter Finite-U energies converges at Hofstadter Finite-U energies.\n",
    "3) When all SP states projected to the new sub-space, Sub-Space Hofstadter Finite-U energies have to equal to Hofstadter Finite-U energies."
   ]
  },
  {
   "cell_type": "code",
   "execution_count": 26,
   "id": "c5c80789",
   "metadata": {
    "tags": []
   },
   "outputs": [
    {
     "data": {
      "text/plain": [
       "Hofstadter_Finite_U (generic function with 1 method)"
      ]
     },
     "execution_count": 26,
     "metadata": {},
     "output_type": "execute_result"
    }
   ],
   "source": [
    "@nbinclude(\"Hofstadter MB in Julia.ipynb\"; regex=r\"#.*executeme\")"
   ]
  },
  {
   "cell_type": "code",
   "execution_count": 31,
   "id": "7246b2cf",
   "metadata": {
    "tags": []
   },
   "outputs": [
    {
     "data": {
      "text/plain": [
       "136-element Vector{Float64}:\n",
       " -5.649088257988248\n",
       " -5.649088257988246\n",
       " -5.566797429509227\n",
       " -5.566797429509225\n",
       " -5.473445191751442\n",
       " -5.473445191751442\n",
       " -5.47344519175144\n",
       " -5.473445191751436\n",
       " -5.377714259598001\n",
       " -5.377714259597988\n",
       " -2.8284271247461934\n",
       " -2.8284271247461925\n",
       " -2.828427124746192\n",
       "  ⋮\n",
       "  3.9999999999999942\n",
       "  4.000000000000008\n",
       "  5.674115940328522\n",
       "  5.6741159403285275\n",
       "  5.852756589683972\n",
       "  5.852756589683979\n",
       "  6.0231091360459414\n",
       "  6.023109136045951\n",
       "  6.023109136045961\n",
       "  6.023109136045963\n",
       "  6.148762358737362\n",
       "  6.148762358737363"
      ]
     },
     "execution_count": 31,
     "metadata": {},
     "output_type": "execute_result"
    }
   ],
   "source": [
    "# using Plots\n",
    "\n",
    "E1 = eigenenergies(dense((H_MB+dagger(H_MB))/2))\n",
    "\n",
    "E2 = eigenenergies(dense(Hofstadter_Finite_U(Nx, Ny, 1/q, PN, U)))\n",
    "\n",
    "# print(E1-E2[1:length(E1)])\n",
    "\n",
    "# plot(1:length(E1),E1,seriestype=:scatter,markershape=:star5, markersize=6, label=\"Sub-Space\")\n",
    "# plot!(1:length(E2),E2,seriestype=:scatter,label=\"Real-Space\",legend=:topleft)\n",
    "# xlabel!(\"n\");ylabel!(\"E\")"
   ]
  },
  {
   "cell_type": "code",
   "execution_count": 32,
   "id": "ee390ff9-deaf-41b3-aa30-28e0bd6c6639",
   "metadata": {
    "tags": []
   },
   "outputs": [
    {
     "data": {
      "text/plain": [
       "10-element Vector{Float64}:\n",
       " -5.646130944789018\n",
       " -5.646130944789016\n",
       " -5.5318542494923815\n",
       " -5.531854249492378\n",
       " -5.406854249492384\n",
       " -5.406854249492384\n",
       " -5.406854249492382\n",
       " -5.4068542494923815\n",
       " -5.292577554195746\n",
       " -5.292577554195745"
      ]
     },
     "execution_count": 32,
     "metadata": {},
     "output_type": "execute_result"
    }
   ],
   "source": [
    "E1"
   ]
  },
  {
   "cell_type": "code",
   "execution_count": null,
   "id": "820f6aef-9c91-4726-9c57-946e398b2d2b",
   "metadata": {},
   "outputs": [],
   "source": []
  }
 ],
 "metadata": {
  "kernelspec": {
   "display_name": "Julia 1.8.5",
   "language": "julia",
   "name": "julia-1.8"
  },
  "language_info": {
   "file_extension": ".jl",
   "mimetype": "application/julia",
   "name": "julia",
   "version": "1.8.5"
  }
 },
 "nbformat": 4,
 "nbformat_minor": 5
}
