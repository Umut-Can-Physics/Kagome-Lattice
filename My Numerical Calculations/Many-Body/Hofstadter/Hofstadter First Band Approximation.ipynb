{
 "cells": [
  {
   "cell_type": "code",
   "execution_count": 1,
   "id": "portuguese-prediction",
   "metadata": {
    "tags": []
   },
   "outputs": [
    {
     "data": {
      "text/plain": [
       "Hubbard_Interaction"
      ]
     },
     "execution_count": 1,
     "metadata": {},
     "output_type": "execute_result"
    }
   ],
   "source": [
    "using NBInclude\n",
    "@nbinclude(\"Hofstadter Single Particle in Julia.ipynb\")\n",
    "@nbinclude(joinpath(\"..\",\"First Band Approximation Functions.ipynb\"))"
   ]
  },
  {
   "cell_type": "markdown",
   "id": "1cbf7141-36bd-4ef7-9487-deb38a7b9128",
   "metadata": {},
   "source": [
    "# Initial Parameters"
   ]
  },
  {
   "cell_type": "code",
   "execution_count": 2,
   "id": "about-bones",
   "metadata": {
    "tags": []
   },
   "outputs": [],
   "source": [
    "Nx = 5; Ny = 5; N=Nx*Ny; q = Nx; cut_off = q\n",
    "PN = [0,1,2]\n",
    "U = 2;"
   ]
  },
  {
   "cell_type": "markdown",
   "id": "aa578b60-4cd3-49a9-8e3d-aabffe7d92cf",
   "metadata": {
    "tags": []
   },
   "source": [
    "# Single-Particle"
   ]
  },
  {
   "cell_type": "code",
   "execution_count": 3,
   "id": "imperial-crisis",
   "metadata": {
    "tags": []
   },
   "outputs": [
    {
     "data": {
      "text/latex": [
       "Compute the single-particle operator from single-particle matrix.\n",
       "\n",
       "\\paragraph{Arguments}\n",
       "\\begin{itemize}\n",
       "\\item \\texttt{sp\\_basis::NLevelBasis}: Single-Particle basis.\n",
       "\n",
       "\n",
       "\\item \\texttt{sp\\_matrix::Matrix}: Any hopping phases matrix from any model.\n",
       "\n",
       "\\end{itemize}\n"
      ],
      "text/markdown": [
       "Compute the single-particle operator from single-particle matrix.\n",
       "\n",
       "#### Arguments\n",
       "\n",
       "  * `sp_basis::NLevelBasis`: Single-Particle basis.\n",
       "  * `sp_matrix::Matrix`: Any hopping phases matrix from any model.\n"
      ],
      "text/plain": [
       "  Compute the single-particle operator from single-particle matrix.\n",
       "\n",
       "\u001b[1m  Arguments\u001b[22m\n",
       "\u001b[1m  -----------\u001b[22m\n",
       "\n",
       "    •  \u001b[36msp_basis::NLevelBasis\u001b[39m: Single-Particle basis.\n",
       "\n",
       "    •  \u001b[36msp_matrix::Matrix\u001b[39m: Any hopping phases matrix from any model."
      ]
     },
     "execution_count": 3,
     "metadata": {},
     "output_type": "execute_result"
    }
   ],
   "source": [
    "@doc get_sp_op"
   ]
  },
  {
   "cell_type": "code",
   "execution_count": 4,
   "id": "temporal-cleveland",
   "metadata": {
    "tags": []
   },
   "outputs": [],
   "source": [
    "sp_basis = NLevelBasis(N);\n",
    "sp_matrix = Hofstadter_SP(Nx, Ny, 1/q, 0);"
   ]
  },
  {
   "cell_type": "code",
   "execution_count": 5,
   "id": "likely-spank",
   "metadata": {
    "tags": []
   },
   "outputs": [],
   "source": [
    "H1 = get_sp_op(sp_basis, sp_matrix);"
   ]
  },
  {
   "cell_type": "code",
   "execution_count": 6,
   "id": "ignored-medium",
   "metadata": {
    "tags": []
   },
   "outputs": [
    {
     "data": {
      "text/plain": [
       "true"
      ]
     },
     "execution_count": 6,
     "metadata": {},
     "output_type": "execute_result"
    }
   ],
   "source": [
    "#check operator form\n",
    "using LinearAlgebra\n",
    "eigenenergies(dense(H1)) == eigvals(sp_matrix)"
   ]
  },
  {
   "cell_type": "code",
   "execution_count": 7,
   "id": "e2e9066d-37c3-4286-b5fa-db560eacf4c0",
   "metadata": {
    "tags": []
   },
   "outputs": [
    {
     "data": {
      "text/latex": [
       "Compute the first given number eigen-states.\n",
       "\n",
       "\\paragraph{Arguments}\n",
       "\\begin{itemize}\n",
       "\\item \\texttt{sp\\_op::Operator}: Created single-particle operator by using \\texttt{get\\_sp\\_op}.\n",
       "\n",
       "\n",
       "\\item \\texttt{cut\\_off::Int}: Eigen-states order from \\texttt{1} to \\texttt{cut\\_off}.\n",
       "\n",
       "\\end{itemize}\n"
      ],
      "text/markdown": [
       "Compute the first given number eigen-states.\n",
       "\n",
       "#### Arguments\n",
       "\n",
       "  * `sp_op::Operator`: Created single-particle operator by using `get_sp_op`.\n",
       "  * `cut_off::Int`: Eigen-states order from `1` to `cut_off`.\n"
      ],
      "text/plain": [
       "  Compute the first given number eigen-states.\n",
       "\n",
       "\u001b[1m  Arguments\u001b[22m\n",
       "\u001b[1m  -----------\u001b[22m\n",
       "\n",
       "    •  \u001b[36msp_op::Operator\u001b[39m: Created single-particle operator by using\n",
       "       \u001b[36mget_sp_op\u001b[39m.\n",
       "\n",
       "    •  \u001b[36mcut_off::Int\u001b[39m: Eigen-states order from \u001b[36m1\u001b[39m to \u001b[36mcut_off\u001b[39m."
      ]
     },
     "execution_count": 7,
     "metadata": {},
     "output_type": "execute_result"
    }
   ],
   "source": [
    "@doc get_sub_states"
   ]
  },
  {
   "cell_type": "code",
   "execution_count": 8,
   "id": "compact-brooks",
   "metadata": {
    "tags": []
   },
   "outputs": [],
   "source": [
    "sub_states = get_sub_states(H1, cut_off);"
   ]
  },
  {
   "cell_type": "code",
   "execution_count": 9,
   "id": "d644861d-5ac6-4597-bfdb-9df51e96c229",
   "metadata": {
    "tags": []
   },
   "outputs": [
    {
     "data": {
      "text/latex": [
       "Compute Sub-Space Basis, Projection and comlex conjugate of Projection operator.\n",
       "\n",
       "\\paragraph{Arguments}\n",
       "\\begin{itemize}\n",
       "\\item \\texttt{states::eigenstates}: Eigen-states of any operator.\n",
       "\n",
       "\n",
       "\\item \\texttt{basis::NLevelBasis}: Single-Particle basis.\n",
       "\n",
       "\\end{itemize}\n"
      ],
      "text/markdown": [
       "Compute Sub-Space Basis, Projection and comlex conjugate of Projection operator.\n",
       "\n",
       "#### Arguments\n",
       "\n",
       "  * `states::eigenstates`: Eigen-states of any operator.\n",
       "  * `basis::NLevelBasis`: Single-Particle basis.\n"
      ],
      "text/plain": [
       "  Compute Sub-Space Basis, Projection and comlex conjugate of Projection\n",
       "  operator.\n",
       "\n",
       "\u001b[1m  Arguments\u001b[22m\n",
       "\u001b[1m  -----------\u001b[22m\n",
       "\n",
       "    •  \u001b[36mstates::eigenstates\u001b[39m: Eigen-states of any operator.\n",
       "\n",
       "    •  \u001b[36mbasis::NLevelBasis\u001b[39m: Single-Particle basis."
      ]
     },
     "execution_count": 9,
     "metadata": {},
     "output_type": "execute_result"
    }
   ],
   "source": [
    "@doc get_projector_op"
   ]
  },
  {
   "cell_type": "code",
   "execution_count": 10,
   "id": "molecular-bankruptcy",
   "metadata": {
    "tags": []
   },
   "outputs": [],
   "source": [
    "b_sub, P, Pt = get_projector_op(sub_states, sp_basis);"
   ]
  },
  {
   "cell_type": "code",
   "execution_count": 11,
   "id": "dd280e68-52a1-4367-b2f8-e73c8533f8bb",
   "metadata": {
    "tags": []
   },
   "outputs": [
    {
     "data": {
      "text/latex": [
       "Compute the Sub-Space Operator.\n",
       "\n",
       "\\paragraph{Arguments}\n",
       "\\begin{itemize}\n",
       "\\item \\texttt{sp\\_op::Operator}: Single-particle operator from single-particle matrix.\n",
       "\n",
       "\n",
       "\\item \\texttt{P::Operator}: Projection operator.\n",
       "\n",
       "\n",
       "\\item \\texttt{Pt::Operator}: Complex conjugate of Projection operator.\n",
       "\n",
       "\\end{itemize}\n"
      ],
      "text/markdown": [
       "Compute the Sub-Space Operator.\n",
       "\n",
       "#### Arguments\n",
       "\n",
       "  * `sp_op::Operator`: Single-particle operator from single-particle matrix.\n",
       "  * `P::Operator`: Projection operator.\n",
       "  * `Pt::Operator`: Complex conjugate of Projection operator.\n"
      ],
      "text/plain": [
       "  Compute the Sub-Space Operator.\n",
       "\n",
       "\u001b[1m  Arguments\u001b[22m\n",
       "\u001b[1m  -----------\u001b[22m\n",
       "\n",
       "    •  \u001b[36msp_op::Operator\u001b[39m: Single-particle operator from single-particle\n",
       "       matrix.\n",
       "\n",
       "    •  \u001b[36mP::Operator\u001b[39m: Projection operator.\n",
       "\n",
       "    •  \u001b[36mPt::Operator\u001b[39m: Complex conjugate of Projection operator."
      ]
     },
     "execution_count": 11,
     "metadata": {},
     "output_type": "execute_result"
    }
   ],
   "source": [
    "@doc get_subspace_op"
   ]
  },
  {
   "cell_type": "code",
   "execution_count": 12,
   "id": "informed-macro",
   "metadata": {
    "tags": []
   },
   "outputs": [],
   "source": [
    "H1_sub = get_subspace_op(H1, P, Pt);"
   ]
  },
  {
   "cell_type": "code",
   "execution_count": 13,
   "id": "c4bc4b2e-2868-45fa-8200-c6187ed42627",
   "metadata": {
    "tags": []
   },
   "outputs": [
    {
     "data": {
      "text/latex": [
       "Compute the Single-Particle Number Operator for each lattice sites.\n",
       "\n",
       "\\paragraph{Arguments}\n",
       "\\begin{itemize}\n",
       "\\item \\texttt{sp\\_basis::NLevelBasis}: Single-Particle basis.\n",
       "\n",
       "\n",
       "\\item \\texttt{P::Operator}: Projection operator.\n",
       "\n",
       "\n",
       "\\item \\texttt{Pt::Operator}: Complex conjugate of Projection operator.\n",
       "\n",
       "\\end{itemize}\n"
      ],
      "text/markdown": [
       "Compute the Single-Particle Number Operator for each lattice sites.\n",
       "\n",
       "#### Arguments\n",
       "\n",
       "  * `sp_basis::NLevelBasis`: Single-Particle basis.\n",
       "  * `P::Operator`: Projection operator.\n",
       "  * `Pt::Operator`: Complex conjugate of Projection operator.\n"
      ],
      "text/plain": [
       "  Compute the Single-Particle Number Operator for each lattice sites.\n",
       "\n",
       "\u001b[1m  Arguments\u001b[22m\n",
       "\u001b[1m  -----------\u001b[22m\n",
       "\n",
       "    •  \u001b[36msp_basis::NLevelBasis\u001b[39m: Single-Particle basis.\n",
       "\n",
       "    •  \u001b[36mP::Operator\u001b[39m: Projection operator.\n",
       "\n",
       "    •  \u001b[36mPt::Operator\u001b[39m: Complex conjugate of Projection operator."
      ]
     },
     "execution_count": 13,
     "metadata": {},
     "output_type": "execute_result"
    }
   ],
   "source": [
    "@doc get_num_sub_list"
   ]
  },
  {
   "cell_type": "code",
   "execution_count": 14,
   "id": "cross-patrol",
   "metadata": {
    "tags": []
   },
   "outputs": [],
   "source": [
    "num_sub_list = get_num_sub_list(sp_basis,P,Pt);"
   ]
  },
  {
   "cell_type": "code",
   "execution_count": 47,
   "id": "2a1b276a-c688-4e13-9d64-bc0342e27a43",
   "metadata": {
    "tags": []
   },
   "outputs": [],
   "source": []
  },
  {
   "cell_type": "markdown",
   "id": "particular-surrey",
   "metadata": {},
   "source": [
    "# Many-Body"
   ]
  },
  {
   "cell_type": "code",
   "execution_count": 15,
   "id": "difficult-ground",
   "metadata": {
    "tags": []
   },
   "outputs": [
    {
     "data": {
      "text/plain": [
       "ManyBody(onebodybasis=Subspace(superbasis=NLevel(N=25), states:5), states:21)"
      ]
     },
     "execution_count": 15,
     "metadata": {},
     "output_type": "execute_result"
    }
   ],
   "source": [
    "states_mb = bosonstates(b_sub, PN) \n",
    "basis_mb = ManyBodyBasis(b_sub, states_mb)"
   ]
  },
  {
   "cell_type": "code",
   "execution_count": 51,
   "id": "e0c808cf-591b-48d0-841b-f35fadeea9e6",
   "metadata": {
    "tags": []
   },
   "outputs": [],
   "source": []
  },
  {
   "cell_type": "code",
   "execution_count": 16,
   "id": "cccffa5e-d4fd-4260-a7c5-d2fe183534e1",
   "metadata": {
    "tags": []
   },
   "outputs": [
    {
     "data": {
      "text/latex": [
       "Compute the Many-Body Operator from Single-Particle Operator.\n",
       "\n",
       "\\paragraph{Arguments}\n",
       "\\begin{itemize}\n",
       "\\item \\texttt{basis\\_mb::ManyBodyBasis}: Created Many-Body Basis by using \\texttt{bosonstates} or \\texttt{fermionstates}.\n",
       "\n",
       "\n",
       "\\item \\texttt{basis::SubSpaceBasis}: Created Sub-Space Basis by using get\\emph{projector}op.\n",
       "\n",
       "\n",
       "\\item \\texttt{sp\\_op::Operator}: Single-particle operator from single-particle matrix.\n",
       "\n",
       "\\end{itemize}\n"
      ],
      "text/markdown": [
       "Compute the Many-Body Operator from Single-Particle Operator.\n",
       "\n",
       "#### Arguments\n",
       "\n",
       "  * `basis_mb::ManyBodyBasis`: Created Many-Body Basis by using `bosonstates` or `fermionstates`.\n",
       "  * `basis::SubSpaceBasis`: Created Sub-Space Basis by using get*projector*op.\n",
       "  * `sp_op::Operator`: Single-particle operator from single-particle matrix.\n"
      ],
      "text/plain": [
       "  Compute the Many-Body Operator from Single-Particle Operator.\n",
       "\n",
       "\u001b[1m  Arguments\u001b[22m\n",
       "\u001b[1m  -----------\u001b[22m\n",
       "\n",
       "    •  \u001b[36mbasis_mb::ManyBodyBasis\u001b[39m: Created Many-Body Basis by using\n",
       "       \u001b[36mbosonstates\u001b[39m or \u001b[36mfermionstates\u001b[39m.\n",
       "\n",
       "    •  \u001b[36mbasis::SubSpaceBasis\u001b[39m: Created Sub-Space Basis by using\n",
       "       get\u001b[4mprojector\u001b[24mop.\n",
       "\n",
       "    •  \u001b[36msp_op::Operator\u001b[39m: Single-particle operator from single-particle\n",
       "       matrix."
      ]
     },
     "execution_count": 16,
     "metadata": {},
     "output_type": "execute_result"
    }
   ],
   "source": [
    "@doc get_mb_op"
   ]
  },
  {
   "cell_type": "code",
   "execution_count": 17,
   "id": "final-reverse",
   "metadata": {
    "tags": []
   },
   "outputs": [],
   "source": [
    "H1_MB = get_mb_op(basis_mb, b_sub, H1_sub);"
   ]
  },
  {
   "cell_type": "code",
   "execution_count": 18,
   "id": "4e49aaa7-d831-48fb-a9bb-77266aaed1b4",
   "metadata": {
    "tags": []
   },
   "outputs": [
    {
     "data": {
      "text/latex": [
       "Compute the Many-Body Number Operator for each lattice sites.\n",
       "\n",
       "\\paragraph{Arguments}\n",
       "\\begin{itemize}\n",
       "\\item \\texttt{basis\\_mb::ManyBodyBasis}: Created Many-Body Basis by using \\texttt{bosonstates} or \\texttt{fermionstates}.\n",
       "\n",
       "\n",
       "\\item \\texttt{basis::SubSpaceBasis}: Created Sub-Space Basis by using get\\emph{projector}op.\n",
       "\n",
       "\n",
       "\\item \\texttt{num\\_sub\\_list::ElementVector}: Created Single-Particle Number Number Operator for each lattice sites by using get\\emph{num}sub\\_list.\n",
       "\n",
       "\\end{itemize}\n"
      ],
      "text/markdown": [
       "Compute the Many-Body Number Operator for each lattice sites.\n",
       "\n",
       "#### Arguments\n",
       "\n",
       "  * `basis_mb::ManyBodyBasis`: Created Many-Body Basis by using `bosonstates` or `fermionstates`.\n",
       "  * `basis::SubSpaceBasis`: Created Sub-Space Basis by using get*projector*op.\n",
       "  * `num_sub_list::ElementVector`: Created Single-Particle Number Number Operator for each lattice sites by using get*num*sub_list.\n"
      ],
      "text/plain": [
       "  Compute the Many-Body Number Operator for each lattice sites.\n",
       "\n",
       "\u001b[1m  Arguments\u001b[22m\n",
       "\u001b[1m  -----------\u001b[22m\n",
       "\n",
       "    •  \u001b[36mbasis_mb::ManyBodyBasis\u001b[39m: Created Many-Body Basis by using\n",
       "       \u001b[36mbosonstates\u001b[39m or \u001b[36mfermionstates\u001b[39m.\n",
       "\n",
       "    •  \u001b[36mbasis::SubSpaceBasis\u001b[39m: Created Sub-Space Basis by using\n",
       "       get\u001b[4mprojector\u001b[24mop.\n",
       "\n",
       "    •  \u001b[36mnum_sub_list::ElementVector\u001b[39m: Created Single-Particle Number Number\n",
       "       Operator for each lattice sites by using get\u001b[4mnum\u001b[24msub_list."
      ]
     },
     "execution_count": 18,
     "metadata": {},
     "output_type": "execute_result"
    }
   ],
   "source": [
    "@doc get_num_mb_list"
   ]
  },
  {
   "cell_type": "code",
   "execution_count": 19,
   "id": "advanced-edwards",
   "metadata": {
    "tags": []
   },
   "outputs": [],
   "source": [
    "num_mb_list = get_num_mb_list(basis_mb, b_sub, num_sub_list);"
   ]
  },
  {
   "cell_type": "code",
   "execution_count": 20,
   "id": "f5e7021c-a835-4d85-b45c-3ba5d456c977",
   "metadata": {
    "tags": []
   },
   "outputs": [
    {
     "data": {
      "text/latex": [
       "Compute the on-site Bose-Hubbard Interaction term.\n",
       "\n",
       "\\paragraph{Arguments:}\n",
       "\\begin{itemize}\n",
       "\\item \\texttt{P::Operator}: Projection operator.\n",
       "\n",
       "\n",
       "\\item \\texttt{Pt::Operator}: Complex conjugate of Projection operator.\n",
       "\n",
       "\n",
       "\\item \\texttt{b\\_sub::SubSpaceBasis}: Created Sub-Space Basis by using get\\emph{projector}op.\n",
       "\n",
       "\n",
       "\\item \\texttt{cut-off::Integer}: A Integer variable.\n",
       "\n",
       "\\end{itemize}\n"
      ],
      "text/markdown": [
       "Compute the on-site Bose-Hubbard Interaction term.\n",
       "\n",
       "#### Arguments:\n",
       "\n",
       "  * `P::Operator`: Projection operator.\n",
       "  * `Pt::Operator`: Complex conjugate of Projection operator.\n",
       "  * `b_sub::SubSpaceBasis`: Created Sub-Space Basis by using get*projector*op.\n",
       "  * `cut-off::Integer`: A Integer variable.\n"
      ],
      "text/plain": [
       "  Compute the on-site Bose-Hubbard Interaction term.\n",
       "\n",
       "\u001b[1m  Arguments:\u001b[22m\n",
       "\u001b[1m  ------------\u001b[22m\n",
       "\n",
       "    •  \u001b[36mP::Operator\u001b[39m: Projection operator.\n",
       "\n",
       "    •  \u001b[36mPt::Operator\u001b[39m: Complex conjugate of Projection operator.\n",
       "\n",
       "    •  \u001b[36mb_sub::SubSpaceBasis\u001b[39m: Created Sub-Space Basis by using\n",
       "       get\u001b[4mprojector\u001b[24mop.\n",
       "\n",
       "    •  \u001b[36mcut-off::Integer\u001b[39m: A Integer variable."
      ]
     },
     "execution_count": 20,
     "metadata": {},
     "output_type": "execute_result"
    }
   ],
   "source": [
    "@doc Hubbard_Interaction"
   ]
  },
  {
   "cell_type": "code",
   "execution_count": 24,
   "id": "d228561d-92e0-4e56-8eb3-0747bc107238",
   "metadata": {
    "tags": []
   },
   "outputs": [
    {
     "data": {
      "text/plain": [
       "Hofstadter_Finite_U (generic function with 1 method)"
      ]
     },
     "execution_count": 24,
     "metadata": {},
     "output_type": "execute_result"
    }
   ],
   "source": [
    "@nbinclude(\"Hofstadter MB in Julia.ipynb\"; regex=r\"#.*executeme\")"
   ]
  },
  {
   "cell_type": "code",
   "execution_count": 25,
   "id": "dutch-philosophy",
   "metadata": {
    "tags": []
   },
   "outputs": [],
   "source": [
    "H_Int_MB5 = Hubbard_Interaction(P, Pt, b_sub, cut_off);"
   ]
  },
  {
   "cell_type": "markdown",
   "id": "851a46f6-53fc-473c-b8c3-b056cedd4120",
   "metadata": {},
   "source": [
    "# Controlling Many-Body Function in QoJulia Freamwork"
   ]
  },
  {
   "cell_type": "code",
   "execution_count": 31,
   "id": "civil-constitutional",
   "metadata": {
    "tags": []
   },
   "outputs": [
    {
     "data": {
      "text/plain": [
       "manybodyoperator_2_Hubbard (generic function with 1 method)"
      ]
     },
     "execution_count": 31,
     "metadata": {},
     "output_type": "execute_result"
    }
   ],
   "source": [
    "# function manybodyoperator_2_Hubbard(basis::ManyBodyBasis, op::SparseOpType)\n",
    "#     N = length(basis)\n",
    "#     S = length(basis.onebodybasis)\n",
    "#     result = SparseOperator(basis)\n",
    "#     occupations = basis.occupations\n",
    "#     rows = QuantumOpticsBase.rowvals(op.data)\n",
    "#     values = QuantumOpticsBase.nonzeros(op.data)\n",
    "#     @inbounds for column=1:S^2, j in QuantumOpticsBase.nzrange(op.data, column)\n",
    "#         row = rows[j]\n",
    "#         value = values[j]\n",
    "#         index = Tuple(CartesianIndices((S, S, S, S))[(column-1)*S^2 + row])\n",
    "#         for m=1:N, n=1:N\n",
    "#             # println(\"row:\", row, \" column:\"column, ind_left)\n",
    "#             C = QuantumOpticsBase.coefficient(occupations[m], occupations[n], index[1:2], index[3:4])\n",
    "#             if C!=0.\n",
    "#                 result.data[m,n] += C*value\n",
    "#             end\n",
    "#         end\n",
    "#     end\n",
    "#     return result\n",
    "# end"
   ]
  },
  {
   "cell_type": "markdown",
   "id": "865cc1d6-3246-4f5a-9c75-dfe67eab2040",
   "metadata": {},
   "source": [
    "# Constructing Total Hamiltonians "
   ]
  },
  {
   "cell_type": "code",
   "execution_count": 26,
   "id": "technical-technology",
   "metadata": {
    "tags": []
   },
   "outputs": [],
   "source": [
    "bcut_mb, bcut = get_Bosonic_MB_Basis(cut_off,PN)\n",
    "H1cut = SparseOperator(bcut_mb)\n",
    "H1cut.data = H1_MB.data\n",
    "H1_MB\n",
    "\n",
    "H_MB5 = H1cut + H_Int_MB5;"
   ]
  },
  {
   "cell_type": "code",
   "execution_count": 54,
   "id": "d1637cc5-14b1-46c7-9da4-4845c303e6d4",
   "metadata": {
    "tags": []
   },
   "outputs": [],
   "source": [
    "number_sp_list_operators = []\n",
    "for i in 1:N\n",
    "    number_sp_list = Operator(bcut, num_sub_list[i].data)\n",
    "    push!(number_sp_list_operators, number_sp_list)\n",
    "end\n",
    "number_mb_list_operators = []\n",
    "for i in 1:N\n",
    "    number_mb_list = manybodyoperator(bcut_mb, number_sp_list_operators[i])\n",
    "    push!(number_mb_list_operators, number_mb_list)\n",
    "end"
   ]
  },
  {
   "cell_type": "markdown",
   "id": "3f1b1096-6ac2-4940-9e20-a7b79871a0a7",
   "metadata": {},
   "source": [
    "# Exact-Diagonalization"
   ]
  },
  {
   "cell_type": "code",
   "execution_count": 27,
   "id": "436255b0-474b-4d97-8672-a458428a7a3d",
   "metadata": {
    "tags": []
   },
   "outputs": [
    {
     "data": {
      "text/plain": [
       "get_energies (generic function with 1 method)"
      ]
     },
     "execution_count": 27,
     "metadata": {},
     "output_type": "execute_result"
    }
   ],
   "source": [
    "using DataFrames\n",
    "\n",
    "Hubbard_States = eigenstates(dense(dense((H_MB5+dagger(H_MB5))/2)))\n",
    "\n",
    "function get_energies(pn, states, basis)\n",
    "    PN_Energies = Array{Float64}(undef, length(states[1]), 2)\n",
    "    for i in 1:length(states[1])\n",
    "        PN_Energies[i] = round(expect(number(basis), states[2][i])) #expected values (first column)\n",
    "        PN_Energies[i,2] = states[1][i] #eigen-values (second column)\n",
    "    end\n",
    "    df = DataFrame(PN_Energies, :auto)\n",
    "    df = filter(row -> (row.x1 == pn),  df)\n",
    "    \n",
    "    return df\n",
    "end"
   ]
  },
  {
   "cell_type": "code",
   "execution_count": 28,
   "id": "0fc34877-b975-44a9-bdf1-171087768b75",
   "metadata": {
    "tags": []
   },
   "outputs": [
    {
     "data": {
      "text/html": [
       "<div><div style = \"float: left;\"><span>15×2 DataFrame</span></div><div style = \"clear: both;\"></div></div><div class = \"data-frame\" style = \"overflow-x: scroll;\"><table class = \"data-frame\" style = \"margin-bottom: 6px;\"><thead><tr class = \"header\"><th class = \"rowNumber\" style = \"font-weight: bold; text-align: right;\">Row</th><th style = \"text-align: left;\">x1</th><th style = \"text-align: left;\">x2</th></tr><tr class = \"subheader headerLastRow\"><th class = \"rowNumber\" style = \"font-weight: bold; text-align: right;\"></th><th title = \"Float64\" style = \"text-align: left;\">Float64</th><th title = \"Float64\" style = \"text-align: left;\">Float64</th></tr></thead><tbody><tr><td class = \"rowNumber\" style = \"font-weight: bold; text-align: right;\">1</td><td style = \"text-align: right;\">2.0</td><td style = \"text-align: right;\">-5.93003</td></tr><tr><td class = \"rowNumber\" style = \"font-weight: bold; text-align: right;\">2</td><td style = \"text-align: right;\">2.0</td><td style = \"text-align: right;\">-5.93003</td></tr><tr><td class = \"rowNumber\" style = \"font-weight: bold; text-align: right;\">3</td><td style = \"text-align: right;\">2.0</td><td style = \"text-align: right;\">-5.93003</td></tr><tr><td class = \"rowNumber\" style = \"font-weight: bold; text-align: right;\">4</td><td style = \"text-align: right;\">2.0</td><td style = \"text-align: right;\">-5.93003</td></tr><tr><td class = \"rowNumber\" style = \"font-weight: bold; text-align: right;\">5</td><td style = \"text-align: right;\">2.0</td><td style = \"text-align: right;\">-5.93003</td></tr><tr><td class = \"rowNumber\" style = \"font-weight: bold; text-align: right;\">6</td><td style = \"text-align: right;\">2.0</td><td style = \"text-align: right;\">-5.77209</td></tr><tr><td class = \"rowNumber\" style = \"font-weight: bold; text-align: right;\">7</td><td style = \"text-align: right;\">2.0</td><td style = \"text-align: right;\">-5.77209</td></tr><tr><td class = \"rowNumber\" style = \"font-weight: bold; text-align: right;\">8</td><td style = \"text-align: right;\">2.0</td><td style = \"text-align: right;\">-5.77209</td></tr><tr><td class = \"rowNumber\" style = \"font-weight: bold; text-align: right;\">9</td><td style = \"text-align: right;\">2.0</td><td style = \"text-align: right;\">-5.77209</td></tr><tr><td class = \"rowNumber\" style = \"font-weight: bold; text-align: right;\">10</td><td style = \"text-align: right;\">2.0</td><td style = \"text-align: right;\">-5.77209</td></tr><tr><td class = \"rowNumber\" style = \"font-weight: bold; text-align: right;\">11</td><td style = \"text-align: right;\">2.0</td><td style = \"text-align: right;\">-5.69657</td></tr><tr><td class = \"rowNumber\" style = \"font-weight: bold; text-align: right;\">12</td><td style = \"text-align: right;\">2.0</td><td style = \"text-align: right;\">-5.69657</td></tr><tr><td class = \"rowNumber\" style = \"font-weight: bold; text-align: right;\">13</td><td style = \"text-align: right;\">2.0</td><td style = \"text-align: right;\">-5.69657</td></tr><tr><td class = \"rowNumber\" style = \"font-weight: bold; text-align: right;\">14</td><td style = \"text-align: right;\">2.0</td><td style = \"text-align: right;\">-5.69657</td></tr><tr><td class = \"rowNumber\" style = \"font-weight: bold; text-align: right;\">15</td><td style = \"text-align: right;\">2.0</td><td style = \"text-align: right;\">-5.69657</td></tr></tbody></table></div>"
      ],
      "text/latex": [
       "\\begin{tabular}{r|cc}\n",
       "\t& x1 & x2\\\\\n",
       "\t\\hline\n",
       "\t& Float64 & Float64\\\\\n",
       "\t\\hline\n",
       "\t1 & 2.0 & -5.93003 \\\\\n",
       "\t2 & 2.0 & -5.93003 \\\\\n",
       "\t3 & 2.0 & -5.93003 \\\\\n",
       "\t4 & 2.0 & -5.93003 \\\\\n",
       "\t5 & 2.0 & -5.93003 \\\\\n",
       "\t6 & 2.0 & -5.77209 \\\\\n",
       "\t7 & 2.0 & -5.77209 \\\\\n",
       "\t8 & 2.0 & -5.77209 \\\\\n",
       "\t9 & 2.0 & -5.77209 \\\\\n",
       "\t10 & 2.0 & -5.77209 \\\\\n",
       "\t11 & 2.0 & -5.69657 \\\\\n",
       "\t12 & 2.0 & -5.69657 \\\\\n",
       "\t13 & 2.0 & -5.69657 \\\\\n",
       "\t14 & 2.0 & -5.69657 \\\\\n",
       "\t15 & 2.0 & -5.69657 \\\\\n",
       "\\end{tabular}\n"
      ],
      "text/plain": [
       "\u001b[1m15×2 DataFrame\u001b[0m\n",
       "\u001b[1m Row \u001b[0m│\u001b[1m x1      \u001b[0m\u001b[1m x2       \u001b[0m\n",
       "     │\u001b[90m Float64 \u001b[0m\u001b[90m Float64  \u001b[0m\n",
       "─────┼───────────────────\n",
       "   1 │     2.0  -5.93003\n",
       "   2 │     2.0  -5.93003\n",
       "   3 │     2.0  -5.93003\n",
       "   4 │     2.0  -5.93003\n",
       "   5 │     2.0  -5.93003\n",
       "   6 │     2.0  -5.77209\n",
       "   7 │     2.0  -5.77209\n",
       "   8 │     2.0  -5.77209\n",
       "   9 │     2.0  -5.77209\n",
       "  10 │     2.0  -5.77209\n",
       "  11 │     2.0  -5.69657\n",
       "  12 │     2.0  -5.69657\n",
       "  13 │     2.0  -5.69657\n",
       "  14 │     2.0  -5.69657\n",
       "  15 │     2.0  -5.69657"
      ]
     },
     "execution_count": 28,
     "metadata": {},
     "output_type": "execute_result"
    }
   ],
   "source": [
    "pn=2.0\n",
    "df = get_energies(pn, Hubbard_States, bcut_mb)"
   ]
  },
  {
   "cell_type": "markdown",
   "id": "aaca712c-b257-494d-bc14-71ded4bb8410",
   "metadata": {},
   "source": [
    "Allta ki fonksiyonun çalışması için, dizide ki filtre edilmiş parçacık sayısı her zaman en büyük değer olmalıdır.\n",
    "Örneğin, `PN=[0,1,2,3,4]` iken filtre edilen parçacık sayısı `pn=4` olmalıdır!"
   ]
  },
  {
   "cell_type": "code",
   "execution_count": 29,
   "id": "d582d7a3-67c3-4775-bcb8-2862643ca5ac",
   "metadata": {
    "tags": []
   },
   "outputs": [
    {
     "data": {
      "text/plain": [
       "Restricted_Hubbard_States (generic function with 1 method)"
      ]
     },
     "execution_count": 29,
     "metadata": {},
     "output_type": "execute_result"
    }
   ],
   "source": [
    "function Restricted_Hubbard_States(df ,states)\n",
    "    Energies_for_spesific_particle_number = Matrix(df)[:,2]\n",
    "    number_of_states = length(Energies_for_spesific_particle_number)\n",
    "    return states[2][1:number_of_states];\n",
    "end"
   ]
  },
  {
   "cell_type": "code",
   "execution_count": 32,
   "id": "da17cb7c-bc14-4026-adae-386b3b5b2083",
   "metadata": {
    "tags": []
   },
   "outputs": [],
   "source": [
    "r_hubbard_states = Restricted_Hubbard_States(df , Hubbard_States);"
   ]
  },
  {
   "cell_type": "markdown",
   "id": "14aea968-4016-4dc6-965b-e194bc4b4944",
   "metadata": {},
   "source": [
    "# Density Profile"
   ]
  },
  {
   "cell_type": "code",
   "execution_count": 57,
   "id": "36f916a4-68d4-4448-ac28-a27d6f24ce86",
   "metadata": {
    "tags": []
   },
   "outputs": [
    {
     "data": {
      "text/plain": [
       "0.09659499112048509 + 2.1616280813929745e-18im"
      ]
     },
     "execution_count": 57,
     "metadata": {},
     "output_type": "execute_result"
    }
   ],
   "source": [
    "NM_MB_Array_Storage = zeros(Complex{Float64},length(bcut_mb),length(bcut_mb),N);\n",
    "NM_MB_Matrix = zeros(Complex{Float64},length(bcut_mb),length(bcut_mb));\n",
    "for m in 1:N\n",
    "    for i in 1:length(bcut_mb)\n",
    "        for j in 1:length(bcut_mb)\n",
    "            NM_MB_Matrix[i,j] = num_mb_list[m].data[i,j]\n",
    "        end\n",
    "    end\n",
    "    NM_MB_Array_Storage[:,:,m] = NM_MB_Matrix\n",
    "end\n",
    "BL = BR = bcut_mb\n",
    "index_number_op = 4\n",
    "T = NM_MB_Array_Storage[:,:,index_number_op]\n",
    "Op = Operator(BL,BR,T)\n",
    "index_eigen_states = 1\n",
    "expect(Op, r_hubbard_states[index_eigen_states])"
   ]
  },
  {
   "cell_type": "code",
   "execution_count": 52,
   "id": "0c381e89-15a3-4512-8ba6-1f12ffd5adc3",
   "metadata": {
    "tags": []
   },
   "outputs": [],
   "source": [
    "#or"
   ]
  },
  {
   "cell_type": "code",
   "execution_count": 55,
   "id": "3b54f1a6-a4e4-40b1-8ee0-fe552e1fc1f0",
   "metadata": {
    "tags": []
   },
   "outputs": [
    {
     "data": {
      "text/plain": [
       "0.09659499112048509 + 2.1616280813929745e-18im"
      ]
     },
     "execution_count": 55,
     "metadata": {},
     "output_type": "execute_result"
    }
   ],
   "source": [
    "expect(number_mb_list_operators[4],r_hubbard_states[1])"
   ]
  },
  {
   "cell_type": "code",
   "execution_count": 38,
   "id": "eb2700e3-348a-41e7-abf1-6f5f59e3705a",
   "metadata": {
    "tags": []
   },
   "outputs": [
    {
     "data": {
      "text/plain": [
       "3-element Vector{Int64}:\n",
       " 0\n",
       " 1\n",
       " 2"
      ]
     },
     "execution_count": 38,
     "metadata": {},
     "output_type": "execute_result"
    }
   ],
   "source": [
    "PN"
   ]
  },
  {
   "cell_type": "code",
   "execution_count": 64,
   "id": "81ff12cd-947c-4e4f-8b89-b4fc77c3f747",
   "metadata": {
    "tags": []
   },
   "outputs": [
    {
     "name": "stdout",
     "output_type": "stream",
     "text": [
      "Total Particle Number:10.000000000000004 + 2.7004447281063718e-17im"
     ]
    }
   ],
   "source": [
    "index_eig_states = 15\n",
    "Sum = 0\n",
    "expect_list=[]\n",
    "\n",
    "for i in 1:N\n",
    "    T = NM_MB_Array_Storage[:,:,i]\n",
    "    Op = Operator(BL,BR,T)\n",
    "    n_i = 0\n",
    "    for index_eig_states in 1:q        \n",
    "        Sum += expect(Op, r_hubbard_states[index_eig_states])\n",
    "        #println(i,\"\\t\",expect(Op, r_hubbard_states[index_eig_states]))\n",
    "        n_i += expect(Op, r_hubbard_states[index_eig_states])\n",
    "    end\n",
    "    push!(expect_list,n_i)\n",
    "end\n",
    "print(\"Total Particle Number:\", Sum)"
   ]
  },
  {
   "cell_type": "code",
   "execution_count": 65,
   "id": "bc80592c-045b-4898-9a4b-c414e446434f",
   "metadata": {
    "tags": []
   },
   "outputs": [
    {
     "data": {
      "image/svg+xml": [
       "<?xml version=\"1.0\" encoding=\"utf-8\"?>\n",
       "<svg xmlns=\"http://www.w3.org/2000/svg\" xmlns:xlink=\"http://www.w3.org/1999/xlink\" width=\"600\" height=\"400\" viewBox=\"0 0 2400 1600\">\n",
       "<defs>\n",
       "  <clipPath id=\"clip940\">\n",
       "    <rect x=\"0\" y=\"0\" width=\"2400\" height=\"1600\"/>\n",
       "  </clipPath>\n",
       "</defs>\n",
       "<path clip-path=\"url(#clip940)\" d=\"M0 1600 L2400 1600 L2400 0 L0 0  Z\" fill=\"#ffffff\" fill-rule=\"evenodd\" fill-opacity=\"1\"/>\n",
       "<defs>\n",
       "  <clipPath id=\"clip941\">\n",
       "    <rect x=\"480\" y=\"0\" width=\"1681\" height=\"1600\"/>\n",
       "  </clipPath>\n",
       "</defs>\n",
       "<path clip-path=\"url(#clip940)\" d=\"M175.445 1423.18 L2112.76 1423.18 L2112.76 183.952 L175.445 183.952  Z\" fill=\"#ffffff\" fill-rule=\"evenodd\" fill-opacity=\"1\"/>\n",
       "<defs>\n",
       "  <clipPath id=\"clip942\">\n",
       "    <rect x=\"175\" y=\"183\" width=\"1938\" height=\"1240\"/>\n",
       "  </clipPath>\n",
       "</defs>\n",
       "<polyline clip-path=\"url(#clip942)\" style=\"stroke:#000000; stroke-linecap:round; stroke-linejoin:round; stroke-width:2; stroke-opacity:0.1; fill:none\" points=\"369.176,1423.18 369.176,183.952 \"/>\n",
       "<polyline clip-path=\"url(#clip942)\" style=\"stroke:#000000; stroke-linecap:round; stroke-linejoin:round; stroke-width:2; stroke-opacity:0.1; fill:none\" points=\"756.638,1423.18 756.638,183.952 \"/>\n",
       "<polyline clip-path=\"url(#clip942)\" style=\"stroke:#000000; stroke-linecap:round; stroke-linejoin:round; stroke-width:2; stroke-opacity:0.1; fill:none\" points=\"1144.1,1423.18 1144.1,183.952 \"/>\n",
       "<polyline clip-path=\"url(#clip942)\" style=\"stroke:#000000; stroke-linecap:round; stroke-linejoin:round; stroke-width:2; stroke-opacity:0.1; fill:none\" points=\"1531.56,1423.18 1531.56,183.952 \"/>\n",
       "<polyline clip-path=\"url(#clip942)\" style=\"stroke:#000000; stroke-linecap:round; stroke-linejoin:round; stroke-width:2; stroke-opacity:0.1; fill:none\" points=\"1919.02,1423.18 1919.02,183.952 \"/>\n",
       "<polyline clip-path=\"url(#clip940)\" style=\"stroke:#000000; stroke-linecap:round; stroke-linejoin:round; stroke-width:4; stroke-opacity:1; fill:none\" points=\"175.445,1423.18 2112.76,1423.18 \"/>\n",
       "<polyline clip-path=\"url(#clip940)\" style=\"stroke:#000000; stroke-linecap:round; stroke-linejoin:round; stroke-width:4; stroke-opacity:1; fill:none\" points=\"369.176,1423.18 369.176,1404.28 \"/>\n",
       "<polyline clip-path=\"url(#clip940)\" style=\"stroke:#000000; stroke-linecap:round; stroke-linejoin:round; stroke-width:4; stroke-opacity:1; fill:none\" points=\"756.638,1423.18 756.638,1404.28 \"/>\n",
       "<polyline clip-path=\"url(#clip940)\" style=\"stroke:#000000; stroke-linecap:round; stroke-linejoin:round; stroke-width:4; stroke-opacity:1; fill:none\" points=\"1144.1,1423.18 1144.1,1404.28 \"/>\n",
       "<polyline clip-path=\"url(#clip940)\" style=\"stroke:#000000; stroke-linecap:round; stroke-linejoin:round; stroke-width:4; stroke-opacity:1; fill:none\" points=\"1531.56,1423.18 1531.56,1404.28 \"/>\n",
       "<polyline clip-path=\"url(#clip940)\" style=\"stroke:#000000; stroke-linecap:round; stroke-linejoin:round; stroke-width:4; stroke-opacity:1; fill:none\" points=\"1919.02,1423.18 1919.02,1404.28 \"/>\n",
       "<path clip-path=\"url(#clip940)\" d=\"M359.558 1481.64 L367.197 1481.64 L367.197 1455.28 L358.887 1456.95 L358.887 1452.69 L367.151 1451.02 L371.827 1451.02 L371.827 1481.64 L379.466 1481.64 L379.466 1485.58 L359.558 1485.58 L359.558 1481.64 Z\" fill=\"#000000\" fill-rule=\"evenodd\" fill-opacity=\"1\" /><path clip-path=\"url(#clip940)\" d=\"M751.291 1481.64 L767.611 1481.64 L767.611 1485.58 L745.666 1485.58 L745.666 1481.64 Q748.328 1478.89 752.912 1474.26 Q757.518 1469.61 758.699 1468.27 Q760.944 1465.74 761.824 1464.01 Q762.726 1462.25 762.726 1460.56 Q762.726 1457.8 760.782 1456.07 Q758.861 1454.33 755.759 1454.33 Q753.56 1454.33 751.106 1455.09 Q748.675 1455.86 745.898 1457.41 L745.898 1452.69 Q748.722 1451.55 751.175 1450.97 Q753.629 1450.39 755.666 1450.39 Q761.037 1450.39 764.231 1453.08 Q767.425 1455.77 767.425 1460.26 Q767.425 1462.39 766.615 1464.31 Q765.828 1466.2 763.722 1468.8 Q763.143 1469.47 760.041 1472.69 Q756.939 1475.88 751.291 1481.64 Z\" fill=\"#000000\" fill-rule=\"evenodd\" fill-opacity=\"1\" /><path clip-path=\"url(#clip940)\" d=\"M1148.35 1466.95 Q1151.7 1467.66 1153.58 1469.93 Q1155.48 1472.2 1155.48 1475.53 Q1155.48 1480.65 1151.96 1483.45 Q1148.44 1486.25 1141.96 1486.25 Q1139.78 1486.25 1137.47 1485.81 Q1135.18 1485.39 1132.72 1484.54 L1132.72 1480.02 Q1134.67 1481.16 1136.98 1481.74 Q1139.3 1482.32 1141.82 1482.32 Q1146.22 1482.32 1148.51 1480.58 Q1150.83 1478.84 1150.83 1475.53 Q1150.83 1472.48 1148.67 1470.77 Q1146.54 1469.03 1142.72 1469.03 L1138.7 1469.03 L1138.7 1465.19 L1142.91 1465.19 Q1146.36 1465.19 1148.19 1463.82 Q1150.01 1462.43 1150.01 1459.84 Q1150.01 1457.18 1148.12 1455.77 Q1146.24 1454.33 1142.72 1454.33 Q1140.8 1454.33 1138.6 1454.75 Q1136.4 1455.16 1133.76 1456.04 L1133.76 1451.88 Q1136.43 1451.14 1138.74 1450.77 Q1141.08 1450.39 1143.14 1450.39 Q1148.46 1450.39 1151.57 1452.83 Q1154.67 1455.23 1154.67 1459.35 Q1154.67 1462.22 1153.02 1464.21 Q1151.38 1466.18 1148.35 1466.95 Z\" fill=\"#000000\" fill-rule=\"evenodd\" fill-opacity=\"1\" /><path clip-path=\"url(#clip940)\" d=\"M1534.57 1455.09 L1522.77 1473.54 L1534.57 1473.54 L1534.57 1455.09 M1533.35 1451.02 L1539.22 1451.02 L1539.22 1473.54 L1544.16 1473.54 L1544.16 1477.43 L1539.22 1477.43 L1539.22 1485.58 L1534.57 1485.58 L1534.57 1477.43 L1518.97 1477.43 L1518.97 1472.92 L1533.35 1451.02 Z\" fill=\"#000000\" fill-rule=\"evenodd\" fill-opacity=\"1\" /><path clip-path=\"url(#clip940)\" d=\"M1909.3 1451.02 L1927.66 1451.02 L1927.66 1454.96 L1913.59 1454.96 L1913.59 1463.43 Q1914.6 1463.08 1915.62 1462.92 Q1916.64 1462.73 1917.66 1462.73 Q1923.45 1462.73 1926.83 1465.9 Q1930.21 1469.08 1930.21 1474.49 Q1930.21 1480.07 1926.73 1483.17 Q1923.26 1486.25 1916.94 1486.25 Q1914.77 1486.25 1912.5 1485.88 Q1910.25 1485.51 1907.84 1484.77 L1907.84 1480.07 Q1909.93 1481.2 1912.15 1481.76 Q1914.37 1482.32 1916.85 1482.32 Q1920.85 1482.32 1923.19 1480.21 Q1925.53 1478.1 1925.53 1474.49 Q1925.53 1470.88 1923.19 1468.77 Q1920.85 1466.67 1916.85 1466.67 Q1914.97 1466.67 1913.1 1467.08 Q1911.25 1467.5 1909.3 1468.38 L1909.3 1451.02 Z\" fill=\"#000000\" fill-rule=\"evenodd\" fill-opacity=\"1\" /><path clip-path=\"url(#clip940)\" d=\"M1160.72 1532.4 L1147.82 1549.74 L1161.38 1568.04 L1154.48 1568.04 L1144.1 1554.04 L1133.72 1568.04 L1126.82 1568.04 L1140.66 1549.39 L1128 1532.4 L1134.9 1532.4 L1144.36 1545.1 L1153.81 1532.4 L1160.72 1532.4 Z\" fill=\"#000000\" fill-rule=\"evenodd\" fill-opacity=\"1\" /><polyline clip-path=\"url(#clip942)\" style=\"stroke:#000000; stroke-linecap:round; stroke-linejoin:round; stroke-width:2; stroke-opacity:0.1; fill:none\" points=\"175.445,1299.26 2112.76,1299.26 \"/>\n",
       "<polyline clip-path=\"url(#clip942)\" style=\"stroke:#000000; stroke-linecap:round; stroke-linejoin:round; stroke-width:2; stroke-opacity:0.1; fill:none\" points=\"175.445,1051.41 2112.76,1051.41 \"/>\n",
       "<polyline clip-path=\"url(#clip942)\" style=\"stroke:#000000; stroke-linecap:round; stroke-linejoin:round; stroke-width:2; stroke-opacity:0.1; fill:none\" points=\"175.445,803.566 2112.76,803.566 \"/>\n",
       "<polyline clip-path=\"url(#clip942)\" style=\"stroke:#000000; stroke-linecap:round; stroke-linejoin:round; stroke-width:2; stroke-opacity:0.1; fill:none\" points=\"175.445,555.72 2112.76,555.72 \"/>\n",
       "<polyline clip-path=\"url(#clip942)\" style=\"stroke:#000000; stroke-linecap:round; stroke-linejoin:round; stroke-width:2; stroke-opacity:0.1; fill:none\" points=\"175.445,307.875 2112.76,307.875 \"/>\n",
       "<polyline clip-path=\"url(#clip940)\" style=\"stroke:#000000; stroke-linecap:round; stroke-linejoin:round; stroke-width:4; stroke-opacity:1; fill:none\" points=\"175.445,1423.18 175.445,183.952 \"/>\n",
       "<polyline clip-path=\"url(#clip940)\" style=\"stroke:#000000; stroke-linecap:round; stroke-linejoin:round; stroke-width:4; stroke-opacity:1; fill:none\" points=\"175.445,1299.26 192.26,1299.26 \"/>\n",
       "<polyline clip-path=\"url(#clip940)\" style=\"stroke:#000000; stroke-linecap:round; stroke-linejoin:round; stroke-width:4; stroke-opacity:1; fill:none\" points=\"175.445,1051.41 192.26,1051.41 \"/>\n",
       "<polyline clip-path=\"url(#clip940)\" style=\"stroke:#000000; stroke-linecap:round; stroke-linejoin:round; stroke-width:4; stroke-opacity:1; fill:none\" points=\"175.445,803.566 192.26,803.566 \"/>\n",
       "<polyline clip-path=\"url(#clip940)\" style=\"stroke:#000000; stroke-linecap:round; stroke-linejoin:round; stroke-width:4; stroke-opacity:1; fill:none\" points=\"175.445,555.72 192.26,555.72 \"/>\n",
       "<polyline clip-path=\"url(#clip940)\" style=\"stroke:#000000; stroke-linecap:round; stroke-linejoin:round; stroke-width:4; stroke-opacity:1; fill:none\" points=\"175.445,307.875 192.26,307.875 \"/>\n",
       "<path clip-path=\"url(#clip940)\" d=\"M119.538 1312.6 L127.177 1312.6 L127.177 1286.24 L118.867 1287.9 L118.867 1283.64 L127.13 1281.98 L131.806 1281.98 L131.806 1312.6 L139.445 1312.6 L139.445 1316.54 L119.538 1316.54 L119.538 1312.6 Z\" fill=\"#000000\" fill-rule=\"evenodd\" fill-opacity=\"1\" /><path clip-path=\"url(#clip940)\" d=\"M123.126 1064.76 L139.445 1064.76 L139.445 1068.69 L117.501 1068.69 L117.501 1064.76 Q120.163 1062 124.746 1057.37 Q129.353 1052.72 130.533 1051.38 Q132.779 1048.85 133.658 1047.12 Q134.561 1045.36 134.561 1043.67 Q134.561 1040.91 132.617 1039.18 Q130.695 1037.44 127.593 1037.44 Q125.394 1037.44 122.941 1038.21 Q120.51 1038.97 117.732 1040.52 L117.732 1035.8 Q120.556 1034.66 123.01 1034.09 Q125.464 1033.51 127.501 1033.51 Q132.871 1033.51 136.066 1036.19 Q139.26 1038.88 139.26 1043.37 Q139.26 1045.5 138.45 1047.42 Q137.663 1049.32 135.556 1051.91 Q134.978 1052.58 131.876 1055.8 Q128.774 1058.99 123.126 1064.76 Z\" fill=\"#000000\" fill-rule=\"evenodd\" fill-opacity=\"1\" /><path clip-path=\"url(#clip940)\" d=\"M132.316 802.212 Q135.672 802.929 137.547 805.198 Q139.445 807.466 139.445 810.8 Q139.445 815.915 135.927 818.716 Q132.408 821.517 125.927 821.517 Q123.751 821.517 121.436 821.077 Q119.144 820.661 116.691 819.804 L116.691 815.29 Q118.635 816.425 120.95 817.003 Q123.265 817.582 125.788 817.582 Q130.186 817.582 132.478 815.846 Q134.792 814.11 134.792 810.8 Q134.792 807.744 132.64 806.031 Q130.51 804.295 126.691 804.295 L122.663 804.295 L122.663 800.453 L126.876 800.453 Q130.325 800.453 132.154 799.087 Q133.982 797.698 133.982 795.105 Q133.982 792.443 132.084 791.031 Q130.209 789.596 126.691 789.596 Q124.769 789.596 122.57 790.013 Q120.371 790.429 117.732 791.309 L117.732 787.142 Q120.394 786.402 122.709 786.031 Q125.047 785.661 127.107 785.661 Q132.431 785.661 135.533 788.092 Q138.635 790.499 138.635 794.619 Q138.635 797.49 136.992 799.48 Q135.348 801.448 132.316 802.212 Z\" fill=\"#000000\" fill-rule=\"evenodd\" fill-opacity=\"1\" /><path clip-path=\"url(#clip940)\" d=\"M129.862 542.514 L118.056 560.963 L129.862 560.963 L129.862 542.514 M128.635 538.44 L134.515 538.44 L134.515 560.963 L139.445 560.963 L139.445 564.852 L134.515 564.852 L134.515 573 L129.862 573 L129.862 564.852 L114.26 564.852 L114.26 560.338 L128.635 538.44 Z\" fill=\"#000000\" fill-rule=\"evenodd\" fill-opacity=\"1\" /><path clip-path=\"url(#clip940)\" d=\"M118.543 290.595 L136.899 290.595 L136.899 294.53 L122.825 294.53 L122.825 303.002 Q123.843 302.655 124.862 302.493 Q125.88 302.308 126.899 302.308 Q132.686 302.308 136.066 305.479 Q139.445 308.65 139.445 314.067 Q139.445 319.646 135.973 322.748 Q132.501 325.826 126.181 325.826 Q124.005 325.826 121.737 325.456 Q119.492 325.085 117.084 324.345 L117.084 319.646 Q119.168 320.78 121.39 321.335 Q123.612 321.891 126.089 321.891 Q130.093 321.891 132.431 319.785 Q134.769 317.678 134.769 314.067 Q134.769 310.456 132.431 308.349 Q130.093 306.243 126.089 306.243 Q124.214 306.243 122.339 306.66 Q120.487 307.076 118.543 307.956 L118.543 290.595 Z\" fill=\"#000000\" fill-rule=\"evenodd\" fill-opacity=\"1\" /><path clip-path=\"url(#clip940)\" d=\"M67.3143 801.879 Q73.68 804.362 75.6216 806.717 Q77.5631 809.072 77.5631 813.019 L77.5631 817.698 L72.6615 817.698 L72.6615 814.26 Q72.6615 811.841 71.5157 810.505 Q70.3699 809.168 66.1048 807.545 L63.4312 806.494 L28.3562 820.913 L28.3562 814.706 L56.238 803.566 L28.3562 792.426 L28.3562 786.219 L67.3143 801.879 Z\" fill=\"#000000\" fill-rule=\"evenodd\" fill-opacity=\"1\" /><path clip-path=\"url(#clip940)\" d=\"M491.176 33.264 L502.194 33.264 L529.011 83.8598 L529.011 33.264 L536.951 33.264 L536.951 93.744 L525.933 93.744 L499.116 43.1482 L499.116 93.744 L491.176 93.744 L491.176 33.264 Z\" fill=\"#000000\" fill-rule=\"evenodd\" fill-opacity=\"1\" /><path clip-path=\"url(#clip940)\" d=\"M590.626 48.3739 L574.219 70.4513 L591.476 93.744 L582.686 93.744 L569.48 75.92 L556.274 93.744 L547.483 93.744 L565.105 70.0057 L548.982 48.3739 L557.773 48.3739 L569.804 64.537 L581.835 48.3739 L590.626 48.3739 Z\" fill=\"#000000\" fill-rule=\"evenodd\" fill-opacity=\"1\" /><path clip-path=\"url(#clip940)\" d=\"M602.981 56.0706 L654.913 56.0706 L654.913 62.8761 L602.981 62.8761 L602.981 56.0706 M602.981 72.5983 L654.913 72.5983 L654.913 79.4848 L602.981 79.4848 L602.981 72.5983 Z\" fill=\"#000000\" fill-rule=\"evenodd\" fill-opacity=\"1\" /><path clip-path=\"url(#clip940)\" d=\"M672.656 33.264 L704.78 33.264 L704.78 40.1505 L680.15 40.1505 L680.15 54.9768 Q681.933 54.3692 683.715 54.0856 Q685.498 53.7616 687.28 53.7616 Q697.407 53.7616 703.322 59.3113 Q709.236 64.8611 709.236 74.3402 Q709.236 84.1028 703.16 89.5311 Q697.083 94.9188 686.024 94.9188 Q682.216 94.9188 678.247 94.2706 Q674.317 93.6225 670.104 92.3262 L670.104 84.1028 Q673.75 86.0878 677.639 87.06 Q681.528 88.0322 685.862 88.0322 Q692.87 88.0322 696.962 84.3459 Q701.053 80.6596 701.053 74.3402 Q701.053 68.0208 696.962 64.3344 Q692.87 60.6481 685.862 60.6481 Q682.581 60.6481 679.3 61.3773 Q676.059 62.1064 672.656 63.6458 L672.656 33.264 Z\" fill=\"#000000\" fill-rule=\"evenodd\" fill-opacity=\"1\" /><path clip-path=\"url(#clip940)\" d=\"M726.209 83.4547 L734.757 83.4547 L734.757 90.4223 L728.113 103.385 L722.888 103.385 L726.209 90.4223 L726.209 83.4547 Z\" fill=\"#000000\" fill-rule=\"evenodd\" fill-opacity=\"1\" /><path clip-path=\"url(#clip940)\" d=\"M751.001 33.264 L762.019 33.264 L788.836 83.8598 L788.836 33.264 L796.776 33.264 L796.776 93.744 L785.758 93.744 L758.941 43.1482 L758.941 93.744 L751.001 93.744 L751.001 33.264 Z\" fill=\"#000000\" fill-rule=\"evenodd\" fill-opacity=\"1\" /><path clip-path=\"url(#clip940)\" d=\"M831.614 97.9569 Q828.454 106.059 825.456 108.53 Q822.459 111.001 817.436 111.001 L811.481 111.001 L811.481 104.762 L815.856 104.762 Q818.934 104.762 820.636 103.304 Q822.337 101.846 824.403 96.4176 L825.74 93.0148 L807.389 48.3739 L815.289 48.3739 L829.467 83.8598 L843.645 48.3739 L851.544 48.3739 L831.614 97.9569 Z\" fill=\"#000000\" fill-rule=\"evenodd\" fill-opacity=\"1\" /><path clip-path=\"url(#clip940)\" d=\"M862.806 56.0706 L914.738 56.0706 L914.738 62.8761 L862.806 62.8761 L862.806 56.0706 M862.806 72.5983 L914.738 72.5983 L914.738 79.4848 L862.806 79.4848 L862.806 72.5983 Z\" fill=\"#000000\" fill-rule=\"evenodd\" fill-opacity=\"1\" /><path clip-path=\"url(#clip940)\" d=\"M932.481 33.264 L964.605 33.264 L964.605 40.1505 L939.975 40.1505 L939.975 54.9768 Q941.758 54.3692 943.54 54.0856 Q945.323 53.7616 947.105 53.7616 Q957.232 53.7616 963.147 59.3113 Q969.061 64.8611 969.061 74.3402 Q969.061 84.1028 962.985 89.5311 Q956.908 94.9188 945.849 94.9188 Q942.041 94.9188 938.072 94.2706 Q934.142 93.6225 929.929 92.3262 L929.929 84.1028 Q933.575 86.0878 937.464 87.06 Q941.353 88.0322 945.687 88.0322 Q952.695 88.0322 956.787 84.3459 Q960.878 80.6596 960.878 74.3402 Q960.878 68.0208 956.787 64.3344 Q952.695 60.6481 945.687 60.6481 Q942.406 60.6481 939.125 61.3773 Q935.884 62.1064 932.481 63.6458 L932.481 33.264 Z\" fill=\"#000000\" fill-rule=\"evenodd\" fill-opacity=\"1\" /><path clip-path=\"url(#clip940)\" d=\"M986.034 83.4547 L994.582 83.4547 L994.582 90.4223 L987.938 103.385 L982.713 103.385 L986.034 90.4223 L986.034 83.4547 Z\" fill=\"#000000\" fill-rule=\"evenodd\" fill-opacity=\"1\" /><path clip-path=\"url(#clip940)\" d=\"M1043.15 50.1158 L1043.15 57.0833 Q1039.99 55.3414 1036.79 54.4907 Q1033.63 53.5995 1030.39 53.5995 Q1023.14 53.5995 1019.13 58.2176 Q1015.12 62.7951 1015.12 71.0994 Q1015.12 79.4038 1019.13 84.0218 Q1023.14 88.5994 1030.39 88.5994 Q1033.63 88.5994 1036.79 87.7487 Q1039.99 86.8575 1043.15 85.1156 L1043.15 92.0021 Q1040.03 93.4604 1036.67 94.1896 Q1033.35 94.9188 1029.58 94.9188 Q1019.33 94.9188 1013.3 88.4778 Q1007.26 82.0369 1007.26 71.0994 Q1007.26 60 1013.34 53.64 Q1019.45 47.2801 1030.07 47.2801 Q1033.51 47.2801 1036.79 48.0093 Q1040.07 48.6979 1043.15 50.1158 Z\" fill=\"#000000\" fill-rule=\"evenodd\" fill-opacity=\"1\" /><path clip-path=\"url(#clip940)\" d=\"M1073.7 53.5995 Q1067.7 53.5995 1064.22 58.2986 Q1060.73 62.9571 1060.73 71.0994 Q1060.73 79.2418 1064.18 83.9408 Q1067.66 88.5994 1073.7 88.5994 Q1079.65 88.5994 1083.13 83.9003 Q1086.62 79.2013 1086.62 71.0994 Q1086.62 63.0381 1083.13 58.3391 Q1079.65 53.5995 1073.7 53.5995 M1073.7 47.2801 Q1083.42 47.2801 1088.97 53.5995 Q1094.52 59.9189 1094.52 71.0994 Q1094.52 82.2394 1088.97 88.5994 Q1083.42 94.9188 1073.7 94.9188 Q1063.93 94.9188 1058.38 88.5994 Q1052.87 82.2394 1052.87 71.0994 Q1052.87 59.9189 1058.38 53.5995 Q1063.93 47.2801 1073.7 47.2801 Z\" fill=\"#000000\" fill-rule=\"evenodd\" fill-opacity=\"1\" /><path clip-path=\"url(#clip940)\" d=\"M1107.84 56.0706 L1159.78 56.0706 L1159.78 62.8761 L1107.84 62.8761 L1107.84 56.0706 M1107.84 72.5983 L1159.78 72.5983 L1159.78 79.4848 L1107.84 79.4848 L1107.84 72.5983 Z\" fill=\"#000000\" fill-rule=\"evenodd\" fill-opacity=\"1\" /><path clip-path=\"url(#clip940)\" d=\"M1177.52 33.264 L1209.64 33.264 L1209.64 40.1505 L1185.01 40.1505 L1185.01 54.9768 Q1186.8 54.3692 1188.58 54.0856 Q1190.36 53.7616 1192.14 53.7616 Q1202.27 53.7616 1208.19 59.3113 Q1214.1 64.8611 1214.1 74.3402 Q1214.1 84.1028 1208.02 89.5311 Q1201.95 94.9188 1190.89 94.9188 Q1187.08 94.9188 1183.11 94.2706 Q1179.18 93.6225 1174.97 92.3262 L1174.97 84.1028 Q1178.61 86.0878 1182.5 87.06 Q1186.39 88.0322 1190.73 88.0322 Q1197.73 88.0322 1201.83 84.3459 Q1205.92 80.6596 1205.92 74.3402 Q1205.92 68.0208 1201.83 64.3344 Q1197.73 60.6481 1190.73 60.6481 Q1187.45 60.6481 1184.16 61.3773 Q1180.92 62.1064 1177.52 63.6458 L1177.52 33.264 Z\" fill=\"#000000\" fill-rule=\"evenodd\" fill-opacity=\"1\" /><path clip-path=\"url(#clip940)\" d=\"M1231.07 83.4547 L1239.62 83.4547 L1239.62 90.4223 L1232.98 103.385 L1227.75 103.385 L1231.07 90.4223 L1231.07 83.4547 Z\" fill=\"#000000\" fill-rule=\"evenodd\" fill-opacity=\"1\" /><path clip-path=\"url(#clip940)\" d=\"M1264.05 39.9885 L1264.05 62.7141 L1274.34 62.7141 Q1280.05 62.7141 1283.17 59.7569 Q1286.29 56.7998 1286.29 51.331 Q1286.29 45.9028 1283.17 42.9457 Q1280.05 39.9885 1274.34 39.9885 L1264.05 39.9885 M1255.87 33.264 L1274.34 33.264 Q1284.5 33.264 1289.69 37.882 Q1294.92 42.4596 1294.92 51.331 Q1294.92 60.2835 1289.69 64.8611 Q1284.5 69.4386 1274.34 69.4386 L1264.05 69.4386 L1264.05 93.744 L1255.87 93.744 L1255.87 33.264 Z\" fill=\"#000000\" fill-rule=\"evenodd\" fill-opacity=\"1\" /><path clip-path=\"url(#clip940)\" d=\"M1305.89 33.264 L1316.91 33.264 L1343.73 83.8598 L1343.73 33.264 L1351.67 33.264 L1351.67 93.744 L1340.65 93.744 L1313.83 43.1482 L1313.83 93.744 L1305.89 93.744 L1305.89 33.264 Z\" fill=\"#000000\" fill-rule=\"evenodd\" fill-opacity=\"1\" /><path clip-path=\"url(#clip940)\" d=\"M1368.6 56.0706 L1420.53 56.0706 L1420.53 62.8761 L1368.6 62.8761 L1368.6 56.0706 M1368.6 72.5983 L1420.53 72.5983 L1420.53 79.4848 L1368.6 79.4848 L1368.6 72.5983 Z\" fill=\"#000000\" fill-rule=\"evenodd\" fill-opacity=\"1\" /><path clip-path=\"url(#clip940)\" d=\"M1445.24 86.8575 L1473.8 86.8575 L1473.8 93.744 L1435.4 93.744 L1435.4 86.8575 Q1440.06 82.0369 1448.08 73.9351 Q1456.14 65.7928 1458.21 63.4432 Q1462.14 59.0278 1463.68 55.9896 Q1465.26 52.9109 1465.26 49.9537 Q1465.26 45.1331 1461.85 42.095 Q1458.49 39.0568 1453.06 39.0568 Q1449.21 39.0568 1444.92 40.3936 Q1440.67 41.7304 1435.81 44.4445 L1435.81 36.1807 Q1440.75 34.1957 1445.04 33.183 Q1449.34 32.1703 1452.9 32.1703 Q1462.3 32.1703 1467.89 36.8693 Q1473.48 41.5684 1473.48 49.4271 Q1473.48 53.1539 1472.06 56.5162 Q1470.68 59.8379 1467 64.3749 Q1465.99 65.5497 1460.56 71.1805 Q1455.13 76.7707 1445.24 86.8575 Z\" fill=\"#000000\" fill-rule=\"evenodd\" fill-opacity=\"1\" /><path clip-path=\"url(#clip940)\" d=\"M1490.98 83.4547 L1499.53 83.4547 L1499.53 93.744 L1490.98 93.744 L1490.98 83.4547 Z\" fill=\"#000000\" fill-rule=\"evenodd\" fill-opacity=\"1\" /><path clip-path=\"url(#clip940)\" d=\"M1534.85 38.6517 Q1528.53 38.6517 1525.33 44.8901 Q1522.17 51.088 1522.17 63.5648 Q1522.17 76.001 1525.33 82.2394 Q1528.53 88.4373 1534.85 88.4373 Q1541.21 88.4373 1544.37 82.2394 Q1547.57 76.001 1547.57 63.5648 Q1547.57 51.088 1544.37 44.8901 Q1541.21 38.6517 1534.85 38.6517 M1534.85 32.1703 Q1545.02 32.1703 1550.37 40.2316 Q1555.75 48.2523 1555.75 63.5648 Q1555.75 78.8367 1550.37 86.898 Q1545.02 94.9188 1534.85 94.9188 Q1524.68 94.9188 1519.3 86.898 Q1513.95 78.8367 1513.95 63.5648 Q1513.95 48.2523 1519.3 40.2316 Q1524.68 32.1703 1534.85 32.1703 Z\" fill=\"#000000\" fill-rule=\"evenodd\" fill-opacity=\"1\" /><path clip-path=\"url(#clip940)\" d=\"M1570.98 83.4547 L1579.53 83.4547 L1579.53 90.4223 L1572.89 103.385 L1567.66 103.385 L1570.98 90.4223 L1570.98 83.4547 Z\" fill=\"#000000\" fill-rule=\"evenodd\" fill-opacity=\"1\" /><path clip-path=\"url(#clip940)\" d=\"M1594.84 33.264 L1603.07 33.264 L1603.07 70.0057 Q1603.07 79.7279 1606.59 84.0218 Q1610.12 88.2753 1618.02 88.2753 Q1625.87 88.2753 1629.4 84.0218 Q1632.92 79.7279 1632.92 70.0057 L1632.92 33.264 L1641.15 33.264 L1641.15 71.0184 Q1641.15 82.8471 1635.27 88.8829 Q1629.44 94.9188 1618.02 94.9188 Q1606.55 94.9188 1600.68 88.8829 Q1594.84 82.8471 1594.84 71.0184 L1594.84 33.264 Z\" fill=\"#000000\" fill-rule=\"evenodd\" fill-opacity=\"1\" /><path clip-path=\"url(#clip940)\" d=\"M1657.15 56.0706 L1709.08 56.0706 L1709.08 62.8761 L1657.15 62.8761 L1657.15 56.0706 M1657.15 72.5983 L1709.08 72.5983 L1709.08 79.4848 L1657.15 79.4848 L1657.15 72.5983 Z\" fill=\"#000000\" fill-rule=\"evenodd\" fill-opacity=\"1\" /><path clip-path=\"url(#clip940)\" d=\"M1733.79 86.8575 L1762.35 86.8575 L1762.35 93.744 L1723.95 93.744 L1723.95 86.8575 Q1728.61 82.0369 1736.63 73.9351 Q1744.69 65.7928 1746.75 63.4432 Q1750.68 59.0278 1752.22 55.9896 Q1753.8 52.9109 1753.8 49.9537 Q1753.8 45.1331 1750.4 42.095 Q1747.04 39.0568 1741.61 39.0568 Q1737.76 39.0568 1733.47 40.3936 Q1729.21 41.7304 1724.35 44.4445 L1724.35 36.1807 Q1729.29 34.1957 1733.59 33.183 Q1737.88 32.1703 1741.45 32.1703 Q1750.84 32.1703 1756.44 36.8693 Q1762.03 41.5684 1762.03 49.4271 Q1762.03 53.1539 1760.61 56.5162 Q1759.23 59.8379 1755.54 64.3749 Q1754.53 65.5497 1749.1 71.1805 Q1743.67 76.7707 1733.79 86.8575 Z\" fill=\"#000000\" fill-rule=\"evenodd\" fill-opacity=\"1\" /><path clip-path=\"url(#clip940)\" d=\"M1034.6 130.709 L1034.6 153.434 L1044.89 153.434 Q1050.61 153.434 1053.72 150.477 Q1056.84 147.52 1056.84 142.051 Q1056.84 136.623 1053.72 133.666 Q1050.61 130.709 1044.89 130.709 L1034.6 130.709 M1026.42 123.984 L1044.89 123.984 Q1055.06 123.984 1060.25 128.602 Q1065.47 133.18 1065.47 142.051 Q1065.47 151.004 1060.25 155.581 Q1055.06 160.159 1044.89 160.159 L1034.6 160.159 L1034.6 184.464 L1026.42 184.464 L1026.42 123.984 Z\" fill=\"#000000\" fill-rule=\"evenodd\" fill-opacity=\"1\" /><path clip-path=\"url(#clip940)\" d=\"M1103.59 140.431 L1103.59 147.479 Q1100.43 145.859 1097.03 145.049 Q1093.63 144.239 1089.98 144.239 Q1084.43 144.239 1081.64 145.94 Q1078.88 147.641 1078.88 151.044 Q1078.88 153.637 1080.87 155.135 Q1082.85 156.594 1088.85 157.931 L1091.4 158.498 Q1099.34 160.199 1102.66 163.318 Q1106.02 166.397 1106.02 171.947 Q1106.02 178.266 1101 181.952 Q1096.02 185.639 1087.27 185.639 Q1083.62 185.639 1079.65 184.91 Q1075.72 184.221 1071.35 182.803 L1071.35 175.106 Q1075.48 177.253 1079.49 178.347 Q1083.5 179.4 1087.43 179.4 Q1092.69 179.4 1095.53 177.618 Q1098.37 175.795 1098.37 172.514 Q1098.37 169.476 1096.3 167.855 Q1094.27 166.235 1087.35 164.736 L1084.75 164.128 Q1077.83 162.67 1074.75 159.672 Q1071.67 156.634 1071.67 151.368 Q1071.67 144.968 1076.21 141.484 Q1080.74 138 1089.09 138 Q1093.22 138 1096.87 138.608 Q1100.51 139.215 1103.59 140.431 Z\" fill=\"#000000\" fill-rule=\"evenodd\" fill-opacity=\"1\" /><path clip-path=\"url(#clip940)\" d=\"M1117.89 139.094 L1125.34 139.094 L1125.34 184.464 L1117.89 184.464 L1117.89 139.094 M1117.89 121.432 L1125.34 121.432 L1125.34 130.871 L1117.89 130.871 L1117.89 121.432 Z\" fill=\"#000000\" fill-rule=\"evenodd\" fill-opacity=\"1\" /><path clip-path=\"url(#clip940)\" d=\"M1158.85 121.513 Q1153.42 130.83 1150.78 139.945 Q1148.15 149.059 1148.15 158.417 Q1148.15 167.774 1150.78 176.97 Q1153.46 186.125 1158.85 195.401 L1152.36 195.401 Q1146.29 185.882 1143.25 176.686 Q1140.25 167.491 1140.25 158.417 Q1140.25 149.383 1143.25 140.228 Q1146.25 131.073 1152.36 121.513 L1158.85 121.513 Z\" fill=\"#000000\" fill-rule=\"evenodd\" fill-opacity=\"1\" /><path clip-path=\"url(#clip940)\" d=\"M1175.78 177.577 L1189.15 177.577 L1189.15 131.438 L1174.6 134.354 L1174.6 126.901 L1189.07 123.984 L1197.25 123.984 L1197.25 177.577 L1210.62 177.577 L1210.62 184.464 L1175.78 184.464 L1175.78 177.577 Z\" fill=\"#000000\" fill-rule=\"evenodd\" fill-opacity=\"1\" /><path clip-path=\"url(#clip940)\" d=\"M1227.23 123.984 L1259.35 123.984 L1259.35 130.871 L1234.72 130.871 L1234.72 145.697 Q1236.5 145.089 1238.28 144.806 Q1240.07 144.482 1241.85 144.482 Q1251.98 144.482 1257.89 150.031 Q1263.8 155.581 1263.8 165.06 Q1263.8 174.823 1257.73 180.251 Q1251.65 185.639 1240.59 185.639 Q1236.79 185.639 1232.82 184.991 Q1228.89 184.342 1224.67 183.046 L1224.67 174.823 Q1228.32 176.808 1232.21 177.78 Q1236.1 178.752 1240.43 178.752 Q1247.44 178.752 1251.53 175.066 Q1255.62 171.38 1255.62 165.06 Q1255.62 158.741 1251.53 155.054 Q1247.44 151.368 1240.43 151.368 Q1237.15 151.368 1233.87 152.097 Q1230.63 152.826 1227.23 154.366 L1227.23 123.984 Z\" fill=\"#000000\" fill-rule=\"evenodd\" fill-opacity=\"1\" /><path clip-path=\"url(#clip940)\" d=\"M1277.7 121.513 L1284.18 121.513 Q1290.26 131.073 1293.25 140.228 Q1296.29 149.383 1296.29 158.417 Q1296.29 167.491 1293.25 176.686 Q1290.26 185.882 1284.18 195.401 L1277.7 195.401 Q1283.09 186.125 1285.72 176.97 Q1288.39 167.774 1288.39 158.417 Q1288.39 149.059 1285.72 139.945 Q1283.09 130.83 1277.7 121.513 Z\" fill=\"#000000\" fill-rule=\"evenodd\" fill-opacity=\"1\" /><g clip-path=\"url(#clip942)\">\n",
       "<image width=\"1937\" height=\"1239\" xlink:href=\"data:image/png;base64,\n",
       "iVBORw0KGgoAAAANSUhEUgAAB5EAAATXCAYAAADHrYLCAAAgAElEQVR4nOzbITLEARyGYcwSDIEo\n",
       "bDAUWRZEhzAO4xDbZMUxRNkJNm4ymqG9V/j9ZzzPCb7+zrd/d/vyuwfAv/ew3k1PAGDY+/ZsegIA\n",
       "C3B6+DM9AYBhr9vN9AQAhh1MDwAAAAAAAABgOURkAAAAAAAAACIiAwAAAAAAABARGQAAAAAAAICI\n",
       "yAAAAAAAAABERAYAAAAAAAAgIjIAAAAAAAAAEZEBAAAAAAAAiIgMAAAAAAAAQERkAAAAAAAAACIi\n",
       "AwAAAAAAABARGQAAAAAAAICIyAAAAAAAAABERAYAAAAAAAAgIjIAAAAAAAAAEZEBAAAAAAAAiIgM\n",
       "AAAAAAAAQERkAAAAAAAAACIiAwAAAAAAABARGQAAAAAAAICIyAAAAAAAAABERAYAAAAAAAAgIjIA\n",
       "AAAAAAAAEZEBAAAAAAAAiIgMAAAAAAAAQERkAAAAAAAAACIiAwAAAAAAABARGQAAAAAAAICIyAAA\n",
       "AAAAAABERAYAAAAAAAAgIjIAAAAAAAAAEZEBAAAAAAAAiIgMAAAAAAAAQERkAAAAAAAAACIiAwAA\n",
       "AAAAABARGQAAAAAAAICIyAAAAAAAAABERAYAAAAAAAAgIjIAAAAAAAAAEZEBAAAAAAAAiIgMAAAA\n",
       "AAAAQERkAAAAAAAAACIiAwAAAAAAABARGQAAAAAAAICIyAAAAAAAAABERAYAAAAAAAAgIjIAAAAA\n",
       "AAAAEZEBAAAAAAAAiIgMAAAAAAAAQERkAAAAAAAAACIiAwAAAAAAABARGQAAAAAAAICIyAAAAAAA\n",
       "AABERAYAAAAAAAAgIjIAAAAAAAAAEZEBAAAAAAAAiIgMAAAAAAAAQERkAAAAAAAAACIiAwAAAAAA\n",
       "ABARGQAAAAAAAICIyAAAAAAAAABERAYAAAAAAAAgIjIAAAAAAAAAEZEBAAAAAAAAiIgMAAAAAAAA\n",
       "QERkAAAAAAAAACIiAwAAAAAAABARGQAAAAAAAICIyAAAAAAAAABERAYAAAAAAAAgIjIAAAAAAAAA\n",
       "EZEBAAAAAAAAiIgMAAAAAAAAQERkAAAAAAAAACIiAwAAAAAAABARGQAAAAAAAICIyAAAAAAAAABE\n",
       "RAYAAAAAAAAgIjIAAAAAAAAAEZEBAAAAAAAAiIgMAAAAAAAAQERkAAAAAAAAACIiAwAAAAAAABAR\n",
       "GQAAAAAAAICIyAAAAAAAAABERAYAAAAAAAAgIjIAAAAAAAAAEZEBAAAAAAAAiIgMAAAAAAAAQERk\n",
       "AAAAAAAAACIiAwAAAAAAABARGQAAAAAAAICIyAAAAAAAAABERAYAAAAAAAAgIjIAAAAAAAAAEZEB\n",
       "AAAAAAAAiIgMAAAAAAAAQERkAAAAAAAAACIiAwAAAAAAABARGQAAAAAAAICIyAAAAAAAAABERAYA\n",
       "AAAAAAAgIjIAAAAAAAAAEZEBAAAAAAAAiIgMAAAAAAAAQERkAAAAAAAAACIiAwAAAAAAABARGQAA\n",
       "AAAAAICIyAAAAAAAAABERAYAAAAAAAAgIjIAAAAAAAAAEZEBAAAAAAAAiIgMAAAAAAAAQERkAAAA\n",
       "AAAAACIiAwAAAAAAABARGQAAAAAAAICIyAAAAAAAAABERAYAAAAAAAAgIjIAAAAAAAAAEZEBAAAA\n",
       "AAAAiIgMAAAAAAAAQERkAAAAAAAAACIiAwAAAAAAABARGQAAAAAAAICIyAAAAAAAAABERAYAAAAA\n",
       "AAAgIjIAAAAAAAAAEZEBAAAAAAAAiIgMAAAAAAAAQERkAAAAAAAAACIiAwAAAAAAABARGQAAAAAA\n",
       "AICIyAAAAAAAAABERAYAAAAAAAAgIjIAAAAAAAAAEZEBAAAAAAAAiIgMAAAAAAAAQERkAAAAAAAA\n",
       "ACIiAwAAAAAAABARGQAAAAAAAICIyAAAAAAAAABERAYAAAAAAAAgIjIAAAAAAAAAEZEBAAAAAAAA\n",
       "iIgMAAAAAAAAQERkAAAAAAAAACIiAwAAAAAAABARGQAAAAAAAICIyAAAAAAAAABERAYAAAAAAAAg\n",
       "IjIAAAAAAAAAEZEBAAAAAAAAiIgMAAAAAAAAQERkAAAAAAAAACIiAwAAAAAAABARGQAAAAAAAICI\n",
       "yAAAAAAAAABERAYAAAAAAAAgIjIAAAAAAAAAEZEBAAAAAAAAiIgMAAAAAAAAQERkAAAAAAAAACIi\n",
       "AwAAAAAAABARGQAAAAAAAICIyAAAAAAAAABERAYAAAAAAAAgIjIAAAAAAAAAEZEBAAAAAAAAiIgM\n",
       "AAAAAAAAQERkAAAAAAAAACIiAwAAAAAAABARGQAAAAAAAICIyAAAAAAAAABERAYAAAAAAAAgIjIA\n",
       "AAAAAAAAEZEBAAAAAAAAiIgMAAAAAAAAQERkAAAAAAAAACIiAwAAAAAAABARGQAAAAAAAICIyAAA\n",
       "AAAAAABERAYAAAAAAAAgIjIAAAAAAAAAEZEBAAAAAAAAiIgMAAAAAAAAQERkAAAAAAAAACIiAwAA\n",
       "AAAAABARGQAAAAAAAICIyAAAAAAAAABERAYAAAAAAAAgIjIAAAAAAAAAEZEBAAAAAAAAiIgMAAAA\n",
       "AAAAQERkAAAAAAAAACIiAwAAAAAAABARGQAAAAAAAICIyAAAAAAAAABERAYAAAAAAAAgIjIAAAAA\n",
       "AAAAEZEBAAAAAAAAiIgMAAAAAAAAQERkAAAAAAAAACIiAwAAAAAAABARGQAAAAAAAICIyAAAAAAA\n",
       "AABERAYAAAAAAAAgIjIAAAAAAAAAEZEBAAAAAAAAiIgMAAAAAAAAQERkAAAAAAAAACIiAwAAAAAA\n",
       "ABARGQAAAAAAAICIyAAAAAAAAABERAYAAAAAAAAgIjIAAAAAAAAAEZEBAAAAAAAAiIgMAAAAAAAA\n",
       "QERkAAAAAAAAACIiAwAAAAAAABARGQAAAAAAAICIyAAAAAAAAABERAYAAAAAAAAgIjIAAAAAAAAA\n",
       "EZEBAAAAAAAAiIgMAAAAAAAAQERkAAAAAAAAACIiAwAAAAAAABARGQAAAAAAAICIyAAAAAAAAABE\n",
       "RAYAAAAAAAAgIjIAAAAAAAAAEZEBAAAAAAAAiIgMAAAAAAAAQERkAAAAAAAAACIiAwAAAAAAABAR\n",
       "GQAAAAAAAICIyAAAAAAAAABERAYAAAAAAAAgIjIAAAAAAAAAEZEBAAAAAAAAiIgMAAAAAAAAQERk\n",
       "AAAAAAAAACIiAwAAAAAAABARGQAAAAAAAICIyAAAAAAAAABERAYAAAAAAAAgIjIAAAAAAAAAWT2s\n",
       "d9MbAFiAp6uP6QkADFsf30xPAGABNp8X0xMAGHZwdDY9AYBhnsgAAAAAAAAAREQGAAAAAAAAICIy\n",
       "AAAAAAAAABGRAQAAAAAAAIiIDAAAAAAAAEBEZAAAAAAAAAAiIgMAAAAAAAAQERkAAAAAAACAiMgA\n",
       "AAAAAAAAREQGAAAAAAAAICIyAAAAAAAAABGRAQAAAAAAAIiIDAAAAAAAAEBEZAAAAAAAAAAiIgMA\n",
       "AAAAAAAQERkAAAAAAACAiMgAAAAAAAAAREQGAAAAAAAAICIyAAAAAAAAABGRAQAAAAAAAIiIDAAA\n",
       "AAAAAEBEZAAAAAAAAAAiIgMAAAAAAAAQERkAAAAAAACAiMgAAAAAAAAAREQGAAAAAAAAICIyAAAA\n",
       "AAAAABGRAQAAAAAAAIiIDAAAAAAAAEBEZAAAAAAAAAAiIgMAAAAAAAAQERkAAAAAAACAiMgAAAAA\n",
       "AAAAREQGAAAAAAAAICIyAAAAAAAAABGRAQAAAAAAAIiIDAAAAAAAAEBEZAAAAAAAAAAiIgMAAAAA\n",
       "AAAQERkAAAAAAACAiMgAAAAAAAAAREQGAAAAAAAAICIyAAAAAAAAABGRAQAAAAAAAIiIDAAAAAAA\n",
       "AEBEZAAAAAAAAAAiIgMAAAAAAAAQERkAAAAAAACAiMgAAAAAAAAAREQGAAAAAAAAICIyAAAAAAAA\n",
       "ABGRAQAAAAAAAIiIDAAAAAAAAEBEZAAAAAAAAAAiIgMAAAAAAAAQERkAAAAAAACAiMgAAAAAAAAA\n",
       "REQGAAAAAAAAICIyAAAAAAAAABGRAQAAAAAAAIiIDAAAAAAAAEBEZAAAAAAAAAAiIgMAAAAAAAAQ\n",
       "ERkAAAAAAACAiMgAAAAAAAAAREQGAAAAAAAAICIyAAAAAAAAABGRAQAAAAAAAIiIDAAAAAAAAEBE\n",
       "ZAAAAAAAAAAiIgMAAAAAAAAQERkAAAAAAACAiMgAAAAAAAAAREQGAAAAAAAAICIyAAAAAAAAABGR\n",
       "AQAAAAAAAIiIDAAAAAAAAEBEZAAAAAAAAAAiIgMAAAAAAAAQERkAAAAAAACAiMgAAAAAAAAAREQG\n",
       "AAAAAAAAICIyAAAAAAAAABGRAQAAAAAAAIiIDAAAAAAAAEBEZAAAAAAAAAAiIgMAAAAAAAAQERkA\n",
       "AAAAAACAiMgAAAAAAAAAREQGAAAAAAAAICIyAAAAAAAAABGRAQAAAAAAAIiIDAAAAAAAAEBEZAAA\n",
       "AAAAAAAiIgMAAAAAAAAQERkAAAAAAACAiMgAAAAAAAAAREQGAAAAAAAAICIyAAAAAAAAABGRAQAA\n",
       "AAAAAIiIDAAAAAAAAEBEZAAAAAAAAAAiIgMAAAAAAAAQERkAAAAAAACAiMgAAAAAAAAAREQGAAAA\n",
       "AAAAICIyAAAAAAAAABGRAQAAAAAAAIiIDAAAAAAAAEBEZAAAAAAAAAAiIgMAAAAAAAAQERkAAAAA\n",
       "AACAiMgAAAAAAAAAREQGAAAAAAAAICIyAAAAAAAAABGRAQAAAAAAAIiIDAAAAAAAAEBEZAAAAAAA\n",
       "AAAiIgMAAAAAAAAQERkAAAAAAACAiMgAAAAAAAAAREQGAAAAAAAAICIyAAAAAAAAABGRAQAAAAAA\n",
       "AIiIDAAAAAAAAEBEZAAAAAAAAAAiIgMAAAAAAAAQERkAAAAAAACAiMgAAAAAAAAAREQGAAAAAAAA\n",
       "ICIyAAAAAAAAABGRAQAAAAAAAIiIDAAAAAAAAEBEZAAAAAAAAAAiIgMAAAAAAAAQERkAAAAAAACA\n",
       "iMgAAAAAAAAAREQGAAAAAAAAICIyAAAAAAAAABGRAQAAAAAAAIiIDAAAAAAAAEBEZAAAAAAAAAAi\n",
       "IgMAAAAAAAAQERkAAAAAAACAiMgAAAAAAAAAREQGAAAAAAAAICIyAAAAAAAAABGRAQAAAAAAAIiI\n",
       "DAAAAAAAAEBEZAAAAAAAAAAiIgMAAAAAAAAQERkAAAAAAACAiMgAAAAAAAAAREQGAAAAAAAAICIy\n",
       "AAAAAAAAABGRAQAAAAAAAIiIDAAAAAAAAEBEZAAAAAAAAAAiIgMAAAAAAAAQERkAAAAAAACAiMgA\n",
       "AAAAAAAAREQGAAAAAAAAICIyAAAAAAAAABGRAQAAAAAAAIiIDAAAAAAAAEBEZAAAAAAAAAAiIgMA\n",
       "AAAAAAAQERkAAAAAAACAiMgAAAAAAAAAREQGAAAAAAAAICIyAAAAAAAAABGRAQAAAAAAAIiIDAAA\n",
       "AAAAAEBEZAAAAAAAAAAiIgMAAAAAAAAQERkAAAAAAACAiMgAAAAAAAAAREQGAAAAAAAAICIyAAAA\n",
       "AAAAABGRAQAAAAAAAIiIDAAAAAAAAEBEZAAAAAAAAAAiIgMAAAAAAAAQERkAAAAAAACAiMgAAAAA\n",
       "AAAAREQGAAAAAAAAICIyAAAAAAAAABGRAQAAAAAAAIiIDAAAAAAAAEBEZAAAAAAAAAAiIgMAAAAA\n",
       "AAAQERkAAAAAAACAiMgAAAAAAAAAREQGAAAAAAAAICIyAAAAAAAAABGRAQAAAAAAAIiIDAAAAAAA\n",
       "AEBEZAAAAAAAAAAiIgMAAAAAAAAQERkAAAAAAACAiMgAAAAAAAAAREQGAAAAAAAAICIyAAAAAAAA\n",
       "ABGRAQAAAAAAAIiIDAAAAAAAAEBEZAAAAAAAAAAiIgMAAAAAAAAQERkAAAAAAACAiMgAAAAAAAAA\n",
       "REQGAAAAAAAAICIyAAAAAAAAABGRAQAAAAAAAIiIDAAAAAAAAEBEZAAAAAAAAAAiIgMAAAAAAAAQ\n",
       "ERkAAAAAAACAiMgAAAAAAAAAREQGAAAAAAAAICIyAAAAAAAAABGRAQAAAAAAAIiIDAAAAAAAAEBE\n",
       "ZAAAAAAAAAAiIgMAAAAAAAAQERkAAAAAAACAiMgAAAAAAAAAREQGAAAAAAAAICIyAAAAAAAAABGR\n",
       "AQAAAAAAAIiIDAAAAAAAAEBEZAAAAAAAAAAiIgMAAAAAAAAQERkAAAAAAACAiMgAAAAAAAAAREQG\n",
       "AAAAAAAAICIyAAAAAAAAABGRAQAAAAAAAIiIDAAAAAAAAEBEZAAAAAAAAAAiIgMAAAAAAAAQERkA\n",
       "AAAAAACAiMgAAAAAAAAAREQGAAAAAAAAICIyAAAAAAAAABGRAQAAAAAAAIiIDAAAAAAAAEBEZAAA\n",
       "AAAAAAAiIgMAAAAAAACQ1fXJ9/QGABbgfL2dngDAsPvn6QUALMHX42p6AgDD3i7PpycAMMwTGQAA\n",
       "AAAAAICIyAAAAAAAAABERAYAAAAAAAAgIjIAAAAAAAAAEZEBAAAAAAAAiIgMAAAAAAAAQERkAAAA\n",
       "AAAAACIiAwAAAAAAABARGQAAAAAAAICIyAAAAAAAAABERAYAAAAAAAAgIjIAAAAAAAAAEZEBAAAA\n",
       "AAAAiIgMAAAAAAAAQERkAAAAAAAAACIiAwAAAAAAABARGQAAAAAAAICIyAAAAAAAAABERAYAAAAA\n",
       "AAAgIjIAAAAAAAAAEZEBAAAAAAAAiIgMAAAAAAAAQERkAAAAAAAAACIiAwAAAAAAABARGQAAAAAA\n",
       "AICIyAAAAAAAAABERAYAAAAAAAAgIjIAAAAAAAAAEZEBAAAAAAAAiIgMAAAA/LFvhzYNBmAURUNS\n",
       "gWlIJY6kCscAddWMxAoEwxLVzEIFM1S1aWVxd4XvF+dM8PzNAwAAgIjIAAAAAAAAAEREBgAAAAAA\n",
       "ACAiMgAAAAAAAAARkQEAAAAAAACIiAwAAAAAAABARGQAAAAAAAAAIiIDAAAAAAAAEBEZAAAAAAAA\n",
       "gIjIAAAAAAAAAEREBgAAAAAAACAiMgAAAAAAAAARkQEAAAAAAACIiAwAAAAAAABARGQAAAAAAAAA\n",
       "IiIDAAAAAAAAEBEZAAAAAAAAgIjIAAAAAAAAAEREBgAAAAAAACAiMgAAAAAAAAARkQEAAAAAAACI\n",
       "iAwAAAAAAABARGQAAAAAAAAAIiIDAAAAAAAAEBEZAAAAAAAAgIjIAAAAAAAAAEREBgAAAAAAACAi\n",
       "MgAAAAAAAAARkQEAAAAAAACIiAwAAAAAAABARGQAAAAAAAAAIiIDAAAAAAAAEBEZAAAAAAAAgIjI\n",
       "AAAAAAAAAEREBgAAAAAAACAiMgAAAAAAAAARkQEAAAAAAACIiAwAAAAAAABARGQAAAAAAAAAIiID\n",
       "AAAAAAAAEBEZAAAAAAAAgIjIAAAAAAAAAEREBgAAAAAAACAiMgAAAAAAAAARkQEAAAAAAACIiAwA\n",
       "AAAAAABARGQAAAAAAAAAIiIDAAAAAAAAEBEZAAAAAAAAgIjIAAAAAAAAAEREBgAAAAAAACAiMgAA\n",
       "AAAAAAARkQEAAAAAAACIiAwAAAAAAABARGQAAAAAAAAAIiIDAAAAAAAAEBEZAAAAAAAAgIjIAAAA\n",
       "AAAAAEREBgAAAAAAACAiMgAAAAAAAAARkQEAAAAAAACIiAwAAAAAAABARGQAAAAAAAAAIiIDAAAA\n",
       "AAAAEBEZAAAAAAAAgIjIAAAAAAAAAEREBgAAAAAAACAiMgAAAAAAAAARkQEAAAAAAACIiAwAAAAA\n",
       "AABARGQAAAAAAAAAIiIDAAAAAAAAEBEZAAAAAAAAgIjIAAAAAAAAAEREBgAAAAAAACAiMgAAAAAA\n",
       "AAARkQEAAAAAAACIiAwAAAAAAABARGQAAAAAAAAAIiIDAAAAAAAAEBEZAAAAAAAAgIjIAAAAAAAA\n",
       "AEREBgAAAAAAACAiMgAAAAAAAAARkQEAAAAAAACIiAwAAAAAAABARGQAAAAAAAAAIiIDAAAAAAAA\n",
       "EBEZAAAAAAAAgIjIAAAAAAAAAEREBgAAAAAAACAiMgAAAAAAAAARkQEAAAAAAACIiAwAAAAAAABA\n",
       "RGQAAAAAAAAAIiIDAAAAAAAAEBEZAAAAAAAAgIjIAAAAAAAAAEREBgAAAAAAACAiMgAAAAAAAAAR\n",
       "kQEAAAAAAACIiAwAAAAAAABARGQAAAAAAAAAIiIDAAAAAAAAEBEZAAAAAAAAgIjIAAAAAAAAAERE\n",
       "BgAAAAAAACAiMgAAAAAAAAARkQEAAAAAAACIiAwAAAAAAABARGQAAAAAAAAAIiIDAAAAAAAAEBEZ\n",
       "AAAAAAAAgIjIAAAAAAAAAEREBgAAAAAAACAiMgAAAAAAAAARkQEAAAAAAACIiAwAAAAAAABARGQA\n",
       "AAAAAAAAIiIDAAAAAAAAEBEZAAAAAAAAgIjIAAAAAAAAAEREBgAAAAAAACAiMgAAAAAAAAARkQEA\n",
       "AAAAAACIiAwAAAAAAABARGQAAAAAAAAAIiIDAAAAAAAAEBEZAAAAAAAAgIjIAAAAAAAAAEREBgAA\n",
       "AAAAACAiMgAAAAAAAAARkQEAAAAAAACIiAwAAAAAAABARGQAAAAAAAAAIiIDAAAAAAAAEBEZAAAA\n",
       "AAAAgIjIAAAAAAAAAEREBgAAAAAAACAiMgAAAAAAAAARkQEAAAAAAACIiAwAAAAAAABARGQAAAAA\n",
       "AAAAIiIDAAAAAAAAEBEZAAAAAAAAgIjIAAAAAAAAAEREBgAAAAAAACAiMgAAAAAAAAARkQEAAAAA\n",
       "AACIiAwAAAAAAABARGQAAAAAAAAAIiIDAAAAAAAAEBEZAAAAAAAAgIjIAAAAAAAAAEREBgAAAAAA\n",
       "ACAiMgAAAAAAAAARkQEAAAAAAACIiAwAAAAAAABARGQAAAAAAAAAIiIDAAAAAAAAEBEZAAAAAAAA\n",
       "gIjIAAAAAAAAAEREBgAAAAAAACAiMgAAAAAAAAARkQEAAAAAAACIiAwAAAAAAABARGQAAAAAAAAA\n",
       "IiIDAAAAAAAAEBEZAAAAAAAAgIjIAAAAAAAAAEREBgAAAAAAACAiMgAAAAAAAAARkQEAAAAAAACI\n",
       "iAwAAAAAAABARGQAAAAAAAAAIiIDAAAAAAAAEBEZAAAAAAAAgIjIAAAAAAAAAEREBgAAAAAAACAi\n",
       "MgAAAAAAAAARkQEAAAAAAACIiAwAAAAAAABARGQAAAAAAAAAIiIDAAAAAAAAEBEZAAAAAAAAgIjI\n",
       "AAAAAAAAAEREBgAAAAAAACAiMgAAAAAAAAARkQEAAAAAAACIiAwAAAAAAABARGQAAAAAAAAAIiID\n",
       "AAAAAAAAEBEZAAAAAAAAgIjIAAAAAAAAAEREBgAAAAAAACAiMgAAAAAAAAARkQEAAAAAAACIiAwA\n",
       "AAAAAABARGQAAAAAAAAAIiIDAAAAAAAAEBEZAAAAAAAAgIjIAAAAAAAAAEREBgAAAAAAACAiMgAA\n",
       "AAAAAAARkQEAAAAAAACIiAwAAAAAAABARGQAAAAAAAAAIiIDAAAAAAAAEBEZAAAAAAAAgIjIAAAA\n",
       "AAAAAEREBgAAAAAAACAiMgAAAAAAAAARkQEAAAAAAACIiAwAAAAAAABARGQAAAAAAAAAIiIDAAAA\n",
       "AAAAEBEZAAAAAAAAgIjIAAAAAAAAAOTh4/3rPj0CgHnH03p6AgDDtpvL9AQAFuD16To9AYBhz4+3\n",
       "6QkADPNEBgAAAAAAACAiMgAAAAAAAAARkQEAAAAAAACIiAwAAAAAAABARGQAAAAAAAAAIiIDAAAA\n",
       "AAAAEBEZAAAAAAAAgIjIAAAAAAAAAEREBgAAAAAAACAiMgAAAAAAAAARkQEAAAAAAACIiAwAAAAA\n",
       "AABARGQAAAAAAAAAIiIDAAAAAAAAEBEZAAAAAAAAgIjIAAAAAAAAAEREBgAAAAAAACAiMgAAAAAA\n",
       "AAARkQEAAAAAAACIiAwAAAAAAABARGQAAAAAAAAAIiIDAAAAAAAAEBEZAAAAAAAAgIjIAAAAAAAA\n",
       "AEREBgAAAAAAACAiMgAAAAAAAAARkQEAAAAAAACIiAwAAAAAAABARGQAAAAAAAAAIiIDAAAAAAAA\n",
       "EBEZAAAAAAAAgIjIAAAAAAAAAEREBgAAAAAAACAiMgAAAAAAAAARkQEAAAAAAACIiAwAAAAAAABA\n",
       "RGQAAAAAAAAAIiIDAAAAAAAAEBEZAAAAAAAAgIjIAAAAAAAAAEREBgAAAAAAACAiMgAAAAAAAAAR\n",
       "kQEAAAAAAACIiAwAAAAAAABARGQAAAAAAAAAIiIDAAAAAAAAEBEZAAAAAAAAgIjIAAAAAAAAAERE\n",
       "BgAAAAAAACAiMgAAAAAAAAARkQEAAAAAAACIiAwAAAAAAABARGQAAAAAAAAAIiIDAAAAAAAAEBEZ\n",
       "AAAAAAAAgIjIAAAAAAAAAEREBgAAAAAAACAiMgAAAAAAAAARkQEAAAAAAACIiAwAAAAAAABARGQA\n",
       "AAAAAAAAIiIDAAAAAAAAEBEZAAAAAAAAgIjIAAAAAAAAAEREBgAAAAAAACAiMgAAAAAAAAARkQEA\n",
       "AAAAAACIiAwAAAAAAABARGQAAAAAAAAAIiIDAAAAAAAAEBEZAAAAAAAAgIjIAAAAAAAAAEREBgAA\n",
       "AAAAACAiMgAAAAAAAAARkQEAAAAAAACIiAwAAAAAAABARGQAAAAAAAAAIiIDAAAAAAAAEBEZAAAA\n",
       "AAAAgIjIAAAAAAAAAEREBgAAAAAAACAiMgAAAAAAAAARkQEAAAAAAACIiAwAAAAAAABARGQAAAAA\n",
       "AAAAIiIDAAAAAAAAEBEZAAAAAAAAgIjIAAAAAAAAAEREBgAAAAAAACAiMgAAAAAAAAARkQEAAAAA\n",
       "AACIiAwAAAAAAABARGQAAAAAAAAAIiIDAAAAAAAAEBEZAAAAAAAAgIjIAAAAAAAAAEREBgAAAAAA\n",
       "ACAiMgAAAAAAAAARkQEAAAAAAACIiAwAAAAAAABARGQAAAAAAAAAIiIDAAAAAAAAEBEZAAAAAAAA\n",
       "gIjIAAAAAAAAAEREBgAAAAAAACAiMgAAAF1J+eQAAA5VSURBVAAAAAARkQEAAAAAAACIiAwAAAAA\n",
       "AABARGQAAAAAAAAAIiIDAAAAAAAAEBEZAAAAAAAAgIjIAAAAAAAAAEREBgAAAAAAACAiMgAAAAAA\n",
       "AAARkQEAAAAAAACIiAwAAAAAAABARGQAAAAAAAAAIiIDAAAAAAAAEBEZAAAAAAAAgIjIAAAAAAAA\n",
       "AEREBgAAAAAAACAiMgAAAAAAAAARkQEAAAAAAACIiAwAAAAAAABARGQAAAAAAAAAIiIDAAAAAAAA\n",
       "EBEZAAAAAAAAgIjIAAAAAAAAAEREBgAAAAAAACAiMgAAAAAAAAARkQEAAAAAAACIiAwAAAAAAABA\n",
       "RGQAAAAAAAAAIiIDAAAAAAAAEBEZAAAAAAAAgIjIAAAAAAAAAEREBgAAAAAAACAiMgAAAAAAAAAR\n",
       "kQEAAAAAAACIiAwAAAAAAABARGQAAAAAAAAAIiIDAAAAAAAAEBEZAAAAAAAAgIjIAAAAAAAAAERE\n",
       "BgAAAAAAACAiMgAAAAAAAAARkQEAAAAAAACIiAwAAAAAAABARGQAAAAAAAAAIiIDAAAAAAAAEBEZ\n",
       "AAAAAAAAgIjIAAAAAAAAAEREBgAAAAAAACAiMgAAAAAAAAARkQEAAAAAAACIiAwAAAAAAABARGQA\n",
       "AAAAAAAAIiIDAAAAAAAAEBEZAAAAAAAAgIjIAAAAAAAAAEREBgAAAAAAACAiMgAAAAAAAAARkQEA\n",
       "AAAAAACIiAwAAAAAAABARGQAAAAAAAAAIiIDAAAAAAAAEBEZAAAAAAAAgIjIAAAAAAAAAEREBgAA\n",
       "AAAAACAiMgAAAAAAAAARkQEAAAAAAACIiAwAAAAAAABARGQAAAAAAAAAIiIDAAAAAAAAEBEZAAAA\n",
       "AAAAgIjIAAAAAAAAAEREBgAAAAAAACAiMgAAAAAAAAARkQEAAAAAAACIiAwAAAAAAABARGQAAAAA\n",
       "AAAAIiIDAAAAAAAAEBEZAAAAAAAAgIjIAAAAAAAAAEREBgAAAAAAACAiMgAAAAAAAAARkQEAAAAA\n",
       "AACIiAwAAAAAAABARGQAAAAAAAAAIiIDAAAAAAAAEBEZAAAAAAAAgIjIAAAAAAAAAEREBgAAAAAA\n",
       "ACAiMgAAAAAAAAARkQEAAAAAAACIiAwAAAAAAABARGQAAAAAAAAAIiIDAAAAAAAAEBEZAAAAAAAA\n",
       "gIjIAAAAAAAAAEREBgAAAAAAACAiMgAAAAAAAAARkQEAAAAAAACIiAwAAAAAAABARGQAAAAAAAAA\n",
       "IiIDAAAAAAAAEBEZAAAAAAAAgIjIAAAAAAAAAEREBgAAAAAAACAiMgAAAAAAAAARkQEAAAAAAACI\n",
       "iAwAAAAAAABARGQAAAAAAAAAIiIDAAAAAAAAEBEZAAAAAAAAgIjIAAAAAAAAAEREBgAAAAAAACAi\n",
       "MgAAAAAAAAARkQEAAAAAAACIiAwAAAAAAABARGQAAAAAAAAAIiIDAAAAAAAAEBEZAAAAAAAAgIjI\n",
       "AAAAAAAAAEREBgAAAAAAACAiMgAAAAAAAAARkQEAAAAAAACIiAwAAAAAAABARGQAAAAAAAAAIiID\n",
       "AAAAAAAAEBEZAAAAAAAAgIjIAAAAAAAAAEREBgAAAAAAACAiMgAAAAAAAAARkQEAAAAAAACIiAwA\n",
       "AAAAAABARGQAAAAAAAAAIiIDAAAAAAAAEBEZAAAAAAAAgIjIAAAAAAAAAEREBgAAAAAAACAiMgAA\n",
       "AAAAAAARkQEAAAAAAACIiAwAAAAAAABARGQAAAAAAAAAIiIDAAAAAAAAEBEZAAAAAAAAgKzeNufp\n",
       "DQAswPG0np4AwLDPv8P0BAAW4Ge3n54AwLDv35fpCQAM80QGAAAAAAAAICIyAAAAAAAAABGRAQAA\n",
       "AAAAAIiIDAAAAAAAAEBEZAAAAAAAAAAiIgMAAAAAAAAQERkAAAAAAACAiMgAAAAAAAAAREQGAAAA\n",
       "AAAAICIyAAAAAAAAABGRAQAAAAAAAIiIDAAAAAAAAEBEZAAAAAAAAAAiIgMAAAAAAAAQERkAAAAA\n",
       "AACAiMgAAAAAAAAAREQGAAAAAAAAICIyAAAAAAAAABGRAQAAAAAAAIiIDAAAAAAAAEBEZAAAAAAA\n",
       "AAAiIgMAAAAAAAAQERkAAAAAAACAiMgAAAAAAAAAREQGAAAAAAAAICIyAAAAAAAAABGRAQAAAAAA\n",
       "AIiIDAAAAAAAAEBEZAAAAAAAAAAiIgMAAAAAAAAQERkAAAAAAACAiMgAAAAAAAAAREQGAAAAAAAA\n",
       "ICIyAAAAAAAAABGRAQAAAAAAAIiIDAAAAAAAAEBEZAAAAAAAAAAiIgMAAAAAAAAQERkAAAAAAACA\n",
       "iMgAAAAAAAAAREQGAAAAAAAAICIyAAAAAAAAABGRAQAAAAAAAIiIDAAAAAAAAEBEZAAAAAAAAAAi\n",
       "IgMAAAAAAAAQERkAAAAAAACAiMgAAAAAAAAAREQGAAAAAAAAICIyAAAAAAAAABGRAQAAAAAAAIiI\n",
       "DAAAAAAAAEBEZAAAAAAAAAAiIgMAAAAAAAAQERkAAAAAAACAiMgAAAAAAAAAREQGAAAAAAAAICIy\n",
       "AAAAAAAAABGRAQAAAAAAAIiIDAAAAAAAAEBEZAAAAACA//bsWAAAAABgkL/1vlGURgAATCIDAAAA\n",
       "AAAAMIkMAAAAAAAAwCQyAAAAAAAAAJPIAAAAAAAAAEwiAwAAAAAAADCJDAAAAAAAAMAkMgAAAAAA\n",
       "AACTyAAAAAAAAABMIgMAAAAAAAAwiQwAAAAAAADAJDIAAAAAAAAAk8gAAAAAAAAATCIDAAAAAAAA\n",
       "MIkMAAAAAAAAwCQyAAAAAAAAAJPIAAAAAAAAAEwiAwAAAAAAADCJDAAAAAAAAMAkMgAAAAAAAACT\n",
       "yAAAAAAAAABMIgMAAAAAAAAwiQwAAAAAAADAJDIAAAAAAAAAk8gAAAAAAAAATCIDAAAAAAAAMIkM\n",
       "AAAAAAAAwCQyAAAAAAAAAJPIAAAAAAAAAEwiAwAAAAAAADCJDAAAAAAAAMAkMgAAAAAAAACTyAAA\n",
       "AAAAAABMIgMAAAAAAAAwiQwAAAAAAADAJDIAAAAAAAAAk8gAAAAAAAAATCIDAAAAAAAAMIkMAAAA\n",
       "AAAAwCQyAAAAAAAAAJPIAAAAAAAAAEwiAwAAAAAAADCJDAAAAAAAAMAkMgAAAAAAAACTyAAAAAAA\n",
       "AABMIgMAAAAAAAAwiQwAAAAAAADAJDIAAAAAAAAAk8gAAAAAAAAATCIDAAAAAAAAMIkMAAAAAAAA\n",
       "wCQyAAAAAAAAAJPIAAAAAAAAAEwiAwAAAAAAADCJDAAAAAAAAMAkMgAAAAAAAACTyAAAAAAAAABM\n",
       "IgMAAAAAAAAwiQwAAAAAAADAJDIAAAAAAAAAk8gAAAAAAAAATCIDAAAAAAAAMIkMAAAAAAAAwCQy\n",
       "AAAAAAAAAJPIAAAAAAAAAEwiAwAAAAAAADCJDAAAAAAAAMAkMgAAAAAAAACTyAAAAAAAAABMIgMA\n",
       "AAAAAAAwiQwAAAAAAADAJDIAAAAAAAAAk8gAAAAAAAAATCIDAAAAAAAAMIkMAAAAAAAAwCQyAAAA\n",
       "AAAAAJPIAAAAAAAAAEwiAwAAAAAAADCJDAAAAAAAAMAkMgAAAAAAAACTyAAAAAAAAABMIgMAAAAA\n",
       "AAAwiQwAAAAAAADAJDIAAAAAAAAAk8gAAAAAAAAATCIDAAAAAAAAMIkMAAAAAAAAwCQyAAAAAAAA\n",
       "AJPIAAAAAAAAAEwiAwAAAAAAADCJDAAAAAAAAMAkMgAAAAAAAACTyAAAAAAAAABMIgMAAAAAAAAw\n",
       "iQwAAAAAAADAJDIAAAAAAAAAk8gAAAAAAAAATCIDAAAAAAAAMIkMAAAAAAAAwCQyAAAAAAAAAJPI\n",
       "AAAAAAAAAEwiAwAAAAAAADCJDAAAAAAAAMAkMgAAAAAAAACTyAAAAAAAAABMIgMAAAAAAAAwiQwA\n",
       "AAAAAADAJDIAAAAAAAAAk8gAAAAAAAAATCIDAAAAAAAAMIkMAAAAAAAAwCQyAAAAAAAAAJPIAAAA\n",
       "AAAAAEwiAwAAAAAAADCJDAAAAAAAAMAkMgAAAAAAAACTyAAAAAAAAABMIgMAAAAAAAAwiQwAAAAA\n",
       "AADAJDIAAAAAAAAAk8gAAAAAAAAATCIDAAAAAAAAMIkMAAAAAAAAwCQyAAAAAAAAAJPIAAAAAAAA\n",
       "AEwiAwAAAAAAADCJDAAAAAAAAMAkMgAAAAAAAACTyAAAAAAAAABMIgMAAAAAAAAwiQwAAAAAAADA\n",
       "JDIAAAAAAAAAk8gAAAAAAAAATCIDAAAAAAAAMIkMAAAAAAAAwCQyAAAAAAAAAJPIAAAAAAAAAEwi\n",
       "AwAAAAAAADCJDAAAAAAAAMAkMgAAAAAAAACTyAAAAAAAAABMIgMAAAAAAAAwiQwAAAAAAADAJDIA\n",
       "AAAAAAAAk8gAAAAAAAAATCIDAAAAAAAAMIkMAAAAAAAAwCQyAAAAAAAAAJPIAAAAAAAAAEwiAwAA\n",
       "AAAAADCJDAAAAAAAAMAkMgAAAAAAAACTyAAAAAAAAABMIgMAAAAAAAAwiQwAAAAAAADAJDIAAAAA\n",
       "AAAAk8gAAAAAAAAATCIDAAAAAAAAMIkMAAAAAAAAwCQyAAAAAAAAAJPIAAAAAAAAAEwiAwAAAAAA\n",
       "ADCJDAAAAAAAAMAkMgAAAAAAAACTyAAAAAAAAABMIgMAAAAAAAAwiQwAAAAAAADAJDIAAAAAAAAA\n",
       "k8gAAAAAAAAATCIDAAAAAAAAMIkMAAAAAAAAwCQyAAAAAAAAAJPIAAAAAAAAAEwiAwAAAAAAADCJ\n",
       "DAAAAAAAAMAkMgAAAAAAAACTyAAAAAAAAABMIgMAAAAAAAAwiQwAAAAAAADAJDIAAAAAAAAAk8gA\n",
       "AAAAAAAATCIDAAAAAAAAMIkMAAAAAAAAwCQyAAAAAAAAAJPIAAAAAAAAAEwiAwAAAAAAALAAQEUr\n",
       "UspHdswAAAAASUVORK5CYII=\n",
       "\" transform=\"translate(175, 184)\"/>\n",
       "</g>\n",
       "<defs>\n",
       "  <clipPath id=\"clip943\">\n",
       "    <rect x=\"2160\" y=\"183\" width=\"73\" height=\"1240\"/>\n",
       "  </clipPath>\n",
       "</defs>\n",
       "<path clip-path=\"url(#clip940)\" d=\"M2280.7 1319.67 Q2277.09 1319.67 2275.26 1323.23 Q2273.45 1326.78 2273.45 1333.91 Q2273.45 1341.01 2275.26 1344.58 Q2277.09 1348.12 2280.7 1348.12 Q2284.33 1348.12 2286.14 1344.58 Q2287.97 1341.01 2287.97 1333.91 Q2287.97 1326.78 2286.14 1323.23 Q2284.33 1319.67 2280.7 1319.67 M2280.7 1315.97 Q2286.51 1315.97 2289.57 1320.57 Q2292.64 1325.16 2292.64 1333.91 Q2292.64 1342.63 2289.57 1347.24 Q2286.51 1351.82 2280.7 1351.82 Q2274.89 1351.82 2271.81 1347.24 Q2268.76 1342.63 2268.76 1333.91 Q2268.76 1325.16 2271.81 1320.57 Q2274.89 1315.97 2280.7 1315.97 Z\" fill=\"#000000\" fill-rule=\"evenodd\" fill-opacity=\"1\" /><path clip-path=\"url(#clip940)\" d=\"M2300.86 1345.27 L2305.75 1345.27 L2305.75 1351.15 L2300.86 1351.15 L2300.86 1345.27 Z\" fill=\"#000000\" fill-rule=\"evenodd\" fill-opacity=\"1\" /><path clip-path=\"url(#clip940)\" d=\"M2328.78 1320.67 L2316.97 1339.11 L2328.78 1339.11 L2328.78 1320.67 M2327.55 1316.59 L2333.43 1316.59 L2333.43 1339.11 L2338.36 1339.11 L2338.36 1343 L2333.43 1343 L2333.43 1351.15 L2328.78 1351.15 L2328.78 1343 L2313.18 1343 L2313.18 1338.49 L2327.55 1316.59 Z\" fill=\"#000000\" fill-rule=\"evenodd\" fill-opacity=\"1\" /><path clip-path=\"url(#clip940)\" d=\"M2280.7 1132.17 Q2277.09 1132.17 2275.26 1135.73 Q2273.45 1139.28 2273.45 1146.41 Q2273.45 1153.51 2275.26 1157.08 Q2277.09 1160.62 2280.7 1160.62 Q2284.33 1160.62 2286.14 1157.08 Q2287.97 1153.51 2287.97 1146.41 Q2287.97 1139.28 2286.14 1135.73 Q2284.33 1132.17 2280.7 1132.17 M2280.7 1128.47 Q2286.51 1128.47 2289.57 1133.07 Q2292.64 1137.66 2292.64 1146.41 Q2292.64 1155.13 2289.57 1159.74 Q2286.51 1164.32 2280.7 1164.32 Q2274.89 1164.32 2271.81 1159.74 Q2268.76 1155.13 2268.76 1146.41 Q2268.76 1137.66 2271.81 1133.07 Q2274.89 1128.47 2280.7 1128.47 Z\" fill=\"#000000\" fill-rule=\"evenodd\" fill-opacity=\"1\" /><path clip-path=\"url(#clip940)\" d=\"M2300.86 1157.77 L2305.75 1157.77 L2305.75 1163.65 L2300.86 1163.65 L2300.86 1157.77 Z\" fill=\"#000000\" fill-rule=\"evenodd\" fill-opacity=\"1\" /><path clip-path=\"url(#clip940)\" d=\"M2328.78 1133.17 L2316.97 1151.61 L2328.78 1151.61 L2328.78 1133.17 M2327.55 1129.09 L2333.43 1129.09 L2333.43 1151.61 L2338.36 1151.61 L2338.36 1155.5 L2333.43 1155.5 L2333.43 1163.65 L2328.78 1163.65 L2328.78 1155.5 L2313.18 1155.5 L2313.18 1150.99 L2327.55 1129.09 Z\" fill=\"#000000\" fill-rule=\"evenodd\" fill-opacity=\"1\" /><path clip-path=\"url(#clip940)\" d=\"M2280.7 944.67 Q2277.09 944.67 2275.26 948.235 Q2273.45 951.776 2273.45 958.906 Q2273.45 966.012 2275.26 969.577 Q2277.09 973.119 2280.7 973.119 Q2284.33 973.119 2286.14 969.577 Q2287.97 966.012 2287.97 958.906 Q2287.97 951.776 2286.14 948.235 Q2284.33 944.67 2280.7 944.67 M2280.7 940.966 Q2286.51 940.966 2289.57 945.573 Q2292.64 950.156 2292.64 958.906 Q2292.64 967.633 2289.57 972.239 Q2286.51 976.822 2280.7 976.822 Q2274.89 976.822 2271.81 972.239 Q2268.76 967.633 2268.76 958.906 Q2268.76 950.156 2271.81 945.573 Q2274.89 940.966 2280.7 940.966 Z\" fill=\"#000000\" fill-rule=\"evenodd\" fill-opacity=\"1\" /><path clip-path=\"url(#clip940)\" d=\"M2300.86 970.272 L2305.75 970.272 L2305.75 976.151 L2300.86 976.151 L2300.86 970.272 Z\" fill=\"#000000\" fill-rule=\"evenodd\" fill-opacity=\"1\" /><path clip-path=\"url(#clip940)\" d=\"M2328.78 945.665 L2316.97 964.114 L2328.78 964.114 L2328.78 945.665 M2327.55 941.591 L2333.43 941.591 L2333.43 964.114 L2338.36 964.114 L2338.36 968.003 L2333.43 968.003 L2333.43 976.151 L2328.78 976.151 L2328.78 968.003 L2313.18 968.003 L2313.18 963.489 L2327.55 941.591 Z\" fill=\"#000000\" fill-rule=\"evenodd\" fill-opacity=\"1\" /><path clip-path=\"url(#clip940)\" d=\"M2280.7 775.92 Q2277.09 775.92 2275.26 779.485 Q2273.45 783.026 2273.45 790.156 Q2273.45 797.262 2275.26 800.827 Q2277.09 804.369 2280.7 804.369 Q2284.33 804.369 2286.14 800.827 Q2287.97 797.262 2287.97 790.156 Q2287.97 783.026 2286.14 779.485 Q2284.33 775.92 2280.7 775.92 M2280.7 772.216 Q2286.51 772.216 2289.57 776.823 Q2292.64 781.406 2292.64 790.156 Q2292.64 798.883 2289.57 803.489 Q2286.51 808.072 2280.7 808.072 Q2274.89 808.072 2271.81 803.489 Q2268.76 798.883 2268.76 790.156 Q2268.76 781.406 2271.81 776.823 Q2274.89 772.216 2280.7 772.216 Z\" fill=\"#000000\" fill-rule=\"evenodd\" fill-opacity=\"1\" /><path clip-path=\"url(#clip940)\" d=\"M2300.86 801.522 L2305.75 801.522 L2305.75 807.401 L2300.86 807.401 L2300.86 801.522 Z\" fill=\"#000000\" fill-rule=\"evenodd\" fill-opacity=\"1\" /><path clip-path=\"url(#clip940)\" d=\"M2328.78 776.915 L2316.97 795.364 L2328.78 795.364 L2328.78 776.915 M2327.55 772.841 L2333.43 772.841 L2333.43 795.364 L2338.36 795.364 L2338.36 799.253 L2333.43 799.253 L2333.43 807.401 L2328.78 807.401 L2328.78 799.253 L2313.18 799.253 L2313.18 794.739 L2327.55 772.841 Z\" fill=\"#000000\" fill-rule=\"evenodd\" fill-opacity=\"1\" /><path clip-path=\"url(#clip940)\" d=\"M2280.7 588.42 Q2277.09 588.42 2275.26 591.985 Q2273.45 595.526 2273.45 602.656 Q2273.45 609.762 2275.26 613.327 Q2277.09 616.869 2280.7 616.869 Q2284.33 616.869 2286.14 613.327 Q2287.97 609.762 2287.97 602.656 Q2287.97 595.526 2286.14 591.985 Q2284.33 588.42 2280.7 588.42 M2280.7 584.716 Q2286.51 584.716 2289.57 589.323 Q2292.64 593.906 2292.64 602.656 Q2292.64 611.383 2289.57 615.989 Q2286.51 620.572 2280.7 620.572 Q2274.89 620.572 2271.81 615.989 Q2268.76 611.383 2268.76 602.656 Q2268.76 593.906 2271.81 589.323 Q2274.89 584.716 2280.7 584.716 Z\" fill=\"#000000\" fill-rule=\"evenodd\" fill-opacity=\"1\" /><path clip-path=\"url(#clip940)\" d=\"M2300.86 614.022 L2305.75 614.022 L2305.75 619.901 L2300.86 619.901 L2300.86 614.022 Z\" fill=\"#000000\" fill-rule=\"evenodd\" fill-opacity=\"1\" /><path clip-path=\"url(#clip940)\" d=\"M2328.78 589.415 L2316.97 607.864 L2328.78 607.864 L2328.78 589.415 M2327.55 585.341 L2333.43 585.341 L2333.43 607.864 L2338.36 607.864 L2338.36 611.753 L2333.43 611.753 L2333.43 619.901 L2328.78 619.901 L2328.78 611.753 L2313.18 611.753 L2313.18 607.239 L2327.55 585.341 Z\" fill=\"#000000\" fill-rule=\"evenodd\" fill-opacity=\"1\" /><path clip-path=\"url(#clip940)\" d=\"M2280.7 400.92 Q2277.09 400.92 2275.26 404.485 Q2273.45 408.026 2273.45 415.156 Q2273.45 422.262 2275.26 425.827 Q2277.09 429.369 2280.7 429.369 Q2284.33 429.369 2286.14 425.827 Q2287.97 422.262 2287.97 415.156 Q2287.97 408.026 2286.14 404.485 Q2284.33 400.92 2280.7 400.92 M2280.7 397.216 Q2286.51 397.216 2289.57 401.823 Q2292.64 406.406 2292.64 415.156 Q2292.64 423.883 2289.57 428.489 Q2286.51 433.072 2280.7 433.072 Q2274.89 433.072 2271.81 428.489 Q2268.76 423.883 2268.76 415.156 Q2268.76 406.406 2271.81 401.823 Q2274.89 397.216 2280.7 397.216 Z\" fill=\"#000000\" fill-rule=\"evenodd\" fill-opacity=\"1\" /><path clip-path=\"url(#clip940)\" d=\"M2300.86 426.522 L2305.75 426.522 L2305.75 432.401 L2300.86 432.401 L2300.86 426.522 Z\" fill=\"#000000\" fill-rule=\"evenodd\" fill-opacity=\"1\" /><path clip-path=\"url(#clip940)\" d=\"M2328.78 401.915 L2316.97 420.364 L2328.78 420.364 L2328.78 401.915 M2327.55 397.841 L2333.43 397.841 L2333.43 420.364 L2338.36 420.364 L2338.36 424.253 L2333.43 424.253 L2333.43 432.401 L2328.78 432.401 L2328.78 424.253 L2313.18 424.253 L2313.18 419.739 L2327.55 397.841 Z\" fill=\"#000000\" fill-rule=\"evenodd\" fill-opacity=\"1\" /><path clip-path=\"url(#clip940)\" d=\"M2280.7 213.42 Q2277.09 213.42 2275.26 216.985 Q2273.45 220.526 2273.45 227.656 Q2273.45 234.762 2275.26 238.327 Q2277.09 241.869 2280.7 241.869 Q2284.33 241.869 2286.14 238.327 Q2287.97 234.762 2287.97 227.656 Q2287.97 220.526 2286.14 216.985 Q2284.33 213.42 2280.7 213.42 M2280.7 209.716 Q2286.51 209.716 2289.57 214.323 Q2292.64 218.906 2292.64 227.656 Q2292.64 236.383 2289.57 240.989 Q2286.51 245.572 2280.7 245.572 Q2274.89 245.572 2271.81 240.989 Q2268.76 236.383 2268.76 227.656 Q2268.76 218.906 2271.81 214.323 Q2274.89 209.716 2280.7 209.716 Z\" fill=\"#000000\" fill-rule=\"evenodd\" fill-opacity=\"1\" /><path clip-path=\"url(#clip940)\" d=\"M2300.86 239.022 L2305.75 239.022 L2305.75 244.901 L2300.86 244.901 L2300.86 239.022 Z\" fill=\"#000000\" fill-rule=\"evenodd\" fill-opacity=\"1\" /><path clip-path=\"url(#clip940)\" d=\"M2328.78 214.415 L2316.97 232.864 L2328.78 232.864 L2328.78 214.415 M2327.55 210.341 L2333.43 210.341 L2333.43 232.864 L2338.36 232.864 L2338.36 236.753 L2333.43 236.753 L2333.43 244.901 L2328.78 244.901 L2328.78 236.753 L2313.18 236.753 L2313.18 232.239 L2327.55 210.341 Z\" fill=\"#000000\" fill-rule=\"evenodd\" fill-opacity=\"1\" /><polyline clip-path=\"url(#clip940)\" style=\"stroke:#000000; stroke-linecap:round; stroke-linejoin:round; stroke-width:4; stroke-opacity:1; fill:none\" points=\"2232.76,1431.25 2232.76,1337.5 2256.76,1337.5 2232.76,1337.5 2232.76,1150 2256.76,1150 2232.76,1150 2232.76,962.5 2256.76,962.5 2232.76,962.5 2232.76,793.75 2256.76,793.75 2232.76,793.75 2232.76,606.25 2256.76,606.25 2232.76,606.25 2232.76,418.75 2256.76,418.75 2232.76,418.75 2232.76,231.25 2256.76,231.25 2232.76,231.25 2232.76,193.75 \"/>\n",
       "</svg>\n"
      ]
     },
     "execution_count": 65,
     "metadata": {},
     "output_type": "execute_result"
    },
    {
     "name": "stderr",
     "output_type": "stream",
     "text": [
      "GKS: Possible loss of precision in routine SET_WINDOW\n",
      "GKS: Rectangle definition is invalid in routine CELLARRAY\n"
     ]
    }
   ],
   "source": [
    "using Plots\n",
    "z = reshape(real(expect_list), Nx,Ny)\n",
    "heatmap(z, c=:thermal, xlabel=\"x\", ylabel=\"y\", title=(\"Nx=$Nx,Ny=$Ny,co=$cut_off,PN=$pn,U=$U \\n Psi($index_eig_states)\"))"
   ]
  },
  {
   "cell_type": "code",
   "execution_count": 42,
   "id": "3b94f5ae-a205-48ea-9ed7-bac8407b3a50",
   "metadata": {
    "tags": []
   },
   "outputs": [
    {
     "data": {
      "text/plain": [
       "animated_e_l (generic function with 1 method)"
      ]
     },
     "execution_count": 42,
     "metadata": {},
     "output_type": "execute_result"
    }
   ],
   "source": [
    "animated_exp_list = zeros(N,1,length(r_hubbard_states))\n",
    "function animated_e_l()\n",
    "    for i in 1:length(r_hubbard_states)\n",
    "        expect_list=[]\n",
    "        for j in 1:N\n",
    "            T = NM_MB_Array_Storage[:,:,j]\n",
    "            Op = Operator(BL,BR,T)\n",
    "            push!(expect_list,expect(Op, r_hubbard_states[i]))\n",
    "        end\n",
    "        animated_exp_list[:,:,i] = real(expect_list)\n",
    "    end\n",
    "    return animated_exp_list\n",
    "end"
   ]
  },
  {
   "cell_type": "code",
   "execution_count": 43,
   "id": "4476fa87-c99f-4428-a0d5-473049a5893a",
   "metadata": {
    "tags": []
   },
   "outputs": [
    {
     "data": {
      "image/svg+xml": [
       "<?xml version=\"1.0\" encoding=\"utf-8\"?>\n",
       "<svg xmlns=\"http://www.w3.org/2000/svg\" xmlns:xlink=\"http://www.w3.org/1999/xlink\" width=\"600\" height=\"400\" viewBox=\"0 0 2400 1600\">\n",
       "<defs>\n",
       "  <clipPath id=\"clip420\">\n",
       "    <rect x=\"0\" y=\"0\" width=\"2400\" height=\"1600\"/>\n",
       "  </clipPath>\n",
       "</defs>\n",
       "<path clip-path=\"url(#clip420)\" d=\"M0 1600 L2400 1600 L2400 0 L0 0  Z\" fill=\"#ffffff\" fill-rule=\"evenodd\" fill-opacity=\"1\"/>\n",
       "<defs>\n",
       "  <clipPath id=\"clip421\">\n",
       "    <rect x=\"480\" y=\"0\" width=\"1681\" height=\"1600\"/>\n",
       "  </clipPath>\n",
       "</defs>\n",
       "<path clip-path=\"url(#clip420)\" d=\"M112.177 1486.45 L2112.76 1486.45 L2112.76 47.2441 L112.177 47.2441  Z\" fill=\"#ffffff\" fill-rule=\"evenodd\" fill-opacity=\"1\"/>\n",
       "<defs>\n",
       "  <clipPath id=\"clip422\">\n",
       "    <rect x=\"112\" y=\"47\" width=\"2002\" height=\"1440\"/>\n",
       "  </clipPath>\n",
       "</defs>\n",
       "<polyline clip-path=\"url(#clip422)\" style=\"stroke:#000000; stroke-linecap:round; stroke-linejoin:round; stroke-width:2; stroke-opacity:0.1; fill:none\" points=\"312.235,1486.45 312.235,47.2441 \"/>\n",
       "<polyline clip-path=\"url(#clip422)\" style=\"stroke:#000000; stroke-linecap:round; stroke-linejoin:round; stroke-width:2; stroke-opacity:0.1; fill:none\" points=\"712.351,1486.45 712.351,47.2441 \"/>\n",
       "<polyline clip-path=\"url(#clip422)\" style=\"stroke:#000000; stroke-linecap:round; stroke-linejoin:round; stroke-width:2; stroke-opacity:0.1; fill:none\" points=\"1112.47,1486.45 1112.47,47.2441 \"/>\n",
       "<polyline clip-path=\"url(#clip422)\" style=\"stroke:#000000; stroke-linecap:round; stroke-linejoin:round; stroke-width:2; stroke-opacity:0.1; fill:none\" points=\"1512.58,1486.45 1512.58,47.2441 \"/>\n",
       "<polyline clip-path=\"url(#clip422)\" style=\"stroke:#000000; stroke-linecap:round; stroke-linejoin:round; stroke-width:2; stroke-opacity:0.1; fill:none\" points=\"1912.7,1486.45 1912.7,47.2441 \"/>\n",
       "<polyline clip-path=\"url(#clip420)\" style=\"stroke:#000000; stroke-linecap:round; stroke-linejoin:round; stroke-width:4; stroke-opacity:1; fill:none\" points=\"112.177,1486.45 2112.76,1486.45 \"/>\n",
       "<polyline clip-path=\"url(#clip420)\" style=\"stroke:#000000; stroke-linecap:round; stroke-linejoin:round; stroke-width:4; stroke-opacity:1; fill:none\" points=\"312.235,1486.45 312.235,1467.55 \"/>\n",
       "<polyline clip-path=\"url(#clip420)\" style=\"stroke:#000000; stroke-linecap:round; stroke-linejoin:round; stroke-width:4; stroke-opacity:1; fill:none\" points=\"712.351,1486.45 712.351,1467.55 \"/>\n",
       "<polyline clip-path=\"url(#clip420)\" style=\"stroke:#000000; stroke-linecap:round; stroke-linejoin:round; stroke-width:4; stroke-opacity:1; fill:none\" points=\"1112.47,1486.45 1112.47,1467.55 \"/>\n",
       "<polyline clip-path=\"url(#clip420)\" style=\"stroke:#000000; stroke-linecap:round; stroke-linejoin:round; stroke-width:4; stroke-opacity:1; fill:none\" points=\"1512.58,1486.45 1512.58,1467.55 \"/>\n",
       "<polyline clip-path=\"url(#clip420)\" style=\"stroke:#000000; stroke-linecap:round; stroke-linejoin:round; stroke-width:4; stroke-opacity:1; fill:none\" points=\"1912.7,1486.45 1912.7,1467.55 \"/>\n",
       "<path clip-path=\"url(#clip420)\" d=\"M302.617 1544.91 L310.256 1544.91 L310.256 1518.55 L301.946 1520.21 L301.946 1515.95 L310.21 1514.29 L314.885 1514.29 L314.885 1544.91 L322.524 1544.91 L322.524 1548.85 L302.617 1548.85 L302.617 1544.91 Z\" fill=\"#000000\" fill-rule=\"evenodd\" fill-opacity=\"1\" /><path clip-path=\"url(#clip420)\" d=\"M707.004 1544.91 L723.323 1544.91 L723.323 1548.85 L701.379 1548.85 L701.379 1544.91 Q704.041 1542.16 708.624 1537.53 Q713.23 1532.88 714.411 1531.53 Q716.656 1529.01 717.536 1527.27 Q718.439 1525.51 718.439 1523.82 Q718.439 1521.07 716.494 1519.33 Q714.573 1517.6 711.471 1517.6 Q709.272 1517.6 706.818 1518.36 Q704.388 1519.13 701.61 1520.68 L701.61 1515.95 Q704.434 1514.82 706.888 1514.24 Q709.342 1513.66 711.379 1513.66 Q716.749 1513.66 719.943 1516.35 Q723.138 1519.03 723.138 1523.52 Q723.138 1525.65 722.328 1527.57 Q721.541 1529.47 719.434 1532.07 Q718.855 1532.74 715.754 1535.95 Q712.652 1539.15 707.004 1544.91 Z\" fill=\"#000000\" fill-rule=\"evenodd\" fill-opacity=\"1\" /><path clip-path=\"url(#clip420)\" d=\"M1116.71 1530.21 Q1120.07 1530.93 1121.95 1533.2 Q1123.84 1535.47 1123.84 1538.8 Q1123.84 1543.92 1120.33 1546.72 Q1116.81 1549.52 1110.33 1549.52 Q1108.15 1549.52 1105.83 1549.08 Q1103.54 1548.66 1101.09 1547.81 L1101.09 1543.29 Q1103.03 1544.43 1105.35 1545.01 Q1107.66 1545.58 1110.19 1545.58 Q1114.58 1545.58 1116.88 1543.85 Q1119.19 1542.11 1119.19 1538.8 Q1119.19 1535.75 1117.04 1534.03 Q1114.91 1532.3 1111.09 1532.3 L1107.06 1532.3 L1107.06 1528.45 L1111.27 1528.45 Q1114.72 1528.45 1116.55 1527.09 Q1118.38 1525.7 1118.38 1523.11 Q1118.38 1520.45 1116.48 1519.03 Q1114.61 1517.6 1111.09 1517.6 Q1109.17 1517.6 1106.97 1518.01 Q1104.77 1518.43 1102.13 1519.31 L1102.13 1515.14 Q1104.79 1514.4 1107.11 1514.03 Q1109.45 1513.66 1111.51 1513.66 Q1116.83 1513.66 1119.93 1516.09 Q1123.03 1518.5 1123.03 1522.62 Q1123.03 1525.49 1121.39 1527.48 Q1119.75 1529.45 1116.71 1530.21 Z\" fill=\"#000000\" fill-rule=\"evenodd\" fill-opacity=\"1\" /><path clip-path=\"url(#clip420)\" d=\"M1515.59 1518.36 L1503.79 1536.81 L1515.59 1536.81 L1515.59 1518.36 M1514.36 1514.29 L1520.24 1514.29 L1520.24 1536.81 L1525.17 1536.81 L1525.17 1540.7 L1520.24 1540.7 L1520.24 1548.85 L1515.59 1548.85 L1515.59 1540.7 L1499.99 1540.7 L1499.99 1536.19 L1514.36 1514.29 Z\" fill=\"#000000\" fill-rule=\"evenodd\" fill-opacity=\"1\" /><path clip-path=\"url(#clip420)\" d=\"M1902.98 1514.29 L1921.33 1514.29 L1921.33 1518.22 L1907.26 1518.22 L1907.26 1526.7 Q1908.28 1526.35 1909.3 1526.19 Q1910.31 1526 1911.33 1526 Q1917.12 1526 1920.5 1529.17 Q1923.88 1532.34 1923.88 1537.76 Q1923.88 1543.34 1920.41 1546.44 Q1916.93 1549.52 1910.61 1549.52 Q1908.44 1549.52 1906.17 1549.15 Q1903.92 1548.78 1901.52 1548.04 L1901.52 1543.34 Q1903.6 1544.47 1905.82 1545.03 Q1908.05 1545.58 1910.52 1545.58 Q1914.53 1545.58 1916.86 1543.48 Q1919.2 1541.37 1919.2 1537.76 Q1919.2 1534.15 1916.86 1532.04 Q1914.53 1529.94 1910.52 1529.94 Q1908.65 1529.94 1906.77 1530.35 Q1904.92 1530.77 1902.98 1531.65 L1902.98 1514.29 Z\" fill=\"#000000\" fill-rule=\"evenodd\" fill-opacity=\"1\" /><polyline clip-path=\"url(#clip422)\" style=\"stroke:#000000; stroke-linecap:round; stroke-linejoin:round; stroke-width:2; stroke-opacity:0.1; fill:none\" points=\"112.177,1342.53 2112.76,1342.53 \"/>\n",
       "<polyline clip-path=\"url(#clip422)\" style=\"stroke:#000000; stroke-linecap:round; stroke-linejoin:round; stroke-width:2; stroke-opacity:0.1; fill:none\" points=\"112.177,1054.69 2112.76,1054.69 \"/>\n",
       "<polyline clip-path=\"url(#clip422)\" style=\"stroke:#000000; stroke-linecap:round; stroke-linejoin:round; stroke-width:2; stroke-opacity:0.1; fill:none\" points=\"112.177,766.846 2112.76,766.846 \"/>\n",
       "<polyline clip-path=\"url(#clip422)\" style=\"stroke:#000000; stroke-linecap:round; stroke-linejoin:round; stroke-width:2; stroke-opacity:0.1; fill:none\" points=\"112.177,479.005 2112.76,479.005 \"/>\n",
       "<polyline clip-path=\"url(#clip422)\" style=\"stroke:#000000; stroke-linecap:round; stroke-linejoin:round; stroke-width:2; stroke-opacity:0.1; fill:none\" points=\"112.177,191.164 2112.76,191.164 \"/>\n",
       "<polyline clip-path=\"url(#clip420)\" style=\"stroke:#000000; stroke-linecap:round; stroke-linejoin:round; stroke-width:4; stroke-opacity:1; fill:none\" points=\"112.177,1486.45 112.177,47.2441 \"/>\n",
       "<polyline clip-path=\"url(#clip420)\" style=\"stroke:#000000; stroke-linecap:round; stroke-linejoin:round; stroke-width:4; stroke-opacity:1; fill:none\" points=\"112.177,1342.53 129.051,1342.53 \"/>\n",
       "<polyline clip-path=\"url(#clip420)\" style=\"stroke:#000000; stroke-linecap:round; stroke-linejoin:round; stroke-width:4; stroke-opacity:1; fill:none\" points=\"112.177,1054.69 129.051,1054.69 \"/>\n",
       "<polyline clip-path=\"url(#clip420)\" style=\"stroke:#000000; stroke-linecap:round; stroke-linejoin:round; stroke-width:4; stroke-opacity:1; fill:none\" points=\"112.177,766.846 129.051,766.846 \"/>\n",
       "<polyline clip-path=\"url(#clip420)\" style=\"stroke:#000000; stroke-linecap:round; stroke-linejoin:round; stroke-width:4; stroke-opacity:1; fill:none\" points=\"112.177,479.005 129.051,479.005 \"/>\n",
       "<polyline clip-path=\"url(#clip420)\" style=\"stroke:#000000; stroke-linecap:round; stroke-linejoin:round; stroke-width:4; stroke-opacity:1; fill:none\" points=\"112.177,191.164 129.051,191.164 \"/>\n",
       "<path clip-path=\"url(#clip420)\" d=\"M56.2699 1355.87 L63.9087 1355.87 L63.9087 1329.51 L55.5986 1331.17 L55.5986 1326.91 L63.8624 1325.25 L68.5383 1325.25 L68.5383 1355.87 L76.1772 1355.87 L76.1772 1359.81 L56.2699 1359.81 L56.2699 1355.87 Z\" fill=\"#000000\" fill-rule=\"evenodd\" fill-opacity=\"1\" /><path clip-path=\"url(#clip420)\" d=\"M59.8578 1068.03 L76.1772 1068.03 L76.1772 1071.97 L54.2328 1071.97 L54.2328 1068.03 Q56.8949 1065.28 61.4782 1060.65 Q66.0846 1055.99 67.2652 1054.65 Q69.5105 1052.13 70.3902 1050.39 Q71.2929 1048.63 71.2929 1046.94 Q71.2929 1044.19 69.3485 1042.45 Q67.4272 1040.72 64.3254 1040.72 Q62.1263 1040.72 59.6726 1041.48 Q57.2421 1042.24 54.4643 1043.8 L54.4643 1039.07 Q57.2884 1037.94 59.7421 1037.36 Q62.1958 1036.78 64.2328 1036.78 Q69.6031 1036.78 72.7976 1039.47 Q75.992 1042.15 75.992 1046.64 Q75.992 1048.77 75.1818 1050.69 Q74.3948 1052.59 72.2883 1055.18 Q71.7096 1055.86 68.6078 1059.07 Q65.5059 1062.27 59.8578 1068.03 Z\" fill=\"#000000\" fill-rule=\"evenodd\" fill-opacity=\"1\" /><path clip-path=\"url(#clip420)\" d=\"M69.0476 765.492 Q72.404 766.209 74.279 768.478 Q76.1772 770.746 76.1772 774.08 Q76.1772 779.195 72.6587 781.996 Q69.1402 784.797 62.6587 784.797 Q60.4828 784.797 58.168 784.357 Q55.8764 783.941 53.4227 783.084 L53.4227 778.57 Q55.3671 779.705 57.6819 780.283 Q59.9967 780.862 62.5198 780.862 Q66.918 780.862 69.2096 779.126 Q71.5244 777.39 71.5244 774.08 Q71.5244 771.024 69.3717 769.311 Q67.242 767.575 63.4226 767.575 L59.3949 767.575 L59.3949 763.733 L63.6078 763.733 Q67.0569 763.733 68.8855 762.367 Q70.7142 760.978 70.7142 758.385 Q70.7142 755.723 68.8161 754.311 Q66.9411 752.876 63.4226 752.876 Q61.5013 752.876 59.3023 753.293 Q57.1032 753.709 54.4643 754.589 L54.4643 750.422 Q57.1264 749.682 59.4412 749.311 Q61.7791 748.941 63.8393 748.941 Q69.1633 748.941 72.2652 751.372 Q75.367 753.779 75.367 757.899 Q75.367 760.77 73.7235 762.76 Q72.08 764.728 69.0476 765.492 Z\" fill=\"#000000\" fill-rule=\"evenodd\" fill-opacity=\"1\" /><path clip-path=\"url(#clip420)\" d=\"M66.5939 465.799 L54.7884 484.248 L66.5939 484.248 L66.5939 465.799 M65.367 461.725 L71.2466 461.725 L71.2466 484.248 L76.1772 484.248 L76.1772 488.137 L71.2466 488.137 L71.2466 496.285 L66.5939 496.285 L66.5939 488.137 L50.9921 488.137 L50.9921 483.623 L65.367 461.725 Z\" fill=\"#000000\" fill-rule=\"evenodd\" fill-opacity=\"1\" /><path clip-path=\"url(#clip420)\" d=\"M55.2745 173.884 L73.6309 173.884 L73.6309 177.82 L59.5569 177.82 L59.5569 186.292 Q60.5754 185.945 61.5939 185.783 Q62.6124 185.597 63.6309 185.597 Q69.418 185.597 72.7976 188.769 Q76.1772 191.94 76.1772 197.357 Q76.1772 202.935 72.705 206.037 Q69.2328 209.116 62.9134 209.116 Q60.7374 209.116 58.4689 208.745 Q56.2236 208.375 53.8162 207.634 L53.8162 202.935 Q55.8995 204.069 58.1217 204.625 Q60.3439 205.181 62.8208 205.181 Q66.8254 205.181 69.1633 203.074 Q71.5013 200.968 71.5013 197.357 Q71.5013 193.745 69.1633 191.639 Q66.8254 189.533 62.8208 189.533 Q60.9458 189.533 59.0708 189.949 Q57.2189 190.366 55.2745 191.245 L55.2745 173.884 Z\" fill=\"#000000\" fill-rule=\"evenodd\" fill-opacity=\"1\" /><g clip-path=\"url(#clip422)\">\n",
       "<image width=\"2001\" height=\"1439\" xlink:href=\"data:image/png;base64,\n",
       "iVBORw0KGgoAAAANSUhEUgAAB9EAAAWfCAYAAAAcawbXAAAgAElEQVR4nOzbMS4EYBhFUURLYwNC\n",
       "pjBLsQ3F2MZU07M1iUYrEhqNTkJzV6D5/Mk5K3j9zTt+v9v+HAHAH3x+XExPAGBBV7uX6QkALOj5\n",
       "YTs9AYAFbQ5f0xMAWNDJ9AAAAAAAAAAA+C9EdAAAAAAAAACIiA4AAAAAAAAAEdEBAAAAAAAAICI6\n",
       "AAAAAAAAAEREBwAAAAAAAICI6AAAAAAAAAAQER0AAAAAAAAAIqIDAAAAAAAAQER0AAAAAAAAAIiI\n",
       "DgAAAAAAAAAR0QEAAAAAAAAgIjoAAAAAAAAAREQHAAAAAAAAgIjoAAAAAAAAABARHQAAAAAAAAAi\n",
       "ogMAAAAAAABARHQAAAAAAAAAiIgOAAAAAAAAABHRAQAAAAAAACAiOgAAAAAAAABERAcAAAAAAACA\n",
       "iOgAAAAAAAAAEBEdAAAAAAAAACKiAwAAAAAAAEBEdAAAAAAAAACIiA4AAAAAAAAAEdEBAAAAAAAA\n",
       "ICI6AAAAAAAAAEREBwAAAAAAAICI6AAAAAAAAAAQER0AAAAAAAAAIqIDAAAAAAAAQER0AAAAAAAA\n",
       "AIiIDgAAAAAAAAAR0QEAAAAAAAAgIjoAAAAAAAAAREQHAAAAAAAAgIjoAAAAAAAAABARHQAAAAAA\n",
       "AAAiogMAAAAAAABARHQAAAAAAAAAiIgOAAAAAAAAABHRAQAAAAAAACAiOgAAAAAAAABERAcAAAAA\n",
       "AACAiOgAAAAAAAAAEBEdAAAAAAAAACKiAwAAAAAAAEBEdAAAAAAAAACIiA4AAAAAAAAAEdEBAAAA\n",
       "AAAAICI6AAAAAAAAAEREBwAAAAAAAICI6AAAAAAAAAAQER0AAAAAAAAAIqIDAAAAAAAAQER0AAAA\n",
       "AAAAAIiIDgAAAAAAAAAR0QEAAAAAAAAgIjoAAAAAAAAAREQHAAAAAAAAgIjoAAAAAAAAABARHQAA\n",
       "AAAAAAAiogMAAAAAAABARHQAAAAAAAAAiIgOAAAAAAAAABHRAQAAAAAAACAiOgAAAAAAAABERAcA\n",
       "AAAAAACAiOgAAAAAAAAAEBEdAAAAAAAAACKiAwAAAAAAAEBEdAAAAAAAAACIiA4AAAAAAAAAEdEB\n",
       "AAAAAAAAICI6AAAAAAAAAEREBwAAAAAAAICI6AAAAAAAAAAQER0AAAAAAAAAIqIDAAAAAAAAQER0\n",
       "AAAAAAAAAIiIDgAAAAAAAAAR0QEAAAAAAAAgIjoAAAAAAAAAREQHAAAAAAAAgIjoAAAAAAAAABAR\n",
       "HQAAAAAAAAAiogMAAAAAAABARHQAAAAAAAAAiIgOAAAAAAAAABHRAQAAAAAAACAiOgAAAAAAAABE\n",
       "RAcAAAAAAACAiOgAAAAAAAAAEBEdAAAAAAAAACKiAwAAAAAAAEBEdAAAAAAAAACIiA4AAAAAAAAA\n",
       "EdEBAAAAAAAAICI6AAAAAAAAAEREBwAAAAAAAICI6AAAAAAAAAAQER0AAAAAAAAAIqIDAAAAAAAA\n",
       "QER0AAAAAAAAAIiIDgAAAAAAAAAR0QEAAAAAAAAgIjoAAAAAAAAAREQHAAAAAAAAgIjoAAAAAAAA\n",
       "ABARHQAAAAAAAAAiogMAAAAAAABARHQAAAAAAAAAiIgOAAAAAAAAABHRAQAAAAAAACAiOgAAAAAA\n",
       "AABERAcAAAAAAACAiOgAAAAAAAAAEBEdAAAAAAAAACKiAwAAAAAAAEBEdAAAAAAAAACIiA4AAAAA\n",
       "AAAAEdEBAAAAAAAAICI6AAAAAAAAAEREBwAAAAAAAICI6AAAAAAAAAAQER0AAAAAAAAAIqIDAAAA\n",
       "AAAAQER0AAAAAAAAAIiIDgAAAAAAAAAR0QEAAAAAAAAgIjoAAAAAAAAAREQHAAAAAAAAgIjoAAAA\n",
       "AAAAABARHQAAAAAAAAAiogMAAAAAAABARHQAAAAAAAAAiIgOAAAAAAAAABHRAQAAAAAAACAiOgAA\n",
       "AAAAAABERAcAAAAAAACAiOgAAAAAAAAAEBEdAAAAAAAAACKiAwAAAAAAAEBEdAAAAAAAAACIiA4A\n",
       "AAAAAAAAEdEBAAAAAAAAICI6AAAAAAAAAEREBwAAAAAAAICI6AAAAAAAAAAQER0AAAAAAAAAIqID\n",
       "AAAAAAAAQER0AAAAAAAAAIiIDgAAAAAAAAAR0QEAAAAAAAAgIjoAAAAAAAAAREQHAAAAAAAAgIjo\n",
       "AAAAAAAAABARHQAAAAAAAAAiogMAAAAAAABARHQAAAAAAAAAiIgOAAAAAAAAABHRAQAAAAAAACAi\n",
       "OgAAAAAAAABERAcAAAAAAACAiOgAAAAAAAAAEBEdAAAAAAAAACKiAwAAAAAAAEBEdAAAAAAAAACI\n",
       "iA4AAAAAAAAAEdEBAAAAAAAAICI6AAAAAAAAAEREBwAAAAAAAICI6AAAAAAAAAAQER0AAAAAAAAA\n",
       "IqIDAAAAAAAAQER0AAAAAAAAAIiIDgAAAAAAAAAR0QEAAAAAAAAgIjoAAAAAAAAAREQHAAAAAAAA\n",
       "gIjoAAAAAAAAABARHQAAAAAAAAAiogMAAAAAAABARHQAAAAAAAAAiIgOAAAAAAAAABHRAQAAAAAA\n",
       "ACAiOgAAAAAAAABERAcAAAAAAACAiOgAAAAAAAAAEBEdAAAAAAAAACKiAwAAAAAAAEBEdAAAAAAA\n",
       "AACIiA4AAAAAAAAAEdEBAAAAAAAAICI6AAAAAAAAAEREBwAAAAAAAICI6AAAAAAAAAAQER0AAAAA\n",
       "AAAAIqIDAAAAAAAAQER0AAAAAAAAAIiIDgAAAAAAAAAR0QEAAAAAAAAgIjoAAAAAAAAAREQHAAAA\n",
       "AAAAgIjoAAAAAAAAABARHQAAAAAAAAAiogMAAAAAAABARHQAAAAAAAAAiIgOAAAAAAAAABHRAQAA\n",
       "AAAAACAiOgAAAAAAAABERAcAAAAAAACAiOgAAAAAAAAAEBEdAAAAAAAAACKiAwAAAAAAAEBEdAAA\n",
       "AAAAAACIiA4AAAAAAAAAEdEBAAAAAAAAICI6AAAAAAAAAEREBwAAAAAAAICI6AAAAAAAAAAQER0A\n",
       "AAAAAAAAIqIDAAAAAAAAQER0AAAAAAAAAIiIDgAAAAAAAAAR0QEAAAAAAAAgIjoAAAAAAAAAREQH\n",
       "AAAAAAAAgIjoAAAAAAAAABARHQAAAAAAAAAiogMAAAAAAABARHQAAAAAAAAAiIgOAAAAAAAAABHR\n",
       "AQAAAAAAACAiOgAAAAAAAABERAcAAAAAAACAiOgAAAAAAAAAEBEdAAAAAAAAACKiAwAAAAAAAEBE\n",
       "dAAAAAAAAACIiA4AAAAAAAAAEdEBAAAAAAAAICI6AAAAAAAAAEREBwAAAAAAAICI6AAAAAAAAAAQ\n",
       "ER0AAAAAAAAAIqIDAAAAAAAAQER0AAAAAAAAAIiIDgAAAAAAAAAR0QEAAAAAAAAgIjoAAAAAAAAA\n",
       "REQHAAAAAAAAgIjoAAAAAAAAABARHQAAAAAAAAAiogMAAAAAAABARHQAAAAAAAAAiIgOAAAAAAAA\n",
       "ABHRAQAAAAAAACAiOgAAAAAAAABERAcAAAAAAACAiOgAAAAAAAAAEBEdAAAAAAAAACKiAwAAAAAA\n",
       "AEBEdAAAAAAAAACIiA4AAAAAAAAAEdEBAAAAAAAAICI6AAAAAAAAAEREBwAAAAAAAICI6AAAAAAA\n",
       "AAAQER0AAAAAAAAAIqIDAAAAAAAAQER0AAAAAAAAAIiIDgAAAAAAAAAR0QEAAAAAAAAgIjoAAAAA\n",
       "AAAAREQHAAAAAAAAgIjoAAAAAAAAABARHQAAAAAAAAAiogMAAAAAAABARHQAAAAAAAAAiIgOAAAA\n",
       "AAAAABHRAQAAAAAAACAiOgAAAAAAAABERAcAAAAAAACAiOgAAAAAAAAAkNPz69fpDQAs6uzybXoC\n",
       "ACu6fZxeAMCCNk/30xMAWND3zX56AgAL8kQHAAAAAAAAgIjoAAAAAAAAABARHQAAAAAAAAAiogMA\n",
       "AAAAAABARHQAAAAAAAAAiIgOAAAAAAAAABHRAQAAAAAAACAiOgAAAAAAAABERAcAAAAAAACAiOgA\n",
       "AAAAAAAAEBEdAAAAAAAAACKiAwAAAAAAAEBEdAAAAAAAAACIiA4AAAAAAAAAEdEBAAAAAAAAICI6\n",
       "AAAAAAAAAEREBwAAAAAAAICI6AAAAAAAAAAQER0AAAAAAAAAIqIDAAAAAAAAQER0AAAAAAAAAIiI\n",
       "DgAAAAAAAAAR0QEAAAAAAAAgIjoAAAAAAAAAREQHAAAAAAAAgIjoAAAAAAAAABARHQAAAAAAAAAi\n",
       "ogMAAAAAAABARHQAAAAAAAAAiIgOAAAAAAAAABHRAQAAAAAAACAiOgAAAAAAAABERAcAAAAAAACA\n",
       "iOgAAAAAAAAAEBEdAAAAAAAAACKiAwAAAAAAAEBEdAAAAAAAAACIiA4AAAAAAAAAEdEBAAAAAAAA\n",
       "ICI6AAAAAAAAAEREBwAAAAAAAICI6AAAAAAAAAAQER0AAAAAAAAAIqIDAAAAAAAAQER0AAAAAAAA\n",
       "AIiIDgAAAAAAAAAR0QEAAAAAAAAgIjoAAAAAAAAAREQHAAAAAAAAgIjoAAAAAAAAABARHQAAAAAA\n",
       "AAAiogMAAAAAAABARHQAAAAAAAAAiIgOAAAAAAAAABHRAQAAAAAAACAiOgAAAAAAAABERAcAAAAA\n",
       "AACAiOgAAAAAAAAAEBEdAAAAAAAAACKiAwAAAAAAAEBEdAAAAAAAAACIiA4AAAAAAAAAEdEBAAAA\n",
       "AAAAICI6AAAAAAAAAEREBwAAAAAAAICI6AAAAAAAAAAQER0AAAAAAAAAIqIDAAAAAAAAQER0AAAA\n",
       "AAAAAIiIDgAAAAAAAAAR0QEAAAAAAAAgIjoAAAAAAAAAREQHAAAAAAAAgIjoAAAAAAAAABARHQAA\n",
       "AAAAAAAiogMAAAAAAABARHQAAAAAAAAAiIgOAAAAAAAAABHRAQAAAAAAACAiOgAAAAAAAABERAcA\n",
       "AAAAAACAiOgAAAAAAAAAEBEdAAAAAAAAACKiAwAAAAAAAEBEdAAAAAAAAACIiA4AAAAAAAAAEdEB\n",
       "AAAAAAAAICI6AAAAAAAAAEREBwAAAAAAAICI6AAAAAAAAAAQER0AAAAAAAAAIqIDAAAAAAAAQER0\n",
       "AAAAAAAAAIiIDgAAAAAAAAAR0QEAAAAAAAAgIjoAAAAAAAAAREQHAAAAAAAAgIjoAAAAAAAAABAR\n",
       "HQAAAAAAAAAiogMAAAAAAABARHQAAAAAAAAAiIgOAAAAAAAAABHRAQAAAAAAACAiOgAAAAAAAABE\n",
       "RAcAAAAAAACAiOgAAAAAAAAAEBEdAAAAAAAAACKiAwAAAAAAAEBEdAAAAAAAAACIiA4AAAAAAAAA\n",
       "EdEBAAAAAAAAICI6AAAAAAAAAEREBwAAAAAAAICI6AAAAAAAAAAQER0AAAAAAAAAIqIDAAAAAAAA\n",
       "QER0AAAAAAAAAIiIDgAAAAAAAAAR0QEAAAAAAAAgIjoAAAAAAAAAREQHAAAAAAAAgIjoAAAAAAAA\n",
       "ABARHQAAAAAAAAAiogMAAAAAAABARHQAAAAAAAAAiIgOAAAAAAAAABHRAQAAAAAAACAiOgAAAAAA\n",
       "AABERAcAAAAAAACAiOgAAAAAAAAAEBEdAAAAAAAAACKiAwAAAAAAAEBEdAAAAAAAAACIiA4AAAAA\n",
       "AAAAEdEBAAAAAAAAICI6AAAAAAAAAEREBwAAAAAAAICI6AAAAAAAAAAQER0AAAAAAAAAIqIDAAAA\n",
       "AAAAQER0AAAAAAAAAIiIDgAAAAAAAAAR0QEAAAAAAAAgIjoAAAAAAAAAREQHAAAAAAAAgIjoAAAA\n",
       "AAAAABARHQAAAAAAAAAiogMAAAAAAABARHQAAAAAAAAAiIgOAAAAAAAAABHRAQAAAAAAACAiOgAA\n",
       "AAAAAABERAcAAAAAAACAiOgAAAAAAAAAEBEdAAAAAAAAACKiAwAAAAAAAEBEdAAAAAAAAACIiA4A\n",
       "AAAAAAAAEdEBAAAAAAAAICI6AAAAAAAAAEREBwAAAAAAAICI6AAAAAAAAAAQER0AAAAAAAAAIqID\n",
       "AAAAAAAAQER0AAAAAAAAAIiIDgAAAAAAAAAR0QEAAAAAAAAgIjoAAAAAAAAAREQHAAAAAAAAgIjo\n",
       "AAAAAAAAABARHQAAAAAAAAAiogMAAAAAAABARHQAAAAAAAAAiIgOAAAAAAAAABHRAQAAAAAAACAi\n",
       "OgAAAAAAAABERAcAAAAAAACAiOgAAAAAAAAAEBEdAAAAAAAAACKiAwAAAAAAAEBEdAAAAAAAAACI\n",
       "iA4AAAAAAAAAEdEBAAAAAAAAICI6AAAAAAAAAEREBwAAAAAAAICI6AAAAAAAAAAQER0AAAAAAAAA\n",
       "IqIDAAAAAAAAQER0AAAAAAAAAIiIDgAAAAAAAAAR0QEAAAAAAAAgIjoAAAAAAAAAREQHAAAAAAAA\n",
       "gIjoAAAAAAAAABARHQAAAAAAAAAiogMAAAAAAABARHQAAAAAAAAAiIgOAAAAAAAAABHRAQAAAAAA\n",
       "ACAiOgAAAAAAAABERAcAAAAAAACAiOgAAAAAAAAAEBEdAAAAAAAAACKiAwAAAAAAAEBEdAAAAAAA\n",
       "AACIiA4AAAAAAAAAEdEBAAAAAAAAICI6AAAAAAAAAEREBwAAAAAAAICI6AAAAAAAAAAQER0AAAAA\n",
       "AAAAIqIDAAAAAAAAQER0AAAAAAAAAIiIDgAAAAAAAAAR0QEAAAAAAAAgIjoAAAAAAAAAREQHAAAA\n",
       "AAAAgIjoAAAAAAAAABARHQAAAAAAAAAiogMAAAAAAABARHQAAAAAAAAAiIgOAAAAAAC/7NuxLQYA\n",
       "FIXRSHQKpajYRCn2UP2VedQaHZUBFGbQiQUkQk3z7fDyknMmuP2XCwAQER0AAAAAAAAAIqIDAAAA\n",
       "AAAAQER0AAAAAAAAAIiIDgAAAAAAAAAR0QEAAAAAAAAgIjoAAAAAAAAAREQHAAAAAAAAgIjoAAAA\n",
       "AAAAABARHQAAAAAAAAAiogMAAAAAAABARHQAAAAAAAAAiIgOAAAAAAAAABHRAQAAAAAAACAiOgAA\n",
       "AAAAAABERAcAAAAAAACAiOgAAAAAAAAAEBEdAAAAAAAAACKiAwAAAAAAAEBEdAAAAAAAAACIiA4A\n",
       "AAAAAAAAEdEBAAAAAAAAICI6AAAAAAAAAEREBwAAAAAAAICI6AAAAAAAAAAQER0AAAAAAAAAIqID\n",
       "AAAAAAAAQER0AAAAAAAAAIiIDgAAAAAAAAAR0QEAAAAAAAAgIjoAAAAAAAAAREQHAAAAAAAAgIjo\n",
       "AAAAAAAAABARHQAAAAAAAAAiogMAAAAAAABARHQAAAAAAAAAiIgOAAAAAAAAABHRAQAAAAAAACAi\n",
       "OgAAAAAAAABERAcAAAAAAACAiOgAAAAAAAAAEBEdAAAAAAAAACKiAwAAAAAAAEBEdAAAAAAAAACI\n",
       "iA4AAAAAAAAAEdEBAAAAAAAAICI6AAAAAAAAAEREBwAAAAAAAICI6AAAAAAAAAAQER0AAAAAAAAA\n",
       "IqIDAAAAAAAAQER0AAAAAAAAAIiIDgAAAAAAAAAR0QEAAAAAAAAgIjoAAAAAAAAAREQHAAAAAAAA\n",
       "gIjoAAAAAAAAABARHQAAAAAAAAAiogMAAAAAAABARHQAAAAAAAAAiIgOAAAAAAAAABHRAQAAAAAA\n",
       "ACAiOgAAAAAAAABERAcAAAAAAACAiOgAAAAAAAAAEBEdAAAAAAAAAHJ0c3L4mx4BwE5XZ9MLANjo\n",
       "7vZhegIAC70+X09PAGChz+/T6QkALOSJDgAAAAAAAAAR0QEAAAAAAAAgIjoAAAAAAAAAREQHAAAA\n",
       "AAAAgIjoAAAAAAAAABARHQAAAAAAAAAiogMAAAAAAABARHQAAAAAAAAAiIgOAAAAAAAAABHRAQAA\n",
       "AAAAACAiOgAAAAAAAABERAcAAAAAAACAiOgAAAAAAAAAEBEdAAAAAAAAACKiAwAAAAAAAEBEdAAA\n",
       "AAAAAACIiA4AAAAAAAAAEdEBAAAAAAAAICI6AAAAAAAAAEREBwAAAAAAAICI6AAAAAAAAAAQER0A\n",
       "AAAAAAAAIqIDAAAAAAAAQER0AAAAAAAAAIiIDgAAAAAAAAAR0QEAAAAAAAAgIjoAAAAAAAAAREQH\n",
       "AAAAAAAAgIjoAAAAAAAAABARHQAAAAAAAAAiogMAAAAAAABARHQAAAAAAAAAiIgOAAAAAAAAABHR\n",
       "AQAAAAAAACAiOgAAAAAAAABERAcAAAAAAACAiOgAAAAAAAAAEBEdAAAAAAAAACKiAwAAAAAAAEBE\n",
       "dAAAAAAAAACIiA4AAAAAAAAAEdEBAAAAAAAAICI6AAAAAAAAAEREBwAAAAAAAICI6AAAAAAAAAAQ\n",
       "ER0AAAAAAAAAIqIDAAAAAAAAQER0AAAAAAAAAIiIDgAAAAAAAAAR0QEAAAAAAAAgIjoAAAAAAAAA\n",
       "REQHAAAAAAAAgIjoAAAAAAAAABARHQAAAAAAAAAiogMAAAAAAABARHQAAAAAAAAAiIgOAAAAAAAA\n",
       "ABHRAQAAAAAAACAiOgAAAAAAAABERAcAAAAAAACAiOgAAAAAAAAAEBEdAAAAAAAAACKiAwAAAAAA\n",
       "AEBEdAAAAAAAAACIiA4AAAAAAAAAEdEBAAAAAAAAICI6AAAAAAAAAEREBwAAAAAAAICI6AAAAAAA\n",
       "AAAQER0AAAAAAAAAIqIDAAAAAAAAQER0AAAAAAAAAIiIDgAAAAAAAAAR0QEAAAAAAAAgIjoAAAAA\n",
       "AAAAREQHAAAAAAAAgIjoAAAAAAAAABARHQAAAAAAAAAiogMAAAAAAABARHQAAAAAAAAAiIgOAAAA\n",
       "AAAAABHRAQAAAAAAACAiOgAAAAAAAABERAcAAAAAAACAiOgAAAAAAAAAEBEdAAAAAAAAACKiAwAA\n",
       "AAAAAEBEdAAAAAAAAACIiA4AAAAAAAAAEdEBAAAAAAAAICI6AAAAAAAAAEREBwAAAAAAAICI6AAA\n",
       "AAAAAAAQER0AAAAAAAAAIqIDAAAAAAAAQER0AAAAAAAAAIiIDgAAAAAAAAAR0QEAAAAAAAAgIjoA\n",
       "AAAAAAAAREQHAAAAAAAAgIjoAAAAAAAAABARHQAAAAAAAAAiogMAAAAAAABARHQAAAAAAAAAiIgO\n",
       "AAAAAAAAABHRAQAAAAAAACAiOgAAAAAAAABERAcAAAAAAACAiOgAAAAAAAAAEBEdAAAAAAAAACKi\n",
       "AwAAAAAAAEBEdAAAAAAAAACIiA4AAAAAAAAAEdEBAAAAAAAAICI6AAAAAAAAAEREBwAAAAAAAICI\n",
       "6AAAAAAAAAAQER0AAAAAAAAAIqIDAAAAAAAAQER0AAAAAAAAAIiIDgAAAAAAAAAR0QEAAAAAAAAg\n",
       "IjoAAAAAAAAAREQHAAAAAAAAgIjoAAAAAAAAABARHQAAAAAAAAAiogMAAAAAAABARHQAAAAAAAAA\n",
       "iIgOAAAAAAAAABHRAQAAAAAAACAiOgAAAAAAAABERAcAAAAAAACAiOgAAAAAAAAAEBEdAAAAAAAA\n",
       "ACKiAwAAAAAAAEBEdAAAAAAAAACIiA4AAAAAAAAAEdEBAAAAAAAAICI6AAAAAAAAAEREBwAAAAAA\n",
       "AICI6AAAAAAAAAAQER0AAAAAAAAAIqIDAAAAAAAAQER0AAAAAAAAAIiIDgAAAAAAAAAR0QEAAAAA\n",
       "AAAgIjoAAAAAAAAAREQHAAAAAAAAgIjoAAAAAAAAABARHQAAAAAAAAAiogMAAAAAAABARHQAAAAA\n",
       "AAAAiIgOAAAAAAAAABHRAQAAAAAAACAiOgAAAAAAAABERAcAAAAAAACAiOgAAAAAAAAAEBEdAAAA\n",
       "AAAAACKiAwAAAAAAAEBEdAAAAAAAAACIiA4AAAAAAAAAEdEBAAAAAAAAICI6AAAAAAAAAEREBwAA\n",
       "AAAAAICI6AAAAAAAAAAQER0AAAAAAAAAIqIDAAAAAAAAQER0AAAAAAAAAIiIDgAAAAAAAAAR0QEA\n",
       "AAAAAAAgIjoAAAAAAAAAREQHAAAAAAAAgIjoAAAAAAAAABARHQAAAAAAAAAiogMAAAAAAABARHQA\n",
       "AAAAAAAAiIgOAAAAAAAAABHRAQAAAAAAACAiOgAAAAAAAABERAcAAAAAAACAiOgAAAAAAAAAEBEd\n",
       "AAAAAAAAACKiAwAAAAAAAEBEdAAAAAAAAACIiA4AAAAAAAAAEdEBAAAAAAAAICI6AAAAAAAAAERE\n",
       "BwAAAAAAAICI6AAAAAAAAAAQER0AAAAAAAAAIqIDAAAAAAAAQER0AAAAAAAAAIiIDgAAAAAAAAAR\n",
       "0QEAAAAAAAAgIjoAAAAAAAAAREQHAAAAAAAAgIjoAAAAAAAAABARHQAAAAAAAAAiogMAAAAAAABA\n",
       "RHQAAAAAAAAAiIgOAAAAAAAAABHRAQAAAAAAACAiOgAAAAAAAABERAcAAAAAAACAiOgAAAAAAAAA\n",
       "EBEdAAAAAAAAACKiAwAAAAAAAEBEdAAAAAAAAACIiA4AAAAAAAAAEdEBAAAAAAAAICI6AAAAAAAA\n",
       "AEREBwAAAAAAAICI6AAAAAAAAAAQER0AAAAAAAAAIqIDAAAAAAAAQER0AAAAAAAAAIiIDgAAAAAA\n",
       "AAAR0QEAAAAAAAAgIjoAAAAAAAAAREQHAAAAAAAAgIjoAAAAAAAAABARHQAAAAAAAAAiogMAAAAA\n",
       "AABARHQAAAAAAAAAiIgOAAAAAAAAABHRAQAAAAAAACAiOgAAAAAAAABERAcAAAAAAACAiOgAAAAA\n",
       "AAAAEBEdAAAAAAAAACKiAwAAAAAAAEBEdAAAAAAAAACIiA4AAAAAAAAAEdEBAAAAAAAAICI6AAAA\n",
       "AAAAAEREBwAAAAAAAICI6AAAAAAAAAAQER0AAAAAAAAAIqIDAAAAAAAAQER0AAAAAAAAAIiIDgAA\n",
       "AAAAAAAR0QEAAAAAAAAgIjoAAAAAAAAAREQHAAAAAAAAgIjoAAAAAAAAABARHQAAAAAAAAAiogMA\n",
       "AAAAAABARHQAAAAAAAAAiIgOAAAAAAAAABHRAQAAAAAAACAiOgAAAAAAAABERAcAAAAAAACAiOgA\n",
       "AAAAAAAAEBEdAAAAAAAAACKiAwAAAAAAAIhNTDEAABc7SURBVEBEdAAAAAAAAACIiA4AAAAAAAAA\n",
       "EdEBAAAAAAAAICI6AAAAAAAAAEREBwAAAAAAAICI6AAAAAAAAAAQER0AAAAAAAAAIqIDAAAAAAAA\n",
       "QER0AAAAAAAAAIiIDgAAAAAAAAAR0QEAAAAAAAAgIjoAAAAAAAAAREQHAAAAAAAAgIjoAAAAAAAA\n",
       "ABARHQAAAAAAAAAiogMAAAAAAABARHQAAAAAAAAAiIgOAAAAAAAAABHRAQAAAAAAACAiOgAAAAAA\n",
       "AABERAcAAAAAAACAiOgAAAAAAAAAEBEdAAAAAAAAACKiAwAAAAAAAEBEdAAAAAAAAACIiA4AAAAA\n",
       "AAAAEdEBAAAAAAAAICI6AAAAAAAAAEREBwAAAAAAAICI6AAAAAAAAAAQER0AAAAAAAAAIqIDAAAA\n",
       "AAAAQI5ffu+nNwCw1OXvYXoCAAt9vV9MTwBgoaeP8+kJACz0+PM2PQGAhTzRAQAAAAAAACAiOgAA\n",
       "AAAAAABERAcAAAAAAACAiOgAAAAAAAAAEBEdAAAAAAAAACKiAwAAAAAAAEBEdAAAAAAAAACIiA4A\n",
       "AAAAAAAAEdEBAAAAAAAAICI6AAAAAAAAAEREBwAAAAAAAICI6AAAAAAAAAAQER0AAAAAAAAAIqID\n",
       "AAAAAAAAQER0AAAAAAAAAIiIDgAAAAAAAAAR0QEAAAAAAAAgIjoAAAAAAAAAREQHAAAAAAAAgIjo\n",
       "AAAAAAAAABARHQAAAAAAAAAiogMAAAAAAABARHQAAAAAAAAAiIgOAAAAAAAAABHRAQAAAAAAACAi\n",
       "OgAAAAAAAABERAcAAAAAAACAiOgAAAAAAAAAEBEdAAAAAAAAACKiAwAAAAAAAEBEdAAAAAAAAACI\n",
       "iA4AAAAAAAAAEdEBAAAAAAAAICI6AAAAAAAAAEREBwAAAAAAAICI6AAAAAAAAAAQER0AAAAAAAAA\n",
       "IqIDAAAAAAAAQER0AAAAAAAAAIiIDgAAAAAAAAAR0QEAAAAAAAAgIjoAAAAAAAAAREQHAAAAAAAA\n",
       "gIjoAAAAAAAAABARHQAAAAAAAAAiogMAAAAAAABARHQAAAAAAAAAiIgOAAAAAAAAABHRAQAAAAAA\n",
       "ACAiOgAAAAAAAABERAcAAAAAAACAiOgAAAAAAAAAEBEdAAAAAAAAACKiAwAAAAAAAEBEdAAAAAAA\n",
       "AACIiA4AAAAAAAAAEdEBAAAAAAAAICI6AAAAAAAAAEREBwAAAAAAAICI6AAAAAAAAAAQER0AAAAA\n",
       "AAAAIqIDAAAAAAAAQER0AAAAAAAAAIiIDgAAAAAAAAAR0QEAAAAAAAAgIjoAAAAAAAAAREQHAAAA\n",
       "AAAAgIjoAAAAAAAAABARHQAAAAAAAAAiogMAAAAAAABARHQAAAAAAAAAiIgOAAAAAAAAABHRAQAA\n",
       "AAAAACAiOgAAAAAAAABERAcAAAAAAACAiOgAAAAAAAAAEBEdAAAAAAAAACKiAwAAAAAAAEBEdAAA\n",
       "AAAAAACIiA4AAAAAAAAAEdEBAAAAAAAAICI6AAAAAAAAAEREBwAAAAAAAICI6AAAAAAAAAAQER0A\n",
       "AAAAAAAAIqIDAAAAAAAAQER0AAAAAAAAAIiIDgAAAAAAAAAR0QEAAAAAAAAgIjoAAAAAAAAAREQH\n",
       "AAAAAAAAgIjoAAAAAAAAABARHQAAAAAAAAAiogMAAAAAAABARHQAAAAAAAAAiIgOAAAAAAAAABHR\n",
       "AQAAAAAAACAiOgAAAAAAAABERAcAAAAAAACAiOgAAAAAAAAAEBEdAAAAAAAAACKiAwAAAAAAAEBE\n",
       "dAAAAAAAAACIiA4AAAAAAAAAEdEBAAAAAAAAICI6AAAAAAAAAEREBwAAAAAAAICI6AAAAAAAAAAQ\n",
       "ER0AAAAAAAAAIqIDAAAAAAAAQER0AAAAAAAAAIiIDgAAAAAAAAAR0QEAAAAAAAAgIjoAAAAAAAAA\n",
       "REQHAAAAAAAAgIjoAAAAAAAAABARHQAAAAAAAAAiogMAAAAAAABARHQAAAAAAAAAiIgOAAAAAAAA\n",
       "ABHRAQAAAAAAACAiOgAAAAAAAABERAcAAAAAAACAiOgAAAAAAAAAEBEdAAAAAAAAACKiAwAAAAAA\n",
       "AEBEdAAAAAAAAACIiA4AAAAAAAAAEdEBAAAAAAAAICI6AAAAAAAAAEREBwAAAAAAAICI6AAAAAAA\n",
       "AAAQER0AAAAAAAAAIqIDAAAAAAAAQER0AAAAAAAAAIiIDgAAAAAAAAAR0QEAAAAAAAAgIjoAAAAA\n",
       "AAAAREQHAAAAAAAAgIjoAAAAAAAAABARHQAAAAAAAAAiogMAAAAAAABARHQAAAAAAAAAiIgOAAAA\n",
       "AAAAABHRAQAAAAAAACAiOgAAAAAAAABERAcAAAAAAACAiOgAAAAAAAAAEBEdAAAAAAAAACKiAwAA\n",
       "AAAAAEBEdAAAAAAAAACIiA4AAAAAAAAAEdEBAAAAAAAAICI6AAAAAAAAAEREBwAAAAAAAICI6AAA\n",
       "AAAAAAAQER0AAAD4b9+OaRCIoiiIhoYaK4RgBRdIIEHGWkEGVmgotoBmPLz85BwFt59cAAAAICI6\n",
       "AAAAAAAAAEREBwAAAAAAAICI6AAAAAAAAAAQER0AAAAAAAAAIqIDAAAAAAAAQER0AAAAAAAAAIiI\n",
       "DgAAAAAAAAAR0QEAAAAAAAAgIjoAAAAAAAAAREQHAAAAAAAAgIjoAAAAAAAAABARHQAAAAAAAAAi\n",
       "ogMAAAAAAABARHQAAAAAAAAAiIgOAAAAAAAAABHRAQAAAAAAACAiOgAAAAAAAABERAcAAAAAAACA\n",
       "iOgAAAAAAAAAEBEdAAAAAAAAACKiAwAAAAAAAEBEdAAAAAAAAACIiA4AAAAAAAAAEdEBAAAAAAAA\n",
       "ICI6AAAAAAAAAEREBwAAAAAAAICI6AAAAAAAAAAQER0AAAAAAAAAIqIDAAAAAAAAQER0AAAAAAAA\n",
       "AIiIDgAAAAAAAAAR0QEAAAAAAAAgIjoAAAAAAAAAREQHAAAAAAAAgIjoAAAAAAAAABARHQAAAAAA\n",
       "AAAiogMAAAAAAABARHQAAAAAAAAAiIgOAAAAAAAAABHRAQAAAAAAACAiOgAAAAAAAABERAcAAAAA\n",
       "AACAiOgAAAAAAAAAEBEdAAAAAAAAACKiAwAAAAAAAEBEdAAAAAAAAACIiA4AAAAAAAAAEdEBAAAA\n",
       "AAAAICI6AAAAAAAAAEREBwAAAAAAAICI6AAAAAAAAAAQER0AAAAAAAAAIqIDAAAAAAAAQER0AAAA\n",
       "AAAAAIiIDgAAAAAAAAAR0QEAAAAAAAAgIjoAAAAAAAAAREQHAAAAAAAAgIjoAAAAAAAAABARHQAA\n",
       "AAAAAAAiogMAAAAAAABARHQAAAAAAAAAiIgOAAAAAAAAABHRAQAAAAAAACAiOgAAAAAAAABERAcA\n",
       "AAAAAACAiOgAAAAAAAAAEBEdAAAAAAAAACKiAwAAAAAAAEBEdAAAAAAAAACIiA4AAAAAAAAAEdEB\n",
       "AAAAAAAAICI6AAAAAAAAAEREBwAAAAAAAICI6AAAAAAAAAAQER0AAAAAAAAAIqIDAAAAAAAAQER0\n",
       "AAAAAAAAAIiIDgAAAAAAAAAR0QEAAAAAAAAgIjoAAAAAAAAAREQHAAAAAAAAgIjoAAAAAAAAABAR\n",
       "HQAAAAAAAAAiogMAAAAAAABARHQAAAAAAAAAiIgOAAAAAAAAABHRAQAAAAAAACAiOgAAAAAAAABE\n",
       "RAcAAAAAAACAiOgAAAAAAAAAEBEdAAAAAAAAACKiAwAAAAAAAEBEdAAAAAAAAACIiA4AAAAAAAAA\n",
       "EdEBAAAAAAAAICI6AAAAAAAAAEREBwAAAAAAAICI6AAAAAAAAAAQER0AAAAAAAAAIqIDAAAAAAAA\n",
       "QER0AAAAAAAAAIiIDgAAAAAAAAAR0QEAAAAAAAAgIjoAAAAAAAAAREQHAAAAAAAAgIjoAAAAAAAA\n",
       "ABARHQAAAAAAAAAiogMAAAAAAABARHQAAAAAAAAAiIgOAAAAAAAAABHRAQAAAAAAACAiOgAAAAAA\n",
       "AABERAcAAAAAAACAiOgAAAAAAAAAEBEdAAAAAAAAACKiAwAAAAAAAEBEdAAAAAAAAACIiA4AAAAA\n",
       "AAAAEdEBAAAAAAAAICI6AAAAAAAAAEREBwAAAAAAAICI6AAAAAAAAAAQER0AAAAAAAAAIqIDAAAA\n",
       "AAAAQER0AAAAAAAAAIiIDgAAAAAAAAAR0QEAAAAAAAAgIjoAAAAAAAAAREQHAAAAAAAAgBxe19tv\n",
       "egQAa7qc39MTAFjQaXtMTwBgQZ/7c3oCAAvav8fpCQAsyBMdAAAAAAAAACKiAwAAAAAAAEBEdAAA\n",
       "AAAAAACIiA4AAAAAAAAAEdEBAAAAAAAAICI6AAAAAAAAAEREBwAAAAAAAICI6AAAAAAAAAAQER0A\n",
       "AAAAAAAAIqIDAAAAAAAAQER0AAAAAAAAAIiIDgAAAAAAAAAR0QEAAAAAAAAgIjoAAAAAAAAAREQH\n",
       "AAAAAAAAgIjoAAAAAAAAABARHQAAAAAAAAAiogMAAAAAAABARHQAAAAAAAAAiIgOAAAAAAAAABHR\n",
       "AQAAAAAAACAiOgAAAAAAAABERAcAAAAAAACAiOgAAAAAAAAAEBEdAAAAAAAAACKiAwAAAAAAAEBE\n",
       "dAAAAAAAAACIiA4AAAAAAAAAEdEBAAAAAAAAICI6AAAAAAAAAEREBwAAAAAAAICI6AAAAAAAAAAQ\n",
       "ER0AAAAAAAAAIqIDAAAAAAAAQER0AAAAAAAAAIiIDgAAAAAAAAAR0QEAAAAAAAAgIjoAAAAAAAAA\n",
       "REQHAAAAAAAAgIjoAAAAAAAAABARHQAAAAAAAAAiogMAAAAAAABARHQAAAAAAAAAiIgOAAAAAAAA\n",
       "ABHRAQAAAAAAACAiOgAAAAAAAABERAcAAAAAAACAiOgAAAAAAAAAEBEdAAAAAAAAACKiAwAAAAAA\n",
       "AEBEdAAAAAAAAACIiA4AAAAAAAAAEdEBAAAAAAAAICI6AAAAAAAAAEREBwAAAAAAAICI6AAAAAAA\n",
       "AAAQER0AAAAAAAAAIqIDAAAAAAAAQER0AAAAAAAAAIiIDgAAAAAAAAAR0QEAAAAAAAAgIjoAAAAA\n",
       "AAAAREQHAAAAAAAAgIjoAAAAAAAAABARHQAAAAAAAAAiogMAAAAAAABARHQAAAAAAAAAiIgOAAAA\n",
       "AAAAABHRAQAAAAAAACAiOgAAAAAAAABERAcAAAAAAACAiOgAAAAAAAAAEBEdAAAAAAAAACKiAwAA\n",
       "AAAAAEBEdAAAAAAAAACIiA4AAAAAAAAAEdEBAAAAAAAAICI6AAAAAAAAAEREBwAAAAAAAICI6AAA\n",
       "AAAAAAAQER0AAAAAAAAAIqIDAAAAAAAAQER0AAAAAAAAAIiIDgAAAAAAAAAR0QEAAAAAAAAgIjoA\n",
       "AAAAAAAAREQHAAAAAAAAgIjoAAAAAAAAABARHQAAAAAAAAAiogMAAAAAAABARHQAAAAAAAAAiIgO\n",
       "AAAAAAAAABHRAQAAAAAAACAiOgAAAAAAAABERAcAAAAAAACAiOgAAAAAAAAAEBEdAAAAAAAAACKi\n",
       "AwAAAAAAAEBEdAAAAAAAAACIiA4AAAAAAAAAEdEBAAAAAAAAICI6AAAAAAAAAEREBwAAAAAAAICI\n",
       "6AAAAAAAAAAQER0AAAAAAAAAIqIDAAAAAAAAQER0AAAAAAAAAIiIDgAAAAAAAAAR0QEAAAAAAAAg\n",
       "IjoAAAAAAAAAREQHAAAAAAAAgIjoAAAAAAAAABARHQAAAAAAAAAiogMAAAAAAABARHQAAAAAAAAA\n",
       "iIgOAAAAAAAAABHRAQAAAAAAACAiOgAAAAAAAABERAcAAAAAAACAiOgAAAAAAAAAEBEdAAAAAAAA\n",
       "ACKiAwAAAAAAAEBEdAAAAAAAAACIiA4AAAAAAAAAEdEBAAAAAAAAICI6AAAAAAAAAEREBwAAAAAA\n",
       "AICI6AAAAAAAAAAQER0AAAAAAAAAIqIDAAAAAAAAQER0AAAAAAAAAIiIDgAAAAAAAAAR0QEAAAAA\n",
       "AAAgIjoAAAAAAAAAREQHAAAAAAAAgIjoAAAAAAAAABARHQAAAAAAAAAiogMAAAAAAABARHQAAAAA\n",
       "AAAAiIgOAAAAAAAAABHRAQAAAAAAACAiOgAAAAAAAABERAcAAAAAAACAiOgAAAAAAAAAEBEdAAAA\n",
       "AAAAACKiAwAAAAAAAEBEdAAAAAAAAACIiA4AAAAAAAAAEdEBAAAAAAAAICI6AAAAAAAAAEREBwAA\n",
       "AAAAAICI6AAAAAAAAAAQER0AAAAAAAAAIqIDAAAAAAAAQER0AAAAAAAAAIiIDgAAAAAAAAAR0QEA\n",
       "AAAAAAAgIjoAAAAAAAAAREQHAAAAAAAAgIjoAAAAAAAAABARHQAAAAAAAAAiogMAAAAAAABARHQA\n",
       "AAAAAAAAiIgOAAAAAAAAABHRAQAAAAAAACAiOgAAAAAAAABERAcAAAAAAACAiOgAAAAAAAAAEBEd\n",
       "AAAAAAAAACKiAwAAAAAAAEBEdAAAAAAAAACIiA4AAAAAAAAAEdEBAAAAAAAAICI6AAAAAAAAAERE\n",
       "BwAAAAAAAICI6AAAAAAAAAAQER0AAAAAAAAAIqIDAAAAAAAAQER0AAAAAAAAAIiIDgAAAAAAAAAR\n",
       "0QEAAAAAAAAgIjoAAAAAAAAAREQHAAAAAAAAgIjoAAAAAAAAABARHQAAAAAAAAAiogMAAAAAAABA\n",
       "RHQAAAAAAAAAiIgOAAAAAAAAABHRAQAAAAAAACAiOgAAAAAAAABERAcAAAAAAACAiOgAAAAAAAAA\n",
       "EBEdAAAAAAAAACKiAwAAAAAAAEBEdAAAAAAAAACIiA4AAAAAAAAAEdEBAAAAAAAAICI6AAAAAAAA\n",
       "AEREBwAAAAAAAICI6AAAAAAAAAAQER0AAAAAAAAAIqIDAAAAAAAAQER0AAAAAAAAAIiIDgAAAAAA\n",
       "AAAR0QEAAAAAAAAgIjoAAAAAAAAAREQHAAAAAAAAgIjoAAAAAAAAABARHQAAAAAAAAAiogMAAAAA\n",
       "AABARHQAAAAAAAAAiIgOAAAAAAAAABHRAQAAAAAAACAiOgAAAAAAAABERAcAAAAAAACAiOgAAAAA\n",
       "AAAAEBEdAAAAAAAAACKiAwAAAAAAAEBEdAAAAAAAAACIiA4AAAAAAAAAEdEBAAAAAAAAICI6AAAA\n",
       "AAAAAEREBwAAAAAAAICI6AAAAAAAAAAQER0AAAAAAAAAIqIDAAAAAAAAQER0AAAAAAAAAIiIDgAA\n",
       "AAAAAAAR0QEAAAAAAAAgIjoAAAAAAAAAREQHAAAAAAAAgIjoAAAAAAAAABARHQAAAAAAAAAiogMA\n",
       "AAAAAABARHQAAAAAAAAAiIgOAAAAAAAAABHRAQAAAAAAACAiOgAAAAAAAABERAcAAAAAAACAiOgA\n",
       "AAAAAAAAEBEdAAAAAAAAACKiAwAAAAAAAEBEdAAAAAAAAACIiA4AAAAAAAAAEdEBAAAAAAAAICI6\n",
       "AAAAAAAAAEREBwAAAAAAAICI6AAAAAAAAAAQER0AAAAAAAAAIqIDAAAAAAAAQER0AAAAAAAAAIiI\n",
       "DgAAAAAAAAAR0QEAAAAAAAAgIjoAAAAAAAAAREQHAAAAAAAAgIjoAAAAAAAAABARHQAAAAAAAAAi\n",
       "ogMAAAAAAABARHQAAAAAAAAAiIgOAAAAAAAAABHRAQAAAAAAACAiOgAAAAAAAABERAcAAAAAAACA\n",
       "iOgAAAAAAAAAEBEdAAAAAAAAACKiAwAAAAAAAEBEdAAAAAAAAACIiA4AAAAAAAAAEdEBAAAAAAAA\n",
       "ICI6AAAAAAAAAEREBwAAAAAAAICI6AAAAAAAAAAQER0AAAAAAAAAIqIDAAAAAAAAQER0AAAAAAAA\n",
       "AIiIDgAAAAAAAAAR0QEAAAAAAAAgIjoAAAAAAAAAREQHAAAAAAAAgIjoAAAAAAAAABARHQAAAAAA\n",
       "AAAiogMAAAAAAABARHQAAAAAAAAAiIgOAAAAAAAAABHRAQAAAAAAACAiOgAAAAAAAADkD9FbM6Ej\n",
       "9BDtAAAAAElFTkSuQmCC\n",
       "\" transform=\"translate(112, 47)\"/>\n",
       "</g>\n",
       "<defs>\n",
       "  <clipPath id=\"clip423\">\n",
       "    <rect x=\"2160\" y=\"47\" width=\"73\" height=\"1440\"/>\n",
       "  </clipPath>\n",
       "</defs>\n",
       "<g clip-path=\"url(#clip423)\">\n",
       "<image width=\"72\" height=\"1439\" xlink:href=\"data:image/png;base64,\n",
       "iVBORw0KGgoAAAANSUhEUgAAAEgAAAWfCAYAAAAI7rB3AAAMWUlEQVR4nO3dwY0rRxAFwaZQ/lsh\n",
       "L6XfLQtUeSQPERYsEg8c9MyQ+/n3/v0O/+uvb/8Bv06gIFAQKAgU5r5/v/03/DQLCgIFgYJAQaAw\n",
       "7/359t/w0ywoCBQECgIFR41gQUGgIFAQKAgU5rmKrSwoCBQECgIFgcK86yq2saAgUBAoCBQcNYIF\n",
       "BYGCQEGgIFBwFQsWFAQKAgWBgvtBwYKCQEGgIFAQKMxx1FhZUBAoCBQECgIFN8yCBQWBgkBBoDDH\n",
       "DbOVBQWBgkBBoCBQmHP/+fbf8NMsKAgUBAoCBYGCxz7BgoJAQaAgUHDDLFhQECgIFAQKAgVXsWBB\n",
       "QaAgUBAouB8ULCgIFAQKAgWBwnwcNVYWFAQKAgWBgkBhzvWfWTYWFAQKAgWBgqNGsKAgUBAoCBQE\n",
       "Co4awYKCQEGgIFAQKHjDLFhQECgIFAQK83HUWFlQECgIFAQKAgXvSQcLCgIFgYJAwVEjWFAQKAgU\n",
       "BAoCBc/mgwUFgYJAQaAgUHAWCxYUBAoCBYGCo0awoCBQECgIFAQKjhrBgoJAQaAgUBAozLn323/D\n",
       "T7OgIFAQKAgUHDWCBQWBgkBBoCBQ8NgnWFAQKAgUBAo+pIMFBYGCQEGgIFCYj6caKwsKAgWBgkBB\n",
       "oOAsFiwoCBQECgIFL1AFCwoCBYGCQEGg4IZZsKAgUBAoCBTcDwoWFAQKAgWBgkDBDbNgQUGgIFAQ\n",
       "KAgUXMWCBQWBgkBBoOB788GCgkBBoCBQECg4agQLCgIFgYJAQaDgKhYsKAgUBAoCBR/SwYKCQEGg\n",
       "IFAQKLiKBQsKAgWBgkBhzvMhvbGgIFAQKAgUBAqOGsGCgkBBoCBQECi4igULCgIFgYJAwYd0sKAg\n",
       "UBAoCBQECnPu+/bf8NMsKAgUBAoCBYGCs1iwoCBQECgIFBw1ggUFgYJAQaAgUHDUCBYUBAoCBYGC\n",
       "o0awoCBQECgIFAQKc5w0VhYUBAoCBYGCQGHOcxbbWFAQKAgUBAqOGsGCgkBBoCBQECi4igULCgIF\n",
       "gYJAQaAwfohzZ0FBoCBQECg4agQLCgIFgYJAQaDgKhYsKAgUBAoChTn38+2/4adZUBAoCBQECgKF\n",
       "ec9VbGNBQaAgUBAoCBTcMAsWFAQKAgWBghtmwYKCQEGgIFAQKMy7Gm3UCQIFgYJAwVEjWFAQKAgU\n",
       "BAoChTmeza8sKAgUBAoCBYHCPGexlQUFgYJAQaAwx1ONlTpBoCBQECgIFBw1ggUFgYJAQaAgUPDY\n",
       "J1hQECgIFAQKXgMO6gSBgkBBoCBQ8J50sKAgUBAoCBQ81QgWFAQKAgWBgkBh3tNoo04QKAgUBAoC\n",
       "BTfMggUFgYJAQaDghlmwoCBQECgIFAQKc9wwW6kTBAoCBYGCQMFZLFhQECgIFAQKPqSDBQWBgkBB\n",
       "oCBQ8L35YEFBoCBQECj43nxQJwgUBAoCBYHCPEeNlQUFgYJAQaAgUPDYJ1hQECgIFAQK/jNLUCcI\n",
       "FAQKAgWBghtmwYKCQEGgIFAQKLhhFiwoCBQECgIFR41gQUGgIFAQKAgUvCcd1AkCBYGCQMFRI1hQ\n",
       "ECgIFAQKAgVPNYIFBYGCQEGgIFBwFgsWFAQKAgWBgn+fFSwoCBQECgIFgYJ/ZRzUCQIFgYJAQaDg\n",
       "hlmwoCBQECgIFDybDxYUBAoCBYGCQMFRI1hQECgIFAQKc31IrywoCBQECgIFgYLvzQd1gkBBoCBQ\n",
       "ECi4YRYsKAgUBAoCBR/SwYKCQEGgIFAQKHjDLFhQECgIFAQKjhrBgoJAQaAgUBAouIoFCwoCBYGC\n",
       "QEGg4NdfgjpBoCBQECjM9VRjZUFBoCBQECgIFNwwCxYUBAoCBYGCQMFVLFhQECgIFAQKPqSDBQWB\n",
       "gkBBoCBQ8BtmwYKCQEGgIFBw1AgWFAQKAgWBgkDBVSxYUBAoCBQECgIFX2YJ6gSBgkBBoODLLMGC\n",
       "gkBBoCBQECi4YRYsKAgUBAoCBYGCq1iwoCBQECgIFLwGHCwoCBQECgIFgYKjRrCgIFAQKAgU5h0f\n",
       "0hsLCgIFgYJAQaDghlmwoCBQECgIFAQKbpgFCwoCBYGCQMFRI1hQECgIFAQKAgVHjWBBQaAgUBAo\n",
       "CBScxYIFBYGCQEGg4KgRLCgIFAQKAgWBgqtYsKAgUBAoCBTm+jLLyoKCQEGgIFAQKDhqBAsKAgWB\n",
       "gkBBoODZfLCgIFAQKAgU5r1v/wm/zYKCQEGgIFAQKDhqBAsKAgWBgkDBD00GCwoCBYGCQEGg4KgR\n",
       "LCgIFAQKAgWBgjfMggUFgYJAQaDgyyzBgoJAQaAgUBAoeMMsWFAQKAgUBAoCBY99ggUFgYJAQaDg\n",
       "qUawoCBQECgIFAQKHvsECwoCBYGCQMH9oGBBQaAgUBAoCBQ8mw8WFAQKAgWBgkDBDbNgQUGgIFAQ\n",
       "KHg2HywoCBQECgIFgcLcb/8FP86CgkBBoCBQECg4iwULCgIFgYJAwRtmwYKCQEGgIFAQKLhhFiwo\n",
       "CBQECgIF94OCBQWBgkBBoCBQcNQIFhQECgIFgYJAwVksWFAQKAgUBAqezQcLCgIFgYJAQaAwfvxl\n",
       "Z0FBoCBQECgIFJzFggUFgYJAQaDg2XywoCBQECgIFAQKns0HCwoCBYGCQMFRI1hQECgIFAQKAgVH\n",
       "jWBBQaAgUBAoCBTmesVsZUFBoCBQECi4YRYsKAgUBAoCBYGCG2bBgoJAQaAgUHDUCBYUBAoCBYGC\n",
       "QGGepxorCwoCBYGCQEGgMPe4YbaxoCBQECgIFLxAFSwoCBQECgIFgYIfmgwWFAQKAgWBgkDBD00G\n",
       "CwoCBYGCQMGz+WBBQaAgUBAoCBS8Jx0sKAgUBAoCBd84DBYUBAoCBYGCQMFRI1hQECgIFAQKAgXv\n",
       "SQcLCgIFgYJAwWvAwYKCQEGgIFAQKDhqBAsKAgWBgkBBoOA96WBBQaAgUBAo+ImuYEFBoCBQECgI\n",
       "FNwwCxYUBAoCBYGCZ/PBgoJAQaAgUBAoOGoECwoCBYGCQEGg4CwWLCgIFAQKAgVHjWBBQaAgUBAo\n",
       "CBRcxYIFBYGCQEGgIFBwwyxYUBAoCBQECo4awYKCQEGgIFAQKDhqBAsKAgWBgkDBUSNYUBAoCBQE\n",
       "CgIFP9EVLCgIFAQKAgWBgv8vFiwoCBQECgIFN8yCBQWBgkBBoCBQmHdcxjYWFAQKAgWBgkDBWSxY\n",
       "UBAoCBQECp7NBwsKAgWBgkBBoODZfLCgIFAQKAgU3A8KFhQECgIFgYJAwbP5YEFBoCBQECgIFJzF\n",
       "ggUFgYJAQaDgJ7qCBQWBgkBBoCBQmOsVs5UFBYGCQEGg4AWqYEFBoCBQECgIFOY5aqwsKAgUBAoC\n",
       "BYGCs1iwoCBQECgIFDzVCBYUBAoCBYGCQMEbZsGCgkBBoCBQECjM9ZXMlQUFgYJAQaDghlmwoCBQ\n",
       "ECgIFAQKfv0lWFAQKAgUBApeoAoWFAQKAgWBgkDBU41gQUGgIFAQKAgU3DALFhQECgIFgcLc45bZ\n",
       "xoKCQEGgIFAQKLhhFiwoCBQECgIFgYKrWLCgIFAQKAgUPNUIFhQECgIFgYJAwWOfYEFBoCBQECjM\n",
       "/ThqbCwoCBQECgIFgYKjRrCgIFAQKAgUBArzXMVWFhQECgIFgYKjRrCgIFAQKAgUBApzP65iGwsK\n",
       "AgWBgkBBoOAsFiwoCBQECgIFTzWCBQWBgkBBoCBQcNQIFhQECgIFgYIP6WBBQaAgUBAoCBQ8mw8W\n",
       "FAQKAgWBgkBh3vnz7b/hp1lQECgIFAQKbpgFCwoCBYGCQEGg4A2zYEFBoCBQECjMfe4HbSwoCBQE\n",
       "CgIFgYKjRrCgIFAQKAgUBApzPZtfWVAQKAgUBAqOGsGCgkBBoCBQECg4agQLCgIFgYJAQaAw7zmL\n",
       "bSwoCBQECgIFN8yCBQWBgkBBoCBQ8J50sKAgUBAoCBQcNYIFBYGCQEGgIFCY56ixsqAgUBAoCBQE\n",
       "Cs5iwYKCQEGgIFCY6wWqlQUFgYJAQaAgUPCb9sGCgkBBoCBQECj4MkuwoCBQECgIFDzVCBYUBAoC\n",
       "BYGCQMFRI1hQECgIFAQKPqSDBQWBgkBBoCBQ8Gw+WFAQKAgUBAoCBWexYEFBoCBQECjM8Wx+ZUFB\n",
       "oCBQECgIFBw1ggUFgYJAQaAgUPCedLCgIFAQKAgU5jhqrCwoCBQECgIFgYI3zIIFBYGCQEGg4Nl8\n",
       "sKAgUBAoCBQECm6YBQsKAgWBgkBBoDDvvG//DT/NgoJAQaAgUHDDLFhQECgIFAQKAoU5jhorCwoC\n",
       "BYGCQOE/LrLuTX/wFc8AAAAASUVORK5CYII=\n",
       "\" transform=\"translate(2161, 47)\"/>\n",
       "</g>\n",
       "<path clip-path=\"url(#clip420)\" d=\"M2280.7 1307.35 Q2277.09 1307.35 2275.26 1310.92 Q2273.45 1314.46 2273.45 1321.59 Q2273.45 1328.7 2275.26 1332.26 Q2277.09 1335.8 2280.7 1335.8 Q2284.33 1335.8 2286.14 1332.26 Q2287.97 1328.7 2287.97 1321.59 Q2287.97 1314.46 2286.14 1310.92 Q2284.33 1307.35 2280.7 1307.35 M2280.7 1303.65 Q2286.51 1303.65 2289.57 1308.26 Q2292.64 1312.84 2292.64 1321.59 Q2292.64 1330.32 2289.57 1334.92 Q2286.51 1339.51 2280.7 1339.51 Q2274.89 1339.51 2271.81 1334.92 Q2268.76 1330.32 2268.76 1321.59 Q2268.76 1312.84 2271.81 1308.26 Q2274.89 1303.65 2280.7 1303.65 Z\" fill=\"#000000\" fill-rule=\"evenodd\" fill-opacity=\"1\" /><path clip-path=\"url(#clip420)\" d=\"M2300.86 1332.96 L2305.75 1332.96 L2305.75 1338.84 L2300.86 1338.84 L2300.86 1332.96 Z\" fill=\"#000000\" fill-rule=\"evenodd\" fill-opacity=\"1\" /><path clip-path=\"url(#clip420)\" d=\"M2325.93 1307.35 Q2322.32 1307.35 2320.49 1310.92 Q2318.69 1314.46 2318.69 1321.59 Q2318.69 1328.7 2320.49 1332.26 Q2322.32 1335.8 2325.93 1335.8 Q2329.57 1335.8 2331.37 1332.26 Q2333.2 1328.7 2333.2 1321.59 Q2333.2 1314.46 2331.37 1310.92 Q2329.57 1307.35 2325.93 1307.35 M2325.93 1303.65 Q2331.74 1303.65 2334.8 1308.26 Q2337.88 1312.84 2337.88 1321.59 Q2337.88 1330.32 2334.8 1334.92 Q2331.74 1339.51 2325.93 1339.51 Q2320.12 1339.51 2317.04 1334.92 Q2313.99 1330.32 2313.99 1321.59 Q2313.99 1312.84 2317.04 1308.26 Q2320.12 1303.65 2325.93 1303.65 Z\" fill=\"#000000\" fill-rule=\"evenodd\" fill-opacity=\"1\" /><path clip-path=\"url(#clip420)\" d=\"M2350.12 1334.9 L2366.44 1334.9 L2366.44 1338.84 L2344.5 1338.84 L2344.5 1334.9 Q2347.16 1332.15 2351.74 1327.52 Q2356.35 1322.86 2357.53 1321.52 Q2359.77 1319 2360.65 1317.26 Q2361.56 1315.5 2361.56 1313.81 Q2361.56 1311.06 2359.61 1309.32 Q2357.69 1307.59 2354.59 1307.59 Q2352.39 1307.59 2349.94 1308.35 Q2347.51 1309.11 2344.73 1310.67 L2344.73 1305.94 Q2347.55 1304.81 2350.01 1304.23 Q2352.46 1303.65 2354.5 1303.65 Q2359.87 1303.65 2363.06 1306.34 Q2366.26 1309.02 2366.26 1313.51 Q2366.26 1315.64 2365.45 1317.56 Q2364.66 1319.46 2362.55 1322.05 Q2361.97 1322.73 2358.87 1325.94 Q2355.77 1329.14 2350.12 1334.9 Z\" fill=\"#000000\" fill-rule=\"evenodd\" fill-opacity=\"1\" /><path clip-path=\"url(#clip420)\" d=\"M2376.3 1304.28 L2394.66 1304.28 L2394.66 1308.21 L2380.58 1308.21 L2380.58 1316.68 Q2381.6 1316.34 2382.62 1316.17 Q2383.64 1315.99 2384.66 1315.99 Q2390.45 1315.99 2393.82 1319.16 Q2397.2 1322.33 2397.2 1327.75 Q2397.2 1333.33 2393.73 1336.43 Q2390.26 1339.51 2383.94 1339.51 Q2381.76 1339.51 2379.5 1339.14 Q2377.25 1338.77 2374.84 1338.03 L2374.84 1333.33 Q2376.93 1334.46 2379.15 1335.02 Q2381.37 1335.57 2383.85 1335.57 Q2387.85 1335.57 2390.19 1333.47 Q2392.53 1331.36 2392.53 1327.75 Q2392.53 1324.14 2390.19 1322.03 Q2387.85 1319.92 2383.85 1319.92 Q2381.97 1319.92 2380.1 1320.34 Q2378.25 1320.76 2376.3 1321.64 L2376.3 1304.28 Z\" fill=\"#000000\" fill-rule=\"evenodd\" fill-opacity=\"1\" /><path clip-path=\"url(#clip420)\" d=\"M2280.7 994.548 Q2277.09 994.548 2275.26 998.113 Q2273.45 1001.65 2273.45 1008.78 Q2273.45 1015.89 2275.26 1019.46 Q2277.09 1023 2280.7 1023 Q2284.33 1023 2286.14 1019.46 Q2287.97 1015.89 2287.97 1008.78 Q2287.97 1001.65 2286.14 998.113 Q2284.33 994.548 2280.7 994.548 M2280.7 990.844 Q2286.51 990.844 2289.57 995.451 Q2292.64 1000.03 2292.64 1008.78 Q2292.64 1017.51 2289.57 1022.12 Q2286.51 1026.7 2280.7 1026.7 Q2274.89 1026.7 2271.81 1022.12 Q2268.76 1017.51 2268.76 1008.78 Q2268.76 1000.03 2271.81 995.451 Q2274.89 990.844 2280.7 990.844 Z\" fill=\"#000000\" fill-rule=\"evenodd\" fill-opacity=\"1\" /><path clip-path=\"url(#clip420)\" d=\"M2300.86 1020.15 L2305.75 1020.15 L2305.75 1026.03 L2300.86 1026.03 L2300.86 1020.15 Z\" fill=\"#000000\" fill-rule=\"evenodd\" fill-opacity=\"1\" /><path clip-path=\"url(#clip420)\" d=\"M2325.93 994.548 Q2322.32 994.548 2320.49 998.113 Q2318.69 1001.65 2318.69 1008.78 Q2318.69 1015.89 2320.49 1019.46 Q2322.32 1023 2325.93 1023 Q2329.57 1023 2331.37 1019.46 Q2333.2 1015.89 2333.2 1008.78 Q2333.2 1001.65 2331.37 998.113 Q2329.57 994.548 2325.93 994.548 M2325.93 990.844 Q2331.74 990.844 2334.8 995.451 Q2337.88 1000.03 2337.88 1008.78 Q2337.88 1017.51 2334.8 1022.12 Q2331.74 1026.7 2325.93 1026.7 Q2320.12 1026.7 2317.04 1022.12 Q2313.99 1017.51 2313.99 1008.78 Q2313.99 1000.03 2317.04 995.451 Q2320.12 990.844 2325.93 990.844 Z\" fill=\"#000000\" fill-rule=\"evenodd\" fill-opacity=\"1\" /><path clip-path=\"url(#clip420)\" d=\"M2346.14 991.469 L2364.5 991.469 L2364.5 995.404 L2350.42 995.404 L2350.42 1003.88 Q2351.44 1003.53 2352.46 1003.37 Q2353.48 1003.18 2354.5 1003.18 Q2360.28 1003.18 2363.66 1006.35 Q2367.04 1009.52 2367.04 1014.94 Q2367.04 1020.52 2363.57 1023.62 Q2360.1 1026.7 2353.78 1026.7 Q2351.6 1026.7 2349.33 1026.33 Q2347.09 1025.96 2344.68 1025.22 L2344.68 1020.52 Q2346.76 1021.65 2348.99 1022.21 Q2351.21 1022.77 2353.69 1022.77 Q2357.69 1022.77 2360.03 1020.66 Q2362.37 1018.55 2362.37 1014.94 Q2362.37 1011.33 2360.03 1009.22 Q2357.69 1007.12 2353.69 1007.12 Q2351.81 1007.12 2349.94 1007.53 Q2348.08 1007.95 2346.14 1008.83 L2346.14 991.469 Z\" fill=\"#000000\" fill-rule=\"evenodd\" fill-opacity=\"1\" /><path clip-path=\"url(#clip420)\" d=\"M2386.26 994.548 Q2382.64 994.548 2380.82 998.113 Q2379.01 1001.65 2379.01 1008.78 Q2379.01 1015.89 2380.82 1019.46 Q2382.64 1023 2386.26 1023 Q2389.89 1023 2391.7 1019.46 Q2393.52 1015.89 2393.52 1008.78 Q2393.52 1001.65 2391.7 998.113 Q2389.89 994.548 2386.26 994.548 M2386.26 990.844 Q2392.07 990.844 2395.12 995.451 Q2398.2 1000.03 2398.2 1008.78 Q2398.2 1017.51 2395.12 1022.12 Q2392.07 1026.7 2386.26 1026.7 Q2380.45 1026.7 2377.37 1022.12 Q2374.31 1017.51 2374.31 1008.78 Q2374.31 1000.03 2377.37 995.451 Q2380.45 990.844 2386.26 990.844 Z\" fill=\"#000000\" fill-rule=\"evenodd\" fill-opacity=\"1\" /><path clip-path=\"url(#clip420)\" d=\"M2280.7 681.741 Q2277.09 681.741 2275.26 685.306 Q2273.45 688.847 2273.45 695.977 Q2273.45 703.083 2275.26 706.648 Q2277.09 710.19 2280.7 710.19 Q2284.33 710.19 2286.14 706.648 Q2287.97 703.083 2287.97 695.977 Q2287.97 688.847 2286.14 685.306 Q2284.33 681.741 2280.7 681.741 M2280.7 678.037 Q2286.51 678.037 2289.57 682.644 Q2292.64 687.227 2292.64 695.977 Q2292.64 704.704 2289.57 709.31 Q2286.51 713.893 2280.7 713.893 Q2274.89 713.893 2271.81 709.31 Q2268.76 704.704 2268.76 695.977 Q2268.76 687.227 2271.81 682.644 Q2274.89 678.037 2280.7 678.037 Z\" fill=\"#000000\" fill-rule=\"evenodd\" fill-opacity=\"1\" /><path clip-path=\"url(#clip420)\" d=\"M2300.86 707.343 L2305.75 707.343 L2305.75 713.222 L2300.86 713.222 L2300.86 707.343 Z\" fill=\"#000000\" fill-rule=\"evenodd\" fill-opacity=\"1\" /><path clip-path=\"url(#clip420)\" d=\"M2325.93 681.741 Q2322.32 681.741 2320.49 685.306 Q2318.69 688.847 2318.69 695.977 Q2318.69 703.083 2320.49 706.648 Q2322.32 710.19 2325.93 710.19 Q2329.57 710.19 2331.37 706.648 Q2333.2 703.083 2333.2 695.977 Q2333.2 688.847 2331.37 685.306 Q2329.57 681.741 2325.93 681.741 M2325.93 678.037 Q2331.74 678.037 2334.8 682.644 Q2337.88 687.227 2337.88 695.977 Q2337.88 704.704 2334.8 709.31 Q2331.74 713.893 2325.93 713.893 Q2320.12 713.893 2317.04 709.31 Q2313.99 704.704 2313.99 695.977 Q2313.99 687.227 2317.04 682.644 Q2320.12 678.037 2325.93 678.037 Z\" fill=\"#000000\" fill-rule=\"evenodd\" fill-opacity=\"1\" /><path clip-path=\"url(#clip420)\" d=\"M2344.91 678.662 L2367.14 678.662 L2367.14 680.653 L2354.59 713.222 L2349.7 713.222 L2361.51 682.597 L2344.91 682.597 L2344.91 678.662 Z\" fill=\"#000000\" fill-rule=\"evenodd\" fill-opacity=\"1\" /><path clip-path=\"url(#clip420)\" d=\"M2376.3 678.662 L2394.66 678.662 L2394.66 682.597 L2380.58 682.597 L2380.58 691.069 Q2381.6 690.722 2382.62 690.56 Q2383.64 690.375 2384.66 690.375 Q2390.45 690.375 2393.82 693.546 Q2397.2 696.718 2397.2 702.134 Q2397.2 707.713 2393.73 710.815 Q2390.26 713.893 2383.94 713.893 Q2381.76 713.893 2379.5 713.523 Q2377.25 713.153 2374.84 712.412 L2374.84 707.713 Q2376.93 708.847 2379.15 709.403 Q2381.37 709.958 2383.85 709.958 Q2387.85 709.958 2390.19 707.852 Q2392.53 705.745 2392.53 702.134 Q2392.53 698.523 2390.19 696.417 Q2387.85 694.31 2383.85 694.31 Q2381.97 694.31 2380.1 694.727 Q2378.25 695.143 2376.3 696.023 L2376.3 678.662 Z\" fill=\"#000000\" fill-rule=\"evenodd\" fill-opacity=\"1\" /><path clip-path=\"url(#clip420)\" d=\"M2280.7 368.934 Q2277.09 368.934 2275.26 372.499 Q2273.45 376.04 2273.45 383.17 Q2273.45 390.276 2275.26 393.841 Q2277.09 397.383 2280.7 397.383 Q2284.33 397.383 2286.14 393.841 Q2287.97 390.276 2287.97 383.17 Q2287.97 376.04 2286.14 372.499 Q2284.33 368.934 2280.7 368.934 M2280.7 365.23 Q2286.51 365.23 2289.57 369.837 Q2292.64 374.42 2292.64 383.17 Q2292.64 391.897 2289.57 396.503 Q2286.51 401.086 2280.7 401.086 Q2274.89 401.086 2271.81 396.503 Q2268.76 391.897 2268.76 383.17 Q2268.76 374.42 2271.81 369.837 Q2274.89 365.23 2280.7 365.23 Z\" fill=\"#000000\" fill-rule=\"evenodd\" fill-opacity=\"1\" /><path clip-path=\"url(#clip420)\" d=\"M2300.86 394.535 L2305.75 394.535 L2305.75 400.415 L2300.86 400.415 L2300.86 394.535 Z\" fill=\"#000000\" fill-rule=\"evenodd\" fill-opacity=\"1\" /><path clip-path=\"url(#clip420)\" d=\"M2316.74 396.48 L2324.38 396.48 L2324.38 370.114 L2316.07 371.781 L2316.07 367.522 L2324.33 365.855 L2329.01 365.855 L2329.01 396.48 L2336.65 396.48 L2336.65 400.415 L2316.74 400.415 L2316.74 396.48 Z\" fill=\"#000000\" fill-rule=\"evenodd\" fill-opacity=\"1\" /><path clip-path=\"url(#clip420)\" d=\"M2356.09 368.934 Q2352.48 368.934 2350.65 372.499 Q2348.85 376.04 2348.85 383.17 Q2348.85 390.276 2350.65 393.841 Q2352.48 397.383 2356.09 397.383 Q2359.73 397.383 2361.53 393.841 Q2363.36 390.276 2363.36 383.17 Q2363.36 376.04 2361.53 372.499 Q2359.73 368.934 2356.09 368.934 M2356.09 365.23 Q2361.9 365.23 2364.96 369.837 Q2368.04 374.42 2368.04 383.17 Q2368.04 391.897 2364.96 396.503 Q2361.9 401.086 2356.09 401.086 Q2350.28 401.086 2347.2 396.503 Q2344.15 391.897 2344.15 383.17 Q2344.15 374.42 2347.2 369.837 Q2350.28 365.23 2356.09 365.23 Z\" fill=\"#000000\" fill-rule=\"evenodd\" fill-opacity=\"1\" /><path clip-path=\"url(#clip420)\" d=\"M2386.26 368.934 Q2382.64 368.934 2380.82 372.499 Q2379.01 376.04 2379.01 383.17 Q2379.01 390.276 2380.82 393.841 Q2382.64 397.383 2386.26 397.383 Q2389.89 397.383 2391.7 393.841 Q2393.52 390.276 2393.52 383.17 Q2393.52 376.04 2391.7 372.499 Q2389.89 368.934 2386.26 368.934 M2386.26 365.23 Q2392.07 365.23 2395.12 369.837 Q2398.2 374.42 2398.2 383.17 Q2398.2 391.897 2395.12 396.503 Q2392.07 401.086 2386.26 401.086 Q2380.45 401.086 2377.37 396.503 Q2374.31 391.897 2374.31 383.17 Q2374.31 374.42 2377.37 369.837 Q2380.45 365.23 2386.26 365.23 Z\" fill=\"#000000\" fill-rule=\"evenodd\" fill-opacity=\"1\" /><path clip-path=\"url(#clip420)\" d=\"M2280.7 56.1267 Q2277.09 56.1267 2275.26 59.6915 Q2273.45 63.2332 2273.45 70.3628 Q2273.45 77.4692 2275.26 81.034 Q2277.09 84.5757 2280.7 84.5757 Q2284.33 84.5757 2286.14 81.034 Q2287.97 77.4692 2287.97 70.3628 Q2287.97 63.2332 2286.14 59.6915 Q2284.33 56.1267 2280.7 56.1267 M2280.7 52.423 Q2286.51 52.423 2289.57 57.0295 Q2292.64 61.6128 2292.64 70.3628 Q2292.64 79.0896 2289.57 83.696 Q2286.51 88.2793 2280.7 88.2793 Q2274.89 88.2793 2271.81 83.696 Q2268.76 79.0896 2268.76 70.3628 Q2268.76 61.6128 2271.81 57.0295 Q2274.89 52.423 2280.7 52.423 Z\" fill=\"#000000\" fill-rule=\"evenodd\" fill-opacity=\"1\" /><path clip-path=\"url(#clip420)\" d=\"M2300.86 81.7284 L2305.75 81.7284 L2305.75 87.608 L2300.86 87.608 L2300.86 81.7284 Z\" fill=\"#000000\" fill-rule=\"evenodd\" fill-opacity=\"1\" /><path clip-path=\"url(#clip420)\" d=\"M2316.74 83.6729 L2324.38 83.6729 L2324.38 57.3073 L2316.07 58.9739 L2316.07 54.7147 L2324.33 53.048 L2329.01 53.048 L2329.01 83.6729 L2336.65 83.6729 L2336.65 87.608 L2316.74 87.608 L2316.74 83.6729 Z\" fill=\"#000000\" fill-rule=\"evenodd\" fill-opacity=\"1\" /><path clip-path=\"url(#clip420)\" d=\"M2350.12 83.6729 L2366.44 83.6729 L2366.44 87.608 L2344.5 87.608 L2344.5 83.6729 Q2347.16 80.9183 2351.74 76.2887 Q2356.35 71.6359 2357.53 70.2933 Q2359.77 67.7702 2360.65 66.0341 Q2361.56 64.2748 2361.56 62.585 Q2361.56 59.8304 2359.61 58.0943 Q2357.69 56.3582 2354.59 56.3582 Q2352.39 56.3582 2349.94 57.1221 Q2347.51 57.886 2344.73 59.4369 L2344.73 54.7147 Q2347.55 53.5804 2350.01 53.0017 Q2352.46 52.423 2354.5 52.423 Q2359.87 52.423 2363.06 55.1082 Q2366.26 57.7934 2366.26 62.2841 Q2366.26 64.4137 2365.45 66.335 Q2364.66 68.2331 2362.55 70.8257 Q2361.97 71.497 2358.87 74.7146 Q2355.77 77.909 2350.12 83.6729 Z\" fill=\"#000000\" fill-rule=\"evenodd\" fill-opacity=\"1\" /><path clip-path=\"url(#clip420)\" d=\"M2376.3 53.048 L2394.66 53.048 L2394.66 56.9832 L2380.58 56.9832 L2380.58 65.4554 Q2381.6 65.1082 2382.62 64.9461 Q2383.64 64.7609 2384.66 64.7609 Q2390.45 64.7609 2393.82 67.9322 Q2397.2 71.1035 2397.2 76.5201 Q2397.2 82.0988 2393.73 85.2006 Q2390.26 88.2793 2383.94 88.2793 Q2381.76 88.2793 2379.5 87.909 Q2377.25 87.5386 2374.84 86.7979 L2374.84 82.0988 Q2376.93 83.2331 2379.15 83.7886 Q2381.37 84.3442 2383.85 84.3442 Q2387.85 84.3442 2390.19 82.2377 Q2392.53 80.1312 2392.53 76.5201 Q2392.53 72.909 2390.19 70.8026 Q2387.85 68.6961 2383.85 68.6961 Q2381.97 68.6961 2380.1 69.1128 Q2378.25 69.5294 2376.3 70.4091 L2376.3 53.048 Z\" fill=\"#000000\" fill-rule=\"evenodd\" fill-opacity=\"1\" /><polyline clip-path=\"url(#clip420)\" style=\"stroke:#000000; stroke-linecap:round; stroke-linejoin:round; stroke-width:4; stroke-opacity:1; fill:none\" points=\"2232.76,1486.45 2232.76,1325.18 2256.76,1325.18 2232.76,1325.18 2232.76,1012.38 2256.76,1012.38 2232.76,1012.38 2232.76,699.571 2256.76,699.571 2232.76,699.571 2232.76,386.764 2256.76,386.764 2232.76,386.764 2232.76,73.9568 2256.76,73.9568 2232.76,73.9568 2232.76,47.2441 \"/>\n",
       "</svg>\n"
      ]
     },
     "execution_count": 43,
     "metadata": {},
     "output_type": "execute_result"
    }
   ],
   "source": [
    "k = 1\n",
    "initial_condition = reshape(animated_e_l()[:,:,k], Nx, Ny) #psi_1 (psi_k)'e karşılık gelen density matrix\n",
    "heatmap(initial_condition)"
   ]
  },
  {
   "cell_type": "code",
   "execution_count": 44,
   "id": "e0b08e68-6ca6-4923-9cd6-2ec9f5cdf609",
   "metadata": {
    "tags": []
   },
   "outputs": [
    {
     "data": {
      "text/plain": [
       "heatgif (generic function with 1 method)"
      ]
     },
     "execution_count": 44,
     "metadata": {},
     "output_type": "execute_result"
    }
   ],
   "source": [
    "initial_condition = reshape(animated_e_l()[:,:,1], Nx, Ny)\n",
    "fps = 30\n",
    "function heatgif(initial_condition)\n",
    "    p = heatmap(initial_condition, xlabel=\"x\", ylabel=\"y\", title=(\"Nx=$Nx,Ny=$Ny,co=$cut_off,PN=$pn,U=$U, fps=$fps\"))\n",
    "    anim = @animate for i=1:length(r_hubbard_states)\n",
    "        h_map_matrix = reshape(animated_e_l()[:,:,i],Nx,Ny)\n",
    "        heatmap!(p[1], h_map_matrix)\n",
    "    end\n",
    "    return anim\n",
    "end"
   ]
  },
  {
   "cell_type": "code",
   "execution_count": 45,
   "id": "91adf7db-1421-4fd3-8615-3550623f1568",
   "metadata": {
    "tags": []
   },
   "outputs": [
    {
     "name": "stderr",
     "output_type": "stream",
     "text": [
      "\u001b[36m\u001b[1m[ \u001b[22m\u001b[39m\u001b[36m\u001b[1mInfo: \u001b[22m\u001b[39mSaved animation to C:\\Users\\Can\\Downloads\\GITHUB FOLDER\\Kagome-Lattice\\My Numerical Calculations\\Many-Body\\Hofstadter\\OUTPUT.gif\n"
     ]
    },
    {
     "data": {
      "text/html": [
       "<img src=\"data:image/gif;base64,R0lGODlhWAKQAfcBAAAAAgD/AAIBBAICEQkGIQwMDBAJLxQKNhQLNRULOBUVFRkKPRkMPh0MRCAMSCAMSSAgICMLTCQLTicLUyoKVi4KWi4tLjEJXTExPjMJXzUIXzYsQDY2Njc2PjkJYjkJYzk5OToJYzwJZDwJZT09PT4JZkAJZkMNS0NDQ0UKaEclU0gLakgLakk3QE0Ma00Ma09ESU9PT1ENbFNTU1QPbVgQbVs2fFtaW1wSblwWSFxUVF4SbmIUbmMUbmQ+ZGVZYWVlZWcVbmc8aGoXbms4UmwYbmxsbG0Ybm8Ybm8eQnE6h3IZbXQabXYbbXd3d3odbH0ebICAgIMga4Q9WYVAfIY3TIchaocpNIeHh4giaog9VYkiaomEhIo2WopUU4wiaYyMjI0kaI1DTZAkaJIlZ5OTk5QmZ5RFZpUmZpcnZpdIfJgtX5hIZZknZZsoZJs8IptDcZ0pY54qY6CgoKEqYqErYqJIYqJNfaMrYaMsYaM2V6NUcKUsX6VcfadVDqeUMaelVampqasuXatwCKuGHqysrK0wXK4wXK8wW7ExWbMzWbQzWbRgerUzV7W1tbY0WLZ3i7c0Vrh2k7k1Vbq6urw3U745Ub+/v8E6T8M7T8SBiMWarsY9TMZidcaLm8bGxseXncg+S8tAScxBSMx7csyEeczMzM16gs5DRtDQ0NJHQtPFxdRIQdTU1NVJQNZKP9ZKQNdLPthmZ9iyuNlNPdtQOtvb292qrd5SN+BUNuBWNOJXMuRaMORzWuXl5eZdLudfLOfPz+hhK+liKupjKetlJ+tmJu1pJO9tIu9vH/Dw8PFxHfHnZPHscvJ0GvLpaPLzhPONRfPgWfR7FvT3jfV+FPXXRvZ/E/aAEfbhv/eDEPeFDviGDviJC/jIMfjJPfjNN/jPOvjQO/mLCvmNCvmOCPmhN/nFLPn5+fn8nvqRB/qVBvq4L/q7Ifq/JfrEK/uYBvudBvukCfusEPuuEvuxFvu0GPu8Ifu9I/vcvvv+o/z0xf39/f7+7P7+/v///yH/C05FVFNDQVBFMi4wAwEAAAAh+QQFAwABACwAAAAAWAKQAYcAAAIA/wACAQQCAhEJBiEMDAwQCS8UCjYUCzUVCzgVFRUZCj0ZDD4dDEQgDEggDEkgICAjC0wkC04nC1MqClYuClouLS4xCV0xMT4zCV81CF82LEA2NjY3Nj45CWI5CWM5OTk6CWM8CWQ8CWU9PT0+CWZACWZDDUtDQ0NFCmhHJVNIC2pJN0BNDGtPRElPT09RDWxTU1NUD21YEG1bNnxbWltcEm5cFkhcVFReEm5iFG5jFG5kPmRlWWFlZWVnFW5nPGhqF25rOFJsGG5sbGxtGG5vGG5vHkJxOodyGW10Gm12G213d3d6HWx9HmyAgICDIGuEPVmFQHyGN0yHIWqHKTSHh4eIImqIPVWJImqJhISKNlqKVFOMImmMjIyNJGiNQ02QJGiSJWeTk5OUJmeURWaVJmaXJ2aXSHyYLV+YSGWZJ2WbKGSbPCKbQ3GdKWOeKmOgoKChKmKhK2KiSGKiTX2jK2GjLGGjNlejVHClLF+lXH2nVQ6nlDGnpVWpqamrLl2rcAirhh6srKytMFyuMFyvMFuxMVmzM1m0M1m0YHq1M1e1tbW2NFi2d4u3NFa4dpO5NVW6urq8N1O+OVG/v7/BOk/DO0/EgYjFmq7GPUzGYnXGi5vGxsbHl53IPkvLQEnMQUjMe3LMhHnMzMzNeoLOQ0bQ0NDSR0LTxcXUSEHU1NTVSUDWSj/WSkDXSz7YZmfYsrjZTT3bUDrb29vdqq3eUjfgVDbgVjTiVzLkWjDkc1rl5eXmXS7nXyznz8/oYSvpYirqYynrZSfrZibtaSTvbSLvbx/w8PDxcR3x52Tx7HLydBry6Wjy84TzjUXz4Fn0exb09431fhT110b2fxP2gBH24b/3gxD3hQ74hg74iQv4yDH4yT34zTf4zzr40Dv5iwr5jQr5jgj5oTf5xSz5+fn5/J76kQf6lQb6uC/6uyH6vyX6xCv7mAb7nQb7pAn7rBD7rhL7sRb7tBj7vCH7vSP73L77/qP89MX9/f3+/uz+/v7///////////8I/wD7CRxIsKDBgwgTKlzIsKHDhxAjSpxIsaLFixgzatzIsaPHjyBDihxJsqTJkyhTqlzJsqXLlzBjypxJs6ZNkshWdeLFDyKvTrT0vTSnk5bFU1aI+KjEMidQoQiJdkLW86bVqxr/AAAQwyAEADxBFthKdivVhHG21jCoAMBZj/rKljVHE4XcrYwUriorQIGLQQRrbP0DVSApABwoIrPCQQBZC4AZnuJAFoKkhWMArGUrYNVEfWNQON4KIU7hh4McF1BgOmUcCKMBFPDxViA/L20BCKhRG6vv3w21bu1U8GvYjwUEoFjOHJnCtLpPFWzbe2PcAsyZ66sa0y6I7ChI6f+VzfwrACIDBQOAQHfg4cQT9wp4wYQJCN1xFtJqW2MMEwECMJVQZpsVB4BnEiHjGAr1ubDVExJR1ok+26XEjw8KxEDEEz6MZUF7Aj0BgAJWjHEfByACp+KKBGnVFgoGHufRahGl1dYL07nFHUdxQeCbXUY9tBcEVfEzhmOk9CRYW2MQ9B5FtDDBC0EiKpCiQS8AACE//AwCwIcDamYQPwp0NpE5RNDCXVoCTAlRAUS25GY/XPLyFWEC0SJAAbwIpY9dTbIo6Ipa4WABAJcNZFxPq5CCzGm0kDJnRDRClFYNhxI3EHX8IENKkAR5CipEPU7EDyljePGHmgWhquqjFgH/CdGQO5KgpUCCadGXOVU9qZE+Y0mHEC978jrQoQIeROBBXyGY0aGRNaTTeqSQIp05pHjGSxxeDHJlP7z84cUYg0x6ET9EAMDEQCKiN1AlXw4q729a1cAIYoUt2o9WH/bal7kPVfpQWj5oRQJBnCKzmnNUAmDFZ+tJdMqhZbnbDzJ2kVXAGDtGJKuQ6+3ow3m4AvDHyA8bhhhHX4mHkFY4EsSElh0PtGxBZJqpkV1/PERZWQqACwAIcYxFmrB0zixXzxqNHGg/9yUqELBgzWv1TfX2Y1e0+vYzsrvIwCY1L5KUbfbZZTvbTwEFvGABBz5IjRYAPvBDmSRVcdpPuvkN/6QPbG7ywgjahLPaz3Vuw51sQrQk5wNQlTzhrjmUuQBUHG3FURUyhBOuqUB2uW1BDH98WxCtBNn1hJIAlMv2Wb4K1DnhCtEim7EHtVtQWl0hdLOBznYy+9nmnBbqWKMqxE8n91omCVO8jFjAE7SsMrMCDHtpASO00CIJEYxAJfzwZTM85iAL5w1A8she7f5MWR8WZz/68mMOtP3EoC5B0N1Vlg8EGctqyFK359CtH5L4ElT0thcQEORevTOS/+RisbjIJjckU0iWIHSQtIBJdiNqz14m+JjU6aZMjiGB+Q6COoGkBgACEgxgZraufsSuH7EhYc2mdp8aImRkWuBOl/8AcDDfiQlnZXIWxUi4voQIpgY7TIg5IjaQ6O2PTvyogQA4mC65celYTNyK2vbFAQuU6QWgmqJbCrK197nxJVnrR5Y0Rz+wcGcVbJsZCU6zijH48Y+A9OPivBAkZIxhLF4wIAC1ZjKB6K0ftnJWlqR2ikBacgydKJIX+nQxK4zlaQZBxu0Qor++DeRuAjHkJQH5hzWdoifmGMRXeoeQvczGBzW4j2aqIsNOsY0nN1xlIBMysw8iRIscIwi8OBDF3xGkWbaJgzD/uEKCZAYCAFvIFC1QmOi1iSCniFc/RMTBg/xhmn6Elc0UYDQUfE6UADBeKd9Iz5XEcRUCgIBzuib/EOgoIHkY0QoEjMe/A9pwPUJ5pFbcRaz5mWpHafERQpaZkEON0WlRjIie7FhLuQiAA2MojAxDdMAbVsQL68kmQVC2o9QUUVlHJEjOxjiR1BQAaQ+ZokQFEj2HHg5AeQKQBZjACNw55Isy7QkyvLAnl6mxmjyrp1RPEsd+CCaR/OxH42I6EGR076tg/apKBWIOx8hodwbNHwCa9EhzKAB743RYqMJKV1qoc0wK0tFB7hWzMZXJXCIKYj/MUdewntUglImWQYaEjMbWbKQXK1OkVjaQwob1ICiFAEANQsPTpKWvBjkSLRHWRJ5a9qvfsqnLIrLNbuIrR8XrxyleYLQC/zABd7w4bfdMNxArcGUgyCsIKqdKXJFUtXHY4yflRgQARkA0jGlFSFsMZxCCVTafyHhkP2ZmGtjcNTNhtNhB+DGWwwqkE5Q9iEULgtF+jJCJFljIHBMyJAods3U208wNczjBjh3pnw1JCw52JCImRFErDiyIGt3ED9iEMXmM2NPnWEtFno6oIPoA0I7MIQkmtMViSyQhTZ1UYQsIIJMDIVNpi8vijlR1b1ri58xwcIpfcqcTRMixjnec41YmxJvVLOgicSUA3OjVwiC414CVyeMmE0GxBrGdAHiroAIYNcXzJEj7wOVkHqcMIQ2GYRRbeBDIDhY2aYGPQLrMY7QqYP/EB7GdAnZkF+ciJJwKOM2pLjwQLbBZx3eVBNsqkVFtKrCKAJrUYeKb4qroaaACScqfiTDWfkSY0TAup3sr3OJOZ+TFvGBbW47TPOdkBgS8ZYi5zCEYFNwYkwOxLqLZeWQuZelQcpPIqrP0Au5UYgyr1Z8PC8IvEN0rz4VGCDKuhFIrQYUWY7Dzpn1aEDP3I6LplUgc+gJn95KLIPcx5WGsVNlo+w02oOSH/oiQ7KQORNABiiJo4hDkgeiUIFY0cHoAINhqKihoEtGHufThIIvJz3xafAJBPc3wiLw4rlsJCy/KhDTBDBsiPhhqHAbhhUMVYLUwtpissUiE0dSGH/f/4vREMPWEOPzBCrApgNpGpnCe8qcSq+iwu/RxHxRIoo9twVNE+IE5IpArNFtpTT8FkOBpZ9Ta+qCYmiNCihT64OpYX21aXtqPTuzJC53AHABMeW0iPhBAT67EH+yigEorJNRfwjrWpbZgKR7awuxkQqNGpk+BxAAFcQCKJOzC7gQVIAaq+sMTvtL2wCCGEZXwAXYX3vDKM+TFncoNT3i+1lCJbSL/kYsFkuT4ZJZ9yKk0Wm/+BoBEWqTkcuEAyNUaKH7oYxW6JIsPkZEljSl96OiTS2kKQqCqkNkg1rb0VqYOkQROMFpbL8ggMFgA1w8EpQUSCCPMQxYSbNYhtpug/xeqEj0rR/HeVRzaH4y2HsOVPIc1SLVC7ncXFCSP1WWxwCrabfn+z/WuphUUg9U9oUQLbpcQnCNNfzBiEABXqWRXhVEn3dMx+sBOB8gQCTgGC+hX7GEQpyBNjHBYtACC1QER9hN2YxB4BBUDAoA0hGVeVUQLRsUl3XOBB0FYhRVbF2OAOIMMjEAuAChHOkMQ+kAKCvh9OWVZ5qMVmjYmPJh+DoQM51QJV4IMlRAHcRCCFGF7/CA4IAiDWoWFlUB5/leG48V/KmE7pmcbaLgvdEOGGxFOv2cTZJJ9dNiGSOU3CmCHLYEh9fZ2Q9MQeZgRg3iGZniIV2M9V+YQhFUJ0P9EEqRwW1iBDEyAhG5EiZaIEt8WEdHTdIj4iaD4EvDyIKHYcIUoL51Yiqq4iibBCyUye6wYizKxVGQni7Z4ixJxiri4i7zYi774i8AYjMI4jMRYjMZ4jMiYjMq4jMzYjM74jNAYjdI4jdRYjdZ4jdiYjdoIE38QC/dwD7/wjeEIjuJYjuR4juOYjuaojui4ju7YjvDIjvL4jukYjvZIjveYj/i4j/rYj/yIj/4YkP8okAQJjvmQD9dwkAmJkArZkAz5kAsZkQ4pkRA5kRZZkRhJkRp5kRL5C/bokeAIkh75kSQZkiU5kiaZkii5kiLZkifpkioJkyz5kQdZkzZ5kzj/mZM6uZM82ZM++ZM5mWz6sA/7MJRDWZRIiZRDOYKexgXEAAzBIAxQKQy9IAxUaZVVeZVamZVciZVeuZVfmZXAAAxgWZZdaZZhmZZbGQyy0JZu+ZZwGZdyOZd06ZauMAt1mZd6uZeyQA9++ZeAGZiCOZiEWZiGeZiImZiC6QqqYAquwJiOCZmP2ZiTGZmUKZmYeZmaaZmcWZmemZmdCZqfuZmeqQrdAA7gcJqpiZqq2Zqs+ZqrGZuuKZuweZq2eZupiZvdoJu8mZu+uZu/2ZsLwQ/4UJzGeZzIWZx+MFoFgQzcQl32Rgp/MCfIwHFxoIODMAh/8AcTdhL84JRQGQxR/ykM4mmV43me5pme5Kme6Lme7nme5Ume7Tmf7Fmf72mf4ykMfLmf/Nmf/tmfihmgAjqgBDqgqoAKqpCgCrqgDNqgDvqgEEqZETqhFFqhqgAO35ChGrqhHNqhHvqhIMqh3pChI/oNJXqiJJqiJqqiKLqiLoqiI8oQ+XAOxXkONGqj+ICjOIoPflADC3c/9FEAiyMQcCKkp8QgKIBNjuQCMYB4K/GdTxmV4imlVlmlVnqlWJqlWrqlXNqlXsql/xmmYjqm+1mgZnqmaBqgB4oKptCYbtqmcPqmchqndDqndtqmCoqndbqnd9qnfEqnrtANJuoNhFqohnqoiJqoirqojP/aqI76qIU6nDlqo5RaqZbKoz7aMURnAVziBTDSnP2gAMkyJyCQMv/Uhh4BpVMppVT6pa76qrAaq2BKprRaq7Sapriaq7l6oBbaq73apgjqpr46rBGKCuAAqciarMq6rMnKEJNqo9JQqdFKqdLAozFQM+rGQXpiOqJ6ECjgegqggdDpneBpnqzqnrKaruq6rldqq+76rvypq/I6rwK6pqjApn6ar3/apwgKrArar67gmAIbsAQ7sAZbsAh7sAarCiTKrA77sBDrqM4KrdRasZXaoxVSEEQjFApiXt1aEJXQdj3BATVQAwXwZSihqlVanizLri77sq8KrzI7s3JJrzb/e7ODaa+8iqA8u7M+27NA+7NCi68Jeq/3iqfEmrRFe6ANG7FO+7QPO7HRKg1Tew5VS7U26gcQIHcF0xMgECgdexAfOxCnoADShkVVZ4McobIre675CbNwG7dWSbN0S7M4e7c4a69Hq698u6+Oia9GG6x+27eEG6dNC7WIm7iN6qxU27iO+7jR6gcYIE2Uqyk1oK0CkLEIsziroABQtilDWhJs27byia5ye7rsWreq+65427rzqrdDG7tBO7tD+7eBe6//Kru6S7u8u6aHq7jAG7zeMJxWC7nGS7XLuR1cUiRxwAFC4ak8dVdjSwvDl2IDgU9quxGjS7oti7rem66r/xu+t+q65Jumeru3g5u+d+oKgHu7gau+8JuvqPC7wlu/T0u8xwu5ziANy4mtyGABQZpJduN6TBADBUACMTAlZtSkMdAkjEACOaYATACHILG93Nuq35vBXyq+HBym5fvBZnq+uzvCvcum7Ou+gUvCKlzC90q/9vvCDku8+zvD0kDDNIy816ps0mQ4lRAkkrCd2+kcjKCd2SkePuhHsGgSFnzBpqvBToylHRzF8QrCVKymKBy/WMy+wIrC71u4XhynLTyoMDzGMaw85+AMaJzGarzGztC/LbbETPy2TzzH+inFdpyXVZzHiHm+JbzCtXvCXGy0ftzHvGu0LkzGiLy4yv9Tw2zcyGjsxiwGx3FMx5R8x5Y8l3qcyYTJx+j7xX6qxZx8xZ4cv4Ysxol8yoqsEIy8DM7Ayq7cyrDMyn4AWsQlyZNMyU98ybr8lprcy4DJyYNMwrYbyClMyMHMs4F7yKi8zITKENLwytAcy628DLPcabZ8y7icwbu8zb7czaGMr1j8ye1LzF0czuqbzKbMzOrczAtRw8vgyu88zfIsy7Q8VdeMzdmMutu8y93sy6F8zLI7zOQsyMZc0Dt7u8q8zonszO/c0A790O9czW9crl/Kshicz3K7z7rcz738zeA8ym8KygPtvubMtwidzgq9zMM5zRDd0tTcaxP9lK9q0U3/jNEvq9GXzNGa/M0APbsCPdK4a9AF7b4JndJjzBCt3AzLoNRMvdROzdSzjKqDcs9XStNybNOpi9N3rNOZ7NEfXdJ/u8VAXc4gXadEjdJGvdAL4QxM3dZPvdRQDdORTNEz7bZYDbNavdVcncce3dM7+9NjLdQkjMJFndb2i9TNkNiKvdiMrQyzTMHuQ9VYatV37bJ5bcd7zdcDDdaUOc6BbbScbdZnbdjMjNTKcNqondqqrQx9kMNzLdOyStmVra6XLcWZXcVe7dcm/Nnuq9sHTdhoTdowPJzLgNrQsNqrHdUxTZbpKtuzHau1HcW3TcVe3clZ7Nm8bd0gzcWFLdzA/8sQxX3c4g0N5F3e5t3a1kzXsW3Xzw2r0d3B0w3C1d3TgJ3dvk3M3e3diQveykDe/f3f4g3grM2c9qze6126V93eW/reHBzfH1zd2p2+Ip3dJF3W35zf+g214G3eHN7hA57esL2uzq3gs8rgq+vg5Qvhx1zfFK7b+B3cGR68G97hNE7e6L3cLzviJJ6lJh6+KE6+EB7h4izWFH67nP3iMU7GG04N0MDkTt7kUA7lN/7azO2yOr7jVtrjJ/7jrRvkg8ziRd7T5IzhSQ6xw9kMUP7kap7mUy4vf8BO7JTEkl3R7I3l7arldcvlXR7Y8DvhRS7K4TzmMF7miHvma37oUv9O4CwSBy5QaHNO5whu53eO53ar53cb5EIN5n9+zANN5oTOrIbe5NTg5KMu6qPO5H1Qz4su12Bm4FZe55JO6XRr6Zf+2RKO3X9u5F7c6YP+6U5r6Kce7MIu6ql+NUXTF7eFra7+6pEu6XUs6zJL63kb2MIMyLmOwoM80p7u682qPMog7OAu7MVuNbzAE6sAAYKFYSxQDN575QoO7TMr7TeL6aA95PTO26TM69wuvJo7Jt8e7gA/7vKSh807Xk75ve7+3PAe7fJOr/e+u5p+7UIN1Nu+7486nE0ODqOu8dTA8R4/6gLvPmPAdSnmlAkOswlf2QsPrw3v8Nn9p34u8Vz/fM7a3usWD+rKAw3d0PEdr/Go2fM9Dw4hPyhj8HOYQ0c4s+xwm/JYvfKs2/Lyeu8lHPEyP9gUb/M3r6wYr5qo2fVe7/VDLyihAcC1WPIh3u6wrvBOb6tQH/UUvqcxL/MzL79Xn/X7nfOnyaFf3/XfIAiKLiiOrvRxy/T5vPZs3/a7at8+be1yz8W7G9gVb/eKuvUhuqFCr+r19OginvZ3bfi1iviJ//YhjeuNX+F8CvlYL/kXj/fI6vcgXuUaTPiV7PlkCvq4KvVB/deMX/rYXsior/r3m/PcwA3eQPzGX/zIT/ze4Po4PseyP8e0X/u2j6a4X+9hXf1/fvq/D/wR/4vx6lD8wx/+4i/+zE/llPz8Thz9Yzr91B/mPEv1vO/728/9Uas81DD85YD/+s8N+c//AMFNUAx+/QweRJhQ4UKGDR0+hIiQHxdiwIRdxJhR40aOHTMGCyYMpEiPJU2e1ChL5UqWLV2+hBlT5kyaNV3Sw5lT506ePX3+BBpU6FCeqlAdRZpU6dKjplyhMmWU6VSqValGxSrVqtJv37x9BRtW7FiyZc2eRZtWbdiH/KCp41aOW9y5cunSHVgw4l6+ff0qnFgR5eDBIw0TRkzY5mLGjR03JhpZ8mTKk7VuZWrUKWbOnZEaBe05ade1pU2fRl26LbV25Vy/hh1b0Iu/tf9t304Y2GJi3hsNhwzZW3jKx8WNH7dZWfly5pEviz76HPp0plmnk06dXfv2tKvVtQMfXvz42bjNn9+re/j63yTXD0ceX7785vXt25dOXf/+z6jyc8aOOwEH1M67dtg5MEEEF0ywPPQehFAiinZ7r7f2gqswsfk25JCx+z4EUbL/+CNxuqio84pAFVdcq61uDmQnRhlnnNHBCG88T70MLQQOuB0R6zBIIV8KsUgjexqxRCUxUyVJq1JkMUop2XqIGnXsoTFLGW3EscvadPwxsQvDRGnIx2Yxk6Yj1zzSySXfhBMVKKekc0UX1anHHj335JNPLr0ENL0JyeRtTEI9SjP/UQ7ZZBREN+OElL8566SUO4i6sWcdTTfltNPZ9Ao01LYGPRQxQ0slTtGZ0FQ1pkZfre/RSGeFbtJKb0Xt0kzp2ZSeejT1Fdh1PhW12IbARBWlU5MVplVni4M1WuVkpbVazGzFNVu1Lu2V02DXCZYeYo0lV0LBmC2sR/eYfbZdD6WF1zlr55VUW3tVe6gbcPfFiV9e/w0khnIHNghZdE1atlR3F1YzXoeDopZeiUe7t2K0Lo1s2BdAJbhYgw8uKWFCGSYZpodP9iniiSfG1mKXXSRqnnkC5rjjUD8G2SORwyy5Z5ZQBlonlVemt2WXK3ZRZqWXZlrmgG0mF+ecO9p5/0efrw4666GJttboo+11UZ6mx56Hnqeh9pjUqZVVF0Myr/Y566C35ppWr7/O1sV45hGbb7/FBtxpgdEWVeq1Oar6Pbh7lhtouuuO9G68b21LHb7lwTxzzTOfeXDCAzX8cN/aHnlxkhtH+XHI45R8ckovjSd22WenXZ6zPwc0dNE1Slw4009H/WHVV3+zddfprJx25WmnGffc1d79pN55+53h4IUnPns5j3/5IXVihyee8MUHv/x4AqHNeS91j/4j0q2u3t3rHR5eexKN5z5KiL4Pv3/y/R8f+tS3Pui1D2Hvq1D85Dc/eNXPfvvBX/7s5D3xwcOCF8QgBgU4QBxNZP8c2dBGCEU4QhKW0IQnRGEKT4gNbbDQhS2E4QtlGEMaYgMb1bhhDnG4Qx32kIc/7KENhThEIhbRiEdEYhKPiA8mNtGJT4RiFKU4RSpW0YpXhKIKtbhFLnbRi13chjTEOEYyltGMZ0RjGtW4Rja20Yz7y2AcM7hBDkZIH1wYxxf1uEcVztCPNQSkDJU4SEIW0pCHNCQWFblIRjaSkdvYhjgiOUlJVpKSl7RkJjG5SU12kpOf9GQoLxlGN5bSlKdEpSnhKEdW0rGOD7pjOkDIR1rWcoQstGULEblLXvbSl9hwZDCFOUxFQtKYx0RmMpW5TGY205nPhKYyUzlNalazlKv/ZGUcXfnK89wRHbPMZTj3iEta/tKc50SnEIm5TnayM5rvhGc85RlPa9bTnvbcnzvesU9+9tOf2+QmbrwJTnEW1Ivk1GM6FbrQQ7bToQ9d5DwlOlGKvvOeF8WoKh3CD3LAw58f7SdAA2qbgRrUpF9EaBcZulKWGhGiL4VpFCs6U5rSNKM3xekZ8wlSnop0pH8p6UmFysWUarGlR21pTJUa05o21anwzGlUc7pTnn7Upz/tS1CHutU+qhSpX1XoUsX60KeW1azSlGpaL9oWcvBTn+94a1z36Y6rMoIEFniCORQSBx+g4BQIiQMHLDCGg/CiBhZ4AS06plWuNnaFWwRr/2TPOVbKrvOslz2rWjVbz/2lwx2fBW1oRetTWhRgEKvggBUUEgMrFKASB5GEAipBCgUwoiAo8AEtnmABvQ6MsY4FLgmLKlzJFpeXlUVuMDG7XKdu1rnTZKtopRvadKCvZgZhQg36wQ9GQIAhsj1IDJ5gEC+4gB+0EAAy+qEP8PqWC98MbnxNONwQGte+DU1ufovJXP5W9Ln/1ahDyOGOdBTYwAdGcCBcwJAXeMEgvACAehXS3n5AQBIFqQQE9DEIC+ilwQT7rXxFPNz7lniQ+kWxFfu7YokC2MVshMiAETxjA6PDugvhQBwKYg4AKHbCrzWIAjpRkFMIoB+BPUgNmP8A4vcSVMRPhuEtTTxll6bYyjJlcZYt+mIu6/QhMkZHOsI8ZjGXGR02BkCa1UwEg6CAsP1ARoSvS2ELG6QTCuDHHyxwkA+7F75QBnR9RUhlQg/xyod2opYV/cwuN5qMMRbzmSU96UmP48YK8QGb+dGJAnwXyP1ws0GQTIoC9NYCf2DynwMdaBcWutCIhvWiZb1MR9c6xpTGdaX5sLGF3JkX/IgBm/sxhiHDGRm1RYY++BEHCyDDHBwgLD8G2w9GlDrVTl41lF39algfetbfPmatHR3jcZTb3OdGt415vZAnFEABKEDGbd9MAgW4uwCK1YcP3F0DvW4aAhCo7WKbnO3/VdsQhzlE+MEVbnCGJ7zhC3d4xCE+8YdXXOIWP3i3vQ1ucIu70eRGd8jNHY5dX/cg5pAwYGrGD36gPCH6SLbJRRVigsuXiAcXIs4bnvOb93yIOkc4z3/uc6EXfedHz6HGr8zxjnucyzEWR9SlPnWqW3rd6GE5B2le8+AaPehIB3rYiQ72sX/d7GIfetqBqfQUM/3bTn/6l+G5a6yaZ+tcd+y2Cc32trtd1nB/cYy18U661/02d8c7V/VOZb6j2O9/BzyABU94ghiepANP/IgXb+LG6/fxi4685L8MxsJbHqiYz3x8N8/5zif384oO/X9jjI1s1N72t7+9NvhQedP7/wXxqT/p6kvcete/Psuxf26MgY7EbJS+93z5PfANKvz7Eh+5xj8+8jfblmdowxrfB3/4w4+N3cv8+QyJvvTFSX37Wr+y2Gex9rf/5WqI3/7gJ3/6zr+X9Ks/l+w3LvejLPhbMfnTLIh4Bmy4vwV0vv17iP7zv1oCwOISwLEiwP4yQLWKsWiYhg70wA8EwQZ0wIaAwAjkowmUrAoUqwvkrwxMK+6rhmiQwRmkwRoUwedbhQLQroUoQRNMKBQEKxVcKhZkLheUKgSchhpUQhq8QdPTBw7ALX3gQdTzweADwq8SQqUiwuUywqhCwiUEwya0PCtgguxCPyqswum7QqTKQv+m2sLL6sKpeohnkEFmqMM7jAY7zMNoEMO6o4VmM8Mp/KA0FKo1ZMM2fKk3hMM4vCkE3EM7ZAZIfMQ8ZIY+/Cl9IAFJ6Acm8AEpVAh9cIE8IkQrNESWQsREVESzYsSb6q2GeIZIhMVYlMVItMSR0rM/+IMXIAFGmEJ0GEVSLEWGOkWISkVVXEWMQsBZVEZYrEVu4gdJ8IFotAALWLJPRMNftKVgNMVhdKhiLKtjRMY5XEZlTIZmxKpAtEZZwsaC0saV4sZu9MbmAsd7QsBksMd7xMd8LEf9G8E4eDNrVLV1zMZ2XKh3bKd4lMd55Kw5PIaGdMiHhMhjKLkRhIgeFMj/FSLIsDJIy0LImlJIfGLIiBTJYzCGiaRIh7DIiyyhjNTIjRymjvTIj7QmBBxJkSzJqzvJXsQ2lUQplkQnlyQmmLQpmawmBDSGo0TKpFTKYmgD3stJneRJCfTJyQJKYRLKmSLKopzDYlDKrkRKieTHp3y5a4xKr5rKX6pKq7xKispKakLAYSiGuJTLuaTLpjS/nEzJstSls/SltFSutZyotoSujXoGYaDLw5xLkxTLsQxIvTRLvjwuv2wkwAxMwUQl7jNMxDzMYbDLxQTInXTMPoLMXpLMyaTMebLMyyTMYCCG1nTN13zNYlBMzzSIvCzL0STN0oyo05Sn1DylttiF/2IYhuEkzuIsTmHoTNo8CNuMStyMTN3EIt7sTd+8JsL0hWFACc50SuVkTp50zl2Czv2Szi2jzjYCTmIAifRUz/VETpykze5Uye9EpPCMzvEkz/JcIwTshfXkz/REzu18T7IMzRSST/yizyqyz/vEzzQCzmEAhgeF0AiN0Pa8y5OEz4ss0EQ6UARNUGhaUBh7iF0YBl8g0RI1URMFhuRUzvUS0AHFyAw9sQ2log710A9VI+AUhl7Q0R3lUR71hTYIywBtTBclUBiNURmVIhplNBtl0I3ahRzt0SjV0R8FUM+8UIE00iNFUihSUmdi0iY9ll0ABiklUyBd0eVsUSIlrv8sRaItTdIuZaYvRSOI2AVf0IU7xdM8zdNeMNMzZdEhVdP5YtM2dVMuhVNak9M3CtFe0NNGzdM+PdMrXcdBJdRCTbRDRatEfbQQ1YVc8NRPBdVQhdQVlVRspNQlstRLxVRk0tQyotNODdVY/dRR5c40DdT6OtUiSlVVXVVjatVNdYhdkNVhzQVaFVLQvNVBy1Ui2tUm6lVW/VUxolNcoNZqtdZrxQVjtVJbvdVlZdZmxYdnDbdolQY6vYVzRdd0Vddb0NbFLNVf9FZDA1dx9VVypVNbwNd81dd9tYV2Fct3HcV4Vad5pVdSitZ75deExVd/fUqAJUSBtSFwDdeCJdf/cg1RhU3YWWBYvIyBFfDYjwXZkBXZkSXZkjXZk0XZlA3ZK2DZlnXZl4XZmJXZmaXZmrXZm4XZZN2iSYgEnvXZngXanxXaoCXaoTXaokXao1XapGVao32Dp4XaqJXaqaXaqrXaq8XarNXaqaXTWfDarwXbsNXYIKVNHkgBlUXbtFXbtUVbnHXbt4XbuIVbndWipbXbpsXbu9XbvOVbod3avwXcwBXcwKVTWRDbw0UTIK1QigQ2tnXcx4VclZXbyaXcynVbulWhvdXcvuXczfXcoh3c0BXd0f3bwkVcsZUFxfVTfjDbyHXd141cy5Xd2Z1dzE2hz8XdztXd3HVa0vXd/9/13cI13OFFk+Il3tR1T89sXNhl3uaVXNqF3ui9XNs9Id7d3eu1Xs8F3u3lXsClU1ewiVdQ3TNl3bN13vNFX5CV3vVl35il3urF3vjNXvlt2u613/ul2raABVl4hf713//9X1eogipdzOVN3wN23vZV4PZ9XxOa3wem3wfG3wnGX4jY31bA4AzWYA1GXj/drtZF4BB+3QUm4eht4BKC4BSOYOyl4BbmXguWhQ2W4QxmhQFe3BE0YBHWYcct4R6W3RMmIRUW4hXWXBc24uB9CFh4BVZg4iZ2YicW3+QtYBDe4SpOWx/G4skF4hEa4i4m4vo94jAeXAtuhSYx4zNGY/9UsOHV7VgrduPnzeI4xtktFiEvtuMv9lsx1uPSTWJZUYXxXdHyfeNBNlk5NmSbpeMQuuNFxuM9duSsteDOMIU1Jt82JuRLXtlD1mT3TWRG9uQIfuRQrtpI7gxKXghaIIVWTAheIIVkMwhkgOVYfuVYTrlyEWRMxuUV2ORddtlE1oZPBmYWFuVhhloLNgWoQOZjVuZkVgVTRgh9qAEI4AAI4AVPPIg4UAB6+4OCiIF/g4ACMK9+UABvFraByeFcJmReVmdfDuZ27lxihmdjNoV5pud6rmc1JuDuUi8i2MGDOLbXii1V7gcLiIMgo4UbXh8qRudBVmdeZmc8hmhghmf/YrbgULDni65nZz4IH2ACKSQ1juEwT7QwUKmEUisIIeMFqDnnhXbjht7lh3bnmAbjiQ5lCwaFUMDpnNZpnZ5ksuWHUIMzAEjpgygvvSCBOLDmGiACvRjnceZFgrllln5jl95kmI7oq7ZjmhZlm97prs7pSeYAXBTrVSgIENCxfuAxHzMIK9A/N9MLZCgAUiis7RqDAqhlY1lpqd5hqtZkq5bpvw5ara7pJP4EUDDsw0ZsxA6FKoCAGHBsxy7ofugzCDMHUIkDEDiIsNYLZrNmhKCwqFFovd5rvjZkv8bq005hwX5kC9aET3Dt14Zt2AaFKiDbftCC9NEzjslB9YJr/x/jBw5wMIVABgFYBai2ZNGuYtIu7U5G7eZObdXeY/1t7dim7tembYbghQLwgu46axd4MxSoAUl4Af1bhfTyxE5ggkH4AxBAgc7G69BG7hBWbjk2bcD+a+iO7o2Chemubuq+boZYBR94gcgeNiBDBiZ4gSdIuUr4x37gBQSvgTGobOOObyue7ziub+fWcO3FbzHW30vQhBAX8REn8f9eiKzbKIRWafiu8PS98CzOcPve8MDu8DBui034BBLX8RE38UA+7hZH4BfH4hifcRmfhBq38SS2hEtg8iZ38ifvceWMaiA/YCH3YSI38g1H8iO+8Sf3ciivbbHMaypPYCsvYf8sL/I0z+Mtb+Eb14Ql/3Ivj3LanHIyP18zP3PmzvL7ZvM236hNuARLEPRBJ/RCn/PeMwdeuGuJ+HE7L3M8V2A033PU7nM/P5ZNsARK0PRN5/ROP/SBIQErcGW/aK1vhrcTZ3FHH2FIj3Q9V/NXV9pKp+Abp4RJ6PRb1/RJ+PRyiQEBEIAa6AS/4AW9MgcQqMbcaHRVh11Wb3U6nnQ+l/X7vfFJoPZqt/Zr1/UwLxdesAIIAAAI8IJRjwiWI4KlBoxUV3bIZXYGdvVnL/Jor+A/x/Z5r/ZdB7FBeAEA0MFgh4hVsAIiAAG1logXSPc7X/f1lXRYf3d4t98b71l6v/b/SLD3jkEGIlAzEOD3hjgFJogBCyBrwNiAgnfeLDh46U14dxdihrdfgc6NTYiEl4f5mJf5R5j4qKmEGhCAAvCBThgEDhCAX4OIJ0ABhkB3kV/bkjf5dld4+1b57r3xR4D6qJf6qW+EIyDgckEGL7CAbx+DUTcHBSBwh0AywEh2o+dhpIfek1965276F/7zqYd7qZd4bfcYBRCAGNBEhUCBQWgIK2AEUvgDcEd18zX72EV72lV7lCfitt/eG1+EuI/7RaBtFfeSMQD6vxgDF+CAAWeIMS98tT18xFd6xV9kxgfeGz+ERVD91Wd91kcEq2fctij6z0/Z0K/d0V/7mDb9/99F/UTw/d8HfuBvhJpn3LKn/ba1fctN/NzH6t1H4ks3hEM4BESg/uq3fuo3BKun/Oer8+O/4uSv3OUnffl1ftK98eif/utX/0TQfjb2/scF//DH/fHv4vIf3bZQBOnX//3n/0MAiERVXvDrZ/AgwoQKFzJs6PAhRIT8eKRYYfEixowaN3Ls6PEjyJAYr5AsafIkypQqV7Js6fIlSm0yZ9KsafMmzpw6d/LsaXNSJKBCgxIdarQo0qNKkzJd6rQpVKVvplKtavUq1qxat3Lt6vXqQ36bABkqa/bsWUJHYhSM6PYt3LgK+cUQafcu3rx3YfLt6/evX5+CBxMuTPgp4v+oihMzXuzY6NfIkidTnvxQnyJDZAtx7uyZs6G1beWSLm3a4MSKelezbg0SMOzYsvkarm37tuDGuh/z3u07aeXgwodHDqsIEKBCgAgxb+6cUKEjL05Tr+6Wruvs2rPP7u7dO+7w4sX/Lt/7vHmpxNezX2+c7PLlz51HZ2v9Pn6JFLfz7y/yO4AB9jUegQUOlh56CSLoW3sNOijZe8hJOCGFak2XH4bWYecfhx1mJCCIIaZkIIkl3rSggimi6NSDLbqI1Xt6UDijhKJleKNpqXm4I4ci+iiiiUGauKKKRRI5yYtJvmicHYDo8SSUUUIJiHQ4WinXhjxqqd2PXQYoJJj/BR5pJJnpKXmmg5cpMqWUbVJp35VxQqTjlnWy5iWe3YW5Z3hj+lnmY2gK6p5DmNkhY5uJViknow1laSeke+U5KWB8Wlrbn5kCyuKgnVZ2WR2AHGrHHaWaeuodeizaKKv6qRYprK9ROittl9qa26a5aqqep71+BZEictgxLLHFGrtqq60+GiuzG9H6rEu3SsvTrrpaK5Sv2XYVVqhyeDsHuOGKCy6yyTZKZ7PpjgQtuyNO++6J18qbqbb1ZgWst3KMuy+5F5rL6rLqptsuwSbBezBN1Sq8qb0NV8WtHflKPHG+5f4bJ7oCD1xwwQh7vDDIRjo8MrBsUAUHVxZfbGXA/xrHynHHHh8cMs0Kjuwwt3KY7JXKK9+Yscsvw9yuzDPPe/SRNzcMUR1yrMEG1FFLLXXPPmPYctCQDk100e/W/HVvStvLtNNTmx111VbjB3TWWm8NbddeIz33gmLXyzQca+i9N999p622hnW1zezbcMctLdiJL2a3tkyzscYZfUsO+d+AU8f24FsW/uzhiNP9eXmMZ8s05GaYfjrqqN8Ap+UZYp05j5vT2vmtitvelOi+Mn1G6r2ffkblrZeGOew7yj4r7bbevnxRufe6u+/Rrz6a8GujIIAAAGS/vfbdc/+99+GDP7745ZN/vvnpfx8E++27/z788cs/P/31238//P++6L8///37/z8AAyjAARKwgP7DHwITqMAFKhABDnwgBCMowQlSsIIWvCAGMyhBppGBDGL4IAhDCEIzBK96crme+lKIvhWqsIUsfGH3GCjDGdIQgQa8IQ5zqMMc1rCHPvShBoMoxCEScYhME0MYRKjED4ZheibEEAphKEUXUnGKVozhD7OoRRvusIte/KIBtyjGMcaviGY8IxqDyLQwsLGNbnxjE1n3ROtEsYp2vCIe7xg+MvKRjGD8IyAB2cdBajGNhjzkIdcIx0Um0YlzvE8d8yhJPU4SfYS8ZA8DqclN4hCTnpQhIkMpSiEyrQth+AIqU6nKVMaReo88TSQpKcv/Ss5yj5+8JRc5qctd9g+XvrTfKIMpzAmWsgvGPCYykfkFR76SOrGkJTRrecVfUlN+vLwmL6upTfcNs5vDZFoWkilOZN7AX82EZTTTKU09brOd2HznJtu5TW/SU5RMu0IW8qnPffKznOeszjPXqc6Blk+e2oQnQv9o0GrWs6GGvCc/I7pPf/4TnQK9KEFZuFBqJrSjXdzoLx0qUjMyDQpZgAlFK1qagGYUoy4FqS89KtNOwvSWI70pKR+ChitQoac+/SlQU6rSE7a0qC7NXk1vOdOlEjCpn8QpVDEIETRQAQo9tSpWq6pVqwp1qHBh6VHDGk2nepKpZgUgWTEZ1bVS/3CqUHgrXOMqVyh01atuAatR82rHtF7yrH7lH18JydbBQtCtcz3sW+tqV4jgVayOzWNgB/nXyUa2j4S9rGGdgFi5KnaxDmmsXkObwsrycbJ/JS0ZL0vYqWq2tVBwLWzpak7PMla0tmUnasVoWr/mVoyqHSxrnSDc4RK3uJ2l7UJA+9jlwrC3W9ztWZ1byN+uNbjFve5wj4vchCj3tt4FgHSzCF2zhveH1K2uTrGrXicclxdMIIIkFmKOMfhgDPowSCesoF8rIMMg+oiDD7xgDlc2qrvMPTD5yuvD8TJVwT08b1SnugQnNKHCFr7whTuLDAUQYQwKGIRCYoCCOJCgBv8GsYIFmKBiZBTEBxyIAwoI8i8Df1e0Dq4hg5d6YxpCGKoSxjCQLbwExfLDCygwSBw4kBBaFAAZ+uBFAXjBDyv4ICFQpkU/kFGAVcy4xgim4o5nmOOZhhmUPb6phJewhCasuc1sfrOay0ngfsTACgbhBQDMgZAkt8UCILYCCJ4whv72gxEQOAgKxtDlL3tZo2Ve4Jhl+ugFnhnNOlWzmuGs6TafIAYMAUEc9MEPcwAAywexgoz7keh+xIEIqFYAlpN8kBo8YdGNZnT6Jq3ASHtU1wms9EinagRME7vYmL6BAlCgbGWPoSAkUDQ/kAEAXiDECy5oy7MTEgMi8EPWBon/Qa3NRWNc29jX+ON1R82NP2CLNCxSMDa81ayEE5BAEva2t6lpfd9VCIB6f7BAWyDAiIQYuR+VUMBBQG1rcjM8weq2H7oT+nBgsruhwlYCxjOucY0POdUJ+bc59PEET/ejE1jWMpdJUYABE9ocJGBCP8yhgEr0g8nUFvetc47Fic8v4gjlOf0qbnGH8EMKSjBCEpKu9KUr3QidZog5UGCBGChgFQXhQLP74QUF1EABiu6HBUgQAwiAgNBx4LoCrDBnOY1b5wQFes99/k64y0/o9YTIu5HO9L0nQQlyZog+KsEIFhuEFk4u/CBMneVKDOIU1KNF4tdOnScfniFtb7hj/+keP7nPXfPvszs98W6E0SOd9KYnfRE6Lfm5rN5cZ1eAAkBwc4Vc3u0X9fz7OI9N3HMT9N0U/emDb3rV01YSWDbHC0ycXNvfmvft0/01nc8+3//+IVIwQhGyr/3tb9/pcqTtGEhgeeZjXvpBgH42pU/9b1p/CPhL/fcXqw8Q2HkhJMAe5t1ufvTv0vzrFybeud/9wF/r/RMRgICeLYQFAED+NSBSSR//6ZL//d8oiZpDSAECDQHxIdcTWAChzUXtOeDtQWAExpP6UaA9Wd8PrCALtqALBsEGelYHzt7yiWDzkWAJBtIEoiAiQQQSGIELBmELnsBsedUYCMAY/MEfDP9cDZLfd+1fDurgCfJgIqmgEF4hESLXGOBADHQhEYyfDZYfDkYhGO0gFaaRDxbBD+zAGrYhG75hG2bhdtVWGHoZFJJhGU7hGaIR3u2AH/4hIAbiDsjhHH6WEzLcHeKhF5nhHpLUQyBBEOiAJE4iJVYiIRYiGB7ibSWiIu4QIzYiEfngD+hADpCiKZYiKpriJWIi7WkirnFiJ/KQHoJiKFpfKt7iKapiEbIiorniJo5hLMqi89HiGfngDuQAMiajMi7jKvJiL9YhIgJjMN7QJxKjBhnjMmajMjajM6qaL34ZLE5jAVWjNUrVI+qADaSjOq4jO3KjM4bgN05ROIrjAJH/YzlakA/mwAzYwD72Iz/+Yz+6Iy/CIzRCljTSYz3O4j2ao0MggT4CJET64wwIJCsSZDy20DwiJFop5ELi4yPy4wyEpEiO5EhSJCZaZEHu1UFq5EYOY0de4yOSpEyOpAyYZCGi5EVa0kqy5AFx5EsSU0zKgFAOJVEWJREW4HbhZEo2107yJGD55E9GkA/OQFFWJVEeZTdyV04uV0Y65f7YY1Q+kA9aJVnCAFZm5TNuZUt1pVf6AliGJQL4IAzMJV3WpV3CAAV4HFoqpVrakvO1pQC9ZVjK5V0W5lyeJVp641KCY1O2pWBGpQ+2AAxIJmVOpmVSZgsg5l725Vo2plc+/+ZPRuZljmZltkALTMAuviNnhhVbfiZUwmVcPqJpziZt1qZp2uQc8uVi6uRfAmZL8h5sVpAPrkALEGdxmqZxJucKSEBqDuRqvp1nOiVovuRwEqdFFKd1Zudt6mVW6uZqtqZ0viZc+uCrfEQKMGdipuVucmV08uR0dmRYIEF5foRmdudzvlR7suR7LmR8msAKpACABqiACmgENGdF3qc6gad7iudgEh0SlMCARmiALid3dqN3rif4KKh+MihkEh0N/KeESqgE4MB9peeF9qWGauR+3qMPjoAJvCiMxmiMpkAEuEB6GkQPAEUk7CiP9qiP/iiQBqmQDimRFqmR8ugwJP+pki4pkzapkz4plEaplE4plTYpPlwplmaplm4pl3apl34pmIapmG5pMRhDmZ6pmaYpmq6pmrYpm76pm8YpnM6pnNbpmwYDnuapnu4pn/apn/4poAaqoA4qn4YFDaSAjCYqjNKogRYiP3DBIRyppE4qpVaqpFYppmaqpm6qpo6pp34qqIYqqNIpqdqpqZYqqp6qqq4pobaqq74qrL4qRByqotZqgSIlbelDjloqr/aqrxoppwarsA4rpoqqsR4rsnpqqi7rqjYrsz6rm8aqtE4rtbbqrKZACWSrtm7rtprArabnox7CI/wquZarrxIruqZruiYru7Zru0IrvDqrvMb/651Wq73eq73OagmMAL/2q7/6awl8a2LqqrkWrMFeqromrMIWq7s2rMMq67xGLL1K7Lziq8VerKvq679ubL+KgMCiZbgerMiOrI8urMmerJM+rMquLJdOrMtS7MvWK8bOLM3uqb6KAM7mrM7u7Mdmpa7qKMkGrcGiLNGiLMseLcvGLMwurdIWQ80+bc3Oagh4ANVWrdVerQNUKC+G67gKrdeSa9GGrcIiLdk6bNMyLdrSK9Su7cXOqgdowNvGLdzOrdxmLa56FsF+rd6eq9j2LbGWLeCy69kObtquKtsebr4+BA1oAOM2ruM+rgbYLbhC6t5WbqX6LeYGa+BurrES/67nFu6cIq7oSuusQq7pNq7kDuyuWi7rAmvmvi7Dcq7sjunn1i7oquno5m7GKm4G9K7v/i7wakADaC0rcm3rHq+Qwq7yTunsNm+Y2i70gq7uTq+gzuoFXC/2Zq/2Ci/xYmLeIi/4luzyjm/KOq/5tuztRq/nUi/7+umsVoD2xm/2Du/dLlbIhi/+RgL57u+Snq//Zqn6pm/6ti8B6+msUkAFJLACLzADL0D88eLP5i/+8i8F/68FBzAGS2wBb7ChIjADf7AC0+/kiqsEgy8F868F/28Gr7CzbnABd3AFILAMxzANz/ACNOocfm8JH+8J728K+y8LB/GpujABG+oEUP8AEiexEi/xDd/o/e5w6/Yw+f7w+QqxFcspEbevoUrAEXcxBXixF1NAE6dnBENxFEvx8lKx+V4xG+NuFlPvZdAAF4PxF9exF49xYhqvGVsuGqexGjdvGwfyG8NxodDAA0wAIieyIi8yHqOlDu/x3vax8v4xIAtwILfwIOtuHD8AF3fyBHgyKDdyVj4xJOutJMMuJc/uJbNxJmtyITeABMSyLM8yLR/AA7NiGZeyKZ9y5qay7K6yJRtuK4/uZajABHByBCSzMi+zMh8ADm+XHuuy1/JyL/vy5gKzFQ8zMSsuLD8AM39zMjvzjT6yNActNWOuNV9zMGOznWqz6MYxAzz/gDzPMz3XszgzxBhAQAHUQMglBClYQAFwAJdpHUBDgBccBAdAgEJ/obmQcjmT7Dn7bToHLjsHsTsjbjHLswNsNEd3dEcbwAOfggKQAjKgAMwhhD5AgH2h2H1ZQSeYQyd8WD/wgwIYHy3QIKvk8kNDdESL7UQDbkWvMxZfNNsaKgM0AFIntVIvtQGkJhH4QEEcXEJIAsL1gz4UAClQD7gVBKzV79VAatfu9Mj2tE//NNkG9QoTdVEXigostVszdWq6QNbxggB8YD+MwZEZhMIdBDII3H0pgELXAC+UaKuQs1gPLVkXrVmftVCjtRur9dMaagK8NWUbAArQAmZjNqG9/1hBkJri9QOqHYQLHLR/dWGJDgIv0EINWEAC4scpkEABFICjUO5hj3ViE+1iI61jYzBkQ+1loMADMIBwN4BwF7dxH7UBFIBCL3e4yXVB0LVd43XCxQFq+AAJDFhCmEMBdAKG0AIjDIJsA97q1vbB3jZu53bSNrZ6u2xvRzbRtfVxx3dxL0BTM8RTGwRVJ8TB3Zd2k8JMH6BdH8RVc3eGqNxskzB5I7Z5myx6p/duN3Z7R+17C3cCMEACLMCFZziGbzgBkJxCrAJWl/QT3BcTDFxKCxiKGQQTzBwpkMJg04IkIAMv+AAEtHZ+GDjg4UCCi+yCn2yDr+yDq2+E02xYvP+AhScAkie5kic5fTdnHECAAvhAP9fAHxjEKoCAApAAl/HDC3AAB1gAB9TaKXAA7MUALXi1W+D4QvADCwDtjpdrjzP4jz9skEP4kGOsBQKeCiD5kS+5n3f4nOAqP6B5daj5XHABIrx5wcb5ws45na83pMPrnWNsWOx5AiDAAWD6AWw6p3N6AgD6dhl6Qui0ovMto6uro5ttpK/6sk562xIdCiTApmPQAYC6Z5nDH1hBASzhmoN1qYPtqaN6qrtrnUOvq1tspSeAARgAAjC7szc7tDN7hxM64ESbD1y7D4y4Qhj2r19usK/rsL8rq487qR47voZFrBvAATw7u0f7tHv/1qAfRLwfeqR2u6l/+7CGu7gXuyWb+71W+rIHvMAP/LITwDMjF6nbO6XiO7rqu+CSO8TLrL9Pa1h0gLITPMYbgME7sa8rvKUy/N86PLLye+1OfLVChApofMGvvMq3/MaTcQ94fK+CfL6L/LGSfL+bPMUTXQesPAGo/M8HvcoPgIeDLG3L/MLTvObafOdGvNOfqc7vvEP0PNBXvdAH/cHn6ngjPcIq/aYyfdPj/OBGPek+xAZoPAEEvdqjPdq/fB53PNcfqddzKtiLqtgPMNnDKkT0fNr3vd//fdpnPd7GfNxP6tx/fd2P6tM/fd7rvdkDPuT3PdFzfL0Xvusefuwm/z7tLj4rN/7uTn3kR/7kw7ybW/6QYn6mav6n3v3Ye761PkQHhD7kj/7bI7jpnz7qV6nqQyzrp63rv75DbIDsA/4ACL78Ef7tE2nu6/7ui2nvN+3vEypEYAABDED1X7/1Zz/2Ez21V5RDJ/+PLj+VNr/zc37ER/+gTj/2r7/2Z3/xj/PWg3/4i7+Ukv/zmn82o3+gqn/7sz9AEBggcMCLfgcRJlS4kGFDhw8hRlTIj8uhR5EwZtS4kWNHjx9BhhQ5MuMwkydRplS5kmVLly9hxlSJj2ZNmzdx5tS5k2dPnz9xFjMmlOhQo0WRHlWalOlSp02hPpXKNFhVq1exZtW6lf9rV69fwWaNiGHAwLJmyxJEa1BiW7dv4TLU14NkXbt38dqVuZdvX799gQYWPJjw4KiHpyZGvFhxY6RhIUeWPFny2LNoL2MuGJdzZ88TK+YVPZr0yL+nUafeW5h1a9eBGcd2PFt27aWUcefWDdlyZt+Z2X4WPjzi3EmlkScvrZp58+avoUePbps6bevVqe7Wvl1779+/BQQnPp78QYoWladXb9p5e/erpceXD/t6fez2r3PXvz+y9+++xStPwM/mWs/AAzl6T8EFV5rPwQdzuk9C/CbMjr8LMcTKv//OCm/ADz87D8ERDWTQRAYhTBHCCilskcViMowxw7EEEGCAGm//tBHHHQWIgR8QgYTLOBKJVO7EI91TUUn5XnTRSexkjHI/iPixIMcrecQywCC5dOi8i4oMUzQkyWRuyTOha1LNJx2T0s3uILKgxjnprDPHLbvMM6ECxewTrzIBPQ3NQVlb01A2oXpTUdxo1NFRLOnEU089RfTTUvYCzVQmQjkV7NBPET1q0VH7i7POU+ccAAAPJ20VoSEvjfUjTWmFqdNbfQJVV0RJ7fWriORE9VQAiJXU1SC/lFXZjWptliVcodVp12ld9NXarYAVgNhtue222GNd1acDC1Ao19xz0U1X3XXZRYGDAtqNV9556a3X3nMtUODeffnt118IIPBX4IEJ/0YXAnILTlhhexVAeOF7xyiPEWPBBbGTQSqRROONOe7Y449BDlmSOEQu2eSTUU5ZZY4ZIXnll2GOGeZKBvlD5ptxzrnjODDW2eefVY6DEaBhpoU8fpAxuuKlj+XnR6ahjlrqqamu2uqrsc5a66257trrr8EOW+yxyS7b7LPRTlvttdlu2+234Y5b7rnprtvuu/HOW+/x9CGlkr0TWuWPQXgBvB9kRh4EGcMRIqUTw0/Z+G/GKeeskgIUKODpvbWAIIYXFJhcbyZQ8AEFBVbZXO9VCrDA8BgQjqHy2d9ChhdSCmCcFn364Yf0ymsgQnW89eGACdcBjyFi2pl/C3fax/8AofIYnuB9byuYiIOD4e+OgQlJlG5efIeerxwZCOIwvBIULHhh8b1psQAZ7bm3uwYSXijAB+vH77/x3ClnDhfUgHG8kMQYIPCH+s1NHySQRD/+gLy96cNpvFDAIPyXwX6Uz3DmeEEMKFi5OEgQb5VQgA9Md0JzUI56GvQfBydYAxeYY4F5swIKahg3XtTsD0SAwCD4tzdzWGB5LmQeMnwQAwH4gAmAe4IAaoDCJu7Ne17wQQEkkUO60U+IIHiCFThgARoa8YhxGIMZ/wC4TpzxjOnbGym8wIQxhM9wtMCg3vihj0E84QlxWCEZmfcjLd7NaYA0ZNkKeUhFLpKRjXTb5CMhGUlJTpKSlbTkJTGZSU1ukpOd9OQnQRlKUY6SlKU05SlRmUpVrpKVrXTlK2EZS1nOkpa1tOUt/VcDCBSuH+bgAAj+iEthDlOR5yMBBa94CmIuk5lG7IQAnjAIAMQhiM205jUrZwUBFKAG1cTmN8F5N2TUiBaDDOc50Wk2fYBOX+ZM5zvhybUxAABjAtCCO+OZT31CjRQCmOITAFAJfO6ToAXlEjIswIE/6gMFuzToQyHqqkQiZKARtehFMZpRjW6Uox316EdBGlKRjpSkJTXpSVGaUpV6NCAAACH5BAUEAAEALCoAHgAuAkYBAAj/AAMEADVr1qqCBQ8iVJgQoUGHDB8uhOhQYsOJGC9qtMgxIsNLGEFeFCmRpEKTBVHOUskypMuRL0tOzPeQZrBZNHHOupmTZ0GbOncGBdozqE+dR48SLahUaNGcS2cFEDr1ZlWpVLNa1Yp1q9euYK+K5Tr2a9mwVPOpXcu2rdu3cOPKnUu3rtt+/gTq3cu3r9+/gAML5uuPyIPDhyM8ULy4cWPGiiE7jpx4smXLkjNX1vx4s+fODxIsWJCg9AHRqBOcTq0aNenWrE+Tfr36devZpkvblp26dunbvXX/5v1axooVLmS4SLF8RQrjx5czdyEdOvIU06sfv54dO3Xt0b1T/8duXfp38tvNj3+eXnylSpMmwY9Pv779+/jz69/Pv7//SbsAwwswBA5I4IEIJqjgggw26OCDED7ICzp5DWbhYP9kmGFfGv6jV4cbBgCiiD84YOKJKKao4oostujAYS7GKOOML/5m44045qjjjjz26OOPO24nJHJDDpkCkUUed6QLSSqJ5JJNOodkklA2WWWT8c03339cdunll/lVwsuAY5JZ5plopqnmmmy26eabcAJD4YV0/gWih3x1+OGIIuoZABE0BirooIQKCuShiCaqaKJRNsqko41OKWmSj0ZZaZOXNqlllvJ1Ct+nnoYK6qiilkrqqaamiuqq8f3yi5kCxv9Kpqy0zmprrbjeqmuuvO7qq6y/8FNhncT2yedeHoYo4p4CafhhiYVGK+20My5q7bXYHhrpttx26+2333IaKpjklmvufby8+uu6vbbL7rvuxjumsMUW66yxfimLLJ58AkrtvwBTm+3ABBMM7sEIJ6zwcfWBqurDrEYM8cQSs/qqq2SqKyCsY27scccgcyzyxyOHTPLJJqfMMTD01kuss37uyyHMev4DbcA451xtwTz3rO3CQActNMP4VUzx0UYnjbR86aZ7cclQoxy1ylJXTfXVGafLj8uAzcDPnX02qy+z+yo7or86p602ij637XaOQ8ctd7jn1m133a5ejPHeTVv/PfXffgeONcl6D8s1XzP4w2eIMZMtNp4z27z25Gq/bfnbc2eueZJ3d+55l3nvrXfTT5dO+ummp4766qq3zvrrpR8OmOL31syv2ZDf2+yeHqJN+e//Xi58z5sXv/nnyCePX+h5O00689BHL/301Fdv/fWuyk7nnYuPCDb3kgMv/rTDlz+w8ejLrfz6yk//POzwuy5//PTPr7f2dXb/OM226+77+AAMlPkGaK30GTBo7Eug565Xvwbaz4EQTF328CcQalDwZTcLoAZlRMAOIuqAIEyYAkeIN+yZ8IQoTOEJL6iXGECOhYH53wZnqCIP2tBHIcwh3UjIwy+p8IdADKIJ/2FIRAuFj4ZITNENl6gjHTpxWz2MIuiESMUqUrGIWIxhErd4IiZ60UZPDCOWpEhG/ljxjGhcYRbXiKwMcpGGX4yjGOcopDLaMT9pzKMeo8fGPgpEhm/UYBy/SMdC3vGQ9dmjIvfoRzYeMZAzHKQXC0lHRFpykZhEYyPZCEhIjk+STKTkHC2JyEya8oqbxOIjPRlAUC5RlGIk5SFPScsfpjKLnWTl71x5Q1iGUZZ3rKUw1XhLGK5Sl+LjpQ19+URg2nGY0LReMYuYS2SuTZkeZKYTnVnGaHpTetM0phutuUtsElCbOuQmGb/JztCFE4bVJKfOzHlOdIZQnVJspz7fef/BY8rzmvQ0nz3vic8e6rOd/LxgPP8ZsIAKdKAHLKhBD/rNhOLPnwydp0OHB9GISpSEFK2oRbW30IwKbKPC66gBPwrSkEZzpLLDqEkbitLLqTR9LB2hS18K08OVdKbRqqlNb2q8nCpwp9DsKdf+oYMIALVyQsUcUYtn1AQidZhKdZmHnPpUjUa1bVOlalXXd1VhZtVlP+2qob4K1rBqbqxkLSstz2qvcar1pGwlnlszB9f2yfWUdC1WWu+6s7zybK987Svy/grYwG7ProQNqmEPi1j1KfZzjDWlY+s02Mi6aLKUrezQLovZzGJysxeSqWfXCtrziXa0pO2caU+LWgv/dXa1K2qtwV4rtNjKdraKrC2GIItbAeo2W7ztrW/tBtzgClcwty0u246LreQicLklbG4enxsY1Uo3RtStrnUXht3saleT3AVMdL/rgPBea7zkLa+5zrvd9OaLuOz9rHsXBV+FyXe+9EVvIymBAhBgYWt8CYQRbtCKChXiBhyIgSP0AoQZWBgMf8wvofbL3/4i7L/lCrCA+2iLAgTCFBbAMF9iEIUCXILCczDFHFwsEAWUIRCB+ASJNDwoDivKwx8GMZhEfMZNOuEGeSkEBP6igBcTZgZRyIsCbGG49X7Xx4wCMriEPGQiV3GTMVCxLwSgDL80uS/8sMAcaoyCGGCh/8ze5bESsfwzLXuLyz70Mir9yIE55AUdALCFmZ28FydwAMFYcEQhSECCrVlZunSus525hWcv6XnPFxSAAgqwaQU4IS8oKINAlAEAZRiuxoQWCBgg4Iu+KEMArYiznLsY6R9N+s6V5tKlhUhEFCjj179Gh0CAYIQA+OMTBWByqsvAamX/adY0qrWtb03pXP9n10Hc5CUU0OobGCEvc/jEsM4skDlAQNB68YUv/OGPMihAGbKGtrRxSG0oWts/2AZiKp2gAAWAQBnCIoGoA2ABABgcAK0IAAQODgAgBADZ/bYAJTIMbQ7Om0f1tve9zZhvFabSH8po9anrxA9fmLpZ+P+tuIkujvGMN2rj/em4x+3rl0cXl+VBcnmUYM5xmROT5s9SOXhxDjedj5HnePT5z4FOcaGziOhFN3qRkK4fpS8d6PGeNdRxJHXOUX15Vsce0/lic9xu/UZdn/rX7xN2sY8d5U5v0dnBmPY6rt0+bb/e2/VS9tXO/Td1t/vd6ZN3ae4963L+e2kCv53BJ7Lw1Nt70+M+578znmiOnwTkI3/4AJCBDGMIvehHT/rSm/70qE+96lfPetFbohKvjz3sZy/72tP+9rbPPe53r/ve8/73uR+G8IdP/OIb//jIT77yl8/85hvfHdCPvvSnT/3qW//62M++9rdP/XToIx3eB///98NP/vGbX/zoL3/6z6/+9rP//euPv/vTL3kPhWEMoG+9/vfP//6v3vcACHwCGIAEOIAGWHvOl4AKuIAMuIDc94AQGIESGIHzV4HwZ4Hyd4EamIEciIHpIHl5cX/+N4IkWIL/d4AoWIAqmIIsiIAN+IIwGIPON4E0WIM2+IAeuIE52IE62IM82IEgGAAiaIJEWIQkuIJI2IJKmIS9J4NO+IRPeINSOIVTuINW6INX+INZSH5BOIRG+IVgqHpMuIRkOIZICIVomIYKSIVs2IYQuIVYGIdaKIdW2IVheId4SHpmWIZ8uIdNqIaAGIjP54aEWIjdR4eIOIeKCIfyZ4d5//iIYeiHfTiJkmgJgniJgmiImmiIjNiJieiJQLh3IQiJpGiElUiJqMiEmLiKabiJrtiGoBiLnziL9LdJx8I7LxQzIzKKpdiLR5iKwHiKBMiKxOiEr3iMUiiLi0iLysiFjQQ2eaI73GMsGsKLvniN+yeMwbiNf1iM3siAyBiONNiMzFiOywh+tpgsY+M4jOM9GWKN2BiPYsiN9KiNsfeN+LiG4riPOGiO5HiOnZiOj5MvubMh0PiOQiiPCpl69liP9ZiPEMl8/DiR2vePFumPF5iO6vhC7GiQ6rgn8LiQIhl6DVmSDmmJEZmSx0eRLGl9FwmQGLmIRAQDB3k764g7+/9TkCE5kgtpkj7JjSoZlMTXkkQpfS95lDH5gc+4kXZSkGKDL32ykzwpjz9ZlakolFhZlFqJlDDZlVuokbXjkeDDP8YilVOJjVaZln2IlUKplUXJlXDJjKn0PTbJP3a5IWZ5lr6olny5hGwZlG5JlHHplUnJfre0jk9ZNhypJ3mpl6XYl5CZgn+pkoHZkoN5mXSIWoi5F43pmJAYmaA5gJOZkpXJkphJmKjZfo7omfEYmq7Je6MZkaVJkadZmzq4mqx5ja+5m7QXmxA5mxNpm6npj7iZm73Im8jpm/kInPwonM5pmKKYkMapmydZnX6onPjInPv4nMPplcU5nZ9pneL/qYrY6Y3aKY7cmZ7fCZ55iJzjCZvlWYznGY7pWZgyGZ1eyJ6P6J67GZ/yOZ/HWJ/d+ZX4qZ+P+Z782Zv+yYoAGqD2KaAeuJ4GCoYJ6poLyqAN6ooQ+qC3WaATup8IGqIAeKGrmKEayqED+qAS+qFFWKEiSqKYaKKbuKEpqoUryqIm6KKgCaOXKKOaSKO1eaM4+os6Op48mok+WohAiqKqGZ1bkH9D+oVFCplHGohJqqRMmqXeKYot4AZRGokiGqbBV6VqeKWEuKQ1WoH1FwBfCqZTap1kWqZmCotaiqZK+Xb216ZSKqZ8eo9xioZzSqdpWqdy6aF6SoRvypd/CqiB/0qFdlqnQnqorZeocLqoUdioVUiog7qlb9eZksp6lJqWlnqpmHqDj7qpztip0vmpRNqnYjqqxliqpqqpQBqprMqQrtqfsBqDsjqrqEqrmWmot9p/oXqSu8qrvVqDpwqXqeQIIGABTtAyejEHQIACqbAXZcABFjBwAeALNwABMUBlnjqsp1esVXmsMJisygqsv3qfflRihWALHIAFhHEDWEBjAkEJCvAJpgABhSAQKAAEvhAFSzau5Fp65vqQ6NqA6jqO7AqhRnYDxuYISzZoegFlxgYGKBAAtkBmAgEBlGCwBzt6CeuTC8uwDSuBy8qkYCZmpWaxHxuyAXAJEOAPhf9gAQLhD2EmsiNLkrn6qifrgClLgQ9btLXIZ34WAICGbnxBbgGwr3mRCgIQAHMAAjl7A5+2qj0Lqj9roUGrj0Pbj+1qp0TEcAZXbAEQaqNWaiNHbv4AsgLxCQrgD4GAswKxs1q7tfNYssH4tWAbttu3sqi6ScRmbMjmbAA7cHPAAQFgCgUgbAQXCDzbs3xbkn6bgIArtoJrkZskt77ADzOAtmXgZL+mAI4AcP4wBxagDOjAAaLmD9saAI7wbpM7spXbt5fbfJnLfZuropvUYgrga4krECTQaQUgaPwABAVQADewNf7Qr/02cbV7sLdrj7mru7tbkUarnqnED2XmF+z/5hfoALl78b3Glrd6i3rVe5XXu3zZq71ju70ZKazpq75d+6Ltq3zvm329m6a2mr7rK4z5q7/7e339y7n0W7+mF8CUOMDJV8AGLL/x24gJrMB6eL876sArCcHVd8BJ+b96y8CVqMEbzMHT58EDCsJbK8JrScLFZ8KHOMG1WsEW7HoYjKAu/MIwbJQS7JwqTLk3TKU5PHw7zMMy3MPj98O2G8RGOsTCV8TRh8LNqMTUy8SK6sTDAMXQJ8XEScM1PAYsfJ1YrMXuwMWpScXkGsZliMVZrMVmHItoPKxqbIZsTMZvXKid6gNH0ARM0Md+/MeAHMiCPMiEXMiGfMiI7MfH/2AMi9zIjPzIjhzJkDzJklzJlHzJlpzJmLzJlZwLnvzJoBzKojzKpFzKpnzKqJzKotwGrNzKrvzKsBzLsjzLtFzLtnzLsPxAuhxBvLzLuhyERcDHiTzMxFzMxozImpzMnLzMytzMzPzMkazK0jzN1FzN1IzL2JzN2rzN2uzLvfzN3hzO6SJ5AeADwXzM6JzO6nzIztzO0PzO7hzPlGzN9FzP9izN3JzP+rzP2CzO/gzOAC0/5BwA57zOBn3Q6SzPCg3PDL3QnXzPEB3REM3PFF3RFf3PGB3QGn0x5GzOwozQIB3ShuzQDV3SJB3PEp3SKj3NFt3SLp3NGR3TGw3OA/9d0CJ90zjdxydt0jy905m80kAd1KP80kRd1LEs00g9077c0Tad006N0D7d01Id1ccg1FYt1Ead1Uad1Fyt1PFT0x/91GKtzlQ91Wbt0Fed1iqt1Wzt0l391l6dOkwd1mNd18Vc1nh91tCs1nw90W391/wM14Id1+NMzk1t14iNzHqd14yNyX392PQM2JKdz4Nd2Uo914md2Yrd2Jy92IwM2aDN0pM92v1M2JbN1WCt2apNyJ3d2osd2rCNyqQ927Z82qZ92ZLn0au924Ds2r491bEd3KRM28Qty7Z93L18mJvpJzWpO4fN26r929Jt0sJd3aBc3Njtysi93Q4Elrr/k5Mb2T8hotvQzdvTfd7wbN3qnd3szd3u/dVL+ZFlA5Vk890ETdflndnovd/MrN7Wzd7Z/d4CzjoaSd9QKY1kqRfknd/R7dn8fdL+Xd0Ajt0DXuGkE98DyTsZfuAx89wMbtcP7uA9HeHCPeHFbeEoTkSJQ5dM2ZE2+SHUWM4e/uFjHeI2DskkHtwmTtwoftu/DEMupD8xnpgczpGJOeM0/tQ3vuQ5Hts7Tts9XuECaeAJbt8DueBJDuIivuTp3eSh/eSzHeU+Dt9+NI3tiOBn7idInuU4zeU27uVfDuajLeYCPpcInpOOQ43OguVsLtZuvuV7DeeQLedzPuZ0TuBT/w4YmykYa97nIf3nDy7og07okn3o7o3Zjl7jgA7pnCzpj03plW7ooo7RqZ3pfr7pqE7Vnt7XoA7Ylj7qF57bjW7qBs3p+73qfN3qf/3q213qtJ7Ttp7q84zraa3rbc3rsP4LmP7rbS7swd7IxF7sxq7VyH7cvs7sIv3szv7Z0W7V007tyR7uP753fI7tUL3tz97t3v7tWy3u7i7Qho3f5l7r6F7v7azuWM3uRV3to07OMDDvOG3vAq/MuoDvQK3v+/7uCi/Xh6cCSADw2T7wEv/QBr/WCP/S/H7aQbjHEA/S2i7dFb/SF4/xC1/yHC3r8t7xx/zxzh7yFj/yFp3xhv8ueVsz6yq/2ROf81Xt8hIN8y0t85VN8+V+88bM8r7N8z3v8xdt8iafSnULAUZAvnphCygAASiAbkaAAlqPAmg7A1sfBQFQ8ylP9MNs9KmO9BGt9EsP9Ka9Sa3gYr4AAmDPmRYQBb5gaAJhC6aw9xbABVJWCHuPvENP9mWv8zqP9n6t9vvM9oIdsfkKAQgmENu2NehQAKawF2P2uU9LZXoh9oSf0Ib/5ohvz4of2Ewv5Y0UZgLhCy+rF2WwsQIBAmumF1EA+0/LASBgBADHD4P/+ewc+hM/+qRf+vrM+G0PQ74GbKxrbH32Z4G2F1gQA3oBAyoW9v46rabwCTFgAej/4Pm+X/TAH+nCH9nET9mnv/BEtLzG6wQCAQNlkBdjZr4B8Pp6Ift6oa9zohf+gA4CkAoAwc9HkSZMDB5EmFDhQoYNHT6EGPHgMWMULVbEeFFjRo4bPXYE+VFkSJIec51EmVLlSpYtXb6EGVPmyjY1bd7EmVPnTp49ff4EmvMXr6FFiR41mhTpUqVNmT51GhXq1KYBrF7FmlXrVqsx/m01AsTqJQVZKUHgF4Cfgk/+rN4wotWfP7ZpCUrEm1fvXokj/ZYE/FdwYMIaZx5GnFhx4qCNHT+G/FjqZKqVKV+2nDkpV86dr85wq9WUAlvoYjhJi+WSP3QQ5vArA+GqMgGp/67aMsUPnRMF6ATe5Rtc+PCHg40XRn5cecfFzZ0/PxxZ+nTqjTFf15wd+3amnr1v9brVHxgFBWIo6zpn7icIBSyYsuovEIzQAUy1L0ACvt2CxP3/F245AZMjcECToEMwQQSrY7DBBrmDUDsJI6zqOwutAq2ztDjbML76rvKHnw5/6w9AE08srkAVDVyxQAVfhBExB2ek0TEKJ8Txxu0uvDA8Hn/Uij8UhyQSIRaPbBHJA2NkskmVaoQySp10zLFKKqMC0rsMs+SSxCK/RFHJJMcU8xgnz3RSSjWlvNJKN9v8hcvOfJTzRyHBxNO/Msnk00A0/4RxTUFphPNNQymsM/9RRa/yMk9Hg9sz0j4LA7TSBQfFtLpCNz1Us0U/lfPOR0fFS1JTJxXJUlWby7RV6TiFtVMsQaWVx0ZJxTXFU3dFtaJVf5XRVWGtk7XYWCusNVnPRM21WYV4hRZVYKeNaVhrfzrWWG2LUrZbDgcq0VlxDYq2XDKpRbela9fdKVt3ZfU23qyYHddZc+9dMV19U2K335veBfhNeQdWC9x668U34eT2ZdhfhwOGOEeC5aX3YFwVxjgwhvd12N+IP9Zu4nhvtTjXjE8OaWN9O+4XZJctE9nbikt+FGWbM1I5XZbZfblnqGLulmSaR7256JzR3Xldn5dGCmhlZx4az6J7FfD/aGqTvpZprZ1OVuio85zaZqunxdparbcNmWtaof66yLCpXnjsX8se9uyl1V4bhmmWWcaZvv/2O3DABxe8cMIPNzxxxBdXvHHA9YE8csknp7xyyy/HPHPNN6ecHs8/Bz100UcnvXTTT0c9ddEVYb1111+HPXbZZ6e9dttvh70c3XfnvXfffwc+eOGHJ7543/EG1R+9+Xa8ecafdz566Kd3hnPrr8c+e+xV575777/3Hnfxxye/fPKNRz999ddXH/lPlXdGevmpp39++x/XPn/99+ccfP//ByD3zDdAAhZQfOxDYAIViD73LUp5e7tfBOs3QQkKjn8XxCAGA7hBDnLQ/4AfBCEIFzhCEpKwgYp6IAVVWMEVTjCDL4Th9To4Qxp2L4Q3xOH4SrhDHqbvhIlKIQuF2MIhWjCGR0Ri52q4RCauLodPhGLuejhFKh7vh3IKIhG1WEQtJtGLSWxiGJsYRTJGsYpnrOIVsbg8LrZxiy78YhxfKEY60rCMd8QhGvXIQzVyKYtuBOQbHSdHQl6wjofcIB4V+cE9NnKEfczSHwU5yUAqrpCXzB8iNem/RXZygI4EJQIhCSRJVpKSp/QbJlUpw022UoCehOUBQzlLBo6SR6VEZS7duEpeas6Vv0RdLIVpO1oWk3i2vCUbdbnMXfbSmZUDZjRJN0xqys6Y1/8EHjIvhEtTdrOLzwRn5KQ5TtBV05yuw2Y6eadNC3GTme+8XzjlSU56ntOe6sQnO7/jTm/2E47yfCY9yWnPc+JTnfr0Dj/huVDnARScAh0nQc1p0HQi1DMK9WdGn+fQgEI0mhKtJkWxadHOYJShJzUcR53p0Y+CdJgivWbM/jHTr2iFpjO1yk1xGgCd/sOkGgXq4FTaS5YC06UvhWkxRdZTm940p0zt6U9ROtWh8rKovzyqMJOqVILR9KlZ6alTseJVmko1qEGt6iqv6sqsxnKrtFxqTb16lbniVKdffapZp6rRtKpyra1sKyzfOsu43pWuO7XrXXfKU58q86x7XVz/XzH5100G1pODDWWyvALVr4j1qXKt6WHnyli9Ptafkr0kZTVp2U5iFpTJmgFTGdvZxc4Wr4dl7GFLC1lvoraQqkUkaxfpWkcWtq60RS5iE4vc3Zp2mb4lJHAPKVxFEreRxiXrcpUr1qg6lrffTSV04yjdOlIXj9bdo0y5u13R1tapzQXvKcU7XvKK0bx3RK8e3VfbSHrXuf9dxny/WF/73peM+UUjSTkDXwA3U8BIJHAYDXxgBKdRweLxb3wf+2AwRpiJEzZjhal4YQzHr8Hx5TCEPbxEEENRxCMmcVb8wQEIMk/De03xEVfM4hbn8MVTjNkcIKAAIKDjQwFIBQgU/0CCVlhlDhzggAU44Aur2AIFCuDAfpZn4xNvOMcw3HENe+zjH/NxYq0ogCmUQYIofIgfEAADOqJgAatgIQamwDM6rAICJ6AjNkbecpd5+2Uwh3mGY85jmXcosrBYhRJlwQpZ3IKONAcAC2LBCprREwAIOAJ+gv4voedo6A4i+oaKXvTEYFAGtygDAJu2ShlQcBUQzMHSCoAACgJhlULQuStgYPCNhyjqDJK61KYWIapNWCsYKMPZztZzADigHtYAwBZYsfNVYAAG+3zCFnMogCP48eSr3MAJwQZ1C4mtQWMnEtmMVPYjayWA8tT73AHYtlV8IQBYB0DWtLY1Vpwwg/8A9PoqMQB2htN92nXzr93ufncB4y3vWh3ZKo0OAFmyImm1sCUrUQBNKgrgG057WuHCXmjDHf5wAEbcgBNfoMhE3gploMAJVokCJUIEgTLwAwsWSEshfIEOsgScA1FAxxwUwA90o1yCKt8fy1vucgLCXIExi40CbkDyGwTcFBwoAAda4RYglIfn8WkFCNxjirmcfOHPhXompc5Jqn/S6qKM2VzmIheLW1wubnc63OOevbnTve7luzveYwwiwL89kIPXXuHBd3jzJZ59i8dK0x1PP8gTXvLho/z5LN8+zMen8YF/fOdZ+flXhl6Wo69l6TWPes6r3nqst6HrXw/74pX/3vQ13jzDbb853Lde98TkvfF8H4DZB3+jwyd+8VN3fNwlX/m+bz7tGwp9X0o/mNRHvvWHt/zsO9+S3M+c978PftqJ/5jYP735v4n+y6n/dOyvnfvHD3/ga/+d9Mcc+zMd/Gs//Qse8os//xs2ALQcASwdApwdAzxA/lPAlGNAaHLA0YFAa5LA30HA/pO/1LvAyclADdxAKerA3vnAChS+ERSnEgydE0TBFNydFQxBwXNByIHBGJRBdKLBdaLAGzSlHJScHSynHmydHwRC2UtAIfwnIjTCz0HCJFRC3bFBFsTBHIxCz5lC1qlCKwxCLBxCItTBLexCRfjCcrhCJ3Qw/yg0wy5MwzUUQ/kiQ33YQno4wzjEvilAgoJYgj8ExEAUxEEkxEI0xENExERUxD/8gkZ0xEeExEiUxEmkxEq0xEvExEgsgU3kxE70xE8ExVAUxVEkxVI0xU9EgFRUxVVkxVZ0xVeExViUxVmkxVYkg1vExVzUxV3kxV70xV8ExmAUxl1cvgDwAT9cxGRUxmVkRkUMg0yExmiUxmmMxlO0xmvExmzExlrkxm70xm/0xmEUx3Ekx3Ikx+X7CiZoxnVkx3ZURGqEx3iUR2jUxnq0x3u0RnDUx33kR240x38EyIAUx2I8RnV0x4NESHacx4VkSIbEx4eESIjsx4mkSIoUyP+LxEiMREcfeIKE9MiPXMRnbMiRJMlMjMiTRMlrrMiVZMluzMiXhMlx3MiOBMmatMlAFMmS1MmdfMSU9MmfBMWWFMqhdMWYNMqj5EV0DACDvMmm/EiehEqeBMqpBEqitEqiRMqsRMpiFAKadMqvPMioFEuSpMqyRMmrREuW1Mq1hMmZBMu3bMecHMu5hEeztMuHTMu8nEi25MuLdEu4BMxllEu6JEx6vMvD1Ea9VEx97MvG/EelZMrAlExELMzKrEbExMx8XMzN9EfH9MyBXL6unMzRPETLNM1LzMzULEXOZM1Z/MzXDMa/JM3ZxMnTtE1JVM3cDMXW5M1XhM3f7EX/2aRN2hzM27RN3UTOTuzN5VxF4HTOXITM4ZRO46TORkzO62TO7HzO7eRKr5RO0qxO6rzO5MxO5tzO5xTO75zM4gzPwhxP5CzP5TxP50xP9QxM9mxPunxP3YzP3pxP4IxO+xzN/DzO/VTN/uTN//zN7hTQASVQ0zTQA0VQ1lRQ2KzPBgVL/HzQqIzQ1JxQCq3Qz7xQDHVKDd1QqexQzPxQzgxREfW9dCTRwDzRykxRFV3RxWxRz2TQGIXLGXXPGj3MG8XRHG3MEeXRmjRRHyVLIL1LIVVMIi1S7Aqtz9quxVIsjjzSt0xSJW1IJm1SJ81LKO1LKQUrznIqqFrKLAVL/y6dSy+1SzANUzFly8LKrbECLfdaLqwQTTV1SjYdSzc1SzhNSzmd04nJrim1UkQ91JvCUj5tyi31U3kE1LIUVLQk1LXULNk6VDvFLSqlUppqVEe1SUiN1Lqc1Kms1Ku8VK3MVMP6ivK4AWVAVFOwAPdIha/4OQGAACyoKQ6AgF81ApyKTFF9ylJF0VP9yVS1ylXNSpEZjVRQBhi4Oax4s54DA6CzNFNAh9EoBOZTAEqwBVvwha/YU2IFSWM9VmRNSWXFSmY9SkYDgpkiC9oKgEebKXRgC3+4qRlos38gDX0F1SYwVyRFV51U12RlV6F013edGBQog5lyNfTAKVmbKf9/qLWbUgYFcASewjXZ4CmrENiBLdaCXdKDPcuEbcmFNcpkQYFwddlNm7a5QAdrw7YY0DZu4yl+mAGCswpH8AVbAAII0DMhCFmRTUhSJVmTNNmTRdmVVNmYrBUDKIBfpdoosIpVc4t967d/27OA4wcgQAEjyzxKM4V/CFWjPUikTVrUXNqTbFq1fNqXpBUDiI+tcIIbcDRIuwqySAuyZT4jAIF+Y5QC+IR/+IFhRVuFXNsubduIfFunjduMzFS5QLNPWDOrDQAnEDd/gDNlmLOLg4BLwDNf4IdW8FlfCFojK9fEbcfFZdzGxcvHtcjI1UiRETIFMAKxBYJASItWuLL/lnWLGIiyKLPatMO1Gbg2s/VO1l1HtXXdSYRdiZTdvaRdv8SbEPE7D/EO5WVed3Te59XE6MXH6aXe6g1IdDzc7m1d8JVU8b1H8u1H8xVI8ltd9V1G9m1f961H+OVH+T3fFz1b+1XG78Vf69Tf/eVfxvTfxwTg5RXgkCxgajxgBE7gb1xgBi49w0XcB07ECJbgCc7GCgbHCzZH+nVgDqZMD5ZGEA5hEQ5HEj7HBkbhAVbhy2RhzXThzoRh0MzgAJ7hQyTgAr5hlcxhHd5hYUTfDf5hQqxhGx7i1SziWjxiHsY8f6jfJS7EJjbMJ4biKHbNKUZiGcZiRAxi/OViU/Ri81oE4zDu4RMe49rUYrY941FM4y9e419M4jcuzTiW4znezTqOxTsGRhPWY0Pk4z72Y1QEZFgUZDwW40IexDJm30QWxUVm5EYOzkeGZDg+ZOil5KC05KLE5KR80fTdZEHs5Er8ZFAOZVYcZVKWvSve5FSmxFVW5FZuzlfWRSPVY0kGX1v2RFx2ZV2GTk0+5SXw5ecFZuUUZlUk5mLOYFM+ZkakZdxc5k1sZmd+5lsk5Gmm5mqGxGvG5mxGgG3mZmM+5WR2XXEuAXIuZ3Pm5TdW58VlZ3c2ZzLIY29eAnAO32u2Z3jGPhAoxoEm6II26INGaEUJCAAh+QQFAwABACwqAB4ALgJGAQAI/wADzJHkaJPBgwgTKlzIsKHDhxAjJix0kKJBi5swaqzI8WLHjB83ehwJkqTIkihFzrrFsqXLlzBjypxJs6bNmzhz6tzJs6fPn0CD4vz3L4DRo0iTKl3KtKnTp0j/+QjSIwiPHlitauWxtSvXr17Dgv3Ko6zZs2jTql3L9qyMt3Djyp1Lt67du3jz6p2LK5euv4ADCx5MuLDhw4gTKwa8i5zjx5AjS55MubLly5gzS5bhorPnz6BDix5NurTp06hBE4XKurXr1wGmVq1KleoQHrdz496tuzfv375z9xgyvDjx48aTI1+uvDnyIDSiS59Ovbr169iza9/OvXouv4vDi/8fT36x5vPo06tPn7q9+/fw36+GTb/+a9m1ac/Oz3+///4A/idggAQOaCB/VHWn4IIMNsggeOVFKOGEia1n4YUYnhffhhx22N589oUoYlL+4DdgECimqOKKLLbo4oswxigjiz1MJ4ODOOaoY3YQUujjjxJmKOSQQ3po5JFHgjjikiGaSOCMUEYp5ZQt1mjdjTtmqaWCPQLp5ZeIESnmmOghaeaZ7inJ5JqulVggglTGKeecCWqH5ZZ45kkDmHz2SRiZgAY6GZqEFipaUWwmet+b/9Hp6KMvWtndnXpWOql0fmbqp6CcCmrop4YiquioTrl54ImQpvqopAxSaumr18n/oOmsX3Zq65ig5nomqbw65eSpcKoq7JSs4ugqrK/eSOuyPt7qrJC6Rmtkr9SS+CujwQ6rLYzF7ngsslpiyey4ET5rroXSprthtewadS2wjW4rL43JghsupuTmG965/Jap7r/ttVutqdgCO+/BdSL7rb3YfavvwxX2K/FlAFd8msDVvlswgAhv263CDF+KL8QkDzbxyZRZrPJoGPdKMLwbdyzsxwwvHLKrJeccGMo8Q7byz5+13KvGMB8oM6Q0hxydzfVSp/PTPUcN9NRCk/ryxkUf7WjSSttor8NP5xx1z1MDXTWpRGP9ptZxct11dUw3GHfYYo+Nctk/n63o1Vn3/802sW87GPeCC9Ndst13462y3oqm7bfBf8voduB26miz4SQjfrLiizO+Jt9qPx55jJNTzt3g1DGNOcSaT8y5xZ6z6XjoMY9Or+l4Dj736vq2LvHrFcfOJOiii267iqXjLrfX3fHeu+/8Ag+w8EzOXnzttievfJaDO58v9NFLry71IxJP+/W0ja799uB6Ty7454o/PvkiWn8+7ZGvzz6s7o8Lv7nySxf9QmQ+9N0vfUfT3/4s1T9m/e9ZAZTWAJt0wApCrmMKXKCeGrisBzorgtGaYH0KaMESYlCDyuMgrTx4KxDqSoT1sZ8Br3ewDKJwSyqcFQtt5cJcwRA2JJxhCf8ROCwb3jBLOdTUDjvVQ1D9EDYyHGIFtWXEI+ooiZlaIqea+KkntokIXBGiGNc2MysGDoub0mKguGgoL7bGHwHYjxTHiKpUVdGMDkJjn9S4RjYSyo2t8YF+5kjIOm4Nj13TI5/4CCg//hGQUIkiHU14SESGTJFgYiSZHIkmSEaykKC8YNsseUlMekmTuOKkmVo2BwgUAAjKUEoUYmABUxxlDhzggAU44Auj2IIEBeDAJwIQxFCCUk53JGXzTAkkVIpJlasUWCoKYAploCAK/EiKE+aggEvAMQBYmIEtxpnNAHAgCugoAwTQERtjThJmVEqmMrfDzGY6s0jQPBLGjAD/BKNQQgEkgmM3j4KFfiKlFQVQBhwh4IhivtOdgJsnsur5o3viM58ewhgMygBHXwgglkoZqFGwoAAIkCAQcAyEBY4SAzC086EwxR7pJDpRilLIotDCaEYVFQNl+NSn6IAjB+YAR3QAwBZLEWkATGEKWwSiAIUQCAeOcgMnOBSiMZUcTfln0wnhNEM63WmiBKCAApRVAU4wCgxcGgCPgjQpSkWKE2YQgEKs1CgtfSlW92q0SG31VV316lcvFNYO8eqbSOGnUS4B0KReYilRoCtC0ZFNhl41ppitjYvk+dfqBDZIg0VXYdfFU1EhZZrVREFaAxAFRxilFaZQQBlMwc5C//gCHf+cg1E44AR+cDObkuSrMW/X2Tx9tlyhXc9oSSuwVr4ylv64gW4DcINc6hKpQCirBcpwlF8WoJbEDG5mM4u84m7wuORJrnKXCx+M+cMf/4CvaY3iD37wA75GIYp+j6Lf+YhXuFlNmHm1hN70qpc97H0PxvqrpgD0l78Mzu+DLwtgAA8YTwUez4ERnOCACWy/DZawUh6836P8d7x8vTAOM7yvDWuowx5u13xKnJQGlzjCFEaxjgWs4hyxuMUuzgyMY8wuEIfYxjOO8IkrDNMeI/HHigmyZoacmlHFQL4kRtSDazxfGkM4vkvecZOdfEUoR0zKFKPyxXiK5SQ7OP/Eb44KnFcTZiYXksxlNvNh0IwZNa9ZxqsxsqhA5GUGEyXHdsYsnn2s5z3z2TJ+Nk3LDH3jCBv6zVuus5jvvOg8Ntowj4Z0pEkz6UCHaMuI3rSiO92gT4M61CkbNcs86atE21pArG61q/8E60HJWjS0bkqqb83pXCto17zudWR+DexgM0XTxEafsReEbJMpe9nMBo2zlzJsVYdy2seu9s6u7bNsB23bSoG2t2cI7mWK+y/kLre5O4Nua0U72u3mzrsBE+/HzNsz9U6Kuu/9uHzTc9+66Ldj/k3vgNN34Os+oMG1g/CEK5zhLnC4iQl+64lnp+IKJwfGNU7MABTj5Cj/T7nKV87ylrv85TCPucxVzoea2/zmOM+5znfO8577/OdAz/kKhk70ohv96EhPutKXzvSmO/3oOIi61KdO9apb/epYz7rWt871qj/962APu9jDTnKjEGPmaE+72teO9qC7/e1wjzvcx073utv9613Pu973zve93/3vgAc8yYtydrYb/vCIj7ncF8/4xrs98JCPPNj7TvnKWz7vks+85pE++AAUPvGgD/3hHU/60pd+86jf/OVXz3rWp/71ke/850VP+9rD3PS4z/3bYc/7v7f+98DXe++HT3fZ2/74yKe57pfPfKET//l4D770p+916Fuf6cZPvvZt3/zuN//64E86//XHT/3wm7/o2d+++kHv/fbn/vzwJ7/8gQ//86d//fhnu/v3T/r6m3/+ALh6/hd+95d/Bjhz/JeAizeA4BeADkh5DHh9BXiAFOhyCniBuxeB0PeAHCh8Gvh8E1iBIphyGFiCP/eBz9eBKrh1KEh8ITiCI2iCMrhzLTh8K3iDV1eDvfeCMFiBM/iDN6eDvIeDRDh1Qgh7PNiDBwiETHiEr1eEUOiEqZeESph/TAiEUoh6UFiEWbh5VFiF63eFP9iFmreFREiGmfeFYLh9YjiDaCh5ZoiDbxh7Gkd4awiDbSiDcwh5cXiDexh4aniHyJeHJviHgNeHK2iIfxeIgsh9hP+IgYp4d4iogpFod4zYiLT3iJBYiXQ3iR3IicVXh56HiRSoiRcIimPniRyIimLXMuhQCHPgC4h1FP5gC5SgUEaBDpcwB47ATotFCcDYCvg1e6QYhqaYgKwYdqr4gMkIdhiDDhyAAkBATSGlAALwWEYBAhwABLrUSwGgACCAAtfkYKNYjFZ4jPzXjNG3jACojk+HMXNgAdmEBVeWFL7AD0qFVAHADxzAVgpgC4hlh+aIf+iYju7YdOwYgAfZdBhzA1EAR60gAOVEXwKFjUkBA1hgFAowB5TgjQI5kOpXkPu3kEyXkO1IkkqHMSTAXQGgDADgjXBlkUfxCQVwjwFgATD/gAIFwF0fCZLaJ5Luh5JKZ5LzJ5RJNyoQ4ARKqZSOkE0kMAfZZFSyGFIyGQC2oAAoRUz3FQCXIAC+0JM+OYhA6X1GiXREKX9leXSjYgFY0JZtSQlGMQNRQEy2AAC+GJNIYQsQQFSOBZZh6Yhj+X1pWXRnSX6DiX4CUwYkYBSKaRQ+hRRK5QsQwJJKYQsCYAt++ZeZGJiCeZgrUJjj55lDhzHKAAE3QFKuZU4cxVrTGANA0EscAAFAMJu6RQkxEAVOIJvkSIyauZmcuXyi+ZmgOX3B2TLKAAZRYArf5AitYBSFUAZzAJ3KwA+BAJ3Q+VjKMAdRgAVwuZu9KZa/qXvB/zmcxCma7jWL3KaV77We7+UURHAM33l84Qmcokme0lecGpdN8Smf8/l+9Wmf9GeeGgdHvLmfiNef/umZABqgnnmJBnp7CGp647mgrYefDpeZD6p/EXp6/0mhAiigF1qOGZp4G8qhCuqhH9qgoligI6p2Jdp/HYqilWehAYehLdp2L9p4EyqjMwqiNSqiN6qhObqAMcqjfEejRRZhcqYkW4ZpD8aiQSpzQ8p4O2qkR+qj1XJpS0poSmppQBqlaTelRHqiVnqlKgpomMYUXJqmlWajYPpyYip3VVqmmIel1JJk8yViElYUXbpfUPqmFhinc1ekdMp1SHqngXZkg5aocf/mpF8KqIonqBlIpoXadYe6JDPQZlq2qUi2p3vKpW4KqSsnqZN6mJXqgWeapGm6FGsaZ236qKIaqKQKdHN6qll3qbyipXhKaYLmqH8aqyQ4q7RKqLaag3aKqJX2qYmaZSQGq8A6qsJ6gsRarNWXqmjKqnnaqFHBX876rMEarT1Xq9RarYfpoIAKrj4nruNqhMfqbKHqregartO6rlGHq8H2rs8arzynrvSKA/ZKa/gKrPpKg/NKr//qSQEbqwOrc/xqsO16r93qrSe3sM5Hqf3KrtaKbgkrqhSLcw27rgcLSRsLqR0bhAULsg8LsBErsSVrcx87riELSCN7ri3LBy//S60x60Yz+6Y1a7MnC7Mpi7ArC681e7PFmrNetLNg2rNGa6tI+0T/8AP6MLVUW7VWe7VYm7Vau7Vc27Vea7XXELZiO7ZkW7Zme7Zom7Zqu7ZsW7ZH8LZwG7dyO7d0W7d2e7d4m7d6O7dP0Ld++7eAG7iCO7iEW7iGe7iIG7iHsLiM27iO+7iQG7mSO7mUW7mW+7iDJ7Vfu7mc27meu7ltG7qiO7qkO7p7e7qom7qqm7qJ27qu+7qw+7qXO7u0W7u2W7uZ+7m6u7u8+7Wl+7vAG7yhu7rEW7zGe7qxm7zKu7yte7vO+7zQO7u527vUW729K7zYm73Ze7zc273dy7zg/xu+4Ru95Fu+5Tu91pu+6uu12tu+7iu63hu/8ou64lu/9uu65pu/+ku76Lu+/vu/VPu+AjzAZju/BnzAdHu/CrzAgru/DvzAkNu/ADzB6UvAFkzACJzBCMzAHMzAEPzBECzBFDzCvHvBJuy+GpzC8tvBLGy/IPzC+ivCJDzDnXvCNoy9KpzD3NvCPAy+MPzD5CvDNDzEXXvDRvy7OpzExNvDTJy8QPzEztsyjkACFoBNSjEHRjADzXlLuUSZvnADFiBODqa5RFzG7HvEaDy8SrzGyNvEbty8UBzH0iswtgBVrWABbIUUM8AFBWCR/3QJnwABURUAMAAEtuAE8hi1Zv+8yFybxo68tmwcyXn7xpR8uHJ8yZWLMU5wA0bhCBDAFEoll8QEBjBQix+1j92kyIy8ylf7yK58tpIcy3VbybQ8uJh8y5GLMXnVVgDwVpBpkRBACXB0CRDAD3b1TS2lyqy8zPrwys48trIczXFby9T8t7h8zY2LMUNVVEflWEehAJ8AR6kgAFJFVU6gzMy8ys+8ztLcztX8ztgcz6MiAABQz/VsBEaBAizpkriIl0YRzEbxCQrgDyrFUmCAzum8yOv8zO0sze9czfGMzRgDBPjsDzQJyhapz0aBS0tVAL5oAYGA0AldxgvtzA0dzQ9NzRF9zRgj0LJ4A0YAR2UwTC3/qQwK4AjT6Q/xqAzQyF3+sF0BQAkeLdIjPcQl/conLcspXcsrjcstEwVmRQK4qNEBQAJnVQAAiQ43oAAKMAPsZNEQAAE3PcZFzchH7cpJHctLTctNfctCgw79HFBL8ZhIwQ88nV9kXNZEfNaPnNaSvNaV3NaYjG7tidd6bcZ87ch+HcmATcmCfclCfNgTnNhpvNhs3Nhv/NhyHNmS/b+UjcaWvcaY7caaHcec3dnr+9lHHNpKPNpNXNpQfNqoXcGqfcOsncSuzcSw/cSyPdvVW9u2fds5nNs9vNtA3Nu+fb3AfcLCPdzE3cLG/cPIndy7u9zM3dwp/NzQHd0vPN3U//251m3C2J3d2t3B3N3ddZjX353a4W3B463B5W3e5/3B3r3enNve7v3eGxzfHjzfIZze9u3Z+D3A+r3f/K3A/v3fF6reAf7bAy7ABX7AB77ACf7AZQcDDc7eD47CET6/E47gFb6/9Z3hjbzhHN7h8fvh9xviIg7gJG69Jn7iKP69Kl6/LB7DLv7i1Bvj7TvjKV7j4nvj+TviOo61PK69Pu69QB7kQn6+C9akX7arUk7WRa7cRy68SU7jS868Te7kgAblTirlyxpoDF7lNXzlWJ7lx7vlPtzl0fvknvplq/qpc07UZg66aB68ar7mbL68bv7mH8apcgZhg66sRFHmd//uu3kOvHtuvH3u53/+vFamqY5aaIsq54Zu54lexIuOxI2+xI/uxJEexYqSqX3Kp0x66XQe5Zq+6Vvb6Z7+6aob6qI+6rY7KpmKrXoq51uGZPqF6K7+6rBOurK+urQeu7Z+u1aWrZQW5k1KY7wK7MGetcNO7MXOuscuu8mOu6WOnoae6bvK6nwq7dPeytUOv9dOv9mOv9vOv6XlFNnKrYTOZYNG7uVeteeO7um+t+vO7u1+ubju7Xdq7/c+tfmuxvuut/0Ox/9uucs+aQRf8AfftgnP7wuPuA0P8N0O8QV/xhOvthWv8BdvyRmfyTne8Vr78ZAc8ng78iRf8pNL5Jv/rvIgz/J36/KGC/OUK/OJTvNpa/M3j/OEq/Mxf/Iob+Q+D8tAP8tCb8tEn8tGf/Rgm/QFvPQJ3PQN/PQRHPVSH8BU77ZWz7dYr7haj7lc3/XN/PVkG/ZiP/bWXPaOy/N3rvZrz/bT7PZvD/eMK/dmTvfQbPdwi/d5r/eHwPdV7vdiC/iBL/h9S/h7716mcAmUtRS+0JFH4QvjNE7eiPmaT+VoP/WIr/hvy/iN7/iFLzD8QEskAAFbjBRloAAxsJFwNANh7UoxcF8lFdb43OpHj/hhK/pHQPpPYPqn3y6FsE78MFdJoQzUxA+MNfn0BQFZ+Y8BGfH37vvXAPzCT/wN/5lW/jBNW+mc8vjPqblYCjD5CkAJreCLvI/y2K/9pM/9AkPVLgmTAUDK3/SUEwnT5aQAAGEBgoJCAf4RmfRIYUKGjxo+dBgR4kSJFSletJgRI0YcNTx+BBlS5EiSJU2eRJlSJI0aLF22hPlSZkyaM23WxHlTZ06eM7P8BBpU6FCiRY0eRZpU6VAZTZ0+hRpV6lSqVa1exRo1wFauXb1+BbvVQpk5ZMuY8hcAxJy06ADY6oolRtoAKMrQVVbAFFdlW+cUUHawUiTChQ0fRpxY8WLGjR0/NqxS8mTKlSvvxNxTc2bOmz2/XBpa9GjSo7OeRp1adeqwrV1zhQBEtuxAW/9nYNnqCwC6rnNAcOUQiG4ZDvzAKrgUgEilR5CdP4ceHbJl6tWtT+6c/fN27d1plgYfXnzo1eXNnz/9Wv16rnKNz+FAd2srwAGUCYArtgxYXwJabbVkI40GFLBAAg80cKLrFmSwQe8e5C5CCH0ar0ILK0QvQw01ZK9D13xRIIo5IJhjKxL2CyAGGAJB4Qa6UgHMuAAuMWKOOSyYSzDpduSxx8caBDJIyiaUsEgitbswSSVF27BJJ1HzMEqwbDHiBkfomuOTtrC4AQx06KJkDn7o8iWKG4AQMy2EIkkQQTfbhPPNjDoSsk47VzIyzyP15GlJP/8k6klBB5VKSkNb84f/rkTBWlS9AOWMM1JIJ73oTkst3TNTPvcEtFNACQWV0ENHJbU1HX1ENdUeL2VVSE1f3bRIT2dVMlRbnSw1V12Vm4RNSn+VNFg56Wy1WOtgRTbWzmhlFsNbn0VvV2lHfVRYa4HFVkFjt6UuWW+V7bNZcUuDttzypkW3w1NVZbddx7iFd0hwv6UXpnHvZdJcfdNLt9/X1rw24GwHJjZeg0uqN2Fw8WU4qX0fvspfiVurdmCBL4b0YI0RnrdjhVlqOOSiICZ5qolP5mpdd1dmmbCNXw7pY487FrnmoErG+SmUdwbYYp8xbrNgmDWWuWhZbbY5Z6V33rlioH+GutKhYTa6/+rtkE5aaZyZnljllr9WdWqqZ7aaSKxr1nprriXu+Wm3o45IaLHhLZvsPM8WOe2S157YabjfBnrujesmHCe8Q9abZL779Rpsx3kUnGi7C0fycIYTh3jxftv+u/On5Y68WMonv9pyfDF/WPN+/Qbcc4tDN3j00U0/HXV9VZ+28cd3fw72eGUnPTPa77X9dtyl5bx15bEF3XdMg4fe7OHFLd7c46dl3fXlI3WeW+ALn5766qG9XlfdeUe/se63/T56w8Nndnzyy881ee3vl7T59V11v33Q4KeV/J5FP11lb3v4e9P+RNc/Bi4LgLMS4K0ISKrzpc+CiFFgq/zXwBo8EP+CEQzVBEllvwOW8ED6yyCDNmg1D3oKhCEUIbVMOMMEpvB5K3RfCzv1QlDF0FAVvGAQI2HDG3IQeDr8FA8H5cNDVYKGTyQQEe+EQ6Mh8U9KXCITo9SCwfgKil90iBTtRMUcWnFJWBTU2v6xRjZ6hY1r3Mob4WiQN25lOULEIwbFyD8yKsyMZ0QjrpgmxznGUY6GrCMd63jHPDZyiHsMUh+h98daBbJJXJtjIRGpSDq6MZP/MI4TEQjGjUAykkZEJYUoaSFLXnKQcGxjyv4hS0V+kpaMdCQeTQkkSfpxlaxsJYfQFQNCIjKRhqQlIWPZSVzmMoi7dFAqpQmyXzormNH/GqYyO8lJWiKzK7CcJTKX0xxnPhOaC+ol6appzWuah3FgseU3wRlOWR5yjgYcZT6lds5jTVOa6xxPO7G5s2LWspgFVWYzy5k+fl4nnfUCqHgEeh412jOcB02kNkmoT45CBIUNPclD7RbR8EzUnRXVpDe/yR58knKUIK2OSL9FUvCY9FxaVJdCF8o7mHbLn+CjKWlsuhqcemijLj3gR3s6EpnOLKhCHSpritqhlna0o0u9zE9R+VTTRBVKU1UPEHfaMqzKq6mw4mq+vJqVtZkCCDFgy1eU4QQYOKEvAaDEbICgDOMoIwoxMIIy1NQrpFo1IUot60fOSrO0LmWt/NqZ/y8KAAZHkEg+W2kRJWYwlwBg4URluesNUHCJG/wGQIX9YmIls1i0NlYpj2Ur07gQg60EwgKXhRE6+JEXW/gDC0BoVAD6w1d0KOATYh3rylSrEtYuzLUOg23EmBYDMORmN/LxTVr8ERzfWgAITshPZbfiDxjs56iG5ShiVdtcTT0XutGtCtfW0pa3xIW2mN1PIbAwByMUIBUB8A1XbuCE06IXqctNCXtj5V6kwNcq6SoABCQs4SjgdyvKAIAvulIGFHCFBGLqimz4YVuu3Aa5yW0XglGiYE4x2CgOji+6UGALGtP4rt81jikK4JVCWEBGEHCEV7AAA35cQgEy4kCJzv+LWtepN7Es5pOLXwxjk+3MH5XtS5W2Uoj/KAM5eFUAb/KjDAtUmB8QKIiO71pVJrtNxSHVat2kPDIqF4pp/LgBBDgAAV8YhwPV9cccFAACgmxlzxwowAx4EwBHDFoBYjoxisP2Zo5BGUJzDlSdtcI1f9iiFWO68KLtY4q7BoAftiC1jC6cajsS1sCvdnJZLX03TAtF05suanC5oms2v1p5lK50nBlYa1vfWmdgfU2kJY0qYJNk1pcmNlCMfWxku2bJvr5frLH67KNFOwvTdkq1HdXmqzYbT9yunLfB3RRxm0qny2aZuc8t7Cp6+9vrbndrrk1ujGl7qeiOkL3vDe7/fFOM3/qUd8zoPWx7r1sGBf/KP3zAgx1U3OIXx3jGNb5xjnfc4x8H+cVpMHKSl9zkJ0d5ylW+cpa33OUn70bMZT5zmtfc5jfHec51vnOe19wbPwd60IU+dKIX3ehHR3rSlT70ITTd6U+HetSlPnWqV93qV8d61CHuxgCE3OtfB3vYv/5yspfd7Gc3e8/Vvna2t53tS4d73OU+d7ln3e53x3ve8b51r/hA7H8HfOBDjnbCF97wZHd74hW/eLXT3fGPhzzc9T55ylfe7nxPWdcFv3nOC/7wnwc96Bk/etKTPvKnRz3qLb961rMe813pfOxl7/XQ1972ZS997nW/9tT3/973cW998IV/99dzZfbHR37Gb7985qN898+Hvs1/P33qE33418e+1IsfAL8n3/vHb374mx998ke/+uevfvbVn/3iS/z774+9+OVv+/LXX/fox7/v179/4W9f8/AHQMCbvwH8PPszwNHLvwQ8Pf5jwNXzvwCEQLEjwAkkvAO0wMRTwAx0vAbkwMnbvu6LwBAEOQokQdy7wBNsPA1UQcnrwBa8vNdzPxGUwY4rwRpsORTEwZ1bwR1MOhf0wat7wBkUQuWzwSJ0vhxEQunjwSW0vh90Qu3bviGUQoszwiosuSTEwpljwi0Muif0wqf7wCmcQiskwyw0Qy5Ewy9Uw/YDQf8xnEEytEIzzEI05EI1/MIgdMM3hEMjlEMspMMttEMvxMM8FME95MM+RMI/ZMJAfMIwJEQZNMQiRMREVEQeZEQnZMNHhMRIrMFJzMFKtMRL9MFB1MQA5MRO9EQUBMUdFMVRjMJSjMBTLMFUVMVVVMFWdEFHhEVTlEUKpMUTtMVbxMUOzMRd5MVeJMBfvMBg1MBhJMZXNEb4Q8YJVEYLZMYMdEYOJMVoTL5pTMZqNMBrVMBsbEBd5Ebv88YBBMdwFMf8I0cGLMZzRMd0lL91tL92dMd33L9tlEfZo8d6tMfyw0f808d9hMZ+BL9/DL+AFMiBPL+CXD+USimDMiZ6OiT/7kPIblTI8WNI83PI9INI9nulY6rIeWqjg2rDjIy/jWS+jvTIj5y+kBRJgrooevImkjzJlFLJhGTJ23NJ6INJ6pNJ7MOkmrTJTzpKpIQlFaC4nVzJnqS/n9y9oIzJoRy+dJkBhPoHX+gzTVojdLAF3QonsAyMenqjlHRKz4PKqJTK3KPK37PKq5wWAsjKi/QHI1AACLAAXzjKQlAAC1AAR5glIIiwAgCCRVMAAFDMrNyKtHzKtRS9tnTLt+y9uOw/aTmAOAILIxMs2fAK3giyQoAA3iiEwPAFywoABeitNkJLx/w7yKw9yZxMylQ9y2w9rLysOAICI/gHf9CxtGCj/yBbI374sjeagSjwh39QgFb4EjZqTdcMO9gMPdksPdpMPdu8TaaxizXCML5iIw5jow/jBzYCkU8wCAUogAKwAPNsTOhUS+k8POo0PetcQOx0QHQBAUrQT/3MjySjL1toI7ngChSoLu4EASegi//gBy5QgLtyz/eEz8KTTwSkz8izz/ucFgVAgQ3dUBShLuvSLa6YAxIADuEIAHRAASBQtV37sud80MGLUMObUMarUAu90MrjmiiYgS2DgK7wzQLgjbz4D3SIgRkANa/IC1OIwReVwBiV0BlVvBqFvBvFUaaRrDm4hLGwjRJRCyAwBdGyDQgIhDHdC1MAg0ugBBQojv/2ZNLodNIKhFIMlNINpFIPtDJ/+IQYOBEZiQJKyA0gIIHASgsn0KsSsQVARYEoKLU2bdI3Pbs4ldM5nbs6tdO10TVdcVFG5ThHRTtIdTtJpTtK1bt41FQY5VQT9FTeA9W6E9W9O8hS/bhTTbtUVdVVZcFWfcHig1Xak1XEo9UUtNWlw1XiK75M3VWR69WX+1VgDdYeHNasI9Vj3dRkdbll7blmFdZnxTp+lFaMo9ZqtVYdxFZn1Var49ZupcJvZblwFddxPbpyBcJiRVcaVNeVY1edc1ekg1dzhUFj7dZ6tdd7xbl8fdd9pbpznVeAVTmBHViCLTqDPdhXnVdkVVibmGNYJXRYpoNYKHw9f5XWij3Ci6W5jG3CjYW6aJ3YdAXZKxTZkSVZoTNZrZPYlN2BlTW5lnXZlwW6mD3ZmU1Zm2VZnI05ne1CnnU6c6TZigNakhNamSPanTXapkNZml3akWvaoX1ab4haqfXZia1aGrjabshard1ahEXXrw3bsd3aIUDapEXbq1XbsoVB/6PburXbu8XbvJWSgAAAIfkEBQMAAQAsKgAeAOcBRgEACP8AAwTQBKqgwYMIEypcyLChw4cQEQYoGMDTJoqeJoLalBGjxooXQVXUyPFjR5EWDZb0iDHkyIIrUZp0eTImSJgbcYa8uDNnzp5AdQr1yXNo0Z9GiSoNirSo06ZQn0qNSnWq1apYr2rNynWr165gN/kL4EXevLNo06pdy7at27Nm4aKNO4+u3bl45eqtm1eeMWPDiP0dNgzwX2GGjSEurDjx4sOOIzMWJoww5MmSL2tujLmzZh49gogeTbq06dOoU6tezbo1aRw1dsSeLbs27du2c+Perbs379++g+N+Qry48ePIkytfzry58+fHm/jzV1ae9evYs2vfzr279+/gw2P///u3GPny582TV49+ffr37uG3n2+MfX359+PTL8ajv///AAYo4IAEFmjggQgGSAMNNTDoYIMQPihhhBROaGGFGF6oYYYcSkgDE0uAKGKIJI5oYokonqhiiiyu6GKLMKoYAD86iGfjjTjmeOMxxfTo449ABinkkEQWaeSRSAKZ4JJMNulkkwtGKeWUVFZp5ZVYZqnlllUy4eWXYIYp5phklmnmmWimKWYA/1Sn45twxgleeUnWaeedeCb55J589rkkl4AGKuiggqpp6KGIJoqoQG7K6eijcNKZ56SUVmqkn5hmmimhnHbqKaCKhirqqIbO2CikqKb6naSWturqpJrG/york5/WaqutpOaqq64zElGXqsAGO159rxZrLJKzJqusgLc262ygu0Yr7aFsnirstZCyeuy23PK37LfKPivuuF1Oa+65a5KF7bqoatvtu66CK6+s5NZLLrr4otvrr+z2+6a78AYM67wE+2nvwc7mq7C01frrsI4ACyxxnQVXvCfCGNe68Ma5MvrwxzZGPPHIRVpsMq0Zp0woxyyHui/IMHsnMsk0K3nyzQaqrDO0LfdcapsxB73dzDUXjfPRA+6stJY+N42mx0JHbR3RRdOM9NX/La21lU53TebLUgtNddUjY2321mhL6fXaYDYcttjEki13j2ZjnfbdbOcN9dsxj/89d8B1X3132nmzDTbfIPv997uBIz042oWv7Tbiice9uNGN4/z41pF7vTflDyt++baZa7750p13fTjo/oo+urGl33w66qk3PTnrrVv+etmxmzy70rXbri7uDru+e7y9W/z7zsH7vDrx2Bp/vKXJK7+8ys33fDv00es+PeDVF3w99tmz/Dn310r//cDhzzt+yuWbz4+v6K+r/vp4tk/w+xnHz/H29QPW/fBnJ/25j38I89/GzhdAVQ2QgHoyILgQmEAFKux5DWyX9yB4LAlOkIL2suAFgZbBYD2Qg5fy4LJAGEIR4ksgRCihCTeIwlepcIUsvJcL9cUPa8nQUSes4ZD/bhiuHI5rhzz04Q/jFEQhBomIyTLiEZFoLgwuMVI0dGKloDgrKYqLilUk4RUf1UQt+oiL9PJiwsDIsOGNEYhZNGOe0BgrNa6Rjbuy4htxVEY50lFTdmwWHqMFwD3mqI9m/OOmAomrQfLKjYb8VxzleCdFYoqRjXQkqfQYyfAgUouWNBgmP6XJjomxk4ecJCUpFko+jZKUpRwVA1Epnk86sZWufGWnYinL+fGLliFT5SqRhcsn6XKXvHTZKYFZS2EOM4XFhNIxV5ZMRc2SmTJz5jOJFE0nTZOa1VyUL7EZzG1usZso+ybPwkmtZZIzm+akFDrTqU4usXNRkHwnPOM5/8d5Jqie67xnmjipz+vYUoj+/CdA7SlQNRWyoNk5aA0TiqCFMrShT8snRLUjURRS9EAW3RJGBzrOjXKnoxz8aM5CmqWRPs2dJjWoNvn5I5UWiKUtdamZrhlTlELQpgTCKZZ0utOSxjSiM6Up3YDKLKFyjahfg+lRfUpApjbVqVSC6tc0elS/JFWpVlUQVrOq1TUZtatT+ypNwwqgsZK1rG2Tak/Vyk+2Zs2taoNr27g6VbrG067+wWte9eolgkKUqvgDbH8EGyXCfumhc1VqJRXL2AU5trACqYRmN8vZznr2s6AN7WYtQdrSmva0qE2taldL2krk4bWwja1sZ0vb2v/a9ra4za1uZ1uH3vr2t8ANrnCHS9ziGve4yE2ucpfL3OY697cmMEEKSjDd6lL3utbNLna3q93ucve73g0veMdrXRMIJACiTa9618ve9rq3s7uNr3znS9/5Pve++M2vfvfL3/4GN7oADrCAB0zgAhv4wAhOsIIJHAB/iMESmoXweydM4Qq/t74YzrCG4+vfDnv4wyAOsXEXTOISm/jEJj6vhVfM4hZ7dsMwjnGMRUzjGtv4xslFsY53zGMSq1jCLg6ykNkr4yIbWb44TrKSlwziHjv5yU9u8IMjPOQqWxm+R86ylnnL5C57+cvKhbKYx1xiFV/5zGfespq3DOY2u/n/zWSOs5wZnFkgo/nOLV6zno385j77WclzDvScpSxhO+P50Bfes6I3/OdGO7rJgo60mM2M6EpTeNGYxvCjN83p/Er6007+saVH3d5MmxrJnU61qpEL6lbrmNBUJrWsQXvqWud21bjONXBdzesyZ3bWwKa1rYdNW10bG9e9TnaCRR3sZmuW2NCO7bGn3WllW7vAsK6EoZ096mh7m9rgdvS1xx1gSnM72N6OdrjX3Wdyu5vZ5551uqHN7nqD2d3kzva2433oeRPb3gBnMr7HbW5+k9rfww64wnE88GvD2+CWRritF05xGjfc2vqGeMQlfuqKe/zDF1d2wTWOaI53/OMo/+dvyJP9cJLj2eSmTrnMPb1yXmfc5S+HOaZnznPn1tzmv8Z5yXW+6J4bPcw/b3XLhX5lohf96FAvbtKV7uBCMx3NTld01Lcu3KmDeuRXt3LW98z1svvW659eetiFPHY9m93saJf0zdc+5Lav+e1lj3ukwU73INtdzXjnut4Frfa+s/jvbA581Acf6Gwbvu6Iz7LiF894ObOpCrF+vIsjL/nJH73ylh+L5qvM+SN7/vOgJzOb0Dt6tpe+yKc3eupVX/XMt77Cr4d97Hk++zHz/fYTzr2Md8/73kO58MAvtfBhTPyZG//4tdd28nG/fEY3P+XPj3LQp0/96mf4+tjPfv+Pkc/99Hpfw+BHufjHH/19l1+05/9++j2+fh7//v3mj39950//+r+6zviXaPpnX/xHcf73au0XgEQ2gARYgAp3gCh2fwr4WQzYgA4IcBB4YuQ3gZxVgah2gRiYgWWWgBwIfx64WyAYcCLoa6xXgup1giiYgva2gj4GgC5ogjCIWzI4gzSoYHN3g1iWg7e1g/XWgz64fUBIgUI4hES4bka4bDaYhC+2hLbVhE74hAf2g1LoWlRYW1YYbliYhUi4hZvVhV74hdQWhga2gS5ohsWGhtOmhthGgmTIhW4obXB4bHJIZy1Yh2V4h3iYh7q2hwPGhiUIiIEoiMhGiOVGh2T/iIiwpYiDyIgAJoFACImvJYm5RomVGIV+iIl5oImLyIlaKIWgKIqrxonRZYk3eIqomGqqaF4CIQMuUIu2eIu4mIu6uIu82Iu++IvAeIsfMIzEWIzGeIzImIzKuIzM2IzOeIy6EI3SOI3UWI3WeI3YmI3auI3cWI3I8I3gGI7iOI7kWI7meI7omI7qOI7P2I7u+I7w+I4NJgS0GIz2eI/4mI/BGI/82I/+2I7dGJACOZAEOZDreJAImZAKmZD/2JAO6ZDnpY8SOZEUuY8PeZEYCZAFuZEc2ZHduJAgGZIieZAZWZImiYwRWZEquZIVeZIueZIeGZMyKZMjWZM2aZMv/5mTGDmP9ciSPvmTv6iTQtmQM1mURimQN5mUSomQQ9mU/JiSQBmVUimMTlmVGnmUWJmV1LiUXNmV5GiVYNmMUDmVZPmTYXmWyaiVaqmVXtmWXomWcFmMPFmWdMmScXmXa5mXRumWfKmUdxmXY1mXgqmPfwmXenmYMdmXilmThYmWgTmYkGmRjQmWiFmZG7mYmAmSkxmWcxmZngmMm0mZljmaAZmZpsmUoVmVj/mZrImLqVmVpBmb23iatJmOr+mUq9maunmbTSmbvnmNtRmc5cibQ9mZunmctUicQvmbzDmNwvmc4aicOpmbyOmZ0pmTzZmd0Lmd1/mS1FmdkNmdLv+Znc25ndApnidpnODJmuhpkuTJnOb5nO1Zkt+5nnU5nxn5nr8Zn8KJnzspEPa5m/75kPrpm/wZnAP6kOoZoOGZoERZoLF5oLXpoA1Znww6lRT6jxAaoRJ6mhnqjxZ6oVH5of24oaTZoR5KovG4oCJKlyoajyY6mihqmi8KjyHaoj5Zo+8Yo5Y5o5mpo+54ozi6kkB6lTyqlz6KmUX6jCw6pFK5pM54pIiZpIsJpWIJoE56n1a6jFJ6mFSqmFu6jEKapRMZpsrYpUj6pXxppsnYpGSao2wKjWi6lmq6pnFqjGP6pvl4p8Y4p3Rap23Jp3KJpXr6pII6jH6qloAaqIf/+gFuWqgt2aiJypaL2pWN6qiECqlmKamTipWVaqmNel49qal2yamdupefupSX+qikSpimeqozmaqqGqqZ2qoqeamwiqqyepOrWqu2SpG4mquxuqu8Gqr+QI+/SqSvKqwdSazFeqh5mqy7GKzM6pHOipO0GgDSeqvLWq0Fea2MaazIuq1l2q3eapDgKpK9qq3kWq6Heq7Nmq4hua7t6q6CCq8cKa/zKq6jWq/2SK34iq76qpD06q97aq4BO5sDS7DZarAH+64JK7ALS5L86rD3CLARy40Ty5ANa7H/irAZC5wbS7HQ6qsey4sYG7LZOLIkK6iserK2mLIqK7Isa5sd/wuzviizM+uNNWuzJcuuONuLOruzztmz6Liqx9qvQeuaIEu00Wi0R3uzS6uLQ+u0ugC151iwU0u1Teu0WGuOSDuuW8u0EGu11vi1wym1YxuzXUu0aPuVaru2LlC1Xvu24hi2Sju2dOu2dhudcbu2e7uzfeu3Pyu3ZHuvZnu2g/uNeGu4bFu2iVu0i6u1jhu4M7u4jPu3etu2gou5jeu4c8u5l+u52aoIh4AIqJu6qru6rNu6rvu6sBu7sju7qdsgAUADt5u7uLu7utu7vPu7vhu8wDu8wlu8xHu8vcsJobC8zNu8zvu80Bu90ju91Fu91uu8yZC92ru93Nu93vu94P8bvuI7vuTbvXJwvuibvuq7vuzbvu77vvAbv/K7vuelCIlwurSbv/q7v/wru8b7v8gbwAA8wAJcwMl7vQicwAq8wAlcvg78wBAcwRA8vxRcwRZ8wRZcv/fbvxzcwR4cuwQcwgY8wiJcwsCrvAycwiq8wtYrwS78wjDswBg8wzRcwxQMQ/aLvx+8wzzcvyb8wyQcxEAcvCjMwkZ8xCscw0q8xEtsw078xE/cYAGQwz1cxVbsv0KcxUOsxUJcxEj8xWBcvUw8xmT8wFB8xmhcwRqsw1fcxm5su1y8xXIcxyccxnZ8x89bxnq8x96bxn78x+yLwxvsxoR8xXN8yHR8yF7/jMeM/MV8/Mh8DMiSDMhSTMWFfMk8jMianMhavMiN/MlJDMmiPMaTXMpovMaYnMoeDMeb3Mqc/L+eDMqyrMCjXMtKbMq47MSCzMaq3Mu068rA/MrIG8uzXMxibMvILMG5vMwzXMmD7MvQjMXBPM3CnLvEbMzYDL3JvM1mzMzefMMCYcnRPM6uy8rVfM7UHADXnM3svLzc/M7j+83yHL+7TM72zLrpjM76rM7t3M/aDM8A3cfzPNCBPBbifM/3nM8Kncjr7M/GHNAQvb0EPdHpi8oIjdDmvNAabcAN7dCzHNEgTdEiXc8XndD7fNLA3NEeDcogHdEiTdHOzMslDc0b/13TJKzSK93ILQ3RLz3RFj3T45zRKD3UQ4zTOY3HOx3QPU3QJA3U0WzTUC3ARn3UdpzUAL3UAx3TTj3OUd3VxDvVVA3GVg3PWD3PP73VvSzUXg3VYB3WSDzW71zW8tzUaK3Ka03UHO3W2QzX3CzX36zVdd3Ldz3Yba3XLMzX2+zX3nzWgX3Jao3Xg427hW3YKozYyazYzEzXjV3Ikb3Wk03ZDGzZyIzZywzYm33JnQ3ZXw3aHy3atUzauczYp93Gj53a6fzZrN3Arj3KsI3Lmj3bhqzats27uJ3b17vbvN3bpWzawN3Gw83Wxv3JyC3Kyr3c4fzMzX3FtS3c3H3A0f/NyNMNydU9yb+d3Znc3egNy98N3uEdyeNNyQaN3ebdw8/d3cW93tLb3u793n6Mw/PtxvVd0/eN3/+s32XM3398XpHw386d3g5OxARe1QZ+4AiexlLcCAwe3AEO2QMe4c074RRe4Wd8Xhie4VW84Rrd4R7uziBOyiI+4v5ABCVu4ueN4kSt4ive4i7+4lEsEDNO4x9s4wqN4x6u40zM41BM4kBe4w/e5Py84m9t5LeM5Lrs40u+w0J+41Ae5VIOw1Re5TJ+5UHu5E5O5BHe5TH85TZ84WLuwVl+21t+xGju5WpOw0re5hy83W8ex2ZO4HP+wnVu5wEQ5njuw2Tu2XH/bsR/7sKB3sxj8eOFnr97Ps19jt+LrsyNfsF3Hun6q+eHjtKVvt6XHsGZrumDDumcLs2fDt2JHsqjLsOlrsaPnur6O+n7HOrf/erdHOvzu+m0LruebusljOvRreuwzuvyC0Oo/uuuK+zoTOzGbezli+y9PuvMrurOrsit7urSHr7UnuxWfu2xG+yr/uzbXtndLr7fTs+nLu4gXO6sfu4LnO7qvu7vy+bu/rrZXs3Qntv07u327r6+nu+rS+77rt7yPu///r0BL/DtTvCte/Cv3O+svfAM3/AFHQDLDvESr+0JT8sWb74YT7/hDvEFD+/2/fEgH/ISPfLqq+wmj88o/y/gKq/bLK+9Lv/y1h7zqdvxDF3zCHzzLZ/z5zvwMW/wM//zQN/CQp+9RI++MM/zPZ/0Kb70TN/0T1/0Oy/1Pi/HFA/aTe/0WW/0Jo/0XU/cVn/MWD/2Dy/1iHD2RZ321Bv2yZD1ctBgU1AN1TANfN/3fv/3gB/4gj/4hF/4hn/4fU8Gir/4jN/4jv/4kB/5kj/5lF/5jg+6tmj5mr/5nN/5nL8IoB/6oj/6pF/6pn/6qJ/6qr/6pI/3eo/4sB/7sj/7iO/5tn/7uK/5mF+Lud/7vu/7rB/8wj/8xD/8DfYDfL/3tL/8zN/8hP/70B/9m7/7LiD91n/9j1/82r/93P8f/DOS984f/uLv/Nhf/thP/eaf/tHf/ezf/u0vEOA/Dco//vRf/4Ov/vjf++if//zv+QCxSOBAggUNHkSYUOFChg0NBvA3pdq0aRMpXsSYUeNGjh09fgQZchoZkiVNnkSZUuVKli1dvkTpQuZMmjVt3sSZU+dOnj1twgQaVOhQoQ6NHkWaFCnEHxQtioQaVerUj0StXsUK1OdWrl29ds0aVqxYpWXNnjUagJ9Eqm3dvg05Vu7coF/t3sW7le5evinR/gUMOEAAthXhHkbctu/ivnkdP37MWPLcwJUtH4VY+Glizp05TgYdFvJo0lxDn7Z6WfXqg0ydeoYd+yJq2nX/S9/G/bP27pasfbNWW1j28M68javMnTz3ceYmfz+3PFgzcepwm19Xnp309ebQvf/NbHFzdfJQuTPXnt7x+ePf3Zd1bbj8fPPseavHb9c+7/f9Ma8djz4BO9pvt/wONK1A2vxjkCHpxBswwo0UpA1BC3miELUGN0QovNckBJGiDE+7sEScRgyNQxUJii/AEAVEETQTZ6QpxslWxDE4F1+E0UbGaATSR8ZwXPHBD3kcUMjFgKRRyb6IVNFD+ZDs0Um6mJzRyr2g5LBFKiPU8kosSwyTMi4b1PFLCcuUa0wy2STrTAaNnFJN8uAUy80L8QxLzjkjgtDO8vjMSk8LCcXK/0//vBR0UEStMhTBR1NT9L00G51vUqIiPVDToSq1lLBAMSXOU6E4zc/UoEB1T8odSeVMVa1QVU9WmFj9jlFYh7P1JVpr7bU3XKG7dNdSg2Xp1/SQZWlYYgMg4ppXjUWM2ZWU1c5alZx9bjAipqX2MG1Twja7cVHi9jcPwQ1XsXNNKle5d51LFzhAj2w3sXlLije5fUmq196m6sy32n/7Xe7fgFcrtuBYD0b4tn/JWFg1Otl1WKSJI5ZY4Yqju5fgjN3dl+PSJv4Y5IExHhmkjU0eDeWUA2u45bdehjkyj2cGT1R8bZ4K55zzkplntFwF2i2hh76raKPN0jXpoCFmGv8vp59WqmappVq6aq+uxnopn0Xe2mWqvf4K7LDTCpnlsmc7G22wdl57KX9WfpvruOXWi+660wIw76lL5vtrv/9u6GLBNd67cAwPR3whpBc3m3DH+943cszu/pnyzxq/PCe1Ne8wcM/jAj30m0Yn/aGx3c67a9VPhLz1h9o+3SPZZ9ctc9sl55zs3OG2nHfRa/99IK2Hz2h342diPflFFGdeI+efdyH65CevHqPrn9f+96i7FzF17MO3fXnyvzce/dapJ7/84rGvyX3SuY+ffd7t13z89c0HH/Kkp5bBFNCAB0RgAhW4QAY20IEPhGAEJThBClbQghfEYAY1uEEOdtAHgx8EIQYDAgAh+QQFBAABACwqAB4A5wFGAQAI/wADBIAUwFPBgwYTIlyosCHDhw4jQpwoseJCTaA0BcCokWPGjR89dgyZkeRIjiA7pkxpkuVJlytFxizpqabNmzhz6tzJs6fPn0CDCh1KtKjRo0iTKg0qMECkSJOiSp1KtarVq1izat3KVaq6cmDDih1LtqzZs2jTql0rlhwiRW/jwp0rty7du3bz4t2rty/fv3mbMBlMuLDhw4gTKx68pLHjx5AjS55M2TETN5gza97MubPnz6BDix69Oc6/AGIUTXrKurXr17Bjy55Nu7btp6vHddvNu7fv38CDCx9OvLhx34iSK1/OvLnz59CjS59OvXmT69iza9/Ovbv37+DDi//f7iZO+fPm06Nfr749+/fu48OfL7/++wD+vCi6zb+////8HSfggAQWSGB1CCao4IIKjufggxBGCCF9FNpnYYUYXqghenHgF0AiAIYo4oi2GWjiiSgKyOCKLLaIoIQwxiijgxnWuOGNNubYXoeo7Ufij0COqFuKRBaZootIJpnkjEw22aSOUOIoZZTsdehPAD4GqeWWtRnp5ZcDKinmmAk6aeaZD1I55Zpq2milFyByKeecrYFp553Akannns6h6eef3LXJ5qCCwmdlanQmKueQeDYKJp+Q8gnopIAWSuillvKIpaKcBunop19GKuqYlJZ6pqWoYrrmm3F26mqIoMb/SuSotCJp6q1MpqqrqhkemuWrwPLHqKzEhlnrsQziqiyMuzbLa32a/hrstLMVa62xyGZb3bLcpvmss+Cmxyq15FZ77bnEaavudN22G1648D7ra7n0vjYsuvjytu6+z7nrb3fxBnxptPUW/FS+CPfG78LL/etwdgJHvCp+cBpccMIYM6zxwxxL7PGN81pM770YX6sxwxw//PHKFhIscrklI3zywik7zPLN8Y37Mrkx5zszvzX/i/PQ4uKH6M7UktyzrD/vG7S/RBPtMtLBLo1u0+s+7W7U306cX6tUv2r1uVirq3W7XOMcctivKj22o2Vre3a3aXftZlPSsq3o29bG/53t3NzWzbLOenfKd7F+Iwv4soLbreHahSvq9uF2Jn7s4so2/vHUkSdKOdOW04o5rpo7Th/hndP5eayhiz66qaVLDHnqi67+aeujvg676bzvyjntXNp+O+6R6l5q7L3vSDHYwG8pPNzEQ2o8pcgLPHvzQU7+/JHRSzp9pclXH4emlUTyCPbOb39n995/76f48V6PPonaq28i+3u6/yf8yVsZQCPz21L97Fcg/OlJf+8LnwLVhLoAkoiAjzIgqRB4qgVaUEfycyCABghBFUlQTBSsIP+c9TsNwqqDRvogCEPopBHyroEmBBAKU6jCJbHwSRfMYa+MlrcY+oeDM0xXDf9tdcNc6fCIp8ObD0cUxFkN0UVFNKILfbe8JYqoidx7IouiOKMpOi6DVqwNELGYJy1ukYsx8iIVBdLDMHaJjPcz44rQmEYk2rFKVXSjf+AYRzkuiI7MuqMgywNGPcZmjHzUlx//CMgIqbFrJTSkuRKJrUW+qJETGqQgYShJ2VDyQJYsEya99chM8bCTt0EkJUMpylGOp5TyUiIq3/jJ47Dykq4UDyxN+bVZ0rKWxbnltnKpS02q7ZS+nI0qEylM6hCzmLscmCyTGRtg2rKZ0nnmu4xpR05S82DWDCY2o6NN8ERTUIVM5jL5OE5yltM755QmG79ZzXAKsZ19eifAuDn/uDzS0zX2vCc+maPPfcYzSun05TrhONB8FlQ7Bx1UJOkZ0OE01DoPhSg/j+jNb1ZUOBclaEYhttHNIfOfrVkoGUPasJFiJ6IInSZKwfnR37BUOS59aUlz2FFq1rSMN83pdWDqtaPN9CkqxeJNkyPUJhAVgwKZQgMeQNWqWvWqWM2qVrfK1a569atWRYJYx0rWspr1rGhNq1rXyta2mtUFcI2rXOdK17ra9a54zate90rXEvj1r4ANrGAHS9jCGvawiE2sYEfA2MY69rGQjaxkJ0vZylr2so8VAX60MFWwevazoA0tWN1K2tKa9rSm5atqV8va1rJWsbCNrWxnK1sR/9j2trjNrW53y9ve+va3wA2ubqPaWdEa97jI7Spql8vc5pLWtdCNrnRVS9vqWve6sBWudrfL3e5yd7PFTa54x2tc55r3vOedrnrXu17suve97/WufOdLX+3iR6rkza9+R4ve/vr3uewNsICpC98CGzi79U2wghMsEM7u98EQvup/J0zhsw74whiu64E3zOHBLvjDIN7ufcMb4RKTt8IornCGV5zhDru4wyGOsYx3C14T2/jEKc5xf1nMYwG/+McGnrGQZ0zcGxsZuTpOsnl7zGT1AvnJ7h2ylEFc4yNbGbRKzvJym8xl6EL5y9WdspgZ7A/8XvnMX9Wymkvb5TavFv/McI7tmOcs3waTGM14lvCa97xWN/tZr3EONGLpTGgRl/nOeU40nxeN1j872q6CjjRhC01p4FY50ZimKqM3TdZHe1qukg41YCtNat4WOdOZ5rSqP81qUbu61LDG7aVRnWdVc5rVn3a1qGPN6xHTGtO23jSuPa3rUPM61nb+taKDvehhP7rYkj42rH2tbDwzu9nO/jO0Iy3tUs+62la+Np+zre1tB7rbpD41uK8s7j2T28/mPje6Kf3tdd+43Wt+t5vjHed50/vQ9mY3vrWs7zbzG87+LnSyA37kgRO84Fw+OJgTTmhqM/zeDlcyxCMucShTnM71vjiEM67xjTO54x7///iY1S3yEpM8ySY/OcqBrPKV+8PBLTfxy3Uc8x7PnOY1n7LFcz7ynae45zz++Y+DLvQA4JzoRTe6ipG+YqW/mOlSHjrU9St1FFO96laHMdaFHPKti7frU//6hcMu9rHLmOVmxzHa/6t2DLOdw24nsj+I0AAHxJ3rc6d73Qd89w3n/e2o8fvf8xt4wQ8+wIU/8OFjrPXFI7nxO3485CNf4MmHeOGWPzvm0av5zXM+vp7/cOVDL9rRk7707T096lOv4LKz/rOuTy/snSz7KNO+9gEw8+2Pm/sl7366vff97+tr++GnufjNPT7yk3/d5ZNZ+M4PLfSjL/3oUr/61qcv/+izj+Xtb7n7Xv5+mMM/39WT36vmPz/6W6v+9bPfu81/v1bjj9r5u7b+tHV/dRZ8iKZ/XMV/p+V/9AeAtSWA3ZV/BqhnCAhgCkhgDIhgDmho2BeByjWBFFiBe3WBcpaBIuZ0BciBWOWBHwiCeSWCGEiCweV+KCiBKthnLBiCLphYMGhfN3eCM1hVNdhWN4iDOXhYOyhccPeDKRiENjiEeFWEg3aEltaDSniATKhWTtiCUGhYUjiFG1iFYXWFaZWFT7iFhdWFvzV+YBiGYmhhZAhpZjhpaNhbMliFbdhob6hhcehhc2hqVLiGS3iHZZWHeriHgdWHpkaAgBiIgjhWhP/YV4Z4iIg4XH+4iEDYiJ32iKAWiaM2iblVh0qIiZmoiXDFiZ3oibelhosoio5IiqVoin6FirIGcJZ4iazoiq8Ii7KYipVYi6woVrjoArAYi7uoWYpYi5r2i8E4jCVQjJrVi5b4i0iwjMPojB5SCV2Rjdq4jdyYjePzjeAYjuI4juRYjuZ4juiYjuP4AezYju74jvAYj/I4j/RYj/Z4j/Cojvq4j/zYj/xoDAAZkAI5kARZkAZ5kAiZkAq5kATZFJnQjRAZkRLJFf5YkRZ5kfqIjxq5kRzZkRyJkSAZkiHJkCRZkiZ5kibZFNg4kSzZkhIpkjAZk/vokTRZkzapkTL/mZM6OY4o2ZM++ZMkiR9C8JAuWZRGSZE7mZQ6eZNM2ZRNqZRQGZNAOZVUSZUB8A8/sJJHuZVcKRVR+ZUg6ZRiOZYbCZZmWZFVmZZqWZJCSZRd+ZZGeZZyOZNkWZd2mY9zmZfnuJZ82ZcFqZJwGZguqZeESY53eZh3WZiKCY5+2Zh+6ZCCGZkvuZiLiZiWOZaUuZiOuZlqCZiS+ZnbmJmKeZmkyZSiWZicmZpT2Zag2ZpdcZqEWZqySZOwqZeqeZs9eZVZ6Zq8mRW1mZezGZxl+ZtyiZvGyZb+MJS9uZxVQZxyKZzQaY/OeZbHWZ0K6ZnMmZ3TaZbR2Z3yuJ1gaZ3i/2mQkJmd2gmeUemd6umO6BmV4/meAomd5tmb7QmV63mf9amU8LmfrDmfy5mfSXmf6wmgO7mf8KmbWumfrkmgSymg3smgOWmg79mfCrqgEBqTDvqgFwqTEjqe8lmhn7mhMJmh3SmiItmh4lmeIAqaJhqSJBqdLQqSKGqdH7qighmjGPmi0ImjFzmj1UmhNhqZPGqROiqcQ4qWPmqcCBqkIXqk/Vikwemk/ZikSpqcbsmkgSml/Ails6ml+0iluFmjWMqVXpqRXFqaZaqOYHqbKjqmb5mm6XimaAqne7mmqSmmbhqXdGqOckqae2qOdnqnVpqncPmn5dinl2mo5BionP+5pITalYq6joiKmJEqjoy6mUD6qHpaqd84qZTKqd94qY6Jp5o6kaDaqZ6amKcaB6LamG1aqoO5qqmqqqfaqo8pEAkKqy25qnEwq3bJq7bal/hBBJOQq7o6mafqq3UJrMG6lrpZrMcaq8mqrJi5qs3qrIMarbsqq9Qqlsx6rVVJqtqqjbzard5qreAargJxpeMKkeVqrk+Jrum6mrjarqbKrfB6k986rz+ZqfYamviarzW5r/yam1hprP/qjQErsB5JsAV7kv6asK+5sAz7kfL6sCgprhKLFe9asQ17sRibkuu6sdzYsR5rsbUashlbryRLrhR7svfosCq7kBHbshz/+7IwW48yO7MJ6ag2i5TTmrM4CbI8e53Z+rNbYbJCK51EW7QIqbFIGxVKu7T0uLNO+5cjG7VaMbVU+51Ne7VYGwAIq7VTwbVdi5cpC7Y9e7RkaxVme7bs+bVqG58H27Y3G7Rw67VpO7fkybZ2W7Y4m7fsaLV8awxQG7VvK7iEy7ev+rdSG7iKK7eFe7hIm7h5u7hzW7N2a7lwi7lq67OO65WQe7mSy7h+G7qce7aeC7aU+7Op27Wre7WN67ivS7Wx67Sta7O1u7S3W7Sa27a7K7S9y7OgG7qTELw5O7wzazS4kAvO+7zQG73SO73UW73We73Ym73QSwvc273e+73g/xu+4ju+5Fu+5nu+4JsC6ru+7Nu+7vu+8Bu/8ju/9Fu/7psI+Ju/+ru//Nu//vu/ABzAAjzA/BsPBnzACJzACrzADNzADvzAEBzBCowfVaALztu82pvBGrzBHHy96PvBIBzCIhzC9lvCJnzCKHzCBLzCLNzCLtzCEhzDMjzDNDzDAiEGuIDBGNzBPNzDPjy9IxzEQjzEH5zCRnzESFzCL7zETNzEK1zDUBzFUhzDAcAPFawLO/zDWrzFHEzEXvzFX5zEYjzGY+zEZnzGZzzFarzGa3zDtYDFuZDFXDzHdCy9YHzHeAzCZLzHfGzCaPzHgMzCbDzIhCzDVVzBOlzHiv+8yLmQx478yOHbx5I8ye8byJZ8yf1byJq8yQvsxnAsx4wcyj0MyaQMyZR8ypSMyaqMyZzcypx8yFgMx6I8yz5cyraMx6icy3y8yrwMyK78y4R8w1icyLRczBp8y8jsxbq8zGLcy85sxsAczWoMy7IMysZ8zUCczNo8wszczUb8zOC8xNI8zlAsEIgsy9icztW7zeysx978zkoczvL8xORcz1SMGm+cw+q8z9nczv5MvvAc0PQ7zwQtwPZ80BAMy/nMzwz9vP/80OIr0BINvwVd0f6L0BjNwMK80A3N0BD90d470SLNvhZd0vqb0SiNwFUcALzwyR3NzyAd0yM90yb/XdMpfdPC3LzW/NLFHNMgPdMjXdMmfdMpbc7VzNPq7NMfDdQiLdQlTdQondMXjNTprNQQzdQT7dQWDdUZDcu4gM5UbcxW/dBYLdFaXdFcjdGerNNhfc1j/c9lLdBnXdBpjdBeDdZtPctv7c9xHdBzTdB1fdA5Tcx5Lcp73c59Dc9/Pc+Bbc/UTNiFzciHzc6J/c6LLc+NXc9G/dU7Hdl0PNnbXNnefNnhnNnkvNad7dlcDNraLNrdTNrgbNrjrNB4rdp1zNrJ7NrMDNvPLNvSvNG1bdtzjNvIrNvLzNvO7NvRvNItzdbCrcjEfcvGrcvI3cvKDcxSndrPPcrRXcrT/53L1c3L1/3Lmz3V2/3Z3U3K343K4b3K4+3KUh3H543e6f3I633K7a3K793Kd63d873B9W3K9z3J+c3K+73Jmx3c/83DAW7fAy7JBX7JB47g/EAEu6DgC97BDe7IDw7hER7IE67JVSwGw5zhq73huNzhu/zhvhziwWzFR23itYzid6ziK87iaOziwYwanC3fMs7dNB7GNk7GOP7HOj7IXm3eP67hQS7kQ97MRZ7GR97G+OzSS87kTU7ET17GUQ7NUz7NMN7jV47lWS7EWw7lXd7EXz7NqFHiPj7mGVzmWn7mSJzmTrzmU/zYSg7n2SvnQ0zndW7nTIznUpzg/s3n0f/r52YO6N8s6OJM6OVc5fqM6HGu6NzM6Cns6I8O6TRM24dO6c5r6ZeO6Sqs6S7M6TUM3J8O6qIuwqSOwqZ+6qhuw/zA0lYO6h7c6u786vEc6/Q86/dM4s6N67mu6+jL637s678O7BFc3m9O7NRr7EWM7Par7MvO7A8c36uO6NJ+7NRev9ZOwNguwf0N7cXe7QD97QMd7gY97gkt6c9u7omO7uWr7uvO7gDs7gkd5hgu7/Re7/Yuv/gewPqe7W0+6dsO5/+e7gFP0QP/vwXvwHoe7/Ie6gsf0Q3v8A+fyRGv0QFwzgnP5xeP8Rl/vxvP8R0/wZIe8go/8ulb8iZ/8vv/m/KdDOMcXfF27PLfC/MxL/P5S/MqT+I3j/Pbq/MhzfMk7fMnDfQqXevNTfE4b/RHj/Tqq/RLz/QGnN1En/NSTwtUv75W//NYn/UfH+Nbb/Fd//VVH/aJMPZkL+x7vvVdz71qnwJs3/ZuX+5n79BzX/d37/bxsNZQX/Fz7/Vq//d5X+uoIAqMPwqM//iQH/mSP/mUX/mWf/mYn/miMA2c3/me//mgH/qiP/qkX/qmf/qgHwSqv/qs3/qu//qwH/uyP/u0X/uuXxm4n/u6v/u83/uRoQrAH/zCP/zEX/zGf/zIn/zKv/zELxBewAmNr/nSP/3UX/2Yj/rYn/3av/3a/2/73v/94B/+4O/75F/+5n/+jcH86r/+7N/+7B9Vo+D41j//9F//l8/9+J//+o/94t//ABFE4ECCBQ0eRJhQ4cAlDR0+hBhR4kSKFS1exBhR1UaOHT1+BBlS5EiSJU1+DPBPy6hRolqKghlT5kyaNW3exJlT585pPX3+BBpU6FCiRY0eRRp04VKmTZ0+fZpR6lSqVamexJpV61atAQJoQQXz5U6yZc2eLZtU7Vq2bdlChRtX7lyBVu3exSuV616+fbGm9BIK7WDChc+6RZxYsVq6jR0/ZphX8mTJfi1fvux1CkvDnT1/XhxatGjIpU1HpZxatV7MrV3/Vcl57Gfatf9zjsade+1p3r0PrgYeXOJr4sVBegUr1vZy5jN1P4cu1Pd038KtCzee3Thgwc29N48ePjp18qavn1etXb1rzZy/v6ctXn7u8vUdo8dfef1+vylXtpwNPgEPm6/AxexDUK78FrSLPwf3Qi4slwakkEADL2wrQQ1RY7DDjB4EMSvuKiTRLAxP3G1DFRfysMWLQoSxpPYCLLFGmlDE8agVd0TIRR8nijHIkPyTzUYjncsxSel4ZDKyH59sSEgpO4pQuSOvVDLLn5rkEkovpwRzxCvHFEVLM7ls0ksowZxyRjKxNDNLNJlU80k2pSQSwDdtjFPOOXes88c7haxywj1L7FP/yT8BDdTFQYMU89AaE01y0RUbdfRRGN2UFFFKcbRURUxb1HTT2PTslMJPQQ1Vw1E9LDXEQmlM1btVUWzV1VcZjBXESGsd8NYTc01wV157dZBTYAUUFkNiETR2QWSTPdXQZb9r9sJn7Ys2v2n5m/Xa97I1cNv6usXv2/1+FddWcucztzx00VN3PWXbBe9d+eIlb97z6lUvT2vxtU3fffmdzt/rANZOMwlpJbgzg8VDOGGFsWN4O69QgThiiScer+LeLsY4Y+K8EiMU9zyuDeSQRT6N5OBMLi6lAMLqmOXBXIYOZt5kBo7mk1V6WOf4eNbN55iBTk9o9v4JzOiCkaZP/+nSmG7aacwC8CeAlaX+mOrRrL4aa8q0bk3gnMHmSeyxyX7M7LPRzoxoK9kmzO234W5M7snorjtqvMPWWzG+7/M7L8At49rrtQe/rfADD6crccUX70ttyHeW3HDK57IcL8wzt3vgzcnq3PPP4wr9rtH5Yvf0tFJHbHUFW7fqdQi7/lp21Gl3y3bWca9Kd6409/134N8SHiriize+q9IfTx6m5TNsnsPnP4xeRKi7q17565PKXvvtX+z+L96pD7/M8Rkrv6nzWUvfJOTbv+l9+ONfan7u65fR9PCHE/2Rj3/98x/6AEiS2A3wRgXU0QFZlECLLFBG63MgASFoFAlOkMaCFLEgA6vFvuRtkIMdTMgHKxLCkfinaBl8oAmHgsIUqhBILBzS92CYPxnOkIa/seFwcHgcDO4whj0Eyg+BGESIDPE4IzSiTJC4JCUShIkacaJHXHi3KE5RKVW04hUfkkUt6jCKSPKiT8AYRjFGiYwcaVzvuphGNa6xLm104xtVcb850nEadrwjHvW4kS2abod+7Akgg4DHPL7RZl6BZCQlOUlKVtKSl8RkJjW5SU520pOfBGUoRTlKUpbSlKdEZSpVuUpRBgQAIfkEBQMAAQAsKgAeAOcBRQEACP8AAwjUpMkTwQAEDWpCWPBgQocNFz6UGJGhwooTLUJUqJEix4wgEYqUOLIkyZMmU6JcqbIly5cuGRI8FYDmKYKabNbEqfPmzJo7f9rkCdSn0KA5ixIdetRoz6UIJUkKIJXq1KpYr2q1yjVr161SwYr9Star2bFh06pdy7at27dw48qF+y+AGDl448iJo5fv3r6A/wr2SzhwYcF5BxterLjx4cd6MWWSbClTpsqXLWPerLlz5s+cQXsOTXq0adGoS2cC9qv1L9auXcOO/Zp269mxccuuTVv3bdu8ewP3zbuNmzbGkR9Pzny5c+XQm0d/blwO8jjTs0vfTr37dDlHwov/H0++vPnz6NOrX8+efJEA/7TUqUOnvv37+PPr389fDv//AAaYX2WWYIJJgQcaiOCCCjaY4IMMQuhghBROaKGEGFaYIC+xcchhh7986JqHtJEIooitkYiiiSOGWKKLJ76Ioou8RIfcjTjmqOOOPPbo449ABoncEEQWaeSRSCap5JJMNunkk0jCdxd9AlZp5ZVYZomggVx26eWXYIYp5phklmkml5bQyIuKa66pZptvuulhm2zCKSedcdYpZ4h4zmknn3YyJ+SghBZqaJBQJqrooowuCp98VGYp6aSUVplggZheqmmmnG7qaaegfipqqKSOiomKNKaK6qqqtsrqnq+6/yprrKweauutuA7a6K689poofAHIEWmlxBZbaanImprssso2y2yaetIp7bTUVmstn4Baq+223C6X67fg4urruOSS++h8xqar7pXOtvusu/C+m2m03NZbb5725svtL+H26y+h5QYssKJSCrvuwQjrJ2+8DC/s8KazRkyrxBRPbHHF/P6r8cY6Duzxx0meO2zCJKvb8MkPp9zuxSxj3PLLLtPoLcc0+wvyzSAXPHLJPB+L8s8qBw0xzETHXPTRGdesdLg4Ny2wyD1HTSzQVAstNNJYG601yzMv7fWhToc9LrAGS222llWnbXW8W7ed9dutfi23rWLXvSvUZ+dt6dp8q/+9stuAw/1213MX7qPdiBP8z5R6Nw5g35D7jWzglAvetuGYA5n45k7i7fjn+EkueuSdWm565RUTnvnqbXDuupI6gy67faSPbju0qJ+ue9ys937j68Ab6fnsn99ufN+7J5+7zL77HvzzZO9MfN61Vz/68sor37zzzwM//PR6Hy/+1diXn73q28vdvfeLlw1+49bHr7b59O+ePuvrv/79+2aP7//D2atf7tB3v6Xlz3Wx45/e5MdAoAkwgHArYOYOyLn9KbBn/8vguyD4wMARUII0o+DmondB6mnwhJPjoAq1BkLDiTBxFiwhyVBIw1Ct8IYu+2ALNfZCxCVQhlFroBD/G9ZBHMJsh3Prod1iCMSD1fCJ8yqiFImmQyT2S4l1+2ETSzbELrprimBsmRW/hkWxMXGL6YKiGo0YRolVcYzfKmPYSIhGLqrRi5xqIxtjBUcDyrFpZ6zj1PB4xw3p8ZCremMfb/VHQLZPeoI0FiEn+SlEWpJEi6xZI3FGx0gejJKgvNQlR5nJEG4yZ/+owho8mbBCUnKPo/SQIktZqFPmLABacB8r0xjKUMLyl8yj5b9s+TEt7rJYvYRiLC0pTB4Sc2CBPCa7kvnKZe5xls1E1DOfVhddStNn1EShNQ+ZTZttM2DR/KaAXElDYLoTm+U83DnLZUx1SiqckxwnG+PJ/7R5mis+6LJnpdhJSHdeEp783JE//8k4gVIKn+I0KCwTGseF+iqdDt0PQU8oUUQilKI4suhFuwnJjAYIonjUZxtBKi6R8gqjJg0dSjPY0WuylG4uvdsjY4q2mQpRpTi8KU5zyiiY8rQ+G/ViTfX40ZsStVH1POp/fPo/oIJRqGB7qqMAWlKp5iepNLWqCpvKUq1uNVhd9ep9qPrTpQYVq7U066+4qtZ1slV8bg0jWUEq17k2tK5TBWtbxdpBuMa1r52jK2D/I1j/5fWGe6UoYp8U1cXSrrEMJCwHDQuwyTbJqEfFLF41+8DIJtSznyWpZflz18w+Voqc1RVqlwRanv+KVn6vHWtstTnbkO10tQq77e1IG8Dd8ra3R6ptTIVrvdwW0bT8RK5v/wrctTL3es4trnF/JN0oKba697lu7bJb2u3Ks7tF6iR469Pa4xFXgOY9L3qHoFyTild05D1ffHk03/T+dr3svS/k3qu9/Sq0v/T9LoAF7Lf81g+68URwggMABSg8ocIYzrCGN8zhDnv4wyAOsYgxHIkSm/jEKE6xilfM4ha7+MUwTvEueDHjGtP4xjbOMY53rOMe8/jHPg4ykIfc4ywY+chITrKSl8zkJjv5yVCOspJ7QOUqW/nKWM6ylrfM5S57+ctYhs8ULDziMpv5zGgecYzXzOY2u7n/zUKOM5HnLOc60/nOOZaynvfM5z7zGcyADrSgBy1oYF04zYhOtKJD/OZGO/rRa7azpPFM6Ulbmsd+zrSmN61nQnv606AGtJgPvehSmzrRkE61qlV96VZX+tWuLjKnZ03rWYf61rjGtaFPzeteq3nVwA52pGFN7FgXG9a1Tray95zrZjs70KP2tbSnrWFhW/vaKja2to+9bVkv+9vgTvKzx03uLO+a2uj2NbbXje1uc/vd7t5FuOcd7nLbu9zRTre+Tc3ufgc73vAOeKzpTXBl3/vgzj73vheOaH87PNUAj7jA8Vzwitsa4RgPdb4ZznEzP/zjjZa4yCceZIubPNMZ/0+5pxXe8ZaDGOQwZ/PIZ05yHJ/85sxWuc5F/Y8pkNrlQOdwzIf+YpobneQ4TzqUd850L7M86FCvMNGnvuKjWx3eSs86k5vOdS1vPOpRp7rYT3z1shdb62hHctfXbuWngx3oY4+72ede6bTbne14//rb4R53sdP973S2e9rxzna3773jffd7zQGvbcGjnfBr1/vhEZ/4qTN+8dx2vNYh33XDT37hlbc85i/fas1nnfNcl/znQR/6oZN+9Mg2fdJR33TPrz7drXc97F8vadnPnvY7V/3tcZ97mPN+9xT3/c2BH/y6/Hz4+y6+8ZF//Dgrf/nMV7nwoT9t6YO8+tQn8v/1T5597Tuf+wz3/sfBz/jxm7z8Kd8++nut/oezP/zedj/B4Z9x28+f1/XncPf3d/pXcfyHcfL3f/wWgP02gPhncwW4fwd4cP6ngKXGgA34gA4obxFIbxNIgT33fBZIfxi4bhuogR3ogR9obxU4gqhWgu2mgTLYeylYbyuIbyHogt0Hg9d2gmVXgzZ4g+PWgjqIZjzYgzOYhNYHhN8mhOQmEBRWhOp2hMLmg/jHhE3ohM8WAPygBSIohYpGhVWohGSYf1hIa1q4hQLxhWDYcGIIbFZodWdocGnYbALhc214am8Ih2XYhzU2h8lWh3a4hnm4gHsIcX7oh4BYa4KYa3f/yIaF6HGHiIhxuHuLiIaNeGtQCImR+GuT+GiVaHSXeHGZCGqP2Ilh+ImgmIikN4qcVooaR4io6IaqGHKsWIauuGmwaIoBgIezmGa16GihaIm5iHK7uHKy+ItnFoy2OIwiV4zGeIyDdorKuIzM6GbOOHrQ6GfSSGibWI3WeI0yd4vtt41/1o2F1oucCI4bJo5wRo5KaI7niI6ilozsyGjuOGzZGHHymHP0CGbUeI/4mI8wto+L14+d9o8AaY8C6WEEGWMGyY8IGWUKuZC+2JAf9pAFCY8EOJFLV5FOx5AY2Y4a6WIRiXQe+WQgGZIXOZJCV5ItdpLxlpIquZJc9o0u/9lhMBmTHDmDNOlkNnmT6piTOrmTVdeTc/eTTRaUW4aTRFltRpltSImCSrlkTOl1Q/mUUBmVKCaTAleVVnmVYSaST8mVMjaVPwiW4iaWVxaQWil1Zkl2aHmFaql2bNl2ZEmUcSmXXtl4dXlkd4mXLfmWe2lifYl1f2lkgVllTvmWUFCYJXaYfpmYi0llbkmYkCmZmZeYWVCZPdCYmFmYmjlwnOmZl6mVkBkJo3l2pVmZAiEEQ7CYaTCbtFmbtnmbuJmburmbvNmbvnmbhxCcwjmcxFmcxnmcyJmcyrmczFmcTfCc0Bmd0jmd1Fmd1nmd2Jmd2jmdH9Cd3vmd4Bme4v85nuRZnuZ5nugZnsBSBLL5m+75nvAZn+/ZnPRZn/Z5n/a5nfq5n/zZn/yZngAaoAI6oAL6muwZmPKZoAq6oO6Jnw76oBBKn/45oRRaofpJoBiaoRoKoOvZngz6oSDKoBE6oiRKohZ6oiiKohu6oizKogbqoSEaozLqmyVaozZanymaozq6ny3aoz4aoB2KoDM6pEQKnDd6pEjqnDu6pEzKnT/6pFCqngEgBAd6l0V6pUWapFqapE3apU0apWAapUFqpVhapjG6pWhqo166pjoapm7qoy8qpGY6pwuapnY6omyapyf6pny6omPKlnQaqAl6p4TqoHp6qBPap4qKoXH/SqaC+qi/WaiSiqOIWqkXuqiYyqF1UaWACqmeypuTGqrLaamkmp2Zeqrn2aid+qmsaqSi+qpKWqqy6qSoWqvquakw2qq6Cqu8Opyz+qvRaavC+p2qKpa6eqyz2avKCqzMOqzO+qfGiqy7qqy8yqzA6qzDWqxXKa3TSq2vaq2/iq3CCq3byq2s6q2wCq6zKq62qq1Maa7niq6iqq6yyq61Sq7vCq+eKq/zSq+kaq+o6q5Bqa/7yq+T6q//CrCZiq8DS7CParAHi7CVqrALO6WcGq0OG6gQK6kSO7EUu6gMa5MZK6gbW6gdi6gfC7IWm6sji6UlS6gne6gpq6ghu5It/0unL3unMaunM9unAiuyN2umOWunO5unPcunNQuSQSu0Q4umRcumR/umP2uzS+uyTbulT7umUeumSVuRVWu1V8ulWdulWxumU6u0X5ulYSu2Y8ukZQumXauQaau2a3ukbfulbwulrxmbcjq3Mlq3SHq3bpu3TwosPMCyfvuhgGu3grujhFu4U8q3jpq4Ibq4N9q4jvu4cIqrfUu5imu5NYq5baq5PXq2Xuu5lQu6JSq6OUq6pcu5k4u6daq6Jsq6Kuq6LrqynSu7g0q7eGq7e4q7fgq7q8q7Cuq7vwu8FSq8fqq7sWu88Ym8Eaq8Fsq8Gxq3/wi9syu9hkq9FGq9Gv9qunKrvb3Lvfjpvd8LvoxKvBhLvvBpvt2Lvv2pvozqvMXrvg0Kv/cpv/5JvwSKvfSIv9Grv/nJv//pvwVqv+0rwDRKwJRqwJeKwJoaABdbrgwcqQ4soRAcwRKMnuKbvReMwRnMnBvMwR1sngCMjiEswiOsnCW8nSecnh8cwCvcmy1Mwi9sqjGcquxrwTWsmzc8qjmMnTucqgrswz+Mm0HswkN8nUWMwj2cr0mcm0ucnE3sxE9MnjOswlNMxVV8nFdsnVmsxVHcsF3sql9MnGFcnWM8nlvcjWesxGkcq2scrG18qxSMuGc8x3Rcx895x1JKpXrcxXysxn5sx4DsnSn/DMdxbJuF7KuHDJ2JTKxHLMWNnKyPHJyRLMmT3J2LLI2XXJuZrMmb3ASd7MmVbMahPMqHUMqmfMqffIyhTJus7Mqn/AFvDMqznAa1XMq3DB9VUATCPMzEXMzGfMzInMzKvMzM3MzFjArQHM3SPM3UXM3WfM3YnM3avM3UvAzJ4M3g/M3iHM7kPM7mXM7ofM7qnM7svM7ujM6CEM/yPM/0XM/2fM/4nM/6vM/8XM8SEAEAHdACPdAEXdAGfdAIndAKvdADDSxD4MwQHdESPdEQzc0WfdEYndEY3c4c/c4e3dEg/dEiTc79XNImfdIofdL/zNAs3dIu/dIsLRBV8NAU/13TNn3TzKzROr3TPG3RIf3TIx3UQD3U55zSRn3USF3SKw3TTN3UTq3QAeAPAUDTOF3VVm3TPZ3VWq3VRN3VQv3VXg3PST3WZD3WS/3UaJ3WTS3TVH3Vbv3Wy7zVcj3XFx3WYH3Xdj3UZb3XfG3SZ63WgB3YCR3VUw3Xhn3Yz0zXir3Y3YzXjp3Xj/3OfT3ZlG3Pfy3YmJ3ZEcDWiN3Zhs3YoM3YkD3akT3alX3alX3Zmr3aaU3Ybe3ZsH3ToT3bc03atl3aeI3aus3Xqs3avs3UnB3bwo3VtF3cPX3byI3bP73bzG3Wv/3cT+3awz3dE23c1q3TyZ3dyi3Zzd3dKf/d29Ad3oMtEK9N3eadzNed3nW93drd3uPs3fDt1+I93zEdADN93vitzOq939rs3v7N3vEd4PsM3vRd4AAt3fmd4InN3wze2P/94I8t4BJ+zwRu4PQd3Aqe4Q2+4dIM4R6e2xMe4vJc4RYu3lF93xmu4RzO4R/e4kIt4jBO4iUO3Rie4vm94izO3jru4TAu4jI+478NheVt49SN4xvu4kj+0T0e4j8O5Kxd40Ru3kbe4Ele5eu85BPe5E6u2Qge5ec95Qxu5WL+3lgu4Fq+5ZgN5V4+3GDO32P+5mVu5mhu4V2+5tPd5vv95jsO1nEe4Gc+54Ct5nYO23iu3nou5n3/Ht9/DuitLdVDPuidXejpfeh7vtyJ7t2LzujRTd6QfueSbt2UXuWXjumaPt+C3umH/emgXumsnt2j3t2ZXurA7eioLtyqbtyh3urc/eq7Heuy/tKnXutvfevFnetIzuvM7eu/3tIn/ujC7tbETtvGrutijeyorezLztDB/uxWHe2zPe0tbu26je3ZDtWczu2I7e2hDe7UTubintrl7tvbju6yre6i3e7svgzvftrkHu8HXef0Du32vtj5ju/7Du/+zuXnHvDDPvCKXfAPfvCU3e8JT9AAz/BV7fAPj+8c39USP9kUX/ECPe8YL9EaT9cQT+0f39chL/IHTuslf9Un/1/bHV/zlr7yZd3yLk/yMe/MMy/XKe/fOL/XOi/yF9/zFP3zWx30rT70Oe/ygs3zSB/XSp/VTN/eTk/WRV/xRz/1EV31Vm/zYs/RWe/cUB/o9u3sXt/MYH/cY//21V72Rr31Cd/1a8/2bb/TV1/pco/UdO/vQn73NZ33eg/3hg/OfX/Ufx/vUi/4C074G334h5/4c3/2gQ7zjv/1kJ/Re+/qlI/Si1/ujZ/5wrz5nC/5iP75Km35at3spK/5pu/TqA/3qr/6rI/Wo0/6sb/enQ/gta/Ut4/7C//6Ob373Nz7yP37wB/8Tp37mW/8xz/7oq78/Bz62W73xP/40H/NyP/v+9Svz9a/7M7v+Nvf39I/9t8/4Mzf/Jif/fpd/tjc/bad/uC//mud9u5f/PBvzfKv3AAhSOBAggUNHkSYUOFChg0NSogQUeJEihUtXsSYUeNGjhQD+AswpMhIkiVNnkSZUuVKli1dlkQVU+ZMmjVt3sSZU+dOnjWXJfsZFOhQoUWJHjWaFOlSpU2ZPk3qUOpUqlWpQuyYVetWrlkDfBX5UuxYsmVf9kSbVu1atU7dQoX7Vm5cukWt3sWbVyrWrn39/t34tUpYs4UNH2bJVvFixmjnPq4bGfJkpHotX77MF/Bmzn4/hkQcWjTixqVNm6acWvJq1VExv4a9t/Ns2l7/AwwenVv32dO9fTtmHby1cNaxjR8/qLn2cuYRP+LeHV06zN/VrfskPlx7dqbIvSNX3lx8Z8GEp5/PfV399e3tubf/Hh92+PH1PYNFn3/0ev6+3f9/Tzj5BrSMPvsO1Ko8/RY8rD8HSwMwwgAfI7DCuwxEMEONPjOPQQ95ezDEtSQkcUKoLERxKgw1ZLEiBT+E0SURZ0yrRBtNtCtFHRdasUUfI/hIC0UOQaRII49EMkkll2SySSefhNJIZ6akskorr8QySy235LJLL69EJkwxxySzTDPPRDNNNddks8xI3oQzTjnnpLNOO+/EM08956ShTz//BDRQQQcltFBDD0U0/9AA/hGSyCgfhTRSSaH8slJLL8X00jY35bRTTzvdM1RRRyV11ERPRTVVVVNdtNFJX4U11iczpbVWWyv9NFddd920VF9/BTbUVYcltthTvwpgSFmXZTbWW5+FFlpep6WW2mCvxRZbY7fllltklW02XHFnjbZcc3GtNl11e822XXeF7TZeeY8NwNVx78VXynP35RfMdf8F2M13ByaYz3kPRlhRRsHNt+Fw+4W434AnDrhgiwtOOOOEv3XUYY9ljThkcykmWd2LT3ZXY5Xl5fhjl2EVOeZnS6Z5WpRvvnZlnbf9yt6Xf35UZqFprbnoXHFG2tedlx62VYaBhrrJoae21P9oqzlNOmtRmeYa1ZajBntJqsfu8mqz19Q67Ty7ZvvQr8OGW1+y5/b3bLsFVjtvg9vmW9F6n447bLoHr/Juw8fUO/E4+2b8T6c7Dlxwwgk/vHLFL28887cjB3tyyis3/HLFM298c86h9nxw0EMXXW/SGe8Z8NN/Tp3u1e9u3fXX+X589s5rJ/t2u3PPe3fev5Ld94+BD154s4lX2/i2TVd+eeapdv556LWWnu3YIa/e+uuHzv7q7bnvnuvew395/KnLt/r8rNNXH3nw2W/YffLhL1r+pOlnGvXwhy/9CY1//fMfzgC4tO8NUHwFDNkBa5ZABS5QZ+tzYP4gKDIJ0oz/gjez4AXtl0GHbZCDHSTZB1EWwpUJkITNMmEEUUgxFZ6MhSpr4AsJGEOIzZCGNbTYDTWGQR2Ki4c99GHFgIgxIW5shEUc1xEllkSALZGJTTxYDqH4MCnui4pVtOLAsIgwwRgiEVs0YhfP9cV/hVGMY5xXzxBxRjTCUI0jY6PJ3JgyOLLsb/er46vuiMc8VmuPfOxjt1wYyEgNslyFTNch25XIeGmRkTBzpLQgaS1JaouS3loYIC8JqUxqcpO86qQnP2msRY6SUqW81SltlspgrZJnT3TlpGAZS1nuipa1tGWxLJlLUu6yVr305S9/FUxhhpKYujQm0ZB5NGUqjZlN/8PlM4MWzUxNk5rVJNU1sZksUWqTSdzspjc9Bc5SiXNVwzSnk9CJKXWuk52mciernBnPKM1TU/XE2j23lk+vZZOfUvMnugDaJoEOlKCJauVB5ZbQsi2UoQ3d00Pp5TOJnpOiXrLoRTG6No0iiogdVdJHQRpStI2UpCU1VEQ7qtKKsjRNLn0pTAklU4nSlEs2VRNO8aTTmP4RpQj1aZaAelOh2omohTrpUY+UVC0tFU1NdepTB8XTg1JVqVY1E1brpNWtGlSqE/UqlcAaVrHujayOM+pZk5TWuq1VTG1161v7FFW50tVKdiUTXuWkV0BxlZ9+LRxg7ypYOBEWruSU6ztcETslxS6WsZFwrJ/g2dfJOqOyYbrsmzK7131GFq10/SwyQovZ0Ro2np317GdXO1oauNacsE3tbFsbEAAh+QQFAwABACwqAB4A5wFFAQAI/wADBGAEqaDBgwgTKlzIsKHDhxAPlppIsaLFixgzatzIsaPHi6dCngowsmRIkihFpiR5siRLlyZhvpSpEmbLlDdjrqxJUpJAnwGACv1JNGjRoUaTIgWq9KjTplCXPgXaR2DVAFezWt2KlavWrmC/ivVKNmzZsWbTamnypK3bt3Djyp1Lt67du3jfJtvLt6/fv4ADCx5MuLDhv6ESK17MuLHjx5AjS55MuXGNy5gza97MubPnzDIu0xBNusZo06VPq07NGjVqHDJcuKAhO7aM2LNX3JZNQzfu3rtzBwf+23dt3seHGxdeXLnz5r/9CXzCNq/169iz4z3Mvbv3794ri/8fT748+R3o06tfz769+/fw48ufz/62fRk07uvfz7+/f/z65fffgAT6J5AW1Gmn4IIM3gXegxBGyJ15FFZooXj0ZajhhhxuGCCA+YUI4ogilkjiiQKOeJuJLKLoYosiChRAgg3WaOOCEuaoo44X9uijjx0GKeSQGRZo5JFIJqnkfQfSeOOTUNq145RUdvfjlViOR+SWXHK55JdghnmkjE5GaeaZT1Sp5pqAZenmm451KeecGopp5513Nlkdmnw+yeafbMIpKJx0Fmpoe3gmqiiSZO7Z56MMAioplYNWiuWhmB666Kac8qcnpKDiOOmoElpqao+Zpjpnp6x22miosGL/R+qsD55qK4Wq5rplq7wq+mmswDpI67AT3moshrom22GvzNr5arDQzkXstIUda+1kymZbZ7PcLvlrtOC6Re24gV1r7mPapitft+wyOp2j4UZL7rx9nWvvYurm6167/BL4bbzy0kvvvQTra7B6/Sbc37MABywwuQTfe/DEClfMZAAIwttwrA/PG7G9Ex9s8cgMbwxsxxB/bG7IBo9s8b8mw4ryuCqvzHK+LldccsyhzkxtzdfejHPOCcPMM6Q+Twu0tUKrS3TR7x7NcdLDLn1s0+k+3a/RUvNJddVW34q1tlrzu3PXXn89a9hij61s2e1yjbaZaq/N9qluvw13t2fP/0133aPejXfeuu7NN8Zl+n0m4IELbinhhRvebN+K+8m4pI4/Drmqkk+OuMaVW375n5lXujnnnfdKeeg1jg5o6YOenmrqqn/O+uKuBwo7obJjSjuvB4J+e+u5r7k7770b+nurMjIx/N/FV3n8m8lruryrAUyR+PMNRq/m9G5Wr/z1nMrNvXbeSw/+peLTSX75UZ9vY/qUrn9l++6/v6j58l9H/5T2ux/+5KS//cWvf5H6H48CCKQBdqmAvrIdAhOowFIxEFUO9BIE8bS6CW6ngha8oIUyqMENOkuCHkQfCCMkwguRcFcmPOGMhJdCYa2wVi2s0AuJFMMTZqyGKrwheP9yqMMdCqmHYuogEKUlxCES0TxGPCISwcS/JcqliU584nmiuKwpfkmJVoQLFr+jxfJwsYteVFIVw6iXMVqpjFo6o4fSqMYDslFKbiwWHCsjxznS0V0/vKMN81itPfKxj0X6o7tmKMhBEnIwhjwkIuejSEBur5FifGQhIymZSdKnkmOyIybjoslNchIynqQkKAu0RkGWkjCn7GQq47NKVopylG18ZbliicpZwqeW/kIhLjOpyzbxEl2+fA8wBwRGVxbTmMdsTDKVuUwDCXOY4nomYqIpzWkiqpoLuyU2tblNbuLLm/UBp6euic00kbNe5jwnOhGmzv00847vhGc8EzP/z/XU057sHGc+97JPxfSTnv+0zz3ZOFCCFjQUB01PQi8WyHZmc6APhWhEdzBRhYpzmA1NRkY3ytGOykAgRJCASlfK0pa69KUwjalMZ0rTmra0EjjNqU53ytOe+vSnQA2qUIfK00wY9ahITapSl8rUpjr1qVCNqlKD0AOqWrWqWL2qVrPK1a16tatg/apYw0pWr37mrGhNq1rXytbNoHQCNo2rXOdK17gS9a54zate8yrVvvr1r4D961gHW9bCEvawhk2sVtvK2MY69rGXQWldJ0vZytp0r5jNrGbvGtjOevazfUWsaBVL2tGatquQTa1qV4uZt1r2tbC17GZnS1va/4L2trjF7Wl3W9re8tasrA2ucNcq2dga97iXra1yl8vZ3Dr3uaH1rXR/O13fDve62OWMa5HL3e6ylLngDW9PoUve8i6VuuitbnqBm932Xre43o0vcsVLX/Ga977mXa9696vfILj3v8LdrnwH/Nr6Gni5+E3wc/vL3wb/FsAQVi18CUzhyR74wrNVsIZvy+AOO1ixEQ6xYwVc4RLbFcMo3uuGV9xZD7v4w2IVsYzZOmET23imKc4xXlnMY7+++McwzuqMh4xWEt/4yC7VsZKF2uMmQxXIUIYxkafcmRoj+coqXbKWferkLjM1ymDmL5XHnBkjYxnJW06zTr3MZqSG+f/N0yWznK185iOr+c5tzjOc91xaOZPZzHW28Z3VnOc28/nQhvXzmOkcaBMPOs2FZjOiJx1WRVMZ0I2u8KO3HGkvU/rTQrY0kRmdaQpvWsud7jKoVy3qUQeACHAt9Y1PveRUO3nVQd5tq4dMalnLl9ZKtnWTcf3pXc8Y076OL7B1LOweEzvXfTa2iHud7O4uO8fN5vGzJy3tab861tU29bVRnG0Wbxvah+12iKkd7uOOm9zl3vC5D63uCCO73e5+94XjLW90+9vF9YYwu/ENW33vm98Knve/Kx3w/96b4AU3uIERnvCFK3yxDXfvwCFeWYlPnOL4vbjFQ53x7D6c4x3/9zh9QR7ykYvcvyU3+atRrmyV25fl+XW5znUdc+yenOZ1tfnNcU7el7u85z6fOdC5K/TwEr28Rgcz0t/7jyQsnelNZ+7Ti77zrot26sMNwD9SevV8Z125W4du1C0O9gCPHdxlL/DZ0Z52564dym0PrtjJHveIz922dc/t3f+dd9buHe59p+zfaxt4wXv98YMt/Gr3nni/L16zjdct5DfPXsk/9vCVl+3lN5t5DnP+9Fb1fGopH/qUjz6zpQft4H+sesiCvvUWfj3sY+/Z2aO79p8fO+4Vr3vM8r73qEc98Ef89uEHvfgqPn5gfQ/w5TOW9c6fK/SjL33BJr/Y1m/r/+2zf+Lt77j73qe+lMNPY+GTX67m5yv6ffx9zrO//bB+f/njP9T501/9/XV/xOV++ldT/Ndc/hdVALh+AlhkzVeANHWARJWAUrWAAdiADsh3EChTEth/FPhk9cdtGHhW47eBMNWBTPaBT2WBDjaCJEiAJniCKAhUKriCIQh5LvgZJRiDNzWDP1WDTsWC65WDnoF9PJhkPshlQPhlN0hvRKhdD3iEPZiERbWE59WEXveEUKiBUrhSVDheVjhVWLhnWuhWUdiFWfaFOxWGYiiE6lWGmmGEaCgBariGbOhmY7hzcFhmZ4iGdbhmd3hUbohee9haMDiHf5hTgSiIefhmhf8YWX3YhYmIU4toVIP4ho8oh344iZWYCZf4YJkYiVI4iZXQiZ8YZ6HIhZuYiKbYiEcXijOyBLI4i7RYi7Z4i7iYi7q4i7zYi7RIDsAYjMI4jMRYjMZ4jMiYjMq4jMQ4Dc74jNAYjdI4jdRYjdZ4jdiYjdJIBtzYjd74jeAYjuI4juRYjuZ4juD4Beq4juzYju74jvAYj/I4j/RYj+4oI03ABL64j/zYj/7oi8wYkAI5kAQ5kNp4kAiZkAqZkOjYkA75kBD5kPY4kRRZkRZZkfioj/+4kRzZkbtYkCAZkiIZkAtZkiZ5kgcZkSq5kizZkBf5kjAZkxOZkR5ZkzbZkSP/mZM6qZMo2ZM+6ZMtGZRCKZQyWZRGaZQ0eZNKuZS8uJNO+ZQC+ZNSOZUIOZRWeZUOeZRauZUUmZRM+ZVgKYtQOZZkWYxUeZZoOY1YuZZsGY5c+ZZw+Y5eGZZ0eZNleZdlmZZ6mZZt2ZdtGZeAGZdzWZeEyZF4eZhPuZeKOZV+2ZhXGZiQuZWDWZiUyY+IeZk5uZia2ZOO2ZlBGZmgWZSTWZmk+ZGYeZoFuZmqWZKe2ZoqGZqw+ZKjWZq0aYuoeZtRuZq6mZKu2ZsuGZvAOZMCkY+1WZy5iJvIqYy7uZzY6JvOaY7BGZ30OJvGWZvJeZ3GyJzaSY3P2Z3iKJ3gCY/U/1mdpYmd5imM25me0Oid7OmN4fme7Die5FmZ51mf6nmf7Zmf8Lmf8jmfhVmf53mf6pmf7bmf8Nmf/lmXAGqeApqeBMqeBvqeCJqgYbmg2Nmg2/mg3hmh4TmhFPqVFnqdGKqdGtqdHAqeHvqhSxmiyTmizFmiz3mi0pmiKmqXLIqbLrqcMOqcMhqdNFqjNXmjOJqjurmjvtmjwfmjQIqTQoqaRFqkRuqaSAqcSrqkG9mkTvqkqhmlUjqlsFmlVuqPWHqaWrqlXOqZXvqlw6mRYUqYY4qZZbqZZ4qmaQqaYNqm+/imlxmnmjmnnVmndrqmeOqmenqYfLqYfuqYgBqZd/86qE1ZqHh5qIqZqI25qJDZqI6qi5AaqZKql5Tql5YamJiaqbi4qXfZqZ76qX8ZqoIpqKQKoqZKlqjKl6rKlqzaqgHQBK8KlrEqq7N6lrVqq7f6ljKCBLsKq72amL9KlcG6lsNKrNKhq8e6osmqrMsqlc2Klc/KlaM6rWJZrU55rYyZrVa5rZLpqt4apOC6k+KKreQ6lOaqld3qrevKru0KlO9KlPGKlOiarkxaryN5r/iary25r/yaq2zqr4YJsAErsChJsJ9psDI5r9PKsA3rsCYJsQUrsTFJscdqsSKJsSepsSzJsR3brwr7jyAbkiKbsST7miYrmyibsv24siD/2bKs+bIRGbMyi7A0u7A2a5A4q5A6u7M8a5Eeu6tBS5BDS7RFK5FHi5Ez+7MAubS52bS8+bS/GbXC6bNUK6ZWS5JYm7Vae45c25VT+7WmGbbLOLZkW7bleLZdS5xqa5ls27Zum41wi45ya49J+6p3i7d5e417a7Z9O51pW7elGrjJOLjNWbhxe7jz+LekyriN67jWCLmRK7nxSLmZarnIiLmZq7njyLny6LmOCrrHKLrVSLqla7rimbiKa5uqa5asq5au65awK5eyO7u/WLvNeLvbmLvpuLv32Lu++63Ai57CG43EW7zGG5/Im7zLO4zN67zP657RK71em7yaWr3B/3i965m93bi93Eu33nuc4AuM4vuM5Fu+5quOqDuo68u+7TsN78uN8Su/0+u79UsO94u/+bu/XzC/ePq/AZy/ZEDABtymCHy/CszAAtEGbeAGFHzBGJzBGrzBHNzBHvzBIBzCF9wNJFzCJnzCKJzCKrzCLNzCLvzCKIwKoyDDNDzDNlzDOHzDOpzDPLzDPtzDQPzDQszDFiUX6duLB5IGFizCTNzETvzEIQzDUjzFVFzFVBzEWDzEWpzFXLzFXozDRRwXR8yLYhcASgzFaJzGagzCVtzGbvzGUtzFcvzFdDzHdrzDYQwXY7yLYjcFFbzGgBzIagzHhFzIhXzHiFzHiv+cyEScx26xx7ooI2csyJRcyWxsyJicyXG8yJzMyJ28yI78yJCMi338x5Z8yqg8wpq8yqwcw5/sybD8yj8cym0xyqQsEJOcyrpMya3cy60cy8Asy8BMy09gy7dYyku8y8q8xr7czJkczNAszJ1MzMZsi5KczMuczU/szNxMyNH8zdIsx9RczbSIzNp8zk7czercxuDczuE8xONMzrJ4zehcz1G8zvi8ye68z+9Mw/Esz+ZszwLNwflc0C7Mzwjdz/9MzvQ80A6NwQYd0Sqc0BQtzAtdzQH90A8t0RxtwhX90dNMy/I8iw2t0Q7d0SgN0ipdxxdtzBlt0gKN0h290jT/vcUtbcslDdP2LNMcXdM+PcsiPdJL8NI6jc48LdE/ndQ3fNOjnNNFfc5HHdFKPdVMDclE/dTZHNUGPdX9HNKhLNRDjcvYjNVZrdX5zNVJXdV7fNVkvctmfdZdjdYsHdQj7dRt7dZvvc5y7dNqPcZsfdeonNd6HdeEjdB9fcR2DdiBLdjdvNeFbdN0DdD/4MdjrdiLzdjO7Ng0fdjpm9iWXcmYzc2a/dhAzNne+9efLcihndmk3drQbNrJ69mpHcir3cyjrdKw7buoPdvMXNu9fNuuvdSRzdBizduX7durDNwfnduzu9vGjcbI/cvBrdzMrbiS/NynHN2srNzTXd11/ysQSSAHFVzZ2A3d2q3J3E3R3q22YqcFa1DeoH3ezzzd9I3I6/21103e8L3N8o3J6e3a9021zr3fItzf/l3fCC7Ow43RxU3gvW3g3pzgEo7FAf6zA+7gHwzhhzzhHN7IXy3Uso3h96zhb/zfhr3gLj3ZpiziUEzicGzipF3hNBviLO7BLl7iHZ7j/oziOK3i+l3jGX7j7KzjOi7jKUvjQL7BQj7kMN7ORq6wF57kEL3kVdzkhf3k/orkUj7lVD7FVu7kPN7UPr7lTNzlV0zkaR3mVt3gZH7JZg7DXx7XWJ6uUU7mb67PaD7hc+6tWt7mdw7nec7Xar7WY97mbv7nLP8c59+859Pa53aO6C2s6Ao96H5d6IZu45Ce6IGu55SO2Gx+6QSd6Sss6a/d6Z1t6aCu5KI+0Zu+2aZ+2p+e6hm86qxO6hb96rGN6rLO5bTu0a2e4Ix+rI6+5b3uyrYOy8G+q3VO7MXu68f+ysn+qsMu5c3u7L++3Liu27q+6xRc7SX87Mie7c0d69zeBt5OwuAO7eJu3dvO7efeDenOyNFOqtOe5O8e717tyGC97NR+7vhu3+v+3QKRBVZQ8AZ/8Aif8Aq/8Azf8A7/8BB/8Lgw8RRf8RZ/8Rif8Rq/8Rzf8R5/8ZwQ8iI/8iRf8iZ/8iif8iq/8ixf8lDw8jAf8zL/P/M0X/M2f/M4n/M6P/OPWAMyQvARH/RCP/REH/Eff/RIn/RKn/Qt3/RO//RQ//Q7P/VUX/VWX/U9LxBTsAVF3/Ve//UQv/RiP/Zkf/RRf/Zon/ZNf/Vs3/ZuP/VZP/BgP/d0D/Zlf/d4j/dqv/d8z/dv//eAD/hxHwBAX/eGf/gPn/eKv/hI3/eO//hOH/iSP/lUH/dbj/iYn/kIz/ic3/kYD/mgH/omT/mkX/o0P/iFr/mqb/ie3/qeL/qwL/qmP/umj/qrf/t17/q6v/ix3/uPT/vAP/mWz/W4X/xev/vIf/e+v/x7H/zO//e2b/zSP/TJX/1iz/zYf/bPv/1s/x/90//9iW/94m/22V/+a8/96A/3mZg9xA/+7r/w4x//HW/+9L/y6X//Oe/977//Bi//AIFL4ECCBQ0eRJgQISeGDR0+hBhR4kSKFS1ehAhF40aOHT1+BBlS5EiSJT3WQJlS5UqWLV2+hBlT5kyWAWxmsZJT506ePX3+BBpU6FCiOxUeRZpU6VKmBjE+hRpValSTVa1exXqV5lauXb12tTllS1GyZc2eJdtU7Vq2bQVOhRtX7tOsde3erfpV716+W20GwIlW8GDCQ90eRpx44FzGjRvjhRw5cl/KlSv/DVxY8+bBij1/ZupY9Giokk2ftmpZ9WquYcdyhh2bKGjatf8PksadOyJq3r0/sgYevCVm2cWN87Sd3LZu5rp9P/ctXLpw4sety1ae/XNz7qOhfz89Xfxq19fNc9aeHnF39ozBv4c8Xj7l6uftC1afn217/nDh/69rPgH1qu8+A9PSL8Gl+mOwNAAfzGtACf0KQKwDLyxKQQ2RarBDiyAEkaQJR5SpQAxP7GlDFRfysMXdQoTxNxJnHO4mFG9McUUdF3Oxx4ZiBJIjGodUqTwcj7RiRyV9ZDJIJ4mE0kQkMVRyRyZ9dDJIKImUcsoDq9Txyh6zBHLLIY308kQwVxTTRTJjNJPGLtO0b00V22zxTRjjnHFOOs2zc0M8PdQzRD5JRPP/TwMD1XDQDgsF8dAR/5JC0QsZVdDRBiGFUNIJ/7L0Ukz105RBTh/0VEI/Qy1uVFJL5e9UAFMdMFFWr3M1P1hjlRU+WgVc9VbYclVv1/Z69fVX+YIVdjNi0zOWPWTfU3bZCl9r1rpntYu2u2nBq3Y8ZrMlbNvsuuXu2+/CFW9ccvEzNzl0m1MXOnans/XdYeNdbl7n6o3uXups1LdVfmvz91+AeRN4YMAKNvhg0BLObeHeGg4uX4gLk5g2inGzmGGMWXN34ww73u5j70IOb2TyCDbZWZQ9U3llliVz+WULY5Z55sRqFu1m03JWrWSeg/JZMaAdExpnoi+D+ejOkl5vyWn3mo7vafqulZpjqg+z+mqs79J664e7nvrrtsKea2y8yu7LaLSRU3tttuNym2y499J47tnq3u9u//IOcG8Co/YbQcDVEnxwwrEy/PCzEy9r8bUan+rxrCL/qm/KgbKcccyp0lwrzsFC/HOhQm9qdNJLj/B0CidX3TDWF3SdLthjl30mz2un+/akctd995J6nz0z4JEWfnjiLzLeJORpkpvy5p1/vqLoj5++RK6XX/36o7L/cPuRuveedvB9En988iky/3z0YQogIAAh+QQFBAABACwqAB4A5wFFAQAI/wADCAzAiKDATgYNIlQosOBChw0DPJQYcWJBihchMtyosSNFjhRJiRxJsqTJkyhTqlzJsqXJjwtjHpwJk6bMmjhv6rTJM2fPnQEgQdIklOjQokiPKjXKNGnTpU6jQp36tKrUpowgZd2qtSvXr17Dgh0rtizZs2bTjh0oKpSotm05uXUbl24ouW/v2sVbNy9fvXDbAt5L2G/hvogB1x31trHjx5AjS55MubLly5ArVZq0mfMkz6A7i/48OjTp06ZTl16NmrXq1qTByQ43uzY42rdt496tu3fu37yB+w5OfLhvcbyS7+K1vDnz586jQ58uvTr169azY9/u/J9AUZzCi/8fHz7U3fLn5aY3L549+vbpyZN3rx6+/ff467/HzL+////+ebbZgAIWSOCBBiaI4IIKNsjggw5OEs6EFFZo4YUYZqjhhhx26OGFyYX4Cy8jlkjiiSamiOKKKrbI4osuxgjjjCOyJd+NOOao44489ugjeQAGKeSQ/EUI4ZFGJonkkkpK+OGTUEYpJZQhVmnllVhmqeWWXHbppZY2/ijmmGSWmSORaKaZZpNMtsnmm24SOOWcdNb55Jd45qnnnnqGaeafgAZ6o5qEFtofnIjGmeiim9np6KOP8inppJTi6aegmGY6pqGcdhoZo6AqKmqTkJZqKpWVpqpqqpdq6uqrg3r/KmunodY66q0Jnqrrrhiu6uuvebYK67CvzmpsobYmiyuuvDbLK7DQRoulsMRWK+ix2KKp7LbLvunst6ZKK6601FprbpnZphskt+x2iyS48Do67ry/lnvuvT6qq++h7rbrL4LxBjwnvQSz+h2+CJO578KW/etwv40KLPGdBVfMp70JZwwkwxx/CvHD/k4scocWlxzswRqnfGbHLDcG8scwezbyzBmabHOXGKucccs8v+zzqDQHXeHNRGeZs84I89zyz0y7KfTTRUdd5dFI36s0y01n/e7TQUvtNdVVm3t1x1qXzSDXXXsdNdhhVzs2x2bHLSfaM6u9Nsptq/w2w3L3/0133XYTzXbesO69cN8xK/r3yIELjjfhOxuuL+JxLy5y4zcPDrmmkk+eOOVMWj4x5jZrvjmmnasLetmiS0y6yaafHmjq6a7++datx/t6ybHL/ift2dqede4B725x776jC/yxwt/eIPG6G18w8slvuryxzTMNPbzST/949W5fP2v2zgO8/bfdE0w9+PmKLyv5Pp+Pfvrzrs8+j+6/Xz78Ecv/LP3jGgh97le4/NFqfwgElf+aBcAACoSA1jLgAfnnsAX+r4HRCsA/tDBACHJOgoai4P4suCsMkut7HswUCEOYwBYiioS6MmEGUZjCa62QUCKsIAzDJUNg2a+GG7vhmv9cSERS7bBUPfQhDYH4OyEOMYefOyISk+irHzIxPE58YhG3+DwpRoqKq7LiFbOoLS6aMVdelBcYVSVGJpKRSFAMWRrttEY2LvGKCnujkOIYxTnWqY4GCwB48GhDPQKIj+zy4x8BSak2AtGQ6zqjJGWmyIExclKOrCEkDznJSVbSkpe82B0J+aNN/geRMfvklEIpqUym0JQB6mTlVBklVopSkKScHSyLJMsz0rKWtuzTKHOJv11iBpXb+iWqgmmpYRJTR8Y8Zi9Zp8wPMfNkuHym8qJZGWR+rJrWvOaXXOlBbjZsmlwEp4fEOU5najNW5pyMN5OlTpKxE2fufGcQ4+n/sXl2q54cuic+s6nPUvJTMv6sFUA3JFAukROCB0UoOoe30Jo1FEz5LCgWIwqZhP6zor26qNEyqlGOdnSiRQRpSEV6pYcS0KSP8agCVWohlk6LpAWFqWNkyiyaDs2mVnLp/XTqMpRqz6cUAmpQcapPor6Fp4tCalKVGiKhss+pooAq0KQaDqpWlanvxKpWX8hVryZHIFMQhCHWyta2uvWtcI2rXOdK17ra9a54zate98rXtSrir4ANrGAHS9jCGvawiE2sYgdLj8Y69rGQjaxkJ0vZylr2spiNbCY2y9nOevazoA2taEdL2tKa9rMB8Eda+8ra1rr2tbCNrWzbutja/9r2tri9bWZ3y9ve+ra3pw2ucIdL3OEGgB+rna1yl8vc5jo3rrmNrnSnW9vfWve62N1tcbfL3e4G97jJfa54x0ve8s6VuuhNb3qzy972tte78I1vfMGrVvPa9774Va5698tf27r3vwDmrXwHTGDh0je/CE6wgu/a3wY7mLABjrCEJVvgClsYtAdesIY3vOAHe/jBEw7xhC9M4gtnmMMoTjF5P8xi/or4xQAusYwJfGIV2/jGsm2xjtEL4x6zd8ZAhm+NcUzkIut1x0iOro+XbN0gO3m7QzaylKcM1yRb2b9MzrJ2n8zl7yK3vlQOs5gNceUyJ1bLaL5sl9dc2iiP+f/NNzaznAub5jpPls14Dq2b4cxnDs/5z4G1s6Afm+dCd3bPfU50ggHN6EE72tCQRrSiJ21fRgPa0YOGtKElTelOi9fSf8a0oDVdaE57+tTLBfWcRW1nUufZ1KiONWxVLWdW19nVeIa1rHfdV1qb2dZpxjWbdc3rYuPV12UGNpqFvWZiG/vZ50W2lZWtZWZ32dnQzrZbpT1tajPZ2lzGtrbHze0ke/vb4HayuMed7XIj+dxLTre6v8zuetvV3TuGt4/lHeR127vY+NaxvnvMbyD7+9+7DniLBw7jgs/44AiPtcJZzPAXO1zGEI/4qSf+4YqL+OIlzrjGO81xD3s8xCD/J7HIRz7pkoP45BJOuYn5EQBEHILlEXe5g2Eec5lXeCCHuDnO/63zBvM8wj7/eQDCO/R6F72/Rw9w0guMVjA3nd1Pd3HU/zt1GqvW6lfXdtb3u3Wud12+Kw/7mMeu3rK79+xop7fayc12Hrv9x3AXstzn3u66U/fueM97d9PO9yn7/e+Ax67gvUv4whv58NNNvOIXz93GO57IkJeu5K9L+crv/fK8zrySN//bzkP586CXtehzS/rSm564lk+9ileP29b79vWwR73sN057LNt+y7j3MtN3z/veL/b3Ag6+8MFOfJIb//jIz6zyl998iT9fsdGX/vRNG/vqd/j6Z86+/5q332bdez/R4A+/+CtL/vIP//zoT/9h12/Z9pO2+/DPr/znT3/K2n+0+Jd/97V/htV//vd/emZ+Arh2BAhhBkhhCIhhCriAYdaADviAkBWBEvh+FChmFshYGJiBGuhZAdiB4/WBghWCIjiCnFWCJvhcKBhoKuhYLHhoE/iCRRaDgDWDNFiDm+WCOMhcOvhXPNhYPviDNxiEcTaERUgPR5gJQKiEszWEitCETxiFUhhbVGiFR3hcATACYBiGYjiGZFiGZniGaJiGariGY7gCbviGcBiHcjiHdFiHdniHeJiHcrgDfNiHfviHgBiIgjiIhFiIhniIgFgHiriIjNiIjv/4iJAYiZI4iZRYiY6IA5iYiZq4iZzYiZ74iaAYiqI4ipyYWl/IhqiYiqq4iqioh674irAYi7CIiLRYi7Z4i7Zoibq4i7zYi7xIisAYjMI4jMJoiqx4jMiYjGwoi8zYjM7oirgYjdI4jbToi9Z4jdioi8S4jdzYjcBojMoYjuKojM9YjuZojtSYjuqojtnYju7ojt4Yj/Ioj+A4jvZ4j2t4jvq4j6+4jv74j7X4jgI5kLs4jwZ5kMFYj/i4kAwZhvz4kBA5hwA5kRQZiAR5kRj5iAi5kRzZiQrZkCBpjxE5khFZkSZZkRmZkhnZkSzZkR8ZkjCZjCQ5k/t4kjb5jyr/mZMD2ZI8eZAvGZNAqYo0OZTleJNGmY46mZTt2JNMGY8/GZRQqYZEOZXMeJRWGY1KmZXW2JRcuY1PGZVgWYZUOZb9eJVmWY1amZba2JVs+Y3+cIphGZdnSJZ0iYdneZeGqJZ6SYlt2Zei+JVyGZd1OZh0iJeGKYh7mZiQ6JeM6YmAGZhgSZiSCYeHWZl+qJiYyYiNuZma+JiQCZWTGZqWOZqZWZqceZqe+ZlAGZqTOZqWWZqZeZqcmZqqCZOsKZmuWZmwiZmyuZm0WZsgeZuEmZuHuZuK2ZuN+ZvAyZDCOZjEaZjGmZjIyZjKuZz42Jx1+Zx4GZ17OZ1+WZ3WKZLY/0mW2nmX3KmX3tmX4Bme4jie5FmeZnmeapmebbme7EmO7kmV8Bmf8qmV9MmW9nmfyJif+rmfVtmf/vmfXBmgAsqKBDqVBnqgCKqUCrqgb9mgoPmgQxmhRzmhFFqhTMmgGJqKGrqhHHqTHpqUIBqiFzqiMVmiNHmiKJqiObmiPSmiLpqPMEqSMmqTNFqjNtqSOJqjabijPNqjJvmjKhmkQtqiRNqQRjqSSJqkSrqSTOqSTvqkCxmlJTmlFFmlVnqlGzmkWiqWXPqQXvqlYHqRYsqRpvgBZbqlZ8qPaTqRa8qmbYqQXlgCcXqdc1qTdYqTd7qTeeqTWdqn7fmn+hiogv86qO9YqIYKl4iaqIqKjoy6jo4qkJBqkGQ6qSNQqed4qZiaqfC4qfR4qJ46oKBalKKKlKS6lKbqlKiaqg66qs/Yqq76qtgYq7IqqbR6jLZ6q7g6jbqajbzqjZ06qcHqjMNKrMV6jcfajcmKqMvajM0qjc8KrdHqlbP6qyRarbJ4rViZrb64rdzqq94qlOAai+KKi+RaruY6jNPap+vKru2ai+/6i/FajN2arjpar9B4rwGZrwW5rwnZr/5apAAbsAKLiARbsAZLivMapwvLsA2blw9riRHrluiasP9asXd4sQ6bsZW4sRKLsB5rhiCbhyJ7iCRbsib7lyibsmS4snb/2bKF+LJ8GbOhOLFlarMhi7OEqLOTyLM9O7M0K4ZAa4dCO7REG4lGC4o+q6VLW4dNO4hPC7VR65hIm7RgWLWFebUWmbUaubUe2bVeC7YSKbaJSLaXaLaliLZJq7Z7yLZ/6LZvC7edKbc0S7dxaLd3i7eaqbd727Fea6Z+64aAe5mCu4iEW7iH+7F+u7h92LiO+7iYOLVPmrhvSLl8aLmKiLmZy7cpy7mK67mgWweiiwOaS6SmuwKeuwOpu7qtm6OvG7uzK7qpRQQLsAAM8LvAG7zCO7zEW7zGe7zIm7zKC7wS0LzO+7zQG73SO73UW73We73YG71IsL3c273e+73g/xu+4ju+5Fu+5vu9qpC+6ru+7Nu+7vu+8Bu/8ju/9Nu+X3C/+Ju/+ru//Nu//vu/ABzAAry/u+u7y3vACJzACry82dvADvzAEPzA5zvBFFzBFlzB9ZvBGrzBHLzBA/zBIBzCIhzCAsG7C3zCKJzCyhvBLNzCLtzAFxzDMjzDE9zBNnzDOJzBI7zDPNzDH1zCBqzCQjzEKPzCRnzER0zDSrzES5zDTvzET+zDUjzFU6xBJkzEWJzFK4zEXNzFMMzEYBzGNQzFZFzGOkzFaJzGPxwAV6zFbvzGzOvFcjzH2ivGdnzH6GvGerzH9qvGfvzHBPwPbQzHhIzFdHzIdIzHiv+Mx3zcyHwMyJAMyEBcyJRMxIh8yV28yJocxo7cyWUcyaCcxlYcxJVcyguMyahsxJu8ykrsya7sxKEcy1I8yaZcywmcyrjMwqy8yzH8yr5sw7IczDs8yrZczAycy8j8xby8zOf7y86swcIczSBMy8ZczcWbzNh8vcy8zeX7zN48v9IczgFMzNZczsKbzeg8vdy8zuH7ze78vuIcz/1LzeZszul8z8/Lzvrcve/cz+srzwCdv+Rcz/aMz/i8zwjtzwod0AxNzwRdzQZ90Aitzwrtzwwd0AP90BAd0ek80RRd0e980QDt0Bptyxzd0R69ziAd0iIdzxld0iZ90tmc0ir/vdLf3NIuzcakDNO1LNMzTdPbbNM3jdPh/NI8Xco+jc1AHdRC/cxEXdQ6fdTFnNTJvNTM3NRO/dTRbNRSXchUjcxWvcxY7cxavdVR3dWm/NW5HNa8PNa/XNbCzNVo/cZqjctsvctu7ctwHcwkPdd0XdeofNesnNevvNeyLNd+ncWAHdiCvcmE7cqGHct9ndiKvdiX3NiO/didHNmhjNiUPcSWfdmYvciavdmcHcmT/dmgHdqHPNqkXdqNfNqoLcg7rdqGzNqJ7NqMDNuPLNuSfNa2rcW4ndu6bce83du+7ceeHdwnPNxzXNx3fNx7nNx/PBDM7cbOLcfQbdzSbcbU/63cbHzdwp3dmbzdnNzdn/zdokzb4n3b5I3E5n3e6A3F6i3KwN3eKvzeXBzfYDzfZFzfaLzc+H3M+q3K/N3E/h3FAF7F9z3gzV3gBn7gNJzgCr7gPizgDo68EB7hEi7DFA7LFn7hDZ7ht7zhLtzhE/7hOBziF87eJP7gJq7LKO7hKn7DLN7Dqf3iGh7jMj7jF1zjNn7jw+ziOl7iPA7BPt7LQN7BQj7MI17kyXvkEZzkP77kHNzkI4zhUB68Uo7kVI7BVu7BWE7CT77lxtvlEvzlFBzmYj7mP0zkZh7laK7Mam6+bA7Nbr7GgxznxzvndF7n5HvnZ5znAqzlce7n2f8L6M0s6PRL6AOc43wex4huvYpu54wOzo4+znAe6dc86ZRe6YF+6fKb6eNc5pwu6Z6uzqA+vqI+6qT+v4Zu5qlevavO6q0Ov68O66Z+6gww69Rb6+J767ie6/O86bzO5b4uvcDezsLuvsQ+z7t+6smu7Muex83Ovs/Ov7G+5dNex9XOz9eO7dmuv5DO6d0Ovd/uveEu7uOOv9sO5eeez+nOvev+z+3u7tFu7vHevPNO7/Wevvfu7sZ+7L+77/ze70jw7wAf8F9Q7pFu8BKA8Amv8Azf8ANP8BAv8QqvChXv8Hye8Qi/8R3/D13AAyZ/8iif8iq/8izf8i7/8jAf8yn/3wQ0X/M2f/M4n/M6v/M83/M+//M4vwVCP/REX/RGf/RIn/RKv/RM3/RGjwu1APVSH/VUP/VWX/VYf/Van/Vcv/Ve3/Vgr/WLMPZkX/Zmf/Zon/Zqv/Zs3/Zuf/ZoJfNyP/d0X/dzD/R4n/d6v/d67/R+//eAH/iA//WEH/aGX/iIf/iKb/Vv3/iO//iQ//gCUfJ2X/mWf/kxz/eav/mcj/eC//mgH/p+n/ikv/imX/qon/WRv/qs3/qNH/eYH/uyj/mdX/u2b/uin/u6r/up3/un//u+L/auP/zEP/yTP/vIn/xyf/vM3/x5v/vQH/1/H/zAX/3Uj/rFn/3a7/gD/6H83v/9Ku/84j/+OS/95n/+R3/91r/+6u/12//+8I/2xw/+9O/95H//5I/++o/+7c/+AFELl0CCAw0WRHhQYUKGC3EtghhR4kSKFS1exJhR40aKAQJM4RFS5EiSJU2eRJlS5UqWJJu8hBlT5kyaNW3exJlT58wtPX3+BBpU6FCiRY0eRRrUYUOmS502hfpUalSBHK1exZoVq8cuLb1+BRv2606yZc2eNZtU7Vq2bdlOhUs17ly5dR9qxZtXL0ePIMX+BRyYJVrChQ2TdZtY8WK1dB3bhfwY7l7KlStzFZxZc+bDnT17ZhxatGjJkU2XRm1Z9eqrHgNshh3b62fatf/Ljsadey3q0715T2YdXHjHAF1lH0fu0vZy5jx1P4eu1Pf039QLDsc+vG9y7sibf28eXXz06uWt/86efjXm7u03g4dfe/z83Obtn4+sXj/l7e79B44vwM7oIzC0+w7ED7j9FsyKvf8eBEtACQkrsMLEEMQwwYYY5LA1jyAEcbYJR0TMQhMb0zBDFavqsMWMHAwxxpNIpDGnE288akUdE3SxR4v6kzFI5Wok0jkcj5RuRyV987FJiWAUUsgip4wJSSt/WjLL05zkEsgopaSSyivH1LJMu7h0EsovYwxTzDGtNDPOqNBs0rU1o2xzyjfhTLFPHen0Uc07IcyzyD2RlDP/0Q0BddHLQUEslMhDj1S00usYbVHQR/2LtMZJcbQ0VEwz/WhTNjsl8dMbQ/XzzFE51NTU7lBNVVUTWa30VVg/lJVQWie09dZWcZ1T1wVj7dW7XyUM1kJiEzX22FKT/W9ZZpst8Nlhm4p2P652oJZTawPENttttXWoW/08IiKIHsJtb1xyy6UP3XMTUlc9ZOF9T1746K33XnsNyjc9R/k9zt9/AR5vYIFZLFi74hCeVeHvGG744YEjxu5gimGz+GKMydO45Lk4lti4jxMOmbmRSXZYSZSFs3Nlllu27WXoYhZ45uD2tVksnJfT+TmeZfZ5vWmDBnlo+Yquz2SppUpa/2mVmdbM6aehHu3oc6tWzWOs/9KaNq5x8/pPsC+beOysywbtbNKmpjvdtfnj1W3B4I5bbsbSHvZuvK/Wm2y+D/PbwLoXJ1hwvcQuXMTDC0v8b8YZd/zxtiM3fHIKK1cMcBUzzwtyzlfynHLQL7w8V9K1Avr0GVNHa3XWRU/xddjzln0s2s+y3S3cMdS9wc17l/z3EoPfrfW6i99qaeRbUj4t5psfnkforYp9epGqv+16FLO3b3vupfdeJfCXFz9H56E1f6Pu019/p/aTIl/7+F/kPf2U6tfJ/ZCSv/Ltj3+E89/sAHgTAbqPgNQxIP/8ksD/LZCBDSzKA8sTQYzMz0l7FrwgBoeiQQhy8Efoo2BJQGgTERKFhOgxYUU8OL0V1qSFI3zf1GIow/6lcEg1rNINk5TDMu2QOAj04feAKBMhDvGF+THikwICACH5BAUDAAEALCoAHgDmAUYBAAj/AAMI7NSJVICCjBAiDEAqYcOCBx82ZOjQYcSKFDsxklhRoUGPjDJKvLiQI0SEIRmlXBlAZUuWLmPCnPmypkybNG/qzMlTpUaVK30CTTj0pVCgP2UeXRqUKNKiQ5M6VTq1aoA+kPpcvZp1K1atYLuGBcuV7FevYsuiNZv27Ni1cN9qPciQbqe6d+9+pLtXr128fP/2Bew3L+HDgxMLputPzC9eunRBlhx5suXKmClrvrw5M69fki/vEk0a82jTpSmf1vVrQgQJEl5HkE07du3ZtnPj3n27t27fvH8LD078tQQRHjx8CCHig3Pmzpc3fz5denTo1K9Xx249u/fu4LmL/99O3kOK8+jTq1/Pvr378ybey59PH72zZcuSLXPGP1my+/39t58z/gFIoIABGljggAsmyCCCByoIYYMRPighgAHo8csuo3XIi4cgfihiiCSOaGKHHJIIIocjsojiijC2iCIFE9Ro44045qjjjjz26OOPQOIYQnREFmnkkUgmqeSSTDaJZH1QRinllFLiZ+WVWGap5ZZcdunll2BqGYAYMqZo5plopqkmmpRBtqaLb8YpJ410BmnnnXjmySOdQzrp55+ABuonlYQWaiiUWOqnH36KXrkoo/k5KumjkVrZqKWTSooppZxWCimWGX4o56ikrgmZm6Wm+madrE7Q6quuxv8K66yy1krrrbbmCusEfQrq66/AMnnosMQSmyWlYSar7LLMZtnYh7qoKu201E6L67W6Zovtttp2y6pywYYrbrDFlmtulM2mq+66yYZa7bvwxnsmt/R6a2+9+LoK7rj89tvkuQAHzB67BBdc8LMpRivvwgzPee/D+UYMsbb7+mvxxdEJrLHABnfssbLuNizyyGlKbPLEJ99aMcYs87vxy+Z+LPPMWiJspsIk5xxvyij3zPOsK7csNLAwFz0szUjTHLLOTC/8s89QP01B0ENXDajRWBOa9NYe23wmzk2HParUUZdtMtVWpy1s1mwjyvXb7C4t9tyqkm232d6irfbeR7b/7fd8cAeertds0m04mncnjverevPtuHN/R96e4JSDrIeoh2e+6uKcKw7046D3Lfno6FVu+peEpwm25mF73vnr34Yue8akk3767VvKzfruHLruu9mNz2517bbjbryVqau5Ou8j/+68z8ELPzTxox9vve7Ma/789hBHL33L1Etu/fHJr7l89vJyr37e34MefuTjG489+oavb7+u3rd/8ft/x497+W86H/2odb8Cyip/+vMX//zmv9vNb4BiM6AEEZhAly2QbQ08HQDjJEAIlkqCsEMZBSsorgtiMIOVe6AHmQbCAo6QhOQyIdZQWLkNyqmDK9xcC0N4rRfC8FcynCEN/wWnwhySbIf28+EPBRVEow1RcDYcFQ6NOC8eWtFuSlzi1ZoIsycGrohUbBgSr0gxLU6Piy/zItyiSKophnGM6suiGZ2ExjSqkWtgDKPTyAhHW8lxjmurI8fuuDU2lsqNOezj9v4ISCUJUmOE3Foe9bgzPlrybI3E2CMHGUmaNWZkiISgIi+pr0zub5MA6yTSDCmtUKJvlM5jpCmNhMpUqnJmocKcyFzJO1heUpazJFItz3XLmbGyWrzUHikVCcxgQm6Y5SqmzCZJyXf50nfNdCY0oynNrpFJbMms3zLHua1sBnObxeqmx6hZTQKS850qc6YF0XkodXbsmPEKZwThyf9PxslzXPQ8mj0Lxs52SuuafDTnLANaz4ESDJ/y0icL+0lROinUlAw1lEMJVlCDpgqhnrtoJjNaqI2yC6ILk+gRK1pRkTaSpFozqbo66lFSgfSKLgUkTKkkU3WhlGEqFSNLXfjPEu60Sj1tFk1r6rCbYrGo4ToqUpO6rJ82LKjpG2o/czpHqaKLqstaKlN1qNU4QjWGXqUPWKv6zexh1ZplhSdXzZjW+qzVcrocayWdCru5arGuar1rmKxKsrdaK65mPSsQASsfwYZJrHotGWLJ6dclMraxjkVdWwdo2I9OdpGKXexlJ5dZL0E2slXkq9Qq+8PRuqe0XiIs0zo7ts//LpO1MHQtaWGbu8uhNquq7RxuSajbgfF2S7JtGm3JGtyUDbeCxV3PcXub198etrmLe24Co6ue6dZss0ZcrmSx69zQ+oq76fFulk5r3V2QN7vmZSJ6z6NeLCV3buI103vLG98tzre+V2KvdfcLvP76F70ARh549Zhf99o2lgb+03zpm+BlBEALuMiwhjfM4Q57+MMgDrGHayHiEoeYAihOsYpXzOIWu/jFMI6xjGfc4gpQwMY4vrGOc8zjHfu4x0D+sZCDTOQhG7nHD3CAkpfM5CY7+clQjrKUp0zlKje5vfH6B4ZNzOUue/nLYM4wjcdM5jKb2cxFTvOR16zmNrP5/805TrKV50znOtt5zliG1z+qgAsSh/nPgA60iM9M6EIbmsxuTjScF63oRvtYzneOtKQnTeU8v0vLgs60pjN96E57+tOODjWjRy1qJFP61Kg+taWrhelNu/rVXP60rGdd5lKT+ta2VjSkU83rXld61dPac59hTexib5jWyE62i3ON62YzO8i79rW0p61kYAd7y8bONqyVzW1uP9vZ4P52tKlN7lRbW1qt1ra6Nd3tdtP62/AO963HXe56S/rcqhK2n9fN7zC7+9+ejrfA5e1metv74HTGd6rS3e+GexngEC/0wCdOcCMbHOEYn7LCS8Vwh3t80BEPOaIrTvGS6/jiGf9PuZM3Tip9f/zlIBa5zGds8ppXHOUqz7kDWD6qjsP852KeudCXTfKi29zGONd5ynkuJ58DHeZDj/qKj270oidd6Rhnepxc/nSgS/3rVad6vK+O9YNr/U1O77rHwS51sYdd3mQve73Pvqa0q73hbI+62/e+6LjLndx0VxPX7/7xvA+d74hfs9//Pu3Ap8nuhF+34YWe+MoLefGM97Xj0QT5yGt78jO3vOhPnnmlb/5Mg/d8v0Ev89GPHvOlN/fpU9R51Reb9SJ3/dsLHvucz5722Lb96nEfcd1bHva9p/TvOZR64X+e+BA3/u4Vn/ylL7/2znc19KM/felDu/oZX/7/LrCffXZv/9/e7/7lwZ/16/N53+U39vnRr/70x5n9CBc/+eMf6Pm72/71R3r4Z2/6F3z8d3v+120A6HbIN4AJ537DdoAImIDKtoAB2IAOaGUFKIHZRoHeFoAAiIEZ+Gu/t38c+GUeWIEguIK8N4LUpn98doLEloLJZoFUJ4IuGGXiFwBVAH8yaH40OGs2qH44mINPJn7+8H4/qH1BKIQs+IRFVoRGeGXLd2FL+GpN6IRDaHJSOIVLtoFXuGlZKGtbOH1d6IU7B4E+GIb+NoYBB4VwaGpoKHslaIBs+Gdu+IZlSHFn6IVgeIf9l4eHtodv14dTCIMRCIhtKIgSF4eO/4h0c0iHs2eCithhjGhohMiHkYhqf1iJYHaJjZiJVreJqqaGnviJoHhmojhwhmiEnXiKXZaKqviIjtiKOfiKsGhisohmtHh8pKh8ppiLsbaLI7eKN/eLk4aLwnhixDhmxjh2yHhv12eHyxhzzUhjz3iM0XhniLiG1WiJ10hzvQiHtuiCyviN4BiOMZaN4raN3DiN6Fhi6ihj7Ah37mhn3RiP1jiPL1aPzFaOI3iO+hh0/Eh0/thsAJmBAjmQBdmP45h4CemA+TiQ6diQU/eQTxiRA7iQ+miRNYaRfKeR+MeR8eiRLHaQtiaS7DeRFHlsJqliKImQ91hnJImOLwmTIP+5gioJfjX5jTeZYjEpajtZfSzZkgR5k0E5bzP5gHVolBX5kknpaEOZfD1ZjT+JYlE5alPZe0VplFeZkyG5lHh2fVNADmZ5lmiZlmq5lmzZlm75lnAZl2kZAC4gEHVJl3aZl3i5l3fZl3rpl3z5l4IZmIQJmIY5mIDZBIq5mIzZmI75mJAZmZI5mZRZmY5ZBEOQmZq5mZzZmZ75maAZmqI5mqTJmfAQD/BwmqmJmqrZmqz5mqsZm64pm7A5m7ZZm7hJm7p5m7L5D1NQDnIZnMI5nMQZnIWJmMh5nMp5mMuZnMz5nAJhmdI5ndRZndSJmaWZndq5ndyZnbz5nbkJnrv/GZ7kOZ7mKZ7wEAC/WZzs2Z7uGZfNGZ/QKZ/OWZ/0SZjWmZ/6uZ/SiZ3d+Z8AGqCjiZ7lSaDnWaAIeqDnqZ7A+Z4O+qDueZ/zOaH2SaESmpz8maEaqqH+KaAe+qEAaqAimqAjqqAl2poMCqEquqJyeaEuaqEwWqH2uaE0WqPT2aEgmqM6KponSqI+aqI/KqIpyqJEWqRo+aIyiqRKGqMBYKNO+qSPiaM7OqVUOgQ9CqRYeqVayppDaqReuqJLmqRMOqZiGp1QeqZPKqVVuqYfuqVZGqRw+qap2aVfWqfvGaZ4SqZ5aqZo2qcbqqZsGqj/6aaEGqeFOqfraaeK2p57/9qoeqqnfhqpGQqoglqp3mmomCqnh2qbdLqontqij1qmjiqqiSmppmqdlGqpqhqam5qprZqlnfqpstqWo1qroRqfp5qrN7qqvHqpmuqqwPqrshmrs1qsR3qryEqqyrqXutqslJmqvRqtVhqsr1qt4UmsxmqstrqsyXqfzvqtkAmt0sqr1iqs5fqd2Jqts7qt7Nqtdwmu8MqY4jquqnqu1Hqvu5mu6vqp7cqt/oqr8Rqv80qvlWqv5oqv6Jqo+6qu/dqwtxqwAkuwEjutB1uxBpuwDbqw2eqw/+quegmx8DqwE7umF4uwCKuvGmunHLuyTAqy4CqyI0ulJWuxJouoGf+bsuvqsSz7ry77rTAbszs6s0IbpCiLs166s0g7nz3rrD8LtDk6tDQbtempsEbLrzp7tR07mEvbrE3rtG1as1CrpUVbtUSatFmLp1urq13rtQIatmBrqGNLtmCKtWbrommbq2vLtiH6tlILtnErtxBat3Tbsndrqnmrt93ptn1rrn8LuA4quGcLqYUrqYeLuNupuJhbm43ruBE6uJH7uU06uZFauZbrq5m7uEJKtZx7tJ4LuQArun1KuqVLmqdbu5u7usXpuq2rtLAbu7MrqLXLt+h5u7g7nLoLuhbau777u2wavKhLosRbvMa5u8jLs8p7prLLvKDpvJgbvdILn9T/e7z4eb1Qmr3a65ncK7zXqrrfq6LiG76lSr5Oar7na5rq+7wW673t65bvW73KKb9pWr8ye7/pO6wBsL9F2r9IC8DzK8BTWsBh65s3i8APqsDwy6cM/KcOHLQE3MFZKsEUPLf+e8F2m8E0Sr8bDMEePLUTHMKdO8IwrKQmfMIbrKMqjL+cyr4uzJ4WHMPvOsMcWsNPu8JEvKA6vMPE2cMrC8RBLMRfi8NFnLotjMRJTMJWjKFMzJ8o7MA3LLT6S8XkoMThm8Va7MRP3MXC+8VULMYxTMb7ucUCjMZQbLNg/MJszK5urJ9wXL9yfLFqjMR33Lp5nJ97fL59nMZHXMfg/+vDjOytg1ydhay9h4zDf7zDgey/jwzJZuyhk3yulezCl4zHmbyrmxygney3iazIbxnKdDvKpFzKgxrFsjysqazKtHrF4uvK/QnLezvHXfzJIczKoKvLlhnJzHvKqAvMFCzMtUrMlWnMv4vM1arMCMzMOuvMz8rLsezLs4yxtlzFjYzLzInNkwnNsyvNJ1vL36yW1ny25CyZ5ly66Cy11Ly/7dyo7xyZ8Wy587yp9dy+99yt+Ryu2py43dzN//y9AW29A92Y+4y4/UytCS29C422De3QBc2dEZ2/6rzOxxrOIP2/Fy2vGX25B83N+drRHm2WFf2wI72YD623G02oE/9dvC29rC8N0yWtnTPtqjWNuzctwzndBDHNtj3NuCq90kEtuTld1F571GKb1B691KI61ES906Z70mH706tL1SXc1FhdmlANt2JwDufwDmid1mq91mzd1m791nAd13I912ktA3Z913id13q913zd137914Ad2HqdBoRd2IZ92Iid2Iq92Izd2I792IgdB5I92ZRd2ZZ92Zid2Zq92Zzd2Zb9DKAd2qI92qRd2qZ92qid2qq92qQ9JmZN17Ad27I923Qt2LZ927id27gN2bzd2779277t2cI93MRd3MTN2sid3Mq93MrdGK9N29Ad3dId17pd3dZ93bYN3Nq93dzN28b//d3gHd7CzdzkXd7mjdzOfdbTvd7sHd3Y/d7wDd/dPd/0Td/ifd/4jd/nvd/8zd/p3d4AHuBzHd8EXuC3Xd8InuC9nd8M3uDD3d8QHuHJ/d8CXuEWXtcGnuEaPtgK3uEeHtkOHuIi/tkSXuImTtoUfuEqDuAb3uIb/uEw/uEjPuMjfuI2fuIpvuI6Lt0u3uMFHuNAnuA0PuQNfuNGHuE5vuNKLts+3uTvHeRQPt9EPuX3feRWvt9JvuRaLtdO3uXVHeVgrt1UPubffeVmTt5ZvuVq3tZe3uYHHuZw7t1kPufjfeZ2jt5lrd5rvuds7uZ+/tdxHuiOTeeEztl3fuiq/53mfL7nf97ofC3okK7YhT7pmI3olm7air7oau7onI7Xkf7phk3pok7Zl17qop3pmq7lnb7qoN7qo/7qph7rqJ7qSr7qnd7qoP7qox7rpj7rtK7jts7puP7pui7qvF7qvv7rKh7sjj7skV7slH7sl57sym7hzN7ozg7p0D7p0m7p1F7tAn7tf57tgr7thd7tiP7t4M7i4u7m5B7o5k7o6H7o6r7u7N3u7v7ucB7vdD7vd17v9j7d+N7m+r7v/E7m/m7nAB/w7j3wXV7wYX7wCJ/wZr7wDE/bDv/wEB/lEj/mFF/xeX7xtZ7xTb7xHN/xU/7xV27xIh/bJF/yJh/kKP+f8ip/5Czf8rX98j0e8zI/80Ne8zYf8ji/7Drv4jwP5D7/80B/4zc/9NRd9C1+9DGe9DS+9Ewv9E5f4VAf9VIv41Rf41aP41if9QG+9S/e9R7+9WAf9iXu3GRv7Waf4Wif9mof4mxv4jyo52/P7nH/43Ov4HVv93cv4fxQ1nsf7n3v93+P4IHv4IMv4W5/+Hyf+PK9+Izf+Az++Ehu+JLf3pRP4JZ/+Ziv35rf303f+Wj9+fEd+vU9+vld+qY/9qgP3apf+azf3a5P+rB/3qeP+rX/5LeP+7kv3ruP5bI/+7P9+9gd/MI//OBd/Lx//Mjv8spv3czP3c4f3tBv3r3/3/nVb/3XL+bZX+bbj+bSP/05//25Hf7iP/7FXf7m/9zon/zqv/7s/9vub9zwz9zdL/kAIUPgQIIFDR5EmFDhQoYNDaaBGFHiRIoVLV7EmFHjRopxPH4EGVLkSJIlTZ5EmVLkM5YtXb6EGVPmTJo1bd6E6U/MuXPvfP4EGlToUKJFjR5FmvSnQ6ZNnT51ylHqVKpVqarEmlXrVq04vX4FGxasTp5KzZ5Fm1YpVLZt3TK1GlfuXKlc7d7Fi1XsXr59vZLtqVbwYMJH3x5GjJjuYsaM8z6GDNnvZMqUARfGnJlwYs6dmzYGHXpqZNKls1ZGnfrrZc2tXSP1HFv2QdG1/21XNJ1b90jVvX3HZP1a+HCfs43Pvp389m7mu38//x2c+HTNx613Vp49dHPupaF/Ty2d+vjB180f1p5+cXf2j8G/nyye/Pyz5+2zVZ8/bnv+duH/30s++gY07D4D4dIvwbr6Y1AvAB/8a6fACKSwwAMvVEhBDTVqsEOUIATRJgErJLE4DE+kbUMVcfOwRd5ChBE4CUukMSgUbyRoRR0lcrFHkGIE0qURayQQRyN3RNJHJYNkckgi6TMSRyR3VNJHJoN08knyorxxSh2r7PFKILPUkjouUfRyRTBdFDNGMssk7swT01RxzRbbhPFNOIWTE0M6N7TTQzxD1MkYQw9FNP9RRRdltFFHH4U00kQloLRSSy/FNFNNN+W0U08/xXQHUUcltVRTT0U1VVVXZbVVU4OANVZZZ6W1VltvxTVXXXel1RlffwU2WGGHJbZYY49FNllhAxCjGEmfhTZaaZ8FtVprr8X2Wle35bZbb7vlNVxxxyV3XGXPRTddddNltphijpk2XnnnfTRbe+/Ft9pv9+W3323LBThggcNdt2CDDz633WOcpbdhh+PNN2KJJfa3YostHjhjjTVGuGOPPW733YdHJhnSiU9G2dqLV2aZ241fhlncj2emGV2FGS45Z52NSblnnzNtOWihT425aKNrrTlppYcNGd6dnx75Z6l/Hrr/6qGPxvropbde+maov254arFRtrpslrNGG2au16a5abDfhnhsufM1u+6K08Y7Y7b37thruP+mdm7Bs7W78H3zRhxgvhcv2G3AH693cMn1NbzyfxPHnGDGN0+42YUhB53RyUf31HLTWc08dV05Zx1Zx0OH3VDSZ9f0dNtRVT13W1vnnVi/Y4edduEtvb14UnVHXtbelwf2deBBHz5646dPvnrmr//9ecijH35646tP/nrmndcecO6F97548JEXf/nsy//7fNrTv3193dvvnXz435Z/dvptt1/u8Me79+0PbP0j3f9OF0DVDbB1+jMg1BA4OgWajoGpcyDrChjBp01w/3IVtNwFM5dBzkGQgzrzoORAWDkRYo6Em9vgCXOWwsGt0HAtTNwLGWdCGZKMhoKzYeFwiDgdLi6GPYzaD+UWRLsNMW9F5BsPkegwJS6RiWZzIt6guLcjTjFsVRTbFbGYRbRtkW1S9OK8wBhGMVqNjGU0I9e6mEZ5rXFqbXTjG7EWRzk2S2R0LJkdpYbHqulxj3zsmudwBsiHCZJqhBSaIbWGSKUFQAufY6QPHdkzSEZSkkWjZCWrsDBMZvKLmyRbJ1v2SVCGsmb/UKQpG4nKVKpyZayMmStrhkZZSoqWtbQlxnD5Ml22LZa9pNcvTxbMWw5zY8WcGS+RGTllRoyZF/9z5jOhCbJjTjNu1aTbNe+WTb1ts29+dJo3pwVOa4rTX+QspzkPNkd1Noqd4XQnv+A5MHkiTJr1VNQ98ZXPfu1TYP2cZzcBGjiBEo6ghzOo4hDaOHQuNFoNtddDIRpRck2Uou9apEVNhlFsafRbHC2XR9f1T5HyjKTaMim4UGoulbJLoS111EthGtPLzVRzNe2cu9KJ05zqlHI8dZVPZQbUoJaSqPY0KqiQ2lOlro6pymKpSKMq1am2qqq8uipWb/rUgG61dF1F3VetGtZjZdWiZj0rWlWl1rWytVj0JCpcOyXXVdE1V3Zta0XJClW91o6vqfIrrgBrLLzitLCbOiy6YhO7u8X6TrCDXdRjDRvZV00WaZVl2lgxKzvNhoqznfXsrEAbWqGONrOlvdRpUZvaWK12WaIdLWxjK9vj0VZ5tm3eZV17KN0Sj7ej8u1vgeurxra0uJU6LnKTC6vl/sqtC30upaIrqulSt7rOaK5Ws7vdHXQ3CN8Fr3CH69Lnkte86A3vW8e73fd+NwAkCEB+9btf/vbXv/8FcIAFPGACF9jAB0ZwghW8YAY32MEPhnCEJTxhCldYwQEBACH5BAUDAAEALCoAHgDnAUYBAAj/AAME2MOoYACDCBkdVJhwocOGEBkyPPhQYsWLETFaNEhwz8CBjDyKDPmxY0mSI0WCVGky5UmWKFe+nOmy5sebHkmCxCkwp8edP4MeDKpQ6EedBHkeJarUZ8+iPaP2CTC1KtWrVrNi3aq1K9evXsOCHet1olmKZ9OiXau2Ldu3buPCpcgvgBYaMlzo3cu3r9+/gAMLHky4sF4ZPHDwSLxYMePHjiM3ngyZsuTKmC9rtsw5M+UiR5AMQSKa9OjSqE+rNs06devVrmPDnv26tmzSR75sCRNmt+/ewH8LD058uPHiyI8rT85ceJEiQ6JLn069uvXr2LNr3859uj+7eGWI/x9Pvrz58+jTq1/Pvv14xTjgJ5ZPnz7j+Pfv24e/f35+/v/5t19/+NV3xIEIJqjgggw26OCDEEYo4YJfNGfhchheqGGGHAYHXXcghijiiCAKdJd7KKao4ooo7rBDgATCKGOMNM5oY439gTbhjjz26OOOXwTZ4ZAbFknkkcB9SOKSTDa5nYnhsSjllFSu5+KVLt6oJY5bdsnlfi7+KOaYZAIZpG5obpHmmmq2yeabbsYJ55xy1knnnVso6eSefDIZwD8nVinooFRmCR+WiCaq6KKMNuroo5BemdgOZVZqqaVnConnpnZ2yumnnnra56ikhggloaim6l6iXrb6pauwHv8a5qW01mpmpqGCqmuuvO6K5helBiusdX8GquqxyI4X6bLMNutss7ZGKy2DmZ7Z67W+Yqvtm0EO6+2wpyYrrqrPlmvuuctOq+601Vqb7bvbxsttt9/WO2qxUY6rb5Xo9uuvv+sGXGu77sprMLy+ZmrvwnuGu+/DUv4r8cTMCmxxpQQXjPDBHN9ZLcMgL4kvxCSvSPHJKCt68cpiZqxxxzBv/OvHIddcIngl57xqyjyjzPLPPLr8sswxH0ywzUg/CWi+OjdtXs9QTwz01BEKPXTRROuacdJcX+ew02ArG/XY6FJtdoNWX5011rm63PXb040c9twykG13uWfnnWDaarP/vfa8W8MN99d0N3334RXrrTffff/tt5pWCz740oWHjfjljyq+OOOaPu74mmlL/jbhlZeM+emLap4354173jHfonctd+k6o247lqqfzXrrnxsNe+xJk077w7cXn7vZu/PuutaMAx885cPnXPztx1OdvPK9f8q680gLH/2409te/dTXY7+8p7tzb/Ps3xMf/unjA12++dnbmbz6NXvfPrLvwx8/y/Oj3/lmlj78gYx9+wNf/y73PwAGsHP10971DHhAnCVwXwtkYAMv9kABZm9+FGQYAi/IvwweboMc7CAEB2g/EIbQXvojIaFMeEIUCkyFHsTaA18IQ+jJMFk0vJsN/2+IwxVG0E0d5GG9YvhDfgWRbEMMWBFziDAVKvFbI2ziDJ84tiiua4pUlBcOr+gtE2kRiFyMmhfVBcYwMs+KZBTWn6pwxhKmsWdrZFcbjei3KcZRjj6s4xbvyLM8SmuPbmybH/9YKiYKUkWExKMhbYXIRM6pjYxsZCAf6cRI+mySA6skH6uIyUzey4KcFJQnUwbKUIryb4g05b02mcqIrfJkraTVKy0JuVjKkk+OrCV7bonLXGJql6PElih/CUxaChOSxJSaMTGGzGRu6pXMbBgqn8miaEpzmmSqJhV3mU0nZZGbO/MmwMAZTnFas4XYLKeftonOFKnzX+xspzvfGP9PeZLonPW00j37lc8x7RN74vSnyOgZ0PYMlKAF/dFBeedOhf7TmQ1Vz0PLFlEfTbRx+7ToiIKZUbFtFG8d7dFH1XZQkYoIoCV92klRmtJbrVROE3WpqRgaU/TMlKY1ldBKcUXAkOq0OzDtqUl/mrigCnWo7lrpUZHKU6WWh6nOcuqEoMpVek1VO0m1KlahpdWqdRWqX31SVa261LFmrqwQOita05qdsCrVremC64PkOlS61nWtbK0bXiGl173y9aN+xY5dezpYwhYWbYfNaWKJBVi2Nvatj6VQZFs62eosNqaXdVRmqbVZo3Y2bpUVa2gZNVrNljahp40bRgMr2NX/qqy1e3stbGMbHZKC1ra3xe2BdLtb3n62pMANrnCJW03eSse3yE0uooSLIOYi07m9nW1gpTtd6ubGuv00bgDEkIvymve86E2vetfL3va6973wRe8o5kvf+tr3vvjNr373y9/++ve+4H0lKgZM4AIb+MAITrCCF8zgBjv4wIqIsIQnTOEKW/jCGM6whjfM4QoLhLzxDbGIR0ziEP/3xChOsYpTHGBRPvjFMI6xjGPc4Rrb+MY4vvGHS8zjHvs4visOspCHfOIWV3LGSE6ykl+c4yY7+ck13vGPp0zlHxP5yljGspERueQue9nLUA6zmMUs5Sqb+czwzbKa14ziLe/x/8twjjOMx0znOtu4zGjOs57Ny+Y++xm/bm6jnAdNaATb+dCItjCe98xoM//50X8ONBgLTelCJ/rSiV50ozftY0h7es2SnmKlRx1nTJu6zprmtKpH/OlWXznURSS1rLt86lqHOdWrzvV7Xc3rIMMah7MONpJtTewm41rXyFZvr5fd5l93UNjQnnOxpx3l8Sb72u5ltrb76+xnR/vbDKa2uDd8bGxfe9vozm+3Hwjudid43PC+cLnNjex027u+6w6gu/dd4Hj7e8Lzpneu703wfM+P3wj/t8IDLnBVE/zeBi8fwvmt8H8zvOGbfri9I369ie+74v6+OMYZrfF0czx5Hv93N8jjLfKR67nk6D757lLe7pXDu+UuRzPMty1z1tEc3DYfN85z7uidM7vnnPv5t4Mu7qETncpGPzrS+ab0aDOd2k5/upWj3uupU73qwr76tLOu9R5zvetetxrYwy52YpO97CU+O6/Trva1z7rtbrc23Fctd1fTXWh2vzvea/32vYu4763+u8sCL+vBE17vhs844j2t+IwxntSOP3XhI5/myUO68gS7/Kgzb+rNcz7bnn806Nsl+kqTHtOmPz17U6/61Weq9ZR+/aVjL3tl097Ptr897gmt+0xDvvc6/32fg3+m4RO/+IcWSAB2gfw8K3/5zP+C8wcN/ej/A8TVP/P/9dmcfe1vv9TdR/Xxww/18au5/OdHf/rHzHv258L9789+/OE8fzrXn/34l2Xwt39g1n9ktn7212kB+Gr6R4C0ZoC3hoAJyGMLyIDM54APCIFP9n/hV4FENoAYmGQaCGUcWH0eOGQgGIIzNoIbKIETSGInKGQpqII0xoLG5oIveHgxuGIzSINMZoM5VoLIt4M82IA+WINAqGM4mINARoQsZoRH+INJeGdLyIS75oTNdoFRKG1TWG3gZ4UwiIVFBoVb2GBdSIVfCIY6KIb+1YNlqGBn6IVqGHds2IZk+IZwGIccJoS9V4d2qIV4GG56SG5VOIe+54f75YaBaGCDSIhp/2iIV4iI+qWIi0hgjahhfCh7kpiId1iJ/XaJGJaJp7eJk9iJnjhgoBiKhQiJ50WK6maKp5iK8raKrFherghosOiJsqhotFiLtwhguViJu+hhvciKv2hflKiLwwhwxQiJx4hvwbiIy8iMj1iL6/WM9JWMwjiNESaKnIeN86WN0siNiuCNkQeOoyCOgUiO5diMhoiO6oiH7GiOhgeP0biO5LhjurCP/NiP/viPABmQAjmQBFmQBtmPqpCQCrmQDNmQDvmQEBmREjmRFNmQvHGRGJmRGrmRHNmRHvmRIBmSG+kMJFmSJnmSKJmSKrmSLNmSLvmSKHmKCaaPB1mTNnmTOP95kBW5kzzZkz7ZkyIZlEI5lEQ5lDB5lEiZlEqZlDKJYMWyCzkZlVI5lQb5k1Z5lVi5k0W5lVzZlUG5lGAZlmJ5lE15YH8iBlSZlmqZllnZlm7pll4Zl3Ipl2NZl3Zpl2VpYMWylnzZlzX5loAZmDw5l4RZmEJ5l4iZmEiZlwV2ln75mJD5j4I5mZTpkIZ5mZg5koq5mZwZk4w5YHsZmaL5mJVZmpWZmaiZmZ25mp35maD5faMZm3xpmrQZmKl5m4XJmrqZmK6JCqEpm8AplbU5nG2Jm8YZl7uZnHXZm44ZnM6Jk8QZnVZ5nNS5lcp5nWDJnIDynNz5l9L5nVpZneL/+ZXYWZ5k6ZrN2Z3qKZDg2Z4TOZ7wCZLmOZ8uqZ1asJ74CZDuuZ8PGZ/+yZH0GaAqqZ1omZ8Guo/8maAL+Z8MipEC+qAmaZ8HeqAKWqENeqEQmqEEOqEGWqEKeqENmqEQKqEcip8emqAgyqAi+qAbWqLreaL8maL/uaICSqIu2p0wup8y6p80GqAteqPcmaPuuaPx2aP0aaNA6pxC2p5ECp9GOp8/mqTBuaTg2aTj+aTmiaRSKptU+p1WKp5YWp5RuqWx2aXS+aXVGabYqaVkKppmGp1oSp1qep1j2qaR+abEGafHOafKyaZ2Spp4Wpt6apx8mpx1+qd+GaiCOqi3/1mou+mniDqbimqajNqojsqahxqpazmplFqpqHmpmIqe26mpkMmppempnwqqrSmqBUqqiWqqlImqqqmqnEmgueCqrwqrgimrmEmrtSqq94mrfamrk8mrl+mrm8mc/kBewiqpxAqYxmqYyKqYzGltzbqpzwqt0UqY08qbwAqV18qW2fqW28qt3XqXmRquNzmu5FqudHmueAms6iqu7JqV7vqu8DqW6TqvOlmv9nqvXpmvyymv/Cqc/oqVABuwAiuW+1qwBHmwCJuwXLmwDEuwDgudEDudEmudFJudrHqxOZmxGruxRNmxHvuZvwmy3imyQEmyJWuyStmwKiuZLNuyLv97mDDLlBY7s1VZs4N5szibs+eJsrDJs/3qsxUJtEErtC8JqUZLs0hLkUpLnkzbtB/7tAUZtUk7tSFZtTDptFjLj1ortVwrn15bn1cbtuw5thJZtmZ7tiwJtmrLtm3rth4Jty0ps1hLtxFpt3eLtyspt2HLtxDptx0JuIGbtmqrn4RrmYarmYjrmUQbrIvLuI3LkI8LuZEboYpbuQh5uZibuRm5uZLLmCnruWILugsqug5KupxLtK2KuqmrugnJuq3ruiQpuHtLu7Vru7yBuyWpt0/Lu73ru8Cbuzsru7pAvKrgu797vMJrtMzrvGFwvM6gu8NLvNRrvdoZAIfwveD/G77iO77kW77me77om77qK76P0L7u+77wG7/yO7/0W7/2e7/4G78msL/827/++78AHMACPMAEXMAG/L9WkMAKvMAM3MAO/MAQHMESPMEU3MDU+yfeu74avMEc3MEanL8gHMIiPMIifMAmfMIonMIoXMEs3MIu/MIufMH/kMEeXMM2fMPpS8I6vMM8DMIq/MNAHMQmDMNEXMRGzMIyTMM4vMRMbMM9/MRQDMVCPMVUTMVHfMVYjMVJ3MRc3MUfHMVgHMY+XMVkXMZDnMVonMZI7LwY7MVu/MbjK8ZyPMfya8Z2fMcArMZ6vMcOvMVw/MduTMeCTMd4XMh4zMeIzMd+/wzIjMzEg/zIYWzIklzGiVzJabzIjZzJNQzJnPzEk/zJU2zJonzFmKzJpvzFnZzKIwzKrPzDo/zKRFzKpzzL56vKthzCrZzLJwzLvNzCskzLwMy+tzzM9qvLxlzAvZzME/zLwdzMxPzM83vM0hzAylzND8zMzQzM0LzN7zvN3ty/1hzOC4zN2TzL3HzO35zO4rzO5FzOpnzO3JzO37zO4tzO7pzJ8LzN8uzN9BzO9nzPjJzP0LzP09zP1vzPAP3HAv3MBC3NBl3NCJ3Qb7zQxNzQx/zQyhzREu3FFD3MFm3MGJ3MGr3RXNzRt/zRuhzSvTzSJO3IJq3KKJ3LKs3LLP/d0jj80jAd06w807Bc0zbtxDjdyTq90zw9yj790x4c1EI91J9c1EbNxjOM1Jqs1JzM1E3t1JZ81FK9wVQNyVY9yVid1VCtxFsNx139yF8tyWFdyVpd1up71oOc1oa81onc1m6NvnAtyHJdyHSNyHZ91+ab14S813fc14o81oBt1oItx4Rd2Iatx0mcCIkdyIstxo1tx48N2Wz8HYgw2Rxd2ZF82ZSc2ZeM2J7dxaAd2qJdxaRd2r7bxqdd0qkdxatNxq2Nxn8d298727Rd21Z821ps2rq9xLwtxb4dysBNysI93Ddc3J583EKc3Mr92lHN3Dft3DwM3dEt3Uac27r/jd3Zrd1AzN3dvdzWndTgrcPiPd7kHcvmfd4cnN7qvd4q3N7uTd1kDd9cLd+rTN8pbN8w7N2xzd/97d+7DOAx/N76vb4EXsIGfuAIvsb4veDo3eD5++AQHuEULOCnbeFjjOEGrOESbruwTeH77eH3C+IHLOIVzOGejeL4q+IhzuLLrOAmXsswXswyTsA0XuMTfuOonOPRvOMD3OMS7OKTLeT1S+RFbuQQjOSJreT0y+QC7ORPbuNATr5SPuRUjsBW3sdYnuXCvOXw2+V5/OUWHOZiDr5krr9m7r9onuY/vuY43ubu++ZwHufjrOZ0bufdjOf8q+d7Pud0Xr5+fueA/76/gq7AUA7Yh96+ia7oi24FjX7Xj/4IkW4Ck07pfL7ml57pm17pbv3pkR7qUK0FX5AFqr7qrN7qrv7qsB7rsj7rtF7rrD4GuJ7rur7rvN7rvv7rwB7swj7svO5dRyAHyJ7syr7szN7szv7s0B7t0j7tzL4I1n7t2J7t2r7t3N7t3v7t4B7u2i4QXRAGtn7u6J7u6n7uxN7u7v7u8P7uxk7t9F7v9n7v9i7u+r7v/N7v/G4iqb7uAj/wBE/r8X7wCJ/w7T7v+N7wDv/w1O7vEj/xFK/v5G7uBZ/xGk/wCt/xHu/xDA/xIj/yEF/xJn/yJw/wG7/yLG/rH//yMO/uIf9P8jRf89OO8jif8/t+8S3f8z7f6jEf9ELf6zNv80Z/9Mmu80q/9Nuu8j//9C0/9FI/9EWP9FZP80yf9UzP81Df9Ro/9WAP81V/9WT/8Fp/9jnv9F6/9gIf9m7f8WNf9nKf72hf9xXP9Wyf9+j+9nx/8HE/94Av7XY/+BKv9np/+LPe94ov894V+I5f74Qf+TsfAOWO+JYv64uf+cL+94/f+Ukv+aD/7YZ/+aSv6pp/+r7O+Z7f+aHf+tyO96Vf+qg/+7qu+qvv+K6f+9g++rFv+bT/+7Z/+4Cv+8QP+73v+78/+8Ev/HJP/LrP+8ev98mv/I3P/Mzv/Llv/NEv/dP/f/rLb/1Xj/2uD/3bv/bd7/3VD/6rL/6tr/3lb/7nn/nfr/5Hz/6hT/7vD/XxL//pT/8AIUfgQIIFDR5EaHDRQoYNHT6EGFHiRIoVLT4MEKBLmCwdPX4EGVLkSJIlTZ5E+XHMSpYtXb6EGVPmTJo1bb48klPnTp49ff4EGlToUKI9Ex5FmlTpUqZKLz6FGlVq1IxavqTEmlXrVqw3vX4FGxZsUbJlzZ4121TtWrZtD06FG1fu04wbud7FmxelWL59/XpFG1jwYLJuDR9G/HbuYsaLq17VG1ly3r+VLVsmnFmz5sSdPbNtHFo01LocJ59GvffyataAN7+GXfjzbNoJ/0ffxg3xcWrevUG2Bh4cZmzixX3WRp5cTm7muUv7hs5b+HThxq0bV579c3PuondHBy+Z+njW183D1p4ecXf2jjWaDh//Lnn6lc/fz6xef9v2/eF+ly/ArOojkC/8DgxsPwWb8q9B0t4TMMKUCqTwKwQvLGtBDZNysMOKnpMwRJIqJLEmDE8cakMVEfKwxYgyCmCLLUSk8bcSbxwORR2PW7HHgVwEsiEQayQSRyNb2jHJnXxkMkgnASSSxiOnVLJKJn10MsghoxRxyiOrVPLKHrMEEkouJfTSSDCTFHNFMl3c8swI08RxzR3bVPHNFs2UM0A6b7RTRzw31NPDOPuU7//PEgNFcVANC+2QT0TDU5RERk90dEFIHTx0UvAqrfBSDDNVcNMGJfUUOlApFPVCUvcz1b9OU/Vt1QJbRfBV/WLtD1VapbO1PlwP1FU9Xtub9dfUghV22PuKTe9Y9nxV9jRm6XP2WWizk7a7ZKud7Frysj1vW267bY5acCMTdzxyzTNXOXTThXDdWtud7t3r4k1uXubUtRcvfPPVFzt+a/PXuXoDXnbg4Ao2+ODZEsYNYIa3cvhhiImTmDaKb/v2Yq4yBm5jjjve7mPvArBKZNRIbs3k2FBOWeXGQnZ5QJhXkxk9mjuzOTSLc1ZtZ8x63uxnoINmDGeiizb6L6STVnqAPabda/lpvaI+emrCqrb6armc1rokru3z+muwDRN7rqHLHulsqdMebG22246LbLhFktsvuuu2mz+8/2MZsr0x7tvAvxMMHLTBp9L7cJUSF2txxhtX63HIAwABRs8/Bz100UcnvXTTT0c9ddVXZ71111+HPXbZZ6e9dttvxz32gAAAIfkEBQQAAQAsKgAeAC4CRQEACP8AAwSAs+dOwYMGEyJcqLAhw4cOI0KcKLHiwwBqAuxRswejRo4eN3bMKDIkSJInP45UaXJlSZQuU75kCdOkmps4c+rcybOnz59AgwrduRFjxptGkyJderSpUqdMn0qNShWq1alQ+3S8ozEA161dv3oNSxas2bFnDaJdK7ZtWbZv3Zr1J7Cu3bt48+rdy7dv3i6C+AQWlEcQYcOFDytOzBix48WPG0OeLLly5MuUlyBZopnz5s6gP4v2TDp06dGmU6Nefbq16tIOHkRwMLs27du2c+Perbs379++gwMfnpsHDhzGkR9Pzny5c+XQm0d/Lr069evTs1uPzqd7dzzewX//D09+vHk+4tGXVx94ffr37uOfh+/9n9/7+PPrF9glj///AAYo4IAEFmjggQgmGCBnDDbo4IMQRijhhBRWaCGEEmSo4YYcdujhhyCGKOKIJHIYAQ878KDiiiy26OKLMMYo44w01rjiDt7lqOOOPPbo449ABimkj/sVaaSRXXSn4JJMNumkghdGKeWUVE4ZwZVYZqnlllx26eWXYIYp5pYolpnimWamieaaarbJ5ptuxgnnnHHmMeSdeOapJ55H9uknX0naqeSThBZqKIFVJqroolGO6eijkEYKqZyU0mlppZheqmmagu7p6aegBvnnqKQGEOihqKZqKKOsttqqpLDG/yqro5nWuumttubKZqeh9urrp6UGe+SpqhZrLIKuJquslLM266yzukaL67TStsnrr9hmC6Sw3OpH7LHghuvfsuSWC+Gz6Kb7aLXUtsturtdqK++8fHRrr1/fiquvqub2a666AAfM5bvuFkxwnfQmPO+9DOuV774QF+rvxMoKbLHABxusccY8xKvwx8A2LHJdD0dsMpMUp8zqxSyny/HGMFfrMcg08znyyCWfrPOBKvecaMtAN/vy0DFvOnPNSG97s0C+RGHEJXn5EggWvtAVwBxYZI3FHAKVoXUh/PGx89hQ+mx2o0GnLSnRbBeNcNJwD7l0AMooYEQZCoBtlz8KoP9QACV1leHE4BAAIZACQAweCF05k+34uGdHTqHalK/r9uVtWxv35krfXAYKAs0BQl58Q32XMgV8crgtVof9+OsCSi57hJXXHmbmmOde5tGcbz73DFgE4I8tAqCTlwKm2zWHBfzQpYATYCTfOOw7z259g7Zn3yXu3LvNe+9wzw3CHPwEgA4AthyffF0ggFHXDIPb7Tr11F9vv/b4Z9n9/ht/Dz7S3eobCgaIgjIIhAQG9IcyAOAL9d2FeA18oADSNz36mcx+18ufBvnHQXf573806xYIKEFCEqYvADeIQvlaIYDy4QV5d3FCDPQCwwpaEGIYtJ4G89fBHuLqgyD82Nz/AmEBdPgjCjOgiyl84cIAwLAu/FCAI+qCDhd+QgANtOEN9ZXD2e0Qfz4M46WAGMSEzQ0dJODADBSQCoFwwH0o5IAAIMCBEzpCAc0TiCMgMIMYFKAMjBPbFh3XRdl9UXtiTCScyFjGhc2NH5cohDKsZosItsIUmDSFEf3hixMKhB+pKIQjImgqQQ5ybIWU3CGzp8hWoomRjdTW3BqmxVMeK5WRW6XtXMlLWMYSW7NkWC1tWSxcnk2XteOl7n74S98F017DJGaqjGk2ZFZOma30ZTN79UxomlKaEaOmz6xJOWwuE1Pa3CaoutmtaIJzVeJUGTnVZs5EplOdnmInt9z5/05CxVOe8wxaPc9Jp3viU0/6FBY/++mkf6YsoAIl6EA1d9AQJrRUC2Uoyhw6MYgCbaIS3VVFLXrRUWVUo2XjaL882jKQ9tCgI5VbSU36TZTeUqUrZenFXBrS3cVUiDP9UxfwYFNx4TSnOsVYT5caLZj+tHNBHRYeiFrUmx6VXEm1GE856NSnEimqR/LHUKsKrquWK6tK3apEu+pVHoG1T/0hq1XNmiy0Bkyt+2NrW3X01mHJda50fZVd1YXXte5VXrP8h2IVi5fF2kcgjmVsACLLn78aK7AVG6zLmMrZWun1sN2ZW2QlWxfKTta0ozWVZYuJWVdpdrOFzdxnQSvax/+SFrL2Ie1tT8tYxsZ1tahqrWtf+6zYnnO2h61tbneL29JSVrf2+S1w4SlcRhG3uJ3NLqWQu9duzWC0yw1vXqDr2NM6V7XTPVR1V3ZdoWn3vRQF7a+8m1rz8na8j71Lb/Pr2/Sqd72Laq97jcs27rb1Xvk9r30bm+Dzlre//pUYgBUl4FkRWHcG9qp3W2eX+ko2tR6mrHQj3KQJU7jCsbpwgeULTOXu17bPLS9uF1tZEj/JxD9DMaxUjLkMP7W2k9WLjL1l4xvjmEo63jF8l+xTFvuqr0gqckOPbKUkR4rHQ/PxT6FcpBFLGVlUZpaVJ8VkJms5plzej5e/bKAwi3n/zLQqczad/OQ052fNbEaUmy8EZ8thOWZnHqmd75znlO55cn0e0585FuiKDho/eC70gg5doUQrWs7wbfRBH32fSEv6P5SutKVvh2l70pmbnO6Lpz+dh1AjetRfWjSgTx2qVKua1W12tYRgDSZZH0zT+LQ1oHBdIF3vmtde8nX/aL1OYTuM2Ho29oOQnexSaxfY6nT2s6EdO2lPm9oDs3YYsb3NWRaCAxBwgvHuUoYboKCNAgkEAVEQQV/MAAIoaEWNuQ0gb38b3FpS9rvI3cy52aIAo+QAFzgcACCAQQGAEwgWYFBCIwYABUbwBRYgwDh+T9rfDAI4mcTdWYL/cm5O/7iBP/yxRw6vvHR1wYLh7EI8ZQgPAlNc9adBjj2R64/kL2V2yG4GA0AGwBcCsPkLk7dxDsQg4oWwgED8EQP36VzSPA+5z7EkcIOZPJZz48Ac6HI+T9rliQG4hCNMUYa/+WMOHKjLDZyAXo9DLutb5zrQmfr1RnYLAIAPvBEEUkCBLFDpd0G7XVLODyLWpep1t3vWOZP3K3VdZkLP59KMYISVX0IBNFzf1KMwQ1MUYN0WAFsXwvCF1rv+9bCPvexnT/va2/72uH+9BnbP+977/vfAD77wh0/84hv/9wAQgPKXz/zmO//50I++9KdP/eo3v/IR2IL2t8/97nv/++APv//4x0/+8nt/bp9QgC34EYPBByB6hq+bI5TRPErYPBUQMGAALOC+QijAeF0wBrk3gARYgAY4gMeXgAq4gAy4gMn3gAIAgRIYgRQ4gRZYgRh4gRqYgRy4gR5YgRJQeeY3giRYgiZYgrOEBQpQADGgdDFAPgEQAxAwgxCQPjcgAAWgACokEKlgAQUAAZfAOAJ4gERYhEZ4ew2YhEq4hAn4gU7YgVD4hFIYhVQogSGYdyeYhVq4hSM4S/7AD+s2dXSxcnphcXWxcmZoKkN4hGzYhkXIhHAYh3E4hXRYhXZYh3gYgVe4dVzYh37oh9r2F2vohoRYiLYnh4iYiAqYh4x4h47/2IhWKIJ/OImU2IWBeBcBaIiauImwp4ie+InAB4mPOIqiSId76HOVmIqq+H2XiImDyImw6IagOIugWIqkeIu2qIGnKHKr2Iur2Ip2kYmxOIxtSIvGmIi5iIvKmIwAsIsA54vQSInASDKvSIzWWIDHmI1wyIzL2I2Q6IzgFo3i2IfTyB/VeI3oiITauI4NyI3u6I1VCI7UNo70mIXlqIbpmI+5x478uIjw+I4AmYHyiGz1WJAkeI/CqI8KOXv92JDFF5AQ+Y96KIkGWZHih5DnuJAL6ZAcGXwR+ZHeOJC8ZpEkCX4YqZEoqXsduZK8B5IuiYsiCWslOZPcd5IpmZIs/5mTL7mTjxiTo0aTQGmTN6mROcmSPHmU8UiRQEmSQjmUClmUK4mUUtmBPmlpSzmTTemU+QiVHTmVXgmCSnmVBpmVWomOXMmRX5mWVZloYsmU5ZiQZZmOZ+mQaSmRjLiWfdaWFkmWcUmMc9mQdemVeAlnelmRfNmXsfiX/RiYdkmKgzlmhTmWb5mRiMmJismPjCmVj2llkVmQiTVkzkVjvEVeNAaXlTmMl8mOmdmYUriZSdaZ9ehizDVkISaapnmasJia67iaR+maOgab9Khc99Vhohlkw1mc+Iibfqmb2cibrJmUWAic4iicyLlf+DVj+XWbyqmJzNmcz+mcuhiW0v/5i0vzYcy1YKEZXpKlndtZiN15jOD5nVQpnuOZit0SA+B1X6DZXMT5YvfFnu0pi+9Ji/Hpkr6JYvUJjfcZYqN5nel5nQAaoGw4oAQqnwUKltGZoOR5M+bJnx6KnP2ZnBLKnRRaixZ6orl4oBWmob0omzCmni9GY/UVoSP6hiX6iRf6kSoqYCy6oRwqY+YJXg82ZKtXoyR6o4qYoyi6o+3Vo6oIZHwBo/uJF0Z6pEiKiEoKkUx6XU5qn9MoVlVqiFeapChapt9In126hYcZpgc4pshopnCKh1tKXGkqjZPJpgLqpnMYp3zammhapye4pnhKgHoqh1lqoXP6WoD6h4L/Oqj7WKjb2KeS6oGJqlmLCoh36qhGCKmReqjuWKmDdankOEu+0ApNhBfKEIZ00wqkRDfK8KpKR6OaeoicuoSe+p2galeiyoVz4w9AoAAWYAFmR3gKAADJcwMFYAEKMAN5tIIrCARCOKs2WqtJeKuf+qe7Wn5zQwkQQH9AAK13UQi2gHaOYETKAAEwqH4cJqvSypDUWq2TGq8WmKtola1aODeJUz6mx3CHI3oCMQNR4DymMEnU2K5t+q7tKK8K+4D0mlX2ao9LU3h0w0AO9EAKYArOowAKAITmaLAGiLAJa6122bBJ9bCByi0cEAgqq7L6FgBiR3boU7F1oQwcsINH/8cP/PBwNseuHquSIOuPIpui2GqyJsktCnADM5C0MwCDkHd0AJCGdaF4ygACRuBCZNivItqzuPezDriwC0uyOkW0KNgwV4tEAhF1pxq1yYNGQJC2hicA+sazWvsFXAu0XquZQyu23Tc3vvBH3Kp/L0gXhTAHBeAEZTBJMlgGc1AGUGMKUUAJhUACJBCtc7u1dXt8QTuyeau32+dde2EKNwADMBgAWGA6UfCt39pAToC6QMA1vmAEMBADWFBFWVu5tHe5mHu38gq2LMW55vdMV1skwXu1cqu1uGt8mSu0Geq7FxkswwBZwVS8PXu8D6m7eLu8zFu00yi9Hku9xJe8///Iux6VvePXqLZLt94rfOBbiuILUeTbvNtLmefbeumrvtY7qe0bUO8bfuZru/Xrkffbm5vru/1buf8bigHcp/k7T/urvcDIvQZ7wMiXwDu5wOTUwKyYqfPrrhLckhQcpxZsTRh8fhq8wbHXwb23viE5wJxbwHOLwh6swnfJwnrrwsYLwxogw8sYwsg0wntbwibssyiswzOMvSNsw9OLw0QMkzQstkjcvUr8wQbaxER7j1pwCIaRxVq8xVzcxV78xWAcxmI8xltMA2Z8xmicxmq8xmzcxm78xnAcx2p8AHRcx3Z8x3icx3q8x3zcx378x3jsAivgAoJMyINcyIh8yIr/bMiMnMiNvMiOHMmQPMmPXMmS3MiZp3nTeMVk3Mme/Mmg3MlyPMqkXMqmXMqAnMqqvMqsvMqX/MqUDMuWHMu0PMu2LMsukMl7co8BgMWh/MvAHMxifMrEXMzGPMqtnMzKvMypjMu17My3/MzSHM23rMsIVY6cLMzavM3BfMze/M3fzMziPM7jDM3mPM3nTM3pjMjWnCe87MvcHM/yPMzgXM/2jMzknM/63Mzo3M/q7M/rjM7tbDObDM/zfNAIbRj3vNAMvcb7/NAQnccB/c8UPdEWfcgDfSfvnNAcfdAN/dENHdEiHdEXXdEAfdImTcgZLVMF3dEuzc0gHdP2PNI0/63PJX3TKI3TKr3SonKPBv3SQA3KMj3U3lzTRi3OOp3UOZ3TPN3TLR3UUP3JRD3VxHzUVp3MSp3SWb3OTQ1VI2Na/ZlgtDlkPx3VZv3FVJ3WpHzVbK3KW73UWg3XudzVX/WjUzrWQEpZ2XzWfO3Fav3XcNzWgu3Hbx3Xhm3RdF3XXw1jQsZfUipevdzXks3FgF3ZbDzYmK3Hhb3Zcg3Jid0jUAqiHxqjHbrXkz3Zlp3aaJzZrG3HnH3Yna3On+1W5emfDBaa5gVdAlHWp33Wqv3brR3crz3ccj3bO7JhqPWiDbZgQarbpt3bfP3bqh3crU3csH3dr2zcfFXbw3nb/P9p25LF29AN1dKd2tTN2tad3gCt3TniosuFnUIqXjT23OMd1eVt2eed2eqN3bHNzuwdWi5qX/E9pGRd331935Wd35i93wz+zP8N4MLp3frVYMVJ3wYO1AgO2Ao+2A3O39j94PWibbsl3hfe0Rn+1xsu2B2+4p794FZM4iWe0Ceu1ine1izu4Yjt4nOjDF7TCvyqDJ8QCK3qC2AABkxUF47ABYHQRDAe4x4941Rd42x941QO4jtuAQBbAP6arAKQPL6AOEagrgEQBRCABRxwAwJh4U4u41A+1VJ+1VTe30yt454DAiv3OQxXRU/kD0bQtgHAeQpUAPqGOifU5Gsez23/7uZvftRxjuPrTecjMwMLFwDEo6pkiHYWEAh6BAEBwK0vRwJco+aHPs+JTtSLzuhy7uiqHslWvjTjUz7KgEX8inZPZHpXE3cCkUK7PeovXepDfepG3egr3urCUjisyzUBgECGR7FLp7YCYetw9z5REACizusw7esxDew1Leypbs7EHiwWsLjibgq5Pu2UXjwym+mb3ukcd0DIbujW3s3YDtLaTtPcvuoODunB8nLBC3flAwagQ+mtinYpRxdAMHio00Z9mz7VHu/CPO/0Xu8ife8M/u0igw4WAANhrjoua3ROMAMFQAIz0EBffgO/euRgkG4W0Hm77vAIDfEfLfET/9/tNI/vO/3fs4QOgVAGnvQJR/4JJWR/hjcHc1A1dfEJZTBFaQ7vLi/UMM/QMk/SNU/xsWzxZBu8YtgXWJ8XWiAIhtD0pP70Cx31EE31Ns/q+n6JVQD2Ty72M032+2z26W31Iq4FX8/2iO72bw/3+Sz3U9/iOI/Nd4/326z3e8/35fz3Z9/fdB+Ig0/4D2/44Iz4fa/4fn/z7G3Fjw/5wCz5k0/5ib/4op/jgV+Om8/5oez54Qz6SG35rn/Yje9sdo/6ka/6xsz6rT/6r8/VaX+Jp0/7nmz7x4z7zHz5wx37wjb7wP/Lwn/7xK/Mxm/5yC9sv7/8Y9z8xfz80L/73P9f0dOfaspv/VKN/aes/Vjd/RT//alW/eIPxuRf/ubPytF/9ur/aOHf/mT8/qYc//KP/gCxwoULgQQHFkR4UKFBhgkbLnRYkM9EihUtXsSYUeNGjh09XgwQUuRIkiVNnkSZUuVJQ4JcvoQZU+ZMmjVt3sSZEyYNnj19/gQaVOhQokWNHgV6QOlSpk2dPoUaVepUqlWdPsQaEeLWrFy1dgX7VezAj2XNnkV7duVatm3ditTSUudcunXt6kSaV+9evnut/gUcWHDgsF4NF0Y8NvFhh2kdP4Zc9u1kypXl3sWcWfPNvp09f847WPRo0n8Xn1acmvHq05Fdv35dWfbslHH/N9/GvRn0bt68S/8GDhw1a9XDjReHnVy5WdrNnYe8nFv6dM69rV8PHVz7dtPFvRMHf5z1cvLlMT5HX9k2dfbtd2KHHz8pd/r1r34Xnx8/fvP9zacH8K3o3CMwN/kOlM8+Be3TL7z9HITQBf8mVC5AC1dar0ANb0Oww+sWBHG7Bkd8kESyKEQxsgtXRGnADV+sy0MZdwuxxt9MxLHEElPk0TEWfxwpQxiHnGtGIzuzMUnRcoxQxyYX6jFK5oCk0kUir6TpSC31UrJLwJgE00nEpCSzIyqBFBJLNWXask2jvISTqjCfnBOsMu/M6EwgrVxzTTf/FCpOQaGqU0xDx8Mz/1GK9GQxzT77BDRSnwallKlC6Tx0TEUVZZRFPh+9UlJRKyX1UlPF3JRTPf9hlVWTWhWpVVgDkPWfkBwFFUtRJSW10lMxBdbOVPFctdaSarUVWWVF+jRXGHeNtFdKf6WWv2HvLFZWkpS1NSRtZ721WWc3hBZQaQetNthMJbq2zGJp1dZbV+Ed6VtwAxB33ALL/fNcQdMFWLF23T1z3ntnBRfheKsYWMomHoY4Yoknprhiiy/GOGONJx5BBI8/BjlkkUcmuWSTT0Y55ZCXYLlll1+GOWaZZ6a5ZptvhjkPnXfmuWeffwY6aKGHJrponwOMYVlYDza46W5pldfWKgTJo/9hHjfGOmutt9ZaZa+/BjtssHEmu2yzzzbbaLXXZrtttgOcwR9j6YX3abrrjvpVqam2OkWu/wY8cKzFJrxww71GO3HFFyfbbccfh1ztbPGO1dWE7a5876r7plBwzz///HDRRx+dcdNPPz1y1VdffdVLYAABC3/kDckXIDgAwhdbo5ih9xmi4OcfIHwHQ3POOwc9eeUHJ7155xFHPXrpG2e9euslP9OXAuYwxQIw8sY9FSBQCMAfSgoJJBALnJBbgTLS/8T44/1bvn77KX4+f/1Hnr5//2O+XgAF+LMz+cMJN/CHPwoBAbqZogDoCAA6CtAKeflCALaYnQIwOJKpbW7/fua5Xwjvtz8S7u9/J/zfAFU4QD3F4HsBsKAyRjIHEpSPHxwIxOxCgoUahkQBMJgBFtDBjwB08IP9EWESlVdCJjoPhU+U3gqlaD09cWAOs0MHAGwhEn9wIQYiQUEZdBgAC1wxJFFwRCBAQILZGfGI5VFiHD3XRDqKDop3NN0U9ai6AAlAAQX4owLYF4AwhkQZAFDGGMtAvpCQwIwB+EQBZEgSZQiAgm5843LkuMm/1dGThMNjKBO3R1I6zkLKQCUqIRgAIBihfJEcYwAcwcDyKeASIgECEE5iyyLyLZOa5GQwmfdJYqpMlMcsWymVuTYLxVIkl1CAMvhxAyPMbg6f/4igAhwRgAWuUhkFwGbtfFG+MkSzlx78JWyEuc6MFdOdKENmPG22THoSjVFOKAAEODDOAICgDCFxhAIsoABKiGQOtAxJJCGgAAgU9JzpVA47JVqxd1aUZPLEqMzquVGg6SmByuCnSdBhCyKGxJkhQYcvpCkSTELUNROFacQsOlOQZdSmLuNoTnnWqeckkIO+dOlLYxpTmhb1pkfVaVJ5aqGWBvUxQyVqUWd61JsmVadLDVBTnZoWqMJUqlOlakatmlOsAkirWz1LVyf6VYuGVaxj3WhZ03NWtJZFrRJla0XdilG4xlWuz6FrXT1yV3bm9Z17lWdf6/lXwAJVsGklrP8wDetOxMZTsfRkrHMC+9iNRFaykyVmZZF52WVmtjmb5WxGPBtM0IZWtKIkrTJNSxvUpvYiq+Vkaz/5WtjGlpSznU1tbVsR3G5St57kbSh9+1vgVka4w51IceV43DomF4/L3WNznetY6HZWukqkLh2te0fs6lG7lHkudL8L3vAycbxQLO8UzzuZ9A53vUlsr3vfi8L4SnG+b6mvbe8rwvyWcL/87a8K/+uWAKd2wCEsMAkPfMIEK3jBbGkwZx88wgjrb8IprLAAL4zh7tp1w/XrWIef92H/hVjEI15LiT9y4vqpOH8s7p+LAwhjlfyDYTLuCI2XZ+MV4ziKOqYij1P/kuHHCnmJRG6ekY+MZNYpecncBbJFnJw8KEdZyqijcvWsjBImC3bLoOsy6b4M5jC3bswmKXNdzxy6NNtxzXlsMx/fXJI4o3XOc6zz4e6M5zxDbs98xnKWKfJnwQVa0INeXKEjd2iS9HmrjA6cow0H6UhL+nGU/ik6FU1cTHdS06Dk9Cg9bUpQh8TSTi21qU8dtlSretVta7WrEz3qWHNt1mKrNdpu7bZcP3TUt+111349tmCnbdhvy/Wrg5psZS8bes2m3rOx12ppu5TaWbP217CdTG1vm0pzq1e8lGasbkP028MMNzzHjbNym/tHy0q3vdS9sF0r+t0bi7cx532z/3obrVgpZRo/fMEPuaGbVQpnuPyOTep/YyzgKRs4wQtuz4LhUwEkkObT/kEJhtqSVWUAJCAX/o9PQGChjiBiu9NZ8XZe/GQZn+fGh6YnaI7zBkCwGzq0yY9AQICIWAD6P3zqDwhckRIPNPbEF03zi9n85jinmc53DqAYNHxWrXxlAew2SyLyw+RIn12rHMhwMgYi6lLnA9WrbvWSYT3rWg8a0rw+rzDa6pArDckiu+VIf2ChAH4MQPDU160gvl3qcrcY3etud43ivaMA4gAlNK95X8jNiljUIr2wkDRaweCF0jSFAubAjzlwIFk3cILjJw55ikqef5QHoOUJmB4KKP8ABb///QtdyCpfIJJeNGwVDhne8Ch0vRAWaHgM/inzX9Ief7YXGe5zr/ueNdMkB2TVLOXlj0gGT4KpqNs/DsgPWwiAVma/JfUzaf2JYT/72n8Z9492JlsUIBCp8J6QuAG3CwAOMAJbMIIeAoNLaAWU26YAgIEbsAUnsICY67csoz+Jsb+VwT+c0r+d0hNKQAEOiAIdcoIH9IUbsIAb4CcesoAZeMAAUIYb4IAZ2CLZO7YMlKkN/JgO9MAP1Jkxmx2fYqkLBDIdhBge7EEfZBkg3Jlik783QsKHUUKPYcImdMI8gEIjlLEpbIIqFIErXIIs1MJo48IS80IwFEMy3EL/UZu9KVTDK2TDXGMDfbDDO8TDPNTDPeTDPvTDPwTEQMzDeyDEQjTEQ0TERFTERWTERnTER0TEXZDESaTESrTES8TETNTETeTETrTEeQDFUBTFUSTFUjTFU0TFVFTFVSRFQXTFV4TFWITFYqtDWbTFW8TFQITEXeTFXvTFXvTEYBTGYSTGYWTFY0TGZFTGZMzFZnRGZ6TFZ5TGaXTFX7TGa8TGXSzGbeTGbgzGZQTHcBTHY6TGcjTHPYzGc1THcszGdnRHd/TGeJRHeRzHerRHe1zHfJzGdNTHfrzFdwTIgOTFeSTIghTGe0TIhERGf2RIW+THhoRIQBTIiaTIRDTI/4vEyEtUyI3kyFKMyI8ExIcEyZG8w4o0yYrMyJTMyI5kyY4kyZfEQ5GEyY88yZoMSJXEyYJsyZ1MyJmESZn0yYa0yaFsx5w0ynjkyaSsx6AkSaBkyn4kyqi0xqOkym1UyqsEx6cESafUynWUyq8cyKoUy2/EyrIkx66ESK5ES3MEy7Z0xLGES040y7lUxbVsSLW0y2l0y71UxLj0S0yky8A0xbz0R7wkTGfky8Q0xL9kTEoUzMcUxcPUR8OUTFxUzMtszMyEzM2szHWkzM6UxctUzMxszM2ETNA8x89EzVcUzcQkTcY0zcdczXJUzdnUxdbcy9f8y9gUTNvcRzr0zf9nxM3c1M245M3ADM5nrM3k5MPhdMviNM7jnEvmbMblpM5BdE6whE64lM7pvM5btM7vtMPs1M7tFMvuNEvxdEjgVE9YJM+vNM/zRE+sbM9YDE/xfE+pjM+qnE/6rM9XvM/vzM+o3E+q7M+r/E8AZc8ElcgBHcoCPcoDVUoGFcQAvU4HfVAIzUkJTUoKDUQLpU4MtUkN3VAO3UkPDckFRdE9FNGaJFGcNNETXdE+BFHmbNGTfFGVjNGWnFEaVdEeLckbRckcXckddUkg1cMaTU4hHVIivUgjPVIkjUk9QYdAmIOFM4lPKANT0CF0uIQ5cAR00KFL2LxWmJ1alNLxZNL/iXRSjIRSjkzTKaUSdOAAFACCAuBSknACCDACCJCdAsQdDoCARAoABQCB34uCkEDTNF1TNm1Tg3zTjYzTO9STOajAfxi9kqqdArCFf2gFSYKh4PkHDnghDYqlRZXSRhXIR4XUSO3JSdUHPbmBEvRUAdDUAFg8VrGAQkigVoEBLDAoR9AdRYVVVb1JViVIV33VSdUTEigDVjmkkAoAMIgBIvKHQnKVSOInC4gBFCiAfwoAVEVSYwVIZE1WZb1HWI1VAIEAJ3BXd4W5AHCk4KmkzhOJ0Uu7QgoJW1AAXlU6Ub0EARgncQVScn1Hc51HdE1XWA0QC8CCh33YS5id39lX/wFAh6dpPZHYVVuxhaaTm6j5B14i2B41WHhEWKRU2KVkWK5DlsAjAVtZpNlBJRgSWJqVJl+AgGc1GFppvy0a2Rkt2aI8WW9MWZVlVpadG2WAgFklKKUjVVq5HSywACOwFUHVJSCYgwCghBiIAidQgGoK12INWmwcWqItWnFU11VRBjCIglTQIUdohYcLBCfwV3+YgzkoA7y9JWWYgyjAgktwlZ9d0bEl27LlxrNF25Wlkl5VGJDtlgRi3PSDFcFFUcK9RsM9XMTNSsW9t5alm5YF3bmhXA+13KnE3GLU3M09WkaZF/QYXQot3V88XdRNXWVM2x8d19gFxtk1xtplRv/OpbTXZVDd3V3eJUvfPcvVBTXhTVDiDUvj9UTkXUjgPTTm/U/n1UbojV7pZcXbbTXrrU/shUTt3V7urUvq3TPwbU/xfUTy7UTzXUXvXV6xZV9GdF+5hN9UlN/gpd/67cv71cT81V/0fTP1VU//tV8AzkQBRsX9rd7+ReBDVOAFZuDBJOAxM2D8jGCLnGCNrGCPvGAry2AB3eBI7OBP/OBWDGElG+ELLWEJPuFKTGEVVl7+ndQXhuEYnsQZHkUHTl8IfmEddkweDkUfLmAgLmEh3mEiBkUjxmAk3mAllkQmbuIV5rEWDlEcLkQp3gUqngcnFmEojmAu9mIwZmExRmAIMqZiM4axgAAAIfkEBQMAAQAsKgAeAOYBRQEACP8AAwiEEwAOnDsHEyJcqLAhw4cOI0KcKLEixYsJDRaEs0ejwY4EP3rkOBLkRpMiQ5JUiXLlyZIwWcY8SYXKmZpwat6kktMmTp0/ffIEOlRoz51HgyIlmrToUqNMo6qhMjUAFatVr1LVipXrVqtdwX7VmjUsWa9lx5pdq1btnjt7AryNO1cuXLt079bdq7dv3rgB4N4J/JbwYMGGEyNeXJjx4cICXciQPLmy5MuWM2PerLkz58+eQ4MebRmKaSmmU6tezbq169ewY8uenZqG7Ro0ZNimgVv37dy7ewcH/ts3b+LHjQsvPlw58uXJmzeXYaK69evYs2vfzr279+/gs6f/SdOmvPnz6NOrX8++vfv38M2j8ReAsoz7+PPr38+/v///AAYo4H20FWjggQgeuNuCDDbo4IMQRijhhBRCGN6FGGaoYYZmdOjhhyCGKOKIJJZo4okohkiffQO26OKLMAaY4Iw01lhghTjmqOOOOm7o449AXpjikEQWaWSRK8ao5JJMCmjjk1BCyeOUVFaJY5BYZpnlkVx26eWQSTYp5phMRmnmmQZaqeaaa2rp5psYfinnnHOGSeadeMqI5p58ssbmn4DmCOeghGpH56GIEmlnnow2SmCfkPIZ6KSUOljopYUmqummIi7q6KdkRirqmZWWWimmqL7J6aqcegrqq0uO/yrrk6bWCmiquGLJ6q6Iugrrry7OKuyMtharZq7I+sjrsnL6CuyzAA4rbZrGVstjstjGyey2RzoL7bf7TSuubNaWK2i26HrH7bqK1gfuu/+NK69r5tY7Ybr4bsfuvid6Cy+48wasmr0EP5jvwdfxq/CI/v4LrcAQFyzxgghXvPDFHzbsMLAQCzzxxxUjjPHIGm8Ma8cBfzxxyAePjHHJJoOK8rwqS8xyvi5fDHPMjs4sb80F34xvzgvvzDOjPo8LNMFCp0u0wkYfjWfS4i5tb9PoPs1v1FKHSrW0VteLdbZa78t112J+DXbY5Y6Nbdnsno12mWoLy3bbbiML97pyz/+tZN12311t3nrvvW3ffsMI+KyCD044roYf7m7ivy4ua+PGPg555MsiTnmLlo+KebGap8p555N/LnPokY5ua+mons6r56rryXqfrtcKO6ay70p77fHejnvupe5+ae+s/g58f8IPTzylxmeKfKsBrLB8z83v+fyp0Q86Paf8pH791NmjuT303cP5/abKj59f+eafH2j66q+faPvuPwp/lPLPT7+b9ruf+PKXtv3xr39/+h8AA3go/OXPgAdEYJsUuCUG0smB7oOglCQ4QQoGyYIXHCAB6abBGnGwgx78EQjrJMIR/q2EJjyhlVL4wRV+CYPjg2EMZUglGgLJhjdsoQv/FadDYvGwhz5UFhC7hMPrFdGIR7xWEje0RCYKcYjBeiKCojilKVKxit26IhYHpMUtcnFHXtQQGMPIojESsYw3OmOP0qitNbarjW7MIhxpI8c50jE8dkSSGPMYvD3Opo/n+iN4AnlHQsbIkHxEZIUUCUhGpqiJy4PkISVJIUou0pIowiTwNEkuTt7Lk+oCZb8G6Uj+kDI2pjwlKrmjylXisZXReuVrYimhWXanliYSZe10uUteWsiX+gImiYSpOmLSy5gGQ6ahlMkwVuLyfc70EzQtJc3sULOat7wm87K5mm1ys5sJ+6aKrClOGZCznOZkEDqxo851hrOd+nnnwOJJ/7F5WqeeIGLm5/RZG37uxp//BKiHBEo5gprGoAdFqAkUulB2itOhUICobSQ6UYqagaGJw6hGacBRj340AG0Yj0pXytKWuvSlMI2pTGdKU5YC46Y4zalOd8rTnvr0p0ANqlB3OomiGvWoSE2qUpfK1KY69alQTWoWpkrVqlr1qljNqla3ytWuevWqtQirWMdK1rKa9axoTata18rWsgqkPDWNq1znSteaDvWueM2rXvMa1b769a+A/asVBkvYwhr2sIhNrGIXy9jGOvawbY2sZCdL2cm+NaV1zaxmNyvTvXr2s6C9a2BHS9rS9vWxqE2taler2sq69rWwjexlOUvb2v9uNrS4zW1uTcvb3vaWtcANrnBRG9viGte4s7Wtcpc7U90697l49a10p+vX4Vr3utc9rna3K9nkMve74B0PdMdLXp5S97zoVSp218ve1HL3vfA1q3fDS1/blve+5U2vftPb3v76F7HxDXB851vfAmsWvwh+7n4XPN3/Ovi/Ao7wdgls4ArLNcEYxi2DN8zbB3uYvRIOcXEpbOESdzbDKN4rh1c82g+72LoijrFrSWziGrc0xTiOLot3fNoX+5i1Mg5yd1GKWRsb2aU5TnJQeczkp/74ye4VspTVSuMj21jJWO5pk7e8VCh7ubFTDvNZq2xlE2f5zDnlspqP+uU2J1b/zHAeK5nLbGE023nNeHazngsb5z7Pmc4GtjOa8bzmPRu6z3H+M6DrK+gzE1rNht4zouGs6EWHt9FZfjSXI63nSYu50pb+LqaxrOktc9rNng4zqEO93FErudRNPnWbUz3lVbPavq7OMayZLOsv01rKtr41bXOt613vuNde/rWQgy3s2xI7xcY+NrKfrOwgM7vZmX02tKO94mlTu9oxvja26aptFHO72972MbjDTeRxV7jcGT43h9Ot7nWHWNzujiu8MSzvDdP7xfa+d7vzzeh9I7jfDP63iwMuYXwTvLkGxy/CF6zwDzM8wg5/eEwjLvGJ67fiHr64gDOu8Zdy/L4e//84yB0s8gCTvOQ3Pjl5U87flUO45fB9OcxXKvOZ0/y8Nr85zrkbgC7Adeet7jl0fw70oPd36O/VOdLToPSlM73BTm8v1Ik+8KnXtuoKvrp0s671rWtX6kgHu3PFPnayr9fsZ++61zmrdt2y3bdufzvckSv3uR+47hq+e4fznt29j7jvfq8r4AMv+NISvvCGhy3ad7740DbetI+HceQlj/jEz7XyoL284zMv3M1z/uiezzboPSt60pK+9KafcedTb9fVq7j1gX19cGMve9TT/vO21yvuc697IPOespOHefCFP3zBFn+1x0f+7H9/4uWLtvnVfX5roz9k31O/9tYfKv/2s6994nJfttP/vsnDL/7xR7X8UT4/W5Nfcva33/1Ohv9j5d9W+mvc/kKFf1Clf/vHf2vlfw8HgEsmgE5FgI5lgAeYfuoXcwroUwzYgA7IWBBIZRI4gTxXgRZ4gUyVgRq4gWiFgAQHgiEogupFgoplgifYgR4oXipoXizYgi4IYDAoXzI4gzVogzeIVDn4ZjvoVj3ogT9IVEEohEMIWUVIViiYb0moU0vIhE3IZ08oZ0c4gVOYZlVoVFdoWFmohd43g+vXhcDwhWAYhoQ1hmIVhe6GhjelhkXFhm3ohrUAh+Mmh2lIh3Y4WHiYh1uofnxIh5Pwh1YQiHqIbYXoh3//qIhiQAySOAySWImWeImYmImauImc2Ime+ImSeA+iOIqkWIqmeIqomIqquIqs2IqmuAywGIuyOIu0WIu2eIu4mIu6uIu0GIju8IvAGIzCOIzEWIzGeIzImIzKOIwBoAfGQImgGI3SOI3U+ImueI3YmI3amI282I3e+I3g+I2+uIzkWI7meI7l6A+ROInV2I7u+I6cuI3yOI/0eI3heI/4mI/dOI7o2I/++I/KGADryI7wWJAGSY31mJAKqZD62JAO6ZD8CJASOZH/2IzGQAzQeJAauZHxuJAe+ZH2+JAiOZL7iIcUeZIomY4DmZEc2ZItCZIwGZOnSJI0WZO1GJEp/5mTOgmMAmmJLOmSQFmQMjmUMmmTRmmTOLmTSnmSFomRQfmUB0mUUvmRR1mVI5mUS5mV/6iOlfiTUPmV0jiVYpmQVlmWDYmVWpmW5tiTXQmWbhmWYxmX22iWdHmPaKmWeJmMTemVb9mXmiiXgImNdTmY3niXeXmYxMiVBOmXjJmJgfmYrEiYkqmLhomYlvmLbLmYjbmZxACZnomKkxmatliZl4mYe8mZqBmKn7maoyiarimLpFmaeamYTpmam8mauPmauhmbsqmWmVmbtumXuMmauvmavNmbWnmawdmYw7maxemax4mcS0mbfLmcUNmcn/mcohmd0rmTv1md1gmU2P/pmdoZmtzZnTmpnOH5luMJmeU5meeJnihJnevJnu0ZmO8pmfEpnxT5nfUJlveJn/k5mPvJnxKpnv95nQEqlwNKoCZpoIhJnwmqoAs6lg1alwUKof7onxMalBUalxdKlxmqoeiIoB3qkh9qoSFaliNKouYooSeKoik6lSvKog/qomnJoTHKkTNKozValS2Ko8toojuqkT0qlT8KpDcqpNO5kkX6kkc6lEl6lEHKpMioo09qkFEqpVOKlEtqpTpJpFkKj1talF1ak1UKpsUIo2MqlGUKk2eKpl+qpij5m20alW8KknFKk2lKp8KIpXfajnmqp3t6lXPqpxMppoGKkIP/6pGFaqhuiKg5yaaLWo2N6qiP+pB9KqnuAKiVCpeXSpaZCpGHyqkb6ozA+amWGqqiOqr6uKmSSqmqGo2s2qquio+wiqieOqueWKv1eKuvWqqmWqKoCp682pG+Ko/Amo+56qeyeqydmKzzuKy4KqzDupYDmarQGq3SOpfUGo7NSqeKuq1/2a3a+K3gaq3XSo7PSq6Oaa7ciK7iqK7rGpDZaqzuqprwGpLyWpKRWq8VWaz5ao37yq/9uovhqqbtOrCVWLAGe7C5mLBguqsMq68Ou4oQy4sSa6XjWrGdebGRmbGUSa8Ae4wLW7EgG7Iii4sby6QUi7Ipq4orG7EkW7LF/9ixMBuzoDmzt9iyQnqyDKuzqcizPVuzNsuM9+qx7yq0r0i0N2m0RxuMOBu0TNu0TjuLPoujQDuwVWu1VxuLWeuiL0u1XduaXwubUBu1mCmwSru0ZXsPZ4u2/6q27OqkbXuJb2u2cbsMYUuiY8u1eQu3e8u3aau2Uwu4eTu4hDu3dKuMW5uvgSu4e9u3Gvq3kBu4iku5EFp0PLADnvu5oBu6oju6pFu6pnu6qJu6oPsErNu6rvu6sBu7sju7tFu7tnu7sFsCuru7vNu7vvu7wBu8wju8xFu8vpsByJu8yru8zNu8zvu80Bu90ju9zBsH1nu92Ju92ru93Nu93vu94P8bvtorEKpbvuZ7vuhrvri7vuzbvu7bvsYbv/I7v/Q7v9R7v/ibv/qbv+Lbv/77vwD8v+SbvgRcwAacuu+bwAq8wOtbvw78wBAcv/s7wRRcwfcbwBicwRrcv0WHAwf8wSB8wAw8wiRMwhF8wiiMwha8wizMwhv8wjAMw/QRwjRcw+Vbwjicw+ybwjzcw/LbwkAcxPgbw0RcxP47wDacxEq8ujrcxE6cuz4cxVJ8vEJcxVZcvUacxVo8vl3gwUv8xTb8xGL8xFNcxlN8xWh8xVu8xls8w2D8xiE8xnKcw2Zcxz2cxngcxGy8x0WMxHD8xwQ8x4I8wnZcyCecx4i8wnz/vMgv3MGA/MjoO8iSnMCGXMkOnMiYPMGMvMkY7MaQ/MkIPMmi3MCWXMoSnMmofMGcvMocHACg/MqnO8qybLumXMvEm8q4LL2svMvg68iw/MuhO8vCLLu2XMzAm8vI7Ly8vMzc68nA/MzDHM2ua8zUzLvJfM3Ky8zajL1+/My/LM3gXM3ijM3kvM3m7Mve/M3gHM3iXM3kjM3mvM3OnM6vvM7s3M7G/M7XHM/a3M30/Mn2PMz4nM/6jMz8zMzo/M8AHdCzPNDFXNAGfdC8PM8K/cgM3dAOXcsQncsSzcv+XNF/fNGynNEavdGp3NG7nNAgHdIiLcokbcomfdIovcoU/73Sb9zSLv3SlhzTqDzTq/zRNv3FOD3JOr3TPI3JPs3JKh3UQj3Ug1zUlXzUSJ3UjFzTTK3ETv3UUF3IUp3IVM3IQH3VYZzVc7zVXN3VefzVi7zUYj3WZD3GZm3HaJ3War3HVt3WNPzWchzXdTzXeFzXexzWeA3Ceg3XfF3Gfp3GgM3GbD3YhF3YZHzYZ5zYarzYbezKjo3VkO3Ekj3ZlF3Flr3Fgp3ZBbzZnN3ZUfzZVhzaWiwQNUDabm3aOIzaqa3aQszaWewPXfDasJ3Xsk3HtH3Htq3HuF3E9OHFvf3Yv13CwS3cw93Cxd3HmJ3cyr3chNzcKfzcQBzdRNzY1P99vtbN3Nitwtrtwtwtw9P93QYc3iY83odc3op83o2c3uodyOzNwO793vBdwfLdyF1c3+t93wuc3xG83xbc3xt81wAeygJOyQT+wAbO3wiewaO94Kbb4Ar84BAe4Zo84Rjs3RZ+4Rj+vhp+yRy+vx7eyfQd4qo74iRe4vR74iie4gBc4Swuui7uvjAe4zLOvzQuwP994zec4zu84z/c40P84/6r4EKO40ROykZuvEie5Eouvjbe5J775FAe5bc85dRb5Rwc5Fgey1p+u1wu5V4+vWAuvkw+5lle5rR85l2e5tG75uF75VgO53Eu58JL57ps598L4m6+A3peu3w+vH7/XueA7r1t7uaFTruH3ueJ/ryL7r143uSPPruRHryTTumVzr2C7uiZHrubfsyd3ryf3swrPujBPOpQXOq9e+qonurju+qs/rmu/uqwvruyjsW0zs1ifuutnuutu+ux3uvZ/OvY2+hjTuzTbOy8juzJq+zcbOvC7uzFDu26K+3TTu3WG+rNju1PoO3bzu0Z4O3Wy+x5Lu7kXgLmfu7ofulCLu7jTu7vju5xAO7rju3tfu/o7g9nkAIrMPAEX/AGf/AIn/AKv/AM3/AOX/BIEPESP/EUX/EWf/EYn/Eav/EcX/Ei8PEgH/IiP/IkX/Imf/Ion/IqP/IS0PIu//IwH/My/z/zNF/zNn/zOB/zS7DzPN/zPv/zQB/0Qj/0RF/0Rv/zARDwD7/0TN/0Tr/0HR/1Uj/1VD/1K3/1WJ/1Wp/1Od/1Xv/1YP/1Rz/2ZF/2Zl/2SS/wT7/2bN/2DV/1cB/3ch/1W1/3dn/3Vx/2er/3fN/1Z//3gB/4Y5/2bl/4hu/2c5/4iq/4eN/4ju/4fR/5ki/5gl/5lm/5hH/4mr/5Dr/4nv/5Uv/4oj/6WD/5pn/6Xn/5qr/6ZJ/5nP/6sE/woD/7tG/xpH/7uE/yqL/7vC/zrP/7wA/0rh/7xK/5tX/8tZ/7yp/7vd/8vR/80B/8w1/81N/2yH/9n7/82j/6zv/f/acf/eC/+tNf/eTf9Nh//om//erf+N7f/pEf/vBf+eNf/vT/9uh//1W//vpf9+7f/wAhQeBAggULLkGYUOFChg0dPoQYUeJEhgHOpFiRUeNGjh09fgQZUuRIkhuRnESZUuVKli1dvoQZU+ZKETVt3sSZU+dOnj19/gSa0+BQokWNHkWaVOlQik2dPoX61CLGklWtXsVacuZWrl29dg0aVuxYsmOXnkWbVi3SqG3dvm06NetcunVJfsWbV+/Wsn39/g27VvBgwkfhHkaMWK5dxo3r7oUcOTJgypUrF8aceXBizp2dLnYcWvRIyaVNc7WcWrVYza1dJ/UcW3ZD0KP/bd/OeFr3bparff/W+Vr4cIKzjc+ujVu5Y97NeQOHDpz49NfHrXdOvlw7XefdTUcHr5r6+MzXzR/Ovl29Ve/tIYeHT5n8/M3n7UdNv16/SPf98cYHsC/6BkzrPgM/u2g/BbXyr0G+AoQwMAInhO1ACyPKb0ENc3OwQ5giBPEnCkc06kITHcpwwwU9ZLGlEF/ciUQZDTqxRoVSVHG/FndMCUYfb5oxSIFsJBLHHNfjMckflxQySCJtNPLI7ZLkcckfm5zxyRqjlHI5Kne00kcsZdTyRC67xO3LFsOEcUwSyzTxTDRtU5NFNl90c0Q4L5RzTtHq9PDOEPOkcE8L+/ST/zlAHRQUREInNPRARBNlbFFGG4XwUQIjNXBSSh+z1D9MM9WUPk7vC2AKFz7VMdT+Rg2wVFNPPc8iVlt1tT1YAZR1PlprPeNW/XJ1b9f4eiXvV/NsFVY9YnU1Njxkx1P2Omab1e5Z76KVdtrpqrXuWmyV07Y7bsHz9ltwjRN33NvKde7c6NIlbl12g3WXXHifk1c6eoWzFzl8831339369fdf1wKWrV2CQzP4YIR9U7g6hj1z+OHGItZtYoorbu1ijAfWGGKOv/NYPJA1Exk7kkve+OTSUlZ5Zcxa5ixjmLmTWTKaU7O5PJwVe3lnUHt+7+fLgi5saKKNVhTpvZRemt3p+px+S2eor5I6aar/spowrOHSeuuqup76a7DDFmzsrIs2m2u081J7bbbVctutsuMmbe7/6hbwbrzzxg9uvhn02yvAAxccLcILP3yuxL9avKzGC3xcKsMj529ysCo36/KzMtecc6w8/xx0CUVXinQETZcb9ZlUZ4311l2naG/YOZL9QdqBsv123CXSfXeNep/9d+CDZ2t44jc3nnfkY1J+eeZLdB5D6KM/fvoPq/fpesOyh6j46L3/HnyexMeefBS3534F9F9Svyf2i3L/IfONn9+l+te/H1Py15CAAAAh+QQFAwABACwqAB4A5wFFAQAI/wADCAwAR2DBgwQTIlyosCHDhw4jQpwoseJBO3sC2AmwZ2NHjh5Dghz5saRIkyRPqkzJEqXLlR8HBjgjc2ZNmjJxDtQpkKfNnDeDAh26U2hRoFQCUBGSNKkQpUqZQn3aVKpTqEubBqAaVSvXrFOxWt0q1mvZsFWbnoGzti3bt27jwp0rty7du3bz4t1b959AOnTwCB5MuLDhw4gTK17MuPFgWLRi0YocWXIsy5gra768OTPnz55Ddx4NmrTo0lakqF7NurXr17Bjy55Nu3brBg0cOMCdezdu3byB//bdOzhx4cWHG1+uvHny58ij+z6eu/ru69azY9+uvTv3797Dg/8fn30gYDp10qtfz769+/fw48ufTz/95fv48+vfz7+///8ABrifbQQWaOCBBj6g2wMMLtigAwwqCOGDETooYYUTXkjhhhp2aOGHGYKIYYQP8GbiiSimqOKKLLbo4osrmgdYfTTWaOON9Amo44489sgjgkAGKSSBJBZp5JFIJqnkkkw2ySSMUEYp5ZRSyogejlhmqWV8Pnbp5Zc6DinmmGM6aeaZaKaJJpVstukmlFZuKeecWYJp5513kqnnngWq6eefgJr55qCEEhonnYgmKh+ejDa6I5+QRvpaoJRWWmmhmGYa5aGKduppHY6GKuqAkpYaqaWopnqmpqy2miKnn8b/OueotI5q6q17qqrrrke66qursMoqLJa1FtsorsiKyeuyvP7qbKbBDistjcZWa2ey2ALJ7LapPuvtoNFOKy6X1pbrY7bo9sntuoF+6y6b4Y4rL3vm1vtouvjOxu6+fr7r76Z/zTjvwO7ZazCA+SYMG78Mr/rvwy3GS7C8B1fMn8IYs9bwxk9C7PGrAV858cgWl4xfxihzrDKSH7dsosQjT2vyzChnvPLNJLqsM8wxDzuzyTVjjPPQOrvMc8+y/lxy0AoPjXPRLR+N9KdKW8x0wk7fDPXHUk/dadUVX51v1itv7XHXXicK9sFi40u2ymZDjHbadK5tcNvpvs1x3A/P/023nHbbize6em/M979+/61l4PUOnm3hDR/ub+KKE8t4uY5jCznDkr9LeeU3Xo555shuzm/n7n4Oeo2iW0t66aazi/q3qq9eX+vVvo5r7LLP/mztts+Hu7G638r7ur7/HnLwsQ5fbPGmHs9t8s4Czzx8ztcKfanSb0v9rwKFkUcdeFzvafa0bi9p98x+7+tAcZRv/tfoi6r+qew3636rMs5Pf/2Ouh+k8qe//Wmqf/5TGwADKMBcEVBXBmQVAhNYtwUeq4F6eiAEIwitgFEQURa8IAbLpMFucRBTE/zglkLIqBGSqYQmPKGhPKhCwLEwTy5UFgwtJcNCpbCGlrshmP9yqMMdUqqHMwyAwIBYJyEOkYhCMuKlkPimHzLRRk58IhS1JcV2UdFNVrwitbLopS0GqYte/CK8aCjG0JGxS2bkIhr7pcY1KlFkbWTdG88VxwPN8U91tOMS8zjGPf6ojwn6o5oCSaUwEpJchrwXIomkyDQxckqOfOR7InnISdqmkpa8JMDuqMlCcjJAnqQkKAUlSjixsZSLOqWAUvnJVbKylS/KJCzXI8tZ0pI2trwlLiP2yl1uspcI+6W+gtmkYeaymMZsDzKTqczYMLOZziQmKaOJvWn6p5qyuWbHshkjaHJTPd78JjgXJk4lkZNFuoxmOvuzTna2k2XvVFE8jTn/z4vV0zX3TFI+9WnOc4Kqn/r5J0AD2quBomifu0RoQhWqMYYayaEPLeg5JZofilbUojnD6Ms0yk2OnsyjqgFpkUQ60m0alF4mvQxKU6rSCLGUNxCFZUxlOtOa2vSmDchpKXcai5lKwacMAmpQA7CGSDziqVCNqlSnStWqWvWqWM2qVqNak6569atgDatYx0rWsobsPGhNq1rXyta2uvWtcI2rWlNA17ra9a54zate98rXvvr1r3gdgWAHS9jCGvawiE2sYhfL2MYaViBN3apkJ0vZykrWrJjNrGY3O1a5evazoA0taAFL2tKa9rSmdaxqV8va1rI2AP4IwCQsS9va/9pWq5zNrW53K1bR+va3wPUsaodL3OKS1rXITa5yVSsQPSjittCN7m15S93q6ja42M1udo3L3e52d7ngDW94YStb6Zr3vFu1rnrXS1btuve9n/WufOdbWvHa976rhaxT0cvf/nKVvQAOsJXgS+ACo5W+CE5wXvHL4AYfVr/+jTB/BUxh9hr4wgZWsIYV7OAOO5i8s5WwiKNb4RJXF8Mofu+GVzxfD7v4vs197ohnXFsT2/i6Kc5xcFnMY+6++MfgBTGNh1zZGxtZszpOsm97zOThAvnJyIUwkaeM2yNbub1KzrJwm8zl40L5y8xl6n6pTOaqXvnMYdWymuHa5Tb7Ff/McGaskMtMZ6mi+c5dXbOe2ermPus1zoBGbIzrTOin4vnQZ92zov3MaLsG+tGEnXOh6YzoQyv60oBptKYhzWkpT7rMlcYzpi+t6UZzGtKe/jSVQ33nUS+61H4+9aMlreopsxrNrt4zrGMta0APutarvvWVc63nXfe5176ObYiBTWRhD5vYaja2m5Ed51Qze8bOtjK0oy3tLlMbzta+toizfeRta7nb3v72l2kt7nGT+8bmzjK6uazudQfAue2m8bvhHe8kz7vJ9YYyu/Pt333buN/+/nePA/7kcBN8wgYvMcJ1rPCFM/zHDn/4eSMu8YmnuOI8vjjGla1xCXO8wh7//zjIVyzyF/+65P09OYVTjuKVs7zlHh44zKUrcwHTHMM23zDOcy7mnce85wD++YWDruGhdzjjRrct0pOu9AIzncNOb7DOoy71qa+36la/OoKzrnWBTKIRXDev178OdviKfexkxy/U017ktVu37W5/e4vjDmN/RJbuJLb7ifHuXr3vne/i3TrgKSv4wRN+u4b3LuLt+/LF17jxvH28diMv+cmPl+SW7zrmcaz5HXPex54PctFDf/nR57b02D096lOv3LmzHquuJz3slyz74tJ+uYq/Pe5zz9ndA7f3vv99cisv/MsSf7PG/y3yiav85YO++ZN9PvSjL9rpO7n6rrU9//anqn0kcz+03kct+MO/+vGnt/yYPT/605/a9b/2+u7PKvzjL//40r++9pdf9yZj+ad/+1dW/ed//wdYAZhf+FeAVnWACJiAcrWAXtaAjSV+ECiBWEaBbGaBf4WBjqWBBciBneWBHwiCfSWCGfiAEEhVJthbKPhWKvhmLLhYzPeC5BeDYDWDNFiDfHWDOOiCOvhfPOhVPuhWQBiEQphYJJh/R/hVSdhWS7hXTeiE7VeEOxiFNTGFfFaFC3aFD0aEWvgIXJhnXjhXYBhYYvhYA1iGMHiGMpGGariGjtaGhRV8OiiHc0iHB2aHd4iHg/WE7seHA+aHgBiIgjgChDh+hv+YaHSYiHW1iINIhlr4iHfkh5kmiSlAiYKVg3CIiZp4HpzYiZ6ohy8oiqNIB6XoiYyYhXBoaI+4iqzIia44EFtgBbq4i7zYi774i8AYjMI4jMRYjLx4CMiYjMq4jMzYjM74jNAYjdI4jcxoVBVwjdiYjdq4jdzYjd74jeAYjuK4jRdQjuZ4juiYjuq4juzYju74jvCYjgMhBcZYj/Z4j/hYj4ZAjfzYj/74j/1ojeM4kARZkAZJkPGYkAq5kAy5kLiYjxAZkRJZjABZkRZ5kfwokAe5kRzZkeLYkCAZkiKZkM1FjxN5kigpkfuIkSzZkhipkR4ZkzLZkSNZkzZpk7D/JQZZkJI82ZPG6JJAGZQBOVMzWZRGiZA3mZRKSZL/oAcm6ZNQGZW7uJJCWZVWqYwweZRauZXYuJRe+ZXqSF47KZVk6ZNXeZZXmZVcuZZFCZZuCZbzWJZymZJUiZZ2yZJqyZZ6SZNv2ZdJORBjOZeCCZF3WZh4SZR7mZge6ZeMWZMlOZiQiY91aZiUmZGIqZiYaZCNuZkgmZOBGZmgOYyVOZpDiVKZeZpIyZmqGY8B0JRPGZqw+YuTSZq0WY2XiZq46Y2ruZvvKJax+Zu+WJvC6Yx5mZvGWQG8mZzrGJfA2ZxWMJvDWZvFeZy4qZzWeY6A6ZzNGZ3ciYzTSZ2neZ3i//mY2vmb0Nmdlfmd4ImZ4nmdnlmev4me0ame65mY7WmdremU8Bmb5ymfhUmf9amX96mcvrmfoemfwgmgAbqWA5qczGmgkdmfCIqWCrqgW9mgvJmdEBqZE0qbFWqhR4mhu0meGzqYEtqhVvmhINqWIqqa71mig4mio6miKyqTLeqirgmjJiqjlEmjNbqYN7qZBaqjcsmjPXqbP7qXQSqkAvGaRCqVJ2qkLumjSbqRS9qYGvqkZCml/4mkVcqgV+qXJKqlURmlXPqSXvqlFxqmffmiZBqVZ2qXVKqmqcmmcJmjb1qmcXqWc0qn42inbzmkedqTe8qnaeqnLAqoX/mgg//Kk2ZaqP/Yp4gKjooKlwLxmY2KkpCaooc6qTFZqYsaAFqQi5nKk5talZLqqd0Iql4JW/pZqnR5qkGZqqpKjqyqlDlJqrB6krI6q51aq1Z6q3+Jp7s6kY/aq9JIq8DalcJ6k4JarISJrC2prMuKnM2Kk00KrcYqrYdpmtVqo9fqmJeqrRLJrd3qUd8KruEqkmNKrvd4rObajNS6rOs6km7qrvcYrxc5r8Bar+xKrPhqj/Cqr1j5q+n6p/7ambGFqQFLkQQLkPxaqwnbmdnasAL7sJFqsAcbjhPbkFlqsQ6LsaWJrhvLkR3LkO0KssI4sBgbsap6sg7pDzqpsj8psiP/S1Ela7Iwy5SvSrPDyLIP67KeurMkubA+S4w2e7MKlbPBSrS9WbFHG4xAS7BCO6lOC48fG7XBmbTUWLWIerVP27Na64tTq69e66dg6473OrbHyLXTeLZ0mrbtmJ9Oyra6WLbxCrdqKrfs+Kx2awVu+7Yay7TcyLfLCbV/e7eBG416+6WGG5bjmri7uLiMO7iEq42PK4/3Vrd2i7fm2rhVmrnouLZ/S7nQCLpJKrrYCbCJ67nciro/qrrm6Ld2a7rPCLs1KrvlyKita7vyarmXy6yym7Wl67u26a3Bi7DDu7mSO5XGu4y4u6K6ewE5CQ/rcL3Ym73au73c273e+73g/xu+4pu94lC+5nu+6Ju+6ru+7Nu+7vu+8Ju+4zu/9Fu/9lu/gpC/+ru//Nu//vu/ABzAAjzABNy/lWAJB5zACLzACtzADPzADhzBEDzBElzBFHzBESwQYmC999vBHvzB4Ru/IjzCJFzCJAzCKJzCKVzALNzCLvzCLmzBMozBNDzDNlzDONzAGszBKtzDPhzCJhzEQjzE8fvDRnzE3AvDSrzETMzCN/zEORzFUDzFELzDSHzFRkzEWrzFW4zFXuzDTRzGYizGVFzGUnzGZpzB/7DBX9zGH8zFcBzHI+zGdNzBY3zHeNzCaYzGfLzHU2zFdRzI4ivHhFzI6ivIiBy+ef+8yIzsv37cx5D8yBUMyIlcyeRryJhcyJa8ydnbyJ7cyJIcyaIcypXQmmzMyZacyaocx6jMyZ/8ynhMyqM8y2lMya0syKucy1p8y5YMy74cxrIczLScw7bMy3Ssy8gcxMacyL/czEoszNA8zJO8xjy8zG6czNg8x9YcyM7czXoszeAczRkcAKe8zW2czej8vuZcx97czgMszuEczwlczOuMxOl8z+tbz27szvz8v/D8z9JsytWsz0eMzwZ9vgT9xf280PsL0A49yvSc0D180BQt0VjM0Bj90BrdxxFt0ShM0Qft0UiM0Qy90SYtxQIt0j8M0gat0kZM0gt90jJdwx3/7dL3y9L4bNNgDNP8PNM+TcE1rdP0i9P3LNQqzNM9Lc9KDc0pbdRvTNTo7NQojNTu/NNWzcBBLdXgC9VRrdUeTNXtfNVindVe3b1cnc1lbcdg3c1ivdTETM1pXb9njc1xbb9rzdZu3dYyTNZ1jb1zncx9Tb937cx6ndcYzNeB/dfIHNjzO9jNXNg+3dSM/b2KrcuTLb6O/cuQbdjjXM6Xzb2VncufDb6Z7cubLdOI3dehvcqj/b2lDcunzdlYDdetvb2rrcq13b2v/cqxbdKpXde3ncm5ncS77cm9LdulTM4DndvBjcnDvb3FbdzIPd1PLNnP3dyG/NzaG92gTN3e/73Xyq3d14vdmize18vdjHzcGq3B67DcrU3ehGze543eeazenP3bcQ3fcizf60Df9f3dAN7Z7v3e+g3H/O3fsRzgCj7PMjvgo13gBi7fCH7H9u3Q1WveEM7FBz7hZLzgC47faZ3hXSzhHA7MHm7VFy7eIr7LJF7iTFzheZ3i2r3iRLzhLr7EMP7PIF7WND7ENn7jMJzjSy3j193jytziQP7CQi7ORD7cRn7k5p3kz3ziAb7jXv3kJvzjUu7EVB7ZDY7hWH7CSL7lBbzk8tzkzB3m2hzlZP7NZh7MVq7Var7m4t3mbt7l1I3mtT3nIqzldh7Abx7Oek7gfK7OY/7nAP8c6HAe3ipe6IbO5oguwIoe0F/e6I7evn4e6QaM56hd6TN+6Zh+6JrOv5NOynEu1aAe6pA+6o7M6Xnu6UWe6ocs6qyev6VOy4P+4LI+66te6w3t6r7N6J++6+ib6b5+65Kc659N7PJL67WO7BAN607O7Ajt7KwO7X586k5N7dXe675u68CO3Mp+2dxuvsb+7OG+3tKe5uV+7tee7vct7LHO7e4+6tgeyeM+2eVevvWu6fdey+u+5/ve75H+7xwtEGSQ8Aq/8Azf8A7/8BAf8RI/8RTP8JZw8Rif8Rq/8Rzf8R7/8SAf8iK/8WlQ8iZ/8iif8iq/8izf8i7/8jCf8hn/MPM0X/M2f/M4n/M6v/M83/M+//NAH/RCP/REX/MDMQYVn/RKv/RMn/Qj//RQH/VSH/UxX/VWf/VYf/VFv/Vc3/Ve//VgH/Y3PxBh0PRmf/ZoT/FTv/Zs3/ZPn/VwH/dyX/ViX/d2f/d4n/c8T/Zp3/d+n/ZuH/iCL/hzX/iGb/h6n/iKv/iM//N8//eQH/lqP/iUX/lvf/iYn/l03/ic3/mef/ePL/miP/oKb/mmf/ocr/mqv/oq//mu//qwH/ShT/q0D/mof/uoz/q6z/qx3/u+//uzX/vCj/a4X/yVv/vIn/m/v/zM3/nBP/zQv/TGP/2Bn/zWX/jNn/3aj/fP/x/93j/x1B/+a3/95A/323/+6N/13f/97O/w4v/+UF/+8m/16V//9u/44dP++h/x8N//AGFJ4ECCAtMcRJhQ4UKGDR0+hBhR4sIMFS1exJhR40aOHT1+BBlS5EiSJU1eDJAyDBmWLV2+hBlT5kyaNW3edFlQ506ePX3+BBpUqMGJRY0eRWr05FKmTZ0+hRo1Y8oAK3FexZpVK86hXb1+BQs06ViyZYtKRZtW7Vq2Hqla3RpX7tyaYe3exfvT7F6+fNv+BRxYcMi3dA0fpptX8eK7fR0/VjpY8mTKagsjxpz5JmPOnYNCBh2aYWXSpU2PvKxZ9eqWnl2/JihatujTtf9t307NWjdm2L09zwb++PZw4pNz70Y+1/fyxcGd7y0eXfra48mtZ2WevfFz7kmnfwfftPp18ja1n//aXX3k8O3dfxxfXn5M9PWFrscf8f1+/hjjzweQJfsG9Ck/AxvqL8H9/gtwPgIf1OlACRNSsMLwGGywPAg3JGpCCS0EUToMM7yOww09nDBEFYcbkcTkTIQQxQ9XpNG0Fl3cDcYHZTywRh8ruxFH1nQkkEcDf0RysCCFVI3IAY3ML0kp/1qSycyctA9K/Kbk0jKVrAQQy/q0XK9LM6MKwJ8uxmCJTTBLFPM8MtU7s07xUmLTzTeti1POObmzM1CTqtwzsT6z+xP/UEEXJezLQuE8dLlEn2O0UrccffTFSCWdNDhLP9WI0Ey32pTTTmcDNVWLRB0Vu1J7OxU4VVVltdWrXoU1VtlmTbVWWzfD9TVdd+X1U19/rStY14alrVhLj0V2JmWXZRY0Z5/FNNorp+2sWmuvZRRabWHitltvhQN3UXHHzalcxs5FN91A12VXQHebg7cveQWlt9578c0Xun3t7JfdfxUL2K+B6yx43IPzSljghc1sWNuH8YrYrInPrDjai7fLeKyNKc62XkM/BitkskbusmNkUQ5LZZFZntLlX2FOWWakaK65ZJPlwjk9nY/iWUqbbQ3aq6GJLhrJo1tNuqul2Wu6QsanR416qKnPqtrHqzPN+r6tJeraa59/JjVsscbWr2wav35U7bXZfsjtt89G21W5e6IbIrtXhLvQvQvs26G/VQwgIAAh+QQFBAABACwqAB4A5wFHAQAI/wADCLQzsGAAggcNIlyosGHChwwhOoxIcaJFOAQxwtHI0c5Gjx0/igxJEqTJkSdLolypkiSblzBjypxJs6bNmzhz6px55kyAnj57/gxKlIrQo0SHGk2KdCjTok2jnlk6tCpSqk0Fat3KtavXr2DDih1Ltqu/AGswZeKUaW1btm7jwp37tq5cu3Tv6s3LF6/fvW/HfBE8+Evhw4QTG1aMeLHjxpAZS348OTLlxWOuad7MubPnz6BDix5NunTnarp07UrNurXr17Bjy8Ylu7bt269xbTHMu7fv38CDCx9OvLjx31rbKl/OvLnz59CjS59OvTnvMMeza9/O3bjp7+DDi/8Pj7u8+fPo07Pehb27+/fwjQf4l7a6/fv489uPz79///EABijgd+oVaOCB5vmn4ILaJaffgxBGSB2DFFYI3IAYZpghghx22KGFIFo4X30SlmhihCGmuKCGLLYInocwxnieijTy5+CJOOY4YY08dufij0B+JuOQRMLW45EN0qeWjkw2uRySUBYX5JRBFmllkVFmGdyNTnaZo5Zg9kblmC1eaWaMYaY54pJetllimmGSKSeGZ9bJIZxgcunmnvrhqeWcgAJo56AF+pnlmnwmmp+hUQbq6IuERpogo0jqqeil0VGK5KOckibpp7dpeiSimJYKnag9dqoqaKC2GhuqPFr/auqsmcBa46q4cubqrq3ZSiOptAbrq4q5FsvrscOmKGuwmCYbYrG5HsursyACy6yp1FoILa7S7ppthctem+i3FG67areuksugteJequ6K5naKbqvvKhhuu27W61+88s77qb79sYsvnwDzxy+n/v5bMHz3DtzlwvAd/GjCkkL8nsAOt2mxexI7SnGkG3fXcMZMhsxdx4F+TKjJ22FMspMsa4cyoCoPGnN2I7+M483HzTxnzXbyLJ+SOu8ptJQ+kwl0nUcTl3PRbzYtXNJKL22m1MK5DPXOWF9INZVWX901cgJtrfHYvn0NdthWou2b1mZH7bZhak/JdttzGyZQF3E//5z3F3VXeTeRf38xXwB9w/x34EAOTvjfAfhDYuJfLs64i44PWfjTlN9X+OWYZ44m5ER3znXeoJcpOoybl2366XOnzuLqrJM++esSfi77hrR/CLnruMsd++509n6n7WwGD6HuxAto/PF5c678qZY3H+DzCG5e+vQPMm/9eNgf2Dri3C9f/ffihW+g9reX7/n56EOqfnrju989/PGbNr967Cdvf3Xey5/+9oee+v0PPwEUoKcIOCPkHfB9qFMggRg4qegB74E7iqAES0PBCs4Nbhh8Ev42yKoO4saAIZxOAkkoJBOGyoEplM4KWdgZF77QguSLYaZGSENd2bA2/dPhDv812MMW/vBVv8uhEJ0zwyJe44iyCeISmchDJ0IRiTic4nOaWMQrGgmGWhQhEZ3oQy/2KolhtE4Vu2jGM0Zve2ms1Rp72EY3fvCCceQiHeuYGinGUY5jJKNm+NhHNP6xLXqkISF14cc8zlGRhGydHkRByUpa8pKYzKQmN8nJTnryk5esgyhHScpSmvKUqEylKlfJylaakh6wjKUsZ0nLWtrylrjMpS53Sctp+PKXwAymMIdJzGIa85jITKYww8DMZjrzmdCMpjSnSc1qWvOa0BSIHkIBym5685vg7KYrx0nOcpqznLxMpzrXyc51KvOd8IynPOOJzXra8574vOd8thn/zn7685+fPKdAB0rQcbbzoAhNaDrnydCGOvSd+YyoRCdaT61wE6AYzeg/C8rRjnZUoSANaUgfStKSlpSiKE1pSvd5UY269KWe9KhMZ0pOkdr0puo0qU53Ck+V+vSn9tRmS2FK1KJSkqZITeopccrUptaSp1CN6jCBStWqRlOoRs0qUZXKVaU69atOlapYpWrVslqVpVpNq0a7ytaZgvWtNx2rXHdq1rr+1KJqzetG28rXgsL1ryCdq2BJatfCohStek3sN/vKWIEC9rEHHaxkGWrYykYUq4rNbEAby1mDQvazC52saCFq2dJWNAD81KxqN9nZ1rIStLDV5Whni0zT/9rWmohdrW4t6dreojK2wLUlbYdLzNsaV5p43a1yReHb5pIyuNCVJXGnC8zjWteZuV3uap3L3eh6l7rgva54Mavd7XK3ud6NLnipK97rkre8mj0vetMb3PVOt73WzS58FStf39K3vvYdLn6Pm9z9Zra/vf0vcAMs4AHfVr8GziuCXavg2DKYtg5+MGqHGmEJT7izFYbthWebYdu+t8Nq/TCIQ/zZEY+2xKaFMIqzqmLOsrjFLp4sjEtb4BmntcaNvTFkc6zjHVdWxj7eKpD7KuTHElmyRj7yhpOc4iXztcmAffJgo2zYE1NZyVZmK5b/qmXBcrmwSP7yWsMs5jG/tf/Mcz2zXXusZpiyuc1u/iqc5Srnuqa5zgC9c1fzDNY9j7XPZvUyoDMqaK4SWs+GJiuizzrlRdu50Ul9dFgjHdVJn/UfqbW0SzGdaU0zldOd9jRVFS1qf5IaqaY+Nap5qupVo7bVL301TWON01nTutZ3BTWHce1qXcuU13H1tU6BHexQE3uvxv4oskWq7GUzW6V0fnY4o+3RaVO72ie99kqFre1Ac5uj3h4puAkr7sNWutz9PDe6063QdbO73RNlNbw3K++B0rve9nYovin6531zst8E/XdCAy7wgUs02wbnN8LNqXCEMryhDn84uSO+2Imfs+KRvfg8M37Zd3MclB7//zjI2SnykZMcn/o+eSZTTvGVu7Pl9Hy5Pjcuc4nTvJU2vznOSavz0wZg2D3X5M9rGvTQDl2ZRQ8qz5N+8KW7sulOf3pto47NmFP9qFYHOtZ3qXWoc/2aXv962MU+9lyWPZlnR/vUvz7zta+y7bJ9+zHjjluBIJ3ulbT73fGOS73vne/ULLjaBZ9Kwhfe8MVEfOJNDvhQMv63jhcu5IsreeRSvvKBv/xSM//UzU+181edO+jBLvpSkr70pg8m6q/q99VjsvWvfP0sY7/M2T9T8VTHvet1L13eV9f32P386oX/XOLH0vjHRz4z0x585ovS+c+Hvi+l30zgJ93618c+/z20v33uhwHioAd/HcQ/fvKb//yqXz742U/+abyf+t+fv/jrf/8AdAEKABiAAjiABFiABniACJiACriAA9gDDviAEBiBEjiBFFiBFniBGJiBEshNHCgKHfiBHhiCIDiCIliCJHiCJpiCKLiCIpgGLviCMBiDMjiDNFiDNniDOJiDMlgBPNiDPviDQBiEQjiERFiERniEQLg3AfAEDNiETviEUMiAGjiFVFiFVliFLJiFKriFWtiFXPiFH6iDYjiGZFiGZIiEaJiGariGajgfXSAFTBiFcjiHdJiAV3iHeJiHU+iFfAiGftiHgOiBZjiIhFiIYsiGiJiIioiGShiHdf/4iJAoh3o4iZRIiYF4iX+YiZgYhobYiZ7YiYsYiqIoim4Ih5F4iqi4gJW4iqxIhZuoibD4inz4ibRYi2M4iriYi2nYiKnYi74ogK0YjMI4gbIYi8ZYjCdoi8q4jDOoi874jEFYio74i9QYicN4jcOIjMe4jdoYCsz4jcwIjeIIjbxYjeb4iNiYjqzYjdzYjpsIjvBYi+M4j7kojed4j3Oojvo4iezYj+4IhvEYkKBIjwS5iOWIjwjZhPu4kHfojw75jyMokBI5iAVZkYhojwmZkQrIkBzpihD5kQ+ZjBM5kodokSbJiP63hBq5kgfYkS6JgSEJkjLJiSRZkzZ4kjj/aYQYyZI8GYAv+ZMUGJNC6Y42WZQ0mJNIKYQH2ZM8CZROCYFDGZXHaJRUCYNJeZU+uJNMyZJP2ZVS+ZWaWJViiZVkuZRbqZFd+ZRguZYAKZZUSZZYqZVnmZFp6ZRseZcq6JZvCZdJaZZziZB1CZR4OZgtqJdFyZd9+Q9vOI1/CZiB+ZKEGZmGeZiImZN+2Zjn+JiQOZOcGZKTaZOVaZmKaYqYmZCa6ZKR2Zlh+ZkkGZo4eZmlSY2n2ZGpOZis2ZquaZJyGZvVOJscWZuqmYW3OZK5qZspyZi8KZu+uZDAeZfDOZHFaZG7mZy+uJzMGZzYiYzPKZHRWZGwSZ2oaJ37/9ic2ZmX2xmQ3VmQ0wme4Sme6kiea3me6Jme9Pid7AmJ7vme5QmfhSmf4Eif9TmayHmfp5if6cifX+mf8Aig82ifBEqHBoqNCLqfgqig38ig47ieD1qHEXqNExqVFnqhGEqOx7mhvdih2UihCBqi4Tiiz6ihJiqJKBqMH7qfLLqMLvqi/hejJzqjrVijQnmjypijzuiGKsmj1uij66iiTNqFQmqLRKqLMIqkTqikSwqkwfmk8hiluOigVCqFVlqJWOqZWvqJXNqlAvql6BimltikbrqCZWqmZ0qKJaqmEMqm/PimehqRcTqQc2qQaWqn+YinejimWdqnhvinoeilgv/akoSah4bqkIiaqIqqiFPaqI76qA25p5zKgZNaiJVqqXWKqU+oqXgYqZ35qYQYqol4qaRKgKa6qajajapKkazKhoz6qsAYq1Y4qzNZq2Z4q7gaqLoKprzqkb6qncB6hsLahqNarBt5rMjaqXu6rMzarIxIrNBqh9K6h9Rqm9ZaktiKhLkKrd3qrckKkeEqruOqk9q6rZl6rheYrsq6rjjYruT6rPBqgPKagfSqrvZ6r/jqrou5r9zarxb4r7IYsAI7sERYrsWKsPP6rdXKsDfpsA/7rgbbgBJbgQpLlBZbgxj7sPq6sbvascRIsc4Zskc5skqpsSYLgCgblCr7piz/27Ium4QlG7NQMLMp+7GXeLPNmLNJCLMx67MbWLPxKbQxSLQ62wVHyrMni7QOCLTcyLRN67RZabQmS7VQqbRNirVWqbU9CLG66rUPaLVBK7YuSLZly7Ubi7ZVC7YJyrZp4LY8aLavKrc9oLZTabd4WwGuuq1867eAaLd3i7d6S6qFS7cqiriBezg1gAOTS7mWO7mYe7mam7mcu7me27mg+7miG7qke7ky4AKnm7qou7qq27qs+7quG7uwO7uyW7u0e7uxqwiLsLu827u++7vAG7zCO7zEW7zG67tWkLzKu7zM27zO+7zQG73SO73U27wTcL3Ym73au73c273e+73g/xu+4ru9AlEFOzC66Fu66pu+7Lu+7mu5uBu/tju/8lu/9Hu/r3u8+ru//Nu//Fu9ABzAAjzAAjy+BnzACJzACKwVmdu+Dvy+EPzAElwD+FvB9nvBFpzBsKu7/tvBHvzBxkvAIjzCJAzACnzCKJzCBly+5xvBLjzBMPzCnYvBNKzBNlzDtwvCOrzDO1zCPvzDP6zCQjzEQ8zAlhvDSCzDSTy6N9zEOOzEFczBPDzFVBzCQHzFWGzCRLzFXLzCAWC+S6zEYhzGnvvEZgzFZxy/VbzGbAy8WfzGcOy8XTzHdMy9Rly5Y5zHZCzGaNzHadzHUtzGgkzFcVzIcVzHiFzHLP+8x4ysxy/8x5Dsx048yJRMyIZ8yVecyJrMxXeMA438yY7MxJE8ypKMwYFcyajsv5i8yj68ya4sxIscyrIMyuhLyrZcyvSbyrrcwazcyyL8ysB8wp1My7NczKZ7y8iMyxu8y8ysv778zAEczNJ8wLFMzNY8y8mczcp8us3czcULzeA8vdM8zuE7zMZ8zqC8zdqczKfsze68u+Ecz89LzvTcvdWMzvjMyOuszsr8zv7cu/Ic0MtbzwSdveZ8zQjNx/u80FDczv/czAId0QU90fec0Bb9yPzM0JD80P8c0QI90QV90Pk80jGc0SZNyg7N0brs0QEN0gRd0SQd0xKs0Sf/Pckq7c4sLc8uXc8ifdE+rb41TdNPnNI3Xck5Hc87Tc8w/dNMHbpCHdQaXNTefNThnNTk3NMyndWiDNVPbb9ELdWCTNXgbNXjvNRafdZlzNVqfcFgDdFi/cxkPc1Y3dR0TcFdvdbz+9VtvcZvDddxHcxmXdd0fdeELbt7vct97ct/DdgC0cBo/dibi9eFTbt6fdhTnNi9vNjAHNiQjdaTLdmua9mpjNmsrNmvPNed/dOg/dmsW9mircOkvcqm7cqcLdhazdqrzc2vTcmxjcmzvcmobdsXndu47dq77cG9fcm/rcm1ndoyjduTfdyDnNyGvNyJHNzOndDEvd3GLd39/0vdhWzdiNzcwk3S0L3a3t3G4H3I4k3H2F3e17zdn93d6e3M6/3G7e3eX+zJ2Z3a503Y9c3X953F+T3HknvE/d3U8p3b9B3g3zzgWFzgXTwfYJzgkP3fku3glgzhQCzhnPwPAeDY8H3WC17YDa7hwsvhmezhREzhLTzig13iGY7iPaziQcziRQziIm7hw43hT33iNP67Nn7jOK7CLg7jFy7jXR3ksD3kJVzksKzjCI7kPa7kag3kTM67Tv7kUJ7CR87jnm3lQp3lH7zlJNzlXi7leEzlMS3mV07mvGzmv4zmwvwPFc7mPu3jaw3ncS7nA0zndR7iUw7m2q3nNI3lZP/u5wQM6Ar85Xj+3G6u0XyuyopewIy+wGrO348e34YO1Yie5ZVu6Ze+wnb+4oQO6Z2+0JP+3aGuxaM+vge+5qfO6ZFe05/O5K3u6q9ezqW+6ahe6+u86v+b69S767Ce6b5O66lu0rce5MRe7MbO63c+6+YN7Cct7Pv77OIc7eAb65pO7cRs7fvc7DSu7dLL7d3e6+Be7cse7Nh+vOYevej+vd6e7Pgs7sz+7lYc73I87/as7vZuze1+7fr+4Pxuvf5ux8i+7uE+8NpM7ih+8P2e8Nrr6AyPzg6f0QVv8BKvvBRPvgsf8MWM7w+/8cPb8cz78RUP8BdPyxmfzSZ/8ij/7/Eqj7313vIj//LbDPEaPvM0X/MTYPEi/8k6j8wxn+I+bwVAf703P/SyTPL8zPMOnvRKv/RCj/P6DPVGf/RunPRLH/Qhj/WOrPU7z/VC7vVWr5ievPZs3/Zu//ZwH/dyP/d0X/dufwEZkPd6v/d83/d+//eAH/iCP/iEz/d8cPiIn/iKv/iM3/iO//iQH/mSv/hSAAVSUPmXb/mYv/ma3/mZ//mcD/qeH/qkP/qmL/qoX/qgXxas3/qu//qwHwA0YPe0X/u2f/u0X/i6v/u83/u8P/nAH/zCP/zCr/rGf/rHn/rIv/zK3/zJLwWxH/3SP/1jwQ9UULm4n/3av/1z/+/73v/94K/7xD/+5F/+wP/8zI/+zp/+7L/+zk/98B//088PXcD99n//9h/++r//+2/+AMFH4ECCBQ0eRJhQ4UKEUqBIcQjxYUSKEy1KxFgx40WNHTl+3BjSY8YAJU2eRJlS5UqWLV2+hMmSBg6aNW3exJlT506ePX3+tJlB6FCiRY0eRZpU6VKmTY0yhBpV6lSqCkdeBYlVZFauW71qlRJT7FiyZcvy6wJU7Vq2bddecBpX7ly6cqvexZv3LtiufL/2Bfz3q1nChQ2TpeJW8WLGQOs+hhw5rl7KlS0P9Js5sGbBnCkeBh1atL8pOxqfRt1Y8mrWrC+/hj3V82banf9rZxadW7fZmal9//7ZWvhwu7GNHzc42/Zy5c0n7oYefaW/tMCtX78Jl/h27kWRf0funPlt8uMhSkefPjF29ta7v+8OXj5s8fXL2z+fXr9u0qbb/0cNPgGHm6/AyvBD8L779mMwt94AhFCxASdczUAL8UrQvAw9a7DDwqiLMES3tKOwxLkuRFE2BTVccUMPXyxrPRFnDM5EGydLMceFNmyxR+ZgBBKm/mgkkqcbj2RKRyUb8pFHFn8MMsqWHiyyypqQxBKpJbckyEkvm3xOSjFPAtFKM2kiMUs1uWTzyyfd/GxMOQOQ8cwq1cRTKDa5hBPMN7Oac8wh7bwzzzX3XLL/zz8XvSpQOakkdEZDD0VUR0Uvvc1RKcuMlMg0J7WxUiUxZdTPsDSNss5ORQQVS1EtNTXWUkVCNchBV2W11SNfzZFUX/uqNUpIcQVQ1115RfHXWesLFkZOiY3wU2MHRDZZWZXlsNkXVYX2v2lDrdZCbK/NVNsOb+3W229LDFdccpe91twXh033unXZbbfAceHVUN4Gn62XPWnv5S5ffd/dFyx/G+Q2YPcIptZg+RJGGNiF9UPX4Ychhk/iiSvmF8GLGaRX49Q4FtBj8CgOebOR96vBZOxQ7ljl8EBmuaOX0fOHiphl3pjm7Wy+uWWjRd45OoCBTm1goSsk2ricceYo/2n0SmZ6sacLjjq2qY8G1Ord+PE569+2Hrpr+qgGu1+xdUPL7LPRJlDt17729W3osJabLbrrttsyvNk+Ve/Q4u4bNaf/pivwywZvO07DQ2s48bYYb81xwQnnfLDJQcvY8ssxh1pzvSC/9HPR+BbdJ9JLNx3DznNW/bClW3/r9chiP31230mq3bDKca9R98d4zwt1nIP/sDTi3TIeMuRlj/z3RpkvjPXnc4r++OmrUj5y7M26ffueFu8+qe/Bt9768c0a3nyd0m98fRWrxx+398cKXf6d6D+R/aQSPjjtryza8x9NAFgcAUKFgAgzoFjKl0CcoG+BRGlgVB54tAiKJcV+FLzSBZuSQQe2L39V6+BL+gfCoIgwSSTckQmxlcKYIDCBLnwhDBOyQS/R0CUTZCGacKgUHVpFhrPzoUs+yMIhErGITDphFK+XRJWsMIg4aKL6nngQHsaLijK54vyyeJQtcvGIUvxiFasTxgqO8SllLEgXQ5ZGlSwRhG58Ixwxc8a80ZFMzmPjTfDoHT3uUYoy9GNKbOi/QWKwkAKRo4sSWRIgBtGCLnwkJPlIuEmahASdBGUoRZnGSziCEqNEZSpVObmAAAAh+QQFBAABACwqAB4A5wFHAQAI/wADBJADR2DBAAcTGlyIkKHChhAfSnRIMWLFiRYzYtx4saNGjxw/inxop6TJkyhTqlzJsqXLlzBTsrHjxc7Mmjdt0tSJc2fOnz6D9hzKsyhQokeNClUas6nTp1Cd/hMYhoxVNGSwas3KdavXrmC/ig1LdqzZsmixWl3Ltq3bt3Djyp1Lt+7bV69g6d3Lt6/fv4ADCx5MuPDeWPQSK17MuLHjx5AjS55MuXEyZJgza97MubPnz6BDix69OcC/NWHGqF7NurXr17Bjy55NuzZrMmPs6t7Nu7duw8CDCx8e/NW848fpIVeefLnz5tDnMZf+nHr06dirZ7+uvTrp7+DDi/8PH8BfgNS206tfz9627/fw4/8mTr++fcPI8+vfz7+///8ABiigf+MVaOCB3wmEWnsMNuhgbfJFKKGE91VooYUDZqjhhhxuiOCHIIJY3nkPlmjigxOmqOJuF7boYnAdxijjjBmGaOON4CmI3ok89kjbikAG+daLRBb5F41IJpkkjkw22dmIO/oo5ZSqCWmlkEZmaaSSXHapoZNgOqkjlWRKeeWZKmqppotetukmf2HGeSOUZdZ5Ipp4RrjmnhW+6eebcgb64Zh2Ftpgnoi+x+ei9P3paJeCRlognYZWul6imLLI6KbAPeopkpKGmmMAC1pqKoSZpjoXp6wS9umrMYr/KqtolJ5qK2yq5gpXq7wCBuuvX84q7JOkRnnrsVXqquxavTbLF7DQBjjstJrViiyyy2br7LbRdtsfteASei222Sq7rbPeppsfuNRaO66t5Zp7bq/q1svutOK+C2+8uc5Lb73p3jusu/paym+//rYKcMACz5pvwQYfnGrCCi/cbcMOm2csxIZKPDHFnFp8McaiPsxxoR5nCnLIIkNLcskan2xqypiuvGnLLr8sqckyl0lzojYzijOwOu8cc88d/5xn0IsO/WvRkfKM9JRKL830nk7DCrWgBE9NddVoXo111p9uHajUXvcIdthiq0l22WbH2XXaaq99Zdtuv/1o3HIX/0u3z3ZbibeWeu/NN5hz/21i4IIPvmXhfx6OuN+Kf804kI4/Djmgkjc5YuVUXh5k5kVu7mfnnlMFupmir0g6kaZzjvqcp228Ooqtp/k6m7G3OTuOid/eXu66735h777/biPawrNHfIrGt4i8l8ovf3TzJT4/YfTHT89l9SEyj3162lPIfZ/eKwm+iNePf2j58p2Pfvqgro+g+O7/CH988t9H/5L2O1Dw8qe//Smqf/X5X/0COCnKEXB4BjwgAomjQBox0EADfGBsIijBCQqngjO6YANLpcFLcbA3HqQgCGMlQvFksISuOSEKU/jBFXaohS50IAzdI0NN0bBTNuQQDv/J074dFrCHdfkhjILooSEmSIdGnA0S56PEwjCxiU4czQujmJspJrGKVrxijbKoRShyEVdepAsYwyhGAZFRi0U842vSqMY1DqaNA3ojrcwox9bQcVV2FAwe3ahH0Gwxin+USyAFOUgAFdKQfOzjahIZl0UGppGOfKRnDmlESu7KkkfCJIE0SSwSSjKGnnQLKEMpSjiRkjOc3GEqVbnKvrTyW68sTSRPOcu21NKWt9xPLksTx1Mmq5dW+eWzgqmfYVZrl5JEJrOUqRdmNtOZmIklDKWZTGrCwprrwiYy8HdGbpLBm98E53HEOc5iGtOc6FTnOsUpkC6kwAT3zCc+96n/z37y85/+DChAByrQghL0oP6cgAQkoFCGLrShEH2oRB1K0YhWdKIWzShGN3rRjmq0ojzogUhHStKSmvSkKE2pSlfK0paWNBcwjalMZ0rTmtr0pjjNqU53SlNF+PSnQA2qUIdK1KIa9ahITapQFVQCgzoVoVB9qlSjStV8epSjH80qVrd61a5q1asLdalYx0rWspKVp2hNq1rXqlaluvWtcI0rXMtjz6radap4vate9fnVvnLVr2ANLGAzGlKzGvawiG0pWxfL2MaiVa6Qjaxk3crUvFp2r5i9bEAF+9fOcvazg+VqYkdLWtI69rSoRe1kV8ta1tJVs5mNLWzzGlrQ/3q2trj9a2FLy9veKja1wA3uY1tL3OJSllRNla1yZ7tcftr2ubmF7m0n6tvqWvekws2udmtq3O56d6ivbS5zx9vc6Jp3utIF7W6vy97ebve92/2ufL9bWfHal7yWTe959Yver7b3v+6Fr4CBO98CFze8+L2vgp+63wb398FeXS+AJ2zWAVv4tAbO8Grrm+AOLxih/A2xg9NL4RIb9sIoXqyGVwxZBH/YwzD+54hnDGHzStjEOFZpinecVhb7+K0cfrGQOyziGhu5yBLIsZJZyuMm6/THUEaqi2NM5Q/TGMlXzuqNl8zlHjj5yzaNspiJGuQqm1m8WD5ylj3b5TaTFP/McJbpmOcM1CkP+c7MXXOa9wzRLbsZx3EONJ0HXWY8Gzq/ek60mqn75zYHOs6DprOdz0zp2Cqaz4sGaaO7/Gg4R3rOha60qO+K6VJfedOc7vSXPz3mSR/61QzO9KUT7WdUA1jVq2Z1lEMN615vdtayDjZFbb1kXDtZ17v2R11HzWy9AtvUaq41sdlr7CYjG8q8bra2AQrtbu932jmuNo+v/WNXb/vc+3y2uvsrbXBXV9w7JrePs+3reqfA28I+tbtLDO8Uy5vF5rZ3vdeNb/Xum8L9RvG/V0xvdGu74AQH7MERnnALL1zDAXd4ryOe72hP/NYVH/DFM9xwgTMb4h3/D/HHQR5y+I7cwBk3+as5jvIIr7y9LRfwywtcco2LuuY0/+jNcZ7z9+58vjH3uaGDnnLctnvohy260Y9OX+Qq3edAbzqEoX5dqceX6t5NuswrzfSsa5rrvvW6dsEe9gB0YexjN3vZG4r2d6tduGzvbs/hbma5a/2zdU/73YObd+OK/epCnvvf+/r0wIt18IQvPHH3jngq+/3yjuct5Aks+dYenu9WXrzo9dv4zDN586rtvGutDvpzX77spjct6jGs+g0ru/ICV7zcSx/7lM6e9rWXLOVbf9/Xj17ovUfs7x0b/Ml+Hvce1n3QeZ98ky6/sc0XPuuhD2vjm736Ub++/4qz3+LbE3/b0j8+RqkP/pGKf/zkj+vwuY9f79O8/RV+/1rjL9fnn7+86md/D8V++Kd/+8d/c7V9//dz6Vdz+FdWBthWCAhk5kd/MxeADTgBBNh+EdhjE3hca5BcFsiAGFiCXfWAZ9WBPPWBlFWBC7h0Jih9Gwh+KriCLJhU8/eCsyWADoiCj1eDT3aDUuaCI3hnGYiBM1h9QBiEQmhUOViEmsWDBOeDP7iEN9WER+V/UIhZRwhxSZh8VohTWOiECriFlteFz0aFLhWGVziGZEaEOph4MTiHZ6eGOsaG3OWG4FWGcXiGdAh7drhSeJiHehhUWtiHzvaHf/iFvTeIPf9ViIbIh2ZYfGg4eoEoiI4oZ5BYZ3A4idGniLt3ib6XiTG1iXUmiYhIZJXYbaI4iqSYC6b4U4foiVS1irPGiLH3ijAViz71hKlYVVIYgK2IUroIi7w4i78Ya8HobbhoesXIi4rgi7ToVMuYhsNofboIjSOCTynQjd74jeAYjuI4juRYjuZ4jujojR8QAuzYju74jvAYj/I4j/RYj/Z4j+8IBfq4j/zYj/74jwAZkAI5kARZkP74CwiZkAq5kAzZkA75kBAZkRI5kQxpBhZ5kRiZkRq5kRzZkR75kSAZkhq5jelYkiZ5kihZkuuIjyzZki75kixpkDI5kzRZkzRJkTj/mZM6uZM6KZI++ZNAGZRASZIpWZRGeZTnuJIwuZRM2ZT2aJNQGZVSKZM8WZVWeZU4KZRauZVc6ZNEiZRgGZZGqZROWZZmyZRTmZZqqZZY2ZZu6ZZdGZdyKZdfKZZ2eZfmSJZnuZd8WY9r+ZeAOZNvOZiEmZNzeZiI+ZN1iZeM2ZgpoJd9GZmSGQKBWZmW+Y+FmZma2ZCJ2ZmeuZGL6ZiiGZaQOZmmaZaXmZqXuZmsuZmf+ZqfGZqjOZtFWZqneZtLqZq6CZit2ZuECZvAiZiySZvEqZK4eZxOuZvKmZa+2ZxtGZzQGZfDWZzUWY62iZzY6ZfLuZ026ZzeWZXRGZ5a/zmd1Vme4Hid2Zme8Mid7CmY3/meWSme8umV5sGN5nmf44ie6rmflNme/jmQ8BmgEjmfBAqS5Imf5amf/Jme/9mgACmgEOqQBTqhHHmgCEqdCrqg2OmgHMqPEfqhCkmhIoqRFnqhxJmhGnqcHbqiINqiI/qiJWqis4miKXqbK9qhLQqiLzqiMSqjokmjNWqaN8qhOfqhOyqiPeqjjQmkQSqZQ+qgRRqhR0qhSaqkeMmkTdqXT9qgUQqhUzqhVWqldomlWbqXW/qfXSqgX1qgYSqmpFmm/Hmm/pmmAbqmBNqmboqUZAqnZSmn7Umn8Gmn84mneTqWfKqefsqegPqegv8qn4RaqCm5p4eKlom6nYv6nY0qno8KqScpqZMKk5VqqZfqnJkanpvKqcb5qcgZqss5qqRaqtB5qqiKjp6qqi3Jqsrpqs0Jq7Fan7NKm7Vqq/iIq7upq77Jq8Epq79qncKKm8Sqm8bam8gKnMq6rPnZrDb6rKkZra05rbBZrdYajsGKrfSordvKra7prbHpq+G6pOQqpOZqmeiarurameDarur4rpMZr/I6r5lZr545Ik2Fr1eqr07Kr4Hpr/8KsIkZAPwQAPZJsGI5rgabjwjLmwr7mwwrnOwqsRNbsVp6sX+ZsRq7sXN5rwRLsSDLjiI7siT7liZ7mCiLryq7si3/u5YvC7MxS5cd67FgWbMge7NsmbPPubPS2bM+e5RAW7FCy5xEi5VGe7QQm7RvurJn2bRT+bRQG7VcObPturQGi7VSqbVXybVdi7RUG6lWe7ViC5Vka5Vmu5VeG65gq69t67Zvy5NxO55om7aduraoebc1mbd6u7dBObfWWrfvKriDS7g9abhD2bd+m6qA25SMe5OOa5iQq5iSO7m0WrnJeblUmbnxubkiibjLqrjkKrqjS7oTabr0ObWeq7agS6msS5CuS5Gwe7qdO7vMWru5ebu4m7sDursG2ru+e63AC6rCC6DEG5HGe7yym7yUu7y32rwC+bzQG70eibq/qrrY/4q92au9D8m93Yu81Hue1vuS4huQ5Fu+5luh6Ju++bq+19u+B/m+nBm/oDm/9PuY9nu/+Ouh+luR/DuS/ku/4NusA5y/BRyiB5yR3jurCyysDdyPD7yQESzBCZy+FWyrF0zAGYyQG0yiHUy9H6yqIbyPI5yQJXyRE4yqKfypK6yPLUzCL2wGMcypMzypNQwFN/wLOazDJ5y8PXyoPxzEQ7zDkHrEfJrEN7zE/lAF11hSNHDFWJzFWrzFXNzFXvzFYBzGYrzFQzwNZnzGaJzGarzGbNzGbvzGcBzHaowJdFzHdnzHeJzHerzHfNzHfvzHeCwQWlDFJDXGhnzIiJzIiP9cxnLcyI78yJDsyIA8yZRcyZZcyQJBxYQsUorcyZ78yYbMyJE8yqRcynF8yaicyqo8yYK8yZwMyrAcy7AsyqZcy7Zcyqucy7qsy5nsyj0gy8AczIdMy7dczMYMx7uczMpMya3sysL8zNDMxcR8zNRczWa8zNiczXncy84czd4MzdNszeJ8y9pcztrczJv8zeoczOE8zu5MyuYcz8rMzem8zvYMyu38zvosyfLcz6uMzoR8zwLdyfm8zwb9xv6c0KhMzwE90A4dyjl80BLNzwpd0YAM0FX80BodxgU90R59zRYd0n3M0Bm90SYtzRH90Sq9xiLd0nqM0dd40jKdxR3/vdIH7dI4bcckHdMzPdM1bdP7nNNCDdPD2NM+ndJAbdNCndM7XdRGfdI/ndTuvNQ4TdSt+NRQjdRS/dFU7dJNfdVYvdFRvdXW3NUtbdWiGNZirdVkLdFmLdJfndZq/dBj3dbH/NYhjdaXONd0zdZ2HdR4XdFxvdd8PdB1/dfkHNgKrdeBWNiG7deIPdWKndCD3diOfc+HHdmmPNmUHQCD3M2Xvc6ZrdnwzNn9XNl2GNr2PNqkHcmmfdqe7cuqLdqQ3drU/NryjNpqONvqzNq2TdG4fc6xDdq8Dc61/dvFHNzmrNtUWNze7NvIfcrKLdyfXc/O/czQHd0IPd3ZzNw+/3jdxv3C2l3W3I3NAhEAsg3ewpzd483G5W3ebteMjqfe633c7V3a753MI5Le9C3L7H3faZzf8zzc1t3fs2zfAA7JAq7fAsHfBo7PCJ7gwL3gqszYqf3gBy7eEm7LFM7LDU7cGE7QEb7h0t3hFU7gDR3invzfG27i//zhBa7iicziEu7iJ17dKS7jMz7iJL7dNn7J5+3gOj7MPN7jbfzjC43iJT3ki1zkRs7SSG7JQQ7iTC7GNJ7gUS7lSs7TVQ7RGv7krp3lzAzjOd7lHO3kYI7GYj7mOL7kZn7mX57mE77mfDzlMf7mXnzlAE7nF73lTo3nYKzn983nf2znZQ7oKP8d53Iux4Tuxxa+24j+xYLe3o0+0mTu5pFOxmi+6JVe534O1pme6CW86I/c6Xts6Jge6lg86eNt6i/96XKt6lrM6trt6tt86Vwu66u+6XJu64EM64St67uu6KTu475Ox6ie68JO69F97DoN7JYt7FfM7Mjt7HWc7H8u7dT+29aO7NB+4dJOA9tu292OCdgO6trO62le7o/e3OEu7uoO5uweAFNwARVw7/ie7/q+7/ze7/7+7wAf8AKf7yVQ8AZ/8Aif8Aq/8Azf8A7/8BCf8FYgBRNf8RR/8Raf8Ri/8Rrf8Rz/8R4f8iA/8h2PCiZ/8iif8iq/8izf8i7/8jAf8yr/vwU0X/M2f/M4n/M6v/M83/M+//M4Xx5CoAEDX/RGf/RIX/QRv/RM3/RO3/QiH/UkP/VSX/VUf/UZL/Nav/Vc3/VcD/RgH/ZiP/ZiT1dJf/Zon/YD//Rs3/Zuv/RWH/dYP/dyX/cc7/V4n/d6r/Vk3/d+//dgL/REr/aEX/hp//aIn/iJb/eMT/eO3/glv/eSP/mSD/iWf/mXX0+Gv/mcr/SK//mgD/ePP/qQT/qPT/mon/pbj/ms3/phL/idH/uyr++hX/u2r/Cln/umr/uRr/q+//sp7/rCP/w5r/mzf/yxf/vKf/u8v/vO3/xWAPzSD/zEX/3ELxBDj/zab/jL/9/9oA/9zx/+kD/95J/61n/+rW/827/+aO/97o/44B//4o/15V//lY/++A/42D/47N//AFFB4ECCBSuUQJhQ4UKGDR0+hBhR4kSGVqRYxHhRY0aOGz12BPlRZEiSI02CRJVS5UqWLV2+hBlT5kyaLbfcxJlT506ePX3+BBpU6M4AAboYRJpU6VKmTZ0+NUhR6lSqVamWxHpSa1auW71yrBlW7FiyY4eeRZtWbdqiQjRAhRtX7tylVu3exSu1696vffn+/VhW8GDCYdceRpz4bNGjdB0/hqw072TKlAFf9psZM8rCnT13VhxatOi2byOfRj238mrWUzdrhv3672fatf/FjsadGy3j1L19N20dXHhD2bGNFydpW/lyl7qdP+dZ+vd06gKHXx+O/Ph27VaYf2cOXTx03tXN98aennV37u03g4dfe/z83NLP34esXv9k9v3df40vQNDoI1Cx8vBDULX9FrTKPwf/S05ACcsqsMLD7Esww6cY5NA1CD98kLMJR6zJQhN3M0pDFZ3qsEWJQgQxRoxIpHGmE28MCsMVdyzIRR8dgjFICGsk8iUcj+zpQB6XtO5HJxMSMkruiqRyJSSvzElHJnd8skspv4ytSjGxJFPJLbns0kkw1/RLzCrJxFLLMzVMU00Z73TQTSrhvNLMOems00c2B91KzyL5RFL/zj8RDFRQPB/tzlAiET3Sz0UZbbRFQjcdSdIaKcVR0UvPy1RTSE+VzVMaQb3R0lFJLZVDTmfdSFUSWT1R1Fepi1VWVH+9zNYRcTXR1V157XVBWpcVdkJiLWzrgmMxTVa/ZYHttFkBn62wKCkomBa/ave7dlZtt+WWwKKmCFfccdUrF1uwzo0vXXX9catdWN/FLt5N6a3X3vkC+KcxfavjNz1/5b0IYPgEHhhf0w6eLuF+GfbXYfAgHs9YiiOz+LqFB9X4O47FC0DijysOWbiR5S05vJOf83hlx1p2GWOdRYxZvpmd09VmunAO7uU1e1buZ6BTFBo9otfbOeoZkfZZ/2ncgm46rqehNhpVqqu2mjSmsz5t69W6/vJr2sK+OoB8yQbZbMukllrtz9gerWa4N5SbP7rNtXtAvA10e+K9h+47L7S9DrywwUPT+3CmElf8750bd/zxxLCWvC7K71o8SswJ03zzsTuX63PQLf93dMFKR4xz1JFS3a7QIXX9ddjXinz2qGqv6vYgc6dwd7Vk950g4INnHWPiyTL++NOTZ3F5D4WX8Xmzokfxbeqrt54i7EPU/jbuF5v+e8/Dn2j87Msv8fyhkP+effGbJxl+muSfP331k7Jf+/AHM/3ZiH85Ktz/gBPAiLgvTwWUyQERaDAFSoaBEHEgiCAYQQn+hHF+1LsgBgd4tA3CpIMe9F8FlRdCII0QWCU04QmTlEAVApCFxHFh2mDYHBlGJwAgKEoQhThEIhbRiEdEYhKVuEQmNtGJT4RiFKU4RSpW0YpXxGIWtbhFLlLxE4W4RBfFOEYyltGMZ0RjGtW4Rja2sSgBAQA7\" />"
      ],
      "text/plain": [
       "Plots.AnimatedGif(\"C:\\\\Users\\\\Can\\\\Downloads\\\\GITHUB FOLDER\\\\Kagome-Lattice\\\\My Numerical Calculations\\\\Many-Body\\\\Hofstadter\\\\OUTPUT.gif\")"
      ]
     },
     "execution_count": 45,
     "metadata": {},
     "output_type": "execute_result"
    }
   ],
   "source": [
    "anim = heatgif(initial_condition)\n",
    "gif(anim, \"OUTPUT.gif\", fps=fps)"
   ]
  },
  {
   "cell_type": "code",
   "execution_count": null,
   "id": "8c1df8fa-f8d9-4d6a-aa1e-74a5dcb988e4",
   "metadata": {},
   "outputs": [],
   "source": []
  }
 ],
 "metadata": {
  "kernelspec": {
   "display_name": "Julia 1.8.1",
   "language": "julia",
   "name": "julia-1.8"
  },
  "language_info": {
   "file_extension": ".jl",
   "mimetype": "application/julia",
   "name": "julia",
   "version": "1.8.1"
  }
 },
 "nbformat": 4,
 "nbformat_minor": 5
}
