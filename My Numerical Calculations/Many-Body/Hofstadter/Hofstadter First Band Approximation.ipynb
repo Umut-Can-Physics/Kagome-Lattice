{
 "cells": [
  {
   "cell_type": "code",
   "execution_count": 1,
   "id": "therapeutic-impossible",
   "metadata": {
    "tags": []
   },
   "outputs": [
    {
     "data": {
      "text/plain": [
       "Hofstadter_SP (generic function with 1 method)"
      ]
     },
     "execution_count": 1,
     "metadata": {},
     "output_type": "execute_result"
    }
   ],
   "source": [
    "# executeme\n",
    "\n",
    "using NBInclude\n",
    "@nbinclude(\"Hofstadter Single Particle in Julia.ipynb\")"
   ]
  },
  {
   "cell_type": "code",
   "execution_count": 2,
   "id": "altered-twelve",
   "metadata": {
    "tags": []
   },
   "outputs": [],
   "source": [
    "# executeme\n",
    "\n",
    "#@time begin\n",
    "using QuantumOptics\n",
    "\n",
    "#https://juliapackages.com/p/einsum\n",
    "using Einsum\n",
    "\n",
    "# https://github.com/Jutho/TensorOperations.jl\n",
    "using TensorOperations\n",
    "\n",
    "using BenchmarkTools\n",
    "\n",
    "using LinearAlgebra\n",
    "\n",
    "#end"
   ]
  },
  {
   "cell_type": "markdown",
   "id": "raising-pathology",
   "metadata": {},
   "source": [
    "1) Hofstadter SP QoJulia energies are has to be equal to Hofstadter Single Particle energies."
   ]
  },
  {
   "cell_type": "code",
   "execution_count": 125,
   "id": "dressed-angel",
   "metadata": {
    "tags": []
   },
   "outputs": [
    {
     "data": {
      "text/plain": [
       "2"
      ]
     },
     "execution_count": 125,
     "metadata": {},
     "output_type": "execute_result"
    }
   ],
   "source": [
    "Nx = 8; Ny = 8; N=Nx*Ny; q = Nx; N_cut = q\n",
    "PN = 4\n",
    "U = 2"
   ]
  },
  {
   "cell_type": "code",
   "execution_count": 126,
   "id": "gothic-protest",
   "metadata": {
    "tags": []
   },
   "outputs": [
    {
     "data": {
      "text/plain": [
       "Hofstadter_SP_Op (generic function with 1 method)"
      ]
     },
     "execution_count": 126,
     "metadata": {},
     "output_type": "execute_result"
    }
   ],
   "source": [
    "# executeme\n",
    "\n",
    "function Hofstadter_SP_Op(Nx, Ny, alpha, Basis)\n",
    "    \n",
    "    H_SP = Hofstadter_SP(Nx,Ny,alpha, 0)\n",
    "    \n",
    "    N = Nx*Ny\n",
    "    \n",
    "    H = SparseOperator(Basis)\n",
    "\n",
    "    for m in 1:N\n",
    "        for n in 1:N\n",
    "            H = H + H_SP[m,n] * transition(Basis, m, n)\n",
    "        end\n",
    "    end\n",
    "    \n",
    "    return H\n",
    "end"
   ]
  },
  {
   "cell_type": "code",
   "execution_count": 127,
   "id": "former-white",
   "metadata": {
    "tags": []
   },
   "outputs": [
    {
     "data": {
      "text/plain": [
       "NLevel(N=64)"
      ]
     },
     "execution_count": 127,
     "metadata": {},
     "output_type": "execute_result"
    }
   ],
   "source": [
    "basis = NLevelBasis(N)"
   ]
  },
  {
   "cell_type": "code",
   "execution_count": 128,
   "id": "exotic-oracle",
   "metadata": {
    "tags": []
   },
   "outputs": [
    {
     "data": {
      "text/plain": [
       "Operator(dim=64x64)\n",
       "  basis: NLevel(N=64)sparse([2, 8, 9, 57, 1, 3, 10, 58, 2, 4  …  61, 63, 7, 55, 62, 64, 8, 56, 57, 63], [1, 1, 1, 1, 2, 2, 2, 2, 3, 3, 3, 3, 4, 4, 4, 4, 5, 5, 5, 5, 6, 6, 6, 6, 7, 7, 7, 7, 8, 8, 8, 8, 9, 9, 9, 9, 10, 10, 10, 10, 11, 11, 11, 11, 12, 12, 12, 12, 13, 13, 13, 13, 14, 14, 14, 14, 15, 15, 15, 15, 16, 16, 16, 16, 17, 17, 17, 17, 18, 18, 18, 18, 19, 19, 19, 19, 20, 20, 20, 20, 21, 21, 21, 21, 22, 22, 22, 22, 23, 23, 23, 23, 24, 24, 24, 24, 25, 25, 25, 25, 26, 26, 26, 26, 27, 27, 27, 27, 28, 28, 28, 28, 29, 29, 29, 29, 30, 30, 30, 30, 31, 31, 31, 31, 32, 32, 32, 32, 33, 33, 33, 33, 34, 34, 34, 34, 35, 35, 35, 35, 36, 36, 36, 36, 37, 37, 37, 37, 38, 38, 38, 38, 39, 39, 39, 39, 40, 40, 40, 40, 41, 41, 41, 41, 42, 42, 42, 42, 43, 43, 43, 43, 44, 44, 44, 44, 45, 45, 45, 45, 46, 46, 46, 46, 47, 47, 47, 47, 48, 48, 48, 48, 49, 49, 49, 49, 50, 50, 50, 50, 51, 51, 51, 51, 52, 52, 52, 52, 53, 53, 53, 53, 54, 54, 54, 54, 55, 55, 55, 55, 56, 56, 56, 56, 57, 57, 57, 57, 58, 58, 58, 58, 59, 59, 59, 59, 60, 60, 60, 60, 61, 61, 61, 61, 62, 62, 62, 62, 63, 63, 63, 63, 64, 64, 64, 64], ComplexF64[-1.0 + 0.0im, -1.0 + 0.0im, -1.0 + 0.0im, -1.0 + 0.0im, -1.0 + 0.0im, -1.0 + 0.0im, -0.7071067811865476 - 0.7071067811865475im, -0.7071067811865476 + 0.7071067811865475im, -1.0 + 0.0im, -1.0 + 0.0im  …  -1.0 + 0.0im, -1.0 + 0.0im, 1.8e-16 + 1.0im, 1.8e-16 - 1.0im, -1.0 + 0.0im, -1.0 + 0.0im, -0.7071067811865474 + 0.7071067811865477im, -0.7071067811865474 - 0.7071067811865477im, -1.0 + 0.0im, -1.0 + 0.0im], 64, 64)"
      ]
     },
     "execution_count": 128,
     "metadata": {},
     "output_type": "execute_result"
    }
   ],
   "source": [
    "H1 = Hofstadter_SP_Op(Nx, Ny, 1/q, basis)"
   ]
  },
  {
   "cell_type": "code",
   "execution_count": 129,
   "id": "virtual-harvey",
   "metadata": {
    "tags": []
   },
   "outputs": [
    {
     "data": {
      "text/plain": [
       "64-element Vector{Float64}:\n",
       " -3.2906575520321466\n",
       " -3.290657552032146\n",
       " -3.2906575520321453\n",
       " -3.2906575520321453\n",
       " -3.2906575520321453\n",
       " -3.290657552032145\n",
       " -3.290657552032145\n",
       " -3.2906575520321435\n",
       " -2.000000000000001\n",
       " -2.000000000000001\n",
       " -2.0\n",
       " -2.0\n",
       " -2.0\n",
       "  ⋮\n",
       "  2.0000000000000018\n",
       "  2.0000000000000018\n",
       "  2.0000000000000018\n",
       "  2.000000000000003\n",
       "  3.290657552032139\n",
       "  3.29065755203214\n",
       "  3.2906575520321404\n",
       "  3.2906575520321417\n",
       "  3.290657552032145\n",
       "  3.290657552032146\n",
       "  3.2906575520321466\n",
       "  3.2906575520321466"
      ]
     },
     "execution_count": 129,
     "metadata": {},
     "output_type": "execute_result"
    }
   ],
   "source": [
    "eigenenergies(dense(H1))"
   ]
  },
  {
   "cell_type": "code",
   "execution_count": 130,
   "id": "bearing-burner",
   "metadata": {
    "tags": []
   },
   "outputs": [
    {
     "data": {
      "text/plain": [
       "true"
      ]
     },
     "execution_count": 130,
     "metadata": {},
     "output_type": "execute_result"
    }
   ],
   "source": [
    "eigenenergies(dense(H1)) == eigvals(Hofstadter_SP(Nx,Ny,1/q,0))"
   ]
  },
  {
   "cell_type": "code",
   "execution_count": 131,
   "id": "quality-oakland",
   "metadata": {
    "tags": []
   },
   "outputs": [
    {
     "data": {
      "text/plain": [
       "get_sub_states (generic function with 1 method)"
      ]
     },
     "execution_count": 131,
     "metadata": {},
     "output_type": "execute_result"
    }
   ],
   "source": [
    "# executeme\n",
    "\n",
    "function get_sub_states(SP_Op, N_cut)\n",
    "    \n",
    "    E0, states0 = eigenstates(dense(SP_Op))\n",
    "    states = states0[1:N_cut]\n",
    "    \n",
    "    return states\n",
    "end"
   ]
  },
  {
   "cell_type": "code",
   "execution_count": 132,
   "id": "informative-adult",
   "metadata": {
    "tags": []
   },
   "outputs": [],
   "source": [
    "sub_states = get_sub_states(H1, N_cut);"
   ]
  },
  {
   "cell_type": "code",
   "execution_count": 133,
   "id": "visible-desktop",
   "metadata": {
    "tags": []
   },
   "outputs": [
    {
     "data": {
      "text/plain": [
       "get_Projector (generic function with 1 method)"
      ]
     },
     "execution_count": 133,
     "metadata": {},
     "output_type": "execute_result"
    }
   ],
   "source": [
    "# executeme\n",
    "\n",
    "function get_Projector(states, Basis)\n",
    "    \n",
    "    b_sub = SubspaceBasis(Basis,states)\n",
    "    P = projector(b_sub, Basis)\n",
    "    Pt = dagger(P)\n",
    "    \n",
    "    return b_sub, P, Pt\n",
    "end"
   ]
  },
  {
   "cell_type": "code",
   "execution_count": 134,
   "id": "seasonal-mobile",
   "metadata": {
    "tags": []
   },
   "outputs": [],
   "source": [
    "b_sub, P, Pt = get_Projector(sub_states, basis);"
   ]
  },
  {
   "cell_type": "code",
   "execution_count": 135,
   "id": "portuguese-cooperative",
   "metadata": {
    "tags": []
   },
   "outputs": [
    {
     "data": {
      "text/plain": [
       "Subspace_Op (generic function with 1 method)"
      ]
     },
     "execution_count": 135,
     "metadata": {},
     "output_type": "execute_result"
    }
   ],
   "source": [
    "# executeme\n",
    "\n",
    "function Subspace_Op(SP_Op, P, Pt)\n",
    "    return P*SP_Op*Pt\n",
    "end"
   ]
  },
  {
   "cell_type": "code",
   "execution_count": 136,
   "id": "steady-engineering",
   "metadata": {
    "tags": []
   },
   "outputs": [
    {
     "data": {
      "text/plain": [
       "Operator(dim=8x8)\n",
       "  basis: Subspace(superbasis=NLevel(N=64), states:8)\n",
       " -3.29066+2.0e-17im   4.0e-17+5.0e-17im  …  -1.7e-16+6.0e-17im\n",
       "  8.0e-17-1.7e-16im  -3.29066-0.0im          3.3e-16+1.7e-16im\n",
       "     -0.0+1.0e-17im  -2.2e-16+4.0e-17im     -6.0e-17-3.3e-16im\n",
       " -1.0e-16+8.0e-17im  -3.4e-16+4.0e-17im          0.0+1.1e-16im\n",
       " -1.3e-16-5.0e-17im  -3.0e-17+0.0im         -8.0e-17+1.0e-17im\n",
       "  8.0e-17+8.0e-17im  -4.0e-17-1.0e-17im  …   6.0e-17+0.0im\n",
       " -8.0e-17-6.0e-17im   5.0e-17+9.0e-17im      9.0e-17-5.0e-17im\n",
       " -4.3e-16+2.0e-17im   4.0e-17-2.0e-17im     -3.29066+1.0e-17im"
      ]
     },
     "execution_count": 136,
     "metadata": {},
     "output_type": "execute_result"
    }
   ],
   "source": [
    "H1_sub = Subspace_Op(H1, P, Pt)"
   ]
  },
  {
   "cell_type": "code",
   "execution_count": 137,
   "id": "numerous-vienna",
   "metadata": {
    "tags": []
   },
   "outputs": [
    {
     "data": {
      "text/plain": [
       "get_num_sub_list (generic function with 1 method)"
      ]
     },
     "execution_count": 137,
     "metadata": {},
     "output_type": "execute_result"
    }
   ],
   "source": [
    "# executeme\n",
    "\n",
    "function get_num_sub_list(basis,P,Pt)\n",
    "    num_sub_list = []\n",
    "    for m in 1:N\n",
    "        NM = transition(basis, m, m)\n",
    "        NMP = Subspace_Op(NM, P,Pt)\n",
    "        push!(num_sub_list, NMP)\n",
    "    end\n",
    "    return num_sub_list\n",
    "end"
   ]
  },
  {
   "cell_type": "code",
   "execution_count": 138,
   "id": "central-recovery",
   "metadata": {},
   "outputs": [],
   "source": [
    "num_sub_list = get_num_sub_list(basis,P,Pt);"
   ]
  },
  {
   "cell_type": "code",
   "execution_count": 139,
   "id": "statistical-postcard",
   "metadata": {
    "tags": []
   },
   "outputs": [
    {
     "data": {
      "text/plain": [
       "ManyBody(onebodybasis=Subspace(superbasis=NLevel(N=64), states:8), states:330)"
      ]
     },
     "execution_count": 139,
     "metadata": {},
     "output_type": "execute_result"
    }
   ],
   "source": [
    "states_mb = bosonstates(b_sub, PN) \n",
    "basis_mb = ManyBodyBasis(b_sub, states_mb)"
   ]
  },
  {
   "cell_type": "code",
   "execution_count": 140,
   "id": "certain-tuition",
   "metadata": {
    "tags": []
   },
   "outputs": [
    {
     "data": {
      "text/plain": [
       "get_MB_Op (generic function with 1 method)"
      ]
     },
     "execution_count": 140,
     "metadata": {},
     "output_type": "execute_result"
    }
   ],
   "source": [
    "# executeme\n",
    "\n",
    "function get_MB_Op(MB_Basis, Basis, Op)\n",
    "    \n",
    "    Op_MB = SparseOperator(MB_Basis)\n",
    "    for i in 1:length(Basis)\n",
    "        for j in 1:length(Basis)\n",
    "            Op_MB = Op_MB + Op.data[i,j] * transition(MB_Basis, i, j)\n",
    "        end\n",
    "    end\n",
    "    \n",
    "    return Op_MB\n",
    "end"
   ]
  },
  {
   "cell_type": "code",
   "execution_count": 141,
   "id": "another-london",
   "metadata": {
    "tags": []
   },
   "outputs": [],
   "source": [
    "H1_MB = get_MB_Op(basis_mb, b_sub, H1_sub);"
   ]
  },
  {
   "cell_type": "code",
   "execution_count": 142,
   "id": "mobile-alignment",
   "metadata": {
    "tags": []
   },
   "outputs": [],
   "source": [
    "# H1_mb = manybodyoperator(basis_mb, H1_sub)"
   ]
  },
  {
   "cell_type": "code",
   "execution_count": 143,
   "id": "arctic-sound",
   "metadata": {
    "tags": []
   },
   "outputs": [
    {
     "data": {
      "text/plain": [
       "get_num_mb_list (generic function with 1 method)"
      ]
     },
     "execution_count": 143,
     "metadata": {},
     "output_type": "execute_result"
    }
   ],
   "source": [
    "# executeme\n",
    "\n",
    "function get_num_mb_list(basis_mb, b_sub, num_sub_list)\n",
    "    num_mb_list = []\n",
    "    for m in 1:N\n",
    "        NMP = get_MB_Op(basis_mb, b_sub, num_sub_list[m])\n",
    "        push!(num_mb_list, NMP)\n",
    "    end\n",
    "    return num_mb_list\n",
    "end"
   ]
  },
  {
   "cell_type": "code",
   "execution_count": 144,
   "id": "spread-falls",
   "metadata": {},
   "outputs": [],
   "source": [
    "num_mb_list = get_num_mb_list(basis_mb, b_sub, num_sub_list);"
   ]
  },
  {
   "cell_type": "code",
   "execution_count": 145,
   "id": "thermal-necklace",
   "metadata": {
    "tags": []
   },
   "outputs": [],
   "source": [
    "function Int_Op(MB_Num_Op_List, MB_Basis, U)\n",
    "\n",
    "    IT = SparseOperator(MB_Basis)\n",
    "    \n",
    "    for m in 1:N\n",
    "        IT = IT + U/2 * ( MB_Num_Op_List[m]*MB_Num_Op_List[m] - MB_Num_Op_List[m] )\n",
    "    end\n",
    "    \n",
    "    return IT\n",
    "end\n",
    "\n",
    "H_Int_MB = Int_Op(num_mb_list, basis_mb, U);"
   ]
  },
  {
   "cell_type": "code",
   "execution_count": 146,
   "id": "featured-source",
   "metadata": {
    "tags": []
   },
   "outputs": [
    {
     "name": "stdout",
     "output_type": "stream",
     "text": [
      " 77.154504 seconds (1.78 G allocations: 172.833 GiB, 21.03% gc time)\n"
     ]
    },
    {
     "data": {
      "text/plain": [
       "Operator(dim=330x330)\n",
       "  basis: ManyBody(onebodybasis=Subspace(superbasis=NLevel(N=64), states:8), states:330)\n",
       "     0.4596+0.0im         …          0.0+0.0im\n",
       "  0.0727069-0.0031256im              0.0+0.0im\n",
       "  0.0165096-0.0364714im              0.0+0.0im\n",
       " -0.0950013-0.00469991im             0.0+0.0im\n",
       " -0.0416055-0.00977385im             0.0+0.0im\n",
       "  0.0423214-0.0568441im   …          0.0+0.0im\n",
       "  0.0132951-0.00821458im             0.0+0.0im\n",
       "  0.0532268+0.0429626im              0.0+0.0im\n",
       "  -0.008194+0.0302229im              0.0+0.0im\n",
       " -0.0346365+0.00496953im             0.0+0.0im\n",
       " -0.0177489-0.0206397im   …          0.0+0.0im\n",
       " -0.0238066-0.018637im               0.0+0.0im\n",
       "  0.0151804-0.0330728im              0.0+0.0im\n",
       "           ⋮              ⋱  \n",
       "        0.0+0.0im                    0.0+0.0im\n",
       "        0.0+0.0im                    0.0+0.0im\n",
       "        0.0+0.0im         …  -0.00114576+0.0189515im\n",
       "        0.0+0.0im                    0.0+0.0im\n",
       "        0.0+0.0im                    0.0+0.0im\n",
       "        0.0+0.0im             0.00694434-0.00749802im\n",
       "        0.0+0.0im             -0.0208997+0.0106249im\n",
       "        0.0+0.0im         …          0.0+0.0im\n",
       "        0.0+0.0im                    0.0+0.0im\n",
       "        0.0+0.0im             0.00137527+0.000627068im\n",
       "        0.0+0.0im             -0.0146386+0.0114692im\n",
       "        0.0+0.0im               0.411995+0.0im"
      ]
     },
     "execution_count": 146,
     "metadata": {},
     "output_type": "execute_result"
    }
   ],
   "source": [
    "#@btime begin\n",
    "@time begin\n",
    "basis2 = basis ⊗ basis\n",
    "\n",
    "# interaction : at_i at_i a_i a_i = at_i a_i at_i a_i - at_i a_i = n_i n_i - n_i\n",
    "    \n",
    "Vint = SparseOperator(basis2)\n",
    "\n",
    "for n in 1:N\n",
    "    Vint += U/2*transition(basis,n,n)⊗transition(basis,n,n)\n",
    "end\n",
    "\n",
    "Vint_sub = (P⊗P)*Vint*(Pt⊗Pt)\n",
    "\n",
    "Vint_mb = manybodyoperator(basis_mb, Vint_sub)\n",
    "end"
   ]
  },
  {
   "cell_type": "code",
   "execution_count": 147,
   "id": "russian-hungarian",
   "metadata": {},
   "outputs": [],
   "source": [
    "P1 = P.data\n",
    "P1t = Pt.data;"
   ]
  },
  {
   "cell_type": "code",
   "execution_count": 148,
   "id": "enabling-transparency",
   "metadata": {},
   "outputs": [
    {
     "name": "stdout",
     "output_type": "stream",
     "text": [
      "  0.054616 seconds (1.86 M allocations: 56.849 MiB, 13.25% gc time)\n"
     ]
    }
   ],
   "source": [
    "@time  @einsum P4[k,l,m,n] := P1[k,i] * P1[l,i] * P1t[i,m] * P1t[i,n];"
   ]
  },
  {
   "cell_type": "code",
   "execution_count": 149,
   "id": "clear-recording",
   "metadata": {},
   "outputs": [
    {
     "name": "stdout",
     "output_type": "stream",
     "text": [
      "  0.000009 seconds (2 allocations: 176 bytes)\n"
     ]
    },
    {
     "data": {
      "text/plain": [
       "[Subspace(superbasis=NLevel(N=64), states:8) ⊗ Subspace(superbasis=NLevel(N=64), states:8)]"
      ]
     },
     "execution_count": 149,
     "metadata": {},
     "output_type": "execute_result"
    }
   ],
   "source": [
    "@time b2_sub = b_sub ⊗ b_sub"
   ]
  },
  {
   "cell_type": "code",
   "execution_count": 150,
   "id": "photographic-mongolia",
   "metadata": {},
   "outputs": [
    {
     "name": "stdout",
     "output_type": "stream",
     "text": [
      "  0.000016 seconds (2 allocations: 96 bytes)\n"
     ]
    }
   ],
   "source": [
    "@time P4re = reshape(P4, N_cut^2, N_cut^2);"
   ]
  },
  {
   "cell_type": "code",
   "execution_count": 151,
   "id": "bronze-establishment",
   "metadata": {},
   "outputs": [
    {
     "name": "stdout",
     "output_type": "stream",
     "text": [
      "  0.000041 seconds (9 allocations: 160.938 KiB)\n"
     ]
    }
   ],
   "source": [
    "@time Vint_bsub2 = SparseOperator(b2_sub,U/2*P4re);"
   ]
  },
  {
   "cell_type": "code",
   "execution_count": 152,
   "id": "static-purse",
   "metadata": {},
   "outputs": [
    {
     "data": {
      "text/plain": [
       "get_Vint_bsub2_einsum (generic function with 1 method)"
      ]
     },
     "execution_count": 152,
     "metadata": {},
     "output_type": "execute_result"
    }
   ],
   "source": [
    "# executeme\n",
    "\n",
    "function get_Vint_bsub2_einsum(P, Pt, b_sub, N_cut)\n",
    "    P1 = P.data\n",
    "    P1t = Pt.data;\n",
    "\n",
    "    @einsum P4[k,l,m,n] := P1[k,i] * P1[l,i] * P1t[i,m] * P1t[i,n]\n",
    "\n",
    "    b2_sub = b_sub ⊗ b_sub\n",
    "\n",
    "    P4re = reshape(P4, N_cut^2, N_cut^2)\n",
    "\n",
    "    Vint_bsub2 = SparseOperator(b2_sub,U/2*P4re)\n",
    "    #Vint_bsub2 = Operator(b2_sub,U/2*P4re)\n",
    "\n",
    "    return Vint_bsub2\n",
    "end"
   ]
  },
  {
   "cell_type": "code",
   "execution_count": 153,
   "id": "spectacular-steel",
   "metadata": {},
   "outputs": [
    {
     "name": "stdout",
     "output_type": "stream",
     "text": [
      "  0.065670 seconds (70.70 k allocations: 5.019 MiB, 99.00% compilation time)\n"
     ]
    }
   ],
   "source": [
    "@time begin\n",
    "Vint_bsub2 = get_Vint_bsub2_einsum(P, Pt, b_sub, N_cut)\n",
    "end;"
   ]
  },
  {
   "cell_type": "code",
   "execution_count": 154,
   "id": "million-material",
   "metadata": {},
   "outputs": [
    {
     "name": "stdout",
     "output_type": "stream",
     "text": [
      " 30.426228 seconds (892.11 M allocations: 106.350 GiB, 13.94% gc time)\n"
     ]
    }
   ],
   "source": [
    "@time begin\n",
    "Vint_mb_einsum = manybodyoperator(basis_mb, Vint_bsub2)\n",
    "end;"
   ]
  },
  {
   "cell_type": "code",
   "execution_count": 155,
   "id": "primary-slide",
   "metadata": {},
   "outputs": [
    {
     "data": {
      "text/plain": [
       "manybodyoperator_2_Hubbard (generic function with 1 method)"
      ]
     },
     "execution_count": 155,
     "metadata": {},
     "output_type": "execute_result"
    }
   ],
   "source": [
    "function manybodyoperator_2_Hubbard(basis::ManyBodyBasis, op::SparseOpType)\n",
    "    N = length(basis)\n",
    "    S = length(basis.onebodybasis)\n",
    "    result = SparseOperator(basis)\n",
    "    occupations = basis.occupations\n",
    "    rows = QuantumOpticsBase.rowvals(op.data)\n",
    "    values = QuantumOpticsBase.nonzeros(op.data)\n",
    "    @inbounds for column=1:S^2, j in QuantumOpticsBase.nzrange(op.data, column)\n",
    "        row = rows[j]\n",
    "        value = values[j]\n",
    "        index = Tuple(CartesianIndices((S, S, S, S))[(column-1)*S^2 + row])\n",
    "        for m=1:N, n=1:N\n",
    "            # println(\"row:\", row, \" column:\"column, ind_left)\n",
    "            C = QuantumOpticsBase.coefficient(occupations[m], occupations[n], index[1:2], index[3:4])\n",
    "            if C!=0.\n",
    "                result.data[m,n] += C*value\n",
    "            end\n",
    "        end\n",
    "    end\n",
    "    return result\n",
    "end"
   ]
  },
  {
   "cell_type": "code",
   "execution_count": 156,
   "id": "controlled-superior",
   "metadata": {},
   "outputs": [
    {
     "name": "stdout",
     "output_type": "stream",
     "text": [
      " 31.367981 seconds (892.14 M allocations: 106.352 GiB, 15.09% gc time, 0.14% compilation time)\n"
     ]
    }
   ],
   "source": [
    "@time Vint_mb_Hubbard = manybodyoperator_2_Hubbard(basis_mb, Vint_bsub2);"
   ]
  },
  {
   "cell_type": "code",
   "execution_count": 157,
   "id": "continuous-association",
   "metadata": {},
   "outputs": [
    {
     "data": {
      "text/plain": [
       "true"
      ]
     },
     "execution_count": 157,
     "metadata": {},
     "output_type": "execute_result"
    }
   ],
   "source": [
    "isapprox( Vint_mb_einsum, Vint_mb_Hubbard )"
   ]
  },
  {
   "cell_type": "code",
   "execution_count": 158,
   "id": "offshore-dylan",
   "metadata": {},
   "outputs": [
    {
     "data": {
      "text/plain": [
       "true"
      ]
     },
     "execution_count": 158,
     "metadata": {},
     "output_type": "execute_result"
    }
   ],
   "source": [
    "isapprox( Vint_mb , Vint_mb_einsum )"
   ]
  },
  {
   "cell_type": "code",
   "execution_count": 159,
   "id": "muslim-florence",
   "metadata": {},
   "outputs": [
    {
     "data": {
      "text/plain": [
       "330×330 SparseArrays.SparseMatrixCSC{ComplexF64, Int64} with 36282 stored entries:\n",
       "⎡⣿⣿⣿⣿⣿⣿⣿⣿⣿⣿⣷⣶⣶⣶⣦⣤⣤⣤⣤⣤⣤⣤⣄⣀⣀⠀⠀⠀⠀⠀⠀⠀⠀⠀⠀⠀⠀⠀⠀⠀⎤\n",
       "⎢⣿⣿⣿⣿⣿⣿⣿⣿⣿⣿⣿⣿⣿⣿⣷⠙⠦⡀⠻⢟⠳⣶⢤⣄⡈⠻⣟⠻⡿⣿⣛⠲⣶⢶⣦⢤⣤⣄⣀⡀⎥\n",
       "⎢⣿⣿⣿⣿⣵⣿⣿⣿⣿⣿⣿⣿⣿⣯⣽⣶⣶⣾⣶⣶⣷⣾⣷⣯⣭⣤⣬⣅⣈⣈⣉⡁⠈⠉⠉⠉⠉⠉⠉⠉⎥\n",
       "⎢⣿⣿⣿⣿⣿⣿⣿⣿⣿⣿⣿⣿⣿⣿⣿⣿⣿⣿⣿⣿⣿⣿⣿⣿⣿⣙⣯⡙⢿⢿⣯⡙⢿⡻⣿⣗⢶⣶⣤⣄⎥\n",
       "⎢⣿⣿⣿⣿⣿⣿⣿⣿⣿⣿⣿⣿⣿⣿⣷⢻⡦⣄⣿⣿⡷⢶⢤⣄⣸⣿⣿⣿⣿⣿⣿⡷⣶⢶⣶⡦⣤⣤⣀⡀⎥\n",
       "⎢⢹⣿⣿⣿⣿⣿⣿⣿⣿⣿⣿⣿⣿⣿⣿⠈⣷⣌⢹⣯⣹⣿⣧⣍⡉⢻⢍⢿⣿⢭⣍⣻⣿⣷⣿⣿⣬⣭⣉⣉⎥\n",
       "⎢⢸⣿⣿⣿⡿⣿⣿⣿⣿⣿⣿⣿⣿⣿⣿⠀⠘⣿⠀⢻⡏⢿⣿⣷⣯⠈⢷⡝⣿⢿⣿⡍⢿⣿⣿⡿⣿⣿⣾⣯⎥\n",
       "⎢⠈⣿⣝⠛⢳⣿⣿⣿⣽⣛⡛⠛⠛⠛⢻⣶⣶⣾⣶⣶⣷⣾⣧⣯⣿⣤⣬⣇⣘⣈⣛⡃⠈⠋⠋⠛⠙⠛⠙⠛⎥\n",
       "⎢⠀⣿⠈⠣⣸⣿⣿⣿⠈⢯⡙⢿⣶⣤⣸⣿⣿⣿⣿⣿⣿⣿⣿⣿⣿⠙⢯⡙⢟⢿⣭⡙⢿⣻⣿⣳⣶⣦⣤⣄⎥\n",
       "⎢⠀⣿⣿⢆⢸⣿⣿⣿⣿⣿⡷⣶⣤⣀⢸⣿⣿⣿⣿⣿⣿⣿⣿⣿⣿⣿⣿⣿⣿⣿⣿⡷⣶⢶⣶⢦⣤⣄⣀⡀⎥\n",
       "⎢⠀⣿⢹⣦⣹⣿⣿⣿⢹⣏⣷⣾⣯⣍⣹⣿⣿⣿⣿⣿⣿⣿⣿⣿⣿⢿⣍⣿⣿⣭⣍⣷⣾⣿⣿⣯⣭⣭⣉⣉⎥\n",
       "⎢⠀⢹⠀⢷⡽⣿⣿⣿⠀⢷⡍⢿⢿⣿⡭⣿⣿⣿⣿⣿⣿⣿⣿⣿⣿⠈⢷⠽⣯⢿⣿⡍⢿⢿⣿⡽⣿⣿⣾⣯⎥\n",
       "⎢⠀⠘⣦⡈⠃⣿⣟⢻⣶⣾⣧⣈⡋⠛⠛⣿⣟⠛⣿⣿⣿⣟⡛⠛⢻⣶⣾⣷⣿⣾⣿⣧⣬⣏⣛⣛⠙⠛⠙⠛⎥\n",
       "⎢⠀⠀⣿⡙⠆⢿⣏⠻⣿⣿⣧⣕⣝⠷⠦⢿⣏⠳⣿⣿⣧⣽⣝⡗⢾⣿⣿⣿⣿⣿⣿⣧⣵⣽⣷⣮⣻⡿⠲⠶⎥\n",
       "⎢⠀⠀⣿⣯⡂⢸⣿⣗⣿⣿⡟⣟⣿⣟⡒⢸⣿⣕⣿⣿⡟⣿⣯⣟⣻⣿⣿⣿⣿⣿⣿⡟⣟⣿⣟⣻⣿⣿⣛⣓⎥\n",
       "⎢⠀⠀⢻⡘⠇⠸⣏⠻⢿⡿⣧⣹⡟⠿⠿⠸⣇⠻⢿⡿⢧⣽⡟⠿⠿⣿⠿⣿⣿⠿⠿⣧⣽⣟⣿⣿⠻⠿⠿⠿⎥\n",
       "⎢⠀⠀⢸⣟⡆⠀⣿⡳⢸⣟⢿⣿⣿⣷⡦⠀⣿⣳⢸⣟⣾⣿⣿⣗⡦⢿⣕⣿⣿⣽⣷⢿⣿⣿⣿⣿⣿⣿⣲⡶⎥\n",
       "⎢⠀⠀⠈⣟⡇⠀⢿⢿⠸⡿⣿⣿⣿⡿⣯⠀⢿⣻⠸⣟⡿⣿⣟⡿⣿⢸⡹⣿⣿⣹⣿⣿⣿⣿⣿⣿⣿⣿⢿⣿⎥\n",
       "⎢⠀⠀⠀⢿⡇⠀⢸⣷⠀⣿⡆⣿⣿⣿⣷⠀⠸⣿⠀⢿⡇⣿⣿⣿⣷⠀⣿⡾⣿⣿⣿⡆⣿⣿⣿⣿⣿⣿⣿⣷⎥\n",
       "⎣⠀⠀⠀⠸⡇⠀⠀⢿⠀⠸⡇⢸⡾⣿⣷⠀⠀⢿⠀⠸⡇⢸⡾⣿⣷⠀⢸⡆⢿⢸⣿⡇⢸⡾⣿⣷⢿⣿⣿⣿⎦"
      ]
     },
     "execution_count": 159,
     "metadata": {},
     "output_type": "execute_result"
    }
   ],
   "source": [
    "Vint_mb_einsum.data"
   ]
  },
  {
   "cell_type": "code",
   "execution_count": 63,
   "id": "future-click",
   "metadata": {},
   "outputs": [
    {
     "data": {
      "text/plain": [
       "6×6 SparseArrays.SparseMatrixCSC{ComplexF64, Int64} with 6 stored entries:\n",
       " 0.325738-1.00831e-17im           ⋅              …           ⋅    \n",
       "          ⋅              0.303695+1.06068e-18im              ⋅    \n",
       "          ⋅                       ⋅                          ⋅    \n",
       "          ⋅                       ⋅                          ⋅    \n",
       "          ⋅                       ⋅                          ⋅    \n",
       "          ⋅                       ⋅              …  0.379433-1.90853e-17im"
      ]
     },
     "execution_count": 63,
     "metadata": {},
     "output_type": "execute_result"
    }
   ],
   "source": [
    "Vint_mb_Hubbard.data"
   ]
  },
  {
   "cell_type": "code",
   "execution_count": 45,
   "id": "facial-squad",
   "metadata": {
    "tags": []
   },
   "outputs": [
    {
     "data": {
      "text/plain": [
       "Operator(dim=6x6)\n",
       "  basis: ManyBody(onebodybasis=Subspace(superbasis=NLevel(N=9), states:3), states:6)sparse([1, 2, 3, 2, 3, 4, 5, 1, 2, 3  …  6, 4, 5, 2, 4, 5, 6, 3, 5, 6], [1, 1, 1, 2, 2, 2, 2, 3, 3, 3, 3, 3, 4, 4, 5, 5, 5, 5, 6, 6, 6], ComplexF64[-5.138363413839574 - 1.0e-17im, -1.6e-16 + 1.0e-17im, -3.1e-16 - 1.4e-16im, -5.160406455647614 - 2.0e-17im, 3.0e-17 + 5.0e-17im, -1.6e-16 + 1.0e-17im, -2.2e-16 - 1.0e-16im, -3.1e-16 + 1.6e-16im, -1.0e-17 + 7.0e-17im, -5.085939843890933 + 2.2e-16im  …  -3.1e-16 - 1.4e-16im, -5.047434948471091 - 4.0e-17im, 5.0e-17 + 7.0e-17im, -2.2e-16 + 1.1e-16im, -1.0e-17 + 1.0e-16im, -5.267796774627898 + 2.0e-16im, 5.0e-17 + 7.0e-17im, -3.1e-16 + 1.6e-16im, -1.0e-17 + 1.0e-16im, -5.084668254349429 + 4.3e-16im], 6, 6)"
      ]
     },
     "execution_count": 45,
     "metadata": {},
     "output_type": "execute_result"
    }
   ],
   "source": [
    "H_MB = H1_MB + Vint_mb_einsum\n",
    "H_mb = H1_MB + Vint_mb_Hubbard"
   ]
  },
  {
   "cell_type": "markdown",
   "id": "collect-watson",
   "metadata": {},
   "source": [
    "2) If U<<Band-Gap, Sub-Space Hofstadter Finite-U energies converges at Hofstadter Finite-U energies.\n",
    "3) When all SP states projected to the new sub-space, Sub-Space Hofstadter Finite-U energies have to equal to Hofstadter Finite-U energies."
   ]
  },
  {
   "cell_type": "code",
   "execution_count": 46,
   "id": "optimum-liberal",
   "metadata": {
    "tags": []
   },
   "outputs": [
    {
     "data": {
      "text/plain": [
       "Hofstadter_Finite_U (generic function with 1 method)"
      ]
     },
     "execution_count": 46,
     "metadata": {},
     "output_type": "execute_result"
    }
   ],
   "source": [
    "@nbinclude(\"Hofstadter MB in Julia.ipynb\"; regex=r\"#.*executeme\")"
   ]
  },
  {
   "cell_type": "code",
   "execution_count": 47,
   "id": "necessary-interaction",
   "metadata": {
    "tags": []
   },
   "outputs": [
    {
     "name": "stdout",
     "output_type": "stream",
     "text": [
      "[-5.29743494847109, -5.297434948471089, -5.297434948471085, -4.964101615137757, -4.964101615137756, -4.9641016151377535]\n",
      "[-5.2677967746278975, -5.1604064556476175, -5.138363413839573, -5.085939843890931, -5.084668254349429, -5.047434948471093]\n",
      "[-5.340971176014529, -5.340971176014522, -5.340971176014509, -5.0661682656188365, -5.06616826561883, -5.066168265618821, -1.81285035447887, -1.8128503544788692, -1.8128503544788688, -1.704570336931173]"
     ]
    }
   ],
   "source": [
    "# using Plots\n",
    "\n",
    "E1 = eigenenergies(dense((H_MB+dagger(H_MB))/2))\n",
    "\n",
    "E_mb = eigenenergies(dense((H_mb+dagger(H_mb))/2))\n",
    "\n",
    "\n",
    "E2 = eigenenergies(dense(Hofstadter_Finite_U(Nx, Ny, 1/q, PN, U)))\n",
    "\n",
    "# print(E1-E2[1:length(E1)])\n",
    "\n",
    "# plot(1:length(E1),E1,seriestype=:scatter,markershape=:star5, markersize=6, label=\"Sub-Space\")\n",
    "# plot!(1:length(E2),E2,seriestype=:scatter,label=\"Real-Space\",legend=:topleft)\n",
    "# xlabel!(\"n\");ylabel!(\"E\")\n",
    "\n",
    "print(E1,'\\n', E_mb,'\\n',E2[1:10])"
   ]
  },
  {
   "cell_type": "code",
   "execution_count": 40,
   "id": "beautiful-administration",
   "metadata": {
    "tags": []
   },
   "outputs": [
    {
     "data": {
      "text/plain": [
       "6-element Vector{Float64}:\n",
       " -5.297434948471091\n",
       " -5.29743494847109\n",
       " -5.297434948471087\n",
       " -4.964101615137757\n",
       " -4.964101615137755\n",
       " -4.964101615137754"
      ]
     },
     "execution_count": 40,
     "metadata": {},
     "output_type": "execute_result"
    }
   ],
   "source": [
    "E_mb"
   ]
  },
  {
   "cell_type": "code",
   "execution_count": null,
   "id": "square-thing",
   "metadata": {},
   "outputs": [],
   "source": []
  },
  {
   "cell_type": "code",
   "execution_count": null,
   "id": "educational-selection",
   "metadata": {},
   "outputs": [],
   "source": []
  },
  {
   "cell_type": "code",
   "execution_count": null,
   "id": "governmental-rotation",
   "metadata": {},
   "outputs": [],
   "source": []
  },
  {
   "cell_type": "code",
   "execution_count": null,
   "id": "horizontal-abraham",
   "metadata": {},
   "outputs": [],
   "source": []
  }
 ],
 "metadata": {
  "kernelspec": {
   "display_name": "Julia 1.9.0-rc1",
   "language": "julia",
   "name": "julia-1.9"
  },
  "language_info": {
   "file_extension": ".jl",
   "mimetype": "application/julia",
   "name": "julia",
   "version": "1.9.0"
  }
 },
 "nbformat": 4,
 "nbformat_minor": 5
}
