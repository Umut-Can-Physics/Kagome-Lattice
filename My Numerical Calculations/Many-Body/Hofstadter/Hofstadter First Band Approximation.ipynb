{
 "cells": [
  {
   "cell_type": "code",
   "execution_count": 1,
   "id": "hollywood-nursing",
   "metadata": {
    "tags": []
   },
   "outputs": [
    {
     "data": {
      "text/plain": [
       "Hofstadter_SP (generic function with 1 method)"
      ]
     },
     "execution_count": 1,
     "metadata": {},
     "output_type": "execute_result"
    }
   ],
   "source": [
    "using NBInclude\n",
    "@nbinclude(\"Hofstadter Single Particle in Julia.ipynb\")"
   ]
  },
  {
   "cell_type": "code",
   "execution_count": 2,
   "id": "buried-leisure",
   "metadata": {
    "tags": []
   },
   "outputs": [],
   "source": [
    "using QuantumOptics\n",
    "\n",
    "#https://juliapackages.com/p/einsum\n",
    "using Einsum\n",
    "\n",
    "# https://github.com/Jutho/TensorOperations.jl\n",
    "using TensorOperations\n",
    "\n",
    "using BenchmarkTools"
   ]
  },
  {
   "cell_type": "code",
   "execution_count": 3,
   "id": "wireless-scheme",
   "metadata": {
    "tags": []
   },
   "outputs": [
    {
     "data": {
      "text/plain": [
       "Hofstadter_SP_Op (generic function with 1 method)"
      ]
     },
     "execution_count": 3,
     "metadata": {},
     "output_type": "execute_result"
    }
   ],
   "source": [
    "function Hofstadter_SP_Op(Nx, Ny, alpha, Basis)\n",
    "    \n",
    "    H_SP = Hofstadter_SP(Nx,Ny,alpha, 0)\n",
    "    \n",
    "    N = Nx*Ny\n",
    "    \n",
    "    H = SparseOperator(Basis)\n",
    "\n",
    "    for m in 1:N\n",
    "        for n in 1:N\n",
    "            H = H + H_SP[m,n] * transition(Basis, m, n)\n",
    "        end\n",
    "    end\n",
    "    \n",
    "    return H\n",
    "end"
   ]
  },
  {
   "cell_type": "markdown",
   "id": "latest-scheduling",
   "metadata": {},
   "source": [
    "1) Hofstadter SP QoJulia energies are has to be equal to Hofstadter Single Particle energies."
   ]
  },
  {
   "cell_type": "code",
   "execution_count": 4,
   "id": "earned-doctrine",
   "metadata": {
    "tags": []
   },
   "outputs": [
    {
     "data": {
      "text/plain": [
       "2"
      ]
     },
     "execution_count": 4,
     "metadata": {},
     "output_type": "execute_result"
    }
   ],
   "source": [
    "Nx = 5; Ny = 5; N=Nx*Ny; q = 5; N_cut = 5\n",
    "PN = 2\n",
    "U = 2"
   ]
  },
  {
   "cell_type": "code",
   "execution_count": 5,
   "id": "mobile-encounter",
   "metadata": {
    "tags": []
   },
   "outputs": [
    {
     "data": {
      "text/plain": [
       "NLevel(N=25)"
      ]
     },
     "execution_count": 5,
     "metadata": {},
     "output_type": "execute_result"
    }
   ],
   "source": [
    "using LinearAlgebra\n",
    "\n",
    "basis = NLevelBasis(N)"
   ]
  },
  {
   "cell_type": "code",
   "execution_count": 6,
   "id": "downtown-sussex",
   "metadata": {
    "tags": []
   },
   "outputs": [
    {
     "data": {
      "text/plain": [
       "Operator(dim=25x25)\n",
       "  basis: NLevel(N=25)sparse([2, 5, 6, 21, 1, 3, 7, 22, 2, 4  …  22, 24, 4, 19, 23, 25, 5, 20, 21, 24], [1, 1, 1, 1, 2, 2, 2, 2, 3, 3, 3, 3, 4, 4, 4, 4, 5, 5, 5, 5, 6, 6, 6, 6, 7, 7, 7, 7, 8, 8, 8, 8, 9, 9, 9, 9, 10, 10, 10, 10, 11, 11, 11, 11, 12, 12, 12, 12, 13, 13, 13, 13, 14, 14, 14, 14, 15, 15, 15, 15, 16, 16, 16, 16, 17, 17, 17, 17, 18, 18, 18, 18, 19, 19, 19, 19, 20, 20, 20, 20, 21, 21, 21, 21, 22, 22, 22, 22, 23, 23, 23, 23, 24, 24, 24, 24, 25, 25, 25, 25], ComplexF64[-1.0 + 0.0im, -1.0 + 0.0im, -1.0 + 0.0im, -1.0 + 0.0im, -1.0 + 0.0im, -1.0 + 0.0im, -0.30901699437494745 - 0.9510565162951536im, -0.30901699437494745 + 0.9510565162951536im, -1.0 + 0.0im, -1.0 + 0.0im  …  -1.0 + 0.0im, -1.0 + 0.0im, 0.8090169943749476 + 0.587785252292473im, 0.8090169943749476 - 0.587785252292473im, -1.0 + 0.0im, -1.0 + 0.0im, -0.30901699437494723 + 0.9510565162951536im, -0.30901699437494723 - 0.9510565162951536im, -1.0 + 0.0im, -1.0 + 0.0im], 25, 25)"
      ]
     },
     "execution_count": 6,
     "metadata": {},
     "output_type": "execute_result"
    }
   ],
   "source": [
    "H1 = Hofstadter_SP_Op(Nx, Ny, 1/q, basis)"
   ]
  },
  {
   "cell_type": "code",
   "execution_count": 7,
   "id": "infrared-bread",
   "metadata": {
    "tags": []
   },
   "outputs": [
    {
     "data": {
      "text/plain": [
       "25-element Vector{Float64}:\n",
       " -2.9664479891433726\n",
       " -2.9664479891433726\n",
       " -2.966447989143372\n",
       " -2.966447989143372\n",
       " -2.966447989143372\n",
       " -0.9021130325903075\n",
       " -0.9021130325903074\n",
       " -0.9021130325903071\n",
       " -0.9021130325903066\n",
       " -0.9021130325903048\n",
       " -0.38196601125010654\n",
       " -0.3819660112501064\n",
       " -0.381966011250106\n",
       " -0.3819660112501059\n",
       " -0.38196601125010454\n",
       "  1.3484140003934764\n",
       "  1.348414000393477\n",
       "  1.3484140003934773\n",
       "  1.348414000393479\n",
       "  1.3484140003934793\n",
       "  2.902113032590303\n",
       "  2.9021130325903046\n",
       "  2.902113032590308\n",
       "  2.902113032590309\n",
       "  2.902113032590309"
      ]
     },
     "execution_count": 7,
     "metadata": {},
     "output_type": "execute_result"
    }
   ],
   "source": [
    "eigenenergies(dense(H1))"
   ]
  },
  {
   "cell_type": "code",
   "execution_count": 8,
   "id": "signal-stewart",
   "metadata": {
    "tags": []
   },
   "outputs": [
    {
     "data": {
      "text/plain": [
       "true"
      ]
     },
     "execution_count": 8,
     "metadata": {},
     "output_type": "execute_result"
    }
   ],
   "source": [
    "eigenenergies(dense(H1)) == eigvals(Hofstadter_SP(Nx,Ny,1/q,0))"
   ]
  },
  {
   "cell_type": "code",
   "execution_count": 9,
   "id": "competitive-second",
   "metadata": {
    "tags": []
   },
   "outputs": [
    {
     "data": {
      "text/plain": [
       "get_sub_states (generic function with 1 method)"
      ]
     },
     "execution_count": 9,
     "metadata": {},
     "output_type": "execute_result"
    }
   ],
   "source": [
    "function get_sub_states(SP_Op, N_cut)\n",
    "    \n",
    "    E0, states0 = eigenstates(dense(SP_Op))\n",
    "    states = states0[1:N_cut]\n",
    "    \n",
    "    return states\n",
    "end"
   ]
  },
  {
   "cell_type": "code",
   "execution_count": 10,
   "id": "african-profit",
   "metadata": {
    "tags": []
   },
   "outputs": [],
   "source": [
    "sub_states = get_sub_states(H1, N_cut);"
   ]
  },
  {
   "cell_type": "code",
   "execution_count": 11,
   "id": "fatty-example",
   "metadata": {
    "tags": []
   },
   "outputs": [
    {
     "data": {
      "text/plain": [
       "get_Projector (generic function with 1 method)"
      ]
     },
     "execution_count": 11,
     "metadata": {},
     "output_type": "execute_result"
    }
   ],
   "source": [
    "function get_Projector(states, Basis)\n",
    "    \n",
    "    b_sub = SubspaceBasis(Basis,states)\n",
    "    P = projector(b_sub, Basis)\n",
    "    Pt = dagger(P)\n",
    "    \n",
    "    return b_sub, P, Pt\n",
    "end"
   ]
  },
  {
   "cell_type": "code",
   "execution_count": 12,
   "id": "transparent-administrator",
   "metadata": {
    "tags": []
   },
   "outputs": [],
   "source": [
    "b_sub, P, Pt = get_Projector(sub_states, basis);"
   ]
  },
  {
   "cell_type": "code",
   "execution_count": 13,
   "id": "british-genome",
   "metadata": {
    "tags": []
   },
   "outputs": [
    {
     "data": {
      "text/plain": [
       "Subspace_Op (generic function with 1 method)"
      ]
     },
     "execution_count": 13,
     "metadata": {},
     "output_type": "execute_result"
    }
   ],
   "source": [
    "function Subspace_Op(SP_Op, P)\n",
    "    return P*SP_Op*Pt\n",
    "end"
   ]
  },
  {
   "cell_type": "code",
   "execution_count": 14,
   "id": "unusual-cisco",
   "metadata": {
    "tags": []
   },
   "outputs": [
    {
     "data": {
      "text/plain": [
       "Operator(dim=5x5)\n",
       "  basis: Subspace(superbasis=NLevel(N=25), states:5)\n",
       " -2.96645+1.0e-17im   1.1e-16-6.0e-17im  …  -7.0e-17+3.0e-17im\n",
       "  1.7e-16+0.0im      -2.96645-1.1e-16im     -8.0e-17-1.0e-16im\n",
       " -3.0e-17+8.0e-17im       0.0+1.4e-16im      2.8e-16-2.2e-16im\n",
       " -6.0e-17-6.0e-17im   2.2e-16+0.0im          3.6e-16+2.2e-16im\n",
       " -4.0e-17-4.0e-17im  -6.0e-17+7.0e-17im     -2.96645+1.1e-16im"
      ]
     },
     "execution_count": 14,
     "metadata": {},
     "output_type": "execute_result"
    }
   ],
   "source": [
    "H1_sub = Subspace_Op(H1, P)"
   ]
  },
  {
   "cell_type": "code",
   "execution_count": 15,
   "id": "intelligent-prague",
   "metadata": {
    "tags": []
   },
   "outputs": [],
   "source": [
    "num_sub_list = []\n",
    "for m in 1:N\n",
    "    NM = transition(basis, m, m)\n",
    "    NMP = Subspace_Op(NM, P)\n",
    "    push!(num_sub_list, NMP)\n",
    "end"
   ]
  },
  {
   "cell_type": "code",
   "execution_count": 16,
   "id": "parental-family",
   "metadata": {
    "tags": []
   },
   "outputs": [
    {
     "data": {
      "text/plain": [
       "ManyBody(onebodybasis=Subspace(superbasis=NLevel(N=25), states:5), states:15)"
      ]
     },
     "execution_count": 16,
     "metadata": {},
     "output_type": "execute_result"
    }
   ],
   "source": [
    "states_mb = bosonstates(b_sub, PN) \n",
    "basis_mb = ManyBodyBasis(b_sub, states_mb)"
   ]
  },
  {
   "cell_type": "code",
   "execution_count": 17,
   "id": "forbidden-summit",
   "metadata": {
    "tags": []
   },
   "outputs": [
    {
     "data": {
      "text/plain": [
       "Operator(dim=15x15)\n",
       "  basis: ManyBody(onebodybasis=Subspace(superbasis=NLevel(N=25), states:5), states:15)sparse([1, 2, 3, 4, 5, 1, 2, 3, 4, 5  …  11, 12, 13, 14, 15, 5, 9, 12, 14, 15], [1, 1, 1, 1, 1, 2, 2, 2, 2, 2, 2, 2, 2, 2, 3, 3, 3, 3, 3, 3, 3, 3, 3, 4, 4, 4, 4, 4, 4, 4, 4, 4, 5, 5, 5, 5, 5, 5, 5, 5, 5, 6, 6, 6, 6, 6, 7, 7, 7, 7, 7, 7, 7, 7, 7, 8, 8, 8, 8, 8, 8, 8, 8, 8, 9, 9, 9, 9, 9, 9, 9, 9, 9, 10, 10, 10, 10, 10, 11, 11, 11, 11, 11, 11, 11, 11, 11, 12, 12, 12, 12, 12, 12, 12, 12, 12, 13, 13, 13, 13, 13, 14, 14, 14, 14, 14, 14, 14, 14, 14, 15, 15, 15, 15, 15], ComplexF64[-5.932895978286744 + 2.0e-17im, 2.4e-16 + 0.0im, -4.0e-17 + 1.2e-16im, -8.0e-17 - 8.0e-17im, -6.0e-17 - 6.0e-17im, 1.6e-16 - 8.0e-17im, -5.932895978286743 - 1.0e-16im, 0.0 + 1.4e-16im, 2.2e-16 + 0.0im, -6.0e-17 + 7.0e-17im  …  2.8e-16 - 2.2e-16im, 1.17e-15 - 2.2e-16im, 5.1e-16 + 3.1e-16im, -5.932895978286745 + 2.2e-16im, 1.2e-16 + 3.1e-16im, -1.0e-16 + 4.0e-17im, -1.1e-16 - 1.4e-16im, 3.9e-16 - 3.1e-16im, 5.1e-16 + 3.1e-16im, -5.932895978286748 + 2.2e-16im], 15, 15)"
      ]
     },
     "execution_count": 17,
     "metadata": {},
     "output_type": "execute_result"
    }
   ],
   "source": [
    "function get_MB_Op(MB_Basis, Basis, Op)\n",
    "    \n",
    "    Op_MB = SparseOperator(MB_Basis)\n",
    "    for i in 1:length(Basis)\n",
    "        for j in 1:length(Basis)\n",
    "            Op_MB = Op_MB + Op.data[i,j] * transition(MB_Basis, i, j)\n",
    "        end\n",
    "    end\n",
    "    \n",
    "    return Op_MB\n",
    "end\n",
    "\n",
    "H1_MB = get_MB_Op(basis_mb, b_sub, H1_sub)"
   ]
  },
  {
   "cell_type": "code",
   "execution_count": 18,
   "id": "silver-syria",
   "metadata": {
    "tags": []
   },
   "outputs": [],
   "source": [
    "# H1_mb = manybodyoperator(basis_mb, H1_sub)"
   ]
  },
  {
   "cell_type": "code",
   "execution_count": 19,
   "id": "advanced-dominican",
   "metadata": {
    "tags": []
   },
   "outputs": [],
   "source": [
    "num_mb_list = []\n",
    "for m in 1:N\n",
    "    NMP = get_MB_Op(basis_mb, b_sub, num_sub_list[m])\n",
    "    push!(num_mb_list, NMP)\n",
    "end"
   ]
  },
  {
   "cell_type": "code",
   "execution_count": 20,
   "id": "minor-atlas",
   "metadata": {
    "tags": []
   },
   "outputs": [
    {
     "data": {
      "text/plain": [
       "Operator(dim=15x15)\n",
       "  basis: ManyBody(onebodybasis=Subspace(superbasis=NLevel(N=25), states:5), states:15)sparse([1, 2, 3, 4, 5, 6, 7, 8, 9, 10  …  6, 7, 8, 9, 10, 11, 12, 13, 14, 15], [1, 1, 1, 1, 1, 1, 1, 1, 1, 1, 1, 1, 1, 1, 1, 2, 2, 2, 2, 2, 2, 2, 2, 2, 2, 2, 2, 2, 2, 2, 3, 3, 3, 3, 3, 3, 3, 3, 3, 3, 3, 3, 3, 3, 3, 4, 4, 4, 4, 4, 4, 4, 4, 4, 4, 4, 4, 4, 4, 4, 5, 5, 5, 5, 5, 5, 5, 5, 5, 5, 5, 5, 5, 5, 5, 6, 6, 6, 6, 6, 6, 6, 6, 6, 6, 6, 6, 6, 6, 6, 7, 7, 7, 7, 7, 7, 7, 7, 7, 7, 7, 7, 7, 7, 7, 8, 8, 8, 8, 8, 8, 8, 8, 8, 8, 8, 8, 8, 8, 8, 9, 9, 9, 9, 9, 9, 9, 9, 9, 9, 9, 9, 9, 9, 9, 10, 10, 10, 10, 10, 10, 10, 10, 10, 10, 10, 10, 10, 10, 10, 11, 11, 11, 11, 11, 11, 11, 11, 11, 11, 11, 11, 11, 11, 11, 12, 12, 12, 12, 12, 12, 12, 12, 12, 12, 12, 12, 12, 12, 12, 13, 13, 13, 13, 13, 13, 13, 13, 13, 13, 13, 13, 13, 13, 13, 14, 14, 14, 14, 14, 14, 14, 14, 14, 14, 14, 14, 14, 14, 14, 15, 15, 15, 15, 15, 15, 15, 15, 15, 15, 15, 15, 15, 15, 15], ComplexF64[-1.3961777052703093 + 0.0im, 0.00563847517761937 - 0.00033596823103134im, -0.00364263532564413 - 0.00225112705022375im, -0.00099029148087719 + 0.00104065982392852im, -0.00023806969718435 + 0.0009692579016883im, 0.02415782248390734 + 0.00434680235041103im, -0.00010136689863118 + 0.00645820931013709im, 0.02095073951493939 - 0.0088018983147801im, -0.00012607441231014 - 0.00693268257618051im, 0.00960655606723497 + 0.00889825146334031im  …  -0.00183871440619298 + 0.00186098723901308im, 0.00206596657980319 - 0.00590343112931862im, -0.00522229212519788 + 0.02522555580671944im, 0.00938242390753436 + 0.01264012476373702im, 0.01505968013543966 + 0.00032208833889186im, 0.00876078262203318 - 0.0258647162541761im, -0.0132375631656824 + 0.01161575521504886im, 0.00029710392306539 - 0.00116768161893394im, -0.00303801143187777 - 0.0116332298327394im, -1.4041665100442577 + 0.0im], 15, 15)"
      ]
     },
     "execution_count": 20,
     "metadata": {},
     "output_type": "execute_result"
    }
   ],
   "source": [
    "function Int_Op(MB_Num_Op_List, MB_Basis, U)\n",
    "\n",
    "    IT = SparseOperator(MB_Basis)\n",
    "    \n",
    "    for m in 1:N\n",
    "        IT = IT + U/2 * ( MB_Num_Op_List[m]*MB_Num_Op_List[m] - MB_Num_Op_List[m] )\n",
    "    end\n",
    "    \n",
    "    return IT\n",
    "end\n",
    "\n",
    "H_Int_MB = Int_Op(num_mb_list, basis_mb, U)"
   ]
  },
  {
   "cell_type": "code",
   "execution_count": 30,
   "id": "respective-cruise",
   "metadata": {
    "tags": []
   },
   "outputs": [
    {
     "data": {
      "text/plain": [
       "Operator(dim=15x15)\n",
       "  basis: ManyBody(onebodybasis=Subspace(superbasis=NLevel(N=25), states:5), states:15)\n",
       "     0.203822-0.0im          …   -0.00262863+0.00113256im\n",
       "   0.00563848-0.000335968im         0.013185-0.0014774im\n",
       "  -0.00364264-0.00225113im       0.000190761-0.00158488im\n",
       " -0.000990291+0.00104066im      -0.000642365-0.00587854im\n",
       "  -0.00023807+0.000969258im         0.002896+0.00241287im\n",
       "    0.0241578+0.0043468im    …   -0.00183871+0.00186099im\n",
       " -0.000101367+0.00645821im        0.00206597-0.00590343im\n",
       "    0.0209507-0.0088019im        -0.00522229+0.0252256im\n",
       " -0.000126074-0.00693268im        0.00938242+0.0126401im\n",
       "   0.00960656+0.00889825im         0.0150597+0.000322088im\n",
       "    0.0154469-0.00144025im   …    0.00876078-0.0258647im\n",
       "  -0.00333547+0.00397896im        -0.0132376+0.0116158im\n",
       "  -0.00392264-0.017573im         0.000297104-0.00116768im\n",
       "  -0.00356431+0.00114511im       -0.00303801-0.0116332im\n",
       "  -0.00262863-0.00113256im          0.195833+0.0im"
      ]
     },
     "execution_count": 30,
     "metadata": {},
     "output_type": "execute_result"
    }
   ],
   "source": [
    "#@btime begin\n",
    "basis2 = basis ⊗ basis\n",
    "\n",
    "# interaction : at_i at_i a_i a_i = at_i a_i at_i a_i - at_i a_i = n_i n_i - n_i\n",
    "    \n",
    "Vint = SparseOperator(basis2)\n",
    "\n",
    "for n in 1:N\n",
    "    Vint += U/2*transition(basis,n,n)⊗transition(basis,n,n)\n",
    "end\n",
    "\n",
    "Vint_sub = (P⊗P)*Vint*(Pt⊗Pt)\n",
    "\n",
    "Vint_mb = manybodyoperator(basis_mb, Vint_sub)\n",
    "#end"
   ]
  },
  {
   "cell_type": "code",
   "execution_count": 33,
   "id": "casual-distribution",
   "metadata": {},
   "outputs": [
    {
     "data": {
      "text/plain": [
       "Operator(dim=15x15)\n",
       "  basis: ManyBody(onebodybasis=Subspace(superbasis=NLevel(N=25), states:5), states:15)\n",
       "     0.203822-0.0im          …   -0.00262863+0.00113256im\n",
       "   0.00563848-0.000335968im         0.013185-0.0014774im\n",
       "  -0.00364264-0.00225113im       0.000190761-0.00158488im\n",
       " -0.000990291+0.00104066im      -0.000642365-0.00587854im\n",
       "  -0.00023807+0.000969258im         0.002896+0.00241287im\n",
       "    0.0241578+0.0043468im    …   -0.00183871+0.00186099im\n",
       " -0.000101367+0.00645821im        0.00206597-0.00590343im\n",
       "    0.0209507-0.0088019im        -0.00522229+0.0252256im\n",
       " -0.000126074-0.00693268im        0.00938242+0.0126401im\n",
       "   0.00960656+0.00889825im         0.0150597+0.000322088im\n",
       "    0.0154469-0.00144025im   …    0.00876078-0.0258647im\n",
       "  -0.00333547+0.00397896im        -0.0132376+0.0116158im\n",
       "  -0.00392264-0.017573im         0.000297104-0.00116768im\n",
       "  -0.00356431+0.00114511im       -0.00303801-0.0116332im\n",
       "  -0.00262863-0.00113256im          0.195833+0.0im"
      ]
     },
     "execution_count": 33,
     "metadata": {},
     "output_type": "execute_result"
    }
   ],
   "source": [
    "#@btime begin\n",
    "P1 = P.data\n",
    "P1t = Pt.data;\n",
    "\n",
    "@einsum P4[k,l,m,n] := P1[k,i] * P1[l,i] * P1t[i,m] * P1t[i,n]\n",
    "\n",
    "b2_sub = b_sub ⊗ b_sub\n",
    "\n",
    "P4re = reshape(P4, N_cut^2, N_cut^2)\n",
    "\n",
    "P2_op = Operator(b2_sub,U/2*P4re)\n",
    "    \n",
    "Vint_mb_einsum = manybodyoperator(basis_mb, P2_op)\n",
    "#end"
   ]
  },
  {
   "cell_type": "code",
   "execution_count": 34,
   "id": "frozen-poster",
   "metadata": {},
   "outputs": [
    {
     "data": {
      "text/plain": [
       "true"
      ]
     },
     "execution_count": 34,
     "metadata": {},
     "output_type": "execute_result"
    }
   ],
   "source": [
    "isapprox( P2_op, Vint_sub)"
   ]
  },
  {
   "cell_type": "code",
   "execution_count": 35,
   "id": "fundamental-arthritis",
   "metadata": {},
   "outputs": [
    {
     "data": {
      "text/plain": [
       "true"
      ]
     },
     "execution_count": 35,
     "metadata": {},
     "output_type": "execute_result"
    }
   ],
   "source": [
    "isapprox( Vint_mb , Vint_mb_einsum )"
   ]
  },
  {
   "cell_type": "code",
   "execution_count": 36,
   "id": "danish-arthur",
   "metadata": {
    "tags": []
   },
   "outputs": [
    {
     "data": {
      "text/plain": [
       "Operator(dim=15x15)\n",
       "  basis: ManyBody(onebodybasis=Subspace(superbasis=NLevel(N=25), states:5), states:15)\n",
       "     -5.72907+2.0e-17im      …   -0.00262863+0.00113256im\n",
       "   0.00563848-0.000335968im         0.013185-0.0014774im\n",
       "  -0.00364264-0.00225113im       0.000190761-0.00158488im\n",
       " -0.000990291+0.00104066im      -0.000642365-0.00587854im\n",
       "  -0.00023807+0.000969258im         0.002896+0.00241287im\n",
       "    0.0241578+0.0043468im    …   -0.00183871+0.00186099im\n",
       " -0.000101367+0.00645821im        0.00206597-0.00590343im\n",
       "    0.0209507-0.0088019im        -0.00522229+0.0252256im\n",
       " -0.000126074-0.00693268im        0.00938242+0.0126401im\n",
       "   0.00960656+0.00889825im         0.0150597+0.000322088im\n",
       "    0.0154469-0.00144025im   …    0.00876078-0.0258647im\n",
       "  -0.00333547+0.00397896im        -0.0132376+0.0116158im\n",
       "  -0.00392264-0.017573im         0.000297104-0.00116768im\n",
       "  -0.00356431+0.00114511im       -0.00303801-0.0116332im\n",
       "  -0.00262863-0.00113256im          -5.73706+2.2e-16im"
      ]
     },
     "execution_count": 36,
     "metadata": {},
     "output_type": "execute_result"
    }
   ],
   "source": [
    "H_MB = H1_MB + Vint_mb_einsum\n",
    "H_mb = H1_MB + Vint_mb"
   ]
  },
  {
   "cell_type": "markdown",
   "id": "joint-chassis",
   "metadata": {},
   "source": [
    "2) If U<<Band-Gap, Sub-Space Hofstadter Finite-U energies converges at Hofstadter Finite-U energies.\n",
    "3) When all SP states projected to the new sub-space, Sub-Space Hofstadter Finite-U energies have to equal to Hofstadter Finite-U energies."
   ]
  },
  {
   "cell_type": "code",
   "execution_count": 37,
   "id": "reliable-geometry",
   "metadata": {
    "tags": []
   },
   "outputs": [
    {
     "data": {
      "text/plain": [
       "Hofstadter_Finite_U (generic function with 1 method)"
      ]
     },
     "execution_count": 37,
     "metadata": {},
     "output_type": "execute_result"
    }
   ],
   "source": [
    "@nbinclude(\"Hofstadter MB in Julia.ipynb\"; regex=r\"#.*executeme\")"
   ]
  },
  {
   "cell_type": "code",
   "execution_count": 38,
   "id": "mental-physics",
   "metadata": {
    "tags": []
   },
   "outputs": [
    {
     "name": "stdout",
     "output_type": "stream",
     "text": [
      "[-5.930026862496533, -5.930026862496531, -5.930026862496528, -5.930026862496527, -5.930026862496525, -5.772090091593084, -5.772090091593081, -5.772090091593079, -5.772090091593078, -5.772090091593076, -5.696570980770627, -5.696570980770624, -5.6965709807706215, -5.696570980770621, -5.696570980770616]\n",
      "[-5.930026862496533, -5.930026862496531, -5.93002686249653, -5.930026862496528, -5.930026862496526, -5.772090091593085, -5.772090091593083, -5.772090091593081, -5.772090091593077, -5.772090091593075, -5.696570980770626, -5.696570980770625, -5.696570980770624, -5.69657098077062, -5.696570980770619]\n",
      "[-5.9308125874565, -5.930812587456478, -5.930812587456468, -5.9308125874564555, -5.930812587456455, -5.817854200657324, -5.817854200657313, -5.81785420065731, -5.817854200657299, -5.8178542006572815]"
     ]
    }
   ],
   "source": [
    "# using Plots\n",
    "\n",
    "E1 = eigenenergies(dense((H_MB+dagger(H_MB))/2))\n",
    "\n",
    "E_mb = eigenenergies(dense((H_mb+dagger(H_mb))/2))\n",
    "\n",
    "\n",
    "E2 = eigenenergies(dense(Hofstadter_Finite_U(Nx, Ny, 1/q, PN, U)))\n",
    "\n",
    "# print(E1-E2[1:length(E1)])\n",
    "\n",
    "# plot(1:length(E1),E1,seriestype=:scatter,markershape=:star5, markersize=6, label=\"Sub-Space\")\n",
    "# plot!(1:length(E2),E2,seriestype=:scatter,label=\"Real-Space\",legend=:topleft)\n",
    "# xlabel!(\"n\");ylabel!(\"E\")\n",
    "\n",
    "print(E1,'\\n', E_mb,'\\n',E2[1:10])"
   ]
  },
  {
   "cell_type": "code",
   "execution_count": 39,
   "id": "sitting-terry",
   "metadata": {
    "tags": []
   },
   "outputs": [
    {
     "data": {
      "text/plain": [
       "15-element Vector{Float64}:\n",
       " -5.930026862496533\n",
       " -5.930026862496531\n",
       " -5.93002686249653\n",
       " -5.930026862496528\n",
       " -5.930026862496526\n",
       " -5.772090091593085\n",
       " -5.772090091593083\n",
       " -5.772090091593081\n",
       " -5.772090091593077\n",
       " -5.772090091593075\n",
       " -5.696570980770626\n",
       " -5.696570980770625\n",
       " -5.696570980770624\n",
       " -5.69657098077062\n",
       " -5.696570980770619"
      ]
     },
     "execution_count": 39,
     "metadata": {},
     "output_type": "execute_result"
    }
   ],
   "source": [
    "E_mb"
   ]
  },
  {
   "cell_type": "code",
   "execution_count": null,
   "id": "upper-agreement",
   "metadata": {},
   "outputs": [],
   "source": []
  },
  {
   "cell_type": "code",
   "execution_count": null,
   "id": "impaired-black",
   "metadata": {},
   "outputs": [],
   "source": []
  },
  {
   "cell_type": "code",
   "execution_count": null,
   "id": "shaped-failure",
   "metadata": {},
   "outputs": [],
   "source": []
  },
  {
   "cell_type": "code",
   "execution_count": null,
   "id": "trying-affiliate",
   "metadata": {},
   "outputs": [],
   "source": []
  }
 ],
 "metadata": {
  "kernelspec": {
   "display_name": "Julia 1.9.0-rc1",
   "language": "julia",
   "name": "julia-1.9"
  },
  "language_info": {
   "file_extension": ".jl",
   "mimetype": "application/julia",
   "name": "julia",
   "version": "1.9.0"
  }
 },
 "nbformat": 4,
 "nbformat_minor": 5
}
