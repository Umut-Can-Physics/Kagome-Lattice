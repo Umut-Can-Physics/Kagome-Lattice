{
 "cells": [
  {
   "cell_type": "code",
   "execution_count": 1,
   "id": "portuguese-prediction",
   "metadata": {
    "tags": []
   },
   "outputs": [],
   "source": [
    "using NBInclude\n",
    "@nbinclude(\"Hofstadter Single Particle in Julia.ipynb\")\n",
    "@nbinclude(joinpath(\"..\",\"First Band Approximation Functions.ipynb\"));"
   ]
  },
  {
   "cell_type": "markdown",
   "id": "1cbf7141-36bd-4ef7-9487-deb38a7b9128",
   "metadata": {
    "tags": []
   },
   "source": [
    "# Initial Parameters"
   ]
  },
  {
   "cell_type": "code",
   "execution_count": 2,
   "id": "about-bones",
   "metadata": {
    "tags": []
   },
   "outputs": [
    {
     "name": "stdout",
     "output_type": "stream",
     "text": [
      "Magnetic flux per unit-cell:0.1\n",
      " Number of flux quanta:8"
     ]
    }
   ],
   "source": [
    "Nx = 8; Ny = 10; N=Nx*Ny; p = 1; q = Ny; cut_off = Nx;\n",
    "PN = [0,1,2,3];\n",
    "U = 2;\n",
    "print(\"Magnetic flux per unit-cell:\",p/q,\"\\n Number of flux quanta:\",Nx)"
   ]
  },
  {
   "cell_type": "markdown",
   "id": "aa578b60-4cd3-49a9-8e3d-aabffe7d92cf",
   "metadata": {
    "tags": []
   },
   "source": [
    "# Single-Particle"
   ]
  },
  {
   "cell_type": "code",
   "execution_count": 3,
   "id": "imperial-crisis",
   "metadata": {
    "tags": []
   },
   "outputs": [
    {
     "data": {
      "text/latex": [
       "Compute the single-particle operator from single-particle matrix.\n",
       "\n",
       "\\paragraph{Arguments}\n",
       "\\begin{itemize}\n",
       "\\item \\texttt{sp\\_basis::NLevelBasis}: Single-Particle basis.\n",
       "\n",
       "\n",
       "\\item \\texttt{N::Integer}: The total site number.\n",
       "\n",
       "\n",
       "\\item \\texttt{sp\\_matrix::Matrix}: Hopping phases matrix from any model.\n",
       "\n",
       "\\end{itemize}\n"
      ],
      "text/markdown": [
       "Compute the single-particle operator from single-particle matrix.\n",
       "\n",
       "#### Arguments\n",
       "\n",
       "  * `sp_basis::NLevelBasis`: Single-Particle basis.\n",
       "  * `N::Integer`: The total site number.\n",
       "  * `sp_matrix::Matrix`: Hopping phases matrix from any model.\n"
      ],
      "text/plain": [
       "  Compute the single-particle operator from single-particle matrix.\n",
       "\n",
       "\u001b[1m  Arguments\u001b[22m\n",
       "\u001b[1m  -----------\u001b[22m\n",
       "\n",
       "    •  \u001b[36msp_basis::NLevelBasis\u001b[39m: Single-Particle basis.\n",
       "\n",
       "    •  \u001b[36mN::Integer\u001b[39m: The total site number.\n",
       "\n",
       "    •  \u001b[36msp_matrix::Matrix\u001b[39m: Hopping phases matrix from any model."
      ]
     },
     "execution_count": 3,
     "metadata": {},
     "output_type": "execute_result"
    }
   ],
   "source": [
    "@doc get_sp_op"
   ]
  },
  {
   "cell_type": "code",
   "execution_count": 4,
   "id": "temporal-cleveland",
   "metadata": {
    "tags": []
   },
   "outputs": [],
   "source": [
    "sp_basis = NLevelBasis(N)\n",
    "periodicity = 0\n",
    "sp_matrix = Hofstadter_SP(Nx, Ny, p/q, periodicity);"
   ]
  },
  {
   "cell_type": "code",
   "execution_count": 5,
   "id": "likely-spank",
   "metadata": {
    "tags": []
   },
   "outputs": [],
   "source": [
    "H1 = get_sp_op(sp_basis, N, sp_matrix);"
   ]
  },
  {
   "cell_type": "code",
   "execution_count": 6,
   "id": "ignored-medium",
   "metadata": {
    "tags": []
   },
   "outputs": [
    {
     "data": {
      "text/plain": [
       "true"
      ]
     },
     "execution_count": 6,
     "metadata": {},
     "output_type": "execute_result"
    }
   ],
   "source": [
    "using LinearAlgebra\n",
    "eigenenergies(dense(H1)) == eigvals(sp_matrix) # true\n",
    "#show(stdout, \"text/plain\", eigvals(sp_matrix))"
   ]
  },
  {
   "cell_type": "code",
   "execution_count": 7,
   "id": "e2e9066d-37c3-4286-b5fa-db560eacf4c0",
   "metadata": {
    "tags": []
   },
   "outputs": [
    {
     "data": {
      "text/latex": [
       "Compute the first eigen-states in a given number.\n",
       "\n",
       "\\paragraph{Arguments}\n",
       "\\begin{itemize}\n",
       "\\item \\texttt{sp\\_op::get\\_sp\\_op}: Single-particle operator.\n",
       "\n",
       "\n",
       "\\item \\texttt{cut\\_off::Int}: Limit value of eigen-state index.\n",
       "\n",
       "\\end{itemize}\n"
      ],
      "text/markdown": [
       "Compute the first eigen-states in a given number.\n",
       "\n",
       "#### Arguments\n",
       "\n",
       "  * `sp_op::get_sp_op`: Single-particle operator.\n",
       "  * `cut_off::Int`: Limit value of eigen-state index.\n"
      ],
      "text/plain": [
       "  Compute the first eigen-states in a given number.\n",
       "\n",
       "\u001b[1m  Arguments\u001b[22m\n",
       "\u001b[1m  -----------\u001b[22m\n",
       "\n",
       "    •  \u001b[36msp_op::get_sp_op\u001b[39m: Single-particle operator.\n",
       "\n",
       "    •  \u001b[36mcut_off::Int\u001b[39m: Limit value of eigen-state index."
      ]
     },
     "execution_count": 7,
     "metadata": {},
     "output_type": "execute_result"
    }
   ],
   "source": [
    "@doc get_sub_states"
   ]
  },
  {
   "cell_type": "code",
   "execution_count": 8,
   "id": "compact-brooks",
   "metadata": {
    "tags": []
   },
   "outputs": [],
   "source": [
    "sub_states = get_sub_states(H1, cut_off);"
   ]
  },
  {
   "cell_type": "code",
   "execution_count": 9,
   "id": "d644861d-5ac6-4597-bfdb-9df51e96c229",
   "metadata": {
    "tags": []
   },
   "outputs": [
    {
     "data": {
      "text/latex": [
       "Compute sub-space basis, projection and comlex conjugate of projection operator.\n",
       "\n",
       "\\paragraph{Arguments}\n",
       "\\begin{itemize}\n",
       "\\item \\texttt{states::get\\_sub\\_states}: Eigen-states of the sub-space.\n",
       "\n",
       "\n",
       "\\item \\texttt{basis::NLevelBasis}: Single-particle basis.\n",
       "\n",
       "\\end{itemize}\n"
      ],
      "text/markdown": [
       "Compute sub-space basis, projection and comlex conjugate of projection operator.\n",
       "\n",
       "#### Arguments\n",
       "\n",
       "  * `states::get_sub_states`: Eigen-states of the sub-space.\n",
       "  * `basis::NLevelBasis`: Single-particle basis.\n"
      ],
      "text/plain": [
       "  Compute sub-space basis, projection and comlex conjugate of projection\n",
       "  operator.\n",
       "\n",
       "\u001b[1m  Arguments\u001b[22m\n",
       "\u001b[1m  -----------\u001b[22m\n",
       "\n",
       "    •  \u001b[36mstates::get_sub_states\u001b[39m: Eigen-states of the sub-space.\n",
       "\n",
       "    •  \u001b[36mbasis::NLevelBasis\u001b[39m: Single-particle basis."
      ]
     },
     "execution_count": 9,
     "metadata": {},
     "output_type": "execute_result"
    }
   ],
   "source": [
    "@doc get_projector_op"
   ]
  },
  {
   "cell_type": "code",
   "execution_count": 10,
   "id": "molecular-bankruptcy",
   "metadata": {
    "tags": []
   },
   "outputs": [],
   "source": [
    "basis_sub, P, Pt = get_projector_op(sub_states, sp_basis);"
   ]
  },
  {
   "cell_type": "code",
   "execution_count": 11,
   "id": "dd280e68-52a1-4367-b2f8-e73c8533f8bb",
   "metadata": {
    "tags": []
   },
   "outputs": [
    {
     "data": {
      "text/latex": [
       "Compute the corresponding operator in the sub-space.\n",
       "\n",
       "\\paragraph{Arguments}\n",
       "\\begin{itemize}\n",
       "\\item \\texttt{sp\\_op::Operator}: Single-particle operator from single-particle matrix.\n",
       "\n",
       "\n",
       "\\item \\texttt{P::get\\_projector\\_op[2]}: Projection operator.\n",
       "\n",
       "\n",
       "\\item \\texttt{Pt::get\\_projector\\_op[3]}: Complex conjugate of projection operator.\n",
       "\n",
       "\\end{itemize}\n"
      ],
      "text/markdown": [
       "Compute the corresponding operator in the sub-space.\n",
       "\n",
       "#### Arguments\n",
       "\n",
       "  * `sp_op::Operator`: Single-particle operator from single-particle matrix.\n",
       "  * `P::get_projector_op[2]`: Projection operator.\n",
       "  * `Pt::get_projector_op[3]`: Complex conjugate of projection operator.\n"
      ],
      "text/plain": [
       "  Compute the corresponding operator in the sub-space.\n",
       "\n",
       "\u001b[1m  Arguments\u001b[22m\n",
       "\u001b[1m  -----------\u001b[22m\n",
       "\n",
       "    •  \u001b[36msp_op::Operator\u001b[39m: Single-particle operator from single-particle\n",
       "       matrix.\n",
       "\n",
       "    •  \u001b[36mP::get_projector_op[2]\u001b[39m: Projection operator.\n",
       "\n",
       "    •  \u001b[36mPt::get_projector_op[3]\u001b[39m: Complex conjugate of projection operator."
      ]
     },
     "execution_count": 11,
     "metadata": {},
     "output_type": "execute_result"
    }
   ],
   "source": [
    "@doc get_subspace_op"
   ]
  },
  {
   "cell_type": "code",
   "execution_count": 12,
   "id": "informed-macro",
   "metadata": {
    "tags": []
   },
   "outputs": [],
   "source": [
    "H1_sub = get_subspace_op(H1, P, Pt);"
   ]
  },
  {
   "cell_type": "code",
   "execution_count": 13,
   "id": "c4bc4b2e-2868-45fa-8200-c6187ed42627",
   "metadata": {
    "tags": []
   },
   "outputs": [
    {
     "data": {
      "text/latex": [
       "Compute the single-particle number operator for each lattice sites.\n",
       "\n",
       "\\paragraph{Arguments}\n",
       "\\begin{itemize}\n",
       "\\item \\texttt{N::Integer}: The total site number.\n",
       "\n",
       "\n",
       "\\item \\texttt{sp\\_basis::NLevelBasis}: Single-Particle basis.\n",
       "\n",
       "\n",
       "\\item \\texttt{P::get\\_projector\\_op[2]}: Projection operator.\n",
       "\n",
       "\n",
       "\\item \\texttt{Pt::get\\_projector\\_op[3]}: Complex conjugate of projection operator.\n",
       "\n",
       "\\end{itemize}\n"
      ],
      "text/markdown": [
       "Compute the single-particle number operator for each lattice sites.\n",
       "\n",
       "#### Arguments\n",
       "\n",
       "  * `N::Integer`: The total site number.\n",
       "  * `sp_basis::NLevelBasis`: Single-Particle basis.\n",
       "  * `P::get_projector_op[2]`: Projection operator.\n",
       "  * `Pt::get_projector_op[3]`: Complex conjugate of projection operator.\n"
      ],
      "text/plain": [
       "  Compute the single-particle number operator for each lattice sites.\n",
       "\n",
       "\u001b[1m  Arguments\u001b[22m\n",
       "\u001b[1m  -----------\u001b[22m\n",
       "\n",
       "    •  \u001b[36mN::Integer\u001b[39m: The total site number.\n",
       "\n",
       "    •  \u001b[36msp_basis::NLevelBasis\u001b[39m: Single-Particle basis.\n",
       "\n",
       "    •  \u001b[36mP::get_projector_op[2]\u001b[39m: Projection operator.\n",
       "\n",
       "    •  \u001b[36mPt::get_projector_op[3]\u001b[39m: Complex conjugate of projection operator."
      ]
     },
     "execution_count": 13,
     "metadata": {},
     "output_type": "execute_result"
    }
   ],
   "source": [
    "@doc get_num_sub_list"
   ]
  },
  {
   "cell_type": "code",
   "execution_count": 14,
   "id": "cross-patrol",
   "metadata": {
    "tags": []
   },
   "outputs": [],
   "source": [
    "num_sub_list = get_num_sub_list(N, sp_basis, P, Pt);"
   ]
  },
  {
   "cell_type": "markdown",
   "id": "particular-surrey",
   "metadata": {},
   "source": [
    "# Many-Body"
   ]
  },
  {
   "cell_type": "code",
   "execution_count": 15,
   "id": "cccffa5e-d4fd-4260-a7c5-d2fe183534e1",
   "metadata": {
    "tags": []
   },
   "outputs": [
    {
     "data": {
      "text/latex": [
       "Compute the many-body operator for boson particles from single-particle operator.\n",
       "\n",
       "\\paragraph{Arguments}\n",
       "\\begin{itemize}\n",
       "\\item \\texttt{basis\\_mb}: Many-body basis.\n",
       "\n",
       "\n",
       "\\item \\texttt{basis\\_sub::get\\_projector\\_op[1]}: Sub-space basis.\n",
       "\n",
       "\n",
       "\\item \\texttt{sp\\_op::Operator}: Single-particle operator from single-particle matrix.\n",
       "\n",
       "\\end{itemize}\n"
      ],
      "text/markdown": [
       "Compute the many-body operator for boson particles from single-particle operator.\n",
       "\n",
       "#### Arguments\n",
       "\n",
       "  * `basis_mb`: Many-body basis.\n",
       "  * `basis_sub::get_projector_op[1]`: Sub-space basis.\n",
       "  * `sp_op::Operator`: Single-particle operator from single-particle matrix.\n"
      ],
      "text/plain": [
       "  Compute the many-body operator for boson particles from single-particle\n",
       "  operator.\n",
       "\n",
       "\u001b[1m  Arguments\u001b[22m\n",
       "\u001b[1m  -----------\u001b[22m\n",
       "\n",
       "    •  \u001b[36mbasis_mb\u001b[39m: Many-body basis.\n",
       "\n",
       "    •  \u001b[36mbasis_sub::get_projector_op[1]\u001b[39m: Sub-space basis.\n",
       "\n",
       "    •  \u001b[36msp_op::Operator\u001b[39m: Single-particle operator from single-particle\n",
       "       matrix."
      ]
     },
     "execution_count": 15,
     "metadata": {},
     "output_type": "execute_result"
    }
   ],
   "source": [
    "@doc get_mb_op"
   ]
  },
  {
   "cell_type": "code",
   "execution_count": 16,
   "id": "2d6ddf03-05b6-497a-af81-8ccf124adde4",
   "metadata": {
    "tags": []
   },
   "outputs": [],
   "source": [
    "states_mb = bosonstates(basis_sub, PN) \n",
    "basis_mb = ManyBodyBasis(basis_sub, states_mb);"
   ]
  },
  {
   "cell_type": "code",
   "execution_count": 17,
   "id": "6eca28a4-7872-49e8-8e57-31306169840c",
   "metadata": {
    "tags": []
   },
   "outputs": [],
   "source": [
    "H1_MB = get_mb_op(basis_mb, basis_sub, H1_sub);"
   ]
  },
  {
   "cell_type": "code",
   "execution_count": 18,
   "id": "d228561d-92e0-4e56-8eb3-0747bc107238",
   "metadata": {
    "tags": []
   },
   "outputs": [
    {
     "data": {
      "text/plain": [
       "Hofstadter_Finite_U (generic function with 1 method)"
      ]
     },
     "execution_count": 18,
     "metadata": {},
     "output_type": "execute_result"
    }
   ],
   "source": [
    "@nbinclude(\"Hofstadter MB in Julia.ipynb\"; regex=r\"#.*executeme\")"
   ]
  },
  {
   "cell_type": "code",
   "execution_count": 19,
   "id": "f5e7021c-a835-4d85-b45c-3ba5d456c977",
   "metadata": {
    "tags": []
   },
   "outputs": [
    {
     "data": {
      "text/latex": [
       "Compute the on-site Bose-Hubbard Interaction term.\n",
       "\n",
       "\\paragraph{Arguments:}\n",
       "\\begin{itemize}\n",
       "\\item \\texttt{basis\\_cut\\_sp}: The cutt-off sites of bosonic many-body basis.\n",
       "\n",
       "\n",
       "\\item \\texttt{basis\\_cut\\_mb}: The cutt-off sites of single-particle basis.\n",
       "\n",
       "\n",
       "\\item \\texttt{P::Operator}: Projection operator.\n",
       "\n",
       "\n",
       "\\item \\texttt{Pt::Operator}: Complex conjugate of projection operator.\n",
       "\n",
       "\n",
       "\\item \\texttt{cut\\_off::Int}: Limit value of eigen-state index.\n",
       "\n",
       "\\end{itemize}\n"
      ],
      "text/markdown": [
       "Compute the on-site Bose-Hubbard Interaction term.\n",
       "\n",
       "#### Arguments:\n",
       "\n",
       "  * `basis_cut_sp`: The cutt-off sites of bosonic many-body basis.\n",
       "  * `basis_cut_mb`: The cutt-off sites of single-particle basis.\n",
       "  * `P::Operator`: Projection operator.\n",
       "  * `Pt::Operator`: Complex conjugate of projection operator.\n",
       "  * `cut_off::Int`: Limit value of eigen-state index.\n"
      ],
      "text/plain": [
       "  Compute the on-site Bose-Hubbard Interaction term.\n",
       "\n",
       "\u001b[1m  Arguments:\u001b[22m\n",
       "\u001b[1m  ------------\u001b[22m\n",
       "\n",
       "    •  \u001b[36mbasis_cut_sp\u001b[39m: The cutt-off sites of bosonic many-body basis.\n",
       "\n",
       "    •  \u001b[36mbasis_cut_mb\u001b[39m: The cutt-off sites of single-particle basis.\n",
       "\n",
       "    •  \u001b[36mP::Operator\u001b[39m: Projection operator.\n",
       "\n",
       "    •  \u001b[36mPt::Operator\u001b[39m: Complex conjugate of projection operator.\n",
       "\n",
       "    •  \u001b[36mcut_off::Int\u001b[39m: Limit value of eigen-state index."
      ]
     },
     "execution_count": 19,
     "metadata": {},
     "output_type": "execute_result"
    }
   ],
   "source": [
    "@doc Hubbard_Interaction"
   ]
  },
  {
   "cell_type": "code",
   "execution_count": 20,
   "id": "dutch-philosophy",
   "metadata": {
    "tags": []
   },
   "outputs": [],
   "source": [
    "basis_cut_mb, basis_cut_sp = get_Bosonic_MB_Basis(cut_off,PN)\n",
    "H_Int = Hubbard_Interaction(basis_cut_sp, basis_cut_mb, P, Pt, cut_off);"
   ]
  },
  {
   "cell_type": "markdown",
   "id": "865cc1d6-3246-4f5a-9c75-dfe67eab2040",
   "metadata": {},
   "source": [
    "# Constructing Total Hamiltonians "
   ]
  },
  {
   "cell_type": "code",
   "execution_count": 21,
   "id": "technical-technology",
   "metadata": {
    "tags": []
   },
   "outputs": [],
   "source": [
    "H1cut = SparseOperator(basis_cut_mb)\n",
    "H1cut.data = H1_MB.data\n",
    "\n",
    "number_mb_list_operators = get_num_mb_op(N, basis_cut_sp, num_sub_list, basis_cut_mb, basis_sub)\n",
    "\n",
    "function get_total_H(V, imp_site, number_mb_list_operators, H1cut, H_Int)\n",
    "    V_imp = V * number_mb_list_operators[imp_site]\n",
    "    H_totall = H1cut + H_Int + V_imp\n",
    "    return H_totall\n",
    "end\n",
    "\n",
    "imp_site = 44\n",
    "H_total_imp = get_total_H(4, imp_site, number_mb_list_operators, H1cut, H_Int)\n",
    "H_total = get_total_H(0, 45, number_mb_list_operators, H1cut, H_Int);"
   ]
  },
  {
   "cell_type": "markdown",
   "id": "3f1b1096-6ac2-4940-9e20-a7b79871a0a7",
   "metadata": {},
   "source": [
    "# Exact-Diagonalization"
   ]
  },
  {
   "cell_type": "code",
   "execution_count": 22,
   "id": "436255b0-474b-4d97-8672-a458428a7a3d",
   "metadata": {
    "tags": []
   },
   "outputs": [
    {
     "data": {
      "text/plain": [
       "get_energies (generic function with 1 method)"
      ]
     },
     "execution_count": 22,
     "metadata": {},
     "output_type": "execute_result"
    }
   ],
   "source": [
    "using DataFrames\n",
    "\n",
    "E, V = eigenstates(dense((H_total_imp+dagger(H_total_imp))/2))\n",
    "E0, V0 = eigenstates(dense((H_total+dagger(H_total))/2))\n",
    "\n",
    "function get_energies(pn, E, V, basis)\n",
    "    PN_Energies = Array{Float64}(undef, length(E), 2)\n",
    "    for i in 1:length(E)\n",
    "        PN_Energies[i] = round(expect(number(basis), V[i])) #expected values (first column)\n",
    "        PN_Energies[i,2] = E[i] #eigen-values (second column)\n",
    "    end\n",
    "    \n",
    "    # filter\n",
    "    df = DataFrame(PN_Energies, :auto)\n",
    "    df = filter(row -> (row.x1 == pn),  df)\n",
    "    \n",
    "    return df\n",
    "end"
   ]
  },
  {
   "cell_type": "code",
   "execution_count": 23,
   "id": "583a1134-1a10-4849-8a76-76888954c9b5",
   "metadata": {
    "tags": []
   },
   "outputs": [
    {
     "data": {
      "text/plain": [
       "4-element Vector{Int64}:\n",
       " 0\n",
       " 1\n",
       " 2\n",
       " 3"
      ]
     },
     "execution_count": 23,
     "metadata": {},
     "output_type": "execute_result"
    }
   ],
   "source": [
    "PN"
   ]
  },
  {
   "cell_type": "code",
   "execution_count": 24,
   "id": "0fc34877-b975-44a9-bdf1-171087768b75",
   "metadata": {
    "tags": []
   },
   "outputs": [
    {
     "data": {
      "text/plain": [
       "120-element Vector{Float64}:\n",
       " -10.259890368278562\n",
       " -10.259884355536741\n",
       " -10.259864512378336\n",
       " -10.259850884356041\n",
       " -10.259839167727385\n",
       " -10.259824249734962\n",
       " -10.259823526897183\n",
       " -10.222086796366423\n",
       " -10.222016263190621\n",
       " -10.219513235302072\n",
       " -10.217732415278812\n",
       " -10.19984157551172\n",
       " -10.1964634812048\n",
       "   ⋮\n",
       "  -9.651204989162363\n",
       "  -9.64655398380525\n",
       "  -9.625829451051365\n",
       "  -9.621949132365055\n",
       "  -9.357538317049936\n",
       "  -9.349522601020235\n",
       "  -9.347588691550747\n",
       "  -9.317961495391941\n",
       "  -9.301453804822795\n",
       "  -9.241709143692601\n",
       "  -9.159917826968925\n",
       "  -8.758631035655732"
      ]
     },
     "execution_count": 24,
     "metadata": {},
     "output_type": "execute_result"
    }
   ],
   "source": [
    "pn = 3.0\n",
    "df = get_energies(pn, E, V, basis_cut_mb)\n",
    "df_0 = get_energies(pn, E0, V0, basis_cut_mb)\n",
    "filtered_energies = Matrix(df)[:,2]\n",
    "#filtered_energies_0 = Matrix(df_0)[:,2]\n",
    "#show(stdout,\"text/plain\", filtered_energies) #show all outputs"
   ]
  },
  {
   "cell_type": "code",
   "execution_count": 25,
   "id": "df9681c9-386b-4078-bb13-17f20ad6f53e",
   "metadata": {
    "tags": []
   },
   "outputs": [
    {
     "data": {
      "image/svg+xml": [
       "<?xml version=\"1.0\" encoding=\"utf-8\"?>\n",
       "<svg xmlns=\"http://www.w3.org/2000/svg\" xmlns:xlink=\"http://www.w3.org/1999/xlink\" width=\"600\" height=\"400\" viewBox=\"0 0 2400 1600\">\n",
       "<defs>\n",
       "  <clipPath id=\"clip430\">\n",
       "    <rect x=\"0\" y=\"0\" width=\"2400\" height=\"1600\"/>\n",
       "  </clipPath>\n",
       "</defs>\n",
       "<path clip-path=\"url(#clip430)\" d=\"M0 1600 L2400 1600 L2400 0 L0 0  Z\" fill=\"#ffffff\" fill-rule=\"evenodd\" fill-opacity=\"1\"/>\n",
       "<defs>\n",
       "  <clipPath id=\"clip431\">\n",
       "    <rect x=\"480\" y=\"0\" width=\"1681\" height=\"1600\"/>\n",
       "  </clipPath>\n",
       "</defs>\n",
       "<path clip-path=\"url(#clip430)\" d=\"M287.366 1423.18 L2352.76 1423.18 L2352.76 47.2441 L287.366 47.2441  Z\" fill=\"#ffffff\" fill-rule=\"evenodd\" fill-opacity=\"1\"/>\n",
       "<defs>\n",
       "  <clipPath id=\"clip432\">\n",
       "    <rect x=\"287\" y=\"47\" width=\"2066\" height=\"1377\"/>\n",
       "  </clipPath>\n",
       "</defs>\n",
       "<polyline clip-path=\"url(#clip432)\" style=\"stroke:#000000; stroke-linecap:round; stroke-linejoin:round; stroke-width:2; stroke-opacity:0.1; fill:none\" points=\"288.512,1423.18 288.512,47.2441 \"/>\n",
       "<polyline clip-path=\"url(#clip432)\" style=\"stroke:#000000; stroke-linecap:round; stroke-linejoin:round; stroke-width:2; stroke-opacity:0.1; fill:none\" points=\"861.595,1423.18 861.595,47.2441 \"/>\n",
       "<polyline clip-path=\"url(#clip432)\" style=\"stroke:#000000; stroke-linecap:round; stroke-linejoin:round; stroke-width:2; stroke-opacity:0.1; fill:none\" points=\"1434.68,1423.18 1434.68,47.2441 \"/>\n",
       "<polyline clip-path=\"url(#clip432)\" style=\"stroke:#000000; stroke-linecap:round; stroke-linejoin:round; stroke-width:2; stroke-opacity:0.1; fill:none\" points=\"2007.76,1423.18 2007.76,47.2441 \"/>\n",
       "<polyline clip-path=\"url(#clip430)\" style=\"stroke:#000000; stroke-linecap:round; stroke-linejoin:round; stroke-width:4; stroke-opacity:1; fill:none\" points=\"287.366,1423.18 2352.76,1423.18 \"/>\n",
       "<polyline clip-path=\"url(#clip430)\" style=\"stroke:#000000; stroke-linecap:round; stroke-linejoin:round; stroke-width:4; stroke-opacity:1; fill:none\" points=\"288.512,1423.18 288.512,1404.28 \"/>\n",
       "<polyline clip-path=\"url(#clip430)\" style=\"stroke:#000000; stroke-linecap:round; stroke-linejoin:round; stroke-width:4; stroke-opacity:1; fill:none\" points=\"861.595,1423.18 861.595,1404.28 \"/>\n",
       "<polyline clip-path=\"url(#clip430)\" style=\"stroke:#000000; stroke-linecap:round; stroke-linejoin:round; stroke-width:4; stroke-opacity:1; fill:none\" points=\"1434.68,1423.18 1434.68,1404.28 \"/>\n",
       "<polyline clip-path=\"url(#clip430)\" style=\"stroke:#000000; stroke-linecap:round; stroke-linejoin:round; stroke-width:4; stroke-opacity:1; fill:none\" points=\"2007.76,1423.18 2007.76,1404.28 \"/>\n",
       "<path clip-path=\"url(#clip430)\" d=\"M288.512 1454.1 Q284.901 1454.1 283.072 1457.66 Q281.267 1461.2 281.267 1468.33 Q281.267 1475.44 283.072 1479.01 Q284.901 1482.55 288.512 1482.55 Q292.146 1482.55 293.952 1479.01 Q295.781 1475.44 295.781 1468.33 Q295.781 1461.2 293.952 1457.66 Q292.146 1454.1 288.512 1454.1 M288.512 1450.39 Q294.322 1450.39 297.378 1455 Q300.456 1459.58 300.456 1468.33 Q300.456 1477.06 297.378 1481.67 Q294.322 1486.25 288.512 1486.25 Q282.702 1486.25 279.623 1481.67 Q276.568 1477.06 276.568 1468.33 Q276.568 1459.58 279.623 1455 Q282.702 1450.39 288.512 1450.39 Z\" fill=\"#000000\" fill-rule=\"nonzero\" fill-opacity=\"1\" /><path clip-path=\"url(#clip430)\" d=\"M836.282 1481.64 L843.921 1481.64 L843.921 1455.28 L835.611 1456.95 L835.611 1452.69 L843.875 1451.02 L848.551 1451.02 L848.551 1481.64 L856.19 1481.64 L856.19 1485.58 L836.282 1485.58 L836.282 1481.64 Z\" fill=\"#000000\" fill-rule=\"nonzero\" fill-opacity=\"1\" /><path clip-path=\"url(#clip430)\" d=\"M875.634 1454.1 Q872.023 1454.1 870.194 1457.66 Q868.389 1461.2 868.389 1468.33 Q868.389 1475.44 870.194 1479.01 Q872.023 1482.55 875.634 1482.55 Q879.268 1482.55 881.074 1479.01 Q882.903 1475.44 882.903 1468.33 Q882.903 1461.2 881.074 1457.66 Q879.268 1454.1 875.634 1454.1 M875.634 1450.39 Q881.444 1450.39 884.5 1455 Q887.578 1459.58 887.578 1468.33 Q887.578 1477.06 884.5 1481.67 Q881.444 1486.25 875.634 1486.25 Q869.824 1486.25 866.745 1481.67 Q863.69 1477.06 863.69 1468.33 Q863.69 1459.58 866.745 1455 Q869.824 1450.39 875.634 1450.39 Z\" fill=\"#000000\" fill-rule=\"nonzero\" fill-opacity=\"1\" /><path clip-path=\"url(#clip430)\" d=\"M1413.45 1481.64 L1429.77 1481.64 L1429.77 1485.58 L1407.83 1485.58 L1407.83 1481.64 Q1410.49 1478.89 1415.07 1474.26 Q1419.68 1469.61 1420.86 1468.27 Q1423.1 1465.74 1423.98 1464.01 Q1424.89 1462.25 1424.89 1460.56 Q1424.89 1457.8 1422.94 1456.07 Q1421.02 1454.33 1417.92 1454.33 Q1415.72 1454.33 1413.27 1455.09 Q1410.83 1455.86 1408.06 1457.41 L1408.06 1452.69 Q1410.88 1451.55 1413.33 1450.97 Q1415.79 1450.39 1417.83 1450.39 Q1423.2 1450.39 1426.39 1453.08 Q1429.58 1455.77 1429.58 1460.26 Q1429.58 1462.39 1428.77 1464.31 Q1427.99 1466.2 1425.88 1468.8 Q1425.3 1469.47 1422.2 1472.69 Q1419.1 1475.88 1413.45 1481.64 Z\" fill=\"#000000\" fill-rule=\"nonzero\" fill-opacity=\"1\" /><path clip-path=\"url(#clip430)\" d=\"M1449.58 1454.1 Q1445.97 1454.1 1444.14 1457.66 Q1442.34 1461.2 1442.34 1468.33 Q1442.34 1475.44 1444.14 1479.01 Q1445.97 1482.55 1449.58 1482.55 Q1453.22 1482.55 1455.02 1479.01 Q1456.85 1475.44 1456.85 1468.33 Q1456.85 1461.2 1455.02 1457.66 Q1453.22 1454.1 1449.58 1454.1 M1449.58 1450.39 Q1455.39 1450.39 1458.45 1455 Q1461.53 1459.58 1461.53 1468.33 Q1461.53 1477.06 1458.45 1481.67 Q1455.39 1486.25 1449.58 1486.25 Q1443.77 1486.25 1440.7 1481.67 Q1437.64 1477.06 1437.64 1468.33 Q1437.64 1459.58 1440.7 1455 Q1443.77 1450.39 1449.58 1450.39 Z\" fill=\"#000000\" fill-rule=\"nonzero\" fill-opacity=\"1\" /><path clip-path=\"url(#clip430)\" d=\"M1996.6 1466.95 Q1999.96 1467.66 2001.83 1469.93 Q2003.73 1472.2 2003.73 1475.53 Q2003.73 1480.65 2000.21 1483.45 Q1996.7 1486.25 1990.21 1486.25 Q1988.04 1486.25 1985.72 1485.81 Q1983.43 1485.39 1980.98 1484.54 L1980.98 1480.02 Q1982.92 1481.16 1985.24 1481.74 Q1987.55 1482.32 1990.08 1482.32 Q1994.47 1482.32 1996.76 1480.58 Q1999.08 1478.84 1999.08 1475.53 Q1999.08 1472.48 1996.93 1470.77 Q1994.8 1469.03 1990.98 1469.03 L1986.95 1469.03 L1986.95 1465.19 L1991.16 1465.19 Q1994.61 1465.19 1996.44 1463.82 Q1998.27 1462.43 1998.27 1459.84 Q1998.27 1457.18 1996.37 1455.77 Q1994.5 1454.33 1990.98 1454.33 Q1989.06 1454.33 1986.86 1454.75 Q1984.66 1455.16 1982.02 1456.04 L1982.02 1451.88 Q1984.68 1451.14 1987 1450.77 Q1989.33 1450.39 1991.39 1450.39 Q1996.72 1450.39 1999.82 1452.83 Q2002.92 1455.23 2002.92 1459.35 Q2002.92 1462.22 2001.28 1464.21 Q1999.64 1466.18 1996.6 1466.95 Z\" fill=\"#000000\" fill-rule=\"nonzero\" fill-opacity=\"1\" /><path clip-path=\"url(#clip430)\" d=\"M2022.6 1454.1 Q2018.99 1454.1 2017.16 1457.66 Q2015.35 1461.2 2015.35 1468.33 Q2015.35 1475.44 2017.16 1479.01 Q2018.99 1482.55 2022.6 1482.55 Q2026.23 1482.55 2028.04 1479.01 Q2029.87 1475.44 2029.87 1468.33 Q2029.87 1461.2 2028.04 1457.66 Q2026.23 1454.1 2022.6 1454.1 M2022.6 1450.39 Q2028.41 1450.39 2031.46 1455 Q2034.54 1459.58 2034.54 1468.33 Q2034.54 1477.06 2031.46 1481.67 Q2028.41 1486.25 2022.6 1486.25 Q2016.79 1486.25 2013.71 1481.67 Q2010.65 1477.06 2010.65 1468.33 Q2010.65 1459.58 2013.71 1455 Q2016.79 1450.39 2022.6 1450.39 Z\" fill=\"#000000\" fill-rule=\"nonzero\" fill-opacity=\"1\" /><path clip-path=\"url(#clip430)\" d=\"M1334.99 1546.53 L1334.99 1568.04 L1329.13 1568.04 L1329.13 1546.72 Q1329.13 1541.66 1327.16 1539.14 Q1325.19 1536.63 1321.24 1536.63 Q1316.5 1536.63 1313.76 1539.65 Q1311.02 1542.68 1311.02 1547.9 L1311.02 1568.04 L1305.13 1568.04 L1305.13 1532.4 L1311.02 1532.4 L1311.02 1537.93 Q1313.12 1534.72 1315.96 1533.13 Q1318.82 1531.54 1322.54 1531.54 Q1328.69 1531.54 1331.84 1535.36 Q1334.99 1539.14 1334.99 1546.53 Z\" fill=\"#000000\" fill-rule=\"nonzero\" fill-opacity=\"1\" /><polyline clip-path=\"url(#clip432)\" style=\"stroke:#000000; stroke-linecap:round; stroke-linejoin:round; stroke-width:2; stroke-opacity:0.1; fill:none\" points=\"287.366,1351.35 2352.76,1351.35 \"/>\n",
       "<polyline clip-path=\"url(#clip432)\" style=\"stroke:#000000; stroke-linecap:round; stroke-linejoin:round; stroke-width:2; stroke-opacity:0.1; fill:none\" points=\"287.366,1035.06 2352.76,1035.06 \"/>\n",
       "<polyline clip-path=\"url(#clip432)\" style=\"stroke:#000000; stroke-linecap:round; stroke-linejoin:round; stroke-width:2; stroke-opacity:0.1; fill:none\" points=\"287.366,718.769 2352.76,718.769 \"/>\n",
       "<polyline clip-path=\"url(#clip432)\" style=\"stroke:#000000; stroke-linecap:round; stroke-linejoin:round; stroke-width:2; stroke-opacity:0.1; fill:none\" points=\"287.366,402.477 2352.76,402.477 \"/>\n",
       "<polyline clip-path=\"url(#clip432)\" style=\"stroke:#000000; stroke-linecap:round; stroke-linejoin:round; stroke-width:2; stroke-opacity:0.1; fill:none\" points=\"287.366,86.1857 2352.76,86.1857 \"/>\n",
       "<polyline clip-path=\"url(#clip430)\" style=\"stroke:#000000; stroke-linecap:round; stroke-linejoin:round; stroke-width:4; stroke-opacity:1; fill:none\" points=\"287.366,1423.18 287.366,47.2441 \"/>\n",
       "<polyline clip-path=\"url(#clip430)\" style=\"stroke:#000000; stroke-linecap:round; stroke-linejoin:round; stroke-width:4; stroke-opacity:1; fill:none\" points=\"287.366,1351.35 306.264,1351.35 \"/>\n",
       "<polyline clip-path=\"url(#clip430)\" style=\"stroke:#000000; stroke-linecap:round; stroke-linejoin:round; stroke-width:4; stroke-opacity:1; fill:none\" points=\"287.366,1035.06 306.264,1035.06 \"/>\n",
       "<polyline clip-path=\"url(#clip430)\" style=\"stroke:#000000; stroke-linecap:round; stroke-linejoin:round; stroke-width:4; stroke-opacity:1; fill:none\" points=\"287.366,718.769 306.264,718.769 \"/>\n",
       "<polyline clip-path=\"url(#clip430)\" style=\"stroke:#000000; stroke-linecap:round; stroke-linejoin:round; stroke-width:4; stroke-opacity:1; fill:none\" points=\"287.366,402.477 306.264,402.477 \"/>\n",
       "<polyline clip-path=\"url(#clip430)\" style=\"stroke:#000000; stroke-linecap:round; stroke-linejoin:round; stroke-width:4; stroke-opacity:1; fill:none\" points=\"287.366,86.1857 306.264,86.1857 \"/>\n",
       "<path clip-path=\"url(#clip430)\" d=\"M114.26 1351.8 L143.936 1351.8 L143.936 1355.74 L114.26 1355.74 L114.26 1351.8 Z\" fill=\"#000000\" fill-rule=\"nonzero\" fill-opacity=\"1\" /><path clip-path=\"url(#clip430)\" d=\"M154.839 1364.7 L162.477 1364.7 L162.477 1338.33 L154.167 1340 L154.167 1335.74 L162.431 1334.07 L167.107 1334.07 L167.107 1364.7 L174.746 1364.7 L174.746 1368.63 L154.839 1368.63 L154.839 1364.7 Z\" fill=\"#000000\" fill-rule=\"nonzero\" fill-opacity=\"1\" /><path clip-path=\"url(#clip430)\" d=\"M194.19 1337.15 Q190.579 1337.15 188.75 1340.72 Q186.945 1344.26 186.945 1351.39 Q186.945 1358.49 188.75 1362.06 Q190.579 1365.6 194.19 1365.6 Q197.825 1365.6 199.63 1362.06 Q201.459 1358.49 201.459 1351.39 Q201.459 1344.26 199.63 1340.72 Q197.825 1337.15 194.19 1337.15 M194.19 1333.45 Q200 1333.45 203.056 1338.05 Q206.135 1342.64 206.135 1351.39 Q206.135 1360.11 203.056 1364.72 Q200 1369.3 194.19 1369.3 Q188.38 1369.3 185.301 1364.72 Q182.246 1360.11 182.246 1351.39 Q182.246 1342.64 185.301 1338.05 Q188.38 1333.45 194.19 1333.45 Z\" fill=\"#000000\" fill-rule=\"nonzero\" fill-opacity=\"1\" /><path clip-path=\"url(#clip430)\" d=\"M214.352 1362.75 L219.236 1362.75 L219.236 1368.63 L214.352 1368.63 L214.352 1362.75 Z\" fill=\"#000000\" fill-rule=\"nonzero\" fill-opacity=\"1\" /><path clip-path=\"url(#clip430)\" d=\"M239.422 1337.15 Q235.81 1337.15 233.982 1340.72 Q232.176 1344.26 232.176 1351.39 Q232.176 1358.49 233.982 1362.06 Q235.81 1365.6 239.422 1365.6 Q243.056 1365.6 244.861 1362.06 Q246.69 1358.49 246.69 1351.39 Q246.69 1344.26 244.861 1340.72 Q243.056 1337.15 239.422 1337.15 M239.422 1333.45 Q245.232 1333.45 248.287 1338.05 Q251.366 1342.64 251.366 1351.39 Q251.366 1360.11 248.287 1364.72 Q245.232 1369.3 239.422 1369.3 Q233.611 1369.3 230.533 1364.72 Q227.477 1360.11 227.477 1351.39 Q227.477 1342.64 230.533 1338.05 Q233.611 1333.45 239.422 1333.45 Z\" fill=\"#000000\" fill-rule=\"nonzero\" fill-opacity=\"1\" /><path clip-path=\"url(#clip430)\" d=\"M145.417 1035.51 L175.093 1035.51 L175.093 1039.45 L145.417 1039.45 L145.417 1035.51 Z\" fill=\"#000000\" fill-rule=\"nonzero\" fill-opacity=\"1\" /><path clip-path=\"url(#clip430)\" d=\"M184.005 1017.78 L206.227 1017.78 L206.227 1019.77 L193.681 1052.34 L188.797 1052.34 L200.602 1021.72 L184.005 1021.72 L184.005 1017.78 Z\" fill=\"#000000\" fill-rule=\"nonzero\" fill-opacity=\"1\" /><path clip-path=\"url(#clip430)\" d=\"M215.348 1046.46 L220.232 1046.46 L220.232 1052.34 L215.348 1052.34 L215.348 1046.46 Z\" fill=\"#000000\" fill-rule=\"nonzero\" fill-opacity=\"1\" /><path clip-path=\"url(#clip430)\" d=\"M230.463 1017.78 L248.82 1017.78 L248.82 1021.72 L234.746 1021.72 L234.746 1030.19 Q235.764 1029.84 236.783 1029.68 Q237.801 1029.49 238.82 1029.49 Q244.607 1029.49 247.986 1032.66 Q251.366 1035.84 251.366 1041.25 Q251.366 1046.83 247.894 1049.93 Q244.421 1053.01 238.102 1053.01 Q235.926 1053.01 233.658 1052.64 Q231.412 1052.27 229.005 1051.53 L229.005 1046.83 Q231.088 1047.97 233.31 1048.52 Q235.533 1049.08 238.009 1049.08 Q242.014 1049.08 244.352 1046.97 Q246.69 1044.86 246.69 1041.25 Q246.69 1037.64 244.352 1035.54 Q242.014 1033.43 238.009 1033.43 Q236.135 1033.43 234.26 1033.85 Q232.408 1034.26 230.463 1035.14 L230.463 1017.78 Z\" fill=\"#000000\" fill-rule=\"nonzero\" fill-opacity=\"1\" /><path clip-path=\"url(#clip430)\" d=\"M144.422 719.22 L174.098 719.22 L174.098 723.156 L144.422 723.156 L144.422 719.22 Z\" fill=\"#000000\" fill-rule=\"nonzero\" fill-opacity=\"1\" /><path clip-path=\"url(#clip430)\" d=\"M184.237 701.489 L202.593 701.489 L202.593 705.424 L188.519 705.424 L188.519 713.896 Q189.538 713.549 190.556 713.387 Q191.575 713.202 192.593 713.202 Q198.38 713.202 201.76 716.373 Q205.139 719.545 205.139 724.961 Q205.139 730.54 201.667 733.642 Q198.195 736.72 191.875 736.72 Q189.7 736.72 187.431 736.35 Q185.186 735.98 182.778 735.239 L182.778 730.54 Q184.862 731.674 187.084 732.23 Q189.306 732.785 191.783 732.785 Q195.787 732.785 198.125 730.679 Q200.463 728.572 200.463 724.961 Q200.463 721.35 198.125 719.244 Q195.787 717.137 191.783 717.137 Q189.908 717.137 188.033 717.554 Q186.181 717.97 184.237 718.85 L184.237 701.489 Z\" fill=\"#000000\" fill-rule=\"nonzero\" fill-opacity=\"1\" /><path clip-path=\"url(#clip430)\" d=\"M214.352 730.169 L219.236 730.169 L219.236 736.049 L214.352 736.049 L214.352 730.169 Z\" fill=\"#000000\" fill-rule=\"nonzero\" fill-opacity=\"1\" /><path clip-path=\"url(#clip430)\" d=\"M239.422 704.568 Q235.81 704.568 233.982 708.133 Q232.176 711.674 232.176 718.804 Q232.176 725.91 233.982 729.475 Q235.81 733.017 239.422 733.017 Q243.056 733.017 244.861 729.475 Q246.69 725.91 246.69 718.804 Q246.69 711.674 244.861 708.133 Q243.056 704.568 239.422 704.568 M239.422 700.864 Q245.232 700.864 248.287 705.471 Q251.366 710.054 251.366 718.804 Q251.366 727.531 248.287 732.137 Q245.232 736.72 239.422 736.72 Q233.611 736.72 230.533 732.137 Q227.477 727.531 227.477 718.804 Q227.477 710.054 230.533 705.471 Q233.611 700.864 239.422 700.864 Z\" fill=\"#000000\" fill-rule=\"nonzero\" fill-opacity=\"1\" /><path clip-path=\"url(#clip430)\" d=\"M145.417 402.929 L175.093 402.929 L175.093 406.864 L145.417 406.864 L145.417 402.929 Z\" fill=\"#000000\" fill-rule=\"nonzero\" fill-opacity=\"1\" /><path clip-path=\"url(#clip430)\" d=\"M189.213 415.822 L205.533 415.822 L205.533 419.757 L183.588 419.757 L183.588 415.822 Q186.251 413.068 190.834 408.438 Q195.44 403.785 196.621 402.443 Q198.866 399.92 199.746 398.183 Q200.649 396.424 200.649 394.734 Q200.649 391.98 198.704 390.244 Q196.783 388.508 193.681 388.508 Q191.482 388.508 189.028 389.271 Q186.598 390.035 183.82 391.586 L183.82 386.864 Q186.644 385.73 189.098 385.151 Q191.551 384.572 193.588 384.572 Q198.959 384.572 202.153 387.258 Q205.348 389.943 205.348 394.433 Q205.348 396.563 204.537 398.484 Q203.75 400.382 201.644 402.975 Q201.065 403.646 197.963 406.864 Q194.862 410.058 189.213 415.822 Z\" fill=\"#000000\" fill-rule=\"nonzero\" fill-opacity=\"1\" /><path clip-path=\"url(#clip430)\" d=\"M215.348 413.878 L220.232 413.878 L220.232 419.757 L215.348 419.757 L215.348 413.878 Z\" fill=\"#000000\" fill-rule=\"nonzero\" fill-opacity=\"1\" /><path clip-path=\"url(#clip430)\" d=\"M230.463 385.197 L248.82 385.197 L248.82 389.133 L234.746 389.133 L234.746 397.605 Q235.764 397.257 236.783 397.095 Q237.801 396.91 238.82 396.91 Q244.607 396.91 247.986 400.082 Q251.366 403.253 251.366 408.669 Q251.366 414.248 247.894 417.35 Q244.421 420.429 238.102 420.429 Q235.926 420.429 233.658 420.058 Q231.412 419.688 229.005 418.947 L229.005 414.248 Q231.088 415.382 233.31 415.938 Q235.533 416.493 238.009 416.493 Q242.014 416.493 244.352 414.387 Q246.69 412.281 246.69 408.669 Q246.69 405.058 244.352 402.952 Q242.014 400.845 238.009 400.845 Q236.135 400.845 234.26 401.262 Q232.408 401.679 230.463 402.558 L230.463 385.197 Z\" fill=\"#000000\" fill-rule=\"nonzero\" fill-opacity=\"1\" /><path clip-path=\"url(#clip430)\" d=\"M194.19 71.9844 Q190.579 71.9844 188.75 75.5492 Q186.945 79.0908 186.945 86.2204 Q186.945 93.3268 188.75 96.8916 Q190.579 100.433 194.19 100.433 Q197.825 100.433 199.63 96.8916 Q201.459 93.3268 201.459 86.2204 Q201.459 79.0908 199.63 75.5492 Q197.825 71.9844 194.19 71.9844 M194.19 68.2807 Q200 68.2807 203.056 72.8871 Q206.135 77.4704 206.135 86.2204 Q206.135 94.9472 203.056 99.5537 Q200 104.137 194.19 104.137 Q188.38 104.137 185.301 99.5537 Q182.246 94.9472 182.246 86.2204 Q182.246 77.4704 185.301 72.8871 Q188.38 68.2807 194.19 68.2807 Z\" fill=\"#000000\" fill-rule=\"nonzero\" fill-opacity=\"1\" /><path clip-path=\"url(#clip430)\" d=\"M214.352 97.5861 L219.236 97.5861 L219.236 103.466 L214.352 103.466 L214.352 97.5861 Z\" fill=\"#000000\" fill-rule=\"nonzero\" fill-opacity=\"1\" /><path clip-path=\"url(#clip430)\" d=\"M239.422 71.9844 Q235.81 71.9844 233.982 75.5492 Q232.176 79.0908 232.176 86.2204 Q232.176 93.3268 233.982 96.8916 Q235.81 100.433 239.422 100.433 Q243.056 100.433 244.861 96.8916 Q246.69 93.3268 246.69 86.2204 Q246.69 79.0908 244.861 75.5492 Q243.056 71.9844 239.422 71.9844 M239.422 68.2807 Q245.232 68.2807 248.287 72.8871 Q251.366 77.4704 251.366 86.2204 Q251.366 94.9472 248.287 99.5537 Q245.232 104.137 239.422 104.137 Q233.611 104.137 230.533 99.5537 Q227.477 94.9472 227.477 86.2204 Q227.477 77.4704 230.533 72.8871 Q233.611 68.2807 239.422 68.2807 Z\" fill=\"#000000\" fill-rule=\"nonzero\" fill-opacity=\"1\" /><path clip-path=\"url(#clip430)\" d=\"M16.4842 750.521 L16.4842 720.475 L21.895 720.475 L21.895 744.092 L35.9632 744.092 L35.9632 721.462 L41.3741 721.462 L41.3741 744.092 L58.5933 744.092 L58.5933 719.902 L64.0042 719.902 L64.0042 750.521 L16.4842 750.521 Z\" fill=\"#000000\" fill-rule=\"nonzero\" fill-opacity=\"1\" /><circle clip-path=\"url(#clip432)\" cx=\"345.82\" cy=\"1384.24\" r=\"14.4\" fill=\"#009af9\" fill-rule=\"evenodd\" fill-opacity=\"1\" stroke=\"#000000\" stroke-opacity=\"1\" stroke-width=\"3.2\"/>\n",
       "<circle clip-path=\"url(#clip432)\" cx=\"403.129\" cy=\"1384.24\" r=\"14.4\" fill=\"#009af9\" fill-rule=\"evenodd\" fill-opacity=\"1\" stroke=\"#000000\" stroke-opacity=\"1\" stroke-width=\"3.2\"/>\n",
       "<circle clip-path=\"url(#clip432)\" cx=\"460.437\" cy=\"1384.23\" r=\"14.4\" fill=\"#009af9\" fill-rule=\"evenodd\" fill-opacity=\"1\" stroke=\"#000000\" stroke-opacity=\"1\" stroke-width=\"3.2\"/>\n",
       "<circle clip-path=\"url(#clip432)\" cx=\"517.745\" cy=\"1384.23\" r=\"14.4\" fill=\"#009af9\" fill-rule=\"evenodd\" fill-opacity=\"1\" stroke=\"#000000\" stroke-opacity=\"1\" stroke-width=\"3.2\"/>\n",
       "<circle clip-path=\"url(#clip432)\" cx=\"575.053\" cy=\"1384.23\" r=\"14.4\" fill=\"#009af9\" fill-rule=\"evenodd\" fill-opacity=\"1\" stroke=\"#000000\" stroke-opacity=\"1\" stroke-width=\"3.2\"/>\n",
       "<circle clip-path=\"url(#clip432)\" cx=\"632.362\" cy=\"1384.23\" r=\"14.4\" fill=\"#009af9\" fill-rule=\"evenodd\" fill-opacity=\"1\" stroke=\"#000000\" stroke-opacity=\"1\" stroke-width=\"3.2\"/>\n",
       "<circle clip-path=\"url(#clip432)\" cx=\"689.67\" cy=\"1384.23\" r=\"14.4\" fill=\"#009af9\" fill-rule=\"evenodd\" fill-opacity=\"1\" stroke=\"#000000\" stroke-opacity=\"1\" stroke-width=\"3.2\"/>\n",
       "<circle clip-path=\"url(#clip432)\" cx=\"746.978\" cy=\"1384.23\" r=\"14.4\" fill=\"#009af9\" fill-rule=\"evenodd\" fill-opacity=\"1\" stroke=\"#000000\" stroke-opacity=\"1\" stroke-width=\"3.2\"/>\n",
       "<circle clip-path=\"url(#clip432)\" cx=\"804.286\" cy=\"1384.23\" r=\"14.4\" fill=\"#009af9\" fill-rule=\"evenodd\" fill-opacity=\"1\" stroke=\"#000000\" stroke-opacity=\"1\" stroke-width=\"3.2\"/>\n",
       "<circle clip-path=\"url(#clip432)\" cx=\"861.595\" cy=\"1384.23\" r=\"14.4\" fill=\"#009af9\" fill-rule=\"evenodd\" fill-opacity=\"1\" stroke=\"#000000\" stroke-opacity=\"1\" stroke-width=\"3.2\"/>\n",
       "<circle clip-path=\"url(#clip432)\" cx=\"918.903\" cy=\"1384.23\" r=\"14.4\" fill=\"#009af9\" fill-rule=\"evenodd\" fill-opacity=\"1\" stroke=\"#000000\" stroke-opacity=\"1\" stroke-width=\"3.2\"/>\n",
       "<circle clip-path=\"url(#clip432)\" cx=\"976.211\" cy=\"1384.23\" r=\"14.4\" fill=\"#009af9\" fill-rule=\"evenodd\" fill-opacity=\"1\" stroke=\"#000000\" stroke-opacity=\"1\" stroke-width=\"3.2\"/>\n",
       "<circle clip-path=\"url(#clip432)\" cx=\"1033.52\" cy=\"1384.23\" r=\"14.4\" fill=\"#009af9\" fill-rule=\"evenodd\" fill-opacity=\"1\" stroke=\"#000000\" stroke-opacity=\"1\" stroke-width=\"3.2\"/>\n",
       "<circle clip-path=\"url(#clip432)\" cx=\"1090.83\" cy=\"1384.23\" r=\"14.4\" fill=\"#009af9\" fill-rule=\"evenodd\" fill-opacity=\"1\" stroke=\"#000000\" stroke-opacity=\"1\" stroke-width=\"3.2\"/>\n",
       "<circle clip-path=\"url(#clip432)\" cx=\"1148.14\" cy=\"1384.22\" r=\"14.4\" fill=\"#009af9\" fill-rule=\"evenodd\" fill-opacity=\"1\" stroke=\"#000000\" stroke-opacity=\"1\" stroke-width=\"3.2\"/>\n",
       "<circle clip-path=\"url(#clip432)\" cx=\"1205.44\" cy=\"1384.22\" r=\"14.4\" fill=\"#009af9\" fill-rule=\"evenodd\" fill-opacity=\"1\" stroke=\"#000000\" stroke-opacity=\"1\" stroke-width=\"3.2\"/>\n",
       "<circle clip-path=\"url(#clip432)\" cx=\"1262.75\" cy=\"1375.12\" r=\"14.4\" fill=\"#009af9\" fill-rule=\"evenodd\" fill-opacity=\"1\" stroke=\"#000000\" stroke-opacity=\"1\" stroke-width=\"3.2\"/>\n",
       "<circle clip-path=\"url(#clip432)\" cx=\"1320.06\" cy=\"1375.12\" r=\"14.4\" fill=\"#009af9\" fill-rule=\"evenodd\" fill-opacity=\"1\" stroke=\"#000000\" stroke-opacity=\"1\" stroke-width=\"3.2\"/>\n",
       "<circle clip-path=\"url(#clip432)\" cx=\"1377.37\" cy=\"1375.11\" r=\"14.4\" fill=\"#009af9\" fill-rule=\"evenodd\" fill-opacity=\"1\" stroke=\"#000000\" stroke-opacity=\"1\" stroke-width=\"3.2\"/>\n",
       "<circle clip-path=\"url(#clip432)\" cx=\"1434.68\" cy=\"1375.11\" r=\"14.4\" fill=\"#009af9\" fill-rule=\"evenodd\" fill-opacity=\"1\" stroke=\"#000000\" stroke-opacity=\"1\" stroke-width=\"3.2\"/>\n",
       "<circle clip-path=\"url(#clip432)\" cx=\"1491.99\" cy=\"1375.11\" r=\"14.4\" fill=\"#009af9\" fill-rule=\"evenodd\" fill-opacity=\"1\" stroke=\"#000000\" stroke-opacity=\"1\" stroke-width=\"3.2\"/>\n",
       "<circle clip-path=\"url(#clip432)\" cx=\"1549.29\" cy=\"1375.11\" r=\"14.4\" fill=\"#009af9\" fill-rule=\"evenodd\" fill-opacity=\"1\" stroke=\"#000000\" stroke-opacity=\"1\" stroke-width=\"3.2\"/>\n",
       "<circle clip-path=\"url(#clip432)\" cx=\"1606.6\" cy=\"1375.1\" r=\"14.4\" fill=\"#009af9\" fill-rule=\"evenodd\" fill-opacity=\"1\" stroke=\"#000000\" stroke-opacity=\"1\" stroke-width=\"3.2\"/>\n",
       "<circle clip-path=\"url(#clip432)\" cx=\"1663.91\" cy=\"1375.1\" r=\"14.4\" fill=\"#009af9\" fill-rule=\"evenodd\" fill-opacity=\"1\" stroke=\"#000000\" stroke-opacity=\"1\" stroke-width=\"3.2\"/>\n",
       "<circle clip-path=\"url(#clip432)\" cx=\"1721.22\" cy=\"1375.01\" r=\"14.4\" fill=\"#009af9\" fill-rule=\"evenodd\" fill-opacity=\"1\" stroke=\"#000000\" stroke-opacity=\"1\" stroke-width=\"3.2\"/>\n",
       "<circle clip-path=\"url(#clip432)\" cx=\"1778.53\" cy=\"1375.01\" r=\"14.4\" fill=\"#009af9\" fill-rule=\"evenodd\" fill-opacity=\"1\" stroke=\"#000000\" stroke-opacity=\"1\" stroke-width=\"3.2\"/>\n",
       "<circle clip-path=\"url(#clip432)\" cx=\"1835.84\" cy=\"1375\" r=\"14.4\" fill=\"#009af9\" fill-rule=\"evenodd\" fill-opacity=\"1\" stroke=\"#000000\" stroke-opacity=\"1\" stroke-width=\"3.2\"/>\n",
       "<circle clip-path=\"url(#clip432)\" cx=\"1893.14\" cy=\"1375\" r=\"14.4\" fill=\"#009af9\" fill-rule=\"evenodd\" fill-opacity=\"1\" stroke=\"#000000\" stroke-opacity=\"1\" stroke-width=\"3.2\"/>\n",
       "<circle clip-path=\"url(#clip432)\" cx=\"1950.45\" cy=\"1375\" r=\"14.4\" fill=\"#009af9\" fill-rule=\"evenodd\" fill-opacity=\"1\" stroke=\"#000000\" stroke-opacity=\"1\" stroke-width=\"3.2\"/>\n",
       "<circle clip-path=\"url(#clip432)\" cx=\"2007.76\" cy=\"1375\" r=\"14.4\" fill=\"#009af9\" fill-rule=\"evenodd\" fill-opacity=\"1\" stroke=\"#000000\" stroke-opacity=\"1\" stroke-width=\"3.2\"/>\n",
       "<circle clip-path=\"url(#clip432)\" cx=\"2065.07\" cy=\"1374.99\" r=\"14.4\" fill=\"#009af9\" fill-rule=\"evenodd\" fill-opacity=\"1\" stroke=\"#000000\" stroke-opacity=\"1\" stroke-width=\"3.2\"/>\n",
       "<circle clip-path=\"url(#clip432)\" cx=\"2122.38\" cy=\"1374.99\" r=\"14.4\" fill=\"#009af9\" fill-rule=\"evenodd\" fill-opacity=\"1\" stroke=\"#000000\" stroke-opacity=\"1\" stroke-width=\"3.2\"/>\n",
       "<circle clip-path=\"url(#clip432)\" cx=\"2179.68\" cy=\"1373.6\" r=\"14.4\" fill=\"#009af9\" fill-rule=\"evenodd\" fill-opacity=\"1\" stroke=\"#000000\" stroke-opacity=\"1\" stroke-width=\"3.2\"/>\n",
       "<circle clip-path=\"url(#clip432)\" cx=\"2236.99\" cy=\"1373.6\" r=\"14.4\" fill=\"#009af9\" fill-rule=\"evenodd\" fill-opacity=\"1\" stroke=\"#000000\" stroke-opacity=\"1\" stroke-width=\"3.2\"/>\n",
       "<circle clip-path=\"url(#clip432)\" cx=\"2294.3\" cy=\"1373.59\" r=\"14.4\" fill=\"#009af9\" fill-rule=\"evenodd\" fill-opacity=\"1\" stroke=\"#000000\" stroke-opacity=\"1\" stroke-width=\"3.2\"/>\n",
       "</svg>\n"
      ]
     },
     "execution_count": 25,
     "metadata": {},
     "output_type": "execute_result"
    }
   ],
   "source": [
    "using Plots\n",
    "Plots.plot(1:35,E0,seriestype=:scatter,xlabel=\"n\",ylabel=\"E\",legend=false)\n",
    "#Plots.title!(\"Nx=$(Nx),Ny=$(Ny),Phi=$(round(p/q,digits = 3)),N_phi=$(Nx),nu=$(pn/Nx), \\n V_imp=0\")\n",
    "#ylims!((-7.20544,-7.20536)) # Onur hocanın makalesinde ki FIG1 için sınırlar"
   ]
  },
  {
   "cell_type": "markdown",
   "id": "aaca712c-b257-494d-bc14-71ded4bb8410",
   "metadata": {},
   "source": [
    "Allta ki fonksiyonun çalışması için, dizide ki filtre edilmiş parçacık sayısı her zaman en büyük değer de olmalıdır.\n",
    "Örneğin, `PN=[0,1,2,3,4]` iken filtre edilen parçacık sayısı `pn=4` olmalıdır!"
   ]
  },
  {
   "cell_type": "code",
   "execution_count": 26,
   "id": "d582d7a3-67c3-4775-bcb8-2862643ca5ac",
   "metadata": {
    "tags": []
   },
   "outputs": [
    {
     "data": {
      "text/plain": [
       "Restricted_Hubbard_States (generic function with 1 method)"
      ]
     },
     "execution_count": 26,
     "metadata": {},
     "output_type": "execute_result"
    }
   ],
   "source": [
    "function Restricted_Hubbard_States(states)\n",
    "    number_of_states = length(filtered_energies)\n",
    "    return states[1:number_of_states];\n",
    "end"
   ]
  },
  {
   "cell_type": "code",
   "execution_count": 27,
   "id": "da17cb7c-bc14-4026-adae-386b3b5b2083",
   "metadata": {
    "tags": []
   },
   "outputs": [],
   "source": [
    "r_hubbard_states = Restricted_Hubbard_States(V);\n",
    "r_hubbard_states_0 = Restricted_Hubbard_States(V0);"
   ]
  },
  {
   "cell_type": "markdown",
   "id": "14aea968-4016-4dc6-965b-e194bc4b4944",
   "metadata": {},
   "source": [
    "# Densities"
   ]
  },
  {
   "cell_type": "markdown",
   "id": "74774696-2ef4-47f5-a37a-99c049a241d4",
   "metadata": {},
   "source": [
    "<font size=\"4\">\n",
    "$<n_i>, \\quad \\text{i: site index}$\n",
    "</font>"
   ]
  },
  {
   "cell_type": "code",
   "execution_count": 28,
   "id": "36f916a4-68d4-4448-ac28-a27d6f24ce86",
   "metadata": {
    "tags": []
   },
   "outputs": [
    {
     "data": {
      "text/plain": [
       "0.056147989239729724 - 4.389882615309532e-19im"
      ]
     },
     "execution_count": 28,
     "metadata": {},
     "output_type": "execute_result"
    }
   ],
   "source": [
    "# METHOD 1\n",
    "\n",
    "NM_MB_Array_Storage = zeros(Complex{Float64},length(basis_cut_mb),length(basis_cut_mb),N);\n",
    "NM_MB_Matrix = zeros(Complex{Float64},length(basis_cut_mb),length(basis_cut_mb));\n",
    "for m in 1:N\n",
    "    for i in 1:length(basis_cut_mb)\n",
    "        for j in 1:length(basis_cut_mb)\n",
    "            #NM_MB_Matrix[i,j] = num_mb_list[m].data[i,j]\n",
    "            NM_MB_Matrix[i,j] = number_mb_list_operators[m].data[i,j]\n",
    "            # NOT: num_mb_list ile number_mb_list_operators bazları farklı ama içerikleri aynı!\n",
    "        end\n",
    "    end\n",
    "    NM_MB_Array_Storage[:,:,m] = NM_MB_Matrix\n",
    "end\n",
    "\n",
    "BL = BR = basis_cut_mb\n",
    "index_number_op = 4\n",
    "T = NM_MB_Array_Storage[:,:,index_number_op]\n",
    "Op = Operator(BL,BR,T)\n",
    "index_eigen_states = 1\n",
    "expect(Op, r_hubbard_states[index_eigen_states])\n",
    "expect(Op, r_hubbard_states_0[index_eigen_states])\n",
    "\n",
    "#or\n",
    "# expect(number_mb_list_operators[index_number_op],r_hubbard_states[index_eigen_states])"
   ]
  },
  {
   "cell_type": "markdown",
   "id": "d9e27ba0-375f-45d5-a23b-315fbbccea6f",
   "metadata": {},
   "source": [
    "<font size=\"4\">\n",
    "$\\sum_{i,j} <\\psi_j|n_j|\\psi_j>$\n",
    "</font>"
   ]
  },
  {
   "cell_type": "code",
   "execution_count": 29,
   "id": "81ff12cd-947c-4e4f-8b89-b4fc77c3f747",
   "metadata": {
    "tags": []
   },
   "outputs": [
    {
     "data": {
      "text/plain": [
       "80-element Vector{Float64}:\n",
       " 4.505538944027525\n",
       " 4.5055389440275375\n",
       " 4.505538944027553\n",
       " 4.505538944027574\n",
       " 4.5055389440275535\n",
       " 4.5055389440275375\n",
       " 4.5055389440275215\n",
       " 4.505538944027524\n",
       " 4.501721118213414\n",
       " 4.501721118213412\n",
       " 4.501721118213413\n",
       " 4.501721118213423\n",
       " 4.501721118213413\n",
       " ⋮\n",
       " 4.495509409772826\n",
       " 4.49550940977281\n",
       " 4.495509409772811\n",
       " 4.4955094097728185\n",
       " 4.501721118213413\n",
       " 4.5017211182134185\n",
       " 4.501721118213445\n",
       " 4.501721118213452\n",
       " 4.501721118213443\n",
       " 4.501721118213418\n",
       " 4.501721118213409\n",
       " 4.501721118213436"
      ]
     },
     "execution_count": 29,
     "metadata": {},
     "output_type": "execute_result"
    }
   ],
   "source": [
    "function get_total_density_profiles(NM_MB_Array_Storage, r_hubbard_states)\n",
    "    Sum = 0\n",
    "    total_expect_list=[]\n",
    "    for i in 1:N\n",
    "        T = NM_MB_Array_Storage[:,:,i]\n",
    "        Op = Operator(BL,BR,T)\n",
    "        n_i = 0\n",
    "        for index_eig_states in 1:length(filtered_energies) \n",
    "            # Burası 1:q'ya kadardı!!!\n",
    "            Sum += expect(Op, r_hubbard_states[index_eig_states])\n",
    "            n_i += expect(Op, r_hubbard_states[index_eig_states])\n",
    "        end\n",
    "        push!(total_expect_list, n_i)\n",
    "    end\n",
    "    return real(total_expect_list)\n",
    "end\n",
    "get_total_density_profiles(NM_MB_Array_Storage, r_hubbard_states)"
   ]
  },
  {
   "cell_type": "markdown",
   "id": "de16c359-2839-4b2f-8f23-eb528631279b",
   "metadata": {},
   "source": [
    "<font size=\"4\">\n",
    "$\\sum_{i} <\\psi_j|n_j|\\psi_j>, \\quad \\text{for a given j index}$\n",
    "</font>"
   ]
  },
  {
   "cell_type": "code",
   "execution_count": 31,
   "id": "76f88a82-5b2a-42be-8493-09d88c08e621",
   "metadata": {
    "tags": []
   },
   "outputs": [
    {
     "data": {
      "text/plain": [
       "80-element Vector{Float64}:\n",
       " 0.04897975754606998\n",
       " 0.05283610960700737\n",
       " 0.059204140591718545\n",
       " 0.06331547289550829\n",
       " 0.05920414059129104\n",
       " 0.05283610960624559\n",
       " 0.0489797575452305\n",
       " 0.04864334686942337\n",
       " 0.035986391170550365\n",
       " 0.03798489998228845\n",
       " 0.041807089776743286\n",
       " 0.04443260436323079\n",
       " 0.04180708978026039\n",
       " ⋮\n",
       " 0.02893256010480624\n",
       " 0.0318041628444072\n",
       " 0.03423895356934607\n",
       " 0.03474700910158761\n",
       " 0.03598639116486954\n",
       " 0.0379848999810002\n",
       " 0.04180708978035307\n",
       " 0.04443260436345958\n",
       " 0.041807089776192234\n",
       " 0.037984899980668285\n",
       " 0.03598639116818403\n",
       " 0.03595696046175254"
      ]
     },
     "execution_count": 31,
     "metadata": {},
     "output_type": "execute_result"
    }
   ],
   "source": [
    "# Bunlar imaginer, nasıl ortalama alacağım?\n",
    "index_eig_states = 1\n",
    "\n",
    "function get_density_profiles(NM_MB_Array_Storage, r_hubbard_states, index_eig_states)\n",
    "    Sum = 0\n",
    "    expect_list=[]\n",
    "    for i in 1:N\n",
    "        T = NM_MB_Array_Storage[:,:,i]\n",
    "        Op = Operator(BL,BR,T)   \n",
    "        Sum += expect(Op, r_hubbard_states[index_eig_states])\n",
    "        push!(expect_list, expect(Op, r_hubbard_states[index_eig_states]))\n",
    "    end\n",
    "    return real(expect_list)\n",
    "end\n",
    "\n",
    "get_density_profiles(NM_MB_Array_Storage,r_hubbard_states, index_eig_states)"
   ]
  },
  {
   "cell_type": "code",
   "execution_count": 117,
   "id": "879026ac-6676-41fd-b974-8d6d894c6f67",
   "metadata": {
    "tags": []
   },
   "outputs": [
    {
     "data": {
      "text/plain": [
       "10×8 Matrix{Float64}:\n",
       " 0.0451219  0.0451367  0.0460092  …  0.0451367  0.0460092  0.0459831\n",
       " 0.037322   0.0373746  0.0382015     0.0373746  0.0382015  0.0381465\n",
       " 0.0300841  0.0301478  0.0307227     0.0301478  0.0307227  0.0306533\n",
       " 0.0317938  0.0318662  0.0321126     0.0318662  0.0321126  0.0320229\n",
       " 0.0408323  0.0409068  0.0410224     0.0409068  0.0410224  0.0409269\n",
       " 0.0465561  0.0466031  0.0467339  …  0.0466031  0.0467339  0.0466755\n",
       " 0.0374198  0.0374228  0.0373912     0.0374228  0.0373912  0.0373858\n",
       " 0.030819   0.030795   0.030861      0.030795   0.030861   0.0308793\n",
       " 0.0328409  0.0327966  0.0332026     0.0327966  0.0332026  0.0332297\n",
       " 0.0401749  0.0401374  0.0408357     0.0401374  0.0408357  0.0408522"
      ]
     },
     "execution_count": 117,
     "metadata": {},
     "output_type": "execute_result"
    }
   ],
   "source": [
    "# ORTALAMA:\n",
    "\n",
    "Degeneracy = 7\n",
    "\n",
    "avg_density = zeros((Nx,Ny))|> transpose\n",
    "for index_eig_states in 1:Degeneracy\n",
    "    avg_density += reshape(get_density_profiles(NM_MB_Array_Storage, r_hubbard_states, index_eig_states),Nx,Ny)|> transpose\n",
    "end    \n",
    "avg_density = avg_density / Degeneracy\n",
    "\n",
    "avg_density_0 = zeros((Nx,Ny))|> transpose\n",
    "for index_eig_states in 1:Degeneracy\n",
    "    avg_density_0 += reshape(get_density_profiles(NM_MB_Array_Storage, r_hubbard_states_0, index_eig_states),Nx,Ny)|> transpose\n",
    "end    \n",
    "avg_density_0 = avg_density_0 / Degeneracy"
   ]
  },
  {
   "cell_type": "markdown",
   "id": "f04f7003-79d5-4ce7-b9f8-dfd66834d93d",
   "metadata": {},
   "source": [
    "# Density Heat-Maps"
   ]
  },
  {
   "cell_type": "code",
   "execution_count": 32,
   "id": "c1f99164-3eaa-463b-84fc-21a49ff56a6b",
   "metadata": {
    "tags": []
   },
   "outputs": [
    {
     "data": {
      "image/svg+xml": [
       "<?xml version=\"1.0\" encoding=\"utf-8\"?>\n",
       "<svg xmlns=\"http://www.w3.org/2000/svg\" xmlns:xlink=\"http://www.w3.org/1999/xlink\" width=\"600\" height=\"400\" viewBox=\"0 0 2400 1600\">\n",
       "<defs>\n",
       "  <clipPath id=\"clip470\">\n",
       "    <rect x=\"0\" y=\"0\" width=\"2400\" height=\"1600\"/>\n",
       "  </clipPath>\n",
       "</defs>\n",
       "<path clip-path=\"url(#clip470)\" d=\"M0 1600 L2400 1600 L2400 0 L0 0  Z\" fill=\"#ffffff\" fill-rule=\"evenodd\" fill-opacity=\"1\"/>\n",
       "<defs>\n",
       "  <clipPath id=\"clip471\">\n",
       "    <rect x=\"480\" y=\"0\" width=\"1681\" height=\"1600\"/>\n",
       "  </clipPath>\n",
       "</defs>\n",
       "<path clip-path=\"url(#clip470)\" d=\"M202.227 1423.18 L2112.76 1423.18 L2112.76 47.2441 L202.227 47.2441  Z\" fill=\"#ffffff\" fill-rule=\"evenodd\" fill-opacity=\"1\"/>\n",
       "<defs>\n",
       "  <clipPath id=\"clip472\">\n",
       "    <rect x=\"202\" y=\"47\" width=\"1912\" height=\"1377\"/>\n",
       "  </clipPath>\n",
       "</defs>\n",
       "<polyline clip-path=\"url(#clip472)\" style=\"stroke:#000000; stroke-linecap:round; stroke-linejoin:round; stroke-width:2; stroke-opacity:0.1; fill:none\" points=\"560.452,1423.18 560.452,47.2441 \"/>\n",
       "<polyline clip-path=\"url(#clip472)\" style=\"stroke:#000000; stroke-linecap:round; stroke-linejoin:round; stroke-width:2; stroke-opacity:0.1; fill:none\" points=\"1038.08,1423.18 1038.08,47.2441 \"/>\n",
       "<polyline clip-path=\"url(#clip472)\" style=\"stroke:#000000; stroke-linecap:round; stroke-linejoin:round; stroke-width:2; stroke-opacity:0.1; fill:none\" points=\"1515.72,1423.18 1515.72,47.2441 \"/>\n",
       "<polyline clip-path=\"url(#clip472)\" style=\"stroke:#000000; stroke-linecap:round; stroke-linejoin:round; stroke-width:2; stroke-opacity:0.1; fill:none\" points=\"1993.35,1423.18 1993.35,47.2441 \"/>\n",
       "<polyline clip-path=\"url(#clip470)\" style=\"stroke:#000000; stroke-linecap:round; stroke-linejoin:round; stroke-width:4; stroke-opacity:1; fill:none\" points=\"202.227,1423.18 2112.76,1423.18 \"/>\n",
       "<polyline clip-path=\"url(#clip470)\" style=\"stroke:#000000; stroke-linecap:round; stroke-linejoin:round; stroke-width:4; stroke-opacity:1; fill:none\" points=\"560.452,1423.18 560.452,1404.28 \"/>\n",
       "<polyline clip-path=\"url(#clip470)\" style=\"stroke:#000000; stroke-linecap:round; stroke-linejoin:round; stroke-width:4; stroke-opacity:1; fill:none\" points=\"1038.08,1423.18 1038.08,1404.28 \"/>\n",
       "<polyline clip-path=\"url(#clip470)\" style=\"stroke:#000000; stroke-linecap:round; stroke-linejoin:round; stroke-width:4; stroke-opacity:1; fill:none\" points=\"1515.72,1423.18 1515.72,1404.28 \"/>\n",
       "<polyline clip-path=\"url(#clip470)\" style=\"stroke:#000000; stroke-linecap:round; stroke-linejoin:round; stroke-width:4; stroke-opacity:1; fill:none\" points=\"1993.35,1423.18 1993.35,1404.28 \"/>\n",
       "<path clip-path=\"url(#clip470)\" d=\"M555.104 1481.64 L571.424 1481.64 L571.424 1485.58 L549.479 1485.58 L549.479 1481.64 Q552.141 1478.89 556.725 1474.26 Q561.331 1469.61 562.512 1468.27 Q564.757 1465.74 565.637 1464.01 Q566.539 1462.25 566.539 1460.56 Q566.539 1457.8 564.595 1456.07 Q562.674 1454.33 559.572 1454.33 Q557.373 1454.33 554.919 1455.09 Q552.489 1455.86 549.711 1457.41 L549.711 1452.69 Q552.535 1451.55 554.989 1450.97 Q557.442 1450.39 559.479 1450.39 Q564.85 1450.39 568.044 1453.08 Q571.239 1455.77 571.239 1460.26 Q571.239 1462.39 570.428 1464.31 Q569.641 1466.2 567.535 1468.8 Q566.956 1469.47 563.854 1472.69 Q560.752 1475.88 555.104 1481.64 Z\" fill=\"#000000\" fill-rule=\"nonzero\" fill-opacity=\"1\" /><path clip-path=\"url(#clip470)\" d=\"M1041.09 1455.09 L1029.29 1473.54 L1041.09 1473.54 L1041.09 1455.09 M1039.87 1451.02 L1045.75 1451.02 L1045.75 1473.54 L1050.68 1473.54 L1050.68 1477.43 L1045.75 1477.43 L1045.75 1485.58 L1041.09 1485.58 L1041.09 1477.43 L1025.49 1477.43 L1025.49 1472.92 L1039.87 1451.02 Z\" fill=\"#000000\" fill-rule=\"nonzero\" fill-opacity=\"1\" /><path clip-path=\"url(#clip470)\" d=\"M1516.12 1466.44 Q1512.97 1466.44 1511.12 1468.59 Q1509.29 1470.74 1509.29 1474.49 Q1509.29 1478.22 1511.12 1480.39 Q1512.97 1482.55 1516.12 1482.55 Q1519.27 1482.55 1521.1 1480.39 Q1522.95 1478.22 1522.95 1474.49 Q1522.95 1470.74 1521.1 1468.59 Q1519.27 1466.44 1516.12 1466.44 M1525.4 1451.78 L1525.4 1456.04 Q1523.64 1455.21 1521.84 1454.77 Q1520.06 1454.33 1518.3 1454.33 Q1513.67 1454.33 1511.21 1457.45 Q1508.78 1460.58 1508.44 1466.9 Q1509.8 1464.89 1511.86 1463.82 Q1513.92 1462.73 1516.4 1462.73 Q1521.61 1462.73 1524.62 1465.9 Q1527.65 1469.05 1527.65 1474.49 Q1527.65 1479.82 1524.5 1483.03 Q1521.35 1486.25 1516.12 1486.25 Q1510.13 1486.25 1506.95 1481.67 Q1503.78 1477.06 1503.78 1468.33 Q1503.78 1460.14 1507.67 1455.28 Q1511.56 1450.39 1518.11 1450.39 Q1519.87 1450.39 1521.65 1450.74 Q1523.46 1451.09 1525.4 1451.78 Z\" fill=\"#000000\" fill-rule=\"nonzero\" fill-opacity=\"1\" /><path clip-path=\"url(#clip470)\" d=\"M1993.35 1469.17 Q1990.01 1469.17 1988.09 1470.95 Q1986.2 1472.73 1986.2 1475.86 Q1986.2 1478.98 1988.09 1480.77 Q1990.01 1482.55 1993.35 1482.55 Q1996.68 1482.55 1998.6 1480.77 Q2000.52 1478.96 2000.52 1475.86 Q2000.52 1472.73 1998.6 1470.95 Q1996.7 1469.17 1993.35 1469.17 M1988.67 1467.18 Q1985.66 1466.44 1983.97 1464.38 Q1982.31 1462.32 1982.31 1459.35 Q1982.31 1455.21 1985.25 1452.8 Q1988.21 1450.39 1993.35 1450.39 Q1998.51 1450.39 2001.45 1452.8 Q2004.39 1455.21 2004.39 1459.35 Q2004.39 1462.32 2002.7 1464.38 Q2001.03 1466.44 1998.05 1467.18 Q2001.43 1467.96 2003.3 1470.26 Q2005.2 1472.55 2005.2 1475.86 Q2005.2 1480.88 2002.12 1483.57 Q1999.07 1486.25 1993.35 1486.25 Q1987.63 1486.25 1984.55 1483.57 Q1981.5 1480.88 1981.5 1475.86 Q1981.5 1472.55 1983.39 1470.26 Q1985.29 1467.96 1988.67 1467.18 M1986.96 1459.79 Q1986.96 1462.48 1988.63 1463.98 Q1990.32 1465.49 1993.35 1465.49 Q1996.36 1465.49 1998.05 1463.98 Q1999.76 1462.48 1999.76 1459.79 Q1999.76 1457.11 1998.05 1455.6 Q1996.36 1454.1 1993.35 1454.1 Q1990.32 1454.1 1988.63 1455.6 Q1986.96 1457.11 1986.96 1459.79 Z\" fill=\"#000000\" fill-rule=\"nonzero\" fill-opacity=\"1\" /><path clip-path=\"url(#clip470)\" d=\"M1174.11 1532.4 L1161.22 1549.74 L1174.77 1568.04 L1167.87 1568.04 L1157.49 1554.04 L1147.12 1568.04 L1140.21 1568.04 L1154.05 1549.39 L1141.39 1532.4 L1148.29 1532.4 L1157.75 1545.1 L1167.2 1532.4 L1174.11 1532.4 Z\" fill=\"#000000\" fill-rule=\"nonzero\" fill-opacity=\"1\" /><polyline clip-path=\"url(#clip472)\" style=\"stroke:#000000; stroke-linecap:round; stroke-linejoin:round; stroke-width:2; stroke-opacity:0.1; fill:none\" points=\"202.227,1216.79 2112.76,1216.79 \"/>\n",
       "<polyline clip-path=\"url(#clip472)\" style=\"stroke:#000000; stroke-linecap:round; stroke-linejoin:round; stroke-width:2; stroke-opacity:0.1; fill:none\" points=\"202.227,941.602 2112.76,941.602 \"/>\n",
       "<polyline clip-path=\"url(#clip472)\" style=\"stroke:#000000; stroke-linecap:round; stroke-linejoin:round; stroke-width:2; stroke-opacity:0.1; fill:none\" points=\"202.227,666.415 2112.76,666.415 \"/>\n",
       "<polyline clip-path=\"url(#clip472)\" style=\"stroke:#000000; stroke-linecap:round; stroke-linejoin:round; stroke-width:2; stroke-opacity:0.1; fill:none\" points=\"202.227,391.228 2112.76,391.228 \"/>\n",
       "<polyline clip-path=\"url(#clip472)\" style=\"stroke:#000000; stroke-linecap:round; stroke-linejoin:round; stroke-width:2; stroke-opacity:0.1; fill:none\" points=\"202.227,116.041 2112.76,116.041 \"/>\n",
       "<polyline clip-path=\"url(#clip470)\" style=\"stroke:#000000; stroke-linecap:round; stroke-linejoin:round; stroke-width:4; stroke-opacity:1; fill:none\" points=\"202.227,1423.18 202.227,47.2441 \"/>\n",
       "<polyline clip-path=\"url(#clip470)\" style=\"stroke:#000000; stroke-linecap:round; stroke-linejoin:round; stroke-width:4; stroke-opacity:1; fill:none\" points=\"202.227,1216.79 219.016,1216.79 \"/>\n",
       "<polyline clip-path=\"url(#clip470)\" style=\"stroke:#000000; stroke-linecap:round; stroke-linejoin:round; stroke-width:4; stroke-opacity:1; fill:none\" points=\"202.227,941.602 219.016,941.602 \"/>\n",
       "<polyline clip-path=\"url(#clip470)\" style=\"stroke:#000000; stroke-linecap:round; stroke-linejoin:round; stroke-width:4; stroke-opacity:1; fill:none\" points=\"202.227,666.415 219.016,666.415 \"/>\n",
       "<polyline clip-path=\"url(#clip470)\" style=\"stroke:#000000; stroke-linecap:round; stroke-linejoin:round; stroke-width:4; stroke-opacity:1; fill:none\" points=\"202.227,391.228 219.016,391.228 \"/>\n",
       "<polyline clip-path=\"url(#clip470)\" style=\"stroke:#000000; stroke-linecap:round; stroke-linejoin:round; stroke-width:4; stroke-opacity:1; fill:none\" points=\"202.227,116.041 219.016,116.041 \"/>\n",
       "<path clip-path=\"url(#clip470)\" d=\"M149.908 1230.13 L166.227 1230.13 L166.227 1234.07 L144.283 1234.07 L144.283 1230.13 Q146.945 1227.38 151.528 1222.75 Q156.135 1218.1 157.315 1216.75 Q159.561 1214.23 160.44 1212.5 Q161.343 1210.74 161.343 1209.05 Q161.343 1206.29 159.399 1204.56 Q157.478 1202.82 154.376 1202.82 Q152.177 1202.82 149.723 1203.58 Q147.292 1204.35 144.515 1205.9 L144.515 1201.18 Q147.339 1200.04 149.792 1199.46 Q152.246 1198.88 154.283 1198.88 Q159.653 1198.88 162.848 1201.57 Q166.042 1204.25 166.042 1208.75 Q166.042 1210.88 165.232 1212.8 Q164.445 1214.69 162.339 1217.29 Q161.76 1217.96 158.658 1221.18 Q155.556 1224.37 149.908 1230.13 Z\" fill=\"#000000\" fill-rule=\"nonzero\" fill-opacity=\"1\" /><path clip-path=\"url(#clip470)\" d=\"M156.644 928.396 L144.839 946.845 L156.644 946.845 L156.644 928.396 M155.417 924.322 L161.297 924.322 L161.297 946.845 L166.227 946.845 L166.227 950.734 L161.297 950.734 L161.297 958.882 L156.644 958.882 L156.644 950.734 L141.042 950.734 L141.042 946.22 L155.417 924.322 Z\" fill=\"#000000\" fill-rule=\"nonzero\" fill-opacity=\"1\" /><path clip-path=\"url(#clip470)\" d=\"M154.7 664.552 Q151.552 664.552 149.7 666.705 Q147.871 668.857 147.871 672.607 Q147.871 676.334 149.7 678.51 Q151.552 680.663 154.7 680.663 Q157.848 680.663 159.677 678.51 Q161.528 676.334 161.528 672.607 Q161.528 668.857 159.677 666.705 Q157.848 664.552 154.7 664.552 M163.982 649.899 L163.982 654.158 Q162.223 653.325 160.417 652.885 Q158.635 652.445 156.876 652.445 Q152.246 652.445 149.792 655.57 Q147.362 658.695 147.015 665.015 Q148.38 663.001 150.441 661.936 Q152.501 660.848 154.978 660.848 Q160.186 660.848 163.195 664.019 Q166.227 667.167 166.227 672.607 Q166.227 677.931 163.079 681.149 Q159.931 684.366 154.7 684.366 Q148.704 684.366 145.533 679.783 Q142.362 675.177 142.362 666.45 Q142.362 658.256 146.251 653.394 Q150.14 648.51 156.69 648.51 Q158.45 648.51 160.232 648.857 Q162.038 649.205 163.982 649.899 Z\" fill=\"#000000\" fill-rule=\"nonzero\" fill-opacity=\"1\" /><path clip-path=\"url(#clip470)\" d=\"M154.376 392.096 Q151.042 392.096 149.121 393.878 Q147.223 395.661 147.223 398.786 Q147.223 401.911 149.121 403.693 Q151.042 405.476 154.376 405.476 Q157.709 405.476 159.63 403.693 Q161.552 401.888 161.552 398.786 Q161.552 395.661 159.63 393.878 Q157.732 392.096 154.376 392.096 M149.7 390.105 Q146.691 389.365 145.001 387.304 Q143.334 385.244 143.334 382.281 Q143.334 378.138 146.274 375.73 Q149.237 373.323 154.376 373.323 Q159.538 373.323 162.477 375.73 Q165.417 378.138 165.417 382.281 Q165.417 385.244 163.727 387.304 Q162.061 389.365 159.075 390.105 Q162.454 390.892 164.329 393.184 Q166.227 395.476 166.227 398.786 Q166.227 403.809 163.149 406.494 Q160.093 409.179 154.376 409.179 Q148.658 409.179 145.579 406.494 Q142.524 403.809 142.524 398.786 Q142.524 395.476 144.422 393.184 Q146.32 390.892 149.7 390.105 M147.987 382.721 Q147.987 385.406 149.653 386.911 Q151.343 388.416 154.376 388.416 Q157.385 388.416 159.075 386.911 Q160.788 385.406 160.788 382.721 Q160.788 380.036 159.075 378.531 Q157.385 377.027 154.376 377.027 Q151.343 377.027 149.653 378.531 Q147.987 380.036 147.987 382.721 Z\" fill=\"#000000\" fill-rule=\"nonzero\" fill-opacity=\"1\" /><path clip-path=\"url(#clip470)\" d=\"M114.931 129.386 L122.57 129.386 L122.57 103.02 L114.26 104.687 L114.26 100.428 L122.524 98.7609 L127.2 98.7609 L127.2 129.386 L134.839 129.386 L134.839 133.321 L114.931 133.321 L114.931 129.386 Z\" fill=\"#000000\" fill-rule=\"nonzero\" fill-opacity=\"1\" /><path clip-path=\"url(#clip470)\" d=\"M154.283 101.84 Q150.672 101.84 148.843 105.404 Q147.038 108.946 147.038 116.076 Q147.038 123.182 148.843 126.747 Q150.672 130.288 154.283 130.288 Q157.917 130.288 159.723 126.747 Q161.552 123.182 161.552 116.076 Q161.552 108.946 159.723 105.404 Q157.917 101.84 154.283 101.84 M154.283 98.1359 Q160.093 98.1359 163.149 102.742 Q166.227 107.326 166.227 116.076 Q166.227 124.802 163.149 129.409 Q160.093 133.992 154.283 133.992 Q148.473 133.992 145.394 129.409 Q142.339 124.802 142.339 116.076 Q142.339 107.326 145.394 102.742 Q148.473 98.1359 154.283 98.1359 Z\" fill=\"#000000\" fill-rule=\"nonzero\" fill-opacity=\"1\" /><path clip-path=\"url(#clip470)\" d=\"M67.3143 733.525 Q73.68 736.008 75.6216 738.363 Q77.5631 740.718 77.5631 744.665 L77.5631 749.344 L72.6615 749.344 L72.6615 745.906 Q72.6615 743.487 71.5157 742.151 Q70.3699 740.814 66.1048 739.191 L63.4312 738.14 L28.3562 752.559 L28.3562 746.352 L56.238 735.212 L28.3562 724.072 L28.3562 717.865 L67.3143 733.525 Z\" fill=\"#000000\" fill-rule=\"nonzero\" fill-opacity=\"1\" /><g clip-path=\"url(#clip472)\">\n",
       "<image width=\"1911\" height=\"1376\" xlink:href=\"data:image/png;base64,\n",
       "iVBORw0KGgoAAAANSUhEUgAAB3cAAAVgCAYAAABc6deNAAAgAElEQVR4nOzbMQ2AQAAEwYcgiAIv\n",
       "+McIOIDy2WRGwfWbW67zuAcAAAAAAAAAv7bOHgAAAAAAAADAN3EXAAAAAAAAIEDcBQAAAAAAAAgQ\n",
       "dwEAAAAAAAACxF0AAAAAAACAAHEXAAAAAAAAIEDcBQAAAAAAAAgQdwEAAAAAAAACxF0AAAAAAACA\n",
       "AHEXAAAAAAAAIEDcBQAAAAAAAAgQdwEAAAAAAAACxF0AAAAAAACAAHEXAAAAAAAAIEDcBQAAAAAA\n",
       "AAgQdwEAAAAAAAACxF0AAAAAAACAAHEXAAAAAAAAIEDcBQAAAAAAAAgQdwEAAAAAAAACxF0AAAAA\n",
       "AACAAHEXAAAAAAAAIEDcBQAAAAAAAAgQdwEAAAAAAAACxF0AAAAAAACAAHEXAAAAAAAAIEDcBQAA\n",
       "AAAAAAgQdwEAAAAAAAACxF0AAAAAAACAAHEXAAAAAAAAIEDcBQAAAAAAAAgQdwEAAAAAAAACxF0A\n",
       "AAAAAACAAHEXAAAAAAAAIEDcBQAAAAAAAAgQdwEAAAAAAAACxF0AAAAAAACAAHEXAAAAAAAAIEDc\n",
       "BQAAAAAAAAgQdwEAAAAAAAACxF0AAAAAAACAAHEXAAAAAAAAIEDcBQAAAAAAAAgQdwEAAAAAAAAC\n",
       "xF0AAAAAAACAAHEXAAAAAAAAIEDcBQAAAAAAAAgQdwEAAAAAAAACxF0AAAAAAACAAHEXAAAAAAAA\n",
       "IEDcBQAAAAAAAAgQdwEAAAAAAAACxF0AAAAAAACAAHEXAAAAAAAAIEDcBQAAAAAAAAgQdwEAAAAA\n",
       "AAACxF0AAAAAAACAAHEXAAAAAAAAIEDcBQAAAAAAAAgQdwEAAAAAAAACxF0AAAAAAACAAHEXAAAA\n",
       "AAAAIEDcBQAAAAAAAAgQdwEAAAAAAAACxF0AAAAAAACAAHEXAAAAAAAAIEDcBQAAAAAAAAgQdwEA\n",
       "AAAAAAACxF0AAAAAAACAAHEXAAAAAAAAIEDcBQAAAAAAAAgQdwEAAAAAAAACxF0AAAAAAACAAHEX\n",
       "AAAAAAAAIEDcBQAAAAAAAAgQdwEAAAAAAAACxF0AAAAAAACAAHEXAAAAAAAAIEDcBQAAAAAAAAgQ\n",
       "dwEAAAAAAAACxF0AAAAAAACAAHEXAAAAAAAAIEDcBQAAAAAAAAgQdwEAAAAAAAACxF0AAAAAAACA\n",
       "AHEXAAAAAAAAIEDcBQAAAAAAAAgQdwEAAAAAAAACxF0AAAAAAACAAHEXAAAAAAAAIEDcBQAAAAAA\n",
       "AAgQdwEAAAAAAAACxF0AAAAAAACAAHEXAAAAAAAAIEDcBQAAAAAAAAgQdwEAAAAAAAACxF0AAAAA\n",
       "AACAAHEXAAAAAAAAIEDcBQAAAAAAAAgQdwEAAAAAAAACxF0AAAAAAACAAHEXAAAAAAAAIEDcBQAA\n",
       "AAAAAAgQdwEAAAAAAAACxF0AAAAAAACAAHEXAAAAAAAAIEDcBQAAAAAAAAgQdwEAAAAAAAACxF0A\n",
       "AAAAAACAAHEXAAAAAAAAIEDcBQAAAAAAAAgQdwEAAAAAAAACxF0AAAAAAACAAHEXAAAAAAAAIEDc\n",
       "BQAAAAAAAAgQdwEAAAAAAAACxF0AAAAAAACAAHEXAAAAAAAAIEDcBQAAAAAAAAgQdwEAAAAAAAAC\n",
       "xF0AAAAAAACAAHEXAAAAAAAAIEDcBQAAAAAAAAgQdwEAAAAAAAACxF0AAAAAAACAAHEXAAAAAAAA\n",
       "IEDcBQAAAAAAAAgQdwEAAAAAAAACxF0AAAAAAACAAHEXAAAAAAAAIEDcBQAAAAAAAAgQdwEAAAAA\n",
       "AAACxF0AAAAAAACAAHEXAAAAAAAAIEDcBQAAAAAAAAgQdwEAAAAAAAACxF0AAAAAAACAgGWM7Z49\n",
       "AgAAAAAAAIB3nrsAAAAAAAAAAeIuAAAAAAAAQIC4CwAAAAAAABAg7gIAAAAAAAAEiLsAAAAAAAAA\n",
       "AeIuAAAAAAAAQIC4CwAAAAAAABAg7gIAAAAAAAAEiLsAAAAAAAAAAeIuAAAAAAAAQIC4CwAAAAAA\n",
       "ABAg7gIAAAAAAAAEiLsAAAAAAAAAAeIuAAAAAAAAQIC4CwAAAAAAABAg7gIAAAAAAAAEiLsAAAAA\n",
       "AAAAAeIuAAAAAAAAQIC4CwAAAAAAABAg7gIAAAAAAAAEiLsAAAAAAAAAAeIuAAAAAAAAQIC4CwAA\n",
       "AAAAABAg7gIAAAAAAAAEiLsAAAAAAAAAAeIuAAAAAAAAQIC4CwAAAAAAABAg7gIAAAAAAAAEiLsA\n",
       "AAAAAAAAAeIuAAAAAAAAQIC4CwAAAAAAABAg7gIAAAAAAAAEiLsAAAAAAAAAAeIuAAAAAAAAQIC4\n",
       "CwAAAAAAABAg7gIAAAAAAAAEiLsAAAAAAAAAAeIuAAAAAAAAQIC4CwAAAAAAABAg7gIAAAAAAAAE\n",
       "iLsAAAAAAAAAAeIuAAAAAAAAQIC4CwAAAAAAABAg7gIAAAAAAAAEiLsAAAAAAAAAAeIuAAAAAAAA\n",
       "QIC4CwAAAAAAABAg7gIAAAAAAAAEiLsAAAAAAAAAAeIuAAAAAAAAQIC4CwAAAAAAABAg7gIAAAAA\n",
       "AAAEiLsAAAAAAAAAAeIuAAAAAAAAQIC4CwAAAAAAABAg7gIAAAAAAAAEiLsAAAAAAAAAAeIuAAAA\n",
       "AAAAQIC4CwAAAAAAABAg7gIAAAAAAAAEiLsAAAAAAAAAAeIuAAAAAAAAQIC4CwAAAAAAABAg7gIA\n",
       "AAAAAAAEiLsAAAAAAAAAAeIuAAAAAAAAQIC4CwAAAAAAABAg7gIAAAAAAAAEiLsAAAAAAAAAAeIu\n",
       "AAAAAAAAQIC4CwAAAAAAABAg7gIAAAAAAAAEiLsAAAAAAAAAAeIuAAAAAAAAQIC4CwAAAAAAABAg\n",
       "7gIAAAAAAAAEiLsAAAAAAAAAAeIuAAAAAAAAQIC4CwAAAAAAABAg7gIAAAAAAAAEiLsAAAAAAAAA\n",
       "AeIuAAAAAAAAQIC4CwAAAAAAABAg7gIAAAAAAAAEiLsAAAAAAAAAAeIuAAAAAAAAQIC4CwAAAAAA\n",
       "ABAg7gIAAAAAAAAEiLsAAAAAAAAAAeIuAAAAAAAAQIC4CwAAAAAAABAg7gIAAAAAAAAEiLsAAAAA\n",
       "AAAAAeIuAAAAAAAAQIC4CwAAAAAAABAg7gIAAAAAAAAEiLsAAAAAAAAAAeIuAAAAAAAAQIC4CwAA\n",
       "AAAAABAg7gIAAAAAAAAEiLsAAAAAAAAAAeIuAAAAAAAAQIC4CwAAAAAAABAg7gIAAAAAAAAEiLsA\n",
       "AAAAAAAAAeIuAAAAAAAAQIC4CwAAAAAAABAg7gIAAAAAAAAEiLsAAAAAAAAAAeIuAAAAAAAAQIC4\n",
       "CwAAAAAAABAg7gIAAAAAAAAEiLsAAAAAAAAAAeIuAAAAAAAAQIC4CwAAAAAAABAg7gIAAAAAAAAE\n",
       "iLsAAAAAAAAAAeIuAAAAAAAAQIC4CwAAAAAAABAg7gIAAAAAAAAEiLsAAAAAAAAAAeIuAAAAAAAA\n",
       "QIC4CwAAAAAAABAg7gIAAAAAAAAEiLsAAAAAAAAAAeIuAAAAAAAAQIC4CwAAAAAAABAg7gIAAAAA\n",
       "AAAEiLsAAAAAAAAAAeIuAAAAAAAAQIC4CwAAAAAAABAg7gIAAAAAAAAEiLsAAAAAAAAAAeIuAAAA\n",
       "AAAAQIC4CwAAAAAAABAg7gIAAAAAAAAEiLsAAAAAAAAAAeIuAAAAAAAAQIC4CwAAAAAAABAg7gIA\n",
       "AAAAAAAEiLsAAAAAAAAAAeIuAAAAAAAAQIC4CwAAAAAAABAg7gIAAAAAAAAEiLsAAAAAAAAAAeIu\n",
       "AAAAAAAAQIC4CwAAAAAAABAg7gIAAAAAAAAEiLsAAAAAAAAAAeIuAAAAAAAAQIC4CwAAAAAAABAg\n",
       "7gIAAAAAAAAEiLsAAAAAAAAAAeIuAAAAAAAAQIC4CwAAAAAAABAg7gIAAAAAAAAEiLsAAAAAAAAA\n",
       "AeIuAAAAAAAAQIC4CwAAAAAAABAg7gIAAAAAAAAEiLsAAAAAAAAAAeIuAAAAAAAAQIC4CwAAAAAA\n",
       "ABAg7gIAAAAAAAAEiLsAAAAAAAAAAeIuAAAAAAAAQIC4CwAAAAAAABAg7gIAAAAAAAAEiLsAAAAA\n",
       "AAAAAeIuAAAAAAAAQIC4CwAAAAAAABAg7gIAAAAAAAAEiLsAAAAAAAAAAeIuAAAAAAAAQIC4CwAA\n",
       "AAAAABAg7gIAAAAAAAAEiLsAAAAAAAAAAeIuAAAAAAAAQIC4CwAAAAAAABAg7gIAAAAAAAAEiLsA\n",
       "AAAAAAAAAeIuAAAAAAAAQIC4CwAAAAAAABAg7gIAAAAAAAAEiLsAAAAAAAAAAeIuAAAAAAAAQIC4\n",
       "CwAAAAAAABAg7gIAAAAAAAAEiLsAAAAAAAAAAeIuAAAAAAAAQIC4CwAAAAAAABAg7gIAAAAAAAAE\n",
       "iLsAAAAAAAAAAeIuAAAAAAAAQIC4CwAAAAAAABAg7gIAAAAAAAAEiLsAAAAAAAAAAeIuAAAAAAAA\n",
       "QIC4CwAAAAAAABAg7gIAAAAAAAAEiLsAAAAAAAAAAeIuAAAAAAAAQIC4CwAAAAAAABAg7gIAAAAA\n",
       "AAAEiLsAAAAAAAAAAeIuAAAAAAAAQIC4CwAAAAAAABAg7gIAAAAAAAAEiLsAAAAAAAAAAeIuAAAA\n",
       "AAAAQIC4CwAAAAAAABAg7gIAAAAAAAAEiLsAAAAAAAAAAeIuAAAAAAAAQIC4CwAAAAAAABAg7gIA\n",
       "AAAAAAAEiLsAAAAAAAAAAeIuAAAAAAAAQIC4CwAAAAAAABAg7gIAAAAAAAAEiLsAAAAAAAAAAeIu\n",
       "AAAAAAAAQIC4CwAAAAAAABAg7gIAAAAAAAAEiLsAAAAAAAAAAeIuAAAAAAAAQIC4CwAAAAAAABAg\n",
       "7gIAAAAAAAAEiLsAAAAAAAAAAeIuAAAAAAAAQIC4CwAAAAAAABAg7gIAAAAAAAAEiLsAAAAAAAAA\n",
       "AeIuAAAAAAAAQIC4CwAAAAAAABAg7gIAAAAAAAAEiLsAAAAAAAAAAeIuAAAAAAAAQIC4CwAAAAAA\n",
       "ABAg7gIAAAAAAAAEiLsAAAAAAAAAAeIuAAAAAAAAQIC4CwAAAAAAABAg7gIAAAAAAAAEiLsAAAAA\n",
       "AAAAAeIuAAAAAAAAQIC4CwAAAAAAABAg7gIAAAAAAAAEiLsAAAAAAAAAAeIuAAAAAAAAQIC4CwAA\n",
       "AAAAABAg7gIAAAAAAAAEiLsAAAAAAAAAAeIuAAAAAAAAQIC4CwAAAAAAABAg7gIAAAAAAAAEiLsA\n",
       "AAAAAAAAAeIuAAAAAAAAQIC4CwAAAAAAABAg7gIAAAAAAAAEiLsAAAAAAAAAAeIuAAAAAAAAQIC4\n",
       "CwAAAAAAABAg7gIAAAAAAAAEiLsAAAAAAAAAAeIuAAAAAAAAQIC4CwAAAAAAABAg7gIAAAAAAAAE\n",
       "iLsAAAAAAAAAAeIuAAAAAAAAQIC4CwAAAAAAABAg7gIAAAAAAAAEiLsAAAAAAAAAAeIuAAAAAAAA\n",
       "QMB2nfvsDQAAAAAAAAB88NwFAAAAAAAACBB3AQAAAAAAAALEXQAAAAAAAIAAcRcAAAAAAAAgQNwF\n",
       "AAAAAAAACBB3AQAAAAAAAALEXQAAAAAAAIAAcRcAAAAAAAAgQNwFAAAAAAAACBB3AQAAAAAAAALE\n",
       "XQAAAAAAAIAAcRcAAAAAAAAgQNwFAAAAAAAACBB3AQAAAAAAAALEXQAAAAAAAIAAcRcAAAAAAAAg\n",
       "QNwFAAAAAAAACBB3AQAAAAAAAALEXQAAAAAAAIAAcRcAAAAAAAAgQNwFAAAAAAAACBB3AQAAAAAA\n",
       "AALEXQAAAAAAAIAAcRcAAAAAAAAgQNwFAAAAAAAACBB3AQAAAAAAAALEXQAAAAAAAIAAcRcAAAAA\n",
       "AAAgQNwFAAAAAAAACBB3AQAAAAAAAALEXQAAAAAAAIAAcRcAAAAAAAAgQNwFAAAAAAAACBB3AQAA\n",
       "AAAAAALEXQAAAAAAAIAAcRcAAAAAAAAgQNwFAAAAAAAACBB3AQAAAAAAAALEXQAAAAAAAIAAcRcA\n",
       "AAAAAAAgQNwFAAAAAAAACBB3AQAAAAAAAALEXQAAAAAAAIAAcRcAAAAAAAAgQNwFAAAAAAAACBB3\n",
       "AQAAAAAAAALEXQAAAAAAAIAAcRcAAAAAAAAgQNwFAAAAAAAACBB3AQAAAAAAAALEXQAAAAAAAIAA\n",
       "cRcAAAAAAAAgQNwFAAAAAAAACBB3AQAAAAAAAALEXQAAAAAAAIAAcRcAAAAAAAAgQNwFAAAAAAAA\n",
       "CBB3AQAAAAAAAALEXQAAAAAAAIAAcRcAAAAAAAAgQNwFAAAAAAAACBB3AQAAAAAAAALEXQAAAAAA\n",
       "AIAAcRcAAAAAAAAgQNwFAAAAAAAACBB3AQAAAAAAAALEXQAAAAAAAIAAcRcAAAAAAAAgQNwFAAAA\n",
       "AAAACBB3AQAAAAAAAALEXQAAAAAAAIAAcRcAAAAAAAAgQNwFAAAAAAAACBB3AQAAAAAAAALEXQAA\n",
       "AAAAAIAAcRcAAAAAAAAgQNwFAAAAAAAACBB3AQAAAAAAAALEXQAAAAAAAIAAcRcAAAAAAAAgQNwF\n",
       "AAAAAAAACBB3AQAAAAAAAALEXQAAAAAAAIAAcRcAAAAAAAAgQNwFAAAAAAAACBB3AQAAAAAAAALE\n",
       "XQAAAAAAAIAAcRcAAAAAAAAgQNwFAAAAAAAACBB3AQAAAAAAAALEXQAAAAAAAIAAcRcAAAAAAAAg\n",
       "QNwFAAAAAAAACBB3AQAAAAAAAALEXQAAAAAAAIAAcRcAAAAAAAAgQNwFAAAAAAAACBB3AQAAAAAA\n",
       "AALEXQAAAAAAAIAAcRcAAAAAAAAgQNwFAAAAAAAACBB3AQAAAAAAAALEXQAAAAAAAIAAcRcAAAAA\n",
       "AAAgQNwFAAAAAAAACBB3AQAAAAAAAALEXQAAAAAAAIAAcRcAAAAAAAAgQNwFAAAAAAAACBB3AQAA\n",
       "AAAAAALEXQAAAAAAAIAAcRcAAAAAAAAgQNwFAAAAAAAACBB3AQAAAAAAAALEXQAAAAAAAIAAcRcA\n",
       "AAAAAAAgQNwFAAAAAAAACBB3AQAAAAAAAALEXQAAAAAAAIAAcRcAAAAAAAAgQNwFAAAAAAAACBB3\n",
       "AQAAAAAAAALEXQAAAAAAAIAAcRcAAAAAAAAgQNwFAAAAAAAACBB3AQAAAAAAAALEXQAAAAAAAIAA\n",
       "cRcAAAAAAAAgQNwFAAAAAAAACBB3AQAAAAAAAALEXQAAAAAAAIAAcRcAAICHfTs4ARAGgCBowJLs\n",
       "xQatzDqE2EG+YWGmgvsvBwAAAASIuwAAAAAAAAAB4i4AAAAAAABAgLgLAAAAAAAAECDuAgAAAAAA\n",
       "AASIuwAAAAAAAAAB45vP3D0CAAAAAAAAgDXPXQAAAAAAAIAAcRcAAAAAAAAgQNwFAAAAAAAACBB3\n",
       "AQAAAAAAAALEXQAAAAAAAIAAcRcAAAAAAAAgQNwFAAAAAAAACBB3AQAAAAAAAALEXQAAAAAAAIAA\n",
       "cRcAAAAAAAAgQNwFAAAAAAAACBB3AQAAAAAAAALEXQAAAAAAAIAAcRcAAAAAAAAgQNwFAAAAAAAA\n",
       "CBB3AQAAAAAAAALEXQAAAAAAAIAAcRcAAAAAAAAgQNwFAAAAAAAACBB3AQAAAAAAAALEXQAAAAAA\n",
       "AIAAcRcAAAAAAAAgQNwFAAAAAAAACBB3AQAAAAAAAALEXQAAAAAAAIAAcRcAAAAAAAAgQNwFAAAA\n",
       "AAAACBB3AQAAAAAAAALEXQAAAAAAAIAAcRcAAAAAAAAgQNwFAAAAAAAACBB3AQAAAAAAAALEXQAA\n",
       "AAAAAIAAcRcAAAAAAAAgQNwFAAAAAAAACBB3AQAAAAAAAALEXQAAAAAAAIAAcRcAAAAAAAAgQNwF\n",
       "AAAAAAAACBB3AQAAAAAAAALEXQAAAAAAAIAAcRcAAAAAAAAgQNwFAAAAAAAACBB3AQAAAAAAAALE\n",
       "XQAAAAAAAIAAcRcAAAAAAAAgQNwFAAAAAAAACBB3AQAAAAAAAALEXQAAAAAAAIAAcRcAAAAAAAAg\n",
       "QNwFAAAAAAAACBB3AQAAAAAAAALEXQAAAAAAAIAAcRcAAAAAAAAgQNwFAAAAAAAACBB3AQAAAAAA\n",
       "AALEXQAAAAAAAIAAcRcAAAAAAAAgQNwFAAAAAAAACBB3AQAAAAAAAALEXQAAAAAAAIAAcRcAAAAA\n",
       "AAAgQNwFAAAAAAAACBB3AQAAAAAAAALEXQAAAAAAAIAAcRcAAAAAAAAgQNwFAAAAAAAACBB3AQAA\n",
       "AAAAAALEXQAAAAAAAIAAcRcAAAAAAAAgQNwFAAAAAAAACBB3AQAAAAAAAALEXQAAAAAAAIAAcRcA\n",
       "AAAAAAAgQNwFAAAAAAAACBB3AQAAAAAAAALEXQAAAAAAAIAAcRcAAAAAAAAgQNwFAAAAAAAACBB3\n",
       "AQAAAAAAAALEXQAAAAAAAIAAcRcAAAAAAAAgQNwFAAAAAAAACBB3AQAAAAAAAALEXQAAAAAAAIAA\n",
       "cRcAAAAAAAAgQNwFAAAAAAAACBB3AQAAAAAAAALEXQAAAAAAAIAAcRcAAAAAAAAgQNwFAAAAAAAA\n",
       "CBB3AQAAAAAAAALEXQAAAAAAAIAAcRcAAAAAAAAgQNwFAAAAAAAACBB3AQAAAAAAAALEXQAAAAAA\n",
       "AIAAcRcAAAAAAAAgQNwFAAAAAAAACBB3AQAAAAAAAALEXQAAAAAAAIAAcRcAAAAAAAAgQNwFAAAA\n",
       "AAAACBB3AQAAAAAAAALEXQAAAAAAAIAAcRcAAAAAAAAgQNwFAAAAAAAACBB3AQAAAAAAAALEXQAA\n",
       "AAAAAIAAcRcAAAAAAAAgQNwFAAAAAAAACBB3AQAAAAAAAALEXQAAAAAAAIAAcRcAAAAAAAAgQNwF\n",
       "AAAAAAAACBB3AQAAAAAAAALEXQAAAAAAAIAAcRcAAAAAAAAgQNwFAAAAAAAACBB3AQAAAAAAAALE\n",
       "XQAAAAAAAIAAcRcAAAAAAAAgQNwFAAAAAAAACBB3AQAAAAAAAALEXQAAAAAAAIAAcRcAAAAAAAAg\n",
       "QNwFAAAAAAAACBB3AQAAAAAAAALEXQAAAAAAAIAAcRcAAAAAAAAgQNwFAAAAAAAACBB3AQAAAAAA\n",
       "AALEXQAAAAAAAIAAcRcAAAAAAAAgQNwFAAAAAAAACBB3AQAAAAAAAALGe19z9wgAAAAAAAAA1jx3\n",
       "AQAAAAAAAALEXQAAAAAAAIAAcRcAAAAAAAAgQNwFAAAAAAAACBB3AQAAAAAAAALEXQAAAAAAAIAA\n",
       "cRcAAAAAAAAgQNwFAAAAAAAACBB3AQAAAAAAAALEXQAAAAAAAIAAcRcAAAAAAAAgQNwFAAAAAAAA\n",
       "CBB3AQAAAAAAAALEXQAAAAAAAIAAcRcAAAAAAAAgQNwFAAAAAAAACBB3AQAAAAAAAALEXQAAAAAA\n",
       "AIAAcRcAAAAAAAAgQNwFAAAAAAAACBB3AQAAAAAAAALEXQAAAAAAAIAAcRcAAAAAAAAgQNwFAAAA\n",
       "AAAACBB3AQAAAAAAAALEXQAAAAAAAIAAcRcAAAAAAAAgQNwFAAAAAAAACBB3AQAAAAAAAALEXQAA\n",
       "AAAAAIAAcRcAAAAAAAAgQNwFAAAAAAAACBB3AQAAAAAAAALEXQAAAAAAAIAAcRcAAAAAAAAgQNwF\n",
       "AAAAAAAACBB3AQAAAAAAAALEXQAAAAAAAIAAcRcAAAAAAAAgQNwFAAAAAAAACBB3AQAAAAAAAALE\n",
       "XQAAAAAAAIAAcRcAAAAAAAAgQNwFAAAAAAAACBB3AQAAAAAAAALEXQAAAAAAAIAAcRcAAAAAAAAg\n",
       "QNwFAAAAAAAACBB3AQAAAAAAAALEXQAAAAAAAIAAcRcAAAAAAAAgQNwFAAAAAAAACBB3AQAAAAAA\n",
       "AALEXQAAAAAAAIAAcRcAAAAAAAAgQNwFAAAAAAAACBB3AQAAAAAAAALEXQAAAAAAAIAAcRcAAAAA\n",
       "AAAgQNwFAAAAAAAACBB3AQAAAAAAAALEXQAAAAAAAIAAcRcAAAAAAAAgQNwFAAAAAAAACBB3AQAA\n",
       "AAAAAALEXQAAAAAAAIAAcRcAAAAAAAAgQNwFAAAAAAAACBB3AQAAAAAAAALEXQAAAAAAAIAAcRcA\n",
       "AAAAAAAgQNwFAAAAAAAACBB3AQAAAAAAAALEXQAAAAAAAIAAcRcAAAAAAAAgQNwFAAAAAAAACBB3\n",
       "AQAAAAAAAALEXQAAAAAAAIAAcRcAAAAAAAAgQNwFAAAAAAAACBB3AQAAAAAAAALEXQAAAAAAAIAA\n",
       "cRcAAAAAAAAgQNwFAAAAAAAACBB3AQAAAAAAAALEXQAAAAAAAIAAcRcAAAAAAAAgQNwFAAAAAAAA\n",
       "CBB3AQAAAAAAAALEXQAAAAAAAIAAcRcAAAAAAAAgQNwFAAAAAAAACBB3AQAAAAAAAALEXQAAAAAA\n",
       "AIAAcRcAAAAAAAAgQNwFAAAAAAAACBB3AQAAAAAAAALEXQAAAAAAAIAAcRcAAAAAAAAgQNwFAAAA\n",
       "AAAACBB3AQAAAAAAAALEXQAAAAAAAIAAcRcAAAAAAAAgQNwFAAAAAAAACBB3AQAAAAAAAALEXQAA\n",
       "AAAAAIAAcRcAAAAAAAAgQNwFAAAAAAAACBB3AQAAAAAAAALEXQAAAAAAAIAAcRcAAAAAAAAgQNwF\n",
       "AAAAAAAACBB3AQAAAAAAAALEXQAAAAAAAIAAcRcAAAAAAAAgQNwFAAAAAAAACBB3AQAAAAAAAALE\n",
       "XQAAAAAAAIAAcRcAAAAAAAAgQNwFAAAAAAAACBB3AQAAAAAAAALEXQAAAAAAAIAAcRcAAAAAAAAg\n",
       "QNwFAAAAAAAACBB3AQAAAAAAAALEXQAAAAAAAIAAcRcAAAAAAAAgQNwFAAAAAAAACBB3AQAAAAAA\n",
       "AALEXQAAAAAAAIAAcRcAAAAAAAAgQNwFAAAAAAAACBB3AQAAAAAAAALEXQAAAAAAAIAAcRcAAAAA\n",
       "AAAgQNwFAAAAAAAACBB3AQAAAAAAAALGcZxz9wgAAAAAAAAA1jx3AQAAAAAAAALEXQAAAAAAAIAA\n",
       "cRcAAAAAAAAgQNwFAAAAAAAACBB3AQAAAP+k2J0AABTnSURBVAAAAALEXQAAAAAAAIAAcRcAAAAA\n",
       "AAAgQNwFAAAAAAAACBB3AQAAAAAAAALEXQAAAAAAAIAAcRcAAAAAAAAgQNwFAAAAAAAACBB3AQAA\n",
       "AAAAAALEXQAAAAAAAIAAcRcAAAAAAAAgQNwFAAAAAAAACBB3AQAAAAAAAALEXQAAAAAAAIAAcRcA\n",
       "AAAAAAAgQNwFAAAAAAAACBB3AQAAAAAAAALEXQAAAAAAAIAAcRcAAAAAAAAgQNwFAAAAAAAACBB3\n",
       "AQAAAAAAAALEXQAAAAAAAIAAcRcAAAAAAAAgQNwFAAAAAAAACBB3AQAAAAAAAALEXQAAAAAAAIAA\n",
       "cRcAAAAAAAAgQNwFAAAAAAAACBB3AQAAAAAAAALEXQAAAAAAAIAAcRcAAAAAAAAgQNwFAAAAAAAA\n",
       "CBB3AQAAAAAAAALEXQAAAAAAAIAAcRcAAAAAAAAgQNwFAAAAAAAACBB3AQAAAAAAAALEXQAAAAAA\n",
       "AIAAcRcAAAAAAAAgQNwFAAAAAAAACBB3AQAAAAAAAALEXQAAAAAAAIAAcRcAAAAAAAAgQNwFAAAA\n",
       "AAAACBB3AQAAAAAAAALEXQAAAAAAAIAAcRcAAAAAAAAgQNwFAAAAAAAACBB3AQAAAAAAAALEXQAA\n",
       "AAAAAIAAcRcAAAAAAAAgQNwFAAAAAAAACBB3AQAAAAAAAALEXQAAAAAAAIAAcRcAAAAAAAAgQNwF\n",
       "AAAAAAAACBB3AQAAAAAAAALEXQAAAAAAAIAAcRcAAAAAAAAgQNwFAAAAAAAACBB3AQAAAAAAAALE\n",
       "XQAAAAAAAIAAcRcAAAAAAAAgQNwFAAAAAAAACBB3AQAAAAAAAALEXQAAAAAAAIAAcRcAAAAAAAAg\n",
       "QNwFAAAAAAAACBB3AQAAAAAAAALEXQAAAAAAAIAAcRcAAAAAAAAgQNwFAAAAAAAACBB3AQAAAAAA\n",
       "AALEXQAAAAAAAIAAcRcAAAAAAAAgQNwFAAAAAAAACBB3AQAAAAAAAALEXQAAAAAAAIAAcRcAAAAA\n",
       "AAAgQNwFAAAAAAAACBB3AQAAAAAAAALEXQAAAAAAAIAAcRcAAAAAAAAgQNwFAAAAAAAACBB3AQAA\n",
       "AAAAAALEXQAAAAAAAIAAcRcAAAAAAAAgQNwFAAAAAAAACBB3AQAAAAAAAALEXQAAAAAAAIAAcRcA\n",
       "AAAAAAAgQNwFAAAAAAAACBB3AQAAAAAAAALEXQAAAAAAAIAAcRcAAAAAAAAgQNwFAAAAAAAACBB3\n",
       "AQAAAAAAAALEXQAAAAAAAIAAcRcAAAAAAAAgQNwFAAAAAAAACBB3AQAAAAAAAALEXQAAAAAAAIAA\n",
       "cRcAAAAAAAAgQNwFAAAAAAAACBB3AQAAAAAAAALEXQAAAAAAAIAAcRcAAAAAAAAgQNwFAAAAAAAA\n",
       "CBB3AQAAAAAAAALEXQAAAAAAAIAAcRcAAAAAAAAgQNwFAAAAAAAACBB3AQAAAAAAAALEXQAAAAAA\n",
       "AIAAcRcAAAAAAAAgQNwFAAAAAAAACBB3AQAAAAAAAALEXQAAAAAAAIAAcRcAAAAAAAAgQNwFAAAA\n",
       "AAAACBB3AQAAAAAAAALEXQAAAAAAAIAAcRcAAAAAAAAgQNwFAAAAAAAACBB3AQAAAAAAAALEXQAA\n",
       "AAAAAIAAcRcAAAAAAAAgQNwFAAAAAAAACBB3AQAAAAAAAALEXQAAAAAAAIAAcRcAAAAAAAAgQNwF\n",
       "AAAAAAAACBB3AQAAAAAAAALEXQAAAAAAAIAAcRcAAAAAAAAgQNwFAAAAAAAACBB3AQAAAAAAAALE\n",
       "XQAAAAAAAIAAcRcAAAAAAAAgQNwFAAAAAAAACBB3AQAAAAAAAALEXQAAAAAAAIAAcRcAAAAAAAAg\n",
       "QNwFAAAAAAAACBB3AQAAAAAAAALEXQAAAAAAAIAAcRcAAAAAAAAgQNwFAAAAAAAACBB3AQAAAAAA\n",
       "AALEXQAAAAAAAIAAcRcAAAAAAAAgQNwFAAAAAAAACBB3AQAAAAAAAALEXQAAAAAAAIAAcRcAAAAA\n",
       "AAAgQNwFAAAAAAAACBB3AQAAAAAAAALEXQAAAAAAAIAAcRcAAAAAAAAgQNwFAAAAAAAACBB3AQAA\n",
       "AAAAAALEXQAAAAAAAIAAcRcAAAAAAAAgQNwFAAAAAAAACBB3AQAAAAAAAALEXQAAAAAAAIAAcRcA\n",
       "AAAAAAAgQNwFAAAAAAAACBB3AQAAAAAAAALEXQAAAAAAAIAAcRcAAAAAAAAgQNwFAAAAAAAACBB3\n",
       "AQAAAAAAAALEXQAAAAAAAIAAcRcAAAAAAAAgQNwFAAAAAAAACBB3AQAAAAAAAALEXQAAAAAAAIAA\n",
       "cRcAAAAAAAAgQNwFAAAAAAAACBB3AQAAAAAAAALEXQAAAAAAAIAAcRcAAAAAAAAgQNwFAAAAAAAA\n",
       "CBB3AQAAAAAAAALEXQAAAAAAAIAAcRcAAAAAAAAgQNwFAAAAAAAACBB3AQAAAAAAAALEXQAAAAAA\n",
       "AIAAcRcAAAAAAAAgQNwFAAAAAAAACBB3AQAAAAAAAALEXQAAAAAAAIAAcRcAAAAAAAAgQNwFAAAA\n",
       "AAAACBB3AQAAAAAAAALEXQAAAAAAAIAAcRcAAAAAAAAgQNwFAAAAAAAACBB3AQAAAAAAAALEXQAA\n",
       "AAAAAIAAcRcAAAAAAAAgQNwFAAAAAAAACBB3AQAAAAAAAALEXQAAAAAAAIAAcRcAAAAAAAAgQNwF\n",
       "AAAAAAAACBB3AQAAAAAAAALEXQAAAAAAAIAAcRcAAAAAAAAgQNwFAAAAAAAACBB3AQAAAAAAAALE\n",
       "XQAAAAAAAIAAcRcAAAAAAAAgQNwFAAAAAAAACBB3AQAAAAAAAALEXQAAAAAAAIAAcRcAAAAAAAAg\n",
       "QNwFAAAAAAAACBB3AQAAAAAAAALEXQAAAAAAAIAAcRcAAAAAAAAgQNwFAAAAAAAACBB3AQAAAAAA\n",
       "AALEXQAAAAAAAIAAcRcAAAAAAAAgQNwFAAAAAAAACBB3AQAAAAAAAALEXQAAAAAAAIAAcRcAAAAA\n",
       "AAAgQNwFAAAAAAAACBB3AQAAAAAAAALEXQAAAAAAAIAAcRcAAAAAAAAgQNwFAAAAAAAACBB3AQAA\n",
       "AAAAAALEXQAAAAAAAIAAcRcAAAAAAAAgQNwFAAAAAAAACBB3AQAAAAAAAALEXQAAAAAAAIAAcRcA\n",
       "AAAAAAAgQNwFAAAAAAAACBB3AQAAAAAAAALEXQAAAAAAAIAAcRcAAAAAAAAgQNwFAAAAAAAACBB3\n",
       "AQAAAAAAAALEXQAAAAAAAIAAcRcAAAAAAAAgQNwFAAAAAAAACBB3AQAAAAAAAALEXQAAAAAAAIAA\n",
       "cRcAAAAAAAAgQNwFAAAAAAAACBB3AQAAAAAAAALEXQAAAAAAAIAAcRcAAAAAAAAgQNwFAAAAAAAA\n",
       "+Nu3gxMAYQAIgggWZDc2aGWpIxA70GdYmKng/ssFiLsAAAAAAAAAAeIuAAAAAAAAQIC4CwAAAAAA\n",
       "ABAg7gIAAAAAAAAEiLsAAAAAAAAAAeIuAAAAAAAAQIC4CwAAAAAAABAg7gIAAAAAAAAEiLsAAAAA\n",
       "AAAAAeIuAAAAAAAAQMA57mv3BgAAAAAAAAB+eO4CAAAAAAAABIi7AAAAAAAAAAHiLgAAAAAAAECA\n",
       "uAsAAAAAAAAQIO4CAAAAAAAABIi7AAAAAAAAAAHiLgAAAAAAAECAuAsAAAAAAAAQIO4CAAAAAAAA\n",
       "BIi7AAAAAAAAAAHiLgAAAAAAAECAuAsAAAAAAAAQIO4CAAAAAAAABIi7AAAAAAAAAAHiLgAAAAAA\n",
       "AECAuAsAAAAAAAAQIO4CAAAAAAAABIi7AAAAAAAAAAHiLgAAAAAAAECAuAsAAAAAAAAQIO4CAAAA\n",
       "AAAABIi7AAAAAAAAAAHiLgAAAAAAAECAuAsAAAAAAAAQIO4CAAAAAAAABIi7AAAAAAAAAAHiLgAA\n",
       "AAAAAECAuAsAAAAAAAAQIO4CAAAAAAAABIi7AAAAAAAAAAHiLgAAAAAAAECAuAsAAAAAAAAQIO4C\n",
       "AAAAAAAABIi7AAAAAAAAAAHiLgAAAAAAAECAuAsAAAAAAAAQIO4CAAAAAAAABIi7AAAAAAAAAAHi\n",
       "LgAAAAAAAECAuAsAAAAAAAAQIO4CAAAAAAAABIi7AAAAAAAAAAHiLgAAAAAAAECAuAsAAAAAAAAQ\n",
       "IO4CAAAAAAAABIi7AAAAAAAAAAHiLgAAAAAAAECAuAsAAAAAAAAQIO4CAAAAAAAABIi7AAAAAAAA\n",
       "AAHiLgAAAAAAAECAuAsAAAAAAAAQIO4CAAAAAAAABIi7AAAAAAAAAAHiLgAAAAAAAECAuAsAAAAA\n",
       "AAAQIO4CAAAAAAAABIi7AAAAAAAAAAHiLgAAAAAAAECAuAsAAAAAAAAQIO4CAAAAAAAABIi7AAAA\n",
       "AAAAAAHiLgAAAAAAAECAuAsAAAAAAAAQIO4CAAAAAAAABIi7AAAAAAAAAAHiLgAAAAAAAECAuAsA\n",
       "AAAAAAAQIO4CAAAAAAAABIi7AAAAAAAAAAHiLgAAAAAAAECAuAsAAAAAAAAQIO4CAAAAAAAABIi7\n",
       "AAAAAAAAAAHiLgAAAAAAAECAuAsAAAAAAAAQIO4CAAAAAAAABIi7AAAAAAAAAAHiLgAAAAAAAECA\n",
       "uAsAAAAAAAAQIO4CAAAAAAAABIi7AAAAAAAAAAHiLgAAAAAAAECAuAsAAAAAAAAQIO4CAAAAAAAA\n",
       "BIi7AAAAAAAAAAHiLgAAAAAAAECAuAsAAAAAAAAQIO4CAAAAAAAABIi7AAAAAAAAAAHiLgAAAAAA\n",
       "AECAuAsAAAAAAAAQIO4CAAAAAAAABIi7AAAAAAAAAAHiLgAAAAAAAECAuAsAAAAAAAAQIO4CAAAA\n",
       "AAAABIi7AAAAAAAAAAHiLgAAAAAAAECAuAsAAAAAAAAQIO4CAAAAAAAABIi7AAAAAAAAAAHiLgAA\n",
       "AAAAAECAuAsAAAAAAAAQIO4CAAAAAAAABIi7AAAAAAAAAAHiLgAAAAAAAECAuAsAAAAAAAAQIO4C\n",
       "AAAAAAAABIi7AAAAAAAAAAHiLgAAAAAAAECAuAsAAAAAAAAQIO4CAAAAAAAABIi7AAAAAAAAAAHi\n",
       "LgAAAAAAAECAuAsAAAAAAAAQIO4CAAAAAAAABIi7AAAAAAAAAAHiLgAAAAAAAECAuAsAAAAAAAAQ\n",
       "IO4CAAAAAAAABIi7AAAAAAAAAAHiLgAAAAAAAECAuAsAAAAAAAAQIO4CAAAAAAAABIi7AAAAAAAA\n",
       "AAHiLgAAAAAAAECAuAsAAAAAAAAQIO4CAAAAAAAABIi7AAAAAAAAAAHiLgAAAAAAAECAuAsAAAAA\n",
       "AAAQIO4CAAAAAAAABIi7AAAAAAAAAAHiLgAAAAAAAECAuAsAAAAAAAAQIO4CAAAAAAAABBxzPWv3\n",
       "CAAAAAAAAAC+ee4CAAAAAAAABIi7AAAAAAAAAAHiLgAAAAAAAECAuAsAAAAAAAAQIO4CAAAAAAAA\n",
       "BIi7AAAAAAAAAAHiLgAAAAAAAECAuAsAAAAAAAAQIO4CAAAAAAAABIi7AAAAAAAAAAHiLgAAAAAA\n",
       "AECAuAsAAAAAAAAQIO4CAAAAAAAABIi7AAAAAAAAAAHiLgAAAAAAAECAuAsAAAAAAAAQIO4CAAAA\n",
       "AAAABIi7AAAAAAAAAAHiLgAAAAAAAECAuAsAAAAAAAAQIO4CAAAAAAAABIi7AAAAAAAAAAHiLgAA\n",
       "AAAAAECAuAsAAAAAAAAQIO4CAAAAAAAABIi7AAAAAAAAAAHiLgAAAAAAAECAuAsAAAAAAAAQIO4C\n",
       "AAAAAAAABIi7AAAAAAAAAAHiLgAAAAAAAECAuAsAAAAAAAAQIO4CAAAAAAAABIi7AAAAAAAAAAHi\n",
       "LgAAAAAAAECAuAsAAAAAAAAQIO4CAAAAAAAABIi7AAAAAAAAAAHiLgAAAAAAAECAuAsAAAAAAAAQ\n",
       "IO4CAAAAAAAABIi7AAAAAAAAAAHiLgAAAAAAAECAuAsAAAAAAAAQIO4CAAAAAAAABIi7AAAAAAAA\n",
       "AAHiLgAAAAAAAECAuAsAAAAAAAAQIO4CAAAAAAAABIi7AAAAAAAAAAHiLgAAAAAAAECAuAsAAAAA\n",
       "AAAQIO4CAAAAAAAABIi7AAAAAAAAAAHiLgAAAAAAAECAuAsAAAAAAAAQIO4CAAAAAAAABIi7AAAA\n",
       "AAAAAAHiLgAAAAAAAECAuAsAAAAAAAAQIO4CAAAAAAAABIi7AAAAAAAAAAHiLgAAAAAAAECAuAsA\n",
       "AAAAAAAQIO4CAAAAAAAABIi7AAAAAAAAAAHiLgAAAAAAAECAuAsAAAAAAAAQIO4CAAAAAAAABIi7\n",
       "AAAAAAAAAAHiLgAAAAAAAECAuAsAAAAAAAAQIO4CAAAAAAAABIi7AAAAAAAAAAHiLgAAAAAAAECA\n",
       "uAsAAAAAAAAQIO4CAAAAAAAABIi7AAAAAAAAAAHiLgAAAAAAAECAuAsAAAAAAAAQIO4CAAAAAAAA\n",
       "BIi7AAAAAAAAAAHiLgAAAAAAAECAuAsAAAAAAAAQIO4CAAAAAAAABIi7AAAAAAAAAAHiLgAAAAAA\n",
       "AECAuAsAAAAAAAAQIO4CAAAAAAAABIi7AAAAAAAAAAHiLgAAAAAAAECAuAsAAAAAAAAQIO4CAAAA\n",
       "AAAABIi7AAAAAAAAAAHiLgAAAAAAAECAuAsAAAAAAAAQIO4CAAAAAAAABIi7AAAAAAAAAAHiLgAA\n",
       "AAAAAECAuAsAAAAAAAAQIO4CAAAAAAAABIi7AAAAAAAAAAHiLgAAAAAAAECAuAsAAAAAAAAQIO4C\n",
       "AAAAAAAABIi7AAAAAAAAAAHiLgAAAAAAAECAuAsAAAAAAAAQIO4CAAAAAAAABIi7AAAAAAAAAAHi\n",
       "LgAAAAAAAECAuAsAAAAAAAAQIO4CAAAAAAAABIi7AAAAAAAAAAHiLgAAAAAAAECAuAsAAAAAAAAQ\n",
       "IO4CAAAAAAAABIi7AAAAAAAAAAHiLgAAAAAAAECAuAsAAAAAAAAQIO4CAAAAAAAABIi7AAAAAAAA\n",
       "AAHiLgAAAAAAAECAuAsAAAAAAAAQIO4CAAAAAAAABIi7AAAAAAAAAAHiLgAAAAAAAECAuAsAAAAA\n",
       "AAAQIO4CAAAAAAAABIi7AAAAAAAAAAHiLgAAAAAAAECAuAsAAAAAAAAQIO4CAAAAAAAABIi7AAAA\n",
       "AAAAAAHiLgAAAAAAAECAuAsAAAAAAAAQ8AL2cBurtdtQOwAAAABJRU5ErkJggg==\n",
       "\" transform=\"translate(202, 47)\"/>\n",
       "</g>\n",
       "<defs>\n",
       "  <clipPath id=\"clip473\">\n",
       "    <rect x=\"2160\" y=\"47\" width=\"73\" height=\"1377\"/>\n",
       "  </clipPath>\n",
       "</defs>\n",
       "<g clip-path=\"url(#clip473)\">\n",
       "<image width=\"72\" height=\"1376\" xlink:href=\"data:image/png;base64,\n",
       "iVBORw0KGgoAAAANSUhEUgAAAEgAAAVgCAYAAADsKhu7AAAL6UlEQVR4nO3dwZEjNxBFQVBR/lsh\n",
       "L6UFZIHqHclDpgUTL35wCXTP7Off+/c7/K+/vv0D/DqBgkBBoCBQmPv+/fbP8NMsKAgUBAoChXnv\n",
       "z7d/hp9mQUGgIFAQKAgUHDWCBQWBgkBBoDDPh/TKgoJAQaAgUJh3fUhvLCgIFAQKAgWBgqNGsKAg\n",
       "UBAoCBR8SAcLCgIFgYJAwX1QsKAgUBAoCBQECnMcNVYWFAQKAgWBgvugYEFBoCBQECgIFOa4MFtZ\n",
       "UBAoCBQECnPuP9/+GX6aBQWBgkBBoODSPlhQECgIFAQKAgX3QcGCgkBBoCBQ8CEdLCgIFAQKAgX3\n",
       "QcGCgkBBoCBQECjMx1FjZUFBoCBQECjMuf5XhI0FBYGCQEGgIFBw1AgWFAQKAgWBgqNGsKAgUBAo\n",
       "CBS8HxQsKAgUBAoCBYHCfBw1VhYUBAoCBYGCt1yDBQWBgkBBoOCbdLCgIFAQKAgUBAoePQcLCgIF\n",
       "gYJAwVEjWFAQKAgUBAoCBUeNYEFBoCBQECg4agQLCgIFgYJAYc693/4ZfpoFBYGCQEGgIFBw1AgW\n",
       "FAQKAgWBgkv7YEFBoCBQECj4kA4WFAQKAgWBgkBhPp5qrCwoCBQECgIFR41gQUGgIFAQKAgUvEAV\n",
       "LCgIFAQKAgX3QcGCgkBBoCBQcB8ULCgIFAQKAgWBgvugYEFBoCBQECj4kA4WFAQKAgWBgl/qDRYU\n",
       "BAoCBYGCQMFRI1hQECgIFAQKPqSDBQWBgkBBoCBQ8K9YsKAgUBAoCBR8SAcLCgIFgYJAYc7zIb2x\n",
       "oCBQECgIFAQKjhrBgoJAQaAgUPAhHSwoCBQECgIFH9LBgoJAQaAgUBAozLnv2z/DT7OgIFAQKAgU\n",
       "HDWCBQWBgkBBoCBQcNQIFhQECgIFgYKjRrCgIFAQKAgUfJMOFhQECgIFgYJAYY6TxsqCgkBBoCBQ\n",
       "mPMcNTYWFAQKAgWBgm/SwYKCQEGgIFAQKPhXLFhQECgIFAQK44/g7SwoCBQECgIFgYKjRrCgIFAQ\n",
       "KAgUfEgHCwoCBYGCQGHO/Xz7Z/hpFhQECgIFgYJAYd7zr9jGgoJAQaAgUHAfFCwoCBQECgIF90HB\n",
       "goJAQaAgUBAozLsabdQJAgWBgkDBUSNYUBAoCBQECgKFOR49rywoCBQECgKFeY4aKwsKAgWBgkBh\n",
       "jkv7lTpBoCBQECgIFBw1ggUFgYJAQaDg0j5YUBAoCBQECl7iDOoEgYJAQaAgUPCWa7CgIFAQKAgU\n",
       "XNoHCwoCBYGCQEGgMO9ptFEnCBQECgIF90HBgoJAQaAgUHAfFCwoCBQECgIFgcIc90ErdYJAQaAg\n",
       "UHDUCBYUBAoCBYGCD+lgQUGgIFAQKAgU/NZzsKAgUBAoCBT81nNQJwgUBAoCBYHCPEeNlQUFgYJA\n",
       "QaDgqUawoCBQECgIFPyvCEGdIFAQKAgUBArug4IFBYGCQEGg4D4oWFAQKAgUBAq+SQcLCgIFgYJA\n",
       "QaDgLdegThAoCBQECo4awYKCQEGgIFAQKHiqESwoCBQECgIFR41gQUGgIFAQKPiva4IFBYGCQEGg\n",
       "IFDwv2QGdYJAQaAgUHAfFCwoCBQECgIFT1aDBQWBgkBBoCBQcNQIFhQECgIFgcJcH9IrCwoCBYGC\n",
       "QEGg4LeegzpBoCBQECi4DwoWFAQKAgWBgg/pYEFBoCBQECgIFLxAFSwoCBQECgIFR41gQUGgIFAQ\n",
       "KPiQDhYUBAoCBYGCQMGfpgjqBIGCQEGgMNel/cqCgkBBoCBQECi4MAsWFAQKAgWBgg/pYEFBoCBQ\n",
       "ECj4kA4WFAQKAgWBgkDBH1gKFhQECgIFgYKjRrCgIFAQKAgUfEgHCwoCBYGCQEGg4FcRgjpBoCBQ\n",
       "ECj4VYRgQUGgIFAQKAgUXJgFCwoCBYGCQMGHdLCgIFAQKAgUvMQZLCgIFAQKAgWBgqNGsKAgUBAo\n",
       "CBTmHR/SGwsKAgWBgkDBfVCwoCBQECgIFAQK7oOCBQWBgkBBoOCoESwoCBQECgIFgYKjRrCgIFAQ\n",
       "KAgUHDWCBQWBgkBBoOCbdLCgIFAQKAgUBAr+FQsWFAQKAgWBwly/irCyoCBQECgIFHyTDhYUBAoC\n",
       "BYGCQMGj52BBQaAgUBAozHvf/hF+mwUFgYJAQaAgUHDUCBYUBAoCBYGCv4IXLCgIFAQKAgXfpIMF\n",
       "BYGCQEGgIFDwAlWwoCBQECgIFPwqQrCgIFAQKAgUvB8ULCgIFAQKAgWBgqcawYKCQEGgIFBwaR8s\n",
       "KAgUBAoCBYGCpxrBgoJAQaAgUHAfFCwoCBQECgIFj56DBQWBgkBBoCBQcB8ULCgIFAQKAgWPnoMF\n",
       "BYGCQEGgMPfbP8GPs6AgUBAoCBQECo4awYKCQEGgIFDwflCwoCBQECgIFAQKLsyCBQWBgkBBoOA+\n",
       "KFhQECgIFAQKvkkHCwoCBYGCQEGg4KgRLCgIFAQKAgWPnoMFBYGCQEGgMP4yxc6CgkBBoCBQECg4\n",
       "agQLCgIFgYJAwaPnYEFBoCBQECgIFDx6DhYUBAoCBYGCo0awoCBQECgIFHyTDhYUBAoCBYGCQGGu\n",
       "N6hWFhQECgIFgYL7oGBBQaAgUBAouA8KFhQECgIFgYJAwVEjWFAQKAgUBArzXNqvLCgIFAQKAgWB\n",
       "wtzjwmxjQUGgIFAQKHg/KFhQECgIFAQK/gpesKAgUBAoCBQECv4KXrCgIFAQKAgUPHoOFhQECgIF\n",
       "gYKXOIMFBYGCQEGgIFDwC3XBgoJAQaAgUHDUCBYUBAoCBYGCQMFbrsGCgkBBoCBQ8JZrsKAgUBAo\n",
       "CBR8kw4WFAQKAgWBgkDBW67BgoJAQaAgUPD3g4IFBYGCQEGg4D4oWFAQKAgUBAoCBY+egwUFgYJA\n",
       "QaDgqBEsKAgUBAoCBYGCo0awoCBQECgIFBw1ggUFgYJAQaDgQzpYUBAoCBQECgIF90HBgoJAQaAg\n",
       "UHDUCBYUBAoCBYGCb9LBgoJAQaAgUBAoOGoECwoCBYGCQMHfDwoWFAQKAgWBgkDB/+0TLCgIFAQK\n",
       "AgX3QcGCgkBBoCBQmHd8Sm8sKAgUBAoCBYGCo0awoCBQECgIFDx6DhYUBAoCBYGCJ6vBgoJAQaAg\n",
       "UBAouA8KFhQECgIFgYJHz8GCgkBBoCBQECg4agQLCgIFgYJAwR9YChYUBAoCBYHCXC8IrSwoCBQE\n",
       "CgIFgYIXqIIFBYGCQEGgMM9RY2VBQaAgUBAo+CYdLCgIFAQKAgWBgqcawYKCQEGgIFDwflCwoCBQ\n",
       "ECgIFAQKc/1C3cqCgkBBoCBQcB8ULCgIFAQKAgV/miJYUBAoCBQECgIFL1AFCwoCBYGCQMGlfbCg\n",
       "IFAQKAgU3AcFCwoCBYGCQEGgMPe4EdpYUBAoCBQECu6DggUFgYJAQaAgUPCvWLCgIFAQKAgUPNUI\n",
       "FhQECgIFgYJL+2BBQaAgUBAoCBTmfhw1NhYUBAoCBYGCo0awoCBQECgIFOb5kF5ZUBAoCBQECgIF\n",
       "R41gQUGgIFAQKMz9+JDeWFAQKAgUBAoCBUeNYEFBoCBQECh4qhEsKAgUBAoCBd+kgwUFgYJAQaAg\n",
       "UPCvWLCgIFAQKAgUPHoOFhQECgIFgcK88+fbP8NPs6AgUBAoCBQECu6DggUFgYJAQaDg/aBgQUGg\n",
       "IFAQKAgU5j4XZhsLCgIFgYJAwVEjWFAQKAgUBApzPXpeWVAQKAgUBAoCBUeNYEFBoCBQECg4agQL\n",
       "CgIFgYJAYd7zTXpjQUGgIFAQKAgU3AcFCwoCBYGCQMFLnMGCgkBBoCBQECg4agQLCgIFgYJAYZ6j\n",
       "xsqCgkBBoCBQ8E06WFAQKAgUBAoChbleoFpZUBAoCBQECv7gdrCgIFAQKAgU/CpCsKAgUBAoCBQE\n",
       "Cp5qBAsKAgWBgkDBUSNYUBAoCBQECgIF/4oFCwoCBYGCQMGj52BBQaAgUBAo+CYdLCgIFAQKAgWB\n",
       "whyPnlcWFAQKAgWBgqNGsKAgUBAoCBS8xBksKAgUBAoCBYHCHEeNlQUFgYJAQaDg/aBgQUGgIFAQ\n",
       "KAgUPHoOFhQECgIFgYL7oGBBQaAgUBAozDvv2z/DT7OgIFAQKAgUBArug4IFBYGCQEGgMMdRY2VB\n",
       "QaAgUBAo/AdhU+3PqlcPeQAAAABJRU5ErkJggg==\n",
       "\" transform=\"translate(2161, 47)\"/>\n",
       "</g>\n",
       "<path clip-path=\"url(#clip470)\" d=\"M2284.36 1133.26 L2272.55 1151.71 L2284.36 1151.71 L2284.36 1133.26 M2283.13 1129.19 L2289.01 1129.19 L2289.01 1151.71 L2293.94 1151.71 L2293.94 1155.6 L2289.01 1155.6 L2289.01 1163.75 L2284.36 1163.75 L2284.36 1155.6 L2268.76 1155.6 L2268.76 1151.08 L2283.13 1129.19 Z\" fill=\"#000000\" fill-rule=\"nonzero\" fill-opacity=\"1\" /><path clip-path=\"url(#clip470)\" d=\"M2301.67 1157.87 L2306.56 1157.87 L2306.56 1163.75 L2301.67 1163.75 L2301.67 1157.87 Z\" fill=\"#000000\" fill-rule=\"nonzero\" fill-opacity=\"1\" /><path clip-path=\"url(#clip470)\" d=\"M2329.59 1133.26 L2317.78 1151.71 L2329.59 1151.71 L2329.59 1133.26 M2328.36 1129.19 L2334.24 1129.19 L2334.24 1151.71 L2339.17 1151.71 L2339.17 1155.6 L2334.24 1155.6 L2334.24 1163.75 L2329.59 1163.75 L2329.59 1155.6 L2313.99 1155.6 L2313.99 1151.08 L2328.36 1129.19 Z\" fill=\"#000000\" fill-rule=\"nonzero\" fill-opacity=\"1\" /><path clip-path=\"url(#clip470)\" d=\"M2347.04 1163.03 L2347.04 1158.77 Q2348.8 1159.6 2350.61 1160.04 Q2352.41 1160.48 2354.15 1160.48 Q2358.78 1160.48 2361.21 1157.38 Q2363.66 1154.25 2364.01 1147.91 Q2362.67 1149.9 2360.61 1150.97 Q2358.55 1152.03 2356.05 1152.03 Q2350.86 1152.03 2347.83 1148.91 Q2344.82 1145.76 2344.82 1140.32 Q2344.82 1135 2347.97 1131.78 Q2351.12 1128.56 2356.35 1128.56 Q2362.34 1128.56 2365.49 1133.17 Q2368.66 1137.75 2368.66 1146.5 Q2368.66 1154.67 2364.77 1159.56 Q2360.91 1164.42 2354.36 1164.42 Q2352.6 1164.42 2350.79 1164.07 Q2348.99 1163.72 2347.04 1163.03 M2356.35 1148.37 Q2359.5 1148.37 2361.32 1146.22 Q2363.18 1144.07 2363.18 1140.32 Q2363.18 1136.59 2361.32 1134.44 Q2359.5 1132.26 2356.35 1132.26 Q2353.2 1132.26 2351.35 1134.44 Q2349.52 1136.59 2349.52 1140.32 Q2349.52 1144.07 2351.35 1146.22 Q2353.2 1148.37 2356.35 1148.37 Z\" fill=\"#000000\" fill-rule=\"nonzero\" fill-opacity=\"1\" /><path clip-path=\"url(#clip470)\" d=\"M2375.88 1129.19 L2398.11 1129.19 L2398.11 1131.18 L2385.56 1163.75 L2380.68 1163.75 L2392.48 1133.12 L2375.88 1133.12 L2375.88 1129.19 Z\" fill=\"#000000\" fill-rule=\"nonzero\" fill-opacity=\"1\" /><path clip-path=\"url(#clip470)\" d=\"M2407.27 1129.19 L2425.63 1129.19 L2425.63 1133.12 L2411.56 1133.12 L2411.56 1141.59 Q2412.57 1141.25 2413.59 1141.08 Q2414.61 1140.9 2415.63 1140.9 Q2421.42 1140.9 2424.8 1144.07 Q2428.18 1147.24 2428.18 1152.66 Q2428.18 1158.24 2424.7 1161.34 Q2421.23 1164.42 2414.91 1164.42 Q2412.74 1164.42 2410.47 1164.05 Q2408.22 1163.68 2405.82 1162.93 L2405.82 1158.24 Q2407.9 1159.37 2410.12 1159.93 Q2412.34 1160.48 2414.82 1160.48 Q2418.82 1160.48 2421.16 1158.37 Q2423.5 1156.27 2423.5 1152.66 Q2423.5 1149.05 2421.16 1146.94 Q2418.82 1144.83 2414.82 1144.83 Q2412.94 1144.83 2411.07 1145.25 Q2409.22 1145.67 2407.27 1146.55 L2407.27 1129.19 Z\" fill=\"#000000\" fill-rule=\"nonzero\" fill-opacity=\"1\" /><path clip-path=\"url(#clip470)\" d=\"M2284.36 790.288 L2272.55 808.737 L2284.36 808.737 L2284.36 790.288 M2283.13 786.214 L2289.01 786.214 L2289.01 808.737 L2293.94 808.737 L2293.94 812.626 L2289.01 812.626 L2289.01 820.774 L2284.36 820.774 L2284.36 812.626 L2268.76 812.626 L2268.76 808.112 L2283.13 786.214 Z\" fill=\"#000000\" fill-rule=\"nonzero\" fill-opacity=\"1\" /><path clip-path=\"url(#clip470)\" d=\"M2301.67 814.895 L2306.56 814.895 L2306.56 820.774 L2301.67 820.774 L2301.67 814.895 Z\" fill=\"#000000\" fill-rule=\"nonzero\" fill-opacity=\"1\" /><path clip-path=\"url(#clip470)\" d=\"M2316.79 786.214 L2335.14 786.214 L2335.14 790.149 L2321.07 790.149 L2321.07 798.621 Q2322.09 798.274 2323.11 798.112 Q2324.13 797.927 2325.14 797.927 Q2330.93 797.927 2334.31 801.098 Q2337.69 804.27 2337.69 809.686 Q2337.69 815.265 2334.22 818.367 Q2330.75 821.445 2324.43 821.445 Q2322.25 821.445 2319.98 821.075 Q2317.74 820.705 2315.33 819.964 L2315.33 815.265 Q2317.41 816.399 2319.64 816.955 Q2321.86 817.51 2324.33 817.51 Q2328.34 817.51 2330.68 815.404 Q2333.01 813.297 2333.01 809.686 Q2333.01 806.075 2330.68 803.969 Q2328.34 801.862 2324.33 801.862 Q2322.46 801.862 2320.58 802.279 Q2318.73 802.696 2316.79 803.575 L2316.79 786.214 Z\" fill=\"#000000\" fill-rule=\"nonzero\" fill-opacity=\"1\" /><path clip-path=\"url(#clip470)\" d=\"M2356.9 789.293 Q2353.29 789.293 2351.46 792.858 Q2349.66 796.399 2349.66 803.529 Q2349.66 810.635 2351.46 814.2 Q2353.29 817.742 2356.9 817.742 Q2360.54 817.742 2362.34 814.2 Q2364.17 810.635 2364.17 803.529 Q2364.17 796.399 2362.34 792.858 Q2360.54 789.293 2356.9 789.293 M2356.9 785.589 Q2362.71 785.589 2365.77 790.196 Q2368.85 794.779 2368.85 803.529 Q2368.85 812.256 2365.77 816.862 Q2362.71 821.445 2356.9 821.445 Q2351.09 821.445 2348.01 816.862 Q2344.96 812.256 2344.96 803.529 Q2344.96 794.779 2348.01 790.196 Q2351.09 785.589 2356.9 785.589 Z\" fill=\"#000000\" fill-rule=\"nonzero\" fill-opacity=\"1\" /><path clip-path=\"url(#clip470)\" d=\"M2387.07 789.293 Q2383.45 789.293 2381.63 792.858 Q2379.82 796.399 2379.82 803.529 Q2379.82 810.635 2381.63 814.2 Q2383.45 817.742 2387.07 817.742 Q2390.7 817.742 2392.51 814.2 Q2394.33 810.635 2394.33 803.529 Q2394.33 796.399 2392.51 792.858 Q2390.7 789.293 2387.07 789.293 M2387.07 785.589 Q2392.88 785.589 2395.93 790.196 Q2399.01 794.779 2399.01 803.529 Q2399.01 812.256 2395.93 816.862 Q2392.88 821.445 2387.07 821.445 Q2381.26 821.445 2378.18 816.862 Q2375.12 812.256 2375.12 803.529 Q2375.12 794.779 2378.18 790.196 Q2381.26 785.589 2387.07 785.589 Z\" fill=\"#000000\" fill-rule=\"nonzero\" fill-opacity=\"1\" /><path clip-path=\"url(#clip470)\" d=\"M2417.23 789.293 Q2413.62 789.293 2411.79 792.858 Q2409.98 796.399 2409.98 803.529 Q2409.98 810.635 2411.79 814.2 Q2413.62 817.742 2417.23 817.742 Q2420.86 817.742 2422.67 814.2 Q2424.5 810.635 2424.5 803.529 Q2424.5 796.399 2422.67 792.858 Q2420.86 789.293 2417.23 789.293 M2417.23 785.589 Q2423.04 785.589 2426.09 790.196 Q2429.17 794.779 2429.17 803.529 Q2429.17 812.256 2426.09 816.862 Q2423.04 821.445 2417.23 821.445 Q2411.42 821.445 2408.34 816.862 Q2405.28 812.256 2405.28 803.529 Q2405.28 794.779 2408.34 790.196 Q2411.42 785.589 2417.23 785.589 Z\" fill=\"#000000\" fill-rule=\"nonzero\" fill-opacity=\"1\" /><path clip-path=\"url(#clip470)\" d=\"M2284.36 447.317 L2272.55 465.766 L2284.36 465.766 L2284.36 447.317 M2283.13 443.243 L2289.01 443.243 L2289.01 465.766 L2293.94 465.766 L2293.94 469.655 L2289.01 469.655 L2289.01 477.803 L2284.36 477.803 L2284.36 469.655 L2268.76 469.655 L2268.76 465.141 L2283.13 443.243 Z\" fill=\"#000000\" fill-rule=\"nonzero\" fill-opacity=\"1\" /><path clip-path=\"url(#clip470)\" d=\"M2301.67 471.924 L2306.56 471.924 L2306.56 477.803 L2301.67 477.803 L2301.67 471.924 Z\" fill=\"#000000\" fill-rule=\"nonzero\" fill-opacity=\"1\" /><path clip-path=\"url(#clip470)\" d=\"M2316.79 443.243 L2335.14 443.243 L2335.14 447.178 L2321.07 447.178 L2321.07 455.651 Q2322.09 455.303 2323.11 455.141 Q2324.13 454.956 2325.14 454.956 Q2330.93 454.956 2334.31 458.127 Q2337.69 461.299 2337.69 466.715 Q2337.69 472.294 2334.22 475.396 Q2330.75 478.474 2324.43 478.474 Q2322.25 478.474 2319.98 478.104 Q2317.74 477.734 2315.33 476.993 L2315.33 472.294 Q2317.41 473.428 2319.64 473.984 Q2321.86 474.539 2324.33 474.539 Q2328.34 474.539 2330.68 472.433 Q2333.01 470.326 2333.01 466.715 Q2333.01 463.104 2330.68 460.998 Q2328.34 458.891 2324.33 458.891 Q2322.46 458.891 2320.58 459.308 Q2318.73 459.725 2316.79 460.604 L2316.79 443.243 Z\" fill=\"#000000\" fill-rule=\"nonzero\" fill-opacity=\"1\" /><path clip-path=\"url(#clip470)\" d=\"M2356.9 446.322 Q2353.29 446.322 2351.46 449.887 Q2349.66 453.428 2349.66 460.558 Q2349.66 467.664 2351.46 471.229 Q2353.29 474.771 2356.9 474.771 Q2360.54 474.771 2362.34 471.229 Q2364.17 467.664 2364.17 460.558 Q2364.17 453.428 2362.34 449.887 Q2360.54 446.322 2356.9 446.322 M2356.9 442.618 Q2362.71 442.618 2365.77 447.225 Q2368.85 451.808 2368.85 460.558 Q2368.85 469.285 2365.77 473.891 Q2362.71 478.474 2356.9 478.474 Q2351.09 478.474 2348.01 473.891 Q2344.96 469.285 2344.96 460.558 Q2344.96 451.808 2348.01 447.225 Q2351.09 442.618 2356.9 442.618 Z\" fill=\"#000000\" fill-rule=\"nonzero\" fill-opacity=\"1\" /><path clip-path=\"url(#clip470)\" d=\"M2381.09 473.868 L2397.41 473.868 L2397.41 477.803 L2375.47 477.803 L2375.47 473.868 Q2378.13 471.113 2382.71 466.484 Q2387.32 461.831 2388.5 460.488 Q2390.75 457.965 2391.63 456.229 Q2392.53 454.47 2392.53 452.78 Q2392.53 450.026 2390.58 448.289 Q2388.66 446.553 2385.56 446.553 Q2383.36 446.553 2380.91 447.317 Q2378.48 448.081 2375.7 449.632 L2375.7 444.91 Q2378.52 443.776 2380.98 443.197 Q2383.43 442.618 2385.47 442.618 Q2390.84 442.618 2394.03 445.303 Q2397.23 447.989 2397.23 452.479 Q2397.23 454.609 2396.42 456.53 Q2395.63 458.428 2393.52 461.021 Q2392.95 461.692 2389.84 464.91 Q2386.74 468.104 2381.09 473.868 Z\" fill=\"#000000\" fill-rule=\"nonzero\" fill-opacity=\"1\" /><path clip-path=\"url(#clip470)\" d=\"M2407.27 443.243 L2425.63 443.243 L2425.63 447.178 L2411.56 447.178 L2411.56 455.651 Q2412.57 455.303 2413.59 455.141 Q2414.61 454.956 2415.63 454.956 Q2421.42 454.956 2424.8 458.127 Q2428.18 461.299 2428.18 466.715 Q2428.18 472.294 2424.7 475.396 Q2421.23 478.474 2414.91 478.474 Q2412.74 478.474 2410.47 478.104 Q2408.22 477.734 2405.82 476.993 L2405.82 472.294 Q2407.9 473.428 2410.12 473.984 Q2412.34 474.539 2414.82 474.539 Q2418.82 474.539 2421.16 472.433 Q2423.5 470.326 2423.5 466.715 Q2423.5 463.104 2421.16 460.998 Q2418.82 458.891 2414.82 458.891 Q2412.94 458.891 2411.07 459.308 Q2409.22 459.725 2407.27 460.604 L2407.27 443.243 Z\" fill=\"#000000\" fill-rule=\"nonzero\" fill-opacity=\"1\" /><path clip-path=\"url(#clip470)\" d=\"M2284.36 104.346 L2272.55 122.795 L2284.36 122.795 L2284.36 104.346 M2283.13 100.272 L2289.01 100.272 L2289.01 122.795 L2293.94 122.795 L2293.94 126.684 L2289.01 126.684 L2289.01 134.832 L2284.36 134.832 L2284.36 126.684 L2268.76 126.684 L2268.76 122.17 L2283.13 100.272 Z\" fill=\"#000000\" fill-rule=\"nonzero\" fill-opacity=\"1\" /><path clip-path=\"url(#clip470)\" d=\"M2301.67 128.953 L2306.56 128.953 L2306.56 134.832 L2301.67 134.832 L2301.67 128.953 Z\" fill=\"#000000\" fill-rule=\"nonzero\" fill-opacity=\"1\" /><path clip-path=\"url(#clip470)\" d=\"M2316.79 100.272 L2335.14 100.272 L2335.14 104.207 L2321.07 104.207 L2321.07 112.68 Q2322.09 112.332 2323.11 112.17 Q2324.13 111.985 2325.14 111.985 Q2330.93 111.985 2334.31 115.156 Q2337.69 118.328 2337.69 123.744 Q2337.69 129.323 2334.22 132.425 Q2330.75 135.503 2324.43 135.503 Q2322.25 135.503 2319.98 135.133 Q2317.74 134.763 2315.33 134.022 L2315.33 129.323 Q2317.41 130.457 2319.64 131.013 Q2321.86 131.568 2324.33 131.568 Q2328.34 131.568 2330.68 129.462 Q2333.01 127.355 2333.01 123.744 Q2333.01 120.133 2330.68 118.027 Q2328.34 115.92 2324.33 115.92 Q2322.46 115.92 2320.58 116.337 Q2318.73 116.754 2316.79 117.633 L2316.79 100.272 Z\" fill=\"#000000\" fill-rule=\"nonzero\" fill-opacity=\"1\" /><path clip-path=\"url(#clip470)\" d=\"M2356.9 103.351 Q2353.29 103.351 2351.46 106.916 Q2349.66 110.457 2349.66 117.587 Q2349.66 124.693 2351.46 128.258 Q2353.29 131.8 2356.9 131.8 Q2360.54 131.8 2362.34 128.258 Q2364.17 124.693 2364.17 117.587 Q2364.17 110.457 2362.34 106.916 Q2360.54 103.351 2356.9 103.351 M2356.9 99.6472 Q2362.71 99.6472 2365.77 104.254 Q2368.85 108.837 2368.85 117.587 Q2368.85 126.314 2365.77 130.92 Q2362.71 135.503 2356.9 135.503 Q2351.09 135.503 2348.01 130.92 Q2344.96 126.314 2344.96 117.587 Q2344.96 108.837 2348.01 104.254 Q2351.09 99.6472 2356.9 99.6472 Z\" fill=\"#000000\" fill-rule=\"nonzero\" fill-opacity=\"1\" /><path clip-path=\"url(#clip470)\" d=\"M2377.11 100.272 L2395.47 100.272 L2395.47 104.207 L2381.39 104.207 L2381.39 112.68 Q2382.41 112.332 2383.43 112.17 Q2384.45 111.985 2385.47 111.985 Q2391.26 111.985 2394.63 115.156 Q2398.01 118.328 2398.01 123.744 Q2398.01 129.323 2394.54 132.425 Q2391.07 135.503 2384.75 135.503 Q2382.57 135.503 2380.31 135.133 Q2378.06 134.763 2375.65 134.022 L2375.65 129.323 Q2377.74 130.457 2379.96 131.013 Q2382.18 131.568 2384.66 131.568 Q2388.66 131.568 2391 129.462 Q2393.34 127.355 2393.34 123.744 Q2393.34 120.133 2391 118.027 Q2388.66 115.92 2384.66 115.92 Q2382.78 115.92 2380.91 116.337 Q2379.06 116.754 2377.11 117.633 L2377.11 100.272 Z\" fill=\"#000000\" fill-rule=\"nonzero\" fill-opacity=\"1\" /><path clip-path=\"url(#clip470)\" d=\"M2417.23 103.351 Q2413.62 103.351 2411.79 106.916 Q2409.98 110.457 2409.98 117.587 Q2409.98 124.693 2411.79 128.258 Q2413.62 131.8 2417.23 131.8 Q2420.86 131.8 2422.67 128.258 Q2424.5 124.693 2424.5 117.587 Q2424.5 110.457 2422.67 106.916 Q2420.86 103.351 2417.23 103.351 M2417.23 99.6472 Q2423.04 99.6472 2426.09 104.254 Q2429.17 108.837 2429.17 117.587 Q2429.17 126.314 2426.09 130.92 Q2423.04 135.503 2417.23 135.503 Q2411.42 135.503 2408.34 130.92 Q2405.28 126.314 2405.28 117.587 Q2405.28 108.837 2408.34 104.254 Q2411.42 99.6472 2417.23 99.6472 Z\" fill=\"#000000\" fill-rule=\"nonzero\" fill-opacity=\"1\" /><polyline clip-path=\"url(#clip470)\" style=\"stroke:#000000; stroke-linecap:round; stroke-linejoin:round; stroke-width:4; stroke-opacity:1; fill:none\" points=\"2232.76,1423.18 2232.76,1150.09 2256.76,1150.09 2232.76,1150.09 2232.76,807.123 2256.76,807.123 2232.76,807.123 2232.76,464.152 2256.76,464.152 2232.76,464.152 2232.76,121.181 2256.76,121.181 2232.76,121.181 2232.76,47.2441 \"/>\n",
       "</svg>\n"
      ]
     },
     "execution_count": 32,
     "metadata": {},
     "output_type": "execute_result"
    }
   ],
   "source": [
    "heatmap(reshape(get_total_density_profiles(NM_MB_Array_Storage, r_hubbard_states), Nx, Ny)|> transpose,interpolate=true, xlabel=\"x\", ylabel=\"y\")"
   ]
  },
  {
   "cell_type": "code",
   "execution_count": 33,
   "id": "f817d7b8-29d5-4708-bd7d-c784e6be59ec",
   "metadata": {
    "tags": []
   },
   "outputs": [
    {
     "data": {
      "image/svg+xml": [
       "<?xml version=\"1.0\" encoding=\"utf-8\"?>\n",
       "<svg xmlns=\"http://www.w3.org/2000/svg\" xmlns:xlink=\"http://www.w3.org/1999/xlink\" width=\"600\" height=\"400\" viewBox=\"0 0 2400 1600\">\n",
       "<defs>\n",
       "  <clipPath id=\"clip510\">\n",
       "    <rect x=\"0\" y=\"0\" width=\"2400\" height=\"1600\"/>\n",
       "  </clipPath>\n",
       "</defs>\n",
       "<path clip-path=\"url(#clip510)\" d=\"M0 1600 L2400 1600 L2400 0 L0 0  Z\" fill=\"#ffffff\" fill-rule=\"evenodd\" fill-opacity=\"1\"/>\n",
       "<defs>\n",
       "  <clipPath id=\"clip511\">\n",
       "    <rect x=\"480\" y=\"0\" width=\"1681\" height=\"1600\"/>\n",
       "  </clipPath>\n",
       "</defs>\n",
       "<path clip-path=\"url(#clip510)\" d=\"M202.227 1423.18 L2112.76 1423.18 L2112.76 47.2441 L202.227 47.2441  Z\" fill=\"#ffffff\" fill-rule=\"evenodd\" fill-opacity=\"1\"/>\n",
       "<defs>\n",
       "  <clipPath id=\"clip512\">\n",
       "    <rect x=\"202\" y=\"47\" width=\"1912\" height=\"1377\"/>\n",
       "  </clipPath>\n",
       "</defs>\n",
       "<polyline clip-path=\"url(#clip512)\" style=\"stroke:#000000; stroke-linecap:round; stroke-linejoin:round; stroke-width:2; stroke-opacity:0.1; fill:none\" points=\"560.452,1423.18 560.452,47.2441 \"/>\n",
       "<polyline clip-path=\"url(#clip512)\" style=\"stroke:#000000; stroke-linecap:round; stroke-linejoin:round; stroke-width:2; stroke-opacity:0.1; fill:none\" points=\"1038.08,1423.18 1038.08,47.2441 \"/>\n",
       "<polyline clip-path=\"url(#clip512)\" style=\"stroke:#000000; stroke-linecap:round; stroke-linejoin:round; stroke-width:2; stroke-opacity:0.1; fill:none\" points=\"1515.72,1423.18 1515.72,47.2441 \"/>\n",
       "<polyline clip-path=\"url(#clip512)\" style=\"stroke:#000000; stroke-linecap:round; stroke-linejoin:round; stroke-width:2; stroke-opacity:0.1; fill:none\" points=\"1993.35,1423.18 1993.35,47.2441 \"/>\n",
       "<polyline clip-path=\"url(#clip510)\" style=\"stroke:#000000; stroke-linecap:round; stroke-linejoin:round; stroke-width:4; stroke-opacity:1; fill:none\" points=\"202.227,1423.18 2112.76,1423.18 \"/>\n",
       "<polyline clip-path=\"url(#clip510)\" style=\"stroke:#000000; stroke-linecap:round; stroke-linejoin:round; stroke-width:4; stroke-opacity:1; fill:none\" points=\"560.452,1423.18 560.452,1404.28 \"/>\n",
       "<polyline clip-path=\"url(#clip510)\" style=\"stroke:#000000; stroke-linecap:round; stroke-linejoin:round; stroke-width:4; stroke-opacity:1; fill:none\" points=\"1038.08,1423.18 1038.08,1404.28 \"/>\n",
       "<polyline clip-path=\"url(#clip510)\" style=\"stroke:#000000; stroke-linecap:round; stroke-linejoin:round; stroke-width:4; stroke-opacity:1; fill:none\" points=\"1515.72,1423.18 1515.72,1404.28 \"/>\n",
       "<polyline clip-path=\"url(#clip510)\" style=\"stroke:#000000; stroke-linecap:round; stroke-linejoin:round; stroke-width:4; stroke-opacity:1; fill:none\" points=\"1993.35,1423.18 1993.35,1404.28 \"/>\n",
       "<path clip-path=\"url(#clip510)\" d=\"M555.104 1481.64 L571.424 1481.64 L571.424 1485.58 L549.479 1485.58 L549.479 1481.64 Q552.141 1478.89 556.725 1474.26 Q561.331 1469.61 562.512 1468.27 Q564.757 1465.74 565.637 1464.01 Q566.539 1462.25 566.539 1460.56 Q566.539 1457.8 564.595 1456.07 Q562.674 1454.33 559.572 1454.33 Q557.373 1454.33 554.919 1455.09 Q552.489 1455.86 549.711 1457.41 L549.711 1452.69 Q552.535 1451.55 554.989 1450.97 Q557.442 1450.39 559.479 1450.39 Q564.85 1450.39 568.044 1453.08 Q571.239 1455.77 571.239 1460.26 Q571.239 1462.39 570.428 1464.31 Q569.641 1466.2 567.535 1468.8 Q566.956 1469.47 563.854 1472.69 Q560.752 1475.88 555.104 1481.64 Z\" fill=\"#000000\" fill-rule=\"nonzero\" fill-opacity=\"1\" /><path clip-path=\"url(#clip510)\" d=\"M1041.09 1455.09 L1029.29 1473.54 L1041.09 1473.54 L1041.09 1455.09 M1039.87 1451.02 L1045.75 1451.02 L1045.75 1473.54 L1050.68 1473.54 L1050.68 1477.43 L1045.75 1477.43 L1045.75 1485.58 L1041.09 1485.58 L1041.09 1477.43 L1025.49 1477.43 L1025.49 1472.92 L1039.87 1451.02 Z\" fill=\"#000000\" fill-rule=\"nonzero\" fill-opacity=\"1\" /><path clip-path=\"url(#clip510)\" d=\"M1516.12 1466.44 Q1512.97 1466.44 1511.12 1468.59 Q1509.29 1470.74 1509.29 1474.49 Q1509.29 1478.22 1511.12 1480.39 Q1512.97 1482.55 1516.12 1482.55 Q1519.27 1482.55 1521.1 1480.39 Q1522.95 1478.22 1522.95 1474.49 Q1522.95 1470.74 1521.1 1468.59 Q1519.27 1466.44 1516.12 1466.44 M1525.4 1451.78 L1525.4 1456.04 Q1523.64 1455.21 1521.84 1454.77 Q1520.06 1454.33 1518.3 1454.33 Q1513.67 1454.33 1511.21 1457.45 Q1508.78 1460.58 1508.44 1466.9 Q1509.8 1464.89 1511.86 1463.82 Q1513.92 1462.73 1516.4 1462.73 Q1521.61 1462.73 1524.62 1465.9 Q1527.65 1469.05 1527.65 1474.49 Q1527.65 1479.82 1524.5 1483.03 Q1521.35 1486.25 1516.12 1486.25 Q1510.13 1486.25 1506.95 1481.67 Q1503.78 1477.06 1503.78 1468.33 Q1503.78 1460.14 1507.67 1455.28 Q1511.56 1450.39 1518.11 1450.39 Q1519.87 1450.39 1521.65 1450.74 Q1523.46 1451.09 1525.4 1451.78 Z\" fill=\"#000000\" fill-rule=\"nonzero\" fill-opacity=\"1\" /><path clip-path=\"url(#clip510)\" d=\"M1993.35 1469.17 Q1990.01 1469.17 1988.09 1470.95 Q1986.2 1472.73 1986.2 1475.86 Q1986.2 1478.98 1988.09 1480.77 Q1990.01 1482.55 1993.35 1482.55 Q1996.68 1482.55 1998.6 1480.77 Q2000.52 1478.96 2000.52 1475.86 Q2000.52 1472.73 1998.6 1470.95 Q1996.7 1469.17 1993.35 1469.17 M1988.67 1467.18 Q1985.66 1466.44 1983.97 1464.38 Q1982.31 1462.32 1982.31 1459.35 Q1982.31 1455.21 1985.25 1452.8 Q1988.21 1450.39 1993.35 1450.39 Q1998.51 1450.39 2001.45 1452.8 Q2004.39 1455.21 2004.39 1459.35 Q2004.39 1462.32 2002.7 1464.38 Q2001.03 1466.44 1998.05 1467.18 Q2001.43 1467.96 2003.3 1470.26 Q2005.2 1472.55 2005.2 1475.86 Q2005.2 1480.88 2002.12 1483.57 Q1999.07 1486.25 1993.35 1486.25 Q1987.63 1486.25 1984.55 1483.57 Q1981.5 1480.88 1981.5 1475.86 Q1981.5 1472.55 1983.39 1470.26 Q1985.29 1467.96 1988.67 1467.18 M1986.96 1459.79 Q1986.96 1462.48 1988.63 1463.98 Q1990.32 1465.49 1993.35 1465.49 Q1996.36 1465.49 1998.05 1463.98 Q1999.76 1462.48 1999.76 1459.79 Q1999.76 1457.11 1998.05 1455.6 Q1996.36 1454.1 1993.35 1454.1 Q1990.32 1454.1 1988.63 1455.6 Q1986.96 1457.11 1986.96 1459.79 Z\" fill=\"#000000\" fill-rule=\"nonzero\" fill-opacity=\"1\" /><path clip-path=\"url(#clip510)\" d=\"M1174.11 1532.4 L1161.22 1549.74 L1174.77 1568.04 L1167.87 1568.04 L1157.49 1554.04 L1147.12 1568.04 L1140.21 1568.04 L1154.05 1549.39 L1141.39 1532.4 L1148.29 1532.4 L1157.75 1545.1 L1167.2 1532.4 L1174.11 1532.4 Z\" fill=\"#000000\" fill-rule=\"nonzero\" fill-opacity=\"1\" /><polyline clip-path=\"url(#clip512)\" style=\"stroke:#000000; stroke-linecap:round; stroke-linejoin:round; stroke-width:2; stroke-opacity:0.1; fill:none\" points=\"202.227,1216.79 2112.76,1216.79 \"/>\n",
       "<polyline clip-path=\"url(#clip512)\" style=\"stroke:#000000; stroke-linecap:round; stroke-linejoin:round; stroke-width:2; stroke-opacity:0.1; fill:none\" points=\"202.227,941.602 2112.76,941.602 \"/>\n",
       "<polyline clip-path=\"url(#clip512)\" style=\"stroke:#000000; stroke-linecap:round; stroke-linejoin:round; stroke-width:2; stroke-opacity:0.1; fill:none\" points=\"202.227,666.415 2112.76,666.415 \"/>\n",
       "<polyline clip-path=\"url(#clip512)\" style=\"stroke:#000000; stroke-linecap:round; stroke-linejoin:round; stroke-width:2; stroke-opacity:0.1; fill:none\" points=\"202.227,391.228 2112.76,391.228 \"/>\n",
       "<polyline clip-path=\"url(#clip512)\" style=\"stroke:#000000; stroke-linecap:round; stroke-linejoin:round; stroke-width:2; stroke-opacity:0.1; fill:none\" points=\"202.227,116.041 2112.76,116.041 \"/>\n",
       "<polyline clip-path=\"url(#clip510)\" style=\"stroke:#000000; stroke-linecap:round; stroke-linejoin:round; stroke-width:4; stroke-opacity:1; fill:none\" points=\"202.227,1423.18 202.227,47.2441 \"/>\n",
       "<polyline clip-path=\"url(#clip510)\" style=\"stroke:#000000; stroke-linecap:round; stroke-linejoin:round; stroke-width:4; stroke-opacity:1; fill:none\" points=\"202.227,1216.79 219.016,1216.79 \"/>\n",
       "<polyline clip-path=\"url(#clip510)\" style=\"stroke:#000000; stroke-linecap:round; stroke-linejoin:round; stroke-width:4; stroke-opacity:1; fill:none\" points=\"202.227,941.602 219.016,941.602 \"/>\n",
       "<polyline clip-path=\"url(#clip510)\" style=\"stroke:#000000; stroke-linecap:round; stroke-linejoin:round; stroke-width:4; stroke-opacity:1; fill:none\" points=\"202.227,666.415 219.016,666.415 \"/>\n",
       "<polyline clip-path=\"url(#clip510)\" style=\"stroke:#000000; stroke-linecap:round; stroke-linejoin:round; stroke-width:4; stroke-opacity:1; fill:none\" points=\"202.227,391.228 219.016,391.228 \"/>\n",
       "<polyline clip-path=\"url(#clip510)\" style=\"stroke:#000000; stroke-linecap:round; stroke-linejoin:round; stroke-width:4; stroke-opacity:1; fill:none\" points=\"202.227,116.041 219.016,116.041 \"/>\n",
       "<path clip-path=\"url(#clip510)\" d=\"M149.908 1230.13 L166.227 1230.13 L166.227 1234.07 L144.283 1234.07 L144.283 1230.13 Q146.945 1227.38 151.528 1222.75 Q156.135 1218.1 157.315 1216.75 Q159.561 1214.23 160.44 1212.5 Q161.343 1210.74 161.343 1209.05 Q161.343 1206.29 159.399 1204.56 Q157.478 1202.82 154.376 1202.82 Q152.177 1202.82 149.723 1203.58 Q147.292 1204.35 144.515 1205.9 L144.515 1201.18 Q147.339 1200.04 149.792 1199.46 Q152.246 1198.88 154.283 1198.88 Q159.653 1198.88 162.848 1201.57 Q166.042 1204.25 166.042 1208.75 Q166.042 1210.88 165.232 1212.8 Q164.445 1214.69 162.339 1217.29 Q161.76 1217.96 158.658 1221.18 Q155.556 1224.37 149.908 1230.13 Z\" fill=\"#000000\" fill-rule=\"nonzero\" fill-opacity=\"1\" /><path clip-path=\"url(#clip510)\" d=\"M156.644 928.396 L144.839 946.845 L156.644 946.845 L156.644 928.396 M155.417 924.322 L161.297 924.322 L161.297 946.845 L166.227 946.845 L166.227 950.734 L161.297 950.734 L161.297 958.882 L156.644 958.882 L156.644 950.734 L141.042 950.734 L141.042 946.22 L155.417 924.322 Z\" fill=\"#000000\" fill-rule=\"nonzero\" fill-opacity=\"1\" /><path clip-path=\"url(#clip510)\" d=\"M154.7 664.552 Q151.552 664.552 149.7 666.705 Q147.871 668.857 147.871 672.607 Q147.871 676.334 149.7 678.51 Q151.552 680.663 154.7 680.663 Q157.848 680.663 159.677 678.51 Q161.528 676.334 161.528 672.607 Q161.528 668.857 159.677 666.705 Q157.848 664.552 154.7 664.552 M163.982 649.899 L163.982 654.158 Q162.223 653.325 160.417 652.885 Q158.635 652.445 156.876 652.445 Q152.246 652.445 149.792 655.57 Q147.362 658.695 147.015 665.015 Q148.38 663.001 150.441 661.936 Q152.501 660.848 154.978 660.848 Q160.186 660.848 163.195 664.019 Q166.227 667.167 166.227 672.607 Q166.227 677.931 163.079 681.149 Q159.931 684.366 154.7 684.366 Q148.704 684.366 145.533 679.783 Q142.362 675.177 142.362 666.45 Q142.362 658.256 146.251 653.394 Q150.14 648.51 156.69 648.51 Q158.45 648.51 160.232 648.857 Q162.038 649.205 163.982 649.899 Z\" fill=\"#000000\" fill-rule=\"nonzero\" fill-opacity=\"1\" /><path clip-path=\"url(#clip510)\" d=\"M154.376 392.096 Q151.042 392.096 149.121 393.878 Q147.223 395.661 147.223 398.786 Q147.223 401.911 149.121 403.693 Q151.042 405.476 154.376 405.476 Q157.709 405.476 159.63 403.693 Q161.552 401.888 161.552 398.786 Q161.552 395.661 159.63 393.878 Q157.732 392.096 154.376 392.096 M149.7 390.105 Q146.691 389.365 145.001 387.304 Q143.334 385.244 143.334 382.281 Q143.334 378.138 146.274 375.73 Q149.237 373.323 154.376 373.323 Q159.538 373.323 162.477 375.73 Q165.417 378.138 165.417 382.281 Q165.417 385.244 163.727 387.304 Q162.061 389.365 159.075 390.105 Q162.454 390.892 164.329 393.184 Q166.227 395.476 166.227 398.786 Q166.227 403.809 163.149 406.494 Q160.093 409.179 154.376 409.179 Q148.658 409.179 145.579 406.494 Q142.524 403.809 142.524 398.786 Q142.524 395.476 144.422 393.184 Q146.32 390.892 149.7 390.105 M147.987 382.721 Q147.987 385.406 149.653 386.911 Q151.343 388.416 154.376 388.416 Q157.385 388.416 159.075 386.911 Q160.788 385.406 160.788 382.721 Q160.788 380.036 159.075 378.531 Q157.385 377.027 154.376 377.027 Q151.343 377.027 149.653 378.531 Q147.987 380.036 147.987 382.721 Z\" fill=\"#000000\" fill-rule=\"nonzero\" fill-opacity=\"1\" /><path clip-path=\"url(#clip510)\" d=\"M114.931 129.386 L122.57 129.386 L122.57 103.02 L114.26 104.687 L114.26 100.428 L122.524 98.7609 L127.2 98.7609 L127.2 129.386 L134.839 129.386 L134.839 133.321 L114.931 133.321 L114.931 129.386 Z\" fill=\"#000000\" fill-rule=\"nonzero\" fill-opacity=\"1\" /><path clip-path=\"url(#clip510)\" d=\"M154.283 101.84 Q150.672 101.84 148.843 105.404 Q147.038 108.946 147.038 116.076 Q147.038 123.182 148.843 126.747 Q150.672 130.288 154.283 130.288 Q157.917 130.288 159.723 126.747 Q161.552 123.182 161.552 116.076 Q161.552 108.946 159.723 105.404 Q157.917 101.84 154.283 101.84 M154.283 98.1359 Q160.093 98.1359 163.149 102.742 Q166.227 107.326 166.227 116.076 Q166.227 124.802 163.149 129.409 Q160.093 133.992 154.283 133.992 Q148.473 133.992 145.394 129.409 Q142.339 124.802 142.339 116.076 Q142.339 107.326 145.394 102.742 Q148.473 98.1359 154.283 98.1359 Z\" fill=\"#000000\" fill-rule=\"nonzero\" fill-opacity=\"1\" /><path clip-path=\"url(#clip510)\" d=\"M67.3143 733.525 Q73.68 736.008 75.6216 738.363 Q77.5631 740.718 77.5631 744.665 L77.5631 749.344 L72.6615 749.344 L72.6615 745.906 Q72.6615 743.487 71.5157 742.151 Q70.3699 740.814 66.1048 739.191 L63.4312 738.14 L28.3562 752.559 L28.3562 746.352 L56.238 735.212 L28.3562 724.072 L28.3562 717.865 L67.3143 733.525 Z\" fill=\"#000000\" fill-rule=\"nonzero\" fill-opacity=\"1\" /><g clip-path=\"url(#clip512)\">\n",
       "<image width=\"1911\" height=\"1376\" xlink:href=\"data:image/png;base64,\n",
       "iVBORw0KGgoAAAANSUhEUgAAB3cAAAVgCAYAAABc6deNAAAgAElEQVR4nOzbPWpVURhGYfMj+SFG\n",
       "oqa0EFIL4gAULHQAzilTsrUVRNA22AiChsSIcpMQYhyC3N1sFj7PCN7mFPssvpVPL1/c3AJytrfP\n",
       "Z08ABtzdP5k9ARiwsfdr9gRgwOWPO7MnAAN+Ht+fPQEYsFhszZ4AAP+F1dkDAAAAAAAAAPg3cRcA\n",
       "AAAAAAAgQNwFAAAAAAAACBB3AQAAAAAAAALEXQAAAAAAAIAAcRcAAAAAAAAgQNwFAAAAAAAACBB3\n",
       "AQAAAAAAAALEXQAAAAAAAIAAcRcAAAAAAAAgQNwFAAAAAAAACBB3AQAAAAAAAALEXQAAAAAAAIAA\n",
       "cRcAAAAAAAAgQNwFAAAAAAAACBB3AQAAAAAAAALEXQAAAAAAAIAAcRcAAAAAAAAgQNwFAAAAAAAA\n",
       "CBB3AQAAAAAAAALEXQAAAAAAAIAAcRcAAAAAAAAgQNwFAAAAAAAACBB3AQAAAAAAAALEXQAAAAAA\n",
       "AIAAcRcAAAAAAAAgQNwFAAAAAAAACBB3AQAAAAAAAALEXQAAAAAAAIAAcRcAAAAAAAAgQNwFAAAA\n",
       "AAAACBB3AQAAAAAAAALEXQAAAAAAAIAAcRcAAAAAAAAgQNwFAAAAAAAACBB3AQAAAAAAAALEXQAA\n",
       "AAAAAIAAcRcAAAAAAAAgQNwFAAAAAAAACBB3AQAAAAAAAALEXQAAAAAAAIAAcRcAAAAAAAAgQNwF\n",
       "AAAAAAAACBB3AQAAAAAAAALEXQAAAAAAAIAAcRcAAAAAAAAgQNwFAAAAAAAACBB3AQAAAAAAAALE\n",
       "XQAAAAAAAIAAcRcAAAAAAAAgQNwFAAAAAAAACBB3AQAAAAAAAALEXQAAAAAAAIAAcRcAAAAAAAAg\n",
       "QNwFAAAAAAAACBB3AQAAAAAAAALEXQAAAAAAAIAAcRcAAAAAAAAgQNwFAAAAAAAACBB3AQAAAAAA\n",
       "AALEXQAAAAAAAIAAcRcAAAAAAAAgQNwFAAAAAAAACBB3AQAAAAAAAALEXQAAAAAAAIAAcRcAAAAA\n",
       "AAAgQNwFAAAAAAAACBB3AQAAAAAAAALEXQAAAAAAAIAAcRcAAAAAAAAgQNwFAAAAAAAACBB3AQAA\n",
       "AAAAAALEXQAAAAAAAIAAcRcAAAAAAAAgQNwFAAAAAAAACBB3AQAAAAAAAALEXQAAAAAAAIAAcRcA\n",
       "AAAAAAAgQNwFAAAAAAAACBB3AQAAAAAAAALEXQAAAAAAAIAAcRcAAAAAAAAgQNwFAAAAAAAACBB3\n",
       "AQAAAAAAAALEXQAAAAAAAIAAcRcAAAAAAAAgQNwFAAAAAAAACBB3AQAAAAAAAALEXQAAAAAAAIAA\n",
       "cRcAAAAAAAAgQNwFAAAAAAAACBB3AQAAAAAAAALEXQAAAAAAAIAAcRcAAAAAAAAgQNwFAAAAAAAA\n",
       "CBB3AQAAAAAAAALEXQAAAAAAAIAAcRcAAAAAAAAgQNwFAAAAAAAACBB3AQAAAAAAAALEXQAAAAAA\n",
       "AIAAcRcAAAAAAAAgQNwFAAAAAAAACBB3AQAAAAAAAALEXQAAAAAAAIAAcRcAAAAAAAAgQNwFAAAA\n",
       "AAAACBB3AQAAAAAAAALEXQAAAAAAAIAAcRcAAAAAAAAgQNwFAAAAAAAACBB3AQAAAAAAAALEXQAA\n",
       "AAAAAIAAcRcAAAAAAAAgQNwFAAAAAAAACBB3AQAAAAAAAALEXQAAAAAAAIAAcRcAAAAAAAAgQNwF\n",
       "AAAAAAAACBB3AQAAAAAAAALEXQAAAAAAAIAAcRcAAAAAAAAgQNwFAAAAAAAACBB3AQAAAAAAAALE\n",
       "XQAAAAAAAIAAcRcAAAAAAAAgQNwFAAAAAAAACBB3AQAAAAAAAALEXQAAAAAAAIAAcRcAAAAAAAAg\n",
       "QNwFAAAAAAAACBB3AQAAAAAAAALEXQAAAAAAAIAAcRcAAAAAAAAgQNwFAAAAAAAACBB3AQAAAAAA\n",
       "AALEXQAAAAAAAICA9fPLjdkbgAHfzvZmTwAGnH4+mD0BGHB1vTZ7AjDg9tr17AnAgHubi9kTgAG7\n",
       "W75dKFpd/TN7ArAkl7sAAAAAAAAAAeIuAAAAAAAAQIC4CwAAAAAAABAg7gIAAAAAAAAEiLsAAAAA\n",
       "AAAAAeIuAAAAAAAAQIC4CwAAAAAAABAg7gIAAAAAAAAEiLsAAAAAAAAAAeIuAAAAAAAAQIC4CwAA\n",
       "AAAAABAg7gIAAAAAAAAEiLsAAAAAAAAAAeIuAAAAAAAAQIC4CwAAAAAAABAg7gIAAAAAAAAEiLsA\n",
       "AAAAAAAAAeIuAAAAAAAAQIC4CwAAAAAAABAg7gIAAAAAAAAEiLsAAAAAAAAAAeIuAAAAAAAAQIC4\n",
       "CwAAAAAAABAg7gIAAAAAAAAEiLsAAAAAAAAAAeIuAAAAAAAAQIC4CwAAAAAAABAg7gIAAAAAAAAE\n",
       "iLsAAAAAAAAAAeIuAAAAAAAAQIC4CwAAAAAAABAg7gIAAAAAAAAEiLsAAAAAAAAAAeIuAAAAAAAA\n",
       "QIC4CwAAAAAAABAg7gIAAAAAAAAEiLsAAAAAAAAAAeIuAAAAAAAAQIC4CwAAAAAAABAg7gIAAAAA\n",
       "AAAEiLsAAAAAAAAAAeIuAAAAAAAAQIC4CwAAAAAAABAg7gIAAAAAAAAEiLsAAAAAAAAAAeIuAAAA\n",
       "AAAAQIC4CwAAAAAAABAg7gIAAAAAAAAEiLsAAAAAAAAAAeIuAAAAAAAAQIC4CwAAAAAAABAg7gIA\n",
       "AAAAAAAEiLsAAAAAAAAAAeIuAAAAAAAAQIC4CwAAAAAAABAg7gIAAAAAAAAEiLsAAAAAAAAAAeIu\n",
       "AAAAAAAAQIC4CwAAAAAAABAg7gIAAAAAAAAEiLsAAAAAAAAAAeIuAAAAAAAAQIC4CwAAAAAAABAg\n",
       "7gIAAAAAAAAEiLsAAAAAAAAAAeIuAAAAAAAAQIC4CwAAAAAAABAg7gIAAAAAAAAEiLsAAAAAAAAA\n",
       "AeIuAAAAAAAAQIC4CwAAAAAAABAg7gIAAAAAAAAEiLsAAAAAAAAAAeIuAAAAAAAAQIC4CwAAAAAA\n",
       "ABAg7gIAAAAAAAAEiLsAAAAAAAAAAeIuAAAAAAAAQIC4CwAAAAAAABAg7gIAAAAAAAAEiLsAAAAA\n",
       "AAAAAeIuAAAAAAAAQIC4CwAAAAAAABAg7gIAAAAAAAAEiLsAAAAAAAAAAeIuAAAAAAAAQIC4CwAA\n",
       "AAAAABAg7gIAAAAAAAAEiLsAAAAAAAAAAeIuAAAAAAAAQIC4CwAAAAAAABAg7gIAAAAAAAAEiLsA\n",
       "AAAAAAAAAeIuAAAAAAAAQIC4CwAAAAAAABAg7gIAAAAAAAAEiLsAAAAAAAAAAeIuAAAAAAAAQIC4\n",
       "CwAAAAAAABAg7gIAAAAAAAAEiLsAAAAAAAAAAeIuAAAAAAAAQIC4CwAAAAAAABAg7gIAAAAAAAAE\n",
       "iLsAAAAAAAAAAeIuAAAAAAAAQIC4CwAAAAAAABAg7gIAAAAAAAAEiLsAAAAAAAAAAeIuAAAAAAAA\n",
       "QIC4CwAAAAAAABAg7gIAAAAAAAAEiLsAAAAAAAAAAeIuAAAAAAAAQIC4CwAAAAAAABAg7gIAAAAA\n",
       "AAAEiLsAAAAAAAAAAeIuAAAAAAAAQIC4CwAAAAAAABAg7gIAAAAAAAAEiLsAAAAAAAAAAeIuAAAA\n",
       "AAAAQIC4CwAAAAAAABAg7gIAAAAAAAAEiLsAAAAAAAAAAeIuAAAAAAAAQIC4CwAAAAAAABAg7gIA\n",
       "AAAAAAAEiLsAAAAAAAAAAeIuAAAAAAAAQIC4CwAAAAAAABAg7gIAAAAAAAAEiLsAAAAAAAAAAeIu\n",
       "AAAAAAAAQIC4CwAAAAAAABAg7gIAAAAAAAAEiLsAAAAAAAAAASsXh7s3s0cAyzv+eDB7AjDgzYen\n",
       "sycAA45+b86eAAw42LmYPQEY8OrJ+9kTgAH7j49mTwAG3FytzZ4ALMnlLgAAAAAAAECAuAsAAAAA\n",
       "AAAQIO4CAAAAAAAABIi7AAAAAAAAAAHiLgAAAAAAAECAuAsAAAAAAAAQIO4CAAAAAAAABIi7AAAA\n",
       "AAAAAAHiLgAAAAAAAECAuAsAAAAAAAAQIO4CAAAAAAAABIi7AAAAAAAAAAHiLgAAAAAAAECAuAsA\n",
       "AAAAAAAQIO4CAAAAAAAABIi7AAAAAAAAAAHiLgAAAAAAAECAuAsAAAAAAAAQIO4CAAAAAAAABIi7\n",
       "AAAAAAAAAAHiLgAAAAAAAECAuAsAAAAAAAAQIO4CAAAAAAAABIi7AAAAAAAAAAHiLgAAAAAAAECA\n",
       "uAsAAAAAAAAQIO4CAAAAAAAABIi7AAAAAAAAAAHiLgAAAAAAAECAuAsAAAAAAAAQIO4CAAAAAAAA\n",
       "BIi7AAAAAAAAAAHiLgAAAAAAAECAuAsAAAAAAAAQIO4CAAAAAAAABIi7AAAAAAAAAAHiLgAAAAAA\n",
       "AECAuAsAAAAAAAAQIO4CAAAAAAAABIi7AAAAAAAAAAHiLgAAAAAAAECAuAsAAAAAAAAQIO4CAAAA\n",
       "AAAABIi7AAAAAAAAAAHiLgAAAAAAAECAuAsAAAAAAAAQIO4CAAAAAAAABIi7AAAAAAAAAAHiLgAA\n",
       "AAAAAECAuAsAAAAAAAAQIO4CAAAAAAAABIi7AAAAAAAAAAHiLgAAAAAAAECAuAsAAAAAAAAQIO4C\n",
       "AAAAAAAABIi7AAAAAAAAAAHiLgAAAAAAAECAuAsAAAAAAAAQIO4CAAAAAAAABIi7AAAAAAAAAAHi\n",
       "LgAAAAAAAECAuAsAAAAAAAAQIO4CAAAAAAAABIi7AAAAAAAAAAHiLgAAAAAAAECAuAsAAAAAAAAQ\n",
       "IO4CAAAAAAAABIi7AAAAAAAAAAHiLgAAAAAAAECAuAsAAAAAAAAQIO4CAAAAAAAABIi7AAAAAAAA\n",
       "AAHiLgAAAAAAAECAuAsAAAAAAAAQIO4CAAAAAAAABIi7AAAAAAAAAAHiLgAAAAAAAECAuAsAAAAA\n",
       "AAAQIO4CAAAAAAAABIi7AAAAAAAAAAHiLgAAAAAAAECAuAsAAAAAAAAQIO4CAAAAAAAABIi7AAAA\n",
       "AAAAAAHiLgAAAAAAAECAuAsAAAAAAAAQIO4CAAAAAAAABIi7AAAAAAAAAAHiLgAAAAAAAECAuAsA\n",
       "AAAAAAAQIO4CAAAAAAAABIi7AAAAAAAAAAHiLgAAAAAAAECAuAsAAAAAAAAQIO4CAAAAAAAABIi7\n",
       "AAAAAAAAAAHiLgAAAAAAAECAuAsAAAAAAAAQIO4CAAAAAAAABIi7AAAAAAAAAAHiLgAAAAAAAECA\n",
       "uAsAAAAAAAAQIO4CAAAAAAAABIi7AAAAAAAAAAHiLgAAAAAAAECAuAsAAAAAAAAQIO4CAAAAAAAA\n",
       "BIi7AAAAAAAAAAHiLgAAAAAAAECAuAsAAAAAAAAQIO4CAAAAAAAABIi7AAAAAAAAAAHiLgAAAAAA\n",
       "AECAuAsAAAAAAAAQIO4CAAAAAAAABIi7AAAAAAAAAAHiLgAAAAAAAECAuAsAAAAAAAAQIO4CAAAA\n",
       "AAAABIi7AAAAAAAAAAHiLgAAAAAAAECAuAsAAAAAAAAQIO4CAAAAAAAABIi7AAAAAAAAAAHiLgAA\n",
       "AAAAAECAuAsAAAAAAAAQIO4CAAAAAAAABIi7AAAAAAAAAAHiLgAAAAAAAECAuAsAAAAAAAAQIO4C\n",
       "AAAAAAAABIi7AAAAAAAAAAHiLgAAAAAAAECAuAsAAAAAAAAQIO4CAAAAAAAABIi7AAAAAAAAAAHr\n",
       "K88fzd4ADNj5ejZ7AjDg3cnW7AnAgLfnX2ZPAAY8u3w4ewIw4PUD710o8p8ZmtZPv8+eACzJ5S4A\n",
       "AAAAAABAgLgLAAAAAAAAECDuAgAAAAAAAASIuwAAAAAAAAAB4i4AAAAAAABAgLgLAAAAAAAAECDu\n",
       "AgAAAAAAAASIuwAAAAAAAAAB4i4AAAAAAABAgLgLAAAAAAAAECDuAgAAAAAAAASIuwAAAAAAAAAB\n",
       "4i4AAAAAAABAgLgLAAAAAAAAECDuAgAAAAAAAASIuwAAAAAAAAAB4i4AAAAAAABAgLgLAAAAAAAA\n",
       "ECDuAgAAAAAAAASIuwAAAAAAAAAB4i4AAAAAAABAgLgLAAAAAAAAECDuAgAAAAAAAASIuwAAAAAA\n",
       "AAAB4i4AAAAAAABAgLgLAAAAAAAAECDuAgAAAAAAAASIuwAAAAAAAAAB4i4AAAAAAABAgLgLAAAA\n",
       "AAAAECDuAgAAAAAAAASIuwAAAAAAAAAB4i4AAAAAAABAgLgLAAAAAAAAECDuAgAAAAAAAASIuwAA\n",
       "AAAAAAAB4i4AAAAAAABAgLgLAAAAAAAAECDuAgAAAAAAAASIuwAAAAAAAAAB4i4AAAAAAABAgLgL\n",
       "AAAAAAAAECDuAgAAAAAAAASIuwAAAAAAAAAB4i4AAAAAAABAgLgLAAAAAAAAECDuAgAAAAAAAASI\n",
       "uwAAAAAAAAAB4i4AAAAAAABAgLgLAAAAAAAAECDuAgAAAAAAAASIuwAAAAAAAAAB4i4AAAAAAABA\n",
       "gLgLAAAAAAAAECDuAgAAAAAAAASIuwAAAAAAAAAB4i4AAAAAAABAgLgLAAAAAAAAECDuAgAAAAAA\n",
       "AASIuwAAAAAAAAAB4i4AAAAAAABAgLgLAAAAAAAAECDuAgAAAAAAAASIuwAAAAAAAAAB4i4AAAAA\n",
       "AABAgLgLAAAAAAAAECDuAgAAAAAAAASIuwAAAAAAAAAB4i4AAAAAAABAgLgLAAAAAAAAECDuAgAA\n",
       "AAAAAASIuwAAAAAAAAAB4i4AAAAAAABAgLgLAAAAAAAAECDuAgAAAAAAAASIuwAAAAAAAAAB4i4A\n",
       "AAAAAABAgLgLAAAAAAAAECDuAgAAAAAAAASIuwAAAAAAAAAB4i4AAAAAAABAgLgLAAAAAAAAECDu\n",
       "AgAAAAAAAASIuwAAAAAAAAAB4i4AAAAAAABAgLgLAAAAAAAAECDuAgAAAAAAAASIuwAAAAAAAAAB\n",
       "4i4AAAAAAABAgLgLAAAAAAAAECDuAgAAAAAAAASIuwAAAAAAAAAB4i4AAAAAAABAgLgLAAAAAAAA\n",
       "ECDuAgAAAAAAAASIuwAAAAAAAAAB4i4AAAAAAABAgLgLAAAAAAAAECDuAgAAAAAAAASIuwAAAAAA\n",
       "AAAB4i4AAAAAAABAgLgLAAAAAAAAECDuAgAAAAAAAASIuwAAAAAAAAAB4i4AAAAAAABAgLgLAAAA\n",
       "AAAAECDuAgAAAAAAAASIuwAAAAAAAAAB4i4AAAAAAABAgLgLAAAAAAAAECDuAgAAAAAAAASIuwAA\n",
       "AAAAAAAB4i4AAAAAAABAgLgLAAAAAAAAECDuAgAAAAAAAASIuwAAAAAAAAAB4i4AAAAAAABAgLgL\n",
       "AAAAAAAAECDuAgAAAAAAAASIuwAAAAAAAAAB4i4AAAAAAABAgLgLAAAAAAAAECDuAgAAAAAAAASI\n",
       "uwAAAAAAAAAB4i4AAAAAAABAgLgLAAAAAAAAECDuAgAAAAAAAASIuwAAAAAA/GXfDlKbigIwjNa8\n",
       "CKYaKXXqsCvowLFjwQ24TTfQsQMXIIIbKFJsbISQ1DXkTi4fnLOCf/K43PdxAYAAcRcAAAAAAAAg\n",
       "QNwFAAAAAAAACBB3AQAAAAAAAALEXQAAAAAAAIAAcRcAAAAAAAAgQNwFAAAAAAAACBB3AQAAAAAA\n",
       "AALEXQAAAAAAAIAAcRcAAAAAAAAgYH2xWmZvAAbsH7azJwADvv99mD0BGPDj6evsCcCA7enL7AnA\n",
       "APddaLr0nxmajsfZC4AzebkLAAAAAAAAECDuAgAAAAAAAASIuwAAAAAAAAAB4i4AAAAAAABAgLgL\n",
       "AAAAAAAAECDuAgAAAAAAAASIuwAAAAAAAAAB4i4AAAAAAABAgLgLAAAAAAAAECDuAgAAAAAAAASI\n",
       "uwAAAAAAAAAB4i4AAAAAAABAgLgLAAAAAAAAECDuAgAAAAAAAASIuwAAAAAAAAAB4i4AAAAAAABA\n",
       "gLgLAAAAAAAAECDuAgAAAAAAAASIuwAAAAAAAAAB4i4AAAAAAABAgLgLAAAAAAAAECDuAgAAAAAA\n",
       "AASIuwAAAAAAAAAB4i4AAAAAAABAgLgLAAAAAAAAECDuAgAAAAAAAASIuwAAAAAAAAAB4i4AAAAA\n",
       "AABAgLgLAAAAAAAAECDuAgAAAAAAAASIuwAAAAAAAAAB4i4AAAAAAABAgLgLAAAAAAAAECDuAgAA\n",
       "AAAAAASIuwAAAAAAAAAB4i4AAAAAAABAgLgLAAAAAAAAECDuAgAAAAAAAASIuwAAAAAAAAAB4i4A\n",
       "AAAAAABAgLgLAAAAAAAAECDuAgAAAAAAAASIuwAAAAAAAAAB4i4AAAAAAABAgLgLAAAAAAAAECDu\n",
       "AgAAAAAAAASIuwAAAAAAAAAB4i4AAAAAAABAgLgLAAAAAAAAECDuAgAAAAAAAASIuwAAAAAAAAAB\n",
       "4i4AAAAAAABAgLgLAAAAAAAAECDuAgAAAAAAAASIuwAAAAAAAAAB4i4AAAAAAABAgLgLAAAAAAAA\n",
       "ECDuAgAAAAAAAASIuwAAAAAAAAAB4i4AAAAAAABAgLgLAAAAAAAAECDuAgAAAAAAAASIuwAAAAAA\n",
       "AAAB4i4AAAAAAABAgLgLAAAAAAAAECDuAgAAAAAAAASIuwAAAAAAAAAB4i4AAAAAAABAgLgLAAAA\n",
       "AAAAECDuAgAAAAAAAASIuwAAAAAAAAAB4i4AAAAAAABAgLgLAAAAAAAAECDuAgAAAAAAAASIuwAA\n",
       "AAAAAAAB4i4AAAAAAABAgLgLAAAAAAAAECDuAgAAAAAAAASIuwAAAAAAAAAB4i4AAAAAAABAgLgL\n",
       "AAAAAAAAECDuAgAAAAAAAASIuwAAAAAAAAAB4i4AAAAAAABAgLgLAAAAAAAAECDuAgAAAAAAAASI\n",
       "uwAAAAAAAAAB4i4AAAAAAABAgLgLAAAAAAAAECDuAgAAAAAAAASIuwAAAAAAAAAB4i4AAAAAAABA\n",
       "gLgLAAAAAAAAECDuAgAAAAAAAASIuwAAAAAAAAAB4i4AAAAAAABAgLgLAAAAAAAAECDuAgAAAAAA\n",
       "AASIuwAAAAAAAAAB4i4AAAAAAABAgLgLAAAAAAAAECDuAgAAAAAAAASIuwAAAAAAAAAB4i4AAAAA\n",
       "AABAgLgLAAAAAAAAECDuAgAAAAAAAASIuwAAAAAAAAAB4i4AAAAAAABAgLgLAAAAAAAAECDuAgAA\n",
       "AAAAAASIuwAAAAAAAAAB4i4AAAAAAABAgLgLAAAAAAAAECDuAgAAAAAAAASIuwAAAAAAAAAB4i4A\n",
       "AAAAAABAgLgLAAAAAAAAECDuAgAAAAAAAASIuwAAAAAAAAAB4i4AAAAAAABAgLgLAAAAAAAAECDu\n",
       "AgAAAAAAAASIuwAAAAAAAAAB4i4AAAAAAABAgLgLAAAAAAAAECDuAgAAAAAAAASIuwAAAAAAAAAB\n",
       "4i4AAAAAAABAgLgLAAAAAAAAECDuAgAAAAAAAASIuwAAAAAAAAAB4i4AAAAAAABAgLgLAAAAAAAA\n",
       "ECDuAgAAAAAAAASIuwAAAAAAAAAB4i4AAAAAAABAwPridJy9ARiwuXqcPQEYcPv6avYEYMDj6vPs\n",
       "CcCA241zF4rcdyHqtJ29ABixLLMXAGfychcAAAAAAAAgQNwFAAAAAAAACBB3AQAAAAAAAALEXQAA\n",
       "AAAAAIAAcRcAAAAAAAAgQNwFAAAAAAAACBB3AQAAAAAAAALEXQAAAAAAAIAAcRcAAAAAAAAgQNwF\n",
       "AAAAAAAACBB3AQAAAAAAAALEXQAAAAAAAIAAcRcAAAAAAAAgQNwFAAAAAAAACBB3AQAAAAAAAALE\n",
       "XQAAAAAAAIAAcRcAAAAAAAAgQNwFAAAAAAAACBB3AQAAAAAAAALEXQAAAAAAAIAAcRcAAAAAAAAg\n",
       "QNwFAAAAAAAACBB3AQAAAAAAAALEXQAAAAAAAIAAcRcAAAAAAAAgQNwFAAAAAAAACBB3AQAAAAAA\n",
       "AALEXQAAAAAAAIAAcRcAAAAAAAAgQNwFAAAAAAAACBB3AQAAAAAAAALEXQAAAAAAAIAAcRcAAAAA\n",
       "AAAgQNwFAAAAAAAACBB3AQAAAAAAAALEXQAAAAAAAIAAcRcAAAAAAAAgQNwFAAAAAAAACBB3AQAA\n",
       "AAAAAALEXQAAAAAAAIAAcRcAAAAAAAAgQNwFAAAAAAAACBB3AQAAAAAAAALEXQAAAAAAAIAAcRcA\n",
       "AAAAAAAgQNwFAAAAAAAACBB3AQAAAAAAAALEXQAAAAAAAIAAcRcAAAAAAAAgQNwFAAAAAAAACBB3\n",
       "AQAAAAAAAALEXQAAAAAAAIAAcRcAAAAAAAAgQNwFAAAAAAAACBB3AQAAAAAAAALEXQAAAAAAAIAA\n",
       "cRcAAAAAAAAgQNwFAAAAAAAACBB3AQAAAAAAAALEXQAAAAAAAIAAcRcAAAAAAAAgQNwFAAAAAAAA\n",
       "CBB3AQAAAAAAAALEXQAAAAAAAIAAcRcAAAAAAAAgQNwFAAAAAAAACBB3AQAAAAAAAALEXQAAAAAA\n",
       "AIAAcRcAAAAAAAAgQNwFAAAAAAAACBB3AQAAAAAAAALEXQAAAAAAAIAAcRcAAAAAAAAgQNwFAAAA\n",
       "AAAACBB3AQAAAAAAAALEXQAAAAAAAIAAcRcAAAAAAAAgQNwFAAAAAAAACBB3AQAAAAAAAALEXQAA\n",
       "AAAAAIAAcRcAAAAAAAAgQNwFAAAAAAAACBB3AQAAAAAAAALEXQAAAAAAAIAAcRcAAAAAAAAgQNwF\n",
       "AAAAAAAACBB3AQAAAAAAAALEXQAAAAAAAIAAcRcAAAAAAAAgQNwFAAAAAAAACBB3AQAAAAAAAALE\n",
       "XQAAAAAAAIAAcRcAAAAAAAAgQNwFAAAAAAAACBB3AQAAAAAAAALEXQAAAAAAAIAAcRcAAAAAAAAg\n",
       "QNwFAAAAAAAACBB3AQAAAAAAAALEXQAAAAAAAIAAcRcAAAAAAAAgQNwFAAAAAAAACBB3AQAAAAAA\n",
       "AALEXQAAAAAAAIAAcRcAAAAAAAAgQNwFAAAAAAAACBB3AQAAAAAAAALEXQAAAAAAAIAAcRcAAAAA\n",
       "AAAgQNwFAAAAAAAACBB3AQAAAAAAAALEXQLqmPgAABbYSURBVAAAAAAAAIAAcRcAAAAAAAAgQNwF\n",
       "AAAAAAAACBB3AQAAAAAAAALEXQAAAAAAAIAAcRcAAAAAAAAgQNwFAAAAAAAACBB3AQAAAAAAAALE\n",
       "XQAAAAAAAIAAcRcAAAAAAAAgQNwFAAAAAAAACBB3AQAAAAAAAALEXQAAAAAAAIAAcRcAAAAAAAAg\n",
       "QNwFAAAAAAAACBB3AQAAAAAAAALEXQAAAAAAAIAAcRcAAAAAAAAgQNwFAAAAAAAACBB3AQAAAAAA\n",
       "AALEXQAAAAAAAIAAcRcAAAAAAAAgQNwFAAAAAAAACBB3AQAAAAAAAALEXQAAAAAAAIAAcRcAAAAA\n",
       "AAAgYP1892v2BmDA7v5m9gRgwId3+9kTgAHXu/ezJwADbt44d6Fod381ewIwYHP3c/YEYMDhsMye\n",
       "AJzJy10AAAAAAACAAHEXAAAAAAAAIEDcBQAAAAAAAAgQdwEAAAAAAAACxF0AAAAAAACAAHEXAAAA\n",
       "AAAAIEDcBQAAAAAAAAgQdwEAAAAAAAACxF0AAAAAAACAAHEXAAAAAAAAIEDcBQAAAAAAAAgQdwEA\n",
       "AAAAAAACxF0AAAAAAACAAHEXAAAAAAAAIEDcBQAAAAAAAAgQdwEAAAAAAAACxF0AAAAAAACAAHEX\n",
       "AAAAAAAAIEDcBQAAAAAAAAgQdwEAAAAAAAACxF0AAAAAAACAAHEXAAAAAAAAIEDcBQAAAAAAAAgQ\n",
       "dwEAAAAAAAACxF0AAAAAAACAAHEXAAAAAAAAIEDcBQAAAAAAAAgQdwEAAAAAAAACxF0AAAAAAACA\n",
       "AHEXAAAAAAAAIEDcBQAAAAAAAAgQdwEAAAAAAAACxF0AAAAAAACAAHEXAAAAAAAAIEDcBQAAAAAA\n",
       "AAgQdwEAAAAAAAACxF0AAAAAAACAAHEXAAAAAAAAIEDcBQAAAAAAAAgQdwEAAAAAAAACxF0AAAAA\n",
       "AACAAHEXAAAAAAAAIEDcBQAAAAAAAAgQdwEAAAAAAAACxF0AAAAAAACAAHEXAAAAAAAAIEDcBQAA\n",
       "AAAAAAgQdwEAAAAAAAACxF0AAAAAAACAAHEXAAAAAAAAIEDcBQAAAAAAAAgQdwEAAAAAAAACxF0A\n",
       "AAAAAACAAHEXAAAAAAAAIEDcBQAAAAAAAAgQdwEAAAAAAAACxF0AAAAAAACAAHEXAAAAAAAAIEDc\n",
       "BQAAAAAAAAgQdwEAAAAAAAACxF0AAAAAAACAAHEXAAAAAAAAIEDcBQAAAAAAAAgQdwEAAAAAAAAC\n",
       "xF0AAAAAAACAAHEXAAAAAAAAIEDcBQAAAAAAAAgQdwEAAAAAAAACxF0AAAAAAACAAHEXAAAAAAAA\n",
       "IEDcBQAAAAAAAAgQdwEAAAAAAAACxF0AAAAAAACAAHEXAAAAAAAAIEDcBQAAAAAAAAgQdwEAAAAA\n",
       "AAACxF0AAAAAAACAAHEXAAAAAAAAIEDcBQAAAAAAAAgQdwEAAAAAAAACxF0AAAAAAACAAHEXAAAA\n",
       "AAAAIEDcBQAAAAAAAAgQdwEAAAAAAAACxF0AAAAAAACAAHEXAAAAAAAAIEDcBQAAAAAAAAgQdwEA\n",
       "AAAAAAACxF0AAAAAAACAAHEXAAAAAAAAIEDcBQAAAAAAAAgQdwEAAAAAAAACxF0AAAAAAACAAHEX\n",
       "AAAAAAAAIEDcBQAAAAAAAAgQdwEAAAAAAAACxF0AAAAAAACAAHEXAAAAAAAAIEDcBQAAAAAAAAgQ\n",
       "dwEAAAAAAAACxF0AAAAAAACAAHEXAAAAAAAAIEDcBQAAAAAAAAgQdwEAAAAAAAACxF0AAAAAAACA\n",
       "AHEXAAAAAAAAIEDcBQAAAAAAAAgQdwEAAAAAAAACxF0AAAAAAACAAHEXAAAAAAAAIEDcBQAAAAAA\n",
       "AAgQdwEAAAAAAAACxF0AAAAAAACAAHEXAAAAAAAAIEDcBQAAAAAAAAgQdwEAAAAAAAACxF0AAAAA\n",
       "AACAAHEXAAAAAAAAIEDcBQAAAAAAAAgQdwEAAAAAAAACxF0AAAAAAACAAHEXAAAAAAAAIEDcBQAA\n",
       "AAAAAAgQdwEAAAAAAAACxF0AAAAAAACAAHEXAAAAAAAAIEDcBQAAAAAAAAgQdwEAAAAAAAACxF0A\n",
       "AAAAAACAAHEXAAAAAAAAIEDcBQAAAAAAAAgQdwEAAAAAAAACxF0AAAAAAACAAHEXAAAAAAAAIEDc\n",
       "BQAAAAAAAAgQdwEAAAAAAAACxF0AAAAAAACAgBffPn56nj0CON+f/eXsCcCA3/98u1B0OC6zJwAD\n",
       "Xi7H2ROAAdevnmZPAAa83fh2oWi1Os2eAJzJy10AAAAAAACAAHEXAAAAAAAAIEDcBQAAAAAAAAgQ\n",
       "dwEAAAAAAAACxF0AAAAAAACAAHEXAAAAAAAAIEDcBQAAAAAAAAgQdwEAAAAAAAACxF0AAAAAAACA\n",
       "AHEXAAAAAAAAIEDcBQAAAAAAAAgQdwEAAAAAAAACxF0AAAAAAACAAHEXAAAAAAAAIEDcBQAAAAAA\n",
       "AAgQdwEAAAAAAAACxF0AAAAAAACAAHEXAAAAAAAAIEDcBQAAAAAAAAgQdwEAAAAAAAACxF0AAAAA\n",
       "AACAAHEXAAAAAAAAIEDcBQAAAAAAAAgQdwEAAAAAAAACxF0AAAAAAACAAHEXAAAAAAAAIEDcBQAA\n",
       "AAAAAAgQdwEAAAAAAAACxF0AAAAAAACAAHEXAAAAAAAAIEDcBQAAAAAAAAgQdwEAAAAAAAACxF0A\n",
       "AAAAAACAAHEXAAAAAAAAIEDcBQAAAAAAAAgQdwEAAAAAAAACxF0AAAAAAACAAHEXAAAAAAAAIEDc\n",
       "BQAAAAAAAAgQdwEAAAAAAAACxF0AAAAAAACAAHEXAAAAAAAAIEDcBQAAAAAAAAgQdwEAAAAAAAAC\n",
       "xF0AAAAAAACAAHEXAAAAAAAAIEDcBQAAAAAAAAgQdwEAAAAAAAACxF0AAAAAAACAAHEXAAAAAAAA\n",
       "IEDcBQAAAAAAAAgQdwEAAAAAAAACxF0AAAAAAACAAHEXAAAAAAAAIEDcBQAAAAAAAAgQdwEAAAAA\n",
       "AAACxF0AAAAAAACAAHEXAAAAAAAAIEDcBQAAAAAAAAgQdwEAAAAAAAACxF0AAAAAAACAAHEXAAAA\n",
       "AAAAIEDcBQAAAAAAAAgQdwEAAAAAAAACxF0AAAAAAACAAHEXAAAAAAAAIEDcBQAAAAAAAAgQdwEA\n",
       "AAAAAAACxF0AAAAAAACAAHEXAAAAAAAAIEDcBQAAAAAAAAgQdwEAAAAAAAACxF0AAAAAAACAAHEX\n",
       "AAAAAAAAIEDcBQAAAAAAAAgQdwEAAAAAAAACxF0AAAAAAACAAHEXAAAAAAAAIEDcBQAAAAAAAAgQ\n",
       "dwEAAAAAAAACxF0AAAAAAACAAHEXAAAAAAAAIEDcBQAAAAAAAAgQdwEAAAAAAAACxF0AAAAAAACA\n",
       "AHEXAAAAAAAAIEDcBQAAAAAAAAgQdwEAAAAAAAACxF0AAAAAAACAAHEXAAAAAAAAIEDcBQAAAAAA\n",
       "AAgQdwEAAAAAAAACxF0AAAAAAACAAHEXAAAAAAAAIEDcBQAAAAAAAAgQdwEAAAAAAAACxF0AAAAA\n",
       "AACAAHEXAAAAAAAAIEDcBQAAAAAAAAgQdwEAAAAAAAACxF0AAAAAAACAAHEXAAAAAAAAIEDcBQAA\n",
       "AAAAAAgQdwEAAAAAAAACxF0AAAAAAACAAHEXAAAAAAAAIEDcBQAAAAAAAAgQdwEAAAAAAAACxF0A\n",
       "AAAAAACAAHEXAAAAAAAAIEDcBQAAAAAAAAgQdwEAAAAAAAACxF0AAAAAAACAAHEXAAAAAAAAIEDc\n",
       "BQAAAAAAAAgQdwEAAAAAAAACxF0AAAAAAACAAHEXAAAAAAAAIEDcBQAAAAAA4H/7dmzSABRAUZSA\n",
       "GBKwCFGwcQdxA0s3dBNLN3AJG0FFRQgEkThDfvO5eM4Er788IEDcBQAAAAAAAAgQdwEAAAAAAAAC\n",
       "xF0AAAAAAACAAHEXAAAAAAAAIEDcBQAAAAAAAAgQdwEAAAAAAAACxF0AAAAAAACAAHEXAAAAAAAA\n",
       "IEDcBQAAAAAAAAgQdwEAAAAAAAACxF0AAAAAAACAAHEXAAAAAAAAIEDcBQAAAAAAAAgQdwEAAAAA\n",
       "AAACxF0AAAAAAACAAHEXAAAAAAAAIEDcBQAAAAAAAAg4WS33szcAA7abz9kTgAHXF++zJwADlpvv\n",
       "2ROAAfuPs9kTgAFfr9vZE4ABu91q9gQA+Bc8dwEAAAAAAAACxF0AAAAAAACAAHEXAAAAAAAAIEDc\n",
       "BQAAAAAAAAgQdwEAAAAAAAACxF0AAAAAAACAAHEXAAAAAAAAIEDcBQAAAAAAAAgQdwEAAAAAAAAC\n",
       "xF0AAAAAAACAAHEXAAAAAAAAIEDcBQAAAAAAAAgQdwEAAAAAAAACxF0AAAAAAACAAHEXAAAAAAAA\n",
       "IEDcBQAAAAAAAAgQdwEAAAAAAAACxF0AAAAAAACAAHEXAAAAAAAAIEDcBQAAAAAAAAgQdwEAAAAA\n",
       "AAACxF0AAAAAAACAAHEXAAAAAAAAIEDcBQAAAAAAAAgQdwEAAAAAAAACxF0AAAAAAACAAHEXAAAA\n",
       "AAAAIEDcBQAAAAAAAAgQdwEAAAAAAAACxF0AAAAAAACAAHEXAAAAAAAAIEDcBQAAAAAAAAgQdwEA\n",
       "AAAAAAACxF0AAAAAAACAAHEXAAAAAAAAIEDcBQAAAAAAAAgQdwEAAAAAAAACxF0AAAAAAACAAHEX\n",
       "AAAAAAAAIEDcBQAAAAAAAAgQdwEAAAAAAAACxF0AAAAAAACAAHEXAAAAAAAAIEDcBQAAAAAAAAgQ\n",
       "dwEAAAAAAAACxF0AAAAAAACAAHEXAAAAAAAAIEDcBQAAAAAAAAgQdwEAAAAAAAACxF0AAAAAAACA\n",
       "AHEXAAAAAAAAIEDcBQAAAAAAAAgQdwEAAAAAAAACxF0AAAAAAACAAHEXAAAAAAAAIEDcBQAAAAAA\n",
       "AAgQdwEAAAAAAAACxF0AAAAAAACAAHEXAAAAAAAAIEDcBQAAAAAAAAgQdwEAAAAAAAACxF0AAAAA\n",
       "AACAAHEXAAAAAAAAIEDcBQAAAAAAAAgQdwEAAAAAAAACxF0AAAAAAACAAHEXAAAAAAAAIEDcBQAA\n",
       "AAAAAAgQdwEAAAAAAAACxF0AAAAAAACAAHEXAAAAAAAAIEDcBQAAAAAAAAgQdwEAAAAAAAACxF0A\n",
       "AAAAAACAAHEXAAAAAAAAIEDcBQAAAAAAAAgQdwEAAAAAAAACxF0AAAAAAACAAHEXAAAAAAAAIEDc\n",
       "BQAAAAAAAAgQdwEAAAAAAAACxF0AAAAAAACAAHEXAAAAAAAAIEDcBQAAAAAAAAgQdwEAAAAAAAAC\n",
       "xF0AAAAAAACAAHEXAAAAAAAAIEDcBQAAAAAAAAgQdwEAAAAAAAACxF0AAAAAAACAAHEXAAAAAAAA\n",
       "IEDcBQAAAAAAAAgQdwEAAAAAAAACxF0AAAAAAACAAHEXAAAAAAAAIEDcBQAAAAAAAAgQdwEAAAAA\n",
       "AAACxF0AAAAAAACAAHEXAAAAAAAAIEDcBQAAAAAAAAgQdwEAAAAAAAACxF0AAAAAAACAAHEXAAAA\n",
       "AAAAIEDcBQAAAAAAAAgQdwEAAAAAAAACxF0AAAAAAACAAHEXAAAAAAAAIEDcBQAAAAAAAAgQdwEA\n",
       "AAAAAAACxF0AAAAAAACAAHEXAAAAAAAAIEDcBQAAAAAAAAgQdwEAAAAAAAACxF0AAAAAAACAAHEX\n",
       "AAAAAAAAIEDcBQAAAAAAAAgQdwEAAAAAAAACxF0AAAAAAACAAHEXAAAAAAAAIEDcBQAAAAAAAAgQ\n",
       "dwEAAAAAAAACxF0AAAAAAACAAHEXAAAAAAAAIEDcBQAAAAAAAAgQdwEAAAAAAAACxF0AAAAAAACA\n",
       "AHEXAAAAAAAAIEDcBQAAAAAAAAgQdwEAAAAAAAACxF0AAAAAAACAAHEXAAAAAAAAIEDcBQAAAAAA\n",
       "AAgQdwEAAAAAAAACxF0AAAAAAACAAHEXAAAAAAAAIEDcBQAAAAAAAAgQdwEAAAAAAAACFj/3p4fZ\n",
       "I4DjLa7OZ08ABuxu7mZPAAasL29nTwAG7F4eZ08ABqyfHmZPAAYcnt9mTwBG/M4eABzLcxcAAAAA\n",
       "AAAgQNwFAAAAAAAACBB3AQAAAAAAAALEXQAAAAAAAIAAcRcAAAAAAAAgQNwFAAAAAAAACBB3AQAA\n",
       "AAAAAALEXQAAAAAAAIAAcRcAAAAAAAAgQNwFAAAAAAAACBB3AQAAAAAAAALEXQAAAAAAAIAAcRcA\n",
       "AAAAAAAgQNwFAAAAAAAACBB3AQAAAAAAAALEXQAAAAAAAIAAcRcAAAAAAAAgQNwFAAAAAAAACBB3\n",
       "AQAAAAAAAALEXQAAAAAAAIAAcRcAAAAAAAAgQNwFAAAAAAAACBB3AQAAAAAAAALEXQAAAAAAAIAA\n",
       "cRcAAAAAAAAgQNwFAAAAAAAACBB3AQAAAAAAAALEXQAAAAAAAIAAcRcAAAAAAAAgQNwFAAAAAAAA\n",
       "CBB3AQAAAAAAAALEXQAAAAAAAIAAcRcAAAAAAAAgQNwFAAAAAAAACBB3AQAAAAAAAALEXQAAAAAA\n",
       "AIAAcRcAAAAAAAAgQNwFAAAAAAAACBB3AQAAAAAAAALEXQAAAAAAAIAAcRcAAAAAAAAgQNwFAAAA\n",
       "AAAACBB3AQAAAAAAAALEXQAAAAAAAIAAcRcAAAAAAAAgQNwFAAAAAAAACBB3AQAAAAAAAALEXQAA\n",
       "AAAAAIAAcRcAAAAAAAAgQNwFAAAAAAAACBB3AQAAAAAAAALEXQAAAAAAAIAAcRcAAAAAAAAgQNwF\n",
       "AAAAAAAACBB3AQAAAAAAAALEXQAAAAAAAIAAcRcAAAAAAAAgQNwFAAAAAAAACBB3AQAAAAAAAALE\n",
       "XQAAAAAAAIAAcRcAAAAAAAAgQNwFAAAAAAAACBB3AQAAAAAAAALEXQAAAAAAAIAAcRcAAAAAAAAg\n",
       "QNwFAAAAAAAACBB3AQAAAAAAAALEXQAAAAAAAIAAcRcAAAAAAAAgQNwFAAAAAAAACBB3AQAAAAAA\n",
       "AALEXQAAAAAAAIAAcRcAAAAAAAAgQNwFAAAAAAAACBB3AQAAAAAAAALEXQAAAAAAAIAAcRcAAAAA\n",
       "AAAgQNwFAAAAAAAACBB3AQAAAAAAAALEXQAAAAAAAIAAcRcAAAAAAAAgQNwFAAAAAAAACBB3AQAA\n",
       "AAAAAALEXQAAAAAAAIAAcRcAAAAAAAAgQNwFAAAAAAAACBB3AQAAAAAAAALEXQAAAAAAAIAAcRcA\n",
       "AAAAAAAgQNwFAAAAAAAACBB3AQAAAAAAAALEXQAAAAAAAIAAcRcAAAAAAAAgQNwFAAAAAAAACBB3\n",
       "AQAAAAAAAALEXQAAAAAAAIAAcRcAAAAAAAAgQNwFAAAAAAAACBB3AQAAAAAAAALEXQAAAAAAAIAA\n",
       "cRcAAAAAAAAgQNwFAAAAAAAACBB3AQAAAAAAAALEXQAAAAAAAIAAcRcAAAAAAAAgQNwFAAAAAAAA\n",
       "CBB3AQAAAAAAAALEXQAAAAAAAIAAcRcAAAAAAAAgQNwFAAAAAAAACBB3AQAAAAAAAALEXQAAAAAA\n",
       "AIAAcRcAAAAAAAAgQNwFAAAAAAAACBB3AQAAAAAAAALEXQAAAAAAAIAAcRcAAAAAAAAgQNwFAAAA\n",
       "AAAACBB3AQAAAAAAAALEXQAAAAAAAIAAcRcAAAAAAAAgQNwFAAAAAAAACBB3AQAAAAAAAALEXQAA\n",
       "AAAAAIAAcRcAAAAAAAAgQNwFAAAAAAAACBB3AQAAAAAAAALEXQAAAAAAAIAAcRcAAAAAAAAgQNwF\n",
       "AAAAAAAACBB3AQAAAAAAAALEXQAAAAAAAIAAcRcAAAAAAAAgQNwFAAAAAAAACBB3AQAAAAAAAALE\n",
       "XQAAAAAAAICAP+o8f41jX1eXAAAAAElFTkSuQmCC\n",
       "\" transform=\"translate(202, 47)\"/>\n",
       "</g>\n",
       "<defs>\n",
       "  <clipPath id=\"clip513\">\n",
       "    <rect x=\"2160\" y=\"47\" width=\"73\" height=\"1377\"/>\n",
       "  </clipPath>\n",
       "</defs>\n",
       "<g clip-path=\"url(#clip513)\">\n",
       "<image width=\"72\" height=\"1376\" xlink:href=\"data:image/png;base64,\n",
       "iVBORw0KGgoAAAANSUhEUgAAAEgAAAVgCAYAAADsKhu7AAAL6UlEQVR4nO3dwZEjNxBFQVBR/lsh\n",
       "L6UFZIHqHclDpgUTL35wCXTP7Off+/c7/K+/vv0D/DqBgkBBoCBQmPv+/fbP8NMsKAgUBAoChXnv\n",
       "z7d/hp9mQUGgIFAQKAgUHDWCBQWBgkBBoDDPh/TKgoJAQaAgUJh3fUhvLCgIFAQKAgWBgqNGsKAg\n",
       "UBAoCBR8SAcLCgIFgYJAwX1QsKAgUBAoCBQECnMcNVYWFAQKAgWBgvugYEFBoCBQECgIFOa4MFtZ\n",
       "UBAoCBQECnPuP9/+GX6aBQWBgkBBoODSPlhQECgIFAQKAgX3QcGCgkBBoCBQ8CEdLCgIFAQKAgX3\n",
       "QcGCgkBBoCBQECjMx1FjZUFBoCBQECjMuf5XhI0FBYGCQEGgIFBw1AgWFAQKAgWBgqNGsKAgUBAo\n",
       "CBS8HxQsKAgUBAoCBYHCfBw1VhYUBAoCBYGCt1yDBQWBgkBBoOCbdLCgIFAQKAgUBAoePQcLCgIF\n",
       "gYJAwVEjWFAQKAgUBAoCBUeNYEFBoCBQECg4agQLCgIFgYJAYc693/4ZfpoFBYGCQEGgIFBw1AgW\n",
       "FAQKAgWBgkv7YEFBoCBQECj4kA4WFAQKAgWBgkBhPp5qrCwoCBQECgIFR41gQUGgIFAQKAgUvEAV\n",
       "LCgIFAQKAgX3QcGCgkBBoCBQcB8ULCgIFAQKAgWBgvugYEFBoCBQECj4kA4WFAQKAgWBgl/qDRYU\n",
       "BAoCBYGCQMFRI1hQECgIFAQKPqSDBQWBgkBBoCBQ8K9YsKAgUBAoCBR8SAcLCgIFgYJAYc7zIb2x\n",
       "oCBQECgIFAQKjhrBgoJAQaAgUPAhHSwoCBQECgIFH9LBgoJAQaAgUBAozLnv2z/DT7OgIFAQKAgU\n",
       "HDWCBQWBgkBBoCBQcNQIFhQECgIFgYKjRrCgIFAQKAgUfJMOFhQECgIFgYJAYY6TxsqCgkBBoCBQ\n",
       "mPMcNTYWFAQKAgWBgm/SwYKCQEGgIFAQKPhXLFhQECgIFAQK44/g7SwoCBQECgIFgYKjRrCgIFAQ\n",
       "KAgUfEgHCwoCBYGCQGHO/Xz7Z/hpFhQECgIFgYJAYd7zr9jGgoJAQaAgUHAfFCwoCBQECgIF90HB\n",
       "goJAQaAgUBAozLsabdQJAgWBgkDBUSNYUBAoCBQECgKFOR49rywoCBQECgKFeY4aKwsKAgWBgkBh\n",
       "jkv7lTpBoCBQECgIFBw1ggUFgYJAQaDg0j5YUBAoCBQECl7iDOoEgYJAQaAgUPCWa7CgIFAQKAgU\n",
       "XNoHCwoCBYGCQEGgMO9ptFEnCBQECgIF90HBgoJAQaAgUHAfFCwoCBQECgIFgcIc90ErdYJAQaAg\n",
       "UHDUCBYUBAoCBYGCD+lgQUGgIFAQKAgU/NZzsKAgUBAoCBT81nNQJwgUBAoCBYHCPEeNlQUFgYJA\n",
       "QaDgqUawoCBQECgIFPyvCEGdIFAQKAgUBArug4IFBYGCQEGg4D4oWFAQKAgUBAq+SQcLCgIFgYJA\n",
       "QaDgLdegThAoCBQECo4awYKCQEGgIFAQKHiqESwoCBQECgIFR41gQUGgIFAQKPiva4IFBYGCQEGg\n",
       "IFDwv2QGdYJAQaAgUHAfFCwoCBQECgIFT1aDBQWBgkBBoCBQcNQIFhQECgIFgcJcH9IrCwoCBYGC\n",
       "QEGg4LeegzpBoCBQECi4DwoWFAQKAgWBgg/pYEFBoCBQECgIFLxAFSwoCBQECgIFR41gQUGgIFAQ\n",
       "KPiQDhYUBAoCBYGCQMGfpgjqBIGCQEGgMNel/cqCgkBBoCBQECi4MAsWFAQKAgWBgg/pYEFBoCBQ\n",
       "ECj4kA4WFAQKAgWBgkDBH1gKFhQECgIFgYKjRrCgIFAQKAgUfEgHCwoCBYGCQEGg4FcRgjpBoCBQ\n",
       "ECj4VYRgQUGgIFAQKAgUXJgFCwoCBYGCQMGHdLCgIFAQKAgUvMQZLCgIFAQKAgWBgqNGsKAgUBAo\n",
       "CBTmHR/SGwsKAgWBgkDBfVCwoCBQECgIFAQK7oOCBQWBgkBBoOCoESwoCBQECgIFgYKjRrCgIFAQ\n",
       "KAgUHDWCBQWBgkBBoOCbdLCgIFAQKAgUBAr+FQsWFAQKAgWBwly/irCyoCBQECgIFHyTDhYUBAoC\n",
       "BYGCQMGj52BBQaAgUBAozHvf/hF+mwUFgYJAQaAgUHDUCBYUBAoCBYGCv4IXLCgIFAQKAgXfpIMF\n",
       "BYGCQEGgIFDwAlWwoCBQECgIFPwqQrCgIFAQKAgUvB8ULCgIFAQKAgWBgqcawYKCQEGgIFBwaR8s\n",
       "KAgUBAoCBYGCpxrBgoJAQaAgUHAfFCwoCBQECgIFj56DBQWBgkBBoCBQcB8ULCgIFAQKAgWPnoMF\n",
       "BYGCQEGgMPfbP8GPs6AgUBAoCBQECo4awYKCQEGgIFDwflCwoCBQECgIFAQKLsyCBQWBgkBBoOA+\n",
       "KFhQECgIFAQKvkkHCwoCBYGCQEGg4KgRLCgIFAQKAgWPnoMFBYGCQEGgMP4yxc6CgkBBoCBQECg4\n",
       "agQLCgIFgYJAwaPnYEFBoCBQECgIFDx6DhYUBAoCBYGCo0awoCBQECgIFHyTDhYUBAoCBYGCQGGu\n",
       "N6hWFhQECgIFgYL7oGBBQaAgUBAouA8KFhQECgIFgYJAwVEjWFAQKAgUBArzXNqvLCgIFAQKAgWB\n",
       "wtzjwmxjQUGgIFAQKHg/KFhQECgIFAQK/gpesKAgUBAoCBQECv4KXrCgIFAQKAgUPHoOFhQECgIF\n",
       "gYKXOIMFBYGCQEGgIFDwC3XBgoJAQaAgUHDUCBYUBAoCBYGCQMFbrsGCgkBBoCBQ8JZrsKAgUBAo\n",
       "CBR8kw4WFAQKAgWBgkDBW67BgoJAQaAgUPD3g4IFBYGCQEGg4D4oWFAQKAgUBAoCBY+egwUFgYJA\n",
       "QaDgqBEsKAgUBAoCBYGCo0awoCBQECgIFBw1ggUFgYJAQaDgQzpYUBAoCBQECgIF90HBgoJAQaAg\n",
       "UHDUCBYUBAoCBYGCb9LBgoJAQaAgUBAoOGoECwoCBYGCQMHfDwoWFAQKAgWBgkDB/+0TLCgIFAQK\n",
       "AgX3QcGCgkBBoCBQmHd8Sm8sKAgUBAoCBYGCo0awoCBQECgIFDx6DhYUBAoCBYGCJ6vBgoJAQaAg\n",
       "UBAouA8KFhQECgIFgYJHz8GCgkBBoCBQECg4agQLCgIFgYJAwR9YChYUBAoCBYHCXC8IrSwoCBQE\n",
       "CgIFgYIXqIIFBYGCQEGgMM9RY2VBQaAgUBAo+CYdLCgIFAQKAgWBgqcawYKCQEGgIFDwflCwoCBQ\n",
       "ECgIFAQKc/1C3cqCgkBBoCBQcB8ULCgIFAQKAgV/miJYUBAoCBQECgIFL1AFCwoCBYGCQMGlfbCg\n",
       "IFAQKAgU3AcFCwoCBYGCQEGgMPe4EdpYUBAoCBQECu6DggUFgYJAQaAgUPCvWLCgIFAQKAgUPNUI\n",
       "FhQECgIFgYJL+2BBQaAgUBAoCBTmfhw1NhYUBAoCBYGCo0awoCBQECgIFOb5kF5ZUBAoCBQECgIF\n",
       "R41gQUGgIFAQKMz9+JDeWFAQKAgUBAoCBUeNYEFBoCBQECh4qhEsKAgUBAoCBd+kgwUFgYJAQaAg\n",
       "UPCvWLCgIFAQKAgUPHoOFhQECgIFgcK88+fbP8NPs6AgUBAoCBQECu6DggUFgYJAQaDg/aBgQUGg\n",
       "IFAQKAgU5j4XZhsLCgIFgYJAwVEjWFAQKAgUBApzPXpeWVAQKAgUBAoCBUeNYEFBoCBQECg4agQL\n",
       "CgIFgYJAYd7zTXpjQUGgIFAQKAgU3AcFCwoCBYGCQMFLnMGCgkBBoCBQECg4agQLCgIFgYJAYZ6j\n",
       "xsqCgkBBoCBQ8E06WFAQKAgUBAoChbleoFpZUBAoCBQECv7gdrCgIFAQKAgU/CpCsKAgUBAoCBQE\n",
       "Cp5qBAsKAgWBgkDBUSNYUBAoCBQECgIF/4oFCwoCBYGCQMGj52BBQaAgUBAo+CYdLCgIFAQKAgWB\n",
       "whyPnlcWFAQKAgWBgqNGsKAgUBAoCBS8xBksKAgUBAoCBYHCHEeNlQUFgYJAQaDg/aBgQUGgIFAQ\n",
       "KAgUPHoOFhQECgIFgYL7oGBBQaAgUBAozDvv2z/DT7OgIFAQKAgUBArug4IFBYGCQEGgMMdRY2VB\n",
       "QaAgUBAo/AdhU+3PqlcPeQAAAABJRU5ErkJggg==\n",
       "\" transform=\"translate(2161, 47)\"/>\n",
       "</g>\n",
       "<path clip-path=\"url(#clip510)\" d=\"M2280.7 1188.04 Q2277.09 1188.04 2275.26 1191.61 Q2273.45 1195.15 2273.45 1202.28 Q2273.45 1209.38 2275.26 1212.95 Q2277.09 1216.49 2280.7 1216.49 Q2284.33 1216.49 2286.14 1212.95 Q2287.97 1209.38 2287.97 1202.28 Q2287.97 1195.15 2286.14 1191.61 Q2284.33 1188.04 2280.7 1188.04 M2280.7 1184.34 Q2286.51 1184.34 2289.57 1188.94 Q2292.64 1193.53 2292.64 1202.28 Q2292.64 1211 2289.57 1215.61 Q2286.51 1220.19 2280.7 1220.19 Q2274.89 1220.19 2271.81 1215.61 Q2268.76 1211 2268.76 1202.28 Q2268.76 1193.53 2271.81 1188.94 Q2274.89 1184.34 2280.7 1184.34 Z\" fill=\"#000000\" fill-rule=\"nonzero\" fill-opacity=\"1\" /><path clip-path=\"url(#clip510)\" d=\"M2300.86 1213.64 L2305.75 1213.64 L2305.75 1219.52 L2300.86 1219.52 L2300.86 1213.64 Z\" fill=\"#000000\" fill-rule=\"nonzero\" fill-opacity=\"1\" /><path clip-path=\"url(#clip510)\" d=\"M2325.93 1188.04 Q2322.32 1188.04 2320.49 1191.61 Q2318.69 1195.15 2318.69 1202.28 Q2318.69 1209.38 2320.49 1212.95 Q2322.32 1216.49 2325.93 1216.49 Q2329.57 1216.49 2331.37 1212.95 Q2333.2 1209.38 2333.2 1202.28 Q2333.2 1195.15 2331.37 1191.61 Q2329.57 1188.04 2325.93 1188.04 M2325.93 1184.34 Q2331.74 1184.34 2334.8 1188.94 Q2337.88 1193.53 2337.88 1202.28 Q2337.88 1211 2334.8 1215.61 Q2331.74 1220.19 2325.93 1220.19 Q2320.12 1220.19 2317.04 1215.61 Q2313.99 1211 2313.99 1202.28 Q2313.99 1193.53 2317.04 1188.94 Q2320.12 1184.34 2325.93 1184.34 Z\" fill=\"#000000\" fill-rule=\"nonzero\" fill-opacity=\"1\" /><path clip-path=\"url(#clip510)\" d=\"M2346.9 1215.59 L2354.54 1215.59 L2354.54 1189.22 L2346.23 1190.89 L2346.23 1186.63 L2354.5 1184.96 L2359.17 1184.96 L2359.17 1215.59 L2366.81 1215.59 L2366.81 1219.52 L2346.9 1219.52 L2346.9 1215.59 Z\" fill=\"#000000\" fill-rule=\"nonzero\" fill-opacity=\"1\" /><path clip-path=\"url(#clip510)\" d=\"M2280.7 970.725 Q2277.09 970.725 2275.26 974.29 Q2273.45 977.832 2273.45 984.961 Q2273.45 992.068 2275.26 995.632 Q2277.09 999.174 2280.7 999.174 Q2284.33 999.174 2286.14 995.632 Q2287.97 992.068 2287.97 984.961 Q2287.97 977.832 2286.14 974.29 Q2284.33 970.725 2280.7 970.725 M2280.7 967.021 Q2286.51 967.021 2289.57 971.628 Q2292.64 976.211 2292.64 984.961 Q2292.64 993.688 2289.57 998.294 Q2286.51 1002.88 2280.7 1002.88 Q2274.89 1002.88 2271.81 998.294 Q2268.76 993.688 2268.76 984.961 Q2268.76 976.211 2271.81 971.628 Q2274.89 967.021 2280.7 967.021 Z\" fill=\"#000000\" fill-rule=\"nonzero\" fill-opacity=\"1\" /><path clip-path=\"url(#clip510)\" d=\"M2300.86 996.327 L2305.75 996.327 L2305.75 1002.21 L2300.86 1002.21 L2300.86 996.327 Z\" fill=\"#000000\" fill-rule=\"nonzero\" fill-opacity=\"1\" /><path clip-path=\"url(#clip510)\" d=\"M2325.93 970.725 Q2322.32 970.725 2320.49 974.29 Q2318.69 977.832 2318.69 984.961 Q2318.69 992.068 2320.49 995.632 Q2322.32 999.174 2325.93 999.174 Q2329.57 999.174 2331.37 995.632 Q2333.2 992.068 2333.2 984.961 Q2333.2 977.832 2331.37 974.29 Q2329.57 970.725 2325.93 970.725 M2325.93 967.021 Q2331.74 967.021 2334.8 971.628 Q2337.88 976.211 2337.88 984.961 Q2337.88 993.688 2334.8 998.294 Q2331.74 1002.88 2325.93 1002.88 Q2320.12 1002.88 2317.04 998.294 Q2313.99 993.688 2313.99 984.961 Q2313.99 976.211 2317.04 971.628 Q2320.12 967.021 2325.93 967.021 Z\" fill=\"#000000\" fill-rule=\"nonzero\" fill-opacity=\"1\" /><path clip-path=\"url(#clip510)\" d=\"M2350.12 998.271 L2366.44 998.271 L2366.44 1002.21 L2344.5 1002.21 L2344.5 998.271 Q2347.16 995.517 2351.74 990.887 Q2356.35 986.234 2357.53 984.892 Q2359.77 982.369 2360.65 980.632 Q2361.56 978.873 2361.56 977.183 Q2361.56 974.429 2359.61 972.693 Q2357.69 970.957 2354.59 970.957 Q2352.39 970.957 2349.94 971.72 Q2347.51 972.484 2344.73 974.035 L2344.73 969.313 Q2347.55 968.179 2350.01 967.6 Q2352.46 967.021 2354.5 967.021 Q2359.87 967.021 2363.06 969.707 Q2366.26 972.392 2366.26 976.882 Q2366.26 979.012 2365.45 980.933 Q2364.66 982.832 2362.55 985.424 Q2361.97 986.095 2358.87 989.313 Q2355.77 992.507 2350.12 998.271 Z\" fill=\"#000000\" fill-rule=\"nonzero\" fill-opacity=\"1\" /><path clip-path=\"url(#clip510)\" d=\"M2280.7 753.41 Q2277.09 753.41 2275.26 756.975 Q2273.45 760.516 2273.45 767.646 Q2273.45 774.752 2275.26 778.317 Q2277.09 781.859 2280.7 781.859 Q2284.33 781.859 2286.14 778.317 Q2287.97 774.752 2287.97 767.646 Q2287.97 760.516 2286.14 756.975 Q2284.33 753.41 2280.7 753.41 M2280.7 749.706 Q2286.51 749.706 2289.57 754.313 Q2292.64 758.896 2292.64 767.646 Q2292.64 776.373 2289.57 780.979 Q2286.51 785.562 2280.7 785.562 Q2274.89 785.562 2271.81 780.979 Q2268.76 776.373 2268.76 767.646 Q2268.76 758.896 2271.81 754.313 Q2274.89 749.706 2280.7 749.706 Z\" fill=\"#000000\" fill-rule=\"nonzero\" fill-opacity=\"1\" /><path clip-path=\"url(#clip510)\" d=\"M2300.86 779.012 L2305.75 779.012 L2305.75 784.891 L2300.86 784.891 L2300.86 779.012 Z\" fill=\"#000000\" fill-rule=\"nonzero\" fill-opacity=\"1\" /><path clip-path=\"url(#clip510)\" d=\"M2325.93 753.41 Q2322.32 753.41 2320.49 756.975 Q2318.69 760.516 2318.69 767.646 Q2318.69 774.752 2320.49 778.317 Q2322.32 781.859 2325.93 781.859 Q2329.57 781.859 2331.37 778.317 Q2333.2 774.752 2333.2 767.646 Q2333.2 760.516 2331.37 756.975 Q2329.57 753.41 2325.93 753.41 M2325.93 749.706 Q2331.74 749.706 2334.8 754.313 Q2337.88 758.896 2337.88 767.646 Q2337.88 776.373 2334.8 780.979 Q2331.74 785.562 2325.93 785.562 Q2320.12 785.562 2317.04 780.979 Q2313.99 776.373 2313.99 767.646 Q2313.99 758.896 2317.04 754.313 Q2320.12 749.706 2325.93 749.706 Z\" fill=\"#000000\" fill-rule=\"nonzero\" fill-opacity=\"1\" /><path clip-path=\"url(#clip510)\" d=\"M2360.26 766.257 Q2363.62 766.975 2365.49 769.243 Q2367.39 771.512 2367.39 774.845 Q2367.39 779.961 2363.87 782.762 Q2360.35 785.562 2353.87 785.562 Q2351.7 785.562 2349.38 785.123 Q2347.09 784.706 2344.64 783.85 L2344.64 779.336 Q2346.58 780.47 2348.89 781.049 Q2351.21 781.627 2353.73 781.627 Q2358.13 781.627 2360.42 779.891 Q2362.74 778.155 2362.74 774.845 Q2362.74 771.789 2360.58 770.076 Q2358.45 768.34 2354.64 768.34 L2350.61 768.34 L2350.61 764.498 L2354.82 764.498 Q2358.27 764.498 2360.1 763.132 Q2361.93 761.743 2361.93 759.151 Q2361.93 756.489 2360.03 755.077 Q2358.15 753.641 2354.64 753.641 Q2352.71 753.641 2350.51 754.058 Q2348.32 754.475 2345.68 755.354 L2345.68 751.188 Q2348.34 750.447 2350.65 750.077 Q2352.99 749.706 2355.05 749.706 Q2360.38 749.706 2363.48 752.137 Q2366.58 754.544 2366.58 758.664 Q2366.58 761.535 2364.94 763.526 Q2363.29 765.493 2360.26 766.257 Z\" fill=\"#000000\" fill-rule=\"nonzero\" fill-opacity=\"1\" /><path clip-path=\"url(#clip510)\" d=\"M2280.7 536.095 Q2277.09 536.095 2275.26 539.659 Q2273.45 543.201 2273.45 550.331 Q2273.45 557.437 2275.26 561.002 Q2277.09 564.544 2280.7 564.544 Q2284.33 564.544 2286.14 561.002 Q2287.97 557.437 2287.97 550.331 Q2287.97 543.201 2286.14 539.659 Q2284.33 536.095 2280.7 536.095 M2280.7 532.391 Q2286.51 532.391 2289.57 536.997 Q2292.64 541.581 2292.64 550.331 Q2292.64 559.058 2289.57 563.664 Q2286.51 568.247 2280.7 568.247 Q2274.89 568.247 2271.81 563.664 Q2268.76 559.058 2268.76 550.331 Q2268.76 541.581 2271.81 536.997 Q2274.89 532.391 2280.7 532.391 Z\" fill=\"#000000\" fill-rule=\"nonzero\" fill-opacity=\"1\" /><path clip-path=\"url(#clip510)\" d=\"M2300.86 561.696 L2305.75 561.696 L2305.75 567.576 L2300.86 567.576 L2300.86 561.696 Z\" fill=\"#000000\" fill-rule=\"nonzero\" fill-opacity=\"1\" /><path clip-path=\"url(#clip510)\" d=\"M2325.93 536.095 Q2322.32 536.095 2320.49 539.659 Q2318.69 543.201 2318.69 550.331 Q2318.69 557.437 2320.49 561.002 Q2322.32 564.544 2325.93 564.544 Q2329.57 564.544 2331.37 561.002 Q2333.2 557.437 2333.2 550.331 Q2333.2 543.201 2331.37 539.659 Q2329.57 536.095 2325.93 536.095 M2325.93 532.391 Q2331.74 532.391 2334.8 536.997 Q2337.88 541.581 2337.88 550.331 Q2337.88 559.058 2334.8 563.664 Q2331.74 568.247 2325.93 568.247 Q2320.12 568.247 2317.04 563.664 Q2313.99 559.058 2313.99 550.331 Q2313.99 541.581 2317.04 536.997 Q2320.12 532.391 2325.93 532.391 Z\" fill=\"#000000\" fill-rule=\"nonzero\" fill-opacity=\"1\" /><path clip-path=\"url(#clip510)\" d=\"M2358.94 537.09 L2347.14 555.539 L2358.94 555.539 L2358.94 537.09 M2357.71 533.016 L2363.59 533.016 L2363.59 555.539 L2368.52 555.539 L2368.52 559.428 L2363.59 559.428 L2363.59 567.576 L2358.94 567.576 L2358.94 559.428 L2343.34 559.428 L2343.34 554.914 L2357.71 533.016 Z\" fill=\"#000000\" fill-rule=\"nonzero\" fill-opacity=\"1\" /><path clip-path=\"url(#clip510)\" d=\"M2280.7 318.779 Q2277.09 318.779 2275.26 322.344 Q2273.45 325.886 2273.45 333.015 Q2273.45 340.122 2275.26 343.687 Q2277.09 347.228 2280.7 347.228 Q2284.33 347.228 2286.14 343.687 Q2287.97 340.122 2287.97 333.015 Q2287.97 325.886 2286.14 322.344 Q2284.33 318.779 2280.7 318.779 M2280.7 315.076 Q2286.51 315.076 2289.57 319.682 Q2292.64 324.266 2292.64 333.015 Q2292.64 341.742 2289.57 346.349 Q2286.51 350.932 2280.7 350.932 Q2274.89 350.932 2271.81 346.349 Q2268.76 341.742 2268.76 333.015 Q2268.76 324.266 2271.81 319.682 Q2274.89 315.076 2280.7 315.076 Z\" fill=\"#000000\" fill-rule=\"nonzero\" fill-opacity=\"1\" /><path clip-path=\"url(#clip510)\" d=\"M2300.86 344.381 L2305.75 344.381 L2305.75 350.261 L2300.86 350.261 L2300.86 344.381 Z\" fill=\"#000000\" fill-rule=\"nonzero\" fill-opacity=\"1\" /><path clip-path=\"url(#clip510)\" d=\"M2325.93 318.779 Q2322.32 318.779 2320.49 322.344 Q2318.69 325.886 2318.69 333.015 Q2318.69 340.122 2320.49 343.687 Q2322.32 347.228 2325.93 347.228 Q2329.57 347.228 2331.37 343.687 Q2333.2 340.122 2333.2 333.015 Q2333.2 325.886 2331.37 322.344 Q2329.57 318.779 2325.93 318.779 M2325.93 315.076 Q2331.74 315.076 2334.8 319.682 Q2337.88 324.266 2337.88 333.015 Q2337.88 341.742 2334.8 346.349 Q2331.74 350.932 2325.93 350.932 Q2320.12 350.932 2317.04 346.349 Q2313.99 341.742 2313.99 333.015 Q2313.99 324.266 2317.04 319.682 Q2320.12 315.076 2325.93 315.076 Z\" fill=\"#000000\" fill-rule=\"nonzero\" fill-opacity=\"1\" /><path clip-path=\"url(#clip510)\" d=\"M2346.14 315.701 L2364.5 315.701 L2364.5 319.636 L2350.42 319.636 L2350.42 328.108 Q2351.44 327.761 2352.46 327.599 Q2353.48 327.414 2354.5 327.414 Q2360.28 327.414 2363.66 330.585 Q2367.04 333.756 2367.04 339.173 Q2367.04 344.752 2363.57 347.853 Q2360.1 350.932 2353.78 350.932 Q2351.6 350.932 2349.33 350.562 Q2347.09 350.191 2344.68 349.451 L2344.68 344.752 Q2346.76 345.886 2348.99 346.441 Q2351.21 346.997 2353.69 346.997 Q2357.69 346.997 2360.03 344.89 Q2362.37 342.784 2362.37 339.173 Q2362.37 335.562 2360.03 333.455 Q2357.69 331.349 2353.69 331.349 Q2351.81 331.349 2349.94 331.766 Q2348.08 332.182 2346.14 333.062 L2346.14 315.701 Z\" fill=\"#000000\" fill-rule=\"nonzero\" fill-opacity=\"1\" /><path clip-path=\"url(#clip510)\" d=\"M2280.7 101.464 Q2277.09 101.464 2275.26 105.029 Q2273.45 108.571 2273.45 115.7 Q2273.45 122.807 2275.26 126.372 Q2277.09 129.913 2280.7 129.913 Q2284.33 129.913 2286.14 126.372 Q2287.97 122.807 2287.97 115.7 Q2287.97 108.571 2286.14 105.029 Q2284.33 101.464 2280.7 101.464 M2280.7 97.7606 Q2286.51 97.7606 2289.57 102.367 Q2292.64 106.95 2292.64 115.7 Q2292.64 124.427 2289.57 129.034 Q2286.51 133.617 2280.7 133.617 Q2274.89 133.617 2271.81 129.034 Q2268.76 124.427 2268.76 115.7 Q2268.76 106.95 2271.81 102.367 Q2274.89 97.7606 2280.7 97.7606 Z\" fill=\"#000000\" fill-rule=\"nonzero\" fill-opacity=\"1\" /><path clip-path=\"url(#clip510)\" d=\"M2300.86 127.066 L2305.75 127.066 L2305.75 132.946 L2300.86 132.946 L2300.86 127.066 Z\" fill=\"#000000\" fill-rule=\"nonzero\" fill-opacity=\"1\" /><path clip-path=\"url(#clip510)\" d=\"M2325.93 101.464 Q2322.32 101.464 2320.49 105.029 Q2318.69 108.571 2318.69 115.7 Q2318.69 122.807 2320.49 126.372 Q2322.32 129.913 2325.93 129.913 Q2329.57 129.913 2331.37 126.372 Q2333.2 122.807 2333.2 115.7 Q2333.2 108.571 2331.37 105.029 Q2329.57 101.464 2325.93 101.464 M2325.93 97.7606 Q2331.74 97.7606 2334.8 102.367 Q2337.88 106.95 2337.88 115.7 Q2337.88 124.427 2334.8 129.034 Q2331.74 133.617 2325.93 133.617 Q2320.12 133.617 2317.04 129.034 Q2313.99 124.427 2313.99 115.7 Q2313.99 106.95 2317.04 102.367 Q2320.12 97.7606 2325.93 97.7606 Z\" fill=\"#000000\" fill-rule=\"nonzero\" fill-opacity=\"1\" /><path clip-path=\"url(#clip510)\" d=\"M2356.67 113.802 Q2353.52 113.802 2351.67 115.955 Q2349.84 118.108 2349.84 121.858 Q2349.84 125.584 2351.67 127.76 Q2353.52 129.913 2356.67 129.913 Q2359.82 129.913 2361.65 127.76 Q2363.5 125.584 2363.5 121.858 Q2363.5 118.108 2361.65 115.955 Q2359.82 113.802 2356.67 113.802 M2365.95 99.1494 L2365.95 103.409 Q2364.2 102.575 2362.39 102.136 Q2360.61 101.696 2358.85 101.696 Q2354.22 101.696 2351.76 104.821 Q2349.33 107.946 2348.99 114.265 Q2350.35 112.251 2352.41 111.186 Q2354.47 110.098 2356.95 110.098 Q2362.16 110.098 2365.17 113.27 Q2368.2 116.418 2368.2 121.858 Q2368.2 127.182 2365.05 130.399 Q2361.9 133.617 2356.67 133.617 Q2350.68 133.617 2347.51 129.034 Q2344.33 124.427 2344.33 115.7 Q2344.33 107.506 2348.22 102.645 Q2352.11 97.7606 2358.66 97.7606 Q2360.42 97.7606 2362.2 98.1078 Q2364.01 98.455 2365.95 99.1494 Z\" fill=\"#000000\" fill-rule=\"nonzero\" fill-opacity=\"1\" /><polyline clip-path=\"url(#clip510)\" style=\"stroke:#000000; stroke-linecap:round; stroke-linejoin:round; stroke-width:4; stroke-opacity:1; fill:none\" points=\"2232.76,1423.18 2232.76,1205.87 2256.76,1205.87 2232.76,1205.87 2232.76,988.555 2256.76,988.555 2232.76,988.555 2232.76,771.24 2256.76,771.24 2232.76,771.24 2232.76,553.925 2256.76,553.925 2232.76,553.925 2232.76,336.61 2256.76,336.61 2232.76,336.61 2232.76,119.294 2256.76,119.294 2232.76,119.294 2232.76,47.2441 \"/>\n",
       "</svg>\n"
      ]
     },
     "execution_count": 33,
     "metadata": {},
     "output_type": "execute_result"
    }
   ],
   "source": [
    "heatmap(reshape(get_density_profiles(NM_MB_Array_Storage, r_hubbard_states, index_eig_states), Nx, Ny)|> transpose,xlabel=\"x\", ylabel=\"y\")"
   ]
  },
  {
   "cell_type": "code",
   "execution_count": 134,
   "id": "5662511a-ca2f-4a26-a0df-39e963a55e0d",
   "metadata": {
    "tags": []
   },
   "outputs": [
    {
     "data": {
      "image/svg+xml": [
       "<?xml version=\"1.0\" encoding=\"utf-8\"?>\n",
       "<svg xmlns=\"http://www.w3.org/2000/svg\" xmlns:xlink=\"http://www.w3.org/1999/xlink\" width=\"600\" height=\"400\" viewBox=\"0 0 2400 1600\">\n",
       "<defs>\n",
       "  <clipPath id=\"clip950\">\n",
       "    <rect x=\"0\" y=\"0\" width=\"2400\" height=\"1600\"/>\n",
       "  </clipPath>\n",
       "</defs>\n",
       "<path clip-path=\"url(#clip950)\" d=\"M0 1600 L2400 1600 L2400 0 L0 0  Z\" fill=\"#ffffff\" fill-rule=\"evenodd\" fill-opacity=\"1\"/>\n",
       "<defs>\n",
       "  <clipPath id=\"clip951\">\n",
       "    <rect x=\"480\" y=\"0\" width=\"1681\" height=\"1600\"/>\n",
       "  </clipPath>\n",
       "</defs>\n",
       "<path clip-path=\"url(#clip950)\" d=\"M202.227 1350.66 L2112.76 1350.66 L2112.76 195.996 L202.227 195.996  Z\" fill=\"#ffffff\" fill-rule=\"evenodd\" fill-opacity=\"1\"/>\n",
       "<defs>\n",
       "  <clipPath id=\"clip952\">\n",
       "    <rect x=\"202\" y=\"195\" width=\"1912\" height=\"1156\"/>\n",
       "  </clipPath>\n",
       "</defs>\n",
       "<path clip-path=\"url(#clip950)\" d=\"M1174.11 1459.87 L1161.22 1477.22 L1174.77 1495.52 L1167.87 1495.52 L1157.49 1481.52 L1147.12 1495.52 L1140.21 1495.52 L1154.05 1476.87 L1141.39 1459.87 L1148.29 1459.87 L1157.75 1472.57 L1167.2 1459.87 L1174.11 1459.87 Z\" fill=\"#000000\" fill-rule=\"nonzero\" fill-opacity=\"1\" /><path clip-path=\"url(#clip950)\" d=\"M67.3143 771.639 Q73.68 774.122 75.6216 776.477 Q77.5631 778.832 77.5631 782.779 L77.5631 787.458 L72.6615 787.458 L72.6615 784.02 Q72.6615 781.601 71.5157 780.265 Q70.3699 778.928 66.1048 777.305 L63.4312 776.254 L28.3562 790.673 L28.3562 784.466 L56.238 773.326 L28.3562 762.186 L28.3562 755.979 L67.3143 771.639 Z\" fill=\"#000000\" fill-rule=\"nonzero\" fill-opacity=\"1\" /><path clip-path=\"url(#clip950)\" d=\"M1055 18.8205 L1055 41.5461 L1065.29 41.5461 Q1071 41.5461 1074.12 38.5889 Q1077.24 35.6318 1077.24 30.163 Q1077.24 24.7348 1074.12 21.7777 Q1071 18.8205 1065.29 18.8205 L1055 18.8205 M1046.82 12.096 L1065.29 12.096 Q1075.46 12.096 1080.65 16.714 Q1085.87 21.2916 1085.87 30.163 Q1085.87 39.1155 1080.65 43.6931 Q1075.46 48.2706 1065.29 48.2706 L1055 48.2706 L1055 72.576 L1046.82 72.576 L1046.82 12.096 Z\" fill=\"#000000\" fill-rule=\"nonzero\" fill-opacity=\"1\" /><path clip-path=\"url(#clip950)\" d=\"M1123.99 28.5427 L1123.99 35.5912 Q1120.83 33.9709 1117.43 33.1607 Q1114.03 32.3505 1110.38 32.3505 Q1104.83 32.3505 1102.03 34.0519 Q1099.28 35.7533 1099.28 39.156 Q1099.28 41.7486 1101.27 43.2475 Q1103.25 44.7058 1109.25 46.0426 L1111.8 46.6097 Q1119.74 48.3111 1123.06 51.4303 Q1126.42 54.509 1126.42 60.0587 Q1126.42 66.3781 1121.4 70.0644 Q1116.42 73.7508 1107.67 73.7508 Q1104.02 73.7508 1100.05 73.0216 Q1096.12 72.3329 1091.75 70.9151 L1091.75 63.2184 Q1095.88 65.3654 1099.89 66.4591 Q1103.9 67.5124 1107.83 67.5124 Q1113.09 67.5124 1115.93 65.73 Q1118.77 63.9071 1118.77 60.6258 Q1118.77 57.5877 1116.7 55.9673 Q1114.67 54.3469 1107.75 52.8481 L1105.15 52.2405 Q1098.23 50.7821 1095.15 47.7845 Q1092.07 44.7463 1092.07 39.4801 Q1092.07 33.0797 1096.61 29.5959 Q1101.14 26.1121 1109.49 26.1121 Q1113.62 26.1121 1117.27 26.7198 Q1120.91 27.3274 1123.99 28.5427 Z\" fill=\"#000000\" fill-rule=\"nonzero\" fill-opacity=\"1\" /><path clip-path=\"url(#clip950)\" d=\"M1138.29 27.2059 L1145.74 27.2059 L1145.74 72.576 L1138.29 72.576 L1138.29 27.2059 M1138.29 9.54393 L1145.74 9.54393 L1145.74 18.9825 L1138.29 18.9825 L1138.29 9.54393 Z\" fill=\"#000000\" fill-rule=\"nonzero\" fill-opacity=\"1\" /><path clip-path=\"url(#clip950)\" d=\"M1162.31 34.9026 L1214.24 34.9026 L1214.24 41.7081 L1162.31 41.7081 L1162.31 34.9026 M1162.31 51.4303 L1214.24 51.4303 L1214.24 58.3168 L1162.31 58.3168 L1162.31 51.4303 Z\" fill=\"#000000\" fill-rule=\"nonzero\" fill-opacity=\"1\" /><path clip-path=\"url(#clip950)\" d=\"M1233.32 65.6895 L1246.69 65.6895 L1246.69 19.5497 L1232.15 22.4663 L1232.15 15.0127 L1246.61 12.096 L1254.79 12.096 L1254.79 65.6895 L1268.16 65.6895 L1268.16 72.576 L1233.32 72.576 L1233.32 65.6895 Z\" fill=\"#000000\" fill-rule=\"nonzero\" fill-opacity=\"1\" /><g clip-path=\"url(#clip952)\">\n",
       "<image width=\"871\" height=\"1089\" xlink:href=\"data:image/png;base64,\n",
       "iVBORw0KGgoAAAANSUhEUgAAA2cAAARBCAYAAAChGfjAAAAaGklEQVR4nO3Zy4pldxmH4a7aFbt3\n",
       "2dX2IQ0ZmIFQY9EWnBpx4AGcZZQbyi3kPjJIZsZpwATiTBodBEK0D6nY7a4uiqryGv6j793hea7g\n",
       "B4vFWi/fwd9//7ubW+yV4+Pz6Qks+snjF9MTWHT7wavpCSy6+O5kegKLvn/2aHoCi3a77fQE+EE7\n",
       "nB4AAACAOAMAAEgQZwAAAAHiDAAAIECcAQAABIgzAACAAHEGAAAQIM4AAAACxBkAAECAOAMAAAgQ\n",
       "ZwAAAAHiDAAAIECcAQAABIgzAACAAHEGAAAQIM4AAAACxBkAAECAOAMAAAgQZwAAAAHiDAAAIECc\n",
       "AQAABIgzAACAAHEGAAAQIM4AAAACxBkAAECAOAMAAAgQZwAAAAHiDAAAIECcAQAABIgzAACAAHEG\n",
       "AAAQIM4AAAACxBkAAECAOAMAAAgQZwAAAAHiDAAAIECcAQAABIgzAACAAHEGAAAQIM4AAAACxBkA\n",
       "AECAOAMAAAgQZwAAAAHiDAAAIECcAQAABIgzAACAAHEGAAAQIM4AAAACxBkAAECAOAMAAAgQZwAA\n",
       "AAHiDAAAIECcAQAABIgzAACAAHEGAAAQIM4AAAACxBkAAECAOAMAAAgQZwAAAAHiDAAAIECcAQAA\n",
       "BIgzAACAAHEGAAAQIM4AAAACxBkAAECAOAMAAAgQZwAAAAHiDAAAIECcAQAABIgzAACAAHEGAAAQ\n",
       "IM4AAAACxBkAAECAOAMAAAgQZwAAAAHiDAAAIECcAQAABIgzAACAAHEGAAAQIM4AAAACxBkAAECA\n",
       "OAMAAAgQZwAAAAHiDAAAIECcAQAABIgzAACAAHEGAAAQIM4AAAACxBkAAECAOAMAAAgQZwAAAAHi\n",
       "DAAAIECcAQAABIgzAACAAHEGAAAQIM4AAAACxBkAAECAOAMAAAgQZwAAAAHiDAAAIECcAQAABIgz\n",
       "AACAAHEGAAAQIM4AAAACxBkAAECAOAMAAAgQZwAAAAHiDAAAIODo/OL29AYW/fvswfQEFr385+n0\n",
       "BBZdXm2mJ7Dorc3V9AQWPbyzm57Aontbz2zfHB5eT09ggcsZAABAgDgDAAAIEGcAAAAB4gwAACBA\n",
       "nAEAAASIMwAAgABxBgAAECDOAAAAAsQZAABAgDgDAAAIEGcAAAAB4gwAACBAnAEAAASIMwAAgABx\n",
       "BgAAECDOAAAAAsQZAABAgDgDAAAIEGcAAAAB4gwAACBAnAEAAASIMwAAgABxBgAAECDOAAAAAsQZ\n",
       "AABAgDgDAAAIEGcAAAAB4gwAACBAnAEAAASIMwAAgABxBgAAECDOAAAAAsQZAABAgDgDAAAIEGcA\n",
       "AAAB4gwAACBAnAEAAASIMwAAgABxBgAAECDOAAAAAsQZAABAgDgDAAAIEGcAAAAB4gwAACBAnAEA\n",
       "AASIMwAAgABxBgAAECDOAAAAAsQZAABAgDgDAAAIEGcAAAAB4gwAACBAnAEAAASIMwAAgABxBgAA\n",
       "ECDOAAAAAsQZAABAgDgDAAAIEGcAAAAB4gwAACBAnAEAAASIMwAAgABxBgAAECDOAAAAAsQZAABA\n",
       "gDgDAAAIEGcAAAAB4gwAACBAnAEAAASIMwAAgABxBgAAECDOAAAAAsQZAABAgDgDAAAIEGcAAAAB\n",
       "4gwAACBAnAEAAASIMwAAgABxBgAAECDOAAAAAsQZAABAgDgDAAAIEGcAAAAB4gwAACBAnAEAAASI\n",
       "MwAAgABxBgAAECDOAAAAAsQZAABAgDgDAAAIEGcAAAAB4gwAACBAnAEAAASIMwAAgABxBgAAECDO\n",
       "AAAAAsQZAABAgDgDAAAIEGcAAAAB4gwAACBAnAEAAASIMwAAgABxBgAAECDOAAAAAsQZAABAgDgD\n",
       "AAAIEGcAAAAB4gwAACDg4M2H926mR7Dm2Ven0xNY9OmXv5qewKKnr+9MT2DR6d030xNY9Idf/m16\n",
       "Aose//zp9AQW3VxupiewwOUMAAAgQJwBAAAEiDMAAIAAcQYAABAgzgAAAALEGQAAQIA4AwAACBBn\n",
       "AAAAAeIMAAAgQJwBAAAEiDMAAIAAcQYAABAgzgAAAALEGQAAQIA4AwAACBBnAAAAAeIMAAAgQJwB\n",
       "AAAEiDMAAIAAcQYAABAgzgAAAALEGQAAQIA4AwAACBBnAAAAAeIMAAAgQJwBAAAEiDMAAIAAcQYA\n",
       "ABAgzgAAAALEGQAAQIA4AwAACBBnAAAAAeIMAAAgQJwBAAAEiDMAAIAAcQYAABAgzgAAAALEGQAA\n",
       "QIA4AwAACBBnAAAAAeIMAAAgQJwBAAAEiDMAAIAAcQYAABAgzgAAAALEGQAAQIA4AwAACBBnAAAA\n",
       "AeIMAAAgQJwBAAAEiDMAAIAAcQYAABAgzgAAAALEGQAAQIA4AwAACBBnAAAAAeIMAAAgQJwBAAAE\n",
       "iDMAAIAAcQYAABAgzgAAAALEGQAAQIA4AwAACBBnAAAAAeIMAAAgQJwBAAAEiDMAAIAAcQYAABAg\n",
       "zgAAAALEGQAAQIA4AwAACBBnAAAAAeIMAAAgQJwBAAAEiDMAAIAAcQYAABAgzgAAAALEGQAAQIA4\n",
       "AwAACBBnAAAAAeIMAAAgQJwBAAAEiDMAAIAAcQYAABAgzgAAAALEGQAAQIA4AwAACBBnAAAAAeIM\n",
       "AAAgQJwBAAAEiDMAAIAAcQYAABAgzgAAAALEGQAAQIA4AwAACBBnAAAAAeIMAAAgQJwBAAAEiDMA\n",
       "AIAAcQYAABAgzgAAAALEGQAAQIA4AwAACBBnAAAAAeIMAAAgQJwBAAAEiDMAAIAAcQYAABBwdPDe\n",
       "z6Y3sOjuN2fTE1j0+Yvt9AQW/fX86+kJLPrNxbvTE1j0/tu+Z/vGf+P+OXr5n+kJLHA5AwAACBBn\n",
       "AAAAAeIMAAAgQJwBAAAEiDMAAIAAcQYAABAgzgAAAALEGQAAQIA4AwAACBBnAAAAAeIMAAAgQJwB\n",
       "AAAEiDMAAIAAcQYAABAgzgAAAALEGQAAQIA4AwAACBBnAAAAAeIMAAAgQJwBAAAEiDMAAIAAcQYA\n",
       "ABAgzgAAAALEGQAAQIA4AwAACBBnAAAAAeIMAAAgQJwBAAAEiDMAAIAAcQYAABAgzgAAAALEGQAA\n",
       "QIA4AwAACBBnAAAAAeIMAAAgQJwBAAAEiDMAAIAAcQYAABAgzgAAAALEGQAAQIA4AwAACBBnAAAA\n",
       "AeIMAAAgQJwBAAAEiDMAAIAAcQYAABAgzgAAAALEGQAAQIA4AwAACBBnAAAAAeIMAAAgQJwBAAAE\n",
       "iDMAAIAAcQYAABAgzgAAAALEGQAAQIA4AwAACBBnAAAAAeIMAAAgQJwBAAAEiDMAAIAAcQYAABAg\n",
       "zgAAAALEGQAAQIA4AwAACBBnAAAAAeIMAAAgQJwBAAAEiDMAAIAAcQYAABAgzgAAAALEGQAAQIA4\n",
       "AwAACBBnAAAAAeIMAAAgQJwBAAAEiDMAAIAAcQYAABAgzgAAAALEGQAAQIA4AwAACBBnAAAAAeIM\n",
       "AAAgQJwBAAAEiDMAAIAAcQYAABAgzgAAAALEGQAAQIA4AwAACBBnAAAAAeIMAAAgQJwBAAAEiDMA\n",
       "AIAAcQYAABAgzgAAAALEGQAAQIA4AwAACBBnAAAAAeIMAAAgQJwBAAAEiDMAAIAAcQYAABAgzgAA\n",
       "AALEGQAAQIA4AwAACBBnAAAAAeIMAAAgQJwBAAAEHN063ExvYNH52cn0BBZ98b+z6Qks+sfu4+kJ\n",
       "LDq5/mB6Aot8z/bPsf/G/XN1Nb2ABS5nAAAAAeIMAAAgQJwBAAAEiDMAAIAAcQYAABAgzgAAAALE\n",
       "GQAAQIA4AwAACBBnAAAAAeIMAAAgQJwBAAAEiDMAAIAAcQYAABAgzgAAAALEGQAAQIA4AwAACBBn\n",
       "AAAAAeIMAAAgQJwBAAAEiDMAAIAAcQYAABAgzgAAAALEGQAAQIA4AwAACBBnAAAAAeIMAAAgQJwB\n",
       "AAAEiDMAAIAAcQYAABAgzgAAAALEGQAAQIA4AwAACBBnAAAAAeIMAAAgQJwBAAAEiDMAAIAAcQYA\n",
       "ABAgzgAAAALEGQAAQIA4AwAACBBnAAAAAeIMAAAgQJwBAAAEiDMAAIAAcQYAABAgzgAAAALEGQAA\n",
       "QIA4AwAACBBnAAAAAeIMAAAgQJwBAAAEiDMAAIAAcQYAABAgzgAAAALEGQAAQIA4AwAACBBnAAAA\n",
       "AeIMAAAgQJwBAAAEiDMAAIAAcQYAABAgzgAAAALEGQAAQIA4AwAACBBnAAAAAeIMAAAgQJwBAAAE\n",
       "iDMAAIAAcQYAABAgzgAAAALEGQAAQIA4AwAACBBnAAAAAeIMAAAgQJwBAAAEiDMAAIAAcQYAABAg\n",
       "zgAAAALEGQAAQIA4AwAACBBnAAAAAeIMAAAgQJwBAAAEiDMAAIAAcQYAABAgzgAAAALEGQAAQIA4\n",
       "AwAACBBnAAAAAeIMAAAgQJwBAAAEiDMAAIAAcQYAABAgzgAAAALEGQAAQIA4AwAACBBnAAAAAeIM\n",
       "AAAgQJwBAAAEiDMAAIAAcQYAABAgzgAAAALEGQAAQIA4AwAACBBnAAAAAeIMAAAgQJwBAAAEiDMA\n",
       "AICAo1vXV9MbWLS9/2p6Aoue/Pj+9AQWvTr88/QEFj3Zes/2je/ZHro+mV7Aqs1megELXM4AAAAC\n",
       "xBkAAECAOAMAAAgQZwAAAAHiDAAAIECcAQAABIgzAACAAHEGAAAQIM4AAAACxBkAAECAOAMAAAgQ\n",
       "ZwAAAAHiDAAAIECcAQAABIgzAACAAHEGAAAQIM4AAAACxBkAAECAOAMAAAgQZwAAAAHiDAAAIECc\n",
       "AQAABIgzAACAAHEGAAAQIM4AAAACxBkAAECAOAMAAAgQZwAAAAHiDAAAIECcAQAABIgzAACAAHEG\n",
       "AAAQIM4AAAACxBkAAECAOAMAAAgQZwAAAAHiDAAAIECcAQAABIgzAACAAHEGAAAQIM4AAAACxBkA\n",
       "AECAOAMAAAgQZwAAAAHiDAAAIECcAQAABIgzAACAAHEGAAAQIM4AAAACxBkAAECAOAMAAAgQZwAA\n",
       "AAHiDAAAIECcAQAABIgzAACAAHEGAAAQIM4AAAACxBkAAECAOAMAAAgQZwAAAAHiDAAAIECcAQAA\n",
       "BIgzAACAAHEGAAAQIM4AAAACxBkAAECAOAMAAAgQZwAAAAHiDAAAIECcAQAABIgzAACAAHEGAAAQ\n",
       "IM4AAAACxBkAAECAOAMAAAgQZwAAAAHiDAAAIECcAQAABIgzAACAAHEGAAAQIM4AAAACxBkAAECA\n",
       "OAMAAAgQZwAAAAHiDAAAIECcAQAABIgzAACAAHEGAAAQIM4AAAACxBkAAECAOAMAAAgQZwAAAAHi\n",
       "DAAAIECcAQAABIgzAACAAHEGAAAQIM4AAAACxBkAAECAOAMAAAgQZwAAAAHiDAAAIECcAQAABIgz\n",
       "AACAAHEGAAAQIM4AAAACxBkAAECAOAMAAAgQZwAAAAFHN5/9a3oDi14/P52ewKJfPzqfnsCih69/\n",
       "Oj2BRad3vWf75vXz+9MTWLT97On0BBZdXm6mJ7DA5QwAACBAnAEAAASIMwAAgABxBgAAECDOAAAA\n",
       "AsQZAABAgDgDAAAIEGcAAAAB4gwAACBAnAEAAASIMwAAgABxBgAAECDOAAAAAsQZAABAgDgDAAAI\n",
       "EGcAAAAB4gwAACBAnAEAAASIMwAAgABxBgAAECDOAAAAAsQZAABAgDgDAAAIEGcAAAAB4gwAACBA\n",
       "nAEAAASIMwAAgABxBgAAECDOAAAAAsQZAABAgDgDAAAIEGcAAAAB4gwAACBAnAEAAASIMwAAgABx\n",
       "BgAAECDOAAAAAsQZAABAgDgDAAAIEGcAAAAB4gwAACBAnAEAAASIMwAAgABxBgAAECDOAAAAAsQZ\n",
       "AABAgDgDAAAIEGcAAAAB4gwAACBAnAEAAASIMwAAgABxBgAAECDOAAAAAsQZAABAgDgDAAAIEGcA\n",
       "AAAB4gwAACBAnAEAAASIMwAAgABxBgAAECDOAAAAAsQZAABAgDgDAAAIEGcAAAAB4gwAACBAnAEA\n",
       "AASIMwAAgABxBgAAECDOAAAAAsQZAABAgDgDAAAIEGcAAAAB4gwAACBAnAEAAASIMwAAgABxBgAA\n",
       "ECDOAAAAAsQZAABAgDgDAAAIEGcAAAAB4gwAACBAnAEAAASIMwAAgABxBgAAECDOAAAAAsQZAABA\n",
       "gDgDAAAIEGcAAAAB4gwAACBAnAEAAASIMwAAgABxBgAAECDOAAAAAsQZAABAgDgDAAAIEGcAAAAB\n",
       "4gwAACBAnAEAAASIMwAAgABxBgAAECDOAAAAAsQZAABAgDgDAAAIEGcAAAAB4gwAACBAnAEAAASI\n",
       "MwAAgABxBgAAEHDw+Xt/upkewZr/nh9PT2DRyzee2b65vNpMT2DRW5ur6QksenhnNz2BRfe2ntm+\n",
       "OTy8np7AApczAACAAHEGAAAQIM4AAAACxBkAAECAOAMAAAgQZwAAAAHiDAAAIECcAQAABIgzAACA\n",
       "AHEGAAAQIM4AAAACxBkAAECAOAMAAAgQZwAAAAHiDAAAIECcAQAABIgzAACAAHEGAAAQIM4AAAAC\n",
       "xBkAAECAOAMAAAgQZwAAAAHiDAAAIECcAQAABIgzAACAAHEGAAAQIM4AAAACxBkAAECAOAMAAAgQ\n",
       "ZwAAAAHiDAAAIECcAQAABIgzAACAAHEGAAAQIM4AAAACxBkAAECAOAMAAAgQZwAAAAHiDAAAIECc\n",
       "AQAABIgzAACAAHEGAAAQIM4AAAACxBkAAECAOAMAAAgQZwAAAAHiDAAAIECcAQAABIgzAACAAHEG\n",
       "AAAQIM4AAAACxBkAAECAOAMAAAgQZwAAAAHiDAAAIECcAQAABIgzAACAAHEGAAAQIM4AAAACxBkA\n",
       "AECAOAMAAAgQZwAAAAHiDAAAIECcAQAABIgzAACAAHEGAAAQIM4AAAACxBkAAECAOAMAAAgQZwAA\n",
       "AAHiDAAAIECcAQAABIgzAACAAHEGAAAQIM4AAAACxBkAAECAOAMAAAgQZwAAAAHiDAAAIECcAQAA\n",
       "BIgzAACAAHEGAAAQIM4AAAACxBkAAECAOAMAAAgQZwAAAAHiDAAAIECcAQAABIgzAACAAHEGAAAQ\n",
       "IM4AAAACxBkAAECAOAMAAAgQZwAAAAHiDAAAIECcAQAABIgzAACAAHEGAAAQIM4AAAACxBkAAECA\n",
       "OAMAAAgQZwAAAAHiDAAAIECcAQAABIgzAACAAHEGAAAQIM4AAAACxBkAAEDA0fb2xfQGFj16cDY9\n",
       "gUW/ePxiegKLbj94NT2BRRffnUxPYNH3zx5NT2DRbredngA/aC5nAAAAAeIMAAAgQJwBAAAEiDMA\n",
       "AIAAcQYAABAgzgAAAALEGQAAQIA4AwAACBBnAAAAAeIMAAAgQJwBAAAEiDMAAIAAcQYAABAgzgAA\n",
       "AALEGQAAQIA4AwAACBBnAAAAAeIMAAAgQJwBAAAEiDMAAIAAcQYAABAgzgAAAALEGQAAQIA4AwAA\n",
       "CBBnAAAAAeIMAAAgQJwBAAAEiDMAAIAAcQYAABAgzgAAAALEGQAAQIA4AwAACBBnAAAAAeIMAAAg\n",
       "QJwBAAAEiDMAAIAAcQYAABAgzgAAAALEGQAAQIA4AwAACBBnAAAAAeIMAAAgQJwBAAAEiDMAAIAA\n",
       "cQYAABAgzgAAAALEGQAAQIA4AwAACBBnAAAAAeIMAAAgQJwBAAAEiDMAAIAAcQYAABAgzgAAAALE\n",
       "GQAAQIA4AwAACBBnAAAAAeIMAAAgQJwBAAAEiDMAAIAAcQYAABAgzgAAAALEGQAAQIA4AwAACBBn\n",
       "AAAAAeIMAAAgQJwBAAAEiDMAAIAAcQYAABAgzgAAAALEGQAAQIA4AwAACBBnAAAAAeIMAAAgQJwB\n",
       "AAAEiDMAAIAAcQYAABAgzgAAAALEGQAAQIA4AwAACBBnAAAAAeIMAAAgQJwBAAAEiDMAAIAAcQYA\n",
       "ABAgzgAAAALEGQAAQIA4AwAACBBnAAAAAeIMAAAgQJwBAAAEiDMAAIAAcQYAABAgzgAAAALEGQAA\n",
       "QIA4AwAACBBnAAAAAeIMAAAgQJwBAAAEiDMAAIAAcQYAABAgzgAAAALEGQAAQIA4AwAACBBnAAAA\n",
       "AeIMAAAgQJwBAAAEiDMAAICAg8uPfnQzPYI1B+++PT2BRbsnf5yewKLjd347PYFFu2//Mj2BRcdf\n",
       "fDI9gUU3Xz+fnsCqq+kBrHA5AwAACBBnAAAAAeIMAAAgQJwBAAAEiDMAAIAAcQYAABAgzgAAAALE\n",
       "GQAAQIA4AwAACBBnAAAAAeIMAAAgQJwBAAAEiDMAAIAAcQYAABAgzgAAAALEGQAAQIA4AwAACBBn\n",
       "AAAAAeIMAAAgQJwBAAAEiDMAAIAAcQYAABAgzgAAAALEGQAAQIA4AwAACBBnAAAAAeIMAAAgQJwB\n",
       "AAAEiDMAAIAAcQYAABAgzgAAAALEGQAAQIA4AwAACBBnAAAAAeIMAAAgQJwBAAAEiDMAAIAAcQYA\n",
       "ABAgzgAAAALEGQAAQIA4AwAACBBnAAAAAeIMAAAgQJwBAAAEiDMAAIAAcQYAABAgzgAAAALEGQAA\n",
       "QIA4AwAACBBnAAAAAeIMAAAgQJwBAAAEiDMAAIAAcQYAABAgzgAAAALEGQAAQIA4AwAACBBnAAAA\n",
       "AeIMAAAgQJwBAAAEiDMAAIAAcQYAABAgzgAAAALEGQAAQIA4AwAACBBnAAAAAeIMAAAgQJwBAAAE\n",
       "iDMAAIAAcQYAABAgzgAAAALEGQAAQIA4AwAACBBnAAAAAeIMAAAgQJwBAAAEiDMAAIAAcQYAABAg\n",
       "zgAAAALEGQAAQIA4AwAACBBnAAAAAeIMAAAgQJwBAAAEiDMAAIAAcQYAABAgzgAAAALEGQAAQIA4\n",
       "AwAACBBnAAAAAeIMAAAgQJwBAAAEiDMAAIAAcQYAABAgzgAAAALEGQAAQIA4AwAACBBnAAAAAeIM\n",
       "AAAgQJwBAAAEiDMAAIAAcQYAABAgzgAAAALEGQAAQIA4AwAACBBnAAAAAeIMAAAg4P8CwX1Pz9/Z\n",
       "nAAAAABJRU5ErkJggg==\n",
       "\" transform=\"translate(722, 229)\"/>\n",
       "</g>\n",
       "<circle clip-path=\"url(#clip952)\" cx=\"776.236\" cy=\"1263.51\" r=\"10.8\" fill=\"#000000\" fill-rule=\"evenodd\" fill-opacity=\"1\" stroke=\"none\"/>\n",
       "<circle clip-path=\"url(#clip952)\" cx=\"885.166\" cy=\"1263.51\" r=\"10.8\" fill=\"#000000\" fill-rule=\"evenodd\" fill-opacity=\"1\" stroke=\"none\"/>\n",
       "<circle clip-path=\"url(#clip952)\" cx=\"994.096\" cy=\"1263.51\" r=\"10.8\" fill=\"#000000\" fill-rule=\"evenodd\" fill-opacity=\"1\" stroke=\"none\"/>\n",
       "<circle clip-path=\"url(#clip952)\" cx=\"1103.03\" cy=\"1263.51\" r=\"10.8\" fill=\"#000000\" fill-rule=\"evenodd\" fill-opacity=\"1\" stroke=\"none\"/>\n",
       "<circle clip-path=\"url(#clip952)\" cx=\"1211.96\" cy=\"1263.51\" r=\"10.8\" fill=\"#000000\" fill-rule=\"evenodd\" fill-opacity=\"1\" stroke=\"none\"/>\n",
       "<circle clip-path=\"url(#clip952)\" cx=\"1320.89\" cy=\"1263.51\" r=\"10.8\" fill=\"#000000\" fill-rule=\"evenodd\" fill-opacity=\"1\" stroke=\"none\"/>\n",
       "<circle clip-path=\"url(#clip952)\" cx=\"1429.82\" cy=\"1263.51\" r=\"10.8\" fill=\"#000000\" fill-rule=\"evenodd\" fill-opacity=\"1\" stroke=\"none\"/>\n",
       "<circle clip-path=\"url(#clip952)\" cx=\"1538.75\" cy=\"1263.51\" r=\"10.8\" fill=\"#000000\" fill-rule=\"evenodd\" fill-opacity=\"1\" stroke=\"none\"/>\n",
       "<circle clip-path=\"url(#clip952)\" cx=\"776.236\" cy=\"1154.58\" r=\"10.8\" fill=\"#000000\" fill-rule=\"evenodd\" fill-opacity=\"1\" stroke=\"none\"/>\n",
       "<circle clip-path=\"url(#clip952)\" cx=\"885.166\" cy=\"1154.58\" r=\"10.8\" fill=\"#000000\" fill-rule=\"evenodd\" fill-opacity=\"1\" stroke=\"none\"/>\n",
       "<circle clip-path=\"url(#clip952)\" cx=\"994.096\" cy=\"1154.58\" r=\"10.8\" fill=\"#000000\" fill-rule=\"evenodd\" fill-opacity=\"1\" stroke=\"none\"/>\n",
       "<circle clip-path=\"url(#clip952)\" cx=\"1103.03\" cy=\"1154.58\" r=\"10.8\" fill=\"#000000\" fill-rule=\"evenodd\" fill-opacity=\"1\" stroke=\"none\"/>\n",
       "<circle clip-path=\"url(#clip952)\" cx=\"1211.96\" cy=\"1154.58\" r=\"10.8\" fill=\"#000000\" fill-rule=\"evenodd\" fill-opacity=\"1\" stroke=\"none\"/>\n",
       "<circle clip-path=\"url(#clip952)\" cx=\"1320.89\" cy=\"1154.58\" r=\"10.8\" fill=\"#000000\" fill-rule=\"evenodd\" fill-opacity=\"1\" stroke=\"none\"/>\n",
       "<circle clip-path=\"url(#clip952)\" cx=\"1429.82\" cy=\"1154.58\" r=\"10.8\" fill=\"#000000\" fill-rule=\"evenodd\" fill-opacity=\"1\" stroke=\"none\"/>\n",
       "<circle clip-path=\"url(#clip952)\" cx=\"1538.75\" cy=\"1154.58\" r=\"10.8\" fill=\"#000000\" fill-rule=\"evenodd\" fill-opacity=\"1\" stroke=\"none\"/>\n",
       "<circle clip-path=\"url(#clip952)\" cx=\"776.236\" cy=\"1045.65\" r=\"10.8\" fill=\"#000000\" fill-rule=\"evenodd\" fill-opacity=\"1\" stroke=\"none\"/>\n",
       "<circle clip-path=\"url(#clip952)\" cx=\"885.166\" cy=\"1045.65\" r=\"10.8\" fill=\"#000000\" fill-rule=\"evenodd\" fill-opacity=\"1\" stroke=\"none\"/>\n",
       "<circle clip-path=\"url(#clip952)\" cx=\"994.096\" cy=\"1045.65\" r=\"10.8\" fill=\"#000000\" fill-rule=\"evenodd\" fill-opacity=\"1\" stroke=\"none\"/>\n",
       "<circle clip-path=\"url(#clip952)\" cx=\"1103.03\" cy=\"1045.65\" r=\"10.8\" fill=\"#000000\" fill-rule=\"evenodd\" fill-opacity=\"1\" stroke=\"none\"/>\n",
       "<circle clip-path=\"url(#clip952)\" cx=\"1211.96\" cy=\"1045.65\" r=\"10.8\" fill=\"#000000\" fill-rule=\"evenodd\" fill-opacity=\"1\" stroke=\"none\"/>\n",
       "<circle clip-path=\"url(#clip952)\" cx=\"1320.89\" cy=\"1045.65\" r=\"10.8\" fill=\"#000000\" fill-rule=\"evenodd\" fill-opacity=\"1\" stroke=\"none\"/>\n",
       "<circle clip-path=\"url(#clip952)\" cx=\"1429.82\" cy=\"1045.65\" r=\"10.8\" fill=\"#000000\" fill-rule=\"evenodd\" fill-opacity=\"1\" stroke=\"none\"/>\n",
       "<circle clip-path=\"url(#clip952)\" cx=\"1538.75\" cy=\"1045.65\" r=\"10.8\" fill=\"#000000\" fill-rule=\"evenodd\" fill-opacity=\"1\" stroke=\"none\"/>\n",
       "<circle clip-path=\"url(#clip952)\" cx=\"776.236\" cy=\"936.721\" r=\"10.8\" fill=\"#000000\" fill-rule=\"evenodd\" fill-opacity=\"1\" stroke=\"none\"/>\n",
       "<circle clip-path=\"url(#clip952)\" cx=\"885.166\" cy=\"936.721\" r=\"10.8\" fill=\"#000000\" fill-rule=\"evenodd\" fill-opacity=\"1\" stroke=\"none\"/>\n",
       "<circle clip-path=\"url(#clip952)\" cx=\"994.096\" cy=\"936.721\" r=\"10.8\" fill=\"#000000\" fill-rule=\"evenodd\" fill-opacity=\"1\" stroke=\"none\"/>\n",
       "<circle clip-path=\"url(#clip952)\" cx=\"1103.03\" cy=\"936.721\" r=\"10.8\" fill=\"#000000\" fill-rule=\"evenodd\" fill-opacity=\"1\" stroke=\"none\"/>\n",
       "<circle clip-path=\"url(#clip952)\" cx=\"1211.96\" cy=\"936.721\" r=\"10.8\" fill=\"#000000\" fill-rule=\"evenodd\" fill-opacity=\"1\" stroke=\"none\"/>\n",
       "<circle clip-path=\"url(#clip952)\" cx=\"1320.89\" cy=\"936.721\" r=\"10.8\" fill=\"#000000\" fill-rule=\"evenodd\" fill-opacity=\"1\" stroke=\"none\"/>\n",
       "<circle clip-path=\"url(#clip952)\" cx=\"1429.82\" cy=\"936.721\" r=\"10.8\" fill=\"#000000\" fill-rule=\"evenodd\" fill-opacity=\"1\" stroke=\"none\"/>\n",
       "<circle clip-path=\"url(#clip952)\" cx=\"1538.75\" cy=\"936.721\" r=\"10.8\" fill=\"#000000\" fill-rule=\"evenodd\" fill-opacity=\"1\" stroke=\"none\"/>\n",
       "<circle clip-path=\"url(#clip952)\" cx=\"776.236\" cy=\"827.791\" r=\"10.8\" fill=\"#000000\" fill-rule=\"evenodd\" fill-opacity=\"1\" stroke=\"none\"/>\n",
       "<circle clip-path=\"url(#clip952)\" cx=\"885.166\" cy=\"827.791\" r=\"10.8\" fill=\"#000000\" fill-rule=\"evenodd\" fill-opacity=\"1\" stroke=\"none\"/>\n",
       "<circle clip-path=\"url(#clip952)\" cx=\"994.096\" cy=\"827.791\" r=\"10.8\" fill=\"#000000\" fill-rule=\"evenodd\" fill-opacity=\"1\" stroke=\"none\"/>\n",
       "<circle clip-path=\"url(#clip952)\" cx=\"1103.03\" cy=\"827.791\" r=\"10.8\" fill=\"#000000\" fill-rule=\"evenodd\" fill-opacity=\"1\" stroke=\"none\"/>\n",
       "<circle clip-path=\"url(#clip952)\" cx=\"1211.96\" cy=\"827.791\" r=\"10.8\" fill=\"#000000\" fill-rule=\"evenodd\" fill-opacity=\"1\" stroke=\"none\"/>\n",
       "<circle clip-path=\"url(#clip952)\" cx=\"1320.89\" cy=\"827.791\" r=\"10.8\" fill=\"#000000\" fill-rule=\"evenodd\" fill-opacity=\"1\" stroke=\"none\"/>\n",
       "<circle clip-path=\"url(#clip952)\" cx=\"1429.82\" cy=\"827.791\" r=\"10.8\" fill=\"#000000\" fill-rule=\"evenodd\" fill-opacity=\"1\" stroke=\"none\"/>\n",
       "<circle clip-path=\"url(#clip952)\" cx=\"1538.75\" cy=\"827.791\" r=\"10.8\" fill=\"#000000\" fill-rule=\"evenodd\" fill-opacity=\"1\" stroke=\"none\"/>\n",
       "<circle clip-path=\"url(#clip952)\" cx=\"776.236\" cy=\"718.861\" r=\"10.8\" fill=\"#000000\" fill-rule=\"evenodd\" fill-opacity=\"1\" stroke=\"none\"/>\n",
       "<circle clip-path=\"url(#clip952)\" cx=\"885.166\" cy=\"718.861\" r=\"10.8\" fill=\"#000000\" fill-rule=\"evenodd\" fill-opacity=\"1\" stroke=\"none\"/>\n",
       "<circle clip-path=\"url(#clip952)\" cx=\"994.096\" cy=\"718.861\" r=\"10.8\" fill=\"#000000\" fill-rule=\"evenodd\" fill-opacity=\"1\" stroke=\"none\"/>\n",
       "<circle clip-path=\"url(#clip952)\" cx=\"1103.03\" cy=\"718.861\" r=\"10.8\" fill=\"#000000\" fill-rule=\"evenodd\" fill-opacity=\"1\" stroke=\"none\"/>\n",
       "<circle clip-path=\"url(#clip952)\" cx=\"1211.96\" cy=\"718.861\" r=\"10.8\" fill=\"#000000\" fill-rule=\"evenodd\" fill-opacity=\"1\" stroke=\"none\"/>\n",
       "<circle clip-path=\"url(#clip952)\" cx=\"1320.89\" cy=\"718.861\" r=\"10.8\" fill=\"#000000\" fill-rule=\"evenodd\" fill-opacity=\"1\" stroke=\"none\"/>\n",
       "<circle clip-path=\"url(#clip952)\" cx=\"1429.82\" cy=\"718.861\" r=\"10.8\" fill=\"#000000\" fill-rule=\"evenodd\" fill-opacity=\"1\" stroke=\"none\"/>\n",
       "<circle clip-path=\"url(#clip952)\" cx=\"1538.75\" cy=\"718.861\" r=\"10.8\" fill=\"#000000\" fill-rule=\"evenodd\" fill-opacity=\"1\" stroke=\"none\"/>\n",
       "<circle clip-path=\"url(#clip952)\" cx=\"776.236\" cy=\"609.931\" r=\"10.8\" fill=\"#000000\" fill-rule=\"evenodd\" fill-opacity=\"1\" stroke=\"none\"/>\n",
       "<circle clip-path=\"url(#clip952)\" cx=\"885.166\" cy=\"609.931\" r=\"10.8\" fill=\"#000000\" fill-rule=\"evenodd\" fill-opacity=\"1\" stroke=\"none\"/>\n",
       "<circle clip-path=\"url(#clip952)\" cx=\"994.096\" cy=\"609.931\" r=\"10.8\" fill=\"#000000\" fill-rule=\"evenodd\" fill-opacity=\"1\" stroke=\"none\"/>\n",
       "<circle clip-path=\"url(#clip952)\" cx=\"1103.03\" cy=\"609.931\" r=\"10.8\" fill=\"#000000\" fill-rule=\"evenodd\" fill-opacity=\"1\" stroke=\"none\"/>\n",
       "<circle clip-path=\"url(#clip952)\" cx=\"1211.96\" cy=\"609.931\" r=\"10.8\" fill=\"#000000\" fill-rule=\"evenodd\" fill-opacity=\"1\" stroke=\"none\"/>\n",
       "<circle clip-path=\"url(#clip952)\" cx=\"1320.89\" cy=\"609.931\" r=\"10.8\" fill=\"#000000\" fill-rule=\"evenodd\" fill-opacity=\"1\" stroke=\"none\"/>\n",
       "<circle clip-path=\"url(#clip952)\" cx=\"1429.82\" cy=\"609.931\" r=\"10.8\" fill=\"#000000\" fill-rule=\"evenodd\" fill-opacity=\"1\" stroke=\"none\"/>\n",
       "<circle clip-path=\"url(#clip952)\" cx=\"1538.75\" cy=\"609.931\" r=\"10.8\" fill=\"#000000\" fill-rule=\"evenodd\" fill-opacity=\"1\" stroke=\"none\"/>\n",
       "<circle clip-path=\"url(#clip952)\" cx=\"776.236\" cy=\"501.001\" r=\"10.8\" fill=\"#000000\" fill-rule=\"evenodd\" fill-opacity=\"1\" stroke=\"none\"/>\n",
       "<circle clip-path=\"url(#clip952)\" cx=\"885.166\" cy=\"501.001\" r=\"10.8\" fill=\"#000000\" fill-rule=\"evenodd\" fill-opacity=\"1\" stroke=\"none\"/>\n",
       "<circle clip-path=\"url(#clip952)\" cx=\"994.096\" cy=\"501.001\" r=\"10.8\" fill=\"#000000\" fill-rule=\"evenodd\" fill-opacity=\"1\" stroke=\"none\"/>\n",
       "<circle clip-path=\"url(#clip952)\" cx=\"1103.03\" cy=\"501.001\" r=\"10.8\" fill=\"#000000\" fill-rule=\"evenodd\" fill-opacity=\"1\" stroke=\"none\"/>\n",
       "<circle clip-path=\"url(#clip952)\" cx=\"1211.96\" cy=\"501.001\" r=\"10.8\" fill=\"#000000\" fill-rule=\"evenodd\" fill-opacity=\"1\" stroke=\"none\"/>\n",
       "<circle clip-path=\"url(#clip952)\" cx=\"1320.89\" cy=\"501.001\" r=\"10.8\" fill=\"#000000\" fill-rule=\"evenodd\" fill-opacity=\"1\" stroke=\"none\"/>\n",
       "<circle clip-path=\"url(#clip952)\" cx=\"1429.82\" cy=\"501.001\" r=\"10.8\" fill=\"#000000\" fill-rule=\"evenodd\" fill-opacity=\"1\" stroke=\"none\"/>\n",
       "<circle clip-path=\"url(#clip952)\" cx=\"1538.75\" cy=\"501.001\" r=\"10.8\" fill=\"#000000\" fill-rule=\"evenodd\" fill-opacity=\"1\" stroke=\"none\"/>\n",
       "<circle clip-path=\"url(#clip952)\" cx=\"776.236\" cy=\"392.07\" r=\"10.8\" fill=\"#000000\" fill-rule=\"evenodd\" fill-opacity=\"1\" stroke=\"none\"/>\n",
       "<circle clip-path=\"url(#clip952)\" cx=\"885.166\" cy=\"392.07\" r=\"10.8\" fill=\"#000000\" fill-rule=\"evenodd\" fill-opacity=\"1\" stroke=\"none\"/>\n",
       "<circle clip-path=\"url(#clip952)\" cx=\"994.096\" cy=\"392.07\" r=\"10.8\" fill=\"#000000\" fill-rule=\"evenodd\" fill-opacity=\"1\" stroke=\"none\"/>\n",
       "<circle clip-path=\"url(#clip952)\" cx=\"1103.03\" cy=\"392.07\" r=\"10.8\" fill=\"#000000\" fill-rule=\"evenodd\" fill-opacity=\"1\" stroke=\"none\"/>\n",
       "<circle clip-path=\"url(#clip952)\" cx=\"1211.96\" cy=\"392.07\" r=\"10.8\" fill=\"#000000\" fill-rule=\"evenodd\" fill-opacity=\"1\" stroke=\"none\"/>\n",
       "<circle clip-path=\"url(#clip952)\" cx=\"1320.89\" cy=\"392.07\" r=\"10.8\" fill=\"#000000\" fill-rule=\"evenodd\" fill-opacity=\"1\" stroke=\"none\"/>\n",
       "<circle clip-path=\"url(#clip952)\" cx=\"1429.82\" cy=\"392.07\" r=\"10.8\" fill=\"#000000\" fill-rule=\"evenodd\" fill-opacity=\"1\" stroke=\"none\"/>\n",
       "<circle clip-path=\"url(#clip952)\" cx=\"1538.75\" cy=\"392.07\" r=\"10.8\" fill=\"#000000\" fill-rule=\"evenodd\" fill-opacity=\"1\" stroke=\"none\"/>\n",
       "<circle clip-path=\"url(#clip952)\" cx=\"776.236\" cy=\"283.14\" r=\"10.8\" fill=\"#000000\" fill-rule=\"evenodd\" fill-opacity=\"1\" stroke=\"none\"/>\n",
       "<circle clip-path=\"url(#clip952)\" cx=\"885.166\" cy=\"283.14\" r=\"10.8\" fill=\"#000000\" fill-rule=\"evenodd\" fill-opacity=\"1\" stroke=\"none\"/>\n",
       "<circle clip-path=\"url(#clip952)\" cx=\"994.096\" cy=\"283.14\" r=\"10.8\" fill=\"#000000\" fill-rule=\"evenodd\" fill-opacity=\"1\" stroke=\"none\"/>\n",
       "<circle clip-path=\"url(#clip952)\" cx=\"1103.03\" cy=\"283.14\" r=\"10.8\" fill=\"#000000\" fill-rule=\"evenodd\" fill-opacity=\"1\" stroke=\"none\"/>\n",
       "<circle clip-path=\"url(#clip952)\" cx=\"1211.96\" cy=\"283.14\" r=\"10.8\" fill=\"#000000\" fill-rule=\"evenodd\" fill-opacity=\"1\" stroke=\"none\"/>\n",
       "<circle clip-path=\"url(#clip952)\" cx=\"1320.89\" cy=\"283.14\" r=\"10.8\" fill=\"#000000\" fill-rule=\"evenodd\" fill-opacity=\"1\" stroke=\"none\"/>\n",
       "<circle clip-path=\"url(#clip952)\" cx=\"1429.82\" cy=\"283.14\" r=\"10.8\" fill=\"#000000\" fill-rule=\"evenodd\" fill-opacity=\"1\" stroke=\"none\"/>\n",
       "<circle clip-path=\"url(#clip952)\" cx=\"1538.75\" cy=\"283.14\" r=\"10.8\" fill=\"#000000\" fill-rule=\"evenodd\" fill-opacity=\"1\" stroke=\"none\"/>\n",
       "<path clip-path=\"url(#clip952)\" d=\"M1103.03 707.968 L1103.16 707.969 L1103.3 707.971 L1103.44 707.976 L1103.58 707.982 L1103.71 707.989 L1103.85 707.999 L1103.99 708.01 L1104.12 708.023 L1104.26 708.038 L1104.39 708.054 L1104.53 708.072 L1104.67 708.092 L1104.8 708.113 L1104.94 708.137 L1105.07 708.162 L1105.21 708.188 L1105.34 708.216 L1105.47 708.246 L1105.61 708.278 L1105.74 708.311 L1105.87 708.346 L1106.01 708.383 L1106.14 708.422 L1106.27 708.462 L1106.4 708.503 L1106.53 708.546 L1106.66 708.591 L1106.79 708.638 L1106.92 708.686 L1107.04 708.736 L1107.17 708.787 L1107.3 708.84 L1107.42 708.895 L1107.55 708.951 L1107.67 709.009 L1107.8 709.068 L1107.92 709.129 L1108.04 709.191 L1108.16 709.255 L1108.28 709.321 L1108.4 709.388 L1108.52 709.456 L1108.64 709.526 L1108.76 709.597 L1108.87 709.67 L1108.99 709.745 L1109.1 709.82 L1109.22 709.898 L1109.33 709.976 L1109.44 710.056 L1109.55 710.138 L1109.66 710.221 L1109.77 710.305 L1109.88 710.39 L1109.98 710.477 L1110.09 710.566 L1110.19 710.655 L1110.29 710.746 L1110.39 710.838 L1110.5 710.932 L1110.59 711.026 L1110.69 711.122 L1110.79 711.219 L1110.89 711.318 L1110.98 711.417 L1111.07 711.518 L1111.16 711.62 L1111.25 711.723 L1111.34 711.827 L1111.43 711.932 L1111.52 712.039 L1111.6 712.146 L1111.69 712.255 L1111.77 712.364 L1111.85 712.475 L1111.93 712.586 L1112.01 712.699 L1112.09 712.813 L1112.16 712.927 L1112.24 713.043 L1112.31 713.159 L1112.38 713.276 L1112.45 713.395 L1112.52 713.514 L1112.58 713.634 L1112.65 713.754 L1112.71 713.876 L1112.77 713.998 L1112.83 714.121 L1112.89 714.245 L1112.95 714.37 L1113.01 714.495 L1113.06 714.621 L1113.11 714.748 L1113.16 714.875 L1113.21 715.003 L1113.26 715.132 L1113.31 715.261 L1113.35 715.391 L1113.39 715.521 L1113.44 715.652 L1113.48 715.783 L1113.51 715.915 L1113.55 716.047 L1113.58 716.18 L1113.62 716.313 L1113.65 716.447 L1113.68 716.58 L1113.71 716.715 L1113.73 716.849 L1113.76 716.984 L1113.78 717.12 L1113.8 717.255 L1113.82 717.391 L1113.84 717.527 L1113.85 717.663 L1113.87 717.8 L1113.88 717.936 L1113.89 718.073 L1113.9 718.21 L1113.91 718.347 L1113.91 718.484 L1113.92 718.621 L1113.92 718.758 L1113.92 718.895 L1113.92 719.032 L1113.92 719.169 L1113.91 719.307 L1113.9 719.444 L1113.9 719.58 L1113.89 719.717 L1113.87 719.854 L1113.86 719.99 L1113.85 720.127 L1113.83 720.263 L1113.81 720.399 L1113.79 720.534 L1113.77 720.67 L1113.74 720.805 L1113.72 720.94 L1113.69 721.074 L1113.66 721.208 L1113.63 721.342 L1113.6 721.475 L1113.57 721.608 L1113.53 721.741 L1113.49 721.873 L1113.46 722.005 L1113.42 722.136 L1113.37 722.266 L1113.33 722.396 L1113.28 722.526 L1113.24 722.654 L1113.19 722.783 L1113.14 722.91 L1113.09 723.037 L1113.03 723.164 L1112.98 723.289 L1112.92 723.414 L1112.86 723.539 L1112.8 723.662 L1112.74 723.785 L1112.68 723.907 L1112.62 724.028 L1112.55 724.148 L1112.48 724.268 L1112.41 724.386 L1112.34 724.504 L1112.27 724.621 L1112.2 724.737 L1112.12 724.852 L1112.05 724.966 L1111.97 725.079 L1111.89 725.191 L1111.81 725.302 L1111.73 725.413 L1111.65 725.522 L1111.56 725.63 L1111.48 725.737 L1111.39 725.842 L1111.3 725.947 L1111.21 726.051 L1111.12 726.153 L1111.03 726.254 L1110.93 726.355 L1110.84 726.454 L1110.74 726.551 L1110.64 726.648 L1110.55 726.743 L1110.45 726.837 L1110.34 726.93 L1110.24 727.021 L1110.14 727.112 L1110.03 727.201 L1109.93 727.288 L1109.82 727.374 L1109.71 727.459 L1109.61 727.543 L1109.5 727.625 L1109.38 727.706 L1109.27 727.785 L1109.16 727.863 L1109.05 727.939 L1108.93 728.015 L1108.82 728.088 L1108.7 728.16 L1108.58 728.231 L1108.46 728.3 L1108.34 728.368 L1108.22 728.434 L1108.1 728.499 L1107.98 728.562 L1107.86 728.624 L1107.74 728.684 L1107.61 728.742 L1107.49 728.799 L1107.36 728.854 L1107.23 728.908 L1107.11 728.96 L1106.98 729.011 L1106.85 729.06 L1106.72 729.107 L1106.59 729.153 L1106.46 729.197 L1106.33 729.24 L1106.2 729.281 L1106.07 729.32 L1105.94 729.357 L1105.81 729.393 L1105.67 729.427 L1105.54 729.46 L1105.41 729.491 L1105.27 729.52 L1105.14 729.547 L1105 729.573 L1104.87 729.597 L1104.73 729.619 L1104.6 729.64 L1104.46 729.659 L1104.33 729.676 L1104.19 729.692 L1104.05 729.705 L1103.92 729.717 L1103.78 729.728 L1103.64 729.736 L1103.51 729.743 L1103.37 729.749 L1103.23 729.752 L1103.1 729.754 L1102.96 729.754 L1102.82 729.752 L1102.68 729.749 L1102.55 729.743 L1102.41 729.736 L1102.27 729.728 L1102.14 729.717 L1102 729.705 L1101.86 729.692 L1101.73 729.676 L1101.59 729.659 L1101.45 729.64 L1101.32 729.619 L1101.18 729.597 L1101.05 729.573 L1100.91 729.547 L1100.78 729.52 L1100.65 729.491 L1100.51 729.46 L1100.38 729.427 L1100.25 729.393 L1100.11 729.357 L1099.98 729.32 L1099.85 729.281 L1099.72 729.24 L1099.59 729.197 L1099.46 729.153 L1099.33 729.107 L1099.2 729.06 L1099.07 729.011 L1098.95 728.96 L1098.82 728.908 L1098.69 728.854 L1098.57 728.799 L1098.44 728.742 L1098.32 728.684 L1098.19 728.624 L1098.07 728.562 L1097.95 728.499 L1097.83 728.434 L1097.71 728.368 L1097.59 728.3 L1097.47 728.231 L1097.35 728.16 L1097.24 728.088 L1097.12 728.015 L1097.01 727.939 L1096.89 727.863 L1096.78 727.785 L1096.67 727.706 L1096.56 727.625 L1096.45 727.543 L1096.34 727.459 L1096.23 727.374 L1096.12 727.288 L1096.02 727.201 L1095.91 727.112 L1095.81 727.021 L1095.71 726.93 L1095.61 726.837 L1095.51 726.743 L1095.41 726.648 L1095.31 726.551 L1095.22 726.454 L1095.12 726.355 L1095.03 726.254 L1094.93 726.153 L1094.84 726.051 L1094.75 725.947 L1094.66 725.842 L1094.58 725.737 L1094.49 725.63 L1094.41 725.522 L1094.32 725.413 L1094.24 725.302 L1094.16 725.191 L1094.08 725.079 L1094.01 724.966 L1093.93 724.852 L1093.85 724.737 L1093.78 724.621 L1093.71 724.504 L1093.64 724.386 L1093.57 724.268 L1093.5 724.148 L1093.44 724.028 L1093.37 723.907 L1093.31 723.785 L1093.25 723.662 L1093.19 723.539 L1093.13 723.414 L1093.07 723.289 L1093.02 723.164 L1092.97 723.037 L1092.91 722.91 L1092.86 722.783 L1092.82 722.654 L1092.77 722.526 L1092.72 722.396 L1092.68 722.266 L1092.64 722.136 L1092.6 722.005 L1092.56 721.873 L1092.52 721.741 L1092.49 721.608 L1092.45 721.475 L1092.42 721.342 L1092.39 721.208 L1092.36 721.074 L1092.33 720.94 L1092.31 720.805 L1092.28 720.67 L1092.26 720.534 L1092.24 720.399 L1092.22 720.263 L1092.21 720.127 L1092.19 719.99 L1092.18 719.854 L1092.17 719.717 L1092.16 719.58 L1092.15 719.444 L1092.14 719.307 L1092.14 719.169 L1092.13 719.032 L1092.13 718.895 L1092.13 718.758 L1092.14 718.621 L1092.14 718.484 L1092.15 718.347 L1092.15 718.21 L1092.16 718.073 L1092.17 717.936 L1092.19 717.8 L1092.2 717.663 L1092.22 717.527 L1092.23 717.391 L1092.25 717.255 L1092.27 717.12 L1092.3 716.984 L1092.32 716.849 L1092.35 716.715 L1092.37 716.58 L1092.4 716.447 L1092.44 716.313 L1092.47 716.18 L1092.5 716.047 L1092.54 715.915 L1092.58 715.783 L1092.62 715.652 L1092.66 715.521 L1092.7 715.391 L1092.75 715.261 L1092.79 715.132 L1092.84 715.003 L1092.89 714.875 L1092.94 714.748 L1092.99 714.621 L1093.05 714.495 L1093.1 714.37 L1093.16 714.245 L1093.22 714.121 L1093.28 713.998 L1093.34 713.876 L1093.4 713.754 L1093.47 713.634 L1093.54 713.514 L1093.6 713.395 L1093.67 713.276 L1093.75 713.159 L1093.82 713.043 L1093.89 712.927 L1093.97 712.813 L1094.04 712.699 L1094.12 712.586 L1094.2 712.475 L1094.28 712.364 L1094.37 712.255 L1094.45 712.146 L1094.53 712.039 L1094.62 711.932 L1094.71 711.827 L1094.8 711.723 L1094.89 711.62 L1094.98 711.518 L1095.07 711.417 L1095.17 711.318 L1095.26 711.219 L1095.36 711.122 L1095.46 711.026 L1095.56 710.932 L1095.66 710.838 L1095.76 710.746 L1095.86 710.655 L1095.97 710.566 L1096.07 710.477 L1096.18 710.39 L1096.28 710.305 L1096.39 710.221 L1096.5 710.138 L1096.61 710.056 L1096.72 709.976 L1096.84 709.898 L1096.95 709.82 L1097.06 709.745 L1097.18 709.67 L1097.3 709.597 L1097.41 709.526 L1097.53 709.456 L1097.65 709.388 L1097.77 709.321 L1097.89 709.255 L1098.01 709.191 L1098.13 709.129 L1098.26 709.068 L1098.38 709.009 L1098.5 708.951 L1098.63 708.895 L1098.76 708.84 L1098.88 708.787 L1099.01 708.736 L1099.14 708.686 L1099.27 708.638 L1099.39 708.591 L1099.52 708.546 L1099.65 708.503 L1099.78 708.462 L1099.92 708.422 L1100.05 708.383 L1100.18 708.346 L1100.31 708.311 L1100.45 708.278 L1100.58 708.246 L1100.71 708.216 L1100.85 708.188 L1100.98 708.162 L1101.12 708.137 L1101.25 708.113 L1101.39 708.092 L1101.52 708.072 L1101.66 708.054 L1101.79 708.038 L1101.93 708.023 L1102.07 708.01 L1102.2 707.999 L1102.34 707.989 L1102.48 707.982 L1102.62 707.976 L1102.75 707.971 L1102.89 707.969 L1103.03 707.968 L1103.03 707.968  Z\" fill=\"#ffffff\" fill-rule=\"evenodd\" fill-opacity=\"0.2\"/>\n",
       "<polyline clip-path=\"url(#clip952)\" style=\"stroke:#ffffff; stroke-linecap:round; stroke-linejoin:round; stroke-width:2; stroke-opacity:1; fill:none\" points=\"1103.03,707.968 1103.16,707.969 1103.3,707.971 1103.44,707.976 1103.58,707.982 1103.71,707.989 1103.85,707.999 1103.99,708.01 1104.12,708.023 1104.26,708.038 1104.39,708.054 1104.53,708.072 1104.67,708.092 1104.8,708.113 1104.94,708.137 1105.07,708.162 1105.21,708.188 1105.34,708.216 1105.47,708.246 1105.61,708.278 1105.74,708.311 1105.87,708.346 1106.01,708.383 1106.14,708.422 1106.27,708.462 1106.4,708.503 1106.53,708.546 1106.66,708.591 1106.79,708.638 1106.92,708.686 1107.04,708.736 1107.17,708.787 1107.3,708.84 1107.42,708.895 1107.55,708.951 1107.67,709.009 1107.8,709.068 1107.92,709.129 1108.04,709.191 1108.16,709.255 1108.28,709.321 1108.4,709.388 1108.52,709.456 1108.64,709.526 1108.76,709.597 1108.87,709.67 1108.99,709.745 1109.1,709.82 1109.22,709.898 1109.33,709.976 1109.44,710.056 1109.55,710.138 1109.66,710.221 1109.77,710.305 1109.88,710.39 1109.98,710.477 1110.09,710.566 1110.19,710.655 1110.29,710.746 1110.39,710.838 1110.5,710.932 1110.59,711.026 1110.69,711.122 1110.79,711.219 1110.89,711.318 1110.98,711.417 1111.07,711.518 1111.16,711.62 1111.25,711.723 1111.34,711.827 1111.43,711.932 1111.52,712.039 1111.6,712.146 1111.69,712.255 1111.77,712.364 1111.85,712.475 1111.93,712.586 1112.01,712.699 1112.09,712.813 1112.16,712.927 1112.24,713.043 1112.31,713.159 1112.38,713.276 1112.45,713.395 1112.52,713.514 1112.58,713.634 1112.65,713.754 1112.71,713.876 1112.77,713.998 1112.83,714.121 1112.89,714.245 1112.95,714.37 1113.01,714.495 1113.06,714.621 1113.11,714.748 1113.16,714.875 1113.21,715.003 1113.26,715.132 1113.31,715.261 1113.35,715.391 1113.39,715.521 1113.44,715.652 1113.48,715.783 1113.51,715.915 1113.55,716.047 1113.58,716.18 1113.62,716.313 1113.65,716.447 1113.68,716.58 1113.71,716.715 1113.73,716.849 1113.76,716.984 1113.78,717.12 1113.8,717.255 1113.82,717.391 1113.84,717.527 1113.85,717.663 1113.87,717.8 1113.88,717.936 1113.89,718.073 1113.9,718.21 1113.91,718.347 1113.91,718.484 1113.92,718.621 1113.92,718.758 1113.92,718.895 1113.92,719.032 1113.92,719.169 1113.91,719.307 1113.9,719.444 1113.9,719.58 1113.89,719.717 1113.87,719.854 1113.86,719.99 1113.85,720.127 1113.83,720.263 1113.81,720.399 1113.79,720.534 1113.77,720.67 1113.74,720.805 1113.72,720.94 1113.69,721.074 1113.66,721.208 1113.63,721.342 1113.6,721.475 1113.57,721.608 1113.53,721.741 1113.49,721.873 1113.46,722.005 1113.42,722.136 1113.37,722.266 1113.33,722.396 1113.28,722.526 1113.24,722.654 1113.19,722.783 1113.14,722.91 1113.09,723.037 1113.03,723.164 1112.98,723.289 1112.92,723.414 1112.86,723.539 1112.8,723.662 1112.74,723.785 1112.68,723.907 1112.62,724.028 1112.55,724.148 1112.48,724.268 1112.41,724.386 1112.34,724.504 1112.27,724.621 1112.2,724.737 1112.12,724.852 1112.05,724.966 1111.97,725.079 1111.89,725.191 1111.81,725.302 1111.73,725.413 1111.65,725.522 1111.56,725.63 1111.48,725.737 1111.39,725.842 1111.3,725.947 1111.21,726.051 1111.12,726.153 1111.03,726.254 1110.93,726.355 1110.84,726.454 1110.74,726.551 1110.64,726.648 1110.55,726.743 1110.45,726.837 1110.34,726.93 1110.24,727.021 1110.14,727.112 1110.03,727.201 1109.93,727.288 1109.82,727.374 1109.71,727.459 1109.61,727.543 1109.5,727.625 1109.38,727.706 1109.27,727.785 1109.16,727.863 1109.05,727.939 1108.93,728.015 1108.82,728.088 1108.7,728.16 1108.58,728.231 1108.46,728.3 1108.34,728.368 1108.22,728.434 1108.1,728.499 1107.98,728.562 1107.86,728.624 1107.74,728.684 1107.61,728.742 1107.49,728.799 1107.36,728.854 1107.23,728.908 1107.11,728.96 1106.98,729.011 1106.85,729.06 1106.72,729.107 1106.59,729.153 1106.46,729.197 1106.33,729.24 1106.2,729.281 1106.07,729.32 1105.94,729.357 1105.81,729.393 1105.67,729.427 1105.54,729.46 1105.41,729.491 1105.27,729.52 1105.14,729.547 1105,729.573 1104.87,729.597 1104.73,729.619 1104.6,729.64 1104.46,729.659 1104.33,729.676 1104.19,729.692 1104.05,729.705 1103.92,729.717 1103.78,729.728 1103.64,729.736 1103.51,729.743 1103.37,729.749 1103.23,729.752 1103.1,729.754 1102.96,729.754 1102.82,729.752 1102.68,729.749 1102.55,729.743 1102.41,729.736 1102.27,729.728 1102.14,729.717 1102,729.705 1101.86,729.692 1101.73,729.676 1101.59,729.659 1101.45,729.64 1101.32,729.619 1101.18,729.597 1101.05,729.573 1100.91,729.547 1100.78,729.52 1100.65,729.491 1100.51,729.46 1100.38,729.427 1100.25,729.393 1100.11,729.357 1099.98,729.32 1099.85,729.281 1099.72,729.24 1099.59,729.197 1099.46,729.153 1099.33,729.107 1099.2,729.06 1099.07,729.011 1098.95,728.96 1098.82,728.908 1098.69,728.854 1098.57,728.799 1098.44,728.742 1098.32,728.684 1098.19,728.624 1098.07,728.562 1097.95,728.499 1097.83,728.434 1097.71,728.368 1097.59,728.3 1097.47,728.231 1097.35,728.16 1097.24,728.088 1097.12,728.015 1097.01,727.939 1096.89,727.863 1096.78,727.785 1096.67,727.706 1096.56,727.625 1096.45,727.543 1096.34,727.459 1096.23,727.374 1096.12,727.288 1096.02,727.201 1095.91,727.112 1095.81,727.021 1095.71,726.93 1095.61,726.837 1095.51,726.743 1095.41,726.648 1095.31,726.551 1095.22,726.454 1095.12,726.355 1095.03,726.254 1094.93,726.153 1094.84,726.051 1094.75,725.947 1094.66,725.842 1094.58,725.737 1094.49,725.63 1094.41,725.522 1094.32,725.413 1094.24,725.302 1094.16,725.191 1094.08,725.079 1094.01,724.966 1093.93,724.852 1093.85,724.737 1093.78,724.621 1093.71,724.504 1093.64,724.386 1093.57,724.268 1093.5,724.148 1093.44,724.028 1093.37,723.907 1093.31,723.785 1093.25,723.662 1093.19,723.539 1093.13,723.414 1093.07,723.289 1093.02,723.164 1092.97,723.037 1092.91,722.91 1092.86,722.783 1092.82,722.654 1092.77,722.526 1092.72,722.396 1092.68,722.266 1092.64,722.136 1092.6,722.005 1092.56,721.873 1092.52,721.741 1092.49,721.608 1092.45,721.475 1092.42,721.342 1092.39,721.208 1092.36,721.074 1092.33,720.94 1092.31,720.805 1092.28,720.67 1092.26,720.534 1092.24,720.399 1092.22,720.263 1092.21,720.127 1092.19,719.99 1092.18,719.854 1092.17,719.717 1092.16,719.58 1092.15,719.444 1092.14,719.307 1092.14,719.169 1092.13,719.032 1092.13,718.895 1092.13,718.758 1092.14,718.621 1092.14,718.484 1092.15,718.347 1092.15,718.21 1092.16,718.073 1092.17,717.936 1092.19,717.8 1092.2,717.663 1092.22,717.527 1092.23,717.391 1092.25,717.255 1092.27,717.12 1092.3,716.984 1092.32,716.849 1092.35,716.715 1092.37,716.58 1092.4,716.447 1092.44,716.313 1092.47,716.18 1092.5,716.047 1092.54,715.915 1092.58,715.783 1092.62,715.652 1092.66,715.521 1092.7,715.391 1092.75,715.261 1092.79,715.132 1092.84,715.003 1092.89,714.875 1092.94,714.748 1092.99,714.621 1093.05,714.495 1093.1,714.37 1093.16,714.245 1093.22,714.121 1093.28,713.998 1093.34,713.876 1093.4,713.754 1093.47,713.634 1093.54,713.514 1093.6,713.395 1093.67,713.276 1093.75,713.159 1093.82,713.043 1093.89,712.927 1093.97,712.813 1094.04,712.699 1094.12,712.586 1094.2,712.475 1094.28,712.364 1094.37,712.255 1094.45,712.146 1094.53,712.039 1094.62,711.932 1094.71,711.827 1094.8,711.723 1094.89,711.62 1094.98,711.518 1095.07,711.417 1095.17,711.318 1095.26,711.219 1095.36,711.122 1095.46,711.026 1095.56,710.932 1095.66,710.838 1095.76,710.746 1095.86,710.655 1095.97,710.566 1096.07,710.477 1096.18,710.39 1096.28,710.305 1096.39,710.221 1096.5,710.138 1096.61,710.056 1096.72,709.976 1096.84,709.898 1096.95,709.82 1097.06,709.745 1097.18,709.67 1097.3,709.597 1097.41,709.526 1097.53,709.456 1097.65,709.388 1097.77,709.321 1097.89,709.255 1098.01,709.191 1098.13,709.129 1098.26,709.068 1098.38,709.009 1098.5,708.951 1098.63,708.895 1098.76,708.84 1098.88,708.787 1099.01,708.736 1099.14,708.686 1099.27,708.638 1099.39,708.591 1099.52,708.546 1099.65,708.503 1099.78,708.462 1099.92,708.422 1100.05,708.383 1100.18,708.346 1100.31,708.311 1100.45,708.278 1100.58,708.246 1100.71,708.216 1100.85,708.188 1100.98,708.162 1101.12,708.137 1101.25,708.113 1101.39,708.092 1101.52,708.072 1101.66,708.054 1101.79,708.038 1101.93,708.023 1102.07,708.01 1102.2,707.999 1102.34,707.989 1102.48,707.982 1102.62,707.976 1102.75,707.971 1102.89,707.969 1103.03,707.968 \"/>\n",
       "<defs>\n",
       "  <clipPath id=\"clip953\">\n",
       "    <rect x=\"2160\" y=\"195\" width=\"73\" height=\"1156\"/>\n",
       "  </clipPath>\n",
       "</defs>\n",
       "<g clip-path=\"url(#clip953)\">\n",
       "<image width=\"72\" height=\"1155\" xlink:href=\"data:image/png;base64,\n",
       "iVBORw0KGgoAAAANSUhEUgAAAEgAAASDCAYAAADajXkjAAAKOUlEQVR4nO3dwY3sRhAFQY5Q/lsh\n",
       "L6XfLQtUeSQPERYMEg9Ek5zZ/f17/r4P/+uvtz/A1wkUBAoChTn337c/w6dZUBAoCBQECnPvn7c/\n",
       "w6dZUBAoCBQcFIMFBYGCQEGgMNdFemVBQaAgUJh7XIM2FhQECgIFgYKDYrCgIFAQKLgGBQsKAgWB\n",
       "gkDB3XywoCBQECjM46C4sqAgUBAoCBTczQcLCgIFgcI8blZXFhQECgIFgcI855+3P8OnWVAQKAgU\n",
       "PFEMFhQECgIFgYK7+WBBQaAgUHANChYUBAoCBYGCu/lgQUGgIFCYn4PiyoKCQEGgIFCY5/g7ihsL\n",
       "CgIFgYKDYrCgIFAQKAgUHBSDBQWBgkDBq+dgQUGgIFAQKMzPQXFlQUGgIFDw9ZdgQUGgIFAQKDgo\n",
       "BgsKAgWBgrcawYKCQEGgIFBwUAwWFAQKAgUHxWBBQaAgUBAoOCgGCwoCBYHCPOe8/Rk+zYKCQEGg\n",
       "IFBwUAwWFAQKAgVPFIMFBYGCQEGg4CIdLCgIFAQK8/NEcWVBQaAgUBAoOCgGCwoCBYGCV8/BgoJA\n",
       "QaAgUHA3HywoCBQECm5WgwUFgYJAQaDgbj5YUBAoCBRcg4IFBYGCQEGg4McswYKCQEGg4KAYLCgI\n",
       "FAQKAgUX6WBBQaAgUBAouEgHCwoCBYGCa1CwoCBQECgIFOa5LtIbCwoCBYGCg2KwoCBQECgIFFyk\n",
       "gwUFgYJAwTUoWFAQKAgUBArznPv2Z/g0CwoCBYGCg2KwoCBQECgIFBwUgwUFgYJAwUExWFAQKAgU\n",
       "BAoOisGCgkBBoDCPc+LKgoJAQaAgUJjnOihuLCgIFAQKDorBgoJAQaAgUHCRDhYUBAoChfGHF3YW\n",
       "FAQKAgWBgoNisKAgUBAouAYFCwoCBYGCQGGe83v7M3yaBQWBgkBh7nUN2lhQECgIFAQK7uaDBQWB\n",
       "gkDBzWqwoCBQECgIFOYejTbqBIGCQMFBMVhQECgIFAQK83jts7KgIFAQKMx1UFxZUBAoCBQECvN4\n",
       "orhSJwgUBAoOisGCgkBBoCBQ8EQxWFAQKAgUfP0lqBMECgIFgYLvBwULCgIFgYInisGCgkBBoCBQ\n",
       "mHs12qgTBAoCBTerwYKCQEGgIFBwNx8sKAgUBArzuFldqRMECgIFgYKDYrCgIFAQKLgGBQsKAgWB\n",
       "gkDBj1mCBQWBgkDBj1mCOkGgIFAQKPj3WcGCgkBBoOCJYrCgIFAQKAgU/B3FoE4QKAgUBAru5oMF\n",
       "BYGCQMHdfLCgIFAQKAgUHBSDBQWBgkDB94OCOkGgIFAQKDgoBgsKAgWBgieKwYKCQEGgIFBwUAwW\n",
       "FAQKAgV/7DZYUBAoCBQECv4rQlAnCBQECm5WgwUFgYJAQaDgtU+woCBQECg4KAYLCgIFgYJAYY6L\n",
       "9MqCgkBBoODHLEGdIFAQKAgU3M0HCwoCBYGCa1CwoCBQECgIFLx6DhYUBAoCBQfFYEFBoCBQECi4\n",
       "SAcLCgIFgYIf1AV1gkBBoCBQmOOJ4sqCgkBBoOBmNVhQECgIFAQKLtLBgoJAQaDgGhQsKAgUBAoC\n",
       "Bb96DhYUBAoCBQfFYEFBoCBQECi4SAcLCgIFgYLvKAZ1gkBBoCBQ8B3FYEFBoCBQcLMaLCgIFAQK\n",
       "AgUX6WBBQaAgUPD1l2BBQaAgUBAoOCgGCwoCBYHC3Mc1aGNBQaAgUBAouJsPFhQECgIFN6vBgoJA\n",
       "QaAgUHBQDBYUBAoCBQfFYEFBoCBQECg4KAYLCgIFgYKDYrCgIFAQKAgUXKSDBQWBgkBhju8oriwo\n",
       "CBQECgIFB8VgQUGgIFAQKHjtEywoCBQECnPv2x/h2ywoCBQECgIFB8VgQUGgIFDwpymCBQWBgkBB\n",
       "oOCgGCwoCBQECl49BwsKAgWBgkDBlziDBQWBgkDBq+dgQUGgIFAQKHiiGCwoCBQECp4oBgsKAgWB\n",
       "gkDBE8VgQUGgIFBwsxosKAgUBAoCBa99ggUFgYJAwc1qsKAgUBAoCBS89gkWFAQKAoU5b3+Cj7Og\n",
       "IFAQKAgUHBSDBQWBgkDBq+dgQUGgIFAQKLibDxYUBAoCBTerwYKCQEGgIFBwUAwWFAQKAgUHxWBB\n",
       "QaAgUBAoeO0TLCgIFAQK4/d0OwsKAgWBgkDBQTFYUBAoCBS81QgWFAQKAgWBgtc+wYKCQEGg4KAY\n",
       "LCgIFAQKAgUHxWBBQaAgUJjj3fPKgoJAQaAgUHA3HywoCBQECm5WgwUFgYJAQaDgoBgsKAgUBAr+\n",
       "O1SwoCBQECgIFPz7rGBBQaAgUPDqOVhQECgIFAQK/jRFsKAgUBAo+MsLwYKCQEGgIFDw2idYUBAo\n",
       "CBR8/SVYUBAoCBQECr5IHiwoCBQECg6KwYKCQEGgIFDw/aBgQUGgIFAQKPh+ULCgIFAQKDgoBgsK\n",
       "AgWBgkDB94OCBQWBgkDBr56DBQWBgkBBoOBuPlhQECgIFLzVCBYUBAoCBYGCg2KwoCBQECg4KAYL\n",
       "CgIFgYJAwUExWFAQKAgUXIOCBQWBgkBBoOBuPlhQECgIFBwUgwUFgYJAQaDgoBgsKAgUBAoOisGC\n",
       "gkBBoCBQ8KvnYEFBoCBQ8MdugwUFgYJAQaDgbj5YUBAoCBTmPi5CGwsKAgWBgkDBQTFYUBAoCBS8\n",
       "1QgWFAQKAgWBgtc+wYKCQEGg4GY1WFAQKAgUBApe+wQLCgIFgYKDYrCgIFAQKAgU/Oo5WFAQKAgU\n",
       "5nj3vLKgIFAQKAgUvHoOFhQECgKFuQ6KKwsKAgWBgkDBQTFYUBAoCBQ8UQwWFAQKAgWBglfPwYKC\n",
       "QEGgMMf3pFcWFAQKAgWBgrv5YEFBoCBQ8IO6YEFBoCBQECh49RwsKAgUBAqeKAYLCgIFgYJAwd18\n",
       "sKAgUBAozHncrm4sKAgUBAoCBXfzwYKCQEGg4BoULCgIFAQKAgVPFIMFBYGCQMETxWBBQaAgUBAo\n",
       "zPk5KG4sKAgUBAoCBSfpYEFBoCBQmOsatLKgIFAQKAgUHBSDBQWBgkBhzs81aGNBQaAgUBAoOCgG\n",
       "CwoCBYGCJ4rBgoJAQaAgUHBQDBYUBAoCBdegYEFBoCBQECh47RMsKAgUBApznz9vf4ZPs6AgUBAo\n",
       "CBTczQcLCgIFgYJXz8GCgkBBoCBQmHPdzW8sKAgUBAoOisGCgkBBoCBQmOO1z8qCgkBBoOCgGCwo\n",
       "CBQECgIFB8VgQUGgIFCYex0UNxYUBAoCBYGCu/lgQUGgIFDw9ZdgQUGgIFAQKDgoBgsKAgWBwlwH\n",
       "xZUFBYGCQEGg4KAYLCgIFAQKc7x6XllQECgIFAQK/oZZsKAgUBAo+I5isKAgUBAoCBQ8UQwWFAQK\n",
       "AgUHxWBBQaAgUBAouEgHCwoCBYGCtxrBgoJAQaAgUHBQDBYUBAoChXm81VhZUBAoCBQECg6KwYKC\n",
       "QEGg4OsvwYKCQEGgIFCYx0FxZUFBoCBQ8Oo5WFAQKAgUBApe+wQLCgIFgYKb1WBBQaAgUBAozH3u\n",
       "25/h0ywoCBQECm5WgwUFgYJAQaAwj4PiyoKCQEGg8B9Q/+wVep1mhAAAAABJRU5ErkJggg==\n",
       "\" transform=\"translate(2161, 196)\"/>\n",
       "</g>\n",
       "<path clip-path=\"url(#clip950)\" d=\"M2285.18 1143.78 Q2280.21 1143.78 2277.7 1148.68 Q2275.22 1153.55 2275.22 1163.35 Q2275.22 1173.12 2277.7 1178.02 Q2280.21 1182.89 2285.18 1182.89 Q2290.18 1182.89 2292.66 1178.02 Q2295.17 1173.12 2295.17 1163.35 Q2295.17 1153.55 2292.66 1148.68 Q2290.18 1143.78 2285.18 1143.78 M2285.18 1138.68 Q2293.17 1138.68 2297.37 1145.02 Q2301.6 1151.32 2301.6 1163.35 Q2301.6 1175.35 2297.37 1181.69 Q2293.17 1187.99 2285.18 1187.99 Q2277.19 1187.99 2272.96 1181.69 Q2268.76 1175.35 2268.76 1163.35 Q2268.76 1151.32 2272.96 1145.02 Q2277.19 1138.68 2285.18 1138.68 Z\" fill=\"#000000\" fill-rule=\"nonzero\" fill-opacity=\"1\" /><path clip-path=\"url(#clip950)\" d=\"M2312.9 1178.98 L2319.62 1178.98 L2319.62 1187.06 L2312.9 1187.06 L2312.9 1178.98 Z\" fill=\"#000000\" fill-rule=\"nonzero\" fill-opacity=\"1\" /><path clip-path=\"url(#clip950)\" d=\"M2347.37 1143.78 Q2342.41 1143.78 2339.89 1148.68 Q2337.41 1153.55 2337.41 1163.35 Q2337.41 1173.12 2339.89 1178.02 Q2342.41 1182.89 2347.37 1182.89 Q2352.37 1182.89 2354.85 1178.02 Q2357.37 1173.12 2357.37 1163.35 Q2357.37 1153.55 2354.85 1148.68 Q2352.37 1143.78 2347.37 1143.78 M2347.37 1138.68 Q2355.36 1138.68 2359.56 1145.02 Q2363.8 1151.32 2363.8 1163.35 Q2363.8 1175.35 2359.56 1181.69 Q2355.36 1187.99 2347.37 1187.99 Q2339.38 1187.99 2335.15 1181.69 Q2330.95 1175.35 2330.95 1163.35 Q2330.95 1151.32 2335.15 1145.02 Q2339.38 1138.68 2347.37 1138.68 Z\" fill=\"#000000\" fill-rule=\"nonzero\" fill-opacity=\"1\" /><path clip-path=\"url(#clip950)\" d=\"M2376.21 1181.65 L2386.71 1181.65 L2386.71 1145.4 L2375.29 1147.69 L2375.29 1141.84 L2386.65 1139.54 L2393.08 1139.54 L2393.08 1181.65 L2403.58 1181.65 L2403.58 1187.06 L2376.21 1187.06 L2376.21 1181.65 Z\" fill=\"#000000\" fill-rule=\"nonzero\" fill-opacity=\"1\" /><path clip-path=\"url(#clip950)\" d=\"M2285.18 961.411 Q2280.21 961.411 2277.7 966.312 Q2275.22 971.182 2275.22 980.985 Q2275.22 990.756 2277.7 995.658 Q2280.21 1000.53 2285.18 1000.53 Q2290.18 1000.53 2292.66 995.658 Q2295.17 990.756 2295.17 980.985 Q2295.17 971.182 2292.66 966.312 Q2290.18 961.411 2285.18 961.411 M2285.18 956.318 Q2293.17 956.318 2297.37 962.652 Q2301.6 968.954 2301.6 980.985 Q2301.6 992.984 2297.37 999.318 Q2293.17 1005.62 2285.18 1005.62 Q2277.19 1005.62 2272.96 999.318 Q2268.76 992.984 2268.76 980.985 Q2268.76 968.954 2272.96 962.652 Q2277.19 956.318 2285.18 956.318 Z\" fill=\"#000000\" fill-rule=\"nonzero\" fill-opacity=\"1\" /><path clip-path=\"url(#clip950)\" d=\"M2312.9 996.613 L2319.62 996.613 L2319.62 1004.7 L2312.9 1004.7 L2312.9 996.613 Z\" fill=\"#000000\" fill-rule=\"nonzero\" fill-opacity=\"1\" /><path clip-path=\"url(#clip950)\" d=\"M2347.37 961.411 Q2342.41 961.411 2339.89 966.312 Q2337.41 971.182 2337.41 980.985 Q2337.41 990.756 2339.89 995.658 Q2342.41 1000.53 2347.37 1000.53 Q2352.37 1000.53 2354.85 995.658 Q2357.37 990.756 2357.37 980.985 Q2357.37 971.182 2354.85 966.312 Q2352.37 961.411 2347.37 961.411 M2347.37 956.318 Q2355.36 956.318 2359.56 962.652 Q2363.8 968.954 2363.8 980.985 Q2363.8 992.984 2359.56 999.318 Q2355.36 1005.62 2347.37 1005.62 Q2339.38 1005.62 2335.15 999.318 Q2330.95 992.984 2330.95 980.985 Q2330.95 968.954 2335.15 962.652 Q2339.38 956.318 2347.37 956.318 Z\" fill=\"#000000\" fill-rule=\"nonzero\" fill-opacity=\"1\" /><path clip-path=\"url(#clip950)\" d=\"M2380.63 999.286 L2403.07 999.286 L2403.07 1004.7 L2372.9 1004.7 L2372.9 999.286 Q2376.56 995.499 2382.86 989.133 Q2389.2 982.736 2390.82 980.89 Q2393.91 977.42 2395.12 975.033 Q2396.36 972.614 2396.36 970.291 Q2396.36 966.503 2393.68 964.116 Q2391.04 961.729 2386.78 961.729 Q2383.75 961.729 2380.38 962.779 Q2377.04 963.829 2373.22 965.962 L2373.22 959.469 Q2377.1 957.909 2380.47 957.114 Q2383.85 956.318 2386.65 956.318 Q2394.03 956.318 2398.43 960.01 Q2402.82 963.702 2402.82 969.877 Q2402.82 972.805 2401.7 975.447 Q2400.62 978.057 2397.73 981.622 Q2396.93 982.545 2392.66 986.969 Q2388.4 991.361 2380.63 999.286 Z\" fill=\"#000000\" fill-rule=\"nonzero\" fill-opacity=\"1\" /><path clip-path=\"url(#clip950)\" d=\"M2285.18 779.044 Q2280.21 779.044 2277.7 783.945 Q2275.22 788.815 2275.22 798.618 Q2275.22 808.39 2277.7 813.291 Q2280.21 818.161 2285.18 818.161 Q2290.18 818.161 2292.66 813.291 Q2295.17 808.39 2295.17 798.618 Q2295.17 788.815 2292.66 783.945 Q2290.18 779.044 2285.18 779.044 M2285.18 773.951 Q2293.17 773.951 2297.37 780.285 Q2301.6 786.587 2301.6 798.618 Q2301.6 810.618 2297.37 816.951 Q2293.17 823.253 2285.18 823.253 Q2277.19 823.253 2272.96 816.951 Q2268.76 810.618 2268.76 798.618 Q2268.76 786.587 2272.96 780.285 Q2277.19 773.951 2285.18 773.951 Z\" fill=\"#000000\" fill-rule=\"nonzero\" fill-opacity=\"1\" /><path clip-path=\"url(#clip950)\" d=\"M2312.9 814.246 L2319.62 814.246 L2319.62 822.33 L2312.9 822.33 L2312.9 814.246 Z\" fill=\"#000000\" fill-rule=\"nonzero\" fill-opacity=\"1\" /><path clip-path=\"url(#clip950)\" d=\"M2347.37 779.044 Q2342.41 779.044 2339.89 783.945 Q2337.41 788.815 2337.41 798.618 Q2337.41 808.39 2339.89 813.291 Q2342.41 818.161 2347.37 818.161 Q2352.37 818.161 2354.85 813.291 Q2357.37 808.39 2357.37 798.618 Q2357.37 788.815 2354.85 783.945 Q2352.37 779.044 2347.37 779.044 M2347.37 773.951 Q2355.36 773.951 2359.56 780.285 Q2363.8 786.587 2363.8 798.618 Q2363.8 810.618 2359.56 816.951 Q2355.36 823.253 2347.37 823.253 Q2339.38 823.253 2335.15 816.951 Q2330.95 810.618 2330.95 798.618 Q2330.95 786.587 2335.15 780.285 Q2339.38 773.951 2347.37 773.951 Z\" fill=\"#000000\" fill-rule=\"nonzero\" fill-opacity=\"1\" /><path clip-path=\"url(#clip950)\" d=\"M2394.57 796.708 Q2399.19 797.695 2401.77 800.814 Q2404.38 803.934 2404.38 808.517 Q2404.38 815.551 2399.54 819.402 Q2394.7 823.253 2385.79 823.253 Q2382.8 823.253 2379.61 822.649 Q2376.46 822.076 2373.09 820.898 L2373.09 814.692 Q2375.76 816.251 2378.95 817.047 Q2382.13 817.843 2385.6 817.843 Q2391.65 817.843 2394.8 815.455 Q2397.98 813.068 2397.98 808.517 Q2397.98 804.315 2395.02 801.96 Q2392.09 799.573 2386.84 799.573 L2381.3 799.573 L2381.3 794.289 L2387.09 794.289 Q2391.84 794.289 2394.35 792.412 Q2396.87 790.502 2396.87 786.937 Q2396.87 783.277 2394.26 781.335 Q2391.68 779.362 2386.84 779.362 Q2384.2 779.362 2381.17 779.935 Q2378.15 780.508 2374.52 781.717 L2374.52 775.988 Q2378.18 774.97 2381.37 774.46 Q2384.58 773.951 2387.41 773.951 Q2394.73 773.951 2399 777.293 Q2403.26 780.603 2403.26 786.269 Q2403.26 790.215 2401 792.953 Q2398.74 795.658 2394.57 796.708 Z\" fill=\"#000000\" fill-rule=\"nonzero\" fill-opacity=\"1\" /><path clip-path=\"url(#clip950)\" d=\"M2285.18 596.677 Q2280.21 596.677 2277.7 601.578 Q2275.22 606.448 2275.22 616.251 Q2275.22 626.023 2277.7 630.924 Q2280.21 635.794 2285.18 635.794 Q2290.18 635.794 2292.66 630.924 Q2295.17 626.023 2295.17 616.251 Q2295.17 606.448 2292.66 601.578 Q2290.18 596.677 2285.18 596.677 M2285.18 591.584 Q2293.17 591.584 2297.37 597.918 Q2301.6 604.22 2301.6 616.251 Q2301.6 628.251 2297.37 634.585 Q2293.17 640.887 2285.18 640.887 Q2277.19 640.887 2272.96 634.585 Q2268.76 628.251 2268.76 616.251 Q2268.76 604.22 2272.96 597.918 Q2277.19 591.584 2285.18 591.584 Z\" fill=\"#000000\" fill-rule=\"nonzero\" fill-opacity=\"1\" /><path clip-path=\"url(#clip950)\" d=\"M2312.9 631.879 L2319.62 631.879 L2319.62 639.964 L2312.9 639.964 L2312.9 631.879 Z\" fill=\"#000000\" fill-rule=\"nonzero\" fill-opacity=\"1\" /><path clip-path=\"url(#clip950)\" d=\"M2347.37 596.677 Q2342.41 596.677 2339.89 601.578 Q2337.41 606.448 2337.41 616.251 Q2337.41 626.023 2339.89 630.924 Q2342.41 635.794 2347.37 635.794 Q2352.37 635.794 2354.85 630.924 Q2357.37 626.023 2357.37 616.251 Q2357.37 606.448 2354.85 601.578 Q2352.37 596.677 2347.37 596.677 M2347.37 591.584 Q2355.36 591.584 2359.56 597.918 Q2363.8 604.22 2363.8 616.251 Q2363.8 628.251 2359.56 634.585 Q2355.36 640.887 2347.37 640.887 Q2339.38 640.887 2335.15 634.585 Q2330.95 628.251 2330.95 616.251 Q2330.95 604.22 2335.15 597.918 Q2339.38 591.584 2347.37 591.584 Z\" fill=\"#000000\" fill-rule=\"nonzero\" fill-opacity=\"1\" /><path clip-path=\"url(#clip950)\" d=\"M2392.76 598.045 L2376.53 623.413 L2392.76 623.413 L2392.76 598.045 M2391.07 592.444 L2399.16 592.444 L2399.16 623.413 L2405.94 623.413 L2405.94 628.76 L2399.16 628.76 L2399.16 639.964 L2392.76 639.964 L2392.76 628.76 L2371.31 628.76 L2371.31 622.553 L2391.07 592.444 Z\" fill=\"#000000\" fill-rule=\"nonzero\" fill-opacity=\"1\" /><path clip-path=\"url(#clip950)\" d=\"M2285.18 414.31 Q2280.21 414.31 2277.7 419.211 Q2275.22 424.081 2275.22 433.884 Q2275.22 443.656 2277.7 448.557 Q2280.21 453.427 2285.18 453.427 Q2290.18 453.427 2292.66 448.557 Q2295.17 443.656 2295.17 433.884 Q2295.17 424.081 2292.66 419.211 Q2290.18 414.31 2285.18 414.31 M2285.18 409.217 Q2293.17 409.217 2297.37 415.551 Q2301.6 421.853 2301.6 433.884 Q2301.6 445.884 2297.37 452.218 Q2293.17 458.52 2285.18 458.52 Q2277.19 458.52 2272.96 452.218 Q2268.76 445.884 2268.76 433.884 Q2268.76 421.853 2272.96 415.551 Q2277.19 409.217 2285.18 409.217 Z\" fill=\"#000000\" fill-rule=\"nonzero\" fill-opacity=\"1\" /><path clip-path=\"url(#clip950)\" d=\"M2312.9 449.512 L2319.62 449.512 L2319.62 457.597 L2312.9 457.597 L2312.9 449.512 Z\" fill=\"#000000\" fill-rule=\"nonzero\" fill-opacity=\"1\" /><path clip-path=\"url(#clip950)\" d=\"M2347.37 414.31 Q2342.41 414.31 2339.89 419.211 Q2337.41 424.081 2337.41 433.884 Q2337.41 443.656 2339.89 448.557 Q2342.41 453.427 2347.37 453.427 Q2352.37 453.427 2354.85 448.557 Q2357.37 443.656 2357.37 433.884 Q2357.37 424.081 2354.85 419.211 Q2352.37 414.31 2347.37 414.31 M2347.37 409.217 Q2355.36 409.217 2359.56 415.551 Q2363.8 421.853 2363.8 433.884 Q2363.8 445.884 2359.56 452.218 Q2355.36 458.52 2347.37 458.52 Q2339.38 458.52 2335.15 452.218 Q2330.95 445.884 2330.95 433.884 Q2330.95 421.853 2335.15 415.551 Q2339.38 409.217 2347.37 409.217 Z\" fill=\"#000000\" fill-rule=\"nonzero\" fill-opacity=\"1\" /><path clip-path=\"url(#clip950)\" d=\"M2375.16 410.077 L2400.4 410.077 L2400.4 415.488 L2381.05 415.488 L2381.05 427.137 Q2382.45 426.659 2383.85 426.437 Q2385.25 426.182 2386.65 426.182 Q2394.61 426.182 2399.25 430.542 Q2403.9 434.903 2403.9 442.351 Q2403.9 450.021 2399.13 454.286 Q2394.35 458.52 2385.66 458.52 Q2382.67 458.52 2379.55 458.01 Q2376.46 457.501 2373.15 456.483 L2373.15 450.021 Q2376.02 451.581 2379.07 452.345 Q2382.13 453.109 2385.53 453.109 Q2391.04 453.109 2394.26 450.212 Q2397.47 447.316 2397.47 442.351 Q2397.47 437.386 2394.26 434.489 Q2391.04 431.593 2385.53 431.593 Q2382.96 431.593 2380.38 432.166 Q2377.83 432.739 2375.16 433.948 L2375.16 410.077 Z\" fill=\"#000000\" fill-rule=\"nonzero\" fill-opacity=\"1\" /><path clip-path=\"url(#clip950)\" d=\"M2285.18 231.943 Q2280.21 231.943 2277.7 236.845 Q2275.22 241.714 2275.22 251.518 Q2275.22 261.289 2277.7 266.19 Q2280.21 271.06 2285.18 271.06 Q2290.18 271.06 2292.66 266.19 Q2295.17 261.289 2295.17 251.518 Q2295.17 241.714 2292.66 236.845 Q2290.18 231.943 2285.18 231.943 M2285.18 226.85 Q2293.17 226.85 2297.37 233.184 Q2301.6 239.486 2301.6 251.518 Q2301.6 263.517 2297.37 269.851 Q2293.17 276.153 2285.18 276.153 Q2277.19 276.153 2272.96 269.851 Q2268.76 263.517 2268.76 251.518 Q2268.76 239.486 2272.96 233.184 Q2277.19 226.85 2285.18 226.85 Z\" fill=\"#000000\" fill-rule=\"nonzero\" fill-opacity=\"1\" /><path clip-path=\"url(#clip950)\" d=\"M2312.9 267.145 L2319.62 267.145 L2319.62 275.23 L2312.9 275.23 L2312.9 267.145 Z\" fill=\"#000000\" fill-rule=\"nonzero\" fill-opacity=\"1\" /><path clip-path=\"url(#clip950)\" d=\"M2347.37 231.943 Q2342.41 231.943 2339.89 236.845 Q2337.41 241.714 2337.41 251.518 Q2337.41 261.289 2339.89 266.19 Q2342.41 271.06 2347.37 271.06 Q2352.37 271.06 2354.85 266.19 Q2357.37 261.289 2357.37 251.518 Q2357.37 241.714 2354.85 236.845 Q2352.37 231.943 2347.37 231.943 M2347.37 226.85 Q2355.36 226.85 2359.56 233.184 Q2363.8 239.486 2363.8 251.518 Q2363.8 263.517 2359.56 269.851 Q2355.36 276.153 2347.37 276.153 Q2339.38 276.153 2335.15 269.851 Q2330.95 263.517 2330.95 251.518 Q2330.95 239.486 2335.15 233.184 Q2339.38 226.85 2347.37 226.85 Z\" fill=\"#000000\" fill-rule=\"nonzero\" fill-opacity=\"1\" /><path clip-path=\"url(#clip950)\" d=\"M2389.64 248.908 Q2385.31 248.908 2382.77 251.868 Q2380.25 254.828 2380.25 259.984 Q2380.25 265.108 2382.77 268.1 Q2385.31 271.06 2389.64 271.06 Q2393.97 271.06 2396.48 268.1 Q2399.03 265.108 2399.03 259.984 Q2399.03 254.828 2396.48 251.868 Q2393.97 248.908 2389.64 248.908 M2402.4 228.76 L2402.4 234.617 Q2399.98 233.471 2397.5 232.866 Q2395.05 232.261 2392.63 232.261 Q2386.27 232.261 2382.89 236.558 Q2379.55 240.855 2379.07 249.544 Q2380.95 246.775 2383.78 245.311 Q2386.62 243.815 2390.02 243.815 Q2397.18 243.815 2401.32 248.176 Q2405.49 252.504 2405.49 259.984 Q2405.49 267.304 2401.16 271.729 Q2396.83 276.153 2389.64 276.153 Q2381.4 276.153 2377.04 269.851 Q2372.68 263.517 2372.68 251.518 Q2372.68 240.25 2378.02 233.566 Q2383.37 226.85 2392.38 226.85 Q2394.8 226.85 2397.25 227.328 Q2399.73 227.805 2402.4 228.76 Z\" fill=\"#000000\" fill-rule=\"nonzero\" fill-opacity=\"1\" /><polyline clip-path=\"url(#clip950)\" style=\"stroke:#000000; stroke-linecap:round; stroke-linejoin:round; stroke-width:4; stroke-opacity:1; fill:none\" points=\"2232.76,1350.66 2232.76,1168.29 2256.76,1168.29 2232.76,1168.29 2232.76,985.927 2256.76,985.927 2232.76,985.927 2232.76,803.56 2256.76,803.56 2232.76,803.56 2232.76,621.193 2256.76,621.193 2232.76,621.193 2232.76,438.826 2256.76,438.826 2232.76,438.826 2232.76,256.459 2256.76,256.459 2232.76,256.459 2232.76,195.996 \"/>\n",
       "<g clip-path=\"url(#clip950)\">\n",
       "<text style=\"fill:#008000; fill-opacity:1; font-family:Courier,Courier New,Lucida Sans Typewriter,Lucida Typewriter,monospace; font-size:74px; text-anchor:middle;\" transform=\"rotate(0, 776.236, 1285.01)\" x=\"776.236\" y=\"1285.01\">1</text>\n",
       "</g>\n",
       "<g clip-path=\"url(#clip950)\">\n",
       "<text style=\"fill:#008000; fill-opacity:1; font-family:Courier,Courier New,Lucida Sans Typewriter,Lucida Typewriter,monospace; font-size:74px; text-anchor:middle;\" transform=\"rotate(0, 885.166, 1285.01)\" x=\"885.166\" y=\"1285.01\">2</text>\n",
       "</g>\n",
       "<g clip-path=\"url(#clip950)\">\n",
       "<text style=\"fill:#008000; fill-opacity:1; font-family:Courier,Courier New,Lucida Sans Typewriter,Lucida Typewriter,monospace; font-size:74px; text-anchor:middle;\" transform=\"rotate(0, 994.096, 1285.01)\" x=\"994.096\" y=\"1285.01\">3</text>\n",
       "</g>\n",
       "<g clip-path=\"url(#clip950)\">\n",
       "<text style=\"fill:#008000; fill-opacity:1; font-family:Courier,Courier New,Lucida Sans Typewriter,Lucida Typewriter,monospace; font-size:74px; text-anchor:middle;\" transform=\"rotate(0, 1103.03, 1285.01)\" x=\"1103.03\" y=\"1285.01\">4</text>\n",
       "</g>\n",
       "<g clip-path=\"url(#clip950)\">\n",
       "<text style=\"fill:#008000; fill-opacity:1; font-family:Courier,Courier New,Lucida Sans Typewriter,Lucida Typewriter,monospace; font-size:74px; text-anchor:middle;\" transform=\"rotate(0, 1211.96, 1285.01)\" x=\"1211.96\" y=\"1285.01\">5</text>\n",
       "</g>\n",
       "<g clip-path=\"url(#clip950)\">\n",
       "<text style=\"fill:#008000; fill-opacity:1; font-family:Courier,Courier New,Lucida Sans Typewriter,Lucida Typewriter,monospace; font-size:74px; text-anchor:middle;\" transform=\"rotate(0, 1320.89, 1285.01)\" x=\"1320.89\" y=\"1285.01\">6</text>\n",
       "</g>\n",
       "<g clip-path=\"url(#clip950)\">\n",
       "<text style=\"fill:#008000; fill-opacity:1; font-family:Courier,Courier New,Lucida Sans Typewriter,Lucida Typewriter,monospace; font-size:74px; text-anchor:middle;\" transform=\"rotate(0, 1429.82, 1285.01)\" x=\"1429.82\" y=\"1285.01\">7</text>\n",
       "</g>\n",
       "<g clip-path=\"url(#clip950)\">\n",
       "<text style=\"fill:#008000; fill-opacity:1; font-family:Courier,Courier New,Lucida Sans Typewriter,Lucida Typewriter,monospace; font-size:74px; text-anchor:middle;\" transform=\"rotate(0, 1538.75, 1285.01)\" x=\"1538.75\" y=\"1285.01\">8</text>\n",
       "</g>\n",
       "<g clip-path=\"url(#clip950)\">\n",
       "<text style=\"fill:#008000; fill-opacity:1; font-family:Courier,Courier New,Lucida Sans Typewriter,Lucida Typewriter,monospace; font-size:74px; text-anchor:middle;\" transform=\"rotate(0, 776.236, 1176.08)\" x=\"776.236\" y=\"1176.08\">9</text>\n",
       "</g>\n",
       "<g clip-path=\"url(#clip950)\">\n",
       "<text style=\"fill:#008000; fill-opacity:1; font-family:Courier,Courier New,Lucida Sans Typewriter,Lucida Typewriter,monospace; font-size:74px; text-anchor:middle;\" transform=\"rotate(0, 885.166, 1176.08)\" x=\"885.166\" y=\"1176.08\">10</text>\n",
       "</g>\n",
       "<g clip-path=\"url(#clip950)\">\n",
       "<text style=\"fill:#008000; fill-opacity:1; font-family:Courier,Courier New,Lucida Sans Typewriter,Lucida Typewriter,monospace; font-size:74px; text-anchor:middle;\" transform=\"rotate(0, 994.096, 1176.08)\" x=\"994.096\" y=\"1176.08\">11</text>\n",
       "</g>\n",
       "<g clip-path=\"url(#clip950)\">\n",
       "<text style=\"fill:#008000; fill-opacity:1; font-family:Courier,Courier New,Lucida Sans Typewriter,Lucida Typewriter,monospace; font-size:74px; text-anchor:middle;\" transform=\"rotate(0, 1103.03, 1176.08)\" x=\"1103.03\" y=\"1176.08\">12</text>\n",
       "</g>\n",
       "<g clip-path=\"url(#clip950)\">\n",
       "<text style=\"fill:#008000; fill-opacity:1; font-family:Courier,Courier New,Lucida Sans Typewriter,Lucida Typewriter,monospace; font-size:74px; text-anchor:middle;\" transform=\"rotate(0, 1211.96, 1176.08)\" x=\"1211.96\" y=\"1176.08\">13</text>\n",
       "</g>\n",
       "<g clip-path=\"url(#clip950)\">\n",
       "<text style=\"fill:#008000; fill-opacity:1; font-family:Courier,Courier New,Lucida Sans Typewriter,Lucida Typewriter,monospace; font-size:74px; text-anchor:middle;\" transform=\"rotate(0, 1320.89, 1176.08)\" x=\"1320.89\" y=\"1176.08\">14</text>\n",
       "</g>\n",
       "<g clip-path=\"url(#clip950)\">\n",
       "<text style=\"fill:#008000; fill-opacity:1; font-family:Courier,Courier New,Lucida Sans Typewriter,Lucida Typewriter,monospace; font-size:74px; text-anchor:middle;\" transform=\"rotate(0, 1429.82, 1176.08)\" x=\"1429.82\" y=\"1176.08\">15</text>\n",
       "</g>\n",
       "<g clip-path=\"url(#clip950)\">\n",
       "<text style=\"fill:#008000; fill-opacity:1; font-family:Courier,Courier New,Lucida Sans Typewriter,Lucida Typewriter,monospace; font-size:74px; text-anchor:middle;\" transform=\"rotate(0, 1538.75, 1176.08)\" x=\"1538.75\" y=\"1176.08\">16</text>\n",
       "</g>\n",
       "<g clip-path=\"url(#clip950)\">\n",
       "<text style=\"fill:#008000; fill-opacity:1; font-family:Courier,Courier New,Lucida Sans Typewriter,Lucida Typewriter,monospace; font-size:74px; text-anchor:middle;\" transform=\"rotate(0, 776.236, 1067.15)\" x=\"776.236\" y=\"1067.15\">17</text>\n",
       "</g>\n",
       "<g clip-path=\"url(#clip950)\">\n",
       "<text style=\"fill:#008000; fill-opacity:1; font-family:Courier,Courier New,Lucida Sans Typewriter,Lucida Typewriter,monospace; font-size:74px; text-anchor:middle;\" transform=\"rotate(0, 885.166, 1067.15)\" x=\"885.166\" y=\"1067.15\">18</text>\n",
       "</g>\n",
       "<g clip-path=\"url(#clip950)\">\n",
       "<text style=\"fill:#008000; fill-opacity:1; font-family:Courier,Courier New,Lucida Sans Typewriter,Lucida Typewriter,monospace; font-size:74px; text-anchor:middle;\" transform=\"rotate(0, 994.096, 1067.15)\" x=\"994.096\" y=\"1067.15\">19</text>\n",
       "</g>\n",
       "<g clip-path=\"url(#clip950)\">\n",
       "<text style=\"fill:#008000; fill-opacity:1; font-family:Courier,Courier New,Lucida Sans Typewriter,Lucida Typewriter,monospace; font-size:74px; text-anchor:middle;\" transform=\"rotate(0, 1103.03, 1067.15)\" x=\"1103.03\" y=\"1067.15\">20</text>\n",
       "</g>\n",
       "<g clip-path=\"url(#clip950)\">\n",
       "<text style=\"fill:#008000; fill-opacity:1; font-family:Courier,Courier New,Lucida Sans Typewriter,Lucida Typewriter,monospace; font-size:74px; text-anchor:middle;\" transform=\"rotate(0, 1211.96, 1067.15)\" x=\"1211.96\" y=\"1067.15\">21</text>\n",
       "</g>\n",
       "<g clip-path=\"url(#clip950)\">\n",
       "<text style=\"fill:#008000; fill-opacity:1; font-family:Courier,Courier New,Lucida Sans Typewriter,Lucida Typewriter,monospace; font-size:74px; text-anchor:middle;\" transform=\"rotate(0, 1320.89, 1067.15)\" x=\"1320.89\" y=\"1067.15\">22</text>\n",
       "</g>\n",
       "<g clip-path=\"url(#clip950)\">\n",
       "<text style=\"fill:#008000; fill-opacity:1; font-family:Courier,Courier New,Lucida Sans Typewriter,Lucida Typewriter,monospace; font-size:74px; text-anchor:middle;\" transform=\"rotate(0, 1429.82, 1067.15)\" x=\"1429.82\" y=\"1067.15\">23</text>\n",
       "</g>\n",
       "<g clip-path=\"url(#clip950)\">\n",
       "<text style=\"fill:#008000; fill-opacity:1; font-family:Courier,Courier New,Lucida Sans Typewriter,Lucida Typewriter,monospace; font-size:74px; text-anchor:middle;\" transform=\"rotate(0, 1538.75, 1067.15)\" x=\"1538.75\" y=\"1067.15\">24</text>\n",
       "</g>\n",
       "<g clip-path=\"url(#clip950)\">\n",
       "<text style=\"fill:#008000; fill-opacity:1; font-family:Courier,Courier New,Lucida Sans Typewriter,Lucida Typewriter,monospace; font-size:74px; text-anchor:middle;\" transform=\"rotate(0, 776.236, 958.221)\" x=\"776.236\" y=\"958.221\">25</text>\n",
       "</g>\n",
       "<g clip-path=\"url(#clip950)\">\n",
       "<text style=\"fill:#008000; fill-opacity:1; font-family:Courier,Courier New,Lucida Sans Typewriter,Lucida Typewriter,monospace; font-size:74px; text-anchor:middle;\" transform=\"rotate(0, 885.166, 958.221)\" x=\"885.166\" y=\"958.221\">26</text>\n",
       "</g>\n",
       "<g clip-path=\"url(#clip950)\">\n",
       "<text style=\"fill:#008000; fill-opacity:1; font-family:Courier,Courier New,Lucida Sans Typewriter,Lucida Typewriter,monospace; font-size:74px; text-anchor:middle;\" transform=\"rotate(0, 994.096, 958.221)\" x=\"994.096\" y=\"958.221\">27</text>\n",
       "</g>\n",
       "<g clip-path=\"url(#clip950)\">\n",
       "<text style=\"fill:#008000; fill-opacity:1; font-family:Courier,Courier New,Lucida Sans Typewriter,Lucida Typewriter,monospace; font-size:74px; text-anchor:middle;\" transform=\"rotate(0, 1103.03, 958.221)\" x=\"1103.03\" y=\"958.221\">28</text>\n",
       "</g>\n",
       "<g clip-path=\"url(#clip950)\">\n",
       "<text style=\"fill:#008000; fill-opacity:1; font-family:Courier,Courier New,Lucida Sans Typewriter,Lucida Typewriter,monospace; font-size:74px; text-anchor:middle;\" transform=\"rotate(0, 1211.96, 958.221)\" x=\"1211.96\" y=\"958.221\">29</text>\n",
       "</g>\n",
       "<g clip-path=\"url(#clip950)\">\n",
       "<text style=\"fill:#008000; fill-opacity:1; font-family:Courier,Courier New,Lucida Sans Typewriter,Lucida Typewriter,monospace; font-size:74px; text-anchor:middle;\" transform=\"rotate(0, 1320.89, 958.221)\" x=\"1320.89\" y=\"958.221\">30</text>\n",
       "</g>\n",
       "<g clip-path=\"url(#clip950)\">\n",
       "<text style=\"fill:#008000; fill-opacity:1; font-family:Courier,Courier New,Lucida Sans Typewriter,Lucida Typewriter,monospace; font-size:74px; text-anchor:middle;\" transform=\"rotate(0, 1429.82, 958.221)\" x=\"1429.82\" y=\"958.221\">31</text>\n",
       "</g>\n",
       "<g clip-path=\"url(#clip950)\">\n",
       "<text style=\"fill:#008000; fill-opacity:1; font-family:Courier,Courier New,Lucida Sans Typewriter,Lucida Typewriter,monospace; font-size:74px; text-anchor:middle;\" transform=\"rotate(0, 1538.75, 958.221)\" x=\"1538.75\" y=\"958.221\">32</text>\n",
       "</g>\n",
       "<g clip-path=\"url(#clip950)\">\n",
       "<text style=\"fill:#008000; fill-opacity:1; font-family:Courier,Courier New,Lucida Sans Typewriter,Lucida Typewriter,monospace; font-size:74px; text-anchor:middle;\" transform=\"rotate(0, 776.236, 849.291)\" x=\"776.236\" y=\"849.291\">33</text>\n",
       "</g>\n",
       "<g clip-path=\"url(#clip950)\">\n",
       "<text style=\"fill:#008000; fill-opacity:1; font-family:Courier,Courier New,Lucida Sans Typewriter,Lucida Typewriter,monospace; font-size:74px; text-anchor:middle;\" transform=\"rotate(0, 885.166, 849.291)\" x=\"885.166\" y=\"849.291\">34</text>\n",
       "</g>\n",
       "<g clip-path=\"url(#clip950)\">\n",
       "<text style=\"fill:#008000; fill-opacity:1; font-family:Courier,Courier New,Lucida Sans Typewriter,Lucida Typewriter,monospace; font-size:74px; text-anchor:middle;\" transform=\"rotate(0, 994.096, 849.291)\" x=\"994.096\" y=\"849.291\">35</text>\n",
       "</g>\n",
       "<g clip-path=\"url(#clip950)\">\n",
       "<text style=\"fill:#008000; fill-opacity:1; font-family:Courier,Courier New,Lucida Sans Typewriter,Lucida Typewriter,monospace; font-size:74px; text-anchor:middle;\" transform=\"rotate(0, 1103.03, 849.291)\" x=\"1103.03\" y=\"849.291\">36</text>\n",
       "</g>\n",
       "<g clip-path=\"url(#clip950)\">\n",
       "<text style=\"fill:#008000; fill-opacity:1; font-family:Courier,Courier New,Lucida Sans Typewriter,Lucida Typewriter,monospace; font-size:74px; text-anchor:middle;\" transform=\"rotate(0, 1211.96, 849.291)\" x=\"1211.96\" y=\"849.291\">37</text>\n",
       "</g>\n",
       "<g clip-path=\"url(#clip950)\">\n",
       "<text style=\"fill:#008000; fill-opacity:1; font-family:Courier,Courier New,Lucida Sans Typewriter,Lucida Typewriter,monospace; font-size:74px; text-anchor:middle;\" transform=\"rotate(0, 1320.89, 849.291)\" x=\"1320.89\" y=\"849.291\">38</text>\n",
       "</g>\n",
       "<g clip-path=\"url(#clip950)\">\n",
       "<text style=\"fill:#008000; fill-opacity:1; font-family:Courier,Courier New,Lucida Sans Typewriter,Lucida Typewriter,monospace; font-size:74px; text-anchor:middle;\" transform=\"rotate(0, 1429.82, 849.291)\" x=\"1429.82\" y=\"849.291\">39</text>\n",
       "</g>\n",
       "<g clip-path=\"url(#clip950)\">\n",
       "<text style=\"fill:#008000; fill-opacity:1; font-family:Courier,Courier New,Lucida Sans Typewriter,Lucida Typewriter,monospace; font-size:74px; text-anchor:middle;\" transform=\"rotate(0, 1538.75, 849.291)\" x=\"1538.75\" y=\"849.291\">40</text>\n",
       "</g>\n",
       "<g clip-path=\"url(#clip950)\">\n",
       "<text style=\"fill:#008000; fill-opacity:1; font-family:Courier,Courier New,Lucida Sans Typewriter,Lucida Typewriter,monospace; font-size:74px; text-anchor:middle;\" transform=\"rotate(0, 776.236, 740.361)\" x=\"776.236\" y=\"740.361\">41</text>\n",
       "</g>\n",
       "<g clip-path=\"url(#clip950)\">\n",
       "<text style=\"fill:#008000; fill-opacity:1; font-family:Courier,Courier New,Lucida Sans Typewriter,Lucida Typewriter,monospace; font-size:74px; text-anchor:middle;\" transform=\"rotate(0, 885.166, 740.361)\" x=\"885.166\" y=\"740.361\">42</text>\n",
       "</g>\n",
       "<g clip-path=\"url(#clip950)\">\n",
       "<text style=\"fill:#008000; fill-opacity:1; font-family:Courier,Courier New,Lucida Sans Typewriter,Lucida Typewriter,monospace; font-size:74px; text-anchor:middle;\" transform=\"rotate(0, 994.096, 740.361)\" x=\"994.096\" y=\"740.361\">43</text>\n",
       "</g>\n",
       "<g clip-path=\"url(#clip950)\">\n",
       "<text style=\"fill:#008000; fill-opacity:1; font-family:Courier,Courier New,Lucida Sans Typewriter,Lucida Typewriter,monospace; font-size:74px; text-anchor:middle;\" transform=\"rotate(0, 1103.03, 740.361)\" x=\"1103.03\" y=\"740.361\">44</text>\n",
       "</g>\n",
       "<g clip-path=\"url(#clip950)\">\n",
       "<text style=\"fill:#008000; fill-opacity:1; font-family:Courier,Courier New,Lucida Sans Typewriter,Lucida Typewriter,monospace; font-size:74px; text-anchor:middle;\" transform=\"rotate(0, 1211.96, 740.361)\" x=\"1211.96\" y=\"740.361\">45</text>\n",
       "</g>\n",
       "<g clip-path=\"url(#clip950)\">\n",
       "<text style=\"fill:#008000; fill-opacity:1; font-family:Courier,Courier New,Lucida Sans Typewriter,Lucida Typewriter,monospace; font-size:74px; text-anchor:middle;\" transform=\"rotate(0, 1320.89, 740.361)\" x=\"1320.89\" y=\"740.361\">46</text>\n",
       "</g>\n",
       "<g clip-path=\"url(#clip950)\">\n",
       "<text style=\"fill:#008000; fill-opacity:1; font-family:Courier,Courier New,Lucida Sans Typewriter,Lucida Typewriter,monospace; font-size:74px; text-anchor:middle;\" transform=\"rotate(0, 1429.82, 740.361)\" x=\"1429.82\" y=\"740.361\">47</text>\n",
       "</g>\n",
       "<g clip-path=\"url(#clip950)\">\n",
       "<text style=\"fill:#008000; fill-opacity:1; font-family:Courier,Courier New,Lucida Sans Typewriter,Lucida Typewriter,monospace; font-size:74px; text-anchor:middle;\" transform=\"rotate(0, 1538.75, 740.361)\" x=\"1538.75\" y=\"740.361\">48</text>\n",
       "</g>\n",
       "<g clip-path=\"url(#clip950)\">\n",
       "<text style=\"fill:#008000; fill-opacity:1; font-family:Courier,Courier New,Lucida Sans Typewriter,Lucida Typewriter,monospace; font-size:74px; text-anchor:middle;\" transform=\"rotate(0, 776.236, 631.431)\" x=\"776.236\" y=\"631.431\">49</text>\n",
       "</g>\n",
       "<g clip-path=\"url(#clip950)\">\n",
       "<text style=\"fill:#008000; fill-opacity:1; font-family:Courier,Courier New,Lucida Sans Typewriter,Lucida Typewriter,monospace; font-size:74px; text-anchor:middle;\" transform=\"rotate(0, 885.166, 631.431)\" x=\"885.166\" y=\"631.431\">50</text>\n",
       "</g>\n",
       "<g clip-path=\"url(#clip950)\">\n",
       "<text style=\"fill:#008000; fill-opacity:1; font-family:Courier,Courier New,Lucida Sans Typewriter,Lucida Typewriter,monospace; font-size:74px; text-anchor:middle;\" transform=\"rotate(0, 994.096, 631.431)\" x=\"994.096\" y=\"631.431\">51</text>\n",
       "</g>\n",
       "<g clip-path=\"url(#clip950)\">\n",
       "<text style=\"fill:#008000; fill-opacity:1; font-family:Courier,Courier New,Lucida Sans Typewriter,Lucida Typewriter,monospace; font-size:74px; text-anchor:middle;\" transform=\"rotate(0, 1103.03, 631.431)\" x=\"1103.03\" y=\"631.431\">52</text>\n",
       "</g>\n",
       "<g clip-path=\"url(#clip950)\">\n",
       "<text style=\"fill:#008000; fill-opacity:1; font-family:Courier,Courier New,Lucida Sans Typewriter,Lucida Typewriter,monospace; font-size:74px; text-anchor:middle;\" transform=\"rotate(0, 1211.96, 631.431)\" x=\"1211.96\" y=\"631.431\">53</text>\n",
       "</g>\n",
       "<g clip-path=\"url(#clip950)\">\n",
       "<text style=\"fill:#008000; fill-opacity:1; font-family:Courier,Courier New,Lucida Sans Typewriter,Lucida Typewriter,monospace; font-size:74px; text-anchor:middle;\" transform=\"rotate(0, 1320.89, 631.431)\" x=\"1320.89\" y=\"631.431\">54</text>\n",
       "</g>\n",
       "<g clip-path=\"url(#clip950)\">\n",
       "<text style=\"fill:#008000; fill-opacity:1; font-family:Courier,Courier New,Lucida Sans Typewriter,Lucida Typewriter,monospace; font-size:74px; text-anchor:middle;\" transform=\"rotate(0, 1429.82, 631.431)\" x=\"1429.82\" y=\"631.431\">55</text>\n",
       "</g>\n",
       "<g clip-path=\"url(#clip950)\">\n",
       "<text style=\"fill:#008000; fill-opacity:1; font-family:Courier,Courier New,Lucida Sans Typewriter,Lucida Typewriter,monospace; font-size:74px; text-anchor:middle;\" transform=\"rotate(0, 1538.75, 631.431)\" x=\"1538.75\" y=\"631.431\">56</text>\n",
       "</g>\n",
       "<g clip-path=\"url(#clip950)\">\n",
       "<text style=\"fill:#008000; fill-opacity:1; font-family:Courier,Courier New,Lucida Sans Typewriter,Lucida Typewriter,monospace; font-size:74px; text-anchor:middle;\" transform=\"rotate(0, 776.236, 522.501)\" x=\"776.236\" y=\"522.501\">57</text>\n",
       "</g>\n",
       "<g clip-path=\"url(#clip950)\">\n",
       "<text style=\"fill:#008000; fill-opacity:1; font-family:Courier,Courier New,Lucida Sans Typewriter,Lucida Typewriter,monospace; font-size:74px; text-anchor:middle;\" transform=\"rotate(0, 885.166, 522.501)\" x=\"885.166\" y=\"522.501\">58</text>\n",
       "</g>\n",
       "<g clip-path=\"url(#clip950)\">\n",
       "<text style=\"fill:#008000; fill-opacity:1; font-family:Courier,Courier New,Lucida Sans Typewriter,Lucida Typewriter,monospace; font-size:74px; text-anchor:middle;\" transform=\"rotate(0, 994.096, 522.501)\" x=\"994.096\" y=\"522.501\">59</text>\n",
       "</g>\n",
       "<g clip-path=\"url(#clip950)\">\n",
       "<text style=\"fill:#008000; fill-opacity:1; font-family:Courier,Courier New,Lucida Sans Typewriter,Lucida Typewriter,monospace; font-size:74px; text-anchor:middle;\" transform=\"rotate(0, 1103.03, 522.501)\" x=\"1103.03\" y=\"522.501\">60</text>\n",
       "</g>\n",
       "<g clip-path=\"url(#clip950)\">\n",
       "<text style=\"fill:#008000; fill-opacity:1; font-family:Courier,Courier New,Lucida Sans Typewriter,Lucida Typewriter,monospace; font-size:74px; text-anchor:middle;\" transform=\"rotate(0, 1211.96, 522.501)\" x=\"1211.96\" y=\"522.501\">61</text>\n",
       "</g>\n",
       "<g clip-path=\"url(#clip950)\">\n",
       "<text style=\"fill:#008000; fill-opacity:1; font-family:Courier,Courier New,Lucida Sans Typewriter,Lucida Typewriter,monospace; font-size:74px; text-anchor:middle;\" transform=\"rotate(0, 1320.89, 522.501)\" x=\"1320.89\" y=\"522.501\">62</text>\n",
       "</g>\n",
       "<g clip-path=\"url(#clip950)\">\n",
       "<text style=\"fill:#008000; fill-opacity:1; font-family:Courier,Courier New,Lucida Sans Typewriter,Lucida Typewriter,monospace; font-size:74px; text-anchor:middle;\" transform=\"rotate(0, 1429.82, 522.501)\" x=\"1429.82\" y=\"522.501\">63</text>\n",
       "</g>\n",
       "<g clip-path=\"url(#clip950)\">\n",
       "<text style=\"fill:#008000; fill-opacity:1; font-family:Courier,Courier New,Lucida Sans Typewriter,Lucida Typewriter,monospace; font-size:74px; text-anchor:middle;\" transform=\"rotate(0, 1538.75, 522.501)\" x=\"1538.75\" y=\"522.501\">64</text>\n",
       "</g>\n",
       "<g clip-path=\"url(#clip950)\">\n",
       "<text style=\"fill:#008000; fill-opacity:1; font-family:Courier,Courier New,Lucida Sans Typewriter,Lucida Typewriter,monospace; font-size:74px; text-anchor:middle;\" transform=\"rotate(0, 776.236, 413.57)\" x=\"776.236\" y=\"413.57\">65</text>\n",
       "</g>\n",
       "<g clip-path=\"url(#clip950)\">\n",
       "<text style=\"fill:#008000; fill-opacity:1; font-family:Courier,Courier New,Lucida Sans Typewriter,Lucida Typewriter,monospace; font-size:74px; text-anchor:middle;\" transform=\"rotate(0, 885.166, 413.57)\" x=\"885.166\" y=\"413.57\">66</text>\n",
       "</g>\n",
       "<g clip-path=\"url(#clip950)\">\n",
       "<text style=\"fill:#008000; fill-opacity:1; font-family:Courier,Courier New,Lucida Sans Typewriter,Lucida Typewriter,monospace; font-size:74px; text-anchor:middle;\" transform=\"rotate(0, 994.096, 413.57)\" x=\"994.096\" y=\"413.57\">67</text>\n",
       "</g>\n",
       "<g clip-path=\"url(#clip950)\">\n",
       "<text style=\"fill:#008000; fill-opacity:1; font-family:Courier,Courier New,Lucida Sans Typewriter,Lucida Typewriter,monospace; font-size:74px; text-anchor:middle;\" transform=\"rotate(0, 1103.03, 413.57)\" x=\"1103.03\" y=\"413.57\">68</text>\n",
       "</g>\n",
       "<g clip-path=\"url(#clip950)\">\n",
       "<text style=\"fill:#008000; fill-opacity:1; font-family:Courier,Courier New,Lucida Sans Typewriter,Lucida Typewriter,monospace; font-size:74px; text-anchor:middle;\" transform=\"rotate(0, 1211.96, 413.57)\" x=\"1211.96\" y=\"413.57\">69</text>\n",
       "</g>\n",
       "<g clip-path=\"url(#clip950)\">\n",
       "<text style=\"fill:#008000; fill-opacity:1; font-family:Courier,Courier New,Lucida Sans Typewriter,Lucida Typewriter,monospace; font-size:74px; text-anchor:middle;\" transform=\"rotate(0, 1320.89, 413.57)\" x=\"1320.89\" y=\"413.57\">70</text>\n",
       "</g>\n",
       "<g clip-path=\"url(#clip950)\">\n",
       "<text style=\"fill:#008000; fill-opacity:1; font-family:Courier,Courier New,Lucida Sans Typewriter,Lucida Typewriter,monospace; font-size:74px; text-anchor:middle;\" transform=\"rotate(0, 1429.82, 413.57)\" x=\"1429.82\" y=\"413.57\">71</text>\n",
       "</g>\n",
       "<g clip-path=\"url(#clip950)\">\n",
       "<text style=\"fill:#008000; fill-opacity:1; font-family:Courier,Courier New,Lucida Sans Typewriter,Lucida Typewriter,monospace; font-size:74px; text-anchor:middle;\" transform=\"rotate(0, 1538.75, 413.57)\" x=\"1538.75\" y=\"413.57\">72</text>\n",
       "</g>\n",
       "<g clip-path=\"url(#clip950)\">\n",
       "<text style=\"fill:#008000; fill-opacity:1; font-family:Courier,Courier New,Lucida Sans Typewriter,Lucida Typewriter,monospace; font-size:74px; text-anchor:middle;\" transform=\"rotate(0, 776.236, 304.64)\" x=\"776.236\" y=\"304.64\">73</text>\n",
       "</g>\n",
       "<g clip-path=\"url(#clip950)\">\n",
       "<text style=\"fill:#008000; fill-opacity:1; font-family:Courier,Courier New,Lucida Sans Typewriter,Lucida Typewriter,monospace; font-size:74px; text-anchor:middle;\" transform=\"rotate(0, 885.166, 304.64)\" x=\"885.166\" y=\"304.64\">74</text>\n",
       "</g>\n",
       "<g clip-path=\"url(#clip950)\">\n",
       "<text style=\"fill:#008000; fill-opacity:1; font-family:Courier,Courier New,Lucida Sans Typewriter,Lucida Typewriter,monospace; font-size:74px; text-anchor:middle;\" transform=\"rotate(0, 994.096, 304.64)\" x=\"994.096\" y=\"304.64\">75</text>\n",
       "</g>\n",
       "<g clip-path=\"url(#clip950)\">\n",
       "<text style=\"fill:#008000; fill-opacity:1; font-family:Courier,Courier New,Lucida Sans Typewriter,Lucida Typewriter,monospace; font-size:74px; text-anchor:middle;\" transform=\"rotate(0, 1103.03, 304.64)\" x=\"1103.03\" y=\"304.64\">76</text>\n",
       "</g>\n",
       "<g clip-path=\"url(#clip950)\">\n",
       "<text style=\"fill:#008000; fill-opacity:1; font-family:Courier,Courier New,Lucida Sans Typewriter,Lucida Typewriter,monospace; font-size:74px; text-anchor:middle;\" transform=\"rotate(0, 1211.96, 304.64)\" x=\"1211.96\" y=\"304.64\">77</text>\n",
       "</g>\n",
       "<g clip-path=\"url(#clip950)\">\n",
       "<text style=\"fill:#008000; fill-opacity:1; font-family:Courier,Courier New,Lucida Sans Typewriter,Lucida Typewriter,monospace; font-size:74px; text-anchor:middle;\" transform=\"rotate(0, 1320.89, 304.64)\" x=\"1320.89\" y=\"304.64\">78</text>\n",
       "</g>\n",
       "<g clip-path=\"url(#clip950)\">\n",
       "<text style=\"fill:#008000; fill-opacity:1; font-family:Courier,Courier New,Lucida Sans Typewriter,Lucida Typewriter,monospace; font-size:74px; text-anchor:middle;\" transform=\"rotate(0, 1429.82, 304.64)\" x=\"1429.82\" y=\"304.64\">79</text>\n",
       "</g>\n",
       "<g clip-path=\"url(#clip950)\">\n",
       "<text style=\"fill:#008000; fill-opacity:1; font-family:Courier,Courier New,Lucida Sans Typewriter,Lucida Typewriter,monospace; font-size:74px; text-anchor:middle;\" transform=\"rotate(0, 1538.75, 304.64)\" x=\"1538.75\" y=\"304.64\">80</text>\n",
       "</g>\n",
       "</svg>\n"
      ]
     },
     "metadata": {},
     "output_type": "display_data"
    }
   ],
   "source": [
    "heatmap(reshape(get_density_profiles(NM_MB_Array_Storage, r_hubbard_states, index_eig_states), Nx, Ny)|> transpose,xlabel=\"x\", ylabel=\"y\", title=\"Psi=$(index_eig_states)\")\n",
    "\n",
    "# koordinatları 0 yerine 1'den başlatırsak heatmap ile uyumlu olur (.+1 operasyonu)\n",
    "x_coordinates = square_lattice(Nx,Ny)[2][:,1] .+ 1\n",
    "y_coordinates = square_lattice(Nx,Ny)[2][:,2] .+ 1\n",
    "scatter!(x_coordinates,y_coordinates,label=false, aspect_ratio=1, showaxis = false, grid=false, markersize=3, c=:black)\n",
    "\n",
    "center_x = x_coordinates[imp_site]; center_y = y_coordinates[imp_site]; radius = 0+0.1;\n",
    "for i in 1:N\n",
    "    p = annotate!(x_coordinates[i], y_coordinates[i], text(\"$i\", :Courier, 10,:green), :color)    \n",
    "end\n",
    "\n",
    "function circle_shape(h,k,r)\n",
    "    beta = LinRange(0, 2*pi, 500)\n",
    "    h .+ r*sin.(beta), k .+ r*cos.(beta)\n",
    "end\n",
    "\n",
    "plot!(circle_shape(center_x,center_y,radius), seriestype=[:shape], lw=0.5, c=:white, linecolor= :white, legend=false, fillalpha=0.2)\n",
    "\n",
    "display(p)"
   ]
  },
  {
   "cell_type": "code",
   "execution_count": 116,
   "id": "8a425726-1485-4d95-b1c8-11dd090d076c",
   "metadata": {
    "tags": []
   },
   "outputs": [
    {
     "data": {
      "text/plain": [
       "9-element Vector{Any}:\n",
       " 35\n",
       " 36\n",
       " 37\n",
       " 43\n",
       " 44\n",
       " 45\n",
       " 51\n",
       " 52\n",
       " 53"
      ]
     },
     "execution_count": 116,
     "metadata": {},
     "output_type": "execute_result"
    }
   ],
   "source": [
    "# Hangi site'lar yarı-çapı verilmiş daire içerisinde kontrol et\n",
    "function get_inner_sites(radius)\n",
    "    inner_sites = []\n",
    "    for i in 1:N\n",
    "        if (x_coordinates[i] - center_x)^2 + (y_coordinates[i] - center_y)^2 < radius^2\n",
    "            push!(inner_sites, i)\n",
    "        end\n",
    "    end\n",
    "    return inner_sites\n",
    "end\n",
    "get_inner_sites(radius)"
   ]
  },
  {
   "cell_type": "markdown",
   "id": "f41f7750-364e-46bf-924c-afd0554bb287",
   "metadata": {},
   "source": [
    "# Interpolation"
   ]
  },
  {
   "cell_type": "code",
   "execution_count": 78,
   "id": "71f20b1d-0f39-4f53-9d09-46340669996b",
   "metadata": {
    "tags": []
   },
   "outputs": [
    {
     "data": {
      "image/png": "[encoded data removed]"
     },
     "execution_count": 78,
     "metadata": {},
     "output_type": "execute_result"
    }
   ],
   "source": [
    "using CairoMakie\n",
    "\n",
    "fig = Figure()\n",
    "ax = Axis(fig[1,1], title=\"Average Density\", xlabel=\"X\", ylabel=\"Y\");\n",
    "\n",
    "hm = CairoMakie.heatmap!(avg_density, interpolate=true)\n",
    "Colorbar(fig[1, 2], hm)\n",
    "\n",
    "x_coordinates = square_lattice(Nx,Ny)[2][:,1] .+ 1\n",
    "y_coordinates = square_lattice(Nx,Ny)[2][:,2] .+ 1\n",
    "CairoMakie.scatter!(y_coordinates, x_coordinates, color=:black, markersize=5)\n",
    "\n",
    "center_x = x_coordinates[imp_site]; center_y = y_coordinates[imp_site]\n",
    "CairoMakie.scatter!([center_y], [center_x], color=:red, markersize=10, marker =:star5)\n",
    "\n",
    "fig"
   ]
  },
  {
   "cell_type": "markdown",
   "id": "e6020113-9ce9-4cc8-b3a9-f21b90c05e3f",
   "metadata": {},
   "source": [
    "# $ Q_{\\rho}$"
   ]
  },
  {
   "cell_type": "markdown",
   "id": "b98c55cd-75f5-4d3f-9f45-7234d4418eaf",
   "metadata": {},
   "source": [
    "$\\mathcal{Q}_\\rho = \\sum_i \\left( <n_i>_{V\\neq0} - <n_i>_{V=0} \\right)$"
   ]
  },
  {
   "cell_type": "markdown",
   "id": "07144b2b-cd05-49b1-a07c-8526f5cca214",
   "metadata": {},
   "source": [
    "<font size=\"4\">\n",
    "$Q_{\\rho} = \\sum_i \\left(<n_i>_{V=0}-<n_i>_{V \\neq 0} \\right)$\n",
    "</font>"
   ]
  },
  {
   "cell_type": "code",
   "execution_count": 142,
   "id": "c11cc0f6-e72b-4478-ae5f-5eb90391e20a",
   "metadata": {
    "tags": []
   },
   "outputs": [
    {
     "name": "stdout",
     "output_type": "stream",
     "text": [
      "35\t0.031035638877104327\n",
      "36\t0.04667473251437967\n",
      "37\t0.027494509175683825\n",
      "43\t-0.011009620462241378\n",
      "44\t-0.0003181727226468367\n",
      "45\t0.023014881623506272\n",
      "51\t0.0016880351855409204\n",
      "52\t-0.00622729547727411\n",
      "53\t-0.012837684602694556\n",
      "---\n",
      "44 \t-0.0003181727226468367\n"
     ]
    }
   ],
   "source": [
    "for i in get_inner_sites(2)\n",
    "    println(i,\"\\t\",collect(Iterators.flatten((avg_density_0 - avg_density)))[i])\n",
    "end\n",
    "println(\"---\")\n",
    "println(\"44 \\t\",collect(Iterators.flatten((avg_density_0 - avg_density)))[44])\n",
    "# Bu değer Onur hocanın makalesinde ki FIG2'de 0.005 değerinin biraz daha altında bir değer vermesi lazım!"
   ]
  },
  {
   "cell_type": "code",
   "execution_count": 131,
   "id": "e49e8faa-0f20-447f-839c-05fc759790ad",
   "metadata": {
    "tags": []
   },
   "outputs": [
    {
     "name": "stdout",
     "output_type": "stream",
     "text": [
      "Radius=2 => Q_rho= 0.09951502411135815"
     ]
    }
   ],
   "source": [
    "Q_rho = 0\n",
    "radius = 2\n",
    "for i in get_inner_sites(radius)\n",
    "    # T = NM_MB_Array_Storage[:,:,i]\n",
    "    # Op = Operator(BL,BR,T)\n",
    "    # Q_rho += real( expect(Op, r_hubbard_states_0[index_eig_states]) - expect(Op, r_hubbard_states[index_eig_states]))\n",
    "    Q_rho += collect(Iterators.flatten((avg_density_0 - avg_density)))[i]\n",
    "end\n",
    "print(\"Radius=$(radius) => Q_rho= \",Q_rho)"
   ]
  },
  {
   "cell_type": "markdown",
   "id": "c8ba1c1a-0466-4c0e-ae50-68651ddddd72",
   "metadata": {},
   "source": [
    "# Animation"
   ]
  },
  {
   "cell_type": "code",
   "execution_count": 39,
   "id": "3b94f5ae-a205-48ea-9ed7-bac8407b3a50",
   "metadata": {
    "tags": []
   },
   "outputs": [],
   "source": [
    "# animated_exp_list = zeros(N,1,length(r_hubbard_states))\n",
    "# function animated_e_l()\n",
    "#     for i in 1:length(r_hubbard_states)\n",
    "#         expect_list=[]\n",
    "#         for j in 1:N\n",
    "#             T = NM_MB_Array_Storage[:,:,j]\n",
    "#             Op = Operator(BL,BR,T)\n",
    "#             push!(expect_list,expect(Op, r_hubbard_states[i]))\n",
    "#         end\n",
    "#         animated_exp_list[:,:,i] = real(expect_list)\n",
    "#     end\n",
    "#     return animated_exp_list\n",
    "# end"
   ]
  },
  {
   "cell_type": "code",
   "execution_count": 40,
   "id": "4476fa87-c99f-4428-a0d5-473049a5893a",
   "metadata": {
    "tags": []
   },
   "outputs": [],
   "source": [
    "# k = 1\n",
    "# initial_condition = reshape(animated_e_l()[:,:,k], Nx, Ny) #psi_1 (psi_k)'e karşılık gelen density matrix\n",
    "# heatmap(initial_condition)"
   ]
  },
  {
   "cell_type": "code",
   "execution_count": 41,
   "id": "e0b08e68-6ca6-4923-9cd6-2ec9f5cdf609",
   "metadata": {
    "tags": []
   },
   "outputs": [],
   "source": [
    "# initial_condition = reshape(animated_e_l()[:,:,1], Nx, Ny)\n",
    "# fps = 20\n",
    "# function heatgif(initial_condition)\n",
    "#     p = heatmap(initial_condition, xlabel=\"x\", ylabel=\"y\", title=(\"Nx=$Nx,Ny=$Ny,co=$cut_off,PN=$pn,U=$U, fps=$fps\"))\n",
    "#     anim = @animate for i=1:length(r_hubbard_states)\n",
    "#         h_map_matrix = reshape(animated_e_l()[:,:,i],Nx,Ny)\n",
    "#         heatmap!(p[1], h_map_matrix)\n",
    "#     end\n",
    "#     return anim\n",
    "# end"
   ]
  },
  {
   "cell_type": "code",
   "execution_count": 42,
   "id": "91adf7db-1421-4fd3-8615-3550623f1568",
   "metadata": {
    "tags": []
   },
   "outputs": [],
   "source": [
    "# anim = heatgif(initial_condition)\n",
    "# gif(anim, \"OUTPUT.gif\", fps=fps)"
   ]
  }
 ],
 "metadata": {
  "kernelspec": {
   "display_name": "Julia 1.8.1",
   "language": "julia",
   "name": "julia-1.8"
  },
  "language_info": {
   "file_extension": ".jl",
   "mimetype": "application/julia",
   "name": "julia",
   "version": "1.8.1"
  }
 },
 "nbformat": 4,
 "nbformat_minor": 5
}
