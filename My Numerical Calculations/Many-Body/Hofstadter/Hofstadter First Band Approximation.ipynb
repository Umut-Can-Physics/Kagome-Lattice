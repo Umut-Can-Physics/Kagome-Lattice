{
 "cells": [
  {
   "cell_type": "code",
   "execution_count": 1,
   "id": "4e14ac7c",
   "metadata": {},
   "outputs": [
    {
     "name": "stdout",
     "output_type": "stream",
     "text": [
      "Nx=4, Ny=4"
     ]
    }
   ],
   "source": [
    "using NBInclude\n",
    "@nbinclude(\"(M)_Hofstadter_Real_Space_in_Julia.ipynb\")"
   ]
  },
  {
   "cell_type": "code",
   "execution_count": 2,
   "id": "e7c8390d",
   "metadata": {},
   "outputs": [
    {
     "data": {
      "text/plain": [
       "0.25"
      ]
     },
     "execution_count": 2,
     "metadata": {},
     "output_type": "execute_result"
    }
   ],
   "source": [
    "p=1;q=4\n",
    "alpha=p/q"
   ]
  },
  {
   "cell_type": "code",
   "execution_count": 3,
   "id": "6eaaf808",
   "metadata": {},
   "outputs": [],
   "source": [
    "using QuantumOptics, LinearAlgebra"
   ]
  },
  {
   "cell_type": "code",
   "execution_count": 4,
   "id": "1e698109",
   "metadata": {},
   "outputs": [
    {
     "data": {
      "text/plain": [
       "NLevel(N=16)"
      ]
     },
     "execution_count": 4,
     "metadata": {},
     "output_type": "execute_result"
    }
   ],
   "source": [
    "Basis = NLevelBasis(N)"
   ]
  },
  {
   "cell_type": "code",
   "execution_count": 5,
   "id": "dc702481",
   "metadata": {},
   "outputs": [
    {
     "name": "stdout",
     "output_type": "stream",
     "text": [
      "[-2.8284271247461903, -2.8284271247461903, -2.8284271247461885, -2.828427124746186, -9.842582652396219e-17, -5.2371492063649606e-17, 1.1952921159963832e-16, 3.920905899911496e-16, 3.1086244689504383e-15, 3.552713678800501e-15, 3.9968028886505635e-15, 4.884981308350689e-15, 2.8284271247461894, 2.8284271247461894, 2.82842712474619, 2.8284271247461903]\n",
      "[-2.8284271247461903, -2.8284271247461903, -2.8284271247461885, -2.828427124746186, -9.842582652396219e-17, -5.2371492063649606e-17, 1.1952921159963832e-16, 3.920905899911496e-16, 3.1086244689504383e-15, 3.552713678800501e-15, 3.9968028886505635e-15, 4.884981308350689e-15, 2.8284271247461894, 2.8284271247461894, 2.82842712474619, 2.8284271247461903]\n"
     ]
    }
   ],
   "source": [
    "# SP\n",
    "Hamiltonian_SP = SparseOperator(Basis)\n",
    "for m in 1:N\n",
    "    for n in 1:N\n",
    "        Hamiltonian_SP = Hamiltonian_SP + HSP(Nx,Ny,alpha)[m,n] * transition(Basis, m, n)\n",
    "    end\n",
    "end\n",
    "E0, U0 = eigenstates(dense(Hamiltonian_SP))\n",
    "println(E0)\n",
    "\n",
    "E1, U1 = eigen(HSP(Nx,Ny,alpha))\n",
    "println(E1)"
   ]
  },
  {
   "cell_type": "code",
   "execution_count": 6,
   "id": "9329a46d",
   "metadata": {},
   "outputs": [
    {
     "data": {
      "text/plain": [
       "Operator(dim=4x4)\n",
       "  basis: Subspace(superbasis=NLevel(N=16), states:4)\n",
       " -2.82843-0.0im      -2.2e-16+2.8e-16im  …       0.0-3.0e-17im\n",
       "      0.0-1.7e-16im  -2.82843+1.1e-16im     -1.1e-16-8.0e-17im\n",
       "  3.0e-17-8.0e-17im  -1.1e-16-5.0e-17im          0.0+0.0im\n",
       "      0.0+0.0im      -1.1e-16+3.0e-17im     -2.82843-0.0im"
      ]
     },
     "execution_count": 6,
     "metadata": {},
     "output_type": "execute_result"
    }
   ],
   "source": [
    "# Sp initial States band subspace\n",
    "E, states0 = eigenstates(dense(Hamiltonian_SP))\n",
    "Ncut=4 #subspace size\n",
    "states = states0[1:Ncut]\n",
    "#states = states0\n",
    "\n",
    "# SubspaceBasis( SP Basis, Restricted States)\n",
    "b_sub = SubspaceBasis(Basis,states)\n",
    "\n",
    "# projector( Subspace Basis, SP Basis )\n",
    "P = projector(b_sub, Basis)\n",
    "Pt = dagger(P)\n",
    "\n",
    "# New SP Subspace Operator\n",
    "H_sub = P*Hamiltonian_SP*Pt "
   ]
  },
  {
   "cell_type": "code",
   "execution_count": 7,
   "id": "92551b74",
   "metadata": {},
   "outputs": [
    {
     "data": {
      "text/plain": [
       "2"
      ]
     },
     "execution_count": 7,
     "metadata": {},
     "output_type": "execute_result"
    }
   ],
   "source": [
    "Nparticles = 2"
   ]
  },
  {
   "cell_type": "code",
   "execution_count": 8,
   "id": "a39e38a2",
   "metadata": {},
   "outputs": [
    {
     "data": {
      "text/plain": [
       "ManyBody(onebodybasis=Subspace(superbasis=NLevel(N=16), states:4), states:10)"
      ]
     },
     "execution_count": 8,
     "metadata": {},
     "output_type": "execute_result"
    }
   ],
   "source": [
    "StatesBH = bosonstates(b_sub, Nparticles) \n",
    "Basis_MB = ManyBodyBasis(b_sub, StatesBH)"
   ]
  },
  {
   "cell_type": "code",
   "execution_count": 9,
   "id": "1d69d46f",
   "metadata": {},
   "outputs": [
    {
     "data": {
      "text/plain": [
       "10-element Vector{Float64}:\n",
       " -5.65759888784003\n",
       " -5.657598887840029\n",
       " -5.657541749492381\n",
       " -5.657541749492379\n",
       " -5.657479249492384\n",
       " -5.657479249492382\n",
       " -5.657479249492381\n",
       " -5.657479249492378\n",
       " -5.657422111144734\n",
       " -5.657422111144732"
      ]
     },
     "execution_count": 9,
     "metadata": {},
     "output_type": "execute_result"
    }
   ],
   "source": [
    "#FINITE U Model\n",
    "\n",
    "U=1/1000\n",
    "\n",
    "NM_MB_Array_Storage = zeros(Complex{Float64},length(Basis_MB),length(Basis_MB),N)\n",
    "NM_MB_Matrix = zeros(Complex{Float64},length(Basis_MB),length(Basis_MB))\n",
    "    \n",
    "# projecting number operator to the regarding to subspace \n",
    "IT = SparseOperator(Basis_MB)\n",
    "for m in 1:N\n",
    "    NM = transition(Basis, m, m)\n",
    "    NMP = P*NM*Pt\n",
    "    # Auto (slower)\n",
    "    #NM_MB_1 = manybodyoperator(Basis_MB, NMP)\n",
    "    # Manuel (faster)\n",
    "    NM_MB_2 = SparseOperator(Basis_MB)\n",
    "    for i in 1:length(b_sub)\n",
    "        for j in 1:length(b_sub)\n",
    "            NM_MB_2 = NM_MB_2 + NMP.data[i,j] * transition(Basis_MB, i, j)\n",
    "        end\n",
    "    end\n",
    "    # NM_MB_1 == NM_MB_2 (true)\n",
    "    \n",
    "    # Convert NM_MB operator into the NM_MB_Matrix matrix to storage all of NM_MB operator according to each m index\n",
    "    for i in 1:length(Basis_MB)\n",
    "        for j in 1:length(Basis_MB)\n",
    "            NM_MB_Matrix[i,j] = NM_MB_2.data[i,j]\n",
    "        end\n",
    "    end\n",
    "    NM_MB_Array_Storage[:,:,m] = NM_MB_Matrix\n",
    "    # end\n",
    "    \n",
    "    IT = IT + U/2 * NM_MB_2 * ( NM_MB_2 - identityoperator(Basis_MB) )\n",
    "end\n",
    "\n",
    "KT = SparseOperator(Basis_MB)\n",
    "for m in 1:length(b_sub)\n",
    "    for n in 1:length(b_sub)\n",
    "        KT = KT + H_sub.data[m,n] * transition(Basis_MB, m, n)\n",
    "    end\n",
    "end\n",
    "MB_Hamiltonian = KT + IT\n",
    "x = MB_Hamiltonian\n",
    "EEE, UUU = eigenstates(dense((x+dagger(x))/2))\n",
    "EEE"
   ]
  },
  {
   "cell_type": "markdown",
   "id": "87a054cb",
   "metadata": {},
   "source": [
    "U çok küçükken (Band-Gap büyüdüğünde) subspace enerjileri, real-space enerjilerine yakınsar:"
   ]
  },
  {
   "cell_type": "code",
   "execution_count": 14,
   "id": "7246b2cf",
   "metadata": {},
   "outputs": [
    {
     "name": "stdout",
     "output_type": "stream",
     "text": [
      "Nx=4, Ny=4Nx=4, Ny=4"
     ]
    },
    {
     "data": {
      "image/svg+xml": [
       "<?xml version=\"1.0\" encoding=\"utf-8\"?>\n",
       "<svg xmlns=\"http://www.w3.org/2000/svg\" xmlns:xlink=\"http://www.w3.org/1999/xlink\" width=\"600\" height=\"400\" viewBox=\"0 0 2400 1600\">\n",
       "<defs>\n",
       "  <clipPath id=\"clip590\">\n",
       "    <rect x=\"0\" y=\"0\" width=\"2400\" height=\"1600\"/>\n",
       "  </clipPath>\n",
       "</defs>\n",
       "<path clip-path=\"url(#clip590)\" d=\"\n",
       "M0 1600 L2400 1600 L2400 0 L0 0  Z\n",
       "  \" fill=\"#ffffff\" fill-rule=\"evenodd\" fill-opacity=\"1\"/>\n",
       "<defs>\n",
       "  <clipPath id=\"clip591\">\n",
       "    <rect x=\"480\" y=\"0\" width=\"1681\" height=\"1600\"/>\n",
       "  </clipPath>\n",
       "</defs>\n",
       "<path clip-path=\"url(#clip590)\" d=\"\n",
       "M212.459 1423.18 L2352.76 1423.18 L2352.76 123.472 L212.459 123.472  Z\n",
       "  \" fill=\"#ffffff\" fill-rule=\"evenodd\" fill-opacity=\"1\"/>\n",
       "<defs>\n",
       "  <clipPath id=\"clip592\">\n",
       "    <rect x=\"212\" y=\"123\" width=\"2141\" height=\"1301\"/>\n",
       "  </clipPath>\n",
       "</defs>\n",
       "<polyline clip-path=\"url(#clip592)\" style=\"stroke:#000000; stroke-linecap:round; stroke-linejoin:round; stroke-width:2; stroke-opacity:0.1; fill:none\" points=\"\n",
       "  258.077,1423.18 258.077,123.472 \n",
       "  \"/>\n",
       "<polyline clip-path=\"url(#clip592)\" style=\"stroke:#000000; stroke-linecap:round; stroke-linejoin:round; stroke-width:2; stroke-opacity:0.1; fill:none\" points=\"\n",
       "  631.993,1423.18 631.993,123.472 \n",
       "  \"/>\n",
       "<polyline clip-path=\"url(#clip592)\" style=\"stroke:#000000; stroke-linecap:round; stroke-linejoin:round; stroke-width:2; stroke-opacity:0.1; fill:none\" points=\"\n",
       "  1005.91,1423.18 1005.91,123.472 \n",
       "  \"/>\n",
       "<polyline clip-path=\"url(#clip592)\" style=\"stroke:#000000; stroke-linecap:round; stroke-linejoin:round; stroke-width:2; stroke-opacity:0.1; fill:none\" points=\"\n",
       "  1379.83,1423.18 1379.83,123.472 \n",
       "  \"/>\n",
       "<polyline clip-path=\"url(#clip592)\" style=\"stroke:#000000; stroke-linecap:round; stroke-linejoin:round; stroke-width:2; stroke-opacity:0.1; fill:none\" points=\"\n",
       "  1753.74,1423.18 1753.74,123.472 \n",
       "  \"/>\n",
       "<polyline clip-path=\"url(#clip592)\" style=\"stroke:#000000; stroke-linecap:round; stroke-linejoin:round; stroke-width:2; stroke-opacity:0.1; fill:none\" points=\"\n",
       "  2127.66,1423.18 2127.66,123.472 \n",
       "  \"/>\n",
       "<polyline clip-path=\"url(#clip590)\" style=\"stroke:#000000; stroke-linecap:round; stroke-linejoin:round; stroke-width:4; stroke-opacity:1; fill:none\" points=\"\n",
       "  212.459,1423.18 2352.76,1423.18 \n",
       "  \"/>\n",
       "<polyline clip-path=\"url(#clip590)\" style=\"stroke:#000000; stroke-linecap:round; stroke-linejoin:round; stroke-width:4; stroke-opacity:1; fill:none\" points=\"\n",
       "  258.077,1423.18 258.077,1404.28 \n",
       "  \"/>\n",
       "<polyline clip-path=\"url(#clip590)\" style=\"stroke:#000000; stroke-linecap:round; stroke-linejoin:round; stroke-width:4; stroke-opacity:1; fill:none\" points=\"\n",
       "  631.993,1423.18 631.993,1404.28 \n",
       "  \"/>\n",
       "<polyline clip-path=\"url(#clip590)\" style=\"stroke:#000000; stroke-linecap:round; stroke-linejoin:round; stroke-width:4; stroke-opacity:1; fill:none\" points=\"\n",
       "  1005.91,1423.18 1005.91,1404.28 \n",
       "  \"/>\n",
       "<polyline clip-path=\"url(#clip590)\" style=\"stroke:#000000; stroke-linecap:round; stroke-linejoin:round; stroke-width:4; stroke-opacity:1; fill:none\" points=\"\n",
       "  1379.83,1423.18 1379.83,1404.28 \n",
       "  \"/>\n",
       "<polyline clip-path=\"url(#clip590)\" style=\"stroke:#000000; stroke-linecap:round; stroke-linejoin:round; stroke-width:4; stroke-opacity:1; fill:none\" points=\"\n",
       "  1753.74,1423.18 1753.74,1404.28 \n",
       "  \"/>\n",
       "<polyline clip-path=\"url(#clip590)\" style=\"stroke:#000000; stroke-linecap:round; stroke-linejoin:round; stroke-width:4; stroke-opacity:1; fill:none\" points=\"\n",
       "  2127.66,1423.18 2127.66,1404.28 \n",
       "  \"/>\n",
       "<path clip-path=\"url(#clip590)\" d=\"M258.077 1454.1 Q254.466 1454.1 252.637 1457.66 Q250.831 1461.2 250.831 1468.33 Q250.831 1475.44 252.637 1479.01 Q254.466 1482.55 258.077 1482.55 Q261.711 1482.55 263.516 1479.01 Q265.345 1475.44 265.345 1468.33 Q265.345 1461.2 263.516 1457.66 Q261.711 1454.1 258.077 1454.1 M258.077 1450.39 Q263.887 1450.39 266.942 1455 Q270.021 1459.58 270.021 1468.33 Q270.021 1477.06 266.942 1481.67 Q263.887 1486.25 258.077 1486.25 Q252.267 1486.25 249.188 1481.67 Q246.132 1477.06 246.132 1468.33 Q246.132 1459.58 249.188 1455 Q252.267 1450.39 258.077 1450.39 Z\" fill=\"#000000\" fill-rule=\"evenodd\" fill-opacity=\"1\" /><path clip-path=\"url(#clip590)\" d=\"M611.264 1481.64 L627.583 1481.64 L627.583 1485.58 L605.639 1485.58 L605.639 1481.64 Q608.301 1478.89 612.884 1474.26 Q617.491 1469.61 618.671 1468.27 Q620.917 1465.74 621.796 1464.01 Q622.699 1462.25 622.699 1460.56 Q622.699 1457.8 620.755 1456.07 Q618.833 1454.33 615.732 1454.33 Q613.532 1454.33 611.079 1455.09 Q608.648 1455.86 605.87 1457.41 L605.87 1452.69 Q608.695 1451.55 611.148 1450.97 Q613.602 1450.39 615.639 1450.39 Q621.009 1450.39 624.204 1453.08 Q627.398 1455.77 627.398 1460.26 Q627.398 1462.39 626.588 1464.31 Q625.801 1466.2 623.694 1468.8 Q623.116 1469.47 620.014 1472.69 Q616.912 1475.88 611.264 1481.64 Z\" fill=\"#000000\" fill-rule=\"evenodd\" fill-opacity=\"1\" /><path clip-path=\"url(#clip590)\" d=\"M637.444 1451.02 L655.801 1451.02 L655.801 1454.96 L641.727 1454.96 L641.727 1463.43 Q642.745 1463.08 643.764 1462.92 Q644.782 1462.73 645.801 1462.73 Q651.588 1462.73 654.967 1465.9 Q658.347 1469.08 658.347 1474.49 Q658.347 1480.07 654.875 1483.17 Q651.403 1486.25 645.083 1486.25 Q642.907 1486.25 640.639 1485.88 Q638.393 1485.51 635.986 1484.77 L635.986 1480.07 Q638.069 1481.2 640.292 1481.76 Q642.514 1482.32 644.991 1482.32 Q648.995 1482.32 651.333 1480.21 Q653.671 1478.1 653.671 1474.49 Q653.671 1470.88 651.333 1468.77 Q648.995 1466.67 644.991 1466.67 Q643.116 1466.67 641.241 1467.08 Q639.389 1467.5 637.444 1468.38 L637.444 1451.02 Z\" fill=\"#000000\" fill-rule=\"evenodd\" fill-opacity=\"1\" /><path clip-path=\"url(#clip590)\" d=\"M980.609 1451.02 L998.965 1451.02 L998.965 1454.96 L984.891 1454.96 L984.891 1463.43 Q985.909 1463.08 986.928 1462.92 Q987.946 1462.73 988.965 1462.73 Q994.752 1462.73 998.132 1465.9 Q1001.51 1469.08 1001.51 1474.49 Q1001.51 1480.07 998.039 1483.17 Q994.567 1486.25 988.247 1486.25 Q986.071 1486.25 983.803 1485.88 Q981.558 1485.51 979.15 1484.77 L979.15 1480.07 Q981.234 1481.2 983.456 1481.76 Q985.678 1482.32 988.155 1482.32 Q992.159 1482.32 994.497 1480.21 Q996.835 1478.1 996.835 1474.49 Q996.835 1470.88 994.497 1468.77 Q992.159 1466.67 988.155 1466.67 Q986.28 1466.67 984.405 1467.08 Q982.553 1467.5 980.609 1468.38 L980.609 1451.02 Z\" fill=\"#000000\" fill-rule=\"evenodd\" fill-opacity=\"1\" /><path clip-path=\"url(#clip590)\" d=\"M1020.72 1454.1 Q1017.11 1454.1 1015.28 1457.66 Q1013.48 1461.2 1013.48 1468.33 Q1013.48 1475.44 1015.28 1479.01 Q1017.11 1482.55 1020.72 1482.55 Q1024.36 1482.55 1026.16 1479.01 Q1027.99 1475.44 1027.99 1468.33 Q1027.99 1461.2 1026.16 1457.66 Q1024.36 1454.1 1020.72 1454.1 M1020.72 1450.39 Q1026.53 1450.39 1029.59 1455 Q1032.67 1459.58 1032.67 1468.33 Q1032.67 1477.06 1029.59 1481.67 Q1026.53 1486.25 1020.72 1486.25 Q1014.91 1486.25 1011.84 1481.67 Q1008.78 1477.06 1008.78 1468.33 Q1008.78 1459.58 1011.84 1455 Q1014.91 1450.39 1020.72 1450.39 Z\" fill=\"#000000\" fill-rule=\"evenodd\" fill-opacity=\"1\" /><path clip-path=\"url(#clip590)\" d=\"M1353.68 1451.02 L1375.9 1451.02 L1375.9 1453.01 L1363.36 1485.58 L1358.47 1485.58 L1370.28 1454.96 L1353.68 1454.96 L1353.68 1451.02 Z\" fill=\"#000000\" fill-rule=\"evenodd\" fill-opacity=\"1\" /><path clip-path=\"url(#clip590)\" d=\"M1385.07 1451.02 L1403.43 1451.02 L1403.43 1454.96 L1389.35 1454.96 L1389.35 1463.43 Q1390.37 1463.08 1391.39 1462.92 Q1392.41 1462.73 1393.43 1462.73 Q1399.21 1462.73 1402.59 1465.9 Q1405.97 1469.08 1405.97 1474.49 Q1405.97 1480.07 1402.5 1483.17 Q1399.03 1486.25 1392.71 1486.25 Q1390.53 1486.25 1388.26 1485.88 Q1386.02 1485.51 1383.61 1484.77 L1383.61 1480.07 Q1385.69 1481.2 1387.92 1481.76 Q1390.14 1482.32 1392.61 1482.32 Q1396.62 1482.32 1398.96 1480.21 Q1401.3 1478.1 1401.3 1474.49 Q1401.3 1470.88 1398.96 1468.77 Q1396.62 1466.67 1392.61 1466.67 Q1390.74 1466.67 1388.86 1467.08 Q1387.01 1467.5 1385.07 1468.38 L1385.07 1451.02 Z\" fill=\"#000000\" fill-rule=\"evenodd\" fill-opacity=\"1\" /><path clip-path=\"url(#clip590)\" d=\"M1713.35 1481.64 L1720.99 1481.64 L1720.99 1455.28 L1712.68 1456.95 L1712.68 1452.69 L1720.94 1451.02 L1725.62 1451.02 L1725.62 1481.64 L1733.26 1481.64 L1733.26 1485.58 L1713.35 1485.58 L1713.35 1481.64 Z\" fill=\"#000000\" fill-rule=\"evenodd\" fill-opacity=\"1\" /><path clip-path=\"url(#clip590)\" d=\"M1752.7 1454.1 Q1749.09 1454.1 1747.26 1457.66 Q1745.45 1461.2 1745.45 1468.33 Q1745.45 1475.44 1747.26 1479.01 Q1749.09 1482.55 1752.7 1482.55 Q1756.33 1482.55 1758.14 1479.01 Q1759.97 1475.44 1759.97 1468.33 Q1759.97 1461.2 1758.14 1457.66 Q1756.33 1454.1 1752.7 1454.1 M1752.7 1450.39 Q1758.51 1450.39 1761.57 1455 Q1764.64 1459.58 1764.64 1468.33 Q1764.64 1477.06 1761.57 1481.67 Q1758.51 1486.25 1752.7 1486.25 Q1746.89 1486.25 1743.81 1481.67 Q1740.76 1477.06 1740.76 1468.33 Q1740.76 1459.58 1743.81 1455 Q1746.89 1450.39 1752.7 1450.39 Z\" fill=\"#000000\" fill-rule=\"evenodd\" fill-opacity=\"1\" /><path clip-path=\"url(#clip590)\" d=\"M1782.86 1454.1 Q1779.25 1454.1 1777.42 1457.66 Q1775.62 1461.2 1775.62 1468.33 Q1775.62 1475.44 1777.42 1479.01 Q1779.25 1482.55 1782.86 1482.55 Q1786.5 1482.55 1788.3 1479.01 Q1790.13 1475.44 1790.13 1468.33 Q1790.13 1461.2 1788.3 1457.66 Q1786.5 1454.1 1782.86 1454.1 M1782.86 1450.39 Q1788.67 1450.39 1791.73 1455 Q1794.81 1459.58 1794.81 1468.33 Q1794.81 1477.06 1791.73 1481.67 Q1788.67 1486.25 1782.86 1486.25 Q1777.05 1486.25 1773.97 1481.67 Q1770.92 1477.06 1770.92 1468.33 Q1770.92 1459.58 1773.97 1455 Q1777.05 1450.39 1782.86 1450.39 Z\" fill=\"#000000\" fill-rule=\"evenodd\" fill-opacity=\"1\" /><path clip-path=\"url(#clip590)\" d=\"M2087.76 1481.64 L2095.4 1481.64 L2095.4 1455.28 L2087.09 1456.95 L2087.09 1452.69 L2095.36 1451.02 L2100.03 1451.02 L2100.03 1481.64 L2107.67 1481.64 L2107.67 1485.58 L2087.76 1485.58 L2087.76 1481.64 Z\" fill=\"#000000\" fill-rule=\"evenodd\" fill-opacity=\"1\" /><path clip-path=\"url(#clip590)\" d=\"M2121.14 1481.64 L2137.46 1481.64 L2137.46 1485.58 L2115.52 1485.58 L2115.52 1481.64 Q2118.18 1478.89 2122.76 1474.26 Q2127.37 1469.61 2128.55 1468.27 Q2130.79 1465.74 2131.67 1464.01 Q2132.58 1462.25 2132.58 1460.56 Q2132.58 1457.8 2130.63 1456.07 Q2128.71 1454.33 2125.61 1454.33 Q2123.41 1454.33 2120.96 1455.09 Q2118.53 1455.86 2115.75 1457.41 L2115.75 1452.69 Q2118.57 1451.55 2121.03 1450.97 Q2123.48 1450.39 2125.52 1450.39 Q2130.89 1450.39 2134.08 1453.08 Q2137.28 1455.77 2137.28 1460.26 Q2137.28 1462.39 2136.47 1464.31 Q2135.68 1466.2 2133.57 1468.8 Q2132.99 1469.47 2129.89 1472.69 Q2126.79 1475.88 2121.14 1481.64 Z\" fill=\"#000000\" fill-rule=\"evenodd\" fill-opacity=\"1\" /><path clip-path=\"url(#clip590)\" d=\"M2147.32 1451.02 L2165.68 1451.02 L2165.68 1454.96 L2151.6 1454.96 L2151.6 1463.43 Q2152.62 1463.08 2153.64 1462.92 Q2154.66 1462.73 2155.68 1462.73 Q2161.47 1462.73 2164.85 1465.9 Q2168.23 1469.08 2168.23 1474.49 Q2168.23 1480.07 2164.75 1483.17 Q2161.28 1486.25 2154.96 1486.25 Q2152.79 1486.25 2150.52 1485.88 Q2148.27 1485.51 2145.86 1484.77 L2145.86 1480.07 Q2147.95 1481.2 2150.17 1481.76 Q2152.39 1482.32 2154.87 1482.32 Q2158.87 1482.32 2161.21 1480.21 Q2163.55 1478.1 2163.55 1474.49 Q2163.55 1470.88 2161.21 1468.77 Q2158.87 1466.67 2154.87 1466.67 Q2152.99 1466.67 2151.12 1467.08 Q2149.27 1467.5 2147.32 1468.38 L2147.32 1451.02 Z\" fill=\"#000000\" fill-rule=\"evenodd\" fill-opacity=\"1\" /><path clip-path=\"url(#clip590)\" d=\"M1228.15 1546.53 L1228.15 1568.04 L1222.29 1568.04 L1222.29 1546.72 Q1222.29 1541.66 1220.32 1539.14 Q1218.35 1536.63 1214.4 1536.63 Q1209.66 1536.63 1206.92 1539.65 Q1204.18 1542.68 1204.18 1547.9 L1204.18 1568.04 L1198.29 1568.04 L1198.29 1532.4 L1204.18 1532.4 L1204.18 1537.93 Q1206.28 1534.72 1209.12 1533.13 Q1211.98 1531.54 1215.7 1531.54 Q1221.85 1531.54 1225 1535.36 Q1228.15 1539.14 1228.15 1546.53 Z\" fill=\"#000000\" fill-rule=\"evenodd\" fill-opacity=\"1\" /><path clip-path=\"url(#clip590)\" d=\"M1240.59 1538.44 L1281.4 1538.44 L1281.4 1543.79 L1240.59 1543.79 L1240.59 1538.44 M1240.59 1551.43 L1281.4 1551.43 L1281.4 1556.84 L1240.59 1556.84 L1240.59 1551.43 Z\" fill=\"#000000\" fill-rule=\"evenodd\" fill-opacity=\"1\" /><path clip-path=\"url(#clip590)\" d=\"M1296.39 1562.63 L1306.89 1562.63 L1306.89 1526.38 L1295.47 1528.67 L1295.47 1522.82 L1306.83 1520.52 L1313.26 1520.52 L1313.26 1562.63 L1323.76 1562.63 L1323.76 1568.04 L1296.39 1568.04 L1296.39 1562.63 Z\" fill=\"#000000\" fill-rule=\"evenodd\" fill-opacity=\"1\" /><path clip-path=\"url(#clip590)\" d=\"M1350.5 1524.76 Q1345.53 1524.76 1343.02 1529.66 Q1340.54 1534.53 1340.54 1544.33 Q1340.54 1554.1 1343.02 1559 Q1345.53 1563.87 1350.5 1563.87 Q1355.49 1563.87 1357.98 1559 Q1360.49 1554.1 1360.49 1544.33 Q1360.49 1534.53 1357.98 1529.66 Q1355.49 1524.76 1350.5 1524.76 M1350.5 1519.66 Q1358.49 1519.66 1362.69 1526 Q1366.92 1532.3 1366.92 1544.33 Q1366.92 1556.33 1362.69 1562.66 Q1358.49 1568.97 1350.5 1568.97 Q1342.51 1568.97 1338.28 1562.66 Q1334.07 1556.33 1334.07 1544.33 Q1334.07 1532.3 1338.28 1526 Q1342.51 1519.66 1350.5 1519.66 Z\" fill=\"#000000\" fill-rule=\"evenodd\" fill-opacity=\"1\" /><polyline clip-path=\"url(#clip592)\" style=\"stroke:#000000; stroke-linecap:round; stroke-linejoin:round; stroke-width:2; stroke-opacity:0.1; fill:none\" points=\"\n",
       "  212.459,1206.77 2352.76,1206.77 \n",
       "  \"/>\n",
       "<polyline clip-path=\"url(#clip592)\" style=\"stroke:#000000; stroke-linecap:round; stroke-linejoin:round; stroke-width:2; stroke-opacity:0.1; fill:none\" points=\"\n",
       "  212.459,990.031 2352.76,990.031 \n",
       "  \"/>\n",
       "<polyline clip-path=\"url(#clip592)\" style=\"stroke:#000000; stroke-linecap:round; stroke-linejoin:round; stroke-width:2; stroke-opacity:0.1; fill:none\" points=\"\n",
       "  212.459,773.296 2352.76,773.296 \n",
       "  \"/>\n",
       "<polyline clip-path=\"url(#clip592)\" style=\"stroke:#000000; stroke-linecap:round; stroke-linejoin:round; stroke-width:2; stroke-opacity:0.1; fill:none\" points=\"\n",
       "  212.459,556.56 2352.76,556.56 \n",
       "  \"/>\n",
       "<polyline clip-path=\"url(#clip592)\" style=\"stroke:#000000; stroke-linecap:round; stroke-linejoin:round; stroke-width:2; stroke-opacity:0.1; fill:none\" points=\"\n",
       "  212.459,339.825 2352.76,339.825 \n",
       "  \"/>\n",
       "<polyline clip-path=\"url(#clip590)\" style=\"stroke:#000000; stroke-linecap:round; stroke-linejoin:round; stroke-width:4; stroke-opacity:1; fill:none\" points=\"\n",
       "  212.459,1423.18 212.459,123.472 \n",
       "  \"/>\n",
       "<polyline clip-path=\"url(#clip590)\" style=\"stroke:#000000; stroke-linecap:round; stroke-linejoin:round; stroke-width:4; stroke-opacity:1; fill:none\" points=\"\n",
       "  212.459,1206.77 231.357,1206.77 \n",
       "  \"/>\n",
       "<polyline clip-path=\"url(#clip590)\" style=\"stroke:#000000; stroke-linecap:round; stroke-linejoin:round; stroke-width:4; stroke-opacity:1; fill:none\" points=\"\n",
       "  212.459,990.031 231.357,990.031 \n",
       "  \"/>\n",
       "<polyline clip-path=\"url(#clip590)\" style=\"stroke:#000000; stroke-linecap:round; stroke-linejoin:round; stroke-width:4; stroke-opacity:1; fill:none\" points=\"\n",
       "  212.459,773.296 231.357,773.296 \n",
       "  \"/>\n",
       "<polyline clip-path=\"url(#clip590)\" style=\"stroke:#000000; stroke-linecap:round; stroke-linejoin:round; stroke-width:4; stroke-opacity:1; fill:none\" points=\"\n",
       "  212.459,556.56 231.357,556.56 \n",
       "  \"/>\n",
       "<polyline clip-path=\"url(#clip590)\" style=\"stroke:#000000; stroke-linecap:round; stroke-linejoin:round; stroke-width:4; stroke-opacity:1; fill:none\" points=\"\n",
       "  212.459,339.825 231.357,339.825 \n",
       "  \"/>\n",
       "<path clip-path=\"url(#clip590)\" d=\"M114.26 1207.22 L143.936 1207.22 L143.936 1211.15 L114.26 1211.15 L114.26 1207.22 Z\" fill=\"#000000\" fill-rule=\"evenodd\" fill-opacity=\"1\" /><path clip-path=\"url(#clip590)\" d=\"M166.876 1193.56 L155.07 1212.01 L166.876 1212.01 L166.876 1193.56 M165.649 1189.49 L171.528 1189.49 L171.528 1212.01 L176.459 1212.01 L176.459 1215.9 L171.528 1215.9 L171.528 1224.05 L166.876 1224.05 L166.876 1215.9 L151.274 1215.9 L151.274 1211.38 L165.649 1189.49 Z\" fill=\"#000000\" fill-rule=\"evenodd\" fill-opacity=\"1\" /><path clip-path=\"url(#clip590)\" d=\"M116.343 990.482 L146.019 990.482 L146.019 994.417 L116.343 994.417 L116.343 990.482 Z\" fill=\"#000000\" fill-rule=\"evenodd\" fill-opacity=\"1\" /><path clip-path=\"url(#clip590)\" d=\"M160.14 1003.38 L176.459 1003.38 L176.459 1007.31 L154.515 1007.31 L154.515 1003.38 Q157.177 1000.62 161.76 995.991 Q166.366 991.338 167.547 989.996 Q169.792 987.473 170.672 985.737 Q171.575 983.977 171.575 982.288 Q171.575 979.533 169.63 977.797 Q167.709 976.061 164.607 976.061 Q162.408 976.061 159.954 976.825 Q157.524 977.589 154.746 979.139 L154.746 974.417 Q157.57 973.283 160.024 972.704 Q162.477 972.126 164.515 972.126 Q169.885 972.126 173.079 974.811 Q176.274 977.496 176.274 981.987 Q176.274 984.116 175.464 986.038 Q174.677 987.936 172.57 990.528 Q171.991 991.2 168.889 994.417 Q165.788 997.612 160.14 1003.38 Z\" fill=\"#000000\" fill-rule=\"evenodd\" fill-opacity=\"1\" /><path clip-path=\"url(#clip590)\" d=\"M164.515 759.094 Q160.903 759.094 159.075 762.659 Q157.269 766.201 157.269 773.33 Q157.269 780.437 159.075 784.001 Q160.903 787.543 164.515 787.543 Q168.149 787.543 169.954 784.001 Q171.783 780.437 171.783 773.33 Q171.783 766.201 169.954 762.659 Q168.149 759.094 164.515 759.094 M164.515 755.391 Q170.325 755.391 173.38 759.997 Q176.459 764.58 176.459 773.33 Q176.459 782.057 173.38 786.663 Q170.325 791.247 164.515 791.247 Q158.704 791.247 155.626 786.663 Q152.57 782.057 152.57 773.33 Q152.57 764.58 155.626 759.997 Q158.704 755.391 164.515 755.391 Z\" fill=\"#000000\" fill-rule=\"evenodd\" fill-opacity=\"1\" /><path clip-path=\"url(#clip590)\" d=\"M160.14 569.905 L176.459 569.905 L176.459 573.84 L154.515 573.84 L154.515 569.905 Q157.177 567.151 161.76 562.521 Q166.366 557.868 167.547 556.526 Q169.792 554.003 170.672 552.266 Q171.575 550.507 171.575 548.817 Q171.575 546.063 169.63 544.327 Q167.709 542.591 164.607 542.591 Q162.408 542.591 159.954 543.354 Q157.524 544.118 154.746 545.669 L154.746 540.947 Q157.57 539.813 160.024 539.234 Q162.477 538.655 164.515 538.655 Q169.885 538.655 173.079 541.341 Q176.274 544.026 176.274 548.516 Q176.274 550.646 175.464 552.567 Q174.677 554.466 172.57 557.058 Q171.991 557.729 168.889 560.947 Q165.788 564.141 160.14 569.905 Z\" fill=\"#000000\" fill-rule=\"evenodd\" fill-opacity=\"1\" /><path clip-path=\"url(#clip590)\" d=\"M166.876 326.619 L155.07 345.068 L166.876 345.068 L166.876 326.619 M165.649 322.545 L171.528 322.545 L171.528 345.068 L176.459 345.068 L176.459 348.957 L171.528 348.957 L171.528 357.105 L166.876 357.105 L166.876 348.957 L151.274 348.957 L151.274 344.443 L165.649 322.545 Z\" fill=\"#000000\" fill-rule=\"evenodd\" fill-opacity=\"1\" /><path clip-path=\"url(#clip590)\" d=\"M16.4842 788.636 L16.4842 758.589 L21.895 758.589 L21.895 782.206 L35.9632 782.206 L35.9632 759.576 L41.3741 759.576 L41.3741 782.206 L58.5933 782.206 L58.5933 758.016 L64.0042 758.016 L64.0042 788.636 L16.4842 788.636 Z\" fill=\"#000000\" fill-rule=\"evenodd\" fill-opacity=\"1\" /><path clip-path=\"url(#clip590)\" d=\"M1144.84 12.096 L1153.06 12.096 L1153.06 48.8377 Q1153.06 58.5599 1156.58 62.8538 Q1160.11 67.1073 1168.01 67.1073 Q1175.87 67.1073 1179.39 62.8538 Q1182.91 58.5599 1182.91 48.8377 L1182.91 12.096 L1191.14 12.096 L1191.14 49.8504 Q1191.14 61.6791 1185.26 67.7149 Q1179.43 73.7508 1168.01 73.7508 Q1156.54 73.7508 1150.67 67.7149 Q1144.84 61.6791 1144.84 49.8504 L1144.84 12.096 Z\" fill=\"#000000\" fill-rule=\"evenodd\" fill-opacity=\"1\" /><path clip-path=\"url(#clip590)\" d=\"M1207.14 34.9026 L1259.07 34.9026 L1259.07 41.7081 L1207.14 41.7081 L1207.14 34.9026 M1207.14 51.4303 L1259.07 51.4303 L1259.07 58.3168 L1207.14 58.3168 L1207.14 51.4303 Z\" fill=\"#000000\" fill-rule=\"evenodd\" fill-opacity=\"1\" /><path clip-path=\"url(#clip590)\" d=\"M1278.15 65.6895 L1291.52 65.6895 L1291.52 19.5497 L1276.98 22.4663 L1276.98 15.0127 L1291.44 12.096 L1299.62 12.096 L1299.62 65.6895 L1312.99 65.6895 L1312.99 72.576 L1278.15 72.576 L1278.15 65.6895 Z\" fill=\"#000000\" fill-rule=\"evenodd\" fill-opacity=\"1\" /><path clip-path=\"url(#clip590)\" d=\"M1329.76 71.3202 L1329.76 63.8666 Q1332.84 65.3249 1336 66.0946 Q1339.16 66.8642 1342.2 66.8642 Q1350.3 66.8642 1354.55 61.436 Q1358.85 55.9673 1359.45 44.8678 Q1357.1 48.3516 1353.5 50.215 Q1349.89 52.0784 1345.52 52.0784 Q1336.44 52.0784 1331.14 46.6097 Q1325.87 41.1005 1325.87 31.5808 Q1325.87 22.2638 1331.38 16.633 Q1336.89 11.0023 1346.04 11.0023 Q1356.54 11.0023 1362.05 19.0636 Q1367.6 27.0843 1367.6 42.3968 Q1367.6 56.6965 1360.79 65.2439 Q1354.02 73.7508 1342.56 73.7508 Q1339.48 73.7508 1336.32 73.1431 Q1333.16 72.5355 1329.76 71.3202 M1346.04 45.678 Q1351.55 45.678 1354.75 41.9107 Q1357.99 38.1433 1357.99 31.5808 Q1357.99 25.0589 1354.75 21.2916 Q1351.55 17.4837 1346.04 17.4837 Q1340.54 17.4837 1337.29 21.2916 Q1334.09 25.0589 1334.09 31.5808 Q1334.09 38.1433 1337.29 41.9107 Q1340.54 45.678 1346.04 45.678 Z\" fill=\"#000000\" fill-rule=\"evenodd\" fill-opacity=\"1\" /><path clip-path=\"url(#clip590)\" d=\"M1382.54 71.3202 L1382.54 63.8666 Q1385.62 65.3249 1388.78 66.0946 Q1391.94 66.8642 1394.98 66.8642 Q1403.08 66.8642 1407.33 61.436 Q1411.63 55.9673 1412.24 44.8678 Q1409.89 48.3516 1406.28 50.215 Q1402.68 52.0784 1398.3 52.0784 Q1389.23 52.0784 1383.92 46.6097 Q1378.65 41.1005 1378.65 31.5808 Q1378.65 22.2638 1384.16 16.633 Q1389.67 11.0023 1398.83 11.0023 Q1409.32 11.0023 1414.83 19.0636 Q1420.38 27.0843 1420.38 42.3968 Q1420.38 56.6965 1413.57 65.2439 Q1406.81 73.7508 1395.34 73.7508 Q1392.27 73.7508 1389.11 73.1431 Q1385.95 72.5355 1382.54 71.3202 M1398.83 45.678 Q1404.34 45.678 1407.54 41.9107 Q1410.78 38.1433 1410.78 31.5808 Q1410.78 25.0589 1407.54 21.2916 Q1404.34 17.4837 1398.83 17.4837 Q1393.32 17.4837 1390.08 21.2916 Q1386.88 25.0589 1386.88 31.5808 Q1386.88 38.1433 1390.08 41.9107 Q1393.32 45.678 1398.83 45.678 Z\" fill=\"#000000\" fill-rule=\"evenodd\" fill-opacity=\"1\" /><path clip-path=\"url(#clip592)\" d=\"M273.033 1370.31 L269.273 1381.13 L257.817 1381.37 L266.953 1388.3 L263.625 1399.26 L273.033 1392.71 L282.441 1399.26 L279.113 1388.3 L288.249 1381.37 L276.793 1381.13 L273.033 1370.31 Z\" fill=\"#009af9\" fill-rule=\"evenodd\" fill-opacity=\"1\" stroke=\"#000000\" stroke-opacity=\"1\" stroke-width=\"3.2\"/>\n",
       "<path clip-path=\"url(#clip592)\" d=\"M287.99 1370.31 L284.23 1381.13 L272.774 1381.37 L281.91 1388.3 L278.582 1399.26 L287.99 1392.71 L297.398 1399.26 L294.07 1388.3 L303.206 1381.37 L291.75 1381.13 L287.99 1370.31 Z\" fill=\"#009af9\" fill-rule=\"evenodd\" fill-opacity=\"1\" stroke=\"#000000\" stroke-opacity=\"1\" stroke-width=\"3.2\"/>\n",
       "<path clip-path=\"url(#clip592)\" d=\"M302.947 1370.31 L299.187 1381.12 L287.731 1381.36 L296.867 1388.29 L293.539 1399.25 L302.947 1392.71 L312.355 1399.25 L309.027 1388.29 L318.163 1381.36 L306.707 1381.12 L302.947 1370.31 Z\" fill=\"#009af9\" fill-rule=\"evenodd\" fill-opacity=\"1\" stroke=\"#000000\" stroke-opacity=\"1\" stroke-width=\"3.2\"/>\n",
       "<path clip-path=\"url(#clip592)\" d=\"M317.903 1370.31 L314.143 1381.12 L302.687 1381.36 L311.823 1388.29 L308.495 1399.25 L317.903 1392.71 L327.311 1399.25 L323.983 1388.29 L333.119 1381.36 L321.663 1381.12 L317.903 1370.31 Z\" fill=\"#009af9\" fill-rule=\"evenodd\" fill-opacity=\"1\" stroke=\"#000000\" stroke-opacity=\"1\" stroke-width=\"3.2\"/>\n",
       "<path clip-path=\"url(#clip592)\" d=\"M332.86 1370.3 L329.1 1381.12 L317.644 1381.36 L326.78 1388.29 L323.452 1399.25 L332.86 1392.7 L342.268 1399.25 L338.94 1388.29 L348.076 1381.36 L336.62 1381.12 L332.86 1370.3 Z\" fill=\"#009af9\" fill-rule=\"evenodd\" fill-opacity=\"1\" stroke=\"#000000\" stroke-opacity=\"1\" stroke-width=\"3.2\"/>\n",
       "<path clip-path=\"url(#clip592)\" d=\"M347.817 1370.3 L344.057 1381.12 L332.601 1381.36 L341.737 1388.29 L338.409 1399.25 L347.817 1392.7 L357.225 1399.25 L353.897 1388.29 L363.033 1381.36 L351.577 1381.12 L347.817 1370.3 Z\" fill=\"#009af9\" fill-rule=\"evenodd\" fill-opacity=\"1\" stroke=\"#000000\" stroke-opacity=\"1\" stroke-width=\"3.2\"/>\n",
       "<path clip-path=\"url(#clip592)\" d=\"M362.773 1370.3 L359.013 1381.12 L347.557 1381.36 L356.693 1388.29 L353.365 1399.25 L362.773 1392.7 L372.181 1399.25 L368.853 1388.29 L377.989 1381.36 L366.533 1381.12 L362.773 1370.3 Z\" fill=\"#009af9\" fill-rule=\"evenodd\" fill-opacity=\"1\" stroke=\"#000000\" stroke-opacity=\"1\" stroke-width=\"3.2\"/>\n",
       "<path clip-path=\"url(#clip592)\" d=\"M377.73 1370.3 L373.97 1381.12 L362.514 1381.36 L371.65 1388.29 L368.322 1399.25 L377.73 1392.7 L387.138 1399.25 L383.81 1388.29 L392.946 1381.36 L381.49 1381.12 L377.73 1370.3 Z\" fill=\"#009af9\" fill-rule=\"evenodd\" fill-opacity=\"1\" stroke=\"#000000\" stroke-opacity=\"1\" stroke-width=\"3.2\"/>\n",
       "<path clip-path=\"url(#clip592)\" d=\"M392.687 1370.3 L388.927 1381.11 L377.471 1381.35 L386.607 1388.28 L383.279 1399.24 L392.687 1392.7 L402.095 1399.24 L398.767 1388.28 L407.903 1381.35 L396.447 1381.11 L392.687 1370.3 Z\" fill=\"#009af9\" fill-rule=\"evenodd\" fill-opacity=\"1\" stroke=\"#000000\" stroke-opacity=\"1\" stroke-width=\"3.2\"/>\n",
       "<path clip-path=\"url(#clip592)\" d=\"M407.643 1370.3 L403.883 1381.11 L392.427 1381.35 L401.563 1388.28 L398.235 1399.24 L407.643 1392.7 L417.051 1399.24 L413.723 1388.28 L422.859 1381.35 L411.403 1381.11 L407.643 1370.3 Z\" fill=\"#009af9\" fill-rule=\"evenodd\" fill-opacity=\"1\" stroke=\"#000000\" stroke-opacity=\"1\" stroke-width=\"3.2\"/>\n",
       "<path clip-path=\"url(#clip592)\" d=\"M422.6 1063.81 L418.84 1074.62 L407.384 1074.86 L416.52 1081.79 L413.192 1092.75 L422.6 1086.21 L432.008 1092.75 L428.68 1081.79 L437.816 1074.86 L426.36 1074.62 L422.6 1063.81 Z\" fill=\"#009af9\" fill-rule=\"evenodd\" fill-opacity=\"1\" stroke=\"#000000\" stroke-opacity=\"1\" stroke-width=\"3.2\"/>\n",
       "<path clip-path=\"url(#clip592)\" d=\"M437.557 1063.81 L433.797 1074.62 L422.341 1074.86 L431.477 1081.79 L428.149 1092.75 L437.557 1086.21 L446.965 1092.75 L443.637 1081.79 L452.773 1074.86 L441.317 1074.62 L437.557 1063.81 Z\" fill=\"#009af9\" fill-rule=\"evenodd\" fill-opacity=\"1\" stroke=\"#000000\" stroke-opacity=\"1\" stroke-width=\"3.2\"/>\n",
       "<path clip-path=\"url(#clip592)\" d=\"M452.513 1063.81 L448.753 1074.62 L437.297 1074.86 L446.433 1081.79 L443.105 1092.75 L452.513 1086.21 L461.921 1092.75 L458.593 1081.79 L467.729 1074.86 L456.273 1074.62 L452.513 1063.81 Z\" fill=\"#009af9\" fill-rule=\"evenodd\" fill-opacity=\"1\" stroke=\"#000000\" stroke-opacity=\"1\" stroke-width=\"3.2\"/>\n",
       "<path clip-path=\"url(#clip592)\" d=\"M467.47 1063.81 L463.71 1074.62 L452.254 1074.86 L461.39 1081.79 L458.062 1092.75 L467.47 1086.21 L476.878 1092.75 L473.55 1081.79 L482.686 1074.86 L471.23 1074.62 L467.47 1063.81 Z\" fill=\"#009af9\" fill-rule=\"evenodd\" fill-opacity=\"1\" stroke=\"#000000\" stroke-opacity=\"1\" stroke-width=\"3.2\"/>\n",
       "<path clip-path=\"url(#clip592)\" d=\"M482.426 1063.81 L478.666 1074.62 L467.21 1074.86 L476.346 1081.79 L473.018 1092.75 L482.426 1086.21 L491.834 1092.75 L488.506 1081.79 L497.642 1074.86 L486.186 1074.62 L482.426 1063.81 Z\" fill=\"#009af9\" fill-rule=\"evenodd\" fill-opacity=\"1\" stroke=\"#000000\" stroke-opacity=\"1\" stroke-width=\"3.2\"/>\n",
       "<path clip-path=\"url(#clip592)\" d=\"M497.383 1063.81 L493.623 1074.62 L482.167 1074.86 L491.303 1081.79 L487.975 1092.75 L497.383 1086.21 L506.791 1092.75 L503.463 1081.79 L512.599 1074.86 L501.143 1074.62 L497.383 1063.81 Z\" fill=\"#009af9\" fill-rule=\"evenodd\" fill-opacity=\"1\" stroke=\"#000000\" stroke-opacity=\"1\" stroke-width=\"3.2\"/>\n",
       "<path clip-path=\"url(#clip592)\" d=\"M512.34 1063.81 L508.58 1074.62 L497.124 1074.86 L506.26 1081.79 L502.932 1092.75 L512.34 1086.21 L521.748 1092.75 L518.42 1081.79 L527.556 1074.86 L516.1 1074.62 L512.34 1063.81 Z\" fill=\"#009af9\" fill-rule=\"evenodd\" fill-opacity=\"1\" stroke=\"#000000\" stroke-opacity=\"1\" stroke-width=\"3.2\"/>\n",
       "<path clip-path=\"url(#clip592)\" d=\"M527.296 1063.81 L523.536 1074.62 L512.08 1074.86 L521.216 1081.79 L517.888 1092.75 L527.296 1086.21 L536.704 1092.75 L533.376 1081.79 L542.512 1074.86 L531.056 1074.62 L527.296 1063.81 Z\" fill=\"#009af9\" fill-rule=\"evenodd\" fill-opacity=\"1\" stroke=\"#000000\" stroke-opacity=\"1\" stroke-width=\"3.2\"/>\n",
       "<path clip-path=\"url(#clip592)\" d=\"M542.253 1063.81 L538.493 1074.62 L527.037 1074.86 L536.173 1081.79 L532.845 1092.75 L542.253 1086.21 L551.661 1092.75 L548.333 1081.79 L557.469 1074.86 L546.013 1074.62 L542.253 1063.81 Z\" fill=\"#009af9\" fill-rule=\"evenodd\" fill-opacity=\"1\" stroke=\"#000000\" stroke-opacity=\"1\" stroke-width=\"3.2\"/>\n",
       "<path clip-path=\"url(#clip592)\" d=\"M557.21 1063.81 L553.45 1074.62 L541.994 1074.86 L551.13 1081.79 L547.802 1092.75 L557.21 1086.21 L566.618 1092.75 L563.29 1081.79 L572.426 1074.86 L560.97 1074.62 L557.21 1063.81 Z\" fill=\"#009af9\" fill-rule=\"evenodd\" fill-opacity=\"1\" stroke=\"#000000\" stroke-opacity=\"1\" stroke-width=\"3.2\"/>\n",
       "<path clip-path=\"url(#clip592)\" d=\"M572.166 1063.81 L568.406 1074.62 L556.95 1074.86 L566.086 1081.79 L562.758 1092.75 L572.166 1086.21 L581.574 1092.75 L578.246 1081.79 L587.382 1074.86 L575.926 1074.62 L572.166 1063.81 Z\" fill=\"#009af9\" fill-rule=\"evenodd\" fill-opacity=\"1\" stroke=\"#000000\" stroke-opacity=\"1\" stroke-width=\"3.2\"/>\n",
       "<path clip-path=\"url(#clip592)\" d=\"M587.123 1063.81 L583.363 1074.62 L571.907 1074.86 L581.043 1081.79 L577.715 1092.75 L587.123 1086.21 L596.531 1092.75 L593.203 1081.79 L602.339 1074.86 L590.883 1074.62 L587.123 1063.81 Z\" fill=\"#009af9\" fill-rule=\"evenodd\" fill-opacity=\"1\" stroke=\"#000000\" stroke-opacity=\"1\" stroke-width=\"3.2\"/>\n",
       "<path clip-path=\"url(#clip592)\" d=\"M602.08 1063.81 L598.32 1074.62 L586.864 1074.86 L596 1081.79 L592.672 1092.75 L602.08 1086.21 L611.488 1092.75 L608.16 1081.79 L617.296 1074.86 L605.84 1074.62 L602.08 1063.81 Z\" fill=\"#009af9\" fill-rule=\"evenodd\" fill-opacity=\"1\" stroke=\"#000000\" stroke-opacity=\"1\" stroke-width=\"3.2\"/>\n",
       "<path clip-path=\"url(#clip592)\" d=\"M617.036 1063.81 L613.276 1074.62 L601.82 1074.86 L610.956 1081.79 L607.628 1092.75 L617.036 1086.21 L626.444 1092.75 L623.116 1081.79 L632.252 1074.86 L620.796 1074.62 L617.036 1063.81 Z\" fill=\"#009af9\" fill-rule=\"evenodd\" fill-opacity=\"1\" stroke=\"#000000\" stroke-opacity=\"1\" stroke-width=\"3.2\"/>\n",
       "<path clip-path=\"url(#clip592)\" d=\"M631.993 1063.81 L628.233 1074.62 L616.777 1074.86 L625.913 1081.79 L622.585 1092.75 L631.993 1086.21 L641.401 1092.75 L638.073 1081.79 L647.209 1074.86 L635.753 1074.62 L631.993 1063.81 Z\" fill=\"#009af9\" fill-rule=\"evenodd\" fill-opacity=\"1\" stroke=\"#000000\" stroke-opacity=\"1\" stroke-width=\"3.2\"/>\n",
       "<path clip-path=\"url(#clip592)\" d=\"M646.95 1063.81 L643.19 1074.62 L631.734 1074.86 L640.87 1081.79 L637.542 1092.75 L646.95 1086.21 L656.358 1092.75 L653.03 1081.79 L662.166 1074.86 L650.71 1074.62 L646.95 1063.81 Z\" fill=\"#009af9\" fill-rule=\"evenodd\" fill-opacity=\"1\" stroke=\"#000000\" stroke-opacity=\"1\" stroke-width=\"3.2\"/>\n",
       "<path clip-path=\"url(#clip592)\" d=\"M661.906 1063.79 L658.146 1074.61 L646.69 1074.85 L655.826 1081.78 L652.498 1092.74 L661.906 1086.19 L671.314 1092.74 L667.986 1081.78 L677.122 1074.85 L665.666 1074.61 L661.906 1063.79 Z\" fill=\"#009af9\" fill-rule=\"evenodd\" fill-opacity=\"1\" stroke=\"#000000\" stroke-opacity=\"1\" stroke-width=\"3.2\"/>\n",
       "<path clip-path=\"url(#clip592)\" d=\"M676.863 1063.79 L673.103 1074.61 L661.647 1074.85 L670.783 1081.78 L667.455 1092.74 L676.863 1086.19 L686.271 1092.74 L682.943 1081.78 L692.079 1074.85 L680.623 1074.61 L676.863 1063.79 Z\" fill=\"#009af9\" fill-rule=\"evenodd\" fill-opacity=\"1\" stroke=\"#000000\" stroke-opacity=\"1\" stroke-width=\"3.2\"/>\n",
       "<path clip-path=\"url(#clip592)\" d=\"M691.82 1063.79 L688.06 1074.61 L676.604 1074.85 L685.74 1081.78 L682.412 1092.74 L691.82 1086.19 L701.228 1092.74 L697.9 1081.78 L707.036 1074.85 L695.58 1074.61 L691.82 1063.79 Z\" fill=\"#009af9\" fill-rule=\"evenodd\" fill-opacity=\"1\" stroke=\"#000000\" stroke-opacity=\"1\" stroke-width=\"3.2\"/>\n",
       "<path clip-path=\"url(#clip592)\" d=\"M706.776 1063.79 L703.016 1074.61 L691.56 1074.85 L700.696 1081.78 L697.368 1092.74 L706.776 1086.19 L716.184 1092.74 L712.856 1081.78 L721.992 1074.85 L710.536 1074.61 L706.776 1063.79 Z\" fill=\"#009af9\" fill-rule=\"evenodd\" fill-opacity=\"1\" stroke=\"#000000\" stroke-opacity=\"1\" stroke-width=\"3.2\"/>\n",
       "<path clip-path=\"url(#clip592)\" d=\"M721.733 1063.78 L717.973 1074.59 L706.517 1074.83 L715.653 1081.76 L712.325 1092.72 L721.733 1086.18 L731.141 1092.72 L727.813 1081.76 L736.949 1074.83 L725.493 1074.59 L721.733 1063.78 Z\" fill=\"#009af9\" fill-rule=\"evenodd\" fill-opacity=\"1\" stroke=\"#000000\" stroke-opacity=\"1\" stroke-width=\"3.2\"/>\n",
       "<path clip-path=\"url(#clip592)\" d=\"M736.69 1063.78 L732.93 1074.59 L721.474 1074.83 L730.61 1081.76 L727.282 1092.72 L736.69 1086.18 L746.098 1092.72 L742.77 1081.76 L751.906 1074.83 L740.45 1074.59 L736.69 1063.78 Z\" fill=\"#009af9\" fill-rule=\"evenodd\" fill-opacity=\"1\" stroke=\"#000000\" stroke-opacity=\"1\" stroke-width=\"3.2\"/>\n",
       "<path clip-path=\"url(#clip592)\" d=\"M751.646 1063.78 L747.886 1074.59 L736.43 1074.83 L745.566 1081.76 L742.238 1092.72 L751.646 1086.18 L761.054 1092.72 L757.726 1081.76 L766.862 1074.83 L755.406 1074.59 L751.646 1063.78 Z\" fill=\"#009af9\" fill-rule=\"evenodd\" fill-opacity=\"1\" stroke=\"#000000\" stroke-opacity=\"1\" stroke-width=\"3.2\"/>\n",
       "<path clip-path=\"url(#clip592)\" d=\"M766.603 1063.78 L762.843 1074.59 L751.387 1074.83 L760.523 1081.76 L757.195 1092.72 L766.603 1086.18 L776.011 1092.72 L772.683 1081.76 L781.819 1074.83 L770.363 1074.59 L766.603 1063.78 Z\" fill=\"#009af9\" fill-rule=\"evenodd\" fill-opacity=\"1\" stroke=\"#000000\" stroke-opacity=\"1\" stroke-width=\"3.2\"/>\n",
       "<path clip-path=\"url(#clip592)\" d=\"M781.56 1063.78 L777.8 1074.59 L766.344 1074.83 L775.48 1081.76 L772.152 1092.72 L781.56 1086.18 L790.968 1092.72 L787.64 1081.76 L796.776 1074.83 L785.32 1074.59 L781.56 1063.78 Z\" fill=\"#009af9\" fill-rule=\"evenodd\" fill-opacity=\"1\" stroke=\"#000000\" stroke-opacity=\"1\" stroke-width=\"3.2\"/>\n",
       "<path clip-path=\"url(#clip592)\" d=\"M796.516 1063.78 L792.756 1074.59 L781.3 1074.83 L790.436 1081.76 L787.108 1092.72 L796.516 1086.18 L805.924 1092.72 L802.596 1081.76 L811.732 1074.83 L800.276 1074.59 L796.516 1063.78 Z\" fill=\"#009af9\" fill-rule=\"evenodd\" fill-opacity=\"1\" stroke=\"#000000\" stroke-opacity=\"1\" stroke-width=\"3.2\"/>\n",
       "<path clip-path=\"url(#clip592)\" d=\"M811.473 1063.78 L807.713 1074.59 L796.257 1074.83 L805.393 1081.76 L802.065 1092.72 L811.473 1086.18 L820.881 1092.72 L817.553 1081.76 L826.689 1074.83 L815.233 1074.59 L811.473 1063.78 Z\" fill=\"#009af9\" fill-rule=\"evenodd\" fill-opacity=\"1\" stroke=\"#000000\" stroke-opacity=\"1\" stroke-width=\"3.2\"/>\n",
       "<path clip-path=\"url(#clip592)\" d=\"M826.429 1063.78 L822.669 1074.59 L811.213 1074.83 L820.349 1081.76 L817.021 1092.72 L826.429 1086.18 L835.837 1092.72 L832.509 1081.76 L841.645 1074.83 L830.189 1074.59 L826.429 1063.78 Z\" fill=\"#009af9\" fill-rule=\"evenodd\" fill-opacity=\"1\" stroke=\"#000000\" stroke-opacity=\"1\" stroke-width=\"3.2\"/>\n",
       "<path clip-path=\"url(#clip592)\" d=\"M841.386 1063.78 L837.626 1074.59 L826.17 1074.83 L835.306 1081.76 L831.978 1092.72 L841.386 1086.18 L850.794 1092.72 L847.466 1081.76 L856.602 1074.83 L845.146 1074.59 L841.386 1063.78 Z\" fill=\"#009af9\" fill-rule=\"evenodd\" fill-opacity=\"1\" stroke=\"#000000\" stroke-opacity=\"1\" stroke-width=\"3.2\"/>\n",
       "<path clip-path=\"url(#clip592)\" d=\"M856.343 1063.78 L852.583 1074.59 L841.127 1074.83 L850.263 1081.76 L846.935 1092.72 L856.343 1086.18 L865.751 1092.72 L862.423 1081.76 L871.559 1074.83 L860.103 1074.59 L856.343 1063.78 Z\" fill=\"#009af9\" fill-rule=\"evenodd\" fill-opacity=\"1\" stroke=\"#000000\" stroke-opacity=\"1\" stroke-width=\"3.2\"/>\n",
       "<path clip-path=\"url(#clip592)\" d=\"M871.299 1063.75 L867.539 1074.57 L856.083 1074.81 L865.219 1081.74 L861.891 1092.7 L871.299 1086.15 L880.707 1092.7 L877.379 1081.74 L886.515 1074.81 L875.059 1074.57 L871.299 1063.75 Z\" fill=\"#009af9\" fill-rule=\"evenodd\" fill-opacity=\"1\" stroke=\"#000000\" stroke-opacity=\"1\" stroke-width=\"3.2\"/>\n",
       "<path clip-path=\"url(#clip592)\" d=\"M886.256 1063.75 L882.496 1074.57 L871.04 1074.81 L880.176 1081.74 L876.848 1092.7 L886.256 1086.15 L895.664 1092.7 L892.336 1081.74 L901.472 1074.81 L890.016 1074.57 L886.256 1063.75 Z\" fill=\"#009af9\" fill-rule=\"evenodd\" fill-opacity=\"1\" stroke=\"#000000\" stroke-opacity=\"1\" stroke-width=\"3.2\"/>\n",
       "<path clip-path=\"url(#clip592)\" d=\"M901.213 757.296 L897.453 768.112 L885.997 768.352 L895.133 775.28 L891.805 786.24 L901.213 779.696 L910.621 786.24 L907.293 775.28 L916.429 768.352 L904.973 768.112 L901.213 757.296 Z\" fill=\"#009af9\" fill-rule=\"evenodd\" fill-opacity=\"1\" stroke=\"#000000\" stroke-opacity=\"1\" stroke-width=\"3.2\"/>\n",
       "<path clip-path=\"url(#clip592)\" d=\"M916.169 757.296 L912.409 768.112 L900.953 768.352 L910.089 775.28 L906.761 786.24 L916.169 779.696 L925.577 786.24 L922.249 775.28 L931.385 768.352 L919.929 768.112 L916.169 757.296 Z\" fill=\"#009af9\" fill-rule=\"evenodd\" fill-opacity=\"1\" stroke=\"#000000\" stroke-opacity=\"1\" stroke-width=\"3.2\"/>\n",
       "<path clip-path=\"url(#clip592)\" d=\"M931.126 757.296 L927.366 768.112 L915.91 768.352 L925.046 775.28 L921.718 786.24 L931.126 779.696 L940.534 786.24 L937.206 775.28 L946.342 768.352 L934.886 768.112 L931.126 757.296 Z\" fill=\"#009af9\" fill-rule=\"evenodd\" fill-opacity=\"1\" stroke=\"#000000\" stroke-opacity=\"1\" stroke-width=\"3.2\"/>\n",
       "<path clip-path=\"url(#clip592)\" d=\"M946.083 757.296 L942.323 768.112 L930.867 768.352 L940.003 775.28 L936.675 786.24 L946.083 779.696 L955.491 786.24 L952.163 775.28 L961.299 768.352 L949.843 768.112 L946.083 757.296 Z\" fill=\"#009af9\" fill-rule=\"evenodd\" fill-opacity=\"1\" stroke=\"#000000\" stroke-opacity=\"1\" stroke-width=\"3.2\"/>\n",
       "<path clip-path=\"url(#clip592)\" d=\"M961.039 757.296 L957.279 768.112 L945.823 768.352 L954.959 775.28 L951.631 786.24 L961.039 779.696 L970.447 786.24 L967.119 775.28 L976.255 768.352 L964.799 768.112 L961.039 757.296 Z\" fill=\"#009af9\" fill-rule=\"evenodd\" fill-opacity=\"1\" stroke=\"#000000\" stroke-opacity=\"1\" stroke-width=\"3.2\"/>\n",
       "<path clip-path=\"url(#clip592)\" d=\"M975.996 757.296 L972.236 768.112 L960.78 768.352 L969.916 775.28 L966.588 786.24 L975.996 779.696 L985.404 786.24 L982.076 775.28 L991.212 768.352 L979.756 768.112 L975.996 757.296 Z\" fill=\"#009af9\" fill-rule=\"evenodd\" fill-opacity=\"1\" stroke=\"#000000\" stroke-opacity=\"1\" stroke-width=\"3.2\"/>\n",
       "<path clip-path=\"url(#clip592)\" d=\"M990.953 757.296 L987.193 768.112 L975.737 768.352 L984.873 775.28 L981.545 786.24 L990.953 779.696 L1000.36 786.24 L997.033 775.28 L1006.17 768.352 L994.713 768.112 L990.953 757.296 Z\" fill=\"#009af9\" fill-rule=\"evenodd\" fill-opacity=\"1\" stroke=\"#000000\" stroke-opacity=\"1\" stroke-width=\"3.2\"/>\n",
       "<path clip-path=\"url(#clip592)\" d=\"M1005.91 757.296 L1002.15 768.112 L990.693 768.352 L999.829 775.28 L996.501 786.24 L1005.91 779.696 L1015.32 786.24 L1011.99 775.28 L1021.13 768.352 L1009.67 768.112 L1005.91 757.296 Z\" fill=\"#009af9\" fill-rule=\"evenodd\" fill-opacity=\"1\" stroke=\"#000000\" stroke-opacity=\"1\" stroke-width=\"3.2\"/>\n",
       "<path clip-path=\"url(#clip592)\" d=\"M1020.87 757.296 L1017.11 768.112 L1005.65 768.352 L1014.79 775.28 L1011.46 786.24 L1020.87 779.696 L1030.27 786.24 L1026.95 775.28 L1036.08 768.352 L1024.63 768.112 L1020.87 757.296 Z\" fill=\"#009af9\" fill-rule=\"evenodd\" fill-opacity=\"1\" stroke=\"#000000\" stroke-opacity=\"1\" stroke-width=\"3.2\"/>\n",
       "<path clip-path=\"url(#clip592)\" d=\"M1035.82 757.296 L1032.06 768.112 L1020.61 768.352 L1029.74 775.28 L1026.41 786.24 L1035.82 779.696 L1045.23 786.24 L1041.9 775.28 L1051.04 768.352 L1039.58 768.112 L1035.82 757.296 Z\" fill=\"#009af9\" fill-rule=\"evenodd\" fill-opacity=\"1\" stroke=\"#000000\" stroke-opacity=\"1\" stroke-width=\"3.2\"/>\n",
       "<path clip-path=\"url(#clip592)\" d=\"M1050.78 757.296 L1047.02 768.112 L1035.56 768.352 L1044.7 775.28 L1041.37 786.24 L1050.78 779.696 L1060.19 786.24 L1056.86 775.28 L1066 768.352 L1054.54 768.112 L1050.78 757.296 Z\" fill=\"#009af9\" fill-rule=\"evenodd\" fill-opacity=\"1\" stroke=\"#000000\" stroke-opacity=\"1\" stroke-width=\"3.2\"/>\n",
       "<path clip-path=\"url(#clip592)\" d=\"M1065.74 757.296 L1061.98 768.112 L1050.52 768.352 L1059.66 775.28 L1056.33 786.24 L1065.74 779.696 L1075.14 786.24 L1071.82 775.28 L1080.95 768.352 L1069.5 768.112 L1065.74 757.296 Z\" fill=\"#009af9\" fill-rule=\"evenodd\" fill-opacity=\"1\" stroke=\"#000000\" stroke-opacity=\"1\" stroke-width=\"3.2\"/>\n",
       "<path clip-path=\"url(#clip592)\" d=\"M1080.69 757.296 L1076.93 768.112 L1065.48 768.352 L1074.61 775.28 L1071.28 786.24 L1080.69 779.696 L1090.1 786.24 L1086.77 775.28 L1095.91 768.352 L1084.45 768.112 L1080.69 757.296 Z\" fill=\"#009af9\" fill-rule=\"evenodd\" fill-opacity=\"1\" stroke=\"#000000\" stroke-opacity=\"1\" stroke-width=\"3.2\"/>\n",
       "<path clip-path=\"url(#clip592)\" d=\"M1095.65 757.296 L1091.89 768.112 L1080.43 768.352 L1089.57 775.28 L1086.24 786.24 L1095.65 779.696 L1105.06 786.24 L1101.73 775.28 L1110.87 768.352 L1099.41 768.112 L1095.65 757.296 Z\" fill=\"#009af9\" fill-rule=\"evenodd\" fill-opacity=\"1\" stroke=\"#000000\" stroke-opacity=\"1\" stroke-width=\"3.2\"/>\n",
       "<path clip-path=\"url(#clip592)\" d=\"M1110.61 757.296 L1106.85 768.112 L1095.39 768.352 L1104.53 775.28 L1101.2 786.24 L1110.61 779.696 L1120.01 786.24 L1116.69 775.28 L1125.82 768.352 L1114.37 768.112 L1110.61 757.296 Z\" fill=\"#009af9\" fill-rule=\"evenodd\" fill-opacity=\"1\" stroke=\"#000000\" stroke-opacity=\"1\" stroke-width=\"3.2\"/>\n",
       "<path clip-path=\"url(#clip592)\" d=\"M1125.56 757.296 L1121.8 768.112 L1110.35 768.352 L1119.48 775.28 L1116.15 786.24 L1125.56 779.696 L1134.97 786.24 L1131.64 775.28 L1140.78 768.352 L1129.32 768.112 L1125.56 757.296 Z\" fill=\"#009af9\" fill-rule=\"evenodd\" fill-opacity=\"1\" stroke=\"#000000\" stroke-opacity=\"1\" stroke-width=\"3.2\"/>\n",
       "<path clip-path=\"url(#clip592)\" d=\"M1140.52 757.296 L1136.76 768.112 L1125.3 768.352 L1134.44 775.28 L1131.11 786.24 L1140.52 779.696 L1149.93 786.24 L1146.6 775.28 L1155.74 768.352 L1144.28 768.112 L1140.52 757.296 Z\" fill=\"#009af9\" fill-rule=\"evenodd\" fill-opacity=\"1\" stroke=\"#000000\" stroke-opacity=\"1\" stroke-width=\"3.2\"/>\n",
       "<path clip-path=\"url(#clip592)\" d=\"M1155.48 757.296 L1151.72 768.112 L1140.26 768.352 L1149.4 775.28 L1146.07 786.24 L1155.48 779.696 L1164.88 786.24 L1161.56 775.28 L1170.69 768.352 L1159.24 768.112 L1155.48 757.296 Z\" fill=\"#009af9\" fill-rule=\"evenodd\" fill-opacity=\"1\" stroke=\"#000000\" stroke-opacity=\"1\" stroke-width=\"3.2\"/>\n",
       "<path clip-path=\"url(#clip592)\" d=\"M1170.43 757.296 L1166.67 768.112 L1155.22 768.352 L1164.35 775.28 L1161.02 786.24 L1170.43 779.696 L1179.84 786.24 L1176.51 775.28 L1185.65 768.352 L1174.19 768.112 L1170.43 757.296 Z\" fill=\"#009af9\" fill-rule=\"evenodd\" fill-opacity=\"1\" stroke=\"#000000\" stroke-opacity=\"1\" stroke-width=\"3.2\"/>\n",
       "<path clip-path=\"url(#clip592)\" d=\"M1185.39 757.296 L1181.63 768.112 L1170.17 768.352 L1179.31 775.28 L1175.98 786.24 L1185.39 779.696 L1194.8 786.24 L1191.47 775.28 L1200.61 768.352 L1189.15 768.112 L1185.39 757.296 Z\" fill=\"#009af9\" fill-rule=\"evenodd\" fill-opacity=\"1\" stroke=\"#000000\" stroke-opacity=\"1\" stroke-width=\"3.2\"/>\n",
       "<path clip-path=\"url(#clip592)\" d=\"M1200.35 757.296 L1196.59 768.112 L1185.13 768.352 L1194.27 775.28 L1190.94 786.24 L1200.35 779.696 L1209.75 786.24 L1206.43 775.28 L1215.56 768.352 L1204.11 768.112 L1200.35 757.296 Z\" fill=\"#009af9\" fill-rule=\"evenodd\" fill-opacity=\"1\" stroke=\"#000000\" stroke-opacity=\"1\" stroke-width=\"3.2\"/>\n",
       "<path clip-path=\"url(#clip592)\" d=\"M1215.3 757.296 L1211.54 768.112 L1200.09 768.352 L1209.22 775.28 L1205.89 786.24 L1215.3 779.696 L1224.71 786.24 L1221.38 775.28 L1230.52 768.352 L1219.06 768.112 L1215.3 757.296 Z\" fill=\"#009af9\" fill-rule=\"evenodd\" fill-opacity=\"1\" stroke=\"#000000\" stroke-opacity=\"1\" stroke-width=\"3.2\"/>\n",
       "<path clip-path=\"url(#clip592)\" d=\"M1230.26 757.296 L1226.5 768.112 L1215.04 768.352 L1224.18 775.28 L1220.85 786.24 L1230.26 779.696 L1239.67 786.24 L1236.34 775.28 L1245.48 768.352 L1234.02 768.112 L1230.26 757.296 Z\" fill=\"#009af9\" fill-rule=\"evenodd\" fill-opacity=\"1\" stroke=\"#000000\" stroke-opacity=\"1\" stroke-width=\"3.2\"/>\n",
       "<path clip-path=\"url(#clip592)\" d=\"M1245.22 757.296 L1241.46 768.112 L1230 768.352 L1239.14 775.28 L1235.81 786.24 L1245.22 779.696 L1254.62 786.24 L1251.3 775.28 L1260.43 768.352 L1248.98 768.112 L1245.22 757.296 Z\" fill=\"#009af9\" fill-rule=\"evenodd\" fill-opacity=\"1\" stroke=\"#000000\" stroke-opacity=\"1\" stroke-width=\"3.2\"/>\n",
       "<path clip-path=\"url(#clip592)\" d=\"M1260.17 757.296 L1256.41 768.112 L1244.96 768.352 L1254.09 775.28 L1250.76 786.24 L1260.17 779.696 L1269.58 786.24 L1266.25 775.28 L1275.39 768.352 L1263.93 768.112 L1260.17 757.296 Z\" fill=\"#009af9\" fill-rule=\"evenodd\" fill-opacity=\"1\" stroke=\"#000000\" stroke-opacity=\"1\" stroke-width=\"3.2\"/>\n",
       "<path clip-path=\"url(#clip592)\" d=\"M1275.13 757.296 L1271.37 768.112 L1259.91 768.352 L1269.05 775.28 L1265.72 786.24 L1275.13 779.696 L1284.54 786.24 L1281.21 775.28 L1290.35 768.352 L1278.89 768.112 L1275.13 757.296 Z\" fill=\"#009af9\" fill-rule=\"evenodd\" fill-opacity=\"1\" stroke=\"#000000\" stroke-opacity=\"1\" stroke-width=\"3.2\"/>\n",
       "<path clip-path=\"url(#clip592)\" d=\"M1290.09 757.296 L1286.33 768.112 L1274.87 768.352 L1284.01 775.28 L1280.68 786.24 L1290.09 779.696 L1299.49 786.24 L1296.17 775.28 L1305.3 768.352 L1293.85 768.112 L1290.09 757.296 Z\" fill=\"#009af9\" fill-rule=\"evenodd\" fill-opacity=\"1\" stroke=\"#000000\" stroke-opacity=\"1\" stroke-width=\"3.2\"/>\n",
       "<path clip-path=\"url(#clip592)\" d=\"M1305.04 757.296 L1301.28 768.112 L1289.83 768.352 L1298.96 775.28 L1295.63 786.24 L1305.04 779.696 L1314.45 786.24 L1311.12 775.28 L1320.26 768.352 L1308.8 768.112 L1305.04 757.296 Z\" fill=\"#009af9\" fill-rule=\"evenodd\" fill-opacity=\"1\" stroke=\"#000000\" stroke-opacity=\"1\" stroke-width=\"3.2\"/>\n",
       "<path clip-path=\"url(#clip592)\" d=\"M1320 757.296 L1316.24 768.112 L1304.78 768.352 L1313.92 775.28 L1310.59 786.24 L1320 779.696 L1329.41 786.24 L1326.08 775.28 L1335.22 768.352 L1323.76 768.112 L1320 757.296 Z\" fill=\"#009af9\" fill-rule=\"evenodd\" fill-opacity=\"1\" stroke=\"#000000\" stroke-opacity=\"1\" stroke-width=\"3.2\"/>\n",
       "<path clip-path=\"url(#clip592)\" d=\"M1334.96 757.296 L1331.2 768.112 L1319.74 768.352 L1328.88 775.28 L1325.55 786.24 L1334.96 779.696 L1344.36 786.24 L1341.04 775.28 L1350.17 768.352 L1338.72 768.112 L1334.96 757.296 Z\" fill=\"#009af9\" fill-rule=\"evenodd\" fill-opacity=\"1\" stroke=\"#000000\" stroke-opacity=\"1\" stroke-width=\"3.2\"/>\n",
       "<path clip-path=\"url(#clip592)\" d=\"M1349.91 757.296 L1346.15 768.112 L1334.7 768.352 L1343.83 775.28 L1340.5 786.24 L1349.91 779.696 L1359.32 786.24 L1355.99 775.28 L1365.13 768.352 L1353.67 768.112 L1349.91 757.296 Z\" fill=\"#009af9\" fill-rule=\"evenodd\" fill-opacity=\"1\" stroke=\"#000000\" stroke-opacity=\"1\" stroke-width=\"3.2\"/>\n",
       "<path clip-path=\"url(#clip592)\" d=\"M1364.87 757.296 L1361.11 768.112 L1349.65 768.352 L1358.79 775.28 L1355.46 786.24 L1364.87 779.696 L1374.28 786.24 L1370.95 775.28 L1380.08 768.352 L1368.63 768.112 L1364.87 757.296 Z\" fill=\"#009af9\" fill-rule=\"evenodd\" fill-opacity=\"1\" stroke=\"#000000\" stroke-opacity=\"1\" stroke-width=\"3.2\"/>\n",
       "<path clip-path=\"url(#clip592)\" d=\"M1379.83 757.296 L1376.07 768.112 L1364.61 768.352 L1373.75 775.28 L1370.42 786.24 L1379.83 779.696 L1389.23 786.24 L1385.91 775.28 L1395.04 768.352 L1383.59 768.112 L1379.83 757.296 Z\" fill=\"#009af9\" fill-rule=\"evenodd\" fill-opacity=\"1\" stroke=\"#000000\" stroke-opacity=\"1\" stroke-width=\"3.2\"/>\n",
       "<path clip-path=\"url(#clip592)\" d=\"M1394.78 757.296 L1391.02 768.112 L1379.57 768.352 L1388.7 775.28 L1385.37 786.24 L1394.78 779.696 L1404.19 786.24 L1400.86 775.28 L1410 768.352 L1398.54 768.112 L1394.78 757.296 Z\" fill=\"#009af9\" fill-rule=\"evenodd\" fill-opacity=\"1\" stroke=\"#000000\" stroke-opacity=\"1\" stroke-width=\"3.2\"/>\n",
       "<path clip-path=\"url(#clip592)\" d=\"M1409.74 757.296 L1405.98 768.112 L1394.52 768.352 L1403.66 775.28 L1400.33 786.24 L1409.74 779.696 L1419.15 786.24 L1415.82 775.28 L1424.95 768.352 L1413.5 768.112 L1409.74 757.296 Z\" fill=\"#009af9\" fill-rule=\"evenodd\" fill-opacity=\"1\" stroke=\"#000000\" stroke-opacity=\"1\" stroke-width=\"3.2\"/>\n",
       "<path clip-path=\"url(#clip592)\" d=\"M1424.7 757.296 L1420.94 768.112 L1409.48 768.352 L1418.62 775.28 L1415.29 786.24 L1424.7 779.696 L1434.1 786.24 L1430.78 775.28 L1439.91 768.352 L1428.46 768.112 L1424.7 757.296 Z\" fill=\"#009af9\" fill-rule=\"evenodd\" fill-opacity=\"1\" stroke=\"#000000\" stroke-opacity=\"1\" stroke-width=\"3.2\"/>\n",
       "<path clip-path=\"url(#clip592)\" d=\"M1439.65 757.296 L1435.89 768.112 L1424.44 768.352 L1433.57 775.28 L1430.24 786.24 L1439.65 779.696 L1449.06 786.24 L1445.73 775.28 L1454.87 768.352 L1443.41 768.112 L1439.65 757.296 Z\" fill=\"#009af9\" fill-rule=\"evenodd\" fill-opacity=\"1\" stroke=\"#000000\" stroke-opacity=\"1\" stroke-width=\"3.2\"/>\n",
       "<path clip-path=\"url(#clip592)\" d=\"M1454.61 757.296 L1450.85 768.112 L1439.39 768.352 L1448.53 775.28 L1445.2 786.24 L1454.61 779.696 L1464.02 786.24 L1460.69 775.28 L1469.82 768.352 L1458.37 768.112 L1454.61 757.296 Z\" fill=\"#009af9\" fill-rule=\"evenodd\" fill-opacity=\"1\" stroke=\"#000000\" stroke-opacity=\"1\" stroke-width=\"3.2\"/>\n",
       "<path clip-path=\"url(#clip592)\" d=\"M1469.57 757.268 L1465.81 768.084 L1454.35 768.324 L1463.49 775.252 L1460.16 786.212 L1469.57 779.668 L1478.97 786.212 L1475.65 775.252 L1484.78 768.324 L1473.33 768.084 L1469.57 757.268 Z\" fill=\"#009af9\" fill-rule=\"evenodd\" fill-opacity=\"1\" stroke=\"#000000\" stroke-opacity=\"1\" stroke-width=\"3.2\"/>\n",
       "<path clip-path=\"url(#clip592)\" d=\"M1484.52 757.268 L1480.76 768.084 L1469.31 768.324 L1478.44 775.252 L1475.11 786.212 L1484.52 779.668 L1493.93 786.212 L1490.6 775.252 L1499.74 768.324 L1488.28 768.084 L1484.52 757.268 Z\" fill=\"#009af9\" fill-rule=\"evenodd\" fill-opacity=\"1\" stroke=\"#000000\" stroke-opacity=\"1\" stroke-width=\"3.2\"/>\n",
       "<path clip-path=\"url(#clip592)\" d=\"M1499.48 757.268 L1495.72 768.084 L1484.26 768.324 L1493.4 775.252 L1490.07 786.212 L1499.48 779.668 L1508.89 786.212 L1505.56 775.252 L1514.69 768.324 L1503.24 768.084 L1499.48 757.268 Z\" fill=\"#009af9\" fill-rule=\"evenodd\" fill-opacity=\"1\" stroke=\"#000000\" stroke-opacity=\"1\" stroke-width=\"3.2\"/>\n",
       "<path clip-path=\"url(#clip592)\" d=\"M1514.44 757.268 L1510.68 768.084 L1499.22 768.324 L1508.36 775.252 L1505.03 786.212 L1514.44 779.668 L1523.84 786.212 L1520.52 775.252 L1529.65 768.324 L1518.2 768.084 L1514.44 757.268 Z\" fill=\"#009af9\" fill-rule=\"evenodd\" fill-opacity=\"1\" stroke=\"#000000\" stroke-opacity=\"1\" stroke-width=\"3.2\"/>\n",
       "<path clip-path=\"url(#clip592)\" d=\"M1529.39 757.255 L1525.63 768.071 L1514.18 768.311 L1523.31 775.239 L1519.98 786.199 L1529.39 779.655 L1538.8 786.199 L1535.47 775.239 L1544.61 768.311 L1533.15 768.071 L1529.39 757.255 Z\" fill=\"#009af9\" fill-rule=\"evenodd\" fill-opacity=\"1\" stroke=\"#000000\" stroke-opacity=\"1\" stroke-width=\"3.2\"/>\n",
       "<path clip-path=\"url(#clip592)\" d=\"M1544.35 757.255 L1540.59 768.071 L1529.13 768.311 L1538.27 775.239 L1534.94 786.199 L1544.35 779.655 L1553.76 786.199 L1550.43 775.239 L1559.56 768.311 L1548.11 768.071 L1544.35 757.255 Z\" fill=\"#009af9\" fill-rule=\"evenodd\" fill-opacity=\"1\" stroke=\"#000000\" stroke-opacity=\"1\" stroke-width=\"3.2\"/>\n",
       "<path clip-path=\"url(#clip592)\" d=\"M1559.31 757.254 L1555.55 768.07 L1544.09 768.31 L1553.23 775.238 L1549.9 786.198 L1559.31 779.654 L1568.71 786.198 L1565.39 775.238 L1574.52 768.31 L1563.07 768.07 L1559.31 757.254 Z\" fill=\"#009af9\" fill-rule=\"evenodd\" fill-opacity=\"1\" stroke=\"#000000\" stroke-opacity=\"1\" stroke-width=\"3.2\"/>\n",
       "<path clip-path=\"url(#clip592)\" d=\"M1574.26 757.254 L1570.5 768.07 L1559.05 768.31 L1568.18 775.238 L1564.85 786.198 L1574.26 779.654 L1583.67 786.198 L1580.34 775.238 L1589.48 768.31 L1578.02 768.07 L1574.26 757.254 Z\" fill=\"#009af9\" fill-rule=\"evenodd\" fill-opacity=\"1\" stroke=\"#000000\" stroke-opacity=\"1\" stroke-width=\"3.2\"/>\n",
       "<path clip-path=\"url(#clip592)\" d=\"M1589.22 757.241 L1585.46 768.057 L1574 768.297 L1583.14 775.225 L1579.81 786.185 L1589.22 779.641 L1598.63 786.185 L1595.3 775.225 L1604.43 768.297 L1592.98 768.057 L1589.22 757.241 Z\" fill=\"#009af9\" fill-rule=\"evenodd\" fill-opacity=\"1\" stroke=\"#000000\" stroke-opacity=\"1\" stroke-width=\"3.2\"/>\n",
       "<path clip-path=\"url(#clip592)\" d=\"M1604.18 757.241 L1600.42 768.057 L1588.96 768.297 L1598.1 775.225 L1594.77 786.185 L1604.18 779.641 L1613.58 786.185 L1610.26 775.225 L1619.39 768.297 L1607.94 768.057 L1604.18 757.241 Z\" fill=\"#009af9\" fill-rule=\"evenodd\" fill-opacity=\"1\" stroke=\"#000000\" stroke-opacity=\"1\" stroke-width=\"3.2\"/>\n",
       "<path clip-path=\"url(#clip592)\" d=\"M1619.13 757.241 L1615.37 768.057 L1603.92 768.297 L1613.05 775.225 L1609.72 786.185 L1619.13 779.641 L1628.54 786.185 L1625.21 775.225 L1634.35 768.297 L1622.89 768.057 L1619.13 757.241 Z\" fill=\"#009af9\" fill-rule=\"evenodd\" fill-opacity=\"1\" stroke=\"#000000\" stroke-opacity=\"1\" stroke-width=\"3.2\"/>\n",
       "<path clip-path=\"url(#clip592)\" d=\"M1634.09 757.241 L1630.33 768.057 L1618.87 768.297 L1628.01 775.225 L1624.68 786.185 L1634.09 779.641 L1643.5 786.185 L1640.17 775.225 L1649.3 768.297 L1637.85 768.057 L1634.09 757.241 Z\" fill=\"#009af9\" fill-rule=\"evenodd\" fill-opacity=\"1\" stroke=\"#000000\" stroke-opacity=\"1\" stroke-width=\"3.2\"/>\n",
       "<path clip-path=\"url(#clip592)\" d=\"M1649.05 757.215 L1645.29 768.031 L1633.83 768.271 L1642.97 775.199 L1639.64 786.159 L1649.05 779.615 L1658.45 786.159 L1655.13 775.199 L1664.26 768.271 L1652.81 768.031 L1649.05 757.215 Z\" fill=\"#009af9\" fill-rule=\"evenodd\" fill-opacity=\"1\" stroke=\"#000000\" stroke-opacity=\"1\" stroke-width=\"3.2\"/>\n",
       "<path clip-path=\"url(#clip592)\" d=\"M1664 757.215 L1660.24 768.031 L1648.79 768.271 L1657.92 775.199 L1654.59 786.159 L1664 779.615 L1673.41 786.159 L1670.08 775.199 L1679.22 768.271 L1667.76 768.031 L1664 757.215 Z\" fill=\"#009af9\" fill-rule=\"evenodd\" fill-opacity=\"1\" stroke=\"#000000\" stroke-opacity=\"1\" stroke-width=\"3.2\"/>\n",
       "<path clip-path=\"url(#clip592)\" d=\"M1678.96 450.786 L1675.2 461.602 L1663.74 461.842 L1672.88 468.77 L1669.55 479.73 L1678.96 473.186 L1688.37 479.73 L1685.04 468.77 L1694.17 461.842 L1682.72 461.602 L1678.96 450.786 Z\" fill=\"#009af9\" fill-rule=\"evenodd\" fill-opacity=\"1\" stroke=\"#000000\" stroke-opacity=\"1\" stroke-width=\"3.2\"/>\n",
       "<path clip-path=\"url(#clip592)\" d=\"M1693.92 450.786 L1690.16 461.602 L1678.7 461.842 L1687.84 468.77 L1684.51 479.73 L1693.92 473.186 L1703.32 479.73 L1700 468.77 L1709.13 461.842 L1697.68 461.602 L1693.92 450.786 Z\" fill=\"#009af9\" fill-rule=\"evenodd\" fill-opacity=\"1\" stroke=\"#000000\" stroke-opacity=\"1\" stroke-width=\"3.2\"/>\n",
       "<path clip-path=\"url(#clip592)\" d=\"M1708.87 450.786 L1705.11 461.602 L1693.66 461.842 L1702.79 468.77 L1699.46 479.73 L1708.87 473.186 L1718.28 479.73 L1714.95 468.77 L1724.09 461.842 L1712.63 461.602 L1708.87 450.786 Z\" fill=\"#009af9\" fill-rule=\"evenodd\" fill-opacity=\"1\" stroke=\"#000000\" stroke-opacity=\"1\" stroke-width=\"3.2\"/>\n",
       "<path clip-path=\"url(#clip592)\" d=\"M1723.83 450.786 L1720.07 461.602 L1708.61 461.842 L1717.75 468.77 L1714.42 479.73 L1723.83 473.186 L1733.24 479.73 L1729.91 468.77 L1739.04 461.842 L1727.59 461.602 L1723.83 450.786 Z\" fill=\"#009af9\" fill-rule=\"evenodd\" fill-opacity=\"1\" stroke=\"#000000\" stroke-opacity=\"1\" stroke-width=\"3.2\"/>\n",
       "<path clip-path=\"url(#clip592)\" d=\"M1738.79 450.786 L1735.03 461.602 L1723.57 461.842 L1732.71 468.77 L1729.38 479.73 L1738.79 473.186 L1748.19 479.73 L1744.87 468.77 L1754 461.842 L1742.55 461.602 L1738.79 450.786 Z\" fill=\"#009af9\" fill-rule=\"evenodd\" fill-opacity=\"1\" stroke=\"#000000\" stroke-opacity=\"1\" stroke-width=\"3.2\"/>\n",
       "<path clip-path=\"url(#clip592)\" d=\"M1753.74 450.786 L1749.98 461.602 L1738.53 461.842 L1747.66 468.77 L1744.33 479.73 L1753.74 473.186 L1763.15 479.73 L1759.82 468.77 L1768.96 461.842 L1757.5 461.602 L1753.74 450.786 Z\" fill=\"#009af9\" fill-rule=\"evenodd\" fill-opacity=\"1\" stroke=\"#000000\" stroke-opacity=\"1\" stroke-width=\"3.2\"/>\n",
       "<path clip-path=\"url(#clip592)\" d=\"M1768.7 450.786 L1764.94 461.602 L1753.48 461.842 L1762.62 468.77 L1759.29 479.73 L1768.7 473.186 L1778.11 479.73 L1774.78 468.77 L1783.91 461.842 L1772.46 461.602 L1768.7 450.786 Z\" fill=\"#009af9\" fill-rule=\"evenodd\" fill-opacity=\"1\" stroke=\"#000000\" stroke-opacity=\"1\" stroke-width=\"3.2\"/>\n",
       "<path clip-path=\"url(#clip592)\" d=\"M1783.66 450.786 L1779.9 461.602 L1768.44 461.842 L1777.58 468.77 L1774.25 479.73 L1783.66 473.186 L1793.06 479.73 L1789.74 468.77 L1798.87 461.842 L1787.42 461.602 L1783.66 450.786 Z\" fill=\"#009af9\" fill-rule=\"evenodd\" fill-opacity=\"1\" stroke=\"#000000\" stroke-opacity=\"1\" stroke-width=\"3.2\"/>\n",
       "<path clip-path=\"url(#clip592)\" d=\"M1798.61 450.786 L1794.85 461.602 L1783.4 461.842 L1792.53 468.77 L1789.2 479.73 L1798.61 473.186 L1808.02 479.73 L1804.69 468.77 L1813.83 461.842 L1802.37 461.602 L1798.61 450.786 Z\" fill=\"#009af9\" fill-rule=\"evenodd\" fill-opacity=\"1\" stroke=\"#000000\" stroke-opacity=\"1\" stroke-width=\"3.2\"/>\n",
       "<path clip-path=\"url(#clip592)\" d=\"M1813.57 450.786 L1809.81 461.602 L1798.35 461.842 L1807.49 468.77 L1804.16 479.73 L1813.57 473.186 L1822.98 479.73 L1819.65 468.77 L1828.78 461.842 L1817.33 461.602 L1813.57 450.786 Z\" fill=\"#009af9\" fill-rule=\"evenodd\" fill-opacity=\"1\" stroke=\"#000000\" stroke-opacity=\"1\" stroke-width=\"3.2\"/>\n",
       "<path clip-path=\"url(#clip592)\" d=\"M1828.53 450.786 L1824.77 461.602 L1813.31 461.842 L1822.45 468.77 L1819.12 479.73 L1828.53 473.186 L1837.93 479.73 L1834.61 468.77 L1843.74 461.842 L1832.29 461.602 L1828.53 450.786 Z\" fill=\"#009af9\" fill-rule=\"evenodd\" fill-opacity=\"1\" stroke=\"#000000\" stroke-opacity=\"1\" stroke-width=\"3.2\"/>\n",
       "<path clip-path=\"url(#clip592)\" d=\"M1843.48 450.786 L1839.72 461.602 L1828.27 461.842 L1837.4 468.77 L1834.07 479.73 L1843.48 473.186 L1852.89 479.73 L1849.56 468.77 L1858.7 461.842 L1847.24 461.602 L1843.48 450.786 Z\" fill=\"#009af9\" fill-rule=\"evenodd\" fill-opacity=\"1\" stroke=\"#000000\" stroke-opacity=\"1\" stroke-width=\"3.2\"/>\n",
       "<path clip-path=\"url(#clip592)\" d=\"M1858.44 450.786 L1854.68 461.602 L1843.22 461.842 L1852.36 468.77 L1849.03 479.73 L1858.44 473.186 L1867.85 479.73 L1864.52 468.77 L1873.65 461.842 L1862.2 461.602 L1858.44 450.786 Z\" fill=\"#009af9\" fill-rule=\"evenodd\" fill-opacity=\"1\" stroke=\"#000000\" stroke-opacity=\"1\" stroke-width=\"3.2\"/>\n",
       "<path clip-path=\"url(#clip592)\" d=\"M1873.4 450.786 L1869.64 461.602 L1858.18 461.842 L1867.32 468.77 L1863.99 479.73 L1873.4 473.186 L1882.8 479.73 L1879.48 468.77 L1888.61 461.842 L1877.16 461.602 L1873.4 450.786 Z\" fill=\"#009af9\" fill-rule=\"evenodd\" fill-opacity=\"1\" stroke=\"#000000\" stroke-opacity=\"1\" stroke-width=\"3.2\"/>\n",
       "<path clip-path=\"url(#clip592)\" d=\"M1888.35 450.786 L1884.59 461.602 L1873.14 461.842 L1882.27 468.77 L1878.94 479.73 L1888.35 473.186 L1897.76 479.73 L1894.43 468.77 L1903.57 461.842 L1892.11 461.602 L1888.35 450.786 Z\" fill=\"#009af9\" fill-rule=\"evenodd\" fill-opacity=\"1\" stroke=\"#000000\" stroke-opacity=\"1\" stroke-width=\"3.2\"/>\n",
       "<path clip-path=\"url(#clip592)\" d=\"M1903.31 450.786 L1899.55 461.602 L1888.09 461.842 L1897.23 468.77 L1893.9 479.73 L1903.31 473.186 L1912.72 479.73 L1909.39 468.77 L1918.52 461.842 L1907.07 461.602 L1903.31 450.786 Z\" fill=\"#009af9\" fill-rule=\"evenodd\" fill-opacity=\"1\" stroke=\"#000000\" stroke-opacity=\"1\" stroke-width=\"3.2\"/>\n",
       "<path clip-path=\"url(#clip592)\" d=\"M1918.27 450.772 L1914.51 461.588 L1903.05 461.828 L1912.19 468.756 L1908.86 479.716 L1918.27 473.172 L1927.67 479.716 L1924.35 468.756 L1933.48 461.828 L1922.03 461.588 L1918.27 450.772 Z\" fill=\"#009af9\" fill-rule=\"evenodd\" fill-opacity=\"1\" stroke=\"#000000\" stroke-opacity=\"1\" stroke-width=\"3.2\"/>\n",
       "<path clip-path=\"url(#clip592)\" d=\"M1933.22 450.772 L1929.46 461.588 L1918.01 461.828 L1927.14 468.756 L1923.81 479.716 L1933.22 473.172 L1942.63 479.716 L1939.3 468.756 L1948.44 461.828 L1936.98 461.588 L1933.22 450.772 Z\" fill=\"#009af9\" fill-rule=\"evenodd\" fill-opacity=\"1\" stroke=\"#000000\" stroke-opacity=\"1\" stroke-width=\"3.2\"/>\n",
       "<path clip-path=\"url(#clip592)\" d=\"M1948.18 450.772 L1944.42 461.588 L1932.96 461.828 L1942.1 468.756 L1938.77 479.716 L1948.18 473.172 L1957.59 479.716 L1954.26 468.756 L1963.39 461.828 L1951.94 461.588 L1948.18 450.772 Z\" fill=\"#009af9\" fill-rule=\"evenodd\" fill-opacity=\"1\" stroke=\"#000000\" stroke-opacity=\"1\" stroke-width=\"3.2\"/>\n",
       "<path clip-path=\"url(#clip592)\" d=\"M1963.14 450.772 L1959.38 461.588 L1947.92 461.828 L1957.06 468.756 L1953.73 479.716 L1963.14 473.172 L1972.54 479.716 L1969.22 468.756 L1978.35 461.828 L1966.9 461.588 L1963.14 450.772 Z\" fill=\"#009af9\" fill-rule=\"evenodd\" fill-opacity=\"1\" stroke=\"#000000\" stroke-opacity=\"1\" stroke-width=\"3.2\"/>\n",
       "<path clip-path=\"url(#clip592)\" d=\"M1978.09 450.759 L1974.33 461.575 L1962.88 461.815 L1972.01 468.743 L1968.68 479.703 L1978.09 473.159 L1987.5 479.703 L1984.17 468.743 L1993.31 461.815 L1981.85 461.575 L1978.09 450.759 Z\" fill=\"#009af9\" fill-rule=\"evenodd\" fill-opacity=\"1\" stroke=\"#000000\" stroke-opacity=\"1\" stroke-width=\"3.2\"/>\n",
       "<path clip-path=\"url(#clip592)\" d=\"M1993.05 450.759 L1989.29 461.575 L1977.83 461.815 L1986.97 468.743 L1983.64 479.703 L1993.05 473.159 L2002.46 479.703 L1999.13 468.743 L2008.26 461.815 L1996.81 461.575 L1993.05 450.759 Z\" fill=\"#009af9\" fill-rule=\"evenodd\" fill-opacity=\"1\" stroke=\"#000000\" stroke-opacity=\"1\" stroke-width=\"3.2\"/>\n",
       "<path clip-path=\"url(#clip592)\" d=\"M2008.01 450.759 L2004.25 461.575 L1992.79 461.815 L2001.93 468.743 L1998.6 479.703 L2008.01 473.159 L2017.41 479.703 L2014.09 468.743 L2023.22 461.815 L2011.77 461.575 L2008.01 450.759 Z\" fill=\"#009af9\" fill-rule=\"evenodd\" fill-opacity=\"1\" stroke=\"#000000\" stroke-opacity=\"1\" stroke-width=\"3.2\"/>\n",
       "<path clip-path=\"url(#clip592)\" d=\"M2022.96 450.759 L2019.2 461.575 L2007.75 461.815 L2016.88 468.743 L2013.55 479.703 L2022.96 473.159 L2032.37 479.703 L2029.04 468.743 L2038.18 461.815 L2026.72 461.575 L2022.96 450.759 Z\" fill=\"#009af9\" fill-rule=\"evenodd\" fill-opacity=\"1\" stroke=\"#000000\" stroke-opacity=\"1\" stroke-width=\"3.2\"/>\n",
       "<path clip-path=\"url(#clip592)\" d=\"M2037.92 450.759 L2034.16 461.575 L2022.7 461.815 L2031.84 468.743 L2028.51 479.703 L2037.92 473.159 L2047.33 479.703 L2044 468.743 L2053.13 461.815 L2041.68 461.575 L2037.92 450.759 Z\" fill=\"#009af9\" fill-rule=\"evenodd\" fill-opacity=\"1\" stroke=\"#000000\" stroke-opacity=\"1\" stroke-width=\"3.2\"/>\n",
       "<path clip-path=\"url(#clip592)\" d=\"M2052.88 450.759 L2049.12 461.575 L2037.66 461.815 L2046.8 468.743 L2043.47 479.703 L2052.88 473.159 L2062.28 479.703 L2058.96 468.743 L2068.09 461.815 L2056.64 461.575 L2052.88 450.759 Z\" fill=\"#009af9\" fill-rule=\"evenodd\" fill-opacity=\"1\" stroke=\"#000000\" stroke-opacity=\"1\" stroke-width=\"3.2\"/>\n",
       "<path clip-path=\"url(#clip592)\" d=\"M2067.83 450.759 L2064.07 461.575 L2052.62 461.815 L2061.75 468.743 L2058.42 479.703 L2067.83 473.159 L2077.24 479.703 L2073.91 468.743 L2083.05 461.815 L2071.59 461.575 L2067.83 450.759 Z\" fill=\"#009af9\" fill-rule=\"evenodd\" fill-opacity=\"1\" stroke=\"#000000\" stroke-opacity=\"1\" stroke-width=\"3.2\"/>\n",
       "<path clip-path=\"url(#clip592)\" d=\"M2082.79 450.759 L2079.03 461.575 L2067.57 461.815 L2076.71 468.743 L2073.38 479.703 L2082.79 473.159 L2092.2 479.703 L2088.87 468.743 L2098 461.815 L2086.55 461.575 L2082.79 450.759 Z\" fill=\"#009af9\" fill-rule=\"evenodd\" fill-opacity=\"1\" stroke=\"#000000\" stroke-opacity=\"1\" stroke-width=\"3.2\"/>\n",
       "<path clip-path=\"url(#clip592)\" d=\"M2097.74 450.759 L2093.98 461.575 L2082.53 461.815 L2091.66 468.743 L2088.34 479.703 L2097.74 473.159 L2107.15 479.703 L2103.82 468.743 L2112.96 461.815 L2101.5 461.575 L2097.74 450.759 Z\" fill=\"#009af9\" fill-rule=\"evenodd\" fill-opacity=\"1\" stroke=\"#000000\" stroke-opacity=\"1\" stroke-width=\"3.2\"/>\n",
       "<path clip-path=\"url(#clip592)\" d=\"M2112.7 450.759 L2108.94 461.575 L2097.49 461.815 L2106.62 468.743 L2103.29 479.703 L2112.7 473.159 L2122.11 479.703 L2118.78 468.743 L2127.92 461.815 L2116.46 461.575 L2112.7 450.759 Z\" fill=\"#009af9\" fill-rule=\"evenodd\" fill-opacity=\"1\" stroke=\"#000000\" stroke-opacity=\"1\" stroke-width=\"3.2\"/>\n",
       "<path clip-path=\"url(#clip592)\" d=\"M2127.66 450.732 L2123.9 461.548 L2112.44 461.788 L2121.58 468.716 L2118.25 479.676 L2127.66 473.132 L2137.07 479.676 L2133.74 468.716 L2142.87 461.788 L2131.42 461.548 L2127.66 450.732 Z\" fill=\"#009af9\" fill-rule=\"evenodd\" fill-opacity=\"1\" stroke=\"#000000\" stroke-opacity=\"1\" stroke-width=\"3.2\"/>\n",
       "<path clip-path=\"url(#clip592)\" d=\"M2142.61 450.732 L2138.85 461.548 L2127.4 461.788 L2136.53 468.716 L2133.21 479.676 L2142.61 473.132 L2152.02 479.676 L2148.69 468.716 L2157.83 461.788 L2146.37 461.548 L2142.61 450.732 Z\" fill=\"#009af9\" fill-rule=\"evenodd\" fill-opacity=\"1\" stroke=\"#000000\" stroke-opacity=\"1\" stroke-width=\"3.2\"/>\n",
       "<path clip-path=\"url(#clip592)\" d=\"M2157.57 144.275 L2153.81 155.091 L2142.36 155.331 L2151.49 162.259 L2148.16 173.219 L2157.57 166.675 L2166.98 173.219 L2163.65 162.259 L2172.79 155.331 L2161.33 155.091 L2157.57 144.275 Z\" fill=\"#009af9\" fill-rule=\"evenodd\" fill-opacity=\"1\" stroke=\"#000000\" stroke-opacity=\"1\" stroke-width=\"3.2\"/>\n",
       "<path clip-path=\"url(#clip592)\" d=\"M2172.53 144.275 L2168.77 155.091 L2157.31 155.331 L2166.45 162.259 L2163.12 173.219 L2172.53 166.675 L2181.94 173.219 L2178.61 162.259 L2187.74 155.331 L2176.29 155.091 L2172.53 144.275 Z\" fill=\"#009af9\" fill-rule=\"evenodd\" fill-opacity=\"1\" stroke=\"#000000\" stroke-opacity=\"1\" stroke-width=\"3.2\"/>\n",
       "<path clip-path=\"url(#clip592)\" d=\"M2187.48 144.269 L2183.72 155.085 L2172.27 155.325 L2181.4 162.253 L2178.08 173.213 L2187.48 166.669 L2196.89 173.213 L2193.56 162.253 L2202.7 155.325 L2191.24 155.085 L2187.48 144.269 Z\" fill=\"#009af9\" fill-rule=\"evenodd\" fill-opacity=\"1\" stroke=\"#000000\" stroke-opacity=\"1\" stroke-width=\"3.2\"/>\n",
       "<path clip-path=\"url(#clip592)\" d=\"M2202.44 144.269 L2198.68 155.085 L2187.23 155.325 L2196.36 162.253 L2193.03 173.213 L2202.44 166.669 L2211.85 173.213 L2208.52 162.253 L2217.66 155.325 L2206.2 155.085 L2202.44 144.269 Z\" fill=\"#009af9\" fill-rule=\"evenodd\" fill-opacity=\"1\" stroke=\"#000000\" stroke-opacity=\"1\" stroke-width=\"3.2\"/>\n",
       "<path clip-path=\"url(#clip592)\" d=\"M2217.4 144.262 L2213.64 155.078 L2202.18 155.318 L2211.32 162.246 L2207.99 173.206 L2217.4 166.662 L2226.81 173.206 L2223.48 162.246 L2232.61 155.318 L2221.16 155.078 L2217.4 144.262 Z\" fill=\"#009af9\" fill-rule=\"evenodd\" fill-opacity=\"1\" stroke=\"#000000\" stroke-opacity=\"1\" stroke-width=\"3.2\"/>\n",
       "<path clip-path=\"url(#clip592)\" d=\"M2232.35 144.262 L2228.59 155.078 L2217.14 155.318 L2226.27 162.246 L2222.95 173.206 L2232.35 166.662 L2241.76 173.206 L2238.43 162.246 L2247.57 155.318 L2236.11 155.078 L2232.35 144.262 Z\" fill=\"#009af9\" fill-rule=\"evenodd\" fill-opacity=\"1\" stroke=\"#000000\" stroke-opacity=\"1\" stroke-width=\"3.2\"/>\n",
       "<path clip-path=\"url(#clip592)\" d=\"M2247.31 144.262 L2243.55 155.078 L2232.1 155.318 L2241.23 162.246 L2237.9 173.206 L2247.31 166.662 L2256.72 173.206 L2253.39 162.246 L2262.53 155.318 L2251.07 155.078 L2247.31 144.262 Z\" fill=\"#009af9\" fill-rule=\"evenodd\" fill-opacity=\"1\" stroke=\"#000000\" stroke-opacity=\"1\" stroke-width=\"3.2\"/>\n",
       "<path clip-path=\"url(#clip592)\" d=\"M2262.27 144.262 L2258.51 155.078 L2247.05 155.318 L2256.19 162.246 L2252.86 173.206 L2262.27 166.662 L2271.68 173.206 L2268.35 162.246 L2277.48 155.318 L2266.03 155.078 L2262.27 144.262 Z\" fill=\"#009af9\" fill-rule=\"evenodd\" fill-opacity=\"1\" stroke=\"#000000\" stroke-opacity=\"1\" stroke-width=\"3.2\"/>\n",
       "<path clip-path=\"url(#clip592)\" d=\"M2277.22 144.256 L2273.46 155.072 L2262.01 155.312 L2271.14 162.24 L2267.82 173.2 L2277.22 166.656 L2286.63 173.2 L2283.3 162.24 L2292.44 155.312 L2280.98 155.072 L2277.22 144.256 Z\" fill=\"#009af9\" fill-rule=\"evenodd\" fill-opacity=\"1\" stroke=\"#000000\" stroke-opacity=\"1\" stroke-width=\"3.2\"/>\n",
       "<path clip-path=\"url(#clip592)\" d=\"M2292.18 144.256 L2288.42 155.072 L2276.97 155.312 L2286.1 162.24 L2282.77 173.2 L2292.18 166.656 L2301.59 173.2 L2298.26 162.24 L2307.4 155.312 L2295.94 155.072 L2292.18 144.256 Z\" fill=\"#009af9\" fill-rule=\"evenodd\" fill-opacity=\"1\" stroke=\"#000000\" stroke-opacity=\"1\" stroke-width=\"3.2\"/>\n",
       "<circle clip-path=\"url(#clip592)\" cx=\"273.033\" cy=\"1386.4\" r=\"14.4\" fill=\"#e26f46\" fill-rule=\"evenodd\" fill-opacity=\"1\" stroke=\"#000000\" stroke-opacity=\"1\" stroke-width=\"3.2\"/>\n",
       "<circle clip-path=\"url(#clip592)\" cx=\"287.99\" cy=\"1386.4\" r=\"14.4\" fill=\"#e26f46\" fill-rule=\"evenodd\" fill-opacity=\"1\" stroke=\"#000000\" stroke-opacity=\"1\" stroke-width=\"3.2\"/>\n",
       "<circle clip-path=\"url(#clip592)\" cx=\"302.947\" cy=\"1386.39\" r=\"14.4\" fill=\"#e26f46\" fill-rule=\"evenodd\" fill-opacity=\"1\" stroke=\"#000000\" stroke-opacity=\"1\" stroke-width=\"3.2\"/>\n",
       "<circle clip-path=\"url(#clip592)\" cx=\"317.903\" cy=\"1386.39\" r=\"14.4\" fill=\"#e26f46\" fill-rule=\"evenodd\" fill-opacity=\"1\" stroke=\"#000000\" stroke-opacity=\"1\" stroke-width=\"3.2\"/>\n",
       "<circle clip-path=\"url(#clip592)\" cx=\"332.86\" cy=\"1386.38\" r=\"14.4\" fill=\"#e26f46\" fill-rule=\"evenodd\" fill-opacity=\"1\" stroke=\"#000000\" stroke-opacity=\"1\" stroke-width=\"3.2\"/>\n",
       "<circle clip-path=\"url(#clip592)\" cx=\"347.817\" cy=\"1386.38\" r=\"14.4\" fill=\"#e26f46\" fill-rule=\"evenodd\" fill-opacity=\"1\" stroke=\"#000000\" stroke-opacity=\"1\" stroke-width=\"3.2\"/>\n",
       "<circle clip-path=\"url(#clip592)\" cx=\"362.773\" cy=\"1386.38\" r=\"14.4\" fill=\"#e26f46\" fill-rule=\"evenodd\" fill-opacity=\"1\" stroke=\"#000000\" stroke-opacity=\"1\" stroke-width=\"3.2\"/>\n",
       "<circle clip-path=\"url(#clip592)\" cx=\"377.73\" cy=\"1386.38\" r=\"14.4\" fill=\"#e26f46\" fill-rule=\"evenodd\" fill-opacity=\"1\" stroke=\"#000000\" stroke-opacity=\"1\" stroke-width=\"3.2\"/>\n",
       "<circle clip-path=\"url(#clip592)\" cx=\"392.687\" cy=\"1386.38\" r=\"14.4\" fill=\"#e26f46\" fill-rule=\"evenodd\" fill-opacity=\"1\" stroke=\"#000000\" stroke-opacity=\"1\" stroke-width=\"3.2\"/>\n",
       "<circle clip-path=\"url(#clip592)\" cx=\"407.643\" cy=\"1386.38\" r=\"14.4\" fill=\"#e26f46\" fill-rule=\"evenodd\" fill-opacity=\"1\" stroke=\"#000000\" stroke-opacity=\"1\" stroke-width=\"3.2\"/>\n",
       "<path clip-path=\"url(#clip590)\" d=\"\n",
       "M283.802 322.316 L778.209 322.316 L778.209 166.796 L283.802 166.796  Z\n",
       "  \" fill=\"#ffffff\" fill-rule=\"evenodd\" fill-opacity=\"1\"/>\n",
       "<polyline clip-path=\"url(#clip590)\" style=\"stroke:#000000; stroke-linecap:round; stroke-linejoin:round; stroke-width:4; stroke-opacity:1; fill:none\" points=\"\n",
       "  283.802,322.316 778.209,322.316 778.209,166.796 283.802,166.796 283.802,322.316 \n",
       "  \"/>\n",
       "<path clip-path=\"url(#clip590)\" d=\"M378.926 193.036 L372.91 210.341 L354.581 210.725 L369.198 221.81 L363.874 239.346 L378.926 228.876 L393.979 239.346 L388.654 221.81 L403.272 210.725 L384.942 210.341 L378.926 193.036 Z\" fill=\"#009af9\" fill-rule=\"evenodd\" fill-opacity=\"1\" stroke=\"#000000\" stroke-opacity=\"1\" stroke-width=\"5.12\"/>\n",
       "<path clip-path=\"url(#clip590)\" d=\"M490.44 219.712 Q491.944 220.221 493.356 221.888 Q494.791 223.555 496.227 226.471 L500.972 235.916 L495.949 235.916 L491.528 227.05 Q489.815 223.578 488.194 222.444 Q486.597 221.309 483.819 221.309 L478.727 221.309 L478.727 235.916 L474.051 235.916 L474.051 201.356 L484.606 201.356 Q490.532 201.356 493.449 203.833 Q496.365 206.309 496.365 211.309 Q496.365 214.573 494.838 216.726 Q493.333 218.879 490.44 219.712 M478.727 205.198 L478.727 217.467 L484.606 217.467 Q487.986 217.467 489.699 215.916 Q491.435 214.342 491.435 211.309 Q491.435 208.277 489.699 206.749 Q487.986 205.198 484.606 205.198 L478.727 205.198 Z\" fill=\"#000000\" fill-rule=\"evenodd\" fill-opacity=\"1\" /><path clip-path=\"url(#clip590)\" d=\"M526.851 221.888 L526.851 223.971 L507.268 223.971 Q507.546 228.369 509.907 230.684 Q512.291 232.976 516.527 232.976 Q518.981 232.976 521.273 232.374 Q523.588 231.772 525.856 230.569 L525.856 234.596 Q523.564 235.568 521.157 236.078 Q518.75 236.587 516.273 236.587 Q510.069 236.587 506.435 232.976 Q502.824 229.365 502.824 223.207 Q502.824 216.842 506.25 213.115 Q509.699 209.365 515.532 209.365 Q520.763 209.365 523.796 212.745 Q526.851 216.101 526.851 221.888 M522.592 220.638 Q522.546 217.143 520.625 215.059 Q518.726 212.976 515.578 212.976 Q512.014 212.976 509.861 214.99 Q507.731 217.004 507.407 220.661 L522.592 220.638 Z\" fill=\"#000000\" fill-rule=\"evenodd\" fill-opacity=\"1\" /><path clip-path=\"url(#clip590)\" d=\"M545.624 222.883 Q540.462 222.883 538.472 224.064 Q536.481 225.244 536.481 228.092 Q536.481 230.36 537.962 231.703 Q539.467 233.022 542.037 233.022 Q545.578 233.022 547.708 230.522 Q549.861 227.999 549.861 223.832 L549.861 222.883 L545.624 222.883 M554.12 221.124 L554.12 235.916 L549.861 235.916 L549.861 231.981 Q548.402 234.342 546.226 235.476 Q544.05 236.587 540.902 236.587 Q536.921 236.587 534.56 234.365 Q532.222 232.119 532.222 228.369 Q532.222 223.994 535.138 221.772 Q538.078 219.55 543.888 219.55 L549.861 219.55 L549.861 219.133 Q549.861 216.194 547.916 214.596 Q545.995 212.976 542.499 212.976 Q540.277 212.976 538.171 213.508 Q536.064 214.041 534.12 215.106 L534.12 211.17 Q536.458 210.268 538.657 209.828 Q540.856 209.365 542.939 209.365 Q548.564 209.365 551.342 212.282 Q554.12 215.198 554.12 221.124 Z\" fill=\"#000000\" fill-rule=\"evenodd\" fill-opacity=\"1\" /><path clip-path=\"url(#clip590)\" d=\"M562.893 199.897 L567.152 199.897 L567.152 235.916 L562.893 235.916 L562.893 199.897 Z\" fill=\"#000000\" fill-rule=\"evenodd\" fill-opacity=\"1\" /><path clip-path=\"url(#clip590)\" d=\"M573.911 221.032 L586.388 221.032 L586.388 224.828 L573.911 224.828 L573.911 221.032 Z\" fill=\"#000000\" fill-rule=\"evenodd\" fill-opacity=\"1\" /><path clip-path=\"url(#clip590)\" d=\"M614.073 202.49 L614.073 207.05 Q611.411 205.777 609.05 205.152 Q606.689 204.527 604.49 204.527 Q600.67 204.527 598.587 206.008 Q596.527 207.49 596.527 210.221 Q596.527 212.513 597.893 213.694 Q599.282 214.851 603.124 215.569 L605.948 216.147 Q611.18 217.143 613.656 219.666 Q616.156 222.166 616.156 226.379 Q616.156 231.402 612.777 233.994 Q609.42 236.587 602.916 236.587 Q600.462 236.587 597.684 236.031 Q594.93 235.476 591.967 234.388 L591.967 229.573 Q594.814 231.17 597.545 231.981 Q600.277 232.791 602.916 232.791 Q606.92 232.791 609.096 231.217 Q611.272 229.643 611.272 226.726 Q611.272 224.18 609.698 222.744 Q608.147 221.309 604.582 220.592 L601.735 220.036 Q596.504 218.995 594.166 216.772 Q591.828 214.55 591.828 210.592 Q591.828 206.008 595.045 203.37 Q598.286 200.731 603.957 200.731 Q606.388 200.731 608.911 201.171 Q611.434 201.61 614.073 202.49 Z\" fill=\"#000000\" fill-rule=\"evenodd\" fill-opacity=\"1\" /><path clip-path=\"url(#clip590)\" d=\"M627.383 232.027 L627.383 245.777 L623.101 245.777 L623.101 209.99 L627.383 209.99 L627.383 213.925 Q628.726 211.61 630.763 210.499 Q632.823 209.365 635.67 209.365 Q640.392 209.365 643.332 213.115 Q646.295 216.865 646.295 222.976 Q646.295 229.087 643.332 232.837 Q640.392 236.587 635.67 236.587 Q632.823 236.587 630.763 235.476 Q628.726 234.342 627.383 232.027 M641.874 222.976 Q641.874 218.277 639.929 215.615 Q638.008 212.93 634.629 212.93 Q631.249 212.93 629.305 215.615 Q627.383 218.277 627.383 222.976 Q627.383 227.675 629.305 230.36 Q631.249 233.022 634.629 233.022 Q638.008 233.022 639.929 230.36 Q641.874 227.675 641.874 222.976 Z\" fill=\"#000000\" fill-rule=\"evenodd\" fill-opacity=\"1\" /><path clip-path=\"url(#clip590)\" d=\"M665.138 222.883 Q659.976 222.883 657.985 224.064 Q655.994 225.244 655.994 228.092 Q655.994 230.36 657.476 231.703 Q658.98 233.022 661.55 233.022 Q665.091 233.022 667.221 230.522 Q669.374 227.999 669.374 223.832 L669.374 222.883 L665.138 222.883 M673.633 221.124 L673.633 235.916 L669.374 235.916 L669.374 231.981 Q667.915 234.342 665.74 235.476 Q663.564 236.587 660.415 236.587 Q656.434 236.587 654.073 234.365 Q651.735 232.119 651.735 228.369 Q651.735 223.994 654.652 221.772 Q657.591 219.55 663.402 219.55 L669.374 219.55 L669.374 219.133 Q669.374 216.194 667.429 214.596 Q665.508 212.976 662.013 212.976 Q659.791 212.976 657.684 213.508 Q655.578 214.041 653.633 215.106 L653.633 211.17 Q655.971 210.268 658.17 209.828 Q660.369 209.365 662.453 209.365 Q668.077 209.365 670.855 212.282 Q673.633 215.198 673.633 221.124 Z\" fill=\"#000000\" fill-rule=\"evenodd\" fill-opacity=\"1\" /><path clip-path=\"url(#clip590)\" d=\"M701.063 210.985 L701.063 214.967 Q699.258 213.971 697.429 213.485 Q695.624 212.976 693.772 212.976 Q689.628 212.976 687.337 215.615 Q685.045 218.231 685.045 222.976 Q685.045 227.721 687.337 230.36 Q689.628 232.976 693.772 232.976 Q695.624 232.976 697.429 232.49 Q699.258 231.981 701.063 230.985 L701.063 234.92 Q699.281 235.754 697.36 236.17 Q695.462 236.587 693.309 236.587 Q687.452 236.587 684.003 232.906 Q680.554 229.226 680.554 222.976 Q680.554 216.633 684.026 212.999 Q687.522 209.365 693.587 209.365 Q695.554 209.365 697.429 209.782 Q699.304 210.175 701.063 210.985 Z\" fill=\"#000000\" fill-rule=\"evenodd\" fill-opacity=\"1\" /><path clip-path=\"url(#clip590)\" d=\"M730.647 221.888 L730.647 223.971 L711.063 223.971 Q711.341 228.369 713.702 230.684 Q716.086 232.976 720.323 232.976 Q722.776 232.976 725.068 232.374 Q727.383 231.772 729.651 230.569 L729.651 234.596 Q727.36 235.568 724.952 236.078 Q722.545 236.587 720.068 236.587 Q713.864 236.587 710.23 232.976 Q706.619 229.365 706.619 223.207 Q706.619 216.842 710.045 213.115 Q713.494 209.365 719.327 209.365 Q724.559 209.365 727.591 212.745 Q730.647 216.101 730.647 221.888 M726.387 220.638 Q726.341 217.143 724.42 215.059 Q722.522 212.976 719.374 212.976 Q715.809 212.976 713.656 214.99 Q711.526 217.004 711.202 220.661 L726.387 220.638 Z\" fill=\"#000000\" fill-rule=\"evenodd\" fill-opacity=\"1\" /><circle clip-path=\"url(#clip590)\" cx=\"378.926\" cy=\"270.476\" r=\"23.04\" fill=\"#e26f46\" fill-rule=\"evenodd\" fill-opacity=\"1\" stroke=\"#000000\" stroke-opacity=\"1\" stroke-width=\"5.12\"/>\n",
       "<path clip-path=\"url(#clip590)\" d=\"M496.296 254.33 L496.296 258.89 Q493.634 257.617 491.273 256.992 Q488.912 256.367 486.713 256.367 Q482.893 256.367 480.81 257.848 Q478.75 259.33 478.75 262.061 Q478.75 264.353 480.116 265.534 Q481.504 266.691 485.347 267.409 L488.171 267.987 Q493.403 268.983 495.879 271.506 Q498.379 274.006 498.379 278.219 Q498.379 283.242 495 285.834 Q491.643 288.427 485.139 288.427 Q482.685 288.427 479.907 287.871 Q477.153 287.316 474.19 286.228 L474.19 281.413 Q477.037 283.01 479.768 283.821 Q482.5 284.631 485.139 284.631 Q489.143 284.631 491.319 283.057 Q493.495 281.483 493.495 278.566 Q493.495 276.02 491.921 274.584 Q490.37 273.149 486.805 272.432 L483.958 271.876 Q478.727 270.835 476.389 268.612 Q474.051 266.39 474.051 262.432 Q474.051 257.848 477.268 255.21 Q480.509 252.571 486.18 252.571 Q488.611 252.571 491.134 253.011 Q493.657 253.45 496.296 254.33 Z\" fill=\"#000000\" fill-rule=\"evenodd\" fill-opacity=\"1\" /><path clip-path=\"url(#clip590)\" d=\"M505.046 277.524 L505.046 261.83 L509.305 261.83 L509.305 277.362 Q509.305 281.043 510.74 282.895 Q512.176 284.723 515.046 284.723 Q518.495 284.723 520.486 282.524 Q522.5 280.325 522.5 276.529 L522.5 261.83 L526.759 261.83 L526.759 287.756 L522.5 287.756 L522.5 283.774 Q520.949 286.135 518.888 287.293 Q516.851 288.427 514.143 288.427 Q509.676 288.427 507.361 285.649 Q505.046 282.871 505.046 277.524 M515.763 261.205 L515.763 261.205 Z\" fill=\"#000000\" fill-rule=\"evenodd\" fill-opacity=\"1\" /><path clip-path=\"url(#clip590)\" d=\"M554.143 274.816 Q554.143 270.117 552.198 267.455 Q550.277 264.77 546.898 264.77 Q543.518 264.77 541.574 267.455 Q539.652 270.117 539.652 274.816 Q539.652 279.515 541.574 282.2 Q543.518 284.862 546.898 284.862 Q550.277 284.862 552.198 282.2 Q554.143 279.515 554.143 274.816 M539.652 265.765 Q540.995 263.45 543.032 262.339 Q545.092 261.205 547.939 261.205 Q552.661 261.205 555.601 264.955 Q558.564 268.705 558.564 274.816 Q558.564 280.927 555.601 284.677 Q552.661 288.427 547.939 288.427 Q545.092 288.427 543.032 287.316 Q540.995 286.182 539.652 283.867 L539.652 287.756 L535.37 287.756 L535.37 251.737 L539.652 251.737 L539.652 265.765 Z\" fill=\"#000000\" fill-rule=\"evenodd\" fill-opacity=\"1\" /><path clip-path=\"url(#clip590)\" d=\"M563.472 272.872 L575.948 272.872 L575.948 276.668 L563.472 276.668 L563.472 272.872 Z\" fill=\"#000000\" fill-rule=\"evenodd\" fill-opacity=\"1\" /><path clip-path=\"url(#clip590)\" d=\"M603.633 254.33 L603.633 258.89 Q600.971 257.617 598.61 256.992 Q596.249 256.367 594.05 256.367 Q590.231 256.367 588.147 257.848 Q586.087 259.33 586.087 262.061 Q586.087 264.353 587.453 265.534 Q588.842 266.691 592.684 267.409 L595.508 267.987 Q600.74 268.983 603.217 271.506 Q605.717 274.006 605.717 278.219 Q605.717 283.242 602.337 285.834 Q598.981 288.427 592.476 288.427 Q590.022 288.427 587.245 287.871 Q584.49 287.316 581.527 286.228 L581.527 281.413 Q584.374 283.01 587.106 283.821 Q589.837 284.631 592.476 284.631 Q596.481 284.631 598.657 283.057 Q600.832 281.483 600.832 278.566 Q600.832 276.02 599.258 274.584 Q597.707 273.149 594.143 272.432 L591.295 271.876 Q586.064 270.835 583.726 268.612 Q581.388 266.39 581.388 262.432 Q581.388 257.848 584.606 255.21 Q587.846 252.571 593.518 252.571 Q595.948 252.571 598.471 253.011 Q600.995 253.45 603.633 254.33 Z\" fill=\"#000000\" fill-rule=\"evenodd\" fill-opacity=\"1\" /><path clip-path=\"url(#clip590)\" d=\"M616.944 283.867 L616.944 297.617 L612.661 297.617 L612.661 261.83 L616.944 261.83 L616.944 265.765 Q618.286 263.45 620.323 262.339 Q622.383 261.205 625.231 261.205 Q629.953 261.205 632.892 264.955 Q635.855 268.705 635.855 274.816 Q635.855 280.927 632.892 284.677 Q629.953 288.427 625.231 288.427 Q622.383 288.427 620.323 287.316 Q618.286 286.182 616.944 283.867 M631.434 274.816 Q631.434 270.117 629.49 267.455 Q627.568 264.77 624.189 264.77 Q620.809 264.77 618.865 267.455 Q616.944 270.117 616.944 274.816 Q616.944 279.515 618.865 282.2 Q620.809 284.862 624.189 284.862 Q627.568 284.862 629.49 282.2 Q631.434 279.515 631.434 274.816 Z\" fill=\"#000000\" fill-rule=\"evenodd\" fill-opacity=\"1\" /><path clip-path=\"url(#clip590)\" d=\"M654.698 274.723 Q649.536 274.723 647.545 275.904 Q645.554 277.084 645.554 279.932 Q645.554 282.2 647.036 283.543 Q648.541 284.862 651.11 284.862 Q654.652 284.862 656.781 282.362 Q658.934 279.839 658.934 275.672 L658.934 274.723 L654.698 274.723 M663.193 272.964 L663.193 287.756 L658.934 287.756 L658.934 283.821 Q657.476 286.182 655.3 287.316 Q653.124 288.427 649.976 288.427 Q645.994 288.427 643.633 286.205 Q641.295 283.959 641.295 280.209 Q641.295 275.834 644.212 273.612 Q647.152 271.39 652.962 271.39 L658.934 271.39 L658.934 270.973 Q658.934 268.034 656.99 266.436 Q655.068 264.816 651.573 264.816 Q649.351 264.816 647.244 265.348 Q645.138 265.881 643.193 266.946 L643.193 263.01 Q645.531 262.108 647.73 261.668 Q649.929 261.205 652.013 261.205 Q657.638 261.205 660.415 264.122 Q663.193 267.038 663.193 272.964 Z\" fill=\"#000000\" fill-rule=\"evenodd\" fill-opacity=\"1\" /><path clip-path=\"url(#clip590)\" d=\"M690.624 262.825 L690.624 266.807 Q688.818 265.811 686.989 265.325 Q685.184 264.816 683.332 264.816 Q679.189 264.816 676.897 267.455 Q674.605 270.071 674.605 274.816 Q674.605 279.561 676.897 282.2 Q679.189 284.816 683.332 284.816 Q685.184 284.816 686.989 284.33 Q688.818 283.821 690.624 282.825 L690.624 286.76 Q688.841 287.594 686.92 288.01 Q685.022 288.427 682.869 288.427 Q677.013 288.427 673.564 284.746 Q670.115 281.066 670.115 274.816 Q670.115 268.473 673.587 264.839 Q677.082 261.205 683.147 261.205 Q685.114 261.205 686.989 261.622 Q688.864 262.015 690.624 262.825 Z\" fill=\"#000000\" fill-rule=\"evenodd\" fill-opacity=\"1\" /><path clip-path=\"url(#clip590)\" d=\"M720.207 273.728 L720.207 275.811 L700.624 275.811 Q700.901 280.209 703.262 282.524 Q705.647 284.816 709.883 284.816 Q712.337 284.816 714.628 284.214 Q716.943 283.612 719.211 282.409 L719.211 286.436 Q716.92 287.408 714.512 287.918 Q712.105 288.427 709.628 288.427 Q703.425 288.427 699.79 284.816 Q696.179 281.205 696.179 275.047 Q696.179 268.682 699.605 264.955 Q703.054 261.205 708.887 261.205 Q714.119 261.205 717.151 264.585 Q720.207 267.941 720.207 273.728 M715.948 272.478 Q715.901 268.983 713.98 266.899 Q712.082 264.816 708.934 264.816 Q705.369 264.816 703.216 266.83 Q701.087 268.844 700.763 272.501 L715.948 272.478 Z\" fill=\"#000000\" fill-rule=\"evenodd\" fill-opacity=\"1\" /></svg>\n"
      ]
     },
     "execution_count": 14,
     "metadata": {},
     "output_type": "execute_result"
    }
   ],
   "source": [
    "using Plots\n",
    "@nbinclude(\"Hofstadter MB in Julia.ipynb\")\n",
    "real_space_finite_u = MB_Energies; sub_space_finite_u = EEE\n",
    "plot(1:length(real_space_finite_u),real_space_finite_u,seriestype=:scatter,markershape=:star5,label=\"Real-Space\")\n",
    "plot!(1:length(sub_space_finite_u),sub_space_finite_u,seriestype=:scatter,label=\"Sub-Space\",legend=:topleft)\n",
    "title!(\"U=$(U)\");xlabel!(\"n=$(length(EEE))\");ylabel!(\"E\")"
   ]
  }
 ],
 "metadata": {
  "kernelspec": {
   "display_name": "Julia 1.7.2",
   "language": "julia",
   "name": "julia-1.7"
  },
  "language_info": {
   "file_extension": ".jl",
   "mimetype": "application/julia",
   "name": "julia",
   "version": "1.7.2"
  }
 },
 "nbformat": 4,
 "nbformat_minor": 5
}
