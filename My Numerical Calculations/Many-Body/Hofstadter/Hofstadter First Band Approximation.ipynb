{
 "cells": [
  {
   "cell_type": "code",
   "execution_count": 1,
   "id": "portuguese-prediction",
   "metadata": {
    "tags": []
   },
   "outputs": [
    {
     "data": {
      "text/plain": [
       "Hofstadter_SP (generic function with 1 method)"
      ]
     },
     "execution_count": 1,
     "metadata": {},
     "output_type": "execute_result"
    }
   ],
   "source": [
    "# executeme\n",
    "\n",
    "using NBInclude\n",
    "@nbinclude(\"Hofstadter Single Particle in Julia.ipynb\")"
   ]
  },
  {
   "cell_type": "code",
   "execution_count": 2,
   "id": "changed-hudson",
   "metadata": {
    "tags": []
   },
   "outputs": [],
   "source": [
    "# executeme\n",
    "\n",
    "#@time begin\n",
    "using QuantumOptics\n",
    "\n",
    "#https://juliapackages.com/p/einsum\n",
    "using Einsum\n",
    "\n",
    "# https://github.com/Jutho/TensorOperations.jl\n",
    "using TensorOperations\n",
    "\n",
    "using BenchmarkTools\n",
    "\n",
    "using LinearAlgebra\n",
    "\n",
    "#end"
   ]
  },
  {
   "cell_type": "markdown",
   "id": "cutting-transport",
   "metadata": {},
   "source": [
    "1) Hofstadter SP QoJulia energies are has to be equal to Hofstadter Single Particle energies."
   ]
  },
  {
   "cell_type": "code",
   "execution_count": 3,
   "id": "about-bones",
   "metadata": {
    "tags": []
   },
   "outputs": [
    {
     "data": {
      "text/plain": [
       "5"
      ]
     },
     "execution_count": 3,
     "metadata": {},
     "output_type": "execute_result"
    }
   ],
   "source": [
    "Nx = 5; Ny = 5; N=Nx*Ny; q = Nx; cut_off = q\n",
    "PN = [0,1,2]\n",
    "U = 2;\n",
    "Ncut = cut_off"
   ]
  },
  {
   "cell_type": "code",
   "execution_count": 4,
   "id": "temporal-cleveland",
   "metadata": {
    "tags": []
   },
   "outputs": [],
   "source": [
    "sp_basis = NLevelBasis(N)\n",
    "sp_matrix = Hofstadter_SP(Nx,Ny,1/q, 0);"
   ]
  },
  {
   "cell_type": "code",
   "execution_count": 5,
   "id": "imperial-crisis",
   "metadata": {
    "tags": []
   },
   "outputs": [
    {
     "data": {
      "text/plain": [
       "get_sp_op (generic function with 1 method)"
      ]
     },
     "execution_count": 5,
     "metadata": {},
     "output_type": "execute_result"
    }
   ],
   "source": [
    "# executeme\n",
    "\n",
    "function get_sp_op(sp_basis, sp_matrix)\n",
    "  \n",
    "    H = SparseOperator(sp_basis)\n",
    "\n",
    "    for m in 1:N\n",
    "        for n in 1:N\n",
    "            H = H + sp_matrix[m,n] * transition(sp_basis, m, n)\n",
    "        end\n",
    "    end\n",
    "    \n",
    "    return H\n",
    "end"
   ]
  },
  {
   "cell_type": "code",
   "execution_count": 6,
   "id": "likely-spank",
   "metadata": {
    "tags": []
   },
   "outputs": [],
   "source": [
    "H1 = get_sp_op(sp_basis, sp_matrix);"
   ]
  },
  {
   "cell_type": "code",
   "execution_count": 7,
   "id": "ignored-medium",
   "metadata": {
    "tags": []
   },
   "outputs": [
    {
     "data": {
      "text/plain": [
       "true"
      ]
     },
     "execution_count": 7,
     "metadata": {},
     "output_type": "execute_result"
    }
   ],
   "source": [
    "#check op. form\n",
    "eigenenergies(dense(H1)) == eigvals(Hofstadter_SP(Nx,Ny,1/q,0))"
   ]
  },
  {
   "cell_type": "code",
   "execution_count": 8,
   "id": "forty-sensitivity",
   "metadata": {
    "tags": []
   },
   "outputs": [
    {
     "data": {
      "text/plain": [
       "get_sub_states (generic function with 1 method)"
      ]
     },
     "execution_count": 8,
     "metadata": {},
     "output_type": "execute_result"
    }
   ],
   "source": [
    "# executeme\n",
    "\n",
    "function get_sub_states(sp_op, cut_off)\n",
    "    \n",
    "    E0, states0 = eigenstates(dense(sp_op))\n",
    "    states = states0[1:cut_off]\n",
    "    \n",
    "    return states\n",
    "end"
   ]
  },
  {
   "cell_type": "code",
   "execution_count": 9,
   "id": "compact-brooks",
   "metadata": {
    "tags": []
   },
   "outputs": [],
   "source": [
    "sub_states = get_sub_states(H1, cut_off);"
   ]
  },
  {
   "cell_type": "code",
   "execution_count": 10,
   "id": "miniature-spending",
   "metadata": {
    "tags": []
   },
   "outputs": [
    {
     "data": {
      "text/plain": [
       "get_projector_op (generic function with 1 method)"
      ]
     },
     "execution_count": 10,
     "metadata": {},
     "output_type": "execute_result"
    }
   ],
   "source": [
    "# executeme\n",
    "\n",
    "function get_projector_op(states, basis)\n",
    "    \n",
    "    b_sub = SubspaceBasis(basis,states)\n",
    "    P = projector(b_sub, basis)\n",
    "    Pt = dagger(P)\n",
    "    \n",
    "    return b_sub, P, Pt\n",
    "end"
   ]
  },
  {
   "cell_type": "code",
   "execution_count": 11,
   "id": "molecular-bankruptcy",
   "metadata": {
    "tags": []
   },
   "outputs": [],
   "source": [
    "b_sub, P, Pt = get_projector_op(sub_states, sp_basis);"
   ]
  },
  {
   "cell_type": "code",
   "execution_count": 12,
   "id": "weighted-algorithm",
   "metadata": {
    "tags": []
   },
   "outputs": [
    {
     "data": {
      "text/plain": [
       "get_subspace_op (generic function with 1 method)"
      ]
     },
     "execution_count": 12,
     "metadata": {},
     "output_type": "execute_result"
    }
   ],
   "source": [
    "# executeme\n",
    "\n",
    "function get_subspace_op(sp_op, P, Pt)\n",
    "    return P*sp_op*Pt\n",
    "end"
   ]
  },
  {
   "cell_type": "code",
   "execution_count": 13,
   "id": "informed-macro",
   "metadata": {
    "tags": []
   },
   "outputs": [],
   "source": [
    "H1_sub = get_subspace_op(H1, P, Pt);"
   ]
  },
  {
   "cell_type": "code",
   "execution_count": 14,
   "id": "trained-humor",
   "metadata": {
    "tags": []
   },
   "outputs": [
    {
     "data": {
      "text/plain": [
       "get_num_sub_list (generic function with 1 method)"
      ]
     },
     "execution_count": 14,
     "metadata": {},
     "output_type": "execute_result"
    }
   ],
   "source": [
    "# executeme\n",
    "\n",
    "function get_num_sub_list(sp_basis, P, Pt)\n",
    "    num_sub_list = []\n",
    "    for m in 1:N\n",
    "        NM = transition(sp_basis, m, m)\n",
    "        NMP = get_subspace_op(NM, P, Pt)\n",
    "        push!(num_sub_list, NMP)\n",
    "    end\n",
    "    return num_sub_list\n",
    "end"
   ]
  },
  {
   "cell_type": "code",
   "execution_count": 15,
   "id": "cross-patrol",
   "metadata": {
    "tags": []
   },
   "outputs": [],
   "source": [
    "num_sub_list = get_num_sub_list(sp_basis,P,Pt);"
   ]
  },
  {
   "cell_type": "markdown",
   "id": "particular-surrey",
   "metadata": {},
   "source": [
    "# Many-Body"
   ]
  },
  {
   "cell_type": "code",
   "execution_count": 16,
   "id": "yellow-company",
   "metadata": {
    "tags": []
   },
   "outputs": [
    {
     "data": {
      "text/plain": [
       "Hofstadter_Finite_U (generic function with 1 method)"
      ]
     },
     "execution_count": 16,
     "metadata": {},
     "output_type": "execute_result"
    }
   ],
   "source": [
    "@nbinclude(\"Hofstadter MB in Julia.ipynb\"; regex=r\"#.*executeme\")"
   ]
  },
  {
   "cell_type": "code",
   "execution_count": 17,
   "id": "difficult-ground",
   "metadata": {
    "tags": []
   },
   "outputs": [
    {
     "data": {
      "text/plain": [
       "ManyBody(onebodybasis=Subspace(superbasis=NLevel(N=25), states:5), states:21)"
      ]
     },
     "execution_count": 17,
     "metadata": {},
     "output_type": "execute_result"
    }
   ],
   "source": [
    "states_mb = bosonstates(b_sub, PN) \n",
    "basis_mb = ManyBodyBasis(b_sub, states_mb)"
   ]
  },
  {
   "cell_type": "code",
   "execution_count": 18,
   "id": "virtual-bobby",
   "metadata": {
    "tags": []
   },
   "outputs": [
    {
     "data": {
      "text/plain": [
       "get_mb_op (generic function with 1 method)"
      ]
     },
     "execution_count": 18,
     "metadata": {},
     "output_type": "execute_result"
    }
   ],
   "source": [
    "# executeme\n",
    "\n",
    "function get_mb_op(basis_mb, basis, sp_op)\n",
    "    \n",
    "    Op_MB = SparseOperator(basis_mb)\n",
    "    for i in 1:length(basis)\n",
    "        for j in 1:length(basis)\n",
    "            Op_MB = Op_MB + sp_op.data[i,j] * transition(basis_mb, i, j)\n",
    "        end\n",
    "    end\n",
    "    \n",
    "    return Op_MB\n",
    "end"
   ]
  },
  {
   "cell_type": "code",
   "execution_count": 19,
   "id": "final-reverse",
   "metadata": {
    "tags": []
   },
   "outputs": [],
   "source": [
    "H1_MB = get_mb_op(basis_mb, b_sub, H1_sub);"
   ]
  },
  {
   "cell_type": "code",
   "execution_count": 20,
   "id": "tamil-efficiency",
   "metadata": {
    "tags": []
   },
   "outputs": [],
   "source": [
    "# H1_mb = manybodyoperator(basis_mb, H1_sub);"
   ]
  },
  {
   "cell_type": "code",
   "execution_count": 21,
   "id": "attractive-combine",
   "metadata": {
    "tags": []
   },
   "outputs": [
    {
     "data": {
      "text/plain": [
       "get_num_mb_list (generic function with 1 method)"
      ]
     },
     "execution_count": 21,
     "metadata": {},
     "output_type": "execute_result"
    }
   ],
   "source": [
    "# executeme\n",
    "\n",
    "function get_num_mb_list(basis_mb, basis, num_sub_list)\n",
    "    num_mb_list = []\n",
    "    for m in 1:N\n",
    "        NMP = get_mb_op(basis_mb, basis, num_sub_list[m])\n",
    "        push!(num_mb_list, NMP)\n",
    "    end\n",
    "    return num_mb_list\n",
    "end"
   ]
  },
  {
   "cell_type": "code",
   "execution_count": 22,
   "id": "advanced-edwards",
   "metadata": {
    "tags": []
   },
   "outputs": [],
   "source": [
    "num_mb_list = get_num_mb_list(basis_mb, b_sub, num_sub_list);"
   ]
  },
  {
   "cell_type": "code",
   "execution_count": 23,
   "id": "better-matrix",
   "metadata": {
    "tags": []
   },
   "outputs": [
    {
     "data": {
      "text/plain": [
       "get_hubbard_int (generic function with 1 method)"
      ]
     },
     "execution_count": 23,
     "metadata": {},
     "output_type": "execute_result"
    }
   ],
   "source": [
    "function get_hubbard_int(num_op_list, basis_mb, U)\n",
    "\n",
    "    IT = SparseOperator(basis_mb)\n",
    "    \n",
    "    for m in 1:N\n",
    "        IT = IT + U/2 * ( num_op_list[m] * num_op_list[m] - num_op_list[m] )\n",
    "    end\n",
    "    \n",
    "    return IT\n",
    "end"
   ]
  },
  {
   "cell_type": "code",
   "execution_count": 24,
   "id": "architectural-transition",
   "metadata": {
    "tags": []
   },
   "outputs": [],
   "source": [
    "H_Int_MB = get_hubbard_int(num_mb_list, basis_mb, U);"
   ]
  },
  {
   "cell_type": "code",
   "execution_count": 25,
   "id": "handed-milton",
   "metadata": {
    "tags": []
   },
   "outputs": [
    {
     "data": {
      "text/plain": [
       "get_hubbard_int2 (generic function with 1 method)"
      ]
     },
     "execution_count": 25,
     "metadata": {},
     "output_type": "execute_result"
    }
   ],
   "source": [
    "\n",
    "function get_hubbard_int2(basis, P, Pt)\n",
    "    \n",
    "    #@btime begin\n",
    "    @time begin\n",
    "    basis2 = basis ⊗ basis\n",
    "\n",
    "    # interaction : at_i at_i a_i a_i = at_i a_i at_i a_i - at_i a_i = n_i n_i - n_i\n",
    "\n",
    "    Vint = SparseOperator(basis2)\n",
    "\n",
    "    for n in 1:N\n",
    "        Vint += U/2*transition(basis,n,n)⊗transition(basis,n,n)\n",
    "    end\n",
    "\n",
    "    Vint_sub = (P⊗P)*Vint*(Pt⊗Pt)\n",
    "\n",
    "    Vint_mb = manybodyoperator(basis_mb, Vint_sub)\n",
    "    end\n",
    "    \n",
    "    return Vint_mb\n",
    "end"
   ]
  },
  {
   "cell_type": "code",
   "execution_count": 26,
   "id": "julian-candle",
   "metadata": {
    "tags": []
   },
   "outputs": [
    {
     "name": "stdout",
     "output_type": "stream",
     "text": [
      "  0.271523 seconds (1.40 M allocations: 108.465 MiB, 7.38% gc time, 77.51% compilation time)\n"
     ]
    }
   ],
   "source": [
    "H_Int_MB2 = get_hubbard_int2(sp_basis, P, Pt);"
   ]
  },
  {
   "cell_type": "code",
   "execution_count": 27,
   "id": "resistant-present",
   "metadata": {
    "tags": []
   },
   "outputs": [
    {
     "data": {
      "text/plain": [
       "get_hubbard_int3 (generic function with 1 method)"
      ]
     },
     "execution_count": 27,
     "metadata": {},
     "output_type": "execute_result"
    }
   ],
   "source": [
    "# executeme\n",
    "\n",
    "function get_hubbard_int3(P, Pt, b_sub, cut_off)\n",
    "    @time begin\n",
    "   \n",
    "    P1 = P.data\n",
    "    P1t = Pt.data\n",
    "\n",
    "    @einsum P4[k,l,m,n] := P1[k,i] * P1[l,i] * P1t[i,m] * P1t[i,n]\n",
    "\n",
    "    b2_sub = b_sub ⊗ b_sub\n",
    "\n",
    "    P4re = reshape(P4, cut_off^2, cut_off^2)\n",
    "\n",
    "    Vint_bsub2 = SparseOperator(b2_sub,U/2*P4re)\n",
    "    #Vint_bsub2 = Operator(b2_sub,U/2*P4re)\n",
    "    \n",
    "    Vint_bsub2_mb = manybodyoperator(basis_mb, Vint_bsub2)\n",
    "    end\n",
    "    return Vint_bsub2_mb\n",
    "end"
   ]
  },
  {
   "cell_type": "code",
   "execution_count": 28,
   "id": "sufficient-defensive",
   "metadata": {
    "tags": []
   },
   "outputs": [
    {
     "name": "stdout",
     "output_type": "stream",
     "text": [
      "  0.241042 seconds (1.31 M allocations: 87.571 MiB, 90.99% compilation time)\n"
     ]
    }
   ],
   "source": [
    "H_Int_MB3 = get_hubbard_int3(P, Pt, b_sub, cut_off);"
   ]
  },
  {
   "cell_type": "code",
   "execution_count": 29,
   "id": "coral-mineral",
   "metadata": {
    "tags": []
   },
   "outputs": [
    {
     "data": {
      "text/plain": [
       "get_hubbard_int4 (generic function with 1 method)"
      ]
     },
     "execution_count": 29,
     "metadata": {},
     "output_type": "execute_result"
    }
   ],
   "source": [
    "function get_hubbard_int4(P, Pt, b_sub, cut_off)\n",
    "    \n",
    "    bcut_mb, bcut = get_Bosonic_MB_Basis(cut_off, PN)\n",
    "\n",
    "    @time begin\n",
    "    P1 = P.data\n",
    "    P1t = Pt.data;\n",
    "\n",
    "    @einsum P4[k,l,m,n] := P1[k,i] * P1[l,i] * P1t[i,m] * P1t[i,n]\n",
    "\n",
    "    b2cut = bcut ⊗ bcut\n",
    "\n",
    "    P4re = reshape(P4, cut_off^2, cut_off^2)\n",
    "\n",
    "    Vint_bsub2 = SparseOperator(b2cut, U/2*P4re)\n",
    "        \n",
    "    Vint_mb_cut = manybodyoperator(bcut_mb, Vint_bsub2)\n",
    "    end\n",
    "    \n",
    "    return Vint_mb_cut\n",
    "end"
   ]
  },
  {
   "cell_type": "code",
   "execution_count": 30,
   "id": "korean-costume",
   "metadata": {
    "tags": []
   },
   "outputs": [
    {
     "name": "stdout",
     "output_type": "stream",
     "text": [
      "  0.143821 seconds (725.76 k allocations: 59.362 MiB, 21.86% gc time, 65.46% compilation time)\n"
     ]
    }
   ],
   "source": [
    "H_Int_MB4 = get_hubbard_int4(P, Pt, b_sub, cut_off);"
   ]
  },
  {
   "cell_type": "code",
   "execution_count": 31,
   "id": "neutral-tackle",
   "metadata": {
    "tags": []
   },
   "outputs": [
    {
     "data": {
      "text/plain": [
       "get_hubbard_int5 (generic function with 1 method)"
      ]
     },
     "execution_count": 31,
     "metadata": {},
     "output_type": "execute_result"
    }
   ],
   "source": [
    "function get_hubbard_int5(P, Pt, b_sub, cut_off)\n",
    "    \n",
    "    bcut_mb, bcut = get_Bosonic_MB_Basis(cut_off,PN)\n",
    "    \n",
    "    @time begin\n",
    "    P1 = P.data\n",
    "    P1t = Pt.data;\n",
    "\n",
    "    @einsum P4[k,l,m,n] := P1[k,i] * P1[l,i] * P1t[i,m] * P1t[i,n]\n",
    "\n",
    "    Vint_mb_cut = SparseOperator(bcut_mb)\n",
    "    for k in 1:Ncut\n",
    "        for l in 1:Ncut\n",
    "            for m in 1:Ncut\n",
    "                for n in 1:Ncut\n",
    "                    a1t = create(bcut_mb, k)\n",
    "                    a2t = create(bcut_mb, l)\n",
    "                    a2  = destroy(bcut_mb, m)      \n",
    "                    a1  = destroy(bcut_mb, n)      \n",
    "                    Vint_mb_cut += U/2*P4[k,l,m,n]*a1t*a2t*a2*a1\n",
    "                end\n",
    "            end\n",
    "        end\n",
    "    end\n",
    "    end\n",
    "    return Vint_mb_cut\n",
    "end"
   ]
  },
  {
   "cell_type": "code",
   "execution_count": 32,
   "id": "dutch-philosophy",
   "metadata": {},
   "outputs": [
    {
     "name": "stdout",
     "output_type": "stream",
     "text": [
      "  0.118220 seconds (124.72 k allocations: 11.323 MiB, 96.20% compilation time)\n"
     ]
    }
   ],
   "source": [
    "H_Int_MB5 = get_hubbard_int5(P, Pt, b_sub, cut_off);"
   ]
  },
  {
   "cell_type": "code",
   "execution_count": 33,
   "id": "civil-constitutional",
   "metadata": {
    "tags": []
   },
   "outputs": [
    {
     "data": {
      "text/plain": [
       "manybodyoperator_2_Hubbard (generic function with 1 method)"
      ]
     },
     "execution_count": 33,
     "metadata": {},
     "output_type": "execute_result"
    }
   ],
   "source": [
    "function manybodyoperator_2_Hubbard(basis::ManyBodyBasis, op::SparseOpType)\n",
    "    N = length(basis)\n",
    "    S = length(basis.onebodybasis)\n",
    "    result = SparseOperator(basis)\n",
    "    occupations = basis.occupations\n",
    "    rows = QuantumOpticsBase.rowvals(op.data)\n",
    "    values = QuantumOpticsBase.nonzeros(op.data)\n",
    "    @inbounds for column=1:S^2, j in QuantumOpticsBase.nzrange(op.data, column)\n",
    "        row = rows[j]\n",
    "        value = values[j]\n",
    "        index = Tuple(CartesianIndices((S, S, S, S))[(column-1)*S^2 + row])\n",
    "        for m=1:N, n=1:N\n",
    "            # println(\"row:\", row, \" column:\"column, ind_left)\n",
    "            C = QuantumOpticsBase.coefficient(occupations[m], occupations[n], index[1:2], index[3:4])\n",
    "            if C!=0.\n",
    "                result.data[m,n] += C*value\n",
    "            end\n",
    "        end\n",
    "    end\n",
    "    return result\n",
    "end"
   ]
  },
  {
   "cell_type": "code",
   "execution_count": 34,
   "id": "still-yorkshire",
   "metadata": {
    "tags": []
   },
   "outputs": [
    {
     "data": {
      "text/plain": [
       "true"
      ]
     },
     "execution_count": 34,
     "metadata": {},
     "output_type": "execute_result"
    }
   ],
   "source": [
    "isapprox( H_Int_MB2, H_Int_MB3 )"
   ]
  },
  {
   "cell_type": "code",
   "execution_count": 35,
   "id": "unlike-farmer",
   "metadata": {
    "tags": []
   },
   "outputs": [
    {
     "data": {
      "text/plain": [
       "true"
      ]
     },
     "execution_count": 35,
     "metadata": {},
     "output_type": "execute_result"
    }
   ],
   "source": [
    "isapprox( H_Int_MB4, H_Int_MB5 )"
   ]
  },
  {
   "cell_type": "code",
   "execution_count": 36,
   "id": "eleven-contents",
   "metadata": {
    "tags": []
   },
   "outputs": [
    {
     "data": {
      "text/plain": [
       "true"
      ]
     },
     "execution_count": 36,
     "metadata": {},
     "output_type": "execute_result"
    }
   ],
   "source": [
    "isapprox( H_Int_MB4.data, H_Int_MB5.data )"
   ]
  },
  {
   "cell_type": "code",
   "execution_count": 37,
   "id": "dangerous-civilian",
   "metadata": {
    "tags": []
   },
   "outputs": [
    {
     "data": {
      "text/plain": [
       "true"
      ]
     },
     "execution_count": 37,
     "metadata": {},
     "output_type": "execute_result"
    }
   ],
   "source": [
    "isapprox( H_Int_MB3.data , H_Int_MB4.data )"
   ]
  },
  {
   "cell_type": "code",
   "execution_count": 38,
   "id": "nonprofit-district",
   "metadata": {
    "tags": []
   },
   "outputs": [],
   "source": [
    "H_MB = H1_MB + H_Int_MB\n",
    "H_MB2 = H1_MB + H_Int_MB2\n",
    "H_MB3 = H1_MB + H_Int_MB3\n",
    "H_MB4 = H1_MB.data + H_Int_MB4.data;"
   ]
  },
  {
   "cell_type": "code",
   "execution_count": 39,
   "id": "technical-technology",
   "metadata": {
    "tags": []
   },
   "outputs": [],
   "source": [
    "bcut_mb, bcut = get_Bosonic_MB_Basis(cut_off,PN)\n",
    "H1cut = SparseOperator(bcut_mb)\n",
    "H1cut.data = H1_MB.data\n",
    "H1_MB\n",
    "\n",
    "H_MB5 = H1cut + H_Int_MB5;"
   ]
  },
  {
   "cell_type": "code",
   "execution_count": 40,
   "id": "running-output",
   "metadata": {
    "tags": []
   },
   "outputs": [
    {
     "name": "stdout",
     "output_type": "stream",
     "text": [
      "[-5.930026862496533, -5.930026862496532, -5.930026862496532, -5.930026862496527, -5.930026862496524]\n",
      "[-5.9300268624965335, -5.93002686249653, -5.930026862496527, -5.930026862496527, -5.9300268624965256]\n",
      "[-5.930026862496535, -5.9300268624965335, -5.930026862496529, -5.930026862496526, -5.930026862496525]"
     ]
    }
   ],
   "source": [
    "E = eigenenergies(dense((H_MB+dagger(H_MB))/2))\n",
    "\n",
    "E2 = eigenenergies(dense((H_MB2+dagger(H_MB2))/2))\n",
    "\n",
    "E3 = eigenenergies(dense((H_MB3+dagger(H_MB3))/2))\n",
    "\n",
    "E5 = eigenenergies(dense((H_MB5+dagger(H_MB5))/2))\n",
    "\n",
    "print(E5[1:cut_off], \"\\n\", \n",
    "      E2[1:cut_off], \"\\n\", \n",
    "      E3[1:cut_off])"
   ]
  },
  {
   "cell_type": "code",
   "execution_count": 41,
   "id": "invalid-anchor",
   "metadata": {
    "tags": []
   },
   "outputs": [
    {
     "name": "stdout",
     "output_type": "stream",
     "text": [
      "[-5.930812587456476, -5.930812587456471, -5.930812587456462, -5.930812587456459, -5.93081258745645, -5.81785420065732, -5.81785420065732, -5.8178542006573135, -5.81785420065731, -5.817854200657308, -5.759573954067759, -5.759573954067753, -5.7595739540677515, -5.759573954067751, -5.759573954067751, -3.868561021733692, -3.8685610217336817, -3.8685610217336786, -3.8685610217336777, -3.868561021733676, -3.8030181881052645]\n",
      "[-7.530026862496533, -7.530026862496531, -7.530026862496529, -7.530026862496526, -7.530026862496523, -7.372090091593086, -7.372090091593083, -7.372090091593083, -7.372090091593082, -7.3720900915930745, -7.2965709807706265, -7.296570980770625, -7.296570980770623, -7.29657098077062, -7.296570980770619, -3.766447989143375, -3.766447989143375, -3.766447989143373, -3.7664479891433724, -3.7664479891433684, 0.0] Incorrect one! \n",
      "[-5.9300268624965335, -5.93002686249653, -5.930026862496527, -5.930026862496527, -5.9300268624965256, -5.7720900915930855, -5.772090091593083, -5.772090091593082, -5.772090091593079, -5.772090091593078, -5.696570980770628, -5.696570980770626, -5.696570980770622, -5.696570980770622, -5.696570980770621, -2.966447989143374, -2.966447989143374, -2.9664479891433713, -2.966447989143371, -2.96644798914337, 0.0]\n",
      "[-5.930026862496535, -5.9300268624965335, -5.930026862496529, -5.930026862496526, -5.930026862496525, -5.772090091593084, -5.772090091593083, -5.772090091593083, -5.772090091593079, -5.7720900915930775, -5.696570980770626, -5.696570980770624, -5.696570980770623, -5.696570980770619, -5.696570980770616, -2.966447989143374, -2.966447989143374, -2.9664479891433713, -2.966447989143371, -2.96644798914337, 0.0]\n",
      "[-5.930026862496529, -5.930026862496529, -5.930026862496529, -5.930026862496525, -5.930026862496524, -5.772090091593089, -5.772090091593086, -5.7720900915930855, -5.772090091593082, -5.7720900915930775, -5.69657098077063, -5.696570980770628, -5.696570980770626, -5.696570980770624, -5.6965709807706215, -2.9664479891433775, -2.966447989143374, -2.966447989143373, -2.9664479891433713, -2.966447989143368, 0.0]"
     ]
    }
   ],
   "source": [
    "using LinearAlgebra\n",
    "E4 = real(eigvals(Matrix(H_MB4)))\n",
    "\n",
    "\n",
    "E0 = eigenenergies(dense(Hofstadter_Finite_U(Nx, Ny, 1/q, PN, U)))[1:length(E)]\n",
    "\n",
    "print(E0, \"\\n\", E, \" Incorrect one! \\n\", E2, \"\\n\", E3, \"\\n\", E4)"
   ]
  },
  {
   "cell_type": "code",
   "execution_count": null,
   "id": "taken-genealogy",
   "metadata": {},
   "outputs": [],
   "source": []
  }
 ],
 "metadata": {
  "kernelspec": {
   "display_name": "Julia 1.8.1",
   "language": "julia",
   "name": "julia-1.8"
  },
  "language_info": {
   "file_extension": ".jl",
   "mimetype": "application/julia",
   "name": "julia",
   "version": "1.8.1"
  }
 },
 "nbformat": 4,
 "nbformat_minor": 5
}
