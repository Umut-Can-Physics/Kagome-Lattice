{
 "cells": [
  {
   "cell_type": "code",
   "execution_count": 1,
   "id": "therapeutic-impossible",
   "metadata": {
    "tags": []
   },
   "outputs": [
    {
     "data": {
      "text/plain": [
       "Hofstadter_SP (generic function with 1 method)"
      ]
     },
     "execution_count": 1,
     "metadata": {},
     "output_type": "execute_result"
    }
   ],
   "source": [
    "# executeme\n",
    "\n",
    "using NBInclude\n",
    "@nbinclude(\"Hofstadter Single Particle in Julia.ipynb\")"
   ]
  },
  {
   "cell_type": "code",
   "execution_count": 2,
   "id": "altered-twelve",
   "metadata": {
    "tags": []
   },
   "outputs": [],
   "source": [
    "# executeme\n",
    "\n",
    "#@time begin\n",
    "using QuantumOptics\n",
    "\n",
    "#https://juliapackages.com/p/einsum\n",
    "using Einsum\n",
    "\n",
    "# https://github.com/Jutho/TensorOperations.jl\n",
    "using TensorOperations\n",
    "\n",
    "using BenchmarkTools\n",
    "\n",
    "using LinearAlgebra\n",
    "\n",
    "#end"
   ]
  },
  {
   "cell_type": "markdown",
   "id": "raising-pathology",
   "metadata": {},
   "source": [
    "1) Hofstadter SP QoJulia energies are has to be equal to Hofstadter Single Particle energies."
   ]
  },
  {
   "cell_type": "code",
   "execution_count": 137,
   "id": "dressed-angel",
   "metadata": {
    "tags": []
   },
   "outputs": [],
   "source": [
    "Nx = 5; Ny = 5; N=Nx*Ny; q = Nx; cut_off = q\n",
    "PN = 2\n",
    "U = 2;"
   ]
  },
  {
   "cell_type": "code",
   "execution_count": 138,
   "id": "28e1fbf1-4daa-4fe4-90ae-1d865cffe1d3",
   "metadata": {
    "tags": []
   },
   "outputs": [],
   "source": [
    "sp_basis = NLevelBasis(N)\n",
    "sp_matrix = Hofstadter_SP(Nx,Ny,1/q, 0);"
   ]
  },
  {
   "cell_type": "code",
   "execution_count": 139,
   "id": "gothic-protest",
   "metadata": {
    "tags": []
   },
   "outputs": [
    {
     "data": {
      "text/plain": [
       "get_sp_op (generic function with 1 method)"
      ]
     },
     "execution_count": 139,
     "metadata": {},
     "output_type": "execute_result"
    }
   ],
   "source": [
    "# executeme\n",
    "\n",
    "function get_sp_op(sp_basis, sp_matrix)\n",
    "  \n",
    "    H = SparseOperator(sp_basis)\n",
    "\n",
    "    for m in 1:N\n",
    "        for n in 1:N\n",
    "            H = H + sp_matrix[m,n] * transition(sp_basis, m, n)\n",
    "        end\n",
    "    end\n",
    "    \n",
    "    return H\n",
    "end"
   ]
  },
  {
   "cell_type": "code",
   "execution_count": 140,
   "id": "exotic-oracle",
   "metadata": {
    "tags": []
   },
   "outputs": [],
   "source": [
    "H1 = get_sp_op(sp_basis, sp_matrix);"
   ]
  },
  {
   "cell_type": "code",
   "execution_count": 141,
   "id": "bearing-burner",
   "metadata": {
    "tags": []
   },
   "outputs": [
    {
     "data": {
      "text/plain": [
       "true"
      ]
     },
     "execution_count": 141,
     "metadata": {},
     "output_type": "execute_result"
    }
   ],
   "source": [
    "#check op. form\n",
    "eigenenergies(dense(H1)) == eigvals(Hofstadter_SP(Nx,Ny,1/q,0))"
   ]
  },
  {
   "cell_type": "code",
   "execution_count": 142,
   "id": "quality-oakland",
   "metadata": {
    "tags": []
   },
   "outputs": [
    {
     "data": {
      "text/plain": [
       "get_sub_states (generic function with 1 method)"
      ]
     },
     "execution_count": 142,
     "metadata": {},
     "output_type": "execute_result"
    }
   ],
   "source": [
    "# executeme\n",
    "\n",
    "function get_sub_states(sp_op, cut_off)\n",
    "    \n",
    "    E0, states0 = eigenstates(dense(sp_op))\n",
    "    states = states0[1:cut_off]\n",
    "    \n",
    "    return states\n",
    "end"
   ]
  },
  {
   "cell_type": "code",
   "execution_count": 143,
   "id": "informative-adult",
   "metadata": {
    "tags": []
   },
   "outputs": [],
   "source": [
    "sub_states = get_sub_states(H1, cut_off);"
   ]
  },
  {
   "cell_type": "code",
   "execution_count": 144,
   "id": "visible-desktop",
   "metadata": {
    "tags": []
   },
   "outputs": [
    {
     "data": {
      "text/plain": [
       "get_projector_op (generic function with 1 method)"
      ]
     },
     "execution_count": 144,
     "metadata": {},
     "output_type": "execute_result"
    }
   ],
   "source": [
    "# executeme\n",
    "\n",
    "function get_projector_op(states, basis)\n",
    "    \n",
    "    b_sub = SubspaceBasis(basis,states)\n",
    "    P = projector(b_sub, basis)\n",
    "    Pt = dagger(P)\n",
    "    \n",
    "    return b_sub, P, Pt\n",
    "end"
   ]
  },
  {
   "cell_type": "code",
   "execution_count": 145,
   "id": "seasonal-mobile",
   "metadata": {
    "tags": []
   },
   "outputs": [],
   "source": [
    "b_sub, P, Pt = get_projector_op(sub_states, sp_basis);"
   ]
  },
  {
   "cell_type": "code",
   "execution_count": 146,
   "id": "portuguese-cooperative",
   "metadata": {
    "tags": []
   },
   "outputs": [
    {
     "data": {
      "text/plain": [
       "get_subspace_op (generic function with 1 method)"
      ]
     },
     "execution_count": 146,
     "metadata": {},
     "output_type": "execute_result"
    }
   ],
   "source": [
    "# executeme\n",
    "\n",
    "function get_subspace_op(sp_op, P, Pt)\n",
    "    return P*sp_op*Pt\n",
    "end"
   ]
  },
  {
   "cell_type": "code",
   "execution_count": 147,
   "id": "steady-engineering",
   "metadata": {
    "tags": []
   },
   "outputs": [],
   "source": [
    "H1_sub = get_subspace_op(H1, P, Pt);"
   ]
  },
  {
   "cell_type": "code",
   "execution_count": 148,
   "id": "numerous-vienna",
   "metadata": {
    "tags": []
   },
   "outputs": [
    {
     "data": {
      "text/plain": [
       "get_num_sub_list (generic function with 1 method)"
      ]
     },
     "execution_count": 148,
     "metadata": {},
     "output_type": "execute_result"
    }
   ],
   "source": [
    "# executeme\n",
    "\n",
    "function get_num_sub_list(sp_basis, P, Pt)\n",
    "    num_sub_list = []\n",
    "    for m in 1:N\n",
    "        NM = transition(sp_basis, m, m)\n",
    "        NMP = get_subspace_op(NM, P, Pt)\n",
    "        push!(num_sub_list, NMP)\n",
    "    end\n",
    "    return num_sub_list\n",
    "end"
   ]
  },
  {
   "cell_type": "code",
   "execution_count": 149,
   "id": "central-recovery",
   "metadata": {
    "tags": []
   },
   "outputs": [],
   "source": [
    "num_sub_list = get_num_sub_list(sp_basis,P,Pt);"
   ]
  },
  {
   "cell_type": "code",
   "execution_count": 150,
   "id": "statistical-postcard",
   "metadata": {
    "tags": []
   },
   "outputs": [
    {
     "data": {
      "text/plain": [
       "ManyBody(onebodybasis=Subspace(superbasis=NLevel(N=25), states:5), states:15)"
      ]
     },
     "execution_count": 150,
     "metadata": {},
     "output_type": "execute_result"
    }
   ],
   "source": [
    "states_mb = bosonstates(b_sub, PN) \n",
    "basis_mb = ManyBodyBasis(b_sub, states_mb)"
   ]
  },
  {
   "cell_type": "code",
   "execution_count": 151,
   "id": "certain-tuition",
   "metadata": {
    "tags": []
   },
   "outputs": [
    {
     "data": {
      "text/plain": [
       "get_mb_op (generic function with 1 method)"
      ]
     },
     "execution_count": 151,
     "metadata": {},
     "output_type": "execute_result"
    }
   ],
   "source": [
    "# executeme\n",
    "\n",
    "function get_mb_op(basis_mb, basis, sp_op)\n",
    "    \n",
    "    Op_MB = SparseOperator(basis_mb)\n",
    "    for i in 1:length(basis)\n",
    "        for j in 1:length(basis)\n",
    "            Op_MB = Op_MB + sp_op.data[i,j] * transition(basis_mb, i, j)\n",
    "        end\n",
    "    end\n",
    "    \n",
    "    return Op_MB\n",
    "end"
   ]
  },
  {
   "cell_type": "code",
   "execution_count": 152,
   "id": "another-london",
   "metadata": {
    "tags": []
   },
   "outputs": [],
   "source": [
    "H1_MB = get_mb_op(basis_mb, b_sub, H1_sub);"
   ]
  },
  {
   "cell_type": "code",
   "execution_count": 153,
   "id": "mobile-alignment",
   "metadata": {
    "tags": []
   },
   "outputs": [],
   "source": [
    "# H1_mb = manybodyoperator(basis_mb, H1_sub);"
   ]
  },
  {
   "cell_type": "code",
   "execution_count": 154,
   "id": "arctic-sound",
   "metadata": {
    "tags": []
   },
   "outputs": [
    {
     "data": {
      "text/plain": [
       "get_num_mb_list (generic function with 1 method)"
      ]
     },
     "execution_count": 154,
     "metadata": {},
     "output_type": "execute_result"
    }
   ],
   "source": [
    "# executeme\n",
    "\n",
    "function get_num_mb_list(basis_mb, basis, num_sub_list)\n",
    "    num_mb_list = []\n",
    "    for m in 1:N\n",
    "        NMP = get_mb_op(basis_mb, basis, num_sub_list[m])\n",
    "        push!(num_mb_list, NMP)\n",
    "    end\n",
    "    return num_mb_list\n",
    "end"
   ]
  },
  {
   "cell_type": "code",
   "execution_count": 155,
   "id": "spread-falls",
   "metadata": {
    "tags": []
   },
   "outputs": [],
   "source": [
    "num_mb_list = get_num_mb_list(basis_mb, b_sub, num_sub_list);"
   ]
  },
  {
   "cell_type": "code",
   "execution_count": 156,
   "id": "thermal-necklace",
   "metadata": {
    "tags": []
   },
   "outputs": [
    {
     "data": {
      "text/plain": [
       "get_hubbard_int (generic function with 1 method)"
      ]
     },
     "execution_count": 156,
     "metadata": {},
     "output_type": "execute_result"
    }
   ],
   "source": [
    "function get_hubbard_int(num_op_list, basis_mb, U)\n",
    "\n",
    "    IT = SparseOperator(basis_mb)\n",
    "    \n",
    "    for m in 1:N\n",
    "        IT = IT + U/2 * ( num_op_list[m] * num_op_list[m] - num_op_list[m] )\n",
    "    end\n",
    "    \n",
    "    return IT\n",
    "end"
   ]
  },
  {
   "cell_type": "code",
   "execution_count": 157,
   "id": "f1acb5a2-20a3-4f1b-99ba-e0c11ee63858",
   "metadata": {
    "tags": []
   },
   "outputs": [],
   "source": [
    "H_Int_MB = get_hubbard_int(num_mb_list, basis_mb, U);"
   ]
  },
  {
   "cell_type": "code",
   "execution_count": 158,
   "id": "featured-source",
   "metadata": {
    "tags": []
   },
   "outputs": [
    {
     "data": {
      "text/plain": [
       "get_hubbard_int2 (generic function with 1 method)"
      ]
     },
     "execution_count": 158,
     "metadata": {},
     "output_type": "execute_result"
    }
   ],
   "source": [
    "\n",
    "function get_hubbard_int2(basis, P, Pt)\n",
    "    \n",
    "    #@btime begin\n",
    "    @time begin\n",
    "    basis2 = basis ⊗ basis\n",
    "\n",
    "    # interaction : at_i at_i a_i a_i = at_i a_i at_i a_i - at_i a_i = n_i n_i - n_i\n",
    "\n",
    "    Vint = SparseOperator(basis2)\n",
    "\n",
    "    for n in 1:N\n",
    "        Vint += U/2*transition(basis,n,n)⊗transition(basis,n,n)\n",
    "    end\n",
    "\n",
    "    Vint_sub = (P⊗P)*Vint*(Pt⊗Pt)\n",
    "\n",
    "    Vint_mb = manybodyoperator(basis_mb, Vint_sub)\n",
    "    end\n",
    "    \n",
    "    return Vint_mb\n",
    "end"
   ]
  },
  {
   "cell_type": "code",
   "execution_count": 181,
   "id": "f9295485-c674-42ac-a519-97df7f522c06",
   "metadata": {
    "tags": []
   },
   "outputs": [
    {
     "name": "stdout",
     "output_type": "stream",
     "text": [
      "  0.083897 seconds (563.44 k allocations: 48.274 MiB, 59.54% gc time)\n"
     ]
    }
   ],
   "source": [
    "H_Int_MB2 = get_hubbard_int2(sp_basis, P, Pt);"
   ]
  },
  {
   "cell_type": "code",
   "execution_count": 183,
   "id": "static-purse",
   "metadata": {
    "tags": []
   },
   "outputs": [
    {
     "data": {
      "text/plain": [
       "get_hubbard_int3 (generic function with 1 method)"
      ]
     },
     "execution_count": 183,
     "metadata": {},
     "output_type": "execute_result"
    }
   ],
   "source": [
    "# executeme\n",
    "\n",
    "function get_hubbard_int3(P, Pt, b_sub, cut_off)\n",
    "    \n",
    "    P1 = P.data\n",
    "    P1t = Pt.data\n",
    "\n",
    "    @einsum P4[k,l,m,n] := P1[k,i] * P1[l,i] * P1t[i,m] * P1t[i,n]\n",
    "\n",
    "    b2_sub = b_sub ⊗ b_sub\n",
    "\n",
    "    P4re = reshape(P4, cut_off^2, cut_off^2)\n",
    "\n",
    "    Vint_bsub2 = SparseOperator(b2_sub,U/2*P4re)\n",
    "    #Vint_bsub2 = Operator(b2_sub,U/2*P4re)\n",
    "    \n",
    "    Vint_bsub2_mb = manybodyoperator(basis_mb, Vint_bsub2)\n",
    "    \n",
    "    return Vint_bsub2_mb\n",
    "end"
   ]
  },
  {
   "cell_type": "code",
   "execution_count": 186,
   "id": "7f530379-1bc7-42ad-b97b-696689aaa246",
   "metadata": {
    "tags": []
   },
   "outputs": [],
   "source": [
    "H_Int_MB3 = get_hubbard_int3(P, Pt, b_sub, cut_off);"
   ]
  },
  {
   "cell_type": "code",
   "execution_count": 191,
   "id": "9593aba3-9028-44be-afdc-b5dc055bb1ef",
   "metadata": {
    "tags": []
   },
   "outputs": [
    {
     "data": {
      "text/plain": [
       "get_hubbard_int4 (generic function with 1 method)"
      ]
     },
     "execution_count": 191,
     "metadata": {},
     "output_type": "execute_result"
    }
   ],
   "source": [
    "@nbinclude(\"Hofstadter MB in Julia.ipynb\"; regex=r\"#.*executeme\")\n",
    "\n",
    "function get_hubbard_int4(P, Pt, b_sub, cut_off)\n",
    "    bcut_mb, bcut = get_Bosonic_MB_Basis(cut_off,PN)\n",
    "\n",
    "    @time begin\n",
    "    P1 = P.data\n",
    "    P1t = Pt.data;\n",
    "\n",
    "    @einsum P4[k,l,m,n] := P1[k,i] * P1[l,i] * P1t[i,m] * P1t[i,n]\n",
    "\n",
    "    b2cut = bcut ⊗ bcut\n",
    "\n",
    "    P4re = reshape(P4, cut_off^2, cut_off^2)\n",
    "\n",
    "    Vint_bsub2 = SparseOperator(b2cut, U/2*P4re)\n",
    "        \n",
    "    Vint_mb_cut = manybodyoperator(bcut_mb, Vint_bsub2)\n",
    "    end\n",
    "    \n",
    "    return Vint_mb_cut\n",
    "end"
   ]
  },
  {
   "cell_type": "code",
   "execution_count": 193,
   "id": "54f82e30-5258-441c-b77b-f716b9a9be5d",
   "metadata": {
    "tags": []
   },
   "outputs": [
    {
     "name": "stdout",
     "output_type": "stream",
     "text": [
      "  0.018107 seconds (281.27 k allocations: 25.806 MiB)\n"
     ]
    }
   ],
   "source": [
    "H_Int_MB4 = get_hubbard_int4(P, Pt, b_sub, cut_off);"
   ]
  },
  {
   "cell_type": "code",
   "execution_count": 166,
   "id": "primary-slide",
   "metadata": {
    "tags": []
   },
   "outputs": [
    {
     "data": {
      "text/plain": [
       "manybodyoperator_2_Hubbard (generic function with 1 method)"
      ]
     },
     "execution_count": 166,
     "metadata": {},
     "output_type": "execute_result"
    }
   ],
   "source": [
    "function manybodyoperator_2_Hubbard(basis::ManyBodyBasis, op::SparseOpType)\n",
    "    N = length(basis)\n",
    "    S = length(basis.onebodybasis)\n",
    "    result = SparseOperator(basis)\n",
    "    occupations = basis.occupations\n",
    "    rows = QuantumOpticsBase.rowvals(op.data)\n",
    "    values = QuantumOpticsBase.nonzeros(op.data)\n",
    "    @inbounds for column=1:S^2, j in QuantumOpticsBase.nzrange(op.data, column)\n",
    "        row = rows[j]\n",
    "        value = values[j]\n",
    "        index = Tuple(CartesianIndices((S, S, S, S))[(column-1)*S^2 + row])\n",
    "        for m=1:N, n=1:N\n",
    "            # println(\"row:\", row, \" column:\"column, ind_left)\n",
    "            C = QuantumOpticsBase.coefficient(occupations[m], occupations[n], index[1:2], index[3:4])\n",
    "            if C!=0.\n",
    "                result.data[m,n] += C*value\n",
    "            end\n",
    "        end\n",
    "    end\n",
    "    return result\n",
    "end"
   ]
  },
  {
   "cell_type": "code",
   "execution_count": 195,
   "id": "continuous-association",
   "metadata": {
    "tags": []
   },
   "outputs": [
    {
     "data": {
      "text/plain": [
       "true"
      ]
     },
     "execution_count": 195,
     "metadata": {},
     "output_type": "execute_result"
    }
   ],
   "source": [
    "isapprox( H_Int_MB2, H_Int_MB3 )"
   ]
  },
  {
   "cell_type": "code",
   "execution_count": 206,
   "id": "offshore-dylan",
   "metadata": {
    "tags": []
   },
   "outputs": [
    {
     "data": {
      "text/plain": [
       "true"
      ]
     },
     "execution_count": 206,
     "metadata": {},
     "output_type": "execute_result"
    }
   ],
   "source": [
    "isapprox( H_Int_MB3.data , H_Int_MB4.data )"
   ]
  },
  {
   "cell_type": "code",
   "execution_count": 207,
   "id": "facial-squad",
   "metadata": {
    "tags": []
   },
   "outputs": [],
   "source": [
    "H_MB = H1_MB + H_Int_MB\n",
    "H_MB2 = H1_MB + H_Int_MB2\n",
    "H_MB3 = H1_MB + H_Int_MB3\n",
    "H_MB4 = H1_MB.data + H_Int_MB4.data;"
   ]
  },
  {
   "cell_type": "code",
   "execution_count": 226,
   "id": "necessary-interaction",
   "metadata": {
    "tags": []
   },
   "outputs": [
    {
     "name": "stdout",
     "output_type": "stream",
     "text": [
      "[-5.93081258745649, -5.93081258745647, -5.930812587456468, -5.930812587456463, -5.930812587456457, -5.817854200657329, -5.817854200657319, -5.817854200657309, -5.817854200657306, -5.8178542006573055, -5.759573954067773, -5.759573954067753, -5.759573954067749, -5.759573954067744, -5.759573954067732]\n",
      "[-7.530026862496532, -7.530026862496529, -7.530026862496528, -7.530026862496526, -7.530026862496525, -7.37209009159309, -7.372090091593084, -7.372090091593083, -7.3720900915930825, -7.37209009159308, -7.296570980770627, -7.296570980770626, -7.296570980770624, -7.296570980770622, -7.296570980770619] Incorrect one! \n",
      "[-5.930026862496534, -5.930026862496531, -5.930026862496529, -5.930026862496528, -5.9300268624965256, -5.772090091593086, -5.772090091593085, -5.772090091593082, -5.772090091593082, -5.772090091593078, -5.696570980770629, -5.696570980770627, -5.696570980770627, -5.696570980770625, -5.696570980770624]\n",
      "[-5.930026862496534, -5.930026862496531, -5.930026862496529, -5.930026862496528, -5.9300268624965256, -5.772090091593086, -5.772090091593085, -5.772090091593082, -5.772090091593082, -5.772090091593078, -5.696570980770629, -5.696570980770627, -5.696570980770627, -5.696570980770625, -5.696570980770624]\n",
      "[-5.930026862496536, -5.930026862496531, -5.930026862496527, -5.930026862496527, -5.9300268624965256, -5.772090091593091, -5.772090091593088, -5.7720900915930855, -5.772090091593084, -5.772090091593082, -5.696570980770637, -5.696570980770633, -5.696570980770628, -5.696570980770624, -5.696570980770624]"
     ]
    }
   ],
   "source": [
    "E = eigenenergies(dense((H_MB+dagger(H_MB))/2))\n",
    "\n",
    "E2 = eigenenergies(dense((H_MB2+dagger(H_MB2))/2))\n",
    "\n",
    "E3 = eigenenergies(dense((H_MB3+dagger(H_MB3))/2))\n",
    "\n",
    "using LinearAlgebra\n",
    "E4 = real(eigvals(Matrix(H_MB4)))\n",
    "\n",
    "E0 = eigenenergies(dense(Hofstadter_Finite_U(Nx, Ny, 1/q, PN, U)))[1:length(E)]\n",
    "\n",
    "print(E0, \"\\n\", E, \" Incorrect one! \\n\", E2, \"\\n\", E3, \"\\n\", E4)"
   ]
  }
 ],
 "metadata": {
  "kernelspec": {
   "display_name": "Julia 1.8.1",
   "language": "julia",
   "name": "julia-1.8"
  },
  "language_info": {
   "file_extension": ".jl",
   "mimetype": "application/julia",
   "name": "julia",
   "version": "1.8.1"
  }
 },
 "nbformat": 4,
 "nbformat_minor": 5
}
