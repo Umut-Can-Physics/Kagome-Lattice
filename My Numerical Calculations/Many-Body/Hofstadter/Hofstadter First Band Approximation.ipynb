{
 "cells": [
  {
   "cell_type": "code",
   "execution_count": 1,
   "id": "4e14ac7c",
   "metadata": {
    "tags": []
   },
   "outputs": [
    {
     "data": {
      "text/plain": [
       "Hofstadter_SP (generic function with 1 method)"
      ]
     },
     "execution_count": 1,
     "metadata": {},
     "output_type": "execute_result"
    }
   ],
   "source": [
    "using NBInclude\n",
    "@nbinclude(\"Hofstadter Single Particle in Julia.ipynb\")"
   ]
  },
  {
   "cell_type": "code",
   "execution_count": 2,
   "id": "1e698109",
   "metadata": {
    "tags": []
   },
   "outputs": [],
   "source": [
    "using QuantumOptics"
   ]
  },
  {
   "cell_type": "code",
   "execution_count": 3,
   "id": "205489ea",
   "metadata": {
    "tags": []
   },
   "outputs": [
    {
     "data": {
      "text/plain": [
       "Hofstadter_SP_Op (generic function with 1 method)"
      ]
     },
     "execution_count": 3,
     "metadata": {},
     "output_type": "execute_result"
    }
   ],
   "source": [
    "function Hofstadter_SP_Op(Nx, Ny, alpha, Basis)\n",
    "    \n",
    "    H_SP = Hofstadter_SP(Nx,Ny,alpha, 0)\n",
    "    \n",
    "    N = Nx*Ny\n",
    "    \n",
    "    H = SparseOperator(Basis)\n",
    "\n",
    "    for m in 1:N\n",
    "        for n in 1:N\n",
    "            H = H + H_SP[m,n] * transition(Basis, m, n)\n",
    "        end\n",
    "    end\n",
    "    \n",
    "    return H\n",
    "end"
   ]
  },
  {
   "cell_type": "markdown",
   "id": "3fc12020",
   "metadata": {},
   "source": [
    "1) Hofstadter SP QoJulia energies are has to be equal to Hofstadter Single Particle energies."
   ]
  },
  {
   "cell_type": "code",
   "execution_count": 28,
   "id": "bac3c7e6-873d-42d8-903c-68a494091a20",
   "metadata": {
    "tags": []
   },
   "outputs": [
    {
     "data": {
      "text/plain": [
       "2"
      ]
     },
     "execution_count": 28,
     "metadata": {},
     "output_type": "execute_result"
    }
   ],
   "source": [
    "Nx = 6; Ny = 6; N=Nx*Ny; q = 6; N_cut = 6\n",
    "PN = 3\n",
    "U = 2"
   ]
  },
  {
   "cell_type": "code",
   "execution_count": 29,
   "id": "c8e41280-c9e8-4114-9920-4479eb3bd165",
   "metadata": {
    "tags": []
   },
   "outputs": [
    {
     "data": {
      "text/plain": [
       "NLevel(N=36)"
      ]
     },
     "execution_count": 29,
     "metadata": {},
     "output_type": "execute_result"
    }
   ],
   "source": [
    "using LinearAlgebra\n",
    "\n",
    "basis = NLevelBasis(N)"
   ]
  },
  {
   "cell_type": "code",
   "execution_count": 30,
   "id": "a299af11-062e-49d9-a5e6-35cb26028f28",
   "metadata": {
    "tags": []
   },
   "outputs": [
    {
     "data": {
      "text/plain": [
       "Operator(dim=36x36)\n",
       "  basis: NLevel(N=36)sparse([2, 6, 7, 31, 1, 3, 8, 32, 2, 4  …  33, 35, 5, 29, 34, 36, 6, 30, 31, 35], [1, 1, 1, 1, 2, 2, 2, 2, 3, 3  …  34, 34, 35, 35, 35, 35, 36, 36, 36, 36], ComplexF64[-1.0 + 0.0im, -1.0 + 0.0im, -1.0 + 0.0im, -1.0 + 0.0im, -1.0 + 0.0im, -1.0 + 0.0im, -0.5000000000000001 - 0.8660254037844386im, -0.5000000000000001 + 0.8660254037844386im, -1.0 + 0.0im, -1.0 + 0.0im  …  -1.0 + 0.0im, -1.0 + 0.0im, 0.5000000000000004 + 0.8660254037844386im, 0.5000000000000004 - 0.8660254037844386im, -1.0 + 0.0im, -1.0 + 0.0im, -0.49999999999999933 + 0.866025403784439im, -0.49999999999999933 - 0.866025403784439im, -1.0 + 0.0im, -1.0 + 0.0im], 36, 36)"
      ]
     },
     "execution_count": 30,
     "metadata": {},
     "output_type": "execute_result"
    }
   ],
   "source": [
    "H1 = Hofstadter_SP_Op(Nx, Ny, 1/q, basis)"
   ]
  },
  {
   "cell_type": "code",
   "execution_count": 31,
   "id": "7aa79515-3e94-44aa-a128-e1674ac93531",
   "metadata": {
    "tags": []
   },
   "outputs": [
    {
     "data": {
      "text/plain": [
       "36-element Vector{Float64}:\n",
       " -3.0955735647785607\n",
       " -3.09557356477856\n",
       " -3.09557356477856\n",
       " -3.095573564778559\n",
       " -3.0955735647785585\n",
       " -3.0955735647785567\n",
       " -1.4142135623730958\n",
       " -1.4142135623730956\n",
       " -1.4142135623730945\n",
       " -1.4142135623730943\n",
       " -1.414213562373094\n",
       " -1.414213562373092\n",
       " -0.6460838219953846\n",
       "  ⋮\n",
       "  1.4142135623730916\n",
       "  1.4142135623730934\n",
       "  1.414213562373094\n",
       "  1.4142135623730945\n",
       "  1.4142135623730967\n",
       "  1.4142135623730983\n",
       "  3.095573564778559\n",
       "  3.095573564778559\n",
       "  3.0955735647785603\n",
       "  3.0955735647785607\n",
       "  3.0955735647785607\n",
       "  3.0955735647785616"
      ]
     },
     "execution_count": 31,
     "metadata": {},
     "output_type": "execute_result"
    }
   ],
   "source": [
    "eigenenergies(dense(H1))"
   ]
  },
  {
   "cell_type": "code",
   "execution_count": 32,
   "id": "bd89c49f-fde1-4683-ab61-62ee0afa9344",
   "metadata": {
    "tags": []
   },
   "outputs": [
    {
     "data": {
      "text/plain": [
       "true"
      ]
     },
     "execution_count": 32,
     "metadata": {},
     "output_type": "execute_result"
    }
   ],
   "source": [
    "eigenenergies(dense(H1)) == eigvals(Hofstadter_SP(Nx,Ny,1/q,0))"
   ]
  },
  {
   "cell_type": "code",
   "execution_count": 33,
   "id": "a6a50c54-c2c8-4137-a30c-7be448cc216f",
   "metadata": {
    "tags": []
   },
   "outputs": [
    {
     "data": {
      "text/plain": [
       "get_sub_states (generic function with 1 method)"
      ]
     },
     "execution_count": 33,
     "metadata": {},
     "output_type": "execute_result"
    }
   ],
   "source": [
    "function get_sub_states(SP_Op, N_cut)\n",
    "    \n",
    "    E0, states0 = eigenstates(dense(SP_Op))\n",
    "    states = states0[1:N_cut]\n",
    "    \n",
    "    return states\n",
    "end"
   ]
  },
  {
   "cell_type": "code",
   "execution_count": 34,
   "id": "3d8ded5e-b096-4294-91f6-b7ceb6211e0e",
   "metadata": {
    "tags": []
   },
   "outputs": [],
   "source": [
    "sub_states = get_sub_states(H1, N_cut);"
   ]
  },
  {
   "cell_type": "code",
   "execution_count": 35,
   "id": "5849cf99-54f7-44fe-a95c-609204134b36",
   "metadata": {
    "tags": []
   },
   "outputs": [
    {
     "data": {
      "text/plain": [
       "get_Projector (generic function with 1 method)"
      ]
     },
     "execution_count": 35,
     "metadata": {},
     "output_type": "execute_result"
    }
   ],
   "source": [
    "function get_Projector(states, Basis)\n",
    "    \n",
    "    b_sub = SubspaceBasis(Basis,states)\n",
    "    P = projector(b_sub, Basis)\n",
    "    Pt = dagger(P)\n",
    "    \n",
    "    return b_sub, P, Pt\n",
    "end"
   ]
  },
  {
   "cell_type": "code",
   "execution_count": 36,
   "id": "7e3bd77f-cec0-4e05-afba-3972fecb67ce",
   "metadata": {
    "tags": []
   },
   "outputs": [],
   "source": [
    "b_sub, P, Pt = get_Projector(sub_states, basis);"
   ]
  },
  {
   "cell_type": "code",
   "execution_count": 37,
   "id": "bd995b8b-3898-48cc-b87a-021d130f80c2",
   "metadata": {
    "tags": []
   },
   "outputs": [
    {
     "data": {
      "text/plain": [
       "Subspace_Op (generic function with 1 method)"
      ]
     },
     "execution_count": 37,
     "metadata": {},
     "output_type": "execute_result"
    }
   ],
   "source": [
    "function Subspace_Op(SP_Op, P)\n",
    "    return P*SP_Op*Pt\n",
    "end"
   ]
  },
  {
   "cell_type": "code",
   "execution_count": 38,
   "id": "790be2db-dd4a-4d9e-8131-0761fbf991e1",
   "metadata": {
    "tags": []
   },
   "outputs": [
    {
     "data": {
      "text/plain": [
       "Operator(dim=6x6)\n",
       "  basis: Subspace(superbasis=NLevel(N=36), states:6)\n",
       " -3.09557-1.0e-17im  -7.0e-17+1.6e-16im  …   2.4e-16-1.7e-16im\n",
       " -6.0e-17-1.0e-16im  -3.09557-4.0e-17im     -2.1e-16+2.9e-16im\n",
       "  6.0e-17+4.5e-16im   2.8e-16+2.2e-16im     -2.1e-16-7.0e-17im\n",
       " -1.0e-17+1.0e-17im   1.9e-16-1.2e-16im      1.8e-16+1.2e-16im\n",
       " -1.1e-16-5.0e-17im   6.0e-17+1.1e-16im     -8.0e-17+4.0e-17im\n",
       "  1.7e-16+1.0e-16im  -4.7e-16+2.2e-16im  …  -3.09557-3.0e-17im"
      ]
     },
     "execution_count": 38,
     "metadata": {},
     "output_type": "execute_result"
    }
   ],
   "source": [
    "H1_sub = Subspace_Op(H1, P)"
   ]
  },
  {
   "cell_type": "code",
   "execution_count": 39,
   "id": "5ab974c4-4c68-4615-98af-2ce6c7a9767a",
   "metadata": {
    "tags": []
   },
   "outputs": [],
   "source": [
    "num_sub_list = []\n",
    "for m in 1:N\n",
    "    NM = transition(basis, m, m)\n",
    "    NMP = Subspace_Op(NM, P)\n",
    "    push!(num_sub_list, NMP)\n",
    "end"
   ]
  },
  {
   "cell_type": "code",
   "execution_count": 40,
   "id": "37e1ddbb-ffb0-44d4-ab7c-c78ffa95be3e",
   "metadata": {
    "tags": []
   },
   "outputs": [
    {
     "data": {
      "text/plain": [
       "ManyBody(onebodybasis=Subspace(superbasis=NLevel(N=36), states:6), states:56)"
      ]
     },
     "execution_count": 40,
     "metadata": {},
     "output_type": "execute_result"
    }
   ],
   "source": [
    "states_mb = bosonstates(b_sub, PN) \n",
    "basis_mb = ManyBodyBasis(b_sub, states_mb)"
   ]
  },
  {
   "cell_type": "code",
   "execution_count": 41,
   "id": "f6b95d70-d5ec-4163-9c3c-f993987bad52",
   "metadata": {
    "tags": []
   },
   "outputs": [
    {
     "data": {
      "text/plain": [
       "Operator(dim=56x56)\n",
       "  basis: ManyBody(onebodybasis=Subspace(superbasis=NLevel(N=36), states:6), states:56)sparse([1, 2, 3, 4, 5, 6, 1, 2, 3, 4  …  52, 54, 55, 56, 21, 36, 46, 52, 55, 56], [1, 1, 1, 1, 1, 1, 2, 2, 2, 2  …  55, 55, 55, 55, 56, 56, 56, 56, 56, 56], ComplexF64[-9.286720694335678 - 2.0e-17im, -1.0e-16 - 1.7e-16im, 1.0e-16 + 7.8e-16im, -3.0e-17 + 2.0e-17im, -1.9e-16 - 8.0e-17im, 2.9e-16 + 1.8e-16im, -1.2e-16 + 2.8e-16im, -9.286720694335681 - 5.0e-17im, 2.8e-16 + 2.2e-16im, 1.9e-16 - 1.2e-16im  …  -2.2e-16 + 1.3e-16im, -1.7e-16 + 8.0e-17im, -9.286720694335683 - 6.0e-17im, -1.4e-16 - 1.3e-16im, 4.2e-16 - 3.0e-16im, -3.6e-16 + 5.1e-16im, -3.7e-16 - 1.2e-16im, 3.1e-16 + 2.2e-16im, -1.4e-16 + 7.0e-17im, -9.286720694335681 - 8.0e-17im], 56, 56)"
      ]
     },
     "execution_count": 41,
     "metadata": {},
     "output_type": "execute_result"
    }
   ],
   "source": [
    "function get_MB_Op(MB_Basis, Basis, Op)\n",
    "    \n",
    "    Op_MB = SparseOperator(MB_Basis)\n",
    "    for i in 1:length(Basis)\n",
    "        for j in 1:length(Basis)\n",
    "            Op_MB = Op_MB + Op.data[i,j] * transition(MB_Basis, i, j)\n",
    "        end\n",
    "    end\n",
    "    \n",
    "    return Op_MB\n",
    "end\n",
    "\n",
    "H1_MB = get_MB_Op(basis_mb, b_sub, H1_sub)"
   ]
  },
  {
   "cell_type": "code",
   "execution_count": 42,
   "id": "9d07500a-71d8-4bc5-b26c-49ffa6b8bb3c",
   "metadata": {
    "tags": []
   },
   "outputs": [],
   "source": [
    "# H1_mb = manybodyoperator(basis_mb, H1_sub)"
   ]
  },
  {
   "cell_type": "code",
   "execution_count": 43,
   "id": "c543dad2-c732-4d92-b309-d1add97e752e",
   "metadata": {
    "tags": []
   },
   "outputs": [],
   "source": [
    "num_mb_list = []\n",
    "for m in 1:N\n",
    "    NMP = get_MB_Op(basis_mb, b_sub, num_sub_list[m])\n",
    "    push!(num_mb_list, NMP)\n",
    "end"
   ]
  },
  {
   "cell_type": "code",
   "execution_count": 44,
   "id": "814e83dd-ac5f-4d34-85fa-582584128913",
   "metadata": {
    "tags": []
   },
   "outputs": [
    {
     "data": {
      "text/plain": [
       "Operator(dim=56x56)\n",
       "  basis: ManyBody(onebodybasis=Subspace(superbasis=NLevel(N=36), states:6), states:56)sparse([1, 2, 3, 4, 5, 6, 7, 8, 9, 10  …  40, 43, 45, 46, 49, 51, 52, 54, 55, 56], [1, 1, 1, 1, 1, 1, 1, 1, 1, 1  …  56, 56, 56, 56, 56, 56, 56, 56, 56, 56], ComplexF64[-2.1246964363080467 + 0.0im, -0.02713649406611147 + 0.00260134484177779im, 0.03016980722124858 - 0.02644308806051652im, -0.03107780643415557 - 0.02251688722903574im, 0.00647762305856232 + 0.00706275981596395im, 0.11094834864570895 - 0.01818147219863103im, -0.00597637972544214 + 0.0115867177834336im, 0.00115253264394028 + 0.03348915968759518im, -0.0062007387668364 + 0.02282777299233117im, 0.00270337216286825 - 0.03311952549295624im  …  0.01548843769032503 + 0.01654206505977928im, -0.00717359839885605 + 0.0104645315117879im, -0.01532111663763253 + 0.00227859739951872im, -0.06461151884229391 + 0.01411477837222533im, 0.00135068727799435 + 0.00411319026635876im, -0.00200374807226321 + 0.0003326274795068im, 0.00991462881048401 + 0.00378738798432194im, 0.01046786065544378 - 0.01092541925614504im, 0.03262322300092991 - 0.00381451554127666im, -2.11464718812807 - 0.0im], 56, 56)"
      ]
     },
     "execution_count": 44,
     "metadata": {},
     "output_type": "execute_result"
    }
   ],
   "source": [
    "function Int_Op(MB_Num_Op_List, MB_Basis, U)\n",
    "\n",
    "    IT = SparseOperator(MB_Basis)\n",
    "    \n",
    "    for m in 1:N\n",
    "        IT = IT + U/2 * ( MB_Num_Op_List[m]*MB_Num_Op_List[m] - MB_Num_Op_List[m] )\n",
    "    end\n",
    "    \n",
    "    return IT\n",
    "end\n",
    "\n",
    "H_Int_MB = Int_Op(num_mb_list, basis_mb, U)"
   ]
  },
  {
   "cell_type": "code",
   "execution_count": 45,
   "id": "ef9269c7-e47a-4437-a574-2ed2f3dd3383",
   "metadata": {
    "tags": []
   },
   "outputs": [
    {
     "data": {
      "text/plain": [
       "Operator(dim=56x56)\n",
       "  basis: ManyBody(onebodybasis=Subspace(superbasis=NLevel(N=36), states:6), states:56)\n",
       "    0.375304+0.0im         …          0.0+0.0im\n",
       "  -0.0271365+0.00260134im             0.0+0.0im\n",
       "   0.0301698-0.0264431im              0.0+0.0im\n",
       "  -0.0310778-0.0225169im              0.0+0.0im\n",
       "  0.00647762+0.00706276im             0.0+0.0im\n",
       "    0.110948-0.0181815im   …    0.0280014+0.0132819im\n",
       " -0.00597638+0.0115867im              0.0+0.0im\n",
       "  0.00115253+0.0334892im              0.0+0.0im\n",
       " -0.00620074+0.0228278im              0.0+0.0im\n",
       "  0.00270337-0.0331195im              0.0+0.0im\n",
       "  -0.0096087+0.0212551im   …    0.0160035-0.0246312im\n",
       "  0.00417255+0.00867813im             0.0+0.0im\n",
       "  -0.0116291+0.0222003im              0.0+0.0im\n",
       "            ⋮              ⋱             ⋮\n",
       "         0.0+0.0im             -0.0153211+0.0022786im\n",
       "         0.0+0.0im         …   -0.0646115+0.0141148im\n",
       "         0.0+0.0im                    0.0+0.0im\n",
       "         0.0+0.0im                    0.0+0.0im\n",
       "         0.0+0.0im             0.00135069+0.00411319im\n",
       "         0.0+0.0im                    0.0+0.0im\n",
       "         0.0+0.0im         …  -0.00200375+0.000332627im\n",
       "         0.0+0.0im             0.00991463+0.00378739im\n",
       "         0.0+0.0im                    0.0+0.0im\n",
       "         0.0+0.0im              0.0104679-0.0109254im\n",
       "         0.0+0.0im              0.0326232-0.00381452im\n",
       "         0.0+0.0im         …     0.385353+0.0im"
      ]
     },
     "execution_count": 45,
     "metadata": {},
     "output_type": "execute_result"
    }
   ],
   "source": [
    "basis2 = basis ⊗ basis\n",
    "\n",
    "# interaction : at_i at_i a_i a_i = at_i a_i at_i a_i - at_i a_i = n_i n_i - n_i\n",
    "    \n",
    "Vint = SparseOperator(basis2)\n",
    "\n",
    "for n in 1:N\n",
    "    Vint += U/2*transition(basis,n,n)⊗transition(basis,n,n)\n",
    "end\n",
    "\n",
    "Vint_sub = (P⊗P)*Vint*(Pt⊗Pt)\n",
    "\n",
    "Vint_mb = manybodyoperator(basis_mb, Vint_sub)"
   ]
  },
  {
   "cell_type": "code",
   "execution_count": 46,
   "id": "44df2e47-18f5-4478-9462-f071fc21fb67",
   "metadata": {
    "tags": []
   },
   "outputs": [
    {
     "data": {
      "text/plain": [
       "Operator(dim=56x56)\n",
       "  basis: ManyBody(onebodybasis=Subspace(superbasis=NLevel(N=36), states:6), states:56)\n",
       "    -8.91142-2.0e-17im     …          0.0+0.0im\n",
       "  -0.0271365+0.00260134im             0.0+0.0im\n",
       "   0.0301698-0.0264431im              0.0+0.0im\n",
       "  -0.0310778-0.0225169im              0.0+0.0im\n",
       "  0.00647762+0.00706276im             0.0+0.0im\n",
       "    0.110948-0.0181815im   …    0.0280014+0.0132819im\n",
       " -0.00597638+0.0115867im              0.0+0.0im\n",
       "  0.00115253+0.0334892im              0.0+0.0im\n",
       " -0.00620074+0.0228278im              0.0+0.0im\n",
       "  0.00270337-0.0331195im              0.0+0.0im\n",
       "  -0.0096087+0.0212551im   …    0.0160035-0.0246312im\n",
       "  0.00417255+0.00867813im             0.0+0.0im\n",
       "  -0.0116291+0.0222003im              0.0+0.0im\n",
       "            ⋮              ⋱             ⋮\n",
       "         0.0+0.0im             -0.0153211+0.0022786im\n",
       "         0.0+0.0im         …   -0.0646115+0.0141148im\n",
       "         0.0+0.0im                    0.0+0.0im\n",
       "         0.0+0.0im                    0.0+0.0im\n",
       "         0.0+0.0im             0.00135069+0.00411319im\n",
       "         0.0+0.0im                    0.0+0.0im\n",
       "         0.0+0.0im         …  -0.00200375+0.000332627im\n",
       "         0.0+0.0im             0.00991463+0.00378739im\n",
       "         0.0+0.0im                    0.0+0.0im\n",
       "         0.0+0.0im              0.0104679-0.0109254im\n",
       "         0.0+0.0im              0.0326232-0.00381452im\n",
       "         0.0+0.0im         …     -8.90137-8.0e-17im"
      ]
     },
     "execution_count": 46,
     "metadata": {},
     "output_type": "execute_result"
    }
   ],
   "source": [
    "H_MB = H1_MB + H_Int_MB\n",
    "H_mb = H1_MB + Vint_mb"
   ]
  },
  {
   "cell_type": "markdown",
   "id": "87a054cb",
   "metadata": {},
   "source": [
    "2) If U<<Band-Gap, Sub-Space Hofstadter Finite-U energies converges at Hofstadter Finite-U energies.\n",
    "3) When all SP states projected to the new sub-space, Sub-Space Hofstadter Finite-U energies have to equal to Hofstadter Finite-U energies."
   ]
  },
  {
   "cell_type": "code",
   "execution_count": 47,
   "id": "c5c80789",
   "metadata": {
    "tags": []
   },
   "outputs": [
    {
     "data": {
      "text/plain": [
       "Hofstadter_Finite_U (generic function with 1 method)"
      ]
     },
     "execution_count": 47,
     "metadata": {},
     "output_type": "execute_result"
    }
   ],
   "source": [
    "@nbinclude(\"Hofstadter MB in Julia.ipynb\"; regex=r\"#.*executeme\")"
   ]
  },
  {
   "cell_type": "code",
   "execution_count": 48,
   "id": "7246b2cf",
   "metadata": {
    "tags": []
   },
   "outputs": [
    {
     "name": "stdout",
     "output_type": "stream",
     "text": [
      "[-11.783305722874747, -11.783305722874742, -11.673307821272257, -11.673307821272244, -11.673307821272244, -11.673307821272243, -11.67330782127224, -11.67330782127224, -11.673307821272234, -11.67330782127223, -11.63244877346422, -11.632448773464214, -11.632448773464208, -11.632448773464207, -11.632448773464205, -11.632448773464205, -11.632448773464203, -11.6324487734642, -11.575920984385268, -11.575920984385263, -11.569972566045514, -11.569972566045509, -11.569972566045507, -11.569972566045507, -11.569972566045502, -11.569972566045502, -11.5699725660455, -11.569972566045495, -11.528040246290535, -11.528040246290534, -11.528040246290532, -11.528040246290528, -11.528040246290528, -11.528040246290525, -11.528040246290521, -11.528040246290518, -11.483400053644058, -11.483400053644056, -11.302388549200687, -11.302388549200682, -11.302388549200682, -11.30238854920068, -11.30238854920068, -11.302388549200678, -11.302388549200678, -11.302388549200675, -11.276070971645698, -11.276070971645698, -11.276070971645698, -11.276070971645698, -11.276070971645694, -11.276070971645693, -11.27607097164569, -11.27607097164569, -11.256636968819615, -11.256636968819612]\n",
      "[-9.283305722874742, -9.283305722874736, -9.173307821272244, -9.173307821272244, -9.17330782127224, -9.173307821272239, -9.173307821272239, -9.173307821272237, -9.173307821272232, -9.173307821272228, -9.13244877346422, -9.132448773464214, -9.132448773464212, -9.132448773464208, -9.132448773464207, -9.132448773464203, -9.132448773464203, -9.1324487734642, -9.075920984385272, -9.07592098438526, -9.069972566045518, -9.06997256604551, -9.069972566045506, -9.069972566045504, -9.0699725660455, -9.069972566045498, -9.069972566045497, -9.069972566045491, -9.02804024629053, -9.028040246290528, -9.028040246290526, -9.028040246290526, -9.028040246290526, -9.028040246290525, -9.028040246290523, -9.028040246290523, -8.983400053644056, -8.983400053644054, -8.802388549200685, -8.802388549200682, -8.80238854920068, -8.802388549200678, -8.802388549200677, -8.802388549200677, -8.802388549200677, -8.802388549200673, -8.776070971645696, -8.776070971645696, -8.776070971645696, -8.776070971645694, -8.776070971645693, -8.77607097164569, -8.776070971645689, -8.776070971645687, -8.75663696881962, -8.756636968819615]\n",
      "[-9.284263259353898, -9.284263259353883, -9.207504018790042, -9.20750401878994, -9.207504018789903, -9.207504018789901, -9.207504018789862, -9.207504018789855, -9.207504018789844, -9.20750401878984, -9.177094619128166, -9.177094619128143, -9.17709461912813, -9.177094619128082, -9.177094619128063, -9.177094619128052, -9.177094619127994, -9.177094619127972, -9.130631585603131, -9.130631585603082, -9.127023826431861, -9.127023826431852, -9.12702382643179, -9.127023826431767, -9.127023826431753, -9.127023826431737, -9.127023826431715, -9.127023826431696, -9.092111745378881, -9.092111745378851, -9.092111745378809, -9.092111745378762, -9.092111745378737, -9.092111745378698, -9.092111745378684, -9.092111745378643, -9.054279957786479, -9.054279957786438, -8.946958027159143, -8.946958027159098, -8.946958027159098, -8.94695802715908, -8.94695802715908, -8.946958027159052, -8.946958027159024, -8.946958027159019, -8.930571359856181, -8.930571359856176, -8.930571359856136, -8.930571359856081, -8.930571359856067, -8.93057135985606, -8.930571359856037, -8.930571359855998, -8.921278257606158, -8.921278257605906]"
     ]
    }
   ],
   "source": [
    "# using Plots\n",
    "\n",
    "E_MB = eigenenergies(dense((H_MB+dagger(H_MB))/2))\n",
    "\n",
    "E_mb = eigenenergies(dense((H_mb+dagger(H_mb))/2))\n",
    "\n",
    "E2 = eigenenergies(dense(Hofstadter_Finite_U(Nx, Ny, 1/q, PN, U)))\n",
    "\n",
    "# print(E1-E2[1:length(E1)])\n",
    "\n",
    "# plot(1:length(E1),E1,seriestype=:scatter,markershape=:star5, markersize=6, label=\"Sub-Space\")\n",
    "# plot!(1:length(E2),E2,seriestype=:scatter,label=\"Real-Space\",legend=:topleft)\n",
    "# xlabel!(\"n\");ylabel!(\"E\")\n",
    "\n",
    "print(E_MB,'\\n', E_mb,'\\n', E2[1:size(H_mb,1)])"
   ]
  },
  {
   "cell_type": "code",
   "execution_count": null,
   "id": "7bb1d4c9-4a64-44f7-a7d1-a9abb84d501a",
   "metadata": {},
   "outputs": [],
   "source": []
  }
 ],
 "metadata": {
  "kernelspec": {
   "display_name": "Julia 1.8.1",
   "language": "julia",
   "name": "julia-1.8"
  },
  "language_info": {
   "file_extension": ".jl",
   "mimetype": "application/julia",
   "name": "julia",
   "version": "1.8.1"
  }
 },
 "nbformat": 4,
 "nbformat_minor": 5
}
