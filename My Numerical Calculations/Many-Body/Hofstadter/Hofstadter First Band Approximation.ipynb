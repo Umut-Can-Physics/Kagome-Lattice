{
 "cells": [
  {
   "cell_type": "code",
   "execution_count": 1,
   "id": "portuguese-prediction",
   "metadata": {
    "tags": []
   },
   "outputs": [
    {
     "data": {
      "text/plain": [
       "Hofstadter_SP (generic function with 1 method)"
      ]
     },
     "execution_count": 1,
     "metadata": {},
     "output_type": "execute_result"
    }
   ],
   "source": [
    "# executeme\n",
    "\n",
    "using NBInclude\n",
    "@nbinclude(\"Hofstadter Single Particle in Julia.ipynb\")"
   ]
  },
  {
   "cell_type": "code",
   "execution_count": 2,
   "id": "changed-hudson",
   "metadata": {
    "tags": []
   },
   "outputs": [],
   "source": [
    "# executeme\n",
    "\n",
    "using QuantumOptics\n",
    "\n",
    "# https://juliapackages.com/p/einsum\n",
    "using Einsum\n",
    "\n",
    "# https://github.com/Jutho/TensorOperations.jl\n",
    "# using TensorOperations\n",
    "\n",
    "using BenchmarkTools\n",
    "\n",
    "using LinearAlgebra"
   ]
  },
  {
   "cell_type": "markdown",
   "id": "1cbf7141-36bd-4ef7-9487-deb38a7b9128",
   "metadata": {},
   "source": [
    "# Initial Parameters"
   ]
  },
  {
   "cell_type": "code",
   "execution_count": 3,
   "id": "about-bones",
   "metadata": {
    "tags": []
   },
   "outputs": [],
   "source": [
    "Nx = 8; Ny = 8; N=Nx*Ny; q = Nx; cut_off = q\n",
    "PN = [0,1,2,3,4]\n",
    "U = 5;\n",
    "Ncut = cut_off;"
   ]
  },
  {
   "cell_type": "markdown",
   "id": "aa578b60-4cd3-49a9-8e3d-aabffe7d92cf",
   "metadata": {},
   "source": [
    "# Essentials Functions for Single-Particle"
   ]
  },
  {
   "cell_type": "code",
   "execution_count": 4,
   "id": "temporal-cleveland",
   "metadata": {
    "tags": []
   },
   "outputs": [],
   "source": [
    "sp_basis = NLevelBasis(N)\n",
    "sp_matrix = Hofstadter_SP(Nx, Ny, 1/q, 0);"
   ]
  },
  {
   "cell_type": "code",
   "execution_count": 5,
   "id": "imperial-crisis",
   "metadata": {
    "tags": []
   },
   "outputs": [
    {
     "data": {
      "text/plain": [
       "get_sp_op (generic function with 1 method)"
      ]
     },
     "execution_count": 5,
     "metadata": {},
     "output_type": "execute_result"
    }
   ],
   "source": [
    "# executeme\n",
    "\n",
    "function get_sp_op(sp_basis, sp_matrix)\n",
    "  \n",
    "    H = SparseOperator(sp_basis)\n",
    "\n",
    "    for m in 1:N\n",
    "        for n in 1:N\n",
    "            H += sp_matrix[m,n] * transition(sp_basis, m, n)\n",
    "        end\n",
    "    end\n",
    "    \n",
    "    return H\n",
    "end"
   ]
  },
  {
   "cell_type": "code",
   "execution_count": 6,
   "id": "likely-spank",
   "metadata": {
    "tags": []
   },
   "outputs": [],
   "source": [
    "H1 = get_sp_op(sp_basis, sp_matrix);"
   ]
  },
  {
   "cell_type": "code",
   "execution_count": 7,
   "id": "ignored-medium",
   "metadata": {
    "tags": []
   },
   "outputs": [
    {
     "data": {
      "text/plain": [
       "true"
      ]
     },
     "execution_count": 7,
     "metadata": {},
     "output_type": "execute_result"
    }
   ],
   "source": [
    "#check operator form\n",
    "eigenenergies(dense(H1)) == eigvals(sp_matrix)"
   ]
  },
  {
   "cell_type": "code",
   "execution_count": 8,
   "id": "forty-sensitivity",
   "metadata": {
    "tags": []
   },
   "outputs": [
    {
     "data": {
      "text/plain": [
       "get_sub_states (generic function with 1 method)"
      ]
     },
     "execution_count": 8,
     "metadata": {},
     "output_type": "execute_result"
    }
   ],
   "source": [
    "# executeme\n",
    "\n",
    "function get_sub_states(sp_op, cut_off)\n",
    "    \n",
    "    E0, states0 = eigenstates(dense(sp_op))\n",
    "    states = states0[1:cut_off]\n",
    "    \n",
    "    return states\n",
    "end"
   ]
  },
  {
   "cell_type": "code",
   "execution_count": 9,
   "id": "compact-brooks",
   "metadata": {
    "tags": []
   },
   "outputs": [],
   "source": [
    "sub_states = get_sub_states(H1, cut_off);"
   ]
  },
  {
   "cell_type": "code",
   "execution_count": 10,
   "id": "miniature-spending",
   "metadata": {
    "tags": []
   },
   "outputs": [
    {
     "data": {
      "text/plain": [
       "get_projector_op (generic function with 1 method)"
      ]
     },
     "execution_count": 10,
     "metadata": {},
     "output_type": "execute_result"
    }
   ],
   "source": [
    "# executeme\n",
    "\n",
    "function get_projector_op(states, basis)\n",
    "    \n",
    "    b_sub = SubspaceBasis(basis,states)\n",
    "    P = projector(b_sub, basis)\n",
    "    Pt = dagger(P)\n",
    "    \n",
    "    return b_sub, P, Pt\n",
    "end"
   ]
  },
  {
   "cell_type": "code",
   "execution_count": 11,
   "id": "molecular-bankruptcy",
   "metadata": {
    "tags": []
   },
   "outputs": [],
   "source": [
    "b_sub, P, Pt = get_projector_op(sub_states, sp_basis);"
   ]
  },
  {
   "cell_type": "code",
   "execution_count": 12,
   "id": "weighted-algorithm",
   "metadata": {
    "tags": []
   },
   "outputs": [
    {
     "data": {
      "text/plain": [
       "get_subspace_op (generic function with 1 method)"
      ]
     },
     "execution_count": 12,
     "metadata": {},
     "output_type": "execute_result"
    }
   ],
   "source": [
    "# executeme\n",
    "\n",
    "function get_subspace_op(sp_op, P, Pt)\n",
    "    return P*sp_op*Pt\n",
    "end"
   ]
  },
  {
   "cell_type": "code",
   "execution_count": 13,
   "id": "informed-macro",
   "metadata": {
    "tags": []
   },
   "outputs": [],
   "source": [
    "H1_sub = get_subspace_op(H1, P, Pt);"
   ]
  },
  {
   "cell_type": "code",
   "execution_count": 14,
   "id": "trained-humor",
   "metadata": {
    "tags": []
   },
   "outputs": [
    {
     "data": {
      "text/plain": [
       "get_num_sub_list (generic function with 1 method)"
      ]
     },
     "execution_count": 14,
     "metadata": {},
     "output_type": "execute_result"
    }
   ],
   "source": [
    "# executeme\n",
    "\n",
    "function get_num_sub_list(sp_basis, P, Pt)\n",
    "    num_sub_list = []\n",
    "    for m in 1:N\n",
    "        NM = transition(sp_basis, m, m)\n",
    "        NMP = get_subspace_op(NM, P, Pt)\n",
    "        push!(num_sub_list, NMP)\n",
    "    end\n",
    "    return num_sub_list\n",
    "end"
   ]
  },
  {
   "cell_type": "code",
   "execution_count": 15,
   "id": "cross-patrol",
   "metadata": {
    "tags": []
   },
   "outputs": [],
   "source": [
    "num_sub_list = get_num_sub_list(sp_basis,P,Pt);"
   ]
  },
  {
   "cell_type": "markdown",
   "id": "particular-surrey",
   "metadata": {},
   "source": [
    "# Essentials Functions for Many-Body"
   ]
  },
  {
   "cell_type": "code",
   "execution_count": 20,
   "id": "difficult-ground",
   "metadata": {
    "tags": []
   },
   "outputs": [
    {
     "data": {
      "text/plain": [
       "ManyBody(onebodybasis=Subspace(superbasis=NLevel(N=64), states:8), states:495)"
      ]
     },
     "execution_count": 20,
     "metadata": {},
     "output_type": "execute_result"
    }
   ],
   "source": [
    "states_mb = bosonstates(b_sub, PN) \n",
    "basis_mb = ManyBodyBasis(b_sub, states_mb)"
   ]
  },
  {
   "cell_type": "code",
   "execution_count": 21,
   "id": "virtual-bobby",
   "metadata": {
    "tags": []
   },
   "outputs": [
    {
     "data": {
      "text/plain": [
       "get_mb_op (generic function with 1 method)"
      ]
     },
     "execution_count": 21,
     "metadata": {},
     "output_type": "execute_result"
    }
   ],
   "source": [
    "# executeme\n",
    "\n",
    "function get_mb_op(basis_mb, basis, sp_op)\n",
    "    \n",
    "    Op_MB = SparseOperator(basis_mb)\n",
    "    \n",
    "    for i in 1:length(basis)\n",
    "        for j in 1:length(basis)\n",
    "            Op_MB += sp_op.data[i,j] * transition(basis_mb, i, j)\n",
    "        end\n",
    "    end\n",
    "    \n",
    "    return Op_MB\n",
    "end"
   ]
  },
  {
   "cell_type": "code",
   "execution_count": 22,
   "id": "final-reverse",
   "metadata": {
    "tags": []
   },
   "outputs": [],
   "source": [
    "H1_MB = get_mb_op(basis_mb, b_sub, H1_sub);\n",
    "# or\n",
    "# H1_mb = manybodyoperator(basis_mb, H1_sub);"
   ]
  },
  {
   "cell_type": "code",
   "execution_count": 20,
   "id": "attractive-combine",
   "metadata": {
    "tags": []
   },
   "outputs": [
    {
     "data": {
      "text/plain": [
       "get_num_mb_list (generic function with 1 method)"
      ]
     },
     "execution_count": 20,
     "metadata": {},
     "output_type": "execute_result"
    }
   ],
   "source": [
    "# executeme\n",
    "\n",
    "function get_num_mb_list(basis_mb, basis, num_sub_list)\n",
    "    \n",
    "    num_mb_list = []\n",
    "    \n",
    "    for m in 1:N\n",
    "        NMP = get_mb_op(basis_mb, basis, num_sub_list[m])\n",
    "        push!(num_mb_list, NMP)\n",
    "    end\n",
    "    \n",
    "    return num_mb_list\n",
    "end"
   ]
  },
  {
   "cell_type": "code",
   "execution_count": 21,
   "id": "advanced-edwards",
   "metadata": {
    "tags": []
   },
   "outputs": [],
   "source": [
    "num_mb_list = get_num_mb_list(basis_mb, b_sub, num_sub_list);"
   ]
  },
  {
   "cell_type": "markdown",
   "id": "d5486625-f687-4585-9027-c82368c5f81b",
   "metadata": {},
   "source": [
    "# Functions for Interaction Terms"
   ]
  },
  {
   "cell_type": "code",
   "execution_count": 22,
   "id": "better-matrix",
   "metadata": {
    "tags": []
   },
   "outputs": [
    {
     "data": {
      "text/plain": [
       "get_hubbard_int (generic function with 1 method)"
      ]
     },
     "execution_count": 22,
     "metadata": {},
     "output_type": "execute_result"
    }
   ],
   "source": [
    "function get_hubbard_int(num_op_list, basis_mb, U)\n",
    "\n",
    "    IT = SparseOperator(basis_mb)\n",
    "    \n",
    "    for m in 1:N\n",
    "        IT += U/2 * ( num_op_list[m] * num_op_list[m] - num_op_list[m] )\n",
    "    end\n",
    "    \n",
    "    return IT\n",
    "end"
   ]
  },
  {
   "cell_type": "code",
   "execution_count": 23,
   "id": "architectural-transition",
   "metadata": {
    "tags": []
   },
   "outputs": [
    {
     "data": {
      "text/plain": [
       "Operator(dim=21x21)\n",
       "  basis: ManyBody(onebodybasis=Subspace(superbasis=NLevel(N=25), states:5), states:21)\n",
       " 0.0+0.0im       0.0+0.0im      …          0.0+0.0im\n",
       " 0.0+0.0im      -0.8+0.0im                 0.0+0.0im\n",
       " 0.0+0.0im   2.0e-17+1.0e-17im             0.0+0.0im\n",
       " 0.0+0.0im  -2.0e-17-2.0e-17im             0.0+0.0im\n",
       " 0.0+0.0im  -2.0e-17+1.0e-17im             0.0+0.0im\n",
       " 0.0+0.0im   1.0e-17-2.0e-17im  …          0.0+0.0im\n",
       " 0.0+0.0im       0.0+0.0im         -0.00765132-0.00998513im\n",
       " 0.0+0.0im       0.0+0.0im            0.010804+7.85542e-5im\n",
       " 0.0+0.0im       0.0+0.0im         -0.00598331+0.0251554im\n",
       " 0.0+0.0im       0.0+0.0im         -0.00737808+0.0132231im\n",
       " 0.0+0.0im       0.0+0.0im      …   0.00714496+0.0067303im\n",
       " 0.0+0.0im       0.0+0.0im           0.0148699-0.0296539im\n",
       " 0.0+0.0im       0.0+0.0im          0.00361681+0.0258888im\n",
       " 0.0+0.0im       0.0+0.0im          0.00974423+0.0504251im\n",
       " 0.0+0.0im       0.0+0.0im          -0.0178846+0.0188758im\n",
       " 0.0+0.0im       0.0+0.0im      …    0.0121596-0.0283908im\n",
       " 0.0+0.0im       0.0+0.0im          0.00763816+0.013543im\n",
       " 0.0+0.0im       0.0+0.0im         -0.00023071+0.0154338im\n",
       " 0.0+0.0im       0.0+0.0im           -0.011307-0.0114119im\n",
       " 0.0+0.0im       0.0+0.0im          0.00495314-0.0145648im\n",
       " 0.0+0.0im       0.0+0.0im      …     -1.47814+0.0im"
      ]
     },
     "execution_count": 23,
     "metadata": {},
     "output_type": "execute_result"
    }
   ],
   "source": [
    "H_Int_MB = get_hubbard_int(num_mb_list, basis_mb, U);"
   ]
  },
  {
   "cell_type": "code",
   "execution_count": 24,
   "id": "handed-milton",
   "metadata": {
    "tags": []
   },
   "outputs": [
    {
     "data": {
      "text/plain": [
       "get_hubbard_int2 (generic function with 1 method)"
      ]
     },
     "execution_count": 24,
     "metadata": {},
     "output_type": "execute_result"
    }
   ],
   "source": [
    "function get_hubbard_int2(basis, P, Pt)\n",
    "    \n",
    "    #@btime begin\n",
    "    @time begin\n",
    "    basis2 = basis ⊗ basis\n",
    "\n",
    "    # interaction : at_i at_i a_i a_i = at_i a_i at_i a_i - at_i a_i = n_i n_i - n_i\n",
    "\n",
    "    Vint = SparseOperator(basis2)\n",
    "\n",
    "    for n in 1:N\n",
    "        Vint += U/2*transition(basis,n,n)⊗transition(basis,n,n)\n",
    "    end\n",
    "\n",
    "    Vint_sub = (P⊗P)*Vint*(Pt⊗Pt)\n",
    "\n",
    "    Vint_mb = manybodyoperator(basis_mb, Vint_sub)\n",
    "    end\n",
    "    \n",
    "    return Vint_mb\n",
    "end"
   ]
  },
  {
   "cell_type": "code",
   "execution_count": 25,
   "id": "julian-candle",
   "metadata": {
    "tags": []
   },
   "outputs": [
    {
     "name": "stdout",
     "output_type": "stream",
     "text": [
      "  0.471054 seconds (1.48 M allocations: 113.017 MiB, 8.22% gc time, 74.26% compilation time)\n"
     ]
    }
   ],
   "source": [
    "H_Int_MB2 = get_hubbard_int2(sp_basis, P, Pt);"
   ]
  },
  {
   "cell_type": "code",
   "execution_count": 26,
   "id": "resistant-present",
   "metadata": {
    "tags": []
   },
   "outputs": [
    {
     "data": {
      "text/plain": [
       "get_hubbard_int3 (generic function with 1 method)"
      ]
     },
     "execution_count": 26,
     "metadata": {},
     "output_type": "execute_result"
    }
   ],
   "source": [
    "# executeme\n",
    "\n",
    "function get_hubbard_int3(P, Pt, b_sub, cut_off)\n",
    "    @time begin\n",
    "   \n",
    "    P1 = P.data\n",
    "    P1t = Pt.data\n",
    "\n",
    "    @einsum P4[k,l,m,n] := P1[k,i] * P1[l,i] * P1t[i,m] * P1t[i,n]\n",
    "\n",
    "    b2_sub = b_sub ⊗ b_sub\n",
    "\n",
    "    P4re = reshape(P4, cut_off^2, cut_off^2)\n",
    "\n",
    "    Vint_bsub2 = SparseOperator(b2_sub,U/2*P4re)\n",
    "    \n",
    "    Vint_bsub2_mb = manybodyoperator(basis_mb, Vint_bsub2)\n",
    "    end\n",
    "    \n",
    "    return Vint_bsub2_mb\n",
    "end"
   ]
  },
  {
   "cell_type": "code",
   "execution_count": 27,
   "id": "sufficient-defensive",
   "metadata": {
    "tags": []
   },
   "outputs": [
    {
     "name": "stdout",
     "output_type": "stream",
     "text": [
      "  0.440823 seconds (1.45 M allocations: 94.906 MiB, 7.00% gc time, 80.09% compilation time)\n"
     ]
    }
   ],
   "source": [
    "H_Int_MB3 = get_hubbard_int3(P, Pt, b_sub, cut_off);"
   ]
  },
  {
   "cell_type": "code",
   "execution_count": 28,
   "id": "coral-mineral",
   "metadata": {
    "tags": []
   },
   "outputs": [
    {
     "data": {
      "text/plain": [
       "get_hubbard_int4 (generic function with 1 method)"
      ]
     },
     "execution_count": 28,
     "metadata": {},
     "output_type": "execute_result"
    }
   ],
   "source": [
    "function get_hubbard_int4(P, Pt, b_sub, cut_off)\n",
    "    \n",
    "    bcut_mb, bcut = get_Bosonic_MB_Basis(cut_off, PN)\n",
    "\n",
    "    @time begin\n",
    "    P1 = P.data\n",
    "    P1t = Pt.data;\n",
    "\n",
    "    @einsum P4[k,l,m,n] := P1[k,i] * P1[l,i] * P1t[i,m] * P1t[i,n]\n",
    "\n",
    "    b2cut = bcut ⊗ bcut\n",
    "\n",
    "    P4re = reshape(P4, cut_off^2, cut_off^2)\n",
    "\n",
    "    Vint_bsub2 = SparseOperator(b2cut, U/2*P4re)\n",
    "        \n",
    "    Vint_mb_cut = manybodyoperator(bcut_mb, Vint_bsub2)\n",
    "    end\n",
    "    \n",
    "    return Vint_mb_cut\n",
    "end"
   ]
  },
  {
   "cell_type": "code",
   "execution_count": 16,
   "id": "3e7c4f06-8569-4d41-9568-f47ba461b353",
   "metadata": {
    "tags": []
   },
   "outputs": [
    {
     "data": {
      "text/plain": [
       "Hofstadter_Finite_U (generic function with 1 method)"
      ]
     },
     "execution_count": 16,
     "metadata": {},
     "output_type": "execute_result"
    }
   ],
   "source": [
    "@nbinclude(\"Hofstadter MB in Julia.ipynb\"; regex=r\"#.*executeme\")"
   ]
  },
  {
   "cell_type": "code",
   "execution_count": 30,
   "id": "korean-costume",
   "metadata": {
    "tags": []
   },
   "outputs": [
    {
     "name": "stdout",
     "output_type": "stream",
     "text": [
      "  0.214436 seconds (734.97 k allocations: 59.874 MiB, 15.06% gc time, 63.03% compilation time)\n"
     ]
    }
   ],
   "source": [
    "H_Int_MB4 = get_hubbard_int4(P, Pt, b_sub, cut_off);"
   ]
  },
  {
   "cell_type": "code",
   "execution_count": 17,
   "id": "neutral-tackle",
   "metadata": {
    "tags": []
   },
   "outputs": [
    {
     "data": {
      "text/plain": [
       "get_hubbard_int5 (generic function with 1 method)"
      ]
     },
     "execution_count": 17,
     "metadata": {},
     "output_type": "execute_result"
    }
   ],
   "source": [
    "function get_hubbard_int5(P, Pt, b_sub, cut_off)\n",
    "    \n",
    "    bcut_mb, bcut = get_Bosonic_MB_Basis(cut_off, PN)\n",
    "    \n",
    "    @time begin\n",
    "    P1 = P.data\n",
    "    P1t = Pt.data;\n",
    "\n",
    "    @einsum P4[k,l,m,n] := P1[k,i] * P1[l,i] * P1t[i,m] * P1t[i,n]\n",
    "\n",
    "    Vint_mb_cut = SparseOperator(bcut_mb)\n",
    "        \n",
    "    for k in 1:Ncut\n",
    "        for l in 1:Ncut\n",
    "            for m in 1:Ncut\n",
    "                for n in 1:Ncut\n",
    "                    a1t = create(bcut_mb, k)\n",
    "                    a2t = create(bcut_mb, l)\n",
    "                    a2  = destroy(bcut_mb, m)      \n",
    "                    a1  = destroy(bcut_mb, n)      \n",
    "                    Vint_mb_cut += U/2*P4[k,l,m,n]*a1t*a2t*a2*a1\n",
    "                end\n",
    "            end\n",
    "        end\n",
    "    end\n",
    "    end\n",
    "    \n",
    "    return Vint_mb_cut\n",
    "end"
   ]
  },
  {
   "cell_type": "code",
   "execution_count": 18,
   "id": "dutch-philosophy",
   "metadata": {
    "tags": []
   },
   "outputs": [
    {
     "name": "stdout",
     "output_type": "stream",
     "text": [
      "  8.988675 seconds (701.19 k allocations: 3.376 GiB, 3.84% gc time, 3.39% compilation time)\n"
     ]
    }
   ],
   "source": [
    "H_Int_MB5 = get_hubbard_int5(P, Pt, b_sub, cut_off);"
   ]
  },
  {
   "cell_type": "markdown",
   "id": "851a46f6-53fc-473c-b8c3-b056cedd4120",
   "metadata": {},
   "source": [
    "# Controlling Many-Body Function in QoJulia Freamwork"
   ]
  },
  {
   "cell_type": "code",
   "execution_count": 33,
   "id": "civil-constitutional",
   "metadata": {
    "tags": []
   },
   "outputs": [
    {
     "data": {
      "text/plain": [
       "manybodyoperator_2_Hubbard (generic function with 1 method)"
      ]
     },
     "execution_count": 33,
     "metadata": {},
     "output_type": "execute_result"
    }
   ],
   "source": [
    "function manybodyoperator_2_Hubbard(basis::ManyBodyBasis, op::SparseOpType)\n",
    "    N = length(basis)\n",
    "    S = length(basis.onebodybasis)\n",
    "    result = SparseOperator(basis)\n",
    "    occupations = basis.occupations\n",
    "    rows = QuantumOpticsBase.rowvals(op.data)\n",
    "    values = QuantumOpticsBase.nonzeros(op.data)\n",
    "    @inbounds for column=1:S^2, j in QuantumOpticsBase.nzrange(op.data, column)\n",
    "        row = rows[j]\n",
    "        value = values[j]\n",
    "        index = Tuple(CartesianIndices((S, S, S, S))[(column-1)*S^2 + row])\n",
    "        for m=1:N, n=1:N\n",
    "            # println(\"row:\", row, \" column:\"column, ind_left)\n",
    "            C = QuantumOpticsBase.coefficient(occupations[m], occupations[n], index[1:2], index[3:4])\n",
    "            if C!=0.\n",
    "                result.data[m,n] += C*value\n",
    "            end\n",
    "        end\n",
    "    end\n",
    "    return result\n",
    "end"
   ]
  },
  {
   "cell_type": "markdown",
   "id": "c8b08be1-46f8-4a27-9f5f-efd703765ab4",
   "metadata": {},
   "source": [
    "# Checking Interaction Terms"
   ]
  },
  {
   "cell_type": "code",
   "execution_count": 34,
   "id": "still-yorkshire",
   "metadata": {
    "tags": []
   },
   "outputs": [
    {
     "data": {
      "text/plain": [
       "true"
      ]
     },
     "execution_count": 34,
     "metadata": {},
     "output_type": "execute_result"
    }
   ],
   "source": [
    "isapprox( H_Int_MB2, H_Int_MB3 )"
   ]
  },
  {
   "cell_type": "code",
   "execution_count": 35,
   "id": "unlike-farmer",
   "metadata": {
    "tags": []
   },
   "outputs": [
    {
     "data": {
      "text/plain": [
       "true"
      ]
     },
     "execution_count": 35,
     "metadata": {},
     "output_type": "execute_result"
    }
   ],
   "source": [
    "isapprox( H_Int_MB4, H_Int_MB5 )"
   ]
  },
  {
   "cell_type": "code",
   "execution_count": 36,
   "id": "eleven-contents",
   "metadata": {
    "tags": []
   },
   "outputs": [
    {
     "data": {
      "text/plain": [
       "true"
      ]
     },
     "execution_count": 36,
     "metadata": {},
     "output_type": "execute_result"
    }
   ],
   "source": [
    "isapprox( H_Int_MB4.data, H_Int_MB5.data )"
   ]
  },
  {
   "cell_type": "code",
   "execution_count": 37,
   "id": "dangerous-civilian",
   "metadata": {
    "tags": []
   },
   "outputs": [
    {
     "data": {
      "text/plain": [
       "true"
      ]
     },
     "execution_count": 37,
     "metadata": {},
     "output_type": "execute_result"
    }
   ],
   "source": [
    "isapprox( H_Int_MB3.data , H_Int_MB4.data )"
   ]
  },
  {
   "cell_type": "markdown",
   "id": "865cc1d6-3246-4f5a-9c75-dfe67eab2040",
   "metadata": {},
   "source": [
    "# Constructing Total Hamiltonians "
   ]
  },
  {
   "cell_type": "code",
   "execution_count": 38,
   "id": "nonprofit-district",
   "metadata": {
    "tags": []
   },
   "outputs": [],
   "source": [
    "H_MB = H1_MB + H_Int_MB\n",
    "H_MB2 = H1_MB + H_Int_MB2\n",
    "H_MB3 = H1_MB + H_Int_MB3\n",
    "H_MB4 = H1_MB.data + H_Int_MB4.data;"
   ]
  },
  {
   "cell_type": "code",
   "execution_count": 23,
   "id": "technical-technology",
   "metadata": {
    "tags": []
   },
   "outputs": [],
   "source": [
    "bcut_mb, bcut = get_Bosonic_MB_Basis(cut_off,PN)\n",
    "H1cut = SparseOperator(bcut_mb)\n",
    "H1cut.data = H1_MB.data\n",
    "H1_MB\n",
    "\n",
    "H_MB5 = H1cut + H_Int_MB5;"
   ]
  },
  {
   "cell_type": "markdown",
   "id": "3621ef4d-c939-412b-bd76-85641f65f6c3",
   "metadata": {},
   "source": [
    "# Exact Diagonalization"
   ]
  },
  {
   "cell_type": "code",
   "execution_count": 42,
   "id": "running-output",
   "metadata": {
    "tags": []
   },
   "outputs": [
    {
     "name": "stdout",
     "output_type": "stream",
     "text": [
      "[-5.930026862496533, -5.930026862496531, -5.930026862496529, -5.930026862496529, -5.9300268624965256]\n",
      "[-5.930026862496533, -5.93002686249653, -5.930026862496529, -5.930026862496528, -5.9300268624965256]\n",
      "[-5.93002686249653, -5.930026862496529, -5.930026862496528, -5.930026862496527, -5.9300268624965256]\n",
      "[-5.9308125874564865, -5.930812587456484, -5.930812587456456, -5.930812587456449, -5.930812587456432]"
     ]
    }
   ],
   "source": [
    "E = eigenenergies(dense((H_MB+dagger(H_MB))/2))\n",
    "\n",
    "E0 = eigenenergies(dense(Hofstadter_Finite_U(Nx, Ny, 1/q, PN, U)))\n",
    "\n",
    "E2 = eigenenergies(dense((H_MB2+dagger(H_MB2))/2))\n",
    "\n",
    "E3 = eigenenergies(dense((H_MB3+dagger(H_MB3))/2))\n",
    "\n",
    "E5 = eigenenergies(dense((H_MB5+dagger(H_MB5))/2))\n",
    "\n",
    "print(E5[1:cut_off], \"\\n\", \n",
    "      E2[1:cut_off], \"\\n\", \n",
    "      E3[1:cut_off], \"\\n\",\n",
    "      E0[1:cut_off])"
   ]
  },
  {
   "cell_type": "markdown",
   "id": "3f1b1096-6ac2-4940-9e20-a7b79871a0a7",
   "metadata": {},
   "source": [
    "# Fastest Interaction Function"
   ]
  },
  {
   "cell_type": "code",
   "execution_count": 26,
   "id": "436255b0-474b-4d97-8672-a458428a7a3d",
   "metadata": {
    "tags": []
   },
   "outputs": [
    {
     "data": {
      "text/plain": [
       "get_energies (generic function with 1 method)"
      ]
     },
     "execution_count": 26,
     "metadata": {},
     "output_type": "execute_result"
    }
   ],
   "source": [
    "using DataFrames\n",
    "\n",
    "E5_states = eigenstates(dense(dense((H_MB5+dagger(H_MB5))/2)))\n",
    "\n",
    "function get_energies(pn, states, basis)\n",
    "    PN_Energies = Array{Float64}(undef, length(states[1]), 2)\n",
    "    for i in 1:length(states[1])\n",
    "        PN_Energies[i] = round(expect(number(basis), states[2][i])) #expected values (first column)\n",
    "        PN_Energies[i,2] = states[1][i] #eigen-values (second column)\n",
    "    end\n",
    "    df = DataFrame(PN_Energies, :auto)\n",
    "    df = filter(row -> (row.x1 == pn),  df)\n",
    "    \n",
    "    return df\n",
    "end"
   ]
  },
  {
   "cell_type": "code",
   "execution_count": 27,
   "id": "8cf9a9c2-6ef2-4bb2-b82f-461c00d1a69b",
   "metadata": {
    "tags": []
   },
   "outputs": [
    {
     "data": {
      "text/html": [
       "<div><div style = \"float: left;\"><span>36×2 DataFrame</span></div><div style = \"float: right;\"><span style = \"font-style: italic;\">11 rows omitted</span></div><div style = \"clear: both;\"></div></div><div class = \"data-frame\" style = \"overflow-x: scroll;\"><table class = \"data-frame\" style = \"margin-bottom: 6px;\"><thead><tr class = \"header\"><th class = \"rowNumber\" style = \"font-weight: bold; text-align: right;\">Row</th><th style = \"text-align: left;\">x1</th><th style = \"text-align: left;\">x2</th></tr><tr class = \"subheader headerLastRow\"><th class = \"rowNumber\" style = \"font-weight: bold; text-align: right;\"></th><th title = \"Float64\" style = \"text-align: left;\">Float64</th><th title = \"Float64\" style = \"text-align: left;\">Float64</th></tr></thead><tbody><tr><td class = \"rowNumber\" style = \"font-weight: bold; text-align: right;\">1</td><td style = \"text-align: right;\">2.0</td><td style = \"text-align: right;\">-6.5813</td></tr><tr><td class = \"rowNumber\" style = \"font-weight: bold; text-align: right;\">2</td><td style = \"text-align: right;\">2.0</td><td style = \"text-align: right;\">-6.5813</td></tr><tr><td class = \"rowNumber\" style = \"font-weight: bold; text-align: right;\">3</td><td style = \"text-align: right;\">2.0</td><td style = \"text-align: right;\">-6.5813</td></tr><tr><td class = \"rowNumber\" style = \"font-weight: bold; text-align: right;\">4</td><td style = \"text-align: right;\">2.0</td><td style = \"text-align: right;\">-6.5813</td></tr><tr><td class = \"rowNumber\" style = \"font-weight: bold; text-align: right;\">5</td><td style = \"text-align: right;\">2.0</td><td style = \"text-align: right;\">-6.58122</td></tr><tr><td class = \"rowNumber\" style = \"font-weight: bold; text-align: right;\">6</td><td style = \"text-align: right;\">2.0</td><td style = \"text-align: right;\">-6.58122</td></tr><tr><td class = \"rowNumber\" style = \"font-weight: bold; text-align: right;\">7</td><td style = \"text-align: right;\">2.0</td><td style = \"text-align: right;\">-6.58122</td></tr><tr><td class = \"rowNumber\" style = \"font-weight: bold; text-align: right;\">8</td><td style = \"text-align: right;\">2.0</td><td style = \"text-align: right;\">-6.58122</td></tr><tr><td class = \"rowNumber\" style = \"font-weight: bold; text-align: right;\">9</td><td style = \"text-align: right;\">2.0</td><td style = \"text-align: right;\">-6.58086</td></tr><tr><td class = \"rowNumber\" style = \"font-weight: bold; text-align: right;\">10</td><td style = \"text-align: right;\">2.0</td><td style = \"text-align: right;\">-6.58086</td></tr><tr><td class = \"rowNumber\" style = \"font-weight: bold; text-align: right;\">11</td><td style = \"text-align: right;\">2.0</td><td style = \"text-align: right;\">-6.58086</td></tr><tr><td class = \"rowNumber\" style = \"font-weight: bold; text-align: right;\">12</td><td style = \"text-align: right;\">2.0</td><td style = \"text-align: right;\">-6.58086</td></tr><tr><td class = \"rowNumber\" style = \"font-weight: bold; text-align: right;\">13</td><td style = \"text-align: right;\">2.0</td><td style = \"text-align: right;\">-6.58086</td></tr><tr><td style = \"text-align: right;\">&vellip;</td><td style = \"text-align: right;\">&vellip;</td><td style = \"text-align: right;\">&vellip;</td></tr><tr><td class = \"rowNumber\" style = \"font-weight: bold; text-align: right;\">25</td><td style = \"text-align: right;\">2.0</td><td style = \"text-align: right;\">-6.26927</td></tr><tr><td class = \"rowNumber\" style = \"font-weight: bold; text-align: right;\">26</td><td style = \"text-align: right;\">2.0</td><td style = \"text-align: right;\">-6.26927</td></tr><tr><td class = \"rowNumber\" style = \"font-weight: bold; text-align: right;\">27</td><td style = \"text-align: right;\">2.0</td><td style = \"text-align: right;\">-6.26927</td></tr><tr><td class = \"rowNumber\" style = \"font-weight: bold; text-align: right;\">28</td><td style = \"text-align: right;\">2.0</td><td style = \"text-align: right;\">-6.26927</td></tr><tr><td class = \"rowNumber\" style = \"font-weight: bold; text-align: right;\">29</td><td style = \"text-align: right;\">2.0</td><td style = \"text-align: right;\">-6.26927</td></tr><tr><td class = \"rowNumber\" style = \"font-weight: bold; text-align: right;\">30</td><td style = \"text-align: right;\">2.0</td><td style = \"text-align: right;\">-6.26927</td></tr><tr><td class = \"rowNumber\" style = \"font-weight: bold; text-align: right;\">31</td><td style = \"text-align: right;\">2.0</td><td style = \"text-align: right;\">-6.26927</td></tr><tr><td class = \"rowNumber\" style = \"font-weight: bold; text-align: right;\">32</td><td style = \"text-align: right;\">2.0</td><td style = \"text-align: right;\">-6.26927</td></tr><tr><td class = \"rowNumber\" style = \"font-weight: bold; text-align: right;\">33</td><td style = \"text-align: right;\">2.0</td><td style = \"text-align: right;\">-6.25908</td></tr><tr><td class = \"rowNumber\" style = \"font-weight: bold; text-align: right;\">34</td><td style = \"text-align: right;\">2.0</td><td style = \"text-align: right;\">-6.25908</td></tr><tr><td class = \"rowNumber\" style = \"font-weight: bold; text-align: right;\">35</td><td style = \"text-align: right;\">2.0</td><td style = \"text-align: right;\">-6.25908</td></tr><tr><td class = \"rowNumber\" style = \"font-weight: bold; text-align: right;\">36</td><td style = \"text-align: right;\">2.0</td><td style = \"text-align: right;\">-6.25908</td></tr></tbody></table></div>"
      ],
      "text/latex": [
       "\\begin{tabular}{r|cc}\n",
       "\t& x1 & x2\\\\\n",
       "\t\\hline\n",
       "\t& Float64 & Float64\\\\\n",
       "\t\\hline\n",
       "\t1 & 2.0 & -6.5813 \\\\\n",
       "\t2 & 2.0 & -6.5813 \\\\\n",
       "\t3 & 2.0 & -6.5813 \\\\\n",
       "\t4 & 2.0 & -6.5813 \\\\\n",
       "\t5 & 2.0 & -6.58122 \\\\\n",
       "\t6 & 2.0 & -6.58122 \\\\\n",
       "\t7 & 2.0 & -6.58122 \\\\\n",
       "\t8 & 2.0 & -6.58122 \\\\\n",
       "\t9 & 2.0 & -6.58086 \\\\\n",
       "\t10 & 2.0 & -6.58086 \\\\\n",
       "\t11 & 2.0 & -6.58086 \\\\\n",
       "\t12 & 2.0 & -6.58086 \\\\\n",
       "\t13 & 2.0 & -6.58086 \\\\\n",
       "\t14 & 2.0 & -6.58086 \\\\\n",
       "\t15 & 2.0 & -6.58086 \\\\\n",
       "\t16 & 2.0 & -6.58086 \\\\\n",
       "\t17 & 2.0 & -6.5804 \\\\\n",
       "\t18 & 2.0 & -6.5804 \\\\\n",
       "\t19 & 2.0 & -6.5804 \\\\\n",
       "\t20 & 2.0 & -6.5804 \\\\\n",
       "\t21 & 2.0 & -6.27957 \\\\\n",
       "\t22 & 2.0 & -6.27957 \\\\\n",
       "\t23 & 2.0 & -6.27957 \\\\\n",
       "\t24 & 2.0 & -6.27957 \\\\\n",
       "\t25 & 2.0 & -6.26927 \\\\\n",
       "\t26 & 2.0 & -6.26927 \\\\\n",
       "\t27 & 2.0 & -6.26927 \\\\\n",
       "\t28 & 2.0 & -6.26927 \\\\\n",
       "\t29 & 2.0 & -6.26927 \\\\\n",
       "\t30 & 2.0 & -6.26927 \\\\\n",
       "\t$\\dots$ & $\\dots$ & $\\dots$ \\\\\n",
       "\\end{tabular}\n"
      ],
      "text/plain": [
       "\u001b[1m36×2 DataFrame\u001b[0m\n",
       "\u001b[1m Row \u001b[0m│\u001b[1m x1      \u001b[0m\u001b[1m x2       \u001b[0m\n",
       "     │\u001b[90m Float64 \u001b[0m\u001b[90m Float64  \u001b[0m\n",
       "─────┼───────────────────\n",
       "   1 │     2.0  -6.5813\n",
       "   2 │     2.0  -6.5813\n",
       "   3 │     2.0  -6.5813\n",
       "   4 │     2.0  -6.5813\n",
       "   5 │     2.0  -6.58122\n",
       "   6 │     2.0  -6.58122\n",
       "   7 │     2.0  -6.58122\n",
       "   8 │     2.0  -6.58122\n",
       "   9 │     2.0  -6.58086\n",
       "  10 │     2.0  -6.58086\n",
       "  11 │     2.0  -6.58086\n",
       "  ⋮  │    ⋮        ⋮\n",
       "  27 │     2.0  -6.26927\n",
       "  28 │     2.0  -6.26927\n",
       "  29 │     2.0  -6.26927\n",
       "  30 │     2.0  -6.26927\n",
       "  31 │     2.0  -6.26927\n",
       "  32 │     2.0  -6.26927\n",
       "  33 │     2.0  -6.25908\n",
       "  34 │     2.0  -6.25908\n",
       "  35 │     2.0  -6.25908\n",
       "  36 │     2.0  -6.25908\n",
       "\u001b[36m          15 rows omitted\u001b[0m"
      ]
     },
     "execution_count": 27,
     "metadata": {},
     "output_type": "execute_result"
    }
   ],
   "source": [
    "get_energies(2.0, E5_states, bcut_mb)"
   ]
  },
  {
   "cell_type": "code",
   "execution_count": null,
   "id": "c0a85edf-3a72-403b-b8d6-2ed6faf0e36f",
   "metadata": {},
   "outputs": [],
   "source": []
  }
 ],
 "metadata": {
  "kernelspec": {
   "display_name": "Julia 1.8.1",
   "language": "julia",
   "name": "julia-1.8"
  },
  "language_info": {
   "file_extension": ".jl",
   "mimetype": "application/julia",
   "name": "julia",
   "version": "1.8.1"
  }
 },
 "nbformat": 4,
 "nbformat_minor": 5
}
