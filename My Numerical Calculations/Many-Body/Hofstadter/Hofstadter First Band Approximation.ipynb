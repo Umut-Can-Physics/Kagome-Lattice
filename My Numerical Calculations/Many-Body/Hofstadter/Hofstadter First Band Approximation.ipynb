{
 "cells": [
  {
   "cell_type": "code",
   "execution_count": 1,
   "id": "portuguese-prediction",
   "metadata": {
    "tags": []
   },
   "outputs": [],
   "source": [
    "using NBInclude\n",
    "@nbinclude(\"Hofstadter Single Particle in Julia.ipynb\")\n",
    "@nbinclude(joinpath(\"..\",\"First Band Approximation Functions.ipynb\"));"
   ]
  },
  {
   "cell_type": "markdown",
   "id": "1cbf7141-36bd-4ef7-9487-deb38a7b9128",
   "metadata": {
    "tags": []
   },
   "source": [
    "# Initial Parameters"
   ]
  },
  {
   "cell_type": "code",
   "execution_count": 2,
   "id": "about-bones",
   "metadata": {
    "tags": []
   },
   "outputs": [
    {
     "name": "stdout",
     "output_type": "stream",
     "text": [
      "Magnetic flux per unit-cell:0.1\n",
      " Number of flux quanta:8"
     ]
    }
   ],
   "source": [
    "Nx = 8; Ny = 10; N=Nx*Ny; p = 1; q = Ny; cut_off = Nx;\n",
    "PN = [0,1,2,3];\n",
    "U = 2;\n",
    "print(\"Magnetic flux per unit-cell:\",p/q,\"\\n Number of flux quanta:\",Nx)"
   ]
  },
  {
   "cell_type": "markdown",
   "id": "aa578b60-4cd3-49a9-8e3d-aabffe7d92cf",
   "metadata": {
    "tags": []
   },
   "source": [
    "# Single-Particle"
   ]
  },
  {
   "cell_type": "code",
   "execution_count": 3,
   "id": "imperial-crisis",
   "metadata": {
    "tags": []
   },
   "outputs": [
    {
     "data": {
      "text/latex": [
       "Compute the single-particle operator from single-particle matrix.\n",
       "\n",
       "\\paragraph{Arguments}\n",
       "\\begin{itemize}\n",
       "\\item \\texttt{sp\\_basis::NLevelBasis}: Single-Particle basis.\n",
       "\n",
       "\n",
       "\\item \\texttt{N::Integer}: The total site number.\n",
       "\n",
       "\n",
       "\\item \\texttt{sp\\_matrix::Matrix}: Hopping phases matrix from any model.\n",
       "\n",
       "\\end{itemize}\n"
      ],
      "text/markdown": [
       "Compute the single-particle operator from single-particle matrix.\n",
       "\n",
       "#### Arguments\n",
       "\n",
       "  * `sp_basis::NLevelBasis`: Single-Particle basis.\n",
       "  * `N::Integer`: The total site number.\n",
       "  * `sp_matrix::Matrix`: Hopping phases matrix from any model.\n"
      ],
      "text/plain": [
       "  Compute the single-particle operator from single-particle matrix.\n",
       "\n",
       "\u001b[1m  Arguments\u001b[22m\n",
       "\u001b[1m  -----------\u001b[22m\n",
       "\n",
       "    •  \u001b[36msp_basis::NLevelBasis\u001b[39m: Single-Particle basis.\n",
       "\n",
       "    •  \u001b[36mN::Integer\u001b[39m: The total site number.\n",
       "\n",
       "    •  \u001b[36msp_matrix::Matrix\u001b[39m: Hopping phases matrix from any model."
      ]
     },
     "execution_count": 3,
     "metadata": {},
     "output_type": "execute_result"
    }
   ],
   "source": [
    "@doc get_sp_op"
   ]
  },
  {
   "cell_type": "code",
   "execution_count": 4,
   "id": "temporal-cleveland",
   "metadata": {
    "tags": []
   },
   "outputs": [],
   "source": [
    "sp_basis = NLevelBasis(N)\n",
    "periodicity = 0\n",
    "sp_matrix = Hofstadter_SP(Nx, Ny, p/q, periodicity);"
   ]
  },
  {
   "cell_type": "code",
   "execution_count": 5,
   "id": "likely-spank",
   "metadata": {
    "tags": []
   },
   "outputs": [],
   "source": [
    "H1 = get_sp_op(sp_basis, N, sp_matrix);"
   ]
  },
  {
   "cell_type": "code",
   "execution_count": 6,
   "id": "ignored-medium",
   "metadata": {
    "tags": []
   },
   "outputs": [
    {
     "data": {
      "text/plain": [
       "true"
      ]
     },
     "execution_count": 6,
     "metadata": {},
     "output_type": "execute_result"
    }
   ],
   "source": [
    "using LinearAlgebra\n",
    "eigenenergies(dense(H1)) == eigvals(sp_matrix) # true\n",
    "#show(stdout, \"text/plain\", eigvals(sp_matrix))"
   ]
  },
  {
   "cell_type": "code",
   "execution_count": 7,
   "id": "e2e9066d-37c3-4286-b5fa-db560eacf4c0",
   "metadata": {
    "tags": []
   },
   "outputs": [
    {
     "data": {
      "text/latex": [
       "Compute the first eigen-states in a given number.\n",
       "\n",
       "\\paragraph{Arguments}\n",
       "\\begin{itemize}\n",
       "\\item \\texttt{sp\\_op::get\\_sp\\_op}: Single-particle operator.\n",
       "\n",
       "\n",
       "\\item \\texttt{cut\\_off::Int}: Limit value of eigen-state index.\n",
       "\n",
       "\\end{itemize}\n"
      ],
      "text/markdown": [
       "Compute the first eigen-states in a given number.\n",
       "\n",
       "#### Arguments\n",
       "\n",
       "  * `sp_op::get_sp_op`: Single-particle operator.\n",
       "  * `cut_off::Int`: Limit value of eigen-state index.\n"
      ],
      "text/plain": [
       "  Compute the first eigen-states in a given number.\n",
       "\n",
       "\u001b[1m  Arguments\u001b[22m\n",
       "\u001b[1m  -----------\u001b[22m\n",
       "\n",
       "    •  \u001b[36msp_op::get_sp_op\u001b[39m: Single-particle operator.\n",
       "\n",
       "    •  \u001b[36mcut_off::Int\u001b[39m: Limit value of eigen-state index."
      ]
     },
     "execution_count": 7,
     "metadata": {},
     "output_type": "execute_result"
    }
   ],
   "source": [
    "@doc get_sub_states"
   ]
  },
  {
   "cell_type": "code",
   "execution_count": 8,
   "id": "compact-brooks",
   "metadata": {
    "tags": []
   },
   "outputs": [],
   "source": [
    "sub_states = get_sub_states(H1, cut_off);"
   ]
  },
  {
   "cell_type": "code",
   "execution_count": 9,
   "id": "d644861d-5ac6-4597-bfdb-9df51e96c229",
   "metadata": {
    "tags": []
   },
   "outputs": [
    {
     "data": {
      "text/latex": [
       "Compute sub-space basis, projection and comlex conjugate of projection operator.\n",
       "\n",
       "\\paragraph{Arguments}\n",
       "\\begin{itemize}\n",
       "\\item \\texttt{states::get\\_sub\\_states}: Eigen-states of the sub-space.\n",
       "\n",
       "\n",
       "\\item \\texttt{basis::NLevelBasis}: Single-particle basis.\n",
       "\n",
       "\\end{itemize}\n"
      ],
      "text/markdown": [
       "Compute sub-space basis, projection and comlex conjugate of projection operator.\n",
       "\n",
       "#### Arguments\n",
       "\n",
       "  * `states::get_sub_states`: Eigen-states of the sub-space.\n",
       "  * `basis::NLevelBasis`: Single-particle basis.\n"
      ],
      "text/plain": [
       "  Compute sub-space basis, projection and comlex conjugate of projection\n",
       "  operator.\n",
       "\n",
       "\u001b[1m  Arguments\u001b[22m\n",
       "\u001b[1m  -----------\u001b[22m\n",
       "\n",
       "    •  \u001b[36mstates::get_sub_states\u001b[39m: Eigen-states of the sub-space.\n",
       "\n",
       "    •  \u001b[36mbasis::NLevelBasis\u001b[39m: Single-particle basis."
      ]
     },
     "execution_count": 9,
     "metadata": {},
     "output_type": "execute_result"
    }
   ],
   "source": [
    "@doc get_projector_op"
   ]
  },
  {
   "cell_type": "code",
   "execution_count": 10,
   "id": "molecular-bankruptcy",
   "metadata": {
    "tags": []
   },
   "outputs": [],
   "source": [
    "basis_sub, P, Pt = get_projector_op(sub_states, sp_basis);"
   ]
  },
  {
   "cell_type": "code",
   "execution_count": 11,
   "id": "dd280e68-52a1-4367-b2f8-e73c8533f8bb",
   "metadata": {
    "tags": []
   },
   "outputs": [
    {
     "data": {
      "text/latex": [
       "Compute the corresponding operator in the sub-space.\n",
       "\n",
       "\\paragraph{Arguments}\n",
       "\\begin{itemize}\n",
       "\\item \\texttt{sp\\_op::Operator}: Single-particle operator from single-particle matrix.\n",
       "\n",
       "\n",
       "\\item \\texttt{P::get\\_projector\\_op[2]}: Projection operator.\n",
       "\n",
       "\n",
       "\\item \\texttt{Pt::get\\_projector\\_op[3]}: Complex conjugate of projection operator.\n",
       "\n",
       "\\end{itemize}\n"
      ],
      "text/markdown": [
       "Compute the corresponding operator in the sub-space.\n",
       "\n",
       "#### Arguments\n",
       "\n",
       "  * `sp_op::Operator`: Single-particle operator from single-particle matrix.\n",
       "  * `P::get_projector_op[2]`: Projection operator.\n",
       "  * `Pt::get_projector_op[3]`: Complex conjugate of projection operator.\n"
      ],
      "text/plain": [
       "  Compute the corresponding operator in the sub-space.\n",
       "\n",
       "\u001b[1m  Arguments\u001b[22m\n",
       "\u001b[1m  -----------\u001b[22m\n",
       "\n",
       "    •  \u001b[36msp_op::Operator\u001b[39m: Single-particle operator from single-particle\n",
       "       matrix.\n",
       "\n",
       "    •  \u001b[36mP::get_projector_op[2]\u001b[39m: Projection operator.\n",
       "\n",
       "    •  \u001b[36mPt::get_projector_op[3]\u001b[39m: Complex conjugate of projection operator."
      ]
     },
     "execution_count": 11,
     "metadata": {},
     "output_type": "execute_result"
    }
   ],
   "source": [
    "@doc get_subspace_op"
   ]
  },
  {
   "cell_type": "code",
   "execution_count": 12,
   "id": "informed-macro",
   "metadata": {
    "tags": []
   },
   "outputs": [],
   "source": [
    "H1_sub = get_subspace_op(H1, P, Pt);"
   ]
  },
  {
   "cell_type": "code",
   "execution_count": 13,
   "id": "c4bc4b2e-2868-45fa-8200-c6187ed42627",
   "metadata": {
    "tags": []
   },
   "outputs": [
    {
     "data": {
      "text/latex": [
       "Compute the single-particle number operator for each lattice sites.\n",
       "\n",
       "\\paragraph{Arguments}\n",
       "\\begin{itemize}\n",
       "\\item \\texttt{N::Integer}: The total site number.\n",
       "\n",
       "\n",
       "\\item \\texttt{sp\\_basis::NLevelBasis}: Single-Particle basis.\n",
       "\n",
       "\n",
       "\\item \\texttt{P::get\\_projector\\_op[2]}: Projection operator.\n",
       "\n",
       "\n",
       "\\item \\texttt{Pt::get\\_projector\\_op[3]}: Complex conjugate of projection operator.\n",
       "\n",
       "\\end{itemize}\n"
      ],
      "text/markdown": [
       "Compute the single-particle number operator for each lattice sites.\n",
       "\n",
       "#### Arguments\n",
       "\n",
       "  * `N::Integer`: The total site number.\n",
       "  * `sp_basis::NLevelBasis`: Single-Particle basis.\n",
       "  * `P::get_projector_op[2]`: Projection operator.\n",
       "  * `Pt::get_projector_op[3]`: Complex conjugate of projection operator.\n"
      ],
      "text/plain": [
       "  Compute the single-particle number operator for each lattice sites.\n",
       "\n",
       "\u001b[1m  Arguments\u001b[22m\n",
       "\u001b[1m  -----------\u001b[22m\n",
       "\n",
       "    •  \u001b[36mN::Integer\u001b[39m: The total site number.\n",
       "\n",
       "    •  \u001b[36msp_basis::NLevelBasis\u001b[39m: Single-Particle basis.\n",
       "\n",
       "    •  \u001b[36mP::get_projector_op[2]\u001b[39m: Projection operator.\n",
       "\n",
       "    •  \u001b[36mPt::get_projector_op[3]\u001b[39m: Complex conjugate of projection operator."
      ]
     },
     "execution_count": 13,
     "metadata": {},
     "output_type": "execute_result"
    }
   ],
   "source": [
    "@doc get_num_sub_list"
   ]
  },
  {
   "cell_type": "code",
   "execution_count": 14,
   "id": "cross-patrol",
   "metadata": {
    "tags": []
   },
   "outputs": [],
   "source": [
    "num_sub_list = get_num_sub_list(N, sp_basis, P, Pt);"
   ]
  },
  {
   "cell_type": "markdown",
   "id": "particular-surrey",
   "metadata": {},
   "source": [
    "# Many-Body"
   ]
  },
  {
   "cell_type": "code",
   "execution_count": 15,
   "id": "cccffa5e-d4fd-4260-a7c5-d2fe183534e1",
   "metadata": {
    "tags": []
   },
   "outputs": [
    {
     "data": {
      "text/latex": [
       "Compute the many-body operator for boson particles from single-particle operator.\n",
       "\n",
       "\\paragraph{Arguments}\n",
       "\\begin{itemize}\n",
       "\\item \\texttt{basis\\_mb}: Many-body basis.\n",
       "\n",
       "\n",
       "\\item \\texttt{basis\\_sub::get\\_projector\\_op[1]}: Sub-space basis.\n",
       "\n",
       "\n",
       "\\item \\texttt{sp\\_op::Operator}: Single-particle operator from single-particle matrix.\n",
       "\n",
       "\\end{itemize}\n"
      ],
      "text/markdown": [
       "Compute the many-body operator for boson particles from single-particle operator.\n",
       "\n",
       "#### Arguments\n",
       "\n",
       "  * `basis_mb`: Many-body basis.\n",
       "  * `basis_sub::get_projector_op[1]`: Sub-space basis.\n",
       "  * `sp_op::Operator`: Single-particle operator from single-particle matrix.\n"
      ],
      "text/plain": [
       "  Compute the many-body operator for boson particles from single-particle\n",
       "  operator.\n",
       "\n",
       "\u001b[1m  Arguments\u001b[22m\n",
       "\u001b[1m  -----------\u001b[22m\n",
       "\n",
       "    •  \u001b[36mbasis_mb\u001b[39m: Many-body basis.\n",
       "\n",
       "    •  \u001b[36mbasis_sub::get_projector_op[1]\u001b[39m: Sub-space basis.\n",
       "\n",
       "    •  \u001b[36msp_op::Operator\u001b[39m: Single-particle operator from single-particle\n",
       "       matrix."
      ]
     },
     "execution_count": 15,
     "metadata": {},
     "output_type": "execute_result"
    }
   ],
   "source": [
    "@doc get_mb_op"
   ]
  },
  {
   "cell_type": "code",
   "execution_count": 16,
   "id": "2d6ddf03-05b6-497a-af81-8ccf124adde4",
   "metadata": {
    "tags": []
   },
   "outputs": [],
   "source": [
    "states_mb = bosonstates(basis_sub, PN) \n",
    "basis_mb = ManyBodyBasis(basis_sub, states_mb);"
   ]
  },
  {
   "cell_type": "code",
   "execution_count": 17,
   "id": "6eca28a4-7872-49e8-8e57-31306169840c",
   "metadata": {
    "tags": []
   },
   "outputs": [],
   "source": [
    "H1_MB = get_mb_op(basis_mb, basis_sub, H1_sub);"
   ]
  },
  {
   "cell_type": "code",
   "execution_count": 18,
   "id": "d228561d-92e0-4e56-8eb3-0747bc107238",
   "metadata": {
    "tags": []
   },
   "outputs": [
    {
     "data": {
      "text/plain": [
       "Hofstadter_Finite_U (generic function with 1 method)"
      ]
     },
     "execution_count": 18,
     "metadata": {},
     "output_type": "execute_result"
    }
   ],
   "source": [
    "@nbinclude(\"Hofstadter MB in Julia.ipynb\"; regex=r\"#.*executeme\")"
   ]
  },
  {
   "cell_type": "code",
   "execution_count": 19,
   "id": "f5e7021c-a835-4d85-b45c-3ba5d456c977",
   "metadata": {
    "tags": []
   },
   "outputs": [
    {
     "data": {
      "text/latex": [
       "Compute the on-site Bose-Hubbard Interaction term.\n",
       "\n",
       "\\paragraph{Arguments:}\n",
       "\\begin{itemize}\n",
       "\\item \\texttt{basis\\_cut\\_sp}: The cutt-off sites of bosonic many-body basis.\n",
       "\n",
       "\n",
       "\\item \\texttt{basis\\_cut\\_mb}: The cutt-off sites of single-particle basis.\n",
       "\n",
       "\n",
       "\\item \\texttt{P::Operator}: Projection operator.\n",
       "\n",
       "\n",
       "\\item \\texttt{Pt::Operator}: Complex conjugate of projection operator.\n",
       "\n",
       "\n",
       "\\item \\texttt{cut\\_off::Int}: Limit value of eigen-state index.\n",
       "\n",
       "\\end{itemize}\n"
      ],
      "text/markdown": [
       "Compute the on-site Bose-Hubbard Interaction term.\n",
       "\n",
       "#### Arguments:\n",
       "\n",
       "  * `basis_cut_sp`: The cutt-off sites of bosonic many-body basis.\n",
       "  * `basis_cut_mb`: The cutt-off sites of single-particle basis.\n",
       "  * `P::Operator`: Projection operator.\n",
       "  * `Pt::Operator`: Complex conjugate of projection operator.\n",
       "  * `cut_off::Int`: Limit value of eigen-state index.\n"
      ],
      "text/plain": [
       "  Compute the on-site Bose-Hubbard Interaction term.\n",
       "\n",
       "\u001b[1m  Arguments:\u001b[22m\n",
       "\u001b[1m  ------------\u001b[22m\n",
       "\n",
       "    •  \u001b[36mbasis_cut_sp\u001b[39m: The cutt-off sites of bosonic many-body basis.\n",
       "\n",
       "    •  \u001b[36mbasis_cut_mb\u001b[39m: The cutt-off sites of single-particle basis.\n",
       "\n",
       "    •  \u001b[36mP::Operator\u001b[39m: Projection operator.\n",
       "\n",
       "    •  \u001b[36mPt::Operator\u001b[39m: Complex conjugate of projection operator.\n",
       "\n",
       "    •  \u001b[36mcut_off::Int\u001b[39m: Limit value of eigen-state index."
      ]
     },
     "execution_count": 19,
     "metadata": {},
     "output_type": "execute_result"
    }
   ],
   "source": [
    "@doc Hubbard_Interaction"
   ]
  },
  {
   "cell_type": "code",
   "execution_count": 20,
   "id": "dutch-philosophy",
   "metadata": {
    "tags": []
   },
   "outputs": [],
   "source": [
    "basis_cut_mb, basis_cut_sp = get_Bosonic_MB_Basis(cut_off,PN)\n",
    "H_Int = Hubbard_Interaction(basis_cut_sp, basis_cut_mb, P, Pt, cut_off);"
   ]
  },
  {
   "cell_type": "markdown",
   "id": "865cc1d6-3246-4f5a-9c75-dfe67eab2040",
   "metadata": {},
   "source": [
    "# Constructing Total Hamiltonians "
   ]
  },
  {
   "cell_type": "code",
   "execution_count": 21,
   "id": "technical-technology",
   "metadata": {
    "tags": []
   },
   "outputs": [],
   "source": [
    "H1cut = SparseOperator(basis_cut_mb)\n",
    "H1cut.data = H1_MB.data\n",
    "\n",
    "number_mb_list_operators = get_num_mb_op(N, basis_cut_sp, num_sub_list, basis_cut_mb, basis_sub)\n",
    "\n",
    "function get_total_H(V, imp_site, number_mb_list_operators, H1cut, H_Int)\n",
    "    V_imp = V * number_mb_list_operators[imp_site]\n",
    "    H_totall = H1cut + H_Int + V_imp\n",
    "    return H_totall\n",
    "end\n",
    "\n",
    "imp_site = 44\n",
    "H_total_imp = get_total_H(4, imp_site, number_mb_list_operators, H1cut, H_Int)\n",
    "H_total = get_total_H(0, 45, number_mb_list_operators, H1cut, H_Int);"
   ]
  },
  {
   "cell_type": "markdown",
   "id": "3f1b1096-6ac2-4940-9e20-a7b79871a0a7",
   "metadata": {},
   "source": [
    "# Exact-Diagonalization"
   ]
  },
  {
   "cell_type": "code",
   "execution_count": 22,
   "id": "436255b0-474b-4d97-8672-a458428a7a3d",
   "metadata": {
    "tags": []
   },
   "outputs": [
    {
     "data": {
      "text/plain": [
       "get_energies (generic function with 1 method)"
      ]
     },
     "execution_count": 22,
     "metadata": {},
     "output_type": "execute_result"
    }
   ],
   "source": [
    "using DataFrames\n",
    "\n",
    "E, V = eigenstates(dense((H_total_imp+dagger(H_total_imp))/2))\n",
    "E0, V0 = eigenstates(dense((H_total+dagger(H_total))/2))\n",
    "\n",
    "function get_energies(pn, E, V, basis)\n",
    "    PN_Energies = Array{Float64}(undef, length(E), 2)\n",
    "    for i in 1:length(E)\n",
    "        PN_Energies[i] = round(expect(number(basis), V[i])) #expected values (first column)\n",
    "        PN_Energies[i,2] = E[i] #eigen-values (second column)\n",
    "    end\n",
    "    \n",
    "    # filter\n",
    "    df = DataFrame(PN_Energies, :auto)\n",
    "    df = filter(row -> (row.x1 == pn),  df)\n",
    "    \n",
    "    return df\n",
    "end"
   ]
  },
  {
   "cell_type": "code",
   "execution_count": 23,
   "id": "583a1134-1a10-4849-8a76-76888954c9b5",
   "metadata": {
    "tags": []
   },
   "outputs": [
    {
     "data": {
      "text/plain": [
       "4-element Vector{Int64}:\n",
       " 0\n",
       " 1\n",
       " 2\n",
       " 3"
      ]
     },
     "execution_count": 23,
     "metadata": {},
     "output_type": "execute_result"
    }
   ],
   "source": [
    "PN"
   ]
  },
  {
   "cell_type": "code",
   "execution_count": 65,
   "id": "0fc34877-b975-44a9-bdf1-171087768b75",
   "metadata": {
    "tags": []
   },
   "outputs": [
    {
     "data": {
      "text/plain": [
       "120-element Vector{Float64}:\n",
       " -10.259932886485375\n",
       " -10.259932886485373\n",
       " -10.259901993554315\n",
       " -10.259901993554308\n",
       " -10.25990023222438\n",
       " -10.259900232224377\n",
       " -10.259900232224377\n",
       " -10.259900232224373\n",
       " -10.259850864410984\n",
       " -10.259850864410982\n",
       " -10.25985086441098\n",
       " -10.259850864410977\n",
       " -10.259849006190192\n",
       "   ⋮\n",
       "  -9.961172883168818\n",
       "  -9.96117288316881\n",
       "  -9.961002871235502\n",
       "  -9.9610028712355\n",
       "  -9.958174841380709\n",
       "  -9.958174841380703\n",
       "  -9.95783656383475\n",
       "  -9.957836563834746\n",
       "  -9.957836563834745\n",
       "  -9.957836563834743\n",
       "  -9.957496405192192\n",
       "  -9.957496405192186"
      ]
     },
     "execution_count": 65,
     "metadata": {},
     "output_type": "execute_result"
    }
   ],
   "source": [
    "pn = 3.0\n",
    "df = get_energies(pn, E, V, basis_cut_mb)\n",
    "df_0 = get_energies(pn, E0, V0, basis_cut_mb)\n",
    "# V \\neq 0\n",
    "filtered_energies = Matrix(df)[:,2]\n",
    "# V=0\n",
    "filtered_energies_0 = Matrix(df_0)[:,2]\n",
    "#show(stdout,\"text/plain\", filtered_energies) #show all outputs"
   ]
  },
  {
   "cell_type": "code",
   "execution_count": 111,
   "id": "df9681c9-386b-4078-bb13-17f20ad6f53e",
   "metadata": {
    "tags": []
   },
   "outputs": [
    {
     "data": {
      "image/svg+xml": [
       "<?xml version=\"1.0\" encoding=\"utf-8\"?>\n",
       "<svg xmlns=\"http://www.w3.org/2000/svg\" xmlns:xlink=\"http://www.w3.org/1999/xlink\" width=\"600\" height=\"400\" viewBox=\"0 0 2400 1600\">\n",
       "<defs>\n",
       "  <clipPath id=\"clip330\">\n",
       "    <rect x=\"0\" y=\"0\" width=\"2400\" height=\"1600\"/>\n",
       "  </clipPath>\n",
       "</defs>\n",
       "<path clip-path=\"url(#clip330)\" d=\"M0 1600 L2400 1600 L2400 0 L0 0  Z\" fill=\"#ffffff\" fill-rule=\"evenodd\" fill-opacity=\"1\"/>\n",
       "<defs>\n",
       "  <clipPath id=\"clip331\">\n",
       "    <rect x=\"480\" y=\"0\" width=\"1681\" height=\"1600\"/>\n",
       "  </clipPath>\n",
       "</defs>\n",
       "<path clip-path=\"url(#clip330)\" d=\"M287.366 1423.18 L2352.76 1423.18 L2352.76 47.2441 L287.366 47.2441  Z\" fill=\"#ffffff\" fill-rule=\"evenodd\" fill-opacity=\"1\"/>\n",
       "<defs>\n",
       "  <clipPath id=\"clip332\">\n",
       "    <rect x=\"287\" y=\"47\" width=\"2066\" height=\"1377\"/>\n",
       "  </clipPath>\n",
       "</defs>\n",
       "<polyline clip-path=\"url(#clip332)\" style=\"stroke:#000000; stroke-linecap:round; stroke-linejoin:round; stroke-width:2; stroke-opacity:0.1; fill:none\" points=\"288.512,1423.18 288.512,47.2441 \"/>\n",
       "<polyline clip-path=\"url(#clip332)\" style=\"stroke:#000000; stroke-linecap:round; stroke-linejoin:round; stroke-width:2; stroke-opacity:0.1; fill:none\" points=\"861.595,1423.18 861.595,47.2441 \"/>\n",
       "<polyline clip-path=\"url(#clip332)\" style=\"stroke:#000000; stroke-linecap:round; stroke-linejoin:round; stroke-width:2; stroke-opacity:0.1; fill:none\" points=\"1434.68,1423.18 1434.68,47.2441 \"/>\n",
       "<polyline clip-path=\"url(#clip332)\" style=\"stroke:#000000; stroke-linecap:round; stroke-linejoin:round; stroke-width:2; stroke-opacity:0.1; fill:none\" points=\"2007.76,1423.18 2007.76,47.2441 \"/>\n",
       "<polyline clip-path=\"url(#clip330)\" style=\"stroke:#000000; stroke-linecap:round; stroke-linejoin:round; stroke-width:4; stroke-opacity:1; fill:none\" points=\"287.366,1423.18 2352.76,1423.18 \"/>\n",
       "<polyline clip-path=\"url(#clip330)\" style=\"stroke:#000000; stroke-linecap:round; stroke-linejoin:round; stroke-width:4; stroke-opacity:1; fill:none\" points=\"288.512,1423.18 288.512,1404.28 \"/>\n",
       "<polyline clip-path=\"url(#clip330)\" style=\"stroke:#000000; stroke-linecap:round; stroke-linejoin:round; stroke-width:4; stroke-opacity:1; fill:none\" points=\"861.595,1423.18 861.595,1404.28 \"/>\n",
       "<polyline clip-path=\"url(#clip330)\" style=\"stroke:#000000; stroke-linecap:round; stroke-linejoin:round; stroke-width:4; stroke-opacity:1; fill:none\" points=\"1434.68,1423.18 1434.68,1404.28 \"/>\n",
       "<polyline clip-path=\"url(#clip330)\" style=\"stroke:#000000; stroke-linecap:round; stroke-linejoin:round; stroke-width:4; stroke-opacity:1; fill:none\" points=\"2007.76,1423.18 2007.76,1404.28 \"/>\n",
       "<path clip-path=\"url(#clip330)\" d=\"M288.512 1454.1 Q284.901 1454.1 283.072 1457.66 Q281.267 1461.2 281.267 1468.33 Q281.267 1475.44 283.072 1479.01 Q284.901 1482.55 288.512 1482.55 Q292.146 1482.55 293.952 1479.01 Q295.781 1475.44 295.781 1468.33 Q295.781 1461.2 293.952 1457.66 Q292.146 1454.1 288.512 1454.1 M288.512 1450.39 Q294.322 1450.39 297.378 1455 Q300.456 1459.58 300.456 1468.33 Q300.456 1477.06 297.378 1481.67 Q294.322 1486.25 288.512 1486.25 Q282.702 1486.25 279.623 1481.67 Q276.568 1477.06 276.568 1468.33 Q276.568 1459.58 279.623 1455 Q282.702 1450.39 288.512 1450.39 Z\" fill=\"#000000\" fill-rule=\"nonzero\" fill-opacity=\"1\" /><path clip-path=\"url(#clip330)\" d=\"M836.282 1481.64 L843.921 1481.64 L843.921 1455.28 L835.611 1456.95 L835.611 1452.69 L843.875 1451.02 L848.551 1451.02 L848.551 1481.64 L856.19 1481.64 L856.19 1485.58 L836.282 1485.58 L836.282 1481.64 Z\" fill=\"#000000\" fill-rule=\"nonzero\" fill-opacity=\"1\" /><path clip-path=\"url(#clip330)\" d=\"M875.634 1454.1 Q872.023 1454.1 870.194 1457.66 Q868.389 1461.2 868.389 1468.33 Q868.389 1475.44 870.194 1479.01 Q872.023 1482.55 875.634 1482.55 Q879.268 1482.55 881.074 1479.01 Q882.903 1475.44 882.903 1468.33 Q882.903 1461.2 881.074 1457.66 Q879.268 1454.1 875.634 1454.1 M875.634 1450.39 Q881.444 1450.39 884.5 1455 Q887.578 1459.58 887.578 1468.33 Q887.578 1477.06 884.5 1481.67 Q881.444 1486.25 875.634 1486.25 Q869.824 1486.25 866.745 1481.67 Q863.69 1477.06 863.69 1468.33 Q863.69 1459.58 866.745 1455 Q869.824 1450.39 875.634 1450.39 Z\" fill=\"#000000\" fill-rule=\"nonzero\" fill-opacity=\"1\" /><path clip-path=\"url(#clip330)\" d=\"M1413.45 1481.64 L1429.77 1481.64 L1429.77 1485.58 L1407.83 1485.58 L1407.83 1481.64 Q1410.49 1478.89 1415.07 1474.26 Q1419.68 1469.61 1420.86 1468.27 Q1423.1 1465.74 1423.98 1464.01 Q1424.89 1462.25 1424.89 1460.56 Q1424.89 1457.8 1422.94 1456.07 Q1421.02 1454.33 1417.92 1454.33 Q1415.72 1454.33 1413.27 1455.09 Q1410.83 1455.86 1408.06 1457.41 L1408.06 1452.69 Q1410.88 1451.55 1413.33 1450.97 Q1415.79 1450.39 1417.83 1450.39 Q1423.2 1450.39 1426.39 1453.08 Q1429.58 1455.77 1429.58 1460.26 Q1429.58 1462.39 1428.77 1464.31 Q1427.99 1466.2 1425.88 1468.8 Q1425.3 1469.47 1422.2 1472.69 Q1419.1 1475.88 1413.45 1481.64 Z\" fill=\"#000000\" fill-rule=\"nonzero\" fill-opacity=\"1\" /><path clip-path=\"url(#clip330)\" d=\"M1449.58 1454.1 Q1445.97 1454.1 1444.14 1457.66 Q1442.34 1461.2 1442.34 1468.33 Q1442.34 1475.44 1444.14 1479.01 Q1445.97 1482.55 1449.58 1482.55 Q1453.22 1482.55 1455.02 1479.01 Q1456.85 1475.44 1456.85 1468.33 Q1456.85 1461.2 1455.02 1457.66 Q1453.22 1454.1 1449.58 1454.1 M1449.58 1450.39 Q1455.39 1450.39 1458.45 1455 Q1461.53 1459.58 1461.53 1468.33 Q1461.53 1477.06 1458.45 1481.67 Q1455.39 1486.25 1449.58 1486.25 Q1443.77 1486.25 1440.7 1481.67 Q1437.64 1477.06 1437.64 1468.33 Q1437.64 1459.58 1440.7 1455 Q1443.77 1450.39 1449.58 1450.39 Z\" fill=\"#000000\" fill-rule=\"nonzero\" fill-opacity=\"1\" /><path clip-path=\"url(#clip330)\" d=\"M1996.6 1466.95 Q1999.96 1467.66 2001.83 1469.93 Q2003.73 1472.2 2003.73 1475.53 Q2003.73 1480.65 2000.21 1483.45 Q1996.7 1486.25 1990.21 1486.25 Q1988.04 1486.25 1985.72 1485.81 Q1983.43 1485.39 1980.98 1484.54 L1980.98 1480.02 Q1982.92 1481.16 1985.24 1481.74 Q1987.55 1482.32 1990.08 1482.32 Q1994.47 1482.32 1996.76 1480.58 Q1999.08 1478.84 1999.08 1475.53 Q1999.08 1472.48 1996.93 1470.77 Q1994.8 1469.03 1990.98 1469.03 L1986.95 1469.03 L1986.95 1465.19 L1991.16 1465.19 Q1994.61 1465.19 1996.44 1463.82 Q1998.27 1462.43 1998.27 1459.84 Q1998.27 1457.18 1996.37 1455.77 Q1994.5 1454.33 1990.98 1454.33 Q1989.06 1454.33 1986.86 1454.75 Q1984.66 1455.16 1982.02 1456.04 L1982.02 1451.88 Q1984.68 1451.14 1987 1450.77 Q1989.33 1450.39 1991.39 1450.39 Q1996.72 1450.39 1999.82 1452.83 Q2002.92 1455.23 2002.92 1459.35 Q2002.92 1462.22 2001.28 1464.21 Q1999.64 1466.18 1996.6 1466.95 Z\" fill=\"#000000\" fill-rule=\"nonzero\" fill-opacity=\"1\" /><path clip-path=\"url(#clip330)\" d=\"M2022.6 1454.1 Q2018.99 1454.1 2017.16 1457.66 Q2015.35 1461.2 2015.35 1468.33 Q2015.35 1475.44 2017.16 1479.01 Q2018.99 1482.55 2022.6 1482.55 Q2026.23 1482.55 2028.04 1479.01 Q2029.87 1475.44 2029.87 1468.33 Q2029.87 1461.2 2028.04 1457.66 Q2026.23 1454.1 2022.6 1454.1 M2022.6 1450.39 Q2028.41 1450.39 2031.46 1455 Q2034.54 1459.58 2034.54 1468.33 Q2034.54 1477.06 2031.46 1481.67 Q2028.41 1486.25 2022.6 1486.25 Q2016.79 1486.25 2013.71 1481.67 Q2010.65 1477.06 2010.65 1468.33 Q2010.65 1459.58 2013.71 1455 Q2016.79 1450.39 2022.6 1450.39 Z\" fill=\"#000000\" fill-rule=\"nonzero\" fill-opacity=\"1\" /><path clip-path=\"url(#clip330)\" d=\"M1334.99 1546.53 L1334.99 1568.04 L1329.13 1568.04 L1329.13 1546.72 Q1329.13 1541.66 1327.16 1539.14 Q1325.19 1536.63 1321.24 1536.63 Q1316.5 1536.63 1313.76 1539.65 Q1311.02 1542.68 1311.02 1547.9 L1311.02 1568.04 L1305.13 1568.04 L1305.13 1532.4 L1311.02 1532.4 L1311.02 1537.93 Q1313.12 1534.72 1315.96 1533.13 Q1318.82 1531.54 1322.54 1531.54 Q1328.69 1531.54 1331.84 1535.36 Q1334.99 1539.14 1334.99 1546.53 Z\" fill=\"#000000\" fill-rule=\"nonzero\" fill-opacity=\"1\" /><polyline clip-path=\"url(#clip332)\" style=\"stroke:#000000; stroke-linecap:round; stroke-linejoin:round; stroke-width:2; stroke-opacity:0.1; fill:none\" points=\"287.366,1270.04 2352.76,1270.04 \"/>\n",
       "<polyline clip-path=\"url(#clip332)\" style=\"stroke:#000000; stroke-linecap:round; stroke-linejoin:round; stroke-width:2; stroke-opacity:0.1; fill:none\" points=\"287.366,1051.26 2352.76,1051.26 \"/>\n",
       "<polyline clip-path=\"url(#clip332)\" style=\"stroke:#000000; stroke-linecap:round; stroke-linejoin:round; stroke-width:2; stroke-opacity:0.1; fill:none\" points=\"287.366,832.488 2352.76,832.488 \"/>\n",
       "<polyline clip-path=\"url(#clip332)\" style=\"stroke:#000000; stroke-linecap:round; stroke-linejoin:round; stroke-width:2; stroke-opacity:0.1; fill:none\" points=\"287.366,613.713 2352.76,613.713 \"/>\n",
       "<polyline clip-path=\"url(#clip332)\" style=\"stroke:#000000; stroke-linecap:round; stroke-linejoin:round; stroke-width:2; stroke-opacity:0.1; fill:none\" points=\"287.366,394.938 2352.76,394.938 \"/>\n",
       "<polyline clip-path=\"url(#clip332)\" style=\"stroke:#000000; stroke-linecap:round; stroke-linejoin:round; stroke-width:2; stroke-opacity:0.1; fill:none\" points=\"287.366,176.164 2352.76,176.164 \"/>\n",
       "<polyline clip-path=\"url(#clip330)\" style=\"stroke:#000000; stroke-linecap:round; stroke-linejoin:round; stroke-width:4; stroke-opacity:1; fill:none\" points=\"287.366,1423.18 287.366,47.2441 \"/>\n",
       "<polyline clip-path=\"url(#clip330)\" style=\"stroke:#000000; stroke-linecap:round; stroke-linejoin:round; stroke-width:4; stroke-opacity:1; fill:none\" points=\"287.366,1270.04 306.264,1270.04 \"/>\n",
       "<polyline clip-path=\"url(#clip330)\" style=\"stroke:#000000; stroke-linecap:round; stroke-linejoin:round; stroke-width:4; stroke-opacity:1; fill:none\" points=\"287.366,1051.26 306.264,1051.26 \"/>\n",
       "<polyline clip-path=\"url(#clip330)\" style=\"stroke:#000000; stroke-linecap:round; stroke-linejoin:round; stroke-width:4; stroke-opacity:1; fill:none\" points=\"287.366,832.488 306.264,832.488 \"/>\n",
       "<polyline clip-path=\"url(#clip330)\" style=\"stroke:#000000; stroke-linecap:round; stroke-linejoin:round; stroke-width:4; stroke-opacity:1; fill:none\" points=\"287.366,613.713 306.264,613.713 \"/>\n",
       "<polyline clip-path=\"url(#clip330)\" style=\"stroke:#000000; stroke-linecap:round; stroke-linejoin:round; stroke-width:4; stroke-opacity:1; fill:none\" points=\"287.366,394.938 306.264,394.938 \"/>\n",
       "<polyline clip-path=\"url(#clip330)\" style=\"stroke:#000000; stroke-linecap:round; stroke-linejoin:round; stroke-width:4; stroke-opacity:1; fill:none\" points=\"287.366,176.164 306.264,176.164 \"/>\n",
       "<path clip-path=\"url(#clip330)\" d=\"M114.26 1270.49 L143.936 1270.49 L143.936 1274.42 L114.26 1274.42 L114.26 1270.49 Z\" fill=\"#000000\" fill-rule=\"nonzero\" fill-opacity=\"1\" /><path clip-path=\"url(#clip330)\" d=\"M154.839 1283.38 L162.477 1283.38 L162.477 1257.02 L154.167 1258.68 L154.167 1254.42 L162.431 1252.76 L167.107 1252.76 L167.107 1283.38 L174.746 1283.38 L174.746 1287.32 L154.839 1287.32 L154.839 1283.38 Z\" fill=\"#000000\" fill-rule=\"nonzero\" fill-opacity=\"1\" /><path clip-path=\"url(#clip330)\" d=\"M194.19 1255.84 Q190.579 1255.84 188.75 1259.4 Q186.945 1262.94 186.945 1270.07 Q186.945 1277.18 188.75 1280.74 Q190.579 1284.29 194.19 1284.29 Q197.825 1284.29 199.63 1280.74 Q201.459 1277.18 201.459 1270.07 Q201.459 1262.94 199.63 1259.4 Q197.825 1255.84 194.19 1255.84 M194.19 1252.13 Q200 1252.13 203.056 1256.74 Q206.135 1261.32 206.135 1270.07 Q206.135 1278.8 203.056 1283.41 Q200 1287.99 194.19 1287.99 Q188.38 1287.99 185.301 1283.41 Q182.246 1278.8 182.246 1270.07 Q182.246 1261.32 185.301 1256.74 Q188.38 1252.13 194.19 1252.13 Z\" fill=\"#000000\" fill-rule=\"nonzero\" fill-opacity=\"1\" /><path clip-path=\"url(#clip330)\" d=\"M214.352 1281.44 L219.236 1281.44 L219.236 1287.32 L214.352 1287.32 L214.352 1281.44 Z\" fill=\"#000000\" fill-rule=\"nonzero\" fill-opacity=\"1\" /><path clip-path=\"url(#clip330)\" d=\"M239.422 1255.84 Q235.81 1255.84 233.982 1259.4 Q232.176 1262.94 232.176 1270.07 Q232.176 1277.18 233.982 1280.74 Q235.81 1284.29 239.422 1284.29 Q243.056 1284.29 244.861 1280.74 Q246.69 1277.18 246.69 1270.07 Q246.69 1262.94 244.861 1259.4 Q243.056 1255.84 239.422 1255.84 M239.422 1252.13 Q245.232 1252.13 248.287 1256.74 Q251.366 1261.32 251.366 1270.07 Q251.366 1278.8 248.287 1283.41 Q245.232 1287.99 239.422 1287.99 Q233.611 1287.99 230.533 1283.41 Q227.477 1278.8 227.477 1270.07 Q227.477 1261.32 230.533 1256.74 Q233.611 1252.13 239.422 1252.13 Z\" fill=\"#000000\" fill-rule=\"nonzero\" fill-opacity=\"1\" /><path clip-path=\"url(#clip330)\" d=\"M145.417 1051.71 L175.093 1051.71 L175.093 1055.65 L145.417 1055.65 L145.417 1051.71 Z\" fill=\"#000000\" fill-rule=\"nonzero\" fill-opacity=\"1\" /><path clip-path=\"url(#clip330)\" d=\"M185.325 1067.83 L185.325 1063.57 Q187.084 1064.4 188.889 1064.84 Q190.695 1065.28 192.431 1065.28 Q197.061 1065.28 199.491 1062.18 Q201.945 1059.05 202.292 1052.71 Q200.95 1054.7 198.889 1055.77 Q196.829 1056.83 194.329 1056.83 Q189.144 1056.83 186.112 1053.7 Q183.102 1050.56 183.102 1045.12 Q183.102 1039.79 186.251 1036.58 Q189.399 1033.36 194.63 1033.36 Q200.625 1033.36 203.774 1037.96 Q206.945 1042.55 206.945 1051.3 Q206.945 1059.47 203.056 1064.35 Q199.19 1069.21 192.639 1069.21 Q190.88 1069.21 189.075 1068.87 Q187.269 1068.52 185.325 1067.83 M194.63 1053.17 Q197.778 1053.17 199.607 1051.02 Q201.459 1048.87 201.459 1045.12 Q201.459 1041.39 199.607 1039.24 Q197.778 1037.06 194.63 1037.06 Q191.482 1037.06 189.63 1039.24 Q187.801 1041.39 187.801 1045.12 Q187.801 1048.87 189.63 1051.02 Q191.482 1053.17 194.63 1053.17 Z\" fill=\"#000000\" fill-rule=\"nonzero\" fill-opacity=\"1\" /><path clip-path=\"url(#clip330)\" d=\"M215.348 1062.66 L220.232 1062.66 L220.232 1068.54 L215.348 1068.54 L215.348 1062.66 Z\" fill=\"#000000\" fill-rule=\"nonzero\" fill-opacity=\"1\" /><path clip-path=\"url(#clip330)\" d=\"M230.463 1033.98 L248.82 1033.98 L248.82 1037.92 L234.746 1037.92 L234.746 1046.39 Q235.764 1046.04 236.783 1045.88 Q237.801 1045.7 238.82 1045.7 Q244.607 1045.7 247.986 1048.87 Q251.366 1052.04 251.366 1057.45 Q251.366 1063.03 247.894 1066.14 Q244.421 1069.21 238.102 1069.21 Q235.926 1069.21 233.658 1068.84 Q231.412 1068.47 229.005 1067.73 L229.005 1063.03 Q231.088 1064.17 233.31 1064.72 Q235.533 1065.28 238.009 1065.28 Q242.014 1065.28 244.352 1063.17 Q246.69 1061.07 246.69 1057.45 Q246.69 1053.84 244.352 1051.74 Q242.014 1049.63 238.009 1049.63 Q236.135 1049.63 234.26 1050.05 Q232.408 1050.46 230.463 1051.34 L230.463 1033.98 Z\" fill=\"#000000\" fill-rule=\"nonzero\" fill-opacity=\"1\" /><path clip-path=\"url(#clip330)\" d=\"M144.422 832.939 L174.098 832.939 L174.098 836.875 L144.422 836.875 L144.422 832.939 Z\" fill=\"#000000\" fill-rule=\"nonzero\" fill-opacity=\"1\" /><path clip-path=\"url(#clip330)\" d=\"M184.329 849.05 L184.329 844.791 Q186.088 845.624 187.894 846.064 Q189.7 846.504 191.436 846.504 Q196.065 846.504 198.496 843.402 Q200.95 840.277 201.297 833.935 Q199.954 835.925 197.894 836.99 Q195.834 838.055 193.334 838.055 Q188.149 838.055 185.116 834.93 Q182.107 831.782 182.107 826.342 Q182.107 821.018 185.255 817.801 Q188.403 814.583 193.635 814.583 Q199.63 814.583 202.778 819.189 Q205.949 823.773 205.949 832.523 Q205.949 840.694 202.061 845.578 Q198.195 850.439 191.644 850.439 Q189.885 850.439 188.079 850.092 Q186.274 849.745 184.329 849.05 M193.635 834.398 Q196.783 834.398 198.612 832.245 Q200.463 830.092 200.463 826.342 Q200.463 822.615 198.612 820.463 Q196.783 818.287 193.635 818.287 Q190.487 818.287 188.635 820.463 Q186.806 822.615 186.806 826.342 Q186.806 830.092 188.635 832.245 Q190.487 834.398 193.635 834.398 Z\" fill=\"#000000\" fill-rule=\"nonzero\" fill-opacity=\"1\" /><path clip-path=\"url(#clip330)\" d=\"M214.352 843.888 L219.236 843.888 L219.236 849.768 L214.352 849.768 L214.352 843.888 Z\" fill=\"#000000\" fill-rule=\"nonzero\" fill-opacity=\"1\" /><path clip-path=\"url(#clip330)\" d=\"M239.422 818.287 Q235.81 818.287 233.982 821.851 Q232.176 825.393 232.176 832.523 Q232.176 839.629 233.982 843.194 Q235.81 846.736 239.422 846.736 Q243.056 846.736 244.861 843.194 Q246.69 839.629 246.69 832.523 Q246.69 825.393 244.861 821.851 Q243.056 818.287 239.422 818.287 M239.422 814.583 Q245.232 814.583 248.287 819.189 Q251.366 823.773 251.366 832.523 Q251.366 841.25 248.287 845.856 Q245.232 850.439 239.422 850.439 Q233.611 850.439 230.533 845.856 Q227.477 841.25 227.477 832.523 Q227.477 823.773 230.533 819.189 Q233.611 814.583 239.422 814.583 Z\" fill=\"#000000\" fill-rule=\"nonzero\" fill-opacity=\"1\" /><path clip-path=\"url(#clip330)\" d=\"M145.417 614.165 L175.093 614.165 L175.093 618.1 L145.417 618.1 L145.417 614.165 Z\" fill=\"#000000\" fill-rule=\"nonzero\" fill-opacity=\"1\" /><path clip-path=\"url(#clip330)\" d=\"M195.186 614.581 Q191.852 614.581 189.931 616.364 Q188.033 618.146 188.033 621.271 Q188.033 624.396 189.931 626.178 Q191.852 627.961 195.186 627.961 Q198.519 627.961 200.44 626.178 Q202.362 624.373 202.362 621.271 Q202.362 618.146 200.44 616.364 Q198.542 614.581 195.186 614.581 M190.51 612.591 Q187.501 611.85 185.811 609.79 Q184.144 607.729 184.144 604.767 Q184.144 600.623 187.084 598.216 Q190.047 595.808 195.186 595.808 Q200.348 595.808 203.287 598.216 Q206.227 600.623 206.227 604.767 Q206.227 607.729 204.537 609.79 Q202.871 611.85 199.885 612.591 Q203.264 613.378 205.139 615.669 Q207.037 617.961 207.037 621.271 Q207.037 626.294 203.959 628.979 Q200.903 631.665 195.186 631.665 Q189.468 631.665 186.389 628.979 Q183.334 626.294 183.334 621.271 Q183.334 617.961 185.232 615.669 Q187.13 613.378 190.51 612.591 M188.797 605.206 Q188.797 607.891 190.463 609.396 Q192.153 610.901 195.186 610.901 Q198.195 610.901 199.885 609.396 Q201.598 607.891 201.598 605.206 Q201.598 602.521 199.885 601.017 Q198.195 599.512 195.186 599.512 Q192.153 599.512 190.463 601.017 Q188.797 602.521 188.797 605.206 Z\" fill=\"#000000\" fill-rule=\"nonzero\" fill-opacity=\"1\" /><path clip-path=\"url(#clip330)\" d=\"M215.348 625.114 L220.232 625.114 L220.232 630.993 L215.348 630.993 L215.348 625.114 Z\" fill=\"#000000\" fill-rule=\"nonzero\" fill-opacity=\"1\" /><path clip-path=\"url(#clip330)\" d=\"M230.463 596.433 L248.82 596.433 L248.82 600.368 L234.746 600.368 L234.746 608.841 Q235.764 608.493 236.783 608.331 Q237.801 608.146 238.82 608.146 Q244.607 608.146 247.986 611.317 Q251.366 614.489 251.366 619.905 Q251.366 625.484 247.894 628.586 Q244.421 631.665 238.102 631.665 Q235.926 631.665 233.658 631.294 Q231.412 630.924 229.005 630.183 L229.005 625.484 Q231.088 626.618 233.31 627.174 Q235.533 627.729 238.009 627.729 Q242.014 627.729 244.352 625.623 Q246.69 623.516 246.69 619.905 Q246.69 616.294 244.352 614.188 Q242.014 612.081 238.009 612.081 Q236.135 612.081 234.26 612.498 Q232.408 612.915 230.463 613.794 L230.463 596.433 Z\" fill=\"#000000\" fill-rule=\"nonzero\" fill-opacity=\"1\" /><path clip-path=\"url(#clip330)\" d=\"M144.422 395.39 L174.098 395.39 L174.098 399.325 L144.422 399.325 L144.422 395.39 Z\" fill=\"#000000\" fill-rule=\"nonzero\" fill-opacity=\"1\" /><path clip-path=\"url(#clip330)\" d=\"M194.19 395.807 Q190.857 395.807 188.936 397.589 Q187.038 399.371 187.038 402.496 Q187.038 405.621 188.936 407.404 Q190.857 409.186 194.19 409.186 Q197.524 409.186 199.445 407.404 Q201.366 405.598 201.366 402.496 Q201.366 399.371 199.445 397.589 Q197.547 395.807 194.19 395.807 M189.514 393.816 Q186.505 393.075 184.815 391.015 Q183.149 388.955 183.149 385.992 Q183.149 381.848 186.088 379.441 Q189.051 377.033 194.19 377.033 Q199.352 377.033 202.292 379.441 Q205.232 381.848 205.232 385.992 Q205.232 388.955 203.542 391.015 Q201.875 393.075 198.889 393.816 Q202.269 394.603 204.144 396.894 Q206.042 399.186 206.042 402.496 Q206.042 407.519 202.963 410.205 Q199.908 412.89 194.19 412.89 Q188.473 412.89 185.394 410.205 Q182.338 407.519 182.338 402.496 Q182.338 399.186 184.237 396.894 Q186.135 394.603 189.514 393.816 M187.801 386.432 Q187.801 389.117 189.468 390.621 Q191.158 392.126 194.19 392.126 Q197.2 392.126 198.889 390.621 Q200.602 389.117 200.602 386.432 Q200.602 383.746 198.889 382.242 Q197.2 380.737 194.19 380.737 Q191.158 380.737 189.468 382.242 Q187.801 383.746 187.801 386.432 Z\" fill=\"#000000\" fill-rule=\"nonzero\" fill-opacity=\"1\" /><path clip-path=\"url(#clip330)\" d=\"M214.352 406.339 L219.236 406.339 L219.236 412.218 L214.352 412.218 L214.352 406.339 Z\" fill=\"#000000\" fill-rule=\"nonzero\" fill-opacity=\"1\" /><path clip-path=\"url(#clip330)\" d=\"M239.422 380.737 Q235.81 380.737 233.982 384.302 Q232.176 387.844 232.176 394.973 Q232.176 402.08 233.982 405.644 Q235.81 409.186 239.422 409.186 Q243.056 409.186 244.861 405.644 Q246.69 402.08 246.69 394.973 Q246.69 387.844 244.861 384.302 Q243.056 380.737 239.422 380.737 M239.422 377.033 Q245.232 377.033 248.287 381.64 Q251.366 386.223 251.366 394.973 Q251.366 403.7 248.287 408.306 Q245.232 412.89 239.422 412.89 Q233.611 412.89 230.533 408.306 Q227.477 403.7 227.477 394.973 Q227.477 386.223 230.533 381.64 Q233.611 377.033 239.422 377.033 Z\" fill=\"#000000\" fill-rule=\"nonzero\" fill-opacity=\"1\" /><path clip-path=\"url(#clip330)\" d=\"M145.417 176.615 L175.093 176.615 L175.093 180.55 L145.417 180.55 L145.417 176.615 Z\" fill=\"#000000\" fill-rule=\"nonzero\" fill-opacity=\"1\" /><path clip-path=\"url(#clip330)\" d=\"M184.005 158.884 L206.227 158.884 L206.227 160.874 L193.681 193.444 L188.797 193.444 L200.602 162.819 L184.005 162.819 L184.005 158.884 Z\" fill=\"#000000\" fill-rule=\"nonzero\" fill-opacity=\"1\" /><path clip-path=\"url(#clip330)\" d=\"M215.348 187.564 L220.232 187.564 L220.232 193.444 L215.348 193.444 L215.348 187.564 Z\" fill=\"#000000\" fill-rule=\"nonzero\" fill-opacity=\"1\" /><path clip-path=\"url(#clip330)\" d=\"M230.463 158.884 L248.82 158.884 L248.82 162.819 L234.746 162.819 L234.746 171.291 Q235.764 170.944 236.783 170.782 Q237.801 170.597 238.82 170.597 Q244.607 170.597 247.986 173.768 Q251.366 176.939 251.366 182.356 Q251.366 187.934 247.894 191.036 Q244.421 194.115 238.102 194.115 Q235.926 194.115 233.658 193.745 Q231.412 193.374 229.005 192.634 L229.005 187.934 Q231.088 189.069 233.31 189.624 Q235.533 190.18 238.009 190.18 Q242.014 190.18 244.352 188.073 Q246.69 185.967 246.69 182.356 Q246.69 178.745 244.352 176.638 Q242.014 174.532 238.009 174.532 Q236.135 174.532 234.26 174.948 Q232.408 175.365 230.463 176.245 L230.463 158.884 Z\" fill=\"#000000\" fill-rule=\"nonzero\" fill-opacity=\"1\" /><path clip-path=\"url(#clip330)\" d=\"M16.4842 750.521 L16.4842 720.475 L21.895 720.475 L21.895 744.092 L35.9632 744.092 L35.9632 721.462 L41.3741 721.462 L41.3741 744.092 L58.5933 744.092 L58.5933 719.902 L64.0042 719.902 L64.0042 750.521 L16.4842 750.521 Z\" fill=\"#000000\" fill-rule=\"nonzero\" fill-opacity=\"1\" /><circle clip-path=\"url(#clip332)\" cx=\"345.82\" cy=\"1383.77\" r=\"14.4\" fill=\"#009af9\" fill-rule=\"evenodd\" fill-opacity=\"1\" stroke=\"#000000\" stroke-opacity=\"1\" stroke-width=\"3.2\"/>\n",
       "<circle clip-path=\"url(#clip332)\" cx=\"403.129\" cy=\"1383.77\" r=\"14.4\" fill=\"#009af9\" fill-rule=\"evenodd\" fill-opacity=\"1\" stroke=\"#000000\" stroke-opacity=\"1\" stroke-width=\"3.2\"/>\n",
       "<circle clip-path=\"url(#clip332)\" cx=\"460.437\" cy=\"1383.76\" r=\"14.4\" fill=\"#009af9\" fill-rule=\"evenodd\" fill-opacity=\"1\" stroke=\"#000000\" stroke-opacity=\"1\" stroke-width=\"3.2\"/>\n",
       "<circle clip-path=\"url(#clip332)\" cx=\"517.745\" cy=\"1383.76\" r=\"14.4\" fill=\"#009af9\" fill-rule=\"evenodd\" fill-opacity=\"1\" stroke=\"#000000\" stroke-opacity=\"1\" stroke-width=\"3.2\"/>\n",
       "<circle clip-path=\"url(#clip332)\" cx=\"575.053\" cy=\"1383.76\" r=\"14.4\" fill=\"#009af9\" fill-rule=\"evenodd\" fill-opacity=\"1\" stroke=\"#000000\" stroke-opacity=\"1\" stroke-width=\"3.2\"/>\n",
       "<circle clip-path=\"url(#clip332)\" cx=\"632.362\" cy=\"1383.76\" r=\"14.4\" fill=\"#009af9\" fill-rule=\"evenodd\" fill-opacity=\"1\" stroke=\"#000000\" stroke-opacity=\"1\" stroke-width=\"3.2\"/>\n",
       "<circle clip-path=\"url(#clip332)\" cx=\"689.67\" cy=\"1383.76\" r=\"14.4\" fill=\"#009af9\" fill-rule=\"evenodd\" fill-opacity=\"1\" stroke=\"#000000\" stroke-opacity=\"1\" stroke-width=\"3.2\"/>\n",
       "<circle clip-path=\"url(#clip332)\" cx=\"746.978\" cy=\"1383.76\" r=\"14.4\" fill=\"#009af9\" fill-rule=\"evenodd\" fill-opacity=\"1\" stroke=\"#000000\" stroke-opacity=\"1\" stroke-width=\"3.2\"/>\n",
       "<circle clip-path=\"url(#clip332)\" cx=\"804.286\" cy=\"1383.74\" r=\"14.4\" fill=\"#009af9\" fill-rule=\"evenodd\" fill-opacity=\"1\" stroke=\"#000000\" stroke-opacity=\"1\" stroke-width=\"3.2\"/>\n",
       "<circle clip-path=\"url(#clip332)\" cx=\"861.595\" cy=\"1383.74\" r=\"14.4\" fill=\"#009af9\" fill-rule=\"evenodd\" fill-opacity=\"1\" stroke=\"#000000\" stroke-opacity=\"1\" stroke-width=\"3.2\"/>\n",
       "<circle clip-path=\"url(#clip332)\" cx=\"918.903\" cy=\"1383.74\" r=\"14.4\" fill=\"#009af9\" fill-rule=\"evenodd\" fill-opacity=\"1\" stroke=\"#000000\" stroke-opacity=\"1\" stroke-width=\"3.2\"/>\n",
       "<circle clip-path=\"url(#clip332)\" cx=\"976.211\" cy=\"1383.74\" r=\"14.4\" fill=\"#009af9\" fill-rule=\"evenodd\" fill-opacity=\"1\" stroke=\"#000000\" stroke-opacity=\"1\" stroke-width=\"3.2\"/>\n",
       "<circle clip-path=\"url(#clip332)\" cx=\"1033.52\" cy=\"1383.73\" r=\"14.4\" fill=\"#009af9\" fill-rule=\"evenodd\" fill-opacity=\"1\" stroke=\"#000000\" stroke-opacity=\"1\" stroke-width=\"3.2\"/>\n",
       "<circle clip-path=\"url(#clip332)\" cx=\"1090.83\" cy=\"1383.73\" r=\"14.4\" fill=\"#009af9\" fill-rule=\"evenodd\" fill-opacity=\"1\" stroke=\"#000000\" stroke-opacity=\"1\" stroke-width=\"3.2\"/>\n",
       "<circle clip-path=\"url(#clip332)\" cx=\"1148.14\" cy=\"1383.72\" r=\"14.4\" fill=\"#009af9\" fill-rule=\"evenodd\" fill-opacity=\"1\" stroke=\"#000000\" stroke-opacity=\"1\" stroke-width=\"3.2\"/>\n",
       "<circle clip-path=\"url(#clip332)\" cx=\"1205.44\" cy=\"1383.72\" r=\"14.4\" fill=\"#009af9\" fill-rule=\"evenodd\" fill-opacity=\"1\" stroke=\"#000000\" stroke-opacity=\"1\" stroke-width=\"3.2\"/>\n",
       "<circle clip-path=\"url(#clip332)\" cx=\"1262.75\" cy=\"1352.22\" r=\"14.4\" fill=\"#009af9\" fill-rule=\"evenodd\" fill-opacity=\"1\" stroke=\"#000000\" stroke-opacity=\"1\" stroke-width=\"3.2\"/>\n",
       "<circle clip-path=\"url(#clip332)\" cx=\"1320.06\" cy=\"1352.22\" r=\"14.4\" fill=\"#009af9\" fill-rule=\"evenodd\" fill-opacity=\"1\" stroke=\"#000000\" stroke-opacity=\"1\" stroke-width=\"3.2\"/>\n",
       "<circle clip-path=\"url(#clip332)\" cx=\"1377.37\" cy=\"1352.19\" r=\"14.4\" fill=\"#009af9\" fill-rule=\"evenodd\" fill-opacity=\"1\" stroke=\"#000000\" stroke-opacity=\"1\" stroke-width=\"3.2\"/>\n",
       "<circle clip-path=\"url(#clip332)\" cx=\"1434.68\" cy=\"1352.19\" r=\"14.4\" fill=\"#009af9\" fill-rule=\"evenodd\" fill-opacity=\"1\" stroke=\"#000000\" stroke-opacity=\"1\" stroke-width=\"3.2\"/>\n",
       "<circle clip-path=\"url(#clip332)\" cx=\"1491.99\" cy=\"1352.19\" r=\"14.4\" fill=\"#009af9\" fill-rule=\"evenodd\" fill-opacity=\"1\" stroke=\"#000000\" stroke-opacity=\"1\" stroke-width=\"3.2\"/>\n",
       "<circle clip-path=\"url(#clip332)\" cx=\"1549.29\" cy=\"1352.19\" r=\"14.4\" fill=\"#009af9\" fill-rule=\"evenodd\" fill-opacity=\"1\" stroke=\"#000000\" stroke-opacity=\"1\" stroke-width=\"3.2\"/>\n",
       "<circle clip-path=\"url(#clip332)\" cx=\"1606.6\" cy=\"1352.16\" r=\"14.4\" fill=\"#009af9\" fill-rule=\"evenodd\" fill-opacity=\"1\" stroke=\"#000000\" stroke-opacity=\"1\" stroke-width=\"3.2\"/>\n",
       "<circle clip-path=\"url(#clip332)\" cx=\"1663.91\" cy=\"1352.16\" r=\"14.4\" fill=\"#009af9\" fill-rule=\"evenodd\" fill-opacity=\"1\" stroke=\"#000000\" stroke-opacity=\"1\" stroke-width=\"3.2\"/>\n",
       "<circle clip-path=\"url(#clip332)\" cx=\"1721.22\" cy=\"1351.85\" r=\"14.4\" fill=\"#009af9\" fill-rule=\"evenodd\" fill-opacity=\"1\" stroke=\"#000000\" stroke-opacity=\"1\" stroke-width=\"3.2\"/>\n",
       "<circle clip-path=\"url(#clip332)\" cx=\"1778.53\" cy=\"1351.85\" r=\"14.4\" fill=\"#009af9\" fill-rule=\"evenodd\" fill-opacity=\"1\" stroke=\"#000000\" stroke-opacity=\"1\" stroke-width=\"3.2\"/>\n",
       "<circle clip-path=\"url(#clip332)\" cx=\"1835.84\" cy=\"1351.81\" r=\"14.4\" fill=\"#009af9\" fill-rule=\"evenodd\" fill-opacity=\"1\" stroke=\"#000000\" stroke-opacity=\"1\" stroke-width=\"3.2\"/>\n",
       "<circle clip-path=\"url(#clip332)\" cx=\"1893.14\" cy=\"1351.81\" r=\"14.4\" fill=\"#009af9\" fill-rule=\"evenodd\" fill-opacity=\"1\" stroke=\"#000000\" stroke-opacity=\"1\" stroke-width=\"3.2\"/>\n",
       "<circle clip-path=\"url(#clip332)\" cx=\"1950.45\" cy=\"1351.81\" r=\"14.4\" fill=\"#009af9\" fill-rule=\"evenodd\" fill-opacity=\"1\" stroke=\"#000000\" stroke-opacity=\"1\" stroke-width=\"3.2\"/>\n",
       "<circle clip-path=\"url(#clip332)\" cx=\"2007.76\" cy=\"1351.81\" r=\"14.4\" fill=\"#009af9\" fill-rule=\"evenodd\" fill-opacity=\"1\" stroke=\"#000000\" stroke-opacity=\"1\" stroke-width=\"3.2\"/>\n",
       "<circle clip-path=\"url(#clip332)\" cx=\"2065.07\" cy=\"1351.77\" r=\"14.4\" fill=\"#009af9\" fill-rule=\"evenodd\" fill-opacity=\"1\" stroke=\"#000000\" stroke-opacity=\"1\" stroke-width=\"3.2\"/>\n",
       "<circle clip-path=\"url(#clip332)\" cx=\"2122.38\" cy=\"1351.77\" r=\"14.4\" fill=\"#009af9\" fill-rule=\"evenodd\" fill-opacity=\"1\" stroke=\"#000000\" stroke-opacity=\"1\" stroke-width=\"3.2\"/>\n",
       "<circle clip-path=\"url(#clip332)\" cx=\"2179.68\" cy=\"1346.97\" r=\"14.4\" fill=\"#009af9\" fill-rule=\"evenodd\" fill-opacity=\"1\" stroke=\"#000000\" stroke-opacity=\"1\" stroke-width=\"3.2\"/>\n",
       "<circle clip-path=\"url(#clip332)\" cx=\"2236.99\" cy=\"1346.97\" r=\"14.4\" fill=\"#009af9\" fill-rule=\"evenodd\" fill-opacity=\"1\" stroke=\"#000000\" stroke-opacity=\"1\" stroke-width=\"3.2\"/>\n",
       "<circle clip-path=\"url(#clip332)\" cx=\"2294.3\" cy=\"1346.96\" r=\"14.4\" fill=\"#009af9\" fill-rule=\"evenodd\" fill-opacity=\"1\" stroke=\"#000000\" stroke-opacity=\"1\" stroke-width=\"3.2\"/>\n",
       "</svg>\n"
      ]
     },
     "execution_count": 111,
     "metadata": {},
     "output_type": "execute_result"
    }
   ],
   "source": [
    "using Plots\n",
    "Plots.plot(1:35,E0,seriestype=:scatter,xlabel=\"n\",ylabel=\"E\",legend=false)\n",
    "#ylims!((-7.20544,-7.20536)) # Onur hocanın makalesinde ki FIG1 için sınırlar\n",
    "Plots.ylims!(( -10.35,-7.20536))"
   ]
  },
  {
   "cell_type": "markdown",
   "id": "aaca712c-b257-494d-bc14-71ded4bb8410",
   "metadata": {},
   "source": [
    "Allta ki fonksiyonun çalışması için, dizide ki filtre edilmiş parçacık sayısı her zaman en büyük değer de olmalıdır.\n",
    "Örneğin, `PN=[0,1,2,3,4]` iken filtre edilen parçacık sayısı `pn=4` olmalıdır!"
   ]
  },
  {
   "cell_type": "code",
   "execution_count": 26,
   "id": "d582d7a3-67c3-4775-bcb8-2862643ca5ac",
   "metadata": {
    "tags": []
   },
   "outputs": [
    {
     "data": {
      "text/plain": [
       "Restricted_Hubbard_States (generic function with 1 method)"
      ]
     },
     "execution_count": 26,
     "metadata": {},
     "output_type": "execute_result"
    }
   ],
   "source": [
    "function Restricted_Hubbard_States(states)\n",
    "    number_of_states = length(filtered_energies)\n",
    "    return states[1:number_of_states];\n",
    "end"
   ]
  },
  {
   "cell_type": "code",
   "execution_count": 27,
   "id": "da17cb7c-bc14-4026-adae-386b3b5b2083",
   "metadata": {
    "tags": []
   },
   "outputs": [],
   "source": [
    "r_hubbard_states = Restricted_Hubbard_States(V);\n",
    "r_hubbard_states_0 = Restricted_Hubbard_States(V0);"
   ]
  },
  {
   "cell_type": "markdown",
   "id": "14aea968-4016-4dc6-965b-e194bc4b4944",
   "metadata": {},
   "source": [
    "# Densities"
   ]
  },
  {
   "cell_type": "markdown",
   "id": "74774696-2ef4-47f5-a37a-99c049a241d4",
   "metadata": {},
   "source": [
    "<font size=\"4\">\n",
    "$<n_i>, \\quad \\text{i: site index}$\n",
    "</font>"
   ]
  },
  {
   "cell_type": "code",
   "execution_count": 28,
   "id": "36f916a4-68d4-4448-ac28-a27d6f24ce86",
   "metadata": {
    "tags": []
   },
   "outputs": [
    {
     "data": {
      "text/plain": [
       "0.056147989239729724 - 4.389882615309532e-19im"
      ]
     },
     "execution_count": 28,
     "metadata": {},
     "output_type": "execute_result"
    }
   ],
   "source": [
    "# METHOD 1\n",
    "\n",
    "NM_MB_Array_Storage = zeros(Complex{Float64},length(basis_cut_mb),length(basis_cut_mb),N);\n",
    "NM_MB_Matrix = zeros(Complex{Float64},length(basis_cut_mb),length(basis_cut_mb));\n",
    "for m in 1:N\n",
    "    for i in 1:length(basis_cut_mb)\n",
    "        for j in 1:length(basis_cut_mb)\n",
    "            #NM_MB_Matrix[i,j] = num_mb_list[m].data[i,j]\n",
    "            NM_MB_Matrix[i,j] = number_mb_list_operators[m].data[i,j]\n",
    "            # NOT: num_mb_list ile number_mb_list_operators bazları farklı ama içerikleri aynı!\n",
    "        end\n",
    "    end\n",
    "    NM_MB_Array_Storage[:,:,m] = NM_MB_Matrix\n",
    "end\n",
    "\n",
    "BL = BR = basis_cut_mb\n",
    "index_number_op = 4\n",
    "T = NM_MB_Array_Storage[:,:,index_number_op]\n",
    "Op = Operator(BL,BR,T)\n",
    "index_eigen_states = 1\n",
    "expect(Op, r_hubbard_states[index_eigen_states])\n",
    "expect(Op, r_hubbard_states_0[index_eigen_states])\n",
    "\n",
    "#or\n",
    "# expect(number_mb_list_operators[index_number_op],r_hubbard_states[index_eigen_states])"
   ]
  },
  {
   "cell_type": "markdown",
   "id": "de16c359-2839-4b2f-8f23-eb528631279b",
   "metadata": {},
   "source": [
    "<font size=\"4\">\n",
    "$\\sum_{i} <\\psi_j|n_j|\\psi_j>, \\quad \\text{for a given j index}$\n",
    "</font>"
   ]
  },
  {
   "cell_type": "code",
   "execution_count": 114,
   "id": "76f88a82-5b2a-42be-8493-09d88c08e621",
   "metadata": {
    "tags": []
   },
   "outputs": [
    {
     "data": {
      "text/plain": [
       "80-element Vector{Float64}:\n",
       " 0.04897975754606998\n",
       " 0.05283610960700737\n",
       " 0.059204140591718545\n",
       " 0.06331547289550829\n",
       " 0.05920414059129104\n",
       " 0.05283610960624559\n",
       " 0.0489797575452305\n",
       " 0.04864334686942337\n",
       " 0.035986391170550365\n",
       " 0.03798489998228845\n",
       " 0.041807089776743286\n",
       " 0.04443260436323079\n",
       " 0.04180708978026039\n",
       " ⋮\n",
       " 0.02893256010480624\n",
       " 0.0318041628444072\n",
       " 0.03423895356934607\n",
       " 0.03474700910158761\n",
       " 0.03598639116486954\n",
       " 0.0379848999810002\n",
       " 0.04180708978035307\n",
       " 0.04443260436345958\n",
       " 0.041807089776192234\n",
       " 0.037984899980668285\n",
       " 0.03598639116818403\n",
       " 0.03595696046175254"
      ]
     },
     "execution_count": 114,
     "metadata": {},
     "output_type": "execute_result"
    }
   ],
   "source": [
    "index_eig_states = 1\n",
    "\n",
    "function get_density_profiles(NM_MB_Array_Storage, r_hubbard_states, index_eig_states)\n",
    "    Sum = 0\n",
    "    expect_list=[]\n",
    "    for i in 1:N\n",
    "        T = NM_MB_Array_Storage[:,:,i]\n",
    "        Op = Operator(BL,BR,T)   \n",
    "        Sum += expect(Op, r_hubbard_states[index_eig_states])\n",
    "        push!(expect_list, expect(Op, r_hubbard_states[index_eig_states]))\n",
    "    end\n",
    "    return real(expect_list)\n",
    "end\n",
    "\n",
    "get_density_profiles(NM_MB_Array_Storage,r_hubbard_states, index_eig_states)"
   ]
  },
  {
   "cell_type": "code",
   "execution_count": 54,
   "id": "7e265d52-5561-45ed-a86d-8590314b2135",
   "metadata": {
    "tags": []
   },
   "outputs": [
    {
     "data": {
      "text/plain": [
       "80-element Vector{Float64}:\n",
       " 0.05611713798420365\n",
       " 0.056147989239164406\n",
       " 0.056117137984526055\n",
       " 0.056147989239729724\n",
       " 0.05611713798498152\n",
       " 0.0561479892397028\n",
       " 0.05611713798460368\n",
       " 0.05614798923914976\n",
       " 0.03029494245975348\n",
       " 0.030346126350135602\n",
       " 0.030294942460086436\n",
       " 0.03034612635082191\n",
       " 0.030294942460743476\n",
       " ⋮\n",
       " 0.01328948786301101\n",
       " 0.013376353262706395\n",
       " 0.013289487863601302\n",
       " 0.01337635326366607\n",
       " 0.030294942460338207\n",
       " 0.030346126350629513\n",
       " 0.03029494246020052\n",
       " 0.030346126350530817\n",
       " 0.03029494246014465\n",
       " 0.030346126350380215\n",
       " 0.03029494246021734\n",
       " 0.03034612635057496"
      ]
     },
     "execution_count": 54,
     "metadata": {},
     "output_type": "execute_result"
    }
   ],
   "source": [
    "get_density_profiles(NM_MB_Array_Storage,r_hubbard_states_0, index_eig_states)"
   ]
  },
  {
   "cell_type": "code",
   "execution_count": 172,
   "id": "879026ac-6676-41fd-b974-8d6d894c6f67",
   "metadata": {
    "tags": []
   },
   "outputs": [
    {
     "data": {
      "text/plain": [
       "8×10 Matrix{Float64}:\n",
       " 0.0375436  0.0375136  0.0374646  …  0.0374646  0.0374646  0.0375136\n",
       " 0.0375436  0.0375136  0.0374646     0.0374646  0.0374646  0.0375136\n",
       " 0.0375436  0.0375136  0.0374646     0.0374646  0.0374646  0.0375136\n",
       " 0.0375436  0.0375136  0.0374646     0.0374646  0.0374646  0.0375136\n",
       " 0.0375436  0.0375136  0.0374646     0.0374646  0.0374646  0.0375136\n",
       " 0.0375436  0.0375136  0.0374646  …  0.0374646  0.0374646  0.0375136\n",
       " 0.0375436  0.0375136  0.0374646     0.0374646  0.0374646  0.0375136\n",
       " 0.0375436  0.0375136  0.0374646     0.0374646  0.0374646  0.0375136"
      ]
     },
     "execution_count": 172,
     "metadata": {},
     "output_type": "execute_result"
    }
   ],
   "source": [
    "# ORTALAMA:\n",
    "\n",
    "Degeneracy = 7\n",
    "avg_density = zeros((Nx,Ny)) \n",
    "for index_eig_states in 1:Degeneracy\n",
    "    avg_density += reshape(get_density_profiles(NM_MB_Array_Storage, r_hubbard_states, index_eig_states),Nx,Ny)\n",
    "end    \n",
    "avg_density = avg_density / Degeneracy;\n",
    "\n",
    "Degeneracy_0 = 16\n",
    "avg_density_0 = zeros((Nx,Ny))\n",
    "for index_eig_states in 1:Degeneracy_0\n",
    "    avg_density_0 += reshape(get_density_profiles(NM_MB_Array_Storage, r_hubbard_states_0, index_eig_states),Nx,Ny)\n",
    "end    \n",
    "avg_density_0 = avg_density_0 / Degeneracy_0"
   ]
  },
  {
   "cell_type": "code",
   "execution_count": 331,
   "id": "b08898a5-99a9-49a7-a0c0-0ae3f8f9a447",
   "metadata": {
    "tags": []
   },
   "outputs": [
    {
     "data": {
      "text/plain": [
       "80×2 transpose(::Matrix{Any}) with eltype Any:\n",
       " 0  0\n",
       " 1  0\n",
       " 2  0\n",
       " 3  0\n",
       " 4  0\n",
       " 5  0\n",
       " 6  0\n",
       " 7  0\n",
       " 0  1\n",
       " 1  1\n",
       " 2  1\n",
       " 3  1\n",
       " 4  1\n",
       " ⋮  \n",
       " 4  8\n",
       " 5  8\n",
       " 6  8\n",
       " 7  8\n",
       " 0  9\n",
       " 1  9\n",
       " 2  9\n",
       " 3  9\n",
       " 4  9\n",
       " 5  9\n",
       " 6  9\n",
       " 7  9"
      ]
     },
     "execution_count": 331,
     "metadata": {},
     "output_type": "execute_result"
    }
   ],
   "source": [
    "square_lattice(Nx,Ny)[2]"
   ]
  },
  {
   "cell_type": "code",
   "execution_count": 361,
   "id": "b907d56b-0082-46af-a0a9-cbe16667f49f",
   "metadata": {
    "tags": []
   },
   "outputs": [
    {
     "data": {
      "text/plain": [
       "2-element Vector{Any}:\n",
       " 3\n",
       " 5"
      ]
     },
     "execution_count": 361,
     "metadata": {},
     "output_type": "execute_result"
    }
   ],
   "source": [
    "# Imp. site'ın x ve y koordinatları\n",
    "co = square_lattice(Nx,Ny)[2][imp_site,:]\n",
    "# DİKKAT: Koordinat INDİSLERİM 0'dan başlıyor"
   ]
  },
  {
   "cell_type": "markdown",
   "id": "f04f7003-79d5-4ce7-b9f8-dfd66834d93d",
   "metadata": {},
   "source": [
    "# Density Heat-Maps"
   ]
  },
  {
   "cell_type": "code",
   "execution_count": 381,
   "id": "06f43dff-4b2d-43d9-8ebf-cacd489d6067",
   "metadata": {
    "tags": []
   },
   "outputs": [
    {
     "data": {
      "text/plain": [
       "10×8 transpose(OffsetArray(reshape(::UnitRange{Int64}, 8, 10), 0:7, 0:9)) with eltype Int64 with indices 0:9×0:7:\n",
       "  1   2   3   4   5   6   7   8\n",
       "  9  10  11  12  13  14  15  16\n",
       " 17  18  19  20  21  22  23  24\n",
       " 25  26  27  28  29  30  31  32\n",
       " 33  34  35  36  37  38  39  40\n",
       " 41  42  43  44  45  46  47  48\n",
       " 49  50  51  52  53  54  55  56\n",
       " 57  58  59  60  61  62  63  64\n",
       " 65  66  67  68  69  70  71  72\n",
       " 73  74  75  76  77  78  79  80"
      ]
     },
     "execution_count": 381,
     "metadata": {},
     "output_type": "execute_result"
    }
   ],
   "source": [
    "square_lattice_structure = square_lattice(Nx,Ny)[1]"
   ]
  },
  {
   "cell_type": "code",
   "execution_count": 365,
   "id": "f817d7b8-29d5-4708-bd7d-c784e6be59ec",
   "metadata": {
    "tags": []
   },
   "outputs": [
    {
     "data": {
      "image/svg+xml": [
       "<?xml version=\"1.0\" encoding=\"utf-8\"?>\n",
       "<svg xmlns=\"http://www.w3.org/2000/svg\" xmlns:xlink=\"http://www.w3.org/1999/xlink\" width=\"600\" height=\"400\" viewBox=\"0 0 2400 1600\">\n",
       "<defs>\n",
       "  <clipPath id=\"clip170\">\n",
       "    <rect x=\"0\" y=\"0\" width=\"2400\" height=\"1600\"/>\n",
       "  </clipPath>\n",
       "</defs>\n",
       "<path clip-path=\"url(#clip170)\" d=\"M0 1600 L2400 1600 L2400 0 L0 0  Z\" fill=\"#ffffff\" fill-rule=\"evenodd\" fill-opacity=\"1\"/>\n",
       "<defs>\n",
       "  <clipPath id=\"clip171\">\n",
       "    <rect x=\"480\" y=\"0\" width=\"1681\" height=\"1600\"/>\n",
       "  </clipPath>\n",
       "</defs>\n",
       "<path clip-path=\"url(#clip170)\" d=\"M202.227 1350.66 L2112.76 1350.66 L2112.76 195.996 L202.227 195.996  Z\" fill=\"#ffffff\" fill-rule=\"evenodd\" fill-opacity=\"1\"/>\n",
       "<defs>\n",
       "  <clipPath id=\"clip172\">\n",
       "    <rect x=\"202\" y=\"195\" width=\"1912\" height=\"1156\"/>\n",
       "  </clipPath>\n",
       "</defs>\n",
       "<path clip-path=\"url(#clip170)\" d=\"M1174.11 1459.87 L1161.22 1477.22 L1174.77 1495.52 L1167.87 1495.52 L1157.49 1481.52 L1147.12 1495.52 L1140.21 1495.52 L1154.05 1476.87 L1141.39 1459.87 L1148.29 1459.87 L1157.75 1472.57 L1167.2 1459.87 L1174.11 1459.87 Z\" fill=\"#000000\" fill-rule=\"nonzero\" fill-opacity=\"1\" /><path clip-path=\"url(#clip170)\" d=\"M67.3143 771.639 Q73.68 774.122 75.6216 776.477 Q77.5631 778.832 77.5631 782.779 L77.5631 787.458 L72.6615 787.458 L72.6615 784.02 Q72.6615 781.601 71.5157 780.265 Q70.3699 778.928 66.1048 777.305 L63.4312 776.254 L28.3562 790.673 L28.3562 784.466 L56.238 773.326 L28.3562 762.186 L28.3562 755.979 L67.3143 771.639 Z\" fill=\"#000000\" fill-rule=\"nonzero\" fill-opacity=\"1\" /><path clip-path=\"url(#clip170)\" d=\"M1070.76 12.096 L1105.52 12.096 L1105.52 18.9825 L1078.94 18.9825 L1078.94 36.8065 L1102.93 36.8065 L1102.93 43.6931 L1078.94 43.6931 L1078.94 72.576 L1070.76 72.576 L1070.76 12.096 Z\" fill=\"#000000\" fill-rule=\"nonzero\" fill-opacity=\"1\" /><path clip-path=\"url(#clip170)\" d=\"M1118.48 12.096 L1126.66 12.096 L1126.66 72.576 L1118.48 72.576 L1118.48 12.096 Z\" fill=\"#000000\" fill-rule=\"nonzero\" fill-opacity=\"1\" /><path clip-path=\"url(#clip170)\" d=\"M1184.19 63.9476 L1184.19 47.7034 L1170.82 47.7034 L1170.82 40.9789 L1192.29 40.9789 L1192.29 66.9452 Q1187.55 70.3075 1181.84 72.0494 Q1176.13 73.7508 1169.64 73.7508 Q1155.47 73.7508 1147.45 65.4869 Q1139.47 57.1826 1139.47 42.3968 Q1139.47 27.5705 1147.45 19.3066 Q1155.47 11.0023 1169.64 11.0023 Q1175.56 11.0023 1180.87 12.4606 Q1186.21 13.9189 1190.71 16.7545 L1190.71 25.464 Q1186.17 21.6156 1181.07 19.6712 Q1175.96 17.7268 1170.33 17.7268 Q1159.23 17.7268 1153.64 23.9246 Q1148.09 30.1225 1148.09 42.3968 Q1148.09 54.6305 1153.64 60.8284 Q1159.23 67.0263 1170.33 67.0263 Q1174.67 67.0263 1178.07 66.2971 Q1181.47 65.5274 1184.19 63.9476 Z\" fill=\"#000000\" fill-rule=\"nonzero\" fill-opacity=\"1\" /><path clip-path=\"url(#clip170)\" d=\"M1209.38 65.6895 L1222.75 65.6895 L1222.75 19.5497 L1208.21 22.4663 L1208.21 15.0127 L1222.67 12.096 L1230.85 12.096 L1230.85 65.6895 L1244.22 65.6895 L1244.22 72.576 L1209.38 72.576 L1209.38 65.6895 Z\" fill=\"#000000\" fill-rule=\"nonzero\" fill-opacity=\"1\" /><g clip-path=\"url(#clip172)\">\n",
       "<image width=\"871\" height=\"1089\" xlink:href=\"data:image/png;base64,\n",
       "iVBORw0KGgoAAAANSUhEUgAAA2cAAARBCAYAAAChGfjAAAAaGklEQVR4nO3Zy4pldxmH4a7aFbt3\n",
       "2dX2IQ0ZmIFQY9EWnBpx4AGcZZQbyi3kPjJIZsZpwATiTBodBEK0D6nY7a4uiqryGv6j793hea7g\n",
       "B4vFWi/fwd9//7ubW+yV4+Pz6Qks+snjF9MTWHT7wavpCSy6+O5kegKLvn/2aHoCi3a77fQE+EE7\n",
       "nB4AAACAOAMAAEgQZwAAAAHiDAAAIECcAQAABIgzAACAAHEGAAAQIM4AAAACxBkAAECAOAMAAAgQ\n",
       "ZwAAAAHiDAAAIECcAQAABIgzAACAAHEGAAAQIM4AAAACxBkAAECAOAMAAAgQZwAAAAHiDAAAIECc\n",
       "AQAABIgzAACAAHEGAAAQIM4AAAACxBkAAECAOAMAAAgQZwAAAAHiDAAAIECcAQAABIgzAACAAHEG\n",
       "AAAQIM4AAAACxBkAAECAOAMAAAgQZwAAAAHiDAAAIECcAQAABIgzAACAAHEGAAAQIM4AAAACxBkA\n",
       "AECAOAMAAAgQZwAAAAHiDAAAIECcAQAABIgzAACAAHEGAAAQIM4AAAACxBkAAECAOAMAAAgQZwAA\n",
       "AAHiDAAAIECcAQAABIgzAACAAHEGAAAQIM4AAAACxBkAAECAOAMAAAgQZwAAAAHiDAAAIECcAQAA\n",
       "BIgzAACAAHEGAAAQIM4AAAACxBkAAECAOAMAAAgQZwAAAAHiDAAAIECcAQAABIgzAACAAHEGAAAQ\n",
       "IM4AAAACxBkAAECAOAMAAAgQZwAAAAHiDAAAIECcAQAABIgzAACAAHEGAAAQIM4AAAACxBkAAECA\n",
       "OAMAAAgQZwAAAAHiDAAAIECcAQAABIgzAACAAHEGAAAQIM4AAAACxBkAAECAOAMAAAgQZwAAAAHi\n",
       "DAAAIECcAQAABIgzAACAAHEGAAAQIM4AAAACxBkAAECAOAMAAAgQZwAAAAHiDAAAIECcAQAABIgz\n",
       "AACAAHEGAAAQIM4AAAACxBkAAECAOAMAAAgQZwAAAAHiDAAAIODo/OL29AYW/fvswfQEFr385+n0\n",
       "BBZdXm2mJ7Dorc3V9AQWPbyzm57Aontbz2zfHB5eT09ggcsZAABAgDgDAAAIEGcAAAAB4gwAACBA\n",
       "nAEAAASIMwAAgABxBgAAECDOAAAAAsQZAABAgDgDAAAIEGcAAAAB4gwAACBAnAEAAASIMwAAgABx\n",
       "BgAAECDOAAAAAsQZAABAgDgDAAAIEGcAAAAB4gwAACBAnAEAAASIMwAAgABxBgAAECDOAAAAAsQZ\n",
       "AABAgDgDAAAIEGcAAAAB4gwAACBAnAEAAASIMwAAgABxBgAAECDOAAAAAsQZAABAgDgDAAAIEGcA\n",
       "AAAB4gwAACBAnAEAAASIMwAAgABxBgAAECDOAAAAAsQZAABAgDgDAAAIEGcAAAAB4gwAACBAnAEA\n",
       "AASIMwAAgABxBgAAECDOAAAAAsQZAABAgDgDAAAIEGcAAAAB4gwAACBAnAEAAASIMwAAgABxBgAA\n",
       "ECDOAAAAAsQZAABAgDgDAAAIEGcAAAAB4gwAACBAnAEAAASIMwAAgABxBgAAECDOAAAAAsQZAABA\n",
       "gDgDAAAIEGcAAAAB4gwAACBAnAEAAASIMwAAgABxBgAAECDOAAAAAsQZAABAgDgDAAAIEGcAAAAB\n",
       "4gwAACBAnAEAAASIMwAAgABxBgAAECDOAAAAAsQZAABAgDgDAAAIEGcAAAAB4gwAACBAnAEAAASI\n",
       "MwAAgABxBgAAECDOAAAAAsQZAABAgDgDAAAIEGcAAAAB4gwAACBAnAEAAASIMwAAgABxBgAAECDO\n",
       "AAAAAsQZAABAgDgDAAAIEGcAAAAB4gwAACBAnAEAAASIMwAAgABxBgAAECDOAAAAAsQZAABAgDgD\n",
       "AAAIEGcAAAAB4gwAACDg4M2H926mR7Dm2Ven0xNY9OmXv5qewKKnr+9MT2DR6d030xNY9Idf/m16\n",
       "Aose//zp9AQW3VxupiewwOUMAAAgQJwBAAAEiDMAAIAAcQYAABAgzgAAAALEGQAAQIA4AwAACBBn\n",
       "AAAAAeIMAAAgQJwBAAAEiDMAAIAAcQYAABAgzgAAAALEGQAAQIA4AwAACBBnAAAAAeIMAAAgQJwB\n",
       "AAAEiDMAAIAAcQYAABAgzgAAAALEGQAAQIA4AwAACBBnAAAAAeIMAAAgQJwBAAAEiDMAAIAAcQYA\n",
       "ABAgzgAAAALEGQAAQIA4AwAACBBnAAAAAeIMAAAgQJwBAAAEiDMAAIAAcQYAABAgzgAAAALEGQAA\n",
       "QIA4AwAACBBnAAAAAeIMAAAgQJwBAAAEiDMAAIAAcQYAABAgzgAAAALEGQAAQIA4AwAACBBnAAAA\n",
       "AeIMAAAgQJwBAAAEiDMAAIAAcQYAABAgzgAAAALEGQAAQIA4AwAACBBnAAAAAeIMAAAgQJwBAAAE\n",
       "iDMAAIAAcQYAABAgzgAAAALEGQAAQIA4AwAACBBnAAAAAeIMAAAgQJwBAAAEiDMAAIAAcQYAABAg\n",
       "zgAAAALEGQAAQIA4AwAACBBnAAAAAeIMAAAgQJwBAAAEiDMAAIAAcQYAABAgzgAAAALEGQAAQIA4\n",
       "AwAACBBnAAAAAeIMAAAgQJwBAAAEiDMAAIAAcQYAABAgzgAAAALEGQAAQIA4AwAACBBnAAAAAeIM\n",
       "AAAgQJwBAAAEiDMAAIAAcQYAABAgzgAAAALEGQAAQIA4AwAACBBnAAAAAeIMAAAgQJwBAAAEiDMA\n",
       "AIAAcQYAABAgzgAAAALEGQAAQIA4AwAACBBnAAAAAeIMAAAgQJwBAAAEiDMAAIAAcQYAABBwdPDe\n",
       "z6Y3sOjuN2fTE1j0+Yvt9AQW/fX86+kJLPrNxbvTE1j0/tu+Z/vGf+P+OXr5n+kJLHA5AwAACBBn\n",
       "AAAAAeIMAAAgQJwBAAAEiDMAAIAAcQYAABAgzgAAAALEGQAAQIA4AwAACBBnAAAAAeIMAAAgQJwB\n",
       "AAAEiDMAAIAAcQYAABAgzgAAAALEGQAAQIA4AwAACBBnAAAAAeIMAAAgQJwBAAAEiDMAAIAAcQYA\n",
       "ABAgzgAAAALEGQAAQIA4AwAACBBnAAAAAeIMAAAgQJwBAAAEiDMAAIAAcQYAABAgzgAAAALEGQAA\n",
       "QIA4AwAACBBnAAAAAeIMAAAgQJwBAAAEiDMAAIAAcQYAABAgzgAAAALEGQAAQIA4AwAACBBnAAAA\n",
       "AeIMAAAgQJwBAAAEiDMAAIAAcQYAABAgzgAAAALEGQAAQIA4AwAACBBnAAAAAeIMAAAgQJwBAAAE\n",
       "iDMAAIAAcQYAABAgzgAAAALEGQAAQIA4AwAACBBnAAAAAeIMAAAgQJwBAAAEiDMAAIAAcQYAABAg\n",
       "zgAAAALEGQAAQIA4AwAACBBnAAAAAeIMAAAgQJwBAAAEiDMAAIAAcQYAABAgzgAAAALEGQAAQIA4\n",
       "AwAACBBnAAAAAeIMAAAgQJwBAAAEiDMAAIAAcQYAABAgzgAAAALEGQAAQIA4AwAACBBnAAAAAeIM\n",
       "AAAgQJwBAAAEiDMAAIAAcQYAABAgzgAAAALEGQAAQIA4AwAACBBnAAAAAeIMAAAgQJwBAAAEiDMA\n",
       "AIAAcQYAABAgzgAAAALEGQAAQIA4AwAACBBnAAAAAeIMAAAgQJwBAAAEiDMAAIAAcQYAABAgzgAA\n",
       "AALEGQAAQIA4AwAACBBnAAAAAeIMAAAgQJwBAAAEHN063ExvYNH52cn0BBZ98b+z6Qks+sfu4+kJ\n",
       "LDq5/mB6Aot8z/bPsf/G/XN1Nb2ABS5nAAAAAeIMAAAgQJwBAAAEiDMAAIAAcQYAABAgzgAAAALE\n",
       "GQAAQIA4AwAACBBnAAAAAeIMAAAgQJwBAAAEiDMAAIAAcQYAABAgzgAAAALEGQAAQIA4AwAACBBn\n",
       "AAAAAeIMAAAgQJwBAAAEiDMAAIAAcQYAABAgzgAAAALEGQAAQIA4AwAACBBnAAAAAeIMAAAgQJwB\n",
       "AAAEiDMAAIAAcQYAABAgzgAAAALEGQAAQIA4AwAACBBnAAAAAeIMAAAgQJwBAAAEiDMAAIAAcQYA\n",
       "ABAgzgAAAALEGQAAQIA4AwAACBBnAAAAAeIMAAAgQJwBAAAEiDMAAIAAcQYAABAgzgAAAALEGQAA\n",
       "QIA4AwAACBBnAAAAAeIMAAAgQJwBAAAEiDMAAIAAcQYAABAgzgAAAALEGQAAQIA4AwAACBBnAAAA\n",
       "AeIMAAAgQJwBAAAEiDMAAIAAcQYAABAgzgAAAALEGQAAQIA4AwAACBBnAAAAAeIMAAAgQJwBAAAE\n",
       "iDMAAIAAcQYAABAgzgAAAALEGQAAQIA4AwAACBBnAAAAAeIMAAAgQJwBAAAEiDMAAIAAcQYAABAg\n",
       "zgAAAALEGQAAQIA4AwAACBBnAAAAAeIMAAAgQJwBAAAEiDMAAIAAcQYAABAgzgAAAALEGQAAQIA4\n",
       "AwAACBBnAAAAAeIMAAAgQJwBAAAEiDMAAIAAcQYAABAgzgAAAALEGQAAQIA4AwAACBBnAAAAAeIM\n",
       "AAAgQJwBAAAEiDMAAIAAcQYAABAgzgAAAALEGQAAQIA4AwAACBBnAAAAAeIMAAAgQJwBAAAEiDMA\n",
       "AICAo1vXV9MbWLS9/2p6Aoue/Pj+9AQWvTr88/QEFj3Zes/2je/ZHro+mV7Aqs1megELXM4AAAAC\n",
       "xBkAAECAOAMAAAgQZwAAAAHiDAAAIECcAQAABIgzAACAAHEGAAAQIM4AAAACxBkAAECAOAMAAAgQ\n",
       "ZwAAAAHiDAAAIECcAQAABIgzAACAAHEGAAAQIM4AAAACxBkAAECAOAMAAAgQZwAAAAHiDAAAIECc\n",
       "AQAABIgzAACAAHEGAAAQIM4AAAACxBkAAECAOAMAAAgQZwAAAAHiDAAAIECcAQAABIgzAACAAHEG\n",
       "AAAQIM4AAAACxBkAAECAOAMAAAgQZwAAAAHiDAAAIECcAQAABIgzAACAAHEGAAAQIM4AAAACxBkA\n",
       "AECAOAMAAAgQZwAAAAHiDAAAIECcAQAABIgzAACAAHEGAAAQIM4AAAACxBkAAECAOAMAAAgQZwAA\n",
       "AAHiDAAAIECcAQAABIgzAACAAHEGAAAQIM4AAAACxBkAAECAOAMAAAgQZwAAAAHiDAAAIECcAQAA\n",
       "BIgzAACAAHEGAAAQIM4AAAACxBkAAECAOAMAAAgQZwAAAAHiDAAAIECcAQAABIgzAACAAHEGAAAQ\n",
       "IM4AAAACxBkAAECAOAMAAAgQZwAAAAHiDAAAIECcAQAABIgzAACAAHEGAAAQIM4AAAACxBkAAECA\n",
       "OAMAAAgQZwAAAAHiDAAAIECcAQAABIgzAACAAHEGAAAQIM4AAAACxBkAAECAOAMAAAgQZwAAAAHi\n",
       "DAAAIECcAQAABIgzAACAAHEGAAAQIM4AAAACxBkAAECAOAMAAAgQZwAAAAHiDAAAIECcAQAABIgz\n",
       "AACAAHEGAAAQIM4AAAACxBkAAECAOAMAAAgQZwAAAAFHN5/9a3oDi14/P52ewKJfPzqfnsCih69/\n",
       "Oj2BRad3vWf75vXz+9MTWLT97On0BBZdXm6mJ7DA5QwAACBAnAEAAASIMwAAgABxBgAAECDOAAAA\n",
       "AsQZAABAgDgDAAAIEGcAAAAB4gwAACBAnAEAAASIMwAAgABxBgAAECDOAAAAAsQZAABAgDgDAAAI\n",
       "EGcAAAAB4gwAACBAnAEAAASIMwAAgABxBgAAECDOAAAAAsQZAABAgDgDAAAIEGcAAAAB4gwAACBA\n",
       "nAEAAASIMwAAgABxBgAAECDOAAAAAsQZAABAgDgDAAAIEGcAAAAB4gwAACBAnAEAAASIMwAAgABx\n",
       "BgAAECDOAAAAAsQZAABAgDgDAAAIEGcAAAAB4gwAACBAnAEAAASIMwAAgABxBgAAECDOAAAAAsQZ\n",
       "AABAgDgDAAAIEGcAAAAB4gwAACBAnAEAAASIMwAAgABxBgAAECDOAAAAAsQZAABAgDgDAAAIEGcA\n",
       "AAAB4gwAACBAnAEAAASIMwAAgABxBgAAECDOAAAAAsQZAABAgDgDAAAIEGcAAAAB4gwAACBAnAEA\n",
       "AASIMwAAgABxBgAAECDOAAAAAsQZAABAgDgDAAAIEGcAAAAB4gwAACBAnAEAAASIMwAAgABxBgAA\n",
       "ECDOAAAAAsQZAABAgDgDAAAIEGcAAAAB4gwAACBAnAEAAASIMwAAgABxBgAAECDOAAAAAsQZAABA\n",
       "gDgDAAAIEGcAAAAB4gwAACBAnAEAAASIMwAAgABxBgAAECDOAAAAAsQZAABAgDgDAAAIEGcAAAAB\n",
       "4gwAACBAnAEAAASIMwAAgABxBgAAECDOAAAAAsQZAABAgDgDAAAIEGcAAAAB4gwAACBAnAEAAASI\n",
       "MwAAgABxBgAAEHDw+Xt/upkewZr/nh9PT2DRyzee2b65vNpMT2DRW5ur6QksenhnNz2BRfe2ntm+\n",
       "OTy8np7AApczAACAAHEGAAAQIM4AAAACxBkAAECAOAMAAAgQZwAAAAHiDAAAIECcAQAABIgzAACA\n",
       "AHEGAAAQIM4AAAACxBkAAECAOAMAAAgQZwAAAAHiDAAAIECcAQAABIgzAACAAHEGAAAQIM4AAAAC\n",
       "xBkAAECAOAMAAAgQZwAAAAHiDAAAIECcAQAABIgzAACAAHEGAAAQIM4AAAACxBkAAECAOAMAAAgQ\n",
       "ZwAAAAHiDAAAIECcAQAABIgzAACAAHEGAAAQIM4AAAACxBkAAECAOAMAAAgQZwAAAAHiDAAAIECc\n",
       "AQAABIgzAACAAHEGAAAQIM4AAAACxBkAAECAOAMAAAgQZwAAAAHiDAAAIECcAQAABIgzAACAAHEG\n",
       "AAAQIM4AAAACxBkAAECAOAMAAAgQZwAAAAHiDAAAIECcAQAABIgzAACAAHEGAAAQIM4AAAACxBkA\n",
       "AECAOAMAAAgQZwAAAAHiDAAAIECcAQAABIgzAACAAHEGAAAQIM4AAAACxBkAAECAOAMAAAgQZwAA\n",
       "AAHiDAAAIECcAQAABIgzAACAAHEGAAAQIM4AAAACxBkAAECAOAMAAAgQZwAAAAHiDAAAIECcAQAA\n",
       "BIgzAACAAHEGAAAQIM4AAAACxBkAAECAOAMAAAgQZwAAAAHiDAAAIECcAQAABIgzAACAAHEGAAAQ\n",
       "IM4AAAACxBkAAECAOAMAAAgQZwAAAAHiDAAAIECcAQAABIgzAACAAHEGAAAQIM4AAAACxBkAAECA\n",
       "OAMAAAgQZwAAAAHiDAAAIECcAQAABIgzAACAAHEGAAAQIM4AAAACxBkAAEDA0fb2xfQGFj16cDY9\n",
       "gUW/ePxiegKLbj94NT2BRRffnUxPYNH3zx5NT2DRbredngA/aC5nAAAAAeIMAAAgQJwBAAAEiDMA\n",
       "AIAAcQYAABAgzgAAAALEGQAAQIA4AwAACBBnAAAAAeIMAAAgQJwBAAAEiDMAAIAAcQYAABAgzgAA\n",
       "AALEGQAAQIA4AwAACBBnAAAAAeIMAAAgQJwBAAAEiDMAAIAAcQYAABAgzgAAAALEGQAAQIA4AwAA\n",
       "CBBnAAAAAeIMAAAgQJwBAAAEiDMAAIAAcQYAABAgzgAAAALEGQAAQIA4AwAACBBnAAAAAeIMAAAg\n",
       "QJwBAAAEiDMAAIAAcQYAABAgzgAAAALEGQAAQIA4AwAACBBnAAAAAeIMAAAgQJwBAAAEiDMAAIAA\n",
       "cQYAABAgzgAAAALEGQAAQIA4AwAACBBnAAAAAeIMAAAgQJwBAAAEiDMAAIAAcQYAABAgzgAAAALE\n",
       "GQAAQIA4AwAACBBnAAAAAeIMAAAgQJwBAAAEiDMAAIAAcQYAABAgzgAAAALEGQAAQIA4AwAACBBn\n",
       "AAAAAeIMAAAgQJwBAAAEiDMAAIAAcQYAABAgzgAAAALEGQAAQIA4AwAACBBnAAAAAeIMAAAgQJwB\n",
       "AAAEiDMAAIAAcQYAABAgzgAAAALEGQAAQIA4AwAACBBnAAAAAeIMAAAgQJwBAAAEiDMAAIAAcQYA\n",
       "ABAgzgAAAALEGQAAQIA4AwAACBBnAAAAAeIMAAAgQJwBAAAEiDMAAIAAcQYAABAgzgAAAALEGQAA\n",
       "QIA4AwAACBBnAAAAAeIMAAAgQJwBAAAEiDMAAIAAcQYAABAgzgAAAALEGQAAQIA4AwAACBBnAAAA\n",
       "AeIMAAAgQJwBAAAEiDMAAICAg8uPfnQzPYI1B+++PT2BRbsnf5yewKLjd347PYFFu2//Mj2BRcdf\n",
       "fDI9gUU3Xz+fnsCqq+kBrHA5AwAACBBnAAAAAeIMAAAgQJwBAAAEiDMAAIAAcQYAABAgzgAAAALE\n",
       "GQAAQIA4AwAACBBnAAAAAeIMAAAgQJwBAAAEiDMAAIAAcQYAABAgzgAAAALEGQAAQIA4AwAACBBn\n",
       "AAAAAeIMAAAgQJwBAAAEiDMAAIAAcQYAABAgzgAAAALEGQAAQIA4AwAACBBnAAAAAeIMAAAgQJwB\n",
       "AAAEiDMAAIAAcQYAABAgzgAAAALEGQAAQIA4AwAACBBnAAAAAeIMAAAgQJwBAAAEiDMAAIAAcQYA\n",
       "ABAgzgAAAALEGQAAQIA4AwAACBBnAAAAAeIMAAAgQJwBAAAEiDMAAIAAcQYAABAgzgAAAALEGQAA\n",
       "QIA4AwAACBBnAAAAAeIMAAAgQJwBAAAEiDMAAIAAcQYAABAgzgAAAALEGQAAQIA4AwAACBBnAAAA\n",
       "AeIMAAAgQJwBAAAEiDMAAIAAcQYAABAgzgAAAALEGQAAQIA4AwAACBBnAAAAAeIMAAAgQJwBAAAE\n",
       "iDMAAIAAcQYAABAgzgAAAALEGQAAQIA4AwAACBBnAAAAAeIMAAAgQJwBAAAEiDMAAIAAcQYAABAg\n",
       "zgAAAALEGQAAQIA4AwAACBBnAAAAAeIMAAAgQJwBAAAEiDMAAIAAcQYAABAgzgAAAALEGQAAQIA4\n",
       "AwAACBBnAAAAAeIMAAAgQJwBAAAEiDMAAIAAcQYAABAgzgAAAALEGQAAQIA4AwAACBBnAAAAAeIM\n",
       "AAAgQJwBAAAEiDMAAIAAcQYAABAgzgAAAALEGQAAQIA4AwAACBBnAAAAAeIMAAAg4P8CwX1Pz9/Z\n",
       "nAAAAABJRU5ErkJggg==\n",
       "\" transform=\"translate(722, 229)\"/>\n",
       "</g>\n",
       "<circle clip-path=\"url(#clip172)\" cx=\"776.236\" cy=\"1263.51\" r=\"10.8\" fill=\"#000000\" fill-rule=\"evenodd\" fill-opacity=\"1\" stroke=\"none\"/>\n",
       "<circle clip-path=\"url(#clip172)\" cx=\"885.166\" cy=\"1263.51\" r=\"10.8\" fill=\"#000000\" fill-rule=\"evenodd\" fill-opacity=\"1\" stroke=\"none\"/>\n",
       "<circle clip-path=\"url(#clip172)\" cx=\"994.096\" cy=\"1263.51\" r=\"10.8\" fill=\"#000000\" fill-rule=\"evenodd\" fill-opacity=\"1\" stroke=\"none\"/>\n",
       "<circle clip-path=\"url(#clip172)\" cx=\"1103.03\" cy=\"1263.51\" r=\"10.8\" fill=\"#000000\" fill-rule=\"evenodd\" fill-opacity=\"1\" stroke=\"none\"/>\n",
       "<circle clip-path=\"url(#clip172)\" cx=\"1211.96\" cy=\"1263.51\" r=\"10.8\" fill=\"#000000\" fill-rule=\"evenodd\" fill-opacity=\"1\" stroke=\"none\"/>\n",
       "<circle clip-path=\"url(#clip172)\" cx=\"1320.89\" cy=\"1263.51\" r=\"10.8\" fill=\"#000000\" fill-rule=\"evenodd\" fill-opacity=\"1\" stroke=\"none\"/>\n",
       "<circle clip-path=\"url(#clip172)\" cx=\"1429.82\" cy=\"1263.51\" r=\"10.8\" fill=\"#000000\" fill-rule=\"evenodd\" fill-opacity=\"1\" stroke=\"none\"/>\n",
       "<circle clip-path=\"url(#clip172)\" cx=\"1538.75\" cy=\"1263.51\" r=\"10.8\" fill=\"#000000\" fill-rule=\"evenodd\" fill-opacity=\"1\" stroke=\"none\"/>\n",
       "<circle clip-path=\"url(#clip172)\" cx=\"776.236\" cy=\"1154.58\" r=\"10.8\" fill=\"#000000\" fill-rule=\"evenodd\" fill-opacity=\"1\" stroke=\"none\"/>\n",
       "<circle clip-path=\"url(#clip172)\" cx=\"885.166\" cy=\"1154.58\" r=\"10.8\" fill=\"#000000\" fill-rule=\"evenodd\" fill-opacity=\"1\" stroke=\"none\"/>\n",
       "<circle clip-path=\"url(#clip172)\" cx=\"994.096\" cy=\"1154.58\" r=\"10.8\" fill=\"#000000\" fill-rule=\"evenodd\" fill-opacity=\"1\" stroke=\"none\"/>\n",
       "<circle clip-path=\"url(#clip172)\" cx=\"1103.03\" cy=\"1154.58\" r=\"10.8\" fill=\"#000000\" fill-rule=\"evenodd\" fill-opacity=\"1\" stroke=\"none\"/>\n",
       "<circle clip-path=\"url(#clip172)\" cx=\"1211.96\" cy=\"1154.58\" r=\"10.8\" fill=\"#000000\" fill-rule=\"evenodd\" fill-opacity=\"1\" stroke=\"none\"/>\n",
       "<circle clip-path=\"url(#clip172)\" cx=\"1320.89\" cy=\"1154.58\" r=\"10.8\" fill=\"#000000\" fill-rule=\"evenodd\" fill-opacity=\"1\" stroke=\"none\"/>\n",
       "<circle clip-path=\"url(#clip172)\" cx=\"1429.82\" cy=\"1154.58\" r=\"10.8\" fill=\"#000000\" fill-rule=\"evenodd\" fill-opacity=\"1\" stroke=\"none\"/>\n",
       "<circle clip-path=\"url(#clip172)\" cx=\"1538.75\" cy=\"1154.58\" r=\"10.8\" fill=\"#000000\" fill-rule=\"evenodd\" fill-opacity=\"1\" stroke=\"none\"/>\n",
       "<circle clip-path=\"url(#clip172)\" cx=\"776.236\" cy=\"1045.65\" r=\"10.8\" fill=\"#000000\" fill-rule=\"evenodd\" fill-opacity=\"1\" stroke=\"none\"/>\n",
       "<circle clip-path=\"url(#clip172)\" cx=\"885.166\" cy=\"1045.65\" r=\"10.8\" fill=\"#000000\" fill-rule=\"evenodd\" fill-opacity=\"1\" stroke=\"none\"/>\n",
       "<circle clip-path=\"url(#clip172)\" cx=\"994.096\" cy=\"1045.65\" r=\"10.8\" fill=\"#000000\" fill-rule=\"evenodd\" fill-opacity=\"1\" stroke=\"none\"/>\n",
       "<circle clip-path=\"url(#clip172)\" cx=\"1103.03\" cy=\"1045.65\" r=\"10.8\" fill=\"#000000\" fill-rule=\"evenodd\" fill-opacity=\"1\" stroke=\"none\"/>\n",
       "<circle clip-path=\"url(#clip172)\" cx=\"1211.96\" cy=\"1045.65\" r=\"10.8\" fill=\"#000000\" fill-rule=\"evenodd\" fill-opacity=\"1\" stroke=\"none\"/>\n",
       "<circle clip-path=\"url(#clip172)\" cx=\"1320.89\" cy=\"1045.65\" r=\"10.8\" fill=\"#000000\" fill-rule=\"evenodd\" fill-opacity=\"1\" stroke=\"none\"/>\n",
       "<circle clip-path=\"url(#clip172)\" cx=\"1429.82\" cy=\"1045.65\" r=\"10.8\" fill=\"#000000\" fill-rule=\"evenodd\" fill-opacity=\"1\" stroke=\"none\"/>\n",
       "<circle clip-path=\"url(#clip172)\" cx=\"1538.75\" cy=\"1045.65\" r=\"10.8\" fill=\"#000000\" fill-rule=\"evenodd\" fill-opacity=\"1\" stroke=\"none\"/>\n",
       "<circle clip-path=\"url(#clip172)\" cx=\"776.236\" cy=\"936.721\" r=\"10.8\" fill=\"#000000\" fill-rule=\"evenodd\" fill-opacity=\"1\" stroke=\"none\"/>\n",
       "<circle clip-path=\"url(#clip172)\" cx=\"885.166\" cy=\"936.721\" r=\"10.8\" fill=\"#000000\" fill-rule=\"evenodd\" fill-opacity=\"1\" stroke=\"none\"/>\n",
       "<circle clip-path=\"url(#clip172)\" cx=\"994.096\" cy=\"936.721\" r=\"10.8\" fill=\"#000000\" fill-rule=\"evenodd\" fill-opacity=\"1\" stroke=\"none\"/>\n",
       "<circle clip-path=\"url(#clip172)\" cx=\"1103.03\" cy=\"936.721\" r=\"10.8\" fill=\"#000000\" fill-rule=\"evenodd\" fill-opacity=\"1\" stroke=\"none\"/>\n",
       "<circle clip-path=\"url(#clip172)\" cx=\"1211.96\" cy=\"936.721\" r=\"10.8\" fill=\"#000000\" fill-rule=\"evenodd\" fill-opacity=\"1\" stroke=\"none\"/>\n",
       "<circle clip-path=\"url(#clip172)\" cx=\"1320.89\" cy=\"936.721\" r=\"10.8\" fill=\"#000000\" fill-rule=\"evenodd\" fill-opacity=\"1\" stroke=\"none\"/>\n",
       "<circle clip-path=\"url(#clip172)\" cx=\"1429.82\" cy=\"936.721\" r=\"10.8\" fill=\"#000000\" fill-rule=\"evenodd\" fill-opacity=\"1\" stroke=\"none\"/>\n",
       "<circle clip-path=\"url(#clip172)\" cx=\"1538.75\" cy=\"936.721\" r=\"10.8\" fill=\"#000000\" fill-rule=\"evenodd\" fill-opacity=\"1\" stroke=\"none\"/>\n",
       "<circle clip-path=\"url(#clip172)\" cx=\"776.236\" cy=\"827.791\" r=\"10.8\" fill=\"#000000\" fill-rule=\"evenodd\" fill-opacity=\"1\" stroke=\"none\"/>\n",
       "<circle clip-path=\"url(#clip172)\" cx=\"885.166\" cy=\"827.791\" r=\"10.8\" fill=\"#000000\" fill-rule=\"evenodd\" fill-opacity=\"1\" stroke=\"none\"/>\n",
       "<circle clip-path=\"url(#clip172)\" cx=\"994.096\" cy=\"827.791\" r=\"10.8\" fill=\"#000000\" fill-rule=\"evenodd\" fill-opacity=\"1\" stroke=\"none\"/>\n",
       "<circle clip-path=\"url(#clip172)\" cx=\"1103.03\" cy=\"827.791\" r=\"10.8\" fill=\"#000000\" fill-rule=\"evenodd\" fill-opacity=\"1\" stroke=\"none\"/>\n",
       "<circle clip-path=\"url(#clip172)\" cx=\"1211.96\" cy=\"827.791\" r=\"10.8\" fill=\"#000000\" fill-rule=\"evenodd\" fill-opacity=\"1\" stroke=\"none\"/>\n",
       "<circle clip-path=\"url(#clip172)\" cx=\"1320.89\" cy=\"827.791\" r=\"10.8\" fill=\"#000000\" fill-rule=\"evenodd\" fill-opacity=\"1\" stroke=\"none\"/>\n",
       "<circle clip-path=\"url(#clip172)\" cx=\"1429.82\" cy=\"827.791\" r=\"10.8\" fill=\"#000000\" fill-rule=\"evenodd\" fill-opacity=\"1\" stroke=\"none\"/>\n",
       "<circle clip-path=\"url(#clip172)\" cx=\"1538.75\" cy=\"827.791\" r=\"10.8\" fill=\"#000000\" fill-rule=\"evenodd\" fill-opacity=\"1\" stroke=\"none\"/>\n",
       "<circle clip-path=\"url(#clip172)\" cx=\"776.236\" cy=\"718.861\" r=\"10.8\" fill=\"#000000\" fill-rule=\"evenodd\" fill-opacity=\"1\" stroke=\"none\"/>\n",
       "<circle clip-path=\"url(#clip172)\" cx=\"885.166\" cy=\"718.861\" r=\"10.8\" fill=\"#000000\" fill-rule=\"evenodd\" fill-opacity=\"1\" stroke=\"none\"/>\n",
       "<circle clip-path=\"url(#clip172)\" cx=\"994.096\" cy=\"718.861\" r=\"10.8\" fill=\"#000000\" fill-rule=\"evenodd\" fill-opacity=\"1\" stroke=\"none\"/>\n",
       "<circle clip-path=\"url(#clip172)\" cx=\"1103.03\" cy=\"718.861\" r=\"10.8\" fill=\"#000000\" fill-rule=\"evenodd\" fill-opacity=\"1\" stroke=\"none\"/>\n",
       "<circle clip-path=\"url(#clip172)\" cx=\"1211.96\" cy=\"718.861\" r=\"10.8\" fill=\"#000000\" fill-rule=\"evenodd\" fill-opacity=\"1\" stroke=\"none\"/>\n",
       "<circle clip-path=\"url(#clip172)\" cx=\"1320.89\" cy=\"718.861\" r=\"10.8\" fill=\"#000000\" fill-rule=\"evenodd\" fill-opacity=\"1\" stroke=\"none\"/>\n",
       "<circle clip-path=\"url(#clip172)\" cx=\"1429.82\" cy=\"718.861\" r=\"10.8\" fill=\"#000000\" fill-rule=\"evenodd\" fill-opacity=\"1\" stroke=\"none\"/>\n",
       "<circle clip-path=\"url(#clip172)\" cx=\"1538.75\" cy=\"718.861\" r=\"10.8\" fill=\"#000000\" fill-rule=\"evenodd\" fill-opacity=\"1\" stroke=\"none\"/>\n",
       "<circle clip-path=\"url(#clip172)\" cx=\"776.236\" cy=\"609.931\" r=\"10.8\" fill=\"#000000\" fill-rule=\"evenodd\" fill-opacity=\"1\" stroke=\"none\"/>\n",
       "<circle clip-path=\"url(#clip172)\" cx=\"885.166\" cy=\"609.931\" r=\"10.8\" fill=\"#000000\" fill-rule=\"evenodd\" fill-opacity=\"1\" stroke=\"none\"/>\n",
       "<circle clip-path=\"url(#clip172)\" cx=\"994.096\" cy=\"609.931\" r=\"10.8\" fill=\"#000000\" fill-rule=\"evenodd\" fill-opacity=\"1\" stroke=\"none\"/>\n",
       "<circle clip-path=\"url(#clip172)\" cx=\"1103.03\" cy=\"609.931\" r=\"10.8\" fill=\"#000000\" fill-rule=\"evenodd\" fill-opacity=\"1\" stroke=\"none\"/>\n",
       "<circle clip-path=\"url(#clip172)\" cx=\"1211.96\" cy=\"609.931\" r=\"10.8\" fill=\"#000000\" fill-rule=\"evenodd\" fill-opacity=\"1\" stroke=\"none\"/>\n",
       "<circle clip-path=\"url(#clip172)\" cx=\"1320.89\" cy=\"609.931\" r=\"10.8\" fill=\"#000000\" fill-rule=\"evenodd\" fill-opacity=\"1\" stroke=\"none\"/>\n",
       "<circle clip-path=\"url(#clip172)\" cx=\"1429.82\" cy=\"609.931\" r=\"10.8\" fill=\"#000000\" fill-rule=\"evenodd\" fill-opacity=\"1\" stroke=\"none\"/>\n",
       "<circle clip-path=\"url(#clip172)\" cx=\"1538.75\" cy=\"609.931\" r=\"10.8\" fill=\"#000000\" fill-rule=\"evenodd\" fill-opacity=\"1\" stroke=\"none\"/>\n",
       "<circle clip-path=\"url(#clip172)\" cx=\"776.236\" cy=\"501.001\" r=\"10.8\" fill=\"#000000\" fill-rule=\"evenodd\" fill-opacity=\"1\" stroke=\"none\"/>\n",
       "<circle clip-path=\"url(#clip172)\" cx=\"885.166\" cy=\"501.001\" r=\"10.8\" fill=\"#000000\" fill-rule=\"evenodd\" fill-opacity=\"1\" stroke=\"none\"/>\n",
       "<circle clip-path=\"url(#clip172)\" cx=\"994.096\" cy=\"501.001\" r=\"10.8\" fill=\"#000000\" fill-rule=\"evenodd\" fill-opacity=\"1\" stroke=\"none\"/>\n",
       "<circle clip-path=\"url(#clip172)\" cx=\"1103.03\" cy=\"501.001\" r=\"10.8\" fill=\"#000000\" fill-rule=\"evenodd\" fill-opacity=\"1\" stroke=\"none\"/>\n",
       "<circle clip-path=\"url(#clip172)\" cx=\"1211.96\" cy=\"501.001\" r=\"10.8\" fill=\"#000000\" fill-rule=\"evenodd\" fill-opacity=\"1\" stroke=\"none\"/>\n",
       "<circle clip-path=\"url(#clip172)\" cx=\"1320.89\" cy=\"501.001\" r=\"10.8\" fill=\"#000000\" fill-rule=\"evenodd\" fill-opacity=\"1\" stroke=\"none\"/>\n",
       "<circle clip-path=\"url(#clip172)\" cx=\"1429.82\" cy=\"501.001\" r=\"10.8\" fill=\"#000000\" fill-rule=\"evenodd\" fill-opacity=\"1\" stroke=\"none\"/>\n",
       "<circle clip-path=\"url(#clip172)\" cx=\"1538.75\" cy=\"501.001\" r=\"10.8\" fill=\"#000000\" fill-rule=\"evenodd\" fill-opacity=\"1\" stroke=\"none\"/>\n",
       "<circle clip-path=\"url(#clip172)\" cx=\"776.236\" cy=\"392.07\" r=\"10.8\" fill=\"#000000\" fill-rule=\"evenodd\" fill-opacity=\"1\" stroke=\"none\"/>\n",
       "<circle clip-path=\"url(#clip172)\" cx=\"885.166\" cy=\"392.07\" r=\"10.8\" fill=\"#000000\" fill-rule=\"evenodd\" fill-opacity=\"1\" stroke=\"none\"/>\n",
       "<circle clip-path=\"url(#clip172)\" cx=\"994.096\" cy=\"392.07\" r=\"10.8\" fill=\"#000000\" fill-rule=\"evenodd\" fill-opacity=\"1\" stroke=\"none\"/>\n",
       "<circle clip-path=\"url(#clip172)\" cx=\"1103.03\" cy=\"392.07\" r=\"10.8\" fill=\"#000000\" fill-rule=\"evenodd\" fill-opacity=\"1\" stroke=\"none\"/>\n",
       "<circle clip-path=\"url(#clip172)\" cx=\"1211.96\" cy=\"392.07\" r=\"10.8\" fill=\"#000000\" fill-rule=\"evenodd\" fill-opacity=\"1\" stroke=\"none\"/>\n",
       "<circle clip-path=\"url(#clip172)\" cx=\"1320.89\" cy=\"392.07\" r=\"10.8\" fill=\"#000000\" fill-rule=\"evenodd\" fill-opacity=\"1\" stroke=\"none\"/>\n",
       "<circle clip-path=\"url(#clip172)\" cx=\"1429.82\" cy=\"392.07\" r=\"10.8\" fill=\"#000000\" fill-rule=\"evenodd\" fill-opacity=\"1\" stroke=\"none\"/>\n",
       "<circle clip-path=\"url(#clip172)\" cx=\"1538.75\" cy=\"392.07\" r=\"10.8\" fill=\"#000000\" fill-rule=\"evenodd\" fill-opacity=\"1\" stroke=\"none\"/>\n",
       "<circle clip-path=\"url(#clip172)\" cx=\"776.236\" cy=\"283.14\" r=\"10.8\" fill=\"#000000\" fill-rule=\"evenodd\" fill-opacity=\"1\" stroke=\"none\"/>\n",
       "<circle clip-path=\"url(#clip172)\" cx=\"885.166\" cy=\"283.14\" r=\"10.8\" fill=\"#000000\" fill-rule=\"evenodd\" fill-opacity=\"1\" stroke=\"none\"/>\n",
       "<circle clip-path=\"url(#clip172)\" cx=\"994.096\" cy=\"283.14\" r=\"10.8\" fill=\"#000000\" fill-rule=\"evenodd\" fill-opacity=\"1\" stroke=\"none\"/>\n",
       "<circle clip-path=\"url(#clip172)\" cx=\"1103.03\" cy=\"283.14\" r=\"10.8\" fill=\"#000000\" fill-rule=\"evenodd\" fill-opacity=\"1\" stroke=\"none\"/>\n",
       "<circle clip-path=\"url(#clip172)\" cx=\"1211.96\" cy=\"283.14\" r=\"10.8\" fill=\"#000000\" fill-rule=\"evenodd\" fill-opacity=\"1\" stroke=\"none\"/>\n",
       "<circle clip-path=\"url(#clip172)\" cx=\"1320.89\" cy=\"283.14\" r=\"10.8\" fill=\"#000000\" fill-rule=\"evenodd\" fill-opacity=\"1\" stroke=\"none\"/>\n",
       "<circle clip-path=\"url(#clip172)\" cx=\"1429.82\" cy=\"283.14\" r=\"10.8\" fill=\"#000000\" fill-rule=\"evenodd\" fill-opacity=\"1\" stroke=\"none\"/>\n",
       "<circle clip-path=\"url(#clip172)\" cx=\"1538.75\" cy=\"283.14\" r=\"10.8\" fill=\"#000000\" fill-rule=\"evenodd\" fill-opacity=\"1\" stroke=\"none\"/>\n",
       "<path clip-path=\"url(#clip172)\" d=\"M1103.03 501.001 L1100.28 501.018 L1097.54 501.07 L1094.8 501.156 L1092.06 501.277 L1089.32 501.432 L1086.58 501.622 L1083.85 501.846 L1081.12 502.105 L1078.39 502.398 L1075.67 502.725 L1072.95 503.087 L1070.23 503.483 L1067.52 503.913 L1064.82 504.377 L1062.12 504.875 L1059.43 505.407 L1056.75 505.973 L1054.07 506.572 L1051.4 507.206 L1048.74 507.872 L1046.09 508.573 L1043.45 509.306 L1040.81 510.073 L1038.19 510.873 L1035.57 511.706 L1032.97 512.572 L1030.38 513.47 L1027.8 514.401 L1025.23 515.364 L1022.67 516.36 L1020.13 517.388 L1017.6 518.448 L1015.08 519.539 L1012.58 520.662 L1010.09 521.817 L1007.62 523.003 L1005.16 524.219 L1002.72 525.467 L1000.29 526.745 L997.879 528.054 L995.485 529.393 L993.108 530.762 L990.748 532.161 L988.407 533.59 L986.083 535.048 L983.778 536.535 L981.491 538.051 L979.224 539.595 L976.977 541.168 L974.75 542.77 L972.543 544.399 L970.356 546.055 L968.191 547.74 L966.047 549.451 L963.925 551.189 L961.825 552.954 L959.747 554.745 L957.692 556.562 L955.66 558.405 L953.651 560.273 L951.666 562.166 L949.705 564.085 L947.769 566.027 L945.856 567.994 L943.969 569.985 L942.107 572 L940.271 574.038 L938.46 576.099 L936.676 578.182 L934.918 580.288 L933.186 582.415 L931.482 584.565 L929.804 586.735 L928.155 588.927 L926.532 591.139 L924.938 593.371 L923.372 595.624 L921.835 597.895 L920.326 600.186 L918.846 602.496 L917.396 604.825 L915.975 607.171 L914.583 609.535 L913.221 611.916 L911.89 614.315 L910.589 616.73 L909.318 619.161 L908.078 621.608 L906.869 624.07 L905.691 626.548 L904.544 629.04 L903.429 631.546 L902.345 634.066 L901.294 636.599 L900.274 639.146 L899.286 641.705 L898.331 644.277 L897.408 646.86 L896.518 649.455 L895.66 652.06 L894.836 654.677 L894.044 657.303 L893.285 659.939 L892.56 662.585 L891.868 665.239 L891.21 667.902 L890.585 670.573 L889.994 673.252 L889.436 675.938 L888.913 678.631 L888.423 681.33 L887.968 684.035 L887.546 686.746 L887.159 689.461 L886.806 692.182 L886.487 694.906 L886.203 697.635 L885.953 700.367 L885.737 703.101 L885.556 705.838 L885.409 708.578 L885.297 711.319 L885.219 714.061 L885.176 716.804 L885.167 719.547 L885.193 722.29 L885.254 725.032 L885.349 727.774 L885.478 730.514 L885.642 733.252 L885.841 735.988 L886.073 738.721 L886.341 741.452 L886.642 744.178 L886.978 746.901 L887.348 749.619 L887.753 752.332 L888.191 755.04 L888.664 757.742 L889.17 760.438 L889.711 763.128 L890.285 765.81 L890.893 768.485 L891.535 771.152 L892.21 773.811 L892.919 776.461 L893.661 779.102 L894.436 781.733 L895.244 784.355 L896.085 786.966 L896.959 789.566 L897.865 792.155 L898.805 794.732 L899.776 797.298 L900.78 799.851 L901.816 802.391 L902.883 804.918 L903.983 807.431 L905.114 809.93 L906.276 812.415 L907.47 814.885 L908.694 817.339 L909.95 819.779 L911.236 822.202 L912.552 824.608 L913.898 826.998 L915.275 829.371 L916.681 831.726 L918.117 834.064 L919.582 836.383 L921.077 838.683 L922.6 840.965 L924.152 843.227 L925.732 845.469 L927.34 847.691 L928.976 849.893 L930.64 852.075 L932.331 854.235 L934.049 856.373 L935.794 858.49 L937.565 860.584 L939.362 862.657 L941.186 864.706 L943.035 866.732 L944.91 868.735 L946.809 870.714 L948.734 872.669 L950.683 874.599 L952.656 876.505 L954.653 878.386 L956.673 880.242 L958.717 882.072 L960.783 883.876 L962.872 885.654 L964.983 887.405 L967.116 889.13 L969.271 890.828 L971.447 892.498 L973.644 894.141 L975.861 895.756 L978.098 897.343 L980.355 898.902 L982.632 900.433 L984.928 901.934 L987.242 903.407 L989.575 904.85 L991.926 906.264 L994.294 907.648 L996.68 909.002 L999.083 910.326 L1001.5 911.619 L1003.94 912.882 L1006.39 914.115 L1008.85 915.316 L1011.33 916.486 L1013.83 917.625 L1016.34 918.732 L1018.86 919.808 L1021.4 920.852 L1023.95 921.864 L1026.51 922.843 L1029.09 923.79 L1031.67 924.705 L1034.27 925.587 L1036.88 926.437 L1039.5 927.253 L1042.13 928.036 L1044.77 928.787 L1047.41 929.503 L1050.07 930.187 L1052.74 930.837 L1055.41 931.453 L1058.09 932.036 L1060.78 932.585 L1063.47 933.1 L1066.17 933.581 L1068.88 934.028 L1071.59 934.441 L1074.31 934.82 L1077.03 935.164 L1079.75 935.475 L1082.48 935.75 L1085.22 935.992 L1087.95 936.199 L1090.69 936.372 L1093.43 936.51 L1096.17 936.613 L1098.91 936.682 L1101.66 936.717 L1104.4 936.717 L1107.14 936.682 L1109.88 936.613 L1112.62 936.51 L1115.36 936.372 L1118.1 936.199 L1120.84 935.992 L1123.57 935.75 L1126.3 935.475 L1129.02 935.164 L1131.75 934.82 L1134.46 934.441 L1137.18 934.028 L1139.88 933.581 L1142.58 933.1 L1145.28 932.585 L1147.96 932.036 L1150.65 931.453 L1153.32 930.837 L1155.98 930.187 L1158.64 929.503 L1161.29 928.787 L1163.93 928.036 L1166.56 927.253 L1169.17 926.437 L1171.78 925.587 L1174.38 924.705 L1176.97 923.79 L1179.54 922.843 L1182.1 921.864 L1184.65 920.852 L1187.19 919.808 L1189.71 918.732 L1192.22 917.625 L1194.72 916.486 L1197.2 915.316 L1199.67 914.115 L1202.12 912.882 L1204.55 911.619 L1206.97 910.326 L1209.37 909.002 L1211.76 907.648 L1214.13 906.264 L1216.48 904.85 L1218.81 903.407 L1221.13 901.934 L1223.42 900.433 L1225.7 898.902 L1227.95 897.343 L1230.19 895.756 L1232.41 894.141 L1234.61 892.498 L1236.78 890.828 L1238.94 889.13 L1241.07 887.405 L1243.18 885.654 L1245.27 883.876 L1247.34 882.072 L1249.38 880.242 L1251.4 878.386 L1253.4 876.505 L1255.37 874.599 L1257.32 872.669 L1259.24 870.714 L1261.14 868.735 L1263.02 866.732 L1264.87 864.706 L1266.69 862.657 L1268.49 860.584 L1270.26 858.49 L1272 856.373 L1273.72 854.235 L1275.41 852.075 L1277.08 849.893 L1278.71 847.691 L1280.32 845.469 L1281.9 843.227 L1283.45 840.965 L1284.98 838.683 L1286.47 836.383 L1287.94 834.064 L1289.37 831.726 L1290.78 829.371 L1292.15 826.998 L1293.5 824.608 L1294.82 822.202 L1296.1 819.779 L1297.36 817.339 L1298.58 814.885 L1299.78 812.415 L1300.94 809.93 L1302.07 807.431 L1303.17 804.918 L1304.24 802.391 L1305.27 799.851 L1306.28 797.298 L1307.25 794.732 L1308.19 792.155 L1309.09 789.566 L1309.97 786.966 L1310.81 784.355 L1311.62 781.733 L1312.39 779.102 L1313.13 776.461 L1313.84 773.811 L1314.52 771.152 L1315.16 768.485 L1315.77 765.81 L1316.34 763.128 L1316.88 760.438 L1317.39 757.742 L1317.86 755.04 L1318.3 752.332 L1318.7 749.619 L1319.07 746.901 L1319.41 744.178 L1319.71 741.452 L1319.98 738.721 L1320.21 735.988 L1320.41 733.252 L1320.58 730.514 L1320.7 727.774 L1320.8 725.032 L1320.86 722.29 L1320.89 719.547 L1320.88 716.804 L1320.83 714.061 L1320.76 711.319 L1320.64 708.578 L1320.5 705.838 L1320.32 703.101 L1320.1 700.367 L1319.85 697.635 L1319.57 694.906 L1319.25 692.182 L1318.89 689.461 L1318.51 686.746 L1318.09 684.035 L1317.63 681.33 L1317.14 678.631 L1316.62 675.938 L1316.06 673.252 L1315.47 670.573 L1314.84 667.902 L1314.18 665.239 L1313.49 662.585 L1312.77 659.939 L1312.01 657.303 L1311.22 654.677 L1310.39 652.06 L1309.54 649.455 L1308.65 646.86 L1307.72 644.277 L1306.77 641.705 L1305.78 639.146 L1304.76 636.599 L1303.71 634.066 L1302.62 631.546 L1301.51 629.04 L1300.36 626.548 L1299.18 624.07 L1297.98 621.608 L1296.74 619.161 L1295.46 616.73 L1294.16 614.315 L1292.83 611.916 L1291.47 609.535 L1290.08 607.171 L1288.66 604.825 L1287.21 602.496 L1285.73 600.186 L1284.22 597.895 L1282.68 595.624 L1281.12 593.371 L1279.52 591.139 L1277.9 588.927 L1276.25 586.735 L1274.57 584.565 L1272.87 582.415 L1271.14 580.288 L1269.38 578.182 L1267.59 576.099 L1265.78 574.038 L1263.95 572 L1262.08 569.985 L1260.2 567.994 L1258.28 566.027 L1256.35 564.085 L1254.39 562.166 L1252.4 560.273 L1250.39 558.405 L1248.36 556.562 L1246.31 554.745 L1244.23 552.954 L1242.13 551.189 L1240.01 549.451 L1237.86 547.74 L1235.7 546.055 L1233.51 544.399 L1231.3 542.77 L1229.08 541.168 L1226.83 539.595 L1224.56 538.051 L1222.28 536.535 L1219.97 535.048 L1217.65 533.59 L1215.3 532.161 L1212.95 530.762 L1210.57 529.393 L1208.17 528.054 L1205.76 526.745 L1203.34 525.467 L1200.89 524.219 L1198.43 523.003 L1195.96 521.817 L1193.47 520.662 L1190.97 519.539 L1188.45 518.448 L1185.92 517.388 L1183.38 516.36 L1180.82 515.364 L1178.25 514.401 L1175.67 513.47 L1173.08 512.572 L1170.48 511.706 L1167.87 510.873 L1165.24 510.073 L1162.61 509.306 L1159.96 508.573 L1157.31 507.872 L1154.65 507.206 L1151.98 506.572 L1149.31 505.973 L1146.62 505.407 L1143.93 504.875 L1141.23 504.377 L1138.53 503.913 L1135.82 503.483 L1133.11 503.087 L1130.39 502.725 L1127.66 502.398 L1124.94 502.105 L1122.2 501.846 L1119.47 501.622 L1116.73 501.432 L1113.99 501.277 L1111.25 501.156 L1108.51 501.07 L1105.77 501.018 L1103.03 501.001 L1103.03 501.001  Z\" fill=\"#ffffff\" fill-rule=\"evenodd\" fill-opacity=\"0.2\"/>\n",
       "<polyline clip-path=\"url(#clip172)\" style=\"stroke:#ffffff; stroke-linecap:round; stroke-linejoin:round; stroke-width:2; stroke-opacity:1; fill:none\" points=\"1103.03,501.001 1100.28,501.018 1097.54,501.07 1094.8,501.156 1092.06,501.277 1089.32,501.432 1086.58,501.622 1083.85,501.846 1081.12,502.105 1078.39,502.398 1075.67,502.725 1072.95,503.087 1070.23,503.483 1067.52,503.913 1064.82,504.377 1062.12,504.875 1059.43,505.407 1056.75,505.973 1054.07,506.572 1051.4,507.206 1048.74,507.872 1046.09,508.573 1043.45,509.306 1040.81,510.073 1038.19,510.873 1035.57,511.706 1032.97,512.572 1030.38,513.47 1027.8,514.401 1025.23,515.364 1022.67,516.36 1020.13,517.388 1017.6,518.448 1015.08,519.539 1012.58,520.662 1010.09,521.817 1007.62,523.003 1005.16,524.219 1002.72,525.467 1000.29,526.745 997.879,528.054 995.485,529.393 993.108,530.762 990.748,532.161 988.407,533.59 986.083,535.048 983.778,536.535 981.491,538.051 979.224,539.595 976.977,541.168 974.75,542.77 972.543,544.399 970.356,546.055 968.191,547.74 966.047,549.451 963.925,551.189 961.825,552.954 959.747,554.745 957.692,556.562 955.66,558.405 953.651,560.273 951.666,562.166 949.705,564.085 947.769,566.027 945.856,567.994 943.969,569.985 942.107,572 940.271,574.038 938.46,576.099 936.676,578.182 934.918,580.288 933.186,582.415 931.482,584.565 929.804,586.735 928.155,588.927 926.532,591.139 924.938,593.371 923.372,595.624 921.835,597.895 920.326,600.186 918.846,602.496 917.396,604.825 915.975,607.171 914.583,609.535 913.221,611.916 911.89,614.315 910.589,616.73 909.318,619.161 908.078,621.608 906.869,624.07 905.691,626.548 904.544,629.04 903.429,631.546 902.345,634.066 901.294,636.599 900.274,639.146 899.286,641.705 898.331,644.277 897.408,646.86 896.518,649.455 895.66,652.06 894.836,654.677 894.044,657.303 893.285,659.939 892.56,662.585 891.868,665.239 891.21,667.902 890.585,670.573 889.994,673.252 889.436,675.938 888.913,678.631 888.423,681.33 887.968,684.035 887.546,686.746 887.159,689.461 886.806,692.182 886.487,694.906 886.203,697.635 885.953,700.367 885.737,703.101 885.556,705.838 885.409,708.578 885.297,711.319 885.219,714.061 885.176,716.804 885.167,719.547 885.193,722.29 885.254,725.032 885.349,727.774 885.478,730.514 885.642,733.252 885.841,735.988 886.073,738.721 886.341,741.452 886.642,744.178 886.978,746.901 887.348,749.619 887.753,752.332 888.191,755.04 888.664,757.742 889.17,760.438 889.711,763.128 890.285,765.81 890.893,768.485 891.535,771.152 892.21,773.811 892.919,776.461 893.661,779.102 894.436,781.733 895.244,784.355 896.085,786.966 896.959,789.566 897.865,792.155 898.805,794.732 899.776,797.298 900.78,799.851 901.816,802.391 902.883,804.918 903.983,807.431 905.114,809.93 906.276,812.415 907.47,814.885 908.694,817.339 909.95,819.779 911.236,822.202 912.552,824.608 913.898,826.998 915.275,829.371 916.681,831.726 918.117,834.064 919.582,836.383 921.077,838.683 922.6,840.965 924.152,843.227 925.732,845.469 927.34,847.691 928.976,849.893 930.64,852.075 932.331,854.235 934.049,856.373 935.794,858.49 937.565,860.584 939.362,862.657 941.186,864.706 943.035,866.732 944.91,868.735 946.809,870.714 948.734,872.669 950.683,874.599 952.656,876.505 954.653,878.386 956.673,880.242 958.717,882.072 960.783,883.876 962.872,885.654 964.983,887.405 967.116,889.13 969.271,890.828 971.447,892.498 973.644,894.141 975.861,895.756 978.098,897.343 980.355,898.902 982.632,900.433 984.928,901.934 987.242,903.407 989.575,904.85 991.926,906.264 994.294,907.648 996.68,909.002 999.083,910.326 1001.5,911.619 1003.94,912.882 1006.39,914.115 1008.85,915.316 1011.33,916.486 1013.83,917.625 1016.34,918.732 1018.86,919.808 1021.4,920.852 1023.95,921.864 1026.51,922.843 1029.09,923.79 1031.67,924.705 1034.27,925.587 1036.88,926.437 1039.5,927.253 1042.13,928.036 1044.77,928.787 1047.41,929.503 1050.07,930.187 1052.74,930.837 1055.41,931.453 1058.09,932.036 1060.78,932.585 1063.47,933.1 1066.17,933.581 1068.88,934.028 1071.59,934.441 1074.31,934.82 1077.03,935.164 1079.75,935.475 1082.48,935.75 1085.22,935.992 1087.95,936.199 1090.69,936.372 1093.43,936.51 1096.17,936.613 1098.91,936.682 1101.66,936.717 1104.4,936.717 1107.14,936.682 1109.88,936.613 1112.62,936.51 1115.36,936.372 1118.1,936.199 1120.84,935.992 1123.57,935.75 1126.3,935.475 1129.02,935.164 1131.75,934.82 1134.46,934.441 1137.18,934.028 1139.88,933.581 1142.58,933.1 1145.28,932.585 1147.96,932.036 1150.65,931.453 1153.32,930.837 1155.98,930.187 1158.64,929.503 1161.29,928.787 1163.93,928.036 1166.56,927.253 1169.17,926.437 1171.78,925.587 1174.38,924.705 1176.97,923.79 1179.54,922.843 1182.1,921.864 1184.65,920.852 1187.19,919.808 1189.71,918.732 1192.22,917.625 1194.72,916.486 1197.2,915.316 1199.67,914.115 1202.12,912.882 1204.55,911.619 1206.97,910.326 1209.37,909.002 1211.76,907.648 1214.13,906.264 1216.48,904.85 1218.81,903.407 1221.13,901.934 1223.42,900.433 1225.7,898.902 1227.95,897.343 1230.19,895.756 1232.41,894.141 1234.61,892.498 1236.78,890.828 1238.94,889.13 1241.07,887.405 1243.18,885.654 1245.27,883.876 1247.34,882.072 1249.38,880.242 1251.4,878.386 1253.4,876.505 1255.37,874.599 1257.32,872.669 1259.24,870.714 1261.14,868.735 1263.02,866.732 1264.87,864.706 1266.69,862.657 1268.49,860.584 1270.26,858.49 1272,856.373 1273.72,854.235 1275.41,852.075 1277.08,849.893 1278.71,847.691 1280.32,845.469 1281.9,843.227 1283.45,840.965 1284.98,838.683 1286.47,836.383 1287.94,834.064 1289.37,831.726 1290.78,829.371 1292.15,826.998 1293.5,824.608 1294.82,822.202 1296.1,819.779 1297.36,817.339 1298.58,814.885 1299.78,812.415 1300.94,809.93 1302.07,807.431 1303.17,804.918 1304.24,802.391 1305.27,799.851 1306.28,797.298 1307.25,794.732 1308.19,792.155 1309.09,789.566 1309.97,786.966 1310.81,784.355 1311.62,781.733 1312.39,779.102 1313.13,776.461 1313.84,773.811 1314.52,771.152 1315.16,768.485 1315.77,765.81 1316.34,763.128 1316.88,760.438 1317.39,757.742 1317.86,755.04 1318.3,752.332 1318.7,749.619 1319.07,746.901 1319.41,744.178 1319.71,741.452 1319.98,738.721 1320.21,735.988 1320.41,733.252 1320.58,730.514 1320.7,727.774 1320.8,725.032 1320.86,722.29 1320.89,719.547 1320.88,716.804 1320.83,714.061 1320.76,711.319 1320.64,708.578 1320.5,705.838 1320.32,703.101 1320.1,700.367 1319.85,697.635 1319.57,694.906 1319.25,692.182 1318.89,689.461 1318.51,686.746 1318.09,684.035 1317.63,681.33 1317.14,678.631 1316.62,675.938 1316.06,673.252 1315.47,670.573 1314.84,667.902 1314.18,665.239 1313.49,662.585 1312.77,659.939 1312.01,657.303 1311.22,654.677 1310.39,652.06 1309.54,649.455 1308.65,646.86 1307.72,644.277 1306.77,641.705 1305.78,639.146 1304.76,636.599 1303.71,634.066 1302.62,631.546 1301.51,629.04 1300.36,626.548 1299.18,624.07 1297.98,621.608 1296.74,619.161 1295.46,616.73 1294.16,614.315 1292.83,611.916 1291.47,609.535 1290.08,607.171 1288.66,604.825 1287.21,602.496 1285.73,600.186 1284.22,597.895 1282.68,595.624 1281.12,593.371 1279.52,591.139 1277.9,588.927 1276.25,586.735 1274.57,584.565 1272.87,582.415 1271.14,580.288 1269.38,578.182 1267.59,576.099 1265.78,574.038 1263.95,572 1262.08,569.985 1260.2,567.994 1258.28,566.027 1256.35,564.085 1254.39,562.166 1252.4,560.273 1250.39,558.405 1248.36,556.562 1246.31,554.745 1244.23,552.954 1242.13,551.189 1240.01,549.451 1237.86,547.74 1235.7,546.055 1233.51,544.399 1231.3,542.77 1229.08,541.168 1226.83,539.595 1224.56,538.051 1222.28,536.535 1219.97,535.048 1217.65,533.59 1215.3,532.161 1212.95,530.762 1210.57,529.393 1208.17,528.054 1205.76,526.745 1203.34,525.467 1200.89,524.219 1198.43,523.003 1195.96,521.817 1193.47,520.662 1190.97,519.539 1188.45,518.448 1185.92,517.388 1183.38,516.36 1180.82,515.364 1178.25,514.401 1175.67,513.47 1173.08,512.572 1170.48,511.706 1167.87,510.873 1165.24,510.073 1162.61,509.306 1159.96,508.573 1157.31,507.872 1154.65,507.206 1151.98,506.572 1149.31,505.973 1146.62,505.407 1143.93,504.875 1141.23,504.377 1138.53,503.913 1135.82,503.483 1133.11,503.087 1130.39,502.725 1127.66,502.398 1124.94,502.105 1122.2,501.846 1119.47,501.622 1116.73,501.432 1113.99,501.277 1111.25,501.156 1108.51,501.07 1105.77,501.018 1103.03,501.001 \"/>\n",
       "<defs>\n",
       "  <clipPath id=\"clip173\">\n",
       "    <rect x=\"2160\" y=\"195\" width=\"73\" height=\"1156\"/>\n",
       "  </clipPath>\n",
       "</defs>\n",
       "<g clip-path=\"url(#clip173)\">\n",
       "<image width=\"72\" height=\"1155\" xlink:href=\"data:image/png;base64,\n",
       "iVBORw0KGgoAAAANSUhEUgAAAEgAAASDCAYAAADajXkjAAAKOUlEQVR4nO3dwY3sRhAFQY5Q/lsh\n",
       "L6XfLQtUeSQPERYMEg9Ek5zZ/f17/r4P/+uvtz/A1wkUBAoChTn337c/w6dZUBAoCBQECnPvn7c/\n",
       "w6dZUBAoCBQcFIMFBYGCQEGgMNdFemVBQaAgUJh7XIM2FhQECgIFgYKDYrCgIFAQKLgGBQsKAgWB\n",
       "gkDB3XywoCBQECjM46C4sqAgUBAoCBTczQcLCgIFgcI8blZXFhQECgIFgcI855+3P8OnWVAQKAgU\n",
       "PFEMFhQECgIFgYK7+WBBQaAgUHANChYUBAoCBYGCu/lgQUGgIFCYn4PiyoKCQEGgIFCY5/g7ihsL\n",
       "CgIFgYKDYrCgIFAQKAgUHBSDBQWBgkDBq+dgQUGgIFAQKMzPQXFlQUGgIFDw9ZdgQUGgIFAQKDgo\n",
       "BgsKAgWBgrcawYKCQEGgIFBwUAwWFAQKAgUHxWBBQaAgUBAoOCgGCwoCBYHCPOe8/Rk+zYKCQEGg\n",
       "IFBwUAwWFAQKAgVPFIMFBYGCQEGg4CIdLCgIFAQK8/NEcWVBQaAgUBAoOCgGCwoCBYGCV8/BgoJA\n",
       "QaAgUHA3HywoCBQECm5WgwUFgYJAQaDgbj5YUBAoCBRcg4IFBYGCQEGg4McswYKCQEGg4KAYLCgI\n",
       "FAQKAgUX6WBBQaAgUBAouEgHCwoCBYGCa1CwoCBQECgIFOa5LtIbCwoCBYGCg2KwoCBQECgIFFyk\n",
       "gwUFgYJAwTUoWFAQKAgUBArznPv2Z/g0CwoCBYGCg2KwoCBQECgIFBwUgwUFgYJAwUExWFAQKAgU\n",
       "BAoOisGCgkBBoDCPc+LKgoJAQaAgUJjnOihuLCgIFAQKDorBgoJAQaAgUHCRDhYUBAoChfGHF3YW\n",
       "FAQKAgWBgoNisKAgUBAouAYFCwoCBYGCQGGe83v7M3yaBQWBgkBh7nUN2lhQECgIFAQK7uaDBQWB\n",
       "gkDBzWqwoCBQECgIFOYejTbqBIGCQMFBMVhQECgIFAQK83jts7KgIFAQKMx1UFxZUBAoCBQECvN4\n",
       "orhSJwgUBAoOisGCgkBBoCBQ8EQxWFAQKAgUfP0lqBMECgIFgYLvBwULCgIFgYInisGCgkBBoCBQ\n",
       "mHs12qgTBAoCBTerwYKCQEGgIFBwNx8sKAgUBArzuFldqRMECgIFgYKDYrCgIFAQKLgGBQsKAgWB\n",
       "gkDBj1mCBQWBgkDBj1mCOkGgIFAQKPj3WcGCgkBBoOCJYrCgIFAQKAgU/B3FoE4QKAgUBAru5oMF\n",
       "BYGCQMHdfLCgIFAQKAgUHBSDBQWBgkDB94OCOkGgIFAQKDgoBgsKAgWBgieKwYKCQEGgIFBwUAwW\n",
       "FAQKAgV/7DZYUBAoCBQECv4rQlAnCBQECm5WgwUFgYJAQaDgtU+woCBQECg4KAYLCgIFgYJAYY6L\n",
       "9MqCgkBBoODHLEGdIFAQKAgU3M0HCwoCBYGCa1CwoCBQECgIFLx6DhYUBAoCBQfFYEFBoCBQECi4\n",
       "SAcLCgIFgYIf1AV1gkBBoCBQmOOJ4sqCgkBBoOBmNVhQECgIFAQKLtLBgoJAQaDgGhQsKAgUBAoC\n",
       "Bb96DhYUBAoCBQfFYEFBoCBQECi4SAcLCgIFgYLvKAZ1gkBBoCBQ8B3FYEFBoCBQcLMaLCgIFAQK\n",
       "AgUX6WBBQaAgUPD1l2BBQaAgUBAoOCgGCwoCBYHC3Mc1aGNBQaAgUBAouJsPFhQECgIFN6vBgoJA\n",
       "QaAgUHBQDBYUBAoCBQfFYEFBoCBQECg4KAYLCgIFgYKDYrCgIFAQKAgUXKSDBQWBgkBhju8oriwo\n",
       "CBQECgIFB8VgQUGgIFAQKHjtEywoCBQECnPv2x/h2ywoCBQECgIFB8VgQUGgIFDwpymCBQWBgkBB\n",
       "oOCgGCwoCBQECl49BwsKAgWBgkDBlziDBQWBgkDBq+dgQUGgIFAQKHiiGCwoCBQECp4oBgsKAgWB\n",
       "gkDBE8VgQUGgIFBwsxosKAgUBAoCBa99ggUFgYJAwc1qsKAgUBAoCBS89gkWFAQKAoU5b3+Cj7Og\n",
       "IFAQKAgUHBSDBQWBgkDBq+dgQUGgIFAQKLibDxYUBAoCBTerwYKCQEGgIFBwUAwWFAQKAgUHxWBB\n",
       "QaAgUBAoeO0TLCgIFAQK4/d0OwsKAgWBgkDBQTFYUBAoCBS81QgWFAQKAgWBgtc+wYKCQEGg4KAY\n",
       "LCgIFAQKAgUHxWBBQaAgUJjj3fPKgoJAQaAgUHA3HywoCBQECm5WgwUFgYJAQaDgoBgsKAgUBAr+\n",
       "O1SwoCBQECgIFPz7rGBBQaAgUPDqOVhQECgIFAQK/jRFsKAgUBAo+MsLwYKCQEGgIFDw2idYUBAo\n",
       "CBR8/SVYUBAoCBQECr5IHiwoCBQECg6KwYKCQEGgIFDw/aBgQUGgIFAQKPh+ULCgIFAQKDgoBgsK\n",
       "AgWBgkDB94OCBQWBgkDBr56DBQWBgkBBoOBuPlhQECgIFLzVCBYUBAoCBYGCg2KwoCBQECg4KAYL\n",
       "CgIFgYJAwUExWFAQKAgUXIOCBQWBgkBBoOBuPlhQECgIFBwUgwUFgYJAQaDgoBgsKAgUBAoOisGC\n",
       "gkBBoCBQ8KvnYEFBoCBQ8MdugwUFgYJAQaDgbj5YUBAoCBTmPi5CGwsKAgWBgkDBQTFYUBAoCBS8\n",
       "1QgWFAQKAgWBgtc+wYKCQEGg4GY1WFAQKAgUBApe+wQLCgIFgYKDYrCgIFAQKAgU/Oo5WFAQKAgU\n",
       "5nj3vLKgIFAQKAgUvHoOFhQECgKFuQ6KKwsKAgWBgkDBQTFYUBAoCBQ8UQwWFAQKAgWBglfPwYKC\n",
       "QEGgMMf3pFcWFAQKAgWBgrv5YEFBoCBQ8IO6YEFBoCBQECh49RwsKAgUBAqeKAYLCgIFgYJAwd18\n",
       "sKAgUBAozHncrm4sKAgUBAoCBXfzwYKCQEGg4BoULCgIFAQKAgVPFIMFBYGCQMETxWBBQaAgUBAo\n",
       "zPk5KG4sKAgUBAoCBSfpYEFBoCBQmOsatLKgIFAQKAgUHBSDBQWBgkBhzs81aGNBQaAgUBAoOCgG\n",
       "CwoCBYGCJ4rBgoJAQaAgUHBQDBYUBAoCBdegYEFBoCBQECh47RMsKAgUBApznz9vf4ZPs6AgUBAo\n",
       "CBTczQcLCgIFgYJXz8GCgkBBoCBQmHPdzW8sKAgUBAoOisGCgkBBoCBQmOO1z8qCgkBBoOCgGCwo\n",
       "CBQECgIFB8VgQUGgIFCYex0UNxYUBAoCBYGCu/lgQUGgIFDw9ZdgQUGgIFAQKDgoBgsKAgWBwlwH\n",
       "xZUFBYGCQEGg4KAYLCgIFAQKc7x6XllQECgIFAQK/oZZsKAgUBAo+I5isKAgUBAoCBQ8UQwWFAQK\n",
       "AgUHxWBBQaAgUBAouEgHCwoCBYGCtxrBgoJAQaAgUHBQDBYUBAoChXm81VhZUBAoCBQECg6KwYKC\n",
       "QEGg4OsvwYKCQEGgIFCYx0FxZUFBoCBQ8Oo5WFAQKAgUBApe+wQLCgIFgYKb1WBBQaAgUBAozH3u\n",
       "25/h0ywoCBQECm5WgwUFgYJAQaAwj4PiyoKCQEGg8B9Q/+wVep1mhAAAAABJRU5ErkJggg==\n",
       "\" transform=\"translate(2161, 196)\"/>\n",
       "</g>\n",
       "<path clip-path=\"url(#clip170)\" d=\"M2285.18 1143.78 Q2280.21 1143.78 2277.7 1148.68 Q2275.22 1153.55 2275.22 1163.35 Q2275.22 1173.12 2277.7 1178.02 Q2280.21 1182.89 2285.18 1182.89 Q2290.18 1182.89 2292.66 1178.02 Q2295.17 1173.12 2295.17 1163.35 Q2295.17 1153.55 2292.66 1148.68 Q2290.18 1143.78 2285.18 1143.78 M2285.18 1138.68 Q2293.17 1138.68 2297.37 1145.02 Q2301.6 1151.32 2301.6 1163.35 Q2301.6 1175.35 2297.37 1181.69 Q2293.17 1187.99 2285.18 1187.99 Q2277.19 1187.99 2272.96 1181.69 Q2268.76 1175.35 2268.76 1163.35 Q2268.76 1151.32 2272.96 1145.02 Q2277.19 1138.68 2285.18 1138.68 Z\" fill=\"#000000\" fill-rule=\"nonzero\" fill-opacity=\"1\" /><path clip-path=\"url(#clip170)\" d=\"M2312.9 1178.98 L2319.62 1178.98 L2319.62 1187.06 L2312.9 1187.06 L2312.9 1178.98 Z\" fill=\"#000000\" fill-rule=\"nonzero\" fill-opacity=\"1\" /><path clip-path=\"url(#clip170)\" d=\"M2347.37 1143.78 Q2342.41 1143.78 2339.89 1148.68 Q2337.41 1153.55 2337.41 1163.35 Q2337.41 1173.12 2339.89 1178.02 Q2342.41 1182.89 2347.37 1182.89 Q2352.37 1182.89 2354.85 1178.02 Q2357.37 1173.12 2357.37 1163.35 Q2357.37 1153.55 2354.85 1148.68 Q2352.37 1143.78 2347.37 1143.78 M2347.37 1138.68 Q2355.36 1138.68 2359.56 1145.02 Q2363.8 1151.32 2363.8 1163.35 Q2363.8 1175.35 2359.56 1181.69 Q2355.36 1187.99 2347.37 1187.99 Q2339.38 1187.99 2335.15 1181.69 Q2330.95 1175.35 2330.95 1163.35 Q2330.95 1151.32 2335.15 1145.02 Q2339.38 1138.68 2347.37 1138.68 Z\" fill=\"#000000\" fill-rule=\"nonzero\" fill-opacity=\"1\" /><path clip-path=\"url(#clip170)\" d=\"M2376.21 1181.65 L2386.71 1181.65 L2386.71 1145.4 L2375.29 1147.69 L2375.29 1141.84 L2386.65 1139.54 L2393.08 1139.54 L2393.08 1181.65 L2403.58 1181.65 L2403.58 1187.06 L2376.21 1187.06 L2376.21 1181.65 Z\" fill=\"#000000\" fill-rule=\"nonzero\" fill-opacity=\"1\" /><path clip-path=\"url(#clip170)\" d=\"M2285.18 961.411 Q2280.21 961.411 2277.7 966.312 Q2275.22 971.182 2275.22 980.985 Q2275.22 990.756 2277.7 995.658 Q2280.21 1000.53 2285.18 1000.53 Q2290.18 1000.53 2292.66 995.658 Q2295.17 990.756 2295.17 980.985 Q2295.17 971.182 2292.66 966.312 Q2290.18 961.411 2285.18 961.411 M2285.18 956.318 Q2293.17 956.318 2297.37 962.652 Q2301.6 968.954 2301.6 980.985 Q2301.6 992.984 2297.37 999.318 Q2293.17 1005.62 2285.18 1005.62 Q2277.19 1005.62 2272.96 999.318 Q2268.76 992.984 2268.76 980.985 Q2268.76 968.954 2272.96 962.652 Q2277.19 956.318 2285.18 956.318 Z\" fill=\"#000000\" fill-rule=\"nonzero\" fill-opacity=\"1\" /><path clip-path=\"url(#clip170)\" d=\"M2312.9 996.613 L2319.62 996.613 L2319.62 1004.7 L2312.9 1004.7 L2312.9 996.613 Z\" fill=\"#000000\" fill-rule=\"nonzero\" fill-opacity=\"1\" /><path clip-path=\"url(#clip170)\" d=\"M2347.37 961.411 Q2342.41 961.411 2339.89 966.312 Q2337.41 971.182 2337.41 980.985 Q2337.41 990.756 2339.89 995.658 Q2342.41 1000.53 2347.37 1000.53 Q2352.37 1000.53 2354.85 995.658 Q2357.37 990.756 2357.37 980.985 Q2357.37 971.182 2354.85 966.312 Q2352.37 961.411 2347.37 961.411 M2347.37 956.318 Q2355.36 956.318 2359.56 962.652 Q2363.8 968.954 2363.8 980.985 Q2363.8 992.984 2359.56 999.318 Q2355.36 1005.62 2347.37 1005.62 Q2339.38 1005.62 2335.15 999.318 Q2330.95 992.984 2330.95 980.985 Q2330.95 968.954 2335.15 962.652 Q2339.38 956.318 2347.37 956.318 Z\" fill=\"#000000\" fill-rule=\"nonzero\" fill-opacity=\"1\" /><path clip-path=\"url(#clip170)\" d=\"M2380.63 999.286 L2403.07 999.286 L2403.07 1004.7 L2372.9 1004.7 L2372.9 999.286 Q2376.56 995.499 2382.86 989.133 Q2389.2 982.736 2390.82 980.89 Q2393.91 977.42 2395.12 975.033 Q2396.36 972.614 2396.36 970.291 Q2396.36 966.503 2393.68 964.116 Q2391.04 961.729 2386.78 961.729 Q2383.75 961.729 2380.38 962.779 Q2377.04 963.829 2373.22 965.962 L2373.22 959.469 Q2377.1 957.909 2380.47 957.114 Q2383.85 956.318 2386.65 956.318 Q2394.03 956.318 2398.43 960.01 Q2402.82 963.702 2402.82 969.877 Q2402.82 972.805 2401.7 975.447 Q2400.62 978.057 2397.73 981.622 Q2396.93 982.545 2392.66 986.969 Q2388.4 991.361 2380.63 999.286 Z\" fill=\"#000000\" fill-rule=\"nonzero\" fill-opacity=\"1\" /><path clip-path=\"url(#clip170)\" d=\"M2285.18 779.044 Q2280.21 779.044 2277.7 783.945 Q2275.22 788.815 2275.22 798.618 Q2275.22 808.39 2277.7 813.291 Q2280.21 818.161 2285.18 818.161 Q2290.18 818.161 2292.66 813.291 Q2295.17 808.39 2295.17 798.618 Q2295.17 788.815 2292.66 783.945 Q2290.18 779.044 2285.18 779.044 M2285.18 773.951 Q2293.17 773.951 2297.37 780.285 Q2301.6 786.587 2301.6 798.618 Q2301.6 810.618 2297.37 816.951 Q2293.17 823.253 2285.18 823.253 Q2277.19 823.253 2272.96 816.951 Q2268.76 810.618 2268.76 798.618 Q2268.76 786.587 2272.96 780.285 Q2277.19 773.951 2285.18 773.951 Z\" fill=\"#000000\" fill-rule=\"nonzero\" fill-opacity=\"1\" /><path clip-path=\"url(#clip170)\" d=\"M2312.9 814.246 L2319.62 814.246 L2319.62 822.33 L2312.9 822.33 L2312.9 814.246 Z\" fill=\"#000000\" fill-rule=\"nonzero\" fill-opacity=\"1\" /><path clip-path=\"url(#clip170)\" d=\"M2347.37 779.044 Q2342.41 779.044 2339.89 783.945 Q2337.41 788.815 2337.41 798.618 Q2337.41 808.39 2339.89 813.291 Q2342.41 818.161 2347.37 818.161 Q2352.37 818.161 2354.85 813.291 Q2357.37 808.39 2357.37 798.618 Q2357.37 788.815 2354.85 783.945 Q2352.37 779.044 2347.37 779.044 M2347.37 773.951 Q2355.36 773.951 2359.56 780.285 Q2363.8 786.587 2363.8 798.618 Q2363.8 810.618 2359.56 816.951 Q2355.36 823.253 2347.37 823.253 Q2339.38 823.253 2335.15 816.951 Q2330.95 810.618 2330.95 798.618 Q2330.95 786.587 2335.15 780.285 Q2339.38 773.951 2347.37 773.951 Z\" fill=\"#000000\" fill-rule=\"nonzero\" fill-opacity=\"1\" /><path clip-path=\"url(#clip170)\" d=\"M2394.57 796.708 Q2399.19 797.695 2401.77 800.814 Q2404.38 803.934 2404.38 808.517 Q2404.38 815.551 2399.54 819.402 Q2394.7 823.253 2385.79 823.253 Q2382.8 823.253 2379.61 822.649 Q2376.46 822.076 2373.09 820.898 L2373.09 814.692 Q2375.76 816.251 2378.95 817.047 Q2382.13 817.843 2385.6 817.843 Q2391.65 817.843 2394.8 815.455 Q2397.98 813.068 2397.98 808.517 Q2397.98 804.315 2395.02 801.96 Q2392.09 799.573 2386.84 799.573 L2381.3 799.573 L2381.3 794.289 L2387.09 794.289 Q2391.84 794.289 2394.35 792.412 Q2396.87 790.502 2396.87 786.937 Q2396.87 783.277 2394.26 781.335 Q2391.68 779.362 2386.84 779.362 Q2384.2 779.362 2381.17 779.935 Q2378.15 780.508 2374.52 781.717 L2374.52 775.988 Q2378.18 774.97 2381.37 774.46 Q2384.58 773.951 2387.41 773.951 Q2394.73 773.951 2399 777.293 Q2403.26 780.603 2403.26 786.269 Q2403.26 790.215 2401 792.953 Q2398.74 795.658 2394.57 796.708 Z\" fill=\"#000000\" fill-rule=\"nonzero\" fill-opacity=\"1\" /><path clip-path=\"url(#clip170)\" d=\"M2285.18 596.677 Q2280.21 596.677 2277.7 601.578 Q2275.22 606.448 2275.22 616.251 Q2275.22 626.023 2277.7 630.924 Q2280.21 635.794 2285.18 635.794 Q2290.18 635.794 2292.66 630.924 Q2295.17 626.023 2295.17 616.251 Q2295.17 606.448 2292.66 601.578 Q2290.18 596.677 2285.18 596.677 M2285.18 591.584 Q2293.17 591.584 2297.37 597.918 Q2301.6 604.22 2301.6 616.251 Q2301.6 628.251 2297.37 634.585 Q2293.17 640.887 2285.18 640.887 Q2277.19 640.887 2272.96 634.585 Q2268.76 628.251 2268.76 616.251 Q2268.76 604.22 2272.96 597.918 Q2277.19 591.584 2285.18 591.584 Z\" fill=\"#000000\" fill-rule=\"nonzero\" fill-opacity=\"1\" /><path clip-path=\"url(#clip170)\" d=\"M2312.9 631.879 L2319.62 631.879 L2319.62 639.964 L2312.9 639.964 L2312.9 631.879 Z\" fill=\"#000000\" fill-rule=\"nonzero\" fill-opacity=\"1\" /><path clip-path=\"url(#clip170)\" d=\"M2347.37 596.677 Q2342.41 596.677 2339.89 601.578 Q2337.41 606.448 2337.41 616.251 Q2337.41 626.023 2339.89 630.924 Q2342.41 635.794 2347.37 635.794 Q2352.37 635.794 2354.85 630.924 Q2357.37 626.023 2357.37 616.251 Q2357.37 606.448 2354.85 601.578 Q2352.37 596.677 2347.37 596.677 M2347.37 591.584 Q2355.36 591.584 2359.56 597.918 Q2363.8 604.22 2363.8 616.251 Q2363.8 628.251 2359.56 634.585 Q2355.36 640.887 2347.37 640.887 Q2339.38 640.887 2335.15 634.585 Q2330.95 628.251 2330.95 616.251 Q2330.95 604.22 2335.15 597.918 Q2339.38 591.584 2347.37 591.584 Z\" fill=\"#000000\" fill-rule=\"nonzero\" fill-opacity=\"1\" /><path clip-path=\"url(#clip170)\" d=\"M2392.76 598.045 L2376.53 623.413 L2392.76 623.413 L2392.76 598.045 M2391.07 592.444 L2399.16 592.444 L2399.16 623.413 L2405.94 623.413 L2405.94 628.76 L2399.16 628.76 L2399.16 639.964 L2392.76 639.964 L2392.76 628.76 L2371.31 628.76 L2371.31 622.553 L2391.07 592.444 Z\" fill=\"#000000\" fill-rule=\"nonzero\" fill-opacity=\"1\" /><path clip-path=\"url(#clip170)\" d=\"M2285.18 414.31 Q2280.21 414.31 2277.7 419.211 Q2275.22 424.081 2275.22 433.884 Q2275.22 443.656 2277.7 448.557 Q2280.21 453.427 2285.18 453.427 Q2290.18 453.427 2292.66 448.557 Q2295.17 443.656 2295.17 433.884 Q2295.17 424.081 2292.66 419.211 Q2290.18 414.31 2285.18 414.31 M2285.18 409.217 Q2293.17 409.217 2297.37 415.551 Q2301.6 421.853 2301.6 433.884 Q2301.6 445.884 2297.37 452.218 Q2293.17 458.52 2285.18 458.52 Q2277.19 458.52 2272.96 452.218 Q2268.76 445.884 2268.76 433.884 Q2268.76 421.853 2272.96 415.551 Q2277.19 409.217 2285.18 409.217 Z\" fill=\"#000000\" fill-rule=\"nonzero\" fill-opacity=\"1\" /><path clip-path=\"url(#clip170)\" d=\"M2312.9 449.512 L2319.62 449.512 L2319.62 457.597 L2312.9 457.597 L2312.9 449.512 Z\" fill=\"#000000\" fill-rule=\"nonzero\" fill-opacity=\"1\" /><path clip-path=\"url(#clip170)\" d=\"M2347.37 414.31 Q2342.41 414.31 2339.89 419.211 Q2337.41 424.081 2337.41 433.884 Q2337.41 443.656 2339.89 448.557 Q2342.41 453.427 2347.37 453.427 Q2352.37 453.427 2354.85 448.557 Q2357.37 443.656 2357.37 433.884 Q2357.37 424.081 2354.85 419.211 Q2352.37 414.31 2347.37 414.31 M2347.37 409.217 Q2355.36 409.217 2359.56 415.551 Q2363.8 421.853 2363.8 433.884 Q2363.8 445.884 2359.56 452.218 Q2355.36 458.52 2347.37 458.52 Q2339.38 458.52 2335.15 452.218 Q2330.95 445.884 2330.95 433.884 Q2330.95 421.853 2335.15 415.551 Q2339.38 409.217 2347.37 409.217 Z\" fill=\"#000000\" fill-rule=\"nonzero\" fill-opacity=\"1\" /><path clip-path=\"url(#clip170)\" d=\"M2375.16 410.077 L2400.4 410.077 L2400.4 415.488 L2381.05 415.488 L2381.05 427.137 Q2382.45 426.659 2383.85 426.437 Q2385.25 426.182 2386.65 426.182 Q2394.61 426.182 2399.25 430.542 Q2403.9 434.903 2403.9 442.351 Q2403.9 450.021 2399.13 454.286 Q2394.35 458.52 2385.66 458.52 Q2382.67 458.52 2379.55 458.01 Q2376.46 457.501 2373.15 456.483 L2373.15 450.021 Q2376.02 451.581 2379.07 452.345 Q2382.13 453.109 2385.53 453.109 Q2391.04 453.109 2394.26 450.212 Q2397.47 447.316 2397.47 442.351 Q2397.47 437.386 2394.26 434.489 Q2391.04 431.593 2385.53 431.593 Q2382.96 431.593 2380.38 432.166 Q2377.83 432.739 2375.16 433.948 L2375.16 410.077 Z\" fill=\"#000000\" fill-rule=\"nonzero\" fill-opacity=\"1\" /><path clip-path=\"url(#clip170)\" d=\"M2285.18 231.943 Q2280.21 231.943 2277.7 236.845 Q2275.22 241.714 2275.22 251.518 Q2275.22 261.289 2277.7 266.19 Q2280.21 271.06 2285.18 271.06 Q2290.18 271.06 2292.66 266.19 Q2295.17 261.289 2295.17 251.518 Q2295.17 241.714 2292.66 236.845 Q2290.18 231.943 2285.18 231.943 M2285.18 226.85 Q2293.17 226.85 2297.37 233.184 Q2301.6 239.486 2301.6 251.518 Q2301.6 263.517 2297.37 269.851 Q2293.17 276.153 2285.18 276.153 Q2277.19 276.153 2272.96 269.851 Q2268.76 263.517 2268.76 251.518 Q2268.76 239.486 2272.96 233.184 Q2277.19 226.85 2285.18 226.85 Z\" fill=\"#000000\" fill-rule=\"nonzero\" fill-opacity=\"1\" /><path clip-path=\"url(#clip170)\" d=\"M2312.9 267.145 L2319.62 267.145 L2319.62 275.23 L2312.9 275.23 L2312.9 267.145 Z\" fill=\"#000000\" fill-rule=\"nonzero\" fill-opacity=\"1\" /><path clip-path=\"url(#clip170)\" d=\"M2347.37 231.943 Q2342.41 231.943 2339.89 236.845 Q2337.41 241.714 2337.41 251.518 Q2337.41 261.289 2339.89 266.19 Q2342.41 271.06 2347.37 271.06 Q2352.37 271.06 2354.85 266.19 Q2357.37 261.289 2357.37 251.518 Q2357.37 241.714 2354.85 236.845 Q2352.37 231.943 2347.37 231.943 M2347.37 226.85 Q2355.36 226.85 2359.56 233.184 Q2363.8 239.486 2363.8 251.518 Q2363.8 263.517 2359.56 269.851 Q2355.36 276.153 2347.37 276.153 Q2339.38 276.153 2335.15 269.851 Q2330.95 263.517 2330.95 251.518 Q2330.95 239.486 2335.15 233.184 Q2339.38 226.85 2347.37 226.85 Z\" fill=\"#000000\" fill-rule=\"nonzero\" fill-opacity=\"1\" /><path clip-path=\"url(#clip170)\" d=\"M2389.64 248.908 Q2385.31 248.908 2382.77 251.868 Q2380.25 254.828 2380.25 259.984 Q2380.25 265.108 2382.77 268.1 Q2385.31 271.06 2389.64 271.06 Q2393.97 271.06 2396.48 268.1 Q2399.03 265.108 2399.03 259.984 Q2399.03 254.828 2396.48 251.868 Q2393.97 248.908 2389.64 248.908 M2402.4 228.76 L2402.4 234.617 Q2399.98 233.471 2397.5 232.866 Q2395.05 232.261 2392.63 232.261 Q2386.27 232.261 2382.89 236.558 Q2379.55 240.855 2379.07 249.544 Q2380.95 246.775 2383.78 245.311 Q2386.62 243.815 2390.02 243.815 Q2397.18 243.815 2401.32 248.176 Q2405.49 252.504 2405.49 259.984 Q2405.49 267.304 2401.16 271.729 Q2396.83 276.153 2389.64 276.153 Q2381.4 276.153 2377.04 269.851 Q2372.68 263.517 2372.68 251.518 Q2372.68 240.25 2378.02 233.566 Q2383.37 226.85 2392.38 226.85 Q2394.8 226.85 2397.25 227.328 Q2399.73 227.805 2402.4 228.76 Z\" fill=\"#000000\" fill-rule=\"nonzero\" fill-opacity=\"1\" /><polyline clip-path=\"url(#clip170)\" style=\"stroke:#000000; stroke-linecap:round; stroke-linejoin:round; stroke-width:4; stroke-opacity:1; fill:none\" points=\"2232.76,1350.66 2232.76,1168.29 2256.76,1168.29 2232.76,1168.29 2232.76,985.927 2256.76,985.927 2232.76,985.927 2232.76,803.56 2256.76,803.56 2232.76,803.56 2232.76,621.193 2256.76,621.193 2232.76,621.193 2232.76,438.826 2256.76,438.826 2232.76,438.826 2232.76,256.459 2256.76,256.459 2232.76,256.459 2232.76,195.996 \"/>\n",
       "<g clip-path=\"url(#clip170)\">\n",
       "<text style=\"fill:#008000; fill-opacity:1; font-family:Courier,Courier New,Lucida Sans Typewriter,Lucida Typewriter,monospace; font-size:74px; text-anchor:middle;\" transform=\"rotate(0, 776.236, 304.64)\" x=\"776.236\" y=\"304.64\">1</text>\n",
       "</g>\n",
       "<g clip-path=\"url(#clip170)\">\n",
       "<text style=\"fill:#008000; fill-opacity:1; font-family:Courier,Courier New,Lucida Sans Typewriter,Lucida Typewriter,monospace; font-size:74px; text-anchor:middle;\" transform=\"rotate(0, 885.166, 304.64)\" x=\"885.166\" y=\"304.64\">2</text>\n",
       "</g>\n",
       "<g clip-path=\"url(#clip170)\">\n",
       "<text style=\"fill:#008000; fill-opacity:1; font-family:Courier,Courier New,Lucida Sans Typewriter,Lucida Typewriter,monospace; font-size:74px; text-anchor:middle;\" transform=\"rotate(0, 994.096, 304.64)\" x=\"994.096\" y=\"304.64\">3</text>\n",
       "</g>\n",
       "<g clip-path=\"url(#clip170)\">\n",
       "<text style=\"fill:#008000; fill-opacity:1; font-family:Courier,Courier New,Lucida Sans Typewriter,Lucida Typewriter,monospace; font-size:74px; text-anchor:middle;\" transform=\"rotate(0, 1103.03, 304.64)\" x=\"1103.03\" y=\"304.64\">4</text>\n",
       "</g>\n",
       "<g clip-path=\"url(#clip170)\">\n",
       "<text style=\"fill:#008000; fill-opacity:1; font-family:Courier,Courier New,Lucida Sans Typewriter,Lucida Typewriter,monospace; font-size:74px; text-anchor:middle;\" transform=\"rotate(0, 1211.96, 304.64)\" x=\"1211.96\" y=\"304.64\">5</text>\n",
       "</g>\n",
       "<g clip-path=\"url(#clip170)\">\n",
       "<text style=\"fill:#008000; fill-opacity:1; font-family:Courier,Courier New,Lucida Sans Typewriter,Lucida Typewriter,monospace; font-size:74px; text-anchor:middle;\" transform=\"rotate(0, 1320.89, 304.64)\" x=\"1320.89\" y=\"304.64\">6</text>\n",
       "</g>\n",
       "<g clip-path=\"url(#clip170)\">\n",
       "<text style=\"fill:#008000; fill-opacity:1; font-family:Courier,Courier New,Lucida Sans Typewriter,Lucida Typewriter,monospace; font-size:74px; text-anchor:middle;\" transform=\"rotate(0, 1429.82, 304.64)\" x=\"1429.82\" y=\"304.64\">7</text>\n",
       "</g>\n",
       "<g clip-path=\"url(#clip170)\">\n",
       "<text style=\"fill:#008000; fill-opacity:1; font-family:Courier,Courier New,Lucida Sans Typewriter,Lucida Typewriter,monospace; font-size:74px; text-anchor:middle;\" transform=\"rotate(0, 1538.75, 304.64)\" x=\"1538.75\" y=\"304.64\">8</text>\n",
       "</g>\n",
       "<g clip-path=\"url(#clip170)\">\n",
       "<text style=\"fill:#008000; fill-opacity:1; font-family:Courier,Courier New,Lucida Sans Typewriter,Lucida Typewriter,monospace; font-size:74px; text-anchor:middle;\" transform=\"rotate(0, 776.236, 413.57)\" x=\"776.236\" y=\"413.57\">9</text>\n",
       "</g>\n",
       "<g clip-path=\"url(#clip170)\">\n",
       "<text style=\"fill:#008000; fill-opacity:1; font-family:Courier,Courier New,Lucida Sans Typewriter,Lucida Typewriter,monospace; font-size:74px; text-anchor:middle;\" transform=\"rotate(0, 885.166, 413.57)\" x=\"885.166\" y=\"413.57\">10</text>\n",
       "</g>\n",
       "<g clip-path=\"url(#clip170)\">\n",
       "<text style=\"fill:#008000; fill-opacity:1; font-family:Courier,Courier New,Lucida Sans Typewriter,Lucida Typewriter,monospace; font-size:74px; text-anchor:middle;\" transform=\"rotate(0, 994.096, 413.57)\" x=\"994.096\" y=\"413.57\">11</text>\n",
       "</g>\n",
       "<g clip-path=\"url(#clip170)\">\n",
       "<text style=\"fill:#008000; fill-opacity:1; font-family:Courier,Courier New,Lucida Sans Typewriter,Lucida Typewriter,monospace; font-size:74px; text-anchor:middle;\" transform=\"rotate(0, 1103.03, 413.57)\" x=\"1103.03\" y=\"413.57\">12</text>\n",
       "</g>\n",
       "<g clip-path=\"url(#clip170)\">\n",
       "<text style=\"fill:#008000; fill-opacity:1; font-family:Courier,Courier New,Lucida Sans Typewriter,Lucida Typewriter,monospace; font-size:74px; text-anchor:middle;\" transform=\"rotate(0, 1211.96, 413.57)\" x=\"1211.96\" y=\"413.57\">13</text>\n",
       "</g>\n",
       "<g clip-path=\"url(#clip170)\">\n",
       "<text style=\"fill:#008000; fill-opacity:1; font-family:Courier,Courier New,Lucida Sans Typewriter,Lucida Typewriter,monospace; font-size:74px; text-anchor:middle;\" transform=\"rotate(0, 1320.89, 413.57)\" x=\"1320.89\" y=\"413.57\">14</text>\n",
       "</g>\n",
       "<g clip-path=\"url(#clip170)\">\n",
       "<text style=\"fill:#008000; fill-opacity:1; font-family:Courier,Courier New,Lucida Sans Typewriter,Lucida Typewriter,monospace; font-size:74px; text-anchor:middle;\" transform=\"rotate(0, 1429.82, 413.57)\" x=\"1429.82\" y=\"413.57\">15</text>\n",
       "</g>\n",
       "<g clip-path=\"url(#clip170)\">\n",
       "<text style=\"fill:#008000; fill-opacity:1; font-family:Courier,Courier New,Lucida Sans Typewriter,Lucida Typewriter,monospace; font-size:74px; text-anchor:middle;\" transform=\"rotate(0, 1538.75, 413.57)\" x=\"1538.75\" y=\"413.57\">16</text>\n",
       "</g>\n",
       "<g clip-path=\"url(#clip170)\">\n",
       "<text style=\"fill:#008000; fill-opacity:1; font-family:Courier,Courier New,Lucida Sans Typewriter,Lucida Typewriter,monospace; font-size:74px; text-anchor:middle;\" transform=\"rotate(0, 776.236, 522.501)\" x=\"776.236\" y=\"522.501\">17</text>\n",
       "</g>\n",
       "<g clip-path=\"url(#clip170)\">\n",
       "<text style=\"fill:#008000; fill-opacity:1; font-family:Courier,Courier New,Lucida Sans Typewriter,Lucida Typewriter,monospace; font-size:74px; text-anchor:middle;\" transform=\"rotate(0, 885.166, 522.501)\" x=\"885.166\" y=\"522.501\">18</text>\n",
       "</g>\n",
       "<g clip-path=\"url(#clip170)\">\n",
       "<text style=\"fill:#008000; fill-opacity:1; font-family:Courier,Courier New,Lucida Sans Typewriter,Lucida Typewriter,monospace; font-size:74px; text-anchor:middle;\" transform=\"rotate(0, 994.096, 522.501)\" x=\"994.096\" y=\"522.501\">19</text>\n",
       "</g>\n",
       "<g clip-path=\"url(#clip170)\">\n",
       "<text style=\"fill:#008000; fill-opacity:1; font-family:Courier,Courier New,Lucida Sans Typewriter,Lucida Typewriter,monospace; font-size:74px; text-anchor:middle;\" transform=\"rotate(0, 1103.03, 522.501)\" x=\"1103.03\" y=\"522.501\">20</text>\n",
       "</g>\n",
       "<g clip-path=\"url(#clip170)\">\n",
       "<text style=\"fill:#008000; fill-opacity:1; font-family:Courier,Courier New,Lucida Sans Typewriter,Lucida Typewriter,monospace; font-size:74px; text-anchor:middle;\" transform=\"rotate(0, 1211.96, 522.501)\" x=\"1211.96\" y=\"522.501\">21</text>\n",
       "</g>\n",
       "<g clip-path=\"url(#clip170)\">\n",
       "<text style=\"fill:#008000; fill-opacity:1; font-family:Courier,Courier New,Lucida Sans Typewriter,Lucida Typewriter,monospace; font-size:74px; text-anchor:middle;\" transform=\"rotate(0, 1320.89, 522.501)\" x=\"1320.89\" y=\"522.501\">22</text>\n",
       "</g>\n",
       "<g clip-path=\"url(#clip170)\">\n",
       "<text style=\"fill:#008000; fill-opacity:1; font-family:Courier,Courier New,Lucida Sans Typewriter,Lucida Typewriter,monospace; font-size:74px; text-anchor:middle;\" transform=\"rotate(0, 1429.82, 522.501)\" x=\"1429.82\" y=\"522.501\">23</text>\n",
       "</g>\n",
       "<g clip-path=\"url(#clip170)\">\n",
       "<text style=\"fill:#008000; fill-opacity:1; font-family:Courier,Courier New,Lucida Sans Typewriter,Lucida Typewriter,monospace; font-size:74px; text-anchor:middle;\" transform=\"rotate(0, 1538.75, 522.501)\" x=\"1538.75\" y=\"522.501\">24</text>\n",
       "</g>\n",
       "<g clip-path=\"url(#clip170)\">\n",
       "<text style=\"fill:#008000; fill-opacity:1; font-family:Courier,Courier New,Lucida Sans Typewriter,Lucida Typewriter,monospace; font-size:74px; text-anchor:middle;\" transform=\"rotate(0, 776.236, 631.431)\" x=\"776.236\" y=\"631.431\">25</text>\n",
       "</g>\n",
       "<g clip-path=\"url(#clip170)\">\n",
       "<text style=\"fill:#008000; fill-opacity:1; font-family:Courier,Courier New,Lucida Sans Typewriter,Lucida Typewriter,monospace; font-size:74px; text-anchor:middle;\" transform=\"rotate(0, 885.166, 631.431)\" x=\"885.166\" y=\"631.431\">26</text>\n",
       "</g>\n",
       "<g clip-path=\"url(#clip170)\">\n",
       "<text style=\"fill:#008000; fill-opacity:1; font-family:Courier,Courier New,Lucida Sans Typewriter,Lucida Typewriter,monospace; font-size:74px; text-anchor:middle;\" transform=\"rotate(0, 994.096, 631.431)\" x=\"994.096\" y=\"631.431\">27</text>\n",
       "</g>\n",
       "<g clip-path=\"url(#clip170)\">\n",
       "<text style=\"fill:#008000; fill-opacity:1; font-family:Courier,Courier New,Lucida Sans Typewriter,Lucida Typewriter,monospace; font-size:74px; text-anchor:middle;\" transform=\"rotate(0, 1103.03, 631.431)\" x=\"1103.03\" y=\"631.431\">28</text>\n",
       "</g>\n",
       "<g clip-path=\"url(#clip170)\">\n",
       "<text style=\"fill:#008000; fill-opacity:1; font-family:Courier,Courier New,Lucida Sans Typewriter,Lucida Typewriter,monospace; font-size:74px; text-anchor:middle;\" transform=\"rotate(0, 1211.96, 631.431)\" x=\"1211.96\" y=\"631.431\">29</text>\n",
       "</g>\n",
       "<g clip-path=\"url(#clip170)\">\n",
       "<text style=\"fill:#008000; fill-opacity:1; font-family:Courier,Courier New,Lucida Sans Typewriter,Lucida Typewriter,monospace; font-size:74px; text-anchor:middle;\" transform=\"rotate(0, 1320.89, 631.431)\" x=\"1320.89\" y=\"631.431\">30</text>\n",
       "</g>\n",
       "<g clip-path=\"url(#clip170)\">\n",
       "<text style=\"fill:#008000; fill-opacity:1; font-family:Courier,Courier New,Lucida Sans Typewriter,Lucida Typewriter,monospace; font-size:74px; text-anchor:middle;\" transform=\"rotate(0, 1429.82, 631.431)\" x=\"1429.82\" y=\"631.431\">31</text>\n",
       "</g>\n",
       "<g clip-path=\"url(#clip170)\">\n",
       "<text style=\"fill:#008000; fill-opacity:1; font-family:Courier,Courier New,Lucida Sans Typewriter,Lucida Typewriter,monospace; font-size:74px; text-anchor:middle;\" transform=\"rotate(0, 1538.75, 631.431)\" x=\"1538.75\" y=\"631.431\">32</text>\n",
       "</g>\n",
       "<g clip-path=\"url(#clip170)\">\n",
       "<text style=\"fill:#008000; fill-opacity:1; font-family:Courier,Courier New,Lucida Sans Typewriter,Lucida Typewriter,monospace; font-size:74px; text-anchor:middle;\" transform=\"rotate(0, 776.236, 740.361)\" x=\"776.236\" y=\"740.361\">33</text>\n",
       "</g>\n",
       "<g clip-path=\"url(#clip170)\">\n",
       "<text style=\"fill:#008000; fill-opacity:1; font-family:Courier,Courier New,Lucida Sans Typewriter,Lucida Typewriter,monospace; font-size:74px; text-anchor:middle;\" transform=\"rotate(0, 885.166, 740.361)\" x=\"885.166\" y=\"740.361\">34</text>\n",
       "</g>\n",
       "<g clip-path=\"url(#clip170)\">\n",
       "<text style=\"fill:#008000; fill-opacity:1; font-family:Courier,Courier New,Lucida Sans Typewriter,Lucida Typewriter,monospace; font-size:74px; text-anchor:middle;\" transform=\"rotate(0, 994.096, 740.361)\" x=\"994.096\" y=\"740.361\">35</text>\n",
       "</g>\n",
       "<g clip-path=\"url(#clip170)\">\n",
       "<text style=\"fill:#008000; fill-opacity:1; font-family:Courier,Courier New,Lucida Sans Typewriter,Lucida Typewriter,monospace; font-size:74px; text-anchor:middle;\" transform=\"rotate(0, 1103.03, 740.361)\" x=\"1103.03\" y=\"740.361\">36</text>\n",
       "</g>\n",
       "<g clip-path=\"url(#clip170)\">\n",
       "<text style=\"fill:#008000; fill-opacity:1; font-family:Courier,Courier New,Lucida Sans Typewriter,Lucida Typewriter,monospace; font-size:74px; text-anchor:middle;\" transform=\"rotate(0, 1211.96, 740.361)\" x=\"1211.96\" y=\"740.361\">37</text>\n",
       "</g>\n",
       "<g clip-path=\"url(#clip170)\">\n",
       "<text style=\"fill:#008000; fill-opacity:1; font-family:Courier,Courier New,Lucida Sans Typewriter,Lucida Typewriter,monospace; font-size:74px; text-anchor:middle;\" transform=\"rotate(0, 1320.89, 740.361)\" x=\"1320.89\" y=\"740.361\">38</text>\n",
       "</g>\n",
       "<g clip-path=\"url(#clip170)\">\n",
       "<text style=\"fill:#008000; fill-opacity:1; font-family:Courier,Courier New,Lucida Sans Typewriter,Lucida Typewriter,monospace; font-size:74px; text-anchor:middle;\" transform=\"rotate(0, 1429.82, 740.361)\" x=\"1429.82\" y=\"740.361\">39</text>\n",
       "</g>\n",
       "<g clip-path=\"url(#clip170)\">\n",
       "<text style=\"fill:#008000; fill-opacity:1; font-family:Courier,Courier New,Lucida Sans Typewriter,Lucida Typewriter,monospace; font-size:74px; text-anchor:middle;\" transform=\"rotate(0, 1538.75, 740.361)\" x=\"1538.75\" y=\"740.361\">40</text>\n",
       "</g>\n",
       "<g clip-path=\"url(#clip170)\">\n",
       "<text style=\"fill:#008000; fill-opacity:1; font-family:Courier,Courier New,Lucida Sans Typewriter,Lucida Typewriter,monospace; font-size:74px; text-anchor:middle;\" transform=\"rotate(0, 776.236, 849.291)\" x=\"776.236\" y=\"849.291\">41</text>\n",
       "</g>\n",
       "<g clip-path=\"url(#clip170)\">\n",
       "<text style=\"fill:#008000; fill-opacity:1; font-family:Courier,Courier New,Lucida Sans Typewriter,Lucida Typewriter,monospace; font-size:74px; text-anchor:middle;\" transform=\"rotate(0, 885.166, 849.291)\" x=\"885.166\" y=\"849.291\">42</text>\n",
       "</g>\n",
       "<g clip-path=\"url(#clip170)\">\n",
       "<text style=\"fill:#008000; fill-opacity:1; font-family:Courier,Courier New,Lucida Sans Typewriter,Lucida Typewriter,monospace; font-size:74px; text-anchor:middle;\" transform=\"rotate(0, 994.096, 849.291)\" x=\"994.096\" y=\"849.291\">43</text>\n",
       "</g>\n",
       "<g clip-path=\"url(#clip170)\">\n",
       "<text style=\"fill:#008000; fill-opacity:1; font-family:Courier,Courier New,Lucida Sans Typewriter,Lucida Typewriter,monospace; font-size:74px; text-anchor:middle;\" transform=\"rotate(0, 1103.03, 849.291)\" x=\"1103.03\" y=\"849.291\">44</text>\n",
       "</g>\n",
       "<g clip-path=\"url(#clip170)\">\n",
       "<text style=\"fill:#008000; fill-opacity:1; font-family:Courier,Courier New,Lucida Sans Typewriter,Lucida Typewriter,monospace; font-size:74px; text-anchor:middle;\" transform=\"rotate(0, 1211.96, 849.291)\" x=\"1211.96\" y=\"849.291\">45</text>\n",
       "</g>\n",
       "<g clip-path=\"url(#clip170)\">\n",
       "<text style=\"fill:#008000; fill-opacity:1; font-family:Courier,Courier New,Lucida Sans Typewriter,Lucida Typewriter,monospace; font-size:74px; text-anchor:middle;\" transform=\"rotate(0, 1320.89, 849.291)\" x=\"1320.89\" y=\"849.291\">46</text>\n",
       "</g>\n",
       "<g clip-path=\"url(#clip170)\">\n",
       "<text style=\"fill:#008000; fill-opacity:1; font-family:Courier,Courier New,Lucida Sans Typewriter,Lucida Typewriter,monospace; font-size:74px; text-anchor:middle;\" transform=\"rotate(0, 1429.82, 849.291)\" x=\"1429.82\" y=\"849.291\">47</text>\n",
       "</g>\n",
       "<g clip-path=\"url(#clip170)\">\n",
       "<text style=\"fill:#008000; fill-opacity:1; font-family:Courier,Courier New,Lucida Sans Typewriter,Lucida Typewriter,monospace; font-size:74px; text-anchor:middle;\" transform=\"rotate(0, 1538.75, 849.291)\" x=\"1538.75\" y=\"849.291\">48</text>\n",
       "</g>\n",
       "<g clip-path=\"url(#clip170)\">\n",
       "<text style=\"fill:#008000; fill-opacity:1; font-family:Courier,Courier New,Lucida Sans Typewriter,Lucida Typewriter,monospace; font-size:74px; text-anchor:middle;\" transform=\"rotate(0, 776.236, 958.221)\" x=\"776.236\" y=\"958.221\">49</text>\n",
       "</g>\n",
       "<g clip-path=\"url(#clip170)\">\n",
       "<text style=\"fill:#008000; fill-opacity:1; font-family:Courier,Courier New,Lucida Sans Typewriter,Lucida Typewriter,monospace; font-size:74px; text-anchor:middle;\" transform=\"rotate(0, 885.166, 958.221)\" x=\"885.166\" y=\"958.221\">50</text>\n",
       "</g>\n",
       "<g clip-path=\"url(#clip170)\">\n",
       "<text style=\"fill:#008000; fill-opacity:1; font-family:Courier,Courier New,Lucida Sans Typewriter,Lucida Typewriter,monospace; font-size:74px; text-anchor:middle;\" transform=\"rotate(0, 994.096, 958.221)\" x=\"994.096\" y=\"958.221\">51</text>\n",
       "</g>\n",
       "<g clip-path=\"url(#clip170)\">\n",
       "<text style=\"fill:#008000; fill-opacity:1; font-family:Courier,Courier New,Lucida Sans Typewriter,Lucida Typewriter,monospace; font-size:74px; text-anchor:middle;\" transform=\"rotate(0, 1103.03, 958.221)\" x=\"1103.03\" y=\"958.221\">52</text>\n",
       "</g>\n",
       "<g clip-path=\"url(#clip170)\">\n",
       "<text style=\"fill:#008000; fill-opacity:1; font-family:Courier,Courier New,Lucida Sans Typewriter,Lucida Typewriter,monospace; font-size:74px; text-anchor:middle;\" transform=\"rotate(0, 1211.96, 958.221)\" x=\"1211.96\" y=\"958.221\">53</text>\n",
       "</g>\n",
       "<g clip-path=\"url(#clip170)\">\n",
       "<text style=\"fill:#008000; fill-opacity:1; font-family:Courier,Courier New,Lucida Sans Typewriter,Lucida Typewriter,monospace; font-size:74px; text-anchor:middle;\" transform=\"rotate(0, 1320.89, 958.221)\" x=\"1320.89\" y=\"958.221\">54</text>\n",
       "</g>\n",
       "<g clip-path=\"url(#clip170)\">\n",
       "<text style=\"fill:#008000; fill-opacity:1; font-family:Courier,Courier New,Lucida Sans Typewriter,Lucida Typewriter,monospace; font-size:74px; text-anchor:middle;\" transform=\"rotate(0, 1429.82, 958.221)\" x=\"1429.82\" y=\"958.221\">55</text>\n",
       "</g>\n",
       "<g clip-path=\"url(#clip170)\">\n",
       "<text style=\"fill:#008000; fill-opacity:1; font-family:Courier,Courier New,Lucida Sans Typewriter,Lucida Typewriter,monospace; font-size:74px; text-anchor:middle;\" transform=\"rotate(0, 1538.75, 958.221)\" x=\"1538.75\" y=\"958.221\">56</text>\n",
       "</g>\n",
       "<g clip-path=\"url(#clip170)\">\n",
       "<text style=\"fill:#008000; fill-opacity:1; font-family:Courier,Courier New,Lucida Sans Typewriter,Lucida Typewriter,monospace; font-size:74px; text-anchor:middle;\" transform=\"rotate(0, 776.236, 1067.15)\" x=\"776.236\" y=\"1067.15\">57</text>\n",
       "</g>\n",
       "<g clip-path=\"url(#clip170)\">\n",
       "<text style=\"fill:#008000; fill-opacity:1; font-family:Courier,Courier New,Lucida Sans Typewriter,Lucida Typewriter,monospace; font-size:74px; text-anchor:middle;\" transform=\"rotate(0, 885.166, 1067.15)\" x=\"885.166\" y=\"1067.15\">58</text>\n",
       "</g>\n",
       "<g clip-path=\"url(#clip170)\">\n",
       "<text style=\"fill:#008000; fill-opacity:1; font-family:Courier,Courier New,Lucida Sans Typewriter,Lucida Typewriter,monospace; font-size:74px; text-anchor:middle;\" transform=\"rotate(0, 994.096, 1067.15)\" x=\"994.096\" y=\"1067.15\">59</text>\n",
       "</g>\n",
       "<g clip-path=\"url(#clip170)\">\n",
       "<text style=\"fill:#008000; fill-opacity:1; font-family:Courier,Courier New,Lucida Sans Typewriter,Lucida Typewriter,monospace; font-size:74px; text-anchor:middle;\" transform=\"rotate(0, 1103.03, 1067.15)\" x=\"1103.03\" y=\"1067.15\">60</text>\n",
       "</g>\n",
       "<g clip-path=\"url(#clip170)\">\n",
       "<text style=\"fill:#008000; fill-opacity:1; font-family:Courier,Courier New,Lucida Sans Typewriter,Lucida Typewriter,monospace; font-size:74px; text-anchor:middle;\" transform=\"rotate(0, 1211.96, 1067.15)\" x=\"1211.96\" y=\"1067.15\">61</text>\n",
       "</g>\n",
       "<g clip-path=\"url(#clip170)\">\n",
       "<text style=\"fill:#008000; fill-opacity:1; font-family:Courier,Courier New,Lucida Sans Typewriter,Lucida Typewriter,monospace; font-size:74px; text-anchor:middle;\" transform=\"rotate(0, 1320.89, 1067.15)\" x=\"1320.89\" y=\"1067.15\">62</text>\n",
       "</g>\n",
       "<g clip-path=\"url(#clip170)\">\n",
       "<text style=\"fill:#008000; fill-opacity:1; font-family:Courier,Courier New,Lucida Sans Typewriter,Lucida Typewriter,monospace; font-size:74px; text-anchor:middle;\" transform=\"rotate(0, 1429.82, 1067.15)\" x=\"1429.82\" y=\"1067.15\">63</text>\n",
       "</g>\n",
       "<g clip-path=\"url(#clip170)\">\n",
       "<text style=\"fill:#008000; fill-opacity:1; font-family:Courier,Courier New,Lucida Sans Typewriter,Lucida Typewriter,monospace; font-size:74px; text-anchor:middle;\" transform=\"rotate(0, 1538.75, 1067.15)\" x=\"1538.75\" y=\"1067.15\">64</text>\n",
       "</g>\n",
       "<g clip-path=\"url(#clip170)\">\n",
       "<text style=\"fill:#008000; fill-opacity:1; font-family:Courier,Courier New,Lucida Sans Typewriter,Lucida Typewriter,monospace; font-size:74px; text-anchor:middle;\" transform=\"rotate(0, 776.236, 1176.08)\" x=\"776.236\" y=\"1176.08\">65</text>\n",
       "</g>\n",
       "<g clip-path=\"url(#clip170)\">\n",
       "<text style=\"fill:#008000; fill-opacity:1; font-family:Courier,Courier New,Lucida Sans Typewriter,Lucida Typewriter,monospace; font-size:74px; text-anchor:middle;\" transform=\"rotate(0, 885.166, 1176.08)\" x=\"885.166\" y=\"1176.08\">66</text>\n",
       "</g>\n",
       "<g clip-path=\"url(#clip170)\">\n",
       "<text style=\"fill:#008000; fill-opacity:1; font-family:Courier,Courier New,Lucida Sans Typewriter,Lucida Typewriter,monospace; font-size:74px; text-anchor:middle;\" transform=\"rotate(0, 994.096, 1176.08)\" x=\"994.096\" y=\"1176.08\">67</text>\n",
       "</g>\n",
       "<g clip-path=\"url(#clip170)\">\n",
       "<text style=\"fill:#008000; fill-opacity:1; font-family:Courier,Courier New,Lucida Sans Typewriter,Lucida Typewriter,monospace; font-size:74px; text-anchor:middle;\" transform=\"rotate(0, 1103.03, 1176.08)\" x=\"1103.03\" y=\"1176.08\">68</text>\n",
       "</g>\n",
       "<g clip-path=\"url(#clip170)\">\n",
       "<text style=\"fill:#008000; fill-opacity:1; font-family:Courier,Courier New,Lucida Sans Typewriter,Lucida Typewriter,monospace; font-size:74px; text-anchor:middle;\" transform=\"rotate(0, 1211.96, 1176.08)\" x=\"1211.96\" y=\"1176.08\">69</text>\n",
       "</g>\n",
       "<g clip-path=\"url(#clip170)\">\n",
       "<text style=\"fill:#008000; fill-opacity:1; font-family:Courier,Courier New,Lucida Sans Typewriter,Lucida Typewriter,monospace; font-size:74px; text-anchor:middle;\" transform=\"rotate(0, 1320.89, 1176.08)\" x=\"1320.89\" y=\"1176.08\">70</text>\n",
       "</g>\n",
       "<g clip-path=\"url(#clip170)\">\n",
       "<text style=\"fill:#008000; fill-opacity:1; font-family:Courier,Courier New,Lucida Sans Typewriter,Lucida Typewriter,monospace; font-size:74px; text-anchor:middle;\" transform=\"rotate(0, 1429.82, 1176.08)\" x=\"1429.82\" y=\"1176.08\">71</text>\n",
       "</g>\n",
       "<g clip-path=\"url(#clip170)\">\n",
       "<text style=\"fill:#008000; fill-opacity:1; font-family:Courier,Courier New,Lucida Sans Typewriter,Lucida Typewriter,monospace; font-size:74px; text-anchor:middle;\" transform=\"rotate(0, 1538.75, 1176.08)\" x=\"1538.75\" y=\"1176.08\">72</text>\n",
       "</g>\n",
       "<g clip-path=\"url(#clip170)\">\n",
       "<text style=\"fill:#008000; fill-opacity:1; font-family:Courier,Courier New,Lucida Sans Typewriter,Lucida Typewriter,monospace; font-size:74px; text-anchor:middle;\" transform=\"rotate(0, 776.236, 1285.01)\" x=\"776.236\" y=\"1285.01\">73</text>\n",
       "</g>\n",
       "<g clip-path=\"url(#clip170)\">\n",
       "<text style=\"fill:#008000; fill-opacity:1; font-family:Courier,Courier New,Lucida Sans Typewriter,Lucida Typewriter,monospace; font-size:74px; text-anchor:middle;\" transform=\"rotate(0, 885.166, 1285.01)\" x=\"885.166\" y=\"1285.01\">74</text>\n",
       "</g>\n",
       "<g clip-path=\"url(#clip170)\">\n",
       "<text style=\"fill:#008000; fill-opacity:1; font-family:Courier,Courier New,Lucida Sans Typewriter,Lucida Typewriter,monospace; font-size:74px; text-anchor:middle;\" transform=\"rotate(0, 994.096, 1285.01)\" x=\"994.096\" y=\"1285.01\">75</text>\n",
       "</g>\n",
       "<g clip-path=\"url(#clip170)\">\n",
       "<text style=\"fill:#008000; fill-opacity:1; font-family:Courier,Courier New,Lucida Sans Typewriter,Lucida Typewriter,monospace; font-size:74px; text-anchor:middle;\" transform=\"rotate(0, 1103.03, 1285.01)\" x=\"1103.03\" y=\"1285.01\">76</text>\n",
       "</g>\n",
       "<g clip-path=\"url(#clip170)\">\n",
       "<text style=\"fill:#008000; fill-opacity:1; font-family:Courier,Courier New,Lucida Sans Typewriter,Lucida Typewriter,monospace; font-size:74px; text-anchor:middle;\" transform=\"rotate(0, 1211.96, 1285.01)\" x=\"1211.96\" y=\"1285.01\">77</text>\n",
       "</g>\n",
       "<g clip-path=\"url(#clip170)\">\n",
       "<text style=\"fill:#008000; fill-opacity:1; font-family:Courier,Courier New,Lucida Sans Typewriter,Lucida Typewriter,monospace; font-size:74px; text-anchor:middle;\" transform=\"rotate(0, 1320.89, 1285.01)\" x=\"1320.89\" y=\"1285.01\">78</text>\n",
       "</g>\n",
       "<g clip-path=\"url(#clip170)\">\n",
       "<text style=\"fill:#008000; fill-opacity:1; font-family:Courier,Courier New,Lucida Sans Typewriter,Lucida Typewriter,monospace; font-size:74px; text-anchor:middle;\" transform=\"rotate(0, 1429.82, 1285.01)\" x=\"1429.82\" y=\"1285.01\">79</text>\n",
       "</g>\n",
       "<g clip-path=\"url(#clip170)\">\n",
       "<text style=\"fill:#008000; fill-opacity:1; font-family:Courier,Courier New,Lucida Sans Typewriter,Lucida Typewriter,monospace; font-size:74px; text-anchor:middle;\" transform=\"rotate(0, 1538.75, 1285.01)\" x=\"1538.75\" y=\"1285.01\">80</text>\n",
       "</g>\n",
       "</svg>\n"
      ]
     },
     "execution_count": 365,
     "metadata": {},
     "output_type": "execute_result"
    }
   ],
   "source": [
    "Plots.heatmap(reshape(get_density_profiles(NM_MB_Array_Storage, r_hubbard_states, index_eig_states), Nx, Ny)|>transpose,xlabel=\"x\", ylabel=\"y\")\n",
    "\n",
    "# # koordinatları 0 yerine 1'den başlatırsak heatmap ile uyumlu olur (.+1 operasyonu)\n",
    "x_coordinates = square_lattice(Nx,Ny)[2][:,1] .+1\n",
    "y_coordinates = square_lattice(Nx,Ny)[2][:,2] .+1\n",
    "Plots.scatter!(x_coordinates, y_coordinates, label=false, aspect_ratio=1, showaxis = false, grid=false, markersize=3, c=:black, title=\"FIG1\")\n",
    "\n",
    "#start the annonate position to the top-left\n",
    "reversed_y_coordinates = reverse(square_lattice(Nx,Ny)[2][:,2] .+1)\n",
    "\n",
    "for i in 1:N\n",
    "    p = annotate!(x_coordinates[i], reversed_y_coordinates[i], text(\"$i\", :Courier, 10,:green), :color)    \n",
    "end\n",
    "\n",
    "function circle_shape(h,k,r)\n",
    "    beta = reverse(LinRange(0, 2*pi, 500))\n",
    "    h .+ r*sin.(beta), k .+ r*cos.(beta)\n",
    "end\n",
    "\n",
    "center_x = x_coordinates[imp_site]; center_y = y_coordinates[imp_site]; radius = 2\n",
    "plot!(circle_shape(center_x,center_y,radius), seriestype=[:shape], lw=0.5, c=:white, linecolor= :white, legend=false, fillalpha=0.2)\n",
    "\n",
    "p"
   ]
  },
  {
   "cell_type": "code",
   "execution_count": 382,
   "id": "5662511a-ca2f-4a26-a0df-39e963a55e0d",
   "metadata": {
    "tags": []
   },
   "outputs": [
    {
     "data": {
      "image/svg+xml": [
       "<?xml version=\"1.0\" encoding=\"utf-8\"?>\n",
       "<svg xmlns=\"http://www.w3.org/2000/svg\" xmlns:xlink=\"http://www.w3.org/1999/xlink\" width=\"600\" height=\"400\" viewBox=\"0 0 2400 1600\">\n",
       "<defs>\n",
       "  <clipPath id=\"clip690\">\n",
       "    <rect x=\"0\" y=\"0\" width=\"2400\" height=\"1600\"/>\n",
       "  </clipPath>\n",
       "</defs>\n",
       "<path clip-path=\"url(#clip690)\" d=\"M0 1600 L2400 1600 L2400 0 L0 0  Z\" fill=\"#ffffff\" fill-rule=\"evenodd\" fill-opacity=\"1\"/>\n",
       "<defs>\n",
       "  <clipPath id=\"clip691\">\n",
       "    <rect x=\"480\" y=\"0\" width=\"1681\" height=\"1600\"/>\n",
       "  </clipPath>\n",
       "</defs>\n",
       "<path clip-path=\"url(#clip690)\" d=\"M202.227 1350.66 L2112.76 1350.66 L2112.76 195.996 L202.227 195.996  Z\" fill=\"#ffffff\" fill-rule=\"evenodd\" fill-opacity=\"1\"/>\n",
       "<defs>\n",
       "  <clipPath id=\"clip692\">\n",
       "    <rect x=\"202\" y=\"195\" width=\"1912\" height=\"1156\"/>\n",
       "  </clipPath>\n",
       "</defs>\n",
       "<path clip-path=\"url(#clip690)\" d=\"M1174.11 1459.87 L1161.22 1477.22 L1174.77 1495.52 L1167.87 1495.52 L1157.49 1481.52 L1147.12 1495.52 L1140.21 1495.52 L1154.05 1476.87 L1141.39 1459.87 L1148.29 1459.87 L1157.75 1472.57 L1167.2 1459.87 L1174.11 1459.87 Z\" fill=\"#000000\" fill-rule=\"nonzero\" fill-opacity=\"1\" /><path clip-path=\"url(#clip690)\" d=\"M67.3143 771.639 Q73.68 774.122 75.6216 776.477 Q77.5631 778.832 77.5631 782.779 L77.5631 787.458 L72.6615 787.458 L72.6615 784.02 Q72.6615 781.601 71.5157 780.265 Q70.3699 778.928 66.1048 777.305 L63.4312 776.254 L28.3562 790.673 L28.3562 784.466 L56.238 773.326 L28.3562 762.186 L28.3562 755.979 L67.3143 771.639 Z\" fill=\"#000000\" fill-rule=\"nonzero\" fill-opacity=\"1\" /><path clip-path=\"url(#clip690)\" d=\"M1071.09 12.096 L1105.84 12.096 L1105.84 18.9825 L1079.27 18.9825 L1079.27 36.8065 L1103.25 36.8065 L1103.25 43.6931 L1079.27 43.6931 L1079.27 72.576 L1071.09 72.576 L1071.09 12.096 Z\" fill=\"#000000\" fill-rule=\"nonzero\" fill-opacity=\"1\" /><path clip-path=\"url(#clip690)\" d=\"M1118.81 12.096 L1126.99 12.096 L1126.99 72.576 L1118.81 72.576 L1118.81 12.096 Z\" fill=\"#000000\" fill-rule=\"nonzero\" fill-opacity=\"1\" /><path clip-path=\"url(#clip690)\" d=\"M1184.51 63.9476 L1184.51 47.7034 L1171.14 47.7034 L1171.14 40.9789 L1192.61 40.9789 L1192.61 66.9452 Q1187.87 70.3075 1182.16 72.0494 Q1176.45 73.7508 1169.97 73.7508 Q1155.79 73.7508 1147.77 65.4869 Q1139.79 57.1826 1139.79 42.3968 Q1139.79 27.5705 1147.77 19.3066 Q1155.79 11.0023 1169.97 11.0023 Q1175.88 11.0023 1181.19 12.4606 Q1186.54 13.9189 1191.03 16.7545 L1191.03 25.464 Q1186.5 21.6156 1181.39 19.6712 Q1176.29 17.7268 1170.66 17.7268 Q1159.56 17.7268 1153.97 23.9246 Q1148.42 30.1225 1148.42 42.3968 Q1148.42 54.6305 1153.97 60.8284 Q1159.56 67.0263 1170.66 67.0263 Q1174.99 67.0263 1178.39 66.2971 Q1181.8 65.5274 1184.51 63.9476 Z\" fill=\"#000000\" fill-rule=\"nonzero\" fill-opacity=\"1\" /><path clip-path=\"url(#clip690)\" d=\"M1215.34 65.6895 L1243.9 65.6895 L1243.9 72.576 L1205.49 72.576 L1205.49 65.6895 Q1210.15 60.8689 1218.17 52.7671 Q1226.24 44.6248 1228.3 42.2752 Q1232.23 37.8598 1233.77 34.8216 Q1235.35 31.7429 1235.35 28.7857 Q1235.35 23.9651 1231.95 20.927 Q1228.59 17.8888 1223.16 17.8888 Q1219.31 17.8888 1215.01 19.2256 Q1210.76 20.5624 1205.9 23.2765 L1205.9 15.0127 Q1210.84 13.0277 1215.14 12.015 Q1219.43 11.0023 1222.99 11.0023 Q1232.39 11.0023 1237.98 15.7013 Q1243.57 20.4004 1243.57 28.2591 Q1243.57 31.9859 1242.16 35.3482 Q1240.78 38.6699 1237.09 43.2069 Q1236.08 44.3817 1230.65 50.0125 Q1225.22 55.6027 1215.34 65.6895 Z\" fill=\"#000000\" fill-rule=\"nonzero\" fill-opacity=\"1\" /><g clip-path=\"url(#clip692)\">\n",
       "<image width=\"1147\" height=\"917\" xlink:href=\"data:image/png;base64,\n",
       "iVBORw0KGgoAAAANSUhEUgAABHsAAAOVCAYAAAD5uOySAAAabElEQVR4nOzaT4sddhmG4U5mxmTG\n",
       "xOZPI11YUMlGC0VSUFyIdenCnSu/l19EF3VnBTcKVpAKWkpdFKySVEcTZxrHmbp3/cIrN9f1CZ7N\n",
       "Oed3bt6Dyx9/7rOXSPjDT76zPYEhLy6Ptycw5PW3frU9gQHHb97ansCUq6vtBUw5PNxewIDL33y6\n",
       "PYEhv3/nW9sTGHLz+HJ7AgNubA8AAAAAYI7YAwAAABAi9gAAAACEiD0AAAAAIWIPAAAAQIjYAwAA\n",
       "ABAi9gAAAACEiD0AAAAAIWIPAAAAQIjYAwAAABAi9gAAAACEiD0AAAAAIWIPAAAAQIjYAwAAABAi\n",
       "9gAAAACEiD0AAAAAIWIPAAAAQIjYAwAAABAi9gAAAACEiD0AAAAAIWIPAAAAQIjYAwAAABAi9gAA\n",
       "AACEiD0AAAAAIWIPAAAAQIjYAwAAABAi9gAAAACEiD0AAAAAIWIPAAAAQIjYAwAAABAi9gAAAACE\n",
       "iD0AAAAAIWIPAAAAQIjYAwAAABAi9gAAAACEiD0AAAAAIWIPAAAAQIjYAwAAABAi9gAAAACEiD0A\n",
       "AAAAIWIPAAAAQIjYAwAAABAi9gAAAACEiD0AAAAAIWIPAAAAQIjYAwAAABAi9gAAAACEiD0AAAAA\n",
       "IWIPAAAAQIjYAwAAABAi9gAAAACEiD0AAAAAIWIPAAAAQIjYAwAAABAi9gAAAACEiD0AAAAAIWIP\n",
       "AAAAQIjYAwAAABAi9gAAAACEiD0AAAAAIWIPAAAAQIjYAwAAABAi9gAAAACEiD0AAAAAIWIPAAAA\n",
       "QIjYAwAAABAi9gAAAACEiD0AAAAAIWIPAAAAQIjYAwAAABAi9gAAAACEiD0AAAAAIWIPAAAAQIjY\n",
       "AwAAABAi9gAAAACEiD0AAAAAIWIPAAAAQIjYAwAAABAi9gAAAACEiD0AAAAAIWIPAAAAQIjYAwAA\n",
       "ABAi9gAAAACEiD0AAAAAIWIPAAAAQIjYAwAAABAi9gAAAACEiD0AAAAAIWIPAAAAQIjYAwAAABAi\n",
       "9gAAAACEiD0AAAAAIWIPAAAAQIjYAwAAABAi9gAAAACEiD0AAAAAIWIPAAAAQIjYAwAAABAi9gAA\n",
       "AACEiD0AAAAAIWIPAAAAQIjYAwAAABAi9gAAAACEiD0AAAAAIWIPAAAAQIjYAwAAABAi9gAAAACE\n",
       "iD0AAAAAIWIPAAAAQIjYAwAAABAi9gAAAACEiD0AAAAAIWIPAAAAQIjYAwAAABBy9NLh9gTgf11f\n",
       "67AVB8dX2xMYcHX/i9sTmHLDwyfj2vdrwcHxn7YnMMT7Ff6/+EQCAAAAhIg9AAAAACFiDwAAAECI\n",
       "2AMAAAAQIvYAAAAAhIg9AAAAACFiDwAAAECI2AMAAAAQIvYAAAAAhIg9AAAAACFiDwAAAECI2AMA\n",
       "AAAQIvYAAAAAhIg9AAAAACFiDwAAAECI2AMAAAAQIvYAAAAAhIg9AAAAACFiDwAAAECI2AMAAAAQ\n",
       "IvYAAAAAhIg9AAAAACFiDwAAAECI2AMAAAAQIvYAAAAAhIg9AAAAACFiDwAAAECI2AMAAAAQIvYA\n",
       "AAAAhIg9AAAAACFiDwAAAECI2AMAAAAQIvYAAAAAhIg9AAAAACFiDwAAAECI2AMAAAAQIvYAAAAA\n",
       "hIg9AAAAACFiDwAAAECI2AMAAAAQIvYAAAAAhIg9AAAAACFiDwAAAECI2AMAAAAQIvYAAAAAhIg9\n",
       "AAAAACFiDwAAAECI2AMAAAAQIvYAAAAAhIg9AAAAACFiDwAAAECI2AMAAAAQIvYAAAAAhIg9AAAA\n",
       "ACFiDwAAAECI2AMAAAAQIvYAAAAAhIg9AAAAACFiDwAAAECI2AMAAAAQIvYAAAAAhIg9AAAAACFi\n",
       "DwAAAECI2AMAAAAQIvYAAAAAhIg9AAAAACFiDwAAAECI2AMAAAAQIvYAAAAAhIg9AAAAACFiDwAA\n",
       "AECI2AMAAAAQIvYAAAAAhIg9AAAAACFiDwAAAECI2AMAAAAQIvYAAAAAhIg9AAAAACFiDwAAAECI\n",
       "2AMAAAAQIvYAAAAAhIg9AAAAACFiDwAAAECI2AMAAAAQIvYAAAAAhIg9AAAAACFiDwAAAECI2AMA\n",
       "AAAQIvYAAAAAhIg9AAAAACFiDwAAAECI2AMAAAAQIvYAAAAAhIg9AAAAACFiDwAAAECI2AMAAAAQ\n",
       "IvYAAAAAhIg9AAAAACFiDwAAAECI2AMAAAAQIvYAAAAAhIg9AAAAACFiDwAAAECI2AMAAAAQIvYA\n",
       "AAAAhIg9AAAAACFiDwAAAECI2AMAAAAQIvYAAAAAhIg9AAAAACFiDwAAAECI2AMAAAAQIvYAAAAA\n",
       "hIg9AAAAACFHB6+9sr2BIaenF9sTGPLXs3vbExjy5HePticw4Pafz7YnMOTi7M72BIac3H22PYEB\n",
       "z5/6naz458Xp9gSGPLjn3VPgsgcAAAAgROwBAAAACBF7AAAAAELEHgAAAIAQsQcAAAAgROwBAAAA\n",
       "CBF7AAAAAELEHgAAAIAQsQcAAAAgROwBAAAACBF7AAAAAELEHgAAAIAQsQcAAAAgROwBAAAACBF7\n",
       "AAAAAELEHgAAAIAQsQcAAAAgROwBAAAACBF7AAAAAELEHgAAAIAQsQcAAAAgROwBAAAACBF7AAAA\n",
       "AELEHgAAAIAQsQcAAAAgROwBAAAACBF7AAAAAELEHgAAAIAQsQcAAAAgROwBAAAACBF7AAAAAELE\n",
       "HgAAAIAQsQcAAAAgROwBAAAACBF7AAAAAELEHgAAAIAQsQcAAAAgROwBAAAACBF7AAAAAELEHgAA\n",
       "AIAQsQcAAAAgROwBAAAACBF7AAAAAELEHgAAAIAQsQcAAAAgROwBAAAACBF7AAAAAELEHgAAAIAQ\n",
       "sQcAAAAgROwBAAAACBF7AAAAAELEHgAAAIAQsQcAAAAgROwBAAAACBF7AAAAAELEHgAAAIAQsQcA\n",
       "AAAgROwBAAAACBF7AAAAAELEHgAAAIAQsQcAAAAgROwBAAAACBF7AAAAAELEHgAAAIAQsQcAAAAg\n",
       "ROwBAAAACBF7AAAAAELEHgAAAIAQsQcAAAAgROwBAAAACBF7AAAAAELEHgAAAIAQsQcAAAAgROwB\n",
       "AAAACBF7AAAAAELEHgAAAIAQsQcAAAAgROwBAAAACBF7AAAAAELEHgAAAIAQsQcAAAAgROwBAAAA\n",
       "CBF7AAAAAELEHgAAAIAQsQcAAAAgROwBAAAACBF7AAAAAELEHgAAAIAQsQcAAAAgROwBAAAACBF7\n",
       "AAAAAELEHgAAAIAQsQcAAAAgROwBAAAACBF7AAAAAELEHgAAAIAQsQcAAAAgROwBAAAACBF7AAAA\n",
       "AELEHgAAAIAQsQcAAAAgROwBAAAACBF7AAAAAELEHgAAAIAQsQcAAAAgROwBAAAACBF7AAAAAELE\n",
       "HgAAAIAQsQcAAAAgROwBAAAACBF7AAAAAELEHgAAAIAQsQcAAAAg5Oj88fe3NzDk5Ye/3J7AkL99\n",
       "+Gh7AkN+9ts3tycw4NefnGxPYMi7/zrbnsCQx5+/uz2BAd98cLE9gSEv33yxPYEh33j4yfYEBrjs\n",
       "AQAAAAgRewAAAABCxB4AAACAELEHAAAAIETsAQAAAAgRewAAAABCxB4AAACAELEHAAAAIETsAQAA\n",
       "AAgRewAAAABCxB4AAACAELEHAAAAIETsAQAAAAgRewAAAABCxB4AAACAELEHAAAAIETsAQAAAAgR\n",
       "ewAAAABCxB4AAACAELEHAAAAIETsAQAAAAgRewAAAABCxB4AAACAELEHAAAAIETsAQAAAAgRewAA\n",
       "AABCxB4AAACAELEHAAAAIETsAQAAAAgRewAAAABCxB4AAACAELEHAAAAIETsAQAAAAgRewAAAABC\n",
       "xB4AAACAELEHAAAAIETsAQAAAAgRewAAAABCxB4AAACAELEHAAAAIETsAQAAAAgRewAAAABCxB4A\n",
       "AACAELEHAAAAIETsAQAAAAgRewAAAABCxB4AAACAELEHAAAAIETsAQAAAAgRewAAAABCxB4AAACA\n",
       "ELEHAAAAIETsAQAAAAgRewAAAABCxB4AAACAELEHAAAAIETsAQAAAAgRewAAAABCxB4AAACAELEH\n",
       "AAAAIETsAQAAAAgRewAAAABCxB4AAACAELEHAAAAIETsAQAAAAgRewAAAABCxB4AAACAELEHAAAA\n",
       "IETsAQAAAAgRewAAAABCxB4AAACAELEHAAAAIETsAQAAAAgRewAAAABCxB4AAACAELEHAAAAIETs\n",
       "AQAAAAgRewAAAABCxB4AAACAELEHAAAAIETsAQAAAAgRewAAAABCxB4AAACAELEHAAAAIETsAQAA\n",
       "AAgRewAAAABCxB4AAACAELEHAAAAIETsAQAAAAgRewAAAABCxB4AAACAELEHAAAAIETsAQAAAAgR\n",
       "ewAAAABCxB4AAACAELEHAAAAIETsAQAAAAgRewAAAABCxB4AAACAELEHAAAAIETsAQAAAAgRewAA\n",
       "AABCxB4AAACAELEHAAAAIETsAQAAAAgRewAAAABCxB4AAACAELEHAAAAIETsAQAAAAgRewAAAABC\n",
       "xB4AAACAELEHAAAAIETsAQAAAAgRewAAAABCjk5f/d72BoYc3Ht7ewJDLq8Otycw5IPnt7YnMOAX\n",
       "Fx9tT2DI++c/3Z7AkGc3frA9gQH3n39pewJD3jj6z/YEhty892x7AgNc9gAAAACEiD0AAAAAIWIP\n",
       "AAAAQIjYAwAAABAi9gAAAACEiD0AAAAAIWIPAAAAQIjYAwAAABAi9gAAAACEiD0AAAAAIWIPAAAA\n",
       "QIjYAwAAABAi9gAAAACEiD0AAAAAIWIPAAAAQIjYAwAAABAi9gAAAACEiD0AAAAAIWIPAAAAQIjY\n",
       "AwAAABAi9gAAAACEiD0AAAAAIWIPAAAAQIjYAwAAABAi9gAAAACEiD0AAAAAIWIPAAAAQIjYAwAA\n",
       "ABAi9gAAAACEiD0AAAAAIWIPAAAAQIjYAwAAABAi9gAAAACEiD0AAAAAIWIPAAAAQIjYAwAAABAi\n",
       "9gAAAACEiD0AAAAAIWIPAAAAQIjYAwAAABAi9gAAAACEiD0AAAAAIWIPAAAAQIjYAwAAABAi9gAA\n",
       "AACEiD0AAAAAIWIPAAAAQIjYAwAAABAi9gAAAACEiD0AAAAAIWIPAAAAQIjYAwAAABAi9gAAAACE\n",
       "iD0AAAAAIWIPAAAAQIjYAwAAABAi9gAAAACEiD0AAAAAIWIPAAAAQIjYAwAAABAi9gAAAACEiD0A\n",
       "AAAAIWIPAAAAQIjYAwAAABAi9gAAAACEiD0AAAAAIWIPAAAAQIjYAwAAABAi9gAAAACEiD0AAAAA\n",
       "IWIPAAAAQIjYAwAAABAi9gAAAACEiD0AAAAAIWIPAAAAQIjYAwAAABAi9gAAAACEiD0AAAAAIWIP\n",
       "AAAAQIjYAwAAABAi9gAAAACEiD0AAAAAIWIPAAAAQIjYAwAAABAi9gAAAACEiD0AAAAAIWIPAAAA\n",
       "QIjYAwAAABAi9gAAAACEiD0AAAAAIWIPAAAAQIjYAwAAABAi9gAAAACEiD0AAAAAIWIPAAAAQIjY\n",
       "AwAAABAi9gAAAACEiD0AAAAAIWIPAAAAQIjYAwAAABAi9gAAAACEiD0AAAAAIWIPAAAAQIjYAwAA\n",
       "ABAi9gAAAACEiD0AAAAAIWIPAAAAQIjYAwAAABAi9gAAAACEiD0AAAAAIWIPAAAAQIjYAwAAABAi\n",
       "9gAAAACEiD0AAAAAIUfnf/n59gaG/Pvvd7YnMOT48Gp7AkMe3f50ewIDvvvite0JDLlz/aPtCQx5\n",
       "fHJ3ewIDHt2+2J7AEO/Xjhf+Vya47AEAAAAIEXsAAAAAQsQeAAAAgBCxBwAAACBE7AEAAAAIEXsA\n",
       "AAAAQsQeAAAAgBCxBwAAACBE7AEAAAAIEXsAAAAAQsQeAAAAgBCxBwAAACBE7AEAAAAIEXsAAAAA\n",
       "QsQeAAAAgBCxBwAAACBE7AEAAAAIEXsAAAAAQsQeAAAAgBCxBwAAACBE7AEAAAAIEXsAAAAAQsQe\n",
       "AAAAgBCxBwAAACBE7AEAAAAIEXsAAAAAQsQeAAAAgBCxBwAAACBE7AEAAAAIEXsAAAAAQsQeAAAA\n",
       "gBCxBwAAACBE7AEAAAAIEXsAAAAAQsQeAAAAgBCxBwAAACBE7AEAAAAIEXsAAAAAQsQeAAAAgBCx\n",
       "BwAAACBE7AEAAAAIEXsAAAAAQsQeAAAAgBCxBwAAACBE7AEAAAAIEXsAAAAAQsQeAAAAgBCxBwAA\n",
       "ACBE7AEAAAAIEXsAAAAAQsQeAAAAgBCxBwAAACBE7AEAAAAIEXsAAAAAQsQeAAAAgBCxBwAAACBE\n",
       "7AEAAAAIEXsAAAAAQsQeAAAAgBCxBwAAACBE7AEAAAAIEXsAAAAAQsQeAAAAgBCxBwAAACBE7AEA\n",
       "AAAIEXsAAAAAQsQeAAAAgBCxBwAAACBE7AEAAAAIEXsAAAAAQsQeAAAAgBCxBwAAACBE7AEAAAAI\n",
       "EXsAAAAAQsQeAAAAgBCxBwAAACBE7AEAAAAIEXsAAAAAQsQeAAAAgBCxBwAAACBE7AEAAAAIEXsA\n",
       "AAAAQsQeAAAAgBCxBwAAACBE7AEAAAAIEXsAAAAAQsQeAAAAgBCxBwAAACBE7AEAAAAIEXsAAAAA\n",
       "QsQeAAAAgBCxBwAAACBE7AEAAAAIEXsAAAAAQsQeAAAAgBCxBwAAACBE7AEAAAAIEXsAAAAAQsQe\n",
       "AAAAgBCxBwAAACBE7AEAAAAIEXsAAAAAQsQeAAAAgBCxBwAAACBE7AEAAAAIEXsAAAAAQsQeAAAA\n",
       "gBCxBwAAACBE7AEAAAAIEXsAAAAAQsQeAAAAgBCxBwAAACBE7AEAAAAIOTp99+3tDQx58uTL2xMY\n",
       "cv/W+fYEhnz76+9tT2DAD185257AkIuzO9sTGHJy99n2BAY8f3p3ewJD/vjhV7cnMOQfTx5sT2CA\n",
       "yx4AAACAELEHAAAAIETsAQAAAAgRewAAAABCxB4AAACAELEHAAAAIETsAQAAAAgRewAAAABCxB4A\n",
       "AACAELEHAAAAIETsAQAAAAgRewAAAABCxB4AAACAELEHAAAAIETsAQAAAAgRewAAAABCxB4AAACA\n",
       "ELEHAAAAIETsAQAAAAgRewAAAABCxB4AAACAELEHAAAAIETsAQAAAAgRewAAAABCxB4AAACAELEH\n",
       "AAAAIETsAQAAAAgRewAAAABCxB4AAACAELEHAAAAIETsAQAAAAgRewAAAABCxB4AAACAELEHAAAA\n",
       "IETsAQAAAAgRewAAAABCxB4AAACAELEHAAAAIETsAQAAAAgRewAAAABCxB4AAACAELEHAAAAIETs\n",
       "AQAAAAgRewAAAABCxB4AAACAELEHAAAAIETsAQAAAAgRewAAAABCxB4AAACAELEHAAAAIETsAQAA\n",
       "AAgRewAAAABCxB4AAACAELEHAAAAIETsAQAAAAgRewAAAABCxB4AAACAELEHAAAAIETsAQAAAAgR\n",
       "ewAAAABCxB4AAACAELEHAAAAIETsAQAAAAgRewAAAABCxB4AAACAELEHAAAAIETsAQAAAAgRewAA\n",
       "AABCxB4AAACAELEHAAAAIETsAQAAAAgRewAAAABCxB4AAACAELEHAAAAIETsAQAAAAgRewAAAABC\n",
       "xB4AAACAELEHAAAAIETsAQAAAAgRewAAAABCxB4AAACAELEHAAAAIETsAQAAAAgRewAAAABCxB4A\n",
       "AACAELEHAAAAIETsAQAAAAgRewAAAABCxB4AAACAELEHAAAAIETsAQAAAAgRewAAAABCxB4AAACA\n",
       "ELEHAAAAIETsAQAAAAgRewAAAABCxB4AAACAELEHAAAAIETsAQAAAAgRewAAAABCxB4AAACAELEH\n",
       "AAAAIETsAQAAAAgRewAAAABCxB4AAACAELEHAAAAIETsAQAAAAgRewAAAABCxB4AAACAELEHAAAA\n",
       "IETsAQAAAAgRewAAAABCxB4AAACAELEHAAAAIOTos4+ebm9gyPn517YnMOQLJ+fbExjy8I0Pticw\n",
       "4OCtr2xPYMjpjcPtCUy5vrO9gAEn7/idrPj441e3JzDk/PxkewIDXPYAAAAAhIg9AAAAACFiDwAA\n",
       "AECI2AMAAAAQIvYAAAAAhIg9AAAAACFiDwAAAECI2AMAAAAQIvYAAAAAhIg9AAAAACFiDwAAAECI\n",
       "2AMAAAAQIvYAAAAAhIg9AAAAACFiDwAAAECI2AMAAAAQIvYAAAAAhIg9AAAAACFiDwAAAECI2AMA\n",
       "AAAQIvYAAAAAhIg9AAAAACFiDwAAAECI2AMAAAAQIvYAAAAAhIg9AAAAACFiDwAAAECI2AMAAAAQ\n",
       "IvYAAAAAhIg9AAAAACFiDwAAAECI2AMAAAAQIvYAAAAAhIg9AAAAACFiDwAAAECI2AMAAAAQIvYA\n",
       "AAAAhIg9AAAAACFiDwAAAECI2AMAAAAQIvYAAAAAhIg9AAAAACFiDwAAAECI2AMAAAAQIvYAAAAA\n",
       "hIg9AAAAACFiDwAAAECI2AMAAAAQIvYAAAAAhIg9AAAAACFiDwAAAECI2AMAAAAQIvYAAAAAhIg9\n",
       "AAAAACFiDwAAAECI2AMAAAAQIvYAAAAAhIg9AAAAACFiDwAAAECI2AMAAAAQIvYAAAAAhIg9AAAA\n",
       "ACFiDwAAAECI2AMAAAAQIvYAAAAAhIg9AAAAACFiDwAAAECI2AMAAAAQIvYAAAAAhIg9AAAAACFi\n",
       "DwAAAECI2AMAAAAQIvYAAAAAhIg9AAAAACFiDwAAAECI2AMAAAAQIvYAAAAAhIg9AAAAACFiDwAA\n",
       "AECI2AMAAAAQIvYAAAAAhIg9AAAAACFiDwAAAECI2AMAAAAQIvYAAAAAhIg9AAAAACFiDwAAAECI\n",
       "2AMAAAAQIvYAAAAA/LcdO5ABAAAAGORvfY+vMBqRPQAAAAAjsgcAAABgRPYAAAAAjMgeAAAAgBHZ\n",
       "AwAAADAiewAAAABGZA8AAADAiOwBAAAAGJE9AAAAACOyBwAAAGBE9gAAAACMyB4AAACAEdkDAAAA\n",
       "MCJ7AAAAAEZkDwAAAMCI7AEAAAAYkT0AAAAAI7IHAAAAYET2AAAAAIzIHgAAAIAR2QMAAAAwInsA\n",
       "AAAARmQPAAAAwIjsAQAAABgJW5N3YIRjpzgAAAAASUVORK5CYII=\n",
       "\" transform=\"translate(584, 401)\"/>\n",
       "</g>\n",
       "<circle clip-path=\"url(#clip692)\" cx=\"641.507\" cy=\"1260.65\" r=\"10.8\" fill=\"#000000\" fill-rule=\"evenodd\" fill-opacity=\"1\" stroke=\"none\"/>\n",
       "<circle clip-path=\"url(#clip692)\" cx=\"756.17\" cy=\"1260.65\" r=\"10.8\" fill=\"#000000\" fill-rule=\"evenodd\" fill-opacity=\"1\" stroke=\"none\"/>\n",
       "<circle clip-path=\"url(#clip692)\" cx=\"870.833\" cy=\"1260.65\" r=\"10.8\" fill=\"#000000\" fill-rule=\"evenodd\" fill-opacity=\"1\" stroke=\"none\"/>\n",
       "<circle clip-path=\"url(#clip692)\" cx=\"985.497\" cy=\"1260.65\" r=\"10.8\" fill=\"#000000\" fill-rule=\"evenodd\" fill-opacity=\"1\" stroke=\"none\"/>\n",
       "<circle clip-path=\"url(#clip692)\" cx=\"1100.16\" cy=\"1260.65\" r=\"10.8\" fill=\"#000000\" fill-rule=\"evenodd\" fill-opacity=\"1\" stroke=\"none\"/>\n",
       "<circle clip-path=\"url(#clip692)\" cx=\"1214.82\" cy=\"1260.65\" r=\"10.8\" fill=\"#000000\" fill-rule=\"evenodd\" fill-opacity=\"1\" stroke=\"none\"/>\n",
       "<circle clip-path=\"url(#clip692)\" cx=\"1329.49\" cy=\"1260.65\" r=\"10.8\" fill=\"#000000\" fill-rule=\"evenodd\" fill-opacity=\"1\" stroke=\"none\"/>\n",
       "<circle clip-path=\"url(#clip692)\" cx=\"1444.15\" cy=\"1260.65\" r=\"10.8\" fill=\"#000000\" fill-rule=\"evenodd\" fill-opacity=\"1\" stroke=\"none\"/>\n",
       "<circle clip-path=\"url(#clip692)\" cx=\"641.507\" cy=\"1145.98\" r=\"10.8\" fill=\"#000000\" fill-rule=\"evenodd\" fill-opacity=\"1\" stroke=\"none\"/>\n",
       "<circle clip-path=\"url(#clip692)\" cx=\"756.17\" cy=\"1145.98\" r=\"10.8\" fill=\"#000000\" fill-rule=\"evenodd\" fill-opacity=\"1\" stroke=\"none\"/>\n",
       "<circle clip-path=\"url(#clip692)\" cx=\"870.833\" cy=\"1145.98\" r=\"10.8\" fill=\"#000000\" fill-rule=\"evenodd\" fill-opacity=\"1\" stroke=\"none\"/>\n",
       "<circle clip-path=\"url(#clip692)\" cx=\"985.497\" cy=\"1145.98\" r=\"10.8\" fill=\"#000000\" fill-rule=\"evenodd\" fill-opacity=\"1\" stroke=\"none\"/>\n",
       "<circle clip-path=\"url(#clip692)\" cx=\"1100.16\" cy=\"1145.98\" r=\"10.8\" fill=\"#000000\" fill-rule=\"evenodd\" fill-opacity=\"1\" stroke=\"none\"/>\n",
       "<circle clip-path=\"url(#clip692)\" cx=\"1214.82\" cy=\"1145.98\" r=\"10.8\" fill=\"#000000\" fill-rule=\"evenodd\" fill-opacity=\"1\" stroke=\"none\"/>\n",
       "<circle clip-path=\"url(#clip692)\" cx=\"1329.49\" cy=\"1145.98\" r=\"10.8\" fill=\"#000000\" fill-rule=\"evenodd\" fill-opacity=\"1\" stroke=\"none\"/>\n",
       "<circle clip-path=\"url(#clip692)\" cx=\"1444.15\" cy=\"1145.98\" r=\"10.8\" fill=\"#000000\" fill-rule=\"evenodd\" fill-opacity=\"1\" stroke=\"none\"/>\n",
       "<circle clip-path=\"url(#clip692)\" cx=\"641.507\" cy=\"1031.32\" r=\"10.8\" fill=\"#000000\" fill-rule=\"evenodd\" fill-opacity=\"1\" stroke=\"none\"/>\n",
       "<circle clip-path=\"url(#clip692)\" cx=\"756.17\" cy=\"1031.32\" r=\"10.8\" fill=\"#000000\" fill-rule=\"evenodd\" fill-opacity=\"1\" stroke=\"none\"/>\n",
       "<circle clip-path=\"url(#clip692)\" cx=\"870.833\" cy=\"1031.32\" r=\"10.8\" fill=\"#000000\" fill-rule=\"evenodd\" fill-opacity=\"1\" stroke=\"none\"/>\n",
       "<circle clip-path=\"url(#clip692)\" cx=\"985.497\" cy=\"1031.32\" r=\"10.8\" fill=\"#000000\" fill-rule=\"evenodd\" fill-opacity=\"1\" stroke=\"none\"/>\n",
       "<circle clip-path=\"url(#clip692)\" cx=\"1100.16\" cy=\"1031.32\" r=\"10.8\" fill=\"#000000\" fill-rule=\"evenodd\" fill-opacity=\"1\" stroke=\"none\"/>\n",
       "<circle clip-path=\"url(#clip692)\" cx=\"1214.82\" cy=\"1031.32\" r=\"10.8\" fill=\"#000000\" fill-rule=\"evenodd\" fill-opacity=\"1\" stroke=\"none\"/>\n",
       "<circle clip-path=\"url(#clip692)\" cx=\"1329.49\" cy=\"1031.32\" r=\"10.8\" fill=\"#000000\" fill-rule=\"evenodd\" fill-opacity=\"1\" stroke=\"none\"/>\n",
       "<circle clip-path=\"url(#clip692)\" cx=\"1444.15\" cy=\"1031.32\" r=\"10.8\" fill=\"#000000\" fill-rule=\"evenodd\" fill-opacity=\"1\" stroke=\"none\"/>\n",
       "<circle clip-path=\"url(#clip692)\" cx=\"641.507\" cy=\"916.655\" r=\"10.8\" fill=\"#000000\" fill-rule=\"evenodd\" fill-opacity=\"1\" stroke=\"none\"/>\n",
       "<circle clip-path=\"url(#clip692)\" cx=\"756.17\" cy=\"916.655\" r=\"10.8\" fill=\"#000000\" fill-rule=\"evenodd\" fill-opacity=\"1\" stroke=\"none\"/>\n",
       "<circle clip-path=\"url(#clip692)\" cx=\"870.833\" cy=\"916.655\" r=\"10.8\" fill=\"#000000\" fill-rule=\"evenodd\" fill-opacity=\"1\" stroke=\"none\"/>\n",
       "<circle clip-path=\"url(#clip692)\" cx=\"985.497\" cy=\"916.655\" r=\"10.8\" fill=\"#000000\" fill-rule=\"evenodd\" fill-opacity=\"1\" stroke=\"none\"/>\n",
       "<circle clip-path=\"url(#clip692)\" cx=\"1100.16\" cy=\"916.655\" r=\"10.8\" fill=\"#000000\" fill-rule=\"evenodd\" fill-opacity=\"1\" stroke=\"none\"/>\n",
       "<circle clip-path=\"url(#clip692)\" cx=\"1214.82\" cy=\"916.655\" r=\"10.8\" fill=\"#000000\" fill-rule=\"evenodd\" fill-opacity=\"1\" stroke=\"none\"/>\n",
       "<circle clip-path=\"url(#clip692)\" cx=\"1329.49\" cy=\"916.655\" r=\"10.8\" fill=\"#000000\" fill-rule=\"evenodd\" fill-opacity=\"1\" stroke=\"none\"/>\n",
       "<circle clip-path=\"url(#clip692)\" cx=\"1444.15\" cy=\"916.655\" r=\"10.8\" fill=\"#000000\" fill-rule=\"evenodd\" fill-opacity=\"1\" stroke=\"none\"/>\n",
       "<circle clip-path=\"url(#clip692)\" cx=\"641.507\" cy=\"801.992\" r=\"10.8\" fill=\"#000000\" fill-rule=\"evenodd\" fill-opacity=\"1\" stroke=\"none\"/>\n",
       "<circle clip-path=\"url(#clip692)\" cx=\"756.17\" cy=\"801.992\" r=\"10.8\" fill=\"#000000\" fill-rule=\"evenodd\" fill-opacity=\"1\" stroke=\"none\"/>\n",
       "<circle clip-path=\"url(#clip692)\" cx=\"870.833\" cy=\"801.992\" r=\"10.8\" fill=\"#000000\" fill-rule=\"evenodd\" fill-opacity=\"1\" stroke=\"none\"/>\n",
       "<circle clip-path=\"url(#clip692)\" cx=\"985.497\" cy=\"801.992\" r=\"10.8\" fill=\"#000000\" fill-rule=\"evenodd\" fill-opacity=\"1\" stroke=\"none\"/>\n",
       "<circle clip-path=\"url(#clip692)\" cx=\"1100.16\" cy=\"801.992\" r=\"10.8\" fill=\"#000000\" fill-rule=\"evenodd\" fill-opacity=\"1\" stroke=\"none\"/>\n",
       "<circle clip-path=\"url(#clip692)\" cx=\"1214.82\" cy=\"801.992\" r=\"10.8\" fill=\"#000000\" fill-rule=\"evenodd\" fill-opacity=\"1\" stroke=\"none\"/>\n",
       "<circle clip-path=\"url(#clip692)\" cx=\"1329.49\" cy=\"801.992\" r=\"10.8\" fill=\"#000000\" fill-rule=\"evenodd\" fill-opacity=\"1\" stroke=\"none\"/>\n",
       "<circle clip-path=\"url(#clip692)\" cx=\"1444.15\" cy=\"801.992\" r=\"10.8\" fill=\"#000000\" fill-rule=\"evenodd\" fill-opacity=\"1\" stroke=\"none\"/>\n",
       "<circle clip-path=\"url(#clip692)\" cx=\"641.507\" cy=\"687.328\" r=\"10.8\" fill=\"#000000\" fill-rule=\"evenodd\" fill-opacity=\"1\" stroke=\"none\"/>\n",
       "<circle clip-path=\"url(#clip692)\" cx=\"756.17\" cy=\"687.328\" r=\"10.8\" fill=\"#000000\" fill-rule=\"evenodd\" fill-opacity=\"1\" stroke=\"none\"/>\n",
       "<circle clip-path=\"url(#clip692)\" cx=\"870.833\" cy=\"687.328\" r=\"10.8\" fill=\"#000000\" fill-rule=\"evenodd\" fill-opacity=\"1\" stroke=\"none\"/>\n",
       "<circle clip-path=\"url(#clip692)\" cx=\"985.497\" cy=\"687.328\" r=\"10.8\" fill=\"#000000\" fill-rule=\"evenodd\" fill-opacity=\"1\" stroke=\"none\"/>\n",
       "<circle clip-path=\"url(#clip692)\" cx=\"1100.16\" cy=\"687.328\" r=\"10.8\" fill=\"#000000\" fill-rule=\"evenodd\" fill-opacity=\"1\" stroke=\"none\"/>\n",
       "<circle clip-path=\"url(#clip692)\" cx=\"1214.82\" cy=\"687.328\" r=\"10.8\" fill=\"#000000\" fill-rule=\"evenodd\" fill-opacity=\"1\" stroke=\"none\"/>\n",
       "<circle clip-path=\"url(#clip692)\" cx=\"1329.49\" cy=\"687.328\" r=\"10.8\" fill=\"#000000\" fill-rule=\"evenodd\" fill-opacity=\"1\" stroke=\"none\"/>\n",
       "<circle clip-path=\"url(#clip692)\" cx=\"1444.15\" cy=\"687.328\" r=\"10.8\" fill=\"#000000\" fill-rule=\"evenodd\" fill-opacity=\"1\" stroke=\"none\"/>\n",
       "<circle clip-path=\"url(#clip692)\" cx=\"641.507\" cy=\"572.665\" r=\"10.8\" fill=\"#000000\" fill-rule=\"evenodd\" fill-opacity=\"1\" stroke=\"none\"/>\n",
       "<circle clip-path=\"url(#clip692)\" cx=\"756.17\" cy=\"572.665\" r=\"10.8\" fill=\"#000000\" fill-rule=\"evenodd\" fill-opacity=\"1\" stroke=\"none\"/>\n",
       "<circle clip-path=\"url(#clip692)\" cx=\"870.833\" cy=\"572.665\" r=\"10.8\" fill=\"#000000\" fill-rule=\"evenodd\" fill-opacity=\"1\" stroke=\"none\"/>\n",
       "<circle clip-path=\"url(#clip692)\" cx=\"985.497\" cy=\"572.665\" r=\"10.8\" fill=\"#000000\" fill-rule=\"evenodd\" fill-opacity=\"1\" stroke=\"none\"/>\n",
       "<circle clip-path=\"url(#clip692)\" cx=\"1100.16\" cy=\"572.665\" r=\"10.8\" fill=\"#000000\" fill-rule=\"evenodd\" fill-opacity=\"1\" stroke=\"none\"/>\n",
       "<circle clip-path=\"url(#clip692)\" cx=\"1214.82\" cy=\"572.665\" r=\"10.8\" fill=\"#000000\" fill-rule=\"evenodd\" fill-opacity=\"1\" stroke=\"none\"/>\n",
       "<circle clip-path=\"url(#clip692)\" cx=\"1329.49\" cy=\"572.665\" r=\"10.8\" fill=\"#000000\" fill-rule=\"evenodd\" fill-opacity=\"1\" stroke=\"none\"/>\n",
       "<circle clip-path=\"url(#clip692)\" cx=\"1444.15\" cy=\"572.665\" r=\"10.8\" fill=\"#000000\" fill-rule=\"evenodd\" fill-opacity=\"1\" stroke=\"none\"/>\n",
       "<circle clip-path=\"url(#clip692)\" cx=\"641.507\" cy=\"458.002\" r=\"10.8\" fill=\"#000000\" fill-rule=\"evenodd\" fill-opacity=\"1\" stroke=\"none\"/>\n",
       "<circle clip-path=\"url(#clip692)\" cx=\"756.17\" cy=\"458.002\" r=\"10.8\" fill=\"#000000\" fill-rule=\"evenodd\" fill-opacity=\"1\" stroke=\"none\"/>\n",
       "<circle clip-path=\"url(#clip692)\" cx=\"870.833\" cy=\"458.002\" r=\"10.8\" fill=\"#000000\" fill-rule=\"evenodd\" fill-opacity=\"1\" stroke=\"none\"/>\n",
       "<circle clip-path=\"url(#clip692)\" cx=\"985.497\" cy=\"458.002\" r=\"10.8\" fill=\"#000000\" fill-rule=\"evenodd\" fill-opacity=\"1\" stroke=\"none\"/>\n",
       "<circle clip-path=\"url(#clip692)\" cx=\"1100.16\" cy=\"458.002\" r=\"10.8\" fill=\"#000000\" fill-rule=\"evenodd\" fill-opacity=\"1\" stroke=\"none\"/>\n",
       "<circle clip-path=\"url(#clip692)\" cx=\"1214.82\" cy=\"458.002\" r=\"10.8\" fill=\"#000000\" fill-rule=\"evenodd\" fill-opacity=\"1\" stroke=\"none\"/>\n",
       "<circle clip-path=\"url(#clip692)\" cx=\"1329.49\" cy=\"458.002\" r=\"10.8\" fill=\"#000000\" fill-rule=\"evenodd\" fill-opacity=\"1\" stroke=\"none\"/>\n",
       "<circle clip-path=\"url(#clip692)\" cx=\"1444.15\" cy=\"458.002\" r=\"10.8\" fill=\"#000000\" fill-rule=\"evenodd\" fill-opacity=\"1\" stroke=\"none\"/>\n",
       "<circle clip-path=\"url(#clip692)\" cx=\"641.507\" cy=\"343.339\" r=\"10.8\" fill=\"#000000\" fill-rule=\"evenodd\" fill-opacity=\"1\" stroke=\"none\"/>\n",
       "<circle clip-path=\"url(#clip692)\" cx=\"756.17\" cy=\"343.339\" r=\"10.8\" fill=\"#000000\" fill-rule=\"evenodd\" fill-opacity=\"1\" stroke=\"none\"/>\n",
       "<circle clip-path=\"url(#clip692)\" cx=\"870.833\" cy=\"343.339\" r=\"10.8\" fill=\"#000000\" fill-rule=\"evenodd\" fill-opacity=\"1\" stroke=\"none\"/>\n",
       "<circle clip-path=\"url(#clip692)\" cx=\"985.497\" cy=\"343.339\" r=\"10.8\" fill=\"#000000\" fill-rule=\"evenodd\" fill-opacity=\"1\" stroke=\"none\"/>\n",
       "<circle clip-path=\"url(#clip692)\" cx=\"1100.16\" cy=\"343.339\" r=\"10.8\" fill=\"#000000\" fill-rule=\"evenodd\" fill-opacity=\"1\" stroke=\"none\"/>\n",
       "<circle clip-path=\"url(#clip692)\" cx=\"1214.82\" cy=\"343.339\" r=\"10.8\" fill=\"#000000\" fill-rule=\"evenodd\" fill-opacity=\"1\" stroke=\"none\"/>\n",
       "<circle clip-path=\"url(#clip692)\" cx=\"1329.49\" cy=\"343.339\" r=\"10.8\" fill=\"#000000\" fill-rule=\"evenodd\" fill-opacity=\"1\" stroke=\"none\"/>\n",
       "<circle clip-path=\"url(#clip692)\" cx=\"1444.15\" cy=\"343.339\" r=\"10.8\" fill=\"#000000\" fill-rule=\"evenodd\" fill-opacity=\"1\" stroke=\"none\"/>\n",
       "<circle clip-path=\"url(#clip692)\" cx=\"641.507\" cy=\"228.675\" r=\"10.8\" fill=\"#000000\" fill-rule=\"evenodd\" fill-opacity=\"1\" stroke=\"none\"/>\n",
       "<circle clip-path=\"url(#clip692)\" cx=\"756.17\" cy=\"228.675\" r=\"10.8\" fill=\"#000000\" fill-rule=\"evenodd\" fill-opacity=\"1\" stroke=\"none\"/>\n",
       "<circle clip-path=\"url(#clip692)\" cx=\"870.833\" cy=\"228.675\" r=\"10.8\" fill=\"#000000\" fill-rule=\"evenodd\" fill-opacity=\"1\" stroke=\"none\"/>\n",
       "<circle clip-path=\"url(#clip692)\" cx=\"985.497\" cy=\"228.675\" r=\"10.8\" fill=\"#000000\" fill-rule=\"evenodd\" fill-opacity=\"1\" stroke=\"none\"/>\n",
       "<circle clip-path=\"url(#clip692)\" cx=\"1100.16\" cy=\"228.675\" r=\"10.8\" fill=\"#000000\" fill-rule=\"evenodd\" fill-opacity=\"1\" stroke=\"none\"/>\n",
       "<circle clip-path=\"url(#clip692)\" cx=\"1214.82\" cy=\"228.675\" r=\"10.8\" fill=\"#000000\" fill-rule=\"evenodd\" fill-opacity=\"1\" stroke=\"none\"/>\n",
       "<circle clip-path=\"url(#clip692)\" cx=\"1329.49\" cy=\"228.675\" r=\"10.8\" fill=\"#000000\" fill-rule=\"evenodd\" fill-opacity=\"1\" stroke=\"none\"/>\n",
       "<circle clip-path=\"url(#clip692)\" cx=\"1444.15\" cy=\"228.675\" r=\"10.8\" fill=\"#000000\" fill-rule=\"evenodd\" fill-opacity=\"1\" stroke=\"none\"/>\n",
       "<path clip-path=\"url(#clip692)\" d=\"M985.497 458.002 L988.384 458.02 L991.271 458.075 L994.157 458.165 L997.042 458.293 L999.925 458.456 L1002.81 458.656 L1005.68 458.892 L1008.56 459.164 L1011.43 459.473 L1014.3 459.817 L1017.16 460.198 L1020.02 460.615 L1022.87 461.067 L1025.71 461.556 L1028.55 462.08 L1031.39 462.64 L1034.21 463.236 L1037.03 463.867 L1039.84 464.533 L1042.64 465.235 L1045.43 465.972 L1048.21 466.745 L1050.99 467.552 L1053.75 468.394 L1056.5 469.271 L1059.24 470.182 L1061.97 471.128 L1064.68 472.108 L1067.39 473.122 L1070.08 474.17 L1072.76 475.252 L1075.42 476.367 L1078.07 477.516 L1080.7 478.698 L1083.32 479.914 L1085.93 481.162 L1088.51 482.443 L1091.09 483.756 L1093.64 485.102 L1096.18 486.479 L1098.7 487.889 L1101.2 489.33 L1103.68 490.803 L1106.15 492.306 L1108.6 493.841 L1111.02 495.406 L1113.43 497.002 L1115.81 498.628 L1118.18 500.284 L1120.53 501.969 L1122.85 503.684 L1125.15 505.428 L1127.43 507.201 L1129.69 509.002 L1131.92 510.832 L1134.13 512.69 L1136.32 514.575 L1138.48 516.488 L1140.62 518.427 L1142.73 520.394 L1144.82 522.387 L1146.89 524.406 L1148.93 526.451 L1150.94 528.522 L1152.93 530.617 L1154.89 532.738 L1156.82 534.883 L1158.72 537.052 L1160.6 539.245 L1162.45 541.462 L1164.28 543.702 L1166.07 545.964 L1167.84 548.249 L1169.57 550.556 L1171.28 552.884 L1172.96 555.234 L1174.61 557.605 L1176.22 559.996 L1177.81 562.408 L1179.37 564.839 L1180.9 567.29 L1182.39 569.76 L1183.86 572.249 L1185.29 574.755 L1186.69 577.28 L1188.06 579.822 L1189.4 582.381 L1190.71 584.957 L1191.98 587.549 L1193.22 590.156 L1194.43 592.78 L1195.6 595.418 L1196.74 598.071 L1197.85 600.737 L1198.92 603.418 L1199.96 606.112 L1200.97 608.819 L1201.94 611.538 L1202.87 614.269 L1203.78 617.012 L1204.65 619.766 L1205.48 622.531 L1206.28 625.306 L1207.04 628.091 L1207.77 630.885 L1208.46 633.688 L1209.12 636.5 L1209.74 639.319 L1210.33 642.147 L1210.88 644.981 L1211.39 647.822 L1211.87 650.67 L1212.32 653.523 L1212.73 656.382 L1213.1 659.245 L1213.43 662.113 L1213.73 664.985 L1214 667.861 L1214.22 670.739 L1214.41 673.621 L1214.57 676.504 L1214.69 679.389 L1214.77 682.276 L1214.81 685.163 L1214.82 688.05 L1214.79 690.938 L1214.73 693.825 L1214.63 696.711 L1214.5 699.595 L1214.32 702.477 L1214.11 705.357 L1213.87 708.234 L1213.59 711.108 L1213.27 713.978 L1212.92 716.844 L1212.53 719.705 L1212.1 722.561 L1211.64 725.412 L1211.14 728.256 L1210.61 731.094 L1210.04 733.925 L1209.44 736.748 L1208.8 739.564 L1208.12 742.372 L1207.41 745.17 L1206.66 747.96 L1205.88 750.74 L1205.07 753.51 L1204.22 756.269 L1203.33 759.018 L1202.41 761.755 L1201.46 764.48 L1200.47 767.193 L1199.44 769.894 L1198.39 772.581 L1197.3 775.255 L1196.17 777.915 L1195.02 780.56 L1193.83 783.191 L1192.6 785.806 L1191.35 788.406 L1190.06 790.99 L1188.74 793.558 L1187.38 796.108 L1186 798.642 L1184.58 801.157 L1183.13 803.655 L1181.65 806.134 L1180.14 808.595 L1178.6 811.036 L1177.02 813.457 L1175.42 815.859 L1173.79 818.24 L1172.12 820.6 L1170.43 822.94 L1168.71 825.257 L1166.96 827.553 L1165.18 829.827 L1163.37 832.078 L1161.53 834.306 L1159.67 836.511 L1157.77 838.692 L1155.86 840.849 L1153.91 842.982 L1151.94 845.091 L1149.94 847.174 L1147.91 849.231 L1145.86 851.264 L1143.78 853.27 L1141.68 855.25 L1139.55 857.203 L1137.4 859.129 L1135.23 861.028 L1133.03 862.9 L1130.81 864.743 L1128.56 866.559 L1126.29 868.346 L1124 870.105 L1121.69 871.834 L1119.36 873.534 L1117 875.205 L1114.62 876.846 L1112.23 878.457 L1109.81 880.037 L1107.37 881.587 L1104.92 883.106 L1102.44 884.595 L1099.95 886.051 L1097.44 887.477 L1094.91 888.87 L1092.37 890.232 L1089.8 891.562 L1087.22 892.859 L1084.63 894.123 L1082.01 895.355 L1079.39 896.554 L1076.75 897.719 L1074.09 898.852 L1071.42 899.95 L1068.73 901.015 L1066.04 902.047 L1063.33 903.044 L1060.61 904.007 L1057.87 904.935 L1055.13 905.829 L1052.37 906.689 L1049.6 907.513 L1046.82 908.303 L1044.04 909.058 L1041.24 909.777 L1038.44 910.461 L1035.62 911.11 L1032.8 911.724 L1029.97 912.301 L1027.13 912.843 L1024.29 913.35 L1021.44 913.82 L1018.59 914.255 L1015.73 914.654 L1012.86 915.016 L1009.99 915.343 L1007.12 915.633 L1004.25 915.887 L1001.37 916.105 L998.484 916.287 L995.6 916.432 L992.714 916.542 L989.828 916.614 L986.94 916.651 L984.053 916.651 L981.166 916.614 L978.279 916.542 L975.393 916.432 L972.51 916.287 L969.628 916.105 L966.748 915.887 L963.872 915.633 L960.999 915.343 L958.13 915.016 L955.265 914.654 L952.405 914.255 L949.551 913.82 L946.702 913.35 L943.859 912.843 L941.023 912.301 L938.194 911.724 L935.372 911.11 L932.558 910.461 L929.753 909.777 L926.957 909.058 L924.169 908.303 L921.392 907.513 L918.625 906.689 L915.868 905.829 L913.122 904.935 L910.388 904.007 L907.666 903.044 L904.956 902.047 L902.259 901.015 L899.575 899.95 L896.904 898.852 L894.248 897.719 L891.606 896.554 L888.979 895.355 L886.367 894.123 L883.771 892.859 L881.192 891.562 L878.628 890.232 L876.082 888.87 L873.553 887.477 L871.042 886.051 L868.549 884.595 L866.074 883.106 L863.619 881.587 L861.182 880.037 L858.766 878.457 L856.369 876.846 L853.993 875.205 L851.638 873.534 L849.304 871.834 L846.992 870.105 L844.701 868.346 L842.433 866.559 L840.188 864.743 L837.966 862.9 L835.767 861.028 L833.591 859.129 L831.44 857.203 L829.313 855.25 L827.212 853.27 L825.135 851.264 L823.083 849.231 L821.058 847.174 L819.058 845.091 L817.085 842.982 L815.138 840.849 L813.219 838.692 L811.326 836.511 L809.462 834.306 L807.625 832.078 L805.817 829.827 L804.037 827.553 L802.286 825.257 L800.563 822.94 L798.871 820.6 L797.207 818.24 L795.574 815.859 L793.971 813.457 L792.398 811.036 L790.855 808.595 L789.344 806.134 L787.863 803.655 L786.414 801.157 L784.997 798.642 L783.611 796.108 L782.258 793.558 L780.936 790.99 L779.647 788.406 L778.391 785.806 L777.167 783.191 L775.977 780.56 L774.82 777.915 L773.696 775.255 L772.605 772.581 L771.549 769.894 L770.526 767.193 L769.538 764.48 L768.583 761.755 L767.663 759.018 L766.778 756.269 L765.927 753.51 L765.111 750.74 L764.33 747.96 L763.584 745.17 L762.874 742.372 L762.198 739.564 L761.558 736.748 L760.954 733.925 L760.385 731.094 L759.852 728.256 L759.354 725.412 L758.893 722.561 L758.467 719.705 L758.077 716.844 L757.724 713.978 L757.406 711.108 L757.125 708.234 L756.88 705.357 L756.671 702.477 L756.498 699.595 L756.362 696.711 L756.262 693.825 L756.198 690.938 L756.171 688.05 L756.18 685.163 L756.226 682.276 L756.308 679.389 L756.426 676.504 L756.58 673.621 L756.771 670.739 L756.998 667.861 L757.261 664.985 L757.561 662.113 L757.896 659.245 L758.268 656.382 L758.675 653.523 L759.119 650.67 L759.599 647.822 L760.114 644.981 L760.665 642.147 L761.252 639.319 L761.874 636.5 L762.532 633.688 L763.225 630.885 L763.953 628.091 L764.716 625.306 L765.515 622.531 L766.348 619.766 L767.216 617.012 L768.119 614.269 L769.056 611.538 L770.028 608.819 L771.033 606.112 L772.073 603.418 L773.146 600.737 L774.253 598.071 L775.394 595.418 L776.568 592.78 L777.775 590.156 L779.015 587.549 L780.288 584.957 L781.593 582.381 L782.93 579.822 L784.3 577.28 L785.702 574.755 L787.135 572.249 L788.6 569.76 L790.096 567.29 L791.623 564.839 L793.18 562.408 L794.768 559.996 L796.387 557.605 L798.035 555.234 L799.713 552.884 L801.421 550.556 L803.158 548.249 L804.923 545.964 L806.717 543.702 L808.54 541.462 L810.391 539.245 L812.269 537.052 L814.175 534.883 L816.108 532.738 L818.068 530.617 L820.054 528.522 L822.067 526.451 L824.106 524.406 L826.17 522.387 L828.259 520.394 L830.374 518.427 L832.513 516.488 L834.676 514.575 L836.863 512.69 L839.074 510.832 L841.308 509.002 L843.564 507.201 L845.844 505.428 L848.145 503.684 L850.468 501.969 L852.813 500.284 L855.179 498.628 L857.565 497.002 L859.971 495.406 L862.398 493.841 L864.844 492.306 L867.309 490.803 L869.793 489.33 L872.295 487.889 L874.815 486.479 L877.353 485.102 L879.908 483.756 L882.48 482.443 L885.067 481.162 L887.671 479.914 L890.291 478.698 L892.925 477.516 L895.574 476.367 L898.238 475.252 L900.915 474.17 L903.605 473.122 L906.309 472.108 L909.025 471.128 L911.754 470.182 L914.494 469.271 L917.245 468.394 L920.007 467.552 L922.779 466.745 L925.562 465.972 L928.354 465.235 L931.155 464.533 L933.964 463.867 L936.782 463.236 L939.607 462.64 L942.44 462.08 L945.28 461.556 L948.126 461.067 L950.977 460.615 L953.835 460.198 L956.697 459.817 L959.564 459.473 L962.435 459.164 L965.31 458.892 L968.188 458.656 L971.068 458.456 L973.951 458.293 L976.836 458.165 L979.722 458.075 L982.609 458.02 L985.497 458.002 L985.497 458.002  Z\" fill=\"#ffffff\" fill-rule=\"evenodd\" fill-opacity=\"0.2\"/>\n",
       "<polyline clip-path=\"url(#clip692)\" style=\"stroke:#ffffff; stroke-linecap:round; stroke-linejoin:round; stroke-width:2; stroke-opacity:1; fill:none\" points=\"985.497,458.002 988.384,458.02 991.271,458.075 994.157,458.165 997.042,458.293 999.925,458.456 1002.81,458.656 1005.68,458.892 1008.56,459.164 1011.43,459.473 1014.3,459.817 1017.16,460.198 1020.02,460.615 1022.87,461.067 1025.71,461.556 1028.55,462.08 1031.39,462.64 1034.21,463.236 1037.03,463.867 1039.84,464.533 1042.64,465.235 1045.43,465.972 1048.21,466.745 1050.99,467.552 1053.75,468.394 1056.5,469.271 1059.24,470.182 1061.97,471.128 1064.68,472.108 1067.39,473.122 1070.08,474.17 1072.76,475.252 1075.42,476.367 1078.07,477.516 1080.7,478.698 1083.32,479.914 1085.93,481.162 1088.51,482.443 1091.09,483.756 1093.64,485.102 1096.18,486.479 1098.7,487.889 1101.2,489.33 1103.68,490.803 1106.15,492.306 1108.6,493.841 1111.02,495.406 1113.43,497.002 1115.81,498.628 1118.18,500.284 1120.53,501.969 1122.85,503.684 1125.15,505.428 1127.43,507.201 1129.69,509.002 1131.92,510.832 1134.13,512.69 1136.32,514.575 1138.48,516.488 1140.62,518.427 1142.73,520.394 1144.82,522.387 1146.89,524.406 1148.93,526.451 1150.94,528.522 1152.93,530.617 1154.89,532.738 1156.82,534.883 1158.72,537.052 1160.6,539.245 1162.45,541.462 1164.28,543.702 1166.07,545.964 1167.84,548.249 1169.57,550.556 1171.28,552.884 1172.96,555.234 1174.61,557.605 1176.22,559.996 1177.81,562.408 1179.37,564.839 1180.9,567.29 1182.39,569.76 1183.86,572.249 1185.29,574.755 1186.69,577.28 1188.06,579.822 1189.4,582.381 1190.71,584.957 1191.98,587.549 1193.22,590.156 1194.43,592.78 1195.6,595.418 1196.74,598.071 1197.85,600.737 1198.92,603.418 1199.96,606.112 1200.97,608.819 1201.94,611.538 1202.87,614.269 1203.78,617.012 1204.65,619.766 1205.48,622.531 1206.28,625.306 1207.04,628.091 1207.77,630.885 1208.46,633.688 1209.12,636.5 1209.74,639.319 1210.33,642.147 1210.88,644.981 1211.39,647.822 1211.87,650.67 1212.32,653.523 1212.73,656.382 1213.1,659.245 1213.43,662.113 1213.73,664.985 1214,667.861 1214.22,670.739 1214.41,673.621 1214.57,676.504 1214.69,679.389 1214.77,682.276 1214.81,685.163 1214.82,688.05 1214.79,690.938 1214.73,693.825 1214.63,696.711 1214.5,699.595 1214.32,702.477 1214.11,705.357 1213.87,708.234 1213.59,711.108 1213.27,713.978 1212.92,716.844 1212.53,719.705 1212.1,722.561 1211.64,725.412 1211.14,728.256 1210.61,731.094 1210.04,733.925 1209.44,736.748 1208.8,739.564 1208.12,742.372 1207.41,745.17 1206.66,747.96 1205.88,750.74 1205.07,753.51 1204.22,756.269 1203.33,759.018 1202.41,761.755 1201.46,764.48 1200.47,767.193 1199.44,769.894 1198.39,772.581 1197.3,775.255 1196.17,777.915 1195.02,780.56 1193.83,783.191 1192.6,785.806 1191.35,788.406 1190.06,790.99 1188.74,793.558 1187.38,796.108 1186,798.642 1184.58,801.157 1183.13,803.655 1181.65,806.134 1180.14,808.595 1178.6,811.036 1177.02,813.457 1175.42,815.859 1173.79,818.24 1172.12,820.6 1170.43,822.94 1168.71,825.257 1166.96,827.553 1165.18,829.827 1163.37,832.078 1161.53,834.306 1159.67,836.511 1157.77,838.692 1155.86,840.849 1153.91,842.982 1151.94,845.091 1149.94,847.174 1147.91,849.231 1145.86,851.264 1143.78,853.27 1141.68,855.25 1139.55,857.203 1137.4,859.129 1135.23,861.028 1133.03,862.9 1130.81,864.743 1128.56,866.559 1126.29,868.346 1124,870.105 1121.69,871.834 1119.36,873.534 1117,875.205 1114.62,876.846 1112.23,878.457 1109.81,880.037 1107.37,881.587 1104.92,883.106 1102.44,884.595 1099.95,886.051 1097.44,887.477 1094.91,888.87 1092.37,890.232 1089.8,891.562 1087.22,892.859 1084.63,894.123 1082.01,895.355 1079.39,896.554 1076.75,897.719 1074.09,898.852 1071.42,899.95 1068.73,901.015 1066.04,902.047 1063.33,903.044 1060.61,904.007 1057.87,904.935 1055.13,905.829 1052.37,906.689 1049.6,907.513 1046.82,908.303 1044.04,909.058 1041.24,909.777 1038.44,910.461 1035.62,911.11 1032.8,911.724 1029.97,912.301 1027.13,912.843 1024.29,913.35 1021.44,913.82 1018.59,914.255 1015.73,914.654 1012.86,915.016 1009.99,915.343 1007.12,915.633 1004.25,915.887 1001.37,916.105 998.484,916.287 995.6,916.432 992.714,916.542 989.828,916.614 986.94,916.651 984.053,916.651 981.166,916.614 978.279,916.542 975.393,916.432 972.51,916.287 969.628,916.105 966.748,915.887 963.872,915.633 960.999,915.343 958.13,915.016 955.265,914.654 952.405,914.255 949.551,913.82 946.702,913.35 943.859,912.843 941.023,912.301 938.194,911.724 935.372,911.11 932.558,910.461 929.753,909.777 926.957,909.058 924.169,908.303 921.392,907.513 918.625,906.689 915.868,905.829 913.122,904.935 910.388,904.007 907.666,903.044 904.956,902.047 902.259,901.015 899.575,899.95 896.904,898.852 894.248,897.719 891.606,896.554 888.979,895.355 886.367,894.123 883.771,892.859 881.192,891.562 878.628,890.232 876.082,888.87 873.553,887.477 871.042,886.051 868.549,884.595 866.074,883.106 863.619,881.587 861.182,880.037 858.766,878.457 856.369,876.846 853.993,875.205 851.638,873.534 849.304,871.834 846.992,870.105 844.701,868.346 842.433,866.559 840.188,864.743 837.966,862.9 835.767,861.028 833.591,859.129 831.44,857.203 829.313,855.25 827.212,853.27 825.135,851.264 823.083,849.231 821.058,847.174 819.058,845.091 817.085,842.982 815.138,840.849 813.219,838.692 811.326,836.511 809.462,834.306 807.625,832.078 805.817,829.827 804.037,827.553 802.286,825.257 800.563,822.94 798.871,820.6 797.207,818.24 795.574,815.859 793.971,813.457 792.398,811.036 790.855,808.595 789.344,806.134 787.863,803.655 786.414,801.157 784.997,798.642 783.611,796.108 782.258,793.558 780.936,790.99 779.647,788.406 778.391,785.806 777.167,783.191 775.977,780.56 774.82,777.915 773.696,775.255 772.605,772.581 771.549,769.894 770.526,767.193 769.538,764.48 768.583,761.755 767.663,759.018 766.778,756.269 765.927,753.51 765.111,750.74 764.33,747.96 763.584,745.17 762.874,742.372 762.198,739.564 761.558,736.748 760.954,733.925 760.385,731.094 759.852,728.256 759.354,725.412 758.893,722.561 758.467,719.705 758.077,716.844 757.724,713.978 757.406,711.108 757.125,708.234 756.88,705.357 756.671,702.477 756.498,699.595 756.362,696.711 756.262,693.825 756.198,690.938 756.171,688.05 756.18,685.163 756.226,682.276 756.308,679.389 756.426,676.504 756.58,673.621 756.771,670.739 756.998,667.861 757.261,664.985 757.561,662.113 757.896,659.245 758.268,656.382 758.675,653.523 759.119,650.67 759.599,647.822 760.114,644.981 760.665,642.147 761.252,639.319 761.874,636.5 762.532,633.688 763.225,630.885 763.953,628.091 764.716,625.306 765.515,622.531 766.348,619.766 767.216,617.012 768.119,614.269 769.056,611.538 770.028,608.819 771.033,606.112 772.073,603.418 773.146,600.737 774.253,598.071 775.394,595.418 776.568,592.78 777.775,590.156 779.015,587.549 780.288,584.957 781.593,582.381 782.93,579.822 784.3,577.28 785.702,574.755 787.135,572.249 788.6,569.76 790.096,567.29 791.623,564.839 793.18,562.408 794.768,559.996 796.387,557.605 798.035,555.234 799.713,552.884 801.421,550.556 803.158,548.249 804.923,545.964 806.717,543.702 808.54,541.462 810.391,539.245 812.269,537.052 814.175,534.883 816.108,532.738 818.068,530.617 820.054,528.522 822.067,526.451 824.106,524.406 826.17,522.387 828.259,520.394 830.374,518.427 832.513,516.488 834.676,514.575 836.863,512.69 839.074,510.832 841.308,509.002 843.564,507.201 845.844,505.428 848.145,503.684 850.468,501.969 852.813,500.284 855.179,498.628 857.565,497.002 859.971,495.406 862.398,493.841 864.844,492.306 867.309,490.803 869.793,489.33 872.295,487.889 874.815,486.479 877.353,485.102 879.908,483.756 882.48,482.443 885.067,481.162 887.671,479.914 890.291,478.698 892.925,477.516 895.574,476.367 898.238,475.252 900.915,474.17 903.605,473.122 906.309,472.108 909.025,471.128 911.754,470.182 914.494,469.271 917.245,468.394 920.007,467.552 922.779,466.745 925.562,465.972 928.354,465.235 931.155,464.533 933.964,463.867 936.782,463.236 939.607,462.64 942.44,462.08 945.28,461.556 948.126,461.067 950.977,460.615 953.835,460.198 956.697,459.817 959.564,459.473 962.435,459.164 965.31,458.892 968.188,458.656 971.068,458.456 973.951,458.293 976.836,458.165 979.722,458.075 982.609,458.02 985.497,458.002 985.497,458.002 \"/>\n",
       "<defs>\n",
       "  <clipPath id=\"clip693\">\n",
       "    <rect x=\"2160\" y=\"195\" width=\"73\" height=\"1156\"/>\n",
       "  </clipPath>\n",
       "</defs>\n",
       "<g clip-path=\"url(#clip693)\">\n",
       "<image width=\"72\" height=\"1155\" xlink:href=\"data:image/png;base64,\n",
       "iVBORw0KGgoAAAANSUhEUgAAAEgAAASDCAYAAADajXkjAAAKOUlEQVR4nO3dwY3sRhAFQY5Q/lsh\n",
       "L6XfLQtUeSQPERYMEg9Ek5zZ/f17/r4P/+uvtz/A1wkUBAoChTn337c/w6dZUBAoCBQECnPvn7c/\n",
       "w6dZUBAoCBQcFIMFBYGCQEGgMNdFemVBQaAgUJh7XIM2FhQECgIFgYKDYrCgIFAQKLgGBQsKAgWB\n",
       "gkDB3XywoCBQECjM46C4sqAgUBAoCBTczQcLCgIFgcI8blZXFhQECgIFgcI855+3P8OnWVAQKAgU\n",
       "PFEMFhQECgIFgYK7+WBBQaAgUHANChYUBAoCBYGCu/lgQUGgIFCYn4PiyoKCQEGgIFCY5/g7ihsL\n",
       "CgIFgYKDYrCgIFAQKAgUHBSDBQWBgkDBq+dgQUGgIFAQKMzPQXFlQUGgIFDw9ZdgQUGgIFAQKDgo\n",
       "BgsKAgWBgrcawYKCQEGgIFBwUAwWFAQKAgUHxWBBQaAgUBAoOCgGCwoCBYHCPOe8/Rk+zYKCQEGg\n",
       "IFBwUAwWFAQKAgVPFIMFBYGCQEGg4CIdLCgIFAQK8/NEcWVBQaAgUBAoOCgGCwoCBYGCV8/BgoJA\n",
       "QaAgUHA3HywoCBQECm5WgwUFgYJAQaDgbj5YUBAoCBRcg4IFBYGCQEGg4McswYKCQEGg4KAYLCgI\n",
       "FAQKAgUX6WBBQaAgUBAouEgHCwoCBYGCa1CwoCBQECgIFOa5LtIbCwoCBYGCg2KwoCBQECgIFFyk\n",
       "gwUFgYJAwTUoWFAQKAgUBArznPv2Z/g0CwoCBYGCg2KwoCBQECgIFBwUgwUFgYJAwUExWFAQKAgU\n",
       "BAoOisGCgkBBoDCPc+LKgoJAQaAgUJjnOihuLCgIFAQKDorBgoJAQaAgUHCRDhYUBAoChfGHF3YW\n",
       "FAQKAgWBgoNisKAgUBAouAYFCwoCBYGCQGGe83v7M3yaBQWBgkBh7nUN2lhQECgIFAQK7uaDBQWB\n",
       "gkDBzWqwoCBQECgIFOYejTbqBIGCQMFBMVhQECgIFAQK83jts7KgIFAQKMx1UFxZUBAoCBQECvN4\n",
       "orhSJwgUBAoOisGCgkBBoCBQ8EQxWFAQKAgUfP0lqBMECgIFgYLvBwULCgIFgYInisGCgkBBoCBQ\n",
       "mHs12qgTBAoCBTerwYKCQEGgIFBwNx8sKAgUBArzuFldqRMECgIFgYKDYrCgIFAQKLgGBQsKAgWB\n",
       "gkDBj1mCBQWBgkDBj1mCOkGgIFAQKPj3WcGCgkBBoOCJYrCgIFAQKAgU/B3FoE4QKAgUBAru5oMF\n",
       "BYGCQMHdfLCgIFAQKAgUHBSDBQWBgkDB94OCOkGgIFAQKDgoBgsKAgWBgieKwYKCQEGgIFBwUAwW\n",
       "FAQKAgV/7DZYUBAoCBQECv4rQlAnCBQECm5WgwUFgYJAQaDgtU+woCBQECg4KAYLCgIFgYJAYY6L\n",
       "9MqCgkBBoODHLEGdIFAQKAgU3M0HCwoCBYGCa1CwoCBQECgIFLx6DhYUBAoCBQfFYEFBoCBQECi4\n",
       "SAcLCgIFgYIf1AV1gkBBoCBQmOOJ4sqCgkBBoOBmNVhQECgIFAQKLtLBgoJAQaDgGhQsKAgUBAoC\n",
       "Bb96DhYUBAoCBQfFYEFBoCBQECi4SAcLCgIFgYLvKAZ1gkBBoCBQ8B3FYEFBoCBQcLMaLCgIFAQK\n",
       "AgUX6WBBQaAgUPD1l2BBQaAgUBAoOCgGCwoCBYHC3Mc1aGNBQaAgUBAouJsPFhQECgIFN6vBgoJA\n",
       "QaAgUHBQDBYUBAoCBQfFYEFBoCBQECg4KAYLCgIFgYKDYrCgIFAQKAgUXKSDBQWBgkBhju8oriwo\n",
       "CBQECgIFB8VgQUGgIFAQKHjtEywoCBQECnPv2x/h2ywoCBQECgIFB8VgQUGgIFDwpymCBQWBgkBB\n",
       "oOCgGCwoCBQECl49BwsKAgWBgkDBlziDBQWBgkDBq+dgQUGgIFAQKHiiGCwoCBQECp4oBgsKAgWB\n",
       "gkDBE8VgQUGgIFBwsxosKAgUBAoCBa99ggUFgYJAwc1qsKAgUBAoCBS89gkWFAQKAoU5b3+Cj7Og\n",
       "IFAQKAgUHBSDBQWBgkDBq+dgQUGgIFAQKLibDxYUBAoCBTerwYKCQEGgIFBwUAwWFAQKAgUHxWBB\n",
       "QaAgUBAoeO0TLCgIFAQK4/d0OwsKAgWBgkDBQTFYUBAoCBS81QgWFAQKAgWBgtc+wYKCQEGg4KAY\n",
       "LCgIFAQKAgUHxWBBQaAgUJjj3fPKgoJAQaAgUHA3HywoCBQECm5WgwUFgYJAQaDgoBgsKAgUBAr+\n",
       "O1SwoCBQECgIFPz7rGBBQaAgUPDqOVhQECgIFAQK/jRFsKAgUBAo+MsLwYKCQEGgIFDw2idYUBAo\n",
       "CBR8/SVYUBAoCBQECr5IHiwoCBQECg6KwYKCQEGgIFDw/aBgQUGgIFAQKPh+ULCgIFAQKDgoBgsK\n",
       "AgWBgkDB94OCBQWBgkDBr56DBQWBgkBBoOBuPlhQECgIFLzVCBYUBAoCBYGCg2KwoCBQECg4KAYL\n",
       "CgIFgYJAwUExWFAQKAgUXIOCBQWBgkBBoOBuPlhQECgIFBwUgwUFgYJAQaDgoBgsKAgUBAoOisGC\n",
       "gkBBoCBQ8KvnYEFBoCBQ8MdugwUFgYJAQaDgbj5YUBAoCBTmPi5CGwsKAgWBgkDBQTFYUBAoCBS8\n",
       "1QgWFAQKAgWBgtc+wYKCQEGg4GY1WFAQKAgUBApe+wQLCgIFgYKDYrCgIFAQKAgU/Oo5WFAQKAgU\n",
       "5nj3vLKgIFAQKAgUvHoOFhQECgKFuQ6KKwsKAgWBgkDBQTFYUBAoCBQ8UQwWFAQKAgWBglfPwYKC\n",
       "QEGgMMf3pFcWFAQKAgWBgrv5YEFBoCBQ8IO6YEFBoCBQECh49RwsKAgUBAqeKAYLCgIFgYJAwd18\n",
       "sKAgUBAozHncrm4sKAgUBAoCBXfzwYKCQEGg4BoULCgIFAQKAgVPFIMFBYGCQMETxWBBQaAgUBAo\n",
       "zPk5KG4sKAgUBAoCBSfpYEFBoCBQmOsatLKgIFAQKAgUHBSDBQWBgkBhzs81aGNBQaAgUBAoOCgG\n",
       "CwoCBYGCJ4rBgoJAQaAgUHBQDBYUBAoCBdegYEFBoCBQECh47RMsKAgUBApznz9vf4ZPs6AgUBAo\n",
       "CBTczQcLCgIFgYJXz8GCgkBBoCBQmHPdzW8sKAgUBAoOisGCgkBBoCBQmOO1z8qCgkBBoOCgGCwo\n",
       "CBQECgIFB8VgQUGgIFCYex0UNxYUBAoCBYGCu/lgQUGgIFDw9ZdgQUGgIFAQKDgoBgsKAgWBwlwH\n",
       "xZUFBYGCQEGg4KAYLCgIFAQKc7x6XllQECgIFAQK/oZZsKAgUBAo+I5isKAgUBAoCBQ8UQwWFAQK\n",
       "AgUHxWBBQaAgUBAouEgHCwoCBYGCtxrBgoJAQaAgUHBQDBYUBAoChXm81VhZUBAoCBQECg6KwYKC\n",
       "QEGg4OsvwYKCQEGgIFCYx0FxZUFBoCBQ8Oo5WFAQKAgUBApe+wQLCgIFgYKb1WBBQaAgUBAozH3u\n",
       "25/h0ywoCBQECm5WgwUFgYJAQaAwj4PiyoKCQEGg8B9Q/+wVep1mhAAAAABJRU5ErkJggg==\n",
       "\" transform=\"translate(2161, 196)\"/>\n",
       "</g>\n",
       "<path clip-path=\"url(#clip690)\" d=\"M2285.18 1143.78 Q2280.21 1143.78 2277.7 1148.68 Q2275.22 1153.55 2275.22 1163.35 Q2275.22 1173.12 2277.7 1178.02 Q2280.21 1182.89 2285.18 1182.89 Q2290.18 1182.89 2292.66 1178.02 Q2295.17 1173.12 2295.17 1163.35 Q2295.17 1153.55 2292.66 1148.68 Q2290.18 1143.78 2285.18 1143.78 M2285.18 1138.68 Q2293.17 1138.68 2297.37 1145.02 Q2301.6 1151.32 2301.6 1163.35 Q2301.6 1175.35 2297.37 1181.69 Q2293.17 1187.99 2285.18 1187.99 Q2277.19 1187.99 2272.96 1181.69 Q2268.76 1175.35 2268.76 1163.35 Q2268.76 1151.32 2272.96 1145.02 Q2277.19 1138.68 2285.18 1138.68 Z\" fill=\"#000000\" fill-rule=\"nonzero\" fill-opacity=\"1\" /><path clip-path=\"url(#clip690)\" d=\"M2312.9 1178.98 L2319.62 1178.98 L2319.62 1187.06 L2312.9 1187.06 L2312.9 1178.98 Z\" fill=\"#000000\" fill-rule=\"nonzero\" fill-opacity=\"1\" /><path clip-path=\"url(#clip690)\" d=\"M2347.37 1143.78 Q2342.41 1143.78 2339.89 1148.68 Q2337.41 1153.55 2337.41 1163.35 Q2337.41 1173.12 2339.89 1178.02 Q2342.41 1182.89 2347.37 1182.89 Q2352.37 1182.89 2354.85 1178.02 Q2357.37 1173.12 2357.37 1163.35 Q2357.37 1153.55 2354.85 1148.68 Q2352.37 1143.78 2347.37 1143.78 M2347.37 1138.68 Q2355.36 1138.68 2359.56 1145.02 Q2363.8 1151.32 2363.8 1163.35 Q2363.8 1175.35 2359.56 1181.69 Q2355.36 1187.99 2347.37 1187.99 Q2339.38 1187.99 2335.15 1181.69 Q2330.95 1175.35 2330.95 1163.35 Q2330.95 1151.32 2335.15 1145.02 Q2339.38 1138.68 2347.37 1138.68 Z\" fill=\"#000000\" fill-rule=\"nonzero\" fill-opacity=\"1\" /><path clip-path=\"url(#clip690)\" d=\"M2376.21 1181.65 L2386.71 1181.65 L2386.71 1145.4 L2375.29 1147.69 L2375.29 1141.84 L2386.65 1139.54 L2393.08 1139.54 L2393.08 1181.65 L2403.58 1181.65 L2403.58 1187.06 L2376.21 1187.06 L2376.21 1181.65 Z\" fill=\"#000000\" fill-rule=\"nonzero\" fill-opacity=\"1\" /><path clip-path=\"url(#clip690)\" d=\"M2285.18 961.411 Q2280.21 961.411 2277.7 966.312 Q2275.22 971.182 2275.22 980.985 Q2275.22 990.756 2277.7 995.658 Q2280.21 1000.53 2285.18 1000.53 Q2290.18 1000.53 2292.66 995.658 Q2295.17 990.756 2295.17 980.985 Q2295.17 971.182 2292.66 966.312 Q2290.18 961.411 2285.18 961.411 M2285.18 956.318 Q2293.17 956.318 2297.37 962.652 Q2301.6 968.954 2301.6 980.985 Q2301.6 992.984 2297.37 999.318 Q2293.17 1005.62 2285.18 1005.62 Q2277.19 1005.62 2272.96 999.318 Q2268.76 992.984 2268.76 980.985 Q2268.76 968.954 2272.96 962.652 Q2277.19 956.318 2285.18 956.318 Z\" fill=\"#000000\" fill-rule=\"nonzero\" fill-opacity=\"1\" /><path clip-path=\"url(#clip690)\" d=\"M2312.9 996.613 L2319.62 996.613 L2319.62 1004.7 L2312.9 1004.7 L2312.9 996.613 Z\" fill=\"#000000\" fill-rule=\"nonzero\" fill-opacity=\"1\" /><path clip-path=\"url(#clip690)\" d=\"M2347.37 961.411 Q2342.41 961.411 2339.89 966.312 Q2337.41 971.182 2337.41 980.985 Q2337.41 990.756 2339.89 995.658 Q2342.41 1000.53 2347.37 1000.53 Q2352.37 1000.53 2354.85 995.658 Q2357.37 990.756 2357.37 980.985 Q2357.37 971.182 2354.85 966.312 Q2352.37 961.411 2347.37 961.411 M2347.37 956.318 Q2355.36 956.318 2359.56 962.652 Q2363.8 968.954 2363.8 980.985 Q2363.8 992.984 2359.56 999.318 Q2355.36 1005.62 2347.37 1005.62 Q2339.38 1005.62 2335.15 999.318 Q2330.95 992.984 2330.95 980.985 Q2330.95 968.954 2335.15 962.652 Q2339.38 956.318 2347.37 956.318 Z\" fill=\"#000000\" fill-rule=\"nonzero\" fill-opacity=\"1\" /><path clip-path=\"url(#clip690)\" d=\"M2380.63 999.286 L2403.07 999.286 L2403.07 1004.7 L2372.9 1004.7 L2372.9 999.286 Q2376.56 995.499 2382.86 989.133 Q2389.2 982.736 2390.82 980.89 Q2393.91 977.42 2395.12 975.033 Q2396.36 972.614 2396.36 970.291 Q2396.36 966.503 2393.68 964.116 Q2391.04 961.729 2386.78 961.729 Q2383.75 961.729 2380.38 962.779 Q2377.04 963.829 2373.22 965.962 L2373.22 959.469 Q2377.1 957.909 2380.47 957.114 Q2383.85 956.318 2386.65 956.318 Q2394.03 956.318 2398.43 960.01 Q2402.82 963.702 2402.82 969.877 Q2402.82 972.805 2401.7 975.447 Q2400.62 978.057 2397.73 981.622 Q2396.93 982.545 2392.66 986.969 Q2388.4 991.361 2380.63 999.286 Z\" fill=\"#000000\" fill-rule=\"nonzero\" fill-opacity=\"1\" /><path clip-path=\"url(#clip690)\" d=\"M2285.18 779.044 Q2280.21 779.044 2277.7 783.945 Q2275.22 788.815 2275.22 798.618 Q2275.22 808.39 2277.7 813.291 Q2280.21 818.161 2285.18 818.161 Q2290.18 818.161 2292.66 813.291 Q2295.17 808.39 2295.17 798.618 Q2295.17 788.815 2292.66 783.945 Q2290.18 779.044 2285.18 779.044 M2285.18 773.951 Q2293.17 773.951 2297.37 780.285 Q2301.6 786.587 2301.6 798.618 Q2301.6 810.618 2297.37 816.951 Q2293.17 823.253 2285.18 823.253 Q2277.19 823.253 2272.96 816.951 Q2268.76 810.618 2268.76 798.618 Q2268.76 786.587 2272.96 780.285 Q2277.19 773.951 2285.18 773.951 Z\" fill=\"#000000\" fill-rule=\"nonzero\" fill-opacity=\"1\" /><path clip-path=\"url(#clip690)\" d=\"M2312.9 814.246 L2319.62 814.246 L2319.62 822.33 L2312.9 822.33 L2312.9 814.246 Z\" fill=\"#000000\" fill-rule=\"nonzero\" fill-opacity=\"1\" /><path clip-path=\"url(#clip690)\" d=\"M2347.37 779.044 Q2342.41 779.044 2339.89 783.945 Q2337.41 788.815 2337.41 798.618 Q2337.41 808.39 2339.89 813.291 Q2342.41 818.161 2347.37 818.161 Q2352.37 818.161 2354.85 813.291 Q2357.37 808.39 2357.37 798.618 Q2357.37 788.815 2354.85 783.945 Q2352.37 779.044 2347.37 779.044 M2347.37 773.951 Q2355.36 773.951 2359.56 780.285 Q2363.8 786.587 2363.8 798.618 Q2363.8 810.618 2359.56 816.951 Q2355.36 823.253 2347.37 823.253 Q2339.38 823.253 2335.15 816.951 Q2330.95 810.618 2330.95 798.618 Q2330.95 786.587 2335.15 780.285 Q2339.38 773.951 2347.37 773.951 Z\" fill=\"#000000\" fill-rule=\"nonzero\" fill-opacity=\"1\" /><path clip-path=\"url(#clip690)\" d=\"M2394.57 796.708 Q2399.19 797.695 2401.77 800.814 Q2404.38 803.934 2404.38 808.517 Q2404.38 815.551 2399.54 819.402 Q2394.7 823.253 2385.79 823.253 Q2382.8 823.253 2379.61 822.649 Q2376.46 822.076 2373.09 820.898 L2373.09 814.692 Q2375.76 816.251 2378.95 817.047 Q2382.13 817.843 2385.6 817.843 Q2391.65 817.843 2394.8 815.455 Q2397.98 813.068 2397.98 808.517 Q2397.98 804.315 2395.02 801.96 Q2392.09 799.573 2386.84 799.573 L2381.3 799.573 L2381.3 794.289 L2387.09 794.289 Q2391.84 794.289 2394.35 792.412 Q2396.87 790.502 2396.87 786.937 Q2396.87 783.277 2394.26 781.335 Q2391.68 779.362 2386.84 779.362 Q2384.2 779.362 2381.17 779.935 Q2378.15 780.508 2374.52 781.717 L2374.52 775.988 Q2378.18 774.97 2381.37 774.46 Q2384.58 773.951 2387.41 773.951 Q2394.73 773.951 2399 777.293 Q2403.26 780.603 2403.26 786.269 Q2403.26 790.215 2401 792.953 Q2398.74 795.658 2394.57 796.708 Z\" fill=\"#000000\" fill-rule=\"nonzero\" fill-opacity=\"1\" /><path clip-path=\"url(#clip690)\" d=\"M2285.18 596.677 Q2280.21 596.677 2277.7 601.578 Q2275.22 606.448 2275.22 616.251 Q2275.22 626.023 2277.7 630.924 Q2280.21 635.794 2285.18 635.794 Q2290.18 635.794 2292.66 630.924 Q2295.17 626.023 2295.17 616.251 Q2295.17 606.448 2292.66 601.578 Q2290.18 596.677 2285.18 596.677 M2285.18 591.584 Q2293.17 591.584 2297.37 597.918 Q2301.6 604.22 2301.6 616.251 Q2301.6 628.251 2297.37 634.585 Q2293.17 640.887 2285.18 640.887 Q2277.19 640.887 2272.96 634.585 Q2268.76 628.251 2268.76 616.251 Q2268.76 604.22 2272.96 597.918 Q2277.19 591.584 2285.18 591.584 Z\" fill=\"#000000\" fill-rule=\"nonzero\" fill-opacity=\"1\" /><path clip-path=\"url(#clip690)\" d=\"M2312.9 631.879 L2319.62 631.879 L2319.62 639.964 L2312.9 639.964 L2312.9 631.879 Z\" fill=\"#000000\" fill-rule=\"nonzero\" fill-opacity=\"1\" /><path clip-path=\"url(#clip690)\" d=\"M2347.37 596.677 Q2342.41 596.677 2339.89 601.578 Q2337.41 606.448 2337.41 616.251 Q2337.41 626.023 2339.89 630.924 Q2342.41 635.794 2347.37 635.794 Q2352.37 635.794 2354.85 630.924 Q2357.37 626.023 2357.37 616.251 Q2357.37 606.448 2354.85 601.578 Q2352.37 596.677 2347.37 596.677 M2347.37 591.584 Q2355.36 591.584 2359.56 597.918 Q2363.8 604.22 2363.8 616.251 Q2363.8 628.251 2359.56 634.585 Q2355.36 640.887 2347.37 640.887 Q2339.38 640.887 2335.15 634.585 Q2330.95 628.251 2330.95 616.251 Q2330.95 604.22 2335.15 597.918 Q2339.38 591.584 2347.37 591.584 Z\" fill=\"#000000\" fill-rule=\"nonzero\" fill-opacity=\"1\" /><path clip-path=\"url(#clip690)\" d=\"M2392.76 598.045 L2376.53 623.413 L2392.76 623.413 L2392.76 598.045 M2391.07 592.444 L2399.16 592.444 L2399.16 623.413 L2405.94 623.413 L2405.94 628.76 L2399.16 628.76 L2399.16 639.964 L2392.76 639.964 L2392.76 628.76 L2371.31 628.76 L2371.31 622.553 L2391.07 592.444 Z\" fill=\"#000000\" fill-rule=\"nonzero\" fill-opacity=\"1\" /><path clip-path=\"url(#clip690)\" d=\"M2285.18 414.31 Q2280.21 414.31 2277.7 419.211 Q2275.22 424.081 2275.22 433.884 Q2275.22 443.656 2277.7 448.557 Q2280.21 453.427 2285.18 453.427 Q2290.18 453.427 2292.66 448.557 Q2295.17 443.656 2295.17 433.884 Q2295.17 424.081 2292.66 419.211 Q2290.18 414.31 2285.18 414.31 M2285.18 409.217 Q2293.17 409.217 2297.37 415.551 Q2301.6 421.853 2301.6 433.884 Q2301.6 445.884 2297.37 452.218 Q2293.17 458.52 2285.18 458.52 Q2277.19 458.52 2272.96 452.218 Q2268.76 445.884 2268.76 433.884 Q2268.76 421.853 2272.96 415.551 Q2277.19 409.217 2285.18 409.217 Z\" fill=\"#000000\" fill-rule=\"nonzero\" fill-opacity=\"1\" /><path clip-path=\"url(#clip690)\" d=\"M2312.9 449.512 L2319.62 449.512 L2319.62 457.597 L2312.9 457.597 L2312.9 449.512 Z\" fill=\"#000000\" fill-rule=\"nonzero\" fill-opacity=\"1\" /><path clip-path=\"url(#clip690)\" d=\"M2347.37 414.31 Q2342.41 414.31 2339.89 419.211 Q2337.41 424.081 2337.41 433.884 Q2337.41 443.656 2339.89 448.557 Q2342.41 453.427 2347.37 453.427 Q2352.37 453.427 2354.85 448.557 Q2357.37 443.656 2357.37 433.884 Q2357.37 424.081 2354.85 419.211 Q2352.37 414.31 2347.37 414.31 M2347.37 409.217 Q2355.36 409.217 2359.56 415.551 Q2363.8 421.853 2363.8 433.884 Q2363.8 445.884 2359.56 452.218 Q2355.36 458.52 2347.37 458.52 Q2339.38 458.52 2335.15 452.218 Q2330.95 445.884 2330.95 433.884 Q2330.95 421.853 2335.15 415.551 Q2339.38 409.217 2347.37 409.217 Z\" fill=\"#000000\" fill-rule=\"nonzero\" fill-opacity=\"1\" /><path clip-path=\"url(#clip690)\" d=\"M2375.16 410.077 L2400.4 410.077 L2400.4 415.488 L2381.05 415.488 L2381.05 427.137 Q2382.45 426.659 2383.85 426.437 Q2385.25 426.182 2386.65 426.182 Q2394.61 426.182 2399.25 430.542 Q2403.9 434.903 2403.9 442.351 Q2403.9 450.021 2399.13 454.286 Q2394.35 458.52 2385.66 458.52 Q2382.67 458.52 2379.55 458.01 Q2376.46 457.501 2373.15 456.483 L2373.15 450.021 Q2376.02 451.581 2379.07 452.345 Q2382.13 453.109 2385.53 453.109 Q2391.04 453.109 2394.26 450.212 Q2397.47 447.316 2397.47 442.351 Q2397.47 437.386 2394.26 434.489 Q2391.04 431.593 2385.53 431.593 Q2382.96 431.593 2380.38 432.166 Q2377.83 432.739 2375.16 433.948 L2375.16 410.077 Z\" fill=\"#000000\" fill-rule=\"nonzero\" fill-opacity=\"1\" /><path clip-path=\"url(#clip690)\" d=\"M2285.18 231.943 Q2280.21 231.943 2277.7 236.845 Q2275.22 241.714 2275.22 251.518 Q2275.22 261.289 2277.7 266.19 Q2280.21 271.06 2285.18 271.06 Q2290.18 271.06 2292.66 266.19 Q2295.17 261.289 2295.17 251.518 Q2295.17 241.714 2292.66 236.845 Q2290.18 231.943 2285.18 231.943 M2285.18 226.85 Q2293.17 226.85 2297.37 233.184 Q2301.6 239.486 2301.6 251.518 Q2301.6 263.517 2297.37 269.851 Q2293.17 276.153 2285.18 276.153 Q2277.19 276.153 2272.96 269.851 Q2268.76 263.517 2268.76 251.518 Q2268.76 239.486 2272.96 233.184 Q2277.19 226.85 2285.18 226.85 Z\" fill=\"#000000\" fill-rule=\"nonzero\" fill-opacity=\"1\" /><path clip-path=\"url(#clip690)\" d=\"M2312.9 267.145 L2319.62 267.145 L2319.62 275.23 L2312.9 275.23 L2312.9 267.145 Z\" fill=\"#000000\" fill-rule=\"nonzero\" fill-opacity=\"1\" /><path clip-path=\"url(#clip690)\" d=\"M2347.37 231.943 Q2342.41 231.943 2339.89 236.845 Q2337.41 241.714 2337.41 251.518 Q2337.41 261.289 2339.89 266.19 Q2342.41 271.06 2347.37 271.06 Q2352.37 271.06 2354.85 266.19 Q2357.37 261.289 2357.37 251.518 Q2357.37 241.714 2354.85 236.845 Q2352.37 231.943 2347.37 231.943 M2347.37 226.85 Q2355.36 226.85 2359.56 233.184 Q2363.8 239.486 2363.8 251.518 Q2363.8 263.517 2359.56 269.851 Q2355.36 276.153 2347.37 276.153 Q2339.38 276.153 2335.15 269.851 Q2330.95 263.517 2330.95 251.518 Q2330.95 239.486 2335.15 233.184 Q2339.38 226.85 2347.37 226.85 Z\" fill=\"#000000\" fill-rule=\"nonzero\" fill-opacity=\"1\" /><path clip-path=\"url(#clip690)\" d=\"M2389.64 248.908 Q2385.31 248.908 2382.77 251.868 Q2380.25 254.828 2380.25 259.984 Q2380.25 265.108 2382.77 268.1 Q2385.31 271.06 2389.64 271.06 Q2393.97 271.06 2396.48 268.1 Q2399.03 265.108 2399.03 259.984 Q2399.03 254.828 2396.48 251.868 Q2393.97 248.908 2389.64 248.908 M2402.4 228.76 L2402.4 234.617 Q2399.98 233.471 2397.5 232.866 Q2395.05 232.261 2392.63 232.261 Q2386.27 232.261 2382.89 236.558 Q2379.55 240.855 2379.07 249.544 Q2380.95 246.775 2383.78 245.311 Q2386.62 243.815 2390.02 243.815 Q2397.18 243.815 2401.32 248.176 Q2405.49 252.504 2405.49 259.984 Q2405.49 267.304 2401.16 271.729 Q2396.83 276.153 2389.64 276.153 Q2381.4 276.153 2377.04 269.851 Q2372.68 263.517 2372.68 251.518 Q2372.68 240.25 2378.02 233.566 Q2383.37 226.85 2392.38 226.85 Q2394.8 226.85 2397.25 227.328 Q2399.73 227.805 2402.4 228.76 Z\" fill=\"#000000\" fill-rule=\"nonzero\" fill-opacity=\"1\" /><polyline clip-path=\"url(#clip690)\" style=\"stroke:#000000; stroke-linecap:round; stroke-linejoin:round; stroke-width:4; stroke-opacity:1; fill:none\" points=\"2232.76,1350.66 2232.76,1168.29 2256.76,1168.29 2232.76,1168.29 2232.76,985.927 2256.76,985.927 2232.76,985.927 2232.76,803.56 2256.76,803.56 2232.76,803.56 2232.76,621.193 2256.76,621.193 2232.76,621.193 2232.76,438.826 2256.76,438.826 2232.76,438.826 2232.76,256.459 2256.76,256.459 2232.76,256.459 2232.76,195.996 \"/>\n",
       "<g clip-path=\"url(#clip690)\">\n",
       "<text style=\"fill:#008000; fill-opacity:1; font-family:Courier,Courier New,Lucida Sans Typewriter,Lucida Typewriter,monospace; font-size:74px; text-anchor:middle;\" transform=\"rotate(0, 641.507, 1282.15)\" x=\"641.507\" y=\"1282.15\">1</text>\n",
       "</g>\n",
       "<g clip-path=\"url(#clip690)\">\n",
       "<text style=\"fill:#008000; fill-opacity:1; font-family:Courier,Courier New,Lucida Sans Typewriter,Lucida Typewriter,monospace; font-size:74px; text-anchor:middle;\" transform=\"rotate(0, 756.17, 1282.15)\" x=\"756.17\" y=\"1282.15\">2</text>\n",
       "</g>\n",
       "<g clip-path=\"url(#clip690)\">\n",
       "<text style=\"fill:#008000; fill-opacity:1; font-family:Courier,Courier New,Lucida Sans Typewriter,Lucida Typewriter,monospace; font-size:74px; text-anchor:middle;\" transform=\"rotate(0, 870.833, 1282.15)\" x=\"870.833\" y=\"1282.15\">3</text>\n",
       "</g>\n",
       "<g clip-path=\"url(#clip690)\">\n",
       "<text style=\"fill:#008000; fill-opacity:1; font-family:Courier,Courier New,Lucida Sans Typewriter,Lucida Typewriter,monospace; font-size:74px; text-anchor:middle;\" transform=\"rotate(0, 985.497, 1282.15)\" x=\"985.497\" y=\"1282.15\">4</text>\n",
       "</g>\n",
       "<g clip-path=\"url(#clip690)\">\n",
       "<text style=\"fill:#008000; fill-opacity:1; font-family:Courier,Courier New,Lucida Sans Typewriter,Lucida Typewriter,monospace; font-size:74px; text-anchor:middle;\" transform=\"rotate(0, 1100.16, 1282.15)\" x=\"1100.16\" y=\"1282.15\">5</text>\n",
       "</g>\n",
       "<g clip-path=\"url(#clip690)\">\n",
       "<text style=\"fill:#008000; fill-opacity:1; font-family:Courier,Courier New,Lucida Sans Typewriter,Lucida Typewriter,monospace; font-size:74px; text-anchor:middle;\" transform=\"rotate(0, 1214.82, 1282.15)\" x=\"1214.82\" y=\"1282.15\">6</text>\n",
       "</g>\n",
       "<g clip-path=\"url(#clip690)\">\n",
       "<text style=\"fill:#008000; fill-opacity:1; font-family:Courier,Courier New,Lucida Sans Typewriter,Lucida Typewriter,monospace; font-size:74px; text-anchor:middle;\" transform=\"rotate(0, 1329.49, 1282.15)\" x=\"1329.49\" y=\"1282.15\">7</text>\n",
       "</g>\n",
       "<g clip-path=\"url(#clip690)\">\n",
       "<text style=\"fill:#008000; fill-opacity:1; font-family:Courier,Courier New,Lucida Sans Typewriter,Lucida Typewriter,monospace; font-size:74px; text-anchor:middle;\" transform=\"rotate(0, 1444.15, 1282.15)\" x=\"1444.15\" y=\"1282.15\">8</text>\n",
       "</g>\n",
       "<g clip-path=\"url(#clip690)\">\n",
       "<text style=\"fill:#008000; fill-opacity:1; font-family:Courier,Courier New,Lucida Sans Typewriter,Lucida Typewriter,monospace; font-size:74px; text-anchor:middle;\" transform=\"rotate(0, 641.507, 1167.48)\" x=\"641.507\" y=\"1167.48\">9</text>\n",
       "</g>\n",
       "<g clip-path=\"url(#clip690)\">\n",
       "<text style=\"fill:#008000; fill-opacity:1; font-family:Courier,Courier New,Lucida Sans Typewriter,Lucida Typewriter,monospace; font-size:74px; text-anchor:middle;\" transform=\"rotate(0, 756.17, 1167.48)\" x=\"756.17\" y=\"1167.48\">10</text>\n",
       "</g>\n",
       "<g clip-path=\"url(#clip690)\">\n",
       "<text style=\"fill:#008000; fill-opacity:1; font-family:Courier,Courier New,Lucida Sans Typewriter,Lucida Typewriter,monospace; font-size:74px; text-anchor:middle;\" transform=\"rotate(0, 870.833, 1167.48)\" x=\"870.833\" y=\"1167.48\">11</text>\n",
       "</g>\n",
       "<g clip-path=\"url(#clip690)\">\n",
       "<text style=\"fill:#008000; fill-opacity:1; font-family:Courier,Courier New,Lucida Sans Typewriter,Lucida Typewriter,monospace; font-size:74px; text-anchor:middle;\" transform=\"rotate(0, 985.497, 1167.48)\" x=\"985.497\" y=\"1167.48\">12</text>\n",
       "</g>\n",
       "<g clip-path=\"url(#clip690)\">\n",
       "<text style=\"fill:#008000; fill-opacity:1; font-family:Courier,Courier New,Lucida Sans Typewriter,Lucida Typewriter,monospace; font-size:74px; text-anchor:middle;\" transform=\"rotate(0, 1100.16, 1167.48)\" x=\"1100.16\" y=\"1167.48\">13</text>\n",
       "</g>\n",
       "<g clip-path=\"url(#clip690)\">\n",
       "<text style=\"fill:#008000; fill-opacity:1; font-family:Courier,Courier New,Lucida Sans Typewriter,Lucida Typewriter,monospace; font-size:74px; text-anchor:middle;\" transform=\"rotate(0, 1214.82, 1167.48)\" x=\"1214.82\" y=\"1167.48\">14</text>\n",
       "</g>\n",
       "<g clip-path=\"url(#clip690)\">\n",
       "<text style=\"fill:#008000; fill-opacity:1; font-family:Courier,Courier New,Lucida Sans Typewriter,Lucida Typewriter,monospace; font-size:74px; text-anchor:middle;\" transform=\"rotate(0, 1329.49, 1167.48)\" x=\"1329.49\" y=\"1167.48\">15</text>\n",
       "</g>\n",
       "<g clip-path=\"url(#clip690)\">\n",
       "<text style=\"fill:#008000; fill-opacity:1; font-family:Courier,Courier New,Lucida Sans Typewriter,Lucida Typewriter,monospace; font-size:74px; text-anchor:middle;\" transform=\"rotate(0, 1444.15, 1167.48)\" x=\"1444.15\" y=\"1167.48\">16</text>\n",
       "</g>\n",
       "<g clip-path=\"url(#clip690)\">\n",
       "<text style=\"fill:#008000; fill-opacity:1; font-family:Courier,Courier New,Lucida Sans Typewriter,Lucida Typewriter,monospace; font-size:74px; text-anchor:middle;\" transform=\"rotate(0, 641.507, 1052.82)\" x=\"641.507\" y=\"1052.82\">17</text>\n",
       "</g>\n",
       "<g clip-path=\"url(#clip690)\">\n",
       "<text style=\"fill:#008000; fill-opacity:1; font-family:Courier,Courier New,Lucida Sans Typewriter,Lucida Typewriter,monospace; font-size:74px; text-anchor:middle;\" transform=\"rotate(0, 756.17, 1052.82)\" x=\"756.17\" y=\"1052.82\">18</text>\n",
       "</g>\n",
       "<g clip-path=\"url(#clip690)\">\n",
       "<text style=\"fill:#008000; fill-opacity:1; font-family:Courier,Courier New,Lucida Sans Typewriter,Lucida Typewriter,monospace; font-size:74px; text-anchor:middle;\" transform=\"rotate(0, 870.833, 1052.82)\" x=\"870.833\" y=\"1052.82\">19</text>\n",
       "</g>\n",
       "<g clip-path=\"url(#clip690)\">\n",
       "<text style=\"fill:#008000; fill-opacity:1; font-family:Courier,Courier New,Lucida Sans Typewriter,Lucida Typewriter,monospace; font-size:74px; text-anchor:middle;\" transform=\"rotate(0, 985.497, 1052.82)\" x=\"985.497\" y=\"1052.82\">20</text>\n",
       "</g>\n",
       "<g clip-path=\"url(#clip690)\">\n",
       "<text style=\"fill:#008000; fill-opacity:1; font-family:Courier,Courier New,Lucida Sans Typewriter,Lucida Typewriter,monospace; font-size:74px; text-anchor:middle;\" transform=\"rotate(0, 1100.16, 1052.82)\" x=\"1100.16\" y=\"1052.82\">21</text>\n",
       "</g>\n",
       "<g clip-path=\"url(#clip690)\">\n",
       "<text style=\"fill:#008000; fill-opacity:1; font-family:Courier,Courier New,Lucida Sans Typewriter,Lucida Typewriter,monospace; font-size:74px; text-anchor:middle;\" transform=\"rotate(0, 1214.82, 1052.82)\" x=\"1214.82\" y=\"1052.82\">22</text>\n",
       "</g>\n",
       "<g clip-path=\"url(#clip690)\">\n",
       "<text style=\"fill:#008000; fill-opacity:1; font-family:Courier,Courier New,Lucida Sans Typewriter,Lucida Typewriter,monospace; font-size:74px; text-anchor:middle;\" transform=\"rotate(0, 1329.49, 1052.82)\" x=\"1329.49\" y=\"1052.82\">23</text>\n",
       "</g>\n",
       "<g clip-path=\"url(#clip690)\">\n",
       "<text style=\"fill:#008000; fill-opacity:1; font-family:Courier,Courier New,Lucida Sans Typewriter,Lucida Typewriter,monospace; font-size:74px; text-anchor:middle;\" transform=\"rotate(0, 1444.15, 1052.82)\" x=\"1444.15\" y=\"1052.82\">24</text>\n",
       "</g>\n",
       "<g clip-path=\"url(#clip690)\">\n",
       "<text style=\"fill:#008000; fill-opacity:1; font-family:Courier,Courier New,Lucida Sans Typewriter,Lucida Typewriter,monospace; font-size:74px; text-anchor:middle;\" transform=\"rotate(0, 641.507, 938.155)\" x=\"641.507\" y=\"938.155\">25</text>\n",
       "</g>\n",
       "<g clip-path=\"url(#clip690)\">\n",
       "<text style=\"fill:#008000; fill-opacity:1; font-family:Courier,Courier New,Lucida Sans Typewriter,Lucida Typewriter,monospace; font-size:74px; text-anchor:middle;\" transform=\"rotate(0, 756.17, 938.155)\" x=\"756.17\" y=\"938.155\">26</text>\n",
       "</g>\n",
       "<g clip-path=\"url(#clip690)\">\n",
       "<text style=\"fill:#008000; fill-opacity:1; font-family:Courier,Courier New,Lucida Sans Typewriter,Lucida Typewriter,monospace; font-size:74px; text-anchor:middle;\" transform=\"rotate(0, 870.833, 938.155)\" x=\"870.833\" y=\"938.155\">27</text>\n",
       "</g>\n",
       "<g clip-path=\"url(#clip690)\">\n",
       "<text style=\"fill:#008000; fill-opacity:1; font-family:Courier,Courier New,Lucida Sans Typewriter,Lucida Typewriter,monospace; font-size:74px; text-anchor:middle;\" transform=\"rotate(0, 985.497, 938.155)\" x=\"985.497\" y=\"938.155\">28</text>\n",
       "</g>\n",
       "<g clip-path=\"url(#clip690)\">\n",
       "<text style=\"fill:#008000; fill-opacity:1; font-family:Courier,Courier New,Lucida Sans Typewriter,Lucida Typewriter,monospace; font-size:74px; text-anchor:middle;\" transform=\"rotate(0, 1100.16, 938.155)\" x=\"1100.16\" y=\"938.155\">29</text>\n",
       "</g>\n",
       "<g clip-path=\"url(#clip690)\">\n",
       "<text style=\"fill:#008000; fill-opacity:1; font-family:Courier,Courier New,Lucida Sans Typewriter,Lucida Typewriter,monospace; font-size:74px; text-anchor:middle;\" transform=\"rotate(0, 1214.82, 938.155)\" x=\"1214.82\" y=\"938.155\">30</text>\n",
       "</g>\n",
       "<g clip-path=\"url(#clip690)\">\n",
       "<text style=\"fill:#008000; fill-opacity:1; font-family:Courier,Courier New,Lucida Sans Typewriter,Lucida Typewriter,monospace; font-size:74px; text-anchor:middle;\" transform=\"rotate(0, 1329.49, 938.155)\" x=\"1329.49\" y=\"938.155\">31</text>\n",
       "</g>\n",
       "<g clip-path=\"url(#clip690)\">\n",
       "<text style=\"fill:#008000; fill-opacity:1; font-family:Courier,Courier New,Lucida Sans Typewriter,Lucida Typewriter,monospace; font-size:74px; text-anchor:middle;\" transform=\"rotate(0, 1444.15, 938.155)\" x=\"1444.15\" y=\"938.155\">32</text>\n",
       "</g>\n",
       "<g clip-path=\"url(#clip690)\">\n",
       "<text style=\"fill:#008000; fill-opacity:1; font-family:Courier,Courier New,Lucida Sans Typewriter,Lucida Typewriter,monospace; font-size:74px; text-anchor:middle;\" transform=\"rotate(0, 641.507, 823.492)\" x=\"641.507\" y=\"823.492\">33</text>\n",
       "</g>\n",
       "<g clip-path=\"url(#clip690)\">\n",
       "<text style=\"fill:#008000; fill-opacity:1; font-family:Courier,Courier New,Lucida Sans Typewriter,Lucida Typewriter,monospace; font-size:74px; text-anchor:middle;\" transform=\"rotate(0, 756.17, 823.492)\" x=\"756.17\" y=\"823.492\">34</text>\n",
       "</g>\n",
       "<g clip-path=\"url(#clip690)\">\n",
       "<text style=\"fill:#008000; fill-opacity:1; font-family:Courier,Courier New,Lucida Sans Typewriter,Lucida Typewriter,monospace; font-size:74px; text-anchor:middle;\" transform=\"rotate(0, 870.833, 823.492)\" x=\"870.833\" y=\"823.492\">35</text>\n",
       "</g>\n",
       "<g clip-path=\"url(#clip690)\">\n",
       "<text style=\"fill:#008000; fill-opacity:1; font-family:Courier,Courier New,Lucida Sans Typewriter,Lucida Typewriter,monospace; font-size:74px; text-anchor:middle;\" transform=\"rotate(0, 985.497, 823.492)\" x=\"985.497\" y=\"823.492\">36</text>\n",
       "</g>\n",
       "<g clip-path=\"url(#clip690)\">\n",
       "<text style=\"fill:#008000; fill-opacity:1; font-family:Courier,Courier New,Lucida Sans Typewriter,Lucida Typewriter,monospace; font-size:74px; text-anchor:middle;\" transform=\"rotate(0, 1100.16, 823.492)\" x=\"1100.16\" y=\"823.492\">37</text>\n",
       "</g>\n",
       "<g clip-path=\"url(#clip690)\">\n",
       "<text style=\"fill:#008000; fill-opacity:1; font-family:Courier,Courier New,Lucida Sans Typewriter,Lucida Typewriter,monospace; font-size:74px; text-anchor:middle;\" transform=\"rotate(0, 1214.82, 823.492)\" x=\"1214.82\" y=\"823.492\">38</text>\n",
       "</g>\n",
       "<g clip-path=\"url(#clip690)\">\n",
       "<text style=\"fill:#008000; fill-opacity:1; font-family:Courier,Courier New,Lucida Sans Typewriter,Lucida Typewriter,monospace; font-size:74px; text-anchor:middle;\" transform=\"rotate(0, 1329.49, 823.492)\" x=\"1329.49\" y=\"823.492\">39</text>\n",
       "</g>\n",
       "<g clip-path=\"url(#clip690)\">\n",
       "<text style=\"fill:#008000; fill-opacity:1; font-family:Courier,Courier New,Lucida Sans Typewriter,Lucida Typewriter,monospace; font-size:74px; text-anchor:middle;\" transform=\"rotate(0, 1444.15, 823.492)\" x=\"1444.15\" y=\"823.492\">40</text>\n",
       "</g>\n",
       "<g clip-path=\"url(#clip690)\">\n",
       "<text style=\"fill:#008000; fill-opacity:1; font-family:Courier,Courier New,Lucida Sans Typewriter,Lucida Typewriter,monospace; font-size:74px; text-anchor:middle;\" transform=\"rotate(0, 641.507, 708.828)\" x=\"641.507\" y=\"708.828\">41</text>\n",
       "</g>\n",
       "<g clip-path=\"url(#clip690)\">\n",
       "<text style=\"fill:#008000; fill-opacity:1; font-family:Courier,Courier New,Lucida Sans Typewriter,Lucida Typewriter,monospace; font-size:74px; text-anchor:middle;\" transform=\"rotate(0, 756.17, 708.828)\" x=\"756.17\" y=\"708.828\">42</text>\n",
       "</g>\n",
       "<g clip-path=\"url(#clip690)\">\n",
       "<text style=\"fill:#008000; fill-opacity:1; font-family:Courier,Courier New,Lucida Sans Typewriter,Lucida Typewriter,monospace; font-size:74px; text-anchor:middle;\" transform=\"rotate(0, 870.833, 708.828)\" x=\"870.833\" y=\"708.828\">43</text>\n",
       "</g>\n",
       "<g clip-path=\"url(#clip690)\">\n",
       "<text style=\"fill:#008000; fill-opacity:1; font-family:Courier,Courier New,Lucida Sans Typewriter,Lucida Typewriter,monospace; font-size:74px; text-anchor:middle;\" transform=\"rotate(0, 985.497, 708.828)\" x=\"985.497\" y=\"708.828\">44</text>\n",
       "</g>\n",
       "<g clip-path=\"url(#clip690)\">\n",
       "<text style=\"fill:#008000; fill-opacity:1; font-family:Courier,Courier New,Lucida Sans Typewriter,Lucida Typewriter,monospace; font-size:74px; text-anchor:middle;\" transform=\"rotate(0, 1100.16, 708.828)\" x=\"1100.16\" y=\"708.828\">45</text>\n",
       "</g>\n",
       "<g clip-path=\"url(#clip690)\">\n",
       "<text style=\"fill:#008000; fill-opacity:1; font-family:Courier,Courier New,Lucida Sans Typewriter,Lucida Typewriter,monospace; font-size:74px; text-anchor:middle;\" transform=\"rotate(0, 1214.82, 708.828)\" x=\"1214.82\" y=\"708.828\">46</text>\n",
       "</g>\n",
       "<g clip-path=\"url(#clip690)\">\n",
       "<text style=\"fill:#008000; fill-opacity:1; font-family:Courier,Courier New,Lucida Sans Typewriter,Lucida Typewriter,monospace; font-size:74px; text-anchor:middle;\" transform=\"rotate(0, 1329.49, 708.828)\" x=\"1329.49\" y=\"708.828\">47</text>\n",
       "</g>\n",
       "<g clip-path=\"url(#clip690)\">\n",
       "<text style=\"fill:#008000; fill-opacity:1; font-family:Courier,Courier New,Lucida Sans Typewriter,Lucida Typewriter,monospace; font-size:74px; text-anchor:middle;\" transform=\"rotate(0, 1444.15, 708.828)\" x=\"1444.15\" y=\"708.828\">48</text>\n",
       "</g>\n",
       "<g clip-path=\"url(#clip690)\">\n",
       "<text style=\"fill:#008000; fill-opacity:1; font-family:Courier,Courier New,Lucida Sans Typewriter,Lucida Typewriter,monospace; font-size:74px; text-anchor:middle;\" transform=\"rotate(0, 641.507, 594.165)\" x=\"641.507\" y=\"594.165\">49</text>\n",
       "</g>\n",
       "<g clip-path=\"url(#clip690)\">\n",
       "<text style=\"fill:#008000; fill-opacity:1; font-family:Courier,Courier New,Lucida Sans Typewriter,Lucida Typewriter,monospace; font-size:74px; text-anchor:middle;\" transform=\"rotate(0, 756.17, 594.165)\" x=\"756.17\" y=\"594.165\">50</text>\n",
       "</g>\n",
       "<g clip-path=\"url(#clip690)\">\n",
       "<text style=\"fill:#008000; fill-opacity:1; font-family:Courier,Courier New,Lucida Sans Typewriter,Lucida Typewriter,monospace; font-size:74px; text-anchor:middle;\" transform=\"rotate(0, 870.833, 594.165)\" x=\"870.833\" y=\"594.165\">51</text>\n",
       "</g>\n",
       "<g clip-path=\"url(#clip690)\">\n",
       "<text style=\"fill:#008000; fill-opacity:1; font-family:Courier,Courier New,Lucida Sans Typewriter,Lucida Typewriter,monospace; font-size:74px; text-anchor:middle;\" transform=\"rotate(0, 985.497, 594.165)\" x=\"985.497\" y=\"594.165\">52</text>\n",
       "</g>\n",
       "<g clip-path=\"url(#clip690)\">\n",
       "<text style=\"fill:#008000; fill-opacity:1; font-family:Courier,Courier New,Lucida Sans Typewriter,Lucida Typewriter,monospace; font-size:74px; text-anchor:middle;\" transform=\"rotate(0, 1100.16, 594.165)\" x=\"1100.16\" y=\"594.165\">53</text>\n",
       "</g>\n",
       "<g clip-path=\"url(#clip690)\">\n",
       "<text style=\"fill:#008000; fill-opacity:1; font-family:Courier,Courier New,Lucida Sans Typewriter,Lucida Typewriter,monospace; font-size:74px; text-anchor:middle;\" transform=\"rotate(0, 1214.82, 594.165)\" x=\"1214.82\" y=\"594.165\">54</text>\n",
       "</g>\n",
       "<g clip-path=\"url(#clip690)\">\n",
       "<text style=\"fill:#008000; fill-opacity:1; font-family:Courier,Courier New,Lucida Sans Typewriter,Lucida Typewriter,monospace; font-size:74px; text-anchor:middle;\" transform=\"rotate(0, 1329.49, 594.165)\" x=\"1329.49\" y=\"594.165\">55</text>\n",
       "</g>\n",
       "<g clip-path=\"url(#clip690)\">\n",
       "<text style=\"fill:#008000; fill-opacity:1; font-family:Courier,Courier New,Lucida Sans Typewriter,Lucida Typewriter,monospace; font-size:74px; text-anchor:middle;\" transform=\"rotate(0, 1444.15, 594.165)\" x=\"1444.15\" y=\"594.165\">56</text>\n",
       "</g>\n",
       "<g clip-path=\"url(#clip690)\">\n",
       "<text style=\"fill:#008000; fill-opacity:1; font-family:Courier,Courier New,Lucida Sans Typewriter,Lucida Typewriter,monospace; font-size:74px; text-anchor:middle;\" transform=\"rotate(0, 641.507, 479.502)\" x=\"641.507\" y=\"479.502\">57</text>\n",
       "</g>\n",
       "<g clip-path=\"url(#clip690)\">\n",
       "<text style=\"fill:#008000; fill-opacity:1; font-family:Courier,Courier New,Lucida Sans Typewriter,Lucida Typewriter,monospace; font-size:74px; text-anchor:middle;\" transform=\"rotate(0, 756.17, 479.502)\" x=\"756.17\" y=\"479.502\">58</text>\n",
       "</g>\n",
       "<g clip-path=\"url(#clip690)\">\n",
       "<text style=\"fill:#008000; fill-opacity:1; font-family:Courier,Courier New,Lucida Sans Typewriter,Lucida Typewriter,monospace; font-size:74px; text-anchor:middle;\" transform=\"rotate(0, 870.833, 479.502)\" x=\"870.833\" y=\"479.502\">59</text>\n",
       "</g>\n",
       "<g clip-path=\"url(#clip690)\">\n",
       "<text style=\"fill:#008000; fill-opacity:1; font-family:Courier,Courier New,Lucida Sans Typewriter,Lucida Typewriter,monospace; font-size:74px; text-anchor:middle;\" transform=\"rotate(0, 985.497, 479.502)\" x=\"985.497\" y=\"479.502\">60</text>\n",
       "</g>\n",
       "<g clip-path=\"url(#clip690)\">\n",
       "<text style=\"fill:#008000; fill-opacity:1; font-family:Courier,Courier New,Lucida Sans Typewriter,Lucida Typewriter,monospace; font-size:74px; text-anchor:middle;\" transform=\"rotate(0, 1100.16, 479.502)\" x=\"1100.16\" y=\"479.502\">61</text>\n",
       "</g>\n",
       "<g clip-path=\"url(#clip690)\">\n",
       "<text style=\"fill:#008000; fill-opacity:1; font-family:Courier,Courier New,Lucida Sans Typewriter,Lucida Typewriter,monospace; font-size:74px; text-anchor:middle;\" transform=\"rotate(0, 1214.82, 479.502)\" x=\"1214.82\" y=\"479.502\">62</text>\n",
       "</g>\n",
       "<g clip-path=\"url(#clip690)\">\n",
       "<text style=\"fill:#008000; fill-opacity:1; font-family:Courier,Courier New,Lucida Sans Typewriter,Lucida Typewriter,monospace; font-size:74px; text-anchor:middle;\" transform=\"rotate(0, 1329.49, 479.502)\" x=\"1329.49\" y=\"479.502\">63</text>\n",
       "</g>\n",
       "<g clip-path=\"url(#clip690)\">\n",
       "<text style=\"fill:#008000; fill-opacity:1; font-family:Courier,Courier New,Lucida Sans Typewriter,Lucida Typewriter,monospace; font-size:74px; text-anchor:middle;\" transform=\"rotate(0, 1444.15, 479.502)\" x=\"1444.15\" y=\"479.502\">64</text>\n",
       "</g>\n",
       "<g clip-path=\"url(#clip690)\">\n",
       "<text style=\"fill:#008000; fill-opacity:1; font-family:Courier,Courier New,Lucida Sans Typewriter,Lucida Typewriter,monospace; font-size:74px; text-anchor:middle;\" transform=\"rotate(0, 641.507, 364.839)\" x=\"641.507\" y=\"364.839\">65</text>\n",
       "</g>\n",
       "<g clip-path=\"url(#clip690)\">\n",
       "<text style=\"fill:#008000; fill-opacity:1; font-family:Courier,Courier New,Lucida Sans Typewriter,Lucida Typewriter,monospace; font-size:74px; text-anchor:middle;\" transform=\"rotate(0, 756.17, 364.839)\" x=\"756.17\" y=\"364.839\">66</text>\n",
       "</g>\n",
       "<g clip-path=\"url(#clip690)\">\n",
       "<text style=\"fill:#008000; fill-opacity:1; font-family:Courier,Courier New,Lucida Sans Typewriter,Lucida Typewriter,monospace; font-size:74px; text-anchor:middle;\" transform=\"rotate(0, 870.833, 364.839)\" x=\"870.833\" y=\"364.839\">67</text>\n",
       "</g>\n",
       "<g clip-path=\"url(#clip690)\">\n",
       "<text style=\"fill:#008000; fill-opacity:1; font-family:Courier,Courier New,Lucida Sans Typewriter,Lucida Typewriter,monospace; font-size:74px; text-anchor:middle;\" transform=\"rotate(0, 985.497, 364.839)\" x=\"985.497\" y=\"364.839\">68</text>\n",
       "</g>\n",
       "<g clip-path=\"url(#clip690)\">\n",
       "<text style=\"fill:#008000; fill-opacity:1; font-family:Courier,Courier New,Lucida Sans Typewriter,Lucida Typewriter,monospace; font-size:74px; text-anchor:middle;\" transform=\"rotate(0, 1100.16, 364.839)\" x=\"1100.16\" y=\"364.839\">69</text>\n",
       "</g>\n",
       "<g clip-path=\"url(#clip690)\">\n",
       "<text style=\"fill:#008000; fill-opacity:1; font-family:Courier,Courier New,Lucida Sans Typewriter,Lucida Typewriter,monospace; font-size:74px; text-anchor:middle;\" transform=\"rotate(0, 1214.82, 364.839)\" x=\"1214.82\" y=\"364.839\">70</text>\n",
       "</g>\n",
       "<g clip-path=\"url(#clip690)\">\n",
       "<text style=\"fill:#008000; fill-opacity:1; font-family:Courier,Courier New,Lucida Sans Typewriter,Lucida Typewriter,monospace; font-size:74px; text-anchor:middle;\" transform=\"rotate(0, 1329.49, 364.839)\" x=\"1329.49\" y=\"364.839\">71</text>\n",
       "</g>\n",
       "<g clip-path=\"url(#clip690)\">\n",
       "<text style=\"fill:#008000; fill-opacity:1; font-family:Courier,Courier New,Lucida Sans Typewriter,Lucida Typewriter,monospace; font-size:74px; text-anchor:middle;\" transform=\"rotate(0, 1444.15, 364.839)\" x=\"1444.15\" y=\"364.839\">72</text>\n",
       "</g>\n",
       "<g clip-path=\"url(#clip690)\">\n",
       "<text style=\"fill:#008000; fill-opacity:1; font-family:Courier,Courier New,Lucida Sans Typewriter,Lucida Typewriter,monospace; font-size:74px; text-anchor:middle;\" transform=\"rotate(0, 641.507, 250.175)\" x=\"641.507\" y=\"250.175\">73</text>\n",
       "</g>\n",
       "<g clip-path=\"url(#clip690)\">\n",
       "<text style=\"fill:#008000; fill-opacity:1; font-family:Courier,Courier New,Lucida Sans Typewriter,Lucida Typewriter,monospace; font-size:74px; text-anchor:middle;\" transform=\"rotate(0, 756.17, 250.175)\" x=\"756.17\" y=\"250.175\">74</text>\n",
       "</g>\n",
       "<g clip-path=\"url(#clip690)\">\n",
       "<text style=\"fill:#008000; fill-opacity:1; font-family:Courier,Courier New,Lucida Sans Typewriter,Lucida Typewriter,monospace; font-size:74px; text-anchor:middle;\" transform=\"rotate(0, 870.833, 250.175)\" x=\"870.833\" y=\"250.175\">75</text>\n",
       "</g>\n",
       "<g clip-path=\"url(#clip690)\">\n",
       "<text style=\"fill:#008000; fill-opacity:1; font-family:Courier,Courier New,Lucida Sans Typewriter,Lucida Typewriter,monospace; font-size:74px; text-anchor:middle;\" transform=\"rotate(0, 985.497, 250.175)\" x=\"985.497\" y=\"250.175\">76</text>\n",
       "</g>\n",
       "<g clip-path=\"url(#clip690)\">\n",
       "<text style=\"fill:#008000; fill-opacity:1; font-family:Courier,Courier New,Lucida Sans Typewriter,Lucida Typewriter,monospace; font-size:74px; text-anchor:middle;\" transform=\"rotate(0, 1100.16, 250.175)\" x=\"1100.16\" y=\"250.175\">77</text>\n",
       "</g>\n",
       "<g clip-path=\"url(#clip690)\">\n",
       "<text style=\"fill:#008000; fill-opacity:1; font-family:Courier,Courier New,Lucida Sans Typewriter,Lucida Typewriter,monospace; font-size:74px; text-anchor:middle;\" transform=\"rotate(0, 1214.82, 250.175)\" x=\"1214.82\" y=\"250.175\">78</text>\n",
       "</g>\n",
       "<g clip-path=\"url(#clip690)\">\n",
       "<text style=\"fill:#008000; fill-opacity:1; font-family:Courier,Courier New,Lucida Sans Typewriter,Lucida Typewriter,monospace; font-size:74px; text-anchor:middle;\" transform=\"rotate(0, 1329.49, 250.175)\" x=\"1329.49\" y=\"250.175\">79</text>\n",
       "</g>\n",
       "<g clip-path=\"url(#clip690)\">\n",
       "<text style=\"fill:#008000; fill-opacity:1; font-family:Courier,Courier New,Lucida Sans Typewriter,Lucida Typewriter,monospace; font-size:74px; text-anchor:middle;\" transform=\"rotate(0, 1444.15, 250.175)\" x=\"1444.15\" y=\"250.175\">80</text>\n",
       "</g>\n",
       "</svg>\n"
      ]
     },
     "metadata": {},
     "output_type": "display_data"
    }
   ],
   "source": [
    "heatmap(reshape(get_density_profiles(NM_MB_Array_Storage, r_hubbard_states, index_eig_states), Nx, Ny),xlabel=\"x\", ylabel=\"y\", title=\"FIG2\")\n",
    "\n",
    "# koordinatları 0 yerine 1'den başlatırsak heatmap ile uyumlu olur (.+1 operasyonu)\n",
    "x_coordinates = square_lattice(Nx,Ny)[2][:,1] .+1\n",
    "y_coordinates = square_lattice(Nx,Ny)[2][:,2] .+1\n",
    "scatter!(x_coordinates, y_coordinates, label=false, aspect_ratio=1, showaxis = false, grid=false, markersize=3, c=:black)\n",
    "# xmirror = true, yflip = true\n",
    "\n",
    "reversed_y = reverse(square_lattice(Nx,Ny)[2][:,2] .+1)\n",
    "\n",
    "center_x = x_coordinates[imp_site]; center_y = y_coordinates[imp_site]; radius = 2;\n",
    "for i in 1:N\n",
    "    p = annotate!(x_coordinates[i], y_coordinates[i], text(\"$i\", :Courier, 10,:green), :color)    \n",
    "end\n",
    "\n",
    "function circle_shape(h,k,r)\n",
    "    beta = LinRange(0, 2*pi, 500)\n",
    "    h .+ r*sin.(beta), k .+ r*cos.(beta)\n",
    "end\n",
    "\n",
    "plot!(circle_shape(center_x,center_y,radius), seriestype=[:shape], lw=0.5, c=:white, linecolor= :white, legend=false, fillalpha=0.2)\n",
    "\n",
    "display(p)"
   ]
  },
  {
   "cell_type": "code",
   "execution_count": 240,
   "id": "1e9646b5-8681-40b7-8f80-a3b7129cdec6",
   "metadata": {
    "tags": []
   },
   "outputs": [
    {
     "data": {
      "text/plain": [
       "0.00989125417581756"
      ]
     },
     "execution_count": 240,
     "metadata": {},
     "output_type": "execute_result"
    }
   ],
   "source": [
    "collect(Iterators.flatten((avg_density)))[36]"
   ]
  },
  {
   "cell_type": "code",
   "execution_count": 241,
   "id": "94e4558e-3a93-4f8e-ba7d-5685aa925f0c",
   "metadata": {
    "tags": []
   },
   "outputs": [
    {
     "data": {
      "text/plain": [
       "7.725446280279761e-7"
      ]
     },
     "execution_count": 241,
     "metadata": {},
     "output_type": "execute_result"
    }
   ],
   "source": [
    "collect(Iterators.flatten((avg_density)))[44]"
   ]
  },
  {
   "cell_type": "code",
   "execution_count": 242,
   "id": "c9733afb-a9a1-4c3e-aa87-f2a2f8b95448",
   "metadata": {
    "tags": []
   },
   "outputs": [
    {
     "data": {
      "text/plain": [
       "7.725446280279761e-7"
      ]
     },
     "execution_count": 242,
     "metadata": {},
     "output_type": "execute_result"
    }
   ],
   "source": [
    "minimum(avg_density)"
   ]
  },
  {
   "cell_type": "code",
   "execution_count": 496,
   "id": "e3e8d2e5-eda9-4b20-92cb-2422f2eabfff",
   "metadata": {
    "tags": []
   },
   "outputs": [
    {
     "data": {
      "text/plain": [
       "8×10 OffsetArray(::Matrix{Int64}, 0:7, 0:9) with eltype Int64 with indices 0:7×0:9:\n",
       " 8  16  24  32  40  48  56  64  72  80\n",
       " 7  15  23  31  39  47  55  63  71  79\n",
       " 6  14  22  30  38  46  54  62  70  78\n",
       " 5  13  21  29  37  45  53  61  69  77\n",
       " 4  12  20  28  36  44  52  60  68  76\n",
       " 3  11  19  27  35  43  51  59  67  75\n",
       " 2  10  18  26  34  42  50  58  66  74\n",
       " 1   9  17  25  33  41  49  57  65  73"
      ]
     },
     "execution_count": 496,
     "metadata": {},
     "output_type": "execute_result"
    }
   ],
   "source": [
    "# Yarı-çap hesabı için doğru sıralama\n",
    "Latt = reverse(transpose(square_lattice_structure), dims=1)"
   ]
  },
  {
   "cell_type": "code",
   "execution_count": 516,
   "id": "01d939a3-5e0e-4e04-9c5b-376fe59c6d0a",
   "metadata": {
    "tags": []
   },
   "outputs": [
    {
     "data": {
      "text/plain": [
       "CartesianIndex(4, 5)"
      ]
     },
     "execution_count": 516,
     "metadata": {},
     "output_type": "execute_result"
    }
   ],
   "source": [
    "findall( x -> x == 44, Latt)[1]"
   ]
  },
  {
   "cell_type": "code",
   "execution_count": 508,
   "id": "59ba1311-3fbd-4670-a932-6cde727699be",
   "metadata": {
    "tags": []
   },
   "outputs": [
    {
     "data": {
      "text/plain": [
       "81×2 transpose(::Matrix{Any}) with eltype Any:\n",
       " 7  0\n",
       " 6  0\n",
       " 5  0\n",
       " 4  0\n",
       " 3  0\n",
       " 2  0\n",
       " 1  0\n",
       " 0  0\n",
       " 7  1\n",
       " 6  1\n",
       " 5  1\n",
       " 4  1\n",
       " 3  1\n",
       " ⋮  \n",
       " 2  8\n",
       " 1  8\n",
       " 0  8\n",
       " 7  9\n",
       " 6  9\n",
       " 5  9\n",
       " 4  9\n",
       " 3  9\n",
       " 2  9\n",
       " 1  9\n",
       " 0  9\n",
       " 0  9"
      ]
     },
     "execution_count": 508,
     "metadata": {},
     "output_type": "execute_result"
    }
   ],
   "source": [
    "coordinates = []\n",
    "for i in 1:N\n",
    "    coordinates = [coordinatess; findall( x -> x == i, Latt)[1][1]; findall( x -> x == i, Latt)[1][2]]\n",
    "end\n",
    "coordinates = reshape(coordinates, (2, Nx*Ny+1)) |> transpose"
   ]
  },
  {
   "cell_type": "code",
   "execution_count": 515,
   "id": "08955442-eed1-4e4a-953a-a082aa4b361c",
   "metadata": {
    "tags": []
   },
   "outputs": [
    {
     "data": {
      "text/plain": [
       "5"
      ]
     },
     "execution_count": 515,
     "metadata": {},
     "output_type": "execute_result"
    }
   ],
   "source": [
    "coordinates[:,2][44]"
   ]
  },
  {
   "cell_type": "code",
   "execution_count": 518,
   "id": "8a425726-1485-4d95-b1c8-11dd090d076c",
   "metadata": {
    "tags": []
   },
   "outputs": [
    {
     "data": {
      "text/plain": [
       "1-element Vector{Any}:\n",
       " 44"
      ]
     },
     "execution_count": 518,
     "metadata": {},
     "output_type": "execute_result"
    }
   ],
   "source": [
    "# Hangi site'lar yarı-çapı verilmiş daire içerisinde kontrol et\n",
    "center_x = findall( x -> x == imp_site, Latt)[1][1];center_y=findall( x -> x == imp_site, Latt)[1][2];radius=0+0.1\n",
    "x_coordinates = coordinates[:,1]\n",
    "y_coordinates = coordinates[:,2]\n",
    "function get_inner_sites(radius)\n",
    "    inner_sites = []\n",
    "    for i in 1:N\n",
    "        if (x_coordinates[i] - center_x)^2 + (y_coordinates[i] - center_y)^2 < radius^2\n",
    "            push!(inner_sites, i)\n",
    "        end\n",
    "    end\n",
    "    return inner_sites\n",
    "end\n",
    "get_inner_sites(radius)"
   ]
  },
  {
   "cell_type": "markdown",
   "id": "f41f7750-364e-46bf-924c-afd0554bb287",
   "metadata": {},
   "source": [
    "# Interpolation"
   ]
  },
  {
   "cell_type": "code",
   "execution_count": 415,
   "id": "71f20b1d-0f39-4f53-9d09-46340669996b",
   "metadata": {
    "tags": []
   },
   "outputs": [
    {
     "data": {
      "image/png": "[encoded data removed]"
     },
     "execution_count": 415,
     "metadata": {},
     "output_type": "execute_result"
    }
   ],
   "source": [
    "using CairoMakie\n",
    "\n",
    "fig = Figure()\n",
    "ax = Axis(fig[1,1], title=\"Average Density (Ground Degeneracy=$(Degeneracy))\", xlabel=\"X\", ylabel=\"Y\");\n",
    "\n",
    "hm = CairoMakie.heatmap!(avg_density|>transpose, interpolate=true)\n",
    "Colorbar(fig[1, 2], hm)\n",
    "\n",
    "x_coordinates = square_lattice(Nx,Ny)[2][:,1] .+ 1\n",
    "y_coordinates = square_lattice(Nx,Ny)[2][:,2] .+ 1\n",
    "CairoMakie.scatter!(y_coordinates, x_coordinates, color=:black, markersize=5)\n",
    "\n",
    "center_x = y_coordinates[imp_site]; center_y = x_coordinates[imp_site]\n",
    "CairoMakie.scatter!([center_x], [center_y], color=:red, markersize=10, marker =:star5)\n",
    "\n",
    "fig"
   ]
  },
  {
   "cell_type": "markdown",
   "id": "e6020113-9ce9-4cc8-b3a9-f21b90c05e3f",
   "metadata": {},
   "source": [
    "# $ Q_{\\rho}$"
   ]
  },
  {
   "cell_type": "markdown",
   "id": "07144b2b-cd05-49b1-a07c-8526f5cca214",
   "metadata": {},
   "source": [
    "<font size=\"4\">\n",
    "$Q_{\\rho} = \\sum_i \\left(<n_i>_{V=0}-<n_i>_{V \\neq 0} \\right)$\n",
    "</font>"
   ]
  },
  {
   "cell_type": "code",
   "execution_count": 253,
   "id": "7dfdb6e9-09fd-4a75-8053-97bf9867b7a4",
   "metadata": {
    "tags": []
   },
   "outputs": [
    {
     "data": {
      "text/plain": [
       "5-element Vector{Any}:\n",
       " 36\n",
       " 43\n",
       " 44\n",
       " 45\n",
       " 52"
      ]
     },
     "execution_count": 253,
     "metadata": {},
     "output_type": "execute_result"
    }
   ],
   "source": [
    "get_inner_sites(1+0.01)"
   ]
  },
  {
   "cell_type": "code",
   "execution_count": 245,
   "id": "5392d0d4-89b5-4f12-9eab-bf581fe87a2e",
   "metadata": {
    "tags": []
   },
   "outputs": [
    {
     "data": {
      "text/plain": [
       "0.3341426192095261"
      ]
     },
     "execution_count": 245,
     "metadata": {},
     "output_type": "execute_result"
    }
   ],
   "source": [
    "Q_rhoo = 0\n",
    "radiuss = 2+0.01\n",
    "for i in get_inner_sites(radiuss)\n",
    "     Q_rhoo += collect(Iterators.flatten((3/70 .- avg_density)))[i]\n",
    "end\n",
    "Q_rhoo"
   ]
  },
  {
   "cell_type": "code",
   "execution_count": 355,
   "id": "28c4a2e8-d015-4317-9474-1e419c6602ba",
   "metadata": {
    "tags": []
   },
   "outputs": [
    {
     "name": "stdout",
     "output_type": "stream",
     "text": [
      "Radius=2.01 => Q_rho= 0.18388493786824492"
     ]
    }
   ],
   "source": [
    "Q_rho = 0\n",
    "radius = 2+0.01\n",
    "for i in [35, 36, 37, 28, 44, 27, 29, 43, 45] #Bunlar hangi merkezli siteler ? ANLAMADIM!\n",
    "    Q_rho += collect(Iterators.flatten((3/70 .- avg_density|>transpose)))[i]\n",
    "    #3/70 => Latiste sadece 1 quasi varken ve boştayken\n",
    "    #avg_density_0 => Latiste iki boşta quasi varken\n",
    "end\n",
    "print(\"Radius=$(radius) => Q_rho= \",Q_rho)"
   ]
  },
  {
   "cell_type": "code",
   "execution_count": 354,
   "id": "e49e8faa-0f20-447f-839c-05fc759790ad",
   "metadata": {
    "tags": []
   },
   "outputs": [
    {
     "name": "stdout",
     "output_type": "stream",
     "text": [
      "Radius=2.01 => Q_rho= 0.2751006349796604"
     ]
    }
   ],
   "source": [
    "Q_rho = 0\n",
    "radius = 2+0.01\n",
    "for i in [35, 36, 37, 26, 46, 25, 27, 45, 47] #Bunlar hangi merkezli siteler ? ANLAMADIM!\n",
    "    Q_rho += collect(Iterators.flatten((3/70 .- avg_density|>transpose)))[i]\n",
    "    #3/70 => Latiste sadece 1 quasi varken ve boştayken\n",
    "    #avg_density_0 => Latiste iki boşta quasi varken\n",
    "end\n",
    "print(\"Radius=$(radius) => Q_rho= \",Q_rho)"
   ]
  },
  {
   "cell_type": "code",
   "execution_count": 183,
   "id": "2e5286d7-edaa-4b60-a507-563ac899c7c4",
   "metadata": {
    "tags": []
   },
   "outputs": [
    {
     "data": {
      "text/plain": [
       "7.725446280279761e-7"
      ]
     },
     "execution_count": 183,
     "metadata": {},
     "output_type": "execute_result"
    }
   ],
   "source": [
    "collect(Iterators.flatten((avg_density|>transpose)))[36]"
   ]
  },
  {
   "cell_type": "code",
   "execution_count": 255,
   "id": "077a4bb1-c304-4678-aa07-b4e09854a8e5",
   "metadata": {
    "tags": []
   },
   "outputs": [
    {
     "data": {
      "text/plain": [
       "7.725446280279761e-7"
      ]
     },
     "execution_count": 255,
     "metadata": {},
     "output_type": "execute_result"
    }
   ],
   "source": [
    "collect(Iterators.flatten((avg_density)))[44]"
   ]
  },
  {
   "cell_type": "code",
   "execution_count": 266,
   "id": "7eac3453-95f7-4a51-94e9-aaa1059de7a9",
   "metadata": {
    "tags": []
   },
   "outputs": [
    {
     "data": {
      "text/plain": [
       "80-element Vector{Int64}:\n",
       " 1\n",
       " 2\n",
       " 3\n",
       " 4\n",
       " 5\n",
       " 6\n",
       " 7\n",
       " 8\n",
       " 1\n",
       " 2\n",
       " 3\n",
       " 4\n",
       " 5\n",
       " ⋮\n",
       " 5\n",
       " 6\n",
       " 7\n",
       " 8\n",
       " 1\n",
       " 2\n",
       " 3\n",
       " 4\n",
       " 5\n",
       " 6\n",
       " 7\n",
       " 8"
      ]
     },
     "execution_count": 266,
     "metadata": {},
     "output_type": "execute_result"
    }
   ],
   "source": [
    "x_coordinates"
   ]
  },
  {
   "cell_type": "code",
   "execution_count": 289,
   "id": "07e3d2e1-8234-4071-900a-d4b264601599",
   "metadata": {
    "tags": []
   },
   "outputs": [
    {
     "data": {
      "image/svg+xml": [
       "<?xml version=\"1.0\" encoding=\"utf-8\"?>\n",
       "<svg xmlns=\"http://www.w3.org/2000/svg\" xmlns:xlink=\"http://www.w3.org/1999/xlink\" width=\"600\" height=\"400\" viewBox=\"0 0 2400 1600\">\n",
       "<defs>\n",
       "  <clipPath id=\"clip370\">\n",
       "    <rect x=\"0\" y=\"0\" width=\"2400\" height=\"1600\"/>\n",
       "  </clipPath>\n",
       "</defs>\n",
       "<path clip-path=\"url(#clip370)\" d=\"M0 1600 L2400 1600 L2400 0 L0 0  Z\" fill=\"#ffffff\" fill-rule=\"evenodd\" fill-opacity=\"1\"/>\n",
       "<defs>\n",
       "  <clipPath id=\"clip371\">\n",
       "    <rect x=\"480\" y=\"0\" width=\"1681\" height=\"1600\"/>\n",
       "  </clipPath>\n",
       "</defs>\n",
       "<path clip-path=\"url(#clip370)\" d=\"M138.959 1552.76 L2352.76 1552.76 L2352.76 113.552 L138.959 113.552  Z\" fill=\"#ffffff\" fill-rule=\"evenodd\" fill-opacity=\"1\"/>\n",
       "<defs>\n",
       "  <clipPath id=\"clip372\">\n",
       "    <rect x=\"138\" y=\"113\" width=\"2215\" height=\"1440\"/>\n",
       "  </clipPath>\n",
       "</defs>\n",
       "<polyline clip-path=\"url(#clip372)\" style=\"stroke:#000000; stroke-linecap:round; stroke-linejoin:round; stroke-width:2; stroke-opacity:0.1; fill:none\" points=\"499.969,113.552 499.969,1552.76 \"/>\n",
       "<polyline clip-path=\"url(#clip372)\" style=\"stroke:#000000; stroke-linecap:round; stroke-linejoin:round; stroke-width:2; stroke-opacity:0.1; fill:none\" points=\"1096.68,113.552 1096.68,1552.76 \"/>\n",
       "<polyline clip-path=\"url(#clip372)\" style=\"stroke:#000000; stroke-linecap:round; stroke-linejoin:round; stroke-width:2; stroke-opacity:0.1; fill:none\" points=\"1693.39,113.552 1693.39,1552.76 \"/>\n",
       "<polyline clip-path=\"url(#clip372)\" style=\"stroke:#000000; stroke-linecap:round; stroke-linejoin:round; stroke-width:2; stroke-opacity:0.1; fill:none\" points=\"2290.1,113.552 2290.1,1552.76 \"/>\n",
       "<polyline clip-path=\"url(#clip370)\" style=\"stroke:#000000; stroke-linecap:round; stroke-linejoin:round; stroke-width:4; stroke-opacity:1; fill:none\" points=\"138.959,113.552 2352.76,113.552 \"/>\n",
       "<polyline clip-path=\"url(#clip370)\" style=\"stroke:#000000; stroke-linecap:round; stroke-linejoin:round; stroke-width:4; stroke-opacity:1; fill:none\" points=\"499.969,113.552 499.969,132.45 \"/>\n",
       "<polyline clip-path=\"url(#clip370)\" style=\"stroke:#000000; stroke-linecap:round; stroke-linejoin:round; stroke-width:4; stroke-opacity:1; fill:none\" points=\"1096.68,113.552 1096.68,132.45 \"/>\n",
       "<polyline clip-path=\"url(#clip370)\" style=\"stroke:#000000; stroke-linecap:round; stroke-linejoin:round; stroke-width:4; stroke-opacity:1; fill:none\" points=\"1693.39,113.552 1693.39,132.45 \"/>\n",
       "<polyline clip-path=\"url(#clip370)\" style=\"stroke:#000000; stroke-linecap:round; stroke-linejoin:round; stroke-width:4; stroke-opacity:1; fill:none\" points=\"2290.1,113.552 2290.1,132.45 \"/>\n",
       "<path clip-path=\"url(#clip370)\" d=\"M494.622 81.777 L510.942 81.777 L510.942 85.7121 L488.997 85.7121 L488.997 81.777 Q491.659 79.0223 496.243 74.3927 Q500.849 69.74 502.03 68.3974 Q504.275 65.8743 505.155 64.1382 Q506.057 62.3789 506.057 60.6891 Q506.057 57.9345 504.113 56.1984 Q502.192 54.4623 499.09 54.4623 Q496.891 54.4623 494.437 55.2262 Q492.006 55.9901 489.229 57.541 L489.229 52.8188 Q492.053 51.6845 494.506 51.1058 Q496.96 50.5271 498.997 50.5271 Q504.368 50.5271 507.562 53.2123 Q510.756 55.8975 510.756 60.3882 Q510.756 62.5178 509.946 64.4391 Q509.159 66.3372 507.053 68.9298 Q506.474 69.6011 503.372 72.8187 Q500.27 76.0131 494.622 81.777 Z\" fill=\"#000000\" fill-rule=\"nonzero\" fill-opacity=\"1\" /><path clip-path=\"url(#clip370)\" d=\"M1099.69 55.2262 L1087.88 73.6752 L1099.69 73.6752 L1099.69 55.2262 M1098.46 51.1521 L1104.34 51.1521 L1104.34 73.6752 L1109.27 73.6752 L1109.27 77.564 L1104.34 77.564 L1104.34 85.7121 L1099.69 85.7121 L1099.69 77.564 L1084.09 77.564 L1084.09 73.0502 L1098.46 51.1521 Z\" fill=\"#000000\" fill-rule=\"nonzero\" fill-opacity=\"1\" /><path clip-path=\"url(#clip370)\" d=\"M1693.8 66.5687 Q1690.65 66.5687 1688.8 68.7215 Q1686.97 70.8742 1686.97 74.6242 Q1686.97 78.3511 1688.8 80.527 Q1690.65 82.6797 1693.8 82.6797 Q1696.94 82.6797 1698.77 80.527 Q1700.62 78.3511 1700.62 74.6242 Q1700.62 70.8742 1698.77 68.7215 Q1696.94 66.5687 1693.8 66.5687 M1703.08 51.916 L1703.08 56.1752 Q1701.32 55.3419 1699.51 54.9021 Q1697.73 54.4623 1695.97 54.4623 Q1691.34 54.4623 1688.89 57.5873 Q1686.46 60.7123 1686.11 67.0317 Q1687.48 65.0178 1689.54 63.953 Q1691.6 62.865 1694.07 62.865 Q1699.28 62.865 1702.29 66.0363 Q1705.32 69.1844 1705.32 74.6242 Q1705.32 79.9483 1702.18 83.1658 Q1699.03 86.3834 1693.8 86.3834 Q1687.8 86.3834 1684.63 81.8001 Q1681.46 77.1937 1681.46 68.4668 Q1681.46 60.2724 1685.35 55.4114 Q1689.24 50.5271 1695.79 50.5271 Q1697.55 50.5271 1699.33 50.8743 Q1701.13 51.2216 1703.08 51.916 Z\" fill=\"#000000\" fill-rule=\"nonzero\" fill-opacity=\"1\" /><path clip-path=\"url(#clip370)\" d=\"M2290.1 69.3002 Q2286.77 69.3002 2284.85 71.0826 Q2282.95 72.865 2282.95 75.99 Q2282.95 79.1149 2284.85 80.8973 Q2286.77 82.6797 2290.1 82.6797 Q2293.43 82.6797 2295.36 80.8973 Q2297.28 79.0918 2297.28 75.99 Q2297.28 72.865 2295.36 71.0826 Q2293.46 69.3002 2290.1 69.3002 M2285.43 67.3094 Q2282.42 66.5687 2280.73 64.5085 Q2279.06 62.4484 2279.06 59.4854 Q2279.06 55.3419 2282 52.9345 Q2284.96 50.5271 2290.1 50.5271 Q2295.26 50.5271 2298.2 52.9345 Q2301.14 55.3419 2301.14 59.4854 Q2301.14 62.4484 2299.45 64.5085 Q2297.79 66.5687 2294.8 67.3094 Q2298.18 68.0965 2300.05 70.3881 Q2301.95 72.6798 2301.95 75.99 Q2301.95 81.0131 2298.87 83.6982 Q2295.82 86.3834 2290.1 86.3834 Q2284.38 86.3834 2281.31 83.6982 Q2278.25 81.0131 2278.25 75.99 Q2278.25 72.6798 2280.15 70.3881 Q2282.05 68.0965 2285.43 67.3094 M2283.71 59.9252 Q2283.71 62.6104 2285.38 64.115 Q2287.07 65.6196 2290.1 65.6196 Q2293.11 65.6196 2294.8 64.115 Q2296.51 62.6104 2296.51 59.9252 Q2296.51 57.2401 2294.8 55.7354 Q2293.11 54.2308 2290.1 54.2308 Q2287.07 54.2308 2285.38 55.7354 Q2283.71 57.2401 2283.71 59.9252 Z\" fill=\"#000000\" fill-rule=\"nonzero\" fill-opacity=\"1\" /><polyline clip-path=\"url(#clip372)\" style=\"stroke:#000000; stroke-linecap:round; stroke-linejoin:round; stroke-width:2; stroke-opacity:0.1; fill:none\" points=\"138.959,305.144 2352.76,305.144 \"/>\n",
       "<polyline clip-path=\"url(#clip372)\" style=\"stroke:#000000; stroke-linecap:round; stroke-linejoin:round; stroke-width:2; stroke-opacity:0.1; fill:none\" points=\"138.959,606.864 2352.76,606.864 \"/>\n",
       "<polyline clip-path=\"url(#clip372)\" style=\"stroke:#000000; stroke-linecap:round; stroke-linejoin:round; stroke-width:2; stroke-opacity:0.1; fill:none\" points=\"138.959,908.584 2352.76,908.584 \"/>\n",
       "<polyline clip-path=\"url(#clip372)\" style=\"stroke:#000000; stroke-linecap:round; stroke-linejoin:round; stroke-width:2; stroke-opacity:0.1; fill:none\" points=\"138.959,1210.3 2352.76,1210.3 \"/>\n",
       "<polyline clip-path=\"url(#clip372)\" style=\"stroke:#000000; stroke-linecap:round; stroke-linejoin:round; stroke-width:2; stroke-opacity:0.1; fill:none\" points=\"138.959,1512.02 2352.76,1512.02 \"/>\n",
       "<polyline clip-path=\"url(#clip370)\" style=\"stroke:#000000; stroke-linecap:round; stroke-linejoin:round; stroke-width:4; stroke-opacity:1; fill:none\" points=\"138.959,113.552 138.959,1552.76 \"/>\n",
       "<polyline clip-path=\"url(#clip370)\" style=\"stroke:#000000; stroke-linecap:round; stroke-linejoin:round; stroke-width:4; stroke-opacity:1; fill:none\" points=\"138.959,305.144 157.857,305.144 \"/>\n",
       "<polyline clip-path=\"url(#clip370)\" style=\"stroke:#000000; stroke-linecap:round; stroke-linejoin:round; stroke-width:4; stroke-opacity:1; fill:none\" points=\"138.959,606.864 157.857,606.864 \"/>\n",
       "<polyline clip-path=\"url(#clip370)\" style=\"stroke:#000000; stroke-linecap:round; stroke-linejoin:round; stroke-width:4; stroke-opacity:1; fill:none\" points=\"138.959,908.584 157.857,908.584 \"/>\n",
       "<polyline clip-path=\"url(#clip370)\" style=\"stroke:#000000; stroke-linecap:round; stroke-linejoin:round; stroke-width:4; stroke-opacity:1; fill:none\" points=\"138.959,1210.3 157.857,1210.3 \"/>\n",
       "<polyline clip-path=\"url(#clip370)\" style=\"stroke:#000000; stroke-linecap:round; stroke-linejoin:round; stroke-width:4; stroke-opacity:1; fill:none\" points=\"138.959,1512.02 157.857,1512.02 \"/>\n",
       "<path clip-path=\"url(#clip370)\" d=\"M86.6401 318.489 L102.959 318.489 L102.959 322.424 L81.0151 322.424 L81.0151 318.489 Q83.6771 315.734 88.2604 311.105 Q92.8669 306.452 94.0475 305.11 Q96.2928 302.586 97.1724 300.85 Q98.0752 299.091 98.0752 297.401 Q98.0752 294.647 96.1308 292.911 Q94.2095 291.174 91.1077 291.174 Q88.9086 291.174 86.4549 291.938 Q84.0244 292.702 81.2466 294.253 L81.2466 289.531 Q84.0707 288.397 86.5243 287.818 Q88.978 287.239 91.0151 287.239 Q96.3854 287.239 99.5798 289.924 Q102.774 292.61 102.774 297.1 Q102.774 299.23 101.964 301.151 Q101.177 303.049 99.0706 305.642 Q98.4919 306.313 95.39 309.531 Q92.2882 312.725 86.6401 318.489 Z\" fill=\"#000000\" fill-rule=\"nonzero\" fill-opacity=\"1\" /><path clip-path=\"url(#clip370)\" d=\"M93.3762 593.658 L81.5707 612.107 L93.3762 612.107 L93.3762 593.658 M92.1493 589.584 L98.0289 589.584 L98.0289 612.107 L102.959 612.107 L102.959 615.996 L98.0289 615.996 L98.0289 624.144 L93.3762 624.144 L93.3762 615.996 L77.7744 615.996 L77.7744 611.482 L92.1493 589.584 Z\" fill=\"#000000\" fill-rule=\"nonzero\" fill-opacity=\"1\" /><path clip-path=\"url(#clip370)\" d=\"M91.4317 906.721 Q88.2836 906.721 86.4318 908.873 Q84.6031 911.026 84.6031 914.776 Q84.6031 918.503 86.4318 920.679 Q88.2836 922.832 91.4317 922.832 Q94.5799 922.832 96.4085 920.679 Q98.2604 918.503 98.2604 914.776 Q98.2604 911.026 96.4085 908.873 Q94.5799 906.721 91.4317 906.721 M100.714 892.068 L100.714 896.327 Q98.9548 895.494 97.1493 895.054 Q95.3669 894.614 93.6076 894.614 Q88.978 894.614 86.5243 897.739 Q84.0938 900.864 83.7466 907.184 Q85.1123 905.17 87.1725 904.105 Q89.2327 903.017 91.7095 903.017 Q96.9178 903.017 99.927 906.188 Q102.959 909.336 102.959 914.776 Q102.959 920.1 99.8113 923.318 Q96.6632 926.535 91.4317 926.535 Q85.4364 926.535 82.2651 921.952 Q79.0938 917.346 79.0938 908.619 Q79.0938 900.424 82.9827 895.563 Q86.8716 890.679 93.4225 890.679 Q95.1817 890.679 96.9641 891.026 Q98.7696 891.373 100.714 892.068 Z\" fill=\"#000000\" fill-rule=\"nonzero\" fill-opacity=\"1\" /><path clip-path=\"url(#clip370)\" d=\"M91.1077 1211.17 Q87.7743 1211.17 85.8531 1212.95 Q83.9549 1214.74 83.9549 1217.86 Q83.9549 1220.99 85.8531 1222.77 Q87.7743 1224.55 91.1077 1224.55 Q94.441 1224.55 96.3623 1222.77 Q98.2835 1220.96 98.2835 1217.86 Q98.2835 1214.74 96.3623 1212.95 Q94.4641 1211.17 91.1077 1211.17 M86.4318 1209.18 Q83.4225 1208.44 81.7327 1206.38 Q80.066 1204.32 80.066 1201.36 Q80.066 1197.21 83.0058 1194.81 Q85.9688 1192.4 91.1077 1192.4 Q96.2697 1192.4 99.2095 1194.81 Q102.149 1197.21 102.149 1201.36 Q102.149 1204.32 100.459 1206.38 Q98.7928 1208.44 95.8067 1209.18 Q99.1863 1209.97 101.061 1212.26 Q102.959 1214.55 102.959 1217.86 Q102.959 1222.88 99.8808 1225.57 Q96.8252 1228.26 91.1077 1228.26 Q85.3901 1228.26 82.3114 1225.57 Q79.2559 1222.88 79.2559 1217.86 Q79.2559 1214.55 81.154 1212.26 Q83.0521 1209.97 86.4318 1209.18 M84.7188 1201.8 Q84.7188 1204.48 86.3855 1205.99 Q88.0753 1207.49 91.1077 1207.49 Q94.1169 1207.49 95.8067 1205.99 Q97.5197 1204.48 97.5197 1201.8 Q97.5197 1199.11 95.8067 1197.61 Q94.1169 1196.1 91.1077 1196.1 Q88.0753 1196.1 86.3855 1197.61 Q84.7188 1199.11 84.7188 1201.8 Z\" fill=\"#000000\" fill-rule=\"nonzero\" fill-opacity=\"1\" /><path clip-path=\"url(#clip370)\" d=\"M51.6634 1525.37 L59.3023 1525.37 L59.3023 1499 L50.9921 1500.67 L50.9921 1496.41 L59.256 1494.74 L63.9319 1494.74 L63.9319 1525.37 L71.5707 1525.37 L71.5707 1529.3 L51.6634 1529.3 L51.6634 1525.37 Z\" fill=\"#000000\" fill-rule=\"nonzero\" fill-opacity=\"1\" /><path clip-path=\"url(#clip370)\" d=\"M91.0151 1497.82 Q87.404 1497.82 85.5753 1501.39 Q83.7697 1504.93 83.7697 1512.06 Q83.7697 1519.16 85.5753 1522.73 Q87.404 1526.27 91.0151 1526.27 Q94.6493 1526.27 96.4548 1522.73 Q98.2835 1519.16 98.2835 1512.06 Q98.2835 1504.93 96.4548 1501.39 Q94.6493 1497.82 91.0151 1497.82 M91.0151 1494.12 Q96.8252 1494.12 99.8808 1498.73 Q102.959 1503.31 102.959 1512.06 Q102.959 1520.79 99.8808 1525.39 Q96.8252 1529.98 91.0151 1529.98 Q85.2049 1529.98 82.1262 1525.39 Q79.0707 1520.79 79.0707 1512.06 Q79.0707 1503.31 82.1262 1498.73 Q85.2049 1494.12 91.0151 1494.12 Z\" fill=\"#000000\" fill-rule=\"nonzero\" fill-opacity=\"1\" /><circle clip-path=\"url(#clip372)\" cx=\"201.614\" cy=\"154.284\" r=\"14.4\" fill=\"#009af9\" fill-rule=\"evenodd\" fill-opacity=\"1\" stroke=\"#000000\" stroke-opacity=\"1\" stroke-width=\"3.2\"/>\n",
       "<circle clip-path=\"url(#clip372)\" cx=\"499.969\" cy=\"154.284\" r=\"14.4\" fill=\"#009af9\" fill-rule=\"evenodd\" fill-opacity=\"1\" stroke=\"#000000\" stroke-opacity=\"1\" stroke-width=\"3.2\"/>\n",
       "<circle clip-path=\"url(#clip372)\" cx=\"798.325\" cy=\"154.284\" r=\"14.4\" fill=\"#009af9\" fill-rule=\"evenodd\" fill-opacity=\"1\" stroke=\"#000000\" stroke-opacity=\"1\" stroke-width=\"3.2\"/>\n",
       "<circle clip-path=\"url(#clip372)\" cx=\"1096.68\" cy=\"154.284\" r=\"14.4\" fill=\"#009af9\" fill-rule=\"evenodd\" fill-opacity=\"1\" stroke=\"#000000\" stroke-opacity=\"1\" stroke-width=\"3.2\"/>\n",
       "<circle clip-path=\"url(#clip372)\" cx=\"1395.04\" cy=\"154.284\" r=\"14.4\" fill=\"#009af9\" fill-rule=\"evenodd\" fill-opacity=\"1\" stroke=\"#000000\" stroke-opacity=\"1\" stroke-width=\"3.2\"/>\n",
       "<circle clip-path=\"url(#clip372)\" cx=\"1693.39\" cy=\"154.284\" r=\"14.4\" fill=\"#009af9\" fill-rule=\"evenodd\" fill-opacity=\"1\" stroke=\"#000000\" stroke-opacity=\"1\" stroke-width=\"3.2\"/>\n",
       "<circle clip-path=\"url(#clip372)\" cx=\"1991.75\" cy=\"154.284\" r=\"14.4\" fill=\"#009af9\" fill-rule=\"evenodd\" fill-opacity=\"1\" stroke=\"#000000\" stroke-opacity=\"1\" stroke-width=\"3.2\"/>\n",
       "<circle clip-path=\"url(#clip372)\" cx=\"2290.1\" cy=\"154.284\" r=\"14.4\" fill=\"#009af9\" fill-rule=\"evenodd\" fill-opacity=\"1\" stroke=\"#000000\" stroke-opacity=\"1\" stroke-width=\"3.2\"/>\n",
       "<circle clip-path=\"url(#clip372)\" cx=\"201.614\" cy=\"305.144\" r=\"14.4\" fill=\"#009af9\" fill-rule=\"evenodd\" fill-opacity=\"1\" stroke=\"#000000\" stroke-opacity=\"1\" stroke-width=\"3.2\"/>\n",
       "<circle clip-path=\"url(#clip372)\" cx=\"499.969\" cy=\"305.144\" r=\"14.4\" fill=\"#009af9\" fill-rule=\"evenodd\" fill-opacity=\"1\" stroke=\"#000000\" stroke-opacity=\"1\" stroke-width=\"3.2\"/>\n",
       "<circle clip-path=\"url(#clip372)\" cx=\"798.325\" cy=\"305.144\" r=\"14.4\" fill=\"#009af9\" fill-rule=\"evenodd\" fill-opacity=\"1\" stroke=\"#000000\" stroke-opacity=\"1\" stroke-width=\"3.2\"/>\n",
       "<circle clip-path=\"url(#clip372)\" cx=\"1096.68\" cy=\"305.144\" r=\"14.4\" fill=\"#009af9\" fill-rule=\"evenodd\" fill-opacity=\"1\" stroke=\"#000000\" stroke-opacity=\"1\" stroke-width=\"3.2\"/>\n",
       "<circle clip-path=\"url(#clip372)\" cx=\"1395.04\" cy=\"305.144\" r=\"14.4\" fill=\"#009af9\" fill-rule=\"evenodd\" fill-opacity=\"1\" stroke=\"#000000\" stroke-opacity=\"1\" stroke-width=\"3.2\"/>\n",
       "<circle clip-path=\"url(#clip372)\" cx=\"1693.39\" cy=\"305.144\" r=\"14.4\" fill=\"#009af9\" fill-rule=\"evenodd\" fill-opacity=\"1\" stroke=\"#000000\" stroke-opacity=\"1\" stroke-width=\"3.2\"/>\n",
       "<circle clip-path=\"url(#clip372)\" cx=\"1991.75\" cy=\"305.144\" r=\"14.4\" fill=\"#009af9\" fill-rule=\"evenodd\" fill-opacity=\"1\" stroke=\"#000000\" stroke-opacity=\"1\" stroke-width=\"3.2\"/>\n",
       "<circle clip-path=\"url(#clip372)\" cx=\"2290.1\" cy=\"305.144\" r=\"14.4\" fill=\"#009af9\" fill-rule=\"evenodd\" fill-opacity=\"1\" stroke=\"#000000\" stroke-opacity=\"1\" stroke-width=\"3.2\"/>\n",
       "<circle clip-path=\"url(#clip372)\" cx=\"201.614\" cy=\"456.004\" r=\"14.4\" fill=\"#009af9\" fill-rule=\"evenodd\" fill-opacity=\"1\" stroke=\"#000000\" stroke-opacity=\"1\" stroke-width=\"3.2\"/>\n",
       "<circle clip-path=\"url(#clip372)\" cx=\"499.969\" cy=\"456.004\" r=\"14.4\" fill=\"#009af9\" fill-rule=\"evenodd\" fill-opacity=\"1\" stroke=\"#000000\" stroke-opacity=\"1\" stroke-width=\"3.2\"/>\n",
       "<circle clip-path=\"url(#clip372)\" cx=\"798.325\" cy=\"456.004\" r=\"14.4\" fill=\"#009af9\" fill-rule=\"evenodd\" fill-opacity=\"1\" stroke=\"#000000\" stroke-opacity=\"1\" stroke-width=\"3.2\"/>\n",
       "<circle clip-path=\"url(#clip372)\" cx=\"1096.68\" cy=\"456.004\" r=\"14.4\" fill=\"#009af9\" fill-rule=\"evenodd\" fill-opacity=\"1\" stroke=\"#000000\" stroke-opacity=\"1\" stroke-width=\"3.2\"/>\n",
       "<circle clip-path=\"url(#clip372)\" cx=\"1395.04\" cy=\"456.004\" r=\"14.4\" fill=\"#009af9\" fill-rule=\"evenodd\" fill-opacity=\"1\" stroke=\"#000000\" stroke-opacity=\"1\" stroke-width=\"3.2\"/>\n",
       "<circle clip-path=\"url(#clip372)\" cx=\"1693.39\" cy=\"456.004\" r=\"14.4\" fill=\"#009af9\" fill-rule=\"evenodd\" fill-opacity=\"1\" stroke=\"#000000\" stroke-opacity=\"1\" stroke-width=\"3.2\"/>\n",
       "<circle clip-path=\"url(#clip372)\" cx=\"1991.75\" cy=\"456.004\" r=\"14.4\" fill=\"#009af9\" fill-rule=\"evenodd\" fill-opacity=\"1\" stroke=\"#000000\" stroke-opacity=\"1\" stroke-width=\"3.2\"/>\n",
       "<circle clip-path=\"url(#clip372)\" cx=\"2290.1\" cy=\"456.004\" r=\"14.4\" fill=\"#009af9\" fill-rule=\"evenodd\" fill-opacity=\"1\" stroke=\"#000000\" stroke-opacity=\"1\" stroke-width=\"3.2\"/>\n",
       "<circle clip-path=\"url(#clip372)\" cx=\"201.614\" cy=\"606.864\" r=\"14.4\" fill=\"#009af9\" fill-rule=\"evenodd\" fill-opacity=\"1\" stroke=\"#000000\" stroke-opacity=\"1\" stroke-width=\"3.2\"/>\n",
       "<circle clip-path=\"url(#clip372)\" cx=\"499.969\" cy=\"606.864\" r=\"14.4\" fill=\"#009af9\" fill-rule=\"evenodd\" fill-opacity=\"1\" stroke=\"#000000\" stroke-opacity=\"1\" stroke-width=\"3.2\"/>\n",
       "<circle clip-path=\"url(#clip372)\" cx=\"798.325\" cy=\"606.864\" r=\"14.4\" fill=\"#009af9\" fill-rule=\"evenodd\" fill-opacity=\"1\" stroke=\"#000000\" stroke-opacity=\"1\" stroke-width=\"3.2\"/>\n",
       "<circle clip-path=\"url(#clip372)\" cx=\"1096.68\" cy=\"606.864\" r=\"14.4\" fill=\"#009af9\" fill-rule=\"evenodd\" fill-opacity=\"1\" stroke=\"#000000\" stroke-opacity=\"1\" stroke-width=\"3.2\"/>\n",
       "<circle clip-path=\"url(#clip372)\" cx=\"1395.04\" cy=\"606.864\" r=\"14.4\" fill=\"#009af9\" fill-rule=\"evenodd\" fill-opacity=\"1\" stroke=\"#000000\" stroke-opacity=\"1\" stroke-width=\"3.2\"/>\n",
       "<circle clip-path=\"url(#clip372)\" cx=\"1693.39\" cy=\"606.864\" r=\"14.4\" fill=\"#009af9\" fill-rule=\"evenodd\" fill-opacity=\"1\" stroke=\"#000000\" stroke-opacity=\"1\" stroke-width=\"3.2\"/>\n",
       "<circle clip-path=\"url(#clip372)\" cx=\"1991.75\" cy=\"606.864\" r=\"14.4\" fill=\"#009af9\" fill-rule=\"evenodd\" fill-opacity=\"1\" stroke=\"#000000\" stroke-opacity=\"1\" stroke-width=\"3.2\"/>\n",
       "<circle clip-path=\"url(#clip372)\" cx=\"2290.1\" cy=\"606.864\" r=\"14.4\" fill=\"#009af9\" fill-rule=\"evenodd\" fill-opacity=\"1\" stroke=\"#000000\" stroke-opacity=\"1\" stroke-width=\"3.2\"/>\n",
       "<circle clip-path=\"url(#clip372)\" cx=\"201.614\" cy=\"757.724\" r=\"14.4\" fill=\"#009af9\" fill-rule=\"evenodd\" fill-opacity=\"1\" stroke=\"#000000\" stroke-opacity=\"1\" stroke-width=\"3.2\"/>\n",
       "<circle clip-path=\"url(#clip372)\" cx=\"499.969\" cy=\"757.724\" r=\"14.4\" fill=\"#009af9\" fill-rule=\"evenodd\" fill-opacity=\"1\" stroke=\"#000000\" stroke-opacity=\"1\" stroke-width=\"3.2\"/>\n",
       "<circle clip-path=\"url(#clip372)\" cx=\"798.325\" cy=\"757.724\" r=\"14.4\" fill=\"#009af9\" fill-rule=\"evenodd\" fill-opacity=\"1\" stroke=\"#000000\" stroke-opacity=\"1\" stroke-width=\"3.2\"/>\n",
       "<circle clip-path=\"url(#clip372)\" cx=\"1096.68\" cy=\"757.724\" r=\"14.4\" fill=\"#009af9\" fill-rule=\"evenodd\" fill-opacity=\"1\" stroke=\"#000000\" stroke-opacity=\"1\" stroke-width=\"3.2\"/>\n",
       "<circle clip-path=\"url(#clip372)\" cx=\"1395.04\" cy=\"757.724\" r=\"14.4\" fill=\"#009af9\" fill-rule=\"evenodd\" fill-opacity=\"1\" stroke=\"#000000\" stroke-opacity=\"1\" stroke-width=\"3.2\"/>\n",
       "<circle clip-path=\"url(#clip372)\" cx=\"1693.39\" cy=\"757.724\" r=\"14.4\" fill=\"#009af9\" fill-rule=\"evenodd\" fill-opacity=\"1\" stroke=\"#000000\" stroke-opacity=\"1\" stroke-width=\"3.2\"/>\n",
       "<circle clip-path=\"url(#clip372)\" cx=\"1991.75\" cy=\"757.724\" r=\"14.4\" fill=\"#009af9\" fill-rule=\"evenodd\" fill-opacity=\"1\" stroke=\"#000000\" stroke-opacity=\"1\" stroke-width=\"3.2\"/>\n",
       "<circle clip-path=\"url(#clip372)\" cx=\"2290.1\" cy=\"757.724\" r=\"14.4\" fill=\"#009af9\" fill-rule=\"evenodd\" fill-opacity=\"1\" stroke=\"#000000\" stroke-opacity=\"1\" stroke-width=\"3.2\"/>\n",
       "<circle clip-path=\"url(#clip372)\" cx=\"201.614\" cy=\"908.584\" r=\"14.4\" fill=\"#009af9\" fill-rule=\"evenodd\" fill-opacity=\"1\" stroke=\"#000000\" stroke-opacity=\"1\" stroke-width=\"3.2\"/>\n",
       "<circle clip-path=\"url(#clip372)\" cx=\"499.969\" cy=\"908.584\" r=\"14.4\" fill=\"#009af9\" fill-rule=\"evenodd\" fill-opacity=\"1\" stroke=\"#000000\" stroke-opacity=\"1\" stroke-width=\"3.2\"/>\n",
       "<circle clip-path=\"url(#clip372)\" cx=\"798.325\" cy=\"908.584\" r=\"14.4\" fill=\"#009af9\" fill-rule=\"evenodd\" fill-opacity=\"1\" stroke=\"#000000\" stroke-opacity=\"1\" stroke-width=\"3.2\"/>\n",
       "<circle clip-path=\"url(#clip372)\" cx=\"1096.68\" cy=\"908.584\" r=\"14.4\" fill=\"#009af9\" fill-rule=\"evenodd\" fill-opacity=\"1\" stroke=\"#000000\" stroke-opacity=\"1\" stroke-width=\"3.2\"/>\n",
       "<circle clip-path=\"url(#clip372)\" cx=\"1395.04\" cy=\"908.584\" r=\"14.4\" fill=\"#009af9\" fill-rule=\"evenodd\" fill-opacity=\"1\" stroke=\"#000000\" stroke-opacity=\"1\" stroke-width=\"3.2\"/>\n",
       "<circle clip-path=\"url(#clip372)\" cx=\"1693.39\" cy=\"908.584\" r=\"14.4\" fill=\"#009af9\" fill-rule=\"evenodd\" fill-opacity=\"1\" stroke=\"#000000\" stroke-opacity=\"1\" stroke-width=\"3.2\"/>\n",
       "<circle clip-path=\"url(#clip372)\" cx=\"1991.75\" cy=\"908.584\" r=\"14.4\" fill=\"#009af9\" fill-rule=\"evenodd\" fill-opacity=\"1\" stroke=\"#000000\" stroke-opacity=\"1\" stroke-width=\"3.2\"/>\n",
       "<circle clip-path=\"url(#clip372)\" cx=\"2290.1\" cy=\"908.584\" r=\"14.4\" fill=\"#009af9\" fill-rule=\"evenodd\" fill-opacity=\"1\" stroke=\"#000000\" stroke-opacity=\"1\" stroke-width=\"3.2\"/>\n",
       "<circle clip-path=\"url(#clip372)\" cx=\"201.614\" cy=\"1059.44\" r=\"14.4\" fill=\"#009af9\" fill-rule=\"evenodd\" fill-opacity=\"1\" stroke=\"#000000\" stroke-opacity=\"1\" stroke-width=\"3.2\"/>\n",
       "<circle clip-path=\"url(#clip372)\" cx=\"499.969\" cy=\"1059.44\" r=\"14.4\" fill=\"#009af9\" fill-rule=\"evenodd\" fill-opacity=\"1\" stroke=\"#000000\" stroke-opacity=\"1\" stroke-width=\"3.2\"/>\n",
       "<circle clip-path=\"url(#clip372)\" cx=\"798.325\" cy=\"1059.44\" r=\"14.4\" fill=\"#009af9\" fill-rule=\"evenodd\" fill-opacity=\"1\" stroke=\"#000000\" stroke-opacity=\"1\" stroke-width=\"3.2\"/>\n",
       "<circle clip-path=\"url(#clip372)\" cx=\"1096.68\" cy=\"1059.44\" r=\"14.4\" fill=\"#009af9\" fill-rule=\"evenodd\" fill-opacity=\"1\" stroke=\"#000000\" stroke-opacity=\"1\" stroke-width=\"3.2\"/>\n",
       "<circle clip-path=\"url(#clip372)\" cx=\"1395.04\" cy=\"1059.44\" r=\"14.4\" fill=\"#009af9\" fill-rule=\"evenodd\" fill-opacity=\"1\" stroke=\"#000000\" stroke-opacity=\"1\" stroke-width=\"3.2\"/>\n",
       "<circle clip-path=\"url(#clip372)\" cx=\"1693.39\" cy=\"1059.44\" r=\"14.4\" fill=\"#009af9\" fill-rule=\"evenodd\" fill-opacity=\"1\" stroke=\"#000000\" stroke-opacity=\"1\" stroke-width=\"3.2\"/>\n",
       "<circle clip-path=\"url(#clip372)\" cx=\"1991.75\" cy=\"1059.44\" r=\"14.4\" fill=\"#009af9\" fill-rule=\"evenodd\" fill-opacity=\"1\" stroke=\"#000000\" stroke-opacity=\"1\" stroke-width=\"3.2\"/>\n",
       "<circle clip-path=\"url(#clip372)\" cx=\"2290.1\" cy=\"1059.44\" r=\"14.4\" fill=\"#009af9\" fill-rule=\"evenodd\" fill-opacity=\"1\" stroke=\"#000000\" stroke-opacity=\"1\" stroke-width=\"3.2\"/>\n",
       "<circle clip-path=\"url(#clip372)\" cx=\"201.614\" cy=\"1210.3\" r=\"14.4\" fill=\"#009af9\" fill-rule=\"evenodd\" fill-opacity=\"1\" stroke=\"#000000\" stroke-opacity=\"1\" stroke-width=\"3.2\"/>\n",
       "<circle clip-path=\"url(#clip372)\" cx=\"499.969\" cy=\"1210.3\" r=\"14.4\" fill=\"#009af9\" fill-rule=\"evenodd\" fill-opacity=\"1\" stroke=\"#000000\" stroke-opacity=\"1\" stroke-width=\"3.2\"/>\n",
       "<circle clip-path=\"url(#clip372)\" cx=\"798.325\" cy=\"1210.3\" r=\"14.4\" fill=\"#009af9\" fill-rule=\"evenodd\" fill-opacity=\"1\" stroke=\"#000000\" stroke-opacity=\"1\" stroke-width=\"3.2\"/>\n",
       "<circle clip-path=\"url(#clip372)\" cx=\"1096.68\" cy=\"1210.3\" r=\"14.4\" fill=\"#009af9\" fill-rule=\"evenodd\" fill-opacity=\"1\" stroke=\"#000000\" stroke-opacity=\"1\" stroke-width=\"3.2\"/>\n",
       "<circle clip-path=\"url(#clip372)\" cx=\"1395.04\" cy=\"1210.3\" r=\"14.4\" fill=\"#009af9\" fill-rule=\"evenodd\" fill-opacity=\"1\" stroke=\"#000000\" stroke-opacity=\"1\" stroke-width=\"3.2\"/>\n",
       "<circle clip-path=\"url(#clip372)\" cx=\"1693.39\" cy=\"1210.3\" r=\"14.4\" fill=\"#009af9\" fill-rule=\"evenodd\" fill-opacity=\"1\" stroke=\"#000000\" stroke-opacity=\"1\" stroke-width=\"3.2\"/>\n",
       "<circle clip-path=\"url(#clip372)\" cx=\"1991.75\" cy=\"1210.3\" r=\"14.4\" fill=\"#009af9\" fill-rule=\"evenodd\" fill-opacity=\"1\" stroke=\"#000000\" stroke-opacity=\"1\" stroke-width=\"3.2\"/>\n",
       "<circle clip-path=\"url(#clip372)\" cx=\"2290.1\" cy=\"1210.3\" r=\"14.4\" fill=\"#009af9\" fill-rule=\"evenodd\" fill-opacity=\"1\" stroke=\"#000000\" stroke-opacity=\"1\" stroke-width=\"3.2\"/>\n",
       "<circle clip-path=\"url(#clip372)\" cx=\"201.614\" cy=\"1361.16\" r=\"14.4\" fill=\"#009af9\" fill-rule=\"evenodd\" fill-opacity=\"1\" stroke=\"#000000\" stroke-opacity=\"1\" stroke-width=\"3.2\"/>\n",
       "<circle clip-path=\"url(#clip372)\" cx=\"499.969\" cy=\"1361.16\" r=\"14.4\" fill=\"#009af9\" fill-rule=\"evenodd\" fill-opacity=\"1\" stroke=\"#000000\" stroke-opacity=\"1\" stroke-width=\"3.2\"/>\n",
       "<circle clip-path=\"url(#clip372)\" cx=\"798.325\" cy=\"1361.16\" r=\"14.4\" fill=\"#009af9\" fill-rule=\"evenodd\" fill-opacity=\"1\" stroke=\"#000000\" stroke-opacity=\"1\" stroke-width=\"3.2\"/>\n",
       "<circle clip-path=\"url(#clip372)\" cx=\"1096.68\" cy=\"1361.16\" r=\"14.4\" fill=\"#009af9\" fill-rule=\"evenodd\" fill-opacity=\"1\" stroke=\"#000000\" stroke-opacity=\"1\" stroke-width=\"3.2\"/>\n",
       "<circle clip-path=\"url(#clip372)\" cx=\"1395.04\" cy=\"1361.16\" r=\"14.4\" fill=\"#009af9\" fill-rule=\"evenodd\" fill-opacity=\"1\" stroke=\"#000000\" stroke-opacity=\"1\" stroke-width=\"3.2\"/>\n",
       "<circle clip-path=\"url(#clip372)\" cx=\"1693.39\" cy=\"1361.16\" r=\"14.4\" fill=\"#009af9\" fill-rule=\"evenodd\" fill-opacity=\"1\" stroke=\"#000000\" stroke-opacity=\"1\" stroke-width=\"3.2\"/>\n",
       "<circle clip-path=\"url(#clip372)\" cx=\"1991.75\" cy=\"1361.16\" r=\"14.4\" fill=\"#009af9\" fill-rule=\"evenodd\" fill-opacity=\"1\" stroke=\"#000000\" stroke-opacity=\"1\" stroke-width=\"3.2\"/>\n",
       "<circle clip-path=\"url(#clip372)\" cx=\"2290.1\" cy=\"1361.16\" r=\"14.4\" fill=\"#009af9\" fill-rule=\"evenodd\" fill-opacity=\"1\" stroke=\"#000000\" stroke-opacity=\"1\" stroke-width=\"3.2\"/>\n",
       "<circle clip-path=\"url(#clip372)\" cx=\"201.614\" cy=\"1512.02\" r=\"14.4\" fill=\"#009af9\" fill-rule=\"evenodd\" fill-opacity=\"1\" stroke=\"#000000\" stroke-opacity=\"1\" stroke-width=\"3.2\"/>\n",
       "<circle clip-path=\"url(#clip372)\" cx=\"499.969\" cy=\"1512.02\" r=\"14.4\" fill=\"#009af9\" fill-rule=\"evenodd\" fill-opacity=\"1\" stroke=\"#000000\" stroke-opacity=\"1\" stroke-width=\"3.2\"/>\n",
       "<circle clip-path=\"url(#clip372)\" cx=\"798.325\" cy=\"1512.02\" r=\"14.4\" fill=\"#009af9\" fill-rule=\"evenodd\" fill-opacity=\"1\" stroke=\"#000000\" stroke-opacity=\"1\" stroke-width=\"3.2\"/>\n",
       "<circle clip-path=\"url(#clip372)\" cx=\"1096.68\" cy=\"1512.02\" r=\"14.4\" fill=\"#009af9\" fill-rule=\"evenodd\" fill-opacity=\"1\" stroke=\"#000000\" stroke-opacity=\"1\" stroke-width=\"3.2\"/>\n",
       "<circle clip-path=\"url(#clip372)\" cx=\"1395.04\" cy=\"1512.02\" r=\"14.4\" fill=\"#009af9\" fill-rule=\"evenodd\" fill-opacity=\"1\" stroke=\"#000000\" stroke-opacity=\"1\" stroke-width=\"3.2\"/>\n",
       "<circle clip-path=\"url(#clip372)\" cx=\"1693.39\" cy=\"1512.02\" r=\"14.4\" fill=\"#009af9\" fill-rule=\"evenodd\" fill-opacity=\"1\" stroke=\"#000000\" stroke-opacity=\"1\" stroke-width=\"3.2\"/>\n",
       "<circle clip-path=\"url(#clip372)\" cx=\"1991.75\" cy=\"1512.02\" r=\"14.4\" fill=\"#009af9\" fill-rule=\"evenodd\" fill-opacity=\"1\" stroke=\"#000000\" stroke-opacity=\"1\" stroke-width=\"3.2\"/>\n",
       "<circle clip-path=\"url(#clip372)\" cx=\"2290.1\" cy=\"1512.02\" r=\"14.4\" fill=\"#009af9\" fill-rule=\"evenodd\" fill-opacity=\"1\" stroke=\"#000000\" stroke-opacity=\"1\" stroke-width=\"3.2\"/>\n",
       "<path clip-path=\"url(#clip370)\" d=\"M184.783 219.974 L198.151 219.974 L198.151 173.834 L183.608 176.751 L183.608 169.297 L198.07 166.38 L206.252 166.38 L206.252 219.974 L219.62 219.974 L219.62 226.86 L184.783 226.86 L184.783 219.974 Z\" fill=\"#000000\" fill-rule=\"nonzero\" fill-opacity=\"1\" /><path clip-path=\"url(#clip370)\" d=\"M490.612 219.974 L519.171 219.974 L519.171 226.86 L480.768 226.86 L480.768 219.974 Q485.427 215.153 493.447 207.051 Q501.509 198.909 503.575 196.56 Q507.504 192.144 509.043 189.106 Q510.623 186.027 510.623 183.07 Q510.623 178.249 507.22 175.211 Q503.858 172.173 498.43 172.173 Q494.582 172.173 490.288 173.51 Q486.034 174.847 481.173 177.561 L481.173 169.297 Q486.115 167.312 490.409 166.299 Q494.703 165.287 498.268 165.287 Q507.666 165.287 513.256 169.986 Q518.847 174.685 518.847 182.543 Q518.847 186.27 517.429 189.632 Q516.051 192.954 512.365 197.491 Q511.352 198.666 505.924 204.297 Q500.496 209.887 490.612 219.974 Z\" fill=\"#000000\" fill-rule=\"nonzero\" fill-opacity=\"1\" /><path clip-path=\"url(#clip370)\" d=\"M805.758 194.251 Q811.632 195.506 814.913 199.476 Q818.235 203.446 818.235 209.279 Q818.235 218.232 812.078 223.133 Q805.92 228.035 794.578 228.035 Q790.77 228.035 786.719 227.265 Q782.708 226.536 778.415 225.037 L778.415 217.138 Q781.817 219.123 785.868 220.136 Q789.919 221.149 794.335 221.149 Q802.031 221.149 806.042 218.11 Q810.093 215.072 810.093 209.279 Q810.093 203.932 806.325 200.935 Q802.598 197.896 795.914 197.896 L788.866 197.896 L788.866 191.172 L796.238 191.172 Q802.274 191.172 805.475 188.782 Q808.675 186.351 808.675 181.814 Q808.675 177.156 805.353 174.685 Q802.072 172.173 795.914 172.173 Q792.552 172.173 788.704 172.902 Q784.855 173.631 780.237 175.171 L780.237 167.879 Q784.896 166.583 788.947 165.935 Q793.038 165.287 796.644 165.287 Q805.961 165.287 811.389 169.54 Q816.817 173.753 816.817 180.964 Q816.817 185.987 813.941 189.47 Q811.065 192.914 805.758 194.251 Z\" fill=\"#000000\" fill-rule=\"nonzero\" fill-opacity=\"1\" /><path clip-path=\"url(#clip370)\" d=\"M1101.95 173.51 L1081.29 205.796 L1101.95 205.796 L1101.95 173.51 M1099.8 166.38 L1110.09 166.38 L1110.09 205.796 L1118.72 205.796 L1118.72 212.601 L1110.09 212.601 L1110.09 226.86 L1101.95 226.86 L1101.95 212.601 L1074.64 212.601 L1074.64 204.702 L1099.8 166.38 Z\" fill=\"#000000\" fill-rule=\"nonzero\" fill-opacity=\"1\" /><path clip-path=\"url(#clip370)\" d=\"M1378.02 166.38 L1410.15 166.38 L1410.15 173.267 L1385.52 173.267 L1385.52 188.093 Q1387.3 187.486 1389.08 187.202 Q1390.86 186.878 1392.65 186.878 Q1402.77 186.878 1408.69 192.428 Q1414.6 197.977 1414.6 207.456 Q1414.6 217.219 1408.52 222.647 Q1402.45 228.035 1391.39 228.035 Q1387.58 228.035 1383.61 227.387 Q1379.68 226.739 1375.47 225.442 L1375.47 217.219 Q1379.12 219.204 1383 220.176 Q1386.89 221.149 1391.23 221.149 Q1398.24 221.149 1402.33 217.462 Q1406.42 213.776 1406.42 207.456 Q1406.42 201.137 1402.33 197.451 Q1398.24 193.764 1391.23 193.764 Q1387.95 193.764 1384.67 194.494 Q1381.42 195.223 1378.02 196.762 L1378.02 166.38 Z\" fill=\"#000000\" fill-rule=\"nonzero\" fill-opacity=\"1\" /><path clip-path=\"url(#clip370)\" d=\"M1694.1 193.359 Q1688.59 193.359 1685.35 197.127 Q1682.15 200.894 1682.15 207.456 Q1682.15 213.978 1685.35 217.786 Q1688.59 221.554 1694.1 221.554 Q1699.61 221.554 1702.81 217.786 Q1706.05 213.978 1706.05 207.456 Q1706.05 200.894 1702.81 197.127 Q1699.61 193.359 1694.1 193.359 M1710.34 167.717 L1710.34 175.171 Q1707.26 173.712 1704.11 172.943 Q1700.99 172.173 1697.91 172.173 Q1689.81 172.173 1685.51 177.642 Q1681.26 183.111 1680.65 194.17 Q1683.04 190.645 1686.65 188.782 Q1690.25 186.878 1694.59 186.878 Q1703.7 186.878 1708.97 192.428 Q1714.27 197.937 1714.27 207.456 Q1714.27 216.774 1708.76 222.404 Q1703.25 228.035 1694.1 228.035 Q1683.61 228.035 1678.06 220.014 Q1672.51 211.953 1672.51 196.681 Q1672.51 182.341 1679.31 173.834 Q1686.12 165.287 1697.58 165.287 Q1700.66 165.287 1703.78 165.894 Q1706.94 166.502 1710.34 167.717 Z\" fill=\"#000000\" fill-rule=\"nonzero\" fill-opacity=\"1\" /><path clip-path=\"url(#clip370)\" d=\"M1972.3 166.38 L2011.19 166.38 L2011.19 169.864 L1989.23 226.86 L1980.69 226.86 L2001.35 173.267 L1972.3 173.267 L1972.3 166.38 Z\" fill=\"#000000\" fill-rule=\"nonzero\" fill-opacity=\"1\" /><path clip-path=\"url(#clip370)\" d=\"M2290.1 198.139 Q2284.27 198.139 2280.91 201.259 Q2277.58 204.378 2277.58 209.847 Q2277.58 215.315 2280.91 218.434 Q2284.27 221.554 2290.1 221.554 Q2295.93 221.554 2299.3 218.434 Q2302.66 215.275 2302.66 209.847 Q2302.66 204.378 2299.3 201.259 Q2295.98 198.139 2290.1 198.139 M2281.92 194.656 Q2276.65 193.359 2273.7 189.754 Q2270.78 186.149 2270.78 180.964 Q2270.78 173.712 2275.92 169.5 Q2281.11 165.287 2290.1 165.287 Q2299.13 165.287 2304.28 169.5 Q2309.42 173.712 2309.42 180.964 Q2309.42 186.149 2306.47 189.754 Q2303.55 193.359 2298.32 194.656 Q2304.24 196.033 2307.52 200.043 Q2310.84 204.054 2310.84 209.847 Q2310.84 218.637 2305.45 223.336 Q2300.11 228.035 2290.1 228.035 Q2280.1 228.035 2274.71 223.336 Q2269.36 218.637 2269.36 209.847 Q2269.36 204.054 2272.68 200.043 Q2276 196.033 2281.92 194.656 M2278.92 181.733 Q2278.92 186.432 2281.84 189.065 Q2284.79 191.698 2290.1 191.698 Q2295.37 191.698 2298.32 189.065 Q2301.32 186.432 2301.32 181.733 Q2301.32 177.034 2298.32 174.401 Q2295.37 171.768 2290.1 171.768 Q2284.79 171.768 2281.84 174.401 Q2278.92 177.034 2278.92 181.733 Z\" fill=\"#000000\" fill-rule=\"nonzero\" fill-opacity=\"1\" /><path clip-path=\"url(#clip370)\" d=\"M184.641 376.464 L184.641 369.011 Q187.719 370.469 190.879 371.239 Q194.039 372.008 197.077 372.008 Q205.179 372.008 209.432 366.58 Q213.726 361.112 214.334 350.012 Q211.984 353.496 208.379 355.359 Q204.774 357.223 200.399 357.223 Q191.325 357.223 186.018 351.754 Q180.752 346.245 180.752 336.725 Q180.752 327.408 186.261 321.777 Q191.77 316.146 200.925 316.146 Q211.417 316.146 216.926 324.208 Q222.476 332.229 222.476 347.541 Q222.476 361.841 215.671 370.388 Q208.906 378.895 197.442 378.895 Q194.363 378.895 191.203 378.287 Q188.044 377.68 184.641 376.464 M200.925 350.822 Q206.435 350.822 209.635 347.055 Q212.876 343.288 212.876 336.725 Q212.876 330.203 209.635 326.436 Q206.435 322.628 200.925 322.628 Q195.416 322.628 192.175 326.436 Q188.975 330.203 188.975 336.725 Q188.975 343.288 192.175 347.055 Q195.416 350.822 200.925 350.822 Z\" fill=\"#000000\" fill-rule=\"nonzero\" fill-opacity=\"1\" /><path clip-path=\"url(#clip370)\" d=\"M455.673 370.834 L469.041 370.834 L469.041 324.694 L454.498 327.611 L454.498 320.157 L468.96 317.24 L477.143 317.24 L477.143 370.834 L490.511 370.834 L490.511 377.72 L455.673 377.72 L455.673 370.834 Z\" fill=\"#000000\" fill-rule=\"nonzero\" fill-opacity=\"1\" /><path clip-path=\"url(#clip370)\" d=\"M524.538 322.628 Q518.219 322.628 515.018 328.866 Q511.859 335.064 511.859 347.541 Q511.859 359.977 515.018 366.216 Q518.219 372.414 524.538 372.414 Q530.898 372.414 534.058 366.216 Q537.258 359.977 537.258 347.541 Q537.258 335.064 534.058 328.866 Q530.898 322.628 524.538 322.628 M524.538 316.146 Q534.706 316.146 540.053 324.208 Q545.441 332.229 545.441 347.541 Q545.441 362.813 540.053 370.874 Q534.706 378.895 524.538 378.895 Q514.37 378.895 508.983 370.874 Q503.635 362.813 503.635 347.541 Q503.635 332.229 508.983 324.208 Q514.37 316.146 524.538 316.146 Z\" fill=\"#000000\" fill-rule=\"nonzero\" fill-opacity=\"1\" /><path clip-path=\"url(#clip370)\" d=\"M755.102 370.834 L768.47 370.834 L768.47 324.694 L753.927 327.611 L753.927 320.157 L768.389 317.24 L776.571 317.24 L776.571 370.834 L789.939 370.834 L789.939 377.72 L755.102 377.72 L755.102 370.834 Z\" fill=\"#000000\" fill-rule=\"nonzero\" fill-opacity=\"1\" /><path clip-path=\"url(#clip370)\" d=\"M807.885 370.834 L821.253 370.834 L821.253 324.694 L806.71 327.611 L806.71 320.157 L821.172 317.24 L829.355 317.24 L829.355 370.834 L842.723 370.834 L842.723 377.72 L807.885 377.72 L807.885 370.834 Z\" fill=\"#000000\" fill-rule=\"nonzero\" fill-opacity=\"1\" /><path clip-path=\"url(#clip370)\" d=\"M1053.78 370.834 L1067.15 370.834 L1067.15 324.694 L1052.61 327.611 L1052.61 320.157 L1067.07 317.24 L1075.25 317.24 L1075.25 370.834 L1088.62 370.834 L1088.62 377.72 L1053.78 377.72 L1053.78 370.834 Z\" fill=\"#000000\" fill-rule=\"nonzero\" fill-opacity=\"1\" /><path clip-path=\"url(#clip370)\" d=\"M1112.19 370.834 L1140.75 370.834 L1140.75 377.72 L1102.35 377.72 L1102.35 370.834 Q1107.01 366.013 1115.03 357.911 Q1123.09 349.769 1125.16 347.419 Q1129.09 343.004 1130.63 339.966 Q1132.21 336.887 1132.21 333.93 Q1132.21 329.109 1128.8 326.071 Q1125.44 323.033 1120.01 323.033 Q1116.16 323.033 1111.87 324.37 Q1107.62 325.707 1102.76 328.421 L1102.76 320.157 Q1107.7 318.172 1111.99 317.159 Q1116.29 316.146 1119.85 316.146 Q1129.25 316.146 1134.84 320.846 Q1140.43 325.545 1140.43 333.403 Q1140.43 337.13 1139.01 340.492 Q1137.63 343.814 1133.95 348.351 Q1132.94 349.526 1127.51 355.157 Q1122.08 360.747 1112.19 370.834 Z\" fill=\"#000000\" fill-rule=\"nonzero\" fill-opacity=\"1\" /><path clip-path=\"url(#clip370)\" d=\"M1351.31 370.834 L1364.67 370.834 L1364.67 324.694 L1350.13 327.611 L1350.13 320.157 L1364.59 317.24 L1372.78 317.24 L1372.78 370.834 L1386.14 370.834 L1386.14 377.72 L1351.31 377.72 L1351.31 370.834 Z\" fill=\"#000000\" fill-rule=\"nonzero\" fill-opacity=\"1\" /><path clip-path=\"url(#clip370)\" d=\"M1427.46 345.11 Q1433.34 346.366 1436.62 350.336 Q1439.94 354.306 1439.94 360.139 Q1439.94 369.092 1433.78 373.993 Q1427.62 378.895 1416.28 378.895 Q1412.47 378.895 1408.42 378.125 Q1404.41 377.396 1400.12 375.897 L1400.12 367.998 Q1403.52 369.983 1407.57 370.996 Q1411.62 372.008 1416.04 372.008 Q1423.74 372.008 1427.75 368.97 Q1431.8 365.932 1431.8 360.139 Q1431.8 354.792 1428.03 351.794 Q1424.3 348.756 1417.62 348.756 L1410.57 348.756 L1410.57 342.032 L1417.94 342.032 Q1423.98 342.032 1427.18 339.642 Q1430.38 337.211 1430.38 332.674 Q1430.38 328.016 1427.06 325.545 Q1423.78 323.033 1417.62 323.033 Q1414.26 323.033 1410.41 323.762 Q1406.56 324.491 1401.94 326.031 L1401.94 318.739 Q1406.6 317.443 1410.65 316.795 Q1414.74 316.146 1418.35 316.146 Q1427.67 316.146 1433.09 320.4 Q1438.52 324.613 1438.52 331.823 Q1438.52 336.847 1435.65 340.33 Q1432.77 343.774 1427.46 345.11 Z\" fill=\"#000000\" fill-rule=\"nonzero\" fill-opacity=\"1\" /><path clip-path=\"url(#clip370)\" d=\"M1648.67 370.834 L1662.04 370.834 L1662.04 324.694 L1647.49 327.611 L1647.49 320.157 L1661.96 317.24 L1670.14 317.24 L1670.14 370.834 L1683.51 370.834 L1683.51 377.72 L1648.67 377.72 L1648.67 370.834 Z\" fill=\"#000000\" fill-rule=\"nonzero\" fill-opacity=\"1\" /><path clip-path=\"url(#clip370)\" d=\"M1722.52 324.37 L1701.86 356.656 L1722.52 356.656 L1722.52 324.37 M1720.37 317.24 L1730.66 317.24 L1730.66 356.656 L1739.29 356.656 L1739.29 363.461 L1730.66 363.461 L1730.66 377.72 L1722.52 377.72 L1722.52 363.461 L1695.21 363.461 L1695.21 355.562 L1720.37 317.24 Z\" fill=\"#000000\" fill-rule=\"nonzero\" fill-opacity=\"1\" /><path clip-path=\"url(#clip370)\" d=\"M1948.32 370.834 L1961.69 370.834 L1961.69 324.694 L1947.15 327.611 L1947.15 320.157 L1961.61 317.24 L1969.79 317.24 L1969.79 370.834 L1983.16 370.834 L1983.16 377.72 L1948.32 377.72 L1948.32 370.834 Z\" fill=\"#000000\" fill-rule=\"nonzero\" fill-opacity=\"1\" /><path clip-path=\"url(#clip370)\" d=\"M1999.77 317.24 L2031.89 317.24 L2031.89 324.127 L2007.26 324.127 L2007.26 338.953 Q2009.04 338.345 2010.83 338.062 Q2012.61 337.738 2014.39 337.738 Q2024.52 337.738 2030.43 343.288 Q2036.35 348.837 2036.35 358.316 Q2036.35 368.079 2030.27 373.507 Q2024.19 378.895 2013.13 378.895 Q2009.33 378.895 2005.36 378.247 Q2001.43 377.599 1997.21 376.302 L1997.21 368.079 Q2000.86 370.064 2004.75 371.036 Q2008.64 372.008 2012.97 372.008 Q2019.98 372.008 2024.07 368.322 Q2028.16 364.636 2028.16 358.316 Q2028.16 351.997 2024.07 348.311 Q2019.98 344.624 2012.97 344.624 Q2009.69 344.624 2006.41 345.354 Q2003.17 346.083 1999.77 347.622 L1999.77 317.24 Z\" fill=\"#000000\" fill-rule=\"nonzero\" fill-opacity=\"1\" /><path clip-path=\"url(#clip370)\" d=\"M2245.66 370.834 L2259.03 370.834 L2259.03 324.694 L2244.49 327.611 L2244.49 320.157 L2258.95 317.24 L2267.13 317.24 L2267.13 370.834 L2280.5 370.834 L2280.5 377.72 L2245.66 377.72 L2245.66 370.834 Z\" fill=\"#000000\" fill-rule=\"nonzero\" fill-opacity=\"1\" /><path clip-path=\"url(#clip370)\" d=\"M2315.54 344.219 Q2310.03 344.219 2306.79 347.987 Q2303.59 351.754 2303.59 358.316 Q2303.59 364.838 2306.79 368.646 Q2310.03 372.414 2315.54 372.414 Q2321.05 372.414 2324.25 368.646 Q2327.49 364.838 2327.49 358.316 Q2327.49 351.754 2324.25 347.987 Q2321.05 344.219 2315.54 344.219 M2331.79 318.577 L2331.79 326.031 Q2328.71 324.572 2325.55 323.803 Q2322.43 323.033 2319.35 323.033 Q2311.25 323.033 2306.95 328.502 Q2302.7 333.97 2302.09 345.029 Q2304.48 341.505 2308.09 339.642 Q2311.69 337.738 2316.03 337.738 Q2325.14 337.738 2330.41 343.288 Q2335.71 348.797 2335.71 358.316 Q2335.71 367.633 2330.21 373.264 Q2324.7 378.895 2315.54 378.895 Q2305.05 378.895 2299.5 370.874 Q2293.95 362.813 2293.95 347.541 Q2293.95 333.201 2300.76 324.694 Q2307.56 316.146 2319.02 316.146 Q2322.1 316.146 2325.22 316.754 Q2328.38 317.362 2331.79 318.577 Z\" fill=\"#000000\" fill-rule=\"nonzero\" fill-opacity=\"1\" /><path clip-path=\"url(#clip370)\" d=\"M158.107 521.694 L171.475 521.694 L171.475 475.554 L156.933 478.47 L156.933 471.017 L171.394 468.1 L179.577 468.1 L179.577 521.694 L192.945 521.694 L192.945 528.58 L158.107 528.58 L158.107 521.694 Z\" fill=\"#000000\" fill-rule=\"nonzero\" fill-opacity=\"1\" /><path clip-path=\"url(#clip370)\" d=\"M207.407 468.1 L246.296 468.1 L246.296 471.584 L224.34 528.58 L215.792 528.58 L236.452 474.987 L207.407 474.987 L207.407 468.1 Z\" fill=\"#000000\" fill-rule=\"nonzero\" fill-opacity=\"1\" /><path clip-path=\"url(#clip370)\" d=\"M455.754 521.694 L469.122 521.694 L469.122 475.554 L454.579 478.47 L454.579 471.017 L469.041 468.1 L477.224 468.1 L477.224 521.694 L490.592 521.694 L490.592 528.58 L455.754 528.58 L455.754 521.694 Z\" fill=\"#000000\" fill-rule=\"nonzero\" fill-opacity=\"1\" /><path clip-path=\"url(#clip370)\" d=\"M524.619 499.859 Q518.786 499.859 515.424 502.978 Q512.102 506.098 512.102 511.566 Q512.102 517.035 515.424 520.154 Q518.786 523.273 524.619 523.273 Q530.452 523.273 533.815 520.154 Q537.177 516.995 537.177 511.566 Q537.177 506.098 533.815 502.978 Q530.493 499.859 524.619 499.859 M516.436 496.375 Q511.17 495.079 508.213 491.474 Q505.296 487.869 505.296 482.683 Q505.296 475.432 510.441 471.219 Q515.626 467.006 524.619 467.006 Q533.653 467.006 538.797 471.219 Q543.942 475.432 543.942 482.683 Q543.942 487.869 540.985 491.474 Q538.068 495.079 532.842 496.375 Q538.757 497.753 542.038 501.763 Q545.36 505.774 545.36 511.566 Q545.36 520.357 539.972 525.056 Q534.625 529.755 524.619 529.755 Q514.613 529.755 509.226 525.056 Q503.878 520.357 503.878 511.566 Q503.878 505.774 507.2 501.763 Q510.522 497.753 516.436 496.375 M513.439 483.453 Q513.439 488.152 516.355 490.785 Q519.312 493.418 524.619 493.418 Q529.885 493.418 532.842 490.785 Q535.84 488.152 535.84 483.453 Q535.84 478.754 532.842 476.121 Q529.885 473.488 524.619 473.488 Q519.312 473.488 516.355 476.121 Q513.439 478.754 513.439 483.453 Z\" fill=\"#000000\" fill-rule=\"nonzero\" fill-opacity=\"1\" /><path clip-path=\"url(#clip370)\" d=\"M754.19 521.694 L767.558 521.694 L767.558 475.554 L753.015 478.47 L753.015 471.017 L767.477 468.1 L775.66 468.1 L775.66 521.694 L789.028 521.694 L789.028 528.58 L754.19 528.58 L754.19 521.694 Z\" fill=\"#000000\" fill-rule=\"nonzero\" fill-opacity=\"1\" /><path clip-path=\"url(#clip370)\" d=\"M805.799 527.324 L805.799 519.871 Q808.877 521.329 812.037 522.099 Q815.197 522.868 818.235 522.868 Q826.337 522.868 830.59 517.44 Q834.884 511.971 835.492 500.872 Q833.142 504.356 829.537 506.219 Q825.932 508.083 821.557 508.083 Q812.483 508.083 807.176 502.614 Q801.91 497.105 801.91 487.585 Q801.91 478.268 807.419 472.637 Q812.928 467.006 822.083 467.006 Q832.575 467.006 838.084 475.068 Q843.634 483.089 843.634 498.401 Q843.634 512.701 836.829 521.248 Q830.064 529.755 818.599 529.755 Q815.521 529.755 812.361 529.147 Q809.201 528.54 805.799 527.324 M822.083 501.682 Q827.592 501.682 830.793 497.915 Q834.033 494.147 834.033 487.585 Q834.033 481.063 830.793 477.296 Q827.592 473.488 822.083 473.488 Q816.574 473.488 813.333 477.296 Q810.133 481.063 810.133 487.585 Q810.133 494.147 813.333 497.915 Q816.574 501.682 822.083 501.682 Z\" fill=\"#000000\" fill-rule=\"nonzero\" fill-opacity=\"1\" /><path clip-path=\"url(#clip370)\" d=\"M1059.53 521.694 L1088.09 521.694 L1088.09 528.58 L1049.69 528.58 L1049.69 521.694 Q1054.35 516.873 1062.37 508.771 Q1070.43 500.629 1072.5 498.279 Q1076.43 493.864 1077.96 490.826 Q1079.54 487.747 1079.54 484.79 Q1079.54 479.969 1076.14 476.931 Q1072.78 473.893 1067.35 473.893 Q1063.5 473.893 1059.21 475.23 Q1054.96 476.567 1050.09 479.281 L1050.09 471.017 Q1055.04 469.032 1059.33 468.019 Q1063.62 467.006 1067.19 467.006 Q1076.59 467.006 1082.18 471.705 Q1087.77 476.405 1087.77 484.263 Q1087.77 487.99 1086.35 491.352 Q1084.97 494.674 1081.29 499.211 Q1080.27 500.386 1074.85 506.017 Q1069.42 511.607 1059.53 521.694 Z\" fill=\"#000000\" fill-rule=\"nonzero\" fill-opacity=\"1\" /><path clip-path=\"url(#clip370)\" d=\"M1122.77 473.488 Q1116.45 473.488 1113.25 479.726 Q1110.09 485.924 1110.09 498.401 Q1110.09 510.837 1113.25 517.076 Q1116.45 523.273 1122.77 523.273 Q1129.13 523.273 1132.29 517.076 Q1135.49 510.837 1135.49 498.401 Q1135.49 485.924 1132.29 479.726 Q1129.13 473.488 1122.77 473.488 M1122.77 467.006 Q1132.94 467.006 1138.28 475.068 Q1143.67 483.089 1143.67 498.401 Q1143.67 513.673 1138.28 521.734 Q1132.94 529.755 1122.77 529.755 Q1112.6 529.755 1107.21 521.734 Q1101.87 513.673 1101.87 498.401 Q1101.87 483.089 1107.21 475.068 Q1112.6 467.006 1122.77 467.006 Z\" fill=\"#000000\" fill-rule=\"nonzero\" fill-opacity=\"1\" /><path clip-path=\"url(#clip370)\" d=\"M1358.96 521.694 L1387.52 521.694 L1387.52 528.58 L1349.12 528.58 L1349.12 521.694 Q1353.78 516.873 1361.8 508.771 Q1369.86 500.629 1371.92 498.279 Q1375.85 493.864 1377.39 490.826 Q1378.97 487.747 1378.97 484.79 Q1378.97 479.969 1375.57 476.931 Q1372.21 473.893 1366.78 473.893 Q1362.93 473.893 1358.64 475.23 Q1354.38 476.567 1349.52 479.281 L1349.52 471.017 Q1354.47 469.032 1358.76 468.019 Q1363.05 467.006 1366.62 467.006 Q1376.02 467.006 1381.61 471.705 Q1387.2 476.405 1387.2 484.263 Q1387.2 487.99 1385.78 491.352 Q1384.4 494.674 1380.72 499.211 Q1379.7 500.386 1374.27 506.017 Q1368.85 511.607 1358.96 521.694 Z\" fill=\"#000000\" fill-rule=\"nonzero\" fill-opacity=\"1\" /><path clip-path=\"url(#clip370)\" d=\"M1406.11 521.694 L1419.48 521.694 L1419.48 475.554 L1404.94 478.47 L1404.94 471.017 L1419.4 468.1 L1427.58 468.1 L1427.58 521.694 L1440.95 521.694 L1440.95 528.58 L1406.11 528.58 L1406.11 521.694 Z\" fill=\"#000000\" fill-rule=\"nonzero\" fill-opacity=\"1\" /><path clip-path=\"url(#clip370)\" d=\"M1657.64 521.694 L1686.2 521.694 L1686.2 528.58 L1647.8 528.58 L1647.8 521.694 Q1652.46 516.873 1660.48 508.771 Q1668.54 500.629 1670.6 498.279 Q1674.53 493.864 1676.07 490.826 Q1677.65 487.747 1677.65 484.79 Q1677.65 479.969 1674.25 476.931 Q1670.89 473.893 1665.46 473.893 Q1661.61 473.893 1657.32 475.23 Q1653.06 476.567 1648.2 479.281 L1648.2 471.017 Q1653.14 469.032 1657.44 468.019 Q1661.73 467.006 1665.3 467.006 Q1674.7 467.006 1680.29 471.705 Q1685.88 476.405 1685.88 484.263 Q1685.88 487.99 1684.46 491.352 Q1683.08 494.674 1679.39 499.211 Q1678.38 500.386 1672.95 506.017 Q1667.53 511.607 1657.64 521.694 Z\" fill=\"#000000\" fill-rule=\"nonzero\" fill-opacity=\"1\" /><path clip-path=\"url(#clip370)\" d=\"M1710.42 521.694 L1738.98 521.694 L1738.98 528.58 L1700.58 528.58 L1700.58 521.694 Q1705.24 516.873 1713.26 508.771 Q1721.32 500.629 1723.39 498.279 Q1727.32 493.864 1728.86 490.826 Q1730.44 487.747 1730.44 484.79 Q1730.44 479.969 1727.03 476.931 Q1723.67 473.893 1718.24 473.893 Q1714.39 473.893 1710.1 475.23 Q1705.85 476.567 1700.99 479.281 L1700.99 471.017 Q1705.93 469.032 1710.22 468.019 Q1714.52 467.006 1718.08 467.006 Q1727.48 467.006 1733.07 471.705 Q1738.66 476.405 1738.66 484.263 Q1738.66 487.99 1737.24 491.352 Q1735.86 494.674 1732.18 499.211 Q1731.17 500.386 1725.74 506.017 Q1720.31 511.607 1710.42 521.694 Z\" fill=\"#000000\" fill-rule=\"nonzero\" fill-opacity=\"1\" /><path clip-path=\"url(#clip370)\" d=\"M1955.17 521.694 L1983.73 521.694 L1983.73 528.58 L1945.32 528.58 L1945.32 521.694 Q1949.98 516.873 1958 508.771 Q1966.06 500.629 1968.13 498.279 Q1972.06 493.864 1973.6 490.826 Q1975.18 487.747 1975.18 484.79 Q1975.18 479.969 1971.78 476.931 Q1968.41 473.893 1962.98 473.893 Q1959.14 473.893 1954.84 475.23 Q1950.59 476.567 1945.73 479.281 L1945.73 471.017 Q1950.67 469.032 1954.96 468.019 Q1959.26 467.006 1962.82 467.006 Q1972.22 467.006 1977.81 471.705 Q1983.4 476.405 1983.4 484.263 Q1983.4 487.99 1981.98 491.352 Q1980.61 494.674 1976.92 499.211 Q1975.91 500.386 1970.48 506.017 Q1965.05 511.607 1955.17 521.694 Z\" fill=\"#000000\" fill-rule=\"nonzero\" fill-opacity=\"1\" /><path clip-path=\"url(#clip370)\" d=\"M2025.69 495.97 Q2031.57 497.226 2034.85 501.196 Q2038.17 505.166 2038.17 510.999 Q2038.17 519.952 2032.01 524.853 Q2025.85 529.755 2014.51 529.755 Q2010.7 529.755 2006.65 528.985 Q2002.64 528.256 1998.35 526.757 L1998.35 518.858 Q2001.75 520.843 2005.8 521.856 Q2009.85 522.868 2014.27 522.868 Q2021.97 522.868 2025.98 519.83 Q2030.03 516.792 2030.03 510.999 Q2030.03 505.652 2026.26 502.654 Q2022.53 499.616 2015.85 499.616 L2008.8 499.616 L2008.8 492.892 L2016.17 492.892 Q2022.21 492.892 2025.41 490.502 Q2028.61 488.071 2028.61 483.534 Q2028.61 478.876 2025.29 476.405 Q2022.01 473.893 2015.85 473.893 Q2012.49 473.893 2008.64 474.622 Q2004.79 475.351 2000.17 476.891 L2000.17 469.599 Q2004.83 468.303 2008.88 467.655 Q2012.97 467.006 2016.58 467.006 Q2025.9 467.006 2031.32 471.26 Q2036.75 475.473 2036.75 482.683 Q2036.75 487.707 2033.88 491.19 Q2031 494.634 2025.69 495.97 Z\" fill=\"#000000\" fill-rule=\"nonzero\" fill-opacity=\"1\" /><path clip-path=\"url(#clip370)\" d=\"M2252.53 521.694 L2281.09 521.694 L2281.09 528.58 L2242.69 528.58 L2242.69 521.694 Q2247.34 516.873 2255.36 508.771 Q2263.43 500.629 2265.49 498.279 Q2269.42 493.864 2270.96 490.826 Q2272.54 487.747 2272.54 484.79 Q2272.54 479.969 2269.14 476.931 Q2265.78 473.893 2260.35 473.893 Q2256.5 473.893 2252.21 475.23 Q2247.95 476.567 2243.09 479.281 L2243.09 471.017 Q2248.03 469.032 2252.33 468.019 Q2256.62 467.006 2260.19 467.006 Q2269.58 467.006 2275.17 471.705 Q2280.76 476.405 2280.76 484.263 Q2280.76 487.99 2279.35 491.352 Q2277.97 494.674 2274.28 499.211 Q2273.27 500.386 2267.84 506.017 Q2262.41 511.607 2252.53 521.694 Z\" fill=\"#000000\" fill-rule=\"nonzero\" fill-opacity=\"1\" /><path clip-path=\"url(#clip370)\" d=\"M2320.75 475.23 L2300.09 507.515 L2320.75 507.515 L2320.75 475.23 M2318.6 468.1 L2328.89 468.1 L2328.89 507.515 L2337.52 507.515 L2337.52 514.321 L2328.89 514.321 L2328.89 528.58 L2320.75 528.58 L2320.75 514.321 L2293.44 514.321 L2293.44 506.422 L2318.6 468.1 Z\" fill=\"#000000\" fill-rule=\"nonzero\" fill-opacity=\"1\" /><path clip-path=\"url(#clip370)\" d=\"M165.338 672.554 L193.897 672.554 L193.897 679.44 L155.495 679.44 L155.495 672.554 Q160.153 667.733 168.174 659.631 Q176.235 651.489 178.301 649.139 Q182.23 644.724 183.77 641.686 Q185.35 638.607 185.35 635.65 Q185.35 630.829 181.947 627.791 Q178.585 624.753 173.156 624.753 Q169.308 624.753 165.014 626.09 Q160.761 627.427 155.9 630.141 L155.9 621.877 Q160.842 619.892 165.136 618.879 Q169.43 617.866 172.994 617.866 Q182.393 617.866 187.983 622.565 Q193.573 627.264 193.573 635.123 Q193.573 638.85 192.155 642.212 Q190.778 645.534 187.092 650.071 Q186.079 651.246 180.651 656.877 Q175.222 662.467 165.338 672.554 Z\" fill=\"#000000\" fill-rule=\"nonzero\" fill-opacity=\"1\" /><path clip-path=\"url(#clip370)\" d=\"M211.154 618.96 L243.278 618.96 L243.278 625.847 L218.648 625.847 L218.648 640.673 Q220.431 640.065 222.213 639.782 Q223.995 639.458 225.778 639.458 Q235.905 639.458 241.819 645.007 Q247.734 650.557 247.734 660.036 Q247.734 669.799 241.657 675.227 Q235.581 680.615 224.522 680.615 Q220.714 680.615 216.744 679.967 Q212.815 679.319 208.602 678.022 L208.602 669.799 Q212.248 671.784 216.137 672.756 Q220.025 673.728 224.36 673.728 Q231.368 673.728 235.459 670.042 Q239.551 666.356 239.551 660.036 Q239.551 653.717 235.459 650.031 Q231.368 646.344 224.36 646.344 Q221.079 646.344 217.797 647.073 Q214.557 647.803 211.154 649.342 L211.154 618.96 Z\" fill=\"#000000\" fill-rule=\"nonzero\" fill-opacity=\"1\" /><path clip-path=\"url(#clip370)\" d=\"M462.681 672.554 L491.24 672.554 L491.24 679.44 L452.837 679.44 L452.837 672.554 Q457.496 667.733 465.516 659.631 Q473.578 651.489 475.644 649.139 Q479.573 644.724 481.112 641.686 Q482.692 638.607 482.692 635.65 Q482.692 630.829 479.29 627.791 Q475.927 624.753 470.499 624.753 Q466.651 624.753 462.357 626.09 Q458.103 627.427 453.242 630.141 L453.242 621.877 Q458.184 619.892 462.478 618.879 Q466.772 617.866 470.337 617.866 Q479.735 617.866 485.325 622.565 Q490.916 627.264 490.916 635.123 Q490.916 638.85 489.498 642.212 Q488.12 645.534 484.434 650.071 Q483.421 651.246 477.993 656.877 Q472.565 662.467 462.681 672.554 Z\" fill=\"#000000\" fill-rule=\"nonzero\" fill-opacity=\"1\" /><path clip-path=\"url(#clip370)\" d=\"M526.928 645.939 Q521.419 645.939 518.178 649.706 Q514.978 653.474 514.978 660.036 Q514.978 666.558 518.178 670.366 Q521.419 674.133 526.928 674.133 Q532.437 674.133 535.638 670.366 Q538.878 666.558 538.878 660.036 Q538.878 653.474 535.638 649.706 Q532.437 645.939 526.928 645.939 M543.172 620.297 L543.172 627.751 Q540.094 626.292 536.934 625.523 Q533.815 624.753 530.736 624.753 Q522.634 624.753 518.34 630.222 Q514.087 635.69 513.479 646.749 Q515.869 643.225 519.474 641.362 Q523.08 639.458 527.414 639.458 Q536.529 639.458 541.795 645.007 Q547.102 650.517 547.102 660.036 Q547.102 669.353 541.592 674.984 Q536.083 680.615 526.928 680.615 Q516.436 680.615 510.887 672.594 Q505.337 664.533 505.337 649.261 Q505.337 634.921 512.142 626.414 Q518.948 617.866 530.412 617.866 Q533.491 617.866 536.61 618.474 Q539.77 619.082 543.172 620.297 Z\" fill=\"#000000\" fill-rule=\"nonzero\" fill-opacity=\"1\" /><path clip-path=\"url(#clip370)\" d=\"M761.968 672.554 L790.527 672.554 L790.527 679.44 L752.124 679.44 L752.124 672.554 Q756.783 667.733 764.803 659.631 Q772.865 651.489 774.931 649.139 Q778.86 644.724 780.399 641.686 Q781.979 638.607 781.979 635.65 Q781.979 630.829 778.577 627.791 Q775.214 624.753 769.786 624.753 Q765.938 624.753 761.644 626.09 Q757.39 627.427 752.529 630.141 L752.529 621.877 Q757.471 619.892 761.765 618.879 Q766.059 617.866 769.624 617.866 Q779.022 617.866 784.612 622.565 Q790.203 627.264 790.203 635.123 Q790.203 638.85 788.785 642.212 Q787.408 645.534 783.721 650.071 Q782.708 651.246 777.28 656.877 Q771.852 662.467 761.968 672.554 Z\" fill=\"#000000\" fill-rule=\"nonzero\" fill-opacity=\"1\" /><path clip-path=\"url(#clip370)\" d=\"M805.637 618.96 L844.525 618.96 L844.525 622.444 L822.569 679.44 L814.022 679.44 L834.682 625.847 L805.637 625.847 L805.637 618.96 Z\" fill=\"#000000\" fill-rule=\"nonzero\" fill-opacity=\"1\" /><path clip-path=\"url(#clip370)\" d=\"M1059.61 672.554 L1088.17 672.554 L1088.17 679.44 L1049.77 679.44 L1049.77 672.554 Q1054.43 667.733 1062.45 659.631 Q1070.51 651.489 1072.58 649.139 Q1076.51 644.724 1078.05 641.686 Q1079.63 638.607 1079.63 635.65 Q1079.63 630.829 1076.22 627.791 Q1072.86 624.753 1067.43 624.753 Q1063.58 624.753 1059.29 626.09 Q1055.04 627.427 1050.18 630.141 L1050.18 621.877 Q1055.12 619.892 1059.41 618.879 Q1063.71 617.866 1067.27 617.866 Q1076.67 617.866 1082.26 622.565 Q1087.85 627.264 1087.85 635.123 Q1087.85 638.85 1086.43 642.212 Q1085.05 645.534 1081.37 650.071 Q1080.35 651.246 1074.93 656.877 Q1069.5 662.467 1059.61 672.554 Z\" fill=\"#000000\" fill-rule=\"nonzero\" fill-opacity=\"1\" /><path clip-path=\"url(#clip370)\" d=\"M1122.85 650.719 Q1117.02 650.719 1113.65 653.838 Q1110.33 656.958 1110.33 662.426 Q1110.33 667.895 1113.65 671.014 Q1117.02 674.133 1122.85 674.133 Q1128.68 674.133 1132.04 671.014 Q1135.41 667.855 1135.41 662.426 Q1135.41 656.958 1132.04 653.838 Q1128.72 650.719 1122.85 650.719 M1114.67 647.235 Q1109.4 645.939 1106.44 642.334 Q1103.53 638.729 1103.53 633.543 Q1103.53 626.292 1108.67 622.079 Q1113.86 617.866 1122.85 617.866 Q1131.88 617.866 1137.03 622.079 Q1142.17 626.292 1142.17 633.543 Q1142.17 638.729 1139.21 642.334 Q1136.3 645.939 1131.07 647.235 Q1136.99 648.613 1140.27 652.623 Q1143.59 656.634 1143.59 662.426 Q1143.59 671.217 1138.2 675.916 Q1132.85 680.615 1122.85 680.615 Q1112.84 680.615 1107.46 675.916 Q1102.11 671.217 1102.11 662.426 Q1102.11 656.634 1105.43 652.623 Q1108.75 648.613 1114.67 647.235 M1111.67 634.313 Q1111.67 639.012 1114.59 641.645 Q1117.54 644.278 1122.85 644.278 Q1128.12 644.278 1131.07 641.645 Q1134.07 639.012 1134.07 634.313 Q1134.07 629.614 1131.07 626.981 Q1128.12 624.348 1122.85 624.348 Q1117.54 624.348 1114.59 626.981 Q1111.67 629.614 1111.67 634.313 Z\" fill=\"#000000\" fill-rule=\"nonzero\" fill-opacity=\"1\" /><path clip-path=\"url(#clip370)\" d=\"M1358.05 672.554 L1386.61 672.554 L1386.61 679.44 L1348.21 679.44 L1348.21 672.554 Q1352.87 667.733 1360.89 659.631 Q1368.95 651.489 1371.01 649.139 Q1374.94 644.724 1376.48 641.686 Q1378.06 638.607 1378.06 635.65 Q1378.06 630.829 1374.66 627.791 Q1371.3 624.753 1365.87 624.753 Q1362.02 624.753 1357.73 626.09 Q1353.47 627.427 1348.61 630.141 L1348.61 621.877 Q1353.55 619.892 1357.85 618.879 Q1362.14 617.866 1365.71 617.866 Q1375.1 617.866 1380.7 622.565 Q1386.29 627.264 1386.29 635.123 Q1386.29 638.85 1384.87 642.212 Q1383.49 645.534 1379.8 650.071 Q1378.79 651.246 1373.36 656.877 Q1367.93 662.467 1358.05 672.554 Z\" fill=\"#000000\" fill-rule=\"nonzero\" fill-opacity=\"1\" /><path clip-path=\"url(#clip370)\" d=\"M1404.03 678.184 L1404.03 670.731 Q1407.11 672.189 1410.27 672.959 Q1413.43 673.728 1416.46 673.728 Q1424.57 673.728 1428.82 668.3 Q1433.11 662.831 1433.72 651.732 Q1431.37 655.216 1427.77 657.079 Q1424.16 658.943 1419.79 658.943 Q1410.71 658.943 1405.41 653.474 Q1400.14 647.965 1400.14 638.445 Q1400.14 629.128 1405.65 623.497 Q1411.16 617.866 1420.31 617.866 Q1430.8 617.866 1436.31 625.928 Q1441.86 633.948 1441.86 649.261 Q1441.86 663.561 1435.06 672.108 Q1428.29 680.615 1416.83 680.615 Q1413.75 680.615 1410.59 680.007 Q1407.43 679.4 1404.03 678.184 M1420.31 652.542 Q1425.82 652.542 1429.02 648.775 Q1432.26 645.007 1432.26 638.445 Q1432.26 631.923 1429.02 628.156 Q1425.82 624.348 1420.31 624.348 Q1414.8 624.348 1411.56 628.156 Q1408.36 631.923 1408.36 638.445 Q1408.36 645.007 1411.56 648.775 Q1414.8 652.542 1420.31 652.542 Z\" fill=\"#000000\" fill-rule=\"nonzero\" fill-opacity=\"1\" /><path clip-path=\"url(#clip370)\" d=\"M1673.87 646.83 Q1679.74 648.086 1683.02 652.056 Q1686.34 656.026 1686.34 661.859 Q1686.34 670.812 1680.18 675.713 Q1674.03 680.615 1662.68 680.615 Q1658.88 680.615 1654.83 679.845 Q1650.82 679.116 1646.52 677.617 L1646.52 669.718 Q1649.92 671.703 1653.98 672.716 Q1658.03 673.728 1662.44 673.728 Q1670.14 673.728 1674.15 670.69 Q1678.2 667.652 1678.2 661.859 Q1678.2 656.512 1674.43 653.514 Q1670.71 650.476 1664.02 650.476 L1656.97 650.476 L1656.97 643.752 L1664.35 643.752 Q1670.38 643.752 1673.58 641.362 Q1676.78 638.931 1676.78 634.394 Q1676.78 629.736 1673.46 627.264 Q1670.18 624.753 1664.02 624.753 Q1660.66 624.753 1656.81 625.482 Q1652.96 626.211 1648.34 627.751 L1648.34 620.459 Q1653 619.163 1657.05 618.515 Q1661.15 617.866 1664.75 617.866 Q1674.07 617.866 1679.5 622.12 Q1684.92 626.333 1684.92 633.543 Q1684.92 638.566 1682.05 642.05 Q1679.17 645.494 1673.87 646.83 Z\" fill=\"#000000\" fill-rule=\"nonzero\" fill-opacity=\"1\" /><path clip-path=\"url(#clip370)\" d=\"M1719.36 624.348 Q1713.04 624.348 1709.84 630.586 Q1706.68 636.784 1706.68 649.261 Q1706.68 661.697 1709.84 667.936 Q1713.04 674.133 1719.36 674.133 Q1725.72 674.133 1728.88 667.936 Q1732.08 661.697 1732.08 649.261 Q1732.08 636.784 1728.88 630.586 Q1725.72 624.348 1719.36 624.348 M1719.36 617.866 Q1729.52 617.866 1734.87 625.928 Q1740.26 633.948 1740.26 649.261 Q1740.26 664.533 1734.87 672.594 Q1729.52 680.615 1719.36 680.615 Q1709.19 680.615 1703.8 672.594 Q1698.45 664.533 1698.45 649.261 Q1698.45 633.948 1703.8 625.928 Q1709.19 617.866 1719.36 617.866 Z\" fill=\"#000000\" fill-rule=\"nonzero\" fill-opacity=\"1\" /><path clip-path=\"url(#clip370)\" d=\"M1973.29 646.83 Q1979.17 648.086 1982.45 652.056 Q1985.77 656.026 1985.77 661.859 Q1985.77 670.812 1979.61 675.713 Q1973.46 680.615 1962.11 680.615 Q1958.31 680.615 1954.25 679.845 Q1950.24 679.116 1945.95 677.617 L1945.95 669.718 Q1949.35 671.703 1953.4 672.716 Q1957.46 673.728 1961.87 673.728 Q1969.57 673.728 1973.58 670.69 Q1977.63 667.652 1977.63 661.859 Q1977.63 656.512 1973.86 653.514 Q1970.13 650.476 1963.45 650.476 L1956.4 650.476 L1956.4 643.752 L1963.77 643.752 Q1969.81 643.752 1973.01 641.362 Q1976.21 638.931 1976.21 634.394 Q1976.21 629.736 1972.89 627.264 Q1969.61 624.753 1963.45 624.753 Q1960.09 624.753 1956.24 625.482 Q1952.39 626.211 1947.77 627.751 L1947.77 620.459 Q1952.43 619.163 1956.48 618.515 Q1960.57 617.866 1964.18 617.866 Q1973.5 617.866 1978.92 622.12 Q1984.35 626.333 1984.35 633.543 Q1984.35 638.566 1981.48 642.05 Q1978.6 645.494 1973.29 646.83 Z\" fill=\"#000000\" fill-rule=\"nonzero\" fill-opacity=\"1\" /><path clip-path=\"url(#clip370)\" d=\"M2002.7 672.554 L2016.07 672.554 L2016.07 626.414 L2001.53 629.33 L2001.53 621.877 L2015.99 618.96 L2024.17 618.96 L2024.17 672.554 L2037.54 672.554 L2037.54 679.44 L2002.7 679.44 L2002.7 672.554 Z\" fill=\"#000000\" fill-rule=\"nonzero\" fill-opacity=\"1\" /><path clip-path=\"url(#clip370)\" d=\"M2271.97 646.83 Q2277.85 648.086 2281.13 652.056 Q2284.45 656.026 2284.45 661.859 Q2284.45 670.812 2278.29 675.713 Q2272.14 680.615 2260.79 680.615 Q2256.99 680.615 2252.93 679.845 Q2248.92 679.116 2244.63 677.617 L2244.63 669.718 Q2248.03 671.703 2252.08 672.716 Q2256.13 673.728 2260.55 673.728 Q2268.25 673.728 2272.26 670.69 Q2276.31 667.652 2276.31 661.859 Q2276.31 656.512 2272.54 653.514 Q2268.81 650.476 2262.13 650.476 L2255.08 650.476 L2255.08 643.752 L2262.45 643.752 Q2268.49 643.752 2271.69 641.362 Q2274.89 638.931 2274.89 634.394 Q2274.89 629.736 2271.57 627.264 Q2268.29 624.753 2262.13 624.753 Q2258.77 624.753 2254.92 625.482 Q2251.07 626.211 2246.45 627.751 L2246.45 620.459 Q2251.11 619.163 2255.16 618.515 Q2259.25 617.866 2262.86 617.866 Q2272.18 617.866 2277.6 622.12 Q2283.03 626.333 2283.03 633.543 Q2283.03 638.566 2280.16 642.05 Q2277.28 645.494 2271.97 646.83 Z\" fill=\"#000000\" fill-rule=\"nonzero\" fill-opacity=\"1\" /><path clip-path=\"url(#clip370)\" d=\"M2307.01 672.554 L2335.57 672.554 L2335.57 679.44 L2297.17 679.44 L2297.17 672.554 Q2301.83 667.733 2309.85 659.631 Q2317.91 651.489 2319.98 649.139 Q2323.91 644.724 2325.45 641.686 Q2327.03 638.607 2327.03 635.65 Q2327.03 630.829 2323.62 627.791 Q2320.26 624.753 2314.83 624.753 Q2310.98 624.753 2306.69 626.09 Q2302.44 627.427 2297.58 630.141 L2297.58 621.877 Q2302.52 619.892 2306.81 618.879 Q2311.11 617.866 2314.67 617.866 Q2324.07 617.866 2329.66 622.565 Q2335.25 627.264 2335.25 635.123 Q2335.25 638.85 2333.83 642.212 Q2332.45 645.534 2328.77 650.071 Q2327.75 651.246 2322.33 656.877 Q2316.9 662.467 2307.01 672.554 Z\" fill=\"#000000\" fill-rule=\"nonzero\" fill-opacity=\"1\" /><path clip-path=\"url(#clip370)\" d=\"M182.656 797.69 Q188.53 798.946 191.811 802.916 Q195.133 806.886 195.133 812.719 Q195.133 821.672 188.975 826.573 Q182.818 831.475 171.475 831.475 Q167.667 831.475 163.617 830.705 Q159.606 829.976 155.312 828.477 L155.312 820.578 Q158.715 822.563 162.766 823.576 Q166.817 824.588 171.232 824.588 Q178.929 824.588 182.939 821.55 Q186.99 818.512 186.99 812.719 Q186.99 807.372 183.223 804.374 Q179.496 801.336 172.812 801.336 L165.764 801.336 L165.764 794.612 L173.136 794.612 Q179.172 794.612 182.372 792.222 Q185.572 789.791 185.572 785.254 Q185.572 780.595 182.251 778.124 Q178.97 775.613 172.812 775.613 Q169.45 775.613 165.602 776.342 Q161.753 777.071 157.135 778.611 L157.135 771.319 Q161.794 770.023 165.845 769.374 Q169.936 768.726 173.541 768.726 Q182.858 768.726 188.287 772.98 Q193.715 777.193 193.715 784.403 Q193.715 789.426 190.839 792.91 Q187.963 796.353 182.656 797.69 Z\" fill=\"#000000\" fill-rule=\"nonzero\" fill-opacity=\"1\" /><path clip-path=\"url(#clip370)\" d=\"M235.439 797.69 Q241.313 798.946 244.594 802.916 Q247.916 806.886 247.916 812.719 Q247.916 821.672 241.759 826.573 Q235.601 831.475 224.259 831.475 Q220.451 831.475 216.4 830.705 Q212.389 829.976 208.096 828.477 L208.096 820.578 Q211.498 822.563 215.549 823.576 Q219.6 824.588 224.016 824.588 Q231.712 824.588 235.723 821.55 Q239.774 818.512 239.774 812.719 Q239.774 807.372 236.006 804.374 Q232.279 801.336 225.595 801.336 L218.547 801.336 L218.547 794.612 L225.919 794.612 Q231.955 794.612 235.156 792.222 Q238.356 789.791 238.356 785.254 Q238.356 780.595 235.034 778.124 Q231.753 775.613 225.595 775.613 Q222.233 775.613 218.385 776.342 Q214.536 777.071 209.918 778.611 L209.918 771.319 Q214.577 770.023 218.628 769.374 Q222.719 768.726 226.325 768.726 Q235.642 768.726 241.07 772.98 Q246.498 777.193 246.498 784.403 Q246.498 789.426 243.622 792.91 Q240.746 796.353 235.439 797.69 Z\" fill=\"#000000\" fill-rule=\"nonzero\" fill-opacity=\"1\" /><path clip-path=\"url(#clip370)\" d=\"M480.019 797.69 Q485.892 798.946 489.174 802.916 Q492.495 806.886 492.495 812.719 Q492.495 821.672 486.338 826.573 Q480.181 831.475 468.838 831.475 Q465.03 831.475 460.979 830.705 Q456.969 829.976 452.675 828.477 L452.675 820.578 Q456.078 822.563 460.129 823.576 Q464.18 824.588 468.595 824.588 Q476.292 824.588 480.302 821.55 Q484.353 818.512 484.353 812.719 Q484.353 807.372 480.586 804.374 Q476.859 801.336 470.175 801.336 L463.126 801.336 L463.126 794.612 L470.499 794.612 Q476.535 794.612 479.735 792.222 Q482.935 789.791 482.935 785.254 Q482.935 780.595 479.614 778.124 Q476.332 775.613 470.175 775.613 Q466.813 775.613 462.964 776.342 Q459.116 777.071 454.498 778.611 L454.498 771.319 Q459.157 770.023 463.207 769.374 Q467.299 768.726 470.904 768.726 Q480.221 768.726 485.649 772.98 Q491.078 777.193 491.078 784.403 Q491.078 789.426 488.201 792.91 Q485.325 796.353 480.019 797.69 Z\" fill=\"#000000\" fill-rule=\"nonzero\" fill-opacity=\"1\" /><path clip-path=\"url(#clip370)\" d=\"M530.493 776.95 L509.833 809.235 L530.493 809.235 L530.493 776.95 M528.346 769.82 L538.635 769.82 L538.635 809.235 L547.264 809.235 L547.264 816.041 L538.635 816.041 L538.635 830.3 L530.493 830.3 L530.493 816.041 L503.19 816.041 L503.19 808.142 L528.346 769.82 Z\" fill=\"#000000\" fill-rule=\"nonzero\" fill-opacity=\"1\" /><path clip-path=\"url(#clip370)\" d=\"M779.67 797.69 Q785.544 798.946 788.825 802.916 Q792.147 806.886 792.147 812.719 Q792.147 821.672 785.99 826.573 Q779.832 831.475 768.49 831.475 Q764.682 831.475 760.631 830.705 Q756.621 829.976 752.327 828.477 L752.327 820.578 Q755.729 822.563 759.78 823.576 Q763.831 824.588 768.247 824.588 Q775.943 824.588 779.954 821.55 Q784.005 818.512 784.005 812.719 Q784.005 807.372 780.237 804.374 Q776.511 801.336 769.827 801.336 L762.778 801.336 L762.778 794.612 L770.151 794.612 Q776.187 794.612 779.387 792.222 Q782.587 789.791 782.587 785.254 Q782.587 780.595 779.265 778.124 Q775.984 775.613 769.827 775.613 Q766.464 775.613 762.616 776.342 Q758.768 777.071 754.15 778.611 L754.15 771.319 Q758.808 770.023 762.859 769.374 Q766.95 768.726 770.556 768.726 Q779.873 768.726 785.301 772.98 Q790.729 777.193 790.729 784.403 Q790.729 789.426 787.853 792.91 Q784.977 796.353 779.67 797.69 Z\" fill=\"#000000\" fill-rule=\"nonzero\" fill-opacity=\"1\" /><path clip-path=\"url(#clip370)\" d=\"M807.743 769.82 L839.867 769.82 L839.867 776.707 L815.237 776.707 L815.237 791.533 Q817.02 790.925 818.802 790.642 Q820.584 790.318 822.367 790.318 Q832.494 790.318 838.408 795.867 Q844.323 801.417 844.323 810.896 Q844.323 820.659 838.246 826.087 Q832.17 831.475 821.111 831.475 Q817.303 831.475 813.333 830.827 Q809.404 830.179 805.191 828.882 L805.191 820.659 Q808.837 822.644 812.726 823.616 Q816.615 824.588 820.949 824.588 Q827.957 824.588 832.048 820.902 Q836.14 817.216 836.14 810.896 Q836.14 804.577 832.048 800.89 Q827.957 797.204 820.949 797.204 Q817.668 797.204 814.387 797.933 Q811.146 798.662 807.743 800.202 L807.743 769.82 Z\" fill=\"#000000\" fill-rule=\"nonzero\" fill-opacity=\"1\" /><path clip-path=\"url(#clip370)\" d=\"M1077.01 797.69 Q1082.89 798.946 1086.17 802.916 Q1089.49 806.886 1089.49 812.719 Q1089.49 821.672 1083.33 826.573 Q1077.17 831.475 1065.83 831.475 Q1062.02 831.475 1057.97 830.705 Q1053.96 829.976 1049.67 828.477 L1049.67 820.578 Q1053.07 822.563 1057.12 823.576 Q1061.17 824.588 1065.59 824.588 Q1073.29 824.588 1077.3 821.55 Q1081.35 818.512 1081.35 812.719 Q1081.35 807.372 1077.58 804.374 Q1073.85 801.336 1067.17 801.336 L1060.12 801.336 L1060.12 794.612 L1067.49 794.612 Q1073.53 794.612 1076.73 792.222 Q1079.93 789.791 1079.93 785.254 Q1079.93 780.595 1076.61 778.124 Q1073.33 775.613 1067.17 775.613 Q1063.81 775.613 1059.96 776.342 Q1056.11 777.071 1051.49 778.611 L1051.49 771.319 Q1056.15 770.023 1060.2 769.374 Q1064.29 768.726 1067.9 768.726 Q1077.22 768.726 1082.64 772.98 Q1088.07 777.193 1088.07 784.403 Q1088.07 789.426 1085.2 792.91 Q1082.32 796.353 1077.01 797.69 Z\" fill=\"#000000\" fill-rule=\"nonzero\" fill-opacity=\"1\" /><path clip-path=\"url(#clip370)\" d=\"M1123.52 796.799 Q1118.01 796.799 1114.77 800.566 Q1111.57 804.334 1111.57 810.896 Q1111.57 817.418 1114.77 821.226 Q1118.01 824.993 1123.52 824.993 Q1129.03 824.993 1132.23 821.226 Q1135.47 817.418 1135.47 810.896 Q1135.47 804.334 1132.23 800.566 Q1129.03 796.799 1123.52 796.799 M1139.76 771.157 L1139.76 778.611 Q1136.68 777.152 1133.52 776.383 Q1130.4 775.613 1127.33 775.613 Q1119.22 775.613 1114.93 781.082 Q1110.68 786.55 1110.07 797.609 Q1112.46 794.085 1116.06 792.222 Q1119.67 790.318 1124 790.318 Q1133.12 790.318 1138.38 795.867 Q1143.69 801.377 1143.69 810.896 Q1143.69 820.213 1138.18 825.844 Q1132.67 831.475 1123.52 831.475 Q1113.03 831.475 1107.48 823.454 Q1101.93 815.393 1101.93 800.121 Q1101.93 785.781 1108.73 777.274 Q1115.54 768.726 1127 768.726 Q1130.08 768.726 1133.2 769.334 Q1136.36 769.942 1139.76 771.157 Z\" fill=\"#000000\" fill-rule=\"nonzero\" fill-opacity=\"1\" /><path clip-path=\"url(#clip370)\" d=\"M1376.3 797.69 Q1382.17 798.946 1385.45 802.916 Q1388.78 806.886 1388.78 812.719 Q1388.78 821.672 1382.62 826.573 Q1376.46 831.475 1365.12 831.475 Q1361.31 831.475 1357.26 830.705 Q1353.25 829.976 1348.96 828.477 L1348.96 820.578 Q1352.36 822.563 1356.41 823.576 Q1360.46 824.588 1364.88 824.588 Q1372.57 824.588 1376.58 821.55 Q1380.63 818.512 1380.63 812.719 Q1380.63 807.372 1376.87 804.374 Q1373.14 801.336 1366.46 801.336 L1359.41 801.336 L1359.41 794.612 L1366.78 794.612 Q1372.82 794.612 1376.02 792.222 Q1379.22 789.791 1379.22 785.254 Q1379.22 780.595 1375.89 778.124 Q1372.61 775.613 1366.46 775.613 Q1363.09 775.613 1359.25 776.342 Q1355.4 777.071 1350.78 778.611 L1350.78 771.319 Q1355.44 770.023 1359.49 769.374 Q1363.58 768.726 1367.19 768.726 Q1376.5 768.726 1381.93 772.98 Q1387.36 777.193 1387.36 784.403 Q1387.36 789.426 1384.48 792.91 Q1381.61 796.353 1376.3 797.69 Z\" fill=\"#000000\" fill-rule=\"nonzero\" fill-opacity=\"1\" /><path clip-path=\"url(#clip370)\" d=\"M1402.23 769.82 L1441.11 769.82 L1441.11 773.304 L1419.16 830.3 L1410.61 830.3 L1431.27 776.707 L1402.23 776.707 L1402.23 769.82 Z\" fill=\"#000000\" fill-rule=\"nonzero\" fill-opacity=\"1\" /><path clip-path=\"url(#clip370)\" d=\"M1673.95 797.69 Q1679.82 798.946 1683.1 802.916 Q1686.42 806.886 1686.42 812.719 Q1686.42 821.672 1680.27 826.573 Q1674.11 831.475 1662.77 831.475 Q1658.96 831.475 1654.91 830.705 Q1650.9 829.976 1646.6 828.477 L1646.6 820.578 Q1650.01 822.563 1654.06 823.576 Q1658.11 824.588 1662.52 824.588 Q1670.22 824.588 1674.23 821.55 Q1678.28 818.512 1678.28 812.719 Q1678.28 807.372 1674.51 804.374 Q1670.79 801.336 1664.1 801.336 L1657.05 801.336 L1657.05 794.612 L1664.43 794.612 Q1670.46 794.612 1673.66 792.222 Q1676.86 789.791 1676.86 785.254 Q1676.86 780.595 1673.54 778.124 Q1670.26 775.613 1664.1 775.613 Q1660.74 775.613 1656.89 776.342 Q1653.04 777.071 1648.43 778.611 L1648.43 771.319 Q1653.08 770.023 1657.14 769.374 Q1661.23 768.726 1664.83 768.726 Q1674.15 768.726 1679.58 772.98 Q1685.01 777.193 1685.01 784.403 Q1685.01 789.426 1682.13 792.91 Q1679.25 796.353 1673.95 797.69 Z\" fill=\"#000000\" fill-rule=\"nonzero\" fill-opacity=\"1\" /><path clip-path=\"url(#clip370)\" d=\"M1719.44 801.579 Q1713.6 801.579 1710.24 804.698 Q1706.92 807.818 1706.92 813.286 Q1706.92 818.755 1710.24 821.874 Q1713.6 824.993 1719.44 824.993 Q1725.27 824.993 1728.63 821.874 Q1732 818.714 1732 813.286 Q1732 807.818 1728.63 804.698 Q1725.31 801.579 1719.44 801.579 M1711.26 798.095 Q1705.99 796.799 1703.03 793.194 Q1700.12 789.588 1700.12 784.403 Q1700.12 777.152 1705.26 772.939 Q1710.44 768.726 1719.44 768.726 Q1728.47 768.726 1733.62 772.939 Q1738.76 777.152 1738.76 784.403 Q1738.76 789.588 1735.8 793.194 Q1732.89 796.799 1727.66 798.095 Q1733.58 799.473 1736.86 803.483 Q1740.18 807.493 1740.18 813.286 Q1740.18 822.077 1734.79 826.776 Q1729.44 831.475 1719.44 831.475 Q1709.43 831.475 1704.04 826.776 Q1698.7 822.077 1698.7 813.286 Q1698.7 807.493 1702.02 803.483 Q1705.34 799.473 1711.26 798.095 M1708.26 785.173 Q1708.26 789.872 1711.17 792.505 Q1714.13 795.138 1719.44 795.138 Q1724.7 795.138 1727.66 792.505 Q1730.66 789.872 1730.66 785.173 Q1730.66 780.474 1727.66 777.841 Q1724.7 775.208 1719.44 775.208 Q1714.13 775.208 1711.17 777.841 Q1708.26 780.474 1708.26 785.173 Z\" fill=\"#000000\" fill-rule=\"nonzero\" fill-opacity=\"1\" /><path clip-path=\"url(#clip370)\" d=\"M1972.38 797.69 Q1978.26 798.946 1981.54 802.916 Q1984.86 806.886 1984.86 812.719 Q1984.86 821.672 1978.7 826.573 Q1972.54 831.475 1961.2 831.475 Q1957.39 831.475 1953.34 830.705 Q1949.33 829.976 1945.04 828.477 L1945.04 820.578 Q1948.44 822.563 1952.49 823.576 Q1956.54 824.588 1960.96 824.588 Q1968.66 824.588 1972.67 821.55 Q1976.72 818.512 1976.72 812.719 Q1976.72 807.372 1972.95 804.374 Q1969.22 801.336 1962.54 801.336 L1955.49 801.336 L1955.49 794.612 L1962.86 794.612 Q1968.9 794.612 1972.1 792.222 Q1975.3 789.791 1975.3 785.254 Q1975.3 780.595 1971.98 778.124 Q1968.7 775.613 1962.54 775.613 Q1959.18 775.613 1955.33 776.342 Q1951.48 777.071 1946.86 778.611 L1946.86 771.319 Q1951.52 770.023 1955.57 769.374 Q1959.66 768.726 1963.27 768.726 Q1972.59 768.726 1978.01 772.98 Q1983.44 777.193 1983.44 784.403 Q1983.44 789.426 1980.57 792.91 Q1977.69 796.353 1972.38 797.69 Z\" fill=\"#000000\" fill-rule=\"nonzero\" fill-opacity=\"1\" /><path clip-path=\"url(#clip370)\" d=\"M2000.62 829.044 L2000.62 821.591 Q2003.7 823.049 2006.86 823.819 Q2010.02 824.588 2013.05 824.588 Q2021.16 824.588 2025.41 819.16 Q2029.7 813.691 2030.31 802.592 Q2027.96 806.076 2024.36 807.939 Q2020.75 809.802 2016.38 809.802 Q2007.3 809.802 2001.99 804.334 Q1996.73 798.825 1996.73 789.305 Q1996.73 779.988 2002.24 774.357 Q2007.75 768.726 2016.9 768.726 Q2027.39 768.726 2032.9 776.788 Q2038.45 784.808 2038.45 800.121 Q2038.45 814.421 2031.65 822.968 Q2024.88 831.475 2013.42 831.475 Q2010.34 831.475 2007.18 830.867 Q2004.02 830.26 2000.62 829.044 M2016.9 803.402 Q2022.41 803.402 2025.61 799.635 Q2028.85 795.867 2028.85 789.305 Q2028.85 782.783 2025.61 779.016 Q2022.41 775.208 2016.9 775.208 Q2011.39 775.208 2008.15 779.016 Q2004.95 782.783 2004.95 789.305 Q2004.95 795.867 2008.15 799.635 Q2011.39 803.402 2016.9 803.402 Z\" fill=\"#000000\" fill-rule=\"nonzero\" fill-opacity=\"1\" /><path clip-path=\"url(#clip370)\" d=\"M2269.4 776.95 L2248.74 809.235 L2269.4 809.235 L2269.4 776.95 M2267.25 769.82 L2277.54 769.82 L2277.54 809.235 L2286.17 809.235 L2286.17 816.041 L2277.54 816.041 L2277.54 830.3 L2269.4 830.3 L2269.4 816.041 L2242.1 816.041 L2242.1 808.142 L2267.25 769.82 Z\" fill=\"#000000\" fill-rule=\"nonzero\" fill-opacity=\"1\" /><path clip-path=\"url(#clip370)\" d=\"M2317.2 775.208 Q2310.88 775.208 2307.68 781.446 Q2304.52 787.644 2304.52 800.121 Q2304.52 812.557 2307.68 818.795 Q2310.88 824.993 2317.2 824.993 Q2323.56 824.993 2326.72 818.795 Q2329.92 812.557 2329.92 800.121 Q2329.92 787.644 2326.72 781.446 Q2323.56 775.208 2317.2 775.208 M2317.2 768.726 Q2327.37 768.726 2332.72 776.788 Q2338.1 784.808 2338.1 800.121 Q2338.1 815.393 2332.72 823.454 Q2327.37 831.475 2317.2 831.475 Q2307.03 831.475 2301.65 823.454 Q2296.3 815.393 2296.3 800.121 Q2296.3 784.808 2301.65 776.788 Q2307.03 768.726 2317.2 768.726 Z\" fill=\"#000000\" fill-rule=\"nonzero\" fill-opacity=\"1\" /><path clip-path=\"url(#clip370)\" d=\"M181.987 927.81 L161.328 960.095 L181.987 960.095 L181.987 927.81 M179.84 920.68 L190.13 920.68 L190.13 960.095 L198.758 960.095 L198.758 966.901 L190.13 966.901 L190.13 981.16 L181.987 981.16 L181.987 966.901 L154.684 966.901 L154.684 959.002 L179.84 920.68 Z\" fill=\"#000000\" fill-rule=\"nonzero\" fill-opacity=\"1\" /><path clip-path=\"url(#clip370)\" d=\"M213.706 974.273 L227.074 974.273 L227.074 928.134 L212.531 931.05 L212.531 923.597 L226.993 920.68 L235.176 920.68 L235.176 974.273 L248.544 974.273 L248.544 981.16 L213.706 981.16 L213.706 974.273 Z\" fill=\"#000000\" fill-rule=\"nonzero\" fill-opacity=\"1\" /><path clip-path=\"url(#clip370)\" d=\"M480.667 927.81 L460.007 960.095 L480.667 960.095 L480.667 927.81 M478.52 920.68 L488.809 920.68 L488.809 960.095 L497.438 960.095 L497.438 966.901 L488.809 966.901 L488.809 981.16 L480.667 981.16 L480.667 966.901 L453.364 966.901 L453.364 959.002 L478.52 920.68 Z\" fill=\"#000000\" fill-rule=\"nonzero\" fill-opacity=\"1\" /><path clip-path=\"url(#clip370)\" d=\"M518.016 974.273 L546.575 974.273 L546.575 981.16 L508.172 981.16 L508.172 974.273 Q512.831 969.453 520.852 961.351 Q528.913 953.209 530.979 950.859 Q534.908 946.444 536.448 943.406 Q538.028 940.327 538.028 937.37 Q538.028 932.549 534.625 929.511 Q531.263 926.473 525.834 926.473 Q521.986 926.473 517.692 927.81 Q513.439 929.146 508.578 931.86 L508.578 923.597 Q513.52 921.612 517.814 920.599 Q522.108 919.586 525.672 919.586 Q535.07 919.586 540.661 924.285 Q546.251 928.984 546.251 936.843 Q546.251 940.57 544.833 943.932 Q543.456 947.254 539.77 951.791 Q538.757 952.966 533.329 958.596 Q527.9 964.187 518.016 974.273 Z\" fill=\"#000000\" fill-rule=\"nonzero\" fill-opacity=\"1\" /><path clip-path=\"url(#clip370)\" d=\"M778.192 927.81 L757.532 960.095 L778.192 960.095 L778.192 927.81 M776.045 920.68 L786.334 920.68 L786.334 960.095 L794.962 960.095 L794.962 966.901 L786.334 966.901 L786.334 981.16 L778.192 981.16 L778.192 966.901 L750.889 966.901 L750.889 959.002 L776.045 920.68 Z\" fill=\"#000000\" fill-rule=\"nonzero\" fill-opacity=\"1\" /><path clip-path=\"url(#clip370)\" d=\"M833.284 948.55 Q839.158 949.806 842.439 953.776 Q845.761 957.746 845.761 963.579 Q845.761 972.532 839.603 977.433 Q833.446 982.335 822.104 982.335 Q818.296 982.335 814.245 981.565 Q810.234 980.836 805.94 979.337 L805.94 971.438 Q809.343 973.423 813.394 974.435 Q817.445 975.448 821.86 975.448 Q829.557 975.448 833.568 972.41 Q837.618 969.372 837.618 963.579 Q837.618 958.232 833.851 955.234 Q830.124 952.196 823.44 952.196 L816.392 952.196 L816.392 945.472 L823.764 945.472 Q829.8 945.472 833 943.081 Q836.201 940.651 836.201 936.114 Q836.201 931.455 832.879 928.984 Q829.598 926.473 823.44 926.473 Q820.078 926.473 816.23 927.202 Q812.381 927.931 807.763 929.47 L807.763 922.179 Q812.422 920.883 816.473 920.234 Q820.564 919.586 824.169 919.586 Q833.487 919.586 838.915 923.84 Q844.343 928.053 844.343 935.263 Q844.343 940.286 841.467 943.77 Q838.591 947.213 833.284 948.55 Z\" fill=\"#000000\" fill-rule=\"nonzero\" fill-opacity=\"1\" /><path clip-path=\"url(#clip370)\" d=\"M1075.55 927.81 L1054.89 960.095 L1075.55 960.095 L1075.55 927.81 M1073.41 920.68 L1083.7 920.68 L1083.7 960.095 L1092.33 960.095 L1092.33 966.901 L1083.7 966.901 L1083.7 981.16 L1075.55 981.16 L1075.55 966.901 L1048.25 966.901 L1048.25 959.002 L1073.41 920.68 Z\" fill=\"#000000\" fill-rule=\"nonzero\" fill-opacity=\"1\" /><path clip-path=\"url(#clip370)\" d=\"M1128.34 927.81 L1107.68 960.095 L1128.34 960.095 L1128.34 927.81 M1126.19 920.68 L1136.48 920.68 L1136.48 960.095 L1145.11 960.095 L1145.11 966.901 L1136.48 966.901 L1136.48 981.16 L1128.34 981.16 L1128.34 966.901 L1101.03 966.901 L1101.03 959.002 L1126.19 920.68 Z\" fill=\"#000000\" fill-rule=\"nonzero\" fill-opacity=\"1\" /><path clip-path=\"url(#clip370)\" d=\"M1375.21 927.81 L1354.55 960.095 L1375.21 960.095 L1375.21 927.81 M1373.06 920.68 L1383.35 920.68 L1383.35 960.095 L1391.98 960.095 L1391.98 966.901 L1383.35 966.901 L1383.35 981.16 L1375.21 981.16 L1375.21 966.901 L1347.9 966.901 L1347.9 959.002 L1373.06 920.68 Z\" fill=\"#000000\" fill-rule=\"nonzero\" fill-opacity=\"1\" /><path clip-path=\"url(#clip370)\" d=\"M1405.59 920.68 L1437.71 920.68 L1437.71 927.567 L1413.08 927.567 L1413.08 942.393 Q1414.86 941.785 1416.65 941.502 Q1418.43 941.178 1420.21 941.178 Q1430.34 941.178 1436.25 946.727 Q1442.17 952.277 1442.17 961.756 Q1442.17 971.519 1436.09 976.947 Q1430.01 982.335 1418.96 982.335 Q1415.15 982.335 1411.18 981.687 Q1407.25 981.038 1403.04 979.742 L1403.04 971.519 Q1406.68 973.504 1410.57 974.476 Q1414.46 975.448 1418.79 975.448 Q1425.8 975.448 1429.89 971.762 Q1433.98 968.076 1433.98 961.756 Q1433.98 955.437 1429.89 951.75 Q1425.8 948.064 1418.79 948.064 Q1415.51 948.064 1412.23 948.793 Q1408.99 949.522 1405.59 951.062 L1405.59 920.68 Z\" fill=\"#000000\" fill-rule=\"nonzero\" fill-opacity=\"1\" /><path clip-path=\"url(#clip370)\" d=\"M1672.55 927.81 L1651.89 960.095 L1672.55 960.095 L1672.55 927.81 M1670.4 920.68 L1680.69 920.68 L1680.69 960.095 L1689.32 960.095 L1689.32 966.901 L1680.69 966.901 L1680.69 981.16 L1672.55 981.16 L1672.55 966.901 L1645.25 966.901 L1645.25 959.002 L1670.4 920.68 Z\" fill=\"#000000\" fill-rule=\"nonzero\" fill-opacity=\"1\" /><path clip-path=\"url(#clip370)\" d=\"M1721.36 947.659 Q1715.85 947.659 1712.61 951.426 Q1709.41 955.194 1709.41 961.756 Q1709.41 968.278 1712.61 972.086 Q1715.85 975.853 1721.36 975.853 Q1726.87 975.853 1730.07 972.086 Q1733.31 968.278 1733.31 961.756 Q1733.31 955.194 1730.07 951.426 Q1726.87 947.659 1721.36 947.659 M1737.61 922.017 L1737.61 929.47 Q1734.53 928.012 1731.37 927.242 Q1728.25 926.473 1725.17 926.473 Q1717.07 926.473 1712.77 931.941 Q1708.52 937.41 1707.91 948.469 Q1710.3 944.945 1713.91 943.081 Q1717.51 941.178 1721.85 941.178 Q1730.96 941.178 1736.23 946.727 Q1741.54 952.237 1741.54 961.756 Q1741.54 971.073 1736.03 976.704 Q1730.52 982.335 1721.36 982.335 Q1710.87 982.335 1705.32 974.314 Q1699.77 966.253 1699.77 950.981 Q1699.77 936.641 1706.58 928.134 Q1713.38 919.586 1724.85 919.586 Q1727.92 919.586 1731.04 920.194 Q1734.2 920.802 1737.61 922.017 Z\" fill=\"#000000\" fill-rule=\"nonzero\" fill-opacity=\"1\" /><path clip-path=\"url(#clip370)\" d=\"M1971.84 927.81 L1951.18 960.095 L1971.84 960.095 L1971.84 927.81 M1969.69 920.68 L1979.98 920.68 L1979.98 960.095 L1988.61 960.095 L1988.61 966.901 L1979.98 966.901 L1979.98 981.16 L1971.84 981.16 L1971.84 966.901 L1944.53 966.901 L1944.53 959.002 L1969.69 920.68 Z\" fill=\"#000000\" fill-rule=\"nonzero\" fill-opacity=\"1\" /><path clip-path=\"url(#clip370)\" d=\"M2000.07 920.68 L2038.96 920.68 L2038.96 924.164 L2017 981.16 L2008.46 981.16 L2029.12 927.567 L2000.07 927.567 L2000.07 920.68 Z\" fill=\"#000000\" fill-rule=\"nonzero\" fill-opacity=\"1\" /><path clip-path=\"url(#clip370)\" d=\"M2269.48 927.81 L2248.82 960.095 L2269.48 960.095 L2269.48 927.81 M2267.34 920.68 L2277.62 920.68 L2277.62 960.095 L2286.25 960.095 L2286.25 966.901 L2277.62 966.901 L2277.62 981.16 L2269.48 981.16 L2269.48 966.901 L2242.18 966.901 L2242.18 959.002 L2267.34 920.68 Z\" fill=\"#000000\" fill-rule=\"nonzero\" fill-opacity=\"1\" /><path clip-path=\"url(#clip370)\" d=\"M2317.28 952.439 Q2311.45 952.439 2308.09 955.558 Q2304.77 958.677 2304.77 964.146 Q2304.77 969.615 2308.09 972.734 Q2311.45 975.853 2317.28 975.853 Q2323.12 975.853 2326.48 972.734 Q2329.84 969.574 2329.84 964.146 Q2329.84 958.677 2326.48 955.558 Q2323.16 952.439 2317.28 952.439 M2309.1 948.955 Q2303.83 947.659 2300.88 944.054 Q2297.96 940.448 2297.96 935.263 Q2297.96 928.012 2303.1 923.799 Q2308.29 919.586 2317.28 919.586 Q2326.32 919.586 2331.46 923.799 Q2336.61 928.012 2336.61 935.263 Q2336.61 940.448 2333.65 944.054 Q2330.73 947.659 2325.51 948.955 Q2331.42 950.333 2334.7 954.343 Q2338.02 958.353 2338.02 964.146 Q2338.02 972.937 2332.64 977.636 Q2327.29 982.335 2317.28 982.335 Q2307.28 982.335 2301.89 977.636 Q2296.54 972.937 2296.54 964.146 Q2296.54 958.353 2299.86 954.343 Q2303.19 950.333 2309.1 948.955 M2306.1 936.033 Q2306.1 940.732 2309.02 943.365 Q2311.98 945.998 2317.28 945.998 Q2322.55 945.998 2325.51 943.365 Q2328.5 940.732 2328.5 936.033 Q2328.5 931.334 2325.51 928.701 Q2322.55 926.068 2317.28 926.068 Q2311.98 926.068 2309.02 928.701 Q2306.1 931.334 2306.1 936.033 Z\" fill=\"#000000\" fill-rule=\"nonzero\" fill-opacity=\"1\" /><path clip-path=\"url(#clip370)\" d=\"M181.076 1078.67 L160.416 1110.96 L181.076 1110.96 L181.076 1078.67 M178.929 1071.54 L189.218 1071.54 L189.218 1110.96 L197.847 1110.96 L197.847 1117.76 L189.218 1117.76 L189.218 1132.02 L181.076 1132.02 L181.076 1117.76 L153.773 1117.76 L153.773 1109.86 L178.929 1071.54 Z\" fill=\"#000000\" fill-rule=\"nonzero\" fill-opacity=\"1\" /><path clip-path=\"url(#clip370)\" d=\"M211.62 1130.76 L211.62 1123.31 Q214.698 1124.77 217.858 1125.54 Q221.018 1126.31 224.056 1126.31 Q232.158 1126.31 236.411 1120.88 Q240.705 1115.41 241.313 1104.31 Q238.963 1107.8 235.358 1109.66 Q231.753 1111.52 227.378 1111.52 Q218.304 1111.52 212.997 1106.05 Q207.731 1100.54 207.731 1091.02 Q207.731 1081.71 213.24 1076.08 Q218.749 1070.45 227.904 1070.45 Q238.396 1070.45 243.905 1078.51 Q249.455 1086.53 249.455 1101.84 Q249.455 1116.14 242.65 1124.69 Q235.885 1133.19 224.421 1133.19 Q221.342 1133.19 218.182 1132.59 Q215.023 1131.98 211.62 1130.76 M227.904 1105.12 Q233.414 1105.12 236.614 1101.35 Q239.855 1097.59 239.855 1091.02 Q239.855 1084.5 236.614 1080.74 Q233.414 1076.93 227.904 1076.93 Q222.395 1076.93 219.154 1080.74 Q215.954 1084.5 215.954 1091.02 Q215.954 1097.59 219.154 1101.35 Q222.395 1105.12 227.904 1105.12 Z\" fill=\"#000000\" fill-rule=\"nonzero\" fill-opacity=\"1\" /><path clip-path=\"url(#clip370)\" d=\"M455.693 1071.54 L487.817 1071.54 L487.817 1078.43 L463.187 1078.43 L463.187 1093.25 Q464.97 1092.65 466.752 1092.36 Q468.534 1092.04 470.317 1092.04 Q480.444 1092.04 486.358 1097.59 Q492.273 1103.14 492.273 1112.62 Q492.273 1122.38 486.196 1127.81 Q480.12 1133.19 469.061 1133.19 Q465.253 1133.19 461.283 1132.55 Q457.354 1131.9 453.141 1130.6 L453.141 1122.38 Q456.787 1124.36 460.676 1125.34 Q464.564 1126.31 468.899 1126.31 Q475.907 1126.31 479.998 1122.62 Q484.09 1118.94 484.09 1112.62 Q484.09 1106.3 479.998 1102.61 Q475.907 1098.92 468.899 1098.92 Q465.618 1098.92 462.336 1099.65 Q459.096 1100.38 455.693 1101.92 L455.693 1071.54 Z\" fill=\"#000000\" fill-rule=\"nonzero\" fill-opacity=\"1\" /><path clip-path=\"url(#clip370)\" d=\"M525.895 1076.93 Q519.576 1076.93 516.376 1083.17 Q513.216 1089.36 513.216 1101.84 Q513.216 1114.28 516.376 1120.52 Q519.576 1126.71 525.895 1126.71 Q532.255 1126.71 535.415 1120.52 Q538.615 1114.28 538.615 1101.84 Q538.615 1089.36 535.415 1083.17 Q532.255 1076.93 525.895 1076.93 M525.895 1070.45 Q536.063 1070.45 541.41 1078.51 Q546.798 1086.53 546.798 1101.84 Q546.798 1117.11 541.41 1125.17 Q536.063 1133.19 525.895 1133.19 Q515.727 1133.19 510.34 1125.17 Q504.992 1117.11 504.992 1101.84 Q504.992 1086.53 510.34 1078.51 Q515.727 1070.45 525.895 1070.45 Z\" fill=\"#000000\" fill-rule=\"nonzero\" fill-opacity=\"1\" /><path clip-path=\"url(#clip370)\" d=\"M755.122 1071.54 L787.245 1071.54 L787.245 1078.43 L762.616 1078.43 L762.616 1093.25 Q764.398 1092.65 766.181 1092.36 Q767.963 1092.04 769.746 1092.04 Q779.873 1092.04 785.787 1097.59 Q791.701 1103.14 791.701 1112.62 Q791.701 1122.38 785.625 1127.81 Q779.549 1133.19 768.49 1133.19 Q764.682 1133.19 760.712 1132.55 Q756.783 1131.9 752.57 1130.6 L752.57 1122.38 Q756.216 1124.36 760.104 1125.34 Q763.993 1126.31 768.328 1126.31 Q775.336 1126.31 779.427 1122.62 Q783.519 1118.94 783.519 1112.62 Q783.519 1106.3 779.427 1102.61 Q775.336 1098.92 768.328 1098.92 Q765.047 1098.92 761.765 1099.65 Q758.525 1100.38 755.122 1101.92 L755.122 1071.54 Z\" fill=\"#000000\" fill-rule=\"nonzero\" fill-opacity=\"1\" /><path clip-path=\"url(#clip370)\" d=\"M809.242 1125.13 L822.61 1125.13 L822.61 1078.99 L808.067 1081.91 L808.067 1074.46 L822.529 1071.54 L830.712 1071.54 L830.712 1125.13 L844.08 1125.13 L844.08 1132.02 L809.242 1132.02 L809.242 1125.13 Z\" fill=\"#000000\" fill-rule=\"nonzero\" fill-opacity=\"1\" /><path clip-path=\"url(#clip370)\" d=\"M1053.8 1071.54 L1085.92 1071.54 L1085.92 1078.43 L1061.3 1078.43 L1061.3 1093.25 Q1063.08 1092.65 1064.86 1092.36 Q1066.64 1092.04 1068.42 1092.04 Q1078.55 1092.04 1084.47 1097.59 Q1090.38 1103.14 1090.38 1112.62 Q1090.38 1122.38 1084.3 1127.81 Q1078.23 1133.19 1067.17 1133.19 Q1063.36 1133.19 1059.39 1132.55 Q1055.46 1131.9 1051.25 1130.6 L1051.25 1122.38 Q1054.89 1124.36 1058.78 1125.34 Q1062.67 1126.31 1067.01 1126.31 Q1074.02 1126.31 1078.11 1122.62 Q1082.2 1118.94 1082.2 1112.62 Q1082.2 1106.3 1078.11 1102.61 Q1074.02 1098.92 1067.01 1098.92 Q1063.73 1098.92 1060.44 1099.65 Q1057.2 1100.38 1053.8 1101.92 L1053.8 1071.54 Z\" fill=\"#000000\" fill-rule=\"nonzero\" fill-opacity=\"1\" /><path clip-path=\"url(#clip370)\" d=\"M1113.55 1125.13 L1142.11 1125.13 L1142.11 1132.02 L1103.71 1132.02 L1103.71 1125.13 Q1108.37 1120.31 1116.39 1112.21 Q1124.45 1104.07 1126.51 1101.72 Q1130.44 1097.3 1131.98 1094.27 Q1133.56 1091.19 1133.56 1088.23 Q1133.56 1083.41 1130.16 1080.37 Q1126.8 1077.33 1121.37 1077.33 Q1117.52 1077.33 1113.23 1078.67 Q1108.97 1080.01 1104.11 1082.72 L1104.11 1074.46 Q1109.06 1072.47 1113.35 1071.46 Q1117.64 1070.45 1121.21 1070.45 Q1130.61 1070.45 1136.2 1075.15 Q1141.79 1079.84 1141.79 1087.7 Q1141.79 1091.43 1140.37 1094.79 Q1138.99 1098.11 1135.31 1102.65 Q1134.29 1103.83 1128.86 1109.46 Q1123.44 1115.05 1113.55 1125.13 Z\" fill=\"#000000\" fill-rule=\"nonzero\" fill-opacity=\"1\" /><path clip-path=\"url(#clip370)\" d=\"M1351.33 1071.54 L1383.45 1071.54 L1383.45 1078.43 L1358.82 1078.43 L1358.82 1093.25 Q1360.6 1092.65 1362.39 1092.36 Q1364.17 1092.04 1365.95 1092.04 Q1376.08 1092.04 1381.99 1097.59 Q1387.91 1103.14 1387.91 1112.62 Q1387.91 1122.38 1381.83 1127.81 Q1375.75 1133.19 1364.69 1133.19 Q1360.89 1133.19 1356.92 1132.55 Q1352.99 1131.9 1348.77 1130.6 L1348.77 1122.38 Q1352.42 1124.36 1356.31 1125.34 Q1360.2 1126.31 1364.53 1126.31 Q1371.54 1126.31 1375.63 1122.62 Q1379.72 1118.94 1379.72 1112.62 Q1379.72 1106.3 1375.63 1102.61 Q1371.54 1098.92 1364.53 1098.92 Q1361.25 1098.92 1357.97 1099.65 Q1354.73 1100.38 1351.33 1101.92 L1351.33 1071.54 Z\" fill=\"#000000\" fill-rule=\"nonzero\" fill-opacity=\"1\" /><path clip-path=\"url(#clip370)\" d=\"M1428.82 1099.41 Q1434.69 1100.67 1437.97 1104.64 Q1441.3 1108.61 1441.3 1114.44 Q1441.3 1123.39 1435.14 1128.29 Q1428.98 1133.19 1417.64 1133.19 Q1413.83 1133.19 1409.78 1132.43 Q1405.77 1131.7 1401.48 1130.2 L1401.48 1122.3 Q1404.88 1124.28 1408.93 1125.3 Q1412.98 1126.31 1417.4 1126.31 Q1425.09 1126.31 1429.1 1123.27 Q1433.15 1120.23 1433.15 1114.44 Q1433.15 1109.09 1429.39 1106.09 Q1425.66 1103.06 1418.98 1103.06 L1411.93 1103.06 L1411.93 1096.33 L1419.3 1096.33 Q1425.34 1096.33 1428.54 1093.94 Q1431.74 1091.51 1431.74 1086.97 Q1431.74 1082.32 1428.41 1079.84 Q1425.13 1077.33 1418.98 1077.33 Q1415.61 1077.33 1411.77 1078.06 Q1407.92 1078.79 1403.3 1080.33 L1403.3 1073.04 Q1407.96 1071.74 1412.01 1071.09 Q1416.1 1070.45 1419.71 1070.45 Q1429.02 1070.45 1434.45 1074.7 Q1439.88 1078.91 1439.88 1086.12 Q1439.88 1091.15 1437 1094.63 Q1434.13 1098.07 1428.82 1099.41 Z\" fill=\"#000000\" fill-rule=\"nonzero\" fill-opacity=\"1\" /><path clip-path=\"url(#clip370)\" d=\"M1648.69 1071.54 L1680.81 1071.54 L1680.81 1078.43 L1656.18 1078.43 L1656.18 1093.25 Q1657.97 1092.65 1659.75 1092.36 Q1661.53 1092.04 1663.31 1092.04 Q1673.44 1092.04 1679.35 1097.59 Q1685.27 1103.14 1685.27 1112.62 Q1685.27 1122.38 1679.19 1127.81 Q1673.12 1133.19 1662.06 1133.19 Q1658.25 1133.19 1654.28 1132.55 Q1650.35 1131.9 1646.14 1130.6 L1646.14 1122.38 Q1649.78 1124.36 1653.67 1125.34 Q1657.56 1126.31 1661.89 1126.31 Q1668.9 1126.31 1672.99 1122.62 Q1677.09 1118.94 1677.09 1112.62 Q1677.09 1106.3 1672.99 1102.61 Q1668.9 1098.92 1661.89 1098.92 Q1658.61 1098.92 1655.33 1099.65 Q1652.09 1100.38 1648.69 1101.92 L1648.69 1071.54 Z\" fill=\"#000000\" fill-rule=\"nonzero\" fill-opacity=\"1\" /><path clip-path=\"url(#clip370)\" d=\"M1723.87 1078.67 L1703.21 1110.96 L1723.87 1110.96 L1723.87 1078.67 M1721.73 1071.54 L1732.02 1071.54 L1732.02 1110.96 L1740.64 1110.96 L1740.64 1117.76 L1732.02 1117.76 L1732.02 1132.02 L1723.87 1132.02 L1723.87 1117.76 L1696.57 1117.76 L1696.57 1109.86 L1721.73 1071.54 Z\" fill=\"#000000\" fill-rule=\"nonzero\" fill-opacity=\"1\" /><path clip-path=\"url(#clip370)\" d=\"M1948.34 1071.54 L1980.46 1071.54 L1980.46 1078.43 L1955.83 1078.43 L1955.83 1093.25 Q1957.62 1092.65 1959.4 1092.36 Q1961.18 1092.04 1962.96 1092.04 Q1973.09 1092.04 1979.01 1097.59 Q1984.92 1103.14 1984.92 1112.62 Q1984.92 1122.38 1978.84 1127.81 Q1972.77 1133.19 1961.71 1133.19 Q1957.9 1133.19 1953.93 1132.55 Q1950 1131.9 1945.79 1130.6 L1945.79 1122.38 Q1949.43 1124.36 1953.32 1125.34 Q1957.21 1126.31 1961.55 1126.31 Q1968.55 1126.31 1972.65 1122.62 Q1976.74 1118.94 1976.74 1112.62 Q1976.74 1106.3 1972.65 1102.61 Q1968.55 1098.92 1961.55 1098.92 Q1958.27 1098.92 1954.98 1099.65 Q1951.74 1100.38 1948.34 1101.92 L1948.34 1071.54 Z\" fill=\"#000000\" fill-rule=\"nonzero\" fill-opacity=\"1\" /><path clip-path=\"url(#clip370)\" d=\"M2001.12 1071.54 L2033.25 1071.54 L2033.25 1078.43 L2008.62 1078.43 L2008.62 1093.25 Q2010.4 1092.65 2012.18 1092.36 Q2013.97 1092.04 2015.75 1092.04 Q2025.87 1092.04 2031.79 1097.59 Q2037.7 1103.14 2037.7 1112.62 Q2037.7 1122.38 2031.63 1127.81 Q2025.55 1133.19 2014.49 1133.19 Q2010.68 1133.19 2006.71 1132.55 Q2002.78 1131.9 1998.57 1130.6 L1998.57 1122.38 Q2002.22 1124.36 2006.11 1125.34 Q2010 1126.31 2014.33 1126.31 Q2021.34 1126.31 2025.43 1122.62 Q2029.52 1118.94 2029.52 1112.62 Q2029.52 1106.3 2025.43 1102.61 Q2021.34 1098.92 2014.33 1098.92 Q2011.05 1098.92 2007.77 1099.65 Q2004.53 1100.38 2001.12 1101.92 L2001.12 1071.54 Z\" fill=\"#000000\" fill-rule=\"nonzero\" fill-opacity=\"1\" /><path clip-path=\"url(#clip370)\" d=\"M2245.68 1071.54 L2277.81 1071.54 L2277.81 1078.43 L2253.18 1078.43 L2253.18 1093.25 Q2254.96 1092.65 2256.74 1092.36 Q2258.52 1092.04 2260.31 1092.04 Q2270.43 1092.04 2276.35 1097.59 Q2282.26 1103.14 2282.26 1112.62 Q2282.26 1122.38 2276.19 1127.81 Q2270.11 1133.19 2259.05 1133.19 Q2255.24 1133.19 2251.27 1132.55 Q2247.34 1131.9 2243.13 1130.6 L2243.13 1122.38 Q2246.78 1124.36 2250.67 1125.34 Q2254.55 1126.31 2258.89 1126.31 Q2265.9 1126.31 2269.99 1122.62 Q2274.08 1118.94 2274.08 1112.62 Q2274.08 1106.3 2269.99 1102.61 Q2265.9 1098.92 2258.89 1098.92 Q2255.61 1098.92 2252.33 1099.65 Q2249.09 1100.38 2245.68 1101.92 L2245.68 1071.54 Z\" fill=\"#000000\" fill-rule=\"nonzero\" fill-opacity=\"1\" /><path clip-path=\"url(#clip370)\" d=\"M2316.9 1098.52 Q2311.39 1098.52 2308.15 1102.29 Q2304.95 1106.05 2304.95 1112.62 Q2304.95 1119.14 2308.15 1122.95 Q2311.39 1126.71 2316.9 1126.71 Q2322.41 1126.71 2325.61 1122.95 Q2328.85 1119.14 2328.85 1112.62 Q2328.85 1106.05 2325.61 1102.29 Q2322.41 1098.52 2316.9 1098.52 M2333.14 1072.88 L2333.14 1080.33 Q2330.06 1078.87 2326.9 1078.1 Q2323.78 1077.33 2320.71 1077.33 Q2312.6 1077.33 2308.31 1082.8 Q2304.06 1088.27 2303.45 1099.33 Q2305.84 1095.8 2309.44 1093.94 Q2313.05 1092.04 2317.38 1092.04 Q2326.5 1092.04 2331.76 1097.59 Q2337.07 1103.1 2337.07 1112.62 Q2337.07 1121.93 2331.56 1127.56 Q2326.05 1133.19 2316.9 1133.19 Q2306.41 1133.19 2300.86 1125.17 Q2295.31 1117.11 2295.31 1101.84 Q2295.31 1087.5 2302.11 1078.99 Q2308.92 1070.45 2320.38 1070.45 Q2323.46 1070.45 2326.58 1071.05 Q2329.74 1071.66 2333.14 1072.88 Z\" fill=\"#000000\" fill-rule=\"nonzero\" fill-opacity=\"1\" /><path clip-path=\"url(#clip370)\" d=\"M158.128 1222.4 L190.251 1222.4 L190.251 1229.29 L165.622 1229.29 L165.622 1244.11 Q167.404 1243.51 169.187 1243.22 Q170.969 1242.9 172.751 1242.9 Q182.879 1242.9 188.793 1248.45 Q194.707 1254 194.707 1263.48 Q194.707 1273.24 188.631 1278.67 Q182.555 1284.05 171.496 1284.05 Q167.688 1284.05 163.718 1283.41 Q159.788 1282.76 155.576 1281.46 L155.576 1273.24 Q159.221 1275.22 163.11 1276.2 Q166.999 1277.17 171.334 1277.17 Q178.342 1277.17 182.433 1273.48 Q186.524 1269.8 186.524 1263.48 Q186.524 1257.16 182.433 1253.47 Q178.342 1249.78 171.334 1249.78 Q168.052 1249.78 164.771 1250.51 Q161.53 1251.24 158.128 1252.78 L158.128 1222.4 Z\" fill=\"#000000\" fill-rule=\"nonzero\" fill-opacity=\"1\" /><path clip-path=\"url(#clip370)\" d=\"M208.764 1222.4 L247.653 1222.4 L247.653 1225.88 L225.697 1282.88 L217.149 1282.88 L237.809 1229.29 L208.764 1229.29 L208.764 1222.4 Z\" fill=\"#000000\" fill-rule=\"nonzero\" fill-opacity=\"1\" /><path clip-path=\"url(#clip370)\" d=\"M455.774 1222.4 L487.898 1222.4 L487.898 1229.29 L463.268 1229.29 L463.268 1244.11 Q465.051 1243.51 466.833 1243.22 Q468.615 1242.9 470.398 1242.9 Q480.525 1242.9 486.439 1248.45 Q492.354 1254 492.354 1263.48 Q492.354 1273.24 486.277 1278.67 Q480.201 1284.05 469.142 1284.05 Q465.334 1284.05 461.364 1283.41 Q457.435 1282.76 453.222 1281.46 L453.222 1273.24 Q456.868 1275.22 460.757 1276.2 Q464.645 1277.17 468.98 1277.17 Q475.988 1277.17 480.079 1273.48 Q484.171 1269.8 484.171 1263.48 Q484.171 1257.16 480.079 1253.47 Q475.988 1249.78 468.98 1249.78 Q465.699 1249.78 462.417 1250.51 Q459.177 1251.24 455.774 1252.78 L455.774 1222.4 Z\" fill=\"#000000\" fill-rule=\"nonzero\" fill-opacity=\"1\" /><path clip-path=\"url(#clip370)\" d=\"M525.976 1254.16 Q520.143 1254.16 516.781 1257.28 Q513.459 1260.4 513.459 1265.87 Q513.459 1271.33 516.781 1274.45 Q520.143 1277.57 525.976 1277.57 Q531.809 1277.57 535.172 1274.45 Q538.534 1271.29 538.534 1265.87 Q538.534 1260.4 535.172 1257.28 Q531.85 1254.16 525.976 1254.16 M517.793 1250.68 Q512.527 1249.38 509.57 1245.77 Q506.653 1242.17 506.653 1236.98 Q506.653 1229.73 511.798 1225.52 Q516.983 1221.31 525.976 1221.31 Q535.01 1221.31 540.154 1225.52 Q545.299 1229.73 545.299 1236.98 Q545.299 1242.17 542.342 1245.77 Q539.425 1249.38 534.2 1250.68 Q540.114 1252.05 543.395 1256.06 Q546.717 1260.07 546.717 1265.87 Q546.717 1274.66 541.329 1279.36 Q535.982 1284.05 525.976 1284.05 Q515.97 1284.05 510.583 1279.36 Q505.236 1274.66 505.236 1265.87 Q505.236 1260.07 508.557 1256.06 Q511.879 1252.05 517.793 1250.68 M514.796 1237.75 Q514.796 1242.45 517.712 1245.08 Q520.669 1247.72 525.976 1247.72 Q531.242 1247.72 534.2 1245.08 Q537.197 1242.45 537.197 1237.75 Q537.197 1233.05 534.2 1230.42 Q531.242 1227.79 525.976 1227.79 Q520.669 1227.79 517.712 1230.42 Q514.796 1233.05 514.796 1237.75 Z\" fill=\"#000000\" fill-rule=\"nonzero\" fill-opacity=\"1\" /><path clip-path=\"url(#clip370)\" d=\"M754.21 1222.4 L786.334 1222.4 L786.334 1229.29 L761.705 1229.29 L761.705 1244.11 Q763.487 1243.51 765.269 1243.22 Q767.052 1242.9 768.834 1242.9 Q778.961 1242.9 784.876 1248.45 Q790.79 1254 790.79 1263.48 Q790.79 1273.24 784.714 1278.67 Q778.637 1284.05 767.578 1284.05 Q763.77 1284.05 759.801 1283.41 Q755.871 1282.76 751.658 1281.46 L751.658 1273.24 Q755.304 1275.22 759.193 1276.2 Q763.082 1277.17 767.416 1277.17 Q774.424 1277.17 778.516 1273.48 Q782.607 1269.8 782.607 1263.48 Q782.607 1257.16 778.516 1253.47 Q774.424 1249.78 767.416 1249.78 Q764.135 1249.78 760.854 1250.51 Q757.613 1251.24 754.21 1252.78 L754.21 1222.4 Z\" fill=\"#000000\" fill-rule=\"nonzero\" fill-opacity=\"1\" /><path clip-path=\"url(#clip370)\" d=\"M807.156 1281.62 L807.156 1274.17 Q810.234 1275.63 813.394 1276.4 Q816.554 1277.17 819.592 1277.17 Q827.694 1277.17 831.947 1271.74 Q836.241 1266.27 836.849 1255.17 Q834.499 1258.66 830.894 1260.52 Q827.289 1262.38 822.914 1262.38 Q813.84 1262.38 808.533 1256.91 Q803.267 1251.4 803.267 1241.88 Q803.267 1232.57 808.776 1226.94 Q814.285 1221.31 823.44 1221.31 Q833.932 1221.31 839.441 1229.37 Q844.991 1237.39 844.991 1252.7 Q844.991 1267 838.186 1275.55 Q831.421 1284.05 819.957 1284.05 Q816.878 1284.05 813.718 1283.45 Q810.558 1282.84 807.156 1281.62 M823.44 1255.98 Q828.95 1255.98 832.15 1252.21 Q835.39 1248.45 835.39 1241.88 Q835.39 1235.36 832.15 1231.6 Q828.95 1227.79 823.44 1227.79 Q817.931 1227.79 814.69 1231.6 Q811.49 1235.36 811.49 1241.88 Q811.49 1248.45 814.69 1252.21 Q817.931 1255.98 823.44 1255.98 Z\" fill=\"#000000\" fill-rule=\"nonzero\" fill-opacity=\"1\" /><path clip-path=\"url(#clip370)\" d=\"M1071.14 1249.38 Q1065.63 1249.38 1062.39 1253.15 Q1059.19 1256.91 1059.19 1263.48 Q1059.19 1270 1062.39 1273.81 Q1065.63 1277.57 1071.14 1277.57 Q1076.65 1277.57 1079.85 1273.81 Q1083.09 1270 1083.09 1263.48 Q1083.09 1256.91 1079.85 1253.15 Q1076.65 1249.38 1071.14 1249.38 M1087.38 1223.74 L1087.38 1231.19 Q1084.3 1229.73 1081.14 1228.96 Q1078.03 1228.19 1074.95 1228.19 Q1066.85 1228.19 1062.55 1233.66 Q1058.3 1239.13 1057.69 1250.19 Q1060.08 1246.66 1063.69 1244.8 Q1067.29 1242.9 1071.63 1242.9 Q1080.74 1242.9 1086.01 1248.45 Q1091.31 1253.96 1091.31 1263.48 Q1091.31 1272.79 1085.8 1278.42 Q1080.29 1284.05 1071.14 1284.05 Q1060.65 1284.05 1055.1 1276.03 Q1049.55 1267.97 1049.55 1252.7 Q1049.55 1238.36 1056.35 1229.85 Q1063.16 1221.31 1074.62 1221.31 Q1077.7 1221.31 1080.82 1221.91 Q1083.98 1222.52 1087.38 1223.74 Z\" fill=\"#000000\" fill-rule=\"nonzero\" fill-opacity=\"1\" /><path clip-path=\"url(#clip370)\" d=\"M1122.91 1227.79 Q1116.59 1227.79 1113.39 1234.03 Q1110.23 1240.22 1110.23 1252.7 Q1110.23 1265.14 1113.39 1271.38 Q1116.59 1277.57 1122.91 1277.57 Q1129.27 1277.57 1132.43 1271.38 Q1135.63 1265.14 1135.63 1252.7 Q1135.63 1240.22 1132.43 1234.03 Q1129.27 1227.79 1122.91 1227.79 M1122.91 1221.31 Q1133.08 1221.31 1138.42 1229.37 Q1143.81 1237.39 1143.81 1252.7 Q1143.81 1267.97 1138.42 1276.03 Q1133.08 1284.05 1122.91 1284.05 Q1112.74 1284.05 1107.35 1276.03 Q1102.01 1267.97 1102.01 1252.7 Q1102.01 1237.39 1107.35 1229.37 Q1112.74 1221.31 1122.91 1221.31 Z\" fill=\"#000000\" fill-rule=\"nonzero\" fill-opacity=\"1\" /><path clip-path=\"url(#clip370)\" d=\"M1370.57 1249.38 Q1365.06 1249.38 1361.82 1253.15 Q1358.62 1256.91 1358.62 1263.48 Q1358.62 1270 1361.82 1273.81 Q1365.06 1277.57 1370.57 1277.57 Q1376.08 1277.57 1379.28 1273.81 Q1382.52 1270 1382.52 1263.48 Q1382.52 1256.91 1379.28 1253.15 Q1376.08 1249.38 1370.57 1249.38 M1386.81 1223.74 L1386.81 1231.19 Q1383.73 1229.73 1380.57 1228.96 Q1377.45 1228.19 1374.38 1228.19 Q1366.27 1228.19 1361.98 1233.66 Q1357.73 1239.13 1357.12 1250.19 Q1359.51 1246.66 1363.11 1244.8 Q1366.72 1242.9 1371.05 1242.9 Q1380.17 1242.9 1385.43 1248.45 Q1390.74 1253.96 1390.74 1263.48 Q1390.74 1272.79 1385.23 1278.42 Q1379.72 1284.05 1370.57 1284.05 Q1360.08 1284.05 1354.53 1276.03 Q1348.98 1267.97 1348.98 1252.7 Q1348.98 1238.36 1355.78 1229.85 Q1362.59 1221.31 1374.05 1221.31 Q1377.13 1221.31 1380.25 1221.91 Q1383.41 1222.52 1386.81 1223.74 Z\" fill=\"#000000\" fill-rule=\"nonzero\" fill-opacity=\"1\" /><path clip-path=\"url(#clip370)\" d=\"M1406.26 1275.99 L1419.62 1275.99 L1419.62 1229.85 L1405.08 1232.77 L1405.08 1225.32 L1419.54 1222.4 L1427.73 1222.4 L1427.73 1275.99 L1441.09 1275.99 L1441.09 1282.88 L1406.26 1282.88 L1406.26 1275.99 Z\" fill=\"#000000\" fill-rule=\"nonzero\" fill-opacity=\"1\" /><path clip-path=\"url(#clip370)\" d=\"M1669.25 1249.38 Q1663.74 1249.38 1660.5 1253.15 Q1657.3 1256.91 1657.3 1263.48 Q1657.3 1270 1660.5 1273.81 Q1663.74 1277.57 1669.25 1277.57 Q1674.76 1277.57 1677.96 1273.81 Q1681.2 1270 1681.2 1263.48 Q1681.2 1256.91 1677.96 1253.15 Q1674.76 1249.38 1669.25 1249.38 M1685.49 1223.74 L1685.49 1231.19 Q1682.41 1229.73 1679.25 1228.96 Q1676.13 1228.19 1673.06 1228.19 Q1664.95 1228.19 1660.66 1233.66 Q1656.41 1239.13 1655.8 1250.19 Q1658.19 1246.66 1661.79 1244.8 Q1665.4 1242.9 1669.73 1242.9 Q1678.85 1242.9 1684.11 1248.45 Q1689.42 1253.96 1689.42 1263.48 Q1689.42 1272.79 1683.91 1278.42 Q1678.4 1284.05 1669.25 1284.05 Q1658.76 1284.05 1653.21 1276.03 Q1647.66 1267.97 1647.66 1252.7 Q1647.66 1238.36 1654.46 1229.85 Q1661.27 1221.31 1672.73 1221.31 Q1675.81 1221.31 1678.93 1221.91 Q1682.09 1222.52 1685.49 1223.74 Z\" fill=\"#000000\" fill-rule=\"nonzero\" fill-opacity=\"1\" /><path clip-path=\"url(#clip370)\" d=\"M1710.57 1275.99 L1739.13 1275.99 L1739.13 1282.88 L1700.72 1282.88 L1700.72 1275.99 Q1705.38 1271.17 1713.4 1263.07 Q1721.46 1254.93 1723.53 1252.58 Q1727.46 1248.16 1729 1245.13 Q1730.58 1242.05 1730.58 1239.09 Q1730.58 1234.27 1727.18 1231.23 Q1723.81 1228.19 1718.38 1228.19 Q1714.54 1228.19 1710.24 1229.53 Q1705.99 1230.87 1701.13 1233.58 L1701.13 1225.32 Q1706.07 1223.33 1710.36 1222.32 Q1714.66 1221.31 1718.22 1221.31 Q1727.62 1221.31 1733.21 1226.01 Q1738.8 1230.7 1738.8 1238.56 Q1738.8 1242.29 1737.38 1245.65 Q1736.01 1248.97 1732.32 1253.51 Q1731.31 1254.69 1725.88 1260.32 Q1720.45 1265.91 1710.57 1275.99 Z\" fill=\"#000000\" fill-rule=\"nonzero\" fill-opacity=\"1\" /><path clip-path=\"url(#clip370)\" d=\"M1966.77 1249.38 Q1961.26 1249.38 1958.02 1253.15 Q1954.82 1256.91 1954.82 1263.48 Q1954.82 1270 1958.02 1273.81 Q1961.26 1277.57 1966.77 1277.57 Q1972.28 1277.57 1975.48 1273.81 Q1978.72 1270 1978.72 1263.48 Q1978.72 1256.91 1975.48 1253.15 Q1972.28 1249.38 1966.77 1249.38 M1983.02 1223.74 L1983.02 1231.19 Q1979.94 1229.73 1976.78 1228.96 Q1973.66 1228.19 1970.58 1228.19 Q1962.48 1228.19 1958.18 1233.66 Q1953.93 1239.13 1953.32 1250.19 Q1955.71 1246.66 1959.32 1244.8 Q1962.92 1242.9 1967.26 1242.9 Q1976.37 1242.9 1981.64 1248.45 Q1986.95 1253.96 1986.95 1263.48 Q1986.95 1272.79 1981.44 1278.42 Q1975.93 1284.05 1966.77 1284.05 Q1956.28 1284.05 1950.73 1276.03 Q1945.18 1267.97 1945.18 1252.7 Q1945.18 1238.36 1951.99 1229.85 Q1958.79 1221.31 1970.26 1221.31 Q1973.33 1221.31 1976.45 1221.91 Q1979.61 1222.52 1983.02 1223.74 Z\" fill=\"#000000\" fill-rule=\"nonzero\" fill-opacity=\"1\" /><path clip-path=\"url(#clip370)\" d=\"M2025.83 1250.27 Q2031.71 1251.53 2034.99 1255.5 Q2038.31 1259.47 2038.31 1265.3 Q2038.31 1274.25 2032.15 1279.15 Q2026 1284.05 2014.65 1284.05 Q2010.85 1284.05 2006.8 1283.28 Q2002.78 1282.56 1998.49 1281.06 L1998.49 1273.16 Q2001.89 1275.14 2005.94 1276.16 Q2010 1277.17 2014.41 1277.17 Q2022.11 1277.17 2026.12 1274.13 Q2030.17 1271.09 2030.17 1265.3 Q2030.17 1259.95 2026.4 1256.95 Q2022.67 1253.92 2015.99 1253.92 L2008.94 1253.92 L2008.94 1247.19 L2016.31 1247.19 Q2022.35 1247.19 2025.55 1244.8 Q2028.75 1242.37 2028.75 1237.83 Q2028.75 1233.18 2025.43 1230.7 Q2022.15 1228.19 2015.99 1228.19 Q2012.63 1228.19 2008.78 1228.92 Q2004.93 1229.65 2000.31 1231.19 L2000.31 1223.9 Q2004.97 1222.6 2009.02 1221.95 Q2013.11 1221.31 2016.72 1221.31 Q2026.04 1221.31 2031.47 1225.56 Q2036.89 1229.77 2036.89 1236.98 Q2036.89 1242.01 2034.02 1245.49 Q2031.14 1248.93 2025.83 1250.27 Z\" fill=\"#000000\" fill-rule=\"nonzero\" fill-opacity=\"1\" /><path clip-path=\"url(#clip370)\" d=\"M2264.13 1249.38 Q2258.63 1249.38 2255.39 1253.15 Q2252.18 1256.91 2252.18 1263.48 Q2252.18 1270 2255.39 1273.81 Q2258.63 1277.57 2264.13 1277.57 Q2269.64 1277.57 2272.84 1273.81 Q2276.09 1270 2276.09 1263.48 Q2276.09 1256.91 2272.84 1253.15 Q2269.64 1249.38 2264.13 1249.38 M2280.38 1223.74 L2280.38 1231.19 Q2277.3 1229.73 2274.14 1228.96 Q2271.02 1228.19 2267.94 1228.19 Q2259.84 1228.19 2255.55 1233.66 Q2251.29 1239.13 2250.69 1250.19 Q2253.08 1246.66 2256.68 1244.8 Q2260.29 1242.9 2264.62 1242.9 Q2273.74 1242.9 2279 1248.45 Q2284.31 1253.96 2284.31 1263.48 Q2284.31 1272.79 2278.8 1278.42 Q2273.29 1284.05 2264.13 1284.05 Q2253.64 1284.05 2248.09 1276.03 Q2242.54 1267.97 2242.54 1252.7 Q2242.54 1238.36 2249.35 1229.85 Q2256.15 1221.31 2267.62 1221.31 Q2270.7 1221.31 2273.82 1221.91 Q2276.98 1222.52 2280.38 1223.74 Z\" fill=\"#000000\" fill-rule=\"nonzero\" fill-opacity=\"1\" /><path clip-path=\"url(#clip370)\" d=\"M2320.89 1229.53 L2300.23 1261.82 L2320.89 1261.82 L2320.89 1229.53 M2318.74 1222.4 L2329.03 1222.4 L2329.03 1261.82 L2337.66 1261.82 L2337.66 1268.62 L2329.03 1268.62 L2329.03 1282.88 L2320.89 1282.88 L2320.89 1268.62 L2293.59 1268.62 L2293.59 1260.72 L2318.74 1222.4 Z\" fill=\"#000000\" fill-rule=\"nonzero\" fill-opacity=\"1\" /><path clip-path=\"url(#clip370)\" d=\"M176.944 1400.24 Q171.435 1400.24 168.194 1404.01 Q164.994 1407.77 164.994 1414.34 Q164.994 1420.86 168.194 1424.67 Q171.435 1428.43 176.944 1428.43 Q182.453 1428.43 185.653 1424.67 Q188.894 1420.86 188.894 1414.34 Q188.894 1407.77 185.653 1404.01 Q182.453 1400.24 176.944 1400.24 M193.188 1374.6 L193.188 1382.05 Q190.109 1380.59 186.95 1379.82 Q183.831 1379.05 180.752 1379.05 Q172.65 1379.05 168.356 1384.52 Q164.103 1389.99 163.495 1401.05 Q165.885 1397.52 169.49 1395.66 Q173.096 1393.76 177.43 1393.76 Q186.545 1393.76 191.811 1399.31 Q197.118 1404.82 197.118 1414.34 Q197.118 1423.65 191.608 1429.28 Q186.099 1434.91 176.944 1434.91 Q166.452 1434.91 160.902 1426.89 Q155.353 1418.83 155.353 1403.56 Q155.353 1389.22 162.158 1380.71 Q168.964 1372.17 180.428 1372.17 Q183.507 1372.17 186.626 1372.77 Q189.785 1373.38 193.188 1374.6 Z\" fill=\"#000000\" fill-rule=\"nonzero\" fill-opacity=\"1\" /><path clip-path=\"url(#clip370)\" d=\"M211.296 1373.26 L243.419 1373.26 L243.419 1380.15 L218.79 1380.15 L218.79 1394.97 Q220.572 1394.36 222.355 1394.08 Q224.137 1393.76 225.919 1393.76 Q236.047 1393.76 241.961 1399.31 Q247.875 1404.86 247.875 1414.34 Q247.875 1424.1 241.799 1429.53 Q235.723 1434.91 224.664 1434.91 Q220.856 1434.91 216.886 1434.27 Q212.957 1433.62 208.744 1432.32 L208.744 1424.1 Q212.389 1426.08 216.278 1427.06 Q220.167 1428.03 224.502 1428.03 Q231.51 1428.03 235.601 1424.34 Q239.693 1420.66 239.693 1414.34 Q239.693 1408.02 235.601 1404.33 Q231.51 1400.64 224.502 1400.64 Q221.22 1400.64 217.939 1401.37 Q214.698 1402.1 211.296 1403.64 L211.296 1373.26 Z\" fill=\"#000000\" fill-rule=\"nonzero\" fill-opacity=\"1\" /><path clip-path=\"url(#clip370)\" d=\"M474.287 1400.24 Q468.777 1400.24 465.537 1404.01 Q462.336 1407.77 462.336 1414.34 Q462.336 1420.86 465.537 1424.67 Q468.777 1428.43 474.287 1428.43 Q479.796 1428.43 482.996 1424.67 Q486.237 1420.86 486.237 1414.34 Q486.237 1407.77 482.996 1404.01 Q479.796 1400.24 474.287 1400.24 M490.531 1374.6 L490.531 1382.05 Q487.452 1380.59 484.292 1379.82 Q481.173 1379.05 478.094 1379.05 Q469.993 1379.05 465.699 1384.52 Q461.445 1389.99 460.838 1401.05 Q463.228 1397.52 466.833 1395.66 Q470.438 1393.76 474.773 1393.76 Q483.887 1393.76 489.153 1399.31 Q494.46 1404.82 494.46 1414.34 Q494.46 1423.65 488.951 1429.28 Q483.442 1434.91 474.287 1434.91 Q463.795 1434.91 458.245 1426.89 Q452.695 1418.83 452.695 1403.56 Q452.695 1389.22 459.501 1380.71 Q466.306 1372.17 477.77 1372.17 Q480.849 1372.17 483.968 1372.77 Q487.128 1373.38 490.531 1374.6 Z\" fill=\"#000000\" fill-rule=\"nonzero\" fill-opacity=\"1\" /><path clip-path=\"url(#clip370)\" d=\"M527.07 1400.24 Q521.561 1400.24 518.32 1404.01 Q515.12 1407.77 515.12 1414.34 Q515.12 1420.86 518.32 1424.67 Q521.561 1428.43 527.07 1428.43 Q532.579 1428.43 535.779 1424.67 Q539.02 1420.86 539.02 1414.34 Q539.02 1407.77 535.779 1404.01 Q532.579 1400.24 527.07 1400.24 M543.314 1374.6 L543.314 1382.05 Q540.235 1380.59 537.076 1379.82 Q533.956 1379.05 530.878 1379.05 Q522.776 1379.05 518.482 1384.52 Q514.229 1389.99 513.621 1401.05 Q516.011 1397.52 519.616 1395.66 Q523.222 1393.76 527.556 1393.76 Q536.671 1393.76 541.937 1399.31 Q547.243 1404.82 547.243 1414.34 Q547.243 1423.65 541.734 1429.28 Q536.225 1434.91 527.07 1434.91 Q516.578 1434.91 511.028 1426.89 Q505.479 1418.83 505.479 1403.56 Q505.479 1389.22 512.284 1380.71 Q519.09 1372.17 530.554 1372.17 Q533.632 1372.17 536.752 1372.77 Q539.911 1373.38 543.314 1374.6 Z\" fill=\"#000000\" fill-rule=\"nonzero\" fill-opacity=\"1\" /><path clip-path=\"url(#clip370)\" d=\"M773.574 1400.24 Q768.064 1400.24 764.824 1404.01 Q761.624 1407.77 761.624 1414.34 Q761.624 1420.86 764.824 1424.67 Q768.064 1428.43 773.574 1428.43 Q779.083 1428.43 782.283 1424.67 Q785.524 1420.86 785.524 1414.34 Q785.524 1407.77 782.283 1404.01 Q779.083 1400.24 773.574 1400.24 M789.818 1374.6 L789.818 1382.05 Q786.739 1380.59 783.579 1379.82 Q780.46 1379.05 777.382 1379.05 Q769.28 1379.05 764.986 1384.52 Q760.732 1389.99 760.125 1401.05 Q762.515 1397.52 766.12 1395.66 Q769.725 1393.76 774.06 1393.76 Q783.174 1393.76 788.44 1399.31 Q793.747 1404.82 793.747 1414.34 Q793.747 1423.65 788.238 1429.28 Q782.729 1434.91 773.574 1434.91 Q763.082 1434.91 757.532 1426.89 Q751.982 1418.83 751.982 1403.56 Q751.982 1389.22 758.788 1380.71 Q765.593 1372.17 777.057 1372.17 Q780.136 1372.17 783.255 1372.77 Q786.415 1373.38 789.818 1374.6 Z\" fill=\"#000000\" fill-rule=\"nonzero\" fill-opacity=\"1\" /><path clip-path=\"url(#clip370)\" d=\"M805.778 1373.26 L844.667 1373.26 L844.667 1376.74 L822.711 1433.74 L814.164 1433.74 L834.823 1380.15 L805.778 1380.15 L805.778 1373.26 Z\" fill=\"#000000\" fill-rule=\"nonzero\" fill-opacity=\"1\" /><path clip-path=\"url(#clip370)\" d=\"M1071.22 1400.24 Q1065.71 1400.24 1062.47 1404.01 Q1059.27 1407.77 1059.27 1414.34 Q1059.27 1420.86 1062.47 1424.67 Q1065.71 1428.43 1071.22 1428.43 Q1076.73 1428.43 1079.93 1424.67 Q1083.17 1420.86 1083.17 1414.34 Q1083.17 1407.77 1079.93 1404.01 Q1076.73 1400.24 1071.22 1400.24 M1087.46 1374.6 L1087.46 1382.05 Q1084.39 1380.59 1081.23 1379.82 Q1078.11 1379.05 1075.03 1379.05 Q1066.93 1379.05 1062.63 1384.52 Q1058.38 1389.99 1057.77 1401.05 Q1060.16 1397.52 1063.77 1395.66 Q1067.37 1393.76 1071.71 1393.76 Q1080.82 1393.76 1086.09 1399.31 Q1091.39 1404.82 1091.39 1414.34 Q1091.39 1423.65 1085.88 1429.28 Q1080.38 1434.91 1071.22 1434.91 Q1060.73 1434.91 1055.18 1426.89 Q1049.63 1418.83 1049.63 1403.56 Q1049.63 1389.22 1056.43 1380.71 Q1063.24 1372.17 1074.7 1372.17 Q1077.78 1372.17 1080.9 1372.77 Q1084.06 1373.38 1087.46 1374.6 Z\" fill=\"#000000\" fill-rule=\"nonzero\" fill-opacity=\"1\" /><path clip-path=\"url(#clip370)\" d=\"M1122.99 1405.02 Q1117.16 1405.02 1113.8 1408.14 Q1110.47 1411.26 1110.47 1416.73 Q1110.47 1422.19 1113.8 1425.31 Q1117.16 1428.43 1122.99 1428.43 Q1128.82 1428.43 1132.19 1425.31 Q1135.55 1422.15 1135.55 1416.73 Q1135.55 1411.26 1132.19 1408.14 Q1128.86 1405.02 1122.99 1405.02 M1114.81 1401.54 Q1109.54 1400.24 1106.58 1396.63 Q1103.67 1393.03 1103.67 1387.84 Q1103.67 1380.59 1108.81 1376.38 Q1114 1372.17 1122.99 1372.17 Q1132.02 1372.17 1137.17 1376.38 Q1142.31 1380.59 1142.31 1387.84 Q1142.31 1393.03 1139.36 1396.63 Q1136.44 1400.24 1131.21 1401.54 Q1137.13 1402.91 1140.41 1406.92 Q1143.73 1410.93 1143.73 1416.73 Q1143.73 1425.52 1138.34 1430.22 Q1133 1434.91 1122.99 1434.91 Q1112.98 1434.91 1107.6 1430.22 Q1102.25 1425.52 1102.25 1416.73 Q1102.25 1410.93 1105.57 1406.92 Q1108.89 1402.91 1114.81 1401.54 M1111.81 1388.61 Q1111.81 1393.31 1114.73 1395.94 Q1117.68 1398.58 1122.99 1398.58 Q1128.26 1398.58 1131.21 1395.94 Q1134.21 1393.31 1134.21 1388.61 Q1134.21 1383.91 1131.21 1381.28 Q1128.26 1378.65 1122.99 1378.65 Q1117.68 1378.65 1114.73 1381.28 Q1111.81 1383.91 1111.81 1388.61 Z\" fill=\"#000000\" fill-rule=\"nonzero\" fill-opacity=\"1\" /><path clip-path=\"url(#clip370)\" d=\"M1369.66 1400.24 Q1364.15 1400.24 1360.91 1404.01 Q1357.71 1407.77 1357.71 1414.34 Q1357.71 1420.86 1360.91 1424.67 Q1364.15 1428.43 1369.66 1428.43 Q1375.17 1428.43 1378.37 1424.67 Q1381.61 1420.86 1381.61 1414.34 Q1381.61 1407.77 1378.37 1404.01 Q1375.17 1400.24 1369.66 1400.24 M1385.9 1374.6 L1385.9 1382.05 Q1382.82 1380.59 1379.66 1379.82 Q1376.54 1379.05 1373.46 1379.05 Q1365.36 1379.05 1361.07 1384.52 Q1356.82 1389.99 1356.21 1401.05 Q1358.6 1397.52 1362.2 1395.66 Q1365.81 1393.76 1370.14 1393.76 Q1379.26 1393.76 1384.52 1399.31 Q1389.83 1404.82 1389.83 1414.34 Q1389.83 1423.65 1384.32 1429.28 Q1378.81 1434.91 1369.66 1434.91 Q1359.16 1434.91 1353.61 1426.89 Q1348.07 1418.83 1348.07 1403.56 Q1348.07 1389.22 1354.87 1380.71 Q1361.68 1372.17 1373.14 1372.17 Q1376.22 1372.17 1379.34 1372.77 Q1382.5 1373.38 1385.9 1374.6 Z\" fill=\"#000000\" fill-rule=\"nonzero\" fill-opacity=\"1\" /><path clip-path=\"url(#clip370)\" d=\"M1404.17 1432.48 L1404.17 1425.03 Q1407.25 1426.49 1410.41 1427.26 Q1413.57 1428.03 1416.61 1428.03 Q1424.71 1428.03 1428.96 1422.6 Q1433.26 1417.13 1433.86 1406.03 Q1431.51 1409.52 1427.91 1411.38 Q1424.3 1413.24 1419.93 1413.24 Q1410.85 1413.24 1405.55 1407.77 Q1400.28 1402.26 1400.28 1392.74 Q1400.28 1383.43 1405.79 1377.8 Q1411.3 1372.17 1420.45 1372.17 Q1430.95 1372.17 1436.46 1380.23 Q1442.01 1388.25 1442.01 1403.56 Q1442.01 1417.86 1435.2 1426.41 Q1428.44 1434.91 1416.97 1434.91 Q1413.89 1434.91 1410.73 1434.31 Q1407.57 1433.7 1404.17 1432.48 M1420.45 1406.84 Q1425.96 1406.84 1429.16 1403.07 Q1432.4 1399.31 1432.4 1392.74 Q1432.4 1386.22 1429.16 1382.46 Q1425.96 1378.65 1420.45 1378.65 Q1414.95 1378.65 1411.7 1382.46 Q1408.5 1386.22 1408.5 1392.74 Q1408.5 1399.31 1411.7 1403.07 Q1414.95 1406.84 1420.45 1406.84 Z\" fill=\"#000000\" fill-rule=\"nonzero\" fill-opacity=\"1\" /><path clip-path=\"url(#clip370)\" d=\"M1646.76 1373.26 L1685.65 1373.26 L1685.65 1376.74 L1663.7 1433.74 L1655.15 1433.74 L1675.81 1380.15 L1646.76 1380.15 L1646.76 1373.26 Z\" fill=\"#000000\" fill-rule=\"nonzero\" fill-opacity=\"1\" /><path clip-path=\"url(#clip370)\" d=\"M1719.11 1378.65 Q1712.79 1378.65 1709.59 1384.89 Q1706.43 1391.08 1706.43 1403.56 Q1706.43 1416 1709.59 1422.24 Q1712.79 1428.43 1719.11 1428.43 Q1725.47 1428.43 1728.63 1422.24 Q1731.83 1416 1731.83 1403.56 Q1731.83 1391.08 1728.63 1384.89 Q1725.47 1378.65 1719.11 1378.65 M1719.11 1372.17 Q1729.28 1372.17 1734.63 1380.23 Q1740.02 1388.25 1740.02 1403.56 Q1740.02 1418.83 1734.63 1426.89 Q1729.28 1434.91 1719.11 1434.91 Q1708.95 1434.91 1703.56 1426.89 Q1698.21 1418.83 1698.21 1403.56 Q1698.21 1388.25 1703.56 1380.23 Q1708.95 1372.17 1719.11 1372.17 Z\" fill=\"#000000\" fill-rule=\"nonzero\" fill-opacity=\"1\" /><path clip-path=\"url(#clip370)\" d=\"M1946.19 1373.26 L1985.08 1373.26 L1985.08 1376.74 L1963.13 1433.74 L1954.58 1433.74 L1975.24 1380.15 L1946.19 1380.15 L1946.19 1373.26 Z\" fill=\"#000000\" fill-rule=\"nonzero\" fill-opacity=\"1\" /><path clip-path=\"url(#clip370)\" d=\"M2002.46 1426.85 L2015.83 1426.85 L2015.83 1380.71 L2001.29 1383.63 L2001.29 1376.18 L2015.75 1373.26 L2023.93 1373.26 L2023.93 1426.85 L2037.3 1426.85 L2037.3 1433.74 L2002.46 1433.74 L2002.46 1426.85 Z\" fill=\"#000000\" fill-rule=\"nonzero\" fill-opacity=\"1\" /><path clip-path=\"url(#clip370)\" d=\"M2244.87 1373.26 L2283.76 1373.26 L2283.76 1376.74 L2261.81 1433.74 L2253.26 1433.74 L2273.92 1380.15 L2244.87 1380.15 L2244.87 1373.26 Z\" fill=\"#000000\" fill-rule=\"nonzero\" fill-opacity=\"1\" /><path clip-path=\"url(#clip370)\" d=\"M2306.77 1426.85 L2335.33 1426.85 L2335.33 1433.74 L2296.93 1433.74 L2296.93 1426.85 Q2301.59 1422.03 2309.61 1413.93 Q2317.67 1405.79 2319.73 1403.44 Q2323.66 1399.02 2325.2 1395.99 Q2326.78 1392.91 2326.78 1389.95 Q2326.78 1385.13 2323.38 1382.09 Q2320.02 1379.05 2314.59 1379.05 Q2310.74 1379.05 2306.45 1380.39 Q2302.19 1381.73 2297.33 1384.44 L2297.33 1376.18 Q2302.27 1374.19 2306.57 1373.18 Q2310.86 1372.17 2314.43 1372.17 Q2323.83 1372.17 2329.42 1376.87 Q2335.01 1381.56 2335.01 1389.42 Q2335.01 1393.15 2333.59 1396.51 Q2332.21 1399.83 2328.52 1404.37 Q2327.51 1405.55 2322.08 1411.18 Q2316.65 1416.77 2306.77 1426.85 Z\" fill=\"#000000\" fill-rule=\"nonzero\" fill-opacity=\"1\" /><path clip-path=\"url(#clip370)\" d=\"M155.555 1524.12 L194.444 1524.12 L194.444 1527.6 L172.488 1584.6 L163.941 1584.6 L184.6 1531.01 L155.555 1531.01 L155.555 1524.12 Z\" fill=\"#000000\" fill-rule=\"nonzero\" fill-opacity=\"1\" /><path clip-path=\"url(#clip370)\" d=\"M235.196 1551.99 Q241.07 1553.25 244.351 1557.22 Q247.673 1561.19 247.673 1567.02 Q247.673 1575.97 241.515 1580.87 Q235.358 1585.77 224.016 1585.77 Q220.208 1585.77 216.157 1585 Q212.146 1584.28 207.852 1582.78 L207.852 1574.88 Q211.255 1576.86 215.306 1577.88 Q219.357 1578.89 223.773 1578.89 Q231.469 1578.89 235.48 1575.85 Q239.531 1572.81 239.531 1567.02 Q239.531 1561.67 235.763 1558.67 Q232.036 1555.64 225.352 1555.64 L218.304 1555.64 L218.304 1548.91 L225.676 1548.91 Q231.712 1548.91 234.912 1546.52 Q238.113 1544.09 238.113 1539.55 Q238.113 1534.9 234.791 1532.42 Q231.51 1529.91 225.352 1529.91 Q221.99 1529.91 218.142 1530.64 Q214.293 1531.37 209.675 1532.91 L209.675 1525.62 Q214.334 1524.32 218.385 1523.67 Q222.476 1523.03 226.082 1523.03 Q235.399 1523.03 240.827 1527.28 Q246.255 1531.49 246.255 1538.7 Q246.255 1543.73 243.379 1547.21 Q240.503 1550.65 235.196 1551.99 Z\" fill=\"#000000\" fill-rule=\"nonzero\" fill-opacity=\"1\" /><path clip-path=\"url(#clip370)\" d=\"M452.918 1524.12 L491.807 1524.12 L491.807 1527.6 L469.851 1584.6 L461.303 1584.6 L481.963 1531.01 L452.918 1531.01 L452.918 1524.12 Z\" fill=\"#000000\" fill-rule=\"nonzero\" fill-opacity=\"1\" /><path clip-path=\"url(#clip370)\" d=\"M530.25 1531.25 L509.59 1563.54 L530.25 1563.54 L530.25 1531.25 M528.103 1524.12 L538.392 1524.12 L538.392 1563.54 L547.021 1563.54 L547.021 1570.34 L538.392 1570.34 L538.392 1584.6 L530.25 1584.6 L530.25 1570.34 L502.947 1570.34 L502.947 1562.44 L528.103 1524.12 Z\" fill=\"#000000\" fill-rule=\"nonzero\" fill-opacity=\"1\" /><path clip-path=\"url(#clip370)\" d=\"M752.57 1524.12 L791.458 1524.12 L791.458 1527.6 L769.503 1584.6 L760.955 1584.6 L781.615 1531.01 L752.57 1531.01 L752.57 1524.12 Z\" fill=\"#000000\" fill-rule=\"nonzero\" fill-opacity=\"1\" /><path clip-path=\"url(#clip370)\" d=\"M807.5 1524.12 L839.624 1524.12 L839.624 1531.01 L814.994 1531.01 L814.994 1545.83 Q816.777 1545.22 818.559 1544.94 Q820.341 1544.62 822.124 1544.62 Q832.251 1544.62 838.165 1550.17 Q844.08 1555.72 844.08 1565.2 Q844.08 1574.96 838.003 1580.39 Q831.927 1585.77 820.868 1585.77 Q817.06 1585.77 813.09 1585.13 Q809.161 1584.48 804.948 1583.18 L804.948 1574.96 Q808.594 1576.94 812.483 1577.92 Q816.371 1578.89 820.706 1578.89 Q827.714 1578.89 831.805 1575.2 Q835.897 1571.52 835.897 1565.2 Q835.897 1558.88 831.805 1555.19 Q827.714 1551.5 820.706 1551.5 Q817.425 1551.5 814.143 1552.23 Q810.903 1552.96 807.5 1554.5 L807.5 1524.12 Z\" fill=\"#000000\" fill-rule=\"nonzero\" fill-opacity=\"1\" /><path clip-path=\"url(#clip370)\" d=\"M1049.91 1524.12 L1088.8 1524.12 L1088.8 1527.6 L1066.85 1584.6 L1058.3 1584.6 L1078.96 1531.01 L1049.91 1531.01 L1049.91 1524.12 Z\" fill=\"#000000\" fill-rule=\"nonzero\" fill-opacity=\"1\" /><path clip-path=\"url(#clip370)\" d=\"M1123.27 1551.1 Q1117.76 1551.1 1114.52 1554.87 Q1111.32 1558.63 1111.32 1565.2 Q1111.32 1571.72 1114.52 1575.53 Q1117.76 1579.29 1123.27 1579.29 Q1128.78 1579.29 1131.98 1575.53 Q1135.22 1571.72 1135.22 1565.2 Q1135.22 1558.63 1131.98 1554.87 Q1128.78 1551.1 1123.27 1551.1 M1139.52 1525.46 L1139.52 1532.91 Q1136.44 1531.45 1133.28 1530.68 Q1130.16 1529.91 1127.08 1529.91 Q1118.98 1529.91 1114.69 1535.38 Q1110.43 1540.85 1109.83 1551.91 Q1112.22 1548.38 1115.82 1546.52 Q1119.43 1544.62 1123.76 1544.62 Q1132.87 1544.62 1138.14 1550.17 Q1143.45 1555.68 1143.45 1565.2 Q1143.45 1574.51 1137.94 1580.14 Q1132.43 1585.77 1123.27 1585.77 Q1112.78 1585.77 1107.23 1577.75 Q1101.68 1569.69 1101.68 1554.42 Q1101.68 1540.08 1108.49 1531.57 Q1115.29 1523.03 1126.76 1523.03 Q1129.84 1523.03 1132.96 1523.63 Q1136.12 1524.24 1139.52 1525.46 Z\" fill=\"#000000\" fill-rule=\"nonzero\" fill-opacity=\"1\" /><path clip-path=\"url(#clip370)\" d=\"M1349.2 1524.12 L1388.09 1524.12 L1388.09 1527.6 L1366.13 1584.6 L1357.58 1584.6 L1378.24 1531.01 L1349.2 1531.01 L1349.2 1524.12 Z\" fill=\"#000000\" fill-rule=\"nonzero\" fill-opacity=\"1\" /><path clip-path=\"url(#clip370)\" d=\"M1401.98 1524.12 L1440.87 1524.12 L1440.87 1527.6 L1418.92 1584.6 L1410.37 1584.6 L1431.03 1531.01 L1401.98 1531.01 L1401.98 1524.12 Z\" fill=\"#000000\" fill-rule=\"nonzero\" fill-opacity=\"1\" /><path clip-path=\"url(#clip370)\" d=\"M1646.85 1524.12 L1685.73 1524.12 L1685.73 1527.6 L1663.78 1584.6 L1655.23 1584.6 L1675.89 1531.01 L1646.85 1531.01 L1646.85 1524.12 Z\" fill=\"#000000\" fill-rule=\"nonzero\" fill-opacity=\"1\" /><path clip-path=\"url(#clip370)\" d=\"M1719.19 1555.88 Q1713.36 1555.88 1710 1559 Q1706.68 1562.12 1706.68 1567.59 Q1706.68 1573.05 1710 1576.17 Q1713.36 1579.29 1719.19 1579.29 Q1725.03 1579.29 1728.39 1576.17 Q1731.75 1573.01 1731.75 1567.59 Q1731.75 1562.12 1728.39 1559 Q1725.07 1555.88 1719.19 1555.88 M1711.01 1552.4 Q1705.75 1551.1 1702.79 1547.49 Q1699.87 1543.89 1699.87 1538.7 Q1699.87 1531.45 1705.02 1527.24 Q1710.2 1523.03 1719.19 1523.03 Q1728.23 1523.03 1733.37 1527.24 Q1738.52 1531.45 1738.52 1538.7 Q1738.52 1543.89 1735.56 1547.49 Q1732.64 1551.1 1727.42 1552.4 Q1733.33 1553.77 1736.61 1557.78 Q1739.94 1561.79 1739.94 1567.59 Q1739.94 1576.38 1734.55 1581.08 Q1729.2 1585.77 1719.19 1585.77 Q1709.19 1585.77 1703.8 1581.08 Q1698.45 1576.38 1698.45 1567.59 Q1698.45 1561.79 1701.78 1557.78 Q1705.1 1553.77 1711.01 1552.4 M1708.01 1539.47 Q1708.01 1544.17 1710.93 1546.8 Q1713.89 1549.44 1719.19 1549.44 Q1724.46 1549.44 1727.42 1546.8 Q1730.42 1544.17 1730.42 1539.47 Q1730.42 1534.77 1727.42 1532.14 Q1724.46 1529.51 1719.19 1529.51 Q1713.89 1529.51 1710.93 1532.14 Q1708.01 1534.77 1708.01 1539.47 Z\" fill=\"#000000\" fill-rule=\"nonzero\" fill-opacity=\"1\" /><path clip-path=\"url(#clip370)\" d=\"M1945.28 1524.12 L1984.17 1524.12 L1984.17 1527.6 L1962.21 1584.6 L1953.67 1584.6 L1974.33 1531.01 L1945.28 1531.01 L1945.28 1524.12 Z\" fill=\"#000000\" fill-rule=\"nonzero\" fill-opacity=\"1\" /><path clip-path=\"url(#clip370)\" d=\"M2000.37 1583.34 L2000.37 1575.89 Q2003.45 1577.35 2006.61 1578.12 Q2009.77 1578.89 2012.81 1578.89 Q2020.91 1578.89 2025.17 1573.46 Q2029.46 1567.99 2030.07 1556.89 Q2027.72 1560.38 2024.11 1562.24 Q2020.51 1564.1 2016.13 1564.1 Q2007.06 1564.1 2001.75 1558.63 Q1996.49 1553.12 1996.49 1543.6 Q1996.49 1534.29 2001.99 1528.66 Q2007.5 1523.03 2016.66 1523.03 Q2027.15 1523.03 2032.66 1531.09 Q2038.21 1539.11 2038.21 1554.42 Q2038.21 1568.72 2031.4 1577.27 Q2024.64 1585.77 2013.18 1585.77 Q2010.1 1585.77 2006.94 1585.17 Q2003.78 1584.56 2000.37 1583.34 M2016.66 1557.7 Q2022.17 1557.7 2025.37 1553.93 Q2028.61 1550.17 2028.61 1543.6 Q2028.61 1537.08 2025.37 1533.32 Q2022.17 1529.51 2016.66 1529.51 Q2011.15 1529.51 2007.91 1533.32 Q2004.71 1537.08 2004.71 1543.6 Q2004.71 1550.17 2007.91 1553.93 Q2011.15 1557.7 2016.66 1557.7 Z\" fill=\"#000000\" fill-rule=\"nonzero\" fill-opacity=\"1\" /><path clip-path=\"url(#clip370)\" d=\"M2263.63 1555.88 Q2257.8 1555.88 2254.43 1559 Q2251.11 1562.12 2251.11 1567.59 Q2251.11 1573.05 2254.43 1576.17 Q2257.8 1579.29 2263.63 1579.29 Q2269.46 1579.29 2272.82 1576.17 Q2276.19 1573.01 2276.19 1567.59 Q2276.19 1562.12 2272.82 1559 Q2269.5 1555.88 2263.63 1555.88 M2255.45 1552.4 Q2250.18 1551.1 2247.22 1547.49 Q2244.31 1543.89 2244.31 1538.7 Q2244.31 1531.45 2249.45 1527.24 Q2254.64 1523.03 2263.63 1523.03 Q2272.66 1523.03 2277.81 1527.24 Q2282.95 1531.45 2282.95 1538.7 Q2282.95 1543.89 2279.99 1547.49 Q2277.08 1551.1 2271.85 1552.4 Q2277.77 1553.77 2281.05 1557.78 Q2284.37 1561.79 2284.37 1567.59 Q2284.37 1576.38 2278.98 1581.08 Q2273.63 1585.77 2263.63 1585.77 Q2253.62 1585.77 2248.24 1581.08 Q2242.89 1576.38 2242.89 1567.59 Q2242.89 1561.79 2246.21 1557.78 Q2249.53 1553.77 2255.45 1552.4 M2252.45 1539.47 Q2252.45 1544.17 2255.36 1546.8 Q2258.32 1549.44 2263.63 1549.44 Q2268.89 1549.44 2271.85 1546.8 Q2274.85 1544.17 2274.85 1539.47 Q2274.85 1534.77 2271.85 1532.14 Q2268.89 1529.51 2263.63 1529.51 Q2258.32 1529.51 2255.36 1532.14 Q2252.45 1534.77 2252.45 1539.47 Z\" fill=\"#000000\" fill-rule=\"nonzero\" fill-opacity=\"1\" /><path clip-path=\"url(#clip370)\" d=\"M2316.41 1529.51 Q2310.09 1529.51 2306.89 1535.75 Q2303.73 1541.94 2303.73 1554.42 Q2303.73 1566.86 2306.89 1573.1 Q2310.09 1579.29 2316.41 1579.29 Q2322.77 1579.29 2325.93 1573.1 Q2329.13 1566.86 2329.13 1554.42 Q2329.13 1541.94 2325.93 1535.75 Q2322.77 1529.51 2316.41 1529.51 M2316.41 1523.03 Q2326.58 1523.03 2331.93 1531.09 Q2337.31 1539.11 2337.31 1554.42 Q2337.31 1569.69 2331.93 1577.75 Q2326.58 1585.77 2316.41 1585.77 Q2306.24 1585.77 2300.86 1577.75 Q2295.51 1569.69 2295.51 1554.42 Q2295.51 1539.11 2300.86 1531.09 Q2306.24 1523.03 2316.41 1523.03 Z\" fill=\"#000000\" fill-rule=\"nonzero\" fill-opacity=\"1\" /></svg>\n"
      ]
     },
     "execution_count": 289,
     "metadata": {},
     "output_type": "execute_result"
    }
   ],
   "source": [
    "# heatmap(reshape(avg_density, Nx, Ny))\n",
    "# pp = CairoMakie.scatter(y_coordinates, x_coordinates, color=:black, markersize=5)\n",
    "\n",
    "sites = []\n",
    "for i in 1:N\n",
    "    push!(sites,i)\n",
    "end\n",
    "Plots.scatter(x_coordinates, y_coordinates, series_annotations = text.(sites, :top), label=false, xmirror = true, yflip = true)"
   ]
  },
  {
   "cell_type": "markdown",
   "id": "c8ba1c1a-0466-4c0e-ae50-68651ddddd72",
   "metadata": {},
   "source": [
    "# Animation"
   ]
  },
  {
   "cell_type": "code",
   "execution_count": 39,
   "id": "3b94f5ae-a205-48ea-9ed7-bac8407b3a50",
   "metadata": {
    "tags": []
   },
   "outputs": [],
   "source": [
    "# animated_exp_list = zeros(N,1,length(r_hubbard_states))\n",
    "# function animated_e_l()\n",
    "#     for i in 1:length(r_hubbard_states)\n",
    "#         expect_list=[]\n",
    "#         for j in 1:N\n",
    "#             T = NM_MB_Array_Storage[:,:,j]\n",
    "#             Op = Operator(BL,BR,T)\n",
    "#             push!(expect_list,expect(Op, r_hubbard_states[i]))\n",
    "#         end\n",
    "#         animated_exp_list[:,:,i] = real(expect_list)\n",
    "#     end\n",
    "#     return animated_exp_list\n",
    "# end"
   ]
  },
  {
   "cell_type": "code",
   "execution_count": 40,
   "id": "4476fa87-c99f-4428-a0d5-473049a5893a",
   "metadata": {
    "tags": []
   },
   "outputs": [],
   "source": [
    "# k = 1\n",
    "# initial_condition = reshape(animated_e_l()[:,:,k], Nx, Ny) #psi_1 (psi_k)'e karşılık gelen density matrix\n",
    "# heatmap(initial_condition)"
   ]
  },
  {
   "cell_type": "code",
   "execution_count": 41,
   "id": "e0b08e68-6ca6-4923-9cd6-2ec9f5cdf609",
   "metadata": {
    "tags": []
   },
   "outputs": [],
   "source": [
    "# initial_condition = reshape(animated_e_l()[:,:,1], Nx, Ny)\n",
    "# fps = 20\n",
    "# function heatgif(initial_condition)\n",
    "#     p = heatmap(initial_condition, xlabel=\"x\", ylabel=\"y\", title=(\"Nx=$Nx,Ny=$Ny,co=$cut_off,PN=$pn,U=$U, fps=$fps\"))\n",
    "#     anim = @animate for i=1:length(r_hubbard_states)\n",
    "#         h_map_matrix = reshape(animated_e_l()[:,:,i],Nx,Ny)\n",
    "#         heatmap!(p[1], h_map_matrix)\n",
    "#     end\n",
    "#     return anim\n",
    "# end"
   ]
  },
  {
   "cell_type": "code",
   "execution_count": 42,
   "id": "91adf7db-1421-4fd3-8615-3550623f1568",
   "metadata": {
    "tags": []
   },
   "outputs": [],
   "source": [
    "# anim = heatgif(initial_condition)\n",
    "# gif(anim, \"OUTPUT.gif\", fps=fps)"
   ]
  }
 ],
 "metadata": {
  "kernelspec": {
   "display_name": "Julia 1.8.1",
   "language": "julia",
   "name": "julia-1.8"
  },
  "language_info": {
   "file_extension": ".jl",
   "mimetype": "application/julia",
   "name": "julia",
   "version": "1.8.1"
  }
 },
 "nbformat": 4,
 "nbformat_minor": 5
}
