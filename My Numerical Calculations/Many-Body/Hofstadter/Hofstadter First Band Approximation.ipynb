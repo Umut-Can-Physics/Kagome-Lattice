{
 "cells": [
  {
   "cell_type": "code",
   "execution_count": 1,
   "id": "4e14ac7c",
   "metadata": {
    "tags": []
   },
   "outputs": [
    {
     "data": {
      "text/plain": [
       "Hofstadter_SP (generic function with 1 method)"
      ]
     },
     "execution_count": 1,
     "metadata": {},
     "output_type": "execute_result"
    }
   ],
   "source": [
    "using NBInclude\n",
    "@nbinclude(\"Hofstadter Single Particle in Julia.ipynb\")"
   ]
  },
  {
   "cell_type": "code",
   "execution_count": 2,
   "id": "1e698109",
   "metadata": {
    "tags": []
   },
   "outputs": [],
   "source": [
    "using QuantumOptics"
   ]
  },
  {
   "cell_type": "code",
   "execution_count": 3,
   "id": "205489ea",
   "metadata": {
    "tags": []
   },
   "outputs": [
    {
     "data": {
      "text/plain": [
       "Hofstadter_SP_Op (generic function with 1 method)"
      ]
     },
     "execution_count": 3,
     "metadata": {},
     "output_type": "execute_result"
    }
   ],
   "source": [
    "function Hofstadter_SP_Op(Nx, Ny, alpha)\n",
    "    \n",
    "    H_SP = Hofstadter_SP(Nx,Ny,alpha, 0)\n",
    "    \n",
    "    N = Nx*Ny\n",
    "    \n",
    "    global Basis = NLevelBasis(N)\n",
    "    \n",
    "    H = SparseOperator(Basis)\n",
    "\n",
    "    for m in 1:N\n",
    "        for n in 1:N\n",
    "            H = H + H_SP[m,n] * transition(Basis, m, n)\n",
    "        end\n",
    "    end\n",
    "    \n",
    "    return H\n",
    "end"
   ]
  },
  {
   "cell_type": "markdown",
   "id": "3fc12020",
   "metadata": {},
   "source": [
    "1) Hofstadter SP QoJulia energies are has to be equal to Hofstadter Single Particle energies."
   ]
  },
  {
   "cell_type": "code",
   "execution_count": 4,
   "id": "c208c575",
   "metadata": {
    "tags": []
   },
   "outputs": [
    {
     "data": {
      "text/plain": [
       "true"
      ]
     },
     "execution_count": 4,
     "metadata": {},
     "output_type": "execute_result"
    }
   ],
   "source": [
    "using LinearAlgebra\n",
    "eigenenergies(dense(Hofstadter_SP_Op(4, 4, 1/4))) == eigvals(Hofstadter_SP(4,4,1/4,0))"
   ]
  },
  {
   "cell_type": "code",
   "execution_count": 25,
   "id": "bd995b8b-3898-48cc-b87a-021d130f80c2",
   "metadata": {
    "tags": []
   },
   "outputs": [
    {
     "data": {
      "text/plain": [
       "Subspace_Op (generic function with 1 method)"
      ]
     },
     "execution_count": 25,
     "metadata": {},
     "output_type": "execute_result"
    }
   ],
   "source": [
    "function Subspace_Op(SP_Op, N_cut)\n",
    "    \n",
    "    E0, states0 = eigenstates(dense(SP_Op))\n",
    "    states = states0[1:N_cut]\n",
    "    #states = states0\n",
    "\n",
    "    global b_sub = SubspaceBasis(Basis,states)\n",
    "    \n",
    "    global P = projector(b_sub, Basis)\n",
    "    global Pt = dagger(P)\n",
    "    \n",
    "    Sub_Op = P*SP_Op*Pt\n",
    "    \n",
    "    return Sub_Op\n",
    "end"
   ]
  },
  {
   "cell_type": "code",
   "execution_count": 42,
   "id": "814e83dd-ac5f-4d34-85fa-582584128913",
   "metadata": {
    "tags": []
   },
   "outputs": [
    {
     "data": {
      "text/plain": [
       "Sub_Int_Op (generic function with 1 method)"
      ]
     },
     "execution_count": 42,
     "metadata": {},
     "output_type": "execute_result"
    }
   ],
   "source": [
    "function Sub_Int_Op(SP_Op, N_cut, PN, U)\n",
    "\n",
    "    Subspace_Op(SP_Op, N_cut)\n",
    "    \n",
    "    global StatesBH = bosonstates(b_sub, [PN]) \n",
    "    global Basis_MB = ManyBodyBasis(b_sub, StatesBH)\n",
    "\n",
    "    IT = SparseOperator(Basis_MB)\n",
    "    \n",
    "    N = size(SP_Op,1)\n",
    "    \n",
    "    for m in 1:N\n",
    "        \n",
    "        NM = transition(Basis, m, m)\n",
    "        NMP = P*NM*Pt\n",
    "        \n",
    "        global NM_MB_2 = SparseOperator(Basis_MB)\n",
    "        for i in 1:length(b_sub)\n",
    "            for j in 1:length(b_sub)\n",
    "                NM_MB_2 = NM_MB_2 + NMP.data[i,j] * transition(Basis_MB, i, j)\n",
    "            end\n",
    "        end\n",
    "\n",
    "        IT = IT + U/2 * NM_MB_2 * ( NM_MB_2 - identityoperator(Basis_MB) )\n",
    "    end\n",
    "    \n",
    "    return IT\n",
    "end"
   ]
  },
  {
   "cell_type": "code",
   "execution_count": 38,
   "id": "fe4b2750",
   "metadata": {
    "tags": []
   },
   "outputs": [
    {
     "data": {
      "text/plain": [
       "Sub_Space_Hofstadter_Finite_U (generic function with 1 method)"
      ]
     },
     "execution_count": 38,
     "metadata": {},
     "output_type": "execute_result"
    }
   ],
   "source": [
    "function Sub_Space_Hofstadter_Finite_U(SP_Op, N_cut, PN, U)\n",
    "    \n",
    "    SO = Subspace_Op(SP_Op, N_cut)\n",
    "    \n",
    "    SIO = Sub_Int_Op(SP_Op, N_cut, PN, U)\n",
    "    \n",
    "    KT = SparseOperator(Basis_MB)\n",
    "    \n",
    "    for m in 1:length(b_sub)\n",
    "        for n in 1:length(b_sub)\n",
    "            KT = KT + SO.data[m,n] * transition(Basis_MB, m, n)\n",
    "        end\n",
    "    end\n",
    "    \n",
    "    return H = KT + SIO\n",
    "end"
   ]
  },
  {
   "cell_type": "markdown",
   "id": "87a054cb",
   "metadata": {},
   "source": [
    "2) If U<<Band-Gap, Sub-Space Hofstadter Finite-U energies converges at Hofstadter Finite-U energies.\n",
    "3) When all SP states projected to the new sub-space, Sub-Space Hofstadter Finite-U energies have to equal to Hofstadter Finite-U energies."
   ]
  },
  {
   "cell_type": "code",
   "execution_count": 28,
   "id": "c5c80789",
   "metadata": {
    "tags": []
   },
   "outputs": [
    {
     "data": {
      "text/plain": [
       "Hofstadter_Non_Int (generic function with 1 method)"
      ]
     },
     "execution_count": 28,
     "metadata": {},
     "output_type": "execute_result"
    }
   ],
   "source": [
    "@nbinclude(\"Hofstadter MB in Julia.ipynb\"; regex=r\"#.*executeme\")"
   ]
  },
  {
   "cell_type": "code",
   "execution_count": 39,
   "id": "7246b2cf",
   "metadata": {
    "tags": []
   },
   "outputs": [
    {
     "data": {
      "text/plain": [
       "136-element Vector{Float64}:\n",
       " -5.65632808701004\n",
       " -5.656328087010034\n",
       " -5.650720758234421\n",
       " -5.650720758234409\n",
       " -5.644567583386063\n",
       " -5.644567583386059\n",
       " -5.644567583386055\n",
       " -5.644567583386051\n",
       " -5.638898559495862\n",
       " -5.638898559495853\n",
       " -2.8284271247461925\n",
       " -2.8284271247461925\n",
       " -2.828427124746191\n",
       "  ⋮\n",
       "  2.878869031963123\n",
       "  2.8788690319631245\n",
       "  5.657400802749862\n",
       "  5.6574008027498754\n",
       "  5.663224889176773\n",
       "  5.663224889176782\n",
       "  5.669573714305009\n",
       "  5.669573714305014\n",
       "  5.669573714305022\n",
       "  5.669573714305025\n",
       "  5.675331653843849\n",
       "  5.675331653843852"
      ]
     },
     "execution_count": 39,
     "metadata": {},
     "output_type": "execute_result"
    }
   ],
   "source": [
    "# using Plots\n",
    "\n",
    "Nx = Ny = 4\n",
    "alpha = 1/4\n",
    "N_cut = 4\n",
    "PN = 2\n",
    "U = 0.1\n",
    "\n",
    "SP_Op = Hofstadter_SP_Op(Nx, Ny, alpha)\n",
    "x = Sub_Space_Hofstadter_Finite_U(SP_Op, N_cut, PN, U)\n",
    "E1 = eigenenergies(dense((x+dagger(x))/2))\n",
    "\n",
    "E2 = eigenenergies(dense(Hofstadter_Finite_U(Nx, Ny, alpha, PN, U)))\n",
    "\n",
    "# print(E1-E2[1:length(E1)])\n",
    "\n",
    "# plot(1:length(E1),E1,seriestype=:scatter,markershape=:star5, markersize=6, label=\"Sub-Space\")\n",
    "# plot!(1:length(E2),E2,seriestype=:scatter,label=\"Real-Space\",legend=:topleft)\n",
    "# xlabel!(\"n\");ylabel!(\"E\")"
   ]
  },
  {
   "cell_type": "code",
   "execution_count": 40,
   "id": "ee390ff9-deaf-41b3-aa30-28e0bd6c6639",
   "metadata": {
    "tags": []
   },
   "outputs": [
    {
     "data": {
      "text/plain": [
       "10-element Vector{Float64}:\n",
       " -5.731318084257213\n",
       " -5.731318084257209\n",
       " -5.72560424949238\n",
       " -5.725604249492376\n",
       " -5.71935424949238\n",
       " -5.719354249492379\n",
       " -5.719354249492379\n",
       " -5.719354249492375\n",
       " -5.713640414727549\n",
       " -5.7136404147275455"
      ]
     },
     "execution_count": 40,
     "metadata": {},
     "output_type": "execute_result"
    }
   ],
   "source": [
    "E1"
   ]
  }
 ],
 "metadata": {
  "kernelspec": {
   "display_name": "Julia 1.7.2",
   "language": "julia",
   "name": "julia-1.7"
  },
  "language_info": {
   "file_extension": ".jl",
   "mimetype": "application/julia",
   "name": "julia",
   "version": "1.7.2"
  }
 },
 "nbformat": 4,
 "nbformat_minor": 5
}
