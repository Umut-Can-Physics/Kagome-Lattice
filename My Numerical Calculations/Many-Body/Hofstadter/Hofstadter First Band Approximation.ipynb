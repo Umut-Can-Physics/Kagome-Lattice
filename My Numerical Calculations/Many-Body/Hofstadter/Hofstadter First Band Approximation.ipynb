{
 "cells": [
  {
   "cell_type": "markdown",
   "id": "03e29043-1766-446b-b502-e55c70bcfc18",
   "metadata": {},
   "source": [
    "# Including\n",
    "* Single-Particle Hofstadter Matrix\n",
    "* Essentials First Band Approximation Functions"
   ]
  },
  {
   "cell_type": "code",
   "execution_count": 1,
   "id": "portuguese-prediction",
   "metadata": {
    "tags": []
   },
   "outputs": [],
   "source": [
    "using NBInclude\n",
    "@nbinclude(\"Hofstadter Single Particle in Julia.ipynb\")\n",
    "@nbinclude(joinpath(\"..\",\"First Band Approximation Functions.ipynb\"));"
   ]
  },
  {
   "cell_type": "markdown",
   "id": "1cbf7141-36bd-4ef7-9487-deb38a7b9128",
   "metadata": {
    "tags": []
   },
   "source": [
    "# Initial Parameters"
   ]
  },
  {
   "cell_type": "code",
   "execution_count": 2,
   "id": "about-bones",
   "metadata": {
    "tags": []
   },
   "outputs": [
    {
     "name": "stdout",
     "output_type": "stream",
     "text": [
      "Magnetic flux per unit-cell:1//10, Number of flux quanta:8\n"
     ]
    }
   ],
   "source": [
    "Nx=8; Ny=10; N=Nx*Ny; p=1; q=Ny; cut_off=Nx;\n",
    "PN=[0,1,2,3];\n",
    "U=2;\n",
    "println(\"Magnetic flux per unit-cell:\",p//q,\", Number of flux quanta:\",Nx)"
   ]
  },
  {
   "cell_type": "markdown",
   "id": "aa578b60-4cd3-49a9-8e3d-aabffe7d92cf",
   "metadata": {
    "tags": []
   },
   "source": [
    "# Sub-Space Operators of Single-Particle Space"
   ]
  },
  {
   "cell_type": "code",
   "execution_count": 3,
   "id": "imperial-crisis",
   "metadata": {
    "tags": []
   },
   "outputs": [],
   "source": [
    "#@doc get_sp_op"
   ]
  },
  {
   "cell_type": "code",
   "execution_count": 4,
   "id": "temporal-cleveland",
   "metadata": {
    "tags": []
   },
   "outputs": [],
   "source": [
    "sp_basis = NLevelBasis(N)\n",
    "periodicity = 1\n",
    "sp_matrix = Hofstadter_SP(Nx, Ny, p/q, periodicity);"
   ]
  },
  {
   "cell_type": "code",
   "execution_count": 5,
   "id": "likely-spank",
   "metadata": {
    "tags": []
   },
   "outputs": [],
   "source": [
    "H1 = get_sp_op(sp_basis, N, sp_matrix);"
   ]
  },
  {
   "cell_type": "code",
   "execution_count": 6,
   "id": "ignored-medium",
   "metadata": {
    "tags": []
   },
   "outputs": [
    {
     "data": {
      "text/plain": [
       "true"
      ]
     },
     "execution_count": 6,
     "metadata": {},
     "output_type": "execute_result"
    }
   ],
   "source": [
    "using LinearAlgebra\n",
    "eigenenergies(dense(H1)) == eigvals(sp_matrix)\n",
    "#show(stdout, \"text/plain\", eigvals(sp_matrix))"
   ]
  },
  {
   "cell_type": "code",
   "execution_count": 7,
   "id": "compact-brooks",
   "metadata": {
    "tags": []
   },
   "outputs": [],
   "source": [
    "sub_states = get_sub_states(H1, cut_off);"
   ]
  },
  {
   "cell_type": "code",
   "execution_count": 8,
   "id": "molecular-bankruptcy",
   "metadata": {
    "tags": []
   },
   "outputs": [],
   "source": [
    "basis_sub, P, Pt = get_projector_op(sub_states, sp_basis);"
   ]
  },
  {
   "cell_type": "code",
   "execution_count": 9,
   "id": "informed-macro",
   "metadata": {
    "tags": []
   },
   "outputs": [],
   "source": [
    "H1_sub = get_subspace_op(H1, P, Pt);"
   ]
  },
  {
   "cell_type": "code",
   "execution_count": 10,
   "id": "cross-patrol",
   "metadata": {
    "tags": []
   },
   "outputs": [],
   "source": [
    "num_sub_list = get_num_sub_list(N, sp_basis, P, Pt);"
   ]
  },
  {
   "cell_type": "markdown",
   "id": "particular-surrey",
   "metadata": {},
   "source": [
    "# Hubbard Interaction in The Sub-Space"
   ]
  },
  {
   "cell_type": "code",
   "execution_count": 11,
   "id": "2d6ddf03-05b6-497a-af81-8ccf124adde4",
   "metadata": {
    "tags": []
   },
   "outputs": [],
   "source": [
    "states_mb = bosonstates(basis_sub, PN) \n",
    "basis_mb = ManyBodyBasis(basis_sub, states_mb);"
   ]
  },
  {
   "cell_type": "code",
   "execution_count": 12,
   "id": "6eca28a4-7872-49e8-8e57-31306169840c",
   "metadata": {
    "tags": []
   },
   "outputs": [],
   "source": [
    "H1_MB = get_mb_op(basis_mb, basis_sub, H1_sub);"
   ]
  },
  {
   "cell_type": "code",
   "execution_count": 13,
   "id": "d228561d-92e0-4e56-8eb3-0747bc107238",
   "metadata": {
    "tags": []
   },
   "outputs": [],
   "source": [
    "@nbinclude(\"Hofstadter MB in Julia.ipynb\"; regex=r\"#.*executeme\");"
   ]
  },
  {
   "cell_type": "code",
   "execution_count": 14,
   "id": "dutch-philosophy",
   "metadata": {
    "tags": []
   },
   "outputs": [],
   "source": [
    "basis_cut_mb, basis_cut_sp = get_Bosonic_MB_Basis(cut_off,PN)\n",
    "H_Int = Hubbard_Interaction(basis_cut_sp, basis_cut_mb, P, Pt, cut_off);"
   ]
  },
  {
   "cell_type": "markdown",
   "id": "865cc1d6-3246-4f5a-9c75-dfe67eab2040",
   "metadata": {},
   "source": [
    "# Total Hamiltonian with Impurity Potential"
   ]
  },
  {
   "cell_type": "code",
   "execution_count": 15,
   "id": "technical-technology",
   "metadata": {
    "tags": []
   },
   "outputs": [
    {
     "data": {
      "text/plain": [
       "get_total_H (generic function with 1 method)"
      ]
     },
     "execution_count": 15,
     "metadata": {},
     "output_type": "execute_result"
    }
   ],
   "source": [
    "H1cut = SparseOperator(basis_cut_mb)\n",
    "H1cut.data = H1_MB.data\n",
    "\n",
    "number_mb_list_operators = get_num_mb_op(N, basis_cut_sp, num_sub_list, basis_cut_mb, basis_sub)\n",
    "\n",
    "function get_total_H(V, imp_site, number_mb_list_operators, H1cut, H_Int)\n",
    "    V_imp = V * number_mb_list_operators[imp_site]\n",
    "    H_totall = H1cut + H_Int + V_imp\n",
    "    return H_totall\n",
    "end"
   ]
  },
  {
   "cell_type": "code",
   "execution_count": 16,
   "id": "286e07b8-cd57-434f-9da1-c778d388ca05",
   "metadata": {},
   "outputs": [
    {
     "data": {
      "text/plain": [
       "165-element Vector{Float64}:\n",
       " -10.25989036827856\n",
       " -10.259884355536744\n",
       " -10.259864512378336\n",
       " -10.259850884356036\n",
       " -10.259839167727383\n",
       " -10.259824249734962\n",
       " -10.259823526897176\n",
       " -10.22208679636642\n",
       " -10.22201626319062\n",
       " -10.219513235302076\n",
       " -10.217732415278814\n",
       " -10.199841575511721\n",
       " -10.196463481204804\n",
       "   ⋮\n",
       "  -6.3814597954418595\n",
       "  -6.339971078960226\n",
       "  -5.9390924372626825\n",
       "  -3.420053641408166\n",
       "  -3.420031239199189\n",
       "  -3.420015300472142\n",
       "  -3.420015300472138\n",
       "  -3.420015300472136\n",
       "  -3.4199783250834765\n",
       "  -3.4199769502011854\n",
       "  -3.0195439772186035\n",
       "   0.0"
      ]
     },
     "execution_count": 16,
     "metadata": {},
     "output_type": "execute_result"
    }
   ],
   "source": [
    "imp_site = 44\n",
    "V = 4\n",
    "\n",
    "H_total_imp = get_total_H(V, imp_site, number_mb_list_operators, H1cut, H_Int)\n",
    "H_total = get_total_H(0, imp_site, number_mb_list_operators, H1cut, H_Int)\n",
    "\n",
    "eigenenergies(dense((H_total_imp+H_total_imp')/2))"
   ]
  },
  {
   "cell_type": "markdown",
   "id": "3f1b1096-6ac2-4940-9e20-a7b79871a0a7",
   "metadata": {},
   "source": [
    "# Exact Diagonalization"
   ]
  },
  {
   "cell_type": "code",
   "execution_count": 17,
   "id": "436255b0-474b-4d97-8672-a458428a7a3d",
   "metadata": {
    "tags": []
   },
   "outputs": [
    {
     "data": {
      "text/plain": [
       "get_energies (generic function with 1 method)"
      ]
     },
     "execution_count": 17,
     "metadata": {},
     "output_type": "execute_result"
    }
   ],
   "source": [
    "using DataFrames\n",
    "\n",
    "E, V = eigenstates(dense((H_total_imp+dagger(H_total_imp))/2))\n",
    "E0, V0 = eigenstates(dense((H_total+dagger(H_total))/2))\n",
    "\n",
    "function get_energies(pn, E, V, basis)\n",
    "    PN_Energies = Array{Float64}(undef, length(E), 2)\n",
    "    for i in 1:length(E)\n",
    "        PN_Energies[i] = round(expect(number(basis), V[i])) \n",
    "        PN_Energies[i,2] = E[i] \n",
    "    end\n",
    "    \n",
    "    # filter\n",
    "    df = DataFrame(PN_Energies, :auto)\n",
    "    df = filter(row -> (row.x1 == pn),  df)\n",
    "    \n",
    "    return df\n",
    "end"
   ]
  },
  {
   "cell_type": "code",
   "execution_count": 18,
   "id": "a8ad480a-c777-496c-8300-8332a8c2e9de",
   "metadata": {},
   "outputs": [
    {
     "data": {
      "text/plain": [
       "4-element Vector{Int64}:\n",
       " 0\n",
       " 1\n",
       " 2\n",
       " 3"
      ]
     },
     "execution_count": 18,
     "metadata": {},
     "output_type": "execute_result"
    }
   ],
   "source": [
    "PN"
   ]
  },
  {
   "cell_type": "code",
   "execution_count": 19,
   "id": "0fc34877-b975-44a9-bdf1-171087768b75",
   "metadata": {
    "tags": []
   },
   "outputs": [
    {
     "data": {
      "text/plain": [
       "120-element Vector{Float64}:\n",
       " -10.259890368278562\n",
       " -10.259884355536741\n",
       " -10.259864512378336\n",
       " -10.259850884356041\n",
       " -10.259839167727385\n",
       " -10.259824249734962\n",
       " -10.259823526897183\n",
       " -10.222086796366423\n",
       " -10.222016263190621\n",
       " -10.219513235302072\n",
       " -10.217732415278812\n",
       " -10.19984157551172\n",
       " -10.1964634812048\n",
       "   ⋮\n",
       "  -9.651204989162363\n",
       "  -9.64655398380525\n",
       "  -9.625829451051365\n",
       "  -9.621949132365055\n",
       "  -9.357538317049936\n",
       "  -9.349522601020235\n",
       "  -9.347588691550747\n",
       "  -9.317961495391941\n",
       "  -9.301453804822795\n",
       "  -9.241709143692601\n",
       "  -9.159917826968925\n",
       "  -8.758631035655732"
      ]
     },
     "execution_count": 19,
     "metadata": {},
     "output_type": "execute_result"
    }
   ],
   "source": [
    "pn = 3\n",
    "\n",
    "df = get_energies(pn, E, V, basis_cut_mb)\n",
    "df_0 = get_energies(pn, E0, V0, basis_cut_mb)\n",
    "\n",
    "# V \\neq 0\n",
    "filtered_energies = Matrix(df)[:,2]\n",
    "# V = 0\n",
    "# filtered_energies_0 = Matrix(df_0)[:,2]\n",
    "\n",
    "#show(stdout,\"text/plain\", filtered_energies) #show all outputs"
   ]
  },
  {
   "cell_type": "code",
   "execution_count": null,
   "id": "df9681c9-386b-4078-bb13-17f20ad6f53e",
   "metadata": {
    "tags": []
   },
   "outputs": [],
   "source": [
    "using Plots\n",
    "using LaTeXStrings\n",
    "\n",
    "Plots.plot(1:35, E0, seriestype=:scatter,xlabel=L\"$n$\",ylabel=L\"$E$\",title=L\"$V_{imp}=0$\",legend=false)\n",
    "#ylims!((-7.20544,-7.20536)) # Onur hocanın makalesinde ki FIG1 için sınırlar\n",
    "Plots.ylims!(( -10.35,-7.20536))"
   ]
  },
  {
   "cell_type": "markdown",
   "id": "aaca712c-b257-494d-bc14-71ded4bb8410",
   "metadata": {},
   "source": [
    "Allta ki fonksiyonun çalışması için, dizide ki filtre edilmiş parçacık sayısı her zaman en büyük değer de olmalıdır.\n",
    "Örneğin, `PN=[0,1,2,3,4]` iken filtre edilen parçacık sayısı `pn=4` olmalıdır!"
   ]
  },
  {
   "cell_type": "code",
   "execution_count": null,
   "id": "d582d7a3-67c3-4775-bcb8-2862643ca5ac",
   "metadata": {
    "tags": []
   },
   "outputs": [],
   "source": [
    "function Restricted_Hubbard_States(states)\n",
    "    number_of_states = length(filtered_energies)\n",
    "    return states[1:number_of_states]\n",
    "end"
   ]
  },
  {
   "cell_type": "code",
   "execution_count": null,
   "id": "da17cb7c-bc14-4026-adae-386b3b5b2083",
   "metadata": {
    "tags": []
   },
   "outputs": [],
   "source": [
    "r_hubbard_states = Restricted_Hubbard_States(V)\n",
    "r_hubbard_states_0 = Restricted_Hubbard_States(V0);"
   ]
  },
  {
   "cell_type": "markdown",
   "id": "14aea968-4016-4dc6-965b-e194bc4b4944",
   "metadata": {},
   "source": [
    "# Densities"
   ]
  },
  {
   "cell_type": "code",
   "execution_count": null,
   "id": "36f916a4-68d4-4448-ac28-a27d6f24ce86",
   "metadata": {
    "tags": []
   },
   "outputs": [],
   "source": [
    "# METHOD 1\n",
    "\n",
    "NM_MB_Array_Storage = zeros(Complex{Float64},length(basis_cut_mb),length(basis_cut_mb),N);\n",
    "NM_MB_Matrix = zeros(Complex{Float64},length(basis_cut_mb),length(basis_cut_mb));\n",
    "for m in 1:N\n",
    "    for i in 1:length(basis_cut_mb)\n",
    "        for j in 1:length(basis_cut_mb)\n",
    "            #NM_MB_Matrix[i,j] = num_mb_list[m].data[i,j]\n",
    "            NM_MB_Matrix[i,j] = number_mb_list_operators[m].data[i,j]\n",
    "            # NOT: num_mb_list ile number_mb_list_operators bazları farklı ama içerikleri aynı!\n",
    "        end\n",
    "    end\n",
    "    NM_MB_Array_Storage[:,:,m] = NM_MB_Matrix\n",
    "end"
   ]
  },
  {
   "cell_type": "code",
   "execution_count": null,
   "id": "ceed466f-f47c-4de5-aa30-6462f60a8fc5",
   "metadata": {},
   "outputs": [],
   "source": [
    "BL = BR = basis_cut_mb\n",
    "index_number_op = 4\n",
    "\n",
    "T = NM_MB_Array_Storage[:,:,index_number_op]\n",
    "Op = Operator(BL,BR,T)\n",
    "\n",
    "index_eigen_states = 1\n",
    "\n",
    "expect(Op, r_hubbard_states[index_eigen_states])\n",
    "expect(Op, r_hubbard_states_0[index_eigen_states])\n",
    "\n",
    "# METHOD 2\n",
    "# DIKKAT: BURADA DENSITY'LER YANLIŞ GELİYOR! BUNU KULLANMA!\n",
    "# expect(number_mb_list_operators[index_number_op],r_hubbard_states[index_eigen_states])"
   ]
  },
  {
   "cell_type": "markdown",
   "id": "de16c359-2839-4b2f-8f23-eb528631279b",
   "metadata": {},
   "source": [
    "<font size=\"4\">\n",
    "$\\sum_{i} <\\psi_j|n_i|\\psi_j>, \\quad \\text{for a given j index}$\n",
    "</font>"
   ]
  },
  {
   "cell_type": "code",
   "execution_count": null,
   "id": "76f88a82-5b2a-42be-8493-09d88c08e621",
   "metadata": {
    "tags": []
   },
   "outputs": [],
   "source": [
    "index_eig_states = 1\n",
    "\n",
    "function get_density_profiles(NM_MB_Array_Storage, r_hubbard_states, index_eig_states)\n",
    "    Sum = 0\n",
    "    expect_list = []\n",
    "    for i in 1:N\n",
    "        T = NM_MB_Array_Storage[:,:,i]\n",
    "        Op = Operator(BL,BR,T)   \n",
    "        Sum += expect(Op, r_hubbard_states[index_eig_states])\n",
    "        push!(expect_list, expect(Op, r_hubbard_states[index_eig_states]))\n",
    "    end\n",
    "    return real(expect_list)\n",
    "end"
   ]
  },
  {
   "cell_type": "markdown",
   "id": "5d62d147-2ab4-4856-8a08-d2505e23f0af",
   "metadata": {},
   "source": [
    "<font size=\"4\">\n",
    "    \\begin{align*}\n",
    "    \\frac{N}{N_{\\Phi}} &= \\frac{3}{8}, \\quad \\text{In the Laughlin State: } \\frac{N}{N_{\\Phi}}=\\frac{3}{6}=\\frac{1}{2} => \\text{There are 2 free quasi-particles.} \\\\\n",
    "    &\\text{So, added 2 flux in the lattice is mean that, +2 free quasi-particles.}\n",
    "    \\end{align*}\n",
    "</font>"
   ]
  },
  {
   "cell_type": "code",
   "execution_count": null,
   "id": "879026ac-6676-41fd-b974-8d6d894c6f67",
   "metadata": {
    "tags": []
   },
   "outputs": [],
   "source": [
    "# AVERAGE (Nx=8; Ny=10; N=Nx*Ny; p=1; q=Ny; cut_off=Nx; PN=[0,1,2,3])\n",
    "\n",
    "# Degeneracy in The Sub-Space for V \\neq 0\n",
    "Degeneracy = 7 \n",
    "avg_density = zeros((Nx,Ny)) \n",
    "for index_eig_states in 1:Degeneracy\n",
    "    avg_density += reshape(get_density_profiles(NM_MB_Array_Storage, r_hubbard_states, index_eig_states),Nx,Ny)\n",
    "end    \n",
    "avg_density = avg_density / Degeneracy;\n",
    "\n",
    "# Degeneracy in The Sub-Space for V = 0\n",
    "Degeneracy_0 = 16\n",
    "avg_density_0 = zeros((Nx,Ny))\n",
    "for index_eig_states in 1:Degeneracy_0\n",
    "    avg_density_0 += reshape(get_density_profiles(NM_MB_Array_Storage, r_hubbard_states_0, index_eig_states),Nx,Ny)\n",
    "end    \n",
    "avg_density_0 = avg_density_0 / Degeneracy_0;\n",
    "\n",
    "# Degeneracy_0 => Örgüde sadece 2 quasi-parçacık boştayken geçerli dejenereliktir.\n",
    "# Ancak bizim bakmak istediğimiz resim, bu parçacıklardan birisini pinlenmiş ve diğerinin ise boşta olmasıdır."
   ]
  },
  {
   "cell_type": "markdown",
   "id": "b9d5b1fa-eac3-4939-97fb-3e6736262659",
   "metadata": {},
   "source": [
    "# Lattice and Minimum Distances"
   ]
  },
  {
   "cell_type": "code",
   "execution_count": null,
   "id": "443171da-8b44-4045-bf06-6685e14b6906",
   "metadata": {
    "tags": []
   },
   "outputs": [],
   "source": [
    "site_idx = range(1,Nx*Ny) \n",
    "lattice = reverse(OffsetArray(reshape(site_idx, (Ny,Nx)), 1:Ny, 1:Nx), dims=1)\n",
    "coordinates = []\n",
    "for x in 0:Nx-1\n",
    "    for y in 0:Ny-1\n",
    "        coordinates = [coordinates; x; y]\n",
    "    end\n",
    "end\n",
    "coordinates = reshape(coordinates, (2, Nx*Ny)) |> transpose\n",
    "lattice"
   ]
  },
  {
   "cell_type": "code",
   "execution_count": null,
   "id": "6452aec8-318b-42ac-9d11-c3fffae855be",
   "metadata": {},
   "outputs": [],
   "source": [
    "# Original Square Lattice used by Single-Particle Matrix\n",
    "square_lattice(Nx,Ny)[1]   "
   ]
  },
  {
   "cell_type": "code",
   "execution_count": null,
   "id": "66ece009-9015-4fd5-902b-2c0b60c0ec65",
   "metadata": {
    "tags": []
   },
   "outputs": [],
   "source": [
    "# Ghost Sites\n",
    "coordinates_top_left = hcat(coordinates[:,1].-Nx,coordinates[:,2].+Ny)\n",
    "coordinates_top = hcat(coordinates[:,1],coordinates[:,2].+Ny)\n",
    "coordinates_top_right = hcat(coordinates[:,1].+Nx,coordinates[:,2].+Ny)\n",
    "coordinates_left = hcat(coordinates[:,1].-Nx,coordinates[:,2])\n",
    "coordinates_right = hcat(coordinates[:,1].+Nx,coordinates[:,2])\n",
    "coordinates_bottom_left = hcat(coordinates[:,1].-Nx,coordinates[:,2].-Ny)\n",
    "coordinates_bottom = hcat(coordinates[:,1],coordinates[:,2].-Ny)\n",
    "coordinates_bottom_right = hcat(coordinates[:,1].+Nx,coordinates[:,2].-Ny);\n",
    "co_districts = [coordinates_top_left,coordinates_top,coordinates_top_right,coordinates_left,coordinates_right,coordinates,coordinates_bottom_left,coordinates_bottom,coordinates_bottom_right];"
   ]
  },
  {
   "cell_type": "code",
   "execution_count": null,
   "id": "483b4525-1d86-4096-a6f9-b0f6a4aecefd",
   "metadata": {},
   "outputs": [],
   "source": [
    "using Plots\n",
    "center_x = (Nx-1)/2\n",
    "center_y = (Ny-1)/2\n",
    "scatter([coordinates_top_left[:,1]],[coordinates_top_left[:,2]],legend=false, alpha=0.3);annotate!( center_x-Nx, center_y+Ny, \"top-left\")\n",
    "scatter!([coordinates_top[:,1]],[coordinates_top[:,2]], alpha=0.3);annotate!(center_x, center_y+Ny, \"top\")\n",
    "scatter!([coordinates_top_right[:,1]],[coordinates_top_right[:,2]], alpha=0.3);annotate!(center_x+Nx, center_y+Ny, \"top-right\")\n",
    "scatter!([coordinates_left[:,1]],[coordinates_left[:,2]], alpha=0.3);annotate!(center_x-Nx, center_y, \"left\")\n",
    "scatter!([coordinates[:,1]], [coordinates[:,2]]);annotate!(center_x,center_y, \"center\")\n",
    "scatter!([coordinates_right[:,1]],[coordinates_right[:,2]], alpha=0.3);annotate!(center_x+Nx, center_y, \"right\")\n",
    "scatter!([coordinates_bottom_left[:,1]],[coordinates_bottom_left[:,2]], alpha=0.3);annotate!(center_x-Nx, center_y-Ny, \"bottom-left\")\n",
    "scatter!([coordinates_bottom[:,1]],[coordinates_bottom[:,2]], alpha=0.3);annotate!(center_x, center_y-Ny, \"bottom\")\n",
    "scatter!([coordinates_bottom_right[:,1]],[coordinates_bottom_right[:,2]], alpha=0.3);annotate!(center_x+Nx, center_y-Ny, \"bottom-right\")"
   ]
  },
  {
   "cell_type": "code",
   "execution_count": null,
   "id": "098a06cb-996b-4131-8125-1d2f503ecb47",
   "metadata": {},
   "outputs": [],
   "source": [
    "# Distance Functions\n",
    "function find_co(coordinates, p) # coordinates: Distrincts of Periodic Site\n",
    "    x_co = coordinates[:,1]\n",
    "    y_co = coordinates[:,2]\n",
    "    x = hcat(x_co, y_co)[p, 1]\n",
    "    y = hcat(x_co, y_co)[p, 2]\n",
    "    return x, y\n",
    "end\n",
    "\n",
    "function distance(coordinates_p1, p1, coordinates_p2, p2)\n",
    "    x2 = find_co(coordinates_p2, p2)[1]\n",
    "    x1 = find_co(coordinates_p1, p1)[1]\n",
    "    y2 = find_co(coordinates_p2, p2)[2]\n",
    "    y1 = find_co(coordinates_p1, p1)[2]\n",
    "    return sqrt( (x2 - x1)^2 + (y2 - y1)^2 )\n",
    "end"
   ]
  },
  {
   "cell_type": "code",
   "execution_count": null,
   "id": "feea58d7-020a-4869-92d4-638689e12210",
   "metadata": {
    "tags": []
   },
   "outputs": [],
   "source": [
    "# Example of Disctance Function\n",
    "coordinates_p1=coordinates_top_left\n",
    "p1 = 1\n",
    "coordinates_p2=coordinates\n",
    "p2 = imp_site\n",
    "distance(coordinates_p1, p1, coordinates_p2, p2)"
   ]
  },
  {
   "cell_type": "markdown",
   "id": "83a6f6cd-0e17-44ac-8b1c-9bd461cbdf5e",
   "metadata": {},
   "source": [
    "# Minimum Distances of Equivalent Sites from Center Reference Site"
   ]
  },
  {
   "cell_type": "code",
   "execution_count": null,
   "id": "423a76b5-4c14-409d-b871-d4e8b23f36fe",
   "metadata": {
    "tags": []
   },
   "outputs": [],
   "source": [
    "# ref_coordinates = coordinates\n",
    "# ref_site = 36\n",
    "# distances = []\n",
    "# min_distances = []\n",
    "\n",
    "# PERIODIC\n",
    "# for site_idx in 1:N \n",
    "#     for district in co_districts\n",
    "#         push!(distances, distance(district, site_idx, ref_coordinates, ref_site))\n",
    "#     end\n",
    "#     push!(min_distances, minimum(distances))\n",
    "# end\n",
    "# radius_l = sort(min_distances);\n",
    "\n",
    "# PERIODIC WITHOUT MINIMUM FUNCTION\n",
    "# distances = []\n",
    "# min_distances = []\n",
    "# for site_idx in 1:N\n",
    "#     for district in co_districts\n",
    "#         push!(distances, distance(district, site_idx, ref_coordinates, ref_site))\n",
    "#     end\n",
    "# end\n",
    "# show(stdout, \"text/plain\", unique(sort(distances)))\n",
    "\n",
    "# Aynı Q_\\rho değerleri üretmeyen yarı-çap listesi (DOĞRU YARI-ÇAPLAR)\n",
    "# Yani, sadece Merkez siteler konumda ki minimum uzaklık hesapları\n",
    "ref_coordinates = coordinates\n",
    "ref_site = 36 # Site That Pinned\n",
    "distances = []\n",
    "for site_idx in 1:N \n",
    "    push!(distances, distance(coordinates, site_idx, ref_coordinates, ref_site))\n",
    "end\n",
    "radius_list = sort(unique(distances));"
   ]
  },
  {
   "cell_type": "code",
   "execution_count": 34,
   "id": "c5a765f6-d3ce-47b9-a43c-e81291241689",
   "metadata": {
    "tags": []
   },
   "outputs": [],
   "source": [
    "# radii = zeros(Nx, Ny, length(radius_l))\n",
    "# for (index,value) in enumerate(radius_l)\n",
    "#     radii[:,:,index] = reshape(radius_l.<=value, Nx, Ny)\n",
    "# end\n",
    "# radii;"
   ]
  },
  {
   "cell_type": "code",
   "execution_count": 35,
   "id": "96cece5f-025b-4ad1-9605-7a371a19eb99",
   "metadata": {
    "tags": []
   },
   "outputs": [],
   "source": [
    "# # BAZI RADIUS DEĞERLERİ ARADAN KAÇIYOR:\n",
    "# Q_rhos = []\n",
    "# for i in 1:length(radius_l)\n",
    "#     push!(Q_rhos, sum( (3/70 .- avg_density) .* radii[:,:,i]))\n",
    "# end\n",
    "# #Q_rhos = unique!(Q_rhos)\n",
    "\n",
    "# for (i,j) in enumerate(Q_rhos)\n",
    "#     println(\"Radius=\",round(radius_list[i],digits=2),\"\\t\",\"Q_rho=\",j)\n",
    "# end"
   ]
  },
  {
   "cell_type": "code",
   "execution_count": 36,
   "id": "0842723a-40f0-439e-a4cf-f2cd5bcf2a73",
   "metadata": {
    "tags": []
   },
   "outputs": [],
   "source": [
    "# Plots.plot(0:length(Q_rhos)-1, [Q_rhos], xlabel=L\"\\rho\",ylabel=L\"Q_{\\rho}\", guidefontsize=17,legend=false, linewidth=3)\n",
    "# g(x)=3/7;x=0\n",
    "# Plots.plot!(g, x, length(radius_list), line=(:dot,2), xlim=(0,6))\n",
    "# # radius_list 0.1'den başlayınca değerler sapıtıyor çok çıkıyor!"
   ]
  },
  {
   "cell_type": "markdown",
   "id": "23291e0f-6ead-4e06-be53-d45992db541a",
   "metadata": {},
   "source": [
    "# Density Plot and $Q_{\\rho}$ Calculation with Equivalent Sites Conditions"
   ]
  },
  {
   "cell_type": "code",
   "execution_count": 37,
   "id": "f817d7b8-29d5-4708-bd7d-c784e6be59ec",
   "metadata": {
    "tags": []
   },
   "outputs": [
    {
     "data": {
      "image/svg+xml": [
       "<?xml version=\"1.0\" encoding=\"utf-8\"?>\n",
       "<svg xmlns=\"http://www.w3.org/2000/svg\" xmlns:xlink=\"http://www.w3.org/1999/xlink\" width=\"600\" height=\"400\" viewBox=\"0 0 2400 1600\">\n",
       "<defs>\n",
       "  <clipPath id=\"clip910\">\n",
       "    <rect x=\"0\" y=\"0\" width=\"2400\" height=\"1600\"/>\n",
       "  </clipPath>\n",
       "</defs>\n",
       "<path clip-path=\"url(#clip910)\" d=\"M0 1600 L2400 1600 L2400 0 L0 0  Z\" fill=\"#ffffff\" fill-rule=\"evenodd\" fill-opacity=\"1\"/>\n",
       "<defs>\n",
       "  <clipPath id=\"clip911\">\n",
       "    <rect x=\"480\" y=\"0\" width=\"1681\" height=\"1600\"/>\n",
       "  </clipPath>\n",
       "</defs>\n",
       "<defs>\n",
       "  <clipPath id=\"clip912\">\n",
       "    <rect x=\"178\" y=\"47\" width=\"2175\" height=\"1440\"/>\n",
       "  </clipPath>\n",
       "</defs>\n",
       "<path clip-path=\"url(#clip910)\" d=\"M202.227 1350.66 L2112.76 1350.66 L2112.76 195.996 L202.227 195.996  Z\" fill=\"#ffffff\" fill-rule=\"evenodd\" fill-opacity=\"1\"/>\n",
       "<defs>\n",
       "  <clipPath id=\"clip913\">\n",
       "    <rect x=\"202\" y=\"195\" width=\"1912\" height=\"1156\"/>\n",
       "  </clipPath>\n",
       "</defs>\n",
       "<path clip-path=\"url(#clip910)\" d=\"M1171.67 1456.28 Q1171.67 1458.08 1170.54 1459.11 Q1169.41 1460.11 1168.12 1460.11 Q1166.9 1460.11 1166.25 1459.4 Q1165.61 1458.7 1165.61 1457.79 Q1165.61 1456.57 1166.51 1455.51 Q1167.41 1454.44 1168.77 1454.22 Q1167.45 1453.38 1165.48 1453.38 Q1164.19 1453.38 1163.07 1454.06 Q1161.97 1454.73 1161.29 1455.6 Q1160.65 1456.47 1160.07 1457.73 Q1159.52 1458.95 1159.3 1459.69 Q1159.1 1460.4 1158.94 1461.17 L1156.69 1470.19 Q1155.59 1474.48 1155.59 1475.99 Q1155.59 1477.86 1156.5 1479.11 Q1157.4 1480.34 1159.2 1480.34 Q1159.91 1480.34 1160.72 1480.14 Q1161.52 1479.92 1162.55 1479.34 Q1163.61 1478.73 1164.55 1477.83 Q1165.51 1476.89 1166.45 1475.31 Q1167.38 1473.74 1167.99 1471.71 Q1168.19 1471 1168.83 1471 Q1169.64 1471 1169.64 1471.64 Q1169.64 1472.19 1169.19 1473.35 Q1168.77 1474.48 1167.83 1475.96 Q1166.93 1477.41 1165.74 1478.73 Q1164.55 1480.02 1162.78 1480.92 Q1161 1481.82 1159.07 1481.82 Q1156.3 1481.82 1154.47 1480.34 Q1152.63 1478.86 1151.96 1476.79 Q1151.79 1477.08 1151.57 1477.47 Q1151.34 1477.86 1150.67 1478.73 Q1150.02 1479.56 1149.28 1480.21 Q1148.54 1480.82 1147.38 1481.3 Q1146.25 1481.82 1145.03 1481.82 Q1143.48 1481.82 1142.1 1481.37 Q1140.75 1480.92 1139.78 1479.89 Q1138.82 1478.86 1138.82 1477.44 Q1138.82 1475.86 1139.88 1474.77 Q1140.97 1473.64 1142.45 1473.64 Q1143.39 1473.64 1144.13 1474.19 Q1144.9 1474.73 1144.9 1475.93 Q1144.9 1477.25 1144 1478.24 Q1143.1 1479.24 1141.81 1479.5 Q1143.13 1480.34 1145.1 1480.34 Q1147.22 1480.34 1148.9 1478.47 Q1150.57 1476.6 1151.38 1473.48 Q1153.37 1465.97 1154.15 1462.62 Q1154.92 1459.24 1154.92 1457.79 Q1154.92 1456.44 1154.56 1455.51 Q1154.21 1454.57 1153.6 1454.15 Q1153.02 1453.7 1152.47 1453.54 Q1151.96 1453.38 1151.38 1453.38 Q1150.41 1453.38 1149.31 1453.77 Q1148.25 1454.15 1146.96 1455.06 Q1145.71 1455.93 1144.52 1457.73 Q1143.32 1459.53 1142.52 1462.01 Q1142.36 1462.75 1141.65 1462.75 Q1140.88 1462.72 1140.88 1462.08 Q1140.88 1461.53 1141.29 1460.4 Q1141.75 1459.24 1142.65 1457.79 Q1143.58 1456.34 1144.77 1455.06 Q1146 1453.74 1147.77 1452.83 Q1149.57 1451.93 1151.5 1451.93 Q1152.37 1451.93 1153.21 1452.13 Q1154.08 1452.29 1155.11 1452.77 Q1156.17 1453.25 1157.11 1454.32 Q1158.04 1455.38 1158.62 1456.92 Q1159.01 1456.18 1159.52 1455.47 Q1160.07 1454.77 1160.91 1453.9 Q1161.78 1452.99 1162.97 1452.48 Q1164.19 1451.93 1165.55 1451.93 Q1166.87 1451.93 1168.15 1452.29 Q1169.44 1452.61 1170.54 1453.67 Q1171.67 1454.7 1171.67 1456.28 Z\" fill=\"#000000\" fill-rule=\"nonzero\" fill-opacity=\"1\" /><path clip-path=\"url(#clip910)\" d=\"M30.8561 758.889 Q31.307 758.889 32.3698 759.178 L57.5548 765.491 Q63.1586 766.876 67.0877 771.384 Q71.0168 775.861 71.0168 780.95 Q71.0168 784.009 69.3743 785.974 Q67.764 787.938 65.2842 787.938 Q63.0942 787.938 62.0314 786.779 Q61.0008 785.619 61.0008 784.235 Q61.0008 783.784 61.1296 783.301 Q61.2584 782.817 61.8059 782.302 Q62.3534 781.787 63.2874 781.787 Q64.8011 781.787 65.9927 783.107 Q66.5402 783.751 66.669 784.363 Q66.7978 784.943 66.7978 785.941 Q67.6996 785.555 68.3115 784.846 Q68.9234 784.138 69.1489 783.333 Q69.4065 782.528 69.4709 782.012 Q69.5675 781.465 69.5675 780.95 Q69.5675 776.827 65.413 773.671 Q64.157 772.737 62.9009 772.061 Q61.6771 771.352 60.1634 770.837 Q58.682 770.322 57.8768 770.096 Q57.0717 769.839 55.2359 769.388 Q58.2311 772.383 58.2311 776.054 Q58.2311 777.6 57.8124 778.985 Q57.3937 780.338 56.5242 781.529 Q55.6224 782.721 54.0443 783.429 Q52.4662 784.106 50.3728 784.106 Q48.1506 784.106 45.1233 783.236 Q42.0959 782.367 36.5243 780.273 Q33.4004 779.146 31.8867 779.146 Q31.146 779.146 30.6951 779.307 Q30.212 779.468 30.051 779.79 Q29.8577 780.112 29.8255 780.305 Q29.7933 780.466 29.7933 780.789 Q29.7933 782.689 31.7257 784.46 Q33.658 786.231 37.9736 787.455 Q38.7787 787.713 38.972 787.874 Q39.1652 788.035 39.1652 788.518 Q39.133 789.323 38.4889 789.323 Q38.2312 789.323 37.2329 789.033 Q36.2023 788.743 34.6886 788.067 Q33.1427 787.359 31.7579 786.392 Q30.3408 785.426 29.3424 783.912 Q28.344 782.367 28.344 780.595 Q28.344 778.18 29.9221 776.698 Q31.468 775.185 33.7546 775.185 Q34.6886 775.185 35.5259 775.442 Q36.3311 775.668 38.4889 776.505 Q47.1845 779.887 51.4356 779.887 Q52.4662 779.887 53.3358 779.726 Q54.1731 779.532 55.0105 779.114 Q55.8156 778.695 56.2987 777.858 Q56.7496 776.988 56.7496 775.797 Q56.7496 774.283 56.0411 772.866 Q55.3003 771.417 54.302 770.515 Q53.3036 769.581 52.4662 769.033 Q51.5967 768.454 51.1458 768.325 L39.294 765.362 L34.0123 764.041 Q31.146 763.43 30.4374 763.14 Q29.7611 762.753 29.4068 762.077 Q29.0526 761.401 29.0526 760.821 Q29.0526 760.016 29.5357 759.468 Q30.0187 758.889 30.8561 758.889 Z\" fill=\"#000000\" fill-rule=\"nonzero\" fill-opacity=\"1\" /><path clip-path=\"url(#clip910)\" d=\"M910.447 52.2458 Q910.447 51.59 911.799 50.8932 L958.363 29.6607 Q960.044 28.8409 960.495 28.8409 Q961.315 28.8409 961.315 29.6607 Q961.315 30.3165 959.388 31.2593 L918.44 50.0734 Q915.939 51.2621 913.562 52.2458 Q915.898 53.2705 918.44 54.4182 L959.388 73.2323 Q961.315 74.0521 961.315 74.8309 Q961.315 75.6507 960.495 75.6507 Q960.085 75.6507 958.363 74.8309 L911.799 53.5984 Q910.529 53.0656 910.447 52.2458 Z\" fill=\"#000000\" fill-rule=\"nonzero\" fill-opacity=\"1\" /><path clip-path=\"url(#clip910)\" d=\"M1043.9 61.2225 Q1043.9 61.5504 1043.54 62.821 Q1043.17 64.0917 1042.27 66.0592 Q1041.4 68.0267 1040.22 69.8302 Q1039.03 71.5927 1037.06 72.9044 Q1035.13 74.1751 1032.92 74.1751 Q1029.97 74.1751 1028 72.2076 Q1026.03 70.2401 1026.03 67.2889 Q1026.03 65.6493 1026.89 63.3949 Q1032.35 48.8437 1032.35 43.843 Q1032.35 37.9815 1027.8 37.9815 Q1025.54 37.9815 1023.41 38.8423 Q1021.32 39.6621 1019.89 40.8098 Q1018.45 41.9575 1017.14 43.5561 Q1015.87 45.1137 1015.21 46.1794 Q1014.6 47.2041 1014.11 48.2289 L1013.04 52.4098 Q1012.79 53.5575 1011.61 58.0253 L1009.76 65.6083 Q1008.45 71.2648 1008.16 71.7977 Q1007.75 72.9454 1006.85 73.5602 Q1005.95 74.1751 1005.05 74.1751 Q1004.02 74.1751 1003.33 73.5602 Q1002.63 72.9454 1002.63 71.8797 Q1002.63 71.7157 1002.75 71.1009 Q1002.87 70.486 1003.08 69.6253 Q1003.28 68.7645 1003.37 68.2726 L1008.24 48.8847 Q1009.15 45.3596 1009.35 44.2529 Q1009.6 43.1052 1009.6 41.8345 Q1009.6 37.9815 1006.97 37.9815 Q1004.84 37.9815 1003.45 40.5229 Q1002.05 43.0642 1000.87 47.9829 Q1000.5 49.3356 1000.25 49.6225 Q1000.05 49.9094 999.431 49.9094 Q998.407 49.8684 998.407 49.0486 Q998.407 48.8437 998.735 47.491 Q999.063 46.1384 999.677 44.2119 Q1000.33 42.2444 1000.95 40.9328 Q1001.48 39.949 1001.77 39.4981 Q1002.1 39.0063 1002.87 38.0635 Q1003.69 37.0798 1004.76 36.6289 Q1005.87 36.137 1007.22 36.137 Q1010.25 36.137 1012.47 38.1045 Q1014.68 40.031 1014.97 43.4331 Q1020.42 36.137 1028.04 36.137 Q1032.55 36.137 1035.13 38.5144 Q1037.72 40.8918 1037.72 45.1137 Q1037.72 46.0974 1037.51 47.3681 Q1037.35 48.5978 1036.94 50.1553 Q1036.57 51.7129 1036.24 52.9016 Q1035.91 54.0903 1035.26 56.0168 Q1034.6 57.9023 1034.31 58.7221 Q1034.03 59.5419 1033.33 61.4684 Q1032.67 63.3539 1032.59 63.5588 Q1031.08 67.3708 1031.08 69.5433 Q1031.08 70.9779 1031.53 71.6337 Q1032.02 72.2896 1033.08 72.2896 Q1035.95 72.2896 1038.08 69.4613 Q1040.26 66.592 1041.65 61.9193 Q1041.98 60.8945 1042.14 60.6486 Q1042.35 60.4027 1042.92 60.4027 Q1043.9 60.4027 1043.9 61.2225 Z\" fill=\"#000000\" fill-rule=\"nonzero\" fill-opacity=\"1\" /><path clip-path=\"url(#clip910)\" d=\"M1067.44 60.5303 Q1067.44 61.7928 1066.4 62.7396 Q1065.4 63.6578 1064.31 63.6578 Q1063.3 63.6578 1062.67 63.0552 Q1062.07 62.424 1062.07 61.5345 Q1062.07 60.3581 1063.07 59.3826 Q1064.08 58.407 1065.25 58.407 Q1066.23 58.407 1066.83 59.0096 Q1067.44 59.6121 1067.44 60.5303 M1067.95 88.8498 Q1067.95 89.0793 1067.69 89.9975 Q1067.44 90.887 1066.8 92.2642 Q1066.2 93.6127 1065.37 94.8752 Q1064.54 96.1377 1063.16 97.0271 Q1061.81 97.9166 1060.26 97.9166 Q1058.17 97.9166 1056.79 96.5394 Q1055.44 95.1621 1055.44 93.0963 Q1055.44 91.9773 1056.79 88.3907 Q1060.69 77.9466 1060.84 77.5163 Q1061.5 75.8808 1061.5 74.4462 Q1061.5 73.7862 1061.35 73.3845 Q1061.21 72.9541 1060.92 72.8107 Q1060.64 72.6385 1060.46 72.6098 Q1060.32 72.5811 1060.03 72.5811 Q1058.34 72.5811 1056.76 74.3027 Q1055.18 76.0242 1054.09 79.869 Q1053.86 80.5863 1053.72 80.7585 Q1053.58 80.9307 1053.15 80.9307 Q1052.43 80.902 1052.43 80.3281 Q1052.43 80.156 1052.63 79.496 Q1052.83 78.8074 1053.2 77.7745 Q1053.58 76.7129 1054.24 75.6225 Q1054.9 74.5035 1055.7 73.528 Q1056.53 72.5524 1057.71 71.9212 Q1058.89 71.29 1060.2 71.29 Q1062.36 71.29 1063.68 72.6959 Q1065.03 74.0732 1065.03 76.1103 Q1065.03 77.2293 1064.25 79.2091 Q1063.3 81.7914 1062.96 82.6235 L1060.66 88.7924 Q1059.83 91.0304 1059.57 91.719 Q1059.34 92.379 1059.14 93.1824 Q1058.97 93.9571 1058.97 94.6744 Q1058.97 95.6786 1059.29 96.1377 Q1059.63 96.5968 1060.38 96.5968 Q1062.44 96.5968 1063.96 94.5596 Q1065.48 92.4937 1066.37 89.3376 Q1066.4 89.2515 1066.43 89.108 Q1066.66 88.3907 1066.89 88.3046 Q1067.01 88.2759 1067.23 88.2759 Q1067.95 88.2759 1067.95 88.8498 Z\" fill=\"#000000\" fill-rule=\"nonzero\" fill-opacity=\"1\" /><path clip-path=\"url(#clip910)\" d=\"M1076.76 91.6365 L1076.76 13.4699 Q1076.76 10.3548 1078.44 10.3548 Q1080.12 10.3548 1080.12 12.8551 L1080.12 91.0217 Q1080.12 94.1368 1078.44 94.1368 Q1076.76 94.1368 1076.76 91.6365 Z\" fill=\"#000000\" fill-rule=\"nonzero\" fill-opacity=\"1\" /><path clip-path=\"url(#clip910)\" d=\"M1111.41 27.6522 Q1111.41 26.6275 1114.07 26.6275 L1116.53 26.6275 Q1117.8 26.6275 1118.78 26.9554 Q1119.81 27.2423 1121.16 28.2671 Q1122.55 29.2508 1123.29 31.8741 Q1124.07 34.4565 1124.07 38.4734 L1124.07 39.6621 Q1124.07 42.6953 1124.56 45.5645 Q1125.1 48.3928 1126.24 51.385 Q1127.43 54.3363 1129.77 56.5907 Q1132.15 58.8041 1135.51 59.7059 L1135.51 22.4466 Q1135.51 19.7413 1133.79 19.1265 Q1132.06 18.5116 1125.92 18.5116 L1124.64 18.5116 L1124.64 15.8883 Q1131.78 16.1342 1139.03 16.1342 Q1146.08 16.1342 1153.3 15.8883 L1153.3 18.5116 L1152.03 18.5116 Q1145.88 18.5116 1144.2 19.1265 Q1142.56 19.7413 1142.56 22.4466 L1142.56 59.7059 Q1146.41 58.6811 1148.91 56.2628 Q1151.45 53.8444 1152.44 50.5652 Q1153.46 47.2861 1153.87 44.5808 Q1154.28 41.8345 1154.36 38.4734 Q1154.44 35.1123 1154.61 34.2105 Q1155.8 26.6685 1161.58 26.6275 L1164.28 26.6275 Q1166.99 26.6275 1166.99 27.6522 Q1166.99 28.3081 1166 28.513 Q1165.02 28.677 1163.71 29.8247 Q1162.44 30.9314 1161.86 33.6777 Q1161.45 35.4402 1161.33 39.3342 Q1161.25 43.1872 1160.67 45.7695 Q1157.64 59.7059 1142.56 61.9193 L1142.56 66.756 Q1142.56 69.2564 1144.07 69.9532 Q1145.63 70.65 1151.7 70.65 L1153.3 70.65 L1153.3 73.2323 Q1146.08 72.9864 1139.03 72.9864 Q1131.82 72.9864 1124.64 73.2323 L1124.64 70.65 L1126.33 70.65 Q1132.27 70.65 1133.87 69.9532 Q1135.51 69.2154 1135.51 66.756 L1135.51 61.7963 Q1132.15 61.3864 1129.19 60.1977 Q1126.24 58.968 1123.46 56.5907 Q1120.71 54.1723 1118.99 49.9914 Q1117.27 45.7695 1117.02 40.2359 Q1116.86 33.0218 1115.42 30.6854 Q1114.48 29.1688 1113 28.7589 Q1111.41 28.3081 1111.41 27.6522 Z\" fill=\"#000000\" fill-rule=\"nonzero\" fill-opacity=\"1\" /><path clip-path=\"url(#clip910)\" d=\"M1175.41 62.9483 L1175.41 61.112 Q1182.47 61.112 1186.11 57.3532 Q1187.12 57.3532 1187.29 57.5828 Q1187.46 57.8123 1187.46 58.874 L1187.46 91.8416 Q1187.46 93.5919 1188.32 94.137 Q1189.18 94.6822 1192.94 94.6822 L1194.81 94.6822 L1194.81 96.4898 Q1192.74 96.3177 1185.28 96.3177 Q1177.82 96.3177 1175.79 96.4898 L1175.79 94.6822 L1177.65 94.6822 Q1181.35 94.6822 1182.24 94.1657 Q1183.13 93.6206 1183.13 91.8416 L1183.13 61.3989 Q1180.06 62.9483 1175.41 62.9483 Z\" fill=\"#000000\" fill-rule=\"nonzero\" fill-opacity=\"1\" /><path clip-path=\"url(#clip910)\" d=\"M1203.58 91.6365 L1203.58 13.4699 Q1203.58 10.3548 1205.26 10.3548 Q1206.94 10.3548 1206.94 12.8551 L1206.94 91.0217 Q1206.94 94.1368 1205.26 94.1368 Q1203.58 94.1368 1203.58 91.6365 Z\" fill=\"#000000\" fill-rule=\"nonzero\" fill-opacity=\"1\" /><path clip-path=\"url(#clip910)\" d=\"M1283.73 61.2225 Q1283.73 61.5504 1283.36 62.821 Q1282.99 64.0917 1282.09 66.0592 Q1281.22 68.0267 1280.04 69.8302 Q1278.85 71.5927 1276.88 72.9044 Q1274.95 74.1751 1272.74 74.1751 Q1269.79 74.1751 1267.82 72.2076 Q1265.85 70.2401 1265.85 67.2889 Q1265.85 65.6493 1266.71 63.3949 Q1272.17 48.8437 1272.17 43.843 Q1272.17 37.9815 1267.62 37.9815 Q1265.36 37.9815 1263.23 38.8423 Q1261.14 39.6621 1259.71 40.8098 Q1258.27 41.9575 1256.96 43.5561 Q1255.69 45.1137 1255.03 46.1794 Q1254.42 47.2041 1253.93 48.2289 L1252.86 52.4098 Q1252.61 53.5575 1251.43 58.0253 L1249.58 65.6083 Q1248.27 71.2648 1247.98 71.7977 Q1247.57 72.9454 1246.67 73.5602 Q1245.77 74.1751 1244.87 74.1751 Q1243.84 74.1751 1243.15 73.5602 Q1242.45 72.9454 1242.45 71.8797 Q1242.45 71.7157 1242.57 71.1009 Q1242.69 70.486 1242.9 69.6253 Q1243.1 68.7645 1243.19 68.2726 L1248.06 48.8847 Q1248.97 45.3596 1249.17 44.2529 Q1249.42 43.1052 1249.42 41.8345 Q1249.42 37.9815 1246.79 37.9815 Q1244.66 37.9815 1243.27 40.5229 Q1241.87 43.0642 1240.69 47.9829 Q1240.32 49.3356 1240.07 49.6225 Q1239.87 49.9094 1239.25 49.9094 Q1238.23 49.8684 1238.23 49.0486 Q1238.23 48.8437 1238.55 47.491 Q1238.88 46.1384 1239.5 44.2119 Q1240.15 42.2444 1240.77 40.9328 Q1241.3 39.949 1241.59 39.4981 Q1241.92 39.0063 1242.69 38.0635 Q1243.51 37.0798 1244.58 36.6289 Q1245.69 36.137 1247.04 36.137 Q1250.07 36.137 1252.29 38.1045 Q1254.5 40.031 1254.79 43.4331 Q1260.24 36.137 1267.86 36.137 Q1272.37 36.137 1274.95 38.5144 Q1277.54 40.8918 1277.54 45.1137 Q1277.54 46.0974 1277.33 47.3681 Q1277.17 48.5978 1276.76 50.1553 Q1276.39 51.7129 1276.06 52.9016 Q1275.73 54.0903 1275.08 56.0168 Q1274.42 57.9023 1274.13 58.7221 Q1273.85 59.5419 1273.15 61.4684 Q1272.49 63.3539 1272.41 63.5588 Q1270.9 67.3708 1270.9 69.5433 Q1270.9 70.9779 1271.35 71.6337 Q1271.84 72.2896 1272.9 72.2896 Q1275.77 72.2896 1277.9 69.4613 Q1280.08 66.592 1281.47 61.9193 Q1281.8 60.8945 1281.96 60.6486 Q1282.17 60.4027 1282.74 60.4027 Q1283.73 60.4027 1283.73 61.2225 Z\" fill=\"#000000\" fill-rule=\"nonzero\" fill-opacity=\"1\" /><path clip-path=\"url(#clip910)\" d=\"M1307.26 60.5303 Q1307.26 61.7928 1306.22 62.7396 Q1305.22 63.6578 1304.13 63.6578 Q1303.12 63.6578 1302.49 63.0552 Q1301.89 62.424 1301.89 61.5345 Q1301.89 60.3581 1302.89 59.3826 Q1303.9 58.407 1305.07 58.407 Q1306.05 58.407 1306.65 59.0096 Q1307.26 59.6121 1307.26 60.5303 M1307.77 88.8498 Q1307.77 89.0793 1307.51 89.9975 Q1307.26 90.887 1306.62 92.2642 Q1306.02 93.6127 1305.19 94.8752 Q1304.36 96.1377 1302.98 97.0271 Q1301.63 97.9166 1300.08 97.9166 Q1297.99 97.9166 1296.61 96.5394 Q1295.26 95.1621 1295.26 93.0963 Q1295.26 91.9773 1296.61 88.3907 Q1300.51 77.9466 1300.66 77.5163 Q1301.32 75.8808 1301.32 74.4462 Q1301.32 73.7862 1301.17 73.3845 Q1301.03 72.9541 1300.74 72.8107 Q1300.46 72.6385 1300.28 72.6098 Q1300.14 72.5811 1299.85 72.5811 Q1298.16 72.5811 1296.58 74.3027 Q1295 76.0242 1293.91 79.869 Q1293.68 80.5863 1293.54 80.7585 Q1293.4 80.9307 1292.97 80.9307 Q1292.25 80.902 1292.25 80.3281 Q1292.25 80.156 1292.45 79.496 Q1292.65 78.8074 1293.02 77.7745 Q1293.4 76.7129 1294.06 75.6225 Q1294.72 74.5035 1295.52 73.528 Q1296.35 72.5524 1297.53 71.9212 Q1298.71 71.29 1300.03 71.29 Q1302.18 71.29 1303.5 72.6959 Q1304.85 74.0732 1304.85 76.1103 Q1304.85 77.2293 1304.07 79.2091 Q1303.12 81.7914 1302.78 82.6235 L1300.48 88.7924 Q1299.65 91.0304 1299.39 91.719 Q1299.16 92.379 1298.96 93.1824 Q1298.79 93.9571 1298.79 94.6744 Q1298.79 95.6786 1299.11 96.1377 Q1299.45 96.5968 1300.2 96.5968 Q1302.26 96.5968 1303.78 94.5596 Q1305.3 92.4937 1306.19 89.3376 Q1306.22 89.2515 1306.25 89.108 Q1306.48 88.3907 1306.71 88.3046 Q1306.83 88.2759 1307.05 88.2759 Q1307.77 88.2759 1307.77 88.8498 Z\" fill=\"#000000\" fill-rule=\"nonzero\" fill-opacity=\"1\" /><path clip-path=\"url(#clip910)\" d=\"M1339.87 74.8309 Q1339.87 74.339 1340.24 74.0521 Q1340.65 73.8062 1341.88 73.2323 L1382.86 54.4182 Q1386.06 52.9016 1387.7 52.2458 Q1386.02 51.59 1382.86 50.0734 L1341.88 31.2593 Q1341.71 31.1773 1341.34 31.0134 Q1340.97 30.8494 1340.73 30.7264 Q1340.52 30.6035 1340.32 30.4395 Q1340.11 30.2346 1339.99 30.0706 Q1339.87 29.9066 1339.87 29.6607 Q1339.87 28.8409 1340.81 28.8409 Q1341.22 28.8409 1342.9 29.6607 L1389.46 50.8932 Q1389.55 50.8932 1389.75 51.0161 Q1390 51.1391 1390.16 51.303 Q1390.32 51.426 1390.49 51.549 Q1390.65 51.672 1390.73 51.8359 Q1390.82 51.9999 1390.82 52.2458 Q1390.73 52.9836 1388.4 54.0903 L1342.9 74.8309 Q1341.22 75.6507 1340.81 75.6507 Q1339.87 75.6507 1339.87 74.8309 Z\" fill=\"#000000\" fill-rule=\"nonzero\" fill-opacity=\"1\" /><g clip-path=\"url(#clip913)\">\n",
       "<image width=\"871\" height=\"1089\" xlink:href=\"data:image/png;base64,\n",
       "iVBORw0KGgoAAAANSUhEUgAAA2cAAARBCAYAAAChGfjAAAAZ+klEQVR4nO3Zz2qcVQCH4XzJUJK0\n",
       "miqxNFBdtAqKoBsX4kLwQrwQL0xcunEhWFy4sIKIC4WIFvvHNAnaTLyGszrvB89zBT8Yzpx55yxf\n",
       "fP7N9Q7rcnExewGDtk8fz57AoKvzZ7MnMGjv8Gj2BAbt3j6ePYFRBwezFzBqWWYvYMDu7AEAAACI\n",
       "MwAAgARxBgAAECDOAAAAAsQZAABAgDgDAAAIEGcAAAAB4gwAACBAnAEAAASIMwAAgABxBgAAECDO\n",
       "AAAAAsQZAABAgDgDAAAIEGcAAAAB4gwAACBAnAEAAASIMwAAgABxBgAAECDOAAAAAsQZAABAgDgD\n",
       "AAAIEGcAAAAB4gwAACBAnAEAAASIMwAAgABxBgAAECDOAAAAAsQZAABAgDgDAAAIEGcAAAAB4gwA\n",
       "ACBAnAEAAASIMwAAgABxBgAAECDOAAAAAsQZAABAgDgDAAAIEGcAAAAB4gwAACBAnAEAAASIMwAA\n",
       "gABxBgAAECDOAAAAAsQZAABAgDgDAAAIEGcAAAAB4gwAACBAnAEAAASIMwAAgABxBgAAECDOAAAA\n",
       "AsQZAABAgDgDAAAIEGcAAAAB4gwAACBAnAEAAASIMwAAgABxBgAAECDOAAAAAsQZAABAgDgDAAAI\n",
       "EGcAAAAB4gwAACBAnAEAAASIMwAAgABxBgAAECDOAAAAAsQZAABAgDgDAAAIEGcAAAAB4gwAACBA\n",
       "nAEAAASIMwAAgABxBgAAECDOAAAAAsQZAABAgDgDAAAIEGcAAAAB4gwAACBAnAEAAASIMwAAgABx\n",
       "BgAAECDOAAAAAsQZAABAgDgDAAAIEGcAAAAB4gwAACBAnAEAAASIMwAAgABxBgAAECDOAAAAAsQZ\n",
       "AABAgDgDAAAIEGcAAAAB4gwAACBAnAEAAASIMwAAgABxBgAAECDOAAAAAsQZAABAgDgDAAAIEGcA\n",
       "AAAB4gwAACBAnAEAAASIMwAAgABxBgAAECDOAAAAAjY7+/uzNzDo+vi12RMYtH3//uwJDFo2/rta\n",
       "m+3L7ewJDFqeX86ewKDl7GL2BEZtfTeuiV8fAAAAAeIMAAAgQJwBAAAEiDMAAIAAcQYAABAgzgAA\n",
       "AALEGQAAQIA4AwAACBBnAAAAAeIMAAAgQJwBAAAEiDMAAIAAcQYAABAgzgAAAALEGQAAQIA4AwAA\n",
       "CBBnAAAAAeIMAAAgQJwBAAAEiDMAAIAAcQYAABAgzgAAAALEGQAAQIA4AwAACBBnAAAAAeIMAAAg\n",
       "QJwBAAAEiDMAAIAAcQYAABAgzgAAAALEGQAAQIA4AwAACBBnAAAAAeIMAAAgQJwBAAAEiDMAAIAA\n",
       "cQYAABAgzgAAAALEGQAAQIA4AwAACBBnAAAAAeIMAAAgQJwBAAAEiDMAAIAAcQYAABAgzgAAAALE\n",
       "GQAAQIA4AwAACBBnAAAAAeIMAAAgQJwBAAAEiDMAAIAAcQYAABAgzgAAAALEGQAAQIA4AwAACBBn\n",
       "AAAAAeIMAAAgQJwBAAAEiDMAAIAAcQYAABAgzgAAAALEGQAAQIA4AwAACBBnAAAAAeIMAAAgQJwB\n",
       "AAAEiDMAAIAAcQYAABAgzgAAAALEGQAAQIA4AwAACBBnAAAAAeIMAAAgQJwBAAAEiDMAAIAAcQYA\n",
       "ABAgzgAAAALEGQAAQIA4AwAACBBnAAAAAeIMAAAgQJwBAAAEiDMAAIAAcQYAABAgzgAAAALEGQAA\n",
       "QIA4AwAACBBnAAAAAeIMAAAgQJwBAAAEiDMAAIAAcQYAABAgzgAAAALEGQAAQIA4AwAACBBnAAAA\n",
       "AeIMAAAgQJwBAAAEiDMAAIAAcQYAABAgzgAAAALEGQAAQIA4AwAACBBnAAAAAeIMAAAgQJwBAAAE\n",
       "iDMAAICAzcXDr2dvYND+vXdnT2DQ9acfzp7AoL2TvdkTGHR1ejV7AqO+/3H2AgZd/P7T7AkMWnbd\n",
       "Z2vi5QwAACBAnAEAAASIMwAAgABxBgAAECDOAAAAAsQZAABAgDgDAAAIEGcAAAAB4gwAACBAnAEA\n",
       "AASIMwAAgABxBgAAECDOAAAAAsQZAABAgDgDAAAIEGcAAAAB4gwAACBAnAEAAASIMwAAgABxBgAA\n",
       "ECDOAAAAAsQZAABAgDgDAAAIEGcAAAAB4gwAACBAnAEAAASIMwAAgABxBgAAECDOAAAAAsQZAABA\n",
       "gDgDAAAIEGcAAAAB4gwAACBAnAEAAASIMwAAgABxBgAAECDOAAAAAsQZAABAgDgDAAAIEGcAAAAB\n",
       "4gwAACBAnAEAAASIMwAAgABxBgAAECDOAAAAAsQZAABAgDgDAAAIEGcAAAAB4gwAACBAnAEAAASI\n",
       "MwAAgABxBgAAECDOAAAAAsQZAABAgDgDAAAIEGcAAAAB4gwAACBAnAEAAASIMwAAgABxBgAAECDO\n",
       "AAAAAsQZAABAgDgDAAAIEGcAAAAB4gwAACBAnAEAAASIMwAAgABxBgAAECDOAAAAAsQZAABAgDgD\n",
       "AAAIEGcAAAAB4gwAACBAnAEAAASIMwAAgABxBgAAECDOAAAAAsQZAABAgDgDAAAIEGcAAAAB4gwA\n",
       "ACBAnAEAAASIMwAAgABxBgAAECDOAAAAAsQZAABAgDgDAAAIEGcAAAAB4gwAACBAnAEAAASIMwAA\n",
       "gABxBgAAECDOAAAAAsQZAABAgDgDAAAIEGcAAAAB4gwAACBAnAEAAASIMwAAgABxBgAAECDOAAAA\n",
       "AsQZAABAgDgDAAAIEGcAAAAB4gwAACBAnAEAAASIMwAAgABxBgAAELD58/Tb2RsYdO/ozuwJDDp8\n",
       "x/8ga/PBg+3sCQz64ZZztjaXX/49ewKD/G5cn/0bt2dPYICbDAAAIECcAQAABIgzAACAAHEGAAAQ\n",
       "IM4AAAACxBkAAECAOAMAAAgQZwAAAAHiDAAAIECcAQAABIgzAACAAHEGAAAQIM4AAAACxBkAAECA\n",
       "OAMAAAgQZwAAAAHiDAAAIECcAQAABIgzAACAAHEGAAAQIM4AAAACxBkAAECAOAMAAAgQZwAAAAHi\n",
       "DAAAIECcAQAABIgzAACAAHEGAAAQIM4AAAACxBkAAECAOAMAAAgQZwAAAAHiDAAAIECcAQAABIgz\n",
       "AACAAHEGAAAQIM4AAAACxBkAAECAOAMAAAgQZwAAAAHiDAAAIECcAQAABIgzAACAAHEGAAAQIM4A\n",
       "AAACxBkAAECAOAMAAAgQZwAAAAHiDAAAIECcAQAABIgzAACAAHEGAAAQIM4AAAACxBkAAECAOAMA\n",
       "AAgQZwAAAAHiDAAAIECcAQAABIgzAACAAHEGAAAQIM4AAAACxBkAAECAOAMAAAgQZwAAAAHiDAAA\n",
       "IECcAQAABIgzAACAAHEGAAAQIM4AAAACxBkAAECAOAMAAAgQZwAAAAHiDAAAIECcAQAABIgzAACA\n",
       "AHEGAAAQIM4AAAACxBkAAECAOAMAAAgQZwAAAAHiDAAAIECcAQAABIgzAACAAHEGAAAQIM4AAAAC\n",
       "xBkAAECAOAMAAAgQZwAAAAHiDAAAIECcAQAABIgzAACAAHEGAAAQIM4AAAACxBkAAECAOAMAAAgQ\n",
       "ZwAAAAHiDAAAIECcAQAABIgzAACAAHEGAAAQIM4AAAACxBkAAECAOAMAAAgQZwAAAAHiDAAAIECc\n",
       "AQAABIgzAACAAHEGAAAQsNnZ2c7ewKDdw1dnT2DQgzeds7X55K2j2RMY9OLfZ7MnMOiR+2yF3Gdr\n",
       "syzeYtbEpwUAABAgzgAAAALEGQAAQIA4AwAACBBnAAAAAeIMAAAgQJwBAAAEiDMAAIAAcQYAABAg\n",
       "zgAAAALEGQAAQIA4AwAACBBnAAAAAeIMAAAgQJwBAAAEiDMAAIAAcQYAABAgzgAAAALEGQAAQIA4\n",
       "AwAACBBnAAAAAeIMAAAgQJwBAAAEiDMAAIAAcQYAABAgzgAAAALEGQAAQIA4AwAACBBnAAAAAeIM\n",
       "AAAgQJwBAAAEiDMAAIAAcQYAABAgzgAAAALEGQAAQIA4AwAACBBnAAAAAeIMAAAgQJwBAAAEiDMA\n",
       "AIAAcQYAABAgzgAAAALEGQAAQIA4AwAACBBnAAAAAeIMAAAgQJwBAAAEiDMAAIAAcQYAABAgzgAA\n",
       "AALEGQAAQIA4AwAACBBnAAAAAeIMAAAgQJwBAAAEiDMAAIAAcQYAABAgzgAAAALEGQAAQIA4AwAA\n",
       "CBBnAAAAAeIMAAAgQJwBAAAEiDMAAIAAcQYAABAgzgAAAALEGQAAQIA4AwAACBBnAAAAAeIMAAAg\n",
       "QJwBAAAEiDMAAIAAcQYAABAgzgAAAALEGQAAQIA4AwAACBBnAAAAAeIMAAAgQJwBAAAEiDMAAIAA\n",
       "cQYAABAgzgAAAALEGQAAQIA4AwAACBBnAAAAAeIMAAAgQJwBAAAEiDMAAIAAcQYAABAgzgAAAALE\n",
       "GQAAQIA4AwAACBBnAAAAAeIMAAAgQJwBAAAEiDMAAIAAcQYAABAgzgAAAALEGQAAQIA4AwAACBBn\n",
       "AAAAAeIMAAAgQJwBAAAEiDMAAIAAcQYAABAgzgAAAALEGQAAQIA4AwAACNjos/XZnj+fPYFBv/zm\n",
       "nK3NzRvO2do4Z+vjPlsj52xtrq+3sycwwAkDAAAIEGcAAAAB4gwAACBAnAEAAASIMwAAgABxBgAA\n",
       "ECDOAAAAAsQZAABAgDgDAAAIEGcAAAAB4gwAACBAnAEAAASIMwAAgABxBgAAECDOAAAAAsQZAABA\n",
       "gDgDAAAIEGcAAAAB4gwAACBAnAEAAASIMwAAgABxBgAAECDOAAAAAsQZAABAgDgDAAAIEGcAAAAB\n",
       "4gwAACBAnAEAAASIMwAAgABxBgAAECDOAAAAAsQZAABAgDgDAAAIEGcAAAAB4gwAACBAnAEAAASI\n",
       "MwAAgABxBgAAECDOAAAAAsQZAABAgDgDAAAIEGcAAAAB4gwAACBAnAEAAASIMwAAgABxBgAAECDO\n",
       "AAAAAsQZAABAgDgDAAAIEGcAAAAB4gwAACBAnAEAAASIMwAAgABxBgAAECDOAAAAAsQZAABAgDgD\n",
       "AAAIEGcAAAAB4gwAACBAnAEAAASIMwAAgABxBgAAECDOAAAAAsQZAABAgDgDAAAIEGcAAAAB4gwA\n",
       "ACBAnAEAAASIMwAAgABxBgAAECDOAAAAAsQZAABAgDgDAAAIEGcAAAAB4gwAACBAnAEAAASIMwAA\n",
       "gABxBgAAECDOAAAAAsQZAABAgDgDAAAIEGcAAAAB4gwAACBAnAEAAASIMwAAgABxBgAAECDOAAAA\n",
       "AsQZAABAgDgDAAAIEGcAAAAB4gwAACBAnAEAAASIMwAAgABxBgAAECDOAAAAAsQZAABAgDgDAAAI\n",
       "EGcAAAAB4gwAACBAnAEAAASIMwAAgABxBgAAECDOAAAAAsQZAABAgDgDAAAIEGcAAAAB4gwAACBA\n",
       "nAEAAARs7px8PHsDg3ZfeX32BAad/7ydPYFB353tzZ7AoKvTq9kTGLRxn62O343rs+y6z9bEyxkA\n",
       "AECAOAMAAAgQZwAAAAHiDAAAIECcAQAABIgzAACAAHEGAAAQIM4AAAACxBkAAECAOAMAAAgQZwAA\n",
       "AAHiDAAAIECcAQAABIgzAACAAHEGAAAQIM4AAAACxBkAAECAOAMAAAgQZwAAAAHiDAAAIECcAQAA\n",
       "BIgzAACAAHEGAAAQIM4AAAACxBkAAECAOAMAAAgQZwAAAAHiDAAAIECcAQAABIgzAACAAHEGAAAQ\n",
       "IM4AAAACxBkAAECAOAMAAAgQZwAAAAHiDAAAIECcAQAABIgzAACAAHEGAAAQIM4AAAACxBkAAECA\n",
       "OAMAAAgQZwAAAAHiDAAAIECcAQAABIgzAACAAHEGAAAQIM4AAAACxBkAAECAOAMAAAgQZwAAAAHi\n",
       "DAAAIECcAQAABIgzAACAAHEGAAAQIM4AAAACxBkAAECAOAMAAAgQZwAAAAHiDAAAIECcAQAABIgz\n",
       "AACAAHEGAAAQIM4AAAACxBkAAECAOAMAAAgQZwAAAAHiDAAAIECcAQAABIgzAACAAHEGAAAQIM4A\n",
       "AAACxBkAAECAOAMAAAgQZwAAAAHiDAAAIECcAQAABIgzAACAAHEGAAAQIM4AAAACxBkAAECAOAMA\n",
       "AAgQZwAAAAHiDAAAIECcAQAABIgzAACAAHEGAAAQIM4AAAACxBkAAECAOAMAAAgQZwAAAAHiDAAA\n",
       "IECcAQAABIgzAACAAHEGAAAQIM4AAAACxBkAAECAOAMAAAgQZwAAAAHiDAAAIECcAQAABIgzAACA\n",
       "AHEGAAAQIM4AAAACxBkAAECAOAMAAAgQZwAAAAHiDAAAIGBz8NFnszcw6PrWwewJDFrO/ps9gUHb\n",
       "X69mT2DQ8nI7ewKj3r4/ewGDDu6ezJ7AqK3vxjXxcgYAABAgzgAAAALEGQAAQIA4AwAACBBnAAAA\n",
       "AeIMAAAgQJwBAAAEiDMAAIAAcQYAABAgzgAAAALEGQAAQIA4AwAACBBnAAAAAeIMAAAgQJwBAAAE\n",
       "iDMAAIAAcQYAABAgzgAAAALEGQAAQIA4AwAACBBnAAAAAeIMAAAgQJwBAAAEiDMAAIAAcQYAABAg\n",
       "zgAAAALEGQAAQIA4AwAACBBnAAAAAeIMAAAgQJwBAAAEiDMAAIAAcQYAABAgzgAAAALEGQAAQIA4\n",
       "AwAACBBnAAAAAeIMAAAgQJwBAAAEiDMAAIAAcQYAABAgzgAAAALEGQAAQIA4AwAACBBnAAAAAeIM\n",
       "AAAgQJwBAAAEiDMAAIAAcQYAABAgzgAAAALEGQAAQIA4AwAACBBnAAAAAeIMAAAgQJwBAAAEiDMA\n",
       "AIAAcQYAABAgzgAAAALEGQAAQIA4AwAACBBnAAAAAeIMAAAgQJwBAAAEiDMAAIAAcQYAABAgzgAA\n",
       "AALEGQAAQIA4AwAACBBnAAAAAeIMAAAgQJwBAAAEiDMAAIAAcQYAABAgzgAAAALEGQAAQIA4AwAA\n",
       "CBBnAAAAAeIMAAAgQJwBAAAEiDMAAIAAcQYAABAgzgAAAALEGQAAQIA4AwAACBBnAAAAAeIMAAAg\n",
       "QJwBAAAEiDMAAIAAcQYAABAgzgAAAALEGQAAQIA4AwAACBBnAAAAAeIMAAAgQJwBAAAEiDMAAIAA\n",
       "cQYAABAgzgAAAALEGQAAQIA4AwAACBBnAAAAAeIMAAAgQJwBAAAEiDMAAIAAcQYAABAgzgAAAALE\n",
       "GQAAQIA4AwAACNjsXF7O3sCg5cmT2RMYtPv08ewJDLo6fzZ7AoP2Do9mT2DQcvt49gRGHRzMXsCo\n",
       "ZZm9gAFezgAAAALEGQAAQIA4AwAACBBnAAAAAeIMAAAgQJwBAAAEiDMAAIAAcQYAABAgzgAAAALE\n",
       "GQAAQIA4AwAACBBnAAAAAeIMAAAgQJwBAAAEiDMAAIAAcQYAABAgzgAAAALEGQAAQIA4AwAACBBn\n",
       "AAAAAeIMAAAgQJwBAAAEiDMAAIAAcQYAABAgzgAAAALEGQAAQIA4AwAACBBnAAAAAeIMAAAgQJwB\n",
       "AAAEiDMAAIAAcQYAABAgzgAAAALEGQAAQIA4AwAACBBnAAAAAeIMAAAgQJwBAAAEiDMAAIAAcQYA\n",
       "ABAgzgAAAALEGQAAQIA4AwAACBBnAAAAAeIMAAAgQJwBAAAEiDMAAIAAcQYAABAgzgAAAALEGQAA\n",
       "QIA4AwAACBBnAAAAAeIMAAAgQJwBAAAEiDMAAIAAcQYAABAgzgAAAALEGQAAQIA4AwAACBBnAAAA\n",
       "AeIMAAAgQJwBAAAEiDMAAIAAcQYAABAgzgAAAALEGQAAQIA4AwAACBBnAAAAAeIMAAAgQJwBAAAE\n",
       "iDMAAIAAcQYAABAgzgAAAALEGQAAQIA4AwAACBBnAAAAAeIMAAAgQJwBAAAEiDMAAIAAcQYAABAg\n",
       "zgAAAALEGQAAQIA4AwAACBBnAAAAAeIMAAAgQJwBAAAEiDMAAIAAcQYAABAgzgAAAALEGQAAQIA4\n",
       "AwAACBBnAAAAAeIMAAAgQJwBAAAEiDMAAIAAcQYAABAgzgAAAALEGQAAQIA4AwAACBBnAAAAAeIM\n",
       "AAAgQJwBAAAEiDMAAIAAcQYAABAgzgAAAALEGQAAQIA4AwAACBBnAAAAAZt/Hn41ewODzs9OZ09g\n",
       "0B8vHs2ewKDHL/+aPYFBx5s3Zk9g0N2b782ewKDDWyezJzBq2Zu9gAFezgAAAALEGQAAQIA4AwAA\n",
       "CBBnAAAAAeIMAAAgQJwBAAAEiDMAAIAAcQYAABAgzgAAAALEGQAAQIA4AwAACBBnAAAAAeIMAAAg\n",
       "QJwBAAAEiDMAAIAAcQYAABAgzgAAAALEGQAAQIA4AwAACBBnAAAAAeIMAAAgQJwBAAAEiDMAAIAA\n",
       "cQYAABAgzgAAAALEGQAAQIA4AwAACBBnAAAAAeIMAAAgQJwBAAAEiDMAAIAAcQYAABAgzgAAAALE\n",
       "GQAAQIA4AwAACBBnAAAAAeIMAAAgQJwBAAAEiDMAAIAAcQYAABAgzgAAAALEGQAAQIA4AwAACBBn\n",
       "AAAAAeIMAAAgQJwBAAAEiDMAAIAAcQYAABAgzgAAAALEGQAAQIA4AwAACBBnAAAAAeIMAAAgQJwB\n",
       "AAAEiDMAAIAAcQYAABAgzgAAAALEGQAAQIA4AwAACBBnAAAAAeIMAAAgQJwBAAAEiDMAAIAAcQYA\n",
       "ABAgzgAAAALEGQAAQIA4AwAACBBnAAAAAeIMAAAgQJwBAAAEiDMAAIAAcQYAABAgzgAAAALEGQAA\n",
       "QIA4AwAACBBnAAAAAeIMAAAgQJwBAAAEiDMAAIAAcQYAABAgzgAAAALEGQAAQIA4AwAACBBnAAAA\n",
       "AeIMAAAgQJwBAAAEiDMAAIAAcQYAABAgzgAAAALEGQAAQIA4AwAACBBnAAAAAeIMAAAgQJwBAAAE\n",
       "iDMAAIAAcQYAABAgzgAAAALEGQAAQIA4AwAACBBnAAAAAeIMAAAgQJwBAAAEiDMAAIAAcQYAABAg\n",
       "zgAAAALEGQAAQIA4AwAACPgf8Q1xQToxMyEAAAAASUVORK5CYII=\n",
       "\" transform=\"translate(722, 229)\"/>\n",
       "</g>\n",
       "<circle clip-path=\"url(#clip913)\" cx=\"776.236\" cy=\"1263.51\" r=\"10.8\" fill=\"#000000\" fill-rule=\"evenodd\" fill-opacity=\"1\" stroke=\"none\"/>\n",
       "<circle clip-path=\"url(#clip913)\" cx=\"776.236\" cy=\"1154.58\" r=\"10.8\" fill=\"#000000\" fill-rule=\"evenodd\" fill-opacity=\"1\" stroke=\"none\"/>\n",
       "<circle clip-path=\"url(#clip913)\" cx=\"776.236\" cy=\"1045.65\" r=\"10.8\" fill=\"#000000\" fill-rule=\"evenodd\" fill-opacity=\"1\" stroke=\"none\"/>\n",
       "<circle clip-path=\"url(#clip913)\" cx=\"776.236\" cy=\"936.721\" r=\"10.8\" fill=\"#000000\" fill-rule=\"evenodd\" fill-opacity=\"1\" stroke=\"none\"/>\n",
       "<circle clip-path=\"url(#clip913)\" cx=\"776.236\" cy=\"827.791\" r=\"10.8\" fill=\"#000000\" fill-rule=\"evenodd\" fill-opacity=\"1\" stroke=\"none\"/>\n",
       "<circle clip-path=\"url(#clip913)\" cx=\"776.236\" cy=\"718.861\" r=\"10.8\" fill=\"#000000\" fill-rule=\"evenodd\" fill-opacity=\"1\" stroke=\"none\"/>\n",
       "<circle clip-path=\"url(#clip913)\" cx=\"776.236\" cy=\"609.931\" r=\"10.8\" fill=\"#000000\" fill-rule=\"evenodd\" fill-opacity=\"1\" stroke=\"none\"/>\n",
       "<circle clip-path=\"url(#clip913)\" cx=\"776.236\" cy=\"501.001\" r=\"10.8\" fill=\"#000000\" fill-rule=\"evenodd\" fill-opacity=\"1\" stroke=\"none\"/>\n",
       "<circle clip-path=\"url(#clip913)\" cx=\"776.236\" cy=\"392.07\" r=\"10.8\" fill=\"#000000\" fill-rule=\"evenodd\" fill-opacity=\"1\" stroke=\"none\"/>\n",
       "<circle clip-path=\"url(#clip913)\" cx=\"776.236\" cy=\"283.14\" r=\"10.8\" fill=\"#000000\" fill-rule=\"evenodd\" fill-opacity=\"1\" stroke=\"none\"/>\n",
       "<circle clip-path=\"url(#clip913)\" cx=\"885.166\" cy=\"1263.51\" r=\"10.8\" fill=\"#000000\" fill-rule=\"evenodd\" fill-opacity=\"1\" stroke=\"none\"/>\n",
       "<circle clip-path=\"url(#clip913)\" cx=\"885.166\" cy=\"1154.58\" r=\"10.8\" fill=\"#000000\" fill-rule=\"evenodd\" fill-opacity=\"1\" stroke=\"none\"/>\n",
       "<circle clip-path=\"url(#clip913)\" cx=\"885.166\" cy=\"1045.65\" r=\"10.8\" fill=\"#000000\" fill-rule=\"evenodd\" fill-opacity=\"1\" stroke=\"none\"/>\n",
       "<circle clip-path=\"url(#clip913)\" cx=\"885.166\" cy=\"936.721\" r=\"10.8\" fill=\"#000000\" fill-rule=\"evenodd\" fill-opacity=\"1\" stroke=\"none\"/>\n",
       "<circle clip-path=\"url(#clip913)\" cx=\"885.166\" cy=\"827.791\" r=\"10.8\" fill=\"#000000\" fill-rule=\"evenodd\" fill-opacity=\"1\" stroke=\"none\"/>\n",
       "<circle clip-path=\"url(#clip913)\" cx=\"885.166\" cy=\"718.861\" r=\"10.8\" fill=\"#000000\" fill-rule=\"evenodd\" fill-opacity=\"1\" stroke=\"none\"/>\n",
       "<circle clip-path=\"url(#clip913)\" cx=\"885.166\" cy=\"609.931\" r=\"10.8\" fill=\"#000000\" fill-rule=\"evenodd\" fill-opacity=\"1\" stroke=\"none\"/>\n",
       "<circle clip-path=\"url(#clip913)\" cx=\"885.166\" cy=\"501.001\" r=\"10.8\" fill=\"#000000\" fill-rule=\"evenodd\" fill-opacity=\"1\" stroke=\"none\"/>\n",
       "<circle clip-path=\"url(#clip913)\" cx=\"885.166\" cy=\"392.07\" r=\"10.8\" fill=\"#000000\" fill-rule=\"evenodd\" fill-opacity=\"1\" stroke=\"none\"/>\n",
       "<circle clip-path=\"url(#clip913)\" cx=\"885.166\" cy=\"283.14\" r=\"10.8\" fill=\"#000000\" fill-rule=\"evenodd\" fill-opacity=\"1\" stroke=\"none\"/>\n",
       "<circle clip-path=\"url(#clip913)\" cx=\"994.096\" cy=\"1263.51\" r=\"10.8\" fill=\"#000000\" fill-rule=\"evenodd\" fill-opacity=\"1\" stroke=\"none\"/>\n",
       "<circle clip-path=\"url(#clip913)\" cx=\"994.096\" cy=\"1154.58\" r=\"10.8\" fill=\"#000000\" fill-rule=\"evenodd\" fill-opacity=\"1\" stroke=\"none\"/>\n",
       "<circle clip-path=\"url(#clip913)\" cx=\"994.096\" cy=\"1045.65\" r=\"10.8\" fill=\"#000000\" fill-rule=\"evenodd\" fill-opacity=\"1\" stroke=\"none\"/>\n",
       "<circle clip-path=\"url(#clip913)\" cx=\"994.096\" cy=\"936.721\" r=\"10.8\" fill=\"#000000\" fill-rule=\"evenodd\" fill-opacity=\"1\" stroke=\"none\"/>\n",
       "<circle clip-path=\"url(#clip913)\" cx=\"994.096\" cy=\"827.791\" r=\"10.8\" fill=\"#000000\" fill-rule=\"evenodd\" fill-opacity=\"1\" stroke=\"none\"/>\n",
       "<circle clip-path=\"url(#clip913)\" cx=\"994.096\" cy=\"718.861\" r=\"10.8\" fill=\"#000000\" fill-rule=\"evenodd\" fill-opacity=\"1\" stroke=\"none\"/>\n",
       "<circle clip-path=\"url(#clip913)\" cx=\"994.096\" cy=\"609.931\" r=\"10.8\" fill=\"#000000\" fill-rule=\"evenodd\" fill-opacity=\"1\" stroke=\"none\"/>\n",
       "<circle clip-path=\"url(#clip913)\" cx=\"994.096\" cy=\"501.001\" r=\"10.8\" fill=\"#000000\" fill-rule=\"evenodd\" fill-opacity=\"1\" stroke=\"none\"/>\n",
       "<circle clip-path=\"url(#clip913)\" cx=\"994.096\" cy=\"392.07\" r=\"10.8\" fill=\"#000000\" fill-rule=\"evenodd\" fill-opacity=\"1\" stroke=\"none\"/>\n",
       "<circle clip-path=\"url(#clip913)\" cx=\"994.096\" cy=\"283.14\" r=\"10.8\" fill=\"#000000\" fill-rule=\"evenodd\" fill-opacity=\"1\" stroke=\"none\"/>\n",
       "<circle clip-path=\"url(#clip913)\" cx=\"1103.03\" cy=\"1263.51\" r=\"10.8\" fill=\"#000000\" fill-rule=\"evenodd\" fill-opacity=\"1\" stroke=\"none\"/>\n",
       "<circle clip-path=\"url(#clip913)\" cx=\"1103.03\" cy=\"1154.58\" r=\"10.8\" fill=\"#000000\" fill-rule=\"evenodd\" fill-opacity=\"1\" stroke=\"none\"/>\n",
       "<circle clip-path=\"url(#clip913)\" cx=\"1103.03\" cy=\"1045.65\" r=\"10.8\" fill=\"#000000\" fill-rule=\"evenodd\" fill-opacity=\"1\" stroke=\"none\"/>\n",
       "<circle clip-path=\"url(#clip913)\" cx=\"1103.03\" cy=\"936.721\" r=\"10.8\" fill=\"#000000\" fill-rule=\"evenodd\" fill-opacity=\"1\" stroke=\"none\"/>\n",
       "<circle clip-path=\"url(#clip913)\" cx=\"1103.03\" cy=\"827.791\" r=\"10.8\" fill=\"#000000\" fill-rule=\"evenodd\" fill-opacity=\"1\" stroke=\"none\"/>\n",
       "<circle clip-path=\"url(#clip913)\" cx=\"1103.03\" cy=\"718.861\" r=\"10.8\" fill=\"#000000\" fill-rule=\"evenodd\" fill-opacity=\"1\" stroke=\"none\"/>\n",
       "<circle clip-path=\"url(#clip913)\" cx=\"1103.03\" cy=\"609.931\" r=\"10.8\" fill=\"#000000\" fill-rule=\"evenodd\" fill-opacity=\"1\" stroke=\"none\"/>\n",
       "<circle clip-path=\"url(#clip913)\" cx=\"1103.03\" cy=\"501.001\" r=\"10.8\" fill=\"#000000\" fill-rule=\"evenodd\" fill-opacity=\"1\" stroke=\"none\"/>\n",
       "<circle clip-path=\"url(#clip913)\" cx=\"1103.03\" cy=\"392.07\" r=\"10.8\" fill=\"#000000\" fill-rule=\"evenodd\" fill-opacity=\"1\" stroke=\"none\"/>\n",
       "<circle clip-path=\"url(#clip913)\" cx=\"1103.03\" cy=\"283.14\" r=\"10.8\" fill=\"#000000\" fill-rule=\"evenodd\" fill-opacity=\"1\" stroke=\"none\"/>\n",
       "<circle clip-path=\"url(#clip913)\" cx=\"1211.96\" cy=\"1263.51\" r=\"10.8\" fill=\"#000000\" fill-rule=\"evenodd\" fill-opacity=\"1\" stroke=\"none\"/>\n",
       "<circle clip-path=\"url(#clip913)\" cx=\"1211.96\" cy=\"1154.58\" r=\"10.8\" fill=\"#000000\" fill-rule=\"evenodd\" fill-opacity=\"1\" stroke=\"none\"/>\n",
       "<circle clip-path=\"url(#clip913)\" cx=\"1211.96\" cy=\"1045.65\" r=\"10.8\" fill=\"#000000\" fill-rule=\"evenodd\" fill-opacity=\"1\" stroke=\"none\"/>\n",
       "<circle clip-path=\"url(#clip913)\" cx=\"1211.96\" cy=\"936.721\" r=\"10.8\" fill=\"#000000\" fill-rule=\"evenodd\" fill-opacity=\"1\" stroke=\"none\"/>\n",
       "<circle clip-path=\"url(#clip913)\" cx=\"1211.96\" cy=\"827.791\" r=\"10.8\" fill=\"#000000\" fill-rule=\"evenodd\" fill-opacity=\"1\" stroke=\"none\"/>\n",
       "<circle clip-path=\"url(#clip913)\" cx=\"1211.96\" cy=\"718.861\" r=\"10.8\" fill=\"#000000\" fill-rule=\"evenodd\" fill-opacity=\"1\" stroke=\"none\"/>\n",
       "<circle clip-path=\"url(#clip913)\" cx=\"1211.96\" cy=\"609.931\" r=\"10.8\" fill=\"#000000\" fill-rule=\"evenodd\" fill-opacity=\"1\" stroke=\"none\"/>\n",
       "<circle clip-path=\"url(#clip913)\" cx=\"1211.96\" cy=\"501.001\" r=\"10.8\" fill=\"#000000\" fill-rule=\"evenodd\" fill-opacity=\"1\" stroke=\"none\"/>\n",
       "<circle clip-path=\"url(#clip913)\" cx=\"1211.96\" cy=\"392.07\" r=\"10.8\" fill=\"#000000\" fill-rule=\"evenodd\" fill-opacity=\"1\" stroke=\"none\"/>\n",
       "<circle clip-path=\"url(#clip913)\" cx=\"1211.96\" cy=\"283.14\" r=\"10.8\" fill=\"#000000\" fill-rule=\"evenodd\" fill-opacity=\"1\" stroke=\"none\"/>\n",
       "<circle clip-path=\"url(#clip913)\" cx=\"1320.89\" cy=\"1263.51\" r=\"10.8\" fill=\"#000000\" fill-rule=\"evenodd\" fill-opacity=\"1\" stroke=\"none\"/>\n",
       "<circle clip-path=\"url(#clip913)\" cx=\"1320.89\" cy=\"1154.58\" r=\"10.8\" fill=\"#000000\" fill-rule=\"evenodd\" fill-opacity=\"1\" stroke=\"none\"/>\n",
       "<circle clip-path=\"url(#clip913)\" cx=\"1320.89\" cy=\"1045.65\" r=\"10.8\" fill=\"#000000\" fill-rule=\"evenodd\" fill-opacity=\"1\" stroke=\"none\"/>\n",
       "<circle clip-path=\"url(#clip913)\" cx=\"1320.89\" cy=\"936.721\" r=\"10.8\" fill=\"#000000\" fill-rule=\"evenodd\" fill-opacity=\"1\" stroke=\"none\"/>\n",
       "<circle clip-path=\"url(#clip913)\" cx=\"1320.89\" cy=\"827.791\" r=\"10.8\" fill=\"#000000\" fill-rule=\"evenodd\" fill-opacity=\"1\" stroke=\"none\"/>\n",
       "<circle clip-path=\"url(#clip913)\" cx=\"1320.89\" cy=\"718.861\" r=\"10.8\" fill=\"#000000\" fill-rule=\"evenodd\" fill-opacity=\"1\" stroke=\"none\"/>\n",
       "<circle clip-path=\"url(#clip913)\" cx=\"1320.89\" cy=\"609.931\" r=\"10.8\" fill=\"#000000\" fill-rule=\"evenodd\" fill-opacity=\"1\" stroke=\"none\"/>\n",
       "<circle clip-path=\"url(#clip913)\" cx=\"1320.89\" cy=\"501.001\" r=\"10.8\" fill=\"#000000\" fill-rule=\"evenodd\" fill-opacity=\"1\" stroke=\"none\"/>\n",
       "<circle clip-path=\"url(#clip913)\" cx=\"1320.89\" cy=\"392.07\" r=\"10.8\" fill=\"#000000\" fill-rule=\"evenodd\" fill-opacity=\"1\" stroke=\"none\"/>\n",
       "<circle clip-path=\"url(#clip913)\" cx=\"1320.89\" cy=\"283.14\" r=\"10.8\" fill=\"#000000\" fill-rule=\"evenodd\" fill-opacity=\"1\" stroke=\"none\"/>\n",
       "<circle clip-path=\"url(#clip913)\" cx=\"1429.82\" cy=\"1263.51\" r=\"10.8\" fill=\"#000000\" fill-rule=\"evenodd\" fill-opacity=\"1\" stroke=\"none\"/>\n",
       "<circle clip-path=\"url(#clip913)\" cx=\"1429.82\" cy=\"1154.58\" r=\"10.8\" fill=\"#000000\" fill-rule=\"evenodd\" fill-opacity=\"1\" stroke=\"none\"/>\n",
       "<circle clip-path=\"url(#clip913)\" cx=\"1429.82\" cy=\"1045.65\" r=\"10.8\" fill=\"#000000\" fill-rule=\"evenodd\" fill-opacity=\"1\" stroke=\"none\"/>\n",
       "<circle clip-path=\"url(#clip913)\" cx=\"1429.82\" cy=\"936.721\" r=\"10.8\" fill=\"#000000\" fill-rule=\"evenodd\" fill-opacity=\"1\" stroke=\"none\"/>\n",
       "<circle clip-path=\"url(#clip913)\" cx=\"1429.82\" cy=\"827.791\" r=\"10.8\" fill=\"#000000\" fill-rule=\"evenodd\" fill-opacity=\"1\" stroke=\"none\"/>\n",
       "<circle clip-path=\"url(#clip913)\" cx=\"1429.82\" cy=\"718.861\" r=\"10.8\" fill=\"#000000\" fill-rule=\"evenodd\" fill-opacity=\"1\" stroke=\"none\"/>\n",
       "<circle clip-path=\"url(#clip913)\" cx=\"1429.82\" cy=\"609.931\" r=\"10.8\" fill=\"#000000\" fill-rule=\"evenodd\" fill-opacity=\"1\" stroke=\"none\"/>\n",
       "<circle clip-path=\"url(#clip913)\" cx=\"1429.82\" cy=\"501.001\" r=\"10.8\" fill=\"#000000\" fill-rule=\"evenodd\" fill-opacity=\"1\" stroke=\"none\"/>\n",
       "<circle clip-path=\"url(#clip913)\" cx=\"1429.82\" cy=\"392.07\" r=\"10.8\" fill=\"#000000\" fill-rule=\"evenodd\" fill-opacity=\"1\" stroke=\"none\"/>\n",
       "<circle clip-path=\"url(#clip913)\" cx=\"1429.82\" cy=\"283.14\" r=\"10.8\" fill=\"#000000\" fill-rule=\"evenodd\" fill-opacity=\"1\" stroke=\"none\"/>\n",
       "<circle clip-path=\"url(#clip913)\" cx=\"1538.75\" cy=\"1263.51\" r=\"10.8\" fill=\"#000000\" fill-rule=\"evenodd\" fill-opacity=\"1\" stroke=\"none\"/>\n",
       "<circle clip-path=\"url(#clip913)\" cx=\"1538.75\" cy=\"1154.58\" r=\"10.8\" fill=\"#000000\" fill-rule=\"evenodd\" fill-opacity=\"1\" stroke=\"none\"/>\n",
       "<circle clip-path=\"url(#clip913)\" cx=\"1538.75\" cy=\"1045.65\" r=\"10.8\" fill=\"#000000\" fill-rule=\"evenodd\" fill-opacity=\"1\" stroke=\"none\"/>\n",
       "<circle clip-path=\"url(#clip913)\" cx=\"1538.75\" cy=\"936.721\" r=\"10.8\" fill=\"#000000\" fill-rule=\"evenodd\" fill-opacity=\"1\" stroke=\"none\"/>\n",
       "<circle clip-path=\"url(#clip913)\" cx=\"1538.75\" cy=\"827.791\" r=\"10.8\" fill=\"#000000\" fill-rule=\"evenodd\" fill-opacity=\"1\" stroke=\"none\"/>\n",
       "<circle clip-path=\"url(#clip913)\" cx=\"1538.75\" cy=\"718.861\" r=\"10.8\" fill=\"#000000\" fill-rule=\"evenodd\" fill-opacity=\"1\" stroke=\"none\"/>\n",
       "<circle clip-path=\"url(#clip913)\" cx=\"1538.75\" cy=\"609.931\" r=\"10.8\" fill=\"#000000\" fill-rule=\"evenodd\" fill-opacity=\"1\" stroke=\"none\"/>\n",
       "<circle clip-path=\"url(#clip913)\" cx=\"1538.75\" cy=\"501.001\" r=\"10.8\" fill=\"#000000\" fill-rule=\"evenodd\" fill-opacity=\"1\" stroke=\"none\"/>\n",
       "<circle clip-path=\"url(#clip913)\" cx=\"1538.75\" cy=\"392.07\" r=\"10.8\" fill=\"#000000\" fill-rule=\"evenodd\" fill-opacity=\"1\" stroke=\"none\"/>\n",
       "<circle clip-path=\"url(#clip913)\" cx=\"1538.75\" cy=\"283.14\" r=\"10.8\" fill=\"#000000\" fill-rule=\"evenodd\" fill-opacity=\"1\" stroke=\"none\"/>\n",
       "<path clip-path=\"url(#clip913)\" d=\"M1103.03 501.001 L1100.28 501.018 L1097.54 501.07 L1094.8 501.156 L1092.06 501.277 L1089.32 501.432 L1086.58 501.622 L1083.85 501.846 L1081.12 502.105 L1078.39 502.398 L1075.67 502.725 L1072.95 503.087 L1070.23 503.483 L1067.52 503.913 L1064.82 504.377 L1062.12 504.875 L1059.43 505.407 L1056.75 505.973 L1054.07 506.572 L1051.4 507.206 L1048.74 507.872 L1046.09 508.573 L1043.45 509.306 L1040.81 510.073 L1038.19 510.873 L1035.57 511.706 L1032.97 512.572 L1030.38 513.47 L1027.8 514.401 L1025.23 515.364 L1022.67 516.36 L1020.13 517.388 L1017.6 518.448 L1015.08 519.539 L1012.58 520.662 L1010.09 521.817 L1007.62 523.003 L1005.16 524.219 L1002.72 525.467 L1000.29 526.745 L997.879 528.054 L995.485 529.393 L993.108 530.762 L990.748 532.161 L988.407 533.59 L986.083 535.048 L983.778 536.535 L981.491 538.051 L979.224 539.595 L976.977 541.168 L974.75 542.77 L972.543 544.399 L970.356 546.055 L968.191 547.74 L966.047 549.451 L963.925 551.189 L961.825 552.954 L959.747 554.745 L957.692 556.562 L955.66 558.405 L953.651 560.273 L951.666 562.166 L949.705 564.085 L947.769 566.027 L945.856 567.994 L943.969 569.985 L942.107 572 L940.271 574.038 L938.46 576.099 L936.676 578.182 L934.918 580.288 L933.186 582.415 L931.482 584.565 L929.804 586.735 L928.155 588.927 L926.532 591.139 L924.938 593.371 L923.372 595.624 L921.835 597.895 L920.326 600.186 L918.846 602.496 L917.396 604.825 L915.975 607.171 L914.583 609.535 L913.221 611.916 L911.89 614.315 L910.589 616.73 L909.318 619.161 L908.078 621.608 L906.869 624.07 L905.691 626.548 L904.544 629.04 L903.429 631.546 L902.345 634.066 L901.294 636.599 L900.274 639.146 L899.286 641.705 L898.331 644.277 L897.408 646.86 L896.518 649.455 L895.66 652.06 L894.836 654.677 L894.044 657.303 L893.285 659.939 L892.56 662.585 L891.868 665.239 L891.21 667.902 L890.585 670.573 L889.994 673.252 L889.436 675.938 L888.913 678.631 L888.423 681.33 L887.968 684.035 L887.546 686.746 L887.159 689.461 L886.806 692.182 L886.487 694.906 L886.203 697.635 L885.953 700.367 L885.737 703.101 L885.556 705.838 L885.409 708.578 L885.297 711.319 L885.219 714.061 L885.176 716.804 L885.167 719.547 L885.193 722.29 L885.254 725.032 L885.349 727.774 L885.478 730.514 L885.642 733.252 L885.841 735.988 L886.073 738.721 L886.341 741.452 L886.642 744.178 L886.978 746.901 L887.348 749.619 L887.753 752.332 L888.191 755.04 L888.664 757.742 L889.17 760.438 L889.711 763.128 L890.285 765.81 L890.893 768.485 L891.535 771.152 L892.21 773.811 L892.919 776.461 L893.661 779.102 L894.436 781.733 L895.244 784.355 L896.085 786.966 L896.959 789.566 L897.865 792.155 L898.805 794.732 L899.776 797.298 L900.78 799.851 L901.816 802.391 L902.883 804.918 L903.983 807.431 L905.114 809.93 L906.276 812.415 L907.47 814.885 L908.694 817.339 L909.95 819.779 L911.236 822.202 L912.552 824.608 L913.898 826.998 L915.275 829.371 L916.681 831.726 L918.117 834.064 L919.582 836.383 L921.077 838.683 L922.6 840.965 L924.152 843.227 L925.732 845.469 L927.34 847.691 L928.976 849.893 L930.64 852.075 L932.331 854.235 L934.049 856.373 L935.794 858.49 L937.565 860.584 L939.362 862.657 L941.186 864.706 L943.035 866.732 L944.91 868.735 L946.809 870.714 L948.734 872.669 L950.683 874.599 L952.656 876.505 L954.653 878.386 L956.673 880.242 L958.717 882.072 L960.783 883.876 L962.872 885.654 L964.983 887.405 L967.116 889.13 L969.271 890.828 L971.447 892.498 L973.644 894.141 L975.861 895.756 L978.098 897.343 L980.355 898.902 L982.632 900.433 L984.928 901.934 L987.242 903.407 L989.575 904.85 L991.926 906.264 L994.294 907.648 L996.68 909.002 L999.083 910.326 L1001.5 911.619 L1003.94 912.882 L1006.39 914.115 L1008.85 915.316 L1011.33 916.486 L1013.83 917.625 L1016.34 918.732 L1018.86 919.808 L1021.4 920.852 L1023.95 921.864 L1026.51 922.843 L1029.09 923.79 L1031.67 924.705 L1034.27 925.587 L1036.88 926.437 L1039.5 927.253 L1042.13 928.036 L1044.77 928.787 L1047.41 929.503 L1050.07 930.187 L1052.74 930.837 L1055.41 931.453 L1058.09 932.036 L1060.78 932.585 L1063.47 933.1 L1066.17 933.581 L1068.88 934.028 L1071.59 934.441 L1074.31 934.82 L1077.03 935.164 L1079.75 935.475 L1082.48 935.75 L1085.22 935.992 L1087.95 936.199 L1090.69 936.372 L1093.43 936.51 L1096.17 936.613 L1098.91 936.682 L1101.66 936.717 L1104.4 936.717 L1107.14 936.682 L1109.88 936.613 L1112.62 936.51 L1115.36 936.372 L1118.1 936.199 L1120.84 935.992 L1123.57 935.75 L1126.3 935.475 L1129.02 935.164 L1131.75 934.82 L1134.46 934.441 L1137.18 934.028 L1139.88 933.581 L1142.58 933.1 L1145.28 932.585 L1147.96 932.036 L1150.65 931.453 L1153.32 930.837 L1155.98 930.187 L1158.64 929.503 L1161.29 928.787 L1163.93 928.036 L1166.56 927.253 L1169.17 926.437 L1171.78 925.587 L1174.38 924.705 L1176.97 923.79 L1179.54 922.843 L1182.1 921.864 L1184.65 920.852 L1187.19 919.808 L1189.71 918.732 L1192.22 917.625 L1194.72 916.486 L1197.2 915.316 L1199.67 914.115 L1202.12 912.882 L1204.55 911.619 L1206.97 910.326 L1209.37 909.002 L1211.76 907.648 L1214.13 906.264 L1216.48 904.85 L1218.81 903.407 L1221.13 901.934 L1223.42 900.433 L1225.7 898.902 L1227.95 897.343 L1230.19 895.756 L1232.41 894.141 L1234.61 892.498 L1236.78 890.828 L1238.94 889.13 L1241.07 887.405 L1243.18 885.654 L1245.27 883.876 L1247.34 882.072 L1249.38 880.242 L1251.4 878.386 L1253.4 876.505 L1255.37 874.599 L1257.32 872.669 L1259.24 870.714 L1261.14 868.735 L1263.02 866.732 L1264.87 864.706 L1266.69 862.657 L1268.49 860.584 L1270.26 858.49 L1272 856.373 L1273.72 854.235 L1275.41 852.075 L1277.08 849.893 L1278.71 847.691 L1280.32 845.469 L1281.9 843.227 L1283.45 840.965 L1284.98 838.683 L1286.47 836.383 L1287.94 834.064 L1289.37 831.726 L1290.78 829.371 L1292.15 826.998 L1293.5 824.608 L1294.82 822.202 L1296.1 819.779 L1297.36 817.339 L1298.58 814.885 L1299.78 812.415 L1300.94 809.93 L1302.07 807.431 L1303.17 804.918 L1304.24 802.391 L1305.27 799.851 L1306.28 797.298 L1307.25 794.732 L1308.19 792.155 L1309.09 789.566 L1309.97 786.966 L1310.81 784.355 L1311.62 781.733 L1312.39 779.102 L1313.13 776.461 L1313.84 773.811 L1314.52 771.152 L1315.16 768.485 L1315.77 765.81 L1316.34 763.128 L1316.88 760.438 L1317.39 757.742 L1317.86 755.04 L1318.3 752.332 L1318.7 749.619 L1319.07 746.901 L1319.41 744.178 L1319.71 741.452 L1319.98 738.721 L1320.21 735.988 L1320.41 733.252 L1320.58 730.514 L1320.7 727.774 L1320.8 725.032 L1320.86 722.29 L1320.89 719.547 L1320.88 716.804 L1320.83 714.061 L1320.76 711.319 L1320.64 708.578 L1320.5 705.838 L1320.32 703.101 L1320.1 700.367 L1319.85 697.635 L1319.57 694.906 L1319.25 692.182 L1318.89 689.461 L1318.51 686.746 L1318.09 684.035 L1317.63 681.33 L1317.14 678.631 L1316.62 675.938 L1316.06 673.252 L1315.47 670.573 L1314.84 667.902 L1314.18 665.239 L1313.49 662.585 L1312.77 659.939 L1312.01 657.303 L1311.22 654.677 L1310.39 652.06 L1309.54 649.455 L1308.65 646.86 L1307.72 644.277 L1306.77 641.705 L1305.78 639.146 L1304.76 636.599 L1303.71 634.066 L1302.62 631.546 L1301.51 629.04 L1300.36 626.548 L1299.18 624.07 L1297.98 621.608 L1296.74 619.161 L1295.46 616.73 L1294.16 614.315 L1292.83 611.916 L1291.47 609.535 L1290.08 607.171 L1288.66 604.825 L1287.21 602.496 L1285.73 600.186 L1284.22 597.895 L1282.68 595.624 L1281.12 593.371 L1279.52 591.139 L1277.9 588.927 L1276.25 586.735 L1274.57 584.565 L1272.87 582.415 L1271.14 580.288 L1269.38 578.182 L1267.59 576.099 L1265.78 574.038 L1263.95 572 L1262.08 569.985 L1260.2 567.994 L1258.28 566.027 L1256.35 564.085 L1254.39 562.166 L1252.4 560.273 L1250.39 558.405 L1248.36 556.562 L1246.31 554.745 L1244.23 552.954 L1242.13 551.189 L1240.01 549.451 L1237.86 547.74 L1235.7 546.055 L1233.51 544.399 L1231.3 542.77 L1229.08 541.168 L1226.83 539.595 L1224.56 538.051 L1222.28 536.535 L1219.97 535.048 L1217.65 533.59 L1215.3 532.161 L1212.95 530.762 L1210.57 529.393 L1208.17 528.054 L1205.76 526.745 L1203.34 525.467 L1200.89 524.219 L1198.43 523.003 L1195.96 521.817 L1193.47 520.662 L1190.97 519.539 L1188.45 518.448 L1185.92 517.388 L1183.38 516.36 L1180.82 515.364 L1178.25 514.401 L1175.67 513.47 L1173.08 512.572 L1170.48 511.706 L1167.87 510.873 L1165.24 510.073 L1162.61 509.306 L1159.96 508.573 L1157.31 507.872 L1154.65 507.206 L1151.98 506.572 L1149.31 505.973 L1146.62 505.407 L1143.93 504.875 L1141.23 504.377 L1138.53 503.913 L1135.82 503.483 L1133.11 503.087 L1130.39 502.725 L1127.66 502.398 L1124.94 502.105 L1122.2 501.846 L1119.47 501.622 L1116.73 501.432 L1113.99 501.277 L1111.25 501.156 L1108.51 501.07 L1105.77 501.018 L1103.03 501.001 L1103.03 501.001  Z\" fill=\"#ff0000\" fill-rule=\"evenodd\" fill-opacity=\"0.2\"/>\n",
       "<polyline clip-path=\"url(#clip913)\" style=\"stroke:#ff0000; stroke-linecap:round; stroke-linejoin:round; stroke-width:2; stroke-opacity:1; fill:none\" points=\"1103.03,501.001 1100.28,501.018 1097.54,501.07 1094.8,501.156 1092.06,501.277 1089.32,501.432 1086.58,501.622 1083.85,501.846 1081.12,502.105 1078.39,502.398 1075.67,502.725 1072.95,503.087 1070.23,503.483 1067.52,503.913 1064.82,504.377 1062.12,504.875 1059.43,505.407 1056.75,505.973 1054.07,506.572 1051.4,507.206 1048.74,507.872 1046.09,508.573 1043.45,509.306 1040.81,510.073 1038.19,510.873 1035.57,511.706 1032.97,512.572 1030.38,513.47 1027.8,514.401 1025.23,515.364 1022.67,516.36 1020.13,517.388 1017.6,518.448 1015.08,519.539 1012.58,520.662 1010.09,521.817 1007.62,523.003 1005.16,524.219 1002.72,525.467 1000.29,526.745 997.879,528.054 995.485,529.393 993.108,530.762 990.748,532.161 988.407,533.59 986.083,535.048 983.778,536.535 981.491,538.051 979.224,539.595 976.977,541.168 974.75,542.77 972.543,544.399 970.356,546.055 968.191,547.74 966.047,549.451 963.925,551.189 961.825,552.954 959.747,554.745 957.692,556.562 955.66,558.405 953.651,560.273 951.666,562.166 949.705,564.085 947.769,566.027 945.856,567.994 943.969,569.985 942.107,572 940.271,574.038 938.46,576.099 936.676,578.182 934.918,580.288 933.186,582.415 931.482,584.565 929.804,586.735 928.155,588.927 926.532,591.139 924.938,593.371 923.372,595.624 921.835,597.895 920.326,600.186 918.846,602.496 917.396,604.825 915.975,607.171 914.583,609.535 913.221,611.916 911.89,614.315 910.589,616.73 909.318,619.161 908.078,621.608 906.869,624.07 905.691,626.548 904.544,629.04 903.429,631.546 902.345,634.066 901.294,636.599 900.274,639.146 899.286,641.705 898.331,644.277 897.408,646.86 896.518,649.455 895.66,652.06 894.836,654.677 894.044,657.303 893.285,659.939 892.56,662.585 891.868,665.239 891.21,667.902 890.585,670.573 889.994,673.252 889.436,675.938 888.913,678.631 888.423,681.33 887.968,684.035 887.546,686.746 887.159,689.461 886.806,692.182 886.487,694.906 886.203,697.635 885.953,700.367 885.737,703.101 885.556,705.838 885.409,708.578 885.297,711.319 885.219,714.061 885.176,716.804 885.167,719.547 885.193,722.29 885.254,725.032 885.349,727.774 885.478,730.514 885.642,733.252 885.841,735.988 886.073,738.721 886.341,741.452 886.642,744.178 886.978,746.901 887.348,749.619 887.753,752.332 888.191,755.04 888.664,757.742 889.17,760.438 889.711,763.128 890.285,765.81 890.893,768.485 891.535,771.152 892.21,773.811 892.919,776.461 893.661,779.102 894.436,781.733 895.244,784.355 896.085,786.966 896.959,789.566 897.865,792.155 898.805,794.732 899.776,797.298 900.78,799.851 901.816,802.391 902.883,804.918 903.983,807.431 905.114,809.93 906.276,812.415 907.47,814.885 908.694,817.339 909.95,819.779 911.236,822.202 912.552,824.608 913.898,826.998 915.275,829.371 916.681,831.726 918.117,834.064 919.582,836.383 921.077,838.683 922.6,840.965 924.152,843.227 925.732,845.469 927.34,847.691 928.976,849.893 930.64,852.075 932.331,854.235 934.049,856.373 935.794,858.49 937.565,860.584 939.362,862.657 941.186,864.706 943.035,866.732 944.91,868.735 946.809,870.714 948.734,872.669 950.683,874.599 952.656,876.505 954.653,878.386 956.673,880.242 958.717,882.072 960.783,883.876 962.872,885.654 964.983,887.405 967.116,889.13 969.271,890.828 971.447,892.498 973.644,894.141 975.861,895.756 978.098,897.343 980.355,898.902 982.632,900.433 984.928,901.934 987.242,903.407 989.575,904.85 991.926,906.264 994.294,907.648 996.68,909.002 999.083,910.326 1001.5,911.619 1003.94,912.882 1006.39,914.115 1008.85,915.316 1011.33,916.486 1013.83,917.625 1016.34,918.732 1018.86,919.808 1021.4,920.852 1023.95,921.864 1026.51,922.843 1029.09,923.79 1031.67,924.705 1034.27,925.587 1036.88,926.437 1039.5,927.253 1042.13,928.036 1044.77,928.787 1047.41,929.503 1050.07,930.187 1052.74,930.837 1055.41,931.453 1058.09,932.036 1060.78,932.585 1063.47,933.1 1066.17,933.581 1068.88,934.028 1071.59,934.441 1074.31,934.82 1077.03,935.164 1079.75,935.475 1082.48,935.75 1085.22,935.992 1087.95,936.199 1090.69,936.372 1093.43,936.51 1096.17,936.613 1098.91,936.682 1101.66,936.717 1104.4,936.717 1107.14,936.682 1109.88,936.613 1112.62,936.51 1115.36,936.372 1118.1,936.199 1120.84,935.992 1123.57,935.75 1126.3,935.475 1129.02,935.164 1131.75,934.82 1134.46,934.441 1137.18,934.028 1139.88,933.581 1142.58,933.1 1145.28,932.585 1147.96,932.036 1150.65,931.453 1153.32,930.837 1155.98,930.187 1158.64,929.503 1161.29,928.787 1163.93,928.036 1166.56,927.253 1169.17,926.437 1171.78,925.587 1174.38,924.705 1176.97,923.79 1179.54,922.843 1182.1,921.864 1184.65,920.852 1187.19,919.808 1189.71,918.732 1192.22,917.625 1194.72,916.486 1197.2,915.316 1199.67,914.115 1202.12,912.882 1204.55,911.619 1206.97,910.326 1209.37,909.002 1211.76,907.648 1214.13,906.264 1216.48,904.85 1218.81,903.407 1221.13,901.934 1223.42,900.433 1225.7,898.902 1227.95,897.343 1230.19,895.756 1232.41,894.141 1234.61,892.498 1236.78,890.828 1238.94,889.13 1241.07,887.405 1243.18,885.654 1245.27,883.876 1247.34,882.072 1249.38,880.242 1251.4,878.386 1253.4,876.505 1255.37,874.599 1257.32,872.669 1259.24,870.714 1261.14,868.735 1263.02,866.732 1264.87,864.706 1266.69,862.657 1268.49,860.584 1270.26,858.49 1272,856.373 1273.72,854.235 1275.41,852.075 1277.08,849.893 1278.71,847.691 1280.32,845.469 1281.9,843.227 1283.45,840.965 1284.98,838.683 1286.47,836.383 1287.94,834.064 1289.37,831.726 1290.78,829.371 1292.15,826.998 1293.5,824.608 1294.82,822.202 1296.1,819.779 1297.36,817.339 1298.58,814.885 1299.78,812.415 1300.94,809.93 1302.07,807.431 1303.17,804.918 1304.24,802.391 1305.27,799.851 1306.28,797.298 1307.25,794.732 1308.19,792.155 1309.09,789.566 1309.97,786.966 1310.81,784.355 1311.62,781.733 1312.39,779.102 1313.13,776.461 1313.84,773.811 1314.52,771.152 1315.16,768.485 1315.77,765.81 1316.34,763.128 1316.88,760.438 1317.39,757.742 1317.86,755.04 1318.3,752.332 1318.7,749.619 1319.07,746.901 1319.41,744.178 1319.71,741.452 1319.98,738.721 1320.21,735.988 1320.41,733.252 1320.58,730.514 1320.7,727.774 1320.8,725.032 1320.86,722.29 1320.89,719.547 1320.88,716.804 1320.83,714.061 1320.76,711.319 1320.64,708.578 1320.5,705.838 1320.32,703.101 1320.1,700.367 1319.85,697.635 1319.57,694.906 1319.25,692.182 1318.89,689.461 1318.51,686.746 1318.09,684.035 1317.63,681.33 1317.14,678.631 1316.62,675.938 1316.06,673.252 1315.47,670.573 1314.84,667.902 1314.18,665.239 1313.49,662.585 1312.77,659.939 1312.01,657.303 1311.22,654.677 1310.39,652.06 1309.54,649.455 1308.65,646.86 1307.72,644.277 1306.77,641.705 1305.78,639.146 1304.76,636.599 1303.71,634.066 1302.62,631.546 1301.51,629.04 1300.36,626.548 1299.18,624.07 1297.98,621.608 1296.74,619.161 1295.46,616.73 1294.16,614.315 1292.83,611.916 1291.47,609.535 1290.08,607.171 1288.66,604.825 1287.21,602.496 1285.73,600.186 1284.22,597.895 1282.68,595.624 1281.12,593.371 1279.52,591.139 1277.9,588.927 1276.25,586.735 1274.57,584.565 1272.87,582.415 1271.14,580.288 1269.38,578.182 1267.59,576.099 1265.78,574.038 1263.95,572 1262.08,569.985 1260.2,567.994 1258.28,566.027 1256.35,564.085 1254.39,562.166 1252.4,560.273 1250.39,558.405 1248.36,556.562 1246.31,554.745 1244.23,552.954 1242.13,551.189 1240.01,549.451 1237.86,547.74 1235.7,546.055 1233.51,544.399 1231.3,542.77 1229.08,541.168 1226.83,539.595 1224.56,538.051 1222.28,536.535 1219.97,535.048 1217.65,533.59 1215.3,532.161 1212.95,530.762 1210.57,529.393 1208.17,528.054 1205.76,526.745 1203.34,525.467 1200.89,524.219 1198.43,523.003 1195.96,521.817 1193.47,520.662 1190.97,519.539 1188.45,518.448 1185.92,517.388 1183.38,516.36 1180.82,515.364 1178.25,514.401 1175.67,513.47 1173.08,512.572 1170.48,511.706 1167.87,510.873 1165.24,510.073 1162.61,509.306 1159.96,508.573 1157.31,507.872 1154.65,507.206 1151.98,506.572 1149.31,505.973 1146.62,505.407 1143.93,504.875 1141.23,504.377 1138.53,503.913 1135.82,503.483 1133.11,503.087 1130.39,502.725 1127.66,502.398 1124.94,502.105 1122.2,501.846 1119.47,501.622 1116.73,501.432 1113.99,501.277 1111.25,501.156 1108.51,501.07 1105.77,501.018 1103.03,501.001 \"/>\n",
       "<defs>\n",
       "  <clipPath id=\"clip914\">\n",
       "    <rect x=\"2160\" y=\"195\" width=\"73\" height=\"1156\"/>\n",
       "  </clipPath>\n",
       "</defs>\n",
       "<g clip-path=\"url(#clip914)\">\n",
       "<image width=\"72\" height=\"1155\" xlink:href=\"data:image/png;base64,\n",
       "iVBORw0KGgoAAAANSUhEUgAAAEgAAASDCAYAAADajXkjAAAJ3klEQVR4nO3dwW3kSBBFwSoiz2OF\n",
       "bJD/nlEWTL5j9yHCgsXDR6FItnbu77+f9/Bfz6f/A76dQEGgIFCYe+6n/xu+mgUFgYJAQaDgkA4W\n",
       "FAQKAoW51xm0saAgUBAoCBTmcVFcWVAQKAgU5mq0UicIFAQKAgVvFIMFBYGCQMEbxWBBQaAgUBAo\n",
       "eKMYLCgIFAQK3igGdYJAQaAgUPBGMVhQECgIFLxRDBYUBAoCBYGCi2KwoCBQECh4oxjUCQIFgYJA\n",
       "wafnYEFBoCBQmHs12qgTBAoCBYGCN4rBgoJAQaDgDAoWFAQKAgWBgs8+QZ0gUBAo+I1isKAgUBAo\n",
       "CBRcFIM6QaAgUPBGMVhQECgIFAQKLopBnSBQECh4oxgsKAgUBAoCBRfFoE4QKAgUvFEMFhQECgIF\n",
       "gYK/OAzqBIGCQMHDalAnCBQECgIFn32CBQWBgkDBRTGoEwQKAgWBgs8+wYKCQEGg4KtGUCcIFAQK\n",
       "AgVP80GdIFAQKPiqESwoCBQECgIFF8WgThAoCBS8UQzqBIGCQEGgMMen55UFBYGCQMFFMagTBAoC\n",
       "BYGCN4pBnSBQECj49BwsKAgUBAoCBU/zQZ0gUBAojEY7dYJAQaAgUPA0HywoCBQECgIFn32COkGg\n",
       "IFDwRjGoEwQKAgWBwhxP8ysLCgIFgYKH1aBOECgIFAQKnuaDOkGgIFDwsBosKAgUBAoCBRfFoE4Q\n",
       "KAgU/MsswYKCQEGgIFCY46K4UicIFAQKHlaDOkGgIFAQKPiLw2BBQaAgUPC/pgjqBIGCQEGg4Gk+\n",
       "qBMECgIFv1EMFhQECgIFgYKLYlAnCBQECi6KwYKCQEGgIFBwUQzqBIGCQMGn56BOECgIFAQKfqMY\n",
       "LCgIFAQK/qAuqBMECgIFgYKLYrCgIFAQKLgoBnWCQEGgIFBwUQwWFAQKAgUXxaBOECgIFAQKfqMY\n",
       "1AkCBYHCHP/D7ZUFBYGCQEGg4KIY1AkCBYGCv3oOFhQECgIFgYLPPkGdIFAQKPj5S7CgIFAQKAgU\n",
       "XBSDOkGgIFBwUQwWFAQKAgWBgotiUCcIFAQKPj0HCwoCBYGCQMFvFIM6QaAgUHBRDBYUBAoCBYGC\n",
       "QzpYUBAoCBR81QjqBIGCQEGg4PdBwYKCQEGg4KIY1AkCBYGCQMEbxWBBQaAgUPDzl6BOECgIFAQK\n",
       "LorBgoJAQaAgUHBIBwsKAgWBgs8+QZ0gUBAoCBT8PihYUBAoCBRcFIM6QaAgUBAoeKMYLCgIFAQK\n",
       "zqBgQUGgIFAQKHiaD+oEgYJAwUUxWFAQKAgUBAo+PQcLCgIFgYKH1aBOECgIFAQKnuaDBQWBgkBh\n",
       "zuMM2lhQECgIFAQKLorBgoJAQaDgjWJQJwgUBAoCBRfFYEFBoCBQcAYFCwoCBYGCQMEhHSwoCBQE\n",
       "Cv5VhKBOECgIFAQKLorBgoJAQaDgDAoWFAQKAgWBgkM6WFAQKAgUnEHBgoJAQaAgUJjzaLRRJwgU\n",
       "BAouisGCgkBBoCBQcEgHCwoCBYGCMyhYUBAoCBQECg7pYEFBoCBQcAYFCwoCBYGCQMEhHSwoCBQE\n",
       "CvP6H26vLCgIFAQKAgUXxWBBQaAgUHAGBQsKAgWBgkDBIR0sKAgUBArOoGBBQaAgUBAoOKSDBQWB\n",
       "gkDBGRQsKAgUBAoChTl+H7SyoCBQECi4KAYLCgIFgYJAYV6H9MqCgkBBoOCiGCwoCBQECgIFh3Sw\n",
       "oCBQECj4qhEsKAgUBAoChTnO6JUFBYGCQEGg4Gk+WFAQKAgUfHoOFhQECgIFgYKLYrCgIFAQKIxE\n",
       "O3mCQEGgIFBwUQwWFAQKAgVnULCgIFAQKAgU/D4oWFAQKAgUfHoOFhQECgIFgYK/9gkWFAQKAgUP\n",
       "q8GCgkBBoCBQ8NknWFAQKAgUXBSDBQWBgkBBoOCzT7CgIFAQKPiqESwoCBQECgIFT/PBgoJAQaDg\n",
       "DAoWFAQKAgWBgk/PwYKCQEGg4KIYLCgIFAQKAoV5ffZZWVAQKAgUXBSDBQWBgkBBoOCQDhYUBAoC\n",
       "BV81ggUFgYJAQaDgohgsKAgUBAr+ZZYgTxAoCBQECp7mgwUFgYJAwcNqsKAgUBAoCBQc0sGCgkBB\n",
       "oOAMChYUBAoCBYGCQzpYUBAoCBR8eg7yBIGCQEGg4NNzsKAgUBAoeFgNFhQECgIFgYJDOlhQECgI\n",
       "FJxBwYKCQEGgIFAYLxR3FhQECgIFF8VgQUGgIFAQKPh9UJAnCBQECi6KwYKCQEGgIFDwRjFYUBAo\n",
       "CBRcFIMFBYGCQEGg4JAOFhQECgIFD6vBgoJAQaAgUHBRDBYUBAoCBYGCm3SwoCBQECi4KAYLCgIF\n",
       "gYJAwUUxWFAQKAgU/DFLkCcIFAQKAgUXxWBBQaAgUHAGBQsKAgWBgkDBZ59gQUGgIFCYe99P/zd8\n",
       "NQsKAgWBgkDB03ywoCBQECh4WA0WFAQKAgWBgotisKAgUBAoOIOCBQWBgkBBoOCQDhYUBAoCBWdQ\n",
       "sKAgUBAoCBQc0sGCgkBBoOAMChYUBAoCBYGCQzpYUBAoCBScQcGCgkBBoCBQ8BeHwYKCQEGg4KIY\n",
       "LCgIFAQKAgWHdLCgIFAQKDiDggUFgYJAQaDgkA4WFAQKAgVnULCgIFAQKAgUHNLBgoJAQaAwjqCd\n",
       "BQWBgkBBoOCiGCwoCBQECvM4g1YWFAQKAgWBgotisKAgUBAoOIOCBQWBgkBBoOCQDhYUBAoCBW8U\n",
       "gwUFgYJAQaDgohgsKAgUBArOoGBBQaAgUBAoeJoPFhQECgIFF8VgQUGgIFAQKDikgwUFgYJAYRTa\n",
       "6RMECgIFgYKLYrCgIFAQKPiqESwoCBQECgIFF8VgQUGgIFBwBgULCgIFgYJAwdN8sKAgUBAoCBTc\n",
       "pIMFBYGCQMFFMVhQECgIFAQKLorBgoJAQaDgh+RBnyBQECgIFFwUgwUFgYJAYR6H0MqCgkBBoCBQ\n",
       "cFEMFhQECgIFn56DBQWBgkBBoOCiGCwoCBQECi6KwYKCQEGgIFAYZ/TOgoJAQaDg03OwoCBQECgI\n",
       "FDzNBwsKAgWBgq8awYKCQEGgIFBwUQwWFAQKAgUXxWBBQaAgUBAozHOc0hsLCgIFgYKH1WBBQaAg\n",
       "UBAoeJoPFhQECgIFv1EMFhQECgIFgYKn+WBBQaAgUPCwGiwoCBQECgIFn56DBQWBgkDBw2qwoCBQ\n",
       "ECgIFDzNBwsKAgWBgk/PwYKCQEGgIFDwNB8sKAgUBApzXRRXFhQECgIFgcIotNMnCBQECt4oBgsK\n",
       "AgWBgkDBp+dgQUGgIFBwUQwWFAQKAgWBgk/PwYKCQEGg4KIYLCgIFAQKAgX/1nOwoCBQECi4KAYL\n",
       "CgIFgYJAwSEdLCgIFAQKfv4SLCgIFAQKAgUXxWBBQaAgUPAHdUGfIFAQKAgUXBSDBQWBgkDhD+ZD\n",
       "FskW1p/1AAAAAElFTkSuQmCC\n",
       "\" transform=\"translate(2161, 196)\"/>\n",
       "</g>\n",
       "<path clip-path=\"url(#clip910)\" d=\"M2285.18 1143.78 Q2280.21 1143.78 2277.7 1148.68 Q2275.22 1153.55 2275.22 1163.35 Q2275.22 1173.12 2277.7 1178.02 Q2280.21 1182.89 2285.18 1182.89 Q2290.18 1182.89 2292.66 1178.02 Q2295.17 1173.12 2295.17 1163.35 Q2295.17 1153.55 2292.66 1148.68 Q2290.18 1143.78 2285.18 1143.78 M2285.18 1138.68 Q2293.17 1138.68 2297.37 1145.02 Q2301.6 1151.32 2301.6 1163.35 Q2301.6 1175.35 2297.37 1181.69 Q2293.17 1187.99 2285.18 1187.99 Q2277.19 1187.99 2272.96 1181.69 Q2268.76 1175.35 2268.76 1163.35 Q2268.76 1151.32 2272.96 1145.02 Q2277.19 1138.68 2285.18 1138.68 Z\" fill=\"#000000\" fill-rule=\"nonzero\" fill-opacity=\"1\" /><path clip-path=\"url(#clip910)\" d=\"M2312.9 1178.98 L2319.62 1178.98 L2319.62 1187.06 L2312.9 1187.06 L2312.9 1178.98 Z\" fill=\"#000000\" fill-rule=\"nonzero\" fill-opacity=\"1\" /><path clip-path=\"url(#clip910)\" d=\"M2347.37 1143.78 Q2342.41 1143.78 2339.89 1148.68 Q2337.41 1153.55 2337.41 1163.35 Q2337.41 1173.12 2339.89 1178.02 Q2342.41 1182.89 2347.37 1182.89 Q2352.37 1182.89 2354.85 1178.02 Q2357.37 1173.12 2357.37 1163.35 Q2357.37 1153.55 2354.85 1148.68 Q2352.37 1143.78 2347.37 1143.78 M2347.37 1138.68 Q2355.36 1138.68 2359.56 1145.02 Q2363.8 1151.32 2363.8 1163.35 Q2363.8 1175.35 2359.56 1181.69 Q2355.36 1187.99 2347.37 1187.99 Q2339.38 1187.99 2335.15 1181.69 Q2330.95 1175.35 2330.95 1163.35 Q2330.95 1151.32 2335.15 1145.02 Q2339.38 1138.68 2347.37 1138.68 Z\" fill=\"#000000\" fill-rule=\"nonzero\" fill-opacity=\"1\" /><path clip-path=\"url(#clip910)\" d=\"M2376.21 1181.65 L2386.71 1181.65 L2386.71 1145.4 L2375.29 1147.69 L2375.29 1141.84 L2386.65 1139.54 L2393.08 1139.54 L2393.08 1181.65 L2403.58 1181.65 L2403.58 1187.06 L2376.21 1187.06 L2376.21 1181.65 Z\" fill=\"#000000\" fill-rule=\"nonzero\" fill-opacity=\"1\" /><path clip-path=\"url(#clip910)\" d=\"M2285.18 961.411 Q2280.21 961.411 2277.7 966.312 Q2275.22 971.182 2275.22 980.985 Q2275.22 990.756 2277.7 995.658 Q2280.21 1000.53 2285.18 1000.53 Q2290.18 1000.53 2292.66 995.658 Q2295.17 990.756 2295.17 980.985 Q2295.17 971.182 2292.66 966.312 Q2290.18 961.411 2285.18 961.411 M2285.18 956.318 Q2293.17 956.318 2297.37 962.652 Q2301.6 968.954 2301.6 980.985 Q2301.6 992.984 2297.37 999.318 Q2293.17 1005.62 2285.18 1005.62 Q2277.19 1005.62 2272.96 999.318 Q2268.76 992.984 2268.76 980.985 Q2268.76 968.954 2272.96 962.652 Q2277.19 956.318 2285.18 956.318 Z\" fill=\"#000000\" fill-rule=\"nonzero\" fill-opacity=\"1\" /><path clip-path=\"url(#clip910)\" d=\"M2312.9 996.613 L2319.62 996.613 L2319.62 1004.7 L2312.9 1004.7 L2312.9 996.613 Z\" fill=\"#000000\" fill-rule=\"nonzero\" fill-opacity=\"1\" /><path clip-path=\"url(#clip910)\" d=\"M2347.37 961.411 Q2342.41 961.411 2339.89 966.312 Q2337.41 971.182 2337.41 980.985 Q2337.41 990.756 2339.89 995.658 Q2342.41 1000.53 2347.37 1000.53 Q2352.37 1000.53 2354.85 995.658 Q2357.37 990.756 2357.37 980.985 Q2357.37 971.182 2354.85 966.312 Q2352.37 961.411 2347.37 961.411 M2347.37 956.318 Q2355.36 956.318 2359.56 962.652 Q2363.8 968.954 2363.8 980.985 Q2363.8 992.984 2359.56 999.318 Q2355.36 1005.62 2347.37 1005.62 Q2339.38 1005.62 2335.15 999.318 Q2330.95 992.984 2330.95 980.985 Q2330.95 968.954 2335.15 962.652 Q2339.38 956.318 2347.37 956.318 Z\" fill=\"#000000\" fill-rule=\"nonzero\" fill-opacity=\"1\" /><path clip-path=\"url(#clip910)\" d=\"M2380.63 999.286 L2403.07 999.286 L2403.07 1004.7 L2372.9 1004.7 L2372.9 999.286 Q2376.56 995.499 2382.86 989.133 Q2389.2 982.736 2390.82 980.89 Q2393.91 977.42 2395.12 975.033 Q2396.36 972.614 2396.36 970.291 Q2396.36 966.503 2393.68 964.116 Q2391.04 961.729 2386.78 961.729 Q2383.75 961.729 2380.38 962.779 Q2377.04 963.829 2373.22 965.962 L2373.22 959.469 Q2377.1 957.909 2380.47 957.114 Q2383.85 956.318 2386.65 956.318 Q2394.03 956.318 2398.43 960.01 Q2402.82 963.702 2402.82 969.877 Q2402.82 972.805 2401.7 975.447 Q2400.62 978.057 2397.73 981.622 Q2396.93 982.545 2392.66 986.969 Q2388.4 991.361 2380.63 999.286 Z\" fill=\"#000000\" fill-rule=\"nonzero\" fill-opacity=\"1\" /><path clip-path=\"url(#clip910)\" d=\"M2285.18 779.044 Q2280.21 779.044 2277.7 783.945 Q2275.22 788.815 2275.22 798.618 Q2275.22 808.39 2277.7 813.291 Q2280.21 818.161 2285.18 818.161 Q2290.18 818.161 2292.66 813.291 Q2295.17 808.39 2295.17 798.618 Q2295.17 788.815 2292.66 783.945 Q2290.18 779.044 2285.18 779.044 M2285.18 773.951 Q2293.17 773.951 2297.37 780.285 Q2301.6 786.587 2301.6 798.618 Q2301.6 810.618 2297.37 816.951 Q2293.17 823.253 2285.18 823.253 Q2277.19 823.253 2272.96 816.951 Q2268.76 810.618 2268.76 798.618 Q2268.76 786.587 2272.96 780.285 Q2277.19 773.951 2285.18 773.951 Z\" fill=\"#000000\" fill-rule=\"nonzero\" fill-opacity=\"1\" /><path clip-path=\"url(#clip910)\" d=\"M2312.9 814.246 L2319.62 814.246 L2319.62 822.33 L2312.9 822.33 L2312.9 814.246 Z\" fill=\"#000000\" fill-rule=\"nonzero\" fill-opacity=\"1\" /><path clip-path=\"url(#clip910)\" d=\"M2347.37 779.044 Q2342.41 779.044 2339.89 783.945 Q2337.41 788.815 2337.41 798.618 Q2337.41 808.39 2339.89 813.291 Q2342.41 818.161 2347.37 818.161 Q2352.37 818.161 2354.85 813.291 Q2357.37 808.39 2357.37 798.618 Q2357.37 788.815 2354.85 783.945 Q2352.37 779.044 2347.37 779.044 M2347.37 773.951 Q2355.36 773.951 2359.56 780.285 Q2363.8 786.587 2363.8 798.618 Q2363.8 810.618 2359.56 816.951 Q2355.36 823.253 2347.37 823.253 Q2339.38 823.253 2335.15 816.951 Q2330.95 810.618 2330.95 798.618 Q2330.95 786.587 2335.15 780.285 Q2339.38 773.951 2347.37 773.951 Z\" fill=\"#000000\" fill-rule=\"nonzero\" fill-opacity=\"1\" /><path clip-path=\"url(#clip910)\" d=\"M2394.57 796.708 Q2399.19 797.695 2401.77 800.814 Q2404.38 803.934 2404.38 808.517 Q2404.38 815.551 2399.54 819.402 Q2394.7 823.253 2385.79 823.253 Q2382.8 823.253 2379.61 822.649 Q2376.46 822.076 2373.09 820.898 L2373.09 814.692 Q2375.76 816.251 2378.95 817.047 Q2382.13 817.843 2385.6 817.843 Q2391.65 817.843 2394.8 815.455 Q2397.98 813.068 2397.98 808.517 Q2397.98 804.315 2395.02 801.96 Q2392.09 799.573 2386.84 799.573 L2381.3 799.573 L2381.3 794.289 L2387.09 794.289 Q2391.84 794.289 2394.35 792.412 Q2396.87 790.502 2396.87 786.937 Q2396.87 783.277 2394.26 781.335 Q2391.68 779.362 2386.84 779.362 Q2384.2 779.362 2381.17 779.935 Q2378.15 780.508 2374.52 781.717 L2374.52 775.988 Q2378.18 774.97 2381.37 774.46 Q2384.58 773.951 2387.41 773.951 Q2394.73 773.951 2399 777.293 Q2403.26 780.603 2403.26 786.269 Q2403.26 790.215 2401 792.953 Q2398.74 795.658 2394.57 796.708 Z\" fill=\"#000000\" fill-rule=\"nonzero\" fill-opacity=\"1\" /><path clip-path=\"url(#clip910)\" d=\"M2285.18 596.677 Q2280.21 596.677 2277.7 601.578 Q2275.22 606.448 2275.22 616.251 Q2275.22 626.023 2277.7 630.924 Q2280.21 635.794 2285.18 635.794 Q2290.18 635.794 2292.66 630.924 Q2295.17 626.023 2295.17 616.251 Q2295.17 606.448 2292.66 601.578 Q2290.18 596.677 2285.18 596.677 M2285.18 591.584 Q2293.17 591.584 2297.37 597.918 Q2301.6 604.22 2301.6 616.251 Q2301.6 628.251 2297.37 634.585 Q2293.17 640.887 2285.18 640.887 Q2277.19 640.887 2272.96 634.585 Q2268.76 628.251 2268.76 616.251 Q2268.76 604.22 2272.96 597.918 Q2277.19 591.584 2285.18 591.584 Z\" fill=\"#000000\" fill-rule=\"nonzero\" fill-opacity=\"1\" /><path clip-path=\"url(#clip910)\" d=\"M2312.9 631.879 L2319.62 631.879 L2319.62 639.964 L2312.9 639.964 L2312.9 631.879 Z\" fill=\"#000000\" fill-rule=\"nonzero\" fill-opacity=\"1\" /><path clip-path=\"url(#clip910)\" d=\"M2347.37 596.677 Q2342.41 596.677 2339.89 601.578 Q2337.41 606.448 2337.41 616.251 Q2337.41 626.023 2339.89 630.924 Q2342.41 635.794 2347.37 635.794 Q2352.37 635.794 2354.85 630.924 Q2357.37 626.023 2357.37 616.251 Q2357.37 606.448 2354.85 601.578 Q2352.37 596.677 2347.37 596.677 M2347.37 591.584 Q2355.36 591.584 2359.56 597.918 Q2363.8 604.22 2363.8 616.251 Q2363.8 628.251 2359.56 634.585 Q2355.36 640.887 2347.37 640.887 Q2339.38 640.887 2335.15 634.585 Q2330.95 628.251 2330.95 616.251 Q2330.95 604.22 2335.15 597.918 Q2339.38 591.584 2347.37 591.584 Z\" fill=\"#000000\" fill-rule=\"nonzero\" fill-opacity=\"1\" /><path clip-path=\"url(#clip910)\" d=\"M2392.76 598.045 L2376.53 623.413 L2392.76 623.413 L2392.76 598.045 M2391.07 592.444 L2399.16 592.444 L2399.16 623.413 L2405.94 623.413 L2405.94 628.76 L2399.16 628.76 L2399.16 639.964 L2392.76 639.964 L2392.76 628.76 L2371.31 628.76 L2371.31 622.553 L2391.07 592.444 Z\" fill=\"#000000\" fill-rule=\"nonzero\" fill-opacity=\"1\" /><path clip-path=\"url(#clip910)\" d=\"M2285.18 414.31 Q2280.21 414.31 2277.7 419.211 Q2275.22 424.081 2275.22 433.884 Q2275.22 443.656 2277.7 448.557 Q2280.21 453.427 2285.18 453.427 Q2290.18 453.427 2292.66 448.557 Q2295.17 443.656 2295.17 433.884 Q2295.17 424.081 2292.66 419.211 Q2290.18 414.31 2285.18 414.31 M2285.18 409.217 Q2293.17 409.217 2297.37 415.551 Q2301.6 421.853 2301.6 433.884 Q2301.6 445.884 2297.37 452.218 Q2293.17 458.52 2285.18 458.52 Q2277.19 458.52 2272.96 452.218 Q2268.76 445.884 2268.76 433.884 Q2268.76 421.853 2272.96 415.551 Q2277.19 409.217 2285.18 409.217 Z\" fill=\"#000000\" fill-rule=\"nonzero\" fill-opacity=\"1\" /><path clip-path=\"url(#clip910)\" d=\"M2312.9 449.512 L2319.62 449.512 L2319.62 457.597 L2312.9 457.597 L2312.9 449.512 Z\" fill=\"#000000\" fill-rule=\"nonzero\" fill-opacity=\"1\" /><path clip-path=\"url(#clip910)\" d=\"M2347.37 414.31 Q2342.41 414.31 2339.89 419.211 Q2337.41 424.081 2337.41 433.884 Q2337.41 443.656 2339.89 448.557 Q2342.41 453.427 2347.37 453.427 Q2352.37 453.427 2354.85 448.557 Q2357.37 443.656 2357.37 433.884 Q2357.37 424.081 2354.85 419.211 Q2352.37 414.31 2347.37 414.31 M2347.37 409.217 Q2355.36 409.217 2359.56 415.551 Q2363.8 421.853 2363.8 433.884 Q2363.8 445.884 2359.56 452.218 Q2355.36 458.52 2347.37 458.52 Q2339.38 458.52 2335.15 452.218 Q2330.95 445.884 2330.95 433.884 Q2330.95 421.853 2335.15 415.551 Q2339.38 409.217 2347.37 409.217 Z\" fill=\"#000000\" fill-rule=\"nonzero\" fill-opacity=\"1\" /><path clip-path=\"url(#clip910)\" d=\"M2375.16 410.077 L2400.4 410.077 L2400.4 415.488 L2381.05 415.488 L2381.05 427.137 Q2382.45 426.659 2383.85 426.437 Q2385.25 426.182 2386.65 426.182 Q2394.61 426.182 2399.25 430.542 Q2403.9 434.903 2403.9 442.351 Q2403.9 450.021 2399.13 454.286 Q2394.35 458.52 2385.66 458.52 Q2382.67 458.52 2379.55 458.01 Q2376.46 457.501 2373.15 456.483 L2373.15 450.021 Q2376.02 451.581 2379.07 452.345 Q2382.13 453.109 2385.53 453.109 Q2391.04 453.109 2394.26 450.212 Q2397.47 447.316 2397.47 442.351 Q2397.47 437.386 2394.26 434.489 Q2391.04 431.593 2385.53 431.593 Q2382.96 431.593 2380.38 432.166 Q2377.83 432.739 2375.16 433.948 L2375.16 410.077 Z\" fill=\"#000000\" fill-rule=\"nonzero\" fill-opacity=\"1\" /><path clip-path=\"url(#clip910)\" d=\"M2285.18 231.943 Q2280.21 231.943 2277.7 236.845 Q2275.22 241.714 2275.22 251.518 Q2275.22 261.289 2277.7 266.19 Q2280.21 271.06 2285.18 271.06 Q2290.18 271.06 2292.66 266.19 Q2295.17 261.289 2295.17 251.518 Q2295.17 241.714 2292.66 236.845 Q2290.18 231.943 2285.18 231.943 M2285.18 226.85 Q2293.17 226.85 2297.37 233.184 Q2301.6 239.486 2301.6 251.518 Q2301.6 263.517 2297.37 269.851 Q2293.17 276.153 2285.18 276.153 Q2277.19 276.153 2272.96 269.851 Q2268.76 263.517 2268.76 251.518 Q2268.76 239.486 2272.96 233.184 Q2277.19 226.85 2285.18 226.85 Z\" fill=\"#000000\" fill-rule=\"nonzero\" fill-opacity=\"1\" /><path clip-path=\"url(#clip910)\" d=\"M2312.9 267.145 L2319.62 267.145 L2319.62 275.23 L2312.9 275.23 L2312.9 267.145 Z\" fill=\"#000000\" fill-rule=\"nonzero\" fill-opacity=\"1\" /><path clip-path=\"url(#clip910)\" d=\"M2347.37 231.943 Q2342.41 231.943 2339.89 236.845 Q2337.41 241.714 2337.41 251.518 Q2337.41 261.289 2339.89 266.19 Q2342.41 271.06 2347.37 271.06 Q2352.37 271.06 2354.85 266.19 Q2357.37 261.289 2357.37 251.518 Q2357.37 241.714 2354.85 236.845 Q2352.37 231.943 2347.37 231.943 M2347.37 226.85 Q2355.36 226.85 2359.56 233.184 Q2363.8 239.486 2363.8 251.518 Q2363.8 263.517 2359.56 269.851 Q2355.36 276.153 2347.37 276.153 Q2339.38 276.153 2335.15 269.851 Q2330.95 263.517 2330.95 251.518 Q2330.95 239.486 2335.15 233.184 Q2339.38 226.85 2347.37 226.85 Z\" fill=\"#000000\" fill-rule=\"nonzero\" fill-opacity=\"1\" /><path clip-path=\"url(#clip910)\" d=\"M2389.64 248.908 Q2385.31 248.908 2382.77 251.868 Q2380.25 254.828 2380.25 259.984 Q2380.25 265.108 2382.77 268.1 Q2385.31 271.06 2389.64 271.06 Q2393.97 271.06 2396.48 268.1 Q2399.03 265.108 2399.03 259.984 Q2399.03 254.828 2396.48 251.868 Q2393.97 248.908 2389.64 248.908 M2402.4 228.76 L2402.4 234.617 Q2399.98 233.471 2397.5 232.866 Q2395.05 232.261 2392.63 232.261 Q2386.27 232.261 2382.89 236.558 Q2379.55 240.855 2379.07 249.544 Q2380.95 246.775 2383.78 245.311 Q2386.62 243.815 2390.02 243.815 Q2397.18 243.815 2401.32 248.176 Q2405.49 252.504 2405.49 259.984 Q2405.49 267.304 2401.16 271.729 Q2396.83 276.153 2389.64 276.153 Q2381.4 276.153 2377.04 269.851 Q2372.68 263.517 2372.68 251.518 Q2372.68 240.25 2378.02 233.566 Q2383.37 226.85 2392.38 226.85 Q2394.8 226.85 2397.25 227.328 Q2399.73 227.805 2402.4 228.76 Z\" fill=\"#000000\" fill-rule=\"nonzero\" fill-opacity=\"1\" /><polyline clip-path=\"url(#clip910)\" style=\"stroke:#000000; stroke-linecap:round; stroke-linejoin:round; stroke-width:4; stroke-opacity:1; fill:none\" points=\"2232.76,1350.66 2232.76,1168.29 2256.76,1168.29 2232.76,1168.29 2232.76,985.927 2256.76,985.927 2232.76,985.927 2232.76,803.56 2256.76,803.56 2232.76,803.56 2232.76,621.193 2256.76,621.193 2232.76,621.193 2232.76,438.826 2256.76,438.826 2232.76,438.826 2232.76,256.459 2256.76,256.459 2232.76,256.459 2232.76,195.996 \"/>\n",
       "<g clip-path=\"url(#clip910)\">\n",
       "<text style=\"fill:#008000; fill-opacity:1; font-family:Courier,Courier New,Lucida Sans Typewriter,Lucida Typewriter,monospace; font-size:74px; text-anchor:middle;\" transform=\"rotate(0, 776.236, 1285.01)\" x=\"776.236\" y=\"1285.01\">1</text>\n",
       "</g>\n",
       "<g clip-path=\"url(#clip910)\">\n",
       "<text style=\"fill:#008000; fill-opacity:1; font-family:Courier,Courier New,Lucida Sans Typewriter,Lucida Typewriter,monospace; font-size:74px; text-anchor:middle;\" transform=\"rotate(0, 776.236, 1176.08)\" x=\"776.236\" y=\"1176.08\">2</text>\n",
       "</g>\n",
       "<g clip-path=\"url(#clip910)\">\n",
       "<text style=\"fill:#008000; fill-opacity:1; font-family:Courier,Courier New,Lucida Sans Typewriter,Lucida Typewriter,monospace; font-size:74px; text-anchor:middle;\" transform=\"rotate(0, 776.236, 1067.15)\" x=\"776.236\" y=\"1067.15\">3</text>\n",
       "</g>\n",
       "<g clip-path=\"url(#clip910)\">\n",
       "<text style=\"fill:#008000; fill-opacity:1; font-family:Courier,Courier New,Lucida Sans Typewriter,Lucida Typewriter,monospace; font-size:74px; text-anchor:middle;\" transform=\"rotate(0, 776.236, 958.221)\" x=\"776.236\" y=\"958.221\">4</text>\n",
       "</g>\n",
       "<g clip-path=\"url(#clip910)\">\n",
       "<text style=\"fill:#008000; fill-opacity:1; font-family:Courier,Courier New,Lucida Sans Typewriter,Lucida Typewriter,monospace; font-size:74px; text-anchor:middle;\" transform=\"rotate(0, 776.236, 849.291)\" x=\"776.236\" y=\"849.291\">5</text>\n",
       "</g>\n",
       "<g clip-path=\"url(#clip910)\">\n",
       "<text style=\"fill:#008000; fill-opacity:1; font-family:Courier,Courier New,Lucida Sans Typewriter,Lucida Typewriter,monospace; font-size:74px; text-anchor:middle;\" transform=\"rotate(0, 776.236, 740.361)\" x=\"776.236\" y=\"740.361\">6</text>\n",
       "</g>\n",
       "<g clip-path=\"url(#clip910)\">\n",
       "<text style=\"fill:#008000; fill-opacity:1; font-family:Courier,Courier New,Lucida Sans Typewriter,Lucida Typewriter,monospace; font-size:74px; text-anchor:middle;\" transform=\"rotate(0, 776.236, 631.431)\" x=\"776.236\" y=\"631.431\">7</text>\n",
       "</g>\n",
       "<g clip-path=\"url(#clip910)\">\n",
       "<text style=\"fill:#008000; fill-opacity:1; font-family:Courier,Courier New,Lucida Sans Typewriter,Lucida Typewriter,monospace; font-size:74px; text-anchor:middle;\" transform=\"rotate(0, 776.236, 522.501)\" x=\"776.236\" y=\"522.501\">8</text>\n",
       "</g>\n",
       "<g clip-path=\"url(#clip910)\">\n",
       "<text style=\"fill:#008000; fill-opacity:1; font-family:Courier,Courier New,Lucida Sans Typewriter,Lucida Typewriter,monospace; font-size:74px; text-anchor:middle;\" transform=\"rotate(0, 776.236, 413.57)\" x=\"776.236\" y=\"413.57\">9</text>\n",
       "</g>\n",
       "<g clip-path=\"url(#clip910)\">\n",
       "<text style=\"fill:#008000; fill-opacity:1; font-family:Courier,Courier New,Lucida Sans Typewriter,Lucida Typewriter,monospace; font-size:74px; text-anchor:middle;\" transform=\"rotate(0, 776.236, 304.64)\" x=\"776.236\" y=\"304.64\">10</text>\n",
       "</g>\n",
       "<g clip-path=\"url(#clip910)\">\n",
       "<text style=\"fill:#008000; fill-opacity:1; font-family:Courier,Courier New,Lucida Sans Typewriter,Lucida Typewriter,monospace; font-size:74px; text-anchor:middle;\" transform=\"rotate(0, 885.166, 1285.01)\" x=\"885.166\" y=\"1285.01\">11</text>\n",
       "</g>\n",
       "<g clip-path=\"url(#clip910)\">\n",
       "<text style=\"fill:#008000; fill-opacity:1; font-family:Courier,Courier New,Lucida Sans Typewriter,Lucida Typewriter,monospace; font-size:74px; text-anchor:middle;\" transform=\"rotate(0, 885.166, 1176.08)\" x=\"885.166\" y=\"1176.08\">12</text>\n",
       "</g>\n",
       "<g clip-path=\"url(#clip910)\">\n",
       "<text style=\"fill:#008000; fill-opacity:1; font-family:Courier,Courier New,Lucida Sans Typewriter,Lucida Typewriter,monospace; font-size:74px; text-anchor:middle;\" transform=\"rotate(0, 885.166, 1067.15)\" x=\"885.166\" y=\"1067.15\">13</text>\n",
       "</g>\n",
       "<g clip-path=\"url(#clip910)\">\n",
       "<text style=\"fill:#008000; fill-opacity:1; font-family:Courier,Courier New,Lucida Sans Typewriter,Lucida Typewriter,monospace; font-size:74px; text-anchor:middle;\" transform=\"rotate(0, 885.166, 958.221)\" x=\"885.166\" y=\"958.221\">14</text>\n",
       "</g>\n",
       "<g clip-path=\"url(#clip910)\">\n",
       "<text style=\"fill:#008000; fill-opacity:1; font-family:Courier,Courier New,Lucida Sans Typewriter,Lucida Typewriter,monospace; font-size:74px; text-anchor:middle;\" transform=\"rotate(0, 885.166, 849.291)\" x=\"885.166\" y=\"849.291\">15</text>\n",
       "</g>\n",
       "<g clip-path=\"url(#clip910)\">\n",
       "<text style=\"fill:#008000; fill-opacity:1; font-family:Courier,Courier New,Lucida Sans Typewriter,Lucida Typewriter,monospace; font-size:74px; text-anchor:middle;\" transform=\"rotate(0, 885.166, 740.361)\" x=\"885.166\" y=\"740.361\">16</text>\n",
       "</g>\n",
       "<g clip-path=\"url(#clip910)\">\n",
       "<text style=\"fill:#008000; fill-opacity:1; font-family:Courier,Courier New,Lucida Sans Typewriter,Lucida Typewriter,monospace; font-size:74px; text-anchor:middle;\" transform=\"rotate(0, 885.166, 631.431)\" x=\"885.166\" y=\"631.431\">17</text>\n",
       "</g>\n",
       "<g clip-path=\"url(#clip910)\">\n",
       "<text style=\"fill:#008000; fill-opacity:1; font-family:Courier,Courier New,Lucida Sans Typewriter,Lucida Typewriter,monospace; font-size:74px; text-anchor:middle;\" transform=\"rotate(0, 885.166, 522.501)\" x=\"885.166\" y=\"522.501\">18</text>\n",
       "</g>\n",
       "<g clip-path=\"url(#clip910)\">\n",
       "<text style=\"fill:#008000; fill-opacity:1; font-family:Courier,Courier New,Lucida Sans Typewriter,Lucida Typewriter,monospace; font-size:74px; text-anchor:middle;\" transform=\"rotate(0, 885.166, 413.57)\" x=\"885.166\" y=\"413.57\">19</text>\n",
       "</g>\n",
       "<g clip-path=\"url(#clip910)\">\n",
       "<text style=\"fill:#008000; fill-opacity:1; font-family:Courier,Courier New,Lucida Sans Typewriter,Lucida Typewriter,monospace; font-size:74px; text-anchor:middle;\" transform=\"rotate(0, 885.166, 304.64)\" x=\"885.166\" y=\"304.64\">20</text>\n",
       "</g>\n",
       "<g clip-path=\"url(#clip910)\">\n",
       "<text style=\"fill:#008000; fill-opacity:1; font-family:Courier,Courier New,Lucida Sans Typewriter,Lucida Typewriter,monospace; font-size:74px; text-anchor:middle;\" transform=\"rotate(0, 994.096, 1285.01)\" x=\"994.096\" y=\"1285.01\">21</text>\n",
       "</g>\n",
       "<g clip-path=\"url(#clip910)\">\n",
       "<text style=\"fill:#008000; fill-opacity:1; font-family:Courier,Courier New,Lucida Sans Typewriter,Lucida Typewriter,monospace; font-size:74px; text-anchor:middle;\" transform=\"rotate(0, 994.096, 1176.08)\" x=\"994.096\" y=\"1176.08\">22</text>\n",
       "</g>\n",
       "<g clip-path=\"url(#clip910)\">\n",
       "<text style=\"fill:#008000; fill-opacity:1; font-family:Courier,Courier New,Lucida Sans Typewriter,Lucida Typewriter,monospace; font-size:74px; text-anchor:middle;\" transform=\"rotate(0, 994.096, 1067.15)\" x=\"994.096\" y=\"1067.15\">23</text>\n",
       "</g>\n",
       "<g clip-path=\"url(#clip910)\">\n",
       "<text style=\"fill:#008000; fill-opacity:1; font-family:Courier,Courier New,Lucida Sans Typewriter,Lucida Typewriter,monospace; font-size:74px; text-anchor:middle;\" transform=\"rotate(0, 994.096, 958.221)\" x=\"994.096\" y=\"958.221\">24</text>\n",
       "</g>\n",
       "<g clip-path=\"url(#clip910)\">\n",
       "<text style=\"fill:#008000; fill-opacity:1; font-family:Courier,Courier New,Lucida Sans Typewriter,Lucida Typewriter,monospace; font-size:74px; text-anchor:middle;\" transform=\"rotate(0, 994.096, 849.291)\" x=\"994.096\" y=\"849.291\">25</text>\n",
       "</g>\n",
       "<g clip-path=\"url(#clip910)\">\n",
       "<text style=\"fill:#008000; fill-opacity:1; font-family:Courier,Courier New,Lucida Sans Typewriter,Lucida Typewriter,monospace; font-size:74px; text-anchor:middle;\" transform=\"rotate(0, 994.096, 740.361)\" x=\"994.096\" y=\"740.361\">26</text>\n",
       "</g>\n",
       "<g clip-path=\"url(#clip910)\">\n",
       "<text style=\"fill:#008000; fill-opacity:1; font-family:Courier,Courier New,Lucida Sans Typewriter,Lucida Typewriter,monospace; font-size:74px; text-anchor:middle;\" transform=\"rotate(0, 994.096, 631.431)\" x=\"994.096\" y=\"631.431\">27</text>\n",
       "</g>\n",
       "<g clip-path=\"url(#clip910)\">\n",
       "<text style=\"fill:#008000; fill-opacity:1; font-family:Courier,Courier New,Lucida Sans Typewriter,Lucida Typewriter,monospace; font-size:74px; text-anchor:middle;\" transform=\"rotate(0, 994.096, 522.501)\" x=\"994.096\" y=\"522.501\">28</text>\n",
       "</g>\n",
       "<g clip-path=\"url(#clip910)\">\n",
       "<text style=\"fill:#008000; fill-opacity:1; font-family:Courier,Courier New,Lucida Sans Typewriter,Lucida Typewriter,monospace; font-size:74px; text-anchor:middle;\" transform=\"rotate(0, 994.096, 413.57)\" x=\"994.096\" y=\"413.57\">29</text>\n",
       "</g>\n",
       "<g clip-path=\"url(#clip910)\">\n",
       "<text style=\"fill:#008000; fill-opacity:1; font-family:Courier,Courier New,Lucida Sans Typewriter,Lucida Typewriter,monospace; font-size:74px; text-anchor:middle;\" transform=\"rotate(0, 994.096, 304.64)\" x=\"994.096\" y=\"304.64\">30</text>\n",
       "</g>\n",
       "<g clip-path=\"url(#clip910)\">\n",
       "<text style=\"fill:#008000; fill-opacity:1; font-family:Courier,Courier New,Lucida Sans Typewriter,Lucida Typewriter,monospace; font-size:74px; text-anchor:middle;\" transform=\"rotate(0, 1103.03, 1285.01)\" x=\"1103.03\" y=\"1285.01\">31</text>\n",
       "</g>\n",
       "<g clip-path=\"url(#clip910)\">\n",
       "<text style=\"fill:#008000; fill-opacity:1; font-family:Courier,Courier New,Lucida Sans Typewriter,Lucida Typewriter,monospace; font-size:74px; text-anchor:middle;\" transform=\"rotate(0, 1103.03, 1176.08)\" x=\"1103.03\" y=\"1176.08\">32</text>\n",
       "</g>\n",
       "<g clip-path=\"url(#clip910)\">\n",
       "<text style=\"fill:#008000; fill-opacity:1; font-family:Courier,Courier New,Lucida Sans Typewriter,Lucida Typewriter,monospace; font-size:74px; text-anchor:middle;\" transform=\"rotate(0, 1103.03, 1067.15)\" x=\"1103.03\" y=\"1067.15\">33</text>\n",
       "</g>\n",
       "<g clip-path=\"url(#clip910)\">\n",
       "<text style=\"fill:#008000; fill-opacity:1; font-family:Courier,Courier New,Lucida Sans Typewriter,Lucida Typewriter,monospace; font-size:74px; text-anchor:middle;\" transform=\"rotate(0, 1103.03, 958.221)\" x=\"1103.03\" y=\"958.221\">34</text>\n",
       "</g>\n",
       "<g clip-path=\"url(#clip910)\">\n",
       "<text style=\"fill:#008000; fill-opacity:1; font-family:Courier,Courier New,Lucida Sans Typewriter,Lucida Typewriter,monospace; font-size:74px; text-anchor:middle;\" transform=\"rotate(0, 1103.03, 849.291)\" x=\"1103.03\" y=\"849.291\">35</text>\n",
       "</g>\n",
       "<g clip-path=\"url(#clip910)\">\n",
       "<text style=\"fill:#008000; fill-opacity:1; font-family:Courier,Courier New,Lucida Sans Typewriter,Lucida Typewriter,monospace; font-size:74px; text-anchor:middle;\" transform=\"rotate(0, 1103.03, 740.361)\" x=\"1103.03\" y=\"740.361\">36</text>\n",
       "</g>\n",
       "<g clip-path=\"url(#clip910)\">\n",
       "<text style=\"fill:#008000; fill-opacity:1; font-family:Courier,Courier New,Lucida Sans Typewriter,Lucida Typewriter,monospace; font-size:74px; text-anchor:middle;\" transform=\"rotate(0, 1103.03, 631.431)\" x=\"1103.03\" y=\"631.431\">37</text>\n",
       "</g>\n",
       "<g clip-path=\"url(#clip910)\">\n",
       "<text style=\"fill:#008000; fill-opacity:1; font-family:Courier,Courier New,Lucida Sans Typewriter,Lucida Typewriter,monospace; font-size:74px; text-anchor:middle;\" transform=\"rotate(0, 1103.03, 522.501)\" x=\"1103.03\" y=\"522.501\">38</text>\n",
       "</g>\n",
       "<g clip-path=\"url(#clip910)\">\n",
       "<text style=\"fill:#008000; fill-opacity:1; font-family:Courier,Courier New,Lucida Sans Typewriter,Lucida Typewriter,monospace; font-size:74px; text-anchor:middle;\" transform=\"rotate(0, 1103.03, 413.57)\" x=\"1103.03\" y=\"413.57\">39</text>\n",
       "</g>\n",
       "<g clip-path=\"url(#clip910)\">\n",
       "<text style=\"fill:#008000; fill-opacity:1; font-family:Courier,Courier New,Lucida Sans Typewriter,Lucida Typewriter,monospace; font-size:74px; text-anchor:middle;\" transform=\"rotate(0, 1103.03, 304.64)\" x=\"1103.03\" y=\"304.64\">40</text>\n",
       "</g>\n",
       "<g clip-path=\"url(#clip910)\">\n",
       "<text style=\"fill:#008000; fill-opacity:1; font-family:Courier,Courier New,Lucida Sans Typewriter,Lucida Typewriter,monospace; font-size:74px; text-anchor:middle;\" transform=\"rotate(0, 1211.96, 1285.01)\" x=\"1211.96\" y=\"1285.01\">41</text>\n",
       "</g>\n",
       "<g clip-path=\"url(#clip910)\">\n",
       "<text style=\"fill:#008000; fill-opacity:1; font-family:Courier,Courier New,Lucida Sans Typewriter,Lucida Typewriter,monospace; font-size:74px; text-anchor:middle;\" transform=\"rotate(0, 1211.96, 1176.08)\" x=\"1211.96\" y=\"1176.08\">42</text>\n",
       "</g>\n",
       "<g clip-path=\"url(#clip910)\">\n",
       "<text style=\"fill:#008000; fill-opacity:1; font-family:Courier,Courier New,Lucida Sans Typewriter,Lucida Typewriter,monospace; font-size:74px; text-anchor:middle;\" transform=\"rotate(0, 1211.96, 1067.15)\" x=\"1211.96\" y=\"1067.15\">43</text>\n",
       "</g>\n",
       "<g clip-path=\"url(#clip910)\">\n",
       "<text style=\"fill:#008000; fill-opacity:1; font-family:Courier,Courier New,Lucida Sans Typewriter,Lucida Typewriter,monospace; font-size:74px; text-anchor:middle;\" transform=\"rotate(0, 1211.96, 958.221)\" x=\"1211.96\" y=\"958.221\">44</text>\n",
       "</g>\n",
       "<g clip-path=\"url(#clip910)\">\n",
       "<text style=\"fill:#008000; fill-opacity:1; font-family:Courier,Courier New,Lucida Sans Typewriter,Lucida Typewriter,monospace; font-size:74px; text-anchor:middle;\" transform=\"rotate(0, 1211.96, 849.291)\" x=\"1211.96\" y=\"849.291\">45</text>\n",
       "</g>\n",
       "<g clip-path=\"url(#clip910)\">\n",
       "<text style=\"fill:#008000; fill-opacity:1; font-family:Courier,Courier New,Lucida Sans Typewriter,Lucida Typewriter,monospace; font-size:74px; text-anchor:middle;\" transform=\"rotate(0, 1211.96, 740.361)\" x=\"1211.96\" y=\"740.361\">46</text>\n",
       "</g>\n",
       "<g clip-path=\"url(#clip910)\">\n",
       "<text style=\"fill:#008000; fill-opacity:1; font-family:Courier,Courier New,Lucida Sans Typewriter,Lucida Typewriter,monospace; font-size:74px; text-anchor:middle;\" transform=\"rotate(0, 1211.96, 631.431)\" x=\"1211.96\" y=\"631.431\">47</text>\n",
       "</g>\n",
       "<g clip-path=\"url(#clip910)\">\n",
       "<text style=\"fill:#008000; fill-opacity:1; font-family:Courier,Courier New,Lucida Sans Typewriter,Lucida Typewriter,monospace; font-size:74px; text-anchor:middle;\" transform=\"rotate(0, 1211.96, 522.501)\" x=\"1211.96\" y=\"522.501\">48</text>\n",
       "</g>\n",
       "<g clip-path=\"url(#clip910)\">\n",
       "<text style=\"fill:#008000; fill-opacity:1; font-family:Courier,Courier New,Lucida Sans Typewriter,Lucida Typewriter,monospace; font-size:74px; text-anchor:middle;\" transform=\"rotate(0, 1211.96, 413.57)\" x=\"1211.96\" y=\"413.57\">49</text>\n",
       "</g>\n",
       "<g clip-path=\"url(#clip910)\">\n",
       "<text style=\"fill:#008000; fill-opacity:1; font-family:Courier,Courier New,Lucida Sans Typewriter,Lucida Typewriter,monospace; font-size:74px; text-anchor:middle;\" transform=\"rotate(0, 1211.96, 304.64)\" x=\"1211.96\" y=\"304.64\">50</text>\n",
       "</g>\n",
       "<g clip-path=\"url(#clip910)\">\n",
       "<text style=\"fill:#008000; fill-opacity:1; font-family:Courier,Courier New,Lucida Sans Typewriter,Lucida Typewriter,monospace; font-size:74px; text-anchor:middle;\" transform=\"rotate(0, 1320.89, 1285.01)\" x=\"1320.89\" y=\"1285.01\">51</text>\n",
       "</g>\n",
       "<g clip-path=\"url(#clip910)\">\n",
       "<text style=\"fill:#008000; fill-opacity:1; font-family:Courier,Courier New,Lucida Sans Typewriter,Lucida Typewriter,monospace; font-size:74px; text-anchor:middle;\" transform=\"rotate(0, 1320.89, 1176.08)\" x=\"1320.89\" y=\"1176.08\">52</text>\n",
       "</g>\n",
       "<g clip-path=\"url(#clip910)\">\n",
       "<text style=\"fill:#008000; fill-opacity:1; font-family:Courier,Courier New,Lucida Sans Typewriter,Lucida Typewriter,monospace; font-size:74px; text-anchor:middle;\" transform=\"rotate(0, 1320.89, 1067.15)\" x=\"1320.89\" y=\"1067.15\">53</text>\n",
       "</g>\n",
       "<g clip-path=\"url(#clip910)\">\n",
       "<text style=\"fill:#008000; fill-opacity:1; font-family:Courier,Courier New,Lucida Sans Typewriter,Lucida Typewriter,monospace; font-size:74px; text-anchor:middle;\" transform=\"rotate(0, 1320.89, 958.221)\" x=\"1320.89\" y=\"958.221\">54</text>\n",
       "</g>\n",
       "<g clip-path=\"url(#clip910)\">\n",
       "<text style=\"fill:#008000; fill-opacity:1; font-family:Courier,Courier New,Lucida Sans Typewriter,Lucida Typewriter,monospace; font-size:74px; text-anchor:middle;\" transform=\"rotate(0, 1320.89, 849.291)\" x=\"1320.89\" y=\"849.291\">55</text>\n",
       "</g>\n",
       "<g clip-path=\"url(#clip910)\">\n",
       "<text style=\"fill:#008000; fill-opacity:1; font-family:Courier,Courier New,Lucida Sans Typewriter,Lucida Typewriter,monospace; font-size:74px; text-anchor:middle;\" transform=\"rotate(0, 1320.89, 740.361)\" x=\"1320.89\" y=\"740.361\">56</text>\n",
       "</g>\n",
       "<g clip-path=\"url(#clip910)\">\n",
       "<text style=\"fill:#008000; fill-opacity:1; font-family:Courier,Courier New,Lucida Sans Typewriter,Lucida Typewriter,monospace; font-size:74px; text-anchor:middle;\" transform=\"rotate(0, 1320.89, 631.431)\" x=\"1320.89\" y=\"631.431\">57</text>\n",
       "</g>\n",
       "<g clip-path=\"url(#clip910)\">\n",
       "<text style=\"fill:#008000; fill-opacity:1; font-family:Courier,Courier New,Lucida Sans Typewriter,Lucida Typewriter,monospace; font-size:74px; text-anchor:middle;\" transform=\"rotate(0, 1320.89, 522.501)\" x=\"1320.89\" y=\"522.501\">58</text>\n",
       "</g>\n",
       "<g clip-path=\"url(#clip910)\">\n",
       "<text style=\"fill:#008000; fill-opacity:1; font-family:Courier,Courier New,Lucida Sans Typewriter,Lucida Typewriter,monospace; font-size:74px; text-anchor:middle;\" transform=\"rotate(0, 1320.89, 413.57)\" x=\"1320.89\" y=\"413.57\">59</text>\n",
       "</g>\n",
       "<g clip-path=\"url(#clip910)\">\n",
       "<text style=\"fill:#008000; fill-opacity:1; font-family:Courier,Courier New,Lucida Sans Typewriter,Lucida Typewriter,monospace; font-size:74px; text-anchor:middle;\" transform=\"rotate(0, 1320.89, 304.64)\" x=\"1320.89\" y=\"304.64\">60</text>\n",
       "</g>\n",
       "<g clip-path=\"url(#clip910)\">\n",
       "<text style=\"fill:#008000; fill-opacity:1; font-family:Courier,Courier New,Lucida Sans Typewriter,Lucida Typewriter,monospace; font-size:74px; text-anchor:middle;\" transform=\"rotate(0, 1429.82, 1285.01)\" x=\"1429.82\" y=\"1285.01\">61</text>\n",
       "</g>\n",
       "<g clip-path=\"url(#clip910)\">\n",
       "<text style=\"fill:#008000; fill-opacity:1; font-family:Courier,Courier New,Lucida Sans Typewriter,Lucida Typewriter,monospace; font-size:74px; text-anchor:middle;\" transform=\"rotate(0, 1429.82, 1176.08)\" x=\"1429.82\" y=\"1176.08\">62</text>\n",
       "</g>\n",
       "<g clip-path=\"url(#clip910)\">\n",
       "<text style=\"fill:#008000; fill-opacity:1; font-family:Courier,Courier New,Lucida Sans Typewriter,Lucida Typewriter,monospace; font-size:74px; text-anchor:middle;\" transform=\"rotate(0, 1429.82, 1067.15)\" x=\"1429.82\" y=\"1067.15\">63</text>\n",
       "</g>\n",
       "<g clip-path=\"url(#clip910)\">\n",
       "<text style=\"fill:#008000; fill-opacity:1; font-family:Courier,Courier New,Lucida Sans Typewriter,Lucida Typewriter,monospace; font-size:74px; text-anchor:middle;\" transform=\"rotate(0, 1429.82, 958.221)\" x=\"1429.82\" y=\"958.221\">64</text>\n",
       "</g>\n",
       "<g clip-path=\"url(#clip910)\">\n",
       "<text style=\"fill:#008000; fill-opacity:1; font-family:Courier,Courier New,Lucida Sans Typewriter,Lucida Typewriter,monospace; font-size:74px; text-anchor:middle;\" transform=\"rotate(0, 1429.82, 849.291)\" x=\"1429.82\" y=\"849.291\">65</text>\n",
       "</g>\n",
       "<g clip-path=\"url(#clip910)\">\n",
       "<text style=\"fill:#008000; fill-opacity:1; font-family:Courier,Courier New,Lucida Sans Typewriter,Lucida Typewriter,monospace; font-size:74px; text-anchor:middle;\" transform=\"rotate(0, 1429.82, 740.361)\" x=\"1429.82\" y=\"740.361\">66</text>\n",
       "</g>\n",
       "<g clip-path=\"url(#clip910)\">\n",
       "<text style=\"fill:#008000; fill-opacity:1; font-family:Courier,Courier New,Lucida Sans Typewriter,Lucida Typewriter,monospace; font-size:74px; text-anchor:middle;\" transform=\"rotate(0, 1429.82, 631.431)\" x=\"1429.82\" y=\"631.431\">67</text>\n",
       "</g>\n",
       "<g clip-path=\"url(#clip910)\">\n",
       "<text style=\"fill:#008000; fill-opacity:1; font-family:Courier,Courier New,Lucida Sans Typewriter,Lucida Typewriter,monospace; font-size:74px; text-anchor:middle;\" transform=\"rotate(0, 1429.82, 522.501)\" x=\"1429.82\" y=\"522.501\">68</text>\n",
       "</g>\n",
       "<g clip-path=\"url(#clip910)\">\n",
       "<text style=\"fill:#008000; fill-opacity:1; font-family:Courier,Courier New,Lucida Sans Typewriter,Lucida Typewriter,monospace; font-size:74px; text-anchor:middle;\" transform=\"rotate(0, 1429.82, 413.57)\" x=\"1429.82\" y=\"413.57\">69</text>\n",
       "</g>\n",
       "<g clip-path=\"url(#clip910)\">\n",
       "<text style=\"fill:#008000; fill-opacity:1; font-family:Courier,Courier New,Lucida Sans Typewriter,Lucida Typewriter,monospace; font-size:74px; text-anchor:middle;\" transform=\"rotate(0, 1429.82, 304.64)\" x=\"1429.82\" y=\"304.64\">70</text>\n",
       "</g>\n",
       "<g clip-path=\"url(#clip910)\">\n",
       "<text style=\"fill:#008000; fill-opacity:1; font-family:Courier,Courier New,Lucida Sans Typewriter,Lucida Typewriter,monospace; font-size:74px; text-anchor:middle;\" transform=\"rotate(0, 1538.75, 1285.01)\" x=\"1538.75\" y=\"1285.01\">71</text>\n",
       "</g>\n",
       "<g clip-path=\"url(#clip910)\">\n",
       "<text style=\"fill:#008000; fill-opacity:1; font-family:Courier,Courier New,Lucida Sans Typewriter,Lucida Typewriter,monospace; font-size:74px; text-anchor:middle;\" transform=\"rotate(0, 1538.75, 1176.08)\" x=\"1538.75\" y=\"1176.08\">72</text>\n",
       "</g>\n",
       "<g clip-path=\"url(#clip910)\">\n",
       "<text style=\"fill:#008000; fill-opacity:1; font-family:Courier,Courier New,Lucida Sans Typewriter,Lucida Typewriter,monospace; font-size:74px; text-anchor:middle;\" transform=\"rotate(0, 1538.75, 1067.15)\" x=\"1538.75\" y=\"1067.15\">73</text>\n",
       "</g>\n",
       "<g clip-path=\"url(#clip910)\">\n",
       "<text style=\"fill:#008000; fill-opacity:1; font-family:Courier,Courier New,Lucida Sans Typewriter,Lucida Typewriter,monospace; font-size:74px; text-anchor:middle;\" transform=\"rotate(0, 1538.75, 958.221)\" x=\"1538.75\" y=\"958.221\">74</text>\n",
       "</g>\n",
       "<g clip-path=\"url(#clip910)\">\n",
       "<text style=\"fill:#008000; fill-opacity:1; font-family:Courier,Courier New,Lucida Sans Typewriter,Lucida Typewriter,monospace; font-size:74px; text-anchor:middle;\" transform=\"rotate(0, 1538.75, 849.291)\" x=\"1538.75\" y=\"849.291\">75</text>\n",
       "</g>\n",
       "<g clip-path=\"url(#clip910)\">\n",
       "<text style=\"fill:#008000; fill-opacity:1; font-family:Courier,Courier New,Lucida Sans Typewriter,Lucida Typewriter,monospace; font-size:74px; text-anchor:middle;\" transform=\"rotate(0, 1538.75, 740.361)\" x=\"1538.75\" y=\"740.361\">76</text>\n",
       "</g>\n",
       "<g clip-path=\"url(#clip910)\">\n",
       "<text style=\"fill:#008000; fill-opacity:1; font-family:Courier,Courier New,Lucida Sans Typewriter,Lucida Typewriter,monospace; font-size:74px; text-anchor:middle;\" transform=\"rotate(0, 1538.75, 631.431)\" x=\"1538.75\" y=\"631.431\">77</text>\n",
       "</g>\n",
       "<g clip-path=\"url(#clip910)\">\n",
       "<text style=\"fill:#008000; fill-opacity:1; font-family:Courier,Courier New,Lucida Sans Typewriter,Lucida Typewriter,monospace; font-size:74px; text-anchor:middle;\" transform=\"rotate(0, 1538.75, 522.501)\" x=\"1538.75\" y=\"522.501\">78</text>\n",
       "</g>\n",
       "<g clip-path=\"url(#clip910)\">\n",
       "<text style=\"fill:#008000; fill-opacity:1; font-family:Courier,Courier New,Lucida Sans Typewriter,Lucida Typewriter,monospace; font-size:74px; text-anchor:middle;\" transform=\"rotate(0, 1538.75, 413.57)\" x=\"1538.75\" y=\"413.57\">79</text>\n",
       "</g>\n",
       "<g clip-path=\"url(#clip910)\">\n",
       "<text style=\"fill:#008000; fill-opacity:1; font-family:Courier,Courier New,Lucida Sans Typewriter,Lucida Typewriter,monospace; font-size:74px; text-anchor:middle;\" transform=\"rotate(0, 1538.75, 304.64)\" x=\"1538.75\" y=\"304.64\">80</text>\n",
       "</g>\n",
       "</svg>\n"
      ]
     },
     "execution_count": 37,
     "metadata": {},
     "output_type": "execute_result"
    }
   ],
   "source": [
    "# Density Plot\n",
    "Plots.heatmap(reshape(get_density_profiles(NM_MB_Array_Storage, r_hubbard_states, index_eig_states), Nx, Ny)|>transpose, colormap=:dense)\n",
    "\n",
    "# koordinatları 0 yerine 1'den başlatırsak heatmap ile uyumlu olur (.+1 operasyonu)\n",
    "x_coordinates = coordinates[:,1] .+1\n",
    "y_coordinates = coordinates[:,2] .+1\n",
    "Plots.scatter!(x_coordinates, y_coordinates, label=false, aspect_ratio=1, showaxis = false, grid=false, markersize=3, c=:black, title=L\"$<n_i|\\Psi_1|n_i>$\", xlabel=L\"$x$\",ylabel=L\"$y$\")\n",
    "\n",
    "# Site Index\n",
    "for i in 1:N\n",
    "    p = annotate!(x_coordinates[i],y_coordinates[i], text(\"$i\", :Courier, 10,:green))\n",
    "end\n",
    "\n",
    "# Circle\n",
    "function circle_shape(h,k,r)\n",
    "    beta = reverse(LinRange(0, 2*pi, 500))\n",
    "    h .+ r*sin.(beta), k .+ r*cos.(beta)\n",
    "end\n",
    "\n",
    "# Bu örnekte imp_site=44 aslında 36.site'dır. Çünkü burada density en düşüktür!\n",
    "center_x = x_coordinates[36]; center_y = y_coordinates[36]; radius = 2\n",
    "plot!(circle_shape(center_x,center_y,radius), seriestype=[:shape], lw=0.5, c=:red, linecolor= :red, legend=false, fillalpha=0.2)\n",
    "\n",
    "p"
   ]
  },
  {
   "cell_type": "code",
   "execution_count": null,
   "id": "fe0f671c-e426-4fcc-9bdc-e7952c2c6b6d",
   "metadata": {
    "tags": []
   },
   "outputs": [],
   "source": [
    "# Index and Coordinates of All Sites\n",
    "idx_idx = []\n",
    "for i in 1:9 \n",
    "    for j in 1:Nx*Ny\n",
    "        push!(idx_idx, j)\n",
    "    end\n",
    "end\n",
    "\n",
    "# All_Coordinates_2, her bir Nx*Ny'lik sütun, sırasıyla bölge koordinatlarını soldan sağa ve aşağıdan yukarıya gösterir.\n",
    "# Her bir bölgede 1'den Nx*Ny'ye site indekslemesi tüm siteler için yapılır.\n",
    "All_Coordinates_2 = hcat(idx_idx,All_Coordinates)\n",
    "All_Coordinates_2"
   ]
  },
  {
   "cell_type": "code",
   "execution_count": 39,
   "id": "b8bf5e4a-9bdb-4fb1-a6a4-4574f3984e34",
   "metadata": {
    "tags": []
   },
   "outputs": [
    {
     "ename": "LoadError",
     "evalue": "UndefVarError: All_Coordinates not defined",
     "output_type": "error",
     "traceback": [
      "UndefVarError: All_Coordinates not defined",
      "",
      "Stacktrace:",
      " [1] top-level scope",
      "   @ In[39]:4"
     ]
    }
   ],
   "source": [
    "# Example of Find Equivalent Site \n",
    "XX = -4 # 4 -> coordinates (X Coordinates of Center Distrinct Site)\n",
    "YY = 19 # 9 -> coordinates (Y Coordinates of Center Distrinct Site)\n",
    "Intersect = intersect(findall(x->x==XX, All_Coordinates[:,1]), findall(x->x==YY, All_Coordinates[:,2]))\n",
    "Equivalent_Site = All_Coordinates_2[:,1][Intersect][1]"
   ]
  },
  {
   "cell_type": "code",
   "execution_count": 40,
   "id": "32aa2669-decb-4a13-a60d-5c5608f37fbd",
   "metadata": {},
   "outputs": [
    {
     "data": {
      "text/plain": [
       "10×8 OffsetArray(::Matrix{Int64}, 1:10, 1:8) with eltype Int64 with indices 1:10×1:8:\n",
       " 10  20  30  40  50  60  70  80\n",
       "  9  19  29  39  49  59  69  79\n",
       "  8  18  28  38  48  58  68  78\n",
       "  7  17  27  37  47  57  67  77\n",
       "  6  16  26  36  46  56  66  76\n",
       "  5  15  25  35  45  55  65  75\n",
       "  4  14  24  34  44  54  64  74\n",
       "  3  13  23  33  43  53  63  73\n",
       "  2  12  22  32  42  52  62  72\n",
       "  1  11  21  31  41  51  61  71"
      ]
     },
     "execution_count": 40,
     "metadata": {},
     "output_type": "execute_result"
    }
   ],
   "source": [
    "lattice"
   ]
  },
  {
   "cell_type": "code",
   "execution_count": 41,
   "id": "394d9d11-c423-4ea8-8981-2fb2209e7975",
   "metadata": {
    "tags": []
   },
   "outputs": [
    {
     "ename": "LoadError",
     "evalue": "UndefVarError: All_Coordinates not defined",
     "output_type": "error",
     "traceback": [
      "UndefVarError: All_Coordinates not defined",
      "",
      "Stacktrace:",
      " [1] Get_Site_Idx(XX::Int64, YY::Int64)",
      "   @ Main .\\In[41]:2",
      " [2] top-level scope",
      "   @ In[41]:6"
     ]
    }
   ],
   "source": [
    "function Get_Site_Idx(XX, YY)\n",
    "    Intersect = intersect(findall(x->x==XX, All_Coordinates[:,1]), findall(x->x==YY, All_Coordinates[:,2]))\n",
    "    Equivalent_Site = All_Coordinates_2[:,1][Intersect][1]\n",
    "    return Equivalent_Site\n",
    "end\n",
    "Get_Site_Idx(-8, 10)"
   ]
  },
  {
   "cell_type": "code",
   "execution_count": 42,
   "id": "5c96e64d-b161-4978-8755-f07cfe21b5ac",
   "metadata": {
    "tags": []
   },
   "outputs": [
    {
     "ename": "LoadError",
     "evalue": "UndefVarError: X_Coordinates not defined",
     "output_type": "error",
     "traceback": [
      "UndefVarError: X_Coordinates not defined",
      "",
      "Stacktrace:",
      " [1] Inner_Sites(Radius::Int64)",
      "   @ Main .\\In[42]:14",
      " [2] top-level scope",
      "   @ In[42]:25"
     ]
    }
   ],
   "source": [
    "ref_district = coordinates # Center Distrinct\n",
    "ref_site = 36 # V imp. site = 36\n",
    "\n",
    "Ref_Site_X = ref_district[:,1][ref_site]\n",
    "Ref_Site_Y = ref_district[:,2][ref_site]\n",
    "\n",
    "# Hangi siteler, ilgili yarı-çap içerisinde şartını kontrol ediyoruz\n",
    "function Inner_Sites(Radius)\n",
    "    \n",
    "    inner_sites = []\n",
    "    \n",
    "    for i in 1:Nx*Ny*9\n",
    "        \n",
    "        if (X_Coordinates[i] - Ref_Site_X)^2 + (Y_Coordinates[i] - Ref_Site_Y)^2 < (Radius+0.1)^2\n",
    "            \n",
    "            # Yarı-çap büyüdüğünde, periyodik noktalara sıçrayınca, \"Get_Site_Idx\" fonksiyonu ile eş-değer siteleri buluyoruz.\n",
    "            push!(inner_sites, Get_Site_Idx(X_Coordinates[i], Y_Coordinates[i]))\n",
    "        end\n",
    "    end\n",
    "    \n",
    "    return inner_sites\n",
    "end\n",
    "\n",
    "Radius = 2\n",
    "Inner_Sites(Radius)"
   ]
  },
  {
   "cell_type": "markdown",
   "id": "f36749ce-2959-4316-946e-ec80823247f3",
   "metadata": {},
   "source": [
    "\\begin{align*}\n",
    "&Q_{\\rho} = \\sum_i \\left(<n_i>_{V=0}-<n_i>_{V \\neq 0} \\right) \\\\\n",
    "&<n_i>_{V=0} \\approx \\text{(Magnetic flux per unit-cell)} * \\frac{N}{N_{\\Phi}-1} = \\frac{3}{70}\n",
    "\\end{align*}"
   ]
  },
  {
   "cell_type": "code",
   "execution_count": 43,
   "id": "e55c15f8-bafa-4194-bea2-85833ab39843",
   "metadata": {
    "tags": []
   },
   "outputs": [
    {
     "ename": "LoadError",
     "evalue": "UndefVarError: X_Coordinates not defined",
     "output_type": "error",
     "traceback": [
      "UndefVarError: X_Coordinates not defined",
      "",
      "Stacktrace:",
      " [1] Inner_Sites(Radius::Float64)",
      "   @ Main .\\In[42]:14",
      " [2] top-level scope",
      "   @ .\\In[43]:9"
     ]
    }
   ],
   "source": [
    "density_list = []\n",
    "density_list_2 = []\n",
    "summ_list = []\n",
    "\n",
    "for i in radius_list\n",
    "    \n",
    "    summ = 0\n",
    "\n",
    "    for j in Inner_Sites(i)\n",
    "        \n",
    "        # r içindeki her bir sitenin ortalama yoğunluğu \n",
    "        push!(density_list, collect(Iterators.flatten((3/70 .- avg_density|>transpose)))[j])\n",
    "        # Örgüde sadece bir tane quasi-parçacık boştayken gelen neredeyse ortalama yoğunluk 3/70'tir!\n",
    "        \n",
    "        # aynı yoğunluklar gelirse sadece onların birisini tut\n",
    "        density_list_2 = unique!(density_list)\n",
    "        \n",
    "        # her biri biricik ve her bir site için olan yoğunlukları topla\n",
    "        summ = sum(density_list_2)\n",
    "    end\n",
    "    \n",
    "    # Sitelerin toplam yoğunluklarını bir listede her bir yarı-çap için biriktir\n",
    "    push!(summ_list, summ)\n",
    "    println(\"Radius:\",round(i,digits=3),\"\\t\",\"Q_rho:\",summ)\n",
    "end"
   ]
  },
  {
   "cell_type": "code",
   "execution_count": 44,
   "id": "ad0befe9-e0eb-4c9d-b517-268d7ef4acca",
   "metadata": {
    "tags": []
   },
   "outputs": [
    {
     "ename": "BoundsError",
     "evalue": "BoundsError: attempt to access 0-element Vector{Float64} at index [1:19]",
     "output_type": "error",
     "traceback": [
      "BoundsError: attempt to access 0-element Vector{Float64} at index [1:19]",
      "",
      "Stacktrace:",
      "  [1] throw_boundserror(A::Vector{Float64}, I::Tuple{UnitRange{Int64}})",
      "    @ Base .\\abstractarray.jl:703",
      "  [2] checkbounds",
      "    @ .\\abstractarray.jl:668 [inlined]",
      "  [3] getindex(A::Vector{Float64}, I::UnitRange{Int64})",
      "    @ Base .\\array.jl:930",
      "  [4] gr_draw_segments(series::Plots.Series, x::Vector{Float64}, y::Vector{Float64}, z::Nothing, fillrange::Nothing, clims::Tuple{Float64, Float64})",
      "    @ Plots C:\\Users\\Can\\.julia\\packages\\Plots\\bMtsB\\src\\backends\\gr.jl:1812",
      "  [5] gr_add_series(sp::Plots.Subplot{Plots.GRBackend}, series::Plots.Series)",
      "    @ Plots C:\\Users\\Can\\.julia\\packages\\Plots\\bMtsB\\src\\backends\\gr.jl:1729",
      "  [6] gr_display(sp::Plots.Subplot{Plots.GRBackend}, w::Measures.AbsoluteLength, h::Measures.AbsoluteLength, vp_canvas::Plots.GRViewport{Float64})",
      "    @ Plots C:\\Users\\Can\\.julia\\packages\\Plots\\bMtsB\\src\\backends\\gr.jl:959",
      "  [7] (::Plots.var\"#528#529\"{Int64, Int64, Plots.GRViewport{Float64}})(sp::Plots.Subplot{Plots.GRBackend})",
      "    @ Plots C:\\Users\\Can\\.julia\\packages\\Plots\\bMtsB\\src\\backends\\gr.jl:683",
      "  [8] foreach(f::Plots.var\"#528#529\"{Int64, Int64, Plots.GRViewport{Float64}}, itr::Vector{Plots.Subplot})",
      "    @ Base .\\abstractarray.jl:2774",
      "  [9] gr_display(plt::Plots.Plot{Plots.GRBackend}, dpi_factor::Int64)",
      "    @ Plots C:\\Users\\Can\\.julia\\packages\\Plots\\bMtsB\\src\\backends\\gr.jl:683",
      " [10] #571",
      "    @ C:\\Users\\Can\\.julia\\packages\\Plots\\bMtsB\\src\\backends\\gr.jl:2039 [inlined]",
      " [11] withenv(::Plots.var\"#571#572\"{Plots.Plot{Plots.GRBackend}, Int64}, ::Pair{String, String}, ::Vararg{Pair{String, String}})",
      "    @ Base .\\env.jl:172",
      " [12] _show(io::IOBuffer, #unused#::MIME{Symbol(\"image/svg+xml\")}, plt::Plots.Plot{Plots.GRBackend})",
      "    @ Plots C:\\Users\\Can\\.julia\\packages\\Plots\\bMtsB\\src\\backends\\gr.jl:2034",
      " [13] #invokelatest#2",
      "    @ .\\essentials.jl:729 [inlined]",
      " [14] invokelatest",
      "    @ .\\essentials.jl:726 [inlined]",
      " [15] show(io::IOBuffer, m::MIME{Symbol(\"image/svg+xml\")}, plt::Plots.Plot{Plots.GRBackend})",
      "    @ Plots C:\\Users\\Can\\.julia\\packages\\Plots\\bMtsB\\src\\output.jl:232",
      " [16] sprint(::Function, ::MIME{Symbol(\"image/svg+xml\")}, ::Vararg{Any}; context::Nothing, sizehint::Int64)",
      "    @ Base .\\strings\\io.jl:114",
      " [17] sprint",
      "    @ .\\strings\\io.jl:107 [inlined]",
      " [18] _ijulia_display_dict(plt::Plots.Plot{Plots.GRBackend})",
      "    @ Plots.IJuliaExt C:\\Users\\Can\\.julia\\packages\\Plots\\bMtsB\\ext\\IJuliaExt.jl:53",
      " [19] display_dict(plt::Plots.Plot{Plots.GRBackend})",
      "    @ Plots.IJuliaExt C:\\Users\\Can\\.julia\\packages\\Plots\\bMtsB\\ext\\IJuliaExt.jl:69",
      " [20] #invokelatest#2",
      "    @ .\\essentials.jl:729 [inlined]",
      " [21] invokelatest",
      "    @ .\\essentials.jl:726 [inlined]",
      " [22] execute_request(socket::ZMQ.Socket, msg::IJulia.Msg)",
      "    @ IJulia C:\\Users\\Can\\.julia\\packages\\IJulia\\6TIq1\\src\\execute_request.jl:112",
      " [23] #invokelatest#2",
      "    @ .\\essentials.jl:729 [inlined]",
      " [24] invokelatest",
      "    @ .\\essentials.jl:726 [inlined]",
      " [25] eventloop(socket::ZMQ.Socket)",
      "    @ IJulia C:\\Users\\Can\\.julia\\packages\\IJulia\\6TIq1\\src\\eventloop.jl:8",
      " [26] (::IJulia.var\"#15#18\")()",
      "    @ IJulia .\\task.jl:484"
     ]
    }
   ],
   "source": [
    "Plots.plot(radius_list, summ_list, xlabel=L\"\\rho\", ylabel=L\"Q_{\\rho}\", title=\"Density (Charge) Depletion Profile\", guidefontsize=17,legend=false, linewidth=3, xticks=0:1:12, yticks=0:0.10:0.46, m = (5, :white, stroke(1, :blue)))\n",
    "g(x)=3/7;x=0\n",
    "Plots.plot!(g, x, length(radius_list), line=(:dot,2), xlim=(0,7))"
   ]
  },
  {
   "cell_type": "markdown",
   "id": "f41f7750-364e-46bf-924c-afd0554bb287",
   "metadata": {},
   "source": [
    "# Interpolation"
   ]
  },
  {
   "cell_type": "code",
   "execution_count": null,
   "id": "71f20b1d-0f39-4f53-9d09-46340669996b",
   "metadata": {
    "tags": []
   },
   "outputs": [],
   "source": [
    "using CairoMakie\n",
    "\n",
    "fig = Figure()\n",
    "ax = Axis(fig[1,1], title=\"Average Density (Ground Degeneracy=$(Degeneracy))\", xlabel=L\"$x$\", ylabel=L\"$y$\")\n",
    "ax.xticks = 1:2:Nx\n",
    "ax.yticks = 1:2:Ny\n",
    "\n",
    "hm = CairoMakie.heatmap!(avg_density, colormap=:acton,interpolate=true)\n",
    "Colorbar(fig[1, 2], hm)\n",
    "\n",
    "x_coordinates = square_lattice(Nx,Ny)[2][:,1] .+ 1\n",
    "y_coordinates = square_lattice(Nx,Ny)[2][:,2] .+ 1\n",
    "CairoMakie.scatter!(x_coordinates, y_coordinates, color=:black, markersize=5)\n",
    "\n",
    "center_x = x_coordinates[imp_site]; center_y = y_coordinates[imp_site]\n",
    "CairoMakie.scatter!([center_x], [center_y], color=:red, markersize=10, marker= :star5)\n",
    "\n",
    "fig"
   ]
  },
  {
   "cell_type": "code",
   "execution_count": null,
   "id": "462efcf0-5bd4-4c6b-b62c-3ac0a1541185",
   "metadata": {},
   "outputs": [],
   "source": [
    "# Alternative Interpolation\n",
    "using Plots\n",
    "using Interpolations\n",
    "\n",
    "function Interp2D(data, factor)\n",
    "    \n",
    "    IC = CubicSplineInterpolation((axes(data,1), axes(data,2)), data)\n",
    "\n",
    "    finerx = LinRange(firstindex(data,1), lastindex(data,1), size(data,1) * factor)\n",
    "    finery = LinRange(firstindex(data,2), lastindex(data,2), size(data,2) * factor)\n",
    "    nx = length(finerx)\n",
    "    ny = length(finery)\n",
    "\n",
    "    data_interp = Array{Float64}(undef,nx,ny)\n",
    "    for i ∈ 1:nx, j ∈ 1:ny\n",
    "        data_interp[i,j] = IC(finerx[i],finery[j])\n",
    "    end\n",
    "\n",
    "    return finery, finerx, data_interp\n",
    "\n",
    "end\n",
    "\n",
    "data = avg_density|>transpose\n",
    "factor = 50\n",
    "\n",
    "Plots.heatmap(Interp2D(data, factor))\n",
    "\n",
    "center_x = x_coordinates[imp_site]; center_y = y_coordinates[imp_site]\n",
    "Plots.scatter!([center_x], [center_y], color=:red, markersize=5, marker= :star5)\n",
    "\n",
    "x_coordinates = square_lattice(Nx,Ny)[2][:,1] .+1\n",
    "y_coordinates = square_lattice(Nx,Ny)[2][:,2] .+1\n",
    "Plots.scatter!(x_coordinates, y_coordinates, color=:black, markersize=1, legend=false)"
   ]
  }
 ],
 "metadata": {
  "kernelspec": {
   "display_name": "Julia 1.8.1",
   "language": "julia",
   "name": "julia-1.8"
  },
  "language_info": {
   "file_extension": ".jl",
   "mimetype": "application/julia",
   "name": "julia",
   "version": "1.8.1"
  }
 },
 "nbformat": 4,
 "nbformat_minor": 5
}
