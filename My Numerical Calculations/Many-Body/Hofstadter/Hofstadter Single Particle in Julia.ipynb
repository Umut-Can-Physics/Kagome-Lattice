{
 "cells": [
  {
   "cell_type": "code",
   "execution_count": 1,
   "id": "wired-flour",
   "metadata": {
    "tags": []
   },
   "outputs": [],
   "source": [
    "# function square_lattice(Nx,Ny)    \n",
    "#     sites = collect(1:Nx*Ny)\n",
    "#     coordinates = []\n",
    "#     for iy in 1:Ny\n",
    "#       for ix in 1:Nx\n",
    "#             push!(coordinates, (ix,iy))\n",
    "#         end\n",
    "#     end\n",
    "#     return sites, coordinates\n",
    "# end"
   ]
  },
  {
   "cell_type": "code",
   "execution_count": 2,
   "id": "banned-tonight",
   "metadata": {},
   "outputs": [],
   "source": [
    "# Nx = 3\n",
    "# Ny = 3\n",
    "# sites, coords = square_lattice(Nx,Ny)"
   ]
  },
  {
   "cell_type": "code",
   "execution_count": 3,
   "id": "religious-corporation",
   "metadata": {},
   "outputs": [],
   "source": [
    "# reshape(sites,(Nx,Ny))|>transpose"
   ]
  },
  {
   "cell_type": "code",
   "execution_count": 4,
   "id": "involved-station",
   "metadata": {},
   "outputs": [],
   "source": [
    "# coords"
   ]
  },
  {
   "cell_type": "code",
   "execution_count": 5,
   "id": "little-theology",
   "metadata": {},
   "outputs": [],
   "source": [
    "# # executeme\n",
    "\n",
    "# function get_square_site_no(coord,Nx)\n",
    "#     return coord[1]+(coord[2]-1)*Nx\n",
    "# end"
   ]
  },
  {
   "cell_type": "code",
   "execution_count": 6,
   "id": "victorian-upset",
   "metadata": {},
   "outputs": [],
   "source": [
    "# get_square_site_no(coords[1], Nx)"
   ]
  },
  {
   "cell_type": "code",
   "execution_count": 7,
   "id": "closed-hazard",
   "metadata": {},
   "outputs": [],
   "source": [
    "# function square_neighbors(sites, coords, pbc=false)\n",
    "#     Nx, Ny = coords[end]\n",
    "#     dirs = [ [1, 0], [-1,0], [0,1], [0,-1] ]\n",
    "#     neighbors=[]\n",
    "#     for site in sites\n",
    "#         neighbor=[]\n",
    "#         #println(site, coords[site])\n",
    "#         for dir in dirs\n",
    "#             neighborx = coords[site][1]+dir[1] \n",
    "#             neighbory = coords[site][2]+dir[2]\n",
    "#             #print(neighborx,' ',neighbory,' ',)\n",
    "#             if pbc==false && ( neighborx == 0 || neighborx == Nx+1 )\n",
    "#                 continue\n",
    "#             elseif pbc==false && ( neighbory == 0 || neighbory == Ny+1 )\n",
    "#                 continue\n",
    "#             else\n",
    "#                 neighborx = mod(neighborx-1,Nx)+1\n",
    "#                 neighbory = mod(neighbory-1,Ny)+1\n",
    "#                 push!(neighbor,[neighborx,neighbory])\n",
    "#                 #println(neighborx,' ',neighbory,' ',)\n",
    "#                 neighbor_site = get_square_site_no([neighborx,neighbory],Nx)\n",
    "#                 #println(neighbor_site)\n",
    "#             end\n",
    "#         end\n",
    "#         push!(neighbors,neighbor)\n",
    "#     end\n",
    "#     return neighbors\n",
    "# end"
   ]
  },
  {
   "cell_type": "code",
   "execution_count": 8,
   "id": "warming-franchise",
   "metadata": {},
   "outputs": [],
   "source": [
    "# pbc=false\n",
    "# neighbor_list=square_neighbors(sites, coords, pbc);"
   ]
  },
  {
   "cell_type": "code",
   "execution_count": 9,
   "id": "every-genealogy",
   "metadata": {},
   "outputs": [],
   "source": [
    "# for neighbor in neighbor_list[2]\n",
    "#     println(get_square_site_no(neighbor,Nx))\n",
    "# end"
   ]
  },
  {
   "cell_type": "code",
   "execution_count": 10,
   "id": "superb-prime",
   "metadata": {
    "tags": []
   },
   "outputs": [],
   "source": [
    "# function Hofstadter1(Nx, Ny, alpha, periodicity)\n",
    "    \n",
    "#     neig = neighbors(Nx, Ny, periodicity)\n",
    "#     coordinates = square_lattice(Nx, Ny)[2]\n",
    "    \n",
    "#     N = Nx*Ny\n",
    "#     t=-1\n",
    "#     H = zeros(Complex{Float64},Nx*Ny,Nx*Ny)\n",
    "    \n",
    "#     for m in 1:N\n",
    "#         for n in 1:N\n",
    "#             if m in neig[n] \n",
    "#                 if abs(coordinates[m,1]-coordinates[n,1])==Nx-1\n",
    "#                     if coordinates[m,1] > coordinates[n,1]\n",
    "#                         H[m,n] = t*exp(-1im*2*pi*alpha*coordinates[m,2])\n",
    "#                     elseif coordinates[m,1] < coordinates[n,1]\n",
    "#                         H[m,n] = t*exp(1im*2*pi*alpha*coordinates[m,2])\n",
    "#                     end\n",
    "#                 else\n",
    "#                     if coordinates[m,1] > coordinates[n,1]\n",
    "#                         H[m,n] = t*exp(1im*2*pi*alpha*coordinates[m,2])\n",
    "#                     elseif coordinates[m,1] < coordinates[n,1]\n",
    "#                         H[m,n] = t*exp(-1im*2*pi*alpha*coordinates[m,2])\n",
    "#                     else\n",
    "#                         H[m,n] = t*exp(0)\n",
    "#                     end\n",
    "#                 end\n",
    "#             else\n",
    "#                 H[m,n] = 0\n",
    "#             end\n",
    "#         end\n",
    "#     end\n",
    "    \n",
    "#     return H\n",
    "# end"
   ]
  },
  {
   "cell_type": "code",
   "execution_count": null,
   "id": "dried-racing",
   "metadata": {},
   "outputs": [],
   "source": []
  },
  {
   "cell_type": "code",
   "execution_count": null,
   "id": "suspected-colony",
   "metadata": {},
   "outputs": [],
   "source": []
  },
  {
   "cell_type": "code",
   "execution_count": null,
   "id": "hydraulic-puppy",
   "metadata": {},
   "outputs": [],
   "source": []
  },
  {
   "cell_type": "code",
   "execution_count": 8,
   "id": "mexican-static",
   "metadata": {
    "tags": []
   },
   "outputs": [],
   "source": [
    "# executeme\n",
    "\n",
    "using OffsetArrays"
   ]
  },
  {
   "cell_type": "code",
   "execution_count": 9,
   "id": "extensive-catch",
   "metadata": {
    "tags": []
   },
   "outputs": [
    {
     "data": {
      "text/plain": [
       "square_lattice (generic function with 1 method)"
      ]
     },
     "execution_count": 9,
     "metadata": {},
     "output_type": "execute_result"
    }
   ],
   "source": [
    "# executeme\n",
    "\n",
    "function square_lattice(Nx,Ny)    \n",
    "    site_idx = range(1,Nx*Ny) \n",
    "    lattice = OffsetArray(reshape(site_idx, (Nx,Ny)), 0:Nx-1, 0:Ny-1) |> transpose\n",
    "    coordinates = []\n",
    "    for y in 0:Ny-1\n",
    "        for x in 0:Nx-1\n",
    "            coordinates = [coordinates; x; y]\n",
    "        end\n",
    "    end\n",
    "    coordinates = reshape(coordinates, (2, Nx*Ny)) |> transpose\n",
    "    \n",
    "    return lattice, coordinates\n",
    "end"
   ]
  },
  {
   "cell_type": "code",
   "execution_count": 10,
   "id": "aggregate-vaccine",
   "metadata": {
    "tags": []
   },
   "outputs": [
    {
     "data": {
      "text/plain": [
       "neighbors (generic function with 1 method)"
      ]
     },
     "execution_count": 10,
     "metadata": {},
     "output_type": "execute_result"
    }
   ],
   "source": [
    "# executeme\n",
    "\n",
    "function neighbors(Nx, Ny, periodicity)\n",
    "    \n",
    "    lattice = square_lattice(Nx,Ny)[1]\n",
    "    Neighbors = []\n",
    "\n",
    "    # Periodicity On\n",
    "    if periodicity == 0\n",
    "           \n",
    "        for j in 0:Ny-1\n",
    "            for i in 0:Nx-1\n",
    "                x = [lattice[mod(j,Ny),mod(i-1,Nx)],lattice[mod(j+1,Ny),mod(i,Nx)],lattice[mod(j,Ny),mod(i+1,Nx)],lattice[mod(j-1,Ny),mod(i,Nx)]]\n",
    "                x = unique(x)\n",
    "                push!(Neighbors,x)\n",
    "            end\n",
    "            \n",
    "        end\n",
    "    # Periodicity Off (Hard-Wall)\n",
    "    elseif periodicity == 1\n",
    "        \n",
    "        for j in 0:Ny-1\n",
    "            for i in 0:Nx-1\n",
    "                if j == 0 || i == 0 || j == Ny-1 || i == Nx-1 \n",
    "                    new_neighbors = []\n",
    "                    if j != 0\n",
    "                        push!(new_neighbors, lattice[j-1,i])  \n",
    "                    end\n",
    "                    if i != 0\n",
    "                        push!(new_neighbors, lattice[j,i-1])  \n",
    "                    end\n",
    "                    if j != Ny-1\n",
    "                        push!(new_neighbors, lattice[j+1,i])  \n",
    "                    end\n",
    "                    if i != Nx-1\n",
    "                        push!(new_neighbors, lattice[j,i+1])  \n",
    "                    end\n",
    "                else\n",
    "                    new_neighbors = [\n",
    "                        lattice[j,i-1],\n",
    "                        lattice[j+1,i],\n",
    "                        lattice[j,i+1],\n",
    "                        lattice[j-1,i]\n",
    "                        ]\n",
    "                    push!(Neighbors,new_neighbors)\n",
    "                end\n",
    "            Neighbors = push!(Neighbors,new_neighbors)\n",
    "            Neighbors = unique(Neighbors)\n",
    "            end\n",
    "        end\n",
    "        \n",
    "    end\n",
    "    \n",
    "    return Neighbors\n",
    "end"
   ]
  },
  {
   "cell_type": "code",
   "execution_count": 11,
   "id": "living-thermal",
   "metadata": {
    "tags": []
   },
   "outputs": [
    {
     "data": {
      "text/plain": [
       "Hofstadter_SP (generic function with 1 method)"
      ]
     },
     "execution_count": 11,
     "metadata": {},
     "output_type": "execute_result"
    }
   ],
   "source": [
    "# executeme\n",
    "\n",
    "function Hofstadter_SP(Nx, Ny, alpha ,periodicity)\n",
    "    \n",
    "    neig = neighbors(Nx, Ny, periodicity)\n",
    "    coordinates = square_lattice(Nx, Ny)[2]\n",
    "    \n",
    "    N = Nx*Ny\n",
    "    t = -1\n",
    "    H = zeros(Complex{Float64},Nx*Ny,Nx*Ny)\n",
    "    \n",
    "    for m in 1:N\n",
    "        for n in 1:N\n",
    "            if m in neig[n] \n",
    "\n",
    "                if abs(coordinates[m,1]-coordinates[n,1])==Nx-1\n",
    "                    if coordinates[m,1] > coordinates[n,1]\n",
    "                        H[m,n] = t*exp(-1im*2*pi*alpha*coordinates[m,2])\n",
    "                    elseif coordinates[m,1] < coordinates[n,1]\n",
    "                        H[m,n] = t*exp(1im*2*pi*alpha*coordinates[m,2])\n",
    "                    end\n",
    "                    \n",
    "                elseif abs(coordinates[m,2]-coordinates[n,2])==Ny-1 #Magneto Periodic BC\n",
    "                    if coordinates[m,2] > coordinates[n,2]\n",
    "                        H[m,n] = t*exp(1im*2*pi*alpha*coordinates[m,1]*Ny)\n",
    "                    elseif coordinates[m,2] < coordinates[n,2]\n",
    "                        H[m,n] = t*exp(-1im*2*pi*alpha*coordinates[m,1]*Ny)\n",
    "                    end\n",
    "                    \n",
    "                else\n",
    "                    if coordinates[m,1] > coordinates[n,1]\n",
    "                        H[m,n] = t*exp(1im*2*pi*alpha*coordinates[m,2])\n",
    "                    elseif coordinates[m,1] < coordinates[n,1]\n",
    "                        H[m,n] = t*exp(-1im*2*pi*alpha*coordinates[m,2])\n",
    "                    else\n",
    "                        H[m,n] = t*exp(0)\n",
    "                    end\n",
    "                    \n",
    "                end\n",
    "            else\n",
    "                \n",
    "                H[m,n] = 0\n",
    "            end\n",
    "        end\n",
    "    end\n",
    "    \n",
    "    return H\n",
    "end"
   ]
  },
  {
   "cell_type": "code",
   "execution_count": null,
   "id": "1c9e963a-43c4-4990-a317-832c697ab2a8",
   "metadata": {},
   "outputs": [],
   "source": [
    "# Toplam_Plaket_Faz.pdf"
   ]
  },
  {
   "cell_type": "code",
   "execution_count": 75,
   "id": "d35d0713-4009-46d2-a366-d31836215688",
   "metadata": {},
   "outputs": [
    {
     "data": {
      "text/plain": [
       "0.5"
      ]
     },
     "execution_count": 75,
     "metadata": {},
     "output_type": "execute_result"
    }
   ],
   "source": [
    "Nx=Ny=4\n",
    "alpha = 1/2"
   ]
  },
  {
   "cell_type": "code",
   "execution_count": 76,
   "id": "c56c313e-832d-4225-bd04-9118746a1909",
   "metadata": {},
   "outputs": [
    {
     "data": {
      "text/plain": [
       "3.141592653589793"
      ]
     },
     "execution_count": 76,
     "metadata": {},
     "output_type": "execute_result"
    }
   ],
   "source": [
    "(2*pi)*alpha"
   ]
  },
  {
   "cell_type": "code",
   "execution_count": 77,
   "id": "83e05faa-b91b-4c01-9b2f-9dedf3f05bc5",
   "metadata": {},
   "outputs": [
    {
     "data": {
      "text/plain": [
       "3.1415926535897913"
      ]
     },
     "execution_count": 77,
     "metadata": {},
     "output_type": "execute_result"
    }
   ],
   "source": [
    "angle(Hofstadter_SP(Nx, Ny, alpha, 0)[13,16]*Hofstadter_SP(Nx, Ny, alpha, 0)[1,13]*Hofstadter_SP(Nx, Ny, alpha, 0)[4,1]*Hofstadter_SP(Nx, Ny, alpha, 0)[16,4])"
   ]
  },
  {
   "cell_type": "code",
   "execution_count": 78,
   "id": "76447f25-baa1-464b-a9e5-de4a56d566c6",
   "metadata": {},
   "outputs": [
    {
     "data": {
      "text/plain": [
       "-3.141592653589793"
      ]
     },
     "execution_count": 78,
     "metadata": {},
     "output_type": "execute_result"
    }
   ],
   "source": [
    "angle(Hofstadter_SP(Nx, Ny, alpha, 0)[5,8]*Hofstadter_SP(Nx, Ny, alpha, 0)[9,5]*Hofstadter_SP(Nx, Ny, alpha, 0)[12,9]*Hofstadter_SP(Nx, Ny, alpha, 0)[8,12])"
   ]
  },
  {
   "cell_type": "code",
   "execution_count": 79,
   "id": "6932efec-534b-4bce-8908-f64eeeca575b",
   "metadata": {},
   "outputs": [
    {
     "data": {
      "text/plain": [
       "-3.141592653589793"
      ]
     },
     "execution_count": 79,
     "metadata": {},
     "output_type": "execute_result"
    }
   ],
   "source": [
    "angle(Hofstadter_SP(Nx, Ny, alpha, 0)[7,6]*Hofstadter_SP(Nx, Ny, alpha, 0)[11,7]*Hofstadter_SP(Nx, Ny, alpha, 0)[10,11]*Hofstadter_SP(Nx, Ny, alpha, 0)[6,10])"
   ]
  },
  {
   "cell_type": "code",
   "execution_count": 80,
   "id": "c578a76a-b0c4-474d-bf80-52133db8bda2",
   "metadata": {},
   "outputs": [
    {
     "data": {
      "text/plain": [
       "-3.141592653589793"
      ]
     },
     "execution_count": 80,
     "metadata": {},
     "output_type": "execute_result"
    }
   ],
   "source": [
    "angle(Hofstadter_SP(Nx, Ny, alpha, 0)[15,14]*Hofstadter_SP(Nx, Ny, alpha, 0)[3,15]*Hofstadter_SP(Nx, Ny, alpha, 0)[2,3]*Hofstadter_SP(Nx, Ny, alpha, 0)[14,2])"
   ]
  },
  {
   "cell_type": "code",
   "execution_count": null,
   "id": "d8ed4955-6584-4d09-885a-1e927d60125d",
   "metadata": {},
   "outputs": [],
   "source": []
  },
  {
   "cell_type": "code",
   "execution_count": 62,
   "id": "228a3e14-f1f6-4738-abe6-aa524f07ad20",
   "metadata": {},
   "outputs": [
    {
     "data": {
      "text/plain": [
       "0.900968867902419 - 0.43388373911755823im"
      ]
     },
     "execution_count": 62,
     "metadata": {},
     "output_type": "execute_result"
    }
   ],
   "source": [
    "Hofstadter_SP(Nx, Ny, alpha, 0)[13,16]"
   ]
  },
  {
   "cell_type": "code",
   "execution_count": 61,
   "id": "9d77a218-30ff-4a3d-b14e-34f94e1bcac6",
   "metadata": {},
   "outputs": [
    {
     "data": {
      "text/plain": [
       "5.385587406153931"
      ]
     },
     "execution_count": 61,
     "metadata": {},
     "output_type": "execute_result"
    }
   ],
   "source": [
    "mod(2*pi*alpha*(1-Ny*Nx),2*pi)"
   ]
  },
  {
   "cell_type": "code",
   "execution_count": 53,
   "id": "d51a26fc-bf79-42e2-8f26-14973a7fd59e",
   "metadata": {},
   "outputs": [
    {
     "data": {
      "text/plain": [
       "-1.2566370614359175"
      ]
     },
     "execution_count": 53,
     "metadata": {},
     "output_type": "execute_result"
    }
   ],
   "source": [
    "angle(Hofstadter_SP(3, 3, 1/5, 0)[8,7])+angle(Hofstadter_SP(3, 3, 1/5, 0)[2,8])+angle(Hofstadter_SP(3, 3, 1/5, 0)[1,2])+angle(Hofstadter_SP(3, 3, 1/5, 0)[7,1])"
   ]
  },
  {
   "cell_type": "code",
   "execution_count": 56,
   "id": "bef686a1-a228-45ae-8f55-61325901f8d0",
   "metadata": {},
   "outputs": [
    {
     "data": {
      "text/plain": [
       "5.026548245743669"
      ]
     },
     "execution_count": 56,
     "metadata": {},
     "output_type": "execute_result"
    }
   ],
   "source": [
    "angle(Hofstadter_SP(3, 3, 1/5, 0)[2,1])+angle(Hofstadter_SP(3, 3, 1/5, 0)[5,2])+angle(Hofstadter_SP(3, 3, 1/5, 0)[4,5])+angle(Hofstadter_SP(3, 3, 1/5, 0)[1,4])"
   ]
  },
  {
   "cell_type": "code",
   "execution_count": 58,
   "id": "22630729-c10f-4fc3-bd92-497da28c720a",
   "metadata": {},
   "outputs": [
    {
     "data": {
      "text/plain": [
       "-1.2566370614359172"
      ]
     },
     "execution_count": 58,
     "metadata": {},
     "output_type": "execute_result"
    }
   ],
   "source": [
    "5.026548245743669 - 2*pi"
   ]
  }
 ],
 "metadata": {
  "kernelspec": {
   "display_name": "Julia 1.9.3",
   "language": "julia",
   "name": "julia-1.9"
  },
  "language_info": {
   "file_extension": ".jl",
   "mimetype": "application/julia",
   "name": "julia",
   "version": "1.9.3"
  }
 },
 "nbformat": 4,
 "nbformat_minor": 5
}
