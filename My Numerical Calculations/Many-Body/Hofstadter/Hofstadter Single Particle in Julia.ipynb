{
 "cells": [
  {
   "cell_type": "code",
   "execution_count": 84,
   "id": "d6c5f247-9de4-490d-9fa6-2965bf267dda",
   "metadata": {
    "tags": []
   },
   "outputs": [
    {
     "data": {
      "text/plain": [
       "Square_Lattice (generic function with 1 method)"
      ]
     },
     "execution_count": 84,
     "metadata": {},
     "output_type": "execute_result"
    }
   ],
   "source": [
    "using OffsetArrays\n",
    "    \n",
    "function Square_Lattice(Nx,Ny)\n",
    "\n",
    "    lat = range(1,Nx*Ny)\n",
    "    latt = reshape(lat, (Nx,Ny))\n",
    "    lattice = OffsetArray(latt, 0:Nx-1, 0:Ny-1)\n",
    "\n",
    "    x_co = range(0, Nx-1) \n",
    "    y_co = range(0, Ny-1)\n",
    "\n",
    "    arr = []\n",
    "    for i in 1:length(x_co)\n",
    "        for j in 1:length(y_co)\n",
    "            arr = [arr;x_co[i];y_co[j]]\n",
    "        end\n",
    "    end\n",
    "\n",
    "    coordinates = reshape(arr, (2,Nx*Ny)) |> transpose\n",
    "\n",
    "    return lattice, coordinates\n",
    "end"
   ]
  },
  {
   "cell_type": "code",
   "execution_count": 85,
   "id": "10a1c9f8-50f0-41ba-9ee2-fecc820d62fb",
   "metadata": {
    "tags": []
   },
   "outputs": [
    {
     "data": {
      "text/plain": [
       "Neighbors (generic function with 1 method)"
      ]
     },
     "execution_count": 85,
     "metadata": {},
     "output_type": "execute_result"
    }
   ],
   "source": [
    "function Neighbors(Nx, Ny, periodicity)\n",
    "    \n",
    "square_lattice = Square_Lattice(Nx,Ny)[1]\n",
    "neighbors = []\n",
    "    \n",
    "if periodicity == 0\n",
    "        \n",
    "    for i in 0:Nx-1\n",
    "        for j in 0:Ny-1\n",
    "            x = [square_lattice[mod(j,Ny),mod(i-1,Nx)],square_lattice[mod(j+1,Ny),mod(i,Nx)],square_lattice[mod(j,Ny),mod(i+1,Nx)],square_lattice[mod(j-1,Ny),mod(i,Nx)]]\n",
    "            push!(neighbors,x)\n",
    "        end\n",
    "    end\n",
    "    \n",
    "elseif periodicity == 1\n",
    "    \n",
    "    println(\"Hard-wall periodicity isn't already!\")\n",
    "    \n",
    "end\n",
    "\n",
    "# elseif periodicity == 1\n",
    "    \n",
    "#     for i in 0:Nx-1\n",
    "#         for j in 0:Ny-1\n",
    "                \n",
    "#             if i == 0 || i == Nx-1 || j == 0 || j == Ny-1\n",
    "                    \n",
    "#                 if i != 0\n",
    "#                     push!(neighbors,square_lattice[i - 1,j])  \n",
    "#                 end\n",
    "                    \n",
    "#                 if j != Ny-1\n",
    "#                     vcat(neighbors,[square_lattice[i,j + 1]]) \n",
    "#                 end\n",
    "                    \n",
    "#                 if i != Nx-1\n",
    "#                     vcat(neighbors,[square_lattice[i + 1,j]])  \n",
    "#                 end\n",
    "                    \n",
    "#                 if j != 0\n",
    "#                     vcat(neighbors,[square_lattice[i,j - 1]])\n",
    "#                 end\n",
    "                    \n",
    "#             else\n",
    "#                 x = [\n",
    "#                     square_lattice[j,i-1],\n",
    "#                     square_lattice[j+1,i],\n",
    "#                     square_lattice[j,i+1],\n",
    "#                     square_lattice[j-1,i]\n",
    "#                     ]\n",
    "#                 push!(neighbors,x)\n",
    "#             end\n",
    "                \n",
    "#         end\n",
    "#     end\n",
    "# end\n",
    "    \n",
    "    return neighbors\n",
    "end"
   ]
  },
  {
   "cell_type": "code",
   "execution_count": 86,
   "id": "be5d6527",
   "metadata": {
    "tags": []
   },
   "outputs": [
    {
     "data": {
      "text/plain": [
       "Hofstadter_SP (generic function with 1 method)"
      ]
     },
     "execution_count": 86,
     "metadata": {},
     "output_type": "execute_result"
    }
   ],
   "source": [
    "function Hofstadter_SP(Nx, Ny, alpha, periodicity)\n",
    "    \n",
    "    neighbors = Neighbors(Nx, Ny, periodicity)\n",
    "    coordinates = Square_Lattice(Nx, Ny)[2]\n",
    "    \n",
    "    N = Nx*Ny\n",
    "    t=-1\n",
    "    H = zeros(Complex{Float64},Nx*Ny,Nx*Ny)\n",
    "    \n",
    "    for m in 1:N\n",
    "        for n in 1:N\n",
    "            if m in neighbors[n] \n",
    "                if abs(coordinates[m,1]-coordinates[n,1])==Nx-1\n",
    "                    if coordinates[m,1] > coordinates[n,1]\n",
    "                        H[m,n] = t*exp(-1im*2*pi*alpha*coordinates[m,2])\n",
    "                    elseif coordinates[m,1] < coordinates[n,1]\n",
    "                        H[m,n] = t*exp(1im*2*pi*alpha*coordinates[m,2])\n",
    "                    end\n",
    "                else\n",
    "                    if coordinates[m,1] > coordinates[n,1]\n",
    "                        H[m,n] = t*exp(1im*2*pi*alpha*coordinates[m,2])\n",
    "                    elseif coordinates[m,1] < coordinates[n,1]\n",
    "                        H[m,n] = t*exp(-1im*2*pi*alpha*coordinates[m,2])\n",
    "                    else\n",
    "                        H[m,n] = t*exp(0)\n",
    "                    end\n",
    "                end\n",
    "            else\n",
    "                H[m,n] = 0\n",
    "            end\n",
    "        end\n",
    "    end\n",
    "    \n",
    "    return H\n",
    "end"
   ]
  }
 ],
 "metadata": {
  "kernelspec": {
   "display_name": "Julia 1.8.1",
   "language": "julia",
   "name": "julia-1.8"
  },
  "language_info": {
   "file_extension": ".jl",
   "mimetype": "application/julia",
   "name": "julia",
   "version": "1.8.1"
  }
 },
 "nbformat": 4,
 "nbformat_minor": 5
}
