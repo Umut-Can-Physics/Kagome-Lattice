{
 "cells": [
  {
   "cell_type": "code",
   "execution_count": 1,
   "id": "wired-flour",
   "metadata": {
    "tags": []
   },
   "outputs": [
    {
     "data": {
      "text/plain": [
       "square_lattice (generic function with 1 method)"
      ]
     },
     "execution_count": 1,
     "metadata": {},
     "output_type": "execute_result"
    }
   ],
   "source": [
    "# function square_lattice(Nx,Ny)    \n",
    "#     sites = collect(1:Nx*Ny)\n",
    "#     coordinates = []\n",
    "#     for iy in 1:Ny\n",
    "#       for ix in 1:Nx\n",
    "#             push!(coordinates, (ix,iy))\n",
    "#         end\n",
    "#     end\n",
    "#     return sites, coordinates\n",
    "# end"
   ]
  },
  {
   "cell_type": "code",
   "execution_count": 2,
   "id": "banned-tonight",
   "metadata": {},
   "outputs": [
    {
     "data": {
      "text/plain": [
       "([1, 2, 3, 4, 5, 6, 7, 8, 9], Any[(1, 1), (2, 1), (3, 1), (1, 2), (2, 2), (3, 2), (1, 3), (2, 3), (3, 3)])"
      ]
     },
     "execution_count": 2,
     "metadata": {},
     "output_type": "execute_result"
    }
   ],
   "source": [
    "# Nx = 3\n",
    "# Ny = 3\n",
    "# sites, coords = square_lattice(Nx,Ny)"
   ]
  },
  {
   "cell_type": "code",
   "execution_count": 3,
   "id": "religious-corporation",
   "metadata": {},
   "outputs": [
    {
     "data": {
      "text/plain": [
       "3×3 transpose(::Matrix{Int64}) with eltype Int64:\n",
       " 1  2  3\n",
       " 4  5  6\n",
       " 7  8  9"
      ]
     },
     "execution_count": 3,
     "metadata": {},
     "output_type": "execute_result"
    }
   ],
   "source": [
    "# reshape(sites,(Nx,Ny))|>transpose"
   ]
  },
  {
   "cell_type": "code",
   "execution_count": 4,
   "id": "involved-station",
   "metadata": {},
   "outputs": [
    {
     "data": {
      "text/plain": [
       "9-element Vector{Any}:\n",
       " (1, 1)\n",
       " (2, 1)\n",
       " (3, 1)\n",
       " (1, 2)\n",
       " (2, 2)\n",
       " (3, 2)\n",
       " (1, 3)\n",
       " (2, 3)\n",
       " (3, 3)"
      ]
     },
     "execution_count": 4,
     "metadata": {},
     "output_type": "execute_result"
    }
   ],
   "source": [
    "# coords"
   ]
  },
  {
   "cell_type": "code",
   "execution_count": 5,
   "id": "little-theology",
   "metadata": {},
   "outputs": [
    {
     "data": {
      "text/plain": [
       "get_square_site_no (generic function with 1 method)"
      ]
     },
     "execution_count": 5,
     "metadata": {},
     "output_type": "execute_result"
    }
   ],
   "source": [
    "# # executeme\n",
    "\n",
    "# function get_square_site_no(coord,Nx)\n",
    "#     return coord[1]+(coord[2]-1)*Nx\n",
    "# end"
   ]
  },
  {
   "cell_type": "code",
   "execution_count": 8,
   "id": "victorian-upset",
   "metadata": {},
   "outputs": [
    {
     "data": {
      "text/plain": [
       "1"
      ]
     },
     "execution_count": 8,
     "metadata": {},
     "output_type": "execute_result"
    }
   ],
   "source": [
    "# get_square_site_no(coords[1], Nx)"
   ]
  },
  {
   "cell_type": "code",
   "execution_count": 9,
   "id": "closed-hazard",
   "metadata": {},
   "outputs": [
    {
     "data": {
      "text/plain": [
       "square_neighbors (generic function with 2 methods)"
      ]
     },
     "execution_count": 9,
     "metadata": {},
     "output_type": "execute_result"
    }
   ],
   "source": [
    "# function square_neighbors(sites, coords, pbc=false)\n",
    "#     Nx, Ny = coords[end]\n",
    "#     dirs = [ [1, 0], [-1,0], [0,1], [0,-1] ]\n",
    "#     neighbors=[]\n",
    "#     for site in sites\n",
    "#         neighbor=[]\n",
    "#         #println(site, coords[site])\n",
    "#         for dir in dirs\n",
    "#             neighborx = coords[site][1]+dir[1] \n",
    "#             neighbory = coords[site][2]+dir[2]\n",
    "#             #print(neighborx,' ',neighbory,' ',)\n",
    "#             if pbc==false && ( neighborx == 0 || neighborx == Nx+1 )\n",
    "#                 continue\n",
    "#             elseif pbc==false && ( neighbory == 0 || neighbory == Ny+1 )\n",
    "#                 continue\n",
    "#             else\n",
    "#                 neighborx = mod(neighborx-1,Nx)+1\n",
    "#                 neighbory = mod(neighbory-1,Ny)+1\n",
    "#                 push!(neighbor,[neighborx,neighbory])\n",
    "#                 #println(neighborx,' ',neighbory,' ',)\n",
    "#                 neighbor_site = get_square_site_no([neighborx,neighbory],Nx)\n",
    "#                 #println(neighbor_site)\n",
    "#             end\n",
    "#         end\n",
    "#         push!(neighbors,neighbor)\n",
    "#     end\n",
    "#     return neighbors\n",
    "# end"
   ]
  },
  {
   "cell_type": "code",
   "execution_count": 10,
   "id": "warming-franchise",
   "metadata": {},
   "outputs": [],
   "source": [
    "# pbc=false\n",
    "# neighbor_list=square_neighbors(sites, coords, pbc);"
   ]
  },
  {
   "cell_type": "code",
   "execution_count": 11,
   "id": "every-genealogy",
   "metadata": {},
   "outputs": [
    {
     "name": "stdout",
     "output_type": "stream",
     "text": [
      "3\n",
      "1\n",
      "5\n"
     ]
    }
   ],
   "source": [
    "# for neighbor in neighbor_list[2]\n",
    "#     println(get_square_site_no(neighbor,Nx))\n",
    "# end"
   ]
  },
  {
   "cell_type": "code",
   "execution_count": 12,
   "id": "superb-prime",
   "metadata": {
    "tags": []
   },
   "outputs": [
    {
     "data": {
      "text/plain": [
       "Hofstadter1 (generic function with 1 method)"
      ]
     },
     "execution_count": 12,
     "metadata": {},
     "output_type": "execute_result"
    }
   ],
   "source": [
    "# function Hofstadter1(Nx, Ny, alpha, periodicity)\n",
    "    \n",
    "#     neig = neighbors(Nx, Ny, periodicity)\n",
    "#     coordinates = square_lattice(Nx, Ny)[2]\n",
    "    \n",
    "#     N = Nx*Ny\n",
    "#     t=-1\n",
    "#     H = zeros(Complex{Float64},Nx*Ny,Nx*Ny)\n",
    "    \n",
    "#     for m in 1:N\n",
    "#         for n in 1:N\n",
    "#             if m in neig[n] \n",
    "#                 if abs(coordinates[m,1]-coordinates[n,1])==Nx-1\n",
    "#                     if coordinates[m,1] > coordinates[n,1]\n",
    "#                         H[m,n] = t*exp(-1im*2*pi*alpha*coordinates[m,2])\n",
    "#                     elseif coordinates[m,1] < coordinates[n,1]\n",
    "#                         H[m,n] = t*exp(1im*2*pi*alpha*coordinates[m,2])\n",
    "#                     end\n",
    "#                 else\n",
    "#                     if coordinates[m,1] > coordinates[n,1]\n",
    "#                         H[m,n] = t*exp(1im*2*pi*alpha*coordinates[m,2])\n",
    "#                     elseif coordinates[m,1] < coordinates[n,1]\n",
    "#                         H[m,n] = t*exp(-1im*2*pi*alpha*coordinates[m,2])\n",
    "#                     else\n",
    "#                         H[m,n] = t*exp(0)\n",
    "#                     end\n",
    "#                 end\n",
    "#             else\n",
    "#                 H[m,n] = 0\n",
    "#             end\n",
    "#         end\n",
    "#     end\n",
    "    \n",
    "#     return H\n",
    "# end"
   ]
  },
  {
   "cell_type": "code",
   "execution_count": null,
   "id": "dried-racing",
   "metadata": {},
   "outputs": [],
   "source": []
  },
  {
   "cell_type": "code",
   "execution_count": null,
   "id": "suspected-colony",
   "metadata": {},
   "outputs": [],
   "source": []
  },
  {
   "cell_type": "code",
   "execution_count": null,
   "id": "hydraulic-puppy",
   "metadata": {},
   "outputs": [],
   "source": []
  },
  {
   "cell_type": "code",
   "execution_count": 1,
   "id": "mexican-static",
   "metadata": {
    "tags": []
   },
   "outputs": [],
   "source": [
    "# executeme\n",
    "\n",
    "using OffsetArrays"
   ]
  },
  {
   "cell_type": "code",
   "execution_count": 171,
   "id": "extensive-catch",
   "metadata": {
    "tags": []
   },
   "outputs": [
    {
     "data": {
      "text/plain": [
       "square_lattice (generic function with 1 method)"
      ]
     },
     "execution_count": 171,
     "metadata": {},
     "output_type": "execute_result"
    }
   ],
   "source": [
    "# executeme\n",
    "\n",
    "function square_lattice(Nx,Ny)    \n",
    "    site_idx = range(1,Nx*Ny) \n",
    "    lattice = OffsetArray(reshape(site_idx, (Nx,Ny)), 0:Nx-1, 0:Ny-1) |> transpose\n",
    "    coordinates = []\n",
    "    for y in 0:Ny-1\n",
    "        for x in 0:Nx-1\n",
    "            coordinates = [coordinates; x; y]\n",
    "        end\n",
    "    end\n",
    "    coordinates = reshape(coordinates, (2, Nx*Ny)) |> transpose\n",
    "    \n",
    "    return lattice, coordinates\n",
    "end"
   ]
  },
  {
   "cell_type": "code",
   "execution_count": 129,
   "id": "aggregate-vaccine",
   "metadata": {
    "tags": []
   },
   "outputs": [
    {
     "data": {
      "text/plain": [
       "neighbors (generic function with 1 method)"
      ]
     },
     "execution_count": 129,
     "metadata": {},
     "output_type": "execute_result"
    }
   ],
   "source": [
    "# executeme\n",
    "\n",
    "function neighbors(Nx, Ny, periodicity)\n",
    "    \n",
    "    lattice = square_lattice(Nx,Ny)[1]\n",
    "    Neighbors = []\n",
    "\n",
    "    # Periodicity On\n",
    "    if periodicity == 0\n",
    "           \n",
    "        for j in 0:Ny-1\n",
    "            for i in 0:Nx-1\n",
    "                x = [lattice[mod(j,Ny),mod(i-1,Nx)],lattice[mod(j+1,Ny),mod(i,Nx)],lattice[mod(j,Ny),mod(i+1,Nx)],lattice[mod(j-1,Ny),mod(i,Nx)]]\n",
    "                x = unique(x)\n",
    "                push!(Neighbors,x)\n",
    "            end\n",
    "            \n",
    "        end\n",
    "    # Periodicity Off (Hard-Wall)\n",
    "    elseif periodicity == 1\n",
    "        \n",
    "        for j in 0:Ny-1\n",
    "            for i in 0:Nx-1\n",
    "                if j == 0 || i == 0 || j == Ny-1 || i == Nx-1 \n",
    "                    new_neighbors = []\n",
    "                    if j != 0\n",
    "                        push!(new_neighbors, lattice[j-1,i])  \n",
    "                    end\n",
    "                    if i != 0\n",
    "                        push!(new_neighbors, lattice[j,i-1])  \n",
    "                    end\n",
    "                    if j != Ny-1\n",
    "                        push!(new_neighbors, lattice[j+1,i])  \n",
    "                    end\n",
    "                    if i != Nx-1\n",
    "                        push!(new_neighbors, lattice[j,i+1])  \n",
    "                    end\n",
    "                else\n",
    "                    new_neighbors = [\n",
    "                        lattice[j,i-1],\n",
    "                        lattice[j+1,i],\n",
    "                        lattice[j,i+1],\n",
    "                        lattice[j-1,i]\n",
    "                        ]\n",
    "                    push!(Neighbors,new_neighbors)\n",
    "                end\n",
    "            Neighbors = push!(Neighbors,new_neighbors)\n",
    "            Neighbors = unique(Neighbors)\n",
    "            end\n",
    "        end\n",
    "        \n",
    "    end\n",
    "    \n",
    "    return Neighbors\n",
    "end"
   ]
  },
  {
   "cell_type": "code",
   "execution_count": 7,
   "id": "living-thermal",
   "metadata": {
    "tags": []
   },
   "outputs": [
    {
     "data": {
      "text/plain": [
       "Hofstadter_SP (generic function with 1 method)"
      ]
     },
     "execution_count": 7,
     "metadata": {},
     "output_type": "execute_result"
    }
   ],
   "source": [
    "# executeme\n",
    "\n",
    "function Hofstadter_SP(Nx, Ny, alpha ,periodicity)\n",
    "    \n",
    "    neig = neighbors(Nx, Ny, periodicity)\n",
    "    coordinates = square_lattice(Nx, Ny)[2]\n",
    "    \n",
    "    N = Nx*Ny\n",
    "    t=-1\n",
    "    H = zeros(Complex{Float64},Nx*Ny,Nx*Ny)\n",
    "    \n",
    "    for m in 1:N\n",
    "        for n in 1:N\n",
    "            if m in neig[n] \n",
    "                if abs(coordinates[m,1]-coordinates[n,1])==Nx-1\n",
    "                    if coordinates[m,1] > coordinates[n,1]\n",
    "                        H[m,n] = t*exp(-1im*2*pi*alpha*coordinates[m,2])\n",
    "                    elseif coordinates[m,1] < coordinates[n,1]\n",
    "                        H[m,n] = t*exp(1im*2*pi*alpha*coordinates[m,2])\n",
    "                    end\n",
    "                else\n",
    "                    if coordinates[m,1] > coordinates[n,1]\n",
    "                        H[m,n] = t*exp(1im*2*pi*alpha*coordinates[m,2])\n",
    "                    elseif coordinates[m,1] < coordinates[n,1]\n",
    "                        H[m,n] = t*exp(-1im*2*pi*alpha*coordinates[m,2])\n",
    "                    else\n",
    "                        H[m,n] = t*exp(0)\n",
    "                    end\n",
    "                end\n",
    "            else\n",
    "                H[m,n] = 0\n",
    "            end\n",
    "        end\n",
    "    end\n",
    "    \n",
    "    return H\n",
    "end"
   ]
  },
  {
   "cell_type": "code",
   "execution_count": null,
   "id": "horizontal-corporation",
   "metadata": {},
   "outputs": [],
   "source": []
  }
 ],
 "metadata": {
  "kernelspec": {
   "display_name": "Julia 1.9.3",
   "language": "julia",
   "name": "julia-1.9"
  },
  "language_info": {
   "file_extension": ".jl",
   "mimetype": "application/julia",
   "name": "julia",
   "version": "1.9.3"
  }
 },
 "nbformat": 4,
 "nbformat_minor": 5
}
