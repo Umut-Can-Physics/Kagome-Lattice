{
 "cells": [
  {
   "cell_type": "code",
   "execution_count": 2,
   "id": "d2204e34-4cb4-49bc-9030-9e88bd42c231",
   "metadata": {
    "tags": []
   },
   "outputs": [],
   "source": [
    "using OffsetArrays"
   ]
  },
  {
   "cell_type": "code",
   "execution_count": 3,
   "id": "a89ddbbc-c26d-4003-8421-878d722985eb",
   "metadata": {
    "tags": []
   },
   "outputs": [
    {
     "data": {
      "text/plain": [
       "5"
      ]
     },
     "execution_count": 3,
     "metadata": {},
     "output_type": "execute_result"
    }
   ],
   "source": [
    "Nx=5\n",
    "Ny=5"
   ]
  },
  {
   "cell_type": "code",
   "execution_count": 4,
   "id": "6d8481cd-c39b-4a04-bc94-7c208bf3d4c5",
   "metadata": {
    "tags": []
   },
   "outputs": [
    {
     "data": {
      "text/plain": [
       "square_lattice (generic function with 1 method)"
      ]
     },
     "execution_count": 4,
     "metadata": {},
     "output_type": "execute_result"
    }
   ],
   "source": [
    "function square_lattice(Nx,Ny)    \n",
    "    site_idx = range(1,Nx*Ny) \n",
    "    lattice = OffsetArray(reshape(site_idx, (Nx,Ny)), 0:Nx-1, 0:Ny-1) |> transpose\n",
    "    coordinates = []\n",
    "    for y in 0:Ny-1\n",
    "        for x in 0:Nx-1\n",
    "            coordinates = [coordinates; y; x]\n",
    "        end\n",
    "    end\n",
    "    coordinates = reshape(coordinates, (2, Nx*Ny)) |> transpose\n",
    "    \n",
    "    return lattice, coordinates\n",
    "end"
   ]
  },
  {
   "cell_type": "code",
   "execution_count": 12,
   "id": "df67a4e1-0b0c-4e26-8cd0-8f735a74dcf0",
   "metadata": {
    "tags": []
   },
   "outputs": [
    {
     "data": {
      "text/plain": [
       "neighbors (generic function with 1 method)"
      ]
     },
     "execution_count": 12,
     "metadata": {},
     "output_type": "execute_result"
    }
   ],
   "source": [
    "function neighbors(Nx, Ny, periodicity)\n",
    "    if periodicity == 0\n",
    "        lattice = square_lattice(Nx,Ny)[1]\n",
    "        Neighbors = []   \n",
    "        for j in 0:Ny-1\n",
    "            for i in 0:Nx-1\n",
    "                x = [lattice[mod(j,Ny),mod(i-1,Nx)],lattice[mod(j+1,Ny),mod(i,Nx)],lattice[mod(j,Ny),mod(i+1,Nx)],lattice[mod(j-1,Ny),mod(i,Nx)]]\n",
    "                x = unique(x)\n",
    "                push!(Neighbors,x)\n",
    "            end\n",
    "        end\n",
    "    else\n",
    "        println(\"Hard-Core B.C. isn't ready not yet!\")\n",
    "    end\n",
    "    return Neighbors\n",
    "end"
   ]
  },
  {
   "cell_type": "code",
   "execution_count": 13,
   "id": "34ddca31-7b98-4a89-becc-971876d3480d",
   "metadata": {
    "tags": []
   },
   "outputs": [],
   "source": [
    "# Hard-Core için yan yana push edemedim. Şimdlik kalsın\n",
    "# Neig = []   \n",
    "#     for j in 0:Ny-1\n",
    "#         for i in 0:Nx-1\n",
    "#             if j == 0 || i == 0 || j == Ny-1 || i == Nx-1 \n",
    "#                 if j != 0\n",
    "#                     push!(Neig, [lattice[j-1,i]])  \n",
    "#                 end\n",
    "#                 if i != 0\n",
    "#                     push!(Neig, [lattice[j,i-1]])  \n",
    "#                 end\n",
    "#                 if j != Ny-1\n",
    "#                     push!(Neig, [lattice[j+1,i]])  \n",
    "#                 end\n",
    "#                 if i != Nx-1\n",
    "#                     push!(Neig, [lattice[j,i+1]])  \n",
    "#                 end\n",
    "#             else\n",
    "#                 x = [\n",
    "#                     lattice[j,i-1],\n",
    "#                     lattice[j+1,i],\n",
    "#                     lattice[j,i+1],\n",
    "#                     lattice[j-1,i]\n",
    "#                     ]\n",
    "#                 push!(Neig,x)\n",
    "#             end\n",
    "#         end\n",
    "#     end\n",
    "# Neig"
   ]
  },
  {
   "cell_type": "code",
   "execution_count": 14,
   "id": "1b851412-76ac-4c49-9532-1451581d89f7",
   "metadata": {
    "tags": []
   },
   "outputs": [
    {
     "data": {
      "text/plain": [
       "hofstadter_sP (generic function with 1 method)"
      ]
     },
     "execution_count": 14,
     "metadata": {},
     "output_type": "execute_result"
    }
   ],
   "source": [
    "function Hofstadter_SP(Nx, Ny, alpha ,periodicity)\n",
    "    \n",
    "    neig = neighbors(Nx, Ny, 0)\n",
    "    coordinates = square_lattice(Nx, Ny)[2]\n",
    "    \n",
    "    N = Nx*Ny\n",
    "    t=-1\n",
    "    H = zeros(Complex{Float64},Nx*Ny,Nx*Ny)\n",
    "    \n",
    "    for m in 1:N\n",
    "        for n in 1:N\n",
    "            if m in neig[n] \n",
    "                if abs(coordinates[m,1]-coordinates[n,1])==Nx-1\n",
    "                    if coordinates[m,1] > coordinates[n,1]\n",
    "                        H[m,n] = t*exp(-1im*2*pi*alpha*coordinates[m,2])\n",
    "                    elseif coordinates[m,1] < coordinates[n,1]\n",
    "                        H[m,n] = t*exp(1im*2*pi*alpha*coordinates[m,2])\n",
    "                    end\n",
    "                else\n",
    "                    if coordinates[m,1] > coordinates[n,1]\n",
    "                        H[m,n] = t*exp(1im*2*pi*alpha*coordinates[m,2])\n",
    "                    elseif coordinates[m,1] < coordinates[n,1]\n",
    "                        H[m,n] = t*exp(-1im*2*pi*alpha*coordinates[m,2])\n",
    "                    else\n",
    "                        H[m,n] = t*exp(0)\n",
    "                    end\n",
    "                end\n",
    "            else\n",
    "                H[m,n] = 0\n",
    "            end\n",
    "        end\n",
    "    end\n",
    "    \n",
    "    return H\n",
    "end"
   ]
  }
 ],
 "metadata": {
  "kernelspec": {
   "display_name": "Julia 1.8.1",
   "language": "julia",
   "name": "julia-1.8"
  },
  "language_info": {
   "file_extension": ".jl",
   "mimetype": "application/julia",
   "name": "julia",
   "version": "1.8.1"
  }
 },
 "nbformat": 4,
 "nbformat_minor": 5
}
