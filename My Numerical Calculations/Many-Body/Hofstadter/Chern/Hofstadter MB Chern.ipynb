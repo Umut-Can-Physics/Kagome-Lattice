{
 "cells": [
  {
   "cell_type": "markdown",
   "id": "unexpected-pontiac",
   "metadata": {
    "editable": true,
    "slideshow": {
     "slide_type": ""
    },
    "tags": []
   },
   "source": [
    "Many-Body Chern Number without Integration\n",
    "\n",
    "Koji Kudo, Haruki Watanabe, Toshikaze Kariyado, and Yasuhiro Hatsugai\n",
    "\n",
    "Phys. Rev. Lett. 122, 146601 – Published 9 April 2019\n",
    "\n",
    "https://journals.aps.org/prl/abstract/10.1103/PhysRevLett.122.146601"
   ]
  },
  {
   "cell_type": "code",
   "execution_count": 23,
   "id": "solid-session",
   "metadata": {
    "tags": []
   },
   "outputs": [
    {
     "data": {
      "text/plain": [
       "get_Hofstadter_hamiltonian (generic function with 1 method)"
      ]
     },
     "execution_count": 23,
     "metadata": {},
     "output_type": "execute_result"
    }
   ],
   "source": [
    "using NBInclude\n",
    "@nbinclude(\"../../../Single Particle/Lattice_Basis_Neighbors_Hops.ipynb\"; regex=r\"#.*executeme\")"
   ]
  },
  {
   "cell_type": "code",
   "execution_count": 24,
   "id": "6e1830de-f222-4a4a-a618-38f4842b3bc3",
   "metadata": {
    "editable": true,
    "slideshow": {
     "slide_type": ""
    },
    "tags": []
   },
   "outputs": [],
   "source": [
    "LL = [3, 3]\n",
    "N = LL[1]*LL[2]\n",
    "vv_lattice = [ [1., 0], [0, 1.] ]\n",
    "b1=[0, 0]\n",
    "vv_basis = [b1]\n",
    "t=-1\n",
    "p=1\n",
    "q=3\n",
    "ϕ=p/q\n",
    "pbc=true\n",
    "param_dict=Dict{}()\n",
    "param_dict[\"t\"]=t\n",
    "param_dict[\"ϕ\"]=ϕ\n",
    "θθ = [0, 0]\n",
    "param_dict[\"θθ\"]=θθ\n",
    "coordinates, sites, site_coord, site_number = get_sites(LL, vv_lattice, vv_basis);\n",
    "neighbors = [ [1, 0, 1], [-1, 0, 1], [0, 1, 1], [0, -1, 1]  ];\n",
    "neighbors_list = [ neighbors ];"
   ]
  },
  {
   "cell_type": "code",
   "execution_count": 25,
   "id": "played-money",
   "metadata": {
    "tags": []
   },
   "outputs": [],
   "source": [
    "using QuantumOptics"
   ]
  },
  {
   "cell_type": "markdown",
   "id": "outer-apache",
   "metadata": {},
   "source": [
    "## Initial Parameters"
   ]
  },
  {
   "cell_type": "code",
   "execution_count": 232,
   "id": "healthy-delicious",
   "metadata": {
    "tags": []
   },
   "outputs": [],
   "source": [
    "N1 = 150\n",
    "N2 = 150\n",
    "dx=2*pi/N1\n",
    "dy=dx\n",
    "Tx=collect(range(start=0, stop=2*pi-dx, step=dx))\n",
    "Ty=collect(range(start=0, stop=2*pi-dy, step=dy));"
   ]
  },
  {
   "cell_type": "markdown",
   "id": "boxed-deviation",
   "metadata": {},
   "source": [
    "## Create Single-Particle Operator"
   ]
  },
  {
   "cell_type": "code",
   "execution_count": 233,
   "id": "victorian-floor",
   "metadata": {
    "editable": true,
    "slideshow": {
     "slide_type": ""
    },
    "tags": []
   },
   "outputs": [
    {
     "data": {
      "text/plain": [
       "Op_Sp (generic function with 2 methods)"
      ]
     },
     "execution_count": 233,
     "metadata": {},
     "output_type": "execute_result"
    }
   ],
   "source": [
    "function Op_Sp(sites,neighbors_list,\n",
    "               site_number,site_coord,\n",
    "               nb,LL,param_dict,pbc)\n",
    "\n",
    "    H_T = get_Hofstadter_hamiltonian(sites,neighbors_list,\n",
    "                                    site_number,site_coord,\n",
    "                                    nb,LL,param_dict,pbc)\n",
    "    N = LL[1]*LL[2]\n",
    "    basis = NLevelBasis(N) \n",
    "    \n",
    "    H = SparseOperator(basis)\n",
    "    \n",
    "    for m in 1:N\n",
    "        for n in 1:N\n",
    "            H = H + H_T[m,n] * transition(basis, m, n)\n",
    "        end\n",
    "    end\n",
    "    \n",
    "    return H\n",
    "end"
   ]
  },
  {
   "cell_type": "code",
   "execution_count": 234,
   "id": "94ac201f-12fd-4d4b-a9b7-589bf5c6390d",
   "metadata": {},
   "outputs": [
    {
     "data": {
      "text/plain": [
       "9×9 Matrix{ComplexF64}:\n",
       "       0.0+0.0im            -1.0+0.0im       …        0.0+0.0im\n",
       "      -1.0-0.0im             0.0+0.0im                0.0+0.0im\n",
       " -0.876307-0.481754im       -1.0-0.0im          -0.876307+0.481754im\n",
       "      -1.0-0.0im             0.0+0.0im                0.0+0.0im\n",
       "       0.0+0.0im            -1.0-0.0im                0.0+0.0im\n",
       "       0.0+0.0im             0.0+0.0im       …       -1.0-0.0im\n",
       " -0.876307-0.481754im        0.0+0.0im           0.855364+0.518027im\n",
       "       0.0+0.0im       -0.876307-0.481754im           0.5-0.866025im\n",
       "       0.0+0.0im             0.0+0.0im                0.0+0.0im"
      ]
     },
     "execution_count": 234,
     "metadata": {},
     "output_type": "execute_result"
    }
   ],
   "source": [
    "H_T = get_Hofstadter_hamiltonian(sites,neighbors_list,\n",
    "                                    site_number,site_coord,\n",
    "                                    length(vv_basis),LL,param_dict,pbc)"
   ]
  },
  {
   "cell_type": "code",
   "execution_count": 235,
   "id": "2fbe76c0-c511-4d1b-9de1-4a71e8a6f1e4",
   "metadata": {},
   "outputs": [
    {
     "data": {
      "text/plain": [
       "Operator(dim=9x9)\n",
       "  basis: NLevel(N=9)sparse([2, 3, 4, 7, 1, 3, 5, 8, 1, 2  …  8, 9, 2, 5, 7, 9, 3, 6, 7, 8], [1, 1, 1, 1, 2, 2, 2, 2, 3, 3  …  7, 7, 8, 8, 8, 8, 9, 9, 9, 9], ComplexF64[-1.0 + 0.0im, -0.8763066800438635 - 0.4817536741017154im, -1.0 + 0.0im, -0.8763066800438635 - 0.4817536741017154im, -1.0 + 0.0im, -1.0 + 0.0im, -1.0 + 0.0im, -0.8763066800438635 - 0.4817536741017154im, -0.8763066800438635 + 0.4817536741017154im, -1.0 + 0.0im  …  0.5000000000000004 + 0.8660254037844386im, 0.8553642601605069 - 0.5180270093731298im, -0.8763066800438635 + 0.4817536741017154im, -1.0 + 0.0im, 0.5000000000000004 - 0.8660254037844386im, 0.5000000000000004 + 0.8660254037844386im, -0.8763066800438635 + 0.4817536741017154im, -1.0 + 0.0im, 0.8553642601605069 + 0.5180270093731298im, 0.5000000000000004 - 0.8660254037844386im], 9, 9)"
      ]
     },
     "execution_count": 235,
     "metadata": {},
     "output_type": "execute_result"
    }
   ],
   "source": [
    "tx = ty = 0\n",
    "Op_Sp(sites,neighbors_list,\n",
    "               site_number,site_coord,\n",
    "               length(vv_basis),LL,param_dict,pbc)"
   ]
  },
  {
   "cell_type": "markdown",
   "id": "serial-emergency",
   "metadata": {},
   "source": [
    "## Create Many-Basis for Non-interacting system"
   ]
  },
  {
   "cell_type": "code",
   "execution_count": 236,
   "id": "yellow-booth",
   "metadata": {},
   "outputs": [
    {
     "data": {
      "text/plain": [
       "get_mb_op (generic function with 1 method)"
      ]
     },
     "execution_count": 236,
     "metadata": {},
     "output_type": "execute_result"
    }
   ],
   "source": [
    "function get_mb_op(PN, op)\n",
    "    \n",
    "    basis = NLevelBasis(N)\n",
    "    states = bosonstates(basis, PN)\n",
    "    basis_mb = ManyBodyBasis(basis, states)\n",
    "    \n",
    "    H = SparseOperator(basis_mb) \n",
    "    for m in 1:N\n",
    "        for n in 1:N\n",
    "            H += op.data[m,n] * transition(basis_mb, m, n)\n",
    "        end\n",
    "    end\n",
    "    \n",
    "    return H\n",
    "end"
   ]
  },
  {
   "cell_type": "markdown",
   "id": "median-extension",
   "metadata": {},
   "source": [
    "# Hamiltonian"
   ]
  },
  {
   "cell_type": "code",
   "execution_count": 237,
   "id": "sitting-millennium",
   "metadata": {
    "editable": true,
    "slideshow": {
     "slide_type": ""
    },
    "tags": []
   },
   "outputs": [
    {
     "data": {
      "text/plain": [
       "HH (generic function with 2 methods)"
      ]
     },
     "execution_count": 237,
     "metadata": {},
     "output_type": "execute_result"
    }
   ],
   "source": [
    "function HH(sites,neighbors_list,\n",
    "           site_number,site_coord,\n",
    "           nb,LL,param_dict,pbc,PN)\n",
    "    \n",
    "    op = Op_Sp(sites,neighbors_list,\n",
    "           site_number,site_coord,\n",
    "           length(vv_basis),LL,param_dict,pbc)\n",
    "    \n",
    "    H_mb = get_mb_op(PN, op)\n",
    "    \n",
    "    return H_mb\n",
    "end"
   ]
  },
  {
   "cell_type": "code",
   "execution_count": 238,
   "id": "57508e30-4771-447c-a1ea-07671900c002",
   "metadata": {
    "editable": true,
    "slideshow": {
     "slide_type": ""
    },
    "tags": []
   },
   "outputs": [
    {
     "data": {
      "text/plain": [
       "Eigen{ComplexF64, Float64, Matrix{ComplexF64}, Vector{Float64}}\n",
       "values:\n",
       "45-element Vector{Float64}:\n",
       " -5.464101615137781\n",
       " -5.464101615137772\n",
       " -5.464101615137769\n",
       " -5.464101615137767\n",
       " -5.464101615137751\n",
       " -5.464101615137711\n",
       " -2.000000000000006\n",
       " -2.000000000000002\n",
       " -1.9999999999999993\n",
       " -1.999999999999999\n",
       " -1.9999999999999976\n",
       " -1.999999999999996\n",
       " -1.9999999999999936\n",
       "  ⋮\n",
       "  2.732050807568877\n",
       "  2.7320508075688776\n",
       "  2.7320508075688776\n",
       "  2.732050807568878\n",
       "  2.7320508075688794\n",
       "  2.7320508075688807\n",
       "  3.9999999999999987\n",
       "  3.9999999999999996\n",
       "  4.000000000000001\n",
       "  4.000000000000002\n",
       "  4.000000000000002\n",
       "  4.0000000000000036\n",
       "vectors:\n",
       "45×45 Matrix{ComplexF64}:\n",
       "  -0.0286845-0.205787im    …    0.0384837-0.12011im\n",
       "  -0.0428353-0.108385im         -0.149699-0.0385736im\n",
       "    0.016031-0.0659275im        0.0952748+0.208434im\n",
       "  -0.0632407-0.280961im        -0.0753314+0.124706im\n",
       "   0.0663033+0.00212248im        0.207239-0.0234479im\n",
       "  -0.0277218+0.108513im    …   -0.0623511-0.194084im\n",
       "  -0.0207833-0.339828im         0.0209073+0.0451545im\n",
       "   -0.158797+0.0587195im       -0.0575404+0.0620215im\n",
       "    0.154921+0.110782im        -0.0329237-0.0143497im\n",
       "  -0.0625353-0.0738845im       -0.0438385+0.134246im\n",
       "    0.010028-0.00602635im  …     0.211696-0.151279im\n",
       "  -0.0685401-0.043566im          0.124359+0.129909im\n",
       "  -0.0532259-0.11196im          -0.050504-0.167638im\n",
       "            ⋮              ⋱  \n",
       "   -0.116413-0.177282im        -0.0774078-0.0358002im\n",
       "  -0.0342299+0.117065im        -0.0039856-0.0356876im\n",
       "   0.0161829+0.0222538im   …    -0.183348-0.0465783im\n",
       "  -0.0997284+0.111874im         0.0341047-0.0590233im\n",
       "    0.136481+0.0480716im        0.0600353+0.0228271im\n",
       "  -0.0102237-0.0736373im       -0.0238145+0.00435841im\n",
       "  -0.0213696-0.228457im          0.040775+0.0249614im\n",
       "  -0.0634993+0.0441718im   …    0.0154539+0.0634943im\n",
       "   0.0980673+0.0611692im        0.0121429+0.012842im\n",
       "  -0.0647503-0.0542841im       -0.0248147+0.0410229im\n",
       "   0.0186651+0.0448593im      -0.00507458+0.0169795im\n",
       " -2.44311e-8-0.0im            -3.46944e-5-0.0im"
      ]
     },
     "execution_count": 238,
     "metadata": {},
     "output_type": "execute_result"
    }
   ],
   "source": [
    "PN=2\n",
    "H = HH(sites,neighbors_list,\n",
    "site_number,site_coord,\n",
    "length(vv_basis),LL,param_dict,tx,ty,pbc,PN);\n",
    "eigen(dense(H).data)"
   ]
  },
  {
   "cell_type": "code",
   "execution_count": 239,
   "id": "double-click",
   "metadata": {
    "tags": []
   },
   "outputs": [],
   "source": [
    "# CHECK: MB Structure (PN=1)\n",
    "#eigenenergies(dense(H_mb)) == eigvals(HSP_T(Nx, Ny, 1/q, Tx, Ty, 0))\n",
    "# eigenenergies(dense(get_mb_op(basis_mb, op)))"
   ]
  },
  {
   "cell_type": "code",
   "execution_count": 240,
   "id": "modern-serve",
   "metadata": {},
   "outputs": [],
   "source": [
    "# # Ortogonality Check !\n",
    "# E, V = eigen(dense(get_mb_op(basis_mb, op)).data)\n",
    "# dot(V[:,1],V[:,2])\n",
    "# norm(V)"
   ]
  },
  {
   "cell_type": "markdown",
   "id": "atmospheric-confirmation",
   "metadata": {},
   "source": [
    "# Cherns"
   ]
  },
  {
   "cell_type": "markdown",
   "id": "future-leisure",
   "metadata": {},
   "source": [
    "Berry Curvature:\n",
    "\\begin{equation}\n",
    "\\mathcal{F}(\\vec{\\theta}) = \\log \\left( U_x(\\vec{\\theta})U_y(\\vec{\\theta}+\\delta_x)U_x(\\vec{\\theta}+\\delta_y)^{-1}U_y(\\vec{\\theta})^{-1} \\right)\n",
    "\\end{equation}\n",
    "Link variables:\n",
    "\\begin{equation}\n",
    "U_\\mu(\\vec{\\theta}) = \\frac{\n",
    "det \\left( \\Phi(\\vec{\\theta})^\\dagger \\Phi(\\vec{\\theta}+\\delta_\\mu) \\right) \n",
    "}{\n",
    "| det \\left(\\Phi(\\vec{\\theta})^\\dagger \\Phi(\\vec{\\theta}+\\delta_\\mu) \\right) |} , \\quad \\delta_x = \\left(\\frac{2\\pi}{N_{\\theta}},0 \\right), \\delta_y = \\left(0, \\frac{2\\pi}{N_{\\theta}}\\right)\n",
    "\\end{equation}\n",
    "Chern Number:\n",
    "\\begin{equation}\n",
    "\\mathcal{C} = \\frac{1}{2\\pi i} \\sum_{\\vec{\\theta}} \\mathcal{F}(\\vec{\\theta})\n",
    "\\end{equation}"
   ]
  },
  {
   "cell_type": "code",
   "execution_count": 241,
   "id": "69cf4c48-feaa-4ce5-8191-e1666ec1765d",
   "metadata": {},
   "outputs": [],
   "source": [
    "# using LinearAlgebra\n",
    "# PN=1\n",
    "# tx = Tx[7]\n",
    "# ty = Ty[1]\n",
    "# H_mb = HH(sites,neighbors_list,\n",
    "#            site_number,site_coord,\n",
    "#            length(vv_basis),LL,param_dict, tx, ty, pbc,PN)\n",
    "# E, U = eigen(dense(H_mb).data)\n",
    "# E\n",
    "# U"
   ]
  },
  {
   "cell_type": "code",
   "execution_count": 242,
   "id": "b529e130-4f32-4de3-9db6-0bfcebb7e9ec",
   "metadata": {},
   "outputs": [
    {
     "data": {
      "text/plain": [
       "45"
      ]
     },
     "execution_count": 242,
     "metadata": {},
     "output_type": "execute_result"
    }
   ],
   "source": [
    "dimH = size(H)[1]"
   ]
  },
  {
   "cell_type": "code",
   "execution_count": 243,
   "id": "tight-xerox",
   "metadata": {},
   "outputs": [
    {
     "data": {
      "text/plain": [
       "calc_F12 (generic function with 1 method)"
      ]
     },
     "execution_count": 243,
     "metadata": {},
     "output_type": "execute_result"
    }
   ],
   "source": [
    "@nbinclude(\"../../Chern_parameter_space_sum.ipynb\")"
   ]
  },
  {
   "cell_type": "code",
   "execution_count": 244,
   "id": "d5fc3298-cb75-446d-9ee1-151781f2042b",
   "metadata": {
    "editable": true,
    "slideshow": {
     "slide_type": ""
    },
    "tags": []
   },
   "outputs": [
    {
     "data": {
      "text/plain": [
       "150-element Vector{Float64}:\n",
       " 0.0\n",
       " 0.041887902047863905\n",
       " 0.08377580409572781\n",
       " 0.1256637061435917\n",
       " 0.16755160819145562\n",
       " 0.20943951023931953\n",
       " 0.2513274122871834\n",
       " 0.29321531433504733\n",
       " 0.33510321638291124\n",
       " 0.37699111843077515\n",
       " 0.41887902047863906\n",
       " 0.460766922526503\n",
       " 0.5026548245743668\n",
       " ⋮\n",
       " 5.780530482605219\n",
       " 5.822418384653083\n",
       " 5.864306286700947\n",
       " 5.9061941887488105\n",
       " 5.9480820907966745\n",
       " 5.9899699928445385\n",
       " 6.031857894892402\n",
       " 6.073745796940266\n",
       " 6.11563369898813\n",
       " 6.157521601035994\n",
       " 6.199409503083858\n",
       " 6.241297405131722"
      ]
     },
     "execution_count": 244,
     "metadata": {},
     "output_type": "execute_result"
    }
   ],
   "source": [
    "Tx"
   ]
  },
  {
   "cell_type": "code",
   "execution_count": 245,
   "id": "88a1a1c0-da3e-4c7f-baad-85476a673c8f",
   "metadata": {
    "editable": true,
    "slideshow": {
     "slide_type": ""
    },
    "tags": []
   },
   "outputs": [],
   "source": [
    "EEA, UUA = calc_states_hofstadter_mb(Tx, Ty, dimH, sites,neighbors_list,\n",
    "                                site_number,site_coord,\n",
    "                                length(vv_basis),LL,param_dict,pbc,HH,PN);"
   ]
  },
  {
   "cell_type": "code",
   "execution_count": 246,
   "id": "34dc135b-ccb6-41a8-9f1d-0aa659cf217e",
   "metadata": {},
   "outputs": [
    {
     "data": {
      "image/svg+xml": [
       "<?xml version=\"1.0\" encoding=\"utf-8\"?>\n",
       "<svg xmlns=\"http://www.w3.org/2000/svg\" xmlns:xlink=\"http://www.w3.org/1999/xlink\" width=\"600\" height=\"400\" viewBox=\"0 0 2400 1600\">\n",
       "<defs>\n",
       "  <clipPath id=\"clip370\">\n",
       "    <rect x=\"0\" y=\"0\" width=\"2400\" height=\"1600\"/>\n",
       "  </clipPath>\n",
       "</defs>\n",
       "<path clip-path=\"url(#clip370)\" d=\"M0 1600 L2400 1600 L2400 0 L0 0  Z\" fill=\"#ffffff\" fill-rule=\"evenodd\" fill-opacity=\"1\"/>\n",
       "<defs>\n",
       "  <clipPath id=\"clip371\">\n",
       "    <rect x=\"480\" y=\"0\" width=\"1681\" height=\"1600\"/>\n",
       "  </clipPath>\n",
       "</defs>\n",
       "<path clip-path=\"url(#clip370)\" d=\"M149.191 1486.45 L2352.76 1486.45 L2352.76 47.2441 L149.191 47.2441  Z\" fill=\"#ffffff\" fill-rule=\"evenodd\" fill-opacity=\"1\"/>\n",
       "<defs>\n",
       "  <clipPath id=\"clip372\">\n",
       "    <rect x=\"149\" y=\"47\" width=\"2205\" height=\"1440\"/>\n",
       "  </clipPath>\n",
       "</defs>\n",
       "<polyline clip-path=\"url(#clip372)\" style=\"stroke:#000000; stroke-linecap:round; stroke-linejoin:round; stroke-width:2; stroke-opacity:0.1; fill:none\" points=\"164.31,1486.45 164.31,47.2441 \"/>\n",
       "<polyline clip-path=\"url(#clip372)\" style=\"stroke:#000000; stroke-linecap:round; stroke-linejoin:round; stroke-width:2; stroke-opacity:0.1; fill:none\" points=\"636.772,1486.45 636.772,47.2441 \"/>\n",
       "<polyline clip-path=\"url(#clip372)\" style=\"stroke:#000000; stroke-linecap:round; stroke-linejoin:round; stroke-width:2; stroke-opacity:0.1; fill:none\" points=\"1109.23,1486.45 1109.23,47.2441 \"/>\n",
       "<polyline clip-path=\"url(#clip372)\" style=\"stroke:#000000; stroke-linecap:round; stroke-linejoin:round; stroke-width:2; stroke-opacity:0.1; fill:none\" points=\"1581.7,1486.45 1581.7,47.2441 \"/>\n",
       "<polyline clip-path=\"url(#clip372)\" style=\"stroke:#000000; stroke-linecap:round; stroke-linejoin:round; stroke-width:2; stroke-opacity:0.1; fill:none\" points=\"2054.16,1486.45 2054.16,47.2441 \"/>\n",
       "<polyline clip-path=\"url(#clip370)\" style=\"stroke:#000000; stroke-linecap:round; stroke-linejoin:round; stroke-width:4; stroke-opacity:1; fill:none\" points=\"149.191,1486.45 2352.76,1486.45 \"/>\n",
       "<polyline clip-path=\"url(#clip370)\" style=\"stroke:#000000; stroke-linecap:round; stroke-linejoin:round; stroke-width:4; stroke-opacity:1; fill:none\" points=\"164.31,1486.45 164.31,1467.55 \"/>\n",
       "<polyline clip-path=\"url(#clip370)\" style=\"stroke:#000000; stroke-linecap:round; stroke-linejoin:round; stroke-width:4; stroke-opacity:1; fill:none\" points=\"636.772,1486.45 636.772,1467.55 \"/>\n",
       "<polyline clip-path=\"url(#clip370)\" style=\"stroke:#000000; stroke-linecap:round; stroke-linejoin:round; stroke-width:4; stroke-opacity:1; fill:none\" points=\"1109.23,1486.45 1109.23,1467.55 \"/>\n",
       "<polyline clip-path=\"url(#clip370)\" style=\"stroke:#000000; stroke-linecap:round; stroke-linejoin:round; stroke-width:4; stroke-opacity:1; fill:none\" points=\"1581.7,1486.45 1581.7,1467.55 \"/>\n",
       "<polyline clip-path=\"url(#clip370)\" style=\"stroke:#000000; stroke-linecap:round; stroke-linejoin:round; stroke-width:4; stroke-opacity:1; fill:none\" points=\"2054.16,1486.45 2054.16,1467.55 \"/>\n",
       "<path clip-path=\"url(#clip370)\" d=\"M164.31 1517.37 Q160.699 1517.37 158.87 1520.93 Q157.064 1524.47 157.064 1531.6 Q157.064 1538.71 158.87 1542.27 Q160.699 1545.82 164.31 1545.82 Q167.944 1545.82 169.749 1542.27 Q171.578 1538.71 171.578 1531.6 Q171.578 1524.47 169.749 1520.93 Q167.944 1517.37 164.31 1517.37 M164.31 1513.66 Q170.12 1513.66 173.175 1518.27 Q176.254 1522.85 176.254 1531.6 Q176.254 1540.33 173.175 1544.94 Q170.12 1549.52 164.31 1549.52 Q158.5 1549.52 155.421 1544.94 Q152.365 1540.33 152.365 1531.6 Q152.365 1522.85 155.421 1518.27 Q158.5 1513.66 164.31 1513.66 Z\" fill=\"#000000\" fill-rule=\"nonzero\" fill-opacity=\"1\" /><path clip-path=\"url(#clip370)\" d=\"M611.46 1544.91 L619.099 1544.91 L619.099 1518.55 L610.788 1520.21 L610.788 1515.95 L619.052 1514.29 L623.728 1514.29 L623.728 1544.91 L631.367 1544.91 L631.367 1548.85 L611.46 1548.85 L611.46 1544.91 Z\" fill=\"#000000\" fill-rule=\"nonzero\" fill-opacity=\"1\" /><path clip-path=\"url(#clip370)\" d=\"M650.811 1517.37 Q647.2 1517.37 645.372 1520.93 Q643.566 1524.47 643.566 1531.6 Q643.566 1538.71 645.372 1542.27 Q647.2 1545.82 650.811 1545.82 Q654.446 1545.82 656.251 1542.27 Q658.08 1538.71 658.08 1531.6 Q658.08 1524.47 656.251 1520.93 Q654.446 1517.37 650.811 1517.37 M650.811 1513.66 Q656.622 1513.66 659.677 1518.27 Q662.756 1522.85 662.756 1531.6 Q662.756 1540.33 659.677 1544.94 Q656.622 1549.52 650.811 1549.52 Q645.001 1549.52 641.923 1544.94 Q638.867 1540.33 638.867 1531.6 Q638.867 1522.85 641.923 1518.27 Q645.001 1513.66 650.811 1513.66 Z\" fill=\"#000000\" fill-rule=\"nonzero\" fill-opacity=\"1\" /><path clip-path=\"url(#clip370)\" d=\"M1088.01 1544.91 L1104.33 1544.91 L1104.33 1548.85 L1082.38 1548.85 L1082.38 1544.91 Q1085.04 1542.16 1089.63 1537.53 Q1094.23 1532.88 1095.42 1531.53 Q1097.66 1529.01 1098.54 1527.27 Q1099.44 1525.51 1099.44 1523.82 Q1099.44 1521.07 1097.5 1519.33 Q1095.58 1517.6 1092.48 1517.6 Q1090.28 1517.6 1087.82 1518.36 Q1085.39 1519.13 1082.61 1520.68 L1082.61 1515.95 Q1085.44 1514.82 1087.89 1514.24 Q1090.35 1513.66 1092.38 1513.66 Q1097.75 1513.66 1100.95 1516.35 Q1104.14 1519.03 1104.14 1523.52 Q1104.14 1525.65 1103.33 1527.57 Q1102.54 1529.47 1100.44 1532.07 Q1099.86 1532.74 1096.76 1535.95 Q1093.66 1539.15 1088.01 1544.91 Z\" fill=\"#000000\" fill-rule=\"nonzero\" fill-opacity=\"1\" /><path clip-path=\"url(#clip370)\" d=\"M1124.14 1517.37 Q1120.53 1517.37 1118.7 1520.93 Q1116.9 1524.47 1116.9 1531.6 Q1116.9 1538.71 1118.7 1542.27 Q1120.53 1545.82 1124.14 1545.82 Q1127.78 1545.82 1129.58 1542.27 Q1131.41 1538.71 1131.41 1531.6 Q1131.41 1524.47 1129.58 1520.93 Q1127.78 1517.37 1124.14 1517.37 M1124.14 1513.66 Q1129.95 1513.66 1133.01 1518.27 Q1136.09 1522.85 1136.09 1531.6 Q1136.09 1540.33 1133.01 1544.94 Q1129.95 1549.52 1124.14 1549.52 Q1118.33 1549.52 1115.25 1544.94 Q1112.2 1540.33 1112.2 1531.6 Q1112.2 1522.85 1115.25 1518.27 Q1118.33 1513.66 1124.14 1513.66 Z\" fill=\"#000000\" fill-rule=\"nonzero\" fill-opacity=\"1\" /><path clip-path=\"url(#clip370)\" d=\"M1570.54 1530.21 Q1573.9 1530.93 1575.77 1533.2 Q1577.67 1535.47 1577.67 1538.8 Q1577.67 1543.92 1574.15 1546.72 Q1570.63 1549.52 1564.15 1549.52 Q1561.98 1549.52 1559.66 1549.08 Q1557.37 1548.66 1554.91 1547.81 L1554.91 1543.29 Q1556.86 1544.43 1559.17 1545.01 Q1561.49 1545.58 1564.01 1545.58 Q1568.41 1545.58 1570.7 1543.85 Q1573.02 1542.11 1573.02 1538.8 Q1573.02 1535.75 1570.86 1534.03 Q1568.73 1532.3 1564.91 1532.3 L1560.89 1532.3 L1560.89 1528.45 L1565.1 1528.45 Q1568.55 1528.45 1570.38 1527.09 Q1572.21 1525.7 1572.21 1523.11 Q1572.21 1520.45 1570.31 1519.03 Q1568.43 1517.6 1564.91 1517.6 Q1562.99 1517.6 1560.79 1518.01 Q1558.6 1518.43 1555.96 1519.31 L1555.96 1515.14 Q1558.62 1514.4 1560.93 1514.03 Q1563.27 1513.66 1565.33 1513.66 Q1570.66 1513.66 1573.76 1516.09 Q1576.86 1518.5 1576.86 1522.62 Q1576.86 1525.49 1575.22 1527.48 Q1573.57 1529.45 1570.54 1530.21 Z\" fill=\"#000000\" fill-rule=\"nonzero\" fill-opacity=\"1\" /><path clip-path=\"url(#clip370)\" d=\"M1596.54 1517.37 Q1592.92 1517.37 1591.1 1520.93 Q1589.29 1524.47 1589.29 1531.6 Q1589.29 1538.71 1591.1 1542.27 Q1592.92 1545.82 1596.54 1545.82 Q1600.17 1545.82 1601.97 1542.27 Q1603.8 1538.71 1603.8 1531.6 Q1603.8 1524.47 1601.97 1520.93 Q1600.17 1517.37 1596.54 1517.37 M1596.54 1513.66 Q1602.35 1513.66 1605.4 1518.27 Q1608.48 1522.85 1608.48 1531.6 Q1608.48 1540.33 1605.4 1544.94 Q1602.35 1549.52 1596.54 1549.52 Q1590.72 1549.52 1587.65 1544.94 Q1584.59 1540.33 1584.59 1531.6 Q1584.59 1522.85 1587.65 1518.27 Q1590.72 1513.66 1596.54 1513.66 Z\" fill=\"#000000\" fill-rule=\"nonzero\" fill-opacity=\"1\" /><path clip-path=\"url(#clip370)\" d=\"M2042.33 1518.36 L2030.53 1536.81 L2042.33 1536.81 L2042.33 1518.36 M2041.1 1514.29 L2046.98 1514.29 L2046.98 1536.81 L2051.91 1536.81 L2051.91 1540.7 L2046.98 1540.7 L2046.98 1548.85 L2042.33 1548.85 L2042.33 1540.7 L2026.73 1540.7 L2026.73 1536.19 L2041.1 1514.29 Z\" fill=\"#000000\" fill-rule=\"nonzero\" fill-opacity=\"1\" /><path clip-path=\"url(#clip370)\" d=\"M2069.65 1517.37 Q2066.03 1517.37 2064.21 1520.93 Q2062.4 1524.47 2062.4 1531.6 Q2062.4 1538.71 2064.21 1542.27 Q2066.03 1545.82 2069.65 1545.82 Q2073.28 1545.82 2075.09 1542.27 Q2076.91 1538.71 2076.91 1531.6 Q2076.91 1524.47 2075.09 1520.93 Q2073.28 1517.37 2069.65 1517.37 M2069.65 1513.66 Q2075.46 1513.66 2078.51 1518.27 Q2081.59 1522.85 2081.59 1531.6 Q2081.59 1540.33 2078.51 1544.94 Q2075.46 1549.52 2069.65 1549.52 Q2063.84 1549.52 2060.76 1544.94 Q2057.7 1540.33 2057.7 1531.6 Q2057.7 1522.85 2060.76 1518.27 Q2063.84 1513.66 2069.65 1513.66 Z\" fill=\"#000000\" fill-rule=\"nonzero\" fill-opacity=\"1\" /><polyline clip-path=\"url(#clip372)\" style=\"stroke:#000000; stroke-linecap:round; stroke-linejoin:round; stroke-width:2; stroke-opacity:0.1; fill:none\" points=\"149.191,1235.67 2352.76,1235.67 \"/>\n",
       "<polyline clip-path=\"url(#clip372)\" style=\"stroke:#000000; stroke-linecap:round; stroke-linejoin:round; stroke-width:2; stroke-opacity:0.1; fill:none\" points=\"149.191,948.749 2352.76,948.749 \"/>\n",
       "<polyline clip-path=\"url(#clip372)\" style=\"stroke:#000000; stroke-linecap:round; stroke-linejoin:round; stroke-width:2; stroke-opacity:0.1; fill:none\" points=\"149.191,661.824 2352.76,661.824 \"/>\n",
       "<polyline clip-path=\"url(#clip372)\" style=\"stroke:#000000; stroke-linecap:round; stroke-linejoin:round; stroke-width:2; stroke-opacity:0.1; fill:none\" points=\"149.191,374.9 2352.76,374.9 \"/>\n",
       "<polyline clip-path=\"url(#clip372)\" style=\"stroke:#000000; stroke-linecap:round; stroke-linejoin:round; stroke-width:2; stroke-opacity:0.1; fill:none\" points=\"149.191,87.9763 2352.76,87.9763 \"/>\n",
       "<polyline clip-path=\"url(#clip370)\" style=\"stroke:#000000; stroke-linecap:round; stroke-linejoin:round; stroke-width:4; stroke-opacity:1; fill:none\" points=\"149.191,1486.45 149.191,47.2441 \"/>\n",
       "<polyline clip-path=\"url(#clip370)\" style=\"stroke:#000000; stroke-linecap:round; stroke-linejoin:round; stroke-width:4; stroke-opacity:1; fill:none\" points=\"149.191,1235.67 168.089,1235.67 \"/>\n",
       "<polyline clip-path=\"url(#clip370)\" style=\"stroke:#000000; stroke-linecap:round; stroke-linejoin:round; stroke-width:4; stroke-opacity:1; fill:none\" points=\"149.191,948.749 168.089,948.749 \"/>\n",
       "<polyline clip-path=\"url(#clip370)\" style=\"stroke:#000000; stroke-linecap:round; stroke-linejoin:round; stroke-width:4; stroke-opacity:1; fill:none\" points=\"149.191,661.824 168.089,661.824 \"/>\n",
       "<polyline clip-path=\"url(#clip370)\" style=\"stroke:#000000; stroke-linecap:round; stroke-linejoin:round; stroke-width:4; stroke-opacity:1; fill:none\" points=\"149.191,374.9 168.089,374.9 \"/>\n",
       "<polyline clip-path=\"url(#clip370)\" style=\"stroke:#000000; stroke-linecap:round; stroke-linejoin:round; stroke-width:4; stroke-opacity:1; fill:none\" points=\"149.191,87.9763 168.089,87.9763 \"/>\n",
       "<path clip-path=\"url(#clip370)\" d=\"M50.9921 1236.12 L80.6679 1236.12 L80.6679 1240.06 L50.9921 1240.06 L50.9921 1236.12 Z\" fill=\"#000000\" fill-rule=\"nonzero\" fill-opacity=\"1\" /><path clip-path=\"url(#clip370)\" d=\"M103.608 1222.47 L91.8021 1240.92 L103.608 1240.92 L103.608 1222.47 M102.381 1218.39 L108.26 1218.39 L108.26 1240.92 L113.191 1240.92 L113.191 1244.8 L108.26 1244.8 L108.26 1252.95 L103.608 1252.95 L103.608 1244.8 L88.0058 1244.8 L88.0058 1240.29 L102.381 1218.39 Z\" fill=\"#000000\" fill-rule=\"nonzero\" fill-opacity=\"1\" /><path clip-path=\"url(#clip370)\" d=\"M53.0754 949.2 L82.7512 949.2 L82.7512 953.135 L53.0754 953.135 L53.0754 949.2 Z\" fill=\"#000000\" fill-rule=\"nonzero\" fill-opacity=\"1\" /><path clip-path=\"url(#clip370)\" d=\"M96.8715 962.093 L113.191 962.093 L113.191 966.029 L91.2465 966.029 L91.2465 962.093 Q93.9086 959.339 98.4919 954.709 Q103.098 950.056 104.279 948.714 Q106.524 946.191 107.404 944.455 Q108.307 942.695 108.307 941.006 Q108.307 938.251 106.362 936.515 Q104.441 934.779 101.339 934.779 Q99.14 934.779 96.6863 935.543 Q94.2558 936.307 91.478 937.857 L91.478 933.135 Q94.3021 932.001 96.7558 931.422 Q99.2095 930.844 101.246 930.844 Q106.617 930.844 109.811 933.529 Q113.006 936.214 113.006 940.705 Q113.006 942.834 112.196 944.756 Q111.408 946.654 109.302 949.246 Q108.723 949.918 105.621 953.135 Q102.52 956.33 96.8715 962.093 Z\" fill=\"#000000\" fill-rule=\"nonzero\" fill-opacity=\"1\" /><path clip-path=\"url(#clip370)\" d=\"M101.246 647.623 Q97.6354 647.623 95.8067 651.188 Q94.0012 654.73 94.0012 661.859 Q94.0012 668.966 95.8067 672.53 Q97.6354 676.072 101.246 676.072 Q104.881 676.072 106.686 672.53 Q108.515 668.966 108.515 661.859 Q108.515 654.73 106.686 651.188 Q104.881 647.623 101.246 647.623 M101.246 643.919 Q107.057 643.919 110.112 648.526 Q113.191 653.109 113.191 661.859 Q113.191 670.586 110.112 675.192 Q107.057 679.776 101.246 679.776 Q95.4363 679.776 92.3576 675.192 Q89.3021 670.586 89.3021 661.859 Q89.3021 653.109 92.3576 648.526 Q95.4363 643.919 101.246 643.919 Z\" fill=\"#000000\" fill-rule=\"nonzero\" fill-opacity=\"1\" /><path clip-path=\"url(#clip370)\" d=\"M96.8715 388.245 L113.191 388.245 L113.191 392.18 L91.2465 392.18 L91.2465 388.245 Q93.9086 385.491 98.4919 380.861 Q103.098 376.208 104.279 374.866 Q106.524 372.343 107.404 370.606 Q108.307 368.847 108.307 367.157 Q108.307 364.403 106.362 362.667 Q104.441 360.931 101.339 360.931 Q99.14 360.931 96.6863 361.694 Q94.2558 362.458 91.478 364.009 L91.478 359.287 Q94.3021 358.153 96.7558 357.574 Q99.2095 356.995 101.246 356.995 Q106.617 356.995 109.811 359.681 Q113.006 362.366 113.006 366.856 Q113.006 368.986 112.196 370.907 Q111.408 372.805 109.302 375.398 Q108.723 376.069 105.621 379.287 Q102.52 382.481 96.8715 388.245 Z\" fill=\"#000000\" fill-rule=\"nonzero\" fill-opacity=\"1\" /><path clip-path=\"url(#clip370)\" d=\"M103.608 74.7703 L91.8021 93.2193 L103.608 93.2193 L103.608 74.7703 M102.381 70.6963 L108.26 70.6963 L108.26 93.2193 L113.191 93.2193 L113.191 97.1082 L108.26 97.1082 L108.26 105.256 L103.608 105.256 L103.608 97.1082 L88.0058 97.1082 L88.0058 92.5943 L102.381 70.6963 Z\" fill=\"#000000\" fill-rule=\"nonzero\" fill-opacity=\"1\" /><circle clip-path=\"url(#clip372)\" cx=\"211.556\" cy=\"1445.72\" r=\"14.4\" fill=\"#009af9\" fill-rule=\"evenodd\" fill-opacity=\"1\" stroke=\"#000000\" stroke-opacity=\"1\" stroke-width=\"3.2\"/>\n",
       "<circle clip-path=\"url(#clip372)\" cx=\"258.802\" cy=\"1445.72\" r=\"14.4\" fill=\"#009af9\" fill-rule=\"evenodd\" fill-opacity=\"1\" stroke=\"#000000\" stroke-opacity=\"1\" stroke-width=\"3.2\"/>\n",
       "<circle clip-path=\"url(#clip372)\" cx=\"306.048\" cy=\"1445.72\" r=\"14.4\" fill=\"#009af9\" fill-rule=\"evenodd\" fill-opacity=\"1\" stroke=\"#000000\" stroke-opacity=\"1\" stroke-width=\"3.2\"/>\n",
       "<circle clip-path=\"url(#clip372)\" cx=\"353.295\" cy=\"1445.72\" r=\"14.4\" fill=\"#009af9\" fill-rule=\"evenodd\" fill-opacity=\"1\" stroke=\"#000000\" stroke-opacity=\"1\" stroke-width=\"3.2\"/>\n",
       "<circle clip-path=\"url(#clip372)\" cx=\"400.541\" cy=\"1445.72\" r=\"14.4\" fill=\"#009af9\" fill-rule=\"evenodd\" fill-opacity=\"1\" stroke=\"#000000\" stroke-opacity=\"1\" stroke-width=\"3.2\"/>\n",
       "<circle clip-path=\"url(#clip372)\" cx=\"447.787\" cy=\"1445.72\" r=\"14.4\" fill=\"#009af9\" fill-rule=\"evenodd\" fill-opacity=\"1\" stroke=\"#000000\" stroke-opacity=\"1\" stroke-width=\"3.2\"/>\n",
       "<circle clip-path=\"url(#clip372)\" cx=\"495.033\" cy=\"948.749\" r=\"14.4\" fill=\"#009af9\" fill-rule=\"evenodd\" fill-opacity=\"1\" stroke=\"#000000\" stroke-opacity=\"1\" stroke-width=\"3.2\"/>\n",
       "<circle clip-path=\"url(#clip372)\" cx=\"542.28\" cy=\"948.749\" r=\"14.4\" fill=\"#009af9\" fill-rule=\"evenodd\" fill-opacity=\"1\" stroke=\"#000000\" stroke-opacity=\"1\" stroke-width=\"3.2\"/>\n",
       "<circle clip-path=\"url(#clip372)\" cx=\"589.526\" cy=\"948.749\" r=\"14.4\" fill=\"#009af9\" fill-rule=\"evenodd\" fill-opacity=\"1\" stroke=\"#000000\" stroke-opacity=\"1\" stroke-width=\"3.2\"/>\n",
       "<circle clip-path=\"url(#clip372)\" cx=\"636.772\" cy=\"948.749\" r=\"14.4\" fill=\"#009af9\" fill-rule=\"evenodd\" fill-opacity=\"1\" stroke=\"#000000\" stroke-opacity=\"1\" stroke-width=\"3.2\"/>\n",
       "<circle clip-path=\"url(#clip372)\" cx=\"684.018\" cy=\"948.749\" r=\"14.4\" fill=\"#009af9\" fill-rule=\"evenodd\" fill-opacity=\"1\" stroke=\"#000000\" stroke-opacity=\"1\" stroke-width=\"3.2\"/>\n",
       "<circle clip-path=\"url(#clip372)\" cx=\"731.265\" cy=\"948.749\" r=\"14.4\" fill=\"#009af9\" fill-rule=\"evenodd\" fill-opacity=\"1\" stroke=\"#000000\" stroke-opacity=\"1\" stroke-width=\"3.2\"/>\n",
       "<circle clip-path=\"url(#clip372)\" cx=\"778.511\" cy=\"948.749\" r=\"14.4\" fill=\"#009af9\" fill-rule=\"evenodd\" fill-opacity=\"1\" stroke=\"#000000\" stroke-opacity=\"1\" stroke-width=\"3.2\"/>\n",
       "<circle clip-path=\"url(#clip372)\" cx=\"825.757\" cy=\"948.749\" r=\"14.4\" fill=\"#009af9\" fill-rule=\"evenodd\" fill-opacity=\"1\" stroke=\"#000000\" stroke-opacity=\"1\" stroke-width=\"3.2\"/>\n",
       "<circle clip-path=\"url(#clip372)\" cx=\"873.003\" cy=\"948.749\" r=\"14.4\" fill=\"#009af9\" fill-rule=\"evenodd\" fill-opacity=\"1\" stroke=\"#000000\" stroke-opacity=\"1\" stroke-width=\"3.2\"/>\n",
       "<circle clip-path=\"url(#clip372)\" cx=\"920.25\" cy=\"766.846\" r=\"14.4\" fill=\"#009af9\" fill-rule=\"evenodd\" fill-opacity=\"1\" stroke=\"#000000\" stroke-opacity=\"1\" stroke-width=\"3.2\"/>\n",
       "<circle clip-path=\"url(#clip372)\" cx=\"967.496\" cy=\"766.846\" r=\"14.4\" fill=\"#009af9\" fill-rule=\"evenodd\" fill-opacity=\"1\" stroke=\"#000000\" stroke-opacity=\"1\" stroke-width=\"3.2\"/>\n",
       "<circle clip-path=\"url(#clip372)\" cx=\"1014.74\" cy=\"766.846\" r=\"14.4\" fill=\"#009af9\" fill-rule=\"evenodd\" fill-opacity=\"1\" stroke=\"#000000\" stroke-opacity=\"1\" stroke-width=\"3.2\"/>\n",
       "<circle clip-path=\"url(#clip372)\" cx=\"1061.99\" cy=\"766.846\" r=\"14.4\" fill=\"#009af9\" fill-rule=\"evenodd\" fill-opacity=\"1\" stroke=\"#000000\" stroke-opacity=\"1\" stroke-width=\"3.2\"/>\n",
       "<circle clip-path=\"url(#clip372)\" cx=\"1109.23\" cy=\"766.846\" r=\"14.4\" fill=\"#009af9\" fill-rule=\"evenodd\" fill-opacity=\"1\" stroke=\"#000000\" stroke-opacity=\"1\" stroke-width=\"3.2\"/>\n",
       "<circle clip-path=\"url(#clip372)\" cx=\"1156.48\" cy=\"766.846\" r=\"14.4\" fill=\"#009af9\" fill-rule=\"evenodd\" fill-opacity=\"1\" stroke=\"#000000\" stroke-opacity=\"1\" stroke-width=\"3.2\"/>\n",
       "<circle clip-path=\"url(#clip372)\" cx=\"1203.73\" cy=\"766.846\" r=\"14.4\" fill=\"#009af9\" fill-rule=\"evenodd\" fill-opacity=\"1\" stroke=\"#000000\" stroke-opacity=\"1\" stroke-width=\"3.2\"/>\n",
       "<circle clip-path=\"url(#clip372)\" cx=\"1250.97\" cy=\"766.846\" r=\"14.4\" fill=\"#009af9\" fill-rule=\"evenodd\" fill-opacity=\"1\" stroke=\"#000000\" stroke-opacity=\"1\" stroke-width=\"3.2\"/>\n",
       "<circle clip-path=\"url(#clip372)\" cx=\"1298.22\" cy=\"766.846\" r=\"14.4\" fill=\"#009af9\" fill-rule=\"evenodd\" fill-opacity=\"1\" stroke=\"#000000\" stroke-opacity=\"1\" stroke-width=\"3.2\"/>\n",
       "<circle clip-path=\"url(#clip372)\" cx=\"1345.47\" cy=\"451.781\" r=\"14.4\" fill=\"#009af9\" fill-rule=\"evenodd\" fill-opacity=\"1\" stroke=\"#000000\" stroke-opacity=\"1\" stroke-width=\"3.2\"/>\n",
       "<circle clip-path=\"url(#clip372)\" cx=\"1392.71\" cy=\"451.781\" r=\"14.4\" fill=\"#009af9\" fill-rule=\"evenodd\" fill-opacity=\"1\" stroke=\"#000000\" stroke-opacity=\"1\" stroke-width=\"3.2\"/>\n",
       "<circle clip-path=\"url(#clip372)\" cx=\"1439.96\" cy=\"451.781\" r=\"14.4\" fill=\"#009af9\" fill-rule=\"evenodd\" fill-opacity=\"1\" stroke=\"#000000\" stroke-opacity=\"1\" stroke-width=\"3.2\"/>\n",
       "<circle clip-path=\"url(#clip372)\" cx=\"1487.2\" cy=\"451.781\" r=\"14.4\" fill=\"#009af9\" fill-rule=\"evenodd\" fill-opacity=\"1\" stroke=\"#000000\" stroke-opacity=\"1\" stroke-width=\"3.2\"/>\n",
       "<circle clip-path=\"url(#clip372)\" cx=\"1534.45\" cy=\"451.781\" r=\"14.4\" fill=\"#009af9\" fill-rule=\"evenodd\" fill-opacity=\"1\" stroke=\"#000000\" stroke-opacity=\"1\" stroke-width=\"3.2\"/>\n",
       "<circle clip-path=\"url(#clip372)\" cx=\"1581.7\" cy=\"451.781\" r=\"14.4\" fill=\"#009af9\" fill-rule=\"evenodd\" fill-opacity=\"1\" stroke=\"#000000\" stroke-opacity=\"1\" stroke-width=\"3.2\"/>\n",
       "<circle clip-path=\"url(#clip372)\" cx=\"1628.94\" cy=\"269.879\" r=\"14.4\" fill=\"#009af9\" fill-rule=\"evenodd\" fill-opacity=\"1\" stroke=\"#000000\" stroke-opacity=\"1\" stroke-width=\"3.2\"/>\n",
       "<circle clip-path=\"url(#clip372)\" cx=\"1676.19\" cy=\"269.879\" r=\"14.4\" fill=\"#009af9\" fill-rule=\"evenodd\" fill-opacity=\"1\" stroke=\"#000000\" stroke-opacity=\"1\" stroke-width=\"3.2\"/>\n",
       "<circle clip-path=\"url(#clip372)\" cx=\"1723.44\" cy=\"269.879\" r=\"14.4\" fill=\"#009af9\" fill-rule=\"evenodd\" fill-opacity=\"1\" stroke=\"#000000\" stroke-opacity=\"1\" stroke-width=\"3.2\"/>\n",
       "<circle clip-path=\"url(#clip372)\" cx=\"1770.68\" cy=\"269.879\" r=\"14.4\" fill=\"#009af9\" fill-rule=\"evenodd\" fill-opacity=\"1\" stroke=\"#000000\" stroke-opacity=\"1\" stroke-width=\"3.2\"/>\n",
       "<circle clip-path=\"url(#clip372)\" cx=\"1817.93\" cy=\"269.879\" r=\"14.4\" fill=\"#009af9\" fill-rule=\"evenodd\" fill-opacity=\"1\" stroke=\"#000000\" stroke-opacity=\"1\" stroke-width=\"3.2\"/>\n",
       "<circle clip-path=\"url(#clip372)\" cx=\"1865.17\" cy=\"269.879\" r=\"14.4\" fill=\"#009af9\" fill-rule=\"evenodd\" fill-opacity=\"1\" stroke=\"#000000\" stroke-opacity=\"1\" stroke-width=\"3.2\"/>\n",
       "<circle clip-path=\"url(#clip372)\" cx=\"1912.42\" cy=\"269.879\" r=\"14.4\" fill=\"#009af9\" fill-rule=\"evenodd\" fill-opacity=\"1\" stroke=\"#000000\" stroke-opacity=\"1\" stroke-width=\"3.2\"/>\n",
       "<circle clip-path=\"url(#clip372)\" cx=\"1959.67\" cy=\"269.879\" r=\"14.4\" fill=\"#009af9\" fill-rule=\"evenodd\" fill-opacity=\"1\" stroke=\"#000000\" stroke-opacity=\"1\" stroke-width=\"3.2\"/>\n",
       "<circle clip-path=\"url(#clip372)\" cx=\"2006.91\" cy=\"269.879\" r=\"14.4\" fill=\"#009af9\" fill-rule=\"evenodd\" fill-opacity=\"1\" stroke=\"#000000\" stroke-opacity=\"1\" stroke-width=\"3.2\"/>\n",
       "<circle clip-path=\"url(#clip372)\" cx=\"2054.16\" cy=\"87.9763\" r=\"14.4\" fill=\"#009af9\" fill-rule=\"evenodd\" fill-opacity=\"1\" stroke=\"#000000\" stroke-opacity=\"1\" stroke-width=\"3.2\"/>\n",
       "<circle clip-path=\"url(#clip372)\" cx=\"2101.41\" cy=\"87.9763\" r=\"14.4\" fill=\"#009af9\" fill-rule=\"evenodd\" fill-opacity=\"1\" stroke=\"#000000\" stroke-opacity=\"1\" stroke-width=\"3.2\"/>\n",
       "<circle clip-path=\"url(#clip372)\" cx=\"2148.65\" cy=\"87.9763\" r=\"14.4\" fill=\"#009af9\" fill-rule=\"evenodd\" fill-opacity=\"1\" stroke=\"#000000\" stroke-opacity=\"1\" stroke-width=\"3.2\"/>\n",
       "<circle clip-path=\"url(#clip372)\" cx=\"2195.9\" cy=\"87.9763\" r=\"14.4\" fill=\"#009af9\" fill-rule=\"evenodd\" fill-opacity=\"1\" stroke=\"#000000\" stroke-opacity=\"1\" stroke-width=\"3.2\"/>\n",
       "<circle clip-path=\"url(#clip372)\" cx=\"2243.14\" cy=\"87.9763\" r=\"14.4\" fill=\"#009af9\" fill-rule=\"evenodd\" fill-opacity=\"1\" stroke=\"#000000\" stroke-opacity=\"1\" stroke-width=\"3.2\"/>\n",
       "<circle clip-path=\"url(#clip372)\" cx=\"2290.39\" cy=\"87.9763\" r=\"14.4\" fill=\"#009af9\" fill-rule=\"evenodd\" fill-opacity=\"1\" stroke=\"#000000\" stroke-opacity=\"1\" stroke-width=\"3.2\"/>\n",
       "<path clip-path=\"url(#clip370)\" d=\"M222.643 198.898 L495.43 198.898 L495.43 95.2176 L222.643 95.2176  Z\" fill=\"#ffffff\" fill-rule=\"evenodd\" fill-opacity=\"1\"/>\n",
       "<polyline clip-path=\"url(#clip370)\" style=\"stroke:#000000; stroke-linecap:round; stroke-linejoin:round; stroke-width:4; stroke-opacity:1; fill:none\" points=\"222.643,198.898 495.43,198.898 495.43,95.2176 222.643,95.2176 222.643,198.898 \"/>\n",
       "<circle clip-path=\"url(#clip370)\" cx=\"320.579\" cy=\"147.058\" r=\"23.04\" fill=\"#009af9\" fill-rule=\"evenodd\" fill-opacity=\"1\" stroke=\"#000000\" stroke-opacity=\"1\" stroke-width=\"5.12\"/>\n",
       "<path clip-path=\"url(#clip370)\" d=\"M432.358 166.745 Q430.552 171.375 428.84 172.787 Q427.127 174.199 424.256 174.199 L420.853 174.199 L420.853 170.634 L423.353 170.634 Q425.113 170.634 426.085 169.8 Q427.057 168.967 428.238 165.865 L429.002 163.921 L418.515 138.412 L423.029 138.412 L431.131 158.689 L439.233 138.412 L443.747 138.412 L432.358 166.745 Z\" fill=\"#000000\" fill-rule=\"nonzero\" fill-opacity=\"1\" /><path clip-path=\"url(#clip370)\" d=\"M451.038 160.402 L458.677 160.402 L458.677 134.037 L450.367 135.703 L450.367 131.444 L458.631 129.778 L463.307 129.778 L463.307 160.402 L470.946 160.402 L470.946 164.338 L451.038 164.338 L451.038 160.402 Z\" fill=\"#000000\" fill-rule=\"nonzero\" fill-opacity=\"1\" /></svg>\n"
      ]
     },
     "execution_count": 246,
     "metadata": {},
     "output_type": "execute_result"
    }
   ],
   "source": [
    "using Plots\n",
    "scatter(real(EEA[1,1,:]))"
   ]
  },
  {
   "cell_type": "code",
   "execution_count": 247,
   "id": "d3f23172-cc09-4301-b156-418e3db33b05",
   "metadata": {},
   "outputs": [
    {
     "data": {
      "text/plain": [
       "2-element Vector{Vector{Int64}}:\n",
       " [1, 24]\n",
       " [25, 45]"
      ]
     },
     "execution_count": 247,
     "metadata": {},
     "output_type": "execute_result"
    }
   ],
   "source": [
    "bands = [[1,6], [7,15], [16,24], [25,30], [31,39], [40,45]]\n",
    "bands2 = [[1,15], [16,30], [31,45]]\n",
    "bands3 = [[1,24], [25,45]]"
   ]
  },
  {
   "cell_type": "code",
   "execution_count": 248,
   "id": "568e2493-ca6d-46f2-ab84-ae55f755c8a6",
   "metadata": {
    "editable": true,
    "slideshow": {
     "slide_type": ""
    },
    "tags": []
   },
   "outputs": [
    {
     "name": "stdout",
     "output_type": "stream",
     "text": [
      "-4.000000000000002 + 5.121205951105386e-16im\n",
      "3.0 - 3.46345357473774e-15im\n",
      "-7.999999999999991 - 1.793466206416767e-15im\n",
      "7.999999999999969 - 7.171132100956187e-16im\n",
      "3.000000000000002 - 3.7972225230854e-15im\n",
      "-4.000000000000001 + 2.6627358317934886e-15im\n"
     ]
    }
   ],
   "source": [
    "for band in bands\n",
    "    UU = calc_link_vars(UUA[:,:,:,band[1]:band[2]])\n",
    "    F12 = calc_F12(UU)\n",
    "    println(sum(F12)/(2im*pi))\n",
    "end"
   ]
  },
  {
   "cell_type": "code",
   "execution_count": 249,
   "id": "5460b00c-f1b4-4270-9638-bf0abc44ae2d",
   "metadata": {
    "editable": true,
    "slideshow": {
     "slide_type": ""
    },
    "tags": []
   },
   "outputs": [
    {
     "name": "stdout",
     "output_type": "stream",
     "text": [
      "-0.9999999999999998 + 7.563592938106327e-15im\n",
      "1.999999999999999 + 5.3113517591457144e-15im\n",
      "-0.9999999999999994 + 2.811185912402468e-15im\n"
     ]
    }
   ],
   "source": [
    "for band in bands2\n",
    "    UU = calc_link_vars(UUA[:,:,:,band[1]:band[2]])\n",
    "    F12 = calc_F12(UU)\n",
    "    println(sum(F12)/(2im*pi))\n",
    "end"
   ]
  },
  {
   "cell_type": "code",
   "execution_count": 250,
   "id": "dc92e2d4-a2d1-4fd1-8787-6678bca26d62",
   "metadata": {
    "editable": true,
    "slideshow": {
     "slide_type": ""
    },
    "tags": []
   },
   "outputs": [
    {
     "name": "stdout",
     "output_type": "stream",
     "text": [
      "-5.000000000000015 - 1.6741149388415455e-15im\n",
      "5.000000000000004 + 1.1955157937121056e-15im\n"
     ]
    }
   ],
   "source": [
    "for band in bands3\n",
    "    UU = calc_link_vars(UUA[:,:,:,band[1]:band[2]])\n",
    "    F12 = calc_F12(UU)\n",
    "    println(sum(F12)/(2im*pi))\n",
    "end"
   ]
  },
  {
   "cell_type": "code",
   "execution_count": 150,
   "id": "992426c1-eee9-4308-9036-c6cba8fcc4d4",
   "metadata": {
    "editable": true,
    "slideshow": {
     "slide_type": ""
    },
    "tags": []
   },
   "outputs": [
    {
     "data": {
      "text/plain": [
       "1.0 + 0.0im"
      ]
     },
     "execution_count": 150,
     "metadata": {},
     "output_type": "execute_result"
    }
   ],
   "source": [
    "UUA[1,1,:,1]'*UUA[1,1,:,1]"
   ]
  },
  {
   "cell_type": "code",
   "execution_count": 151,
   "id": "4e4c3207-007d-454c-881d-bae5fff0f171",
   "metadata": {},
   "outputs": [
    {
     "data": {
      "text/plain": [
       "9×9 OffsetArray(::Matrix{ComplexF64}, 0:8, 0:8) with eltype ComplexF64 with indices 0:8×0:8:\n",
       "  -0.227724+0.513248im     0.108487+0.0230596im    …   -0.410703-0.231253im\n",
       "  -0.131384+0.388706im   -0.0115933+0.110303im         0.0293874+0.403802im\n",
       "   0.038881+0.316818im      0.35177+0.174995im          0.270478-0.374042im\n",
       " -0.0721484+0.427378im   -0.0897285-0.0651916im         0.240697+0.368163im\n",
       "  -0.184192+0.0613696im   -0.110911-2.51535e-17im      0.0505765-0.122546im\n",
       "   0.118306-0.0873464im    0.387447+0.0651916im    …   -0.133002+0.332631im\n",
       " -0.0386375+0.377225im   -0.0243352-0.392139im         0.0470597-0.206568im\n",
       "   0.105799+0.110983im    -0.250181+0.302944im        -0.0516903-0.117968im\n",
       "        0.0+0.0im           0.57735-0.0im                    0.0+0.0im"
      ]
     },
     "execution_count": 151,
     "metadata": {},
     "output_type": "execute_result"
    }
   ],
   "source": [
    "UUA = OffsetArray(UUA, 0:N1-1, 0:N2-1, 0:dimH-1, 0:dimH-1)\n",
    "UUA[1,1,:,:]"
   ]
  },
  {
   "cell_type": "code",
   "execution_count": 152,
   "id": "6692b276-67cd-4d16-b4de-8c2361bc962e",
   "metadata": {},
   "outputs": [
    {
     "data": {
      "text/plain": [
       "0.9833994827045871 - 0.18145373354205335im"
      ]
     },
     "execution_count": 152,
     "metadata": {},
     "output_type": "execute_result"
    }
   ],
   "source": [
    "calc_link_var(UUA[1,6,:,1], UUA[9,1,:,1])"
   ]
  },
  {
   "cell_type": "code",
   "execution_count": 153,
   "id": "1ee536b8-7e32-4bac-925b-723f190ed2ab",
   "metadata": {},
   "outputs": [
    {
     "data": {
      "text/plain": [
       "10×10×2 OffsetArray(::Array{ComplexF64, 3}, 0:9, 0:9, 0:1) with eltype ComplexF64 with indices 0:9×0:9×0:1:\n",
       "[:, :, 0] =\n",
       " 0.00163509+0.999999im   0.285763+0.9583im     …    0.857324-0.514777im\n",
       "    0.48143+0.876485im  -0.982476+0.186389im       -0.697065+0.717008im\n",
       "  -0.978167+0.207821im   0.604138+0.79688im        -0.985228+0.171246im\n",
       "    0.78589-0.618367im  -0.380902+0.924615im       -0.570605+0.821225im\n",
       "  -0.972366+0.23346im     0.32284-0.946454im        0.467586+0.883948im\n",
       "  -0.760918-0.648848im   0.998838-0.0481857im  …   -0.970078-0.242794im\n",
       " -0.0914562-0.995809im  -0.853892-0.520451im        -0.25856-0.965995im\n",
       "  -0.992672+0.120841im  -0.808415+0.588613im        0.279452+0.96016im\n",
       "   0.980437-0.196833im   0.380447+0.924803im      -0.0076575-0.999971im\n",
       "   0.955999+0.293371im  -0.955126-0.296201im      -0.0458815+0.998947im\n",
       "\n",
       "[:, :, 1] =\n",
       " -0.921215-0.389054im    0.935704-0.352786im  …  -0.819825+0.572615im\n",
       " -0.165691+0.986178im   -0.615573-0.78808im      -0.408947+0.912558im\n",
       " 0.0459272-0.998945im    0.238235+0.971207im      0.848795-0.528722im\n",
       "  0.669975-0.742384im   -0.567089+0.823657im      0.414213+0.91018im\n",
       " -0.999589+0.0286617im  -0.152776+0.988261im     -0.993283-0.115708im\n",
       " -0.913119+0.407693im    0.889888+0.456179im  …  -0.540053-0.841631im\n",
       "  0.142748+0.989759im   -0.880126+0.474739im      0.965384-0.260833im\n",
       "  0.854043-0.520202im    0.199617-0.979874im      0.366451-0.930437im\n",
       "  0.313725-0.949514im   -0.237973+0.971272im      0.978597-0.205787im\n",
       " -0.260896+0.965367im   -0.750499+0.660871im      -0.85957-0.511018im"
      ]
     },
     "execution_count": 153,
     "metadata": {},
     "output_type": "execute_result"
    }
   ],
   "source": [
    "UU = calc_link_vars(UUA[:,:,:,1:2])"
   ]
  },
  {
   "cell_type": "code",
   "execution_count": 154,
   "id": "dde42ec4-07f6-4ee3-a97f-5520925541b1",
   "metadata": {},
   "outputs": [
    {
     "data": {
      "text/plain": [
       "10×10 OffsetArray(::Matrix{ComplexF64}, 0:9, 0:9) with eltype ComplexF64 with indices 0:9×0:9:\n",
       " 0.00163509+0.999999im   0.285763+0.9583im     …    0.857324-0.514777im\n",
       "    0.48143+0.876485im  -0.982476+0.186389im       -0.697065+0.717008im\n",
       "  -0.978167+0.207821im   0.604138+0.79688im        -0.985228+0.171246im\n",
       "    0.78589-0.618367im  -0.380902+0.924615im       -0.570605+0.821225im\n",
       "  -0.972366+0.23346im     0.32284-0.946454im        0.467586+0.883948im\n",
       "  -0.760918-0.648848im   0.998838-0.0481857im  …   -0.970078-0.242794im\n",
       " -0.0914562-0.995809im  -0.853892-0.520451im        -0.25856-0.965995im\n",
       "  -0.992672+0.120841im  -0.808415+0.588613im        0.279452+0.96016im\n",
       "   0.980437-0.196833im   0.380447+0.924803im      -0.0076575-0.999971im\n",
       "   0.955999+0.293371im  -0.955126-0.296201im      -0.0458815+0.998947im"
      ]
     },
     "execution_count": 154,
     "metadata": {},
     "output_type": "execute_result"
    }
   ],
   "source": [
    "UU[:,:,0]"
   ]
  },
  {
   "cell_type": "code",
   "execution_count": 155,
   "id": "d7150af7-e9b0-420b-8185-21641c15c67c",
   "metadata": {},
   "outputs": [
    {
     "data": {
      "text/plain": [
       "10×10×2 Array{ComplexF64, 3}:\n",
       "[:, :, 1] =\n",
       " 0.00163509+0.999999im   0.285763+0.9583im     …    0.857324-0.514777im\n",
       "    0.48143+0.876485im  -0.982476+0.186389im       -0.697065+0.717008im\n",
       "  -0.978167+0.207821im   0.604138+0.79688im        -0.985228+0.171246im\n",
       "    0.78589-0.618367im  -0.380902+0.924615im       -0.570605+0.821225im\n",
       "  -0.972366+0.23346im     0.32284-0.946454im        0.467586+0.883948im\n",
       "  -0.760918-0.648848im   0.998838-0.0481857im  …   -0.970078-0.242794im\n",
       " -0.0914562-0.995809im  -0.853892-0.520451im        -0.25856-0.965995im\n",
       "  -0.992672+0.120841im  -0.808415+0.588613im        0.279452+0.96016im\n",
       "   0.980437-0.196833im   0.380447+0.924803im      -0.0076575-0.999971im\n",
       "   0.955999+0.293371im  -0.955126-0.296201im      -0.0458815+0.998947im\n",
       "\n",
       "[:, :, 2] =\n",
       " -0.921215-0.389054im    0.935704-0.352786im  …  -0.819825+0.572615im\n",
       " -0.165691+0.986178im   -0.615573-0.78808im      -0.408947+0.912558im\n",
       " 0.0459272-0.998945im    0.238235+0.971207im      0.848795-0.528722im\n",
       "  0.669975-0.742384im   -0.567089+0.823657im      0.414213+0.91018im\n",
       " -0.999589+0.0286617im  -0.152776+0.988261im     -0.993283-0.115708im\n",
       " -0.913119+0.407693im    0.889888+0.456179im  …  -0.540053-0.841631im\n",
       "  0.142748+0.989759im   -0.880126+0.474739im      0.965384-0.260833im\n",
       "  0.854043-0.520202im    0.199617-0.979874im      0.366451-0.930437im\n",
       "  0.313725-0.949514im   -0.237973+0.971272im      0.978597-0.205787im\n",
       " -0.260896+0.965367im   -0.750499+0.660871im      -0.85957-0.511018im"
      ]
     },
     "execution_count": 155,
     "metadata": {},
     "output_type": "execute_result"
    }
   ],
   "source": [
    "UU = OffsetArrays.no_offset_view(UU)"
   ]
  },
  {
   "cell_type": "code",
   "execution_count": 156,
   "id": "latest-domestic",
   "metadata": {},
   "outputs": [
    {
     "data": {
      "text/plain": [
       "-2.518429760051489 + 8.661541324215172im"
      ]
     },
     "execution_count": 156,
     "metadata": {},
     "output_type": "execute_result"
    }
   ],
   "source": [
    "F12 = calc_F12(UU)\n",
    "sum(F12)/(2*pi*1im)"
   ]
  },
  {
   "cell_type": "code",
   "execution_count": null,
   "id": "577bedac-b139-43f0-a6f1-5f515fd52d59",
   "metadata": {},
   "outputs": [],
   "source": []
  },
  {
   "cell_type": "code",
   "execution_count": null,
   "id": "32c637da-6a5a-4b60-9476-35700ced4db9",
   "metadata": {},
   "outputs": [],
   "source": []
  },
  {
   "cell_type": "code",
   "execution_count": null,
   "id": "1299db89-1128-49c0-8963-dc7dbb6cb5ad",
   "metadata": {},
   "outputs": [],
   "source": []
  },
  {
   "cell_type": "code",
   "execution_count": null,
   "id": "cb6778d0-e001-4dfc-936e-e979c7d7f729",
   "metadata": {},
   "outputs": [],
   "source": []
  },
  {
   "cell_type": "code",
   "execution_count": null,
   "id": "559cc1e7-2316-4678-8374-dc72702225fd",
   "metadata": {},
   "outputs": [],
   "source": []
  },
  {
   "cell_type": "code",
   "execution_count": null,
   "id": "1fc28b33-bf56-4a76-bb44-32e9abf911f7",
   "metadata": {},
   "outputs": [],
   "source": []
  },
  {
   "cell_type": "code",
   "execution_count": 1,
   "id": "aa6ade9a-4000-498f-a004-39cd85bbc48a",
   "metadata": {},
   "outputs": [],
   "source": [
    "using NBInclude\n",
    "@nbinclude(\"../Hofstadter Single Particle in Theta Space.ipynb\")\n",
    "using QuantumOptics\n",
    "using LinearAlgebra"
   ]
  },
  {
   "cell_type": "code",
   "execution_count": 2,
   "id": "3054e40b-7855-410c-9b6a-b5ce91a58e20",
   "metadata": {},
   "outputs": [],
   "source": [
    "Nx=Ny=3\n",
    "N=Nx*Ny\n",
    "p=1\n",
    "q=Ny\n",
    "alpha=p/q\n",
    "PN=2\n",
    "N1 = 10\n",
    "N2 = 10\n",
    "dx=2*pi/N1\n",
    "dy=dx\n",
    "Tx=collect(range(start=0, stop=2*pi-dx, step=dx))\n",
    "Ty=collect(range(start=0, stop=2*pi-dy, step=dy));"
   ]
  },
  {
   "cell_type": "code",
   "execution_count": 3,
   "id": "a6caba23-a32b-4671-9b7e-190e03c7ba4f",
   "metadata": {},
   "outputs": [
    {
     "data": {
      "text/plain": [
       "Op_Sp (generic function with 1 method)"
      ]
     },
     "execution_count": 3,
     "metadata": {},
     "output_type": "execute_result"
    }
   ],
   "source": [
    "function Op_Sp(Nx, Ny, alpha, Tx, Ty)\n",
    "    \n",
    "    H_T = HSP_T(Nx, Ny, alpha, Tx, Ty, 0)\n",
    "   \n",
    "    N = Nx*Ny\n",
    "    basis = NLevelBasis(N) \n",
    "    \n",
    "    H = SparseOperator(basis)\n",
    "    \n",
    "    for m in 1:N\n",
    "        for n in 1:N\n",
    "            H = H + H_T[m,n] * transition(basis, m, n)\n",
    "        end\n",
    "    end\n",
    "    \n",
    "    return H\n",
    "end"
   ]
  },
  {
   "cell_type": "code",
   "execution_count": 8,
   "id": "3e87d920-7ec3-4267-b162-d255b39a1494",
   "metadata": {},
   "outputs": [
    {
     "data": {
      "text/plain": [
       "9×9 Matrix{ComplexF64}:\n",
       "  0.0+0.0im  -1.0+0.0im  -1.0-0.0im  …   0.0+0.0im        0.0+0.0im\n",
       " -1.0-0.0im   0.0+0.0im  -1.0+0.0im     -1.0-0.0im        0.0+0.0im\n",
       " -1.0+0.0im  -1.0-0.0im   0.0+0.0im      0.0+0.0im       -1.0-0.0im\n",
       " -1.0+0.0im   0.0+0.0im   0.0+0.0im      0.0+0.0im        0.0+0.0im\n",
       "  0.0+0.0im  -1.0+0.0im   0.0+0.0im     -1.0+0.0im        0.0+0.0im\n",
       "  0.0+0.0im   0.0+0.0im  -1.0+0.0im  …   0.0+0.0im       -1.0+0.0im\n",
       " -1.0-0.0im   0.0+0.0im   0.0+0.0im      0.5-0.866025im   0.5+0.866025im\n",
       "  0.0+0.0im  -1.0-0.0im   0.0+0.0im      0.0+0.0im        0.5-0.866025im\n",
       "  0.0+0.0im   0.0+0.0im  -1.0-0.0im      0.5+0.866025im   0.0+0.0im"
      ]
     },
     "execution_count": 8,
     "metadata": {},
     "output_type": "execute_result"
    }
   ],
   "source": [
    "HSP_T(Nx, Ny, alpha, 0, 0, 0)"
   ]
  },
  {
   "cell_type": "code",
   "execution_count": 17,
   "id": "df160811-05e1-4c9c-bd0e-2539f86e2f45",
   "metadata": {},
   "outputs": [],
   "source": [
    "op = Op_Sp(Nx, Ny, alpha, Tx[1], Ty[1]);"
   ]
  },
  {
   "cell_type": "code",
   "execution_count": 24,
   "id": "5d301078-032c-4fab-a5cd-cf12d1afb7a9",
   "metadata": {},
   "outputs": [
    {
     "data": {
      "text/plain": [
       "get_mb_op (generic function with 2 methods)"
      ]
     },
     "execution_count": 24,
     "metadata": {},
     "output_type": "execute_result"
    }
   ],
   "source": [
    "basis = NLevelBasis(N)\n",
    "states = bosonstates(basis, PN)\n",
    "function get_mb_op(PN, op)\n",
    "    basis = NLevelBasis(N)\n",
    "    states = bosonstates(basis, PN)\n",
    "    basis_mb = ManyBodyBasis(basis, states)\n",
    "    \n",
    "    H = SparseOperator(basis_mb) \n",
    "    for m in 1:N\n",
    "        for n in 1:N\n",
    "            H += op.data[m,n] * transition(basis_mb, m, n)\n",
    "            #H += H_T[m,n] * transition(basis_mb, m, n)\n",
    "        end\n",
    "    end\n",
    "    \n",
    "    return H\n",
    "end"
   ]
  },
  {
   "cell_type": "code",
   "execution_count": 19,
   "id": "daecec80-3118-4c9e-956b-dabf067ad8f6",
   "metadata": {},
   "outputs": [
    {
     "data": {
      "text/plain": [
       "45-element Vector{Float64}:\n",
       " -5.464101615137781\n",
       " -5.464101615137772\n",
       " -5.464101615137769\n",
       " -5.464101615137767\n",
       " -5.464101615137751\n",
       " -5.464101615137711\n",
       " -2.000000000000006\n",
       " -2.000000000000002\n",
       " -1.9999999999999993\n",
       " -1.999999999999999\n",
       " -1.9999999999999976\n",
       " -1.999999999999996\n",
       " -1.9999999999999936\n",
       "  ⋮\n",
       "  2.732050807568877\n",
       "  2.7320508075688776\n",
       "  2.7320508075688776\n",
       "  2.732050807568878\n",
       "  2.7320508075688794\n",
       "  2.7320508075688807\n",
       "  3.9999999999999987\n",
       "  3.9999999999999996\n",
       "  4.000000000000001\n",
       "  4.000000000000002\n",
       "  4.000000000000002\n",
       "  4.0000000000000036"
      ]
     },
     "execution_count": 19,
     "metadata": {},
     "output_type": "execute_result"
    }
   ],
   "source": [
    "En, Un = eigen(dense(get_mb_op(op, PN)).data)\n",
    "En"
   ]
  },
  {
   "cell_type": "code",
   "execution_count": 21,
   "id": "5baf469f-9cf4-42ba-b083-0f137800f428",
   "metadata": {},
   "outputs": [
    {
     "data": {
      "image/svg+xml": [
       "<?xml version=\"1.0\" encoding=\"utf-8\"?>\n",
       "<svg xmlns=\"http://www.w3.org/2000/svg\" xmlns:xlink=\"http://www.w3.org/1999/xlink\" width=\"600\" height=\"400\" viewBox=\"0 0 2400 1600\">\n",
       "<defs>\n",
       "  <clipPath id=\"clip890\">\n",
       "    <rect x=\"0\" y=\"0\" width=\"2400\" height=\"1600\"/>\n",
       "  </clipPath>\n",
       "</defs>\n",
       "<path clip-path=\"url(#clip890)\" d=\"M0 1600 L2400 1600 L2400 0 L0 0  Z\" fill=\"#ffffff\" fill-rule=\"evenodd\" fill-opacity=\"1\"/>\n",
       "<defs>\n",
       "  <clipPath id=\"clip891\">\n",
       "    <rect x=\"480\" y=\"0\" width=\"1681\" height=\"1600\"/>\n",
       "  </clipPath>\n",
       "</defs>\n",
       "<path clip-path=\"url(#clip890)\" d=\"M149.191 1486.45 L2352.76 1486.45 L2352.76 47.2441 L149.191 47.2441  Z\" fill=\"#ffffff\" fill-rule=\"evenodd\" fill-opacity=\"1\"/>\n",
       "<defs>\n",
       "  <clipPath id=\"clip892\">\n",
       "    <rect x=\"149\" y=\"47\" width=\"2205\" height=\"1440\"/>\n",
       "  </clipPath>\n",
       "</defs>\n",
       "<polyline clip-path=\"url(#clip892)\" style=\"stroke:#000000; stroke-linecap:round; stroke-linejoin:round; stroke-width:2; stroke-opacity:0.1; fill:none\" points=\"164.31,1486.45 164.31,47.2441 \"/>\n",
       "<polyline clip-path=\"url(#clip892)\" style=\"stroke:#000000; stroke-linecap:round; stroke-linejoin:round; stroke-width:2; stroke-opacity:0.1; fill:none\" points=\"636.772,1486.45 636.772,47.2441 \"/>\n",
       "<polyline clip-path=\"url(#clip892)\" style=\"stroke:#000000; stroke-linecap:round; stroke-linejoin:round; stroke-width:2; stroke-opacity:0.1; fill:none\" points=\"1109.23,1486.45 1109.23,47.2441 \"/>\n",
       "<polyline clip-path=\"url(#clip892)\" style=\"stroke:#000000; stroke-linecap:round; stroke-linejoin:round; stroke-width:2; stroke-opacity:0.1; fill:none\" points=\"1581.7,1486.45 1581.7,47.2441 \"/>\n",
       "<polyline clip-path=\"url(#clip892)\" style=\"stroke:#000000; stroke-linecap:round; stroke-linejoin:round; stroke-width:2; stroke-opacity:0.1; fill:none\" points=\"2054.16,1486.45 2054.16,47.2441 \"/>\n",
       "<polyline clip-path=\"url(#clip890)\" style=\"stroke:#000000; stroke-linecap:round; stroke-linejoin:round; stroke-width:4; stroke-opacity:1; fill:none\" points=\"149.191,1486.45 2352.76,1486.45 \"/>\n",
       "<polyline clip-path=\"url(#clip890)\" style=\"stroke:#000000; stroke-linecap:round; stroke-linejoin:round; stroke-width:4; stroke-opacity:1; fill:none\" points=\"164.31,1486.45 164.31,1467.55 \"/>\n",
       "<polyline clip-path=\"url(#clip890)\" style=\"stroke:#000000; stroke-linecap:round; stroke-linejoin:round; stroke-width:4; stroke-opacity:1; fill:none\" points=\"636.772,1486.45 636.772,1467.55 \"/>\n",
       "<polyline clip-path=\"url(#clip890)\" style=\"stroke:#000000; stroke-linecap:round; stroke-linejoin:round; stroke-width:4; stroke-opacity:1; fill:none\" points=\"1109.23,1486.45 1109.23,1467.55 \"/>\n",
       "<polyline clip-path=\"url(#clip890)\" style=\"stroke:#000000; stroke-linecap:round; stroke-linejoin:round; stroke-width:4; stroke-opacity:1; fill:none\" points=\"1581.7,1486.45 1581.7,1467.55 \"/>\n",
       "<polyline clip-path=\"url(#clip890)\" style=\"stroke:#000000; stroke-linecap:round; stroke-linejoin:round; stroke-width:4; stroke-opacity:1; fill:none\" points=\"2054.16,1486.45 2054.16,1467.55 \"/>\n",
       "<path clip-path=\"url(#clip890)\" d=\"M164.31 1517.37 Q160.699 1517.37 158.87 1520.93 Q157.064 1524.47 157.064 1531.6 Q157.064 1538.71 158.87 1542.27 Q160.699 1545.82 164.31 1545.82 Q167.944 1545.82 169.749 1542.27 Q171.578 1538.71 171.578 1531.6 Q171.578 1524.47 169.749 1520.93 Q167.944 1517.37 164.31 1517.37 M164.31 1513.66 Q170.12 1513.66 173.175 1518.27 Q176.254 1522.85 176.254 1531.6 Q176.254 1540.33 173.175 1544.94 Q170.12 1549.52 164.31 1549.52 Q158.5 1549.52 155.421 1544.94 Q152.365 1540.33 152.365 1531.6 Q152.365 1522.85 155.421 1518.27 Q158.5 1513.66 164.31 1513.66 Z\" fill=\"#000000\" fill-rule=\"nonzero\" fill-opacity=\"1\" /><path clip-path=\"url(#clip890)\" d=\"M611.46 1544.91 L619.099 1544.91 L619.099 1518.55 L610.788 1520.21 L610.788 1515.95 L619.052 1514.29 L623.728 1514.29 L623.728 1544.91 L631.367 1544.91 L631.367 1548.85 L611.46 1548.85 L611.46 1544.91 Z\" fill=\"#000000\" fill-rule=\"nonzero\" fill-opacity=\"1\" /><path clip-path=\"url(#clip890)\" d=\"M650.811 1517.37 Q647.2 1517.37 645.372 1520.93 Q643.566 1524.47 643.566 1531.6 Q643.566 1538.71 645.372 1542.27 Q647.2 1545.82 650.811 1545.82 Q654.446 1545.82 656.251 1542.27 Q658.08 1538.71 658.08 1531.6 Q658.08 1524.47 656.251 1520.93 Q654.446 1517.37 650.811 1517.37 M650.811 1513.66 Q656.622 1513.66 659.677 1518.27 Q662.756 1522.85 662.756 1531.6 Q662.756 1540.33 659.677 1544.94 Q656.622 1549.52 650.811 1549.52 Q645.001 1549.52 641.923 1544.94 Q638.867 1540.33 638.867 1531.6 Q638.867 1522.85 641.923 1518.27 Q645.001 1513.66 650.811 1513.66 Z\" fill=\"#000000\" fill-rule=\"nonzero\" fill-opacity=\"1\" /><path clip-path=\"url(#clip890)\" d=\"M1088.01 1544.91 L1104.33 1544.91 L1104.33 1548.85 L1082.38 1548.85 L1082.38 1544.91 Q1085.04 1542.16 1089.63 1537.53 Q1094.23 1532.88 1095.42 1531.53 Q1097.66 1529.01 1098.54 1527.27 Q1099.44 1525.51 1099.44 1523.82 Q1099.44 1521.07 1097.5 1519.33 Q1095.58 1517.6 1092.48 1517.6 Q1090.28 1517.6 1087.82 1518.36 Q1085.39 1519.13 1082.61 1520.68 L1082.61 1515.95 Q1085.44 1514.82 1087.89 1514.24 Q1090.35 1513.66 1092.38 1513.66 Q1097.75 1513.66 1100.95 1516.35 Q1104.14 1519.03 1104.14 1523.52 Q1104.14 1525.65 1103.33 1527.57 Q1102.54 1529.47 1100.44 1532.07 Q1099.86 1532.74 1096.76 1535.95 Q1093.66 1539.15 1088.01 1544.91 Z\" fill=\"#000000\" fill-rule=\"nonzero\" fill-opacity=\"1\" /><path clip-path=\"url(#clip890)\" d=\"M1124.14 1517.37 Q1120.53 1517.37 1118.7 1520.93 Q1116.9 1524.47 1116.9 1531.6 Q1116.9 1538.71 1118.7 1542.27 Q1120.53 1545.82 1124.14 1545.82 Q1127.78 1545.82 1129.58 1542.27 Q1131.41 1538.71 1131.41 1531.6 Q1131.41 1524.47 1129.58 1520.93 Q1127.78 1517.37 1124.14 1517.37 M1124.14 1513.66 Q1129.95 1513.66 1133.01 1518.27 Q1136.09 1522.85 1136.09 1531.6 Q1136.09 1540.33 1133.01 1544.94 Q1129.95 1549.52 1124.14 1549.52 Q1118.33 1549.52 1115.25 1544.94 Q1112.2 1540.33 1112.2 1531.6 Q1112.2 1522.85 1115.25 1518.27 Q1118.33 1513.66 1124.14 1513.66 Z\" fill=\"#000000\" fill-rule=\"nonzero\" fill-opacity=\"1\" /><path clip-path=\"url(#clip890)\" d=\"M1570.54 1530.21 Q1573.9 1530.93 1575.77 1533.2 Q1577.67 1535.47 1577.67 1538.8 Q1577.67 1543.92 1574.15 1546.72 Q1570.63 1549.52 1564.15 1549.52 Q1561.98 1549.52 1559.66 1549.08 Q1557.37 1548.66 1554.91 1547.81 L1554.91 1543.29 Q1556.86 1544.43 1559.17 1545.01 Q1561.49 1545.58 1564.01 1545.58 Q1568.41 1545.58 1570.7 1543.85 Q1573.02 1542.11 1573.02 1538.8 Q1573.02 1535.75 1570.86 1534.03 Q1568.73 1532.3 1564.91 1532.3 L1560.89 1532.3 L1560.89 1528.45 L1565.1 1528.45 Q1568.55 1528.45 1570.38 1527.09 Q1572.21 1525.7 1572.21 1523.11 Q1572.21 1520.45 1570.31 1519.03 Q1568.43 1517.6 1564.91 1517.6 Q1562.99 1517.6 1560.79 1518.01 Q1558.6 1518.43 1555.96 1519.31 L1555.96 1515.14 Q1558.62 1514.4 1560.93 1514.03 Q1563.27 1513.66 1565.33 1513.66 Q1570.66 1513.66 1573.76 1516.09 Q1576.86 1518.5 1576.86 1522.62 Q1576.86 1525.49 1575.22 1527.48 Q1573.57 1529.45 1570.54 1530.21 Z\" fill=\"#000000\" fill-rule=\"nonzero\" fill-opacity=\"1\" /><path clip-path=\"url(#clip890)\" d=\"M1596.54 1517.37 Q1592.92 1517.37 1591.1 1520.93 Q1589.29 1524.47 1589.29 1531.6 Q1589.29 1538.71 1591.1 1542.27 Q1592.92 1545.82 1596.54 1545.82 Q1600.17 1545.82 1601.97 1542.27 Q1603.8 1538.71 1603.8 1531.6 Q1603.8 1524.47 1601.97 1520.93 Q1600.17 1517.37 1596.54 1517.37 M1596.54 1513.66 Q1602.35 1513.66 1605.4 1518.27 Q1608.48 1522.85 1608.48 1531.6 Q1608.48 1540.33 1605.4 1544.94 Q1602.35 1549.52 1596.54 1549.52 Q1590.72 1549.52 1587.65 1544.94 Q1584.59 1540.33 1584.59 1531.6 Q1584.59 1522.85 1587.65 1518.27 Q1590.72 1513.66 1596.54 1513.66 Z\" fill=\"#000000\" fill-rule=\"nonzero\" fill-opacity=\"1\" /><path clip-path=\"url(#clip890)\" d=\"M2042.33 1518.36 L2030.53 1536.81 L2042.33 1536.81 L2042.33 1518.36 M2041.1 1514.29 L2046.98 1514.29 L2046.98 1536.81 L2051.91 1536.81 L2051.91 1540.7 L2046.98 1540.7 L2046.98 1548.85 L2042.33 1548.85 L2042.33 1540.7 L2026.73 1540.7 L2026.73 1536.19 L2041.1 1514.29 Z\" fill=\"#000000\" fill-rule=\"nonzero\" fill-opacity=\"1\" /><path clip-path=\"url(#clip890)\" d=\"M2069.65 1517.37 Q2066.03 1517.37 2064.21 1520.93 Q2062.4 1524.47 2062.4 1531.6 Q2062.4 1538.71 2064.21 1542.27 Q2066.03 1545.82 2069.65 1545.82 Q2073.28 1545.82 2075.09 1542.27 Q2076.91 1538.71 2076.91 1531.6 Q2076.91 1524.47 2075.09 1520.93 Q2073.28 1517.37 2069.65 1517.37 M2069.65 1513.66 Q2075.46 1513.66 2078.51 1518.27 Q2081.59 1522.85 2081.59 1531.6 Q2081.59 1540.33 2078.51 1544.94 Q2075.46 1549.52 2069.65 1549.52 Q2063.84 1549.52 2060.76 1544.94 Q2057.7 1540.33 2057.7 1531.6 Q2057.7 1522.85 2060.76 1518.27 Q2063.84 1513.66 2069.65 1513.66 Z\" fill=\"#000000\" fill-rule=\"nonzero\" fill-opacity=\"1\" /><polyline clip-path=\"url(#clip892)\" style=\"stroke:#000000; stroke-linecap:round; stroke-linejoin:round; stroke-width:2; stroke-opacity:0.1; fill:none\" points=\"149.191,1235.67 2352.76,1235.67 \"/>\n",
       "<polyline clip-path=\"url(#clip892)\" style=\"stroke:#000000; stroke-linecap:round; stroke-linejoin:round; stroke-width:2; stroke-opacity:0.1; fill:none\" points=\"149.191,948.749 2352.76,948.749 \"/>\n",
       "<polyline clip-path=\"url(#clip892)\" style=\"stroke:#000000; stroke-linecap:round; stroke-linejoin:round; stroke-width:2; stroke-opacity:0.1; fill:none\" points=\"149.191,661.824 2352.76,661.824 \"/>\n",
       "<polyline clip-path=\"url(#clip892)\" style=\"stroke:#000000; stroke-linecap:round; stroke-linejoin:round; stroke-width:2; stroke-opacity:0.1; fill:none\" points=\"149.191,374.9 2352.76,374.9 \"/>\n",
       "<polyline clip-path=\"url(#clip892)\" style=\"stroke:#000000; stroke-linecap:round; stroke-linejoin:round; stroke-width:2; stroke-opacity:0.1; fill:none\" points=\"149.191,87.9763 2352.76,87.9763 \"/>\n",
       "<polyline clip-path=\"url(#clip890)\" style=\"stroke:#000000; stroke-linecap:round; stroke-linejoin:round; stroke-width:4; stroke-opacity:1; fill:none\" points=\"149.191,1486.45 149.191,47.2441 \"/>\n",
       "<polyline clip-path=\"url(#clip890)\" style=\"stroke:#000000; stroke-linecap:round; stroke-linejoin:round; stroke-width:4; stroke-opacity:1; fill:none\" points=\"149.191,1235.67 168.089,1235.67 \"/>\n",
       "<polyline clip-path=\"url(#clip890)\" style=\"stroke:#000000; stroke-linecap:round; stroke-linejoin:round; stroke-width:4; stroke-opacity:1; fill:none\" points=\"149.191,948.749 168.089,948.749 \"/>\n",
       "<polyline clip-path=\"url(#clip890)\" style=\"stroke:#000000; stroke-linecap:round; stroke-linejoin:round; stroke-width:4; stroke-opacity:1; fill:none\" points=\"149.191,661.824 168.089,661.824 \"/>\n",
       "<polyline clip-path=\"url(#clip890)\" style=\"stroke:#000000; stroke-linecap:round; stroke-linejoin:round; stroke-width:4; stroke-opacity:1; fill:none\" points=\"149.191,374.9 168.089,374.9 \"/>\n",
       "<polyline clip-path=\"url(#clip890)\" style=\"stroke:#000000; stroke-linecap:round; stroke-linejoin:round; stroke-width:4; stroke-opacity:1; fill:none\" points=\"149.191,87.9763 168.089,87.9763 \"/>\n",
       "<path clip-path=\"url(#clip890)\" d=\"M50.9921 1236.12 L80.6679 1236.12 L80.6679 1240.06 L50.9921 1240.06 L50.9921 1236.12 Z\" fill=\"#000000\" fill-rule=\"nonzero\" fill-opacity=\"1\" /><path clip-path=\"url(#clip890)\" d=\"M103.608 1222.47 L91.8021 1240.92 L103.608 1240.92 L103.608 1222.47 M102.381 1218.39 L108.26 1218.39 L108.26 1240.92 L113.191 1240.92 L113.191 1244.8 L108.26 1244.8 L108.26 1252.95 L103.608 1252.95 L103.608 1244.8 L88.0058 1244.8 L88.0058 1240.29 L102.381 1218.39 Z\" fill=\"#000000\" fill-rule=\"nonzero\" fill-opacity=\"1\" /><path clip-path=\"url(#clip890)\" d=\"M53.0754 949.2 L82.7512 949.2 L82.7512 953.135 L53.0754 953.135 L53.0754 949.2 Z\" fill=\"#000000\" fill-rule=\"nonzero\" fill-opacity=\"1\" /><path clip-path=\"url(#clip890)\" d=\"M96.8715 962.093 L113.191 962.093 L113.191 966.029 L91.2465 966.029 L91.2465 962.093 Q93.9086 959.339 98.4919 954.709 Q103.098 950.056 104.279 948.714 Q106.524 946.191 107.404 944.455 Q108.307 942.695 108.307 941.006 Q108.307 938.251 106.362 936.515 Q104.441 934.779 101.339 934.779 Q99.14 934.779 96.6863 935.543 Q94.2558 936.307 91.478 937.857 L91.478 933.135 Q94.3021 932.001 96.7558 931.422 Q99.2095 930.844 101.246 930.844 Q106.617 930.844 109.811 933.529 Q113.006 936.214 113.006 940.705 Q113.006 942.834 112.196 944.756 Q111.408 946.654 109.302 949.246 Q108.723 949.918 105.621 953.135 Q102.52 956.33 96.8715 962.093 Z\" fill=\"#000000\" fill-rule=\"nonzero\" fill-opacity=\"1\" /><path clip-path=\"url(#clip890)\" d=\"M101.246 647.623 Q97.6354 647.623 95.8067 651.188 Q94.0012 654.73 94.0012 661.859 Q94.0012 668.966 95.8067 672.53 Q97.6354 676.072 101.246 676.072 Q104.881 676.072 106.686 672.53 Q108.515 668.966 108.515 661.859 Q108.515 654.73 106.686 651.188 Q104.881 647.623 101.246 647.623 M101.246 643.919 Q107.057 643.919 110.112 648.526 Q113.191 653.109 113.191 661.859 Q113.191 670.586 110.112 675.192 Q107.057 679.776 101.246 679.776 Q95.4363 679.776 92.3576 675.192 Q89.3021 670.586 89.3021 661.859 Q89.3021 653.109 92.3576 648.526 Q95.4363 643.919 101.246 643.919 Z\" fill=\"#000000\" fill-rule=\"nonzero\" fill-opacity=\"1\" /><path clip-path=\"url(#clip890)\" d=\"M96.8715 388.245 L113.191 388.245 L113.191 392.18 L91.2465 392.18 L91.2465 388.245 Q93.9086 385.491 98.4919 380.861 Q103.098 376.208 104.279 374.866 Q106.524 372.343 107.404 370.606 Q108.307 368.847 108.307 367.157 Q108.307 364.403 106.362 362.667 Q104.441 360.931 101.339 360.931 Q99.14 360.931 96.6863 361.694 Q94.2558 362.458 91.478 364.009 L91.478 359.287 Q94.3021 358.153 96.7558 357.574 Q99.2095 356.995 101.246 356.995 Q106.617 356.995 109.811 359.681 Q113.006 362.366 113.006 366.856 Q113.006 368.986 112.196 370.907 Q111.408 372.805 109.302 375.398 Q108.723 376.069 105.621 379.287 Q102.52 382.481 96.8715 388.245 Z\" fill=\"#000000\" fill-rule=\"nonzero\" fill-opacity=\"1\" /><path clip-path=\"url(#clip890)\" d=\"M103.608 74.7703 L91.8021 93.2193 L103.608 93.2193 L103.608 74.7703 M102.381 70.6963 L108.26 70.6963 L108.26 93.2193 L113.191 93.2193 L113.191 97.1082 L108.26 97.1082 L108.26 105.256 L103.608 105.256 L103.608 97.1082 L88.0058 97.1082 L88.0058 92.5943 L102.381 70.6963 Z\" fill=\"#000000\" fill-rule=\"nonzero\" fill-opacity=\"1\" /><circle clip-path=\"url(#clip892)\" cx=\"211.556\" cy=\"1445.72\" r=\"14.4\" fill=\"#009af9\" fill-rule=\"evenodd\" fill-opacity=\"1\" stroke=\"#000000\" stroke-opacity=\"1\" stroke-width=\"3.2\"/>\n",
       "<circle clip-path=\"url(#clip892)\" cx=\"258.802\" cy=\"1445.72\" r=\"14.4\" fill=\"#009af9\" fill-rule=\"evenodd\" fill-opacity=\"1\" stroke=\"#000000\" stroke-opacity=\"1\" stroke-width=\"3.2\"/>\n",
       "<circle clip-path=\"url(#clip892)\" cx=\"306.048\" cy=\"1445.72\" r=\"14.4\" fill=\"#009af9\" fill-rule=\"evenodd\" fill-opacity=\"1\" stroke=\"#000000\" stroke-opacity=\"1\" stroke-width=\"3.2\"/>\n",
       "<circle clip-path=\"url(#clip892)\" cx=\"353.295\" cy=\"1445.72\" r=\"14.4\" fill=\"#009af9\" fill-rule=\"evenodd\" fill-opacity=\"1\" stroke=\"#000000\" stroke-opacity=\"1\" stroke-width=\"3.2\"/>\n",
       "<circle clip-path=\"url(#clip892)\" cx=\"400.541\" cy=\"1445.72\" r=\"14.4\" fill=\"#009af9\" fill-rule=\"evenodd\" fill-opacity=\"1\" stroke=\"#000000\" stroke-opacity=\"1\" stroke-width=\"3.2\"/>\n",
       "<circle clip-path=\"url(#clip892)\" cx=\"447.787\" cy=\"1445.72\" r=\"14.4\" fill=\"#009af9\" fill-rule=\"evenodd\" fill-opacity=\"1\" stroke=\"#000000\" stroke-opacity=\"1\" stroke-width=\"3.2\"/>\n",
       "<circle clip-path=\"url(#clip892)\" cx=\"495.033\" cy=\"948.749\" r=\"14.4\" fill=\"#009af9\" fill-rule=\"evenodd\" fill-opacity=\"1\" stroke=\"#000000\" stroke-opacity=\"1\" stroke-width=\"3.2\"/>\n",
       "<circle clip-path=\"url(#clip892)\" cx=\"542.28\" cy=\"948.749\" r=\"14.4\" fill=\"#009af9\" fill-rule=\"evenodd\" fill-opacity=\"1\" stroke=\"#000000\" stroke-opacity=\"1\" stroke-width=\"3.2\"/>\n",
       "<circle clip-path=\"url(#clip892)\" cx=\"589.526\" cy=\"948.749\" r=\"14.4\" fill=\"#009af9\" fill-rule=\"evenodd\" fill-opacity=\"1\" stroke=\"#000000\" stroke-opacity=\"1\" stroke-width=\"3.2\"/>\n",
       "<circle clip-path=\"url(#clip892)\" cx=\"636.772\" cy=\"948.749\" r=\"14.4\" fill=\"#009af9\" fill-rule=\"evenodd\" fill-opacity=\"1\" stroke=\"#000000\" stroke-opacity=\"1\" stroke-width=\"3.2\"/>\n",
       "<circle clip-path=\"url(#clip892)\" cx=\"684.018\" cy=\"948.749\" r=\"14.4\" fill=\"#009af9\" fill-rule=\"evenodd\" fill-opacity=\"1\" stroke=\"#000000\" stroke-opacity=\"1\" stroke-width=\"3.2\"/>\n",
       "<circle clip-path=\"url(#clip892)\" cx=\"731.265\" cy=\"948.749\" r=\"14.4\" fill=\"#009af9\" fill-rule=\"evenodd\" fill-opacity=\"1\" stroke=\"#000000\" stroke-opacity=\"1\" stroke-width=\"3.2\"/>\n",
       "<circle clip-path=\"url(#clip892)\" cx=\"778.511\" cy=\"948.749\" r=\"14.4\" fill=\"#009af9\" fill-rule=\"evenodd\" fill-opacity=\"1\" stroke=\"#000000\" stroke-opacity=\"1\" stroke-width=\"3.2\"/>\n",
       "<circle clip-path=\"url(#clip892)\" cx=\"825.757\" cy=\"948.749\" r=\"14.4\" fill=\"#009af9\" fill-rule=\"evenodd\" fill-opacity=\"1\" stroke=\"#000000\" stroke-opacity=\"1\" stroke-width=\"3.2\"/>\n",
       "<circle clip-path=\"url(#clip892)\" cx=\"873.003\" cy=\"948.749\" r=\"14.4\" fill=\"#009af9\" fill-rule=\"evenodd\" fill-opacity=\"1\" stroke=\"#000000\" stroke-opacity=\"1\" stroke-width=\"3.2\"/>\n",
       "<circle clip-path=\"url(#clip892)\" cx=\"920.25\" cy=\"766.846\" r=\"14.4\" fill=\"#009af9\" fill-rule=\"evenodd\" fill-opacity=\"1\" stroke=\"#000000\" stroke-opacity=\"1\" stroke-width=\"3.2\"/>\n",
       "<circle clip-path=\"url(#clip892)\" cx=\"967.496\" cy=\"766.846\" r=\"14.4\" fill=\"#009af9\" fill-rule=\"evenodd\" fill-opacity=\"1\" stroke=\"#000000\" stroke-opacity=\"1\" stroke-width=\"3.2\"/>\n",
       "<circle clip-path=\"url(#clip892)\" cx=\"1014.74\" cy=\"766.846\" r=\"14.4\" fill=\"#009af9\" fill-rule=\"evenodd\" fill-opacity=\"1\" stroke=\"#000000\" stroke-opacity=\"1\" stroke-width=\"3.2\"/>\n",
       "<circle clip-path=\"url(#clip892)\" cx=\"1061.99\" cy=\"766.846\" r=\"14.4\" fill=\"#009af9\" fill-rule=\"evenodd\" fill-opacity=\"1\" stroke=\"#000000\" stroke-opacity=\"1\" stroke-width=\"3.2\"/>\n",
       "<circle clip-path=\"url(#clip892)\" cx=\"1109.23\" cy=\"766.846\" r=\"14.4\" fill=\"#009af9\" fill-rule=\"evenodd\" fill-opacity=\"1\" stroke=\"#000000\" stroke-opacity=\"1\" stroke-width=\"3.2\"/>\n",
       "<circle clip-path=\"url(#clip892)\" cx=\"1156.48\" cy=\"766.846\" r=\"14.4\" fill=\"#009af9\" fill-rule=\"evenodd\" fill-opacity=\"1\" stroke=\"#000000\" stroke-opacity=\"1\" stroke-width=\"3.2\"/>\n",
       "<circle clip-path=\"url(#clip892)\" cx=\"1203.73\" cy=\"766.846\" r=\"14.4\" fill=\"#009af9\" fill-rule=\"evenodd\" fill-opacity=\"1\" stroke=\"#000000\" stroke-opacity=\"1\" stroke-width=\"3.2\"/>\n",
       "<circle clip-path=\"url(#clip892)\" cx=\"1250.97\" cy=\"766.846\" r=\"14.4\" fill=\"#009af9\" fill-rule=\"evenodd\" fill-opacity=\"1\" stroke=\"#000000\" stroke-opacity=\"1\" stroke-width=\"3.2\"/>\n",
       "<circle clip-path=\"url(#clip892)\" cx=\"1298.22\" cy=\"766.846\" r=\"14.4\" fill=\"#009af9\" fill-rule=\"evenodd\" fill-opacity=\"1\" stroke=\"#000000\" stroke-opacity=\"1\" stroke-width=\"3.2\"/>\n",
       "<circle clip-path=\"url(#clip892)\" cx=\"1345.47\" cy=\"451.781\" r=\"14.4\" fill=\"#009af9\" fill-rule=\"evenodd\" fill-opacity=\"1\" stroke=\"#000000\" stroke-opacity=\"1\" stroke-width=\"3.2\"/>\n",
       "<circle clip-path=\"url(#clip892)\" cx=\"1392.71\" cy=\"451.781\" r=\"14.4\" fill=\"#009af9\" fill-rule=\"evenodd\" fill-opacity=\"1\" stroke=\"#000000\" stroke-opacity=\"1\" stroke-width=\"3.2\"/>\n",
       "<circle clip-path=\"url(#clip892)\" cx=\"1439.96\" cy=\"451.781\" r=\"14.4\" fill=\"#009af9\" fill-rule=\"evenodd\" fill-opacity=\"1\" stroke=\"#000000\" stroke-opacity=\"1\" stroke-width=\"3.2\"/>\n",
       "<circle clip-path=\"url(#clip892)\" cx=\"1487.2\" cy=\"451.781\" r=\"14.4\" fill=\"#009af9\" fill-rule=\"evenodd\" fill-opacity=\"1\" stroke=\"#000000\" stroke-opacity=\"1\" stroke-width=\"3.2\"/>\n",
       "<circle clip-path=\"url(#clip892)\" cx=\"1534.45\" cy=\"451.781\" r=\"14.4\" fill=\"#009af9\" fill-rule=\"evenodd\" fill-opacity=\"1\" stroke=\"#000000\" stroke-opacity=\"1\" stroke-width=\"3.2\"/>\n",
       "<circle clip-path=\"url(#clip892)\" cx=\"1581.7\" cy=\"451.781\" r=\"14.4\" fill=\"#009af9\" fill-rule=\"evenodd\" fill-opacity=\"1\" stroke=\"#000000\" stroke-opacity=\"1\" stroke-width=\"3.2\"/>\n",
       "<circle clip-path=\"url(#clip892)\" cx=\"1628.94\" cy=\"269.879\" r=\"14.4\" fill=\"#009af9\" fill-rule=\"evenodd\" fill-opacity=\"1\" stroke=\"#000000\" stroke-opacity=\"1\" stroke-width=\"3.2\"/>\n",
       "<circle clip-path=\"url(#clip892)\" cx=\"1676.19\" cy=\"269.879\" r=\"14.4\" fill=\"#009af9\" fill-rule=\"evenodd\" fill-opacity=\"1\" stroke=\"#000000\" stroke-opacity=\"1\" stroke-width=\"3.2\"/>\n",
       "<circle clip-path=\"url(#clip892)\" cx=\"1723.44\" cy=\"269.879\" r=\"14.4\" fill=\"#009af9\" fill-rule=\"evenodd\" fill-opacity=\"1\" stroke=\"#000000\" stroke-opacity=\"1\" stroke-width=\"3.2\"/>\n",
       "<circle clip-path=\"url(#clip892)\" cx=\"1770.68\" cy=\"269.879\" r=\"14.4\" fill=\"#009af9\" fill-rule=\"evenodd\" fill-opacity=\"1\" stroke=\"#000000\" stroke-opacity=\"1\" stroke-width=\"3.2\"/>\n",
       "<circle clip-path=\"url(#clip892)\" cx=\"1817.93\" cy=\"269.879\" r=\"14.4\" fill=\"#009af9\" fill-rule=\"evenodd\" fill-opacity=\"1\" stroke=\"#000000\" stroke-opacity=\"1\" stroke-width=\"3.2\"/>\n",
       "<circle clip-path=\"url(#clip892)\" cx=\"1865.17\" cy=\"269.879\" r=\"14.4\" fill=\"#009af9\" fill-rule=\"evenodd\" fill-opacity=\"1\" stroke=\"#000000\" stroke-opacity=\"1\" stroke-width=\"3.2\"/>\n",
       "<circle clip-path=\"url(#clip892)\" cx=\"1912.42\" cy=\"269.879\" r=\"14.4\" fill=\"#009af9\" fill-rule=\"evenodd\" fill-opacity=\"1\" stroke=\"#000000\" stroke-opacity=\"1\" stroke-width=\"3.2\"/>\n",
       "<circle clip-path=\"url(#clip892)\" cx=\"1959.67\" cy=\"269.879\" r=\"14.4\" fill=\"#009af9\" fill-rule=\"evenodd\" fill-opacity=\"1\" stroke=\"#000000\" stroke-opacity=\"1\" stroke-width=\"3.2\"/>\n",
       "<circle clip-path=\"url(#clip892)\" cx=\"2006.91\" cy=\"269.879\" r=\"14.4\" fill=\"#009af9\" fill-rule=\"evenodd\" fill-opacity=\"1\" stroke=\"#000000\" stroke-opacity=\"1\" stroke-width=\"3.2\"/>\n",
       "<circle clip-path=\"url(#clip892)\" cx=\"2054.16\" cy=\"87.9763\" r=\"14.4\" fill=\"#009af9\" fill-rule=\"evenodd\" fill-opacity=\"1\" stroke=\"#000000\" stroke-opacity=\"1\" stroke-width=\"3.2\"/>\n",
       "<circle clip-path=\"url(#clip892)\" cx=\"2101.41\" cy=\"87.9763\" r=\"14.4\" fill=\"#009af9\" fill-rule=\"evenodd\" fill-opacity=\"1\" stroke=\"#000000\" stroke-opacity=\"1\" stroke-width=\"3.2\"/>\n",
       "<circle clip-path=\"url(#clip892)\" cx=\"2148.65\" cy=\"87.9763\" r=\"14.4\" fill=\"#009af9\" fill-rule=\"evenodd\" fill-opacity=\"1\" stroke=\"#000000\" stroke-opacity=\"1\" stroke-width=\"3.2\"/>\n",
       "<circle clip-path=\"url(#clip892)\" cx=\"2195.9\" cy=\"87.9763\" r=\"14.4\" fill=\"#009af9\" fill-rule=\"evenodd\" fill-opacity=\"1\" stroke=\"#000000\" stroke-opacity=\"1\" stroke-width=\"3.2\"/>\n",
       "<circle clip-path=\"url(#clip892)\" cx=\"2243.14\" cy=\"87.9763\" r=\"14.4\" fill=\"#009af9\" fill-rule=\"evenodd\" fill-opacity=\"1\" stroke=\"#000000\" stroke-opacity=\"1\" stroke-width=\"3.2\"/>\n",
       "<circle clip-path=\"url(#clip892)\" cx=\"2290.39\" cy=\"87.9763\" r=\"14.4\" fill=\"#009af9\" fill-rule=\"evenodd\" fill-opacity=\"1\" stroke=\"#000000\" stroke-opacity=\"1\" stroke-width=\"3.2\"/>\n",
       "<path clip-path=\"url(#clip890)\" d=\"M222.643 198.898 L495.43 198.898 L495.43 95.2176 L222.643 95.2176  Z\" fill=\"#ffffff\" fill-rule=\"evenodd\" fill-opacity=\"1\"/>\n",
       "<polyline clip-path=\"url(#clip890)\" style=\"stroke:#000000; stroke-linecap:round; stroke-linejoin:round; stroke-width:4; stroke-opacity:1; fill:none\" points=\"222.643,198.898 495.43,198.898 495.43,95.2176 222.643,95.2176 222.643,198.898 \"/>\n",
       "<circle clip-path=\"url(#clip890)\" cx=\"320.579\" cy=\"147.058\" r=\"23.04\" fill=\"#009af9\" fill-rule=\"evenodd\" fill-opacity=\"1\" stroke=\"#000000\" stroke-opacity=\"1\" stroke-width=\"5.12\"/>\n",
       "<path clip-path=\"url(#clip890)\" d=\"M432.358 166.745 Q430.552 171.375 428.84 172.787 Q427.127 174.199 424.256 174.199 L420.853 174.199 L420.853 170.634 L423.353 170.634 Q425.113 170.634 426.085 169.8 Q427.057 168.967 428.238 165.865 L429.002 163.921 L418.515 138.412 L423.029 138.412 L431.131 158.689 L439.233 138.412 L443.747 138.412 L432.358 166.745 Z\" fill=\"#000000\" fill-rule=\"nonzero\" fill-opacity=\"1\" /><path clip-path=\"url(#clip890)\" d=\"M451.038 160.402 L458.677 160.402 L458.677 134.037 L450.367 135.703 L450.367 131.444 L458.631 129.778 L463.307 129.778 L463.307 160.402 L470.946 160.402 L470.946 164.338 L451.038 164.338 L451.038 160.402 Z\" fill=\"#000000\" fill-rule=\"nonzero\" fill-opacity=\"1\" /></svg>\n"
      ]
     },
     "execution_count": 21,
     "metadata": {},
     "output_type": "execute_result"
    }
   ],
   "source": [
    "using Plots\n",
    "scatter(En)"
   ]
  },
  {
   "cell_type": "code",
   "execution_count": 25,
   "id": "geographic-fruit",
   "metadata": {
    "tags": []
   },
   "outputs": [
    {
     "data": {
      "text/plain": [
       "Chern_Nums (generic function with 1 method)"
      ]
     },
     "execution_count": 25,
     "metadata": {},
     "output_type": "execute_result"
    }
   ],
   "source": [
    "# executeme\n",
    "\n",
    "function Chern_Nums(Tx, Ty, n1, n2)\n",
    "    \n",
    "    Sum=0\n",
    "    \n",
    "    for tx in range(start=1, stop=length(Tx))\n",
    "        for ty in range(start=1, stop=length(Ty))\n",
    "            \n",
    "            op = Op_Sp(Nx, Ny, 1/q, Tx[tx], Ty[ty])\n",
    "            H_mb = get_mb_op(PN, op)\n",
    "            w1, v1 = eigen(dense(H_mb).data)\n",
    "            i = sortperm(w1, by=real);w1 = w1[i];v1 = v1[:,i]\n",
    "\n",
    "            # if isapprox(v1[1,1], 0+0im, atol=0.001) == false\n",
    "            #     v1 = v1 ./ v1[1,1]\n",
    "            #     v1 = v1 / norm(v1)\n",
    "            # end\n",
    "            \n",
    "            v1 = v1[:,n1:n2]\n",
    "            \n",
    "            #------------------------------------\n",
    "            op = Op_Sp(Nx, Ny, 1/q, Tx[tx]+dx, Ty[ty])\n",
    "            H_mb = get_mb_op(PN, op)\n",
    "            w2, v2 = eigen(dense(H_mb).data)\n",
    "            i = sortperm(w2, by=real);w2 = w2[i];v2 = v2[:,i]\n",
    "\n",
    "            # if isapprox(v2[1,1], 0+0im, atol=0.001) == false\n",
    "            #     v2 = v2 ./ v2[1,1]\n",
    "            #     v2 = v2 / norm(v2)\n",
    "            # end\n",
    "            \n",
    "            v2 = v2[:,n1:n2]\n",
    "            \n",
    "            #------------------------------------\n",
    "            op = Op_Sp(Nx, Ny, 1/q, Tx[tx], Ty[ty]+dy)\n",
    "            H_mb = get_mb_op(PN, op)\n",
    "            w3, v3 = eigen(dense(H_mb).data)\n",
    "            i = sortperm(w3, by=real);w3 = w3[i];v3 = v3[:,i]\n",
    "\n",
    "\n",
    "            # if isapprox(v3[1,1], 0+0im, atol=0.001) == false\n",
    "            #     v3 = v3 ./ v3[1,1]\n",
    "            #     v3 = v3 / norm(v3)\n",
    "            # end\n",
    "            \n",
    "            v3 = v3[:,n1:n2]\n",
    "            \n",
    "            #------------------------------------\n",
    "            op = Op_Sp(Nx, Ny, 1/q, Tx[tx]+dx, Ty[ty]+dy)\n",
    "            H_mb = get_mb_op(PN, op)\n",
    "            w4, v4 = eigen(dense(H_mb).data)\n",
    "            i = sortperm(w4, by=real);w4 = w4[i];v4 = v4[:,i]\n",
    "\n",
    "            # if isapprox(v4[1,1], 0+0im, atol=0.001) == false\n",
    "            #     v4 = v4 ./ v4[1,1]\n",
    "            #     v4 = v4 / norm(v4)\n",
    "            # end\n",
    "            \n",
    "            v4 = v4[:,n1:n2]\n",
    "            \n",
    "            #----------LINK VARIABLES------------\n",
    "            U1=det(adjoint(v1)*v2)\n",
    "            U1=U1/abs(U1)\n",
    "            U2=det(adjoint(v2)*v4)\n",
    "            U2=U2/abs(U2)\n",
    "            U3=det(adjoint(v3)*v4)\n",
    "            U3=U3/abs(U3)\n",
    "            U4=det(adjoint(v1)*v3)\n",
    "            U4=U4/abs(U4)\n",
    "            \n",
    "            #----------BERRY CURVATURE-----------\n",
    "            F=log(U1*U2*1/U3*1/U4)\n",
    "            Sum=Sum+F\n",
    "            \n",
    "        end\n",
    "    end\n",
    "    \n",
    "    return 1/(2*pi*1im)*Sum\n",
    "end"
   ]
  },
  {
   "cell_type": "code",
   "execution_count": 26,
   "id": "moderate-experience",
   "metadata": {},
   "outputs": [
    {
     "name": "stdout",
     "output_type": "stream",
     "text": [
      "1.0000000000000009 - 2.978836559575988e-16im\n",
      "-1.9999999999999984 + 2.6773809916226116e-16im\n",
      "0.9999999999999996 - 5.951461098289711e-17im\n"
     ]
    }
   ],
   "source": [
    "for i in 1:Int(length(states)/Nx):length(states)\n",
    "    C = Chern_Nums(Tx, Ty, i, i+(Int(length(states)/Nx))-1)\n",
    "    println(C)\n",
    "end"
   ]
  },
  {
   "cell_type": "code",
   "execution_count": 27,
   "id": "d6c5c159-918f-4426-845b-2f5b28454952",
   "metadata": {},
   "outputs": [
    {
     "data": {
      "text/plain": [
       "3.9999999999999982 + 6.041190288522051e-17im"
      ]
     },
     "execution_count": 27,
     "metadata": {},
     "output_type": "execute_result"
    }
   ],
   "source": [
    "Chern_Nums(Tx, Ty, 1, 6)"
   ]
  },
  {
   "cell_type": "code",
   "execution_count": 28,
   "id": "7664494b-8e38-4a8e-be47-f04d96a00057",
   "metadata": {},
   "outputs": [
    {
     "data": {
      "text/plain": [
       "-2.999999999999999 + 3.9212518912173246e-16im"
      ]
     },
     "execution_count": 28,
     "metadata": {},
     "output_type": "execute_result"
    }
   ],
   "source": [
    "Chern_Nums(Tx, Ty, 7, 15)"
   ]
  },
  {
   "cell_type": "code",
   "execution_count": 31,
   "id": "ac5a31a3-6ba3-4578-9bef-099b6ab3528e",
   "metadata": {},
   "outputs": [
    {
     "data": {
      "text/plain": [
       "6.0046910114196645 + 1.3136413777245537e-16im"
      ]
     },
     "execution_count": 31,
     "metadata": {},
     "output_type": "execute_result"
    }
   ],
   "source": [
    "Chern_Nums(Tx, Ty, 16, 24)"
   ]
  },
  {
   "cell_type": "code",
   "execution_count": 32,
   "id": "da51a933-16fa-44eb-9914-91168c0b761f",
   "metadata": {},
   "outputs": [
    {
     "data": {
      "text/plain": [
       "-6.9939547502816435 - 2.870039916419332e-17im"
      ]
     },
     "execution_count": 32,
     "metadata": {},
     "output_type": "execute_result"
    }
   ],
   "source": [
    "Chern_Nums(Tx, Ty, 25, 30)"
   ]
  },
  {
   "cell_type": "code",
   "execution_count": 33,
   "id": "5df7f246-c572-4cce-a6fa-f67da7ffc788",
   "metadata": {},
   "outputs": [
    {
     "data": {
      "text/plain": [
       "-3.0 - 2.1175657504475845e-16im"
      ]
     },
     "execution_count": 33,
     "metadata": {},
     "output_type": "execute_result"
    }
   ],
   "source": [
    "Chern_Nums(Tx, Ty, 31, 39)"
   ]
  },
  {
   "cell_type": "code",
   "execution_count": 34,
   "id": "12ca286f-cc15-4205-a497-dd01bad0c050",
   "metadata": {},
   "outputs": [
    {
     "data": {
      "text/plain": [
       "3.999999999999999 - 1.4359258779187598e-16im"
      ]
     },
     "execution_count": 34,
     "metadata": {},
     "output_type": "execute_result"
    }
   ],
   "source": [
    "Chern_Nums(Tx, Ty, 40, 45)"
   ]
  }
 ],
 "metadata": {
  "kernelspec": {
   "display_name": "Julia 1.8.1",
   "language": "julia",
   "name": "julia-1.8"
  },
  "language_info": {
   "file_extension": ".jl",
   "mimetype": "application/julia",
   "name": "julia",
   "version": "1.8.1"
  }
 },
 "nbformat": 4,
 "nbformat_minor": 5
}
