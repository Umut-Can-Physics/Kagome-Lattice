{
 "cells": [
  {
   "cell_type": "markdown",
   "id": "unexpected-pontiac",
   "metadata": {},
   "source": [
    "Many-Body Chern Number without Integration\n",
    "\n",
    "Koji Kudo, Haruki Watanabe, Toshikaze Kariyado, and Yasuhiro Hatsugai\n",
    "\n",
    "Phys. Rev. Lett. 122, 146601 – Published 9 April 2019\n",
    "\n",
    "https://journals.aps.org/prl/abstract/10.1103/PhysRevLett.122.146601"
   ]
  },
  {
   "cell_type": "code",
   "execution_count": 82,
   "id": "6e1830de-f222-4a4a-a618-38f4842b3bc3",
   "metadata": {},
   "outputs": [],
   "source": [
    "LL = [3, 3]\n",
    "N = LL[1]*LL[2]\n",
    "vv_lattice = [ [1., 0], [0, 1.] ]\n",
    "b1=[0, 0]\n",
    "vv_basis = [b1]\n",
    "t=-1\n",
    "p=1\n",
    "q=3\n",
    "ϕ=p/q\n",
    "pbc=true\n",
    "param_dict=Dict{}()\n",
    "param_dict[t]=t\n",
    "param_dict[ϕ]=ϕ;"
   ]
  },
  {
   "cell_type": "code",
   "execution_count": 83,
   "id": "solid-session",
   "metadata": {
    "tags": []
   },
   "outputs": [
    {
     "data": {
      "text/plain": [
       "get_Hofstadter_hamiltonian (generic function with 2 methods)"
      ]
     },
     "execution_count": 83,
     "metadata": {},
     "output_type": "execute_result"
    }
   ],
   "source": [
    "using NBInclude\n",
    "@nbinclude(\"../../../Single Particle/Lattice_Basis_Neighbors_Hops.ipynb\"; regex=r\"#.*executeme\")"
   ]
  },
  {
   "cell_type": "code",
   "execution_count": 84,
   "id": "played-money",
   "metadata": {
    "tags": []
   },
   "outputs": [],
   "source": [
    "using QuantumOptics"
   ]
  },
  {
   "cell_type": "markdown",
   "id": "outer-apache",
   "metadata": {},
   "source": [
    "## Initial Parameters"
   ]
  },
  {
   "cell_type": "code",
   "execution_count": 85,
   "id": "healthy-delicious",
   "metadata": {
    "tags": []
   },
   "outputs": [],
   "source": [
    "N1 = 10\n",
    "N2 = 10\n",
    "dx=2*pi/N1\n",
    "dy=dx\n",
    "Tx=collect(range(start=0, stop=2*pi-dx, step=dx))\n",
    "Ty=collect(range(start=0, stop=2*pi-dy, step=dy));"
   ]
  },
  {
   "cell_type": "markdown",
   "id": "boxed-deviation",
   "metadata": {},
   "source": [
    "## Create Single-Particle Operator"
   ]
  },
  {
   "cell_type": "code",
   "execution_count": 86,
   "id": "victorian-floor",
   "metadata": {
    "tags": []
   },
   "outputs": [
    {
     "data": {
      "text/plain": [
       "Op_Sp (generic function with 1 method)"
      ]
     },
     "execution_count": 86,
     "metadata": {},
     "output_type": "execute_result"
    }
   ],
   "source": [
    "function Op_Sp(sites,neighbors_list,\n",
    "               site_number,site_coord,\n",
    "               nb,LL,param_dict,tx,ty,pbc)\n",
    "    \n",
    "    #H_T = HSP_T(Nx, Ny, alpha, Tx, Ty, 0)\n",
    "    H_T = get_Hofstadter_hamiltonian(sites,neighbors_list,\n",
    "                                    site_number,site_coord,\n",
    "                                    length(vv_basis),LL,param_dict,\n",
    "                                    tx,ty,pbc)\n",
    "    N = LL[1]*LL[2]\n",
    "    basis = NLevelBasis(N) \n",
    "    \n",
    "    H = SparseOperator(basis)\n",
    "    \n",
    "    for m in 1:N\n",
    "        for n in 1:N\n",
    "            H = H + H_T[m,n] * transition(basis, m, n)\n",
    "        end\n",
    "    end\n",
    "    \n",
    "    return H\n",
    "end"
   ]
  },
  {
   "cell_type": "markdown",
   "id": "serial-emergency",
   "metadata": {},
   "source": [
    "## Create Many-Basis for Non-interacting system"
   ]
  },
  {
   "cell_type": "code",
   "execution_count": 90,
   "id": "yellow-booth",
   "metadata": {},
   "outputs": [
    {
     "data": {
      "text/plain": [
       "get_mb_op (generic function with 1 method)"
      ]
     },
     "execution_count": 90,
     "metadata": {},
     "output_type": "execute_result"
    }
   ],
   "source": [
    "function get_mb_op(PN, op)\n",
    "    \n",
    "    basis = NLevelBasis(N)\n",
    "    states = bosonstates(basis, PN)\n",
    "    basis_mb = ManyBodyBasis(basis, states)\n",
    "    \n",
    "    H = SparseOperator(basis_mb) \n",
    "    for m in 1:N\n",
    "        for n in 1:N\n",
    "            H += op.data[m,n] * transition(basis_mb, m, n)\n",
    "        end\n",
    "    end\n",
    "    \n",
    "    return H\n",
    "end"
   ]
  },
  {
   "cell_type": "markdown",
   "id": "median-extension",
   "metadata": {},
   "source": [
    "# Hamiltonian"
   ]
  },
  {
   "cell_type": "code",
   "execution_count": 91,
   "id": "sitting-millennium",
   "metadata": {},
   "outputs": [
    {
     "data": {
      "text/plain": [
       "HH (generic function with 1 method)"
      ]
     },
     "execution_count": 91,
     "metadata": {},
     "output_type": "execute_result"
    }
   ],
   "source": [
    "function HH(sites,neighbors_list,\n",
    "           site_number,site_coord,\n",
    "           nb,LL,param_dict,tx,ty,pbc,PN)\n",
    "    \n",
    "    op = Op_Sp(sites,neighbors_list,\n",
    "           site_number,site_coord,\n",
    "           length(vv_basis),LL,param_dict,tx,ty,pbc)\n",
    "    \n",
    "    H_mb = get_mb_op(PN, op)\n",
    "    return H_mb\n",
    "end"
   ]
  },
  {
   "cell_type": "code",
   "execution_count": 94,
   "id": "57508e30-4771-447c-a1ea-07671900c002",
   "metadata": {},
   "outputs": [],
   "source": [
    "PN=1\n",
    "H = HH(sites,neighbors_list,\n",
    "site_number,site_coord,\n",
    "length(vv_basis),LL,param_dict,0,0,pbc,PN);"
   ]
  },
  {
   "cell_type": "code",
   "execution_count": 64,
   "id": "double-click",
   "metadata": {
    "tags": []
   },
   "outputs": [],
   "source": [
    "# CHECK: MB Structure (PN=1)\n",
    "#eigenenergies(dense(H_mb)) == eigvals(HSP_T(Nx, Ny, 1/q, Tx, Ty, 0))\n",
    "# eigenenergies(dense(get_mb_op(basis_mb, op)))"
   ]
  },
  {
   "cell_type": "code",
   "execution_count": 65,
   "id": "modern-serve",
   "metadata": {},
   "outputs": [],
   "source": [
    "# # Ortogonality Check !\n",
    "# E, V = eigen(dense(get_mb_op(basis_mb, op)).data)\n",
    "# dot(V[:,1],V[:,2])\n",
    "# norm(V)"
   ]
  },
  {
   "cell_type": "markdown",
   "id": "placed-playing",
   "metadata": {},
   "source": [
    "## Create Mesh of Twisted-Angle Space"
   ]
  },
  {
   "cell_type": "markdown",
   "id": "designing-adobe",
   "metadata": {},
   "source": [
    "\\begin{equation}\n",
    "\\theta_\\mu = \\frac{2\\pi}{N_\\theta}n_\\mu\n",
    "\\end{equation}"
   ]
  },
  {
   "cell_type": "code",
   "execution_count": 66,
   "id": "directed-enclosure",
   "metadata": {
    "tags": []
   },
   "outputs": [],
   "source": [
    "# dx=2*pi/T_size\n",
    "# dy=dx\n",
    "# Tx=collect(range(start=0, stop=2*pi-dx, step=dx))\n",
    "# Ty=collect(range(start=0, stop=2*pi-dy, step=dy));"
   ]
  },
  {
   "cell_type": "markdown",
   "id": "chronic-magnitude",
   "metadata": {},
   "source": [
    "## Energies of Many-Body Hofstadter Model"
   ]
  },
  {
   "cell_type": "code",
   "execution_count": 67,
   "id": "outdoor-mechanics",
   "metadata": {
    "tags": []
   },
   "outputs": [],
   "source": [
    "# using Plots\n",
    "# E = eigenenergies(dense(H_mb))\n",
    "# plot(1:length(E),E,seriestype=:scatter,legend=false)"
   ]
  },
  {
   "cell_type": "markdown",
   "id": "atmospheric-confirmation",
   "metadata": {},
   "source": [
    "# Cherns"
   ]
  },
  {
   "cell_type": "markdown",
   "id": "future-leisure",
   "metadata": {},
   "source": [
    "Berry Curvature:\n",
    "\\begin{equation}\n",
    "\\mathcal{F}(\\vec{\\theta}) = \\log \\left( U_x(\\vec{\\theta})U_y(\\vec{\\theta}+\\delta_x)U_x(\\vec{\\theta}+\\delta_y)^{-1}U_y(\\vec{\\theta})^{-1} \\right)\n",
    "\\end{equation}\n",
    "Link variables:\n",
    "\\begin{equation}\n",
    "U_\\mu(\\vec{\\theta}) = \\frac{\n",
    "det \\left( \\Phi(\\vec{\\theta})^\\dagger \\Phi(\\vec{\\theta}+\\delta_\\mu) \\right) \n",
    "}{\n",
    "| det \\left(\\Phi(\\vec{\\theta})^\\dagger \\Phi(\\vec{\\theta}+\\delta_\\mu) \\right) |} , \\quad \\delta_x = \\left(\\frac{2\\pi}{N_{\\theta}},0 \\right), \\delta_y = \\left(0, \\frac{2\\pi}{N_{\\theta}}\\right)\n",
    "\\end{equation}\n",
    "Chern Number:\n",
    "\\begin{equation}\n",
    "\\mathcal{C} = \\frac{1}{2\\pi i} \\sum_{\\vec{\\theta}} \\mathcal{F}(\\vec{\\theta})\n",
    "\\end{equation}"
   ]
  },
  {
   "cell_type": "code",
   "execution_count": 68,
   "id": "69cf4c48-feaa-4ce5-8191-e1666ec1765d",
   "metadata": {},
   "outputs": [],
   "source": [
    "# using LinearAlgebra\n",
    "# PN=1\n",
    "# tx = Tx[7]\n",
    "# ty = Ty[1]\n",
    "# H_mb = HH(sites,neighbors_list,\n",
    "#            site_number,site_coord,\n",
    "#            length(vv_basis),LL,param_dict, tx, ty, pbc,PN)\n",
    "# E, U = eigen(dense(H_mb).data)\n",
    "# E\n",
    "# U"
   ]
  },
  {
   "cell_type": "code",
   "execution_count": 96,
   "id": "b529e130-4f32-4de3-9db6-0bfcebb7e9ec",
   "metadata": {},
   "outputs": [
    {
     "data": {
      "text/plain": [
       "9"
      ]
     },
     "execution_count": 96,
     "metadata": {},
     "output_type": "execute_result"
    }
   ],
   "source": [
    "dimH = size(H)[1]"
   ]
  },
  {
   "cell_type": "code",
   "execution_count": 148,
   "id": "tight-xerox",
   "metadata": {},
   "outputs": [
    {
     "data": {
      "text/plain": [
       "calc_F12 (generic function with 1 method)"
      ]
     },
     "execution_count": 148,
     "metadata": {},
     "output_type": "execute_result"
    }
   ],
   "source": [
    "@nbinclude(\"../../Chern_parameter_space_sum.ipynb\")"
   ]
  },
  {
   "cell_type": "code",
   "execution_count": 149,
   "id": "comparable-angel",
   "metadata": {
    "tags": []
   },
   "outputs": [
    {
     "data": {
      "text/plain": [
       "9×9 Matrix{ComplexF64}:\n",
       "  -0.227724+0.513248im     0.108487+0.0230596im    …   -0.410703-0.231253im\n",
       "  -0.131384+0.388706im   -0.0115933+0.110303im         0.0293874+0.403802im\n",
       "   0.038881+0.316818im      0.35177+0.174995im          0.270478-0.374042im\n",
       " -0.0721484+0.427378im   -0.0897285-0.0651916im         0.240697+0.368163im\n",
       "  -0.184192+0.0613696im   -0.110911-2.51535e-17im      0.0505765-0.122546im\n",
       "   0.118306-0.0873464im    0.387447+0.0651916im    …   -0.133002+0.332631im\n",
       " -0.0386375+0.377225im   -0.0243352-0.392139im         0.0470597-0.206568im\n",
       "   0.105799+0.110983im    -0.250181+0.302944im        -0.0516903-0.117968im\n",
       "        0.0+0.0im           0.57735-0.0im                    0.0+0.0im"
      ]
     },
     "execution_count": 149,
     "metadata": {},
     "output_type": "execute_result"
    }
   ],
   "source": [
    "EEA, UUA = calc_states_hofstadter(Tx, Ty, dimH)\n",
    "EEA[1,1,:]\n",
    "UUA[2,2,:,:]"
   ]
  },
  {
   "cell_type": "code",
   "execution_count": 150,
   "id": "992426c1-eee9-4308-9036-c6cba8fcc4d4",
   "metadata": {},
   "outputs": [
    {
     "data": {
      "text/plain": [
       "1.0 + 0.0im"
      ]
     },
     "execution_count": 150,
     "metadata": {},
     "output_type": "execute_result"
    }
   ],
   "source": [
    "UUA[1,1,:,1]'*UUA[1,1,:,1]"
   ]
  },
  {
   "cell_type": "code",
   "execution_count": 151,
   "id": "4e4c3207-007d-454c-881d-bae5fff0f171",
   "metadata": {},
   "outputs": [
    {
     "data": {
      "text/plain": [
       "9×9 OffsetArray(::Matrix{ComplexF64}, 0:8, 0:8) with eltype ComplexF64 with indices 0:8×0:8:\n",
       "  -0.227724+0.513248im     0.108487+0.0230596im    …   -0.410703-0.231253im\n",
       "  -0.131384+0.388706im   -0.0115933+0.110303im         0.0293874+0.403802im\n",
       "   0.038881+0.316818im      0.35177+0.174995im          0.270478-0.374042im\n",
       " -0.0721484+0.427378im   -0.0897285-0.0651916im         0.240697+0.368163im\n",
       "  -0.184192+0.0613696im   -0.110911-2.51535e-17im      0.0505765-0.122546im\n",
       "   0.118306-0.0873464im    0.387447+0.0651916im    …   -0.133002+0.332631im\n",
       " -0.0386375+0.377225im   -0.0243352-0.392139im         0.0470597-0.206568im\n",
       "   0.105799+0.110983im    -0.250181+0.302944im        -0.0516903-0.117968im\n",
       "        0.0+0.0im           0.57735-0.0im                    0.0+0.0im"
      ]
     },
     "execution_count": 151,
     "metadata": {},
     "output_type": "execute_result"
    }
   ],
   "source": [
    "UUA = OffsetArray(UUA, 0:N1-1, 0:N2-1, 0:dimH-1, 0:dimH-1)\n",
    "UUA[1,1,:,:]"
   ]
  },
  {
   "cell_type": "code",
   "execution_count": 152,
   "id": "6692b276-67cd-4d16-b4de-8c2361bc962e",
   "metadata": {},
   "outputs": [
    {
     "data": {
      "text/plain": [
       "0.9833994827045871 - 0.18145373354205335im"
      ]
     },
     "execution_count": 152,
     "metadata": {},
     "output_type": "execute_result"
    }
   ],
   "source": [
    "calc_link_var(UUA[1,6,:,1], UUA[9,1,:,1])"
   ]
  },
  {
   "cell_type": "code",
   "execution_count": 153,
   "id": "1ee536b8-7e32-4bac-925b-723f190ed2ab",
   "metadata": {},
   "outputs": [
    {
     "data": {
      "text/plain": [
       "10×10×2 OffsetArray(::Array{ComplexF64, 3}, 0:9, 0:9, 0:1) with eltype ComplexF64 with indices 0:9×0:9×0:1:\n",
       "[:, :, 0] =\n",
       " 0.00163509+0.999999im   0.285763+0.9583im     …    0.857324-0.514777im\n",
       "    0.48143+0.876485im  -0.982476+0.186389im       -0.697065+0.717008im\n",
       "  -0.978167+0.207821im   0.604138+0.79688im        -0.985228+0.171246im\n",
       "    0.78589-0.618367im  -0.380902+0.924615im       -0.570605+0.821225im\n",
       "  -0.972366+0.23346im     0.32284-0.946454im        0.467586+0.883948im\n",
       "  -0.760918-0.648848im   0.998838-0.0481857im  …   -0.970078-0.242794im\n",
       " -0.0914562-0.995809im  -0.853892-0.520451im        -0.25856-0.965995im\n",
       "  -0.992672+0.120841im  -0.808415+0.588613im        0.279452+0.96016im\n",
       "   0.980437-0.196833im   0.380447+0.924803im      -0.0076575-0.999971im\n",
       "   0.955999+0.293371im  -0.955126-0.296201im      -0.0458815+0.998947im\n",
       "\n",
       "[:, :, 1] =\n",
       " -0.921215-0.389054im    0.935704-0.352786im  …  -0.819825+0.572615im\n",
       " -0.165691+0.986178im   -0.615573-0.78808im      -0.408947+0.912558im\n",
       " 0.0459272-0.998945im    0.238235+0.971207im      0.848795-0.528722im\n",
       "  0.669975-0.742384im   -0.567089+0.823657im      0.414213+0.91018im\n",
       " -0.999589+0.0286617im  -0.152776+0.988261im     -0.993283-0.115708im\n",
       " -0.913119+0.407693im    0.889888+0.456179im  …  -0.540053-0.841631im\n",
       "  0.142748+0.989759im   -0.880126+0.474739im      0.965384-0.260833im\n",
       "  0.854043-0.520202im    0.199617-0.979874im      0.366451-0.930437im\n",
       "  0.313725-0.949514im   -0.237973+0.971272im      0.978597-0.205787im\n",
       " -0.260896+0.965367im   -0.750499+0.660871im      -0.85957-0.511018im"
      ]
     },
     "execution_count": 153,
     "metadata": {},
     "output_type": "execute_result"
    }
   ],
   "source": [
    "UU = calc_link_vars(UUA[:,:,:,1:2])"
   ]
  },
  {
   "cell_type": "code",
   "execution_count": 154,
   "id": "dde42ec4-07f6-4ee3-a97f-5520925541b1",
   "metadata": {},
   "outputs": [
    {
     "data": {
      "text/plain": [
       "10×10 OffsetArray(::Matrix{ComplexF64}, 0:9, 0:9) with eltype ComplexF64 with indices 0:9×0:9:\n",
       " 0.00163509+0.999999im   0.285763+0.9583im     …    0.857324-0.514777im\n",
       "    0.48143+0.876485im  -0.982476+0.186389im       -0.697065+0.717008im\n",
       "  -0.978167+0.207821im   0.604138+0.79688im        -0.985228+0.171246im\n",
       "    0.78589-0.618367im  -0.380902+0.924615im       -0.570605+0.821225im\n",
       "  -0.972366+0.23346im     0.32284-0.946454im        0.467586+0.883948im\n",
       "  -0.760918-0.648848im   0.998838-0.0481857im  …   -0.970078-0.242794im\n",
       " -0.0914562-0.995809im  -0.853892-0.520451im        -0.25856-0.965995im\n",
       "  -0.992672+0.120841im  -0.808415+0.588613im        0.279452+0.96016im\n",
       "   0.980437-0.196833im   0.380447+0.924803im      -0.0076575-0.999971im\n",
       "   0.955999+0.293371im  -0.955126-0.296201im      -0.0458815+0.998947im"
      ]
     },
     "execution_count": 154,
     "metadata": {},
     "output_type": "execute_result"
    }
   ],
   "source": [
    "UU[:,:,0]"
   ]
  },
  {
   "cell_type": "code",
   "execution_count": 155,
   "id": "d7150af7-e9b0-420b-8185-21641c15c67c",
   "metadata": {},
   "outputs": [
    {
     "data": {
      "text/plain": [
       "10×10×2 Array{ComplexF64, 3}:\n",
       "[:, :, 1] =\n",
       " 0.00163509+0.999999im   0.285763+0.9583im     …    0.857324-0.514777im\n",
       "    0.48143+0.876485im  -0.982476+0.186389im       -0.697065+0.717008im\n",
       "  -0.978167+0.207821im   0.604138+0.79688im        -0.985228+0.171246im\n",
       "    0.78589-0.618367im  -0.380902+0.924615im       -0.570605+0.821225im\n",
       "  -0.972366+0.23346im     0.32284-0.946454im        0.467586+0.883948im\n",
       "  -0.760918-0.648848im   0.998838-0.0481857im  …   -0.970078-0.242794im\n",
       " -0.0914562-0.995809im  -0.853892-0.520451im        -0.25856-0.965995im\n",
       "  -0.992672+0.120841im  -0.808415+0.588613im        0.279452+0.96016im\n",
       "   0.980437-0.196833im   0.380447+0.924803im      -0.0076575-0.999971im\n",
       "   0.955999+0.293371im  -0.955126-0.296201im      -0.0458815+0.998947im\n",
       "\n",
       "[:, :, 2] =\n",
       " -0.921215-0.389054im    0.935704-0.352786im  …  -0.819825+0.572615im\n",
       " -0.165691+0.986178im   -0.615573-0.78808im      -0.408947+0.912558im\n",
       " 0.0459272-0.998945im    0.238235+0.971207im      0.848795-0.528722im\n",
       "  0.669975-0.742384im   -0.567089+0.823657im      0.414213+0.91018im\n",
       " -0.999589+0.0286617im  -0.152776+0.988261im     -0.993283-0.115708im\n",
       " -0.913119+0.407693im    0.889888+0.456179im  …  -0.540053-0.841631im\n",
       "  0.142748+0.989759im   -0.880126+0.474739im      0.965384-0.260833im\n",
       "  0.854043-0.520202im    0.199617-0.979874im      0.366451-0.930437im\n",
       "  0.313725-0.949514im   -0.237973+0.971272im      0.978597-0.205787im\n",
       " -0.260896+0.965367im   -0.750499+0.660871im      -0.85957-0.511018im"
      ]
     },
     "execution_count": 155,
     "metadata": {},
     "output_type": "execute_result"
    }
   ],
   "source": [
    "UU = OffsetArrays.no_offset_view(UU)"
   ]
  },
  {
   "cell_type": "code",
   "execution_count": 156,
   "id": "latest-domestic",
   "metadata": {},
   "outputs": [
    {
     "data": {
      "text/plain": [
       "-2.518429760051489 + 8.661541324215172im"
      ]
     },
     "execution_count": 156,
     "metadata": {},
     "output_type": "execute_result"
    }
   ],
   "source": [
    "F12 = calc_F12(UU)\n",
    "sum(F12)/(2*pi*1im)"
   ]
  },
  {
   "cell_type": "code",
   "execution_count": null,
   "id": "577bedac-b139-43f0-a6f1-5f515fd52d59",
   "metadata": {},
   "outputs": [],
   "source": []
  },
  {
   "cell_type": "code",
   "execution_count": null,
   "id": "32c637da-6a5a-4b60-9476-35700ced4db9",
   "metadata": {},
   "outputs": [],
   "source": []
  },
  {
   "cell_type": "code",
   "execution_count": null,
   "id": "1299db89-1128-49c0-8963-dc7dbb6cb5ad",
   "metadata": {},
   "outputs": [],
   "source": []
  },
  {
   "cell_type": "code",
   "execution_count": null,
   "id": "cb6778d0-e001-4dfc-936e-e979c7d7f729",
   "metadata": {},
   "outputs": [],
   "source": []
  },
  {
   "cell_type": "code",
   "execution_count": null,
   "id": "559cc1e7-2316-4678-8374-dc72702225fd",
   "metadata": {},
   "outputs": [],
   "source": []
  },
  {
   "cell_type": "code",
   "execution_count": null,
   "id": "1fc28b33-bf56-4a76-bb44-32e9abf911f7",
   "metadata": {},
   "outputs": [],
   "source": []
  },
  {
   "cell_type": "code",
   "execution_count": 72,
   "id": "aa6ade9a-4000-498f-a004-39cd85bbc48a",
   "metadata": {},
   "outputs": [],
   "source": [
    "using NBInclude\n",
    "@nbinclude(\"../Hofstadter Single Particle in Theta Space.ipynb\")\n",
    "using QuantumOptics\n",
    "using LinearAlgebra"
   ]
  },
  {
   "cell_type": "code",
   "execution_count": 99,
   "id": "3054e40b-7855-410c-9b6a-b5ce91a58e20",
   "metadata": {},
   "outputs": [],
   "source": [
    "Nx=Ny=5\n",
    "N=Nx*Ny\n",
    "p=1\n",
    "q=Ny\n",
    "alpha=p/q\n",
    "PN=2\n",
    "N1 = 10\n",
    "N2 = 10\n",
    "dx=2*pi/N1\n",
    "dy=dx\n",
    "Tx=collect(range(start=0, stop=2*pi-dx, step=dx))\n",
    "Ty=collect(range(start=0, stop=2*pi-dy, step=dy));"
   ]
  },
  {
   "cell_type": "code",
   "execution_count": 100,
   "id": "a6caba23-a32b-4671-9b7e-190e03c7ba4f",
   "metadata": {},
   "outputs": [
    {
     "data": {
      "text/plain": [
       "Op_Sp (generic function with 1 method)"
      ]
     },
     "execution_count": 100,
     "metadata": {},
     "output_type": "execute_result"
    }
   ],
   "source": [
    "function Op_Sp(Nx, Ny, alpha, Tx, Ty)\n",
    "    \n",
    "    H_T = HSP_T(Nx, Ny, alpha, Tx, Ty, 0)\n",
    "   \n",
    "    N = Nx*Ny\n",
    "    basis = NLevelBasis(N) \n",
    "    \n",
    "    H = SparseOperator(basis)\n",
    "    \n",
    "    for m in 1:N\n",
    "        for n in 1:N\n",
    "            H = H + H_T[m,n] * transition(basis, m, n)\n",
    "        end\n",
    "    end\n",
    "    \n",
    "    return H\n",
    "end"
   ]
  },
  {
   "cell_type": "code",
   "execution_count": 101,
   "id": "df160811-05e1-4c9c-bd0e-2539f86e2f45",
   "metadata": {},
   "outputs": [],
   "source": [
    "op = Op_Sp(Nx, Ny, alpha, Tx[1], Ty[1]);"
   ]
  },
  {
   "cell_type": "code",
   "execution_count": 102,
   "id": "5d301078-032c-4fab-a5cd-cf12d1afb7a9",
   "metadata": {},
   "outputs": [
    {
     "data": {
      "text/plain": [
       "get_mb_op (generic function with 1 method)"
      ]
     },
     "execution_count": 102,
     "metadata": {},
     "output_type": "execute_result"
    }
   ],
   "source": [
    "basis = NLevelBasis(N)\n",
    "states = bosonstates(basis, PN)\n",
    "function get_mb_op(PN, op)\n",
    "    \n",
    "    basis = NLevelBasis(N)\n",
    "    states = bosonstates(basis, PN)\n",
    "    basis_mb = ManyBodyBasis(basis, states)\n",
    "    \n",
    "    H = SparseOperator(basis_mb) \n",
    "    for m in 1:N\n",
    "        for n in 1:N\n",
    "            H += op.data[m,n] * transition(basis_mb, m, n)\n",
    "        end\n",
    "    end\n",
    "    \n",
    "    return H\n",
    "end"
   ]
  },
  {
   "cell_type": "code",
   "execution_count": 103,
   "id": "daecec80-3118-4c9e-956b-dabf067ad8f6",
   "metadata": {},
   "outputs": [
    {
     "data": {
      "text/plain": [
       "325-element Vector{Float64}:\n",
       " -5.932895978286749\n",
       " -5.932895978286747\n",
       " -5.932895978286745\n",
       " -5.932895978286745\n",
       " -5.932895978286745\n",
       " -5.932895978286745\n",
       " -5.932895978286745\n",
       " -5.932895978286744\n",
       " -5.932895978286744\n",
       " -5.932895978286744\n",
       " -5.9328959782867425\n",
       " -5.9328959782867425\n",
       " -5.932895978286742\n",
       "  ⋮\n",
       "  5.804226065180614\n",
       "  5.804226065180614\n",
       "  5.804226065180614\n",
       "  5.804226065180614\n",
       "  5.8042260651806155\n",
       "  5.8042260651806155\n",
       "  5.8042260651806155\n",
       "  5.8042260651806155\n",
       "  5.804226065180617\n",
       "  5.804226065180617\n",
       "  5.804226065180617\n",
       "  5.804226065180619"
      ]
     },
     "execution_count": 103,
     "metadata": {},
     "output_type": "execute_result"
    }
   ],
   "source": [
    "En, Un = eigen(dense(get_mb_op(PN, op)).data)\n",
    "En"
   ]
  },
  {
   "cell_type": "code",
   "execution_count": 104,
   "id": "geographic-fruit",
   "metadata": {
    "tags": []
   },
   "outputs": [
    {
     "data": {
      "text/plain": [
       "Chern_Nums (generic function with 1 method)"
      ]
     },
     "execution_count": 104,
     "metadata": {},
     "output_type": "execute_result"
    }
   ],
   "source": [
    "# executeme\n",
    "\n",
    "function Chern_Nums(Tx, Ty, n1, n2)\n",
    "    \n",
    "    Sum=0\n",
    "    \n",
    "    for tx in range(start=1, stop=length(Tx))\n",
    "        for ty in range(start=1, stop=length(Ty))\n",
    "            \n",
    "            op = Op_Sp(Nx, Ny, 1/q, Tx[tx], Ty[ty])\n",
    "            H_mb = get_mb_op(PN, op)\n",
    "            w1, v1 = eigen(dense(H_mb).data)\n",
    "            i = sortperm(w1, by=real);w1 = w1[i];v1 = v1[:,i]\n",
    "\n",
    "            if isapprox(v1[1,1], 0+0im, atol=0.001) == false\n",
    "                v1 = v1 ./ v1[1,1]\n",
    "                v1 = v1 / norm(v1)\n",
    "            end\n",
    "            \n",
    "            v1 = v1[:,n1:n2]\n",
    "            \n",
    "            #------------------------------------\n",
    "            op = Op_Sp(Nx, Ny, 1/q, Tx[tx]+dx, Ty[ty])\n",
    "            H_mb = get_mb_op(PN, op)\n",
    "            w2, v2 = eigen(dense(H_mb).data)\n",
    "            i = sortperm(w2, by=real);w2 = w2[i];v2 = v2[:,i]\n",
    "\n",
    "            if isapprox(v2[1,1], 0+0im, atol=0.001) == false\n",
    "                v2 = v2 ./ v2[1,1]\n",
    "                v2 = v2 / norm(v2)\n",
    "            end\n",
    "            \n",
    "            v2 = v2[:,n1:n2]\n",
    "            \n",
    "            #------------------------------------\n",
    "            op = Op_Sp(Nx, Ny, 1/q, Tx[tx], Ty[ty]+dy)\n",
    "            H_mb = get_mb_op(PN, op)\n",
    "            w3, v3 = eigen(dense(H_mb).data)\n",
    "            i = sortperm(w3, by=real);w3 = w3[i];v3 = v3[:,i]\n",
    "\n",
    "\n",
    "            if isapprox(v3[1,1], 0+0im, atol=0.001) == false\n",
    "                v3 = v3 ./ v3[1,1]\n",
    "                v3 = v3 / norm(v3)\n",
    "            end\n",
    "            \n",
    "            v3 = v3[:,n1:n2]\n",
    "            \n",
    "            #------------------------------------\n",
    "            op = Op_Sp(Nx, Ny, 1/q, Tx[tx]+dx, Ty[ty]+dy)\n",
    "            H_mb = get_mb_op(PN, op)\n",
    "            w4, v4 = eigen(dense(H_mb).data)\n",
    "            i = sortperm(w4, by=real);w4 = w4[i];v4 = v4[:,i]\n",
    "\n",
    "            if isapprox(v4[1,1], 0+0im, atol=0.001) == false\n",
    "                v4 = v4 ./ v4[1,1]\n",
    "                v4 = v4 / norm(v4)\n",
    "            end\n",
    "            \n",
    "            v4 = v4[:,n1:n2]\n",
    "            \n",
    "            #----------LINK VARIABLES------------\n",
    "            U1=det(adjoint(v1)*v2)\n",
    "            U1=U1/abs(U1)\n",
    "            U2=det(adjoint(v2)*v4)\n",
    "            U2=U2/abs(U2)\n",
    "            U3=det(adjoint(v3)*v4)\n",
    "            U3=U3/abs(U3)\n",
    "            U4=det(adjoint(v1)*v3)\n",
    "            U4=U4/abs(U4)\n",
    "            \n",
    "            #----------BERRY CURVATURE-----------\n",
    "            F=log(U1*U2*1/U3*1/U4)\n",
    "            Sum=Sum+F\n",
    "            \n",
    "        end\n",
    "    end\n",
    "    \n",
    "    return 1/(2*pi*1im)*Sum\n",
    "end"
   ]
  },
  {
   "cell_type": "code",
   "execution_count": null,
   "id": "moderate-experience",
   "metadata": {},
   "outputs": [],
   "source": [
    "for i in 1:Int(length(states)/Nx):length(states)\n",
    "    C = Chern_Nums(Tx, Ty, i, i+(Int(length(states)/Nx))-1)\n",
    "    println(C)\n",
    "end"
   ]
  },
  {
   "cell_type": "code",
   "execution_count": null,
   "id": "olympic-importance",
   "metadata": {},
   "outputs": [],
   "source": []
  }
 ],
 "metadata": {
  "kernelspec": {
   "display_name": "Julia 1.8.1",
   "language": "julia",
   "name": "julia-1.8"
  },
  "language_info": {
   "file_extension": ".jl",
   "mimetype": "application/julia",
   "name": "julia",
   "version": "1.8.1"
  }
 },
 "nbformat": 4,
 "nbformat_minor": 5
}
