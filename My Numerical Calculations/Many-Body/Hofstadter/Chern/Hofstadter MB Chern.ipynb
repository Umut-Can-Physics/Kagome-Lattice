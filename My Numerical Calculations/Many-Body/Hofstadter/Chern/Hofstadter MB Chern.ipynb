{
 "cells": [
  {
   "cell_type": "markdown",
   "id": "42b16949-fca4-4cc0-a92c-3ccc302a19d8",
   "metadata": {},
   "source": [
    "# Daha büyük sistemlere gidio Onur hocanın denklemini kontrol et Chern için: Chern per state = $\\nu_{eff}$"
   ]
  },
  {
   "cell_type": "markdown",
   "id": "unexpected-pontiac",
   "metadata": {
    "editable": true,
    "slideshow": {
     "slide_type": ""
    },
    "tags": []
   },
   "source": [
    "Many-Body Chern Number without Integration\n",
    "\n",
    "Koji Kudo, Haruki Watanabe, Toshikaze Kariyado, and Yasuhiro Hatsugai\n",
    "\n",
    "Phys. Rev. Lett. 122, 146601 – Published 9 April 2019\n",
    "\n",
    "https://journals.aps.org/prl/abstract/10.1103/PhysRevLett.122.146601"
   ]
  },
  {
   "cell_type": "code",
   "execution_count": 1,
   "id": "played-money",
   "metadata": {
    "tags": []
   },
   "outputs": [],
   "source": [
    "using QuantumOptics"
   ]
  },
  {
   "cell_type": "code",
   "execution_count": 2,
   "id": "solid-session",
   "metadata": {
    "tags": []
   },
   "outputs": [
    {
     "data": {
      "text/plain": [
       "get_Hofstadter_hamiltonian (generic function with 1 method)"
      ]
     },
     "execution_count": 2,
     "metadata": {},
     "output_type": "execute_result"
    }
   ],
   "source": [
    "using NBInclude\n",
    "@nbinclude(\"../../../Single Particle/Lattice_Basis_Neighbors_Hops.ipynb\"; regex=r\"#.*executeme\")"
   ]
  },
  {
   "cell_type": "code",
   "execution_count": 3,
   "id": "525acd11-cdf8-4f51-9eb2-5edb17d5f1c8",
   "metadata": {
    "tags": []
   },
   "outputs": [
    {
     "data": {
      "text/plain": [
       "exp_list1 (generic function with 1 method)"
      ]
     },
     "execution_count": 3,
     "metadata": {},
     "output_type": "execute_result"
    }
   ],
   "source": [
    "@nbinclude(\"../../../Many-Body/First Band Approximation Functions.ipynb\")"
   ]
  },
  {
   "cell_type": "code",
   "execution_count": 20,
   "id": "086c6048-b913-4f4c-b266-d198a22c645f",
   "metadata": {
    "tags": []
   },
   "outputs": [],
   "source": [
    "param_dict=Dict{}()\n",
    "\n",
    "LL = [3, 3]\n",
    "N = LL[1]*LL[2]\n",
    "vv_lattice = [ [1., 0], [0, 1.] ]\n",
    "b1=[0, 0]\n",
    "vv_basis = [b1]\n",
    "\n",
    "param_dict[\"LL\"] = LL\n",
    "param_dict[\"vv_lattice\"] = vv_lattice\n",
    "param_dict[\"vv_basis\"] = vv_basis\n",
    "\n",
    "\n",
    "nb = 1\n",
    "t=-1\n",
    "p=1\n",
    "q=3\n",
    "ϕ=p/q\n",
    "param_dict[\"t\"]=t\n",
    "param_dict[\"ϕ\"]=ϕ\n",
    "θθ = [0, 0]\n",
    "param_dict[\"θθ\"]=θθ\n",
    "\n",
    "coordinates, sites, site_coord, site_number = get_sites(LL, vv_lattice, vv_basis);\n",
    "param_dict[\"coordinates\"] = coordinates\n",
    "param_dict[\"sites\"] = sites\n",
    "param_dict[\"site_coord\"] = site_coord\n",
    "param_dict[\"site_number\"] = site_number;\n",
    "\n",
    "pbc=true\n",
    "param_dict[\"pbc\"] = pbc;\n",
    "neighbors = [ [1, 0, 1], [-1, 0, 1], [0, 1, 1], [0, -1, 1]  ];\n",
    "neighbors_list = [ neighbors ];\n",
    "param_dict[\"neighbors_list\"] = neighbors_list;\n",
    "\n",
    "N1 = 10\n",
    "N2 = 10\n",
    "dx=2*pi/N1\n",
    "dy=dx\n",
    "Tx=collect(range(start=0, stop=2*pi-dx, step=dx))\n",
    "Ty=collect(range(start=0, stop=2*pi-dy, step=dy));\n",
    "\n",
    "param_dict[\"Tx\"] = Tx;\n",
    "param_dict[\"Ty\"] = Ty;"
   ]
  },
  {
   "cell_type": "markdown",
   "id": "boxed-deviation",
   "metadata": {},
   "source": [
    "## Create Single-Particle Operator"
   ]
  },
  {
   "cell_type": "code",
   "execution_count": 21,
   "id": "53768895-8d02-45c7-a8ba-861103a5fcbd",
   "metadata": {
    "tags": []
   },
   "outputs": [
    {
     "data": {
      "text/plain": [
       "9×9 Matrix{ComplexF64}:\n",
       "  0.0+0.0im  -1.0+0.0im  -1.0-0.0im  …   0.0+0.0im        0.0+0.0im\n",
       " -1.0-0.0im   0.0+0.0im  -1.0+0.0im     -1.0-0.0im        0.0+0.0im\n",
       " -1.0+0.0im  -1.0-0.0im   0.0+0.0im      0.0+0.0im       -1.0-0.0im\n",
       " -1.0-0.0im   0.0+0.0im   0.0+0.0im      0.0+0.0im        0.0+0.0im\n",
       "  0.0+0.0im  -1.0-0.0im   0.0+0.0im     -1.0-0.0im        0.0+0.0im\n",
       "  0.0+0.0im   0.0+0.0im  -1.0-0.0im  …   0.0+0.0im       -1.0-0.0im\n",
       " -1.0+0.0im   0.0+0.0im   0.0+0.0im      0.5-0.866025im   0.5+0.866025im\n",
       "  0.0+0.0im  -1.0+0.0im   0.0+0.0im      0.0+0.0im        0.5-0.866025im\n",
       "  0.0+0.0im   0.0+0.0im  -1.0+0.0im      0.5+0.866025im   0.0+0.0im"
      ]
     },
     "execution_count": 21,
     "metadata": {},
     "output_type": "execute_result"
    }
   ],
   "source": [
    "N = LL[1]*LL[2]\n",
    "basis = NLevelBasis(N) \n",
    "param_dict[\"basis\"] = basis;\n",
    "\n",
    "H_T = get_Hofstadter_hamiltonian(param_dict)"
   ]
  },
  {
   "cell_type": "code",
   "execution_count": 22,
   "id": "09a02f73-d119-4f2f-afcf-60c1d5b85f65",
   "metadata": {
    "tags": []
   },
   "outputs": [
    {
     "data": {
      "text/plain": [
       "Operator(dim=9x9)\n",
       "  basis: NLevel(N=9)sparse([2, 3, 4, 7, 1, 3, 5, 8, 1, 2  …  8, 9, 2, 5, 7, 9, 3, 6, 7, 8], [1, 1, 1, 1, 2, 2, 2, 2, 3, 3, 3, 3, 4, 4, 4, 4, 5, 5, 5, 5, 6, 6, 6, 6, 7, 7, 7, 7, 8, 8, 8, 8, 9, 9, 9, 9], ComplexF64[-1.0 + 0.0im, -1.0 + 0.0im, -1.0 + 0.0im, -1.0 + 0.0im, -1.0 + 0.0im, -1.0 + 0.0im, -1.0 + 0.0im, -1.0 + 0.0im, -1.0 + 0.0im, -1.0 + 0.0im  …  0.5000000000000004 + 0.8660254037844386im, 0.5000000000000004 - 0.8660254037844386im, -1.0 + 0.0im, -1.0 + 0.0im, 0.5000000000000004 - 0.8660254037844386im, 0.5000000000000004 + 0.8660254037844386im, -1.0 + 0.0im, -1.0 + 0.0im, 0.5000000000000004 + 0.8660254037844386im, 0.5000000000000004 - 0.8660254037844386im], 9, 9)"
      ]
     },
     "execution_count": 22,
     "metadata": {},
     "output_type": "execute_result"
    }
   ],
   "source": [
    "H1 = get_sp_op(basis, H_T)"
   ]
  },
  {
   "cell_type": "markdown",
   "id": "serial-emergency",
   "metadata": {},
   "source": [
    "## Create Many-Basis for Non-interacting system"
   ]
  },
  {
   "cell_type": "code",
   "execution_count": 23,
   "id": "1cc99745-f2b5-4a76-a353-6762ae43133d",
   "metadata": {
    "tags": []
   },
   "outputs": [
    {
     "data": {
      "text/plain": [
       "3"
      ]
     },
     "execution_count": 23,
     "metadata": {},
     "output_type": "execute_result"
    }
   ],
   "source": [
    "PN=3"
   ]
  },
  {
   "cell_type": "code",
   "execution_count": 24,
   "id": "e25edc6e-5409-4d4f-98a0-847f10b2980a",
   "metadata": {
    "tags": []
   },
   "outputs": [],
   "source": [
    "states = bosonstates(basis, PN)\n",
    "basis_mb = ManyBodyBasis(basis, states)\n",
    "param_dict[\"basis_mb\"] = basis_mb;"
   ]
  },
  {
   "cell_type": "code",
   "execution_count": 25,
   "id": "3f36bc06-941a-4459-a7d4-60624e22e5be",
   "metadata": {
    "tags": []
   },
   "outputs": [
    {
     "data": {
      "text/plain": [
       "165"
      ]
     },
     "execution_count": 25,
     "metadata": {},
     "output_type": "execute_result"
    }
   ],
   "source": [
    "basis_mb.shape[1]"
   ]
  },
  {
   "cell_type": "markdown",
   "id": "median-extension",
   "metadata": {},
   "source": [
    "# Hamiltonian"
   ]
  },
  {
   "cell_type": "code",
   "execution_count": 26,
   "id": "bfb68e2f-4ca5-40d2-8fbb-8a06e15ca04b",
   "metadata": {
    "scrolled": true,
    "tags": []
   },
   "outputs": [
    {
     "data": {
      "text/plain": [
       "Operator(dim=165x165)\n",
       "  basis: ManyBody(onebodybasis=NLevel(N=9), states:165)sparse([2, 3, 4, 7, 1, 3, 5, 8, 10, 11  …  145, 154, 160, 161, 163, 165, 109, 155, 161, 164], [1, 1, 1, 1, 2, 2, 2, 2, 2, 2, 2, 2, 3, 3, 3, 3, 3, 3, 3, 3, 4, 4, 4, 4, 4, 4, 4, 4, 5, 5, 5, 5, 5, 5, 5, 5, 6, 6, 6, 6, 6, 6, 6, 6, 7, 7, 7, 7, 7, 7, 7, 7, 8, 8, 8, 8, 8, 8, 8, 8, 9, 9, 9, 9, 9, 9, 9, 9, 10, 10, 10, 10, 10, 10, 10, 10, 11, 11, 11, 11, 11, 11, 11, 11, 11, 11, 11, 11, 12, 12, 12, 12, 12, 12, 12, 12, 12, 12, 12, 12, 13, 13, 13, 13, 13, 13, 13, 13, 13, 13, 13, 13, 14, 14, 14, 14, 14, 14, 14, 14, 14, 14, 14, 14, 15, 15, 15, 15, 15, 15, 15, 15, 15, 15, 15, 15, 16, 16, 16, 16, 16, 16, 16, 16, 16, 16, 16, 16, 17, 17, 17, 17, 17, 17, 17, 17, 17, 17, 17, 17, 18, 18, 18, 18, 18, 18, 18, 18, 19, 19, 19, 19, 19, 19, 19, 19, 19, 19, 19, 19, 20, 20, 20, 20, 20, 20, 20, 20, 20, 20, 20, 20, 21, 21, 21, 21, 21, 21, 21, 21, 21, 21, 21, 21, 22, 22, 22, 22, 22, 22, 22, 22, 22, 22, 22, 22, 23, 23, 23, 23, 23, 23, 23, 23, 23, 23, 23, 23, 24, 24, 24, 24, 24, 24, 24, 24, 24, 24, 24, 24, 25, 25, 25, 25, 25, 25, 25, 25, 26, 26, 26, 26, 26, 26, 26, 26, 26, 26, 26, 26, 27, 27, 27, 27, 27, 27, 27, 27, 27, 27, 27, 27, 28, 28, 28, 28, 28, 28, 28, 28, 28, 28, 28, 28, 29, 29, 29, 29, 29, 29, 29, 29, 29, 29, 29, 29, 30, 30, 30, 30, 30, 30, 30, 30, 30, 30, 30, 30, 31, 31, 31, 31, 31, 31, 31, 31, 32, 32, 32, 32, 32, 32, 32, 32, 32, 32, 32, 32, 33, 33, 33, 33, 33, 33, 33, 33, 33, 33, 33, 33, 34, 34, 34, 34, 34, 34, 34, 34, 34, 34, 34, 34, 35, 35, 35, 35, 35, 35, 35, 35, 35, 35, 35, 35, 36, 36, 36, 36, 36, 36, 36, 36, 37, 37, 37, 37, 37, 37, 37, 37, 37, 37, 37, 37, 38, 38, 38, 38, 38, 38, 38, 38, 38, 38, 38, 38, 39, 39, 39, 39, 39, 39, 39, 39, 39, 39, 39, 39, 40, 40, 40, 40, 40, 40, 40, 40, 41, 41, 41, 41, 41, 41, 41, 41, 41, 41, 41, 41, 42, 42, 42, 42, 42, 42, 42, 42, 42, 42, 42, 42, 43, 43, 43, 43, 43, 43, 43, 43, 44, 44, 44, 44, 44, 44, 44, 44, 44, 44, 44, 44, 45, 45, 45, 45, 45, 45, 45, 45, 46, 46, 46, 46, 47, 47, 47, 47, 47, 47, 47, 47, 48, 48, 48, 48, 48, 48, 48, 48, 49, 49, 49, 49, 49, 49, 49, 49, 50, 50, 50, 50, 50, 50, 50, 50, 51, 51, 51, 51, 51, 51, 51, 51, 52, 52, 52, 52, 52, 52, 52, 52, 53, 53, 53, 53, 53, 53, 53, 53, 54, 54, 54, 54, 54, 54, 54, 54, 55, 55, 55, 55, 55, 55, 55, 55, 55, 55, 55, 55, 56, 56, 56, 56, 56, 56, 56, 56, 56, 56, 56, 56, 57, 57, 57, 57, 57, 57, 57, 57, 57, 57, 57, 57, 58, 58, 58, 58, 58, 58, 58, 58, 58, 58, 58, 58, 59, 59, 59, 59, 59, 59, 59, 59, 59, 59, 59, 59, 60, 60, 60, 60, 60, 60, 60, 60, 60, 60, 60, 60, 61, 61, 61, 61, 61, 61, 61, 61, 62, 62, 62, 62, 62, 62, 62, 62, 62, 62, 62, 62, 63, 63, 63, 63, 63, 63, 63, 63, 63, 63, 63, 63, 64, 64, 64, 64, 64, 64, 64, 64, 64, 64, 64, 64, 65, 65, 65, 65, 65, 65, 65, 65, 65, 65, 65, 65, 66, 66, 66, 66, 66, 66, 66, 66, 66, 66, 66, 66, 67, 67, 67, 67, 67, 67, 67, 67, 68, 68, 68, 68, 68, 68, 68, 68, 68, 68, 68, 68, 69, 69, 69, 69, 69, 69, 69, 69, 69, 69, 69, 69, 70, 70, 70, 70, 70, 70, 70, 70, 70, 70, 70, 70, 71, 71, 71, 71, 71, 71, 71, 71, 71, 71, 71, 71, 72, 72, 72, 72, 72, 72, 72, 72, 73, 73, 73, 73, 73, 73, 73, 73, 73, 73, 73, 73, 74, 74, 74, 74, 74, 74, 74, 74, 74, 74, 74, 74, 75, 75, 75, 75, 75, 75, 75, 75, 75, 75, 75, 75, 76, 76, 76, 76, 76, 76, 76, 76, 77, 77, 77, 77, 77, 77, 77, 77, 77, 77, 77, 77, 78, 78, 78, 78, 78, 78, 78, 78, 78, 78, 78, 78, 79, 79, 79, 79, 79, 79, 79, 79, 80, 80, 80, 80, 80, 80, 80, 80, 80, 80, 80, 80, 81, 81, 81, 81, 81, 81, 81, 81, 82, 82, 82, 82, 83, 83, 83, 83, 83, 83, 83, 83, 84, 84, 84, 84, 84, 84, 84, 84, 85, 85, 85, 85, 85, 85, 85, 85, 86, 86, 86, 86, 86, 86, 86, 86, 87, 87, 87, 87, 87, 87, 87, 87, 88, 88, 88, 88, 88, 88, 88, 88, 89, 89, 89, 89, 89, 89, 89, 89, 90, 90, 90, 90, 90, 90, 90, 90, 90, 90, 90, 90, 91, 91, 91, 91, 91, 91, 91, 91, 91, 91, 91, 91, 92, 92, 92, 92, 92, 92, 92, 92, 92, 92, 92, 92, 93, 93, 93, 93, 93, 93, 93, 93, 93, 93, 93, 93, 94, 94, 94, 94, 94, 94, 94, 94, 94, 94, 94, 94, 95, 95, 95, 95, 95, 95, 95, 95, 96, 96, 96, 96, 96, 96, 96, 96, 96, 96, 96, 96, 97, 97, 97, 97, 97, 97, 97, 97, 97, 97, 97, 97, 98, 98, 98, 98, 98, 98, 98, 98, 98, 98, 98, 98, 99, 99, 99, 99, 99, 99, 99, 99, 99, 99, 99, 99, 100, 100, 100, 100, 100, 100, 100, 100, 101, 101, 101, 101, 101, 101, 101, 101, 101, 101, 101, 101, 102, 102, 102, 102, 102, 102, 102, 102, 102, 102, 102, 102, 103, 103, 103, 103, 103, 103, 103, 103, 103, 103, 103, 103, 104, 104, 104, 104, 104, 104, 104, 104, 105, 105, 105, 105, 105, 105, 105, 105, 105, 105, 105, 105, 106, 106, 106, 106, 106, 106, 106, 106, 106, 106, 106, 106, 107, 107, 107, 107, 107, 107, 107, 107, 108, 108, 108, 108, 108, 108, 108, 108, 108, 108, 108, 108, 109, 109, 109, 109, 109, 109, 109, 109, 110, 110, 110, 110, 111, 111, 111, 111, 111, 111, 111, 111, 112, 112, 112, 112, 112, 112, 112, 112, 113, 113, 113, 113, 113, 113, 113, 113, 114, 114, 114, 114, 114, 114, 114, 114, 115, 115, 115, 115, 115, 115, 115, 115, 116, 116, 116, 116, 116, 116, 116, 116, 117, 117, 117, 117, 117, 117, 117, 117, 117, 117, 117, 117, 118, 118, 118, 118, 118, 118, 118, 118, 118, 118, 118, 118, 119, 119, 119, 119, 119, 119, 119, 119, 119, 119, 119, 119, 120, 120, 120, 120, 120, 120, 120, 120, 120, 120, 120, 120, 121, 121, 121, 121, 121, 121, 121, 121, 122, 122, 122, 122, 122, 122, 122, 122, 122, 122, 122, 122, 123, 123, 123, 123, 123, 123, 123, 123, 123, 123, 123, 123, 124, 124, 124, 124, 124, 124, 124, 124, 124, 124, 124, 124, 125, 125, 125, 125, 125, 125, 125, 125, 126, 126, 126, 126, 126, 126, 126, 126, 126, 126, 126, 126, 127, 127, 127, 127, 127, 127, 127, 127, 127, 127, 127, 127, 128, 128, 128, 128, 128, 128, 128, 128, 129, 129, 129, 129, 129, 129, 129, 129, 129, 129, 129, 129, 130, 130, 130, 130, 130, 130, 130, 130, 131, 131, 131, 131, 132, 132, 132, 132, 132, 132, 132, 132, 133, 133, 133, 133, 133, 133, 133, 133, 134, 134, 134, 134, 134, 134, 134, 134, 135, 135, 135, 135, 135, 135, 135, 135, 136, 136, 136, 136, 136, 136, 136, 136, 137, 137, 137, 137, 137, 137, 137, 137, 137, 137, 137, 137, 138, 138, 138, 138, 138, 138, 138, 138, 138, 138, 138, 138, 139, 139, 139, 139, 139, 139, 139, 139, 139, 139, 139, 139, 140, 140, 140, 140, 140, 140, 140, 140, 141, 141, 141, 141, 141, 141, 141, 141, 141, 141, 141, 141, 142, 142, 142, 142, 142, 142, 142, 142, 142, 142, 142, 142, 143, 143, 143, 143, 143, 143, 143, 143, 144, 144, 144, 144, 144, 144, 144, 144, 144, 144, 144, 144, 145, 145, 145, 145, 145, 145, 145, 145, 146, 146, 146, 146, 147, 147, 147, 147, 147, 147, 147, 147, 148, 148, 148, 148, 148, 148, 148, 148, 149, 149, 149, 149, 149, 149, 149, 149, 150, 150, 150, 150, 150, 150, 150, 150, 151, 151, 151, 151, 151, 151, 151, 151, 151, 151, 151, 151, 152, 152, 152, 152, 152, 152, 152, 152, 152, 152, 152, 152, 153, 153, 153, 153, 153, 153, 153, 153, 154, 154, 154, 154, 154, 154, 154, 154, 154, 154, 154, 154, 155, 155, 155, 155, 155, 155, 155, 155, 156, 156, 156, 156, 157, 157, 157, 157, 157, 157, 157, 157, 158, 158, 158, 158, 158, 158, 158, 158, 159, 159, 159, 159, 159, 159, 159, 159, 160, 160, 160, 160, 160, 160, 160, 160, 160, 160, 160, 160, 161, 161, 161, 161, 161, 161, 161, 161, 162, 162, 162, 162, 163, 163, 163, 163, 163, 163, 163, 163, 164, 164, 164, 164, 164, 164, 164, 164, 165, 165, 165, 165], ComplexF64[-1.7320508075688772 + 0.0im, -1.7320508075688772 + 0.0im, -1.7320508075688772 + 0.0im, -1.7320508075688772 + 0.0im, -1.7320508075688772 + 0.0im, -1.0 + 0.0im, -1.0 + 0.0im, -1.0 + 0.0im, -2.0000000000000004 + 0.0im, -1.4142135623730951 + 0.0im  …  -1.0 + 0.0im, -1.4142135623730951 + 0.0im, 0.7071067811865482 + 1.224744871391589im, 0.5000000000000004 - 0.8660254037844386im, 1.000000000000001 - 1.7320508075688774im, 0.8660254037844394 + 1.4999999999999998im, -1.7320508075688772 + 0.0im, -1.7320508075688772 + 0.0im, 0.8660254037844394 + 1.4999999999999998im, 0.8660254037844394 - 1.4999999999999998im], 165, 165)"
      ]
     },
     "execution_count": 26,
     "metadata": {},
     "output_type": "execute_result"
    }
   ],
   "source": [
    "H_mb = get_mb_op(basis_mb, H1)"
   ]
  },
  {
   "cell_type": "code",
   "execution_count": 27,
   "id": "57508e30-4771-447c-a1ea-07671900c002",
   "metadata": {
    "editable": true,
    "slideshow": {
     "slide_type": ""
    },
    "tags": []
   },
   "outputs": [],
   "source": [
    "EE, UU = eigenstates(dense(H_mb));"
   ]
  },
  {
   "cell_type": "code",
   "execution_count": 28,
   "id": "1db7d86d-63a7-4d59-a0b6-13527639c4bb",
   "metadata": {
    "tags": []
   },
   "outputs": [
    {
     "data": {
      "text/plain": [
       "165-element Vector{Float64}:\n",
       " -8.196152422706636\n",
       " -8.196152422706632\n",
       " -8.196152422706632\n",
       " -8.196152422706632\n",
       " -8.19615242270663\n",
       " -8.19615242270663\n",
       " -8.19615242270663\n",
       " -8.19615242270663\n",
       " -8.196152422706627\n",
       " -8.196152422706627\n",
       " -4.732050807568881\n",
       " -4.73205080756888\n",
       " -4.7320508075688785\n",
       "  ⋮\n",
       "  4.732050807568879\n",
       "  4.73205080756888\n",
       "  5.999999999999997\n",
       "  6.0\n",
       "  6.0\n",
       "  6.0\n",
       "  6.0\n",
       "  6.0\n",
       "  6.0\n",
       "  6.000000000000002\n",
       "  6.000000000000002\n",
       "  6.000000000000002"
      ]
     },
     "execution_count": 28,
     "metadata": {},
     "output_type": "execute_result"
    }
   ],
   "source": [
    "EE"
   ]
  },
  {
   "cell_type": "markdown",
   "id": "atmospheric-confirmation",
   "metadata": {},
   "source": [
    "# Cherns"
   ]
  },
  {
   "cell_type": "markdown",
   "id": "future-leisure",
   "metadata": {},
   "source": [
    "Berry Curvature:\n",
    "\\begin{equation}\n",
    "\\mathcal{F}(\\vec{\\theta}) = \\log \\left( U_x(\\vec{\\theta})U_y(\\vec{\\theta}+\\delta_x)U_x(\\vec{\\theta}+\\delta_y)^{-1}U_y(\\vec{\\theta})^{-1} \\right)\n",
    "\\end{equation}\n",
    "Link variables:\n",
    "\\begin{equation}\n",
    "U_\\mu(\\vec{\\theta}) = \\frac{\n",
    "det \\left( \\Phi(\\vec{\\theta})^\\dagger \\Phi(\\vec{\\theta}+\\delta_\\mu) \\right) \n",
    "}{\n",
    "| det \\left(\\Phi(\\vec{\\theta})^\\dagger \\Phi(\\vec{\\theta}+\\delta_\\mu) \\right) |} , \\quad \\delta_x = \\left(\\frac{2\\pi}{N_{\\theta}},0 \\right), \\delta_y = \\left(0, \\frac{2\\pi}{N_{\\theta}}\\right)\n",
    "\\end{equation}\n",
    "Chern Number:\n",
    "\\begin{equation}\n",
    "\\mathcal{C} = \\frac{1}{2\\pi i} \\sum_{\\vec{\\theta}} \\mathcal{F}(\\vec{\\theta})\n",
    "\\end{equation}"
   ]
  },
  {
   "cell_type": "code",
   "execution_count": 29,
   "id": "e5bf6dac-1321-4c92-ac59-5fec16a598c4",
   "metadata": {
    "tags": []
   },
   "outputs": [
    {
     "data": {
      "text/plain": [
       "165"
      ]
     },
     "execution_count": 29,
     "metadata": {},
     "output_type": "execute_result"
    }
   ],
   "source": [
    "H_mb.basis_l.shape[1]"
   ]
  },
  {
   "cell_type": "code",
   "execution_count": 30,
   "id": "b529e130-4f32-4de3-9db6-0bfcebb7e9ec",
   "metadata": {
    "tags": []
   },
   "outputs": [
    {
     "data": {
      "text/plain": [
       "165"
      ]
     },
     "execution_count": 30,
     "metadata": {},
     "output_type": "execute_result"
    }
   ],
   "source": [
    "dimH = size(H_mb)[1]"
   ]
  },
  {
   "cell_type": "code",
   "execution_count": 31,
   "id": "tight-xerox",
   "metadata": {
    "tags": []
   },
   "outputs": [
    {
     "data": {
      "text/plain": [
       "calc_F12 (generic function with 1 method)"
      ]
     },
     "execution_count": 31,
     "metadata": {},
     "output_type": "execute_result"
    }
   ],
   "source": [
    "@nbinclude(\"../../Chern_parameter_space_sum.ipynb\")"
   ]
  },
  {
   "cell_type": "code",
   "execution_count": 32,
   "id": "88a1a1c0-da3e-4c7f-baad-85476a673c8f",
   "metadata": {
    "editable": true,
    "slideshow": {
     "slide_type": ""
    },
    "tags": []
   },
   "outputs": [],
   "source": [
    "EEA, UUA = calc_states_hofstadter_mb(param_dict);"
   ]
  },
  {
   "cell_type": "code",
   "execution_count": 33,
   "id": "ac2ee1d7-bdfa-4c3d-8101-88b0570b9318",
   "metadata": {},
   "outputs": [
    {
     "data": {
      "text/plain": [
       "165×165 Matrix{ComplexF64}:\n",
       "   -0.111527+0.0244685im    …     0.049532-0.0524361im\n",
       "   -0.134025+0.00610843im       -0.0603038+0.048508im\n",
       "   -0.137854+0.0224221im        -0.0254881+0.042314im\n",
       "   -0.136092+0.0417135im        -0.0594248+0.00813616im\n",
       "  -0.0275493-0.0517152im         0.0502681-0.0394555im\n",
       " -0.00657802+0.035957im     …    -0.045794-0.110657im\n",
       "   -0.119779+0.045542im         -0.0263671+0.0826859im\n",
       " -0.00759081+0.00360099im        0.0100358-0.00905248im\n",
       "  -0.0428502-0.0231877im         0.0712821+0.0683425im\n",
       "   -0.113795+0.000717037im       0.0575146-0.00921941im\n",
       "   -0.137088+0.0210748im    …   0.00394458-0.0555625im\n",
       "   -0.119938+0.0126769im          0.107416-0.0355942im\n",
       "  -0.0503017-0.0396975im        -0.0240126+0.00180916im\n",
       "            ⋮               ⋱  \n",
       "   0.0742229-0.0480854im         0.0437618-0.0728964im\n",
       "  -0.0729089+0.0315166im          0.120507+0.0555304im\n",
       "   -0.031882+0.0417262im    …    0.0820799-4.90512e-5im\n",
       "  0.00740758-0.0349617im         0.0205887+0.0283803im\n",
       "  -0.0135179-0.0204424im          0.056726-0.0911419im\n",
       "  -0.0191214+0.0460187im       -0.00901539+0.0432563im\n",
       "   0.0118343-0.00924852im       -0.0100358+0.0143973im\n",
       "  -0.0103799+0.0206847im    …   -0.0629329-0.0957526im\n",
       "   0.0156019-0.0392851im         0.0199198+0.0176821im\n",
       "  -0.0402625+0.00754077im        0.0236814+0.0746285im\n",
       "   0.0411878-0.000441391im      -0.0475212+0.0690588im\n",
       "  -0.0345305+0.0im               -0.114291+0.0im"
      ]
     },
     "execution_count": 33,
     "metadata": {},
     "output_type": "execute_result"
    }
   ],
   "source": [
    "UUA[1,1,:,:]"
   ]
  },
  {
   "cell_type": "code",
   "execution_count": 34,
   "id": "5b90c62b-f29e-443c-9c8d-7bd417c96590",
   "metadata": {},
   "outputs": [
    {
     "ename": "LoadError",
     "evalue": "UndefVarError: `UUA0` not defined",
     "output_type": "error",
     "traceback": [
      "UndefVarError: `UUA0` not defined",
      ""
     ]
    }
   ],
   "source": [
    "UUA0"
   ]
  },
  {
   "cell_type": "code",
   "execution_count": 40,
   "id": "34dc135b-ccb6-41a8-9f1d-0aa659cf217e",
   "metadata": {
    "tags": []
   },
   "outputs": [
    {
     "data": {
      "text/plain": [
       "11-element Vector{Float64}:\n",
       " -8.196152422706636\n",
       " -8.196152422706632\n",
       " -8.196152422706632\n",
       " -8.196152422706632\n",
       " -8.19615242270663\n",
       " -8.19615242270663\n",
       " -8.19615242270663\n",
       " -8.19615242270663\n",
       " -8.196152422706627\n",
       " -8.196152422706627\n",
       " -4.732050807568881"
      ]
     },
     "execution_count": 40,
     "metadata": {},
     "output_type": "execute_result"
    }
   ],
   "source": [
    "using Plots\n",
    "scatter(real(EEA[1,1,:]))\n",
    "EEA[1,1,:][1:11]"
   ]
  },
  {
   "cell_type": "code",
   "execution_count": 41,
   "id": "d3f23172-cc09-4301-b156-418e3db33b05",
   "metadata": {
    "tags": []
   },
   "outputs": [
    {
     "data": {
      "text/plain": [
       "1-element Vector{Vector{Int64}}:\n",
       " [1, 10]"
      ]
     },
     "execution_count": 41,
     "metadata": {},
     "output_type": "execute_result"
    }
   ],
   "source": [
    "bands = [[1,6], [7,15], [16,24], [25,30], [31,39], [40,45]]\n",
    "bands2 = [[1,15], [16,30], [31,45]]\n",
    "bands3 = [[1,24], [25,45]]\n",
    "bands = [[1,10]]"
   ]
  },
  {
   "cell_type": "code",
   "execution_count": 42,
   "id": "568e2493-ca6d-46f2-ab84-ae55f755c8a6",
   "metadata": {
    "editable": true,
    "slideshow": {
     "slide_type": ""
    },
    "tags": []
   },
   "outputs": [
    {
     "name": "stdout",
     "output_type": "stream",
     "text": [
      "10.000000000000002 - 6.643411199888496e-17im\n",
      "=10.000000000000002 - 6.643411199888496e-17im\n"
     ]
    }
   ],
   "source": [
    "SS = 0\n",
    "for band in bands\n",
    "    UU = calc_link_vars(UUA[:,:,:,band[1]:band[2]])\n",
    "    F12 = calc_F12(UU)\n",
    "    println(sum(F12)/(2im*pi))\n",
    "    SS += sum(F12)/(2im*pi)\n",
    "end\n",
    "println(\"=\",SS)"
   ]
  },
  {
   "cell_type": "code",
   "execution_count": 26,
   "id": "5460b00c-f1b4-4270-9638-bf0abc44ae2d",
   "metadata": {
    "editable": true,
    "slideshow": {
     "slide_type": ""
    },
    "tags": []
   },
   "outputs": [
    {
     "name": "stdout",
     "output_type": "stream",
     "text": [
      "1.0000000000000002 - 2.328645042662223e-16im\n",
      "-2.0 + 7.116215009958553e-17im\n",
      "0.9999999999999999 - 8.995351320784108e-17im\n"
     ]
    }
   ],
   "source": [
    "for band in bands2\n",
    "    UU = calc_link_vars(UUA[:,:,:,band[1]:band[2]])\n",
    "    F12 = calc_F12(UU)\n",
    "    println(sum(F12)/(2im*pi))\n",
    "end"
   ]
  },
  {
   "cell_type": "code",
   "execution_count": 27,
   "id": "dc92e2d4-a2d1-4fd1-8787-6678bca26d62",
   "metadata": {
    "editable": true,
    "slideshow": {
     "slide_type": ""
    },
    "tags": []
   },
   "outputs": [
    {
     "name": "stdout",
     "output_type": "stream",
     "text": [
      "-1.0000000000000002 + 1.971413400239652e-16im\n",
      "0.9999999999999999 + 8.60153575558623e-17im\n"
     ]
    }
   ],
   "source": [
    "for band in bands3\n",
    "    UU = calc_link_vars(UUA[:,:,:,band[1]:band[2]])\n",
    "    F12 = calc_F12(UU)\n",
    "    println(sum(F12)/(2im*pi))\n",
    "end"
   ]
  },
  {
   "cell_type": "markdown",
   "id": "0c449a43-286c-4384-859b-532fec435d56",
   "metadata": {},
   "source": [
    "# Updated Chern"
   ]
  },
  {
   "cell_type": "code",
   "execution_count": 13,
   "id": "32c637da-6a5a-4b60-9476-35700ced4db9",
   "metadata": {},
   "outputs": [
    {
     "ename": "LoadError",
     "evalue": "adjoint not defined for Array{ComplexF64, 4}. Consider using `permutedims` for higher-dimensional arrays.",
     "output_type": "error",
     "traceback": [
      "adjoint not defined for Array{ComplexF64, 4}. Consider using `permutedims` for higher-dimensional arrays.",
      "",
      "Stacktrace:",
      " [1] error(s::String)",
      "   @ Base ./error.jl:35",
      " [2] adjoint(a::Array{ComplexF64, 4})",
      "   @ LinearAlgebra ~/julia-1.9.3/share/julia/stdlib/v1.9/LinearAlgebra/src/transpose.jl:3",
      " [3] calc_chern_hofstadter_mb_updated(param_dict::Dict{Any, Any}, n1::Int64, n2::Int64)",
      "   @ Main ~/Kagome-Lattice/My Numerical Calculations/Many-Body/Chern_parameter_space_sum.ipynb:In[3]:37",
      " [4] top-level scope",
      "   @ In[13]:4"
     ]
    }
   ],
   "source": [
    "@nbinclude(\"../../Chern_parameter_space_sum.ipynb\")\n",
    "n1 = 1\n",
    "n2 = 4\n",
    "calc_chern_hofstadter_mb_updated(param_dict, n1, n2)"
   ]
  },
  {
   "cell_type": "code",
   "execution_count": null,
   "id": "1299db89-1128-49c0-8963-dc7dbb6cb5ad",
   "metadata": {},
   "outputs": [],
   "source": []
  },
  {
   "cell_type": "code",
   "execution_count": null,
   "id": "cb6778d0-e001-4dfc-936e-e979c7d7f729",
   "metadata": {},
   "outputs": [],
   "source": []
  },
  {
   "cell_type": "code",
   "execution_count": null,
   "id": "bbce8774-e33e-4c35-a880-a47e533b2800",
   "metadata": {},
   "outputs": [],
   "source": []
  },
  {
   "cell_type": "code",
   "execution_count": null,
   "id": "09db3b9b-419b-4e79-8a5e-cd03a5e2f750",
   "metadata": {},
   "outputs": [],
   "source": []
  },
  {
   "cell_type": "code",
   "execution_count": null,
   "id": "55af5d74-3def-4ef7-8917-6fbca6231b16",
   "metadata": {},
   "outputs": [],
   "source": []
  },
  {
   "cell_type": "code",
   "execution_count": null,
   "id": "65a376b6-a288-4554-b303-7496fa9aaf11",
   "metadata": {},
   "outputs": [],
   "source": []
  },
  {
   "cell_type": "code",
   "execution_count": null,
   "id": "a4e77d24-07bb-4a69-8718-7b9017bb3a9e",
   "metadata": {},
   "outputs": [],
   "source": []
  },
  {
   "cell_type": "code",
   "execution_count": null,
   "id": "a1785e74-395a-4b25-9570-ad105a7f3fee",
   "metadata": {},
   "outputs": [],
   "source": []
  },
  {
   "cell_type": "code",
   "execution_count": null,
   "id": "1fc28b33-bf56-4a76-bb44-32e9abf911f7",
   "metadata": {},
   "outputs": [],
   "source": []
  },
  {
   "cell_type": "code",
   "execution_count": 1,
   "id": "aa6ade9a-4000-498f-a004-39cd85bbc48a",
   "metadata": {},
   "outputs": [],
   "source": [
    "using NBInclude\n",
    "@nbinclude(\"../Hofstadter Single Particle in Theta Space.ipynb\")\n",
    "using QuantumOptics\n",
    "using LinearAlgebra"
   ]
  },
  {
   "cell_type": "code",
   "execution_count": 2,
   "id": "3054e40b-7855-410c-9b6a-b5ce91a58e20",
   "metadata": {},
   "outputs": [],
   "source": [
    "Nx=Ny=3\n",
    "N=Nx*Ny\n",
    "p=1\n",
    "q=Ny\n",
    "alpha=p/q\n",
    "PN=2\n",
    "N1 = 10\n",
    "N2 = 10\n",
    "dx=2*pi/N1\n",
    "dy=dx\n",
    "Tx=collect(range(start=0, stop=2*pi-dx, step=dx))\n",
    "Ty=collect(range(start=0, stop=2*pi-dy, step=dy));"
   ]
  },
  {
   "cell_type": "code",
   "execution_count": 3,
   "id": "a6caba23-a32b-4671-9b7e-190e03c7ba4f",
   "metadata": {},
   "outputs": [
    {
     "data": {
      "text/plain": [
       "Op_Sp (generic function with 1 method)"
      ]
     },
     "execution_count": 3,
     "metadata": {},
     "output_type": "execute_result"
    }
   ],
   "source": [
    "function Op_Sp(Nx, Ny, alpha, Tx, Ty)\n",
    "    \n",
    "    H_T = HSP_T(Nx, Ny, alpha, Tx, Ty, 0)\n",
    "   \n",
    "    N = Nx*Ny\n",
    "    basis = NLevelBasis(N) \n",
    "    \n",
    "    H = SparseOperator(basis)\n",
    "    \n",
    "    for m in 1:N\n",
    "        for n in 1:N\n",
    "            H = H + H_T[m,n] * transition(basis, m, n)\n",
    "        end\n",
    "    end\n",
    "    \n",
    "    return H\n",
    "end"
   ]
  },
  {
   "cell_type": "code",
   "execution_count": 4,
   "id": "3e87d920-7ec3-4267-b162-d255b39a1494",
   "metadata": {},
   "outputs": [
    {
     "data": {
      "text/plain": [
       "9×9 Matrix{ComplexF64}:\n",
       "  0.0+0.0im  -1.0+0.0im  -1.0-0.0im  …   0.0+0.0im        0.0+0.0im\n",
       " -1.0-0.0im   0.0+0.0im  -1.0+0.0im     -1.0-0.0im        0.0+0.0im\n",
       " -1.0+0.0im  -1.0-0.0im   0.0+0.0im      0.0+0.0im       -1.0-0.0im\n",
       " -1.0+0.0im   0.0+0.0im   0.0+0.0im      0.0+0.0im        0.0+0.0im\n",
       "  0.0+0.0im  -1.0+0.0im   0.0+0.0im     -1.0+0.0im        0.0+0.0im\n",
       "  0.0+0.0im   0.0+0.0im  -1.0+0.0im  …   0.0+0.0im       -1.0+0.0im\n",
       " -1.0-0.0im   0.0+0.0im   0.0+0.0im      0.5-0.866025im   0.5+0.866025im\n",
       "  0.0+0.0im  -1.0-0.0im   0.0+0.0im      0.0+0.0im        0.5-0.866025im\n",
       "  0.0+0.0im   0.0+0.0im  -1.0-0.0im      0.5+0.866025im   0.0+0.0im"
      ]
     },
     "execution_count": 4,
     "metadata": {},
     "output_type": "execute_result"
    }
   ],
   "source": [
    "HSP_T(Nx, Ny, alpha, 0, 0, 0)"
   ]
  },
  {
   "cell_type": "code",
   "execution_count": 5,
   "id": "df160811-05e1-4c9c-bd0e-2539f86e2f45",
   "metadata": {},
   "outputs": [],
   "source": [
    "op = Op_Sp(Nx, Ny, alpha, Tx[1], Ty[1]);"
   ]
  },
  {
   "cell_type": "code",
   "execution_count": 6,
   "id": "5d301078-032c-4fab-a5cd-cf12d1afb7a9",
   "metadata": {},
   "outputs": [
    {
     "data": {
      "text/plain": [
       "get_mb_op (generic function with 1 method)"
      ]
     },
     "execution_count": 6,
     "metadata": {},
     "output_type": "execute_result"
    }
   ],
   "source": [
    "basis = NLevelBasis(N)\n",
    "states = bosonstates(basis, PN)\n",
    "function get_mb_op(PN, op)\n",
    "    basis = NLevelBasis(N)\n",
    "    states = bosonstates(basis, PN)\n",
    "    basis_mb = ManyBodyBasis(basis, states)\n",
    "    \n",
    "    H = SparseOperator(basis_mb) \n",
    "    for m in 1:N\n",
    "        for n in 1:N\n",
    "            H += op.data[m,n] * transition(basis_mb, m, n)\n",
    "            #H += H_T[m,n] * transition(basis_mb, m, n)\n",
    "        end\n",
    "    end\n",
    "    \n",
    "    return H\n",
    "end"
   ]
  },
  {
   "cell_type": "code",
   "execution_count": 7,
   "id": "daecec80-3118-4c9e-956b-dabf067ad8f6",
   "metadata": {},
   "outputs": [
    {
     "ename": "LoadError",
     "evalue": "MethodError: no method matching bosonstates(::Int64, ::Operator{NLevelBasis{Int64}, NLevelBasis{Int64}, SparseArrays.SparseMatrixCSC{ComplexF64, Int64}})\n\n\u001b[0mClosest candidates are:\n\u001b[0m  bosonstates(\u001b[91m::Basis\u001b[39m, ::Any)\n\u001b[0m\u001b[90m   @\u001b[39m \u001b[35mQuantumOpticsBase\u001b[39m \u001b[90m~/.julia/packages/QuantumOpticsBase/PqBOl/src/\u001b[39m\u001b[90m\u001b[4mmanybody.jl:45\u001b[24m\u001b[39m\n\u001b[0m  bosonstates(::Int64, \u001b[91m::Int64\u001b[39m)\n\u001b[0m\u001b[90m   @\u001b[39m \u001b[35mQuantumOpticsBase\u001b[39m \u001b[90m~/.julia/packages/QuantumOpticsBase/PqBOl/src/\u001b[39m\u001b[90m\u001b[4mmanybody.jl:43\u001b[24m\u001b[39m\n\u001b[0m  bosonstates(::Int64, \u001b[91m::Vector{Int64}\u001b[39m)\n\u001b[0m\u001b[90m   @\u001b[39m \u001b[35mQuantumOpticsBase\u001b[39m \u001b[90m~/.julia/packages/QuantumOpticsBase/PqBOl/src/\u001b[39m\u001b[90m\u001b[4mmanybody.jl:44\u001b[24m\u001b[39m\n",
     "output_type": "error",
     "traceback": [
      "MethodError: no method matching bosonstates(::Int64, ::Operator{NLevelBasis{Int64}, NLevelBasis{Int64}, SparseArrays.SparseMatrixCSC{ComplexF64, Int64}})\n\n\u001b[0mClosest candidates are:\n\u001b[0m  bosonstates(\u001b[91m::Basis\u001b[39m, ::Any)\n\u001b[0m\u001b[90m   @\u001b[39m \u001b[35mQuantumOpticsBase\u001b[39m \u001b[90m~/.julia/packages/QuantumOpticsBase/PqBOl/src/\u001b[39m\u001b[90m\u001b[4mmanybody.jl:45\u001b[24m\u001b[39m\n\u001b[0m  bosonstates(::Int64, \u001b[91m::Int64\u001b[39m)\n\u001b[0m\u001b[90m   @\u001b[39m \u001b[35mQuantumOpticsBase\u001b[39m \u001b[90m~/.julia/packages/QuantumOpticsBase/PqBOl/src/\u001b[39m\u001b[90m\u001b[4mmanybody.jl:43\u001b[24m\u001b[39m\n\u001b[0m  bosonstates(::Int64, \u001b[91m::Vector{Int64}\u001b[39m)\n\u001b[0m\u001b[90m   @\u001b[39m \u001b[35mQuantumOpticsBase\u001b[39m \u001b[90m~/.julia/packages/QuantumOpticsBase/PqBOl/src/\u001b[39m\u001b[90m\u001b[4mmanybody.jl:44\u001b[24m\u001b[39m\n",
      "",
      "Stacktrace:",
      " [1] bosonstates(onebodybasis::NLevelBasis{Int64}, Nparticles::Operator{NLevelBasis{Int64}, NLevelBasis{Int64}, SparseArrays.SparseMatrixCSC{ComplexF64, Int64}})",
      "   @ QuantumOpticsBase ~/.julia/packages/QuantumOpticsBase/PqBOl/src/manybody.jl:45",
      " [2] get_mb_op(PN::Operator{NLevelBasis{Int64}, NLevelBasis{Int64}, SparseArrays.SparseMatrixCSC{ComplexF64, Int64}}, op::Int64)",
      "   @ Main ./In[6]:5",
      " [3] top-level scope",
      "   @ In[7]:1"
     ]
    }
   ],
   "source": [
    "En, Un = eigen(dense(get_mb_op(op, PN)).data)\n",
    "En"
   ]
  },
  {
   "cell_type": "code",
   "execution_count": 8,
   "id": "5baf469f-9cf4-42ba-b083-0f137800f428",
   "metadata": {},
   "outputs": [
    {
     "ename": "LoadError",
     "evalue": "UndefVarError: `En` not defined",
     "output_type": "error",
     "traceback": [
      "UndefVarError: `En` not defined",
      "",
      "Stacktrace:",
      " [1] top-level scope",
      "   @ In[8]:2"
     ]
    }
   ],
   "source": [
    "using Plots\n",
    "scatter(En)"
   ]
  },
  {
   "cell_type": "code",
   "execution_count": 9,
   "id": "geographic-fruit",
   "metadata": {
    "tags": []
   },
   "outputs": [
    {
     "data": {
      "text/plain": [
       "Chern_Nums (generic function with 1 method)"
      ]
     },
     "execution_count": 9,
     "metadata": {},
     "output_type": "execute_result"
    }
   ],
   "source": [
    "# executeme\n",
    "\n",
    "function Chern_Nums(Tx, Ty, n1, n2)\n",
    "    \n",
    "    Sum=0\n",
    "    \n",
    "    for tx in range(start=1, stop=length(Tx))\n",
    "        for ty in range(start=1, stop=length(Ty))\n",
    "            \n",
    "            op = Op_Sp(Nx, Ny, 1/q, Tx[tx], Ty[ty])\n",
    "            H_mb = get_mb_op(PN, op)\n",
    "            w1, v1 = eigen(dense(H_mb).data)\n",
    "            i = sortperm(w1, by=real);w1 = w1[i];v1 = v1[:,i]\n",
    "\n",
    "            # if isapprox(v1[1,1], 0+0im, atol=0.001) == false\n",
    "            #     v1 = v1 ./ v1[1,1]\n",
    "            #     v1 = v1 / norm(v1)\n",
    "            # end\n",
    "            \n",
    "            v1 = v1[:,n1:n2]\n",
    "            \n",
    "            #------------------------------------\n",
    "            op = Op_Sp(Nx, Ny, 1/q, Tx[tx]+dx, Ty[ty])\n",
    "            H_mb = get_mb_op(PN, op)\n",
    "            w2, v2 = eigen(dense(H_mb).data)\n",
    "            i = sortperm(w2, by=real);w2 = w2[i];v2 = v2[:,i]\n",
    "\n",
    "            # if isapprox(v2[1,1], 0+0im, atol=0.001) == false\n",
    "            #     v2 = v2 ./ v2[1,1]\n",
    "            #     v2 = v2 / norm(v2)\n",
    "            # end\n",
    "            \n",
    "            v2 = v2[:,n1:n2]\n",
    "            \n",
    "            #------------------------------------\n",
    "            op = Op_Sp(Nx, Ny, 1/q, Tx[tx], Ty[ty]+dy)\n",
    "            H_mb = get_mb_op(PN, op)\n",
    "            w3, v3 = eigen(dense(H_mb).data)\n",
    "            i = sortperm(w3, by=real);w3 = w3[i];v3 = v3[:,i]\n",
    "\n",
    "\n",
    "            # if isapprox(v3[1,1], 0+0im, atol=0.001) == false\n",
    "            #     v3 = v3 ./ v3[1,1]\n",
    "            #     v3 = v3 / norm(v3)\n",
    "            # end\n",
    "            \n",
    "            v3 = v3[:,n1:n2]\n",
    "            \n",
    "            #------------------------------------\n",
    "            op = Op_Sp(Nx, Ny, 1/q, Tx[tx]+dx, Ty[ty]+dy)\n",
    "            H_mb = get_mb_op(PN, op)\n",
    "            w4, v4 = eigen(dense(H_mb).data)\n",
    "            i = sortperm(w4, by=real);w4 = w4[i];v4 = v4[:,i]\n",
    "\n",
    "            # if isapprox(v4[1,1], 0+0im, atol=0.001) == false\n",
    "            #     v4 = v4 ./ v4[1,1]\n",
    "            #     v4 = v4 / norm(v4)\n",
    "            # end\n",
    "            \n",
    "            v4 = v4[:,n1:n2]\n",
    "            \n",
    "            #----------LINK VARIABLES------------\n",
    "            U1=det(adjoint(v1)*v2)\n",
    "            U1=U1/abs(U1)\n",
    "            U2=det(adjoint(v2)*v4)\n",
    "            U2=U2/abs(U2)\n",
    "            U3=det(adjoint(v3)*v4)\n",
    "            U3=U3/abs(U3)\n",
    "            U4=det(adjoint(v1)*v3)\n",
    "            U4=U4/abs(U4)\n",
    "            \n",
    "            #----------BERRY CURVATURE-----------\n",
    "            F=log(U1*U2*1/U3*1/U4)\n",
    "            Sum=Sum+F\n",
    "            \n",
    "        end\n",
    "    end\n",
    "    \n",
    "    return 1/(2*pi*1im)*Sum\n",
    "end"
   ]
  },
  {
   "cell_type": "code",
   "execution_count": 10,
   "id": "moderate-experience",
   "metadata": {},
   "outputs": [
    {
     "name": "stdout",
     "output_type": "stream",
     "text": [
      "1.0000000000000002 + 4.134444996086515e-17im\n",
      "-2.000000000000001 - 5.25260875128845e-17im\n",
      "0.9999999999999996 - 3.8107296867100836e-16im\n"
     ]
    }
   ],
   "source": [
    "for i in 1:Int(length(states)/Nx):length(states)\n",
    "    C = Chern_Nums(Tx, Ty, i, i+(Int(length(states)/Nx))-1)\n",
    "    println(C)\n",
    "end"
   ]
  },
  {
   "cell_type": "code",
   "execution_count": 27,
   "id": "d6c5c159-918f-4426-845b-2f5b28454952",
   "metadata": {},
   "outputs": [
    {
     "data": {
      "text/plain": [
       "3.9999999999999982 + 6.041190288522051e-17im"
      ]
     },
     "execution_count": 27,
     "metadata": {},
     "output_type": "execute_result"
    }
   ],
   "source": [
    "Chern_Nums(Tx, Ty, 1, 6)"
   ]
  },
  {
   "cell_type": "code",
   "execution_count": 28,
   "id": "7664494b-8e38-4a8e-be47-f04d96a00057",
   "metadata": {},
   "outputs": [
    {
     "data": {
      "text/plain": [
       "-2.999999999999999 + 3.9212518912173246e-16im"
      ]
     },
     "execution_count": 28,
     "metadata": {},
     "output_type": "execute_result"
    }
   ],
   "source": [
    "Chern_Nums(Tx, Ty, 7, 15)"
   ]
  },
  {
   "cell_type": "code",
   "execution_count": 31,
   "id": "ac5a31a3-6ba3-4578-9bef-099b6ab3528e",
   "metadata": {},
   "outputs": [
    {
     "data": {
      "text/plain": [
       "6.0046910114196645 + 1.3136413777245537e-16im"
      ]
     },
     "execution_count": 31,
     "metadata": {},
     "output_type": "execute_result"
    }
   ],
   "source": [
    "Chern_Nums(Tx, Ty, 16, 24)"
   ]
  },
  {
   "cell_type": "code",
   "execution_count": 32,
   "id": "da51a933-16fa-44eb-9914-91168c0b761f",
   "metadata": {},
   "outputs": [
    {
     "data": {
      "text/plain": [
       "-6.9939547502816435 - 2.870039916419332e-17im"
      ]
     },
     "execution_count": 32,
     "metadata": {},
     "output_type": "execute_result"
    }
   ],
   "source": [
    "Chern_Nums(Tx, Ty, 25, 30)"
   ]
  },
  {
   "cell_type": "code",
   "execution_count": 33,
   "id": "5df7f246-c572-4cce-a6fa-f67da7ffc788",
   "metadata": {},
   "outputs": [
    {
     "data": {
      "text/plain": [
       "-3.0 - 2.1175657504475845e-16im"
      ]
     },
     "execution_count": 33,
     "metadata": {},
     "output_type": "execute_result"
    }
   ],
   "source": [
    "Chern_Nums(Tx, Ty, 31, 39)"
   ]
  },
  {
   "cell_type": "code",
   "execution_count": 34,
   "id": "12ca286f-cc15-4205-a497-dd01bad0c050",
   "metadata": {},
   "outputs": [
    {
     "data": {
      "text/plain": [
       "3.999999999999999 - 1.4359258779187598e-16im"
      ]
     },
     "execution_count": 34,
     "metadata": {},
     "output_type": "execute_result"
    }
   ],
   "source": [
    "Chern_Nums(Tx, Ty, 40, 45)"
   ]
  }
 ],
 "metadata": {
  "kernelspec": {
   "display_name": "Julia 1.9.3",
   "language": "julia",
   "name": "julia-1.9"
  },
  "language_info": {
   "file_extension": ".jl",
   "mimetype": "application/julia",
   "name": "julia",
   "version": "1.9.3"
  }
 },
 "nbformat": 4,
 "nbformat_minor": 5
}
