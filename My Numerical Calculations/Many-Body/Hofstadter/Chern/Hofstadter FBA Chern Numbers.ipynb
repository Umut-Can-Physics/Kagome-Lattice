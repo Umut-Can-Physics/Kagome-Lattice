{
 "cells": [
  {
   "cell_type": "markdown",
   "id": "2c41ed7e-717e-44c8-b1ed-746aa6fdb9e7",
   "metadata": {},
   "source": [
    "## What the important is not the arrival point, it is the journey itself. Enjoy your journey :)"
   ]
  },
  {
   "cell_type": "markdown",
   "id": "0704ee9d-3546-4a43-9353-c294bcee6522",
   "metadata": {},
   "source": [
    "# Including \n",
    "* Single-Particle Theta and Real Space Hopping Phases\n",
    "* Essential First Band Approximation Functions"
   ]
  },
  {
   "cell_type": "code",
   "execution_count": 25,
   "id": "a756046f-6d3d-4c95-be1e-b0b4b07afff2",
   "metadata": {
    "tags": []
   },
   "outputs": [],
   "source": [
    "using NBInclude; using LinearAlgebra\n",
    "@nbinclude(\"../Hofstadter Single Particle in Theta Space.ipynb\")\n",
    "@nbinclude(\"../../First Band Approximation Functions.ipynb\");"
   ]
  },
  {
   "cell_type": "markdown",
   "id": "14007332-aaa4-4626-9e41-73b1c8385497",
   "metadata": {},
   "source": [
    "# Initial Parameters"
   ]
  },
  {
   "cell_type": "code",
   "execution_count": 41,
   "id": "1d4c8deb-a2ca-456b-9a4e-71bcf2ecb21a",
   "metadata": {
    "tags": []
   },
   "outputs": [],
   "source": [
    "# Lattice Size\n",
    "Nx=3; Ny=3\n",
    "\n",
    "# Magnetic Flux Per Plaquet\n",
    "p=1; q=Ny\n",
    "\n",
    "# Total Particle Number\n",
    "# NON-INTERACTING CASE:\n",
    "# PN = 1\n",
    "\n",
    "# INTERACTING CASE\n",
    "# PN = [0, 1, 2]\n",
    "\n",
    "# Cut-Off for Sub-Space (Full Space for now...)\n",
    "# cut_off =  Nx*Ny\n",
    "\n",
    "# Interaction Potential\n",
    "U = 2\n",
    "\n",
    "# Theta Parameter Space\n",
    "#T_size = 5;"
   ]
  },
  {
   "cell_type": "markdown",
   "id": "e56b21ac-e908-455e-a2cc-da8552fc2e07",
   "metadata": {},
   "source": [
    "# Single Particle Operator"
   ]
  },
  {
   "cell_type": "code",
   "execution_count": 42,
   "id": "846e576d-5158-4c1b-9cb9-47dc8e21d598",
   "metadata": {
    "tags": []
   },
   "outputs": [
    {
     "data": {
      "text/plain": [
       "Sp_Op (generic function with 1 method)"
      ]
     },
     "execution_count": 42,
     "metadata": {},
     "output_type": "execute_result"
    }
   ],
   "source": [
    "function Sp_Op(Nx, Ny, p, q, Tx, Ty)\n",
    "\n",
    "    N=Nx*Ny\n",
    "    sp_basis = NLevelBasis(N) \n",
    "    \n",
    "    H_T = HSP_T(Nx, Ny, alpha, Tx, Ty, 0)\n",
    "    \n",
    "    H = SparseOperator(sp_basis)\n",
    "    \n",
    "    for m in 1:N\n",
    "        for n in 1:N\n",
    "            H = H + H_T[m,n] * transition(sp_basis, m, n)\n",
    "        end\n",
    "    end\n",
    "    \n",
    "    return H\n",
    "end"
   ]
  },
  {
   "cell_type": "code",
   "execution_count": 49,
   "id": "a741e57a-6f7a-4ef2-8868-08e43d091ceb",
   "metadata": {
    "scrolled": true
   },
   "outputs": [
    {
     "data": {
      "text/plain": [
       "9-element Vector{Ket{NLevelBasis{Int64}, Vector{ComplexF64}}}:\n",
       " Ket(dim=9)\n",
       "  basis: NLevel(N=9)\n",
       " -0.11914622089860404 - 0.5071558242595042im\n",
       " -0.21023517588349272 - 0.47443535494995515im\n",
       " -0.13253848174729294 - 0.39262817925003207im\n",
       " -0.03227352354697386 - 0.220407625447626im\n",
       " -0.10408041719825618 - 0.1915026151360129im\n",
       " -0.03272046930954956 - 0.09108895498488873im\n",
       "  0.04953365215294943 - 0.29810431958382494im\n",
       " -0.21860806220772788 - 0.20489487598470207im\n",
       "                  0.0 + 0.0im\n",
       " Ket(dim=9)\n",
       "  basis: NLevel(N=9)\n",
       "  0.05283121635129683 - 0.0915063509461098im\n",
       "  0.05283121635129684 + 0.09150635094610984im\n",
       "  0.39433756729740654 + 2.0e-17im\n",
       " -0.10566243270259378 + 4.0e-17im\n",
       " -0.10566243270259376 - 2.0e-17im\n",
       "  0.39433756729740654 + 2.0e-17im\n",
       " -0.19716878364870327 - 0.34150635094610976im\n",
       " -0.19716878364870347 + 0.3415063509461098im\n",
       "   0.5773502691896255 - 0.0im\n",
       " Ket(dim=9)\n",
       "  basis: NLevel(N=9)\n",
       " -0.21344349122547565 + 0.07216514163657863im\n",
       "  0.07879241070598719 - 0.21603889570766988im\n",
       "  0.05620428302407716 + 0.05430431507691935im\n",
       " -0.49423918354376795 + 0.1681526432176884im\n",
       "  0.17732162547066557 - 0.4931732352237388im\n",
       "  0.28820403734424804 + 0.29223590193146326im\n",
       " -0.22389597275917905 + 0.1907407708995988im\n",
       "  0.19518245203032447 - 0.22352546097418613im\n",
       "                  0.0 + 0.0im\n",
       " Ket(dim=9)\n",
       "  basis: NLevel(N=9)\n",
       "  0.00511993232353897 + 0.00354418868459366im\n",
       " -0.21291959283576464 - 0.16956258833432244im\n",
       "   0.5203278701325708 - 0.07106217897953766im\n",
       "   -0.106327959267083 - 0.24760861092160397im\n",
       "  -0.1474867374546604 + 0.35342717891379316im\n",
       " -0.17310677701891658 + 0.2180395251593042im\n",
       " -0.20482836862186757 + 0.4856388520467317im\n",
       " -0.22209310511879116 - 0.1617807588952385im\n",
       "                  0.0 + 0.0im\n",
       " Ket(dim=9)\n",
       "  basis: NLevel(N=9)\n",
       "   -0.377576739622152 + 0.18769189398365835im\n",
       "  0.10289077532135618 + 0.30521874177232977im\n",
       "  0.21468334559188035 - 0.01699761913220646im\n",
       " -0.18169256232907632 - 0.26870684773775866im\n",
       "   0.1461308159903748 + 0.0990650919814946im\n",
       "   0.1175268477886715 - 0.48046751494350826im\n",
       "   0.1405237985754597 - 0.15691427746723413im\n",
       " -0.05855869712548983 - 0.49319499323253746im\n",
       "                  0.0 + 0.0im\n",
       " Ket(dim=9)\n",
       "  basis: NLevel(N=9)\n",
       " -0.19716878364870305 + 0.3415063509461095im\n",
       " -0.19716878364870305 - 0.34150635094610965im\n",
       " -0.10566243270259341 + 1.0e-17im\n",
       "   0.3943375672974065 - 1.3e-16im\n",
       "   0.3943375672974064 + 9.0e-17im\n",
       " -0.10566243270259341 + 1.0e-17im\n",
       "  0.05283121635129617 + 0.09150635094610976im\n",
       "  0.05283121635129626 - 0.09150635094610984im\n",
       "   0.5773502691896262 + 0.0im\n",
       " Ket(dim=9)\n",
       "  basis: NLevel(N=9)\n",
       "  0.14433756729740635 - 0.24999999999999997im\n",
       "  0.14433756729740635 + 0.25000000000000006im\n",
       " -0.28867513459481275 - 3.0e-17im\n",
       " -0.28867513459481303 + 1.0e-16im\n",
       "   -0.288675134594813 - 6.0e-17im\n",
       " -0.28867513459481275 - 3.0e-17im\n",
       "    0.144337567297407 + 0.24999999999999964im\n",
       "  0.14433756729740677 - 0.2499999999999996im\n",
       "   0.5773502691896257 + 0.0im\n",
       " Ket(dim=9)\n",
       "  basis: NLevel(N=9)\n",
       " -0.18606406370766143 + 0.17669340363375458im\n",
       "  -0.0405495950276511 - 0.33246027337739437im\n",
       "  0.22661365873531236 + 0.15576686974364023im\n",
       "  -0.3081938400077677 - 0.13111315728157977im\n",
       " -0.24605300808179903 - 0.07278950408532332im\n",
       " -0.22661365873531225 - 0.15576686974364004im\n",
       "  0.49425790371542977 - 0.04558024635217447im\n",
       "  0.28660260310945074 + 0.4052497774627182im\n",
       "                  0.0 + 0.0im\n",
       " Ket(dim=9)\n",
       "  basis: NLevel(N=9)\n",
       " -0.41574613671274846 - 0.1063708377203794im\n",
       "  0.08505573466262378 + 0.3613743474154232im\n",
       "  0.33069040205012445 - 0.2550035096950437im\n",
       "  0.35548723246909164 + 0.107026746752331im\n",
       " -0.11575322066869312 - 0.4132321347786684im\n",
       "  -0.3306904020501246 + 0.2550035096950438im\n",
       "  0.06025890424365657 - 0.00065590903195114im\n",
       "   0.0306974860060696 + 0.05185778736324517im\n",
       "                  0.0 + 0.0im"
      ]
     },
     "execution_count": 49,
     "metadata": {},
     "output_type": "execute_result"
    }
   ],
   "source": [
    "Tx=Ty=0\n",
    "E_sp, V_sp = eigenstates(dense(Sp_Op(Nx, Ny, p, q, Tx, Ty)))\n",
    "V_sp"
   ]
  },
  {
   "cell_type": "code",
   "execution_count": 50,
   "id": "92955b03-331a-435c-8a8b-99933924dd47",
   "metadata": {},
   "outputs": [
    {
     "data": {
      "text/plain": [
       "9×9 Matrix{ComplexF64}:\n",
       "  -0.119146-0.507156im  0.0528312-0.0915064im    …  -0.415746-0.106371im\n",
       "  -0.210235-0.474435im  0.0528312+0.0915064im       0.0850557+0.361374im\n",
       "  -0.132538-0.392628im   0.394338+1.62352e-17im       0.33069-0.255004im\n",
       " -0.0322735-0.220408im  -0.105662+3.51927e-17im      0.355487+0.107027im\n",
       "   -0.10408-0.191503im  -0.105662-2.34618e-17im     -0.115753-0.413232im\n",
       " -0.0327205-0.091089im   0.394338+1.62352e-17im  …   -0.33069+0.255004im\n",
       "  0.0495337-0.298104im  -0.197169-0.341506im        0.0602589-0.000655909im\n",
       "  -0.218608-0.204895im  -0.197169+0.341506im        0.0306975+0.0518578im\n",
       "        0.0+0.0im         0.57735-0.0im                   0.0+0.0im"
      ]
     },
     "execution_count": 50,
     "metadata": {},
     "output_type": "execute_result"
    }
   ],
   "source": [
    "EE_sp, VV_sp = eigen(dense(Sp_Op(Nx, Ny, p, q, Tx, Ty)).data)\n",
    "VV_sp"
   ]
  },
  {
   "cell_type": "markdown",
   "id": "df006870-dd95-4c4a-8daa-350e876beb1a",
   "metadata": {},
   "source": [
    "# Sub-Space Many-Body"
   ]
  },
  {
   "cell_type": "code",
   "execution_count": 185,
   "id": "204c4b33-6509-4677-9755-923fb8d50c1c",
   "metadata": {
    "tags": []
   },
   "outputs": [
    {
     "data": {
      "text/plain": [
       "sub_H (generic function with 1 method)"
      ]
     },
     "execution_count": 185,
     "metadata": {},
     "output_type": "execute_result"
    }
   ],
   "source": [
    "@nbinclude(\"../Hofstadter MB in Julia.ipynb\"; regex=r\"#.*executeme\")\n",
    "function sub_H(Nx, Ny, p, q, Tx, Ty, cut_off, PN)\n",
    "\n",
    "    N=Nx*Ny\n",
    "    alpha = p/q\n",
    "    \n",
    "    # Single Particle Operator\n",
    "    H1 = Sp_Op(Nx, Ny, p, q, Tx, Ty)\n",
    "    \n",
    "    # Sub-States Go on to Cut-Off\n",
    "    sub_states = get_sub_states(H1, cut_off)\n",
    "    \n",
    "    sp_basis = NLevelBasis(N) \n",
    "    \n",
    "    # Sub-Space Basis and Projection Operator\n",
    "    basis_sub, P, Pt = get_projector_op(sub_states, sp_basis)\n",
    "\n",
    "    # Single-Particle Sub-Space Operator\n",
    "    H1_sub = get_subspace_op(H1, P, Pt)\n",
    "\n",
    "    # Many-Body Sub-Space Bosonic Fock States\n",
    "    states_mb = bosonstates(basis_sub, PN)     \n",
    "\n",
    "    # Many-Body Sub-Space Basis\n",
    "    basis_mb = ManyBodyBasis(basis_sub, states_mb)\n",
    "\n",
    "    basis_cut_mb, basis_cut_sp = get_Bosonic_MB_Basis(cut_off,PN);\n",
    "    \n",
    "    # Kinetic Term of Many-Body Sub-Space Operator\n",
    "    H1_MB = get_mb_op(basis_mb, basis_sub, H1_sub)\n",
    "    H_kin = SparseOperator(basis_cut_mb)\n",
    "    H_kin.data = H1_MB.data\n",
    "\n",
    "    # Interaction Term of Many-Body Sub-Space Operator\n",
    "    #H_Int = Hubbard_Interaction(P, Pt, basis_cut_mb, cut_off, U)\n",
    "    \n",
    "    return H_kin\n",
    "end"
   ]
  },
  {
   "cell_type": "code",
   "execution_count": 186,
   "id": "cbd83c40-5ef2-4716-b946-03dd116ee084",
   "metadata": {},
   "outputs": [],
   "source": [
    "Tx = Ty = 0\n",
    "cut_off =  Nx*Ny\n",
    "PN = 1;"
   ]
  },
  {
   "cell_type": "code",
   "execution_count": 187,
   "id": "4434e88f-d12a-4dd4-81a2-e8638db2947b",
   "metadata": {
    "scrolled": true
   },
   "outputs": [
    {
     "data": {
      "text/plain": [
       "9-element Vector{Ket{ManyBodyBasis{Vector{Int64}, NLevelBasis{Int64}, 0xe4e4baeab48fcd49, UInt64}, Vector{ComplexF64}}}:\n",
       " Ket(dim=9)\n",
       "  basis: ManyBody(onebodybasis=NLevel(N=9), states:9)\n",
       " -0.02123174865941653 + 0.10564147199067923im\n",
       "  -0.5354746924325581 + 0.8341289164491571im\n",
       " -0.02458258506997005 + 0.07266769064306317im\n",
       "              3.0e-17 - 1.2e-16im\n",
       "             -2.0e-17 - 4.0e-17im\n",
       "             -3.1e-16 + 4.3e-16im\n",
       "             -1.1e-16 + 1.6e-16im\n",
       "              7.0e-17 - 5.0e-17im\n",
       "                  0.0 - 0.0im\n",
       " Ket(dim=9)\n",
       "  basis: ManyBody(onebodybasis=NLevel(N=9), states:9)\n",
       "  0.22768685118156337 - 0.09547546849024292im\n",
       " -0.09486724412515558 - 0.0299386056369294im\n",
       "   0.9486625031502366 + 0.17084049202965787im\n",
       "              1.0e-17 + 1.0e-16im\n",
       "             -9.0e-17 + 2.0e-17im\n",
       "              2.0e-17 - 1.0e-17im\n",
       "             -1.7e-16 + 1.7e-16im\n",
       "                  0.0 + 9.0e-17im\n",
       "              3.4e-16 - 0.0im\n",
       " Ket(dim=9)\n",
       "  basis: ManyBody(onebodybasis=NLevel(N=9), states:9)\n",
       "    0.945012999493608 + 0.18542560704550348im\n",
       "  -0.0776813713700685 - 0.03956380838964333im\n",
       " -0.18572963710008045 - 0.17456398984425864im\n",
       "             -6.1e-16 - 1.8e-16im\n",
       "             -1.4e-16 - 7.0e-17im\n",
       "              1.7e-16 + 3.0e-17im\n",
       "             -2.0e-16 + 1.0e-16im\n",
       "             -6.7e-16 - 1.5e-16im\n",
       "             -3.1e-16 - 0.0im\n",
       " Ket(dim=9)\n",
       "  basis: ManyBody(onebodybasis=NLevel(N=9), states:9)\n",
       "              1.2e-16 + 1.0e-16im\n",
       "              3.9e-16 - 2.5e-16im\n",
       "              5.0e-17 + 1.0e-17im\n",
       " -0.15735627677589537 + 0.12819525913342658im\n",
       " -0.03054545564368618 - 0.08720729765643029im\n",
       "  -0.9187397625697877 + 0.3258590013228646im\n",
       "              6.0e-17 + 1.0e-17im\n",
       "             -2.3e-16 + 1.4e-16im\n",
       "             -3.0e-17 - 0.0im\n",
       " Ket(dim=9)\n",
       "  basis: ManyBody(onebodybasis=NLevel(N=9), states:9)\n",
       "             -1.9e-16 - 1.0e-17im\n",
       "             -4.0e-17 - 7.0e-17im\n",
       "              2.0e-17 + 1.9e-16im\n",
       " -0.07978907299820742 - 0.23329665341359448im\n",
       "  0.27062216775477355 - 0.9233295712998042im\n",
       "   0.0869413604826627 + 0.07664020000336252im\n",
       "              1.0e-16 - 3.9e-16im\n",
       "             -2.0e-17 + 5.0e-17im\n",
       "              1.1e-16 - 0.0im\n",
       " Ket(dim=9)\n",
       "  basis: ManyBody(onebodybasis=NLevel(N=9), states:9)\n",
       "              5.2e-16 + 3.3e-16im\n",
       "              1.1e-16 + 8.0e-17im\n",
       "             -1.5e-16 + 2.0e-17im\n",
       "   0.8631112823979479 + 0.391216394375818im\n",
       " -0.11287550448627022 - 0.23010242924615157im\n",
       " -0.12010489446587833 - 0.14790352881620075im\n",
       "             -1.6e-16 - 2.0e-16im\n",
       "              1.7e-16 - 6.0e-17im\n",
       "             -2.6e-16 - 0.0im\n",
       " Ket(dim=9)\n",
       "  basis: ManyBody(onebodybasis=NLevel(N=9), states:9)\n",
       "            -1.1e-16 - 1.0e-17im\n",
       "            -7.0e-17 + 8.0e-17im\n",
       "                 0.0 - 3.0e-17im\n",
       "             2.6e-16 + 1.1e-16im\n",
       "            -2.0e-16 + 1.1e-16im\n",
       "             1.2e-16 - 3.0e-17im\n",
       " 0.22688162641345436 - 0.2595109199787711im\n",
       " -0.5281705301384519 - 0.06928043682002849im\n",
       "  0.7729262074577691 + 0.0im\n",
       " Ket(dim=9)\n",
       "  basis: ManyBody(onebodybasis=NLevel(N=9), states:9)\n",
       "             1.1e-16 + 6.0e-17im\n",
       "             1.4e-16 - 1.2e-16im\n",
       "            -3.9e-16 - 1.2e-16im\n",
       "             1.0e-16 + 1.5e-16im\n",
       "             3.3e-16 - 1.8e-16im\n",
       "            -3.3e-16 + 7.0e-17im\n",
       " -0.5589163676292888 + 0.5115801835397278im\n",
       "  0.3320427542924635 - 0.01130825987282918im\n",
       "   0.561709838249308 + 0.0im\n",
       " Ket(dim=9)\n",
       "  basis: ManyBody(onebodybasis=NLevel(N=9), states:9)\n",
       "             -8.9e-16 - 1.7e-16im\n",
       "              8.0e-17 - 3.0e-17im\n",
       "                  0.0 + 6.0e-17im\n",
       "             -8.0e-17 + 1.2e-16im\n",
       "              3.3e-16 - 1.7e-16im\n",
       "              3.0e-17 + 1.7e-16im\n",
       " -0.46966959168383754 + 0.29408756257420254im\n",
       "  -0.7514288318627211 - 0.20300383098169im\n",
       " -0.29507140735572096 - 0.0im"
      ]
     },
     "execution_count": 187,
     "metadata": {},
     "output_type": "execute_result"
    }
   ],
   "source": [
    "E_mb, V_mb = eigenstates(dense( (sub_H(Nx, Ny, p, q, Tx, Ty, cut_off, PN)+sub_H(Nx, Ny, p, q, Tx, Ty, cut_off, PN)')/2 ))\n",
    "V_mb"
   ]
  },
  {
   "cell_type": "code",
   "execution_count": 188,
   "id": "6086b181-ca20-4187-bfe6-405443bd1b46",
   "metadata": {},
   "outputs": [
    {
     "data": {
      "text/plain": [
       "9×3 Matrix{ComplexF64}:\n",
       "   -0.0212317+0.105641im     …      0.945013+0.185426im\n",
       "    -0.535475+0.834129im          -0.0776814-0.0395638im\n",
       "   -0.0245826+0.0726677im           -0.18573-0.174564im\n",
       "  3.14419e-17-1.1601e-16im      -6.10623e-16-1.80411e-16im\n",
       " -1.84043e-17-3.84079e-17im     -1.38778e-16-6.93889e-17im\n",
       " -3.11058e-16+4.31512e-16im  …   1.73472e-16+3.1225e-17im\n",
       " -1.13258e-16+1.61275e-16im     -2.02963e-16+9.71445e-17im\n",
       "  6.59195e-17-5.30175e-17im     -6.66134e-16-1.45717e-16im\n",
       "  4.45222e-18-0.0im             -3.08242e-16-0.0im"
      ]
     },
     "execution_count": 188,
     "metadata": {},
     "output_type": "execute_result"
    }
   ],
   "source": [
    "EE_mb, VV_mb = eigen(dense((sub_H(Nx, Ny, p, q, Tx, Ty, cut_off, PN)+sub_H(Nx, Ny, p, q, Tx, Ty, cut_off, PN)')/2).data)\n",
    "VV_mb[:,1:3]"
   ]
  },
  {
   "cell_type": "code",
   "execution_count": 189,
   "id": "b2a14ede-5bd4-4799-a41a-c3cba182eb47",
   "metadata": {},
   "outputs": [
    {
     "name": "stdout",
     "output_type": "stream",
     "text": [
      "14\n",
      "25\n",
      "36\n"
     ]
    }
   ],
   "source": [
    "for (i,j) in enumerate(4:6)\n",
    "    println(i,j)\n",
    "end"
   ]
  },
  {
   "cell_type": "code",
   "execution_count": 201,
   "id": "1500e4e0-0dd4-4fd8-b5c2-69dd1b666aab",
   "metadata": {},
   "outputs": [
    {
     "data": {
      "text/plain": [
       "conv_mat (generic function with 3 methods)"
      ]
     },
     "execution_count": 201,
     "metadata": {},
     "output_type": "execute_result"
    }
   ],
   "source": [
    "function conv_mat(Nx,Ny,q,n1,n2,V::Matrix{ComplexF64})\n",
    "    v = zeros(Complex{Float64},Nx*Ny,q)\n",
    "    for (i,j) in enumerate(n1:n2)\n",
    "        v[:,i]=reshape(V[j].data,Nx*Ny,1)\n",
    "    end\n",
    "    return v\n",
    "end"
   ]
  },
  {
   "cell_type": "code",
   "execution_count": 203,
   "id": "bddf9fb7-b255-4590-b84c-3dceae2c2522",
   "metadata": {},
   "outputs": [
    {
     "data": {
      "text/plain": [
       "9×3 Matrix{ComplexF64}:\n",
       "    0.160604+0.0im      0.111966+0.0im      0.888115+0.0im\n",
       "  -0.0915554+0.0im    -0.0180398+0.0im     -0.361824+0.0im\n",
       "    0.720019+0.0im      0.259064+0.0im     -0.230252+0.0im\n",
       " 3.04725e-16+0.0im  -7.33982e-17+0.0im  -2.22045e-16+0.0im\n",
       " 3.35329e-16+0.0im   2.22531e-16+0.0im  -1.00614e-16+0.0im\n",
       " 3.01929e-16+0.0im  -6.08393e-17+0.0im    1.9984e-15+0.0im\n",
       " 1.61118e-16+0.0im  -8.71484e-17+0.0im   1.09541e-16+0.0im\n",
       " 1.11088e-16+0.0im  -8.54527e-17+0.0im           0.0+0.0im\n",
       "         0.0+0.0im           0.0+0.0im           0.0+0.0im"
      ]
     },
     "execution_count": 203,
     "metadata": {},
     "output_type": "execute_result"
    }
   ],
   "source": [
    "H = sub_H(Nx, Ny, p, q, tx+dx, ty+dy, cut_off, PN)\n",
    "#w4, v4 = eigen(dense((H+H')/2).data);v4 = v4[:,n1:n2]\n",
    "w4, v4 = eigenstates(dense((H+H')/2))\n",
    "v4 = conv_mat(Nx, Ny, q, n1, n2, v4)"
   ]
  },
  {
   "cell_type": "markdown",
   "id": "72e62838-b8cf-4104-b4e9-c3be69695efb",
   "metadata": {},
   "source": [
    "# Exact Diagonalization"
   ]
  },
  {
   "cell_type": "code",
   "execution_count": 26,
   "id": "dddbeaf6-3b0b-4f15-b74a-7c6390b376d0",
   "metadata": {
    "tags": []
   },
   "outputs": [],
   "source": [
    "# using DataFrames\n",
    "\n",
    "# function get_filtered_energies(pn, basis, H_total)\n",
    "    \n",
    "#     # Operator Form of Eigenstates\n",
    "#     E, V = eigenstates(dense(dense((H_total+H_total')/2)))\n",
    "\n",
    "#     # Energies According to Each Particle Number\n",
    "#     PN_Energies = Array{Float64}(undef, length(E), 2)\n",
    "#     for i in 1:length(E)\n",
    "#         # Particle Number in Each State\n",
    "#         PN_Energies[i] = round(expect(number(basis), V[i]))\n",
    "        \n",
    "#         # Energies in Each State\n",
    "#         PN_Energies[i,2] = E[i]\n",
    "#     end\n",
    "    \n",
    "#     # Fiter Process\n",
    "#     Filtered_Energies = DataFrame(PN_Energies, :auto)\n",
    "#     Filtered_Energies = filter(row -> (row.x1 == pn),  Filtered_Energies)\n",
    "    \n",
    "#     return Filtered_Energies\n",
    "# end"
   ]
  },
  {
   "cell_type": "code",
   "execution_count": 27,
   "id": "773ca436-811a-4c8e-9f18-c5869ac080df",
   "metadata": {
    "tags": []
   },
   "outputs": [],
   "source": [
    "# # Energies of Filtered Particle Number \n",
    "# pn = 1\n",
    "# df = get_filtered_energies(pn, basis_cut_mb, H_total)\n",
    "# filtered_energies = Matrix(df)[:,2]"
   ]
  },
  {
   "cell_type": "code",
   "execution_count": 28,
   "id": "eb4c9fad-5de3-4b51-ab18-81fe069cd372",
   "metadata": {
    "tags": []
   },
   "outputs": [],
   "source": [
    "# using Plots\n",
    "\n",
    "# # Plots Bands\n",
    "# scatter(1:length(filtered_energies), filtered_energies, legend=false, axis=nothing)"
   ]
  },
  {
   "cell_type": "code",
   "execution_count": 29,
   "id": "c80baa2a-b113-48ef-9e6c-a3f3f11f8973",
   "metadata": {},
   "outputs": [],
   "source": [
    "# # Eigen-States of Filtered Particle Number \n",
    "# function Filtered_Hubbard_States(filtered_energies, states)\n",
    "#     number_of_states = length(filtered_energies)\n",
    "#     return states[:,1:number_of_states]\n",
    "# end"
   ]
  },
  {
   "cell_type": "code",
   "execution_count": 30,
   "id": "b0f73da9-da6a-4023-b507-a5e284d89f83",
   "metadata": {},
   "outputs": [],
   "source": [
    "# pn = 1\n",
    "\n",
    "# function get_eigenstates(basis_cut_mb, H_total, pn)\n",
    "    \n",
    "#     E, V = eigen(dense((H_total+H_total')/2).data)\n",
    "\n",
    "#     # Sorting Again...\n",
    "#     #V = V[:, sortperm(E)]\n",
    "    \n",
    "#     df = get_filtered_energies(pn, basis_cut_mb, H_total)\n",
    "    \n",
    "#     filtered_energies = Matrix(df)[:,2]\n",
    "    \n",
    "#     #filtered_states = Filtered_Hubbard_States(filtered_energies, V)\n",
    "#     #filtered_states = dropcol(V, 4)\n",
    "    \n",
    "#     return filtered_energies, V\n",
    "# end\n",
    "\n",
    "# # Orthogonality \n",
    "# # filtered_energies, filtered_states = get_eigenstates(basis_cut_mb, H_total, pn)\n",
    "# # for i in 1:N\n",
    "# #     j = 9\n",
    "# #     a = filtered_states[:,j]\n",
    "# #     b = filtered_states[:,i]\n",
    "# #     println(dot(a,b))\n",
    "# # end\n",
    "# Tx = Ty = 0\n",
    "# H_total = get_total_H(Nx, Ny, alpha, sp_basis, Tx, Ty, cut_off, PN, basis_cut_sp, basis_cut_mb)\n",
    "# get_eigenstates(basis_cut_mb, H_total, pn)[1]"
   ]
  },
  {
   "cell_type": "markdown",
   "id": "c856a10f-41b7-4bbe-afed-1aa586ef6051",
   "metadata": {},
   "source": [
    "# CHERN CALCULATION SECTION"
   ]
  },
  {
   "cell_type": "code",
   "execution_count": 12,
   "id": "0c89e386-1991-43c0-82f2-2277d5ac195b",
   "metadata": {},
   "outputs": [],
   "source": [
    "# function findcol(M, col)                \n",
    "#     @inbounds @views for c in axes(M, 2)\n",
    "#        M[:,c] == col && return c       \n",
    "#     end                                 \n",
    "#     return nothing                      \n",
    "# end\n",
    "# col = [\n",
    "#     1.0 + 0.0im;\n",
    "#  0.0 + 0.0im;\n",
    "#  0.0 + 0.0im;\n",
    "#  0.0 + 0.0im;\n",
    "#  0.0 + 0.0im;\n",
    "#  0.0 + 0.0im;\n",
    "#  0.0 + 0.0im;\n",
    "#  0.0 + 0.0im;\n",
    "#  0.0 + 0.0im;\n",
    "#  0.0 + 0.0im\n",
    "# ]\n",
    "# dropcol(M::AbstractMatrix, j) = M[:, deleteat!(collect(axes(M, 2)), j)];"
   ]
  },
  {
   "cell_type": "code",
   "execution_count": 204,
   "id": "03abc0ae-4b29-4ba3-8798-985b8077cb20",
   "metadata": {
    "tags": []
   },
   "outputs": [],
   "source": [
    "# Mesh Grid for Theta Space Parameter\n",
    "T_size = 5;\n",
    "dx=2*pi/T_size; dy=dx;\n",
    "Tx=collect(range(start=0, stop=2*pi-dx, step=dx))\n",
    "Ty=collect(range(start=0, stop=2*pi-dy, step=dy));"
   ]
  },
  {
   "cell_type": "code",
   "execution_count": 206,
   "id": "328c4227-c033-4ac4-b1df-74e17c4803eb",
   "metadata": {},
   "outputs": [
    {
     "data": {
      "text/plain": [
       "0.0 + 0.0im"
      ]
     },
     "execution_count": 206,
     "metadata": {},
     "output_type": "execute_result"
    }
   ],
   "source": [
    "n1=1\n",
    "n2=3\n",
    "Sum=0\n",
    "for tx in Tx\n",
    "    for ty in Ty    \n",
    "        \n",
    "        H = sub_H(Nx, Ny, p, q, tx, ty, cut_off, PN)\n",
    "        #w1, v1 = eigen(dense((H+H')/2).data);v1 = v1[:,n1:n2]\n",
    "        w1, v1 = eigenstates(dense((H+H')/2))\n",
    "        v1 = conv_mat(Nx, Ny, q, n1, n2, v1)\n",
    "        \n",
    "        H = sub_H(Nx, Ny, p, q, tx+dx, ty, cut_off, PN)\n",
    "        #w2, v2 = eigen(dense((H+H')/2).data);v2 = v2[:,n1:n2]\n",
    "        w2, v2 = eigenstates(dense((H+H')/2))\n",
    "        v2 = conv_mat(Nx, Ny, q, n1, n2, v2)\n",
    "        \n",
    "        H = sub_H(Nx, Ny, p, q, tx, ty+dy, cut_off, PN)\n",
    "        #w3, v3 = eigen(dense((H+H')/2).data);v3 = v3[:,n1:n2]\n",
    "        w3, v3 = eigenstates(dense((H+H')/2))\n",
    "        v3 = conv_mat(Nx, Ny, q, n1, n2, v3)\n",
    "\n",
    "        H = sub_H(Nx, Ny, p, q, tx+dx, ty+dy, cut_off, PN)\n",
    "        #w4, v4 = eigen(dense((H+H')/2).data);v4 = v4[:,n1:n2]\n",
    "        w4, v4 = eigenstates(dense((H+H')/2))\n",
    "        v4 = conv_mat(Nx, Ny, q, n1, n2, v4)\n",
    "        \n",
    "        U1 = det(v1'*v2)/abs(det(v1'*v2))\n",
    "        U2 = det(v2'*v4)/abs(det(v2'*v4))\n",
    "        U3 = det(v3'*v4)/abs(det(v3'*v4))\n",
    "        U4 = det(v1'*v3)/abs(det(v1'*v3))\n",
    "\n",
    "        Sum+=log(U1*U2*1/U3*1/U4)\n",
    "    end\n",
    "end\n",
    "Sum/2*1im*pi"
   ]
  },
  {
   "cell_type": "code",
   "execution_count": 84,
   "id": "311ed1c5-8f61-4997-a0a8-14008bbc354a",
   "metadata": {
    "tags": []
   },
   "outputs": [
    {
     "data": {
      "text/plain": [
       "Chern_Nums (generic function with 2 methods)"
      ]
     },
     "execution_count": 84,
     "metadata": {},
     "output_type": "execute_result"
    }
   ],
   "source": [
    "function Chern_Nums(Nx, Ny, p, q, Tx, Ty, cut_off, PN)\n",
    "    \n",
    "    Sum=0\n",
    "    \n",
    "    for tx in Tx\n",
    "        for ty in Ty\n",
    "            \n",
    "            H = sub_H(Nx, Ny, p, q, tx, ty, cut_off, PN)\n",
    "            \n",
    "            w1, v1 = eigen(dense((H+H')/2).data)\n",
    "            \n",
    "            # v1 = v1[:, sortperm(w1)]\n",
    "            \n",
    "            # if isapprox(v1[1,1], 0+0im, atol=0.001) == false\n",
    "            #     v1 = v1 ./ v1[1,1]\n",
    "            #     v1 = v1/norm(v1)\n",
    "            # end\n",
    "\n",
    "            # col_idx = findcol(v1, col)\n",
    "            # v1 = dropcol(v1, col_idx)\n",
    "            \n",
    "            v1 = v1[:,n1:n2]\n",
    "            \n",
    "            #------------------------------------\n",
    "            \n",
    "            H = sub_H(Nx, Ny, p, q, tx+dx, ty, cut_off, PN)\n",
    "            \n",
    "            w2, v2 = eigen(dense((H+H')/2).data)\n",
    "            \n",
    "            # v2 = v2[:, sortperm(w2)]\n",
    "\n",
    "            # if isapprox(v2[1,1], 0+0im, atol=0.001) == false\n",
    "            #     v2 = v2 ./ v2[1,1]\n",
    "            #     v2 = v2 / norm(v2)\n",
    "            # end\n",
    "\n",
    "            # col_idx = findcol(v2, col)\n",
    "            # v2 = dropcol(v2, col_idx)\n",
    "            \n",
    "            v2 = v2[:,n1:n2]\n",
    "            \n",
    "            #------------------------------------\n",
    "            \n",
    "            H = sub_H(Nx, Ny, p, q, tx, ty+dy, cut_off, PN)\n",
    "            \n",
    "            w3, v3 = eigen(dense((H+H')/2).data)\n",
    "            \n",
    "            # v3 = v3[:, sortperm(w3)]\n",
    "\n",
    "            # if isapprox(v3[1,1], 0+0im, atol=0.001) == false\n",
    "            #     v3 = v3 ./ v3[1,1]\n",
    "            #     v3 = v3/norm(v3)\n",
    "            # end\n",
    "\n",
    "            # col_idx = findcol(v3, col)\n",
    "            # v3 = dropcol(v3, col_idx)\n",
    "            \n",
    "            v3 = v3[:,n1:n2]\n",
    "            \n",
    "            #------------------------------------\n",
    "            \n",
    "            H = sub_H(Nx, Ny, p, q, tx+dx, ty+dy, cut_off, PN)\n",
    "            \n",
    "            # w4, v4 = eigen(dense((H+H')/2).data)\n",
    "            \n",
    "            # v4 = v4[:, sortperm(w4)]\n",
    "\n",
    "            # if isapprox(v4[1,1], 0+0im, atol=0.001) == false\n",
    "            #     v4 = v4 ./ v4[1,1]\n",
    "            #     v4 = v4/norm(v4)\n",
    "            # end\n",
    "\n",
    "            # col_idx = findcol(v4, col)\n",
    "            # v4 = dropcol(v4, col_idx)\n",
    "            \n",
    "            v4 = v4[:,n1:n2]\n",
    "            \n",
    "            #----------LINK VARIABLES------------\n",
    "            \n",
    "            U1=det(adjoint(v1)*v2)\n",
    "            U1=U1/abs(U1)\n",
    "            \n",
    "            U2=det(adjoint(v2)*v4)\n",
    "            U2=U2/abs(U2)\n",
    "            \n",
    "            U3=det(adjoint(v3)*v4)\n",
    "            U3=U3/abs(U3)\n",
    "            \n",
    "            U4=det(adjoint(v1)*v3)\n",
    "            U4=U4/abs(U4)\n",
    "            \n",
    "            #----------BERRY CURVATURE-----------\n",
    "            \n",
    "            F=log(U1*U2*1/U3*1/U4)\n",
    "            Sum=Sum+F\n",
    "            \n",
    "        end\n",
    "    end\n",
    "    \n",
    "    C = 1/(2*pi*1im)*Sum\n",
    "    \n",
    "    return C\n",
    "end"
   ]
  },
  {
   "cell_type": "code",
   "execution_count": 85,
   "id": "d1d0f59a-5568-4d40-bc25-a9f9e9026586",
   "metadata": {
    "tags": []
   },
   "outputs": [
    {
     "ename": "LoadError",
     "evalue": "MethodError: no method matching exp(::Vector{ComplexF64})\n\u001b[0mClosest candidates are:\n\u001b[0m  exp(\u001b[91m::Union{Float16, Float32, Float64}\u001b[39m) at special/exp.jl:326\n\u001b[0m  exp(\u001b[91m::StridedMatrix{var\"#s885\"} where var\"#s885\"<:Union{Float32, Float64, ComplexF32, ComplexF64}\u001b[39m) at C:\\Users\\Can\\AppData\\Local\\Programs\\julia-1.8.1\\share\\julia\\stdlib\\v1.8\\LinearAlgebra\\src\\dense.jl:569\n\u001b[0m  exp(\u001b[91m::StridedMatrix{var\"#s885\"} where var\"#s885\"<:Union{Integer, Complex{<:Integer}}\u001b[39m) at C:\\Users\\Can\\AppData\\Local\\Programs\\julia-1.8.1\\share\\julia\\stdlib\\v1.8\\LinearAlgebra\\src\\dense.jl:570\n\u001b[0m  ...",
     "output_type": "error",
     "traceback": [
      "MethodError: no method matching exp(::Vector{ComplexF64})\n\u001b[0mClosest candidates are:\n\u001b[0m  exp(\u001b[91m::Union{Float16, Float32, Float64}\u001b[39m) at special/exp.jl:326\n\u001b[0m  exp(\u001b[91m::StridedMatrix{var\"#s885\"} where var\"#s885\"<:Union{Float32, Float64, ComplexF32, ComplexF64}\u001b[39m) at C:\\Users\\Can\\AppData\\Local\\Programs\\julia-1.8.1\\share\\julia\\stdlib\\v1.8\\LinearAlgebra\\src\\dense.jl:569\n\u001b[0m  exp(\u001b[91m::StridedMatrix{var\"#s885\"} where var\"#s885\"<:Union{Integer, Complex{<:Integer}}\u001b[39m) at C:\\Users\\Can\\AppData\\Local\\Programs\\julia-1.8.1\\share\\julia\\stdlib\\v1.8\\LinearAlgebra\\src\\dense.jl:570\n\u001b[0m  ...",
      "",
      "Stacktrace:",
      " [1] HSP_T(Nx::Int64, Ny::Int64, alpha::Float64, Tx::Vector{Float64}, Ty::Vector{Float64}, periodicity::Int64)",
      "   @ Main C:\\Users\\Can\\Downloads\\Git File\\Kagome-Lattice\\My Numerical Calculations\\Many-Body\\Hofstadter\\Hofstadter Single Particle in Theta Space.ipynb:In[8]:18",
      " [2] Sp_Op(Nx::Int64, Ny::Int64, p::Int64, q::Int64, Tx::Vector{Float64}, Ty::Vector{Float64})",
      "   @ Main .\\In[42]:6",
      " [3] sub_H(Nx::Int64, Ny::Int64, p::Int64, q::Int64, Tx::Vector{Float64}, Ty::Vector{Float64}, cut_off::Int64, PN::Int64)",
      "   @ Main .\\In[51]:8",
      " [4] Chern_Nums(Tx::Vector{Float64}, Ty::Vector{Float64}, n1::Int64, n2::Int64)",
      "   @ Main .\\In[70]:8",
      " [5] top-level scope",
      "   @ In[85]:1"
     ]
    }
   ],
   "source": [
    "Chern_Nums(Tx, Ty, 1, 3)"
   ]
  },
  {
   "cell_type": "code",
   "execution_count": null,
   "id": "ded6baef-efce-4f8a-b7e9-79d70cf188b7",
   "metadata": {},
   "outputs": [],
   "source": []
  },
  {
   "cell_type": "markdown",
   "id": "157a9d66-8c66-43d0-a2a5-82205db2edc1",
   "metadata": {},
   "source": [
    "# Check with \"Hofstadter MB Chern\" file"
   ]
  },
  {
   "cell_type": "code",
   "execution_count": 69,
   "id": "ab9167dc-aa3b-45ee-87ca-07f25b605c78",
   "metadata": {},
   "outputs": [
    {
     "data": {
      "text/plain": [
       "0"
      ]
     },
     "execution_count": 69,
     "metadata": {},
     "output_type": "execute_result"
    }
   ],
   "source": [
    "n1 = 1\n",
    "n2 = 9\n",
    "tx = ty = 0"
   ]
  },
  {
   "cell_type": "code",
   "execution_count": 71,
   "id": "8264ee72-d11d-4103-baed-deef05c439f9",
   "metadata": {},
   "outputs": [
    {
     "data": {
      "text/plain": [
       "8.52741319615994e-32 - 4.129748950277714e-16im"
      ]
     },
     "execution_count": 71,
     "metadata": {},
     "output_type": "execute_result"
    }
   ],
   "source": [
    "H = get_total_H(Nx, Ny, alpha, tx, ty, cut_off, PN)\n",
    "\n",
    "w1, v1 = eigen(dense((H+H')/2).data)\n",
    "\n",
    "v1 = v1[:, sortperm(w1)]\n",
    "\n",
    "if isapprox(v1[1,1], 0+0im, atol=0.001) == false\n",
    "    v1 = v1 ./ v1[1,1]\n",
    "    v1 = v1/norm(v1)\n",
    "end\n",
    "\n",
    "# col_idx = findcol(v1, col)\n",
    "# v1 = dropcol(v1, col_idx)\n",
    "\n",
    "v1 = v1[:,n1:n2]\n",
    "\n",
    "#------------------------------------\n",
    "\n",
    "H = get_total_H(Nx, Ny, alpha, tx+dx, ty, cut_off, PN)\n",
    "\n",
    "w2, v2 = eigen(dense((H+H')/2).data)\n",
    "\n",
    "v2 = v2[:, sortperm(w2)]\n",
    "\n",
    "if isapprox(v2[1,1], 0+0im, atol=0.001) == false\n",
    "    v2 = v2 ./ v2[1,1]\n",
    "    v2 = v2 / norm(v2)\n",
    "end\n",
    "\n",
    "# col_idx = findcol(v2, col)\n",
    "# v2 = dropcol(v2, col_idx)\n",
    "\n",
    "v2 = v2[:,n1:n2]\n",
    "\n",
    "#------------------------------------\n",
    "\n",
    "H = get_total_H(Nx, Ny, alpha, tx, ty+dy, cut_off, PN)\n",
    "\n",
    "w3, v3 = eigen(dense((H+H')/2).data)\n",
    "\n",
    "v3 = v3[:, sortperm(w3)]\n",
    "\n",
    "if isapprox(v3[1,1], 0+0im, atol=0.001) == false\n",
    "    v3 = v3 ./ v3[1,1]\n",
    "    v3 = v3/norm(v3)\n",
    "end\n",
    "\n",
    "# col_idx = findcol(v3, col)\n",
    "# v3 = dropcol(v3, col_idx)\n",
    "\n",
    "v3 = v3[:,n1:n2]\n",
    "\n",
    "#------------------------------------\n",
    "\n",
    "H = get_total_H(Nx, Ny, alpha, tx+dx, ty+dy, cut_off, PN)\n",
    "\n",
    "w4, v4 = eigen(dense((H+H')/2).data)\n",
    "\n",
    "v4 = v4[:, sortperm(w4)]\n",
    "\n",
    "if isapprox(v4[1,1], 0+0im, atol=0.001) == false\n",
    "    v4 = v4 ./ v4[1,1]\n",
    "    v4 = v4/norm(v4)\n",
    "end\n",
    "\n",
    "# col_idx = findcol(v4, col)\n",
    "# v4 = dropcol(v4, col_idx)\n",
    "\n",
    "v4 = v4[:,n1:n2]\n",
    "\n",
    "#----------LINK VARIABLES------------\n",
    "\n",
    "U1=det(adjoint(v1)*v2)\n",
    "U1=U1/abs(U1)\n",
    "\n",
    "U2=det(adjoint(v2)*v4)\n",
    "U2=U2/abs(U2)\n",
    "\n",
    "U3=det(adjoint(v3)*v4)\n",
    "U3=U3/abs(U3)\n",
    "\n",
    "U4=det(adjoint(v1)*v3)\n",
    "U4=U4/abs(U4)\n",
    "\n",
    "#----------BERRY CURVATURE-----------\n",
    "\n",
    "F=log(U1*U2*1/U3*1/U4)"
   ]
  },
  {
   "cell_type": "code",
   "execution_count": 73,
   "id": "3c873bb5-1b90-4745-ac09-372bcc763795",
   "metadata": {},
   "outputs": [
    {
     "data": {
      "text/plain": [
       "Eigen{ComplexF64, ComplexF64, Matrix{ComplexF64}, Vector{ComplexF64}}\n",
       "values:\n",
       "9-element Vector{ComplexF64}:\n",
       " -0.33171144944039976 + 0.0328424332420734im\n",
       " -0.32944251696367644 - 0.050781287180897416im\n",
       " -0.31160750339306503 + 0.11837176580693569im\n",
       "  -0.2689834502969823 + 0.19687309256839067im\n",
       " -0.16947438557723316 - 0.2870357882639909im\n",
       "  0.09547931048700889 + 0.31936626681607505im\n",
       "   0.2237484943774718 - 0.24707837294050172im\n",
       "   0.3326247298839208 + 0.02172326358446125im\n",
       "  0.33331581880936106 - 0.003417022469445724im\n",
       "vectors:\n",
       "9×9 Matrix{ComplexF64}:\n",
       "    0.0773191+0.511891im     …   3.08526e-16+1.62928e-19im\n",
       "     0.129845-0.56231im          1.64921e-16-1.29095e-16im\n",
       "     0.631615+0.0im             -1.48585e-16-1.38088e-16im\n",
       "  -2.3032e-16-4.75835e-16im         0.751813+0.0im\n",
       " -2.09388e-17-1.91545e-16im        -0.104663-0.021228im\n",
       " -1.77055e-16+3.33217e-16im  …      0.243715+0.603304im\n",
       " -4.12767e-16+3.11066e-16im       3.0247e-15-3.14179e-15im\n",
       " -2.24324e-16-1.04232e-16im      4.97207e-15-2.7847e-15im\n",
       "  -2.0129e-16-5.18985e-16im     -4.87233e-15-5.03361e-15im"
      ]
     },
     "execution_count": 73,
     "metadata": {},
     "output_type": "execute_result"
    }
   ],
   "source": [
    "eigen(v1)"
   ]
  },
  {
   "cell_type": "code",
   "execution_count": 63,
   "id": "b920f040-f4d8-41ed-8d34-d6e8d2958c4a",
   "metadata": {},
   "outputs": [
    {
     "data": {
      "text/plain": [
       "0.09998746114914639 - 0.9949886972287413im"
      ]
     },
     "execution_count": 63,
     "metadata": {},
     "output_type": "execute_result"
    }
   ],
   "source": [
    "PN = 1\n",
    "tx = 1\n",
    "ty = 1\n",
    "#---\n",
    "H = get_total_H(Nx, Ny, alpha, Tx[tx], Ty[ty], cut_off, PN)     \n",
    "w1, v1 = eigen(dense((H+H')/2).data)\n",
    "v1 = v1[:, sortperm(w1)]\n",
    "# drop_idx = findcol(v1, col)\n",
    "# v1 = dropcol(v1, drop_idx)\n",
    "if isapprox(v1[1,1], 0+0im, atol=0.001) == false\n",
    "    v1 = v1 ./ v1[1,1]\n",
    "    v1 = v1/norm(v1)\n",
    "end\n",
    "v1 = v1[:,n1:n2]\n",
    "#---\n",
    "H = get_total_H(Nx, Ny, alpha, Tx[tx]+dx, Ty[ty], cut_off, PN)     \n",
    "w2, v2 = eigen(dense((H+H')/2).data)\n",
    "v2 = v2[:, sortperm(w2)]\n",
    "# drop_idx = findcol(v2, col)\n",
    "# v2 = dropcol(v2, drop_idx)\n",
    "v2 = v2[:,n1:n2]\n",
    "#---\n",
    "H = get_total_H(Nx, Ny, alpha, Tx[tx], Ty[ty]+dy, cut_off, PN)     \n",
    "w3, v3 = eigen(dense((H+H')/2).data)\n",
    "v3 = v3[:, sortperm(w3)]\n",
    "# drop_idx = findcol(v3, col)\n",
    "# v3 = dropcol(v3, drop_idx)\n",
    "v3 = v3[:,n1:n2]\n",
    "#---\n",
    "H = get_total_H(Nx, Ny, alpha, Tx[tx]+dx, Ty[ty]+dy, cut_off, PN)     \n",
    "w4, v4 = eigen(dense((H+H')/2).data)\n",
    "v4 = v4[:, sortperm(w4)]\n",
    "# drop_idx = findcol(v4, col)\n",
    "# v4 = dropcol(v4, drop_idx)\n",
    "v4 = v4[:,n1:n2]\n",
    "#---\n",
    "U1=det(adjoint(v1)*v2)\n",
    "U1=U1/abs(U1)\n",
    "U2=det(adjoint(v2)*v4)\n",
    "U2=U2/abs(U2)\n",
    "U3=det(adjoint(v3)*v4)\n",
    "U3=U3/abs(U3)\n",
    "U4=det(adjoint(v1)*v3)\n",
    "U4=U4/abs(U4)"
   ]
  },
  {
   "cell_type": "code",
   "execution_count": 64,
   "id": "21a4bec9-b8ad-40a7-8bd2-9ebecf627de1",
   "metadata": {},
   "outputs": [
    {
     "data": {
      "text/plain": [
       "9-element Vector{Float64}:\n",
       " -2.546639394327162\n",
       " -2.5466393943271606\n",
       " -2.546639394327156\n",
       "  0.20750036611082465\n",
       "  0.20750036611082553\n",
       "  0.20750036611082567\n",
       "  2.339139028216335\n",
       "  2.339139028216336\n",
       "  2.3391390282163362"
      ]
     },
     "execution_count": 64,
     "metadata": {},
     "output_type": "execute_result"
    }
   ],
   "source": [
    "w4"
   ]
  },
  {
   "cell_type": "code",
   "execution_count": 65,
   "id": "b68518bc-b581-4b0b-b030-f17c397b9a2b",
   "metadata": {},
   "outputs": [
    {
     "data": {
      "text/plain": [
       "9×1 Matrix{ComplexF64}:\n",
       "    0.22768685118156337 - 0.09547546849024292im\n",
       "   -0.09486724412515558 - 0.029938605636929395im\n",
       "     0.9486625031502366 + 0.17084049202965787im\n",
       " 1.3877787807814457e-17 + 9.71445146547012e-17im\n",
       " -9.020562075079397e-17 + 1.5612511283791264e-17im\n",
       "   2.42861286636753e-17 - 6.938893903907228e-18im\n",
       " -1.734723475976807e-16 + 1.734723475976807e-16im\n",
       "                    0.0 + 9.367506770274758e-17im\n",
       "  3.354703270462921e-16 - 0.0im"
      ]
     },
     "execution_count": 65,
     "metadata": {},
     "output_type": "execute_result"
    }
   ],
   "source": [
    "v1[:,2:2]"
   ]
  },
  {
   "cell_type": "code",
   "execution_count": 53,
   "id": "e78a8b13-25d1-44a3-91ad-f4f2e156fc9d",
   "metadata": {},
   "outputs": [
    {
     "data": {
      "text/plain": [
       "9-element Vector{ComplexF64}:\n",
       "   0.04206576838675055 - 0.4844396754976562im\n",
       "  -0.11575260100874928 - 0.5048774472308879im\n",
       " -0.019490509012952906 - 0.41988073170016393im\n",
       "   0.08258610549150286 - 0.15124676786746452im\n",
       "  -0.13712915132022854 - 0.206737076416468im\n",
       "   0.02043777173323122 - 0.1578183693955im\n",
       "    0.1675828210222271 - 0.2475088598632606im\n",
       "  -0.20168809511772048 - 0.2682933538161717im\n",
       "                   0.0 + 0.0im"
      ]
     },
     "execution_count": 53,
     "metadata": {},
     "output_type": "execute_result"
    }
   ],
   "source": [
    "A = [0.04206576838675055 - 0.4844396754976562im\n",
    "  -0.11575260100874928 - 0.5048774472308879im\n",
    " -0.019490509012952906 - 0.41988073170016393im\n",
    "   0.08258610549150286 - 0.15124676786746452im\n",
    "  -0.13712915132022854 - 0.206737076416468im\n",
    "   0.02043777173323122 - 0.1578183693955im\n",
    "    0.1675828210222271 - 0.2475088598632606im\n",
    "  -0.20168809511772048 - 0.2682933538161717im\n",
    "                   0.0 + 0.0im]"
   ]
  },
  {
   "cell_type": "code",
   "execution_count": 58,
   "id": "801a72d1-8ee3-406a-b127-5ce3debb4413",
   "metadata": {},
   "outputs": [
    {
     "data": {
      "text/plain": [
       "9×1 Matrix{ComplexF64}:\n",
       " -1.7980148799796905e-16 + 2.6448446692249435e-16im\n",
       "  3.1046229679841827e-16 + 8.476994294114351e-16im\n",
       " -2.5323280801083318e-17 + 1.227685310490113e-16im\n",
       "      -1.090534299951408 - 0.4449238617579872im\n",
       "     0.36100073604058036 + 0.09170231699197172im\n",
       "     -2.7721760625514626 - 5.462498847891495im\n",
       "   8.007269689386028e-17 + 1.7066629704076275e-16im\n",
       "   8.099994278116515e-17 - 7.990563131415732e-16im\n",
       "                     NaN + NaN*im"
      ]
     },
     "execution_count": 58,
     "metadata": {},
     "output_type": "execute_result"
    }
   ],
   "source": [
    "v1[:,4:4] ./ A"
   ]
  },
  {
   "cell_type": "code",
   "execution_count": 49,
   "id": "d76141ca-6b31-4621-b5b4-c6d52a6d8a14",
   "metadata": {},
   "outputs": [
    {
     "data": {
      "text/plain": [
       "Eigen{ComplexF64, ComplexF64, Matrix{ComplexF64}, Vector{ComplexF64}}\n",
       "values:\n",
       "9-element Vector{ComplexF64}:\n",
       "  -0.9957553612966031 + 0.09203945050397394im\n",
       " -0.42003967852213075 - 0.9075057401840629im\n",
       "  -0.2605125273634965 + 0.9654704672265649im\n",
       " -0.18697876421055862 + 0.9823639558403457im\n",
       " -0.16395678044357687 - 0.9864675231078723im\n",
       "  0.09948476278099364 - 0.9950390856516179im\n",
       "  0.34409654116713523 - 0.9389342737150541im\n",
       "   0.5944419686309548 + 0.8041385116571351im\n",
       "   0.9444051792358245 - 0.32878390689410203im\n",
       "vectors:\n",
       "9×9 Matrix{ComplexF64}:\n",
       "    -0.503198-0.224812im     …   1.60054e-16-8.15074e-17im\n",
       "    -0.494572+0.291905im         9.05782e-17+7.01495e-17im\n",
       "     0.605344+0.0im             -1.78743e-16-8.81097e-18im\n",
       "  4.41479e-16+3.9254e-17im      -2.13933e-16+1.97689e-16im\n",
       " -1.69026e-17+7.64161e-17im      2.57639e-16-5.272e-16im\n",
       "  8.06173e-17+2.73893e-17im  …   1.03897e-16+2.52044e-16im\n",
       "  1.17364e-16+1.10632e-16im        -0.596552+0.306689im\n",
       "  3.10486e-16+2.09361e-16im         0.716812+0.0im\n",
       "   1.8894e-16+4.5858e-18im         -0.091453+0.16699im"
      ]
     },
     "execution_count": 49,
     "metadata": {},
     "output_type": "execute_result"
    }
   ],
   "source": [
    "eigen(v1)"
   ]
  },
  {
   "cell_type": "code",
   "execution_count": null,
   "id": "b2755a15-d6bf-4595-87ec-dbd223ad7d43",
   "metadata": {},
   "outputs": [],
   "source": []
  }
 ],
 "metadata": {
  "kernelspec": {
   "display_name": "Julia 1.8.1",
   "language": "julia",
   "name": "julia-1.8"
  },
  "language_info": {
   "file_extension": ".jl",
   "mimetype": "application/julia",
   "name": "julia",
   "version": "1.8.1"
  }
 },
 "nbformat": 4,
 "nbformat_minor": 5
}
