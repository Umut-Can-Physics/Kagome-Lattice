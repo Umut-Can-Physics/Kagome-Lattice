{
 "cells": [
  {
   "cell_type": "markdown",
   "id": "2c41ed7e-717e-44c8-b1ed-746aa6fdb9e7",
   "metadata": {},
   "source": [
    "## What the important is not the arrival point, it is the journey itself. Enjoy your journey :)"
   ]
  },
  {
   "cell_type": "markdown",
   "id": "0704ee9d-3546-4a43-9353-c294bcee6522",
   "metadata": {},
   "source": [
    "# Including \n",
    "* Single-Particle Theta and Real Space Hopping Phases\n",
    "* Essential First Band Approximation Functions"
   ]
  },
  {
   "cell_type": "code",
   "execution_count": 1,
   "id": "a756046f-6d3d-4c95-be1e-b0b4b07afff2",
   "metadata": {
    "tags": []
   },
   "outputs": [],
   "source": [
    "using NBInclude; using LinearAlgebra\n",
    "@nbinclude(\"../Hofstadter Single Particle in Theta Space.ipynb\")\n",
    "@nbinclude(\"../../First Band Approximation Functions.ipynb\");"
   ]
  },
  {
   "cell_type": "markdown",
   "id": "14007332-aaa4-4626-9e41-73b1c8385497",
   "metadata": {},
   "source": [
    "# Initial Parameters"
   ]
  },
  {
   "cell_type": "code",
   "execution_count": 2,
   "id": "1d4c8deb-a2ca-456b-9a4e-71bcf2ecb21a",
   "metadata": {
    "tags": []
   },
   "outputs": [
    {
     "data": {
      "text/plain": [
       "2"
      ]
     },
     "execution_count": 2,
     "metadata": {},
     "output_type": "execute_result"
    }
   ],
   "source": [
    "# Lattice Size\n",
    "Nx=3; Ny=3\n",
    "\n",
    "# Magnetic Flux Per Plaquet\n",
    "p=1; q=Ny\n",
    "\n",
    "# Total Particle Number\n",
    "# NON-INTERACTING CASE:\n",
    "# PN = 1\n",
    "\n",
    "# INTERACTING CASE\n",
    "# PN = [0, 1, 2]\n",
    "\n",
    "# Cut-Off for Sub-Space (Full Space for now...)\n",
    "# cut_off =  Nx*Ny\n",
    "\n",
    "# Interaction Potential\n",
    "U = 2\n",
    "\n",
    "# Theta Parameter Space\n",
    "#T_size = 5;"
   ]
  },
  {
   "cell_type": "markdown",
   "id": "e56b21ac-e908-455e-a2cc-da8552fc2e07",
   "metadata": {},
   "source": [
    "# Single Particle Operator"
   ]
  },
  {
   "cell_type": "code",
   "execution_count": 5,
   "id": "846e576d-5158-4c1b-9cb9-47dc8e21d598",
   "metadata": {
    "tags": []
   },
   "outputs": [
    {
     "data": {
      "text/plain": [
       "Sp_Op (generic function with 1 method)"
      ]
     },
     "execution_count": 5,
     "metadata": {},
     "output_type": "execute_result"
    }
   ],
   "source": [
    "function Sp_Op(Nx, Ny, p, q, Tx, Ty)\n",
    "\n",
    "    N=Nx*Ny\n",
    "    sp_basis = NLevelBasis(N) \n",
    "    alpha = p/q\n",
    "    H_T = HSP_T(Nx, Ny, alpha, Tx, Ty, 0)\n",
    "    \n",
    "    H = SparseOperator(sp_basis)\n",
    "    \n",
    "    for m in 1:N\n",
    "        for n in 1:N\n",
    "            H = H + H_T[m,n] * transition(sp_basis, m, n)\n",
    "        end\n",
    "    end\n",
    "    \n",
    "    return H\n",
    "end"
   ]
  },
  {
   "cell_type": "code",
   "execution_count": 6,
   "id": "a741e57a-6f7a-4ef2-8868-08e43d091ceb",
   "metadata": {
    "scrolled": true
   },
   "outputs": [
    {
     "data": {
      "text/plain": [
       "9-element Vector{Ket{NLevelBasis{Int64}, Vector{ComplexF64}}}:\n",
       " Ket(dim=9)\n",
       "  basis: NLevel(N=9)\n",
       "  -0.5236908080315215 + 0.1069745591682153im\n",
       "  -0.2725592543837004 + 0.1746077693120747im\n",
       " -0.31620322366105996 + 0.19498681380751773im\n",
       "  -0.4311832307247995 - 0.06048931081605267im\n",
       "  0.09163027764126223 - 0.01620583009467im\n",
       " -0.06763321014385974 + 0.2511315536478213im\n",
       "  -0.4108041862293564 - 0.0168453415386927im\n",
       "  0.00361802300195956 + 0.19128175427579128im\n",
       "                  0.0 + 0.0im\n",
       " Ket(dim=9)\n",
       "  basis: NLevel(N=9)\n",
       "  0.17888721799194074 + 0.06687696286364347im\n",
       "  0.25586341072642066 + 0.38977721642729274im\n",
       "  0.04094007872944448 + 0.1953222723922436im\n",
       "  0.19319021147890783 - 0.30865578020857065im\n",
       "   0.3038249253548298 + 0.47031953145937194im\n",
       "  -0.3229002535636492 + 0.07697619273448im\n",
       " -0.00126473255614168 - 0.09373244821159452im\n",
       "  0.17537961582623027 + 0.3323723921968757im\n",
       "                  0.0 + 0.0im\n",
       " Ket(dim=9)\n",
       "  basis: NLevel(N=9)\n",
       "  0.05283121635129683 - 0.09150635094610982im\n",
       "  0.05283121635129683 + 0.09150635094610984im\n",
       "   0.3943375672974065 + 2.0e-17im\n",
       " -0.10566243270259378 + 1.0e-17im\n",
       " -0.10566243270259378 - 2.0e-17im\n",
       "   0.3943375672974065 + 2.0e-17im\n",
       " -0.19716878364870327 - 0.34150635094610965im\n",
       " -0.19716878364870327 + 0.34150635094610965im\n",
       "   0.5773502691896256 - 0.0im\n",
       " Ket(dim=9)\n",
       "  basis: NLevel(N=9)\n",
       "  0.14719498012624876 + 0.15996488093858702im\n",
       " -0.04822365435456347 - 0.24119446164119077im\n",
       "  0.41279650767909537 - 0.1559851482951406im\n",
       "  -0.1935588720249928 - 0.0904714861855398im\n",
       " -0.10436964672871785 + 0.21909419766748753im\n",
       " -0.40115934257977864 + 0.19541863448081231im\n",
       " -0.27876818537104286 + 0.37054867584811946im\n",
       "  -0.4203196759624451 - 0.04650732988535961im\n",
       "                  0.0 + 0.0im\n",
       " Ket(dim=9)\n",
       "  basis: NLevel(N=9)\n",
       " -0.19716878364870305 + 0.34150635094610965im\n",
       "   -0.197168783648703 - 0.34150635094610965im\n",
       " -0.10566243270259332 - 1.0e-17im\n",
       "  0.39433756729740654 - 4.0e-17im\n",
       "  0.39433756729740654 + 9.0e-17im\n",
       " -0.10566243270259332 - 1.0e-17im\n",
       "  0.05283121635129621 + 0.09150635094610966im\n",
       "  0.05283121635129615 - 0.0915063509461097im\n",
       "    0.577350269189626 + 0.0im\n",
       " Ket(dim=9)\n",
       "  basis: NLevel(N=9)\n",
       " -0.2658365142396445 + 0.24475914434428975im\n",
       " 0.07324730169298156 + 0.3346128508893549im\n",
       "  0.1403393110688314 - 0.328239757154301im\n",
       " -0.3409166929375212 - 0.12632061619400448im\n",
       "  0.3224376791564082 + 0.12235141520100579im\n",
       "   0.089853706545065 - 0.3390838159326264im\n",
       "  0.3219359151061352 - 0.05922860681815422im\n",
       " -0.2505612223421828 - 0.2838244101074704im\n",
       "                 0.0 + 0.0im\n",
       " Ket(dim=9)\n",
       "  basis: NLevel(N=9)\n",
       "   0.4471329364580613 - 0.0817342038244302im\n",
       "  -0.2762230474839499 - 0.25578941140339384im\n",
       " -0.17090988897411136 + 0.3375236152278239im\n",
       "   -0.359631652036383 + 0.1113214705301588im\n",
       "  0.29435036509908213 + 0.34636137992919935im\n",
       "  0.17090988897411133 - 0.3375236152278239im\n",
       " -0.08750128442167839 - 0.02958726670572873im\n",
       " -0.01812731761513247 - 0.09057196852580535im\n",
       "                  0.0 + 0.0im\n",
       " Ket(dim=9)\n",
       "  basis: NLevel(N=9)\n",
       " -0.13285520378041663 + 0.1604404932928153im\n",
       " -0.17094518444425766 - 0.2811589389791901im\n",
       "  0.30380038822467403 + 0.12071844568637478im\n",
       "  -0.3289633758791851 + 0.00746340289374869im\n",
       " -0.20537314487749256 - 0.03483573485239138im\n",
       "  -0.3038003882246734 - 0.12071844568637448im\n",
       "   0.4618185796596021 - 0.16790389618656362im\n",
       "  0.37631832932175024 + 0.31599467383158103im\n",
       "                  0.0 + 0.0im\n",
       " Ket(dim=9)\n",
       "  basis: NLevel(N=9)\n",
       "  0.14433756729740627 - 0.2499999999999999im\n",
       "  0.14433756729740624 + 0.24999999999999992im\n",
       " -0.28867513459481275 + 2.0e-17im\n",
       " -0.28867513459481287 + 3.0e-17im\n",
       " -0.28867513459481287 - 6.0e-17im\n",
       " -0.28867513459481275 + 2.0e-17im\n",
       "   0.1443375672974068 + 0.24999999999999967im\n",
       "  0.14433756729740677 - 0.24999999999999967im\n",
       "   0.5773502691896258 + 0.0im"
      ]
     },
     "execution_count": 6,
     "metadata": {},
     "output_type": "execute_result"
    }
   ],
   "source": [
    "Tx=Ty=0\n",
    "E_sp, V_sp = eigenstates(dense(Sp_Op(Nx, Ny, p, q, Tx, Ty)))\n",
    "V_sp"
   ]
  },
  {
   "cell_type": "code",
   "execution_count": 7,
   "id": "92955b03-331a-435c-8a8b-99933924dd47",
   "metadata": {},
   "outputs": [
    {
     "data": {
      "text/plain": [
       "9×9 Matrix{ComplexF64}:\n",
       "  -0.523691+0.106975im      0.178887+0.066877im   …   0.144338-0.25im\n",
       "  -0.272559+0.174608im      0.255863+0.389777im       0.144338+0.25im\n",
       "  -0.316203+0.194987im     0.0409401+0.195322im      -0.288675+1.71752e-17im\n",
       "  -0.431183-0.0604893im      0.19319-0.308656im      -0.288675+3.20494e-17im\n",
       "  0.0916303-0.0162058im     0.303825+0.47032im       -0.288675-6.40988e-17im\n",
       " -0.0676332+0.251132im       -0.3229+0.0769762im  …  -0.288675+1.71752e-17im\n",
       "  -0.410804-0.0168453im  -0.00126473-0.0937324im      0.144338+0.25im\n",
       " 0.00361802+0.191282im       0.17538+0.332372im       0.144338-0.25im\n",
       "        0.0+0.0im                0.0+0.0im             0.57735+0.0im"
      ]
     },
     "execution_count": 7,
     "metadata": {},
     "output_type": "execute_result"
    }
   ],
   "source": [
    "EE_sp, VV_sp = eigen(dense(Sp_Op(Nx, Ny, p, q, Tx, Ty)).data)\n",
    "VV_sp"
   ]
  },
  {
   "cell_type": "markdown",
   "id": "df006870-dd95-4c4a-8daa-350e876beb1a",
   "metadata": {},
   "source": [
    "# Sub-Space Many-Body"
   ]
  },
  {
   "cell_type": "code",
   "execution_count": 11,
   "id": "204c4b33-6509-4677-9755-923fb8d50c1c",
   "metadata": {
    "tags": []
   },
   "outputs": [
    {
     "data": {
      "text/plain": [
       "sub_H (generic function with 1 method)"
      ]
     },
     "execution_count": 11,
     "metadata": {},
     "output_type": "execute_result"
    }
   ],
   "source": [
    "@nbinclude(\"../Hofstadter MB in Julia.ipynb\"; regex=r\"#.*executeme\")\n",
    "function sub_H(Nx, Ny, p, q, Tx, Ty, cut_off, PN)\n",
    "\n",
    "    N=Nx*Ny\n",
    "    alpha = p/q\n",
    "    \n",
    "    # Single Particle Operator\n",
    "    H1 = Sp_Op(Nx, Ny, p, q, Tx, Ty)\n",
    "    \n",
    "    # Sub-States Go on to Cut-Off\n",
    "    sub_states = get_sub_states(H1, cut_off)\n",
    "    \n",
    "    sp_basis = NLevelBasis(N) \n",
    "    \n",
    "    # Sub-Space Basis and Projection Operator\n",
    "    basis_sub, P, Pt = get_projector_op(sub_states, sp_basis)\n",
    "\n",
    "    # Single-Particle Sub-Space Operator\n",
    "    H1_sub = get_subspace_op(H1, P, Pt)\n",
    "\n",
    "    # Many-Body Sub-Space Bosonic Fock States\n",
    "    states_mb = bosonstates(basis_sub, PN)     \n",
    "\n",
    "    # Many-Body Sub-Space Basis\n",
    "    basis_mb = ManyBodyBasis(basis_sub, states_mb)\n",
    "\n",
    "    basis_cut_mb, basis_cut_sp = get_Bosonic_MB_Basis(cut_off,PN);\n",
    "    \n",
    "    # Kinetic Term of Many-Body Sub-Space Operator\n",
    "    #H1_MB = get_mb_op(basis_mb, basis_sub, H1_sub)\n",
    "    H1_MB = get_mb_op(basis_mb, H1_sub)\n",
    "    H_kin = SparseOperator(basis_cut_mb)\n",
    "    H_kin.data = H1_MB.data\n",
    "\n",
    "    # Interaction Term of Many-Body Sub-Space Operator\n",
    "    #H_Int = Hubbard_Interaction(P, Pt, basis_cut_mb, cut_off, U)\n",
    "    \n",
    "    return H_kin\n",
    "end"
   ]
  },
  {
   "cell_type": "code",
   "execution_count": 32,
   "id": "cbd83c40-5ef2-4716-b946-03dd116ee084",
   "metadata": {},
   "outputs": [],
   "source": [
    "Tx = Ty = 0\n",
    "cut_off =  Nx*Ny\n",
    "PN = 1;"
   ]
  },
  {
   "cell_type": "code",
   "execution_count": 34,
   "id": "4434e88f-d12a-4dd4-81a2-e8638db2947b",
   "metadata": {
    "scrolled": true
   },
   "outputs": [
    {
     "data": {
      "text/plain": [
       "9-element Vector{Float64}:\n",
       " -2.732050807568878\n",
       " -2.7320508075688776\n",
       " -2.7320508075688767\n",
       "  0.732050807568876\n",
       "  0.7320508075688767\n",
       "  0.732050807568884\n",
       "  1.9999999999999942\n",
       "  1.9999999999999993\n",
       "  2.000000000000001"
      ]
     },
     "execution_count": 34,
     "metadata": {},
     "output_type": "execute_result"
    }
   ],
   "source": [
    "E_mb, V_mb = eigenstates(dense( (sub_H(Nx, Ny, p, q, Tx, Ty, cut_off, PN)+sub_H(Nx, Ny, p, q, Tx, Ty, cut_off, PN)')/2 ))\n",
    "E_mb"
   ]
  },
  {
   "cell_type": "code",
   "execution_count": 14,
   "id": "6086b181-ca20-4187-bfe6-405443bd1b46",
   "metadata": {},
   "outputs": [
    {
     "data": {
      "text/plain": [
       "9×3 Matrix{ComplexF64}:\n",
       "     0.235268-0.102956im     …      0.867947-0.0887439im\n",
       "     0.133934-0.548764im          -0.0112439+0.459441im\n",
       "     0.696674+0.36002im             0.118151-0.116711im\n",
       "  5.55112e-17+1.38778e-17im     -4.16334e-16+2.15106e-16im\n",
       "  5.68989e-16+2.63678e-16im     -3.64292e-16+1.73472e-17im\n",
       "  4.16334e-17-3.88578e-16im  …   1.21431e-16+1.38778e-16im\n",
       " -3.64292e-17-8.97719e-17im     -1.04083e-17+4.16334e-17im\n",
       " -5.55112e-17+2.63678e-16im     -5.55112e-17-2.08167e-17im\n",
       "          0.0+0.0im                      0.0+0.0im"
      ]
     },
     "execution_count": 14,
     "metadata": {},
     "output_type": "execute_result"
    }
   ],
   "source": [
    "EE_mb, VV_mb = eigen(dense((sub_H(Nx, Ny, p, q, Tx, Ty, cut_off, PN)+sub_H(Nx, Ny, p, q, Tx, Ty, cut_off, PN)')/2).data)\n",
    "VV_mb[:,1:3]"
   ]
  },
  {
   "cell_type": "code",
   "execution_count": 15,
   "id": "b2a14ede-5bd4-4799-a41a-c3cba182eb47",
   "metadata": {},
   "outputs": [
    {
     "name": "stdout",
     "output_type": "stream",
     "text": [
      "14\n",
      "25\n",
      "36\n"
     ]
    }
   ],
   "source": [
    "for (i,j) in enumerate(4:6)\n",
    "    println(i,j)\n",
    "end"
   ]
  },
  {
   "cell_type": "code",
   "execution_count": 25,
   "id": "1500e4e0-0dd4-4fd8-b5c2-69dd1b666aab",
   "metadata": {},
   "outputs": [
    {
     "data": {
      "text/plain": [
       "conv_mat (generic function with 2 methods)"
      ]
     },
     "execution_count": 25,
     "metadata": {},
     "output_type": "execute_result"
    }
   ],
   "source": [
    "#function conv_mat(Nx,Ny,q,n1,n2,V::Matrix{ComplexF64})\n",
    "function conv_mat(Nx,Ny,q,n1,n2,V)\n",
    "    v = zeros(Complex{Float64},Nx*Ny,q)\n",
    "    for (i,j) in enumerate(n1:n2)\n",
    "        v[:,i]=reshape(V[j].data,Nx*Ny,1)\n",
    "    end\n",
    "    return v\n",
    "end"
   ]
  },
  {
   "cell_type": "code",
   "execution_count": 26,
   "id": "bddf9fb7-b255-4590-b84c-3dceae2c2522",
   "metadata": {},
   "outputs": [
    {
     "data": {
      "text/plain": [
       "9×3 Matrix{ComplexF64}:\n",
       "     0.230099+0.0290792im    …     -0.935924-0.236999im\n",
       "     0.257732+0.119578im           0.0903034-0.0763375im\n",
       "    -0.906247-0.21024im            -0.203864-0.111063im\n",
       "  6.93889e-17+4.996e-16im       -7.63278e-17+2.498e-16im\n",
       " -8.32667e-17-2.01228e-16im      8.32667e-17+1.07553e-16im\n",
       " -2.77556e-17+1.94289e-16im  …  -8.04912e-16+1.38778e-17im\n",
       " -1.37043e-16-2.63678e-16im      1.76942e-16-1.04083e-16im\n",
       "          0.0-4.33681e-17im              0.0-1.21431e-17im\n",
       "          0.0+0.0im                      0.0+0.0im"
      ]
     },
     "execution_count": 26,
     "metadata": {},
     "output_type": "execute_result"
    }
   ],
   "source": [
    "tx=ty=0;dx=dy=1\n",
    "H = sub_H(Nx, Ny, p, q, tx+dx, ty+dy, cut_off, PN)\n",
    "#w4, v4 = eigen(dense((H+H')/2).data);v4 = v4[:,n1:n2]\n",
    "w4, v4 = eigenstates(dense((H+H')/2))\n",
    "v4 = conv_mat(Nx, Ny, q, n1, n2, v4)"
   ]
  },
  {
   "cell_type": "markdown",
   "id": "72e62838-b8cf-4104-b4e9-c3be69695efb",
   "metadata": {},
   "source": [
    "# Exact Diagonalization"
   ]
  },
  {
   "cell_type": "code",
   "execution_count": 26,
   "id": "dddbeaf6-3b0b-4f15-b74a-7c6390b376d0",
   "metadata": {
    "tags": []
   },
   "outputs": [],
   "source": [
    "# using DataFrames\n",
    "\n",
    "# function get_filtered_energies(pn, basis, H_total)\n",
    "    \n",
    "#     # Operator Form of Eigenstates\n",
    "#     E, V = eigenstates(dense(dense((H_total+H_total')/2)))\n",
    "\n",
    "#     # Energies According to Each Particle Number\n",
    "#     PN_Energies = Array{Float64}(undef, length(E), 2)\n",
    "#     for i in 1:length(E)\n",
    "#         # Particle Number in Each State\n",
    "#         PN_Energies[i] = round(expect(number(basis), V[i]))\n",
    "        \n",
    "#         # Energies in Each State\n",
    "#         PN_Energies[i,2] = E[i]\n",
    "#     end\n",
    "    \n",
    "#     # Fiter Process\n",
    "#     Filtered_Energies = DataFrame(PN_Energies, :auto)\n",
    "#     Filtered_Energies = filter(row -> (row.x1 == pn),  Filtered_Energies)\n",
    "    \n",
    "#     return Filtered_Energies\n",
    "# end"
   ]
  },
  {
   "cell_type": "code",
   "execution_count": 27,
   "id": "773ca436-811a-4c8e-9f18-c5869ac080df",
   "metadata": {
    "tags": []
   },
   "outputs": [],
   "source": [
    "# # Energies of Filtered Particle Number \n",
    "# pn = 1\n",
    "# df = get_filtered_energies(pn, basis_cut_mb, H_total)\n",
    "# filtered_energies = Matrix(df)[:,2]"
   ]
  },
  {
   "cell_type": "code",
   "execution_count": 28,
   "id": "eb4c9fad-5de3-4b51-ab18-81fe069cd372",
   "metadata": {
    "tags": []
   },
   "outputs": [],
   "source": [
    "# using Plots\n",
    "\n",
    "# # Plots Bands\n",
    "# scatter(1:length(filtered_energies), filtered_energies, legend=false, axis=nothing)"
   ]
  },
  {
   "cell_type": "code",
   "execution_count": 29,
   "id": "c80baa2a-b113-48ef-9e6c-a3f3f11f8973",
   "metadata": {},
   "outputs": [],
   "source": [
    "# # Eigen-States of Filtered Particle Number \n",
    "# function Filtered_Hubbard_States(filtered_energies, states)\n",
    "#     number_of_states = length(filtered_energies)\n",
    "#     return states[:,1:number_of_states]\n",
    "# end"
   ]
  },
  {
   "cell_type": "code",
   "execution_count": 30,
   "id": "b0f73da9-da6a-4023-b507-a5e284d89f83",
   "metadata": {},
   "outputs": [],
   "source": [
    "# pn = 1\n",
    "\n",
    "# function get_eigenstates(basis_cut_mb, H_total, pn)\n",
    "    \n",
    "#     E, V = eigen(dense((H_total+H_total')/2).data)\n",
    "\n",
    "#     # Sorting Again...\n",
    "#     #V = V[:, sortperm(E)]\n",
    "    \n",
    "#     df = get_filtered_energies(pn, basis_cut_mb, H_total)\n",
    "    \n",
    "#     filtered_energies = Matrix(df)[:,2]\n",
    "    \n",
    "#     #filtered_states = Filtered_Hubbard_States(filtered_energies, V)\n",
    "#     #filtered_states = dropcol(V, 4)\n",
    "    \n",
    "#     return filtered_energies, V\n",
    "# end\n",
    "\n",
    "# # Orthogonality \n",
    "# # filtered_energies, filtered_states = get_eigenstates(basis_cut_mb, H_total, pn)\n",
    "# # for i in 1:N\n",
    "# #     j = 9\n",
    "# #     a = filtered_states[:,j]\n",
    "# #     b = filtered_states[:,i]\n",
    "# #     println(dot(a,b))\n",
    "# # end\n",
    "# Tx = Ty = 0\n",
    "# H_total = get_total_H(Nx, Ny, alpha, sp_basis, Tx, Ty, cut_off, PN, basis_cut_sp, basis_cut_mb)\n",
    "# get_eigenstates(basis_cut_mb, H_total, pn)[1]"
   ]
  },
  {
   "cell_type": "markdown",
   "id": "c856a10f-41b7-4bbe-afed-1aa586ef6051",
   "metadata": {},
   "source": [
    "# CHERN CALCULATION SECTION"
   ]
  },
  {
   "cell_type": "code",
   "execution_count": 12,
   "id": "0c89e386-1991-43c0-82f2-2277d5ac195b",
   "metadata": {},
   "outputs": [],
   "source": [
    "# function findcol(M, col)                \n",
    "#     @inbounds @views for c in axes(M, 2)\n",
    "#        M[:,c] == col && return c       \n",
    "#     end                                 \n",
    "#     return nothing                      \n",
    "# end\n",
    "# col = [\n",
    "#     1.0 + 0.0im;\n",
    "#  0.0 + 0.0im;\n",
    "#  0.0 + 0.0im;\n",
    "#  0.0 + 0.0im;\n",
    "#  0.0 + 0.0im;\n",
    "#  0.0 + 0.0im;\n",
    "#  0.0 + 0.0im;\n",
    "#  0.0 + 0.0im;\n",
    "#  0.0 + 0.0im;\n",
    "#  0.0 + 0.0im\n",
    "# ]\n",
    "# dropcol(M::AbstractMatrix, j) = M[:, deleteat!(collect(axes(M, 2)), j)];"
   ]
  },
  {
   "cell_type": "code",
   "execution_count": 27,
   "id": "03abc0ae-4b29-4ba3-8798-985b8077cb20",
   "metadata": {
    "tags": []
   },
   "outputs": [],
   "source": [
    "# Mesh Grid for Theta Space Parameter\n",
    "T_size = 5;\n",
    "dx=2*pi/T_size; dy=dx;\n",
    "Tx=collect(range(start=0, stop=2*pi-dx, step=dx))\n",
    "Ty=collect(range(start=0, stop=2*pi-dy, step=dy));"
   ]
  },
  {
   "cell_type": "code",
   "execution_count": 36,
   "id": "2a28f705-72d5-4ba7-87d6-e8323a0116b8",
   "metadata": {},
   "outputs": [
    {
     "data": {
      "image/png": "[encoded data removed]",
      "image/svg+xml": [
       "<?xml version=\"1.0\" encoding=\"utf-8\"?>\n",
       "<svg xmlns=\"http://www.w3.org/2000/svg\" xmlns:xlink=\"http://www.w3.org/1999/xlink\" width=\"600\" height=\"400\" viewBox=\"0 0 2400 1600\">\n",
       "<defs>\n",
       "  <clipPath id=\"clip450\">\n",
       "    <rect x=\"0\" y=\"0\" width=\"2400\" height=\"1600\"/>\n",
       "  </clipPath>\n",
       "</defs>\n",
       "<path clip-path=\"url(#clip450)\" d=\"M0 1600 L2400 1600 L2400 0 L0 0  Z\" fill=\"#ffffff\" fill-rule=\"evenodd\" fill-opacity=\"1\"/>\n",
       "<defs>\n",
       "  <clipPath id=\"clip451\">\n",
       "    <rect x=\"480\" y=\"0\" width=\"1681\" height=\"1600\"/>\n",
       "  </clipPath>\n",
       "</defs>\n",
       "<path clip-path=\"url(#clip450)\" d=\"M147.478 1486.45 L2352.76 1486.45 L2352.76 47.2441 L147.478 47.2441  Z\" fill=\"#ffffff\" fill-rule=\"evenodd\" fill-opacity=\"1\"/>\n",
       "<defs>\n",
       "  <clipPath id=\"clip452\">\n",
       "    <rect x=\"147\" y=\"47\" width=\"2206\" height=\"1440\"/>\n",
       "  </clipPath>\n",
       "</defs>\n",
       "<polyline clip-path=\"url(#clip452)\" style=\"stroke:#000000; stroke-linecap:round; stroke-linejoin:round; stroke-width:2; stroke-opacity:0.1; fill:none\" points=\"469.948,1486.45 469.948,47.2441 \"/>\n",
       "<polyline clip-path=\"url(#clip452)\" style=\"stroke:#000000; stroke-linecap:round; stroke-linejoin:round; stroke-width:2; stroke-opacity:0.1; fill:none\" points=\"990.061,1486.45 990.061,47.2441 \"/>\n",
       "<polyline clip-path=\"url(#clip452)\" style=\"stroke:#000000; stroke-linecap:round; stroke-linejoin:round; stroke-width:2; stroke-opacity:0.1; fill:none\" points=\"1510.17,1486.45 1510.17,47.2441 \"/>\n",
       "<polyline clip-path=\"url(#clip452)\" style=\"stroke:#000000; stroke-linecap:round; stroke-linejoin:round; stroke-width:2; stroke-opacity:0.1; fill:none\" points=\"2030.29,1486.45 2030.29,47.2441 \"/>\n",
       "<polyline clip-path=\"url(#clip450)\" style=\"stroke:#000000; stroke-linecap:round; stroke-linejoin:round; stroke-width:4; stroke-opacity:1; fill:none\" points=\"147.478,1486.45 2352.76,1486.45 \"/>\n",
       "<polyline clip-path=\"url(#clip450)\" style=\"stroke:#000000; stroke-linecap:round; stroke-linejoin:round; stroke-width:4; stroke-opacity:1; fill:none\" points=\"469.948,1486.45 469.948,1467.55 \"/>\n",
       "<polyline clip-path=\"url(#clip450)\" style=\"stroke:#000000; stroke-linecap:round; stroke-linejoin:round; stroke-width:4; stroke-opacity:1; fill:none\" points=\"990.061,1486.45 990.061,1467.55 \"/>\n",
       "<polyline clip-path=\"url(#clip450)\" style=\"stroke:#000000; stroke-linecap:round; stroke-linejoin:round; stroke-width:4; stroke-opacity:1; fill:none\" points=\"1510.17,1486.45 1510.17,1467.55 \"/>\n",
       "<polyline clip-path=\"url(#clip450)\" style=\"stroke:#000000; stroke-linecap:round; stroke-linejoin:round; stroke-width:4; stroke-opacity:1; fill:none\" points=\"2030.29,1486.45 2030.29,1467.55 \"/>\n",
       "<path clip-path=\"url(#clip450)\" d=\"M464.601 1544.91 L480.92 1544.91 L480.92 1548.85 L458.976 1548.85 L458.976 1544.91 Q461.638 1542.16 466.221 1537.53 Q470.827 1532.88 472.008 1531.53 Q474.253 1529.01 475.133 1527.27 Q476.036 1525.51 476.036 1523.82 Q476.036 1521.07 474.091 1519.33 Q472.17 1517.6 469.068 1517.6 Q466.869 1517.6 464.415 1518.36 Q461.985 1519.13 459.207 1520.68 L459.207 1515.95 Q462.031 1514.82 464.485 1514.24 Q466.939 1513.66 468.976 1513.66 Q474.346 1513.66 477.54 1516.35 Q480.735 1519.03 480.735 1523.52 Q480.735 1525.65 479.925 1527.57 Q479.138 1529.47 477.031 1532.07 Q476.452 1532.74 473.351 1535.95 Q470.249 1539.15 464.601 1544.91 Z\" fill=\"#000000\" fill-rule=\"nonzero\" fill-opacity=\"1\" /><path clip-path=\"url(#clip450)\" d=\"M993.07 1518.36 L981.264 1536.81 L993.07 1536.81 L993.07 1518.36 M991.843 1514.29 L997.723 1514.29 L997.723 1536.81 L1002.65 1536.81 L1002.65 1540.7 L997.723 1540.7 L997.723 1548.85 L993.07 1548.85 L993.07 1540.7 L977.468 1540.7 L977.468 1536.19 L991.843 1514.29 Z\" fill=\"#000000\" fill-rule=\"nonzero\" fill-opacity=\"1\" /><path clip-path=\"url(#clip450)\" d=\"M1510.58 1529.7 Q1507.43 1529.7 1505.58 1531.86 Q1503.75 1534.01 1503.75 1537.76 Q1503.75 1541.49 1505.58 1543.66 Q1507.43 1545.82 1510.58 1545.82 Q1513.73 1545.82 1515.56 1543.66 Q1517.41 1541.49 1517.41 1537.76 Q1517.41 1534.01 1515.56 1531.86 Q1513.73 1529.7 1510.58 1529.7 M1519.86 1515.05 L1519.86 1519.31 Q1518.1 1518.48 1516.3 1518.04 Q1514.51 1517.6 1512.75 1517.6 Q1508.12 1517.6 1505.67 1520.72 Q1503.24 1523.85 1502.89 1530.17 Q1504.26 1528.15 1506.32 1527.09 Q1508.38 1526 1510.86 1526 Q1516.06 1526 1519.07 1529.17 Q1522.11 1532.32 1522.11 1537.76 Q1522.11 1543.08 1518.96 1546.3 Q1515.81 1549.52 1510.58 1549.52 Q1504.58 1549.52 1501.41 1544.94 Q1498.24 1540.33 1498.24 1531.6 Q1498.24 1523.41 1502.13 1518.55 Q1506.02 1513.66 1512.57 1513.66 Q1514.33 1513.66 1516.11 1514.01 Q1517.92 1514.36 1519.86 1515.05 Z\" fill=\"#000000\" fill-rule=\"nonzero\" fill-opacity=\"1\" /><path clip-path=\"url(#clip450)\" d=\"M2030.29 1532.44 Q2026.95 1532.44 2025.03 1534.22 Q2023.13 1536 2023.13 1539.13 Q2023.13 1542.25 2025.03 1544.03 Q2026.95 1545.82 2030.29 1545.82 Q2033.62 1545.82 2035.54 1544.03 Q2037.46 1542.23 2037.46 1539.13 Q2037.46 1536 2035.54 1534.22 Q2033.64 1532.44 2030.29 1532.44 M2025.61 1530.45 Q2022.6 1529.7 2020.91 1527.64 Q2019.24 1525.58 2019.24 1522.62 Q2019.24 1518.48 2022.18 1516.07 Q2025.15 1513.66 2030.29 1513.66 Q2035.45 1513.66 2038.39 1516.07 Q2041.33 1518.48 2041.33 1522.62 Q2041.33 1525.58 2039.64 1527.64 Q2037.97 1529.7 2034.99 1530.45 Q2038.36 1531.23 2040.24 1533.52 Q2042.14 1535.82 2042.14 1539.13 Q2042.14 1544.15 2039.06 1546.83 Q2036 1549.52 2030.29 1549.52 Q2024.57 1549.52 2021.49 1546.83 Q2018.43 1544.15 2018.43 1539.13 Q2018.43 1535.82 2020.33 1533.52 Q2022.23 1531.23 2025.61 1530.45 M2023.9 1523.06 Q2023.9 1525.75 2025.56 1527.25 Q2027.25 1528.76 2030.29 1528.76 Q2033.3 1528.76 2034.99 1527.25 Q2036.7 1525.75 2036.7 1523.06 Q2036.7 1520.38 2034.99 1518.87 Q2033.3 1517.37 2030.29 1517.37 Q2027.25 1517.37 2025.56 1518.87 Q2023.9 1520.38 2023.9 1523.06 Z\" fill=\"#000000\" fill-rule=\"nonzero\" fill-opacity=\"1\" /><polyline clip-path=\"url(#clip452)\" style=\"stroke:#000000; stroke-linecap:round; stroke-linejoin:round; stroke-width:2; stroke-opacity:0.1; fill:none\" points=\"147.478,1235.67 2352.76,1235.67 \"/>\n",
       "<polyline clip-path=\"url(#clip452)\" style=\"stroke:#000000; stroke-linecap:round; stroke-linejoin:round; stroke-width:2; stroke-opacity:0.1; fill:none\" points=\"147.478,948.749 2352.76,948.749 \"/>\n",
       "<polyline clip-path=\"url(#clip452)\" style=\"stroke:#000000; stroke-linecap:round; stroke-linejoin:round; stroke-width:2; stroke-opacity:0.1; fill:none\" points=\"147.478,661.824 2352.76,661.824 \"/>\n",
       "<polyline clip-path=\"url(#clip452)\" style=\"stroke:#000000; stroke-linecap:round; stroke-linejoin:round; stroke-width:2; stroke-opacity:0.1; fill:none\" points=\"147.478,374.9 2352.76,374.9 \"/>\n",
       "<polyline clip-path=\"url(#clip452)\" style=\"stroke:#000000; stroke-linecap:round; stroke-linejoin:round; stroke-width:2; stroke-opacity:0.1; fill:none\" points=\"147.478,87.9763 2352.76,87.9763 \"/>\n",
       "<polyline clip-path=\"url(#clip450)\" style=\"stroke:#000000; stroke-linecap:round; stroke-linejoin:round; stroke-width:4; stroke-opacity:1; fill:none\" points=\"147.478,1486.45 147.478,47.2441 \"/>\n",
       "<polyline clip-path=\"url(#clip450)\" style=\"stroke:#000000; stroke-linecap:round; stroke-linejoin:round; stroke-width:4; stroke-opacity:1; fill:none\" points=\"147.478,1235.67 166.376,1235.67 \"/>\n",
       "<polyline clip-path=\"url(#clip450)\" style=\"stroke:#000000; stroke-linecap:round; stroke-linejoin:round; stroke-width:4; stroke-opacity:1; fill:none\" points=\"147.478,948.749 166.376,948.749 \"/>\n",
       "<polyline clip-path=\"url(#clip450)\" style=\"stroke:#000000; stroke-linecap:round; stroke-linejoin:round; stroke-width:4; stroke-opacity:1; fill:none\" points=\"147.478,661.824 166.376,661.824 \"/>\n",
       "<polyline clip-path=\"url(#clip450)\" style=\"stroke:#000000; stroke-linecap:round; stroke-linejoin:round; stroke-width:4; stroke-opacity:1; fill:none\" points=\"147.478,374.9 166.376,374.9 \"/>\n",
       "<polyline clip-path=\"url(#clip450)\" style=\"stroke:#000000; stroke-linecap:round; stroke-linejoin:round; stroke-width:4; stroke-opacity:1; fill:none\" points=\"147.478,87.9763 166.376,87.9763 \"/>\n",
       "<path clip-path=\"url(#clip450)\" d=\"M51.3625 1236.12 L81.0383 1236.12 L81.0383 1240.06 L51.3625 1240.06 L51.3625 1236.12 Z\" fill=\"#000000\" fill-rule=\"nonzero\" fill-opacity=\"1\" /><path clip-path=\"url(#clip450)\" d=\"M95.1586 1249.02 L111.478 1249.02 L111.478 1252.95 L89.5336 1252.95 L89.5336 1249.02 Q92.1956 1246.26 96.7789 1241.63 Q101.385 1236.98 102.566 1235.64 Q104.811 1233.11 105.691 1231.38 Q106.594 1229.62 106.594 1227.93 Q106.594 1225.18 104.649 1223.44 Q102.728 1221.7 99.6261 1221.7 Q97.4271 1221.7 94.9734 1222.47 Q92.5428 1223.23 89.7651 1224.78 L89.7651 1220.06 Q92.5891 1218.93 95.0428 1218.35 Q97.4965 1217.77 99.5335 1217.77 Q104.904 1217.77 108.098 1220.45 Q111.293 1223.14 111.293 1227.63 Q111.293 1229.76 110.483 1231.68 Q109.696 1233.58 107.589 1236.17 Q107.01 1236.84 103.909 1240.06 Q100.807 1243.25 95.1586 1249.02 Z\" fill=\"#000000\" fill-rule=\"nonzero\" fill-opacity=\"1\" /><path clip-path=\"url(#clip450)\" d=\"M50.9921 949.2 L80.6679 949.2 L80.6679 953.135 L50.9921 953.135 L50.9921 949.2 Z\" fill=\"#000000\" fill-rule=\"nonzero\" fill-opacity=\"1\" /><path clip-path=\"url(#clip450)\" d=\"M91.5706 962.093 L99.2095 962.093 L99.2095 935.728 L90.8993 937.394 L90.8993 933.135 L99.1632 931.469 L103.839 931.469 L103.839 962.093 L111.478 962.093 L111.478 966.029 L91.5706 966.029 L91.5706 962.093 Z\" fill=\"#000000\" fill-rule=\"nonzero\" fill-opacity=\"1\" /><path clip-path=\"url(#clip450)\" d=\"M99.5335 647.623 Q95.9224 647.623 94.0937 651.188 Q92.2882 654.73 92.2882 661.859 Q92.2882 668.966 94.0937 672.53 Q95.9224 676.072 99.5335 676.072 Q103.168 676.072 104.973 672.53 Q106.802 668.966 106.802 661.859 Q106.802 654.73 104.973 651.188 Q103.168 647.623 99.5335 647.623 M99.5335 643.919 Q105.344 643.919 108.399 648.526 Q111.478 653.109 111.478 661.859 Q111.478 670.586 108.399 675.192 Q105.344 679.776 99.5335 679.776 Q93.7234 679.776 90.6447 675.192 Q87.5892 670.586 87.5892 661.859 Q87.5892 653.109 90.6447 648.526 Q93.7234 643.919 99.5335 643.919 Z\" fill=\"#000000\" fill-rule=\"nonzero\" fill-opacity=\"1\" /><path clip-path=\"url(#clip450)\" d=\"M91.5706 388.245 L99.2095 388.245 L99.2095 361.88 L90.8993 363.546 L90.8993 359.287 L99.1632 357.62 L103.839 357.62 L103.839 388.245 L111.478 388.245 L111.478 392.18 L91.5706 392.18 L91.5706 388.245 Z\" fill=\"#000000\" fill-rule=\"nonzero\" fill-opacity=\"1\" /><path clip-path=\"url(#clip450)\" d=\"M95.1586 101.321 L111.478 101.321 L111.478 105.256 L89.5336 105.256 L89.5336 101.321 Q92.1956 98.5665 96.7789 93.9369 Q101.385 89.2841 102.566 87.9416 Q104.811 85.4184 105.691 83.6823 Q106.594 81.9231 106.594 80.2333 Q106.594 77.4786 104.649 75.7425 Q102.728 74.0064 99.6261 74.0064 Q97.4271 74.0064 94.9734 74.7703 Q92.5428 75.5342 89.7651 77.0851 L89.7651 72.3629 Q92.5891 71.2287 95.0428 70.65 Q97.4965 70.0713 99.5335 70.0713 Q104.904 70.0713 108.098 72.7565 Q111.293 75.4416 111.293 79.9323 Q111.293 82.062 110.483 83.9832 Q109.696 85.8814 107.589 88.474 Q107.01 89.1453 103.909 92.3628 Q100.807 95.5573 95.1586 101.321 Z\" fill=\"#000000\" fill-rule=\"nonzero\" fill-opacity=\"1\" /><circle clip-path=\"url(#clip452)\" cx=\"209.891\" cy=\"1445.72\" r=\"14.4\" fill=\"#009af9\" fill-rule=\"evenodd\" fill-opacity=\"1\" stroke=\"#000000\" stroke-opacity=\"1\" stroke-width=\"3.2\"/>\n",
       "<circle clip-path=\"url(#clip452)\" cx=\"469.948\" cy=\"1445.72\" r=\"14.4\" fill=\"#009af9\" fill-rule=\"evenodd\" fill-opacity=\"1\" stroke=\"#000000\" stroke-opacity=\"1\" stroke-width=\"3.2\"/>\n",
       "<circle clip-path=\"url(#clip452)\" cx=\"730.004\" cy=\"1445.72\" r=\"14.4\" fill=\"#009af9\" fill-rule=\"evenodd\" fill-opacity=\"1\" stroke=\"#000000\" stroke-opacity=\"1\" stroke-width=\"3.2\"/>\n",
       "<circle clip-path=\"url(#clip452)\" cx=\"990.061\" cy=\"451.781\" r=\"14.4\" fill=\"#009af9\" fill-rule=\"evenodd\" fill-opacity=\"1\" stroke=\"#000000\" stroke-opacity=\"1\" stroke-width=\"3.2\"/>\n",
       "<circle clip-path=\"url(#clip452)\" cx=\"1250.12\" cy=\"451.781\" r=\"14.4\" fill=\"#009af9\" fill-rule=\"evenodd\" fill-opacity=\"1\" stroke=\"#000000\" stroke-opacity=\"1\" stroke-width=\"3.2\"/>\n",
       "<circle clip-path=\"url(#clip452)\" cx=\"1510.17\" cy=\"451.781\" r=\"14.4\" fill=\"#009af9\" fill-rule=\"evenodd\" fill-opacity=\"1\" stroke=\"#000000\" stroke-opacity=\"1\" stroke-width=\"3.2\"/>\n",
       "<circle clip-path=\"url(#clip452)\" cx=\"1770.23\" cy=\"87.9763\" r=\"14.4\" fill=\"#009af9\" fill-rule=\"evenodd\" fill-opacity=\"1\" stroke=\"#000000\" stroke-opacity=\"1\" stroke-width=\"3.2\"/>\n",
       "<circle clip-path=\"url(#clip452)\" cx=\"2030.29\" cy=\"87.9763\" r=\"14.4\" fill=\"#009af9\" fill-rule=\"evenodd\" fill-opacity=\"1\" stroke=\"#000000\" stroke-opacity=\"1\" stroke-width=\"3.2\"/>\n",
       "<circle clip-path=\"url(#clip452)\" cx=\"2290.34\" cy=\"87.9763\" r=\"14.4\" fill=\"#009af9\" fill-rule=\"evenodd\" fill-opacity=\"1\" stroke=\"#000000\" stroke-opacity=\"1\" stroke-width=\"3.2\"/>\n",
       "<path clip-path=\"url(#clip450)\" d=\"M220.987 198.898 L493.945 198.898 L493.945 95.2176 L220.987 95.2176  Z\" fill=\"#ffffff\" fill-rule=\"evenodd\" fill-opacity=\"1\"/>\n",
       "<polyline clip-path=\"url(#clip450)\" style=\"stroke:#000000; stroke-linecap:round; stroke-linejoin:round; stroke-width:4; stroke-opacity:1; fill:none\" points=\"220.987,198.898 493.945,198.898 493.945,95.2176 220.987,95.2176 220.987,198.898 \"/>\n",
       "<circle clip-path=\"url(#clip450)\" cx=\"319\" cy=\"147.058\" r=\"20.48\" fill=\"#009af9\" fill-rule=\"evenodd\" fill-opacity=\"1\" stroke=\"#000000\" stroke-opacity=\"1\" stroke-width=\"4.55111\"/>\n",
       "<path clip-path=\"url(#clip450)\" d=\"M430.854 166.745 Q429.049 171.375 427.336 172.787 Q425.623 174.199 422.753 174.199 L419.35 174.199 L419.35 170.634 L421.85 170.634 Q423.609 170.634 424.581 169.8 Q425.554 168.967 426.734 165.865 L427.498 163.921 L417.012 138.412 L421.526 138.412 L429.628 158.689 L437.729 138.412 L442.243 138.412 L430.854 166.745 Z\" fill=\"#000000\" fill-rule=\"nonzero\" fill-opacity=\"1\" /><path clip-path=\"url(#clip450)\" d=\"M449.535 160.402 L457.174 160.402 L457.174 134.037 L448.864 135.703 L448.864 131.444 L457.127 129.778 L461.803 129.778 L461.803 160.402 L469.442 160.402 L469.442 164.338 L449.535 164.338 L449.535 160.402 Z\" fill=\"#000000\" fill-rule=\"nonzero\" fill-opacity=\"1\" /></svg>\n"
      ],
      "text/html": [
       "<?xml version=\"1.0\" encoding=\"utf-8\"?>\n",
       "<svg xmlns=\"http://www.w3.org/2000/svg\" xmlns:xlink=\"http://www.w3.org/1999/xlink\" width=\"600\" height=\"400\" viewBox=\"0 0 2400 1600\">\n",
       "<defs>\n",
       "  <clipPath id=\"clip500\">\n",
       "    <rect x=\"0\" y=\"0\" width=\"2400\" height=\"1600\"/>\n",
       "  </clipPath>\n",
       "</defs>\n",
       "<path clip-path=\"url(#clip500)\" d=\"M0 1600 L2400 1600 L2400 0 L0 0  Z\" fill=\"#ffffff\" fill-rule=\"evenodd\" fill-opacity=\"1\"/>\n",
       "<defs>\n",
       "  <clipPath id=\"clip501\">\n",
       "    <rect x=\"480\" y=\"0\" width=\"1681\" height=\"1600\"/>\n",
       "  </clipPath>\n",
       "</defs>\n",
       "<path clip-path=\"url(#clip500)\" d=\"M147.478 1486.45 L2352.76 1486.45 L2352.76 47.2441 L147.478 47.2441  Z\" fill=\"#ffffff\" fill-rule=\"evenodd\" fill-opacity=\"1\"/>\n",
       "<defs>\n",
       "  <clipPath id=\"clip502\">\n",
       "    <rect x=\"147\" y=\"47\" width=\"2206\" height=\"1440\"/>\n",
       "  </clipPath>\n",
       "</defs>\n",
       "<polyline clip-path=\"url(#clip502)\" style=\"stroke:#000000; stroke-linecap:round; stroke-linejoin:round; stroke-width:2; stroke-opacity:0.1; fill:none\" points=\"469.948,1486.45 469.948,47.2441 \"/>\n",
       "<polyline clip-path=\"url(#clip502)\" style=\"stroke:#000000; stroke-linecap:round; stroke-linejoin:round; stroke-width:2; stroke-opacity:0.1; fill:none\" points=\"990.061,1486.45 990.061,47.2441 \"/>\n",
       "<polyline clip-path=\"url(#clip502)\" style=\"stroke:#000000; stroke-linecap:round; stroke-linejoin:round; stroke-width:2; stroke-opacity:0.1; fill:none\" points=\"1510.17,1486.45 1510.17,47.2441 \"/>\n",
       "<polyline clip-path=\"url(#clip502)\" style=\"stroke:#000000; stroke-linecap:round; stroke-linejoin:round; stroke-width:2; stroke-opacity:0.1; fill:none\" points=\"2030.29,1486.45 2030.29,47.2441 \"/>\n",
       "<polyline clip-path=\"url(#clip500)\" style=\"stroke:#000000; stroke-linecap:round; stroke-linejoin:round; stroke-width:4; stroke-opacity:1; fill:none\" points=\"147.478,1486.45 2352.76,1486.45 \"/>\n",
       "<polyline clip-path=\"url(#clip500)\" style=\"stroke:#000000; stroke-linecap:round; stroke-linejoin:round; stroke-width:4; stroke-opacity:1; fill:none\" points=\"469.948,1486.45 469.948,1467.55 \"/>\n",
       "<polyline clip-path=\"url(#clip500)\" style=\"stroke:#000000; stroke-linecap:round; stroke-linejoin:round; stroke-width:4; stroke-opacity:1; fill:none\" points=\"990.061,1486.45 990.061,1467.55 \"/>\n",
       "<polyline clip-path=\"url(#clip500)\" style=\"stroke:#000000; stroke-linecap:round; stroke-linejoin:round; stroke-width:4; stroke-opacity:1; fill:none\" points=\"1510.17,1486.45 1510.17,1467.55 \"/>\n",
       "<polyline clip-path=\"url(#clip500)\" style=\"stroke:#000000; stroke-linecap:round; stroke-linejoin:round; stroke-width:4; stroke-opacity:1; fill:none\" points=\"2030.29,1486.45 2030.29,1467.55 \"/>\n",
       "<path clip-path=\"url(#clip500)\" d=\"M464.601 1544.91 L480.92 1544.91 L480.92 1548.85 L458.976 1548.85 L458.976 1544.91 Q461.638 1542.16 466.221 1537.53 Q470.827 1532.88 472.008 1531.53 Q474.253 1529.01 475.133 1527.27 Q476.036 1525.51 476.036 1523.82 Q476.036 1521.07 474.091 1519.33 Q472.17 1517.6 469.068 1517.6 Q466.869 1517.6 464.415 1518.36 Q461.985 1519.13 459.207 1520.68 L459.207 1515.95 Q462.031 1514.82 464.485 1514.24 Q466.939 1513.66 468.976 1513.66 Q474.346 1513.66 477.54 1516.35 Q480.735 1519.03 480.735 1523.52 Q480.735 1525.65 479.925 1527.57 Q479.138 1529.47 477.031 1532.07 Q476.452 1532.74 473.351 1535.95 Q470.249 1539.15 464.601 1544.91 Z\" fill=\"#000000\" fill-rule=\"nonzero\" fill-opacity=\"1\" /><path clip-path=\"url(#clip500)\" d=\"M993.07 1518.36 L981.264 1536.81 L993.07 1536.81 L993.07 1518.36 M991.843 1514.29 L997.723 1514.29 L997.723 1536.81 L1002.65 1536.81 L1002.65 1540.7 L997.723 1540.7 L997.723 1548.85 L993.07 1548.85 L993.07 1540.7 L977.468 1540.7 L977.468 1536.19 L991.843 1514.29 Z\" fill=\"#000000\" fill-rule=\"nonzero\" fill-opacity=\"1\" /><path clip-path=\"url(#clip500)\" d=\"M1510.58 1529.7 Q1507.43 1529.7 1505.58 1531.86 Q1503.75 1534.01 1503.75 1537.76 Q1503.75 1541.49 1505.58 1543.66 Q1507.43 1545.82 1510.58 1545.82 Q1513.73 1545.82 1515.56 1543.66 Q1517.41 1541.49 1517.41 1537.76 Q1517.41 1534.01 1515.56 1531.86 Q1513.73 1529.7 1510.58 1529.7 M1519.86 1515.05 L1519.86 1519.31 Q1518.1 1518.48 1516.3 1518.04 Q1514.51 1517.6 1512.75 1517.6 Q1508.12 1517.6 1505.67 1520.72 Q1503.24 1523.85 1502.89 1530.17 Q1504.26 1528.15 1506.32 1527.09 Q1508.38 1526 1510.86 1526 Q1516.06 1526 1519.07 1529.17 Q1522.11 1532.32 1522.11 1537.76 Q1522.11 1543.08 1518.96 1546.3 Q1515.81 1549.52 1510.58 1549.52 Q1504.58 1549.52 1501.41 1544.94 Q1498.24 1540.33 1498.24 1531.6 Q1498.24 1523.41 1502.13 1518.55 Q1506.02 1513.66 1512.57 1513.66 Q1514.33 1513.66 1516.11 1514.01 Q1517.92 1514.36 1519.86 1515.05 Z\" fill=\"#000000\" fill-rule=\"nonzero\" fill-opacity=\"1\" /><path clip-path=\"url(#clip500)\" d=\"M2030.29 1532.44 Q2026.95 1532.44 2025.03 1534.22 Q2023.13 1536 2023.13 1539.13 Q2023.13 1542.25 2025.03 1544.03 Q2026.95 1545.82 2030.29 1545.82 Q2033.62 1545.82 2035.54 1544.03 Q2037.46 1542.23 2037.46 1539.13 Q2037.46 1536 2035.54 1534.22 Q2033.64 1532.44 2030.29 1532.44 M2025.61 1530.45 Q2022.6 1529.7 2020.91 1527.64 Q2019.24 1525.58 2019.24 1522.62 Q2019.24 1518.48 2022.18 1516.07 Q2025.15 1513.66 2030.29 1513.66 Q2035.45 1513.66 2038.39 1516.07 Q2041.33 1518.48 2041.33 1522.62 Q2041.33 1525.58 2039.64 1527.64 Q2037.97 1529.7 2034.99 1530.45 Q2038.36 1531.23 2040.24 1533.52 Q2042.14 1535.82 2042.14 1539.13 Q2042.14 1544.15 2039.06 1546.83 Q2036 1549.52 2030.29 1549.52 Q2024.57 1549.52 2021.49 1546.83 Q2018.43 1544.15 2018.43 1539.13 Q2018.43 1535.82 2020.33 1533.52 Q2022.23 1531.23 2025.61 1530.45 M2023.9 1523.06 Q2023.9 1525.75 2025.56 1527.25 Q2027.25 1528.76 2030.29 1528.76 Q2033.3 1528.76 2034.99 1527.25 Q2036.7 1525.75 2036.7 1523.06 Q2036.7 1520.38 2034.99 1518.87 Q2033.3 1517.37 2030.29 1517.37 Q2027.25 1517.37 2025.56 1518.87 Q2023.9 1520.38 2023.9 1523.06 Z\" fill=\"#000000\" fill-rule=\"nonzero\" fill-opacity=\"1\" /><polyline clip-path=\"url(#clip502)\" style=\"stroke:#000000; stroke-linecap:round; stroke-linejoin:round; stroke-width:2; stroke-opacity:0.1; fill:none\" points=\"147.478,1235.67 2352.76,1235.67 \"/>\n",
       "<polyline clip-path=\"url(#clip502)\" style=\"stroke:#000000; stroke-linecap:round; stroke-linejoin:round; stroke-width:2; stroke-opacity:0.1; fill:none\" points=\"147.478,948.749 2352.76,948.749 \"/>\n",
       "<polyline clip-path=\"url(#clip502)\" style=\"stroke:#000000; stroke-linecap:round; stroke-linejoin:round; stroke-width:2; stroke-opacity:0.1; fill:none\" points=\"147.478,661.824 2352.76,661.824 \"/>\n",
       "<polyline clip-path=\"url(#clip502)\" style=\"stroke:#000000; stroke-linecap:round; stroke-linejoin:round; stroke-width:2; stroke-opacity:0.1; fill:none\" points=\"147.478,374.9 2352.76,374.9 \"/>\n",
       "<polyline clip-path=\"url(#clip502)\" style=\"stroke:#000000; stroke-linecap:round; stroke-linejoin:round; stroke-width:2; stroke-opacity:0.1; fill:none\" points=\"147.478,87.9763 2352.76,87.9763 \"/>\n",
       "<polyline clip-path=\"url(#clip500)\" style=\"stroke:#000000; stroke-linecap:round; stroke-linejoin:round; stroke-width:4; stroke-opacity:1; fill:none\" points=\"147.478,1486.45 147.478,47.2441 \"/>\n",
       "<polyline clip-path=\"url(#clip500)\" style=\"stroke:#000000; stroke-linecap:round; stroke-linejoin:round; stroke-width:4; stroke-opacity:1; fill:none\" points=\"147.478,1235.67 166.376,1235.67 \"/>\n",
       "<polyline clip-path=\"url(#clip500)\" style=\"stroke:#000000; stroke-linecap:round; stroke-linejoin:round; stroke-width:4; stroke-opacity:1; fill:none\" points=\"147.478,948.749 166.376,948.749 \"/>\n",
       "<polyline clip-path=\"url(#clip500)\" style=\"stroke:#000000; stroke-linecap:round; stroke-linejoin:round; stroke-width:4; stroke-opacity:1; fill:none\" points=\"147.478,661.824 166.376,661.824 \"/>\n",
       "<polyline clip-path=\"url(#clip500)\" style=\"stroke:#000000; stroke-linecap:round; stroke-linejoin:round; stroke-width:4; stroke-opacity:1; fill:none\" points=\"147.478,374.9 166.376,374.9 \"/>\n",
       "<polyline clip-path=\"url(#clip500)\" style=\"stroke:#000000; stroke-linecap:round; stroke-linejoin:round; stroke-width:4; stroke-opacity:1; fill:none\" points=\"147.478,87.9763 166.376,87.9763 \"/>\n",
       "<path clip-path=\"url(#clip500)\" d=\"M51.3625 1236.12 L81.0383 1236.12 L81.0383 1240.06 L51.3625 1240.06 L51.3625 1236.12 Z\" fill=\"#000000\" fill-rule=\"nonzero\" fill-opacity=\"1\" /><path clip-path=\"url(#clip500)\" d=\"M95.1586 1249.02 L111.478 1249.02 L111.478 1252.95 L89.5336 1252.95 L89.5336 1249.02 Q92.1956 1246.26 96.7789 1241.63 Q101.385 1236.98 102.566 1235.64 Q104.811 1233.11 105.691 1231.38 Q106.594 1229.62 106.594 1227.93 Q106.594 1225.18 104.649 1223.44 Q102.728 1221.7 99.6261 1221.7 Q97.4271 1221.7 94.9734 1222.47 Q92.5428 1223.23 89.7651 1224.78 L89.7651 1220.06 Q92.5891 1218.93 95.0428 1218.35 Q97.4965 1217.77 99.5335 1217.77 Q104.904 1217.77 108.098 1220.45 Q111.293 1223.14 111.293 1227.63 Q111.293 1229.76 110.483 1231.68 Q109.696 1233.58 107.589 1236.17 Q107.01 1236.84 103.909 1240.06 Q100.807 1243.25 95.1586 1249.02 Z\" fill=\"#000000\" fill-rule=\"nonzero\" fill-opacity=\"1\" /><path clip-path=\"url(#clip500)\" d=\"M50.9921 949.2 L80.6679 949.2 L80.6679 953.135 L50.9921 953.135 L50.9921 949.2 Z\" fill=\"#000000\" fill-rule=\"nonzero\" fill-opacity=\"1\" /><path clip-path=\"url(#clip500)\" d=\"M91.5706 962.093 L99.2095 962.093 L99.2095 935.728 L90.8993 937.394 L90.8993 933.135 L99.1632 931.469 L103.839 931.469 L103.839 962.093 L111.478 962.093 L111.478 966.029 L91.5706 966.029 L91.5706 962.093 Z\" fill=\"#000000\" fill-rule=\"nonzero\" fill-opacity=\"1\" /><path clip-path=\"url(#clip500)\" d=\"M99.5335 647.623 Q95.9224 647.623 94.0937 651.188 Q92.2882 654.73 92.2882 661.859 Q92.2882 668.966 94.0937 672.53 Q95.9224 676.072 99.5335 676.072 Q103.168 676.072 104.973 672.53 Q106.802 668.966 106.802 661.859 Q106.802 654.73 104.973 651.188 Q103.168 647.623 99.5335 647.623 M99.5335 643.919 Q105.344 643.919 108.399 648.526 Q111.478 653.109 111.478 661.859 Q111.478 670.586 108.399 675.192 Q105.344 679.776 99.5335 679.776 Q93.7234 679.776 90.6447 675.192 Q87.5892 670.586 87.5892 661.859 Q87.5892 653.109 90.6447 648.526 Q93.7234 643.919 99.5335 643.919 Z\" fill=\"#000000\" fill-rule=\"nonzero\" fill-opacity=\"1\" /><path clip-path=\"url(#clip500)\" d=\"M91.5706 388.245 L99.2095 388.245 L99.2095 361.88 L90.8993 363.546 L90.8993 359.287 L99.1632 357.62 L103.839 357.62 L103.839 388.245 L111.478 388.245 L111.478 392.18 L91.5706 392.18 L91.5706 388.245 Z\" fill=\"#000000\" fill-rule=\"nonzero\" fill-opacity=\"1\" /><path clip-path=\"url(#clip500)\" d=\"M95.1586 101.321 L111.478 101.321 L111.478 105.256 L89.5336 105.256 L89.5336 101.321 Q92.1956 98.5665 96.7789 93.9369 Q101.385 89.2841 102.566 87.9416 Q104.811 85.4184 105.691 83.6823 Q106.594 81.9231 106.594 80.2333 Q106.594 77.4786 104.649 75.7425 Q102.728 74.0064 99.6261 74.0064 Q97.4271 74.0064 94.9734 74.7703 Q92.5428 75.5342 89.7651 77.0851 L89.7651 72.3629 Q92.5891 71.2287 95.0428 70.65 Q97.4965 70.0713 99.5335 70.0713 Q104.904 70.0713 108.098 72.7565 Q111.293 75.4416 111.293 79.9323 Q111.293 82.062 110.483 83.9832 Q109.696 85.8814 107.589 88.474 Q107.01 89.1453 103.909 92.3628 Q100.807 95.5573 95.1586 101.321 Z\" fill=\"#000000\" fill-rule=\"nonzero\" fill-opacity=\"1\" /><circle clip-path=\"url(#clip502)\" cx=\"209.891\" cy=\"1445.72\" r=\"14.4\" fill=\"#009af9\" fill-rule=\"evenodd\" fill-opacity=\"1\" stroke=\"#000000\" stroke-opacity=\"1\" stroke-width=\"3.2\"/>\n",
       "<circle clip-path=\"url(#clip502)\" cx=\"469.948\" cy=\"1445.72\" r=\"14.4\" fill=\"#009af9\" fill-rule=\"evenodd\" fill-opacity=\"1\" stroke=\"#000000\" stroke-opacity=\"1\" stroke-width=\"3.2\"/>\n",
       "<circle clip-path=\"url(#clip502)\" cx=\"730.004\" cy=\"1445.72\" r=\"14.4\" fill=\"#009af9\" fill-rule=\"evenodd\" fill-opacity=\"1\" stroke=\"#000000\" stroke-opacity=\"1\" stroke-width=\"3.2\"/>\n",
       "<circle clip-path=\"url(#clip502)\" cx=\"990.061\" cy=\"451.781\" r=\"14.4\" fill=\"#009af9\" fill-rule=\"evenodd\" fill-opacity=\"1\" stroke=\"#000000\" stroke-opacity=\"1\" stroke-width=\"3.2\"/>\n",
       "<circle clip-path=\"url(#clip502)\" cx=\"1250.12\" cy=\"451.781\" r=\"14.4\" fill=\"#009af9\" fill-rule=\"evenodd\" fill-opacity=\"1\" stroke=\"#000000\" stroke-opacity=\"1\" stroke-width=\"3.2\"/>\n",
       "<circle clip-path=\"url(#clip502)\" cx=\"1510.17\" cy=\"451.781\" r=\"14.4\" fill=\"#009af9\" fill-rule=\"evenodd\" fill-opacity=\"1\" stroke=\"#000000\" stroke-opacity=\"1\" stroke-width=\"3.2\"/>\n",
       "<circle clip-path=\"url(#clip502)\" cx=\"1770.23\" cy=\"87.9763\" r=\"14.4\" fill=\"#009af9\" fill-rule=\"evenodd\" fill-opacity=\"1\" stroke=\"#000000\" stroke-opacity=\"1\" stroke-width=\"3.2\"/>\n",
       "<circle clip-path=\"url(#clip502)\" cx=\"2030.29\" cy=\"87.9763\" r=\"14.4\" fill=\"#009af9\" fill-rule=\"evenodd\" fill-opacity=\"1\" stroke=\"#000000\" stroke-opacity=\"1\" stroke-width=\"3.2\"/>\n",
       "<circle clip-path=\"url(#clip502)\" cx=\"2290.34\" cy=\"87.9763\" r=\"14.4\" fill=\"#009af9\" fill-rule=\"evenodd\" fill-opacity=\"1\" stroke=\"#000000\" stroke-opacity=\"1\" stroke-width=\"3.2\"/>\n",
       "<path clip-path=\"url(#clip500)\" d=\"M220.987 198.898 L493.945 198.898 L493.945 95.2176 L220.987 95.2176  Z\" fill=\"#ffffff\" fill-rule=\"evenodd\" fill-opacity=\"1\"/>\n",
       "<polyline clip-path=\"url(#clip500)\" style=\"stroke:#000000; stroke-linecap:round; stroke-linejoin:round; stroke-width:4; stroke-opacity:1; fill:none\" points=\"220.987,198.898 493.945,198.898 493.945,95.2176 220.987,95.2176 220.987,198.898 \"/>\n",
       "<circle clip-path=\"url(#clip500)\" cx=\"319\" cy=\"147.058\" r=\"20.48\" fill=\"#009af9\" fill-rule=\"evenodd\" fill-opacity=\"1\" stroke=\"#000000\" stroke-opacity=\"1\" stroke-width=\"4.55111\"/>\n",
       "<path clip-path=\"url(#clip500)\" d=\"M430.854 166.745 Q429.049 171.375 427.336 172.787 Q425.623 174.199 422.753 174.199 L419.35 174.199 L419.35 170.634 L421.85 170.634 Q423.609 170.634 424.581 169.8 Q425.554 168.967 426.734 165.865 L427.498 163.921 L417.012 138.412 L421.526 138.412 L429.628 158.689 L437.729 138.412 L442.243 138.412 L430.854 166.745 Z\" fill=\"#000000\" fill-rule=\"nonzero\" fill-opacity=\"1\" /><path clip-path=\"url(#clip500)\" d=\"M449.535 160.402 L457.174 160.402 L457.174 134.037 L448.864 135.703 L448.864 131.444 L457.127 129.778 L461.803 129.778 L461.803 160.402 L469.442 160.402 L469.442 164.338 L449.535 164.338 L449.535 160.402 Z\" fill=\"#000000\" fill-rule=\"nonzero\" fill-opacity=\"1\" /></svg>\n"
      ]
     },
     "execution_count": 36,
     "metadata": {},
     "output_type": "execute_result"
    }
   ],
   "source": [
    "using Plots\n",
    "scatter(E_mb)"
   ]
  },
  {
   "cell_type": "code",
   "execution_count": 38,
   "id": "328c4227-c033-4ac4-b1df-74e17c4803eb",
   "metadata": {},
   "outputs": [
    {
     "data": {
      "text/plain": [
       "-4.038465943960569e-16 + 3.487868498008632e-16im"
      ]
     },
     "execution_count": 38,
     "metadata": {},
     "output_type": "execute_result"
    }
   ],
   "source": [
    "n1=7\n",
    "n2=9\n",
    "Sum=0\n",
    "for tx in Tx\n",
    "    for ty in Ty    \n",
    "        \n",
    "        H = sub_H(Nx, Ny, p, q, tx, ty, cut_off, PN)\n",
    "        #w1, v1 = eigen(dense((H+H')/2).data);v1 = v1[:,n1:n2]\n",
    "        w1, v1 = eigenstates(dense((H+H')/2))\n",
    "        v1 = conv_mat(Nx, Ny, q, n1, n2, v1)\n",
    "        \n",
    "        H = sub_H(Nx, Ny, p, q, tx+dx, ty, cut_off, PN)\n",
    "        #w2, v2 = eigen(dense((H+H')/2).data);v2 = v2[:,n1:n2]\n",
    "        w2, v2 = eigenstates(dense((H+H')/2))\n",
    "        v2 = conv_mat(Nx, Ny, q, n1, n2, v2)\n",
    "        \n",
    "        H = sub_H(Nx, Ny, p, q, tx, ty+dy, cut_off, PN)\n",
    "        #w3, v3 = eigen(dense((H+H')/2).data);v3 = v3[:,n1:n2]\n",
    "        w3, v3 = eigenstates(dense((H+H')/2))\n",
    "        v3 = conv_mat(Nx, Ny, q, n1, n2, v3)\n",
    "\n",
    "        H = sub_H(Nx, Ny, p, q, tx+dx, ty+dy, cut_off, PN)\n",
    "        #w4, v4 = eigen(dense((H+H')/2).data);v4 = v4[:,n1:n2]\n",
    "        w4, v4 = eigenstates(dense((H+H')/2))\n",
    "        v4 = conv_mat(Nx, Ny, q, n1, n2, v4)\n",
    "        \n",
    "        U1 = det(v1'*v2)/abs(det(v1'*v2))\n",
    "        U2 = det(v2'*v4)/abs(det(v2'*v4))\n",
    "        U3 = det(v3'*v4)/abs(det(v3'*v4))\n",
    "        U4 = det(v1'*v3)/abs(det(v1'*v3))\n",
    "\n",
    "        Sum+=log(U1*U2*1/U3*1/U4)\n",
    "    end\n",
    "end\n",
    "Sum/2*1im*pi"
   ]
  },
  {
   "cell_type": "code",
   "execution_count": 43,
   "id": "311ed1c5-8f61-4997-a0a8-14008bbc354a",
   "metadata": {
    "tags": []
   },
   "outputs": [
    {
     "data": {
      "text/plain": [
       "Chern_Nums (generic function with 2 methods)"
      ]
     },
     "execution_count": 43,
     "metadata": {},
     "output_type": "execute_result"
    }
   ],
   "source": [
    "function Chern_Nums(Nx, Ny, p, q, Tx, Ty, cut_off, PN, n1, n2)\n",
    "    \n",
    "    Sum=0\n",
    "    \n",
    "    for tx in Tx\n",
    "        for ty in Ty\n",
    "            \n",
    "            H = sub_H(Nx, Ny, p, q, tx, ty, cut_off, PN)\n",
    "            \n",
    "            w1, v1 = eigen(dense((H+H')/2).data)\n",
    "            \n",
    "            # v1 = v1[:, sortperm(w1)]\n",
    "            \n",
    "            # if isapprox(v1[1,1], 0+0im, atol=0.001) == false\n",
    "            #     v1 = v1 ./ v1[1,1]\n",
    "            #     v1 = v1/norm(v1)\n",
    "            # end\n",
    "\n",
    "            # col_idx = findcol(v1, col)\n",
    "            # v1 = dropcol(v1, col_idx)\n",
    "            \n",
    "            v1 = v1[:,n1:n2]\n",
    "            \n",
    "            #------------------------------------\n",
    "            \n",
    "            H = sub_H(Nx, Ny, p, q, tx+dx, ty, cut_off, PN)\n",
    "            \n",
    "            w2, v2 = eigen(dense((H+H')/2).data)\n",
    "            \n",
    "            # v2 = v2[:, sortperm(w2)]\n",
    "\n",
    "            # if isapprox(v2[1,1], 0+0im, atol=0.001) == false\n",
    "            #     v2 = v2 ./ v2[1,1]\n",
    "            #     v2 = v2 / norm(v2)\n",
    "            # end\n",
    "\n",
    "            # col_idx = findcol(v2, col)\n",
    "            # v2 = dropcol(v2, col_idx)\n",
    "            \n",
    "            v2 = v2[:,n1:n2]\n",
    "            \n",
    "            #------------------------------------\n",
    "            \n",
    "            H = sub_H(Nx, Ny, p, q, tx, ty+dy, cut_off, PN)\n",
    "            \n",
    "            w3, v3 = eigen(dense((H+H')/2).data)\n",
    "            \n",
    "            # v3 = v3[:, sortperm(w3)]\n",
    "\n",
    "            # if isapprox(v3[1,1], 0+0im, atol=0.001) == false\n",
    "            #     v3 = v3 ./ v3[1,1]\n",
    "            #     v3 = v3/norm(v3)\n",
    "            # end\n",
    "\n",
    "            # col_idx = findcol(v3, col)\n",
    "            # v3 = dropcol(v3, col_idx)\n",
    "            \n",
    "            v3 = v3[:,n1:n2]\n",
    "            \n",
    "            #------------------------------------\n",
    "            \n",
    "            H = sub_H(Nx, Ny, p, q, tx+dx, ty+dy, cut_off, PN)\n",
    "            \n",
    "            w4, v4 = eigen(dense((H+H')/2).data)\n",
    "            \n",
    "            # v4 = v4[:, sortperm(w4)]\n",
    "\n",
    "            # if isapprox(v4[1,1], 0+0im, atol=0.001) == false\n",
    "            #     v4 = v4 ./ v4[1,1]\n",
    "            #     v4 = v4/norm(v4)\n",
    "            # end\n",
    "\n",
    "            # col_idx = findcol(v4, col)\n",
    "            # v4 = dropcol(v4, col_idx)\n",
    "            \n",
    "            v4 = v4[:,n1:n2]\n",
    "            \n",
    "            #----------LINK VARIABLES------------\n",
    "            \n",
    "            U1=det(adjoint(v1)*v2)\n",
    "            U1=U1/abs(U1)\n",
    "            \n",
    "            U2=det(adjoint(v2)*v4)\n",
    "            U2=U2/abs(U2)\n",
    "            \n",
    "            U3=det(adjoint(v3)*v4)\n",
    "            U3=U3/abs(U3)\n",
    "            \n",
    "            U4=det(adjoint(v1)*v3)\n",
    "            U4=U4/abs(U4)\n",
    "            \n",
    "            #----------BERRY CURVATURE-----------\n",
    "            \n",
    "            F=log(U1*U2*1/U3*1/U4)\n",
    "            Sum=Sum+F\n",
    "            \n",
    "        end\n",
    "    end\n",
    "    \n",
    "    C = 1/(2*pi*1im)*Sum\n",
    "    \n",
    "    return C\n",
    "end"
   ]
  },
  {
   "cell_type": "code",
   "execution_count": 46,
   "id": "d1d0f59a-5568-4d40-bc25-a9f9e9026586",
   "metadata": {
    "tags": []
   },
   "outputs": [
    {
     "data": {
      "text/plain": [
       "2.449007633882641e-17 - 1.8842136707473932e-33im"
      ]
     },
     "execution_count": 46,
     "metadata": {},
     "output_type": "execute_result"
    }
   ],
   "source": [
    "Chern_Nums(Nx, Ny, p, q, Tx, Ty, cut_off, PN, 4,6)"
   ]
  },
  {
   "cell_type": "code",
   "execution_count": null,
   "id": "ded6baef-efce-4f8a-b7e9-79d70cf188b7",
   "metadata": {},
   "outputs": [],
   "source": []
  },
  {
   "cell_type": "markdown",
   "id": "157a9d66-8c66-43d0-a2a5-82205db2edc1",
   "metadata": {},
   "source": [
    "# Check with \"Hofstadter MB Chern\" file"
   ]
  },
  {
   "cell_type": "code",
   "execution_count": 69,
   "id": "ab9167dc-aa3b-45ee-87ca-07f25b605c78",
   "metadata": {},
   "outputs": [
    {
     "data": {
      "text/plain": [
       "0"
      ]
     },
     "execution_count": 69,
     "metadata": {},
     "output_type": "execute_result"
    }
   ],
   "source": [
    "n1 = 1\n",
    "n2 = 9\n",
    "tx = ty = 0"
   ]
  },
  {
   "cell_type": "code",
   "execution_count": 71,
   "id": "8264ee72-d11d-4103-baed-deef05c439f9",
   "metadata": {},
   "outputs": [
    {
     "data": {
      "text/plain": [
       "8.52741319615994e-32 - 4.129748950277714e-16im"
      ]
     },
     "execution_count": 71,
     "metadata": {},
     "output_type": "execute_result"
    }
   ],
   "source": [
    "H = get_total_H(Nx, Ny, alpha, tx, ty, cut_off, PN)\n",
    "\n",
    "w1, v1 = eigen(dense((H+H')/2).data)\n",
    "\n",
    "v1 = v1[:, sortperm(w1)]\n",
    "\n",
    "if isapprox(v1[1,1], 0+0im, atol=0.001) == false\n",
    "    v1 = v1 ./ v1[1,1]\n",
    "    v1 = v1/norm(v1)\n",
    "end\n",
    "\n",
    "# col_idx = findcol(v1, col)\n",
    "# v1 = dropcol(v1, col_idx)\n",
    "\n",
    "v1 = v1[:,n1:n2]\n",
    "\n",
    "#------------------------------------\n",
    "\n",
    "H = get_total_H(Nx, Ny, alpha, tx+dx, ty, cut_off, PN)\n",
    "\n",
    "w2, v2 = eigen(dense((H+H')/2).data)\n",
    "\n",
    "v2 = v2[:, sortperm(w2)]\n",
    "\n",
    "if isapprox(v2[1,1], 0+0im, atol=0.001) == false\n",
    "    v2 = v2 ./ v2[1,1]\n",
    "    v2 = v2 / norm(v2)\n",
    "end\n",
    "\n",
    "# col_idx = findcol(v2, col)\n",
    "# v2 = dropcol(v2, col_idx)\n",
    "\n",
    "v2 = v2[:,n1:n2]\n",
    "\n",
    "#------------------------------------\n",
    "\n",
    "H = get_total_H(Nx, Ny, alpha, tx, ty+dy, cut_off, PN)\n",
    "\n",
    "w3, v3 = eigen(dense((H+H')/2).data)\n",
    "\n",
    "v3 = v3[:, sortperm(w3)]\n",
    "\n",
    "if isapprox(v3[1,1], 0+0im, atol=0.001) == false\n",
    "    v3 = v3 ./ v3[1,1]\n",
    "    v3 = v3/norm(v3)\n",
    "end\n",
    "\n",
    "# col_idx = findcol(v3, col)\n",
    "# v3 = dropcol(v3, col_idx)\n",
    "\n",
    "v3 = v3[:,n1:n2]\n",
    "\n",
    "#------------------------------------\n",
    "\n",
    "H = get_total_H(Nx, Ny, alpha, tx+dx, ty+dy, cut_off, PN)\n",
    "\n",
    "w4, v4 = eigen(dense((H+H')/2).data)\n",
    "\n",
    "v4 = v4[:, sortperm(w4)]\n",
    "\n",
    "if isapprox(v4[1,1], 0+0im, atol=0.001) == false\n",
    "    v4 = v4 ./ v4[1,1]\n",
    "    v4 = v4/norm(v4)\n",
    "end\n",
    "\n",
    "# col_idx = findcol(v4, col)\n",
    "# v4 = dropcol(v4, col_idx)\n",
    "\n",
    "v4 = v4[:,n1:n2]\n",
    "\n",
    "#----------LINK VARIABLES------------\n",
    "\n",
    "U1=det(adjoint(v1)*v2)\n",
    "U1=U1/abs(U1)\n",
    "\n",
    "U2=det(adjoint(v2)*v4)\n",
    "U2=U2/abs(U2)\n",
    "\n",
    "U3=det(adjoint(v3)*v4)\n",
    "U3=U3/abs(U3)\n",
    "\n",
    "U4=det(adjoint(v1)*v3)\n",
    "U4=U4/abs(U4)\n",
    "\n",
    "#----------BERRY CURVATURE-----------\n",
    "\n",
    "F=log(U1*U2*1/U3*1/U4)"
   ]
  },
  {
   "cell_type": "code",
   "execution_count": 73,
   "id": "3c873bb5-1b90-4745-ac09-372bcc763795",
   "metadata": {},
   "outputs": [
    {
     "data": {
      "text/plain": [
       "Eigen{ComplexF64, ComplexF64, Matrix{ComplexF64}, Vector{ComplexF64}}\n",
       "values:\n",
       "9-element Vector{ComplexF64}:\n",
       " -0.33171144944039976 + 0.0328424332420734im\n",
       " -0.32944251696367644 - 0.050781287180897416im\n",
       " -0.31160750339306503 + 0.11837176580693569im\n",
       "  -0.2689834502969823 + 0.19687309256839067im\n",
       " -0.16947438557723316 - 0.2870357882639909im\n",
       "  0.09547931048700889 + 0.31936626681607505im\n",
       "   0.2237484943774718 - 0.24707837294050172im\n",
       "   0.3326247298839208 + 0.02172326358446125im\n",
       "  0.33331581880936106 - 0.003417022469445724im\n",
       "vectors:\n",
       "9×9 Matrix{ComplexF64}:\n",
       "    0.0773191+0.511891im     …   3.08526e-16+1.62928e-19im\n",
       "     0.129845-0.56231im          1.64921e-16-1.29095e-16im\n",
       "     0.631615+0.0im             -1.48585e-16-1.38088e-16im\n",
       "  -2.3032e-16-4.75835e-16im         0.751813+0.0im\n",
       " -2.09388e-17-1.91545e-16im        -0.104663-0.021228im\n",
       " -1.77055e-16+3.33217e-16im  …      0.243715+0.603304im\n",
       " -4.12767e-16+3.11066e-16im       3.0247e-15-3.14179e-15im\n",
       " -2.24324e-16-1.04232e-16im      4.97207e-15-2.7847e-15im\n",
       "  -2.0129e-16-5.18985e-16im     -4.87233e-15-5.03361e-15im"
      ]
     },
     "execution_count": 73,
     "metadata": {},
     "output_type": "execute_result"
    }
   ],
   "source": [
    "eigen(v1)"
   ]
  },
  {
   "cell_type": "code",
   "execution_count": 63,
   "id": "b920f040-f4d8-41ed-8d34-d6e8d2958c4a",
   "metadata": {},
   "outputs": [
    {
     "data": {
      "text/plain": [
       "0.09998746114914639 - 0.9949886972287413im"
      ]
     },
     "execution_count": 63,
     "metadata": {},
     "output_type": "execute_result"
    }
   ],
   "source": [
    "PN = 1\n",
    "tx = 1\n",
    "ty = 1\n",
    "#---\n",
    "H = get_total_H(Nx, Ny, alpha, Tx[tx], Ty[ty], cut_off, PN)     \n",
    "w1, v1 = eigen(dense((H+H')/2).data)\n",
    "v1 = v1[:, sortperm(w1)]\n",
    "# drop_idx = findcol(v1, col)\n",
    "# v1 = dropcol(v1, drop_idx)\n",
    "if isapprox(v1[1,1], 0+0im, atol=0.001) == false\n",
    "    v1 = v1 ./ v1[1,1]\n",
    "    v1 = v1/norm(v1)\n",
    "end\n",
    "v1 = v1[:,n1:n2]\n",
    "#---\n",
    "H = get_total_H(Nx, Ny, alpha, Tx[tx]+dx, Ty[ty], cut_off, PN)     \n",
    "w2, v2 = eigen(dense((H+H')/2).data)\n",
    "v2 = v2[:, sortperm(w2)]\n",
    "# drop_idx = findcol(v2, col)\n",
    "# v2 = dropcol(v2, drop_idx)\n",
    "v2 = v2[:,n1:n2]\n",
    "#---\n",
    "H = get_total_H(Nx, Ny, alpha, Tx[tx], Ty[ty]+dy, cut_off, PN)     \n",
    "w3, v3 = eigen(dense((H+H')/2).data)\n",
    "v3 = v3[:, sortperm(w3)]\n",
    "# drop_idx = findcol(v3, col)\n",
    "# v3 = dropcol(v3, drop_idx)\n",
    "v3 = v3[:,n1:n2]\n",
    "#---\n",
    "H = get_total_H(Nx, Ny, alpha, Tx[tx]+dx, Ty[ty]+dy, cut_off, PN)     \n",
    "w4, v4 = eigen(dense((H+H')/2).data)\n",
    "v4 = v4[:, sortperm(w4)]\n",
    "# drop_idx = findcol(v4, col)\n",
    "# v4 = dropcol(v4, drop_idx)\n",
    "v4 = v4[:,n1:n2]\n",
    "#---\n",
    "U1=det(adjoint(v1)*v2)\n",
    "U1=U1/abs(U1)\n",
    "U2=det(adjoint(v2)*v4)\n",
    "U2=U2/abs(U2)\n",
    "U3=det(adjoint(v3)*v4)\n",
    "U3=U3/abs(U3)\n",
    "U4=det(adjoint(v1)*v3)\n",
    "U4=U4/abs(U4)"
   ]
  },
  {
   "cell_type": "code",
   "execution_count": 64,
   "id": "21a4bec9-b8ad-40a7-8bd2-9ebecf627de1",
   "metadata": {},
   "outputs": [
    {
     "data": {
      "text/plain": [
       "9-element Vector{Float64}:\n",
       " -2.546639394327162\n",
       " -2.5466393943271606\n",
       " -2.546639394327156\n",
       "  0.20750036611082465\n",
       "  0.20750036611082553\n",
       "  0.20750036611082567\n",
       "  2.339139028216335\n",
       "  2.339139028216336\n",
       "  2.3391390282163362"
      ]
     },
     "execution_count": 64,
     "metadata": {},
     "output_type": "execute_result"
    }
   ],
   "source": [
    "w4"
   ]
  },
  {
   "cell_type": "code",
   "execution_count": 65,
   "id": "b68518bc-b581-4b0b-b030-f17c397b9a2b",
   "metadata": {},
   "outputs": [
    {
     "data": {
      "text/plain": [
       "9×1 Matrix{ComplexF64}:\n",
       "    0.22768685118156337 - 0.09547546849024292im\n",
       "   -0.09486724412515558 - 0.029938605636929395im\n",
       "     0.9486625031502366 + 0.17084049202965787im\n",
       " 1.3877787807814457e-17 + 9.71445146547012e-17im\n",
       " -9.020562075079397e-17 + 1.5612511283791264e-17im\n",
       "   2.42861286636753e-17 - 6.938893903907228e-18im\n",
       " -1.734723475976807e-16 + 1.734723475976807e-16im\n",
       "                    0.0 + 9.367506770274758e-17im\n",
       "  3.354703270462921e-16 - 0.0im"
      ]
     },
     "execution_count": 65,
     "metadata": {},
     "output_type": "execute_result"
    }
   ],
   "source": [
    "v1[:,2:2]"
   ]
  },
  {
   "cell_type": "code",
   "execution_count": 53,
   "id": "e78a8b13-25d1-44a3-91ad-f4f2e156fc9d",
   "metadata": {},
   "outputs": [
    {
     "data": {
      "text/plain": [
       "9-element Vector{ComplexF64}:\n",
       "   0.04206576838675055 - 0.4844396754976562im\n",
       "  -0.11575260100874928 - 0.5048774472308879im\n",
       " -0.019490509012952906 - 0.41988073170016393im\n",
       "   0.08258610549150286 - 0.15124676786746452im\n",
       "  -0.13712915132022854 - 0.206737076416468im\n",
       "   0.02043777173323122 - 0.1578183693955im\n",
       "    0.1675828210222271 - 0.2475088598632606im\n",
       "  -0.20168809511772048 - 0.2682933538161717im\n",
       "                   0.0 + 0.0im"
      ]
     },
     "execution_count": 53,
     "metadata": {},
     "output_type": "execute_result"
    }
   ],
   "source": [
    "A = [0.04206576838675055 - 0.4844396754976562im\n",
    "  -0.11575260100874928 - 0.5048774472308879im\n",
    " -0.019490509012952906 - 0.41988073170016393im\n",
    "   0.08258610549150286 - 0.15124676786746452im\n",
    "  -0.13712915132022854 - 0.206737076416468im\n",
    "   0.02043777173323122 - 0.1578183693955im\n",
    "    0.1675828210222271 - 0.2475088598632606im\n",
    "  -0.20168809511772048 - 0.2682933538161717im\n",
    "                   0.0 + 0.0im]"
   ]
  },
  {
   "cell_type": "code",
   "execution_count": 58,
   "id": "801a72d1-8ee3-406a-b127-5ce3debb4413",
   "metadata": {},
   "outputs": [
    {
     "data": {
      "text/plain": [
       "9×1 Matrix{ComplexF64}:\n",
       " -1.7980148799796905e-16 + 2.6448446692249435e-16im\n",
       "  3.1046229679841827e-16 + 8.476994294114351e-16im\n",
       " -2.5323280801083318e-17 + 1.227685310490113e-16im\n",
       "      -1.090534299951408 - 0.4449238617579872im\n",
       "     0.36100073604058036 + 0.09170231699197172im\n",
       "     -2.7721760625514626 - 5.462498847891495im\n",
       "   8.007269689386028e-17 + 1.7066629704076275e-16im\n",
       "   8.099994278116515e-17 - 7.990563131415732e-16im\n",
       "                     NaN + NaN*im"
      ]
     },
     "execution_count": 58,
     "metadata": {},
     "output_type": "execute_result"
    }
   ],
   "source": [
    "v1[:,4:4] ./ A"
   ]
  },
  {
   "cell_type": "code",
   "execution_count": 49,
   "id": "d76141ca-6b31-4621-b5b4-c6d52a6d8a14",
   "metadata": {},
   "outputs": [
    {
     "data": {
      "text/plain": [
       "Eigen{ComplexF64, ComplexF64, Matrix{ComplexF64}, Vector{ComplexF64}}\n",
       "values:\n",
       "9-element Vector{ComplexF64}:\n",
       "  -0.9957553612966031 + 0.09203945050397394im\n",
       " -0.42003967852213075 - 0.9075057401840629im\n",
       "  -0.2605125273634965 + 0.9654704672265649im\n",
       " -0.18697876421055862 + 0.9823639558403457im\n",
       " -0.16395678044357687 - 0.9864675231078723im\n",
       "  0.09948476278099364 - 0.9950390856516179im\n",
       "  0.34409654116713523 - 0.9389342737150541im\n",
       "   0.5944419686309548 + 0.8041385116571351im\n",
       "   0.9444051792358245 - 0.32878390689410203im\n",
       "vectors:\n",
       "9×9 Matrix{ComplexF64}:\n",
       "    -0.503198-0.224812im     …   1.60054e-16-8.15074e-17im\n",
       "    -0.494572+0.291905im         9.05782e-17+7.01495e-17im\n",
       "     0.605344+0.0im             -1.78743e-16-8.81097e-18im\n",
       "  4.41479e-16+3.9254e-17im      -2.13933e-16+1.97689e-16im\n",
       " -1.69026e-17+7.64161e-17im      2.57639e-16-5.272e-16im\n",
       "  8.06173e-17+2.73893e-17im  …   1.03897e-16+2.52044e-16im\n",
       "  1.17364e-16+1.10632e-16im        -0.596552+0.306689im\n",
       "  3.10486e-16+2.09361e-16im         0.716812+0.0im\n",
       "   1.8894e-16+4.5858e-18im         -0.091453+0.16699im"
      ]
     },
     "execution_count": 49,
     "metadata": {},
     "output_type": "execute_result"
    }
   ],
   "source": [
    "eigen(v1)"
   ]
  },
  {
   "cell_type": "code",
   "execution_count": null,
   "id": "b2755a15-d6bf-4595-87ec-dbd223ad7d43",
   "metadata": {},
   "outputs": [],
   "source": []
  }
 ],
 "metadata": {
  "kernelspec": {
   "display_name": "Julia 1.9.3",
   "language": "julia",
   "name": "julia-1.9"
  },
  "language_info": {
   "file_extension": ".jl",
   "mimetype": "application/julia",
   "name": "julia",
   "version": "1.9.3"
  }
 },
 "nbformat": 4,
 "nbformat_minor": 5
}
