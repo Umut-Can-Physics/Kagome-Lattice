{
 "cells": [
  {
   "cell_type": "markdown",
   "id": "2c41ed7e-717e-44c8-b1ed-746aa6fdb9e7",
   "metadata": {},
   "source": [
    "## What the important is not the arrival point, it is the journey itself. Enjoy your journey :)"
   ]
  },
  {
   "cell_type": "markdown",
   "id": "0704ee9d-3546-4a43-9353-c294bcee6522",
   "metadata": {},
   "source": [
    "# Including \n",
    "* Single-Particle Theta and Real Space Hopping Phases\n",
    "* Essential First Band Approximation Functions"
   ]
  },
  {
   "cell_type": "code",
   "execution_count": 1,
   "id": "a756046f-6d3d-4c95-be1e-b0b4b07afff2",
   "metadata": {
    "tags": []
   },
   "outputs": [],
   "source": [
    "using NBInclude; using LinearAlgebra\n",
    "@nbinclude(\"Hofstadter Single Particle in Theta Space.ipynb\")\n",
    "@nbinclude(joinpath(\"..\",\"First Band Approximation Functions.ipynb\"));"
   ]
  },
  {
   "cell_type": "markdown",
   "id": "14007332-aaa4-4626-9e41-73b1c8385497",
   "metadata": {},
   "source": [
    "# Initial Parameters"
   ]
  },
  {
   "cell_type": "code",
   "execution_count": 2,
   "id": "1d4c8deb-a2ca-456b-9a4e-71bcf2ecb21a",
   "metadata": {
    "tags": []
   },
   "outputs": [],
   "source": [
    "# Lattice Size\n",
    "Nx=3; Ny=3; N=Nx*Ny\n",
    "\n",
    "# Magnetic Flux Per Plaquet\n",
    "p=1; q=Ny; alpha=p/q\n",
    "\n",
    "# Total Particle Number\n",
    "# NON-INTERACTING CASE:\n",
    "PN = 1\n",
    "\n",
    "# INTERACTING CASE\n",
    "# PN = [0, 1, 2]\n",
    "\n",
    "# Cut-Off for Sub-Space (Full Space for now...)\n",
    "cut_off = Nx*Ny\n",
    "\n",
    "# Interaction Potential\n",
    "U = 2\n",
    "\n",
    "# Theta Parameter Space\n",
    "T_size = 5;"
   ]
  },
  {
   "cell_type": "markdown",
   "id": "e56b21ac-e908-455e-a2cc-da8552fc2e07",
   "metadata": {},
   "source": [
    "# Single Particle Operator"
   ]
  },
  {
   "cell_type": "code",
   "execution_count": 3,
   "id": "846e576d-5158-4c1b-9cb9-47dc8e21d598",
   "metadata": {
    "tags": []
   },
   "outputs": [
    {
     "data": {
      "text/plain": [
       "Sp_Theta_Op (generic function with 1 method)"
      ]
     },
     "execution_count": 3,
     "metadata": {},
     "output_type": "execute_result"
    }
   ],
   "source": [
    "function Sp_Theta_Op(Nx, Ny, alpha, sp_basis, Tx, Ty)\n",
    "        \n",
    "    H_T = HSP_T(Nx, Ny, alpha, Tx, Ty, 0)\n",
    "    \n",
    "    H = SparseOperator(sp_basis)\n",
    "    \n",
    "    for m in 1:N\n",
    "        for n in 1:N\n",
    "            H = H + H_T[m,n] * transition(sp_basis, m, n)\n",
    "        end\n",
    "    end\n",
    "    \n",
    "    return H\n",
    "end"
   ]
  },
  {
   "cell_type": "markdown",
   "id": "df006870-dd95-4c4a-8daa-350e876beb1a",
   "metadata": {},
   "source": [
    "# Sub-Space Many-Body"
   ]
  },
  {
   "cell_type": "code",
   "execution_count": 4,
   "id": "204c4b33-6509-4677-9755-923fb8d50c1c",
   "metadata": {
    "tags": []
   },
   "outputs": [
    {
     "data": {
      "text/plain": [
       "get_total_H (generic function with 1 method)"
      ]
     },
     "execution_count": 4,
     "metadata": {},
     "output_type": "execute_result"
    }
   ],
   "source": [
    "@nbinclude(\"Hofstadter MB in Julia.ipynb\"; regex=r\"#.*executeme\")\n",
    "function get_total_H(Nx, Ny, alpha, Tx, Ty, cut_off, PN)\n",
    "    \n",
    "    sp_basis = NLevelBasis(N)\n",
    "\n",
    "    # Single Particle Operator\n",
    "    H1 = Sp_Theta_Op(Nx, Ny, alpha, sp_basis, Tx, Ty)\n",
    "    \n",
    "    # Sub-States Go on to Cut-Off\n",
    "    sub_states = get_sub_states(H1, cut_off)\n",
    "\n",
    "    # Sub-Space Basis and Projection Operator\n",
    "    basis_sub, P, Pt = get_projector_op(sub_states, sp_basis)\n",
    "\n",
    "    # Single-Particle Sub-Space Operator\n",
    "    H1_sub = get_subspace_op(H1, P, Pt)\n",
    "\n",
    "    # Many-Body Sub-Space Bosonic Fock States\n",
    "    states_mb = bosonstates(basis_sub, PN)     \n",
    "\n",
    "    # Many-Body Sub-Space Basis\n",
    "    basis_mb = ManyBodyBasis(basis_sub, states_mb)\n",
    "\n",
    "    basis_cut_mb, basis_cut_sp = get_Bosonic_MB_Basis(cut_off,PN);\n",
    "    \n",
    "    # Kinetic Term of Many-Body Sub-Space Operator\n",
    "    H1_MB = get_mb_op(basis_mb, basis_sub, H1_sub)\n",
    "    H1cut = SparseOperator(basis_cut_mb)\n",
    "    H1cut.data = H1_MB.data\n",
    "\n",
    "    # Interaction Term of Many-Body Sub-Space Operator\n",
    "    H_Int = Hubbard_Interaction(basis_cut_sp, basis_cut_mb, P, Pt, cut_off)\n",
    "    \n",
    "    return H1cut + H_Int\n",
    "end"
   ]
  },
  {
   "cell_type": "code",
   "execution_count": 6,
   "id": "cbd83c40-5ef2-4716-b946-03dd116ee084",
   "metadata": {},
   "outputs": [
    {
     "data": {
      "text/plain": [
       "Eigen{ComplexF64, Float64, Matrix{ComplexF64}, Vector{Float64}}\n",
       "values:\n",
       "9-element Vector{Float64}:\n",
       " -2.7320508075688723\n",
       " -2.7320508075688688\n",
       " -2.7320508075688683\n",
       "  0.7320508075688776\n",
       "  0.7320508075688784\n",
       "  0.7320508075688794\n",
       "  1.9999999999999996\n",
       "  2.0000000000000004\n",
       "  2.0000000000000018\n",
       "vectors:\n",
       "9×9 Matrix{ComplexF64}:\n",
       "   -0.0212317+0.105641im     …  -8.88178e-16-1.66533e-16im\n",
       "    -0.535475+0.834129im         7.63278e-17-3.1225e-17im\n",
       "   -0.0245826+0.0726677im                0.0+5.55112e-17im\n",
       "  3.14419e-17-1.1601e-16im      -8.32667e-17+1.249e-16im\n",
       " -1.84043e-17-3.84079e-17im      3.26128e-16-1.73472e-16im\n",
       " -3.11058e-16+4.31512e-16im  …    3.1225e-17+1.73472e-16im\n",
       " -1.13258e-16+1.61275e-16im         -0.46967+0.294088im\n",
       "  6.59195e-17-5.30175e-17im        -0.751429-0.203004im\n",
       "  4.45222e-18-0.0im                -0.295071-0.0im"
      ]
     },
     "execution_count": 6,
     "metadata": {},
     "output_type": "execute_result"
    }
   ],
   "source": [
    "Tx = Ty = 0\n",
    "H = get_total_H(Nx, Ny, alpha, Tx, Ty, cut_off, PN)\n",
    "EE, VV = eigen(dense((H+H')/2).data)"
   ]
  },
  {
   "cell_type": "markdown",
   "id": "72e62838-b8cf-4104-b4e9-c3be69695efb",
   "metadata": {},
   "source": [
    "# Exact Diagonalization"
   ]
  },
  {
   "cell_type": "code",
   "execution_count": 26,
   "id": "dddbeaf6-3b0b-4f15-b74a-7c6390b376d0",
   "metadata": {
    "tags": []
   },
   "outputs": [],
   "source": [
    "# using DataFrames\n",
    "\n",
    "# function get_filtered_energies(pn, basis, H_total)\n",
    "    \n",
    "#     # Operator Form of Eigenstates\n",
    "#     E, V = eigenstates(dense(dense((H_total+H_total')/2)))\n",
    "\n",
    "#     # Energies According to Each Particle Number\n",
    "#     PN_Energies = Array{Float64}(undef, length(E), 2)\n",
    "#     for i in 1:length(E)\n",
    "#         # Particle Number in Each State\n",
    "#         PN_Energies[i] = round(expect(number(basis), V[i]))\n",
    "        \n",
    "#         # Energies in Each State\n",
    "#         PN_Energies[i,2] = E[i]\n",
    "#     end\n",
    "    \n",
    "#     # Fiter Process\n",
    "#     Filtered_Energies = DataFrame(PN_Energies, :auto)\n",
    "#     Filtered_Energies = filter(row -> (row.x1 == pn),  Filtered_Energies)\n",
    "    \n",
    "#     return Filtered_Energies\n",
    "# end"
   ]
  },
  {
   "cell_type": "code",
   "execution_count": 27,
   "id": "773ca436-811a-4c8e-9f18-c5869ac080df",
   "metadata": {
    "tags": []
   },
   "outputs": [],
   "source": [
    "# # Energies of Filtered Particle Number \n",
    "# pn = 1\n",
    "# df = get_filtered_energies(pn, basis_cut_mb, H_total)\n",
    "# filtered_energies = Matrix(df)[:,2]"
   ]
  },
  {
   "cell_type": "code",
   "execution_count": 28,
   "id": "eb4c9fad-5de3-4b51-ab18-81fe069cd372",
   "metadata": {
    "tags": []
   },
   "outputs": [],
   "source": [
    "# using Plots\n",
    "\n",
    "# # Plots Bands\n",
    "# scatter(1:length(filtered_energies), filtered_energies, legend=false, axis=nothing)"
   ]
  },
  {
   "cell_type": "code",
   "execution_count": 29,
   "id": "c80baa2a-b113-48ef-9e6c-a3f3f11f8973",
   "metadata": {},
   "outputs": [],
   "source": [
    "# # Eigen-States of Filtered Particle Number \n",
    "# function Filtered_Hubbard_States(filtered_energies, states)\n",
    "#     number_of_states = length(filtered_energies)\n",
    "#     return states[:,1:number_of_states]\n",
    "# end"
   ]
  },
  {
   "cell_type": "code",
   "execution_count": 30,
   "id": "b0f73da9-da6a-4023-b507-a5e284d89f83",
   "metadata": {},
   "outputs": [],
   "source": [
    "# pn = 1\n",
    "\n",
    "# function get_eigenstates(basis_cut_mb, H_total, pn)\n",
    "    \n",
    "#     E, V = eigen(dense((H_total+H_total')/2).data)\n",
    "\n",
    "#     # Sorting Again...\n",
    "#     #V = V[:, sortperm(E)]\n",
    "    \n",
    "#     df = get_filtered_energies(pn, basis_cut_mb, H_total)\n",
    "    \n",
    "#     filtered_energies = Matrix(df)[:,2]\n",
    "    \n",
    "#     #filtered_states = Filtered_Hubbard_States(filtered_energies, V)\n",
    "#     #filtered_states = dropcol(V, 4)\n",
    "    \n",
    "#     return filtered_energies, V\n",
    "# end\n",
    "\n",
    "# # Orthogonality \n",
    "# # filtered_energies, filtered_states = get_eigenstates(basis_cut_mb, H_total, pn)\n",
    "# # for i in 1:N\n",
    "# #     j = 9\n",
    "# #     a = filtered_states[:,j]\n",
    "# #     b = filtered_states[:,i]\n",
    "# #     println(dot(a,b))\n",
    "# # end\n",
    "# Tx = Ty = 0\n",
    "# H_total = get_total_H(Nx, Ny, alpha, sp_basis, Tx, Ty, cut_off, PN, basis_cut_sp, basis_cut_mb)\n",
    "# get_eigenstates(basis_cut_mb, H_total, pn)[1]"
   ]
  },
  {
   "cell_type": "markdown",
   "id": "c856a10f-41b7-4bbe-afed-1aa586ef6051",
   "metadata": {},
   "source": [
    "# CHERN CALCULATION SECTION"
   ]
  },
  {
   "cell_type": "code",
   "execution_count": 12,
   "id": "0c89e386-1991-43c0-82f2-2277d5ac195b",
   "metadata": {},
   "outputs": [],
   "source": [
    "# function findcol(M, col)                \n",
    "#     @inbounds @views for c in axes(M, 2)\n",
    "#        M[:,c] == col && return c       \n",
    "#     end                                 \n",
    "#     return nothing                      \n",
    "# end\n",
    "# col = [\n",
    "#     1.0 + 0.0im;\n",
    "#  0.0 + 0.0im;\n",
    "#  0.0 + 0.0im;\n",
    "#  0.0 + 0.0im;\n",
    "#  0.0 + 0.0im;\n",
    "#  0.0 + 0.0im;\n",
    "#  0.0 + 0.0im;\n",
    "#  0.0 + 0.0im;\n",
    "#  0.0 + 0.0im;\n",
    "#  0.0 + 0.0im\n",
    "# ]\n",
    "# dropcol(M::AbstractMatrix, j) = M[:, deleteat!(collect(axes(M, 2)), j)];"
   ]
  },
  {
   "cell_type": "code",
   "execution_count": 31,
   "id": "03abc0ae-4b29-4ba3-8798-985b8077cb20",
   "metadata": {
    "tags": []
   },
   "outputs": [],
   "source": [
    "# Mesh Grid for Theta Space Parameter\n",
    "dx=2*pi/T_size; dy=dx;\n",
    "Tx=range(start=0, stop=2*pi-dx, step=dx)\n",
    "Ty=range(start=0, stop=2*pi-dy, step=dy);"
   ]
  },
  {
   "cell_type": "code",
   "execution_count": 66,
   "id": "311ed1c5-8f61-4997-a0a8-14008bbc354a",
   "metadata": {
    "tags": []
   },
   "outputs": [
    {
     "data": {
      "text/plain": [
       "Chern_Nums (generic function with 1 method)"
      ]
     },
     "execution_count": 66,
     "metadata": {},
     "output_type": "execute_result"
    }
   ],
   "source": [
    "function Chern_Nums(n1, n2)\n",
    "    \n",
    "    Sum=0\n",
    "    \n",
    "    for tx in Tx\n",
    "        for ty in Ty\n",
    "            \n",
    "            H = get_total_H(Nx, Ny, alpha, tx, ty, cut_off, PN)\n",
    "            \n",
    "            w1, v1 = eigen(dense((H+H')/2).data)\n",
    "            \n",
    "            v1 = v1[:, sortperm(w1)]\n",
    "            \n",
    "            if isapprox(v1[1,1], 0+0im, atol=0.001) == false\n",
    "                v1 = v1 ./ v1[1,1]\n",
    "                v1 = v1/norm(v1)\n",
    "            end\n",
    "\n",
    "            # col_idx = findcol(v1, col)\n",
    "            # v1 = dropcol(v1, col_idx)\n",
    "            \n",
    "            v1 = v1[:,n1:n2]\n",
    "            \n",
    "            #------------------------------------\n",
    "            \n",
    "            H = get_total_H(Nx, Ny, alpha, tx+dx, ty, cut_off, PN)\n",
    "            \n",
    "            w2, v2 = eigen(dense((H+H')/2).data)\n",
    "            \n",
    "            v2 = v2[:, sortperm(w2)]\n",
    "\n",
    "            if isapprox(v2[1,1], 0+0im, atol=0.001) == false\n",
    "                v2 = v2 ./ v2[1,1]\n",
    "                v2 = v2 / norm(v2)\n",
    "            end\n",
    "\n",
    "            # col_idx = findcol(v2, col)\n",
    "            # v2 = dropcol(v2, col_idx)\n",
    "            \n",
    "            v2 = v2[:,n1:n2]\n",
    "            \n",
    "            #------------------------------------\n",
    "            \n",
    "            H = get_total_H(Nx, Ny, alpha, tx, ty+dy, cut_off, PN)\n",
    "            \n",
    "            w3, v3 = eigen(dense((H+H')/2).data)\n",
    "            \n",
    "            v3 = v3[:, sortperm(w3)]\n",
    "\n",
    "            if isapprox(v3[1,1], 0+0im, atol=0.001) == false\n",
    "                v3 = v3 ./ v3[1,1]\n",
    "                v3 = v3/norm(v3)\n",
    "            end\n",
    "\n",
    "            # col_idx = findcol(v3, col)\n",
    "            # v3 = dropcol(v3, col_idx)\n",
    "            \n",
    "            v3 = v3[:,n1:n2]\n",
    "            \n",
    "            #------------------------------------\n",
    "            \n",
    "            H = get_total_H(Nx, Ny, alpha, tx+dx, ty+dy, cut_off, PN)\n",
    "            \n",
    "            w4, v4 = eigen(dense((H+H')/2).data)\n",
    "            \n",
    "            v4 = v4[:, sortperm(w4)]\n",
    "\n",
    "            if isapprox(v4[1,1], 0+0im, atol=0.001) == false\n",
    "                v4 = v4 ./ v4[1,1]\n",
    "                v4 = v4/norm(v4)\n",
    "            end\n",
    "\n",
    "            # col_idx = findcol(v4, col)\n",
    "            # v4 = dropcol(v4, col_idx)\n",
    "            \n",
    "            v4 = v4[:,n1:n2]\n",
    "            \n",
    "            #----------LINK VARIABLES------------\n",
    "            \n",
    "            U1=det(adjoint(v1)*v2)\n",
    "            U1=U1/abs(U1)\n",
    "            \n",
    "            U2=det(adjoint(v2)*v4)\n",
    "            U2=U2/abs(U2)\n",
    "            \n",
    "            U3=det(adjoint(v3)*v4)\n",
    "            U3=U3/abs(U3)\n",
    "            \n",
    "            U4=det(adjoint(v1)*v3)\n",
    "            U4=U4/abs(U4)\n",
    "            \n",
    "            #----------BERRY CURVATURE-----------\n",
    "            \n",
    "            F=log(U1*U2*1/U3*1/U4)\n",
    "            Sum=Sum+F\n",
    "            \n",
    "        end\n",
    "    end\n",
    "    \n",
    "    C = 1/(2*pi*1im)*Sum\n",
    "    \n",
    "    return C\n",
    "end"
   ]
  },
  {
   "cell_type": "code",
   "execution_count": 67,
   "id": "d1d0f59a-5568-4d40-bc25-a9f9e9026586",
   "metadata": {
    "tags": []
   },
   "outputs": [
    {
     "data": {
      "text/plain": [
       "-1.0792997342361128e-18 - 1.7669748230352825e-17im"
      ]
     },
     "execution_count": 67,
     "metadata": {},
     "output_type": "execute_result"
    }
   ],
   "source": [
    "Chern_Nums(1, 3)"
   ]
  },
  {
   "cell_type": "code",
   "execution_count": null,
   "id": "ded6baef-efce-4f8a-b7e9-79d70cf188b7",
   "metadata": {},
   "outputs": [],
   "source": []
  },
  {
   "cell_type": "markdown",
   "id": "157a9d66-8c66-43d0-a2a5-82205db2edc1",
   "metadata": {},
   "source": [
    "# Check with \"Hofstadter MB Chern\" file"
   ]
  },
  {
   "cell_type": "code",
   "execution_count": 69,
   "id": "ab9167dc-aa3b-45ee-87ca-07f25b605c78",
   "metadata": {},
   "outputs": [
    {
     "data": {
      "text/plain": [
       "0"
      ]
     },
     "execution_count": 69,
     "metadata": {},
     "output_type": "execute_result"
    }
   ],
   "source": [
    "n1 = 1\n",
    "n2 = 9\n",
    "tx = ty = 0"
   ]
  },
  {
   "cell_type": "code",
   "execution_count": 71,
   "id": "8264ee72-d11d-4103-baed-deef05c439f9",
   "metadata": {},
   "outputs": [
    {
     "data": {
      "text/plain": [
       "8.52741319615994e-32 - 4.129748950277714e-16im"
      ]
     },
     "execution_count": 71,
     "metadata": {},
     "output_type": "execute_result"
    }
   ],
   "source": [
    "H = get_total_H(Nx, Ny, alpha, tx, ty, cut_off, PN)\n",
    "\n",
    "w1, v1 = eigen(dense((H+H')/2).data)\n",
    "\n",
    "v1 = v1[:, sortperm(w1)]\n",
    "\n",
    "if isapprox(v1[1,1], 0+0im, atol=0.001) == false\n",
    "    v1 = v1 ./ v1[1,1]\n",
    "    v1 = v1/norm(v1)\n",
    "end\n",
    "\n",
    "# col_idx = findcol(v1, col)\n",
    "# v1 = dropcol(v1, col_idx)\n",
    "\n",
    "v1 = v1[:,n1:n2]\n",
    "\n",
    "#------------------------------------\n",
    "\n",
    "H = get_total_H(Nx, Ny, alpha, tx+dx, ty, cut_off, PN)\n",
    "\n",
    "w2, v2 = eigen(dense((H+H')/2).data)\n",
    "\n",
    "v2 = v2[:, sortperm(w2)]\n",
    "\n",
    "if isapprox(v2[1,1], 0+0im, atol=0.001) == false\n",
    "    v2 = v2 ./ v2[1,1]\n",
    "    v2 = v2 / norm(v2)\n",
    "end\n",
    "\n",
    "# col_idx = findcol(v2, col)\n",
    "# v2 = dropcol(v2, col_idx)\n",
    "\n",
    "v2 = v2[:,n1:n2]\n",
    "\n",
    "#------------------------------------\n",
    "\n",
    "H = get_total_H(Nx, Ny, alpha, tx, ty+dy, cut_off, PN)\n",
    "\n",
    "w3, v3 = eigen(dense((H+H')/2).data)\n",
    "\n",
    "v3 = v3[:, sortperm(w3)]\n",
    "\n",
    "if isapprox(v3[1,1], 0+0im, atol=0.001) == false\n",
    "    v3 = v3 ./ v3[1,1]\n",
    "    v3 = v3/norm(v3)\n",
    "end\n",
    "\n",
    "# col_idx = findcol(v3, col)\n",
    "# v3 = dropcol(v3, col_idx)\n",
    "\n",
    "v3 = v3[:,n1:n2]\n",
    "\n",
    "#------------------------------------\n",
    "\n",
    "H = get_total_H(Nx, Ny, alpha, tx+dx, ty+dy, cut_off, PN)\n",
    "\n",
    "w4, v4 = eigen(dense((H+H')/2).data)\n",
    "\n",
    "v4 = v4[:, sortperm(w4)]\n",
    "\n",
    "if isapprox(v4[1,1], 0+0im, atol=0.001) == false\n",
    "    v4 = v4 ./ v4[1,1]\n",
    "    v4 = v4/norm(v4)\n",
    "end\n",
    "\n",
    "# col_idx = findcol(v4, col)\n",
    "# v4 = dropcol(v4, col_idx)\n",
    "\n",
    "v4 = v4[:,n1:n2]\n",
    "\n",
    "#----------LINK VARIABLES------------\n",
    "\n",
    "U1=det(adjoint(v1)*v2)\n",
    "U1=U1/abs(U1)\n",
    "\n",
    "U2=det(adjoint(v2)*v4)\n",
    "U2=U2/abs(U2)\n",
    "\n",
    "U3=det(adjoint(v3)*v4)\n",
    "U3=U3/abs(U3)\n",
    "\n",
    "U4=det(adjoint(v1)*v3)\n",
    "U4=U4/abs(U4)\n",
    "\n",
    "#----------BERRY CURVATURE-----------\n",
    "\n",
    "F=log(U1*U2*1/U3*1/U4)"
   ]
  },
  {
   "cell_type": "code",
   "execution_count": 73,
   "id": "3c873bb5-1b90-4745-ac09-372bcc763795",
   "metadata": {},
   "outputs": [
    {
     "data": {
      "text/plain": [
       "Eigen{ComplexF64, ComplexF64, Matrix{ComplexF64}, Vector{ComplexF64}}\n",
       "values:\n",
       "9-element Vector{ComplexF64}:\n",
       " -0.33171144944039976 + 0.0328424332420734im\n",
       " -0.32944251696367644 - 0.050781287180897416im\n",
       " -0.31160750339306503 + 0.11837176580693569im\n",
       "  -0.2689834502969823 + 0.19687309256839067im\n",
       " -0.16947438557723316 - 0.2870357882639909im\n",
       "  0.09547931048700889 + 0.31936626681607505im\n",
       "   0.2237484943774718 - 0.24707837294050172im\n",
       "   0.3326247298839208 + 0.02172326358446125im\n",
       "  0.33331581880936106 - 0.003417022469445724im\n",
       "vectors:\n",
       "9×9 Matrix{ComplexF64}:\n",
       "    0.0773191+0.511891im     …   3.08526e-16+1.62928e-19im\n",
       "     0.129845-0.56231im          1.64921e-16-1.29095e-16im\n",
       "     0.631615+0.0im             -1.48585e-16-1.38088e-16im\n",
       "  -2.3032e-16-4.75835e-16im         0.751813+0.0im\n",
       " -2.09388e-17-1.91545e-16im        -0.104663-0.021228im\n",
       " -1.77055e-16+3.33217e-16im  …      0.243715+0.603304im\n",
       " -4.12767e-16+3.11066e-16im       3.0247e-15-3.14179e-15im\n",
       " -2.24324e-16-1.04232e-16im      4.97207e-15-2.7847e-15im\n",
       "  -2.0129e-16-5.18985e-16im     -4.87233e-15-5.03361e-15im"
      ]
     },
     "execution_count": 73,
     "metadata": {},
     "output_type": "execute_result"
    }
   ],
   "source": [
    "eigen(v1)"
   ]
  },
  {
   "cell_type": "code",
   "execution_count": 63,
   "id": "b920f040-f4d8-41ed-8d34-d6e8d2958c4a",
   "metadata": {},
   "outputs": [
    {
     "data": {
      "text/plain": [
       "0.09998746114914639 - 0.9949886972287413im"
      ]
     },
     "execution_count": 63,
     "metadata": {},
     "output_type": "execute_result"
    }
   ],
   "source": [
    "PN = 1\n",
    "tx = 1\n",
    "ty = 1\n",
    "#---\n",
    "H = get_total_H(Nx, Ny, alpha, Tx[tx], Ty[ty], cut_off, PN)     \n",
    "w1, v1 = eigen(dense((H+H')/2).data)\n",
    "v1 = v1[:, sortperm(w1)]\n",
    "# drop_idx = findcol(v1, col)\n",
    "# v1 = dropcol(v1, drop_idx)\n",
    "if isapprox(v1[1,1], 0+0im, atol=0.001) == false\n",
    "    v1 = v1 ./ v1[1,1]\n",
    "    v1 = v1/norm(v1)\n",
    "end\n",
    "v1 = v1[:,n1:n2]\n",
    "#---\n",
    "H = get_total_H(Nx, Ny, alpha, Tx[tx]+dx, Ty[ty], cut_off, PN)     \n",
    "w2, v2 = eigen(dense((H+H')/2).data)\n",
    "v2 = v2[:, sortperm(w2)]\n",
    "# drop_idx = findcol(v2, col)\n",
    "# v2 = dropcol(v2, drop_idx)\n",
    "v2 = v2[:,n1:n2]\n",
    "#---\n",
    "H = get_total_H(Nx, Ny, alpha, Tx[tx], Ty[ty]+dy, cut_off, PN)     \n",
    "w3, v3 = eigen(dense((H+H')/2).data)\n",
    "v3 = v3[:, sortperm(w3)]\n",
    "# drop_idx = findcol(v3, col)\n",
    "# v3 = dropcol(v3, drop_idx)\n",
    "v3 = v3[:,n1:n2]\n",
    "#---\n",
    "H = get_total_H(Nx, Ny, alpha, Tx[tx]+dx, Ty[ty]+dy, cut_off, PN)     \n",
    "w4, v4 = eigen(dense((H+H')/2).data)\n",
    "v4 = v4[:, sortperm(w4)]\n",
    "# drop_idx = findcol(v4, col)\n",
    "# v4 = dropcol(v4, drop_idx)\n",
    "v4 = v4[:,n1:n2]\n",
    "#---\n",
    "U1=det(adjoint(v1)*v2)\n",
    "U1=U1/abs(U1)\n",
    "U2=det(adjoint(v2)*v4)\n",
    "U2=U2/abs(U2)\n",
    "U3=det(adjoint(v3)*v4)\n",
    "U3=U3/abs(U3)\n",
    "U4=det(adjoint(v1)*v3)\n",
    "U4=U4/abs(U4)"
   ]
  },
  {
   "cell_type": "code",
   "execution_count": 64,
   "id": "21a4bec9-b8ad-40a7-8bd2-9ebecf627de1",
   "metadata": {},
   "outputs": [
    {
     "data": {
      "text/plain": [
       "9-element Vector{Float64}:\n",
       " -2.546639394327162\n",
       " -2.5466393943271606\n",
       " -2.546639394327156\n",
       "  0.20750036611082465\n",
       "  0.20750036611082553\n",
       "  0.20750036611082567\n",
       "  2.339139028216335\n",
       "  2.339139028216336\n",
       "  2.3391390282163362"
      ]
     },
     "execution_count": 64,
     "metadata": {},
     "output_type": "execute_result"
    }
   ],
   "source": [
    "w4"
   ]
  },
  {
   "cell_type": "code",
   "execution_count": 65,
   "id": "b68518bc-b581-4b0b-b030-f17c397b9a2b",
   "metadata": {},
   "outputs": [
    {
     "data": {
      "text/plain": [
       "9×1 Matrix{ComplexF64}:\n",
       "    0.22768685118156337 - 0.09547546849024292im\n",
       "   -0.09486724412515558 - 0.029938605636929395im\n",
       "     0.9486625031502366 + 0.17084049202965787im\n",
       " 1.3877787807814457e-17 + 9.71445146547012e-17im\n",
       " -9.020562075079397e-17 + 1.5612511283791264e-17im\n",
       "   2.42861286636753e-17 - 6.938893903907228e-18im\n",
       " -1.734723475976807e-16 + 1.734723475976807e-16im\n",
       "                    0.0 + 9.367506770274758e-17im\n",
       "  3.354703270462921e-16 - 0.0im"
      ]
     },
     "execution_count": 65,
     "metadata": {},
     "output_type": "execute_result"
    }
   ],
   "source": [
    "v1[:,2:2]"
   ]
  },
  {
   "cell_type": "code",
   "execution_count": 53,
   "id": "e78a8b13-25d1-44a3-91ad-f4f2e156fc9d",
   "metadata": {},
   "outputs": [
    {
     "data": {
      "text/plain": [
       "9-element Vector{ComplexF64}:\n",
       "   0.04206576838675055 - 0.4844396754976562im\n",
       "  -0.11575260100874928 - 0.5048774472308879im\n",
       " -0.019490509012952906 - 0.41988073170016393im\n",
       "   0.08258610549150286 - 0.15124676786746452im\n",
       "  -0.13712915132022854 - 0.206737076416468im\n",
       "   0.02043777173323122 - 0.1578183693955im\n",
       "    0.1675828210222271 - 0.2475088598632606im\n",
       "  -0.20168809511772048 - 0.2682933538161717im\n",
       "                   0.0 + 0.0im"
      ]
     },
     "execution_count": 53,
     "metadata": {},
     "output_type": "execute_result"
    }
   ],
   "source": [
    "A = [0.04206576838675055 - 0.4844396754976562im\n",
    "  -0.11575260100874928 - 0.5048774472308879im\n",
    " -0.019490509012952906 - 0.41988073170016393im\n",
    "   0.08258610549150286 - 0.15124676786746452im\n",
    "  -0.13712915132022854 - 0.206737076416468im\n",
    "   0.02043777173323122 - 0.1578183693955im\n",
    "    0.1675828210222271 - 0.2475088598632606im\n",
    "  -0.20168809511772048 - 0.2682933538161717im\n",
    "                   0.0 + 0.0im]"
   ]
  },
  {
   "cell_type": "code",
   "execution_count": 58,
   "id": "801a72d1-8ee3-406a-b127-5ce3debb4413",
   "metadata": {},
   "outputs": [
    {
     "data": {
      "text/plain": [
       "9×1 Matrix{ComplexF64}:\n",
       " -1.7980148799796905e-16 + 2.6448446692249435e-16im\n",
       "  3.1046229679841827e-16 + 8.476994294114351e-16im\n",
       " -2.5323280801083318e-17 + 1.227685310490113e-16im\n",
       "      -1.090534299951408 - 0.4449238617579872im\n",
       "     0.36100073604058036 + 0.09170231699197172im\n",
       "     -2.7721760625514626 - 5.462498847891495im\n",
       "   8.007269689386028e-17 + 1.7066629704076275e-16im\n",
       "   8.099994278116515e-17 - 7.990563131415732e-16im\n",
       "                     NaN + NaN*im"
      ]
     },
     "execution_count": 58,
     "metadata": {},
     "output_type": "execute_result"
    }
   ],
   "source": [
    "v1[:,4:4] ./ A"
   ]
  },
  {
   "cell_type": "code",
   "execution_count": 49,
   "id": "d76141ca-6b31-4621-b5b4-c6d52a6d8a14",
   "metadata": {},
   "outputs": [
    {
     "data": {
      "text/plain": [
       "Eigen{ComplexF64, ComplexF64, Matrix{ComplexF64}, Vector{ComplexF64}}\n",
       "values:\n",
       "9-element Vector{ComplexF64}:\n",
       "  -0.9957553612966031 + 0.09203945050397394im\n",
       " -0.42003967852213075 - 0.9075057401840629im\n",
       "  -0.2605125273634965 + 0.9654704672265649im\n",
       " -0.18697876421055862 + 0.9823639558403457im\n",
       " -0.16395678044357687 - 0.9864675231078723im\n",
       "  0.09948476278099364 - 0.9950390856516179im\n",
       "  0.34409654116713523 - 0.9389342737150541im\n",
       "   0.5944419686309548 + 0.8041385116571351im\n",
       "   0.9444051792358245 - 0.32878390689410203im\n",
       "vectors:\n",
       "9×9 Matrix{ComplexF64}:\n",
       "    -0.503198-0.224812im     …   1.60054e-16-8.15074e-17im\n",
       "    -0.494572+0.291905im         9.05782e-17+7.01495e-17im\n",
       "     0.605344+0.0im             -1.78743e-16-8.81097e-18im\n",
       "  4.41479e-16+3.9254e-17im      -2.13933e-16+1.97689e-16im\n",
       " -1.69026e-17+7.64161e-17im      2.57639e-16-5.272e-16im\n",
       "  8.06173e-17+2.73893e-17im  …   1.03897e-16+2.52044e-16im\n",
       "  1.17364e-16+1.10632e-16im        -0.596552+0.306689im\n",
       "  3.10486e-16+2.09361e-16im         0.716812+0.0im\n",
       "   1.8894e-16+4.5858e-18im         -0.091453+0.16699im"
      ]
     },
     "execution_count": 49,
     "metadata": {},
     "output_type": "execute_result"
    }
   ],
   "source": [
    "eigen(v1)"
   ]
  },
  {
   "cell_type": "code",
   "execution_count": null,
   "id": "b2755a15-d6bf-4595-87ec-dbd223ad7d43",
   "metadata": {},
   "outputs": [],
   "source": []
  }
 ],
 "metadata": {
  "kernelspec": {
   "display_name": "Julia 1.8.1",
   "language": "julia",
   "name": "julia-1.8"
  },
  "language_info": {
   "file_extension": ".jl",
   "mimetype": "application/julia",
   "name": "julia",
   "version": "1.8.1"
  }
 },
 "nbformat": 4,
 "nbformat_minor": 5
}
