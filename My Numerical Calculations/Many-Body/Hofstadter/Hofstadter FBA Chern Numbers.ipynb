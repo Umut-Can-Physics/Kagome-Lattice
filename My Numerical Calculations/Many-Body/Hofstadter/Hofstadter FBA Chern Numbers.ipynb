{
 "cells": [
  {
   "cell_type": "markdown",
   "id": "2c41ed7e-717e-44c8-b1ed-746aa6fdb9e7",
   "metadata": {},
   "source": [
    "What the important is not the arrival point, it is the journey itself. Enjoy your journey :)"
   ]
  },
  {
   "cell_type": "markdown",
   "id": "0704ee9d-3546-4a43-9353-c294bcee6522",
   "metadata": {},
   "source": [
    "# Including \n",
    "* Single-Particle Theta and Real Space Hopping Phases\n",
    "* Essential First Band Approximation Functions"
   ]
  },
  {
   "cell_type": "code",
   "execution_count": 1,
   "id": "a756046f-6d3d-4c95-be1e-b0b4b07afff2",
   "metadata": {
    "tags": []
   },
   "outputs": [],
   "source": [
    "using NBInclude\n",
    "@nbinclude(\"Hofstadter Single Particle in Theta Space.ipynb\")\n",
    "@nbinclude(joinpath(\"..\",\"First Band Approximation Functions.ipynb\"));"
   ]
  },
  {
   "cell_type": "markdown",
   "id": "14007332-aaa4-4626-9e41-73b1c8385497",
   "metadata": {},
   "source": [
    "# Initial Parameters"
   ]
  },
  {
   "cell_type": "code",
   "execution_count": 2,
   "id": "1d4c8deb-a2ca-456b-9a4e-71bcf2ecb21a",
   "metadata": {
    "tags": []
   },
   "outputs": [],
   "source": [
    "# Lattice Size\n",
    "Nx=4; Ny=4; N=Nx*Ny\n",
    "\n",
    "# Magnetic Flux Per Plaquet\n",
    "p=1; q=Ny; alpha=p/q\n",
    "\n",
    "# Total Particle Number\n",
    "PN=[0,1,2]\n",
    "\n",
    "# Cut-Off for Sub-Space (Real Space for now...)\n",
    "cut_off=9\n",
    "\n",
    "# Interaction Potential\n",
    "U = 0\n",
    "\n",
    "# Theta Parameter Space\n",
    "T_size=5;"
   ]
  },
  {
   "cell_type": "markdown",
   "id": "e56b21ac-e908-455e-a2cc-da8552fc2e07",
   "metadata": {},
   "source": [
    "# Single Particle Operator"
   ]
  },
  {
   "cell_type": "code",
   "execution_count": 3,
   "id": "846e576d-5158-4c1b-9cb9-47dc8e21d598",
   "metadata": {
    "tags": []
   },
   "outputs": [
    {
     "data": {
      "text/plain": [
       "Sp_Theta_Op (generic function with 1 method)"
      ]
     },
     "execution_count": 3,
     "metadata": {},
     "output_type": "execute_result"
    }
   ],
   "source": [
    "function Sp_Theta_Op(Nx, Ny, alpha, sp_basis, Tx, Ty)\n",
    "        \n",
    "    H_T = HSP_T(Nx, Ny, alpha, Tx, Ty, 0)\n",
    "    \n",
    "    H = SparseOperator(sp_basis)\n",
    "    \n",
    "    for m in 1:N\n",
    "        for n in 1:N\n",
    "            H = H + H_T[m,n] * transition(sp_basis, m, n)\n",
    "        end\n",
    "    end\n",
    "    \n",
    "    return H\n",
    "end"
   ]
  },
  {
   "cell_type": "code",
   "execution_count": 4,
   "id": "5a7b7ed6-5618-4ef2-b718-8b5ccd3f8f5e",
   "metadata": {
    "tags": []
   },
   "outputs": [
    {
     "data": {
      "text/plain": [
       "16-element Vector{Float64}:\n",
       " -2.8284271247461907\n",
       " -2.8284271247461903\n",
       " -2.8284271247461903\n",
       " -2.82842712474619\n",
       " -7.567681912132963e-16\n",
       " -3.625677134983838e-16\n",
       " -2.7415214633988265e-16\n",
       " -1.2312675939960845e-16\n",
       " -8.477677466770388e-19\n",
       "  2.29674714176659e-16\n",
       "  3.7977752476621913e-16\n",
       "  6.99095087024756e-16\n",
       "  2.8284271247461894\n",
       "  2.82842712474619\n",
       "  2.8284271247461903\n",
       "  2.8284271247461907"
      ]
     },
     "execution_count": 4,
     "metadata": {},
     "output_type": "execute_result"
    }
   ],
   "source": [
    "using LinearAlgebra\n",
    "\n",
    "# Reference Parameters\n",
    "Tx = Ty = 0\n",
    "sp_basis = NLevelBasis(N)\n",
    "eigenenergies(dense(Sp_Theta_Op(Nx, Ny, alpha, sp_basis, Tx, Ty))) == eigvals(HSP_T(Nx, Ny, p/q, Tx, Ty, 0))\n",
    "eigvals(HSP_T(Nx, Ny, p/q, Tx, Ty, 0))"
   ]
  },
  {
   "cell_type": "markdown",
   "id": "df006870-dd95-4c4a-8daa-350e876beb1a",
   "metadata": {},
   "source": [
    "# Sub-Space Many-Body"
   ]
  },
  {
   "cell_type": "code",
   "execution_count": 5,
   "id": "9c29d80c-5eea-434d-b1e0-0a1e953c8f44",
   "metadata": {
    "tags": []
   },
   "outputs": [],
   "source": [
    "@nbinclude(\"Hofstadter MB in Julia.ipynb\"; regex=r\"#.*executeme\");"
   ]
  },
  {
   "cell_type": "code",
   "execution_count": 6,
   "id": "b60c65b7-d7ba-4de3-9dc6-331e228961a7",
   "metadata": {
    "tags": []
   },
   "outputs": [],
   "source": [
    "basis_cut_mb, basis_cut_sp = get_Bosonic_MB_Basis(cut_off,PN);"
   ]
  },
  {
   "cell_type": "code",
   "execution_count": 7,
   "id": "204c4b33-6509-4677-9755-923fb8d50c1c",
   "metadata": {
    "tags": []
   },
   "outputs": [
    {
     "data": {
      "text/plain": [
       "get_total_H (generic function with 1 method)"
      ]
     },
     "execution_count": 7,
     "metadata": {},
     "output_type": "execute_result"
    }
   ],
   "source": [
    "function get_total_H(Nx, Ny, alpha, sp_basis, Tx, Ty, cut_off, PN, basis_cut_sp, basis_cut_mb)\n",
    "    # Single Particle Operator\n",
    "    H1 = Sp_Theta_Op(Nx, Ny, alpha, sp_basis, Tx, Ty)\n",
    "    \n",
    "    # Sub-States Go on to Cut-Off\n",
    "    sub_states = get_sub_states(H1, cut_off)\n",
    "\n",
    "    # Sub-Space Basis and Projection Operator\n",
    "    basis_sub, P, Pt = get_projector_op(sub_states, sp_basis)\n",
    "\n",
    "    # Single-Particle Sub-Space Operator\n",
    "    H1_sub = get_subspace_op(H1, P, Pt)\n",
    "\n",
    "    # Many-Body Sub-Space Bosonic Fock States\n",
    "    states_mb = bosonstates(basis_sub, PN)     \n",
    "\n",
    "    # Many-Body Sub-Space Basis\n",
    "    basis_mb = ManyBodyBasis(basis_sub, states_mb)\n",
    "\n",
    "    # Kinetic Term of Many-Body Sub-Space Operator\n",
    "    H1_MB = get_mb_op(basis_mb, basis_sub, H1_sub)\n",
    "    H1cut = SparseOperator(basis_cut_mb)\n",
    "    H1cut.data = H1_MB.data\n",
    "\n",
    "    # Interaction Term of Many-Body Sub-Space Operator\n",
    "    H_Int = Hubbard_Interaction(basis_cut_sp, basis_cut_mb, P, Pt, cut_off)\n",
    "    \n",
    "    return H1cut + H_Int\n",
    "end"
   ]
  },
  {
   "cell_type": "code",
   "execution_count": 8,
   "id": "c38c03ff-bed8-438e-aaca-370ca8333e98",
   "metadata": {
    "tags": []
   },
   "outputs": [
    {
     "data": {
      "text/plain": [
       "3-element Vector{Int64}:\n",
       " 0\n",
       " 1\n",
       " 2"
      ]
     },
     "execution_count": 8,
     "metadata": {},
     "output_type": "execute_result"
    }
   ],
   "source": [
    "PN"
   ]
  },
  {
   "cell_type": "code",
   "execution_count": 9,
   "id": "cbd83c40-5ef2-4716-b946-03dd116ee084",
   "metadata": {},
   "outputs": [
    {
     "data": {
      "text/plain": [
       "55-element Vector{Float64}:\n",
       " -5.656854249492388\n",
       " -5.656854249492385\n",
       " -5.656854249492384\n",
       " -5.656854249492384\n",
       " -5.656854249492382\n",
       " -5.6568542494923815\n",
       " -5.656854249492381\n",
       " -5.65685424949238\n",
       " -5.65685424949238\n",
       " -5.656854249492378\n",
       " -2.828427124746194\n",
       " -2.828427124746192\n",
       " -2.8284271247461916\n",
       "  ⋮\n",
       "  2.7269781353200164e-17\n",
       "  8.772653445879652e-17\n",
       "  1.4488765965414672e-16\n",
       "  1.6739092106846218e-16\n",
       "  2.020943393334195e-16\n",
       "  3.437399737763554e-16\n",
       "  4.596209866422945e-16\n",
       "  6.805648827474458e-16\n",
       "  8.882577593071742e-16\n",
       "  1.1406491553651427e-15\n",
       "  1.7603521047131587e-15\n",
       "  2.6420072041249618e-15"
      ]
     },
     "execution_count": 9,
     "metadata": {},
     "output_type": "execute_result"
    }
   ],
   "source": [
    "Tx = Ty = 0\n",
    "H_total = get_total_H(Nx, Ny, alpha, sp_basis, Tx, Ty, cut_off, PN, basis_cut_sp, basis_cut_mb);\n",
    "eigenenergies(dense((H_total+H_total')/2))"
   ]
  },
  {
   "cell_type": "markdown",
   "id": "72e62838-b8cf-4104-b4e9-c3be69695efb",
   "metadata": {},
   "source": [
    "# Exact Diagonalization"
   ]
  },
  {
   "cell_type": "code",
   "execution_count": 10,
   "id": "dddbeaf6-3b0b-4f15-b74a-7c6390b376d0",
   "metadata": {
    "tags": []
   },
   "outputs": [
    {
     "data": {
      "text/plain": [
       "get_filtered_energies (generic function with 1 method)"
      ]
     },
     "execution_count": 10,
     "metadata": {},
     "output_type": "execute_result"
    }
   ],
   "source": [
    "using DataFrames\n",
    "\n",
    "function get_filtered_energies(pn, basis, H_total)\n",
    "    \n",
    "    # Operator Form of Eigenstates\n",
    "    E, V = eigenstates(dense(dense((H_total+H_total')/2)))\n",
    "\n",
    "    # Energies According to Each Particle Number\n",
    "    PN_Energies = Array{Float64}(undef, length(E), 2)\n",
    "    for i in 1:length(E)\n",
    "        # Particle Number in Each State\n",
    "        PN_Energies[i] = round(expect(number(basis), V[i]))\n",
    "        \n",
    "        # Energies in Each State\n",
    "        PN_Energies[i,2] = E[i]\n",
    "    end\n",
    "    \n",
    "    # Fiter Process\n",
    "    Filtered_Energies = DataFrame(PN_Energies, :auto)\n",
    "    Filtered_Energies = filter(row -> (row.x1 == pn),  Filtered_Energies)\n",
    "    \n",
    "    return Filtered_Energies\n",
    "end"
   ]
  },
  {
   "cell_type": "code",
   "execution_count": 20,
   "id": "773ca436-811a-4c8e-9f18-c5869ac080df",
   "metadata": {
    "tags": []
   },
   "outputs": [
    {
     "data": {
      "text/plain": [
       "45-element Vector{Float64}:\n",
       " -5.656854249492411\n",
       " -5.656854249492402\n",
       " -5.656854249492388\n",
       " -5.656854249492377\n",
       " -5.656854249492375\n",
       " -5.656854249492369\n",
       " -5.656854249492368\n",
       " -5.656854249492367\n",
       " -5.656854249492366\n",
       " -5.656854249492364\n",
       " -2.8284271247461965\n",
       " -2.828427124746194\n",
       " -2.8284271247461925\n",
       "  ⋮\n",
       " -1.0046980248418692e-15\n",
       " -6.451523520425118e-16\n",
       " -3.2168618569170224e-16\n",
       " -6.869717289394513e-17\n",
       "  2.7712542669782338e-17\n",
       "  1.5807727856134657e-16\n",
       "  3.1220912863077625e-16\n",
       "  4.726133620603719e-16\n",
       "  9.066951032243944e-16\n",
       "  1.1475005729623688e-15\n",
       "  1.7758991001019363e-15\n",
       "  2.584691116444725e-15"
      ]
     },
     "execution_count": 20,
     "metadata": {},
     "output_type": "execute_result"
    }
   ],
   "source": [
    "# Energies of Filtered Particle Number \n",
    "pn = 2\n",
    "df = get_filtered_energies(pn, basis_cut_mb, H_total)\n",
    "filtered_energies = Matrix(df)[:,2]"
   ]
  },
  {
   "cell_type": "code",
   "execution_count": 21,
   "id": "eb4c9fad-5de3-4b51-ab18-81fe069cd372",
   "metadata": {
    "tags": []
   },
   "outputs": [
    {
     "data": {
      "image/svg+xml": [
       "<?xml version=\"1.0\" encoding=\"utf-8\"?>\n",
       "<svg xmlns=\"http://www.w3.org/2000/svg\" xmlns:xlink=\"http://www.w3.org/1999/xlink\" width=\"600\" height=\"400\" viewBox=\"0 0 2400 1600\">\n",
       "<defs>\n",
       "  <clipPath id=\"clip980\">\n",
       "    <rect x=\"0\" y=\"0\" width=\"2400\" height=\"1600\"/>\n",
       "  </clipPath>\n",
       "</defs>\n",
       "<path clip-path=\"url(#clip980)\" d=\"M0 1600 L2400 1600 L2400 0 L0 0  Z\" fill=\"#ffffff\" fill-rule=\"evenodd\" fill-opacity=\"1\"/>\n",
       "<defs>\n",
       "  <clipPath id=\"clip981\">\n",
       "    <rect x=\"480\" y=\"0\" width=\"1681\" height=\"1600\"/>\n",
       "  </clipPath>\n",
       "</defs>\n",
       "<path clip-path=\"url(#clip980)\" d=\"M47.2441 1552.76 L2352.76 1552.76 L2352.76 47.2441 L47.2441 47.2441  Z\" fill=\"#ffffff\" fill-rule=\"evenodd\" fill-opacity=\"1\"/>\n",
       "<defs>\n",
       "  <clipPath id=\"clip982\">\n",
       "    <rect x=\"47\" y=\"47\" width=\"2307\" height=\"1507\"/>\n",
       "  </clipPath>\n",
       "</defs>\n",
       "<polyline clip-path=\"url(#clip980)\" style=\"stroke:#000000; stroke-linecap:round; stroke-linejoin:round; stroke-width:4; stroke-opacity:1; fill:none\" points=\"47.2441,1552.76 2352.76,1552.76 \"/>\n",
       "<polyline clip-path=\"url(#clip980)\" style=\"stroke:#000000; stroke-linecap:round; stroke-linejoin:round; stroke-width:4; stroke-opacity:1; fill:none\" points=\"47.2441,1552.76 47.2441,47.2441 \"/>\n",
       "<circle clip-path=\"url(#clip982)\" cx=\"112.494\" cy=\"1510.15\" r=\"14.4\" fill=\"#009af9\" fill-rule=\"evenodd\" fill-opacity=\"1\" stroke=\"#000000\" stroke-opacity=\"1\" stroke-width=\"3.2\"/>\n",
       "<circle clip-path=\"url(#clip982)\" cx=\"161.927\" cy=\"1510.15\" r=\"14.4\" fill=\"#009af9\" fill-rule=\"evenodd\" fill-opacity=\"1\" stroke=\"#000000\" stroke-opacity=\"1\" stroke-width=\"3.2\"/>\n",
       "<circle clip-path=\"url(#clip982)\" cx=\"211.359\" cy=\"1510.15\" r=\"14.4\" fill=\"#009af9\" fill-rule=\"evenodd\" fill-opacity=\"1\" stroke=\"#000000\" stroke-opacity=\"1\" stroke-width=\"3.2\"/>\n",
       "<circle clip-path=\"url(#clip982)\" cx=\"260.791\" cy=\"1510.15\" r=\"14.4\" fill=\"#009af9\" fill-rule=\"evenodd\" fill-opacity=\"1\" stroke=\"#000000\" stroke-opacity=\"1\" stroke-width=\"3.2\"/>\n",
       "<circle clip-path=\"url(#clip982)\" cx=\"310.223\" cy=\"1510.15\" r=\"14.4\" fill=\"#009af9\" fill-rule=\"evenodd\" fill-opacity=\"1\" stroke=\"#000000\" stroke-opacity=\"1\" stroke-width=\"3.2\"/>\n",
       "<circle clip-path=\"url(#clip982)\" cx=\"359.655\" cy=\"1510.15\" r=\"14.4\" fill=\"#009af9\" fill-rule=\"evenodd\" fill-opacity=\"1\" stroke=\"#000000\" stroke-opacity=\"1\" stroke-width=\"3.2\"/>\n",
       "<circle clip-path=\"url(#clip982)\" cx=\"409.087\" cy=\"1510.15\" r=\"14.4\" fill=\"#009af9\" fill-rule=\"evenodd\" fill-opacity=\"1\" stroke=\"#000000\" stroke-opacity=\"1\" stroke-width=\"3.2\"/>\n",
       "<circle clip-path=\"url(#clip982)\" cx=\"458.519\" cy=\"1510.15\" r=\"14.4\" fill=\"#009af9\" fill-rule=\"evenodd\" fill-opacity=\"1\" stroke=\"#000000\" stroke-opacity=\"1\" stroke-width=\"3.2\"/>\n",
       "<circle clip-path=\"url(#clip982)\" cx=\"507.951\" cy=\"1510.15\" r=\"14.4\" fill=\"#009af9\" fill-rule=\"evenodd\" fill-opacity=\"1\" stroke=\"#000000\" stroke-opacity=\"1\" stroke-width=\"3.2\"/>\n",
       "<circle clip-path=\"url(#clip982)\" cx=\"557.383\" cy=\"1510.15\" r=\"14.4\" fill=\"#009af9\" fill-rule=\"evenodd\" fill-opacity=\"1\" stroke=\"#000000\" stroke-opacity=\"1\" stroke-width=\"3.2\"/>\n",
       "<circle clip-path=\"url(#clip982)\" cx=\"606.815\" cy=\"800\" r=\"14.4\" fill=\"#009af9\" fill-rule=\"evenodd\" fill-opacity=\"1\" stroke=\"#000000\" stroke-opacity=\"1\" stroke-width=\"3.2\"/>\n",
       "<circle clip-path=\"url(#clip982)\" cx=\"656.247\" cy=\"800\" r=\"14.4\" fill=\"#009af9\" fill-rule=\"evenodd\" fill-opacity=\"1\" stroke=\"#000000\" stroke-opacity=\"1\" stroke-width=\"3.2\"/>\n",
       "<circle clip-path=\"url(#clip982)\" cx=\"705.679\" cy=\"800\" r=\"14.4\" fill=\"#009af9\" fill-rule=\"evenodd\" fill-opacity=\"1\" stroke=\"#000000\" stroke-opacity=\"1\" stroke-width=\"3.2\"/>\n",
       "<circle clip-path=\"url(#clip982)\" cx=\"755.111\" cy=\"800\" r=\"14.4\" fill=\"#009af9\" fill-rule=\"evenodd\" fill-opacity=\"1\" stroke=\"#000000\" stroke-opacity=\"1\" stroke-width=\"3.2\"/>\n",
       "<circle clip-path=\"url(#clip982)\" cx=\"804.543\" cy=\"800\" r=\"14.4\" fill=\"#009af9\" fill-rule=\"evenodd\" fill-opacity=\"1\" stroke=\"#000000\" stroke-opacity=\"1\" stroke-width=\"3.2\"/>\n",
       "<circle clip-path=\"url(#clip982)\" cx=\"853.976\" cy=\"800\" r=\"14.4\" fill=\"#009af9\" fill-rule=\"evenodd\" fill-opacity=\"1\" stroke=\"#000000\" stroke-opacity=\"1\" stroke-width=\"3.2\"/>\n",
       "<circle clip-path=\"url(#clip982)\" cx=\"903.408\" cy=\"800\" r=\"14.4\" fill=\"#009af9\" fill-rule=\"evenodd\" fill-opacity=\"1\" stroke=\"#000000\" stroke-opacity=\"1\" stroke-width=\"3.2\"/>\n",
       "<circle clip-path=\"url(#clip982)\" cx=\"952.84\" cy=\"800\" r=\"14.4\" fill=\"#009af9\" fill-rule=\"evenodd\" fill-opacity=\"1\" stroke=\"#000000\" stroke-opacity=\"1\" stroke-width=\"3.2\"/>\n",
       "<circle clip-path=\"url(#clip982)\" cx=\"1002.27\" cy=\"800\" r=\"14.4\" fill=\"#009af9\" fill-rule=\"evenodd\" fill-opacity=\"1\" stroke=\"#000000\" stroke-opacity=\"1\" stroke-width=\"3.2\"/>\n",
       "<circle clip-path=\"url(#clip982)\" cx=\"1051.7\" cy=\"800\" r=\"14.4\" fill=\"#009af9\" fill-rule=\"evenodd\" fill-opacity=\"1\" stroke=\"#000000\" stroke-opacity=\"1\" stroke-width=\"3.2\"/>\n",
       "<circle clip-path=\"url(#clip982)\" cx=\"1101.14\" cy=\"800\" r=\"14.4\" fill=\"#009af9\" fill-rule=\"evenodd\" fill-opacity=\"1\" stroke=\"#000000\" stroke-opacity=\"1\" stroke-width=\"3.2\"/>\n",
       "<circle clip-path=\"url(#clip982)\" cx=\"1150.57\" cy=\"800\" r=\"14.4\" fill=\"#009af9\" fill-rule=\"evenodd\" fill-opacity=\"1\" stroke=\"#000000\" stroke-opacity=\"1\" stroke-width=\"3.2\"/>\n",
       "<circle clip-path=\"url(#clip982)\" cx=\"1200\" cy=\"800\" r=\"14.4\" fill=\"#009af9\" fill-rule=\"evenodd\" fill-opacity=\"1\" stroke=\"#000000\" stroke-opacity=\"1\" stroke-width=\"3.2\"/>\n",
       "<circle clip-path=\"url(#clip982)\" cx=\"1249.43\" cy=\"800\" r=\"14.4\" fill=\"#009af9\" fill-rule=\"evenodd\" fill-opacity=\"1\" stroke=\"#000000\" stroke-opacity=\"1\" stroke-width=\"3.2\"/>\n",
       "<circle clip-path=\"url(#clip982)\" cx=\"1298.86\" cy=\"800\" r=\"14.4\" fill=\"#009af9\" fill-rule=\"evenodd\" fill-opacity=\"1\" stroke=\"#000000\" stroke-opacity=\"1\" stroke-width=\"3.2\"/>\n",
       "<circle clip-path=\"url(#clip982)\" cx=\"1348.3\" cy=\"800\" r=\"14.4\" fill=\"#009af9\" fill-rule=\"evenodd\" fill-opacity=\"1\" stroke=\"#000000\" stroke-opacity=\"1\" stroke-width=\"3.2\"/>\n",
       "<circle clip-path=\"url(#clip982)\" cx=\"1397.73\" cy=\"800\" r=\"14.4\" fill=\"#009af9\" fill-rule=\"evenodd\" fill-opacity=\"1\" stroke=\"#000000\" stroke-opacity=\"1\" stroke-width=\"3.2\"/>\n",
       "<circle clip-path=\"url(#clip982)\" cx=\"1447.16\" cy=\"800\" r=\"14.4\" fill=\"#009af9\" fill-rule=\"evenodd\" fill-opacity=\"1\" stroke=\"#000000\" stroke-opacity=\"1\" stroke-width=\"3.2\"/>\n",
       "<circle clip-path=\"url(#clip982)\" cx=\"1496.59\" cy=\"800\" r=\"14.4\" fill=\"#009af9\" fill-rule=\"evenodd\" fill-opacity=\"1\" stroke=\"#000000\" stroke-opacity=\"1\" stroke-width=\"3.2\"/>\n",
       "<circle clip-path=\"url(#clip982)\" cx=\"1546.02\" cy=\"800\" r=\"14.4\" fill=\"#009af9\" fill-rule=\"evenodd\" fill-opacity=\"1\" stroke=\"#000000\" stroke-opacity=\"1\" stroke-width=\"3.2\"/>\n",
       "<circle clip-path=\"url(#clip982)\" cx=\"1595.46\" cy=\"89.8529\" r=\"14.4\" fill=\"#009af9\" fill-rule=\"evenodd\" fill-opacity=\"1\" stroke=\"#000000\" stroke-opacity=\"1\" stroke-width=\"3.2\"/>\n",
       "<circle clip-path=\"url(#clip982)\" cx=\"1644.89\" cy=\"89.8529\" r=\"14.4\" fill=\"#009af9\" fill-rule=\"evenodd\" fill-opacity=\"1\" stroke=\"#000000\" stroke-opacity=\"1\" stroke-width=\"3.2\"/>\n",
       "<circle clip-path=\"url(#clip982)\" cx=\"1694.32\" cy=\"89.8529\" r=\"14.4\" fill=\"#009af9\" fill-rule=\"evenodd\" fill-opacity=\"1\" stroke=\"#000000\" stroke-opacity=\"1\" stroke-width=\"3.2\"/>\n",
       "<circle clip-path=\"url(#clip982)\" cx=\"1743.75\" cy=\"89.8529\" r=\"14.4\" fill=\"#009af9\" fill-rule=\"evenodd\" fill-opacity=\"1\" stroke=\"#000000\" stroke-opacity=\"1\" stroke-width=\"3.2\"/>\n",
       "<circle clip-path=\"url(#clip982)\" cx=\"1793.18\" cy=\"89.8529\" r=\"14.4\" fill=\"#009af9\" fill-rule=\"evenodd\" fill-opacity=\"1\" stroke=\"#000000\" stroke-opacity=\"1\" stroke-width=\"3.2\"/>\n",
       "<circle clip-path=\"url(#clip982)\" cx=\"1842.62\" cy=\"89.8529\" r=\"14.4\" fill=\"#009af9\" fill-rule=\"evenodd\" fill-opacity=\"1\" stroke=\"#000000\" stroke-opacity=\"1\" stroke-width=\"3.2\"/>\n",
       "<circle clip-path=\"url(#clip982)\" cx=\"1892.05\" cy=\"89.8529\" r=\"14.4\" fill=\"#009af9\" fill-rule=\"evenodd\" fill-opacity=\"1\" stroke=\"#000000\" stroke-opacity=\"1\" stroke-width=\"3.2\"/>\n",
       "<circle clip-path=\"url(#clip982)\" cx=\"1941.48\" cy=\"89.8529\" r=\"14.4\" fill=\"#009af9\" fill-rule=\"evenodd\" fill-opacity=\"1\" stroke=\"#000000\" stroke-opacity=\"1\" stroke-width=\"3.2\"/>\n",
       "<circle clip-path=\"url(#clip982)\" cx=\"1990.91\" cy=\"89.8529\" r=\"14.4\" fill=\"#009af9\" fill-rule=\"evenodd\" fill-opacity=\"1\" stroke=\"#000000\" stroke-opacity=\"1\" stroke-width=\"3.2\"/>\n",
       "<circle clip-path=\"url(#clip982)\" cx=\"2040.35\" cy=\"89.8529\" r=\"14.4\" fill=\"#009af9\" fill-rule=\"evenodd\" fill-opacity=\"1\" stroke=\"#000000\" stroke-opacity=\"1\" stroke-width=\"3.2\"/>\n",
       "<circle clip-path=\"url(#clip982)\" cx=\"2089.78\" cy=\"89.8529\" r=\"14.4\" fill=\"#009af9\" fill-rule=\"evenodd\" fill-opacity=\"1\" stroke=\"#000000\" stroke-opacity=\"1\" stroke-width=\"3.2\"/>\n",
       "<circle clip-path=\"url(#clip982)\" cx=\"2139.21\" cy=\"89.8529\" r=\"14.4\" fill=\"#009af9\" fill-rule=\"evenodd\" fill-opacity=\"1\" stroke=\"#000000\" stroke-opacity=\"1\" stroke-width=\"3.2\"/>\n",
       "<circle clip-path=\"url(#clip982)\" cx=\"2188.64\" cy=\"89.8529\" r=\"14.4\" fill=\"#009af9\" fill-rule=\"evenodd\" fill-opacity=\"1\" stroke=\"#000000\" stroke-opacity=\"1\" stroke-width=\"3.2\"/>\n",
       "<circle clip-path=\"url(#clip982)\" cx=\"2238.07\" cy=\"89.8529\" r=\"14.4\" fill=\"#009af9\" fill-rule=\"evenodd\" fill-opacity=\"1\" stroke=\"#000000\" stroke-opacity=\"1\" stroke-width=\"3.2\"/>\n",
       "<circle clip-path=\"url(#clip982)\" cx=\"2287.51\" cy=\"89.8529\" r=\"14.4\" fill=\"#009af9\" fill-rule=\"evenodd\" fill-opacity=\"1\" stroke=\"#000000\" stroke-opacity=\"1\" stroke-width=\"3.2\"/>\n",
       "</svg>\n"
      ]
     },
     "execution_count": 21,
     "metadata": {},
     "output_type": "execute_result"
    }
   ],
   "source": [
    "using Plots\n",
    "\n",
    "# Plots Bands\n",
    "scatter(1:length(filtered_energies), filtered_energies, legend=false, axis=nothing)"
   ]
  },
  {
   "cell_type": "code",
   "execution_count": 22,
   "id": "c80baa2a-b113-48ef-9e6c-a3f3f11f8973",
   "metadata": {},
   "outputs": [
    {
     "data": {
      "text/plain": [
       "Filtered_Hubbard_States (generic function with 1 method)"
      ]
     },
     "execution_count": 22,
     "metadata": {},
     "output_type": "execute_result"
    }
   ],
   "source": [
    "# Eigen-States of Filtered Particle Number \n",
    "function Filtered_Hubbard_States(filtered_energies, states)\n",
    "    number_of_states = length(filtered_energies)\n",
    "    return states[:,1:number_of_states]\n",
    "end"
   ]
  },
  {
   "cell_type": "code",
   "execution_count": 23,
   "id": "80e5c07f-0b58-46b5-8e11-8009e58556a4",
   "metadata": {},
   "outputs": [],
   "source": [
    "# # Calculate the Matrix Form to Get Eigenstates as Matrix Form\n",
    "# function get_Matrix_form(basis_cut_mb, H_total)\n",
    "#     # Convert the Hamiltonian from Operator to Matrix Form\n",
    "#     H_Total_Matrix = zeros(Complex{Float64},length(basis_cut_mb),length(basis_cut_mb))\n",
    "#     for i in 1:length(basis_cut_mb)\n",
    "#         for j in 1:length(basis_cut_mb)\n",
    "#             #H_Total_Matrix[i,j] = ((H_total+H_total')/2).data[i,j]\n",
    "#             H_Total_Matrix[i,j] = H_total.data[i,j]\n",
    "#         end\n",
    "#     end\n",
    "    \n",
    "#     return H_Total_Matrix\n",
    "# end"
   ]
  },
  {
   "cell_type": "code",
   "execution_count": 24,
   "id": "b0f73da9-da6a-4023-b507-a5e284d89f83",
   "metadata": {},
   "outputs": [
    {
     "data": {
      "text/plain": [
       "55-element Vector{ComplexF64}:\n",
       "                     0.0 + 0.0im\n",
       "                     0.0 + 0.0im\n",
       "                     0.0 + 0.0im\n",
       "                     0.0 + 0.0im\n",
       "                     0.0 + 0.0im\n",
       "                     0.0 + 0.0im\n",
       "                     0.0 + 0.0im\n",
       "                     0.0 + 0.0im\n",
       "                     0.0 + 0.0im\n",
       "                     0.0 + 0.0im\n",
       "    -0.07763622085007367 - 0.09484923742851532im\n",
       "    0.028299716224000602 + 0.21915182656809762im\n",
       "    -0.16570073055199033 + 0.005722304701702142im\n",
       "                         ⋮\n",
       "  -4.300751835574166e-17 - 1.383638271043382e-19im\n",
       "  2.5063836516421414e-17 - 2.67009012883926e-17im\n",
       "    -3.8638173254246e-17 + 6.979903516797016e-17im\n",
       "   4.398221323683463e-17 + 4.90886276978925e-18im\n",
       " -3.9084909915162326e-18 - 2.5023586802286582e-17im\n",
       "  3.3507570150739413e-17 + 4.2528542183559265e-17im\n",
       "   7.002022144235906e-18 + 3.369380692628559e-18im\n",
       "  1.1209127596769763e-18 - 5.1841626470896804e-18im\n",
       "  -3.670632603160532e-17 - 8.31659235295663e-18im\n",
       "  1.0801446333109882e-17 + 2.873852083964976e-17im\n",
       "  -8.390861875371345e-18 + 6.6354041915292846e-18im\n",
       "                     0.0 + 0.0im"
      ]
     },
     "execution_count": 24,
     "metadata": {},
     "output_type": "execute_result"
    }
   ],
   "source": [
    "function get_eigenstates(basis_cut_mb, H_total, pn)\n",
    "    \n",
    "    # H_total_Matrix = get_Matrix_form(basis_cut_mb, H_total)\n",
    "    # E = eigvals(H_total_Matrix)\n",
    "    # V = eigvecs(H_total_Matrix)\n",
    "    \n",
    "    E, V = eigen(dense((H_total+H_total')/2).data)\n",
    "\n",
    "    # Sorting Again...\n",
    "    V = V[:, sortperm(E)]\n",
    "    \n",
    "    df = get_filtered_energies(pn, basis_cut_mb, H_total)\n",
    "    filtered_energies = Matrix(df)[:,2]\n",
    "    filtered_states = Filtered_Hubbard_States(filtered_energies, V)\n",
    "    \n",
    "    return filtered_energies, filtered_states\n",
    "end\n",
    "\n",
    "# Orthogonality \n",
    "# filtered_energies, filtered_states = get_eigenstates(basis_cut_mb, H_total, pn)\n",
    "# for i in 1:N\n",
    "#     j = 9\n",
    "#     a = filtered_states[:,j]\n",
    "#     b = filtered_states[:,i]\n",
    "#     println(dot(a,b))\n",
    "# end\n",
    "\n",
    "get_eigenstates(basis_cut_mb, H_total, 1)[2][:,9]"
   ]
  },
  {
   "cell_type": "markdown",
   "id": "c856a10f-41b7-4bbe-afed-1aa586ef6051",
   "metadata": {},
   "source": [
    "# CHERN CALCULATION SECTION"
   ]
  },
  {
   "cell_type": "code",
   "execution_count": 25,
   "id": "03abc0ae-4b29-4ba3-8798-985b8077cb20",
   "metadata": {
    "tags": []
   },
   "outputs": [
    {
     "data": {
      "text/plain": [
       "0.0:1.2566370614359172:5.026548245743669"
      ]
     },
     "execution_count": 25,
     "metadata": {},
     "output_type": "execute_result"
    }
   ],
   "source": [
    "# Mesh Grid for Theta Space Parameter\n",
    "dx=2*pi/T_size; dy=dx;\n",
    "Tx=range(start=0, stop=2*pi-dx, step=dx)\n",
    "Ty=range(start=0, stop=2*pi-dy, step=dy)"
   ]
  },
  {
   "cell_type": "code",
   "execution_count": 26,
   "id": "311ed1c5-8f61-4997-a0a8-14008bbc354a",
   "metadata": {
    "tags": []
   },
   "outputs": [
    {
     "data": {
      "text/plain": [
       "Chern_Nums (generic function with 1 method)"
      ]
     },
     "execution_count": 26,
     "metadata": {},
     "output_type": "execute_result"
    }
   ],
   "source": [
    "function Chern_Nums(n1, n2)\n",
    "    \n",
    "    Sum=0\n",
    "    \n",
    "    for tx in range(start=1, stop=length(Tx))\n",
    "        for ty in range(start=1, stop=length(Ty))\n",
    "            \n",
    "            H_Total = get_total_H(Nx, Ny, alpha, sp_basis, Tx[tx], Ty[ty], cut_off, PN, basis_cut_sp, basis_cut_mb)\n",
    "            \n",
    "            w1, v1 = get_eigenstates(basis_cut_mb, H_Total, pn)\n",
    "            \n",
    "            # sorting eigenvalues\n",
    "            i = sortperm(w1, by=real);w1 = w1[i]\n",
    "            # sorting eigenstates\n",
    "            v1 = v1[:,i]\n",
    "            # multiplet eigenstates\n",
    "            v1 = v1[:,n1:n2]\n",
    "            \n",
    "            #------------------------------------\n",
    "            H_Total = get_total_H(Nx, Ny, alpha, sp_basis, Tx[tx]+dx, Ty[ty], cut_off, PN, basis_cut_sp, basis_cut_mb)\n",
    "            \n",
    "            w2, v2 = get_eigenstates(basis_cut_mb, H_Total, pn)\n",
    "            \n",
    "            i = sortperm(w2, by=real);w2 = w2[i]\n",
    "            v2 = v2[:,i]\n",
    "            v2 = v2[:,n1:n2]\n",
    "            \n",
    "            #------------------------------------\n",
    "            H_Total = get_total_H(Nx, Ny, alpha, sp_basis, Tx[tx], Ty[ty]+dy, cut_off, PN, basis_cut_sp, basis_cut_mb)\n",
    "            \n",
    "            w3, v3 = get_eigenstates(basis_cut_mb, H_Total, pn);\n",
    "            \n",
    "            i = sortperm(w3, by=real);w3 = w3[i]\n",
    "            v3 = v3[:,i]\n",
    "            v3 = v3[:,n1:n2]\n",
    "            \n",
    "            #------------------------------------\n",
    "            H_Total = get_total_H(Nx, Ny, alpha, sp_basis, Tx[tx]+dx, Ty[ty]+dy, cut_off, PN, basis_cut_sp, basis_cut_mb)\n",
    "            \n",
    "            w4, v4 = get_eigenstates(basis_cut_mb, H_Total, pn)\n",
    "            \n",
    "            i = sortperm(w4, by=real);w4 = w4[i]\n",
    "            v4 = v4[:,i]\n",
    "            v4 = v4[:,n1:n2]\n",
    "            \n",
    "            #----------LINK VARIABLES------------\n",
    "            U1=det(adjoint(v1)*v2)\n",
    "            U1=U1/abs(U1)\n",
    "            U2=det(adjoint(v2)*v4)\n",
    "            U2=U2/abs(U2)\n",
    "            U3=det(adjoint(v3)*v4)\n",
    "            U3=U3/abs(U3)\n",
    "            U4=det(adjoint(v1)*v3)\n",
    "            U4=U4/abs(U4)\n",
    "            \n",
    "            #----------BERRY CURVATURE-----------\n",
    "            F=log(U1*U2*1/U3*1/U4)\n",
    "            Sum=Sum+F\n",
    "            \n",
    "        end\n",
    "    end\n",
    "    \n",
    "    return 1/(2*pi*1im)*Sum\n",
    "end"
   ]
  },
  {
   "cell_type": "code",
   "execution_count": 27,
   "id": "d1d0f59a-5568-4d40-bc25-a9f9e9026586",
   "metadata": {
    "tags": []
   },
   "outputs": [
    {
     "data": {
      "text/plain": [
       "-1.193240367572302e-16 - 1.0601848938211742e-16im"
      ]
     },
     "execution_count": 27,
     "metadata": {},
     "output_type": "execute_result"
    }
   ],
   "source": [
    "Chern_Nums(1, 10)"
   ]
  },
  {
   "cell_type": "markdown",
   "id": "157a9d66-8c66-43d0-a2a5-82205db2edc1",
   "metadata": {},
   "source": [
    "# Check with \"Hofstadter MB Chern\" file"
   ]
  },
  {
   "cell_type": "code",
   "execution_count": 19,
   "id": "b920f040-f4d8-41ed-8d34-d6e8d2958c4a",
   "metadata": {},
   "outputs": [
    {
     "name": "stdout",
     "output_type": "stream",
     "text": [
      "0.23985799354057316 - 0.9708079845853609im\n",
      "-0.6493016260398968 - 0.7605309976733006im\n",
      "-0.8008481739335876 - 0.5988674329993559im\n",
      "0.4477647767915 - 0.8941513880014156im\n"
     ]
    }
   ],
   "source": [
    "pn = 1\n",
    "tx = 1\n",
    "ty = 1\n",
    "#---\n",
    "H_Total = get_total_H(Nx, Ny, alpha, sp_basis, Tx[tx], Ty[ty], cut_off, PN, basis_cut_sp, basis_cut_mb)\n",
    "w1, v1 = get_eigenstates(basis_cut_mb, H_Total, pn)\n",
    "i = sortperm(w1, by=real);w1 = w1[i]\n",
    "v1 = v1[:,i] \n",
    "#---\n",
    "H_Total = get_total_H(Nx, Ny, alpha, sp_basis, Tx[tx]+dx, Ty[ty], cut_off, PN, basis_cut_sp, basis_cut_mb)\n",
    "w2, v2 = get_eigenstates(basis_cut_mb, H_Total, pn)\n",
    "i = sortperm(w2, by=real);w2 = w2[i]\n",
    "v2 = v2[:,i]\n",
    "#---\n",
    "H_Total = get_total_H(Nx, Ny, alpha, sp_basis, Tx[tx], Ty[ty]+dy, cut_off, PN, basis_cut_sp, basis_cut_mb)       \n",
    "w3, v3 = get_eigenstates(basis_cut_mb, H_Total, pn)\n",
    "i = sortperm(w3, by=real);w3 = w3[i]\n",
    "v3 = v3[:,i]\n",
    "#---\n",
    "H_Total = get_total_H(Nx, Ny, alpha, sp_basis, Tx[tx]+dx, Ty[ty]+dy, cut_off, PN, basis_cut_sp, basis_cut_mb)\n",
    "w4, v4 = get_eigenstates(basis_cut_mb, H_Total, pn)\n",
    "i = sortperm(w4, by=real);w4 = w4[i]\n",
    "v4 = v4[:,i]\n",
    "#---\n",
    "U1=det(adjoint(v1)*v2)\n",
    "U1=U1/abs(U1)\n",
    "println(U1)\n",
    "U2=det(adjoint(v2)*v4)\n",
    "U2=U2/abs(U2)\n",
    "println(U2)\n",
    "U3=det(adjoint(v3)*v4)\n",
    "U3=U3/abs(U3)\n",
    "println(U3)\n",
    "U4=det(adjoint(v1)*v3)\n",
    "U4=U4/abs(U4)\n",
    "println(U4)"
   ]
  },
  {
   "cell_type": "code",
   "execution_count": 31,
   "id": "cfd83468-c4ad-49ef-b0d3-b478b756ebf9",
   "metadata": {},
   "outputs": [
    {
     "data": {
      "text/plain": [
       "9-element Vector{Float64}:\n",
       " -2.7320508075688714\n",
       " -2.7320508075688683\n",
       " -2.732050807568867\n",
       "  0.7320508075688777\n",
       "  0.7320508075688784\n",
       "  0.7320508075688797\n",
       "  1.999999999999999\n",
       "  1.9999999999999998\n",
       "  2.000000000000001"
      ]
     },
     "execution_count": 31,
     "metadata": {},
     "output_type": "execute_result"
    }
   ],
   "source": [
    "w1"
   ]
  },
  {
   "cell_type": "code",
   "execution_count": 32,
   "id": "3ef42f48-3e6a-4ca4-b55a-ca4b3e456fbb",
   "metadata": {},
   "outputs": [
    {
     "data": {
      "text/plain": [
       "10×9 Matrix{ComplexF64}:\n",
       "          0.0+0.0im          …           0.0+0.0im\n",
       "     -0.26521+0.0549738im       -3.33067e-16-8.32667e-17im\n",
       "    -0.764247+0.558816im         2.72352e-16-5.81132e-17im\n",
       "     -0.16735+0.0478198im       -3.33067e-16-8.32667e-17im\n",
       "  2.12937e-16-8.9013e-17im       1.59595e-16+1.59595e-16im\n",
       " -2.48282e-17-1.84043e-16im  …   1.38778e-17-1.26635e-16im\n",
       "   -4.423e-16+2.74764e-16im     -8.67362e-17+2.08167e-17im\n",
       " -2.97546e-16+1.72713e-16im        -0.463783+0.0700603im\n",
       "  1.64799e-16-2.10335e-17im        -0.457354-0.15775im\n",
       "  5.77483e-18-0.0im                 0.738876+0.0im"
      ]
     },
     "execution_count": 32,
     "metadata": {},
     "output_type": "execute_result"
    }
   ],
   "source": [
    "v1"
   ]
  },
  {
   "cell_type": "code",
   "execution_count": 116,
   "id": "b6abe494-4292-4ca6-b28f-b47f5cf6d8f0",
   "metadata": {},
   "outputs": [
    {
     "data": {
      "text/plain": [
       "9×9 Matrix{Float64}:\n",
       " 0.437477  0.285883  0.258005  0.0667306  …  0.036542   0.025428   0.0581614\n",
       " 0.251318  0.182989  0.405356  0.601795      0.0112634  0.098854   0.0514668\n",
       " 0.129296  0.17343   0.788472  0.22678       0.0351068  0.0316351  0.043658\n",
       " 0.321173  0.503505  0.221088  0.205927      0.0491771  0.0531957  0.0787021\n",
       " 0.338882  0.649173  0.192941  0.536323      0.0496556  0.0499503  0.0152605\n",
       " 0.687187  0.371908  0.190082  0.460822   …  0.0342674  0.0374584  0.0454747\n",
       " 0.0       0.0       0.0       0.0           0.0        0.0        0.0\n",
       " 0.0       0.0       0.0       0.0           0.0        0.0        0.0\n",
       " 0.0       0.0       0.0       0.0           0.0        0.0        0.0"
      ]
     },
     "execution_count": 116,
     "metadata": {},
     "output_type": "execute_result"
    }
   ],
   "source": [
    "abs.(v2'*v4)"
   ]
  },
  {
   "cell_type": "code",
   "execution_count": 66,
   "id": "d334dbf3-9ed4-443f-81c1-f47e16ddefc8",
   "metadata": {
    "tags": []
   },
   "outputs": [
    {
     "data": {
      "text/plain": [
       "0.0"
      ]
     },
     "execution_count": 66,
     "metadata": {},
     "output_type": "execute_result"
    }
   ],
   "source": [
    "Tx[1]"
   ]
  },
  {
   "cell_type": "code",
   "execution_count": 67,
   "id": "59b27eed-97b9-46be-a55e-758f96bff208",
   "metadata": {
    "tags": []
   },
   "outputs": [
    {
     "data": {
      "text/plain": [
       "9-element Vector{Float64}:\n",
       " -2.5466393943271597\n",
       " -2.546639394327157\n",
       " -2.5466393943271535\n",
       "  0.20750036611082506\n",
       "  0.20750036611082523\n",
       "  0.20750036611082567\n",
       "  2.3391390282163353\n",
       "  2.3391390282163353\n",
       "  2.3391390282163362"
      ]
     },
     "execution_count": 67,
     "metadata": {},
     "output_type": "execute_result"
    }
   ],
   "source": [
    "w1"
   ]
  },
  {
   "cell_type": "code",
   "execution_count": 68,
   "id": "6e85a6ef-6556-4ddf-8dcf-5d3144f07582",
   "metadata": {
    "tags": []
   },
   "outputs": [
    {
     "data": {
      "text/plain": [
       "9-element Vector{Float64}:\n",
       " -2.361468766185828\n",
       " -2.361468766185824\n",
       " -2.361468766185822\n",
       " -0.1674491911085357\n",
       " -0.1674491911085325\n",
       " -0.16744919110852985\n",
       "  2.528917957294362\n",
       "  2.5289179572943623\n",
       "  2.5289179572943628"
      ]
     },
     "execution_count": 68,
     "metadata": {},
     "output_type": "execute_result"
    }
   ],
   "source": [
    "w2"
   ]
  },
  {
   "cell_type": "code",
   "execution_count": 69,
   "id": "7b340b16-afd0-4a34-ad4e-a5a52bdeba3d",
   "metadata": {},
   "outputs": [
    {
     "data": {
      "text/plain": [
       "9-element Vector{Float64}:\n",
       " -2.3614687661858276\n",
       " -2.3614687661858267\n",
       " -2.3614687661858254\n",
       " -0.1674491911085362\n",
       " -0.16744919110853518\n",
       " -0.16744919110853407\n",
       "  2.5289179572943565\n",
       "  2.5289179572943614\n",
       "  2.528917957294362"
      ]
     },
     "execution_count": 69,
     "metadata": {},
     "output_type": "execute_result"
    }
   ],
   "source": [
    "w3"
   ]
  },
  {
   "cell_type": "code",
   "execution_count": 70,
   "id": "5c6f072a-36d6-4500-b7dc-804fd9eaf054",
   "metadata": {},
   "outputs": [
    {
     "data": {
      "text/plain": [
       "9-element Vector{Float64}:\n",
       " -2.114064054711409\n",
       " -2.114064054711399\n",
       " -2.114064054711384\n",
       " -0.5702509472473359\n",
       " -0.5702509472473325\n",
       " -0.5702509472473313\n",
       "  2.6843150019587316\n",
       "  2.6843150019587343\n",
       "  2.684315001958736"
      ]
     },
     "execution_count": 70,
     "metadata": {},
     "output_type": "execute_result"
    }
   ],
   "source": [
    "w4"
   ]
  },
  {
   "cell_type": "code",
   "execution_count": 22,
   "id": "8701b2f6-38e8-45c9-a012-25bd2f36f639",
   "metadata": {
    "tags": []
   },
   "outputs": [
    {
     "data": {
      "text/plain": [
       "0.1471395448862547 - 0.595536729526045im"
      ]
     },
     "execution_count": 22,
     "metadata": {},
     "output_type": "execute_result"
    }
   ],
   "source": [
    "det(v1'*v2)"
   ]
  },
  {
   "cell_type": "code",
   "execution_count": 85,
   "id": "6087a1e8-4e86-4684-81f3-770ab7320a99",
   "metadata": {},
   "outputs": [
    {
     "data": {
      "text/plain": [
       "NaN + NaN*im"
      ]
     },
     "execution_count": 85,
     "metadata": {},
     "output_type": "execute_result"
    }
   ],
   "source": [
    "U1"
   ]
  },
  {
   "cell_type": "code",
   "execution_count": 84,
   "id": "23fbb9ce-d79a-4bac-a108-873317da7ef1",
   "metadata": {},
   "outputs": [
    {
     "data": {
      "text/plain": [
       "55×9 Matrix{ComplexF64}:\n",
       "          0.0+0.0im          …           0.0+0.0im\n",
       "          0.0+0.0im                      0.0+0.0im\n",
       "          0.0+0.0im                      0.0+0.0im\n",
       "          0.0+0.0im                      0.0+0.0im\n",
       "          0.0+0.0im                      0.0+0.0im\n",
       "          0.0+0.0im          …           0.0+0.0im\n",
       "          0.0+0.0im                      0.0+0.0im\n",
       "          0.0+0.0im                      0.0+0.0im\n",
       "          0.0+0.0im                      0.0+0.0im\n",
       "          0.0+0.0im                      0.0+0.0im\n",
       "    0.0670832+0.354737im     …   2.35024e-17+1.30042e-16im\n",
       "     0.277783-0.0922628im       -1.89151e-16+2.749e-16im\n",
       "   -0.0744106+0.781685im         1.86595e-16-6.42858e-16im\n",
       "             ⋮               ⋱  \n",
       "   0.00147848-0.00244517im       1.29764e-16+1.96293e-16im\n",
       " -0.000235455-0.000992532im     -2.04152e-16-1.39365e-16im\n",
       "  -0.00312523-0.0166034im    …   1.15219e-16-1.69812e-17im\n",
       "  -0.00101419+0.000705102im      8.63899e-16+3.4278e-16im\n",
       "    8.4419e-5+0.00136783im       2.85329e-17+2.38904e-16im\n",
       "   0.00226167-0.00462336im       2.06194e-17-1.7442e-16im\n",
       "   -0.0078578+0.00152324im        7.9148e-17+6.6014e-17im\n",
       "   0.00402808-0.00263525im   …   3.49163e-17-4.49269e-18im\n",
       "   0.00332715+0.00228704im      -3.64249e-17+2.12478e-17im\n",
       "  -0.00198966-0.00958488im       9.06866e-17+4.33198e-17im\n",
       " -0.000434685+0.00110369im      -5.86041e-17-3.60226e-17im\n",
       "   9.37606e-5-0.0im             -1.93197e-18-0.0im"
      ]
     },
     "execution_count": 84,
     "metadata": {},
     "output_type": "execute_result"
    }
   ],
   "source": [
    "v2"
   ]
  },
  {
   "cell_type": "code",
   "execution_count": 27,
   "id": "cde42a07-3329-438e-9ee4-df3dc3109c24",
   "metadata": {},
   "outputs": [
    {
     "data": {
      "text/plain": [
       "55×9 Matrix{ComplexF64}:\n",
       "          0.0+0.0im          …           0.0+0.0im\n",
       "          0.0+0.0im                      0.0+0.0im\n",
       "          0.0+0.0im                      0.0+0.0im\n",
       "          0.0+0.0im                      0.0+0.0im\n",
       "          0.0+0.0im                      0.0+0.0im\n",
       "          0.0+0.0im          …           0.0+0.0im\n",
       "          0.0+0.0im                      0.0+0.0im\n",
       "          0.0+0.0im                      0.0+0.0im\n",
       "          0.0+0.0im                      0.0+0.0im\n",
       "          0.0+0.0im                      0.0+0.0im\n",
       "    -0.983447-5.10323e-18im  …    -0.0140821+3.7997e-17im\n",
       " -1.48023e-14+5.60472e-16im     -1.52659e-15-2.20146e-17im\n",
       "  1.27999e-14+2.35198e-16im     -2.87481e-16+5.18328e-17im\n",
       "             ⋮               ⋱  \n",
       "  1.88908e-16+1.13064e-17im     -9.57624e-16-2.37539e-17im\n",
       "   -0.0323342+5.47203e-17im       -0.0134113+3.76829e-17im\n",
       "  1.28994e-16+1.08775e-18im  …   1.74001e-16-1.14905e-17im\n",
       "  2.92751e-16-1.42657e-17im       1.1332e-15+2.60483e-17im\n",
       "   -0.0120202+1.35565e-17im        0.0510909-7.45883e-17im\n",
       "  1.66886e-17-1.15838e-17im      -7.5223e-17-1.20909e-17im\n",
       "  -0.00736679+5.45693e-18im        0.0295862-2.12677e-17im\n",
       "  4.63009e-17-3.47486e-18im  …   2.21986e-16+2.5646e-17im\n",
       "  1.75155e-16+1.41634e-17im     -6.07113e-17+1.92803e-17im\n",
       " -2.01324e-16+1.26879e-18im      6.93154e-17-8.30107e-18im\n",
       "  3.33067e-16-2.15499e-17im      2.35922e-16-6.78648e-18im\n",
       "    0.0369023+0.0im               0.00496636+0.0im"
      ]
     },
     "execution_count": 27,
     "metadata": {},
     "output_type": "execute_result"
    }
   ],
   "source": [
    "v2"
   ]
  },
  {
   "cell_type": "code",
   "execution_count": 28,
   "id": "a2ef36df-556d-497c-a3cb-0531c7e1a8be",
   "metadata": {},
   "outputs": [
    {
     "data": {
      "text/plain": [
       "9×9 Matrix{ComplexF64}:\n",
       "          1.0-1.25938e-33im  …  -2.84746e-17+6.93335e-32im\n",
       "  4.37308e-18+1.93893e-19im     -3.01393e-19-6.07499e-20im\n",
       "   -6.355e-19+3.286e-21im        3.99366e-20+1.46665e-20im\n",
       "  6.54241e-18+3.66807e-19im     -5.11888e-18+5.24039e-19im\n",
       " -1.74373e-18-6.25124e-21im     -6.37714e-20-9.28722e-21im\n",
       "  5.82008e-17-2.04019e-32im  …   3.11347e-17+2.46519e-31im\n",
       " -1.89753e-18+1.79296e-19im     -4.27887e-18+1.02508e-19im\n",
       "          0.0+0.0im                      0.0+0.0im\n",
       " -2.84746e-17-6.93335e-32im              1.0+0.0im"
      ]
     },
     "execution_count": 28,
     "metadata": {},
     "output_type": "execute_result"
    }
   ],
   "source": [
    "v1'*v2"
   ]
  },
  {
   "cell_type": "code",
   "execution_count": 29,
   "id": "a479759f-b866-4533-8aa1-c787f5e79734",
   "metadata": {},
   "outputs": [
    {
     "ename": "LoadError",
     "evalue": "syntax: extra token \")\" after end of expression",
     "output_type": "error",
     "traceback": [
      "syntax: extra token \")\" after end of expression",
      "",
      "Stacktrace:",
      " [1] top-level scope",
      "   @ In[29]:5"
     ]
    }
   ],
   "source": [
    "# Another type of sorting method\n",
    "\n",
    "v1 = v1[:, sortperm(w1)]\n",
    "v2 = v2[:, sortperm(w2)]\n",
    "det(v1'*v2))"
   ]
  },
  {
   "cell_type": "code",
   "execution_count": null,
   "id": "b8e8c8c1-f611-4ffd-8069-c0b24c82e21e",
   "metadata": {},
   "outputs": [],
   "source": []
  }
 ],
 "metadata": {
  "kernelspec": {
   "display_name": "Julia 1.8.1",
   "language": "julia",
   "name": "julia-1.8"
  },
  "language_info": {
   "file_extension": ".jl",
   "mimetype": "application/julia",
   "name": "julia",
   "version": "1.8.1"
  }
 },
 "nbformat": 4,
 "nbformat_minor": 5
}
