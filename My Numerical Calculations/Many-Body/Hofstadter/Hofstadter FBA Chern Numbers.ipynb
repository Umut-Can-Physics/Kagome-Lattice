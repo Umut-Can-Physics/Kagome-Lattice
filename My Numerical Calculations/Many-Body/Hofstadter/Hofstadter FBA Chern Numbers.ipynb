{
 "cells": [
  {
   "cell_type": "markdown",
   "id": "0704ee9d-3546-4a43-9353-c294bcee6522",
   "metadata": {},
   "source": [
    "# Including 'Hofstadter SP with Theta Phases' and 'First Band Approximation' Functions"
   ]
  },
  {
   "cell_type": "code",
   "execution_count": 1,
   "id": "a756046f-6d3d-4c95-be1e-b0b4b07afff2",
   "metadata": {
    "tags": []
   },
   "outputs": [],
   "source": [
    "using NBInclude\n",
    "@nbinclude(\"Hofstadter Single Particle in Theta Space.ipynb\")\n",
    "@nbinclude(joinpath(\"..\",\"First Band Approximation Functions.ipynb\"));"
   ]
  },
  {
   "cell_type": "markdown",
   "id": "14007332-aaa4-4626-9e41-73b1c8385497",
   "metadata": {},
   "source": [
    "# Initial Parameters"
   ]
  },
  {
   "cell_type": "code",
   "execution_count": 2,
   "id": "1d4c8deb-a2ca-456b-9a4e-71bcf2ecb21a",
   "metadata": {
    "tags": []
   },
   "outputs": [],
   "source": [
    "Nx=4;Ny=4;N=Nx*Ny\n",
    "p=1;q=Ny;alpha=p/q\n",
    "PN=[0,1,2]\n",
    "cut_off=4\n",
    "U = 2\n",
    "T_size=10;"
   ]
  },
  {
   "cell_type": "markdown",
   "id": "e56b21ac-e908-455e-a2cc-da8552fc2e07",
   "metadata": {},
   "source": [
    "# Single Particle"
   ]
  },
  {
   "cell_type": "code",
   "execution_count": 3,
   "id": "846e576d-5158-4c1b-9cb9-47dc8e21d598",
   "metadata": {
    "tags": []
   },
   "outputs": [
    {
     "data": {
      "text/plain": [
       "Sp_Theta_Op (generic function with 1 method)"
      ]
     },
     "execution_count": 3,
     "metadata": {},
     "output_type": "execute_result"
    }
   ],
   "source": [
    "function Sp_Theta_Op(Nx, Ny, alpha, sp_basis, Tx, Ty)\n",
    "    \n",
    "    N = Nx*Ny\n",
    "    \n",
    "    H_T = HSP_T(Nx, Ny, alpha, Tx, Ty, 0)\n",
    "    \n",
    "    H = SparseOperator(sp_basis)\n",
    "    \n",
    "    for m in 1:N\n",
    "        for n in 1:N\n",
    "            H = H + H_T[m,n] * transition(sp_basis, m, n)\n",
    "        end\n",
    "    end\n",
    "    \n",
    "    return H\n",
    "end"
   ]
  },
  {
   "cell_type": "code",
   "execution_count": 4,
   "id": "5a7b7ed6-5618-4ef2-b718-8b5ccd3f8f5e",
   "metadata": {
    "tags": []
   },
   "outputs": [
    {
     "data": {
      "text/plain": [
       "16-element Vector{Float64}:\n",
       " -2.6995245464107374\n",
       " -2.6995245464107374\n",
       " -2.699524546410737\n",
       " -2.699524546410736\n",
       " -0.8441369695291789\n",
       " -0.8441369695291787\n",
       " -0.8441369695291778\n",
       " -0.8441369695291774\n",
       "  0.8441369695291773\n",
       "  0.8441369695291778\n",
       "  0.8441369695291785\n",
       "  0.8441369695291789\n",
       "  2.699524546410736\n",
       "  2.699524546410736\n",
       "  2.6995245464107382\n",
       "  2.69952454641074"
      ]
     },
     "execution_count": 4,
     "metadata": {},
     "output_type": "execute_result"
    }
   ],
   "source": [
    "using LinearAlgebra\n",
    "eigvals(HSP_T(Nx, Ny, p/q, 21, 121, 0))\n",
    "# Dejenerelik Tx ve Ty değerine bağlı değil, yani cut-off değerinden bağımsızdır."
   ]
  },
  {
   "cell_type": "markdown",
   "id": "df006870-dd95-4c4a-8daa-350e876beb1a",
   "metadata": {},
   "source": [
    "# MB"
   ]
  },
  {
   "cell_type": "code",
   "execution_count": 5,
   "id": "9c29d80c-5eea-434d-b1e0-0a1e953c8f44",
   "metadata": {
    "tags": []
   },
   "outputs": [],
   "source": [
    "@nbinclude(\"Hofstadter MB in Julia.ipynb\"; regex=r\"#.*executeme\");"
   ]
  },
  {
   "cell_type": "code",
   "execution_count": 6,
   "id": "b60c65b7-d7ba-4de3-9dc6-331e228961a7",
   "metadata": {
    "tags": []
   },
   "outputs": [],
   "source": [
    "basis_cut_mb, basis_cut_sp = get_Bosonic_MB_Basis(cut_off,PN);"
   ]
  },
  {
   "cell_type": "markdown",
   "id": "40c90d3e-3770-4156-88e5-896d8e7e92a7",
   "metadata": {},
   "source": [
    "# Total Hamiltonian"
   ]
  },
  {
   "cell_type": "code",
   "execution_count": 7,
   "id": "204c4b33-6509-4677-9755-923fb8d50c1c",
   "metadata": {
    "tags": []
   },
   "outputs": [
    {
     "data": {
      "text/plain": [
       "get_total_H (generic function with 1 method)"
      ]
     },
     "execution_count": 7,
     "metadata": {},
     "output_type": "execute_result"
    }
   ],
   "source": [
    "sp_basis = NLevelBasis(N)\n",
    "function get_total_H(Nx, Ny, alpha, sp_basis, Tx, Ty, cut_off, PN, basis_cut_sp, basis_cut_mb)\n",
    "    H1 = Sp_Theta_Op(Nx, Ny, alpha, sp_basis, Tx, Ty)\n",
    "    sub_states = get_sub_states(H1, cut_off)\n",
    "    basis_sub, P, Pt = get_projector_op(sub_states, sp_basis)\n",
    "    H1_sub = get_subspace_op(H1, P, Pt)\n",
    "    states_mb = bosonstates(basis_sub, PN)     \n",
    "    basis_mb = ManyBodyBasis(basis_sub, states_mb)\n",
    "    H1_MB = get_mb_op(basis_mb, basis_sub, H1_sub)\n",
    "    H1cut = SparseOperator(basis_cut_mb)\n",
    "    H1cut.data = H1_MB.data\n",
    "    H_Int = Hubbard_Interaction(basis_cut_sp, basis_cut_mb, P, Pt, cut_off)\n",
    "    return H1cut + H_Int\n",
    "end"
   ]
  },
  {
   "cell_type": "markdown",
   "id": "c856a10f-41b7-4bbe-afed-1aa586ef6051",
   "metadata": {},
   "source": [
    "# CHERN CALCULATION SECTION"
   ]
  },
  {
   "cell_type": "code",
   "execution_count": 8,
   "id": "03abc0ae-4b29-4ba3-8798-985b8077cb20",
   "metadata": {
    "tags": []
   },
   "outputs": [],
   "source": [
    "dx=2*pi/T_size\n",
    "dy=dx\n",
    "Tx=collect(range(start=0, stop=2*pi-dx, step=dx))\n",
    "Ty=collect(range(start=0, stop=2*pi-dy, step=dy));"
   ]
  },
  {
   "cell_type": "code",
   "execution_count": 9,
   "id": "89a6616b-a107-4845-90c1-7a912b968236",
   "metadata": {
    "tags": []
   },
   "outputs": [],
   "source": [
    "H_Total = get_total_H(Nx, Ny, alpha, sp_basis, 1, 1, cut_off, PN, basis_cut_sp, basis_cut_mb);"
   ]
  },
  {
   "cell_type": "code",
   "execution_count": 12,
   "id": "62b29dc4-e328-4468-970e-d664428d01ea",
   "metadata": {
    "tags": []
   },
   "outputs": [
    {
     "data": {
      "text/plain": [
       "get_Matrix_form (generic function with 1 method)"
      ]
     },
     "execution_count": 12,
     "metadata": {},
     "output_type": "execute_result"
    }
   ],
   "source": [
    "function get_Matrix_form(basis_cut_mb, H_total)\n",
    "    HH_total_Matrix = zeros(Complex{Float64},length(basis_cut_mb),length(basis_cut_mb));\n",
    "    for i in 1:length(basis_cut_mb)\n",
    "        for j in 1:length(basis_cut_mb)\n",
    "            HH_total_Matrix[i,j] = ((H_total+dagger(H_total))/2).data[i,j]\n",
    "        end\n",
    "    end\n",
    "    return HH_total_Matrix\n",
    "end"
   ]
  },
  {
   "cell_type": "code",
   "execution_count": 13,
   "id": "6e8086b1-ed6b-491b-aa17-1903a7ee0963",
   "metadata": {
    "tags": []
   },
   "outputs": [],
   "source": [
    "H_total_Matrix = get_Matrix_form(basis_cut_mb, H_Total)\n",
    "E = eigvals(H_total_Matrix)\n",
    "# Matrix form of eigen-states\n",
    "UU = eigvecs(H_total_Matrix);"
   ]
  },
  {
   "cell_type": "code",
   "execution_count": 14,
   "id": "affc009b-2148-4aa1-adf2-5c5671cac7ea",
   "metadata": {
    "tags": []
   },
   "outputs": [
    {
     "data": {
      "text/plain": [
       "3-element Vector{Int64}:\n",
       " 0\n",
       " 1\n",
       " 2"
      ]
     },
     "execution_count": 14,
     "metadata": {},
     "output_type": "execute_result"
    }
   ],
   "source": [
    "PN"
   ]
  },
  {
   "cell_type": "code",
   "execution_count": 15,
   "id": "8d205f27-1883-47b2-a09d-4984c812db5d",
   "metadata": {
    "tags": []
   },
   "outputs": [
    {
     "data": {
      "text/plain": [
       "get_filtered_energies (generic function with 1 method)"
      ]
     },
     "execution_count": 15,
     "metadata": {},
     "output_type": "execute_result"
    }
   ],
   "source": [
    "using DataFrames\n",
    "\n",
    "function get_filtered_energies(pn, basis, H_total)\n",
    "    # Operator form of eigenstates:\n",
    "    E, UUU = eigenstates(dense(dense((H_total+dagger(H_total))/2)))\n",
    "    PN_Energies = Array{Float64}(undef, length(E), 2)\n",
    "    for i in 1:length(E)\n",
    "        PN_Energies[i] = round(expect(number(basis), UUU[i]))\n",
    "        PN_Energies[i,2] = E[i]\n",
    "    end\n",
    "    \n",
    "    # filter\n",
    "    df = DataFrame(PN_Energies, :auto)\n",
    "    df = filter(row -> (row.x1 == pn),  df)\n",
    "    \n",
    "    return df\n",
    "end"
   ]
  },
  {
   "cell_type": "code",
   "execution_count": 16,
   "id": "c75308ba-bf78-4252-a76e-783f81ae57dd",
   "metadata": {
    "tags": []
   },
   "outputs": [
    {
     "data": {
      "text/plain": [
       "10-element Vector{Float64}:\n",
       " -5.563960315357841\n",
       " -5.56396031535784\n",
       " -5.431250873308429\n",
       " -5.431250873308426\n",
       " -5.322481750448847\n",
       " -5.322481750448845\n",
       " -5.322481750448845\n",
       " -5.322481750448843\n",
       " -5.222234062680269\n",
       " -5.222234062680267"
      ]
     },
     "execution_count": 16,
     "metadata": {},
     "output_type": "execute_result"
    }
   ],
   "source": [
    "pn = 2.0\n",
    "df = get_filtered_energies(pn, basis_cut_mb, H_Total)\n",
    "filtered_energies = Matrix(df)[:,2]"
   ]
  },
  {
   "cell_type": "code",
   "execution_count": 17,
   "id": "2febad1b-daf5-4796-bd5f-26132f8eaec3",
   "metadata": {
    "tags": []
   },
   "outputs": [
    {
     "data": {
      "image/svg+xml": [
       "<?xml version=\"1.0\" encoding=\"utf-8\"?>\n",
       "<svg xmlns=\"http://www.w3.org/2000/svg\" xmlns:xlink=\"http://www.w3.org/1999/xlink\" width=\"600\" height=\"400\" viewBox=\"0 0 2400 1600\">\n",
       "<defs>\n",
       "  <clipPath id=\"clip610\">\n",
       "    <rect x=\"0\" y=\"0\" width=\"2400\" height=\"1600\"/>\n",
       "  </clipPath>\n",
       "</defs>\n",
       "<path clip-path=\"url(#clip610)\" d=\"M0 1600 L2400 1600 L2400 0 L0 0  Z\" fill=\"#ffffff\" fill-rule=\"evenodd\" fill-opacity=\"1\"/>\n",
       "<defs>\n",
       "  <clipPath id=\"clip611\">\n",
       "    <rect x=\"480\" y=\"0\" width=\"1681\" height=\"1600\"/>\n",
       "  </clipPath>\n",
       "</defs>\n",
       "<path clip-path=\"url(#clip610)\" d=\"M224.098 1486.45 L2352.76 1486.45 L2352.76 47.2441 L224.098 47.2441  Z\" fill=\"#ffffff\" fill-rule=\"evenodd\" fill-opacity=\"1\"/>\n",
       "<defs>\n",
       "  <clipPath id=\"clip612\">\n",
       "    <rect x=\"224\" y=\"47\" width=\"2130\" height=\"1440\"/>\n",
       "  </clipPath>\n",
       "</defs>\n",
       "<polyline clip-path=\"url(#clip612)\" style=\"stroke:#000000; stroke-linecap:round; stroke-linejoin:round; stroke-width:2; stroke-opacity:0.1; fill:none\" points=\"507.473,1486.45 507.473,47.2441 \"/>\n",
       "<polyline clip-path=\"url(#clip612)\" style=\"stroke:#000000; stroke-linecap:round; stroke-linejoin:round; stroke-width:2; stroke-opacity:0.1; fill:none\" points=\"953.732,1486.45 953.732,47.2441 \"/>\n",
       "<polyline clip-path=\"url(#clip612)\" style=\"stroke:#000000; stroke-linecap:round; stroke-linejoin:round; stroke-width:2; stroke-opacity:0.1; fill:none\" points=\"1399.99,1486.45 1399.99,47.2441 \"/>\n",
       "<polyline clip-path=\"url(#clip612)\" style=\"stroke:#000000; stroke-linecap:round; stroke-linejoin:round; stroke-width:2; stroke-opacity:0.1; fill:none\" points=\"1846.25,1486.45 1846.25,47.2441 \"/>\n",
       "<polyline clip-path=\"url(#clip612)\" style=\"stroke:#000000; stroke-linecap:round; stroke-linejoin:round; stroke-width:2; stroke-opacity:0.1; fill:none\" points=\"2292.51,1486.45 2292.51,47.2441 \"/>\n",
       "<polyline clip-path=\"url(#clip610)\" style=\"stroke:#000000; stroke-linecap:round; stroke-linejoin:round; stroke-width:4; stroke-opacity:1; fill:none\" points=\"224.098,1486.45 2352.76,1486.45 \"/>\n",
       "<polyline clip-path=\"url(#clip610)\" style=\"stroke:#000000; stroke-linecap:round; stroke-linejoin:round; stroke-width:4; stroke-opacity:1; fill:none\" points=\"507.473,1486.45 507.473,1467.55 \"/>\n",
       "<polyline clip-path=\"url(#clip610)\" style=\"stroke:#000000; stroke-linecap:round; stroke-linejoin:round; stroke-width:4; stroke-opacity:1; fill:none\" points=\"953.732,1486.45 953.732,1467.55 \"/>\n",
       "<polyline clip-path=\"url(#clip610)\" style=\"stroke:#000000; stroke-linecap:round; stroke-linejoin:round; stroke-width:4; stroke-opacity:1; fill:none\" points=\"1399.99,1486.45 1399.99,1467.55 \"/>\n",
       "<polyline clip-path=\"url(#clip610)\" style=\"stroke:#000000; stroke-linecap:round; stroke-linejoin:round; stroke-width:4; stroke-opacity:1; fill:none\" points=\"1846.25,1486.45 1846.25,1467.55 \"/>\n",
       "<polyline clip-path=\"url(#clip610)\" style=\"stroke:#000000; stroke-linecap:round; stroke-linejoin:round; stroke-width:4; stroke-opacity:1; fill:none\" points=\"2292.51,1486.45 2292.51,1467.55 \"/>\n",
       "<path clip-path=\"url(#clip610)\" d=\"M502.125 1544.91 L518.445 1544.91 L518.445 1548.85 L496.501 1548.85 L496.501 1544.91 Q499.163 1542.16 503.746 1537.53 Q508.352 1532.88 509.533 1531.53 Q511.778 1529.01 512.658 1527.27 Q513.561 1525.51 513.561 1523.82 Q513.561 1521.07 511.616 1519.33 Q509.695 1517.6 506.593 1517.6 Q504.394 1517.6 501.94 1518.36 Q499.51 1519.13 496.732 1520.68 L496.732 1515.95 Q499.556 1514.82 502.01 1514.24 Q504.463 1513.66 506.5 1513.66 Q511.871 1513.66 515.065 1516.35 Q518.26 1519.03 518.26 1523.52 Q518.26 1525.65 517.449 1527.57 Q516.662 1529.47 514.556 1532.07 Q513.977 1532.74 510.875 1535.95 Q507.774 1539.15 502.125 1544.91 Z\" fill=\"#000000\" fill-rule=\"evenodd\" fill-opacity=\"1\" /><path clip-path=\"url(#clip610)\" d=\"M956.741 1518.36 L944.936 1536.81 L956.741 1536.81 L956.741 1518.36 M955.515 1514.29 L961.394 1514.29 L961.394 1536.81 L966.325 1536.81 L966.325 1540.7 L961.394 1540.7 L961.394 1548.85 L956.741 1548.85 L956.741 1540.7 L941.14 1540.7 L941.14 1536.19 L955.515 1514.29 Z\" fill=\"#000000\" fill-rule=\"evenodd\" fill-opacity=\"1\" /><path clip-path=\"url(#clip610)\" d=\"M1400.4 1529.7 Q1397.25 1529.7 1395.4 1531.86 Q1393.57 1534.01 1393.57 1537.76 Q1393.57 1541.49 1395.4 1543.66 Q1397.25 1545.82 1400.4 1545.82 Q1403.54 1545.82 1405.37 1543.66 Q1407.23 1541.49 1407.23 1537.76 Q1407.23 1534.01 1405.37 1531.86 Q1403.54 1529.7 1400.4 1529.7 M1409.68 1515.05 L1409.68 1519.31 Q1407.92 1518.48 1406.11 1518.04 Q1404.33 1517.6 1402.57 1517.6 Q1397.94 1517.6 1395.49 1520.72 Q1393.06 1523.85 1392.71 1530.17 Q1394.08 1528.15 1396.14 1527.09 Q1398.2 1526 1400.67 1526 Q1405.88 1526 1408.89 1529.17 Q1411.92 1532.32 1411.92 1537.76 Q1411.92 1543.08 1408.78 1546.3 Q1405.63 1549.52 1400.4 1549.52 Q1394.4 1549.52 1391.23 1544.94 Q1388.06 1540.33 1388.06 1531.6 Q1388.06 1523.41 1391.95 1518.55 Q1395.84 1513.66 1402.39 1513.66 Q1404.15 1513.66 1405.93 1514.01 Q1407.73 1514.36 1409.68 1515.05 Z\" fill=\"#000000\" fill-rule=\"evenodd\" fill-opacity=\"1\" /><path clip-path=\"url(#clip610)\" d=\"M1846.25 1532.44 Q1842.92 1532.44 1841 1534.22 Q1839.1 1536 1839.1 1539.13 Q1839.1 1542.25 1841 1544.03 Q1842.92 1545.82 1846.25 1545.82 Q1849.58 1545.82 1851.51 1544.03 Q1853.43 1542.23 1853.43 1539.13 Q1853.43 1536 1851.51 1534.22 Q1849.61 1532.44 1846.25 1532.44 M1841.58 1530.45 Q1838.57 1529.7 1836.88 1527.64 Q1835.21 1525.58 1835.21 1522.62 Q1835.21 1518.48 1838.15 1516.07 Q1841.11 1513.66 1846.25 1513.66 Q1851.41 1513.66 1854.35 1516.07 Q1857.29 1518.48 1857.29 1522.62 Q1857.29 1525.58 1855.6 1527.64 Q1853.94 1529.7 1850.95 1530.45 Q1854.33 1531.23 1856.2 1533.52 Q1858.1 1535.82 1858.1 1539.13 Q1858.1 1544.15 1855.02 1546.83 Q1851.97 1549.52 1846.25 1549.52 Q1840.53 1549.52 1837.46 1546.83 Q1834.4 1544.15 1834.4 1539.13 Q1834.4 1535.82 1836.3 1533.52 Q1838.2 1531.23 1841.58 1530.45 M1839.86 1523.06 Q1839.86 1525.75 1841.53 1527.25 Q1843.22 1528.76 1846.25 1528.76 Q1849.26 1528.76 1850.95 1527.25 Q1852.66 1525.75 1852.66 1523.06 Q1852.66 1520.38 1850.95 1518.87 Q1849.26 1517.37 1846.25 1517.37 Q1843.22 1517.37 1841.53 1518.87 Q1839.86 1520.38 1839.86 1523.06 Z\" fill=\"#000000\" fill-rule=\"evenodd\" fill-opacity=\"1\" /><path clip-path=\"url(#clip610)\" d=\"M2267.2 1544.91 L2274.84 1544.91 L2274.84 1518.55 L2266.53 1520.21 L2266.53 1515.95 L2274.79 1514.29 L2279.47 1514.29 L2279.47 1544.91 L2287.11 1544.91 L2287.11 1548.85 L2267.2 1548.85 L2267.2 1544.91 Z\" fill=\"#000000\" fill-rule=\"evenodd\" fill-opacity=\"1\" /><path clip-path=\"url(#clip610)\" d=\"M2306.55 1517.37 Q2302.94 1517.37 2301.11 1520.93 Q2299.3 1524.47 2299.3 1531.6 Q2299.3 1538.71 2301.11 1542.27 Q2302.94 1545.82 2306.55 1545.82 Q2310.18 1545.82 2311.99 1542.27 Q2313.82 1538.71 2313.82 1531.6 Q2313.82 1524.47 2311.99 1520.93 Q2310.18 1517.37 2306.55 1517.37 M2306.55 1513.66 Q2312.36 1513.66 2315.42 1518.27 Q2318.49 1522.85 2318.49 1531.6 Q2318.49 1540.33 2315.42 1544.94 Q2312.36 1549.52 2306.55 1549.52 Q2300.74 1549.52 2297.66 1544.94 Q2294.61 1540.33 2294.61 1531.6 Q2294.61 1522.85 2297.66 1518.27 Q2300.74 1513.66 2306.55 1513.66 Z\" fill=\"#000000\" fill-rule=\"evenodd\" fill-opacity=\"1\" /><polyline clip-path=\"url(#clip612)\" style=\"stroke:#000000; stroke-linecap:round; stroke-linejoin:round; stroke-width:2; stroke-opacity:0.1; fill:none\" points=\"224.098,1390.25 2352.76,1390.25 \"/>\n",
       "<polyline clip-path=\"url(#clip612)\" style=\"stroke:#000000; stroke-linecap:round; stroke-linejoin:round; stroke-width:2; stroke-opacity:0.1; fill:none\" points=\"224.098,1191.59 2352.76,1191.59 \"/>\n",
       "<polyline clip-path=\"url(#clip612)\" style=\"stroke:#000000; stroke-linecap:round; stroke-linejoin:round; stroke-width:2; stroke-opacity:0.1; fill:none\" points=\"224.098,992.931 2352.76,992.931 \"/>\n",
       "<polyline clip-path=\"url(#clip612)\" style=\"stroke:#000000; stroke-linecap:round; stroke-linejoin:round; stroke-width:2; stroke-opacity:0.1; fill:none\" points=\"224.098,794.272 2352.76,794.272 \"/>\n",
       "<polyline clip-path=\"url(#clip612)\" style=\"stroke:#000000; stroke-linecap:round; stroke-linejoin:round; stroke-width:2; stroke-opacity:0.1; fill:none\" points=\"224.098,595.613 2352.76,595.613 \"/>\n",
       "<polyline clip-path=\"url(#clip612)\" style=\"stroke:#000000; stroke-linecap:round; stroke-linejoin:round; stroke-width:2; stroke-opacity:0.1; fill:none\" points=\"224.098,396.954 2352.76,396.954 \"/>\n",
       "<polyline clip-path=\"url(#clip612)\" style=\"stroke:#000000; stroke-linecap:round; stroke-linejoin:round; stroke-width:2; stroke-opacity:0.1; fill:none\" points=\"224.098,198.295 2352.76,198.295 \"/>\n",
       "<polyline clip-path=\"url(#clip610)\" style=\"stroke:#000000; stroke-linecap:round; stroke-linejoin:round; stroke-width:4; stroke-opacity:1; fill:none\" points=\"224.098,1486.45 224.098,47.2441 \"/>\n",
       "<polyline clip-path=\"url(#clip610)\" style=\"stroke:#000000; stroke-linecap:round; stroke-linejoin:round; stroke-width:4; stroke-opacity:1; fill:none\" points=\"224.098,1390.25 242.996,1390.25 \"/>\n",
       "<polyline clip-path=\"url(#clip610)\" style=\"stroke:#000000; stroke-linecap:round; stroke-linejoin:round; stroke-width:4; stroke-opacity:1; fill:none\" points=\"224.098,1191.59 242.996,1191.59 \"/>\n",
       "<polyline clip-path=\"url(#clip610)\" style=\"stroke:#000000; stroke-linecap:round; stroke-linejoin:round; stroke-width:4; stroke-opacity:1; fill:none\" points=\"224.098,992.931 242.996,992.931 \"/>\n",
       "<polyline clip-path=\"url(#clip610)\" style=\"stroke:#000000; stroke-linecap:round; stroke-linejoin:round; stroke-width:4; stroke-opacity:1; fill:none\" points=\"224.098,794.272 242.996,794.272 \"/>\n",
       "<polyline clip-path=\"url(#clip610)\" style=\"stroke:#000000; stroke-linecap:round; stroke-linejoin:round; stroke-width:4; stroke-opacity:1; fill:none\" points=\"224.098,595.613 242.996,595.613 \"/>\n",
       "<polyline clip-path=\"url(#clip610)\" style=\"stroke:#000000; stroke-linecap:round; stroke-linejoin:round; stroke-width:4; stroke-opacity:1; fill:none\" points=\"224.098,396.954 242.996,396.954 \"/>\n",
       "<polyline clip-path=\"url(#clip610)\" style=\"stroke:#000000; stroke-linecap:round; stroke-linejoin:round; stroke-width:4; stroke-opacity:1; fill:none\" points=\"224.098,198.295 242.996,198.295 \"/>\n",
       "<path clip-path=\"url(#clip610)\" d=\"M51.9875 1390.7 L81.6633 1390.7 L81.6633 1394.64 L51.9875 1394.64 L51.9875 1390.7 Z\" fill=\"#000000\" fill-rule=\"evenodd\" fill-opacity=\"1\" /><path clip-path=\"url(#clip610)\" d=\"M91.8021 1372.97 L110.158 1372.97 L110.158 1376.9 L96.0845 1376.9 L96.0845 1385.38 Q97.103 1385.03 98.1215 1384.87 Q99.14 1384.68 100.159 1384.68 Q105.946 1384.68 109.325 1387.85 Q112.705 1391.02 112.705 1396.44 Q112.705 1402.02 109.233 1405.12 Q105.76 1408.2 99.4409 1408.2 Q97.265 1408.2 94.9965 1407.83 Q92.7512 1407.46 90.3438 1406.72 L90.3438 1402.02 Q92.4271 1403.15 94.6493 1403.71 Q96.8715 1404.26 99.3483 1404.26 Q103.353 1404.26 105.691 1402.16 Q108.029 1400.05 108.029 1396.44 Q108.029 1392.83 105.691 1390.72 Q103.353 1388.62 99.3483 1388.62 Q97.4734 1388.62 95.5984 1389.03 Q93.7465 1389.45 91.8021 1390.33 L91.8021 1372.97 Z\" fill=\"#000000\" fill-rule=\"evenodd\" fill-opacity=\"1\" /><path clip-path=\"url(#clip610)\" d=\"M121.918 1401.65 L126.802 1401.65 L126.802 1407.53 L121.918 1407.53 L121.918 1401.65 Z\" fill=\"#000000\" fill-rule=\"evenodd\" fill-opacity=\"1\" /><path clip-path=\"url(#clip610)\" d=\"M137.033 1372.97 L155.39 1372.97 L155.39 1376.9 L141.316 1376.9 L141.316 1385.38 Q142.334 1385.03 143.353 1384.87 Q144.371 1384.68 145.39 1384.68 Q151.177 1384.68 154.556 1387.85 Q157.936 1391.02 157.936 1396.44 Q157.936 1402.02 154.464 1405.12 Q150.992 1408.2 144.672 1408.2 Q142.496 1408.2 140.228 1407.83 Q137.982 1407.46 135.575 1406.72 L135.575 1402.02 Q137.658 1403.15 139.881 1403.71 Q142.103 1404.26 144.58 1404.26 Q148.584 1404.26 150.922 1402.16 Q153.26 1400.05 153.26 1396.44 Q153.26 1392.83 150.922 1390.72 Q148.584 1388.62 144.58 1388.62 Q142.705 1388.62 140.83 1389.03 Q138.978 1389.45 137.033 1390.33 L137.033 1372.97 Z\" fill=\"#000000\" fill-rule=\"evenodd\" fill-opacity=\"1\" /><path clip-path=\"url(#clip610)\" d=\"M167.195 1372.97 L185.552 1372.97 L185.552 1376.9 L171.478 1376.9 L171.478 1385.38 Q172.496 1385.03 173.515 1384.87 Q174.533 1384.68 175.552 1384.68 Q181.339 1384.68 184.718 1387.85 Q188.098 1391.02 188.098 1396.44 Q188.098 1402.02 184.626 1405.12 Q181.153 1408.2 174.834 1408.2 Q172.658 1408.2 170.39 1407.83 Q168.144 1407.46 165.737 1406.72 L165.737 1402.02 Q167.82 1403.15 170.042 1403.71 Q172.265 1404.26 174.741 1404.26 Q178.746 1404.26 181.084 1402.16 Q183.422 1400.05 183.422 1396.44 Q183.422 1392.83 181.084 1390.72 Q178.746 1388.62 174.741 1388.62 Q172.866 1388.62 170.991 1389.03 Q169.14 1389.45 167.195 1390.33 L167.195 1372.97 Z\" fill=\"#000000\" fill-rule=\"evenodd\" fill-opacity=\"1\" /><path clip-path=\"url(#clip610)\" d=\"M50.9921 1192.04 L80.6679 1192.04 L80.6679 1195.98 L50.9921 1195.98 L50.9921 1192.04 Z\" fill=\"#000000\" fill-rule=\"evenodd\" fill-opacity=\"1\" /><path clip-path=\"url(#clip610)\" d=\"M90.8067 1174.31 L109.163 1174.31 L109.163 1178.25 L95.0891 1178.25 L95.0891 1186.72 Q96.1076 1186.37 97.1261 1186.21 Q98.1447 1186.02 99.1632 1186.02 Q104.95 1186.02 108.33 1189.19 Q111.709 1192.37 111.709 1197.78 Q111.709 1203.36 108.237 1206.46 Q104.765 1209.54 98.4456 1209.54 Q96.2697 1209.54 94.0012 1209.17 Q91.7558 1208.8 89.3484 1208.06 L89.3484 1203.36 Q91.4317 1204.49 93.6539 1205.05 Q95.8761 1205.61 98.353 1205.61 Q102.358 1205.61 104.696 1203.5 Q107.033 1201.39 107.033 1197.78 Q107.033 1194.17 104.696 1192.06 Q102.358 1189.96 98.353 1189.96 Q96.478 1189.96 94.603 1190.37 Q92.7512 1190.79 90.8067 1191.67 L90.8067 1174.31 Z\" fill=\"#000000\" fill-rule=\"evenodd\" fill-opacity=\"1\" /><path clip-path=\"url(#clip610)\" d=\"M120.922 1202.99 L125.807 1202.99 L125.807 1208.87 L120.922 1208.87 L120.922 1202.99 Z\" fill=\"#000000\" fill-rule=\"evenodd\" fill-opacity=\"1\" /><path clip-path=\"url(#clip610)\" d=\"M136.038 1174.31 L154.394 1174.31 L154.394 1178.25 L140.32 1178.25 L140.32 1186.72 Q141.339 1186.37 142.357 1186.21 Q143.376 1186.02 144.394 1186.02 Q150.181 1186.02 153.561 1189.19 Q156.941 1192.37 156.941 1197.78 Q156.941 1203.36 153.468 1206.46 Q149.996 1209.54 143.677 1209.54 Q141.501 1209.54 139.232 1209.17 Q136.987 1208.8 134.58 1208.06 L134.58 1203.36 Q136.663 1204.49 138.885 1205.05 Q141.107 1205.61 143.584 1205.61 Q147.589 1205.61 149.927 1203.5 Q152.265 1201.39 152.265 1197.78 Q152.265 1194.17 149.927 1192.06 Q147.589 1189.96 143.584 1189.96 Q141.709 1189.96 139.834 1190.37 Q137.982 1190.79 136.038 1191.67 L136.038 1174.31 Z\" fill=\"#000000\" fill-rule=\"evenodd\" fill-opacity=\"1\" /><path clip-path=\"url(#clip610)\" d=\"M176.153 1177.39 Q172.542 1177.39 170.714 1180.95 Q168.908 1184.5 168.908 1191.62 Q168.908 1198.73 170.714 1202.3 Q172.542 1205.84 176.153 1205.84 Q179.788 1205.84 181.593 1202.3 Q183.422 1198.73 183.422 1191.62 Q183.422 1184.5 181.593 1180.95 Q179.788 1177.39 176.153 1177.39 M176.153 1173.68 Q181.964 1173.68 185.019 1178.29 Q188.098 1182.87 188.098 1191.62 Q188.098 1200.35 185.019 1204.96 Q181.964 1209.54 176.153 1209.54 Q170.343 1209.54 167.265 1204.96 Q164.209 1200.35 164.209 1191.62 Q164.209 1182.87 167.265 1178.29 Q170.343 1173.68 176.153 1173.68 Z\" fill=\"#000000\" fill-rule=\"evenodd\" fill-opacity=\"1\" /><path clip-path=\"url(#clip610)\" d=\"M51.9875 993.382 L81.6633 993.382 L81.6633 997.318 L51.9875 997.318 L51.9875 993.382 Z\" fill=\"#000000\" fill-rule=\"evenodd\" fill-opacity=\"1\" /><path clip-path=\"url(#clip610)\" d=\"M91.8021 975.651 L110.158 975.651 L110.158 979.586 L96.0845 979.586 L96.0845 988.058 Q97.103 987.711 98.1215 987.549 Q99.14 987.364 100.159 987.364 Q105.946 987.364 109.325 990.535 Q112.705 993.706 112.705 999.123 Q112.705 1004.7 109.233 1007.8 Q105.76 1010.88 99.4409 1010.88 Q97.265 1010.88 94.9965 1010.51 Q92.7512 1010.14 90.3438 1009.4 L90.3438 1004.7 Q92.4271 1005.84 94.6493 1006.39 Q96.8715 1006.95 99.3483 1006.95 Q103.353 1006.95 105.691 1004.84 Q108.029 1002.73 108.029 999.123 Q108.029 995.512 105.691 993.406 Q103.353 991.299 99.3483 991.299 Q97.4734 991.299 95.5984 991.716 Q93.7465 992.132 91.8021 993.012 L91.8021 975.651 Z\" fill=\"#000000\" fill-rule=\"evenodd\" fill-opacity=\"1\" /><path clip-path=\"url(#clip610)\" d=\"M121.918 1004.33 L126.802 1004.33 L126.802 1010.21 L121.918 1010.21 L121.918 1004.33 Z\" fill=\"#000000\" fill-rule=\"evenodd\" fill-opacity=\"1\" /><path clip-path=\"url(#clip610)\" d=\"M149.834 979.725 L138.029 998.174 L149.834 998.174 L149.834 979.725 M148.607 975.651 L154.487 975.651 L154.487 998.174 L159.417 998.174 L159.417 1002.06 L154.487 1002.06 L154.487 1010.21 L149.834 1010.21 L149.834 1002.06 L134.232 1002.06 L134.232 997.549 L148.607 975.651 Z\" fill=\"#000000\" fill-rule=\"evenodd\" fill-opacity=\"1\" /><path clip-path=\"url(#clip610)\" d=\"M167.195 975.651 L185.552 975.651 L185.552 979.586 L171.478 979.586 L171.478 988.058 Q172.496 987.711 173.515 987.549 Q174.533 987.364 175.552 987.364 Q181.339 987.364 184.718 990.535 Q188.098 993.706 188.098 999.123 Q188.098 1004.7 184.626 1007.8 Q181.153 1010.88 174.834 1010.88 Q172.658 1010.88 170.39 1010.51 Q168.144 1010.14 165.737 1009.4 L165.737 1004.7 Q167.82 1005.84 170.042 1006.39 Q172.265 1006.95 174.741 1006.95 Q178.746 1006.95 181.084 1004.84 Q183.422 1002.73 183.422 999.123 Q183.422 995.512 181.084 993.406 Q178.746 991.299 174.741 991.299 Q172.866 991.299 170.991 991.716 Q169.14 992.132 167.195 993.012 L167.195 975.651 Z\" fill=\"#000000\" fill-rule=\"evenodd\" fill-opacity=\"1\" /><path clip-path=\"url(#clip610)\" d=\"M50.9921 794.723 L80.6679 794.723 L80.6679 798.659 L50.9921 798.659 L50.9921 794.723 Z\" fill=\"#000000\" fill-rule=\"evenodd\" fill-opacity=\"1\" /><path clip-path=\"url(#clip610)\" d=\"M90.8067 776.992 L109.163 776.992 L109.163 780.927 L95.0891 780.927 L95.0891 789.399 Q96.1076 789.052 97.1261 788.89 Q98.1447 788.705 99.1632 788.705 Q104.95 788.705 108.33 791.876 Q111.709 795.048 111.709 800.464 Q111.709 806.043 108.237 809.145 Q104.765 812.223 98.4456 812.223 Q96.2697 812.223 94.0012 811.853 Q91.7558 811.483 89.3484 810.742 L89.3484 806.043 Q91.4317 807.177 93.6539 807.733 Q95.8761 808.288 98.353 808.288 Q102.358 808.288 104.696 806.182 Q107.033 804.075 107.033 800.464 Q107.033 796.853 104.696 794.747 Q102.358 792.64 98.353 792.64 Q96.478 792.64 94.603 793.057 Q92.7512 793.473 90.8067 794.353 L90.8067 776.992 Z\" fill=\"#000000\" fill-rule=\"evenodd\" fill-opacity=\"1\" /><path clip-path=\"url(#clip610)\" d=\"M120.922 805.672 L125.807 805.672 L125.807 811.552 L120.922 811.552 L120.922 805.672 Z\" fill=\"#000000\" fill-rule=\"evenodd\" fill-opacity=\"1\" /><path clip-path=\"url(#clip610)\" d=\"M148.839 781.066 L137.033 799.515 L148.839 799.515 L148.839 781.066 M147.612 776.992 L153.492 776.992 L153.492 799.515 L158.422 799.515 L158.422 803.404 L153.492 803.404 L153.492 811.552 L148.839 811.552 L148.839 803.404 L133.237 803.404 L133.237 798.89 L147.612 776.992 Z\" fill=\"#000000\" fill-rule=\"evenodd\" fill-opacity=\"1\" /><path clip-path=\"url(#clip610)\" d=\"M176.153 780.071 Q172.542 780.071 170.714 783.636 Q168.908 787.177 168.908 794.307 Q168.908 801.413 170.714 804.978 Q172.542 808.52 176.153 808.52 Q179.788 808.52 181.593 804.978 Q183.422 801.413 183.422 794.307 Q183.422 787.177 181.593 783.636 Q179.788 780.071 176.153 780.071 M176.153 776.367 Q181.964 776.367 185.019 780.974 Q188.098 785.557 188.098 794.307 Q188.098 803.034 185.019 807.64 Q181.964 812.223 176.153 812.223 Q170.343 812.223 167.265 807.64 Q164.209 803.034 164.209 794.307 Q164.209 785.557 167.265 780.974 Q170.343 776.367 176.153 776.367 Z\" fill=\"#000000\" fill-rule=\"evenodd\" fill-opacity=\"1\" /><path clip-path=\"url(#clip610)\" d=\"M51.9875 596.065 L81.6633 596.065 L81.6633 600 L51.9875 600 L51.9875 596.065 Z\" fill=\"#000000\" fill-rule=\"evenodd\" fill-opacity=\"1\" /><path clip-path=\"url(#clip610)\" d=\"M91.8021 578.333 L110.158 578.333 L110.158 582.268 L96.0845 582.268 L96.0845 590.74 Q97.103 590.393 98.1215 590.231 Q99.14 590.046 100.159 590.046 Q105.946 590.046 109.325 593.217 Q112.705 596.389 112.705 601.805 Q112.705 607.384 109.233 610.486 Q105.76 613.564 99.4409 613.564 Q97.265 613.564 94.9965 613.194 Q92.7512 612.824 90.3438 612.083 L90.3438 607.384 Q92.4271 608.518 94.6493 609.074 Q96.8715 609.629 99.3483 609.629 Q103.353 609.629 105.691 607.523 Q108.029 605.416 108.029 601.805 Q108.029 598.194 105.691 596.088 Q103.353 593.981 99.3483 593.981 Q97.4734 593.981 95.5984 594.398 Q93.7465 594.815 91.8021 595.694 L91.8021 578.333 Z\" fill=\"#000000\" fill-rule=\"evenodd\" fill-opacity=\"1\" /><path clip-path=\"url(#clip610)\" d=\"M121.918 607.014 L126.802 607.014 L126.802 612.893 L121.918 612.893 L121.918 607.014 Z\" fill=\"#000000\" fill-rule=\"evenodd\" fill-opacity=\"1\" /><path clip-path=\"url(#clip610)\" d=\"M151.154 594.259 Q154.51 594.977 156.385 597.245 Q158.283 599.514 158.283 602.847 Q158.283 607.963 154.765 610.764 Q151.246 613.564 144.765 613.564 Q142.589 613.564 140.274 613.125 Q137.982 612.708 135.529 611.851 L135.529 607.338 Q137.473 608.472 139.788 609.051 Q142.103 609.629 144.626 609.629 Q149.024 609.629 151.316 607.893 Q153.63 606.157 153.63 602.847 Q153.63 599.791 151.478 598.078 Q149.348 596.342 145.529 596.342 L141.501 596.342 L141.501 592.5 L145.714 592.5 Q149.163 592.5 150.992 591.134 Q152.82 589.745 152.82 587.153 Q152.82 584.491 150.922 583.079 Q149.047 581.643 145.529 581.643 Q143.607 581.643 141.408 582.06 Q139.209 582.477 136.57 583.356 L136.57 579.19 Q139.232 578.449 141.547 578.079 Q143.885 577.708 145.945 577.708 Q151.269 577.708 154.371 580.139 Q157.473 582.546 157.473 586.666 Q157.473 589.537 155.83 591.528 Q154.186 593.495 151.154 594.259 Z\" fill=\"#000000\" fill-rule=\"evenodd\" fill-opacity=\"1\" /><path clip-path=\"url(#clip610)\" d=\"M167.195 578.333 L185.552 578.333 L185.552 582.268 L171.478 582.268 L171.478 590.74 Q172.496 590.393 173.515 590.231 Q174.533 590.046 175.552 590.046 Q181.339 590.046 184.718 593.217 Q188.098 596.389 188.098 601.805 Q188.098 607.384 184.626 610.486 Q181.153 613.564 174.834 613.564 Q172.658 613.564 170.39 613.194 Q168.144 612.824 165.737 612.083 L165.737 607.384 Q167.82 608.518 170.042 609.074 Q172.265 609.629 174.741 609.629 Q178.746 609.629 181.084 607.523 Q183.422 605.416 183.422 601.805 Q183.422 598.194 181.084 596.088 Q178.746 593.981 174.741 593.981 Q172.866 593.981 170.991 594.398 Q169.14 594.815 167.195 595.694 L167.195 578.333 Z\" fill=\"#000000\" fill-rule=\"evenodd\" fill-opacity=\"1\" /><path clip-path=\"url(#clip610)\" d=\"M50.9921 397.406 L80.6679 397.406 L80.6679 401.341 L50.9921 401.341 L50.9921 397.406 Z\" fill=\"#000000\" fill-rule=\"evenodd\" fill-opacity=\"1\" /><path clip-path=\"url(#clip610)\" d=\"M90.8067 379.674 L109.163 379.674 L109.163 383.609 L95.0891 383.609 L95.0891 392.082 Q96.1076 391.734 97.1261 391.572 Q98.1447 391.387 99.1632 391.387 Q104.95 391.387 108.33 394.558 Q111.709 397.73 111.709 403.146 Q111.709 408.725 108.237 411.827 Q104.765 414.906 98.4456 414.906 Q96.2697 414.906 94.0012 414.535 Q91.7558 414.165 89.3484 413.424 L89.3484 408.725 Q91.4317 409.859 93.6539 410.415 Q95.8761 410.97 98.353 410.97 Q102.358 410.97 104.696 408.864 Q107.033 406.757 107.033 403.146 Q107.033 399.535 104.696 397.429 Q102.358 395.322 98.353 395.322 Q96.478 395.322 94.603 395.739 Q92.7512 396.156 90.8067 397.035 L90.8067 379.674 Z\" fill=\"#000000\" fill-rule=\"evenodd\" fill-opacity=\"1\" /><path clip-path=\"url(#clip610)\" d=\"M120.922 408.355 L125.807 408.355 L125.807 414.234 L120.922 414.234 L120.922 408.355 Z\" fill=\"#000000\" fill-rule=\"evenodd\" fill-opacity=\"1\" /><path clip-path=\"url(#clip610)\" d=\"M150.158 395.6 Q153.515 396.318 155.39 398.586 Q157.288 400.855 157.288 404.188 Q157.288 409.304 153.769 412.105 Q150.251 414.906 143.769 414.906 Q141.593 414.906 139.279 414.466 Q136.987 414.049 134.533 413.193 L134.533 408.679 Q136.478 409.813 138.793 410.392 Q141.107 410.97 143.631 410.97 Q148.029 410.97 150.32 409.234 Q152.635 407.498 152.635 404.188 Q152.635 401.132 150.482 399.419 Q148.353 397.683 144.533 397.683 L140.506 397.683 L140.506 393.841 L144.718 393.841 Q148.168 393.841 149.996 392.475 Q151.825 391.086 151.825 388.494 Q151.825 385.832 149.927 384.42 Q148.052 382.984 144.533 382.984 Q142.612 382.984 140.413 383.401 Q138.214 383.818 135.575 384.697 L135.575 380.531 Q138.237 379.79 140.552 379.42 Q142.89 379.049 144.95 379.049 Q150.274 379.049 153.376 381.48 Q156.478 383.887 156.478 388.008 Q156.478 390.878 154.834 392.869 Q153.191 394.836 150.158 395.6 Z\" fill=\"#000000\" fill-rule=\"evenodd\" fill-opacity=\"1\" /><path clip-path=\"url(#clip610)\" d=\"M176.153 382.753 Q172.542 382.753 170.714 386.318 Q168.908 389.859 168.908 396.989 Q168.908 404.095 170.714 407.66 Q172.542 411.202 176.153 411.202 Q179.788 411.202 181.593 407.66 Q183.422 404.095 183.422 396.989 Q183.422 389.859 181.593 386.318 Q179.788 382.753 176.153 382.753 M176.153 379.049 Q181.964 379.049 185.019 383.656 Q188.098 388.239 188.098 396.989 Q188.098 405.716 185.019 410.322 Q181.964 414.906 176.153 414.906 Q170.343 414.906 167.265 410.322 Q164.209 405.716 164.209 396.989 Q164.209 388.239 167.265 383.656 Q170.343 379.049 176.153 379.049 Z\" fill=\"#000000\" fill-rule=\"evenodd\" fill-opacity=\"1\" /><path clip-path=\"url(#clip610)\" d=\"M51.9875 198.747 L81.6633 198.747 L81.6633 202.682 L51.9875 202.682 L51.9875 198.747 Z\" fill=\"#000000\" fill-rule=\"evenodd\" fill-opacity=\"1\" /><path clip-path=\"url(#clip610)\" d=\"M91.8021 181.015 L110.158 181.015 L110.158 184.95 L96.0845 184.95 L96.0845 193.423 Q97.103 193.075 98.1215 192.913 Q99.14 192.728 100.159 192.728 Q105.946 192.728 109.325 195.899 Q112.705 199.071 112.705 204.487 Q112.705 210.066 109.233 213.168 Q105.76 216.247 99.4409 216.247 Q97.265 216.247 94.9965 215.876 Q92.7512 215.506 90.3438 214.765 L90.3438 210.066 Q92.4271 211.2 94.6493 211.756 Q96.8715 212.311 99.3483 212.311 Q103.353 212.311 105.691 210.205 Q108.029 208.098 108.029 204.487 Q108.029 200.876 105.691 198.77 Q103.353 196.663 99.3483 196.663 Q97.4734 196.663 95.5984 197.08 Q93.7465 197.497 91.8021 198.376 L91.8021 181.015 Z\" fill=\"#000000\" fill-rule=\"evenodd\" fill-opacity=\"1\" /><path clip-path=\"url(#clip610)\" d=\"M121.918 209.696 L126.802 209.696 L126.802 215.575 L121.918 215.575 L121.918 209.696 Z\" fill=\"#000000\" fill-rule=\"evenodd\" fill-opacity=\"1\" /><path clip-path=\"url(#clip610)\" d=\"M141.015 211.64 L157.334 211.64 L157.334 215.575 L135.39 215.575 L135.39 211.64 Q138.052 208.886 142.635 204.256 Q147.242 199.603 148.422 198.261 Q150.668 195.737 151.547 194.001 Q152.45 192.242 152.45 190.552 Q152.45 187.798 150.505 186.062 Q148.584 184.325 145.482 184.325 Q143.283 184.325 140.83 185.089 Q138.399 185.853 135.621 187.404 L135.621 182.682 Q138.445 181.548 140.899 180.969 Q143.353 180.39 145.39 180.39 Q150.76 180.39 153.955 183.075 Q157.149 185.761 157.149 190.251 Q157.149 192.381 156.339 194.302 Q155.552 196.2 153.445 198.793 Q152.867 199.464 149.765 202.682 Q146.663 205.876 141.015 211.64 Z\" fill=\"#000000\" fill-rule=\"evenodd\" fill-opacity=\"1\" /><path clip-path=\"url(#clip610)\" d=\"M167.195 181.015 L185.552 181.015 L185.552 184.95 L171.478 184.95 L171.478 193.423 Q172.496 193.075 173.515 192.913 Q174.533 192.728 175.552 192.728 Q181.339 192.728 184.718 195.899 Q188.098 199.071 188.098 204.487 Q188.098 210.066 184.626 213.168 Q181.153 216.247 174.834 216.247 Q172.658 216.247 170.39 215.876 Q168.144 215.506 165.737 214.765 L165.737 210.066 Q167.82 211.2 170.042 211.756 Q172.265 212.311 174.741 212.311 Q178.746 212.311 181.084 210.205 Q183.422 208.098 183.422 204.487 Q183.422 200.876 181.084 198.77 Q178.746 196.663 174.741 196.663 Q172.866 196.663 170.991 197.08 Q169.14 197.497 167.195 198.376 L167.195 181.015 Z\" fill=\"#000000\" fill-rule=\"evenodd\" fill-opacity=\"1\" /><circle clip-path=\"url(#clip612)\" cx=\"284.343\" cy=\"1445.72\" r=\"14.4\" fill=\"#009af9\" fill-rule=\"evenodd\" fill-opacity=\"1\" stroke=\"#000000\" stroke-opacity=\"1\" stroke-width=\"3.2\"/>\n",
       "<circle clip-path=\"url(#clip612)\" cx=\"507.473\" cy=\"1445.72\" r=\"14.4\" fill=\"#009af9\" fill-rule=\"evenodd\" fill-opacity=\"1\" stroke=\"#000000\" stroke-opacity=\"1\" stroke-width=\"3.2\"/>\n",
       "<circle clip-path=\"url(#clip612)\" cx=\"730.602\" cy=\"918.437\" r=\"14.4\" fill=\"#009af9\" fill-rule=\"evenodd\" fill-opacity=\"1\" stroke=\"#000000\" stroke-opacity=\"1\" stroke-width=\"3.2\"/>\n",
       "<circle clip-path=\"url(#clip612)\" cx=\"953.732\" cy=\"918.437\" r=\"14.4\" fill=\"#009af9\" fill-rule=\"evenodd\" fill-opacity=\"1\" stroke=\"#000000\" stroke-opacity=\"1\" stroke-width=\"3.2\"/>\n",
       "<circle clip-path=\"url(#clip612)\" cx=\"1176.86\" cy=\"486.278\" r=\"14.4\" fill=\"#009af9\" fill-rule=\"evenodd\" fill-opacity=\"1\" stroke=\"#000000\" stroke-opacity=\"1\" stroke-width=\"3.2\"/>\n",
       "<circle clip-path=\"url(#clip612)\" cx=\"1399.99\" cy=\"486.278\" r=\"14.4\" fill=\"#009af9\" fill-rule=\"evenodd\" fill-opacity=\"1\" stroke=\"#000000\" stroke-opacity=\"1\" stroke-width=\"3.2\"/>\n",
       "<circle clip-path=\"url(#clip612)\" cx=\"1623.12\" cy=\"486.278\" r=\"14.4\" fill=\"#009af9\" fill-rule=\"evenodd\" fill-opacity=\"1\" stroke=\"#000000\" stroke-opacity=\"1\" stroke-width=\"3.2\"/>\n",
       "<circle clip-path=\"url(#clip612)\" cx=\"1846.25\" cy=\"486.278\" r=\"14.4\" fill=\"#009af9\" fill-rule=\"evenodd\" fill-opacity=\"1\" stroke=\"#000000\" stroke-opacity=\"1\" stroke-width=\"3.2\"/>\n",
       "<circle clip-path=\"url(#clip612)\" cx=\"2069.38\" cy=\"87.9763\" r=\"14.4\" fill=\"#009af9\" fill-rule=\"evenodd\" fill-opacity=\"1\" stroke=\"#000000\" stroke-opacity=\"1\" stroke-width=\"3.2\"/>\n",
       "<circle clip-path=\"url(#clip612)\" cx=\"2292.51\" cy=\"87.9763\" r=\"14.4\" fill=\"#009af9\" fill-rule=\"evenodd\" fill-opacity=\"1\" stroke=\"#000000\" stroke-opacity=\"1\" stroke-width=\"3.2\"/>\n",
       "<path clip-path=\"url(#clip610)\" d=\"M295.053 198.898 L560.349 198.898 L560.349 95.2176 L295.053 95.2176  Z\" fill=\"#ffffff\" fill-rule=\"evenodd\" fill-opacity=\"1\"/>\n",
       "<polyline clip-path=\"url(#clip610)\" style=\"stroke:#000000; stroke-linecap:round; stroke-linejoin:round; stroke-width:4; stroke-opacity:1; fill:none\" points=\"295.053,198.898 560.349,198.898 560.349,95.2176 295.053,95.2176 295.053,198.898 \"/>\n",
       "<circle clip-path=\"url(#clip610)\" cx=\"389.66\" cy=\"147.058\" r=\"23.04\" fill=\"#009af9\" fill-rule=\"evenodd\" fill-opacity=\"1\" stroke=\"#000000\" stroke-opacity=\"1\" stroke-width=\"5.12\"/>\n",
       "<path clip-path=\"url(#clip610)\" d=\"M498.11 166.745 Q496.304 171.375 494.591 172.787 Q492.878 174.199 490.008 174.199 L486.605 174.199 L486.605 170.634 L489.105 170.634 Q490.864 170.634 491.837 169.8 Q492.809 168.967 493.989 165.865 L494.753 163.921 L484.267 138.412 L488.781 138.412 L496.883 158.689 L504.985 138.412 L509.499 138.412 L498.11 166.745 Z\" fill=\"#000000\" fill-rule=\"evenodd\" fill-opacity=\"1\" /><path clip-path=\"url(#clip610)\" d=\"M516.79 160.402 L524.429 160.402 L524.429 134.037 L516.119 135.703 L516.119 131.444 L524.383 129.778 L529.059 129.778 L529.059 160.402 L536.697 160.402 L536.697 164.338 L516.79 164.338 L516.79 160.402 Z\" fill=\"#000000\" fill-rule=\"evenodd\" fill-opacity=\"1\" /></svg>\n"
      ]
     },
     "execution_count": 17,
     "metadata": {},
     "output_type": "execute_result"
    }
   ],
   "source": [
    "using Plots\n",
    "plot(1:length(filtered_energies),filtered_energies,seriestype=:scatter)"
   ]
  },
  {
   "cell_type": "code",
   "execution_count": 18,
   "id": "efb78ec5-fb2a-4171-89d8-86fbc49fc001",
   "metadata": {
    "tags": []
   },
   "outputs": [
    {
     "data": {
      "text/plain": [
       "Restricted_Hubbard_States (generic function with 1 method)"
      ]
     },
     "execution_count": 18,
     "metadata": {},
     "output_type": "execute_result"
    }
   ],
   "source": [
    "function Restricted_Hubbard_States(states)\n",
    "    number_of_states = length(filtered_energies)\n",
    "    return states[:,1:number_of_states];\n",
    "end"
   ]
  },
  {
   "cell_type": "code",
   "execution_count": 22,
   "id": "ca1fa938-4f7d-4a5e-a137-a93172e9ed80",
   "metadata": {
    "tags": []
   },
   "outputs": [
    {
     "data": {
      "text/plain": [
       "get_eigenstates (generic function with 1 method)"
      ]
     },
     "execution_count": 22,
     "metadata": {},
     "output_type": "execute_result"
    }
   ],
   "source": [
    "pn = 2\n",
    "function get_eigenstates(basis_cut_mb, H_Total, pn)\n",
    "    \n",
    "    H_total_Matrix = get_Matrix_form(basis_cut_mb, H_Total)\n",
    "    E = eigvals(H_total_Matrix)\n",
    "    UU = eigvecs(H_total_Matrix)\n",
    "    df = get_filtered_energies(pn, basis_cut_mb, H_Total)\n",
    "    filtered_energies = Matrix(df)[:,2]\n",
    "    r_hubbard_states = Restricted_Hubbard_States(UU);\n",
    "    \n",
    "    return filtered_energies, r_hubbard_states\n",
    "end"
   ]
  },
  {
   "cell_type": "code",
   "execution_count": 45,
   "id": "311ed1c5-8f61-4997-a0a8-14008bbc354a",
   "metadata": {
    "tags": []
   },
   "outputs": [
    {
     "data": {
      "text/plain": [
       "Chern_Nums (generic function with 2 methods)"
      ]
     },
     "execution_count": 45,
     "metadata": {},
     "output_type": "execute_result"
    }
   ],
   "source": [
    "function Chern_Nums(n1, n2)\n",
    "    \n",
    "    Sum=0\n",
    "    \n",
    "    for tx in range(start=1, stop=length(Tx))\n",
    "        for ty in range(start=1, stop=length(Ty))\n",
    "            \n",
    "            H_Total = get_total_H(Nx, Ny, alpha, sp_basis, Tx[tx], Ty[ty], cut_off, PN, basis_cut_sp, basis_cut_mb)\n",
    "            \n",
    "            w1, v1 = get_eigenstates(basis_cut_mb, H_Total, pn);\n",
    "            \n",
    "            # sorting eigenvalues\n",
    "            i = sortperm(w1, by=real);w1 = w1[i]\n",
    "            # sorting eigenstates\n",
    "            v1 = v1[:,i]\n",
    "            # multiplet eigenstates\n",
    "            v1 = v1[:,n1:n2]\n",
    "            \n",
    "            #------------------------------------\n",
    "            H_Total = get_total_H(Nx, Ny, alpha, sp_basis, Tx[tx]+dx, Ty[ty], cut_off, PN, basis_cut_sp, basis_cut_mb)\n",
    "            \n",
    "            w2, v2 = get_eigenstates(basis_cut_mb, H_Total, pn);\n",
    "            \n",
    "            i = sortperm(w2, by=real);w2 = w2[i]\n",
    "            v2 = v2[:,i]\n",
    "            v2 = v2[:,n1:n2]\n",
    "            \n",
    "            #------------------------------------\n",
    "            H_Total = get_total_H(Nx, Ny, alpha, sp_basis, Tx[tx], Ty[ty]+dy, cut_off, PN, basis_cut_sp, basis_cut_mb)\n",
    "            \n",
    "            w3, v3 = get_eigenstates(basis_cut_mb, H_Total, pn);\n",
    "            \n",
    "            i = sortperm(w3, by=real);w3 = w3[i]\n",
    "            v3 = v3[:,i]\n",
    "            v3 = v3[:,n1:n2]\n",
    "            \n",
    "            #------------------------------------\n",
    "            H_Total = get_total_H(Nx, Ny, alpha, sp_basis, Tx[tx]+dx, Ty[ty]+dy, cut_off, PN, basis_cut_sp, basis_cut_mb)\n",
    "            \n",
    "            w4, v4 = get_eigenstates(basis_cut_mb, H_Total, pn);\n",
    "            \n",
    "            i = sortperm(w4, by=real);w4 = w4[i]\n",
    "            v4 = v4[:,i]\n",
    "            v4 = v4[:,n1:n2]\n",
    "            \n",
    "            #----------LINK VARIABLES------------\n",
    "            U1=det(adjoint(v1)*v2)\n",
    "            U1=U1/abs(U1)\n",
    "            U2=det(adjoint(v2)*v4)\n",
    "            U2=U2/abs(U2)\n",
    "            U3=det(adjoint(v3)*v4)\n",
    "            U3=U3/abs(U3)\n",
    "            U4=det(adjoint(v1)*v3)\n",
    "            U4=U4/abs(U4)\n",
    "            \n",
    "            #----------BERRY CURVATURE-----------\n",
    "            F=log(U1*U2*1/U3*1/U4)\n",
    "            Sum=Sum+F\n",
    "            \n",
    "        end\n",
    "    end\n",
    "    \n",
    "    return 1/(2*pi*1im)*Sum\n",
    "end"
   ]
  },
  {
   "cell_type": "code",
   "execution_count": 46,
   "id": "d1d0f59a-5568-4d40-bc25-a9f9e9026586",
   "metadata": {
    "tags": []
   },
   "outputs": [
    {
     "data": {
      "text/plain": [
       "6.795488500978664 - 2.357936446589004e-16im"
      ]
     },
     "execution_count": 46,
     "metadata": {},
     "output_type": "execute_result"
    }
   ],
   "source": [
    "Chern_Nums(1, 2)"
   ]
  }
 ],
 "metadata": {
  "kernelspec": {
   "display_name": "Julia 1.8.1",
   "language": "julia",
   "name": "julia-1.8"
  },
  "language_info": {
   "file_extension": ".jl",
   "mimetype": "application/julia",
   "name": "julia",
   "version": "1.8.1"
  }
 },
 "nbformat": 4,
 "nbformat_minor": 5
}
