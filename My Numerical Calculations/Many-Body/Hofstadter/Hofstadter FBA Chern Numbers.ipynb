{
 "cells": [
  {
   "cell_type": "markdown",
   "id": "2c41ed7e-717e-44c8-b1ed-746aa6fdb9e7",
   "metadata": {},
   "source": [
    "## What the important is not the arrival point, it is the journey itself. Enjoy your journey :)"
   ]
  },
  {
   "cell_type": "markdown",
   "id": "0704ee9d-3546-4a43-9353-c294bcee6522",
   "metadata": {},
   "source": [
    "# Including \n",
    "* Single-Particle Theta and Real Space Hopping Phases\n",
    "* Essential First Band Approximation Functions"
   ]
  },
  {
   "cell_type": "code",
   "execution_count": 17,
   "id": "a756046f-6d3d-4c95-be1e-b0b4b07afff2",
   "metadata": {
    "tags": []
   },
   "outputs": [],
   "source": [
    "using NBInclude\n",
    "@nbinclude(\"Hofstadter Single Particle in Theta Space.ipynb\")\n",
    "@nbinclude(joinpath(\"..\",\"First Band Approximation Functions.ipynb\"));"
   ]
  },
  {
   "cell_type": "markdown",
   "id": "14007332-aaa4-4626-9e41-73b1c8385497",
   "metadata": {},
   "source": [
    "# Initial Parameters"
   ]
  },
  {
   "cell_type": "code",
   "execution_count": 18,
   "id": "1d4c8deb-a2ca-456b-9a4e-71bcf2ecb21a",
   "metadata": {
    "tags": []
   },
   "outputs": [],
   "source": [
    "# Lattice Size\n",
    "Nx=3; Ny=3; N=Nx*Ny\n",
    "\n",
    "# Magnetic Flux Per Plaquet\n",
    "p=1; q=Ny; alpha=p/q\n",
    "\n",
    "# Total Particle Number\n",
    "# NON-INTERACTING CASE:\n",
    "# PN = 2\n",
    "\n",
    "# INTERACTING CASE\n",
    "PN = [0, 1]\n",
    "\n",
    "# Cut-Off for Sub-Space (Real Space for now...)\n",
    "cut_off = Nx*Ny\n",
    "\n",
    "# Interaction Potential\n",
    "U = 0\n",
    "\n",
    "# Theta Parameter Space\n",
    "T_size = 5;"
   ]
  },
  {
   "cell_type": "markdown",
   "id": "e56b21ac-e908-455e-a2cc-da8552fc2e07",
   "metadata": {},
   "source": [
    "# Single Particle Operator"
   ]
  },
  {
   "cell_type": "code",
   "execution_count": 19,
   "id": "846e576d-5158-4c1b-9cb9-47dc8e21d598",
   "metadata": {
    "tags": []
   },
   "outputs": [
    {
     "data": {
      "text/plain": [
       "Sp_Theta_Op (generic function with 1 method)"
      ]
     },
     "execution_count": 19,
     "metadata": {},
     "output_type": "execute_result"
    }
   ],
   "source": [
    "function Sp_Theta_Op(Nx, Ny, alpha, sp_basis, Tx, Ty)\n",
    "        \n",
    "    H_T = HSP_T(Nx, Ny, alpha, Tx, Ty, 0)\n",
    "    \n",
    "    H = SparseOperator(sp_basis)\n",
    "    \n",
    "    for m in 1:N\n",
    "        for n in 1:N\n",
    "            H = H + H_T[m,n] * transition(sp_basis, m, n)\n",
    "        end\n",
    "    end\n",
    "    \n",
    "    return H\n",
    "end"
   ]
  },
  {
   "cell_type": "code",
   "execution_count": 20,
   "id": "5a7b7ed6-5618-4ef2-b718-8b5ccd3f8f5e",
   "metadata": {
    "tags": []
   },
   "outputs": [
    {
     "data": {
      "text/plain": [
       "NLevel(N=9)"
      ]
     },
     "execution_count": 20,
     "metadata": {},
     "output_type": "execute_result"
    }
   ],
   "source": [
    "using LinearAlgebra\n",
    "\n",
    "# Reference Parameters\n",
    "Tx = Ty = 0\n",
    "sp_basis = NLevelBasis(N)\n",
    "# eigenenergies(dense(Sp_Theta_Op(Nx, Ny, alpha, sp_basis, Tx, Ty))) == eigvals(HSP_T(Nx, Ny, p/q, Tx, Ty, 0))\n",
    "# eigvals(HSP_T(Nx, Ny, p/q, Tx, Ty, 0))\n",
    "# eigen(HSP_T(Nx, Ny, p/q, Tx, Ty, 0))"
   ]
  },
  {
   "cell_type": "markdown",
   "id": "df006870-dd95-4c4a-8daa-350e876beb1a",
   "metadata": {},
   "source": [
    "# Sub-Space Many-Body"
   ]
  },
  {
   "cell_type": "code",
   "execution_count": 21,
   "id": "9c29d80c-5eea-434d-b1e0-0a1e953c8f44",
   "metadata": {
    "tags": []
   },
   "outputs": [],
   "source": [
    "@nbinclude(\"Hofstadter MB in Julia.ipynb\"; regex=r\"#.*executeme\");"
   ]
  },
  {
   "cell_type": "code",
   "execution_count": 22,
   "id": "b60c65b7-d7ba-4de3-9dc6-331e228961a7",
   "metadata": {
    "tags": []
   },
   "outputs": [],
   "source": [
    "basis_cut_mb, basis_cut_sp = get_Bosonic_MB_Basis(cut_off,PN);"
   ]
  },
  {
   "cell_type": "code",
   "execution_count": 23,
   "id": "204c4b33-6509-4677-9755-923fb8d50c1c",
   "metadata": {
    "tags": []
   },
   "outputs": [
    {
     "data": {
      "text/plain": [
       "get_total_H (generic function with 1 method)"
      ]
     },
     "execution_count": 23,
     "metadata": {},
     "output_type": "execute_result"
    }
   ],
   "source": [
    "function get_total_H(Nx, Ny, alpha, sp_basis, Tx, Ty, cut_off, PN, basis_cut_sp, basis_cut_mb)\n",
    "    # Single Particle Operator\n",
    "    H1 = Sp_Theta_Op(Nx, Ny, alpha, sp_basis, Tx, Ty)\n",
    "    \n",
    "    # Sub-States Go on to Cut-Off\n",
    "    sub_states = get_sub_states(H1, cut_off)\n",
    "\n",
    "    # Sub-Space Basis and Projection Operator\n",
    "    basis_sub, P, Pt = get_projector_op(sub_states, sp_basis)\n",
    "\n",
    "    # Single-Particle Sub-Space Operator\n",
    "    H1_sub = get_subspace_op(H1, P, Pt)\n",
    "\n",
    "    # Many-Body Sub-Space Bosonic Fock States\n",
    "    states_mb = bosonstates(basis_sub, PN)     \n",
    "\n",
    "    # Many-Body Sub-Space Basis\n",
    "    basis_mb = ManyBodyBasis(basis_sub, states_mb)\n",
    "\n",
    "    # Kinetic Term of Many-Body Sub-Space Operator\n",
    "    H1_MB = get_mb_op(basis_mb, basis_sub, H1_sub)\n",
    "    H1cut = SparseOperator(basis_cut_mb)\n",
    "    H1cut.data = H1_MB.data\n",
    "\n",
    "    # Interaction Term of Many-Body Sub-Space Operator\n",
    "    H_Int = Hubbard_Interaction(basis_cut_sp, basis_cut_mb, P, Pt, cut_off)\n",
    "    \n",
    "    return H1cut + H_Int\n",
    "end"
   ]
  },
  {
   "cell_type": "code",
   "execution_count": 24,
   "id": "c38c03ff-bed8-438e-aaca-370ca8333e98",
   "metadata": {
    "tags": []
   },
   "outputs": [],
   "source": [
    "# PN"
   ]
  },
  {
   "cell_type": "code",
   "execution_count": 25,
   "id": "cbd83c40-5ef2-4716-b946-03dd116ee084",
   "metadata": {},
   "outputs": [],
   "source": [
    "# Tx = Ty = 0\n",
    "# H_total = get_total_H(Nx, Ny, alpha, sp_basis, Tx, Ty, cut_off, PN, basis_cut_sp, basis_cut_mb);\n",
    "# EE, VV = eigen(dense((H_total+H_total')/2).data)\n",
    "# VV[:,4]"
   ]
  },
  {
   "cell_type": "markdown",
   "id": "72e62838-b8cf-4104-b4e9-c3be69695efb",
   "metadata": {},
   "source": [
    "# Exact Diagonalization"
   ]
  },
  {
   "cell_type": "code",
   "execution_count": 26,
   "id": "dddbeaf6-3b0b-4f15-b74a-7c6390b376d0",
   "metadata": {
    "tags": []
   },
   "outputs": [],
   "source": [
    "# using DataFrames\n",
    "\n",
    "# function get_filtered_energies(pn, basis, H_total)\n",
    "    \n",
    "#     # Operator Form of Eigenstates\n",
    "#     E, V = eigenstates(dense(dense((H_total+H_total')/2)))\n",
    "\n",
    "#     # Energies According to Each Particle Number\n",
    "#     PN_Energies = Array{Float64}(undef, length(E), 2)\n",
    "#     for i in 1:length(E)\n",
    "#         # Particle Number in Each State\n",
    "#         PN_Energies[i] = round(expect(number(basis), V[i]))\n",
    "        \n",
    "#         # Energies in Each State\n",
    "#         PN_Energies[i,2] = E[i]\n",
    "#     end\n",
    "    \n",
    "#     # Fiter Process\n",
    "#     Filtered_Energies = DataFrame(PN_Energies, :auto)\n",
    "#     Filtered_Energies = filter(row -> (row.x1 == pn),  Filtered_Energies)\n",
    "    \n",
    "#     return Filtered_Energies\n",
    "# end"
   ]
  },
  {
   "cell_type": "code",
   "execution_count": 27,
   "id": "773ca436-811a-4c8e-9f18-c5869ac080df",
   "metadata": {
    "tags": []
   },
   "outputs": [],
   "source": [
    "# # Energies of Filtered Particle Number \n",
    "# pn = 1\n",
    "# df = get_filtered_energies(pn, basis_cut_mb, H_total)\n",
    "# filtered_energies = Matrix(df)[:,2]"
   ]
  },
  {
   "cell_type": "code",
   "execution_count": 28,
   "id": "eb4c9fad-5de3-4b51-ab18-81fe069cd372",
   "metadata": {
    "tags": []
   },
   "outputs": [],
   "source": [
    "# using Plots\n",
    "\n",
    "# # Plots Bands\n",
    "# scatter(1:length(filtered_energies), filtered_energies, legend=false, axis=nothing)"
   ]
  },
  {
   "cell_type": "code",
   "execution_count": 29,
   "id": "c80baa2a-b113-48ef-9e6c-a3f3f11f8973",
   "metadata": {},
   "outputs": [],
   "source": [
    "# # Eigen-States of Filtered Particle Number \n",
    "# function Filtered_Hubbard_States(filtered_energies, states)\n",
    "#     number_of_states = length(filtered_energies)\n",
    "#     return states[:,1:number_of_states]\n",
    "# end"
   ]
  },
  {
   "cell_type": "code",
   "execution_count": 30,
   "id": "b0f73da9-da6a-4023-b507-a5e284d89f83",
   "metadata": {},
   "outputs": [],
   "source": [
    "# pn = 1\n",
    "\n",
    "# function get_eigenstates(basis_cut_mb, H_total, pn)\n",
    "    \n",
    "#     E, V = eigen(dense((H_total+H_total')/2).data)\n",
    "\n",
    "#     # Sorting Again...\n",
    "#     #V = V[:, sortperm(E)]\n",
    "    \n",
    "#     df = get_filtered_energies(pn, basis_cut_mb, H_total)\n",
    "    \n",
    "#     filtered_energies = Matrix(df)[:,2]\n",
    "    \n",
    "#     #filtered_states = Filtered_Hubbard_States(filtered_energies, V)\n",
    "#     #filtered_states = dropcol(V, 4)\n",
    "    \n",
    "#     return filtered_energies, V\n",
    "# end\n",
    "\n",
    "# # Orthogonality \n",
    "# # filtered_energies, filtered_states = get_eigenstates(basis_cut_mb, H_total, pn)\n",
    "# # for i in 1:N\n",
    "# #     j = 9\n",
    "# #     a = filtered_states[:,j]\n",
    "# #     b = filtered_states[:,i]\n",
    "# #     println(dot(a,b))\n",
    "# # end\n",
    "# Tx = Ty = 0\n",
    "# H_total = get_total_H(Nx, Ny, alpha, sp_basis, Tx, Ty, cut_off, PN, basis_cut_sp, basis_cut_mb)\n",
    "# get_eigenstates(basis_cut_mb, H_total, pn)[1]"
   ]
  },
  {
   "cell_type": "markdown",
   "id": "c856a10f-41b7-4bbe-afed-1aa586ef6051",
   "metadata": {},
   "source": [
    "# CHERN CALCULATION SECTION"
   ]
  },
  {
   "cell_type": "code",
   "execution_count": 56,
   "id": "0c89e386-1991-43c0-82f2-2277d5ac195b",
   "metadata": {},
   "outputs": [],
   "source": [
    "function findcol(M, col)                \n",
    "    @inbounds @views for c in axes(M, 2)\n",
    "       M[:,c] == col && return c       \n",
    "    end                                 \n",
    "    return nothing                      \n",
    "end\n",
    "col = [\n",
    "    1.0 + 0.0im;\n",
    " 0.0 + 0.0im;\n",
    " 0.0 + 0.0im;\n",
    " 0.0 + 0.0im;\n",
    " 0.0 + 0.0im;\n",
    " 0.0 + 0.0im;\n",
    " 0.0 + 0.0im;\n",
    " 0.0 + 0.0im;\n",
    " 0.0 + 0.0im;\n",
    " 0.0 + 0.0im\n",
    "]\n",
    "dropcol(M::AbstractMatrix, j) = M[:, deleteat!(collect(axes(M, 2)), j)];"
   ]
  },
  {
   "cell_type": "code",
   "execution_count": 32,
   "id": "03abc0ae-4b29-4ba3-8798-985b8077cb20",
   "metadata": {
    "tags": []
   },
   "outputs": [
    {
     "data": {
      "text/plain": [
       "0.0:1.2566370614359172:5.026548245743669"
      ]
     },
     "execution_count": 32,
     "metadata": {},
     "output_type": "execute_result"
    }
   ],
   "source": [
    "# Mesh Grid for Theta Space Parameter\n",
    "dx=2*pi/T_size; dy=dx;\n",
    "Tx=range(start=0, stop=2*pi-dx, step=dx)\n",
    "Ty=range(start=0, stop=2*pi-dy, step=dy)"
   ]
  },
  {
   "cell_type": "code",
   "execution_count": 135,
   "id": "311ed1c5-8f61-4997-a0a8-14008bbc354a",
   "metadata": {
    "tags": []
   },
   "outputs": [
    {
     "data": {
      "text/plain": [
       "Chern_Nums (generic function with 1 method)"
      ]
     },
     "execution_count": 135,
     "metadata": {},
     "output_type": "execute_result"
    }
   ],
   "source": [
    "function Chern_Nums(n1, n2)\n",
    "    \n",
    "    Sum=0\n",
    "    \n",
    "    for tx in range(start=1, stop=length(Tx))\n",
    "        for ty in range(start=1, stop=length(Ty))\n",
    "            \n",
    "            H_Total = get_total_H(Nx, Ny, alpha, sp_basis, Tx[tx], Ty[ty], cut_off, PN, basis_cut_sp, basis_cut_mb)\n",
    "            \n",
    "            w1, v1 = eigen(dense((H_Total+H_Total')/2).data)\n",
    "            \n",
    "            # sorting eigenvalues\n",
    "            i = sortperm(w1, by=real);w1 = w1[i]\n",
    "            # sorting eigenstates\n",
    "            v1 = v1[:,i]\n",
    "            \n",
    "            # if isapprox(v1[1,1], 0+0im, atol=0.1) == false\n",
    "            #     v1 = v1 ./ v1[1,1]\n",
    "            #     v1 = v1/norm(v1)\n",
    "            # end\n",
    "\n",
    "            drop_idx = findcol(v1, col)\n",
    "            v1 = dropcol(v1, drop_idx)\n",
    "            \n",
    "            # multiplet eigenstates\n",
    "            v1 = v1[:,n1:n2]\n",
    "            \n",
    "            #------------------------------------\n",
    "            H_Total = get_total_H(Nx, Ny, alpha, sp_basis, Tx[tx]+dx, Ty[ty], cut_off, PN, basis_cut_sp, basis_cut_mb)\n",
    "            \n",
    "            w2, v2 = eigen(dense((H_Total+H_Total')/2).data)\n",
    "            \n",
    "            i = sortperm(w2, by=real);w2 = w2[i]\n",
    "            v2 = v2[:,i]\n",
    "\n",
    "            # if isapprox(v2[1,1], 0+0im, atol=0.1) == false\n",
    "            #     v2 = v2 ./ v2[1,1]\n",
    "            #     v2 = v2/norm(v2)\n",
    "            # end\n",
    "\n",
    "            drop_idx = findcol(v2, col)\n",
    "            v2 = dropcol(v2, drop_idx)\n",
    "            \n",
    "            v2 = v2[:,n1:n2]\n",
    "            \n",
    "            #------------------------------------\n",
    "            H_Total = get_total_H(Nx, Ny, alpha, sp_basis, Tx[tx], Ty[ty]+dy, cut_off, PN, basis_cut_sp, basis_cut_mb)\n",
    "            \n",
    "            w3, v3 = eigen(dense((H_Total+H_Total')/2).data)\n",
    "            \n",
    "            i = sortperm(w3, by=real);w3 = w3[i]\n",
    "            v3 = v3[:,i]\n",
    "\n",
    "            # if isapprox(v3[1,1], 0+0im, atol=0.1) == false\n",
    "            #     v3 = v3 ./ v3[1,1]\n",
    "            #     v3 = v3/norm(v3)\n",
    "            # end\n",
    "\n",
    "            drop_idx = findcol(v3, col)\n",
    "            v3 = dropcol(v3, drop_idx)\n",
    "            \n",
    "            v3 = v3[:,n1:n2]\n",
    "            \n",
    "            #------------------------------------\n",
    "            H_Total = get_total_H(Nx, Ny, alpha, sp_basis, Tx[tx]+dx, Ty[ty]+dy, cut_off, PN, basis_cut_sp, basis_cut_mb)\n",
    "            \n",
    "            w4, v4 = eigen(dense((H_Total+H_Total')/2).data)\n",
    "            \n",
    "            i = sortperm(w4, by=real);w4 = w4[i]\n",
    "            v4 = v4[:,i]\n",
    "\n",
    "            # if isapprox(v4[1,1], 0+0im, atol=0.1) == false\n",
    "            #     v4 = v4 ./ v4[1,1]\n",
    "            #     v4 = v4/norm(v4)\n",
    "            # end\n",
    "\n",
    "            drop_idx = findcol(v4, col)\n",
    "            v4 = dropcol(v4, drop_idx)\n",
    "            \n",
    "            v4 = v4[:,n1:n2]\n",
    "            \n",
    "            #----------LINK VARIABLES------------\n",
    "            U1=det(adjoint(v1)*v2)\n",
    "            U1=U1/abs(U1)\n",
    "            U2=det(adjoint(v2)*v4)\n",
    "            U2=U2/abs(U2)\n",
    "            U3=det(adjoint(v3)*v4)\n",
    "            U3=U3/abs(U3)\n",
    "            U4=det(adjoint(v1)*v3)\n",
    "            U4=U4/abs(U4)\n",
    "            \n",
    "            #----------BERRY CURVATURE-----------\n",
    "            F=log(U1*U2*1/U3*1/U4)\n",
    "            Sum=Sum+F\n",
    "            \n",
    "        end\n",
    "    end\n",
    "    \n",
    "    return 1/(2*pi*1im)*Sum\n",
    "end"
   ]
  },
  {
   "cell_type": "code",
   "execution_count": 136,
   "id": "d1d0f59a-5568-4d40-bc25-a9f9e9026586",
   "metadata": {
    "tags": []
   },
   "outputs": [
    {
     "data": {
      "text/plain": [
       "-1.1089746373955864e-16 + 3.5339496460705774e-17im"
      ]
     },
     "execution_count": 136,
     "metadata": {},
     "output_type": "execute_result"
    }
   ],
   "source": [
    "Chern_Nums(1, 3)"
   ]
  },
  {
   "cell_type": "markdown",
   "id": "157a9d66-8c66-43d0-a2a5-82205db2edc1",
   "metadata": {},
   "source": [
    "# Check with \"Hofstadter MB Chern\" file"
   ]
  },
  {
   "cell_type": "code",
   "execution_count": 132,
   "id": "b920f040-f4d8-41ed-8d34-d6e8d2958c4a",
   "metadata": {},
   "outputs": [
    {
     "data": {
      "text/plain": [
       "10×9 Matrix{ComplexF64}:\n",
       "          0.0+0.0im          …           0.0+0.0im\n",
       "    -0.272886-0.0575786im       -1.52656e-16-1.38778e-17im\n",
       "   -0.0181575+0.0124418im       -1.10589e-17+7.58942e-18im\n",
       "    -0.702322+0.654582im        -2.35922e-16+2.15106e-16im\n",
       " -7.56339e-16+1.40166e-15im     -1.95156e-17-4.33681e-17im\n",
       "  3.83027e-15-2.87964e-16im  …  -2.67147e-16+3.46945e-18im\n",
       " -2.35922e-16+1.49186e-16im      5.63785e-18-1.34441e-17im\n",
       "  2.77556e-16+3.29597e-17im       -0.0263206-0.00798375im\n",
       "  1.11022e-16+1.11022e-16im       -0.0552838-0.0259299im\n",
       " -3.18827e-16-0.0im                 0.997755+0.0im"
      ]
     },
     "execution_count": 132,
     "metadata": {},
     "output_type": "execute_result"
    }
   ],
   "source": [
    "pn = 1\n",
    "tx = 2\n",
    "ty = 2\n",
    "#---\n",
    "H_Total = get_total_H(Nx, Ny, alpha, sp_basis, Tx[tx], Ty[ty], cut_off, PN, basis_cut_sp, basis_cut_mb)     \n",
    "w1, v1 = eigen(dense((H_Total+H_Total')/2).data)\n",
    "drop_idx = findcol(v1, col)\n",
    "v1 = dropcol(v1, drop_idx)\n",
    "#---\n",
    "H_Total = get_total_H(Nx, Ny, alpha, sp_basis, Tx[tx]+dx, Ty[ty], cut_off, PN, basis_cut_sp, basis_cut_mb)     \n",
    "w2, v2 = eigen(dense((H_Total+H_Total')/2).data)\n",
    "drop_idx = findcol(v2, col)\n",
    "v2 = dropcol(v2, drop_idx)\n",
    "#---\n",
    "H_Total = get_total_H(Nx, Ny, alpha, sp_basis, Tx[tx], Ty[ty]+dy, cut_off, PN, basis_cut_sp, basis_cut_mb)     \n",
    "w3, v3 = eigen(dense((H_Total+H_Total')/2).data)\n",
    "drop_idx = findcol(v3, col)\n",
    "v3 = dropcol(v3, drop_idx)\n",
    "#---\n",
    "H_Total = get_total_H(Nx, Ny, alpha, sp_basis, Tx[tx]+dx, Ty[ty]+dy, cut_off, PN, basis_cut_sp, basis_cut_mb)     \n",
    "w4, v4 = eigen(dense((H_Total+H_Total')/2).data)\n",
    "drop_idx = findcol(v4, col)\n",
    "v4 = dropcol(v4, drop_idx)\n",
    "#---\n",
    "# U1=det(adjoint(v1)*v2)\n",
    "# U1=U1/abs(U1)\n",
    "# println(U1)\n",
    "# U2=det(adjoint(v2)*v4)\n",
    "# U2=U2/abs(U2)\n",
    "# println(U2)\n",
    "# U3=det(adjoint(v3)*v4)\n",
    "# U3=U3/abs(U3)\n",
    "# println(U3)\n",
    "# U4=det(adjoint(v1)*v3)\n",
    "# U4=U4/abs(U4)\n",
    "# println(U4)"
   ]
  },
  {
   "cell_type": "code",
   "execution_count": 133,
   "id": "893e8721-daf4-4bd8-91f7-618ad15a3573",
   "metadata": {},
   "outputs": [
    {
     "data": {
      "text/plain": [
       "10-element Vector{Float64}:\n",
       " -2.5466393943271624\n",
       " -2.54663939432716\n",
       " -2.546639394327157\n",
       "  0.0\n",
       "  0.20750036611082442\n",
       "  0.20750036611082545\n",
       "  0.20750036611082567\n",
       "  2.339139028216333\n",
       "  2.3391390282163353\n",
       "  2.3391390282163362"
      ]
     },
     "execution_count": 133,
     "metadata": {},
     "output_type": "execute_result"
    }
   ],
   "source": [
    "w1"
   ]
  },
  {
   "cell_type": "code",
   "execution_count": 134,
   "id": "d3b9c35c-a1e8-4559-b593-c6e59217b8ed",
   "metadata": {},
   "outputs": [
    {
     "data": {
      "text/plain": [
       "10×9 Matrix{ComplexF64}:\n",
       "          0.0+0.0im                   0.0+0.0im          …  0.0+0.0im\n",
       "     0.142217+0.0198581im        0.337418+0.243865im        0.0+0.0im\n",
       "    -0.239493+0.0865135im        0.794149+0.40476im         0.0+0.0im\n",
       "      0.93695+0.191477im        0.0760329+0.162463im        0.0+0.0im\n",
       "  4.70312e-16-6.18727e-17im  -5.20714e-16-2.18237e-16im     0.0+0.0im\n",
       "  5.30345e-16+5.9649e-17im    2.27636e-16-2.46812e-17im  …  0.0+0.0im\n",
       "   2.4873e-16+7.60546e-18im   6.12928e-16+2.74883e-16im     0.0+0.0im\n",
       " -7.86804e-18-1.11336e-16im   1.01227e-16+1.77661e-16im     0.0+0.0im\n",
       "  1.70905e-17-2.13632e-18im   2.05086e-16+3.41811e-17im     0.0+0.0im\n",
       "          0.0+0.0im                   0.0+0.0im             1.0+0.0im"
      ]
     },
     "execution_count": 134,
     "metadata": {},
     "output_type": "execute_result"
    }
   ],
   "source": [
    "v1"
   ]
  },
  {
   "cell_type": "code",
   "execution_count": 137,
   "id": "bc5865c4-eaeb-44dc-9f8e-3dbf8de540c8",
   "metadata": {},
   "outputs": [
    {
     "data": {
      "text/plain": [
       "-0.9764095033990257 + 0.21592702858157442im"
      ]
     },
     "execution_count": 137,
     "metadata": {},
     "output_type": "execute_result"
    }
   ],
   "source": [
    "U1"
   ]
  },
  {
   "cell_type": "code",
   "execution_count": 138,
   "id": "da25162b-b493-4bcd-973f-96c1c708d5d9",
   "metadata": {},
   "outputs": [
    {
     "data": {
      "text/plain": [
       "0.8573655685056786 + 0.514707957914908im"
      ]
     },
     "execution_count": 138,
     "metadata": {},
     "output_type": "execute_result"
    }
   ],
   "source": [
    "U2"
   ]
  },
  {
   "cell_type": "code",
   "execution_count": 139,
   "id": "9db23151-4e68-44e0-af00-2080b18cf5da",
   "metadata": {},
   "outputs": [
    {
     "data": {
      "text/plain": [
       "-0.4631871192962307 - 0.8862605105261427im"
      ]
     },
     "execution_count": 139,
     "metadata": {},
     "output_type": "execute_result"
    }
   ],
   "source": [
    "U3"
   ]
  },
  {
   "cell_type": "code",
   "execution_count": 140,
   "id": "46710c87-bd77-4c31-b309-e02e7dbf7a53",
   "metadata": {},
   "outputs": [
    {
     "data": {
      "text/plain": [
       "0.7205629143460544 - 0.6933895632825176im"
      ]
     },
     "execution_count": 140,
     "metadata": {},
     "output_type": "execute_result"
    }
   ],
   "source": [
    "U4"
   ]
  }
 ],
 "metadata": {
  "kernelspec": {
   "display_name": "Julia 1.8.1",
   "language": "julia",
   "name": "julia-1.8"
  },
  "language_info": {
   "file_extension": ".jl",
   "mimetype": "application/julia",
   "name": "julia",
   "version": "1.8.1"
  }
 },
 "nbformat": 4,
 "nbformat_minor": 5
}
