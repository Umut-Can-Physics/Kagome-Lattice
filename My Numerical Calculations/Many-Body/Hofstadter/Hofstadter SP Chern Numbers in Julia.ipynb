{
 "cells": [
  {
   "cell_type": "code",
   "execution_count": 2,
   "id": "23b8256d",
   "metadata": {
    "tags": []
   },
   "outputs": [
    {
     "data": {
      "text/plain": [
       "Hofstadter_SP (generic function with 1 method)"
      ]
     },
     "execution_count": 2,
     "metadata": {},
     "output_type": "execute_result"
    }
   ],
   "source": [
    "using NBInclude\n",
    "@nbinclude(\"Hofstadter Single Particle in Theta Space.ipynb\")\n",
    "@nbinclude(\"Hofstadter Single Particle in Julia.ipynb\")"
   ]
  },
  {
   "cell_type": "code",
   "execution_count": 3,
   "id": "df2eae37",
   "metadata": {
    "tags": []
   },
   "outputs": [
    {
     "data": {
      "text/plain": [
       "true"
      ]
     },
     "execution_count": 3,
     "metadata": {},
     "output_type": "execute_result"
    }
   ],
   "source": [
    "Nx = Ny = 5\n",
    "alpha = 1/5\n",
    "Tx = Ty = 0\n",
    "periodicity = 0\n",
    "HSP_T(Nx, Ny, alpha, Tx, Ty) == Hofstadter_SP(Nx, Ny, alpha, periodicity) #check"
   ]
  },
  {
   "cell_type": "code",
   "execution_count": 8,
   "id": "8af081f2-9156-48f2-b1d1-7da5e70304b6",
   "metadata": {
    "tags": []
   },
   "outputs": [],
   "source": [
    "using LinearAlgebra"
   ]
  },
  {
   "cell_type": "code",
   "execution_count": 9,
   "id": "9b8bccbe-4333-4197-bb11-411ca7b0775a",
   "metadata": {
    "tags": []
   },
   "outputs": [
    {
     "data": {
      "text/plain": [
       "Eigen{ComplexF64, Float64, Matrix{ComplexF64}, Vector{Float64}}\n",
       "values:\n",
       "9-element Vector{Float64}:\n",
       " -2.6128790823021095\n",
       " -2.612879082302096\n",
       " -2.6128790823020873\n",
       "  0.36854446388968815\n",
       "  0.3685444638896898\n",
       "  0.36854446388969064\n",
       "  2.2443346184124118\n",
       "  2.244334618412412\n",
       "  2.2443346184124127\n",
       "vectors:\n",
       "9×9 Matrix{ComplexF64}:\n",
       " -0.346293-0.152583im  -0.0598026+0.103581im     …   0.211699+0.394462im\n",
       " 0.0876357-0.278051im   0.0646229+0.100644im        -0.192146-0.324522im\n",
       " 0.0277132-0.379545im  -0.0835113+0.381297im         0.250771+0.09372im\n",
       " -0.316786+0.271231im   -0.119472-0.00564297im      -0.134815-0.460673im\n",
       " -0.083809+0.299801im    0.119605+2.94018e-17im     0.0961471+0.0178297im\n",
       " -0.316032+0.13225im     0.275729-0.276288im     …  -0.163401+0.27115im\n",
       " -0.338153+0.224088im   -0.288457+0.262971im        -0.145154+0.337612im\n",
       " -0.251271+0.10533im    -0.377137+0.100644im        0.0142792-0.332031im\n",
       "       0.0+0.0im         -0.57735-0.0im                   0.0+0.0im"
      ]
     },
     "execution_count": 9,
     "metadata": {},
     "output_type": "execute_result"
    }
   ],
   "source": [
    "E0, U0 = eigen(HSP_T(3, 3, 1/3, 1, 1))"
   ]
  },
  {
   "cell_type": "code",
   "execution_count": 14,
   "id": "bc4f34d7-79d3-42a8-95c4-2bb945ca8080",
   "metadata": {
    "tags": []
   },
   "outputs": [
    {
     "name": "stdout",
     "output_type": "stream",
     "text": [
      "[1, 2, 3, 4, 5, 6, 7, 8, 9]\n"
     ]
    },
    {
     "data": {
      "text/plain": [
       "9×9 Matrix{ComplexF64}:\n",
       " -0.346293-0.152583im  -0.0598026+0.103581im     …   0.211699+0.394462im\n",
       " 0.0876357-0.278051im   0.0646229+0.100644im        -0.192146-0.324522im\n",
       " 0.0277132-0.379545im  -0.0835113+0.381297im         0.250771+0.09372im\n",
       " -0.316786+0.271231im   -0.119472-0.00564297im      -0.134815-0.460673im\n",
       " -0.083809+0.299801im    0.119605+2.94018e-17im     0.0961471+0.0178297im\n",
       " -0.316032+0.13225im     0.275729-0.276288im     …  -0.163401+0.27115im\n",
       " -0.338153+0.224088im   -0.288457+0.262971im        -0.145154+0.337612im\n",
       " -0.251271+0.10533im    -0.377137+0.100644im        0.0142792-0.332031im\n",
       "       0.0+0.0im         -0.57735-0.0im                   0.0+0.0im"
      ]
     },
     "execution_count": 14,
     "metadata": {},
     "output_type": "execute_result"
    }
   ],
   "source": [
    "# There is degeneracy which is needed \n",
    "i = sortperm(E0);println(i)\n",
    "sorted_U = U0[:,i]"
   ]
  },
  {
   "cell_type": "code",
   "execution_count": 21,
   "id": "49c477fd",
   "metadata": {
    "tags": []
   },
   "outputs": [
    {
     "data": {
      "text/plain": [
       "25-element Vector{Float64}:\n",
       " 0.0\n",
       " 0.25132741228718347\n",
       " 0.5026548245743669\n",
       " 0.7539822368615504\n",
       " 1.0053096491487339\n",
       " 1.2566370614359172\n",
       " 1.5079644737231008\n",
       " 1.7592918860102844\n",
       " 2.0106192982974678\n",
       " 2.261946710584651\n",
       " 2.5132741228718345\n",
       " 2.7646015351590183\n",
       " 3.0159289474462017\n",
       " 3.267256359733385\n",
       " 3.518583772020569\n",
       " 3.769911184307752\n",
       " 4.0212385965949355\n",
       " 4.272566008882119\n",
       " 4.523893421169302\n",
       " 4.775220833456486\n",
       " 5.026548245743669\n",
       " 5.277875658030853\n",
       " 5.529203070318037\n",
       " 5.7805304826052195\n",
       " 6.031857894892403"
      ]
     },
     "execution_count": 21,
     "metadata": {},
     "output_type": "execute_result"
    }
   ],
   "source": [
    "# Twisted Angle Space for Calculating Real Space Chern Numbers\n",
    "Tsize=25\n",
    "dx=2*pi/Tsize\n",
    "dy=dx\n",
    "Tx=collect(range(start=0, stop=2*pi, step=dx))\n",
    "Ty=collect(range(start=0, stop=2*pi, step=dy))"
   ]
  },
  {
   "cell_type": "code",
   "execution_count": 22,
   "id": "f7ea1852-0be7-4c9c-9a7c-6b2daf98c6ec",
   "metadata": {
    "tags": []
   },
   "outputs": [
    {
     "data": {
      "text/plain": [
       "9-element Vector{Float64}:\n",
       " -2.6128790823021095\n",
       " -2.612879082302096\n",
       " -2.6128790823020873\n",
       "  0.36854446388968815\n",
       "  0.3685444638896898\n",
       "  0.36854446388969064\n",
       "  2.2443346184124118\n",
       "  2.244334618412412\n",
       "  2.2443346184124127"
      ]
     },
     "execution_count": 22,
     "metadata": {},
     "output_type": "execute_result"
    }
   ],
   "source": [
    "E0"
   ]
  },
  {
   "cell_type": "code",
   "execution_count": 29,
   "id": "1c156987-a748-4b7c-b363-a1b188b5b368",
   "metadata": {
    "tags": []
   },
   "outputs": [
    {
     "data": {
      "text/plain": [
       "1.0000000000000018 - 3.300003801258741e-16im"
      ]
     },
     "execution_count": 29,
     "metadata": {},
     "output_type": "execute_result"
    }
   ],
   "source": [
    "function Chern_Nums(Nx, Ny, alpha, Tx, Ty, n1, n2)\n",
    "    \n",
    "    Sum = 0\n",
    "    \n",
    "    for tx in range(start=1, stop=length(Tx))\n",
    "        for ty in range(start=1, stop=length(Ty))\n",
    "            \n",
    "            w1, v1 = eigen(HSP_T(Nx, Ny, alpha, Tx[tx], Ty[ty]))\n",
    "            v1 = v1[:,n1:n2]\n",
    "            #------------------------------------\n",
    "            w2, v2 = eigen(HSP_T(Nx, Ny, alpha, Tx[tx]+dx, Ty[ty]))\n",
    "            v2 = v2[:,n1:n2]\n",
    "            #------------------------------------\n",
    "            w3, v3 = eigen(HSP_T(Nx, Ny, alpha, Tx[tx], Ty[ty]+dy))\n",
    "            v3 = v3[:,n1:n2]\n",
    "            #------------------------------------\n",
    "            w4, v4 = eigen(HSP_T(Nx, Ny, alpha, Tx[tx]+dx, Ty[ty]+dy))\n",
    "            v4 = v4[:,n1:n2]\n",
    "            #----------LINK VARIABLES------------\n",
    "            U1=det(*(adjoint(v1),v2))\n",
    "            U1=U1/abs(U1)\n",
    "            U2=det(*(adjoint(v2),v4))\n",
    "            U2=U2/abs(U2)\n",
    "            U3=det(*(adjoint(v3),v4))\n",
    "            U3=U3/abs(U3)\n",
    "            U4=det(*(adjoint(v1),v3))\n",
    "            U4=U4/abs(U4)\n",
    "            #----------BERRY CURVATURE-----------\n",
    "            F=log(U1*U2*1/U3*1/U4)\n",
    "            Sum\n",
    "            Sum=Sum+F\n",
    "        end\n",
    "    end\n",
    "    \n",
    "    return 1/(2*pi*1im)*Sum\n",
    "end\n",
    "\n",
    "Chern_Nums(3, 3, 1/3, Tx, Ty, 7, 9)"
   ]
  }
 ],
 "metadata": {
  "kernelspec": {
   "display_name": "Julia 1.7.2",
   "language": "julia",
   "name": "julia-1.7"
  },
  "language_info": {
   "file_extension": ".jl",
   "mimetype": "application/julia",
   "name": "julia",
   "version": "1.7.2"
  }
 },
 "nbformat": 4,
 "nbformat_minor": 5
}
