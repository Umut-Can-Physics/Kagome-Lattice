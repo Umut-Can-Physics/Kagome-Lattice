{
 "cells": [
  {
   "cell_type": "code",
   "execution_count": 1,
   "id": "e5df28cb",
   "metadata": {},
   "outputs": [],
   "source": [
    "using LinearAlgebra, NBInclude"
   ]
  },
  {
   "cell_type": "code",
   "execution_count": 2,
   "id": "23b8256d",
   "metadata": {},
   "outputs": [
    {
     "name": "stdout",
     "output_type": "stream",
     "text": [
      "Nx=5, Ny=5"
     ]
    }
   ],
   "source": [
    "@nbinclude(\"(M)_Hofstadter_Real_Space_in_Julia.ipynb\")"
   ]
  },
  {
   "cell_type": "code",
   "execution_count": 3,
   "id": "d804d493",
   "metadata": {},
   "outputs": [
    {
     "data": {
      "text/plain": [
       "0.2"
      ]
     },
     "execution_count": 3,
     "metadata": {},
     "output_type": "execute_result"
    }
   ],
   "source": [
    "p=1;q=Ny #q değeri, ly'nin tam böleni olmak zorunda\n",
    "alpha = p/q"
   ]
  },
  {
   "cell_type": "code",
   "execution_count": 4,
   "id": "3f88c61b",
   "metadata": {},
   "outputs": [
    {
     "data": {
      "text/plain": [
       "HSP_T (generic function with 1 method)"
      ]
     },
     "execution_count": 4,
     "metadata": {},
     "output_type": "execute_result"
    }
   ],
   "source": [
    "# Single-Particle Hamiltonian with Twisted Angle (Bound-to-Bound Phases)\n",
    "function HSP_T(Tx,Ty)\n",
    "    H = zeros(Complex{Float64},Nx*Ny,Nx*Ny)\n",
    "    for m in 1:Nx*Ny\n",
    "        for n in 1:Nx*Ny\n",
    "            if m in PerBC()[n] \n",
    "                \n",
    "                if abs(xy[m,1]-xy[n,1])==Nx-1\n",
    "                    if xy[m,1] > xy[n,1]\n",
    "                        H[m,n] = -exp(-1im*2*pi*alpha*xy[m,2])*exp(-1im*Tx)\n",
    "                    elseif xy[m,1] < xy[n,1]\n",
    "                        H[m,n] = -exp(1im*2*pi*alpha*xy[m,2])*exp(1im*Tx)\n",
    "                    end\n",
    "                    \n",
    "                elseif abs(xy[m,2]-xy[n,2])==Ny-1\n",
    "                    if xy[m,2] > xy[n,2]\n",
    "                        H[m,n] = -exp(1im*Ty)\n",
    "                    elseif xy[m,2] < xy[n,2]\n",
    "                        H[m,n] = -exp(-1im*Ty)\n",
    "                    end\n",
    "                    \n",
    "                else\n",
    "                    if xy[m,1] > xy[n,1]\n",
    "                        H[m,n] = -exp(1im*2*pi*alpha*xy[m,2])\n",
    "                    elseif xy[m,1] < xy[n,1]\n",
    "                        H[m,n] = -exp(-1im*2*pi*alpha*xy[m,2])\n",
    "                    else\n",
    "                        H[m,n] = -exp(0)\n",
    "                    end\n",
    "                end\n",
    "                \n",
    "            else\n",
    "                H[m,n] = 0\n",
    "            end\n",
    "            \n",
    "        end\n",
    "    end\n",
    "    return H\n",
    "end"
   ]
  },
  {
   "cell_type": "code",
   "execution_count": 5,
   "id": "df2eae37",
   "metadata": {},
   "outputs": [
    {
     "data": {
      "text/plain": [
       "true"
      ]
     },
     "execution_count": 5,
     "metadata": {},
     "output_type": "execute_result"
    }
   ],
   "source": [
    "HSP_T(0,0) == HSP(Nx,Ny,alpha) #check"
   ]
  },
  {
   "cell_type": "code",
   "execution_count": 6,
   "id": "13ba9a5d",
   "metadata": {},
   "outputs": [
    {
     "data": {
      "text/plain": [
       "true"
      ]
     },
     "execution_count": 6,
     "metadata": {},
     "output_type": "execute_result"
    }
   ],
   "source": [
    "E0, U0 = eigen(HSP_T(9,9))\n",
    "# There is degeneracy which is needed \n",
    "i = sortperm(E0) #E'ler sıralı! Yani U'lar da sıralı demektir!\n",
    "sorted = U0[:,i] #E'lere göre U'ları yeniden sıralayalım.\n",
    "U0==sorted #U'lar zaten sıralıymış !"
   ]
  },
  {
   "cell_type": "markdown",
   "id": "24ed8da4",
   "metadata": {},
   "source": [
    "Pythonda yazılımış kodla kıyaslandığında E'leri aynı çıktığı halde U'ları aynı sırada gelmiyor?! Halbuki Julia'da ve Python'da da sıralı biçimde hesaplandı!"
   ]
  },
  {
   "cell_type": "code",
   "execution_count": 7,
   "id": "d0176c66",
   "metadata": {},
   "outputs": [
    {
     "data": {
      "text/plain": [
       "25-element Vector{Float64}:\n",
       " -2.9052202568834344\n",
       " -2.9052202568834296\n",
       " -2.905220256883429\n",
       " -2.9052202568834287\n",
       " -2.905220256883423\n",
       " -1.3346819479735532\n",
       " -1.334681947973552\n",
       " -1.3346819479735474\n",
       " -1.3346819479735448\n",
       " -1.3346819479735397\n",
       "  0.3380856139569663\n",
       "  0.3380856139569676\n",
       "  0.33808561395696995\n",
       "  0.33808561395697145\n",
       "  0.33808561395697306\n",
       "  0.9380087150690739\n",
       "  0.9380087150690756\n",
       "  0.9380087150690769\n",
       "  0.9380087150690785\n",
       "  0.9380087150690791\n",
       "  2.9638078758309363\n",
       "  2.9638078758309367\n",
       "  2.9638078758309367\n",
       "  2.963807875830937\n",
       "  2.9638078758309376"
      ]
     },
     "execution_count": 7,
     "metadata": {},
     "output_type": "execute_result"
    }
   ],
   "source": [
    "E0"
   ]
  },
  {
   "cell_type": "code",
   "execution_count": 8,
   "id": "29a3f111",
   "metadata": {},
   "outputs": [
    {
     "data": {
      "text/plain": [
       "25-element Vector{ComplexF64}:\n",
       "  -0.21619116964636123 - 0.07585442268631704im\n",
       "   -0.3196518239737828 - 0.023770974423968964im\n",
       "  -0.34705925934244874 + 0.026475465178481084im\n",
       "    -0.187834330153973 + 0.14383532565055845im\n",
       "   0.07427448481274852 + 0.12918517174403565im\n",
       "  -0.21781071397609847 - 0.08295203938192464im\n",
       "  0.008079069471999507 - 0.18184504291108022im\n",
       "   0.26150294268044827 - 0.19308296781569156im\n",
       "    0.3397098787967304 - 0.11720875713574454im\n",
       "     0.302753471544226 - 0.08714843181829447im\n",
       "  -0.11291266870850787 + 0.06207224902428557im\n",
       " -0.038906369913069457 + 0.07147028770286097im\n",
       "  -0.09725675447838913 + 0.11575210453355174im\n",
       "  -0.18254736239763944 - 0.06547670278082963im\n",
       "  -0.03674091944847736 - 0.18164507153713955im\n",
       " -0.029935560327016178 + 0.011171373265538905im\n",
       "    -0.098685926536161 - 0.05026831146630034im\n",
       " -0.041886898204377465 + 0.00524550477737961im\n",
       "   0.03111954757079681 + 0.04668666696689681im\n",
       " -0.045877948914320725 - 0.002117700464645593im\n",
       "   0.08370115488011448 - 0.0001852894412497294im\n",
       "   0.09863727345352177 - 0.17387765387175586im\n",
       "  -0.04730803708113306 - 0.1753059965138812im\n",
       "  -0.07212178592195768 - 0.01808238365071583im\n",
       " -0.009604850899110336 - 0.0im"
      ]
     },
     "execution_count": 8,
     "metadata": {},
     "output_type": "execute_result"
    }
   ],
   "source": [
    "U0[:,2]"
   ]
  },
  {
   "cell_type": "code",
   "execution_count": 9,
   "id": "49c477fd",
   "metadata": {},
   "outputs": [
    {
     "data": {
      "text/plain": [
       "11-element Vector{Float64}:\n",
       " 0.0\n",
       " 0.6283185307179586\n",
       " 1.2566370614359172\n",
       " 1.8849555921538759\n",
       " 2.5132741228718345\n",
       " 3.141592653589793\n",
       " 3.7699111843077517\n",
       " 4.39822971502571\n",
       " 5.026548245743669\n",
       " 5.654866776461628\n",
       " 6.283185307179586"
      ]
     },
     "execution_count": 9,
     "metadata": {},
     "output_type": "execute_result"
    }
   ],
   "source": [
    "# Twisted Angle Space for Calculating Real Space Chern Numbers\n",
    "Tsize=10\n",
    "dx=2*pi/Tsize\n",
    "dy=dx\n",
    "Tx=collect(range(start=0, stop=2*pi, step=dx))\n",
    "Ty=collect(range(start=0, stop=2*pi, step=dy))"
   ]
  },
  {
   "cell_type": "code",
   "execution_count": 10,
   "id": "3417100c",
   "metadata": {},
   "outputs": [
    {
     "name": "stdout",
     "output_type": "stream",
     "text": [
      "2.910525236838632 - 2.221368987253896e-16im\n"
     ]
    }
   ],
   "source": [
    "# Chern Calculation\n",
    "Sum=0\n",
    "n1=1;n2=6\n",
    "for tx in range(start=1, stop=length(Tx))\n",
    "    for ty in range(start=1, stop=length(Ty))\n",
    "        w1, v1 = eigen(HSP_T(Tx[tx], Ty[ty]))\n",
    "        v1 = v1[:,n1:n2]\n",
    "        #------------------------------------\n",
    "        w2, v2 = eigen(HSP_T(Tx[tx]+dx, Ty[ty]))\n",
    "        v2 = v2[:,n1:n2]\n",
    "        #------------------------------------\n",
    "        w3, v3 = eigen(HSP_T(Tx[tx], Ty[ty]+dy))\n",
    "        v3 = v3[:,n1:n2]\n",
    "        #------------------------------------\n",
    "        w4, v4 = eigen(HSP_T(Tx[tx]+dx, Ty[ty]+dy))\n",
    "        v4 = v4[:,n1:n2]\n",
    "        #----------LINK VARIABLES------------\n",
    "        U1=det(*(adjoint(v1),v2))\n",
    "        U1=U1/abs(U1)\n",
    "        U2=det(*(adjoint(v2),v4))\n",
    "        U2=U2/abs(U2)\n",
    "        U3=det(*(adjoint(v3),v4))\n",
    "        U3=U3/abs(U3)\n",
    "        U4=det(*(adjoint(v1),v3))\n",
    "        U4=U4/abs(U4)\n",
    "        #----------BERRY CURVATURE-----------\n",
    "        F=log(U1*U2*1/U3*1/U4)\n",
    "        global Sum\n",
    "        Sum=Sum+F\n",
    "    end\n",
    "end\n",
    "Chern=1/(2*pi*1im)*Sum\n",
    "println(Chern)"
   ]
  }
 ],
 "metadata": {
  "kernelspec": {
   "display_name": "Julia 1.7.2",
   "language": "julia",
   "name": "julia-1.7"
  },
  "language_info": {
   "file_extension": ".jl",
   "mimetype": "application/julia",
   "name": "julia",
   "version": "1.7.2"
  }
 },
 "nbformat": 4,
 "nbformat_minor": 5
}
