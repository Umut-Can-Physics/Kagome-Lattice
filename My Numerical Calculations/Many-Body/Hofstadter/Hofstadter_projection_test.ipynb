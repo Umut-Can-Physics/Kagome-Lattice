{
 "cells": [
  {
   "cell_type": "code",
   "execution_count": 7,
   "id": "associate-border",
   "metadata": {},
   "outputs": [
    {
     "data": {
      "text/plain": [
       "Hofstadter_Finite_U (generic function with 1 method)"
      ]
     },
     "execution_count": 7,
     "metadata": {},
     "output_type": "execute_result"
    }
   ],
   "source": [
    "using NBInclude\n",
    "@nbinclude(\"Hofstadter First Band Approximation.ipynb\"; regex=r\"#.*executeme\")"
   ]
  },
  {
   "cell_type": "code",
   "execution_count": 43,
   "id": "seventh-stock",
   "metadata": {},
   "outputs": [
    {
     "data": {
      "text/plain": [
       "2"
      ]
     },
     "execution_count": 43,
     "metadata": {},
     "output_type": "execute_result"
    }
   ],
   "source": [
    "Nx = 4; Ny = 4; N=Nx*Ny; \n",
    "q = Nx; N_cut = q\n",
    "PN = 4\n",
    "U = 2"
   ]
  },
  {
   "cell_type": "code",
   "execution_count": 44,
   "id": "extreme-stations",
   "metadata": {},
   "outputs": [
    {
     "data": {
      "text/plain": [
       "get_Hofs_H_mb (generic function with 7 methods)"
      ]
     },
     "execution_count": 44,
     "metadata": {},
     "output_type": "execute_result"
    }
   ],
   "source": [
    "function get_Hofs_H_mb(Nx = 5, Ny = 5, q = 5, N_cut = 5, PN = 2, U = 2)\n",
    "    N=Nx*Ny\n",
    "    basis = NLevelBasis(N)\n",
    "    \n",
    "    H1 = Hofstadter_SP_Op(Nx, Ny, 1/q, basis)\n",
    "    sub_states = get_sub_states(H1, N_cut);\n",
    "    b_sub, P, Pt = get_Projector(sub_states, basis);\n",
    "    #print(H1, P)\n",
    "    \n",
    "    H1_sub = Subspace_Op(H1, P, Pt);\n",
    "    #print(H1_sub)\n",
    "    num_sub_list = get_num_sub_list(basis,P,Pt);\n",
    "    \n",
    "    Vint_bsub2 = get_Vint_bsub2_einsum(P, Pt, b_sub, N_cut);\n",
    "\n",
    "    states_mb = bosonstates(b_sub, PN) \n",
    "    basis_mb = ManyBodyBasis(b_sub, states_mb)\n",
    "    H1_mb = get_MB_Op(basis_mb, b_sub, H1_sub)\n",
    "    num_mb_list = get_num_mb_list(basis_mb, b_sub, num_sub_list);\n",
    "    Vint_mb = manybodyoperator(basis_mb, Vint_bsub2);\n",
    "    \n",
    "    H_mb = H1_mb + Vint_mb;\n",
    "    return (H_mb+dagger(H_mb))/2\n",
    "end"
   ]
  },
  {
   "cell_type": "code",
   "execution_count": 45,
   "id": "indie-exploration",
   "metadata": {
    "tags": []
   },
   "outputs": [
    {
     "name": "stdout",
     "output_type": "stream",
     "text": [
      "282.934859 seconds (6.43 G allocations: 624.039 GiB, 18.30% gc time, 0.23% compilation time)\n"
     ]
    }
   ],
   "source": [
    "@time H_mb = get_Hofs_H_mb(Nx, Ny, q, N_cut, PN, U);"
   ]
  },
  {
   "cell_type": "code",
   "execution_count": 46,
   "id": "guilty-universe",
   "metadata": {},
   "outputs": [
    {
     "name": "stdout",
     "output_type": "stream",
     "text": [
      "  0.070079 seconds (43.11 k allocations: 7.022 MiB, 48.00% compilation time)\n"
     ]
    },
    {
     "data": {
      "text/plain": [
       "495-element Vector{Float64}:\n",
       " -13.446109484899667\n",
       " -13.446109484899665\n",
       " -13.446109484899665\n",
       " -13.44610948489966\n",
       " -13.44610948489966\n",
       " -13.446109484899656\n",
       " -13.446109484899651\n",
       " -13.446109484899647\n",
       " -13.446109484899646\n",
       " -13.378262036362093\n",
       " -13.378262036362074\n",
       " -13.378262036362072\n",
       " -13.378262036362068\n",
       "   ⋮\n",
       " -12.780615401537094\n",
       " -12.780615401537089\n",
       " -12.780615401537077\n",
       " -12.780097359560706\n",
       " -12.780097359560699\n",
       " -12.780097359560688\n",
       " -12.780097359560683\n",
       " -12.78009735956068\n",
       " -12.780097359560674\n",
       " -12.780097359560672\n",
       " -12.78009735956067\n",
       " -12.780097359560655"
      ]
     },
     "execution_count": 46,
     "metadata": {},
     "output_type": "execute_result"
    }
   ],
   "source": [
    "@time E_mb = eigenenergies(H_mb)"
   ]
  },
  {
   "cell_type": "code",
   "execution_count": 47,
   "id": "double-cooperative",
   "metadata": {},
   "outputs": [
    {
     "name": "stdout",
     "output_type": "stream",
     "text": [
      "  0.047517 seconds (4.86 k allocations: 8.196 MiB, 22.43% compilation time)\n"
     ]
    },
    {
     "data": {
      "text/plain": [
       "495-element Vector{Float64}:\n",
       " -13.446109484899667\n",
       " -13.446109484899665\n",
       " -13.446109484899665\n",
       " -13.44610948489966\n",
       " -13.44610948489966\n",
       " -13.446109484899656\n",
       " -13.446109484899651\n",
       " -13.446109484899647\n",
       " -13.446109484899646\n",
       " -13.378262036362093\n",
       " -13.378262036362074\n",
       " -13.378262036362072\n",
       " -13.378262036362068\n",
       "   ⋮\n",
       " -12.780615401537094\n",
       " -12.780615401537089\n",
       " -12.780615401537077\n",
       " -12.780097359560706\n",
       " -12.780097359560699\n",
       " -12.780097359560688\n",
       " -12.780097359560683\n",
       " -12.78009735956068\n",
       " -12.780097359560674\n",
       " -12.780097359560672\n",
       " -12.78009735956067\n",
       " -12.780097359560655"
      ]
     },
     "execution_count": 47,
     "metadata": {},
     "output_type": "execute_result"
    }
   ],
   "source": [
    "@time E_mb = eigenenergies(dense(H_mb))"
   ]
  },
  {
   "cell_type": "code",
   "execution_count": null,
   "id": "surprising-salad",
   "metadata": {},
   "outputs": [],
   "source": []
  },
  {
   "cell_type": "code",
   "execution_count": null,
   "id": "olympic-throat",
   "metadata": {},
   "outputs": [],
   "source": []
  }
 ],
 "metadata": {
  "kernelspec": {
   "display_name": "Julia 1.9.0-rc1",
   "language": "julia",
   "name": "julia-1.9"
  },
  "language_info": {
   "file_extension": ".jl",
   "mimetype": "application/julia",
   "name": "julia",
   "version": "1.9.0"
  }
 },
 "nbformat": 4,
 "nbformat_minor": 5
}
