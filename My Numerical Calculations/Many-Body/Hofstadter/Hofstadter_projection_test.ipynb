{
 "cells": [
  {
   "cell_type": "code",
   "execution_count": 7,
   "id": "opposed-possession",
   "metadata": {},
   "outputs": [
    {
     "data": {
      "text/plain": [
       "Hofstadter_Finite_U (generic function with 1 method)"
      ]
     },
     "execution_count": 7,
     "metadata": {},
     "output_type": "execute_result"
    }
   ],
   "source": [
    "using NBInclude\n",
    "@nbinclude(\"Hofstadter First Band Approximation.ipynb\"; regex=r\"#.*executeme\")"
   ]
  },
  {
   "cell_type": "code",
   "execution_count": 43,
   "id": "unlikely-bullet",
   "metadata": {},
   "outputs": [
    {
     "data": {
      "text/plain": [
       "2"
      ]
     },
     "execution_count": 43,
     "metadata": {},
     "output_type": "execute_result"
    }
   ],
   "source": [
    "Nx = 9; Ny = 9; N=Nx*Ny; \n",
    "q = Nx; N_cut = q\n",
    "PN = 4\n",
    "U = 2"
   ]
  },
  {
   "cell_type": "code",
   "execution_count": 44,
   "id": "greenhouse-fundamental",
   "metadata": {},
   "outputs": [
    {
     "data": {
      "text/plain": [
       "get_Hofs_H_mb (generic function with 7 methods)"
      ]
     },
     "execution_count": 44,
     "metadata": {},
     "output_type": "execute_result"
    }
   ],
   "source": [
    "function get_Hofs_H_mb(Nx = 5, Ny = 5, q = 5, N_cut = 5, PN = 2, U = 2)\n",
    "    N=Nx*Ny\n",
    "    basis = NLevelBasis(N)\n",
    "    \n",
    "    H1 = Hofstadter_SP_Op(Nx, Ny, 1/q, basis)\n",
    "    sub_states = get_sub_states(H1, N_cut);\n",
    "    b_sub, P, Pt = get_Projector(sub_states, basis);\n",
    "    #print(H1, P)\n",
    "    \n",
    "    H1_sub = Subspace_Op(H1, P, Pt);\n",
    "    #print(H1_sub)\n",
    "    num_sub_list = get_num_sub_list(basis,P,Pt);\n",
    "    \n",
    "    Vint_bsub2 = get_Vint_bsub2_einsum(P, Pt, b_sub, N_cut);\n",
    "\n",
    "    states_mb = bosonstates(b_sub, PN) \n",
    "    basis_mb = ManyBodyBasis(b_sub, states_mb)\n",
    "    H1_mb = get_MB_Op(basis_mb, b_sub, H1_sub)\n",
    "    num_mb_list = get_num_mb_list(basis_mb, b_sub, num_sub_list);\n",
    "    Vint_mb = manybodyoperator(basis_mb, Vint_bsub2);\n",
    "    \n",
    "    H_mb = H1_mb + Vint_mb;\n",
    "    return (H_mb+dagger(H_mb))/2\n",
    "end"
   ]
  },
  {
   "cell_type": "code",
   "execution_count": null,
   "id": "magnetic-yield",
   "metadata": {
    "tags": []
   },
   "outputs": [],
   "source": [
    "@time H_mb = get_Hofs_H_mb(Nx, Ny, q, N_cut, PN, U);"
   ]
  },
  {
   "cell_type": "code",
   "execution_count": null,
   "id": "assigned-blood",
   "metadata": {},
   "outputs": [],
   "source": [
    "@time E_mb = eigenenergies(H_mb)"
   ]
  },
  {
   "cell_type": "code",
   "execution_count": null,
   "id": "faced-doctrine",
   "metadata": {},
   "outputs": [],
   "source": [
    "@time E_mb = eigenenergies(dense(H_mb))"
   ]
  },
  {
   "cell_type": "code",
   "execution_count": null,
   "id": "fossil-fossil",
   "metadata": {},
   "outputs": [],
   "source": []
  },
  {
   "cell_type": "code",
   "execution_count": null,
   "id": "driven-mongolia",
   "metadata": {},
   "outputs": [],
   "source": []
  },
  {
   "cell_type": "code",
   "execution_count": null,
   "id": "meaningful-adoption",
   "metadata": {},
   "outputs": [],
   "source": []
  },
  {
   "cell_type": "code",
   "execution_count": null,
   "id": "robust-northeast",
   "metadata": {},
   "outputs": [],
   "source": []
  }
 ],
 "metadata": {
  "kernelspec": {
   "display_name": "Julia 1.9.0-rc1",
   "language": "julia",
   "name": "julia-1.9"
  },
  "language_info": {
   "file_extension": ".jl",
   "mimetype": "application/julia",
   "name": "julia",
   "version": "1.9.0"
  }
 },
 "nbformat": 4,
 "nbformat_minor": 5
}
