{
 "cells": [
  {
   "cell_type": "markdown",
   "id": "female-cooler",
   "metadata": {},
   "source": [
    "# INTERACTING CASE"
   ]
  },
  {
   "cell_type": "code",
   "execution_count": 1,
   "id": "wireless-touch",
   "metadata": {
    "tags": []
   },
   "outputs": [
    {
     "data": {
      "text/plain": [
       "Hofstadter_SP (generic function with 1 method)"
      ]
     },
     "execution_count": 1,
     "metadata": {},
     "output_type": "execute_result"
    }
   ],
   "source": [
    "# executeme\n",
    "\n",
    "using NBInclude\n",
    "@nbinclude(\"Hofstadter Single Particle in Julia.ipynb\")"
   ]
  },
  {
   "cell_type": "code",
   "execution_count": 2,
   "id": "grateful-least",
   "metadata": {
    "tags": []
   },
   "outputs": [],
   "source": [
    "using QuantumOptics"
   ]
  },
  {
   "cell_type": "code",
   "execution_count": 3,
   "id": "metric-middle",
   "metadata": {
    "tags": []
   },
   "outputs": [],
   "source": [
    "Nx = 4; Ny = 6; N=Nx*Ny; q = Ny; alpha=1/q\n",
    "PN = 2\n",
    "U = 2;"
   ]
  },
  {
   "cell_type": "code",
   "execution_count": 4,
   "id": "surgical-campus",
   "metadata": {
    "tags": []
   },
   "outputs": [
    {
     "data": {
      "text/plain": [
       "get_Bosonic_MB_Basis (generic function with 1 method)"
      ]
     },
     "execution_count": 4,
     "metadata": {},
     "output_type": "execute_result"
    }
   ],
   "source": [
    "# executeme\n",
    "\n",
    "function get_Bosonic_MB_Basis(N,PN)\n",
    "   \n",
    "    NBasis = NLevelBasis(N)\n",
    "    NStates = bosonstates(NBasis, PN)\n",
    "    \n",
    "    NBasis_MB = ManyBodyBasis(NBasis, NStates)\n",
    "    \n",
    "    return NBasis_MB, NBasis\n",
    "end"
   ]
  },
  {
   "cell_type": "code",
   "execution_count": 5,
   "id": "cooperative-personality",
   "metadata": {
    "tags": []
   },
   "outputs": [
    {
     "data": {
      "text/plain": [
       "(ManyBody(onebodybasis=NLevel(N=24), states:300), NLevel(N=24))"
      ]
     },
     "execution_count": 5,
     "metadata": {},
     "output_type": "execute_result"
    }
   ],
   "source": [
    "basis_mb, basis = get_Bosonic_MB_Basis(N,PN)"
   ]
  },
  {
   "cell_type": "code",
   "execution_count": 6,
   "id": "eastern-resource",
   "metadata": {
    "tags": []
   },
   "outputs": [
    {
     "data": {
      "text/plain": [
       "get_Kinetic_Part (generic function with 1 method)"
      ]
     },
     "execution_count": 6,
     "metadata": {},
     "output_type": "execute_result"
    }
   ],
   "source": [
    "# executeme\n",
    "\n",
    "function get_Kinetic_Part(N, MB_Basis, Sp_Op)\n",
    "    KT = SparseOperator(MB_Basis)\n",
    "    for m in 1:N\n",
    "        for n in 1:N\n",
    "            KT = KT + Sp_Op[m,n] * transition(MB_Basis, m, n)\n",
    "        end\n",
    "    end\n",
    "    \n",
    "    return KT\n",
    "end"
   ]
  },
  {
   "cell_type": "code",
   "execution_count": 7,
   "id": "developmental-sunrise",
   "metadata": {
    "tags": []
   },
   "outputs": [
    {
     "data": {
      "text/plain": [
       "Operator(dim=300x300)\n",
       "  basis: ManyBody(onebodybasis=NLevel(N=24), states:300)sparse([1, 25, 48, 70, 91, 111, 130, 148, 165, 181  …  246, 256, 265, 273, 280, 286, 291, 295, 298, 300], [1, 25, 48, 70, 91, 111, 130, 148, 165, 181  …  246, 256, 265, 273, 280, 286, 291, 295, 298, 300], ComplexF64[2.0000000000000004 + 0.0im, 2.0000000000000004 + 0.0im, 2.0000000000000004 + 0.0im, 2.0000000000000004 + 0.0im, 2.0000000000000004 + 0.0im, 2.0000000000000004 + 0.0im, 2.0000000000000004 + 0.0im, 2.0000000000000004 + 0.0im, 2.0000000000000004 + 0.0im, 2.0000000000000004 + 0.0im  …  2.0000000000000004 + 0.0im, 2.0000000000000004 + 0.0im, 2.0000000000000004 + 0.0im, 2.0000000000000004 + 0.0im, 2.0000000000000004 + 0.0im, 2.0000000000000004 + 0.0im, 2.0000000000000004 + 0.0im, 2.0000000000000004 + 0.0im, 2.0000000000000004 + 0.0im, 2.0000000000000004 + 0.0im], 300, 300)"
      ]
     },
     "execution_count": 7,
     "metadata": {},
     "output_type": "execute_result"
    }
   ],
   "source": [
    "basis2 = basis ⊗ basis\n",
    "\n",
    "# interaction : at_i at_i a_i a_i = at_i a_i at_i a_i - at_i a_i = n_i n_i - n_i\n",
    "    \n",
    "Vint2 = SparseOperator(basis2)\n",
    "\n",
    "for n in 1:N\n",
    "    Vint2 += U/2*transition(basis,n,n)⊗transition(basis,n,n)\n",
    "end\n",
    "\n",
    "Vint_mb = manybodyoperator(basis_mb, Vint2)"
   ]
  },
  {
   "cell_type": "code",
   "execution_count": 8,
   "id": "polyphonic-participant",
   "metadata": {
    "tags": []
   },
   "outputs": [
    {
     "data": {
      "text/plain": [
       "get_Int_Part (generic function with 1 method)"
      ]
     },
     "execution_count": 8,
     "metadata": {},
     "output_type": "execute_result"
    }
   ],
   "source": [
    "# executeme\n",
    "\n",
    "function get_Int_Part(N, MB_Basis, U)\n",
    "    IT = SparseOperator(MB_Basis)\n",
    "    for m in 1:N\n",
    "        IT = IT + U/2 * number(MB_Basis, m) * ( number(MB_Basis, m) - identityoperator(MB_Basis) ) \n",
    "    end\n",
    "    \n",
    "    return IT\n",
    "end"
   ]
  },
  {
   "cell_type": "code",
   "execution_count": 9,
   "id": "joint-baghdad",
   "metadata": {
    "tags": []
   },
   "outputs": [
    {
     "data": {
      "text/plain": [
       "Operator(dim=300x300)\n",
       "  basis: ManyBody(onebodybasis=NLevel(N=24), states:300)sparse([1, 25, 48, 70, 91, 111, 130, 148, 165, 181  …  246, 256, 265, 273, 280, 286, 291, 295, 298, 300], [1, 25, 48, 70, 91, 111, 130, 148, 165, 181  …  246, 256, 265, 273, 280, 286, 291, 295, 298, 300], ComplexF64[2.0 + 0.0im, 2.0 + 0.0im, 2.0 + 0.0im, 2.0 + 0.0im, 2.0 + 0.0im, 2.0 + 0.0im, 2.0 + 0.0im, 2.0 + 0.0im, 2.0 + 0.0im, 2.0 + 0.0im  …  2.0 + 0.0im, 2.0 + 0.0im, 2.0 + 0.0im, 2.0 + 0.0im, 2.0 + 0.0im, 2.0 + 0.0im, 2.0 + 0.0im, 2.0 + 0.0im, 2.0 + 0.0im, 2.0 + 0.0im], 300, 300)"
      ]
     },
     "execution_count": 9,
     "metadata": {},
     "output_type": "execute_result"
    }
   ],
   "source": [
    "Int_mb = get_Int_Part(N, basis_mb, U)"
   ]
  },
  {
   "cell_type": "code",
   "execution_count": 10,
   "id": "sharing-consensus",
   "metadata": {
    "tags": []
   },
   "outputs": [
    {
     "data": {
      "text/plain": [
       "Hofstadter_Finite_U (generic function with 1 method)"
      ]
     },
     "execution_count": 10,
     "metadata": {},
     "output_type": "execute_result"
    }
   ],
   "source": [
    "# executeme\n",
    "\n",
    "function Hofstadter_Finite_U(Nx, Ny, alpha, PN, U)\n",
    "    \n",
    "    N = Nx*Ny\n",
    "    \n",
    "    MB_Basis, Basis = get_Bosonic_MB_Basis(N,PN)\n",
    "    \n",
    "    Sp_Op = Hofstadter_SP(Nx, Ny, alpha, 0)\n",
    "    Kin = get_Kinetic_Part(N, MB_Basis, Sp_Op)\n",
    "    \n",
    "    Int = get_Int_Part(N, MB_Basis, U)\n",
    "    \n",
    "    H = Kin + Int\n",
    "    \n",
    "    return H\n",
    "end"
   ]
  },
  {
   "cell_type": "markdown",
   "id": "female-fifteen",
   "metadata": {},
   "source": [
    "1) If particle number=1 and U=0, Hofstadter Finite U energies has to be equal to Hofstadter Single Particle energies."
   ]
  },
  {
   "cell_type": "code",
   "execution_count": 41,
   "id": "exact-fluid",
   "metadata": {
    "tags": []
   },
   "outputs": [
    {
     "data": {
      "text/plain": [
       "Operator(dim=300x300)\n",
       "  basis: ManyBody(onebodybasis=NLevel(N=24), states:300)sparse([1, 2, 4, 5, 21, 1, 3, 6, 22, 25  …  289, 293, 297, 298, 300, 90, 290, 294, 299, 300], [1, 1, 1, 1, 1, 2, 2, 2, 2, 2  …  299, 299, 299, 299, 299, 300, 300, 300, 300, 300], ComplexF64[2.0 + 0.0im, -1.4142135623730951 + 0.0im, -1.4142135623730951 + 0.0im, -1.4142135623730951 + 0.0im, -1.4142135623730951 + 0.0im, -1.4142135623730951 + 0.0im, -1.0 + 0.0im, -1.0 + 0.0im, -1.0 + 0.0im, -1.4142135623730951 + 0.0im  …  -1.0 + 0.0im, -0.49999999999999933 + 0.866025403784439im, -0.49999999999999933 - 0.866025403784439im, -0.7071067811865467 - 1.2247448713915896im, -0.7071067811865467 + 1.2247448713915896im, -1.4142135623730951 + 0.0im, -1.4142135623730951 + 0.0im, -0.7071067811865467 + 1.2247448713915896im, -0.7071067811865467 - 1.2247448713915896im, 2.0 + 0.0im], 300, 300)"
      ]
     },
     "execution_count": 41,
     "metadata": {},
     "output_type": "execute_result"
    }
   ],
   "source": [
    "H_mb = Hofstadter_Finite_U(Nx, Ny, 1/q, PN, U)"
   ]
  },
  {
   "cell_type": "code",
   "execution_count": 42,
   "id": "armed-vacation",
   "metadata": {
    "tags": []
   },
   "outputs": [
    {
     "name": "stdout",
     "output_type": "stream",
     "text": [
      "INFO: Defaulting to sparse diagonalization.\n",
      "        If storing the full operator is possible, it might be faster to do\n",
      "        eigenstates(dense(op)). Set info=false to turn off this message.\n"
     ]
    },
    {
     "data": {
      "text/plain": [
       "6-element Vector{ComplexF64}:\n",
       "  -6.189546526310846 - 1.681181981339578e-18im\n",
       "  -6.172051272414452 + 3.5632989292623006e-17im\n",
       "  -6.106593512195771 - 8.033459600622996e-18im\n",
       "  -6.106593512195758 + 1.493611163483624e-17im\n",
       "  -6.089455627974625 + 3.11437278116496e-17im\n",
       " -6.0894556279745675 - 1.7113027254720113e-17im"
      ]
     },
     "execution_count": 42,
     "metadata": {},
     "output_type": "execute_result"
    }
   ],
   "source": [
    "eigenenergies(H_mb)"
   ]
  },
  {
   "cell_type": "code",
   "execution_count": 43,
   "id": "legendary-lotus",
   "metadata": {
    "tags": []
   },
   "outputs": [
    {
     "data": {
      "text/plain": [
       "300-element Vector{Float64}:\n",
       " -6.189546526310846\n",
       " -6.172051272414461\n",
       " -6.106593512195772\n",
       " -6.106593512195753\n",
       " -6.08945562797458\n",
       " -6.089455627974562\n",
       " -6.034423786568465\n",
       " -6.030892925681546\n",
       " -6.013868847522769\n",
       " -6.012398054183008\n",
       " -4.599466816455044\n",
       " -4.554664188283461\n",
       " -4.531321123644692\n",
       "  ⋮\n",
       "  5.016068480188707\n",
       "  5.102876013597193\n",
       "  6.175937388260237\n",
       "  6.191605127143246\n",
       "  6.365063702172781\n",
       "  6.365063702172825\n",
       "  6.399794017959993\n",
       "  6.399794017960019\n",
       "  6.45194590390373\n",
       "  6.482373769780084\n",
       "  6.498202684099704\n",
       "  6.523791239602321"
      ]
     },
     "execution_count": 43,
     "metadata": {},
     "output_type": "execute_result"
    }
   ],
   "source": [
    "eigenenergies(dense(Hofstadter_Finite_U(Nx,Ny,1/q,PN,U)))"
   ]
  },
  {
   "cell_type": "code",
   "execution_count": 44,
   "id": "subject-performer",
   "metadata": {
    "tags": []
   },
   "outputs": [
    {
     "data": {
      "text/plain": [
       "Eigen{ComplexF64, Float64, Matrix{ComplexF64}, Vector{Float64}}\n",
       "values:\n",
       "16-element Vector{Float64}:\n",
       " -2.8284271247461885\n",
       " -2.8284271247461876\n",
       " -2.8284271247461867\n",
       " -2.828427124746186\n",
       " -1.5885259206217286e-16\n",
       " -6.158601528183403e-17\n",
       "  4.110075077717591e-17\n",
       "  1.186225349076427e-16\n",
       "  3.1086244689504383e-15\n",
       "  3.1086244689504383e-15\n",
       "  3.1086244689504383e-15\n",
       "  4.884981308350689e-15\n",
       "  2.8284271247461894\n",
       "  2.8284271247461903\n",
       "  2.8284271247461903\n",
       "  2.8284271247461903\n",
       "vectors:\n",
       "16×16 Matrix{ComplexF64}:\n",
       "  -0.0328925-0.277237im    …        -0.125+0.125im\n",
       "  0.00332264-0.279204im                0.0+0.0im\n",
       "   -0.249043-0.192656im             -0.125-0.125im\n",
       "   -0.129583-0.242553im           0.353553+0.0im\n",
       " -0.00171222-0.197646im                0.0+0.0im\n",
       "    0.187957-0.0518321im   …           0.0+0.0im\n",
       "   -0.270744+0.0548745im               0.0+0.0im\n",
       "  -0.0845807-0.216151im              -0.25-1.54074e-33im\n",
       "   -0.136269-0.00925389im            0.125+0.125im\n",
       "    0.275779-0.136432im                0.0+0.0im\n",
       "   -0.352419+0.0753268im   …         0.125-0.125im\n",
       "    0.142874-0.0997811im          0.353553+0.0im\n",
       "   0.0349386-0.0647406im      -8.32667e-17-0.353553im\n",
       "    0.103376-0.267983im               0.25-2.77556e-17im\n",
       "   -0.307395-0.0780312im               0.0+0.353553im\n",
       "         0.0+0.0im         …          -0.5-0.0im"
      ]
     },
     "execution_count": 44,
     "metadata": {},
     "output_type": "execute_result"
    }
   ],
   "source": [
    "using LinearAlgebra\n",
    "eigen(Hofstadter_SP(4, 4, 1/4, 0))"
   ]
  },
  {
   "cell_type": "code",
   "execution_count": 45,
   "id": "first-latest",
   "metadata": {
    "tags": []
   },
   "outputs": [
    {
     "data": {
      "text/plain": [
       "get_Fermionic_MB_Basis (generic function with 1 method)"
      ]
     },
     "execution_count": 45,
     "metadata": {},
     "output_type": "execute_result"
    }
   ],
   "source": [
    "function get_Fermionic_MB_Basis(N,PN)\n",
    "    b_hard = NLevelBasis(N)\n",
    "    states_hard = fermionstates(b_hard, [PN])\n",
    "    b_mb_hard = ManyBodyBasis(b_hard, states_hard)\n",
    "    \n",
    "    return b_mb_hard\n",
    "end"
   ]
  },
  {
   "cell_type": "code",
   "execution_count": 46,
   "id": "successful-surrey",
   "metadata": {
    "tags": []
   },
   "outputs": [
    {
     "data": {
      "text/plain": [
       "Hofstadter_Hard_Core (generic function with 1 method)"
      ]
     },
     "execution_count": 46,
     "metadata": {},
     "output_type": "execute_result"
    }
   ],
   "source": [
    "function Hofstadter_Hard_Core(Nx, Ny, alpha, PN, U)\n",
    "    \n",
    "    N = Nx*Ny\n",
    "    \n",
    "    MB_Basis = get_Fermionic_MB_Basis(N,PN)\n",
    "    \n",
    "    Sp_Op = Hofstadter_SP(Nx, Ny, alpha, 0)\n",
    "    Kin = get_Kinetic_Part(N, MB_Basis, Sp_Op)\n",
    "    \n",
    "    Int = get_Int_Part(N, MB_Basis, U)\n",
    "    \n",
    "    H = Kin + Int\n",
    "    \n",
    "    return H\n",
    "end"
   ]
  },
  {
   "cell_type": "markdown",
   "id": "supposed-tokyo",
   "metadata": {},
   "source": [
    "If U>>1, Hofstadter Finite U energies converges at Hofstadter Hard Core energies."
   ]
  },
  {
   "cell_type": "code",
   "execution_count": 47,
   "id": "latest-garlic",
   "metadata": {},
   "outputs": [
    {
     "data": {
      "image/svg+xml": [
       "<?xml version=\"1.0\" encoding=\"utf-8\"?>\n",
       "<svg xmlns=\"http://www.w3.org/2000/svg\" xmlns:xlink=\"http://www.w3.org/1999/xlink\" width=\"600\" height=\"400\" viewBox=\"0 0 2400 1600\">\n",
       "<defs>\n",
       "  <clipPath id=\"clip630\">\n",
       "    <rect x=\"0\" y=\"0\" width=\"2400\" height=\"1600\"/>\n",
       "  </clipPath>\n",
       "</defs>\n",
       "<path clip-path=\"url(#clip630)\" d=\"M0 1600 L2400 1600 L2400 0 L0 0  Z\" fill=\"#ffffff\" fill-rule=\"evenodd\" fill-opacity=\"1\"/>\n",
       "<defs>\n",
       "  <clipPath id=\"clip631\">\n",
       "    <rect x=\"480\" y=\"0\" width=\"1681\" height=\"1600\"/>\n",
       "  </clipPath>\n",
       "</defs>\n",
       "<path clip-path=\"url(#clip630)\" d=\"M232.389 1423.18 L2352.76 1423.18 L2352.76 47.2441 L232.389 47.2441  Z\" fill=\"#ffffff\" fill-rule=\"evenodd\" fill-opacity=\"1\"/>\n",
       "<defs>\n",
       "  <clipPath id=\"clip632\">\n",
       "    <rect x=\"232\" y=\"47\" width=\"2121\" height=\"1377\"/>\n",
       "  </clipPath>\n",
       "</defs>\n",
       "<polyline clip-path=\"url(#clip632)\" style=\"stroke:#000000; stroke-linecap:round; stroke-linejoin:round; stroke-width:2; stroke-opacity:0.1; fill:none\" points=\"285.71,1423.18 285.71,47.2441 \"/>\n",
       "<polyline clip-path=\"url(#clip632)\" style=\"stroke:#000000; stroke-linecap:round; stroke-linejoin:round; stroke-width:2; stroke-opacity:0.1; fill:none\" points=\"954.722,1423.18 954.722,47.2441 \"/>\n",
       "<polyline clip-path=\"url(#clip632)\" style=\"stroke:#000000; stroke-linecap:round; stroke-linejoin:round; stroke-width:2; stroke-opacity:0.1; fill:none\" points=\"1623.73,1423.18 1623.73,47.2441 \"/>\n",
       "<polyline clip-path=\"url(#clip632)\" style=\"stroke:#000000; stroke-linecap:round; stroke-linejoin:round; stroke-width:2; stroke-opacity:0.1; fill:none\" points=\"2292.75,1423.18 2292.75,47.2441 \"/>\n",
       "<polyline clip-path=\"url(#clip630)\" style=\"stroke:#000000; stroke-linecap:round; stroke-linejoin:round; stroke-width:4; stroke-opacity:1; fill:none\" points=\"232.389,1423.18 2352.76,1423.18 \"/>\n",
       "<polyline clip-path=\"url(#clip630)\" style=\"stroke:#000000; stroke-linecap:round; stroke-linejoin:round; stroke-width:4; stroke-opacity:1; fill:none\" points=\"285.71,1423.18 285.71,1404.28 \"/>\n",
       "<polyline clip-path=\"url(#clip630)\" style=\"stroke:#000000; stroke-linecap:round; stroke-linejoin:round; stroke-width:4; stroke-opacity:1; fill:none\" points=\"954.722,1423.18 954.722,1404.28 \"/>\n",
       "<polyline clip-path=\"url(#clip630)\" style=\"stroke:#000000; stroke-linecap:round; stroke-linejoin:round; stroke-width:4; stroke-opacity:1; fill:none\" points=\"1623.73,1423.18 1623.73,1404.28 \"/>\n",
       "<polyline clip-path=\"url(#clip630)\" style=\"stroke:#000000; stroke-linecap:round; stroke-linejoin:round; stroke-width:4; stroke-opacity:1; fill:none\" points=\"2292.75,1423.18 2292.75,1404.28 \"/>\n",
       "<path clip-path=\"url(#clip630)\" d=\"M285.71 1454.1 Q282.099 1454.1 280.27 1457.66 Q278.464 1461.2 278.464 1468.33 Q278.464 1475.44 280.27 1479.01 Q282.099 1482.55 285.71 1482.55 Q289.344 1482.55 291.149 1479.01 Q292.978 1475.44 292.978 1468.33 Q292.978 1461.2 291.149 1457.66 Q289.344 1454.1 285.71 1454.1 M285.71 1450.39 Q291.52 1450.39 294.575 1455 Q297.654 1459.58 297.654 1468.33 Q297.654 1477.06 294.575 1481.67 Q291.52 1486.25 285.71 1486.25 Q279.899 1486.25 276.821 1481.67 Q273.765 1477.06 273.765 1468.33 Q273.765 1459.58 276.821 1455 Q279.899 1450.39 285.71 1450.39 Z\" fill=\"#000000\" fill-rule=\"nonzero\" fill-opacity=\"1\" /><path clip-path=\"url(#clip630)\" d=\"M914.328 1481.64 L921.967 1481.64 L921.967 1455.28 L913.657 1456.95 L913.657 1452.69 L921.921 1451.02 L926.597 1451.02 L926.597 1481.64 L934.236 1481.64 L934.236 1485.58 L914.328 1485.58 L914.328 1481.64 Z\" fill=\"#000000\" fill-rule=\"nonzero\" fill-opacity=\"1\" /><path clip-path=\"url(#clip630)\" d=\"M953.68 1454.1 Q950.069 1454.1 948.24 1457.66 Q946.435 1461.2 946.435 1468.33 Q946.435 1475.44 948.24 1479.01 Q950.069 1482.55 953.68 1482.55 Q957.314 1482.55 959.12 1479.01 Q960.948 1475.44 960.948 1468.33 Q960.948 1461.2 959.12 1457.66 Q957.314 1454.1 953.68 1454.1 M953.68 1450.39 Q959.49 1450.39 962.546 1455 Q965.624 1459.58 965.624 1468.33 Q965.624 1477.06 962.546 1481.67 Q959.49 1486.25 953.68 1486.25 Q947.87 1486.25 944.791 1481.67 Q941.736 1477.06 941.736 1468.33 Q941.736 1459.58 944.791 1455 Q947.87 1450.39 953.68 1450.39 Z\" fill=\"#000000\" fill-rule=\"nonzero\" fill-opacity=\"1\" /><path clip-path=\"url(#clip630)\" d=\"M983.842 1454.1 Q980.231 1454.1 978.402 1457.66 Q976.596 1461.2 976.596 1468.33 Q976.596 1475.44 978.402 1479.01 Q980.231 1482.55 983.842 1482.55 Q987.476 1482.55 989.282 1479.01 Q991.11 1475.44 991.11 1468.33 Q991.11 1461.2 989.282 1457.66 Q987.476 1454.1 983.842 1454.1 M983.842 1450.39 Q989.652 1450.39 992.707 1455 Q995.786 1459.58 995.786 1468.33 Q995.786 1477.06 992.707 1481.67 Q989.652 1486.25 983.842 1486.25 Q978.032 1486.25 974.953 1481.67 Q971.897 1477.06 971.897 1468.33 Q971.897 1459.58 974.953 1455 Q978.032 1450.39 983.842 1450.39 Z\" fill=\"#000000\" fill-rule=\"nonzero\" fill-opacity=\"1\" /><path clip-path=\"url(#clip630)\" d=\"M1587.43 1481.64 L1603.75 1481.64 L1603.75 1485.58 L1581.8 1485.58 L1581.8 1481.64 Q1584.46 1478.89 1589.05 1474.26 Q1593.65 1469.61 1594.83 1468.27 Q1597.08 1465.74 1597.96 1464.01 Q1598.86 1462.25 1598.86 1460.56 Q1598.86 1457.8 1596.92 1456.07 Q1595 1454.33 1591.89 1454.33 Q1589.69 1454.33 1587.24 1455.09 Q1584.81 1455.86 1582.03 1457.41 L1582.03 1452.69 Q1584.86 1451.55 1587.31 1450.97 Q1589.76 1450.39 1591.8 1450.39 Q1597.17 1450.39 1600.37 1453.08 Q1603.56 1455.77 1603.56 1460.26 Q1603.56 1462.39 1602.75 1464.31 Q1601.96 1466.2 1599.86 1468.8 Q1599.28 1469.47 1596.18 1472.69 Q1593.07 1475.88 1587.43 1481.64 Z\" fill=\"#000000\" fill-rule=\"nonzero\" fill-opacity=\"1\" /><path clip-path=\"url(#clip630)\" d=\"M1623.56 1454.1 Q1619.95 1454.1 1618.12 1457.66 Q1616.31 1461.2 1616.31 1468.33 Q1616.31 1475.44 1618.12 1479.01 Q1619.95 1482.55 1623.56 1482.55 Q1627.19 1482.55 1629 1479.01 Q1630.83 1475.44 1630.83 1468.33 Q1630.83 1461.2 1629 1457.66 Q1627.19 1454.1 1623.56 1454.1 M1623.56 1450.39 Q1629.37 1450.39 1632.43 1455 Q1635.5 1459.58 1635.5 1468.33 Q1635.5 1477.06 1632.43 1481.67 Q1629.37 1486.25 1623.56 1486.25 Q1617.75 1486.25 1614.67 1481.67 Q1611.62 1477.06 1611.62 1468.33 Q1611.62 1459.58 1614.67 1455 Q1617.75 1450.39 1623.56 1450.39 Z\" fill=\"#000000\" fill-rule=\"nonzero\" fill-opacity=\"1\" /><path clip-path=\"url(#clip630)\" d=\"M1653.72 1454.1 Q1650.11 1454.1 1648.28 1457.66 Q1646.48 1461.2 1646.48 1468.33 Q1646.48 1475.44 1648.28 1479.01 Q1650.11 1482.55 1653.72 1482.55 Q1657.36 1482.55 1659.16 1479.01 Q1660.99 1475.44 1660.99 1468.33 Q1660.99 1461.2 1659.16 1457.66 Q1657.36 1454.1 1653.72 1454.1 M1653.72 1450.39 Q1659.53 1450.39 1662.59 1455 Q1665.67 1459.58 1665.67 1468.33 Q1665.67 1477.06 1662.59 1481.67 Q1659.53 1486.25 1653.72 1486.25 Q1647.91 1486.25 1644.83 1481.67 Q1641.78 1477.06 1641.78 1468.33 Q1641.78 1459.58 1644.83 1455 Q1647.91 1450.39 1653.72 1450.39 Z\" fill=\"#000000\" fill-rule=\"nonzero\" fill-opacity=\"1\" /><path clip-path=\"url(#clip630)\" d=\"M2266.51 1466.95 Q2269.86 1467.66 2271.74 1469.93 Q2273.64 1472.2 2273.64 1475.53 Q2273.64 1480.65 2270.12 1483.45 Q2266.6 1486.25 2260.12 1486.25 Q2257.94 1486.25 2255.63 1485.81 Q2253.34 1485.39 2250.88 1484.54 L2250.88 1480.02 Q2252.83 1481.16 2255.14 1481.74 Q2257.46 1482.32 2259.98 1482.32 Q2264.38 1482.32 2266.67 1480.58 Q2268.98 1478.84 2268.98 1475.53 Q2268.98 1472.48 2266.83 1470.77 Q2264.7 1469.03 2260.88 1469.03 L2256.85 1469.03 L2256.85 1465.19 L2261.07 1465.19 Q2264.52 1465.19 2266.35 1463.82 Q2268.17 1462.43 2268.17 1459.84 Q2268.17 1457.18 2266.28 1455.77 Q2264.4 1454.33 2260.88 1454.33 Q2258.96 1454.33 2256.76 1454.75 Q2254.56 1455.16 2251.92 1456.04 L2251.92 1451.88 Q2254.59 1451.14 2256.9 1450.77 Q2259.24 1450.39 2261.3 1450.39 Q2266.62 1450.39 2269.72 1452.83 Q2272.83 1455.23 2272.83 1459.35 Q2272.83 1462.22 2271.18 1464.21 Q2269.54 1466.18 2266.51 1466.95 Z\" fill=\"#000000\" fill-rule=\"nonzero\" fill-opacity=\"1\" /><path clip-path=\"url(#clip630)\" d=\"M2292.5 1454.1 Q2288.89 1454.1 2287.06 1457.66 Q2285.26 1461.2 2285.26 1468.33 Q2285.26 1475.44 2287.06 1479.01 Q2288.89 1482.55 2292.5 1482.55 Q2296.14 1482.55 2297.94 1479.01 Q2299.77 1475.44 2299.77 1468.33 Q2299.77 1461.2 2297.94 1457.66 Q2296.14 1454.1 2292.5 1454.1 M2292.5 1450.39 Q2298.31 1450.39 2301.37 1455 Q2304.45 1459.58 2304.45 1468.33 Q2304.45 1477.06 2301.37 1481.67 Q2298.31 1486.25 2292.5 1486.25 Q2286.69 1486.25 2283.61 1481.67 Q2280.56 1477.06 2280.56 1468.33 Q2280.56 1459.58 2283.61 1455 Q2286.69 1450.39 2292.5 1450.39 Z\" fill=\"#000000\" fill-rule=\"nonzero\" fill-opacity=\"1\" /><path clip-path=\"url(#clip630)\" d=\"M2322.66 1454.1 Q2319.05 1454.1 2317.22 1457.66 Q2315.42 1461.2 2315.42 1468.33 Q2315.42 1475.44 2317.22 1479.01 Q2319.05 1482.55 2322.66 1482.55 Q2326.3 1482.55 2328.1 1479.01 Q2329.93 1475.44 2329.93 1468.33 Q2329.93 1461.2 2328.1 1457.66 Q2326.3 1454.1 2322.66 1454.1 M2322.66 1450.39 Q2328.47 1450.39 2331.53 1455 Q2334.61 1459.58 2334.61 1468.33 Q2334.61 1477.06 2331.53 1481.67 Q2328.47 1486.25 2322.66 1486.25 Q2316.85 1486.25 2313.78 1481.67 Q2310.72 1477.06 2310.72 1468.33 Q2310.72 1459.58 2313.78 1455 Q2316.85 1450.39 2322.66 1450.39 Z\" fill=\"#000000\" fill-rule=\"nonzero\" fill-opacity=\"1\" /><path clip-path=\"url(#clip630)\" d=\"M1307.5 1546.53 L1307.5 1568.04 L1301.64 1568.04 L1301.64 1546.72 Q1301.64 1541.66 1299.67 1539.14 Q1297.7 1536.63 1293.75 1536.63 Q1289.01 1536.63 1286.27 1539.65 Q1283.53 1542.68 1283.53 1547.9 L1283.53 1568.04 L1277.65 1568.04 L1277.65 1532.4 L1283.53 1532.4 L1283.53 1537.93 Q1285.63 1534.72 1288.47 1533.13 Q1291.33 1531.54 1295.06 1531.54 Q1301.2 1531.54 1304.35 1535.36 Q1307.5 1539.14 1307.5 1546.53 Z\" fill=\"#000000\" fill-rule=\"nonzero\" fill-opacity=\"1\" /><polyline clip-path=\"url(#clip632)\" style=\"stroke:#000000; stroke-linecap:round; stroke-linejoin:round; stroke-width:2; stroke-opacity:0.1; fill:none\" points=\"232.389,1308.7 2352.76,1308.7 \"/>\n",
       "<polyline clip-path=\"url(#clip632)\" style=\"stroke:#000000; stroke-linecap:round; stroke-linejoin:round; stroke-width:2; stroke-opacity:0.1; fill:none\" points=\"232.389,1003.48 2352.76,1003.48 \"/>\n",
       "<polyline clip-path=\"url(#clip632)\" style=\"stroke:#000000; stroke-linecap:round; stroke-linejoin:round; stroke-width:2; stroke-opacity:0.1; fill:none\" points=\"232.389,698.263 2352.76,698.263 \"/>\n",
       "<polyline clip-path=\"url(#clip632)\" style=\"stroke:#000000; stroke-linecap:round; stroke-linejoin:round; stroke-width:2; stroke-opacity:0.1; fill:none\" points=\"232.389,393.046 2352.76,393.046 \"/>\n",
       "<polyline clip-path=\"url(#clip632)\" style=\"stroke:#000000; stroke-linecap:round; stroke-linejoin:round; stroke-width:2; stroke-opacity:0.1; fill:none\" points=\"232.389,87.8298 2352.76,87.8298 \"/>\n",
       "<polyline clip-path=\"url(#clip630)\" style=\"stroke:#000000; stroke-linecap:round; stroke-linejoin:round; stroke-width:4; stroke-opacity:1; fill:none\" points=\"232.389,1423.18 232.389,47.2441 \"/>\n",
       "<polyline clip-path=\"url(#clip630)\" style=\"stroke:#000000; stroke-linecap:round; stroke-linejoin:round; stroke-width:4; stroke-opacity:1; fill:none\" points=\"232.389,1308.7 251.287,1308.7 \"/>\n",
       "<polyline clip-path=\"url(#clip630)\" style=\"stroke:#000000; stroke-linecap:round; stroke-linejoin:round; stroke-width:4; stroke-opacity:1; fill:none\" points=\"232.389,1003.48 251.287,1003.48 \"/>\n",
       "<polyline clip-path=\"url(#clip630)\" style=\"stroke:#000000; stroke-linecap:round; stroke-linejoin:round; stroke-width:4; stroke-opacity:1; fill:none\" points=\"232.389,698.263 251.287,698.263 \"/>\n",
       "<polyline clip-path=\"url(#clip630)\" style=\"stroke:#000000; stroke-linecap:round; stroke-linejoin:round; stroke-width:4; stroke-opacity:1; fill:none\" points=\"232.389,393.046 251.287,393.046 \"/>\n",
       "<polyline clip-path=\"url(#clip630)\" style=\"stroke:#000000; stroke-linecap:round; stroke-linejoin:round; stroke-width:4; stroke-opacity:1; fill:none\" points=\"232.389,87.8298 251.287,87.8298 \"/>\n",
       "<path clip-path=\"url(#clip630)\" d=\"M184.445 1294.49 Q180.834 1294.49 179.005 1298.06 Q177.2 1301.6 177.2 1308.73 Q177.2 1315.84 179.005 1319.4 Q180.834 1322.94 184.445 1322.94 Q188.079 1322.94 189.885 1319.4 Q191.713 1315.84 191.713 1308.73 Q191.713 1301.6 189.885 1298.06 Q188.079 1294.49 184.445 1294.49 M184.445 1290.79 Q190.255 1290.79 193.311 1295.4 Q196.389 1299.98 196.389 1308.73 Q196.389 1317.46 193.311 1322.06 Q190.255 1326.65 184.445 1326.65 Q178.635 1326.65 175.556 1322.06 Q172.501 1317.46 172.501 1308.73 Q172.501 1299.98 175.556 1295.4 Q178.635 1290.79 184.445 1290.79 Z\" fill=\"#000000\" fill-rule=\"nonzero\" fill-opacity=\"1\" /><path clip-path=\"url(#clip630)\" d=\"M149.306 1016.82 L165.626 1016.82 L165.626 1020.76 L143.681 1020.76 L143.681 1016.82 Q146.343 1014.07 150.927 1009.44 Q155.533 1004.79 156.714 1003.44 Q158.959 1000.92 159.839 999.185 Q160.741 997.426 160.741 995.736 Q160.741 992.982 158.797 991.245 Q156.876 989.509 153.774 989.509 Q151.575 989.509 149.121 990.273 Q146.691 991.037 143.913 992.588 L143.913 987.866 Q146.737 986.732 149.191 986.153 Q151.644 985.574 153.681 985.574 Q159.052 985.574 162.246 988.259 Q165.44 990.944 165.44 995.435 Q165.44 997.565 164.63 999.486 Q163.843 1001.38 161.737 1003.98 Q161.158 1004.65 158.056 1007.87 Q154.954 1011.06 149.306 1016.82 Z\" fill=\"#000000\" fill-rule=\"nonzero\" fill-opacity=\"1\" /><path clip-path=\"url(#clip630)\" d=\"M175.487 986.199 L193.843 986.199 L193.843 990.134 L179.769 990.134 L179.769 998.606 Q180.788 998.259 181.806 998.097 Q182.825 997.912 183.843 997.912 Q189.63 997.912 193.01 1001.08 Q196.389 1004.25 196.389 1009.67 Q196.389 1015.25 192.917 1018.35 Q189.445 1021.43 183.126 1021.43 Q180.95 1021.43 178.681 1021.06 Q176.436 1020.69 174.028 1019.95 L174.028 1015.25 Q176.112 1016.38 178.334 1016.94 Q180.556 1017.5 183.033 1017.5 Q187.038 1017.5 189.375 1015.39 Q191.713 1013.28 191.713 1009.67 Q191.713 1006.06 189.375 1003.95 Q187.038 1001.85 183.033 1001.85 Q181.158 1001.85 179.283 1002.26 Q177.431 1002.68 175.487 1003.56 L175.487 986.199 Z\" fill=\"#000000\" fill-rule=\"nonzero\" fill-opacity=\"1\" /><path clip-path=\"url(#clip630)\" d=\"M144.329 680.983 L162.686 680.983 L162.686 684.918 L148.612 684.918 L148.612 693.39 Q149.63 693.043 150.649 692.881 Q151.667 692.696 152.686 692.696 Q158.473 692.696 161.852 695.867 Q165.232 699.038 165.232 704.455 Q165.232 710.033 161.76 713.135 Q158.288 716.214 151.968 716.214 Q149.792 716.214 147.524 715.844 Q145.279 715.473 142.871 714.733 L142.871 710.033 Q144.954 711.168 147.177 711.723 Q149.399 712.279 151.876 712.279 Q155.88 712.279 158.218 710.172 Q160.556 708.066 160.556 704.455 Q160.556 700.844 158.218 698.737 Q155.88 696.631 151.876 696.631 Q150.001 696.631 148.126 697.047 Q146.274 697.464 144.329 698.344 L144.329 680.983 Z\" fill=\"#000000\" fill-rule=\"nonzero\" fill-opacity=\"1\" /><path clip-path=\"url(#clip630)\" d=\"M184.445 684.061 Q180.834 684.061 179.005 687.626 Q177.2 691.168 177.2 698.297 Q177.2 705.404 179.005 708.969 Q180.834 712.51 184.445 712.51 Q188.079 712.51 189.885 708.969 Q191.713 705.404 191.713 698.297 Q191.713 691.168 189.885 687.626 Q188.079 684.061 184.445 684.061 M184.445 680.358 Q190.255 680.358 193.311 684.964 Q196.389 689.547 196.389 698.297 Q196.389 707.024 193.311 711.631 Q190.255 716.214 184.445 716.214 Q178.635 716.214 175.556 711.631 Q172.501 707.024 172.501 698.297 Q172.501 689.547 175.556 684.964 Q178.635 680.358 184.445 680.358 Z\" fill=\"#000000\" fill-rule=\"nonzero\" fill-opacity=\"1\" /><path clip-path=\"url(#clip630)\" d=\"M144.098 375.766 L166.32 375.766 L166.32 377.757 L153.774 410.326 L148.89 410.326 L160.695 379.701 L144.098 379.701 L144.098 375.766 Z\" fill=\"#000000\" fill-rule=\"nonzero\" fill-opacity=\"1\" /><path clip-path=\"url(#clip630)\" d=\"M175.487 375.766 L193.843 375.766 L193.843 379.701 L179.769 379.701 L179.769 388.174 Q180.788 387.826 181.806 387.664 Q182.825 387.479 183.843 387.479 Q189.63 387.479 193.01 390.65 Q196.389 393.822 196.389 399.238 Q196.389 404.817 192.917 407.919 Q189.445 410.998 183.126 410.998 Q180.95 410.998 178.681 410.627 Q176.436 410.257 174.028 409.516 L174.028 404.817 Q176.112 405.951 178.334 406.507 Q180.556 407.062 183.033 407.062 Q187.038 407.062 189.375 404.956 Q191.713 402.849 191.713 399.238 Q191.713 395.627 189.375 393.521 Q187.038 391.414 183.033 391.414 Q181.158 391.414 179.283 391.831 Q177.431 392.248 175.487 393.127 L175.487 375.766 Z\" fill=\"#000000\" fill-rule=\"nonzero\" fill-opacity=\"1\" /><path clip-path=\"url(#clip630)\" d=\"M114.931 101.175 L122.57 101.175 L122.57 74.809 L114.26 76.4757 L114.26 72.2165 L122.524 70.5498 L127.2 70.5498 L127.2 101.175 L134.839 101.175 L134.839 105.11 L114.931 105.11 L114.931 101.175 Z\" fill=\"#000000\" fill-rule=\"nonzero\" fill-opacity=\"1\" /><path clip-path=\"url(#clip630)\" d=\"M154.283 73.6285 Q150.672 73.6285 148.843 77.1933 Q147.038 80.7349 147.038 87.8645 Q147.038 94.971 148.843 98.5358 Q150.672 102.077 154.283 102.077 Q157.917 102.077 159.723 98.5358 Q161.552 94.971 161.552 87.8645 Q161.552 80.7349 159.723 77.1933 Q157.917 73.6285 154.283 73.6285 M154.283 69.9248 Q160.093 69.9248 163.149 74.5313 Q166.227 79.1146 166.227 87.8645 Q166.227 96.5913 163.149 101.198 Q160.093 105.781 154.283 105.781 Q148.473 105.781 145.394 101.198 Q142.339 96.5913 142.339 87.8645 Q142.339 79.1146 145.394 74.5313 Q148.473 69.9248 154.283 69.9248 Z\" fill=\"#000000\" fill-rule=\"nonzero\" fill-opacity=\"1\" /><path clip-path=\"url(#clip630)\" d=\"M184.445 73.6285 Q180.834 73.6285 179.005 77.1933 Q177.2 80.7349 177.2 87.8645 Q177.2 94.971 179.005 98.5358 Q180.834 102.077 184.445 102.077 Q188.079 102.077 189.885 98.5358 Q191.713 94.971 191.713 87.8645 Q191.713 80.7349 189.885 77.1933 Q188.079 73.6285 184.445 73.6285 M184.445 69.9248 Q190.255 69.9248 193.311 74.5313 Q196.389 79.1146 196.389 87.8645 Q196.389 96.5913 193.311 101.198 Q190.255 105.781 184.445 105.781 Q178.635 105.781 175.556 101.198 Q172.501 96.5913 172.501 87.8645 Q172.501 79.1146 175.556 74.5313 Q178.635 69.9248 184.445 69.9248 Z\" fill=\"#000000\" fill-rule=\"nonzero\" fill-opacity=\"1\" /><path clip-path=\"url(#clip630)\" d=\"M16.4842 750.521 L16.4842 720.475 L21.895 720.475 L21.895 744.092 L35.9632 744.092 L35.9632 721.462 L41.3741 721.462 L41.3741 744.092 L58.5933 744.092 L58.5933 719.902 L64.0042 719.902 L64.0042 750.521 L16.4842 750.521 Z\" fill=\"#000000\" fill-rule=\"nonzero\" fill-opacity=\"1\" /><path clip-path=\"url(#clip632)\" d=\"M292.4 1360.24 L286.76 1376.46 L269.576 1376.82 L283.28 1387.21 L278.288 1403.65 L292.4 1393.84 L306.512 1403.65 L301.52 1387.21 L315.224 1376.82 L298.04 1376.46 L292.4 1360.24 Z\" fill=\"#009af9\" fill-rule=\"evenodd\" fill-opacity=\"1\" stroke=\"#000000\" stroke-opacity=\"1\" stroke-width=\"3.2\"/>\n",
       "<path clip-path=\"url(#clip632)\" d=\"M299.09 1360.01 L293.45 1376.23 L276.266 1376.59 L289.97 1386.99 L284.978 1403.43 L299.09 1393.61 L313.202 1403.43 L308.21 1386.99 L321.914 1376.59 L304.73 1376.23 L299.09 1360.01 Z\" fill=\"#009af9\" fill-rule=\"evenodd\" fill-opacity=\"1\" stroke=\"#000000\" stroke-opacity=\"1\" stroke-width=\"3.2\"/>\n",
       "<path clip-path=\"url(#clip632)\" d=\"M305.78 1357.37 L300.14 1373.6 L282.956 1373.96 L296.66 1384.35 L291.668 1400.79 L305.78 1390.97 L319.892 1400.79 L314.9 1384.35 L328.604 1373.96 L311.42 1373.6 L305.78 1357.37 Z\" fill=\"#009af9\" fill-rule=\"evenodd\" fill-opacity=\"1\" stroke=\"#000000\" stroke-opacity=\"1\" stroke-width=\"3.2\"/>\n",
       "<path clip-path=\"url(#clip632)\" d=\"M312.47 1357.37 L306.83 1373.6 L289.646 1373.96 L303.35 1384.35 L298.358 1400.79 L312.47 1390.97 L326.582 1400.79 L321.59 1384.35 L335.294 1373.96 L318.11 1373.6 L312.47 1357.37 Z\" fill=\"#009af9\" fill-rule=\"evenodd\" fill-opacity=\"1\" stroke=\"#000000\" stroke-opacity=\"1\" stroke-width=\"3.2\"/>\n",
       "<path clip-path=\"url(#clip632)\" d=\"M319.16 1356.73 L313.52 1372.96 L296.336 1373.32 L310.04 1383.71 L305.048 1400.15 L319.16 1390.33 L333.272 1400.15 L328.28 1383.71 L341.984 1373.32 L324.8 1372.96 L319.16 1356.73 Z\" fill=\"#009af9\" fill-rule=\"evenodd\" fill-opacity=\"1\" stroke=\"#000000\" stroke-opacity=\"1\" stroke-width=\"3.2\"/>\n",
       "<path clip-path=\"url(#clip632)\" d=\"M325.85 1356.73 L320.21 1372.96 L303.026 1373.32 L316.73 1383.71 L311.738 1400.15 L325.85 1390.33 L339.962 1400.15 L334.97 1383.71 L348.674 1373.32 L331.49 1372.96 L325.85 1356.73 Z\" fill=\"#009af9\" fill-rule=\"evenodd\" fill-opacity=\"1\" stroke=\"#000000\" stroke-opacity=\"1\" stroke-width=\"3.2\"/>\n",
       "<path clip-path=\"url(#clip632)\" d=\"M332.54 1354.08 L326.9 1370.3 L309.716 1370.66 L323.42 1381.05 L318.428 1397.49 L332.54 1387.68 L346.652 1397.49 L341.66 1381.05 L355.364 1370.66 L338.18 1370.3 L332.54 1354.08 Z\" fill=\"#009af9\" fill-rule=\"evenodd\" fill-opacity=\"1\" stroke=\"#000000\" stroke-opacity=\"1\" stroke-width=\"3.2\"/>\n",
       "<path clip-path=\"url(#clip632)\" d=\"M339.231 1353.73 L333.591 1369.95 L316.407 1370.31 L330.111 1380.71 L325.119 1397.15 L339.231 1387.33 L353.343 1397.15 L348.351 1380.71 L362.055 1370.31 L344.871 1369.95 L339.231 1353.73 Z\" fill=\"#009af9\" fill-rule=\"evenodd\" fill-opacity=\"1\" stroke=\"#000000\" stroke-opacity=\"1\" stroke-width=\"3.2\"/>\n",
       "<path clip-path=\"url(#clip632)\" d=\"M345.921 1353.08 L340.281 1369.31 L323.097 1369.67 L336.801 1380.06 L331.809 1396.5 L345.921 1386.68 L360.033 1396.5 L355.041 1380.06 L368.745 1369.67 L351.561 1369.31 L345.921 1353.08 Z\" fill=\"#009af9\" fill-rule=\"evenodd\" fill-opacity=\"1\" stroke=\"#000000\" stroke-opacity=\"1\" stroke-width=\"3.2\"/>\n",
       "<path clip-path=\"url(#clip632)\" d=\"M352.611 1352.62 L346.971 1368.85 L329.787 1369.21 L343.491 1379.6 L338.499 1396.04 L352.611 1386.22 L366.723 1396.04 L361.731 1379.6 L375.435 1369.21 L358.251 1368.85 L352.611 1352.62 Z\" fill=\"#009af9\" fill-rule=\"evenodd\" fill-opacity=\"1\" stroke=\"#000000\" stroke-opacity=\"1\" stroke-width=\"3.2\"/>\n",
       "<path clip-path=\"url(#clip632)\" d=\"M359.301 1340.84 L353.661 1357.07 L336.477 1357.43 L350.181 1367.82 L345.189 1384.26 L359.301 1374.44 L373.413 1384.26 L368.421 1367.82 L382.125 1357.43 L364.941 1357.07 L359.301 1340.84 Z\" fill=\"#009af9\" fill-rule=\"evenodd\" fill-opacity=\"1\" stroke=\"#000000\" stroke-opacity=\"1\" stroke-width=\"3.2\"/>\n",
       "<path clip-path=\"url(#clip632)\" d=\"M365.991 1339.77 L360.351 1355.99 L343.167 1356.35 L356.871 1366.75 L351.879 1383.19 L365.991 1373.37 L380.103 1383.19 L375.111 1366.75 L388.815 1356.35 L371.631 1355.99 L365.991 1339.77 Z\" fill=\"#009af9\" fill-rule=\"evenodd\" fill-opacity=\"1\" stroke=\"#000000\" stroke-opacity=\"1\" stroke-width=\"3.2\"/>\n",
       "<path clip-path=\"url(#clip632)\" d=\"M372.681 1338.9 L367.041 1355.13 L349.857 1355.49 L363.561 1365.88 L358.569 1382.32 L372.681 1372.5 L386.793 1382.32 L381.801 1365.88 L395.505 1355.49 L378.321 1355.13 L372.681 1338.9 Z\" fill=\"#009af9\" fill-rule=\"evenodd\" fill-opacity=\"1\" stroke=\"#000000\" stroke-opacity=\"1\" stroke-width=\"3.2\"/>\n",
       "<path clip-path=\"url(#clip632)\" d=\"M379.371 1338.89 L373.731 1355.11 L356.547 1355.47 L370.251 1365.86 L365.259 1382.3 L379.371 1372.49 L393.483 1382.3 L388.491 1365.86 L402.195 1355.47 L385.011 1355.11 L379.371 1338.89 Z\" fill=\"#009af9\" fill-rule=\"evenodd\" fill-opacity=\"1\" stroke=\"#000000\" stroke-opacity=\"1\" stroke-width=\"3.2\"/>\n",
       "<path clip-path=\"url(#clip632)\" d=\"M386.061 1338.89 L380.421 1355.11 L363.237 1355.47 L376.941 1365.86 L371.949 1382.3 L386.061 1372.49 L400.173 1382.3 L395.181 1365.86 L408.885 1355.47 L391.701 1355.11 L386.061 1338.89 Z\" fill=\"#009af9\" fill-rule=\"evenodd\" fill-opacity=\"1\" stroke=\"#000000\" stroke-opacity=\"1\" stroke-width=\"3.2\"/>\n",
       "<path clip-path=\"url(#clip632)\" d=\"M392.752 1338.32 L387.112 1354.54 L369.928 1354.9 L383.632 1365.29 L378.64 1381.73 L392.752 1371.92 L406.864 1381.73 L401.872 1365.29 L415.576 1354.9 L398.392 1354.54 L392.752 1338.32 Z\" fill=\"#009af9\" fill-rule=\"evenodd\" fill-opacity=\"1\" stroke=\"#000000\" stroke-opacity=\"1\" stroke-width=\"3.2\"/>\n",
       "<path clip-path=\"url(#clip632)\" d=\"M399.442 1338.32 L393.802 1354.54 L376.618 1354.9 L390.322 1365.29 L385.33 1381.73 L399.442 1371.92 L413.554 1381.73 L408.562 1365.29 L422.266 1354.9 L405.082 1354.54 L399.442 1338.32 Z\" fill=\"#009af9\" fill-rule=\"evenodd\" fill-opacity=\"1\" stroke=\"#000000\" stroke-opacity=\"1\" stroke-width=\"3.2\"/>\n",
       "<path clip-path=\"url(#clip632)\" d=\"M406.132 1337.57 L400.492 1353.79 L383.308 1354.15 L397.012 1364.54 L392.02 1380.98 L406.132 1371.17 L420.244 1380.98 L415.252 1364.54 L428.956 1354.15 L411.772 1353.79 L406.132 1337.57 Z\" fill=\"#009af9\" fill-rule=\"evenodd\" fill-opacity=\"1\" stroke=\"#000000\" stroke-opacity=\"1\" stroke-width=\"3.2\"/>\n",
       "<path clip-path=\"url(#clip632)\" d=\"M412.822 1336.57 L407.182 1352.8 L389.998 1353.16 L403.702 1363.55 L398.71 1379.99 L412.822 1370.17 L426.934 1379.99 L421.942 1363.55 L435.646 1353.16 L418.462 1352.8 L412.822 1336.57 Z\" fill=\"#009af9\" fill-rule=\"evenodd\" fill-opacity=\"1\" stroke=\"#000000\" stroke-opacity=\"1\" stroke-width=\"3.2\"/>\n",
       "<path clip-path=\"url(#clip632)\" d=\"M419.512 1336.22 L413.872 1352.44 L396.688 1352.8 L410.392 1363.19 L405.4 1379.63 L419.512 1369.82 L433.624 1379.63 L428.632 1363.19 L442.336 1352.8 L425.152 1352.44 L419.512 1336.22 Z\" fill=\"#009af9\" fill-rule=\"evenodd\" fill-opacity=\"1\" stroke=\"#000000\" stroke-opacity=\"1\" stroke-width=\"3.2\"/>\n",
       "<path clip-path=\"url(#clip632)\" d=\"M426.202 1334.54 L420.562 1350.76 L403.378 1351.12 L417.082 1361.51 L412.09 1377.95 L426.202 1368.14 L440.314 1377.95 L435.322 1361.51 L449.026 1351.12 L431.842 1350.76 L426.202 1334.54 Z\" fill=\"#009af9\" fill-rule=\"evenodd\" fill-opacity=\"1\" stroke=\"#000000\" stroke-opacity=\"1\" stroke-width=\"3.2\"/>\n",
       "<path clip-path=\"url(#clip632)\" d=\"M432.892 1334.46 L427.252 1350.68 L410.068 1351.04 L423.772 1361.43 L418.78 1377.87 L432.892 1368.06 L447.004 1377.87 L442.012 1361.43 L455.716 1351.04 L438.532 1350.68 L432.892 1334.46 Z\" fill=\"#009af9\" fill-rule=\"evenodd\" fill-opacity=\"1\" stroke=\"#000000\" stroke-opacity=\"1\" stroke-width=\"3.2\"/>\n",
       "<path clip-path=\"url(#clip632)\" d=\"M439.582 1334.31 L433.942 1350.53 L416.758 1350.89 L430.462 1361.28 L425.47 1377.72 L439.582 1367.91 L453.694 1377.72 L448.702 1361.28 L462.406 1350.89 L445.222 1350.53 L439.582 1334.31 Z\" fill=\"#009af9\" fill-rule=\"evenodd\" fill-opacity=\"1\" stroke=\"#000000\" stroke-opacity=\"1\" stroke-width=\"3.2\"/>\n",
       "<path clip-path=\"url(#clip632)\" d=\"M446.272 1334.31 L440.632 1350.53 L423.448 1350.89 L437.152 1361.28 L432.16 1377.72 L446.272 1367.91 L460.384 1377.72 L455.392 1361.28 L469.096 1350.89 L451.912 1350.53 L446.272 1334.31 Z\" fill=\"#009af9\" fill-rule=\"evenodd\" fill-opacity=\"1\" stroke=\"#000000\" stroke-opacity=\"1\" stroke-width=\"3.2\"/>\n",
       "<path clip-path=\"url(#clip632)\" d=\"M452.963 1332.09 L447.323 1348.31 L430.139 1348.67 L443.843 1359.06 L438.851 1375.5 L452.963 1365.69 L467.075 1375.5 L462.083 1359.06 L475.787 1348.67 L458.603 1348.31 L452.963 1332.09 Z\" fill=\"#009af9\" fill-rule=\"evenodd\" fill-opacity=\"1\" stroke=\"#000000\" stroke-opacity=\"1\" stroke-width=\"3.2\"/>\n",
       "<path clip-path=\"url(#clip632)\" d=\"M459.653 1332.09 L454.013 1348.31 L436.829 1348.67 L450.533 1359.06 L445.541 1375.5 L459.653 1365.69 L473.765 1375.5 L468.773 1359.06 L482.477 1348.67 L465.293 1348.31 L459.653 1332.09 Z\" fill=\"#009af9\" fill-rule=\"evenodd\" fill-opacity=\"1\" stroke=\"#000000\" stroke-opacity=\"1\" stroke-width=\"3.2\"/>\n",
       "<path clip-path=\"url(#clip632)\" d=\"M466.343 1328.08 L460.703 1344.3 L443.519 1344.66 L457.223 1355.05 L452.231 1371.49 L466.343 1361.68 L480.455 1371.49 L475.463 1355.05 L489.167 1344.66 L471.983 1344.3 L466.343 1328.08 Z\" fill=\"#009af9\" fill-rule=\"evenodd\" fill-opacity=\"1\" stroke=\"#000000\" stroke-opacity=\"1\" stroke-width=\"3.2\"/>\n",
       "<path clip-path=\"url(#clip632)\" d=\"M473.033 1327.94 L467.393 1344.16 L450.209 1344.52 L463.913 1354.91 L458.921 1371.35 L473.033 1361.54 L487.145 1371.35 L482.153 1354.91 L495.857 1344.52 L478.673 1344.16 L473.033 1327.94 Z\" fill=\"#009af9\" fill-rule=\"evenodd\" fill-opacity=\"1\" stroke=\"#000000\" stroke-opacity=\"1\" stroke-width=\"3.2\"/>\n",
       "<path clip-path=\"url(#clip632)\" d=\"M479.723 1327.94 L474.083 1344.16 L456.899 1344.52 L470.603 1354.91 L465.611 1371.35 L479.723 1361.54 L493.835 1371.35 L488.843 1354.91 L502.547 1344.52 L485.363 1344.16 L479.723 1327.94 Z\" fill=\"#009af9\" fill-rule=\"evenodd\" fill-opacity=\"1\" stroke=\"#000000\" stroke-opacity=\"1\" stroke-width=\"3.2\"/>\n",
       "<path clip-path=\"url(#clip632)\" d=\"M486.413 1326.67 L480.773 1342.89 L463.589 1343.25 L477.293 1353.65 L472.301 1370.09 L486.413 1360.27 L500.525 1370.09 L495.533 1353.65 L509.237 1343.25 L492.053 1342.89 L486.413 1326.67 Z\" fill=\"#009af9\" fill-rule=\"evenodd\" fill-opacity=\"1\" stroke=\"#000000\" stroke-opacity=\"1\" stroke-width=\"3.2\"/>\n",
       "<path clip-path=\"url(#clip632)\" d=\"M493.103 1326.39 L487.463 1342.61 L470.279 1342.97 L483.983 1353.37 L478.991 1369.81 L493.103 1359.99 L507.215 1369.81 L502.223 1353.37 L515.927 1342.97 L498.743 1342.61 L493.103 1326.39 Z\" fill=\"#009af9\" fill-rule=\"evenodd\" fill-opacity=\"1\" stroke=\"#000000\" stroke-opacity=\"1\" stroke-width=\"3.2\"/>\n",
       "<path clip-path=\"url(#clip632)\" d=\"M499.793 1326.06 L494.153 1342.29 L476.969 1342.65 L490.673 1353.04 L485.681 1369.48 L499.793 1359.66 L513.905 1369.48 L508.913 1353.04 L522.617 1342.65 L505.433 1342.29 L499.793 1326.06 Z\" fill=\"#009af9\" fill-rule=\"evenodd\" fill-opacity=\"1\" stroke=\"#000000\" stroke-opacity=\"1\" stroke-width=\"3.2\"/>\n",
       "<path clip-path=\"url(#clip632)\" d=\"M506.484 1326.01 L500.844 1342.23 L483.66 1342.59 L497.364 1352.99 L492.372 1369.43 L506.484 1359.61 L520.596 1369.43 L515.604 1352.99 L529.308 1342.59 L512.124 1342.23 L506.484 1326.01 Z\" fill=\"#009af9\" fill-rule=\"evenodd\" fill-opacity=\"1\" stroke=\"#000000\" stroke-opacity=\"1\" stroke-width=\"3.2\"/>\n",
       "<path clip-path=\"url(#clip632)\" d=\"M513.174 1325.84 L507.534 1342.06 L490.35 1342.42 L504.054 1352.81 L499.062 1369.25 L513.174 1359.44 L527.286 1369.25 L522.294 1352.81 L535.998 1342.42 L518.814 1342.06 L513.174 1325.84 Z\" fill=\"#009af9\" fill-rule=\"evenodd\" fill-opacity=\"1\" stroke=\"#000000\" stroke-opacity=\"1\" stroke-width=\"3.2\"/>\n",
       "<path clip-path=\"url(#clip632)\" d=\"M519.864 1325.84 L514.224 1342.06 L497.04 1342.42 L510.744 1352.81 L505.752 1369.25 L519.864 1359.44 L533.976 1369.25 L528.984 1352.81 L542.688 1342.42 L525.504 1342.06 L519.864 1325.84 Z\" fill=\"#009af9\" fill-rule=\"evenodd\" fill-opacity=\"1\" stroke=\"#000000\" stroke-opacity=\"1\" stroke-width=\"3.2\"/>\n",
       "<path clip-path=\"url(#clip632)\" d=\"M526.554 1325.18 L520.914 1341.41 L503.73 1341.77 L517.434 1352.16 L512.442 1368.6 L526.554 1358.78 L540.666 1368.6 L535.674 1352.16 L549.378 1341.77 L532.194 1341.41 L526.554 1325.18 Z\" fill=\"#009af9\" fill-rule=\"evenodd\" fill-opacity=\"1\" stroke=\"#000000\" stroke-opacity=\"1\" stroke-width=\"3.2\"/>\n",
       "<path clip-path=\"url(#clip632)\" d=\"M533.244 1324.66 L527.604 1340.88 L510.42 1341.24 L524.124 1351.64 L519.132 1368.08 L533.244 1358.26 L547.356 1368.08 L542.364 1351.64 L556.068 1341.24 L538.884 1340.88 L533.244 1324.66 Z\" fill=\"#009af9\" fill-rule=\"evenodd\" fill-opacity=\"1\" stroke=\"#000000\" stroke-opacity=\"1\" stroke-width=\"3.2\"/>\n",
       "<path clip-path=\"url(#clip632)\" d=\"M539.934 1323.05 L534.294 1339.27 L517.11 1339.63 L530.814 1350.02 L525.822 1366.46 L539.934 1356.65 L554.046 1366.46 L549.054 1350.02 L562.758 1339.63 L545.574 1339.27 L539.934 1323.05 Z\" fill=\"#009af9\" fill-rule=\"evenodd\" fill-opacity=\"1\" stroke=\"#000000\" stroke-opacity=\"1\" stroke-width=\"3.2\"/>\n",
       "<path clip-path=\"url(#clip632)\" d=\"M546.624 1323.05 L540.984 1339.27 L523.8 1339.63 L537.504 1350.02 L532.512 1366.46 L546.624 1356.65 L560.736 1366.46 L555.744 1350.02 L569.448 1339.63 L552.264 1339.27 L546.624 1323.05 Z\" fill=\"#009af9\" fill-rule=\"evenodd\" fill-opacity=\"1\" stroke=\"#000000\" stroke-opacity=\"1\" stroke-width=\"3.2\"/>\n",
       "<path clip-path=\"url(#clip632)\" d=\"M553.314 1322.99 L547.674 1339.21 L530.49 1339.57 L544.194 1349.97 L539.202 1366.41 L553.314 1356.59 L567.426 1366.41 L562.434 1349.97 L576.138 1339.57 L558.954 1339.21 L553.314 1322.99 Z\" fill=\"#009af9\" fill-rule=\"evenodd\" fill-opacity=\"1\" stroke=\"#000000\" stroke-opacity=\"1\" stroke-width=\"3.2\"/>\n",
       "<path clip-path=\"url(#clip632)\" d=\"M560.005 1322.19 L554.365 1338.41 L537.181 1338.77 L550.885 1349.16 L545.893 1365.6 L560.005 1355.79 L574.117 1365.6 L569.125 1349.16 L582.829 1338.77 L565.645 1338.41 L560.005 1322.19 Z\" fill=\"#009af9\" fill-rule=\"evenodd\" fill-opacity=\"1\" stroke=\"#000000\" stroke-opacity=\"1\" stroke-width=\"3.2\"/>\n",
       "<path clip-path=\"url(#clip632)\" d=\"M566.695 1322.19 L561.055 1338.41 L543.871 1338.77 L557.575 1349.16 L552.583 1365.6 L566.695 1355.79 L580.807 1365.6 L575.815 1349.16 L589.519 1338.77 L572.335 1338.41 L566.695 1322.19 Z\" fill=\"#009af9\" fill-rule=\"evenodd\" fill-opacity=\"1\" stroke=\"#000000\" stroke-opacity=\"1\" stroke-width=\"3.2\"/>\n",
       "<path clip-path=\"url(#clip632)\" d=\"M573.385 1320.05 L567.745 1336.27 L550.561 1336.63 L564.265 1347.02 L559.273 1363.46 L573.385 1353.65 L587.497 1363.46 L582.505 1347.02 L596.209 1336.63 L579.025 1336.27 L573.385 1320.05 Z\" fill=\"#009af9\" fill-rule=\"evenodd\" fill-opacity=\"1\" stroke=\"#000000\" stroke-opacity=\"1\" stroke-width=\"3.2\"/>\n",
       "<path clip-path=\"url(#clip632)\" d=\"M580.075 1319.71 L574.435 1335.93 L557.251 1336.29 L570.955 1346.69 L565.963 1363.13 L580.075 1353.31 L594.187 1363.13 L589.195 1346.69 L602.899 1336.29 L585.715 1335.93 L580.075 1319.71 Z\" fill=\"#009af9\" fill-rule=\"evenodd\" fill-opacity=\"1\" stroke=\"#000000\" stroke-opacity=\"1\" stroke-width=\"3.2\"/>\n",
       "<path clip-path=\"url(#clip632)\" d=\"M586.765 1319.13 L581.125 1335.36 L563.941 1335.72 L577.645 1346.11 L572.653 1362.55 L586.765 1352.73 L600.877 1362.55 L595.885 1346.11 L609.589 1335.72 L592.405 1335.36 L586.765 1319.13 Z\" fill=\"#009af9\" fill-rule=\"evenodd\" fill-opacity=\"1\" stroke=\"#000000\" stroke-opacity=\"1\" stroke-width=\"3.2\"/>\n",
       "<path clip-path=\"url(#clip632)\" d=\"M593.455 1317.94 L587.815 1334.17 L570.631 1334.53 L584.335 1344.92 L579.343 1361.36 L593.455 1351.54 L607.567 1361.36 L602.575 1344.92 L616.279 1334.53 L599.095 1334.17 L593.455 1317.94 Z\" fill=\"#009af9\" fill-rule=\"evenodd\" fill-opacity=\"1\" stroke=\"#000000\" stroke-opacity=\"1\" stroke-width=\"3.2\"/>\n",
       "<path clip-path=\"url(#clip632)\" d=\"M600.145 1317.9 L594.505 1334.13 L577.321 1334.49 L591.025 1344.88 L586.033 1361.32 L600.145 1351.5 L614.257 1361.32 L609.265 1344.88 L622.969 1334.49 L605.785 1334.13 L600.145 1317.9 Z\" fill=\"#009af9\" fill-rule=\"evenodd\" fill-opacity=\"1\" stroke=\"#000000\" stroke-opacity=\"1\" stroke-width=\"3.2\"/>\n",
       "<path clip-path=\"url(#clip632)\" d=\"M606.835 1317.9 L601.195 1334.13 L584.011 1334.49 L597.715 1344.88 L592.723 1361.32 L606.835 1351.5 L620.947 1361.32 L615.955 1344.88 L629.659 1334.49 L612.475 1334.13 L606.835 1317.9 Z\" fill=\"#009af9\" fill-rule=\"evenodd\" fill-opacity=\"1\" stroke=\"#000000\" stroke-opacity=\"1\" stroke-width=\"3.2\"/>\n",
       "<path clip-path=\"url(#clip632)\" d=\"M613.525 1316.4 L607.885 1332.63 L590.701 1332.99 L604.405 1343.38 L599.413 1359.82 L613.525 1350 L627.637 1359.82 L622.645 1343.38 L636.349 1332.99 L619.165 1332.63 L613.525 1316.4 Z\" fill=\"#009af9\" fill-rule=\"evenodd\" fill-opacity=\"1\" stroke=\"#000000\" stroke-opacity=\"1\" stroke-width=\"3.2\"/>\n",
       "<path clip-path=\"url(#clip632)\" d=\"M620.216 1316.4 L614.576 1332.63 L597.392 1332.99 L611.096 1343.38 L606.104 1359.82 L620.216 1350 L634.328 1359.82 L629.336 1343.38 L643.04 1332.99 L625.856 1332.63 L620.216 1316.4 Z\" fill=\"#009af9\" fill-rule=\"evenodd\" fill-opacity=\"1\" stroke=\"#000000\" stroke-opacity=\"1\" stroke-width=\"3.2\"/>\n",
       "<path clip-path=\"url(#clip632)\" d=\"M626.906 1316.27 L621.266 1332.49 L604.082 1332.85 L617.786 1343.25 L612.794 1359.69 L626.906 1349.87 L641.018 1359.69 L636.026 1343.25 L649.73 1332.85 L632.546 1332.49 L626.906 1316.27 Z\" fill=\"#009af9\" fill-rule=\"evenodd\" fill-opacity=\"1\" stroke=\"#000000\" stroke-opacity=\"1\" stroke-width=\"3.2\"/>\n",
       "<path clip-path=\"url(#clip632)\" d=\"M633.596 1315.55 L627.956 1331.77 L610.772 1332.13 L624.476 1342.52 L619.484 1358.96 L633.596 1349.15 L647.708 1358.96 L642.716 1342.52 L656.42 1332.13 L639.236 1331.77 L633.596 1315.55 Z\" fill=\"#009af9\" fill-rule=\"evenodd\" fill-opacity=\"1\" stroke=\"#000000\" stroke-opacity=\"1\" stroke-width=\"3.2\"/>\n",
       "<path clip-path=\"url(#clip632)\" d=\"M640.286 1315.55 L634.646 1331.77 L617.462 1332.13 L631.166 1342.52 L626.174 1358.96 L640.286 1349.15 L654.398 1358.96 L649.406 1342.52 L663.11 1332.13 L645.926 1331.77 L640.286 1315.55 Z\" fill=\"#009af9\" fill-rule=\"evenodd\" fill-opacity=\"1\" stroke=\"#000000\" stroke-opacity=\"1\" stroke-width=\"3.2\"/>\n",
       "<path clip-path=\"url(#clip632)\" d=\"M646.976 1315.32 L641.336 1331.54 L624.152 1331.9 L637.856 1342.29 L632.864 1358.73 L646.976 1348.92 L661.088 1358.73 L656.096 1342.29 L669.8 1331.9 L652.616 1331.54 L646.976 1315.32 Z\" fill=\"#009af9\" fill-rule=\"evenodd\" fill-opacity=\"1\" stroke=\"#000000\" stroke-opacity=\"1\" stroke-width=\"3.2\"/>\n",
       "<path clip-path=\"url(#clip632)\" d=\"M653.666 1315.26 L648.026 1331.48 L630.842 1331.84 L644.546 1342.23 L639.554 1358.67 L653.666 1348.86 L667.778 1358.67 L662.786 1342.23 L676.49 1331.84 L659.306 1331.48 L653.666 1315.26 Z\" fill=\"#009af9\" fill-rule=\"evenodd\" fill-opacity=\"1\" stroke=\"#000000\" stroke-opacity=\"1\" stroke-width=\"3.2\"/>\n",
       "<path clip-path=\"url(#clip632)\" d=\"M660.356 1314.26 L654.716 1330.49 L637.532 1330.85 L651.236 1341.24 L646.244 1357.68 L660.356 1347.86 L674.468 1357.68 L669.476 1341.24 L683.18 1330.85 L665.996 1330.49 L660.356 1314.26 Z\" fill=\"#009af9\" fill-rule=\"evenodd\" fill-opacity=\"1\" stroke=\"#000000\" stroke-opacity=\"1\" stroke-width=\"3.2\"/>\n",
       "<path clip-path=\"url(#clip632)\" d=\"M667.046 1313.97 L661.406 1330.2 L644.222 1330.56 L657.926 1340.95 L652.934 1357.39 L667.046 1347.57 L681.158 1357.39 L676.166 1340.95 L689.87 1330.56 L672.686 1330.2 L667.046 1313.97 Z\" fill=\"#009af9\" fill-rule=\"evenodd\" fill-opacity=\"1\" stroke=\"#000000\" stroke-opacity=\"1\" stroke-width=\"3.2\"/>\n",
       "<path clip-path=\"url(#clip632)\" d=\"M673.737 1312.82 L668.097 1329.04 L650.913 1329.4 L664.617 1339.8 L659.625 1356.24 L673.737 1346.42 L687.849 1356.24 L682.857 1339.8 L696.561 1329.4 L679.377 1329.04 L673.737 1312.82 Z\" fill=\"#009af9\" fill-rule=\"evenodd\" fill-opacity=\"1\" stroke=\"#000000\" stroke-opacity=\"1\" stroke-width=\"3.2\"/>\n",
       "<path clip-path=\"url(#clip632)\" d=\"M680.427 1312.45 L674.787 1328.67 L657.603 1329.03 L671.307 1339.42 L666.315 1355.86 L680.427 1346.05 L694.539 1355.86 L689.547 1339.42 L703.251 1329.03 L686.067 1328.67 L680.427 1312.45 Z\" fill=\"#009af9\" fill-rule=\"evenodd\" fill-opacity=\"1\" stroke=\"#000000\" stroke-opacity=\"1\" stroke-width=\"3.2\"/>\n",
       "<path clip-path=\"url(#clip632)\" d=\"M687.117 1312.45 L681.477 1328.67 L664.293 1329.03 L677.997 1339.42 L673.005 1355.86 L687.117 1346.05 L701.229 1355.86 L696.237 1339.42 L709.941 1329.03 L692.757 1328.67 L687.117 1312.45 Z\" fill=\"#009af9\" fill-rule=\"evenodd\" fill-opacity=\"1\" stroke=\"#000000\" stroke-opacity=\"1\" stroke-width=\"3.2\"/>\n",
       "<path clip-path=\"url(#clip632)\" d=\"M693.807 1312.19 L688.167 1328.42 L670.983 1328.78 L684.687 1339.17 L679.695 1355.61 L693.807 1345.79 L707.919 1355.61 L702.927 1339.17 L716.631 1328.78 L699.447 1328.42 L693.807 1312.19 Z\" fill=\"#009af9\" fill-rule=\"evenodd\" fill-opacity=\"1\" stroke=\"#000000\" stroke-opacity=\"1\" stroke-width=\"3.2\"/>\n",
       "<path clip-path=\"url(#clip632)\" d=\"M700.497 1312.19 L694.857 1328.42 L677.673 1328.78 L691.377 1339.17 L686.385 1355.61 L700.497 1345.79 L714.609 1355.61 L709.617 1339.17 L723.321 1328.78 L706.137 1328.42 L700.497 1312.19 Z\" fill=\"#009af9\" fill-rule=\"evenodd\" fill-opacity=\"1\" stroke=\"#000000\" stroke-opacity=\"1\" stroke-width=\"3.2\"/>\n",
       "<path clip-path=\"url(#clip632)\" d=\"M707.187 1311.63 L701.547 1327.86 L684.363 1328.22 L698.067 1338.61 L693.075 1355.05 L707.187 1345.23 L721.299 1355.05 L716.307 1338.61 L730.011 1328.22 L712.827 1327.86 L707.187 1311.63 Z\" fill=\"#009af9\" fill-rule=\"evenodd\" fill-opacity=\"1\" stroke=\"#000000\" stroke-opacity=\"1\" stroke-width=\"3.2\"/>\n",
       "<path clip-path=\"url(#clip632)\" d=\"M713.877 1310.71 L708.237 1326.93 L691.053 1327.29 L704.757 1337.68 L699.765 1354.12 L713.877 1344.31 L727.989 1354.12 L722.997 1337.68 L736.701 1327.29 L719.517 1326.93 L713.877 1310.71 Z\" fill=\"#009af9\" fill-rule=\"evenodd\" fill-opacity=\"1\" stroke=\"#000000\" stroke-opacity=\"1\" stroke-width=\"3.2\"/>\n",
       "<path clip-path=\"url(#clip632)\" d=\"M720.567 1310.62 L714.927 1326.84 L697.743 1327.2 L711.447 1337.6 L706.455 1354.04 L720.567 1344.22 L734.679 1354.04 L729.687 1337.6 L743.391 1327.2 L726.207 1326.84 L720.567 1310.62 Z\" fill=\"#009af9\" fill-rule=\"evenodd\" fill-opacity=\"1\" stroke=\"#000000\" stroke-opacity=\"1\" stroke-width=\"3.2\"/>\n",
       "<path clip-path=\"url(#clip632)\" d=\"M727.258 1310.62 L721.618 1326.84 L704.434 1327.2 L718.138 1337.6 L713.146 1354.04 L727.258 1344.22 L741.37 1354.04 L736.378 1337.6 L750.082 1327.2 L732.898 1326.84 L727.258 1310.62 Z\" fill=\"#009af9\" fill-rule=\"evenodd\" fill-opacity=\"1\" stroke=\"#000000\" stroke-opacity=\"1\" stroke-width=\"3.2\"/>\n",
       "<path clip-path=\"url(#clip632)\" d=\"M733.948 1309.66 L728.308 1325.88 L711.124 1326.24 L724.828 1336.63 L719.836 1353.07 L733.948 1343.26 L748.06 1353.07 L743.068 1336.63 L756.772 1326.24 L739.588 1325.88 L733.948 1309.66 Z\" fill=\"#009af9\" fill-rule=\"evenodd\" fill-opacity=\"1\" stroke=\"#000000\" stroke-opacity=\"1\" stroke-width=\"3.2\"/>\n",
       "<path clip-path=\"url(#clip632)\" d=\"M740.638 1309.33 L734.998 1325.55 L717.814 1325.91 L731.518 1336.31 L726.526 1352.75 L740.638 1342.93 L754.75 1352.75 L749.758 1336.31 L763.462 1325.91 L746.278 1325.55 L740.638 1309.33 Z\" fill=\"#009af9\" fill-rule=\"evenodd\" fill-opacity=\"1\" stroke=\"#000000\" stroke-opacity=\"1\" stroke-width=\"3.2\"/>\n",
       "<path clip-path=\"url(#clip632)\" d=\"M747.328 1307.63 L741.688 1323.86 L724.504 1324.22 L738.208 1334.61 L733.216 1351.05 L747.328 1341.23 L761.44 1351.05 L756.448 1334.61 L770.152 1324.22 L752.968 1323.86 L747.328 1307.63 Z\" fill=\"#009af9\" fill-rule=\"evenodd\" fill-opacity=\"1\" stroke=\"#000000\" stroke-opacity=\"1\" stroke-width=\"3.2\"/>\n",
       "<path clip-path=\"url(#clip632)\" d=\"M754.018 1307.59 L748.378 1323.81 L731.194 1324.17 L744.898 1334.57 L739.906 1351.01 L754.018 1341.19 L768.13 1351.01 L763.138 1334.57 L776.842 1324.17 L759.658 1323.81 L754.018 1307.59 Z\" fill=\"#009af9\" fill-rule=\"evenodd\" fill-opacity=\"1\" stroke=\"#000000\" stroke-opacity=\"1\" stroke-width=\"3.2\"/>\n",
       "<path clip-path=\"url(#clip632)\" d=\"M760.708 1307.23 L755.068 1323.46 L737.884 1323.82 L751.588 1334.21 L746.596 1350.65 L760.708 1340.83 L774.82 1350.65 L769.828 1334.21 L783.532 1323.82 L766.348 1323.46 L760.708 1307.23 Z\" fill=\"#009af9\" fill-rule=\"evenodd\" fill-opacity=\"1\" stroke=\"#000000\" stroke-opacity=\"1\" stroke-width=\"3.2\"/>\n",
       "<path clip-path=\"url(#clip632)\" d=\"M767.398 1306.99 L761.758 1323.21 L744.574 1323.57 L758.278 1333.96 L753.286 1350.4 L767.398 1340.59 L781.51 1350.4 L776.518 1333.96 L790.222 1323.57 L773.038 1323.21 L767.398 1306.99 Z\" fill=\"#009af9\" fill-rule=\"evenodd\" fill-opacity=\"1\" stroke=\"#000000\" stroke-opacity=\"1\" stroke-width=\"3.2\"/>\n",
       "<path clip-path=\"url(#clip632)\" d=\"M774.088 1306.87 L768.448 1323.1 L751.264 1323.46 L764.968 1333.85 L759.976 1350.29 L774.088 1340.47 L788.2 1350.29 L783.208 1333.85 L796.912 1323.46 L779.728 1323.1 L774.088 1306.87 Z\" fill=\"#009af9\" fill-rule=\"evenodd\" fill-opacity=\"1\" stroke=\"#000000\" stroke-opacity=\"1\" stroke-width=\"3.2\"/>\n",
       "<path clip-path=\"url(#clip632)\" d=\"M780.778 1306.87 L775.138 1323.1 L757.954 1323.46 L771.658 1333.85 L766.666 1350.29 L780.778 1340.47 L794.89 1350.29 L789.898 1333.85 L803.602 1323.46 L786.418 1323.1 L780.778 1306.87 Z\" fill=\"#009af9\" fill-rule=\"evenodd\" fill-opacity=\"1\" stroke=\"#000000\" stroke-opacity=\"1\" stroke-width=\"3.2\"/>\n",
       "<path clip-path=\"url(#clip632)\" d=\"M787.469 1306.84 L781.829 1323.07 L764.645 1323.43 L778.349 1333.82 L773.357 1350.26 L787.469 1340.44 L801.581 1350.26 L796.589 1333.82 L810.293 1323.43 L793.109 1323.07 L787.469 1306.84 Z\" fill=\"#009af9\" fill-rule=\"evenodd\" fill-opacity=\"1\" stroke=\"#000000\" stroke-opacity=\"1\" stroke-width=\"3.2\"/>\n",
       "<path clip-path=\"url(#clip632)\" d=\"M794.159 1306.54 L788.519 1322.77 L771.335 1323.13 L785.039 1333.52 L780.047 1349.96 L794.159 1340.14 L808.271 1349.96 L803.279 1333.52 L816.983 1323.13 L799.799 1322.77 L794.159 1306.54 Z\" fill=\"#009af9\" fill-rule=\"evenodd\" fill-opacity=\"1\" stroke=\"#000000\" stroke-opacity=\"1\" stroke-width=\"3.2\"/>\n",
       "<path clip-path=\"url(#clip632)\" d=\"M800.849 1306.54 L795.209 1322.77 L778.025 1323.13 L791.729 1333.52 L786.737 1349.96 L800.849 1340.14 L814.961 1349.96 L809.969 1333.52 L823.673 1323.13 L806.489 1322.77 L800.849 1306.54 Z\" fill=\"#009af9\" fill-rule=\"evenodd\" fill-opacity=\"1\" stroke=\"#000000\" stroke-opacity=\"1\" stroke-width=\"3.2\"/>\n",
       "<path clip-path=\"url(#clip632)\" d=\"M807.539 1306.51 L801.899 1322.74 L784.715 1323.1 L798.419 1333.49 L793.427 1349.93 L807.539 1340.11 L821.651 1349.93 L816.659 1333.49 L830.363 1323.1 L813.179 1322.74 L807.539 1306.51 Z\" fill=\"#009af9\" fill-rule=\"evenodd\" fill-opacity=\"1\" stroke=\"#000000\" stroke-opacity=\"1\" stroke-width=\"3.2\"/>\n",
       "<path clip-path=\"url(#clip632)\" d=\"M814.229 1306.51 L808.589 1322.74 L791.405 1323.1 L805.109 1333.49 L800.117 1349.93 L814.229 1340.11 L828.341 1349.93 L823.349 1333.49 L837.053 1323.1 L819.869 1322.74 L814.229 1306.51 Z\" fill=\"#009af9\" fill-rule=\"evenodd\" fill-opacity=\"1\" stroke=\"#000000\" stroke-opacity=\"1\" stroke-width=\"3.2\"/>\n",
       "<path clip-path=\"url(#clip632)\" d=\"M820.919 1306.19 L815.279 1322.41 L798.095 1322.77 L811.799 1333.17 L806.807 1349.61 L820.919 1339.79 L835.031 1349.61 L830.039 1333.17 L843.743 1322.77 L826.559 1322.41 L820.919 1306.19 Z\" fill=\"#009af9\" fill-rule=\"evenodd\" fill-opacity=\"1\" stroke=\"#000000\" stroke-opacity=\"1\" stroke-width=\"3.2\"/>\n",
       "<path clip-path=\"url(#clip632)\" d=\"M827.609 1305.2 L821.969 1321.43 L804.785 1321.79 L818.489 1332.18 L813.497 1348.62 L827.609 1338.8 L841.721 1348.62 L836.729 1332.18 L850.433 1321.79 L833.249 1321.43 L827.609 1305.2 Z\" fill=\"#009af9\" fill-rule=\"evenodd\" fill-opacity=\"1\" stroke=\"#000000\" stroke-opacity=\"1\" stroke-width=\"3.2\"/>\n",
       "<path clip-path=\"url(#clip632)\" d=\"M834.299 1303.91 L828.659 1320.13 L811.475 1320.49 L825.179 1330.89 L820.187 1347.33 L834.299 1337.51 L848.411 1347.33 L843.419 1330.89 L857.123 1320.49 L839.939 1320.13 L834.299 1303.91 Z\" fill=\"#009af9\" fill-rule=\"evenodd\" fill-opacity=\"1\" stroke=\"#000000\" stroke-opacity=\"1\" stroke-width=\"3.2\"/>\n",
       "<path clip-path=\"url(#clip632)\" d=\"M840.99 1303.68 L835.35 1319.91 L818.166 1320.27 L831.87 1330.66 L826.878 1347.1 L840.99 1337.28 L855.102 1347.1 L850.11 1330.66 L863.814 1320.27 L846.63 1319.91 L840.99 1303.68 Z\" fill=\"#009af9\" fill-rule=\"evenodd\" fill-opacity=\"1\" stroke=\"#000000\" stroke-opacity=\"1\" stroke-width=\"3.2\"/>\n",
       "<path clip-path=\"url(#clip632)\" d=\"M847.68 1303.68 L842.04 1319.91 L824.856 1320.27 L838.56 1330.66 L833.568 1347.1 L847.68 1337.28 L861.792 1347.1 L856.8 1330.66 L870.504 1320.27 L853.32 1319.91 L847.68 1303.68 Z\" fill=\"#009af9\" fill-rule=\"evenodd\" fill-opacity=\"1\" stroke=\"#000000\" stroke-opacity=\"1\" stroke-width=\"3.2\"/>\n",
       "<path clip-path=\"url(#clip632)\" d=\"M854.37 1303.42 L848.73 1319.64 L831.546 1320 L845.25 1330.39 L840.258 1346.83 L854.37 1337.02 L868.482 1346.83 L863.49 1330.39 L877.194 1320 L860.01 1319.64 L854.37 1303.42 Z\" fill=\"#009af9\" fill-rule=\"evenodd\" fill-opacity=\"1\" stroke=\"#000000\" stroke-opacity=\"1\" stroke-width=\"3.2\"/>\n",
       "<path clip-path=\"url(#clip632)\" d=\"M861.06 1303.36 L855.42 1319.58 L838.236 1319.94 L851.94 1330.34 L846.948 1346.78 L861.06 1336.96 L875.172 1346.78 L870.18 1330.34 L883.884 1319.94 L866.7 1319.58 L861.06 1303.36 Z\" fill=\"#009af9\" fill-rule=\"evenodd\" fill-opacity=\"1\" stroke=\"#000000\" stroke-opacity=\"1\" stroke-width=\"3.2\"/>\n",
       "<path clip-path=\"url(#clip632)\" d=\"M867.75 1302.94 L862.11 1319.16 L844.926 1319.52 L858.63 1329.91 L853.638 1346.35 L867.75 1336.54 L881.862 1346.35 L876.87 1329.91 L890.574 1319.52 L873.39 1319.16 L867.75 1302.94 Z\" fill=\"#009af9\" fill-rule=\"evenodd\" fill-opacity=\"1\" stroke=\"#000000\" stroke-opacity=\"1\" stroke-width=\"3.2\"/>\n",
       "<path clip-path=\"url(#clip632)\" d=\"M874.44 1302.6 L868.8 1318.83 L851.616 1319.19 L865.32 1329.58 L860.328 1346.02 L874.44 1336.2 L888.552 1346.02 L883.56 1329.58 L897.264 1319.19 L880.08 1318.83 L874.44 1302.6 Z\" fill=\"#009af9\" fill-rule=\"evenodd\" fill-opacity=\"1\" stroke=\"#000000\" stroke-opacity=\"1\" stroke-width=\"3.2\"/>\n",
       "<path clip-path=\"url(#clip632)\" d=\"M881.13 1302.6 L875.49 1318.83 L858.306 1319.19 L872.01 1329.58 L867.018 1346.02 L881.13 1336.2 L895.242 1346.02 L890.25 1329.58 L903.954 1319.19 L886.77 1318.83 L881.13 1302.6 Z\" fill=\"#009af9\" fill-rule=\"evenodd\" fill-opacity=\"1\" stroke=\"#000000\" stroke-opacity=\"1\" stroke-width=\"3.2\"/>\n",
       "<path clip-path=\"url(#clip632)\" d=\"M887.82 1301.21 L882.18 1317.44 L864.996 1317.8 L878.7 1328.19 L873.708 1344.63 L887.82 1334.81 L901.932 1344.63 L896.94 1328.19 L910.644 1317.8 L893.46 1317.44 L887.82 1301.21 Z\" fill=\"#009af9\" fill-rule=\"evenodd\" fill-opacity=\"1\" stroke=\"#000000\" stroke-opacity=\"1\" stroke-width=\"3.2\"/>\n",
       "<path clip-path=\"url(#clip632)\" d=\"M894.511 1301.16 L888.871 1317.39 L871.687 1317.75 L885.391 1328.14 L880.399 1344.58 L894.511 1334.76 L908.623 1344.58 L903.631 1328.14 L917.335 1317.75 L900.151 1317.39 L894.511 1301.16 Z\" fill=\"#009af9\" fill-rule=\"evenodd\" fill-opacity=\"1\" stroke=\"#000000\" stroke-opacity=\"1\" stroke-width=\"3.2\"/>\n",
       "<path clip-path=\"url(#clip632)\" d=\"M901.201 1300.64 L895.561 1316.86 L878.377 1317.22 L892.081 1327.61 L887.089 1344.05 L901.201 1334.24 L915.313 1344.05 L910.321 1327.61 L924.025 1317.22 L906.841 1316.86 L901.201 1300.64 Z\" fill=\"#009af9\" fill-rule=\"evenodd\" fill-opacity=\"1\" stroke=\"#000000\" stroke-opacity=\"1\" stroke-width=\"3.2\"/>\n",
       "<path clip-path=\"url(#clip632)\" d=\"M907.891 1300.64 L902.251 1316.86 L885.067 1317.22 L898.771 1327.61 L893.779 1344.05 L907.891 1334.24 L922.003 1344.05 L917.011 1327.61 L930.715 1317.22 L913.531 1316.86 L907.891 1300.64 Z\" fill=\"#009af9\" fill-rule=\"evenodd\" fill-opacity=\"1\" stroke=\"#000000\" stroke-opacity=\"1\" stroke-width=\"3.2\"/>\n",
       "<path clip-path=\"url(#clip632)\" d=\"M914.581 1300.27 L908.941 1316.5 L891.757 1316.86 L905.461 1327.25 L900.469 1343.69 L914.581 1333.87 L928.693 1343.69 L923.701 1327.25 L937.405 1316.86 L920.221 1316.5 L914.581 1300.27 Z\" fill=\"#009af9\" fill-rule=\"evenodd\" fill-opacity=\"1\" stroke=\"#000000\" stroke-opacity=\"1\" stroke-width=\"3.2\"/>\n",
       "<path clip-path=\"url(#clip632)\" d=\"M921.271 1300.05 L915.631 1316.28 L898.447 1316.64 L912.151 1327.03 L907.159 1343.47 L921.271 1333.65 L935.383 1343.47 L930.391 1327.03 L944.095 1316.64 L926.911 1316.28 L921.271 1300.05 Z\" fill=\"#009af9\" fill-rule=\"evenodd\" fill-opacity=\"1\" stroke=\"#000000\" stroke-opacity=\"1\" stroke-width=\"3.2\"/>\n",
       "<path clip-path=\"url(#clip632)\" d=\"M927.961 1299.75 L922.321 1315.98 L905.137 1316.34 L918.841 1326.73 L913.849 1343.17 L927.961 1333.35 L942.073 1343.17 L937.081 1326.73 L950.785 1316.34 L933.601 1315.98 L927.961 1299.75 Z\" fill=\"#009af9\" fill-rule=\"evenodd\" fill-opacity=\"1\" stroke=\"#000000\" stroke-opacity=\"1\" stroke-width=\"3.2\"/>\n",
       "<path clip-path=\"url(#clip632)\" d=\"M934.651 1299.75 L929.011 1315.98 L911.827 1316.34 L925.531 1326.73 L920.539 1343.17 L934.651 1333.35 L948.763 1343.17 L943.771 1326.73 L957.475 1316.34 L940.291 1315.98 L934.651 1299.75 Z\" fill=\"#009af9\" fill-rule=\"evenodd\" fill-opacity=\"1\" stroke=\"#000000\" stroke-opacity=\"1\" stroke-width=\"3.2\"/>\n",
       "<path clip-path=\"url(#clip632)\" d=\"M941.341 1299.47 L935.701 1315.69 L918.517 1316.05 L932.221 1326.45 L927.229 1342.89 L941.341 1333.07 L955.453 1342.89 L950.461 1326.45 L964.165 1316.05 L946.981 1315.69 L941.341 1299.47 Z\" fill=\"#009af9\" fill-rule=\"evenodd\" fill-opacity=\"1\" stroke=\"#000000\" stroke-opacity=\"1\" stroke-width=\"3.2\"/>\n",
       "<path clip-path=\"url(#clip632)\" d=\"M948.031 1299.03 L942.391 1315.25 L925.207 1315.61 L938.911 1326 L933.919 1342.44 L948.031 1332.63 L962.143 1342.44 L957.151 1326 L970.855 1315.61 L953.671 1315.25 L948.031 1299.03 Z\" fill=\"#009af9\" fill-rule=\"evenodd\" fill-opacity=\"1\" stroke=\"#000000\" stroke-opacity=\"1\" stroke-width=\"3.2\"/>\n",
       "<path clip-path=\"url(#clip632)\" d=\"M954.722 1298.27 L949.082 1314.49 L931.898 1314.85 L945.602 1325.25 L940.61 1341.69 L954.722 1331.87 L968.834 1341.69 L963.842 1325.25 L977.546 1314.85 L960.362 1314.49 L954.722 1298.27 Z\" fill=\"#009af9\" fill-rule=\"evenodd\" fill-opacity=\"1\" stroke=\"#000000\" stroke-opacity=\"1\" stroke-width=\"3.2\"/>\n",
       "<path clip-path=\"url(#clip632)\" d=\"M961.412 1297.67 L955.772 1313.9 L938.588 1314.26 L952.292 1324.65 L947.3 1341.09 L961.412 1331.27 L975.524 1341.09 L970.532 1324.65 L984.236 1314.26 L967.052 1313.9 L961.412 1297.67 Z\" fill=\"#009af9\" fill-rule=\"evenodd\" fill-opacity=\"1\" stroke=\"#000000\" stroke-opacity=\"1\" stroke-width=\"3.2\"/>\n",
       "<path clip-path=\"url(#clip632)\" d=\"M968.102 1297.67 L962.462 1313.9 L945.278 1314.26 L958.982 1324.65 L953.99 1341.09 L968.102 1331.27 L982.214 1341.09 L977.222 1324.65 L990.926 1314.26 L973.742 1313.9 L968.102 1297.67 Z\" fill=\"#009af9\" fill-rule=\"evenodd\" fill-opacity=\"1\" stroke=\"#000000\" stroke-opacity=\"1\" stroke-width=\"3.2\"/>\n",
       "<path clip-path=\"url(#clip632)\" d=\"M974.792 1297.1 L969.152 1313.32 L951.968 1313.68 L965.672 1324.07 L960.68 1340.51 L974.792 1330.7 L988.904 1340.51 L983.912 1324.07 L997.616 1313.68 L980.432 1313.32 L974.792 1297.1 Z\" fill=\"#009af9\" fill-rule=\"evenodd\" fill-opacity=\"1\" stroke=\"#000000\" stroke-opacity=\"1\" stroke-width=\"3.2\"/>\n",
       "<path clip-path=\"url(#clip632)\" d=\"M981.482 1296.77 L975.842 1312.99 L958.658 1313.35 L972.362 1323.75 L967.37 1340.19 L981.482 1330.37 L995.594 1340.19 L990.602 1323.75 L1004.31 1313.35 L987.122 1312.99 L981.482 1296.77 Z\" fill=\"#009af9\" fill-rule=\"evenodd\" fill-opacity=\"1\" stroke=\"#000000\" stroke-opacity=\"1\" stroke-width=\"3.2\"/>\n",
       "<path clip-path=\"url(#clip632)\" d=\"M988.172 1296.77 L982.532 1312.99 L965.348 1313.35 L979.052 1323.75 L974.06 1340.19 L988.172 1330.37 L1002.28 1340.19 L997.292 1323.75 L1011 1313.35 L993.812 1312.99 L988.172 1296.77 Z\" fill=\"#009af9\" fill-rule=\"evenodd\" fill-opacity=\"1\" stroke=\"#000000\" stroke-opacity=\"1\" stroke-width=\"3.2\"/>\n",
       "<path clip-path=\"url(#clip632)\" d=\"M994.862 1295.55 L989.222 1311.77 L972.038 1312.13 L985.742 1322.52 L980.75 1338.96 L994.862 1329.15 L1008.97 1338.96 L1003.98 1322.52 L1017.69 1312.13 L1000.5 1311.77 L994.862 1295.55 Z\" fill=\"#009af9\" fill-rule=\"evenodd\" fill-opacity=\"1\" stroke=\"#000000\" stroke-opacity=\"1\" stroke-width=\"3.2\"/>\n",
       "<path clip-path=\"url(#clip632)\" d=\"M1001.55 1295.23 L995.912 1311.45 L978.728 1311.81 L992.432 1322.2 L987.44 1338.64 L1001.55 1328.83 L1015.66 1338.64 L1010.67 1322.2 L1024.38 1311.81 L1007.19 1311.45 L1001.55 1295.23 Z\" fill=\"#009af9\" fill-rule=\"evenodd\" fill-opacity=\"1\" stroke=\"#000000\" stroke-opacity=\"1\" stroke-width=\"3.2\"/>\n",
       "<path clip-path=\"url(#clip632)\" d=\"M1008.24 1294.47 L1002.6 1310.7 L985.419 1311.06 L999.123 1321.45 L994.131 1337.89 L1008.24 1328.07 L1022.35 1337.89 L1017.36 1321.45 L1031.07 1311.06 L1013.88 1310.7 L1008.24 1294.47 Z\" fill=\"#009af9\" fill-rule=\"evenodd\" fill-opacity=\"1\" stroke=\"#000000\" stroke-opacity=\"1\" stroke-width=\"3.2\"/>\n",
       "<path clip-path=\"url(#clip632)\" d=\"M1014.93 1293.53 L1009.29 1309.75 L992.109 1310.11 L1005.81 1320.5 L1000.82 1336.94 L1014.93 1327.13 L1029.04 1336.94 L1024.05 1320.5 L1037.76 1310.11 L1020.57 1309.75 L1014.93 1293.53 Z\" fill=\"#009af9\" fill-rule=\"evenodd\" fill-opacity=\"1\" stroke=\"#000000\" stroke-opacity=\"1\" stroke-width=\"3.2\"/>\n",
       "<path clip-path=\"url(#clip632)\" d=\"M1021.62 1293.53 L1015.98 1309.75 L998.799 1310.11 L1012.5 1320.5 L1007.51 1336.94 L1021.62 1327.13 L1035.73 1336.94 L1030.74 1320.5 L1044.45 1310.11 L1027.26 1309.75 L1021.62 1293.53 Z\" fill=\"#009af9\" fill-rule=\"evenodd\" fill-opacity=\"1\" stroke=\"#000000\" stroke-opacity=\"1\" stroke-width=\"3.2\"/>\n",
       "<path clip-path=\"url(#clip632)\" d=\"M1028.31 1292.89 L1022.67 1309.11 L1005.49 1309.47 L1019.19 1319.86 L1014.2 1336.3 L1028.31 1326.49 L1042.42 1336.3 L1037.43 1319.86 L1051.14 1309.47 L1033.95 1309.11 L1028.31 1292.89 Z\" fill=\"#009af9\" fill-rule=\"evenodd\" fill-opacity=\"1\" stroke=\"#000000\" stroke-opacity=\"1\" stroke-width=\"3.2\"/>\n",
       "<path clip-path=\"url(#clip632)\" d=\"M1035 1291.32 L1029.36 1307.54 L1012.18 1307.9 L1025.88 1318.3 L1020.89 1334.74 L1035 1324.92 L1049.12 1334.74 L1044.12 1318.3 L1057.83 1307.9 L1040.64 1307.54 L1035 1291.32 Z\" fill=\"#009af9\" fill-rule=\"evenodd\" fill-opacity=\"1\" stroke=\"#000000\" stroke-opacity=\"1\" stroke-width=\"3.2\"/>\n",
       "<path clip-path=\"url(#clip632)\" d=\"M1041.69 1291.32 L1036.05 1307.54 L1018.87 1307.9 L1032.57 1318.3 L1027.58 1334.74 L1041.69 1324.92 L1055.81 1334.74 L1050.81 1318.3 L1064.52 1307.9 L1047.33 1307.54 L1041.69 1291.32 Z\" fill=\"#009af9\" fill-rule=\"evenodd\" fill-opacity=\"1\" stroke=\"#000000\" stroke-opacity=\"1\" stroke-width=\"3.2\"/>\n",
       "<path clip-path=\"url(#clip632)\" d=\"M1048.38 1291.32 L1042.74 1307.54 L1025.56 1307.9 L1039.26 1318.3 L1034.27 1334.74 L1048.38 1324.92 L1062.5 1334.74 L1057.5 1318.3 L1071.21 1307.9 L1054.02 1307.54 L1048.38 1291.32 Z\" fill=\"#009af9\" fill-rule=\"evenodd\" fill-opacity=\"1\" stroke=\"#000000\" stroke-opacity=\"1\" stroke-width=\"3.2\"/>\n",
       "<path clip-path=\"url(#clip632)\" d=\"M1055.07 1290.7 L1049.43 1306.93 L1032.25 1307.29 L1045.95 1317.68 L1040.96 1334.12 L1055.07 1324.3 L1069.19 1334.12 L1064.19 1317.68 L1077.9 1307.29 L1060.71 1306.93 L1055.07 1290.7 Z\" fill=\"#009af9\" fill-rule=\"evenodd\" fill-opacity=\"1\" stroke=\"#000000\" stroke-opacity=\"1\" stroke-width=\"3.2\"/>\n",
       "<path clip-path=\"url(#clip632)\" d=\"M1061.76 1289.67 L1056.12 1305.9 L1038.94 1306.26 L1052.64 1316.65 L1047.65 1333.09 L1061.76 1323.27 L1075.88 1333.09 L1070.88 1316.65 L1084.59 1306.26 L1067.4 1305.9 L1061.76 1289.67 Z\" fill=\"#009af9\" fill-rule=\"evenodd\" fill-opacity=\"1\" stroke=\"#000000\" stroke-opacity=\"1\" stroke-width=\"3.2\"/>\n",
       "<path clip-path=\"url(#clip632)\" d=\"M1068.45 1289.67 L1062.81 1305.9 L1045.63 1306.26 L1059.33 1316.65 L1054.34 1333.09 L1068.45 1323.27 L1082.57 1333.09 L1077.57 1316.65 L1091.28 1306.26 L1074.09 1305.9 L1068.45 1289.67 Z\" fill=\"#009af9\" fill-rule=\"evenodd\" fill-opacity=\"1\" stroke=\"#000000\" stroke-opacity=\"1\" stroke-width=\"3.2\"/>\n",
       "<path clip-path=\"url(#clip632)\" d=\"M1075.14 1288.71 L1069.5 1304.93 L1052.32 1305.29 L1066.02 1315.68 L1061.03 1332.12 L1075.14 1322.31 L1089.26 1332.12 L1084.26 1315.68 L1097.97 1305.29 L1080.78 1304.93 L1075.14 1288.71 Z\" fill=\"#009af9\" fill-rule=\"evenodd\" fill-opacity=\"1\" stroke=\"#000000\" stroke-opacity=\"1\" stroke-width=\"3.2\"/>\n",
       "<path clip-path=\"url(#clip632)\" d=\"M1081.83 1288.71 L1076.19 1304.93 L1059.01 1305.29 L1072.71 1315.68 L1067.72 1332.12 L1081.83 1322.31 L1095.95 1332.12 L1090.95 1315.68 L1104.66 1305.29 L1087.47 1304.93 L1081.83 1288.71 Z\" fill=\"#009af9\" fill-rule=\"evenodd\" fill-opacity=\"1\" stroke=\"#000000\" stroke-opacity=\"1\" stroke-width=\"3.2\"/>\n",
       "<path clip-path=\"url(#clip632)\" d=\"M1088.52 1285.72 L1082.88 1301.95 L1065.7 1302.31 L1079.4 1312.7 L1074.41 1329.14 L1088.52 1319.32 L1102.64 1329.14 L1097.64 1312.7 L1111.35 1302.31 L1094.16 1301.95 L1088.52 1285.72 Z\" fill=\"#009af9\" fill-rule=\"evenodd\" fill-opacity=\"1\" stroke=\"#000000\" stroke-opacity=\"1\" stroke-width=\"3.2\"/>\n",
       "<path clip-path=\"url(#clip632)\" d=\"M1095.21 1285.72 L1089.57 1301.95 L1072.39 1302.31 L1086.09 1312.7 L1081.1 1329.14 L1095.21 1319.32 L1109.33 1329.14 L1104.33 1312.7 L1118.04 1302.31 L1100.85 1301.95 L1095.21 1285.72 Z\" fill=\"#009af9\" fill-rule=\"evenodd\" fill-opacity=\"1\" stroke=\"#000000\" stroke-opacity=\"1\" stroke-width=\"3.2\"/>\n",
       "<path clip-path=\"url(#clip632)\" d=\"M1101.9 1284.7 L1096.26 1300.92 L1079.08 1301.28 L1092.78 1311.67 L1087.79 1328.11 L1101.9 1318.3 L1116.02 1328.11 L1111.02 1311.67 L1124.73 1301.28 L1107.54 1300.92 L1101.9 1284.7 Z\" fill=\"#009af9\" fill-rule=\"evenodd\" fill-opacity=\"1\" stroke=\"#000000\" stroke-opacity=\"1\" stroke-width=\"3.2\"/>\n",
       "<path clip-path=\"url(#clip632)\" d=\"M1108.59 1284.7 L1102.95 1300.92 L1085.77 1301.28 L1099.47 1311.67 L1094.48 1328.11 L1108.59 1318.3 L1122.71 1328.11 L1117.71 1311.67 L1131.42 1301.28 L1114.23 1300.92 L1108.59 1284.7 Z\" fill=\"#009af9\" fill-rule=\"evenodd\" fill-opacity=\"1\" stroke=\"#000000\" stroke-opacity=\"1\" stroke-width=\"3.2\"/>\n",
       "<path clip-path=\"url(#clip632)\" d=\"M1115.28 1284.7 L1109.64 1300.92 L1092.46 1301.28 L1106.16 1311.67 L1101.17 1328.11 L1115.28 1318.3 L1129.4 1328.11 L1124.4 1311.67 L1138.11 1301.28 L1120.92 1300.92 L1115.28 1284.7 Z\" fill=\"#009af9\" fill-rule=\"evenodd\" fill-opacity=\"1\" stroke=\"#000000\" stroke-opacity=\"1\" stroke-width=\"3.2\"/>\n",
       "<path clip-path=\"url(#clip632)\" d=\"M1121.97 1284.7 L1116.33 1300.92 L1099.15 1301.28 L1112.85 1311.67 L1107.86 1328.11 L1121.97 1318.3 L1136.09 1328.11 L1131.09 1311.67 L1144.8 1301.28 L1127.61 1300.92 L1121.97 1284.7 Z\" fill=\"#009af9\" fill-rule=\"evenodd\" fill-opacity=\"1\" stroke=\"#000000\" stroke-opacity=\"1\" stroke-width=\"3.2\"/>\n",
       "<path clip-path=\"url(#clip632)\" d=\"M1128.66 1284.7 L1123.02 1300.92 L1105.84 1301.28 L1119.54 1311.67 L1114.55 1328.11 L1128.66 1318.3 L1142.78 1328.11 L1137.78 1311.67 L1151.49 1301.28 L1134.3 1300.92 L1128.66 1284.7 Z\" fill=\"#009af9\" fill-rule=\"evenodd\" fill-opacity=\"1\" stroke=\"#000000\" stroke-opacity=\"1\" stroke-width=\"3.2\"/>\n",
       "<path clip-path=\"url(#clip632)\" d=\"M1135.35 1284.7 L1129.71 1300.92 L1112.53 1301.28 L1126.23 1311.67 L1121.24 1328.11 L1135.35 1318.3 L1149.47 1328.11 L1144.47 1311.67 L1158.18 1301.28 L1140.99 1300.92 L1135.35 1284.7 Z\" fill=\"#009af9\" fill-rule=\"evenodd\" fill-opacity=\"1\" stroke=\"#000000\" stroke-opacity=\"1\" stroke-width=\"3.2\"/>\n",
       "<path clip-path=\"url(#clip632)\" d=\"M1142.04 1284.7 L1136.4 1300.92 L1119.22 1301.28 L1132.92 1311.67 L1127.93 1328.11 L1142.04 1318.3 L1156.16 1328.11 L1151.16 1311.67 L1164.87 1301.28 L1147.68 1300.92 L1142.04 1284.7 Z\" fill=\"#009af9\" fill-rule=\"evenodd\" fill-opacity=\"1\" stroke=\"#000000\" stroke-opacity=\"1\" stroke-width=\"3.2\"/>\n",
       "<path clip-path=\"url(#clip632)\" d=\"M1148.74 1284.7 L1143.1 1300.92 L1125.91 1301.28 L1139.62 1311.67 L1134.62 1328.11 L1148.74 1318.3 L1162.85 1328.11 L1157.86 1311.67 L1171.56 1301.28 L1154.38 1300.92 L1148.74 1284.7 Z\" fill=\"#009af9\" fill-rule=\"evenodd\" fill-opacity=\"1\" stroke=\"#000000\" stroke-opacity=\"1\" stroke-width=\"3.2\"/>\n",
       "<path clip-path=\"url(#clip632)\" d=\"M1155.43 1284.7 L1149.79 1300.92 L1132.6 1301.28 L1146.31 1311.67 L1141.31 1328.11 L1155.43 1318.3 L1169.54 1328.11 L1164.55 1311.67 L1178.25 1301.28 L1161.07 1300.92 L1155.43 1284.7 Z\" fill=\"#009af9\" fill-rule=\"evenodd\" fill-opacity=\"1\" stroke=\"#000000\" stroke-opacity=\"1\" stroke-width=\"3.2\"/>\n",
       "<path clip-path=\"url(#clip632)\" d=\"M1162.12 1284.7 L1156.48 1300.92 L1139.29 1301.28 L1153 1311.67 L1148 1328.11 L1162.12 1318.3 L1176.23 1328.11 L1171.24 1311.67 L1184.94 1301.28 L1167.76 1300.92 L1162.12 1284.7 Z\" fill=\"#009af9\" fill-rule=\"evenodd\" fill-opacity=\"1\" stroke=\"#000000\" stroke-opacity=\"1\" stroke-width=\"3.2\"/>\n",
       "<path clip-path=\"url(#clip632)\" d=\"M1168.81 1284.7 L1163.17 1300.92 L1145.98 1301.28 L1159.69 1311.67 L1154.69 1328.11 L1168.81 1318.3 L1182.92 1328.11 L1177.93 1311.67 L1191.63 1301.28 L1174.45 1300.92 L1168.81 1284.7 Z\" fill=\"#009af9\" fill-rule=\"evenodd\" fill-opacity=\"1\" stroke=\"#000000\" stroke-opacity=\"1\" stroke-width=\"3.2\"/>\n",
       "<path clip-path=\"url(#clip632)\" d=\"M1175.5 1284.7 L1169.86 1300.92 L1152.67 1301.28 L1166.38 1311.67 L1161.38 1328.11 L1175.5 1318.3 L1189.61 1328.11 L1184.62 1311.67 L1198.32 1301.28 L1181.14 1300.92 L1175.5 1284.7 Z\" fill=\"#009af9\" fill-rule=\"evenodd\" fill-opacity=\"1\" stroke=\"#000000\" stroke-opacity=\"1\" stroke-width=\"3.2\"/>\n",
       "<path clip-path=\"url(#clip632)\" d=\"M1182.19 1284.7 L1176.55 1300.92 L1159.36 1301.28 L1173.07 1311.67 L1168.07 1328.11 L1182.19 1318.3 L1196.3 1328.11 L1191.31 1311.67 L1205.01 1301.28 L1187.83 1300.92 L1182.19 1284.7 Z\" fill=\"#009af9\" fill-rule=\"evenodd\" fill-opacity=\"1\" stroke=\"#000000\" stroke-opacity=\"1\" stroke-width=\"3.2\"/>\n",
       "<path clip-path=\"url(#clip632)\" d=\"M1188.88 1284.7 L1183.24 1300.92 L1166.05 1301.28 L1179.76 1311.67 L1174.76 1328.11 L1188.88 1318.3 L1202.99 1328.11 L1198 1311.67 L1211.7 1301.28 L1194.52 1300.92 L1188.88 1284.7 Z\" fill=\"#009af9\" fill-rule=\"evenodd\" fill-opacity=\"1\" stroke=\"#000000\" stroke-opacity=\"1\" stroke-width=\"3.2\"/>\n",
       "<path clip-path=\"url(#clip632)\" d=\"M1195.57 1284.7 L1189.93 1300.92 L1172.74 1301.28 L1186.45 1311.67 L1181.45 1328.11 L1195.57 1318.3 L1209.68 1328.11 L1204.69 1311.67 L1218.39 1301.28 L1201.21 1300.92 L1195.57 1284.7 Z\" fill=\"#009af9\" fill-rule=\"evenodd\" fill-opacity=\"1\" stroke=\"#000000\" stroke-opacity=\"1\" stroke-width=\"3.2\"/>\n",
       "<path clip-path=\"url(#clip632)\" d=\"M1202.26 1284.7 L1196.62 1300.92 L1179.43 1301.28 L1193.14 1311.67 L1188.14 1328.11 L1202.26 1318.3 L1216.37 1328.11 L1211.38 1311.67 L1225.08 1301.28 L1207.9 1300.92 L1202.26 1284.7 Z\" fill=\"#009af9\" fill-rule=\"evenodd\" fill-opacity=\"1\" stroke=\"#000000\" stroke-opacity=\"1\" stroke-width=\"3.2\"/>\n",
       "<path clip-path=\"url(#clip632)\" d=\"M1208.95 1284.7 L1203.31 1300.92 L1186.12 1301.28 L1199.83 1311.67 L1194.83 1328.11 L1208.95 1318.3 L1223.06 1328.11 L1218.07 1311.67 L1231.77 1301.28 L1214.59 1300.92 L1208.95 1284.7 Z\" fill=\"#009af9\" fill-rule=\"evenodd\" fill-opacity=\"1\" stroke=\"#000000\" stroke-opacity=\"1\" stroke-width=\"3.2\"/>\n",
       "<path clip-path=\"url(#clip632)\" d=\"M1215.64 1284.7 L1210 1300.92 L1192.81 1301.28 L1206.52 1311.67 L1201.52 1328.11 L1215.64 1318.3 L1229.75 1328.11 L1224.76 1311.67 L1238.46 1301.28 L1221.28 1300.92 L1215.64 1284.7 Z\" fill=\"#009af9\" fill-rule=\"evenodd\" fill-opacity=\"1\" stroke=\"#000000\" stroke-opacity=\"1\" stroke-width=\"3.2\"/>\n",
       "<path clip-path=\"url(#clip632)\" d=\"M1222.33 1284.7 L1216.69 1300.92 L1199.5 1301.28 L1213.21 1311.67 L1208.21 1328.11 L1222.33 1318.3 L1236.44 1328.11 L1231.45 1311.67 L1245.15 1301.28 L1227.97 1300.92 L1222.33 1284.7 Z\" fill=\"#009af9\" fill-rule=\"evenodd\" fill-opacity=\"1\" stroke=\"#000000\" stroke-opacity=\"1\" stroke-width=\"3.2\"/>\n",
       "<path clip-path=\"url(#clip632)\" d=\"M1229.02 1284.7 L1223.38 1300.92 L1206.19 1301.28 L1219.9 1311.67 L1214.9 1328.11 L1229.02 1318.3 L1243.13 1328.11 L1238.14 1311.67 L1251.84 1301.28 L1234.66 1300.92 L1229.02 1284.7 Z\" fill=\"#009af9\" fill-rule=\"evenodd\" fill-opacity=\"1\" stroke=\"#000000\" stroke-opacity=\"1\" stroke-width=\"3.2\"/>\n",
       "<path clip-path=\"url(#clip632)\" d=\"M1235.71 1284.7 L1230.07 1300.92 L1212.88 1301.28 L1226.59 1311.67 L1221.59 1328.11 L1235.71 1318.3 L1249.82 1328.11 L1244.83 1311.67 L1258.53 1301.28 L1241.35 1300.92 L1235.71 1284.7 Z\" fill=\"#009af9\" fill-rule=\"evenodd\" fill-opacity=\"1\" stroke=\"#000000\" stroke-opacity=\"1\" stroke-width=\"3.2\"/>\n",
       "<path clip-path=\"url(#clip632)\" d=\"M1242.4 1284.7 L1236.76 1300.92 L1219.57 1301.28 L1233.28 1311.67 L1228.28 1328.11 L1242.4 1318.3 L1256.51 1328.11 L1251.52 1311.67 L1265.22 1301.28 L1248.04 1300.92 L1242.4 1284.7 Z\" fill=\"#009af9\" fill-rule=\"evenodd\" fill-opacity=\"1\" stroke=\"#000000\" stroke-opacity=\"1\" stroke-width=\"3.2\"/>\n",
       "<path clip-path=\"url(#clip632)\" d=\"M1249.09 1284.7 L1243.45 1300.92 L1226.26 1301.28 L1239.97 1311.67 L1234.97 1328.11 L1249.09 1318.3 L1263.2 1328.11 L1258.21 1311.67 L1271.91 1301.28 L1254.73 1300.92 L1249.09 1284.7 Z\" fill=\"#009af9\" fill-rule=\"evenodd\" fill-opacity=\"1\" stroke=\"#000000\" stroke-opacity=\"1\" stroke-width=\"3.2\"/>\n",
       "<path clip-path=\"url(#clip632)\" d=\"M1255.78 1284.7 L1250.14 1300.92 L1232.95 1301.28 L1246.66 1311.67 L1241.66 1328.11 L1255.78 1318.3 L1269.89 1328.11 L1264.9 1311.67 L1278.6 1301.28 L1261.42 1300.92 L1255.78 1284.7 Z\" fill=\"#009af9\" fill-rule=\"evenodd\" fill-opacity=\"1\" stroke=\"#000000\" stroke-opacity=\"1\" stroke-width=\"3.2\"/>\n",
       "<path clip-path=\"url(#clip632)\" d=\"M1262.47 1284.7 L1256.83 1300.92 L1239.64 1301.28 L1253.35 1311.67 L1248.36 1328.11 L1262.47 1318.3 L1276.58 1328.11 L1271.59 1311.67 L1285.29 1301.28 L1268.11 1300.92 L1262.47 1284.7 Z\" fill=\"#009af9\" fill-rule=\"evenodd\" fill-opacity=\"1\" stroke=\"#000000\" stroke-opacity=\"1\" stroke-width=\"3.2\"/>\n",
       "<path clip-path=\"url(#clip632)\" d=\"M1269.16 1284.7 L1263.52 1300.92 L1246.33 1301.28 L1260.04 1311.67 L1255.05 1328.11 L1269.16 1318.3 L1283.27 1328.11 L1278.28 1311.67 L1291.98 1301.28 L1274.8 1300.92 L1269.16 1284.7 Z\" fill=\"#009af9\" fill-rule=\"evenodd\" fill-opacity=\"1\" stroke=\"#000000\" stroke-opacity=\"1\" stroke-width=\"3.2\"/>\n",
       "<path clip-path=\"url(#clip632)\" d=\"M1275.85 1284.7 L1270.21 1300.92 L1253.02 1301.28 L1266.73 1311.67 L1261.74 1328.11 L1275.85 1318.3 L1289.96 1328.11 L1284.97 1311.67 L1298.67 1301.28 L1281.49 1300.92 L1275.85 1284.7 Z\" fill=\"#009af9\" fill-rule=\"evenodd\" fill-opacity=\"1\" stroke=\"#000000\" stroke-opacity=\"1\" stroke-width=\"3.2\"/>\n",
       "<path clip-path=\"url(#clip632)\" d=\"M1282.54 1284.7 L1276.9 1300.92 L1259.71 1301.28 L1273.42 1311.67 L1268.43 1328.11 L1282.54 1318.3 L1296.65 1328.11 L1291.66 1311.67 L1305.36 1301.28 L1288.18 1300.92 L1282.54 1284.7 Z\" fill=\"#009af9\" fill-rule=\"evenodd\" fill-opacity=\"1\" stroke=\"#000000\" stroke-opacity=\"1\" stroke-width=\"3.2\"/>\n",
       "<path clip-path=\"url(#clip632)\" d=\"M1289.23 1284.7 L1283.59 1300.92 L1266.4 1301.28 L1280.11 1311.67 L1275.12 1328.11 L1289.23 1318.3 L1303.34 1328.11 L1298.35 1311.67 L1312.05 1301.28 L1294.87 1300.92 L1289.23 1284.7 Z\" fill=\"#009af9\" fill-rule=\"evenodd\" fill-opacity=\"1\" stroke=\"#000000\" stroke-opacity=\"1\" stroke-width=\"3.2\"/>\n",
       "<path clip-path=\"url(#clip632)\" d=\"M1295.92 1284.7 L1290.28 1300.92 L1273.09 1301.28 L1286.8 1311.67 L1281.81 1328.11 L1295.92 1318.3 L1310.03 1328.11 L1305.04 1311.67 L1318.74 1301.28 L1301.56 1300.92 L1295.92 1284.7 Z\" fill=\"#009af9\" fill-rule=\"evenodd\" fill-opacity=\"1\" stroke=\"#000000\" stroke-opacity=\"1\" stroke-width=\"3.2\"/>\n",
       "<path clip-path=\"url(#clip632)\" d=\"M1302.61 1284.7 L1296.97 1300.92 L1279.78 1301.28 L1293.49 1311.67 L1288.5 1328.11 L1302.61 1318.3 L1316.72 1328.11 L1311.73 1311.67 L1325.43 1301.28 L1308.25 1300.92 L1302.61 1284.7 Z\" fill=\"#009af9\" fill-rule=\"evenodd\" fill-opacity=\"1\" stroke=\"#000000\" stroke-opacity=\"1\" stroke-width=\"3.2\"/>\n",
       "<path clip-path=\"url(#clip632)\" d=\"M1309.3 1284.7 L1303.66 1300.92 L1286.47 1301.28 L1300.18 1311.67 L1295.19 1328.11 L1309.3 1318.3 L1323.41 1328.11 L1318.42 1311.67 L1332.12 1301.28 L1314.94 1300.92 L1309.3 1284.7 Z\" fill=\"#009af9\" fill-rule=\"evenodd\" fill-opacity=\"1\" stroke=\"#000000\" stroke-opacity=\"1\" stroke-width=\"3.2\"/>\n",
       "<path clip-path=\"url(#clip632)\" d=\"M1315.99 1284.7 L1310.35 1300.92 L1293.16 1301.28 L1306.87 1311.67 L1301.88 1328.11 L1315.99 1318.3 L1330.1 1328.11 L1325.11 1311.67 L1338.81 1301.28 L1321.63 1300.92 L1315.99 1284.7 Z\" fill=\"#009af9\" fill-rule=\"evenodd\" fill-opacity=\"1\" stroke=\"#000000\" stroke-opacity=\"1\" stroke-width=\"3.2\"/>\n",
       "<path clip-path=\"url(#clip632)\" d=\"M1322.68 1284.7 L1317.04 1300.92 L1299.85 1301.28 L1313.56 1311.67 L1308.57 1328.11 L1322.68 1318.3 L1336.79 1328.11 L1331.8 1311.67 L1345.5 1301.28 L1328.32 1300.92 L1322.68 1284.7 Z\" fill=\"#009af9\" fill-rule=\"evenodd\" fill-opacity=\"1\" stroke=\"#000000\" stroke-opacity=\"1\" stroke-width=\"3.2\"/>\n",
       "<path clip-path=\"url(#clip632)\" d=\"M1329.37 1283.67 L1323.73 1299.89 L1306.54 1300.25 L1320.25 1310.64 L1315.26 1327.08 L1329.37 1317.27 L1343.48 1327.08 L1338.49 1310.64 L1352.19 1300.25 L1335.01 1299.89 L1329.37 1283.67 Z\" fill=\"#009af9\" fill-rule=\"evenodd\" fill-opacity=\"1\" stroke=\"#000000\" stroke-opacity=\"1\" stroke-width=\"3.2\"/>\n",
       "<path clip-path=\"url(#clip632)\" d=\"M1336.06 1283.67 L1330.42 1299.89 L1313.23 1300.25 L1326.94 1310.64 L1321.95 1327.08 L1336.06 1317.27 L1350.17 1327.08 L1345.18 1310.64 L1358.88 1300.25 L1341.7 1299.89 L1336.06 1283.67 Z\" fill=\"#009af9\" fill-rule=\"evenodd\" fill-opacity=\"1\" stroke=\"#000000\" stroke-opacity=\"1\" stroke-width=\"3.2\"/>\n",
       "<path clip-path=\"url(#clip632)\" d=\"M1342.75 1280.68 L1337.11 1296.91 L1319.92 1297.27 L1333.63 1307.66 L1328.64 1324.1 L1342.75 1314.28 L1356.86 1324.1 L1351.87 1307.66 L1365.57 1297.27 L1348.39 1296.91 L1342.75 1280.68 Z\" fill=\"#009af9\" fill-rule=\"evenodd\" fill-opacity=\"1\" stroke=\"#000000\" stroke-opacity=\"1\" stroke-width=\"3.2\"/>\n",
       "<path clip-path=\"url(#clip632)\" d=\"M1349.44 1280.68 L1343.8 1296.91 L1326.61 1297.27 L1340.32 1307.66 L1335.33 1324.1 L1349.44 1314.28 L1363.55 1324.1 L1358.56 1307.66 L1372.26 1297.27 L1355.08 1296.91 L1349.44 1280.68 Z\" fill=\"#009af9\" fill-rule=\"evenodd\" fill-opacity=\"1\" stroke=\"#000000\" stroke-opacity=\"1\" stroke-width=\"3.2\"/>\n",
       "<path clip-path=\"url(#clip632)\" d=\"M1356.13 1279.72 L1350.49 1295.94 L1333.3 1296.3 L1347.01 1306.69 L1342.02 1323.13 L1356.13 1313.32 L1370.24 1323.13 L1365.25 1306.69 L1378.95 1296.3 L1361.77 1295.94 L1356.13 1279.72 Z\" fill=\"#009af9\" fill-rule=\"evenodd\" fill-opacity=\"1\" stroke=\"#000000\" stroke-opacity=\"1\" stroke-width=\"3.2\"/>\n",
       "<path clip-path=\"url(#clip632)\" d=\"M1362.82 1279.72 L1357.18 1295.94 L1339.99 1296.3 L1353.7 1306.69 L1348.71 1323.13 L1362.82 1313.32 L1376.93 1323.13 L1371.94 1306.69 L1385.64 1296.3 L1368.46 1295.94 L1362.82 1279.72 Z\" fill=\"#009af9\" fill-rule=\"evenodd\" fill-opacity=\"1\" stroke=\"#000000\" stroke-opacity=\"1\" stroke-width=\"3.2\"/>\n",
       "<path clip-path=\"url(#clip632)\" d=\"M1369.51 1278.69 L1363.87 1294.91 L1346.69 1295.27 L1360.39 1305.66 L1355.4 1322.1 L1369.51 1312.29 L1383.62 1322.1 L1378.63 1305.66 L1392.33 1295.27 L1375.15 1294.91 L1369.51 1278.69 Z\" fill=\"#009af9\" fill-rule=\"evenodd\" fill-opacity=\"1\" stroke=\"#000000\" stroke-opacity=\"1\" stroke-width=\"3.2\"/>\n",
       "<path clip-path=\"url(#clip632)\" d=\"M1376.2 1278.07 L1370.56 1294.29 L1353.38 1294.65 L1367.08 1305.05 L1362.09 1321.49 L1376.2 1311.67 L1390.31 1321.49 L1385.32 1305.05 L1399.02 1294.65 L1381.84 1294.29 L1376.2 1278.07 Z\" fill=\"#009af9\" fill-rule=\"evenodd\" fill-opacity=\"1\" stroke=\"#000000\" stroke-opacity=\"1\" stroke-width=\"3.2\"/>\n",
       "<path clip-path=\"url(#clip632)\" d=\"M1382.89 1278.07 L1377.25 1294.29 L1360.07 1294.65 L1373.77 1305.05 L1368.78 1321.49 L1382.89 1311.67 L1397 1321.49 L1392.01 1305.05 L1405.71 1294.65 L1388.53 1294.29 L1382.89 1278.07 Z\" fill=\"#009af9\" fill-rule=\"evenodd\" fill-opacity=\"1\" stroke=\"#000000\" stroke-opacity=\"1\" stroke-width=\"3.2\"/>\n",
       "<path clip-path=\"url(#clip632)\" d=\"M1389.58 1278.07 L1383.94 1294.29 L1366.76 1294.65 L1380.46 1305.05 L1375.47 1321.49 L1389.58 1311.67 L1403.69 1321.49 L1398.7 1305.05 L1412.4 1294.65 L1395.22 1294.29 L1389.58 1278.07 Z\" fill=\"#009af9\" fill-rule=\"evenodd\" fill-opacity=\"1\" stroke=\"#000000\" stroke-opacity=\"1\" stroke-width=\"3.2\"/>\n",
       "<path clip-path=\"url(#clip632)\" d=\"M1396.27 1276.51 L1390.63 1292.73 L1373.45 1293.09 L1387.15 1303.48 L1382.16 1319.92 L1396.27 1310.11 L1410.38 1319.92 L1405.39 1303.48 L1419.09 1293.09 L1401.91 1292.73 L1396.27 1276.51 Z\" fill=\"#009af9\" fill-rule=\"evenodd\" fill-opacity=\"1\" stroke=\"#000000\" stroke-opacity=\"1\" stroke-width=\"3.2\"/>\n",
       "<path clip-path=\"url(#clip632)\" d=\"M1402.96 1275.87 L1397.32 1292.09 L1380.14 1292.45 L1393.84 1302.84 L1388.85 1319.28 L1402.96 1309.47 L1417.07 1319.28 L1412.08 1302.84 L1425.78 1292.45 L1408.6 1292.09 L1402.96 1275.87 Z\" fill=\"#009af9\" fill-rule=\"evenodd\" fill-opacity=\"1\" stroke=\"#000000\" stroke-opacity=\"1\" stroke-width=\"3.2\"/>\n",
       "<path clip-path=\"url(#clip632)\" d=\"M1409.65 1275.87 L1404.01 1292.09 L1386.83 1292.45 L1400.53 1302.84 L1395.54 1319.28 L1409.65 1309.47 L1423.76 1319.28 L1418.77 1302.84 L1432.47 1292.45 L1415.29 1292.09 L1409.65 1275.87 Z\" fill=\"#009af9\" fill-rule=\"evenodd\" fill-opacity=\"1\" stroke=\"#000000\" stroke-opacity=\"1\" stroke-width=\"3.2\"/>\n",
       "<path clip-path=\"url(#clip632)\" d=\"M1416.34 1274.92 L1410.7 1291.14 L1393.52 1291.5 L1407.22 1301.9 L1402.23 1318.34 L1416.34 1308.52 L1430.45 1318.34 L1425.46 1301.9 L1439.16 1291.5 L1421.98 1291.14 L1416.34 1274.92 Z\" fill=\"#009af9\" fill-rule=\"evenodd\" fill-opacity=\"1\" stroke=\"#000000\" stroke-opacity=\"1\" stroke-width=\"3.2\"/>\n",
       "<path clip-path=\"url(#clip632)\" d=\"M1423.03 1274.16 L1417.39 1290.39 L1400.21 1290.75 L1413.91 1301.14 L1408.92 1317.58 L1423.03 1307.76 L1437.14 1317.58 L1432.15 1301.14 L1445.85 1290.75 L1428.67 1290.39 L1423.03 1274.16 Z\" fill=\"#009af9\" fill-rule=\"evenodd\" fill-opacity=\"1\" stroke=\"#000000\" stroke-opacity=\"1\" stroke-width=\"3.2\"/>\n",
       "<path clip-path=\"url(#clip632)\" d=\"M1429.72 1273.84 L1424.08 1290.07 L1406.9 1290.43 L1420.6 1300.82 L1415.61 1317.26 L1429.72 1307.44 L1443.83 1317.26 L1438.84 1300.82 L1452.54 1290.43 L1435.36 1290.07 L1429.72 1273.84 Z\" fill=\"#009af9\" fill-rule=\"evenodd\" fill-opacity=\"1\" stroke=\"#000000\" stroke-opacity=\"1\" stroke-width=\"3.2\"/>\n",
       "<path clip-path=\"url(#clip632)\" d=\"M1436.41 1272.62 L1430.77 1288.84 L1413.59 1289.2 L1427.29 1299.6 L1422.3 1316.04 L1436.41 1306.22 L1450.52 1316.04 L1445.53 1299.6 L1459.23 1289.2 L1442.05 1288.84 L1436.41 1272.62 Z\" fill=\"#009af9\" fill-rule=\"evenodd\" fill-opacity=\"1\" stroke=\"#000000\" stroke-opacity=\"1\" stroke-width=\"3.2\"/>\n",
       "<path clip-path=\"url(#clip632)\" d=\"M1443.1 1272.62 L1437.46 1288.84 L1420.28 1289.2 L1433.98 1299.6 L1428.99 1316.04 L1443.1 1306.22 L1457.21 1316.04 L1452.22 1299.6 L1465.92 1289.2 L1448.74 1288.84 L1443.1 1272.62 Z\" fill=\"#009af9\" fill-rule=\"evenodd\" fill-opacity=\"1\" stroke=\"#000000\" stroke-opacity=\"1\" stroke-width=\"3.2\"/>\n",
       "<path clip-path=\"url(#clip632)\" d=\"M1449.79 1272.29 L1444.15 1288.52 L1426.97 1288.88 L1440.67 1299.27 L1435.68 1315.71 L1449.79 1305.89 L1463.9 1315.71 L1458.91 1299.27 L1472.61 1288.88 L1455.43 1288.52 L1449.79 1272.29 Z\" fill=\"#009af9\" fill-rule=\"evenodd\" fill-opacity=\"1\" stroke=\"#000000\" stroke-opacity=\"1\" stroke-width=\"3.2\"/>\n",
       "<path clip-path=\"url(#clip632)\" d=\"M1456.48 1271.72 L1450.84 1287.94 L1433.66 1288.3 L1447.36 1298.7 L1442.37 1315.14 L1456.48 1305.32 L1470.59 1315.14 L1465.6 1298.7 L1479.3 1288.3 L1462.12 1287.94 L1456.48 1271.72 Z\" fill=\"#009af9\" fill-rule=\"evenodd\" fill-opacity=\"1\" stroke=\"#000000\" stroke-opacity=\"1\" stroke-width=\"3.2\"/>\n",
       "<path clip-path=\"url(#clip632)\" d=\"M1463.17 1271.72 L1457.53 1287.94 L1440.35 1288.3 L1454.05 1298.7 L1449.06 1315.14 L1463.17 1305.32 L1477.28 1315.14 L1472.29 1298.7 L1485.99 1288.3 L1468.81 1287.94 L1463.17 1271.72 Z\" fill=\"#009af9\" fill-rule=\"evenodd\" fill-opacity=\"1\" stroke=\"#000000\" stroke-opacity=\"1\" stroke-width=\"3.2\"/>\n",
       "<path clip-path=\"url(#clip632)\" d=\"M1469.86 1271.12 L1464.22 1287.35 L1447.04 1287.71 L1460.74 1298.1 L1455.75 1314.54 L1469.86 1304.72 L1483.97 1314.54 L1478.98 1298.1 L1492.68 1287.71 L1475.5 1287.35 L1469.86 1271.12 Z\" fill=\"#009af9\" fill-rule=\"evenodd\" fill-opacity=\"1\" stroke=\"#000000\" stroke-opacity=\"1\" stroke-width=\"3.2\"/>\n",
       "<path clip-path=\"url(#clip632)\" d=\"M1476.55 1270.36 L1470.91 1286.59 L1453.73 1286.95 L1467.43 1297.34 L1462.44 1313.78 L1476.55 1303.96 L1490.66 1313.78 L1485.67 1297.34 L1499.37 1286.95 L1482.19 1286.59 L1476.55 1270.36 Z\" fill=\"#009af9\" fill-rule=\"evenodd\" fill-opacity=\"1\" stroke=\"#000000\" stroke-opacity=\"1\" stroke-width=\"3.2\"/>\n",
       "<path clip-path=\"url(#clip632)\" d=\"M1483.24 1269.92 L1477.6 1286.15 L1460.42 1286.51 L1474.12 1296.9 L1469.13 1313.34 L1483.24 1303.52 L1497.35 1313.34 L1492.36 1296.9 L1506.07 1286.51 L1488.88 1286.15 L1483.24 1269.92 Z\" fill=\"#009af9\" fill-rule=\"evenodd\" fill-opacity=\"1\" stroke=\"#000000\" stroke-opacity=\"1\" stroke-width=\"3.2\"/>\n",
       "<path clip-path=\"url(#clip632)\" d=\"M1489.93 1269.64 L1484.29 1285.86 L1467.11 1286.22 L1480.81 1296.61 L1475.82 1313.05 L1489.93 1303.24 L1504.04 1313.05 L1499.05 1296.61 L1512.76 1286.22 L1495.57 1285.86 L1489.93 1269.64 Z\" fill=\"#009af9\" fill-rule=\"evenodd\" fill-opacity=\"1\" stroke=\"#000000\" stroke-opacity=\"1\" stroke-width=\"3.2\"/>\n",
       "<path clip-path=\"url(#clip632)\" d=\"M1496.62 1269.64 L1490.98 1285.86 L1473.8 1286.22 L1487.5 1296.61 L1482.51 1313.05 L1496.62 1303.24 L1510.73 1313.05 L1505.74 1296.61 L1519.45 1286.22 L1502.26 1285.86 L1496.62 1269.64 Z\" fill=\"#009af9\" fill-rule=\"evenodd\" fill-opacity=\"1\" stroke=\"#000000\" stroke-opacity=\"1\" stroke-width=\"3.2\"/>\n",
       "<path clip-path=\"url(#clip632)\" d=\"M1503.31 1269.34 L1497.67 1285.56 L1480.49 1285.92 L1494.19 1296.31 L1489.2 1312.75 L1503.31 1302.94 L1517.42 1312.75 L1512.43 1296.31 L1526.14 1285.92 L1508.95 1285.56 L1503.31 1269.34 Z\" fill=\"#009af9\" fill-rule=\"evenodd\" fill-opacity=\"1\" stroke=\"#000000\" stroke-opacity=\"1\" stroke-width=\"3.2\"/>\n",
       "<path clip-path=\"url(#clip632)\" d=\"M1510 1269.12 L1504.36 1285.34 L1487.18 1285.7 L1500.88 1296.09 L1495.89 1312.53 L1510 1302.72 L1524.11 1312.53 L1519.12 1296.09 L1532.83 1285.7 L1515.64 1285.34 L1510 1269.12 Z\" fill=\"#009af9\" fill-rule=\"evenodd\" fill-opacity=\"1\" stroke=\"#000000\" stroke-opacity=\"1\" stroke-width=\"3.2\"/>\n",
       "<path clip-path=\"url(#clip632)\" d=\"M1516.69 1268.75 L1511.05 1284.98 L1493.87 1285.34 L1507.57 1295.73 L1502.58 1312.17 L1516.69 1302.35 L1530.8 1312.17 L1525.81 1295.73 L1539.52 1285.34 L1522.33 1284.98 L1516.69 1268.75 Z\" fill=\"#009af9\" fill-rule=\"evenodd\" fill-opacity=\"1\" stroke=\"#000000\" stroke-opacity=\"1\" stroke-width=\"3.2\"/>\n",
       "<path clip-path=\"url(#clip632)\" d=\"M1523.38 1268.75 L1517.74 1284.98 L1500.56 1285.34 L1514.26 1295.73 L1509.27 1312.17 L1523.38 1302.35 L1537.49 1312.17 L1532.5 1295.73 L1546.21 1285.34 L1529.02 1284.98 L1523.38 1268.75 Z\" fill=\"#009af9\" fill-rule=\"evenodd\" fill-opacity=\"1\" stroke=\"#000000\" stroke-opacity=\"1\" stroke-width=\"3.2\"/>\n",
       "<path clip-path=\"url(#clip632)\" d=\"M1530.07 1268.23 L1524.43 1284.45 L1507.25 1284.81 L1520.95 1295.2 L1515.96 1311.64 L1530.07 1301.83 L1544.18 1311.64 L1539.19 1295.2 L1552.9 1284.81 L1535.71 1284.45 L1530.07 1268.23 Z\" fill=\"#009af9\" fill-rule=\"evenodd\" fill-opacity=\"1\" stroke=\"#000000\" stroke-opacity=\"1\" stroke-width=\"3.2\"/>\n",
       "<path clip-path=\"url(#clip632)\" d=\"M1536.76 1268.18 L1531.12 1284.4 L1513.94 1284.76 L1527.64 1295.15 L1522.65 1311.59 L1536.76 1301.78 L1550.87 1311.59 L1545.88 1295.15 L1559.59 1284.76 L1542.4 1284.4 L1536.76 1268.18 Z\" fill=\"#009af9\" fill-rule=\"evenodd\" fill-opacity=\"1\" stroke=\"#000000\" stroke-opacity=\"1\" stroke-width=\"3.2\"/>\n",
       "<path clip-path=\"url(#clip632)\" d=\"M1543.45 1266.79 L1537.81 1283.01 L1520.63 1283.37 L1534.33 1293.76 L1529.34 1310.2 L1543.45 1300.39 L1557.56 1310.2 L1552.57 1293.76 L1566.28 1283.37 L1549.09 1283.01 L1543.45 1266.79 Z\" fill=\"#009af9\" fill-rule=\"evenodd\" fill-opacity=\"1\" stroke=\"#000000\" stroke-opacity=\"1\" stroke-width=\"3.2\"/>\n",
       "<path clip-path=\"url(#clip632)\" d=\"M1550.14 1266.79 L1544.5 1283.01 L1527.32 1283.37 L1541.02 1293.76 L1536.03 1310.2 L1550.14 1300.39 L1564.25 1310.2 L1559.26 1293.76 L1572.97 1283.37 L1555.78 1283.01 L1550.14 1266.79 Z\" fill=\"#009af9\" fill-rule=\"evenodd\" fill-opacity=\"1\" stroke=\"#000000\" stroke-opacity=\"1\" stroke-width=\"3.2\"/>\n",
       "<path clip-path=\"url(#clip632)\" d=\"M1556.83 1266.46 L1551.19 1282.68 L1534.01 1283.04 L1547.71 1293.43 L1542.72 1309.87 L1556.83 1300.06 L1570.94 1309.87 L1565.95 1293.43 L1579.66 1283.04 L1562.47 1282.68 L1556.83 1266.46 Z\" fill=\"#009af9\" fill-rule=\"evenodd\" fill-opacity=\"1\" stroke=\"#000000\" stroke-opacity=\"1\" stroke-width=\"3.2\"/>\n",
       "<path clip-path=\"url(#clip632)\" d=\"M1563.52 1266.03 L1557.88 1282.25 L1540.7 1282.61 L1554.4 1293.01 L1549.41 1309.45 L1563.52 1299.63 L1577.63 1309.45 L1572.64 1293.01 L1586.35 1282.61 L1569.16 1282.25 L1563.52 1266.03 Z\" fill=\"#009af9\" fill-rule=\"evenodd\" fill-opacity=\"1\" stroke=\"#000000\" stroke-opacity=\"1\" stroke-width=\"3.2\"/>\n",
       "<path clip-path=\"url(#clip632)\" d=\"M1570.21 1265.98 L1564.57 1282.2 L1547.39 1282.56 L1561.09 1292.95 L1556.1 1309.39 L1570.21 1299.58 L1584.32 1309.39 L1579.33 1292.95 L1593.04 1282.56 L1575.85 1282.2 L1570.21 1265.98 Z\" fill=\"#009af9\" fill-rule=\"evenodd\" fill-opacity=\"1\" stroke=\"#000000\" stroke-opacity=\"1\" stroke-width=\"3.2\"/>\n",
       "<path clip-path=\"url(#clip632)\" d=\"M1576.9 1265.71 L1571.26 1281.93 L1554.08 1282.29 L1567.78 1292.69 L1562.79 1309.13 L1576.9 1299.31 L1591.01 1309.13 L1586.02 1292.69 L1599.73 1282.29 L1582.54 1281.93 L1576.9 1265.71 Z\" fill=\"#009af9\" fill-rule=\"evenodd\" fill-opacity=\"1\" stroke=\"#000000\" stroke-opacity=\"1\" stroke-width=\"3.2\"/>\n",
       "<path clip-path=\"url(#clip632)\" d=\"M1583.59 1265.71 L1577.95 1281.93 L1560.77 1282.29 L1574.47 1292.69 L1569.48 1309.13 L1583.59 1299.31 L1597.7 1309.13 L1592.71 1292.69 L1606.42 1282.29 L1589.23 1281.93 L1583.59 1265.71 Z\" fill=\"#009af9\" fill-rule=\"evenodd\" fill-opacity=\"1\" stroke=\"#000000\" stroke-opacity=\"1\" stroke-width=\"3.2\"/>\n",
       "<path clip-path=\"url(#clip632)\" d=\"M1590.28 1265.48 L1584.64 1281.71 L1567.46 1282.07 L1581.16 1292.46 L1576.17 1308.9 L1590.28 1299.08 L1604.39 1308.9 L1599.4 1292.46 L1613.11 1282.07 L1595.92 1281.71 L1590.28 1265.48 Z\" fill=\"#009af9\" fill-rule=\"evenodd\" fill-opacity=\"1\" stroke=\"#000000\" stroke-opacity=\"1\" stroke-width=\"3.2\"/>\n",
       "<path clip-path=\"url(#clip632)\" d=\"M1596.97 1264.19 L1591.33 1280.41 L1574.15 1280.77 L1587.85 1291.16 L1582.86 1307.6 L1596.97 1297.79 L1611.09 1307.6 L1606.09 1291.16 L1619.8 1280.77 L1602.61 1280.41 L1596.97 1264.19 Z\" fill=\"#009af9\" fill-rule=\"evenodd\" fill-opacity=\"1\" stroke=\"#000000\" stroke-opacity=\"1\" stroke-width=\"3.2\"/>\n",
       "<path clip-path=\"url(#clip632)\" d=\"M1603.66 1263.2 L1598.02 1279.43 L1580.84 1279.79 L1594.54 1290.18 L1589.55 1306.62 L1603.66 1296.8 L1617.78 1306.62 L1612.78 1290.18 L1626.49 1279.79 L1609.3 1279.43 L1603.66 1263.2 Z\" fill=\"#009af9\" fill-rule=\"evenodd\" fill-opacity=\"1\" stroke=\"#000000\" stroke-opacity=\"1\" stroke-width=\"3.2\"/>\n",
       "<path clip-path=\"url(#clip632)\" d=\"M1610.35 1262.88 L1604.71 1279.1 L1587.53 1279.46 L1601.23 1289.85 L1596.24 1306.29 L1610.35 1296.48 L1624.47 1306.29 L1619.47 1289.85 L1633.18 1279.46 L1615.99 1279.1 L1610.35 1262.88 Z\" fill=\"#009af9\" fill-rule=\"evenodd\" fill-opacity=\"1\" stroke=\"#000000\" stroke-opacity=\"1\" stroke-width=\"3.2\"/>\n",
       "<path clip-path=\"url(#clip632)\" d=\"M1617.04 1262.88 L1611.4 1279.1 L1594.22 1279.46 L1607.92 1289.85 L1602.93 1306.29 L1617.04 1296.48 L1631.16 1306.29 L1626.16 1289.85 L1639.87 1279.46 L1622.68 1279.1 L1617.04 1262.88 Z\" fill=\"#009af9\" fill-rule=\"evenodd\" fill-opacity=\"1\" stroke=\"#000000\" stroke-opacity=\"1\" stroke-width=\"3.2\"/>\n",
       "<path clip-path=\"url(#clip632)\" d=\"M1623.73 1262.85 L1618.09 1279.07 L1600.91 1279.43 L1614.61 1289.83 L1609.62 1306.27 L1623.73 1296.45 L1637.85 1306.27 L1632.85 1289.83 L1646.56 1279.43 L1629.37 1279.07 L1623.73 1262.85 Z\" fill=\"#009af9\" fill-rule=\"evenodd\" fill-opacity=\"1\" stroke=\"#000000\" stroke-opacity=\"1\" stroke-width=\"3.2\"/>\n",
       "<path clip-path=\"url(#clip632)\" d=\"M1630.42 1262.85 L1624.78 1279.07 L1607.6 1279.43 L1621.3 1289.83 L1616.31 1306.27 L1630.42 1296.45 L1644.54 1306.27 L1639.54 1289.83 L1653.25 1279.43 L1636.06 1279.07 L1630.42 1262.85 Z\" fill=\"#009af9\" fill-rule=\"evenodd\" fill-opacity=\"1\" stroke=\"#000000\" stroke-opacity=\"1\" stroke-width=\"3.2\"/>\n",
       "<path clip-path=\"url(#clip632)\" d=\"M1637.11 1262.55 L1631.47 1278.77 L1614.29 1279.13 L1627.99 1289.52 L1623 1305.96 L1637.11 1296.15 L1651.23 1305.96 L1646.23 1289.52 L1659.94 1279.13 L1642.75 1278.77 L1637.11 1262.55 Z\" fill=\"#009af9\" fill-rule=\"evenodd\" fill-opacity=\"1\" stroke=\"#000000\" stroke-opacity=\"1\" stroke-width=\"3.2\"/>\n",
       "<path clip-path=\"url(#clip632)\" d=\"M1643.8 1262.52 L1638.16 1278.74 L1620.98 1279.1 L1634.68 1289.49 L1629.69 1305.93 L1643.8 1296.12 L1657.92 1305.93 L1652.92 1289.49 L1666.63 1279.1 L1649.44 1278.74 L1643.8 1262.52 Z\" fill=\"#009af9\" fill-rule=\"evenodd\" fill-opacity=\"1\" stroke=\"#000000\" stroke-opacity=\"1\" stroke-width=\"3.2\"/>\n",
       "<path clip-path=\"url(#clip632)\" d=\"M1650.49 1262.52 L1644.85 1278.74 L1627.67 1279.1 L1641.37 1289.49 L1636.38 1305.93 L1650.49 1296.12 L1664.61 1305.93 L1659.61 1289.49 L1673.32 1279.1 L1656.13 1278.74 L1650.49 1262.52 Z\" fill=\"#009af9\" fill-rule=\"evenodd\" fill-opacity=\"1\" stroke=\"#000000\" stroke-opacity=\"1\" stroke-width=\"3.2\"/>\n",
       "<path clip-path=\"url(#clip632)\" d=\"M1657.18 1262.4 L1651.54 1278.63 L1634.36 1278.99 L1648.06 1289.38 L1643.07 1305.82 L1657.18 1296 L1671.3 1305.82 L1666.3 1289.38 L1680.01 1278.99 L1662.82 1278.63 L1657.18 1262.4 Z\" fill=\"#009af9\" fill-rule=\"evenodd\" fill-opacity=\"1\" stroke=\"#000000\" stroke-opacity=\"1\" stroke-width=\"3.2\"/>\n",
       "<path clip-path=\"url(#clip632)\" d=\"M1663.87 1262.16 L1658.23 1278.38 L1641.05 1278.74 L1654.75 1289.13 L1649.76 1305.57 L1663.87 1295.76 L1677.99 1305.57 L1672.99 1289.13 L1686.7 1278.74 L1669.51 1278.38 L1663.87 1262.16 Z\" fill=\"#009af9\" fill-rule=\"evenodd\" fill-opacity=\"1\" stroke=\"#000000\" stroke-opacity=\"1\" stroke-width=\"3.2\"/>\n",
       "<path clip-path=\"url(#clip632)\" d=\"M1670.56 1261.8 L1664.92 1278.03 L1647.74 1278.39 L1661.44 1288.78 L1656.45 1305.22 L1670.56 1295.4 L1684.68 1305.22 L1679.68 1288.78 L1693.39 1278.39 L1676.2 1278.03 L1670.56 1261.8 Z\" fill=\"#009af9\" fill-rule=\"evenodd\" fill-opacity=\"1\" stroke=\"#000000\" stroke-opacity=\"1\" stroke-width=\"3.2\"/>\n",
       "<path clip-path=\"url(#clip632)\" d=\"M1677.25 1261.76 L1671.61 1277.98 L1654.43 1278.34 L1668.13 1288.73 L1663.14 1305.17 L1677.25 1295.36 L1691.37 1305.17 L1686.37 1288.73 L1700.08 1278.34 L1682.89 1277.98 L1677.25 1261.76 Z\" fill=\"#009af9\" fill-rule=\"evenodd\" fill-opacity=\"1\" stroke=\"#000000\" stroke-opacity=\"1\" stroke-width=\"3.2\"/>\n",
       "<path clip-path=\"url(#clip632)\" d=\"M1683.94 1260.06 L1678.3 1276.29 L1661.12 1276.65 L1674.82 1287.04 L1669.83 1303.48 L1683.94 1293.66 L1698.06 1303.48 L1693.06 1287.04 L1706.77 1276.65 L1689.58 1276.29 L1683.94 1260.06 Z\" fill=\"#009af9\" fill-rule=\"evenodd\" fill-opacity=\"1\" stroke=\"#000000\" stroke-opacity=\"1\" stroke-width=\"3.2\"/>\n",
       "<path clip-path=\"url(#clip632)\" d=\"M1690.63 1259.73 L1684.99 1275.96 L1667.81 1276.32 L1681.51 1286.71 L1676.52 1303.15 L1690.63 1293.33 L1704.75 1303.15 L1699.75 1286.71 L1713.46 1276.32 L1696.27 1275.96 L1690.63 1259.73 Z\" fill=\"#009af9\" fill-rule=\"evenodd\" fill-opacity=\"1\" stroke=\"#000000\" stroke-opacity=\"1\" stroke-width=\"3.2\"/>\n",
       "<path clip-path=\"url(#clip632)\" d=\"M1697.32 1258.77 L1691.68 1275 L1674.5 1275.36 L1688.2 1285.75 L1683.21 1302.19 L1697.32 1292.37 L1711.44 1302.19 L1706.44 1285.75 L1720.15 1275.36 L1702.96 1275 L1697.32 1258.77 Z\" fill=\"#009af9\" fill-rule=\"evenodd\" fill-opacity=\"1\" stroke=\"#000000\" stroke-opacity=\"1\" stroke-width=\"3.2\"/>\n",
       "<path clip-path=\"url(#clip632)\" d=\"M1704.01 1258.77 L1698.37 1275 L1681.19 1275.36 L1694.89 1285.75 L1689.9 1302.19 L1704.01 1292.37 L1718.13 1302.19 L1713.13 1285.75 L1726.84 1275.36 L1709.65 1275 L1704.01 1258.77 Z\" fill=\"#009af9\" fill-rule=\"evenodd\" fill-opacity=\"1\" stroke=\"#000000\" stroke-opacity=\"1\" stroke-width=\"3.2\"/>\n",
       "<path clip-path=\"url(#clip632)\" d=\"M1710.71 1258.68 L1705.07 1274.91 L1687.88 1275.27 L1701.59 1285.66 L1696.59 1302.1 L1710.71 1292.28 L1724.82 1302.1 L1719.83 1285.66 L1733.53 1275.27 L1716.35 1274.91 L1710.71 1258.68 Z\" fill=\"#009af9\" fill-rule=\"evenodd\" fill-opacity=\"1\" stroke=\"#000000\" stroke-opacity=\"1\" stroke-width=\"3.2\"/>\n",
       "<path clip-path=\"url(#clip632)\" d=\"M1717.4 1257.76 L1711.76 1273.98 L1694.57 1274.34 L1708.28 1284.73 L1703.28 1301.17 L1717.4 1291.36 L1731.51 1301.17 L1726.52 1284.73 L1740.22 1274.34 L1723.04 1273.98 L1717.4 1257.76 Z\" fill=\"#009af9\" fill-rule=\"evenodd\" fill-opacity=\"1\" stroke=\"#000000\" stroke-opacity=\"1\" stroke-width=\"3.2\"/>\n",
       "<path clip-path=\"url(#clip632)\" d=\"M1724.09 1257.2 L1718.45 1273.42 L1701.26 1273.78 L1714.97 1284.18 L1709.97 1300.62 L1724.09 1290.8 L1738.2 1300.62 L1733.21 1284.18 L1746.91 1273.78 L1729.73 1273.42 L1724.09 1257.2 Z\" fill=\"#009af9\" fill-rule=\"evenodd\" fill-opacity=\"1\" stroke=\"#000000\" stroke-opacity=\"1\" stroke-width=\"3.2\"/>\n",
       "<path clip-path=\"url(#clip632)\" d=\"M1730.78 1257.2 L1725.14 1273.42 L1707.95 1273.78 L1721.66 1284.18 L1716.66 1300.62 L1730.78 1290.8 L1744.89 1300.62 L1739.9 1284.18 L1753.6 1273.78 L1736.42 1273.42 L1730.78 1257.2 Z\" fill=\"#009af9\" fill-rule=\"evenodd\" fill-opacity=\"1\" stroke=\"#000000\" stroke-opacity=\"1\" stroke-width=\"3.2\"/>\n",
       "<path clip-path=\"url(#clip632)\" d=\"M1737.47 1256.94 L1731.83 1273.17 L1714.64 1273.53 L1728.35 1283.92 L1723.35 1300.36 L1737.47 1290.54 L1751.58 1300.36 L1746.59 1283.92 L1760.29 1273.53 L1743.11 1273.17 L1737.47 1256.94 Z\" fill=\"#009af9\" fill-rule=\"evenodd\" fill-opacity=\"1\" stroke=\"#000000\" stroke-opacity=\"1\" stroke-width=\"3.2\"/>\n",
       "<path clip-path=\"url(#clip632)\" d=\"M1744.16 1256.94 L1738.52 1273.17 L1721.33 1273.53 L1735.04 1283.92 L1730.04 1300.36 L1744.16 1290.54 L1758.27 1300.36 L1753.28 1283.92 L1766.98 1273.53 L1749.8 1273.17 L1744.16 1256.94 Z\" fill=\"#009af9\" fill-rule=\"evenodd\" fill-opacity=\"1\" stroke=\"#000000\" stroke-opacity=\"1\" stroke-width=\"3.2\"/>\n",
       "<path clip-path=\"url(#clip632)\" d=\"M1750.85 1256.57 L1745.21 1272.79 L1728.02 1273.15 L1741.73 1283.55 L1736.73 1299.99 L1750.85 1290.17 L1764.96 1299.99 L1759.97 1283.55 L1773.67 1273.15 L1756.49 1272.79 L1750.85 1256.57 Z\" fill=\"#009af9\" fill-rule=\"evenodd\" fill-opacity=\"1\" stroke=\"#000000\" stroke-opacity=\"1\" stroke-width=\"3.2\"/>\n",
       "<path clip-path=\"url(#clip632)\" d=\"M1757.54 1255.42 L1751.9 1271.64 L1734.71 1272 L1748.42 1282.39 L1743.42 1298.83 L1757.54 1289.02 L1771.65 1298.83 L1766.66 1282.39 L1780.36 1272 L1763.18 1271.64 L1757.54 1255.42 Z\" fill=\"#009af9\" fill-rule=\"evenodd\" fill-opacity=\"1\" stroke=\"#000000\" stroke-opacity=\"1\" stroke-width=\"3.2\"/>\n",
       "<path clip-path=\"url(#clip632)\" d=\"M1764.23 1255.13 L1758.59 1271.35 L1741.4 1271.71 L1755.11 1282.1 L1750.11 1298.54 L1764.23 1288.73 L1778.34 1298.54 L1773.35 1282.1 L1787.05 1271.71 L1769.87 1271.35 L1764.23 1255.13 Z\" fill=\"#009af9\" fill-rule=\"evenodd\" fill-opacity=\"1\" stroke=\"#000000\" stroke-opacity=\"1\" stroke-width=\"3.2\"/>\n",
       "<path clip-path=\"url(#clip632)\" d=\"M1770.92 1254.13 L1765.28 1270.36 L1748.09 1270.72 L1761.8 1281.11 L1756.8 1297.55 L1770.92 1287.73 L1785.03 1297.55 L1780.04 1281.11 L1793.74 1270.72 L1776.56 1270.36 L1770.92 1254.13 Z\" fill=\"#009af9\" fill-rule=\"evenodd\" fill-opacity=\"1\" stroke=\"#000000\" stroke-opacity=\"1\" stroke-width=\"3.2\"/>\n",
       "<path clip-path=\"url(#clip632)\" d=\"M1777.61 1254.07 L1771.97 1270.3 L1754.78 1270.66 L1768.49 1281.05 L1763.49 1297.49 L1777.61 1287.67 L1791.72 1297.49 L1786.73 1281.05 L1800.43 1270.66 L1783.25 1270.3 L1777.61 1254.07 Z\" fill=\"#009af9\" fill-rule=\"evenodd\" fill-opacity=\"1\" stroke=\"#000000\" stroke-opacity=\"1\" stroke-width=\"3.2\"/>\n",
       "<path clip-path=\"url(#clip632)\" d=\"M1784.3 1253.84 L1778.66 1270.07 L1761.47 1270.43 L1775.18 1280.82 L1770.18 1297.26 L1784.3 1287.44 L1798.41 1297.26 L1793.42 1280.82 L1807.12 1270.43 L1789.94 1270.07 L1784.3 1253.84 Z\" fill=\"#009af9\" fill-rule=\"evenodd\" fill-opacity=\"1\" stroke=\"#000000\" stroke-opacity=\"1\" stroke-width=\"3.2\"/>\n",
       "<path clip-path=\"url(#clip632)\" d=\"M1790.99 1253.84 L1785.35 1270.07 L1768.16 1270.43 L1781.87 1280.82 L1776.87 1297.26 L1790.99 1287.44 L1805.1 1297.26 L1800.11 1280.82 L1813.81 1270.43 L1796.63 1270.07 L1790.99 1253.84 Z\" fill=\"#009af9\" fill-rule=\"evenodd\" fill-opacity=\"1\" stroke=\"#000000\" stroke-opacity=\"1\" stroke-width=\"3.2\"/>\n",
       "<path clip-path=\"url(#clip632)\" d=\"M1797.68 1253.12 L1792.04 1269.34 L1774.85 1269.7 L1788.56 1280.1 L1783.56 1296.54 L1797.68 1286.72 L1811.79 1296.54 L1806.8 1280.1 L1820.5 1269.7 L1803.32 1269.34 L1797.68 1253.12 Z\" fill=\"#009af9\" fill-rule=\"evenodd\" fill-opacity=\"1\" stroke=\"#000000\" stroke-opacity=\"1\" stroke-width=\"3.2\"/>\n",
       "<path clip-path=\"url(#clip632)\" d=\"M1804.37 1252.99 L1798.73 1269.21 L1781.54 1269.57 L1795.25 1279.97 L1790.25 1296.41 L1804.37 1286.59 L1818.48 1296.41 L1813.49 1279.97 L1827.19 1269.57 L1810.01 1269.21 L1804.37 1252.99 Z\" fill=\"#009af9\" fill-rule=\"evenodd\" fill-opacity=\"1\" stroke=\"#000000\" stroke-opacity=\"1\" stroke-width=\"3.2\"/>\n",
       "<path clip-path=\"url(#clip632)\" d=\"M1811.06 1252.99 L1805.42 1269.21 L1788.23 1269.57 L1801.94 1279.97 L1796.94 1296.41 L1811.06 1286.59 L1825.17 1296.41 L1820.18 1279.97 L1833.88 1269.57 L1816.7 1269.21 L1811.06 1252.99 Z\" fill=\"#009af9\" fill-rule=\"evenodd\" fill-opacity=\"1\" stroke=\"#000000\" stroke-opacity=\"1\" stroke-width=\"3.2\"/>\n",
       "<path clip-path=\"url(#clip632)\" d=\"M1817.75 1251.49 L1812.11 1267.71 L1794.92 1268.07 L1808.63 1278.46 L1803.64 1294.9 L1817.75 1285.09 L1831.86 1294.9 L1826.87 1278.46 L1840.57 1268.07 L1823.39 1267.71 L1817.75 1251.49 Z\" fill=\"#009af9\" fill-rule=\"evenodd\" fill-opacity=\"1\" stroke=\"#000000\" stroke-opacity=\"1\" stroke-width=\"3.2\"/>\n",
       "<path clip-path=\"url(#clip632)\" d=\"M1824.44 1251.49 L1818.8 1267.71 L1801.61 1268.07 L1815.32 1278.46 L1810.33 1294.9 L1824.44 1285.09 L1838.55 1294.9 L1833.56 1278.46 L1847.26 1268.07 L1830.08 1267.71 L1824.44 1251.49 Z\" fill=\"#009af9\" fill-rule=\"evenodd\" fill-opacity=\"1\" stroke=\"#000000\" stroke-opacity=\"1\" stroke-width=\"3.2\"/>\n",
       "<path clip-path=\"url(#clip632)\" d=\"M1831.13 1251.45 L1825.49 1267.67 L1808.3 1268.03 L1822.01 1278.42 L1817.02 1294.86 L1831.13 1285.05 L1845.24 1294.86 L1840.25 1278.42 L1853.95 1268.03 L1836.77 1267.67 L1831.13 1251.45 Z\" fill=\"#009af9\" fill-rule=\"evenodd\" fill-opacity=\"1\" stroke=\"#000000\" stroke-opacity=\"1\" stroke-width=\"3.2\"/>\n",
       "<path clip-path=\"url(#clip632)\" d=\"M1837.82 1250.26 L1832.18 1266.48 L1814.99 1266.84 L1828.7 1277.23 L1823.71 1293.67 L1837.82 1283.86 L1851.93 1293.67 L1846.94 1277.23 L1860.64 1266.84 L1843.46 1266.48 L1837.82 1250.26 Z\" fill=\"#009af9\" fill-rule=\"evenodd\" fill-opacity=\"1\" stroke=\"#000000\" stroke-opacity=\"1\" stroke-width=\"3.2\"/>\n",
       "<path clip-path=\"url(#clip632)\" d=\"M1844.51 1249.68 L1838.87 1265.9 L1821.68 1266.26 L1835.39 1276.66 L1830.4 1293.1 L1844.51 1283.28 L1858.62 1293.1 L1853.63 1276.66 L1867.33 1266.26 L1850.15 1265.9 L1844.51 1249.68 Z\" fill=\"#009af9\" fill-rule=\"evenodd\" fill-opacity=\"1\" stroke=\"#000000\" stroke-opacity=\"1\" stroke-width=\"3.2\"/>\n",
       "<path clip-path=\"url(#clip632)\" d=\"M1851.2 1249.34 L1845.56 1265.57 L1828.37 1265.93 L1842.08 1276.32 L1837.09 1292.76 L1851.2 1282.94 L1865.31 1292.76 L1860.32 1276.32 L1874.02 1265.93 L1856.84 1265.57 L1851.2 1249.34 Z\" fill=\"#009af9\" fill-rule=\"evenodd\" fill-opacity=\"1\" stroke=\"#000000\" stroke-opacity=\"1\" stroke-width=\"3.2\"/>\n",
       "<path clip-path=\"url(#clip632)\" d=\"M1857.89 1247.21 L1852.25 1263.43 L1835.06 1263.79 L1848.77 1274.18 L1843.78 1290.62 L1857.89 1280.81 L1872 1290.62 L1867.01 1274.18 L1880.71 1263.79 L1863.53 1263.43 L1857.89 1247.21 Z\" fill=\"#009af9\" fill-rule=\"evenodd\" fill-opacity=\"1\" stroke=\"#000000\" stroke-opacity=\"1\" stroke-width=\"3.2\"/>\n",
       "<path clip-path=\"url(#clip632)\" d=\"M1864.58 1247.21 L1858.94 1263.43 L1841.75 1263.79 L1855.46 1274.18 L1850.47 1290.62 L1864.58 1280.81 L1878.69 1290.62 L1873.7 1274.18 L1887.4 1263.79 L1870.22 1263.43 L1864.58 1247.21 Z\" fill=\"#009af9\" fill-rule=\"evenodd\" fill-opacity=\"1\" stroke=\"#000000\" stroke-opacity=\"1\" stroke-width=\"3.2\"/>\n",
       "<path clip-path=\"url(#clip632)\" d=\"M1871.27 1246.4 L1865.63 1262.62 L1848.44 1262.98 L1862.15 1273.38 L1857.16 1289.82 L1871.27 1280 L1885.38 1289.82 L1880.39 1273.38 L1894.09 1262.98 L1876.91 1262.62 L1871.27 1246.4 Z\" fill=\"#009af9\" fill-rule=\"evenodd\" fill-opacity=\"1\" stroke=\"#000000\" stroke-opacity=\"1\" stroke-width=\"3.2\"/>\n",
       "<path clip-path=\"url(#clip632)\" d=\"M1877.96 1246.35 L1872.32 1262.57 L1855.13 1262.93 L1868.84 1273.32 L1863.85 1289.76 L1877.96 1279.95 L1892.07 1289.76 L1887.08 1273.32 L1900.78 1262.93 L1883.6 1262.57 L1877.96 1246.35 Z\" fill=\"#009af9\" fill-rule=\"evenodd\" fill-opacity=\"1\" stroke=\"#000000\" stroke-opacity=\"1\" stroke-width=\"3.2\"/>\n",
       "<path clip-path=\"url(#clip632)\" d=\"M1884.65 1246.35 L1879.01 1262.57 L1861.82 1262.93 L1875.53 1273.32 L1870.54 1289.76 L1884.65 1279.95 L1898.76 1289.76 L1893.77 1273.32 L1907.47 1262.93 L1890.29 1262.57 L1884.65 1246.35 Z\" fill=\"#009af9\" fill-rule=\"evenodd\" fill-opacity=\"1\" stroke=\"#000000\" stroke-opacity=\"1\" stroke-width=\"3.2\"/>\n",
       "<path clip-path=\"url(#clip632)\" d=\"M1891.34 1244.73 L1885.7 1260.95 L1868.51 1261.31 L1882.22 1271.71 L1877.23 1288.15 L1891.34 1278.33 L1905.45 1288.15 L1900.46 1271.71 L1914.16 1261.31 L1896.98 1260.95 L1891.34 1244.73 Z\" fill=\"#009af9\" fill-rule=\"evenodd\" fill-opacity=\"1\" stroke=\"#000000\" stroke-opacity=\"1\" stroke-width=\"3.2\"/>\n",
       "<path clip-path=\"url(#clip632)\" d=\"M1898.03 1244.21 L1892.39 1260.43 L1875.2 1260.79 L1888.91 1271.19 L1883.92 1287.63 L1898.03 1277.81 L1912.14 1287.63 L1907.15 1271.19 L1920.85 1260.79 L1903.67 1260.43 L1898.03 1244.21 Z\" fill=\"#009af9\" fill-rule=\"evenodd\" fill-opacity=\"1\" stroke=\"#000000\" stroke-opacity=\"1\" stroke-width=\"3.2\"/>\n",
       "<path clip-path=\"url(#clip632)\" d=\"M1904.72 1243.55 L1899.08 1259.78 L1881.89 1260.14 L1895.6 1270.53 L1890.61 1286.97 L1904.72 1277.15 L1918.83 1286.97 L1913.84 1270.53 L1927.54 1260.14 L1910.36 1259.78 L1904.72 1243.55 Z\" fill=\"#009af9\" fill-rule=\"evenodd\" fill-opacity=\"1\" stroke=\"#000000\" stroke-opacity=\"1\" stroke-width=\"3.2\"/>\n",
       "<path clip-path=\"url(#clip632)\" d=\"M1911.41 1243.55 L1905.77 1259.78 L1888.58 1260.14 L1902.29 1270.53 L1897.3 1286.97 L1911.41 1277.15 L1925.52 1286.97 L1920.53 1270.53 L1934.23 1260.14 L1917.05 1259.78 L1911.41 1243.55 Z\" fill=\"#009af9\" fill-rule=\"evenodd\" fill-opacity=\"1\" stroke=\"#000000\" stroke-opacity=\"1\" stroke-width=\"3.2\"/>\n",
       "<path clip-path=\"url(#clip632)\" d=\"M1918.1 1243.38 L1912.46 1259.61 L1895.27 1259.97 L1908.98 1270.36 L1903.99 1286.8 L1918.1 1276.98 L1932.21 1286.8 L1927.22 1270.36 L1940.92 1259.97 L1923.74 1259.61 L1918.1 1243.38 Z\" fill=\"#009af9\" fill-rule=\"evenodd\" fill-opacity=\"1\" stroke=\"#000000\" stroke-opacity=\"1\" stroke-width=\"3.2\"/>\n",
       "<path clip-path=\"url(#clip632)\" d=\"M1924.79 1243.33 L1919.15 1259.55 L1901.96 1259.91 L1915.67 1270.3 L1910.68 1286.74 L1924.79 1276.93 L1938.9 1286.74 L1933.91 1270.3 L1947.61 1259.91 L1930.43 1259.55 L1924.79 1243.33 Z\" fill=\"#009af9\" fill-rule=\"evenodd\" fill-opacity=\"1\" stroke=\"#000000\" stroke-opacity=\"1\" stroke-width=\"3.2\"/>\n",
       "<path clip-path=\"url(#clip632)\" d=\"M1931.48 1243 L1925.84 1259.23 L1908.66 1259.59 L1922.36 1269.98 L1917.37 1286.42 L1931.48 1276.6 L1945.59 1286.42 L1940.6 1269.98 L1954.3 1259.59 L1937.12 1259.23 L1931.48 1243 Z\" fill=\"#009af9\" fill-rule=\"evenodd\" fill-opacity=\"1\" stroke=\"#000000\" stroke-opacity=\"1\" stroke-width=\"3.2\"/>\n",
       "<path clip-path=\"url(#clip632)\" d=\"M1938.17 1242.72 L1932.53 1258.94 L1915.35 1259.3 L1929.05 1269.7 L1924.06 1286.14 L1938.17 1276.32 L1952.28 1286.14 L1947.29 1269.7 L1960.99 1259.3 L1943.81 1258.94 L1938.17 1242.72 Z\" fill=\"#009af9\" fill-rule=\"evenodd\" fill-opacity=\"1\" stroke=\"#000000\" stroke-opacity=\"1\" stroke-width=\"3.2\"/>\n",
       "<path clip-path=\"url(#clip632)\" d=\"M1944.86 1241.45 L1939.22 1257.68 L1922.04 1258.04 L1935.74 1268.43 L1930.75 1284.87 L1944.86 1275.05 L1958.97 1284.87 L1953.98 1268.43 L1967.68 1258.04 L1950.5 1257.68 L1944.86 1241.45 Z\" fill=\"#009af9\" fill-rule=\"evenodd\" fill-opacity=\"1\" stroke=\"#000000\" stroke-opacity=\"1\" stroke-width=\"3.2\"/>\n",
       "<path clip-path=\"url(#clip632)\" d=\"M1951.55 1241.45 L1945.91 1257.68 L1928.73 1258.04 L1942.43 1268.43 L1937.44 1284.87 L1951.55 1275.05 L1965.66 1284.87 L1960.67 1268.43 L1974.37 1258.04 L1957.19 1257.68 L1951.55 1241.45 Z\" fill=\"#009af9\" fill-rule=\"evenodd\" fill-opacity=\"1\" stroke=\"#000000\" stroke-opacity=\"1\" stroke-width=\"3.2\"/>\n",
       "<path clip-path=\"url(#clip632)\" d=\"M1958.24 1241.31 L1952.6 1257.54 L1935.42 1257.9 L1949.12 1268.29 L1944.13 1284.73 L1958.24 1274.91 L1972.35 1284.73 L1967.36 1268.29 L1981.06 1257.9 L1963.88 1257.54 L1958.24 1241.31 Z\" fill=\"#009af9\" fill-rule=\"evenodd\" fill-opacity=\"1\" stroke=\"#000000\" stroke-opacity=\"1\" stroke-width=\"3.2\"/>\n",
       "<path clip-path=\"url(#clip632)\" d=\"M1964.93 1237.3 L1959.29 1253.53 L1942.11 1253.89 L1955.81 1264.28 L1950.82 1280.72 L1964.93 1270.9 L1979.04 1280.72 L1974.05 1264.28 L1987.75 1253.89 L1970.57 1253.53 L1964.93 1237.3 Z\" fill=\"#009af9\" fill-rule=\"evenodd\" fill-opacity=\"1\" stroke=\"#000000\" stroke-opacity=\"1\" stroke-width=\"3.2\"/>\n",
       "<path clip-path=\"url(#clip632)\" d=\"M1971.62 1237.3 L1965.98 1253.53 L1948.8 1253.89 L1962.5 1264.28 L1957.51 1280.72 L1971.62 1270.9 L1985.73 1280.72 L1980.74 1264.28 L1994.44 1253.89 L1977.26 1253.53 L1971.62 1237.3 Z\" fill=\"#009af9\" fill-rule=\"evenodd\" fill-opacity=\"1\" stroke=\"#000000\" stroke-opacity=\"1\" stroke-width=\"3.2\"/>\n",
       "<path clip-path=\"url(#clip632)\" d=\"M1978.31 1235.08 L1972.67 1251.31 L1955.49 1251.67 L1969.19 1262.06 L1964.2 1278.5 L1978.31 1268.68 L1992.42 1278.5 L1987.43 1262.06 L2001.13 1251.67 L1983.95 1251.31 L1978.31 1235.08 Z\" fill=\"#009af9\" fill-rule=\"evenodd\" fill-opacity=\"1\" stroke=\"#000000\" stroke-opacity=\"1\" stroke-width=\"3.2\"/>\n",
       "<path clip-path=\"url(#clip632)\" d=\"M1985 1235.08 L1979.36 1251.31 L1962.18 1251.67 L1975.88 1262.06 L1970.89 1278.5 L1985 1268.68 L1999.11 1278.5 L1994.12 1262.06 L2007.82 1251.67 L1990.64 1251.31 L1985 1235.08 Z\" fill=\"#009af9\" fill-rule=\"evenodd\" fill-opacity=\"1\" stroke=\"#000000\" stroke-opacity=\"1\" stroke-width=\"3.2\"/>\n",
       "<path clip-path=\"url(#clip632)\" d=\"M1991.69 1234.93 L1986.05 1251.16 L1968.87 1251.52 L1982.57 1261.91 L1977.58 1278.35 L1991.69 1268.53 L2005.8 1278.35 L2000.81 1261.91 L2014.51 1251.52 L1997.33 1251.16 L1991.69 1234.93 Z\" fill=\"#009af9\" fill-rule=\"evenodd\" fill-opacity=\"1\" stroke=\"#000000\" stroke-opacity=\"1\" stroke-width=\"3.2\"/>\n",
       "<path clip-path=\"url(#clip632)\" d=\"M1998.38 1234.86 L1992.74 1251.08 L1975.56 1251.44 L1989.26 1261.83 L1984.27 1278.27 L1998.38 1268.46 L2012.49 1278.27 L2007.5 1261.83 L2021.2 1251.44 L2004.02 1251.08 L1998.38 1234.86 Z\" fill=\"#009af9\" fill-rule=\"evenodd\" fill-opacity=\"1\" stroke=\"#000000\" stroke-opacity=\"1\" stroke-width=\"3.2\"/>\n",
       "<path clip-path=\"url(#clip632)\" d=\"M2005.07 1233.17 L1999.43 1249.4 L1982.25 1249.76 L1995.95 1260.15 L1990.96 1276.59 L2005.07 1266.77 L2019.18 1276.59 L2014.19 1260.15 L2027.89 1249.76 L2010.71 1249.4 L2005.07 1233.17 Z\" fill=\"#009af9\" fill-rule=\"evenodd\" fill-opacity=\"1\" stroke=\"#000000\" stroke-opacity=\"1\" stroke-width=\"3.2\"/>\n",
       "<path clip-path=\"url(#clip632)\" d=\"M2011.76 1232.82 L2006.12 1249.04 L1988.94 1249.4 L2002.64 1259.79 L1997.65 1276.23 L2011.76 1266.42 L2025.87 1276.23 L2020.88 1259.79 L2034.58 1249.4 L2017.4 1249.04 L2011.76 1232.82 Z\" fill=\"#009af9\" fill-rule=\"evenodd\" fill-opacity=\"1\" stroke=\"#000000\" stroke-opacity=\"1\" stroke-width=\"3.2\"/>\n",
       "<path clip-path=\"url(#clip632)\" d=\"M2018.45 1231.82 L2012.81 1248.05 L1995.63 1248.41 L2009.33 1258.8 L2004.34 1275.24 L2018.45 1265.42 L2032.56 1275.24 L2027.57 1258.8 L2041.27 1248.41 L2024.09 1248.05 L2018.45 1231.82 Z\" fill=\"#009af9\" fill-rule=\"evenodd\" fill-opacity=\"1\" stroke=\"#000000\" stroke-opacity=\"1\" stroke-width=\"3.2\"/>\n",
       "<path clip-path=\"url(#clip632)\" d=\"M2025.14 1231.08 L2019.5 1247.3 L2002.32 1247.66 L2016.02 1258.05 L2011.03 1274.49 L2025.14 1264.68 L2039.25 1274.49 L2034.26 1258.05 L2047.96 1247.66 L2030.78 1247.3 L2025.14 1231.08 Z\" fill=\"#009af9\" fill-rule=\"evenodd\" fill-opacity=\"1\" stroke=\"#000000\" stroke-opacity=\"1\" stroke-width=\"3.2\"/>\n",
       "<path clip-path=\"url(#clip632)\" d=\"M2031.83 1231.08 L2026.19 1247.3 L2009.01 1247.66 L2022.71 1258.05 L2017.72 1274.49 L2031.83 1264.68 L2045.94 1274.49 L2040.95 1258.05 L2054.65 1247.66 L2037.47 1247.3 L2031.83 1231.08 Z\" fill=\"#009af9\" fill-rule=\"evenodd\" fill-opacity=\"1\" stroke=\"#000000\" stroke-opacity=\"1\" stroke-width=\"3.2\"/>\n",
       "<path clip-path=\"url(#clip632)\" d=\"M2038.52 1230.5 L2032.88 1246.73 L2015.7 1247.09 L2029.4 1257.48 L2024.41 1273.92 L2038.52 1264.1 L2052.63 1273.92 L2047.64 1257.48 L2061.34 1247.09 L2044.16 1246.73 L2038.52 1230.5 Z\" fill=\"#009af9\" fill-rule=\"evenodd\" fill-opacity=\"1\" stroke=\"#000000\" stroke-opacity=\"1\" stroke-width=\"3.2\"/>\n",
       "<path clip-path=\"url(#clip632)\" d=\"M2045.21 1230.5 L2039.57 1246.73 L2022.39 1247.09 L2036.09 1257.48 L2031.1 1273.92 L2045.21 1264.1 L2059.32 1273.92 L2054.33 1257.48 L2068.04 1247.09 L2050.85 1246.73 L2045.21 1230.5 Z\" fill=\"#009af9\" fill-rule=\"evenodd\" fill-opacity=\"1\" stroke=\"#000000\" stroke-opacity=\"1\" stroke-width=\"3.2\"/>\n",
       "<path clip-path=\"url(#clip632)\" d=\"M2051.9 1230.49 L2046.26 1246.71 L2029.08 1247.07 L2042.78 1257.46 L2037.79 1273.9 L2051.9 1264.09 L2066.01 1273.9 L2061.02 1257.46 L2074.73 1247.07 L2057.54 1246.71 L2051.9 1230.49 Z\" fill=\"#009af9\" fill-rule=\"evenodd\" fill-opacity=\"1\" stroke=\"#000000\" stroke-opacity=\"1\" stroke-width=\"3.2\"/>\n",
       "<path clip-path=\"url(#clip632)\" d=\"M2058.59 1229.62 L2052.95 1245.85 L2035.77 1246.21 L2049.47 1256.6 L2044.48 1273.04 L2058.59 1263.22 L2072.7 1273.04 L2067.71 1256.6 L2081.42 1246.21 L2064.23 1245.85 L2058.59 1229.62 Z\" fill=\"#009af9\" fill-rule=\"evenodd\" fill-opacity=\"1\" stroke=\"#000000\" stroke-opacity=\"1\" stroke-width=\"3.2\"/>\n",
       "<path clip-path=\"url(#clip632)\" d=\"M2065.28 1228.55 L2059.64 1244.77 L2042.46 1245.13 L2056.16 1255.52 L2051.17 1271.96 L2065.28 1262.15 L2079.39 1271.96 L2074.4 1255.52 L2088.11 1245.13 L2070.92 1244.77 L2065.28 1228.55 Z\" fill=\"#009af9\" fill-rule=\"evenodd\" fill-opacity=\"1\" stroke=\"#000000\" stroke-opacity=\"1\" stroke-width=\"3.2\"/>\n",
       "<path clip-path=\"url(#clip632)\" d=\"M2071.97 1216.77 L2066.33 1232.99 L2049.15 1233.35 L2062.85 1243.75 L2057.86 1260.19 L2071.97 1250.37 L2086.08 1260.19 L2081.09 1243.75 L2094.8 1233.35 L2077.61 1232.99 L2071.97 1216.77 Z\" fill=\"#009af9\" fill-rule=\"evenodd\" fill-opacity=\"1\" stroke=\"#000000\" stroke-opacity=\"1\" stroke-width=\"3.2\"/>\n",
       "<path clip-path=\"url(#clip632)\" d=\"M2078.66 1216.31 L2073.02 1232.53 L2055.84 1232.89 L2069.54 1243.28 L2064.55 1259.72 L2078.66 1249.91 L2092.77 1259.72 L2087.78 1243.28 L2101.49 1232.89 L2084.3 1232.53 L2078.66 1216.31 Z\" fill=\"#009af9\" fill-rule=\"evenodd\" fill-opacity=\"1\" stroke=\"#000000\" stroke-opacity=\"1\" stroke-width=\"3.2\"/>\n",
       "<path clip-path=\"url(#clip632)\" d=\"M2085.35 1215.66 L2079.71 1231.89 L2062.53 1232.25 L2076.23 1242.64 L2071.24 1259.08 L2085.35 1249.26 L2099.46 1259.08 L2094.47 1242.64 L2108.18 1232.25 L2090.99 1231.89 L2085.35 1215.66 Z\" fill=\"#009af9\" fill-rule=\"evenodd\" fill-opacity=\"1\" stroke=\"#000000\" stroke-opacity=\"1\" stroke-width=\"3.2\"/>\n",
       "<path clip-path=\"url(#clip632)\" d=\"M2092.04 1215.32 L2086.4 1231.54 L2069.22 1231.9 L2082.92 1242.29 L2077.93 1258.73 L2092.04 1248.92 L2106.15 1258.73 L2101.16 1242.29 L2114.87 1231.9 L2097.68 1231.54 L2092.04 1215.32 Z\" fill=\"#009af9\" fill-rule=\"evenodd\" fill-opacity=\"1\" stroke=\"#000000\" stroke-opacity=\"1\" stroke-width=\"3.2\"/>\n",
       "<path clip-path=\"url(#clip632)\" d=\"M2098.73 1212.66 L2093.09 1228.88 L2075.91 1229.24 L2089.61 1239.63 L2084.62 1256.07 L2098.73 1246.26 L2112.84 1256.07 L2107.85 1239.63 L2121.56 1229.24 L2104.37 1228.88 L2098.73 1212.66 Z\" fill=\"#009af9\" fill-rule=\"evenodd\" fill-opacity=\"1\" stroke=\"#000000\" stroke-opacity=\"1\" stroke-width=\"3.2\"/>\n",
       "<path clip-path=\"url(#clip632)\" d=\"M2105.42 1212.66 L2099.78 1228.88 L2082.6 1229.24 L2096.3 1239.63 L2091.31 1256.07 L2105.42 1246.26 L2119.53 1256.07 L2114.54 1239.63 L2128.25 1229.24 L2111.06 1228.88 L2105.42 1212.66 Z\" fill=\"#009af9\" fill-rule=\"evenodd\" fill-opacity=\"1\" stroke=\"#000000\" stroke-opacity=\"1\" stroke-width=\"3.2\"/>\n",
       "<path clip-path=\"url(#clip632)\" d=\"M2112.11 1212.02 L2106.47 1228.24 L2089.29 1228.6 L2102.99 1238.99 L2098 1255.43 L2112.11 1245.62 L2126.22 1255.43 L2121.23 1238.99 L2134.94 1228.6 L2117.75 1228.24 L2112.11 1212.02 Z\" fill=\"#009af9\" fill-rule=\"evenodd\" fill-opacity=\"1\" stroke=\"#000000\" stroke-opacity=\"1\" stroke-width=\"3.2\"/>\n",
       "<path clip-path=\"url(#clip632)\" d=\"M2118.8 1212.02 L2113.16 1228.24 L2095.98 1228.6 L2109.68 1238.99 L2104.69 1255.43 L2118.8 1245.62 L2132.91 1255.43 L2127.92 1238.99 L2141.63 1228.6 L2124.44 1228.24 L2118.8 1212.02 Z\" fill=\"#009af9\" fill-rule=\"evenodd\" fill-opacity=\"1\" stroke=\"#000000\" stroke-opacity=\"1\" stroke-width=\"3.2\"/>\n",
       "<path clip-path=\"url(#clip632)\" d=\"M2125.49 1209.38 L2119.85 1225.6 L2102.67 1225.96 L2116.37 1236.36 L2111.38 1252.8 L2125.49 1242.98 L2139.6 1252.8 L2134.61 1236.36 L2148.32 1225.96 L2131.13 1225.6 L2125.49 1209.38 Z\" fill=\"#009af9\" fill-rule=\"evenodd\" fill-opacity=\"1\" stroke=\"#000000\" stroke-opacity=\"1\" stroke-width=\"3.2\"/>\n",
       "<path clip-path=\"url(#clip632)\" d=\"M2132.18 1209.15 L2126.54 1225.38 L2109.36 1225.74 L2123.06 1236.13 L2118.07 1252.57 L2132.18 1242.75 L2146.29 1252.57 L2141.3 1236.13 L2155.01 1225.74 L2137.82 1225.38 L2132.18 1209.15 Z\" fill=\"#009af9\" fill-rule=\"evenodd\" fill-opacity=\"1\" stroke=\"#000000\" stroke-opacity=\"1\" stroke-width=\"3.2\"/>\n",
       "<circle clip-path=\"url(#clip632)\" cx=\"292.4\" cy=\"1384.24\" r=\"14.4\" fill=\"#e26f46\" fill-rule=\"evenodd\" fill-opacity=\"1\" stroke=\"#000000\" stroke-opacity=\"1\" stroke-width=\"3.2\"/>\n",
       "<circle clip-path=\"url(#clip632)\" cx=\"299.09\" cy=\"1384.01\" r=\"14.4\" fill=\"#e26f46\" fill-rule=\"evenodd\" fill-opacity=\"1\" stroke=\"#000000\" stroke-opacity=\"1\" stroke-width=\"3.2\"/>\n",
       "<circle clip-path=\"url(#clip632)\" cx=\"305.78\" cy=\"1381.48\" r=\"14.4\" fill=\"#e26f46\" fill-rule=\"evenodd\" fill-opacity=\"1\" stroke=\"#000000\" stroke-opacity=\"1\" stroke-width=\"3.2\"/>\n",
       "<circle clip-path=\"url(#clip632)\" cx=\"312.47\" cy=\"1381.48\" r=\"14.4\" fill=\"#e26f46\" fill-rule=\"evenodd\" fill-opacity=\"1\" stroke=\"#000000\" stroke-opacity=\"1\" stroke-width=\"3.2\"/>\n",
       "<circle clip-path=\"url(#clip632)\" cx=\"319.16\" cy=\"1380.86\" r=\"14.4\" fill=\"#e26f46\" fill-rule=\"evenodd\" fill-opacity=\"1\" stroke=\"#000000\" stroke-opacity=\"1\" stroke-width=\"3.2\"/>\n",
       "<circle clip-path=\"url(#clip632)\" cx=\"325.85\" cy=\"1380.86\" r=\"14.4\" fill=\"#e26f46\" fill-rule=\"evenodd\" fill-opacity=\"1\" stroke=\"#000000\" stroke-opacity=\"1\" stroke-width=\"3.2\"/>\n",
       "<circle clip-path=\"url(#clip632)\" cx=\"332.54\" cy=\"1378.33\" r=\"14.4\" fill=\"#e26f46\" fill-rule=\"evenodd\" fill-opacity=\"1\" stroke=\"#000000\" stroke-opacity=\"1\" stroke-width=\"3.2\"/>\n",
       "<circle clip-path=\"url(#clip632)\" cx=\"339.231\" cy=\"1378\" r=\"14.4\" fill=\"#e26f46\" fill-rule=\"evenodd\" fill-opacity=\"1\" stroke=\"#000000\" stroke-opacity=\"1\" stroke-width=\"3.2\"/>\n",
       "<circle clip-path=\"url(#clip632)\" cx=\"345.921\" cy=\"1377.39\" r=\"14.4\" fill=\"#e26f46\" fill-rule=\"evenodd\" fill-opacity=\"1\" stroke=\"#000000\" stroke-opacity=\"1\" stroke-width=\"3.2\"/>\n",
       "<circle clip-path=\"url(#clip632)\" cx=\"352.611\" cy=\"1376.95\" r=\"14.4\" fill=\"#e26f46\" fill-rule=\"evenodd\" fill-opacity=\"1\" stroke=\"#000000\" stroke-opacity=\"1\" stroke-width=\"3.2\"/>\n",
       "<circle clip-path=\"url(#clip632)\" cx=\"359.301\" cy=\"1364.84\" r=\"14.4\" fill=\"#e26f46\" fill-rule=\"evenodd\" fill-opacity=\"1\" stroke=\"#000000\" stroke-opacity=\"1\" stroke-width=\"3.2\"/>\n",
       "<circle clip-path=\"url(#clip632)\" cx=\"365.991\" cy=\"1363.77\" r=\"14.4\" fill=\"#e26f46\" fill-rule=\"evenodd\" fill-opacity=\"1\" stroke=\"#000000\" stroke-opacity=\"1\" stroke-width=\"3.2\"/>\n",
       "<circle clip-path=\"url(#clip632)\" cx=\"372.681\" cy=\"1362.99\" r=\"14.4\" fill=\"#e26f46\" fill-rule=\"evenodd\" fill-opacity=\"1\" stroke=\"#000000\" stroke-opacity=\"1\" stroke-width=\"3.2\"/>\n",
       "<circle clip-path=\"url(#clip632)\" cx=\"379.371\" cy=\"1362.94\" r=\"14.4\" fill=\"#e26f46\" fill-rule=\"evenodd\" fill-opacity=\"1\" stroke=\"#000000\" stroke-opacity=\"1\" stroke-width=\"3.2\"/>\n",
       "<circle clip-path=\"url(#clip632)\" cx=\"386.061\" cy=\"1362.94\" r=\"14.4\" fill=\"#e26f46\" fill-rule=\"evenodd\" fill-opacity=\"1\" stroke=\"#000000\" stroke-opacity=\"1\" stroke-width=\"3.2\"/>\n",
       "<circle clip-path=\"url(#clip632)\" cx=\"392.752\" cy=\"1362.37\" r=\"14.4\" fill=\"#e26f46\" fill-rule=\"evenodd\" fill-opacity=\"1\" stroke=\"#000000\" stroke-opacity=\"1\" stroke-width=\"3.2\"/>\n",
       "<circle clip-path=\"url(#clip632)\" cx=\"399.442\" cy=\"1362.37\" r=\"14.4\" fill=\"#e26f46\" fill-rule=\"evenodd\" fill-opacity=\"1\" stroke=\"#000000\" stroke-opacity=\"1\" stroke-width=\"3.2\"/>\n",
       "<circle clip-path=\"url(#clip632)\" cx=\"406.132\" cy=\"1361.66\" r=\"14.4\" fill=\"#e26f46\" fill-rule=\"evenodd\" fill-opacity=\"1\" stroke=\"#000000\" stroke-opacity=\"1\" stroke-width=\"3.2\"/>\n",
       "<circle clip-path=\"url(#clip632)\" cx=\"412.822\" cy=\"1360.69\" r=\"14.4\" fill=\"#e26f46\" fill-rule=\"evenodd\" fill-opacity=\"1\" stroke=\"#000000\" stroke-opacity=\"1\" stroke-width=\"3.2\"/>\n",
       "<circle clip-path=\"url(#clip632)\" cx=\"419.512\" cy=\"1360.3\" r=\"14.4\" fill=\"#e26f46\" fill-rule=\"evenodd\" fill-opacity=\"1\" stroke=\"#000000\" stroke-opacity=\"1\" stroke-width=\"3.2\"/>\n",
       "<circle clip-path=\"url(#clip632)\" cx=\"426.202\" cy=\"1358.67\" r=\"14.4\" fill=\"#e26f46\" fill-rule=\"evenodd\" fill-opacity=\"1\" stroke=\"#000000\" stroke-opacity=\"1\" stroke-width=\"3.2\"/>\n",
       "<circle clip-path=\"url(#clip632)\" cx=\"432.892\" cy=\"1358.66\" r=\"14.4\" fill=\"#e26f46\" fill-rule=\"evenodd\" fill-opacity=\"1\" stroke=\"#000000\" stroke-opacity=\"1\" stroke-width=\"3.2\"/>\n",
       "<circle clip-path=\"url(#clip632)\" cx=\"439.582\" cy=\"1358.44\" r=\"14.4\" fill=\"#e26f46\" fill-rule=\"evenodd\" fill-opacity=\"1\" stroke=\"#000000\" stroke-opacity=\"1\" stroke-width=\"3.2\"/>\n",
       "<circle clip-path=\"url(#clip632)\" cx=\"446.272\" cy=\"1358.44\" r=\"14.4\" fill=\"#e26f46\" fill-rule=\"evenodd\" fill-opacity=\"1\" stroke=\"#000000\" stroke-opacity=\"1\" stroke-width=\"3.2\"/>\n",
       "<circle clip-path=\"url(#clip632)\" cx=\"452.963\" cy=\"1356.28\" r=\"14.4\" fill=\"#e26f46\" fill-rule=\"evenodd\" fill-opacity=\"1\" stroke=\"#000000\" stroke-opacity=\"1\" stroke-width=\"3.2\"/>\n",
       "<circle clip-path=\"url(#clip632)\" cx=\"459.653\" cy=\"1356.28\" r=\"14.4\" fill=\"#e26f46\" fill-rule=\"evenodd\" fill-opacity=\"1\" stroke=\"#000000\" stroke-opacity=\"1\" stroke-width=\"3.2\"/>\n",
       "<circle clip-path=\"url(#clip632)\" cx=\"466.343\" cy=\"1352.13\" r=\"14.4\" fill=\"#e26f46\" fill-rule=\"evenodd\" fill-opacity=\"1\" stroke=\"#000000\" stroke-opacity=\"1\" stroke-width=\"3.2\"/>\n",
       "<circle clip-path=\"url(#clip632)\" cx=\"473.033\" cy=\"1352.05\" r=\"14.4\" fill=\"#e26f46\" fill-rule=\"evenodd\" fill-opacity=\"1\" stroke=\"#000000\" stroke-opacity=\"1\" stroke-width=\"3.2\"/>\n",
       "<circle clip-path=\"url(#clip632)\" cx=\"479.723\" cy=\"1352.05\" r=\"14.4\" fill=\"#e26f46\" fill-rule=\"evenodd\" fill-opacity=\"1\" stroke=\"#000000\" stroke-opacity=\"1\" stroke-width=\"3.2\"/>\n",
       "<circle clip-path=\"url(#clip632)\" cx=\"486.413\" cy=\"1350.82\" r=\"14.4\" fill=\"#e26f46\" fill-rule=\"evenodd\" fill-opacity=\"1\" stroke=\"#000000\" stroke-opacity=\"1\" stroke-width=\"3.2\"/>\n",
       "<circle clip-path=\"url(#clip632)\" cx=\"493.103\" cy=\"1350.42\" r=\"14.4\" fill=\"#e26f46\" fill-rule=\"evenodd\" fill-opacity=\"1\" stroke=\"#000000\" stroke-opacity=\"1\" stroke-width=\"3.2\"/>\n",
       "<circle clip-path=\"url(#clip632)\" cx=\"499.793\" cy=\"1350.15\" r=\"14.4\" fill=\"#e26f46\" fill-rule=\"evenodd\" fill-opacity=\"1\" stroke=\"#000000\" stroke-opacity=\"1\" stroke-width=\"3.2\"/>\n",
       "<circle clip-path=\"url(#clip632)\" cx=\"506.484\" cy=\"1350.05\" r=\"14.4\" fill=\"#e26f46\" fill-rule=\"evenodd\" fill-opacity=\"1\" stroke=\"#000000\" stroke-opacity=\"1\" stroke-width=\"3.2\"/>\n",
       "<circle clip-path=\"url(#clip632)\" cx=\"513.174\" cy=\"1349.94\" r=\"14.4\" fill=\"#e26f46\" fill-rule=\"evenodd\" fill-opacity=\"1\" stroke=\"#000000\" stroke-opacity=\"1\" stroke-width=\"3.2\"/>\n",
       "<circle clip-path=\"url(#clip632)\" cx=\"519.864\" cy=\"1349.94\" r=\"14.4\" fill=\"#e26f46\" fill-rule=\"evenodd\" fill-opacity=\"1\" stroke=\"#000000\" stroke-opacity=\"1\" stroke-width=\"3.2\"/>\n",
       "<circle clip-path=\"url(#clip632)\" cx=\"526.554\" cy=\"1349.34\" r=\"14.4\" fill=\"#e26f46\" fill-rule=\"evenodd\" fill-opacity=\"1\" stroke=\"#000000\" stroke-opacity=\"1\" stroke-width=\"3.2\"/>\n",
       "<circle clip-path=\"url(#clip632)\" cx=\"533.244\" cy=\"1348.71\" r=\"14.4\" fill=\"#e26f46\" fill-rule=\"evenodd\" fill-opacity=\"1\" stroke=\"#000000\" stroke-opacity=\"1\" stroke-width=\"3.2\"/>\n",
       "<circle clip-path=\"url(#clip632)\" cx=\"539.934\" cy=\"1347.2\" r=\"14.4\" fill=\"#e26f46\" fill-rule=\"evenodd\" fill-opacity=\"1\" stroke=\"#000000\" stroke-opacity=\"1\" stroke-width=\"3.2\"/>\n",
       "<circle clip-path=\"url(#clip632)\" cx=\"546.624\" cy=\"1347.2\" r=\"14.4\" fill=\"#e26f46\" fill-rule=\"evenodd\" fill-opacity=\"1\" stroke=\"#000000\" stroke-opacity=\"1\" stroke-width=\"3.2\"/>\n",
       "<circle clip-path=\"url(#clip632)\" cx=\"553.314\" cy=\"1347.12\" r=\"14.4\" fill=\"#e26f46\" fill-rule=\"evenodd\" fill-opacity=\"1\" stroke=\"#000000\" stroke-opacity=\"1\" stroke-width=\"3.2\"/>\n",
       "<circle clip-path=\"url(#clip632)\" cx=\"560.005\" cy=\"1346.29\" r=\"14.4\" fill=\"#e26f46\" fill-rule=\"evenodd\" fill-opacity=\"1\" stroke=\"#000000\" stroke-opacity=\"1\" stroke-width=\"3.2\"/>\n",
       "<circle clip-path=\"url(#clip632)\" cx=\"566.695\" cy=\"1346.29\" r=\"14.4\" fill=\"#e26f46\" fill-rule=\"evenodd\" fill-opacity=\"1\" stroke=\"#000000\" stroke-opacity=\"1\" stroke-width=\"3.2\"/>\n",
       "<circle clip-path=\"url(#clip632)\" cx=\"573.385\" cy=\"1344.06\" r=\"14.4\" fill=\"#e26f46\" fill-rule=\"evenodd\" fill-opacity=\"1\" stroke=\"#000000\" stroke-opacity=\"1\" stroke-width=\"3.2\"/>\n",
       "<circle clip-path=\"url(#clip632)\" cx=\"580.075\" cy=\"1343.77\" r=\"14.4\" fill=\"#e26f46\" fill-rule=\"evenodd\" fill-opacity=\"1\" stroke=\"#000000\" stroke-opacity=\"1\" stroke-width=\"3.2\"/>\n",
       "<circle clip-path=\"url(#clip632)\" cx=\"586.765\" cy=\"1343.21\" r=\"14.4\" fill=\"#e26f46\" fill-rule=\"evenodd\" fill-opacity=\"1\" stroke=\"#000000\" stroke-opacity=\"1\" stroke-width=\"3.2\"/>\n",
       "<circle clip-path=\"url(#clip632)\" cx=\"593.455\" cy=\"1341.98\" r=\"14.4\" fill=\"#e26f46\" fill-rule=\"evenodd\" fill-opacity=\"1\" stroke=\"#000000\" stroke-opacity=\"1\" stroke-width=\"3.2\"/>\n",
       "<circle clip-path=\"url(#clip632)\" cx=\"600.145\" cy=\"1341.98\" r=\"14.4\" fill=\"#e26f46\" fill-rule=\"evenodd\" fill-opacity=\"1\" stroke=\"#000000\" stroke-opacity=\"1\" stroke-width=\"3.2\"/>\n",
       "<circle clip-path=\"url(#clip632)\" cx=\"606.835\" cy=\"1341.96\" r=\"14.4\" fill=\"#e26f46\" fill-rule=\"evenodd\" fill-opacity=\"1\" stroke=\"#000000\" stroke-opacity=\"1\" stroke-width=\"3.2\"/>\n",
       "<circle clip-path=\"url(#clip632)\" cx=\"613.525\" cy=\"1340.53\" r=\"14.4\" fill=\"#e26f46\" fill-rule=\"evenodd\" fill-opacity=\"1\" stroke=\"#000000\" stroke-opacity=\"1\" stroke-width=\"3.2\"/>\n",
       "<circle clip-path=\"url(#clip632)\" cx=\"620.216\" cy=\"1340.53\" r=\"14.4\" fill=\"#e26f46\" fill-rule=\"evenodd\" fill-opacity=\"1\" stroke=\"#000000\" stroke-opacity=\"1\" stroke-width=\"3.2\"/>\n",
       "<circle clip-path=\"url(#clip632)\" cx=\"626.906\" cy=\"1340.29\" r=\"14.4\" fill=\"#e26f46\" fill-rule=\"evenodd\" fill-opacity=\"1\" stroke=\"#000000\" stroke-opacity=\"1\" stroke-width=\"3.2\"/>\n",
       "<circle clip-path=\"url(#clip632)\" cx=\"633.596\" cy=\"1339.59\" r=\"14.4\" fill=\"#e26f46\" fill-rule=\"evenodd\" fill-opacity=\"1\" stroke=\"#000000\" stroke-opacity=\"1\" stroke-width=\"3.2\"/>\n",
       "<circle clip-path=\"url(#clip632)\" cx=\"640.286\" cy=\"1339.59\" r=\"14.4\" fill=\"#e26f46\" fill-rule=\"evenodd\" fill-opacity=\"1\" stroke=\"#000000\" stroke-opacity=\"1\" stroke-width=\"3.2\"/>\n",
       "<circle clip-path=\"url(#clip632)\" cx=\"646.976\" cy=\"1339.36\" r=\"14.4\" fill=\"#e26f46\" fill-rule=\"evenodd\" fill-opacity=\"1\" stroke=\"#000000\" stroke-opacity=\"1\" stroke-width=\"3.2\"/>\n",
       "<circle clip-path=\"url(#clip632)\" cx=\"653.666\" cy=\"1339.34\" r=\"14.4\" fill=\"#e26f46\" fill-rule=\"evenodd\" fill-opacity=\"1\" stroke=\"#000000\" stroke-opacity=\"1\" stroke-width=\"3.2\"/>\n",
       "<circle clip-path=\"url(#clip632)\" cx=\"660.356\" cy=\"1338.32\" r=\"14.4\" fill=\"#e26f46\" fill-rule=\"evenodd\" fill-opacity=\"1\" stroke=\"#000000\" stroke-opacity=\"1\" stroke-width=\"3.2\"/>\n",
       "<circle clip-path=\"url(#clip632)\" cx=\"667.046\" cy=\"1338.02\" r=\"14.4\" fill=\"#e26f46\" fill-rule=\"evenodd\" fill-opacity=\"1\" stroke=\"#000000\" stroke-opacity=\"1\" stroke-width=\"3.2\"/>\n",
       "<circle clip-path=\"url(#clip632)\" cx=\"673.737\" cy=\"1337\" r=\"14.4\" fill=\"#e26f46\" fill-rule=\"evenodd\" fill-opacity=\"1\" stroke=\"#000000\" stroke-opacity=\"1\" stroke-width=\"3.2\"/>\n",
       "<circle clip-path=\"url(#clip632)\" cx=\"680.427\" cy=\"1336.49\" r=\"14.4\" fill=\"#e26f46\" fill-rule=\"evenodd\" fill-opacity=\"1\" stroke=\"#000000\" stroke-opacity=\"1\" stroke-width=\"3.2\"/>\n",
       "<circle clip-path=\"url(#clip632)\" cx=\"687.117\" cy=\"1336.49\" r=\"14.4\" fill=\"#e26f46\" fill-rule=\"evenodd\" fill-opacity=\"1\" stroke=\"#000000\" stroke-opacity=\"1\" stroke-width=\"3.2\"/>\n",
       "<circle clip-path=\"url(#clip632)\" cx=\"693.807\" cy=\"1336.24\" r=\"14.4\" fill=\"#e26f46\" fill-rule=\"evenodd\" fill-opacity=\"1\" stroke=\"#000000\" stroke-opacity=\"1\" stroke-width=\"3.2\"/>\n",
       "<circle clip-path=\"url(#clip632)\" cx=\"700.497\" cy=\"1336.24\" r=\"14.4\" fill=\"#e26f46\" fill-rule=\"evenodd\" fill-opacity=\"1\" stroke=\"#000000\" stroke-opacity=\"1\" stroke-width=\"3.2\"/>\n",
       "<circle clip-path=\"url(#clip632)\" cx=\"707.187\" cy=\"1335.71\" r=\"14.4\" fill=\"#e26f46\" fill-rule=\"evenodd\" fill-opacity=\"1\" stroke=\"#000000\" stroke-opacity=\"1\" stroke-width=\"3.2\"/>\n",
       "<circle clip-path=\"url(#clip632)\" cx=\"713.877\" cy=\"1334.83\" r=\"14.4\" fill=\"#e26f46\" fill-rule=\"evenodd\" fill-opacity=\"1\" stroke=\"#000000\" stroke-opacity=\"1\" stroke-width=\"3.2\"/>\n",
       "<circle clip-path=\"url(#clip632)\" cx=\"720.567\" cy=\"1334.76\" r=\"14.4\" fill=\"#e26f46\" fill-rule=\"evenodd\" fill-opacity=\"1\" stroke=\"#000000\" stroke-opacity=\"1\" stroke-width=\"3.2\"/>\n",
       "<circle clip-path=\"url(#clip632)\" cx=\"727.258\" cy=\"1334.76\" r=\"14.4\" fill=\"#e26f46\" fill-rule=\"evenodd\" fill-opacity=\"1\" stroke=\"#000000\" stroke-opacity=\"1\" stroke-width=\"3.2\"/>\n",
       "<circle clip-path=\"url(#clip632)\" cx=\"733.948\" cy=\"1333.66\" r=\"14.4\" fill=\"#e26f46\" fill-rule=\"evenodd\" fill-opacity=\"1\" stroke=\"#000000\" stroke-opacity=\"1\" stroke-width=\"3.2\"/>\n",
       "<circle clip-path=\"url(#clip632)\" cx=\"740.638\" cy=\"1333.33\" r=\"14.4\" fill=\"#e26f46\" fill-rule=\"evenodd\" fill-opacity=\"1\" stroke=\"#000000\" stroke-opacity=\"1\" stroke-width=\"3.2\"/>\n",
       "<circle clip-path=\"url(#clip632)\" cx=\"747.328\" cy=\"1331.84\" r=\"14.4\" fill=\"#e26f46\" fill-rule=\"evenodd\" fill-opacity=\"1\" stroke=\"#000000\" stroke-opacity=\"1\" stroke-width=\"3.2\"/>\n",
       "<circle clip-path=\"url(#clip632)\" cx=\"754.018\" cy=\"1331.6\" r=\"14.4\" fill=\"#e26f46\" fill-rule=\"evenodd\" fill-opacity=\"1\" stroke=\"#000000\" stroke-opacity=\"1\" stroke-width=\"3.2\"/>\n",
       "<circle clip-path=\"url(#clip632)\" cx=\"760.708\" cy=\"1331.26\" r=\"14.4\" fill=\"#e26f46\" fill-rule=\"evenodd\" fill-opacity=\"1\" stroke=\"#000000\" stroke-opacity=\"1\" stroke-width=\"3.2\"/>\n",
       "<circle clip-path=\"url(#clip632)\" cx=\"767.398\" cy=\"1331.01\" r=\"14.4\" fill=\"#e26f46\" fill-rule=\"evenodd\" fill-opacity=\"1\" stroke=\"#000000\" stroke-opacity=\"1\" stroke-width=\"3.2\"/>\n",
       "<circle clip-path=\"url(#clip632)\" cx=\"774.088\" cy=\"1330.95\" r=\"14.4\" fill=\"#e26f46\" fill-rule=\"evenodd\" fill-opacity=\"1\" stroke=\"#000000\" stroke-opacity=\"1\" stroke-width=\"3.2\"/>\n",
       "<circle clip-path=\"url(#clip632)\" cx=\"780.778\" cy=\"1330.95\" r=\"14.4\" fill=\"#e26f46\" fill-rule=\"evenodd\" fill-opacity=\"1\" stroke=\"#000000\" stroke-opacity=\"1\" stroke-width=\"3.2\"/>\n",
       "<circle clip-path=\"url(#clip632)\" cx=\"787.469\" cy=\"1330.86\" r=\"14.4\" fill=\"#e26f46\" fill-rule=\"evenodd\" fill-opacity=\"1\" stroke=\"#000000\" stroke-opacity=\"1\" stroke-width=\"3.2\"/>\n",
       "<circle clip-path=\"url(#clip632)\" cx=\"794.159\" cy=\"1330.65\" r=\"14.4\" fill=\"#e26f46\" fill-rule=\"evenodd\" fill-opacity=\"1\" stroke=\"#000000\" stroke-opacity=\"1\" stroke-width=\"3.2\"/>\n",
       "<circle clip-path=\"url(#clip632)\" cx=\"800.849\" cy=\"1330.65\" r=\"14.4\" fill=\"#e26f46\" fill-rule=\"evenodd\" fill-opacity=\"1\" stroke=\"#000000\" stroke-opacity=\"1\" stroke-width=\"3.2\"/>\n",
       "<circle clip-path=\"url(#clip632)\" cx=\"807.539\" cy=\"1330.55\" r=\"14.4\" fill=\"#e26f46\" fill-rule=\"evenodd\" fill-opacity=\"1\" stroke=\"#000000\" stroke-opacity=\"1\" stroke-width=\"3.2\"/>\n",
       "<circle clip-path=\"url(#clip632)\" cx=\"814.229\" cy=\"1330.55\" r=\"14.4\" fill=\"#e26f46\" fill-rule=\"evenodd\" fill-opacity=\"1\" stroke=\"#000000\" stroke-opacity=\"1\" stroke-width=\"3.2\"/>\n",
       "<circle clip-path=\"url(#clip632)\" cx=\"820.919\" cy=\"1330.45\" r=\"14.4\" fill=\"#e26f46\" fill-rule=\"evenodd\" fill-opacity=\"1\" stroke=\"#000000\" stroke-opacity=\"1\" stroke-width=\"3.2\"/>\n",
       "<circle clip-path=\"url(#clip632)\" cx=\"827.609\" cy=\"1329.2\" r=\"14.4\" fill=\"#e26f46\" fill-rule=\"evenodd\" fill-opacity=\"1\" stroke=\"#000000\" stroke-opacity=\"1\" stroke-width=\"3.2\"/>\n",
       "<circle clip-path=\"url(#clip632)\" cx=\"834.299\" cy=\"1327.91\" r=\"14.4\" fill=\"#e26f46\" fill-rule=\"evenodd\" fill-opacity=\"1\" stroke=\"#000000\" stroke-opacity=\"1\" stroke-width=\"3.2\"/>\n",
       "<circle clip-path=\"url(#clip632)\" cx=\"840.99\" cy=\"1327.79\" r=\"14.4\" fill=\"#e26f46\" fill-rule=\"evenodd\" fill-opacity=\"1\" stroke=\"#000000\" stroke-opacity=\"1\" stroke-width=\"3.2\"/>\n",
       "<circle clip-path=\"url(#clip632)\" cx=\"847.68\" cy=\"1327.79\" r=\"14.4\" fill=\"#e26f46\" fill-rule=\"evenodd\" fill-opacity=\"1\" stroke=\"#000000\" stroke-opacity=\"1\" stroke-width=\"3.2\"/>\n",
       "<circle clip-path=\"url(#clip632)\" cx=\"854.37\" cy=\"1327.42\" r=\"14.4\" fill=\"#e26f46\" fill-rule=\"evenodd\" fill-opacity=\"1\" stroke=\"#000000\" stroke-opacity=\"1\" stroke-width=\"3.2\"/>\n",
       "<circle clip-path=\"url(#clip632)\" cx=\"861.06\" cy=\"1327.41\" r=\"14.4\" fill=\"#e26f46\" fill-rule=\"evenodd\" fill-opacity=\"1\" stroke=\"#000000\" stroke-opacity=\"1\" stroke-width=\"3.2\"/>\n",
       "<circle clip-path=\"url(#clip632)\" cx=\"867.75\" cy=\"1327.12\" r=\"14.4\" fill=\"#e26f46\" fill-rule=\"evenodd\" fill-opacity=\"1\" stroke=\"#000000\" stroke-opacity=\"1\" stroke-width=\"3.2\"/>\n",
       "<circle clip-path=\"url(#clip632)\" cx=\"874.44\" cy=\"1326.65\" r=\"14.4\" fill=\"#e26f46\" fill-rule=\"evenodd\" fill-opacity=\"1\" stroke=\"#000000\" stroke-opacity=\"1\" stroke-width=\"3.2\"/>\n",
       "<circle clip-path=\"url(#clip632)\" cx=\"881.13\" cy=\"1326.65\" r=\"14.4\" fill=\"#e26f46\" fill-rule=\"evenodd\" fill-opacity=\"1\" stroke=\"#000000\" stroke-opacity=\"1\" stroke-width=\"3.2\"/>\n",
       "<circle clip-path=\"url(#clip632)\" cx=\"887.82\" cy=\"1325.29\" r=\"14.4\" fill=\"#e26f46\" fill-rule=\"evenodd\" fill-opacity=\"1\" stroke=\"#000000\" stroke-opacity=\"1\" stroke-width=\"3.2\"/>\n",
       "<circle clip-path=\"url(#clip632)\" cx=\"894.511\" cy=\"1325.22\" r=\"14.4\" fill=\"#e26f46\" fill-rule=\"evenodd\" fill-opacity=\"1\" stroke=\"#000000\" stroke-opacity=\"1\" stroke-width=\"3.2\"/>\n",
       "<circle clip-path=\"url(#clip632)\" cx=\"901.201\" cy=\"1324.69\" r=\"14.4\" fill=\"#e26f46\" fill-rule=\"evenodd\" fill-opacity=\"1\" stroke=\"#000000\" stroke-opacity=\"1\" stroke-width=\"3.2\"/>\n",
       "<circle clip-path=\"url(#clip632)\" cx=\"907.891\" cy=\"1324.69\" r=\"14.4\" fill=\"#e26f46\" fill-rule=\"evenodd\" fill-opacity=\"1\" stroke=\"#000000\" stroke-opacity=\"1\" stroke-width=\"3.2\"/>\n",
       "<circle clip-path=\"url(#clip632)\" cx=\"914.581\" cy=\"1324.29\" r=\"14.4\" fill=\"#e26f46\" fill-rule=\"evenodd\" fill-opacity=\"1\" stroke=\"#000000\" stroke-opacity=\"1\" stroke-width=\"3.2\"/>\n",
       "<circle clip-path=\"url(#clip632)\" cx=\"921.271\" cy=\"1324.15\" r=\"14.4\" fill=\"#e26f46\" fill-rule=\"evenodd\" fill-opacity=\"1\" stroke=\"#000000\" stroke-opacity=\"1\" stroke-width=\"3.2\"/>\n",
       "<circle clip-path=\"url(#clip632)\" cx=\"927.961\" cy=\"1323.82\" r=\"14.4\" fill=\"#e26f46\" fill-rule=\"evenodd\" fill-opacity=\"1\" stroke=\"#000000\" stroke-opacity=\"1\" stroke-width=\"3.2\"/>\n",
       "<circle clip-path=\"url(#clip632)\" cx=\"934.651\" cy=\"1323.82\" r=\"14.4\" fill=\"#e26f46\" fill-rule=\"evenodd\" fill-opacity=\"1\" stroke=\"#000000\" stroke-opacity=\"1\" stroke-width=\"3.2\"/>\n",
       "<circle clip-path=\"url(#clip632)\" cx=\"941.341\" cy=\"1323.48\" r=\"14.4\" fill=\"#e26f46\" fill-rule=\"evenodd\" fill-opacity=\"1\" stroke=\"#000000\" stroke-opacity=\"1\" stroke-width=\"3.2\"/>\n",
       "<circle clip-path=\"url(#clip632)\" cx=\"948.031\" cy=\"1323.05\" r=\"14.4\" fill=\"#e26f46\" fill-rule=\"evenodd\" fill-opacity=\"1\" stroke=\"#000000\" stroke-opacity=\"1\" stroke-width=\"3.2\"/>\n",
       "<circle clip-path=\"url(#clip632)\" cx=\"954.722\" cy=\"1322.45\" r=\"14.4\" fill=\"#e26f46\" fill-rule=\"evenodd\" fill-opacity=\"1\" stroke=\"#000000\" stroke-opacity=\"1\" stroke-width=\"3.2\"/>\n",
       "<circle clip-path=\"url(#clip632)\" cx=\"961.412\" cy=\"1321.71\" r=\"14.4\" fill=\"#e26f46\" fill-rule=\"evenodd\" fill-opacity=\"1\" stroke=\"#000000\" stroke-opacity=\"1\" stroke-width=\"3.2\"/>\n",
       "<circle clip-path=\"url(#clip632)\" cx=\"968.102\" cy=\"1321.71\" r=\"14.4\" fill=\"#e26f46\" fill-rule=\"evenodd\" fill-opacity=\"1\" stroke=\"#000000\" stroke-opacity=\"1\" stroke-width=\"3.2\"/>\n",
       "<circle clip-path=\"url(#clip632)\" cx=\"974.792\" cy=\"1321.12\" r=\"14.4\" fill=\"#e26f46\" fill-rule=\"evenodd\" fill-opacity=\"1\" stroke=\"#000000\" stroke-opacity=\"1\" stroke-width=\"3.2\"/>\n",
       "<circle clip-path=\"url(#clip632)\" cx=\"981.482\" cy=\"1320.79\" r=\"14.4\" fill=\"#e26f46\" fill-rule=\"evenodd\" fill-opacity=\"1\" stroke=\"#000000\" stroke-opacity=\"1\" stroke-width=\"3.2\"/>\n",
       "<circle clip-path=\"url(#clip632)\" cx=\"988.172\" cy=\"1320.79\" r=\"14.4\" fill=\"#e26f46\" fill-rule=\"evenodd\" fill-opacity=\"1\" stroke=\"#000000\" stroke-opacity=\"1\" stroke-width=\"3.2\"/>\n",
       "<circle clip-path=\"url(#clip632)\" cx=\"994.862\" cy=\"1319.56\" r=\"14.4\" fill=\"#e26f46\" fill-rule=\"evenodd\" fill-opacity=\"1\" stroke=\"#000000\" stroke-opacity=\"1\" stroke-width=\"3.2\"/>\n",
       "<circle clip-path=\"url(#clip632)\" cx=\"1001.55\" cy=\"1319.26\" r=\"14.4\" fill=\"#e26f46\" fill-rule=\"evenodd\" fill-opacity=\"1\" stroke=\"#000000\" stroke-opacity=\"1\" stroke-width=\"3.2\"/>\n",
       "<circle clip-path=\"url(#clip632)\" cx=\"1008.24\" cy=\"1318.48\" r=\"14.4\" fill=\"#e26f46\" fill-rule=\"evenodd\" fill-opacity=\"1\" stroke=\"#000000\" stroke-opacity=\"1\" stroke-width=\"3.2\"/>\n",
       "<circle clip-path=\"url(#clip632)\" cx=\"1014.93\" cy=\"1317.59\" r=\"14.4\" fill=\"#e26f46\" fill-rule=\"evenodd\" fill-opacity=\"1\" stroke=\"#000000\" stroke-opacity=\"1\" stroke-width=\"3.2\"/>\n",
       "<circle clip-path=\"url(#clip632)\" cx=\"1021.62\" cy=\"1317.59\" r=\"14.4\" fill=\"#e26f46\" fill-rule=\"evenodd\" fill-opacity=\"1\" stroke=\"#000000\" stroke-opacity=\"1\" stroke-width=\"3.2\"/>\n",
       "<circle clip-path=\"url(#clip632)\" cx=\"1028.31\" cy=\"1316.97\" r=\"14.4\" fill=\"#e26f46\" fill-rule=\"evenodd\" fill-opacity=\"1\" stroke=\"#000000\" stroke-opacity=\"1\" stroke-width=\"3.2\"/>\n",
       "<circle clip-path=\"url(#clip632)\" cx=\"1035\" cy=\"1315.44\" r=\"14.4\" fill=\"#e26f46\" fill-rule=\"evenodd\" fill-opacity=\"1\" stroke=\"#000000\" stroke-opacity=\"1\" stroke-width=\"3.2\"/>\n",
       "<circle clip-path=\"url(#clip632)\" cx=\"1041.69\" cy=\"1315.44\" r=\"14.4\" fill=\"#e26f46\" fill-rule=\"evenodd\" fill-opacity=\"1\" stroke=\"#000000\" stroke-opacity=\"1\" stroke-width=\"3.2\"/>\n",
       "<circle clip-path=\"url(#clip632)\" cx=\"1048.38\" cy=\"1315.35\" r=\"14.4\" fill=\"#e26f46\" fill-rule=\"evenodd\" fill-opacity=\"1\" stroke=\"#000000\" stroke-opacity=\"1\" stroke-width=\"3.2\"/>\n",
       "<circle clip-path=\"url(#clip632)\" cx=\"1055.07\" cy=\"1314.8\" r=\"14.4\" fill=\"#e26f46\" fill-rule=\"evenodd\" fill-opacity=\"1\" stroke=\"#000000\" stroke-opacity=\"1\" stroke-width=\"3.2\"/>\n",
       "<circle clip-path=\"url(#clip632)\" cx=\"1061.76\" cy=\"1313.8\" r=\"14.4\" fill=\"#e26f46\" fill-rule=\"evenodd\" fill-opacity=\"1\" stroke=\"#000000\" stroke-opacity=\"1\" stroke-width=\"3.2\"/>\n",
       "<circle clip-path=\"url(#clip632)\" cx=\"1068.45\" cy=\"1313.8\" r=\"14.4\" fill=\"#e26f46\" fill-rule=\"evenodd\" fill-opacity=\"1\" stroke=\"#000000\" stroke-opacity=\"1\" stroke-width=\"3.2\"/>\n",
       "<circle clip-path=\"url(#clip632)\" cx=\"1075.14\" cy=\"1312.79\" r=\"14.4\" fill=\"#e26f46\" fill-rule=\"evenodd\" fill-opacity=\"1\" stroke=\"#000000\" stroke-opacity=\"1\" stroke-width=\"3.2\"/>\n",
       "<circle clip-path=\"url(#clip632)\" cx=\"1081.83\" cy=\"1312.79\" r=\"14.4\" fill=\"#e26f46\" fill-rule=\"evenodd\" fill-opacity=\"1\" stroke=\"#000000\" stroke-opacity=\"1\" stroke-width=\"3.2\"/>\n",
       "<circle clip-path=\"url(#clip632)\" cx=\"1088.52\" cy=\"1309.74\" r=\"14.4\" fill=\"#e26f46\" fill-rule=\"evenodd\" fill-opacity=\"1\" stroke=\"#000000\" stroke-opacity=\"1\" stroke-width=\"3.2\"/>\n",
       "<circle clip-path=\"url(#clip632)\" cx=\"1095.21\" cy=\"1309.74\" r=\"14.4\" fill=\"#e26f46\" fill-rule=\"evenodd\" fill-opacity=\"1\" stroke=\"#000000\" stroke-opacity=\"1\" stroke-width=\"3.2\"/>\n",
       "<circle clip-path=\"url(#clip632)\" cx=\"1101.9\" cy=\"1309.24\" r=\"14.4\" fill=\"#e26f46\" fill-rule=\"evenodd\" fill-opacity=\"1\" stroke=\"#000000\" stroke-opacity=\"1\" stroke-width=\"3.2\"/>\n",
       "<circle clip-path=\"url(#clip632)\" cx=\"1108.59\" cy=\"1309.24\" r=\"14.4\" fill=\"#e26f46\" fill-rule=\"evenodd\" fill-opacity=\"1\" stroke=\"#000000\" stroke-opacity=\"1\" stroke-width=\"3.2\"/>\n",
       "<circle clip-path=\"url(#clip632)\" cx=\"1115.28\" cy=\"1309.14\" r=\"14.4\" fill=\"#e26f46\" fill-rule=\"evenodd\" fill-opacity=\"1\" stroke=\"#000000\" stroke-opacity=\"1\" stroke-width=\"3.2\"/>\n",
       "<circle clip-path=\"url(#clip632)\" cx=\"1121.97\" cy=\"1309.06\" r=\"14.4\" fill=\"#e26f46\" fill-rule=\"evenodd\" fill-opacity=\"1\" stroke=\"#000000\" stroke-opacity=\"1\" stroke-width=\"3.2\"/>\n",
       "<circle clip-path=\"url(#clip632)\" cx=\"1128.66\" cy=\"1309.06\" r=\"14.4\" fill=\"#e26f46\" fill-rule=\"evenodd\" fill-opacity=\"1\" stroke=\"#000000\" stroke-opacity=\"1\" stroke-width=\"3.2\"/>\n",
       "<circle clip-path=\"url(#clip632)\" cx=\"1135.35\" cy=\"1308.96\" r=\"14.4\" fill=\"#e26f46\" fill-rule=\"evenodd\" fill-opacity=\"1\" stroke=\"#000000\" stroke-opacity=\"1\" stroke-width=\"3.2\"/>\n",
       "<circle clip-path=\"url(#clip632)\" cx=\"1142.04\" cy=\"1308.92\" r=\"14.4\" fill=\"#e26f46\" fill-rule=\"evenodd\" fill-opacity=\"1\" stroke=\"#000000\" stroke-opacity=\"1\" stroke-width=\"3.2\"/>\n",
       "<circle clip-path=\"url(#clip632)\" cx=\"1148.74\" cy=\"1308.83\" r=\"14.4\" fill=\"#e26f46\" fill-rule=\"evenodd\" fill-opacity=\"1\" stroke=\"#000000\" stroke-opacity=\"1\" stroke-width=\"3.2\"/>\n",
       "<circle clip-path=\"url(#clip632)\" cx=\"1155.43\" cy=\"1308.83\" r=\"14.4\" fill=\"#e26f46\" fill-rule=\"evenodd\" fill-opacity=\"1\" stroke=\"#000000\" stroke-opacity=\"1\" stroke-width=\"3.2\"/>\n",
       "<circle clip-path=\"url(#clip632)\" cx=\"1162.12\" cy=\"1308.71\" r=\"14.4\" fill=\"#e26f46\" fill-rule=\"evenodd\" fill-opacity=\"1\" stroke=\"#000000\" stroke-opacity=\"1\" stroke-width=\"3.2\"/>\n",
       "<circle clip-path=\"url(#clip632)\" cx=\"1168.81\" cy=\"1308.71\" r=\"14.4\" fill=\"#e26f46\" fill-rule=\"evenodd\" fill-opacity=\"1\" stroke=\"#000000\" stroke-opacity=\"1\" stroke-width=\"3.2\"/>\n",
       "<circle clip-path=\"url(#clip632)\" cx=\"1175.5\" cy=\"1308.7\" r=\"14.4\" fill=\"#e26f46\" fill-rule=\"evenodd\" fill-opacity=\"1\" stroke=\"#000000\" stroke-opacity=\"1\" stroke-width=\"3.2\"/>\n",
       "<circle clip-path=\"url(#clip632)\" cx=\"1182.19\" cy=\"1308.7\" r=\"14.4\" fill=\"#e26f46\" fill-rule=\"evenodd\" fill-opacity=\"1\" stroke=\"#000000\" stroke-opacity=\"1\" stroke-width=\"3.2\"/>\n",
       "<circle clip-path=\"url(#clip632)\" cx=\"1188.88\" cy=\"1308.7\" r=\"14.4\" fill=\"#e26f46\" fill-rule=\"evenodd\" fill-opacity=\"1\" stroke=\"#000000\" stroke-opacity=\"1\" stroke-width=\"3.2\"/>\n",
       "<circle clip-path=\"url(#clip632)\" cx=\"1195.57\" cy=\"1308.7\" r=\"14.4\" fill=\"#e26f46\" fill-rule=\"evenodd\" fill-opacity=\"1\" stroke=\"#000000\" stroke-opacity=\"1\" stroke-width=\"3.2\"/>\n",
       "<circle clip-path=\"url(#clip632)\" cx=\"1202.26\" cy=\"1308.7\" r=\"14.4\" fill=\"#e26f46\" fill-rule=\"evenodd\" fill-opacity=\"1\" stroke=\"#000000\" stroke-opacity=\"1\" stroke-width=\"3.2\"/>\n",
       "<circle clip-path=\"url(#clip632)\" cx=\"1208.95\" cy=\"1308.7\" r=\"14.4\" fill=\"#e26f46\" fill-rule=\"evenodd\" fill-opacity=\"1\" stroke=\"#000000\" stroke-opacity=\"1\" stroke-width=\"3.2\"/>\n",
       "<circle clip-path=\"url(#clip632)\" cx=\"1215.64\" cy=\"1308.7\" r=\"14.4\" fill=\"#e26f46\" fill-rule=\"evenodd\" fill-opacity=\"1\" stroke=\"#000000\" stroke-opacity=\"1\" stroke-width=\"3.2\"/>\n",
       "<circle clip-path=\"url(#clip632)\" cx=\"1222.33\" cy=\"1308.7\" r=\"14.4\" fill=\"#e26f46\" fill-rule=\"evenodd\" fill-opacity=\"1\" stroke=\"#000000\" stroke-opacity=\"1\" stroke-width=\"3.2\"/>\n",
       "<circle clip-path=\"url(#clip632)\" cx=\"1229.02\" cy=\"1308.7\" r=\"14.4\" fill=\"#e26f46\" fill-rule=\"evenodd\" fill-opacity=\"1\" stroke=\"#000000\" stroke-opacity=\"1\" stroke-width=\"3.2\"/>\n",
       "<circle clip-path=\"url(#clip632)\" cx=\"1235.71\" cy=\"1308.7\" r=\"14.4\" fill=\"#e26f46\" fill-rule=\"evenodd\" fill-opacity=\"1\" stroke=\"#000000\" stroke-opacity=\"1\" stroke-width=\"3.2\"/>\n",
       "<circle clip-path=\"url(#clip632)\" cx=\"1242.4\" cy=\"1308.7\" r=\"14.4\" fill=\"#e26f46\" fill-rule=\"evenodd\" fill-opacity=\"1\" stroke=\"#000000\" stroke-opacity=\"1\" stroke-width=\"3.2\"/>\n",
       "<circle clip-path=\"url(#clip632)\" cx=\"1249.09\" cy=\"1308.7\" r=\"14.4\" fill=\"#e26f46\" fill-rule=\"evenodd\" fill-opacity=\"1\" stroke=\"#000000\" stroke-opacity=\"1\" stroke-width=\"3.2\"/>\n",
       "<circle clip-path=\"url(#clip632)\" cx=\"1255.78\" cy=\"1308.7\" r=\"14.4\" fill=\"#e26f46\" fill-rule=\"evenodd\" fill-opacity=\"1\" stroke=\"#000000\" stroke-opacity=\"1\" stroke-width=\"3.2\"/>\n",
       "<circle clip-path=\"url(#clip632)\" cx=\"1262.47\" cy=\"1308.7\" r=\"14.4\" fill=\"#e26f46\" fill-rule=\"evenodd\" fill-opacity=\"1\" stroke=\"#000000\" stroke-opacity=\"1\" stroke-width=\"3.2\"/>\n",
       "<circle clip-path=\"url(#clip632)\" cx=\"1269.16\" cy=\"1308.7\" r=\"14.4\" fill=\"#e26f46\" fill-rule=\"evenodd\" fill-opacity=\"1\" stroke=\"#000000\" stroke-opacity=\"1\" stroke-width=\"3.2\"/>\n",
       "<circle clip-path=\"url(#clip632)\" cx=\"1275.85\" cy=\"1308.7\" r=\"14.4\" fill=\"#e26f46\" fill-rule=\"evenodd\" fill-opacity=\"1\" stroke=\"#000000\" stroke-opacity=\"1\" stroke-width=\"3.2\"/>\n",
       "<circle clip-path=\"url(#clip632)\" cx=\"1282.54\" cy=\"1308.7\" r=\"14.4\" fill=\"#e26f46\" fill-rule=\"evenodd\" fill-opacity=\"1\" stroke=\"#000000\" stroke-opacity=\"1\" stroke-width=\"3.2\"/>\n",
       "<circle clip-path=\"url(#clip632)\" cx=\"1289.23\" cy=\"1308.7\" r=\"14.4\" fill=\"#e26f46\" fill-rule=\"evenodd\" fill-opacity=\"1\" stroke=\"#000000\" stroke-opacity=\"1\" stroke-width=\"3.2\"/>\n",
       "<circle clip-path=\"url(#clip632)\" cx=\"1295.92\" cy=\"1308.7\" r=\"14.4\" fill=\"#e26f46\" fill-rule=\"evenodd\" fill-opacity=\"1\" stroke=\"#000000\" stroke-opacity=\"1\" stroke-width=\"3.2\"/>\n",
       "<circle clip-path=\"url(#clip632)\" cx=\"1302.61\" cy=\"1308.7\" r=\"14.4\" fill=\"#e26f46\" fill-rule=\"evenodd\" fill-opacity=\"1\" stroke=\"#000000\" stroke-opacity=\"1\" stroke-width=\"3.2\"/>\n",
       "<circle clip-path=\"url(#clip632)\" cx=\"1309.3\" cy=\"1308.7\" r=\"14.4\" fill=\"#e26f46\" fill-rule=\"evenodd\" fill-opacity=\"1\" stroke=\"#000000\" stroke-opacity=\"1\" stroke-width=\"3.2\"/>\n",
       "<circle clip-path=\"url(#clip632)\" cx=\"1315.99\" cy=\"1308.7\" r=\"14.4\" fill=\"#e26f46\" fill-rule=\"evenodd\" fill-opacity=\"1\" stroke=\"#000000\" stroke-opacity=\"1\" stroke-width=\"3.2\"/>\n",
       "<circle clip-path=\"url(#clip632)\" cx=\"1322.68\" cy=\"1308.7\" r=\"14.4\" fill=\"#e26f46\" fill-rule=\"evenodd\" fill-opacity=\"1\" stroke=\"#000000\" stroke-opacity=\"1\" stroke-width=\"3.2\"/>\n",
       "<circle clip-path=\"url(#clip632)\" cx=\"1329.37\" cy=\"1307.67\" r=\"14.4\" fill=\"#e26f46\" fill-rule=\"evenodd\" fill-opacity=\"1\" stroke=\"#000000\" stroke-opacity=\"1\" stroke-width=\"3.2\"/>\n",
       "<circle clip-path=\"url(#clip632)\" cx=\"1336.06\" cy=\"1307.67\" r=\"14.4\" fill=\"#e26f46\" fill-rule=\"evenodd\" fill-opacity=\"1\" stroke=\"#000000\" stroke-opacity=\"1\" stroke-width=\"3.2\"/>\n",
       "<circle clip-path=\"url(#clip632)\" cx=\"1342.75\" cy=\"1304.76\" r=\"14.4\" fill=\"#e26f46\" fill-rule=\"evenodd\" fill-opacity=\"1\" stroke=\"#000000\" stroke-opacity=\"1\" stroke-width=\"3.2\"/>\n",
       "<circle clip-path=\"url(#clip632)\" cx=\"1349.44\" cy=\"1304.76\" r=\"14.4\" fill=\"#e26f46\" fill-rule=\"evenodd\" fill-opacity=\"1\" stroke=\"#000000\" stroke-opacity=\"1\" stroke-width=\"3.2\"/>\n",
       "<circle clip-path=\"url(#clip632)\" cx=\"1356.13\" cy=\"1303.84\" r=\"14.4\" fill=\"#e26f46\" fill-rule=\"evenodd\" fill-opacity=\"1\" stroke=\"#000000\" stroke-opacity=\"1\" stroke-width=\"3.2\"/>\n",
       "<circle clip-path=\"url(#clip632)\" cx=\"1362.82\" cy=\"1303.84\" r=\"14.4\" fill=\"#e26f46\" fill-rule=\"evenodd\" fill-opacity=\"1\" stroke=\"#000000\" stroke-opacity=\"1\" stroke-width=\"3.2\"/>\n",
       "<circle clip-path=\"url(#clip632)\" cx=\"1369.51\" cy=\"1302.78\" r=\"14.4\" fill=\"#e26f46\" fill-rule=\"evenodd\" fill-opacity=\"1\" stroke=\"#000000\" stroke-opacity=\"1\" stroke-width=\"3.2\"/>\n",
       "<circle clip-path=\"url(#clip632)\" cx=\"1376.2\" cy=\"1302.19\" r=\"14.4\" fill=\"#e26f46\" fill-rule=\"evenodd\" fill-opacity=\"1\" stroke=\"#000000\" stroke-opacity=\"1\" stroke-width=\"3.2\"/>\n",
       "<circle clip-path=\"url(#clip632)\" cx=\"1382.89\" cy=\"1302.19\" r=\"14.4\" fill=\"#e26f46\" fill-rule=\"evenodd\" fill-opacity=\"1\" stroke=\"#000000\" stroke-opacity=\"1\" stroke-width=\"3.2\"/>\n",
       "<circle clip-path=\"url(#clip632)\" cx=\"1389.58\" cy=\"1302.1\" r=\"14.4\" fill=\"#e26f46\" fill-rule=\"evenodd\" fill-opacity=\"1\" stroke=\"#000000\" stroke-opacity=\"1\" stroke-width=\"3.2\"/>\n",
       "<circle clip-path=\"url(#clip632)\" cx=\"1396.27\" cy=\"1300.59\" r=\"14.4\" fill=\"#e26f46\" fill-rule=\"evenodd\" fill-opacity=\"1\" stroke=\"#000000\" stroke-opacity=\"1\" stroke-width=\"3.2\"/>\n",
       "<circle clip-path=\"url(#clip632)\" cx=\"1402.96\" cy=\"1299.93\" r=\"14.4\" fill=\"#e26f46\" fill-rule=\"evenodd\" fill-opacity=\"1\" stroke=\"#000000\" stroke-opacity=\"1\" stroke-width=\"3.2\"/>\n",
       "<circle clip-path=\"url(#clip632)\" cx=\"1409.65\" cy=\"1299.93\" r=\"14.4\" fill=\"#e26f46\" fill-rule=\"evenodd\" fill-opacity=\"1\" stroke=\"#000000\" stroke-opacity=\"1\" stroke-width=\"3.2\"/>\n",
       "<circle clip-path=\"url(#clip632)\" cx=\"1416.34\" cy=\"1298.93\" r=\"14.4\" fill=\"#e26f46\" fill-rule=\"evenodd\" fill-opacity=\"1\" stroke=\"#000000\" stroke-opacity=\"1\" stroke-width=\"3.2\"/>\n",
       "<circle clip-path=\"url(#clip632)\" cx=\"1423.03\" cy=\"1298.19\" r=\"14.4\" fill=\"#e26f46\" fill-rule=\"evenodd\" fill-opacity=\"1\" stroke=\"#000000\" stroke-opacity=\"1\" stroke-width=\"3.2\"/>\n",
       "<circle clip-path=\"url(#clip632)\" cx=\"1429.72\" cy=\"1297.85\" r=\"14.4\" fill=\"#e26f46\" fill-rule=\"evenodd\" fill-opacity=\"1\" stroke=\"#000000\" stroke-opacity=\"1\" stroke-width=\"3.2\"/>\n",
       "<circle clip-path=\"url(#clip632)\" cx=\"1436.41\" cy=\"1296.64\" r=\"14.4\" fill=\"#e26f46\" fill-rule=\"evenodd\" fill-opacity=\"1\" stroke=\"#000000\" stroke-opacity=\"1\" stroke-width=\"3.2\"/>\n",
       "<circle clip-path=\"url(#clip632)\" cx=\"1443.1\" cy=\"1296.64\" r=\"14.4\" fill=\"#e26f46\" fill-rule=\"evenodd\" fill-opacity=\"1\" stroke=\"#000000\" stroke-opacity=\"1\" stroke-width=\"3.2\"/>\n",
       "<circle clip-path=\"url(#clip632)\" cx=\"1449.79\" cy=\"1296.32\" r=\"14.4\" fill=\"#e26f46\" fill-rule=\"evenodd\" fill-opacity=\"1\" stroke=\"#000000\" stroke-opacity=\"1\" stroke-width=\"3.2\"/>\n",
       "<circle clip-path=\"url(#clip632)\" cx=\"1456.48\" cy=\"1295.75\" r=\"14.4\" fill=\"#e26f46\" fill-rule=\"evenodd\" fill-opacity=\"1\" stroke=\"#000000\" stroke-opacity=\"1\" stroke-width=\"3.2\"/>\n",
       "<circle clip-path=\"url(#clip632)\" cx=\"1463.17\" cy=\"1295.75\" r=\"14.4\" fill=\"#e26f46\" fill-rule=\"evenodd\" fill-opacity=\"1\" stroke=\"#000000\" stroke-opacity=\"1\" stroke-width=\"3.2\"/>\n",
       "<circle clip-path=\"url(#clip632)\" cx=\"1469.86\" cy=\"1295.32\" r=\"14.4\" fill=\"#e26f46\" fill-rule=\"evenodd\" fill-opacity=\"1\" stroke=\"#000000\" stroke-opacity=\"1\" stroke-width=\"3.2\"/>\n",
       "<circle clip-path=\"url(#clip632)\" cx=\"1476.55\" cy=\"1294.39\" r=\"14.4\" fill=\"#e26f46\" fill-rule=\"evenodd\" fill-opacity=\"1\" stroke=\"#000000\" stroke-opacity=\"1\" stroke-width=\"3.2\"/>\n",
       "<circle clip-path=\"url(#clip632)\" cx=\"1483.24\" cy=\"1293.94\" r=\"14.4\" fill=\"#e26f46\" fill-rule=\"evenodd\" fill-opacity=\"1\" stroke=\"#000000\" stroke-opacity=\"1\" stroke-width=\"3.2\"/>\n",
       "<circle clip-path=\"url(#clip632)\" cx=\"1489.93\" cy=\"1293.7\" r=\"14.4\" fill=\"#e26f46\" fill-rule=\"evenodd\" fill-opacity=\"1\" stroke=\"#000000\" stroke-opacity=\"1\" stroke-width=\"3.2\"/>\n",
       "<circle clip-path=\"url(#clip632)\" cx=\"1496.62\" cy=\"1293.7\" r=\"14.4\" fill=\"#e26f46\" fill-rule=\"evenodd\" fill-opacity=\"1\" stroke=\"#000000\" stroke-opacity=\"1\" stroke-width=\"3.2\"/>\n",
       "<circle clip-path=\"url(#clip632)\" cx=\"1503.31\" cy=\"1293.43\" r=\"14.4\" fill=\"#e26f46\" fill-rule=\"evenodd\" fill-opacity=\"1\" stroke=\"#000000\" stroke-opacity=\"1\" stroke-width=\"3.2\"/>\n",
       "<circle clip-path=\"url(#clip632)\" cx=\"1510\" cy=\"1293.14\" r=\"14.4\" fill=\"#e26f46\" fill-rule=\"evenodd\" fill-opacity=\"1\" stroke=\"#000000\" stroke-opacity=\"1\" stroke-width=\"3.2\"/>\n",
       "<circle clip-path=\"url(#clip632)\" cx=\"1516.69\" cy=\"1292.81\" r=\"14.4\" fill=\"#e26f46\" fill-rule=\"evenodd\" fill-opacity=\"1\" stroke=\"#000000\" stroke-opacity=\"1\" stroke-width=\"3.2\"/>\n",
       "<circle clip-path=\"url(#clip632)\" cx=\"1523.38\" cy=\"1292.81\" r=\"14.4\" fill=\"#e26f46\" fill-rule=\"evenodd\" fill-opacity=\"1\" stroke=\"#000000\" stroke-opacity=\"1\" stroke-width=\"3.2\"/>\n",
       "<circle clip-path=\"url(#clip632)\" cx=\"1530.07\" cy=\"1292.29\" r=\"14.4\" fill=\"#e26f46\" fill-rule=\"evenodd\" fill-opacity=\"1\" stroke=\"#000000\" stroke-opacity=\"1\" stroke-width=\"3.2\"/>\n",
       "<circle clip-path=\"url(#clip632)\" cx=\"1536.76\" cy=\"1292.25\" r=\"14.4\" fill=\"#e26f46\" fill-rule=\"evenodd\" fill-opacity=\"1\" stroke=\"#000000\" stroke-opacity=\"1\" stroke-width=\"3.2\"/>\n",
       "<circle clip-path=\"url(#clip632)\" cx=\"1543.45\" cy=\"1290.84\" r=\"14.4\" fill=\"#e26f46\" fill-rule=\"evenodd\" fill-opacity=\"1\" stroke=\"#000000\" stroke-opacity=\"1\" stroke-width=\"3.2\"/>\n",
       "<circle clip-path=\"url(#clip632)\" cx=\"1550.14\" cy=\"1290.84\" r=\"14.4\" fill=\"#e26f46\" fill-rule=\"evenodd\" fill-opacity=\"1\" stroke=\"#000000\" stroke-opacity=\"1\" stroke-width=\"3.2\"/>\n",
       "<circle clip-path=\"url(#clip632)\" cx=\"1556.83\" cy=\"1290.65\" r=\"14.4\" fill=\"#e26f46\" fill-rule=\"evenodd\" fill-opacity=\"1\" stroke=\"#000000\" stroke-opacity=\"1\" stroke-width=\"3.2\"/>\n",
       "<circle clip-path=\"url(#clip632)\" cx=\"1563.52\" cy=\"1290.08\" r=\"14.4\" fill=\"#e26f46\" fill-rule=\"evenodd\" fill-opacity=\"1\" stroke=\"#000000\" stroke-opacity=\"1\" stroke-width=\"3.2\"/>\n",
       "<circle clip-path=\"url(#clip632)\" cx=\"1570.21\" cy=\"1289.98\" r=\"14.4\" fill=\"#e26f46\" fill-rule=\"evenodd\" fill-opacity=\"1\" stroke=\"#000000\" stroke-opacity=\"1\" stroke-width=\"3.2\"/>\n",
       "<circle clip-path=\"url(#clip632)\" cx=\"1576.9\" cy=\"1289.82\" r=\"14.4\" fill=\"#e26f46\" fill-rule=\"evenodd\" fill-opacity=\"1\" stroke=\"#000000\" stroke-opacity=\"1\" stroke-width=\"3.2\"/>\n",
       "<circle clip-path=\"url(#clip632)\" cx=\"1583.59\" cy=\"1289.82\" r=\"14.4\" fill=\"#e26f46\" fill-rule=\"evenodd\" fill-opacity=\"1\" stroke=\"#000000\" stroke-opacity=\"1\" stroke-width=\"3.2\"/>\n",
       "<circle clip-path=\"url(#clip632)\" cx=\"1590.28\" cy=\"1289.48\" r=\"14.4\" fill=\"#e26f46\" fill-rule=\"evenodd\" fill-opacity=\"1\" stroke=\"#000000\" stroke-opacity=\"1\" stroke-width=\"3.2\"/>\n",
       "<circle clip-path=\"url(#clip632)\" cx=\"1596.97\" cy=\"1288.19\" r=\"14.4\" fill=\"#e26f46\" fill-rule=\"evenodd\" fill-opacity=\"1\" stroke=\"#000000\" stroke-opacity=\"1\" stroke-width=\"3.2\"/>\n",
       "<circle clip-path=\"url(#clip632)\" cx=\"1603.66\" cy=\"1287.47\" r=\"14.4\" fill=\"#e26f46\" fill-rule=\"evenodd\" fill-opacity=\"1\" stroke=\"#000000\" stroke-opacity=\"1\" stroke-width=\"3.2\"/>\n",
       "<circle clip-path=\"url(#clip632)\" cx=\"1610.35\" cy=\"1287.01\" r=\"14.4\" fill=\"#e26f46\" fill-rule=\"evenodd\" fill-opacity=\"1\" stroke=\"#000000\" stroke-opacity=\"1\" stroke-width=\"3.2\"/>\n",
       "<circle clip-path=\"url(#clip632)\" cx=\"1617.04\" cy=\"1287.01\" r=\"14.4\" fill=\"#e26f46\" fill-rule=\"evenodd\" fill-opacity=\"1\" stroke=\"#000000\" stroke-opacity=\"1\" stroke-width=\"3.2\"/>\n",
       "<circle clip-path=\"url(#clip632)\" cx=\"1623.73\" cy=\"1286.91\" r=\"14.4\" fill=\"#e26f46\" fill-rule=\"evenodd\" fill-opacity=\"1\" stroke=\"#000000\" stroke-opacity=\"1\" stroke-width=\"3.2\"/>\n",
       "<circle clip-path=\"url(#clip632)\" cx=\"1630.42\" cy=\"1286.91\" r=\"14.4\" fill=\"#e26f46\" fill-rule=\"evenodd\" fill-opacity=\"1\" stroke=\"#000000\" stroke-opacity=\"1\" stroke-width=\"3.2\"/>\n",
       "<circle clip-path=\"url(#clip632)\" cx=\"1637.11\" cy=\"1286.57\" r=\"14.4\" fill=\"#e26f46\" fill-rule=\"evenodd\" fill-opacity=\"1\" stroke=\"#000000\" stroke-opacity=\"1\" stroke-width=\"3.2\"/>\n",
       "<circle clip-path=\"url(#clip632)\" cx=\"1643.8\" cy=\"1286.56\" r=\"14.4\" fill=\"#e26f46\" fill-rule=\"evenodd\" fill-opacity=\"1\" stroke=\"#000000\" stroke-opacity=\"1\" stroke-width=\"3.2\"/>\n",
       "<circle clip-path=\"url(#clip632)\" cx=\"1650.49\" cy=\"1286.56\" r=\"14.4\" fill=\"#e26f46\" fill-rule=\"evenodd\" fill-opacity=\"1\" stroke=\"#000000\" stroke-opacity=\"1\" stroke-width=\"3.2\"/>\n",
       "<circle clip-path=\"url(#clip632)\" cx=\"1657.18\" cy=\"1286.43\" r=\"14.4\" fill=\"#e26f46\" fill-rule=\"evenodd\" fill-opacity=\"1\" stroke=\"#000000\" stroke-opacity=\"1\" stroke-width=\"3.2\"/>\n",
       "<circle clip-path=\"url(#clip632)\" cx=\"1663.87\" cy=\"1286.18\" r=\"14.4\" fill=\"#e26f46\" fill-rule=\"evenodd\" fill-opacity=\"1\" stroke=\"#000000\" stroke-opacity=\"1\" stroke-width=\"3.2\"/>\n",
       "<circle clip-path=\"url(#clip632)\" cx=\"1670.56\" cy=\"1285.97\" r=\"14.4\" fill=\"#e26f46\" fill-rule=\"evenodd\" fill-opacity=\"1\" stroke=\"#000000\" stroke-opacity=\"1\" stroke-width=\"3.2\"/>\n",
       "<circle clip-path=\"url(#clip632)\" cx=\"1677.25\" cy=\"1285.81\" r=\"14.4\" fill=\"#e26f46\" fill-rule=\"evenodd\" fill-opacity=\"1\" stroke=\"#000000\" stroke-opacity=\"1\" stroke-width=\"3.2\"/>\n",
       "<circle clip-path=\"url(#clip632)\" cx=\"1683.94\" cy=\"1284.07\" r=\"14.4\" fill=\"#e26f46\" fill-rule=\"evenodd\" fill-opacity=\"1\" stroke=\"#000000\" stroke-opacity=\"1\" stroke-width=\"3.2\"/>\n",
       "<circle clip-path=\"url(#clip632)\" cx=\"1690.63\" cy=\"1283.73\" r=\"14.4\" fill=\"#e26f46\" fill-rule=\"evenodd\" fill-opacity=\"1\" stroke=\"#000000\" stroke-opacity=\"1\" stroke-width=\"3.2\"/>\n",
       "<circle clip-path=\"url(#clip632)\" cx=\"1697.32\" cy=\"1282.91\" r=\"14.4\" fill=\"#e26f46\" fill-rule=\"evenodd\" fill-opacity=\"1\" stroke=\"#000000\" stroke-opacity=\"1\" stroke-width=\"3.2\"/>\n",
       "<circle clip-path=\"url(#clip632)\" cx=\"1704.01\" cy=\"1282.91\" r=\"14.4\" fill=\"#e26f46\" fill-rule=\"evenodd\" fill-opacity=\"1\" stroke=\"#000000\" stroke-opacity=\"1\" stroke-width=\"3.2\"/>\n",
       "<circle clip-path=\"url(#clip632)\" cx=\"1710.71\" cy=\"1282.81\" r=\"14.4\" fill=\"#e26f46\" fill-rule=\"evenodd\" fill-opacity=\"1\" stroke=\"#000000\" stroke-opacity=\"1\" stroke-width=\"3.2\"/>\n",
       "<circle clip-path=\"url(#clip632)\" cx=\"1717.4\" cy=\"1281.84\" r=\"14.4\" fill=\"#e26f46\" fill-rule=\"evenodd\" fill-opacity=\"1\" stroke=\"#000000\" stroke-opacity=\"1\" stroke-width=\"3.2\"/>\n",
       "<circle clip-path=\"url(#clip632)\" cx=\"1724.09\" cy=\"1281.25\" r=\"14.4\" fill=\"#e26f46\" fill-rule=\"evenodd\" fill-opacity=\"1\" stroke=\"#000000\" stroke-opacity=\"1\" stroke-width=\"3.2\"/>\n",
       "<circle clip-path=\"url(#clip632)\" cx=\"1730.78\" cy=\"1281.25\" r=\"14.4\" fill=\"#e26f46\" fill-rule=\"evenodd\" fill-opacity=\"1\" stroke=\"#000000\" stroke-opacity=\"1\" stroke-width=\"3.2\"/>\n",
       "<circle clip-path=\"url(#clip632)\" cx=\"1737.47\" cy=\"1280.98\" r=\"14.4\" fill=\"#e26f46\" fill-rule=\"evenodd\" fill-opacity=\"1\" stroke=\"#000000\" stroke-opacity=\"1\" stroke-width=\"3.2\"/>\n",
       "<circle clip-path=\"url(#clip632)\" cx=\"1744.16\" cy=\"1280.98\" r=\"14.4\" fill=\"#e26f46\" fill-rule=\"evenodd\" fill-opacity=\"1\" stroke=\"#000000\" stroke-opacity=\"1\" stroke-width=\"3.2\"/>\n",
       "<circle clip-path=\"url(#clip632)\" cx=\"1750.85\" cy=\"1280.76\" r=\"14.4\" fill=\"#e26f46\" fill-rule=\"evenodd\" fill-opacity=\"1\" stroke=\"#000000\" stroke-opacity=\"1\" stroke-width=\"3.2\"/>\n",
       "<circle clip-path=\"url(#clip632)\" cx=\"1757.54\" cy=\"1279.47\" r=\"14.4\" fill=\"#e26f46\" fill-rule=\"evenodd\" fill-opacity=\"1\" stroke=\"#000000\" stroke-opacity=\"1\" stroke-width=\"3.2\"/>\n",
       "<circle clip-path=\"url(#clip632)\" cx=\"1764.23\" cy=\"1279.18\" r=\"14.4\" fill=\"#e26f46\" fill-rule=\"evenodd\" fill-opacity=\"1\" stroke=\"#000000\" stroke-opacity=\"1\" stroke-width=\"3.2\"/>\n",
       "<circle clip-path=\"url(#clip632)\" cx=\"1770.92\" cy=\"1278.22\" r=\"14.4\" fill=\"#e26f46\" fill-rule=\"evenodd\" fill-opacity=\"1\" stroke=\"#000000\" stroke-opacity=\"1\" stroke-width=\"3.2\"/>\n",
       "<circle clip-path=\"url(#clip632)\" cx=\"1777.61\" cy=\"1278.12\" r=\"14.4\" fill=\"#e26f46\" fill-rule=\"evenodd\" fill-opacity=\"1\" stroke=\"#000000\" stroke-opacity=\"1\" stroke-width=\"3.2\"/>\n",
       "<circle clip-path=\"url(#clip632)\" cx=\"1784.3\" cy=\"1277.9\" r=\"14.4\" fill=\"#e26f46\" fill-rule=\"evenodd\" fill-opacity=\"1\" stroke=\"#000000\" stroke-opacity=\"1\" stroke-width=\"3.2\"/>\n",
       "<circle clip-path=\"url(#clip632)\" cx=\"1790.99\" cy=\"1277.9\" r=\"14.4\" fill=\"#e26f46\" fill-rule=\"evenodd\" fill-opacity=\"1\" stroke=\"#000000\" stroke-opacity=\"1\" stroke-width=\"3.2\"/>\n",
       "<circle clip-path=\"url(#clip632)\" cx=\"1797.68\" cy=\"1277.14\" r=\"14.4\" fill=\"#e26f46\" fill-rule=\"evenodd\" fill-opacity=\"1\" stroke=\"#000000\" stroke-opacity=\"1\" stroke-width=\"3.2\"/>\n",
       "<circle clip-path=\"url(#clip632)\" cx=\"1804.37\" cy=\"1277.12\" r=\"14.4\" fill=\"#e26f46\" fill-rule=\"evenodd\" fill-opacity=\"1\" stroke=\"#000000\" stroke-opacity=\"1\" stroke-width=\"3.2\"/>\n",
       "<circle clip-path=\"url(#clip632)\" cx=\"1811.06\" cy=\"1277.12\" r=\"14.4\" fill=\"#e26f46\" fill-rule=\"evenodd\" fill-opacity=\"1\" stroke=\"#000000\" stroke-opacity=\"1\" stroke-width=\"3.2\"/>\n",
       "<circle clip-path=\"url(#clip632)\" cx=\"1817.75\" cy=\"1275.57\" r=\"14.4\" fill=\"#e26f46\" fill-rule=\"evenodd\" fill-opacity=\"1\" stroke=\"#000000\" stroke-opacity=\"1\" stroke-width=\"3.2\"/>\n",
       "<circle clip-path=\"url(#clip632)\" cx=\"1824.44\" cy=\"1275.57\" r=\"14.4\" fill=\"#e26f46\" fill-rule=\"evenodd\" fill-opacity=\"1\" stroke=\"#000000\" stroke-opacity=\"1\" stroke-width=\"3.2\"/>\n",
       "<circle clip-path=\"url(#clip632)\" cx=\"1831.13\" cy=\"1275.46\" r=\"14.4\" fill=\"#e26f46\" fill-rule=\"evenodd\" fill-opacity=\"1\" stroke=\"#000000\" stroke-opacity=\"1\" stroke-width=\"3.2\"/>\n",
       "<circle clip-path=\"url(#clip632)\" cx=\"1837.82\" cy=\"1274.34\" r=\"14.4\" fill=\"#e26f46\" fill-rule=\"evenodd\" fill-opacity=\"1\" stroke=\"#000000\" stroke-opacity=\"1\" stroke-width=\"3.2\"/>\n",
       "<circle clip-path=\"url(#clip632)\" cx=\"1844.51\" cy=\"1273.74\" r=\"14.4\" fill=\"#e26f46\" fill-rule=\"evenodd\" fill-opacity=\"1\" stroke=\"#000000\" stroke-opacity=\"1\" stroke-width=\"3.2\"/>\n",
       "<circle clip-path=\"url(#clip632)\" cx=\"1851.2\" cy=\"1273.36\" r=\"14.4\" fill=\"#e26f46\" fill-rule=\"evenodd\" fill-opacity=\"1\" stroke=\"#000000\" stroke-opacity=\"1\" stroke-width=\"3.2\"/>\n",
       "<circle clip-path=\"url(#clip632)\" cx=\"1857.89\" cy=\"1271.31\" r=\"14.4\" fill=\"#e26f46\" fill-rule=\"evenodd\" fill-opacity=\"1\" stroke=\"#000000\" stroke-opacity=\"1\" stroke-width=\"3.2\"/>\n",
       "<circle clip-path=\"url(#clip632)\" cx=\"1864.58\" cy=\"1271.31\" r=\"14.4\" fill=\"#e26f46\" fill-rule=\"evenodd\" fill-opacity=\"1\" stroke=\"#000000\" stroke-opacity=\"1\" stroke-width=\"3.2\"/>\n",
       "<circle clip-path=\"url(#clip632)\" cx=\"1871.27\" cy=\"1270.54\" r=\"14.4\" fill=\"#e26f46\" fill-rule=\"evenodd\" fill-opacity=\"1\" stroke=\"#000000\" stroke-opacity=\"1\" stroke-width=\"3.2\"/>\n",
       "<circle clip-path=\"url(#clip632)\" cx=\"1877.96\" cy=\"1270.5\" r=\"14.4\" fill=\"#e26f46\" fill-rule=\"evenodd\" fill-opacity=\"1\" stroke=\"#000000\" stroke-opacity=\"1\" stroke-width=\"3.2\"/>\n",
       "<circle clip-path=\"url(#clip632)\" cx=\"1884.65\" cy=\"1270.5\" r=\"14.4\" fill=\"#e26f46\" fill-rule=\"evenodd\" fill-opacity=\"1\" stroke=\"#000000\" stroke-opacity=\"1\" stroke-width=\"3.2\"/>\n",
       "<circle clip-path=\"url(#clip632)\" cx=\"1891.34\" cy=\"1268.78\" r=\"14.4\" fill=\"#e26f46\" fill-rule=\"evenodd\" fill-opacity=\"1\" stroke=\"#000000\" stroke-opacity=\"1\" stroke-width=\"3.2\"/>\n",
       "<circle clip-path=\"url(#clip632)\" cx=\"1898.03\" cy=\"1268.37\" r=\"14.4\" fill=\"#e26f46\" fill-rule=\"evenodd\" fill-opacity=\"1\" stroke=\"#000000\" stroke-opacity=\"1\" stroke-width=\"3.2\"/>\n",
       "<circle clip-path=\"url(#clip632)\" cx=\"1904.72\" cy=\"1267.66\" r=\"14.4\" fill=\"#e26f46\" fill-rule=\"evenodd\" fill-opacity=\"1\" stroke=\"#000000\" stroke-opacity=\"1\" stroke-width=\"3.2\"/>\n",
       "<circle clip-path=\"url(#clip632)\" cx=\"1911.41\" cy=\"1267.66\" r=\"14.4\" fill=\"#e26f46\" fill-rule=\"evenodd\" fill-opacity=\"1\" stroke=\"#000000\" stroke-opacity=\"1\" stroke-width=\"3.2\"/>\n",
       "<circle clip-path=\"url(#clip632)\" cx=\"1918.1\" cy=\"1267.43\" r=\"14.4\" fill=\"#e26f46\" fill-rule=\"evenodd\" fill-opacity=\"1\" stroke=\"#000000\" stroke-opacity=\"1\" stroke-width=\"3.2\"/>\n",
       "<circle clip-path=\"url(#clip632)\" cx=\"1924.79\" cy=\"1267.41\" r=\"14.4\" fill=\"#e26f46\" fill-rule=\"evenodd\" fill-opacity=\"1\" stroke=\"#000000\" stroke-opacity=\"1\" stroke-width=\"3.2\"/>\n",
       "<circle clip-path=\"url(#clip632)\" cx=\"1931.48\" cy=\"1267.04\" r=\"14.4\" fill=\"#e26f46\" fill-rule=\"evenodd\" fill-opacity=\"1\" stroke=\"#000000\" stroke-opacity=\"1\" stroke-width=\"3.2\"/>\n",
       "<circle clip-path=\"url(#clip632)\" cx=\"1938.17\" cy=\"1266.87\" r=\"14.4\" fill=\"#e26f46\" fill-rule=\"evenodd\" fill-opacity=\"1\" stroke=\"#000000\" stroke-opacity=\"1\" stroke-width=\"3.2\"/>\n",
       "<circle clip-path=\"url(#clip632)\" cx=\"1944.86\" cy=\"1265.58\" r=\"14.4\" fill=\"#e26f46\" fill-rule=\"evenodd\" fill-opacity=\"1\" stroke=\"#000000\" stroke-opacity=\"1\" stroke-width=\"3.2\"/>\n",
       "<circle clip-path=\"url(#clip632)\" cx=\"1951.55\" cy=\"1265.58\" r=\"14.4\" fill=\"#e26f46\" fill-rule=\"evenodd\" fill-opacity=\"1\" stroke=\"#000000\" stroke-opacity=\"1\" stroke-width=\"3.2\"/>\n",
       "<circle clip-path=\"url(#clip632)\" cx=\"1958.24\" cy=\"1265.36\" r=\"14.4\" fill=\"#e26f46\" fill-rule=\"evenodd\" fill-opacity=\"1\" stroke=\"#000000\" stroke-opacity=\"1\" stroke-width=\"3.2\"/>\n",
       "<circle clip-path=\"url(#clip632)\" cx=\"1964.93\" cy=\"1261.49\" r=\"14.4\" fill=\"#e26f46\" fill-rule=\"evenodd\" fill-opacity=\"1\" stroke=\"#000000\" stroke-opacity=\"1\" stroke-width=\"3.2\"/>\n",
       "<circle clip-path=\"url(#clip632)\" cx=\"1971.62\" cy=\"1261.49\" r=\"14.4\" fill=\"#e26f46\" fill-rule=\"evenodd\" fill-opacity=\"1\" stroke=\"#000000\" stroke-opacity=\"1\" stroke-width=\"3.2\"/>\n",
       "<circle clip-path=\"url(#clip632)\" cx=\"1978.31\" cy=\"1259.22\" r=\"14.4\" fill=\"#e26f46\" fill-rule=\"evenodd\" fill-opacity=\"1\" stroke=\"#000000\" stroke-opacity=\"1\" stroke-width=\"3.2\"/>\n",
       "<circle clip-path=\"url(#clip632)\" cx=\"1985\" cy=\"1259.22\" r=\"14.4\" fill=\"#e26f46\" fill-rule=\"evenodd\" fill-opacity=\"1\" stroke=\"#000000\" stroke-opacity=\"1\" stroke-width=\"3.2\"/>\n",
       "<circle clip-path=\"url(#clip632)\" cx=\"1991.69\" cy=\"1259.15\" r=\"14.4\" fill=\"#e26f46\" fill-rule=\"evenodd\" fill-opacity=\"1\" stroke=\"#000000\" stroke-opacity=\"1\" stroke-width=\"3.2\"/>\n",
       "<circle clip-path=\"url(#clip632)\" cx=\"1998.38\" cy=\"1258.99\" r=\"14.4\" fill=\"#e26f46\" fill-rule=\"evenodd\" fill-opacity=\"1\" stroke=\"#000000\" stroke-opacity=\"1\" stroke-width=\"3.2\"/>\n",
       "<circle clip-path=\"url(#clip632)\" cx=\"2005.07\" cy=\"1257.26\" r=\"14.4\" fill=\"#e26f46\" fill-rule=\"evenodd\" fill-opacity=\"1\" stroke=\"#000000\" stroke-opacity=\"1\" stroke-width=\"3.2\"/>\n",
       "<circle clip-path=\"url(#clip632)\" cx=\"2011.76\" cy=\"1256.95\" r=\"14.4\" fill=\"#e26f46\" fill-rule=\"evenodd\" fill-opacity=\"1\" stroke=\"#000000\" stroke-opacity=\"1\" stroke-width=\"3.2\"/>\n",
       "<circle clip-path=\"url(#clip632)\" cx=\"2018.45\" cy=\"1255.92\" r=\"14.4\" fill=\"#e26f46\" fill-rule=\"evenodd\" fill-opacity=\"1\" stroke=\"#000000\" stroke-opacity=\"1\" stroke-width=\"3.2\"/>\n",
       "<circle clip-path=\"url(#clip632)\" cx=\"2025.14\" cy=\"1255.13\" r=\"14.4\" fill=\"#e26f46\" fill-rule=\"evenodd\" fill-opacity=\"1\" stroke=\"#000000\" stroke-opacity=\"1\" stroke-width=\"3.2\"/>\n",
       "<circle clip-path=\"url(#clip632)\" cx=\"2031.83\" cy=\"1255.13\" r=\"14.4\" fill=\"#e26f46\" fill-rule=\"evenodd\" fill-opacity=\"1\" stroke=\"#000000\" stroke-opacity=\"1\" stroke-width=\"3.2\"/>\n",
       "<circle clip-path=\"url(#clip632)\" cx=\"2038.52\" cy=\"1254.58\" r=\"14.4\" fill=\"#e26f46\" fill-rule=\"evenodd\" fill-opacity=\"1\" stroke=\"#000000\" stroke-opacity=\"1\" stroke-width=\"3.2\"/>\n",
       "<circle clip-path=\"url(#clip632)\" cx=\"2045.21\" cy=\"1254.56\" r=\"14.4\" fill=\"#e26f46\" fill-rule=\"evenodd\" fill-opacity=\"1\" stroke=\"#000000\" stroke-opacity=\"1\" stroke-width=\"3.2\"/>\n",
       "<circle clip-path=\"url(#clip632)\" cx=\"2051.9\" cy=\"1254.56\" r=\"14.4\" fill=\"#e26f46\" fill-rule=\"evenodd\" fill-opacity=\"1\" stroke=\"#000000\" stroke-opacity=\"1\" stroke-width=\"3.2\"/>\n",
       "<circle clip-path=\"url(#clip632)\" cx=\"2058.59\" cy=\"1253.62\" r=\"14.4\" fill=\"#e26f46\" fill-rule=\"evenodd\" fill-opacity=\"1\" stroke=\"#000000\" stroke-opacity=\"1\" stroke-width=\"3.2\"/>\n",
       "<circle clip-path=\"url(#clip632)\" cx=\"2065.28\" cy=\"1252.55\" r=\"14.4\" fill=\"#e26f46\" fill-rule=\"evenodd\" fill-opacity=\"1\" stroke=\"#000000\" stroke-opacity=\"1\" stroke-width=\"3.2\"/>\n",
       "<circle clip-path=\"url(#clip632)\" cx=\"2071.97\" cy=\"1241.13\" r=\"14.4\" fill=\"#e26f46\" fill-rule=\"evenodd\" fill-opacity=\"1\" stroke=\"#000000\" stroke-opacity=\"1\" stroke-width=\"3.2\"/>\n",
       "<circle clip-path=\"url(#clip632)\" cx=\"2078.66\" cy=\"1240.64\" r=\"14.4\" fill=\"#e26f46\" fill-rule=\"evenodd\" fill-opacity=\"1\" stroke=\"#000000\" stroke-opacity=\"1\" stroke-width=\"3.2\"/>\n",
       "<circle clip-path=\"url(#clip632)\" cx=\"2085.35\" cy=\"1239.95\" r=\"14.4\" fill=\"#e26f46\" fill-rule=\"evenodd\" fill-opacity=\"1\" stroke=\"#000000\" stroke-opacity=\"1\" stroke-width=\"3.2\"/>\n",
       "<circle clip-path=\"url(#clip632)\" cx=\"2092.04\" cy=\"1239.59\" r=\"14.4\" fill=\"#e26f46\" fill-rule=\"evenodd\" fill-opacity=\"1\" stroke=\"#000000\" stroke-opacity=\"1\" stroke-width=\"3.2\"/>\n",
       "<circle clip-path=\"url(#clip632)\" cx=\"2098.73\" cy=\"1236.79\" r=\"14.4\" fill=\"#e26f46\" fill-rule=\"evenodd\" fill-opacity=\"1\" stroke=\"#000000\" stroke-opacity=\"1\" stroke-width=\"3.2\"/>\n",
       "<circle clip-path=\"url(#clip632)\" cx=\"2105.42\" cy=\"1236.79\" r=\"14.4\" fill=\"#e26f46\" fill-rule=\"evenodd\" fill-opacity=\"1\" stroke=\"#000000\" stroke-opacity=\"1\" stroke-width=\"3.2\"/>\n",
       "<circle clip-path=\"url(#clip632)\" cx=\"2112.11\" cy=\"1236.13\" r=\"14.4\" fill=\"#e26f46\" fill-rule=\"evenodd\" fill-opacity=\"1\" stroke=\"#000000\" stroke-opacity=\"1\" stroke-width=\"3.2\"/>\n",
       "<circle clip-path=\"url(#clip632)\" cx=\"2118.8\" cy=\"1236.13\" r=\"14.4\" fill=\"#e26f46\" fill-rule=\"evenodd\" fill-opacity=\"1\" stroke=\"#000000\" stroke-opacity=\"1\" stroke-width=\"3.2\"/>\n",
       "<circle clip-path=\"url(#clip632)\" cx=\"2125.49\" cy=\"1233.38\" r=\"14.4\" fill=\"#e26f46\" fill-rule=\"evenodd\" fill-opacity=\"1\" stroke=\"#000000\" stroke-opacity=\"1\" stroke-width=\"3.2\"/>\n",
       "<circle clip-path=\"url(#clip632)\" cx=\"2132.18\" cy=\"1233.16\" r=\"14.4\" fill=\"#e26f46\" fill-rule=\"evenodd\" fill-opacity=\"1\" stroke=\"#000000\" stroke-opacity=\"1\" stroke-width=\"3.2\"/>\n",
       "<circle clip-path=\"url(#clip632)\" cx=\"2138.87\" cy=\"87.5201\" r=\"14.4\" fill=\"#e26f46\" fill-rule=\"evenodd\" fill-opacity=\"1\" stroke=\"#000000\" stroke-opacity=\"1\" stroke-width=\"3.2\"/>\n",
       "<circle clip-path=\"url(#clip632)\" cx=\"2145.56\" cy=\"87.4884\" r=\"14.4\" fill=\"#e26f46\" fill-rule=\"evenodd\" fill-opacity=\"1\" stroke=\"#000000\" stroke-opacity=\"1\" stroke-width=\"3.2\"/>\n",
       "<circle clip-path=\"url(#clip632)\" cx=\"2152.25\" cy=\"87.4884\" r=\"14.4\" fill=\"#e26f46\" fill-rule=\"evenodd\" fill-opacity=\"1\" stroke=\"#000000\" stroke-opacity=\"1\" stroke-width=\"3.2\"/>\n",
       "<circle clip-path=\"url(#clip632)\" cx=\"2158.94\" cy=\"87.4511\" r=\"14.4\" fill=\"#e26f46\" fill-rule=\"evenodd\" fill-opacity=\"1\" stroke=\"#000000\" stroke-opacity=\"1\" stroke-width=\"3.2\"/>\n",
       "<circle clip-path=\"url(#clip632)\" cx=\"2165.63\" cy=\"87.451\" r=\"14.4\" fill=\"#e26f46\" fill-rule=\"evenodd\" fill-opacity=\"1\" stroke=\"#000000\" stroke-opacity=\"1\" stroke-width=\"3.2\"/>\n",
       "<circle clip-path=\"url(#clip632)\" cx=\"2172.32\" cy=\"87.4052\" r=\"14.4\" fill=\"#e26f46\" fill-rule=\"evenodd\" fill-opacity=\"1\" stroke=\"#000000\" stroke-opacity=\"1\" stroke-width=\"3.2\"/>\n",
       "<circle clip-path=\"url(#clip632)\" cx=\"2179.01\" cy=\"87.4052\" r=\"14.4\" fill=\"#e26f46\" fill-rule=\"evenodd\" fill-opacity=\"1\" stroke=\"#000000\" stroke-opacity=\"1\" stroke-width=\"3.2\"/>\n",
       "<circle clip-path=\"url(#clip632)\" cx=\"2185.7\" cy=\"87.3411\" r=\"14.4\" fill=\"#e26f46\" fill-rule=\"evenodd\" fill-opacity=\"1\" stroke=\"#000000\" stroke-opacity=\"1\" stroke-width=\"3.2\"/>\n",
       "<circle clip-path=\"url(#clip632)\" cx=\"2192.39\" cy=\"87.0321\" r=\"14.4\" fill=\"#e26f46\" fill-rule=\"evenodd\" fill-opacity=\"1\" stroke=\"#000000\" stroke-opacity=\"1\" stroke-width=\"3.2\"/>\n",
       "<circle clip-path=\"url(#clip632)\" cx=\"2199.08\" cy=\"86.9365\" r=\"14.4\" fill=\"#e26f46\" fill-rule=\"evenodd\" fill-opacity=\"1\" stroke=\"#000000\" stroke-opacity=\"1\" stroke-width=\"3.2\"/>\n",
       "<circle clip-path=\"url(#clip632)\" cx=\"2205.77\" cy=\"86.9365\" r=\"14.4\" fill=\"#e26f46\" fill-rule=\"evenodd\" fill-opacity=\"1\" stroke=\"#000000\" stroke-opacity=\"1\" stroke-width=\"3.2\"/>\n",
       "<circle clip-path=\"url(#clip632)\" cx=\"2212.46\" cy=\"86.8533\" r=\"14.4\" fill=\"#e26f46\" fill-rule=\"evenodd\" fill-opacity=\"1\" stroke=\"#000000\" stroke-opacity=\"1\" stroke-width=\"3.2\"/>\n",
       "<circle clip-path=\"url(#clip632)\" cx=\"2219.15\" cy=\"86.8531\" r=\"14.4\" fill=\"#e26f46\" fill-rule=\"evenodd\" fill-opacity=\"1\" stroke=\"#000000\" stroke-opacity=\"1\" stroke-width=\"3.2\"/>\n",
       "<circle clip-path=\"url(#clip632)\" cx=\"2225.84\" cy=\"86.7704\" r=\"14.4\" fill=\"#e26f46\" fill-rule=\"evenodd\" fill-opacity=\"1\" stroke=\"#000000\" stroke-opacity=\"1\" stroke-width=\"3.2\"/>\n",
       "<circle clip-path=\"url(#clip632)\" cx=\"2232.53\" cy=\"86.7704\" r=\"14.4\" fill=\"#e26f46\" fill-rule=\"evenodd\" fill-opacity=\"1\" stroke=\"#000000\" stroke-opacity=\"1\" stroke-width=\"3.2\"/>\n",
       "<circle clip-path=\"url(#clip632)\" cx=\"2239.22\" cy=\"86.6745\" r=\"14.4\" fill=\"#e26f46\" fill-rule=\"evenodd\" fill-opacity=\"1\" stroke=\"#000000\" stroke-opacity=\"1\" stroke-width=\"3.2\"/>\n",
       "<circle clip-path=\"url(#clip632)\" cx=\"2245.91\" cy=\"86.3642\" r=\"14.4\" fill=\"#e26f46\" fill-rule=\"evenodd\" fill-opacity=\"1\" stroke=\"#000000\" stroke-opacity=\"1\" stroke-width=\"3.2\"/>\n",
       "<circle clip-path=\"url(#clip632)\" cx=\"2252.6\" cy=\"86.301\" r=\"14.4\" fill=\"#e26f46\" fill-rule=\"evenodd\" fill-opacity=\"1\" stroke=\"#000000\" stroke-opacity=\"1\" stroke-width=\"3.2\"/>\n",
       "<circle clip-path=\"url(#clip632)\" cx=\"2259.29\" cy=\"86.301\" r=\"14.4\" fill=\"#e26f46\" fill-rule=\"evenodd\" fill-opacity=\"1\" stroke=\"#000000\" stroke-opacity=\"1\" stroke-width=\"3.2\"/>\n",
       "<circle clip-path=\"url(#clip632)\" cx=\"2265.99\" cy=\"86.2547\" r=\"14.4\" fill=\"#e26f46\" fill-rule=\"evenodd\" fill-opacity=\"1\" stroke=\"#000000\" stroke-opacity=\"1\" stroke-width=\"3.2\"/>\n",
       "<circle clip-path=\"url(#clip632)\" cx=\"2272.68\" cy=\"86.2545\" r=\"14.4\" fill=\"#e26f46\" fill-rule=\"evenodd\" fill-opacity=\"1\" stroke=\"#000000\" stroke-opacity=\"1\" stroke-width=\"3.2\"/>\n",
       "<circle clip-path=\"url(#clip632)\" cx=\"2279.37\" cy=\"86.218\" r=\"14.4\" fill=\"#e26f46\" fill-rule=\"evenodd\" fill-opacity=\"1\" stroke=\"#000000\" stroke-opacity=\"1\" stroke-width=\"3.2\"/>\n",
       "<circle clip-path=\"url(#clip632)\" cx=\"2286.06\" cy=\"86.218\" r=\"14.4\" fill=\"#e26f46\" fill-rule=\"evenodd\" fill-opacity=\"1\" stroke=\"#000000\" stroke-opacity=\"1\" stroke-width=\"3.2\"/>\n",
       "<circle clip-path=\"url(#clip632)\" cx=\"2292.75\" cy=\"86.1857\" r=\"14.4\" fill=\"#e26f46\" fill-rule=\"evenodd\" fill-opacity=\"1\" stroke=\"#000000\" stroke-opacity=\"1\" stroke-width=\"3.2\"/>\n",
       "<path clip-path=\"url(#clip630)\" d=\"M303.068 248.629 L748.205 248.629 L748.205 93.1086 L303.068 93.1086  Z\" fill=\"#ffffff\" fill-rule=\"evenodd\" fill-opacity=\"1\"/>\n",
       "<polyline clip-path=\"url(#clip630)\" style=\"stroke:#000000; stroke-linecap:round; stroke-linejoin:round; stroke-width:4; stroke-opacity:1; fill:none\" points=\"303.068,248.629 748.205,248.629 748.205,93.1086 303.068,93.1086 303.068,248.629 \"/>\n",
       "<path clip-path=\"url(#clip630)\" d=\"M397.307 119.349 L391.291 136.654 L372.961 137.038 L387.579 148.123 L382.254 165.659 L397.307 155.189 L412.36 165.659 L407.035 148.123 L421.652 137.038 L403.323 136.654 L397.307 119.349 Z\" fill=\"#009af9\" fill-rule=\"evenodd\" fill-opacity=\"1\" stroke=\"#000000\" stroke-opacity=\"1\" stroke-width=\"3.41333\"/>\n",
       "<path clip-path=\"url(#clip630)\" d=\"M491.545 127.669 L496.221 127.669 L496.221 141.835 L513.212 141.835 L513.212 127.669 L517.888 127.669 L517.888 162.229 L513.212 162.229 L513.212 145.77 L496.221 145.77 L496.221 162.229 L491.545 162.229 L491.545 127.669 Z\" fill=\"#000000\" fill-rule=\"nonzero\" fill-opacity=\"1\" /><path clip-path=\"url(#clip630)\" d=\"M538.79 149.196 Q533.628 149.196 531.638 150.377 Q529.647 151.557 529.647 154.405 Q529.647 156.673 531.128 158.016 Q532.633 159.335 535.202 159.335 Q538.744 159.335 540.874 156.835 Q543.026 154.312 543.026 150.145 L543.026 149.196 L538.79 149.196 M547.286 147.437 L547.286 162.229 L543.026 162.229 L543.026 158.293 Q541.568 160.655 539.392 161.789 Q537.216 162.9 534.068 162.9 Q530.087 162.9 527.726 160.678 Q525.388 158.432 525.388 154.682 Q525.388 150.307 528.304 148.085 Q531.244 145.863 537.054 145.863 L543.026 145.863 L543.026 145.446 Q543.026 142.507 541.082 140.909 Q539.161 139.289 535.665 139.289 Q533.443 139.289 531.337 139.821 Q529.23 140.354 527.286 141.419 L527.286 137.483 Q529.624 136.581 531.823 136.141 Q534.022 135.678 536.105 135.678 Q541.73 135.678 544.508 138.594 Q547.286 141.511 547.286 147.437 Z\" fill=\"#000000\" fill-rule=\"nonzero\" fill-opacity=\"1\" /><path clip-path=\"url(#clip630)\" d=\"M571.082 140.284 Q570.364 139.868 569.508 139.682 Q568.674 139.474 567.656 139.474 Q564.045 139.474 562.1 141.835 Q560.179 144.173 560.179 148.571 L560.179 162.229 L555.897 162.229 L555.897 136.303 L560.179 136.303 L560.179 140.331 Q561.522 137.969 563.675 136.835 Q565.827 135.678 568.906 135.678 Q569.346 135.678 569.878 135.747 Q570.411 135.794 571.059 135.909 L571.082 140.284 Z\" fill=\"#000000\" fill-rule=\"nonzero\" fill-opacity=\"1\" /><path clip-path=\"url(#clip630)\" d=\"M591.776 140.238 L591.776 126.21 L596.035 126.21 L596.035 162.229 L591.776 162.229 L591.776 158.34 Q590.434 160.655 588.373 161.789 Q586.336 162.9 583.466 162.9 Q578.767 162.9 575.804 159.15 Q572.864 155.4 572.864 149.289 Q572.864 143.178 575.804 139.428 Q578.767 135.678 583.466 135.678 Q586.336 135.678 588.373 136.812 Q590.434 137.923 591.776 140.238 M577.262 149.289 Q577.262 153.988 579.184 156.673 Q581.128 159.335 584.508 159.335 Q587.887 159.335 589.832 156.673 Q591.776 153.988 591.776 149.289 Q591.776 144.59 589.832 141.928 Q587.887 139.243 584.508 139.243 Q581.128 139.243 579.184 141.928 Q577.262 144.59 577.262 149.289 Z\" fill=\"#000000\" fill-rule=\"nonzero\" fill-opacity=\"1\" /><path clip-path=\"url(#clip630)\" d=\"M602.656 147.344 L615.133 147.344 L615.133 151.141 L602.656 151.141 L602.656 147.344 Z\" fill=\"#000000\" fill-rule=\"nonzero\" fill-opacity=\"1\" /><path clip-path=\"url(#clip630)\" d=\"M647.98 130.331 L647.98 135.261 Q645.619 133.062 642.933 131.974 Q640.271 130.886 637.262 130.886 Q631.336 130.886 628.188 134.52 Q625.04 138.132 625.04 144.983 Q625.04 151.812 628.188 155.446 Q631.336 159.057 637.262 159.057 Q640.271 159.057 642.933 157.969 Q645.619 156.881 647.98 154.682 L647.98 159.567 Q645.526 161.233 642.771 162.067 Q640.04 162.9 636.984 162.9 Q629.137 162.9 624.623 158.108 Q620.109 153.293 620.109 144.983 Q620.109 136.65 624.623 131.858 Q629.137 127.044 636.984 127.044 Q640.086 127.044 642.818 127.877 Q645.572 128.687 647.98 130.331 Z\" fill=\"#000000\" fill-rule=\"nonzero\" fill-opacity=\"1\" /><path clip-path=\"url(#clip630)\" d=\"M665.063 139.289 Q661.637 139.289 659.646 141.974 Q657.655 144.636 657.655 149.289 Q657.655 153.942 659.623 156.627 Q661.614 159.289 665.063 159.289 Q668.466 159.289 670.456 156.604 Q672.447 153.918 672.447 149.289 Q672.447 144.682 670.456 141.997 Q668.466 139.289 665.063 139.289 M665.063 135.678 Q670.618 135.678 673.79 139.289 Q676.961 142.9 676.961 149.289 Q676.961 155.655 673.79 159.289 Q670.618 162.9 665.063 162.9 Q659.484 162.9 656.313 159.289 Q653.165 155.655 653.165 149.289 Q653.165 142.9 656.313 139.289 Q659.484 135.678 665.063 135.678 Z\" fill=\"#000000\" fill-rule=\"nonzero\" fill-opacity=\"1\" /><path clip-path=\"url(#clip630)\" d=\"M699.044 140.284 Q698.327 139.868 697.47 139.682 Q696.637 139.474 695.618 139.474 Q692.007 139.474 690.063 141.835 Q688.141 144.173 688.141 148.571 L688.141 162.229 L683.859 162.229 L683.859 136.303 L688.141 136.303 L688.141 140.331 Q689.484 137.969 691.637 136.835 Q693.79 135.678 696.868 135.678 Q697.308 135.678 697.84 135.747 Q698.373 135.794 699.021 135.909 L699.044 140.284 Z\" fill=\"#000000\" fill-rule=\"nonzero\" fill-opacity=\"1\" /><path clip-path=\"url(#clip630)\" d=\"M724.646 148.201 L724.646 150.284 L705.063 150.284 Q705.34 154.682 707.702 156.997 Q710.086 159.289 714.322 159.289 Q716.776 159.289 719.067 158.687 Q721.382 158.085 723.65 156.881 L723.65 160.909 Q721.359 161.881 718.951 162.391 Q716.544 162.9 714.067 162.9 Q707.864 162.9 704.229 159.289 Q700.618 155.678 700.618 149.52 Q700.618 143.155 704.044 139.428 Q707.493 135.678 713.326 135.678 Q718.558 135.678 721.59 139.057 Q724.646 142.414 724.646 148.201 M720.387 146.951 Q720.34 143.456 718.419 141.372 Q716.521 139.289 713.373 139.289 Q709.808 139.289 707.655 141.303 Q705.526 143.317 705.202 146.974 L720.387 146.951 Z\" fill=\"#000000\" fill-rule=\"nonzero\" fill-opacity=\"1\" /><circle clip-path=\"url(#clip630)\" cx=\"397.307\" cy=\"196.789\" r=\"23.04\" fill=\"#e26f46\" fill-rule=\"evenodd\" fill-opacity=\"1\" stroke=\"#000000\" stroke-opacity=\"1\" stroke-width=\"5.12\"/>\n",
       "<path clip-path=\"url(#clip630)\" d=\"M491.545 179.509 L511.406 179.509 L511.406 183.444 L496.221 183.444 L496.221 193.629 L509.925 193.629 L509.925 197.564 L496.221 197.564 L496.221 214.069 L491.545 214.069 L491.545 179.509 Z\" fill=\"#000000\" fill-rule=\"nonzero\" fill-opacity=\"1\" /><path clip-path=\"url(#clip630)\" d=\"M515.179 188.143 L519.439 188.143 L519.439 214.069 L515.179 214.069 L515.179 188.143 M515.179 178.05 L519.439 178.05 L519.439 183.444 L515.179 183.444 L515.179 178.05 Z\" fill=\"#000000\" fill-rule=\"nonzero\" fill-opacity=\"1\" /><path clip-path=\"url(#clip630)\" d=\"M549.901 198.421 L549.901 214.069 L545.642 214.069 L545.642 198.559 Q545.642 194.879 544.207 193.05 Q542.772 191.222 539.901 191.222 Q536.452 191.222 534.462 193.421 Q532.471 195.62 532.471 199.416 L532.471 214.069 L528.189 214.069 L528.189 188.143 L532.471 188.143 L532.471 192.171 Q533.999 189.833 536.059 188.675 Q538.142 187.518 540.851 187.518 Q545.318 187.518 547.61 190.296 Q549.901 193.05 549.901 198.421 Z\" fill=\"#000000\" fill-rule=\"nonzero\" fill-opacity=\"1\" /><path clip-path=\"url(#clip630)\" d=\"M558.397 188.143 L562.656 188.143 L562.656 214.069 L558.397 214.069 L558.397 188.143 M558.397 178.05 L562.656 178.05 L562.656 183.444 L558.397 183.444 L558.397 178.05 Z\" fill=\"#000000\" fill-rule=\"nonzero\" fill-opacity=\"1\" /><path clip-path=\"url(#clip630)\" d=\"M575.781 180.782 L575.781 188.143 L584.554 188.143 L584.554 191.453 L575.781 191.453 L575.781 205.527 Q575.781 208.698 576.637 209.601 Q577.517 210.504 580.179 210.504 L584.554 210.504 L584.554 214.069 L580.179 214.069 Q575.249 214.069 573.374 212.24 Q571.499 210.388 571.499 205.527 L571.499 191.453 L568.374 191.453 L568.374 188.143 L571.499 188.143 L571.499 180.782 L575.781 180.782 Z\" fill=\"#000000\" fill-rule=\"nonzero\" fill-opacity=\"1\" /><path clip-path=\"url(#clip630)\" d=\"M612.332 200.041 L612.332 202.124 L592.748 202.124 Q593.026 206.522 595.387 208.837 Q597.772 211.129 602.008 211.129 Q604.461 211.129 606.753 210.527 Q609.068 209.925 611.336 208.721 L611.336 212.749 Q609.045 213.721 606.637 214.231 Q604.23 214.74 601.753 214.74 Q595.549 214.74 591.915 211.129 Q588.304 207.518 588.304 201.36 Q588.304 194.995 591.73 191.268 Q595.179 187.518 601.012 187.518 Q606.244 187.518 609.276 190.897 Q612.332 194.254 612.332 200.041 M608.072 198.791 Q608.026 195.296 606.105 193.212 Q604.207 191.129 601.059 191.129 Q597.494 191.129 595.341 193.143 Q593.211 195.157 592.887 198.814 L608.072 198.791 Z\" fill=\"#000000\" fill-rule=\"nonzero\" fill-opacity=\"1\" /><path clip-path=\"url(#clip630)\" d=\"M617.17 199.184 L629.646 199.184 L629.646 202.981 L617.17 202.981 L617.17 199.184 Z\" fill=\"#000000\" fill-rule=\"nonzero\" fill-opacity=\"1\" /><path clip-path=\"url(#clip630)\" d=\"M636.082 179.509 L640.781 179.509 L640.781 200.504 Q640.781 206.059 642.794 208.513 Q644.808 210.944 649.322 210.944 Q653.813 210.944 655.827 208.513 Q657.841 206.059 657.841 200.504 L657.841 179.509 L662.54 179.509 L662.54 201.083 Q662.54 207.842 659.183 211.291 Q655.85 214.74 649.322 214.74 Q642.771 214.74 639.415 211.291 Q636.082 207.842 636.082 201.083 L636.082 179.509 Z\" fill=\"#000000\" fill-rule=\"nonzero\" fill-opacity=\"1\" /></svg>\n"
      ]
     },
     "execution_count": 47,
     "metadata": {},
     "output_type": "execute_result"
    }
   ],
   "source": [
    "using Plots\n",
    "\n",
    "U = 100\n",
    "\n",
    "E1 = eigenenergies(dense(Hofstadter_Hard_Core(Nx, Ny, alpha, PN, U)))\n",
    "E2 = eigenenergies(dense(Hofstadter_Finite_U(Nx, Ny, alpha, PN, U)))\n",
    "\n",
    "plot(1:length(E1), E1, seriestype=:scatter, markershape=:star5, markersize=6, label=\"Hard-Core\")\n",
    "plot!(1:length(E2), E2, seriestype=:scatter, label=\"Finite-U\")\n",
    "\n",
    "xlabel!(\"n\");ylabel!(\"E\")"
   ]
  },
  {
   "cell_type": "markdown",
   "id": "graphic-flash",
   "metadata": {},
   "source": [
    "# CHERN (INTERACTING CASE)"
   ]
  },
  {
   "cell_type": "code",
   "execution_count": 48,
   "id": "accepting-michigan",
   "metadata": {},
   "outputs": [
    {
     "data": {
      "text/plain": [
       "300-element Vector{Float64}:\n",
       " -6.189546526310846\n",
       " -6.172051272414461\n",
       " -6.106593512195772\n",
       " -6.106593512195753\n",
       " -6.08945562797458\n",
       " -6.089455627974562\n",
       " -6.034423786568465\n",
       " -6.030892925681546\n",
       " -6.013868847522769\n",
       " -6.012398054183008\n",
       " -4.599466816455044\n",
       " -4.554664188283461\n",
       " -4.531321123644692\n",
       "  ⋮\n",
       "  5.016068480188707\n",
       "  5.102876013597193\n",
       "  6.175937388260237\n",
       "  6.191605127143246\n",
       "  6.365063702172781\n",
       "  6.365063702172825\n",
       "  6.399794017959993\n",
       "  6.399794017960019\n",
       "  6.45194590390373\n",
       "  6.482373769780084\n",
       "  6.498202684099704\n",
       "  6.523791239602321"
      ]
     },
     "execution_count": 48,
     "metadata": {},
     "output_type": "execute_result"
    }
   ],
   "source": [
    "U = 2\n",
    "E = eigenenergies(dense(Hofstadter_Finite_U(Nx, Ny, alpha, PN, U)))\n",
    "#plot(1:length(E), E, seriestype=:scatter, markershape=:star5, markersize=6)"
   ]
  },
  {
   "cell_type": "code",
   "execution_count": 49,
   "id": "floating-merit",
   "metadata": {},
   "outputs": [
    {
     "name": "stdout",
     "output_type": "stream",
     "text": [
      "Chern Number is: 0.9999999999999999 - 2.5676352897231383e-17im"
     ]
    }
   ],
   "source": [
    "@nbinclude(\"Hofstadter Single Particle in Theta Space.ipynb\")\n",
    "\n",
    "Nx=4; Ny=6; N=Nx*Ny; q=Ny; PN=2; U=2; TSize=5\n",
    "n1 = 1\n",
    "n2 = 2\n",
    "\n",
    "function Hofstadter_Finite_U_C(Nx, Ny, alpha, Tx, Ty, PN, U)\n",
    "    \n",
    "    N = Nx*Ny\n",
    "    \n",
    "    MB_Basis, Basis = get_Bosonic_MB_Basis(N,PN)\n",
    "    \n",
    "    Sp_Op = HSP_T(Nx, Ny, alpha, Tx, Ty, 0)\n",
    "    Kin = get_Kinetic_Part(N, MB_Basis, Sp_Op)\n",
    "    \n",
    "    Int = get_Int_Part(N, MB_Basis, U)\n",
    "    \n",
    "    H = Kin + Int\n",
    "    \n",
    "    return H\n",
    "end\n",
    "\n",
    "# Twist Angle Parameter Space #\n",
    "dx=2*pi/TSize\n",
    "dy=dx\n",
    "Tx=collect(range(start=0, stop=2*pi-dx, step=dx))\n",
    "Ty=collect(range(start=0, stop=2*pi-dy, step=dy))\n",
    "# ---- #\n",
    "\n",
    "# Link Variable and Berry Curvature #\n",
    "Sum=0\n",
    "for tx in range(start=1, stop=length(Tx))\n",
    "    for ty in range(start=1, stop=length(Ty))\n",
    "        \n",
    "        H_mb = Hofstadter_Finite_U_C(Nx, Ny, alpha, Tx[tx], Ty[ty], PN, U)\n",
    "        w1, v1 = eigen(dense(H_mb).data)\n",
    "        i = sortperm(w1, by=real);w1 = w1[i];v1 = v1[:,i]\n",
    "        v1 = v1[:,n1:n2]  \n",
    "        #------------------------------------\n",
    "        H_mb = Hofstadter_Finite_U_C(Nx, Ny, alpha, Tx[tx]+dx, Ty[ty], PN, U)\n",
    "        w2, v2 = eigen(dense(H_mb).data)\n",
    "        i = sortperm(w2, by=real);w2 = w2[i];v2 = v2[:,i]\n",
    "        v2 = v2[:,n1:n2]\n",
    "        #------------------------------------\n",
    "        H_mb = Hofstadter_Finite_U_C(Nx, Ny, alpha, Tx[tx], Ty[ty]+dy, PN, U)\n",
    "        w3, v3 = eigen(dense(H_mb).data)\n",
    "        i = sortperm(w3, by=real);w3 = w3[i];v3 = v3[:,i]\n",
    "        v3 = v3[:,n1:n2]\n",
    "        #------------------------------------\n",
    "        H_mb = Hofstadter_Finite_U_C(Nx, Ny, alpha, Tx[tx]+dx, Ty[ty]+dy, PN, U)\n",
    "        w4, v4 = eigen(dense(H_mb).data)\n",
    "        i = sortperm(w4, by=real);w4 = w4[i];v4 = v4[:,i]\n",
    "        v4 = v4[:,n1:n2]\n",
    "        #----------LINK VARIABLES------------\n",
    "        U1=det(adjoint(v1)*v2)\n",
    "        U1=U1/abs(U1)\n",
    "        U2=det(adjoint(v2)*v4)\n",
    "        U2=U2/abs(U2)\n",
    "        U3=det(adjoint(v3)*v4)\n",
    "        U3=U3/abs(U3)\n",
    "        U4=det(adjoint(v1)*v3)\n",
    "        U4=U4/abs(U4)\n",
    "        #----------BERRY CURVATURE-----------\n",
    "        F=log(U1*U2*1/U3*1/U4)\n",
    "        Sum=Sum+F \n",
    "    end\n",
    "end\n",
    "# ---- #\n",
    "\n",
    "print(\"Chern Number is: \", 1/(2*pi*1im)*Sum)"
   ]
  },
  {
   "cell_type": "code",
   "execution_count": null,
   "id": "initial-paradise",
   "metadata": {},
   "outputs": [],
   "source": []
  }
 ],
 "metadata": {
  "kernelspec": {
   "display_name": "Julia 1.8.1",
   "language": "julia",
   "name": "julia-1.8"
  },
  "language_info": {
   "file_extension": ".jl",
   "mimetype": "application/julia",
   "name": "julia",
   "version": "1.8.1"
  }
 },
 "nbformat": 4,
 "nbformat_minor": 5
}
