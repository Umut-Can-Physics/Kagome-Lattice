{
 "cells": [
  {
   "cell_type": "markdown",
   "id": "female-cooler",
   "metadata": {},
   "source": [
    "# INTERACTING CASE"
   ]
  },
  {
   "cell_type": "code",
   "execution_count": 1,
   "id": "wireless-touch",
   "metadata": {
    "tags": []
   },
   "outputs": [
    {
     "data": {
      "text/plain": [
       "Hofstadter_SP (generic function with 1 method)"
      ]
     },
     "execution_count": 1,
     "metadata": {},
     "output_type": "execute_result"
    }
   ],
   "source": [
    "# executeme\n",
    "\n",
    "using NBInclude\n",
    "@nbinclude(\"Hofstadter Single Particle in Julia.ipynb\")"
   ]
  },
  {
   "cell_type": "code",
   "execution_count": 2,
   "id": "grateful-least",
   "metadata": {
    "tags": []
   },
   "outputs": [],
   "source": [
    "using QuantumOptics"
   ]
  },
  {
   "cell_type": "code",
   "execution_count": 72,
   "id": "metric-middle",
   "metadata": {
    "tags": []
   },
   "outputs": [],
   "source": [
    "# Nx = 4; Ny = 6; N=Nx*Ny; q = Ny; alpha=1/q\n",
    "# PN = 2\n",
    "# U = 2;\n",
    "\n",
    "Nx = 3; Ny = 3; N=Nx*Ny; q = Ny; alpha=1/q\n",
    "PN = 2\n",
    "U = 2;\n",
    "\n",
    "# Proj. yapmadan bunu hesaplamanın yöntemi yok! 88k state geliyor :D\n",
    "# Nx = 8; Ny = 10; N=Nx*Ny; q = Ny; alpha=1/q\n",
    "# PN = 3\n",
    "# U = 2;"
   ]
  },
  {
   "cell_type": "code",
   "execution_count": 73,
   "id": "surgical-campus",
   "metadata": {
    "tags": []
   },
   "outputs": [
    {
     "data": {
      "text/plain": [
       "get_Bosonic_MB_Basis (generic function with 1 method)"
      ]
     },
     "execution_count": 73,
     "metadata": {},
     "output_type": "execute_result"
    }
   ],
   "source": [
    "# executeme\n",
    "\n",
    "function get_Bosonic_MB_Basis(N,PN)\n",
    "   \n",
    "    NBasis = NLevelBasis(N)\n",
    "    NStates = bosonstates(NBasis, PN)\n",
    "    \n",
    "    NBasis_MB = ManyBodyBasis(NBasis, NStates)\n",
    "    \n",
    "    return NBasis_MB, NBasis\n",
    "end"
   ]
  },
  {
   "cell_type": "code",
   "execution_count": 74,
   "id": "cooperative-personality",
   "metadata": {
    "tags": []
   },
   "outputs": [
    {
     "data": {
      "text/plain": [
       "(ManyBody(onebodybasis=NLevel(N=9), states:45), NLevel(N=9))"
      ]
     },
     "execution_count": 74,
     "metadata": {},
     "output_type": "execute_result"
    }
   ],
   "source": [
    "basis_mb, basis = get_Bosonic_MB_Basis(N,PN)"
   ]
  },
  {
   "cell_type": "code",
   "execution_count": 75,
   "id": "eastern-resource",
   "metadata": {
    "tags": []
   },
   "outputs": [
    {
     "data": {
      "text/plain": [
       "get_Kinetic_Part (generic function with 1 method)"
      ]
     },
     "execution_count": 75,
     "metadata": {},
     "output_type": "execute_result"
    }
   ],
   "source": [
    "# executeme\n",
    "\n",
    "function get_Kinetic_Part(N, MB_Basis, Sp_Op)\n",
    "    KT = SparseOperator(MB_Basis)\n",
    "    for m in 1:N\n",
    "        for n in 1:N\n",
    "            KT = KT + Sp_Op[m,n] * transition(MB_Basis, m, n)\n",
    "        end\n",
    "    end\n",
    "    \n",
    "    return KT\n",
    "end"
   ]
  },
  {
   "cell_type": "code",
   "execution_count": 76,
   "id": "developmental-sunrise",
   "metadata": {
    "tags": []
   },
   "outputs": [
    {
     "data": {
      "text/plain": [
       "Operator(dim=45x45)\n",
       "  basis: ManyBody(onebodybasis=NLevel(N=9), states:45)sparse([1, 10, 18, 25, 31, 36, 40, 43, 45], [1, 10, 18, 25, 31, 36, 40, 43, 45], ComplexF64[2.0000000000000004 + 0.0im, 2.0000000000000004 + 0.0im, 2.0000000000000004 + 0.0im, 2.0000000000000004 + 0.0im, 2.0000000000000004 + 0.0im, 2.0000000000000004 + 0.0im, 2.0000000000000004 + 0.0im, 2.0000000000000004 + 0.0im, 2.0000000000000004 + 0.0im], 45, 45)"
      ]
     },
     "execution_count": 76,
     "metadata": {},
     "output_type": "execute_result"
    }
   ],
   "source": [
    "basis2 = basis ⊗ basis\n",
    "\n",
    "# interaction : at_i at_i a_i a_i = at_i a_i at_i a_i - at_i a_i = n_i n_i - n_i\n",
    "    \n",
    "Vint2 = SparseOperator(basis2)\n",
    "\n",
    "for n in 1:N\n",
    "    Vint2 += U/2*transition(basis,n,n)⊗transition(basis,n,n)\n",
    "end\n",
    "\n",
    "Vint_mb = manybodyoperator(basis_mb, Vint2)"
   ]
  },
  {
   "cell_type": "code",
   "execution_count": 77,
   "id": "polyphonic-participant",
   "metadata": {
    "tags": []
   },
   "outputs": [
    {
     "data": {
      "text/plain": [
       "get_Int_Part (generic function with 1 method)"
      ]
     },
     "execution_count": 77,
     "metadata": {},
     "output_type": "execute_result"
    }
   ],
   "source": [
    "# executeme\n",
    "\n",
    "function get_Int_Part(N, MB_Basis, U)\n",
    "    IT = SparseOperator(MB_Basis)\n",
    "    for m in 1:N\n",
    "        IT = IT + U/2 * number(MB_Basis, m) * ( number(MB_Basis, m) - identityoperator(MB_Basis) ) \n",
    "    end\n",
    "    \n",
    "    return IT\n",
    "end"
   ]
  },
  {
   "cell_type": "code",
   "execution_count": 78,
   "id": "joint-baghdad",
   "metadata": {
    "tags": []
   },
   "outputs": [
    {
     "data": {
      "text/plain": [
       "Operator(dim=45x45)\n",
       "  basis: ManyBody(onebodybasis=NLevel(N=9), states:45)sparse([1, 10, 18, 25, 31, 36, 40, 43, 45], [1, 10, 18, 25, 31, 36, 40, 43, 45], ComplexF64[2.0 + 0.0im, 2.0 + 0.0im, 2.0 + 0.0im, 2.0 + 0.0im, 2.0 + 0.0im, 2.0 + 0.0im, 2.0 + 0.0im, 2.0 + 0.0im, 2.0 + 0.0im], 45, 45)"
      ]
     },
     "execution_count": 78,
     "metadata": {},
     "output_type": "execute_result"
    }
   ],
   "source": [
    "Int_mb = get_Int_Part(N, basis_mb, U)"
   ]
  },
  {
   "cell_type": "code",
   "execution_count": 79,
   "id": "sharing-consensus",
   "metadata": {
    "tags": []
   },
   "outputs": [
    {
     "data": {
      "text/plain": [
       "Hofstadter_Finite_U (generic function with 1 method)"
      ]
     },
     "execution_count": 79,
     "metadata": {},
     "output_type": "execute_result"
    }
   ],
   "source": [
    "# executeme\n",
    "\n",
    "function Hofstadter_Finite_U(Nx, Ny, alpha, PN, U)\n",
    "    \n",
    "    N = Nx*Ny\n",
    "    \n",
    "    MB_Basis, Basis = get_Bosonic_MB_Basis(N,PN)\n",
    "    \n",
    "    Sp_Op = Hofstadter_SP(Nx, Ny, alpha, 0)\n",
    "    Kin = get_Kinetic_Part(N, MB_Basis, Sp_Op)\n",
    "    \n",
    "    Int = get_Int_Part(N, MB_Basis, U)\n",
    "    \n",
    "    H = Kin + Int\n",
    "    \n",
    "    return H\n",
    "end"
   ]
  },
  {
   "cell_type": "markdown",
   "id": "female-fifteen",
   "metadata": {},
   "source": [
    "1) If particle number=1 and U=0, Hofstadter Finite U energies has to be equal to Hofstadter Single Particle energies."
   ]
  },
  {
   "cell_type": "code",
   "execution_count": 80,
   "id": "exact-fluid",
   "metadata": {
    "tags": []
   },
   "outputs": [
    {
     "data": {
      "text/plain": [
       "Operator(dim=45x45)\n",
       "  basis: ManyBody(onebodybasis=NLevel(N=9), states:45)sparse([1, 2, 3, 4, 7, 1, 3, 5, 8, 10  …  38, 41, 42, 43, 45, 24, 39, 42, 44, 45], [1, 1, 1, 1, 1, 2, 2, 2, 2, 2  …  44, 44, 44, 44, 44, 45, 45, 45, 45, 45], ComplexF64[2.0 + 0.0im, -1.4142135623730951 + 0.0im, -1.4142135623730951 + 0.0im, -1.4142135623730951 + 0.0im, -1.4142135623730951 + 0.0im, -1.4142135623730951 + 0.0im, -1.0 + 0.0im, -1.0 + 0.0im, -1.0 + 0.0im, -1.4142135623730951 + 0.0im  …  -1.0 + 0.0im, 0.5000000000000004 + 0.8660254037844386im, 0.5000000000000004 - 0.8660254037844386im, 0.7071067811865482 - 1.224744871391589im, 0.7071067811865482 + 1.224744871391589im, -1.4142135623730951 + 0.0im, -1.4142135623730951 + 0.0im, 0.7071067811865482 + 1.224744871391589im, 0.7071067811865482 - 1.224744871391589im, 2.0 + 0.0im], 45, 45)"
      ]
     },
     "execution_count": 80,
     "metadata": {},
     "output_type": "execute_result"
    }
   ],
   "source": [
    "H_mb = Hofstadter_Finite_U(Nx, Ny, 1/q, PN, U)"
   ]
  },
  {
   "cell_type": "code",
   "execution_count": 81,
   "id": "armed-vacation",
   "metadata": {
    "tags": []
   },
   "outputs": [
    {
     "name": "stdout",
     "output_type": "stream",
     "text": [
      "INFO: Defaulting to sparse diagonalization.\n",
      "        If storing the full operator is possible, it might be faster to do\n",
      "        eigenstates(dense(op)). Set info=false to turn off this message.\n"
     ]
    },
    {
     "data": {
      "text/plain": [
       "6-element Vector{ComplexF64}:\n",
       " -5.340971176014532 + 1.3021306984143355e-16im\n",
       " -5.340971176014518 + 1.3755367642741191e-17im\n",
       " -5.340971176014516 - 2.229317187840829e-17im\n",
       " -5.066168265618848 + 5.898059571002095e-17im\n",
       " -5.066168265618841 + 5.819285754226494e-17im\n",
       " -5.066168265618835 + 1.1574535817640563e-16im"
      ]
     },
     "execution_count": 81,
     "metadata": {},
     "output_type": "execute_result"
    }
   ],
   "source": [
    "eigenenergies(H_mb)"
   ]
  },
  {
   "cell_type": "code",
   "execution_count": 82,
   "id": "legendary-lotus",
   "metadata": {
    "tags": []
   },
   "outputs": [
    {
     "data": {
      "text/plain": [
       "45-element Vector{Float64}:\n",
       " -5.340971176014521\n",
       " -5.340971176014518\n",
       " -5.340971176014505\n",
       " -5.066168265618831\n",
       " -5.066168265618825\n",
       " -5.066168265618825\n",
       " -1.8128503544788694\n",
       " -1.8128503544788686\n",
       " -1.812850354478868\n",
       " -1.7045703369311707\n",
       " -1.7045703369311707\n",
       " -1.7045703369311689\n",
       " -1.64575131106459\n",
       "  ⋮\n",
       "  3.268482609755459\n",
       "  3.2684826097554605\n",
       "  3.268482609755462\n",
       "  3.6457513110645836\n",
       "  3.6457513110645876\n",
       "  3.6457513110645925\n",
       "  4.5195428975310294\n",
       "  4.519542897531033\n",
       "  4.519542897531036\n",
       "  4.662503113875357\n",
       "  4.662503113875362\n",
       "  4.6625031138753705"
      ]
     },
     "execution_count": 82,
     "metadata": {},
     "output_type": "execute_result"
    }
   ],
   "source": [
    "eigenenergies(dense(Hofstadter_Finite_U(Nx,Ny,1/q,PN,U)))"
   ]
  },
  {
   "cell_type": "code",
   "execution_count": 83,
   "id": "subject-performer",
   "metadata": {
    "tags": []
   },
   "outputs": [
    {
     "data": {
      "text/plain": [
       "Eigen{ComplexF64, Float64, Matrix{ComplexF64}, Vector{Float64}}\n",
       "values:\n",
       "16-element Vector{Float64}:\n",
       " -2.8284271247461885\n",
       " -2.8284271247461876\n",
       " -2.8284271247461867\n",
       " -2.828427124746186\n",
       " -1.5885259206217286e-16\n",
       " -6.158601528183403e-17\n",
       "  4.110075077717591e-17\n",
       "  1.186225349076427e-16\n",
       "  3.1086244689504383e-15\n",
       "  3.1086244689504383e-15\n",
       "  3.1086244689504383e-15\n",
       "  4.884981308350689e-15\n",
       "  2.8284271247461894\n",
       "  2.8284271247461903\n",
       "  2.8284271247461903\n",
       "  2.8284271247461903\n",
       "vectors:\n",
       "16×16 Matrix{ComplexF64}:\n",
       "  -0.0328925-0.277237im    …        -0.125+0.125im\n",
       "  0.00332264-0.279204im                0.0+0.0im\n",
       "   -0.249043-0.192656im             -0.125-0.125im\n",
       "   -0.129583-0.242553im           0.353553+0.0im\n",
       " -0.00171222-0.197646im                0.0+0.0im\n",
       "    0.187957-0.0518321im   …           0.0+0.0im\n",
       "   -0.270744+0.0548745im               0.0+0.0im\n",
       "  -0.0845807-0.216151im              -0.25-1.54074e-33im\n",
       "   -0.136269-0.00925389im            0.125+0.125im\n",
       "    0.275779-0.136432im                0.0+0.0im\n",
       "   -0.352419+0.0753268im   …         0.125-0.125im\n",
       "    0.142874-0.0997811im          0.353553+0.0im\n",
       "   0.0349386-0.0647406im      -8.32667e-17-0.353553im\n",
       "    0.103376-0.267983im               0.25-2.77556e-17im\n",
       "   -0.307395-0.0780312im               0.0+0.353553im\n",
       "         0.0+0.0im         …          -0.5-0.0im"
      ]
     },
     "execution_count": 83,
     "metadata": {},
     "output_type": "execute_result"
    }
   ],
   "source": [
    "using LinearAlgebra\n",
    "eigen(Hofstadter_SP(4, 4, 1/4, 0))"
   ]
  },
  {
   "cell_type": "code",
   "execution_count": 84,
   "id": "first-latest",
   "metadata": {
    "tags": []
   },
   "outputs": [
    {
     "data": {
      "text/plain": [
       "get_Fermionic_MB_Basis (generic function with 1 method)"
      ]
     },
     "execution_count": 84,
     "metadata": {},
     "output_type": "execute_result"
    }
   ],
   "source": [
    "function get_Fermionic_MB_Basis(N,PN)\n",
    "    b_hard = NLevelBasis(N)\n",
    "    states_hard = fermionstates(b_hard, [PN])\n",
    "    b_mb_hard = ManyBodyBasis(b_hard, states_hard)\n",
    "    \n",
    "    return b_mb_hard\n",
    "end"
   ]
  },
  {
   "cell_type": "code",
   "execution_count": 85,
   "id": "successful-surrey",
   "metadata": {
    "tags": []
   },
   "outputs": [
    {
     "data": {
      "text/plain": [
       "Hofstadter_Hard_Core (generic function with 1 method)"
      ]
     },
     "execution_count": 85,
     "metadata": {},
     "output_type": "execute_result"
    }
   ],
   "source": [
    "function Hofstadter_Hard_Core(Nx, Ny, alpha, PN, U)\n",
    "    \n",
    "    N = Nx*Ny\n",
    "    \n",
    "    MB_Basis = get_Fermionic_MB_Basis(N,PN)\n",
    "    \n",
    "    Sp_Op = Hofstadter_SP(Nx, Ny, alpha, 0)\n",
    "    Kin = get_Kinetic_Part(N, MB_Basis, Sp_Op)\n",
    "    \n",
    "    Int = get_Int_Part(N, MB_Basis, U)\n",
    "    \n",
    "    H = Kin + Int\n",
    "    \n",
    "    return H\n",
    "end"
   ]
  },
  {
   "cell_type": "markdown",
   "id": "supposed-tokyo",
   "metadata": {},
   "source": [
    "If U>>1, Hofstadter Finite U energies converges at Hofstadter Hard Core energies."
   ]
  },
  {
   "cell_type": "code",
   "execution_count": 86,
   "id": "latest-garlic",
   "metadata": {},
   "outputs": [
    {
     "data": {
      "image/svg+xml": [
       "<?xml version=\"1.0\" encoding=\"utf-8\"?>\n",
       "<svg xmlns=\"http://www.w3.org/2000/svg\" xmlns:xlink=\"http://www.w3.org/1999/xlink\" width=\"600\" height=\"400\" viewBox=\"0 0 2400 1600\">\n",
       "<defs>\n",
       "  <clipPath id=\"clip130\">\n",
       "    <rect x=\"0\" y=\"0\" width=\"2400\" height=\"1600\"/>\n",
       "  </clipPath>\n",
       "</defs>\n",
       "<path clip-path=\"url(#clip130)\" d=\"M0 1600 L2400 1600 L2400 0 L0 0  Z\" fill=\"#ffffff\" fill-rule=\"evenodd\" fill-opacity=\"1\"/>\n",
       "<defs>\n",
       "  <clipPath id=\"clip131\">\n",
       "    <rect x=\"480\" y=\"0\" width=\"1681\" height=\"1600\"/>\n",
       "  </clipPath>\n",
       "</defs>\n",
       "<path clip-path=\"url(#clip130)\" d=\"M232.389 1423.18 L2352.76 1423.18 L2352.76 47.2441 L232.389 47.2441  Z\" fill=\"#ffffff\" fill-rule=\"evenodd\" fill-opacity=\"1\"/>\n",
       "<defs>\n",
       "  <clipPath id=\"clip132\">\n",
       "    <rect x=\"232\" y=\"47\" width=\"2121\" height=\"1377\"/>\n",
       "  </clipPath>\n",
       "</defs>\n",
       "<polyline clip-path=\"url(#clip132)\" style=\"stroke:#000000; stroke-linecap:round; stroke-linejoin:round; stroke-width:2; stroke-opacity:0.1; fill:none\" points=\"246.937,1423.18 246.937,47.2441 \"/>\n",
       "<polyline clip-path=\"url(#clip132)\" style=\"stroke:#000000; stroke-linecap:round; stroke-linejoin:round; stroke-width:2; stroke-opacity:0.1; fill:none\" points=\"701.561,1423.18 701.561,47.2441 \"/>\n",
       "<polyline clip-path=\"url(#clip132)\" style=\"stroke:#000000; stroke-linecap:round; stroke-linejoin:round; stroke-width:2; stroke-opacity:0.1; fill:none\" points=\"1156.19,1423.18 1156.19,47.2441 \"/>\n",
       "<polyline clip-path=\"url(#clip132)\" style=\"stroke:#000000; stroke-linecap:round; stroke-linejoin:round; stroke-width:2; stroke-opacity:0.1; fill:none\" points=\"1610.81,1423.18 1610.81,47.2441 \"/>\n",
       "<polyline clip-path=\"url(#clip132)\" style=\"stroke:#000000; stroke-linecap:round; stroke-linejoin:round; stroke-width:2; stroke-opacity:0.1; fill:none\" points=\"2065.43,1423.18 2065.43,47.2441 \"/>\n",
       "<polyline clip-path=\"url(#clip130)\" style=\"stroke:#000000; stroke-linecap:round; stroke-linejoin:round; stroke-width:4; stroke-opacity:1; fill:none\" points=\"232.389,1423.18 2352.76,1423.18 \"/>\n",
       "<polyline clip-path=\"url(#clip130)\" style=\"stroke:#000000; stroke-linecap:round; stroke-linejoin:round; stroke-width:4; stroke-opacity:1; fill:none\" points=\"246.937,1423.18 246.937,1404.28 \"/>\n",
       "<polyline clip-path=\"url(#clip130)\" style=\"stroke:#000000; stroke-linecap:round; stroke-linejoin:round; stroke-width:4; stroke-opacity:1; fill:none\" points=\"701.561,1423.18 701.561,1404.28 \"/>\n",
       "<polyline clip-path=\"url(#clip130)\" style=\"stroke:#000000; stroke-linecap:round; stroke-linejoin:round; stroke-width:4; stroke-opacity:1; fill:none\" points=\"1156.19,1423.18 1156.19,1404.28 \"/>\n",
       "<polyline clip-path=\"url(#clip130)\" style=\"stroke:#000000; stroke-linecap:round; stroke-linejoin:round; stroke-width:4; stroke-opacity:1; fill:none\" points=\"1610.81,1423.18 1610.81,1404.28 \"/>\n",
       "<polyline clip-path=\"url(#clip130)\" style=\"stroke:#000000; stroke-linecap:round; stroke-linejoin:round; stroke-width:4; stroke-opacity:1; fill:none\" points=\"2065.43,1423.18 2065.43,1404.28 \"/>\n",
       "<path clip-path=\"url(#clip130)\" d=\"M246.937 1454.1 Q243.326 1454.1 241.498 1457.66 Q239.692 1461.2 239.692 1468.33 Q239.692 1475.44 241.498 1479.01 Q243.326 1482.55 246.937 1482.55 Q250.572 1482.55 252.377 1479.01 Q254.206 1475.44 254.206 1468.33 Q254.206 1461.2 252.377 1457.66 Q250.572 1454.1 246.937 1454.1 M246.937 1450.39 Q252.747 1450.39 255.803 1455 Q258.882 1459.58 258.882 1468.33 Q258.882 1477.06 255.803 1481.67 Q252.747 1486.25 246.937 1486.25 Q241.127 1486.25 238.048 1481.67 Q234.993 1477.06 234.993 1468.33 Q234.993 1459.58 238.048 1455 Q241.127 1450.39 246.937 1450.39 Z\" fill=\"#000000\" fill-rule=\"nonzero\" fill-opacity=\"1\" /><path clip-path=\"url(#clip130)\" d=\"M676.249 1481.64 L683.888 1481.64 L683.888 1455.28 L675.578 1456.95 L675.578 1452.69 L683.842 1451.02 L688.517 1451.02 L688.517 1481.64 L696.156 1481.64 L696.156 1485.58 L676.249 1485.58 L676.249 1481.64 Z\" fill=\"#000000\" fill-rule=\"nonzero\" fill-opacity=\"1\" /><path clip-path=\"url(#clip130)\" d=\"M715.601 1454.1 Q711.99 1454.1 710.161 1457.66 Q708.355 1461.2 708.355 1468.33 Q708.355 1475.44 710.161 1479.01 Q711.99 1482.55 715.601 1482.55 Q719.235 1482.55 721.04 1479.01 Q722.869 1475.44 722.869 1468.33 Q722.869 1461.2 721.04 1457.66 Q719.235 1454.1 715.601 1454.1 M715.601 1450.39 Q721.411 1450.39 724.466 1455 Q727.545 1459.58 727.545 1468.33 Q727.545 1477.06 724.466 1481.67 Q721.411 1486.25 715.601 1486.25 Q709.79 1486.25 706.712 1481.67 Q703.656 1477.06 703.656 1468.33 Q703.656 1459.58 706.712 1455 Q709.79 1450.39 715.601 1450.39 Z\" fill=\"#000000\" fill-rule=\"nonzero\" fill-opacity=\"1\" /><path clip-path=\"url(#clip130)\" d=\"M1134.96 1481.64 L1151.28 1481.64 L1151.28 1485.58 L1129.33 1485.58 L1129.33 1481.64 Q1132 1478.89 1136.58 1474.26 Q1141.19 1469.61 1142.37 1468.27 Q1144.61 1465.74 1145.49 1464.01 Q1146.39 1462.25 1146.39 1460.56 Q1146.39 1457.8 1144.45 1456.07 Q1142.53 1454.33 1139.43 1454.33 Q1137.23 1454.33 1134.77 1455.09 Q1132.34 1455.86 1129.57 1457.41 L1129.57 1452.69 Q1132.39 1451.55 1134.84 1450.97 Q1137.3 1450.39 1139.33 1450.39 Q1144.7 1450.39 1147.9 1453.08 Q1151.09 1455.77 1151.09 1460.26 Q1151.09 1462.39 1150.28 1464.31 Q1149.5 1466.2 1147.39 1468.8 Q1146.81 1469.47 1143.71 1472.69 Q1140.61 1475.88 1134.96 1481.64 Z\" fill=\"#000000\" fill-rule=\"nonzero\" fill-opacity=\"1\" /><path clip-path=\"url(#clip130)\" d=\"M1171.09 1454.1 Q1167.48 1454.1 1165.65 1457.66 Q1163.85 1461.2 1163.85 1468.33 Q1163.85 1475.44 1165.65 1479.01 Q1167.48 1482.55 1171.09 1482.55 Q1174.73 1482.55 1176.53 1479.01 Q1178.36 1475.44 1178.36 1468.33 Q1178.36 1461.2 1176.53 1457.66 Q1174.73 1454.1 1171.09 1454.1 M1171.09 1450.39 Q1176.9 1450.39 1179.96 1455 Q1183.04 1459.58 1183.04 1468.33 Q1183.04 1477.06 1179.96 1481.67 Q1176.9 1486.25 1171.09 1486.25 Q1165.28 1486.25 1162.2 1481.67 Q1159.15 1477.06 1159.15 1468.33 Q1159.15 1459.58 1162.2 1455 Q1165.28 1450.39 1171.09 1450.39 Z\" fill=\"#000000\" fill-rule=\"nonzero\" fill-opacity=\"1\" /><path clip-path=\"url(#clip130)\" d=\"M1599.65 1466.95 Q1603.01 1467.66 1604.88 1469.93 Q1606.78 1472.2 1606.78 1475.53 Q1606.78 1480.65 1603.26 1483.45 Q1599.74 1486.25 1593.26 1486.25 Q1591.09 1486.25 1588.77 1485.81 Q1586.48 1485.39 1584.03 1484.54 L1584.03 1480.02 Q1585.97 1481.16 1588.29 1481.74 Q1590.6 1482.32 1593.12 1482.32 Q1597.52 1482.32 1599.81 1480.58 Q1602.13 1478.84 1602.13 1475.53 Q1602.13 1472.48 1599.98 1470.77 Q1597.85 1469.03 1594.03 1469.03 L1590 1469.03 L1590 1465.19 L1594.21 1465.19 Q1597.66 1465.19 1599.49 1463.82 Q1601.32 1462.43 1601.32 1459.84 Q1601.32 1457.18 1599.42 1455.77 Q1597.55 1454.33 1594.03 1454.33 Q1592.11 1454.33 1589.91 1454.75 Q1587.71 1455.16 1585.07 1456.04 L1585.07 1451.88 Q1587.73 1451.14 1590.05 1450.77 Q1592.38 1450.39 1594.44 1450.39 Q1599.77 1450.39 1602.87 1452.83 Q1605.97 1455.23 1605.97 1459.35 Q1605.97 1462.22 1604.33 1464.21 Q1602.68 1466.18 1599.65 1466.95 Z\" fill=\"#000000\" fill-rule=\"nonzero\" fill-opacity=\"1\" /><path clip-path=\"url(#clip130)\" d=\"M1625.65 1454.1 Q1622.04 1454.1 1620.21 1457.66 Q1618.4 1461.2 1618.4 1468.33 Q1618.4 1475.44 1620.21 1479.01 Q1622.04 1482.55 1625.65 1482.55 Q1629.28 1482.55 1631.09 1479.01 Q1632.92 1475.44 1632.92 1468.33 Q1632.92 1461.2 1631.09 1457.66 Q1629.28 1454.1 1625.65 1454.1 M1625.65 1450.39 Q1631.46 1450.39 1634.51 1455 Q1637.59 1459.58 1637.59 1468.33 Q1637.59 1477.06 1634.51 1481.67 Q1631.46 1486.25 1625.65 1486.25 Q1619.84 1486.25 1616.76 1481.67 Q1613.7 1477.06 1613.7 1468.33 Q1613.7 1459.58 1616.76 1455 Q1619.84 1450.39 1625.65 1450.39 Z\" fill=\"#000000\" fill-rule=\"nonzero\" fill-opacity=\"1\" /><path clip-path=\"url(#clip130)\" d=\"M2053.6 1455.09 L2041.8 1473.54 L2053.6 1473.54 L2053.6 1455.09 M2052.38 1451.02 L2058.26 1451.02 L2058.26 1473.54 L2063.19 1473.54 L2063.19 1477.43 L2058.26 1477.43 L2058.26 1485.58 L2053.6 1485.58 L2053.6 1477.43 L2038 1477.43 L2038 1472.92 L2052.38 1451.02 Z\" fill=\"#000000\" fill-rule=\"nonzero\" fill-opacity=\"1\" /><path clip-path=\"url(#clip130)\" d=\"M2080.92 1454.1 Q2077.31 1454.1 2075.48 1457.66 Q2073.67 1461.2 2073.67 1468.33 Q2073.67 1475.44 2075.48 1479.01 Q2077.31 1482.55 2080.92 1482.55 Q2084.55 1482.55 2086.36 1479.01 Q2088.19 1475.44 2088.19 1468.33 Q2088.19 1461.2 2086.36 1457.66 Q2084.55 1454.1 2080.92 1454.1 M2080.92 1450.39 Q2086.73 1450.39 2089.79 1455 Q2092.86 1459.58 2092.86 1468.33 Q2092.86 1477.06 2089.79 1481.67 Q2086.73 1486.25 2080.92 1486.25 Q2075.11 1486.25 2072.03 1481.67 Q2068.98 1477.06 2068.98 1468.33 Q2068.98 1459.58 2072.03 1455 Q2075.11 1450.39 2080.92 1450.39 Z\" fill=\"#000000\" fill-rule=\"nonzero\" fill-opacity=\"1\" /><path clip-path=\"url(#clip130)\" d=\"M1307.5 1546.53 L1307.5 1568.04 L1301.64 1568.04 L1301.64 1546.72 Q1301.64 1541.66 1299.67 1539.14 Q1297.7 1536.63 1293.75 1536.63 Q1289.01 1536.63 1286.27 1539.65 Q1283.53 1542.68 1283.53 1547.9 L1283.53 1568.04 L1277.65 1568.04 L1277.65 1532.4 L1283.53 1532.4 L1283.53 1537.93 Q1285.63 1534.72 1288.47 1533.13 Q1291.33 1531.54 1295.06 1531.54 Q1301.2 1531.54 1304.35 1535.36 Q1307.5 1539.14 1307.5 1546.53 Z\" fill=\"#000000\" fill-rule=\"nonzero\" fill-opacity=\"1\" /><polyline clip-path=\"url(#clip132)\" style=\"stroke:#000000; stroke-linecap:round; stroke-linejoin:round; stroke-width:2; stroke-opacity:0.1; fill:none\" points=\"232.389,1321.97 2352.76,1321.97 \"/>\n",
       "<polyline clip-path=\"url(#clip132)\" style=\"stroke:#000000; stroke-linecap:round; stroke-linejoin:round; stroke-width:2; stroke-opacity:0.1; fill:none\" points=\"232.389,1013.44 2352.76,1013.44 \"/>\n",
       "<polyline clip-path=\"url(#clip132)\" style=\"stroke:#000000; stroke-linecap:round; stroke-linejoin:round; stroke-width:2; stroke-opacity:0.1; fill:none\" points=\"232.389,704.895 2352.76,704.895 \"/>\n",
       "<polyline clip-path=\"url(#clip132)\" style=\"stroke:#000000; stroke-linecap:round; stroke-linejoin:round; stroke-width:2; stroke-opacity:0.1; fill:none\" points=\"232.389,396.356 2352.76,396.356 \"/>\n",
       "<polyline clip-path=\"url(#clip132)\" style=\"stroke:#000000; stroke-linecap:round; stroke-linejoin:round; stroke-width:2; stroke-opacity:0.1; fill:none\" points=\"232.389,87.8164 2352.76,87.8164 \"/>\n",
       "<polyline clip-path=\"url(#clip130)\" style=\"stroke:#000000; stroke-linecap:round; stroke-linejoin:round; stroke-width:4; stroke-opacity:1; fill:none\" points=\"232.389,1423.18 232.389,47.2441 \"/>\n",
       "<polyline clip-path=\"url(#clip130)\" style=\"stroke:#000000; stroke-linecap:round; stroke-linejoin:round; stroke-width:4; stroke-opacity:1; fill:none\" points=\"232.389,1321.97 251.287,1321.97 \"/>\n",
       "<polyline clip-path=\"url(#clip130)\" style=\"stroke:#000000; stroke-linecap:round; stroke-linejoin:round; stroke-width:4; stroke-opacity:1; fill:none\" points=\"232.389,1013.44 251.287,1013.44 \"/>\n",
       "<polyline clip-path=\"url(#clip130)\" style=\"stroke:#000000; stroke-linecap:round; stroke-linejoin:round; stroke-width:4; stroke-opacity:1; fill:none\" points=\"232.389,704.895 251.287,704.895 \"/>\n",
       "<polyline clip-path=\"url(#clip130)\" style=\"stroke:#000000; stroke-linecap:round; stroke-linejoin:round; stroke-width:4; stroke-opacity:1; fill:none\" points=\"232.389,396.356 251.287,396.356 \"/>\n",
       "<polyline clip-path=\"url(#clip130)\" style=\"stroke:#000000; stroke-linecap:round; stroke-linejoin:round; stroke-width:4; stroke-opacity:1; fill:none\" points=\"232.389,87.8164 251.287,87.8164 \"/>\n",
       "<path clip-path=\"url(#clip130)\" d=\"M184.445 1307.77 Q180.834 1307.77 179.005 1311.34 Q177.2 1314.88 177.2 1322.01 Q177.2 1329.12 179.005 1332.68 Q180.834 1336.22 184.445 1336.22 Q188.079 1336.22 189.885 1332.68 Q191.713 1329.12 191.713 1322.01 Q191.713 1314.88 189.885 1311.34 Q188.079 1307.77 184.445 1307.77 M184.445 1304.07 Q190.255 1304.07 193.311 1308.68 Q196.389 1313.26 196.389 1322.01 Q196.389 1330.74 193.311 1335.34 Q190.255 1339.93 184.445 1339.93 Q178.635 1339.93 175.556 1335.34 Q172.501 1330.74 172.501 1322.01 Q172.501 1313.26 175.556 1308.68 Q178.635 1304.07 184.445 1304.07 Z\" fill=\"#000000\" fill-rule=\"nonzero\" fill-opacity=\"1\" /><path clip-path=\"url(#clip130)\" d=\"M149.306 1026.78 L165.626 1026.78 L165.626 1030.72 L143.681 1030.72 L143.681 1026.78 Q146.343 1024.03 150.927 1019.4 Q155.533 1014.74 156.714 1013.4 Q158.959 1010.88 159.839 1009.14 Q160.741 1007.38 160.741 1005.69 Q160.741 1002.94 158.797 1001.2 Q156.876 999.465 153.774 999.465 Q151.575 999.465 149.121 1000.23 Q146.691 1000.99 143.913 1002.54 L143.913 997.822 Q146.737 996.687 149.191 996.109 Q151.644 995.53 153.681 995.53 Q159.052 995.53 162.246 998.215 Q165.44 1000.9 165.44 1005.39 Q165.44 1007.52 164.63 1009.44 Q163.843 1011.34 161.737 1013.93 Q161.158 1014.6 158.056 1017.82 Q154.954 1021.02 149.306 1026.78 Z\" fill=\"#000000\" fill-rule=\"nonzero\" fill-opacity=\"1\" /><path clip-path=\"url(#clip130)\" d=\"M175.487 996.155 L193.843 996.155 L193.843 1000.09 L179.769 1000.09 L179.769 1008.56 Q180.788 1008.22 181.806 1008.05 Q182.825 1007.87 183.843 1007.87 Q189.63 1007.87 193.01 1011.04 Q196.389 1014.21 196.389 1019.63 Q196.389 1025.21 192.917 1028.31 Q189.445 1031.39 183.126 1031.39 Q180.95 1031.39 178.681 1031.02 Q176.436 1030.65 174.028 1029.9 L174.028 1025.21 Q176.112 1026.34 178.334 1026.9 Q180.556 1027.45 183.033 1027.45 Q187.038 1027.45 189.375 1025.34 Q191.713 1023.24 191.713 1019.63 Q191.713 1016.02 189.375 1013.91 Q187.038 1011.8 183.033 1011.8 Q181.158 1011.8 179.283 1012.22 Q177.431 1012.64 175.487 1013.52 L175.487 996.155 Z\" fill=\"#000000\" fill-rule=\"nonzero\" fill-opacity=\"1\" /><path clip-path=\"url(#clip130)\" d=\"M144.329 687.615 L162.686 687.615 L162.686 691.551 L148.612 691.551 L148.612 700.023 Q149.63 699.676 150.649 699.514 Q151.667 699.328 152.686 699.328 Q158.473 699.328 161.852 702.5 Q165.232 705.671 165.232 711.088 Q165.232 716.666 161.76 719.768 Q158.288 722.847 151.968 722.847 Q149.792 722.847 147.524 722.476 Q145.279 722.106 142.871 721.365 L142.871 716.666 Q144.954 717.801 147.177 718.356 Q149.399 718.912 151.876 718.912 Q155.88 718.912 158.218 716.805 Q160.556 714.699 160.556 711.088 Q160.556 707.476 158.218 705.37 Q155.88 703.264 151.876 703.264 Q150.001 703.264 148.126 703.68 Q146.274 704.097 144.329 704.977 L144.329 687.615 Z\" fill=\"#000000\" fill-rule=\"nonzero\" fill-opacity=\"1\" /><path clip-path=\"url(#clip130)\" d=\"M184.445 690.694 Q180.834 690.694 179.005 694.259 Q177.2 697.801 177.2 704.93 Q177.2 712.037 179.005 715.601 Q180.834 719.143 184.445 719.143 Q188.079 719.143 189.885 715.601 Q191.713 712.037 191.713 704.93 Q191.713 697.801 189.885 694.259 Q188.079 690.694 184.445 690.694 M184.445 686.99 Q190.255 686.99 193.311 691.597 Q196.389 696.18 196.389 704.93 Q196.389 713.657 193.311 718.263 Q190.255 722.847 184.445 722.847 Q178.635 722.847 175.556 718.263 Q172.501 713.657 172.501 704.93 Q172.501 696.18 175.556 691.597 Q178.635 686.99 184.445 686.99 Z\" fill=\"#000000\" fill-rule=\"nonzero\" fill-opacity=\"1\" /><path clip-path=\"url(#clip130)\" d=\"M144.098 379.076 L166.32 379.076 L166.32 381.067 L153.774 413.636 L148.89 413.636 L160.695 383.011 L144.098 383.011 L144.098 379.076 Z\" fill=\"#000000\" fill-rule=\"nonzero\" fill-opacity=\"1\" /><path clip-path=\"url(#clip130)\" d=\"M175.487 379.076 L193.843 379.076 L193.843 383.011 L179.769 383.011 L179.769 391.483 Q180.788 391.136 181.806 390.974 Q182.825 390.789 183.843 390.789 Q189.63 390.789 193.01 393.96 Q196.389 397.131 196.389 402.548 Q196.389 408.127 192.917 411.229 Q189.445 414.307 183.126 414.307 Q180.95 414.307 178.681 413.937 Q176.436 413.566 174.028 412.826 L174.028 408.127 Q176.112 409.261 178.334 409.817 Q180.556 410.372 183.033 410.372 Q187.038 410.372 189.375 408.266 Q191.713 406.159 191.713 402.548 Q191.713 398.937 189.375 396.83 Q187.038 394.724 183.033 394.724 Q181.158 394.724 179.283 395.141 Q177.431 395.557 175.487 396.437 L175.487 379.076 Z\" fill=\"#000000\" fill-rule=\"nonzero\" fill-opacity=\"1\" /><path clip-path=\"url(#clip130)\" d=\"M114.931 101.161 L122.57 101.161 L122.57 74.7956 L114.26 76.4623 L114.26 72.2031 L122.524 70.5364 L127.2 70.5364 L127.2 101.161 L134.839 101.161 L134.839 105.096 L114.931 105.096 L114.931 101.161 Z\" fill=\"#000000\" fill-rule=\"nonzero\" fill-opacity=\"1\" /><path clip-path=\"url(#clip130)\" d=\"M154.283 73.6151 Q150.672 73.6151 148.843 77.1799 Q147.038 80.7215 147.038 87.8511 Q147.038 94.9576 148.843 98.5224 Q150.672 102.064 154.283 102.064 Q157.917 102.064 159.723 98.5224 Q161.552 94.9576 161.552 87.8511 Q161.552 80.7215 159.723 77.1799 Q157.917 73.6151 154.283 73.6151 M154.283 69.9114 Q160.093 69.9114 163.149 74.5179 Q166.227 79.1012 166.227 87.8511 Q166.227 96.5779 163.149 101.184 Q160.093 105.768 154.283 105.768 Q148.473 105.768 145.394 101.184 Q142.339 96.5779 142.339 87.8511 Q142.339 79.1012 145.394 74.5179 Q148.473 69.9114 154.283 69.9114 Z\" fill=\"#000000\" fill-rule=\"nonzero\" fill-opacity=\"1\" /><path clip-path=\"url(#clip130)\" d=\"M184.445 73.6151 Q180.834 73.6151 179.005 77.1799 Q177.2 80.7215 177.2 87.8511 Q177.2 94.9576 179.005 98.5224 Q180.834 102.064 184.445 102.064 Q188.079 102.064 189.885 98.5224 Q191.713 94.9576 191.713 87.8511 Q191.713 80.7215 189.885 77.1799 Q188.079 73.6151 184.445 73.6151 M184.445 69.9114 Q190.255 69.9114 193.311 74.5179 Q196.389 79.1012 196.389 87.8511 Q196.389 96.5779 193.311 101.184 Q190.255 105.768 184.445 105.768 Q178.635 105.768 175.556 101.184 Q172.501 96.5779 172.501 87.8511 Q172.501 79.1012 175.556 74.5179 Q178.635 69.9114 184.445 69.9114 Z\" fill=\"#000000\" fill-rule=\"nonzero\" fill-opacity=\"1\" /><path clip-path=\"url(#clip130)\" d=\"M16.4842 750.521 L16.4842 720.475 L21.895 720.475 L21.895 744.092 L35.9632 744.092 L35.9632 721.462 L41.3741 721.462 L41.3741 744.092 L58.5933 744.092 L58.5933 719.902 L64.0042 719.902 L64.0042 750.521 L16.4842 750.521 Z\" fill=\"#000000\" fill-rule=\"nonzero\" fill-opacity=\"1\" /><path clip-path=\"url(#clip132)\" d=\"M292.4 1359.99 L286.76 1376.21 L269.576 1376.57 L283.28 1386.97 L278.288 1403.41 L292.4 1393.59 L306.512 1403.41 L301.52 1386.97 L315.224 1376.57 L298.04 1376.21 L292.4 1359.99 Z\" fill=\"#009af9\" fill-rule=\"evenodd\" fill-opacity=\"1\" stroke=\"#000000\" stroke-opacity=\"1\" stroke-width=\"3.2\"/>\n",
       "<path clip-path=\"url(#clip132)\" d=\"M337.862 1359.99 L332.222 1376.21 L315.038 1376.57 L328.742 1386.97 L323.75 1403.41 L337.862 1393.59 L351.974 1403.41 L346.982 1386.97 L360.686 1376.57 L343.502 1376.21 L337.862 1359.99 Z\" fill=\"#009af9\" fill-rule=\"evenodd\" fill-opacity=\"1\" stroke=\"#000000\" stroke-opacity=\"1\" stroke-width=\"3.2\"/>\n",
       "<path clip-path=\"url(#clip132)\" d=\"M383.325 1359.99 L377.685 1376.21 L360.501 1376.57 L374.205 1386.97 L369.213 1403.41 L383.325 1393.59 L397.437 1403.41 L392.445 1386.97 L406.149 1376.57 L388.965 1376.21 L383.325 1359.99 Z\" fill=\"#009af9\" fill-rule=\"evenodd\" fill-opacity=\"1\" stroke=\"#000000\" stroke-opacity=\"1\" stroke-width=\"3.2\"/>\n",
       "<path clip-path=\"url(#clip132)\" d=\"M428.787 1347.21 L423.147 1363.43 L405.963 1363.79 L419.667 1374.19 L414.675 1390.63 L428.787 1380.81 L442.899 1390.63 L437.907 1374.19 L451.611 1363.79 L434.427 1363.43 L428.787 1347.21 Z\" fill=\"#009af9\" fill-rule=\"evenodd\" fill-opacity=\"1\" stroke=\"#000000\" stroke-opacity=\"1\" stroke-width=\"3.2\"/>\n",
       "<path clip-path=\"url(#clip132)\" d=\"M474.249 1347.21 L468.609 1363.43 L451.425 1363.79 L465.129 1374.19 L460.137 1390.63 L474.249 1380.81 L488.361 1390.63 L483.369 1374.19 L497.073 1363.79 L479.889 1363.43 L474.249 1347.21 Z\" fill=\"#009af9\" fill-rule=\"evenodd\" fill-opacity=\"1\" stroke=\"#000000\" stroke-opacity=\"1\" stroke-width=\"3.2\"/>\n",
       "<path clip-path=\"url(#clip132)\" d=\"M519.712 1347.21 L514.072 1363.43 L496.888 1363.79 L510.592 1374.19 L505.6 1390.63 L519.712 1380.81 L533.824 1390.63 L528.832 1374.19 L542.536 1363.79 L525.352 1363.43 L519.712 1347.21 Z\" fill=\"#009af9\" fill-rule=\"evenodd\" fill-opacity=\"1\" stroke=\"#000000\" stroke-opacity=\"1\" stroke-width=\"3.2\"/>\n",
       "<path clip-path=\"url(#clip132)\" d=\"M565.174 1318.16 L559.534 1334.38 L542.35 1334.74 L556.054 1345.14 L551.062 1361.58 L565.174 1351.76 L579.286 1361.58 L574.294 1345.14 L587.998 1334.74 L570.814 1334.38 L565.174 1318.16 Z\" fill=\"#009af9\" fill-rule=\"evenodd\" fill-opacity=\"1\" stroke=\"#000000\" stroke-opacity=\"1\" stroke-width=\"3.2\"/>\n",
       "<path clip-path=\"url(#clip132)\" d=\"M610.637 1318.16 L604.997 1334.38 L587.813 1334.74 L601.517 1345.14 L596.525 1361.58 L610.637 1351.76 L624.749 1361.58 L619.757 1345.14 L633.461 1334.74 L616.277 1334.38 L610.637 1318.16 Z\" fill=\"#009af9\" fill-rule=\"evenodd\" fill-opacity=\"1\" stroke=\"#000000\" stroke-opacity=\"1\" stroke-width=\"3.2\"/>\n",
       "<path clip-path=\"url(#clip132)\" d=\"M656.099 1318.16 L650.459 1334.38 L633.275 1334.74 L646.979 1345.14 L641.987 1361.58 L656.099 1351.76 L670.211 1361.58 L665.219 1345.14 L678.923 1334.74 L661.739 1334.38 L656.099 1318.16 Z\" fill=\"#009af9\" fill-rule=\"evenodd\" fill-opacity=\"1\" stroke=\"#000000\" stroke-opacity=\"1\" stroke-width=\"3.2\"/>\n",
       "<path clip-path=\"url(#clip132)\" d=\"M701.561 1315.43 L695.921 1331.65 L678.737 1332.01 L692.441 1342.4 L687.449 1358.84 L701.561 1349.03 L715.673 1358.84 L710.681 1342.4 L724.385 1332.01 L707.201 1331.65 L701.561 1315.43 Z\" fill=\"#009af9\" fill-rule=\"evenodd\" fill-opacity=\"1\" stroke=\"#000000\" stroke-opacity=\"1\" stroke-width=\"3.2\"/>\n",
       "<path clip-path=\"url(#clip132)\" d=\"M747.024 1315.43 L741.384 1331.65 L724.2 1332.01 L737.904 1342.4 L732.912 1358.84 L747.024 1349.03 L761.136 1358.84 L756.144 1342.4 L769.848 1332.01 L752.664 1331.65 L747.024 1315.43 Z\" fill=\"#009af9\" fill-rule=\"evenodd\" fill-opacity=\"1\" stroke=\"#000000\" stroke-opacity=\"1\" stroke-width=\"3.2\"/>\n",
       "<path clip-path=\"url(#clip132)\" d=\"M792.486 1315.43 L786.846 1331.65 L769.662 1332.01 L783.366 1342.4 L778.374 1358.84 L792.486 1349.03 L806.598 1358.84 L801.606 1342.4 L815.31 1332.01 L798.126 1331.65 L792.486 1315.43 Z\" fill=\"#009af9\" fill-rule=\"evenodd\" fill-opacity=\"1\" stroke=\"#000000\" stroke-opacity=\"1\" stroke-width=\"3.2\"/>\n",
       "<path clip-path=\"url(#clip132)\" d=\"M837.949 1307.01 L832.309 1323.23 L815.125 1323.59 L828.829 1333.99 L823.837 1350.43 L837.949 1340.61 L852.061 1350.43 L847.069 1333.99 L860.773 1323.59 L843.589 1323.23 L837.949 1307.01 Z\" fill=\"#009af9\" fill-rule=\"evenodd\" fill-opacity=\"1\" stroke=\"#000000\" stroke-opacity=\"1\" stroke-width=\"3.2\"/>\n",
       "<path clip-path=\"url(#clip132)\" d=\"M883.411 1307.01 L877.771 1323.23 L860.587 1323.59 L874.291 1333.99 L869.299 1350.43 L883.411 1340.61 L897.523 1350.43 L892.531 1333.99 L906.235 1323.59 L889.051 1323.23 L883.411 1307.01 Z\" fill=\"#009af9\" fill-rule=\"evenodd\" fill-opacity=\"1\" stroke=\"#000000\" stroke-opacity=\"1\" stroke-width=\"3.2\"/>\n",
       "<path clip-path=\"url(#clip132)\" d=\"M928.873 1307.01 L923.233 1323.23 L906.049 1323.59 L919.753 1333.99 L914.761 1350.43 L928.873 1340.61 L942.985 1350.43 L937.993 1333.99 L951.697 1323.59 L934.513 1323.23 L928.873 1307.01 Z\" fill=\"#009af9\" fill-rule=\"evenodd\" fill-opacity=\"1\" stroke=\"#000000\" stroke-opacity=\"1\" stroke-width=\"3.2\"/>\n",
       "<path clip-path=\"url(#clip132)\" d=\"M974.336 1305.87 L968.696 1322.1 L951.512 1322.46 L965.216 1332.85 L960.224 1349.29 L974.336 1339.47 L988.448 1349.29 L983.456 1332.85 L997.16 1322.46 L979.976 1322.1 L974.336 1305.87 Z\" fill=\"#009af9\" fill-rule=\"evenodd\" fill-opacity=\"1\" stroke=\"#000000\" stroke-opacity=\"1\" stroke-width=\"3.2\"/>\n",
       "<path clip-path=\"url(#clip132)\" d=\"M1019.8 1305.87 L1014.16 1322.1 L996.974 1322.46 L1010.68 1332.85 L1005.69 1349.29 L1019.8 1339.47 L1033.91 1349.29 L1028.92 1332.85 L1042.62 1322.46 L1025.44 1322.1 L1019.8 1305.87 Z\" fill=\"#009af9\" fill-rule=\"evenodd\" fill-opacity=\"1\" stroke=\"#000000\" stroke-opacity=\"1\" stroke-width=\"3.2\"/>\n",
       "<path clip-path=\"url(#clip132)\" d=\"M1065.26 1305.87 L1059.62 1322.1 L1042.44 1322.46 L1056.14 1332.85 L1051.15 1349.29 L1065.26 1339.47 L1079.37 1349.29 L1074.38 1332.85 L1088.08 1322.46 L1070.9 1322.1 L1065.26 1305.87 Z\" fill=\"#009af9\" fill-rule=\"evenodd\" fill-opacity=\"1\" stroke=\"#000000\" stroke-opacity=\"1\" stroke-width=\"3.2\"/>\n",
       "<path clip-path=\"url(#clip132)\" d=\"M1110.72 1290.8 L1105.08 1307.02 L1087.9 1307.38 L1101.6 1317.77 L1096.61 1334.21 L1110.72 1324.4 L1124.84 1334.21 L1119.84 1317.77 L1133.55 1307.38 L1116.36 1307.02 L1110.72 1290.8 Z\" fill=\"#009af9\" fill-rule=\"evenodd\" fill-opacity=\"1\" stroke=\"#000000\" stroke-opacity=\"1\" stroke-width=\"3.2\"/>\n",
       "<path clip-path=\"url(#clip132)\" d=\"M1156.19 1290.8 L1150.55 1307.02 L1133.36 1307.38 L1147.07 1317.77 L1142.07 1334.21 L1156.19 1324.4 L1170.3 1334.21 L1165.31 1317.77 L1179.01 1307.38 L1161.83 1307.02 L1156.19 1290.8 Z\" fill=\"#009af9\" fill-rule=\"evenodd\" fill-opacity=\"1\" stroke=\"#000000\" stroke-opacity=\"1\" stroke-width=\"3.2\"/>\n",
       "<path clip-path=\"url(#clip132)\" d=\"M1201.65 1290.8 L1196.01 1307.02 L1178.82 1307.38 L1192.53 1317.77 L1187.54 1334.21 L1201.65 1324.4 L1215.76 1334.21 L1210.77 1317.77 L1224.47 1307.38 L1207.29 1307.02 L1201.65 1290.8 Z\" fill=\"#009af9\" fill-rule=\"evenodd\" fill-opacity=\"1\" stroke=\"#000000\" stroke-opacity=\"1\" stroke-width=\"3.2\"/>\n",
       "<path clip-path=\"url(#clip132)\" d=\"M1247.11 1280.52 L1241.47 1296.74 L1224.29 1297.1 L1237.99 1307.5 L1233 1323.94 L1247.11 1314.12 L1261.22 1323.94 L1256.23 1307.5 L1269.93 1297.1 L1252.75 1296.74 L1247.11 1280.52 Z\" fill=\"#009af9\" fill-rule=\"evenodd\" fill-opacity=\"1\" stroke=\"#000000\" stroke-opacity=\"1\" stroke-width=\"3.2\"/>\n",
       "<path clip-path=\"url(#clip132)\" d=\"M1292.57 1280.52 L1286.93 1296.74 L1269.75 1297.1 L1283.45 1307.5 L1278.46 1323.94 L1292.57 1314.12 L1306.68 1323.94 L1301.69 1307.5 L1315.4 1297.1 L1298.21 1296.74 L1292.57 1280.52 Z\" fill=\"#009af9\" fill-rule=\"evenodd\" fill-opacity=\"1\" stroke=\"#000000\" stroke-opacity=\"1\" stroke-width=\"3.2\"/>\n",
       "<path clip-path=\"url(#clip132)\" d=\"M1338.04 1280.52 L1332.4 1296.74 L1315.21 1297.1 L1328.92 1307.5 L1323.92 1323.94 L1338.04 1314.12 L1352.15 1323.94 L1347.16 1307.5 L1360.86 1297.1 L1343.68 1296.74 L1338.04 1280.52 Z\" fill=\"#009af9\" fill-rule=\"evenodd\" fill-opacity=\"1\" stroke=\"#000000\" stroke-opacity=\"1\" stroke-width=\"3.2\"/>\n",
       "<path clip-path=\"url(#clip132)\" d=\"M1383.5 1276.73 L1377.86 1292.95 L1360.67 1293.31 L1374.38 1303.7 L1369.39 1320.14 L1383.5 1310.33 L1397.61 1320.14 L1392.62 1303.7 L1406.32 1293.31 L1389.14 1292.95 L1383.5 1276.73 Z\" fill=\"#009af9\" fill-rule=\"evenodd\" fill-opacity=\"1\" stroke=\"#000000\" stroke-opacity=\"1\" stroke-width=\"3.2\"/>\n",
       "<path clip-path=\"url(#clip132)\" d=\"M1428.96 1276.73 L1423.32 1292.95 L1406.14 1293.31 L1419.84 1303.7 L1414.85 1320.14 L1428.96 1310.33 L1443.07 1320.14 L1438.08 1303.7 L1451.78 1293.31 L1434.6 1292.95 L1428.96 1276.73 Z\" fill=\"#009af9\" fill-rule=\"evenodd\" fill-opacity=\"1\" stroke=\"#000000\" stroke-opacity=\"1\" stroke-width=\"3.2\"/>\n",
       "<path clip-path=\"url(#clip132)\" d=\"M1474.42 1276.73 L1468.78 1292.95 L1451.6 1293.31 L1465.3 1303.7 L1460.31 1320.14 L1474.42 1310.33 L1488.53 1320.14 L1483.54 1303.7 L1497.25 1293.31 L1480.06 1292.95 L1474.42 1276.73 Z\" fill=\"#009af9\" fill-rule=\"evenodd\" fill-opacity=\"1\" stroke=\"#000000\" stroke-opacity=\"1\" stroke-width=\"3.2\"/>\n",
       "<path clip-path=\"url(#clip132)\" d=\"M1519.88 1264.26 L1514.24 1280.48 L1497.06 1280.84 L1510.76 1291.23 L1505.77 1307.67 L1519.88 1297.86 L1534 1307.67 L1529 1291.23 L1542.71 1280.84 L1525.52 1280.48 L1519.88 1264.26 Z\" fill=\"#009af9\" fill-rule=\"evenodd\" fill-opacity=\"1\" stroke=\"#000000\" stroke-opacity=\"1\" stroke-width=\"3.2\"/>\n",
       "<path clip-path=\"url(#clip132)\" d=\"M1565.35 1264.26 L1559.71 1280.48 L1542.52 1280.84 L1556.23 1291.23 L1551.24 1307.67 L1565.35 1297.86 L1579.46 1307.67 L1574.47 1291.23 L1588.17 1280.84 L1570.99 1280.48 L1565.35 1264.26 Z\" fill=\"#009af9\" fill-rule=\"evenodd\" fill-opacity=\"1\" stroke=\"#000000\" stroke-opacity=\"1\" stroke-width=\"3.2\"/>\n",
       "<path clip-path=\"url(#clip132)\" d=\"M1610.81 1264.26 L1605.17 1280.48 L1587.99 1280.84 L1601.69 1291.23 L1596.7 1307.67 L1610.81 1297.86 L1624.92 1307.67 L1619.93 1291.23 L1633.63 1280.84 L1616.45 1280.48 L1610.81 1264.26 Z\" fill=\"#009af9\" fill-rule=\"evenodd\" fill-opacity=\"1\" stroke=\"#000000\" stroke-opacity=\"1\" stroke-width=\"3.2\"/>\n",
       "<path clip-path=\"url(#clip132)\" d=\"M1656.27 1256.67 L1650.63 1272.89 L1633.45 1273.25 L1647.15 1283.65 L1642.16 1300.09 L1656.27 1290.27 L1670.38 1300.09 L1665.39 1283.65 L1679.1 1273.25 L1661.91 1272.89 L1656.27 1256.67 Z\" fill=\"#009af9\" fill-rule=\"evenodd\" fill-opacity=\"1\" stroke=\"#000000\" stroke-opacity=\"1\" stroke-width=\"3.2\"/>\n",
       "<path clip-path=\"url(#clip132)\" d=\"M1701.73 1256.67 L1696.09 1272.89 L1678.91 1273.25 L1692.61 1283.65 L1687.62 1300.09 L1701.73 1290.27 L1715.85 1300.09 L1710.85 1283.65 L1724.56 1273.25 L1707.37 1272.89 L1701.73 1256.67 Z\" fill=\"#009af9\" fill-rule=\"evenodd\" fill-opacity=\"1\" stroke=\"#000000\" stroke-opacity=\"1\" stroke-width=\"3.2\"/>\n",
       "<path clip-path=\"url(#clip132)\" d=\"M1747.2 1256.67 L1741.56 1272.89 L1724.37 1273.25 L1738.08 1283.65 L1733.08 1300.09 L1747.2 1290.27 L1761.31 1300.09 L1756.32 1283.65 L1770.02 1273.25 L1752.84 1272.89 L1747.2 1256.67 Z\" fill=\"#009af9\" fill-rule=\"evenodd\" fill-opacity=\"1\" stroke=\"#000000\" stroke-opacity=\"1\" stroke-width=\"3.2\"/>\n",
       "<path clip-path=\"url(#clip132)\" d=\"M1792.66 1253.05 L1787.02 1269.28 L1769.84 1269.64 L1783.54 1280.03 L1778.55 1296.47 L1792.66 1286.65 L1806.77 1296.47 L1801.78 1280.03 L1815.48 1269.64 L1798.3 1269.28 L1792.66 1253.05 Z\" fill=\"#009af9\" fill-rule=\"evenodd\" fill-opacity=\"1\" stroke=\"#000000\" stroke-opacity=\"1\" stroke-width=\"3.2\"/>\n",
       "<path clip-path=\"url(#clip132)\" d=\"M1838.12 1253.05 L1832.48 1269.28 L1815.3 1269.64 L1829 1280.03 L1824.01 1296.47 L1838.12 1286.65 L1852.23 1296.47 L1847.24 1280.03 L1860.95 1269.64 L1843.76 1269.28 L1838.12 1253.05 Z\" fill=\"#009af9\" fill-rule=\"evenodd\" fill-opacity=\"1\" stroke=\"#000000\" stroke-opacity=\"1\" stroke-width=\"3.2\"/>\n",
       "<path clip-path=\"url(#clip132)\" d=\"M1883.58 1253.05 L1877.94 1269.28 L1860.76 1269.64 L1874.46 1280.03 L1869.47 1296.47 L1883.58 1286.65 L1897.7 1296.47 L1892.7 1280.03 L1906.41 1269.64 L1889.22 1269.28 L1883.58 1253.05 Z\" fill=\"#009af9\" fill-rule=\"evenodd\" fill-opacity=\"1\" stroke=\"#000000\" stroke-opacity=\"1\" stroke-width=\"3.2\"/>\n",
       "<circle clip-path=\"url(#clip132)\" cx=\"292.4\" cy=\"1384.24\" r=\"14.4\" fill=\"#e26f46\" fill-rule=\"evenodd\" fill-opacity=\"1\" stroke=\"#000000\" stroke-opacity=\"1\" stroke-width=\"3.2\"/>\n",
       "<circle clip-path=\"url(#clip132)\" cx=\"337.862\" cy=\"1384.24\" r=\"14.4\" fill=\"#e26f46\" fill-rule=\"evenodd\" fill-opacity=\"1\" stroke=\"#000000\" stroke-opacity=\"1\" stroke-width=\"3.2\"/>\n",
       "<circle clip-path=\"url(#clip132)\" cx=\"383.325\" cy=\"1384.24\" r=\"14.4\" fill=\"#e26f46\" fill-rule=\"evenodd\" fill-opacity=\"1\" stroke=\"#000000\" stroke-opacity=\"1\" stroke-width=\"3.2\"/>\n",
       "<circle clip-path=\"url(#clip132)\" cx=\"428.787\" cy=\"1371.92\" r=\"14.4\" fill=\"#e26f46\" fill-rule=\"evenodd\" fill-opacity=\"1\" stroke=\"#000000\" stroke-opacity=\"1\" stroke-width=\"3.2\"/>\n",
       "<circle clip-path=\"url(#clip132)\" cx=\"474.249\" cy=\"1371.92\" r=\"14.4\" fill=\"#e26f46\" fill-rule=\"evenodd\" fill-opacity=\"1\" stroke=\"#000000\" stroke-opacity=\"1\" stroke-width=\"3.2\"/>\n",
       "<circle clip-path=\"url(#clip132)\" cx=\"519.712\" cy=\"1371.92\" r=\"14.4\" fill=\"#e26f46\" fill-rule=\"evenodd\" fill-opacity=\"1\" stroke=\"#000000\" stroke-opacity=\"1\" stroke-width=\"3.2\"/>\n",
       "<circle clip-path=\"url(#clip132)\" cx=\"565.174\" cy=\"1342.23\" r=\"14.4\" fill=\"#e26f46\" fill-rule=\"evenodd\" fill-opacity=\"1\" stroke=\"#000000\" stroke-opacity=\"1\" stroke-width=\"3.2\"/>\n",
       "<circle clip-path=\"url(#clip132)\" cx=\"610.637\" cy=\"1342.23\" r=\"14.4\" fill=\"#e26f46\" fill-rule=\"evenodd\" fill-opacity=\"1\" stroke=\"#000000\" stroke-opacity=\"1\" stroke-width=\"3.2\"/>\n",
       "<circle clip-path=\"url(#clip132)\" cx=\"656.099\" cy=\"1342.23\" r=\"14.4\" fill=\"#e26f46\" fill-rule=\"evenodd\" fill-opacity=\"1\" stroke=\"#000000\" stroke-opacity=\"1\" stroke-width=\"3.2\"/>\n",
       "<circle clip-path=\"url(#clip132)\" cx=\"701.561\" cy=\"1339.5\" r=\"14.4\" fill=\"#e26f46\" fill-rule=\"evenodd\" fill-opacity=\"1\" stroke=\"#000000\" stroke-opacity=\"1\" stroke-width=\"3.2\"/>\n",
       "<circle clip-path=\"url(#clip132)\" cx=\"747.024\" cy=\"1339.5\" r=\"14.4\" fill=\"#e26f46\" fill-rule=\"evenodd\" fill-opacity=\"1\" stroke=\"#000000\" stroke-opacity=\"1\" stroke-width=\"3.2\"/>\n",
       "<circle clip-path=\"url(#clip132)\" cx=\"792.486\" cy=\"1339.5\" r=\"14.4\" fill=\"#e26f46\" fill-rule=\"evenodd\" fill-opacity=\"1\" stroke=\"#000000\" stroke-opacity=\"1\" stroke-width=\"3.2\"/>\n",
       "<circle clip-path=\"url(#clip132)\" cx=\"837.949\" cy=\"1331.01\" r=\"14.4\" fill=\"#e26f46\" fill-rule=\"evenodd\" fill-opacity=\"1\" stroke=\"#000000\" stroke-opacity=\"1\" stroke-width=\"3.2\"/>\n",
       "<circle clip-path=\"url(#clip132)\" cx=\"883.411\" cy=\"1331.01\" r=\"14.4\" fill=\"#e26f46\" fill-rule=\"evenodd\" fill-opacity=\"1\" stroke=\"#000000\" stroke-opacity=\"1\" stroke-width=\"3.2\"/>\n",
       "<circle clip-path=\"url(#clip132)\" cx=\"928.873\" cy=\"1331.01\" r=\"14.4\" fill=\"#e26f46\" fill-rule=\"evenodd\" fill-opacity=\"1\" stroke=\"#000000\" stroke-opacity=\"1\" stroke-width=\"3.2\"/>\n",
       "<circle clip-path=\"url(#clip132)\" cx=\"974.336\" cy=\"1330.64\" r=\"14.4\" fill=\"#e26f46\" fill-rule=\"evenodd\" fill-opacity=\"1\" stroke=\"#000000\" stroke-opacity=\"1\" stroke-width=\"3.2\"/>\n",
       "<circle clip-path=\"url(#clip132)\" cx=\"1019.8\" cy=\"1330.64\" r=\"14.4\" fill=\"#e26f46\" fill-rule=\"evenodd\" fill-opacity=\"1\" stroke=\"#000000\" stroke-opacity=\"1\" stroke-width=\"3.2\"/>\n",
       "<circle clip-path=\"url(#clip132)\" cx=\"1065.26\" cy=\"1330.64\" r=\"14.4\" fill=\"#e26f46\" fill-rule=\"evenodd\" fill-opacity=\"1\" stroke=\"#000000\" stroke-opacity=\"1\" stroke-width=\"3.2\"/>\n",
       "<circle clip-path=\"url(#clip132)\" cx=\"1110.72\" cy=\"1315.02\" r=\"14.4\" fill=\"#e26f46\" fill-rule=\"evenodd\" fill-opacity=\"1\" stroke=\"#000000\" stroke-opacity=\"1\" stroke-width=\"3.2\"/>\n",
       "<circle clip-path=\"url(#clip132)\" cx=\"1156.19\" cy=\"1315.02\" r=\"14.4\" fill=\"#e26f46\" fill-rule=\"evenodd\" fill-opacity=\"1\" stroke=\"#000000\" stroke-opacity=\"1\" stroke-width=\"3.2\"/>\n",
       "<circle clip-path=\"url(#clip132)\" cx=\"1201.65\" cy=\"1315.02\" r=\"14.4\" fill=\"#e26f46\" fill-rule=\"evenodd\" fill-opacity=\"1\" stroke=\"#000000\" stroke-opacity=\"1\" stroke-width=\"3.2\"/>\n",
       "<circle clip-path=\"url(#clip132)\" cx=\"1247.11\" cy=\"1304.95\" r=\"14.4\" fill=\"#e26f46\" fill-rule=\"evenodd\" fill-opacity=\"1\" stroke=\"#000000\" stroke-opacity=\"1\" stroke-width=\"3.2\"/>\n",
       "<circle clip-path=\"url(#clip132)\" cx=\"1292.57\" cy=\"1304.95\" r=\"14.4\" fill=\"#e26f46\" fill-rule=\"evenodd\" fill-opacity=\"1\" stroke=\"#000000\" stroke-opacity=\"1\" stroke-width=\"3.2\"/>\n",
       "<circle clip-path=\"url(#clip132)\" cx=\"1338.04\" cy=\"1304.95\" r=\"14.4\" fill=\"#e26f46\" fill-rule=\"evenodd\" fill-opacity=\"1\" stroke=\"#000000\" stroke-opacity=\"1\" stroke-width=\"3.2\"/>\n",
       "<circle clip-path=\"url(#clip132)\" cx=\"1383.5\" cy=\"1300.8\" r=\"14.4\" fill=\"#e26f46\" fill-rule=\"evenodd\" fill-opacity=\"1\" stroke=\"#000000\" stroke-opacity=\"1\" stroke-width=\"3.2\"/>\n",
       "<circle clip-path=\"url(#clip132)\" cx=\"1428.96\" cy=\"1300.8\" r=\"14.4\" fill=\"#e26f46\" fill-rule=\"evenodd\" fill-opacity=\"1\" stroke=\"#000000\" stroke-opacity=\"1\" stroke-width=\"3.2\"/>\n",
       "<circle clip-path=\"url(#clip132)\" cx=\"1474.42\" cy=\"1300.8\" r=\"14.4\" fill=\"#e26f46\" fill-rule=\"evenodd\" fill-opacity=\"1\" stroke=\"#000000\" stroke-opacity=\"1\" stroke-width=\"3.2\"/>\n",
       "<circle clip-path=\"url(#clip132)\" cx=\"1519.88\" cy=\"1288.26\" r=\"14.4\" fill=\"#e26f46\" fill-rule=\"evenodd\" fill-opacity=\"1\" stroke=\"#000000\" stroke-opacity=\"1\" stroke-width=\"3.2\"/>\n",
       "<circle clip-path=\"url(#clip132)\" cx=\"1565.35\" cy=\"1288.26\" r=\"14.4\" fill=\"#e26f46\" fill-rule=\"evenodd\" fill-opacity=\"1\" stroke=\"#000000\" stroke-opacity=\"1\" stroke-width=\"3.2\"/>\n",
       "<circle clip-path=\"url(#clip132)\" cx=\"1610.81\" cy=\"1288.26\" r=\"14.4\" fill=\"#e26f46\" fill-rule=\"evenodd\" fill-opacity=\"1\" stroke=\"#000000\" stroke-opacity=\"1\" stroke-width=\"3.2\"/>\n",
       "<circle clip-path=\"url(#clip132)\" cx=\"1656.27\" cy=\"1280.93\" r=\"14.4\" fill=\"#e26f46\" fill-rule=\"evenodd\" fill-opacity=\"1\" stroke=\"#000000\" stroke-opacity=\"1\" stroke-width=\"3.2\"/>\n",
       "<circle clip-path=\"url(#clip132)\" cx=\"1701.73\" cy=\"1280.93\" r=\"14.4\" fill=\"#e26f46\" fill-rule=\"evenodd\" fill-opacity=\"1\" stroke=\"#000000\" stroke-opacity=\"1\" stroke-width=\"3.2\"/>\n",
       "<circle clip-path=\"url(#clip132)\" cx=\"1747.2\" cy=\"1280.93\" r=\"14.4\" fill=\"#e26f46\" fill-rule=\"evenodd\" fill-opacity=\"1\" stroke=\"#000000\" stroke-opacity=\"1\" stroke-width=\"3.2\"/>\n",
       "<circle clip-path=\"url(#clip132)\" cx=\"1792.66\" cy=\"1277.13\" r=\"14.4\" fill=\"#e26f46\" fill-rule=\"evenodd\" fill-opacity=\"1\" stroke=\"#000000\" stroke-opacity=\"1\" stroke-width=\"3.2\"/>\n",
       "<circle clip-path=\"url(#clip132)\" cx=\"1838.12\" cy=\"1277.13\" r=\"14.4\" fill=\"#e26f46\" fill-rule=\"evenodd\" fill-opacity=\"1\" stroke=\"#000000\" stroke-opacity=\"1\" stroke-width=\"3.2\"/>\n",
       "<circle clip-path=\"url(#clip132)\" cx=\"1883.58\" cy=\"1277.13\" r=\"14.4\" fill=\"#e26f46\" fill-rule=\"evenodd\" fill-opacity=\"1\" stroke=\"#000000\" stroke-opacity=\"1\" stroke-width=\"3.2\"/>\n",
       "<circle clip-path=\"url(#clip132)\" cx=\"1929.05\" cy=\"87.3179\" r=\"14.4\" fill=\"#e26f46\" fill-rule=\"evenodd\" fill-opacity=\"1\" stroke=\"#000000\" stroke-opacity=\"1\" stroke-width=\"3.2\"/>\n",
       "<circle clip-path=\"url(#clip132)\" cx=\"1974.51\" cy=\"87.3179\" r=\"14.4\" fill=\"#e26f46\" fill-rule=\"evenodd\" fill-opacity=\"1\" stroke=\"#000000\" stroke-opacity=\"1\" stroke-width=\"3.2\"/>\n",
       "<circle clip-path=\"url(#clip132)\" cx=\"2019.97\" cy=\"87.3179\" r=\"14.4\" fill=\"#e26f46\" fill-rule=\"evenodd\" fill-opacity=\"1\" stroke=\"#000000\" stroke-opacity=\"1\" stroke-width=\"3.2\"/>\n",
       "<circle clip-path=\"url(#clip132)\" cx=\"2065.43\" cy=\"87.0138\" r=\"14.4\" fill=\"#e26f46\" fill-rule=\"evenodd\" fill-opacity=\"1\" stroke=\"#000000\" stroke-opacity=\"1\" stroke-width=\"3.2\"/>\n",
       "<circle clip-path=\"url(#clip132)\" cx=\"2110.9\" cy=\"87.0138\" r=\"14.4\" fill=\"#e26f46\" fill-rule=\"evenodd\" fill-opacity=\"1\" stroke=\"#000000\" stroke-opacity=\"1\" stroke-width=\"3.2\"/>\n",
       "<circle clip-path=\"url(#clip132)\" cx=\"2156.36\" cy=\"87.0138\" r=\"14.4\" fill=\"#e26f46\" fill-rule=\"evenodd\" fill-opacity=\"1\" stroke=\"#000000\" stroke-opacity=\"1\" stroke-width=\"3.2\"/>\n",
       "<circle clip-path=\"url(#clip132)\" cx=\"2201.82\" cy=\"86.1857\" r=\"14.4\" fill=\"#e26f46\" fill-rule=\"evenodd\" fill-opacity=\"1\" stroke=\"#000000\" stroke-opacity=\"1\" stroke-width=\"3.2\"/>\n",
       "<circle clip-path=\"url(#clip132)\" cx=\"2247.28\" cy=\"86.1857\" r=\"14.4\" fill=\"#e26f46\" fill-rule=\"evenodd\" fill-opacity=\"1\" stroke=\"#000000\" stroke-opacity=\"1\" stroke-width=\"3.2\"/>\n",
       "<circle clip-path=\"url(#clip132)\" cx=\"2292.75\" cy=\"86.1857\" r=\"14.4\" fill=\"#e26f46\" fill-rule=\"evenodd\" fill-opacity=\"1\" stroke=\"#000000\" stroke-opacity=\"1\" stroke-width=\"3.2\"/>\n",
       "<path clip-path=\"url(#clip130)\" d=\"M303.068 248.629 L748.205 248.629 L748.205 93.1086 L303.068 93.1086  Z\" fill=\"#ffffff\" fill-rule=\"evenodd\" fill-opacity=\"1\"/>\n",
       "<polyline clip-path=\"url(#clip130)\" style=\"stroke:#000000; stroke-linecap:round; stroke-linejoin:round; stroke-width:4; stroke-opacity:1; fill:none\" points=\"303.068,248.629 748.205,248.629 748.205,93.1086 303.068,93.1086 303.068,248.629 \"/>\n",
       "<path clip-path=\"url(#clip130)\" d=\"M397.307 119.349 L391.291 136.654 L372.961 137.038 L387.579 148.123 L382.254 165.659 L397.307 155.189 L412.36 165.659 L407.035 148.123 L421.652 137.038 L403.323 136.654 L397.307 119.349 Z\" fill=\"#009af9\" fill-rule=\"evenodd\" fill-opacity=\"1\" stroke=\"#000000\" stroke-opacity=\"1\" stroke-width=\"3.41333\"/>\n",
       "<path clip-path=\"url(#clip130)\" d=\"M491.545 127.669 L496.221 127.669 L496.221 141.835 L513.212 141.835 L513.212 127.669 L517.888 127.669 L517.888 162.229 L513.212 162.229 L513.212 145.77 L496.221 145.77 L496.221 162.229 L491.545 162.229 L491.545 127.669 Z\" fill=\"#000000\" fill-rule=\"nonzero\" fill-opacity=\"1\" /><path clip-path=\"url(#clip130)\" d=\"M538.79 149.196 Q533.628 149.196 531.638 150.377 Q529.647 151.557 529.647 154.405 Q529.647 156.673 531.128 158.016 Q532.633 159.335 535.202 159.335 Q538.744 159.335 540.874 156.835 Q543.026 154.312 543.026 150.145 L543.026 149.196 L538.79 149.196 M547.286 147.437 L547.286 162.229 L543.026 162.229 L543.026 158.293 Q541.568 160.655 539.392 161.789 Q537.216 162.9 534.068 162.9 Q530.087 162.9 527.726 160.678 Q525.388 158.432 525.388 154.682 Q525.388 150.307 528.304 148.085 Q531.244 145.863 537.054 145.863 L543.026 145.863 L543.026 145.446 Q543.026 142.507 541.082 140.909 Q539.161 139.289 535.665 139.289 Q533.443 139.289 531.337 139.821 Q529.23 140.354 527.286 141.419 L527.286 137.483 Q529.624 136.581 531.823 136.141 Q534.022 135.678 536.105 135.678 Q541.73 135.678 544.508 138.594 Q547.286 141.511 547.286 147.437 Z\" fill=\"#000000\" fill-rule=\"nonzero\" fill-opacity=\"1\" /><path clip-path=\"url(#clip130)\" d=\"M571.082 140.284 Q570.364 139.868 569.508 139.682 Q568.674 139.474 567.656 139.474 Q564.045 139.474 562.1 141.835 Q560.179 144.173 560.179 148.571 L560.179 162.229 L555.897 162.229 L555.897 136.303 L560.179 136.303 L560.179 140.331 Q561.522 137.969 563.675 136.835 Q565.827 135.678 568.906 135.678 Q569.346 135.678 569.878 135.747 Q570.411 135.794 571.059 135.909 L571.082 140.284 Z\" fill=\"#000000\" fill-rule=\"nonzero\" fill-opacity=\"1\" /><path clip-path=\"url(#clip130)\" d=\"M591.776 140.238 L591.776 126.21 L596.035 126.21 L596.035 162.229 L591.776 162.229 L591.776 158.34 Q590.434 160.655 588.373 161.789 Q586.336 162.9 583.466 162.9 Q578.767 162.9 575.804 159.15 Q572.864 155.4 572.864 149.289 Q572.864 143.178 575.804 139.428 Q578.767 135.678 583.466 135.678 Q586.336 135.678 588.373 136.812 Q590.434 137.923 591.776 140.238 M577.262 149.289 Q577.262 153.988 579.184 156.673 Q581.128 159.335 584.508 159.335 Q587.887 159.335 589.832 156.673 Q591.776 153.988 591.776 149.289 Q591.776 144.59 589.832 141.928 Q587.887 139.243 584.508 139.243 Q581.128 139.243 579.184 141.928 Q577.262 144.59 577.262 149.289 Z\" fill=\"#000000\" fill-rule=\"nonzero\" fill-opacity=\"1\" /><path clip-path=\"url(#clip130)\" d=\"M602.656 147.344 L615.133 147.344 L615.133 151.141 L602.656 151.141 L602.656 147.344 Z\" fill=\"#000000\" fill-rule=\"nonzero\" fill-opacity=\"1\" /><path clip-path=\"url(#clip130)\" d=\"M647.98 130.331 L647.98 135.261 Q645.619 133.062 642.933 131.974 Q640.271 130.886 637.262 130.886 Q631.336 130.886 628.188 134.52 Q625.04 138.132 625.04 144.983 Q625.04 151.812 628.188 155.446 Q631.336 159.057 637.262 159.057 Q640.271 159.057 642.933 157.969 Q645.619 156.881 647.98 154.682 L647.98 159.567 Q645.526 161.233 642.771 162.067 Q640.04 162.9 636.984 162.9 Q629.137 162.9 624.623 158.108 Q620.109 153.293 620.109 144.983 Q620.109 136.65 624.623 131.858 Q629.137 127.044 636.984 127.044 Q640.086 127.044 642.818 127.877 Q645.572 128.687 647.98 130.331 Z\" fill=\"#000000\" fill-rule=\"nonzero\" fill-opacity=\"1\" /><path clip-path=\"url(#clip130)\" d=\"M665.063 139.289 Q661.637 139.289 659.646 141.974 Q657.655 144.636 657.655 149.289 Q657.655 153.942 659.623 156.627 Q661.614 159.289 665.063 159.289 Q668.466 159.289 670.456 156.604 Q672.447 153.918 672.447 149.289 Q672.447 144.682 670.456 141.997 Q668.466 139.289 665.063 139.289 M665.063 135.678 Q670.618 135.678 673.79 139.289 Q676.961 142.9 676.961 149.289 Q676.961 155.655 673.79 159.289 Q670.618 162.9 665.063 162.9 Q659.484 162.9 656.313 159.289 Q653.165 155.655 653.165 149.289 Q653.165 142.9 656.313 139.289 Q659.484 135.678 665.063 135.678 Z\" fill=\"#000000\" fill-rule=\"nonzero\" fill-opacity=\"1\" /><path clip-path=\"url(#clip130)\" d=\"M699.044 140.284 Q698.327 139.868 697.47 139.682 Q696.637 139.474 695.618 139.474 Q692.007 139.474 690.063 141.835 Q688.141 144.173 688.141 148.571 L688.141 162.229 L683.859 162.229 L683.859 136.303 L688.141 136.303 L688.141 140.331 Q689.484 137.969 691.637 136.835 Q693.79 135.678 696.868 135.678 Q697.308 135.678 697.84 135.747 Q698.373 135.794 699.021 135.909 L699.044 140.284 Z\" fill=\"#000000\" fill-rule=\"nonzero\" fill-opacity=\"1\" /><path clip-path=\"url(#clip130)\" d=\"M724.646 148.201 L724.646 150.284 L705.063 150.284 Q705.34 154.682 707.702 156.997 Q710.086 159.289 714.322 159.289 Q716.776 159.289 719.067 158.687 Q721.382 158.085 723.65 156.881 L723.65 160.909 Q721.359 161.881 718.951 162.391 Q716.544 162.9 714.067 162.9 Q707.864 162.9 704.229 159.289 Q700.618 155.678 700.618 149.52 Q700.618 143.155 704.044 139.428 Q707.493 135.678 713.326 135.678 Q718.558 135.678 721.59 139.057 Q724.646 142.414 724.646 148.201 M720.387 146.951 Q720.34 143.456 718.419 141.372 Q716.521 139.289 713.373 139.289 Q709.808 139.289 707.655 141.303 Q705.526 143.317 705.202 146.974 L720.387 146.951 Z\" fill=\"#000000\" fill-rule=\"nonzero\" fill-opacity=\"1\" /><circle clip-path=\"url(#clip130)\" cx=\"397.307\" cy=\"196.789\" r=\"23.04\" fill=\"#e26f46\" fill-rule=\"evenodd\" fill-opacity=\"1\" stroke=\"#000000\" stroke-opacity=\"1\" stroke-width=\"5.12\"/>\n",
       "<path clip-path=\"url(#clip130)\" d=\"M491.545 179.509 L511.406 179.509 L511.406 183.444 L496.221 183.444 L496.221 193.629 L509.925 193.629 L509.925 197.564 L496.221 197.564 L496.221 214.069 L491.545 214.069 L491.545 179.509 Z\" fill=\"#000000\" fill-rule=\"nonzero\" fill-opacity=\"1\" /><path clip-path=\"url(#clip130)\" d=\"M515.179 188.143 L519.439 188.143 L519.439 214.069 L515.179 214.069 L515.179 188.143 M515.179 178.05 L519.439 178.05 L519.439 183.444 L515.179 183.444 L515.179 178.05 Z\" fill=\"#000000\" fill-rule=\"nonzero\" fill-opacity=\"1\" /><path clip-path=\"url(#clip130)\" d=\"M549.901 198.421 L549.901 214.069 L545.642 214.069 L545.642 198.559 Q545.642 194.879 544.207 193.05 Q542.772 191.222 539.901 191.222 Q536.452 191.222 534.462 193.421 Q532.471 195.62 532.471 199.416 L532.471 214.069 L528.189 214.069 L528.189 188.143 L532.471 188.143 L532.471 192.171 Q533.999 189.833 536.059 188.675 Q538.142 187.518 540.851 187.518 Q545.318 187.518 547.61 190.296 Q549.901 193.05 549.901 198.421 Z\" fill=\"#000000\" fill-rule=\"nonzero\" fill-opacity=\"1\" /><path clip-path=\"url(#clip130)\" d=\"M558.397 188.143 L562.656 188.143 L562.656 214.069 L558.397 214.069 L558.397 188.143 M558.397 178.05 L562.656 178.05 L562.656 183.444 L558.397 183.444 L558.397 178.05 Z\" fill=\"#000000\" fill-rule=\"nonzero\" fill-opacity=\"1\" /><path clip-path=\"url(#clip130)\" d=\"M575.781 180.782 L575.781 188.143 L584.554 188.143 L584.554 191.453 L575.781 191.453 L575.781 205.527 Q575.781 208.698 576.637 209.601 Q577.517 210.504 580.179 210.504 L584.554 210.504 L584.554 214.069 L580.179 214.069 Q575.249 214.069 573.374 212.24 Q571.499 210.388 571.499 205.527 L571.499 191.453 L568.374 191.453 L568.374 188.143 L571.499 188.143 L571.499 180.782 L575.781 180.782 Z\" fill=\"#000000\" fill-rule=\"nonzero\" fill-opacity=\"1\" /><path clip-path=\"url(#clip130)\" d=\"M612.332 200.041 L612.332 202.124 L592.748 202.124 Q593.026 206.522 595.387 208.837 Q597.772 211.129 602.008 211.129 Q604.461 211.129 606.753 210.527 Q609.068 209.925 611.336 208.721 L611.336 212.749 Q609.045 213.721 606.637 214.231 Q604.23 214.74 601.753 214.74 Q595.549 214.74 591.915 211.129 Q588.304 207.518 588.304 201.36 Q588.304 194.995 591.73 191.268 Q595.179 187.518 601.012 187.518 Q606.244 187.518 609.276 190.897 Q612.332 194.254 612.332 200.041 M608.072 198.791 Q608.026 195.296 606.105 193.212 Q604.207 191.129 601.059 191.129 Q597.494 191.129 595.341 193.143 Q593.211 195.157 592.887 198.814 L608.072 198.791 Z\" fill=\"#000000\" fill-rule=\"nonzero\" fill-opacity=\"1\" /><path clip-path=\"url(#clip130)\" d=\"M617.17 199.184 L629.646 199.184 L629.646 202.981 L617.17 202.981 L617.17 199.184 Z\" fill=\"#000000\" fill-rule=\"nonzero\" fill-opacity=\"1\" /><path clip-path=\"url(#clip130)\" d=\"M636.082 179.509 L640.781 179.509 L640.781 200.504 Q640.781 206.059 642.794 208.513 Q644.808 210.944 649.322 210.944 Q653.813 210.944 655.827 208.513 Q657.841 206.059 657.841 200.504 L657.841 179.509 L662.54 179.509 L662.54 201.083 Q662.54 207.842 659.183 211.291 Q655.85 214.74 649.322 214.74 Q642.771 214.74 639.415 211.291 Q636.082 207.842 636.082 201.083 L636.082 179.509 Z\" fill=\"#000000\" fill-rule=\"nonzero\" fill-opacity=\"1\" /></svg>\n"
      ]
     },
     "execution_count": 86,
     "metadata": {},
     "output_type": "execute_result"
    }
   ],
   "source": [
    "using Plots\n",
    "\n",
    "U = 100\n",
    "\n",
    "E1 = eigenenergies(dense(Hofstadter_Hard_Core(Nx, Ny, alpha, PN, U)))\n",
    "E2 = eigenenergies(dense(Hofstadter_Finite_U(Nx, Ny, alpha, PN, U)))\n",
    "\n",
    "plot(1:length(E1), E1, seriestype=:scatter, markershape=:star5, markersize=6, label=\"Hard-Core\")\n",
    "plot!(1:length(E2), E2, seriestype=:scatter, label=\"Finite-U\")\n",
    "\n",
    "xlabel!(\"n\");ylabel!(\"E\")"
   ]
  },
  {
   "cell_type": "markdown",
   "id": "graphic-flash",
   "metadata": {},
   "source": [
    "# CHERN (INTERACTING CASE)"
   ]
  },
  {
   "cell_type": "code",
   "execution_count": 88,
   "id": "accepting-michigan",
   "metadata": {},
   "outputs": [
    {
     "data": {
      "text/plain": [
       "45-element Vector{Float64}:\n",
       " -5.340971176014521\n",
       " -5.340971176014518\n",
       " -5.340971176014505\n",
       " -5.066168265618831\n",
       " -5.066168265618825\n",
       " -5.066168265618825\n",
       " -1.8128503544788694\n",
       " -1.8128503544788686\n",
       " -1.812850354478868\n",
       " -1.7045703369311707\n",
       " -1.7045703369311707\n",
       " -1.7045703369311689\n",
       " -1.64575131106459\n",
       "  ⋮\n",
       "  3.268482609755459\n",
       "  3.2684826097554605\n",
       "  3.268482609755462\n",
       "  3.6457513110645836\n",
       "  3.6457513110645876\n",
       "  3.6457513110645925\n",
       "  4.5195428975310294\n",
       "  4.519542897531033\n",
       "  4.519542897531036\n",
       "  4.662503113875357\n",
       "  4.662503113875362\n",
       "  4.6625031138753705"
      ]
     },
     "execution_count": 88,
     "metadata": {},
     "output_type": "execute_result"
    }
   ],
   "source": [
    "U = 2\n",
    "E = eigenenergies(dense(Hofstadter_Finite_U(Nx, Ny, alpha, PN, U)))\n",
    "#plot(1:length(E), E, seriestype=:scatter, markershape=:star5, markersize=6)"
   ]
  },
  {
   "cell_type": "code",
   "execution_count": 71,
   "id": "floating-merit",
   "metadata": {},
   "outputs": [
    {
     "name": "stdout",
     "output_type": "stream",
     "text": [
      "Chern Number is: 6.0046910114196645 + 1.3136413777245537e-16im"
     ]
    }
   ],
   "source": [
    "@nbinclude(\"Hofstadter Single Particle in Theta Space.ipynb\")\n",
    "\n",
    "# Nx=4; Ny=6; N=Nx*Ny; q=Ny; PN=2; U=2; TSize=5\n",
    "\n",
    "Nx=3; Ny=3; N=Nx*Ny; q=Ny; PN=2; U=0; TSize=10\n",
    "\n",
    "n1 = 16\n",
    "n2 = 24\n",
    "\n",
    "function Hofstadter_Finite_U_C(Nx, Ny, alpha, Tx, Ty, PN, U)\n",
    "    \n",
    "    N = Nx*Ny\n",
    "    \n",
    "    MB_Basis, Basis = get_Bosonic_MB_Basis(N,PN)\n",
    "    \n",
    "    Sp_Op = HSP_T(Nx, Ny, alpha, Tx, Ty, 0)\n",
    "    Kin = get_Kinetic_Part(N, MB_Basis, Sp_Op)\n",
    "    \n",
    "    Int = get_Int_Part(N, MB_Basis, U)\n",
    "    \n",
    "    H = Kin + Int\n",
    "    \n",
    "    return H\n",
    "end\n",
    "\n",
    "# Twist Angle Parameter Space #\n",
    "dx=2*pi/TSize\n",
    "dy=dx\n",
    "Tx=collect(range(start=0, stop=2*pi-dx, step=dx))\n",
    "Ty=collect(range(start=0, stop=2*pi-dy, step=dy))\n",
    "# ---- #\n",
    "\n",
    "# Link Variable and Berry Curvature #\n",
    "Sum=0\n",
    "for tx in range(start=1, stop=length(Tx))\n",
    "    for ty in range(start=1, stop=length(Ty))\n",
    "        \n",
    "        H_mb = Hofstadter_Finite_U_C(Nx, Ny, alpha, Tx[tx], Ty[ty], PN, U)\n",
    "        w1, v1 = eigen(dense(H_mb).data)\n",
    "        # i = sortperm(w1, by=real);w1 = w1[i];v1 = v1[:,i]\n",
    "        v1 = v1[:,n1:n2]  \n",
    "        #------------------------------------\n",
    "        H_mb = Hofstadter_Finite_U_C(Nx, Ny, alpha, Tx[tx]+dx, Ty[ty], PN, U)\n",
    "        w2, v2 = eigen(dense(H_mb).data)\n",
    "        #i = sortperm(w2, by=real);w2 = w2[i];v2 = v2[:,i]\n",
    "        v2 = v2[:,n1:n2]\n",
    "        #------------------------------------\n",
    "        H_mb = Hofstadter_Finite_U_C(Nx, Ny, alpha, Tx[tx], Ty[ty]+dy, PN, U)\n",
    "        w3, v3 = eigen(dense(H_mb).data)\n",
    "        #i = sortperm(w3, by=real);w3 = w3[i];v3 = v3[:,i]\n",
    "        v3 = v3[:,n1:n2]\n",
    "        #------------------------------------\n",
    "        H_mb = Hofstadter_Finite_U_C(Nx, Ny, alpha, Tx[tx]+dx, Ty[ty]+dy, PN, U)\n",
    "        w4, v4 = eigen(dense(H_mb).data)\n",
    "        #i = sortperm(w4, by=real);w4 = w4[i];v4 = v4[:,i]\n",
    "        v4 = v4[:,n1:n2]\n",
    "        #----------LINK VARIABLES------------\n",
    "        U1=det(adjoint(v1)*v2)\n",
    "        U1=U1/abs(U1)\n",
    "        U2=det(adjoint(v2)*v4)\n",
    "        U2=U2/abs(U2)\n",
    "        U3=det(adjoint(v3)*v4)\n",
    "        U3=U3/abs(U3)\n",
    "        U4=det(adjoint(v1)*v3)\n",
    "        U4=U4/abs(U4)\n",
    "        #----------BERRY CURVATURE-----------\n",
    "        F=log(U1*U2*1/U3*1/U4)\n",
    "        Sum=Sum+F \n",
    "    end\n",
    "end\n",
    "# ---- #\n",
    "\n",
    "print(\"Chern Number is: \", 1/(2*pi*1im)*Sum)"
   ]
  },
  {
   "cell_type": "code",
   "execution_count": 98,
   "id": "9b739a44-ef76-4a2e-ad77-ddf67311b907",
   "metadata": {},
   "outputs": [
    {
     "data": {
      "text/plain": [
       "45-element Vector{Float64}:\n",
       " -5.244968906605933\n",
       " -5.244968906605926\n",
       " -5.244968906605921\n",
       " -4.974840172499153\n",
       " -4.9748401724991425\n",
       " -4.974840172499139\n",
       " -1.9720102603513892\n",
       " -1.972010260351389\n",
       " -1.9720102603513883\n",
       " -1.890449488035411\n",
       " -1.8904494880354106\n",
       " -1.8904494880354092\n",
       " -1.55948194474537\n",
       "  ⋮\n",
       "  3.3657376516283706\n",
       "  3.3657376516283715\n",
       "  3.365737651628373\n",
       "  3.4551008923445496\n",
       "  3.4551008923445523\n",
       "  3.4551008923445545\n",
       "  4.758323604041526\n",
       "  4.758323604041532\n",
       "  4.758323604041532\n",
       "  4.818883774286787\n",
       "  4.818883774286787\n",
       "  4.818883774286793"
      ]
     },
     "execution_count": 98,
     "metadata": {},
     "output_type": "execute_result"
    }
   ],
   "source": [
    "U = 2\n",
    "PN = 2\n",
    "H_Finite = Hofstadter_Finite_U_C(Nx, Ny, alpha, Tx[2], Ty[2], PN, U)\n",
    "Ee, Uu = eigenenergies(dense(H_Finite ))"
   ]
  },
  {
   "cell_type": "code",
   "execution_count": null,
   "id": "initial-paradise",
   "metadata": {},
   "outputs": [],
   "source": [
    "4\n",
    "-3\n",
    "6.0046910114196645\n",
    "-6.9939547502816435\n",
    "-3\n",
    "4"
   ]
  }
 ],
 "metadata": {
  "kernelspec": {
   "display_name": "Julia 1.8.1",
   "language": "julia",
   "name": "julia-1.8"
  },
  "language_info": {
   "file_extension": ".jl",
   "mimetype": "application/julia",
   "name": "julia",
   "version": "1.8.1"
  }
 },
 "nbformat": 4,
 "nbformat_minor": 5
}
