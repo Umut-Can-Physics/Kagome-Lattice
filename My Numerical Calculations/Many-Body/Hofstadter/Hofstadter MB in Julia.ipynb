{
 "cells": [
  {
   "cell_type": "markdown",
   "id": "female-cooler",
   "metadata": {},
   "source": [
    "# INTERACTING CASE"
   ]
  },
  {
   "cell_type": "code",
   "execution_count": 1,
   "id": "wireless-touch",
   "metadata": {
    "tags": []
   },
   "outputs": [
    {
     "data": {
      "text/plain": [
       "Hofstadter_SP (generic function with 1 method)"
      ]
     },
     "execution_count": 1,
     "metadata": {},
     "output_type": "execute_result"
    }
   ],
   "source": [
    "# executeme\n",
    "\n",
    "using NBInclude\n",
    "@nbinclude(\"Hofstadter Single Particle in Julia.ipynb\")"
   ]
  },
  {
   "cell_type": "code",
   "execution_count": 2,
   "id": "grateful-least",
   "metadata": {
    "tags": []
   },
   "outputs": [],
   "source": [
    "using QuantumOptics"
   ]
  },
  {
   "cell_type": "code",
   "execution_count": 84,
   "id": "metric-middle",
   "metadata": {
    "tags": []
   },
   "outputs": [],
   "source": [
    "# Nx = 4; Ny = 6; N=Nx*Ny; q = Ny; alpha=1/q\n",
    "# PN = 2\n",
    "# U = 2;\n",
    "\n",
    "# Nx = 4; Ny = 4; N=Nx*Ny; q = Ny; alpha=1/q\n",
    "# PN = 2\n",
    "# U = 2;\n",
    "\n",
    "Nx = 4; Ny = 2; N=Nx*Ny; q=Ny; alpha=1/q\n",
    "PN = 2\n",
    "U = 2\n",
    "TSize = 15;\n",
    "\n",
    "# Proj. yapmadan bunu hesaplamanın yöntemi yok! 88k state geliyor :D\n",
    "# Nx = 8; Ny = 10; N=Nx*Ny; q = Ny; alpha=1/q\n",
    "# PN = 3\n",
    "# U = 2;"
   ]
  },
  {
   "cell_type": "code",
   "execution_count": 85,
   "id": "surgical-campus",
   "metadata": {
    "tags": []
   },
   "outputs": [
    {
     "data": {
      "text/plain": [
       "get_Bosonic_MB_Basis (generic function with 1 method)"
      ]
     },
     "execution_count": 85,
     "metadata": {},
     "output_type": "execute_result"
    }
   ],
   "source": [
    "# executeme\n",
    "\n",
    "function get_Bosonic_MB_Basis(N,PN)\n",
    "   \n",
    "    NBasis = NLevelBasis(N)\n",
    "    NStates = bosonstates(NBasis, PN)\n",
    "    \n",
    "    NBasis_MB = ManyBodyBasis(NBasis, NStates)\n",
    "    \n",
    "    return NBasis_MB, NBasis\n",
    "end"
   ]
  },
  {
   "cell_type": "code",
   "execution_count": 86,
   "id": "cooperative-personality",
   "metadata": {
    "tags": []
   },
   "outputs": [
    {
     "data": {
      "text/plain": [
       "(ManyBody(onebodybasis=NLevel(N=8), states:36), NLevel(N=8))"
      ]
     },
     "execution_count": 86,
     "metadata": {},
     "output_type": "execute_result"
    }
   ],
   "source": [
    "basis_mb, basis = get_Bosonic_MB_Basis(N,PN)"
   ]
  },
  {
   "cell_type": "code",
   "execution_count": 87,
   "id": "eastern-resource",
   "metadata": {
    "tags": []
   },
   "outputs": [
    {
     "data": {
      "text/plain": [
       "get_Kinetic_Part (generic function with 1 method)"
      ]
     },
     "execution_count": 87,
     "metadata": {},
     "output_type": "execute_result"
    }
   ],
   "source": [
    "# executeme\n",
    "\n",
    "function get_Kinetic_Part(N, MB_Basis, Sp_Op)\n",
    "    KT = SparseOperator(MB_Basis)\n",
    "    for m in 1:N\n",
    "        for n in 1:N\n",
    "            KT = KT + Sp_Op[m,n] * transition(MB_Basis, m, n)\n",
    "        end\n",
    "    end\n",
    "    \n",
    "    return KT\n",
    "end"
   ]
  },
  {
   "cell_type": "code",
   "execution_count": 88,
   "id": "developmental-sunrise",
   "metadata": {
    "tags": []
   },
   "outputs": [
    {
     "data": {
      "text/plain": [
       "Operator(dim=36x36)\n",
       "  basis: ManyBody(onebodybasis=NLevel(N=8), states:36)sparse([1, 9, 16, 22, 27, 31, 34, 36], [1, 9, 16, 22, 27, 31, 34, 36], ComplexF64[2.0000000000000004 + 0.0im, 2.0000000000000004 + 0.0im, 2.0000000000000004 + 0.0im, 2.0000000000000004 + 0.0im, 2.0000000000000004 + 0.0im, 2.0000000000000004 + 0.0im, 2.0000000000000004 + 0.0im, 2.0000000000000004 + 0.0im], 36, 36)"
      ]
     },
     "execution_count": 88,
     "metadata": {},
     "output_type": "execute_result"
    }
   ],
   "source": [
    "basis2 = basis ⊗ basis\n",
    "\n",
    "# interaction : at_i at_i a_i a_i = at_i a_i at_i a_i - at_i a_i = n_i n_i - n_i\n",
    "    \n",
    "Vint2 = SparseOperator(basis2)\n",
    "\n",
    "for n in 1:N\n",
    "    Vint2 += U/2*transition(basis,n,n)⊗transition(basis,n,n)\n",
    "end\n",
    "\n",
    "Vint_mb = manybodyoperator(basis_mb, Vint2)"
   ]
  },
  {
   "cell_type": "code",
   "execution_count": 89,
   "id": "polyphonic-participant",
   "metadata": {
    "tags": []
   },
   "outputs": [
    {
     "data": {
      "text/plain": [
       "get_Int_Part (generic function with 1 method)"
      ]
     },
     "execution_count": 89,
     "metadata": {},
     "output_type": "execute_result"
    }
   ],
   "source": [
    "# executeme\n",
    "\n",
    "function get_Int_Part(N, MB_Basis, U)\n",
    "    IT = SparseOperator(MB_Basis)\n",
    "    for m in 1:N\n",
    "        IT = IT + U/2 * number(MB_Basis, m) * ( number(MB_Basis, m) - identityoperator(MB_Basis) ) \n",
    "    end\n",
    "    \n",
    "    return IT\n",
    "end"
   ]
  },
  {
   "cell_type": "code",
   "execution_count": 90,
   "id": "joint-baghdad",
   "metadata": {
    "tags": []
   },
   "outputs": [
    {
     "data": {
      "text/plain": [
       "Operator(dim=36x36)\n",
       "  basis: ManyBody(onebodybasis=NLevel(N=8), states:36)sparse([1, 9, 16, 22, 27, 31, 34, 36], [1, 9, 16, 22, 27, 31, 34, 36], ComplexF64[2.0 + 0.0im, 2.0 + 0.0im, 2.0 + 0.0im, 2.0 + 0.0im, 2.0 + 0.0im, 2.0 + 0.0im, 2.0 + 0.0im, 2.0 + 0.0im], 36, 36)"
      ]
     },
     "execution_count": 90,
     "metadata": {},
     "output_type": "execute_result"
    }
   ],
   "source": [
    "Int_mb = get_Int_Part(N, basis_mb, U)"
   ]
  },
  {
   "cell_type": "code",
   "execution_count": 91,
   "id": "sharing-consensus",
   "metadata": {
    "tags": []
   },
   "outputs": [
    {
     "data": {
      "text/plain": [
       "Hofstadter_Finite_U (generic function with 1 method)"
      ]
     },
     "execution_count": 91,
     "metadata": {},
     "output_type": "execute_result"
    }
   ],
   "source": [
    "# executeme\n",
    "\n",
    "function Hofstadter_Finite_U(Nx, Ny, alpha, PN, U)\n",
    "    \n",
    "    N = Nx*Ny\n",
    "    \n",
    "    MB_Basis, Basis = get_Bosonic_MB_Basis(N,PN)\n",
    "    \n",
    "    Sp_Op = Hofstadter_SP(Nx, Ny, alpha, 0)\n",
    "    Kin = get_Kinetic_Part(N, MB_Basis, Sp_Op)\n",
    "    \n",
    "    Int = get_Int_Part(N, MB_Basis, U)\n",
    "    \n",
    "    H = Kin + Int\n",
    "    \n",
    "    return H\n",
    "end"
   ]
  },
  {
   "cell_type": "markdown",
   "id": "female-fifteen",
   "metadata": {},
   "source": [
    "1) If particle number=1 and U=0, Hofstadter Finite U energies has to be equal to Hofstadter Single Particle energies."
   ]
  },
  {
   "cell_type": "code",
   "execution_count": 92,
   "id": "exact-fluid",
   "metadata": {
    "tags": []
   },
   "outputs": [
    {
     "data": {
      "text/plain": [
       "Operator(dim=36x36)\n",
       "  basis: ManyBody(onebodybasis=NLevel(N=8), states:36)sparse([1, 2, 4, 5, 1, 3, 6, 9, 11, 12  …  21, 25, 29, 33, 34, 36, 26, 30, 35, 36], [1, 1, 1, 1, 2, 2, 2, 2, 2, 2  …  35, 35, 35, 35, 35, 35, 36, 36, 36, 36], ComplexF64[2.0 + 0.0im, -1.4142135623730951 + 0.0im, -1.4142135623730951 + 0.0im, -1.4142135623730951 + 0.0im, -1.4142135623730951 + 0.0im, -1.0 + 0.0im, -1.0 + 0.0im, -1.4142135623730951 + 0.0im, -1.0 + 0.0im, -1.0 + 0.0im  …  -1.0 + 0.0im, -1.0 + 0.0im, 1.0 - 1.2e-16im, 1.0 + 1.2e-16im, 1.4142135623730951 + 1.7e-16im, 1.4142135623730951 - 1.7e-16im, -1.4142135623730951 + 0.0im, 1.4142135623730951 - 1.7e-16im, 1.4142135623730951 + 1.7e-16im, 2.0 + 0.0im], 36, 36)"
      ]
     },
     "execution_count": 92,
     "metadata": {},
     "output_type": "execute_result"
    }
   ],
   "source": [
    "H_mb = Hofstadter_Finite_U(Nx, Ny, 1/q, PN, U)"
   ]
  },
  {
   "cell_type": "code",
   "execution_count": 93,
   "id": "armed-vacation",
   "metadata": {
    "tags": []
   },
   "outputs": [
    {
     "data": {
      "text/plain": [
       "36-element Vector{Float64}:\n",
       " -4.40451853693665\n",
       " -4.172260395302988\n",
       " -4.109075974932541\n",
       " -3.0641777724759116\n",
       " -3.0641777724759103\n",
       " -2.7113485879561643\n",
       " -2.711348587956163\n",
       " -2.0000000000000004\n",
       " -1.6856544523234647\n",
       " -1.5262552356350032\n",
       " -0.954519992948039\n",
       " -0.954519992948038\n",
       " -0.6945927106677215\n",
       "  ⋮\n",
       "  1.9999999999999993\n",
       "  2.0\n",
       "  2.0000000000000013\n",
       "  2.4691667657597076\n",
       "  2.7680553353763666\n",
       "  3.7587704831436297\n",
       "  3.758770483143634\n",
       "  4.19058797044783\n",
       "  4.190587970447833\n",
       "  4.652815215728839\n",
       "  5.028273858670588\n",
       "  5.166164444807841"
      ]
     },
     "execution_count": 93,
     "metadata": {},
     "output_type": "execute_result"
    }
   ],
   "source": [
    "eigenenergies(dense(H_mb))"
   ]
  },
  {
   "cell_type": "code",
   "execution_count": 94,
   "id": "legendary-lotus",
   "metadata": {
    "tags": []
   },
   "outputs": [
    {
     "data": {
      "text/plain": [
       "36-element Vector{Float64}:\n",
       " -4.40451853693665\n",
       " -4.172260395302988\n",
       " -4.109075974932541\n",
       " -3.0641777724759116\n",
       " -3.0641777724759103\n",
       " -2.7113485879561643\n",
       " -2.711348587956163\n",
       " -2.0000000000000004\n",
       " -1.6856544523234647\n",
       " -1.5262552356350032\n",
       " -0.954519992948039\n",
       " -0.954519992948038\n",
       " -0.6945927106677215\n",
       "  ⋮\n",
       "  1.9999999999999993\n",
       "  2.0\n",
       "  2.0000000000000013\n",
       "  2.4691667657597076\n",
       "  2.7680553353763666\n",
       "  3.7587704831436297\n",
       "  3.758770483143634\n",
       "  4.19058797044783\n",
       "  4.190587970447833\n",
       "  4.652815215728839\n",
       "  5.028273858670588\n",
       "  5.166164444807841"
      ]
     },
     "execution_count": 94,
     "metadata": {},
     "output_type": "execute_result"
    }
   ],
   "source": [
    "eigenenergies(dense(Hofstadter_Finite_U(Nx,Ny,1/q,PN,U)))"
   ]
  },
  {
   "cell_type": "code",
   "execution_count": 66,
   "id": "subject-performer",
   "metadata": {
    "tags": []
   },
   "outputs": [
    {
     "data": {
      "text/plain": [
       "Eigen{ComplexF64, Float64, Matrix{ComplexF64}, Vector{Float64}}\n",
       "values:\n",
       "16-element Vector{Float64}:\n",
       " -2.8284271247461885\n",
       " -2.8284271247461876\n",
       " -2.8284271247461867\n",
       " -2.828427124746186\n",
       " -1.5885259206217286e-16\n",
       " -6.158601528183403e-17\n",
       "  4.110075077717591e-17\n",
       "  1.186225349076427e-16\n",
       "  3.1086244689504383e-15\n",
       "  3.1086244689504383e-15\n",
       "  3.1086244689504383e-15\n",
       "  4.884981308350689e-15\n",
       "  2.8284271247461894\n",
       "  2.8284271247461903\n",
       "  2.8284271247461903\n",
       "  2.8284271247461903\n",
       "vectors:\n",
       "16×16 Matrix{ComplexF64}:\n",
       "  -0.0328925-0.277237im    …        -0.125+0.125im\n",
       "  0.00332264-0.279204im                0.0+0.0im\n",
       "   -0.249043-0.192656im             -0.125-0.125im\n",
       "   -0.129583-0.242553im           0.353553+0.0im\n",
       " -0.00171222-0.197646im                0.0+0.0im\n",
       "    0.187957-0.0518321im   …           0.0+0.0im\n",
       "   -0.270744+0.0548745im               0.0+0.0im\n",
       "  -0.0845807-0.216151im              -0.25-1.54074e-33im\n",
       "   -0.136269-0.00925389im            0.125+0.125im\n",
       "    0.275779-0.136432im                0.0+0.0im\n",
       "   -0.352419+0.0753268im   …         0.125-0.125im\n",
       "    0.142874-0.0997811im          0.353553+0.0im\n",
       "   0.0349386-0.0647406im      -8.32667e-17-0.353553im\n",
       "    0.103376-0.267983im               0.25-2.77556e-17im\n",
       "   -0.307395-0.0780312im               0.0+0.353553im\n",
       "         0.0+0.0im         …          -0.5-0.0im"
      ]
     },
     "execution_count": 66,
     "metadata": {},
     "output_type": "execute_result"
    }
   ],
   "source": [
    "using LinearAlgebra\n",
    "eigen(Hofstadter_SP(4, 4, 1/4, 0))"
   ]
  },
  {
   "cell_type": "code",
   "execution_count": 67,
   "id": "first-latest",
   "metadata": {
    "tags": []
   },
   "outputs": [
    {
     "data": {
      "text/plain": [
       "get_Fermionic_MB_Basis (generic function with 1 method)"
      ]
     },
     "execution_count": 67,
     "metadata": {},
     "output_type": "execute_result"
    }
   ],
   "source": [
    "function get_Fermionic_MB_Basis(N,PN)\n",
    "    b_hard = NLevelBasis(N)\n",
    "    states_hard = fermionstates(b_hard, [PN])\n",
    "    b_mb_hard = ManyBodyBasis(b_hard, states_hard)\n",
    "    \n",
    "    return b_mb_hard\n",
    "end"
   ]
  },
  {
   "cell_type": "code",
   "execution_count": 68,
   "id": "successful-surrey",
   "metadata": {
    "tags": []
   },
   "outputs": [
    {
     "data": {
      "text/plain": [
       "Hofstadter_Hard_Core (generic function with 1 method)"
      ]
     },
     "execution_count": 68,
     "metadata": {},
     "output_type": "execute_result"
    }
   ],
   "source": [
    "function Hofstadter_Hard_Core(Nx, Ny, alpha, PN, U)\n",
    "    \n",
    "    N = Nx*Ny\n",
    "    \n",
    "    MB_Basis = get_Fermionic_MB_Basis(N,PN)\n",
    "    \n",
    "    Sp_Op = Hofstadter_SP(Nx, Ny, alpha, 0)\n",
    "    Kin = get_Kinetic_Part(N, MB_Basis, Sp_Op)\n",
    "    \n",
    "    Int = get_Int_Part(N, MB_Basis, U)\n",
    "    \n",
    "    H = Kin + Int\n",
    "    \n",
    "    return H\n",
    "end"
   ]
  },
  {
   "cell_type": "markdown",
   "id": "supposed-tokyo",
   "metadata": {},
   "source": [
    "If U>>1, Hofstadter Finite U energies converges at Hofstadter Hard Core energies."
   ]
  },
  {
   "cell_type": "code",
   "execution_count": 69,
   "id": "latest-garlic",
   "metadata": {},
   "outputs": [
    {
     "data": {
      "image/svg+xml": [
       "<?xml version=\"1.0\" encoding=\"utf-8\"?>\n",
       "<svg xmlns=\"http://www.w3.org/2000/svg\" xmlns:xlink=\"http://www.w3.org/1999/xlink\" width=\"600\" height=\"400\" viewBox=\"0 0 2400 1600\">\n",
       "<defs>\n",
       "  <clipPath id=\"clip120\">\n",
       "    <rect x=\"0\" y=\"0\" width=\"2400\" height=\"1600\"/>\n",
       "  </clipPath>\n",
       "</defs>\n",
       "<path clip-path=\"url(#clip120)\" d=\"M0 1600 L2400 1600 L2400 0 L0 0  Z\" fill=\"#ffffff\" fill-rule=\"evenodd\" fill-opacity=\"1\"/>\n",
       "<defs>\n",
       "  <clipPath id=\"clip121\">\n",
       "    <rect x=\"480\" y=\"0\" width=\"1681\" height=\"1600\"/>\n",
       "  </clipPath>\n",
       "</defs>\n",
       "<path clip-path=\"url(#clip120)\" d=\"M232.389 1423.18 L2352.76 1423.18 L2352.76 47.2441 L232.389 47.2441  Z\" fill=\"#ffffff\" fill-rule=\"evenodd\" fill-opacity=\"1\"/>\n",
       "<defs>\n",
       "  <clipPath id=\"clip122\">\n",
       "    <rect x=\"232\" y=\"47\" width=\"2121\" height=\"1377\"/>\n",
       "  </clipPath>\n",
       "</defs>\n",
       "<polyline clip-path=\"url(#clip122)\" style=\"stroke:#000000; stroke-linecap:round; stroke-linejoin:round; stroke-width:2; stroke-opacity:0.1; fill:none\" points=\"235.247,1423.18 235.247,47.2441 \"/>\n",
       "<polyline clip-path=\"url(#clip122)\" style=\"stroke:#000000; stroke-linecap:round; stroke-linejoin:round; stroke-width:2; stroke-opacity:0.1; fill:none\" points=\"806.774,1423.18 806.774,47.2441 \"/>\n",
       "<polyline clip-path=\"url(#clip122)\" style=\"stroke:#000000; stroke-linecap:round; stroke-linejoin:round; stroke-width:2; stroke-opacity:0.1; fill:none\" points=\"1378.3,1423.18 1378.3,47.2441 \"/>\n",
       "<polyline clip-path=\"url(#clip122)\" style=\"stroke:#000000; stroke-linecap:round; stroke-linejoin:round; stroke-width:2; stroke-opacity:0.1; fill:none\" points=\"1949.83,1423.18 1949.83,47.2441 \"/>\n",
       "<polyline clip-path=\"url(#clip120)\" style=\"stroke:#000000; stroke-linecap:round; stroke-linejoin:round; stroke-width:4; stroke-opacity:1; fill:none\" points=\"232.389,1423.18 2352.76,1423.18 \"/>\n",
       "<polyline clip-path=\"url(#clip120)\" style=\"stroke:#000000; stroke-linecap:round; stroke-linejoin:round; stroke-width:4; stroke-opacity:1; fill:none\" points=\"235.247,1423.18 235.247,1404.28 \"/>\n",
       "<polyline clip-path=\"url(#clip120)\" style=\"stroke:#000000; stroke-linecap:round; stroke-linejoin:round; stroke-width:4; stroke-opacity:1; fill:none\" points=\"806.774,1423.18 806.774,1404.28 \"/>\n",
       "<polyline clip-path=\"url(#clip120)\" style=\"stroke:#000000; stroke-linecap:round; stroke-linejoin:round; stroke-width:4; stroke-opacity:1; fill:none\" points=\"1378.3,1423.18 1378.3,1404.28 \"/>\n",
       "<polyline clip-path=\"url(#clip120)\" style=\"stroke:#000000; stroke-linecap:round; stroke-linejoin:round; stroke-width:4; stroke-opacity:1; fill:none\" points=\"1949.83,1423.18 1949.83,1404.28 \"/>\n",
       "<path clip-path=\"url(#clip120)\" d=\"M235.247 1454.1 Q231.636 1454.1 229.807 1457.66 Q228.002 1461.2 228.002 1468.33 Q228.002 1475.44 229.807 1479.01 Q231.636 1482.55 235.247 1482.55 Q238.881 1482.55 240.687 1479.01 Q242.515 1475.44 242.515 1468.33 Q242.515 1461.2 240.687 1457.66 Q238.881 1454.1 235.247 1454.1 M235.247 1450.39 Q241.057 1450.39 244.113 1455 Q247.191 1459.58 247.191 1468.33 Q247.191 1477.06 244.113 1481.67 Q241.057 1486.25 235.247 1486.25 Q229.437 1486.25 226.358 1481.67 Q223.303 1477.06 223.303 1468.33 Q223.303 1459.58 226.358 1455 Q229.437 1450.39 235.247 1450.39 Z\" fill=\"#000000\" fill-rule=\"nonzero\" fill-opacity=\"1\" /><path clip-path=\"url(#clip120)\" d=\"M781.462 1481.64 L789.101 1481.64 L789.101 1455.28 L780.791 1456.95 L780.791 1452.69 L789.055 1451.02 L793.73 1451.02 L793.73 1481.64 L801.369 1481.64 L801.369 1485.58 L781.462 1485.58 L781.462 1481.64 Z\" fill=\"#000000\" fill-rule=\"nonzero\" fill-opacity=\"1\" /><path clip-path=\"url(#clip120)\" d=\"M820.814 1454.1 Q817.203 1454.1 815.374 1457.66 Q813.568 1461.2 813.568 1468.33 Q813.568 1475.44 815.374 1479.01 Q817.203 1482.55 820.814 1482.55 Q824.448 1482.55 826.253 1479.01 Q828.082 1475.44 828.082 1468.33 Q828.082 1461.2 826.253 1457.66 Q824.448 1454.1 820.814 1454.1 M820.814 1450.39 Q826.624 1450.39 829.679 1455 Q832.758 1459.58 832.758 1468.33 Q832.758 1477.06 829.679 1481.67 Q826.624 1486.25 820.814 1486.25 Q815.003 1486.25 811.925 1481.67 Q808.869 1477.06 808.869 1468.33 Q808.869 1459.58 811.925 1455 Q815.003 1450.39 820.814 1450.39 Z\" fill=\"#000000\" fill-rule=\"nonzero\" fill-opacity=\"1\" /><path clip-path=\"url(#clip120)\" d=\"M1357.07 1481.64 L1373.39 1481.64 L1373.39 1485.58 L1351.45 1485.58 L1351.45 1481.64 Q1354.11 1478.89 1358.7 1474.26 Q1363.3 1469.61 1364.48 1468.27 Q1366.73 1465.74 1367.61 1464.01 Q1368.51 1462.25 1368.51 1460.56 Q1368.51 1457.8 1366.57 1456.07 Q1364.64 1454.33 1361.54 1454.33 Q1359.34 1454.33 1356.89 1455.09 Q1354.46 1455.86 1351.68 1457.41 L1351.68 1452.69 Q1354.51 1451.55 1356.96 1450.97 Q1359.41 1450.39 1361.45 1450.39 Q1366.82 1450.39 1370.01 1453.08 Q1373.21 1455.77 1373.21 1460.26 Q1373.21 1462.39 1372.4 1464.31 Q1371.61 1466.2 1369.51 1468.8 Q1368.93 1469.47 1365.82 1472.69 Q1362.72 1475.88 1357.07 1481.64 Z\" fill=\"#000000\" fill-rule=\"nonzero\" fill-opacity=\"1\" /><path clip-path=\"url(#clip120)\" d=\"M1393.21 1454.1 Q1389.6 1454.1 1387.77 1457.66 Q1385.96 1461.2 1385.96 1468.33 Q1385.96 1475.44 1387.77 1479.01 Q1389.6 1482.55 1393.21 1482.55 Q1396.84 1482.55 1398.65 1479.01 Q1400.48 1475.44 1400.48 1468.33 Q1400.48 1461.2 1398.65 1457.66 Q1396.84 1454.1 1393.21 1454.1 M1393.21 1450.39 Q1399.02 1450.39 1402.07 1455 Q1405.15 1459.58 1405.15 1468.33 Q1405.15 1477.06 1402.07 1481.67 Q1399.02 1486.25 1393.21 1486.25 Q1387.4 1486.25 1384.32 1481.67 Q1381.26 1477.06 1381.26 1468.33 Q1381.26 1459.58 1384.32 1455 Q1387.4 1450.39 1393.21 1450.39 Z\" fill=\"#000000\" fill-rule=\"nonzero\" fill-opacity=\"1\" /><path clip-path=\"url(#clip120)\" d=\"M1938.67 1466.95 Q1942.03 1467.66 1943.9 1469.93 Q1945.8 1472.2 1945.8 1475.53 Q1945.8 1480.65 1942.28 1483.45 Q1938.76 1486.25 1932.28 1486.25 Q1930.11 1486.25 1927.79 1485.81 Q1925.5 1485.39 1923.05 1484.54 L1923.05 1480.02 Q1924.99 1481.16 1927.31 1481.74 Q1929.62 1482.32 1932.14 1482.32 Q1936.54 1482.32 1938.83 1480.58 Q1941.15 1478.84 1941.15 1475.53 Q1941.15 1472.48 1939 1470.77 Q1936.87 1469.03 1933.05 1469.03 L1929.02 1469.03 L1929.02 1465.19 L1933.23 1465.19 Q1936.68 1465.19 1938.51 1463.82 Q1940.34 1462.43 1940.34 1459.84 Q1940.34 1457.18 1938.44 1455.77 Q1936.57 1454.33 1933.05 1454.33 Q1931.13 1454.33 1928.93 1454.75 Q1926.73 1455.16 1924.09 1456.04 L1924.09 1451.88 Q1926.75 1451.14 1929.07 1450.77 Q1931.4 1450.39 1933.46 1450.39 Q1938.79 1450.39 1941.89 1452.83 Q1944.99 1455.23 1944.99 1459.35 Q1944.99 1462.22 1943.35 1464.21 Q1941.7 1466.18 1938.67 1466.95 Z\" fill=\"#000000\" fill-rule=\"nonzero\" fill-opacity=\"1\" /><path clip-path=\"url(#clip120)\" d=\"M1964.67 1454.1 Q1961.06 1454.1 1959.23 1457.66 Q1957.42 1461.2 1957.42 1468.33 Q1957.42 1475.44 1959.23 1479.01 Q1961.06 1482.55 1964.67 1482.55 Q1968.3 1482.55 1970.11 1479.01 Q1971.94 1475.44 1971.94 1468.33 Q1971.94 1461.2 1970.11 1457.66 Q1968.3 1454.1 1964.67 1454.1 M1964.67 1450.39 Q1970.48 1450.39 1973.53 1455 Q1976.61 1459.58 1976.61 1468.33 Q1976.61 1477.06 1973.53 1481.67 Q1970.48 1486.25 1964.67 1486.25 Q1958.86 1486.25 1955.78 1481.67 Q1952.72 1477.06 1952.72 1468.33 Q1952.72 1459.58 1955.78 1455 Q1958.86 1450.39 1964.67 1450.39 Z\" fill=\"#000000\" fill-rule=\"nonzero\" fill-opacity=\"1\" /><path clip-path=\"url(#clip120)\" d=\"M1307.5 1546.53 L1307.5 1568.04 L1301.64 1568.04 L1301.64 1546.72 Q1301.64 1541.66 1299.67 1539.14 Q1297.7 1536.63 1293.75 1536.63 Q1289.01 1536.63 1286.27 1539.65 Q1283.53 1542.68 1283.53 1547.9 L1283.53 1568.04 L1277.65 1568.04 L1277.65 1532.4 L1283.53 1532.4 L1283.53 1537.93 Q1285.63 1534.72 1288.47 1533.13 Q1291.33 1531.54 1295.06 1531.54 Q1301.2 1531.54 1304.35 1535.36 Q1307.5 1539.14 1307.5 1546.53 Z\" fill=\"#000000\" fill-rule=\"nonzero\" fill-opacity=\"1\" /><polyline clip-path=\"url(#clip122)\" style=\"stroke:#000000; stroke-linecap:round; stroke-linejoin:round; stroke-width:2; stroke-opacity:0.1; fill:none\" points=\"232.389,1330.87 2352.76,1330.87 \"/>\n",
       "<polyline clip-path=\"url(#clip122)\" style=\"stroke:#000000; stroke-linecap:round; stroke-linejoin:round; stroke-width:2; stroke-opacity:0.1; fill:none\" points=\"232.389,1020.03 2352.76,1020.03 \"/>\n",
       "<polyline clip-path=\"url(#clip122)\" style=\"stroke:#000000; stroke-linecap:round; stroke-linejoin:round; stroke-width:2; stroke-opacity:0.1; fill:none\" points=\"232.389,709.18 2352.76,709.18 \"/>\n",
       "<polyline clip-path=\"url(#clip122)\" style=\"stroke:#000000; stroke-linecap:round; stroke-linejoin:round; stroke-width:2; stroke-opacity:0.1; fill:none\" points=\"232.389,398.334 2352.76,398.334 \"/>\n",
       "<polyline clip-path=\"url(#clip122)\" style=\"stroke:#000000; stroke-linecap:round; stroke-linejoin:round; stroke-width:2; stroke-opacity:0.1; fill:none\" points=\"232.389,87.4877 2352.76,87.4877 \"/>\n",
       "<polyline clip-path=\"url(#clip120)\" style=\"stroke:#000000; stroke-linecap:round; stroke-linejoin:round; stroke-width:4; stroke-opacity:1; fill:none\" points=\"232.389,1423.18 232.389,47.2441 \"/>\n",
       "<polyline clip-path=\"url(#clip120)\" style=\"stroke:#000000; stroke-linecap:round; stroke-linejoin:round; stroke-width:4; stroke-opacity:1; fill:none\" points=\"232.389,1330.87 251.287,1330.87 \"/>\n",
       "<polyline clip-path=\"url(#clip120)\" style=\"stroke:#000000; stroke-linecap:round; stroke-linejoin:round; stroke-width:4; stroke-opacity:1; fill:none\" points=\"232.389,1020.03 251.287,1020.03 \"/>\n",
       "<polyline clip-path=\"url(#clip120)\" style=\"stroke:#000000; stroke-linecap:round; stroke-linejoin:round; stroke-width:4; stroke-opacity:1; fill:none\" points=\"232.389,709.18 251.287,709.18 \"/>\n",
       "<polyline clip-path=\"url(#clip120)\" style=\"stroke:#000000; stroke-linecap:round; stroke-linejoin:round; stroke-width:4; stroke-opacity:1; fill:none\" points=\"232.389,398.334 251.287,398.334 \"/>\n",
       "<polyline clip-path=\"url(#clip120)\" style=\"stroke:#000000; stroke-linecap:round; stroke-linejoin:round; stroke-width:4; stroke-opacity:1; fill:none\" points=\"232.389,87.4877 251.287,87.4877 \"/>\n",
       "<path clip-path=\"url(#clip120)\" d=\"M184.445 1316.67 Q180.834 1316.67 179.005 1320.24 Q177.2 1323.78 177.2 1330.91 Q177.2 1338.01 179.005 1341.58 Q180.834 1345.12 184.445 1345.12 Q188.079 1345.12 189.885 1341.58 Q191.713 1338.01 191.713 1330.91 Q191.713 1323.78 189.885 1320.24 Q188.079 1316.67 184.445 1316.67 M184.445 1312.97 Q190.255 1312.97 193.311 1317.57 Q196.389 1322.16 196.389 1330.91 Q196.389 1339.63 193.311 1344.24 Q190.255 1348.82 184.445 1348.82 Q178.635 1348.82 175.556 1344.24 Q172.501 1339.63 172.501 1330.91 Q172.501 1322.16 175.556 1317.57 Q178.635 1312.97 184.445 1312.97 Z\" fill=\"#000000\" fill-rule=\"nonzero\" fill-opacity=\"1\" /><path clip-path=\"url(#clip120)\" d=\"M149.306 1033.37 L165.626 1033.37 L165.626 1037.31 L143.681 1037.31 L143.681 1033.37 Q146.343 1030.62 150.927 1025.99 Q155.533 1021.33 156.714 1019.99 Q158.959 1017.47 159.839 1015.73 Q160.741 1013.97 160.741 1012.28 Q160.741 1009.53 158.797 1007.79 Q156.876 1006.06 153.774 1006.06 Q151.575 1006.06 149.121 1006.82 Q146.691 1007.58 143.913 1009.14 L143.913 1004.41 Q146.737 1003.28 149.191 1002.7 Q151.644 1002.12 153.681 1002.12 Q159.052 1002.12 162.246 1004.81 Q165.44 1007.49 165.44 1011.98 Q165.44 1014.11 164.63 1016.03 Q163.843 1017.93 161.737 1020.52 Q161.158 1021.2 158.056 1024.41 Q154.954 1027.61 149.306 1033.37 Z\" fill=\"#000000\" fill-rule=\"nonzero\" fill-opacity=\"1\" /><path clip-path=\"url(#clip120)\" d=\"M175.487 1002.75 L193.843 1002.75 L193.843 1006.68 L179.769 1006.68 L179.769 1015.15 Q180.788 1014.81 181.806 1014.64 Q182.825 1014.46 183.843 1014.46 Q189.63 1014.46 193.01 1017.63 Q196.389 1020.8 196.389 1026.22 Q196.389 1031.8 192.917 1034.9 Q189.445 1037.98 183.126 1037.98 Q180.95 1037.98 178.681 1037.61 Q176.436 1037.24 174.028 1036.5 L174.028 1031.8 Q176.112 1032.93 178.334 1033.49 Q180.556 1034.04 183.033 1034.04 Q187.038 1034.04 189.375 1031.94 Q191.713 1029.83 191.713 1026.22 Q191.713 1022.61 189.375 1020.5 Q187.038 1018.39 183.033 1018.39 Q181.158 1018.39 179.283 1018.81 Q177.431 1019.23 175.487 1020.11 L175.487 1002.75 Z\" fill=\"#000000\" fill-rule=\"nonzero\" fill-opacity=\"1\" /><path clip-path=\"url(#clip120)\" d=\"M144.329 691.9 L162.686 691.9 L162.686 695.835 L148.612 695.835 L148.612 704.307 Q149.63 703.96 150.649 703.798 Q151.667 703.613 152.686 703.613 Q158.473 703.613 161.852 706.784 Q165.232 709.956 165.232 715.372 Q165.232 720.951 161.76 724.053 Q158.288 727.131 151.968 727.131 Q149.792 727.131 147.524 726.761 Q145.279 726.391 142.871 725.65 L142.871 720.951 Q144.954 722.085 147.177 722.641 Q149.399 723.196 151.876 723.196 Q155.88 723.196 158.218 721.09 Q160.556 718.983 160.556 715.372 Q160.556 711.761 158.218 709.655 Q155.88 707.548 151.876 707.548 Q150.001 707.548 148.126 707.965 Q146.274 708.381 144.329 709.261 L144.329 691.9 Z\" fill=\"#000000\" fill-rule=\"nonzero\" fill-opacity=\"1\" /><path clip-path=\"url(#clip120)\" d=\"M184.445 694.979 Q180.834 694.979 179.005 698.544 Q177.2 702.085 177.2 709.215 Q177.2 716.321 179.005 719.886 Q180.834 723.428 184.445 723.428 Q188.079 723.428 189.885 719.886 Q191.713 716.321 191.713 709.215 Q191.713 702.085 189.885 698.544 Q188.079 694.979 184.445 694.979 M184.445 691.275 Q190.255 691.275 193.311 695.882 Q196.389 700.465 196.389 709.215 Q196.389 717.942 193.311 722.548 Q190.255 727.131 184.445 727.131 Q178.635 727.131 175.556 722.548 Q172.501 717.942 172.501 709.215 Q172.501 700.465 175.556 695.882 Q178.635 691.275 184.445 691.275 Z\" fill=\"#000000\" fill-rule=\"nonzero\" fill-opacity=\"1\" /><path clip-path=\"url(#clip120)\" d=\"M144.098 381.054 L166.32 381.054 L166.32 383.045 L153.774 415.614 L148.89 415.614 L160.695 384.989 L144.098 384.989 L144.098 381.054 Z\" fill=\"#000000\" fill-rule=\"nonzero\" fill-opacity=\"1\" /><path clip-path=\"url(#clip120)\" d=\"M175.487 381.054 L193.843 381.054 L193.843 384.989 L179.769 384.989 L179.769 393.461 Q180.788 393.114 181.806 392.952 Q182.825 392.767 183.843 392.767 Q189.63 392.767 193.01 395.938 Q196.389 399.109 196.389 404.526 Q196.389 410.105 192.917 413.206 Q189.445 416.285 183.126 416.285 Q180.95 416.285 178.681 415.915 Q176.436 415.544 174.028 414.804 L174.028 410.105 Q176.112 411.239 178.334 411.794 Q180.556 412.35 183.033 412.35 Q187.038 412.35 189.375 410.244 Q191.713 408.137 191.713 404.526 Q191.713 400.915 189.375 398.808 Q187.038 396.702 183.033 396.702 Q181.158 396.702 179.283 397.119 Q177.431 397.535 175.487 398.415 L175.487 381.054 Z\" fill=\"#000000\" fill-rule=\"nonzero\" fill-opacity=\"1\" /><path clip-path=\"url(#clip120)\" d=\"M114.931 100.833 L122.57 100.833 L122.57 74.467 L114.26 76.1336 L114.26 71.8744 L122.524 70.2077 L127.2 70.2077 L127.2 100.833 L134.839 100.833 L134.839 104.768 L114.931 104.768 L114.931 100.833 Z\" fill=\"#000000\" fill-rule=\"nonzero\" fill-opacity=\"1\" /><path clip-path=\"url(#clip120)\" d=\"M154.283 73.2864 Q150.672 73.2864 148.843 76.8512 Q147.038 80.3928 147.038 87.5224 Q147.038 94.6289 148.843 98.1937 Q150.672 101.735 154.283 101.735 Q157.917 101.735 159.723 98.1937 Q161.552 94.6289 161.552 87.5224 Q161.552 80.3928 159.723 76.8512 Q157.917 73.2864 154.283 73.2864 M154.283 69.5827 Q160.093 69.5827 163.149 74.1892 Q166.227 78.7725 166.227 87.5224 Q166.227 96.2492 163.149 100.856 Q160.093 105.439 154.283 105.439 Q148.473 105.439 145.394 100.856 Q142.339 96.2492 142.339 87.5224 Q142.339 78.7725 145.394 74.1892 Q148.473 69.5827 154.283 69.5827 Z\" fill=\"#000000\" fill-rule=\"nonzero\" fill-opacity=\"1\" /><path clip-path=\"url(#clip120)\" d=\"M184.445 73.2864 Q180.834 73.2864 179.005 76.8512 Q177.2 80.3928 177.2 87.5224 Q177.2 94.6289 179.005 98.1937 Q180.834 101.735 184.445 101.735 Q188.079 101.735 189.885 98.1937 Q191.713 94.6289 191.713 87.5224 Q191.713 80.3928 189.885 76.8512 Q188.079 73.2864 184.445 73.2864 M184.445 69.5827 Q190.255 69.5827 193.311 74.1892 Q196.389 78.7725 196.389 87.5224 Q196.389 96.2492 193.311 100.856 Q190.255 105.439 184.445 105.439 Q178.635 105.439 175.556 100.856 Q172.501 96.2492 172.501 87.5224 Q172.501 78.7725 175.556 74.1892 Q178.635 69.5827 184.445 69.5827 Z\" fill=\"#000000\" fill-rule=\"nonzero\" fill-opacity=\"1\" /><path clip-path=\"url(#clip120)\" d=\"M16.4842 750.521 L16.4842 720.475 L21.895 720.475 L21.895 744.092 L35.9632 744.092 L35.9632 721.462 L41.3741 721.462 L41.3741 744.092 L58.5933 744.092 L58.5933 719.902 L64.0042 719.902 L64.0042 750.521 L16.4842 750.521 Z\" fill=\"#000000\" fill-rule=\"nonzero\" fill-opacity=\"1\" /><path clip-path=\"url(#clip122)\" d=\"M292.4 1359.98 L286.76 1376.21 L269.576 1376.57 L283.28 1386.96 L278.288 1403.4 L292.4 1393.58 L306.512 1403.4 L301.52 1386.96 L315.224 1376.57 L298.04 1376.21 L292.4 1359.98 Z\" fill=\"#009af9\" fill-rule=\"evenodd\" fill-opacity=\"1\" stroke=\"#000000\" stroke-opacity=\"1\" stroke-width=\"3.2\"/>\n",
       "<path clip-path=\"url(#clip122)\" d=\"M349.552 1356.56 L343.912 1372.79 L326.728 1373.15 L340.432 1383.54 L335.44 1399.98 L349.552 1390.16 L363.664 1399.98 L358.672 1383.54 L372.376 1373.15 L355.192 1372.79 L349.552 1356.56 Z\" fill=\"#009af9\" fill-rule=\"evenodd\" fill-opacity=\"1\" stroke=\"#000000\" stroke-opacity=\"1\" stroke-width=\"3.2\"/>\n",
       "<path clip-path=\"url(#clip122)\" d=\"M406.705 1356.56 L401.065 1372.79 L383.881 1373.15 L397.585 1383.54 L392.593 1399.98 L406.705 1390.16 L420.817 1399.98 L415.825 1383.54 L429.529 1373.15 L412.345 1372.79 L406.705 1356.56 Z\" fill=\"#009af9\" fill-rule=\"evenodd\" fill-opacity=\"1\" stroke=\"#000000\" stroke-opacity=\"1\" stroke-width=\"3.2\"/>\n",
       "<path clip-path=\"url(#clip122)\" d=\"M463.858 1334.88 L458.218 1351.11 L441.034 1351.47 L454.738 1361.86 L449.746 1378.3 L463.858 1368.48 L477.97 1378.3 L472.978 1361.86 L486.682 1351.47 L469.498 1351.11 L463.858 1334.88 Z\" fill=\"#009af9\" fill-rule=\"evenodd\" fill-opacity=\"1\" stroke=\"#000000\" stroke-opacity=\"1\" stroke-width=\"3.2\"/>\n",
       "<path clip-path=\"url(#clip122)\" d=\"M521.011 1334.88 L515.371 1351.11 L498.187 1351.47 L511.891 1361.86 L506.899 1378.3 L521.011 1368.48 L535.123 1378.3 L530.131 1361.86 L543.835 1351.47 L526.651 1351.11 L521.011 1334.88 Z\" fill=\"#009af9\" fill-rule=\"evenodd\" fill-opacity=\"1\" stroke=\"#000000\" stroke-opacity=\"1\" stroke-width=\"3.2\"/>\n",
       "<path clip-path=\"url(#clip122)\" d=\"M578.163 1331.74 L572.523 1347.96 L555.339 1348.32 L569.043 1358.72 L564.051 1375.16 L578.163 1365.34 L592.275 1375.16 L587.283 1358.72 L600.987 1348.32 L583.803 1347.96 L578.163 1331.74 Z\" fill=\"#009af9\" fill-rule=\"evenodd\" fill-opacity=\"1\" stroke=\"#000000\" stroke-opacity=\"1\" stroke-width=\"3.2\"/>\n",
       "<path clip-path=\"url(#clip122)\" d=\"M635.316 1327.14 L629.676 1343.36 L612.492 1343.72 L626.196 1354.11 L621.204 1370.55 L635.316 1360.74 L649.428 1370.55 L644.436 1354.11 L658.14 1343.72 L640.956 1343.36 L635.316 1327.14 Z\" fill=\"#009af9\" fill-rule=\"evenodd\" fill-opacity=\"1\" stroke=\"#000000\" stroke-opacity=\"1\" stroke-width=\"3.2\"/>\n",
       "<path clip-path=\"url(#clip122)\" d=\"M692.469 1327.14 L686.829 1343.36 L669.645 1343.72 L683.349 1354.11 L678.357 1370.55 L692.469 1360.74 L706.581 1370.55 L701.589 1354.11 L715.293 1343.72 L698.109 1343.36 L692.469 1327.14 Z\" fill=\"#009af9\" fill-rule=\"evenodd\" fill-opacity=\"1\" stroke=\"#000000\" stroke-opacity=\"1\" stroke-width=\"3.2\"/>\n",
       "<path clip-path=\"url(#clip122)\" d=\"M749.622 1323.34 L743.982 1339.56 L726.798 1339.92 L740.502 1350.31 L735.51 1366.75 L749.622 1356.94 L763.734 1366.75 L758.742 1350.31 L772.446 1339.92 L755.262 1339.56 L749.622 1323.34 Z\" fill=\"#009af9\" fill-rule=\"evenodd\" fill-opacity=\"1\" stroke=\"#000000\" stroke-opacity=\"1\" stroke-width=\"3.2\"/>\n",
       "<path clip-path=\"url(#clip122)\" d=\"M806.774 1313.65 L801.134 1329.88 L783.95 1330.24 L797.654 1340.63 L792.662 1357.07 L806.774 1347.25 L820.886 1357.07 L815.894 1340.63 L829.598 1330.24 L812.414 1329.88 L806.774 1313.65 Z\" fill=\"#009af9\" fill-rule=\"evenodd\" fill-opacity=\"1\" stroke=\"#000000\" stroke-opacity=\"1\" stroke-width=\"3.2\"/>\n",
       "<path clip-path=\"url(#clip122)\" d=\"M863.927 1313.65 L858.287 1329.88 L841.103 1330.24 L854.807 1340.63 L849.815 1357.07 L863.927 1347.25 L878.039 1357.07 L873.047 1340.63 L886.751 1330.24 L869.567 1329.88 L863.927 1313.65 Z\" fill=\"#009af9\" fill-rule=\"evenodd\" fill-opacity=\"1\" stroke=\"#000000\" stroke-opacity=\"1\" stroke-width=\"3.2\"/>\n",
       "<path clip-path=\"url(#clip122)\" d=\"M921.08 1306.87 L915.44 1323.1 L898.256 1323.46 L911.96 1333.85 L906.968 1350.29 L921.08 1340.47 L935.192 1350.29 L930.2 1333.85 L943.904 1323.46 L926.72 1323.1 L921.08 1306.87 Z\" fill=\"#009af9\" fill-rule=\"evenodd\" fill-opacity=\"1\" stroke=\"#000000\" stroke-opacity=\"1\" stroke-width=\"3.2\"/>\n",
       "<path clip-path=\"url(#clip122)\" d=\"M978.233 1306.87 L972.593 1323.1 L955.409 1323.46 L969.113 1333.85 L964.121 1350.29 L978.233 1340.47 L992.345 1350.29 L987.353 1333.85 L1001.06 1323.46 L983.873 1323.1 L978.233 1306.87 Z\" fill=\"#009af9\" fill-rule=\"evenodd\" fill-opacity=\"1\" stroke=\"#000000\" stroke-opacity=\"1\" stroke-width=\"3.2\"/>\n",
       "<path clip-path=\"url(#clip122)\" d=\"M1035.39 1306.87 L1029.75 1323.1 L1012.56 1323.46 L1026.27 1333.85 L1021.27 1350.29 L1035.39 1340.47 L1049.5 1350.29 L1044.51 1333.85 L1058.21 1323.46 L1041.03 1323.1 L1035.39 1306.87 Z\" fill=\"#009af9\" fill-rule=\"evenodd\" fill-opacity=\"1\" stroke=\"#000000\" stroke-opacity=\"1\" stroke-width=\"3.2\"/>\n",
       "<path clip-path=\"url(#clip122)\" d=\"M1092.54 1306.87 L1086.9 1323.1 L1069.71 1323.46 L1083.42 1333.85 L1078.43 1350.29 L1092.54 1340.47 L1106.65 1350.29 L1101.66 1333.85 L1115.36 1323.46 L1098.18 1323.1 L1092.54 1306.87 Z\" fill=\"#009af9\" fill-rule=\"evenodd\" fill-opacity=\"1\" stroke=\"#000000\" stroke-opacity=\"1\" stroke-width=\"3.2\"/>\n",
       "<path clip-path=\"url(#clip122)\" d=\"M1149.69 1306.87 L1144.05 1323.1 L1126.87 1323.46 L1140.57 1333.85 L1135.58 1350.29 L1149.69 1340.47 L1163.8 1350.29 L1158.81 1333.85 L1172.51 1323.46 L1155.33 1323.1 L1149.69 1306.87 Z\" fill=\"#009af9\" fill-rule=\"evenodd\" fill-opacity=\"1\" stroke=\"#000000\" stroke-opacity=\"1\" stroke-width=\"3.2\"/>\n",
       "<path clip-path=\"url(#clip122)\" d=\"M1206.84 1306.87 L1201.2 1323.1 L1184.02 1323.46 L1197.72 1333.85 L1192.73 1350.29 L1206.84 1340.47 L1220.96 1350.29 L1215.96 1333.85 L1229.67 1323.46 L1212.48 1323.1 L1206.84 1306.87 Z\" fill=\"#009af9\" fill-rule=\"evenodd\" fill-opacity=\"1\" stroke=\"#000000\" stroke-opacity=\"1\" stroke-width=\"3.2\"/>\n",
       "<path clip-path=\"url(#clip122)\" d=\"M1264 1300.09 L1258.36 1316.32 L1241.17 1316.68 L1254.88 1327.07 L1249.88 1343.51 L1264 1333.69 L1278.11 1343.51 L1273.12 1327.07 L1286.82 1316.68 L1269.64 1316.32 L1264 1300.09 Z\" fill=\"#009af9\" fill-rule=\"evenodd\" fill-opacity=\"1\" stroke=\"#000000\" stroke-opacity=\"1\" stroke-width=\"3.2\"/>\n",
       "<path clip-path=\"url(#clip122)\" d=\"M1321.15 1300.09 L1315.51 1316.32 L1298.32 1316.68 L1312.03 1327.07 L1307.04 1343.51 L1321.15 1333.69 L1335.26 1343.51 L1330.27 1327.07 L1343.97 1316.68 L1326.79 1316.32 L1321.15 1300.09 Z\" fill=\"#009af9\" fill-rule=\"evenodd\" fill-opacity=\"1\" stroke=\"#000000\" stroke-opacity=\"1\" stroke-width=\"3.2\"/>\n",
       "<path clip-path=\"url(#clip122)\" d=\"M1378.3 1290.41 L1372.66 1306.63 L1355.48 1306.99 L1369.18 1317.38 L1364.19 1333.82 L1378.3 1324.01 L1392.41 1333.82 L1387.42 1317.38 L1401.13 1306.99 L1383.94 1306.63 L1378.3 1290.41 Z\" fill=\"#009af9\" fill-rule=\"evenodd\" fill-opacity=\"1\" stroke=\"#000000\" stroke-opacity=\"1\" stroke-width=\"3.2\"/>\n",
       "<path clip-path=\"url(#clip122)\" d=\"M1435.45 1286.61 L1429.81 1302.83 L1412.63 1303.19 L1426.33 1313.58 L1421.34 1330.02 L1435.45 1320.21 L1449.57 1330.02 L1444.57 1313.58 L1458.28 1303.19 L1441.09 1302.83 L1435.45 1286.61 Z\" fill=\"#009af9\" fill-rule=\"evenodd\" fill-opacity=\"1\" stroke=\"#000000\" stroke-opacity=\"1\" stroke-width=\"3.2\"/>\n",
       "<path clip-path=\"url(#clip122)\" d=\"M1492.61 1286.61 L1486.97 1302.83 L1469.78 1303.19 L1483.49 1313.58 L1478.5 1330.02 L1492.61 1320.21 L1506.72 1330.02 L1501.73 1313.58 L1515.43 1303.19 L1498.25 1302.83 L1492.61 1286.61 Z\" fill=\"#009af9\" fill-rule=\"evenodd\" fill-opacity=\"1\" stroke=\"#000000\" stroke-opacity=\"1\" stroke-width=\"3.2\"/>\n",
       "<path clip-path=\"url(#clip122)\" d=\"M1549.76 1282 L1544.12 1298.23 L1526.94 1298.59 L1540.64 1308.98 L1535.65 1325.42 L1549.76 1315.6 L1563.87 1325.42 L1558.88 1308.98 L1572.58 1298.59 L1555.4 1298.23 L1549.76 1282 Z\" fill=\"#009af9\" fill-rule=\"evenodd\" fill-opacity=\"1\" stroke=\"#000000\" stroke-opacity=\"1\" stroke-width=\"3.2\"/>\n",
       "<path clip-path=\"url(#clip122)\" d=\"M1606.91 1278.86 L1601.27 1295.09 L1584.09 1295.45 L1597.79 1305.84 L1592.8 1322.28 L1606.91 1312.46 L1621.02 1322.28 L1616.03 1305.84 L1629.74 1295.45 L1612.55 1295.09 L1606.91 1278.86 Z\" fill=\"#009af9\" fill-rule=\"evenodd\" fill-opacity=\"1\" stroke=\"#000000\" stroke-opacity=\"1\" stroke-width=\"3.2\"/>\n",
       "<path clip-path=\"url(#clip122)\" d=\"M1664.07 1278.86 L1658.43 1295.09 L1641.24 1295.45 L1654.95 1305.84 L1649.95 1322.28 L1664.07 1312.46 L1678.18 1322.28 L1673.19 1305.84 L1686.89 1295.45 L1669.71 1295.09 L1664.07 1278.86 Z\" fill=\"#009af9\" fill-rule=\"evenodd\" fill-opacity=\"1\" stroke=\"#000000\" stroke-opacity=\"1\" stroke-width=\"3.2\"/>\n",
       "<path clip-path=\"url(#clip122)\" d=\"M1721.22 1257.18 L1715.58 1273.4 L1698.39 1273.76 L1712.1 1284.16 L1707.11 1300.6 L1721.22 1290.78 L1735.33 1300.6 L1730.34 1284.16 L1744.04 1273.76 L1726.86 1273.4 L1721.22 1257.18 Z\" fill=\"#009af9\" fill-rule=\"evenodd\" fill-opacity=\"1\" stroke=\"#000000\" stroke-opacity=\"1\" stroke-width=\"3.2\"/>\n",
       "<path clip-path=\"url(#clip122)\" d=\"M1778.37 1257.18 L1772.73 1273.4 L1755.55 1273.76 L1769.25 1284.16 L1764.26 1300.6 L1778.37 1290.78 L1792.48 1300.6 L1787.49 1284.16 L1801.19 1273.76 L1784.01 1273.4 L1778.37 1257.18 Z\" fill=\"#009af9\" fill-rule=\"evenodd\" fill-opacity=\"1\" stroke=\"#000000\" stroke-opacity=\"1\" stroke-width=\"3.2\"/>\n",
       "<path clip-path=\"url(#clip122)\" d=\"M1835.52 1253.76 L1829.88 1269.98 L1812.7 1270.34 L1826.4 1280.74 L1821.41 1297.18 L1835.52 1287.36 L1849.64 1297.18 L1844.64 1280.74 L1858.35 1270.34 L1841.16 1269.98 L1835.52 1253.76 Z\" fill=\"#009af9\" fill-rule=\"evenodd\" fill-opacity=\"1\" stroke=\"#000000\" stroke-opacity=\"1\" stroke-width=\"3.2\"/>\n",
       "<circle clip-path=\"url(#clip122)\" cx=\"292.4\" cy=\"1384.24\" r=\"14.4\" fill=\"#e26f46\" fill-rule=\"evenodd\" fill-opacity=\"1\" stroke=\"#000000\" stroke-opacity=\"1\" stroke-width=\"3.2\"/>\n",
       "<circle clip-path=\"url(#clip122)\" cx=\"349.552\" cy=\"1380.9\" r=\"14.4\" fill=\"#e26f46\" fill-rule=\"evenodd\" fill-opacity=\"1\" stroke=\"#000000\" stroke-opacity=\"1\" stroke-width=\"3.2\"/>\n",
       "<circle clip-path=\"url(#clip122)\" cx=\"406.705\" cy=\"1380.9\" r=\"14.4\" fill=\"#e26f46\" fill-rule=\"evenodd\" fill-opacity=\"1\" stroke=\"#000000\" stroke-opacity=\"1\" stroke-width=\"3.2\"/>\n",
       "<circle clip-path=\"url(#clip122)\" cx=\"463.858\" cy=\"1359.1\" r=\"14.4\" fill=\"#e26f46\" fill-rule=\"evenodd\" fill-opacity=\"1\" stroke=\"#000000\" stroke-opacity=\"1\" stroke-width=\"3.2\"/>\n",
       "<circle clip-path=\"url(#clip122)\" cx=\"521.011\" cy=\"1359.1\" r=\"14.4\" fill=\"#e26f46\" fill-rule=\"evenodd\" fill-opacity=\"1\" stroke=\"#000000\" stroke-opacity=\"1\" stroke-width=\"3.2\"/>\n",
       "<circle clip-path=\"url(#clip122)\" cx=\"578.163\" cy=\"1355.99\" r=\"14.4\" fill=\"#e26f46\" fill-rule=\"evenodd\" fill-opacity=\"1\" stroke=\"#000000\" stroke-opacity=\"1\" stroke-width=\"3.2\"/>\n",
       "<circle clip-path=\"url(#clip122)\" cx=\"635.316\" cy=\"1351.27\" r=\"14.4\" fill=\"#e26f46\" fill-rule=\"evenodd\" fill-opacity=\"1\" stroke=\"#000000\" stroke-opacity=\"1\" stroke-width=\"3.2\"/>\n",
       "<circle clip-path=\"url(#clip122)\" cx=\"692.469\" cy=\"1351.27\" r=\"14.4\" fill=\"#e26f46\" fill-rule=\"evenodd\" fill-opacity=\"1\" stroke=\"#000000\" stroke-opacity=\"1\" stroke-width=\"3.2\"/>\n",
       "<circle clip-path=\"url(#clip122)\" cx=\"749.622\" cy=\"1347.45\" r=\"14.4\" fill=\"#e26f46\" fill-rule=\"evenodd\" fill-opacity=\"1\" stroke=\"#000000\" stroke-opacity=\"1\" stroke-width=\"3.2\"/>\n",
       "<circle clip-path=\"url(#clip122)\" cx=\"806.774\" cy=\"1337.69\" r=\"14.4\" fill=\"#e26f46\" fill-rule=\"evenodd\" fill-opacity=\"1\" stroke=\"#000000\" stroke-opacity=\"1\" stroke-width=\"3.2\"/>\n",
       "<circle clip-path=\"url(#clip122)\" cx=\"863.927\" cy=\"1337.69\" r=\"14.4\" fill=\"#e26f46\" fill-rule=\"evenodd\" fill-opacity=\"1\" stroke=\"#000000\" stroke-opacity=\"1\" stroke-width=\"3.2\"/>\n",
       "<circle clip-path=\"url(#clip122)\" cx=\"921.08\" cy=\"1331.87\" r=\"14.4\" fill=\"#e26f46\" fill-rule=\"evenodd\" fill-opacity=\"1\" stroke=\"#000000\" stroke-opacity=\"1\" stroke-width=\"3.2\"/>\n",
       "<circle clip-path=\"url(#clip122)\" cx=\"978.233\" cy=\"1331.37\" r=\"14.4\" fill=\"#e26f46\" fill-rule=\"evenodd\" fill-opacity=\"1\" stroke=\"#000000\" stroke-opacity=\"1\" stroke-width=\"3.2\"/>\n",
       "<circle clip-path=\"url(#clip122)\" cx=\"1035.39\" cy=\"1331.12\" r=\"14.4\" fill=\"#e26f46\" fill-rule=\"evenodd\" fill-opacity=\"1\" stroke=\"#000000\" stroke-opacity=\"1\" stroke-width=\"3.2\"/>\n",
       "<circle clip-path=\"url(#clip122)\" cx=\"1092.54\" cy=\"1330.87\" r=\"14.4\" fill=\"#e26f46\" fill-rule=\"evenodd\" fill-opacity=\"1\" stroke=\"#000000\" stroke-opacity=\"1\" stroke-width=\"3.2\"/>\n",
       "<circle clip-path=\"url(#clip122)\" cx=\"1149.69\" cy=\"1330.87\" r=\"14.4\" fill=\"#e26f46\" fill-rule=\"evenodd\" fill-opacity=\"1\" stroke=\"#000000\" stroke-opacity=\"1\" stroke-width=\"3.2\"/>\n",
       "<circle clip-path=\"url(#clip122)\" cx=\"1206.84\" cy=\"1330.87\" r=\"14.4\" fill=\"#e26f46\" fill-rule=\"evenodd\" fill-opacity=\"1\" stroke=\"#000000\" stroke-opacity=\"1\" stroke-width=\"3.2\"/>\n",
       "<circle clip-path=\"url(#clip122)\" cx=\"1264\" cy=\"1324.13\" r=\"14.4\" fill=\"#e26f46\" fill-rule=\"evenodd\" fill-opacity=\"1\" stroke=\"#000000\" stroke-opacity=\"1\" stroke-width=\"3.2\"/>\n",
       "<circle clip-path=\"url(#clip122)\" cx=\"1321.15\" cy=\"1324.13\" r=\"14.4\" fill=\"#e26f46\" fill-rule=\"evenodd\" fill-opacity=\"1\" stroke=\"#000000\" stroke-opacity=\"1\" stroke-width=\"3.2\"/>\n",
       "<circle clip-path=\"url(#clip122)\" cx=\"1378.3\" cy=\"1314.52\" r=\"14.4\" fill=\"#e26f46\" fill-rule=\"evenodd\" fill-opacity=\"1\" stroke=\"#000000\" stroke-opacity=\"1\" stroke-width=\"3.2\"/>\n",
       "<circle clip-path=\"url(#clip122)\" cx=\"1435.45\" cy=\"1310.75\" r=\"14.4\" fill=\"#e26f46\" fill-rule=\"evenodd\" fill-opacity=\"1\" stroke=\"#000000\" stroke-opacity=\"1\" stroke-width=\"3.2\"/>\n",
       "<circle clip-path=\"url(#clip122)\" cx=\"1492.61\" cy=\"1310.75\" r=\"14.4\" fill=\"#e26f46\" fill-rule=\"evenodd\" fill-opacity=\"1\" stroke=\"#000000\" stroke-opacity=\"1\" stroke-width=\"3.2\"/>\n",
       "<circle clip-path=\"url(#clip122)\" cx=\"1549.76\" cy=\"1306.26\" r=\"14.4\" fill=\"#e26f46\" fill-rule=\"evenodd\" fill-opacity=\"1\" stroke=\"#000000\" stroke-opacity=\"1\" stroke-width=\"3.2\"/>\n",
       "<circle clip-path=\"url(#clip122)\" cx=\"1606.91\" cy=\"1303.09\" r=\"14.4\" fill=\"#e26f46\" fill-rule=\"evenodd\" fill-opacity=\"1\" stroke=\"#000000\" stroke-opacity=\"1\" stroke-width=\"3.2\"/>\n",
       "<circle clip-path=\"url(#clip122)\" cx=\"1664.07\" cy=\"1303.09\" r=\"14.4\" fill=\"#e26f46\" fill-rule=\"evenodd\" fill-opacity=\"1\" stroke=\"#000000\" stroke-opacity=\"1\" stroke-width=\"3.2\"/>\n",
       "<circle clip-path=\"url(#clip122)\" cx=\"1721.22\" cy=\"1281.53\" r=\"14.4\" fill=\"#e26f46\" fill-rule=\"evenodd\" fill-opacity=\"1\" stroke=\"#000000\" stroke-opacity=\"1\" stroke-width=\"3.2\"/>\n",
       "<circle clip-path=\"url(#clip122)\" cx=\"1778.37\" cy=\"1281.53\" r=\"14.4\" fill=\"#e26f46\" fill-rule=\"evenodd\" fill-opacity=\"1\" stroke=\"#000000\" stroke-opacity=\"1\" stroke-width=\"3.2\"/>\n",
       "<circle clip-path=\"url(#clip122)\" cx=\"1835.52\" cy=\"1278.03\" r=\"14.4\" fill=\"#e26f46\" fill-rule=\"evenodd\" fill-opacity=\"1\" stroke=\"#000000\" stroke-opacity=\"1\" stroke-width=\"3.2\"/>\n",
       "<circle clip-path=\"url(#clip122)\" cx=\"1892.68\" cy=\"87.2977\" r=\"14.4\" fill=\"#e26f46\" fill-rule=\"evenodd\" fill-opacity=\"1\" stroke=\"#000000\" stroke-opacity=\"1\" stroke-width=\"3.2\"/>\n",
       "<circle clip-path=\"url(#clip122)\" cx=\"1949.83\" cy=\"87.2977\" r=\"14.4\" fill=\"#e26f46\" fill-rule=\"evenodd\" fill-opacity=\"1\" stroke=\"#000000\" stroke-opacity=\"1\" stroke-width=\"3.2\"/>\n",
       "<circle clip-path=\"url(#clip122)\" cx=\"2006.98\" cy=\"86.9906\" r=\"14.4\" fill=\"#e26f46\" fill-rule=\"evenodd\" fill-opacity=\"1\" stroke=\"#000000\" stroke-opacity=\"1\" stroke-width=\"3.2\"/>\n",
       "<circle clip-path=\"url(#clip122)\" cx=\"2064.13\" cy=\"86.9904\" r=\"14.4\" fill=\"#e26f46\" fill-rule=\"evenodd\" fill-opacity=\"1\" stroke=\"#000000\" stroke-opacity=\"1\" stroke-width=\"3.2\"/>\n",
       "<circle clip-path=\"url(#clip122)\" cx=\"2121.29\" cy=\"86.4938\" r=\"14.4\" fill=\"#e26f46\" fill-rule=\"evenodd\" fill-opacity=\"1\" stroke=\"#000000\" stroke-opacity=\"1\" stroke-width=\"3.2\"/>\n",
       "<circle clip-path=\"url(#clip122)\" cx=\"2178.44\" cy=\"86.4928\" r=\"14.4\" fill=\"#e26f46\" fill-rule=\"evenodd\" fill-opacity=\"1\" stroke=\"#000000\" stroke-opacity=\"1\" stroke-width=\"3.2\"/>\n",
       "<circle clip-path=\"url(#clip122)\" cx=\"2235.59\" cy=\"86.1857\" r=\"14.4\" fill=\"#e26f46\" fill-rule=\"evenodd\" fill-opacity=\"1\" stroke=\"#000000\" stroke-opacity=\"1\" stroke-width=\"3.2\"/>\n",
       "<circle clip-path=\"url(#clip122)\" cx=\"2292.75\" cy=\"86.1857\" r=\"14.4\" fill=\"#e26f46\" fill-rule=\"evenodd\" fill-opacity=\"1\" stroke=\"#000000\" stroke-opacity=\"1\" stroke-width=\"3.2\"/>\n",
       "<path clip-path=\"url(#clip120)\" d=\"M303.068 248.629 L748.205 248.629 L748.205 93.1086 L303.068 93.1086  Z\" fill=\"#ffffff\" fill-rule=\"evenodd\" fill-opacity=\"1\"/>\n",
       "<polyline clip-path=\"url(#clip120)\" style=\"stroke:#000000; stroke-linecap:round; stroke-linejoin:round; stroke-width:4; stroke-opacity:1; fill:none\" points=\"303.068,248.629 748.205,248.629 748.205,93.1086 303.068,93.1086 303.068,248.629 \"/>\n",
       "<path clip-path=\"url(#clip120)\" d=\"M397.307 119.349 L391.291 136.654 L372.961 137.038 L387.579 148.123 L382.254 165.659 L397.307 155.189 L412.36 165.659 L407.035 148.123 L421.652 137.038 L403.323 136.654 L397.307 119.349 Z\" fill=\"#009af9\" fill-rule=\"evenodd\" fill-opacity=\"1\" stroke=\"#000000\" stroke-opacity=\"1\" stroke-width=\"3.41333\"/>\n",
       "<path clip-path=\"url(#clip120)\" d=\"M491.545 127.669 L496.221 127.669 L496.221 141.835 L513.212 141.835 L513.212 127.669 L517.888 127.669 L517.888 162.229 L513.212 162.229 L513.212 145.77 L496.221 145.77 L496.221 162.229 L491.545 162.229 L491.545 127.669 Z\" fill=\"#000000\" fill-rule=\"nonzero\" fill-opacity=\"1\" /><path clip-path=\"url(#clip120)\" d=\"M538.79 149.196 Q533.628 149.196 531.638 150.377 Q529.647 151.557 529.647 154.405 Q529.647 156.673 531.128 158.016 Q532.633 159.335 535.202 159.335 Q538.744 159.335 540.874 156.835 Q543.026 154.312 543.026 150.145 L543.026 149.196 L538.79 149.196 M547.286 147.437 L547.286 162.229 L543.026 162.229 L543.026 158.293 Q541.568 160.655 539.392 161.789 Q537.216 162.9 534.068 162.9 Q530.087 162.9 527.726 160.678 Q525.388 158.432 525.388 154.682 Q525.388 150.307 528.304 148.085 Q531.244 145.863 537.054 145.863 L543.026 145.863 L543.026 145.446 Q543.026 142.507 541.082 140.909 Q539.161 139.289 535.665 139.289 Q533.443 139.289 531.337 139.821 Q529.23 140.354 527.286 141.419 L527.286 137.483 Q529.624 136.581 531.823 136.141 Q534.022 135.678 536.105 135.678 Q541.73 135.678 544.508 138.594 Q547.286 141.511 547.286 147.437 Z\" fill=\"#000000\" fill-rule=\"nonzero\" fill-opacity=\"1\" /><path clip-path=\"url(#clip120)\" d=\"M571.082 140.284 Q570.364 139.868 569.508 139.682 Q568.674 139.474 567.656 139.474 Q564.045 139.474 562.1 141.835 Q560.179 144.173 560.179 148.571 L560.179 162.229 L555.897 162.229 L555.897 136.303 L560.179 136.303 L560.179 140.331 Q561.522 137.969 563.675 136.835 Q565.827 135.678 568.906 135.678 Q569.346 135.678 569.878 135.747 Q570.411 135.794 571.059 135.909 L571.082 140.284 Z\" fill=\"#000000\" fill-rule=\"nonzero\" fill-opacity=\"1\" /><path clip-path=\"url(#clip120)\" d=\"M591.776 140.238 L591.776 126.21 L596.035 126.21 L596.035 162.229 L591.776 162.229 L591.776 158.34 Q590.434 160.655 588.373 161.789 Q586.336 162.9 583.466 162.9 Q578.767 162.9 575.804 159.15 Q572.864 155.4 572.864 149.289 Q572.864 143.178 575.804 139.428 Q578.767 135.678 583.466 135.678 Q586.336 135.678 588.373 136.812 Q590.434 137.923 591.776 140.238 M577.262 149.289 Q577.262 153.988 579.184 156.673 Q581.128 159.335 584.508 159.335 Q587.887 159.335 589.832 156.673 Q591.776 153.988 591.776 149.289 Q591.776 144.59 589.832 141.928 Q587.887 139.243 584.508 139.243 Q581.128 139.243 579.184 141.928 Q577.262 144.59 577.262 149.289 Z\" fill=\"#000000\" fill-rule=\"nonzero\" fill-opacity=\"1\" /><path clip-path=\"url(#clip120)\" d=\"M602.656 147.344 L615.133 147.344 L615.133 151.141 L602.656 151.141 L602.656 147.344 Z\" fill=\"#000000\" fill-rule=\"nonzero\" fill-opacity=\"1\" /><path clip-path=\"url(#clip120)\" d=\"M647.98 130.331 L647.98 135.261 Q645.619 133.062 642.933 131.974 Q640.271 130.886 637.262 130.886 Q631.336 130.886 628.188 134.52 Q625.04 138.132 625.04 144.983 Q625.04 151.812 628.188 155.446 Q631.336 159.057 637.262 159.057 Q640.271 159.057 642.933 157.969 Q645.619 156.881 647.98 154.682 L647.98 159.567 Q645.526 161.233 642.771 162.067 Q640.04 162.9 636.984 162.9 Q629.137 162.9 624.623 158.108 Q620.109 153.293 620.109 144.983 Q620.109 136.65 624.623 131.858 Q629.137 127.044 636.984 127.044 Q640.086 127.044 642.818 127.877 Q645.572 128.687 647.98 130.331 Z\" fill=\"#000000\" fill-rule=\"nonzero\" fill-opacity=\"1\" /><path clip-path=\"url(#clip120)\" d=\"M665.063 139.289 Q661.637 139.289 659.646 141.974 Q657.655 144.636 657.655 149.289 Q657.655 153.942 659.623 156.627 Q661.614 159.289 665.063 159.289 Q668.466 159.289 670.456 156.604 Q672.447 153.918 672.447 149.289 Q672.447 144.682 670.456 141.997 Q668.466 139.289 665.063 139.289 M665.063 135.678 Q670.618 135.678 673.79 139.289 Q676.961 142.9 676.961 149.289 Q676.961 155.655 673.79 159.289 Q670.618 162.9 665.063 162.9 Q659.484 162.9 656.313 159.289 Q653.165 155.655 653.165 149.289 Q653.165 142.9 656.313 139.289 Q659.484 135.678 665.063 135.678 Z\" fill=\"#000000\" fill-rule=\"nonzero\" fill-opacity=\"1\" /><path clip-path=\"url(#clip120)\" d=\"M699.044 140.284 Q698.327 139.868 697.47 139.682 Q696.637 139.474 695.618 139.474 Q692.007 139.474 690.063 141.835 Q688.141 144.173 688.141 148.571 L688.141 162.229 L683.859 162.229 L683.859 136.303 L688.141 136.303 L688.141 140.331 Q689.484 137.969 691.637 136.835 Q693.79 135.678 696.868 135.678 Q697.308 135.678 697.84 135.747 Q698.373 135.794 699.021 135.909 L699.044 140.284 Z\" fill=\"#000000\" fill-rule=\"nonzero\" fill-opacity=\"1\" /><path clip-path=\"url(#clip120)\" d=\"M724.646 148.201 L724.646 150.284 L705.063 150.284 Q705.34 154.682 707.702 156.997 Q710.086 159.289 714.322 159.289 Q716.776 159.289 719.067 158.687 Q721.382 158.085 723.65 156.881 L723.65 160.909 Q721.359 161.881 718.951 162.391 Q716.544 162.9 714.067 162.9 Q707.864 162.9 704.229 159.289 Q700.618 155.678 700.618 149.52 Q700.618 143.155 704.044 139.428 Q707.493 135.678 713.326 135.678 Q718.558 135.678 721.59 139.057 Q724.646 142.414 724.646 148.201 M720.387 146.951 Q720.34 143.456 718.419 141.372 Q716.521 139.289 713.373 139.289 Q709.808 139.289 707.655 141.303 Q705.526 143.317 705.202 146.974 L720.387 146.951 Z\" fill=\"#000000\" fill-rule=\"nonzero\" fill-opacity=\"1\" /><circle clip-path=\"url(#clip120)\" cx=\"397.307\" cy=\"196.789\" r=\"23.04\" fill=\"#e26f46\" fill-rule=\"evenodd\" fill-opacity=\"1\" stroke=\"#000000\" stroke-opacity=\"1\" stroke-width=\"5.12\"/>\n",
       "<path clip-path=\"url(#clip120)\" d=\"M491.545 179.509 L511.406 179.509 L511.406 183.444 L496.221 183.444 L496.221 193.629 L509.925 193.629 L509.925 197.564 L496.221 197.564 L496.221 214.069 L491.545 214.069 L491.545 179.509 Z\" fill=\"#000000\" fill-rule=\"nonzero\" fill-opacity=\"1\" /><path clip-path=\"url(#clip120)\" d=\"M515.179 188.143 L519.439 188.143 L519.439 214.069 L515.179 214.069 L515.179 188.143 M515.179 178.05 L519.439 178.05 L519.439 183.444 L515.179 183.444 L515.179 178.05 Z\" fill=\"#000000\" fill-rule=\"nonzero\" fill-opacity=\"1\" /><path clip-path=\"url(#clip120)\" d=\"M549.901 198.421 L549.901 214.069 L545.642 214.069 L545.642 198.559 Q545.642 194.879 544.207 193.05 Q542.772 191.222 539.901 191.222 Q536.452 191.222 534.462 193.421 Q532.471 195.62 532.471 199.416 L532.471 214.069 L528.189 214.069 L528.189 188.143 L532.471 188.143 L532.471 192.171 Q533.999 189.833 536.059 188.675 Q538.142 187.518 540.851 187.518 Q545.318 187.518 547.61 190.296 Q549.901 193.05 549.901 198.421 Z\" fill=\"#000000\" fill-rule=\"nonzero\" fill-opacity=\"1\" /><path clip-path=\"url(#clip120)\" d=\"M558.397 188.143 L562.656 188.143 L562.656 214.069 L558.397 214.069 L558.397 188.143 M558.397 178.05 L562.656 178.05 L562.656 183.444 L558.397 183.444 L558.397 178.05 Z\" fill=\"#000000\" fill-rule=\"nonzero\" fill-opacity=\"1\" /><path clip-path=\"url(#clip120)\" d=\"M575.781 180.782 L575.781 188.143 L584.554 188.143 L584.554 191.453 L575.781 191.453 L575.781 205.527 Q575.781 208.698 576.637 209.601 Q577.517 210.504 580.179 210.504 L584.554 210.504 L584.554 214.069 L580.179 214.069 Q575.249 214.069 573.374 212.24 Q571.499 210.388 571.499 205.527 L571.499 191.453 L568.374 191.453 L568.374 188.143 L571.499 188.143 L571.499 180.782 L575.781 180.782 Z\" fill=\"#000000\" fill-rule=\"nonzero\" fill-opacity=\"1\" /><path clip-path=\"url(#clip120)\" d=\"M612.332 200.041 L612.332 202.124 L592.748 202.124 Q593.026 206.522 595.387 208.837 Q597.772 211.129 602.008 211.129 Q604.461 211.129 606.753 210.527 Q609.068 209.925 611.336 208.721 L611.336 212.749 Q609.045 213.721 606.637 214.231 Q604.23 214.74 601.753 214.74 Q595.549 214.74 591.915 211.129 Q588.304 207.518 588.304 201.36 Q588.304 194.995 591.73 191.268 Q595.179 187.518 601.012 187.518 Q606.244 187.518 609.276 190.897 Q612.332 194.254 612.332 200.041 M608.072 198.791 Q608.026 195.296 606.105 193.212 Q604.207 191.129 601.059 191.129 Q597.494 191.129 595.341 193.143 Q593.211 195.157 592.887 198.814 L608.072 198.791 Z\" fill=\"#000000\" fill-rule=\"nonzero\" fill-opacity=\"1\" /><path clip-path=\"url(#clip120)\" d=\"M617.17 199.184 L629.646 199.184 L629.646 202.981 L617.17 202.981 L617.17 199.184 Z\" fill=\"#000000\" fill-rule=\"nonzero\" fill-opacity=\"1\" /><path clip-path=\"url(#clip120)\" d=\"M636.082 179.509 L640.781 179.509 L640.781 200.504 Q640.781 206.059 642.794 208.513 Q644.808 210.944 649.322 210.944 Q653.813 210.944 655.827 208.513 Q657.841 206.059 657.841 200.504 L657.841 179.509 L662.54 179.509 L662.54 201.083 Q662.54 207.842 659.183 211.291 Q655.85 214.74 649.322 214.74 Q642.771 214.74 639.415 211.291 Q636.082 207.842 636.082 201.083 L636.082 179.509 Z\" fill=\"#000000\" fill-rule=\"nonzero\" fill-opacity=\"1\" /></svg>\n"
      ]
     },
     "execution_count": 69,
     "metadata": {},
     "output_type": "execute_result"
    }
   ],
   "source": [
    "using Plots\n",
    "\n",
    "U = 100\n",
    "\n",
    "E1 = eigenenergies(dense(Hofstadter_Hard_Core(Nx, Ny, alpha, PN, U)))\n",
    "E2 = eigenenergies(dense(Hofstadter_Finite_U(Nx, Ny, alpha, PN, U)))\n",
    "\n",
    "plot(1:length(E1), E1, seriestype=:scatter, markershape=:star5, markersize=6, label=\"Hard-Core\")\n",
    "plot!(1:length(E2), E2, seriestype=:scatter, label=\"Finite-U\")\n",
    "\n",
    "xlabel!(\"n\");ylabel!(\"E\")"
   ]
  },
  {
   "cell_type": "code",
   "execution_count": 70,
   "id": "199261ab-d3f2-41eb-bbaf-13860260dd5e",
   "metadata": {},
   "outputs": [
    {
     "data": {
      "text/plain": [
       "36-element Vector{Float64}:\n",
       "  -4.291984549541244\n",
       "  -4.023269983380721\n",
       "  -4.023269983380696\n",
       "  -2.270601696135735\n",
       "  -2.270601696135729\n",
       "  -2.019700134291128\n",
       "  -1.640815769922527\n",
       "  -1.640815769922519\n",
       "  -1.3332580083629504\n",
       "  -0.548311496926755\n",
       "  -0.5483114969267407\n",
       "  -0.07993610219565705\n",
       "  -0.03998401278722959\n",
       "   ⋮\n",
       "   2.234112763318398\n",
       "   3.968629458234168\n",
       "   3.968629458234212\n",
       "   4.249828734308193\n",
       " 100.01528221904816\n",
       " 100.01528221904822\n",
       " 100.03998401278724\n",
       " 100.03999999360515\n",
       " 100.07993610219566\n",
       " 100.08001598715141\n",
       " 100.10471771386192\n",
       " 100.10471771386203"
      ]
     },
     "execution_count": 70,
     "metadata": {},
     "output_type": "execute_result"
    }
   ],
   "source": [
    "E2"
   ]
  },
  {
   "cell_type": "markdown",
   "id": "graphic-flash",
   "metadata": {},
   "source": [
    "# CHERN (INTERACTING CASE)"
   ]
  },
  {
   "cell_type": "code",
   "execution_count": 52,
   "id": "floating-merit",
   "metadata": {},
   "outputs": [
    {
     "name": "stdout",
     "output_type": "stream",
     "text": [
      "Chern Number is: 3.9999999999944635 + 4.60406157301334e-16im"
     ]
    }
   ],
   "source": [
    "@nbinclude(\"Hofstadter Single Particle in Theta Space.ipynb\")\n",
    "\n",
    "n1 = 1\n",
    "n2 = 2\n",
    "\n",
    "function Hofstadter_Finite_U_C(Nx, Ny, alpha, Tx, Ty, PN, U)\n",
    "    \n",
    "    N = Nx*Ny\n",
    "    \n",
    "    MB_Basis, Basis = get_Bosonic_MB_Basis(N,PN)\n",
    "    \n",
    "    Sp_Op = HSP_T(Nx, Ny, alpha, Tx, Ty, 0)\n",
    "    Kin = get_Kinetic_Part(N, MB_Basis, Sp_Op)\n",
    "    \n",
    "    Int = get_Int_Part(N, MB_Basis, U)\n",
    "    \n",
    "    H = Kin + Int\n",
    "    \n",
    "    return H\n",
    "end\n",
    "\n",
    "# Twist Angle Parameter Space #\n",
    "dx=2*pi/TSize\n",
    "dy=dx\n",
    "Tx=collect(range(start=0, stop=2*pi-dx, step=dx))\n",
    "Ty=collect(range(start=0, stop=2*pi-dy, step=dy))\n",
    "# ---- #\n",
    "\n",
    "# Link Variable and Berry Curvature #\n",
    "Sum=0\n",
    "for tx in range(start=1, stop=length(Tx))\n",
    "    for ty in range(start=1, stop=length(Ty))\n",
    "        \n",
    "        H_mb = Hofstadter_Finite_U_C(Nx, Ny, alpha, Tx[tx], Ty[ty], PN, U)\n",
    "        w1, v1 = eigen(dense(H_mb).data)\n",
    "        # i = sortperm(w1, by=real);w1 = w1[i];v1 = v1[:,i]\n",
    "        v1 = v1[:,n1:n2]  \n",
    "        #------------------------------------\n",
    "        H_mb = Hofstadter_Finite_U_C(Nx, Ny, alpha, Tx[tx]+dx, Ty[ty], PN, U)\n",
    "        w2, v2 = eigen(dense(H_mb).data)\n",
    "        #i = sortperm(w2, by=real);w2 = w2[i];v2 = v2[:,i]\n",
    "        v2 = v2[:,n1:n2]\n",
    "        #------------------------------------\n",
    "        H_mb = Hofstadter_Finite_U_C(Nx, Ny, alpha, Tx[tx], Ty[ty]+dy, PN, U)\n",
    "        w3, v3 = eigen(dense(H_mb).data)\n",
    "        #i = sortperm(w3, by=real);w3 = w3[i];v3 = v3[:,i]\n",
    "        v3 = v3[:,n1:n2]\n",
    "        #------------------------------------\n",
    "        H_mb = Hofstadter_Finite_U_C(Nx, Ny, alpha, Tx[tx]+dx, Ty[ty]+dy, PN, U)\n",
    "        w4, v4 = eigen(dense(H_mb).data)\n",
    "        #i = sortperm(w4, by=real);w4 = w4[i];v4 = v4[:,i]\n",
    "        v4 = v4[:,n1:n2]\n",
    "        #----------LINK VARIABLES------------\n",
    "        U1=det(adjoint(v1)*v2)\n",
    "        U1=U1/abs(U1)\n",
    "        U2=det(adjoint(v2)*v4)\n",
    "        U2=U2/abs(U2)\n",
    "        U3=det(adjoint(v3)*v4)\n",
    "        U3=U3/abs(U3)\n",
    "        U4=det(adjoint(v1)*v3)\n",
    "        U4=U4/abs(U4)\n",
    "        #----------BERRY CURVATURE-----------\n",
    "        F=log(U1*U2*1/U3*1/U4)\n",
    "        Sum=Sum+F \n",
    "    end\n",
    "end\n",
    "# ---- #\n",
    "\n",
    "print(\"Chern Number is: \", 1/(2*pi*1im)*Sum)"
   ]
  },
  {
   "cell_type": "code",
   "execution_count": 48,
   "id": "9b739a44-ef76-4a2e-ad77-ddf67311b907",
   "metadata": {},
   "outputs": [
    {
     "data": {
      "text/plain": [
       "45-element Vector{Float64}:\n",
       " -5.244968906605933\n",
       " -5.244968906605926\n",
       " -5.244968906605921\n",
       " -4.974840172499153\n",
       " -4.9748401724991425\n",
       " -4.974840172499139\n",
       " -1.9720102603513892\n",
       " -1.972010260351389\n",
       " -1.9720102603513883\n",
       " -1.890449488035411\n",
       " -1.8904494880354106\n",
       " -1.8904494880354092\n",
       " -1.55948194474537\n",
       "  ⋮\n",
       "  3.3657376516283706\n",
       "  3.3657376516283715\n",
       "  3.365737651628373\n",
       "  3.4551008923445496\n",
       "  3.4551008923445523\n",
       "  3.4551008923445545\n",
       "  4.758323604041526\n",
       "  4.758323604041532\n",
       "  4.758323604041532\n",
       "  4.818883774286787\n",
       "  4.818883774286787\n",
       "  4.818883774286793"
      ]
     },
     "execution_count": 48,
     "metadata": {},
     "output_type": "execute_result"
    }
   ],
   "source": [
    "U = 2\n",
    "PN = 2\n",
    "H_Finite = Hofstadter_Finite_U_C(Nx, Ny, alpha, Tx[2], Ty[2], PN, U)\n",
    "Ee, Uu = eigenenergies(dense(H_Finite ))"
   ]
  },
  {
   "cell_type": "code",
   "execution_count": null,
   "id": "initial-paradise",
   "metadata": {},
   "outputs": [],
   "source": [
    "4\n",
    "-3\n",
    "6.0046910114196645\n",
    "-6.9939547502816435\n",
    "-3\n",
    "4"
   ]
  }
 ],
 "metadata": {
  "kernelspec": {
   "display_name": "Julia 1.8.1",
   "language": "julia",
   "name": "julia-1.8"
  },
  "language_info": {
   "file_extension": ".jl",
   "mimetype": "application/julia",
   "name": "julia",
   "version": "1.8.1"
  }
 },
 "nbformat": 4,
 "nbformat_minor": 5
}
