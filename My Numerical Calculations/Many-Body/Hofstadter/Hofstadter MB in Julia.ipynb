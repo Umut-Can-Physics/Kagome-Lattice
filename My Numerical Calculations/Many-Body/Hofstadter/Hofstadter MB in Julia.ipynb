{
 "cells": [
  {
   "cell_type": "markdown",
   "id": "f7ba2ad4",
   "metadata": {},
   "source": [
    "# Libraries"
   ]
  },
  {
   "cell_type": "code",
   "execution_count": 1,
   "id": "a9592b14",
   "metadata": {},
   "outputs": [],
   "source": [
    "using QuantumOptics,LinearAlgebra,SparseArrays, NBInclude"
   ]
  },
  {
   "cell_type": "code",
   "execution_count": 2,
   "id": "9491b8ae",
   "metadata": {},
   "outputs": [
    {
     "name": "stdout",
     "output_type": "stream",
     "text": [
      "Nx=4, Ny=4"
     ]
    }
   ],
   "source": [
    "@nbinclude(\"(M)_Hofstadter_Real_Space_in_Julia.ipynb\")"
   ]
  },
  {
   "cell_type": "markdown",
   "id": "7c55aa29",
   "metadata": {},
   "source": [
    "# Many-Body Fock Space"
   ]
  },
  {
   "cell_type": "code",
   "execution_count": 3,
   "id": "d42a9ff3",
   "metadata": {},
   "outputs": [
    {
     "data": {
      "text/plain": [
       "ManyBody(onebodybasis=NLevel(N=16), states:136)"
      ]
     },
     "execution_count": 3,
     "metadata": {},
     "output_type": "execute_result"
    }
   ],
   "source": [
    "#N Level Basis\n",
    "NBasis = NLevelBasis(N)\n",
    "PN=2\n",
    "NStates = bosonstates(NBasis, [PN])\n",
    "#Create Many-Body Basis in Fock Space\n",
    "NBasis_MB = ManyBodyBasis(NBasis, NStates)"
   ]
  },
  {
   "cell_type": "markdown",
   "id": "e26582dc",
   "metadata": {},
   "source": [
    "# Bose-Hubbard Model"
   ]
  },
  {
   "cell_type": "markdown",
   "id": "bcf1eeae",
   "metadata": {},
   "source": [
    "The Conditions of Topological Dejeneracy (Filling Fraction):\n",
    "\\begin{align}\n",
    "&N_{\\alpha}=N_xN_y\\alpha \\\\\n",
    "&N/N_{\\alpha}=1/2 \n",
    "\\end{align}"
   ]
  },
  {
   "cell_type": "code",
   "execution_count": 5,
   "id": "97959dc2",
   "metadata": {},
   "outputs": [
    {
     "data": {
      "text/plain": [
       "0.001"
      ]
     },
     "execution_count": 5,
     "metadata": {},
     "output_type": "execute_result"
    }
   ],
   "source": [
    "t = -1;U = 1/1000"
   ]
  },
  {
   "cell_type": "code",
   "execution_count": 6,
   "id": "608e1525",
   "metadata": {},
   "outputs": [
    {
     "data": {
      "text/plain": [
       "0.25"
      ]
     },
     "execution_count": 6,
     "metadata": {},
     "output_type": "execute_result"
    }
   ],
   "source": [
    "p=1;q=4\n",
    "alpha=p/q"
   ]
  },
  {
   "cell_type": "code",
   "execution_count": 7,
   "id": "e62ac2a9",
   "metadata": {},
   "outputs": [
    {
     "data": {
      "text/plain": [
       "136-element Vector{Float64}:\n",
       " -5.656848888859013\n",
       " -5.656848888859006\n",
       " -5.656791761344483\n",
       " -5.65679176134447\n",
       " -5.656729271126052\n",
       " -5.6567292711260455\n",
       " -5.656729271126045\n",
       " -5.656729271126042\n",
       " -5.656672137226298\n",
       " -5.6566721372262965\n",
       " -2.828427124746194\n",
       " -2.8284271247461934\n",
       " -2.8284271247461925\n",
       "  ⋮\n",
       "  2.828927168940362\n",
       "  2.8289271689403632\n",
       "  5.656859612164096\n",
       "  5.656859612164098\n",
       "  5.656916761348603\n",
       "  5.656916761348604\n",
       "  5.65697927113217\n",
       "  5.6569792711321725\n",
       "  5.656979271132175\n",
       "  5.656979271132179\n",
       "  5.657036413927013\n",
       "  5.657036413927024"
      ]
     },
     "execution_count": 7,
     "metadata": {},
     "output_type": "execute_result"
    }
   ],
   "source": [
    "#kinetic term\n",
    "KT = SparseOperator(NBasis_MB)\n",
    "#interaction term\n",
    "IT = SparseOperator(NBasis_MB)\n",
    "for m in 1:N\n",
    "    global IT\n",
    "    IT = IT + U/2 * number(NBasis_MB, m) * ( number(NBasis_MB, m) - identityoperator(NBasis_MB) ) \n",
    "    for n in 1:N\n",
    "        global KT\n",
    "        KT = KT - t * HSP(Nx,Ny,alpha)[m,n] * transition(NBasis_MB, m, n)\n",
    "    end\n",
    "end\n",
    "MB_Hamiltonian = KT + IT\n",
    "eigenenergies(dense(MB_Hamiltonian))\n",
    "MB_Energies = eigenenergies(dense(MB_Hamiltonian))\n",
    "\n",
    "# U=0 and PN=1 iken tek parçacık real-space ile uyuşuyor:\n",
    "# E0, U0 = eigen(HSP(Nx,Ny,alpha))\n",
    "# println(E0)\n",
    "# println(eigenenergies(dense(MB_Hamiltonian)))"
   ]
  },
  {
   "cell_type": "code",
   "execution_count": 10,
   "id": "af5569c2",
   "metadata": {},
   "outputs": [],
   "source": [
    "# # To see topological degeneracy\n",
    "# using Plots\n",
    "# MB_Energies = eigenenergies(dense(MB_Hamiltonian))\n",
    "# x=1:length(MB_Energies)\n",
    "# gr()\n",
    "# plot(x, MB_Energies, seriestype = :scatter, markersize = 5, legend=false)"
   ]
  },
  {
   "cell_type": "markdown",
   "id": "97b9b0d0",
   "metadata": {},
   "source": [
    "# Hard-Core Model"
   ]
  },
  {
   "cell_type": "markdown",
   "id": "c2924da4",
   "metadata": {},
   "source": [
    "Örgüde en fazla 2 parçacık varken, her sitede en fazla 1 parçacık bulunma etkileşimi"
   ]
  },
  {
   "cell_type": "code",
   "execution_count": 30,
   "id": "aeb2f695",
   "metadata": {},
   "outputs": [
    {
     "name": "stdout",
     "output_type": "stream",
     "text": [
      "Nx=3, Ny=3"
     ]
    },
    {
     "data": {
      "text/plain": [
       "9×9 Matrix{ComplexF64}:\n",
       "  0.0+0.0im       -1.0+0.0im       …       0.0+0.0im\n",
       " -1.0+0.0im        0.0+0.0im               0.0+0.0im\n",
       " -1.0+0.0im       -1.0+0.0im          0.809017-0.587785im\n",
       " -1.0-0.0im        0.0+0.0im               0.0+0.0im\n",
       "  0.0+0.0im  -0.309017-0.951057im          0.0+0.0im\n",
       "  0.0+0.0im        0.0+0.0im       …  0.809017+0.587785im\n",
       " -1.0+0.0im        0.0+0.0im              -1.0+0.0im\n",
       "  0.0+0.0im  -0.309017+0.951057im         -1.0+0.0im\n",
       "  0.0+0.0im        0.0+0.0im               0.0+0.0im"
      ]
     },
     "execution_count": 30,
     "metadata": {},
     "output_type": "execute_result"
    }
   ],
   "source": [
    "#Tekrar çağırmak gerekiyor, yoksa saçma bir hata veriyor.\n",
    "@nbinclude(\"(M)_Hofstadter_Real_Space_in_Julia.ipynb\")"
   ]
  },
  {
   "cell_type": "code",
   "execution_count": 31,
   "id": "8a7835ad",
   "metadata": {},
   "outputs": [
    {
     "data": {
      "text/plain": [
       "ManyBody(onebodybasis=NLevel(N=9), states:36)"
      ]
     },
     "execution_count": 31,
     "metadata": {},
     "output_type": "execute_result"
    }
   ],
   "source": [
    "b_hard = NLevelBasis(N)\n",
    "states_hard = fermionstates(b_hard, [PN])\n",
    "b_mb_hard = ManyBodyBasis(b_hard, states_hard)"
   ]
  },
  {
   "cell_type": "code",
   "execution_count": 34,
   "id": "5704ff70",
   "metadata": {},
   "outputs": [
    {
     "data": {
      "text/plain": [
       "36-element Vector{Float64}:\n",
       " -5.4067225408390325\n",
       " -5.267579411413211\n",
       " -4.9677624675518555\n",
       " -3.285988166521296\n",
       " -2.99493379376432\n",
       " -2.644849767253697\n",
       " -2.40985998357645\n",
       " -2.2617827485390403\n",
       " -2.0896972804625418\n",
       " -1.7393422722468073\n",
       " -1.5394234283335941\n",
       " -1.3999079426017382\n",
       " -1.1485747395015609\n",
       "  ⋮\n",
       "  1.153800221785662\n",
       "  1.4706469034121823\n",
       "  1.9281895839883223\n",
       "  2.288953484862644\n",
       "  2.674595092629216\n",
       "  2.707308813157413\n",
       "  2.9534400152471894\n",
       "  3.455429944978596\n",
       "  3.7456060973258087\n",
       "  3.8013966217269113\n",
       "  4.239301515657366\n",
       "  4.513478189364979"
      ]
     },
     "execution_count": 34,
     "metadata": {},
     "output_type": "execute_result"
    }
   ],
   "source": [
    "# U'nun etkisinin olmadığını görüyoruz:\n",
    "U=1/1000\n",
    "#kinetic term\n",
    "KT_hard = SparseOperator(b_mb_hard)\n",
    "#interaction term\n",
    "IT_hard = SparseOperator(b_mb_hard)\n",
    "for m in 1:N\n",
    "    global IT_hard\n",
    "    IT_hard = IT_hard + U/2 * number(b_mb_hard, m) * (number(b_mb_hard, m) - identityoperator(b_mb_hard))\n",
    "    for n in 1:N\n",
    "        global KT_hard\n",
    "        KT_hard = KT_hard - t * HSP(Nx,Ny,alpha)[m,n] * transition(b_mb_hard, m, n)\n",
    "    end\n",
    "end\n",
    "HH_hard = KT_hard + IT_hard\n",
    "eigenenergies(dense(HH_hard))\n",
    "#U çok büyükken, bu enerji seviyeleri, Bose-Hubbard'a yaklaşır."
   ]
  }
 ],
 "metadata": {
  "kernelspec": {
   "display_name": "Julia 1.7.2",
   "language": "julia",
   "name": "julia-1.7"
  },
  "language_info": {
   "file_extension": ".jl",
   "mimetype": "application/julia",
   "name": "julia",
   "version": "1.7.2"
  }
 },
 "nbformat": 4,
 "nbformat_minor": 5
}
