{
 "cells": [
  {
   "cell_type": "code",
   "execution_count": 1,
   "id": "balanced-reason",
   "metadata": {
    "tags": []
   },
   "outputs": [
    {
     "data": {
      "text/plain": [
       "Hofstadter_SP (generic function with 1 method)"
      ]
     },
     "execution_count": 1,
     "metadata": {},
     "output_type": "execute_result"
    }
   ],
   "source": [
    "# executeme\n",
    "\n",
    "using NBInclude\n",
    "@nbinclude(\"Hofstadter Single Particle in Julia.ipynb\")"
   ]
  },
  {
   "cell_type": "code",
   "execution_count": 2,
   "id": "continental-atlas",
   "metadata": {
    "tags": []
   },
   "outputs": [],
   "source": [
    "# executeme\n",
    "\n",
    "using QuantumOptics"
   ]
  },
  {
   "cell_type": "code",
   "execution_count": 78,
   "id": "employed-symposium",
   "metadata": {
    "tags": []
   },
   "outputs": [
    {
     "data": {
      "text/plain": [
       "0"
      ]
     },
     "execution_count": 78,
     "metadata": {},
     "output_type": "execute_result"
    }
   ],
   "source": [
    "Nx = 5; Ny = 5; N=Nx*Ny; q = 5\n",
    "PN = 1\n",
    "U = 0"
   ]
  },
  {
   "cell_type": "code",
   "execution_count": 79,
   "id": "boring-resident",
   "metadata": {
    "tags": []
   },
   "outputs": [
    {
     "data": {
      "text/plain": [
       "get_Bosonic_MB_Basis (generic function with 1 method)"
      ]
     },
     "execution_count": 79,
     "metadata": {},
     "output_type": "execute_result"
    }
   ],
   "source": [
    "# executeme\n",
    "\n",
    "function get_Bosonic_MB_Basis(N,PN)\n",
    "   \n",
    "    NBasis = NLevelBasis(N)\n",
    "    NStates = bosonstates(NBasis, PN)\n",
    "    \n",
    "    NBasis_MB = ManyBodyBasis(NBasis, NStates)\n",
    "    \n",
    "    return NBasis_MB, NBasis\n",
    "end"
   ]
  },
  {
   "cell_type": "code",
   "execution_count": 80,
   "id": "heavy-candidate",
   "metadata": {
    "tags": []
   },
   "outputs": [
    {
     "data": {
      "text/plain": [
       "(ManyBody(onebodybasis=NLevel(N=25), states:25), NLevel(N=25))"
      ]
     },
     "execution_count": 80,
     "metadata": {},
     "output_type": "execute_result"
    }
   ],
   "source": [
    "basis_mb, basis = get_Bosonic_MB_Basis(N,PN)"
   ]
  },
  {
   "cell_type": "code",
   "execution_count": 81,
   "id": "offshore-mexican",
   "metadata": {
    "tags": []
   },
   "outputs": [
    {
     "data": {
      "text/plain": [
       "get_Kinetic_Part (generic function with 1 method)"
      ]
     },
     "execution_count": 81,
     "metadata": {},
     "output_type": "execute_result"
    }
   ],
   "source": [
    "# executeme\n",
    "\n",
    "function get_Kinetic_Part(N, MB_Basis, Sp_Op)\n",
    "    KT = SparseOperator(MB_Basis)\n",
    "    for m in 1:N\n",
    "        for n in 1:N\n",
    "            KT = KT + Sp_Op[m,n] * transition(MB_Basis, m, n)\n",
    "        end\n",
    "    end\n",
    "    \n",
    "    return KT\n",
    "end"
   ]
  },
  {
   "cell_type": "code",
   "execution_count": 82,
   "id": "forced-hunter",
   "metadata": {
    "tags": []
   },
   "outputs": [
    {
     "data": {
      "text/plain": [
       "Operator(dim=25x25)\n",
       "  basis: ManyBody(onebodybasis=NLevel(N=25), states:25)sparse(Int64[], Int64[], ComplexF64[], 25, 25)"
      ]
     },
     "execution_count": 82,
     "metadata": {},
     "output_type": "execute_result"
    }
   ],
   "source": [
    "basis2 = basis ⊗ basis\n",
    "\n",
    "# interaction : at_i at_i a_i a_i = at_i a_i at_i a_i - at_i a_i = n_i n_i - n_i\n",
    "    \n",
    "Vint2 = SparseOperator(basis2)\n",
    "\n",
    "for n in 1:N\n",
    "    Vint2 += U/2*transition(basis,n,n)⊗transition(basis,n,n)\n",
    "end\n",
    "\n",
    "Vint_mb = manybodyoperator(basis_mb, Vint2)"
   ]
  },
  {
   "cell_type": "code",
   "execution_count": 83,
   "id": "cooked-bidder",
   "metadata": {
    "tags": []
   },
   "outputs": [
    {
     "data": {
      "text/plain": [
       "get_Int_Part (generic function with 1 method)"
      ]
     },
     "execution_count": 83,
     "metadata": {},
     "output_type": "execute_result"
    }
   ],
   "source": [
    "# executeme\n",
    "\n",
    "function get_Int_Part(N, MB_Basis, U)\n",
    "    IT = SparseOperator(MB_Basis)\n",
    "    for m in 1:N\n",
    "        IT = IT + U/2 * number(MB_Basis, m) * ( number(MB_Basis, m) - identityoperator(MB_Basis) ) \n",
    "    end\n",
    "    \n",
    "    return IT\n",
    "end"
   ]
  },
  {
   "cell_type": "code",
   "execution_count": 84,
   "id": "forward-girlfriend",
   "metadata": {
    "tags": []
   },
   "outputs": [
    {
     "data": {
      "text/plain": [
       "Operator(dim=25x25)\n",
       "  basis: ManyBody(onebodybasis=NLevel(N=25), states:25)sparse(Int64[], Int64[], ComplexF64[], 25, 25)"
      ]
     },
     "execution_count": 84,
     "metadata": {},
     "output_type": "execute_result"
    }
   ],
   "source": [
    "Int_mb = get_Int_Part(N, basis_mb, U)"
   ]
  },
  {
   "cell_type": "code",
   "execution_count": 85,
   "id": "realistic-sudan",
   "metadata": {
    "tags": []
   },
   "outputs": [
    {
     "data": {
      "text/plain": [
       "Hofstadter_Finite_U (generic function with 1 method)"
      ]
     },
     "execution_count": 85,
     "metadata": {},
     "output_type": "execute_result"
    }
   ],
   "source": [
    "# executeme\n",
    "\n",
    "function Hofstadter_Finite_U(Nx, Ny, alpha, PN, U)\n",
    "    \n",
    "    N = Nx*Ny\n",
    "    \n",
    "    MB_Basis, Basis = get_Bosonic_MB_Basis(N,PN)\n",
    "    \n",
    "    Sp_Op = Hofstadter_SP(Nx, Ny, alpha, 0)\n",
    "    Kin = get_Kinetic_Part(N, MB_Basis, Sp_Op)\n",
    "    \n",
    "    Int = get_Int_Part(N, MB_Basis, U)\n",
    "    \n",
    "    H = Kin + Int\n",
    "    \n",
    "    return H\n",
    "end"
   ]
  },
  {
   "cell_type": "markdown",
   "id": "pressing-introduction",
   "metadata": {},
   "source": [
    "1) If particle number=1 and U=0, Hofstadter Finite U energies has to be equal to Hofstadter Single Particle energies."
   ]
  },
  {
   "cell_type": "code",
   "execution_count": 86,
   "id": "hydraulic-brisbane",
   "metadata": {
    "tags": []
   },
   "outputs": [
    {
     "data": {
      "text/plain": [
       "Operator(dim=25x25)\n",
       "  basis: ManyBody(onebodybasis=NLevel(N=25), states:25)sparse([2, 5, 6, 21, 1, 3, 7, 22, 2, 4  …  22, 24, 4, 19, 23, 25, 5, 20, 21, 24], [1, 1, 1, 1, 2, 2, 2, 2, 3, 3  …  23, 23, 24, 24, 24, 24, 25, 25, 25, 25], ComplexF64[-1.0 + 0.0im, -1.0 + 0.0im, -1.0 + 0.0im, -1.0 + 0.0im, -1.0 + 0.0im, -1.0 + 0.0im, -0.30901699437494745 - 0.9510565162951536im, -0.30901699437494745 + 0.9510565162951536im, -1.0 + 0.0im, -1.0 + 0.0im  …  -1.0 + 0.0im, -1.0 + 0.0im, 0.8090169943749476 + 0.587785252292473im, 0.8090169943749476 - 0.587785252292473im, -1.0 + 0.0im, -1.0 + 0.0im, -0.30901699437494723 + 0.9510565162951536im, -0.30901699437494723 - 0.9510565162951536im, -1.0 + 0.0im, -1.0 + 0.0im], 25, 25)"
      ]
     },
     "execution_count": 86,
     "metadata": {},
     "output_type": "execute_result"
    }
   ],
   "source": [
    "H_mb = Hofstadter_Finite_U(Nx, Ny, 1/q, PN, U)"
   ]
  },
  {
   "cell_type": "code",
   "execution_count": 87,
   "id": "communist-siemens",
   "metadata": {
    "tags": []
   },
   "outputs": [
    {
     "name": "stdout",
     "output_type": "stream",
     "text": [
      "INFO: Defaulting to sparse diagonalization.\n",
      "        If storing the full operator is possible, it might be faster to do\n",
      "        eigenstates(dense(op)). Set info=false to turn off this message.\n"
     ]
    },
    {
     "data": {
      "text/plain": [
       "6-element Vector{ComplexF64}:\n",
       "  -2.966447989143376 + 3.91176755700981e-17im\n",
       " -2.9664479891433735 - 1.66438586003681e-16im\n",
       " -2.9664479891433713 + 7.806255641895632e-18im\n",
       " -2.9664479891433704 - 2.699070486425828e-17im\n",
       "  -2.966447989143366 - 2.8406096919120216e-17im\n",
       " -0.9021130325903076 + 2.8866920653985074e-17im"
      ]
     },
     "execution_count": 87,
     "metadata": {},
     "output_type": "execute_result"
    }
   ],
   "source": [
    "eigenenergies(H_mb)"
   ]
  },
  {
   "cell_type": "code",
   "execution_count": 88,
   "id": "warming-event",
   "metadata": {
    "tags": []
   },
   "outputs": [
    {
     "data": {
      "text/plain": [
       "25-element Vector{Float64}:\n",
       " -2.966447989143374\n",
       " -2.966447989143373\n",
       " -2.966447989143372\n",
       " -2.966447989143372\n",
       " -2.9664479891433717\n",
       " -0.9021130325903087\n",
       " -0.9021130325903075\n",
       " -0.902113032590307\n",
       " -0.9021130325903065\n",
       " -0.9021130325903061\n",
       " -0.3819660112501061\n",
       " -0.381966011250105\n",
       " -0.3819660112501049\n",
       " -0.38196601125010354\n",
       " -0.38196601125010315\n",
       "  1.3484140003934757\n",
       "  1.3484140003934764\n",
       "  1.348414000393477\n",
       "  1.3484140003934773\n",
       "  1.3484140003934784\n",
       "  2.9021130325903055\n",
       "  2.9021130325903055\n",
       "  2.902113032590307\n",
       "  2.9021130325903077\n",
       "  2.902113032590309"
      ]
     },
     "execution_count": 88,
     "metadata": {},
     "output_type": "execute_result"
    }
   ],
   "source": [
    "eigenenergies(dense(Hofstadter_Finite_U(Nx,Ny,1/q,PN,U)))"
   ]
  },
  {
   "cell_type": "code",
   "execution_count": 89,
   "id": "center-thinking",
   "metadata": {
    "tags": []
   },
   "outputs": [
    {
     "data": {
      "text/plain": [
       "-5.932895978286748"
      ]
     },
     "execution_count": 89,
     "metadata": {},
     "output_type": "execute_result"
    }
   ],
   "source": [
    "-2*2.966447989143374"
   ]
  },
  {
   "cell_type": "code",
   "execution_count": null,
   "id": "extensive-hydrogen",
   "metadata": {},
   "outputs": [],
   "source": []
  },
  {
   "cell_type": "code",
   "execution_count": null,
   "id": "liberal-wednesday",
   "metadata": {},
   "outputs": [],
   "source": []
  },
  {
   "cell_type": "code",
   "execution_count": null,
   "id": "friendly-terminal",
   "metadata": {},
   "outputs": [],
   "source": []
  },
  {
   "cell_type": "code",
   "execution_count": 61,
   "id": "forced-level",
   "metadata": {
    "tags": []
   },
   "outputs": [
    {
     "data": {
      "text/plain": [
       "Eigen{ComplexF64, Float64, Matrix{ComplexF64}, Vector{Float64}}\n",
       "values:\n",
       "16-element Vector{Float64}:\n",
       " -2.8284271247461903\n",
       " -2.8284271247461894\n",
       " -2.8284271247461876\n",
       " -2.828427124746186\n",
       " -5.2522064953280833e-17\n",
       " -4.096276609083728e-17\n",
       "  4.549236813691332e-17\n",
       "  2.873843025920042e-16\n",
       "  3.1086244689504383e-15\n",
       "  3.552713678800501e-15\n",
       "  3.552713678800501e-15\n",
       "  3.9968028886505635e-15\n",
       "  2.82842712474619\n",
       "  2.82842712474619\n",
       "  2.8284271247461903\n",
       "  2.8284271247461903\n",
       "vectors:\n",
       "16×16 Matrix{ComplexF64}:\n",
       "  -0.190017+0.23738im     …        0.125-0.125im\n",
       "  -0.239759+0.134569im               0.0+0.0im\n",
       "  -0.397181+0.173748im            -0.125-0.125im\n",
       "  -0.230103+0.218599im       6.49467e-17+0.353553im\n",
       " 0.00822041+0.154294im               0.0+0.0im\n",
       "   0.118836-0.013655im    …          0.0+0.0im\n",
       "   0.368783-0.0739609im              0.0+0.0im\n",
       "   0.207163+0.0636314im            -0.25+3.08149e-33im\n",
       "  -0.112731+0.149052im             0.125+0.125im\n",
       "  -0.120804+0.0936853im              0.0+0.0im\n",
       "  -0.319894+0.085421im    …       -0.125+0.125im\n",
       "  -0.130459+0.00965556im     6.49467e-17-0.353553im\n",
       " -0.0758093+0.163949im         -0.353553+0.0im\n",
       "  0.0883274+0.0772864im             0.25+0.0im\n",
       "   0.284753-0.0643053im        -0.353553+0.0im\n",
       "        0.0+0.0im         …          0.5+0.0im"
      ]
     },
     "execution_count": 61,
     "metadata": {},
     "output_type": "execute_result"
    }
   ],
   "source": [
    "using LinearAlgebra\n",
    "eigen(Hofstadter_SP(4, 4, 1/4, 0))"
   ]
  },
  {
   "cell_type": "code",
   "execution_count": 50,
   "id": "impossible-composite",
   "metadata": {
    "tags": []
   },
   "outputs": [
    {
     "data": {
      "text/plain": [
       "get_Fermionic_MB_Basis (generic function with 1 method)"
      ]
     },
     "execution_count": 50,
     "metadata": {},
     "output_type": "execute_result"
    }
   ],
   "source": [
    "function get_Fermionic_MB_Basis(N,PN)\n",
    "    b_hard = NLevelBasis(N)\n",
    "    states_hard = fermionstates(b_hard, [PN])\n",
    "    b_mb_hard = ManyBodyBasis(b_hard, states_hard)\n",
    "    \n",
    "    return b_mb_hard\n",
    "end"
   ]
  },
  {
   "cell_type": "code",
   "execution_count": 51,
   "id": "arctic-supervisor",
   "metadata": {
    "tags": []
   },
   "outputs": [
    {
     "data": {
      "text/plain": [
       "Hofstadter_Hard_Core (generic function with 1 method)"
      ]
     },
     "execution_count": 51,
     "metadata": {},
     "output_type": "execute_result"
    }
   ],
   "source": [
    "function Hofstadter_Hard_Core(Nx, Ny, alpha, PN, U)\n",
    "    \n",
    "    N = Nx*Ny\n",
    "    \n",
    "    MB_Basis = get_Fermionic_MB_Basis(N,PN)\n",
    "    \n",
    "    Sp_Op = Hofstadter_SP(Nx, Ny, alpha, 0)\n",
    "    Kin = get_Kinetic_Part(N, MB_Basis, Sp_Op)\n",
    "    \n",
    "    Int = get_Int_Part(N, MB_Basis, U)\n",
    "    \n",
    "    H = Kin + Int\n",
    "    \n",
    "    return H\n",
    "end"
   ]
  },
  {
   "cell_type": "markdown",
   "id": "cardiovascular-thumb",
   "metadata": {},
   "source": [
    "2) If U>>1, Hofstadter Finite U energies converges at Hofstadter Hard Core energies."
   ]
  },
  {
   "cell_type": "markdown",
   "id": "comic-adapter",
   "metadata": {},
   "source": [
    "3) If you want to see topological dejeneracy:\n",
    "\\begin{align}\n",
    "&N_{\\alpha}=N_xN_y\\alpha \\\\\n",
    "&N/N_{\\alpha}=1/2 \n",
    "\\end{align}"
   ]
  },
  {
   "cell_type": "code",
   "execution_count": 12,
   "id": "brown-involvement",
   "metadata": {
    "tags": []
   },
   "outputs": [
    {
     "data": {
      "image/svg+xml": [
       "<?xml version=\"1.0\" encoding=\"utf-8\"?>\n",
       "<svg xmlns=\"http://www.w3.org/2000/svg\" xmlns:xlink=\"http://www.w3.org/1999/xlink\" width=\"600\" height=\"400\" viewBox=\"0 0 2400 1600\">\n",
       "<defs>\n",
       "  <clipPath id=\"clip000\">\n",
       "    <rect x=\"0\" y=\"0\" width=\"2400\" height=\"1600\"/>\n",
       "  </clipPath>\n",
       "</defs>\n",
       "<path clip-path=\"url(#clip000)\" d=\"\n",
       "M0 1600 L2400 1600 L2400 0 L0 0  Z\n",
       "  \" fill=\"#ffffff\" fill-rule=\"evenodd\" fill-opacity=\"1\"/>\n",
       "<defs>\n",
       "  <clipPath id=\"clip001\">\n",
       "    <rect x=\"480\" y=\"0\" width=\"1681\" height=\"1600\"/>\n",
       "  </clipPath>\n",
       "</defs>\n",
       "<path clip-path=\"url(#clip000)\" d=\"\n",
       "M232.389 1423.18 L2352.76 1423.18 L2352.76 47.2441 L232.389 47.2441  Z\n",
       "  \" fill=\"#ffffff\" fill-rule=\"evenodd\" fill-opacity=\"1\"/>\n",
       "<defs>\n",
       "  <clipPath id=\"clip002\">\n",
       "    <rect x=\"232\" y=\"47\" width=\"2121\" height=\"1377\"/>\n",
       "  </clipPath>\n",
       "</defs>\n",
       "<polyline clip-path=\"url(#clip002)\" style=\"stroke:#000000; stroke-linecap:round; stroke-linejoin:round; stroke-width:2; stroke-opacity:0.1; fill:none\" points=\"\n",
       "  246.937,1423.18 246.937,47.2441 \n",
       "  \"/>\n",
       "<polyline clip-path=\"url(#clip002)\" style=\"stroke:#000000; stroke-linecap:round; stroke-linejoin:round; stroke-width:2; stroke-opacity:0.1; fill:none\" points=\"\n",
       "  701.561,1423.18 701.561,47.2441 \n",
       "  \"/>\n",
       "<polyline clip-path=\"url(#clip002)\" style=\"stroke:#000000; stroke-linecap:round; stroke-linejoin:round; stroke-width:2; stroke-opacity:0.1; fill:none\" points=\"\n",
       "  1156.19,1423.18 1156.19,47.2441 \n",
       "  \"/>\n",
       "<polyline clip-path=\"url(#clip002)\" style=\"stroke:#000000; stroke-linecap:round; stroke-linejoin:round; stroke-width:2; stroke-opacity:0.1; fill:none\" points=\"\n",
       "  1610.81,1423.18 1610.81,47.2441 \n",
       "  \"/>\n",
       "<polyline clip-path=\"url(#clip002)\" style=\"stroke:#000000; stroke-linecap:round; stroke-linejoin:round; stroke-width:2; stroke-opacity:0.1; fill:none\" points=\"\n",
       "  2065.43,1423.18 2065.43,47.2441 \n",
       "  \"/>\n",
       "<polyline clip-path=\"url(#clip000)\" style=\"stroke:#000000; stroke-linecap:round; stroke-linejoin:round; stroke-width:4; stroke-opacity:1; fill:none\" points=\"\n",
       "  232.389,1423.18 2352.76,1423.18 \n",
       "  \"/>\n",
       "<polyline clip-path=\"url(#clip000)\" style=\"stroke:#000000; stroke-linecap:round; stroke-linejoin:round; stroke-width:4; stroke-opacity:1; fill:none\" points=\"\n",
       "  246.937,1423.18 246.937,1404.28 \n",
       "  \"/>\n",
       "<polyline clip-path=\"url(#clip000)\" style=\"stroke:#000000; stroke-linecap:round; stroke-linejoin:round; stroke-width:4; stroke-opacity:1; fill:none\" points=\"\n",
       "  701.561,1423.18 701.561,1404.28 \n",
       "  \"/>\n",
       "<polyline clip-path=\"url(#clip000)\" style=\"stroke:#000000; stroke-linecap:round; stroke-linejoin:round; stroke-width:4; stroke-opacity:1; fill:none\" points=\"\n",
       "  1156.19,1423.18 1156.19,1404.28 \n",
       "  \"/>\n",
       "<polyline clip-path=\"url(#clip000)\" style=\"stroke:#000000; stroke-linecap:round; stroke-linejoin:round; stroke-width:4; stroke-opacity:1; fill:none\" points=\"\n",
       "  1610.81,1423.18 1610.81,1404.28 \n",
       "  \"/>\n",
       "<polyline clip-path=\"url(#clip000)\" style=\"stroke:#000000; stroke-linecap:round; stroke-linejoin:round; stroke-width:4; stroke-opacity:1; fill:none\" points=\"\n",
       "  2065.43,1423.18 2065.43,1404.28 \n",
       "  \"/>\n",
       "<path clip-path=\"url(#clip000)\" d=\"M246.937 1454.1 Q243.326 1454.1 241.498 1457.66 Q239.692 1461.2 239.692 1468.33 Q239.692 1475.44 241.498 1479.01 Q243.326 1482.55 246.937 1482.55 Q250.572 1482.55 252.377 1479.01 Q254.206 1475.44 254.206 1468.33 Q254.206 1461.2 252.377 1457.66 Q250.572 1454.1 246.937 1454.1 M246.937 1450.39 Q252.747 1450.39 255.803 1455 Q258.882 1459.58 258.882 1468.33 Q258.882 1477.06 255.803 1481.67 Q252.747 1486.25 246.937 1486.25 Q241.127 1486.25 238.048 1481.67 Q234.993 1477.06 234.993 1468.33 Q234.993 1459.58 238.048 1455 Q241.127 1450.39 246.937 1450.39 Z\" fill=\"#000000\" fill-rule=\"evenodd\" fill-opacity=\"1\" /><path clip-path=\"url(#clip000)\" d=\"M676.249 1481.64 L683.888 1481.64 L683.888 1455.28 L675.578 1456.95 L675.578 1452.69 L683.842 1451.02 L688.517 1451.02 L688.517 1481.64 L696.156 1481.64 L696.156 1485.58 L676.249 1485.58 L676.249 1481.64 Z\" fill=\"#000000\" fill-rule=\"evenodd\" fill-opacity=\"1\" /><path clip-path=\"url(#clip000)\" d=\"M715.601 1454.1 Q711.99 1454.1 710.161 1457.66 Q708.355 1461.2 708.355 1468.33 Q708.355 1475.44 710.161 1479.01 Q711.99 1482.55 715.601 1482.55 Q719.235 1482.55 721.04 1479.01 Q722.869 1475.44 722.869 1468.33 Q722.869 1461.2 721.04 1457.66 Q719.235 1454.1 715.601 1454.1 M715.601 1450.39 Q721.411 1450.39 724.466 1455 Q727.545 1459.58 727.545 1468.33 Q727.545 1477.06 724.466 1481.67 Q721.411 1486.25 715.601 1486.25 Q709.79 1486.25 706.712 1481.67 Q703.656 1477.06 703.656 1468.33 Q703.656 1459.58 706.712 1455 Q709.79 1450.39 715.601 1450.39 Z\" fill=\"#000000\" fill-rule=\"evenodd\" fill-opacity=\"1\" /><path clip-path=\"url(#clip000)\" d=\"M1134.96 1481.64 L1151.28 1481.64 L1151.28 1485.58 L1129.33 1485.58 L1129.33 1481.64 Q1132 1478.89 1136.58 1474.26 Q1141.19 1469.61 1142.37 1468.27 Q1144.61 1465.74 1145.49 1464.01 Q1146.39 1462.25 1146.39 1460.56 Q1146.39 1457.8 1144.45 1456.07 Q1142.53 1454.33 1139.43 1454.33 Q1137.23 1454.33 1134.77 1455.09 Q1132.34 1455.86 1129.57 1457.41 L1129.57 1452.69 Q1132.39 1451.55 1134.84 1450.97 Q1137.3 1450.39 1139.33 1450.39 Q1144.7 1450.39 1147.9 1453.08 Q1151.09 1455.77 1151.09 1460.26 Q1151.09 1462.39 1150.28 1464.31 Q1149.5 1466.2 1147.39 1468.8 Q1146.81 1469.47 1143.71 1472.69 Q1140.61 1475.88 1134.96 1481.64 Z\" fill=\"#000000\" fill-rule=\"evenodd\" fill-opacity=\"1\" /><path clip-path=\"url(#clip000)\" d=\"M1171.09 1454.1 Q1167.48 1454.1 1165.65 1457.66 Q1163.85 1461.2 1163.85 1468.33 Q1163.85 1475.44 1165.65 1479.01 Q1167.48 1482.55 1171.09 1482.55 Q1174.73 1482.55 1176.53 1479.01 Q1178.36 1475.44 1178.36 1468.33 Q1178.36 1461.2 1176.53 1457.66 Q1174.73 1454.1 1171.09 1454.1 M1171.09 1450.39 Q1176.9 1450.39 1179.96 1455 Q1183.04 1459.58 1183.04 1468.33 Q1183.04 1477.06 1179.96 1481.67 Q1176.9 1486.25 1171.09 1486.25 Q1165.28 1486.25 1162.2 1481.67 Q1159.15 1477.06 1159.15 1468.33 Q1159.15 1459.58 1162.2 1455 Q1165.28 1450.39 1171.09 1450.39 Z\" fill=\"#000000\" fill-rule=\"evenodd\" fill-opacity=\"1\" /><path clip-path=\"url(#clip000)\" d=\"M1599.65 1466.95 Q1603.01 1467.66 1604.88 1469.93 Q1606.78 1472.2 1606.78 1475.53 Q1606.78 1480.65 1603.26 1483.45 Q1599.74 1486.25 1593.26 1486.25 Q1591.09 1486.25 1588.77 1485.81 Q1586.48 1485.39 1584.03 1484.54 L1584.03 1480.02 Q1585.97 1481.16 1588.29 1481.74 Q1590.6 1482.32 1593.12 1482.32 Q1597.52 1482.32 1599.81 1480.58 Q1602.13 1478.84 1602.13 1475.53 Q1602.13 1472.48 1599.98 1470.77 Q1597.85 1469.03 1594.03 1469.03 L1590 1469.03 L1590 1465.19 L1594.21 1465.19 Q1597.66 1465.19 1599.49 1463.82 Q1601.32 1462.43 1601.32 1459.84 Q1601.32 1457.18 1599.42 1455.77 Q1597.55 1454.33 1594.03 1454.33 Q1592.11 1454.33 1589.91 1454.75 Q1587.71 1455.16 1585.07 1456.04 L1585.07 1451.88 Q1587.73 1451.14 1590.05 1450.77 Q1592.38 1450.39 1594.44 1450.39 Q1599.77 1450.39 1602.87 1452.83 Q1605.97 1455.23 1605.97 1459.35 Q1605.97 1462.22 1604.33 1464.21 Q1602.68 1466.18 1599.65 1466.95 Z\" fill=\"#000000\" fill-rule=\"evenodd\" fill-opacity=\"1\" /><path clip-path=\"url(#clip000)\" d=\"M1625.65 1454.1 Q1622.04 1454.1 1620.21 1457.66 Q1618.4 1461.2 1618.4 1468.33 Q1618.4 1475.44 1620.21 1479.01 Q1622.04 1482.55 1625.65 1482.55 Q1629.28 1482.55 1631.09 1479.01 Q1632.92 1475.44 1632.92 1468.33 Q1632.92 1461.2 1631.09 1457.66 Q1629.28 1454.1 1625.65 1454.1 M1625.65 1450.39 Q1631.46 1450.39 1634.51 1455 Q1637.59 1459.58 1637.59 1468.33 Q1637.59 1477.06 1634.51 1481.67 Q1631.46 1486.25 1625.65 1486.25 Q1619.84 1486.25 1616.76 1481.67 Q1613.7 1477.06 1613.7 1468.33 Q1613.7 1459.58 1616.76 1455 Q1619.84 1450.39 1625.65 1450.39 Z\" fill=\"#000000\" fill-rule=\"evenodd\" fill-opacity=\"1\" /><path clip-path=\"url(#clip000)\" d=\"M2053.6 1455.09 L2041.8 1473.54 L2053.6 1473.54 L2053.6 1455.09 M2052.38 1451.02 L2058.26 1451.02 L2058.26 1473.54 L2063.19 1473.54 L2063.19 1477.43 L2058.26 1477.43 L2058.26 1485.58 L2053.6 1485.58 L2053.6 1477.43 L2038 1477.43 L2038 1472.92 L2052.38 1451.02 Z\" fill=\"#000000\" fill-rule=\"evenodd\" fill-opacity=\"1\" /><path clip-path=\"url(#clip000)\" d=\"M2080.92 1454.1 Q2077.31 1454.1 2075.48 1457.66 Q2073.67 1461.2 2073.67 1468.33 Q2073.67 1475.44 2075.48 1479.01 Q2077.31 1482.55 2080.92 1482.55 Q2084.55 1482.55 2086.36 1479.01 Q2088.19 1475.44 2088.19 1468.33 Q2088.19 1461.2 2086.36 1457.66 Q2084.55 1454.1 2080.92 1454.1 M2080.92 1450.39 Q2086.73 1450.39 2089.79 1455 Q2092.86 1459.58 2092.86 1468.33 Q2092.86 1477.06 2089.79 1481.67 Q2086.73 1486.25 2080.92 1486.25 Q2075.11 1486.25 2072.03 1481.67 Q2068.98 1477.06 2068.98 1468.33 Q2068.98 1459.58 2072.03 1455 Q2075.11 1450.39 2080.92 1450.39 Z\" fill=\"#000000\" fill-rule=\"evenodd\" fill-opacity=\"1\" /><path clip-path=\"url(#clip000)\" d=\"M1307.5 1546.53 L1307.5 1568.04 L1301.64 1568.04 L1301.64 1546.72 Q1301.64 1541.66 1299.67 1539.14 Q1297.7 1536.63 1293.75 1536.63 Q1289.01 1536.63 1286.27 1539.65 Q1283.53 1542.68 1283.53 1547.9 L1283.53 1568.04 L1277.65 1568.04 L1277.65 1532.4 L1283.53 1532.4 L1283.53 1537.93 Q1285.63 1534.72 1288.47 1533.13 Q1291.33 1531.54 1295.06 1531.54 Q1301.2 1531.54 1304.35 1535.36 Q1307.5 1539.14 1307.5 1546.53 Z\" fill=\"#000000\" fill-rule=\"evenodd\" fill-opacity=\"1\" /><polyline clip-path=\"url(#clip002)\" style=\"stroke:#000000; stroke-linecap:round; stroke-linejoin:round; stroke-width:2; stroke-opacity:0.1; fill:none\" points=\"\n",
       "  232.389,1338.64 2352.76,1338.64 \n",
       "  \"/>\n",
       "<polyline clip-path=\"url(#clip002)\" style=\"stroke:#000000; stroke-linecap:round; stroke-linejoin:round; stroke-width:2; stroke-opacity:0.1; fill:none\" points=\"\n",
       "  232.389,1025.96 2352.76,1025.96 \n",
       "  \"/>\n",
       "<polyline clip-path=\"url(#clip002)\" style=\"stroke:#000000; stroke-linecap:round; stroke-linejoin:round; stroke-width:2; stroke-opacity:0.1; fill:none\" points=\"\n",
       "  232.389,713.271 2352.76,713.271 \n",
       "  \"/>\n",
       "<polyline clip-path=\"url(#clip002)\" style=\"stroke:#000000; stroke-linecap:round; stroke-linejoin:round; stroke-width:2; stroke-opacity:0.1; fill:none\" points=\"\n",
       "  232.389,400.585 2352.76,400.585 \n",
       "  \"/>\n",
       "<polyline clip-path=\"url(#clip002)\" style=\"stroke:#000000; stroke-linecap:round; stroke-linejoin:round; stroke-width:2; stroke-opacity:0.1; fill:none\" points=\"\n",
       "  232.389,87.8992 2352.76,87.8992 \n",
       "  \"/>\n",
       "<polyline clip-path=\"url(#clip000)\" style=\"stroke:#000000; stroke-linecap:round; stroke-linejoin:round; stroke-width:4; stroke-opacity:1; fill:none\" points=\"\n",
       "  232.389,1423.18 232.389,47.2441 \n",
       "  \"/>\n",
       "<polyline clip-path=\"url(#clip000)\" style=\"stroke:#000000; stroke-linecap:round; stroke-linejoin:round; stroke-width:4; stroke-opacity:1; fill:none\" points=\"\n",
       "  232.389,1338.64 251.287,1338.64 \n",
       "  \"/>\n",
       "<polyline clip-path=\"url(#clip000)\" style=\"stroke:#000000; stroke-linecap:round; stroke-linejoin:round; stroke-width:4; stroke-opacity:1; fill:none\" points=\"\n",
       "  232.389,1025.96 251.287,1025.96 \n",
       "  \"/>\n",
       "<polyline clip-path=\"url(#clip000)\" style=\"stroke:#000000; stroke-linecap:round; stroke-linejoin:round; stroke-width:4; stroke-opacity:1; fill:none\" points=\"\n",
       "  232.389,713.271 251.287,713.271 \n",
       "  \"/>\n",
       "<polyline clip-path=\"url(#clip000)\" style=\"stroke:#000000; stroke-linecap:round; stroke-linejoin:round; stroke-width:4; stroke-opacity:1; fill:none\" points=\"\n",
       "  232.389,400.585 251.287,400.585 \n",
       "  \"/>\n",
       "<polyline clip-path=\"url(#clip000)\" style=\"stroke:#000000; stroke-linecap:round; stroke-linejoin:round; stroke-width:4; stroke-opacity:1; fill:none\" points=\"\n",
       "  232.389,87.8992 251.287,87.8992 \n",
       "  \"/>\n",
       "<path clip-path=\"url(#clip000)\" d=\"M184.445 1324.44 Q180.834 1324.44 179.005 1328.01 Q177.2 1331.55 177.2 1338.68 Q177.2 1345.78 179.005 1349.35 Q180.834 1352.89 184.445 1352.89 Q188.079 1352.89 189.885 1349.35 Q191.713 1345.78 191.713 1338.68 Q191.713 1331.55 189.885 1328.01 Q188.079 1324.44 184.445 1324.44 M184.445 1320.74 Q190.255 1320.74 193.311 1325.34 Q196.389 1329.93 196.389 1338.68 Q196.389 1347.4 193.311 1352.01 Q190.255 1356.59 184.445 1356.59 Q178.635 1356.59 175.556 1352.01 Q172.501 1347.4 172.501 1338.68 Q172.501 1329.93 175.556 1325.34 Q178.635 1320.74 184.445 1320.74 Z\" fill=\"#000000\" fill-rule=\"evenodd\" fill-opacity=\"1\" /><path clip-path=\"url(#clip000)\" d=\"M149.306 1039.3 L165.626 1039.3 L165.626 1043.24 L143.681 1043.24 L143.681 1039.3 Q146.343 1036.55 150.927 1031.92 Q155.533 1027.26 156.714 1025.92 Q158.959 1023.4 159.839 1021.66 Q160.741 1019.9 160.741 1018.21 Q160.741 1015.46 158.797 1013.72 Q156.876 1011.99 153.774 1011.99 Q151.575 1011.99 149.121 1012.75 Q146.691 1013.51 143.913 1015.07 L143.913 1010.34 Q146.737 1009.21 149.191 1008.63 Q151.644 1008.05 153.681 1008.05 Q159.052 1008.05 162.246 1010.74 Q165.44 1013.42 165.44 1017.91 Q165.44 1020.04 164.63 1021.96 Q163.843 1023.86 161.737 1026.45 Q161.158 1027.13 158.056 1030.34 Q154.954 1033.54 149.306 1039.3 Z\" fill=\"#000000\" fill-rule=\"evenodd\" fill-opacity=\"1\" /><path clip-path=\"url(#clip000)\" d=\"M175.487 1008.68 L193.843 1008.68 L193.843 1012.61 L179.769 1012.61 L179.769 1021.08 Q180.788 1020.74 181.806 1020.58 Q182.825 1020.39 183.843 1020.39 Q189.63 1020.39 193.01 1023.56 Q196.389 1026.73 196.389 1032.15 Q196.389 1037.73 192.917 1040.83 Q189.445 1043.91 183.126 1043.91 Q180.95 1043.91 178.681 1043.54 Q176.436 1043.17 174.028 1042.43 L174.028 1037.73 Q176.112 1038.86 178.334 1039.42 Q180.556 1039.97 183.033 1039.97 Q187.038 1039.97 189.375 1037.87 Q191.713 1035.76 191.713 1032.15 Q191.713 1028.54 189.375 1026.43 Q187.038 1024.32 183.033 1024.32 Q181.158 1024.32 179.283 1024.74 Q177.431 1025.16 175.487 1026.04 L175.487 1008.68 Z\" fill=\"#000000\" fill-rule=\"evenodd\" fill-opacity=\"1\" /><path clip-path=\"url(#clip000)\" d=\"M144.329 695.991 L162.686 695.991 L162.686 699.926 L148.612 699.926 L148.612 708.398 Q149.63 708.051 150.649 707.889 Q151.667 707.704 152.686 707.704 Q158.473 707.704 161.852 710.875 Q165.232 714.046 165.232 719.463 Q165.232 725.042 161.76 728.144 Q158.288 731.222 151.968 731.222 Q149.792 731.222 147.524 730.852 Q145.279 730.482 142.871 729.741 L142.871 725.042 Q144.954 726.176 147.177 726.732 Q149.399 727.287 151.876 727.287 Q155.88 727.287 158.218 725.181 Q160.556 723.074 160.556 719.463 Q160.556 715.852 158.218 713.746 Q155.88 711.639 151.876 711.639 Q150.001 711.639 148.126 712.056 Q146.274 712.472 144.329 713.352 L144.329 695.991 Z\" fill=\"#000000\" fill-rule=\"evenodd\" fill-opacity=\"1\" /><path clip-path=\"url(#clip000)\" d=\"M184.445 699.07 Q180.834 699.07 179.005 702.634 Q177.2 706.176 177.2 713.306 Q177.2 720.412 179.005 723.977 Q180.834 727.519 184.445 727.519 Q188.079 727.519 189.885 723.977 Q191.713 720.412 191.713 713.306 Q191.713 706.176 189.885 702.634 Q188.079 699.07 184.445 699.07 M184.445 695.366 Q190.255 695.366 193.311 699.972 Q196.389 704.556 196.389 713.306 Q196.389 722.033 193.311 726.639 Q190.255 731.222 184.445 731.222 Q178.635 731.222 175.556 726.639 Q172.501 722.033 172.501 713.306 Q172.501 704.556 175.556 699.972 Q178.635 695.366 184.445 695.366 Z\" fill=\"#000000\" fill-rule=\"evenodd\" fill-opacity=\"1\" /><path clip-path=\"url(#clip000)\" d=\"M144.098 383.305 L166.32 383.305 L166.32 385.296 L153.774 417.865 L148.89 417.865 L160.695 387.24 L144.098 387.24 L144.098 383.305 Z\" fill=\"#000000\" fill-rule=\"evenodd\" fill-opacity=\"1\" /><path clip-path=\"url(#clip000)\" d=\"M175.487 383.305 L193.843 383.305 L193.843 387.24 L179.769 387.24 L179.769 395.712 Q180.788 395.365 181.806 395.203 Q182.825 395.018 183.843 395.018 Q189.63 395.018 193.01 398.189 Q196.389 401.361 196.389 406.777 Q196.389 412.356 192.917 415.458 Q189.445 418.536 183.126 418.536 Q180.95 418.536 178.681 418.166 Q176.436 417.796 174.028 417.055 L174.028 412.356 Q176.112 413.49 178.334 414.046 Q180.556 414.601 183.033 414.601 Q187.038 414.601 189.375 412.495 Q191.713 410.388 191.713 406.777 Q191.713 403.166 189.375 401.06 Q187.038 398.953 183.033 398.953 Q181.158 398.953 179.283 399.37 Q177.431 399.786 175.487 400.666 L175.487 383.305 Z\" fill=\"#000000\" fill-rule=\"evenodd\" fill-opacity=\"1\" /><path clip-path=\"url(#clip000)\" d=\"M114.931 101.244 L122.57 101.244 L122.57 74.8784 L114.26 76.5451 L114.26 72.2858 L122.524 70.6192 L127.2 70.6192 L127.2 101.244 L134.839 101.244 L134.839 105.179 L114.931 105.179 L114.931 101.244 Z\" fill=\"#000000\" fill-rule=\"evenodd\" fill-opacity=\"1\" /><path clip-path=\"url(#clip000)\" d=\"M154.283 73.6979 Q150.672 73.6979 148.843 77.2627 Q147.038 80.8043 147.038 87.9339 Q147.038 95.0403 148.843 98.6051 Q150.672 102.147 154.283 102.147 Q157.917 102.147 159.723 98.6051 Q161.552 95.0403 161.552 87.9339 Q161.552 80.8043 159.723 77.2627 Q157.917 73.6979 154.283 73.6979 M154.283 69.9942 Q160.093 69.9942 163.149 74.6006 Q166.227 79.1839 166.227 87.9339 Q166.227 96.6607 163.149 101.267 Q160.093 105.85 154.283 105.85 Q148.473 105.85 145.394 101.267 Q142.339 96.6607 142.339 87.9339 Q142.339 79.1839 145.394 74.6006 Q148.473 69.9942 154.283 69.9942 Z\" fill=\"#000000\" fill-rule=\"evenodd\" fill-opacity=\"1\" /><path clip-path=\"url(#clip000)\" d=\"M184.445 73.6979 Q180.834 73.6979 179.005 77.2627 Q177.2 80.8043 177.2 87.9339 Q177.2 95.0403 179.005 98.6051 Q180.834 102.147 184.445 102.147 Q188.079 102.147 189.885 98.6051 Q191.713 95.0403 191.713 87.9339 Q191.713 80.8043 189.885 77.2627 Q188.079 73.6979 184.445 73.6979 M184.445 69.9942 Q190.255 69.9942 193.311 74.6006 Q196.389 79.1839 196.389 87.9339 Q196.389 96.6607 193.311 101.267 Q190.255 105.85 184.445 105.85 Q178.635 105.85 175.556 101.267 Q172.501 96.6607 172.501 87.9339 Q172.501 79.1839 175.556 74.6006 Q178.635 69.9942 184.445 69.9942 Z\" fill=\"#000000\" fill-rule=\"evenodd\" fill-opacity=\"1\" /><path clip-path=\"url(#clip000)\" d=\"M16.4842 750.521 L16.4842 720.475 L21.895 720.475 L21.895 744.092 L35.9632 744.092 L35.9632 721.462 L41.3741 721.462 L41.3741 744.092 L58.5933 744.092 L58.5933 719.902 L64.0042 719.902 L64.0042 750.521 L16.4842 750.521 Z\" fill=\"#000000\" fill-rule=\"evenodd\" fill-opacity=\"1\" /><path clip-path=\"url(#clip002)\" d=\"M292.4 1360.17 L286.76 1376.39 L269.576 1376.75 L283.28 1387.14 L278.288 1403.58 L292.4 1393.77 L306.512 1403.58 L301.52 1387.14 L315.224 1376.75 L298.04 1376.39 L292.4 1360.17 Z\" fill=\"#009af9\" fill-rule=\"evenodd\" fill-opacity=\"1\" stroke=\"#000000\" stroke-opacity=\"1\" stroke-width=\"3.2\"/>\n",
       "<path clip-path=\"url(#clip002)\" d=\"M337.862 1360.17 L332.222 1376.39 L315.038 1376.75 L328.742 1387.14 L323.75 1403.58 L337.862 1393.77 L351.974 1403.58 L346.982 1387.14 L360.686 1376.75 L343.502 1376.39 L337.862 1360.17 Z\" fill=\"#009af9\" fill-rule=\"evenodd\" fill-opacity=\"1\" stroke=\"#000000\" stroke-opacity=\"1\" stroke-width=\"3.2\"/>\n",
       "<path clip-path=\"url(#clip002)\" d=\"M383.325 1360.17 L377.685 1376.39 L360.501 1376.75 L374.205 1387.14 L369.213 1403.58 L383.325 1393.77 L397.437 1403.58 L392.445 1387.14 L406.149 1376.75 L388.965 1376.39 L383.325 1360.17 Z\" fill=\"#009af9\" fill-rule=\"evenodd\" fill-opacity=\"1\" stroke=\"#000000\" stroke-opacity=\"1\" stroke-width=\"3.2\"/>\n",
       "<path clip-path=\"url(#clip002)\" d=\"M428.787 1356.5 L423.147 1372.73 L405.963 1373.09 L419.667 1383.48 L414.675 1399.92 L428.787 1390.1 L442.899 1399.92 L437.907 1383.48 L451.611 1373.09 L434.427 1372.73 L428.787 1356.5 Z\" fill=\"#009af9\" fill-rule=\"evenodd\" fill-opacity=\"1\" stroke=\"#000000\" stroke-opacity=\"1\" stroke-width=\"3.2\"/>\n",
       "<path clip-path=\"url(#clip002)\" d=\"M474.249 1356.5 L468.609 1372.73 L451.425 1373.09 L465.129 1383.48 L460.137 1399.92 L474.249 1390.1 L488.361 1399.92 L483.369 1383.48 L497.073 1373.09 L479.889 1372.73 L474.249 1356.5 Z\" fill=\"#009af9\" fill-rule=\"evenodd\" fill-opacity=\"1\" stroke=\"#000000\" stroke-opacity=\"1\" stroke-width=\"3.2\"/>\n",
       "<path clip-path=\"url(#clip002)\" d=\"M519.712 1356.5 L514.072 1372.73 L496.888 1373.09 L510.592 1383.48 L505.6 1399.92 L519.712 1390.1 L533.824 1399.92 L528.832 1383.48 L542.536 1373.09 L525.352 1372.73 L519.712 1356.5 Z\" fill=\"#009af9\" fill-rule=\"evenodd\" fill-opacity=\"1\" stroke=\"#000000\" stroke-opacity=\"1\" stroke-width=\"3.2\"/>\n",
       "<path clip-path=\"url(#clip002)\" d=\"M565.174 1348.81 L559.534 1365.04 L542.35 1365.4 L556.054 1375.79 L551.062 1392.23 L565.174 1382.41 L579.286 1392.23 L574.294 1375.79 L587.998 1365.4 L570.814 1365.04 L565.174 1348.81 Z\" fill=\"#009af9\" fill-rule=\"evenodd\" fill-opacity=\"1\" stroke=\"#000000\" stroke-opacity=\"1\" stroke-width=\"3.2\"/>\n",
       "<path clip-path=\"url(#clip002)\" d=\"M610.637 1348.81 L604.997 1365.04 L587.813 1365.4 L601.517 1375.79 L596.525 1392.23 L610.637 1382.41 L624.749 1392.23 L619.757 1375.79 L633.461 1365.4 L616.277 1365.04 L610.637 1348.81 Z\" fill=\"#009af9\" fill-rule=\"evenodd\" fill-opacity=\"1\" stroke=\"#000000\" stroke-opacity=\"1\" stroke-width=\"3.2\"/>\n",
       "<path clip-path=\"url(#clip002)\" d=\"M656.099 1348.81 L650.459 1365.04 L633.275 1365.4 L646.979 1375.79 L641.987 1392.23 L656.099 1382.41 L670.211 1392.23 L665.219 1375.79 L678.923 1365.4 L661.739 1365.04 L656.099 1348.81 Z\" fill=\"#009af9\" fill-rule=\"evenodd\" fill-opacity=\"1\" stroke=\"#000000\" stroke-opacity=\"1\" stroke-width=\"3.2\"/>\n",
       "<path clip-path=\"url(#clip002)\" d=\"M701.561 1336.18 L695.921 1352.4 L678.737 1352.76 L692.441 1363.15 L687.449 1379.59 L701.561 1369.78 L715.673 1379.59 L710.681 1363.15 L724.385 1352.76 L707.201 1352.4 L701.561 1336.18 Z\" fill=\"#009af9\" fill-rule=\"evenodd\" fill-opacity=\"1\" stroke=\"#000000\" stroke-opacity=\"1\" stroke-width=\"3.2\"/>\n",
       "<path clip-path=\"url(#clip002)\" d=\"M747.024 1336.18 L741.384 1352.4 L724.2 1352.76 L737.904 1363.15 L732.912 1379.59 L747.024 1369.78 L761.136 1379.59 L756.144 1363.15 L769.848 1352.76 L752.664 1352.4 L747.024 1336.18 Z\" fill=\"#009af9\" fill-rule=\"evenodd\" fill-opacity=\"1\" stroke=\"#000000\" stroke-opacity=\"1\" stroke-width=\"3.2\"/>\n",
       "<path clip-path=\"url(#clip002)\" d=\"M792.486 1336.18 L786.846 1352.4 L769.662 1352.76 L783.366 1363.15 L778.374 1379.59 L792.486 1369.78 L806.598 1379.59 L801.606 1363.15 L815.31 1352.76 L798.126 1352.4 L792.486 1336.18 Z\" fill=\"#009af9\" fill-rule=\"evenodd\" fill-opacity=\"1\" stroke=\"#000000\" stroke-opacity=\"1\" stroke-width=\"3.2\"/>\n",
       "<path clip-path=\"url(#clip002)\" d=\"M837.949 1332.33 L832.309 1348.56 L815.125 1348.92 L828.829 1359.31 L823.837 1375.75 L837.949 1365.93 L852.061 1375.75 L847.069 1359.31 L860.773 1348.92 L843.589 1348.56 L837.949 1332.33 Z\" fill=\"#009af9\" fill-rule=\"evenodd\" fill-opacity=\"1\" stroke=\"#000000\" stroke-opacity=\"1\" stroke-width=\"3.2\"/>\n",
       "<path clip-path=\"url(#clip002)\" d=\"M883.411 1332.33 L877.771 1348.56 L860.587 1348.92 L874.291 1359.31 L869.299 1375.75 L883.411 1365.93 L897.523 1375.75 L892.531 1359.31 L906.235 1348.92 L889.051 1348.56 L883.411 1332.33 Z\" fill=\"#009af9\" fill-rule=\"evenodd\" fill-opacity=\"1\" stroke=\"#000000\" stroke-opacity=\"1\" stroke-width=\"3.2\"/>\n",
       "<path clip-path=\"url(#clip002)\" d=\"M928.873 1332.33 L923.233 1348.56 L906.049 1348.92 L919.753 1359.31 L914.761 1375.75 L928.873 1365.93 L942.985 1375.75 L937.993 1359.31 L951.697 1348.92 L934.513 1348.56 L928.873 1332.33 Z\" fill=\"#009af9\" fill-rule=\"evenodd\" fill-opacity=\"1\" stroke=\"#000000\" stroke-opacity=\"1\" stroke-width=\"3.2\"/>\n",
       "<path clip-path=\"url(#clip002)\" d=\"M974.336 1321.92 L968.696 1338.14 L951.512 1338.5 L965.216 1348.89 L960.224 1365.33 L974.336 1355.52 L988.448 1365.33 L983.456 1348.89 L997.16 1338.5 L979.976 1338.14 L974.336 1321.92 Z\" fill=\"#009af9\" fill-rule=\"evenodd\" fill-opacity=\"1\" stroke=\"#000000\" stroke-opacity=\"1\" stroke-width=\"3.2\"/>\n",
       "<path clip-path=\"url(#clip002)\" d=\"M1019.8 1321.92 L1014.16 1338.14 L996.974 1338.5 L1010.68 1348.89 L1005.69 1365.33 L1019.8 1355.52 L1033.91 1365.33 L1028.92 1348.89 L1042.62 1338.5 L1025.44 1338.14 L1019.8 1321.92 Z\" fill=\"#009af9\" fill-rule=\"evenodd\" fill-opacity=\"1\" stroke=\"#000000\" stroke-opacity=\"1\" stroke-width=\"3.2\"/>\n",
       "<path clip-path=\"url(#clip002)\" d=\"M1065.26 1321.92 L1059.62 1338.14 L1042.44 1338.5 L1056.14 1348.89 L1051.15 1365.33 L1065.26 1355.52 L1079.37 1365.33 L1074.38 1348.89 L1088.08 1338.5 L1070.9 1338.14 L1065.26 1321.92 Z\" fill=\"#009af9\" fill-rule=\"evenodd\" fill-opacity=\"1\" stroke=\"#000000\" stroke-opacity=\"1\" stroke-width=\"3.2\"/>\n",
       "<path clip-path=\"url(#clip002)\" d=\"M1110.72 1306.64 L1105.08 1322.86 L1087.9 1323.22 L1101.6 1333.61 L1096.61 1350.05 L1110.72 1340.24 L1124.84 1350.05 L1119.84 1333.61 L1133.55 1323.22 L1116.36 1322.86 L1110.72 1306.64 Z\" fill=\"#009af9\" fill-rule=\"evenodd\" fill-opacity=\"1\" stroke=\"#000000\" stroke-opacity=\"1\" stroke-width=\"3.2\"/>\n",
       "<path clip-path=\"url(#clip002)\" d=\"M1156.19 1306.64 L1150.55 1322.86 L1133.36 1323.22 L1147.07 1333.61 L1142.07 1350.05 L1156.19 1340.24 L1170.3 1350.05 L1165.31 1333.61 L1179.01 1323.22 L1161.83 1322.86 L1156.19 1306.64 Z\" fill=\"#009af9\" fill-rule=\"evenodd\" fill-opacity=\"1\" stroke=\"#000000\" stroke-opacity=\"1\" stroke-width=\"3.2\"/>\n",
       "<path clip-path=\"url(#clip002)\" d=\"M1201.65 1306.64 L1196.01 1322.86 L1178.82 1323.22 L1192.53 1333.61 L1187.54 1350.05 L1201.65 1340.24 L1215.76 1350.05 L1210.77 1333.61 L1224.47 1323.22 L1207.29 1322.86 L1201.65 1306.64 Z\" fill=\"#009af9\" fill-rule=\"evenodd\" fill-opacity=\"1\" stroke=\"#000000\" stroke-opacity=\"1\" stroke-width=\"3.2\"/>\n",
       "<path clip-path=\"url(#clip002)\" d=\"M1247.11 1305.49 L1241.47 1321.71 L1224.29 1322.07 L1237.99 1332.46 L1233 1348.9 L1247.11 1339.09 L1261.22 1348.9 L1256.23 1332.46 L1269.93 1322.07 L1252.75 1321.71 L1247.11 1305.49 Z\" fill=\"#009af9\" fill-rule=\"evenodd\" fill-opacity=\"1\" stroke=\"#000000\" stroke-opacity=\"1\" stroke-width=\"3.2\"/>\n",
       "<path clip-path=\"url(#clip002)\" d=\"M1292.57 1305.49 L1286.93 1321.71 L1269.75 1322.07 L1283.45 1332.46 L1278.46 1348.9 L1292.57 1339.09 L1306.68 1348.9 L1301.69 1332.46 L1315.4 1322.07 L1298.21 1321.71 L1292.57 1305.49 Z\" fill=\"#009af9\" fill-rule=\"evenodd\" fill-opacity=\"1\" stroke=\"#000000\" stroke-opacity=\"1\" stroke-width=\"3.2\"/>\n",
       "<path clip-path=\"url(#clip002)\" d=\"M1338.04 1305.49 L1332.4 1321.71 L1315.21 1322.07 L1328.92 1332.46 L1323.92 1348.9 L1338.04 1339.09 L1352.15 1348.9 L1347.16 1332.46 L1360.86 1322.07 L1343.68 1321.71 L1338.04 1305.49 Z\" fill=\"#009af9\" fill-rule=\"evenodd\" fill-opacity=\"1\" stroke=\"#000000\" stroke-opacity=\"1\" stroke-width=\"3.2\"/>\n",
       "<path clip-path=\"url(#clip002)\" d=\"M1383.5 1296.95 L1377.86 1313.18 L1360.67 1313.54 L1374.38 1323.93 L1369.39 1340.37 L1383.5 1330.55 L1397.61 1340.37 L1392.62 1323.93 L1406.32 1313.54 L1389.14 1313.18 L1383.5 1296.95 Z\" fill=\"#009af9\" fill-rule=\"evenodd\" fill-opacity=\"1\" stroke=\"#000000\" stroke-opacity=\"1\" stroke-width=\"3.2\"/>\n",
       "<path clip-path=\"url(#clip002)\" d=\"M1428.96 1296.95 L1423.32 1313.18 L1406.14 1313.54 L1419.84 1323.93 L1414.85 1340.37 L1428.96 1330.55 L1443.07 1340.37 L1438.08 1323.93 L1451.78 1313.54 L1434.6 1313.18 L1428.96 1296.95 Z\" fill=\"#009af9\" fill-rule=\"evenodd\" fill-opacity=\"1\" stroke=\"#000000\" stroke-opacity=\"1\" stroke-width=\"3.2\"/>\n",
       "<path clip-path=\"url(#clip002)\" d=\"M1474.42 1296.95 L1468.78 1313.18 L1451.6 1313.54 L1465.3 1323.93 L1460.31 1340.37 L1474.42 1330.55 L1488.53 1340.37 L1483.54 1323.93 L1497.25 1313.54 L1480.06 1313.18 L1474.42 1296.95 Z\" fill=\"#009af9\" fill-rule=\"evenodd\" fill-opacity=\"1\" stroke=\"#000000\" stroke-opacity=\"1\" stroke-width=\"3.2\"/>\n",
       "<path clip-path=\"url(#clip002)\" d=\"M1519.88 1294.19 L1514.24 1310.41 L1497.06 1310.77 L1510.76 1321.16 L1505.77 1337.6 L1519.88 1327.79 L1534 1337.6 L1529 1321.16 L1542.71 1310.77 L1525.52 1310.41 L1519.88 1294.19 Z\" fill=\"#009af9\" fill-rule=\"evenodd\" fill-opacity=\"1\" stroke=\"#000000\" stroke-opacity=\"1\" stroke-width=\"3.2\"/>\n",
       "<path clip-path=\"url(#clip002)\" d=\"M1565.35 1294.19 L1559.71 1310.41 L1542.52 1310.77 L1556.23 1321.16 L1551.24 1337.6 L1565.35 1327.79 L1579.46 1337.6 L1574.47 1321.16 L1588.17 1310.77 L1570.99 1310.41 L1565.35 1294.19 Z\" fill=\"#009af9\" fill-rule=\"evenodd\" fill-opacity=\"1\" stroke=\"#000000\" stroke-opacity=\"1\" stroke-width=\"3.2\"/>\n",
       "<path clip-path=\"url(#clip002)\" d=\"M1610.81 1294.19 L1605.17 1310.41 L1587.99 1310.77 L1601.69 1321.16 L1596.7 1337.6 L1610.81 1327.79 L1624.92 1337.6 L1619.93 1321.16 L1633.63 1310.77 L1616.45 1310.41 L1610.81 1294.19 Z\" fill=\"#009af9\" fill-rule=\"evenodd\" fill-opacity=\"1\" stroke=\"#000000\" stroke-opacity=\"1\" stroke-width=\"3.2\"/>\n",
       "<path clip-path=\"url(#clip002)\" d=\"M1656.27 1264.75 L1650.63 1280.97 L1633.45 1281.33 L1647.15 1291.72 L1642.16 1308.16 L1656.27 1298.35 L1670.38 1308.16 L1665.39 1291.72 L1679.1 1281.33 L1661.91 1280.97 L1656.27 1264.75 Z\" fill=\"#009af9\" fill-rule=\"evenodd\" fill-opacity=\"1\" stroke=\"#000000\" stroke-opacity=\"1\" stroke-width=\"3.2\"/>\n",
       "<path clip-path=\"url(#clip002)\" d=\"M1701.73 1264.75 L1696.09 1280.97 L1678.91 1281.33 L1692.61 1291.72 L1687.62 1308.16 L1701.73 1298.35 L1715.85 1308.16 L1710.85 1291.72 L1724.56 1281.33 L1707.37 1280.97 L1701.73 1264.75 Z\" fill=\"#009af9\" fill-rule=\"evenodd\" fill-opacity=\"1\" stroke=\"#000000\" stroke-opacity=\"1\" stroke-width=\"3.2\"/>\n",
       "<path clip-path=\"url(#clip002)\" d=\"M1747.2 1264.75 L1741.56 1280.97 L1724.37 1281.33 L1738.08 1291.72 L1733.08 1308.16 L1747.2 1298.35 L1761.31 1308.16 L1756.32 1291.72 L1770.02 1281.33 L1752.84 1280.97 L1747.2 1264.75 Z\" fill=\"#009af9\" fill-rule=\"evenodd\" fill-opacity=\"1\" stroke=\"#000000\" stroke-opacity=\"1\" stroke-width=\"3.2\"/>\n",
       "<path clip-path=\"url(#clip002)\" d=\"M1792.66 1251.79 L1787.02 1268.02 L1769.84 1268.38 L1783.54 1278.77 L1778.55 1295.21 L1792.66 1285.39 L1806.77 1295.21 L1801.78 1278.77 L1815.48 1268.38 L1798.3 1268.02 L1792.66 1251.79 Z\" fill=\"#009af9\" fill-rule=\"evenodd\" fill-opacity=\"1\" stroke=\"#000000\" stroke-opacity=\"1\" stroke-width=\"3.2\"/>\n",
       "<path clip-path=\"url(#clip002)\" d=\"M1838.12 1251.79 L1832.48 1268.02 L1815.3 1268.38 L1829 1278.77 L1824.01 1295.21 L1838.12 1285.39 L1852.23 1295.21 L1847.24 1278.77 L1860.95 1268.38 L1843.76 1268.02 L1838.12 1251.79 Z\" fill=\"#009af9\" fill-rule=\"evenodd\" fill-opacity=\"1\" stroke=\"#000000\" stroke-opacity=\"1\" stroke-width=\"3.2\"/>\n",
       "<path clip-path=\"url(#clip002)\" d=\"M1883.58 1251.79 L1877.94 1268.02 L1860.76 1268.38 L1874.46 1278.77 L1869.47 1295.21 L1883.58 1285.39 L1897.7 1295.21 L1892.7 1278.77 L1906.41 1268.38 L1889.22 1268.02 L1883.58 1251.79 Z\" fill=\"#009af9\" fill-rule=\"evenodd\" fill-opacity=\"1\" stroke=\"#000000\" stroke-opacity=\"1\" stroke-width=\"3.2\"/>\n",
       "<circle clip-path=\"url(#clip002)\" cx=\"292.4\" cy=\"1384.24\" r=\"14.4\" fill=\"#e26f46\" fill-rule=\"evenodd\" fill-opacity=\"1\" stroke=\"#000000\" stroke-opacity=\"1\" stroke-width=\"3.2\"/>\n",
       "<circle clip-path=\"url(#clip002)\" cx=\"337.862\" cy=\"1384.24\" r=\"14.4\" fill=\"#e26f46\" fill-rule=\"evenodd\" fill-opacity=\"1\" stroke=\"#000000\" stroke-opacity=\"1\" stroke-width=\"3.2\"/>\n",
       "<circle clip-path=\"url(#clip002)\" cx=\"383.325\" cy=\"1384.24\" r=\"14.4\" fill=\"#e26f46\" fill-rule=\"evenodd\" fill-opacity=\"1\" stroke=\"#000000\" stroke-opacity=\"1\" stroke-width=\"3.2\"/>\n",
       "<circle clip-path=\"url(#clip002)\" cx=\"428.787\" cy=\"1380.75\" r=\"14.4\" fill=\"#e26f46\" fill-rule=\"evenodd\" fill-opacity=\"1\" stroke=\"#000000\" stroke-opacity=\"1\" stroke-width=\"3.2\"/>\n",
       "<circle clip-path=\"url(#clip002)\" cx=\"474.249\" cy=\"1380.75\" r=\"14.4\" fill=\"#e26f46\" fill-rule=\"evenodd\" fill-opacity=\"1\" stroke=\"#000000\" stroke-opacity=\"1\" stroke-width=\"3.2\"/>\n",
       "<circle clip-path=\"url(#clip002)\" cx=\"519.712\" cy=\"1380.75\" r=\"14.4\" fill=\"#e26f46\" fill-rule=\"evenodd\" fill-opacity=\"1\" stroke=\"#000000\" stroke-opacity=\"1\" stroke-width=\"3.2\"/>\n",
       "<circle clip-path=\"url(#clip002)\" cx=\"565.174\" cy=\"1372.81\" r=\"14.4\" fill=\"#e26f46\" fill-rule=\"evenodd\" fill-opacity=\"1\" stroke=\"#000000\" stroke-opacity=\"1\" stroke-width=\"3.2\"/>\n",
       "<circle clip-path=\"url(#clip002)\" cx=\"610.637\" cy=\"1372.81\" r=\"14.4\" fill=\"#e26f46\" fill-rule=\"evenodd\" fill-opacity=\"1\" stroke=\"#000000\" stroke-opacity=\"1\" stroke-width=\"3.2\"/>\n",
       "<circle clip-path=\"url(#clip002)\" cx=\"656.099\" cy=\"1372.81\" r=\"14.4\" fill=\"#e26f46\" fill-rule=\"evenodd\" fill-opacity=\"1\" stroke=\"#000000\" stroke-opacity=\"1\" stroke-width=\"3.2\"/>\n",
       "<circle clip-path=\"url(#clip002)\" cx=\"701.561\" cy=\"1360.25\" r=\"14.4\" fill=\"#e26f46\" fill-rule=\"evenodd\" fill-opacity=\"1\" stroke=\"#000000\" stroke-opacity=\"1\" stroke-width=\"3.2\"/>\n",
       "<circle clip-path=\"url(#clip002)\" cx=\"747.024\" cy=\"1360.25\" r=\"14.4\" fill=\"#e26f46\" fill-rule=\"evenodd\" fill-opacity=\"1\" stroke=\"#000000\" stroke-opacity=\"1\" stroke-width=\"3.2\"/>\n",
       "<circle clip-path=\"url(#clip002)\" cx=\"792.486\" cy=\"1360.25\" r=\"14.4\" fill=\"#e26f46\" fill-rule=\"evenodd\" fill-opacity=\"1\" stroke=\"#000000\" stroke-opacity=\"1\" stroke-width=\"3.2\"/>\n",
       "<circle clip-path=\"url(#clip002)\" cx=\"837.949\" cy=\"1356.75\" r=\"14.4\" fill=\"#e26f46\" fill-rule=\"evenodd\" fill-opacity=\"1\" stroke=\"#000000\" stroke-opacity=\"1\" stroke-width=\"3.2\"/>\n",
       "<circle clip-path=\"url(#clip002)\" cx=\"883.411\" cy=\"1356.75\" r=\"14.4\" fill=\"#e26f46\" fill-rule=\"evenodd\" fill-opacity=\"1\" stroke=\"#000000\" stroke-opacity=\"1\" stroke-width=\"3.2\"/>\n",
       "<circle clip-path=\"url(#clip002)\" cx=\"928.873\" cy=\"1356.75\" r=\"14.4\" fill=\"#e26f46\" fill-rule=\"evenodd\" fill-opacity=\"1\" stroke=\"#000000\" stroke-opacity=\"1\" stroke-width=\"3.2\"/>\n",
       "<circle clip-path=\"url(#clip002)\" cx=\"974.336\" cy=\"1346.14\" r=\"14.4\" fill=\"#e26f46\" fill-rule=\"evenodd\" fill-opacity=\"1\" stroke=\"#000000\" stroke-opacity=\"1\" stroke-width=\"3.2\"/>\n",
       "<circle clip-path=\"url(#clip002)\" cx=\"1019.8\" cy=\"1346.14\" r=\"14.4\" fill=\"#e26f46\" fill-rule=\"evenodd\" fill-opacity=\"1\" stroke=\"#000000\" stroke-opacity=\"1\" stroke-width=\"3.2\"/>\n",
       "<circle clip-path=\"url(#clip002)\" cx=\"1065.26\" cy=\"1346.14\" r=\"14.4\" fill=\"#e26f46\" fill-rule=\"evenodd\" fill-opacity=\"1\" stroke=\"#000000\" stroke-opacity=\"1\" stroke-width=\"3.2\"/>\n",
       "<circle clip-path=\"url(#clip002)\" cx=\"1110.72\" cy=\"1331.45\" r=\"14.4\" fill=\"#e26f46\" fill-rule=\"evenodd\" fill-opacity=\"1\" stroke=\"#000000\" stroke-opacity=\"1\" stroke-width=\"3.2\"/>\n",
       "<circle clip-path=\"url(#clip002)\" cx=\"1156.19\" cy=\"1331.45\" r=\"14.4\" fill=\"#e26f46\" fill-rule=\"evenodd\" fill-opacity=\"1\" stroke=\"#000000\" stroke-opacity=\"1\" stroke-width=\"3.2\"/>\n",
       "<circle clip-path=\"url(#clip002)\" cx=\"1201.65\" cy=\"1331.45\" r=\"14.4\" fill=\"#e26f46\" fill-rule=\"evenodd\" fill-opacity=\"1\" stroke=\"#000000\" stroke-opacity=\"1\" stroke-width=\"3.2\"/>\n",
       "<circle clip-path=\"url(#clip002)\" cx=\"1247.11\" cy=\"1329.49\" r=\"14.4\" fill=\"#e26f46\" fill-rule=\"evenodd\" fill-opacity=\"1\" stroke=\"#000000\" stroke-opacity=\"1\" stroke-width=\"3.2\"/>\n",
       "<circle clip-path=\"url(#clip002)\" cx=\"1292.57\" cy=\"1329.49\" r=\"14.4\" fill=\"#e26f46\" fill-rule=\"evenodd\" fill-opacity=\"1\" stroke=\"#000000\" stroke-opacity=\"1\" stroke-width=\"3.2\"/>\n",
       "<circle clip-path=\"url(#clip002)\" cx=\"1338.04\" cy=\"1329.49\" r=\"14.4\" fill=\"#e26f46\" fill-rule=\"evenodd\" fill-opacity=\"1\" stroke=\"#000000\" stroke-opacity=\"1\" stroke-width=\"3.2\"/>\n",
       "<circle clip-path=\"url(#clip002)\" cx=\"1383.5\" cy=\"1321.03\" r=\"14.4\" fill=\"#e26f46\" fill-rule=\"evenodd\" fill-opacity=\"1\" stroke=\"#000000\" stroke-opacity=\"1\" stroke-width=\"3.2\"/>\n",
       "<circle clip-path=\"url(#clip002)\" cx=\"1428.96\" cy=\"1321.03\" r=\"14.4\" fill=\"#e26f46\" fill-rule=\"evenodd\" fill-opacity=\"1\" stroke=\"#000000\" stroke-opacity=\"1\" stroke-width=\"3.2\"/>\n",
       "<circle clip-path=\"url(#clip002)\" cx=\"1474.42\" cy=\"1321.03\" r=\"14.4\" fill=\"#e26f46\" fill-rule=\"evenodd\" fill-opacity=\"1\" stroke=\"#000000\" stroke-opacity=\"1\" stroke-width=\"3.2\"/>\n",
       "<circle clip-path=\"url(#clip002)\" cx=\"1519.88\" cy=\"1318.26\" r=\"14.4\" fill=\"#e26f46\" fill-rule=\"evenodd\" fill-opacity=\"1\" stroke=\"#000000\" stroke-opacity=\"1\" stroke-width=\"3.2\"/>\n",
       "<circle clip-path=\"url(#clip002)\" cx=\"1565.35\" cy=\"1318.26\" r=\"14.4\" fill=\"#e26f46\" fill-rule=\"evenodd\" fill-opacity=\"1\" stroke=\"#000000\" stroke-opacity=\"1\" stroke-width=\"3.2\"/>\n",
       "<circle clip-path=\"url(#clip002)\" cx=\"1610.81\" cy=\"1318.26\" r=\"14.4\" fill=\"#e26f46\" fill-rule=\"evenodd\" fill-opacity=\"1\" stroke=\"#000000\" stroke-opacity=\"1\" stroke-width=\"3.2\"/>\n",
       "<circle clip-path=\"url(#clip002)\" cx=\"1656.27\" cy=\"1289.5\" r=\"14.4\" fill=\"#e26f46\" fill-rule=\"evenodd\" fill-opacity=\"1\" stroke=\"#000000\" stroke-opacity=\"1\" stroke-width=\"3.2\"/>\n",
       "<circle clip-path=\"url(#clip002)\" cx=\"1701.73\" cy=\"1289.5\" r=\"14.4\" fill=\"#e26f46\" fill-rule=\"evenodd\" fill-opacity=\"1\" stroke=\"#000000\" stroke-opacity=\"1\" stroke-width=\"3.2\"/>\n",
       "<circle clip-path=\"url(#clip002)\" cx=\"1747.2\" cy=\"1289.5\" r=\"14.4\" fill=\"#e26f46\" fill-rule=\"evenodd\" fill-opacity=\"1\" stroke=\"#000000\" stroke-opacity=\"1\" stroke-width=\"3.2\"/>\n",
       "<circle clip-path=\"url(#clip002)\" cx=\"1792.66\" cy=\"1276.07\" r=\"14.4\" fill=\"#e26f46\" fill-rule=\"evenodd\" fill-opacity=\"1\" stroke=\"#000000\" stroke-opacity=\"1\" stroke-width=\"3.2\"/>\n",
       "<circle clip-path=\"url(#clip002)\" cx=\"1838.12\" cy=\"1276.07\" r=\"14.4\" fill=\"#e26f46\" fill-rule=\"evenodd\" fill-opacity=\"1\" stroke=\"#000000\" stroke-opacity=\"1\" stroke-width=\"3.2\"/>\n",
       "<circle clip-path=\"url(#clip002)\" cx=\"1883.58\" cy=\"1276.07\" r=\"14.4\" fill=\"#e26f46\" fill-rule=\"evenodd\" fill-opacity=\"1\" stroke=\"#000000\" stroke-opacity=\"1\" stroke-width=\"3.2\"/>\n",
       "<circle clip-path=\"url(#clip002)\" cx=\"1929.05\" cy=\"87.404\" r=\"14.4\" fill=\"#e26f46\" fill-rule=\"evenodd\" fill-opacity=\"1\" stroke=\"#000000\" stroke-opacity=\"1\" stroke-width=\"3.2\"/>\n",
       "<circle clip-path=\"url(#clip002)\" cx=\"1974.51\" cy=\"87.404\" r=\"14.4\" fill=\"#e26f46\" fill-rule=\"evenodd\" fill-opacity=\"1\" stroke=\"#000000\" stroke-opacity=\"1\" stroke-width=\"3.2\"/>\n",
       "<circle clip-path=\"url(#clip002)\" cx=\"2019.97\" cy=\"87.404\" r=\"14.4\" fill=\"#e26f46\" fill-rule=\"evenodd\" fill-opacity=\"1\" stroke=\"#000000\" stroke-opacity=\"1\" stroke-width=\"3.2\"/>\n",
       "<circle clip-path=\"url(#clip002)\" cx=\"2065.43\" cy=\"87.0767\" r=\"14.4\" fill=\"#e26f46\" fill-rule=\"evenodd\" fill-opacity=\"1\" stroke=\"#000000\" stroke-opacity=\"1\" stroke-width=\"3.2\"/>\n",
       "<circle clip-path=\"url(#clip002)\" cx=\"2110.9\" cy=\"87.0767\" r=\"14.4\" fill=\"#e26f46\" fill-rule=\"evenodd\" fill-opacity=\"1\" stroke=\"#000000\" stroke-opacity=\"1\" stroke-width=\"3.2\"/>\n",
       "<circle clip-path=\"url(#clip002)\" cx=\"2156.36\" cy=\"87.0767\" r=\"14.4\" fill=\"#e26f46\" fill-rule=\"evenodd\" fill-opacity=\"1\" stroke=\"#000000\" stroke-opacity=\"1\" stroke-width=\"3.2\"/>\n",
       "<circle clip-path=\"url(#clip002)\" cx=\"2201.82\" cy=\"86.1857\" r=\"14.4\" fill=\"#e26f46\" fill-rule=\"evenodd\" fill-opacity=\"1\" stroke=\"#000000\" stroke-opacity=\"1\" stroke-width=\"3.2\"/>\n",
       "<circle clip-path=\"url(#clip002)\" cx=\"2247.28\" cy=\"86.1857\" r=\"14.4\" fill=\"#e26f46\" fill-rule=\"evenodd\" fill-opacity=\"1\" stroke=\"#000000\" stroke-opacity=\"1\" stroke-width=\"3.2\"/>\n",
       "<circle clip-path=\"url(#clip002)\" cx=\"2292.75\" cy=\"86.1857\" r=\"14.4\" fill=\"#e26f46\" fill-rule=\"evenodd\" fill-opacity=\"1\" stroke=\"#000000\" stroke-opacity=\"1\" stroke-width=\"3.2\"/>\n",
       "<path clip-path=\"url(#clip000)\" d=\"\n",
       "M1813.38 248.629 L2282.08 248.629 L2282.08 93.1086 L1813.38 93.1086  Z\n",
       "  \" fill=\"#ffffff\" fill-rule=\"evenodd\" fill-opacity=\"1\"/>\n",
       "<polyline clip-path=\"url(#clip000)\" style=\"stroke:#000000; stroke-linecap:round; stroke-linejoin:round; stroke-width:4; stroke-opacity:1; fill:none\" points=\"\n",
       "  1813.38,248.629 2282.08,248.629 2282.08,93.1086 1813.38,93.1086 1813.38,248.629 \n",
       "  \"/>\n",
       "<path clip-path=\"url(#clip000)\" d=\"M1907.62 119.349 L1901.6 136.654 L1883.27 137.038 L1897.89 148.123 L1892.57 165.659 L1907.62 155.189 L1922.67 165.659 L1917.35 148.123 L1931.96 137.038 L1913.63 136.654 L1907.62 119.349 Z\" fill=\"#009af9\" fill-rule=\"evenodd\" fill-opacity=\"1\" stroke=\"#000000\" stroke-opacity=\"1\" stroke-width=\"3.41333\"/>\n",
       "<path clip-path=\"url(#clip000)\" d=\"M2001.86 127.669 L2006.53 127.669 L2006.53 141.835 L2023.52 141.835 L2023.52 127.669 L2028.2 127.669 L2028.2 162.229 L2023.52 162.229 L2023.52 145.77 L2006.53 145.77 L2006.53 162.229 L2001.86 162.229 L2001.86 127.669 Z\" fill=\"#000000\" fill-rule=\"evenodd\" fill-opacity=\"1\" /><path clip-path=\"url(#clip000)\" d=\"M2049.1 149.196 Q2043.94 149.196 2041.95 150.377 Q2039.96 151.557 2039.96 154.405 Q2039.96 156.673 2041.44 158.016 Q2042.94 159.335 2045.51 159.335 Q2049.06 159.335 2051.19 156.835 Q2053.34 154.312 2053.34 150.145 L2053.34 149.196 L2049.1 149.196 M2057.6 147.437 L2057.6 162.229 L2053.34 162.229 L2053.34 158.293 Q2051.88 160.655 2049.7 161.789 Q2047.53 162.9 2044.38 162.9 Q2040.4 162.9 2038.04 160.678 Q2035.7 158.432 2035.7 154.682 Q2035.7 150.307 2038.62 148.085 Q2041.56 145.863 2047.37 145.863 L2053.34 145.863 L2053.34 145.446 Q2053.34 142.507 2051.39 140.909 Q2049.47 139.289 2045.98 139.289 Q2043.76 139.289 2041.65 139.821 Q2039.54 140.354 2037.6 141.419 L2037.6 137.483 Q2039.94 136.581 2042.13 136.141 Q2044.33 135.678 2046.42 135.678 Q2052.04 135.678 2054.82 138.594 Q2057.6 141.511 2057.6 147.437 Z\" fill=\"#000000\" fill-rule=\"evenodd\" fill-opacity=\"1\" /><path clip-path=\"url(#clip000)\" d=\"M2081.39 140.284 Q2080.68 139.868 2079.82 139.682 Q2078.99 139.474 2077.97 139.474 Q2074.36 139.474 2072.41 141.835 Q2070.49 144.173 2070.49 148.571 L2070.49 162.229 L2066.21 162.229 L2066.21 136.303 L2070.49 136.303 L2070.49 140.331 Q2071.83 137.969 2073.99 136.835 Q2076.14 135.678 2079.22 135.678 Q2079.66 135.678 2080.19 135.747 Q2080.72 135.794 2081.37 135.909 L2081.39 140.284 Z\" fill=\"#000000\" fill-rule=\"evenodd\" fill-opacity=\"1\" /><path clip-path=\"url(#clip000)\" d=\"M2102.09 140.238 L2102.09 126.21 L2106.35 126.21 L2106.35 162.229 L2102.09 162.229 L2102.09 158.34 Q2100.75 160.655 2098.69 161.789 Q2096.65 162.9 2093.78 162.9 Q2089.08 162.9 2086.12 159.15 Q2083.18 155.4 2083.18 149.289 Q2083.18 143.178 2086.12 139.428 Q2089.08 135.678 2093.78 135.678 Q2096.65 135.678 2098.69 136.812 Q2100.75 137.923 2102.09 140.238 M2087.57 149.289 Q2087.57 153.988 2089.5 156.673 Q2091.44 159.335 2094.82 159.335 Q2098.2 159.335 2100.14 156.673 Q2102.09 153.988 2102.09 149.289 Q2102.09 144.59 2100.14 141.928 Q2098.2 139.243 2094.82 139.243 Q2091.44 139.243 2089.5 141.928 Q2087.57 144.59 2087.57 149.289 Z\" fill=\"#000000\" fill-rule=\"evenodd\" fill-opacity=\"1\" /><path clip-path=\"url(#clip000)\" d=\"M2112.97 147.344 L2125.44 147.344 L2125.44 151.141 L2112.97 151.141 L2112.97 147.344 Z\" fill=\"#000000\" fill-rule=\"evenodd\" fill-opacity=\"1\" /><path clip-path=\"url(#clip000)\" d=\"M2158.29 130.331 L2158.29 135.261 Q2155.93 133.062 2153.25 131.974 Q2150.58 130.886 2147.57 130.886 Q2141.65 130.886 2138.5 134.52 Q2135.35 138.132 2135.35 144.983 Q2135.35 151.812 2138.5 155.446 Q2141.65 159.057 2147.57 159.057 Q2150.58 159.057 2153.25 157.969 Q2155.93 156.881 2158.29 154.682 L2158.29 159.567 Q2155.84 161.233 2153.08 162.067 Q2150.35 162.9 2147.3 162.9 Q2139.45 162.9 2134.94 158.108 Q2130.42 153.293 2130.42 144.983 Q2130.42 136.65 2134.94 131.858 Q2139.45 127.044 2147.3 127.044 Q2150.4 127.044 2153.13 127.877 Q2155.88 128.687 2158.29 130.331 Z\" fill=\"#000000\" fill-rule=\"evenodd\" fill-opacity=\"1\" /><path clip-path=\"url(#clip000)\" d=\"M2175.37 139.289 Q2171.95 139.289 2169.96 141.974 Q2167.97 144.636 2167.97 149.289 Q2167.97 153.942 2169.93 156.627 Q2171.93 159.289 2175.37 159.289 Q2178.78 159.289 2180.77 156.604 Q2182.76 153.918 2182.76 149.289 Q2182.76 144.682 2180.77 141.997 Q2178.78 139.289 2175.37 139.289 M2175.37 135.678 Q2180.93 135.678 2184.1 139.289 Q2187.27 142.9 2187.27 149.289 Q2187.27 155.655 2184.1 159.289 Q2180.93 162.9 2175.37 162.9 Q2169.8 162.9 2166.62 159.289 Q2163.48 155.655 2163.48 149.289 Q2163.48 142.9 2166.62 139.289 Q2169.8 135.678 2175.37 135.678 Z\" fill=\"#000000\" fill-rule=\"evenodd\" fill-opacity=\"1\" /><path clip-path=\"url(#clip000)\" d=\"M2209.36 140.284 Q2208.64 139.868 2207.78 139.682 Q2206.95 139.474 2205.93 139.474 Q2202.32 139.474 2200.37 141.835 Q2198.45 144.173 2198.45 148.571 L2198.45 162.229 L2194.17 162.229 L2194.17 136.303 L2198.45 136.303 L2198.45 140.331 Q2199.8 137.969 2201.95 136.835 Q2204.1 135.678 2207.18 135.678 Q2207.62 135.678 2208.15 135.747 Q2208.68 135.794 2209.33 135.909 L2209.36 140.284 Z\" fill=\"#000000\" fill-rule=\"evenodd\" fill-opacity=\"1\" /><path clip-path=\"url(#clip000)\" d=\"M2234.96 148.201 L2234.96 150.284 L2215.37 150.284 Q2215.65 154.682 2218.01 156.997 Q2220.4 159.289 2224.63 159.289 Q2227.09 159.289 2229.38 158.687 Q2231.69 158.085 2233.96 156.881 L2233.96 160.909 Q2231.67 161.881 2229.26 162.391 Q2226.86 162.9 2224.38 162.9 Q2218.18 162.9 2214.54 159.289 Q2210.93 155.678 2210.93 149.52 Q2210.93 143.155 2214.36 139.428 Q2217.81 135.678 2223.64 135.678 Q2228.87 135.678 2231.9 139.057 Q2234.96 142.414 2234.96 148.201 M2230.7 146.951 Q2230.65 143.456 2228.73 141.372 Q2226.83 139.289 2223.68 139.289 Q2220.12 139.289 2217.97 141.303 Q2215.84 143.317 2215.51 146.974 L2230.7 146.951 Z\" fill=\"#000000\" fill-rule=\"evenodd\" fill-opacity=\"1\" /><circle clip-path=\"url(#clip000)\" cx=\"1907.62\" cy=\"196.789\" r=\"23.04\" fill=\"#e26f46\" fill-rule=\"evenodd\" fill-opacity=\"1\" stroke=\"#000000\" stroke-opacity=\"1\" stroke-width=\"5.12\"/>\n",
       "<path clip-path=\"url(#clip000)\" d=\"M2001.86 179.509 L2021.72 179.509 L2021.72 183.444 L2006.53 183.444 L2006.53 193.629 L2020.24 193.629 L2020.24 197.564 L2006.53 197.564 L2006.53 214.069 L2001.86 214.069 L2001.86 179.509 Z\" fill=\"#000000\" fill-rule=\"evenodd\" fill-opacity=\"1\" /><path clip-path=\"url(#clip000)\" d=\"M2025.49 188.143 L2029.75 188.143 L2029.75 214.069 L2025.49 214.069 L2025.49 188.143 M2025.49 178.05 L2029.75 178.05 L2029.75 183.444 L2025.49 183.444 L2025.49 178.05 Z\" fill=\"#000000\" fill-rule=\"evenodd\" fill-opacity=\"1\" /><path clip-path=\"url(#clip000)\" d=\"M2060.21 198.421 L2060.21 214.069 L2055.95 214.069 L2055.95 198.559 Q2055.95 194.879 2054.52 193.05 Q2053.08 191.222 2050.21 191.222 Q2046.76 191.222 2044.77 193.421 Q2042.78 195.62 2042.78 199.416 L2042.78 214.069 L2038.5 214.069 L2038.5 188.143 L2042.78 188.143 L2042.78 192.171 Q2044.31 189.833 2046.37 188.675 Q2048.45 187.518 2051.16 187.518 Q2055.63 187.518 2057.92 190.296 Q2060.21 193.05 2060.21 198.421 Z\" fill=\"#000000\" fill-rule=\"evenodd\" fill-opacity=\"1\" /><path clip-path=\"url(#clip000)\" d=\"M2068.71 188.143 L2072.97 188.143 L2072.97 214.069 L2068.71 214.069 L2068.71 188.143 M2068.71 178.05 L2072.97 178.05 L2072.97 183.444 L2068.71 183.444 L2068.71 178.05 Z\" fill=\"#000000\" fill-rule=\"evenodd\" fill-opacity=\"1\" /><path clip-path=\"url(#clip000)\" d=\"M2086.09 180.782 L2086.09 188.143 L2094.87 188.143 L2094.87 191.453 L2086.09 191.453 L2086.09 205.527 Q2086.09 208.698 2086.95 209.601 Q2087.83 210.504 2090.49 210.504 L2094.87 210.504 L2094.87 214.069 L2090.49 214.069 Q2085.56 214.069 2083.69 212.24 Q2081.81 210.388 2081.81 205.527 L2081.81 191.453 L2078.69 191.453 L2078.69 188.143 L2081.81 188.143 L2081.81 180.782 L2086.09 180.782 Z\" fill=\"#000000\" fill-rule=\"evenodd\" fill-opacity=\"1\" /><path clip-path=\"url(#clip000)\" d=\"M2122.64 200.041 L2122.64 202.124 L2103.06 202.124 Q2103.34 206.522 2105.7 208.837 Q2108.08 211.129 2112.32 211.129 Q2114.77 211.129 2117.06 210.527 Q2119.38 209.925 2121.65 208.721 L2121.65 212.749 Q2119.36 213.721 2116.95 214.231 Q2114.54 214.74 2112.06 214.74 Q2105.86 214.74 2102.23 211.129 Q2098.62 207.518 2098.62 201.36 Q2098.62 194.995 2102.04 191.268 Q2105.49 187.518 2111.32 187.518 Q2116.56 187.518 2119.59 190.897 Q2122.64 194.254 2122.64 200.041 M2118.38 198.791 Q2118.34 195.296 2116.42 193.212 Q2114.52 191.129 2111.37 191.129 Q2107.81 191.129 2105.65 193.143 Q2103.52 195.157 2103.2 198.814 L2118.38 198.791 Z\" fill=\"#000000\" fill-rule=\"evenodd\" fill-opacity=\"1\" /><path clip-path=\"url(#clip000)\" d=\"M2127.48 199.184 L2139.96 199.184 L2139.96 202.981 L2127.48 202.981 L2127.48 199.184 Z\" fill=\"#000000\" fill-rule=\"evenodd\" fill-opacity=\"1\" /><path clip-path=\"url(#clip000)\" d=\"M2146.39 179.509 L2151.09 179.509 L2151.09 200.504 Q2151.09 206.059 2153.11 208.513 Q2155.12 210.944 2159.63 210.944 Q2164.12 210.944 2166.14 208.513 Q2168.15 206.059 2168.15 200.504 L2168.15 179.509 L2172.85 179.509 L2172.85 201.083 Q2172.85 207.842 2169.5 211.291 Q2166.16 214.74 2159.63 214.74 Q2153.08 214.74 2149.73 211.291 Q2146.39 207.842 2146.39 201.083 L2146.39 179.509 Z\" fill=\"#000000\" fill-rule=\"evenodd\" fill-opacity=\"1\" /></svg>\n"
      ]
     },
     "execution_count": 12,
     "metadata": {},
     "output_type": "execute_result"
    }
   ],
   "source": [
    "using Plots\n",
    "\n",
    "Nx = 3; Ny = 3; alpha = 1/3; PN = 2; U = 100\n",
    "\n",
    "E1 = eigenenergies(dense(Hofstadter_Hard_Core(Nx, Ny, alpha, PN, U)))\n",
    "E2 = eigenenergies(dense(Hofstadter_Finite_U(Nx, Ny, alpha, PN, U)))\n",
    "\n",
    "plot(1:length(E1), E1, seriestype=:scatter, markershape=:star5, markersize=6, label=\"Hard-Core\")\n",
    "plot!(1:length(E2), E2, seriestype=:scatter, label=\"Finite-U\")\n",
    "\n",
    "xlabel!(\"n\");ylabel!(\"E\")"
   ]
  }
 ],
 "metadata": {
  "kernelspec": {
   "display_name": "Julia 1.8.5",
   "language": "julia",
   "name": "julia-1.8"
  },
  "language_info": {
   "file_extension": ".jl",
   "mimetype": "application/julia",
   "name": "julia",
   "version": "1.8.5"
  }
 },
 "nbformat": 4,
 "nbformat_minor": 5
}
