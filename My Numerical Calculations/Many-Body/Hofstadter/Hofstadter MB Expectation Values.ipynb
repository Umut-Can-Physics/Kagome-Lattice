{
 "cells": [
  {
   "cell_type": "code",
   "execution_count": 1,
   "id": "f041417b-f9af-4146-8274-8d87c9b1e02f",
   "metadata": {
    "tags": []
   },
   "outputs": [
    {
     "data": {
      "text/plain": [
       "Hofstadter_Non_Int (generic function with 1 method)"
      ]
     },
     "execution_count": 1,
     "metadata": {},
     "output_type": "execute_result"
    }
   ],
   "source": [
    "using NBInclude\n",
    "@nbinclude(\"Hofstadter MB in Julia.ipynb\"; regex=r\"#.*executeme0\")"
   ]
  },
  {
   "cell_type": "markdown",
   "id": "e300fdeb",
   "metadata": {},
   "source": [
    "###### Parçacık Sayısı-Enerji Dağılımı"
   ]
  },
  {
   "cell_type": "code",
   "execution_count": 26,
   "id": "cd3ae43f",
   "metadata": {
    "tags": []
   },
   "outputs": [
    {
     "name": "stdout",
     "output_type": "stream",
     "text": [
      "15×2 Matrix{Float64}:\n",
      " 0.0   0.0\n",
      " 1.0  -1.90211\n",
      " 1.0  -0.618034\n",
      " 1.0   0.618034\n",
      " 1.0   1.90211\n",
      " 2.0  -3.80423\n",
      " 2.0  -2.52015\n",
      " 2.0  -1.28408\n",
      " 2.0  -1.23607\n",
      " 2.0  -2.22045e-15\n",
      " 2.0   6.9139e-17\n",
      " 2.0   1.23607\n",
      " 2.0   1.28408\n",
      " 2.0   2.52015\n",
      " 2.0   3.80423"
     ]
    }
   ],
   "source": [
    "A = eigenstates(dense(Hofstadter_Non_Int(2, 2, 1/5, [0,1,2])))\n",
    "C = Array{Float64}(undef, length(A[1]), 2)\n",
    "for i in 1:length(A[1])\n",
    "    exp = round(expect(number(b_mb_b), A[2][i])) #expected values\n",
    "    C[i] = exp #expected values (first column)\n",
    "    C[i,2] = A[1][i] #eigen-values (second column)\n",
    "end\n",
    "C\n",
    "CC = sortslices(C, dims=1 ,by = x -> x[1]) #sorted according to particle numbers\n",
    "show(stdout, \"text/plain\", CC)"
   ]
  },
  {
   "cell_type": "markdown",
   "id": "9fb1bcb4",
   "metadata": {},
   "source": [
    "###### Parçacık Sayısı-Açılım Katsayısı Dağılımı"
   ]
  },
  {
   "cell_type": "code",
   "execution_count": 27,
   "id": "ebdeddfe",
   "metadata": {
    "tags": []
   },
   "outputs": [
    {
     "data": {
      "text/plain": [
       "1.236067977499792"
      ]
     },
     "execution_count": 27,
     "metadata": {},
     "output_type": "execute_result"
    }
   ],
   "source": [
    "j=11\n",
    "A[1][j] #İlk 2 parçacıklı bazın vektörü enerjisi"
   ]
  },
  {
   "cell_type": "code",
   "execution_count": 28,
   "id": "0eefbd6c",
   "metadata": {
    "tags": []
   },
   "outputs": [
    {
     "data": {
      "text/plain": [
       "Ket(dim=15)\n",
       "  basis: ManyBody(onebodybasis=NLevel(N=4), states:15)\n",
       "                 0.0 + 0.0im\n",
       "                 0.0 + 0.0im\n",
       "                 0.0 + 0.0im\n",
       "                 0.0 + 0.0im\n",
       "                 0.0 + 0.0im\n",
       " 0.07725424859373353 + 0.2377641290737776im\n",
       " -0.3535533905932824 + 7.88e-15im\n",
       " 0.28603070140885367 - 0.2078134688887254im\n",
       " -0.2860307014088422 - 0.20781346888872632im\n",
       " 0.07725424859374806 - 0.23776412907378427im\n",
       " 0.10925400611220536 + 0.3362492559819787im\n",
       " 0.28603070140883124 - 0.2078134688887288im\n",
       " -0.2022542485937434 - 0.1469463130731087im\n",
       " -0.1092540061122104 + 0.336249255981969im\n",
       "  0.2500000000000104 - 0.0im"
      ]
     },
     "execution_count": 28,
     "metadata": {},
     "output_type": "execute_result"
    }
   ],
   "source": [
    "A[2][j] #Bu baz vektöre karşılık gelen özvektörde vakum ve tek parçacıklı baz vektörleri açılım katsayıları sıfırdır."
   ]
  },
  {
   "cell_type": "code",
   "execution_count": 29,
   "id": "1e5ef9bf",
   "metadata": {
    "tags": []
   },
   "outputs": [
    {
     "name": "stdout",
     "output_type": "stream",
     "text": [
      "0.0\n",
      "0.0\n",
      "0.0\n",
      "0.0\n",
      "0.0\n",
      "0.24999999999998873\n",
      "0.3535533905932824\n",
      "0.35355339059328234\n",
      "0.35355339059327356\n",
      "0.24999999999999956\n",
      "0.35355339059327384\n",
      "0.3535533905932662\n",
      "0.24999999999999967\n",
      "0.3535533905932661\n",
      "0.2500000000000104\n"
     ]
    }
   ],
   "source": [
    "#Yukarıdaki hesaplanan özvektör içerisindeki baz vektörlerin ağırlıkları\n",
    "for i in 1:length(A[1])\n",
    "    println(abs(A[2][j].data[i]))\n",
    "end"
   ]
  },
  {
   "cell_type": "code",
   "execution_count": null,
   "id": "a042b868-75a3-4085-8cc6-5da42cd2143c",
   "metadata": {},
   "outputs": [],
   "source": []
  }
 ],
 "metadata": {
  "kernelspec": {
   "display_name": "Julia 1.7.2",
   "language": "julia",
   "name": "julia-1.7"
  },
  "language_info": {
   "file_extension": ".jl",
   "mimetype": "application/julia",
   "name": "julia",
   "version": "1.7.2"
  }
 },
 "nbformat": 4,
 "nbformat_minor": 5
}
