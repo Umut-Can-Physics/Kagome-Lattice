{
 "cells": [
  {
   "cell_type": "code",
   "execution_count": 280,
   "id": "870c2558-8661-4225-801e-f6c136c94e02",
   "metadata": {
    "editable": true,
    "slideshow": {
     "slide_type": ""
    },
    "tags": []
   },
   "outputs": [
    {
     "data": {
      "text/plain": [
       "calc_F12 (generic function with 1 method)"
      ]
     },
     "execution_count": 280,
     "metadata": {},
     "output_type": "execute_result"
    }
   ],
   "source": [
    "using NBInclude\n",
    "using LinearAlgebra\n",
    "# using OffsetArrays\n",
    "@nbinclude(\"../../Single Particle/Lattice_Basis_Neighbors_Hops.ipynb\"; regex=r\"#.*executeme\")\n",
    "@nbinclude(\"../Chern_parameter_space_sum.ipynb\")"
   ]
  },
  {
   "cell_type": "code",
   "execution_count": 281,
   "id": "4df25173-0b27-48c8-8d2f-21ab3482a528",
   "metadata": {
    "editable": true,
    "slideshow": {
     "slide_type": ""
    },
    "tags": []
   },
   "outputs": [
    {
     "data": {
      "text/plain": [
       "10-element Vector{Float64}:\n",
       " 0.0\n",
       " 0.2\n",
       " 0.4\n",
       " 0.6\n",
       " 0.8\n",
       " 1.0\n",
       " 1.2\n",
       " 1.4\n",
       " 1.6\n",
       " 1.8"
      ]
     },
     "execution_count": 281,
     "metadata": {},
     "output_type": "execute_result"
    }
   ],
   "source": [
    "LL = [3, 3]\n",
    "N = LL[1] * LL[2]\n",
    "vv_lattice = [ [1., 0], [0, 1.] ]\n",
    "b1 =[0, 0]\n",
    "vv_basis = [b1]\n",
    "\n",
    "coordinates, sites, site_coord, site_number = get_sites(LL, vv_lattice, vv_basis)\n",
    "neighbors = [ [1, 0, 1], [-1, 0, 1], [0, 1, 1], [0, -1, 1]  ]\n",
    "neighbors_list = [ neighbors ]\n",
    "pbc = true\n",
    "site_neigbors = get_all_neighbors(sites,neighbors_list,LL,length(vv_basis),pbc)\n",
    "\n",
    "t = -1\n",
    "p = 1\n",
    "q = LL[2]\n",
    "ϕ = p/q\n",
    "tx = ty = 0\n",
    "θθ = [tx , ty]\n",
    "param_dict=Dict{}()\n",
    "param_dict[\"t\"]=t\n",
    "param_dict[\"ϕ\"]=ϕ\n",
    "param_dict[\"θθ\"]=θθ\n",
    "\n",
    "N1 = 10\n",
    "N2 = 10\n",
    "dx=2*pi/N1\n",
    "dy=dx\n",
    "Tx=collect(range(start=0, stop=2*pi-dx, step=dx))\n",
    "Ty=collect(range(start=0, stop=2*pi-dy, step=dy))\n",
    "Ty/pi"
   ]
  },
  {
   "cell_type": "code",
   "execution_count": 282,
   "id": "60bc4bd4-72a3-4495-a59f-2c4ccfda01f3",
   "metadata": {
    "editable": true,
    "slideshow": {
     "slide_type": ""
    },
    "tags": []
   },
   "outputs": [],
   "source": [
    "dimH = LL[1] * LL[2]\n",
    "EEA, UUA = calc_states_hofstadter(Tx, Ty, dimH, sites,neighbors_list,\n",
    "                                site_number,site_coord,\n",
    "                                length(vv_basis),LL,param_dict,pbc);"
   ]
  },
  {
   "cell_type": "code",
   "execution_count": 283,
   "id": "70257077-7f63-42ba-a4a5-155b7b5ef839",
   "metadata": {
    "editable": true,
    "slideshow": {
     "slide_type": ""
    },
    "tags": []
   },
   "outputs": [
    {
     "data": {
      "text/plain": [
       "9-element Vector{Float64}:\n",
       " -2.7320508075688807\n",
       " -2.732050807568872\n",
       " -2.7320508075688674\n",
       "  0.7320508075688769\n",
       "  0.7320508075688779\n",
       "  0.7320508075688779\n",
       "  1.9999999999999998\n",
       "  2.0000000000000004\n",
       "  2.0000000000000013"
      ]
     },
     "execution_count": 283,
     "metadata": {},
     "output_type": "execute_result"
    }
   ],
   "source": [
    "EEA[1,1,:]"
   ]
  },
  {
   "cell_type": "code",
   "execution_count": 287,
   "id": "44bcfa56-0be1-4aec-b986-15b18fca0416",
   "metadata": {
    "editable": true,
    "slideshow": {
     "slide_type": ""
    },
    "tags": []
   },
   "outputs": [
    {
     "data": {
      "text/plain": [
       "2.0000000000000004 - 3.894937080620359e-16im"
      ]
     },
     "execution_count": 287,
     "metadata": {},
     "output_type": "execute_result"
    }
   ],
   "source": [
    "UU = calc_link_vars(UUA[:,:,:,4:6])\n",
    "F12 = calc_F12(UU)\n",
    "sum(F12)/(2im*pi)"
   ]
  },
  {
   "cell_type": "code",
   "execution_count": 277,
   "id": "f62f6f34-8ac6-4821-8374-7eb21f812d9c",
   "metadata": {
    "editable": true,
    "slideshow": {
     "slide_type": ""
    },
    "tags": []
   },
   "outputs": [
    {
     "data": {
      "text/plain": [
       "-0.6926721895662789 - 0.7212525478647941im"
      ]
     },
     "execution_count": 277,
     "metadata": {},
     "output_type": "execute_result"
    }
   ],
   "source": [
    "calc_link_var(UUAp[1,1,:,1:3], UUAp[2,1,:,1:3])"
   ]
  },
  {
   "cell_type": "code",
   "execution_count": 255,
   "id": "bc0f1d82-2c4f-4306-a195-652f5314d323",
   "metadata": {},
   "outputs": [],
   "source": [
    "UUAp = npzread(\"../../Single Particle/Hofstadter/Chern Numbers/UUAp.npy\");"
   ]
  },
  {
   "cell_type": "code",
   "execution_count": 256,
   "id": "e3ac5fbc-d127-4910-87a8-faebbfca9e4a",
   "metadata": {
    "editable": true,
    "slideshow": {
     "slide_type": ""
    },
    "tags": []
   },
   "outputs": [],
   "source": [
    "UUp = calc_link_vars(UUAp[:,:,:,1:3]);"
   ]
  },
  {
   "cell_type": "code",
   "execution_count": 257,
   "id": "dd031c40-6241-4b55-8b89-0b755dd743cb",
   "metadata": {
    "editable": true,
    "slideshow": {
     "slide_type": ""
    },
    "tags": []
   },
   "outputs": [
    {
     "data": {
      "text/plain": [
       "10×10 Matrix{ComplexF64}:\n",
       "  -20.5439-1.07621im    1.93932+0.489001im   …    15.2931+2.38858im\n",
       "   2.93638+0.722963im  -21.4806+0.161036im        2.24456-1.20756im\n",
       " -0.261421+0.603328im   2.23278+0.385651im        1.52163-0.933876im\n",
       " -0.439829+1.16421im   0.629576-0.210311im        1.10571-1.4764im\n",
       "  -1.64074-0.997435im  0.586408+0.145945im        2.03109+0.710809im\n",
       "   2.03109+0.710809im  -0.16291-0.436163im   …   -1.64074-0.997435im\n",
       "   1.10571-1.4764im    0.112922-0.0782632im     -0.439829+1.16421im\n",
       "   1.52163-0.933876im   1.65756-0.891093im      -0.261421+0.603328im\n",
       "   2.24456-1.20756im    13.5009+1.3413im          2.93638+0.722963im\n",
       "   15.2931+2.38858im    3.24162-0.973601im       -20.5439-1.07621im"
      ]
     },
     "execution_count": 257,
     "metadata": {},
     "output_type": "execute_result"
    }
   ],
   "source": [
    "F12p = calc_F12(UUp)"
   ]
  },
  {
   "cell_type": "code",
   "execution_count": 258,
   "id": "d08b90a5-3733-4733-baaf-053d25790318",
   "metadata": {},
   "outputs": [
    {
     "data": {
      "text/plain": [
       "0.09654807272692896 - 3.668473232470664im"
      ]
     },
     "execution_count": 258,
     "metadata": {},
     "output_type": "execute_result"
    }
   ],
   "source": [
    "sum(F12p)/(2im*pi)"
   ]
  },
  {
   "cell_type": "code",
   "execution_count": 259,
   "id": "25bb1dc2-8066-4c50-9298-b9aad5f2abd4",
   "metadata": {
    "editable": true,
    "slideshow": {
     "slide_type": ""
    },
    "tags": []
   },
   "outputs": [],
   "source": [
    "using NPZ"
   ]
  },
  {
   "cell_type": "code",
   "execution_count": 260,
   "id": "f7e7e484-6027-4d90-a98b-94ec1195a110",
   "metadata": {
    "editable": true,
    "slideshow": {
     "slide_type": ""
    },
    "tags": []
   },
   "outputs": [],
   "source": [
    "npzwrite(\"UUAj.npy\", UUA[:,:,:,:])"
   ]
  },
  {
   "cell_type": "code",
   "execution_count": 261,
   "id": "ff7cf1ea-a603-42ac-aee8-bdc6f00bd271",
   "metadata": {
    "editable": true,
    "slideshow": {
     "slide_type": ""
    },
    "tags": []
   },
   "outputs": [],
   "source": [
    "npzwrite(\"F12j.npy\", F12)"
   ]
  },
  {
   "cell_type": "code",
   "execution_count": 262,
   "id": "9df6639c-cf50-4282-8e69-bd00f950c080",
   "metadata": {
    "editable": true,
    "slideshow": {
     "slide_type": ""
    },
    "tags": []
   },
   "outputs": [
    {
     "data": {
      "text/plain": [
       "10×10 Matrix{ComplexF64}:\n",
       "  -20.5439-1.07621im    1.93932+0.489001im   …    15.2931+2.38858im\n",
       "   2.93638+0.722963im  -21.4806+0.161036im        2.24456-1.20756im\n",
       " -0.261421+0.603328im   2.23278+0.385651im        1.52163-0.933876im\n",
       " -0.439829+1.16421im   0.629576-0.210311im        1.10571-1.4764im\n",
       "  -1.64074-0.997435im  0.586408+0.145945im        2.03109+0.710809im\n",
       "   2.03109+0.710809im  -0.16291-0.436163im   …   -1.64074-0.997435im\n",
       "   1.10571-1.4764im    0.112922-0.0782632im     -0.439829+1.16421im\n",
       "   1.52163-0.933876im   1.65756-0.891093im      -0.261421+0.603328im\n",
       "   2.24456-1.20756im    13.5009+1.3413im          2.93638+0.722963im\n",
       "   15.2931+2.38858im    3.24162-0.973601im       -20.5439-1.07621im"
      ]
     },
     "execution_count": 262,
     "metadata": {},
     "output_type": "execute_result"
    }
   ],
   "source": [
    "F12"
   ]
  },
  {
   "cell_type": "code",
   "execution_count": 263,
   "id": "fb77e7ad-2a19-4df9-9fdf-d173cc9d68e0",
   "metadata": {
    "editable": true,
    "slideshow": {
     "slide_type": ""
    },
    "tags": []
   },
   "outputs": [
    {
     "data": {
      "text/plain": [
       "2-element Vector{ComplexF64}:\n",
       " -0.6926721895662789 - 0.7212525478647941im\n",
       "  0.9973973781203688 - 0.07210041691012659im"
      ]
     },
     "execution_count": 263,
     "metadata": {},
     "output_type": "execute_result"
    }
   ],
   "source": [
    "UUp[1,1,:]"
   ]
  },
  {
   "cell_type": "code",
   "execution_count": null,
   "id": "ecbaa0ff-caca-4c37-b5ca-b58ac6557c26",
   "metadata": {},
   "outputs": [],
   "source": []
  },
  {
   "cell_type": "code",
   "execution_count": 269,
   "id": "00e6ec98-b6a7-4d90-adf8-d61c9c8c235d",
   "metadata": {
    "editable": true,
    "slideshow": {
     "slide_type": ""
    },
    "tags": []
   },
   "outputs": [
    {
     "data": {
      "text/plain": [
       "0.9999728376369255 + 0.007370480876813683im"
      ]
     },
     "execution_count": 269,
     "metadata": {},
     "output_type": "execute_result"
    }
   ],
   "source": [
    "(UUp[1,1,1]*UUp[2,1,2]/UUp[1,2,1]/UUp[1,1,2])"
   ]
  },
  {
   "cell_type": "code",
   "execution_count": 270,
   "id": "59e68185-b89c-4293-b077-d0cbae6e5117",
   "metadata": {
    "editable": true,
    "slideshow": {
     "slide_type": ""
    },
    "tags": []
   },
   "outputs": [
    {
     "data": {
      "text/plain": [
       "-4.0162914227009905e-17 + 0.007370547610764585im"
      ]
     },
     "execution_count": 270,
     "metadata": {},
     "output_type": "execute_result"
    }
   ],
   "source": [
    "log.(  UUp[:,:,1][1,1].*\n",
    "                circshift(UUp[:,:,2],(-1,0))[1,1]./\n",
    "               (circshift(UUp[:,:,1],(0,-1))[1,1].*\n",
    "                UUp[:,:,2][1,1]) \n",
    "            )"
   ]
  },
  {
   "cell_type": "code",
   "execution_count": 271,
   "id": "78c30002-9408-4a8b-a55d-506d8c36c0da",
   "metadata": {
    "editable": true,
    "slideshow": {
     "slide_type": ""
    },
    "tags": []
   },
   "outputs": [
    {
     "data": {
      "text/plain": [
       "10×10 Matrix{ComplexF64}:\n",
       " -4.01629e-17+0.00737055im  …   1.83447e-16+0.00737055im\n",
       "  -1.6694e-16+0.0104317im      -5.61956e-17+0.0104317im\n",
       "  5.65411e-17+0.0173192im       5.14454e-17+0.0173192im\n",
       "  1.04409e-16+0.0280734im      -3.95734e-18+0.0280734im\n",
       "  4.33681e-17+0.0379447im       6.25585e-17+0.0379447im\n",
       "  3.46945e-17+0.0379447im   …    4.2826e-17+0.0379447im\n",
       "  1.10209e-16+0.0280734im       5.47522e-18+0.0280734im\n",
       "  -2.8501e-16+0.0173192im      -5.65954e-17+0.0173192im\n",
       "  5.60194e-17+0.0104317im       1.63952e-16+0.0104317im\n",
       " -1.50081e-16+0.00737055im     -3.81504e-17+0.00737055im"
      ]
     },
     "execution_count": 271,
     "metadata": {},
     "output_type": "execute_result"
    }
   ],
   "source": [
    "log.(  UUp[:,:,1] .* circshift(UUp[:,:,2],(-1,0)) ./\n",
    "     ( circshift(UUp[:,:,1],(0,-1)).*UUp[:,:,2] ) \n",
    "            )"
   ]
  },
  {
   "cell_type": "code",
   "execution_count": 251,
   "id": "1e703103-9f93-447e-a5b5-6435077e5d30",
   "metadata": {
    "editable": true,
    "slideshow": {
     "slide_type": ""
    },
    "tags": []
   },
   "outputs": [
    {
     "data": {
      "text/plain": [
       "-0.20294631893444698 + 0.9791898649551872im"
      ]
     },
     "execution_count": 251,
     "metadata": {},
     "output_type": "execute_result"
    }
   ],
   "source": [
    "UUp[1,2,1]"
   ]
  },
  {
   "cell_type": "code",
   "execution_count": 247,
   "id": "ec1269f2-2933-45f9-938a-3d6cc0cf657c",
   "metadata": {
    "editable": true,
    "slideshow": {
     "slide_type": ""
    },
    "tags": []
   },
   "outputs": [
    {
     "data": {
      "text/plain": [
       "-0.20294631893444698 + 0.9791898649551872im"
      ]
     },
     "execution_count": 247,
     "metadata": {},
     "output_type": "execute_result"
    }
   ],
   "source": [
    "circshift(UUp[:,:,1],(0,-1))[1,1]"
   ]
  },
  {
   "cell_type": "code",
   "execution_count": 242,
   "id": "0a9dea72-b1dd-4883-b52c-584d062f7cf7",
   "metadata": {
    "editable": true,
    "slideshow": {
     "slide_type": ""
    },
    "tags": []
   },
   "outputs": [
    {
     "data": {
      "text/plain": [
       "-0.6926721895662789 - 0.7212525478647941im"
      ]
     },
     "execution_count": 242,
     "metadata": {},
     "output_type": "execute_result"
    }
   ],
   "source": [
    "UUp[:,:,1][1,1]"
   ]
  }
 ],
 "metadata": {
  "kernelspec": {
   "display_name": "Julia 1.8.1",
   "language": "julia",
   "name": "julia-1.8"
  },
  "language_info": {
   "file_extension": ".jl",
   "mimetype": "application/julia",
   "name": "julia",
   "version": "1.8.1"
  }
 },
 "nbformat": 4,
 "nbformat_minor": 5
}
