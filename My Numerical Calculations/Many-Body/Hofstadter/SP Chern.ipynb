{
 "cells": [
  {
   "cell_type": "code",
   "execution_count": 18,
   "id": "870c2558-8661-4225-801e-f6c136c94e02",
   "metadata": {},
   "outputs": [
    {
     "data": {
      "text/plain": [
       "calc_F12 (generic function with 1 method)"
      ]
     },
     "execution_count": 18,
     "metadata": {},
     "output_type": "execute_result"
    }
   ],
   "source": [
    "using NBInclude\n",
    "using OffsetArrays\n",
    "@nbinclude(\"../../Single Particle/Lattice_Basis_Neighbors_Hops.ipynb\"; regex=r\"#.*executeme\")\n",
    "@nbinclude(\"../Chern_parameter_space_sum.ipynb\")"
   ]
  },
  {
   "cell_type": "code",
   "execution_count": 19,
   "id": "4df25173-0b27-48c8-8d2f-21ab3482a528",
   "metadata": {},
   "outputs": [],
   "source": [
    "LL = [3, 3]\n",
    "N = LL[1]*LL[2]\n",
    "vv_lattice = [ [1., 0], [0, 1.] ]\n",
    "b1=[0, 0]\n",
    "vv_basis = [b1]\n",
    "\n",
    "coordinates, sites, site_coord, site_number = get_sites(LL, vv_lattice, vv_basis)\n",
    "neighbors = [ [1, 0, 1], [-1, 0, 1], [0, 1, 1], [0, -1, 1]  ]\n",
    "neighbors_list = [ neighbors ]\n",
    "pbc=true\n",
    "site_neigbors = get_all_neighbors(sites,neighbors_list,LL,length(vv_basis),pbc)\n",
    "\n",
    "t=-1\n",
    "p=1\n",
    "q=LL[2]\n",
    "ϕ=p/q\n",
    "tx=ty=0\n",
    "θθ = [0 , 0]\n",
    "param_dict=Dict{}()\n",
    "param_dict[t]=t\n",
    "param_dict[ϕ]=ϕ\n",
    "param_dict[θθ]=θθ\n",
    "N1 = 10\n",
    "N2 = 10\n",
    "dx=2*pi/N1\n",
    "dy=dx\n",
    "Tx=collect(range(start=0, stop=2*pi-dx, step=dx))\n",
    "Ty=collect(range(start=0, stop=2*pi-dy, step=dy));"
   ]
  },
  {
   "cell_type": "code",
   "execution_count": 20,
   "id": "4bcb6566-5fbe-487f-a589-160e777208f0",
   "metadata": {},
   "outputs": [],
   "source": [
    "using LinearAlgebra"
   ]
  },
  {
   "cell_type": "code",
   "execution_count": 43,
   "id": "61ec8d1f-3b06-4777-b6fd-63529a07ef72",
   "metadata": {},
   "outputs": [
    {
     "data": {
      "text/plain": [
       "0.2682402151931875 + 0.41345170584988017im"
      ]
     },
     "execution_count": 43,
     "metadata": {},
     "output_type": "execute_result"
    }
   ],
   "source": [
    "dimH=LL[1]*LL[2]\n",
    "EEA, UUA = calc_states_hofstadter(Tx, Ty, dimH, sites,neighbors_list,\n",
    "                                site_number,site_coord,\n",
    "                                length(vv_basis),LL,param_dict,pbc);\n",
    "UU = calc_link_vars(UUA[:,:,:,1:3])\n",
    "F12 = calc_F12(UU)[:,1]\n",
    "sum(F12)/(2im*pi)"
   ]
  }
 ],
 "metadata": {
  "kernelspec": {
   "display_name": "Julia 1.8.1",
   "language": "julia",
   "name": "julia-1.8"
  },
  "language_info": {
   "file_extension": ".jl",
   "mimetype": "application/julia",
   "name": "julia",
   "version": "1.8.1"
  }
 },
 "nbformat": 4,
 "nbformat_minor": 5
}
