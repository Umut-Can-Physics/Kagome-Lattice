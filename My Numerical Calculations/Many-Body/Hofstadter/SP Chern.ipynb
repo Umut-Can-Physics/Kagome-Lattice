{
 "cells": [
  {
   "cell_type": "code",
   "execution_count": 1,
   "id": "4df25173-0b27-48c8-8d2f-21ab3482a528",
   "metadata": {},
   "outputs": [],
   "source": [
    "LL = [3, 3]\n",
    "N = LL[1]*LL[2]\n",
    "vv_lattice = [ [1., 0], [0, 1.] ]\n",
    "b1=[0, 0]\n",
    "vv_basis = [b1]\n",
    "t=-1\n",
    "p=1\n",
    "q=LL[2]\n",
    "ϕ=p/q\n",
    "pbc=true\n",
    "tx=ty=0\n",
    "param_dict=Dict{}()\n",
    "param_dict[t]=t\n",
    "param_dict[ϕ]=ϕ\n",
    "N1 = 10\n",
    "N2 = 10\n",
    "dx=2*pi/N1\n",
    "dy=dx\n",
    "Tx=collect(range(start=0, stop=2*pi-dx, step=dx))\n",
    "Ty=collect(range(start=0, stop=2*pi-dy, step=dy));"
   ]
  },
  {
   "cell_type": "code",
   "execution_count": 2,
   "id": "870c2558-8661-4225-801e-f6c136c94e02",
   "metadata": {},
   "outputs": [
    {
     "data": {
      "text/plain": [
       "calc_F12 (generic function with 1 method)"
      ]
     },
     "execution_count": 2,
     "metadata": {},
     "output_type": "execute_result"
    }
   ],
   "source": [
    "using NBInclude\n",
    "using OffsetArrays\n",
    "@nbinclude(\"../../Single Particle/Lattice_Basis_Neighbors_Hops.ipynb\"; regex=r\"#.*executeme\")\n",
    "@nbinclude(\"../Chern_parameter_space_sum.ipynb\")"
   ]
  },
  {
   "cell_type": "code",
   "execution_count": 3,
   "id": "4bcb6566-5fbe-487f-a589-160e777208f0",
   "metadata": {},
   "outputs": [
    {
     "data": {
      "text/plain": [
       "9"
      ]
     },
     "execution_count": 3,
     "metadata": {},
     "output_type": "execute_result"
    }
   ],
   "source": [
    "using LinearAlgebra\n",
    "dimH=9"
   ]
  },
  {
   "cell_type": "code",
   "execution_count": 12,
   "id": "8971b00a-524a-4af9-b456-0a49e5da94e5",
   "metadata": {},
   "outputs": [
    {
     "data": {
      "text/plain": [
       "calc_states_hofstadter (generic function with 1 method)"
      ]
     },
     "execution_count": 12,
     "metadata": {},
     "output_type": "execute_result"
    }
   ],
   "source": [
    "function calc_states_hofstadter(Tx, Ty, dimH)\n",
    "    N1 = length(Tx)\n",
    "    N2 = length(Ty)\n",
    "    EEA=zeros(N1, N2, dimH)\n",
    "    UUA=zeros(Complex{Float64}, N1, N2, dimH, dimH)\n",
    "    for it1 in 1:N1\n",
    "        for it2 in 1:N2\n",
    "            tx = Tx[it1]\n",
    "            ty = Ty[it2]\n",
    "            EEA[it1,it2,:], UUA[it1,it2,:,:] = eigen(get_Hofstadter_hamiltonian(sites,neighbors_list,\n",
    "                                        site_number,site_coord,\n",
    "                                        1,LL,param_dict,tx, ty,pbc))\n",
    "        end\n",
    "    end\n",
    "    return UUA\n",
    "end"
   ]
  },
  {
   "cell_type": "code",
   "execution_count": 13,
   "id": "b51a34db-5c37-4bd1-95fb-1d1c539055d9",
   "metadata": {},
   "outputs": [
    {
     "data": {
      "text/plain": [
       "calc_link_var (generic function with 1 method)"
      ]
     },
     "execution_count": 13,
     "metadata": {},
     "output_type": "execute_result"
    }
   ],
   "source": [
    "using OffsetArrays\n",
    "function calc_link_var(ψ1, ψ2)\n",
    "    ψ1 = OffsetArrays.no_offset_view(ψ1)\n",
    "    ψ2 = OffsetArrays.no_offset_view(ψ2)\n",
    "    s = det(ψ1'*ψ2)\n",
    "    return s/abs(s)\n",
    "end"
   ]
  },
  {
   "cell_type": "code",
   "execution_count": 14,
   "id": "a007f29a-6a6d-473a-8dc7-2dee6d534c9a",
   "metadata": {},
   "outputs": [
    {
     "data": {
      "text/plain": [
       "calc_link_vars (generic function with 1 method)"
      ]
     },
     "execution_count": 14,
     "metadata": {},
     "output_type": "execute_result"
    }
   ],
   "source": [
    "function calc_link_vars(UUA)\n",
    "    N1,N2,__ = size(UUA)\n",
    "    UU=zeros(Complex{Float64}, N1, N2, 2)\n",
    "    UU=OffsetArray(UU, 0:N1-1, 0:N2-1, 0:1)\n",
    "    xdir = OffsetArray([1, 0], -1)\n",
    "    ydir = OffsetArray([0, 1], -1)\n",
    "    dirs = [ xdir, ydir ]\n",
    "    dirs = OffsetArray(dirs, 0:1)\n",
    "    for it1 in 0:N1-1\n",
    "        for it2 in 0:N2-1\n",
    "            for (idir, vdir) in pairs(dirs)\n",
    "                UU[it1,it2,idir] = calc_link_var(UUA[it1,it2,:,:],\n",
    "                                                 UUA[mod(it1+vdir[0],N1),mod(it2+vdir[1],N2),:,:])\n",
    "            end\n",
    "        end\n",
    "    end\n",
    "    return UU \n",
    "end"
   ]
  },
  {
   "cell_type": "code",
   "execution_count": 15,
   "id": "c5075353-7239-484b-804f-43d07daf1860",
   "metadata": {},
   "outputs": [
    {
     "data": {
      "text/plain": [
       "calc_F12 (generic function with 1 method)"
      ]
     },
     "execution_count": 15,
     "metadata": {},
     "output_type": "execute_result"
    }
   ],
   "source": [
    "function calc_F12(UU)\n",
    "    F12 = log( UU[:,:,1]*\n",
    "               circshift(UU[:,:,2],(-1,0))*\n",
    "               conj(circshift(UU[:,:,1],(0,-1)))*\n",
    "                UU[:,:,2])\n",
    "    return F12\n",
    "end"
   ]
  },
  {
   "cell_type": "code",
   "execution_count": 16,
   "id": "fa51e413-2fa1-4eb0-a8b2-6b7e394cc041",
   "metadata": {},
   "outputs": [],
   "source": [
    "# EEA, UUA = calc_states_hofstadter(Tx, Ty, dimH)\n",
    "# UUA[1,1,:,1]"
   ]
  },
  {
   "cell_type": "code",
   "execution_count": 18,
   "id": "f10373ac-0e5d-4883-b1cd-c69cb7f9f39c",
   "metadata": {},
   "outputs": [
    {
     "data": {
      "text/plain": [
       "1.6535981962073898 - 55.94728622965145im"
      ]
     },
     "execution_count": 18,
     "metadata": {},
     "output_type": "execute_result"
    }
   ],
   "source": [
    "UUA = calc_states_hofstadter(Tx, Ty, dimH)\n",
    "UUA = OffsetArray(UUA, 0:N1-1, 0:N2-1, 0:dimH-1, 0:dimH-1)\n",
    "UU = calc_link_vars(UUA[:,:,:,0:2])\n",
    "UU = OffsetArrays.no_offset_view(UU)\n",
    "F12 = calc_F12(UU)\n",
    "sum(F12)/2im*pi"
   ]
  },
  {
   "cell_type": "code",
   "execution_count": null,
   "id": "889cb795-5824-4365-b76a-624fcfb2b899",
   "metadata": {},
   "outputs": [],
   "source": []
  },
  {
   "cell_type": "code",
   "execution_count": null,
   "id": "8c88983c-b278-4dff-ba3d-fdd410e943d9",
   "metadata": {},
   "outputs": [],
   "source": []
  }
 ],
 "metadata": {
  "kernelspec": {
   "display_name": "Julia 1.8.1",
   "language": "julia",
   "name": "julia-1.8"
  },
  "language_info": {
   "file_extension": ".jl",
   "mimetype": "application/julia",
   "name": "julia",
   "version": "1.8.1"
  }
 },
 "nbformat": 4,
 "nbformat_minor": 5
}
