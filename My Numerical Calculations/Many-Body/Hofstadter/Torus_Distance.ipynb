{
 "cells": [
  {
   "cell_type": "markdown",
   "id": "aa14a35f-eeab-431f-9c42-a8bbe872c6b6",
   "metadata": {},
   "source": [
    "# Torus Distance"
   ]
  },
  {
   "cell_type": "code",
   "execution_count": 1,
   "id": "da4fdf5f-4477-421d-8440-c8229b39d40a",
   "metadata": {
    "tags": []
   },
   "outputs": [
    {
     "data": {
      "text/plain": [
       "square_lattice (generic function with 1 method)"
      ]
     },
     "execution_count": 1,
     "metadata": {},
     "output_type": "execute_result"
    }
   ],
   "source": [
    "using OffsetArrays\n",
    "\n",
    "# Number operatörünün sıralamasına uygun olan lattice indislemesi\n",
    "function get_square_lattice(Nx, Ny)\n",
    "    \n",
    "    site_idx = range(1,Nx*Ny) \n",
    "    latticee = reverse(OffsetArray(reshape(site_idx, (Ny,Nx)), 1:Ny, 1:Nx), dims=1)\n",
    "    coordinates = []\n",
    "    for x in 0:Nx-1\n",
    "        for y in 0:Ny-1\n",
    "            coordinates = [coordinates; x; y]\n",
    "        end\n",
    "    end\n",
    "    coordinates = reshape(coordinates, (2, Nx*Ny)) |> transpose\n",
    "    \n",
    "    return coordinates, latticee\n",
    "end"
   ]
  },
  {
   "cell_type": "code",
   "execution_count": 7,
   "id": "a7376679-c839-4c7a-ba4d-b8219b6e02e8",
   "metadata": {},
   "outputs": [
    {
     "data": {
      "text/plain": [
       "get_coords_square (generic function with 1 method)"
      ]
     },
     "execution_count": 7,
     "metadata": {},
     "output_type": "execute_result"
    }
   ],
   "source": [
    "# Compatible with site number of plotted lattice\n",
    "function get_coords_square(Nx, Ny)\n",
    "    Coords = []\n",
    "    for i in 1:Nx*Ny\n",
    "        push!(Coords, [i-Nx*div(i-1,Nx)-1,div(i-1,Nx)])\n",
    "    end\n",
    "    return Coords\n",
    "end"
   ]
  },
  {
   "cell_type": "code",
   "execution_count": 7,
   "id": "afbd57fc-8d58-4765-a1df-dbb3e3fb200f",
   "metadata": {
    "tags": []
   },
   "outputs": [
    {
     "data": {
      "text/plain": [
       "get_ghost_sites (generic function with 1 method)"
      ]
     },
     "execution_count": 7,
     "metadata": {},
     "output_type": "execute_result"
    }
   ],
   "source": [
    "# Ghost Sites\n",
    "function get_ghost_sites(coordinates)\n",
    "    coordinates_top_left = hcat(coordinates[:,1].-Nx,coordinates[:,2].+Ny)\n",
    "    coordinates_top = hcat(coordinates[:,1],coordinates[:,2].+Ny)\n",
    "    coordinates_top_right = hcat(coordinates[:,1].+Nx,coordinates[:,2].+Ny)\n",
    "    coordinates_left = hcat(coordinates[:,1].-Nx,coordinates[:,2])\n",
    "    coordinates_right = hcat(coordinates[:,1].+Nx,coordinates[:,2])\n",
    "    coordinates_bottom_left = hcat(coordinates[:,1].-Nx,coordinates[:,2].-Ny)\n",
    "    coordinates_bottom = hcat(coordinates[:,1],coordinates[:,2].-Ny)\n",
    "    coordinates_bottom_right = hcat(coordinates[:,1].+Nx,coordinates[:,2].-Ny);\n",
    "    co_districts = [coordinates_top_left,coordinates_top,coordinates_top_right,coordinates_left,coordinates_right,coordinates,coordinates_bottom_left,coordinates_bottom,coordinates_bottom_right];\n",
    "    return coordinates_top_left, coordinates_top, coordinates_top_right, coordinates_left, coordinates_right, coordinates_bottom_left, coordinates_bottom, coordinates_bottom_right, co_districts\n",
    "end"
   ]
  },
  {
   "cell_type": "code",
   "execution_count": 3,
   "id": "42c0e0c7-3b4b-4141-8839-b49c02358df8",
   "metadata": {
    "tags": []
   },
   "outputs": [
    {
     "data": {
      "text/plain": [
       "plot_lat (generic function with 1 method)"
      ]
     },
     "execution_count": 3,
     "metadata": {},
     "output_type": "execute_result"
    }
   ],
   "source": [
    "function plot_lat(Nx,Ny)\n",
    "    center_x = (Nx-1)/2\n",
    "    center_y = (Ny-1)/2\n",
    "    scatter([coordinates_top_left[:,1]],[coordinates_top_left[:,2]],legend=false, alpha=0.3);annotate!( center_x-Nx, center_y+Ny, \"top-left\")\n",
    "    scatter!([coordinates_top[:,1]],[coordinates_top[:,2]], alpha=0.3);annotate!(center_x, center_y+Ny, \"top\")\n",
    "    scatter!([coordinates_top_right[:,1]],[coordinates_top_right[:,2]], alpha=0.3);annotate!(center_x+Nx, center_y+Ny, \"top-right\")\n",
    "    scatter!([coordinates_left[:,1]],[coordinates_left[:,2]], alpha=0.3);annotate!(center_x-Nx, center_y, \"left\")\n",
    "    scatter!([coordinates[:,1]], [coordinates[:,2]]);annotate!(center_x,center_y, \"center\")\n",
    "    scatter!([coordinates_right[:,1]],[coordinates_right[:,2]], alpha=0.3);annotate!(center_x+Nx, center_y, \"right\")\n",
    "    scatter!([coordinates_bottom_left[:,1]],[coordinates_bottom_left[:,2]], alpha=0.3);annotate!(center_x-Nx, center_y-Ny, \"bottom-left\")\n",
    "    scatter!([coordinates_bottom[:,1]],[coordinates_bottom[:,2]], alpha=0.3);annotate!(center_x, center_y-Ny, \"bottom\")\n",
    "    scatter!([coordinates_bottom_right[:,1]],[coordinates_bottom_right[:,2]], alpha=0.3);annotate!(center_x+Nx, center_y-Ny, \"bottom-right\")\n",
    "end"
   ]
  },
  {
   "cell_type": "code",
   "execution_count": 4,
   "id": "5dbedc5a-931e-447b-b284-5bf4e64cfbde",
   "metadata": {
    "tags": []
   },
   "outputs": [
    {
     "data": {
      "text/plain": [
       "distance (generic function with 1 method)"
      ]
     },
     "execution_count": 4,
     "metadata": {},
     "output_type": "execute_result"
    }
   ],
   "source": [
    "# Distance Functions\n",
    "function find_co(coordinates, p) # coordinates: Distrincts of Periodic Site\n",
    "    x_co = coordinates[:,1]\n",
    "    y_co = coordinates[:,2]\n",
    "    x = hcat(x_co, y_co)[p, 1]\n",
    "    y = hcat(x_co, y_co)[p, 2]\n",
    "    return x, y\n",
    "end\n",
    "\n",
    "function distance(coordinates_p1, p1, coordinates_p2, p2)\n",
    "    x2 = find_co(coordinates_p2, p2)[1]\n",
    "    x1 = find_co(coordinates_p1, p1)[1]\n",
    "    y2 = find_co(coordinates_p2, p2)[2]\n",
    "    y1 = find_co(coordinates_p1, p1)[2]\n",
    "    return sqrt( (x2 - x1)^2 + (y2 - y1)^2 )\n",
    "end"
   ]
  },
  {
   "cell_type": "code",
   "execution_count": 6,
   "id": "ab5e88e1-780f-41f4-86f0-d85dc8958866",
   "metadata": {},
   "outputs": [
    {
     "data": {
      "text/plain": [
       "get_radii (generic function with 1 method)"
      ]
     },
     "execution_count": 6,
     "metadata": {},
     "output_type": "execute_result"
    }
   ],
   "source": [
    "# Minimum Distances of Equivalent Sites from Reference Site\n",
    "function get_radii(ref_coordinates, coordinates, ref_site, N)\n",
    "    ref_coordinates = coordinates\n",
    "    distances = []\n",
    "    for site_idx in 1:N \n",
    "        push!(distances, distance(coordinates, site_idx, ref_coordinates, ref_site))\n",
    "    end\n",
    "    radius_list = sort(unique(distances));\n",
    "    return radius_list\n",
    "end"
   ]
  },
  {
   "cell_type": "markdown",
   "id": "22511434-086f-483a-aef0-a3e84c27c7c3",
   "metadata": {},
   "source": [
    "# Equivalent (Periodic) Site Condition"
   ]
  },
  {
   "cell_type": "code",
   "execution_count": 8,
   "id": "c38c10c1-036e-44b3-96a3-5c0dc89acdfd",
   "metadata": {},
   "outputs": [
    {
     "data": {
      "text/plain": [
       "get_all_sites (generic function with 1 method)"
      ]
     },
     "execution_count": 8,
     "metadata": {},
     "output_type": "execute_result"
    }
   ],
   "source": [
    "function get_all_sites(Nx, Ny, coordinates)\n",
    "    All_Coordinates = vcat(coordinates_top_left,coordinates_top,coordinates_top_right,coordinates_left,coordinates,coordinates_right,coordinates_bottom_left,coordinates_bottom,coordinates_bottom_right)\n",
    "    X_Coordinates = All_Coordinates[:,1]\n",
    "    Y_Coordinates =  All_Coordinates[:,2]\n",
    "    # Index and Coordinates of All Sites\n",
    "    idx_idx = []\n",
    "    for i in 1:9 \n",
    "        for j in 1:Nx*Ny\n",
    "            push!(idx_idx, j)\n",
    "        end\n",
    "    end\n",
    "    # All_Coordinates_2, her bir Nx*Ny'lik sütun, sırasıyla bölge koordinatlarını soldan sağa ve aşağıdan yukarıya gösterir.\n",
    "    # Her bir bölgede 1'den Nx*Ny'ye site indekslemesi tüm siteler için yapılır.\n",
    "    All_Coordinates_2 = hcat(idx_idx,All_Coordinates)\n",
    "    return All_Coordinates, X_Coordinates, Y_Coordinates, All_Coordinates_2\n",
    "end"
   ]
  },
  {
   "cell_type": "code",
   "execution_count": 9,
   "id": "6ac5a3ac-9994-4088-bf12-dc677715261c",
   "metadata": {},
   "outputs": [
    {
     "data": {
      "text/plain": [
       "get_eq_site (generic function with 1 method)"
      ]
     },
     "execution_count": 9,
     "metadata": {},
     "output_type": "execute_result"
    }
   ],
   "source": [
    "function get_eq_site(XX, YY)\n",
    "    Intersect = intersect(findall(x->x==XX, All_Coordinates[:,1]), findall(x->x==YY, All_Coordinates[:,2]))\n",
    "    Equivalent_Site = All_Coordinates_2[:,1][Intersect][1]\n",
    "    return Equivalent_Site\n",
    "end"
   ]
  }
 ],
 "metadata": {
  "kernelspec": {
   "display_name": "Julia 1.9.3",
   "language": "julia",
   "name": "julia-1.9"
  },
  "language_info": {
   "file_extension": ".jl",
   "mimetype": "application/julia",
   "name": "julia",
   "version": "1.9.3"
  }
 },
 "nbformat": 4,
 "nbformat_minor": 5
}
