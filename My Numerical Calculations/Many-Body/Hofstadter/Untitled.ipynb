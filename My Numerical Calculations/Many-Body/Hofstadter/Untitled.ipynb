{
 "cells": [
  {
   "cell_type": "code",
   "execution_count": 1,
   "id": "5effc6fb-94cb-4867-9b15-bae9ad218260",
   "metadata": {
    "tags": []
   },
   "outputs": [],
   "source": [
    "# TEST FİLE"
   ]
  },
  {
   "cell_type": "code",
   "execution_count": null,
   "id": "67669682-2804-49af-b017-cb8c19262986",
   "metadata": {},
   "outputs": [],
   "source": []
  }
 ],
 "metadata": {
  "kernelspec": {
   "display_name": "Julia 1.8.1",
   "language": "julia",
   "name": "julia-1.8"
  },
  "language_info": {
   "file_extension": ".jl",
   "mimetype": "application/julia",
   "name": "julia",
   "version": "1.8.1"
  }
 },
 "nbformat": 4,
 "nbformat_minor": 5
}
