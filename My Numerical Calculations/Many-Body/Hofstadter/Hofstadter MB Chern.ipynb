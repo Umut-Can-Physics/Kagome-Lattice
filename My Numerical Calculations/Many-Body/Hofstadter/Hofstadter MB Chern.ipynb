{
 "cells": [
  {
   "cell_type": "markdown",
   "id": "ebf138a2-39bb-495b-8859-4d1125f85231",
   "metadata": {},
   "source": [
    "Many-Body Chern Number without Integration\n",
    "\n",
    "Koji Kudo, Haruki Watanabe, Toshikaze Kariyado, and Yasuhiro Hatsugai\n",
    "\n",
    "Phys. Rev. Lett. 122, 146601 – Published 9 April 2019\n",
    "\n",
    "https://journals.aps.org/prl/abstract/10.1103/PhysRevLett.122.146601"
   ]
  },
  {
   "cell_type": "code",
   "execution_count": 1,
   "id": "551e4ff7",
   "metadata": {
    "tags": []
   },
   "outputs": [
    {
     "data": {
      "text/plain": [
       "HSP_T (generic function with 1 method)"
      ]
     },
     "execution_count": 1,
     "metadata": {},
     "output_type": "execute_result"
    }
   ],
   "source": [
    "using NBInclude\n",
    "@nbinclude(\"Hofstadter Single Particle in Theta Space.ipynb\")"
   ]
  },
  {
   "cell_type": "code",
   "execution_count": 3,
   "id": "44a15cd8-7a16-415e-8da9-8a6db7d909b3",
   "metadata": {
    "tags": []
   },
   "outputs": [],
   "source": [
    "using QuantumOptics"
   ]
  },
  {
   "cell_type": "markdown",
   "id": "2f5f1c69-9ba2-4662-acda-c627f7dfc991",
   "metadata": {},
   "source": [
    "## Initial Parameters"
   ]
  },
  {
   "cell_type": "code",
   "execution_count": 37,
   "id": "cb0bce07-7d7e-4e81-80a7-7d5614c14e6b",
   "metadata": {
    "tags": []
   },
   "outputs": [],
   "source": [
    "Nx=4;Ny=4;N=Nx*Ny;q=Ny;PN=1;T_size=10;"
   ]
  },
  {
   "cell_type": "markdown",
   "id": "4b6afe62-2fb0-45e3-9ca0-865be87f22bf",
   "metadata": {},
   "source": [
    "## Create Single-Particle Operator"
   ]
  },
  {
   "cell_type": "code",
   "execution_count": 38,
   "id": "af068119",
   "metadata": {
    "tags": []
   },
   "outputs": [
    {
     "data": {
      "text/plain": [
       "Op_Sp (generic function with 1 method)"
      ]
     },
     "execution_count": 38,
     "metadata": {},
     "output_type": "execute_result"
    }
   ],
   "source": [
    "function Op_Sp(Nx, Ny, alpha, Tx, Ty)\n",
    "        \n",
    "    H_T = HSP_T(Nx, Ny, alpha, Tx, Ty, 0)\n",
    "    \n",
    "    basis = NLevelBasis(N) \n",
    "    \n",
    "    H = SparseOperator(basis)\n",
    "    \n",
    "    for m in 1:N\n",
    "        for n in 1:N\n",
    "            H = H + H_T[m,n] * transition(basis, m, n)\n",
    "        end\n",
    "    end\n",
    "    \n",
    "    return H\n",
    "end"
   ]
  },
  {
   "cell_type": "code",
   "execution_count": 39,
   "id": "2567a5e2-4d54-41ae-950b-8fa96ee83ea5",
   "metadata": {},
   "outputs": [
    {
     "data": {
      "text/plain": [
       "16-element Vector{Float64}:\n",
       " -2.8284271247461907\n",
       " -2.8284271247461907\n",
       " -2.8284271247461903\n",
       " -2.82842712474619\n",
       " -6.644868594316485e-16\n",
       " -5.586571987248263e-16\n",
       " -3.546873306962143e-16\n",
       " -2.1567709646499708e-16\n",
       "  3.517159156416476e-17\n",
       "  3.3854856594293082e-16\n",
       "  4.086252901310583e-16\n",
       "  1.173179674142174e-15\n",
       "  2.8284271247461903\n",
       "  2.8284271247461907\n",
       "  2.8284271247461907\n",
       "  2.828427124746191"
      ]
     },
     "execution_count": 39,
     "metadata": {},
     "output_type": "execute_result"
    }
   ],
   "source": [
    "# CHECK: Operator Form\n",
    "using LinearAlgebra\n",
    "Tx=Ty=0\n",
    "op = Op_Sp(Nx, Ny, 1/q, Tx, Ty)\n",
    "eigenenergies(dense(op)) == eigvals(HSP_T(Nx, Ny, 1/q, Tx, Ty, 0))\n",
    "eigenenergies(dense(op))"
   ]
  },
  {
   "cell_type": "markdown",
   "id": "5841609b-5be8-4f1f-8e7c-ac0969025bdf",
   "metadata": {},
   "source": [
    "## Create Many-Basis for Hard-Core Interaction"
   ]
  },
  {
   "cell_type": "code",
   "execution_count": 40,
   "id": "c4edf9d5-1b11-4fc7-b3e8-c44f148441a9",
   "metadata": {},
   "outputs": [],
   "source": [
    "basis = NLevelBasis(N)\n",
    "states = fermionstates(basis, PN)\n",
    "basis_mb = ManyBodyBasis(basis, states)\n",
    "\n",
    "function get_mb_op(basis_mb, op)\n",
    "    H_mb2 = SparseOperator(basis_mb) \n",
    "    for m in 1:N\n",
    "        for n in 1:N\n",
    "            H_mb2 += op.data[m,n] * transition(basis_mb, m, n)\n",
    "        end\n",
    "    end\n",
    "    \n",
    "    return H_mb2\n",
    "end\n",
    "\n",
    "H_mb = get_mb_op(basis_mb, op);"
   ]
  },
  {
   "cell_type": "code",
   "execution_count": 41,
   "id": "77d0924f-ce0f-4528-bdd9-49f804dbae33",
   "metadata": {
    "tags": []
   },
   "outputs": [
    {
     "data": {
      "text/plain": [
       "16-element Vector{Float64}:\n",
       " -2.8284271247461907\n",
       " -2.8284271247461907\n",
       " -2.8284271247461903\n",
       " -2.82842712474619\n",
       " -6.644868594316485e-16\n",
       " -5.586571987248263e-16\n",
       " -3.546873306962143e-16\n",
       " -2.1567709646499708e-16\n",
       "  3.517159156416476e-17\n",
       "  3.3854856594293082e-16\n",
       "  4.086252901310583e-16\n",
       "  1.173179674142174e-15\n",
       "  2.8284271247461903\n",
       "  2.8284271247461907\n",
       "  2.8284271247461907\n",
       "  2.828427124746191"
      ]
     },
     "execution_count": 41,
     "metadata": {},
     "output_type": "execute_result"
    }
   ],
   "source": [
    "# CHECK: MB Structure (PN=1)\n",
    "eigenenergies(dense(H_mb)) == eigvals(HSP_T(Nx, Ny, 1/q, Tx, Ty, 0))\n",
    "eigenenergies(dense(H_mb))"
   ]
  },
  {
   "cell_type": "markdown",
   "id": "e5b48d1a-fac0-48a4-8c87-8b3e96a3648c",
   "metadata": {},
   "source": [
    "## Crete Mesh of Twisted-Angle Space"
   ]
  },
  {
   "cell_type": "markdown",
   "id": "4525b8ef-b394-4d86-9c95-75cfa497790e",
   "metadata": {},
   "source": [
    "\\begin{equation}\n",
    "\\theta_\\mu = \\frac{2\\pi}{N_\\theta}n_\\mu\n",
    "\\end{equation}"
   ]
  },
  {
   "cell_type": "code",
   "execution_count": 24,
   "id": "a1a0b77b-1375-4b5b-8425-1d52712c807d",
   "metadata": {
    "tags": []
   },
   "outputs": [],
   "source": [
    "dx=2*pi/T_size\n",
    "dy=dx\n",
    "Tx=collect(range(start=0, stop=2*pi-dx, step=dx))\n",
    "Ty=collect(range(start=0, stop=2*pi-dy, step=dy));"
   ]
  },
  {
   "cell_type": "markdown",
   "id": "ff484e23-d75b-43b3-89fc-2929cf4add01",
   "metadata": {},
   "source": [
    "## Energies of Many-Body Hofstadter Model"
   ]
  },
  {
   "cell_type": "code",
   "execution_count": 25,
   "id": "af9e4ecd-03d5-46a1-a7c8-18f7fca16d2f",
   "metadata": {
    "tags": []
   },
   "outputs": [
    {
     "data": {
      "image/svg+xml": [
       "<?xml version=\"1.0\" encoding=\"utf-8\"?>\n",
       "<svg xmlns=\"http://www.w3.org/2000/svg\" xmlns:xlink=\"http://www.w3.org/1999/xlink\" width=\"600\" height=\"400\" viewBox=\"0 0 2400 1600\">\n",
       "<defs>\n",
       "  <clipPath id=\"clip580\">\n",
       "    <rect x=\"0\" y=\"0\" width=\"2400\" height=\"1600\"/>\n",
       "  </clipPath>\n",
       "</defs>\n",
       "<path clip-path=\"url(#clip580)\" d=\"\n",
       "M0 1600 L2400 1600 L2400 0 L0 0  Z\n",
       "  \" fill=\"#ffffff\" fill-rule=\"evenodd\" fill-opacity=\"1\"/>\n",
       "<defs>\n",
       "  <clipPath id=\"clip581\">\n",
       "    <rect x=\"480\" y=\"0\" width=\"1681\" height=\"1600\"/>\n",
       "  </clipPath>\n",
       "</defs>\n",
       "<path clip-path=\"url(#clip580)\" d=\"\n",
       "M148.057 1486.45 L2352.76 1486.45 L2352.76 47.2441 L148.057 47.2441  Z\n",
       "  \" fill=\"#ffffff\" fill-rule=\"evenodd\" fill-opacity=\"1\"/>\n",
       "<defs>\n",
       "  <clipPath id=\"clip582\">\n",
       "    <rect x=\"148\" y=\"47\" width=\"2206\" height=\"1440\"/>\n",
       "  </clipPath>\n",
       "</defs>\n",
       "<polyline clip-path=\"url(#clip582)\" style=\"stroke:#000000; stroke-linecap:round; stroke-linejoin:round; stroke-width:2; stroke-opacity:0.1; fill:none\" points=\"\n",
       "  557.105,1486.45 557.105,47.2441 \n",
       "  \"/>\n",
       "<polyline clip-path=\"url(#clip582)\" style=\"stroke:#000000; stroke-linecap:round; stroke-linejoin:round; stroke-width:2; stroke-opacity:0.1; fill:none\" points=\"\n",
       "  990.418,1486.45 990.418,47.2441 \n",
       "  \"/>\n",
       "<polyline clip-path=\"url(#clip582)\" style=\"stroke:#000000; stroke-linecap:round; stroke-linejoin:round; stroke-width:2; stroke-opacity:0.1; fill:none\" points=\"\n",
       "  1423.73,1486.45 1423.73,47.2441 \n",
       "  \"/>\n",
       "<polyline clip-path=\"url(#clip582)\" style=\"stroke:#000000; stroke-linecap:round; stroke-linejoin:round; stroke-width:2; stroke-opacity:0.1; fill:none\" points=\"\n",
       "  1857.05,1486.45 1857.05,47.2441 \n",
       "  \"/>\n",
       "<polyline clip-path=\"url(#clip582)\" style=\"stroke:#000000; stroke-linecap:round; stroke-linejoin:round; stroke-width:2; stroke-opacity:0.1; fill:none\" points=\"\n",
       "  2290.36,1486.45 2290.36,47.2441 \n",
       "  \"/>\n",
       "<polyline clip-path=\"url(#clip580)\" style=\"stroke:#000000; stroke-linecap:round; stroke-linejoin:round; stroke-width:4; stroke-opacity:1; fill:none\" points=\"\n",
       "  148.057,1486.45 2352.76,1486.45 \n",
       "  \"/>\n",
       "<polyline clip-path=\"url(#clip580)\" style=\"stroke:#000000; stroke-linecap:round; stroke-linejoin:round; stroke-width:4; stroke-opacity:1; fill:none\" points=\"\n",
       "  557.105,1486.45 557.105,1467.55 \n",
       "  \"/>\n",
       "<polyline clip-path=\"url(#clip580)\" style=\"stroke:#000000; stroke-linecap:round; stroke-linejoin:round; stroke-width:4; stroke-opacity:1; fill:none\" points=\"\n",
       "  990.418,1486.45 990.418,1467.55 \n",
       "  \"/>\n",
       "<polyline clip-path=\"url(#clip580)\" style=\"stroke:#000000; stroke-linecap:round; stroke-linejoin:round; stroke-width:4; stroke-opacity:1; fill:none\" points=\"\n",
       "  1423.73,1486.45 1423.73,1467.55 \n",
       "  \"/>\n",
       "<polyline clip-path=\"url(#clip580)\" style=\"stroke:#000000; stroke-linecap:round; stroke-linejoin:round; stroke-width:4; stroke-opacity:1; fill:none\" points=\"\n",
       "  1857.05,1486.45 1857.05,1467.55 \n",
       "  \"/>\n",
       "<polyline clip-path=\"url(#clip580)\" style=\"stroke:#000000; stroke-linecap:round; stroke-linejoin:round; stroke-width:4; stroke-opacity:1; fill:none\" points=\"\n",
       "  2290.36,1486.45 2290.36,1467.55 \n",
       "  \"/>\n",
       "<path clip-path=\"url(#clip580)\" d=\"M547.382 1514.29 L565.739 1514.29 L565.739 1518.22 L551.665 1518.22 L551.665 1526.7 Q552.683 1526.35 553.702 1526.19 Q554.72 1526 555.739 1526 Q561.526 1526 564.905 1529.17 Q568.285 1532.34 568.285 1537.76 Q568.285 1543.34 564.813 1546.44 Q561.341 1549.52 555.021 1549.52 Q552.845 1549.52 550.577 1549.15 Q548.331 1548.78 545.924 1548.04 L545.924 1543.34 Q548.007 1544.47 550.23 1545.03 Q552.452 1545.58 554.929 1545.58 Q558.933 1545.58 561.271 1543.48 Q563.609 1541.37 563.609 1537.76 Q563.609 1534.15 561.271 1532.04 Q558.933 1529.94 554.929 1529.94 Q553.054 1529.94 551.179 1530.35 Q549.327 1530.77 547.382 1531.65 L547.382 1514.29 Z\" fill=\"#000000\" fill-rule=\"evenodd\" fill-opacity=\"1\" /><path clip-path=\"url(#clip580)\" d=\"M965.106 1544.91 L972.745 1544.91 L972.745 1518.55 L964.434 1520.21 L964.434 1515.95 L972.698 1514.29 L977.374 1514.29 L977.374 1544.91 L985.013 1544.91 L985.013 1548.85 L965.106 1548.85 L965.106 1544.91 Z\" fill=\"#000000\" fill-rule=\"evenodd\" fill-opacity=\"1\" /><path clip-path=\"url(#clip580)\" d=\"M1004.46 1517.37 Q1000.85 1517.37 999.018 1520.93 Q997.212 1524.47 997.212 1531.6 Q997.212 1538.71 999.018 1542.27 Q1000.85 1545.82 1004.46 1545.82 Q1008.09 1545.82 1009.9 1542.27 Q1011.73 1538.71 1011.73 1531.6 Q1011.73 1524.47 1009.9 1520.93 Q1008.09 1517.37 1004.46 1517.37 M1004.46 1513.66 Q1010.27 1513.66 1013.32 1518.27 Q1016.4 1522.85 1016.4 1531.6 Q1016.4 1540.33 1013.32 1544.94 Q1010.27 1549.52 1004.46 1549.52 Q998.647 1549.52 995.569 1544.94 Q992.513 1540.33 992.513 1531.6 Q992.513 1522.85 995.569 1518.27 Q998.647 1513.66 1004.46 1513.66 Z\" fill=\"#000000\" fill-rule=\"evenodd\" fill-opacity=\"1\" /><path clip-path=\"url(#clip580)\" d=\"M1398.92 1544.91 L1406.56 1544.91 L1406.56 1518.55 L1398.25 1520.21 L1398.25 1515.95 L1406.51 1514.29 L1411.19 1514.29 L1411.19 1544.91 L1418.82 1544.91 L1418.82 1548.85 L1398.92 1548.85 L1398.92 1544.91 Z\" fill=\"#000000\" fill-rule=\"evenodd\" fill-opacity=\"1\" /><path clip-path=\"url(#clip580)\" d=\"M1428.31 1514.29 L1446.67 1514.29 L1446.67 1518.22 L1432.6 1518.22 L1432.6 1526.7 Q1433.62 1526.35 1434.63 1526.19 Q1435.65 1526 1436.67 1526 Q1442.46 1526 1445.84 1529.17 Q1449.22 1532.34 1449.22 1537.76 Q1449.22 1543.34 1445.75 1546.44 Q1442.27 1549.52 1435.95 1549.52 Q1433.78 1549.52 1431.51 1549.15 Q1429.26 1548.78 1426.86 1548.04 L1426.86 1543.34 Q1428.94 1544.47 1431.16 1545.03 Q1433.38 1545.58 1435.86 1545.58 Q1439.87 1545.58 1442.2 1543.48 Q1444.54 1541.37 1444.54 1537.76 Q1444.54 1534.15 1442.2 1532.04 Q1439.87 1529.94 1435.86 1529.94 Q1433.99 1529.94 1432.11 1530.35 Q1430.26 1530.77 1428.31 1531.65 L1428.31 1514.29 Z\" fill=\"#000000\" fill-rule=\"evenodd\" fill-opacity=\"1\" /><path clip-path=\"url(#clip580)\" d=\"M1835.82 1544.91 L1852.14 1544.91 L1852.14 1548.85 L1830.19 1548.85 L1830.19 1544.91 Q1832.86 1542.16 1837.44 1537.53 Q1842.05 1532.88 1843.23 1531.53 Q1845.47 1529.01 1846.35 1527.27 Q1847.25 1525.51 1847.25 1523.82 Q1847.25 1521.07 1845.31 1519.33 Q1843.39 1517.6 1840.29 1517.6 Q1838.09 1517.6 1835.63 1518.36 Q1833.2 1519.13 1830.42 1520.68 L1830.42 1515.95 Q1833.25 1514.82 1835.7 1514.24 Q1838.16 1513.66 1840.19 1513.66 Q1845.56 1513.66 1848.76 1516.35 Q1851.95 1519.03 1851.95 1523.52 Q1851.95 1525.65 1851.14 1527.57 Q1850.36 1529.47 1848.25 1532.07 Q1847.67 1532.74 1844.57 1535.95 Q1841.47 1539.15 1835.82 1544.91 Z\" fill=\"#000000\" fill-rule=\"evenodd\" fill-opacity=\"1\" /><path clip-path=\"url(#clip580)\" d=\"M1871.95 1517.37 Q1868.34 1517.37 1866.51 1520.93 Q1864.71 1524.47 1864.71 1531.6 Q1864.71 1538.71 1866.51 1542.27 Q1868.34 1545.82 1871.95 1545.82 Q1875.59 1545.82 1877.39 1542.27 Q1879.22 1538.71 1879.22 1531.6 Q1879.22 1524.47 1877.39 1520.93 Q1875.59 1517.37 1871.95 1517.37 M1871.95 1513.66 Q1877.76 1513.66 1880.82 1518.27 Q1883.9 1522.85 1883.9 1531.6 Q1883.9 1540.33 1880.82 1544.94 Q1877.76 1549.52 1871.95 1549.52 Q1866.14 1549.52 1863.06 1544.94 Q1860.01 1540.33 1860.01 1531.6 Q1860.01 1522.85 1863.06 1518.27 Q1866.14 1513.66 1871.95 1513.66 Z\" fill=\"#000000\" fill-rule=\"evenodd\" fill-opacity=\"1\" /><path clip-path=\"url(#clip580)\" d=\"M2269.63 1544.91 L2285.95 1544.91 L2285.95 1548.85 L2264 1548.85 L2264 1544.91 Q2266.67 1542.16 2271.25 1537.53 Q2275.86 1532.88 2277.04 1531.53 Q2279.28 1529.01 2280.16 1527.27 Q2281.06 1525.51 2281.06 1523.82 Q2281.06 1521.07 2279.12 1519.33 Q2277.2 1517.6 2274.1 1517.6 Q2271.9 1517.6 2269.44 1518.36 Q2267.01 1519.13 2264.24 1520.68 L2264.24 1515.95 Q2267.06 1514.82 2269.51 1514.24 Q2271.97 1513.66 2274 1513.66 Q2279.38 1513.66 2282.57 1516.35 Q2285.76 1519.03 2285.76 1523.52 Q2285.76 1525.65 2284.95 1527.57 Q2284.17 1529.47 2282.06 1532.07 Q2281.48 1532.74 2278.38 1535.95 Q2275.28 1539.15 2269.63 1544.91 Z\" fill=\"#000000\" fill-rule=\"evenodd\" fill-opacity=\"1\" /><path clip-path=\"url(#clip580)\" d=\"M2295.81 1514.29 L2314.17 1514.29 L2314.17 1518.22 L2300.09 1518.22 L2300.09 1526.7 Q2301.11 1526.35 2302.13 1526.19 Q2303.15 1526 2304.17 1526 Q2309.95 1526 2313.33 1529.17 Q2316.71 1532.34 2316.71 1537.76 Q2316.71 1543.34 2313.24 1546.44 Q2309.77 1549.52 2303.45 1549.52 Q2301.27 1549.52 2299 1549.15 Q2296.76 1548.78 2294.35 1548.04 L2294.35 1543.34 Q2296.44 1544.47 2298.66 1545.03 Q2300.88 1545.58 2303.36 1545.58 Q2307.36 1545.58 2309.7 1543.48 Q2312.04 1541.37 2312.04 1537.76 Q2312.04 1534.15 2309.7 1532.04 Q2307.36 1529.94 2303.36 1529.94 Q2301.48 1529.94 2299.61 1530.35 Q2297.75 1530.77 2295.81 1531.65 L2295.81 1514.29 Z\" fill=\"#000000\" fill-rule=\"evenodd\" fill-opacity=\"1\" /><polyline clip-path=\"url(#clip582)\" style=\"stroke:#000000; stroke-linecap:round; stroke-linejoin:round; stroke-width:2; stroke-opacity:0.1; fill:none\" points=\"\n",
       "  148.057,1453.48 2352.76,1453.48 \n",
       "  \"/>\n",
       "<polyline clip-path=\"url(#clip582)\" style=\"stroke:#000000; stroke-linecap:round; stroke-linejoin:round; stroke-width:2; stroke-opacity:0.1; fill:none\" points=\"\n",
       "  148.057,1222.12 2352.76,1222.12 \n",
       "  \"/>\n",
       "<polyline clip-path=\"url(#clip582)\" style=\"stroke:#000000; stroke-linecap:round; stroke-linejoin:round; stroke-width:2; stroke-opacity:0.1; fill:none\" points=\"\n",
       "  148.057,990.762 2352.76,990.762 \n",
       "  \"/>\n",
       "<polyline clip-path=\"url(#clip582)\" style=\"stroke:#000000; stroke-linecap:round; stroke-linejoin:round; stroke-width:2; stroke-opacity:0.1; fill:none\" points=\"\n",
       "  148.057,759.404 2352.76,759.404 \n",
       "  \"/>\n",
       "<polyline clip-path=\"url(#clip582)\" style=\"stroke:#000000; stroke-linecap:round; stroke-linejoin:round; stroke-width:2; stroke-opacity:0.1; fill:none\" points=\"\n",
       "  148.057,528.046 2352.76,528.046 \n",
       "  \"/>\n",
       "<polyline clip-path=\"url(#clip582)\" style=\"stroke:#000000; stroke-linecap:round; stroke-linejoin:round; stroke-width:2; stroke-opacity:0.1; fill:none\" points=\"\n",
       "  148.057,296.687 2352.76,296.687 \n",
       "  \"/>\n",
       "<polyline clip-path=\"url(#clip582)\" style=\"stroke:#000000; stroke-linecap:round; stroke-linejoin:round; stroke-width:2; stroke-opacity:0.1; fill:none\" points=\"\n",
       "  148.057,65.3293 2352.76,65.3293 \n",
       "  \"/>\n",
       "<polyline clip-path=\"url(#clip580)\" style=\"stroke:#000000; stroke-linecap:round; stroke-linejoin:round; stroke-width:4; stroke-opacity:1; fill:none\" points=\"\n",
       "  148.057,1486.45 148.057,47.2441 \n",
       "  \"/>\n",
       "<polyline clip-path=\"url(#clip580)\" style=\"stroke:#000000; stroke-linecap:round; stroke-linejoin:round; stroke-width:4; stroke-opacity:1; fill:none\" points=\"\n",
       "  148.057,1453.48 166.954,1453.48 \n",
       "  \"/>\n",
       "<polyline clip-path=\"url(#clip580)\" style=\"stroke:#000000; stroke-linecap:round; stroke-linejoin:round; stroke-width:4; stroke-opacity:1; fill:none\" points=\"\n",
       "  148.057,1222.12 166.954,1222.12 \n",
       "  \"/>\n",
       "<polyline clip-path=\"url(#clip580)\" style=\"stroke:#000000; stroke-linecap:round; stroke-linejoin:round; stroke-width:4; stroke-opacity:1; fill:none\" points=\"\n",
       "  148.057,990.762 166.954,990.762 \n",
       "  \"/>\n",
       "<polyline clip-path=\"url(#clip580)\" style=\"stroke:#000000; stroke-linecap:round; stroke-linejoin:round; stroke-width:4; stroke-opacity:1; fill:none\" points=\"\n",
       "  148.057,759.404 166.954,759.404 \n",
       "  \"/>\n",
       "<polyline clip-path=\"url(#clip580)\" style=\"stroke:#000000; stroke-linecap:round; stroke-linejoin:round; stroke-width:4; stroke-opacity:1; fill:none\" points=\"\n",
       "  148.057,528.046 166.954,528.046 \n",
       "  \"/>\n",
       "<polyline clip-path=\"url(#clip580)\" style=\"stroke:#000000; stroke-linecap:round; stroke-linejoin:round; stroke-width:4; stroke-opacity:1; fill:none\" points=\"\n",
       "  148.057,296.687 166.954,296.687 \n",
       "  \"/>\n",
       "<polyline clip-path=\"url(#clip580)\" style=\"stroke:#000000; stroke-linecap:round; stroke-linejoin:round; stroke-width:4; stroke-opacity:1; fill:none\" points=\"\n",
       "  148.057,65.3293 166.954,65.3293 \n",
       "  \"/>\n",
       "<path clip-path=\"url(#clip580)\" d=\"M50.9921 1453.93 L80.6679 1453.93 L80.6679 1457.86 L50.9921 1457.86 L50.9921 1453.93 Z\" fill=\"#000000\" fill-rule=\"evenodd\" fill-opacity=\"1\" /><path clip-path=\"url(#clip580)\" d=\"M104.927 1452.12 Q108.283 1452.84 110.158 1455.11 Q112.057 1457.38 112.057 1460.71 Q112.057 1465.83 108.538 1468.63 Q105.02 1471.43 98.5382 1471.43 Q96.3623 1471.43 94.0475 1470.99 Q91.7558 1470.57 89.3021 1469.72 L89.3021 1465.2 Q91.2465 1466.34 93.5613 1466.92 Q95.8761 1467.49 98.3993 1467.49 Q102.797 1467.49 105.089 1465.76 Q107.404 1464.02 107.404 1460.71 Q107.404 1457.66 105.251 1455.94 Q103.121 1454.21 99.3021 1454.21 L95.2743 1454.21 L95.2743 1450.36 L99.4872 1450.36 Q102.936 1450.36 104.765 1449 Q106.594 1447.61 106.594 1445.02 Q106.594 1442.36 104.696 1440.94 Q102.821 1439.51 99.3021 1439.51 Q97.3808 1439.51 95.1817 1439.93 Q92.9826 1440.34 90.3438 1441.22 L90.3438 1437.05 Q93.0058 1436.31 95.3206 1435.94 Q97.6585 1435.57 99.7187 1435.57 Q105.043 1435.57 108.145 1438 Q111.246 1440.41 111.246 1444.53 Q111.246 1447.4 109.603 1449.39 Q107.959 1451.36 104.927 1452.12 Z\" fill=\"#000000\" fill-rule=\"evenodd\" fill-opacity=\"1\" /><path clip-path=\"url(#clip580)\" d=\"M51.9412 1222.57 L81.617 1222.57 L81.617 1226.51 L51.9412 1226.51 L51.9412 1222.57 Z\" fill=\"#000000\" fill-rule=\"evenodd\" fill-opacity=\"1\" /><path clip-path=\"url(#clip580)\" d=\"M95.7373 1235.46 L112.057 1235.46 L112.057 1239.4 L90.1123 1239.4 L90.1123 1235.46 Q92.7743 1232.71 97.3576 1228.08 Q101.964 1223.43 103.145 1222.09 Q105.39 1219.56 106.27 1217.83 Q107.172 1216.07 107.172 1214.38 Q107.172 1211.62 105.228 1209.89 Q103.307 1208.15 100.205 1208.15 Q98.0058 1208.15 95.5521 1208.91 Q93.1215 1209.68 90.3438 1211.23 L90.3438 1206.51 Q93.1678 1205.37 95.6215 1204.79 Q98.0752 1204.22 100.112 1204.22 Q105.483 1204.22 108.677 1206.9 Q111.871 1209.59 111.871 1214.08 Q111.871 1216.21 111.061 1218.13 Q110.274 1220.03 108.168 1222.62 Q107.589 1223.29 104.487 1226.51 Q101.385 1229.7 95.7373 1235.46 Z\" fill=\"#000000\" fill-rule=\"evenodd\" fill-opacity=\"1\" /><path clip-path=\"url(#clip580)\" d=\"M51.5708 991.213 L81.2466 991.213 L81.2466 995.148 L51.5708 995.148 L51.5708 991.213 Z\" fill=\"#000000\" fill-rule=\"evenodd\" fill-opacity=\"1\" /><path clip-path=\"url(#clip580)\" d=\"M92.1493 1004.11 L99.7882 1004.11 L99.7882 977.741 L91.478 979.408 L91.478 975.149 L99.7419 973.482 L104.418 973.482 L104.418 1004.11 L112.057 1004.11 L112.057 1008.04 L92.1493 1008.04 L92.1493 1004.11 Z\" fill=\"#000000\" fill-rule=\"evenodd\" fill-opacity=\"1\" /><path clip-path=\"url(#clip580)\" d=\"M100.112 745.202 Q96.5011 745.202 94.6724 748.767 Q92.8669 752.309 92.8669 759.438 Q92.8669 766.545 94.6724 770.11 Q96.5011 773.651 100.112 773.651 Q103.746 773.651 105.552 770.11 Q107.381 766.545 107.381 759.438 Q107.381 752.309 105.552 748.767 Q103.746 745.202 100.112 745.202 M100.112 741.499 Q105.922 741.499 108.978 746.105 Q112.057 750.689 112.057 759.438 Q112.057 768.165 108.978 772.772 Q105.922 777.355 100.112 777.355 Q94.3021 777.355 91.2234 772.772 Q88.1679 768.165 88.1679 759.438 Q88.1679 750.689 91.2234 746.105 Q94.3021 741.499 100.112 741.499 Z\" fill=\"#000000\" fill-rule=\"evenodd\" fill-opacity=\"1\" /><path clip-path=\"url(#clip580)\" d=\"M92.1493 541.39 L99.7882 541.39 L99.7882 515.025 L91.478 516.692 L91.478 512.432 L99.7419 510.766 L104.418 510.766 L104.418 541.39 L112.057 541.39 L112.057 545.326 L92.1493 545.326 L92.1493 541.39 Z\" fill=\"#000000\" fill-rule=\"evenodd\" fill-opacity=\"1\" /><path clip-path=\"url(#clip580)\" d=\"M95.7373 310.032 L112.057 310.032 L112.057 313.967 L90.1123 313.967 L90.1123 310.032 Q92.7743 307.278 97.3576 302.648 Q101.964 297.995 103.145 296.653 Q105.39 294.13 106.27 292.394 Q107.172 290.634 107.172 288.944 Q107.172 286.19 105.228 284.454 Q103.307 282.718 100.205 282.718 Q98.0058 282.718 95.5521 283.482 Q93.1215 284.245 90.3438 285.796 L90.3438 281.074 Q93.1678 279.94 95.6215 279.361 Q98.0752 278.782 100.112 278.782 Q105.483 278.782 108.677 281.468 Q111.871 284.153 111.871 288.644 Q111.871 290.773 111.061 292.694 Q110.274 294.593 108.168 297.185 Q107.589 297.856 104.487 301.074 Q101.385 304.268 95.7373 310.032 Z\" fill=\"#000000\" fill-rule=\"evenodd\" fill-opacity=\"1\" /><path clip-path=\"url(#clip580)\" d=\"M104.927 63.9752 Q108.283 64.6928 110.158 66.9613 Q112.057 69.2298 112.057 72.5631 Q112.057 77.6788 108.538 80.4797 Q105.02 83.2806 98.5382 83.2806 Q96.3623 83.2806 94.0475 82.8408 Q91.7558 82.4241 89.3021 81.5677 L89.3021 77.0538 Q91.2465 78.1881 93.5613 78.7668 Q95.8761 79.3455 98.3993 79.3455 Q102.797 79.3455 105.089 77.6094 Q107.404 75.8733 107.404 72.5631 Q107.404 69.5075 105.251 67.7946 Q103.121 66.0585 99.3021 66.0585 L95.2743 66.0585 L95.2743 62.2159 L99.4872 62.2159 Q102.936 62.2159 104.765 60.8502 Q106.594 59.4613 106.594 56.8687 Q106.594 54.2067 104.696 52.7947 Q102.821 51.3595 99.3021 51.3595 Q97.3808 51.3595 95.1817 51.7762 Q92.9826 52.1928 90.3438 53.0725 L90.3438 48.9058 Q93.0058 48.1651 95.3206 47.7947 Q97.6585 47.4243 99.7187 47.4243 Q105.043 47.4243 108.145 49.8549 Q111.246 52.2623 111.246 56.3826 Q111.246 59.253 109.603 61.2437 Q107.959 63.2113 104.927 63.9752 Z\" fill=\"#000000\" fill-rule=\"evenodd\" fill-opacity=\"1\" /><circle clip-path=\"url(#clip582)\" cx=\"210.454\" cy=\"1445.72\" r=\"14.4\" fill=\"#009af9\" fill-rule=\"evenodd\" fill-opacity=\"1\" stroke=\"#000000\" stroke-opacity=\"1\" stroke-width=\"3.2\"/>\n",
       "<circle clip-path=\"url(#clip582)\" cx=\"297.116\" cy=\"1445.72\" r=\"14.4\" fill=\"#009af9\" fill-rule=\"evenodd\" fill-opacity=\"1\" stroke=\"#000000\" stroke-opacity=\"1\" stroke-width=\"3.2\"/>\n",
       "<circle clip-path=\"url(#clip582)\" cx=\"383.779\" cy=\"1445.72\" r=\"14.4\" fill=\"#009af9\" fill-rule=\"evenodd\" fill-opacity=\"1\" stroke=\"#000000\" stroke-opacity=\"1\" stroke-width=\"3.2\"/>\n",
       "<circle clip-path=\"url(#clip582)\" cx=\"470.442\" cy=\"1445.72\" r=\"14.4\" fill=\"#009af9\" fill-rule=\"evenodd\" fill-opacity=\"1\" stroke=\"#000000\" stroke-opacity=\"1\" stroke-width=\"3.2\"/>\n",
       "<circle clip-path=\"url(#clip582)\" cx=\"557.105\" cy=\"1445.72\" r=\"14.4\" fill=\"#009af9\" fill-rule=\"evenodd\" fill-opacity=\"1\" stroke=\"#000000\" stroke-opacity=\"1\" stroke-width=\"3.2\"/>\n",
       "<circle clip-path=\"url(#clip582)\" cx=\"643.767\" cy=\"968.115\" r=\"14.4\" fill=\"#009af9\" fill-rule=\"evenodd\" fill-opacity=\"1\" stroke=\"#000000\" stroke-opacity=\"1\" stroke-width=\"3.2\"/>\n",
       "<circle clip-path=\"url(#clip582)\" cx=\"730.43\" cy=\"968.115\" r=\"14.4\" fill=\"#009af9\" fill-rule=\"evenodd\" fill-opacity=\"1\" stroke=\"#000000\" stroke-opacity=\"1\" stroke-width=\"3.2\"/>\n",
       "<circle clip-path=\"url(#clip582)\" cx=\"817.093\" cy=\"968.115\" r=\"14.4\" fill=\"#009af9\" fill-rule=\"evenodd\" fill-opacity=\"1\" stroke=\"#000000\" stroke-opacity=\"1\" stroke-width=\"3.2\"/>\n",
       "<circle clip-path=\"url(#clip582)\" cx=\"903.755\" cy=\"968.115\" r=\"14.4\" fill=\"#009af9\" fill-rule=\"evenodd\" fill-opacity=\"1\" stroke=\"#000000\" stroke-opacity=\"1\" stroke-width=\"3.2\"/>\n",
       "<circle clip-path=\"url(#clip582)\" cx=\"990.418\" cy=\"968.115\" r=\"14.4\" fill=\"#009af9\" fill-rule=\"evenodd\" fill-opacity=\"1\" stroke=\"#000000\" stroke-opacity=\"1\" stroke-width=\"3.2\"/>\n",
       "<circle clip-path=\"url(#clip582)\" cx=\"1077.08\" cy=\"847.775\" r=\"14.4\" fill=\"#009af9\" fill-rule=\"evenodd\" fill-opacity=\"1\" stroke=\"#000000\" stroke-opacity=\"1\" stroke-width=\"3.2\"/>\n",
       "<circle clip-path=\"url(#clip582)\" cx=\"1163.74\" cy=\"847.775\" r=\"14.4\" fill=\"#009af9\" fill-rule=\"evenodd\" fill-opacity=\"1\" stroke=\"#000000\" stroke-opacity=\"1\" stroke-width=\"3.2\"/>\n",
       "<circle clip-path=\"url(#clip582)\" cx=\"1250.41\" cy=\"847.775\" r=\"14.4\" fill=\"#009af9\" fill-rule=\"evenodd\" fill-opacity=\"1\" stroke=\"#000000\" stroke-opacity=\"1\" stroke-width=\"3.2\"/>\n",
       "<circle clip-path=\"url(#clip582)\" cx=\"1337.07\" cy=\"847.775\" r=\"14.4\" fill=\"#009af9\" fill-rule=\"evenodd\" fill-opacity=\"1\" stroke=\"#000000\" stroke-opacity=\"1\" stroke-width=\"3.2\"/>\n",
       "<circle clip-path=\"url(#clip582)\" cx=\"1423.73\" cy=\"847.775\" r=\"14.4\" fill=\"#009af9\" fill-rule=\"evenodd\" fill-opacity=\"1\" stroke=\"#000000\" stroke-opacity=\"1\" stroke-width=\"3.2\"/>\n",
       "<circle clip-path=\"url(#clip582)\" cx=\"1510.39\" cy=\"447.437\" r=\"14.4\" fill=\"#009af9\" fill-rule=\"evenodd\" fill-opacity=\"1\" stroke=\"#000000\" stroke-opacity=\"1\" stroke-width=\"3.2\"/>\n",
       "<circle clip-path=\"url(#clip582)\" cx=\"1597.06\" cy=\"447.437\" r=\"14.4\" fill=\"#009af9\" fill-rule=\"evenodd\" fill-opacity=\"1\" stroke=\"#000000\" stroke-opacity=\"1\" stroke-width=\"3.2\"/>\n",
       "<circle clip-path=\"url(#clip582)\" cx=\"1683.72\" cy=\"447.437\" r=\"14.4\" fill=\"#009af9\" fill-rule=\"evenodd\" fill-opacity=\"1\" stroke=\"#000000\" stroke-opacity=\"1\" stroke-width=\"3.2\"/>\n",
       "<circle clip-path=\"url(#clip582)\" cx=\"1770.38\" cy=\"447.437\" r=\"14.4\" fill=\"#009af9\" fill-rule=\"evenodd\" fill-opacity=\"1\" stroke=\"#000000\" stroke-opacity=\"1\" stroke-width=\"3.2\"/>\n",
       "<circle clip-path=\"url(#clip582)\" cx=\"1857.05\" cy=\"447.437\" r=\"14.4\" fill=\"#009af9\" fill-rule=\"evenodd\" fill-opacity=\"1\" stroke=\"#000000\" stroke-opacity=\"1\" stroke-width=\"3.2\"/>\n",
       "<circle clip-path=\"url(#clip582)\" cx=\"1943.71\" cy=\"87.9763\" r=\"14.4\" fill=\"#009af9\" fill-rule=\"evenodd\" fill-opacity=\"1\" stroke=\"#000000\" stroke-opacity=\"1\" stroke-width=\"3.2\"/>\n",
       "<circle clip-path=\"url(#clip582)\" cx=\"2030.37\" cy=\"87.9763\" r=\"14.4\" fill=\"#009af9\" fill-rule=\"evenodd\" fill-opacity=\"1\" stroke=\"#000000\" stroke-opacity=\"1\" stroke-width=\"3.2\"/>\n",
       "<circle clip-path=\"url(#clip582)\" cx=\"2117.03\" cy=\"87.9763\" r=\"14.4\" fill=\"#009af9\" fill-rule=\"evenodd\" fill-opacity=\"1\" stroke=\"#000000\" stroke-opacity=\"1\" stroke-width=\"3.2\"/>\n",
       "<circle clip-path=\"url(#clip582)\" cx=\"2203.7\" cy=\"87.9763\" r=\"14.4\" fill=\"#009af9\" fill-rule=\"evenodd\" fill-opacity=\"1\" stroke=\"#000000\" stroke-opacity=\"1\" stroke-width=\"3.2\"/>\n",
       "<circle clip-path=\"url(#clip582)\" cx=\"2290.36\" cy=\"87.9763\" r=\"14.4\" fill=\"#009af9\" fill-rule=\"evenodd\" fill-opacity=\"1\" stroke=\"#000000\" stroke-opacity=\"1\" stroke-width=\"3.2\"/>\n",
       "</svg>\n"
      ]
     },
     "execution_count": 25,
     "metadata": {},
     "output_type": "execute_result"
    }
   ],
   "source": [
    "using Plots\n",
    "E = eigenenergies(dense(H_mb))\n",
    "plot(1:length(E),E,seriestype=:scatter,legend=false)"
   ]
  },
  {
   "cell_type": "markdown",
   "id": "1d88b286-9737-4a87-8c53-4998f7d43975",
   "metadata": {},
   "source": [
    "# Cherns"
   ]
  },
  {
   "cell_type": "markdown",
   "id": "640e6903-a0dd-497f-b0f4-0b3cc7846df0",
   "metadata": {},
   "source": [
    "Berry Curvature:\n",
    "\\begin{equation}\n",
    "\\mathcal{F}(\\vec{\\theta}) = \\log \\left( U_x(\\vec{\\theta})U_y(\\vec{\\theta}+\\delta_x)U_x(\\vec{\\theta}+\\delta_y)^{-1}U_y(\\vec{\\theta})^{-1} \\right)\n",
    "\\end{equation}\n",
    "Link variables:\n",
    "\\begin{equation}\n",
    "U_\\mu(\\vec{\\theta}) = \\frac{\n",
    "det \\left( \\Phi(\\vec{\\theta})^\\dagger \\Phi(\\vec{\\theta}+\\delta_\\mu) \\right) \n",
    "}{\n",
    "| det \\left(\\Phi(\\vec{\\theta})^\\dagger \\Phi(\\vec{\\theta}+\\delta_\\mu) \\right) |} , \\quad \\delta_x = \\left(\\frac{2\\pi}{N_{\\theta}},0 \\right), \\delta_y = \\left(0, \\frac{2\\pi}{N_{\\theta}}\\right)\n",
    "\\end{equation}\n",
    "Chern Number:\n",
    "\\begin{equation}\n",
    "\\mathcal{C} = \\frac{1}{2\\pi i} \\sum_{\\vec{\\theta}} \\mathcal{F}(\\vec{\\theta})\n",
    "\\end{equation}"
   ]
  },
  {
   "cell_type": "code",
   "execution_count": 26,
   "id": "6cfefdc0",
   "metadata": {
    "tags": []
   },
   "outputs": [
    {
     "data": {
      "text/plain": [
       "Chern_Nums (generic function with 1 method)"
      ]
     },
     "execution_count": 26,
     "metadata": {},
     "output_type": "execute_result"
    }
   ],
   "source": [
    "# executeme\n",
    "\n",
    "function Chern_Nums(Tx, Ty, n1, n2)\n",
    "    \n",
    "    Sum=0\n",
    "    \n",
    "    for tx in range(start=1, stop=length(Tx))\n",
    "        for ty in range(start=1, stop=length(Ty))\n",
    "            \n",
    "            op = Op_Sp(Nx, Ny, 1/q, Tx[tx], Ty[ty])\n",
    "            H_mb = get_mb_op(basis_mb, op)\n",
    "            w1, v1 = eigen(dense(H_mb).data)\n",
    "            i = sortperm(w1, by=real);w1 = w1[i];v1 = v1[:,i]\n",
    "            v1 = v1[:,n1:n2]\n",
    "            \n",
    "            #------------------------------------\n",
    "            op = Op_Sp(Nx, Ny, 1/q, Tx[tx]+dx, Ty[ty])\n",
    "            H_mb = get_mb_op(basis_mb, op)\n",
    "            w2, v2 = eigen(dense(H_mb).data)\n",
    "            i = sortperm(w2, by=real);w2 = w2[i];v2 = v2[:,i]\n",
    "            v2 = v2[:,n1:n2]\n",
    "            \n",
    "            #------------------------------------\n",
    "            op = Op_Sp(Nx, Ny, 1/q, Tx[tx], Ty[ty]+dy)\n",
    "            H_mb = get_mb_op(basis_mb, op)\n",
    "            w3, v3 = eigen(dense(H_mb).data)\n",
    "            i = sortperm(w3, by=real);w3 = w3[i];v3 = v3[:,i]\n",
    "            v3 = v3[:,n1:n2]\n",
    "            \n",
    "            #------------------------------------\n",
    "            op = Op_Sp(Nx, Ny, 1/q, Tx[tx]+dx, Ty[ty]+dy)\n",
    "            H_mb = get_mb_op(basis_mb, op)\n",
    "            w4, v4 = eigen(dense(H_mb).data)\n",
    "            i = sortperm(w4, by=real);w4 = w4[i];v4 = v4[:,i]\n",
    "            v4 = v4[:,n1:n2]\n",
    "            \n",
    "            #----------LINK VARIABLES------------\n",
    "            U1=det(adjoint(v1)*v2)\n",
    "            U1=U1/abs(U1)\n",
    "            U2=det(adjoint(v2)*v4)\n",
    "            U2=U2/abs(U2)\n",
    "            U3=det(adjoint(v3)*v4)\n",
    "            U3=U3/abs(U3)\n",
    "            U4=det(adjoint(v1)*v3)\n",
    "            U4=U4/abs(U4)\n",
    "            \n",
    "            #----------BERRY CURVATURE-----------\n",
    "            F=log(U1*U2*1/U3*1/U4)\n",
    "            Sum=Sum+F\n",
    "            \n",
    "        end\n",
    "    end\n",
    "    \n",
    "    return 1/(2*pi*1im)*Sum\n",
    "end"
   ]
  },
  {
   "cell_type": "code",
   "execution_count": 32,
   "id": "ebe7913c-4c43-4df5-8f51-4e6bf29002fb",
   "metadata": {},
   "outputs": [
    {
     "data": {
      "text/plain": [
       "1.0 - 3.131376182970833e-16im"
      ]
     },
     "execution_count": 32,
     "metadata": {},
     "output_type": "execute_result"
    }
   ],
   "source": [
    "Chern_Nums(Tx, Ty, 21, 25)"
   ]
  },
  {
   "cell_type": "code",
   "execution_count": null,
   "id": "baa4ba57-8882-4c23-9622-b8724f9ed851",
   "metadata": {},
   "outputs": [],
   "source": []
  }
 ],
 "metadata": {
  "kernelspec": {
   "display_name": "Julia 1.7.2",
   "language": "julia",
   "name": "julia-1.7"
  },
  "language_info": {
   "file_extension": ".jl",
   "mimetype": "application/julia",
   "name": "julia",
   "version": "1.7.2"
  }
 },
 "nbformat": 4,
 "nbformat_minor": 5
}
