{
 "cells": [
  {
   "cell_type": "markdown",
   "id": "ebf138a2-39bb-495b-8859-4d1125f85231",
   "metadata": {},
   "source": [
    "Many-Body Chern Number without Integration\n",
    "\n",
    "Koji Kudo, Haruki Watanabe, Toshikaze Kariyado, and Yasuhiro Hatsugai\n",
    "\n",
    "Phys. Rev. Lett. 122, 146601 – Published 9 April 2019\n",
    "\n",
    "https://journals.aps.org/prl/abstract/10.1103/PhysRevLett.122.146601"
   ]
  },
  {
   "cell_type": "code",
   "execution_count": 1,
   "id": "551e4ff7",
   "metadata": {
    "tags": []
   },
   "outputs": [
    {
     "data": {
      "text/plain": [
       "HSP_T (generic function with 1 method)"
      ]
     },
     "execution_count": 1,
     "metadata": {},
     "output_type": "execute_result"
    }
   ],
   "source": [
    "using NBInclude\n",
    "@nbinclude(\"Hofstadter Single Particle in Theta Space.ipynb\")"
   ]
  },
  {
   "cell_type": "code",
   "execution_count": 2,
   "id": "44a15cd8-7a16-415e-8da9-8a6db7d909b3",
   "metadata": {
    "tags": []
   },
   "outputs": [],
   "source": [
    "using QuantumOptics"
   ]
  },
  {
   "cell_type": "markdown",
   "id": "2f5f1c69-9ba2-4662-acda-c627f7dfc991",
   "metadata": {},
   "source": [
    "## Initial Parameters"
   ]
  },
  {
   "cell_type": "code",
   "execution_count": 3,
   "id": "cb0bce07-7d7e-4e81-80a7-7d5614c14e6b",
   "metadata": {
    "tags": []
   },
   "outputs": [],
   "source": [
    "Nx=4;Ny=4;N=Nx*Ny;q=Ny;PN=2;T_size=10;"
   ]
  },
  {
   "cell_type": "markdown",
   "id": "4b6afe62-2fb0-45e3-9ca0-865be87f22bf",
   "metadata": {},
   "source": [
    "## Create Single-Particle Operator"
   ]
  },
  {
   "cell_type": "code",
   "execution_count": 4,
   "id": "af068119",
   "metadata": {
    "tags": []
   },
   "outputs": [
    {
     "data": {
      "text/plain": [
       "Op_Sp (generic function with 1 method)"
      ]
     },
     "execution_count": 4,
     "metadata": {},
     "output_type": "execute_result"
    }
   ],
   "source": [
    "function Op_Sp(Nx, Ny, alpha, Tx, Ty)\n",
    "        \n",
    "    H_T = HSP_T(Nx, Ny, alpha, Tx, Ty, 0)\n",
    "    \n",
    "    basis = NLevelBasis(N) \n",
    "    \n",
    "    H = SparseOperator(basis)\n",
    "    \n",
    "    for m in 1:N\n",
    "        for n in 1:N\n",
    "            H = H + H_T[m,n] * transition(basis, m, n)\n",
    "        end\n",
    "    end\n",
    "    \n",
    "    return H\n",
    "end"
   ]
  },
  {
   "cell_type": "code",
   "execution_count": 5,
   "id": "2567a5e2-4d54-41ae-950b-8fa96ee83ea5",
   "metadata": {},
   "outputs": [
    {
     "data": {
      "text/plain": [
       "true"
      ]
     },
     "execution_count": 5,
     "metadata": {},
     "output_type": "execute_result"
    }
   ],
   "source": [
    "# CHECK: Operator Form\n",
    "using LinearAlgebra\n",
    "Tx=Ty=0\n",
    "op = Op_Sp(Nx, Ny, 1/q, Tx, Ty)\n",
    "eigenenergies(dense(op)) == eigvals(HSP_T(Nx, Ny, 1/q, Tx, Ty, 0))"
   ]
  },
  {
   "cell_type": "markdown",
   "id": "5841609b-5be8-4f1f-8e7c-ac0969025bdf",
   "metadata": {},
   "source": [
    "## Create Many-Basis for Hard-Core Interaction"
   ]
  },
  {
   "cell_type": "code",
   "execution_count": 6,
   "id": "c4edf9d5-1b11-4fc7-b3e8-c44f148441a9",
   "metadata": {},
   "outputs": [],
   "source": [
    "basis = NLevelBasis(N)\n",
    "states = fermionstates(basis, PN)\n",
    "basis_mb = ManyBodyBasis(basis, states)\n",
    "\n",
    "function get_mb_op(basis_mb, op)\n",
    "    H_mb2 = SparseOperator(basis_mb) \n",
    "    for m in 1:N\n",
    "        for n in 1:N\n",
    "            H_mb2 += op.data[m,n] * transition(basis_mb, m, n)\n",
    "        end\n",
    "    end\n",
    "    \n",
    "    return H_mb2\n",
    "end\n",
    "\n",
    "H_mb = get_mb_op(basis_mb, op);"
   ]
  },
  {
   "cell_type": "code",
   "execution_count": 7,
   "id": "77d0924f-ce0f-4528-bdd9-49f804dbae33",
   "metadata": {
    "tags": []
   },
   "outputs": [
    {
     "data": {
      "text/plain": [
       "false"
      ]
     },
     "execution_count": 7,
     "metadata": {},
     "output_type": "execute_result"
    }
   ],
   "source": [
    "# CHECK: MB Structure (PN=1)\n",
    "eigenenergies(dense(H_mb)) == eigvals(HSP_T(Nx, Ny, 1/q, Tx, Ty, 0))"
   ]
  },
  {
   "cell_type": "markdown",
   "id": "e5b48d1a-fac0-48a4-8c87-8b3e96a3648c",
   "metadata": {},
   "source": [
    "## Crete Mesh of Twisted-Angle Space"
   ]
  },
  {
   "cell_type": "markdown",
   "id": "4525b8ef-b394-4d86-9c95-75cfa497790e",
   "metadata": {},
   "source": [
    "\\begin{equation}\n",
    "\\theta_\\mu = \\frac{2\\pi}{N_\\theta}n_\\mu\n",
    "\\end{equation}"
   ]
  },
  {
   "cell_type": "code",
   "execution_count": 8,
   "id": "a1a0b77b-1375-4b5b-8425-1d52712c807d",
   "metadata": {
    "tags": []
   },
   "outputs": [],
   "source": [
    "dx=2*pi/T_size\n",
    "dy=dx\n",
    "Tx=collect(range(start=0, stop=2*pi-dx, step=dx))\n",
    "Ty=collect(range(start=0, stop=2*pi-dy, step=dy));"
   ]
  },
  {
   "cell_type": "markdown",
   "id": "ff484e23-d75b-43b3-89fc-2929cf4add01",
   "metadata": {},
   "source": [
    "## Energies of Many-Body Hofstadter Model"
   ]
  },
  {
   "cell_type": "code",
   "execution_count": 9,
   "id": "af9e4ecd-03d5-46a1-a7c8-18f7fca16d2f",
   "metadata": {
    "tags": []
   },
   "outputs": [
    {
     "data": {
      "image/svg+xml": [
       "<?xml version=\"1.0\" encoding=\"utf-8\"?>\n",
       "<svg xmlns=\"http://www.w3.org/2000/svg\" xmlns:xlink=\"http://www.w3.org/1999/xlink\" width=\"600\" height=\"400\" viewBox=\"0 0 2400 1600\">\n",
       "<defs>\n",
       "  <clipPath id=\"clip870\">\n",
       "    <rect x=\"0\" y=\"0\" width=\"2400\" height=\"1600\"/>\n",
       "  </clipPath>\n",
       "</defs>\n",
       "<path clip-path=\"url(#clip870)\" d=\"\n",
       "M0 1600 L2400 1600 L2400 0 L0 0  Z\n",
       "  \" fill=\"#ffffff\" fill-rule=\"evenodd\" fill-opacity=\"1\"/>\n",
       "<defs>\n",
       "  <clipPath id=\"clip871\">\n",
       "    <rect x=\"480\" y=\"0\" width=\"1681\" height=\"1600\"/>\n",
       "  </clipPath>\n",
       "</defs>\n",
       "<path clip-path=\"url(#clip870)\" d=\"\n",
       "M149.191 1486.45 L2352.76 1486.45 L2352.76 47.2441 L149.191 47.2441  Z\n",
       "  \" fill=\"#ffffff\" fill-rule=\"evenodd\" fill-opacity=\"1\"/>\n",
       "<defs>\n",
       "  <clipPath id=\"clip872\">\n",
       "    <rect x=\"149\" y=\"47\" width=\"2205\" height=\"1440\"/>\n",
       "  </clipPath>\n",
       "</defs>\n",
       "<polyline clip-path=\"url(#clip872)\" style=\"stroke:#000000; stroke-linecap:round; stroke-linejoin:round; stroke-width:2; stroke-opacity:0.1; fill:none\" points=\"\n",
       "  194.087,1486.45 194.087,47.2441 \n",
       "  \"/>\n",
       "<polyline clip-path=\"url(#clip872)\" style=\"stroke:#000000; stroke-linecap:round; stroke-linejoin:round; stroke-width:2; stroke-opacity:0.1; fill:none\" points=\"\n",
       "  630.817,1486.45 630.817,47.2441 \n",
       "  \"/>\n",
       "<polyline clip-path=\"url(#clip872)\" style=\"stroke:#000000; stroke-linecap:round; stroke-linejoin:round; stroke-width:2; stroke-opacity:0.1; fill:none\" points=\"\n",
       "  1067.55,1486.45 1067.55,47.2441 \n",
       "  \"/>\n",
       "<polyline clip-path=\"url(#clip872)\" style=\"stroke:#000000; stroke-linecap:round; stroke-linejoin:round; stroke-width:2; stroke-opacity:0.1; fill:none\" points=\"\n",
       "  1504.28,1486.45 1504.28,47.2441 \n",
       "  \"/>\n",
       "<polyline clip-path=\"url(#clip872)\" style=\"stroke:#000000; stroke-linecap:round; stroke-linejoin:round; stroke-width:2; stroke-opacity:0.1; fill:none\" points=\"\n",
       "  1941.01,1486.45 1941.01,47.2441 \n",
       "  \"/>\n",
       "<polyline clip-path=\"url(#clip870)\" style=\"stroke:#000000; stroke-linecap:round; stroke-linejoin:round; stroke-width:4; stroke-opacity:1; fill:none\" points=\"\n",
       "  149.191,1486.45 2352.76,1486.45 \n",
       "  \"/>\n",
       "<polyline clip-path=\"url(#clip870)\" style=\"stroke:#000000; stroke-linecap:round; stroke-linejoin:round; stroke-width:4; stroke-opacity:1; fill:none\" points=\"\n",
       "  194.087,1486.45 194.087,1467.55 \n",
       "  \"/>\n",
       "<polyline clip-path=\"url(#clip870)\" style=\"stroke:#000000; stroke-linecap:round; stroke-linejoin:round; stroke-width:4; stroke-opacity:1; fill:none\" points=\"\n",
       "  630.817,1486.45 630.817,1467.55 \n",
       "  \"/>\n",
       "<polyline clip-path=\"url(#clip870)\" style=\"stroke:#000000; stroke-linecap:round; stroke-linejoin:round; stroke-width:4; stroke-opacity:1; fill:none\" points=\"\n",
       "  1067.55,1486.45 1067.55,1467.55 \n",
       "  \"/>\n",
       "<polyline clip-path=\"url(#clip870)\" style=\"stroke:#000000; stroke-linecap:round; stroke-linejoin:round; stroke-width:4; stroke-opacity:1; fill:none\" points=\"\n",
       "  1504.28,1486.45 1504.28,1467.55 \n",
       "  \"/>\n",
       "<polyline clip-path=\"url(#clip870)\" style=\"stroke:#000000; stroke-linecap:round; stroke-linejoin:round; stroke-width:4; stroke-opacity:1; fill:none\" points=\"\n",
       "  1941.01,1486.45 1941.01,1467.55 \n",
       "  \"/>\n",
       "<path clip-path=\"url(#clip870)\" d=\"M194.087 1517.37 Q190.476 1517.37 188.647 1520.93 Q186.841 1524.47 186.841 1531.6 Q186.841 1538.71 188.647 1542.27 Q190.476 1545.82 194.087 1545.82 Q197.721 1545.82 199.526 1542.27 Q201.355 1538.71 201.355 1531.6 Q201.355 1524.47 199.526 1520.93 Q197.721 1517.37 194.087 1517.37 M194.087 1513.66 Q199.897 1513.66 202.952 1518.27 Q206.031 1522.85 206.031 1531.6 Q206.031 1540.33 202.952 1544.94 Q199.897 1549.52 194.087 1549.52 Q188.277 1549.52 185.198 1544.94 Q182.142 1540.33 182.142 1531.6 Q182.142 1522.85 185.198 1518.27 Q188.277 1513.66 194.087 1513.66 Z\" fill=\"#000000\" fill-rule=\"evenodd\" fill-opacity=\"1\" /><path clip-path=\"url(#clip870)\" d=\"M610.088 1544.91 L626.407 1544.91 L626.407 1548.85 L604.463 1548.85 L604.463 1544.91 Q607.125 1542.16 611.708 1537.53 Q616.315 1532.88 617.495 1531.53 Q619.74 1529.01 620.62 1527.27 Q621.523 1525.51 621.523 1523.82 Q621.523 1521.07 619.578 1519.33 Q617.657 1517.6 614.555 1517.6 Q612.356 1517.6 609.903 1518.36 Q607.472 1519.13 604.694 1520.68 L604.694 1515.95 Q607.518 1514.82 609.972 1514.24 Q612.426 1513.66 614.463 1513.66 Q619.833 1513.66 623.027 1516.35 Q626.222 1519.03 626.222 1523.52 Q626.222 1525.65 625.412 1527.57 Q624.625 1529.47 622.518 1532.07 Q621.939 1532.74 618.838 1535.95 Q615.736 1539.15 610.088 1544.91 Z\" fill=\"#000000\" fill-rule=\"evenodd\" fill-opacity=\"1\" /><path clip-path=\"url(#clip870)\" d=\"M636.268 1514.29 L654.624 1514.29 L654.624 1518.22 L640.55 1518.22 L640.55 1526.7 Q641.569 1526.35 642.588 1526.19 Q643.606 1526 644.625 1526 Q650.412 1526 653.791 1529.17 Q657.171 1532.34 657.171 1537.76 Q657.171 1543.34 653.699 1546.44 Q650.226 1549.52 643.907 1549.52 Q641.731 1549.52 639.463 1549.15 Q637.217 1548.78 634.81 1548.04 L634.81 1543.34 Q636.893 1544.47 639.115 1545.03 Q641.338 1545.58 643.814 1545.58 Q647.819 1545.58 650.157 1543.48 Q652.495 1541.37 652.495 1537.76 Q652.495 1534.15 650.157 1532.04 Q647.819 1529.94 643.814 1529.94 Q641.939 1529.94 640.064 1530.35 Q638.213 1530.77 636.268 1531.65 L636.268 1514.29 Z\" fill=\"#000000\" fill-rule=\"evenodd\" fill-opacity=\"1\" /><path clip-path=\"url(#clip870)\" d=\"M1042.25 1514.29 L1060.6 1514.29 L1060.6 1518.22 L1046.53 1518.22 L1046.53 1526.7 Q1047.55 1526.35 1048.57 1526.19 Q1049.58 1526 1050.6 1526 Q1056.39 1526 1059.77 1529.17 Q1063.15 1532.34 1063.15 1537.76 Q1063.15 1543.34 1059.68 1546.44 Q1056.2 1549.52 1049.88 1549.52 Q1047.71 1549.52 1045.44 1549.15 Q1043.2 1548.78 1040.79 1548.04 L1040.79 1543.34 Q1042.87 1544.47 1045.09 1545.03 Q1047.32 1545.58 1049.79 1545.58 Q1053.8 1545.58 1056.13 1543.48 Q1058.47 1541.37 1058.47 1537.76 Q1058.47 1534.15 1056.13 1532.04 Q1053.8 1529.94 1049.79 1529.94 Q1047.92 1529.94 1046.04 1530.35 Q1044.19 1530.77 1042.25 1531.65 L1042.25 1514.29 Z\" fill=\"#000000\" fill-rule=\"evenodd\" fill-opacity=\"1\" /><path clip-path=\"url(#clip870)\" d=\"M1082.36 1517.37 Q1078.75 1517.37 1076.92 1520.93 Q1075.12 1524.47 1075.12 1531.6 Q1075.12 1538.71 1076.92 1542.27 Q1078.75 1545.82 1082.36 1545.82 Q1086 1545.82 1087.8 1542.27 Q1089.63 1538.71 1089.63 1531.6 Q1089.63 1524.47 1087.8 1520.93 Q1086 1517.37 1082.36 1517.37 M1082.36 1513.66 Q1088.17 1513.66 1091.23 1518.27 Q1094.31 1522.85 1094.31 1531.6 Q1094.31 1540.33 1091.23 1544.94 Q1088.17 1549.52 1082.36 1549.52 Q1076.55 1549.52 1073.47 1544.94 Q1070.42 1540.33 1070.42 1531.6 Q1070.42 1522.85 1073.47 1518.27 Q1076.55 1513.66 1082.36 1513.66 Z\" fill=\"#000000\" fill-rule=\"evenodd\" fill-opacity=\"1\" /><path clip-path=\"url(#clip870)\" d=\"M1478.13 1514.29 L1500.35 1514.29 L1500.35 1516.28 L1487.81 1548.85 L1482.92 1548.85 L1494.73 1518.22 L1478.13 1518.22 L1478.13 1514.29 Z\" fill=\"#000000\" fill-rule=\"evenodd\" fill-opacity=\"1\" /><path clip-path=\"url(#clip870)\" d=\"M1509.52 1514.29 L1527.88 1514.29 L1527.88 1518.22 L1513.8 1518.22 L1513.8 1526.7 Q1514.82 1526.35 1515.84 1526.19 Q1516.86 1526 1517.88 1526 Q1523.66 1526 1527.04 1529.17 Q1530.42 1532.34 1530.42 1537.76 Q1530.42 1543.34 1526.95 1546.44 Q1523.48 1549.52 1517.16 1549.52 Q1514.98 1549.52 1512.71 1549.15 Q1510.47 1548.78 1508.06 1548.04 L1508.06 1543.34 Q1510.14 1544.47 1512.37 1545.03 Q1514.59 1545.58 1517.07 1545.58 Q1521.07 1545.58 1523.41 1543.48 Q1525.75 1541.37 1525.75 1537.76 Q1525.75 1534.15 1523.41 1532.04 Q1521.07 1529.94 1517.07 1529.94 Q1515.19 1529.94 1513.32 1530.35 Q1511.46 1530.77 1509.52 1531.65 L1509.52 1514.29 Z\" fill=\"#000000\" fill-rule=\"evenodd\" fill-opacity=\"1\" /><path clip-path=\"url(#clip870)\" d=\"M1900.61 1544.91 L1908.25 1544.91 L1908.25 1518.55 L1899.94 1520.21 L1899.94 1515.95 L1908.21 1514.29 L1912.88 1514.29 L1912.88 1544.91 L1920.52 1544.91 L1920.52 1548.85 L1900.61 1548.85 L1900.61 1544.91 Z\" fill=\"#000000\" fill-rule=\"evenodd\" fill-opacity=\"1\" /><path clip-path=\"url(#clip870)\" d=\"M1939.97 1517.37 Q1936.35 1517.37 1934.53 1520.93 Q1932.72 1524.47 1932.72 1531.6 Q1932.72 1538.71 1934.53 1542.27 Q1936.35 1545.82 1939.97 1545.82 Q1943.6 1545.82 1945.4 1542.27 Q1947.23 1538.71 1947.23 1531.6 Q1947.23 1524.47 1945.4 1520.93 Q1943.6 1517.37 1939.97 1517.37 M1939.97 1513.66 Q1945.78 1513.66 1948.83 1518.27 Q1951.91 1522.85 1951.91 1531.6 Q1951.91 1540.33 1948.83 1544.94 Q1945.78 1549.52 1939.97 1549.52 Q1934.16 1549.52 1931.08 1544.94 Q1928.02 1540.33 1928.02 1531.6 Q1928.02 1522.85 1931.08 1518.27 Q1934.16 1513.66 1939.97 1513.66 Z\" fill=\"#000000\" fill-rule=\"evenodd\" fill-opacity=\"1\" /><path clip-path=\"url(#clip870)\" d=\"M1970.13 1517.37 Q1966.52 1517.37 1964.69 1520.93 Q1962.88 1524.47 1962.88 1531.6 Q1962.88 1538.71 1964.69 1542.27 Q1966.52 1545.82 1970.13 1545.82 Q1973.76 1545.82 1975.57 1542.27 Q1977.4 1538.71 1977.4 1531.6 Q1977.4 1524.47 1975.57 1520.93 Q1973.76 1517.37 1970.13 1517.37 M1970.13 1513.66 Q1975.94 1513.66 1978.99 1518.27 Q1982.07 1522.85 1982.07 1531.6 Q1982.07 1540.33 1978.99 1544.94 Q1975.94 1549.52 1970.13 1549.52 Q1964.32 1549.52 1961.24 1544.94 Q1958.18 1540.33 1958.18 1531.6 Q1958.18 1522.85 1961.24 1518.27 Q1964.32 1513.66 1970.13 1513.66 Z\" fill=\"#000000\" fill-rule=\"evenodd\" fill-opacity=\"1\" /><polyline clip-path=\"url(#clip872)\" style=\"stroke:#000000; stroke-linecap:round; stroke-linejoin:round; stroke-width:2; stroke-opacity:0.1; fill:none\" points=\"\n",
       "  149.191,1249.27 2352.76,1249.27 \n",
       "  \"/>\n",
       "<polyline clip-path=\"url(#clip872)\" style=\"stroke:#000000; stroke-linecap:round; stroke-linejoin:round; stroke-width:2; stroke-opacity:0.1; fill:none\" points=\"\n",
       "  149.191,1008.06 2352.76,1008.06 \n",
       "  \"/>\n",
       "<polyline clip-path=\"url(#clip872)\" style=\"stroke:#000000; stroke-linecap:round; stroke-linejoin:round; stroke-width:2; stroke-opacity:0.1; fill:none\" points=\"\n",
       "  149.191,766.846 2352.76,766.846 \n",
       "  \"/>\n",
       "<polyline clip-path=\"url(#clip872)\" style=\"stroke:#000000; stroke-linecap:round; stroke-linejoin:round; stroke-width:2; stroke-opacity:0.1; fill:none\" points=\"\n",
       "  149.191,525.634 2352.76,525.634 \n",
       "  \"/>\n",
       "<polyline clip-path=\"url(#clip872)\" style=\"stroke:#000000; stroke-linecap:round; stroke-linejoin:round; stroke-width:2; stroke-opacity:0.1; fill:none\" points=\"\n",
       "  149.191,284.422 2352.76,284.422 \n",
       "  \"/>\n",
       "<polyline clip-path=\"url(#clip870)\" style=\"stroke:#000000; stroke-linecap:round; stroke-linejoin:round; stroke-width:4; stroke-opacity:1; fill:none\" points=\"\n",
       "  149.191,1486.45 149.191,47.2441 \n",
       "  \"/>\n",
       "<polyline clip-path=\"url(#clip870)\" style=\"stroke:#000000; stroke-linecap:round; stroke-linejoin:round; stroke-width:4; stroke-opacity:1; fill:none\" points=\"\n",
       "  149.191,1249.27 168.089,1249.27 \n",
       "  \"/>\n",
       "<polyline clip-path=\"url(#clip870)\" style=\"stroke:#000000; stroke-linecap:round; stroke-linejoin:round; stroke-width:4; stroke-opacity:1; fill:none\" points=\"\n",
       "  149.191,1008.06 168.089,1008.06 \n",
       "  \"/>\n",
       "<polyline clip-path=\"url(#clip870)\" style=\"stroke:#000000; stroke-linecap:round; stroke-linejoin:round; stroke-width:4; stroke-opacity:1; fill:none\" points=\"\n",
       "  149.191,766.846 168.089,766.846 \n",
       "  \"/>\n",
       "<polyline clip-path=\"url(#clip870)\" style=\"stroke:#000000; stroke-linecap:round; stroke-linejoin:round; stroke-width:4; stroke-opacity:1; fill:none\" points=\"\n",
       "  149.191,525.634 168.089,525.634 \n",
       "  \"/>\n",
       "<polyline clip-path=\"url(#clip870)\" style=\"stroke:#000000; stroke-linecap:round; stroke-linejoin:round; stroke-width:4; stroke-opacity:1; fill:none\" points=\"\n",
       "  149.191,284.422 168.089,284.422 \n",
       "  \"/>\n",
       "<path clip-path=\"url(#clip870)\" d=\"M50.9921 1249.72 L80.6679 1249.72 L80.6679 1253.66 L50.9921 1253.66 L50.9921 1249.72 Z\" fill=\"#000000\" fill-rule=\"evenodd\" fill-opacity=\"1\" /><path clip-path=\"url(#clip870)\" d=\"M103.608 1236.06 L91.8021 1254.51 L103.608 1254.51 L103.608 1236.06 M102.381 1231.99 L108.26 1231.99 L108.26 1254.51 L113.191 1254.51 L113.191 1258.4 L108.26 1258.4 L108.26 1266.55 L103.608 1266.55 L103.608 1258.4 L88.0058 1258.4 L88.0058 1253.89 L102.381 1231.99 Z\" fill=\"#000000\" fill-rule=\"evenodd\" fill-opacity=\"1\" /><path clip-path=\"url(#clip870)\" d=\"M53.0754 1008.51 L82.7512 1008.51 L82.7512 1012.44 L53.0754 1012.44 L53.0754 1008.51 Z\" fill=\"#000000\" fill-rule=\"evenodd\" fill-opacity=\"1\" /><path clip-path=\"url(#clip870)\" d=\"M96.8715 1021.4 L113.191 1021.4 L113.191 1025.34 L91.2465 1025.34 L91.2465 1021.4 Q93.9086 1018.65 98.4919 1014.02 Q103.098 1009.37 104.279 1008.02 Q106.524 1005.5 107.404 1003.76 Q108.307 1002.01 108.307 1000.32 Q108.307 997.561 106.362 995.824 Q104.441 994.088 101.339 994.088 Q99.14 994.088 96.6863 994.852 Q94.2558 995.616 91.478 997.167 L91.478 992.445 Q94.3021 991.311 96.7558 990.732 Q99.2095 990.153 101.246 990.153 Q106.617 990.153 109.811 992.838 Q113.006 995.524 113.006 1000.01 Q113.006 1002.14 112.196 1004.07 Q111.408 1005.96 109.302 1008.56 Q108.723 1009.23 105.621 1012.44 Q102.52 1015.64 96.8715 1021.4 Z\" fill=\"#000000\" fill-rule=\"evenodd\" fill-opacity=\"1\" /><path clip-path=\"url(#clip870)\" d=\"M101.246 752.645 Q97.6354 752.645 95.8067 756.209 Q94.0012 759.751 94.0012 766.881 Q94.0012 773.987 95.8067 777.552 Q97.6354 781.094 101.246 781.094 Q104.881 781.094 106.686 777.552 Q108.515 773.987 108.515 766.881 Q108.515 759.751 106.686 756.209 Q104.881 752.645 101.246 752.645 M101.246 748.941 Q107.057 748.941 110.112 753.547 Q113.191 758.131 113.191 766.881 Q113.191 775.608 110.112 780.214 Q107.057 784.797 101.246 784.797 Q95.4363 784.797 92.3576 780.214 Q89.3021 775.608 89.3021 766.881 Q89.3021 758.131 92.3576 753.547 Q95.4363 748.941 101.246 748.941 Z\" fill=\"#000000\" fill-rule=\"evenodd\" fill-opacity=\"1\" /><path clip-path=\"url(#clip870)\" d=\"M96.8715 538.979 L113.191 538.979 L113.191 542.914 L91.2465 542.914 L91.2465 538.979 Q93.9086 536.224 98.4919 531.594 Q103.098 526.942 104.279 525.599 Q106.524 523.076 107.404 521.34 Q108.307 519.581 108.307 517.891 Q108.307 515.136 106.362 513.4 Q104.441 511.664 101.339 511.664 Q99.14 511.664 96.6863 512.428 Q94.2558 513.192 91.478 514.743 L91.478 510.02 Q94.3021 508.886 96.7558 508.307 Q99.2095 507.729 101.246 507.729 Q106.617 507.729 109.811 510.414 Q113.006 513.099 113.006 517.59 Q113.006 519.719 112.196 521.641 Q111.408 523.539 109.302 526.131 Q108.723 526.803 105.621 530.02 Q102.52 533.215 96.8715 538.979 Z\" fill=\"#000000\" fill-rule=\"evenodd\" fill-opacity=\"1\" /><path clip-path=\"url(#clip870)\" d=\"M103.608 271.216 L91.8021 289.665 L103.608 289.665 L103.608 271.216 M102.381 267.142 L108.26 267.142 L108.26 289.665 L113.191 289.665 L113.191 293.553 L108.26 293.553 L108.26 301.702 L103.608 301.702 L103.608 293.553 L88.0058 293.553 L88.0058 289.04 L102.381 267.142 Z\" fill=\"#000000\" fill-rule=\"evenodd\" fill-opacity=\"1\" /><circle clip-path=\"url(#clip872)\" cx=\"211.556\" cy=\"1445.72\" r=\"14.4\" fill=\"#009af9\" fill-rule=\"evenodd\" fill-opacity=\"1\" stroke=\"#000000\" stroke-opacity=\"1\" stroke-width=\"3.2\"/>\n",
       "<circle clip-path=\"url(#clip872)\" cx=\"229.025\" cy=\"1445.72\" r=\"14.4\" fill=\"#009af9\" fill-rule=\"evenodd\" fill-opacity=\"1\" stroke=\"#000000\" stroke-opacity=\"1\" stroke-width=\"3.2\"/>\n",
       "<circle clip-path=\"url(#clip872)\" cx=\"246.494\" cy=\"1412.39\" r=\"14.4\" fill=\"#009af9\" fill-rule=\"evenodd\" fill-opacity=\"1\" stroke=\"#000000\" stroke-opacity=\"1\" stroke-width=\"3.2\"/>\n",
       "<circle clip-path=\"url(#clip872)\" cx=\"263.964\" cy=\"1412.39\" r=\"14.4\" fill=\"#009af9\" fill-rule=\"evenodd\" fill-opacity=\"1\" stroke=\"#000000\" stroke-opacity=\"1\" stroke-width=\"3.2\"/>\n",
       "<circle clip-path=\"url(#clip872)\" cx=\"281.433\" cy=\"1375.75\" r=\"14.4\" fill=\"#009af9\" fill-rule=\"evenodd\" fill-opacity=\"1\" stroke=\"#000000\" stroke-opacity=\"1\" stroke-width=\"3.2\"/>\n",
       "<circle clip-path=\"url(#clip872)\" cx=\"298.902\" cy=\"1375.75\" r=\"14.4\" fill=\"#009af9\" fill-rule=\"evenodd\" fill-opacity=\"1\" stroke=\"#000000\" stroke-opacity=\"1\" stroke-width=\"3.2\"/>\n",
       "<circle clip-path=\"url(#clip872)\" cx=\"316.371\" cy=\"1375.75\" r=\"14.4\" fill=\"#009af9\" fill-rule=\"evenodd\" fill-opacity=\"1\" stroke=\"#000000\" stroke-opacity=\"1\" stroke-width=\"3.2\"/>\n",
       "<circle clip-path=\"url(#clip872)\" cx=\"333.84\" cy=\"1375.75\" r=\"14.4\" fill=\"#009af9\" fill-rule=\"evenodd\" fill-opacity=\"1\" stroke=\"#000000\" stroke-opacity=\"1\" stroke-width=\"3.2\"/>\n",
       "<circle clip-path=\"url(#clip872)\" cx=\"351.31\" cy=\"1330.18\" r=\"14.4\" fill=\"#009af9\" fill-rule=\"evenodd\" fill-opacity=\"1\" stroke=\"#000000\" stroke-opacity=\"1\" stroke-width=\"3.2\"/>\n",
       "<circle clip-path=\"url(#clip872)\" cx=\"368.779\" cy=\"1330.18\" r=\"14.4\" fill=\"#009af9\" fill-rule=\"evenodd\" fill-opacity=\"1\" stroke=\"#000000\" stroke-opacity=\"1\" stroke-width=\"3.2\"/>\n",
       "<circle clip-path=\"url(#clip872)\" cx=\"386.248\" cy=\"1107.97\" r=\"14.4\" fill=\"#009af9\" fill-rule=\"evenodd\" fill-opacity=\"1\" stroke=\"#000000\" stroke-opacity=\"1\" stroke-width=\"3.2\"/>\n",
       "<circle clip-path=\"url(#clip872)\" cx=\"403.717\" cy=\"1107.97\" r=\"14.4\" fill=\"#009af9\" fill-rule=\"evenodd\" fill-opacity=\"1\" stroke=\"#000000\" stroke-opacity=\"1\" stroke-width=\"3.2\"/>\n",
       "<circle clip-path=\"url(#clip872)\" cx=\"421.186\" cy=\"1107.97\" r=\"14.4\" fill=\"#009af9\" fill-rule=\"evenodd\" fill-opacity=\"1\" stroke=\"#000000\" stroke-opacity=\"1\" stroke-width=\"3.2\"/>\n",
       "<circle clip-path=\"url(#clip872)\" cx=\"438.656\" cy=\"1107.97\" r=\"14.4\" fill=\"#009af9\" fill-rule=\"evenodd\" fill-opacity=\"1\" stroke=\"#000000\" stroke-opacity=\"1\" stroke-width=\"3.2\"/>\n",
       "<circle clip-path=\"url(#clip872)\" cx=\"456.125\" cy=\"1107.97\" r=\"14.4\" fill=\"#009af9\" fill-rule=\"evenodd\" fill-opacity=\"1\" stroke=\"#000000\" stroke-opacity=\"1\" stroke-width=\"3.2\"/>\n",
       "<circle clip-path=\"url(#clip872)\" cx=\"473.594\" cy=\"1107.97\" r=\"14.4\" fill=\"#009af9\" fill-rule=\"evenodd\" fill-opacity=\"1\" stroke=\"#000000\" stroke-opacity=\"1\" stroke-width=\"3.2\"/>\n",
       "<circle clip-path=\"url(#clip872)\" cx=\"491.063\" cy=\"1107.97\" r=\"14.4\" fill=\"#009af9\" fill-rule=\"evenodd\" fill-opacity=\"1\" stroke=\"#000000\" stroke-opacity=\"1\" stroke-width=\"3.2\"/>\n",
       "<circle clip-path=\"url(#clip872)\" cx=\"508.532\" cy=\"1107.97\" r=\"14.4\" fill=\"#009af9\" fill-rule=\"evenodd\" fill-opacity=\"1\" stroke=\"#000000\" stroke-opacity=\"1\" stroke-width=\"3.2\"/>\n",
       "<circle clip-path=\"url(#clip872)\" cx=\"526.002\" cy=\"1107.97\" r=\"14.4\" fill=\"#009af9\" fill-rule=\"evenodd\" fill-opacity=\"1\" stroke=\"#000000\" stroke-opacity=\"1\" stroke-width=\"3.2\"/>\n",
       "<circle clip-path=\"url(#clip872)\" cx=\"543.471\" cy=\"1107.97\" r=\"14.4\" fill=\"#009af9\" fill-rule=\"evenodd\" fill-opacity=\"1\" stroke=\"#000000\" stroke-opacity=\"1\" stroke-width=\"3.2\"/>\n",
       "<circle clip-path=\"url(#clip872)\" cx=\"560.94\" cy=\"1107.97\" r=\"14.4\" fill=\"#009af9\" fill-rule=\"evenodd\" fill-opacity=\"1\" stroke=\"#000000\" stroke-opacity=\"1\" stroke-width=\"3.2\"/>\n",
       "<circle clip-path=\"url(#clip872)\" cx=\"578.409\" cy=\"1107.97\" r=\"14.4\" fill=\"#009af9\" fill-rule=\"evenodd\" fill-opacity=\"1\" stroke=\"#000000\" stroke-opacity=\"1\" stroke-width=\"3.2\"/>\n",
       "<circle clip-path=\"url(#clip872)\" cx=\"595.878\" cy=\"1107.97\" r=\"14.4\" fill=\"#009af9\" fill-rule=\"evenodd\" fill-opacity=\"1\" stroke=\"#000000\" stroke-opacity=\"1\" stroke-width=\"3.2\"/>\n",
       "<circle clip-path=\"url(#clip872)\" cx=\"613.348\" cy=\"1107.97\" r=\"14.4\" fill=\"#009af9\" fill-rule=\"evenodd\" fill-opacity=\"1\" stroke=\"#000000\" stroke-opacity=\"1\" stroke-width=\"3.2\"/>\n",
       "<circle clip-path=\"url(#clip872)\" cx=\"630.817\" cy=\"1107.97\" r=\"14.4\" fill=\"#009af9\" fill-rule=\"evenodd\" fill-opacity=\"1\" stroke=\"#000000\" stroke-opacity=\"1\" stroke-width=\"3.2\"/>\n",
       "<circle clip-path=\"url(#clip872)\" cx=\"648.286\" cy=\"1107.97\" r=\"14.4\" fill=\"#009af9\" fill-rule=\"evenodd\" fill-opacity=\"1\" stroke=\"#000000\" stroke-opacity=\"1\" stroke-width=\"3.2\"/>\n",
       "<circle clip-path=\"url(#clip872)\" cx=\"665.755\" cy=\"1061.61\" r=\"14.4\" fill=\"#009af9\" fill-rule=\"evenodd\" fill-opacity=\"1\" stroke=\"#000000\" stroke-opacity=\"1\" stroke-width=\"3.2\"/>\n",
       "<circle clip-path=\"url(#clip872)\" cx=\"683.224\" cy=\"1061.61\" r=\"14.4\" fill=\"#009af9\" fill-rule=\"evenodd\" fill-opacity=\"1\" stroke=\"#000000\" stroke-opacity=\"1\" stroke-width=\"3.2\"/>\n",
       "<circle clip-path=\"url(#clip872)\" cx=\"700.694\" cy=\"1023.43\" r=\"14.4\" fill=\"#009af9\" fill-rule=\"evenodd\" fill-opacity=\"1\" stroke=\"#000000\" stroke-opacity=\"1\" stroke-width=\"3.2\"/>\n",
       "<circle clip-path=\"url(#clip872)\" cx=\"718.163\" cy=\"1023.43\" r=\"14.4\" fill=\"#009af9\" fill-rule=\"evenodd\" fill-opacity=\"1\" stroke=\"#000000\" stroke-opacity=\"1\" stroke-width=\"3.2\"/>\n",
       "<circle clip-path=\"url(#clip872)\" cx=\"735.632\" cy=\"1008.06\" r=\"14.4\" fill=\"#009af9\" fill-rule=\"evenodd\" fill-opacity=\"1\" stroke=\"#000000\" stroke-opacity=\"1\" stroke-width=\"3.2\"/>\n",
       "<circle clip-path=\"url(#clip872)\" cx=\"753.101\" cy=\"1008.06\" r=\"14.4\" fill=\"#009af9\" fill-rule=\"evenodd\" fill-opacity=\"1\" stroke=\"#000000\" stroke-opacity=\"1\" stroke-width=\"3.2\"/>\n",
       "<circle clip-path=\"url(#clip872)\" cx=\"770.57\" cy=\"1008.06\" r=\"14.4\" fill=\"#009af9\" fill-rule=\"evenodd\" fill-opacity=\"1\" stroke=\"#000000\" stroke-opacity=\"1\" stroke-width=\"3.2\"/>\n",
       "<circle clip-path=\"url(#clip872)\" cx=\"788.04\" cy=\"1008.06\" r=\"14.4\" fill=\"#009af9\" fill-rule=\"evenodd\" fill-opacity=\"1\" stroke=\"#000000\" stroke-opacity=\"1\" stroke-width=\"3.2\"/>\n",
       "<circle clip-path=\"url(#clip872)\" cx=\"805.509\" cy=\"987.621\" r=\"14.4\" fill=\"#009af9\" fill-rule=\"evenodd\" fill-opacity=\"1\" stroke=\"#000000\" stroke-opacity=\"1\" stroke-width=\"3.2\"/>\n",
       "<circle clip-path=\"url(#clip872)\" cx=\"822.978\" cy=\"987.621\" r=\"14.4\" fill=\"#009af9\" fill-rule=\"evenodd\" fill-opacity=\"1\" stroke=\"#000000\" stroke-opacity=\"1\" stroke-width=\"3.2\"/>\n",
       "<circle clip-path=\"url(#clip872)\" cx=\"840.447\" cy=\"957.955\" r=\"14.4\" fill=\"#009af9\" fill-rule=\"evenodd\" fill-opacity=\"1\" stroke=\"#000000\" stroke-opacity=\"1\" stroke-width=\"3.2\"/>\n",
       "<circle clip-path=\"url(#clip872)\" cx=\"857.916\" cy=\"957.955\" r=\"14.4\" fill=\"#009af9\" fill-rule=\"evenodd\" fill-opacity=\"1\" stroke=\"#000000\" stroke-opacity=\"1\" stroke-width=\"3.2\"/>\n",
       "<circle clip-path=\"url(#clip872)\" cx=\"875.386\" cy=\"957.955\" r=\"14.4\" fill=\"#009af9\" fill-rule=\"evenodd\" fill-opacity=\"1\" stroke=\"#000000\" stroke-opacity=\"1\" stroke-width=\"3.2\"/>\n",
       "<circle clip-path=\"url(#clip872)\" cx=\"892.855\" cy=\"957.955\" r=\"14.4\" fill=\"#009af9\" fill-rule=\"evenodd\" fill-opacity=\"1\" stroke=\"#000000\" stroke-opacity=\"1\" stroke-width=\"3.2\"/>\n",
       "<circle clip-path=\"url(#clip872)\" cx=\"910.324\" cy=\"766.846\" r=\"14.4\" fill=\"#009af9\" fill-rule=\"evenodd\" fill-opacity=\"1\" stroke=\"#000000\" stroke-opacity=\"1\" stroke-width=\"3.2\"/>\n",
       "<circle clip-path=\"url(#clip872)\" cx=\"927.793\" cy=\"766.846\" r=\"14.4\" fill=\"#009af9\" fill-rule=\"evenodd\" fill-opacity=\"1\" stroke=\"#000000\" stroke-opacity=\"1\" stroke-width=\"3.2\"/>\n",
       "<circle clip-path=\"url(#clip872)\" cx=\"945.262\" cy=\"766.846\" r=\"14.4\" fill=\"#009af9\" fill-rule=\"evenodd\" fill-opacity=\"1\" stroke=\"#000000\" stroke-opacity=\"1\" stroke-width=\"3.2\"/>\n",
       "<circle clip-path=\"url(#clip872)\" cx=\"962.732\" cy=\"766.846\" r=\"14.4\" fill=\"#009af9\" fill-rule=\"evenodd\" fill-opacity=\"1\" stroke=\"#000000\" stroke-opacity=\"1\" stroke-width=\"3.2\"/>\n",
       "<circle clip-path=\"url(#clip872)\" cx=\"980.201\" cy=\"766.846\" r=\"14.4\" fill=\"#009af9\" fill-rule=\"evenodd\" fill-opacity=\"1\" stroke=\"#000000\" stroke-opacity=\"1\" stroke-width=\"3.2\"/>\n",
       "<circle clip-path=\"url(#clip872)\" cx=\"997.67\" cy=\"766.846\" r=\"14.4\" fill=\"#009af9\" fill-rule=\"evenodd\" fill-opacity=\"1\" stroke=\"#000000\" stroke-opacity=\"1\" stroke-width=\"3.2\"/>\n",
       "<circle clip-path=\"url(#clip872)\" cx=\"1015.14\" cy=\"766.846\" r=\"14.4\" fill=\"#009af9\" fill-rule=\"evenodd\" fill-opacity=\"1\" stroke=\"#000000\" stroke-opacity=\"1\" stroke-width=\"3.2\"/>\n",
       "<circle clip-path=\"url(#clip872)\" cx=\"1032.61\" cy=\"766.846\" r=\"14.4\" fill=\"#009af9\" fill-rule=\"evenodd\" fill-opacity=\"1\" stroke=\"#000000\" stroke-opacity=\"1\" stroke-width=\"3.2\"/>\n",
       "<circle clip-path=\"url(#clip872)\" cx=\"1050.08\" cy=\"766.846\" r=\"14.4\" fill=\"#009af9\" fill-rule=\"evenodd\" fill-opacity=\"1\" stroke=\"#000000\" stroke-opacity=\"1\" stroke-width=\"3.2\"/>\n",
       "<circle clip-path=\"url(#clip872)\" cx=\"1067.55\" cy=\"766.846\" r=\"14.4\" fill=\"#009af9\" fill-rule=\"evenodd\" fill-opacity=\"1\" stroke=\"#000000\" stroke-opacity=\"1\" stroke-width=\"3.2\"/>\n",
       "<circle clip-path=\"url(#clip872)\" cx=\"1085.02\" cy=\"766.846\" r=\"14.4\" fill=\"#009af9\" fill-rule=\"evenodd\" fill-opacity=\"1\" stroke=\"#000000\" stroke-opacity=\"1\" stroke-width=\"3.2\"/>\n",
       "<circle clip-path=\"url(#clip872)\" cx=\"1102.49\" cy=\"766.846\" r=\"14.4\" fill=\"#009af9\" fill-rule=\"evenodd\" fill-opacity=\"1\" stroke=\"#000000\" stroke-opacity=\"1\" stroke-width=\"3.2\"/>\n",
       "<circle clip-path=\"url(#clip872)\" cx=\"1119.95\" cy=\"766.846\" r=\"14.4\" fill=\"#009af9\" fill-rule=\"evenodd\" fill-opacity=\"1\" stroke=\"#000000\" stroke-opacity=\"1\" stroke-width=\"3.2\"/>\n",
       "<circle clip-path=\"url(#clip872)\" cx=\"1137.42\" cy=\"766.846\" r=\"14.4\" fill=\"#009af9\" fill-rule=\"evenodd\" fill-opacity=\"1\" stroke=\"#000000\" stroke-opacity=\"1\" stroke-width=\"3.2\"/>\n",
       "<circle clip-path=\"url(#clip872)\" cx=\"1154.89\" cy=\"766.846\" r=\"14.4\" fill=\"#009af9\" fill-rule=\"evenodd\" fill-opacity=\"1\" stroke=\"#000000\" stroke-opacity=\"1\" stroke-width=\"3.2\"/>\n",
       "<circle clip-path=\"url(#clip872)\" cx=\"1172.36\" cy=\"766.846\" r=\"14.4\" fill=\"#009af9\" fill-rule=\"evenodd\" fill-opacity=\"1\" stroke=\"#000000\" stroke-opacity=\"1\" stroke-width=\"3.2\"/>\n",
       "<circle clip-path=\"url(#clip872)\" cx=\"1189.83\" cy=\"766.846\" r=\"14.4\" fill=\"#009af9\" fill-rule=\"evenodd\" fill-opacity=\"1\" stroke=\"#000000\" stroke-opacity=\"1\" stroke-width=\"3.2\"/>\n",
       "<circle clip-path=\"url(#clip872)\" cx=\"1207.3\" cy=\"766.846\" r=\"14.4\" fill=\"#009af9\" fill-rule=\"evenodd\" fill-opacity=\"1\" stroke=\"#000000\" stroke-opacity=\"1\" stroke-width=\"3.2\"/>\n",
       "<circle clip-path=\"url(#clip872)\" cx=\"1224.77\" cy=\"766.846\" r=\"14.4\" fill=\"#009af9\" fill-rule=\"evenodd\" fill-opacity=\"1\" stroke=\"#000000\" stroke-opacity=\"1\" stroke-width=\"3.2\"/>\n",
       "<circle clip-path=\"url(#clip872)\" cx=\"1242.24\" cy=\"766.846\" r=\"14.4\" fill=\"#009af9\" fill-rule=\"evenodd\" fill-opacity=\"1\" stroke=\"#000000\" stroke-opacity=\"1\" stroke-width=\"3.2\"/>\n",
       "<circle clip-path=\"url(#clip872)\" cx=\"1259.71\" cy=\"766.846\" r=\"14.4\" fill=\"#009af9\" fill-rule=\"evenodd\" fill-opacity=\"1\" stroke=\"#000000\" stroke-opacity=\"1\" stroke-width=\"3.2\"/>\n",
       "<circle clip-path=\"url(#clip872)\" cx=\"1277.18\" cy=\"766.846\" r=\"14.4\" fill=\"#009af9\" fill-rule=\"evenodd\" fill-opacity=\"1\" stroke=\"#000000\" stroke-opacity=\"1\" stroke-width=\"3.2\"/>\n",
       "<circle clip-path=\"url(#clip872)\" cx=\"1294.65\" cy=\"766.846\" r=\"14.4\" fill=\"#009af9\" fill-rule=\"evenodd\" fill-opacity=\"1\" stroke=\"#000000\" stroke-opacity=\"1\" stroke-width=\"3.2\"/>\n",
       "<circle clip-path=\"url(#clip872)\" cx=\"1312.12\" cy=\"766.846\" r=\"14.4\" fill=\"#009af9\" fill-rule=\"evenodd\" fill-opacity=\"1\" stroke=\"#000000\" stroke-opacity=\"1\" stroke-width=\"3.2\"/>\n",
       "<circle clip-path=\"url(#clip872)\" cx=\"1329.58\" cy=\"766.846\" r=\"14.4\" fill=\"#009af9\" fill-rule=\"evenodd\" fill-opacity=\"1\" stroke=\"#000000\" stroke-opacity=\"1\" stroke-width=\"3.2\"/>\n",
       "<circle clip-path=\"url(#clip872)\" cx=\"1347.05\" cy=\"766.846\" r=\"14.4\" fill=\"#009af9\" fill-rule=\"evenodd\" fill-opacity=\"1\" stroke=\"#000000\" stroke-opacity=\"1\" stroke-width=\"3.2\"/>\n",
       "<circle clip-path=\"url(#clip872)\" cx=\"1364.52\" cy=\"766.846\" r=\"14.4\" fill=\"#009af9\" fill-rule=\"evenodd\" fill-opacity=\"1\" stroke=\"#000000\" stroke-opacity=\"1\" stroke-width=\"3.2\"/>\n",
       "<circle clip-path=\"url(#clip872)\" cx=\"1381.99\" cy=\"766.846\" r=\"14.4\" fill=\"#009af9\" fill-rule=\"evenodd\" fill-opacity=\"1\" stroke=\"#000000\" stroke-opacity=\"1\" stroke-width=\"3.2\"/>\n",
       "<circle clip-path=\"url(#clip872)\" cx=\"1399.46\" cy=\"766.846\" r=\"14.4\" fill=\"#009af9\" fill-rule=\"evenodd\" fill-opacity=\"1\" stroke=\"#000000\" stroke-opacity=\"1\" stroke-width=\"3.2\"/>\n",
       "<circle clip-path=\"url(#clip872)\" cx=\"1416.93\" cy=\"766.846\" r=\"14.4\" fill=\"#009af9\" fill-rule=\"evenodd\" fill-opacity=\"1\" stroke=\"#000000\" stroke-opacity=\"1\" stroke-width=\"3.2\"/>\n",
       "<circle clip-path=\"url(#clip872)\" cx=\"1434.4\" cy=\"766.846\" r=\"14.4\" fill=\"#009af9\" fill-rule=\"evenodd\" fill-opacity=\"1\" stroke=\"#000000\" stroke-opacity=\"1\" stroke-width=\"3.2\"/>\n",
       "<circle clip-path=\"url(#clip872)\" cx=\"1451.87\" cy=\"766.846\" r=\"14.4\" fill=\"#009af9\" fill-rule=\"evenodd\" fill-opacity=\"1\" stroke=\"#000000\" stroke-opacity=\"1\" stroke-width=\"3.2\"/>\n",
       "<circle clip-path=\"url(#clip872)\" cx=\"1469.34\" cy=\"766.846\" r=\"14.4\" fill=\"#009af9\" fill-rule=\"evenodd\" fill-opacity=\"1\" stroke=\"#000000\" stroke-opacity=\"1\" stroke-width=\"3.2\"/>\n",
       "<circle clip-path=\"url(#clip872)\" cx=\"1486.81\" cy=\"766.846\" r=\"14.4\" fill=\"#009af9\" fill-rule=\"evenodd\" fill-opacity=\"1\" stroke=\"#000000\" stroke-opacity=\"1\" stroke-width=\"3.2\"/>\n",
       "<circle clip-path=\"url(#clip872)\" cx=\"1504.28\" cy=\"766.846\" r=\"14.4\" fill=\"#009af9\" fill-rule=\"evenodd\" fill-opacity=\"1\" stroke=\"#000000\" stroke-opacity=\"1\" stroke-width=\"3.2\"/>\n",
       "<circle clip-path=\"url(#clip872)\" cx=\"1521.75\" cy=\"766.846\" r=\"14.4\" fill=\"#009af9\" fill-rule=\"evenodd\" fill-opacity=\"1\" stroke=\"#000000\" stroke-opacity=\"1\" stroke-width=\"3.2\"/>\n",
       "<circle clip-path=\"url(#clip872)\" cx=\"1539.22\" cy=\"766.846\" r=\"14.4\" fill=\"#009af9\" fill-rule=\"evenodd\" fill-opacity=\"1\" stroke=\"#000000\" stroke-opacity=\"1\" stroke-width=\"3.2\"/>\n",
       "<circle clip-path=\"url(#clip872)\" cx=\"1556.68\" cy=\"766.846\" r=\"14.4\" fill=\"#009af9\" fill-rule=\"evenodd\" fill-opacity=\"1\" stroke=\"#000000\" stroke-opacity=\"1\" stroke-width=\"3.2\"/>\n",
       "<circle clip-path=\"url(#clip872)\" cx=\"1574.15\" cy=\"766.846\" r=\"14.4\" fill=\"#009af9\" fill-rule=\"evenodd\" fill-opacity=\"1\" stroke=\"#000000\" stroke-opacity=\"1\" stroke-width=\"3.2\"/>\n",
       "<circle clip-path=\"url(#clip872)\" cx=\"1591.62\" cy=\"766.846\" r=\"14.4\" fill=\"#009af9\" fill-rule=\"evenodd\" fill-opacity=\"1\" stroke=\"#000000\" stroke-opacity=\"1\" stroke-width=\"3.2\"/>\n",
       "<circle clip-path=\"url(#clip872)\" cx=\"1609.09\" cy=\"575.737\" r=\"14.4\" fill=\"#009af9\" fill-rule=\"evenodd\" fill-opacity=\"1\" stroke=\"#000000\" stroke-opacity=\"1\" stroke-width=\"3.2\"/>\n",
       "<circle clip-path=\"url(#clip872)\" cx=\"1626.56\" cy=\"575.737\" r=\"14.4\" fill=\"#009af9\" fill-rule=\"evenodd\" fill-opacity=\"1\" stroke=\"#000000\" stroke-opacity=\"1\" stroke-width=\"3.2\"/>\n",
       "<circle clip-path=\"url(#clip872)\" cx=\"1644.03\" cy=\"575.737\" r=\"14.4\" fill=\"#009af9\" fill-rule=\"evenodd\" fill-opacity=\"1\" stroke=\"#000000\" stroke-opacity=\"1\" stroke-width=\"3.2\"/>\n",
       "<circle clip-path=\"url(#clip872)\" cx=\"1661.5\" cy=\"575.737\" r=\"14.4\" fill=\"#009af9\" fill-rule=\"evenodd\" fill-opacity=\"1\" stroke=\"#000000\" stroke-opacity=\"1\" stroke-width=\"3.2\"/>\n",
       "<circle clip-path=\"url(#clip872)\" cx=\"1678.97\" cy=\"546.071\" r=\"14.4\" fill=\"#009af9\" fill-rule=\"evenodd\" fill-opacity=\"1\" stroke=\"#000000\" stroke-opacity=\"1\" stroke-width=\"3.2\"/>\n",
       "<circle clip-path=\"url(#clip872)\" cx=\"1696.44\" cy=\"546.071\" r=\"14.4\" fill=\"#009af9\" fill-rule=\"evenodd\" fill-opacity=\"1\" stroke=\"#000000\" stroke-opacity=\"1\" stroke-width=\"3.2\"/>\n",
       "<circle clip-path=\"url(#clip872)\" cx=\"1713.91\" cy=\"525.634\" r=\"14.4\" fill=\"#009af9\" fill-rule=\"evenodd\" fill-opacity=\"1\" stroke=\"#000000\" stroke-opacity=\"1\" stroke-width=\"3.2\"/>\n",
       "<circle clip-path=\"url(#clip872)\" cx=\"1731.38\" cy=\"525.634\" r=\"14.4\" fill=\"#009af9\" fill-rule=\"evenodd\" fill-opacity=\"1\" stroke=\"#000000\" stroke-opacity=\"1\" stroke-width=\"3.2\"/>\n",
       "<circle clip-path=\"url(#clip872)\" cx=\"1748.85\" cy=\"525.634\" r=\"14.4\" fill=\"#009af9\" fill-rule=\"evenodd\" fill-opacity=\"1\" stroke=\"#000000\" stroke-opacity=\"1\" stroke-width=\"3.2\"/>\n",
       "<circle clip-path=\"url(#clip872)\" cx=\"1766.31\" cy=\"525.634\" r=\"14.4\" fill=\"#009af9\" fill-rule=\"evenodd\" fill-opacity=\"1\" stroke=\"#000000\" stroke-opacity=\"1\" stroke-width=\"3.2\"/>\n",
       "<circle clip-path=\"url(#clip872)\" cx=\"1783.78\" cy=\"510.262\" r=\"14.4\" fill=\"#009af9\" fill-rule=\"evenodd\" fill-opacity=\"1\" stroke=\"#000000\" stroke-opacity=\"1\" stroke-width=\"3.2\"/>\n",
       "<circle clip-path=\"url(#clip872)\" cx=\"1801.25\" cy=\"510.262\" r=\"14.4\" fill=\"#009af9\" fill-rule=\"evenodd\" fill-opacity=\"1\" stroke=\"#000000\" stroke-opacity=\"1\" stroke-width=\"3.2\"/>\n",
       "<circle clip-path=\"url(#clip872)\" cx=\"1818.72\" cy=\"472.081\" r=\"14.4\" fill=\"#009af9\" fill-rule=\"evenodd\" fill-opacity=\"1\" stroke=\"#000000\" stroke-opacity=\"1\" stroke-width=\"3.2\"/>\n",
       "<circle clip-path=\"url(#clip872)\" cx=\"1836.19\" cy=\"472.081\" r=\"14.4\" fill=\"#009af9\" fill-rule=\"evenodd\" fill-opacity=\"1\" stroke=\"#000000\" stroke-opacity=\"1\" stroke-width=\"3.2\"/>\n",
       "<circle clip-path=\"url(#clip872)\" cx=\"1853.66\" cy=\"425.72\" r=\"14.4\" fill=\"#009af9\" fill-rule=\"evenodd\" fill-opacity=\"1\" stroke=\"#000000\" stroke-opacity=\"1\" stroke-width=\"3.2\"/>\n",
       "<circle clip-path=\"url(#clip872)\" cx=\"1871.13\" cy=\"425.72\" r=\"14.4\" fill=\"#009af9\" fill-rule=\"evenodd\" fill-opacity=\"1\" stroke=\"#000000\" stroke-opacity=\"1\" stroke-width=\"3.2\"/>\n",
       "<circle clip-path=\"url(#clip872)\" cx=\"1888.6\" cy=\"425.72\" r=\"14.4\" fill=\"#009af9\" fill-rule=\"evenodd\" fill-opacity=\"1\" stroke=\"#000000\" stroke-opacity=\"1\" stroke-width=\"3.2\"/>\n",
       "<circle clip-path=\"url(#clip872)\" cx=\"1906.07\" cy=\"425.72\" r=\"14.4\" fill=\"#009af9\" fill-rule=\"evenodd\" fill-opacity=\"1\" stroke=\"#000000\" stroke-opacity=\"1\" stroke-width=\"3.2\"/>\n",
       "<circle clip-path=\"url(#clip872)\" cx=\"1923.54\" cy=\"425.72\" r=\"14.4\" fill=\"#009af9\" fill-rule=\"evenodd\" fill-opacity=\"1\" stroke=\"#000000\" stroke-opacity=\"1\" stroke-width=\"3.2\"/>\n",
       "<circle clip-path=\"url(#clip872)\" cx=\"1941.01\" cy=\"425.72\" r=\"14.4\" fill=\"#009af9\" fill-rule=\"evenodd\" fill-opacity=\"1\" stroke=\"#000000\" stroke-opacity=\"1\" stroke-width=\"3.2\"/>\n",
       "<circle clip-path=\"url(#clip872)\" cx=\"1958.48\" cy=\"425.72\" r=\"14.4\" fill=\"#009af9\" fill-rule=\"evenodd\" fill-opacity=\"1\" stroke=\"#000000\" stroke-opacity=\"1\" stroke-width=\"3.2\"/>\n",
       "<circle clip-path=\"url(#clip872)\" cx=\"1975.95\" cy=\"425.72\" r=\"14.4\" fill=\"#009af9\" fill-rule=\"evenodd\" fill-opacity=\"1\" stroke=\"#000000\" stroke-opacity=\"1\" stroke-width=\"3.2\"/>\n",
       "<circle clip-path=\"url(#clip872)\" cx=\"1993.41\" cy=\"425.72\" r=\"14.4\" fill=\"#009af9\" fill-rule=\"evenodd\" fill-opacity=\"1\" stroke=\"#000000\" stroke-opacity=\"1\" stroke-width=\"3.2\"/>\n",
       "<circle clip-path=\"url(#clip872)\" cx=\"2010.88\" cy=\"425.72\" r=\"14.4\" fill=\"#009af9\" fill-rule=\"evenodd\" fill-opacity=\"1\" stroke=\"#000000\" stroke-opacity=\"1\" stroke-width=\"3.2\"/>\n",
       "<circle clip-path=\"url(#clip872)\" cx=\"2028.35\" cy=\"425.72\" r=\"14.4\" fill=\"#009af9\" fill-rule=\"evenodd\" fill-opacity=\"1\" stroke=\"#000000\" stroke-opacity=\"1\" stroke-width=\"3.2\"/>\n",
       "<circle clip-path=\"url(#clip872)\" cx=\"2045.82\" cy=\"425.72\" r=\"14.4\" fill=\"#009af9\" fill-rule=\"evenodd\" fill-opacity=\"1\" stroke=\"#000000\" stroke-opacity=\"1\" stroke-width=\"3.2\"/>\n",
       "<circle clip-path=\"url(#clip872)\" cx=\"2063.29\" cy=\"425.72\" r=\"14.4\" fill=\"#009af9\" fill-rule=\"evenodd\" fill-opacity=\"1\" stroke=\"#000000\" stroke-opacity=\"1\" stroke-width=\"3.2\"/>\n",
       "<circle clip-path=\"url(#clip872)\" cx=\"2080.76\" cy=\"425.72\" r=\"14.4\" fill=\"#009af9\" fill-rule=\"evenodd\" fill-opacity=\"1\" stroke=\"#000000\" stroke-opacity=\"1\" stroke-width=\"3.2\"/>\n",
       "<circle clip-path=\"url(#clip872)\" cx=\"2098.23\" cy=\"425.72\" r=\"14.4\" fill=\"#009af9\" fill-rule=\"evenodd\" fill-opacity=\"1\" stroke=\"#000000\" stroke-opacity=\"1\" stroke-width=\"3.2\"/>\n",
       "<circle clip-path=\"url(#clip872)\" cx=\"2115.7\" cy=\"425.72\" r=\"14.4\" fill=\"#009af9\" fill-rule=\"evenodd\" fill-opacity=\"1\" stroke=\"#000000\" stroke-opacity=\"1\" stroke-width=\"3.2\"/>\n",
       "<circle clip-path=\"url(#clip872)\" cx=\"2133.17\" cy=\"203.51\" r=\"14.4\" fill=\"#009af9\" fill-rule=\"evenodd\" fill-opacity=\"1\" stroke=\"#000000\" stroke-opacity=\"1\" stroke-width=\"3.2\"/>\n",
       "<circle clip-path=\"url(#clip872)\" cx=\"2150.64\" cy=\"203.51\" r=\"14.4\" fill=\"#009af9\" fill-rule=\"evenodd\" fill-opacity=\"1\" stroke=\"#000000\" stroke-opacity=\"1\" stroke-width=\"3.2\"/>\n",
       "<circle clip-path=\"url(#clip872)\" cx=\"2168.11\" cy=\"157.945\" r=\"14.4\" fill=\"#009af9\" fill-rule=\"evenodd\" fill-opacity=\"1\" stroke=\"#000000\" stroke-opacity=\"1\" stroke-width=\"3.2\"/>\n",
       "<circle clip-path=\"url(#clip872)\" cx=\"2185.58\" cy=\"157.945\" r=\"14.4\" fill=\"#009af9\" fill-rule=\"evenodd\" fill-opacity=\"1\" stroke=\"#000000\" stroke-opacity=\"1\" stroke-width=\"3.2\"/>\n",
       "<circle clip-path=\"url(#clip872)\" cx=\"2203.04\" cy=\"157.945\" r=\"14.4\" fill=\"#009af9\" fill-rule=\"evenodd\" fill-opacity=\"1\" stroke=\"#000000\" stroke-opacity=\"1\" stroke-width=\"3.2\"/>\n",
       "<circle clip-path=\"url(#clip872)\" cx=\"2220.51\" cy=\"157.945\" r=\"14.4\" fill=\"#009af9\" fill-rule=\"evenodd\" fill-opacity=\"1\" stroke=\"#000000\" stroke-opacity=\"1\" stroke-width=\"3.2\"/>\n",
       "<circle clip-path=\"url(#clip872)\" cx=\"2237.98\" cy=\"121.303\" r=\"14.4\" fill=\"#009af9\" fill-rule=\"evenodd\" fill-opacity=\"1\" stroke=\"#000000\" stroke-opacity=\"1\" stroke-width=\"3.2\"/>\n",
       "<circle clip-path=\"url(#clip872)\" cx=\"2255.45\" cy=\"121.303\" r=\"14.4\" fill=\"#009af9\" fill-rule=\"evenodd\" fill-opacity=\"1\" stroke=\"#000000\" stroke-opacity=\"1\" stroke-width=\"3.2\"/>\n",
       "<circle clip-path=\"url(#clip872)\" cx=\"2272.92\" cy=\"87.9763\" r=\"14.4\" fill=\"#009af9\" fill-rule=\"evenodd\" fill-opacity=\"1\" stroke=\"#000000\" stroke-opacity=\"1\" stroke-width=\"3.2\"/>\n",
       "<circle clip-path=\"url(#clip872)\" cx=\"2290.39\" cy=\"87.9763\" r=\"14.4\" fill=\"#009af9\" fill-rule=\"evenodd\" fill-opacity=\"1\" stroke=\"#000000\" stroke-opacity=\"1\" stroke-width=\"3.2\"/>\n",
       "<path clip-path=\"url(#clip870)\" d=\"\n",
       "M1982.03 198.898 L2279.3 198.898 L2279.3 95.2176 L1982.03 95.2176  Z\n",
       "  \" fill=\"#ffffff\" fill-rule=\"evenodd\" fill-opacity=\"1\"/>\n",
       "<polyline clip-path=\"url(#clip870)\" style=\"stroke:#000000; stroke-linecap:round; stroke-linejoin:round; stroke-width:4; stroke-opacity:1; fill:none\" points=\"\n",
       "  1982.03,198.898 2279.3,198.898 2279.3,95.2176 1982.03,95.2176 1982.03,198.898 \n",
       "  \"/>\n",
       "<circle clip-path=\"url(#clip870)\" cx=\"2079.97\" cy=\"147.058\" r=\"23.04\" fill=\"#009af9\" fill-rule=\"evenodd\" fill-opacity=\"1\" stroke=\"#000000\" stroke-opacity=\"1\" stroke-width=\"5.12\"/>\n",
       "<path clip-path=\"url(#clip870)\" d=\"M2191.75 166.745 Q2189.94 171.375 2188.23 172.787 Q2186.52 174.199 2183.65 174.199 L2180.24 174.199 L2180.24 170.634 L2182.74 170.634 Q2184.5 170.634 2185.47 169.8 Q2186.45 168.967 2187.63 165.865 L2188.39 163.921 L2177.91 138.412 L2182.42 138.412 L2190.52 158.689 L2198.62 138.412 L2203.14 138.412 L2191.75 166.745 Z\" fill=\"#000000\" fill-rule=\"evenodd\" fill-opacity=\"1\" /><path clip-path=\"url(#clip870)\" d=\"M2210.43 160.402 L2218.07 160.402 L2218.07 134.037 L2209.76 135.703 L2209.76 131.444 L2218.02 129.778 L2222.7 129.778 L2222.7 160.402 L2230.34 160.402 L2230.34 164.338 L2210.43 164.338 L2210.43 160.402 Z\" fill=\"#000000\" fill-rule=\"evenodd\" fill-opacity=\"1\" /></svg>\n"
      ]
     },
     "execution_count": 9,
     "metadata": {},
     "output_type": "execute_result"
    }
   ],
   "source": [
    "using Plots\n",
    "E = eigenenergies(dense(H_mb))\n",
    "plot(1:length(E),E,seriestype=:scatter)"
   ]
  },
  {
   "cell_type": "markdown",
   "id": "1d88b286-9737-4a87-8c53-4998f7d43975",
   "metadata": {},
   "source": [
    "# Cherns"
   ]
  },
  {
   "cell_type": "markdown",
   "id": "640e6903-a0dd-497f-b0f4-0b3cc7846df0",
   "metadata": {},
   "source": [
    "Berry Curvature:\n",
    "\\begin{equation}\n",
    "\\mathcal{F}(\\vec{\\theta}) = \\log \\left( U_x(\\vec{\\theta})U_y(\\vec{\\theta}+\\delta_x)U_x(\\vec{\\theta}+\\delta_y)^{-1}U_y(\\vec{\\theta})^{-1} \\right)\n",
    "\\end{equation}\n",
    "Link variables:\n",
    "\\begin{equation}\n",
    "U_\\mu(\\vec{\\theta}) = \\frac{\n",
    "det \\left( \\Phi(\\vec{\\theta})^\\dagger \\Phi(\\vec{\\theta}+\\delta_\\mu) \\right) \n",
    "}{\n",
    "| det \\left(\\Phi(\\vec{\\theta})^\\dagger \\Phi(\\vec{\\theta}+\\delta_\\mu) \\right) |} , \\quad \\delta_x = \\left(\\frac{2\\pi}{N_{\\theta}},0 \\right), \\delta_y = \\left(0, \\frac{2\\pi}{N_{\\theta}}\\right)\n",
    "\\end{equation}\n",
    "Chern Number:\n",
    "\\begin{equation}\n",
    "\\mathcal{C} = \\frac{1}{2\\pi i} \\sum_{\\vec{\\theta}} \\mathcal{F}(\\vec{\\theta})\n",
    "\\end{equation}"
   ]
  },
  {
   "cell_type": "code",
   "execution_count": 10,
   "id": "6cfefdc0",
   "metadata": {
    "tags": []
   },
   "outputs": [
    {
     "data": {
      "text/plain": [
       "Chern_Nums (generic function with 1 method)"
      ]
     },
     "execution_count": 10,
     "metadata": {},
     "output_type": "execute_result"
    }
   ],
   "source": [
    "# executeme\n",
    "\n",
    "function Chern_Nums(Tx, Ty, n1, n2)\n",
    "    \n",
    "    Sum=0\n",
    "    \n",
    "    for tx in range(start=1, stop=length(Tx))\n",
    "        for ty in range(start=1, stop=length(Ty))\n",
    "            \n",
    "            op = Op_Sp(Nx, Ny, 1/q, Tx[tx], Ty[ty])\n",
    "            H_mb = get_mb_op(basis_mb, op)\n",
    "            w1, v1 = eigen(dense(H_mb).data)\n",
    "            i = sortperm(w1, by=real);w1 = w1[i];v1 = v1[:,i]\n",
    "            v1 = v1[:,n1:n2]\n",
    "            \n",
    "            #------------------------------------\n",
    "            op = Op_Sp(Nx, Ny, 1/q, Tx[tx]+dx, Ty[ty])\n",
    "            H_mb = get_mb_op(basis_mb, op)\n",
    "            w2, v2 = eigen(dense(H_mb).data)\n",
    "            i = sortperm(w2, by=real);w2 = w2[i];v2 = v2[:,i]\n",
    "            v2 = v2[:,n1:n2]\n",
    "            \n",
    "            #------------------------------------\n",
    "            op = Op_Sp(Nx, Ny, 1/q, Tx[tx], Ty[ty]+dy)\n",
    "            H_mb = get_mb_op(basis_mb, op)\n",
    "            w3, v3 = eigen(dense(H_mb).data)\n",
    "            i = sortperm(w3, by=real);w3 = w3[i];v3 = v3[:,i]\n",
    "            v3 = v3[:,n1:n2]\n",
    "            \n",
    "            #------------------------------------\n",
    "            op = Op_Sp(Nx, Ny, 1/q, Tx[tx]+dx, Ty[ty]+dy)\n",
    "            H_mb = get_mb_op(basis_mb, op)\n",
    "            w4, v4 = eigen(dense(H_mb).data)\n",
    "            i = sortperm(w4, by=real);w4 = w4[i];v4 = v4[:,i]\n",
    "            v4 = v4[:,n1:n2]\n",
    "            \n",
    "            #----------LINK VARIABLES------------\n",
    "            U1=det(adjoint(v1)*v2)\n",
    "            U1=U1/abs(U1)\n",
    "            U2=det(adjoint(v2)*v4)\n",
    "            U2=U2/abs(U2)\n",
    "            U3=det(adjoint(v3)*v4)\n",
    "            U3=U3/abs(U3)\n",
    "            U4=det(adjoint(v1)*v3)\n",
    "            U4=U4/abs(U4)\n",
    "            \n",
    "            #----------BERRY CURVATURE-----------\n",
    "            F=log(U1*U2*1/U3*1/U4)\n",
    "            Sum=Sum+F\n",
    "            \n",
    "        end\n",
    "    end\n",
    "    \n",
    "    return 1/(2*pi*1im)*Sum\n",
    "end"
   ]
  },
  {
   "cell_type": "code",
   "execution_count": 11,
   "id": "ebe7913c-4c43-4df5-8f51-4e6bf29002fb",
   "metadata": {},
   "outputs": [
    {
     "data": {
      "text/plain": [
       "1.0000000000000002 + 3.5475815807404787e-16im"
      ]
     },
     "execution_count": 11,
     "metadata": {},
     "output_type": "execute_result"
    }
   ],
   "source": [
    "Chern_Nums(Tx, Ty, 1, 2)"
   ]
  },
  {
   "cell_type": "code",
   "execution_count": null,
   "id": "baa4ba57-8882-4c23-9622-b8724f9ed851",
   "metadata": {},
   "outputs": [],
   "source": []
  }
 ],
 "metadata": {
  "kernelspec": {
   "display_name": "Julia 1.7.2",
   "language": "julia",
   "name": "julia-1.7"
  },
  "language_info": {
   "file_extension": ".jl",
   "mimetype": "application/julia",
   "name": "julia",
   "version": "1.7.2"
  }
 },
 "nbformat": 4,
 "nbformat_minor": 5
}
