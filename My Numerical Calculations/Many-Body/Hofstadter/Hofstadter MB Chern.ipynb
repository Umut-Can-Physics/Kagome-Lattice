{
 "cells": [
  {
   "cell_type": "markdown",
   "id": "ebf138a2-39bb-495b-8859-4d1125f85231",
   "metadata": {},
   "source": [
    "Many-Body Chern Number without Integration\n",
    "\n",
    "Koji Kudo, Haruki Watanabe, Toshikaze Kariyado, and Yasuhiro Hatsugai\n",
    "\n",
    "Phys. Rev. Lett. 122, 146601 – Published 9 April 2019\n",
    "\n",
    "https://journals.aps.org/prl/abstract/10.1103/PhysRevLett.122.146601"
   ]
  },
  {
   "cell_type": "code",
   "execution_count": 1,
   "id": "551e4ff7",
   "metadata": {
    "tags": []
   },
   "outputs": [
    {
     "data": {
      "text/plain": [
       "HSP_T (generic function with 1 method)"
      ]
     },
     "execution_count": 1,
     "metadata": {},
     "output_type": "execute_result"
    }
   ],
   "source": [
    "using NBInclude\n",
    "@nbinclude(\"Hofstadter Single Particle in Theta Space.ipynb\")"
   ]
  },
  {
   "cell_type": "code",
   "execution_count": 2,
   "id": "44a15cd8-7a16-415e-8da9-8a6db7d909b3",
   "metadata": {
    "tags": []
   },
   "outputs": [],
   "source": [
    "using QuantumOptics"
   ]
  },
  {
   "cell_type": "markdown",
   "id": "2f5f1c69-9ba2-4662-acda-c627f7dfc991",
   "metadata": {},
   "source": [
    "## Initial Parameters"
   ]
  },
  {
   "cell_type": "code",
   "execution_count": 3,
   "id": "cb0bce07-7d7e-4e81-80a7-7d5614c14e6b",
   "metadata": {
    "tags": []
   },
   "outputs": [],
   "source": [
    "Nx=3;Ny=3;N=Nx*Ny;q=Ny;PN=1;T_size=5;"
   ]
  },
  {
   "cell_type": "markdown",
   "id": "4b6afe62-2fb0-45e3-9ca0-865be87f22bf",
   "metadata": {},
   "source": [
    "## Create Single-Particle Operator"
   ]
  },
  {
   "cell_type": "code",
   "execution_count": 4,
   "id": "af068119",
   "metadata": {
    "tags": []
   },
   "outputs": [
    {
     "data": {
      "text/plain": [
       "Op_Sp (generic function with 1 method)"
      ]
     },
     "execution_count": 4,
     "metadata": {},
     "output_type": "execute_result"
    }
   ],
   "source": [
    "function Op_Sp(Nx, Ny, alpha, Tx, Ty)\n",
    "        \n",
    "    H_T = HSP_T(Nx, Ny, alpha, Tx, Ty, 0)\n",
    "    \n",
    "    basis = NLevelBasis(N) \n",
    "    \n",
    "    H = SparseOperator(basis)\n",
    "    \n",
    "    for m in 1:N\n",
    "        for n in 1:N\n",
    "            H = H + H_T[m,n] * transition(basis, m, n)\n",
    "        end\n",
    "    end\n",
    "    \n",
    "    return H\n",
    "end"
   ]
  },
  {
   "cell_type": "code",
   "execution_count": 5,
   "id": "2567a5e2-4d54-41ae-950b-8fa96ee83ea5",
   "metadata": {},
   "outputs": [
    {
     "data": {
      "text/plain": [
       "9-element Vector{Float64}:\n",
       " -2.73205080756888\n",
       " -2.7320508075688767\n",
       " -2.7320508075688767\n",
       "  0.7320508075688769\n",
       "  0.7320508075688773\n",
       "  0.7320508075688781\n",
       "  1.9999999999999991\n",
       "  2.0\n",
       "  2.0000000000000004"
      ]
     },
     "execution_count": 5,
     "metadata": {},
     "output_type": "execute_result"
    }
   ],
   "source": [
    "# CHECK: Operator Form\n",
    "using LinearAlgebra\n",
    "Tx=Ty=0\n",
    "op = Op_Sp(Nx, Ny, 1/q, Tx, Ty)\n",
    "eigenenergies(dense(op)) == eigvals(HSP_T(Nx, Ny, 1/q, Tx, Ty, 0))\n",
    "eigenenergies(dense(op))"
   ]
  },
  {
   "cell_type": "markdown",
   "id": "5841609b-5be8-4f1f-8e7c-ac0969025bdf",
   "metadata": {},
   "source": [
    "## Create Many-Basis for Hard-Core Interaction"
   ]
  },
  {
   "cell_type": "code",
   "execution_count": 6,
   "id": "c4edf9d5-1b11-4fc7-b3e8-c44f148441a9",
   "metadata": {},
   "outputs": [],
   "source": [
    "basis = NLevelBasis(N)\n",
    "states = fermionstates(basis, PN)\n",
    "basis_mb = ManyBodyBasis(basis, states)\n",
    "\n",
    "function get_mb_op(basis_mb, op)\n",
    "    H_mb2 = SparseOperator(basis_mb) \n",
    "    for m in 1:N\n",
    "        for n in 1:N\n",
    "            H_mb2 += op.data[m,n] * transition(basis_mb, m, n)\n",
    "        end\n",
    "    end\n",
    "    \n",
    "    return H_mb2\n",
    "end\n",
    "\n",
    "H_mb = get_mb_op(basis_mb, op);"
   ]
  },
  {
   "cell_type": "code",
   "execution_count": 7,
   "id": "77d0924f-ce0f-4528-bdd9-49f804dbae33",
   "metadata": {
    "tags": []
   },
   "outputs": [
    {
     "data": {
      "text/plain": [
       "9-element Vector{Float64}:\n",
       " -2.73205080756888\n",
       " -2.7320508075688767\n",
       " -2.7320508075688767\n",
       "  0.7320508075688769\n",
       "  0.7320508075688773\n",
       "  0.7320508075688781\n",
       "  1.9999999999999991\n",
       "  2.0\n",
       "  2.0000000000000004"
      ]
     },
     "execution_count": 7,
     "metadata": {},
     "output_type": "execute_result"
    }
   ],
   "source": [
    "# CHECK: MB Structure (PN=1)\n",
    "eigenenergies(dense(H_mb)) == eigvals(HSP_T(Nx, Ny, 1/q, Tx, Ty, 0))\n",
    "eigenenergies(dense(H_mb))"
   ]
  },
  {
   "cell_type": "code",
   "execution_count": 8,
   "id": "b9119073-c425-4830-8a96-9940855e6341",
   "metadata": {},
   "outputs": [
    {
     "data": {
      "text/plain": [
       "-3.8163916471489756e-17 - 5.551115123125783e-17im"
      ]
     },
     "execution_count": 8,
     "metadata": {},
     "output_type": "execute_result"
    }
   ],
   "source": [
    "# Ortogonality Check !\n",
    "E, V = eigen(dense(H_mb).data)\n",
    "dot(V[:,1],V[:,2])"
   ]
  },
  {
   "cell_type": "markdown",
   "id": "e5b48d1a-fac0-48a4-8c87-8b3e96a3648c",
   "metadata": {},
   "source": [
    "## Crete Mesh of Twisted-Angle Space"
   ]
  },
  {
   "cell_type": "markdown",
   "id": "4525b8ef-b394-4d86-9c95-75cfa497790e",
   "metadata": {},
   "source": [
    "\\begin{equation}\n",
    "\\theta_\\mu = \\frac{2\\pi}{N_\\theta}n_\\mu\n",
    "\\end{equation}"
   ]
  },
  {
   "cell_type": "code",
   "execution_count": 9,
   "id": "a1a0b77b-1375-4b5b-8425-1d52712c807d",
   "metadata": {
    "tags": []
   },
   "outputs": [],
   "source": [
    "dx=2*pi/T_size\n",
    "dy=dx\n",
    "Tx=collect(range(start=0, stop=2*pi-dx, step=dx))\n",
    "Ty=collect(range(start=0, stop=2*pi-dy, step=dy));"
   ]
  },
  {
   "cell_type": "markdown",
   "id": "ff484e23-d75b-43b3-89fc-2929cf4add01",
   "metadata": {},
   "source": [
    "## Energies of Many-Body Hofstadter Model"
   ]
  },
  {
   "cell_type": "code",
   "execution_count": 10,
   "id": "af9e4ecd-03d5-46a1-a7c8-18f7fca16d2f",
   "metadata": {
    "tags": []
   },
   "outputs": [
    {
     "data": {
      "image/svg+xml": [
       "<?xml version=\"1.0\" encoding=\"utf-8\"?>\n",
       "<svg xmlns=\"http://www.w3.org/2000/svg\" xmlns:xlink=\"http://www.w3.org/1999/xlink\" width=\"600\" height=\"400\" viewBox=\"0 0 2400 1600\">\n",
       "<defs>\n",
       "  <clipPath id=\"clip340\">\n",
       "    <rect x=\"0\" y=\"0\" width=\"2400\" height=\"1600\"/>\n",
       "  </clipPath>\n",
       "</defs>\n",
       "<path clip-path=\"url(#clip340)\" d=\"\n",
       "M0 1600 L2400 1600 L2400 0 L0 0  Z\n",
       "  \" fill=\"#ffffff\" fill-rule=\"evenodd\" fill-opacity=\"1\"/>\n",
       "<defs>\n",
       "  <clipPath id=\"clip341\">\n",
       "    <rect x=\"480\" y=\"0\" width=\"1681\" height=\"1600\"/>\n",
       "  </clipPath>\n",
       "</defs>\n",
       "<path clip-path=\"url(#clip340)\" d=\"\n",
       "M147.478 1486.45 L2352.76 1486.45 L2352.76 47.2441 L147.478 47.2441  Z\n",
       "  \" fill=\"#ffffff\" fill-rule=\"evenodd\" fill-opacity=\"1\"/>\n",
       "<defs>\n",
       "  <clipPath id=\"clip342\">\n",
       "    <rect x=\"147\" y=\"47\" width=\"2206\" height=\"1440\"/>\n",
       "  </clipPath>\n",
       "</defs>\n",
       "<polyline clip-path=\"url(#clip342)\" style=\"stroke:#000000; stroke-linecap:round; stroke-linejoin:round; stroke-width:2; stroke-opacity:0.1; fill:none\" points=\"\n",
       "  469.948,1486.45 469.948,47.2441 \n",
       "  \"/>\n",
       "<polyline clip-path=\"url(#clip342)\" style=\"stroke:#000000; stroke-linecap:round; stroke-linejoin:round; stroke-width:2; stroke-opacity:0.1; fill:none\" points=\"\n",
       "  990.061,1486.45 990.061,47.2441 \n",
       "  \"/>\n",
       "<polyline clip-path=\"url(#clip342)\" style=\"stroke:#000000; stroke-linecap:round; stroke-linejoin:round; stroke-width:2; stroke-opacity:0.1; fill:none\" points=\"\n",
       "  1510.17,1486.45 1510.17,47.2441 \n",
       "  \"/>\n",
       "<polyline clip-path=\"url(#clip342)\" style=\"stroke:#000000; stroke-linecap:round; stroke-linejoin:round; stroke-width:2; stroke-opacity:0.1; fill:none\" points=\"\n",
       "  2030.29,1486.45 2030.29,47.2441 \n",
       "  \"/>\n",
       "<polyline clip-path=\"url(#clip340)\" style=\"stroke:#000000; stroke-linecap:round; stroke-linejoin:round; stroke-width:4; stroke-opacity:1; fill:none\" points=\"\n",
       "  147.478,1486.45 2352.76,1486.45 \n",
       "  \"/>\n",
       "<polyline clip-path=\"url(#clip340)\" style=\"stroke:#000000; stroke-linecap:round; stroke-linejoin:round; stroke-width:4; stroke-opacity:1; fill:none\" points=\"\n",
       "  469.948,1486.45 469.948,1467.55 \n",
       "  \"/>\n",
       "<polyline clip-path=\"url(#clip340)\" style=\"stroke:#000000; stroke-linecap:round; stroke-linejoin:round; stroke-width:4; stroke-opacity:1; fill:none\" points=\"\n",
       "  990.061,1486.45 990.061,1467.55 \n",
       "  \"/>\n",
       "<polyline clip-path=\"url(#clip340)\" style=\"stroke:#000000; stroke-linecap:round; stroke-linejoin:round; stroke-width:4; stroke-opacity:1; fill:none\" points=\"\n",
       "  1510.17,1486.45 1510.17,1467.55 \n",
       "  \"/>\n",
       "<polyline clip-path=\"url(#clip340)\" style=\"stroke:#000000; stroke-linecap:round; stroke-linejoin:round; stroke-width:4; stroke-opacity:1; fill:none\" points=\"\n",
       "  2030.29,1486.45 2030.29,1467.55 \n",
       "  \"/>\n",
       "<path clip-path=\"url(#clip340)\" d=\"M464.601 1544.91 L480.92 1544.91 L480.92 1548.85 L458.976 1548.85 L458.976 1544.91 Q461.638 1542.16 466.221 1537.53 Q470.827 1532.88 472.008 1531.53 Q474.253 1529.01 475.133 1527.27 Q476.036 1525.51 476.036 1523.82 Q476.036 1521.07 474.091 1519.33 Q472.17 1517.6 469.068 1517.6 Q466.869 1517.6 464.415 1518.36 Q461.985 1519.13 459.207 1520.68 L459.207 1515.95 Q462.031 1514.82 464.485 1514.24 Q466.939 1513.66 468.976 1513.66 Q474.346 1513.66 477.54 1516.35 Q480.735 1519.03 480.735 1523.52 Q480.735 1525.65 479.925 1527.57 Q479.138 1529.47 477.031 1532.07 Q476.452 1532.74 473.351 1535.95 Q470.249 1539.15 464.601 1544.91 Z\" fill=\"#000000\" fill-rule=\"evenodd\" fill-opacity=\"1\" /><path clip-path=\"url(#clip340)\" d=\"M993.07 1518.36 L981.264 1536.81 L993.07 1536.81 L993.07 1518.36 M991.843 1514.29 L997.723 1514.29 L997.723 1536.81 L1002.65 1536.81 L1002.65 1540.7 L997.723 1540.7 L997.723 1548.85 L993.07 1548.85 L993.07 1540.7 L977.468 1540.7 L977.468 1536.19 L991.843 1514.29 Z\" fill=\"#000000\" fill-rule=\"evenodd\" fill-opacity=\"1\" /><path clip-path=\"url(#clip340)\" d=\"M1510.58 1529.7 Q1507.43 1529.7 1505.58 1531.86 Q1503.75 1534.01 1503.75 1537.76 Q1503.75 1541.49 1505.58 1543.66 Q1507.43 1545.82 1510.58 1545.82 Q1513.73 1545.82 1515.56 1543.66 Q1517.41 1541.49 1517.41 1537.76 Q1517.41 1534.01 1515.56 1531.86 Q1513.73 1529.7 1510.58 1529.7 M1519.86 1515.05 L1519.86 1519.31 Q1518.1 1518.48 1516.3 1518.04 Q1514.51 1517.6 1512.75 1517.6 Q1508.12 1517.6 1505.67 1520.72 Q1503.24 1523.85 1502.89 1530.17 Q1504.26 1528.15 1506.32 1527.09 Q1508.38 1526 1510.86 1526 Q1516.06 1526 1519.07 1529.17 Q1522.11 1532.32 1522.11 1537.76 Q1522.11 1543.08 1518.96 1546.3 Q1515.81 1549.52 1510.58 1549.52 Q1504.58 1549.52 1501.41 1544.94 Q1498.24 1540.33 1498.24 1531.6 Q1498.24 1523.41 1502.13 1518.55 Q1506.02 1513.66 1512.57 1513.66 Q1514.33 1513.66 1516.11 1514.01 Q1517.92 1514.36 1519.86 1515.05 Z\" fill=\"#000000\" fill-rule=\"evenodd\" fill-opacity=\"1\" /><path clip-path=\"url(#clip340)\" d=\"M2030.29 1532.44 Q2026.95 1532.44 2025.03 1534.22 Q2023.13 1536 2023.13 1539.13 Q2023.13 1542.25 2025.03 1544.03 Q2026.95 1545.82 2030.29 1545.82 Q2033.62 1545.82 2035.54 1544.03 Q2037.46 1542.23 2037.46 1539.13 Q2037.46 1536 2035.54 1534.22 Q2033.64 1532.44 2030.29 1532.44 M2025.61 1530.45 Q2022.6 1529.7 2020.91 1527.64 Q2019.24 1525.58 2019.24 1522.62 Q2019.24 1518.48 2022.18 1516.07 Q2025.15 1513.66 2030.29 1513.66 Q2035.45 1513.66 2038.39 1516.07 Q2041.33 1518.48 2041.33 1522.62 Q2041.33 1525.58 2039.64 1527.64 Q2037.97 1529.7 2034.99 1530.45 Q2038.36 1531.23 2040.24 1533.52 Q2042.14 1535.82 2042.14 1539.13 Q2042.14 1544.15 2039.06 1546.83 Q2036 1549.52 2030.29 1549.52 Q2024.57 1549.52 2021.49 1546.83 Q2018.43 1544.15 2018.43 1539.13 Q2018.43 1535.82 2020.33 1533.52 Q2022.23 1531.23 2025.61 1530.45 M2023.9 1523.06 Q2023.9 1525.75 2025.56 1527.25 Q2027.25 1528.76 2030.29 1528.76 Q2033.3 1528.76 2034.99 1527.25 Q2036.7 1525.75 2036.7 1523.06 Q2036.7 1520.38 2034.99 1518.87 Q2033.3 1517.37 2030.29 1517.37 Q2027.25 1517.37 2025.56 1518.87 Q2023.9 1520.38 2023.9 1523.06 Z\" fill=\"#000000\" fill-rule=\"evenodd\" fill-opacity=\"1\" /><polyline clip-path=\"url(#clip342)\" style=\"stroke:#000000; stroke-linecap:round; stroke-linejoin:round; stroke-width:2; stroke-opacity:0.1; fill:none\" points=\"\n",
       "  147.478,1235.67 2352.76,1235.67 \n",
       "  \"/>\n",
       "<polyline clip-path=\"url(#clip342)\" style=\"stroke:#000000; stroke-linecap:round; stroke-linejoin:round; stroke-width:2; stroke-opacity:0.1; fill:none\" points=\"\n",
       "  147.478,948.749 2352.76,948.749 \n",
       "  \"/>\n",
       "<polyline clip-path=\"url(#clip342)\" style=\"stroke:#000000; stroke-linecap:round; stroke-linejoin:round; stroke-width:2; stroke-opacity:0.1; fill:none\" points=\"\n",
       "  147.478,661.824 2352.76,661.824 \n",
       "  \"/>\n",
       "<polyline clip-path=\"url(#clip342)\" style=\"stroke:#000000; stroke-linecap:round; stroke-linejoin:round; stroke-width:2; stroke-opacity:0.1; fill:none\" points=\"\n",
       "  147.478,374.9 2352.76,374.9 \n",
       "  \"/>\n",
       "<polyline clip-path=\"url(#clip342)\" style=\"stroke:#000000; stroke-linecap:round; stroke-linejoin:round; stroke-width:2; stroke-opacity:0.1; fill:none\" points=\"\n",
       "  147.478,87.9763 2352.76,87.9763 \n",
       "  \"/>\n",
       "<polyline clip-path=\"url(#clip340)\" style=\"stroke:#000000; stroke-linecap:round; stroke-linejoin:round; stroke-width:4; stroke-opacity:1; fill:none\" points=\"\n",
       "  147.478,1486.45 147.478,47.2441 \n",
       "  \"/>\n",
       "<polyline clip-path=\"url(#clip340)\" style=\"stroke:#000000; stroke-linecap:round; stroke-linejoin:round; stroke-width:4; stroke-opacity:1; fill:none\" points=\"\n",
       "  147.478,1235.67 166.376,1235.67 \n",
       "  \"/>\n",
       "<polyline clip-path=\"url(#clip340)\" style=\"stroke:#000000; stroke-linecap:round; stroke-linejoin:round; stroke-width:4; stroke-opacity:1; fill:none\" points=\"\n",
       "  147.478,948.749 166.376,948.749 \n",
       "  \"/>\n",
       "<polyline clip-path=\"url(#clip340)\" style=\"stroke:#000000; stroke-linecap:round; stroke-linejoin:round; stroke-width:4; stroke-opacity:1; fill:none\" points=\"\n",
       "  147.478,661.824 166.376,661.824 \n",
       "  \"/>\n",
       "<polyline clip-path=\"url(#clip340)\" style=\"stroke:#000000; stroke-linecap:round; stroke-linejoin:round; stroke-width:4; stroke-opacity:1; fill:none\" points=\"\n",
       "  147.478,374.9 166.376,374.9 \n",
       "  \"/>\n",
       "<polyline clip-path=\"url(#clip340)\" style=\"stroke:#000000; stroke-linecap:round; stroke-linejoin:round; stroke-width:4; stroke-opacity:1; fill:none\" points=\"\n",
       "  147.478,87.9763 166.376,87.9763 \n",
       "  \"/>\n",
       "<path clip-path=\"url(#clip340)\" d=\"M51.3625 1236.12 L81.0383 1236.12 L81.0383 1240.06 L51.3625 1240.06 L51.3625 1236.12 Z\" fill=\"#000000\" fill-rule=\"evenodd\" fill-opacity=\"1\" /><path clip-path=\"url(#clip340)\" d=\"M95.1586 1249.02 L111.478 1249.02 L111.478 1252.95 L89.5336 1252.95 L89.5336 1249.02 Q92.1956 1246.26 96.7789 1241.63 Q101.385 1236.98 102.566 1235.64 Q104.811 1233.11 105.691 1231.38 Q106.594 1229.62 106.594 1227.93 Q106.594 1225.18 104.649 1223.44 Q102.728 1221.7 99.6261 1221.7 Q97.4271 1221.7 94.9734 1222.47 Q92.5428 1223.23 89.7651 1224.78 L89.7651 1220.06 Q92.5891 1218.93 95.0428 1218.35 Q97.4965 1217.77 99.5335 1217.77 Q104.904 1217.77 108.098 1220.45 Q111.293 1223.14 111.293 1227.63 Q111.293 1229.76 110.483 1231.68 Q109.696 1233.58 107.589 1236.17 Q107.01 1236.84 103.909 1240.06 Q100.807 1243.25 95.1586 1249.02 Z\" fill=\"#000000\" fill-rule=\"evenodd\" fill-opacity=\"1\" /><path clip-path=\"url(#clip340)\" d=\"M50.9921 949.2 L80.6679 949.2 L80.6679 953.135 L50.9921 953.135 L50.9921 949.2 Z\" fill=\"#000000\" fill-rule=\"evenodd\" fill-opacity=\"1\" /><path clip-path=\"url(#clip340)\" d=\"M91.5706 962.093 L99.2095 962.093 L99.2095 935.728 L90.8993 937.394 L90.8993 933.135 L99.1632 931.469 L103.839 931.469 L103.839 962.093 L111.478 962.093 L111.478 966.029 L91.5706 966.029 L91.5706 962.093 Z\" fill=\"#000000\" fill-rule=\"evenodd\" fill-opacity=\"1\" /><path clip-path=\"url(#clip340)\" d=\"M99.5335 647.623 Q95.9224 647.623 94.0937 651.188 Q92.2882 654.73 92.2882 661.859 Q92.2882 668.966 94.0937 672.53 Q95.9224 676.072 99.5335 676.072 Q103.168 676.072 104.973 672.53 Q106.802 668.966 106.802 661.859 Q106.802 654.73 104.973 651.188 Q103.168 647.623 99.5335 647.623 M99.5335 643.919 Q105.344 643.919 108.399 648.526 Q111.478 653.109 111.478 661.859 Q111.478 670.586 108.399 675.192 Q105.344 679.776 99.5335 679.776 Q93.7234 679.776 90.6447 675.192 Q87.5892 670.586 87.5892 661.859 Q87.5892 653.109 90.6447 648.526 Q93.7234 643.919 99.5335 643.919 Z\" fill=\"#000000\" fill-rule=\"evenodd\" fill-opacity=\"1\" /><path clip-path=\"url(#clip340)\" d=\"M91.5706 388.245 L99.2095 388.245 L99.2095 361.88 L90.8993 363.546 L90.8993 359.287 L99.1632 357.62 L103.839 357.62 L103.839 388.245 L111.478 388.245 L111.478 392.18 L91.5706 392.18 L91.5706 388.245 Z\" fill=\"#000000\" fill-rule=\"evenodd\" fill-opacity=\"1\" /><path clip-path=\"url(#clip340)\" d=\"M95.1586 101.321 L111.478 101.321 L111.478 105.256 L89.5336 105.256 L89.5336 101.321 Q92.1956 98.5665 96.7789 93.9369 Q101.385 89.2841 102.566 87.9416 Q104.811 85.4184 105.691 83.6823 Q106.594 81.9231 106.594 80.2333 Q106.594 77.4786 104.649 75.7425 Q102.728 74.0064 99.6261 74.0064 Q97.4271 74.0064 94.9734 74.7703 Q92.5428 75.5342 89.7651 77.0851 L89.7651 72.3629 Q92.5891 71.2287 95.0428 70.65 Q97.4965 70.0713 99.5335 70.0713 Q104.904 70.0713 108.098 72.7565 Q111.293 75.4416 111.293 79.9323 Q111.293 82.062 110.483 83.9832 Q109.696 85.8814 107.589 88.474 Q107.01 89.1453 103.909 92.3628 Q100.807 95.5573 95.1586 101.321 Z\" fill=\"#000000\" fill-rule=\"evenodd\" fill-opacity=\"1\" /><circle clip-path=\"url(#clip342)\" cx=\"209.891\" cy=\"1445.72\" r=\"14.4\" fill=\"#009af9\" fill-rule=\"evenodd\" fill-opacity=\"1\" stroke=\"#000000\" stroke-opacity=\"1\" stroke-width=\"3.2\"/>\n",
       "<circle clip-path=\"url(#clip342)\" cx=\"469.948\" cy=\"1445.72\" r=\"14.4\" fill=\"#009af9\" fill-rule=\"evenodd\" fill-opacity=\"1\" stroke=\"#000000\" stroke-opacity=\"1\" stroke-width=\"3.2\"/>\n",
       "<circle clip-path=\"url(#clip342)\" cx=\"730.004\" cy=\"1445.72\" r=\"14.4\" fill=\"#009af9\" fill-rule=\"evenodd\" fill-opacity=\"1\" stroke=\"#000000\" stroke-opacity=\"1\" stroke-width=\"3.2\"/>\n",
       "<circle clip-path=\"url(#clip342)\" cx=\"990.061\" cy=\"451.781\" r=\"14.4\" fill=\"#009af9\" fill-rule=\"evenodd\" fill-opacity=\"1\" stroke=\"#000000\" stroke-opacity=\"1\" stroke-width=\"3.2\"/>\n",
       "<circle clip-path=\"url(#clip342)\" cx=\"1250.12\" cy=\"451.781\" r=\"14.4\" fill=\"#009af9\" fill-rule=\"evenodd\" fill-opacity=\"1\" stroke=\"#000000\" stroke-opacity=\"1\" stroke-width=\"3.2\"/>\n",
       "<circle clip-path=\"url(#clip342)\" cx=\"1510.17\" cy=\"451.781\" r=\"14.4\" fill=\"#009af9\" fill-rule=\"evenodd\" fill-opacity=\"1\" stroke=\"#000000\" stroke-opacity=\"1\" stroke-width=\"3.2\"/>\n",
       "<circle clip-path=\"url(#clip342)\" cx=\"1770.23\" cy=\"87.9763\" r=\"14.4\" fill=\"#009af9\" fill-rule=\"evenodd\" fill-opacity=\"1\" stroke=\"#000000\" stroke-opacity=\"1\" stroke-width=\"3.2\"/>\n",
       "<circle clip-path=\"url(#clip342)\" cx=\"2030.29\" cy=\"87.9763\" r=\"14.4\" fill=\"#009af9\" fill-rule=\"evenodd\" fill-opacity=\"1\" stroke=\"#000000\" stroke-opacity=\"1\" stroke-width=\"3.2\"/>\n",
       "<circle clip-path=\"url(#clip342)\" cx=\"2290.34\" cy=\"87.9763\" r=\"14.4\" fill=\"#009af9\" fill-rule=\"evenodd\" fill-opacity=\"1\" stroke=\"#000000\" stroke-opacity=\"1\" stroke-width=\"3.2\"/>\n",
       "</svg>\n"
      ]
     },
     "execution_count": 10,
     "metadata": {},
     "output_type": "execute_result"
    }
   ],
   "source": [
    "using Plots\n",
    "E = eigenenergies(dense(H_mb))\n",
    "plot(1:length(E),E,seriestype=:scatter,legend=false)"
   ]
  },
  {
   "cell_type": "markdown",
   "id": "1d88b286-9737-4a87-8c53-4998f7d43975",
   "metadata": {},
   "source": [
    "# Cherns"
   ]
  },
  {
   "cell_type": "markdown",
   "id": "640e6903-a0dd-497f-b0f4-0b3cc7846df0",
   "metadata": {},
   "source": [
    "Berry Curvature:\n",
    "\\begin{equation}\n",
    "\\mathcal{F}(\\vec{\\theta}) = \\log \\left( U_x(\\vec{\\theta})U_y(\\vec{\\theta}+\\delta_x)U_x(\\vec{\\theta}+\\delta_y)^{-1}U_y(\\vec{\\theta})^{-1} \\right)\n",
    "\\end{equation}\n",
    "Link variables:\n",
    "\\begin{equation}\n",
    "U_\\mu(\\vec{\\theta}) = \\frac{\n",
    "det \\left( \\Phi(\\vec{\\theta})^\\dagger \\Phi(\\vec{\\theta}+\\delta_\\mu) \\right) \n",
    "}{\n",
    "| det \\left(\\Phi(\\vec{\\theta})^\\dagger \\Phi(\\vec{\\theta}+\\delta_\\mu) \\right) |} , \\quad \\delta_x = \\left(\\frac{2\\pi}{N_{\\theta}},0 \\right), \\delta_y = \\left(0, \\frac{2\\pi}{N_{\\theta}}\\right)\n",
    "\\end{equation}\n",
    "Chern Number:\n",
    "\\begin{equation}\n",
    "\\mathcal{C} = \\frac{1}{2\\pi i} \\sum_{\\vec{\\theta}} \\mathcal{F}(\\vec{\\theta})\n",
    "\\end{equation}"
   ]
  },
  {
   "cell_type": "code",
   "execution_count": 11,
   "id": "6cfefdc0",
   "metadata": {
    "tags": []
   },
   "outputs": [
    {
     "data": {
      "text/plain": [
       "Chern_Nums (generic function with 1 method)"
      ]
     },
     "execution_count": 11,
     "metadata": {},
     "output_type": "execute_result"
    }
   ],
   "source": [
    "# executeme\n",
    "\n",
    "function Chern_Nums(Tx, Ty, n1, n2)\n",
    "    \n",
    "    Sum=0\n",
    "    \n",
    "    for tx in range(start=1, stop=length(Tx))\n",
    "        for ty in range(start=1, stop=length(Ty))\n",
    "            \n",
    "            op = Op_Sp(Nx, Ny, 1/q, Tx[tx], Ty[ty])\n",
    "            H_mb = get_mb_op(basis_mb, op)\n",
    "            w1, v1 = eigen(dense(H_mb).data)\n",
    "            i = sortperm(w1, by=real);w1 = w1[i];v1 = v1[:,i]\n",
    "            v1 = v1[:,n1:n2]\n",
    "            \n",
    "            #------------------------------------\n",
    "            op = Op_Sp(Nx, Ny, 1/q, Tx[tx]+dx, Ty[ty])\n",
    "            H_mb = get_mb_op(basis_mb, op)\n",
    "            w2, v2 = eigen(dense(H_mb).data)\n",
    "            i = sortperm(w2, by=real);w2 = w2[i];v2 = v2[:,i]\n",
    "            v2 = v2[:,n1:n2]\n",
    "            \n",
    "            #------------------------------------\n",
    "            op = Op_Sp(Nx, Ny, 1/q, Tx[tx], Ty[ty]+dy)\n",
    "            H_mb = get_mb_op(basis_mb, op)\n",
    "            w3, v3 = eigen(dense(H_mb).data)\n",
    "            i = sortperm(w3, by=real);w3 = w3[i];v3 = v3[:,i]\n",
    "            v3 = v3[:,n1:n2]\n",
    "            \n",
    "            #------------------------------------\n",
    "            op = Op_Sp(Nx, Ny, 1/q, Tx[tx]+dx, Ty[ty]+dy)\n",
    "            H_mb = get_mb_op(basis_mb, op)\n",
    "            w4, v4 = eigen(dense(H_mb).data)\n",
    "            i = sortperm(w4, by=real);w4 = w4[i];v4 = v4[:,i]\n",
    "            v4 = v4[:,n1:n2]\n",
    "            \n",
    "            #----------LINK VARIABLES------------\n",
    "            U1=det(adjoint(v1)*v2)\n",
    "            U1=U1/abs(U1)\n",
    "            U2=det(adjoint(v2)*v4)\n",
    "            U2=U2/abs(U2)\n",
    "            U3=det(adjoint(v3)*v4)\n",
    "            U3=U3/abs(U3)\n",
    "            U4=det(adjoint(v1)*v3)\n",
    "            U4=U4/abs(U4)\n",
    "            \n",
    "            #----------BERRY CURVATURE-----------\n",
    "            F=log(U1*U2*1/U3*1/U4)\n",
    "            Sum=Sum+F\n",
    "            \n",
    "        end\n",
    "    end\n",
    "    \n",
    "    return 1/(2*pi*1im)*Sum\n",
    "end"
   ]
  },
  {
   "cell_type": "code",
   "execution_count": 12,
   "id": "ebe7913c-4c43-4df5-8f51-4e6bf29002fb",
   "metadata": {},
   "outputs": [
    {
     "name": "stdout",
     "output_type": "stream",
     "text": [
      "0.9999999999999993 - 2.1189893385618477e-16im\n",
      "-1.9999999999999991 - 9.138572912885619e-17im\n",
      "1.0000000000000002 - 7.070919024504723e-17im\n"
     ]
    }
   ],
   "source": [
    "println(Chern_Nums(Tx, Ty, 1, 3))\n",
    "println(Chern_Nums(Tx, Ty, 4, 6))\n",
    "println(Chern_Nums(Tx, Ty, 7, 9))"
   ]
  },
  {
   "cell_type": "markdown",
   "id": "a638856e-0f25-4a8e-96f6-f31637e49ee2",
   "metadata": {},
   "source": [
    "# Check with \"Hofstadter FBA Chern Numbers\" file"
   ]
  },
  {
   "cell_type": "code",
   "execution_count": 53,
   "id": "a017bbe4-692c-44d2-b972-63f53ceffd09",
   "metadata": {},
   "outputs": [
    {
     "name": "stdout",
     "output_type": "stream",
     "text": [
      "0.4737671077153785 + 0.8806501732509936im\n",
      "0.9533374936084829 - 0.3019066466315307im\n",
      "0.8823811102043503 - 0.4705354145593489im\n"
     ]
    },
    {
     "data": {
      "text/plain": [
       "0.305399602772122 + 0.9522242816829604im"
      ]
     },
     "execution_count": 53,
     "metadata": {},
     "output_type": "execute_result"
    }
   ],
   "source": [
    "pn = 1\n",
    "tx = ty = 1\n",
    "#---\n",
    "op = Op_Sp(Nx, Ny, 1/q, Tx[tx], Ty[ty])\n",
    "H_mb = get_mb_op(basis_mb, op)\n",
    "w1, v1 = eigen(dense(H_mb).data)\n",
    "i = sortperm(w1, by=real);w1 = w1[i];v1 = v1[:,i]\n",
    "#---\n",
    "op = Op_Sp(Nx, Ny, 1/q, Tx[tx]+dx, Ty[ty])\n",
    "H_mb = get_mb_op(basis_mb, op)\n",
    "w2, v2 = eigen(dense(H_mb).data)\n",
    "i = sortperm(w2, by=real);w2 = w2[i];v2 = v2[:,i]\n",
    "#---\n",
    "op = Op_Sp(Nx, Ny, 1/q, Tx[tx], Ty[ty]+dy)\n",
    "H_mb = get_mb_op(basis_mb, op)\n",
    "w3, v3 = eigen(dense(H_mb).data)\n",
    "i = sortperm(w3, by=real);w3 = w3[i];v3 = v3[:,i]\n",
    "#---\n",
    "op = Op_Sp(Nx, Ny, 1/q, Tx[tx]+dx, Ty[ty]+dy)\n",
    "H_mb = get_mb_op(basis_mb, op)\n",
    "w4, v4 = eigen(dense(H_mb).data)\n",
    "i = sortperm(w4, by=real);w4 = w4[i];v4 = v4[:,i]\n",
    "#---\n",
    "U1=det(adjoint(v1)*v2)\n",
    "U1=U1/abs(U1)\n",
    "println(U1)\n",
    "U2=det(adjoint(v2)*v4)\n",
    "U2=U2/abs(U2)\n",
    "println(U2)\n",
    "U3=det(adjoint(v3)*v4)\n",
    "U3=U3/abs(U3)\n",
    "println(U3)\n",
    "U4=det(adjoint(v1)*v3)\n",
    "U4=U4/abs(U4)"
   ]
  },
  {
   "cell_type": "code",
   "execution_count": 62,
   "id": "1d8892a7-46af-4f89-8636-bec42ef3e121",
   "metadata": {},
   "outputs": [
    {
     "data": {
      "text/plain": [
       "3.0000000000000004"
      ]
     },
     "execution_count": 62,
     "metadata": {},
     "output_type": "execute_result"
    }
   ],
   "source": [
    "norm(v1'*v3)"
   ]
  },
  {
   "cell_type": "code",
   "execution_count": 35,
   "id": "5616e7d4-7cc7-473b-9fc4-d941dab74baa",
   "metadata": {
    "tags": []
   },
   "outputs": [
    {
     "data": {
      "text/plain": [
       "0.0"
      ]
     },
     "execution_count": 35,
     "metadata": {},
     "output_type": "execute_result"
    }
   ],
   "source": [
    "Tx[1]"
   ]
  },
  {
   "cell_type": "code",
   "execution_count": 36,
   "id": "fe3b8214-4319-4987-accb-6b544bd1ef7f",
   "metadata": {
    "tags": []
   },
   "outputs": [
    {
     "data": {
      "text/plain": [
       "9-element Vector{Float64}:\n",
       " -2.2360679774997836\n",
       " -1.9318516525781346\n",
       " -1.732050807568874\n",
       " -0.5176380902050401\n",
       " -1.3322676295501878e-15\n",
       "  0.5176380902050417\n",
       "  1.7320508075688776\n",
       "  1.9318516525781368\n",
       "  2.2360679774997894"
      ]
     },
     "execution_count": 36,
     "metadata": {},
     "output_type": "execute_result"
    }
   ],
   "source": [
    "w1"
   ]
  },
  {
   "cell_type": "code",
   "execution_count": 37,
   "id": "ad60cf60-4ff0-44d4-86bf-b5899b71627d",
   "metadata": {
    "tags": []
   },
   "outputs": [
    {
     "data": {
      "text/plain": [
       "9-element Vector{Float64}:\n",
       " -2.2360679774997836\n",
       " -1.9318516525781346\n",
       " -1.732050807568874\n",
       " -0.5176380902050401\n",
       " -1.3322676295501878e-15\n",
       "  0.5176380902050417\n",
       "  1.7320508075688776\n",
       "  1.9318516525781368\n",
       "  2.2360679774997894"
      ]
     },
     "execution_count": 37,
     "metadata": {},
     "output_type": "execute_result"
    }
   ],
   "source": [
    "w2"
   ]
  },
  {
   "cell_type": "code",
   "execution_count": 38,
   "id": "50be0f08-fde4-4b11-925e-81e95997366d",
   "metadata": {},
   "outputs": [
    {
     "data": {
      "text/plain": [
       "9-element Vector{Float64}:\n",
       " -2.2360679774997836\n",
       " -1.9318516525781346\n",
       " -1.732050807568874\n",
       " -0.5176380902050401\n",
       " -1.3322676295501878e-15\n",
       "  0.5176380902050417\n",
       "  1.7320508075688776\n",
       "  1.9318516525781368\n",
       "  2.2360679774997894"
      ]
     },
     "execution_count": 38,
     "metadata": {},
     "output_type": "execute_result"
    }
   ],
   "source": [
    "w3"
   ]
  },
  {
   "cell_type": "code",
   "execution_count": 39,
   "id": "7f4be3e5-892f-41a0-8863-8c55e5f4e5cc",
   "metadata": {},
   "outputs": [
    {
     "data": {
      "text/plain": [
       "9-element Vector{Float64}:\n",
       " -2.2360679774997836\n",
       " -1.9318516525781346\n",
       " -1.732050807568874\n",
       " -0.5176380902050401\n",
       " -1.3322676295501878e-15\n",
       "  0.5176380902050417\n",
       "  1.7320508075688776\n",
       "  1.9318516525781368\n",
       "  2.2360679774997894"
      ]
     },
     "execution_count": 39,
     "metadata": {},
     "output_type": "execute_result"
    }
   ],
   "source": [
    "w4"
   ]
  },
  {
   "cell_type": "code",
   "execution_count": 19,
   "id": "b7f176cc-af0c-4034-828c-04d7c22b221b",
   "metadata": {
    "tags": []
   },
   "outputs": [
    {
     "data": {
      "text/plain": [
       "1.0000000000000009 + 1.7993071056029142e-17im"
      ]
     },
     "execution_count": 19,
     "metadata": {},
     "output_type": "execute_result"
    }
   ],
   "source": [
    "det(v1'*v2)"
   ]
  },
  {
   "cell_type": "code",
   "execution_count": 20,
   "id": "11ebabd7-39ed-426a-b67f-acdd0e0e4adb",
   "metadata": {},
   "outputs": [
    {
     "data": {
      "text/plain": [
       "9×9 Matrix{ComplexF64}:\n",
       " -0.0790569+0.136931im     …  -0.0790569+0.136931im\n",
       "  -0.353553+1.56959e-15im       0.353553-2.09569e-16im\n",
       " -0.0790569-0.136931im        -0.0790569-0.136931im\n",
       "   0.176777+0.306186im         -0.176777-0.306186im\n",
       "  -0.632456+2.22045e-16im      -0.632456+1.97758e-16im\n",
       "   0.176777-0.306186im     …   -0.176777+0.306186im\n",
       "   0.158114-1.96333e-16im       0.158114-5.6676e-16im\n",
       "  -0.353553+2.03414e-15im       0.353553-8.25448e-17im\n",
       "   0.158114-0.0im               0.158114+0.0im"
      ]
     },
     "execution_count": 20,
     "metadata": {},
     "output_type": "execute_result"
    }
   ],
   "source": [
    "v1"
   ]
  },
  {
   "cell_type": "code",
   "execution_count": 21,
   "id": "7512f4dd-9a2d-4a93-9173-02dd70a5a0f8",
   "metadata": {},
   "outputs": [
    {
     "data": {
      "text/plain": [
       "9×9 Matrix{ComplexF64}:\n",
       " -0.0790569+0.136931im     …  -0.0790569+0.136931im\n",
       "  -0.353553+1.56959e-15im       0.353553-2.09569e-16im\n",
       " -0.0790569-0.136931im        -0.0790569-0.136931im\n",
       "   0.176777+0.306186im         -0.176777-0.306186im\n",
       "  -0.632456+2.22045e-16im      -0.632456+1.97758e-16im\n",
       "   0.176777-0.306186im     …   -0.176777+0.306186im\n",
       "   0.158114-1.96333e-16im       0.158114-5.6676e-16im\n",
       "  -0.353553+2.03414e-15im       0.353553-8.25448e-17im\n",
       "   0.158114-0.0im               0.158114+0.0im"
      ]
     },
     "execution_count": 21,
     "metadata": {},
     "output_type": "execute_result"
    }
   ],
   "source": [
    "v2"
   ]
  },
  {
   "cell_type": "code",
   "execution_count": 22,
   "id": "1b15374c-df23-4c9a-b84c-2b86b8b99b41",
   "metadata": {},
   "outputs": [
    {
     "data": {
      "text/plain": [
       "9×9 Matrix{ComplexF64}:\n",
       "          1.0+8.66355e-20im  …  -3.05311e-16-5.51171e-19im\n",
       "   1.0925e-16-9.34373e-18im      9.02056e-17+1.38778e-17im\n",
       "  2.43598e-15-3.18562e-17im      8.67536e-17+5.55112e-17im\n",
       "  6.10919e-17-3.22896e-17im     -1.21431e-17+2.08167e-17im\n",
       "  1.83188e-16-1.63546e-17im      5.55112e-17+3.11357e-18im\n",
       " -3.81703e-17+4.93655e-17im  …   2.77556e-17-2.77556e-17im\n",
       "  -3.0556e-16-2.83197e-17im      8.20793e-17+5.55112e-17im\n",
       "  1.40783e-17+5.42248e-17im     -2.22045e-16-5.55112e-17im\n",
       " -3.05311e-16+5.51171e-19im              1.0+0.0im"
      ]
     },
     "execution_count": 22,
     "metadata": {},
     "output_type": "execute_result"
    }
   ],
   "source": [
    "v1'*v2"
   ]
  },
  {
   "cell_type": "code",
   "execution_count": null,
   "id": "2cd0fb8a-defa-427a-8960-caa2f5139bc3",
   "metadata": {},
   "outputs": [],
   "source": []
  }
 ],
 "metadata": {
  "kernelspec": {
   "display_name": "Julia 1.7.2",
   "language": "julia",
   "name": "julia-1.7"
  },
  "language_info": {
   "file_extension": ".jl",
   "mimetype": "application/julia",
   "name": "julia",
   "version": "1.7.2"
  }
 },
 "nbformat": 4,
 "nbformat_minor": 5
}
