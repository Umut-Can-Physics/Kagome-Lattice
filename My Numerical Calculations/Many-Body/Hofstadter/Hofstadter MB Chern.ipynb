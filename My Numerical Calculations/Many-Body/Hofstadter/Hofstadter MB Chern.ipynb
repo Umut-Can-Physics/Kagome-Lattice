{
 "cells": [
  {
   "cell_type": "code",
   "execution_count": 1,
   "id": "551e4ff7",
   "metadata": {
    "tags": []
   },
   "outputs": [
    {
     "data": {
      "text/plain": [
       "HSP_T (generic function with 1 method)"
      ]
     },
     "execution_count": 1,
     "metadata": {},
     "output_type": "execute_result"
    }
   ],
   "source": [
    "using NBInclude\n",
    "@nbinclude(\"Hofstadter Single Particle in Theta Space.ipynb\")"
   ]
  },
  {
   "cell_type": "code",
   "execution_count": 2,
   "id": "44a15cd8-7a16-415e-8da9-8a6db7d909b3",
   "metadata": {
    "tags": []
   },
   "outputs": [],
   "source": [
    "using QuantumOptics"
   ]
  },
  {
   "cell_type": "code",
   "execution_count": 3,
   "id": "af068119",
   "metadata": {
    "tags": []
   },
   "outputs": [
    {
     "data": {
      "text/plain": [
       "OP_HSP_T (generic function with 1 method)"
      ]
     },
     "execution_count": 3,
     "metadata": {},
     "output_type": "execute_result"
    }
   ],
   "source": [
    "# Operator form of SP with Theta Phases \n",
    "\n",
    "function OP_HSP_T(Nx, Ny, alpha, Tx, Ty)\n",
    "    \n",
    "    N = Nx*Ny\n",
    "    \n",
    "    H_T = HSP_T(Nx, Ny, alpha, Tx,Ty)\n",
    "    \n",
    "    basis = NLevelBasis(N) #SP Basis\n",
    "    \n",
    "    H = SparseOperator(basis)\n",
    "    \n",
    "    for m in 1:N\n",
    "        for n in 1:N\n",
    "            H = H + H_T[m,n] * transition(basis, m, n)\n",
    "        end\n",
    "    end\n",
    "    \n",
    "    return H\n",
    "end"
   ]
  },
  {
   "cell_type": "code",
   "execution_count": 5,
   "id": "2121230d-8660-4f75-ba68-cbc416d244a8",
   "metadata": {
    "tags": []
   },
   "outputs": [
    {
     "data": {
      "text/plain": [
       "true"
      ]
     },
     "execution_count": 5,
     "metadata": {},
     "output_type": "execute_result"
    }
   ],
   "source": [
    "using LinearAlgebra\n",
    "\n",
    "# check operator form\n",
    "eigenenergies(dense(OP_HSP_T(5, 5, 1/2, 3, 3))) == eigvals(HSP_T(5, 5, 1/2, 3, 3))"
   ]
  },
  {
   "cell_type": "code",
   "execution_count": 6,
   "id": "32ad44a3",
   "metadata": {
    "tags": []
   },
   "outputs": [
    {
     "data": {
      "text/plain": [
       "36-element Vector{Float64}:\n",
       " -4.247407710954486\n",
       " -4.247407710954484\n",
       " -4.247407710954483\n",
       " -3.55192691581006\n",
       " -3.551926915810057\n",
       " -3.5519269158100566\n",
       " -2.1998220466366223\n",
       " -2.199822046636622\n",
       " -2.199822046636621\n",
       " -2.0402999780699203\n",
       " -2.0402999780699194\n",
       " -2.0402999780699194\n",
       " -0.4648260879066999\n",
       "  ⋮\n",
       "  1.6757463443171412\n",
       "  1.675746344317143\n",
       "  1.675746344317145\n",
       "  1.9881605117701484\n",
       "  1.9881605117701497\n",
       "  1.9881605117701506\n",
       "  3.8160389973446867\n",
       "  3.816038997344687\n",
       "  3.8160389973446938\n",
       "  4.754502722512921\n",
       "  4.754502722512924\n",
       "  4.754502722512928"
      ]
     },
     "execution_count": 6,
     "metadata": {},
     "output_type": "execute_result"
    }
   ],
   "source": [
    "# MB Hamiltonian with Twisted-Angle\n",
    "\n",
    "function MB_HSP_T(Nx, Ny, alpha, Tx, Ty, PN)\n",
    "    \n",
    "    N = Nx*Ny\n",
    "    \n",
    "    basis = NLevelBasis(N)\n",
    "    states = fermionstates(basis, [PN])\n",
    "    basis_mb = ManyBodyBasis(basis, states)\n",
    "    \n",
    "    H = manybodyoperator(basis_mb, OP_HSP_T(Nx, Ny, alpha, Tx, Ty))\n",
    "    \n",
    "    return H\n",
    "end\n",
    "\n",
    "eigenenergies(dense(MB_HSP_T(3, 3, 1/3, 2, 2, 2)))"
   ]
  },
  {
   "cell_type": "code",
   "execution_count": 12,
   "id": "a1a0b77b-1375-4b5b-8425-1d52712c807d",
   "metadata": {
    "tags": []
   },
   "outputs": [
    {
     "data": {
      "text/plain": [
       "21-element Vector{Float64}:\n",
       " 0.0\n",
       " 0.3141592653589793\n",
       " 0.6283185307179586\n",
       " 0.9424777960769379\n",
       " 1.2566370614359172\n",
       " 1.5707963267948966\n",
       " 1.8849555921538759\n",
       " 2.199114857512855\n",
       " 2.5132741228718345\n",
       " 2.827433388230814\n",
       " 3.141592653589793\n",
       " 3.4557519189487724\n",
       " 3.7699111843077517\n",
       " 4.084070449666731\n",
       " 4.39822971502571\n",
       " 4.71238898038469\n",
       " 5.026548245743669\n",
       " 5.340707511102648\n",
       " 5.654866776461628\n",
       " 5.969026041820607\n",
       " 6.283185307179586"
      ]
     },
     "execution_count": 12,
     "metadata": {},
     "output_type": "execute_result"
    }
   ],
   "source": [
    "# Twisted Angle Space for Calculating Real Space Chern Numbers\n",
    "\n",
    "Tsize=20\n",
    "dx=2*pi/Tsize\n",
    "dy=dx\n",
    "Tx=collect(range(start=0, stop=2*pi, step=dx))\n",
    "Ty=collect(range(start=0, stop=2*pi, step=dy))"
   ]
  },
  {
   "cell_type": "code",
   "execution_count": 16,
   "id": "6cfefdc0",
   "metadata": {
    "tags": []
   },
   "outputs": [
    {
     "data": {
      "text/plain": [
       "-0.1702518160790502 + 1.4724495787715159e-16im"
      ]
     },
     "execution_count": 16,
     "metadata": {},
     "output_type": "execute_result"
    }
   ],
   "source": [
    "function Chern_Nums(Nx, Ny, alpha, PN, Tx, Ty, n1, n2)\n",
    "    \n",
    "    Sum=0\n",
    "    \n",
    "    for tx in range(start=1, stop=length(Tx))\n",
    "        for ty in range(start=1, stop=length(Ty))\n",
    "            w1, v1 = eigen(dense(MB_HSP_T(Nx, Ny, alpha, Tx[tx], Ty[ty], PN)).data)\n",
    "            v1 = v1[:,n1:n2]\n",
    "            #------------------------------------\n",
    "            w2, v2 = eigen(dense(MB_HSP_T(Nx, Ny, alpha, Tx[tx]+dx, Ty[ty], PN)).data)\n",
    "            v2 = v2[:,n1:n2]\n",
    "            #------------------------------------\n",
    "            w3, v3 = eigen(dense(MB_HSP_T(Nx, Ny, alpha, Tx[tx], Ty[ty]+dy, PN)).data)\n",
    "            v3 = v3[:,n1:n2]\n",
    "            #------------------------------------\n",
    "            w4, v4 = eigen(dense(MB_HSP_T(Nx, Ny, alpha, Tx[tx]+dx, Ty[ty]+dy, PN)).data)\n",
    "            v4 = v4[:,n1:n2]\n",
    "            #----------LINK VARIABLES------------\n",
    "            U1=det(adjoint(v1)*v2)\n",
    "            U1=U1/abs(U1)\n",
    "            U2=det(adjoint(v2)*v4)\n",
    "            U2=U2/abs(U2)\n",
    "            U3=det(adjoint(v3)*v4)\n",
    "            U3=U3/abs(U3)\n",
    "            U4=det(adjoint(v1)*v3)\n",
    "            U4=U4/abs(U4)\n",
    "            #----------BERRY CURVATURE-----------\n",
    "            F=log(U1*U2*1/U3*1/U4)\n",
    "            Sum=Sum+F\n",
    "        end\n",
    "    end\n",
    "    \n",
    "    return 1/(2*pi*1im)*Sum\n",
    "end\n",
    "\n",
    "#Nx=Ny=3 iken:\n",
    "#n1=1;n2=12\n",
    "#n3=13;n4=24\n",
    "#n5=25;n6=36\n",
    "\n",
    "Chern_Nums(3, 3, 1/3, 2, Tx, Ty, 1, 11)"
   ]
  },
  {
   "cell_type": "code",
   "execution_count": null,
   "id": "2c2045fa-f6b6-4e89-8846-bb736b08c2c4",
   "metadata": {},
   "outputs": [],
   "source": []
  }
 ],
 "metadata": {
  "kernelspec": {
   "display_name": "Julia 1.7.2",
   "language": "julia",
   "name": "julia-1.7"
  },
  "language_info": {
   "file_extension": ".jl",
   "mimetype": "application/julia",
   "name": "julia",
   "version": "1.7.2"
  }
 },
 "nbformat": 4,
 "nbformat_minor": 5
}
