{
 "cells": [
  {
   "cell_type": "markdown",
   "id": "677ec276",
   "metadata": {},
   "source": [
    "# MB"
   ]
  },
  {
   "cell_type": "code",
   "execution_count": 1,
   "id": "551e4ff7",
   "metadata": {},
   "outputs": [
    {
     "name": "stdout",
     "output_type": "stream",
     "text": [
      "Nx=3, Ny=3"
     ]
    }
   ],
   "source": [
    "using QuantumOptics, NBInclude, LinearAlgebra\n",
    "@nbinclude(\"(M)_Hofstadter_Real_Space_in_Julia.ipynb\")"
   ]
  },
  {
   "cell_type": "code",
   "execution_count": 2,
   "id": "586608aa",
   "metadata": {},
   "outputs": [
    {
     "data": {
      "text/plain": [
       "0.3333333333333333"
      ]
     },
     "execution_count": 2,
     "metadata": {},
     "output_type": "execute_result"
    }
   ],
   "source": [
    "q = Ny\n",
    "alpha = 1/q"
   ]
  },
  {
   "cell_type": "code",
   "execution_count": 3,
   "id": "b0d8c0e8",
   "metadata": {},
   "outputs": [
    {
     "data": {
      "text/plain": [
       "ManyBody(onebodybasis=NLevel(N=9), states:45)"
      ]
     },
     "execution_count": 3,
     "metadata": {},
     "output_type": "execute_result"
    }
   ],
   "source": [
    "# Fock States\n",
    "b = NLevelBasis(N)\n",
    "states = bosonstates(b, [2])\n",
    "b_mb_b = ManyBodyBasis(b, states)"
   ]
  },
  {
   "cell_type": "code",
   "execution_count": 4,
   "id": "ece96f65",
   "metadata": {},
   "outputs": [
    {
     "name": "stdout",
     "output_type": "stream",
     "text": [
      "Nx=3, Ny=3-1.4789168302212794 - 2.9551801919348284e-16im\n"
     ]
    }
   ],
   "source": [
    "@nbinclude(\"Hofstadter SP Chern Numbers in Julia.ipynb\")"
   ]
  },
  {
   "cell_type": "code",
   "execution_count": 5,
   "id": "653ab3d7",
   "metadata": {},
   "outputs": [],
   "source": [
    "# Many-Body Hamiltonian (HARD-CORE or U=0) from Single-Particle Hamiltonian\n",
    "MB_HSP = SparseOperator(b_mb_b)\n",
    "for m in 1:N\n",
    "    for n in 1:N\n",
    "        MB_HSP = MB_HSP + HSP(Nx,Ny,alpha)[m,n] * transition(b_mb_b, m, n)\n",
    "    end\n",
    "end"
   ]
  },
  {
   "cell_type": "code",
   "execution_count": 6,
   "id": "af068119",
   "metadata": {},
   "outputs": [
    {
     "data": {
      "text/plain": [
       "OP_HSP_T (generic function with 1 method)"
      ]
     },
     "execution_count": 6,
     "metadata": {},
     "output_type": "execute_result"
    }
   ],
   "source": [
    "# Operator form of HSP_T(Tx,Ty)\n",
    "function OP_HSP_T(Tx,Ty)\n",
    "    H = SparseOperator(b)\n",
    "    for m in 1:Nx*Ny\n",
    "        for n in 1:Nx*Ny\n",
    "            H = H + HSP_T(Tx,Ty)[m,n] * transition(b, m, n)\n",
    "        end\n",
    "    end\n",
    "    return H\n",
    "end"
   ]
  },
  {
   "cell_type": "code",
   "execution_count": 7,
   "id": "32ad44a3",
   "metadata": {
    "scrolled": false
   },
   "outputs": [
    {
     "data": {
      "text/plain": [
       "45-element Vector{Float64}:\n",
       " -4.674650254842061\n",
       " -4.67465025484206\n",
       " -4.67465025484206\n",
       " -4.67465025484206\n",
       " -4.67465025484206\n",
       " -4.674650254842058\n",
       " -2.548040480216614\n",
       " -2.548040480216613\n",
       " -2.548040480216613\n",
       " -2.548040480216612\n",
       " -2.5480404802166117\n",
       " -2.5480404802166112\n",
       " -2.548040480216611\n",
       "  ⋮\n",
       "  2.337325127421022\n",
       "  2.337325127421023\n",
       "  2.3373251274210287\n",
       "  2.3373251274210296\n",
       "  2.3373251274210376\n",
       "  2.3373251274210416\n",
       "  5.096080960433181\n",
       "  5.096080960433219\n",
       "  5.096080960433235\n",
       "  5.0960809604332375\n",
       "  5.0960809604332455\n",
       "  5.096080960433251"
      ]
     },
     "execution_count": 7,
     "metadata": {},
     "output_type": "execute_result"
    }
   ],
   "source": [
    "# MB Hamiltonian with Twisted-Angle\n",
    "function MB_HSP_T(Tx, Ty)\n",
    "    H = manybodyoperator(b_mb_b, OP_HSP_T(Tx,Ty))\n",
    "    return H\n",
    "end\n",
    "\n",
    "E00, U00 = eigen(dense(MB_HSP_T(5,9)).data)\n",
    "E00\n",
    "# The degeneracy which is need, disappeared!"
   ]
  },
  {
   "cell_type": "code",
   "execution_count": 8,
   "id": "5f40c8f1",
   "metadata": {},
   "outputs": [
    {
     "data": {
      "text/plain": [
       "false"
      ]
     },
     "execution_count": 8,
     "metadata": {},
     "output_type": "execute_result"
    }
   ],
   "source": [
    "# check\n",
    "E, V = eigen(dense(MB_HSP_T(Tx[1], Ty[1])).data)\n",
    "eigenstates(dense(MB_HSP_T(Tx[1], Ty[1])))[1] == E \n",
    "eigenstates(dense(MB_HSP_T(Tx[1], Ty[1])))[2][1] == V[:,1] # numerical errors"
   ]
  },
  {
   "cell_type": "code",
   "execution_count": 9,
   "id": "06633d13",
   "metadata": {},
   "outputs": [
    {
     "name": "stdout",
     "output_type": "stream",
     "text": [
      "[-4.120044573655578, -4.120044573655576, -4.1200445736555755, -4.120044573655575, -4.120044573655574, -4.120044573655573, -2.708472085267954, -2.708472085267953, -2.7084720852679522, -2.7084720852679522, -2.708472085267952, -2.7084720852679514, -2.708472085267951, -2.7084720852679505, -2.7084720852679482, -1.2968995968803303, -1.29689959688033, -1.2968995968803294, -1.296899596880329, -1.2968995968803287, -1.2968995968803247, 0.6484497984401569, 0.6484497984401595, 0.648449798440163, 0.648449798440163, 0.6484497984401635, 0.6484497984401648, 0.6484497984401669, 0.6484497984401693, 0.6484497984401707, 2.0600222868277736, 2.060022286827777, 2.0600222868277798, 2.060022286827783, 2.0600222868277838, 2.060022286827784, 2.060022286827787, 2.0600222868277913, 2.060022286827795, 5.416944170535896, 5.416944170535898, 5.416944170535919, 5.416944170535921, 5.416944170535925, 5.416944170535927][1, 2, 3, 4, 5, 6, 7, 8, 9, 10, 11, 12, 13, 14, 15, 16, 17, 18, 19, 20, 21, 22, 23, 24, 25, 26, 27, 28, 29, 30, 31, 32, 33, 34, 35, 36, 37, 38, 39, 40, 41, 42, 43, 44, 45]"
     ]
    },
    {
     "data": {
      "text/plain": [
       "45×45 Matrix{ComplexF64}:\n",
       "   -0.063077+0.0605898im   …     0.126688-0.0480759im\n",
       "  -0.0353227-0.0499334im       -0.0688046-0.0560293im\n",
       " -0.00683902-0.170256im         0.0887164+0.0944243im\n",
       "   0.0228832+0.130798im         -0.230526+0.179702im\n",
       " -0.00234614+0.0832359im        0.0543332-0.132211im\n",
       "    -0.08207-0.00763601im  …    -0.121659+0.208911im\n",
       "   0.0767828+0.0461078im         0.169658-0.189013im\n",
       "  -0.0434283-0.032638im        -0.0619599+0.105217im\n",
       "   -0.120917-0.0141361im        -0.103293-0.121522im\n",
       "    0.101004-0.0731036im        0.0343865+0.119828im\n",
       "    0.179605-0.0633485im   …    -0.104904-0.130973im\n",
       "   0.0117138+0.0159742im        0.0603091-0.105297im\n",
       "   -0.152411+0.045377im         0.0843543+0.131902im\n",
       "            ⋮              ⋱  \n",
       "   -0.205185+0.0451053im        0.0277467-0.0776164im\n",
       "   -0.212214+0.0138558im       -0.0404855-0.0655642im\n",
       "     0.17168-0.0539777im   …    0.0304376-0.102076im\n",
       "   -0.097984+0.120682im        -0.0622375+0.15741im\n",
       "   -0.247376-0.0199684im       -0.0644663+0.0286723im\n",
       "   -0.231409-0.139226im         0.0744606+0.00670922im\n",
       "   0.0315706-0.0591996im        0.0913187-0.157608im\n",
       "    0.065889-0.0121609im   …   0.00648712+0.0812973im\n",
       "    0.085187+0.0670509im       -0.0742011-0.0904373im\n",
       "    0.157739-0.0261712im        -0.048673-0.0489225im\n",
       "    0.166362+0.00181379im     -0.00358587+0.0027978im\n",
       "   0.0372221+0.0im             1.62154e-6-0.0im"
      ]
     },
     "execution_count": 9,
     "metadata": {},
     "output_type": "execute_result"
    }
   ],
   "source": [
    "w1, v1 = eigen(dense(MB_HSP_T(Tx[5]+dx, Ty[4]+dy)).data)\n",
    "print(w1)\n",
    "idx1 = sortperm(w1) #index sorting is necessary, eigen() func. already sorted\n",
    "print(idx1)\n",
    "v1[:,idx1] #sort vectors acording to sorted eigenvalues"
   ]
  },
  {
   "cell_type": "code",
   "execution_count": 27,
   "id": "6cfefdc0",
   "metadata": {},
   "outputs": [
    {
     "name": "stdout",
     "output_type": "stream",
     "text": [
      "1.8850439776401804 - 9.024685863744358e-18im\n",
      "[-5.368630003917495, -5.368630003917487, -5.368630003917483, -5.368630003917481, -5.3686300039174615, -5.368630003917424, -2.1140640547114122, -2.1140640547114065, -2.1140640547113994, -2.114064054711398, -2.114064054711396, -2.114064054711393, -2.1140640547113927, -2.114064054711391, -2.114064054711389, -0.5702509472473392, -0.570250947247338, -0.5702509472473343, -0.570250947247334, -0.5702509472473338, -0.5702509472473327, -0.5702509472473319, -0.57025094724733, -0.5702509472473286, 1.1405018944946654, 1.140501894494667, 1.1405018944946674, 1.1405018944946683, 1.1405018944946692, 1.1405018944946692, 2.684315001958731, 2.684315001958733, 2.684315001958733, 2.684315001958734, 2.6843150019587343, 2.684315001958735, 2.6843150019587356, 2.6843150019587356, 2.684315001958737, 4.228128109422796, 4.228128109422798, 4.228128109422799, 4.2281281094228, 4.2281281094228005, 4.2281281094228005]\n"
     ]
    }
   ],
   "source": [
    "# Chern Calculation\n",
    "Sum=0\n",
    "n1=1;n2=15\n",
    "for tx in range(start=1, stop=length(Tx))\n",
    "    for ty in range(start=1, stop=length(Ty))\n",
    "        w1, v1 = eigen(dense(MB_HSP_T(Tx[tx], Ty[ty])).data)\n",
    "        v1 = v1[:,n1:n2]\n",
    "        #------------------------------------\n",
    "        w2, v2 = eigen(dense(MB_HSP_T(Tx[tx]+dx, Ty[ty])).data)\n",
    "        v2 = v2[:,n1:n2]\n",
    "        #------------------------------------\n",
    "        w3, v3 = eigen(dense(MB_HSP_T(Tx[tx], Ty[ty]+dy)).data)\n",
    "        v3 = v3[:,n1:n2]\n",
    "        #------------------------------------\n",
    "        w4, v4 = eigen(dense(MB_HSP_T(Tx[tx]+dx, Ty[ty]+dy)).data)\n",
    "        v4 = v4[:,n1:n2]\n",
    "        #----------LINK VARIABLES------------\n",
    "        U1=det(adjoint(v1)*v2)\n",
    "        U1=U1/abs(U1)\n",
    "        U2=det(adjoint(v2)*v4)\n",
    "        U2=U2/abs(U2)\n",
    "        U3=det(adjoint(v3)*v4)\n",
    "        U3=U3/abs(U3)\n",
    "        U4=det(adjoint(v1)*v3)\n",
    "        U4=U4/abs(U4)\n",
    "        #----------BERRY CURVATURE-----------\n",
    "        F=log(U1*U2*1/U3*1/U4)\n",
    "        Sum=Sum+F\n",
    "    end\n",
    "end\n",
    "Chern=1/(2*pi*1im)*Sum\n",
    "println(Chern)\n",
    "println(w1)"
   ]
  }
 ],
 "metadata": {
  "kernelspec": {
   "display_name": "Julia 1.7.2",
   "language": "julia",
   "name": "julia-1.7"
  },
  "language_info": {
   "file_extension": ".jl",
   "mimetype": "application/julia",
   "name": "julia",
   "version": "1.7.2"
  }
 },
 "nbformat": 4,
 "nbformat_minor": 5
}
