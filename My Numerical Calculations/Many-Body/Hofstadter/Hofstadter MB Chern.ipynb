{
 "cells": [
  {
   "cell_type": "markdown",
   "id": "4d4a16e2-199a-4284-b6cf-67e362830035",
   "metadata": {},
   "source": [
    "# NON-INTERACTING (HARD-CORE / U=0) CASE"
   ]
  },
  {
   "cell_type": "markdown",
   "id": "ebf138a2-39bb-495b-8859-4d1125f85231",
   "metadata": {},
   "source": [
    "Many-Body Chern Number without Integration\n",
    "\n",
    "Koji Kudo, Haruki Watanabe, Toshikaze Kariyado, and Yasuhiro Hatsugai\n",
    "\n",
    "Phys. Rev. Lett. 122, 146601 – Published 9 April 2019\n",
    "\n",
    "https://journals.aps.org/prl/abstract/10.1103/PhysRevLett.122.146601"
   ]
  },
  {
   "cell_type": "code",
   "execution_count": 1,
   "id": "551e4ff7",
   "metadata": {
    "tags": []
   },
   "outputs": [
    {
     "data": {
      "text/plain": [
       "HSP_T (generic function with 1 method)"
      ]
     },
     "execution_count": 1,
     "metadata": {},
     "output_type": "execute_result"
    }
   ],
   "source": [
    "using NBInclude\n",
    "@nbinclude(\"Hofstadter Single Particle in Theta Space.ipynb\")"
   ]
  },
  {
   "cell_type": "code",
   "execution_count": 2,
   "id": "44a15cd8-7a16-415e-8da9-8a6db7d909b3",
   "metadata": {
    "tags": []
   },
   "outputs": [],
   "source": [
    "using QuantumOptics"
   ]
  },
  {
   "cell_type": "markdown",
   "id": "2f5f1c69-9ba2-4662-acda-c627f7dfc991",
   "metadata": {},
   "source": [
    "## Initial Parameters"
   ]
  },
  {
   "cell_type": "code",
   "execution_count": 3,
   "id": "cb0bce07-7d7e-4e81-80a7-7d5614c14e6b",
   "metadata": {
    "tags": []
   },
   "outputs": [],
   "source": [
    "Nx=3; Ny=3; N=Nx*Ny; q=Ny; PN=1; T_size=5;"
   ]
  },
  {
   "cell_type": "markdown",
   "id": "4b6afe62-2fb0-45e3-9ca0-865be87f22bf",
   "metadata": {},
   "source": [
    "## Create Single-Particle Operator"
   ]
  },
  {
   "cell_type": "code",
   "execution_count": 4,
   "id": "af068119",
   "metadata": {
    "tags": []
   },
   "outputs": [
    {
     "data": {
      "text/plain": [
       "Op_Sp (generic function with 1 method)"
      ]
     },
     "execution_count": 4,
     "metadata": {},
     "output_type": "execute_result"
    }
   ],
   "source": [
    "function Op_Sp(Nx, Ny, alpha, Tx, Ty)\n",
    "        \n",
    "    H_T = HSP_T(Nx, Ny, alpha, Tx, Ty, 0)\n",
    "    \n",
    "    basis = NLevelBasis(N) \n",
    "    \n",
    "    H = SparseOperator(basis)\n",
    "    \n",
    "    for m in 1:N\n",
    "        for n in 1:N\n",
    "            H = H + H_T[m,n] * transition(basis, m, n)\n",
    "        end\n",
    "    end\n",
    "    \n",
    "    return H\n",
    "end"
   ]
  },
  {
   "cell_type": "code",
   "execution_count": 5,
   "id": "2567a5e2-4d54-41ae-950b-8fa96ee83ea5",
   "metadata": {},
   "outputs": [],
   "source": [
    "# # CHECK: Operator Form\n",
    "# using LinearAlgebra\n",
    "# Tx=Ty=0\n",
    "# op = Op_Sp(Nx, Ny, 1/q, Tx, Ty)\n",
    "# eigenenergies(dense(op)) == eigvals(HSP_T(Nx, Ny, 1/q, Tx, Ty, 0))\n",
    "# eigenenergies(dense(op))"
   ]
  },
  {
   "cell_type": "markdown",
   "id": "5841609b-5be8-4f1f-8e7c-ac0969025bdf",
   "metadata": {},
   "source": [
    "## Create Many-Basis for Hard-Core Interaction"
   ]
  },
  {
   "cell_type": "code",
   "execution_count": 6,
   "id": "c4edf9d5-1b11-4fc7-b3e8-c44f148441a9",
   "metadata": {},
   "outputs": [
    {
     "data": {
      "text/plain": [
       "get_mb_op (generic function with 1 method)"
      ]
     },
     "execution_count": 6,
     "metadata": {},
     "output_type": "execute_result"
    }
   ],
   "source": [
    "basis = NLevelBasis(N)\n",
    "states = bosonstates(basis, PN)\n",
    "basis_mb = ManyBodyBasis(basis, states)\n",
    "\n",
    "function get_mb_op(basis_mb, op)\n",
    "    H_mb2 = SparseOperator(basis_mb) \n",
    "    for m in 1:N\n",
    "        for n in 1:N\n",
    "            H_mb2 += op.data[m,n] * transition(basis_mb, m, n)\n",
    "        end\n",
    "    end\n",
    "    \n",
    "    return H_mb2\n",
    "end"
   ]
  },
  {
   "cell_type": "code",
   "execution_count": 7,
   "id": "77d0924f-ce0f-4528-bdd9-49f804dbae33",
   "metadata": {
    "tags": []
   },
   "outputs": [],
   "source": [
    "# CHECK: MB Structure (PN=1)\n",
    "#eigenenergies(dense(H_mb)) == eigvals(HSP_T(Nx, Ny, 1/q, Tx, Ty, 0))\n",
    "# eigenenergies(dense(get_mb_op(basis_mb, op)))"
   ]
  },
  {
   "cell_type": "code",
   "execution_count": 8,
   "id": "b9119073-c425-4830-8a96-9940855e6341",
   "metadata": {},
   "outputs": [],
   "source": [
    "# # Ortogonality Check !\n",
    "# E, V = eigen(dense(get_mb_op(basis_mb, op)).data)\n",
    "# dot(V[:,1],V[:,2])\n",
    "# norm(V)"
   ]
  },
  {
   "cell_type": "markdown",
   "id": "e5b48d1a-fac0-48a4-8c87-8b3e96a3648c",
   "metadata": {},
   "source": [
    "## Crete Mesh of Twisted-Angle Space"
   ]
  },
  {
   "cell_type": "markdown",
   "id": "4525b8ef-b394-4d86-9c95-75cfa497790e",
   "metadata": {},
   "source": [
    "\\begin{equation}\n",
    "\\theta_\\mu = \\frac{2\\pi}{N_\\theta}n_\\mu\n",
    "\\end{equation}"
   ]
  },
  {
   "cell_type": "code",
   "execution_count": 21,
   "id": "a1a0b77b-1375-4b5b-8425-1d52712c807d",
   "metadata": {
    "tags": []
   },
   "outputs": [],
   "source": [
    "dx=2*pi/T_size\n",
    "dy=dx\n",
    "Tx=collect(range(start=0, stop=2*pi-dx, step=dx))\n",
    "Ty=collect(range(start=0, stop=2*pi-dy, step=dy));"
   ]
  },
  {
   "cell_type": "markdown",
   "id": "ff484e23-d75b-43b3-89fc-2929cf4add01",
   "metadata": {},
   "source": [
    "## Energies of Many-Body Hofstadter Model"
   ]
  },
  {
   "cell_type": "code",
   "execution_count": 10,
   "id": "af9e4ecd-03d5-46a1-a7c8-18f7fca16d2f",
   "metadata": {
    "tags": []
   },
   "outputs": [],
   "source": [
    "# using Plots\n",
    "# E = eigenenergies(dense(H_mb))\n",
    "# plot(1:length(E),E,seriestype=:scatter,legend=false)"
   ]
  },
  {
   "cell_type": "markdown",
   "id": "1d88b286-9737-4a87-8c53-4998f7d43975",
   "metadata": {},
   "source": [
    "# Cherns"
   ]
  },
  {
   "cell_type": "markdown",
   "id": "640e6903-a0dd-497f-b0f4-0b3cc7846df0",
   "metadata": {},
   "source": [
    "Berry Curvature:\n",
    "\\begin{equation}\n",
    "\\mathcal{F}(\\vec{\\theta}) = \\log \\left( U_x(\\vec{\\theta})U_y(\\vec{\\theta}+\\delta_x)U_x(\\vec{\\theta}+\\delta_y)^{-1}U_y(\\vec{\\theta})^{-1} \\right)\n",
    "\\end{equation}\n",
    "Link variables:\n",
    "\\begin{equation}\n",
    "U_\\mu(\\vec{\\theta}) = \\frac{\n",
    "det \\left( \\Phi(\\vec{\\theta})^\\dagger \\Phi(\\vec{\\theta}+\\delta_\\mu) \\right) \n",
    "}{\n",
    "| det \\left(\\Phi(\\vec{\\theta})^\\dagger \\Phi(\\vec{\\theta}+\\delta_\\mu) \\right) |} , \\quad \\delta_x = \\left(\\frac{2\\pi}{N_{\\theta}},0 \\right), \\delta_y = \\left(0, \\frac{2\\pi}{N_{\\theta}}\\right)\n",
    "\\end{equation}\n",
    "Chern Number:\n",
    "\\begin{equation}\n",
    "\\mathcal{C} = \\frac{1}{2\\pi i} \\sum_{\\vec{\\theta}} \\mathcal{F}(\\vec{\\theta})\n",
    "\\end{equation}"
   ]
  },
  {
   "cell_type": "code",
   "execution_count": 52,
   "id": "6cfefdc0",
   "metadata": {
    "tags": []
   },
   "outputs": [
    {
     "data": {
      "text/plain": [
       "Chern_Nums (generic function with 1 method)"
      ]
     },
     "execution_count": 52,
     "metadata": {},
     "output_type": "execute_result"
    }
   ],
   "source": [
    "# executeme\n",
    "\n",
    "function Chern_Nums(Tx, Ty, n1, n2)\n",
    "    \n",
    "    Sum=0\n",
    "    \n",
    "    for tx in range(start=1, stop=length(Tx))\n",
    "        for ty in range(start=1, stop=length(Ty))\n",
    "            \n",
    "            op = Op_Sp(Nx, Ny, 1/q, Tx[tx], Ty[ty])\n",
    "            H_mb = get_mb_op(basis_mb, op)\n",
    "            w1, v1 = eigen(dense(H_mb).data)\n",
    "            i = sortperm(w1, by=real);w1 = w1[i];v1 = v1[:,i]\n",
    "\n",
    "            if isapprox(v1[1,1], 0+0im, atol=0.001) == false\n",
    "                v1 = v1 ./ v1[1,1]\n",
    "                v1 = v1 / norm(v1)\n",
    "            end\n",
    "            \n",
    "            v1 = v1[:,n1:n2]\n",
    "            \n",
    "            #------------------------------------\n",
    "            op = Op_Sp(Nx, Ny, 1/q, Tx[tx]+dx, Ty[ty])\n",
    "            H_mb = get_mb_op(basis_mb, op)\n",
    "            w2, v2 = eigen(dense(H_mb).data)\n",
    "            i = sortperm(w2, by=real);w2 = w2[i];v2 = v2[:,i]\n",
    "\n",
    "            if isapprox(v2[1,1], 0+0im, atol=0.001) == false\n",
    "                v2 = v2 ./ v2[1,1]\n",
    "                v2 = v2 / norm(v2)\n",
    "            end\n",
    "            \n",
    "            v2 = v2[:,n1:n2]\n",
    "            \n",
    "            #------------------------------------\n",
    "            op = Op_Sp(Nx, Ny, 1/q, Tx[tx], Ty[ty]+dy)\n",
    "            H_mb = get_mb_op(basis_mb, op)\n",
    "            w3, v3 = eigen(dense(H_mb).data)\n",
    "            i = sortperm(w3, by=real);w3 = w3[i];v3 = v3[:,i]\n",
    "\n",
    "\n",
    "            if isapprox(v3[1,1], 0+0im, atol=0.001) == false\n",
    "                v3 = v3 ./ v3[1,1]\n",
    "                v3 = v3 / norm(v3)\n",
    "            end\n",
    "            \n",
    "            v3 = v3[:,n1:n2]\n",
    "            \n",
    "            #------------------------------------\n",
    "            op = Op_Sp(Nx, Ny, 1/q, Tx[tx]+dx, Ty[ty]+dy)\n",
    "            H_mb = get_mb_op(basis_mb, op)\n",
    "            w4, v4 = eigen(dense(H_mb).data)\n",
    "            i = sortperm(w4, by=real);w4 = w4[i];v4 = v4[:,i]\n",
    "\n",
    "            if isapprox(v4[1,1], 0+0im, atol=0.001) == false\n",
    "                v4 = v4 ./ v4[1,1]\n",
    "                v4 = v4 / norm(v4)\n",
    "            end\n",
    "            \n",
    "            v4 = v4[:,n1:n2]\n",
    "            \n",
    "            #----------LINK VARIABLES------------\n",
    "            U1=det(adjoint(v1)*v2)\n",
    "            U1=U1/abs(U1)\n",
    "            U2=det(adjoint(v2)*v4)\n",
    "            U2=U2/abs(U2)\n",
    "            U3=det(adjoint(v3)*v4)\n",
    "            U3=U3/abs(U3)\n",
    "            U4=det(adjoint(v1)*v3)\n",
    "            U4=U4/abs(U4)\n",
    "            \n",
    "            #----------BERRY CURVATURE-----------\n",
    "            F=log(U1*U2*1/U3*1/U4)\n",
    "            Sum=Sum+F\n",
    "            \n",
    "        end\n",
    "    end\n",
    "    \n",
    "    return 1/(2*pi*1im)*Sum\n",
    "end"
   ]
  },
  {
   "cell_type": "code",
   "execution_count": 53,
   "id": "ebe7913c-4c43-4df5-8f51-4e6bf29002fb",
   "metadata": {},
   "outputs": [
    {
     "data": {
      "text/plain": [
       "0.9999999999999998 - 1.3804490804951803e-19im"
      ]
     },
     "execution_count": 53,
     "metadata": {},
     "output_type": "execute_result"
    }
   ],
   "source": [
    "Chern_Nums(Tx, Ty, 1, 3)"
   ]
  },
  {
   "cell_type": "markdown",
   "id": "a3a5fdc0-fccf-49a4-86e3-c994d837a3f7",
   "metadata": {},
   "source": [
    "# TEST"
   ]
  },
  {
   "cell_type": "code",
   "execution_count": 28,
   "id": "21a84607-f510-456c-8f06-c8253f1fb49a",
   "metadata": {},
   "outputs": [
    {
     "data": {
      "text/plain": [
       "Chern (generic function with 1 method)"
      ]
     },
     "execution_count": 28,
     "metadata": {},
     "output_type": "execute_result"
    }
   ],
   "source": [
    "using NBInclude; using QuantumOptics; using Plots; using LinearAlgebra\n",
    "@nbinclude(\"Hofstadter Single Particle in Theta Space.ipynb\")\n",
    "function Chern(Nx::Int64, Ny::Int64, alpha, TSize::Int64, PN::Int64, PlotBands::Bool, n1::Int64, n2::Int64)\n",
    "\n",
    "    # Single Particle #\n",
    "    N = Nx*Ny\n",
    "    function Op_Sp(Nx, Ny, alpha, Tx, Ty)    \n",
    "        H_T = HSP_T(Nx, Ny, alpha, Tx, Ty, 0)\n",
    "        basis = NLevelBasis(N) \n",
    "        H = SparseOperator(basis)\n",
    "        for m in 1:N\n",
    "            for n in 1:N\n",
    "                H = H + H_T[m,n] * transition(basis, m, n)\n",
    "            end\n",
    "        end\n",
    "        return H\n",
    "    end\n",
    "    # ---- #\n",
    "\n",
    "    # Fermionic Many-Body #\n",
    "    basis = NLevelBasis(N)\n",
    "    states = fermionstates(basis, PN)\n",
    "    basis_mb = ManyBodyBasis(basis, states)\n",
    "    function get_mb_op(basis_mb, op)\n",
    "        H_mb2 = SparseOperator(basis_mb) \n",
    "        for m in 1:N\n",
    "            for n in 1:N\n",
    "                H_mb2 += op.data[m,n] * transition(basis_mb, m, n)\n",
    "            end\n",
    "        end\n",
    "        return H_mb2\n",
    "    end\n",
    "    # ---- #\n",
    "    \n",
    "    # Plot #\n",
    "    if PlotBands == true\n",
    "        Tx=Ty=0\n",
    "        op = Op_Sp(Nx, Ny, 1/q, Tx, Ty)\n",
    "        Hamiltonian = get_mb_op(basis_mb, op)\n",
    "        E = eigenenergies(dense(Hamiltonian))\n",
    "        P = scatter(1:length(E),E,legend=false, xlabel=\"n\", ylabel=\"E\", title=\"Energy Bands\")\n",
    "        display(P)\n",
    "    end\n",
    "    # ---- #\n",
    "\n",
    "    # Twist Angle Parameter Space #\n",
    "    dx=2*pi/TSize\n",
    "    dy=dx\n",
    "    Tx=collect(range(start=0, stop=2*pi-dx, step=dx))\n",
    "    Ty=collect(range(start=0, stop=2*pi-dy, step=dy))\n",
    "    # ---- #\n",
    "\n",
    "    # Link Variable and Berry Curvature #\n",
    "    Sum=0\n",
    "    for tx in range(start=1, stop=length(Tx))\n",
    "        for ty in range(start=1, stop=length(Ty))\n",
    "            op = Op_Sp(Nx, Ny, 1/q, Tx[tx], Ty[ty])\n",
    "            H_mb = get_mb_op(basis_mb, op)\n",
    "            w1, v1 = eigen(dense(H_mb).data)\n",
    "            i = sortperm(w1, by=real);w1 = w1[i];v1 = v1[:,i]\n",
    "            v1 = v1[:,n1:n2]  \n",
    "            #------------------------------------\n",
    "            op = Op_Sp(Nx, Ny, 1/q, Tx[tx]+dx, Ty[ty])\n",
    "            H_mb = get_mb_op(basis_mb, op)\n",
    "            w2, v2 = eigen(dense(H_mb).data)\n",
    "            i = sortperm(w2, by=real);w2 = w2[i];v2 = v2[:,i]\n",
    "            v2 = v2[:,n1:n2]\n",
    "            #------------------------------------\n",
    "            op = Op_Sp(Nx, Ny, 1/q, Tx[tx], Ty[ty]+dy)\n",
    "            H_mb = get_mb_op(basis_mb, op)\n",
    "            w3, v3 = eigen(dense(H_mb).data)\n",
    "            i = sortperm(w3, by=real);w3 = w3[i];v3 = v3[:,i]\n",
    "            v3 = v3[:,n1:n2]\n",
    "            #------------------------------------\n",
    "            op = Op_Sp(Nx, Ny, 1/q, Tx[tx]+dx, Ty[ty]+dy)\n",
    "            H_mb = get_mb_op(basis_mb, op)\n",
    "            w4, v4 = eigen(dense(H_mb).data)\n",
    "            i = sortperm(w4, by=real);w4 = w4[i];v4 = v4[:,i]\n",
    "            v4 = v4[:,n1:n2]\n",
    "            #----------LINK VARIABLES------------\n",
    "            U1=det(adjoint(v1)*v2)\n",
    "            U1=U1/abs(U1)\n",
    "            U2=det(adjoint(v2)*v4)\n",
    "            U2=U2/abs(U2)\n",
    "            U3=det(adjoint(v3)*v4)\n",
    "            U3=U3/abs(U3)\n",
    "            U4=det(adjoint(v1)*v3)\n",
    "            U4=U4/abs(U4)\n",
    "            #----------BERRY CURVATURE-----------\n",
    "            F=log(U1*U2*1/U3*1/U4)\n",
    "            Sum=Sum+F \n",
    "        end\n",
    "    end\n",
    "    # ---- #\n",
    "    \n",
    "    return print(\"Chern Number of [\",n1,\",\",n2,\"] band is: \",1/(2*pi*1im)*Sum)\n",
    "end"
   ]
  },
  {
   "cell_type": "markdown",
   "id": "f767306f-c3d6-40fc-97f9-395e2b9d6a45",
   "metadata": {},
   "source": [
    "$\\nu = \\frac{N}{N_\\phi}, N_\\phi = N_y$"
   ]
  },
  {
   "cell_type": "code",
   "execution_count": 29,
   "id": "3f22d770-a24e-460b-846d-f6fdf56930a9",
   "metadata": {},
   "outputs": [
    {
     "data": {
      "text/plain": [
       "1"
      ]
     },
     "execution_count": 29,
     "metadata": {},
     "output_type": "execute_result"
    }
   ],
   "source": [
    "PN=1"
   ]
  },
  {
   "cell_type": "code",
   "execution_count": 30,
   "id": "a517cb12-e1d7-4199-867a-3e997ef61875",
   "metadata": {},
   "outputs": [
    {
     "name": "stdout",
     "output_type": "stream",
     "text": [
      "Chern Number of [1,3] band is: 0.9999999999999993 - 2.1189893385618477e-16im"
     ]
    }
   ],
   "source": [
    "TSize = 5\n",
    "PlotBands = false\n",
    "n1 = 1\n",
    "n2 = 9\n",
    "Chern(Nx::Int64, Ny::Int64, alpha, TSize::Int64, PN::Int64, PlotBands::Bool, n1::Int64, n2::Int64)"
   ]
  },
  {
   "cell_type": "markdown",
   "id": "a638856e-0f25-4a8e-96f6-f31637e49ee2",
   "metadata": {},
   "source": [
    "# Check with \"Hofstadter FBA Chern Numbers\" file"
   ]
  },
  {
   "cell_type": "code",
   "execution_count": 41,
   "id": "42c00391-a03c-4804-95b4-a32e59523f69",
   "metadata": {},
   "outputs": [
    {
     "data": {
      "text/plain": [
       "9"
      ]
     },
     "execution_count": 41,
     "metadata": {},
     "output_type": "execute_result"
    }
   ],
   "source": [
    "n1 = 1\n",
    "n2 = 9"
   ]
  },
  {
   "cell_type": "code",
   "execution_count": 54,
   "id": "c488046e-6d27-45d6-974c-655613dc60e9",
   "metadata": {},
   "outputs": [
    {
     "data": {
      "text/plain": [
       "-2.220446049250312e-16 - 4.719912066503473e-16im"
      ]
     },
     "execution_count": 54,
     "metadata": {},
     "output_type": "execute_result"
    }
   ],
   "source": [
    "tx = ty = 1\n",
    "op = Op_Sp(Nx, Ny, 1/q, Tx[tx], Ty[ty])\n",
    "H_mb = get_mb_op(basis_mb, op)\n",
    "w1, v1 = eigen(dense(H_mb).data)\n",
    "i = sortperm(w1, by=real);w1 = w1[i];v1 = v1[:,i]\n",
    "\n",
    "if isapprox(v1[1,1], 0+0im, atol=0.001) == false\n",
    "    v1 = v1 ./ v1[1,1]\n",
    "    v1 = v1 / norm(v1)\n",
    "end\n",
    "\n",
    "v1 = v1[:,n1:n2]\n",
    "\n",
    "#------------------------------------\n",
    "op = Op_Sp(Nx, Ny, 1/q, Tx[tx]+dx, Ty[ty])\n",
    "H_mb = get_mb_op(basis_mb, op)\n",
    "w2, v2 = eigen(dense(H_mb).data)\n",
    "i = sortperm(w2, by=real);w2 = w2[i];v2 = v2[:,i]\n",
    "\n",
    "if isapprox(v2[1,1], 0+0im, atol=0.001) == false\n",
    "    v2 = v2 ./ v2[1,1]\n",
    "    v2 = v2 / norm(v2)\n",
    "end\n",
    "\n",
    "v2 = v2[:,n1:n2]\n",
    "\n",
    "#------------------------------------\n",
    "op = Op_Sp(Nx, Ny, 1/q, Tx[tx], Ty[ty]+dy)\n",
    "H_mb = get_mb_op(basis_mb, op)\n",
    "w3, v3 = eigen(dense(H_mb).data)\n",
    "i = sortperm(w3, by=real);w3 = w3[i];v3 = v3[:,i]\n",
    "\n",
    "\n",
    "if isapprox(v3[1,1], 0+0im, atol=0.001) == false\n",
    "    v3 = v3 ./ v3[1,1]\n",
    "    v3 = v3 / norm(v3)\n",
    "end\n",
    "\n",
    "v3 = v3[:,n1:n2]\n",
    "\n",
    "#------------------------------------\n",
    "op = Op_Sp(Nx, Ny, 1/q, Tx[tx]+dx, Ty[ty]+dy)\n",
    "H_mb = get_mb_op(basis_mb, op)\n",
    "w4, v4 = eigen(dense(H_mb).data)\n",
    "i = sortperm(w4, by=real);w4 = w4[i];v4 = v4[:,i]\n",
    "\n",
    "if isapprox(v4[1,1], 0+0im, atol=0.001) == false\n",
    "    v4 = v4 ./ v4[1,1]\n",
    "    v4 = v4 / norm(v4)\n",
    "end\n",
    "\n",
    "v4 = v4[:,n1:n2]\n",
    "\n",
    "#----------LINK VARIABLES------------\n",
    "U1=det(adjoint(v1)*v2)\n",
    "U1=U1/abs(U1)\n",
    "U2=det(adjoint(v2)*v4)\n",
    "U2=U2/abs(U2)\n",
    "U3=det(adjoint(v3)*v4)\n",
    "U3=U3/abs(U3)\n",
    "U4=det(adjoint(v1)*v3)\n",
    "U4=U4/abs(U4)\n",
    "\n",
    "#----------BERRY CURVATURE-----------\n",
    "F=log(U1*U2*1/U3*1/U4)"
   ]
  },
  {
   "cell_type": "code",
   "execution_count": 56,
   "id": "834f038f-9ddd-4b40-acd7-167a492c87b6",
   "metadata": {},
   "outputs": [
    {
     "data": {
      "text/plain": [
       "Eigen{ComplexF64, ComplexF64, Matrix{ComplexF64}, Vector{ComplexF64}}\n",
       "values:\n",
       "9-element Vector{ComplexF64}:\n",
       "  -0.32801465840075295 - 0.059308473132833606im\n",
       "   -0.2725222976400102 + 0.19194454511686704im\n",
       "  -0.16199553023518315 - 0.29132208858054826im\n",
       " -0.005814093810660865 + 0.33328262394591174im\n",
       "   0.10052266572462915 - 0.3178148907567513im\n",
       "    0.1744745914924424 + 0.28402416804676417im\n",
       "   0.26830488330394775 - 0.1977968672814765im\n",
       "   0.29952124544228703 + 0.14628101257447026im\n",
       "   0.32959547074555917 + 0.049778878805416954im\n",
       "vectors:\n",
       "9×9 Matrix{ComplexF64}:\n",
       "   -0.151638-0.124449im   …       0.23851+0.293154im\n",
       " -0.00748168+0.0372432im        0.0144498+0.139226im\n",
       "    0.425551+0.0292314im         0.354841+0.360739im\n",
       "   -0.298878+0.0786868im         0.540588+0.0im\n",
       "   -0.222109-0.331671im         -0.339208-0.0479291im\n",
       "  -0.0513805-0.0817481im  …     -0.202349-0.0399316im\n",
       "    -0.12425+0.192471im      -0.000833344-0.0591432im\n",
       "    0.503442+0.0im               0.125173-0.151831im\n",
       "  -0.0529859+0.452991im          -0.19733-0.219645im"
      ]
     },
     "execution_count": 56,
     "metadata": {},
     "output_type": "execute_result"
    }
   ],
   "source": [
    "eigen(v1)"
   ]
  },
  {
   "cell_type": "code",
   "execution_count": 43,
   "id": "9ffe9d4a-2ef0-4b5f-bdae-0d51238bc564",
   "metadata": {},
   "outputs": [
    {
     "data": {
      "text/plain": [
       "9-element Vector{Float64}:\n",
       " -2.546639394327156\n",
       " -2.5466393943271535\n",
       " -2.5466393943271526\n",
       "  0.20750036611082523\n",
       "  0.20750036611082612\n",
       "  0.20750036611082656\n",
       "  2.3391390282163353\n",
       "  2.3391390282163353\n",
       "  2.3391390282163353"
      ]
     },
     "execution_count": 43,
     "metadata": {},
     "output_type": "execute_result"
    }
   ],
   "source": [
    "w4"
   ]
  },
  {
   "cell_type": "code",
   "execution_count": 49,
   "id": "8a9fecb9-9582-4042-b443-db17409e5266",
   "metadata": {},
   "outputs": [
    {
     "data": {
      "text/plain": [
       "9×1 Matrix{ComplexF64}:\n",
       " 0.052831216351296846 - 0.09150635094610983im\n",
       " 0.052831216351296846 + 0.09150635094610986im\n",
       "   0.3943375672974066 + 3.294430955222645e-18im\n",
       " -0.10566243270259382 + 2.3461773124865155e-17im\n",
       " -0.10566243270259379 - 2.3461773124865134e-17im\n",
       "   0.3943375672974066 + 3.294430955222645e-18im\n",
       "  -0.1971687836487033 - 0.34150635094610976im\n",
       " -0.19716878364870338 + 0.3415063509461098im\n",
       "   0.5773502691896254 - 0.0im"
      ]
     },
     "execution_count": 49,
     "metadata": {},
     "output_type": "execute_result"
    }
   ],
   "source": [
    "v1[:,2:2]"
   ]
  },
  {
   "cell_type": "code",
   "execution_count": 45,
   "id": "dcd6c67a-7c36-43de-8734-b4591befebeb",
   "metadata": {},
   "outputs": [
    {
     "data": {
      "text/plain": [
       "Eigen{ComplexF64, ComplexF64, Matrix{ComplexF64}, Vector{ComplexF64}}\n",
       "values:\n",
       "9-element Vector{ComplexF64}:\n",
       " -0.9237821843730506 - 0.3829183670639908im\n",
       " -0.9127317674854903 + 0.4085593232601819im\n",
       " -0.5215342306419987 - 0.8532303594391482im\n",
       " -0.2623864043148756 + 0.9649628877996882im\n",
       " 0.23431505737350233 - 0.9721607140221473im\n",
       "  0.5029485585228823 + 0.8643163468775512im\n",
       "  0.5149311226021472 - 0.8572315550513134im\n",
       "  0.8941587112056492 - 0.44775015262426376im\n",
       "   0.994590666507338 + 0.10387206600664475im\n",
       "vectors:\n",
       "9×9 Matrix{ComplexF64}:\n",
       "  -0.233362-0.249872im     0.123237-0.0983636im   …   -0.254675+0.310808im\n",
       "   0.432492+0.0im          0.253115+0.221968im        0.0356247-0.128093im\n",
       "  -0.162924-0.167249im    -0.460904+0.00584482im        0.37181-0.115709im\n",
       "   0.321713+0.147516im    0.0935112-0.407792im          0.18966-0.156605im\n",
       "   0.175821-0.28191im    -0.0480294+0.0996459im        0.624119+0.0im\n",
       "   -0.35168-0.0147907im   -0.125152-0.127691im    …  -0.0316598+0.210359im\n",
       "   0.233853-0.248351im   -0.0913065+0.0447651im        0.128144+0.106224im\n",
       " -0.0390444-0.128879im      0.58143+0.0im              0.282842+0.0733304im\n",
       "  -0.311433+0.224735im     0.274183-0.0807067im        0.204348-0.138266im"
      ]
     },
     "execution_count": 45,
     "metadata": {},
     "output_type": "execute_result"
    }
   ],
   "source": [
    "eigen(v1)"
   ]
  },
  {
   "cell_type": "code",
   "execution_count": null,
   "id": "cff38756-85b7-4e29-befc-db23a5a8f146",
   "metadata": {},
   "outputs": [],
   "source": []
  }
 ],
 "metadata": {
  "kernelspec": {
   "display_name": "Julia 1.7.2",
   "language": "julia",
   "name": "julia-1.7"
  },
  "language_info": {
   "file_extension": ".jl",
   "mimetype": "application/julia",
   "name": "julia",
   "version": "1.7.2"
  }
 },
 "nbformat": 4,
 "nbformat_minor": 5
}
