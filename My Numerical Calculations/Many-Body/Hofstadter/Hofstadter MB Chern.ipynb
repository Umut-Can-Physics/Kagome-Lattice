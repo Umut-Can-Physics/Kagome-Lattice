{
 "cells": [
  {
   "cell_type": "code",
   "execution_count": 1,
   "id": "551e4ff7",
   "metadata": {
    "tags": []
   },
   "outputs": [
    {
     "data": {
      "text/plain": [
       "HSP_T (generic function with 1 method)"
      ]
     },
     "execution_count": 1,
     "metadata": {},
     "output_type": "execute_result"
    }
   ],
   "source": [
    "using NBInclude\n",
    "@nbinclude(\"Hofstadter Single Particle in Theta Space.ipynb\")"
   ]
  },
  {
   "cell_type": "code",
   "execution_count": 2,
   "id": "44a15cd8-7a16-415e-8da9-8a6db7d909b3",
   "metadata": {
    "tags": []
   },
   "outputs": [],
   "source": [
    "using QuantumOptics"
   ]
  },
  {
   "cell_type": "code",
   "execution_count": 16,
   "id": "af068119",
   "metadata": {
    "tags": []
   },
   "outputs": [
    {
     "data": {
      "text/plain": [
       "Op_Sp (generic function with 1 method)"
      ]
     },
     "execution_count": 16,
     "metadata": {},
     "output_type": "execute_result"
    }
   ],
   "source": [
    "# Operator form of SP with Theta Phases \n",
    "\n",
    "function Op_Sp(Nx, Ny, alpha, Tx, Ty)\n",
    "    \n",
    "    N = Nx*Ny\n",
    "    \n",
    "    H_T = HSP_T(Nx, Ny, alpha, Tx,Ty)\n",
    "    \n",
    "    basis = NLevelBasis(N) #SP Basis\n",
    "    \n",
    "    H = SparseOperator(basis)\n",
    "    \n",
    "    for m in 1:N\n",
    "        for n in 1:N\n",
    "            H = H + H_T[m,n] * transition(basis, m, n)\n",
    "        end\n",
    "    end\n",
    "    \n",
    "    return H\n",
    "end"
   ]
  },
  {
   "cell_type": "code",
   "execution_count": 23,
   "id": "4eaa1afe-496d-4bc2-8dbd-056db82340cc",
   "metadata": {
    "tags": []
   },
   "outputs": [
    {
     "data": {
      "text/plain": [
       "Operator(dim=9x9)\n",
       "  basis: NLevel(N=9)sparse([2, 3, 4, 7, 1, 3, 5, 8, 1, 2  …  8, 9, 2, 5, 7, 9, 3, 6, 7, 8], [1, 1, 1, 1, 2, 2, 2, 2, 3, 3  …  7, 7, 8, 8, 8, 8, 9, 9, 9, 9], ComplexF64[-1.0 + 0.0im, 0.4161468365471424 - 0.9092974268256817im, -1.0 + 0.0im, 0.4161468365471424 + 0.9092974268256817im, -1.0 + 0.0im, -1.0 + 0.0im, 0.4999999999999998 - 0.8660254037844387im, 0.579401252953291 - 0.8150424455671965im, 0.4161468365471424 + 0.9092974268256817im, -1.0 + 0.0im  …  -1.0 + 0.0im, 0.4161468365471424 - 0.9092974268256817im, 0.579401252953291 + 0.8150424455671965im, 0.4999999999999998 + 0.8660254037844387im, -1.0 + 0.0im, -1.0 + 0.0im, -0.9955480895004333 + 0.09425498125848553im, 0.5000000000000004 - 0.8660254037844386im, 0.4161468365471424 + 0.9092974268256817im, -1.0 + 0.0im], 9, 9)"
      ]
     },
     "execution_count": 23,
     "metadata": {},
     "output_type": "execute_result"
    }
   ],
   "source": [
    "Nx=3;Ny=3;N=Nx*Ny;q=3;PN=2\n",
    "Tx=Ty=2\n",
    "op = Op_Sp(Nx, Ny, 1/q, Tx, Ty)"
   ]
  },
  {
   "cell_type": "code",
   "execution_count": 24,
   "id": "2121230d-8660-4f75-ba68-cbc416d244a8",
   "metadata": {
    "tags": []
   },
   "outputs": [
    {
     "data": {
      "text/plain": [
       "true"
      ]
     },
     "execution_count": 24,
     "metadata": {},
     "output_type": "execute_result"
    }
   ],
   "source": [
    "using LinearAlgebra\n",
    "\n",
    "# check Op. form\n",
    "eigenenergies(dense(op)) == eigvals(HSP_T(Nx, Ny, 1/q, Tx, Ty))"
   ]
  },
  {
   "cell_type": "code",
   "execution_count": 25,
   "id": "8e739e9a-8394-42fe-b70c-8e3b3fdd48f5",
   "metadata": {
    "tags": []
   },
   "outputs": [
    {
     "data": {
      "text/plain": [
       "Operator(dim=36x36)\n",
       "  basis: ManyBody(onebodybasis=NLevel(N=9), states:36)sparse([2, 4, 7, 9, 10, 13, 1, 5, 8, 9  …  26, 31, 34, 36, 15, 20, 30, 32, 34, 35], [1, 1, 1, 1, 1, 1, 2, 2, 2, 2  …  35, 35, 35, 35, 36, 36, 36, 36, 36, 36], ComplexF64[-1.0 + 0.0im, 0.4999999999999998 - 0.8660254037844387im, 0.579401252953291 - 0.8150424455671965im, 0.4161468365471424 - 0.9092974268256817im, -1.0 + 0.0im, 0.4161468365471424 + 0.9092974268256817im, -1.0 + 0.0im, 0.5000000000000004 + 0.8660254037844386im, -0.9955480895004333 - 0.09425498125848553im, -1.0 + 0.0im  …  -1.0 + 0.0im, 0.5000000000000004 - 0.8660254037844386im, -1.0 + 0.0im, -1.0 + 0.0im, 0.579401252953291 + 0.8150424455671965im, -0.9955480895004333 + 0.09425498125848553im, 0.4999999999999998 + 0.8660254037844387im, 0.5000000000000004 - 0.8660254037844386im, 0.4161468365471424 + 0.9092974268256817im, -1.0 + 0.0im], 36, 36)"
      ]
     },
     "execution_count": 25,
     "metadata": {},
     "output_type": "execute_result"
    }
   ],
   "source": [
    "basis = NLevelBasis(N)\n",
    "states = fermionstates(basis, PN)\n",
    "basis_mb = ManyBodyBasis(basis, states)\n",
    "H_mb = manybodyoperator(basis_mb, op)"
   ]
  },
  {
   "cell_type": "code",
   "execution_count": 26,
   "id": "5674312d-6454-4e0e-963b-95559ee36598",
   "metadata": {
    "tags": []
   },
   "outputs": [
    {
     "data": {
      "text/plain": [
       "false"
      ]
     },
     "execution_count": 26,
     "metadata": {},
     "output_type": "execute_result"
    }
   ],
   "source": [
    "# check MB (PN=1)\n",
    "eigenenergies(dense(H_mb)) == eigvals(HSP_T(Nx, Ny, 1/q, Tx, Ty))"
   ]
  },
  {
   "cell_type": "code",
   "execution_count": 27,
   "id": "a1a0b77b-1375-4b5b-8425-1d52712c807d",
   "metadata": {
    "tags": []
   },
   "outputs": [
    {
     "data": {
      "text/plain": [
       "21-element Vector{Float64}:\n",
       " 0.0\n",
       " 0.3141592653589793\n",
       " 0.6283185307179586\n",
       " 0.9424777960769379\n",
       " 1.2566370614359172\n",
       " 1.5707963267948966\n",
       " 1.8849555921538759\n",
       " 2.199114857512855\n",
       " 2.5132741228718345\n",
       " 2.827433388230814\n",
       " 3.141592653589793\n",
       " 3.4557519189487724\n",
       " 3.7699111843077517\n",
       " 4.084070449666731\n",
       " 4.39822971502571\n",
       " 4.71238898038469\n",
       " 5.026548245743669\n",
       " 5.340707511102648\n",
       " 5.654866776461628\n",
       " 5.969026041820607\n",
       " 6.283185307179586"
      ]
     },
     "execution_count": 27,
     "metadata": {},
     "output_type": "execute_result"
    }
   ],
   "source": [
    "# Twisted Angle Space for Calculating Real Space Chern Numbers\n",
    "\n",
    "Tsize=20\n",
    "dx=2*pi/Tsize\n",
    "dy=dx\n",
    "Tx=collect(range(start=0, stop=2*pi, step=dx))\n",
    "Ty=collect(range(start=0, stop=2*pi, step=dy))"
   ]
  },
  {
   "cell_type": "code",
   "execution_count": 28,
   "id": "6cfefdc0",
   "metadata": {
    "tags": []
   },
   "outputs": [
    {
     "data": {
      "text/plain": [
       "2.730402245122732 + 1.1790298986318535e-16im"
      ]
     },
     "execution_count": 28,
     "metadata": {},
     "output_type": "execute_result"
    }
   ],
   "source": [
    "function Chern_Nums(Tx, Ty, n1, n2)\n",
    "    \n",
    "    Sum=0\n",
    "    \n",
    "    for tx in range(start=1, stop=length(Tx))\n",
    "        for ty in range(start=1, stop=length(Ty))\n",
    "            op = Op_Sp(Nx, Ny, 1/q, Tx[tx], Ty[ty])\n",
    "            H_mb = manybodyoperator(basis_mb, op)\n",
    "            w1, v1 = eigen(dense(H_mb).data)\n",
    "            v1 = v1[:,n1:n2]\n",
    "            #------------------------------------\n",
    "            op = Op_Sp(Nx, Ny, 1/q, Tx[tx]+dx, Ty[ty])\n",
    "            H_mb = manybodyoperator(basis_mb, op)\n",
    "            w2, v2 = eigen(dense(H_mb).data)\n",
    "            v2 = v2[:,n1:n2]\n",
    "            #------------------------------------\n",
    "            op = Op_Sp(Nx, Ny, 1/q, Tx[tx], Ty[ty]+dy)\n",
    "            H_mb = manybodyoperator(basis_mb, op)\n",
    "            w3, v3 = eigen(dense(H_mb).data)\n",
    "            v3 = v3[:,n1:n2]\n",
    "            #------------------------------------\n",
    "            op = Op_Sp(Nx, Ny, 1/q, Tx[tx]+dx, Ty[ty]+dy)\n",
    "            H_mb = manybodyoperator(basis_mb, op)\n",
    "            w4, v4 = eigen(dense(H_mb).data)\n",
    "            v4 = v4[:,n1:n2]\n",
    "            #----------LINK VARIABLES------------\n",
    "            U1=det(adjoint(v1)*v2)\n",
    "            U1=U1/abs(U1)\n",
    "            U2=det(adjoint(v2)*v4)\n",
    "            U2=U2/abs(U2)\n",
    "            U3=det(adjoint(v3)*v4)\n",
    "            U3=U3/abs(U3)\n",
    "            U4=det(adjoint(v1)*v3)\n",
    "            U4=U4/abs(U4)\n",
    "            #----------BERRY CURVATURE-----------\n",
    "            F=log(U1*U2*1/U3*1/U4)\n",
    "            Sum=Sum+F\n",
    "        end\n",
    "    end\n",
    "    \n",
    "    return 1/(2*pi*1im)*Sum\n",
    "end\n",
    "\n",
    "#Nx=Ny=3 iken:\n",
    "#n1=1;n2=12\n",
    "#n3=13;n4=24\n",
    "#n5=25;n6=36\n",
    "\n",
    "Chern_Nums(Tx, Ty, 1, 12)"
   ]
  },
  {
   "cell_type": "code",
   "execution_count": null,
   "id": "2c2045fa-f6b6-4e89-8846-bb736b08c2c4",
   "metadata": {},
   "outputs": [],
   "source": []
  }
 ],
 "metadata": {
  "kernelspec": {
   "display_name": "Julia 1.7.2",
   "language": "julia",
   "name": "julia-1.7"
  },
  "language_info": {
   "file_extension": ".jl",
   "mimetype": "application/julia",
   "name": "julia",
   "version": "1.7.2"
  }
 },
 "nbformat": 4,
 "nbformat_minor": 5
}
