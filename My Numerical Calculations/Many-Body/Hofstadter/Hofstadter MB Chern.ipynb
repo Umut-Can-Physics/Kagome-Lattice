{
 "cells": [
  {
   "cell_type": "markdown",
   "id": "ebf138a2-39bb-495b-8859-4d1125f85231",
   "metadata": {},
   "source": [
    "Many-Body Chern Number without Integration\n",
    "\n",
    "Koji Kudo, Haruki Watanabe, Toshikaze Kariyado, and Yasuhiro Hatsugai\n",
    "\n",
    "Phys. Rev. Lett. 122, 146601 – Published 9 April 2019\n",
    "\n",
    "https://journals.aps.org/prl/abstract/10.1103/PhysRevLett.122.146601"
   ]
  },
  {
   "cell_type": "code",
   "execution_count": 1,
   "id": "551e4ff7",
   "metadata": {
    "tags": []
   },
   "outputs": [
    {
     "data": {
      "text/plain": [
       "HSP_T (generic function with 1 method)"
      ]
     },
     "execution_count": 1,
     "metadata": {},
     "output_type": "execute_result"
    }
   ],
   "source": [
    "using NBInclude\n",
    "@nbinclude(\"Hofstadter Single Particle in Theta Space.ipynb\")"
   ]
  },
  {
   "cell_type": "code",
   "execution_count": 2,
   "id": "44a15cd8-7a16-415e-8da9-8a6db7d909b3",
   "metadata": {
    "tags": []
   },
   "outputs": [],
   "source": [
    "using QuantumOptics"
   ]
  },
  {
   "cell_type": "markdown",
   "id": "2f5f1c69-9ba2-4662-acda-c627f7dfc991",
   "metadata": {},
   "source": [
    "## Initial Parameters"
   ]
  },
  {
   "cell_type": "code",
   "execution_count": 21,
   "id": "cb0bce07-7d7e-4e81-80a7-7d5614c14e6b",
   "metadata": {
    "tags": []
   },
   "outputs": [],
   "source": [
    "Nx=3;Ny=2;N=Nx*Ny;q=Ny;PN=3;T_size=5;\n",
    "# N/Nx*Ny = 1/2"
   ]
  },
  {
   "cell_type": "markdown",
   "id": "4b6afe62-2fb0-45e3-9ca0-865be87f22bf",
   "metadata": {},
   "source": [
    "## Create Single-Particle Operator"
   ]
  },
  {
   "cell_type": "code",
   "execution_count": 22,
   "id": "af068119",
   "metadata": {
    "tags": []
   },
   "outputs": [
    {
     "data": {
      "text/plain": [
       "Op_Sp (generic function with 1 method)"
      ]
     },
     "execution_count": 22,
     "metadata": {},
     "output_type": "execute_result"
    }
   ],
   "source": [
    "function Op_Sp(Nx, Ny, alpha, Tx, Ty)\n",
    "        \n",
    "    H_T = HSP_T(Nx, Ny, alpha, Tx, Ty, 0)\n",
    "    \n",
    "    basis = NLevelBasis(N) \n",
    "    \n",
    "    H = SparseOperator(basis)\n",
    "    \n",
    "    for m in 1:N\n",
    "        for n in 1:N\n",
    "            H = H + H_T[m,n] * transition(basis, m, n)\n",
    "        end\n",
    "    end\n",
    "    \n",
    "    return H\n",
    "end"
   ]
  },
  {
   "cell_type": "code",
   "execution_count": 23,
   "id": "2567a5e2-4d54-41ae-950b-8fa96ee83ea5",
   "metadata": {},
   "outputs": [
    {
     "data": {
      "text/plain": [
       "6-element Vector{Float64}:\n",
       " -2.302775637731995\n",
       " -2.302775637731995\n",
       " -1.0430024899310553e-16\n",
       "  1.3027756377319935\n",
       "  1.3027756377319948\n",
       "  1.9999999999999998"
      ]
     },
     "execution_count": 23,
     "metadata": {},
     "output_type": "execute_result"
    }
   ],
   "source": [
    "# CHECK: Operator Form\n",
    "using LinearAlgebra\n",
    "Tx=Ty=0\n",
    "op = Op_Sp(Nx, Ny, 1/q, Tx, Ty)\n",
    "eigenenergies(dense(op)) == eigvals(HSP_T(Nx, Ny, 1/q, Tx, Ty, 0))\n",
    "eigenenergies(dense(op))"
   ]
  },
  {
   "cell_type": "markdown",
   "id": "5841609b-5be8-4f1f-8e7c-ac0969025bdf",
   "metadata": {},
   "source": [
    "## Create Many-Basis for Hard-Core Interaction"
   ]
  },
  {
   "cell_type": "code",
   "execution_count": 24,
   "id": "c4edf9d5-1b11-4fc7-b3e8-c44f148441a9",
   "metadata": {},
   "outputs": [],
   "source": [
    "basis = NLevelBasis(N)\n",
    "states = fermionstates(basis, PN)\n",
    "basis_mb = ManyBodyBasis(basis, states)\n",
    "\n",
    "function get_mb_op(basis_mb, op)\n",
    "    H_mb2 = SparseOperator(basis_mb) \n",
    "    for m in 1:N\n",
    "        for n in 1:N\n",
    "            H_mb2 += op.data[m,n] * transition(basis_mb, m, n)\n",
    "        end\n",
    "    end\n",
    "    \n",
    "    return H_mb2\n",
    "end\n",
    "H_mb = get_mb_op(basis_mb, op);"
   ]
  },
  {
   "cell_type": "code",
   "execution_count": 25,
   "id": "77d0924f-ce0f-4528-bdd9-49f804dbae33",
   "metadata": {
    "tags": []
   },
   "outputs": [
    {
     "data": {
      "text/plain": [
       "20-element Vector{Float64}:\n",
       " -4.288326022481329\n",
       " -4.288326022481323\n",
       " -3.4494897427831788\n",
       " -2.000000000000001\n",
       " -1.3027756377319928\n",
       " -1.3027756377319926\n",
       " -1.1774096808992844\n",
       " -0.7815330381852096\n",
       " -0.7815330381852091\n",
       " -1.1419073509405105e-15\n",
       " -1.6545779597818285e-16\n",
       "  1.1082176958642682\n",
       "  1.108217695864269\n",
       "  1.3216371742632953\n",
       "  1.4494897427831779\n",
       "  2.3027756377319957\n",
       "  2.302775637731996\n",
       "  2.9616413648022606\n",
       "  2.961641364802262\n",
       "  3.855772506635989"
      ]
     },
     "execution_count": 25,
     "metadata": {},
     "output_type": "execute_result"
    }
   ],
   "source": [
    "# CHECK: MB Structure (PN=1)\n",
    "eigenenergies(dense(H_mb)) == eigvals(HSP_T(Nx, Ny, 1/q, Tx, Ty, 0))\n",
    "eigenenergies(dense(H_mb))"
   ]
  },
  {
   "cell_type": "code",
   "execution_count": 26,
   "id": "b9119073-c425-4830-8a96-9940855e6341",
   "metadata": {},
   "outputs": [
    {
     "data": {
      "text/plain": [
       "1.8388068845354155e-16 + 1.3877787807814457e-17im"
      ]
     },
     "execution_count": 26,
     "metadata": {},
     "output_type": "execute_result"
    }
   ],
   "source": [
    "# Ortogonality Check !\n",
    "E, V = eigen(dense(H_mb).data)\n",
    "dot(V[:,1],V[:,2])"
   ]
  },
  {
   "cell_type": "markdown",
   "id": "e5b48d1a-fac0-48a4-8c87-8b3e96a3648c",
   "metadata": {},
   "source": [
    "## Crete Mesh of Twisted-Angle Space"
   ]
  },
  {
   "cell_type": "markdown",
   "id": "4525b8ef-b394-4d86-9c95-75cfa497790e",
   "metadata": {},
   "source": [
    "\\begin{equation}\n",
    "\\theta_\\mu = \\frac{2\\pi}{N_\\theta}n_\\mu\n",
    "\\end{equation}"
   ]
  },
  {
   "cell_type": "code",
   "execution_count": 27,
   "id": "a1a0b77b-1375-4b5b-8425-1d52712c807d",
   "metadata": {
    "tags": []
   },
   "outputs": [],
   "source": [
    "dx=2*pi/T_size\n",
    "dy=dx\n",
    "Tx=collect(range(start=0, stop=2*pi-dx, step=dx))\n",
    "Ty=collect(range(start=0, stop=2*pi-dy, step=dy));"
   ]
  },
  {
   "cell_type": "markdown",
   "id": "ff484e23-d75b-43b3-89fc-2929cf4add01",
   "metadata": {},
   "source": [
    "## Energies of Many-Body Hofstadter Model"
   ]
  },
  {
   "cell_type": "code",
   "execution_count": 28,
   "id": "af9e4ecd-03d5-46a1-a7c8-18f7fca16d2f",
   "metadata": {
    "tags": []
   },
   "outputs": [
    {
     "data": {
      "image/svg+xml": [
       "<?xml version=\"1.0\" encoding=\"utf-8\"?>\n",
       "<svg xmlns=\"http://www.w3.org/2000/svg\" xmlns:xlink=\"http://www.w3.org/1999/xlink\" width=\"600\" height=\"400\" viewBox=\"0 0 2400 1600\">\n",
       "<defs>\n",
       "  <clipPath id=\"clip050\">\n",
       "    <rect x=\"0\" y=\"0\" width=\"2400\" height=\"1600\"/>\n",
       "  </clipPath>\n",
       "</defs>\n",
       "<path clip-path=\"url(#clip050)\" d=\"\n",
       "M0 1600 L2400 1600 L2400 0 L0 0  Z\n",
       "  \" fill=\"#ffffff\" fill-rule=\"evenodd\" fill-opacity=\"1\"/>\n",
       "<defs>\n",
       "  <clipPath id=\"clip051\">\n",
       "    <rect x=\"480\" y=\"0\" width=\"1681\" height=\"1600\"/>\n",
       "  </clipPath>\n",
       "</defs>\n",
       "<path clip-path=\"url(#clip050)\" d=\"\n",
       "M149.191 1486.45 L2352.76 1486.45 L2352.76 47.2441 L149.191 47.2441  Z\n",
       "  \" fill=\"#ffffff\" fill-rule=\"evenodd\" fill-opacity=\"1\"/>\n",
       "<defs>\n",
       "  <clipPath id=\"clip052\">\n",
       "    <rect x=\"149\" y=\"47\" width=\"2205\" height=\"1440\"/>\n",
       "  </clipPath>\n",
       "</defs>\n",
       "<polyline clip-path=\"url(#clip052)\" style=\"stroke:#000000; stroke-linecap:round; stroke-linejoin:round; stroke-width:2; stroke-opacity:0.1; fill:none\" points=\"\n",
       "  649.205,1486.45 649.205,47.2441 \n",
       "  \"/>\n",
       "<polyline clip-path=\"url(#clip052)\" style=\"stroke:#000000; stroke-linecap:round; stroke-linejoin:round; stroke-width:2; stroke-opacity:0.1; fill:none\" points=\"\n",
       "  1196.27,1486.45 1196.27,47.2441 \n",
       "  \"/>\n",
       "<polyline clip-path=\"url(#clip052)\" style=\"stroke:#000000; stroke-linecap:round; stroke-linejoin:round; stroke-width:2; stroke-opacity:0.1; fill:none\" points=\"\n",
       "  1743.33,1486.45 1743.33,47.2441 \n",
       "  \"/>\n",
       "<polyline clip-path=\"url(#clip052)\" style=\"stroke:#000000; stroke-linecap:round; stroke-linejoin:round; stroke-width:2; stroke-opacity:0.1; fill:none\" points=\"\n",
       "  2290.39,1486.45 2290.39,47.2441 \n",
       "  \"/>\n",
       "<polyline clip-path=\"url(#clip050)\" style=\"stroke:#000000; stroke-linecap:round; stroke-linejoin:round; stroke-width:4; stroke-opacity:1; fill:none\" points=\"\n",
       "  149.191,1486.45 2352.76,1486.45 \n",
       "  \"/>\n",
       "<polyline clip-path=\"url(#clip050)\" style=\"stroke:#000000; stroke-linecap:round; stroke-linejoin:round; stroke-width:4; stroke-opacity:1; fill:none\" points=\"\n",
       "  649.205,1486.45 649.205,1467.55 \n",
       "  \"/>\n",
       "<polyline clip-path=\"url(#clip050)\" style=\"stroke:#000000; stroke-linecap:round; stroke-linejoin:round; stroke-width:4; stroke-opacity:1; fill:none\" points=\"\n",
       "  1196.27,1486.45 1196.27,1467.55 \n",
       "  \"/>\n",
       "<polyline clip-path=\"url(#clip050)\" style=\"stroke:#000000; stroke-linecap:round; stroke-linejoin:round; stroke-width:4; stroke-opacity:1; fill:none\" points=\"\n",
       "  1743.33,1486.45 1743.33,1467.55 \n",
       "  \"/>\n",
       "<polyline clip-path=\"url(#clip050)\" style=\"stroke:#000000; stroke-linecap:round; stroke-linejoin:round; stroke-width:4; stroke-opacity:1; fill:none\" points=\"\n",
       "  2290.39,1486.45 2290.39,1467.55 \n",
       "  \"/>\n",
       "<path clip-path=\"url(#clip050)\" d=\"M639.483 1514.29 L657.84 1514.29 L657.84 1518.22 L643.766 1518.22 L643.766 1526.7 Q644.784 1526.35 645.803 1526.19 Q646.821 1526 647.84 1526 Q653.627 1526 657.006 1529.17 Q660.386 1532.34 660.386 1537.76 Q660.386 1543.34 656.914 1546.44 Q653.441 1549.52 647.122 1549.52 Q644.946 1549.52 642.678 1549.15 Q640.432 1548.78 638.025 1548.04 L638.025 1543.34 Q640.108 1544.47 642.33 1545.03 Q644.553 1545.58 647.029 1545.58 Q651.034 1545.58 653.372 1543.48 Q655.71 1541.37 655.71 1537.76 Q655.71 1534.15 653.372 1532.04 Q651.034 1529.94 647.029 1529.94 Q645.154 1529.94 643.279 1530.35 Q641.428 1530.77 639.483 1531.65 L639.483 1514.29 Z\" fill=\"#000000\" fill-rule=\"evenodd\" fill-opacity=\"1\" /><path clip-path=\"url(#clip050)\" d=\"M1170.95 1544.91 L1178.59 1544.91 L1178.59 1518.55 L1170.28 1520.21 L1170.28 1515.95 L1178.55 1514.29 L1183.22 1514.29 L1183.22 1544.91 L1190.86 1544.91 L1190.86 1548.85 L1170.95 1548.85 L1170.95 1544.91 Z\" fill=\"#000000\" fill-rule=\"evenodd\" fill-opacity=\"1\" /><path clip-path=\"url(#clip050)\" d=\"M1210.31 1517.37 Q1206.7 1517.37 1204.87 1520.93 Q1203.06 1524.47 1203.06 1531.6 Q1203.06 1538.71 1204.87 1542.27 Q1206.7 1545.82 1210.31 1545.82 Q1213.94 1545.82 1215.75 1542.27 Q1217.57 1538.71 1217.57 1531.6 Q1217.57 1524.47 1215.75 1520.93 Q1213.94 1517.37 1210.31 1517.37 M1210.31 1513.66 Q1216.12 1513.66 1219.17 1518.27 Q1222.25 1522.85 1222.25 1531.6 Q1222.25 1540.33 1219.17 1544.94 Q1216.12 1549.52 1210.31 1549.52 Q1204.5 1549.52 1201.42 1544.94 Q1198.36 1540.33 1198.36 1531.6 Q1198.36 1522.85 1201.42 1518.27 Q1204.5 1513.66 1210.31 1513.66 Z\" fill=\"#000000\" fill-rule=\"evenodd\" fill-opacity=\"1\" /><path clip-path=\"url(#clip050)\" d=\"M1718.51 1544.91 L1726.15 1544.91 L1726.15 1518.55 L1717.84 1520.21 L1717.84 1515.95 L1726.11 1514.29 L1730.78 1514.29 L1730.78 1544.91 L1738.42 1544.91 L1738.42 1548.85 L1718.51 1548.85 L1718.51 1544.91 Z\" fill=\"#000000\" fill-rule=\"evenodd\" fill-opacity=\"1\" /><path clip-path=\"url(#clip050)\" d=\"M1747.91 1514.29 L1766.27 1514.29 L1766.27 1518.22 L1752.19 1518.22 L1752.19 1526.7 Q1753.21 1526.35 1754.23 1526.19 Q1755.25 1526 1756.27 1526 Q1762.06 1526 1765.44 1529.17 Q1768.82 1532.34 1768.82 1537.76 Q1768.82 1543.34 1765.34 1546.44 Q1761.87 1549.52 1755.55 1549.52 Q1753.38 1549.52 1751.11 1549.15 Q1748.86 1548.78 1746.45 1548.04 L1746.45 1543.34 Q1748.54 1544.47 1750.76 1545.03 Q1752.98 1545.58 1755.46 1545.58 Q1759.46 1545.58 1761.8 1543.48 Q1764.14 1541.37 1764.14 1537.76 Q1764.14 1534.15 1761.8 1532.04 Q1759.46 1529.94 1755.46 1529.94 Q1753.58 1529.94 1751.71 1530.35 Q1749.86 1530.77 1747.91 1531.65 L1747.91 1514.29 Z\" fill=\"#000000\" fill-rule=\"evenodd\" fill-opacity=\"1\" /><path clip-path=\"url(#clip050)\" d=\"M2269.16 1544.91 L2285.48 1544.91 L2285.48 1548.85 L2263.54 1548.85 L2263.54 1544.91 Q2266.2 1542.16 2270.78 1537.53 Q2275.39 1532.88 2276.57 1531.53 Q2278.82 1529.01 2279.7 1527.27 Q2280.6 1525.51 2280.6 1523.82 Q2280.6 1521.07 2278.65 1519.33 Q2276.73 1517.6 2273.63 1517.6 Q2271.43 1517.6 2268.98 1518.36 Q2266.55 1519.13 2263.77 1520.68 L2263.77 1515.95 Q2266.59 1514.82 2269.05 1514.24 Q2271.5 1513.66 2273.54 1513.66 Q2278.91 1513.66 2282.1 1516.35 Q2285.3 1519.03 2285.3 1523.52 Q2285.3 1525.65 2284.49 1527.57 Q2283.7 1529.47 2281.59 1532.07 Q2281.02 1532.74 2277.91 1535.95 Q2274.81 1539.15 2269.16 1544.91 Z\" fill=\"#000000\" fill-rule=\"evenodd\" fill-opacity=\"1\" /><path clip-path=\"url(#clip050)\" d=\"M2305.3 1517.37 Q2301.69 1517.37 2299.86 1520.93 Q2298.05 1524.47 2298.05 1531.6 Q2298.05 1538.71 2299.86 1542.27 Q2301.69 1545.82 2305.3 1545.82 Q2308.93 1545.82 2310.74 1542.27 Q2312.57 1538.71 2312.57 1531.6 Q2312.57 1524.47 2310.74 1520.93 Q2308.93 1517.37 2305.3 1517.37 M2305.3 1513.66 Q2311.11 1513.66 2314.16 1518.27 Q2317.24 1522.85 2317.24 1531.6 Q2317.24 1540.33 2314.16 1544.94 Q2311.11 1549.52 2305.3 1549.52 Q2299.49 1549.52 2296.41 1544.94 Q2293.35 1540.33 2293.35 1531.6 Q2293.35 1522.85 2296.41 1518.27 Q2299.49 1513.66 2305.3 1513.66 Z\" fill=\"#000000\" fill-rule=\"evenodd\" fill-opacity=\"1\" /><polyline clip-path=\"url(#clip052)\" style=\"stroke:#000000; stroke-linecap:round; stroke-linejoin:round; stroke-width:2; stroke-opacity:0.1; fill:none\" points=\"\n",
       "  149.191,1397.65 2352.76,1397.65 \n",
       "  \"/>\n",
       "<polyline clip-path=\"url(#clip052)\" style=\"stroke:#000000; stroke-linecap:round; stroke-linejoin:round; stroke-width:2; stroke-opacity:0.1; fill:none\" points=\"\n",
       "  149.191,1064.22 2352.76,1064.22 \n",
       "  \"/>\n",
       "<polyline clip-path=\"url(#clip052)\" style=\"stroke:#000000; stroke-linecap:round; stroke-linejoin:round; stroke-width:2; stroke-opacity:0.1; fill:none\" points=\"\n",
       "  149.191,730.79 2352.76,730.79 \n",
       "  \"/>\n",
       "<polyline clip-path=\"url(#clip052)\" style=\"stroke:#000000; stroke-linecap:round; stroke-linejoin:round; stroke-width:2; stroke-opacity:0.1; fill:none\" points=\"\n",
       "  149.191,397.36 2352.76,397.36 \n",
       "  \"/>\n",
       "<polyline clip-path=\"url(#clip052)\" style=\"stroke:#000000; stroke-linecap:round; stroke-linejoin:round; stroke-width:2; stroke-opacity:0.1; fill:none\" points=\"\n",
       "  149.191,63.9315 2352.76,63.9315 \n",
       "  \"/>\n",
       "<polyline clip-path=\"url(#clip050)\" style=\"stroke:#000000; stroke-linecap:round; stroke-linejoin:round; stroke-width:4; stroke-opacity:1; fill:none\" points=\"\n",
       "  149.191,1486.45 149.191,47.2441 \n",
       "  \"/>\n",
       "<polyline clip-path=\"url(#clip050)\" style=\"stroke:#000000; stroke-linecap:round; stroke-linejoin:round; stroke-width:4; stroke-opacity:1; fill:none\" points=\"\n",
       "  149.191,1397.65 168.089,1397.65 \n",
       "  \"/>\n",
       "<polyline clip-path=\"url(#clip050)\" style=\"stroke:#000000; stroke-linecap:round; stroke-linejoin:round; stroke-width:4; stroke-opacity:1; fill:none\" points=\"\n",
       "  149.191,1064.22 168.089,1064.22 \n",
       "  \"/>\n",
       "<polyline clip-path=\"url(#clip050)\" style=\"stroke:#000000; stroke-linecap:round; stroke-linejoin:round; stroke-width:4; stroke-opacity:1; fill:none\" points=\"\n",
       "  149.191,730.79 168.089,730.79 \n",
       "  \"/>\n",
       "<polyline clip-path=\"url(#clip050)\" style=\"stroke:#000000; stroke-linecap:round; stroke-linejoin:round; stroke-width:4; stroke-opacity:1; fill:none\" points=\"\n",
       "  149.191,397.36 168.089,397.36 \n",
       "  \"/>\n",
       "<polyline clip-path=\"url(#clip050)\" style=\"stroke:#000000; stroke-linecap:round; stroke-linejoin:round; stroke-width:4; stroke-opacity:1; fill:none\" points=\"\n",
       "  149.191,63.9315 168.089,63.9315 \n",
       "  \"/>\n",
       "<path clip-path=\"url(#clip050)\" d=\"M50.9921 1398.1 L80.6679 1398.1 L80.6679 1402.03 L50.9921 1402.03 L50.9921 1398.1 Z\" fill=\"#000000\" fill-rule=\"evenodd\" fill-opacity=\"1\" /><path clip-path=\"url(#clip050)\" d=\"M103.608 1384.44 L91.8021 1402.89 L103.608 1402.89 L103.608 1384.44 M102.381 1380.37 L108.26 1380.37 L108.26 1402.89 L113.191 1402.89 L113.191 1406.78 L108.26 1406.78 L108.26 1414.93 L103.608 1414.93 L103.608 1406.78 L88.0058 1406.78 L88.0058 1402.27 L102.381 1380.37 Z\" fill=\"#000000\" fill-rule=\"evenodd\" fill-opacity=\"1\" /><path clip-path=\"url(#clip050)\" d=\"M53.0754 1064.67 L82.7512 1064.67 L82.7512 1068.61 L53.0754 1068.61 L53.0754 1064.67 Z\" fill=\"#000000\" fill-rule=\"evenodd\" fill-opacity=\"1\" /><path clip-path=\"url(#clip050)\" d=\"M96.8715 1077.56 L113.191 1077.56 L113.191 1081.5 L91.2465 1081.5 L91.2465 1077.56 Q93.9086 1074.81 98.4919 1070.18 Q103.098 1065.53 104.279 1064.18 Q106.524 1061.66 107.404 1059.92 Q108.307 1058.17 108.307 1056.48 Q108.307 1053.72 106.362 1051.98 Q104.441 1050.25 101.339 1050.25 Q99.14 1050.25 96.6863 1051.01 Q94.2558 1051.78 91.478 1053.33 L91.478 1048.61 Q94.3021 1047.47 96.7558 1046.89 Q99.2095 1046.31 101.246 1046.31 Q106.617 1046.31 109.811 1049 Q113.006 1051.68 113.006 1056.17 Q113.006 1058.3 112.196 1060.23 Q111.408 1062.12 109.302 1064.72 Q108.723 1065.39 105.621 1068.61 Q102.52 1071.8 96.8715 1077.56 Z\" fill=\"#000000\" fill-rule=\"evenodd\" fill-opacity=\"1\" /><path clip-path=\"url(#clip050)\" d=\"M101.246 716.588 Q97.6354 716.588 95.8067 720.153 Q94.0012 723.695 94.0012 730.824 Q94.0012 737.931 95.8067 741.495 Q97.6354 745.037 101.246 745.037 Q104.881 745.037 106.686 741.495 Q108.515 737.931 108.515 730.824 Q108.515 723.695 106.686 720.153 Q104.881 716.588 101.246 716.588 M101.246 712.885 Q107.057 712.885 110.112 717.491 Q113.191 722.074 113.191 730.824 Q113.191 739.551 110.112 744.157 Q107.057 748.741 101.246 748.741 Q95.4363 748.741 92.3576 744.157 Q89.3021 739.551 89.3021 730.824 Q89.3021 722.074 92.3576 717.491 Q95.4363 712.885 101.246 712.885 Z\" fill=\"#000000\" fill-rule=\"evenodd\" fill-opacity=\"1\" /><path clip-path=\"url(#clip050)\" d=\"M96.8715 410.705 L113.191 410.705 L113.191 414.64 L91.2465 414.64 L91.2465 410.705 Q93.9086 407.951 98.4919 403.321 Q103.098 398.668 104.279 397.326 Q106.524 394.803 107.404 393.067 Q108.307 391.307 108.307 389.617 Q108.307 386.863 106.362 385.127 Q104.441 383.391 101.339 383.391 Q99.14 383.391 96.6863 384.155 Q94.2558 384.918 91.478 386.469 L91.478 381.747 Q94.3021 380.613 96.7558 380.034 Q99.2095 379.455 101.246 379.455 Q106.617 379.455 109.811 382.141 Q113.006 384.826 113.006 389.317 Q113.006 391.446 112.196 393.367 Q111.408 395.266 109.302 397.858 Q108.723 398.529 105.621 401.747 Q102.52 404.941 96.8715 410.705 Z\" fill=\"#000000\" fill-rule=\"evenodd\" fill-opacity=\"1\" /><path clip-path=\"url(#clip050)\" d=\"M103.608 50.7255 L91.8021 69.1745 L103.608 69.1745 L103.608 50.7255 M102.381 46.6515 L108.26 46.6515 L108.26 69.1745 L113.191 69.1745 L113.191 73.0634 L108.26 73.0634 L108.26 81.2115 L103.608 81.2115 L103.608 73.0634 L88.0058 73.0634 L88.0058 68.5495 L102.381 46.6515 Z\" fill=\"#000000\" fill-rule=\"evenodd\" fill-opacity=\"1\" /><circle clip-path=\"url(#clip052)\" cx=\"211.556\" cy=\"1445.72\" r=\"14.4\" fill=\"#009af9\" fill-rule=\"evenodd\" fill-opacity=\"1\" stroke=\"#000000\" stroke-opacity=\"1\" stroke-width=\"3.2\"/>\n",
       "<circle clip-path=\"url(#clip052)\" cx=\"320.968\" cy=\"1445.72\" r=\"14.4\" fill=\"#009af9\" fill-rule=\"evenodd\" fill-opacity=\"1\" stroke=\"#000000\" stroke-opacity=\"1\" stroke-width=\"3.2\"/>\n",
       "<circle clip-path=\"url(#clip052)\" cx=\"430.381\" cy=\"1305.87\" r=\"14.4\" fill=\"#009af9\" fill-rule=\"evenodd\" fill-opacity=\"1\" stroke=\"#000000\" stroke-opacity=\"1\" stroke-width=\"3.2\"/>\n",
       "<circle clip-path=\"url(#clip052)\" cx=\"539.793\" cy=\"1064.22\" r=\"14.4\" fill=\"#009af9\" fill-rule=\"evenodd\" fill-opacity=\"1\" stroke=\"#000000\" stroke-opacity=\"1\" stroke-width=\"3.2\"/>\n",
       "<circle clip-path=\"url(#clip052)\" cx=\"649.205\" cy=\"947.981\" r=\"14.4\" fill=\"#009af9\" fill-rule=\"evenodd\" fill-opacity=\"1\" stroke=\"#000000\" stroke-opacity=\"1\" stroke-width=\"3.2\"/>\n",
       "<circle clip-path=\"url(#clip052)\" cx=\"758.618\" cy=\"947.981\" r=\"14.4\" fill=\"#009af9\" fill-rule=\"evenodd\" fill-opacity=\"1\" stroke=\"#000000\" stroke-opacity=\"1\" stroke-width=\"3.2\"/>\n",
       "<circle clip-path=\"url(#clip052)\" cx=\"868.03\" cy=\"927.081\" r=\"14.4\" fill=\"#009af9\" fill-rule=\"evenodd\" fill-opacity=\"1\" stroke=\"#000000\" stroke-opacity=\"1\" stroke-width=\"3.2\"/>\n",
       "<circle clip-path=\"url(#clip052)\" cx=\"977.442\" cy=\"861.082\" r=\"14.4\" fill=\"#009af9\" fill-rule=\"evenodd\" fill-opacity=\"1\" stroke=\"#000000\" stroke-opacity=\"1\" stroke-width=\"3.2\"/>\n",
       "<circle clip-path=\"url(#clip052)\" cx=\"1086.85\" cy=\"861.082\" r=\"14.4\" fill=\"#009af9\" fill-rule=\"evenodd\" fill-opacity=\"1\" stroke=\"#000000\" stroke-opacity=\"1\" stroke-width=\"3.2\"/>\n",
       "<circle clip-path=\"url(#clip052)\" cx=\"1196.27\" cy=\"730.79\" r=\"14.4\" fill=\"#009af9\" fill-rule=\"evenodd\" fill-opacity=\"1\" stroke=\"#000000\" stroke-opacity=\"1\" stroke-width=\"3.2\"/>\n",
       "<circle clip-path=\"url(#clip052)\" cx=\"1305.68\" cy=\"730.79\" r=\"14.4\" fill=\"#009af9\" fill-rule=\"evenodd\" fill-opacity=\"1\" stroke=\"#000000\" stroke-opacity=\"1\" stroke-width=\"3.2\"/>\n",
       "<circle clip-path=\"url(#clip052)\" cx=\"1415.09\" cy=\"546.034\" r=\"14.4\" fill=\"#009af9\" fill-rule=\"evenodd\" fill-opacity=\"1\" stroke=\"#000000\" stroke-opacity=\"1\" stroke-width=\"3.2\"/>\n",
       "<circle clip-path=\"url(#clip052)\" cx=\"1524.5\" cy=\"546.034\" r=\"14.4\" fill=\"#009af9\" fill-rule=\"evenodd\" fill-opacity=\"1\" stroke=\"#000000\" stroke-opacity=\"1\" stroke-width=\"3.2\"/>\n",
       "<circle clip-path=\"url(#clip052)\" cx=\"1633.92\" cy=\"510.453\" r=\"14.4\" fill=\"#009af9\" fill-rule=\"evenodd\" fill-opacity=\"1\" stroke=\"#000000\" stroke-opacity=\"1\" stroke-width=\"3.2\"/>\n",
       "<circle clip-path=\"url(#clip052)\" cx=\"1743.33\" cy=\"489.139\" r=\"14.4\" fill=\"#009af9\" fill-rule=\"evenodd\" fill-opacity=\"1\" stroke=\"#000000\" stroke-opacity=\"1\" stroke-width=\"3.2\"/>\n",
       "<circle clip-path=\"url(#clip052)\" cx=\"1852.74\" cy=\"346.883\" r=\"14.4\" fill=\"#009af9\" fill-rule=\"evenodd\" fill-opacity=\"1\" stroke=\"#000000\" stroke-opacity=\"1\" stroke-width=\"3.2\"/>\n",
       "<circle clip-path=\"url(#clip052)\" cx=\"1962.15\" cy=\"346.883\" r=\"14.4\" fill=\"#009af9\" fill-rule=\"evenodd\" fill-opacity=\"1\" stroke=\"#000000\" stroke-opacity=\"1\" stroke-width=\"3.2\"/>\n",
       "<circle clip-path=\"url(#clip052)\" cx=\"2071.57\" cy=\"237.041\" r=\"14.4\" fill=\"#009af9\" fill-rule=\"evenodd\" fill-opacity=\"1\" stroke=\"#000000\" stroke-opacity=\"1\" stroke-width=\"3.2\"/>\n",
       "<circle clip-path=\"url(#clip052)\" cx=\"2180.98\" cy=\"237.041\" r=\"14.4\" fill=\"#009af9\" fill-rule=\"evenodd\" fill-opacity=\"1\" stroke=\"#000000\" stroke-opacity=\"1\" stroke-width=\"3.2\"/>\n",
       "<circle clip-path=\"url(#clip052)\" cx=\"2290.39\" cy=\"87.9763\" r=\"14.4\" fill=\"#009af9\" fill-rule=\"evenodd\" fill-opacity=\"1\" stroke=\"#000000\" stroke-opacity=\"1\" stroke-width=\"3.2\"/>\n",
       "</svg>\n"
      ]
     },
     "execution_count": 28,
     "metadata": {},
     "output_type": "execute_result"
    }
   ],
   "source": [
    "using Plots\n",
    "E = eigenenergies(dense(H_mb))\n",
    "plot(1:length(E),E,seriestype=:scatter,legend=false)"
   ]
  },
  {
   "cell_type": "markdown",
   "id": "1d88b286-9737-4a87-8c53-4998f7d43975",
   "metadata": {},
   "source": [
    "# Cherns"
   ]
  },
  {
   "cell_type": "markdown",
   "id": "640e6903-a0dd-497f-b0f4-0b3cc7846df0",
   "metadata": {},
   "source": [
    "Berry Curvature:\n",
    "\\begin{equation}\n",
    "\\mathcal{F}(\\vec{\\theta}) = \\log \\left( U_x(\\vec{\\theta})U_y(\\vec{\\theta}+\\delta_x)U_x(\\vec{\\theta}+\\delta_y)^{-1}U_y(\\vec{\\theta})^{-1} \\right)\n",
    "\\end{equation}\n",
    "Link variables:\n",
    "\\begin{equation}\n",
    "U_\\mu(\\vec{\\theta}) = \\frac{\n",
    "det \\left( \\Phi(\\vec{\\theta})^\\dagger \\Phi(\\vec{\\theta}+\\delta_\\mu) \\right) \n",
    "}{\n",
    "| det \\left(\\Phi(\\vec{\\theta})^\\dagger \\Phi(\\vec{\\theta}+\\delta_\\mu) \\right) |} , \\quad \\delta_x = \\left(\\frac{2\\pi}{N_{\\theta}},0 \\right), \\delta_y = \\left(0, \\frac{2\\pi}{N_{\\theta}}\\right)\n",
    "\\end{equation}\n",
    "Chern Number:\n",
    "\\begin{equation}\n",
    "\\mathcal{C} = \\frac{1}{2\\pi i} \\sum_{\\vec{\\theta}} \\mathcal{F}(\\vec{\\theta})\n",
    "\\end{equation}"
   ]
  },
  {
   "cell_type": "code",
   "execution_count": 29,
   "id": "6cfefdc0",
   "metadata": {
    "tags": []
   },
   "outputs": [
    {
     "data": {
      "text/plain": [
       "Chern_Nums (generic function with 1 method)"
      ]
     },
     "execution_count": 29,
     "metadata": {},
     "output_type": "execute_result"
    }
   ],
   "source": [
    "# executeme\n",
    "\n",
    "function Chern_Nums(Tx, Ty, n1, n2)\n",
    "    \n",
    "    Sum=0\n",
    "    \n",
    "    for tx in range(start=1, stop=length(Tx))\n",
    "        for ty in range(start=1, stop=length(Ty))\n",
    "            \n",
    "            op = Op_Sp(Nx, Ny, 1/q, Tx[tx], Ty[ty])\n",
    "            H_mb = get_mb_op(basis_mb, op)\n",
    "            w1, v1 = eigen(dense(H_mb).data)\n",
    "            i = sortperm(w1, by=real);w1 = w1[i];v1 = v1[:,i]\n",
    "            v1 = v1[:,n1:n2]\n",
    "            \n",
    "            #------------------------------------\n",
    "            op = Op_Sp(Nx, Ny, 1/q, Tx[tx]+dx, Ty[ty])\n",
    "            H_mb = get_mb_op(basis_mb, op)\n",
    "            w2, v2 = eigen(dense(H_mb).data)\n",
    "            i = sortperm(w2, by=real);w2 = w2[i];v2 = v2[:,i]\n",
    "            v2 = v2[:,n1:n2]\n",
    "            \n",
    "            #------------------------------------\n",
    "            op = Op_Sp(Nx, Ny, 1/q, Tx[tx], Ty[ty]+dy)\n",
    "            H_mb = get_mb_op(basis_mb, op)\n",
    "            w3, v3 = eigen(dense(H_mb).data)\n",
    "            i = sortperm(w3, by=real);w3 = w3[i];v3 = v3[:,i]\n",
    "            v3 = v3[:,n1:n2]\n",
    "            \n",
    "            #------------------------------------\n",
    "            op = Op_Sp(Nx, Ny, 1/q, Tx[tx]+dx, Ty[ty]+dy)\n",
    "            H_mb = get_mb_op(basis_mb, op)\n",
    "            w4, v4 = eigen(dense(H_mb).data)\n",
    "            i = sortperm(w4, by=real);w4 = w4[i];v4 = v4[:,i]\n",
    "            v4 = v4[:,n1:n2]\n",
    "            \n",
    "            #----------LINK VARIABLES------------\n",
    "            U1=det(adjoint(v1)*v2)\n",
    "            U1=U1/abs(U1)\n",
    "            U2=det(adjoint(v2)*v4)\n",
    "            U2=U2/abs(U2)\n",
    "            U3=det(adjoint(v3)*v4)\n",
    "            U3=U3/abs(U3)\n",
    "            U4=det(adjoint(v1)*v3)\n",
    "            U4=U4/abs(U4)\n",
    "            \n",
    "            #----------BERRY CURVATURE-----------\n",
    "            F=log(U1*U2*1/U3*1/U4)\n",
    "            Sum=Sum+F\n",
    "            \n",
    "        end\n",
    "    end\n",
    "    \n",
    "    return 1/(2*pi*1im)*Sum\n",
    "end"
   ]
  },
  {
   "cell_type": "code",
   "execution_count": 30,
   "id": "ebe7913c-4c43-4df5-8f51-4e6bf29002fb",
   "metadata": {},
   "outputs": [
    {
     "data": {
      "text/plain": [
       "-2.0034779795584376 + 1.6013209333757284e-17im"
      ]
     },
     "execution_count": 30,
     "metadata": {},
     "output_type": "execute_result"
    }
   ],
   "source": [
    "Chern_Nums(Tx, Ty, 1, 2)"
   ]
  },
  {
   "cell_type": "markdown",
   "id": "a3a5fdc0-fccf-49a4-86e3-c994d837a3f7",
   "metadata": {},
   "source": [
    "# TEST"
   ]
  },
  {
   "cell_type": "code",
   "execution_count": 62,
   "id": "21a84607-f510-456c-8f06-c8253f1fb49a",
   "metadata": {},
   "outputs": [
    {
     "data": {
      "text/plain": [
       "Chern (generic function with 1 method)"
      ]
     },
     "execution_count": 62,
     "metadata": {},
     "output_type": "execute_result"
    }
   ],
   "source": [
    "using NBInclude; using QuantumOptics; using Plots; using LinearAlgebra\n",
    "@nbinclude(\"Hofstadter Single Particle in Theta Space.ipynb\")\n",
    "function Chern(Nx::Int64, Ny::Int64, alpha, TSize::Int64, PN::Int64, PlotBands::Bool, n1::Int64, n2::Int64)\n",
    "\n",
    "    # Single Particle #\n",
    "    N = Nx*Ny\n",
    "    function Op_Sp(Nx, Ny, alpha, Tx, Ty)    \n",
    "        H_T = HSP_T(Nx, Ny, alpha, Tx, Ty, 0)\n",
    "        basis = NLevelBasis(N) \n",
    "        H = SparseOperator(basis)\n",
    "        for m in 1:N\n",
    "            for n in 1:N\n",
    "                H = H + H_T[m,n] * transition(basis, m, n)\n",
    "            end\n",
    "        end\n",
    "        return H\n",
    "    end\n",
    "    # ---- #\n",
    "\n",
    "    # Fermionic Many-Body #\n",
    "    basis = NLevelBasis(N)\n",
    "    states = fermionstates(basis, PN)\n",
    "    basis_mb = ManyBodyBasis(basis, states)\n",
    "    function get_mb_op(basis_mb, op)\n",
    "        H_mb2 = SparseOperator(basis_mb) \n",
    "        for m in 1:N\n",
    "            for n in 1:N\n",
    "                H_mb2 += op.data[m,n] * transition(basis_mb, m, n)\n",
    "            end\n",
    "        end\n",
    "        return H_mb2\n",
    "    end\n",
    "    # ---- #\n",
    "    \n",
    "    # Plot #\n",
    "    if PlotBands == true\n",
    "        Tx=Ty=0\n",
    "        op = Op_Sp(Nx, Ny, 1/q, Tx, Ty)\n",
    "        Hamiltonian = get_mb_op(basis_mb, op)\n",
    "        E = eigenenergies(dense(Hamiltonian))\n",
    "        P = scatter(1:length(E),E,legend=false, xlabel=\"n\", ylabel=\"E\", title=\"Energy Bands\")\n",
    "        display(P)\n",
    "    end\n",
    "    # ---- #\n",
    "\n",
    "    # Twist Angle Parameter Space #\n",
    "    dx=2*pi/TSize\n",
    "    dy=dx\n",
    "    Tx=collect(range(start=0, stop=2*pi-dx, step=dx))\n",
    "    Ty=collect(range(start=0, stop=2*pi-dy, step=dy))\n",
    "    # ---- #\n",
    "\n",
    "    # Link Variable and Berry Curvature #\n",
    "    Sum=0\n",
    "    for tx in range(start=1, stop=length(Tx))\n",
    "        for ty in range(start=1, stop=length(Ty))\n",
    "            op = Op_Sp(Nx, Ny, 1/q, Tx[tx], Ty[ty])\n",
    "            H_mb = get_mb_op(basis_mb, op)\n",
    "            w1, v1 = eigen(dense(H_mb).data)\n",
    "            i = sortperm(w1, by=real);w1 = w1[i];v1 = v1[:,i]\n",
    "            v1 = v1[:,n1:n2]  \n",
    "            #------------------------------------\n",
    "            op = Op_Sp(Nx, Ny, 1/q, Tx[tx]+dx, Ty[ty])\n",
    "            H_mb = get_mb_op(basis_mb, op)\n",
    "            w2, v2 = eigen(dense(H_mb).data)\n",
    "            i = sortperm(w2, by=real);w2 = w2[i];v2 = v2[:,i]\n",
    "            v2 = v2[:,n1:n2]\n",
    "            #------------------------------------\n",
    "            op = Op_Sp(Nx, Ny, 1/q, Tx[tx], Ty[ty]+dy)\n",
    "            H_mb = get_mb_op(basis_mb, op)\n",
    "            w3, v3 = eigen(dense(H_mb).data)\n",
    "            i = sortperm(w3, by=real);w3 = w3[i];v3 = v3[:,i]\n",
    "            v3 = v3[:,n1:n2]\n",
    "            #------------------------------------\n",
    "            op = Op_Sp(Nx, Ny, 1/q, Tx[tx]+dx, Ty[ty]+dy)\n",
    "            H_mb = get_mb_op(basis_mb, op)\n",
    "            w4, v4 = eigen(dense(H_mb).data)\n",
    "            i = sortperm(w4, by=real);w4 = w4[i];v4 = v4[:,i]\n",
    "            v4 = v4[:,n1:n2]\n",
    "            #----------LINK VARIABLES------------\n",
    "            U1=det(adjoint(v1)*v2)\n",
    "            U1=U1/abs(U1)\n",
    "            U2=det(adjoint(v2)*v4)\n",
    "            U2=U2/abs(U2)\n",
    "            U3=det(adjoint(v3)*v4)\n",
    "            U3=U3/abs(U3)\n",
    "            U4=det(adjoint(v1)*v3)\n",
    "            U4=U4/abs(U4)\n",
    "            #----------BERRY CURVATURE-----------\n",
    "            F=log(U1*U2*1/U3*1/U4)\n",
    "            Sum=Sum+F \n",
    "        end\n",
    "    end\n",
    "    # ---- #\n",
    "    \n",
    "    return print(\"Chern Number is: \",1/(2*pi*1im)*Sum)\n",
    "end"
   ]
  },
  {
   "cell_type": "markdown",
   "id": "f767306f-c3d6-40fc-97f9-395e2b9d6a45",
   "metadata": {},
   "source": [
    "$\\nu = \\frac{N}{N_\\phi}, N_\\phi = N_y$"
   ]
  },
  {
   "cell_type": "code",
   "execution_count": 69,
   "id": "a517cb12-e1d7-4199-867a-3e997ef61875",
   "metadata": {},
   "outputs": [
    {
     "data": {
      "image/svg+xml": [
       "<?xml version=\"1.0\" encoding=\"utf-8\"?>\n",
       "<svg xmlns=\"http://www.w3.org/2000/svg\" xmlns:xlink=\"http://www.w3.org/1999/xlink\" width=\"600\" height=\"400\" viewBox=\"0 0 2400 1600\">\n",
       "<defs>\n",
       "  <clipPath id=\"clip260\">\n",
       "    <rect x=\"0\" y=\"0\" width=\"2400\" height=\"1600\"/>\n",
       "  </clipPath>\n",
       "</defs>\n",
       "<path clip-path=\"url(#clip260)\" d=\"\n",
       "M0 1600 L2400 1600 L2400 0 L0 0  Z\n",
       "  \" fill=\"#ffffff\" fill-rule=\"evenodd\" fill-opacity=\"1\"/>\n",
       "<defs>\n",
       "  <clipPath id=\"clip261\">\n",
       "    <rect x=\"480\" y=\"0\" width=\"1681\" height=\"1600\"/>\n",
       "  </clipPath>\n",
       "</defs>\n",
       "<path clip-path=\"url(#clip260)\" d=\"\n",
       "M257.204 1423.18 L2352.76 1423.18 L2352.76 123.472 L257.204 123.472  Z\n",
       "  \" fill=\"#ffffff\" fill-rule=\"evenodd\" fill-opacity=\"1\"/>\n",
       "<defs>\n",
       "  <clipPath id=\"clip262\">\n",
       "    <rect x=\"257\" y=\"123\" width=\"2097\" height=\"1301\"/>\n",
       "  </clipPath>\n",
       "</defs>\n",
       "<polyline clip-path=\"url(#clip262)\" style=\"stroke:#000000; stroke-linecap:round; stroke-linejoin:round; stroke-width:2; stroke-opacity:0.1; fill:none\" points=\"\n",
       "  309.323,1423.18 309.323,123.472 \n",
       "  \"/>\n",
       "<polyline clip-path=\"url(#clip262)\" style=\"stroke:#000000; stroke-linecap:round; stroke-linejoin:round; stroke-width:2; stroke-opacity:0.1; fill:none\" points=\"\n",
       "  668.766,1423.18 668.766,123.472 \n",
       "  \"/>\n",
       "<polyline clip-path=\"url(#clip262)\" style=\"stroke:#000000; stroke-linecap:round; stroke-linejoin:round; stroke-width:2; stroke-opacity:0.1; fill:none\" points=\"\n",
       "  1028.21,1423.18 1028.21,123.472 \n",
       "  \"/>\n",
       "<polyline clip-path=\"url(#clip262)\" style=\"stroke:#000000; stroke-linecap:round; stroke-linejoin:round; stroke-width:2; stroke-opacity:0.1; fill:none\" points=\"\n",
       "  1387.65,1423.18 1387.65,123.472 \n",
       "  \"/>\n",
       "<polyline clip-path=\"url(#clip262)\" style=\"stroke:#000000; stroke-linecap:round; stroke-linejoin:round; stroke-width:2; stroke-opacity:0.1; fill:none\" points=\"\n",
       "  1747.09,1423.18 1747.09,123.472 \n",
       "  \"/>\n",
       "<polyline clip-path=\"url(#clip262)\" style=\"stroke:#000000; stroke-linecap:round; stroke-linejoin:round; stroke-width:2; stroke-opacity:0.1; fill:none\" points=\"\n",
       "  2106.54,1423.18 2106.54,123.472 \n",
       "  \"/>\n",
       "<polyline clip-path=\"url(#clip260)\" style=\"stroke:#000000; stroke-linecap:round; stroke-linejoin:round; stroke-width:4; stroke-opacity:1; fill:none\" points=\"\n",
       "  257.204,1423.18 2352.76,1423.18 \n",
       "  \"/>\n",
       "<polyline clip-path=\"url(#clip260)\" style=\"stroke:#000000; stroke-linecap:round; stroke-linejoin:round; stroke-width:4; stroke-opacity:1; fill:none\" points=\"\n",
       "  309.323,1423.18 309.323,1404.28 \n",
       "  \"/>\n",
       "<polyline clip-path=\"url(#clip260)\" style=\"stroke:#000000; stroke-linecap:round; stroke-linejoin:round; stroke-width:4; stroke-opacity:1; fill:none\" points=\"\n",
       "  668.766,1423.18 668.766,1404.28 \n",
       "  \"/>\n",
       "<polyline clip-path=\"url(#clip260)\" style=\"stroke:#000000; stroke-linecap:round; stroke-linejoin:round; stroke-width:4; stroke-opacity:1; fill:none\" points=\"\n",
       "  1028.21,1423.18 1028.21,1404.28 \n",
       "  \"/>\n",
       "<polyline clip-path=\"url(#clip260)\" style=\"stroke:#000000; stroke-linecap:round; stroke-linejoin:round; stroke-width:4; stroke-opacity:1; fill:none\" points=\"\n",
       "  1387.65,1423.18 1387.65,1404.28 \n",
       "  \"/>\n",
       "<polyline clip-path=\"url(#clip260)\" style=\"stroke:#000000; stroke-linecap:round; stroke-linejoin:round; stroke-width:4; stroke-opacity:1; fill:none\" points=\"\n",
       "  1747.09,1423.18 1747.09,1404.28 \n",
       "  \"/>\n",
       "<polyline clip-path=\"url(#clip260)\" style=\"stroke:#000000; stroke-linecap:round; stroke-linejoin:round; stroke-width:4; stroke-opacity:1; fill:none\" points=\"\n",
       "  2106.54,1423.18 2106.54,1404.28 \n",
       "  \"/>\n",
       "<path clip-path=\"url(#clip260)\" d=\"M309.323 1454.1 Q305.712 1454.1 303.883 1457.66 Q302.078 1461.2 302.078 1468.33 Q302.078 1475.44 303.883 1479.01 Q305.712 1482.55 309.323 1482.55 Q312.957 1482.55 314.763 1479.01 Q316.592 1475.44 316.592 1468.33 Q316.592 1461.2 314.763 1457.66 Q312.957 1454.1 309.323 1454.1 M309.323 1450.39 Q315.133 1450.39 318.189 1455 Q321.268 1459.58 321.268 1468.33 Q321.268 1477.06 318.189 1481.67 Q315.133 1486.25 309.323 1486.25 Q303.513 1486.25 300.434 1481.67 Q297.379 1477.06 297.379 1468.33 Q297.379 1459.58 300.434 1455 Q303.513 1450.39 309.323 1450.39 Z\" fill=\"#000000\" fill-rule=\"evenodd\" fill-opacity=\"1\" /><path clip-path=\"url(#clip260)\" d=\"M643.465 1451.02 L661.822 1451.02 L661.822 1454.96 L647.748 1454.96 L647.748 1463.43 Q648.766 1463.08 649.785 1462.92 Q650.803 1462.73 651.822 1462.73 Q657.609 1462.73 660.988 1465.9 Q664.368 1469.08 664.368 1474.49 Q664.368 1480.07 660.896 1483.17 Q657.424 1486.25 651.104 1486.25 Q648.928 1486.25 646.66 1485.88 Q644.414 1485.51 642.007 1484.77 L642.007 1480.07 Q644.09 1481.2 646.313 1481.76 Q648.535 1482.32 651.012 1482.32 Q655.016 1482.32 657.354 1480.21 Q659.692 1478.1 659.692 1474.49 Q659.692 1470.88 657.354 1468.77 Q655.016 1466.67 651.012 1466.67 Q649.137 1466.67 647.262 1467.08 Q645.41 1467.5 643.465 1468.38 L643.465 1451.02 Z\" fill=\"#000000\" fill-rule=\"evenodd\" fill-opacity=\"1\" /><path clip-path=\"url(#clip260)\" d=\"M683.581 1454.1 Q679.97 1454.1 678.141 1457.66 Q676.336 1461.2 676.336 1468.33 Q676.336 1475.44 678.141 1479.01 Q679.97 1482.55 683.581 1482.55 Q687.215 1482.55 689.021 1479.01 Q690.849 1475.44 690.849 1468.33 Q690.849 1461.2 689.021 1457.66 Q687.215 1454.1 683.581 1454.1 M683.581 1450.39 Q689.391 1450.39 692.447 1455 Q695.525 1459.58 695.525 1468.33 Q695.525 1477.06 692.447 1481.67 Q689.391 1486.25 683.581 1486.25 Q677.771 1486.25 674.692 1481.67 Q671.636 1477.06 671.636 1468.33 Q671.636 1459.58 674.692 1455 Q677.771 1450.39 683.581 1450.39 Z\" fill=\"#000000\" fill-rule=\"evenodd\" fill-opacity=\"1\" /><path clip-path=\"url(#clip260)\" d=\"M987.816 1481.64 L995.455 1481.64 L995.455 1455.28 L987.144 1456.95 L987.144 1452.69 L995.408 1451.02 L1000.08 1451.02 L1000.08 1481.64 L1007.72 1481.64 L1007.72 1485.58 L987.816 1485.58 L987.816 1481.64 Z\" fill=\"#000000\" fill-rule=\"evenodd\" fill-opacity=\"1\" /><path clip-path=\"url(#clip260)\" d=\"M1027.17 1454.1 Q1023.56 1454.1 1021.73 1457.66 Q1019.92 1461.2 1019.92 1468.33 Q1019.92 1475.44 1021.73 1479.01 Q1023.56 1482.55 1027.17 1482.55 Q1030.8 1482.55 1032.61 1479.01 Q1034.44 1475.44 1034.44 1468.33 Q1034.44 1461.2 1032.61 1457.66 Q1030.8 1454.1 1027.17 1454.1 M1027.17 1450.39 Q1032.98 1450.39 1036.03 1455 Q1039.11 1459.58 1039.11 1468.33 Q1039.11 1477.06 1036.03 1481.67 Q1032.98 1486.25 1027.17 1486.25 Q1021.36 1486.25 1018.28 1481.67 Q1015.22 1477.06 1015.22 1468.33 Q1015.22 1459.58 1018.28 1455 Q1021.36 1450.39 1027.17 1450.39 Z\" fill=\"#000000\" fill-rule=\"evenodd\" fill-opacity=\"1\" /><path clip-path=\"url(#clip260)\" d=\"M1057.33 1454.1 Q1053.72 1454.1 1051.89 1457.66 Q1050.08 1461.2 1050.08 1468.33 Q1050.08 1475.44 1051.89 1479.01 Q1053.72 1482.55 1057.33 1482.55 Q1060.96 1482.55 1062.77 1479.01 Q1064.6 1475.44 1064.6 1468.33 Q1064.6 1461.2 1062.77 1457.66 Q1060.96 1454.1 1057.33 1454.1 M1057.33 1450.39 Q1063.14 1450.39 1066.19 1455 Q1069.27 1459.58 1069.27 1468.33 Q1069.27 1477.06 1066.19 1481.67 Q1063.14 1486.25 1057.33 1486.25 Q1051.52 1486.25 1048.44 1481.67 Q1045.38 1477.06 1045.38 1468.33 Q1045.38 1459.58 1048.44 1455 Q1051.52 1450.39 1057.33 1450.39 Z\" fill=\"#000000\" fill-rule=\"evenodd\" fill-opacity=\"1\" /><path clip-path=\"url(#clip260)\" d=\"M1347.26 1481.64 L1354.9 1481.64 L1354.9 1455.28 L1346.59 1456.95 L1346.59 1452.69 L1354.85 1451.02 L1359.53 1451.02 L1359.53 1481.64 L1367.17 1481.64 L1367.17 1485.58 L1347.26 1485.58 L1347.26 1481.64 Z\" fill=\"#000000\" fill-rule=\"evenodd\" fill-opacity=\"1\" /><path clip-path=\"url(#clip260)\" d=\"M1376.66 1451.02 L1395.01 1451.02 L1395.01 1454.96 L1380.94 1454.96 L1380.94 1463.43 Q1381.96 1463.08 1382.98 1462.92 Q1383.99 1462.73 1385.01 1462.73 Q1390.8 1462.73 1394.18 1465.9 Q1397.56 1469.08 1397.56 1474.49 Q1397.56 1480.07 1394.09 1483.17 Q1390.61 1486.25 1384.3 1486.25 Q1382.12 1486.25 1379.85 1485.88 Q1377.61 1485.51 1375.2 1484.77 L1375.2 1480.07 Q1377.28 1481.2 1379.5 1481.76 Q1381.73 1482.32 1384.2 1482.32 Q1388.21 1482.32 1390.55 1480.21 Q1392.88 1478.1 1392.88 1474.49 Q1392.88 1470.88 1390.55 1468.77 Q1388.21 1466.67 1384.2 1466.67 Q1382.33 1466.67 1380.45 1467.08 Q1378.6 1467.5 1376.66 1468.38 L1376.66 1451.02 Z\" fill=\"#000000\" fill-rule=\"evenodd\" fill-opacity=\"1\" /><path clip-path=\"url(#clip260)\" d=\"M1416.77 1454.1 Q1413.16 1454.1 1411.33 1457.66 Q1409.53 1461.2 1409.53 1468.33 Q1409.53 1475.44 1411.33 1479.01 Q1413.16 1482.55 1416.77 1482.55 Q1420.41 1482.55 1422.21 1479.01 Q1424.04 1475.44 1424.04 1468.33 Q1424.04 1461.2 1422.21 1457.66 Q1420.41 1454.1 1416.77 1454.1 M1416.77 1450.39 Q1422.58 1450.39 1425.64 1455 Q1428.72 1459.58 1428.72 1468.33 Q1428.72 1477.06 1425.64 1481.67 Q1422.58 1486.25 1416.77 1486.25 Q1410.96 1486.25 1407.88 1481.67 Q1404.83 1477.06 1404.83 1468.33 Q1404.83 1459.58 1407.88 1455 Q1410.96 1450.39 1416.77 1450.39 Z\" fill=\"#000000\" fill-rule=\"evenodd\" fill-opacity=\"1\" /><path clip-path=\"url(#clip260)\" d=\"M1710.79 1481.64 L1727.11 1481.64 L1727.11 1485.58 L1705.16 1485.58 L1705.16 1481.64 Q1707.82 1478.89 1712.41 1474.26 Q1717.01 1469.61 1718.19 1468.27 Q1720.44 1465.74 1721.32 1464.01 Q1722.22 1462.25 1722.22 1460.56 Q1722.22 1457.8 1720.28 1456.07 Q1718.36 1454.33 1715.25 1454.33 Q1713.06 1454.33 1710.6 1455.09 Q1708.17 1455.86 1705.39 1457.41 L1705.39 1452.69 Q1708.22 1451.55 1710.67 1450.97 Q1713.12 1450.39 1715.16 1450.39 Q1720.53 1450.39 1723.73 1453.08 Q1726.92 1455.77 1726.92 1460.26 Q1726.92 1462.39 1726.11 1464.31 Q1725.32 1466.2 1723.22 1468.8 Q1722.64 1469.47 1719.54 1472.69 Q1716.44 1475.88 1710.79 1481.64 Z\" fill=\"#000000\" fill-rule=\"evenodd\" fill-opacity=\"1\" /><path clip-path=\"url(#clip260)\" d=\"M1746.92 1454.1 Q1743.31 1454.1 1741.48 1457.66 Q1739.68 1461.2 1739.68 1468.33 Q1739.68 1475.44 1741.48 1479.01 Q1743.31 1482.55 1746.92 1482.55 Q1750.56 1482.55 1752.36 1479.01 Q1754.19 1475.44 1754.19 1468.33 Q1754.19 1461.2 1752.36 1457.66 Q1750.56 1454.1 1746.92 1454.1 M1746.92 1450.39 Q1752.73 1450.39 1755.79 1455 Q1758.87 1459.58 1758.87 1468.33 Q1758.87 1477.06 1755.79 1481.67 Q1752.73 1486.25 1746.92 1486.25 Q1741.11 1486.25 1738.03 1481.67 Q1734.98 1477.06 1734.98 1468.33 Q1734.98 1459.58 1738.03 1455 Q1741.11 1450.39 1746.92 1450.39 Z\" fill=\"#000000\" fill-rule=\"evenodd\" fill-opacity=\"1\" /><path clip-path=\"url(#clip260)\" d=\"M1777.08 1454.1 Q1773.47 1454.1 1771.64 1457.66 Q1769.84 1461.2 1769.84 1468.33 Q1769.84 1475.44 1771.64 1479.01 Q1773.47 1482.55 1777.08 1482.55 Q1780.72 1482.55 1782.52 1479.01 Q1784.35 1475.44 1784.35 1468.33 Q1784.35 1461.2 1782.52 1457.66 Q1780.72 1454.1 1777.08 1454.1 M1777.08 1450.39 Q1782.89 1450.39 1785.95 1455 Q1789.03 1459.58 1789.03 1468.33 Q1789.03 1477.06 1785.95 1481.67 Q1782.89 1486.25 1777.08 1486.25 Q1771.27 1486.25 1768.19 1481.67 Q1765.14 1477.06 1765.14 1468.33 Q1765.14 1459.58 1768.19 1455 Q1771.27 1450.39 1777.08 1450.39 Z\" fill=\"#000000\" fill-rule=\"evenodd\" fill-opacity=\"1\" /><path clip-path=\"url(#clip260)\" d=\"M2070.23 1481.64 L2086.55 1481.64 L2086.55 1485.58 L2064.6 1485.58 L2064.6 1481.64 Q2067.27 1478.89 2071.85 1474.26 Q2076.46 1469.61 2077.64 1468.27 Q2079.88 1465.74 2080.76 1464.01 Q2081.66 1462.25 2081.66 1460.56 Q2081.66 1457.8 2079.72 1456.07 Q2077.8 1454.33 2074.7 1454.33 Q2072.5 1454.33 2070.04 1455.09 Q2067.61 1455.86 2064.84 1457.41 L2064.84 1452.69 Q2067.66 1451.55 2070.11 1450.97 Q2072.57 1450.39 2074.6 1450.39 Q2079.98 1450.39 2083.17 1453.08 Q2086.36 1455.77 2086.36 1460.26 Q2086.36 1462.39 2085.55 1464.31 Q2084.77 1466.2 2082.66 1468.8 Q2082.08 1469.47 2078.98 1472.69 Q2075.88 1475.88 2070.23 1481.64 Z\" fill=\"#000000\" fill-rule=\"evenodd\" fill-opacity=\"1\" /><path clip-path=\"url(#clip260)\" d=\"M2096.41 1451.02 L2114.77 1451.02 L2114.77 1454.96 L2100.69 1454.96 L2100.69 1463.43 Q2101.71 1463.08 2102.73 1462.92 Q2103.75 1462.73 2104.77 1462.73 Q2110.55 1462.73 2113.93 1465.9 Q2117.31 1469.08 2117.31 1474.49 Q2117.31 1480.07 2113.84 1483.17 Q2110.37 1486.25 2104.05 1486.25 Q2101.87 1486.25 2099.6 1485.88 Q2097.36 1485.51 2094.95 1484.77 L2094.95 1480.07 Q2097.04 1481.2 2099.26 1481.76 Q2101.48 1482.32 2103.96 1482.32 Q2107.96 1482.32 2110.3 1480.21 Q2112.64 1478.1 2112.64 1474.49 Q2112.64 1470.88 2110.3 1468.77 Q2107.96 1466.67 2103.96 1466.67 Q2102.08 1466.67 2100.21 1467.08 Q2098.35 1467.5 2096.41 1468.38 L2096.41 1451.02 Z\" fill=\"#000000\" fill-rule=\"evenodd\" fill-opacity=\"1\" /><path clip-path=\"url(#clip260)\" d=\"M2136.53 1454.1 Q2132.91 1454.1 2131.09 1457.66 Q2129.28 1461.2 2129.28 1468.33 Q2129.28 1475.44 2131.09 1479.01 Q2132.91 1482.55 2136.53 1482.55 Q2140.16 1482.55 2141.97 1479.01 Q2143.79 1475.44 2143.79 1468.33 Q2143.79 1461.2 2141.97 1457.66 Q2140.16 1454.1 2136.53 1454.1 M2136.53 1450.39 Q2142.34 1450.39 2145.39 1455 Q2148.47 1459.58 2148.47 1468.33 Q2148.47 1477.06 2145.39 1481.67 Q2142.34 1486.25 2136.53 1486.25 Q2130.72 1486.25 2127.64 1481.67 Q2124.58 1477.06 2124.58 1468.33 Q2124.58 1459.58 2127.64 1455 Q2130.72 1450.39 2136.53 1450.39 Z\" fill=\"#000000\" fill-rule=\"evenodd\" fill-opacity=\"1\" /><path clip-path=\"url(#clip260)\" d=\"M1319.91 1546.53 L1319.91 1568.04 L1314.05 1568.04 L1314.05 1546.72 Q1314.05 1541.66 1312.08 1539.14 Q1310.1 1536.63 1306.16 1536.63 Q1301.42 1536.63 1298.68 1539.65 Q1295.94 1542.68 1295.94 1547.9 L1295.94 1568.04 L1290.05 1568.04 L1290.05 1532.4 L1295.94 1532.4 L1295.94 1537.93 Q1298.04 1534.72 1300.87 1533.13 Q1303.74 1531.54 1307.46 1531.54 Q1313.61 1531.54 1316.76 1535.36 Q1319.91 1539.14 1319.91 1546.53 Z\" fill=\"#000000\" fill-rule=\"evenodd\" fill-opacity=\"1\" /><polyline clip-path=\"url(#clip262)\" style=\"stroke:#000000; stroke-linecap:round; stroke-linejoin:round; stroke-width:2; stroke-opacity:0.1; fill:none\" points=\"\n",
       "  257.204,1268.74 2352.76,1268.74 \n",
       "  \"/>\n",
       "<polyline clip-path=\"url(#clip262)\" style=\"stroke:#000000; stroke-linecap:round; stroke-linejoin:round; stroke-width:2; stroke-opacity:0.1; fill:none\" points=\"\n",
       "  257.204,1021.03 2352.76,1021.03 \n",
       "  \"/>\n",
       "<polyline clip-path=\"url(#clip262)\" style=\"stroke:#000000; stroke-linecap:round; stroke-linejoin:round; stroke-width:2; stroke-opacity:0.1; fill:none\" points=\"\n",
       "  257.204,773.326 2352.76,773.326 \n",
       "  \"/>\n",
       "<polyline clip-path=\"url(#clip262)\" style=\"stroke:#000000; stroke-linecap:round; stroke-linejoin:round; stroke-width:2; stroke-opacity:0.1; fill:none\" points=\"\n",
       "  257.204,525.62 2352.76,525.62 \n",
       "  \"/>\n",
       "<polyline clip-path=\"url(#clip262)\" style=\"stroke:#000000; stroke-linecap:round; stroke-linejoin:round; stroke-width:2; stroke-opacity:0.1; fill:none\" points=\"\n",
       "  257.204,277.915 2352.76,277.915 \n",
       "  \"/>\n",
       "<polyline clip-path=\"url(#clip260)\" style=\"stroke:#000000; stroke-linecap:round; stroke-linejoin:round; stroke-width:4; stroke-opacity:1; fill:none\" points=\"\n",
       "  257.204,1423.18 257.204,123.472 \n",
       "  \"/>\n",
       "<polyline clip-path=\"url(#clip260)\" style=\"stroke:#000000; stroke-linecap:round; stroke-linejoin:round; stroke-width:4; stroke-opacity:1; fill:none\" points=\"\n",
       "  257.204,1268.74 276.102,1268.74 \n",
       "  \"/>\n",
       "<polyline clip-path=\"url(#clip260)\" style=\"stroke:#000000; stroke-linecap:round; stroke-linejoin:round; stroke-width:4; stroke-opacity:1; fill:none\" points=\"\n",
       "  257.204,1021.03 276.102,1021.03 \n",
       "  \"/>\n",
       "<polyline clip-path=\"url(#clip260)\" style=\"stroke:#000000; stroke-linecap:round; stroke-linejoin:round; stroke-width:4; stroke-opacity:1; fill:none\" points=\"\n",
       "  257.204,773.326 276.102,773.326 \n",
       "  \"/>\n",
       "<polyline clip-path=\"url(#clip260)\" style=\"stroke:#000000; stroke-linecap:round; stroke-linejoin:round; stroke-width:4; stroke-opacity:1; fill:none\" points=\"\n",
       "  257.204,525.62 276.102,525.62 \n",
       "  \"/>\n",
       "<polyline clip-path=\"url(#clip260)\" style=\"stroke:#000000; stroke-linecap:round; stroke-linejoin:round; stroke-width:4; stroke-opacity:1; fill:none\" points=\"\n",
       "  257.204,277.915 276.102,277.915 \n",
       "  \"/>\n",
       "<path clip-path=\"url(#clip260)\" d=\"M114.26 1269.19 L143.936 1269.19 L143.936 1273.12 L114.26 1273.12 L114.26 1269.19 Z\" fill=\"#000000\" fill-rule=\"evenodd\" fill-opacity=\"1\" /><path clip-path=\"url(#clip260)\" d=\"M154.075 1251.46 L172.431 1251.46 L172.431 1255.39 L158.357 1255.39 L158.357 1263.86 Q159.376 1263.52 160.394 1263.36 Q161.413 1263.17 162.431 1263.17 Q168.218 1263.17 171.598 1266.34 Q174.977 1269.51 174.977 1274.93 Q174.977 1280.51 171.505 1283.61 Q168.033 1286.69 161.714 1286.69 Q159.538 1286.69 157.269 1286.32 Q155.024 1285.95 152.616 1285.21 L152.616 1280.51 Q154.7 1281.64 156.922 1282.2 Q159.144 1282.75 161.621 1282.75 Q165.626 1282.75 167.964 1280.65 Q170.302 1278.54 170.302 1274.93 Q170.302 1271.32 167.964 1269.21 Q165.626 1267.11 161.621 1267.11 Q159.746 1267.11 157.871 1267.52 Q156.019 1267.94 154.075 1268.82 L154.075 1251.46 Z\" fill=\"#000000\" fill-rule=\"evenodd\" fill-opacity=\"1\" /><path clip-path=\"url(#clip260)\" d=\"M184.19 1280.14 L189.075 1280.14 L189.075 1286.02 L184.19 1286.02 L184.19 1280.14 Z\" fill=\"#000000\" fill-rule=\"evenodd\" fill-opacity=\"1\" /><path clip-path=\"url(#clip260)\" d=\"M209.26 1254.54 Q205.649 1254.54 203.82 1258.1 Q202.014 1261.64 202.014 1268.77 Q202.014 1275.88 203.82 1279.44 Q205.649 1282.98 209.26 1282.98 Q212.894 1282.98 214.699 1279.44 Q216.528 1275.88 216.528 1268.77 Q216.528 1261.64 214.699 1258.1 Q212.894 1254.54 209.26 1254.54 M209.26 1250.83 Q215.07 1250.83 218.125 1255.44 Q221.204 1260.02 221.204 1268.77 Q221.204 1277.5 218.125 1282.1 Q215.07 1286.69 209.26 1286.69 Q203.449 1286.69 200.371 1282.1 Q197.315 1277.5 197.315 1268.77 Q197.315 1260.02 200.371 1255.44 Q203.449 1250.83 209.26 1250.83 Z\" fill=\"#000000\" fill-rule=\"evenodd\" fill-opacity=\"1\" /><path clip-path=\"url(#clip260)\" d=\"M115.256 1021.48 L144.931 1021.48 L144.931 1025.42 L115.256 1025.42 L115.256 1021.48 Z\" fill=\"#000000\" fill-rule=\"evenodd\" fill-opacity=\"1\" /><path clip-path=\"url(#clip260)\" d=\"M159.052 1034.38 L175.371 1034.38 L175.371 1038.31 L153.427 1038.31 L153.427 1034.38 Q156.089 1031.62 160.672 1026.99 Q165.278 1022.34 166.459 1021 Q168.704 1018.47 169.584 1016.74 Q170.487 1014.98 170.487 1013.29 Q170.487 1010.53 168.542 1008.8 Q166.621 1007.06 163.519 1007.06 Q161.32 1007.06 158.866 1007.83 Q156.436 1008.59 153.658 1010.14 L153.658 1005.42 Q156.482 1004.28 158.936 1003.71 Q161.39 1003.13 163.427 1003.13 Q168.797 1003.13 171.991 1005.81 Q175.186 1008.5 175.186 1012.99 Q175.186 1015.12 174.376 1017.04 Q173.589 1018.94 171.482 1021.53 Q170.903 1022.2 167.802 1025.42 Q164.7 1028.61 159.052 1034.38 Z\" fill=\"#000000\" fill-rule=\"evenodd\" fill-opacity=\"1\" /><path clip-path=\"url(#clip260)\" d=\"M185.186 1032.43 L190.07 1032.43 L190.07 1038.31 L185.186 1038.31 L185.186 1032.43 Z\" fill=\"#000000\" fill-rule=\"evenodd\" fill-opacity=\"1\" /><path clip-path=\"url(#clip260)\" d=\"M200.301 1003.75 L218.658 1003.75 L218.658 1007.69 L204.584 1007.69 L204.584 1016.16 Q205.602 1015.81 206.621 1015.65 Q207.639 1015.46 208.658 1015.46 Q214.445 1015.46 217.824 1018.64 Q221.204 1021.81 221.204 1027.22 Q221.204 1032.8 217.732 1035.9 Q214.26 1038.98 207.94 1038.98 Q205.764 1038.98 203.496 1038.61 Q201.25 1038.24 198.843 1037.5 L198.843 1032.8 Q200.926 1033.94 203.149 1034.49 Q205.371 1035.05 207.848 1035.05 Q211.852 1035.05 214.19 1032.94 Q216.528 1030.83 216.528 1027.22 Q216.528 1023.61 214.19 1021.51 Q211.852 1019.4 207.848 1019.4 Q205.973 1019.4 204.098 1019.82 Q202.246 1020.23 200.301 1021.11 L200.301 1003.75 Z\" fill=\"#000000\" fill-rule=\"evenodd\" fill-opacity=\"1\" /><path clip-path=\"url(#clip260)\" d=\"M164.028 759.125 Q160.417 759.125 158.589 762.689 Q156.783 766.231 156.783 773.361 Q156.783 780.467 158.589 784.032 Q160.417 787.574 164.028 787.574 Q167.663 787.574 169.468 784.032 Q171.297 780.467 171.297 773.361 Q171.297 766.231 169.468 762.689 Q167.663 759.125 164.028 759.125 M164.028 755.421 Q169.839 755.421 172.894 760.027 Q175.973 764.611 175.973 773.361 Q175.973 782.088 172.894 786.694 Q169.839 791.277 164.028 791.277 Q158.218 791.277 155.14 786.694 Q152.084 782.088 152.084 773.361 Q152.084 764.611 155.14 760.027 Q158.218 755.421 164.028 755.421 Z\" fill=\"#000000\" fill-rule=\"evenodd\" fill-opacity=\"1\" /><path clip-path=\"url(#clip260)\" d=\"M184.19 784.726 L189.075 784.726 L189.075 790.606 L184.19 790.606 L184.19 784.726 Z\" fill=\"#000000\" fill-rule=\"evenodd\" fill-opacity=\"1\" /><path clip-path=\"url(#clip260)\" d=\"M209.26 759.125 Q205.649 759.125 203.82 762.689 Q202.014 766.231 202.014 773.361 Q202.014 780.467 203.82 784.032 Q205.649 787.574 209.26 787.574 Q212.894 787.574 214.699 784.032 Q216.528 780.467 216.528 773.361 Q216.528 766.231 214.699 762.689 Q212.894 759.125 209.26 759.125 M209.26 755.421 Q215.07 755.421 218.125 760.027 Q221.204 764.611 221.204 773.361 Q221.204 782.088 218.125 786.694 Q215.07 791.277 209.26 791.277 Q203.449 791.277 200.371 786.694 Q197.315 782.088 197.315 773.361 Q197.315 764.611 200.371 760.027 Q203.449 755.421 209.26 755.421 Z\" fill=\"#000000\" fill-rule=\"evenodd\" fill-opacity=\"1\" /><path clip-path=\"url(#clip260)\" d=\"M159.052 538.965 L175.371 538.965 L175.371 542.9 L153.427 542.9 L153.427 538.965 Q156.089 536.211 160.672 531.581 Q165.278 526.928 166.459 525.586 Q168.704 523.063 169.584 521.327 Q170.487 519.567 170.487 517.877 Q170.487 515.123 168.542 513.387 Q166.621 511.651 163.519 511.651 Q161.32 511.651 158.866 512.415 Q156.436 513.178 153.658 514.729 L153.658 510.007 Q156.482 508.873 158.936 508.294 Q161.39 507.715 163.427 507.715 Q168.797 507.715 171.991 510.401 Q175.186 513.086 175.186 517.577 Q175.186 519.706 174.376 521.627 Q173.589 523.526 171.482 526.118 Q170.903 526.789 167.802 530.007 Q164.7 533.201 159.052 538.965 Z\" fill=\"#000000\" fill-rule=\"evenodd\" fill-opacity=\"1\" /><path clip-path=\"url(#clip260)\" d=\"M185.186 537.021 L190.07 537.021 L190.07 542.9 L185.186 542.9 L185.186 537.021 Z\" fill=\"#000000\" fill-rule=\"evenodd\" fill-opacity=\"1\" /><path clip-path=\"url(#clip260)\" d=\"M200.301 508.34 L218.658 508.34 L218.658 512.276 L204.584 512.276 L204.584 520.748 Q205.602 520.401 206.621 520.239 Q207.639 520.053 208.658 520.053 Q214.445 520.053 217.824 523.225 Q221.204 526.396 221.204 531.813 Q221.204 537.391 217.732 540.493 Q214.26 543.572 207.94 543.572 Q205.764 543.572 203.496 543.201 Q201.25 542.831 198.843 542.09 L198.843 537.391 Q200.926 538.526 203.149 539.081 Q205.371 539.637 207.848 539.637 Q211.852 539.637 214.19 537.53 Q216.528 535.424 216.528 531.813 Q216.528 528.201 214.19 526.095 Q211.852 523.989 207.848 523.989 Q205.973 523.989 204.098 524.405 Q202.246 524.822 200.301 525.701 L200.301 508.34 Z\" fill=\"#000000\" fill-rule=\"evenodd\" fill-opacity=\"1\" /><path clip-path=\"url(#clip260)\" d=\"M154.075 260.635 L172.431 260.635 L172.431 264.57 L158.357 264.57 L158.357 273.042 Q159.376 272.695 160.394 272.533 Q161.413 272.348 162.431 272.348 Q168.218 272.348 171.598 275.519 Q174.977 278.69 174.977 284.107 Q174.977 289.686 171.505 292.788 Q168.033 295.866 161.714 295.866 Q159.538 295.866 157.269 295.496 Q155.024 295.126 152.616 294.385 L152.616 289.686 Q154.7 290.82 156.922 291.376 Q159.144 291.931 161.621 291.931 Q165.626 291.931 167.964 289.825 Q170.302 287.718 170.302 284.107 Q170.302 280.496 167.964 278.39 Q165.626 276.283 161.621 276.283 Q159.746 276.283 157.871 276.7 Q156.019 277.116 154.075 277.996 L154.075 260.635 Z\" fill=\"#000000\" fill-rule=\"evenodd\" fill-opacity=\"1\" /><path clip-path=\"url(#clip260)\" d=\"M184.19 289.315 L189.075 289.315 L189.075 295.195 L184.19 295.195 L184.19 289.315 Z\" fill=\"#000000\" fill-rule=\"evenodd\" fill-opacity=\"1\" /><path clip-path=\"url(#clip260)\" d=\"M209.26 263.714 Q205.649 263.714 203.82 267.278 Q202.014 270.82 202.014 277.95 Q202.014 285.056 203.82 288.621 Q205.649 292.163 209.26 292.163 Q212.894 292.163 214.699 288.621 Q216.528 285.056 216.528 277.95 Q216.528 270.82 214.699 267.278 Q212.894 263.714 209.26 263.714 M209.26 260.01 Q215.07 260.01 218.125 264.616 Q221.204 269.2 221.204 277.95 Q221.204 286.677 218.125 291.283 Q215.07 295.866 209.26 295.866 Q203.449 295.866 200.371 291.283 Q197.315 286.677 197.315 277.95 Q197.315 269.2 200.371 264.616 Q203.449 260.01 209.26 260.01 Z\" fill=\"#000000\" fill-rule=\"evenodd\" fill-opacity=\"1\" /><path clip-path=\"url(#clip260)\" d=\"M16.4842 788.636 L16.4842 758.589 L21.895 758.589 L21.895 782.206 L35.9632 782.206 L35.9632 759.576 L41.3741 759.576 L41.3741 782.206 L58.5933 782.206 L58.5933 758.016 L64.0042 758.016 L64.0042 788.636 L16.4842 788.636 Z\" fill=\"#000000\" fill-rule=\"evenodd\" fill-opacity=\"1\" /><path clip-path=\"url(#clip260)\" d=\"M1024.56 12.096 L1062.8 12.096 L1062.8 18.9825 L1032.74 18.9825 L1032.74 36.8875 L1061.54 36.8875 L1061.54 43.7741 L1032.74 43.7741 L1032.74 65.6895 L1063.53 65.6895 L1063.53 72.576 L1024.56 72.576 L1024.56 12.096 Z\" fill=\"#000000\" fill-rule=\"evenodd\" fill-opacity=\"1\" /><path clip-path=\"url(#clip260)\" d=\"M1114.36 45.1919 L1114.36 72.576 L1106.91 72.576 L1106.91 45.4349 Q1106.91 38.994 1104.4 35.7938 Q1101.89 32.5936 1096.86 32.5936 Q1090.83 32.5936 1087.35 36.4419 Q1083.86 40.2903 1083.86 46.9338 L1083.86 72.576 L1076.37 72.576 L1076.37 27.2059 L1083.86 27.2059 L1083.86 34.2544 Q1086.53 30.163 1090.14 28.1376 Q1093.79 26.1121 1098.53 26.1121 Q1106.34 26.1121 1110.35 30.9732 Q1114.36 35.7938 1114.36 45.1919 Z\" fill=\"#000000\" fill-rule=\"evenodd\" fill-opacity=\"1\" /><path clip-path=\"url(#clip260)\" d=\"M1168.04 48.0275 L1168.04 51.6733 L1133.77 51.6733 Q1134.25 59.3701 1138.39 63.421 Q1142.56 67.4314 1149.97 67.4314 Q1154.27 67.4314 1158.28 66.3781 Q1162.33 65.3249 1166.3 63.2184 L1166.3 70.267 Q1162.29 71.9684 1158.07 72.8596 Q1153.86 73.7508 1149.53 73.7508 Q1138.67 73.7508 1132.31 67.4314 Q1125.99 61.1119 1125.99 50.3365 Q1125.99 39.1965 1131.99 32.6746 Q1138.02 26.1121 1148.23 26.1121 Q1157.39 26.1121 1162.69 32.0264 Q1168.04 37.9003 1168.04 48.0275 M1160.59 45.84 Q1160.5 39.7232 1157.14 36.0774 Q1153.82 32.4315 1148.31 32.4315 Q1142.07 32.4315 1138.31 35.9558 Q1134.58 39.4801 1134.01 45.8805 L1160.59 45.84 Z\" fill=\"#000000\" fill-rule=\"evenodd\" fill-opacity=\"1\" /><path clip-path=\"url(#clip260)\" d=\"M1206.56 34.1734 Q1205.31 33.4443 1203.81 33.1202 Q1202.35 32.7556 1200.57 32.7556 Q1194.25 32.7556 1190.85 36.8875 Q1187.48 40.9789 1187.48 48.6757 L1187.48 72.576 L1179.99 72.576 L1179.99 27.2059 L1187.48 27.2059 L1187.48 34.2544 Q1189.83 30.1225 1193.6 28.1376 Q1197.37 26.1121 1202.76 26.1121 Q1203.53 26.1121 1204.46 26.2337 Q1205.39 26.3147 1206.52 26.5172 L1206.56 34.1734 Z\" fill=\"#000000\" fill-rule=\"evenodd\" fill-opacity=\"1\" /><path clip-path=\"url(#clip260)\" d=\"M1242.78 49.3643 Q1242.78 41.2625 1239.42 36.8065 Q1236.09 32.3505 1230.06 32.3505 Q1224.06 32.3505 1220.7 36.8065 Q1217.38 41.2625 1217.38 49.3643 Q1217.38 57.4256 1220.7 61.8816 Q1224.06 66.3376 1230.06 66.3376 Q1236.09 66.3376 1239.42 61.8816 Q1242.78 57.4256 1242.78 49.3643 M1250.23 66.9452 Q1250.23 78.5308 1245.09 84.1616 Q1239.94 89.8329 1229.33 89.8329 Q1225.4 89.8329 1221.92 89.2252 Q1218.43 88.6581 1215.15 87.4428 L1215.15 80.1917 Q1218.43 81.9741 1221.63 82.8248 Q1224.83 83.6755 1228.15 83.6755 Q1235.49 83.6755 1239.13 79.8271 Q1242.78 76.0193 1242.78 68.282 L1242.78 64.5957 Q1240.47 68.6061 1236.86 70.5911 Q1233.26 72.576 1228.24 72.576 Q1219.89 72.576 1214.79 66.2161 Q1209.68 59.8562 1209.68 49.3643 Q1209.68 38.832 1214.79 32.472 Q1219.89 26.1121 1228.24 26.1121 Q1233.26 26.1121 1236.86 28.0971 Q1240.47 30.082 1242.78 34.0924 L1242.78 27.2059 L1250.23 27.2059 L1250.23 66.9452 Z\" fill=\"#000000\" fill-rule=\"evenodd\" fill-opacity=\"1\" /><path clip-path=\"url(#clip260)\" d=\"M1284.46 76.7889 Q1281.3 84.8907 1278.3 87.3618 Q1275.31 89.8329 1270.28 89.8329 L1264.33 89.8329 L1264.33 83.5945 L1268.7 83.5945 Q1271.78 83.5945 1273.48 82.1361 Q1275.19 80.6778 1277.25 75.2496 L1278.59 71.8468 L1260.24 27.2059 L1268.14 27.2059 L1282.32 62.6918 L1296.49 27.2059 L1304.39 27.2059 L1284.46 76.7889 Z\" fill=\"#000000\" fill-rule=\"evenodd\" fill-opacity=\"1\" /><path clip-path=\"url(#clip260)\" d=\"M1349.56 43.6931 L1349.56 65.8515 L1362.69 65.8515 Q1369.29 65.8515 1372.45 63.1374 Q1375.65 60.3828 1375.65 54.752 Q1375.65 49.0808 1372.45 46.4072 Q1369.29 43.6931 1362.69 43.6931 L1349.56 43.6931 M1349.56 18.8205 L1349.56 37.0496 L1361.67 37.0496 Q1367.67 37.0496 1370.58 34.8216 Q1373.54 32.5531 1373.54 27.935 Q1373.54 23.3575 1370.58 21.089 Q1367.67 18.8205 1361.67 18.8205 L1349.56 18.8205 M1341.38 12.096 L1362.28 12.096 Q1371.64 12.096 1376.7 15.9849 Q1381.76 19.8737 1381.76 27.0438 Q1381.76 32.5936 1379.17 35.8748 Q1376.58 39.156 1371.56 39.9662 Q1377.59 41.2625 1380.91 45.3944 Q1384.28 49.4858 1384.28 55.6432 Q1384.28 63.745 1378.77 68.1605 Q1373.26 72.576 1363.09 72.576 L1341.38 72.576 L1341.38 12.096 Z\" fill=\"#000000\" fill-rule=\"evenodd\" fill-opacity=\"1\" /><path clip-path=\"url(#clip260)\" d=\"M1418.59 49.7694 Q1409.55 49.7694 1406.07 51.8354 Q1402.59 53.9013 1402.59 58.8839 Q1402.59 62.8538 1405.18 65.2034 Q1407.81 67.5124 1412.31 67.5124 Q1418.51 67.5124 1422.23 63.1374 Q1426 58.7219 1426 51.4303 L1426 49.7694 L1418.59 49.7694 M1433.45 46.6907 L1433.45 72.576 L1426 72.576 L1426 65.6895 Q1423.45 69.8214 1419.64 71.8063 Q1415.83 73.7508 1410.32 73.7508 Q1403.36 73.7508 1399.22 69.8619 Q1395.13 65.9325 1395.13 59.3701 Q1395.13 51.7138 1400.24 47.825 Q1405.38 43.9361 1415.55 43.9361 L1426 43.9361 L1426 43.2069 Q1426 38.0623 1422.6 35.2672 Q1419.24 32.4315 1413.12 32.4315 Q1409.23 32.4315 1405.54 33.3632 Q1401.86 34.295 1398.45 36.1584 L1398.45 29.2718 Q1402.55 27.692 1406.39 26.9223 Q1410.24 26.1121 1413.89 26.1121 Q1423.73 26.1121 1428.59 31.2163 Q1433.45 36.3204 1433.45 46.6907 Z\" fill=\"#000000\" fill-rule=\"evenodd\" fill-opacity=\"1\" /><path clip-path=\"url(#clip260)\" d=\"M1486.52 45.1919 L1486.52 72.576 L1479.07 72.576 L1479.07 45.4349 Q1479.07 38.994 1476.56 35.7938 Q1474.04 32.5936 1469.02 32.5936 Q1462.99 32.5936 1459.5 36.4419 Q1456.02 40.2903 1456.02 46.9338 L1456.02 72.576 L1448.52 72.576 L1448.52 27.2059 L1456.02 27.2059 L1456.02 34.2544 Q1458.69 30.163 1462.3 28.1376 Q1465.94 26.1121 1470.68 26.1121 Q1478.5 26.1121 1482.51 30.9732 Q1486.52 35.7938 1486.52 45.1919 Z\" fill=\"#000000\" fill-rule=\"evenodd\" fill-opacity=\"1\" /><path clip-path=\"url(#clip260)\" d=\"M1531.24 34.0924 L1531.24 9.54393 L1538.7 9.54393 L1538.7 72.576 L1531.24 72.576 L1531.24 65.7705 Q1528.89 69.8214 1525.29 71.8063 Q1521.72 73.7508 1516.7 73.7508 Q1508.48 73.7508 1503.29 67.1883 Q1498.15 60.6258 1498.15 49.9314 Q1498.15 39.2371 1503.29 32.6746 Q1508.48 26.1121 1516.7 26.1121 Q1521.72 26.1121 1525.29 28.0971 Q1528.89 30.0415 1531.24 34.0924 M1505.84 49.9314 Q1505.84 58.1548 1509.21 62.8538 Q1512.61 67.5124 1518.52 67.5124 Q1524.44 67.5124 1527.84 62.8538 Q1531.24 58.1548 1531.24 49.9314 Q1531.24 41.7081 1527.84 37.0496 Q1524.44 32.3505 1518.52 32.3505 Q1512.61 32.3505 1509.21 37.0496 Q1505.84 41.7081 1505.84 49.9314 Z\" fill=\"#000000\" fill-rule=\"evenodd\" fill-opacity=\"1\" /><path clip-path=\"url(#clip260)\" d=\"M1582.97 28.5427 L1582.97 35.5912 Q1579.81 33.9709 1576.41 33.1607 Q1573.01 32.3505 1569.36 32.3505 Q1563.81 32.3505 1561.02 34.0519 Q1558.26 35.7533 1558.26 39.156 Q1558.26 41.7486 1560.25 43.2475 Q1562.23 44.7058 1568.23 46.0426 L1570.78 46.6097 Q1578.72 48.3111 1582.04 51.4303 Q1585.4 54.509 1585.4 60.0587 Q1585.4 66.3781 1580.38 70.0644 Q1575.4 73.7508 1566.65 73.7508 Q1563 73.7508 1559.03 73.0216 Q1555.1 72.3329 1550.73 70.9151 L1550.73 63.2184 Q1554.86 65.3654 1558.87 66.4591 Q1562.88 67.5124 1566.81 67.5124 Q1572.08 67.5124 1574.91 65.73 Q1577.75 63.9071 1577.75 60.6258 Q1577.75 57.5877 1575.68 55.9673 Q1573.66 54.3469 1566.73 52.8481 L1564.14 52.2405 Q1557.21 50.7821 1554.13 47.7845 Q1551.05 44.7463 1551.05 39.4801 Q1551.05 33.0797 1555.59 29.5959 Q1560.13 26.1121 1568.47 26.1121 Q1572.6 26.1121 1576.25 26.7198 Q1579.89 27.3274 1582.97 28.5427 Z\" fill=\"#000000\" fill-rule=\"evenodd\" fill-opacity=\"1\" /><circle clip-path=\"url(#clip262)\" cx=\"316.512\" cy=\"1386.4\" r=\"14.4\" fill=\"#009af9\" fill-rule=\"evenodd\" fill-opacity=\"1\" stroke=\"#000000\" stroke-opacity=\"1\" stroke-width=\"3.2\"/>\n",
       "<circle clip-path=\"url(#clip262)\" cx=\"323.701\" cy=\"1384.56\" r=\"14.4\" fill=\"#009af9\" fill-rule=\"evenodd\" fill-opacity=\"1\" stroke=\"#000000\" stroke-opacity=\"1\" stroke-width=\"3.2\"/>\n",
       "<circle clip-path=\"url(#clip262)\" cx=\"330.89\" cy=\"1363.15\" r=\"14.4\" fill=\"#009af9\" fill-rule=\"evenodd\" fill-opacity=\"1\" stroke=\"#000000\" stroke-opacity=\"1\" stroke-width=\"3.2\"/>\n",
       "<circle clip-path=\"url(#clip262)\" cx=\"338.079\" cy=\"1363.15\" r=\"14.4\" fill=\"#009af9\" fill-rule=\"evenodd\" fill-opacity=\"1\" stroke=\"#000000\" stroke-opacity=\"1\" stroke-width=\"3.2\"/>\n",
       "<circle clip-path=\"url(#clip262)\" cx=\"345.268\" cy=\"1357.96\" r=\"14.4\" fill=\"#009af9\" fill-rule=\"evenodd\" fill-opacity=\"1\" stroke=\"#000000\" stroke-opacity=\"1\" stroke-width=\"3.2\"/>\n",
       "<circle clip-path=\"url(#clip262)\" cx=\"352.456\" cy=\"1357.96\" r=\"14.4\" fill=\"#009af9\" fill-rule=\"evenodd\" fill-opacity=\"1\" stroke=\"#000000\" stroke-opacity=\"1\" stroke-width=\"3.2\"/>\n",
       "<circle clip-path=\"url(#clip262)\" cx=\"359.645\" cy=\"1336.4\" r=\"14.4\" fill=\"#009af9\" fill-rule=\"evenodd\" fill-opacity=\"1\" stroke=\"#000000\" stroke-opacity=\"1\" stroke-width=\"3.2\"/>\n",
       "<circle clip-path=\"url(#clip262)\" cx=\"366.834\" cy=\"1333.59\" r=\"14.4\" fill=\"#009af9\" fill-rule=\"evenodd\" fill-opacity=\"1\" stroke=\"#000000\" stroke-opacity=\"1\" stroke-width=\"3.2\"/>\n",
       "<circle clip-path=\"url(#clip262)\" cx=\"374.023\" cy=\"1328.34\" r=\"14.4\" fill=\"#009af9\" fill-rule=\"evenodd\" fill-opacity=\"1\" stroke=\"#000000\" stroke-opacity=\"1\" stroke-width=\"3.2\"/>\n",
       "<circle clip-path=\"url(#clip262)\" cx=\"381.212\" cy=\"1324.59\" r=\"14.4\" fill=\"#009af9\" fill-rule=\"evenodd\" fill-opacity=\"1\" stroke=\"#000000\" stroke-opacity=\"1\" stroke-width=\"3.2\"/>\n",
       "<circle clip-path=\"url(#clip262)\" cx=\"388.401\" cy=\"1229.01\" r=\"14.4\" fill=\"#009af9\" fill-rule=\"evenodd\" fill-opacity=\"1\" stroke=\"#000000\" stroke-opacity=\"1\" stroke-width=\"3.2\"/>\n",
       "<circle clip-path=\"url(#clip262)\" cx=\"395.59\" cy=\"1220.3\" r=\"14.4\" fill=\"#009af9\" fill-rule=\"evenodd\" fill-opacity=\"1\" stroke=\"#000000\" stroke-opacity=\"1\" stroke-width=\"3.2\"/>\n",
       "<circle clip-path=\"url(#clip262)\" cx=\"402.778\" cy=\"1213.27\" r=\"14.4\" fill=\"#009af9\" fill-rule=\"evenodd\" fill-opacity=\"1\" stroke=\"#000000\" stroke-opacity=\"1\" stroke-width=\"3.2\"/>\n",
       "<circle clip-path=\"url(#clip262)\" cx=\"409.967\" cy=\"1213.13\" r=\"14.4\" fill=\"#009af9\" fill-rule=\"evenodd\" fill-opacity=\"1\" stroke=\"#000000\" stroke-opacity=\"1\" stroke-width=\"3.2\"/>\n",
       "<circle clip-path=\"url(#clip262)\" cx=\"417.156\" cy=\"1213.13\" r=\"14.4\" fill=\"#009af9\" fill-rule=\"evenodd\" fill-opacity=\"1\" stroke=\"#000000\" stroke-opacity=\"1\" stroke-width=\"3.2\"/>\n",
       "<circle clip-path=\"url(#clip262)\" cx=\"424.345\" cy=\"1208.49\" r=\"14.4\" fill=\"#009af9\" fill-rule=\"evenodd\" fill-opacity=\"1\" stroke=\"#000000\" stroke-opacity=\"1\" stroke-width=\"3.2\"/>\n",
       "<circle clip-path=\"url(#clip262)\" cx=\"431.534\" cy=\"1208.49\" r=\"14.4\" fill=\"#009af9\" fill-rule=\"evenodd\" fill-opacity=\"1\" stroke=\"#000000\" stroke-opacity=\"1\" stroke-width=\"3.2\"/>\n",
       "<circle clip-path=\"url(#clip262)\" cx=\"438.723\" cy=\"1202.42\" r=\"14.4\" fill=\"#009af9\" fill-rule=\"evenodd\" fill-opacity=\"1\" stroke=\"#000000\" stroke-opacity=\"1\" stroke-width=\"3.2\"/>\n",
       "<circle clip-path=\"url(#clip262)\" cx=\"445.912\" cy=\"1194.35\" r=\"14.4\" fill=\"#009af9\" fill-rule=\"evenodd\" fill-opacity=\"1\" stroke=\"#000000\" stroke-opacity=\"1\" stroke-width=\"3.2\"/>\n",
       "<circle clip-path=\"url(#clip262)\" cx=\"453.1\" cy=\"1191.46\" r=\"14.4\" fill=\"#009af9\" fill-rule=\"evenodd\" fill-opacity=\"1\" stroke=\"#000000\" stroke-opacity=\"1\" stroke-width=\"3.2\"/>\n",
       "<circle clip-path=\"url(#clip262)\" cx=\"460.289\" cy=\"1177.82\" r=\"14.4\" fill=\"#009af9\" fill-rule=\"evenodd\" fill-opacity=\"1\" stroke=\"#000000\" stroke-opacity=\"1\" stroke-width=\"3.2\"/>\n",
       "<circle clip-path=\"url(#clip262)\" cx=\"467.478\" cy=\"1177.19\" r=\"14.4\" fill=\"#009af9\" fill-rule=\"evenodd\" fill-opacity=\"1\" stroke=\"#000000\" stroke-opacity=\"1\" stroke-width=\"3.2\"/>\n",
       "<circle clip-path=\"url(#clip262)\" cx=\"474.667\" cy=\"1175.95\" r=\"14.4\" fill=\"#009af9\" fill-rule=\"evenodd\" fill-opacity=\"1\" stroke=\"#000000\" stroke-opacity=\"1\" stroke-width=\"3.2\"/>\n",
       "<circle clip-path=\"url(#clip262)\" cx=\"481.856\" cy=\"1175.95\" r=\"14.4\" fill=\"#009af9\" fill-rule=\"evenodd\" fill-opacity=\"1\" stroke=\"#000000\" stroke-opacity=\"1\" stroke-width=\"3.2\"/>\n",
       "<circle clip-path=\"url(#clip262)\" cx=\"489.045\" cy=\"1157.95\" r=\"14.4\" fill=\"#009af9\" fill-rule=\"evenodd\" fill-opacity=\"1\" stroke=\"#000000\" stroke-opacity=\"1\" stroke-width=\"3.2\"/>\n",
       "<circle clip-path=\"url(#clip262)\" cx=\"496.234\" cy=\"1157.95\" r=\"14.4\" fill=\"#009af9\" fill-rule=\"evenodd\" fill-opacity=\"1\" stroke=\"#000000\" stroke-opacity=\"1\" stroke-width=\"3.2\"/>\n",
       "<circle clip-path=\"url(#clip262)\" cx=\"503.422\" cy=\"1125.41\" r=\"14.4\" fill=\"#009af9\" fill-rule=\"evenodd\" fill-opacity=\"1\" stroke=\"#000000\" stroke-opacity=\"1\" stroke-width=\"3.2\"/>\n",
       "<circle clip-path=\"url(#clip262)\" cx=\"510.611\" cy=\"1124.27\" r=\"14.4\" fill=\"#009af9\" fill-rule=\"evenodd\" fill-opacity=\"1\" stroke=\"#000000\" stroke-opacity=\"1\" stroke-width=\"3.2\"/>\n",
       "<circle clip-path=\"url(#clip262)\" cx=\"517.8\" cy=\"1124.27\" r=\"14.4\" fill=\"#009af9\" fill-rule=\"evenodd\" fill-opacity=\"1\" stroke=\"#000000\" stroke-opacity=\"1\" stroke-width=\"3.2\"/>\n",
       "<circle clip-path=\"url(#clip262)\" cx=\"524.989\" cy=\"1113.99\" r=\"14.4\" fill=\"#009af9\" fill-rule=\"evenodd\" fill-opacity=\"1\" stroke=\"#000000\" stroke-opacity=\"1\" stroke-width=\"3.2\"/>\n",
       "<circle clip-path=\"url(#clip262)\" cx=\"532.178\" cy=\"1111.7\" r=\"14.4\" fill=\"#009af9\" fill-rule=\"evenodd\" fill-opacity=\"1\" stroke=\"#000000\" stroke-opacity=\"1\" stroke-width=\"3.2\"/>\n",
       "<circle clip-path=\"url(#clip262)\" cx=\"539.367\" cy=\"1109.05\" r=\"14.4\" fill=\"#009af9\" fill-rule=\"evenodd\" fill-opacity=\"1\" stroke=\"#000000\" stroke-opacity=\"1\" stroke-width=\"3.2\"/>\n",
       "<circle clip-path=\"url(#clip262)\" cx=\"546.556\" cy=\"1108.62\" r=\"14.4\" fill=\"#009af9\" fill-rule=\"evenodd\" fill-opacity=\"1\" stroke=\"#000000\" stroke-opacity=\"1\" stroke-width=\"3.2\"/>\n",
       "<circle clip-path=\"url(#clip262)\" cx=\"553.744\" cy=\"1107.22\" r=\"14.4\" fill=\"#009af9\" fill-rule=\"evenodd\" fill-opacity=\"1\" stroke=\"#000000\" stroke-opacity=\"1\" stroke-width=\"3.2\"/>\n",
       "<circle clip-path=\"url(#clip262)\" cx=\"560.933\" cy=\"1107.22\" r=\"14.4\" fill=\"#009af9\" fill-rule=\"evenodd\" fill-opacity=\"1\" stroke=\"#000000\" stroke-opacity=\"1\" stroke-width=\"3.2\"/>\n",
       "<circle clip-path=\"url(#clip262)\" cx=\"568.122\" cy=\"1101.9\" r=\"14.4\" fill=\"#009af9\" fill-rule=\"evenodd\" fill-opacity=\"1\" stroke=\"#000000\" stroke-opacity=\"1\" stroke-width=\"3.2\"/>\n",
       "<circle clip-path=\"url(#clip262)\" cx=\"575.311\" cy=\"1097.67\" r=\"14.4\" fill=\"#009af9\" fill-rule=\"evenodd\" fill-opacity=\"1\" stroke=\"#000000\" stroke-opacity=\"1\" stroke-width=\"3.2\"/>\n",
       "<circle clip-path=\"url(#clip262)\" cx=\"582.5\" cy=\"1084.56\" r=\"14.4\" fill=\"#009af9\" fill-rule=\"evenodd\" fill-opacity=\"1\" stroke=\"#000000\" stroke-opacity=\"1\" stroke-width=\"3.2\"/>\n",
       "<circle clip-path=\"url(#clip262)\" cx=\"589.689\" cy=\"1084.56\" r=\"14.4\" fill=\"#009af9\" fill-rule=\"evenodd\" fill-opacity=\"1\" stroke=\"#000000\" stroke-opacity=\"1\" stroke-width=\"3.2\"/>\n",
       "<circle clip-path=\"url(#clip262)\" cx=\"596.878\" cy=\"1084.12\" r=\"14.4\" fill=\"#009af9\" fill-rule=\"evenodd\" fill-opacity=\"1\" stroke=\"#000000\" stroke-opacity=\"1\" stroke-width=\"3.2\"/>\n",
       "<circle clip-path=\"url(#clip262)\" cx=\"604.066\" cy=\"1077.58\" r=\"14.4\" fill=\"#009af9\" fill-rule=\"evenodd\" fill-opacity=\"1\" stroke=\"#000000\" stroke-opacity=\"1\" stroke-width=\"3.2\"/>\n",
       "<circle clip-path=\"url(#clip262)\" cx=\"611.255\" cy=\"1077.58\" r=\"14.4\" fill=\"#009af9\" fill-rule=\"evenodd\" fill-opacity=\"1\" stroke=\"#000000\" stroke-opacity=\"1\" stroke-width=\"3.2\"/>\n",
       "<circle clip-path=\"url(#clip262)\" cx=\"618.444\" cy=\"1060.23\" r=\"14.4\" fill=\"#009af9\" fill-rule=\"evenodd\" fill-opacity=\"1\" stroke=\"#000000\" stroke-opacity=\"1\" stroke-width=\"3.2\"/>\n",
       "<circle clip-path=\"url(#clip262)\" cx=\"625.633\" cy=\"1057.5\" r=\"14.4\" fill=\"#009af9\" fill-rule=\"evenodd\" fill-opacity=\"1\" stroke=\"#000000\" stroke-opacity=\"1\" stroke-width=\"3.2\"/>\n",
       "<circle clip-path=\"url(#clip262)\" cx=\"632.822\" cy=\"1052.81\" r=\"14.4\" fill=\"#009af9\" fill-rule=\"evenodd\" fill-opacity=\"1\" stroke=\"#000000\" stroke-opacity=\"1\" stroke-width=\"3.2\"/>\n",
       "<circle clip-path=\"url(#clip262)\" cx=\"640.011\" cy=\"1043.17\" r=\"14.4\" fill=\"#009af9\" fill-rule=\"evenodd\" fill-opacity=\"1\" stroke=\"#000000\" stroke-opacity=\"1\" stroke-width=\"3.2\"/>\n",
       "<circle clip-path=\"url(#clip262)\" cx=\"647.2\" cy=\"1042.83\" r=\"14.4\" fill=\"#009af9\" fill-rule=\"evenodd\" fill-opacity=\"1\" stroke=\"#000000\" stroke-opacity=\"1\" stroke-width=\"3.2\"/>\n",
       "<circle clip-path=\"url(#clip262)\" cx=\"654.388\" cy=\"1042.83\" r=\"14.4\" fill=\"#009af9\" fill-rule=\"evenodd\" fill-opacity=\"1\" stroke=\"#000000\" stroke-opacity=\"1\" stroke-width=\"3.2\"/>\n",
       "<circle clip-path=\"url(#clip262)\" cx=\"661.577\" cy=\"1030.64\" r=\"14.4\" fill=\"#009af9\" fill-rule=\"evenodd\" fill-opacity=\"1\" stroke=\"#000000\" stroke-opacity=\"1\" stroke-width=\"3.2\"/>\n",
       "<circle clip-path=\"url(#clip262)\" cx=\"668.766\" cy=\"1030.64\" r=\"14.4\" fill=\"#009af9\" fill-rule=\"evenodd\" fill-opacity=\"1\" stroke=\"#000000\" stroke-opacity=\"1\" stroke-width=\"3.2\"/>\n",
       "<circle clip-path=\"url(#clip262)\" cx=\"675.955\" cy=\"1029.58\" r=\"14.4\" fill=\"#009af9\" fill-rule=\"evenodd\" fill-opacity=\"1\" stroke=\"#000000\" stroke-opacity=\"1\" stroke-width=\"3.2\"/>\n",
       "<circle clip-path=\"url(#clip262)\" cx=\"683.144\" cy=\"1023.71\" r=\"14.4\" fill=\"#009af9\" fill-rule=\"evenodd\" fill-opacity=\"1\" stroke=\"#000000\" stroke-opacity=\"1\" stroke-width=\"3.2\"/>\n",
       "<circle clip-path=\"url(#clip262)\" cx=\"690.333\" cy=\"1023.71\" r=\"14.4\" fill=\"#009af9\" fill-rule=\"evenodd\" fill-opacity=\"1\" stroke=\"#000000\" stroke-opacity=\"1\" stroke-width=\"3.2\"/>\n",
       "<circle clip-path=\"url(#clip262)\" cx=\"697.522\" cy=\"1021.85\" r=\"14.4\" fill=\"#009af9\" fill-rule=\"evenodd\" fill-opacity=\"1\" stroke=\"#000000\" stroke-opacity=\"1\" stroke-width=\"3.2\"/>\n",
       "<circle clip-path=\"url(#clip262)\" cx=\"704.71\" cy=\"1021.37\" r=\"14.4\" fill=\"#009af9\" fill-rule=\"evenodd\" fill-opacity=\"1\" stroke=\"#000000\" stroke-opacity=\"1\" stroke-width=\"3.2\"/>\n",
       "<circle clip-path=\"url(#clip262)\" cx=\"711.899\" cy=\"1013.3\" r=\"14.4\" fill=\"#009af9\" fill-rule=\"evenodd\" fill-opacity=\"1\" stroke=\"#000000\" stroke-opacity=\"1\" stroke-width=\"3.2\"/>\n",
       "<circle clip-path=\"url(#clip262)\" cx=\"719.088\" cy=\"1010.93\" r=\"14.4\" fill=\"#009af9\" fill-rule=\"evenodd\" fill-opacity=\"1\" stroke=\"#000000\" stroke-opacity=\"1\" stroke-width=\"3.2\"/>\n",
       "<circle clip-path=\"url(#clip262)\" cx=\"726.277\" cy=\"1001.58\" r=\"14.4\" fill=\"#009af9\" fill-rule=\"evenodd\" fill-opacity=\"1\" stroke=\"#000000\" stroke-opacity=\"1\" stroke-width=\"3.2\"/>\n",
       "<circle clip-path=\"url(#clip262)\" cx=\"733.466\" cy=\"998.564\" r=\"14.4\" fill=\"#009af9\" fill-rule=\"evenodd\" fill-opacity=\"1\" stroke=\"#000000\" stroke-opacity=\"1\" stroke-width=\"3.2\"/>\n",
       "<circle clip-path=\"url(#clip262)\" cx=\"740.655\" cy=\"998.564\" r=\"14.4\" fill=\"#009af9\" fill-rule=\"evenodd\" fill-opacity=\"1\" stroke=\"#000000\" stroke-opacity=\"1\" stroke-width=\"3.2\"/>\n",
       "<circle clip-path=\"url(#clip262)\" cx=\"747.844\" cy=\"996.471\" r=\"14.4\" fill=\"#009af9\" fill-rule=\"evenodd\" fill-opacity=\"1\" stroke=\"#000000\" stroke-opacity=\"1\" stroke-width=\"3.2\"/>\n",
       "<circle clip-path=\"url(#clip262)\" cx=\"755.032\" cy=\"996.471\" r=\"14.4\" fill=\"#009af9\" fill-rule=\"evenodd\" fill-opacity=\"1\" stroke=\"#000000\" stroke-opacity=\"1\" stroke-width=\"3.2\"/>\n",
       "<circle clip-path=\"url(#clip262)\" cx=\"762.221\" cy=\"991.946\" r=\"14.4\" fill=\"#009af9\" fill-rule=\"evenodd\" fill-opacity=\"1\" stroke=\"#000000\" stroke-opacity=\"1\" stroke-width=\"3.2\"/>\n",
       "<circle clip-path=\"url(#clip262)\" cx=\"769.41\" cy=\"984.438\" r=\"14.4\" fill=\"#009af9\" fill-rule=\"evenodd\" fill-opacity=\"1\" stroke=\"#000000\" stroke-opacity=\"1\" stroke-width=\"3.2\"/>\n",
       "<circle clip-path=\"url(#clip262)\" cx=\"776.599\" cy=\"983.723\" r=\"14.4\" fill=\"#009af9\" fill-rule=\"evenodd\" fill-opacity=\"1\" stroke=\"#000000\" stroke-opacity=\"1\" stroke-width=\"3.2\"/>\n",
       "<circle clip-path=\"url(#clip262)\" cx=\"783.788\" cy=\"983.723\" r=\"14.4\" fill=\"#009af9\" fill-rule=\"evenodd\" fill-opacity=\"1\" stroke=\"#000000\" stroke-opacity=\"1\" stroke-width=\"3.2\"/>\n",
       "<circle clip-path=\"url(#clip262)\" cx=\"790.977\" cy=\"975.92\" r=\"14.4\" fill=\"#009af9\" fill-rule=\"evenodd\" fill-opacity=\"1\" stroke=\"#000000\" stroke-opacity=\"1\" stroke-width=\"3.2\"/>\n",
       "<circle clip-path=\"url(#clip262)\" cx=\"798.166\" cy=\"973.245\" r=\"14.4\" fill=\"#009af9\" fill-rule=\"evenodd\" fill-opacity=\"1\" stroke=\"#000000\" stroke-opacity=\"1\" stroke-width=\"3.2\"/>\n",
       "<circle clip-path=\"url(#clip262)\" cx=\"805.354\" cy=\"959.492\" r=\"14.4\" fill=\"#009af9\" fill-rule=\"evenodd\" fill-opacity=\"1\" stroke=\"#000000\" stroke-opacity=\"1\" stroke-width=\"3.2\"/>\n",
       "<circle clip-path=\"url(#clip262)\" cx=\"812.543\" cy=\"959.13\" r=\"14.4\" fill=\"#009af9\" fill-rule=\"evenodd\" fill-opacity=\"1\" stroke=\"#000000\" stroke-opacity=\"1\" stroke-width=\"3.2\"/>\n",
       "<circle clip-path=\"url(#clip262)\" cx=\"819.732\" cy=\"956.246\" r=\"14.4\" fill=\"#009af9\" fill-rule=\"evenodd\" fill-opacity=\"1\" stroke=\"#000000\" stroke-opacity=\"1\" stroke-width=\"3.2\"/>\n",
       "<circle clip-path=\"url(#clip262)\" cx=\"826.921\" cy=\"954.232\" r=\"14.4\" fill=\"#009af9\" fill-rule=\"evenodd\" fill-opacity=\"1\" stroke=\"#000000\" stroke-opacity=\"1\" stroke-width=\"3.2\"/>\n",
       "<circle clip-path=\"url(#clip262)\" cx=\"834.11\" cy=\"953.306\" r=\"14.4\" fill=\"#009af9\" fill-rule=\"evenodd\" fill-opacity=\"1\" stroke=\"#000000\" stroke-opacity=\"1\" stroke-width=\"3.2\"/>\n",
       "<circle clip-path=\"url(#clip262)\" cx=\"841.299\" cy=\"953.306\" r=\"14.4\" fill=\"#009af9\" fill-rule=\"evenodd\" fill-opacity=\"1\" stroke=\"#000000\" stroke-opacity=\"1\" stroke-width=\"3.2\"/>\n",
       "<circle clip-path=\"url(#clip262)\" cx=\"848.488\" cy=\"953.072\" r=\"14.4\" fill=\"#009af9\" fill-rule=\"evenodd\" fill-opacity=\"1\" stroke=\"#000000\" stroke-opacity=\"1\" stroke-width=\"3.2\"/>\n",
       "<circle clip-path=\"url(#clip262)\" cx=\"855.676\" cy=\"950.618\" r=\"14.4\" fill=\"#009af9\" fill-rule=\"evenodd\" fill-opacity=\"1\" stroke=\"#000000\" stroke-opacity=\"1\" stroke-width=\"3.2\"/>\n",
       "<circle clip-path=\"url(#clip262)\" cx=\"862.865\" cy=\"950.618\" r=\"14.4\" fill=\"#009af9\" fill-rule=\"evenodd\" fill-opacity=\"1\" stroke=\"#000000\" stroke-opacity=\"1\" stroke-width=\"3.2\"/>\n",
       "<circle clip-path=\"url(#clip262)\" cx=\"870.054\" cy=\"950.403\" r=\"14.4\" fill=\"#009af9\" fill-rule=\"evenodd\" fill-opacity=\"1\" stroke=\"#000000\" stroke-opacity=\"1\" stroke-width=\"3.2\"/>\n",
       "<circle clip-path=\"url(#clip262)\" cx=\"877.243\" cy=\"950.403\" r=\"14.4\" fill=\"#009af9\" fill-rule=\"evenodd\" fill-opacity=\"1\" stroke=\"#000000\" stroke-opacity=\"1\" stroke-width=\"3.2\"/>\n",
       "<circle clip-path=\"url(#clip262)\" cx=\"884.432\" cy=\"947.764\" r=\"14.4\" fill=\"#009af9\" fill-rule=\"evenodd\" fill-opacity=\"1\" stroke=\"#000000\" stroke-opacity=\"1\" stroke-width=\"3.2\"/>\n",
       "<circle clip-path=\"url(#clip262)\" cx=\"891.621\" cy=\"939.759\" r=\"14.4\" fill=\"#009af9\" fill-rule=\"evenodd\" fill-opacity=\"1\" stroke=\"#000000\" stroke-opacity=\"1\" stroke-width=\"3.2\"/>\n",
       "<circle clip-path=\"url(#clip262)\" cx=\"898.81\" cy=\"929.261\" r=\"14.4\" fill=\"#009af9\" fill-rule=\"evenodd\" fill-opacity=\"1\" stroke=\"#000000\" stroke-opacity=\"1\" stroke-width=\"3.2\"/>\n",
       "<circle clip-path=\"url(#clip262)\" cx=\"905.998\" cy=\"927.415\" r=\"14.4\" fill=\"#009af9\" fill-rule=\"evenodd\" fill-opacity=\"1\" stroke=\"#000000\" stroke-opacity=\"1\" stroke-width=\"3.2\"/>\n",
       "<circle clip-path=\"url(#clip262)\" cx=\"913.187\" cy=\"927.415\" r=\"14.4\" fill=\"#009af9\" fill-rule=\"evenodd\" fill-opacity=\"1\" stroke=\"#000000\" stroke-opacity=\"1\" stroke-width=\"3.2\"/>\n",
       "<circle clip-path=\"url(#clip262)\" cx=\"920.376\" cy=\"925.256\" r=\"14.4\" fill=\"#009af9\" fill-rule=\"evenodd\" fill-opacity=\"1\" stroke=\"#000000\" stroke-opacity=\"1\" stroke-width=\"3.2\"/>\n",
       "<circle clip-path=\"url(#clip262)\" cx=\"927.565\" cy=\"924.809\" r=\"14.4\" fill=\"#009af9\" fill-rule=\"evenodd\" fill-opacity=\"1\" stroke=\"#000000\" stroke-opacity=\"1\" stroke-width=\"3.2\"/>\n",
       "<circle clip-path=\"url(#clip262)\" cx=\"934.754\" cy=\"921.362\" r=\"14.4\" fill=\"#009af9\" fill-rule=\"evenodd\" fill-opacity=\"1\" stroke=\"#000000\" stroke-opacity=\"1\" stroke-width=\"3.2\"/>\n",
       "<circle clip-path=\"url(#clip262)\" cx=\"941.943\" cy=\"918.653\" r=\"14.4\" fill=\"#009af9\" fill-rule=\"evenodd\" fill-opacity=\"1\" stroke=\"#000000\" stroke-opacity=\"1\" stroke-width=\"3.2\"/>\n",
       "<circle clip-path=\"url(#clip262)\" cx=\"949.132\" cy=\"918.653\" r=\"14.4\" fill=\"#009af9\" fill-rule=\"evenodd\" fill-opacity=\"1\" stroke=\"#000000\" stroke-opacity=\"1\" stroke-width=\"3.2\"/>\n",
       "<circle clip-path=\"url(#clip262)\" cx=\"956.32\" cy=\"907.376\" r=\"14.4\" fill=\"#009af9\" fill-rule=\"evenodd\" fill-opacity=\"1\" stroke=\"#000000\" stroke-opacity=\"1\" stroke-width=\"3.2\"/>\n",
       "<circle clip-path=\"url(#clip262)\" cx=\"963.509\" cy=\"906.978\" r=\"14.4\" fill=\"#009af9\" fill-rule=\"evenodd\" fill-opacity=\"1\" stroke=\"#000000\" stroke-opacity=\"1\" stroke-width=\"3.2\"/>\n",
       "<circle clip-path=\"url(#clip262)\" cx=\"970.698\" cy=\"902.7\" r=\"14.4\" fill=\"#009af9\" fill-rule=\"evenodd\" fill-opacity=\"1\" stroke=\"#000000\" stroke-opacity=\"1\" stroke-width=\"3.2\"/>\n",
       "<circle clip-path=\"url(#clip262)\" cx=\"977.887\" cy=\"902.7\" r=\"14.4\" fill=\"#009af9\" fill-rule=\"evenodd\" fill-opacity=\"1\" stroke=\"#000000\" stroke-opacity=\"1\" stroke-width=\"3.2\"/>\n",
       "<circle clip-path=\"url(#clip262)\" cx=\"985.076\" cy=\"899.749\" r=\"14.4\" fill=\"#009af9\" fill-rule=\"evenodd\" fill-opacity=\"1\" stroke=\"#000000\" stroke-opacity=\"1\" stroke-width=\"3.2\"/>\n",
       "<circle clip-path=\"url(#clip262)\" cx=\"992.265\" cy=\"897.963\" r=\"14.4\" fill=\"#009af9\" fill-rule=\"evenodd\" fill-opacity=\"1\" stroke=\"#000000\" stroke-opacity=\"1\" stroke-width=\"3.2\"/>\n",
       "<circle clip-path=\"url(#clip262)\" cx=\"999.454\" cy=\"895.53\" r=\"14.4\" fill=\"#009af9\" fill-rule=\"evenodd\" fill-opacity=\"1\" stroke=\"#000000\" stroke-opacity=\"1\" stroke-width=\"3.2\"/>\n",
       "<circle clip-path=\"url(#clip262)\" cx=\"1006.64\" cy=\"895.53\" r=\"14.4\" fill=\"#009af9\" fill-rule=\"evenodd\" fill-opacity=\"1\" stroke=\"#000000\" stroke-opacity=\"1\" stroke-width=\"3.2\"/>\n",
       "<circle clip-path=\"url(#clip262)\" cx=\"1013.83\" cy=\"893.224\" r=\"14.4\" fill=\"#009af9\" fill-rule=\"evenodd\" fill-opacity=\"1\" stroke=\"#000000\" stroke-opacity=\"1\" stroke-width=\"3.2\"/>\n",
       "<circle clip-path=\"url(#clip262)\" cx=\"1021.02\" cy=\"889.634\" r=\"14.4\" fill=\"#009af9\" fill-rule=\"evenodd\" fill-opacity=\"1\" stroke=\"#000000\" stroke-opacity=\"1\" stroke-width=\"3.2\"/>\n",
       "<circle clip-path=\"url(#clip262)\" cx=\"1028.21\" cy=\"883.484\" r=\"14.4\" fill=\"#009af9\" fill-rule=\"evenodd\" fill-opacity=\"1\" stroke=\"#000000\" stroke-opacity=\"1\" stroke-width=\"3.2\"/>\n",
       "<circle clip-path=\"url(#clip262)\" cx=\"1035.4\" cy=\"878.636\" r=\"14.4\" fill=\"#009af9\" fill-rule=\"evenodd\" fill-opacity=\"1\" stroke=\"#000000\" stroke-opacity=\"1\" stroke-width=\"3.2\"/>\n",
       "<circle clip-path=\"url(#clip262)\" cx=\"1042.59\" cy=\"878.636\" r=\"14.4\" fill=\"#009af9\" fill-rule=\"evenodd\" fill-opacity=\"1\" stroke=\"#000000\" stroke-opacity=\"1\" stroke-width=\"3.2\"/>\n",
       "<circle clip-path=\"url(#clip262)\" cx=\"1049.78\" cy=\"873.985\" r=\"14.4\" fill=\"#009af9\" fill-rule=\"evenodd\" fill-opacity=\"1\" stroke=\"#000000\" stroke-opacity=\"1\" stroke-width=\"3.2\"/>\n",
       "<circle clip-path=\"url(#clip262)\" cx=\"1056.96\" cy=\"871.326\" r=\"14.4\" fill=\"#009af9\" fill-rule=\"evenodd\" fill-opacity=\"1\" stroke=\"#000000\" stroke-opacity=\"1\" stroke-width=\"3.2\"/>\n",
       "<circle clip-path=\"url(#clip262)\" cx=\"1064.15\" cy=\"871.326\" r=\"14.4\" fill=\"#009af9\" fill-rule=\"evenodd\" fill-opacity=\"1\" stroke=\"#000000\" stroke-opacity=\"1\" stroke-width=\"3.2\"/>\n",
       "<circle clip-path=\"url(#clip262)\" cx=\"1071.34\" cy=\"861.405\" r=\"14.4\" fill=\"#009af9\" fill-rule=\"evenodd\" fill-opacity=\"1\" stroke=\"#000000\" stroke-opacity=\"1\" stroke-width=\"3.2\"/>\n",
       "<circle clip-path=\"url(#clip262)\" cx=\"1078.53\" cy=\"858.803\" r=\"14.4\" fill=\"#009af9\" fill-rule=\"evenodd\" fill-opacity=\"1\" stroke=\"#000000\" stroke-opacity=\"1\" stroke-width=\"3.2\"/>\n",
       "<circle clip-path=\"url(#clip262)\" cx=\"1085.72\" cy=\"852.67\" r=\"14.4\" fill=\"#009af9\" fill-rule=\"evenodd\" fill-opacity=\"1\" stroke=\"#000000\" stroke-opacity=\"1\" stroke-width=\"3.2\"/>\n",
       "<circle clip-path=\"url(#clip262)\" cx=\"1092.91\" cy=\"844.988\" r=\"14.4\" fill=\"#009af9\" fill-rule=\"evenodd\" fill-opacity=\"1\" stroke=\"#000000\" stroke-opacity=\"1\" stroke-width=\"3.2\"/>\n",
       "<circle clip-path=\"url(#clip262)\" cx=\"1100.1\" cy=\"844.988\" r=\"14.4\" fill=\"#009af9\" fill-rule=\"evenodd\" fill-opacity=\"1\" stroke=\"#000000\" stroke-opacity=\"1\" stroke-width=\"3.2\"/>\n",
       "<circle clip-path=\"url(#clip262)\" cx=\"1107.29\" cy=\"839.79\" r=\"14.4\" fill=\"#009af9\" fill-rule=\"evenodd\" fill-opacity=\"1\" stroke=\"#000000\" stroke-opacity=\"1\" stroke-width=\"3.2\"/>\n",
       "<circle clip-path=\"url(#clip262)\" cx=\"1114.48\" cy=\"827.094\" r=\"14.4\" fill=\"#009af9\" fill-rule=\"evenodd\" fill-opacity=\"1\" stroke=\"#000000\" stroke-opacity=\"1\" stroke-width=\"3.2\"/>\n",
       "<circle clip-path=\"url(#clip262)\" cx=\"1121.66\" cy=\"827.094\" r=\"14.4\" fill=\"#009af9\" fill-rule=\"evenodd\" fill-opacity=\"1\" stroke=\"#000000\" stroke-opacity=\"1\" stroke-width=\"3.2\"/>\n",
       "<circle clip-path=\"url(#clip262)\" cx=\"1128.85\" cy=\"827.092\" r=\"14.4\" fill=\"#009af9\" fill-rule=\"evenodd\" fill-opacity=\"1\" stroke=\"#000000\" stroke-opacity=\"1\" stroke-width=\"3.2\"/>\n",
       "<circle clip-path=\"url(#clip262)\" cx=\"1136.04\" cy=\"822.092\" r=\"14.4\" fill=\"#009af9\" fill-rule=\"evenodd\" fill-opacity=\"1\" stroke=\"#000000\" stroke-opacity=\"1\" stroke-width=\"3.2\"/>\n",
       "<circle clip-path=\"url(#clip262)\" cx=\"1143.23\" cy=\"813.716\" r=\"14.4\" fill=\"#009af9\" fill-rule=\"evenodd\" fill-opacity=\"1\" stroke=\"#000000\" stroke-opacity=\"1\" stroke-width=\"3.2\"/>\n",
       "<circle clip-path=\"url(#clip262)\" cx=\"1150.42\" cy=\"813.716\" r=\"14.4\" fill=\"#009af9\" fill-rule=\"evenodd\" fill-opacity=\"1\" stroke=\"#000000\" stroke-opacity=\"1\" stroke-width=\"3.2\"/>\n",
       "<circle clip-path=\"url(#clip262)\" cx=\"1157.61\" cy=\"805.884\" r=\"14.4\" fill=\"#009af9\" fill-rule=\"evenodd\" fill-opacity=\"1\" stroke=\"#000000\" stroke-opacity=\"1\" stroke-width=\"3.2\"/>\n",
       "<circle clip-path=\"url(#clip262)\" cx=\"1164.8\" cy=\"805.884\" r=\"14.4\" fill=\"#009af9\" fill-rule=\"evenodd\" fill-opacity=\"1\" stroke=\"#000000\" stroke-opacity=\"1\" stroke-width=\"3.2\"/>\n",
       "<circle clip-path=\"url(#clip262)\" cx=\"1171.99\" cy=\"781.673\" r=\"14.4\" fill=\"#009af9\" fill-rule=\"evenodd\" fill-opacity=\"1\" stroke=\"#000000\" stroke-opacity=\"1\" stroke-width=\"3.2\"/>\n",
       "<circle clip-path=\"url(#clip262)\" cx=\"1179.17\" cy=\"781.673\" r=\"14.4\" fill=\"#009af9\" fill-rule=\"evenodd\" fill-opacity=\"1\" stroke=\"#000000\" stroke-opacity=\"1\" stroke-width=\"3.2\"/>\n",
       "<circle clip-path=\"url(#clip262)\" cx=\"1186.36\" cy=\"773.326\" r=\"14.4\" fill=\"#009af9\" fill-rule=\"evenodd\" fill-opacity=\"1\" stroke=\"#000000\" stroke-opacity=\"1\" stroke-width=\"3.2\"/>\n",
       "<circle clip-path=\"url(#clip262)\" cx=\"1193.55\" cy=\"773.326\" r=\"14.4\" fill=\"#009af9\" fill-rule=\"evenodd\" fill-opacity=\"1\" stroke=\"#000000\" stroke-opacity=\"1\" stroke-width=\"3.2\"/>\n",
       "<circle clip-path=\"url(#clip262)\" cx=\"1200.74\" cy=\"773.326\" r=\"14.4\" fill=\"#009af9\" fill-rule=\"evenodd\" fill-opacity=\"1\" stroke=\"#000000\" stroke-opacity=\"1\" stroke-width=\"3.2\"/>\n",
       "<circle clip-path=\"url(#clip262)\" cx=\"1207.93\" cy=\"773.326\" r=\"14.4\" fill=\"#009af9\" fill-rule=\"evenodd\" fill-opacity=\"1\" stroke=\"#000000\" stroke-opacity=\"1\" stroke-width=\"3.2\"/>\n",
       "<circle clip-path=\"url(#clip262)\" cx=\"1215.12\" cy=\"773.326\" r=\"14.4\" fill=\"#009af9\" fill-rule=\"evenodd\" fill-opacity=\"1\" stroke=\"#000000\" stroke-opacity=\"1\" stroke-width=\"3.2\"/>\n",
       "<circle clip-path=\"url(#clip262)\" cx=\"1222.31\" cy=\"773.326\" r=\"14.4\" fill=\"#009af9\" fill-rule=\"evenodd\" fill-opacity=\"1\" stroke=\"#000000\" stroke-opacity=\"1\" stroke-width=\"3.2\"/>\n",
       "<circle clip-path=\"url(#clip262)\" cx=\"1229.5\" cy=\"773.326\" r=\"14.4\" fill=\"#009af9\" fill-rule=\"evenodd\" fill-opacity=\"1\" stroke=\"#000000\" stroke-opacity=\"1\" stroke-width=\"3.2\"/>\n",
       "<circle clip-path=\"url(#clip262)\" cx=\"1236.69\" cy=\"773.326\" r=\"14.4\" fill=\"#009af9\" fill-rule=\"evenodd\" fill-opacity=\"1\" stroke=\"#000000\" stroke-opacity=\"1\" stroke-width=\"3.2\"/>\n",
       "<circle clip-path=\"url(#clip262)\" cx=\"1243.87\" cy=\"773.326\" r=\"14.4\" fill=\"#009af9\" fill-rule=\"evenodd\" fill-opacity=\"1\" stroke=\"#000000\" stroke-opacity=\"1\" stroke-width=\"3.2\"/>\n",
       "<circle clip-path=\"url(#clip262)\" cx=\"1251.06\" cy=\"773.326\" r=\"14.4\" fill=\"#009af9\" fill-rule=\"evenodd\" fill-opacity=\"1\" stroke=\"#000000\" stroke-opacity=\"1\" stroke-width=\"3.2\"/>\n",
       "<circle clip-path=\"url(#clip262)\" cx=\"1258.25\" cy=\"773.326\" r=\"14.4\" fill=\"#009af9\" fill-rule=\"evenodd\" fill-opacity=\"1\" stroke=\"#000000\" stroke-opacity=\"1\" stroke-width=\"3.2\"/>\n",
       "<circle clip-path=\"url(#clip262)\" cx=\"1265.44\" cy=\"773.326\" r=\"14.4\" fill=\"#009af9\" fill-rule=\"evenodd\" fill-opacity=\"1\" stroke=\"#000000\" stroke-opacity=\"1\" stroke-width=\"3.2\"/>\n",
       "<circle clip-path=\"url(#clip262)\" cx=\"1272.63\" cy=\"773.326\" r=\"14.4\" fill=\"#009af9\" fill-rule=\"evenodd\" fill-opacity=\"1\" stroke=\"#000000\" stroke-opacity=\"1\" stroke-width=\"3.2\"/>\n",
       "<circle clip-path=\"url(#clip262)\" cx=\"1279.82\" cy=\"773.326\" r=\"14.4\" fill=\"#009af9\" fill-rule=\"evenodd\" fill-opacity=\"1\" stroke=\"#000000\" stroke-opacity=\"1\" stroke-width=\"3.2\"/>\n",
       "<circle clip-path=\"url(#clip262)\" cx=\"1287.01\" cy=\"773.326\" r=\"14.4\" fill=\"#009af9\" fill-rule=\"evenodd\" fill-opacity=\"1\" stroke=\"#000000\" stroke-opacity=\"1\" stroke-width=\"3.2\"/>\n",
       "<circle clip-path=\"url(#clip262)\" cx=\"1294.2\" cy=\"773.326\" r=\"14.4\" fill=\"#009af9\" fill-rule=\"evenodd\" fill-opacity=\"1\" stroke=\"#000000\" stroke-opacity=\"1\" stroke-width=\"3.2\"/>\n",
       "<circle clip-path=\"url(#clip262)\" cx=\"1301.39\" cy=\"773.326\" r=\"14.4\" fill=\"#009af9\" fill-rule=\"evenodd\" fill-opacity=\"1\" stroke=\"#000000\" stroke-opacity=\"1\" stroke-width=\"3.2\"/>\n",
       "<circle clip-path=\"url(#clip262)\" cx=\"1308.57\" cy=\"773.326\" r=\"14.4\" fill=\"#009af9\" fill-rule=\"evenodd\" fill-opacity=\"1\" stroke=\"#000000\" stroke-opacity=\"1\" stroke-width=\"3.2\"/>\n",
       "<circle clip-path=\"url(#clip262)\" cx=\"1315.76\" cy=\"773.326\" r=\"14.4\" fill=\"#009af9\" fill-rule=\"evenodd\" fill-opacity=\"1\" stroke=\"#000000\" stroke-opacity=\"1\" stroke-width=\"3.2\"/>\n",
       "<circle clip-path=\"url(#clip262)\" cx=\"1322.95\" cy=\"773.326\" r=\"14.4\" fill=\"#009af9\" fill-rule=\"evenodd\" fill-opacity=\"1\" stroke=\"#000000\" stroke-opacity=\"1\" stroke-width=\"3.2\"/>\n",
       "<circle clip-path=\"url(#clip262)\" cx=\"1330.14\" cy=\"773.326\" r=\"14.4\" fill=\"#009af9\" fill-rule=\"evenodd\" fill-opacity=\"1\" stroke=\"#000000\" stroke-opacity=\"1\" stroke-width=\"3.2\"/>\n",
       "<circle clip-path=\"url(#clip262)\" cx=\"1337.33\" cy=\"773.326\" r=\"14.4\" fill=\"#009af9\" fill-rule=\"evenodd\" fill-opacity=\"1\" stroke=\"#000000\" stroke-opacity=\"1\" stroke-width=\"3.2\"/>\n",
       "<circle clip-path=\"url(#clip262)\" cx=\"1344.52\" cy=\"773.326\" r=\"14.4\" fill=\"#009af9\" fill-rule=\"evenodd\" fill-opacity=\"1\" stroke=\"#000000\" stroke-opacity=\"1\" stroke-width=\"3.2\"/>\n",
       "<circle clip-path=\"url(#clip262)\" cx=\"1351.71\" cy=\"773.326\" r=\"14.4\" fill=\"#009af9\" fill-rule=\"evenodd\" fill-opacity=\"1\" stroke=\"#000000\" stroke-opacity=\"1\" stroke-width=\"3.2\"/>\n",
       "<circle clip-path=\"url(#clip262)\" cx=\"1358.9\" cy=\"773.326\" r=\"14.4\" fill=\"#009af9\" fill-rule=\"evenodd\" fill-opacity=\"1\" stroke=\"#000000\" stroke-opacity=\"1\" stroke-width=\"3.2\"/>\n",
       "<circle clip-path=\"url(#clip262)\" cx=\"1366.09\" cy=\"773.326\" r=\"14.4\" fill=\"#009af9\" fill-rule=\"evenodd\" fill-opacity=\"1\" stroke=\"#000000\" stroke-opacity=\"1\" stroke-width=\"3.2\"/>\n",
       "<circle clip-path=\"url(#clip262)\" cx=\"1373.27\" cy=\"773.326\" r=\"14.4\" fill=\"#009af9\" fill-rule=\"evenodd\" fill-opacity=\"1\" stroke=\"#000000\" stroke-opacity=\"1\" stroke-width=\"3.2\"/>\n",
       "<circle clip-path=\"url(#clip262)\" cx=\"1380.46\" cy=\"773.326\" r=\"14.4\" fill=\"#009af9\" fill-rule=\"evenodd\" fill-opacity=\"1\" stroke=\"#000000\" stroke-opacity=\"1\" stroke-width=\"3.2\"/>\n",
       "<circle clip-path=\"url(#clip262)\" cx=\"1387.65\" cy=\"773.326\" r=\"14.4\" fill=\"#009af9\" fill-rule=\"evenodd\" fill-opacity=\"1\" stroke=\"#000000\" stroke-opacity=\"1\" stroke-width=\"3.2\"/>\n",
       "<circle clip-path=\"url(#clip262)\" cx=\"1394.84\" cy=\"773.326\" r=\"14.4\" fill=\"#009af9\" fill-rule=\"evenodd\" fill-opacity=\"1\" stroke=\"#000000\" stroke-opacity=\"1\" stroke-width=\"3.2\"/>\n",
       "<circle clip-path=\"url(#clip262)\" cx=\"1402.03\" cy=\"773.326\" r=\"14.4\" fill=\"#009af9\" fill-rule=\"evenodd\" fill-opacity=\"1\" stroke=\"#000000\" stroke-opacity=\"1\" stroke-width=\"3.2\"/>\n",
       "<circle clip-path=\"url(#clip262)\" cx=\"1409.22\" cy=\"773.326\" r=\"14.4\" fill=\"#009af9\" fill-rule=\"evenodd\" fill-opacity=\"1\" stroke=\"#000000\" stroke-opacity=\"1\" stroke-width=\"3.2\"/>\n",
       "<circle clip-path=\"url(#clip262)\" cx=\"1416.41\" cy=\"773.326\" r=\"14.4\" fill=\"#009af9\" fill-rule=\"evenodd\" fill-opacity=\"1\" stroke=\"#000000\" stroke-opacity=\"1\" stroke-width=\"3.2\"/>\n",
       "<circle clip-path=\"url(#clip262)\" cx=\"1423.6\" cy=\"773.326\" r=\"14.4\" fill=\"#009af9\" fill-rule=\"evenodd\" fill-opacity=\"1\" stroke=\"#000000\" stroke-opacity=\"1\" stroke-width=\"3.2\"/>\n",
       "<circle clip-path=\"url(#clip262)\" cx=\"1430.78\" cy=\"764.979\" r=\"14.4\" fill=\"#009af9\" fill-rule=\"evenodd\" fill-opacity=\"1\" stroke=\"#000000\" stroke-opacity=\"1\" stroke-width=\"3.2\"/>\n",
       "<circle clip-path=\"url(#clip262)\" cx=\"1437.97\" cy=\"764.979\" r=\"14.4\" fill=\"#009af9\" fill-rule=\"evenodd\" fill-opacity=\"1\" stroke=\"#000000\" stroke-opacity=\"1\" stroke-width=\"3.2\"/>\n",
       "<circle clip-path=\"url(#clip262)\" cx=\"1445.16\" cy=\"740.768\" r=\"14.4\" fill=\"#009af9\" fill-rule=\"evenodd\" fill-opacity=\"1\" stroke=\"#000000\" stroke-opacity=\"1\" stroke-width=\"3.2\"/>\n",
       "<circle clip-path=\"url(#clip262)\" cx=\"1452.35\" cy=\"740.768\" r=\"14.4\" fill=\"#009af9\" fill-rule=\"evenodd\" fill-opacity=\"1\" stroke=\"#000000\" stroke-opacity=\"1\" stroke-width=\"3.2\"/>\n",
       "<circle clip-path=\"url(#clip262)\" cx=\"1459.54\" cy=\"732.936\" r=\"14.4\" fill=\"#009af9\" fill-rule=\"evenodd\" fill-opacity=\"1\" stroke=\"#000000\" stroke-opacity=\"1\" stroke-width=\"3.2\"/>\n",
       "<circle clip-path=\"url(#clip262)\" cx=\"1466.73\" cy=\"732.936\" r=\"14.4\" fill=\"#009af9\" fill-rule=\"evenodd\" fill-opacity=\"1\" stroke=\"#000000\" stroke-opacity=\"1\" stroke-width=\"3.2\"/>\n",
       "<circle clip-path=\"url(#clip262)\" cx=\"1473.92\" cy=\"724.56\" r=\"14.4\" fill=\"#009af9\" fill-rule=\"evenodd\" fill-opacity=\"1\" stroke=\"#000000\" stroke-opacity=\"1\" stroke-width=\"3.2\"/>\n",
       "<circle clip-path=\"url(#clip262)\" cx=\"1481.11\" cy=\"719.56\" r=\"14.4\" fill=\"#009af9\" fill-rule=\"evenodd\" fill-opacity=\"1\" stroke=\"#000000\" stroke-opacity=\"1\" stroke-width=\"3.2\"/>\n",
       "<circle clip-path=\"url(#clip262)\" cx=\"1488.3\" cy=\"719.558\" r=\"14.4\" fill=\"#009af9\" fill-rule=\"evenodd\" fill-opacity=\"1\" stroke=\"#000000\" stroke-opacity=\"1\" stroke-width=\"3.2\"/>\n",
       "<circle clip-path=\"url(#clip262)\" cx=\"1495.48\" cy=\"719.558\" r=\"14.4\" fill=\"#009af9\" fill-rule=\"evenodd\" fill-opacity=\"1\" stroke=\"#000000\" stroke-opacity=\"1\" stroke-width=\"3.2\"/>\n",
       "<circle clip-path=\"url(#clip262)\" cx=\"1502.67\" cy=\"706.862\" r=\"14.4\" fill=\"#009af9\" fill-rule=\"evenodd\" fill-opacity=\"1\" stroke=\"#000000\" stroke-opacity=\"1\" stroke-width=\"3.2\"/>\n",
       "<circle clip-path=\"url(#clip262)\" cx=\"1509.86\" cy=\"701.664\" r=\"14.4\" fill=\"#009af9\" fill-rule=\"evenodd\" fill-opacity=\"1\" stroke=\"#000000\" stroke-opacity=\"1\" stroke-width=\"3.2\"/>\n",
       "<circle clip-path=\"url(#clip262)\" cx=\"1517.05\" cy=\"701.664\" r=\"14.4\" fill=\"#009af9\" fill-rule=\"evenodd\" fill-opacity=\"1\" stroke=\"#000000\" stroke-opacity=\"1\" stroke-width=\"3.2\"/>\n",
       "<circle clip-path=\"url(#clip262)\" cx=\"1524.24\" cy=\"693.982\" r=\"14.4\" fill=\"#009af9\" fill-rule=\"evenodd\" fill-opacity=\"1\" stroke=\"#000000\" stroke-opacity=\"1\" stroke-width=\"3.2\"/>\n",
       "<circle clip-path=\"url(#clip262)\" cx=\"1531.43\" cy=\"687.849\" r=\"14.4\" fill=\"#009af9\" fill-rule=\"evenodd\" fill-opacity=\"1\" stroke=\"#000000\" stroke-opacity=\"1\" stroke-width=\"3.2\"/>\n",
       "<circle clip-path=\"url(#clip262)\" cx=\"1538.62\" cy=\"685.247\" r=\"14.4\" fill=\"#009af9\" fill-rule=\"evenodd\" fill-opacity=\"1\" stroke=\"#000000\" stroke-opacity=\"1\" stroke-width=\"3.2\"/>\n",
       "<circle clip-path=\"url(#clip262)\" cx=\"1545.81\" cy=\"675.326\" r=\"14.4\" fill=\"#009af9\" fill-rule=\"evenodd\" fill-opacity=\"1\" stroke=\"#000000\" stroke-opacity=\"1\" stroke-width=\"3.2\"/>\n",
       "<circle clip-path=\"url(#clip262)\" cx=\"1553\" cy=\"675.326\" r=\"14.4\" fill=\"#009af9\" fill-rule=\"evenodd\" fill-opacity=\"1\" stroke=\"#000000\" stroke-opacity=\"1\" stroke-width=\"3.2\"/>\n",
       "<circle clip-path=\"url(#clip262)\" cx=\"1560.18\" cy=\"672.667\" r=\"14.4\" fill=\"#009af9\" fill-rule=\"evenodd\" fill-opacity=\"1\" stroke=\"#000000\" stroke-opacity=\"1\" stroke-width=\"3.2\"/>\n",
       "<circle clip-path=\"url(#clip262)\" cx=\"1567.37\" cy=\"668.016\" r=\"14.4\" fill=\"#009af9\" fill-rule=\"evenodd\" fill-opacity=\"1\" stroke=\"#000000\" stroke-opacity=\"1\" stroke-width=\"3.2\"/>\n",
       "<circle clip-path=\"url(#clip262)\" cx=\"1574.56\" cy=\"668.016\" r=\"14.4\" fill=\"#009af9\" fill-rule=\"evenodd\" fill-opacity=\"1\" stroke=\"#000000\" stroke-opacity=\"1\" stroke-width=\"3.2\"/>\n",
       "<circle clip-path=\"url(#clip262)\" cx=\"1581.75\" cy=\"663.168\" r=\"14.4\" fill=\"#009af9\" fill-rule=\"evenodd\" fill-opacity=\"1\" stroke=\"#000000\" stroke-opacity=\"1\" stroke-width=\"3.2\"/>\n",
       "<circle clip-path=\"url(#clip262)\" cx=\"1588.94\" cy=\"657.018\" r=\"14.4\" fill=\"#009af9\" fill-rule=\"evenodd\" fill-opacity=\"1\" stroke=\"#000000\" stroke-opacity=\"1\" stroke-width=\"3.2\"/>\n",
       "<circle clip-path=\"url(#clip262)\" cx=\"1596.13\" cy=\"653.428\" r=\"14.4\" fill=\"#009af9\" fill-rule=\"evenodd\" fill-opacity=\"1\" stroke=\"#000000\" stroke-opacity=\"1\" stroke-width=\"3.2\"/>\n",
       "<circle clip-path=\"url(#clip262)\" cx=\"1603.32\" cy=\"651.122\" r=\"14.4\" fill=\"#009af9\" fill-rule=\"evenodd\" fill-opacity=\"1\" stroke=\"#000000\" stroke-opacity=\"1\" stroke-width=\"3.2\"/>\n",
       "<circle clip-path=\"url(#clip262)\" cx=\"1610.51\" cy=\"651.122\" r=\"14.4\" fill=\"#009af9\" fill-rule=\"evenodd\" fill-opacity=\"1\" stroke=\"#000000\" stroke-opacity=\"1\" stroke-width=\"3.2\"/>\n",
       "<circle clip-path=\"url(#clip262)\" cx=\"1617.7\" cy=\"648.689\" r=\"14.4\" fill=\"#009af9\" fill-rule=\"evenodd\" fill-opacity=\"1\" stroke=\"#000000\" stroke-opacity=\"1\" stroke-width=\"3.2\"/>\n",
       "<circle clip-path=\"url(#clip262)\" cx=\"1624.88\" cy=\"646.903\" r=\"14.4\" fill=\"#009af9\" fill-rule=\"evenodd\" fill-opacity=\"1\" stroke=\"#000000\" stroke-opacity=\"1\" stroke-width=\"3.2\"/>\n",
       "<circle clip-path=\"url(#clip262)\" cx=\"1632.07\" cy=\"643.952\" r=\"14.4\" fill=\"#009af9\" fill-rule=\"evenodd\" fill-opacity=\"1\" stroke=\"#000000\" stroke-opacity=\"1\" stroke-width=\"3.2\"/>\n",
       "<circle clip-path=\"url(#clip262)\" cx=\"1639.26\" cy=\"643.952\" r=\"14.4\" fill=\"#009af9\" fill-rule=\"evenodd\" fill-opacity=\"1\" stroke=\"#000000\" stroke-opacity=\"1\" stroke-width=\"3.2\"/>\n",
       "<circle clip-path=\"url(#clip262)\" cx=\"1646.45\" cy=\"639.674\" r=\"14.4\" fill=\"#009af9\" fill-rule=\"evenodd\" fill-opacity=\"1\" stroke=\"#000000\" stroke-opacity=\"1\" stroke-width=\"3.2\"/>\n",
       "<circle clip-path=\"url(#clip262)\" cx=\"1653.64\" cy=\"639.276\" r=\"14.4\" fill=\"#009af9\" fill-rule=\"evenodd\" fill-opacity=\"1\" stroke=\"#000000\" stroke-opacity=\"1\" stroke-width=\"3.2\"/>\n",
       "<circle clip-path=\"url(#clip262)\" cx=\"1660.83\" cy=\"627.999\" r=\"14.4\" fill=\"#009af9\" fill-rule=\"evenodd\" fill-opacity=\"1\" stroke=\"#000000\" stroke-opacity=\"1\" stroke-width=\"3.2\"/>\n",
       "<circle clip-path=\"url(#clip262)\" cx=\"1668.02\" cy=\"627.999\" r=\"14.4\" fill=\"#009af9\" fill-rule=\"evenodd\" fill-opacity=\"1\" stroke=\"#000000\" stroke-opacity=\"1\" stroke-width=\"3.2\"/>\n",
       "<circle clip-path=\"url(#clip262)\" cx=\"1675.21\" cy=\"625.29\" r=\"14.4\" fill=\"#009af9\" fill-rule=\"evenodd\" fill-opacity=\"1\" stroke=\"#000000\" stroke-opacity=\"1\" stroke-width=\"3.2\"/>\n",
       "<circle clip-path=\"url(#clip262)\" cx=\"1682.39\" cy=\"621.843\" r=\"14.4\" fill=\"#009af9\" fill-rule=\"evenodd\" fill-opacity=\"1\" stroke=\"#000000\" stroke-opacity=\"1\" stroke-width=\"3.2\"/>\n",
       "<circle clip-path=\"url(#clip262)\" cx=\"1689.58\" cy=\"621.396\" r=\"14.4\" fill=\"#009af9\" fill-rule=\"evenodd\" fill-opacity=\"1\" stroke=\"#000000\" stroke-opacity=\"1\" stroke-width=\"3.2\"/>\n",
       "<circle clip-path=\"url(#clip262)\" cx=\"1696.77\" cy=\"619.237\" r=\"14.4\" fill=\"#009af9\" fill-rule=\"evenodd\" fill-opacity=\"1\" stroke=\"#000000\" stroke-opacity=\"1\" stroke-width=\"3.2\"/>\n",
       "<circle clip-path=\"url(#clip262)\" cx=\"1703.96\" cy=\"619.237\" r=\"14.4\" fill=\"#009af9\" fill-rule=\"evenodd\" fill-opacity=\"1\" stroke=\"#000000\" stroke-opacity=\"1\" stroke-width=\"3.2\"/>\n",
       "<circle clip-path=\"url(#clip262)\" cx=\"1711.15\" cy=\"617.391\" r=\"14.4\" fill=\"#009af9\" fill-rule=\"evenodd\" fill-opacity=\"1\" stroke=\"#000000\" stroke-opacity=\"1\" stroke-width=\"3.2\"/>\n",
       "<circle clip-path=\"url(#clip262)\" cx=\"1718.34\" cy=\"606.893\" r=\"14.4\" fill=\"#009af9\" fill-rule=\"evenodd\" fill-opacity=\"1\" stroke=\"#000000\" stroke-opacity=\"1\" stroke-width=\"3.2\"/>\n",
       "<circle clip-path=\"url(#clip262)\" cx=\"1725.53\" cy=\"598.888\" r=\"14.4\" fill=\"#009af9\" fill-rule=\"evenodd\" fill-opacity=\"1\" stroke=\"#000000\" stroke-opacity=\"1\" stroke-width=\"3.2\"/>\n",
       "<circle clip-path=\"url(#clip262)\" cx=\"1732.72\" cy=\"596.249\" r=\"14.4\" fill=\"#009af9\" fill-rule=\"evenodd\" fill-opacity=\"1\" stroke=\"#000000\" stroke-opacity=\"1\" stroke-width=\"3.2\"/>\n",
       "<circle clip-path=\"url(#clip262)\" cx=\"1739.91\" cy=\"596.249\" r=\"14.4\" fill=\"#009af9\" fill-rule=\"evenodd\" fill-opacity=\"1\" stroke=\"#000000\" stroke-opacity=\"1\" stroke-width=\"3.2\"/>\n",
       "<circle clip-path=\"url(#clip262)\" cx=\"1747.09\" cy=\"596.034\" r=\"14.4\" fill=\"#009af9\" fill-rule=\"evenodd\" fill-opacity=\"1\" stroke=\"#000000\" stroke-opacity=\"1\" stroke-width=\"3.2\"/>\n",
       "<circle clip-path=\"url(#clip262)\" cx=\"1754.28\" cy=\"596.034\" r=\"14.4\" fill=\"#009af9\" fill-rule=\"evenodd\" fill-opacity=\"1\" stroke=\"#000000\" stroke-opacity=\"1\" stroke-width=\"3.2\"/>\n",
       "<circle clip-path=\"url(#clip262)\" cx=\"1761.47\" cy=\"593.58\" r=\"14.4\" fill=\"#009af9\" fill-rule=\"evenodd\" fill-opacity=\"1\" stroke=\"#000000\" stroke-opacity=\"1\" stroke-width=\"3.2\"/>\n",
       "<circle clip-path=\"url(#clip262)\" cx=\"1768.66\" cy=\"593.346\" r=\"14.4\" fill=\"#009af9\" fill-rule=\"evenodd\" fill-opacity=\"1\" stroke=\"#000000\" stroke-opacity=\"1\" stroke-width=\"3.2\"/>\n",
       "<circle clip-path=\"url(#clip262)\" cx=\"1775.85\" cy=\"593.346\" r=\"14.4\" fill=\"#009af9\" fill-rule=\"evenodd\" fill-opacity=\"1\" stroke=\"#000000\" stroke-opacity=\"1\" stroke-width=\"3.2\"/>\n",
       "<circle clip-path=\"url(#clip262)\" cx=\"1783.04\" cy=\"592.42\" r=\"14.4\" fill=\"#009af9\" fill-rule=\"evenodd\" fill-opacity=\"1\" stroke=\"#000000\" stroke-opacity=\"1\" stroke-width=\"3.2\"/>\n",
       "<circle clip-path=\"url(#clip262)\" cx=\"1790.23\" cy=\"590.406\" r=\"14.4\" fill=\"#009af9\" fill-rule=\"evenodd\" fill-opacity=\"1\" stroke=\"#000000\" stroke-opacity=\"1\" stroke-width=\"3.2\"/>\n",
       "<circle clip-path=\"url(#clip262)\" cx=\"1797.42\" cy=\"587.522\" r=\"14.4\" fill=\"#009af9\" fill-rule=\"evenodd\" fill-opacity=\"1\" stroke=\"#000000\" stroke-opacity=\"1\" stroke-width=\"3.2\"/>\n",
       "<circle clip-path=\"url(#clip262)\" cx=\"1804.61\" cy=\"587.16\" r=\"14.4\" fill=\"#009af9\" fill-rule=\"evenodd\" fill-opacity=\"1\" stroke=\"#000000\" stroke-opacity=\"1\" stroke-width=\"3.2\"/>\n",
       "<circle clip-path=\"url(#clip262)\" cx=\"1811.79\" cy=\"573.407\" r=\"14.4\" fill=\"#009af9\" fill-rule=\"evenodd\" fill-opacity=\"1\" stroke=\"#000000\" stroke-opacity=\"1\" stroke-width=\"3.2\"/>\n",
       "<circle clip-path=\"url(#clip262)\" cx=\"1818.98\" cy=\"570.732\" r=\"14.4\" fill=\"#009af9\" fill-rule=\"evenodd\" fill-opacity=\"1\" stroke=\"#000000\" stroke-opacity=\"1\" stroke-width=\"3.2\"/>\n",
       "<circle clip-path=\"url(#clip262)\" cx=\"1826.17\" cy=\"562.929\" r=\"14.4\" fill=\"#009af9\" fill-rule=\"evenodd\" fill-opacity=\"1\" stroke=\"#000000\" stroke-opacity=\"1\" stroke-width=\"3.2\"/>\n",
       "<circle clip-path=\"url(#clip262)\" cx=\"1833.36\" cy=\"562.929\" r=\"14.4\" fill=\"#009af9\" fill-rule=\"evenodd\" fill-opacity=\"1\" stroke=\"#000000\" stroke-opacity=\"1\" stroke-width=\"3.2\"/>\n",
       "<circle clip-path=\"url(#clip262)\" cx=\"1840.55\" cy=\"562.214\" r=\"14.4\" fill=\"#009af9\" fill-rule=\"evenodd\" fill-opacity=\"1\" stroke=\"#000000\" stroke-opacity=\"1\" stroke-width=\"3.2\"/>\n",
       "<circle clip-path=\"url(#clip262)\" cx=\"1847.74\" cy=\"554.706\" r=\"14.4\" fill=\"#009af9\" fill-rule=\"evenodd\" fill-opacity=\"1\" stroke=\"#000000\" stroke-opacity=\"1\" stroke-width=\"3.2\"/>\n",
       "<circle clip-path=\"url(#clip262)\" cx=\"1854.93\" cy=\"550.181\" r=\"14.4\" fill=\"#009af9\" fill-rule=\"evenodd\" fill-opacity=\"1\" stroke=\"#000000\" stroke-opacity=\"1\" stroke-width=\"3.2\"/>\n",
       "<circle clip-path=\"url(#clip262)\" cx=\"1862.12\" cy=\"550.181\" r=\"14.4\" fill=\"#009af9\" fill-rule=\"evenodd\" fill-opacity=\"1\" stroke=\"#000000\" stroke-opacity=\"1\" stroke-width=\"3.2\"/>\n",
       "<circle clip-path=\"url(#clip262)\" cx=\"1869.31\" cy=\"548.088\" r=\"14.4\" fill=\"#009af9\" fill-rule=\"evenodd\" fill-opacity=\"1\" stroke=\"#000000\" stroke-opacity=\"1\" stroke-width=\"3.2\"/>\n",
       "<circle clip-path=\"url(#clip262)\" cx=\"1876.49\" cy=\"548.088\" r=\"14.4\" fill=\"#009af9\" fill-rule=\"evenodd\" fill-opacity=\"1\" stroke=\"#000000\" stroke-opacity=\"1\" stroke-width=\"3.2\"/>\n",
       "<circle clip-path=\"url(#clip262)\" cx=\"1883.68\" cy=\"545.068\" r=\"14.4\" fill=\"#009af9\" fill-rule=\"evenodd\" fill-opacity=\"1\" stroke=\"#000000\" stroke-opacity=\"1\" stroke-width=\"3.2\"/>\n",
       "<circle clip-path=\"url(#clip262)\" cx=\"1890.87\" cy=\"535.72\" r=\"14.4\" fill=\"#009af9\" fill-rule=\"evenodd\" fill-opacity=\"1\" stroke=\"#000000\" stroke-opacity=\"1\" stroke-width=\"3.2\"/>\n",
       "<circle clip-path=\"url(#clip262)\" cx=\"1898.06\" cy=\"533.351\" r=\"14.4\" fill=\"#009af9\" fill-rule=\"evenodd\" fill-opacity=\"1\" stroke=\"#000000\" stroke-opacity=\"1\" stroke-width=\"3.2\"/>\n",
       "<circle clip-path=\"url(#clip262)\" cx=\"1905.25\" cy=\"525.284\" r=\"14.4\" fill=\"#009af9\" fill-rule=\"evenodd\" fill-opacity=\"1\" stroke=\"#000000\" stroke-opacity=\"1\" stroke-width=\"3.2\"/>\n",
       "<circle clip-path=\"url(#clip262)\" cx=\"1912.44\" cy=\"524.803\" r=\"14.4\" fill=\"#009af9\" fill-rule=\"evenodd\" fill-opacity=\"1\" stroke=\"#000000\" stroke-opacity=\"1\" stroke-width=\"3.2\"/>\n",
       "<circle clip-path=\"url(#clip262)\" cx=\"1919.63\" cy=\"522.939\" r=\"14.4\" fill=\"#009af9\" fill-rule=\"evenodd\" fill-opacity=\"1\" stroke=\"#000000\" stroke-opacity=\"1\" stroke-width=\"3.2\"/>\n",
       "<circle clip-path=\"url(#clip262)\" cx=\"1926.82\" cy=\"522.939\" r=\"14.4\" fill=\"#009af9\" fill-rule=\"evenodd\" fill-opacity=\"1\" stroke=\"#000000\" stroke-opacity=\"1\" stroke-width=\"3.2\"/>\n",
       "<circle clip-path=\"url(#clip262)\" cx=\"1934\" cy=\"517.07\" r=\"14.4\" fill=\"#009af9\" fill-rule=\"evenodd\" fill-opacity=\"1\" stroke=\"#000000\" stroke-opacity=\"1\" stroke-width=\"3.2\"/>\n",
       "<circle clip-path=\"url(#clip262)\" cx=\"1941.19\" cy=\"516.012\" r=\"14.4\" fill=\"#009af9\" fill-rule=\"evenodd\" fill-opacity=\"1\" stroke=\"#000000\" stroke-opacity=\"1\" stroke-width=\"3.2\"/>\n",
       "<circle clip-path=\"url(#clip262)\" cx=\"1948.38\" cy=\"516.012\" r=\"14.4\" fill=\"#009af9\" fill-rule=\"evenodd\" fill-opacity=\"1\" stroke=\"#000000\" stroke-opacity=\"1\" stroke-width=\"3.2\"/>\n",
       "<circle clip-path=\"url(#clip262)\" cx=\"1955.57\" cy=\"503.819\" r=\"14.4\" fill=\"#009af9\" fill-rule=\"evenodd\" fill-opacity=\"1\" stroke=\"#000000\" stroke-opacity=\"1\" stroke-width=\"3.2\"/>\n",
       "<circle clip-path=\"url(#clip262)\" cx=\"1962.76\" cy=\"503.819\" r=\"14.4\" fill=\"#009af9\" fill-rule=\"evenodd\" fill-opacity=\"1\" stroke=\"#000000\" stroke-opacity=\"1\" stroke-width=\"3.2\"/>\n",
       "<circle clip-path=\"url(#clip262)\" cx=\"1969.95\" cy=\"503.485\" r=\"14.4\" fill=\"#009af9\" fill-rule=\"evenodd\" fill-opacity=\"1\" stroke=\"#000000\" stroke-opacity=\"1\" stroke-width=\"3.2\"/>\n",
       "<circle clip-path=\"url(#clip262)\" cx=\"1977.14\" cy=\"493.844\" r=\"14.4\" fill=\"#009af9\" fill-rule=\"evenodd\" fill-opacity=\"1\" stroke=\"#000000\" stroke-opacity=\"1\" stroke-width=\"3.2\"/>\n",
       "<circle clip-path=\"url(#clip262)\" cx=\"1984.33\" cy=\"489.155\" r=\"14.4\" fill=\"#009af9\" fill-rule=\"evenodd\" fill-opacity=\"1\" stroke=\"#000000\" stroke-opacity=\"1\" stroke-width=\"3.2\"/>\n",
       "<circle clip-path=\"url(#clip262)\" cx=\"1991.52\" cy=\"486.419\" r=\"14.4\" fill=\"#009af9\" fill-rule=\"evenodd\" fill-opacity=\"1\" stroke=\"#000000\" stroke-opacity=\"1\" stroke-width=\"3.2\"/>\n",
       "<circle clip-path=\"url(#clip262)\" cx=\"1998.7\" cy=\"469.072\" r=\"14.4\" fill=\"#009af9\" fill-rule=\"evenodd\" fill-opacity=\"1\" stroke=\"#000000\" stroke-opacity=\"1\" stroke-width=\"3.2\"/>\n",
       "<circle clip-path=\"url(#clip262)\" cx=\"2005.89\" cy=\"469.072\" r=\"14.4\" fill=\"#009af9\" fill-rule=\"evenodd\" fill-opacity=\"1\" stroke=\"#000000\" stroke-opacity=\"1\" stroke-width=\"3.2\"/>\n",
       "<circle clip-path=\"url(#clip262)\" cx=\"2013.08\" cy=\"462.535\" r=\"14.4\" fill=\"#009af9\" fill-rule=\"evenodd\" fill-opacity=\"1\" stroke=\"#000000\" stroke-opacity=\"1\" stroke-width=\"3.2\"/>\n",
       "<circle clip-path=\"url(#clip262)\" cx=\"2020.27\" cy=\"462.088\" r=\"14.4\" fill=\"#009af9\" fill-rule=\"evenodd\" fill-opacity=\"1\" stroke=\"#000000\" stroke-opacity=\"1\" stroke-width=\"3.2\"/>\n",
       "<circle clip-path=\"url(#clip262)\" cx=\"2027.46\" cy=\"462.088\" r=\"14.4\" fill=\"#009af9\" fill-rule=\"evenodd\" fill-opacity=\"1\" stroke=\"#000000\" stroke-opacity=\"1\" stroke-width=\"3.2\"/>\n",
       "<circle clip-path=\"url(#clip262)\" cx=\"2034.65\" cy=\"448.978\" r=\"14.4\" fill=\"#009af9\" fill-rule=\"evenodd\" fill-opacity=\"1\" stroke=\"#000000\" stroke-opacity=\"1\" stroke-width=\"3.2\"/>\n",
       "<circle clip-path=\"url(#clip262)\" cx=\"2041.84\" cy=\"444.754\" r=\"14.4\" fill=\"#009af9\" fill-rule=\"evenodd\" fill-opacity=\"1\" stroke=\"#000000\" stroke-opacity=\"1\" stroke-width=\"3.2\"/>\n",
       "<circle clip-path=\"url(#clip262)\" cx=\"2049.03\" cy=\"439.428\" r=\"14.4\" fill=\"#009af9\" fill-rule=\"evenodd\" fill-opacity=\"1\" stroke=\"#000000\" stroke-opacity=\"1\" stroke-width=\"3.2\"/>\n",
       "<circle clip-path=\"url(#clip262)\" cx=\"2056.22\" cy=\"439.428\" r=\"14.4\" fill=\"#009af9\" fill-rule=\"evenodd\" fill-opacity=\"1\" stroke=\"#000000\" stroke-opacity=\"1\" stroke-width=\"3.2\"/>\n",
       "<circle clip-path=\"url(#clip262)\" cx=\"2063.4\" cy=\"438.034\" r=\"14.4\" fill=\"#009af9\" fill-rule=\"evenodd\" fill-opacity=\"1\" stroke=\"#000000\" stroke-opacity=\"1\" stroke-width=\"3.2\"/>\n",
       "<circle clip-path=\"url(#clip262)\" cx=\"2070.59\" cy=\"437.598\" r=\"14.4\" fill=\"#009af9\" fill-rule=\"evenodd\" fill-opacity=\"1\" stroke=\"#000000\" stroke-opacity=\"1\" stroke-width=\"3.2\"/>\n",
       "<circle clip-path=\"url(#clip262)\" cx=\"2077.78\" cy=\"434.951\" r=\"14.4\" fill=\"#009af9\" fill-rule=\"evenodd\" fill-opacity=\"1\" stroke=\"#000000\" stroke-opacity=\"1\" stroke-width=\"3.2\"/>\n",
       "<circle clip-path=\"url(#clip262)\" cx=\"2084.97\" cy=\"432.666\" r=\"14.4\" fill=\"#009af9\" fill-rule=\"evenodd\" fill-opacity=\"1\" stroke=\"#000000\" stroke-opacity=\"1\" stroke-width=\"3.2\"/>\n",
       "<circle clip-path=\"url(#clip262)\" cx=\"2092.16\" cy=\"422.386\" r=\"14.4\" fill=\"#009af9\" fill-rule=\"evenodd\" fill-opacity=\"1\" stroke=\"#000000\" stroke-opacity=\"1\" stroke-width=\"3.2\"/>\n",
       "<circle clip-path=\"url(#clip262)\" cx=\"2099.35\" cy=\"422.386\" r=\"14.4\" fill=\"#009af9\" fill-rule=\"evenodd\" fill-opacity=\"1\" stroke=\"#000000\" stroke-opacity=\"1\" stroke-width=\"3.2\"/>\n",
       "<circle clip-path=\"url(#clip262)\" cx=\"2106.54\" cy=\"421.245\" r=\"14.4\" fill=\"#009af9\" fill-rule=\"evenodd\" fill-opacity=\"1\" stroke=\"#000000\" stroke-opacity=\"1\" stroke-width=\"3.2\"/>\n",
       "<circle clip-path=\"url(#clip262)\" cx=\"2113.73\" cy=\"388.7\" r=\"14.4\" fill=\"#009af9\" fill-rule=\"evenodd\" fill-opacity=\"1\" stroke=\"#000000\" stroke-opacity=\"1\" stroke-width=\"3.2\"/>\n",
       "<circle clip-path=\"url(#clip262)\" cx=\"2120.92\" cy=\"388.7\" r=\"14.4\" fill=\"#009af9\" fill-rule=\"evenodd\" fill-opacity=\"1\" stroke=\"#000000\" stroke-opacity=\"1\" stroke-width=\"3.2\"/>\n",
       "<circle clip-path=\"url(#clip262)\" cx=\"2128.1\" cy=\"370.698\" r=\"14.4\" fill=\"#009af9\" fill-rule=\"evenodd\" fill-opacity=\"1\" stroke=\"#000000\" stroke-opacity=\"1\" stroke-width=\"3.2\"/>\n",
       "<circle clip-path=\"url(#clip262)\" cx=\"2135.29\" cy=\"370.698\" r=\"14.4\" fill=\"#009af9\" fill-rule=\"evenodd\" fill-opacity=\"1\" stroke=\"#000000\" stroke-opacity=\"1\" stroke-width=\"3.2\"/>\n",
       "<circle clip-path=\"url(#clip262)\" cx=\"2142.48\" cy=\"369.464\" r=\"14.4\" fill=\"#009af9\" fill-rule=\"evenodd\" fill-opacity=\"1\" stroke=\"#000000\" stroke-opacity=\"1\" stroke-width=\"3.2\"/>\n",
       "<circle clip-path=\"url(#clip262)\" cx=\"2149.67\" cy=\"368.835\" r=\"14.4\" fill=\"#009af9\" fill-rule=\"evenodd\" fill-opacity=\"1\" stroke=\"#000000\" stroke-opacity=\"1\" stroke-width=\"3.2\"/>\n",
       "<circle clip-path=\"url(#clip262)\" cx=\"2156.86\" cy=\"355.19\" r=\"14.4\" fill=\"#009af9\" fill-rule=\"evenodd\" fill-opacity=\"1\" stroke=\"#000000\" stroke-opacity=\"1\" stroke-width=\"3.2\"/>\n",
       "<circle clip-path=\"url(#clip262)\" cx=\"2164.05\" cy=\"352.298\" r=\"14.4\" fill=\"#009af9\" fill-rule=\"evenodd\" fill-opacity=\"1\" stroke=\"#000000\" stroke-opacity=\"1\" stroke-width=\"3.2\"/>\n",
       "<circle clip-path=\"url(#clip262)\" cx=\"2171.24\" cy=\"344.231\" r=\"14.4\" fill=\"#009af9\" fill-rule=\"evenodd\" fill-opacity=\"1\" stroke=\"#000000\" stroke-opacity=\"1\" stroke-width=\"3.2\"/>\n",
       "<circle clip-path=\"url(#clip262)\" cx=\"2178.43\" cy=\"338.163\" r=\"14.4\" fill=\"#009af9\" fill-rule=\"evenodd\" fill-opacity=\"1\" stroke=\"#000000\" stroke-opacity=\"1\" stroke-width=\"3.2\"/>\n",
       "<circle clip-path=\"url(#clip262)\" cx=\"2185.61\" cy=\"338.163\" r=\"14.4\" fill=\"#009af9\" fill-rule=\"evenodd\" fill-opacity=\"1\" stroke=\"#000000\" stroke-opacity=\"1\" stroke-width=\"3.2\"/>\n",
       "<circle clip-path=\"url(#clip262)\" cx=\"2192.8\" cy=\"333.526\" r=\"14.4\" fill=\"#009af9\" fill-rule=\"evenodd\" fill-opacity=\"1\" stroke=\"#000000\" stroke-opacity=\"1\" stroke-width=\"3.2\"/>\n",
       "<circle clip-path=\"url(#clip262)\" cx=\"2199.99\" cy=\"333.526\" r=\"14.4\" fill=\"#009af9\" fill-rule=\"evenodd\" fill-opacity=\"1\" stroke=\"#000000\" stroke-opacity=\"1\" stroke-width=\"3.2\"/>\n",
       "<circle clip-path=\"url(#clip262)\" cx=\"2207.18\" cy=\"333.383\" r=\"14.4\" fill=\"#009af9\" fill-rule=\"evenodd\" fill-opacity=\"1\" stroke=\"#000000\" stroke-opacity=\"1\" stroke-width=\"3.2\"/>\n",
       "<circle clip-path=\"url(#clip262)\" cx=\"2214.37\" cy=\"326.357\" r=\"14.4\" fill=\"#009af9\" fill-rule=\"evenodd\" fill-opacity=\"1\" stroke=\"#000000\" stroke-opacity=\"1\" stroke-width=\"3.2\"/>\n",
       "<circle clip-path=\"url(#clip262)\" cx=\"2221.56\" cy=\"317.644\" r=\"14.4\" fill=\"#009af9\" fill-rule=\"evenodd\" fill-opacity=\"1\" stroke=\"#000000\" stroke-opacity=\"1\" stroke-width=\"3.2\"/>\n",
       "<circle clip-path=\"url(#clip262)\" cx=\"2228.75\" cy=\"222.06\" r=\"14.4\" fill=\"#009af9\" fill-rule=\"evenodd\" fill-opacity=\"1\" stroke=\"#000000\" stroke-opacity=\"1\" stroke-width=\"3.2\"/>\n",
       "<circle clip-path=\"url(#clip262)\" cx=\"2235.94\" cy=\"218.308\" r=\"14.4\" fill=\"#009af9\" fill-rule=\"evenodd\" fill-opacity=\"1\" stroke=\"#000000\" stroke-opacity=\"1\" stroke-width=\"3.2\"/>\n",
       "<circle clip-path=\"url(#clip262)\" cx=\"2243.13\" cy=\"213.065\" r=\"14.4\" fill=\"#009af9\" fill-rule=\"evenodd\" fill-opacity=\"1\" stroke=\"#000000\" stroke-opacity=\"1\" stroke-width=\"3.2\"/>\n",
       "<circle clip-path=\"url(#clip262)\" cx=\"2250.31\" cy=\"210.254\" r=\"14.4\" fill=\"#009af9\" fill-rule=\"evenodd\" fill-opacity=\"1\" stroke=\"#000000\" stroke-opacity=\"1\" stroke-width=\"3.2\"/>\n",
       "<circle clip-path=\"url(#clip262)\" cx=\"2257.5\" cy=\"188.692\" r=\"14.4\" fill=\"#009af9\" fill-rule=\"evenodd\" fill-opacity=\"1\" stroke=\"#000000\" stroke-opacity=\"1\" stroke-width=\"3.2\"/>\n",
       "<circle clip-path=\"url(#clip262)\" cx=\"2264.69\" cy=\"188.692\" r=\"14.4\" fill=\"#009af9\" fill-rule=\"evenodd\" fill-opacity=\"1\" stroke=\"#000000\" stroke-opacity=\"1\" stroke-width=\"3.2\"/>\n",
       "<circle clip-path=\"url(#clip262)\" cx=\"2271.88\" cy=\"183.498\" r=\"14.4\" fill=\"#009af9\" fill-rule=\"evenodd\" fill-opacity=\"1\" stroke=\"#000000\" stroke-opacity=\"1\" stroke-width=\"3.2\"/>\n",
       "<circle clip-path=\"url(#clip262)\" cx=\"2279.07\" cy=\"183.498\" r=\"14.4\" fill=\"#009af9\" fill-rule=\"evenodd\" fill-opacity=\"1\" stroke=\"#000000\" stroke-opacity=\"1\" stroke-width=\"3.2\"/>\n",
       "<circle clip-path=\"url(#clip262)\" cx=\"2286.26\" cy=\"162.093\" r=\"14.4\" fill=\"#009af9\" fill-rule=\"evenodd\" fill-opacity=\"1\" stroke=\"#000000\" stroke-opacity=\"1\" stroke-width=\"3.2\"/>\n",
       "<circle clip-path=\"url(#clip262)\" cx=\"2293.45\" cy=\"160.256\" r=\"14.4\" fill=\"#009af9\" fill-rule=\"evenodd\" fill-opacity=\"1\" stroke=\"#000000\" stroke-opacity=\"1\" stroke-width=\"3.2\"/>\n",
       "</svg>\n"
      ]
     },
     "metadata": {},
     "output_type": "display_data"
    },
    {
     "name": "stdout",
     "output_type": "stream",
     "text": [
      "Chern Number is: 1.0000000000000002 + 2.070673620744488e-17im"
     ]
    }
   ],
   "source": [
    "Nx=4; Ny=6; N=Nx*Ny; q=Ny; PN=2; TSize=5\n",
    "PlotBands = true\n",
    "n1 = 1\n",
    "n2 = 2\n",
    "Chern(Nx::Int64, Ny::Int64, alpha, TSize::Int64, PN::Int64, PlotBands::Bool, n1::Int64, n2::Int64)"
   ]
  },
  {
   "cell_type": "markdown",
   "id": "a638856e-0f25-4a8e-96f6-f31637e49ee2",
   "metadata": {},
   "source": [
    "# Check with \"Hofstadter FBA Chern Numbers\" file"
   ]
  },
  {
   "cell_type": "code",
   "execution_count": 53,
   "id": "a017bbe4-692c-44d2-b972-63f53ceffd09",
   "metadata": {},
   "outputs": [
    {
     "name": "stdout",
     "output_type": "stream",
     "text": [
      "0.4737671077153785 + 0.8806501732509936im\n",
      "0.9533374936084829 - 0.3019066466315307im\n",
      "0.8823811102043503 - 0.4705354145593489im\n"
     ]
    },
    {
     "data": {
      "text/plain": [
       "0.305399602772122 + 0.9522242816829604im"
      ]
     },
     "execution_count": 53,
     "metadata": {},
     "output_type": "execute_result"
    }
   ],
   "source": [
    "pn = 1\n",
    "tx = ty = 1\n",
    "#---\n",
    "op = Op_Sp(Nx, Ny, 1/q, Tx[tx], Ty[ty])\n",
    "H_mb = get_mb_op(basis_mb, op)\n",
    "w1, v1 = eigen(dense(H_mb).data)\n",
    "i = sortperm(w1, by=real);w1 = w1[i];v1 = v1[:,i]\n",
    "#---\n",
    "op = Op_Sp(Nx, Ny, 1/q, Tx[tx]+dx, Ty[ty])\n",
    "H_mb = get_mb_op(basis_mb, op)\n",
    "w2, v2 = eigen(dense(H_mb).data)\n",
    "i = sortperm(w2, by=real);w2 = w2[i];v2 = v2[:,i]\n",
    "#---\n",
    "op = Op_Sp(Nx, Ny, 1/q, Tx[tx], Ty[ty]+dy)\n",
    "H_mb = get_mb_op(basis_mb, op)\n",
    "w3, v3 = eigen(dense(H_mb).data)\n",
    "i = sortperm(w3, by=real);w3 = w3[i];v3 = v3[:,i]\n",
    "#---\n",
    "op = Op_Sp(Nx, Ny, 1/q, Tx[tx]+dx, Ty[ty]+dy)\n",
    "H_mb = get_mb_op(basis_mb, op)\n",
    "w4, v4 = eigen(dense(H_mb).data)\n",
    "i = sortperm(w4, by=real);w4 = w4[i];v4 = v4[:,i]\n",
    "#---\n",
    "U1=det(adjoint(v1)*v2)\n",
    "U1=U1/abs(U1)\n",
    "println(U1)\n",
    "U2=det(adjoint(v2)*v4)\n",
    "U2=U2/abs(U2)\n",
    "println(U2)\n",
    "U3=det(adjoint(v3)*v4)\n",
    "U3=U3/abs(U3)\n",
    "println(U3)\n",
    "U4=det(adjoint(v1)*v3)\n",
    "U4=U4/abs(U4)"
   ]
  },
  {
   "cell_type": "code",
   "execution_count": 62,
   "id": "1d8892a7-46af-4f89-8636-bec42ef3e121",
   "metadata": {},
   "outputs": [
    {
     "data": {
      "text/plain": [
       "3.0000000000000004"
      ]
     },
     "execution_count": 62,
     "metadata": {},
     "output_type": "execute_result"
    }
   ],
   "source": [
    "norm(v1'*v3)"
   ]
  },
  {
   "cell_type": "code",
   "execution_count": 35,
   "id": "5616e7d4-7cc7-473b-9fc4-d941dab74baa",
   "metadata": {
    "tags": []
   },
   "outputs": [
    {
     "data": {
      "text/plain": [
       "0.0"
      ]
     },
     "execution_count": 35,
     "metadata": {},
     "output_type": "execute_result"
    }
   ],
   "source": [
    "Tx[1]"
   ]
  },
  {
   "cell_type": "code",
   "execution_count": 36,
   "id": "fe3b8214-4319-4987-accb-6b544bd1ef7f",
   "metadata": {
    "tags": []
   },
   "outputs": [
    {
     "data": {
      "text/plain": [
       "9-element Vector{Float64}:\n",
       " -2.2360679774997836\n",
       " -1.9318516525781346\n",
       " -1.732050807568874\n",
       " -0.5176380902050401\n",
       " -1.3322676295501878e-15\n",
       "  0.5176380902050417\n",
       "  1.7320508075688776\n",
       "  1.9318516525781368\n",
       "  2.2360679774997894"
      ]
     },
     "execution_count": 36,
     "metadata": {},
     "output_type": "execute_result"
    }
   ],
   "source": [
    "w1"
   ]
  },
  {
   "cell_type": "code",
   "execution_count": 37,
   "id": "ad60cf60-4ff0-44d4-86bf-b5899b71627d",
   "metadata": {
    "tags": []
   },
   "outputs": [
    {
     "data": {
      "text/plain": [
       "9-element Vector{Float64}:\n",
       " -2.2360679774997836\n",
       " -1.9318516525781346\n",
       " -1.732050807568874\n",
       " -0.5176380902050401\n",
       " -1.3322676295501878e-15\n",
       "  0.5176380902050417\n",
       "  1.7320508075688776\n",
       "  1.9318516525781368\n",
       "  2.2360679774997894"
      ]
     },
     "execution_count": 37,
     "metadata": {},
     "output_type": "execute_result"
    }
   ],
   "source": [
    "w2"
   ]
  },
  {
   "cell_type": "code",
   "execution_count": 38,
   "id": "50be0f08-fde4-4b11-925e-81e95997366d",
   "metadata": {},
   "outputs": [
    {
     "data": {
      "text/plain": [
       "9-element Vector{Float64}:\n",
       " -2.2360679774997836\n",
       " -1.9318516525781346\n",
       " -1.732050807568874\n",
       " -0.5176380902050401\n",
       " -1.3322676295501878e-15\n",
       "  0.5176380902050417\n",
       "  1.7320508075688776\n",
       "  1.9318516525781368\n",
       "  2.2360679774997894"
      ]
     },
     "execution_count": 38,
     "metadata": {},
     "output_type": "execute_result"
    }
   ],
   "source": [
    "w3"
   ]
  },
  {
   "cell_type": "code",
   "execution_count": 39,
   "id": "7f4be3e5-892f-41a0-8863-8c55e5f4e5cc",
   "metadata": {},
   "outputs": [
    {
     "data": {
      "text/plain": [
       "9-element Vector{Float64}:\n",
       " -2.2360679774997836\n",
       " -1.9318516525781346\n",
       " -1.732050807568874\n",
       " -0.5176380902050401\n",
       " -1.3322676295501878e-15\n",
       "  0.5176380902050417\n",
       "  1.7320508075688776\n",
       "  1.9318516525781368\n",
       "  2.2360679774997894"
      ]
     },
     "execution_count": 39,
     "metadata": {},
     "output_type": "execute_result"
    }
   ],
   "source": [
    "w4"
   ]
  },
  {
   "cell_type": "code",
   "execution_count": 19,
   "id": "b7f176cc-af0c-4034-828c-04d7c22b221b",
   "metadata": {
    "tags": []
   },
   "outputs": [
    {
     "data": {
      "text/plain": [
       "1.0000000000000009 + 1.7993071056029142e-17im"
      ]
     },
     "execution_count": 19,
     "metadata": {},
     "output_type": "execute_result"
    }
   ],
   "source": [
    "det(v1'*v2)"
   ]
  },
  {
   "cell_type": "code",
   "execution_count": 20,
   "id": "11ebabd7-39ed-426a-b67f-acdd0e0e4adb",
   "metadata": {},
   "outputs": [
    {
     "data": {
      "text/plain": [
       "9×9 Matrix{ComplexF64}:\n",
       " -0.0790569+0.136931im     …  -0.0790569+0.136931im\n",
       "  -0.353553+1.56959e-15im       0.353553-2.09569e-16im\n",
       " -0.0790569-0.136931im        -0.0790569-0.136931im\n",
       "   0.176777+0.306186im         -0.176777-0.306186im\n",
       "  -0.632456+2.22045e-16im      -0.632456+1.97758e-16im\n",
       "   0.176777-0.306186im     …   -0.176777+0.306186im\n",
       "   0.158114-1.96333e-16im       0.158114-5.6676e-16im\n",
       "  -0.353553+2.03414e-15im       0.353553-8.25448e-17im\n",
       "   0.158114-0.0im               0.158114+0.0im"
      ]
     },
     "execution_count": 20,
     "metadata": {},
     "output_type": "execute_result"
    }
   ],
   "source": [
    "v1"
   ]
  },
  {
   "cell_type": "code",
   "execution_count": 21,
   "id": "7512f4dd-9a2d-4a93-9173-02dd70a5a0f8",
   "metadata": {},
   "outputs": [
    {
     "data": {
      "text/plain": [
       "9×9 Matrix{ComplexF64}:\n",
       " -0.0790569+0.136931im     …  -0.0790569+0.136931im\n",
       "  -0.353553+1.56959e-15im       0.353553-2.09569e-16im\n",
       " -0.0790569-0.136931im        -0.0790569-0.136931im\n",
       "   0.176777+0.306186im         -0.176777-0.306186im\n",
       "  -0.632456+2.22045e-16im      -0.632456+1.97758e-16im\n",
       "   0.176777-0.306186im     …   -0.176777+0.306186im\n",
       "   0.158114-1.96333e-16im       0.158114-5.6676e-16im\n",
       "  -0.353553+2.03414e-15im       0.353553-8.25448e-17im\n",
       "   0.158114-0.0im               0.158114+0.0im"
      ]
     },
     "execution_count": 21,
     "metadata": {},
     "output_type": "execute_result"
    }
   ],
   "source": [
    "v2"
   ]
  },
  {
   "cell_type": "code",
   "execution_count": 22,
   "id": "1b15374c-df23-4c9a-b84c-2b86b8b99b41",
   "metadata": {},
   "outputs": [
    {
     "data": {
      "text/plain": [
       "9×9 Matrix{ComplexF64}:\n",
       "          1.0+8.66355e-20im  …  -3.05311e-16-5.51171e-19im\n",
       "   1.0925e-16-9.34373e-18im      9.02056e-17+1.38778e-17im\n",
       "  2.43598e-15-3.18562e-17im      8.67536e-17+5.55112e-17im\n",
       "  6.10919e-17-3.22896e-17im     -1.21431e-17+2.08167e-17im\n",
       "  1.83188e-16-1.63546e-17im      5.55112e-17+3.11357e-18im\n",
       " -3.81703e-17+4.93655e-17im  …   2.77556e-17-2.77556e-17im\n",
       "  -3.0556e-16-2.83197e-17im      8.20793e-17+5.55112e-17im\n",
       "  1.40783e-17+5.42248e-17im     -2.22045e-16-5.55112e-17im\n",
       " -3.05311e-16+5.51171e-19im              1.0+0.0im"
      ]
     },
     "execution_count": 22,
     "metadata": {},
     "output_type": "execute_result"
    }
   ],
   "source": [
    "v1'*v2"
   ]
  },
  {
   "cell_type": "code",
   "execution_count": null,
   "id": "2cd0fb8a-defa-427a-8960-caa2f5139bc3",
   "metadata": {},
   "outputs": [],
   "source": []
  }
 ],
 "metadata": {
  "kernelspec": {
   "display_name": "Julia 1.7.2",
   "language": "julia",
   "name": "julia-1.7"
  },
  "language_info": {
   "file_extension": ".jl",
   "mimetype": "application/julia",
   "name": "julia",
   "version": "1.7.2"
  }
 },
 "nbformat": 4,
 "nbformat_minor": 5
}
