{
 "cells": [
  {
   "cell_type": "markdown",
   "id": "4d4a16e2-199a-4284-b6cf-67e362830035",
   "metadata": {},
   "source": [
    "# NON-INTERACTING (HARD-CORE / U=0) CASE"
   ]
  },
  {
   "cell_type": "markdown",
   "id": "ebf138a2-39bb-495b-8859-4d1125f85231",
   "metadata": {},
   "source": [
    "Many-Body Chern Number without Integration\n",
    "\n",
    "Koji Kudo, Haruki Watanabe, Toshikaze Kariyado, and Yasuhiro Hatsugai\n",
    "\n",
    "Phys. Rev. Lett. 122, 146601 – Published 9 April 2019\n",
    "\n",
    "https://journals.aps.org/prl/abstract/10.1103/PhysRevLett.122.146601"
   ]
  },
  {
   "cell_type": "code",
   "execution_count": 1,
   "id": "551e4ff7",
   "metadata": {
    "tags": []
   },
   "outputs": [
    {
     "data": {
      "text/plain": [
       "HSP_T (generic function with 1 method)"
      ]
     },
     "execution_count": 1,
     "metadata": {},
     "output_type": "execute_result"
    }
   ],
   "source": [
    "using NBInclude\n",
    "@nbinclude(\"Hofstadter Single Particle in Theta Space.ipynb\")"
   ]
  },
  {
   "cell_type": "code",
   "execution_count": 2,
   "id": "44a15cd8-7a16-415e-8da9-8a6db7d909b3",
   "metadata": {
    "tags": []
   },
   "outputs": [],
   "source": [
    "using QuantumOptics"
   ]
  },
  {
   "cell_type": "markdown",
   "id": "2f5f1c69-9ba2-4662-acda-c627f7dfc991",
   "metadata": {},
   "source": [
    "## Initial Parameters"
   ]
  },
  {
   "cell_type": "code",
   "execution_count": 3,
   "id": "cb0bce07-7d7e-4e81-80a7-7d5614c14e6b",
   "metadata": {
    "tags": []
   },
   "outputs": [],
   "source": [
    "Nx=3; Ny=3; N=Nx*Ny; q=Ny; PN=1; T_size=5;"
   ]
  },
  {
   "cell_type": "markdown",
   "id": "4b6afe62-2fb0-45e3-9ca0-865be87f22bf",
   "metadata": {},
   "source": [
    "## Create Single-Particle Operator"
   ]
  },
  {
   "cell_type": "code",
   "execution_count": 4,
   "id": "af068119",
   "metadata": {
    "tags": []
   },
   "outputs": [
    {
     "data": {
      "text/plain": [
       "Op_Sp (generic function with 1 method)"
      ]
     },
     "execution_count": 4,
     "metadata": {},
     "output_type": "execute_result"
    }
   ],
   "source": [
    "function Op_Sp(Nx, Ny, alpha, Tx, Ty)\n",
    "        \n",
    "    H_T = HSP_T(Nx, Ny, alpha, Tx, Ty, 0)\n",
    "    \n",
    "    basis = NLevelBasis(N) \n",
    "    \n",
    "    H = SparseOperator(basis)\n",
    "    \n",
    "    for m in 1:N\n",
    "        for n in 1:N\n",
    "            H = H + H_T[m,n] * transition(basis, m, n)\n",
    "        end\n",
    "    end\n",
    "    \n",
    "    return H\n",
    "end"
   ]
  },
  {
   "cell_type": "code",
   "execution_count": 5,
   "id": "2567a5e2-4d54-41ae-950b-8fa96ee83ea5",
   "metadata": {},
   "outputs": [
    {
     "data": {
      "text/plain": [
       "9-element Vector{Float64}:\n",
       " -2.73205080756888\n",
       " -2.7320508075688767\n",
       " -2.7320508075688767\n",
       "  0.7320508075688769\n",
       "  0.7320508075688773\n",
       "  0.7320508075688781\n",
       "  1.9999999999999991\n",
       "  2.0\n",
       "  2.0000000000000004"
      ]
     },
     "execution_count": 5,
     "metadata": {},
     "output_type": "execute_result"
    }
   ],
   "source": [
    "# CHECK: Operator Form\n",
    "using LinearAlgebra\n",
    "Tx=Ty=0\n",
    "op = Op_Sp(Nx, Ny, 1/q, Tx, Ty)\n",
    "eigenenergies(dense(op)) == eigvals(HSP_T(Nx, Ny, 1/q, Tx, Ty, 0))\n",
    "eigenenergies(dense(op))"
   ]
  },
  {
   "cell_type": "markdown",
   "id": "5841609b-5be8-4f1f-8e7c-ac0969025bdf",
   "metadata": {},
   "source": [
    "## Create Many-Basis for Hard-Core Interaction"
   ]
  },
  {
   "cell_type": "code",
   "execution_count": 6,
   "id": "c4edf9d5-1b11-4fc7-b3e8-c44f148441a9",
   "metadata": {},
   "outputs": [
    {
     "data": {
      "text/plain": [
       "get_mb_op (generic function with 1 method)"
      ]
     },
     "execution_count": 6,
     "metadata": {},
     "output_type": "execute_result"
    }
   ],
   "source": [
    "basis = NLevelBasis(N)\n",
    "states = bosonstates(basis, PN)\n",
    "basis_mb = ManyBodyBasis(basis, states)\n",
    "\n",
    "function get_mb_op(basis_mb, op)\n",
    "    H_mb2 = SparseOperator(basis_mb) \n",
    "    for m in 1:N\n",
    "        for n in 1:N\n",
    "            H_mb2 += op.data[m,n] * transition(basis_mb, m, n)\n",
    "        end\n",
    "    end\n",
    "    \n",
    "    return H_mb2\n",
    "end"
   ]
  },
  {
   "cell_type": "code",
   "execution_count": 7,
   "id": "77d0924f-ce0f-4528-bdd9-49f804dbae33",
   "metadata": {
    "tags": []
   },
   "outputs": [
    {
     "ename": "LoadError",
     "evalue": "UndefVarError: H_mb not defined",
     "output_type": "error",
     "traceback": [
      "UndefVarError: H_mb not defined",
      "",
      "Stacktrace:",
      " [1] top-level scope",
      "   @ In[7]:3",
      " [2] eval",
      "   @ .\\boot.jl:373 [inlined]",
      " [3] include_string(mapexpr::typeof(REPL.softscope), mod::Module, code::String, filename::String)",
      "   @ Base .\\loading.jl:1196"
     ]
    }
   ],
   "source": [
    "# CHECK: MB Structure (PN=1)\n",
    "#eigenenergies(dense(H_mb)) == eigvals(HSP_T(Nx, Ny, 1/q, Tx, Ty, 0))\n",
    "eigenenergies(dense(H_mb))"
   ]
  },
  {
   "cell_type": "code",
   "execution_count": 8,
   "id": "b9119073-c425-4830-8a96-9940855e6341",
   "metadata": {},
   "outputs": [
    {
     "ename": "LoadError",
     "evalue": "UndefVarError: H_mb not defined",
     "output_type": "error",
     "traceback": [
      "UndefVarError: H_mb not defined",
      "",
      "Stacktrace:",
      " [1] top-level scope",
      "   @ In[8]:2",
      " [2] eval",
      "   @ .\\boot.jl:373 [inlined]",
      " [3] include_string(mapexpr::typeof(REPL.softscope), mod::Module, code::String, filename::String)",
      "   @ Base .\\loading.jl:1196"
     ]
    }
   ],
   "source": [
    "# Ortogonality Check !\n",
    "E, V = eigen(dense(H_mb).data)\n",
    "dot(V[:,1],V[:,2])"
   ]
  },
  {
   "cell_type": "markdown",
   "id": "e5b48d1a-fac0-48a4-8c87-8b3e96a3648c",
   "metadata": {},
   "source": [
    "## Crete Mesh of Twisted-Angle Space"
   ]
  },
  {
   "cell_type": "markdown",
   "id": "4525b8ef-b394-4d86-9c95-75cfa497790e",
   "metadata": {},
   "source": [
    "\\begin{equation}\n",
    "\\theta_\\mu = \\frac{2\\pi}{N_\\theta}n_\\mu\n",
    "\\end{equation}"
   ]
  },
  {
   "cell_type": "code",
   "execution_count": 9,
   "id": "a1a0b77b-1375-4b5b-8425-1d52712c807d",
   "metadata": {
    "tags": []
   },
   "outputs": [],
   "source": [
    "dx=2*pi/T_size\n",
    "dy=dx\n",
    "Tx=collect(range(start=0, stop=2*pi-dx, step=dx))\n",
    "Ty=collect(range(start=0, stop=2*pi-dy, step=dy));"
   ]
  },
  {
   "cell_type": "markdown",
   "id": "ff484e23-d75b-43b3-89fc-2929cf4add01",
   "metadata": {},
   "source": [
    "## Energies of Many-Body Hofstadter Model"
   ]
  },
  {
   "cell_type": "code",
   "execution_count": 10,
   "id": "af9e4ecd-03d5-46a1-a7c8-18f7fca16d2f",
   "metadata": {
    "tags": []
   },
   "outputs": [
    {
     "data": {
      "image/svg+xml": [
       "<?xml version=\"1.0\" encoding=\"utf-8\"?>\n",
       "<svg xmlns=\"http://www.w3.org/2000/svg\" xmlns:xlink=\"http://www.w3.org/1999/xlink\" width=\"600\" height=\"400\" viewBox=\"0 0 2400 1600\">\n",
       "<defs>\n",
       "  <clipPath id=\"clip340\">\n",
       "    <rect x=\"0\" y=\"0\" width=\"2400\" height=\"1600\"/>\n",
       "  </clipPath>\n",
       "</defs>\n",
       "<path clip-path=\"url(#clip340)\" d=\"\n",
       "M0 1600 L2400 1600 L2400 0 L0 0  Z\n",
       "  \" fill=\"#ffffff\" fill-rule=\"evenodd\" fill-opacity=\"1\"/>\n",
       "<defs>\n",
       "  <clipPath id=\"clip341\">\n",
       "    <rect x=\"480\" y=\"0\" width=\"1681\" height=\"1600\"/>\n",
       "  </clipPath>\n",
       "</defs>\n",
       "<path clip-path=\"url(#clip340)\" d=\"\n",
       "M149.191 1486.45 L2352.76 1486.45 L2352.76 47.2441 L149.191 47.2441  Z\n",
       "  \" fill=\"#ffffff\" fill-rule=\"evenodd\" fill-opacity=\"1\"/>\n",
       "<defs>\n",
       "  <clipPath id=\"clip342\">\n",
       "    <rect x=\"149\" y=\"47\" width=\"2205\" height=\"1440\"/>\n",
       "  </clipPath>\n",
       "</defs>\n",
       "<polyline clip-path=\"url(#clip342)\" style=\"stroke:#000000; stroke-linecap:round; stroke-linejoin:round; stroke-width:2; stroke-opacity:0.1; fill:none\" points=\"\n",
       "  184.558,1486.45 184.558,47.2441 \n",
       "  \"/>\n",
       "<polyline clip-path=\"url(#clip342)\" style=\"stroke:#000000; stroke-linecap:round; stroke-linejoin:round; stroke-width:2; stroke-opacity:0.1; fill:none\" points=\"\n",
       "  724.515,1486.45 724.515,47.2441 \n",
       "  \"/>\n",
       "<polyline clip-path=\"url(#clip342)\" style=\"stroke:#000000; stroke-linecap:round; stroke-linejoin:round; stroke-width:2; stroke-opacity:0.1; fill:none\" points=\"\n",
       "  1264.47,1486.45 1264.47,47.2441 \n",
       "  \"/>\n",
       "<polyline clip-path=\"url(#clip342)\" style=\"stroke:#000000; stroke-linecap:round; stroke-linejoin:round; stroke-width:2; stroke-opacity:0.1; fill:none\" points=\"\n",
       "  1804.43,1486.45 1804.43,47.2441 \n",
       "  \"/>\n",
       "<polyline clip-path=\"url(#clip342)\" style=\"stroke:#000000; stroke-linecap:round; stroke-linejoin:round; stroke-width:2; stroke-opacity:0.1; fill:none\" points=\"\n",
       "  2344.39,1486.45 2344.39,47.2441 \n",
       "  \"/>\n",
       "<polyline clip-path=\"url(#clip340)\" style=\"stroke:#000000; stroke-linecap:round; stroke-linejoin:round; stroke-width:4; stroke-opacity:1; fill:none\" points=\"\n",
       "  149.191,1486.45 2352.76,1486.45 \n",
       "  \"/>\n",
       "<polyline clip-path=\"url(#clip340)\" style=\"stroke:#000000; stroke-linecap:round; stroke-linejoin:round; stroke-width:4; stroke-opacity:1; fill:none\" points=\"\n",
       "  184.558,1486.45 184.558,1467.55 \n",
       "  \"/>\n",
       "<polyline clip-path=\"url(#clip340)\" style=\"stroke:#000000; stroke-linecap:round; stroke-linejoin:round; stroke-width:4; stroke-opacity:1; fill:none\" points=\"\n",
       "  724.515,1486.45 724.515,1467.55 \n",
       "  \"/>\n",
       "<polyline clip-path=\"url(#clip340)\" style=\"stroke:#000000; stroke-linecap:round; stroke-linejoin:round; stroke-width:4; stroke-opacity:1; fill:none\" points=\"\n",
       "  1264.47,1486.45 1264.47,1467.55 \n",
       "  \"/>\n",
       "<polyline clip-path=\"url(#clip340)\" style=\"stroke:#000000; stroke-linecap:round; stroke-linejoin:round; stroke-width:4; stroke-opacity:1; fill:none\" points=\"\n",
       "  1804.43,1486.45 1804.43,1467.55 \n",
       "  \"/>\n",
       "<polyline clip-path=\"url(#clip340)\" style=\"stroke:#000000; stroke-linecap:round; stroke-linejoin:round; stroke-width:4; stroke-opacity:1; fill:none\" points=\"\n",
       "  2344.39,1486.45 2344.39,1467.55 \n",
       "  \"/>\n",
       "<path clip-path=\"url(#clip340)\" d=\"M184.558 1517.37 Q180.947 1517.37 179.118 1520.93 Q177.313 1524.47 177.313 1531.6 Q177.313 1538.71 179.118 1542.27 Q180.947 1545.82 184.558 1545.82 Q188.192 1545.82 189.998 1542.27 Q191.827 1538.71 191.827 1531.6 Q191.827 1524.47 189.998 1520.93 Q188.192 1517.37 184.558 1517.37 M184.558 1513.66 Q190.368 1513.66 193.424 1518.27 Q196.502 1522.85 196.502 1531.6 Q196.502 1540.33 193.424 1544.94 Q190.368 1549.52 184.558 1549.52 Q178.748 1549.52 175.669 1544.94 Q172.614 1540.33 172.614 1531.6 Q172.614 1522.85 175.669 1518.27 Q178.748 1513.66 184.558 1513.66 Z\" fill=\"#000000\" fill-rule=\"evenodd\" fill-opacity=\"1\" /><path clip-path=\"url(#clip340)\" d=\"M703.288 1544.91 L719.608 1544.91 L719.608 1548.85 L697.663 1548.85 L697.663 1544.91 Q700.326 1542.16 704.909 1537.53 Q709.515 1532.88 710.696 1531.53 Q712.941 1529.01 713.821 1527.27 Q714.724 1525.51 714.724 1523.82 Q714.724 1521.07 712.779 1519.33 Q710.858 1517.6 707.756 1517.6 Q705.557 1517.6 703.103 1518.36 Q700.673 1519.13 697.895 1520.68 L697.895 1515.95 Q700.719 1514.82 703.173 1514.24 Q705.626 1513.66 707.663 1513.66 Q713.034 1513.66 716.228 1516.35 Q719.423 1519.03 719.423 1523.52 Q719.423 1525.65 718.612 1527.57 Q717.825 1529.47 715.719 1532.07 Q715.14 1532.74 712.038 1535.95 Q708.937 1539.15 703.288 1544.91 Z\" fill=\"#000000\" fill-rule=\"evenodd\" fill-opacity=\"1\" /><path clip-path=\"url(#clip340)\" d=\"M739.423 1517.37 Q735.811 1517.37 733.983 1520.93 Q732.177 1524.47 732.177 1531.6 Q732.177 1538.71 733.983 1542.27 Q735.811 1545.82 739.423 1545.82 Q743.057 1545.82 744.862 1542.27 Q746.691 1538.71 746.691 1531.6 Q746.691 1524.47 744.862 1520.93 Q743.057 1517.37 739.423 1517.37 M739.423 1513.66 Q745.233 1513.66 748.288 1518.27 Q751.367 1522.85 751.367 1531.6 Q751.367 1540.33 748.288 1544.94 Q745.233 1549.52 739.423 1549.52 Q733.612 1549.52 730.534 1544.94 Q727.478 1540.33 727.478 1531.6 Q727.478 1522.85 730.534 1518.27 Q733.612 1513.66 739.423 1513.66 Z\" fill=\"#000000\" fill-rule=\"evenodd\" fill-opacity=\"1\" /><path clip-path=\"url(#clip340)\" d=\"M1252.64 1518.36 L1240.84 1536.81 L1252.64 1536.81 L1252.64 1518.36 M1251.42 1514.29 L1257.3 1514.29 L1257.3 1536.81 L1262.23 1536.81 L1262.23 1540.7 L1257.3 1540.7 L1257.3 1548.85 L1252.64 1548.85 L1252.64 1540.7 L1237.04 1540.7 L1237.04 1536.19 L1251.42 1514.29 Z\" fill=\"#000000\" fill-rule=\"evenodd\" fill-opacity=\"1\" /><path clip-path=\"url(#clip340)\" d=\"M1279.96 1517.37 Q1276.35 1517.37 1274.52 1520.93 Q1272.71 1524.47 1272.71 1531.6 Q1272.71 1538.71 1274.52 1542.27 Q1276.35 1545.82 1279.96 1545.82 Q1283.59 1545.82 1285.4 1542.27 Q1287.23 1538.71 1287.23 1531.6 Q1287.23 1524.47 1285.4 1520.93 Q1283.59 1517.37 1279.96 1517.37 M1279.96 1513.66 Q1285.77 1513.66 1288.82 1518.27 Q1291.9 1522.85 1291.9 1531.6 Q1291.9 1540.33 1288.82 1544.94 Q1285.77 1549.52 1279.96 1549.52 Q1274.15 1549.52 1271.07 1544.94 Q1268.01 1540.33 1268.01 1531.6 Q1268.01 1522.85 1271.07 1518.27 Q1274.15 1513.66 1279.96 1513.66 Z\" fill=\"#000000\" fill-rule=\"evenodd\" fill-opacity=\"1\" /><path clip-path=\"url(#clip340)\" d=\"M1789.83 1529.7 Q1786.69 1529.7 1784.83 1531.86 Q1783.01 1534.01 1783.01 1537.76 Q1783.01 1541.49 1784.83 1543.66 Q1786.69 1545.82 1789.83 1545.82 Q1792.98 1545.82 1794.81 1543.66 Q1796.66 1541.49 1796.66 1537.76 Q1796.66 1534.01 1794.81 1531.86 Q1792.98 1529.7 1789.83 1529.7 M1799.12 1515.05 L1799.12 1519.31 Q1797.36 1518.48 1795.55 1518.04 Q1793.77 1517.6 1792.01 1517.6 Q1787.38 1517.6 1784.93 1520.72 Q1782.5 1523.85 1782.15 1530.17 Q1783.52 1528.15 1785.58 1527.09 Q1787.64 1526 1790.11 1526 Q1795.32 1526 1798.33 1529.17 Q1801.36 1532.32 1801.36 1537.76 Q1801.36 1543.08 1798.21 1546.3 Q1795.07 1549.52 1789.83 1549.52 Q1783.84 1549.52 1780.67 1544.94 Q1777.5 1540.33 1777.5 1531.6 Q1777.5 1523.41 1781.39 1518.55 Q1785.27 1513.66 1791.83 1513.66 Q1793.58 1513.66 1795.37 1514.01 Q1797.17 1514.36 1799.12 1515.05 Z\" fill=\"#000000\" fill-rule=\"evenodd\" fill-opacity=\"1\" /><path clip-path=\"url(#clip340)\" d=\"M1819.42 1517.37 Q1815.81 1517.37 1813.98 1520.93 Q1812.17 1524.47 1812.17 1531.6 Q1812.17 1538.71 1813.98 1542.27 Q1815.81 1545.82 1819.42 1545.82 Q1823.05 1545.82 1824.86 1542.27 Q1826.69 1538.71 1826.69 1531.6 Q1826.69 1524.47 1824.86 1520.93 Q1823.05 1517.37 1819.42 1517.37 M1819.42 1513.66 Q1825.23 1513.66 1828.28 1518.27 Q1831.36 1522.85 1831.36 1531.6 Q1831.36 1540.33 1828.28 1544.94 Q1825.23 1549.52 1819.42 1549.52 Q1813.61 1549.52 1810.53 1544.94 Q1807.47 1540.33 1807.47 1531.6 Q1807.47 1522.85 1810.53 1518.27 Q1813.61 1513.66 1819.42 1513.66 Z\" fill=\"#000000\" fill-rule=\"evenodd\" fill-opacity=\"1\" /><path clip-path=\"url(#clip340)\" d=\"M2329.26 1532.44 Q2325.93 1532.44 2324 1534.22 Q2322.11 1536 2322.11 1539.13 Q2322.11 1542.25 2324 1544.03 Q2325.93 1545.82 2329.26 1545.82 Q2332.59 1545.82 2334.51 1544.03 Q2336.44 1542.23 2336.44 1539.13 Q2336.44 1536 2334.51 1534.22 Q2332.62 1532.44 2329.26 1532.44 M2324.58 1530.45 Q2321.57 1529.7 2319.88 1527.64 Q2318.22 1525.58 2318.22 1522.62 Q2318.22 1518.48 2321.16 1516.07 Q2324.12 1513.66 2329.26 1513.66 Q2334.42 1513.66 2337.36 1516.07 Q2340.3 1518.48 2340.3 1522.62 Q2340.3 1525.58 2338.61 1527.64 Q2336.94 1529.7 2333.96 1530.45 Q2337.34 1531.23 2339.21 1533.52 Q2341.11 1535.82 2341.11 1539.13 Q2341.11 1544.15 2338.03 1546.83 Q2334.98 1549.52 2329.26 1549.52 Q2323.54 1549.52 2320.46 1546.83 Q2317.41 1544.15 2317.41 1539.13 Q2317.41 1535.82 2319.31 1533.52 Q2321.2 1531.23 2324.58 1530.45 M2322.87 1523.06 Q2322.87 1525.75 2324.54 1527.25 Q2326.23 1528.76 2329.26 1528.76 Q2332.27 1528.76 2333.96 1527.25 Q2335.67 1525.75 2335.67 1523.06 Q2335.67 1520.38 2333.96 1518.87 Q2332.27 1517.37 2329.26 1517.37 Q2326.23 1517.37 2324.54 1518.87 Q2322.87 1520.38 2322.87 1523.06 Z\" fill=\"#000000\" fill-rule=\"evenodd\" fill-opacity=\"1\" /><path clip-path=\"url(#clip340)\" d=\"M2359.42 1517.37 Q2355.81 1517.37 2353.98 1520.93 Q2352.18 1524.47 2352.18 1531.6 Q2352.18 1538.71 2353.98 1542.27 Q2355.81 1545.82 2359.42 1545.82 Q2363.06 1545.82 2364.86 1542.27 Q2366.69 1538.71 2366.69 1531.6 Q2366.69 1524.47 2364.86 1520.93 Q2363.06 1517.37 2359.42 1517.37 M2359.42 1513.66 Q2365.23 1513.66 2368.29 1518.27 Q2371.37 1522.85 2371.37 1531.6 Q2371.37 1540.33 2368.29 1544.94 Q2365.23 1549.52 2359.42 1549.52 Q2353.61 1549.52 2350.53 1544.94 Q2347.48 1540.33 2347.48 1531.6 Q2347.48 1522.85 2350.53 1518.27 Q2353.61 1513.66 2359.42 1513.66 Z\" fill=\"#000000\" fill-rule=\"evenodd\" fill-opacity=\"1\" /><polyline clip-path=\"url(#clip342)\" style=\"stroke:#000000; stroke-linecap:round; stroke-linejoin:round; stroke-width:2; stroke-opacity:0.1; fill:none\" points=\"\n",
       "  149.191,1285.46 2352.76,1285.46 \n",
       "  \"/>\n",
       "<polyline clip-path=\"url(#clip342)\" style=\"stroke:#000000; stroke-linecap:round; stroke-linejoin:round; stroke-width:2; stroke-opacity:0.1; fill:none\" points=\"\n",
       "  149.191,1026.15 2352.76,1026.15 \n",
       "  \"/>\n",
       "<polyline clip-path=\"url(#clip342)\" style=\"stroke:#000000; stroke-linecap:round; stroke-linejoin:round; stroke-width:2; stroke-opacity:0.1; fill:none\" points=\"\n",
       "  149.191,766.846 2352.76,766.846 \n",
       "  \"/>\n",
       "<polyline clip-path=\"url(#clip342)\" style=\"stroke:#000000; stroke-linecap:round; stroke-linejoin:round; stroke-width:2; stroke-opacity:0.1; fill:none\" points=\"\n",
       "  149.191,507.541 2352.76,507.541 \n",
       "  \"/>\n",
       "<polyline clip-path=\"url(#clip342)\" style=\"stroke:#000000; stroke-linecap:round; stroke-linejoin:round; stroke-width:2; stroke-opacity:0.1; fill:none\" points=\"\n",
       "  149.191,248.236 2352.76,248.236 \n",
       "  \"/>\n",
       "<polyline clip-path=\"url(#clip340)\" style=\"stroke:#000000; stroke-linecap:round; stroke-linejoin:round; stroke-width:4; stroke-opacity:1; fill:none\" points=\"\n",
       "  149.191,1486.45 149.191,47.2441 \n",
       "  \"/>\n",
       "<polyline clip-path=\"url(#clip340)\" style=\"stroke:#000000; stroke-linecap:round; stroke-linejoin:round; stroke-width:4; stroke-opacity:1; fill:none\" points=\"\n",
       "  149.191,1285.46 168.089,1285.46 \n",
       "  \"/>\n",
       "<polyline clip-path=\"url(#clip340)\" style=\"stroke:#000000; stroke-linecap:round; stroke-linejoin:round; stroke-width:4; stroke-opacity:1; fill:none\" points=\"\n",
       "  149.191,1026.15 168.089,1026.15 \n",
       "  \"/>\n",
       "<polyline clip-path=\"url(#clip340)\" style=\"stroke:#000000; stroke-linecap:round; stroke-linejoin:round; stroke-width:4; stroke-opacity:1; fill:none\" points=\"\n",
       "  149.191,766.846 168.089,766.846 \n",
       "  \"/>\n",
       "<polyline clip-path=\"url(#clip340)\" style=\"stroke:#000000; stroke-linecap:round; stroke-linejoin:round; stroke-width:4; stroke-opacity:1; fill:none\" points=\"\n",
       "  149.191,507.541 168.089,507.541 \n",
       "  \"/>\n",
       "<polyline clip-path=\"url(#clip340)\" style=\"stroke:#000000; stroke-linecap:round; stroke-linejoin:round; stroke-width:4; stroke-opacity:1; fill:none\" points=\"\n",
       "  149.191,248.236 168.089,248.236 \n",
       "  \"/>\n",
       "<path clip-path=\"url(#clip340)\" d=\"M50.9921 1285.91 L80.6679 1285.91 L80.6679 1289.84 L50.9921 1289.84 L50.9921 1285.91 Z\" fill=\"#000000\" fill-rule=\"evenodd\" fill-opacity=\"1\" /><path clip-path=\"url(#clip340)\" d=\"M103.608 1272.25 L91.8021 1290.7 L103.608 1290.7 L103.608 1272.25 M102.381 1268.18 L108.26 1268.18 L108.26 1290.7 L113.191 1290.7 L113.191 1294.59 L108.26 1294.59 L108.26 1302.74 L103.608 1302.74 L103.608 1294.59 L88.0058 1294.59 L88.0058 1290.07 L102.381 1268.18 Z\" fill=\"#000000\" fill-rule=\"evenodd\" fill-opacity=\"1\" /><path clip-path=\"url(#clip340)\" d=\"M53.0754 1026.6 L82.7512 1026.6 L82.7512 1030.54 L53.0754 1030.54 L53.0754 1026.6 Z\" fill=\"#000000\" fill-rule=\"evenodd\" fill-opacity=\"1\" /><path clip-path=\"url(#clip340)\" d=\"M96.8715 1039.5 L113.191 1039.5 L113.191 1043.43 L91.2465 1043.43 L91.2465 1039.5 Q93.9086 1036.74 98.4919 1032.11 Q103.098 1027.46 104.279 1026.12 Q106.524 1023.59 107.404 1021.86 Q108.307 1020.1 108.307 1018.41 Q108.307 1015.65 106.362 1013.92 Q104.441 1012.18 101.339 1012.18 Q99.14 1012.18 96.6863 1012.95 Q94.2558 1013.71 91.478 1015.26 L91.478 1010.54 Q94.3021 1009.4 96.7558 1008.82 Q99.2095 1008.25 101.246 1008.25 Q106.617 1008.25 109.811 1010.93 Q113.006 1013.62 113.006 1018.11 Q113.006 1020.24 112.196 1022.16 Q111.408 1024.06 109.302 1026.65 Q108.723 1027.32 105.621 1030.54 Q102.52 1033.73 96.8715 1039.5 Z\" fill=\"#000000\" fill-rule=\"evenodd\" fill-opacity=\"1\" /><path clip-path=\"url(#clip340)\" d=\"M101.246 752.645 Q97.6354 752.645 95.8067 756.209 Q94.0012 759.751 94.0012 766.881 Q94.0012 773.987 95.8067 777.552 Q97.6354 781.094 101.246 781.094 Q104.881 781.094 106.686 777.552 Q108.515 773.987 108.515 766.881 Q108.515 759.751 106.686 756.209 Q104.881 752.645 101.246 752.645 M101.246 748.941 Q107.057 748.941 110.112 753.547 Q113.191 758.131 113.191 766.881 Q113.191 775.608 110.112 780.214 Q107.057 784.797 101.246 784.797 Q95.4363 784.797 92.3576 780.214 Q89.3021 775.608 89.3021 766.881 Q89.3021 758.131 92.3576 753.547 Q95.4363 748.941 101.246 748.941 Z\" fill=\"#000000\" fill-rule=\"evenodd\" fill-opacity=\"1\" /><path clip-path=\"url(#clip340)\" d=\"M96.8715 520.886 L113.191 520.886 L113.191 524.821 L91.2465 524.821 L91.2465 520.886 Q93.9086 518.131 98.4919 513.501 Q103.098 508.849 104.279 507.506 Q106.524 504.983 107.404 503.247 Q108.307 501.488 108.307 499.798 Q108.307 497.043 106.362 495.307 Q104.441 493.571 101.339 493.571 Q99.14 493.571 96.6863 494.335 Q94.2558 495.099 91.478 496.65 L91.478 491.927 Q94.3021 490.793 96.7558 490.215 Q99.2095 489.636 101.246 489.636 Q106.617 489.636 109.811 492.321 Q113.006 495.006 113.006 499.497 Q113.006 501.627 112.196 503.548 Q111.408 505.446 109.302 508.039 Q108.723 508.71 105.621 511.927 Q102.52 515.122 96.8715 520.886 Z\" fill=\"#000000\" fill-rule=\"evenodd\" fill-opacity=\"1\" /><path clip-path=\"url(#clip340)\" d=\"M103.608 235.03 L91.8021 253.479 L103.608 253.479 L103.608 235.03 M102.381 230.956 L108.26 230.956 L108.26 253.479 L113.191 253.479 L113.191 257.368 L108.26 257.368 L108.26 265.516 L103.608 265.516 L103.608 257.368 L88.0058 257.368 L88.0058 252.854 L102.381 230.956 Z\" fill=\"#000000\" fill-rule=\"evenodd\" fill-opacity=\"1\" /><circle clip-path=\"url(#clip342)\" cx=\"211.556\" cy=\"1445.72\" r=\"14.4\" fill=\"#009af9\" fill-rule=\"evenodd\" fill-opacity=\"1\" stroke=\"#000000\" stroke-opacity=\"1\" stroke-width=\"3.2\"/>\n",
       "<circle clip-path=\"url(#clip342)\" cx=\"238.554\" cy=\"1445.72\" r=\"14.4\" fill=\"#009af9\" fill-rule=\"evenodd\" fill-opacity=\"1\" stroke=\"#000000\" stroke-opacity=\"1\" stroke-width=\"3.2\"/>\n",
       "<circle clip-path=\"url(#clip342)\" cx=\"265.552\" cy=\"1445.72\" r=\"14.4\" fill=\"#009af9\" fill-rule=\"evenodd\" fill-opacity=\"1\" stroke=\"#000000\" stroke-opacity=\"1\" stroke-width=\"3.2\"/>\n",
       "<circle clip-path=\"url(#clip342)\" cx=\"292.549\" cy=\"1289.64\" r=\"14.4\" fill=\"#009af9\" fill-rule=\"evenodd\" fill-opacity=\"1\" stroke=\"#000000\" stroke-opacity=\"1\" stroke-width=\"3.2\"/>\n",
       "<circle clip-path=\"url(#clip342)\" cx=\"319.547\" cy=\"1289.64\" r=\"14.4\" fill=\"#009af9\" fill-rule=\"evenodd\" fill-opacity=\"1\" stroke=\"#000000\" stroke-opacity=\"1\" stroke-width=\"3.2\"/>\n",
       "<circle clip-path=\"url(#clip342)\" cx=\"346.545\" cy=\"1289.64\" r=\"14.4\" fill=\"#009af9\" fill-rule=\"evenodd\" fill-opacity=\"1\" stroke=\"#000000\" stroke-opacity=\"1\" stroke-width=\"3.2\"/>\n",
       "<circle clip-path=\"url(#clip342)\" cx=\"373.543\" cy=\"1289.64\" r=\"14.4\" fill=\"#009af9\" fill-rule=\"evenodd\" fill-opacity=\"1\" stroke=\"#000000\" stroke-opacity=\"1\" stroke-width=\"3.2\"/>\n",
       "<circle clip-path=\"url(#clip342)\" cx=\"400.541\" cy=\"1155.8\" r=\"14.4\" fill=\"#009af9\" fill-rule=\"evenodd\" fill-opacity=\"1\" stroke=\"#000000\" stroke-opacity=\"1\" stroke-width=\"3.2\"/>\n",
       "<circle clip-path=\"url(#clip342)\" cx=\"427.539\" cy=\"1155.8\" r=\"14.4\" fill=\"#009af9\" fill-rule=\"evenodd\" fill-opacity=\"1\" stroke=\"#000000\" stroke-opacity=\"1\" stroke-width=\"3.2\"/>\n",
       "<circle clip-path=\"url(#clip342)\" cx=\"454.537\" cy=\"1155.8\" r=\"14.4\" fill=\"#009af9\" fill-rule=\"evenodd\" fill-opacity=\"1\" stroke=\"#000000\" stroke-opacity=\"1\" stroke-width=\"3.2\"/>\n",
       "<circle clip-path=\"url(#clip342)\" cx=\"481.534\" cy=\"1155.8\" r=\"14.4\" fill=\"#009af9\" fill-rule=\"evenodd\" fill-opacity=\"1\" stroke=\"#000000\" stroke-opacity=\"1\" stroke-width=\"3.2\"/>\n",
       "<circle clip-path=\"url(#clip342)\" cx=\"508.532\" cy=\"1133.56\" r=\"14.4\" fill=\"#009af9\" fill-rule=\"evenodd\" fill-opacity=\"1\" stroke=\"#000000\" stroke-opacity=\"1\" stroke-width=\"3.2\"/>\n",
       "<circle clip-path=\"url(#clip342)\" cx=\"535.53\" cy=\"1133.56\" r=\"14.4\" fill=\"#009af9\" fill-rule=\"evenodd\" fill-opacity=\"1\" stroke=\"#000000\" stroke-opacity=\"1\" stroke-width=\"3.2\"/>\n",
       "<circle clip-path=\"url(#clip342)\" cx=\"562.528\" cy=\"1133.56\" r=\"14.4\" fill=\"#009af9\" fill-rule=\"evenodd\" fill-opacity=\"1\" stroke=\"#000000\" stroke-opacity=\"1\" stroke-width=\"3.2\"/>\n",
       "<circle clip-path=\"url(#clip342)\" cx=\"589.526\" cy=\"1056.76\" r=\"14.4\" fill=\"#009af9\" fill-rule=\"evenodd\" fill-opacity=\"1\" stroke=\"#000000\" stroke-opacity=\"1\" stroke-width=\"3.2\"/>\n",
       "<circle clip-path=\"url(#clip342)\" cx=\"616.524\" cy=\"1056.76\" r=\"14.4\" fill=\"#009af9\" fill-rule=\"evenodd\" fill-opacity=\"1\" stroke=\"#000000\" stroke-opacity=\"1\" stroke-width=\"3.2\"/>\n",
       "<circle clip-path=\"url(#clip342)\" cx=\"643.522\" cy=\"1056.76\" r=\"14.4\" fill=\"#009af9\" fill-rule=\"evenodd\" fill-opacity=\"1\" stroke=\"#000000\" stroke-opacity=\"1\" stroke-width=\"3.2\"/>\n",
       "<circle clip-path=\"url(#clip342)\" cx=\"670.519\" cy=\"1056.76\" r=\"14.4\" fill=\"#009af9\" fill-rule=\"evenodd\" fill-opacity=\"1\" stroke=\"#000000\" stroke-opacity=\"1\" stroke-width=\"3.2\"/>\n",
       "<circle clip-path=\"url(#clip342)\" cx=\"697.517\" cy=\"999.725\" r=\"14.4\" fill=\"#009af9\" fill-rule=\"evenodd\" fill-opacity=\"1\" stroke=\"#000000\" stroke-opacity=\"1\" stroke-width=\"3.2\"/>\n",
       "<circle clip-path=\"url(#clip342)\" cx=\"724.515\" cy=\"999.725\" r=\"14.4\" fill=\"#009af9\" fill-rule=\"evenodd\" fill-opacity=\"1\" stroke=\"#000000\" stroke-opacity=\"1\" stroke-width=\"3.2\"/>\n",
       "<circle clip-path=\"url(#clip342)\" cx=\"751.513\" cy=\"999.725\" r=\"14.4\" fill=\"#009af9\" fill-rule=\"evenodd\" fill-opacity=\"1\" stroke=\"#000000\" stroke-opacity=\"1\" stroke-width=\"3.2\"/>\n",
       "<circle clip-path=\"url(#clip342)\" cx=\"778.511\" cy=\"999.725\" r=\"14.4\" fill=\"#009af9\" fill-rule=\"evenodd\" fill-opacity=\"1\" stroke=\"#000000\" stroke-opacity=\"1\" stroke-width=\"3.2\"/>\n",
       "<circle clip-path=\"url(#clip342)\" cx=\"805.509\" cy=\"922.924\" r=\"14.4\" fill=\"#009af9\" fill-rule=\"evenodd\" fill-opacity=\"1\" stroke=\"#000000\" stroke-opacity=\"1\" stroke-width=\"3.2\"/>\n",
       "<circle clip-path=\"url(#clip342)\" cx=\"832.507\" cy=\"922.924\" r=\"14.4\" fill=\"#009af9\" fill-rule=\"evenodd\" fill-opacity=\"1\" stroke=\"#000000\" stroke-opacity=\"1\" stroke-width=\"3.2\"/>\n",
       "<circle clip-path=\"url(#clip342)\" cx=\"859.504\" cy=\"922.924\" r=\"14.4\" fill=\"#009af9\" fill-rule=\"evenodd\" fill-opacity=\"1\" stroke=\"#000000\" stroke-opacity=\"1\" stroke-width=\"3.2\"/>\n",
       "<circle clip-path=\"url(#clip342)\" cx=\"886.502\" cy=\"922.924\" r=\"14.4\" fill=\"#009af9\" fill-rule=\"evenodd\" fill-opacity=\"1\" stroke=\"#000000\" stroke-opacity=\"1\" stroke-width=\"3.2\"/>\n",
       "<circle clip-path=\"url(#clip342)\" cx=\"913.5\" cy=\"900.68\" r=\"14.4\" fill=\"#009af9\" fill-rule=\"evenodd\" fill-opacity=\"1\" stroke=\"#000000\" stroke-opacity=\"1\" stroke-width=\"3.2\"/>\n",
       "<circle clip-path=\"url(#clip342)\" cx=\"940.498\" cy=\"900.68\" r=\"14.4\" fill=\"#009af9\" fill-rule=\"evenodd\" fill-opacity=\"1\" stroke=\"#000000\" stroke-opacity=\"1\" stroke-width=\"3.2\"/>\n",
       "<circle clip-path=\"url(#clip342)\" cx=\"967.496\" cy=\"900.68\" r=\"14.4\" fill=\"#009af9\" fill-rule=\"evenodd\" fill-opacity=\"1\" stroke=\"#000000\" stroke-opacity=\"1\" stroke-width=\"3.2\"/>\n",
       "<circle clip-path=\"url(#clip342)\" cx=\"994.494\" cy=\"900.68\" r=\"14.4\" fill=\"#009af9\" fill-rule=\"evenodd\" fill-opacity=\"1\" stroke=\"#000000\" stroke-opacity=\"1\" stroke-width=\"3.2\"/>\n",
       "<circle clip-path=\"url(#clip342)\" cx=\"1021.49\" cy=\"865.892\" r=\"14.4\" fill=\"#009af9\" fill-rule=\"evenodd\" fill-opacity=\"1\" stroke=\"#000000\" stroke-opacity=\"1\" stroke-width=\"3.2\"/>\n",
       "<circle clip-path=\"url(#clip342)\" cx=\"1048.49\" cy=\"865.892\" r=\"14.4\" fill=\"#009af9\" fill-rule=\"evenodd\" fill-opacity=\"1\" stroke=\"#000000\" stroke-opacity=\"1\" stroke-width=\"3.2\"/>\n",
       "<circle clip-path=\"url(#clip342)\" cx=\"1075.49\" cy=\"865.892\" r=\"14.4\" fill=\"#009af9\" fill-rule=\"evenodd\" fill-opacity=\"1\" stroke=\"#000000\" stroke-opacity=\"1\" stroke-width=\"3.2\"/>\n",
       "<circle clip-path=\"url(#clip342)\" cx=\"1102.49\" cy=\"766.846\" r=\"14.4\" fill=\"#009af9\" fill-rule=\"evenodd\" fill-opacity=\"1\" stroke=\"#000000\" stroke-opacity=\"1\" stroke-width=\"3.2\"/>\n",
       "<circle clip-path=\"url(#clip342)\" cx=\"1129.48\" cy=\"766.846\" r=\"14.4\" fill=\"#009af9\" fill-rule=\"evenodd\" fill-opacity=\"1\" stroke=\"#000000\" stroke-opacity=\"1\" stroke-width=\"3.2\"/>\n",
       "<circle clip-path=\"url(#clip342)\" cx=\"1156.48\" cy=\"766.846\" r=\"14.4\" fill=\"#009af9\" fill-rule=\"evenodd\" fill-opacity=\"1\" stroke=\"#000000\" stroke-opacity=\"1\" stroke-width=\"3.2\"/>\n",
       "<circle clip-path=\"url(#clip342)\" cx=\"1183.48\" cy=\"766.846\" r=\"14.4\" fill=\"#009af9\" fill-rule=\"evenodd\" fill-opacity=\"1\" stroke=\"#000000\" stroke-opacity=\"1\" stroke-width=\"3.2\"/>\n",
       "<circle clip-path=\"url(#clip342)\" cx=\"1210.48\" cy=\"766.846\" r=\"14.4\" fill=\"#009af9\" fill-rule=\"evenodd\" fill-opacity=\"1\" stroke=\"#000000\" stroke-opacity=\"1\" stroke-width=\"3.2\"/>\n",
       "<circle clip-path=\"url(#clip342)\" cx=\"1237.47\" cy=\"766.846\" r=\"14.4\" fill=\"#009af9\" fill-rule=\"evenodd\" fill-opacity=\"1\" stroke=\"#000000\" stroke-opacity=\"1\" stroke-width=\"3.2\"/>\n",
       "<circle clip-path=\"url(#clip342)\" cx=\"1264.47\" cy=\"766.846\" r=\"14.4\" fill=\"#009af9\" fill-rule=\"evenodd\" fill-opacity=\"1\" stroke=\"#000000\" stroke-opacity=\"1\" stroke-width=\"3.2\"/>\n",
       "<circle clip-path=\"url(#clip342)\" cx=\"1291.47\" cy=\"766.846\" r=\"14.4\" fill=\"#009af9\" fill-rule=\"evenodd\" fill-opacity=\"1\" stroke=\"#000000\" stroke-opacity=\"1\" stroke-width=\"3.2\"/>\n",
       "<circle clip-path=\"url(#clip342)\" cx=\"1318.47\" cy=\"766.846\" r=\"14.4\" fill=\"#009af9\" fill-rule=\"evenodd\" fill-opacity=\"1\" stroke=\"#000000\" stroke-opacity=\"1\" stroke-width=\"3.2\"/>\n",
       "<circle clip-path=\"url(#clip342)\" cx=\"1345.47\" cy=\"766.846\" r=\"14.4\" fill=\"#009af9\" fill-rule=\"evenodd\" fill-opacity=\"1\" stroke=\"#000000\" stroke-opacity=\"1\" stroke-width=\"3.2\"/>\n",
       "<circle clip-path=\"url(#clip342)\" cx=\"1372.46\" cy=\"766.846\" r=\"14.4\" fill=\"#009af9\" fill-rule=\"evenodd\" fill-opacity=\"1\" stroke=\"#000000\" stroke-opacity=\"1\" stroke-width=\"3.2\"/>\n",
       "<circle clip-path=\"url(#clip342)\" cx=\"1399.46\" cy=\"766.846\" r=\"14.4\" fill=\"#009af9\" fill-rule=\"evenodd\" fill-opacity=\"1\" stroke=\"#000000\" stroke-opacity=\"1\" stroke-width=\"3.2\"/>\n",
       "<circle clip-path=\"url(#clip342)\" cx=\"1426.46\" cy=\"667.8\" r=\"14.4\" fill=\"#009af9\" fill-rule=\"evenodd\" fill-opacity=\"1\" stroke=\"#000000\" stroke-opacity=\"1\" stroke-width=\"3.2\"/>\n",
       "<circle clip-path=\"url(#clip342)\" cx=\"1453.46\" cy=\"667.8\" r=\"14.4\" fill=\"#009af9\" fill-rule=\"evenodd\" fill-opacity=\"1\" stroke=\"#000000\" stroke-opacity=\"1\" stroke-width=\"3.2\"/>\n",
       "<circle clip-path=\"url(#clip342)\" cx=\"1480.46\" cy=\"667.8\" r=\"14.4\" fill=\"#009af9\" fill-rule=\"evenodd\" fill-opacity=\"1\" stroke=\"#000000\" stroke-opacity=\"1\" stroke-width=\"3.2\"/>\n",
       "<circle clip-path=\"url(#clip342)\" cx=\"1507.45\" cy=\"633.012\" r=\"14.4\" fill=\"#009af9\" fill-rule=\"evenodd\" fill-opacity=\"1\" stroke=\"#000000\" stroke-opacity=\"1\" stroke-width=\"3.2\"/>\n",
       "<circle clip-path=\"url(#clip342)\" cx=\"1534.45\" cy=\"633.012\" r=\"14.4\" fill=\"#009af9\" fill-rule=\"evenodd\" fill-opacity=\"1\" stroke=\"#000000\" stroke-opacity=\"1\" stroke-width=\"3.2\"/>\n",
       "<circle clip-path=\"url(#clip342)\" cx=\"1561.45\" cy=\"633.012\" r=\"14.4\" fill=\"#009af9\" fill-rule=\"evenodd\" fill-opacity=\"1\" stroke=\"#000000\" stroke-opacity=\"1\" stroke-width=\"3.2\"/>\n",
       "<circle clip-path=\"url(#clip342)\" cx=\"1588.45\" cy=\"633.012\" r=\"14.4\" fill=\"#009af9\" fill-rule=\"evenodd\" fill-opacity=\"1\" stroke=\"#000000\" stroke-opacity=\"1\" stroke-width=\"3.2\"/>\n",
       "<circle clip-path=\"url(#clip342)\" cx=\"1615.44\" cy=\"610.768\" r=\"14.4\" fill=\"#009af9\" fill-rule=\"evenodd\" fill-opacity=\"1\" stroke=\"#000000\" stroke-opacity=\"1\" stroke-width=\"3.2\"/>\n",
       "<circle clip-path=\"url(#clip342)\" cx=\"1642.44\" cy=\"610.768\" r=\"14.4\" fill=\"#009af9\" fill-rule=\"evenodd\" fill-opacity=\"1\" stroke=\"#000000\" stroke-opacity=\"1\" stroke-width=\"3.2\"/>\n",
       "<circle clip-path=\"url(#clip342)\" cx=\"1669.44\" cy=\"610.768\" r=\"14.4\" fill=\"#009af9\" fill-rule=\"evenodd\" fill-opacity=\"1\" stroke=\"#000000\" stroke-opacity=\"1\" stroke-width=\"3.2\"/>\n",
       "<circle clip-path=\"url(#clip342)\" cx=\"1696.44\" cy=\"610.768\" r=\"14.4\" fill=\"#009af9\" fill-rule=\"evenodd\" fill-opacity=\"1\" stroke=\"#000000\" stroke-opacity=\"1\" stroke-width=\"3.2\"/>\n",
       "<circle clip-path=\"url(#clip342)\" cx=\"1723.44\" cy=\"533.967\" r=\"14.4\" fill=\"#009af9\" fill-rule=\"evenodd\" fill-opacity=\"1\" stroke=\"#000000\" stroke-opacity=\"1\" stroke-width=\"3.2\"/>\n",
       "<circle clip-path=\"url(#clip342)\" cx=\"1750.43\" cy=\"533.967\" r=\"14.4\" fill=\"#009af9\" fill-rule=\"evenodd\" fill-opacity=\"1\" stroke=\"#000000\" stroke-opacity=\"1\" stroke-width=\"3.2\"/>\n",
       "<circle clip-path=\"url(#clip342)\" cx=\"1777.43\" cy=\"533.967\" r=\"14.4\" fill=\"#009af9\" fill-rule=\"evenodd\" fill-opacity=\"1\" stroke=\"#000000\" stroke-opacity=\"1\" stroke-width=\"3.2\"/>\n",
       "<circle clip-path=\"url(#clip342)\" cx=\"1804.43\" cy=\"533.967\" r=\"14.4\" fill=\"#009af9\" fill-rule=\"evenodd\" fill-opacity=\"1\" stroke=\"#000000\" stroke-opacity=\"1\" stroke-width=\"3.2\"/>\n",
       "<circle clip-path=\"url(#clip342)\" cx=\"1831.43\" cy=\"476.934\" r=\"14.4\" fill=\"#009af9\" fill-rule=\"evenodd\" fill-opacity=\"1\" stroke=\"#000000\" stroke-opacity=\"1\" stroke-width=\"3.2\"/>\n",
       "<circle clip-path=\"url(#clip342)\" cx=\"1858.43\" cy=\"476.934\" r=\"14.4\" fill=\"#009af9\" fill-rule=\"evenodd\" fill-opacity=\"1\" stroke=\"#000000\" stroke-opacity=\"1\" stroke-width=\"3.2\"/>\n",
       "<circle clip-path=\"url(#clip342)\" cx=\"1885.42\" cy=\"476.934\" r=\"14.4\" fill=\"#009af9\" fill-rule=\"evenodd\" fill-opacity=\"1\" stroke=\"#000000\" stroke-opacity=\"1\" stroke-width=\"3.2\"/>\n",
       "<circle clip-path=\"url(#clip342)\" cx=\"1912.42\" cy=\"476.934\" r=\"14.4\" fill=\"#009af9\" fill-rule=\"evenodd\" fill-opacity=\"1\" stroke=\"#000000\" stroke-opacity=\"1\" stroke-width=\"3.2\"/>\n",
       "<circle clip-path=\"url(#clip342)\" cx=\"1939.42\" cy=\"400.133\" r=\"14.4\" fill=\"#009af9\" fill-rule=\"evenodd\" fill-opacity=\"1\" stroke=\"#000000\" stroke-opacity=\"1\" stroke-width=\"3.2\"/>\n",
       "<circle clip-path=\"url(#clip342)\" cx=\"1966.42\" cy=\"400.133\" r=\"14.4\" fill=\"#009af9\" fill-rule=\"evenodd\" fill-opacity=\"1\" stroke=\"#000000\" stroke-opacity=\"1\" stroke-width=\"3.2\"/>\n",
       "<circle clip-path=\"url(#clip342)\" cx=\"1993.41\" cy=\"400.133\" r=\"14.4\" fill=\"#009af9\" fill-rule=\"evenodd\" fill-opacity=\"1\" stroke=\"#000000\" stroke-opacity=\"1\" stroke-width=\"3.2\"/>\n",
       "<circle clip-path=\"url(#clip342)\" cx=\"2020.41\" cy=\"377.888\" r=\"14.4\" fill=\"#009af9\" fill-rule=\"evenodd\" fill-opacity=\"1\" stroke=\"#000000\" stroke-opacity=\"1\" stroke-width=\"3.2\"/>\n",
       "<circle clip-path=\"url(#clip342)\" cx=\"2047.41\" cy=\"377.888\" r=\"14.4\" fill=\"#009af9\" fill-rule=\"evenodd\" fill-opacity=\"1\" stroke=\"#000000\" stroke-opacity=\"1\" stroke-width=\"3.2\"/>\n",
       "<circle clip-path=\"url(#clip342)\" cx=\"2074.41\" cy=\"377.888\" r=\"14.4\" fill=\"#009af9\" fill-rule=\"evenodd\" fill-opacity=\"1\" stroke=\"#000000\" stroke-opacity=\"1\" stroke-width=\"3.2\"/>\n",
       "<circle clip-path=\"url(#clip342)\" cx=\"2101.41\" cy=\"377.888\" r=\"14.4\" fill=\"#009af9\" fill-rule=\"evenodd\" fill-opacity=\"1\" stroke=\"#000000\" stroke-opacity=\"1\" stroke-width=\"3.2\"/>\n",
       "<circle clip-path=\"url(#clip342)\" cx=\"2128.4\" cy=\"244.055\" r=\"14.4\" fill=\"#009af9\" fill-rule=\"evenodd\" fill-opacity=\"1\" stroke=\"#000000\" stroke-opacity=\"1\" stroke-width=\"3.2\"/>\n",
       "<circle clip-path=\"url(#clip342)\" cx=\"2155.4\" cy=\"244.055\" r=\"14.4\" fill=\"#009af9\" fill-rule=\"evenodd\" fill-opacity=\"1\" stroke=\"#000000\" stroke-opacity=\"1\" stroke-width=\"3.2\"/>\n",
       "<circle clip-path=\"url(#clip342)\" cx=\"2182.4\" cy=\"244.055\" r=\"14.4\" fill=\"#009af9\" fill-rule=\"evenodd\" fill-opacity=\"1\" stroke=\"#000000\" stroke-opacity=\"1\" stroke-width=\"3.2\"/>\n",
       "<circle clip-path=\"url(#clip342)\" cx=\"2209.4\" cy=\"244.055\" r=\"14.4\" fill=\"#009af9\" fill-rule=\"evenodd\" fill-opacity=\"1\" stroke=\"#000000\" stroke-opacity=\"1\" stroke-width=\"3.2\"/>\n",
       "<circle clip-path=\"url(#clip342)\" cx=\"2236.4\" cy=\"87.9763\" r=\"14.4\" fill=\"#009af9\" fill-rule=\"evenodd\" fill-opacity=\"1\" stroke=\"#000000\" stroke-opacity=\"1\" stroke-width=\"3.2\"/>\n",
       "<circle clip-path=\"url(#clip342)\" cx=\"2263.39\" cy=\"87.9763\" r=\"14.4\" fill=\"#009af9\" fill-rule=\"evenodd\" fill-opacity=\"1\" stroke=\"#000000\" stroke-opacity=\"1\" stroke-width=\"3.2\"/>\n",
       "<circle clip-path=\"url(#clip342)\" cx=\"2290.39\" cy=\"87.9763\" r=\"14.4\" fill=\"#009af9\" fill-rule=\"evenodd\" fill-opacity=\"1\" stroke=\"#000000\" stroke-opacity=\"1\" stroke-width=\"3.2\"/>\n",
       "</svg>\n"
      ]
     },
     "execution_count": 10,
     "metadata": {},
     "output_type": "execute_result"
    }
   ],
   "source": [
    "using Plots\n",
    "E = eigenenergies(dense(H_mb))\n",
    "plot(1:length(E),E,seriestype=:scatter,legend=false)"
   ]
  },
  {
   "cell_type": "markdown",
   "id": "1d88b286-9737-4a87-8c53-4998f7d43975",
   "metadata": {},
   "source": [
    "# Cherns"
   ]
  },
  {
   "cell_type": "markdown",
   "id": "640e6903-a0dd-497f-b0f4-0b3cc7846df0",
   "metadata": {},
   "source": [
    "Berry Curvature:\n",
    "\\begin{equation}\n",
    "\\mathcal{F}(\\vec{\\theta}) = \\log \\left( U_x(\\vec{\\theta})U_y(\\vec{\\theta}+\\delta_x)U_x(\\vec{\\theta}+\\delta_y)^{-1}U_y(\\vec{\\theta})^{-1} \\right)\n",
    "\\end{equation}\n",
    "Link variables:\n",
    "\\begin{equation}\n",
    "U_\\mu(\\vec{\\theta}) = \\frac{\n",
    "det \\left( \\Phi(\\vec{\\theta})^\\dagger \\Phi(\\vec{\\theta}+\\delta_\\mu) \\right) \n",
    "}{\n",
    "| det \\left(\\Phi(\\vec{\\theta})^\\dagger \\Phi(\\vec{\\theta}+\\delta_\\mu) \\right) |} , \\quad \\delta_x = \\left(\\frac{2\\pi}{N_{\\theta}},0 \\right), \\delta_y = \\left(0, \\frac{2\\pi}{N_{\\theta}}\\right)\n",
    "\\end{equation}\n",
    "Chern Number:\n",
    "\\begin{equation}\n",
    "\\mathcal{C} = \\frac{1}{2\\pi i} \\sum_{\\vec{\\theta}} \\mathcal{F}(\\vec{\\theta})\n",
    "\\end{equation}"
   ]
  },
  {
   "cell_type": "code",
   "execution_count": 11,
   "id": "6cfefdc0",
   "metadata": {
    "tags": []
   },
   "outputs": [
    {
     "data": {
      "text/plain": [
       "Chern_Nums (generic function with 1 method)"
      ]
     },
     "execution_count": 11,
     "metadata": {},
     "output_type": "execute_result"
    }
   ],
   "source": [
    "# executeme\n",
    "\n",
    "function Chern_Nums(Tx, Ty, n1, n2)\n",
    "    \n",
    "    Sum=0\n",
    "    \n",
    "    for tx in range(start=1, stop=length(Tx))\n",
    "        for ty in range(start=1, stop=length(Ty))\n",
    "            \n",
    "            op = Op_Sp(Nx, Ny, 1/q, Tx[tx], Ty[ty])\n",
    "            H_mb = get_mb_op(basis_mb, op)\n",
    "            w1, v1 = eigen(dense(H_mb).data)\n",
    "            i = sortperm(w1, by=real);w1 = w1[i];v1 = v1[:,i]\n",
    "            v1 = v1[:,n1:n2]\n",
    "            \n",
    "            #------------------------------------\n",
    "            op = Op_Sp(Nx, Ny, 1/q, Tx[tx]+dx, Ty[ty])\n",
    "            H_mb = get_mb_op(basis_mb, op)\n",
    "            w2, v2 = eigen(dense(H_mb).data)\n",
    "            i = sortperm(w2, by=real);w2 = w2[i];v2 = v2[:,i]\n",
    "            v2 = v2[:,n1:n2]\n",
    "            \n",
    "            #------------------------------------\n",
    "            op = Op_Sp(Nx, Ny, 1/q, Tx[tx], Ty[ty]+dy)\n",
    "            H_mb = get_mb_op(basis_mb, op)\n",
    "            w3, v3 = eigen(dense(H_mb).data)\n",
    "            i = sortperm(w3, by=real);w3 = w3[i];v3 = v3[:,i]\n",
    "            v3 = v3[:,n1:n2]\n",
    "            \n",
    "            #------------------------------------\n",
    "            op = Op_Sp(Nx, Ny, 1/q, Tx[tx]+dx, Ty[ty]+dy)\n",
    "            H_mb = get_mb_op(basis_mb, op)\n",
    "            w4, v4 = eigen(dense(H_mb).data)\n",
    "            i = sortperm(w4, by=real);w4 = w4[i];v4 = v4[:,i]\n",
    "            v4 = v4[:,n1:n2]\n",
    "            \n",
    "            #----------LINK VARIABLES------------\n",
    "            U1=det(adjoint(v1)*v2)\n",
    "            U1=U1/abs(U1)\n",
    "            U2=det(adjoint(v2)*v4)\n",
    "            U2=U2/abs(U2)\n",
    "            U3=det(adjoint(v3)*v4)\n",
    "            U3=U3/abs(U3)\n",
    "            U4=det(adjoint(v1)*v3)\n",
    "            U4=U4/abs(U4)\n",
    "            \n",
    "            #----------BERRY CURVATURE-----------\n",
    "            F=log(U1*U2*1/U3*1/U4)\n",
    "            Sum=Sum+F\n",
    "            \n",
    "        end\n",
    "    end\n",
    "    \n",
    "    return 1/(2*pi*1im)*Sum\n",
    "end"
   ]
  },
  {
   "cell_type": "code",
   "execution_count": 12,
   "id": "ebe7913c-4c43-4df5-8f51-4e6bf29002fb",
   "metadata": {},
   "outputs": [
    {
     "data": {
      "text/plain": [
       "0.0025761874998864874 - 1.9566140154684676e-16im"
      ]
     },
     "execution_count": 12,
     "metadata": {},
     "output_type": "execute_result"
    }
   ],
   "source": [
    "Chern_Nums(Tx, Ty, 1, 2)"
   ]
  },
  {
   "cell_type": "markdown",
   "id": "a3a5fdc0-fccf-49a4-86e3-c994d837a3f7",
   "metadata": {},
   "source": [
    "# TEST"
   ]
  },
  {
   "cell_type": "code",
   "execution_count": 13,
   "id": "21a84607-f510-456c-8f06-c8253f1fb49a",
   "metadata": {},
   "outputs": [
    {
     "data": {
      "text/plain": [
       "Chern (generic function with 1 method)"
      ]
     },
     "execution_count": 13,
     "metadata": {},
     "output_type": "execute_result"
    }
   ],
   "source": [
    "using NBInclude; using QuantumOptics; using Plots; using LinearAlgebra\n",
    "@nbinclude(\"Hofstadter Single Particle in Theta Space.ipynb\")\n",
    "function Chern(Nx::Int64, Ny::Int64, alpha, TSize::Int64, PN::Int64, PlotBands::Bool, n1::Int64, n2::Int64)\n",
    "\n",
    "    # Single Particle #\n",
    "    N = Nx*Ny\n",
    "    function Op_Sp(Nx, Ny, alpha, Tx, Ty)    \n",
    "        H_T = HSP_T(Nx, Ny, alpha, Tx, Ty, 0)\n",
    "        basis = NLevelBasis(N) \n",
    "        H = SparseOperator(basis)\n",
    "        for m in 1:N\n",
    "            for n in 1:N\n",
    "                H = H + H_T[m,n] * transition(basis, m, n)\n",
    "            end\n",
    "        end\n",
    "        return H\n",
    "    end\n",
    "    # ---- #\n",
    "\n",
    "    # Fermionic Many-Body #\n",
    "    basis = NLevelBasis(N)\n",
    "    states = fermionstates(basis, PN)\n",
    "    basis_mb = ManyBodyBasis(basis, states)\n",
    "    function get_mb_op(basis_mb, op)\n",
    "        H_mb2 = SparseOperator(basis_mb) \n",
    "        for m in 1:N\n",
    "            for n in 1:N\n",
    "                H_mb2 += op.data[m,n] * transition(basis_mb, m, n)\n",
    "            end\n",
    "        end\n",
    "        return H_mb2\n",
    "    end\n",
    "    # ---- #\n",
    "    \n",
    "    # Plot #\n",
    "    if PlotBands == true\n",
    "        Tx=Ty=0\n",
    "        op = Op_Sp(Nx, Ny, 1/q, Tx, Ty)\n",
    "        Hamiltonian = get_mb_op(basis_mb, op)\n",
    "        E = eigenenergies(dense(Hamiltonian))\n",
    "        P = scatter(1:length(E),E,legend=false, xlabel=\"n\", ylabel=\"E\", title=\"Energy Bands\")\n",
    "        display(P)\n",
    "    end\n",
    "    # ---- #\n",
    "\n",
    "    # Twist Angle Parameter Space #\n",
    "    dx=2*pi/TSize\n",
    "    dy=dx\n",
    "    Tx=collect(range(start=0, stop=2*pi-dx, step=dx))\n",
    "    Ty=collect(range(start=0, stop=2*pi-dy, step=dy))\n",
    "    # ---- #\n",
    "\n",
    "    # Link Variable and Berry Curvature #\n",
    "    Sum=0\n",
    "    for tx in range(start=1, stop=length(Tx))\n",
    "        for ty in range(start=1, stop=length(Ty))\n",
    "            op = Op_Sp(Nx, Ny, 1/q, Tx[tx], Ty[ty])\n",
    "            H_mb = get_mb_op(basis_mb, op)\n",
    "            w1, v1 = eigen(dense(H_mb).data)\n",
    "            i = sortperm(w1, by=real);w1 = w1[i];v1 = v1[:,i]\n",
    "            v1 = v1[:,n1:n2]  \n",
    "            #------------------------------------\n",
    "            op = Op_Sp(Nx, Ny, 1/q, Tx[tx]+dx, Ty[ty])\n",
    "            H_mb = get_mb_op(basis_mb, op)\n",
    "            w2, v2 = eigen(dense(H_mb).data)\n",
    "            i = sortperm(w2, by=real);w2 = w2[i];v2 = v2[:,i]\n",
    "            v2 = v2[:,n1:n2]\n",
    "            #------------------------------------\n",
    "            op = Op_Sp(Nx, Ny, 1/q, Tx[tx], Ty[ty]+dy)\n",
    "            H_mb = get_mb_op(basis_mb, op)\n",
    "            w3, v3 = eigen(dense(H_mb).data)\n",
    "            i = sortperm(w3, by=real);w3 = w3[i];v3 = v3[:,i]\n",
    "            v3 = v3[:,n1:n2]\n",
    "            #------------------------------------\n",
    "            op = Op_Sp(Nx, Ny, 1/q, Tx[tx]+dx, Ty[ty]+dy)\n",
    "            H_mb = get_mb_op(basis_mb, op)\n",
    "            w4, v4 = eigen(dense(H_mb).data)\n",
    "            i = sortperm(w4, by=real);w4 = w4[i];v4 = v4[:,i]\n",
    "            v4 = v4[:,n1:n2]\n",
    "            #----------LINK VARIABLES------------\n",
    "            U1=det(adjoint(v1)*v2)\n",
    "            U1=U1/abs(U1)\n",
    "            U2=det(adjoint(v2)*v4)\n",
    "            U2=U2/abs(U2)\n",
    "            U3=det(adjoint(v3)*v4)\n",
    "            U3=U3/abs(U3)\n",
    "            U4=det(adjoint(v1)*v3)\n",
    "            U4=U4/abs(U4)\n",
    "            #----------BERRY CURVATURE-----------\n",
    "            F=log(U1*U2*1/U3*1/U4)\n",
    "            Sum=Sum+F \n",
    "        end\n",
    "    end\n",
    "    # ---- #\n",
    "    \n",
    "    return print(\"Chern Number is: \",1/(2*pi*1im)*Sum)\n",
    "end"
   ]
  },
  {
   "cell_type": "markdown",
   "id": "f767306f-c3d6-40fc-97f9-395e2b9d6a45",
   "metadata": {},
   "source": [
    "$\\nu = \\frac{N}{N_\\phi}, N_\\phi = N_y$"
   ]
  },
  {
   "cell_type": "code",
   "execution_count": 28,
   "id": "a517cb12-e1d7-4199-867a-3e997ef61875",
   "metadata": {},
   "outputs": [
    {
     "data": {
      "image/svg+xml": [
       "<?xml version=\"1.0\" encoding=\"utf-8\"?>\n",
       "<svg xmlns=\"http://www.w3.org/2000/svg\" xmlns:xlink=\"http://www.w3.org/1999/xlink\" width=\"600\" height=\"400\" viewBox=\"0 0 2400 1600\">\n",
       "<defs>\n",
       "  <clipPath id=\"clip500\">\n",
       "    <rect x=\"0\" y=\"0\" width=\"2400\" height=\"1600\"/>\n",
       "  </clipPath>\n",
       "</defs>\n",
       "<path clip-path=\"url(#clip500)\" d=\"\n",
       "M0 1600 L2400 1600 L2400 0 L0 0  Z\n",
       "  \" fill=\"#ffffff\" fill-rule=\"evenodd\" fill-opacity=\"1\"/>\n",
       "<defs>\n",
       "  <clipPath id=\"clip501\">\n",
       "    <rect x=\"480\" y=\"0\" width=\"1681\" height=\"1600\"/>\n",
       "  </clipPath>\n",
       "</defs>\n",
       "<path clip-path=\"url(#clip500)\" d=\"\n",
       "M212.459 1423.18 L2352.76 1423.18 L2352.76 123.472 L212.459 123.472  Z\n",
       "  \" fill=\"#ffffff\" fill-rule=\"evenodd\" fill-opacity=\"1\"/>\n",
       "<defs>\n",
       "  <clipPath id=\"clip502\">\n",
       "    <rect x=\"212\" y=\"123\" width=\"2141\" height=\"1301\"/>\n",
       "  </clipPath>\n",
       "</defs>\n",
       "<polyline clip-path=\"url(#clip502)\" style=\"stroke:#000000; stroke-linecap:round; stroke-linejoin:round; stroke-width:2; stroke-opacity:0.1; fill:none\" points=\"\n",
       "  215.343,1423.18 215.343,123.472 \n",
       "  \"/>\n",
       "<polyline clip-path=\"url(#clip502)\" style=\"stroke:#000000; stroke-linecap:round; stroke-linejoin:round; stroke-width:2; stroke-opacity:0.1; fill:none\" points=\"\n",
       "  792.243,1423.18 792.243,123.472 \n",
       "  \"/>\n",
       "<polyline clip-path=\"url(#clip502)\" style=\"stroke:#000000; stroke-linecap:round; stroke-linejoin:round; stroke-width:2; stroke-opacity:0.1; fill:none\" points=\"\n",
       "  1369.14,1423.18 1369.14,123.472 \n",
       "  \"/>\n",
       "<polyline clip-path=\"url(#clip502)\" style=\"stroke:#000000; stroke-linecap:round; stroke-linejoin:round; stroke-width:2; stroke-opacity:0.1; fill:none\" points=\"\n",
       "  1946.04,1423.18 1946.04,123.472 \n",
       "  \"/>\n",
       "<polyline clip-path=\"url(#clip500)\" style=\"stroke:#000000; stroke-linecap:round; stroke-linejoin:round; stroke-width:4; stroke-opacity:1; fill:none\" points=\"\n",
       "  212.459,1423.18 2352.76,1423.18 \n",
       "  \"/>\n",
       "<polyline clip-path=\"url(#clip500)\" style=\"stroke:#000000; stroke-linecap:round; stroke-linejoin:round; stroke-width:4; stroke-opacity:1; fill:none\" points=\"\n",
       "  215.343,1423.18 215.343,1404.28 \n",
       "  \"/>\n",
       "<polyline clip-path=\"url(#clip500)\" style=\"stroke:#000000; stroke-linecap:round; stroke-linejoin:round; stroke-width:4; stroke-opacity:1; fill:none\" points=\"\n",
       "  792.243,1423.18 792.243,1404.28 \n",
       "  \"/>\n",
       "<polyline clip-path=\"url(#clip500)\" style=\"stroke:#000000; stroke-linecap:round; stroke-linejoin:round; stroke-width:4; stroke-opacity:1; fill:none\" points=\"\n",
       "  1369.14,1423.18 1369.14,1404.28 \n",
       "  \"/>\n",
       "<polyline clip-path=\"url(#clip500)\" style=\"stroke:#000000; stroke-linecap:round; stroke-linejoin:round; stroke-width:4; stroke-opacity:1; fill:none\" points=\"\n",
       "  1946.04,1423.18 1946.04,1404.28 \n",
       "  \"/>\n",
       "<path clip-path=\"url(#clip500)\" d=\"M215.343 1454.1 Q211.732 1454.1 209.904 1457.66 Q208.098 1461.2 208.098 1468.33 Q208.098 1475.44 209.904 1479.01 Q211.732 1482.55 215.343 1482.55 Q218.978 1482.55 220.783 1479.01 Q222.612 1475.44 222.612 1468.33 Q222.612 1461.2 220.783 1457.66 Q218.978 1454.1 215.343 1454.1 M215.343 1450.39 Q221.154 1450.39 224.209 1455 Q227.288 1459.58 227.288 1468.33 Q227.288 1477.06 224.209 1481.67 Q221.154 1486.25 215.343 1486.25 Q209.533 1486.25 206.455 1481.67 Q203.399 1477.06 203.399 1468.33 Q203.399 1459.58 206.455 1455 Q209.533 1450.39 215.343 1450.39 Z\" fill=\"#000000\" fill-rule=\"evenodd\" fill-opacity=\"1\" /><path clip-path=\"url(#clip500)\" d=\"M766.93 1481.64 L774.569 1481.64 L774.569 1455.28 L766.259 1456.95 L766.259 1452.69 L774.523 1451.02 L779.199 1451.02 L779.199 1481.64 L786.838 1481.64 L786.838 1485.58 L766.93 1485.58 L766.93 1481.64 Z\" fill=\"#000000\" fill-rule=\"evenodd\" fill-opacity=\"1\" /><path clip-path=\"url(#clip500)\" d=\"M806.282 1454.1 Q802.671 1454.1 800.842 1457.66 Q799.037 1461.2 799.037 1468.33 Q799.037 1475.44 800.842 1479.01 Q802.671 1482.55 806.282 1482.55 Q809.916 1482.55 811.722 1479.01 Q813.551 1475.44 813.551 1468.33 Q813.551 1461.2 811.722 1457.66 Q809.916 1454.1 806.282 1454.1 M806.282 1450.39 Q812.092 1450.39 815.148 1455 Q818.227 1459.58 818.227 1468.33 Q818.227 1477.06 815.148 1481.67 Q812.092 1486.25 806.282 1486.25 Q800.472 1486.25 797.393 1481.67 Q794.338 1477.06 794.338 1468.33 Q794.338 1459.58 797.393 1455 Q800.472 1450.39 806.282 1450.39 Z\" fill=\"#000000\" fill-rule=\"evenodd\" fill-opacity=\"1\" /><path clip-path=\"url(#clip500)\" d=\"M1347.92 1481.64 L1364.23 1481.64 L1364.23 1485.58 L1342.29 1485.58 L1342.29 1481.64 Q1344.95 1478.89 1349.54 1474.26 Q1354.14 1469.61 1355.32 1468.27 Q1357.57 1465.74 1358.45 1464.01 Q1359.35 1462.25 1359.35 1460.56 Q1359.35 1457.8 1357.41 1456.07 Q1355.48 1454.33 1352.38 1454.33 Q1350.18 1454.33 1347.73 1455.09 Q1345.3 1455.86 1342.52 1457.41 L1342.52 1452.69 Q1345.35 1451.55 1347.8 1450.97 Q1350.25 1450.39 1352.29 1450.39 Q1357.66 1450.39 1360.86 1453.08 Q1364.05 1455.77 1364.05 1460.26 Q1364.05 1462.39 1363.24 1464.31 Q1362.45 1466.2 1360.35 1468.8 Q1359.77 1469.47 1356.67 1472.69 Q1353.56 1475.88 1347.92 1481.64 Z\" fill=\"#000000\" fill-rule=\"evenodd\" fill-opacity=\"1\" /><path clip-path=\"url(#clip500)\" d=\"M1384.05 1454.1 Q1380.44 1454.1 1378.61 1457.66 Q1376.8 1461.2 1376.8 1468.33 Q1376.8 1475.44 1378.61 1479.01 Q1380.44 1482.55 1384.05 1482.55 Q1387.68 1482.55 1389.49 1479.01 Q1391.32 1475.44 1391.32 1468.33 Q1391.32 1461.2 1389.49 1457.66 Q1387.68 1454.1 1384.05 1454.1 M1384.05 1450.39 Q1389.86 1450.39 1392.92 1455 Q1395.99 1459.58 1395.99 1468.33 Q1395.99 1477.06 1392.92 1481.67 Q1389.86 1486.25 1384.05 1486.25 Q1378.24 1486.25 1375.16 1481.67 Q1372.11 1477.06 1372.11 1468.33 Q1372.11 1459.58 1375.16 1455 Q1378.24 1450.39 1384.05 1450.39 Z\" fill=\"#000000\" fill-rule=\"evenodd\" fill-opacity=\"1\" /><path clip-path=\"url(#clip500)\" d=\"M1934.88 1466.95 Q1938.24 1467.66 1940.12 1469.93 Q1942.01 1472.2 1942.01 1475.53 Q1942.01 1480.65 1938.5 1483.45 Q1934.98 1486.25 1928.5 1486.25 Q1926.32 1486.25 1924 1485.81 Q1921.71 1485.39 1919.26 1484.54 L1919.26 1480.02 Q1921.2 1481.16 1923.52 1481.74 Q1925.83 1482.32 1928.36 1482.32 Q1932.75 1482.32 1935.05 1480.58 Q1937.36 1478.84 1937.36 1475.53 Q1937.36 1472.48 1935.21 1470.77 Q1933.08 1469.03 1929.26 1469.03 L1925.23 1469.03 L1925.23 1465.19 L1929.44 1465.19 Q1932.89 1465.19 1934.72 1463.82 Q1936.55 1462.43 1936.55 1459.84 Q1936.55 1457.18 1934.65 1455.77 Q1932.78 1454.33 1929.26 1454.33 Q1927.34 1454.33 1925.14 1454.75 Q1922.94 1455.16 1920.3 1456.04 L1920.3 1451.88 Q1922.96 1451.14 1925.28 1450.77 Q1927.62 1450.39 1929.68 1450.39 Q1935 1450.39 1938.1 1452.83 Q1941.2 1455.23 1941.2 1459.35 Q1941.2 1462.22 1939.56 1464.21 Q1937.92 1466.18 1934.88 1466.95 Z\" fill=\"#000000\" fill-rule=\"evenodd\" fill-opacity=\"1\" /><path clip-path=\"url(#clip500)\" d=\"M1960.88 1454.1 Q1957.27 1454.1 1955.44 1457.66 Q1953.63 1461.2 1953.63 1468.33 Q1953.63 1475.44 1955.44 1479.01 Q1957.27 1482.55 1960.88 1482.55 Q1964.51 1482.55 1966.32 1479.01 Q1968.15 1475.44 1968.15 1468.33 Q1968.15 1461.2 1966.32 1457.66 Q1964.51 1454.1 1960.88 1454.1 M1960.88 1450.39 Q1966.69 1450.39 1969.75 1455 Q1972.82 1459.58 1972.82 1468.33 Q1972.82 1477.06 1969.75 1481.67 Q1966.69 1486.25 1960.88 1486.25 Q1955.07 1486.25 1951.99 1481.67 Q1948.94 1477.06 1948.94 1468.33 Q1948.94 1459.58 1951.99 1455 Q1955.07 1450.39 1960.88 1450.39 Z\" fill=\"#000000\" fill-rule=\"evenodd\" fill-opacity=\"1\" /><path clip-path=\"url(#clip500)\" d=\"M1297.53 1546.53 L1297.53 1568.04 L1291.68 1568.04 L1291.68 1546.72 Q1291.68 1541.66 1289.71 1539.14 Q1287.73 1536.63 1283.79 1536.63 Q1279.04 1536.63 1276.31 1539.65 Q1273.57 1542.68 1273.57 1547.9 L1273.57 1568.04 L1267.68 1568.04 L1267.68 1532.4 L1273.57 1532.4 L1273.57 1537.93 Q1275.67 1534.72 1278.5 1533.13 Q1281.37 1531.54 1285.09 1531.54 Q1291.23 1531.54 1294.38 1535.36 Q1297.53 1539.14 1297.53 1546.53 Z\" fill=\"#000000\" fill-rule=\"evenodd\" fill-opacity=\"1\" /><polyline clip-path=\"url(#clip502)\" style=\"stroke:#000000; stroke-linecap:round; stroke-linejoin:round; stroke-width:2; stroke-opacity:0.1; fill:none\" points=\"\n",
       "  212.459,1241.36 2352.76,1241.36 \n",
       "  \"/>\n",
       "<polyline clip-path=\"url(#clip502)\" style=\"stroke:#000000; stroke-linecap:round; stroke-linejoin:round; stroke-width:2; stroke-opacity:0.1; fill:none\" points=\"\n",
       "  212.459,958.337 2352.76,958.337 \n",
       "  \"/>\n",
       "<polyline clip-path=\"url(#clip502)\" style=\"stroke:#000000; stroke-linecap:round; stroke-linejoin:round; stroke-width:2; stroke-opacity:0.1; fill:none\" points=\"\n",
       "  212.459,675.314 2352.76,675.314 \n",
       "  \"/>\n",
       "<polyline clip-path=\"url(#clip502)\" style=\"stroke:#000000; stroke-linecap:round; stroke-linejoin:round; stroke-width:2; stroke-opacity:0.1; fill:none\" points=\"\n",
       "  212.459,392.292 2352.76,392.292 \n",
       "  \"/>\n",
       "<polyline clip-path=\"url(#clip500)\" style=\"stroke:#000000; stroke-linecap:round; stroke-linejoin:round; stroke-width:4; stroke-opacity:1; fill:none\" points=\"\n",
       "  212.459,1423.18 212.459,123.472 \n",
       "  \"/>\n",
       "<polyline clip-path=\"url(#clip500)\" style=\"stroke:#000000; stroke-linecap:round; stroke-linejoin:round; stroke-width:4; stroke-opacity:1; fill:none\" points=\"\n",
       "  212.459,1241.36 231.357,1241.36 \n",
       "  \"/>\n",
       "<polyline clip-path=\"url(#clip500)\" style=\"stroke:#000000; stroke-linecap:round; stroke-linejoin:round; stroke-width:4; stroke-opacity:1; fill:none\" points=\"\n",
       "  212.459,958.337 231.357,958.337 \n",
       "  \"/>\n",
       "<polyline clip-path=\"url(#clip500)\" style=\"stroke:#000000; stroke-linecap:round; stroke-linejoin:round; stroke-width:4; stroke-opacity:1; fill:none\" points=\"\n",
       "  212.459,675.314 231.357,675.314 \n",
       "  \"/>\n",
       "<polyline clip-path=\"url(#clip500)\" style=\"stroke:#000000; stroke-linecap:round; stroke-linejoin:round; stroke-width:4; stroke-opacity:1; fill:none\" points=\"\n",
       "  212.459,392.292 231.357,392.292 \n",
       "  \"/>\n",
       "<path clip-path=\"url(#clip500)\" d=\"M114.26 1241.81 L143.936 1241.81 L143.936 1245.75 L114.26 1245.75 L114.26 1241.81 Z\" fill=\"#000000\" fill-rule=\"evenodd\" fill-opacity=\"1\" /><path clip-path=\"url(#clip500)\" d=\"M166.876 1228.15 L155.07 1246.6 L166.876 1246.6 L166.876 1228.15 M165.649 1224.08 L171.528 1224.08 L171.528 1246.6 L176.459 1246.6 L176.459 1250.49 L171.528 1250.49 L171.528 1258.64 L166.876 1258.64 L166.876 1250.49 L151.274 1250.49 L151.274 1245.98 L165.649 1224.08 Z\" fill=\"#000000\" fill-rule=\"evenodd\" fill-opacity=\"1\" /><path clip-path=\"url(#clip500)\" d=\"M116.343 958.788 L146.019 958.788 L146.019 962.724 L116.343 962.724 L116.343 958.788 Z\" fill=\"#000000\" fill-rule=\"evenodd\" fill-opacity=\"1\" /><path clip-path=\"url(#clip500)\" d=\"M160.14 971.682 L176.459 971.682 L176.459 975.617 L154.515 975.617 L154.515 971.682 Q157.177 968.927 161.76 964.298 Q166.366 959.645 167.547 958.302 Q169.792 955.779 170.672 954.043 Q171.575 952.284 171.575 950.594 Q171.575 947.839 169.63 946.103 Q167.709 944.367 164.607 944.367 Q162.408 944.367 159.954 945.131 Q157.524 945.895 154.746 947.446 L154.746 942.724 Q157.57 941.59 160.024 941.011 Q162.477 940.432 164.515 940.432 Q169.885 940.432 173.079 943.117 Q176.274 945.802 176.274 950.293 Q176.274 952.423 175.464 954.344 Q174.677 956.242 172.57 958.835 Q171.991 959.506 168.889 962.724 Q165.788 965.918 160.14 971.682 Z\" fill=\"#000000\" fill-rule=\"evenodd\" fill-opacity=\"1\" /><path clip-path=\"url(#clip500)\" d=\"M164.515 661.113 Q160.903 661.113 159.075 664.678 Q157.269 668.219 157.269 675.349 Q157.269 682.456 159.075 686.02 Q160.903 689.562 164.515 689.562 Q168.149 689.562 169.954 686.02 Q171.783 682.456 171.783 675.349 Q171.783 668.219 169.954 664.678 Q168.149 661.113 164.515 661.113 M164.515 657.409 Q170.325 657.409 173.38 662.016 Q176.459 666.599 176.459 675.349 Q176.459 684.076 173.38 688.682 Q170.325 693.266 164.515 693.266 Q158.704 693.266 155.626 688.682 Q152.57 684.076 152.57 675.349 Q152.57 666.599 155.626 662.016 Q158.704 657.409 164.515 657.409 Z\" fill=\"#000000\" fill-rule=\"evenodd\" fill-opacity=\"1\" /><path clip-path=\"url(#clip500)\" d=\"M160.14 405.636 L176.459 405.636 L176.459 409.572 L154.515 409.572 L154.515 405.636 Q157.177 402.882 161.76 398.252 Q166.366 393.599 167.547 392.257 Q169.792 389.734 170.672 387.998 Q171.575 386.238 171.575 384.549 Q171.575 381.794 169.63 380.058 Q167.709 378.322 164.607 378.322 Q162.408 378.322 159.954 379.086 Q157.524 379.85 154.746 381.4 L154.746 376.678 Q157.57 375.544 160.024 374.965 Q162.477 374.387 164.515 374.387 Q169.885 374.387 173.079 377.072 Q176.274 379.757 176.274 384.248 Q176.274 386.377 175.464 388.299 Q174.677 390.197 172.57 392.789 Q171.991 393.461 168.889 396.678 Q165.788 399.873 160.14 405.636 Z\" fill=\"#000000\" fill-rule=\"evenodd\" fill-opacity=\"1\" /><path clip-path=\"url(#clip500)\" d=\"M16.4842 788.636 L16.4842 758.589 L21.895 758.589 L21.895 782.206 L35.9632 782.206 L35.9632 759.576 L41.3741 759.576 L41.3741 782.206 L58.5933 782.206 L58.5933 758.016 L64.0042 758.016 L64.0042 788.636 L16.4842 788.636 Z\" fill=\"#000000\" fill-rule=\"evenodd\" fill-opacity=\"1\" /><path clip-path=\"url(#clip500)\" d=\"M1002.18 12.096 L1040.42 12.096 L1040.42 18.9825 L1010.37 18.9825 L1010.37 36.8875 L1039.17 36.8875 L1039.17 43.7741 L1010.37 43.7741 L1010.37 65.6895 L1041.15 65.6895 L1041.15 72.576 L1002.18 72.576 L1002.18 12.096 Z\" fill=\"#000000\" fill-rule=\"evenodd\" fill-opacity=\"1\" /><path clip-path=\"url(#clip500)\" d=\"M1091.99 45.1919 L1091.99 72.576 L1084.54 72.576 L1084.54 45.4349 Q1084.54 38.994 1082.03 35.7938 Q1079.52 32.5936 1074.49 32.5936 Q1068.46 32.5936 1064.97 36.4419 Q1061.49 40.2903 1061.49 46.9338 L1061.49 72.576 L1053.99 72.576 L1053.99 27.2059 L1061.49 27.2059 L1061.49 34.2544 Q1064.16 30.163 1067.77 28.1376 Q1071.41 26.1121 1076.15 26.1121 Q1083.97 26.1121 1087.98 30.9732 Q1091.99 35.7938 1091.99 45.1919 Z\" fill=\"#000000\" fill-rule=\"evenodd\" fill-opacity=\"1\" /><path clip-path=\"url(#clip500)\" d=\"M1145.67 48.0275 L1145.67 51.6733 L1111.4 51.6733 Q1111.88 59.3701 1116.01 63.421 Q1120.19 67.4314 1127.6 67.4314 Q1131.89 67.4314 1135.9 66.3781 Q1139.95 65.3249 1143.92 63.2184 L1143.92 70.267 Q1139.91 71.9684 1135.7 72.8596 Q1131.49 73.7508 1127.15 73.7508 Q1116.3 73.7508 1109.94 67.4314 Q1103.62 61.1119 1103.62 50.3365 Q1103.62 39.1965 1109.61 32.6746 Q1115.65 26.1121 1125.86 26.1121 Q1135.01 26.1121 1140.32 32.0264 Q1145.67 37.9003 1145.67 48.0275 M1138.21 45.84 Q1138.13 39.7232 1134.77 36.0774 Q1131.45 32.4315 1125.94 32.4315 Q1119.7 32.4315 1115.93 35.9558 Q1112.21 39.4801 1111.64 45.8805 L1138.21 45.84 Z\" fill=\"#000000\" fill-rule=\"evenodd\" fill-opacity=\"1\" /><path clip-path=\"url(#clip500)\" d=\"M1184.19 34.1734 Q1182.93 33.4443 1181.44 33.1202 Q1179.98 32.7556 1178.2 32.7556 Q1171.88 32.7556 1168.47 36.8875 Q1165.11 40.9789 1165.11 48.6757 L1165.11 72.576 L1157.62 72.576 L1157.62 27.2059 L1165.11 27.2059 L1165.11 34.2544 Q1167.46 30.1225 1171.23 28.1376 Q1175 26.1121 1180.38 26.1121 Q1181.15 26.1121 1182.08 26.2337 Q1183.02 26.3147 1184.15 26.5172 L1184.19 34.1734 Z\" fill=\"#000000\" fill-rule=\"evenodd\" fill-opacity=\"1\" /><path clip-path=\"url(#clip500)\" d=\"M1220.41 49.3643 Q1220.41 41.2625 1217.04 36.8065 Q1213.72 32.3505 1207.69 32.3505 Q1201.69 32.3505 1198.33 36.8065 Q1195.01 41.2625 1195.01 49.3643 Q1195.01 57.4256 1198.33 61.8816 Q1201.69 66.3376 1207.69 66.3376 Q1213.72 66.3376 1217.04 61.8816 Q1220.41 57.4256 1220.41 49.3643 M1227.86 66.9452 Q1227.86 78.5308 1222.71 84.1616 Q1217.57 89.8329 1206.96 89.8329 Q1203.03 89.8329 1199.54 89.2252 Q1196.06 88.6581 1192.78 87.4428 L1192.78 80.1917 Q1196.06 81.9741 1199.26 82.8248 Q1202.46 83.6755 1205.78 83.6755 Q1213.11 83.6755 1216.76 79.8271 Q1220.41 76.0193 1220.41 68.282 L1220.41 64.5957 Q1218.1 68.6061 1214.49 70.5911 Q1210.89 72.576 1205.86 72.576 Q1197.52 72.576 1192.41 66.2161 Q1187.31 59.8562 1187.31 49.3643 Q1187.31 38.832 1192.41 32.472 Q1197.52 26.1121 1205.86 26.1121 Q1210.89 26.1121 1214.49 28.0971 Q1218.1 30.082 1220.41 34.0924 L1220.41 27.2059 L1227.86 27.2059 L1227.86 66.9452 Z\" fill=\"#000000\" fill-rule=\"evenodd\" fill-opacity=\"1\" /><path clip-path=\"url(#clip500)\" d=\"M1262.09 76.7889 Q1258.93 84.8907 1255.93 87.3618 Q1252.93 89.8329 1247.91 89.8329 L1241.96 89.8329 L1241.96 83.5945 L1246.33 83.5945 Q1249.41 83.5945 1251.11 82.1361 Q1252.81 80.6778 1254.88 75.2496 L1256.22 71.8468 L1237.87 27.2059 L1245.76 27.2059 L1259.94 62.6918 L1274.12 27.2059 L1282.02 27.2059 L1262.09 76.7889 Z\" fill=\"#000000\" fill-rule=\"evenodd\" fill-opacity=\"1\" /><path clip-path=\"url(#clip500)\" d=\"M1327.19 43.6931 L1327.19 65.8515 L1340.31 65.8515 Q1346.92 65.8515 1350.08 63.1374 Q1353.28 60.3828 1353.28 54.752 Q1353.28 49.0808 1350.08 46.4072 Q1346.92 43.6931 1340.31 43.6931 L1327.19 43.6931 M1327.19 18.8205 L1327.19 37.0496 L1339.3 37.0496 Q1345.3 37.0496 1348.21 34.8216 Q1351.17 32.5531 1351.17 27.935 Q1351.17 23.3575 1348.21 21.089 Q1345.3 18.8205 1339.3 18.8205 L1327.19 18.8205 M1319 12.096 L1339.91 12.096 Q1349.27 12.096 1354.33 15.9849 Q1359.39 19.8737 1359.39 27.0438 Q1359.39 32.5936 1356.8 35.8748 Q1354.21 39.156 1349.18 39.9662 Q1355.22 41.2625 1358.54 45.3944 Q1361.9 49.4858 1361.9 55.6432 Q1361.9 63.745 1356.39 68.1605 Q1350.89 72.576 1340.72 72.576 L1319 72.576 L1319 12.096 Z\" fill=\"#000000\" fill-rule=\"evenodd\" fill-opacity=\"1\" /><path clip-path=\"url(#clip500)\" d=\"M1396.22 49.7694 Q1387.18 49.7694 1383.7 51.8354 Q1380.21 53.9013 1380.21 58.8839 Q1380.21 62.8538 1382.81 65.2034 Q1385.44 67.5124 1389.94 67.5124 Q1396.13 67.5124 1399.86 63.1374 Q1403.63 58.7219 1403.63 51.4303 L1403.63 49.7694 L1396.22 49.7694 M1411.08 46.6907 L1411.08 72.576 L1403.63 72.576 L1403.63 65.6895 Q1401.08 69.8214 1397.27 71.8063 Q1393.46 73.7508 1387.95 73.7508 Q1380.98 73.7508 1376.85 69.8619 Q1372.76 65.9325 1372.76 59.3701 Q1372.76 51.7138 1377.86 47.825 Q1383.01 43.9361 1393.18 43.9361 L1403.63 43.9361 L1403.63 43.2069 Q1403.63 38.0623 1400.23 35.2672 Q1396.86 32.4315 1390.75 32.4315 Q1386.86 32.4315 1383.17 33.3632 Q1379.48 34.295 1376.08 36.1584 L1376.08 29.2718 Q1380.17 27.692 1384.02 26.9223 Q1387.87 26.1121 1391.52 26.1121 Q1401.36 26.1121 1406.22 31.2163 Q1411.08 36.3204 1411.08 46.6907 Z\" fill=\"#000000\" fill-rule=\"evenodd\" fill-opacity=\"1\" /><path clip-path=\"url(#clip500)\" d=\"M1464.15 45.1919 L1464.15 72.576 L1456.7 72.576 L1456.7 45.4349 Q1456.7 38.994 1454.18 35.7938 Q1451.67 32.5936 1446.65 32.5936 Q1440.61 32.5936 1437.13 36.4419 Q1433.65 40.2903 1433.65 46.9338 L1433.65 72.576 L1426.15 72.576 L1426.15 27.2059 L1433.65 27.2059 L1433.65 34.2544 Q1436.32 30.163 1439.92 28.1376 Q1443.57 26.1121 1448.31 26.1121 Q1456.13 26.1121 1460.14 30.9732 Q1464.15 35.7938 1464.15 45.1919 Z\" fill=\"#000000\" fill-rule=\"evenodd\" fill-opacity=\"1\" /><path clip-path=\"url(#clip500)\" d=\"M1508.87 34.0924 L1508.87 9.54393 L1516.32 9.54393 L1516.32 72.576 L1508.87 72.576 L1508.87 65.7705 Q1506.52 69.8214 1502.92 71.8063 Q1499.35 73.7508 1494.33 73.7508 Q1486.1 73.7508 1480.92 67.1883 Q1475.77 60.6258 1475.77 49.9314 Q1475.77 39.2371 1480.92 32.6746 Q1486.1 26.1121 1494.33 26.1121 Q1499.35 26.1121 1502.92 28.0971 Q1506.52 30.0415 1508.87 34.0924 M1483.47 49.9314 Q1483.47 58.1548 1486.83 62.8538 Q1490.24 67.5124 1496.15 67.5124 Q1502.07 67.5124 1505.47 62.8538 Q1508.87 58.1548 1508.87 49.9314 Q1508.87 41.7081 1505.47 37.0496 Q1502.07 32.3505 1496.15 32.3505 Q1490.24 32.3505 1486.83 37.0496 Q1483.47 41.7081 1483.47 49.9314 Z\" fill=\"#000000\" fill-rule=\"evenodd\" fill-opacity=\"1\" /><path clip-path=\"url(#clip500)\" d=\"M1560.6 28.5427 L1560.6 35.5912 Q1557.44 33.9709 1554.04 33.1607 Q1550.64 32.3505 1546.99 32.3505 Q1541.44 32.3505 1538.64 34.0519 Q1535.89 35.7533 1535.89 39.156 Q1535.89 41.7486 1537.88 43.2475 Q1539.86 44.7058 1545.86 46.0426 L1548.41 46.6097 Q1556.35 48.3111 1559.67 51.4303 Q1563.03 54.509 1563.03 60.0587 Q1563.03 66.3781 1558.01 70.0644 Q1553.03 73.7508 1544.28 73.7508 Q1540.63 73.7508 1536.66 73.0216 Q1532.73 72.3329 1528.36 70.9151 L1528.36 63.2184 Q1532.49 65.3654 1536.5 66.4591 Q1540.51 67.5124 1544.44 67.5124 Q1549.7 67.5124 1552.54 65.73 Q1555.38 63.9071 1555.38 60.6258 Q1555.38 57.5877 1553.31 55.9673 Q1551.28 54.3469 1544.36 52.8481 L1541.76 52.2405 Q1534.84 50.7821 1531.76 47.7845 Q1528.68 44.7463 1528.68 39.4801 Q1528.68 33.0797 1533.22 29.5959 Q1537.75 26.1121 1546.1 26.1121 Q1550.23 26.1121 1553.88 26.7198 Q1557.52 27.3274 1560.6 28.5427 Z\" fill=\"#000000\" fill-rule=\"evenodd\" fill-opacity=\"1\" /><circle clip-path=\"url(#clip502)\" cx=\"273.033\" cy=\"1386.4\" r=\"14.4\" fill=\"#009af9\" fill-rule=\"evenodd\" fill-opacity=\"1\" stroke=\"#000000\" stroke-opacity=\"1\" stroke-width=\"3.2\"/>\n",
       "<circle clip-path=\"url(#clip502)\" cx=\"330.723\" cy=\"1386.4\" r=\"14.4\" fill=\"#009af9\" fill-rule=\"evenodd\" fill-opacity=\"1\" stroke=\"#000000\" stroke-opacity=\"1\" stroke-width=\"3.2\"/>\n",
       "<circle clip-path=\"url(#clip502)\" cx=\"388.413\" cy=\"1386.4\" r=\"14.4\" fill=\"#009af9\" fill-rule=\"evenodd\" fill-opacity=\"1\" stroke=\"#000000\" stroke-opacity=\"1\" stroke-width=\"3.2\"/>\n",
       "<circle clip-path=\"url(#clip502)\" cx=\"446.103\" cy=\"1239.85\" r=\"14.4\" fill=\"#009af9\" fill-rule=\"evenodd\" fill-opacity=\"1\" stroke=\"#000000\" stroke-opacity=\"1\" stroke-width=\"3.2\"/>\n",
       "<circle clip-path=\"url(#clip502)\" cx=\"503.793\" cy=\"1239.85\" r=\"14.4\" fill=\"#009af9\" fill-rule=\"evenodd\" fill-opacity=\"1\" stroke=\"#000000\" stroke-opacity=\"1\" stroke-width=\"3.2\"/>\n",
       "<circle clip-path=\"url(#clip502)\" cx=\"561.483\" cy=\"1239.85\" r=\"14.4\" fill=\"#009af9\" fill-rule=\"evenodd\" fill-opacity=\"1\" stroke=\"#000000\" stroke-opacity=\"1\" stroke-width=\"3.2\"/>\n",
       "<circle clip-path=\"url(#clip502)\" cx=\"619.173\" cy=\"906.771\" r=\"14.4\" fill=\"#009af9\" fill-rule=\"evenodd\" fill-opacity=\"1\" stroke=\"#000000\" stroke-opacity=\"1\" stroke-width=\"3.2\"/>\n",
       "<circle clip-path=\"url(#clip502)\" cx=\"676.863\" cy=\"906.771\" r=\"14.4\" fill=\"#009af9\" fill-rule=\"evenodd\" fill-opacity=\"1\" stroke=\"#000000\" stroke-opacity=\"1\" stroke-width=\"3.2\"/>\n",
       "<circle clip-path=\"url(#clip502)\" cx=\"734.553\" cy=\"906.771\" r=\"14.4\" fill=\"#009af9\" fill-rule=\"evenodd\" fill-opacity=\"1\" stroke=\"#000000\" stroke-opacity=\"1\" stroke-width=\"3.2\"/>\n",
       "<circle clip-path=\"url(#clip502)\" cx=\"792.243\" cy=\"875.442\" r=\"14.4\" fill=\"#009af9\" fill-rule=\"evenodd\" fill-opacity=\"1\" stroke=\"#000000\" stroke-opacity=\"1\" stroke-width=\"3.2\"/>\n",
       "<circle clip-path=\"url(#clip502)\" cx=\"849.933\" cy=\"875.442\" r=\"14.4\" fill=\"#009af9\" fill-rule=\"evenodd\" fill-opacity=\"1\" stroke=\"#000000\" stroke-opacity=\"1\" stroke-width=\"3.2\"/>\n",
       "<circle clip-path=\"url(#clip502)\" cx=\"907.623\" cy=\"875.442\" r=\"14.4\" fill=\"#009af9\" fill-rule=\"evenodd\" fill-opacity=\"1\" stroke=\"#000000\" stroke-opacity=\"1\" stroke-width=\"3.2\"/>\n",
       "<circle clip-path=\"url(#clip502)\" cx=\"965.313\" cy=\"778.908\" r=\"14.4\" fill=\"#009af9\" fill-rule=\"evenodd\" fill-opacity=\"1\" stroke=\"#000000\" stroke-opacity=\"1\" stroke-width=\"3.2\"/>\n",
       "<circle clip-path=\"url(#clip502)\" cx=\"1023\" cy=\"778.908\" r=\"14.4\" fill=\"#009af9\" fill-rule=\"evenodd\" fill-opacity=\"1\" stroke=\"#000000\" stroke-opacity=\"1\" stroke-width=\"3.2\"/>\n",
       "<circle clip-path=\"url(#clip502)\" cx=\"1080.69\" cy=\"778.908\" r=\"14.4\" fill=\"#009af9\" fill-rule=\"evenodd\" fill-opacity=\"1\" stroke=\"#000000\" stroke-opacity=\"1\" stroke-width=\"3.2\"/>\n",
       "<circle clip-path=\"url(#clip502)\" cx=\"1138.38\" cy=\"765.886\" r=\"14.4\" fill=\"#009af9\" fill-rule=\"evenodd\" fill-opacity=\"1\" stroke=\"#000000\" stroke-opacity=\"1\" stroke-width=\"3.2\"/>\n",
       "<circle clip-path=\"url(#clip502)\" cx=\"1196.07\" cy=\"765.886\" r=\"14.4\" fill=\"#009af9\" fill-rule=\"evenodd\" fill-opacity=\"1\" stroke=\"#000000\" stroke-opacity=\"1\" stroke-width=\"3.2\"/>\n",
       "<circle clip-path=\"url(#clip502)\" cx=\"1253.76\" cy=\"765.886\" r=\"14.4\" fill=\"#009af9\" fill-rule=\"evenodd\" fill-opacity=\"1\" stroke=\"#000000\" stroke-opacity=\"1\" stroke-width=\"3.2\"/>\n",
       "<circle clip-path=\"url(#clip502)\" cx=\"1311.45\" cy=\"592.999\" r=\"14.4\" fill=\"#009af9\" fill-rule=\"evenodd\" fill-opacity=\"1\" stroke=\"#000000\" stroke-opacity=\"1\" stroke-width=\"3.2\"/>\n",
       "<circle clip-path=\"url(#clip502)\" cx=\"1369.14\" cy=\"592.999\" r=\"14.4\" fill=\"#009af9\" fill-rule=\"evenodd\" fill-opacity=\"1\" stroke=\"#000000\" stroke-opacity=\"1\" stroke-width=\"3.2\"/>\n",
       "<circle clip-path=\"url(#clip502)\" cx=\"1426.83\" cy=\"592.999\" r=\"14.4\" fill=\"#009af9\" fill-rule=\"evenodd\" fill-opacity=\"1\" stroke=\"#000000\" stroke-opacity=\"1\" stroke-width=\"3.2\"/>\n",
       "<circle clip-path=\"url(#clip502)\" cx=\"1484.52\" cy=\"475.187\" r=\"14.4\" fill=\"#009af9\" fill-rule=\"evenodd\" fill-opacity=\"1\" stroke=\"#000000\" stroke-opacity=\"1\" stroke-width=\"3.2\"/>\n",
       "<circle clip-path=\"url(#clip502)\" cx=\"1542.21\" cy=\"475.187\" r=\"14.4\" fill=\"#009af9\" fill-rule=\"evenodd\" fill-opacity=\"1\" stroke=\"#000000\" stroke-opacity=\"1\" stroke-width=\"3.2\"/>\n",
       "<circle clip-path=\"url(#clip502)\" cx=\"1599.9\" cy=\"475.187\" r=\"14.4\" fill=\"#009af9\" fill-rule=\"evenodd\" fill-opacity=\"1\" stroke=\"#000000\" stroke-opacity=\"1\" stroke-width=\"3.2\"/>\n",
       "<circle clip-path=\"url(#clip502)\" cx=\"1657.59\" cy=\"431.674\" r=\"14.4\" fill=\"#009af9\" fill-rule=\"evenodd\" fill-opacity=\"1\" stroke=\"#000000\" stroke-opacity=\"1\" stroke-width=\"3.2\"/>\n",
       "<circle clip-path=\"url(#clip502)\" cx=\"1715.28\" cy=\"431.674\" r=\"14.4\" fill=\"#009af9\" fill-rule=\"evenodd\" fill-opacity=\"1\" stroke=\"#000000\" stroke-opacity=\"1\" stroke-width=\"3.2\"/>\n",
       "<circle clip-path=\"url(#clip502)\" cx=\"1772.97\" cy=\"431.674\" r=\"14.4\" fill=\"#009af9\" fill-rule=\"evenodd\" fill-opacity=\"1\" stroke=\"#000000\" stroke-opacity=\"1\" stroke-width=\"3.2\"/>\n",
       "<circle clip-path=\"url(#clip502)\" cx=\"1830.66\" cy=\"288.698\" r=\"14.4\" fill=\"#009af9\" fill-rule=\"evenodd\" fill-opacity=\"1\" stroke=\"#000000\" stroke-opacity=\"1\" stroke-width=\"3.2\"/>\n",
       "<circle clip-path=\"url(#clip502)\" cx=\"1888.35\" cy=\"288.698\" r=\"14.4\" fill=\"#009af9\" fill-rule=\"evenodd\" fill-opacity=\"1\" stroke=\"#000000\" stroke-opacity=\"1\" stroke-width=\"3.2\"/>\n",
       "<circle clip-path=\"url(#clip502)\" cx=\"1946.04\" cy=\"288.698\" r=\"14.4\" fill=\"#009af9\" fill-rule=\"evenodd\" fill-opacity=\"1\" stroke=\"#000000\" stroke-opacity=\"1\" stroke-width=\"3.2\"/>\n",
       "<circle clip-path=\"url(#clip502)\" cx=\"2003.73\" cy=\"201.708\" r=\"14.4\" fill=\"#009af9\" fill-rule=\"evenodd\" fill-opacity=\"1\" stroke=\"#000000\" stroke-opacity=\"1\" stroke-width=\"3.2\"/>\n",
       "<circle clip-path=\"url(#clip502)\" cx=\"2061.42\" cy=\"201.708\" r=\"14.4\" fill=\"#009af9\" fill-rule=\"evenodd\" fill-opacity=\"1\" stroke=\"#000000\" stroke-opacity=\"1\" stroke-width=\"3.2\"/>\n",
       "<circle clip-path=\"url(#clip502)\" cx=\"2119.11\" cy=\"201.708\" r=\"14.4\" fill=\"#009af9\" fill-rule=\"evenodd\" fill-opacity=\"1\" stroke=\"#000000\" stroke-opacity=\"1\" stroke-width=\"3.2\"/>\n",
       "<circle clip-path=\"url(#clip502)\" cx=\"2176.8\" cy=\"160.256\" r=\"14.4\" fill=\"#009af9\" fill-rule=\"evenodd\" fill-opacity=\"1\" stroke=\"#000000\" stroke-opacity=\"1\" stroke-width=\"3.2\"/>\n",
       "<circle clip-path=\"url(#clip502)\" cx=\"2234.49\" cy=\"160.256\" r=\"14.4\" fill=\"#009af9\" fill-rule=\"evenodd\" fill-opacity=\"1\" stroke=\"#000000\" stroke-opacity=\"1\" stroke-width=\"3.2\"/>\n",
       "<circle clip-path=\"url(#clip502)\" cx=\"2292.18\" cy=\"160.256\" r=\"14.4\" fill=\"#009af9\" fill-rule=\"evenodd\" fill-opacity=\"1\" stroke=\"#000000\" stroke-opacity=\"1\" stroke-width=\"3.2\"/>\n",
       "</svg>\n"
      ]
     },
     "metadata": {},
     "output_type": "display_data"
    },
    {
     "name": "stdout",
     "output_type": "stream",
     "text": [
      "Chern Number is: 0.9999999999999994 + 5.107661597836391e-17im"
     ]
    }
   ],
   "source": [
    "Nx=3; Ny=3; N=Nx*Ny; q=Ny; PN=2; TSize=5\n",
    "PlotBands = true\n",
    "n1 = 1\n",
    "n2 = 3\n",
    "Chern(Nx::Int64, Ny::Int64, alpha, TSize::Int64, PN::Int64, PlotBands::Bool, n1::Int64, n2::Int64)"
   ]
  },
  {
   "cell_type": "markdown",
   "id": "a638856e-0f25-4a8e-96f6-f31637e49ee2",
   "metadata": {},
   "source": [
    "# Check with \"Hofstadter FBA Chern Numbers\" file"
   ]
  },
  {
   "cell_type": "code",
   "execution_count": 11,
   "id": "a017bbe4-692c-44d2-b972-63f53ceffd09",
   "metadata": {},
   "outputs": [
    {
     "name": "stdout",
     "output_type": "stream",
     "text": [
      "0.9809160820440624 + 0.19443158176419312im\n",
      "-0.5779056111859718 - 0.8161036114120365im\n",
      "-0.7713119060306723 - 0.6364573384095207im\n"
     ]
    },
    {
     "data": {
      "text/plain": [
       "9×9 Matrix{ComplexF64}:\n",
       " -0.147471+0.0656584im     -0.457078+0.0882541im  …   -0.182417-0.465181im\n",
       " -0.108016+0.119964im     -0.0339319+0.339055im        0.183004+0.519911im\n",
       "  0.279226+0.362548im       0.148272+0.233568im       0.0130477-0.444643im\n",
       "  0.130597-0.0948846im     -0.333868+0.131345im       0.0269058+0.0550627im\n",
       " -0.161427-3.59034e-17im    0.198994+0.0482746im     -0.0343644-0.294833im\n",
       "  0.431089+0.153526im     -0.0375862+0.0152434im  …  -0.0901528+0.120994im\n",
       "  0.267535+0.0152501im     -0.292739+0.382597im         0.22277+0.071743im\n",
       " -0.207476+0.169591im       0.418671+0.104825im       -0.184821+0.21235im\n",
       "   0.57735+0.0im                 0.0+0.0im                  0.0+0.0im"
      ]
     },
     "execution_count": 11,
     "metadata": {},
     "output_type": "execute_result"
    }
   ],
   "source": [
    "pn = 1\n",
    "tx = 3\n",
    "ty = 5\n",
    "#---\n",
    "op = Op_Sp(Nx, Ny, 1/q, Tx[tx], Ty[ty])\n",
    "H_mb = get_mb_op(basis_mb, op)\n",
    "w1, v1 = eigen(dense(H_mb).data)\n",
    "i = sortperm(w1, by=real);w1 = w1[i];v1 = v1[:,i]\n",
    "#---\n",
    "op = Op_Sp(Nx, Ny, 1/q, Tx[tx]+dx, Ty[ty])\n",
    "H_mb = get_mb_op(basis_mb, op)\n",
    "w2, v2 = eigen(dense(H_mb).data)\n",
    "i = sortperm(w2, by=real);w2 = w2[i];v2 = v2[:,i]\n",
    "#---\n",
    "op = Op_Sp(Nx, Ny, 1/q, Tx[tx], Ty[ty]+dy)\n",
    "H_mb = get_mb_op(basis_mb, op)\n",
    "w3, v3 = eigen(dense(H_mb).data)\n",
    "i = sortperm(w3, by=real);w3 = w3[i];v3 = v3[:,i]\n",
    "#---\n",
    "op = Op_Sp(Nx, Ny, 1/q, Tx[tx]+dx, Ty[ty]+dy)\n",
    "H_mb = get_mb_op(basis_mb, op)\n",
    "w4, v4 = eigen(dense(H_mb).data)\n",
    "i = sortperm(w4, by=real);w4 = w4[i];v4 = v4[:,i]\n",
    "#---\n",
    "U1=det(adjoint(v1)*v2)\n",
    "U1=U1/abs(U1)\n",
    "println(U1)\n",
    "U2=det(adjoint(v2)*v4)\n",
    "U2=U2/abs(U2)\n",
    "println(U2)\n",
    "U3=det(adjoint(v3)*v4)\n",
    "U3=U3/abs(U3)\n",
    "println(U3)\n",
    "U4=det(adjoint(v1)*v3)\n",
    "U4=U4/abs(U4)\n",
    "v1"
   ]
  },
  {
   "cell_type": "code",
   "execution_count": 14,
   "id": "1d8892a7-46af-4f89-8636-bec42ef3e121",
   "metadata": {},
   "outputs": [
    {
     "data": {
      "text/plain": [
       "9-element Vector{Float64}:\n",
       " -2.361468766185822\n",
       " -2.361468766185821\n",
       " -2.36146876618582\n",
       " -0.1674491911085343\n",
       " -0.16744919110853385\n",
       " -0.1674491911085325\n",
       "  2.5289179572943614\n",
       "  2.528917957294362\n",
       "  2.528917957294362"
      ]
     },
     "execution_count": 14,
     "metadata": {},
     "output_type": "execute_result"
    }
   ],
   "source": [
    "w1"
   ]
  },
  {
   "cell_type": "code",
   "execution_count": 23,
   "id": "5616e7d4-7cc7-473b-9fc4-d941dab74baa",
   "metadata": {
    "tags": []
   },
   "outputs": [
    {
     "data": {
      "text/plain": [
       "9-element Vector{ComplexF64}:\n",
       " -0.18241671659639822 - 0.4651806321186302im\n",
       "  0.18300426082588966 + 0.5199111999766637im\n",
       " 0.013047736325309464 - 0.4446432643394994im\n",
       " 0.026905769636793052 + 0.055062744526548135im\n",
       " -0.03436435922413883 - 0.2948328103346958im\n",
       " -0.09015282409414997 + 0.12099424317644919im\n",
       "   0.2227697963997299 + 0.07174304027985492im\n",
       "  -0.1848214956621234 + 0.21234956642753136im\n",
       "                  0.0 + 0.0im"
      ]
     },
     "execution_count": 23,
     "metadata": {},
     "output_type": "execute_result"
    }
   ],
   "source": [
    "v1[:,9]"
   ]
  },
  {
   "cell_type": "code",
   "execution_count": 18,
   "id": "fe3b8214-4319-4987-accb-6b544bd1ef7f",
   "metadata": {
    "tags": []
   },
   "outputs": [
    {
     "ename": "LoadError",
     "evalue": "UndefVarError: w1 not defined",
     "output_type": "error",
     "traceback": [
      "UndefVarError: w1 not defined",
      "",
      "Stacktrace:",
      " [1] top-level scope",
      "   @ :0",
      " [2] eval",
      "   @ .\\boot.jl:373 [inlined]",
      " [3] include_string(mapexpr::typeof(REPL.softscope), mod::Module, code::String, filename::String)",
      "   @ Base .\\loading.jl:1196"
     ]
    }
   ],
   "source": [
    "w1"
   ]
  },
  {
   "cell_type": "code",
   "execution_count": 19,
   "id": "ad60cf60-4ff0-44d4-86bf-b5899b71627d",
   "metadata": {
    "tags": []
   },
   "outputs": [
    {
     "ename": "LoadError",
     "evalue": "UndefVarError: w2 not defined",
     "output_type": "error",
     "traceback": [
      "UndefVarError: w2 not defined",
      "",
      "Stacktrace:",
      " [1] top-level scope",
      "   @ :0",
      " [2] eval",
      "   @ .\\boot.jl:373 [inlined]",
      " [3] include_string(mapexpr::typeof(REPL.softscope), mod::Module, code::String, filename::String)",
      "   @ Base .\\loading.jl:1196"
     ]
    }
   ],
   "source": [
    "w2"
   ]
  },
  {
   "cell_type": "code",
   "execution_count": 20,
   "id": "50be0f08-fde4-4b11-925e-81e95997366d",
   "metadata": {},
   "outputs": [
    {
     "ename": "LoadError",
     "evalue": "UndefVarError: w3 not defined",
     "output_type": "error",
     "traceback": [
      "UndefVarError: w3 not defined",
      "",
      "Stacktrace:",
      " [1] top-level scope",
      "   @ :0",
      " [2] eval",
      "   @ .\\boot.jl:373 [inlined]",
      " [3] include_string(mapexpr::typeof(REPL.softscope), mod::Module, code::String, filename::String)",
      "   @ Base .\\loading.jl:1196"
     ]
    }
   ],
   "source": [
    "w3"
   ]
  },
  {
   "cell_type": "code",
   "execution_count": 21,
   "id": "7f4be3e5-892f-41a0-8863-8c55e5f4e5cc",
   "metadata": {},
   "outputs": [
    {
     "ename": "LoadError",
     "evalue": "UndefVarError: w4 not defined",
     "output_type": "error",
     "traceback": [
      "UndefVarError: w4 not defined",
      "",
      "Stacktrace:",
      " [1] top-level scope",
      "   @ :0",
      " [2] eval",
      "   @ .\\boot.jl:373 [inlined]",
      " [3] include_string(mapexpr::typeof(REPL.softscope), mod::Module, code::String, filename::String)",
      "   @ Base .\\loading.jl:1196"
     ]
    }
   ],
   "source": [
    "w4"
   ]
  },
  {
   "cell_type": "code",
   "execution_count": 22,
   "id": "b7f176cc-af0c-4034-828c-04d7c22b221b",
   "metadata": {
    "tags": []
   },
   "outputs": [
    {
     "ename": "LoadError",
     "evalue": "UndefVarError: v1 not defined",
     "output_type": "error",
     "traceback": [
      "UndefVarError: v1 not defined",
      "",
      "Stacktrace:",
      " [1] top-level scope",
      "   @ In[22]:1",
      " [2] eval",
      "   @ .\\boot.jl:373 [inlined]",
      " [3] include_string(mapexpr::typeof(REPL.softscope), mod::Module, code::String, filename::String)",
      "   @ Base .\\loading.jl:1196"
     ]
    }
   ],
   "source": [
    "det(v1'*v2)"
   ]
  },
  {
   "cell_type": "code",
   "execution_count": 23,
   "id": "11ebabd7-39ed-426a-b67f-acdd0e0e4adb",
   "metadata": {},
   "outputs": [
    {
     "ename": "LoadError",
     "evalue": "UndefVarError: v1 not defined",
     "output_type": "error",
     "traceback": [
      "UndefVarError: v1 not defined",
      "",
      "Stacktrace:",
      " [1] top-level scope",
      "   @ :0",
      " [2] eval",
      "   @ .\\boot.jl:373 [inlined]",
      " [3] include_string(mapexpr::typeof(REPL.softscope), mod::Module, code::String, filename::String)",
      "   @ Base .\\loading.jl:1196"
     ]
    }
   ],
   "source": [
    "v1"
   ]
  },
  {
   "cell_type": "code",
   "execution_count": 24,
   "id": "7512f4dd-9a2d-4a93-9173-02dd70a5a0f8",
   "metadata": {},
   "outputs": [
    {
     "ename": "LoadError",
     "evalue": "UndefVarError: v2 not defined",
     "output_type": "error",
     "traceback": [
      "UndefVarError: v2 not defined",
      "",
      "Stacktrace:",
      " [1] top-level scope",
      "   @ :0",
      " [2] eval",
      "   @ .\\boot.jl:373 [inlined]",
      " [3] include_string(mapexpr::typeof(REPL.softscope), mod::Module, code::String, filename::String)",
      "   @ Base .\\loading.jl:1196"
     ]
    }
   ],
   "source": [
    "v2"
   ]
  },
  {
   "cell_type": "code",
   "execution_count": 25,
   "id": "1b15374c-df23-4c9a-b84c-2b86b8b99b41",
   "metadata": {},
   "outputs": [
    {
     "ename": "LoadError",
     "evalue": "UndefVarError: v1 not defined",
     "output_type": "error",
     "traceback": [
      "UndefVarError: v1 not defined",
      "",
      "Stacktrace:",
      " [1] top-level scope",
      "   @ In[25]:1",
      " [2] eval",
      "   @ .\\boot.jl:373 [inlined]",
      " [3] include_string(mapexpr::typeof(REPL.softscope), mod::Module, code::String, filename::String)",
      "   @ Base .\\loading.jl:1196"
     ]
    }
   ],
   "source": [
    "v1'*v2"
   ]
  },
  {
   "cell_type": "code",
   "execution_count": null,
   "id": "2cd0fb8a-defa-427a-8960-caa2f5139bc3",
   "metadata": {},
   "outputs": [],
   "source": []
  }
 ],
 "metadata": {
  "kernelspec": {
   "display_name": "Julia 1.7.2",
   "language": "julia",
   "name": "julia-1.7"
  },
  "language_info": {
   "file_extension": ".jl",
   "mimetype": "application/julia",
   "name": "julia",
   "version": "1.7.2"
  }
 },
 "nbformat": 4,
 "nbformat_minor": 5
}
