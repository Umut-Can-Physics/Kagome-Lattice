{
 "cells": [
  {
   "cell_type": "code",
   "execution_count": 2,
   "id": "married-chemical",
   "metadata": {
    "tags": []
   },
   "outputs": [
    {
     "data": {
      "text/plain": [
       "neighbors (generic function with 1 method)"
      ]
     },
     "execution_count": 2,
     "metadata": {},
     "output_type": "execute_result"
    }
   ],
   "source": [
    "using NBInclude\n",
    "@nbinclude(\"Hofstadter Single Particle in Julia.ipynb\"; regex=r\"#.*executeme\")"
   ]
  },
  {
   "cell_type": "code",
   "execution_count": 8,
   "id": "jewish-ending",
   "metadata": {
    "tags": []
   },
   "outputs": [
    {
     "data": {
      "text/plain": [
       "HSP_T (generic function with 2 methods)"
      ]
     },
     "execution_count": 8,
     "metadata": {},
     "output_type": "execute_result"
    }
   ],
   "source": [
    "# Single-Particle Hamiltonian with Twisted Angle (Bound-to-Bound Phases)\n",
    "\n",
    "function HSP_T(Nx, Ny, alpha, Tx, Ty, periodicity)\n",
    "\n",
    "    neig = neighbors(Nx, Ny, 0)\n",
    "    coordinates = square_lattice(Nx, Ny)[2]\n",
    "    \n",
    "    H = zeros(Complex{Float64},Nx*Ny,Nx*Ny)\n",
    "    \n",
    "    for m in 1:Nx*Ny\n",
    "        for n in 1:Nx*Ny\n",
    "            if m in neig[n] \n",
    "                \n",
    "                if abs(coordinates[m,1]-coordinates[n,1])==Nx-1\n",
    "                    if coordinates[m,1] > coordinates[n,1]\n",
    "                        H[m,n] = -exp(-1im*2*pi*alpha*coordinates[m,2])*exp(-1im*Tx)\n",
    "                    elseif coordinates[m,1] < coordinates[n,1]\n",
    "                        H[m,n] = -exp(1im*2*pi*alpha*coordinates[m,2])*exp(1im*Tx)\n",
    "                    end\n",
    "                    \n",
    "                elseif abs(coordinates[m,2]-coordinates[n,2])==Ny-1\n",
    "                    if coordinates[m,2] > coordinates[n,2]\n",
    "                        H[m,n] = -exp(1im*Ty)\n",
    "                    elseif coordinates[m,2] < coordinates[n,2]\n",
    "                        H[m,n] = -exp(-1im*Ty)\n",
    "                    end\n",
    "                    \n",
    "                else\n",
    "                    if coordinates[m,1] > coordinates[n,1]\n",
    "                        H[m,n] = -exp(1im*2*pi*alpha*coordinates[m,2])\n",
    "                    elseif coordinates[m,1] < coordinates[n,1]\n",
    "                        H[m,n] = -exp(-1im*2*pi*alpha*coordinates[m,2])\n",
    "                    else\n",
    "                        H[m,n] = -exp(0)\n",
    "                    end\n",
    "                end\n",
    "                \n",
    "            else\n",
    "                H[m,n] = 0\n",
    "            end\n",
    "            \n",
    "        end\n",
    "    end\n",
    "    return H\n",
    "end"
   ]
  },
  {
   "cell_type": "code",
   "execution_count": null,
   "id": "foster-maine",
   "metadata": {},
   "outputs": [],
   "source": []
  }
 ],
 "metadata": {
  "kernelspec": {
   "display_name": "Julia 1.8.5",
   "language": "julia",
   "name": "julia-1.8"
  },
  "language_info": {
   "file_extension": ".jl",
   "mimetype": "application/julia",
   "name": "julia",
   "version": "1.8.5"
  }
 },
 "nbformat": 4,
 "nbformat_minor": 5
}
