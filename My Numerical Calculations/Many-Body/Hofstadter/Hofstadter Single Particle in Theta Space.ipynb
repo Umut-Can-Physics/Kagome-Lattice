{
 "cells": [
  {
   "cell_type": "code",
   "execution_count": 5,
   "id": "2f74f09f-1cd3-48af-b21c-1bb02eb4a07f",
   "metadata": {
    "tags": []
   },
   "outputs": [
    {
     "data": {
      "text/plain": [
       "Square_Lattice (generic function with 1 method)"
      ]
     },
     "execution_count": 5,
     "metadata": {},
     "output_type": "execute_result"
    }
   ],
   "source": [
    "using OffsetArrays\n",
    "    \n",
    "function Square_Lattice(Nx,Ny)\n",
    "\n",
    "    lat = range(1,Nx*Ny)\n",
    "    latt = reshape(lat, (Nx,Ny))\n",
    "    lattice = OffsetArray(latt, 0:Nx-1, 0:Ny-1)\n",
    "\n",
    "    x_co = range(0, Nx-1) \n",
    "    y_co = range(0, Ny-1)\n",
    "\n",
    "    arr = []\n",
    "    for i in 1:length(x_co)\n",
    "        for j in 1:length(y_co)\n",
    "            arr = [arr;x_co[i];y_co[j]]\n",
    "        end\n",
    "    end\n",
    "\n",
    "    coordinates = reshape(arr, (2,Nx*Ny)) |> transpose\n",
    "\n",
    "    return lattice, coordinates\n",
    "end"
   ]
  },
  {
   "cell_type": "code",
   "execution_count": 6,
   "id": "a823a3a1-fb44-45d1-882d-d4f1b70285a3",
   "metadata": {
    "tags": []
   },
   "outputs": [
    {
     "data": {
      "text/plain": [
       "Neighbors (generic function with 1 method)"
      ]
     },
     "execution_count": 6,
     "metadata": {},
     "output_type": "execute_result"
    }
   ],
   "source": [
    "function Neighbors(Nx, Ny)\n",
    "    \n",
    "square_lattice = Square_Lattice(Nx,Ny)[1]\n",
    "neighbors = []\n",
    "   \n",
    "    for i in 0:Nx-1\n",
    "        for j in 0:Ny-1\n",
    "            x = [square_lattice[mod(j,Ny),mod(i-1,Nx)],square_lattice[mod(j+1,Ny),mod(i,Nx)],square_lattice[mod(j,Ny),mod(i+1,Nx)],square_lattice[mod(j-1,Ny),mod(i,Nx)]]\n",
    "            push!(neighbors,x)\n",
    "        end\n",
    "    end\n",
    "        \n",
    "    return neighbors\n",
    "end"
   ]
  },
  {
   "cell_type": "code",
   "execution_count": 9,
   "id": "041bd658-3f94-4fff-8346-113716d34d08",
   "metadata": {
    "tags": []
   },
   "outputs": [
    {
     "data": {
      "text/plain": [
       "HSP_T (generic function with 3 methods)"
      ]
     },
     "execution_count": 9,
     "metadata": {},
     "output_type": "execute_result"
    }
   ],
   "source": [
    "# Single-Particle Hamiltonian with Twisted Angle (Bound-to-Bound Phases)\n",
    "function HSP_T(Nx, Ny, alpha, Tx,Ty)\n",
    "\n",
    "    neighbors = Neighbors(Nx, Ny)\n",
    "    coordinates = Square_Lattice(Nx, Ny)[2]\n",
    "    \n",
    "    \n",
    "    H = zeros(Complex{Float64},Nx*Ny,Nx*Ny)\n",
    "    \n",
    "    for m in 1:Nx*Ny\n",
    "        for n in 1:Nx*Ny\n",
    "            if m in neighbors[n] \n",
    "                \n",
    "                if abs(coordinates[m,1]-coordinates[n,1])==Nx-1\n",
    "                    if coordinates[m,1] > coordinates[n,1]\n",
    "                        H[m,n] = -exp(-1im*2*pi*alpha*coordinates[m,2])*exp(-1im*Tx)\n",
    "                    elseif coordinates[m,1] < coordinates[n,1]\n",
    "                        H[m,n] = -exp(1im*2*pi*alpha*coordinates[m,2])*exp(1im*Tx)\n",
    "                    end\n",
    "                    \n",
    "                elseif abs(coordinates[m,2]-coordinates[n,2])==Ny-1\n",
    "                    if coordinates[m,2] > coordinates[n,2]\n",
    "                        H[m,n] = -exp(1im*Ty)\n",
    "                    elseif coordinates[m,2] < coordinates[n,2]\n",
    "                        H[m,n] = -exp(-1im*Ty)\n",
    "                    end\n",
    "                    \n",
    "                else\n",
    "                    if coordinates[m,1] > coordinates[n,1]\n",
    "                        H[m,n] = -exp(1im*2*pi*alpha*coordinates[m,2])\n",
    "                    elseif coordinates[m,1] < coordinates[n,1]\n",
    "                        H[m,n] = -exp(-1im*2*pi*alpha*coordinates[m,2])\n",
    "                    else\n",
    "                        H[m,n] = -exp(0)\n",
    "                    end\n",
    "                end\n",
    "                \n",
    "            else\n",
    "                H[m,n] = 0\n",
    "            end\n",
    "            \n",
    "        end\n",
    "    end\n",
    "    return H\n",
    "end"
   ]
  }
 ],
 "metadata": {
  "kernelspec": {
   "display_name": "Julia 1.8.1",
   "language": "julia",
   "name": "julia-1.8"
  },
  "language_info": {
   "file_extension": ".jl",
   "mimetype": "application/julia",
   "name": "julia",
   "version": "1.8.1"
  }
 },
 "nbformat": 4,
 "nbformat_minor": 5
}
