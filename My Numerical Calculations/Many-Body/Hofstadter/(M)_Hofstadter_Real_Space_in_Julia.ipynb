{
 "cells": [
  {
   "cell_type": "code",
   "execution_count": null,
   "id": "5a0138c2",
   "metadata": {},
   "outputs": [],
   "source": [
    "using OffsetArrays"
   ]
  },
  {
   "cell_type": "code",
   "execution_count": 9,
   "id": "71477c00",
   "metadata": {},
   "outputs": [
    {
     "data": {
      "text/plain": [
       "0.2"
      ]
     },
     "execution_count": 9,
     "metadata": {},
     "output_type": "execute_result"
    }
   ],
   "source": [
    "Nx = Ny = 4\n",
    "N = Nx*Ny "
   ]
  },
  {
   "cell_type": "code",
   "execution_count": 10,
   "id": "cd132343",
   "metadata": {},
   "outputs": [
    {
     "data": {
      "text/plain": [
       "5×5 OffsetArray(reshape(::UnitRange{Int64}, 5, 5), 0:4, 0:4) with eltype Int64 with indices 0:4×0:4:\n",
       " 1   6  11  16  21\n",
       " 2   7  12  17  22\n",
       " 3   8  13  18  23\n",
       " 4   9  14  19  24\n",
       " 5  10  15  20  25"
      ]
     },
     "execution_count": 10,
     "metadata": {},
     "output_type": "execute_result"
    }
   ],
   "source": [
    "# Real Space Square Lattice\n",
    "lat = range(1,Nx*Ny)\n",
    "latt = reshape(lat, (Nx,Ny))\n",
    "lattice = OffsetArray(latt, 0:Nx-1, 0:Ny-1)\n",
    "x_co = range(0, Nx-1) \n",
    "y_co = range(0, Ny-1)\n",
    "arr = []\n",
    "for i in 1:length(x_co)\n",
    "    for j in 1:length(y_co)\n",
    "        global arr\n",
    "       arr = [arr;x_co[i];y_co[j]]\n",
    "    end\n",
    "end\n",
    "xy = reshape(arr, (2,Nx*Ny)) |> transpose\n",
    "arr = OffsetArray(arr,0:Nx*Ny*2-1)\n",
    "\n",
    "lattice"
   ]
  },
  {
   "cell_type": "code",
   "execution_count": 11,
   "id": "8df8a379",
   "metadata": {},
   "outputs": [
    {
     "data": {
      "text/plain": [
       "PerBC (generic function with 1 method)"
      ]
     },
     "execution_count": 11,
     "metadata": {},
     "output_type": "execute_result"
    }
   ],
   "source": [
    "# Periodicity Condition\n",
    "x = []\n",
    "function PerBC()\n",
    "    for i in 0:Nx-1\n",
    "        for j in 0:Ny-1\n",
    "            cc = [lattice[mod(j,Ny),mod(i-1,Nx)],lattice[mod(j+1,Ny),mod(i,Nx)],lattice[mod(j,Ny),mod(i+1,Nx)],lattice[mod(j-1,Ny),mod(i,Nx)]]\n",
    "            push!(x,cc)\n",
    "        end\n",
    "    end\n",
    "    return x\n",
    "end"
   ]
  },
  {
   "cell_type": "code",
   "execution_count": 12,
   "id": "24c33abb",
   "metadata": {},
   "outputs": [
    {
     "data": {
      "text/plain": [
       "HSP (generic function with 1 method)"
      ]
     },
     "execution_count": 12,
     "metadata": {},
     "output_type": "execute_result"
    }
   ],
   "source": [
    "# Single-Particle Hamiltonian\n",
    "function HSP(Nx,Ny,alpha)\n",
    "    H = zeros(Complex{Float64},Nx*Ny,Nx*Ny)\n",
    "    for m in 1:Nx*Ny\n",
    "        for n in 1:Nx*Ny\n",
    "            if m in PerBC()[n] \n",
    "                if abs(xy[m,1]-xy[n,1])==Nx-1\n",
    "                    if xy[m,1] > xy[n,1]\n",
    "                        H[m,n] = -exp(-1im*2*pi*alpha*xy[m,2])\n",
    "                    elseif xy[m,1] < xy[n,1]\n",
    "                        H[m,n] = -exp(1im*2*pi*alpha*xy[m,2])\n",
    "                    end\n",
    "                else\n",
    "                    if xy[m,1] > xy[n,1]\n",
    "                        H[m,n] = -exp(1im*2*pi*alpha*xy[m,2])\n",
    "                    elseif xy[m,1] < xy[n,1]\n",
    "                        H[m,n] = -exp(-1im*2*pi*alpha*xy[m,2])\n",
    "                    else\n",
    "                        H[m,n] = -exp(0)\n",
    "                    end\n",
    "                end\n",
    "            else\n",
    "                H[m,n] = 0\n",
    "            end\n",
    "        end\n",
    "    end\n",
    "    return H\n",
    "end"
   ]
  },
  {
   "cell_type": "code",
   "execution_count": 15,
   "id": "9f0c726b",
   "metadata": {},
   "outputs": [
    {
     "name": "stdout",
     "output_type": "stream",
     "text": [
      "Nx=5, Ny=5"
     ]
    }
   ],
   "source": [
    "print(\"Nx=\",Nx,\", Ny=\",Ny)"
   ]
  }
 ],
 "metadata": {
  "kernelspec": {
   "display_name": "Julia 1.8.1",
   "language": "julia",
   "name": "julia-1.8"
  },
  "language_info": {
   "file_extension": ".jl",
   "mimetype": "application/julia",
   "name": "julia",
   "version": "1.8.1"
  }
 },
 "nbformat": 4,
 "nbformat_minor": 5
}
