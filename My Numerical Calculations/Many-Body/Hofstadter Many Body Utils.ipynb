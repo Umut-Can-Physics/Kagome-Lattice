{
 "cells": [
  {
   "cell_type": "markdown",
   "id": "73107472-0b7d-4ec4-b508-fc84379a753d",
   "metadata": {},
   "source": [
    "# Module for Many Body Calculations with FBA"
   ]
  },
  {
   "cell_type": "code",
   "execution_count": 1,
   "id": "692119d5-96d4-4756-8cbd-c436223fa4f2",
   "metadata": {},
   "outputs": [
    {
     "data": {
      "text/plain": [
       "H_sp (generic function with 1 method)"
      ]
     },
     "execution_count": 1,
     "metadata": {},
     "output_type": "execute_result"
    }
   ],
   "source": [
    "function H_sp(N, Nx, Ny, p, q)\n",
    "    sp_basis = NLevelBasis(N)\n",
    "    periodicity = 0 #periodic (select 1 for hard-wall conditions)\n",
    "    sp_matrix = Hofstadter_SP(Nx, Ny, p/q, periodicity)\n",
    "    H1 = get_sp_op(sp_basis, sp_matrix)\n",
    "    return H1, sp_basis\n",
    "end"
   ]
  },
  {
   "cell_type": "code",
   "execution_count": 2,
   "id": "c3eccad8-b3b5-448b-8a64-9882d310a462",
   "metadata": {},
   "outputs": [
    {
     "data": {
      "text/plain": [
       "H_sub (generic function with 1 method)"
      ]
     },
     "execution_count": 2,
     "metadata": {},
     "output_type": "execute_result"
    }
   ],
   "source": [
    "function H_sub(N, Nx, Ny, p, q, H1, cut_off, sp_basis)\n",
    "    sub_states = get_sub_states(H1, cut_off)\n",
    "    basis_sub, P, Pt = get_projector_op(sub_states, sp_basis)\n",
    "    H1_sub = get_subspace_op(H1, P, Pt)\n",
    "    return H1_sub, basis_sub, P, Pt\n",
    "end"
   ]
  },
  {
   "cell_type": "code",
   "execution_count": 3,
   "id": "e0da7faf-3ce6-4e06-acd3-b84f7931c271",
   "metadata": {},
   "outputs": [
    {
     "data": {
      "text/plain": [
       "H_Kin_MB (generic function with 1 method)"
      ]
     },
     "execution_count": 3,
     "metadata": {},
     "output_type": "execute_result"
    }
   ],
   "source": [
    "function H_Kin_MB(basis_sub, PN, H1_sub)\n",
    "    states_mb = bosonstates(basis_sub, PN) \n",
    "    basis_mb = ManyBodyBasis(basis_sub, states_mb)\n",
    "    H1_MB = get_mb_op(basis_mb, H1_sub)\n",
    "    return H1_MB\n",
    "end"
   ]
  },
  {
   "cell_type": "code",
   "execution_count": 4,
   "id": "bda06c92-7d6c-40f5-bc4f-0c47843ccb69",
   "metadata": {},
   "outputs": [
    {
     "data": {
      "text/plain": [
       "H_Total_Sub (generic function with 1 method)"
      ]
     },
     "execution_count": 4,
     "metadata": {},
     "output_type": "execute_result"
    }
   ],
   "source": [
    "function H_Total_Sub(basis_cut_mb, basis_sub, PN, H1_sub,P, Pt, cut_off, U)\n",
    "    H_Kin = SparseOperator(basis_cut_mb)\n",
    "    H1_MB = H_Kin_MB(basis_sub, PN, H1_sub)\n",
    "    H_Kin.data = H1_MB.data\n",
    "    H_Int = Hubbard_Interaction_op(P, Pt, basis_cut_mb, cut_off, U)\n",
    "    return H_Kin, H_Kin + H_Int\n",
    "end"
   ]
  },
  {
   "cell_type": "code",
   "execution_count": 5,
   "id": "1280c731-4695-4ce4-91ce-bc1348ff747e",
   "metadata": {},
   "outputs": [
    {
     "data": {
      "text/plain": [
       "Number_sub (generic function with 1 method)"
      ]
     },
     "execution_count": 5,
     "metadata": {},
     "output_type": "execute_result"
    }
   ],
   "source": [
    "function Number_sub(N, sp_basis, P, Pt, basis_cut_sp, basis_cut_mb, basis_sub)\n",
    "    num_sub_list = get_num_sub_list(N, sp_basis, P, Pt)\n",
    "    Sub_Number_MB_Operator_List = get_num_mb_op(N, basis_cut_sp, num_sub_list, basis_cut_mb, basis_sub)\n",
    "    return Sub_Number_MB_Operator_List\n",
    "end"
   ]
  },
  {
   "cell_type": "code",
   "execution_count": 6,
   "id": "fd5f5449-5bfd-4c89-ac7a-e9302c8efdcf",
   "metadata": {},
   "outputs": [
    {
     "data": {
      "text/plain": [
       "get_H_Impurity (generic function with 1 method)"
      ]
     },
     "execution_count": 6,
     "metadata": {},
     "output_type": "execute_result"
    }
   ],
   "source": [
    "function get_H_Impurity(N, sp_basis, P, Pt, basis_cut_sp, basis_cut_mb, basis_sub, Total_H, Sub_Number_MB_Operator_List, Impurity_Data)\n",
    "    H_Impurity = Imp_H(Total_H, Sub_Number_MB_Operator_List, Impurity_Data)\n",
    "    H_Impurity = dense((H_Impurity'+H_Impurity)/2);\n",
    "    return H_Impurity\n",
    "end"
   ]
  },
  {
   "cell_type": "code",
   "execution_count": 7,
   "id": "36c94e8d-2edd-4b1c-9afa-280f048829fb",
   "metadata": {},
   "outputs": [
    {
     "data": {
      "text/plain": [
       "ground_degeneracy (generic function with 1 method)"
      ]
     },
     "execution_count": 7,
     "metadata": {},
     "output_type": "execute_result"
    }
   ],
   "source": [
    "function ground_degeneracy(Nx, Ny, p, q, N_Pin, PN)\n",
    "    NPhi0 = Nx*Ny*(p/q)\n",
    "    NPhi = NPhi0-N_Pin\n",
    "    pn = maximum(PN)\n",
    "    nu0 = 1/2\n",
    "    N_d = Int(NPhi - pn/nu0)\n",
    "    if length(PN) == 1\n",
    "        Degeneracy = 1\n",
    "    else\n",
    "        Degeneracy = Int((factorial(N_d + pn - 1) / (factorial(N_d) * factorial(pn - 1))) * (NPhi / pn))\n",
    "    end\n",
    "    return Degeneracy, pn, NPhi0, N_d\n",
    "end"
   ]
  },
  {
   "cell_type": "code",
   "execution_count": 8,
   "id": "dc3e93fe-0cc4-400e-aa33-eb75c0630e03",
   "metadata": {},
   "outputs": [
    {
     "data": {
      "text/plain": [
       "energies_imp (generic function with 1 method)"
      ]
     },
     "execution_count": 8,
     "metadata": {},
     "output_type": "execute_result"
    }
   ],
   "source": [
    "function energies_imp(H_Impurity, PN, basis_cut_mb)\n",
    "    E, V = eigenstates(H_Impurity)\n",
    "    pn = maximum(PN)\n",
    "    filtered_energies = get_filtered_energies(pn, E, V, basis_cut_mb)\n",
    "    return filtered_energies, V\n",
    "end"
   ]
  },
  {
   "cell_type": "code",
   "execution_count": 9,
   "id": "2fa98a04-4349-42b9-ac4a-47e695a0a756",
   "metadata": {},
   "outputs": [
    {
     "data": {
      "text/plain": [
       "plot_density (generic function with 1 method)"
      ]
     },
     "execution_count": 9,
     "metadata": {},
     "output_type": "execute_result"
    }
   ],
   "source": [
    "function plot_density(Nx, Ny, Degeneracy, N, Sub_Number_MB_Operator_List, basis_cut_mb, r_hubbard_states, factor)\n",
    "    avg_density = Get_Avg_Density(Nx, Ny, Degeneracy, N, Sub_Number_MB_Operator_List, basis_cut_mb, r_hubbard_states)\n",
    "    return Plots.heatmap(Interp(avg_density', factor), aspect_ratio=:equal)\n",
    "end"
   ]
  },
  {
   "cell_type": "code",
   "execution_count": 3,
   "id": "dc932694-ccdd-4b2f-aaf7-08f7d8038923",
   "metadata": {},
   "outputs": [
    {
     "data": {
      "text/plain": [
       "optimized_get_braiding_phase (generic function with 1 method)"
      ]
     },
     "execution_count": 3,
     "metadata": {},
     "output_type": "execute_result"
    }
   ],
   "source": [
    "function get_phases(Impurity_Data,rec_path_1,rec_path_2, Imp_Site, Total_H, Sub_Number_MB_Operator_List, Degeneracy)\n",
    "\n",
    "    # Initial Configuration\n",
    "    N_Pin = 4\n",
    "    V1 = Impurity_Data.V0[1]\n",
    "    V2 = Impurity_Data.V0[2]\n",
    "    Imp_Site = [rec_path_1[1], rec_path_1[2], rec_path_2[1], rec_path_2[2]]\n",
    "    V0 = [V1, 0, V2, 0]\n",
    "\n",
    "    Impurity_Data = Impurity(V0, Imp_Site)\n",
    "    Impurity_H = Imp_H(Total_H, Sub_Number_MB_Operator_List, Impurity_Data)\n",
    "    Impurity_H = dense((Impurity_H+Impurity_H')/2)\n",
    "    E_Imp_0, ψ = eigenstates(Impurity_H, Degeneracy)\n",
    "    \n",
    "    ψ = hcat([ψ[i].data for i in 1:Degeneracy] ...)\n",
    "    ψ_first = copy(ψ)\n",
    "\n",
    "    Imp_Site_List = [ [imp, rec_path_1[idx+1], rec_path_2[idx], rec_path_2[idx+1] ] for (idx,imp) in (enumerate(rec_path_1[1:end-1])) ]\n",
    "    V0_List = [ [V1*(1-step), V1*step, V2*(1-step), V2*step] for step in STEP ]\n",
    "    \n",
    "    Impurity_Data_List = [ [Impurity(V00, Imp_Sitee)] for Imp_Sitee in Imp_Site_List for V00 in V0_List ]\n",
    "    Impurity_H_List = [ Imp_H(Total_H, Sub_Number_MB_Operator_List, Impurity_Dataa[1]) for Impurity_Dataa in Impurity_Data_List]\n",
    "    \n",
    "    Ψ_list = []\n",
    "    Ψ_list_2 = []\n",
    "    \n",
    "    @showprogress for Impurity_HH in Impurity_H_List\n",
    "        \n",
    "        H = dense((Impurity_HH + Impurity_HH')/2)\n",
    "        ϵ, ψ_tilde = eigenstates(H, Degeneracy) \n",
    "\n",
    "        push!(Ψ_list, ψ_tilde)\n",
    "        \n",
    "        ψ_tilde = hcat([ψ_tilde[i].data for i in 1:Degeneracy] ...)\n",
    "\n",
    "        # KM Algorithm #\n",
    "        # A = ψ'*ψ_tilde\n",
    "        # A_inv = inv(A)\n",
    "        # ψ = ψ_tilde*A_inv \n",
    "        # !!!\n",
    "        \n",
    "        # !!! Vanderbilt\n",
    "        A = ψ' * ψ_tilde\n",
    "        V, Σ, W = svd(A)\n",
    "        M = V * W'\n",
    "        ψ = ψ_tilde * M'\n",
    "        # !!!\n",
    "\n",
    "        # Method 1\n",
    "        # for i in 1:Degeneracy\n",
    "        #     norm = sqrt(ψ[:,i]'*ψ[:,i])\n",
    "        #     ψ[:,i] = ψ[:,i] ./ norm\n",
    "        # end\n",
    "\n",
    "        # Method 2\n",
    "        # ψ = qr(ψ).Q * Matrix(I, size(ψ)...) #Vanderbilt'de olacak mı?\n",
    "\n",
    "        # x EVOLUTION OF GENERATED FUNCTION x #\n",
    "        push!(Ψ_list_2, ψ)\n",
    "        \n",
    "    end\n",
    "\n",
    "    BerryEnergies, BerryStates = eigen(ψ' * ψ_first)\n",
    "\n",
    "    ϕ_tot = -imag(log(det(ψ' * ψ_first)))\n",
    "    \n",
    "    return ψ, ψ_first, Ψ_list, ϕ_tot, BerryEnergies\n",
    "end"
   ]
  },
  {
   "cell_type": "code",
   "execution_count": 2,
   "id": "29f8c461-eafa-4e8e-9c73-78af4df23393",
   "metadata": {},
   "outputs": [],
   "source": [
    "using NBInclude\n",
    "@nbinclude(\"Hofstadter/Hofstadter MB in Julia.ipynb\"; regex=r\"#.*executeme\");"
   ]
  },
  {
   "cell_type": "code",
   "execution_count": 3,
   "id": "2cd78ca3-ff69-4507-964c-9e82ee61930b",
   "metadata": {},
   "outputs": [
    {
     "data": {
      "text/plain": [
       "Get_MB (generic function with 1 method)"
      ]
     },
     "execution_count": 3,
     "metadata": {},
     "output_type": "execute_result"
    }
   ],
   "source": [
    "function Get_MB(Nx, Ny, p, q, cut_off, PN, U, Impurity_Data, factor, N_Pin)\n",
    "    N = Nx*Ny\n",
    "    H1, sp_basis = H_sp(N, Nx, Ny, p, q)\n",
    "    H1_sub, basis_sub, P, Pt = H_sub(N, Nx, Ny, p, q, H1, cut_off, sp_basis)\n",
    "    basis_cut_mb, basis_cut_sp = get_Bosonic_MB_Basis(cut_off, PN)\n",
    "    H_Kin, Total_H = H_Total_Sub(basis_cut_mb, basis_sub, PN, H1_sub,P, Pt, cut_off, U)\n",
    "    Sub_Number_MB_Operator_List = Number_sub(N, sp_basis, P, Pt, basis_cut_sp, basis_cut_mb, basis_sub)\n",
    "    H_Impurity = get_H_Impurity(N, sp_basis, P, Pt, basis_cut_sp, basis_cut_mb, basis_sub, Total_H, Sub_Number_MB_Operator_List, Impurity_Data)\n",
    "    E, V = energies_imp(H_Impurity, PN, basis_cut_mb)\n",
    "    filtered_energies = E\n",
    "    r_hubbard_states = Restricted_Hubbard_States(V, filtered_energies)\n",
    "    Degeneracy, pn, NPhi0 = ground_degeneracy(Nx, Ny, p, q, N_Pin, PN)\n",
    "    Plot_1 = scatter(E,legend=false,title=\"Degeneracy=$(Degeneracy)\")\n",
    "    savefig(Plot_1, \"Energies.png\")\n",
    "    display(Plot_1)\n",
    "    Plot_2 = plot_density(Nx, Ny, Degeneracy, N, Sub_Number_MB_Operator_List, basis_cut_mb, r_hubbard_states, factor)\n",
    "    savefig(Plot_2, \"Density.png\")\n",
    "    display(Plot_2)\n",
    "    return E, Sub_Number_MB_Operator_List, basis_cut_mb, Degeneracy, Total_H, Sub_Number_MB_Operator_List, r_hubbard_states, pn, NPhi0, H1\n",
    "end"
   ]
  },
  {
   "cell_type": "code",
   "execution_count": null,
   "id": "6828e20b-b63a-4699-b542-14afdb3509ef",
   "metadata": {},
   "outputs": [],
   "source": [
    "function movie(Nx, Ny, Degeneracy, N, Sub_Number_MB_Operator_List, basis_cut_mb, Eigen_List, factor)\n",
    "    @gif for i in 1:length(Eigen_List)\n",
    "        data1 = Get_Avg_Density(Nx, Ny, Degeneracy, N, Sub_Number_MB_Operator_List, basis_cut_mb, Eigen_List[i])'\n",
    "        heatmap!(Interp(data1, factor), aspect_ratio=:equal)\n",
    "    end\n",
    "    return nothing\n",
    "end"
   ]
  },
  {
   "cell_type": "code",
   "execution_count": 1,
   "id": "ebcd1b66-b69e-4038-a6bc-3f9935e96b76",
   "metadata": {},
   "outputs": [
    {
     "data": {
      "text/plain": [
       "get_braiding_path (generic function with 1 method)"
      ]
     },
     "execution_count": 1,
     "metadata": {},
     "output_type": "execute_result"
    }
   ],
   "source": [
    "function get_braiding_path(Imp_Site, Nx, Ny, co)\n",
    "    start_point = Imp_Site[1] # Moving site of quasihole\n",
    "    First_Path = Int64[]\n",
    "    mod_list = [mod(start_point,Nx),mod(start_point,Ny)]\n",
    "    bottom_site_in_the_Ny_direction = mod_list[mod_list .> 0][1]\n",
    "    last_site_in_the_Ny_direction = (bottom_site_in_the_Ny_direction+(Nx*(Ny-1)))\n",
    "    site_number_from_upward = (last_site_in_the_Ny_direction-start_point)/Nx\n",
    "    site_number_from_downward = (start_point-bottom_site_in_the_Ny_direction)/Nx\n",
    "    for i in 0:site_number_from_upward\n",
    "        step_site = start_point+i*Nx\n",
    "        push!(First_Path, step_site)\n",
    "        if step_site == last_site_in_the_Ny_direction\n",
    "            for j in 0:site_number_from_downward\n",
    "                push!(First_Path, bottom_site_in_the_Ny_direction+j*Nx)\n",
    "            end\n",
    "        end\n",
    "    end\n",
    "    A = findall(x->x==co[:,2][start_point],co[:,2])\n",
    "    B = findall(x->x==start_point, A)[1]\n",
    "    Second_Path = push!(vcat(reverse(A[1:B]),reverse(A[B+1:end])),start_point)\n",
    "    Third_Path = reverse(First_Path)\n",
    "    Fourth_Path = reverse(Second_Path)\n",
    "    rec_path_braiding = vcat(First_Path,Second_Path,Third_Path,Fourth_Path)\n",
    "    return rec_path_braiding\n",
    "end"
   ]
  },
  {
   "cell_type": "code",
   "execution_count": 2,
   "id": "88a1a6f2-cb72-433a-82c6-d92c3ddf0b47",
   "metadata": {},
   "outputs": [
    {
     "data": {
      "text/plain": [
       "th_AB_phase (generic function with 1 method)"
      ]
     },
     "execution_count": 2,
     "metadata": {},
     "output_type": "execute_result"
    }
   ],
   "source": [
    "function th_AB_phase(pn, p, q, N_Pin, N_mov, number_of_plaq)\n",
    "    NPhi = Int( Nx * Ny * (p/q) )\n",
    "    charge = pn/(NPhi-N_Pin)\n",
    "    θ_AB = N_mov * (p/q) * charge * number_of_plaq\n",
    "    ex = exp(2*im*pi*θ_AB)\n",
    "    return θ_AB, ex, charge\n",
    "end"
   ]
  },
  {
   "cell_type": "code",
   "execution_count": null,
   "id": "33c07c53-89e7-4df7-a04b-e94a2c307606",
   "metadata": {},
   "outputs": [],
   "source": [
    "function chose_path(Path_Type, rec_path_exch_1, rec_path_exch_2, Imp_Site, Nx, Ny, co)\n",
    "    # N_p = 1 or Closed Path\n",
    "    if Path_Type == 1\n",
    "        rec_path_1 = rec_path_exch_1\n",
    "        rec_path_2 = rec_path_1        \n",
    "    # x2 Exchange \n",
    "    elseif Path_Type == 2\n",
    "        rec_path_1 = rec_path_exch_1\n",
    "        rec_path_2 = rec_path_exch_2\n",
    "    # Braiding\n",
    "    rec_path_braiding = get_braiding_path(Imp_Site, Nx, Ny, co)\n",
    "    elseif Path_Type == 3\n",
    "        rec_path_1 = rec_path_braiding\n",
    "        rec_path_2 = repeat([Imp_Site[2]],length(rec_path_1))\n",
    "    # Manuel\n",
    "    elseif Path_Type == 4\n",
    "        rec_path_1 = [29,30,31,42,53,52,51,40,29]\n",
    "        rec_path_2 = repeat([Imp_Site[2]],length(rec_path_1))\n",
    "    end\n",
    "    return rec_path_1, rec_path_2\n",
    "end"
   ]
  },
  {
   "cell_type": "code",
   "execution_count": 3,
   "id": "135f6a69-d676-443e-94f1-6961efbe9fe1",
   "metadata": {},
   "outputs": [
    {
     "data": {
      "text/plain": [
       "plot_paths (generic function with 1 method)"
      ]
     },
     "execution_count": 3,
     "metadata": {},
     "output_type": "execute_result"
    }
   ],
   "source": [
    "function plot_paths(co, First_Path, Second_Path)\n",
    "    M = Matrix{Int64}(undef,length(First_Path),2)\n",
    "    N = Matrix{Int64}(undef,length(Second_Path),2)\n",
    "    for (idx,value) in enumerate(First_Path)\n",
    "            M[idx,:] = co[value,:]\n",
    "    end\n",
    "    for (idx,value) in enumerate(Second_Path)\n",
    "            N[idx,:] = co[value,:]\n",
    "    end\n",
    "    p1 = scatter(co[:,1],co[:,2], series_annotations = text.([i for i in 1:Nx*Ny], :bottom), legend=false, aspect_ratio = :equal)\n",
    "    p2 = plot!(M[:, 1], M[:, 2], linewidth=2, c=:blue,legend=:false)\n",
    "    p3 = plot!(N[:, 1], N[:, 2], linewidth=2, c=:red,legend=:false)\n",
    "    return display(p3)\n",
    "end"
   ]
  },
  {
   "cell_type": "code",
   "execution_count": null,
   "id": "a402393a-f0c2-4a5e-ba4a-88ae7adf46c2",
   "metadata": {},
   "outputs": [],
   "source": []
  }
 ],
 "metadata": {
  "kernelspec": {
   "display_name": "Julia 1.9.3",
   "language": "julia",
   "name": "julia-1.9"
  },
  "language_info": {
   "file_extension": ".jl",
   "mimetype": "application/julia",
   "name": "julia",
   "version": "1.9.3"
  }
 },
 "nbformat": 4,
 "nbformat_minor": 5
}
