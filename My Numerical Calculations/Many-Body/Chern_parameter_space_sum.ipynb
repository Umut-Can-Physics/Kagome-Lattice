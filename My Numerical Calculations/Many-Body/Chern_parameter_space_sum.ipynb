{
 "cells": [
  {
   "cell_type": "code",
   "execution_count": 2,
   "id": "interpreted-research",
   "metadata": {
    "editable": true,
    "slideshow": {
     "slide_type": ""
    },
    "tags": []
   },
   "outputs": [],
   "source": [
    "#using NBInclude\n",
    "#@nbinclude(joinpath(\"Hofstadter\",\"Hofstadter Single Particle in Theta Space.ipynb\"))\n",
    "#@nbinclude(\"../Single Particle/Lattice_Basis_Neighbors_Hops.ipynb\")"
   ]
  },
  {
   "cell_type": "code",
   "execution_count": 1,
   "id": "thorough-collector",
   "metadata": {},
   "outputs": [],
   "source": [
    "using LinearAlgebra"
   ]
  },
  {
   "cell_type": "code",
   "execution_count": 2,
   "id": "1c551a6c-ff77-4c3d-a2cd-37a101213e3c",
   "metadata": {},
   "outputs": [
    {
     "data": {
      "text/plain": [
       "calc_states_hofstadter (generic function with 1 method)"
      ]
     },
     "execution_count": 2,
     "metadata": {},
     "output_type": "execute_result"
    }
   ],
   "source": [
    "function calc_states_hofstadter(Tx, Ty, dimH, sites,neighbors_list,\n",
    "                                site_number,site_coord,\n",
    "                                nb,LL,param_dict,pbc)\n",
    "    N1 = length(Tx)\n",
    "    N2 = length(Ty)\n",
    "    EEA=zeros(N1, N2, dimH)\n",
    "    UUA=zeros(Complex{Float64}, N1, N2, dimH, dimH)\n",
    "    for it1 in 1:N1\n",
    "        for it2 in 1:N2\n",
    "            param_dict[\"θθ\"]=[ Tx[it1], Ty[it2] ]\n",
    "            EEA[it1,it2,:], UUA[it1,it2,:,:] = eigen(get_Hofstadter_hamiltonian(sites,neighbors_list,\n",
    "                                               site_number,site_coord,\n",
    "                                               nb,LL,param_dict,pbc))\n",
    "        end\n",
    "    end\n",
    "    return EEA, UUA\n",
    "end"
   ]
  },
  {
   "cell_type": "code",
   "execution_count": 3,
   "id": "e4651d82-611b-49a4-9763-a683ef86fb7e",
   "metadata": {
    "editable": true,
    "slideshow": {
     "slide_type": ""
    },
    "tags": []
   },
   "outputs": [
    {
     "data": {
      "text/plain": [
       "calc_states_hofstadter_mb (generic function with 1 method)"
      ]
     },
     "execution_count": 3,
     "metadata": {},
     "output_type": "execute_result"
    }
   ],
   "source": [
    "function calc_states_hofstadter_mb(param_dict)\n",
    "    \n",
    "    basis = param_dict[\"basis\"]\n",
    "    basis_mb = param_dict[\"basis_mb\"]\n",
    "    \n",
    "    dimH = basis_mb.shape[1]\n",
    "    \n",
    "    Tx = param_dict[\"Tx\"]\n",
    "    Ty = param_dict[\"Ty\"]\n",
    "    N1 = length(Tx)\n",
    "    N2 = length(Ty)\n",
    "    EEA=zeros(N1, N2, dimH)\n",
    "    UUA=zeros(Complex{Float64}, N1, N2, dimH, dimH)\n",
    "    for it1 in 1:N1\n",
    "        for it2 in 1:N2\n",
    "            param_dict[\"θθ\"]=[ Tx[it1], Ty[it2] ]\n",
    "            H_T = get_Hofstadter_hamiltonian(param_dict)\n",
    "            H1 = get_sp_op(basis, H_T)\n",
    "            H_mb = get_mb_op(basis_mb, H1)\n",
    "            EEA[it1,it2,:], UUA[it1,it2,:,:] = eigen(dense(H_mb).data)\n",
    "        end\n",
    "    end\n",
    "    return EEA, UUA\n",
    "end"
   ]
  },
  {
   "cell_type": "code",
   "execution_count": 4,
   "id": "c8457c5b-e5f8-4352-979d-118bbf36ab23",
   "metadata": {},
   "outputs": [
    {
     "data": {
      "text/plain": [
       "calc_states_KM (generic function with 1 method)"
      ]
     },
     "execution_count": 4,
     "metadata": {},
     "output_type": "execute_result"
    }
   ],
   "source": [
    "function calc_states_KM(Nx, Ny, N, N1, N2, p, q, Tx, Ty, dimH)\n",
    "    N1 = length(Tx)\n",
    "    N2 = length(Ty)\n",
    "    EEA=zeros(Complex{Float64}, N1, N2, dimH)\n",
    "    UUA=zeros(Complex{Float64}, N1, N2, dimH, dimH)\n",
    "    for it1 in 1:N1\n",
    "        for it2 in 1:N2\n",
    "            EEA[it1,it2,:], UUA[it1,it2,:,:] = eigen( KM_Hamiltonian(Nx, Ny, N, t, p, q, Tx[it1], Ty[it2]) )\n",
    "        end\n",
    "    end\n",
    "    return EEA, UUA\n",
    "end"
   ]
  },
  {
   "cell_type": "code",
   "execution_count": 8,
   "id": "1b93a588-1ba8-4880-9570-b2b94283662f",
   "metadata": {},
   "outputs": [
    {
     "data": {
      "text/plain": [
       "calc_states_KM_mb (generic function with 1 method)"
      ]
     },
     "execution_count": 8,
     "metadata": {},
     "output_type": "execute_result"
    }
   ],
   "source": [
    "function calc_states_KM_mb(Nx, Ny, N, PN, N1, N2, p, q, Tx, Ty, dimH)\n",
    "    N1 = length(Tx)\n",
    "    N2 = length(Ty)\n",
    "    EEA=zeros(Complex{Float64}, N1, N2, dimH)\n",
    "    UUA=zeros(Complex{Float64}, N1, N2, dimH, dimH)\n",
    "    for it1 in 1:N1\n",
    "        for it2 in 1:N2\n",
    "            SP_H = Op_Sp(Nx, Ny, N, t, p, q, Tx[it1], Ty[it2])\n",
    "            MB_H = KM_Mb(SP_H, PN)\n",
    "            EEA[it1,it2,:], UUA[it1,it2,:,:] = eigen( dense(MB_H).data )\n",
    "        end\n",
    "    end\n",
    "    return EEA, UUA\n",
    "end"
   ]
  },
  {
   "cell_type": "code",
   "execution_count": 5,
   "id": "explicit-execution",
   "metadata": {
    "editable": true,
    "slideshow": {
     "slide_type": ""
    },
    "tags": []
   },
   "outputs": [
    {
     "data": {
      "text/plain": [
       "calc_link_var (generic function with 1 method)"
      ]
     },
     "execution_count": 5,
     "metadata": {},
     "output_type": "execute_result"
    }
   ],
   "source": [
    "function calc_link_var(ψ1, ψ2)\n",
    "    link_var = det(ψ1'*ψ2)\n",
    "    return link_var/abs(link_var)\n",
    "end"
   ]
  },
  {
   "cell_type": "code",
   "execution_count": 6,
   "id": "herbal-whole",
   "metadata": {
    "editable": true,
    "slideshow": {
     "slide_type": ""
    },
    "tags": []
   },
   "outputs": [
    {
     "data": {
      "text/plain": [
       "calc_link_vars (generic function with 1 method)"
      ]
     },
     "execution_count": 6,
     "metadata": {},
     "output_type": "execute_result"
    }
   ],
   "source": [
    "function calc_link_vars(UUA)\n",
    "    N1,N2,__ = size(UUA)\n",
    "    UU=zeros(Complex{Float64}, N1, N2, 2)\n",
    "    dirs = [ [1, 0], [0,1] ]\n",
    "    for it1 in 1:N1\n",
    "        for it2 in 1:N2\n",
    "            for (idir, vdir) in enumerate(dirs)\n",
    "                UU[it1,it2,idir] = calc_link_var(UUA[it1,it2,:,:],\n",
    "                                                 UUA[mod(it1-1+vdir[1],N1)+1,mod(it2-1+vdir[2],N2)+1,:,:])\n",
    "            end\n",
    "        end\n",
    "    end\n",
    "    return UU \n",
    "end"
   ]
  },
  {
   "cell_type": "code",
   "execution_count": 7,
   "id": "defensive-experience",
   "metadata": {
    "editable": true,
    "slideshow": {
     "slide_type": ""
    },
    "tags": []
   },
   "outputs": [
    {
     "data": {
      "text/plain": [
       "calc_F12 (generic function with 1 method)"
      ]
     },
     "execution_count": 7,
     "metadata": {},
     "output_type": "execute_result"
    }
   ],
   "source": [
    "function calc_F12(UU)\n",
    "    F12 = log.(  UU[:,:,1].*\n",
    "                circshift(UU[:,:,2],(-1,0))./\n",
    "               (circshift(UU[:,:,1],(0,-1)).*\n",
    "                UU[:,:,2]) \n",
    "            )\n",
    "    return F12\n",
    "end"
   ]
  },
  {
   "cell_type": "code",
   "execution_count": null,
   "id": "8093b8a7-9276-4778-9195-d97dd8291301",
   "metadata": {},
   "outputs": [],
   "source": []
  },
  {
   "cell_type": "code",
   "execution_count": null,
   "id": "5d85da35-1503-46bc-819d-a4fb974833ec",
   "metadata": {},
   "outputs": [],
   "source": []
  }
 ],
 "metadata": {
  "kernelspec": {
   "display_name": "Julia 1.8.1",
   "language": "julia",
   "name": "julia-1.8"
  },
  "language_info": {
   "file_extension": ".jl",
   "mimetype": "application/julia",
   "name": "julia",
   "version": "1.8.1"
  }
 },
 "nbformat": 4,
 "nbformat_minor": 5
}
