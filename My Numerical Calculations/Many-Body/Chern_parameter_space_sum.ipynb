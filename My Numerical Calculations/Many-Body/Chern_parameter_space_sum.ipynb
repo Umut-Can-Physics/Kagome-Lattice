{
 "cells": [
  {
   "cell_type": "code",
   "execution_count": 2,
   "id": "interpreted-research",
   "metadata": {},
   "outputs": [],
   "source": [
    "#using NBInclude\n",
    "#@nbinclude(joinpath(\"Hofstadter\",\"Hofstadter Single Particle in Theta Space.ipynb\"))\n",
    "#@nbinclude(\"../Single Particle/Lattice_Basis_Neighbors_Hops.ipynb\")"
   ]
  },
  {
   "cell_type": "code",
   "execution_count": 3,
   "id": "thorough-collector",
   "metadata": {},
   "outputs": [],
   "source": [
    "using LinearAlgebra"
   ]
  },
  {
   "cell_type": "code",
   "execution_count": 16,
   "id": "powerful-covering",
   "metadata": {},
   "outputs": [
    {
     "data": {
      "text/plain": [
       "calc_states_hofstadter (generic function with 1 method)"
      ]
     },
     "execution_count": 16,
     "metadata": {},
     "output_type": "execute_result"
    }
   ],
   "source": [
    "function calc_states_hofstadter(Tx, Ty, dimH, sites,neighbors_list,\n",
    "                                site_number,site_coord,\n",
    "                                nb,LL,param_dict,pbc)\n",
    "    N1 = length(Tx)\n",
    "    N2 = length(Ty)\n",
    "    EEA=zeros(N1, N2, dimH)\n",
    "    UUA=zeros(Complex{Float64}, N1, N2, dimH, dimH)\n",
    "    for it1 in 1:N1\n",
    "        for it2 in 1:N2\n",
    "            param_dict[θθ]=[ Tx[it1], Ty[it2] ]\n",
    "            EEA[it1,it2,:], UUA[it1,it2,:,:] = eigen(get_Hofstadter_hamiltonian(sites,neighbors_list,\n",
    "                                               site_number,site_coord,\n",
    "                                               nb,LL,param_dict,pbc))\n",
    "        end\n",
    "    end\n",
    "    return EEA, UUA\n",
    "end"
   ]
  },
  {
   "cell_type": "code",
   "execution_count": null,
   "id": "c8457c5b-e5f8-4352-979d-118bbf36ab23",
   "metadata": {},
   "outputs": [],
   "source": [
    "function calc_states_KM(Nx, Ny, N1, N2, p, q, Tx, Ty, dimH)\n",
    "    N1 = length(Tx)\n",
    "    N2 = length(Ty)\n",
    "    EEA=zeros(Complex{Float64}, N1, N2, dimH)\n",
    "    UUA=zeros(Complex{Float64}, N1, N2, dimH, dimH)\n",
    "    for it1 in 1:N1\n",
    "        for it2 in 1:N2\n",
    "            EEA[it1,it2,:], UUA[it1,it2,:,:] = eigen( KM_Hamiltonian(Nx, Ny, t, p, q, Tx[it1], Ty[it2]) )\n",
    "        end\n",
    "    end\n",
    "    return EEA, UUA\n",
    "end"
   ]
  },
  {
   "cell_type": "code",
   "execution_count": 2,
   "id": "explicit-execution",
   "metadata": {},
   "outputs": [
    {
     "data": {
      "text/plain": [
       "calc_link_var (generic function with 1 method)"
      ]
     },
     "execution_count": 2,
     "metadata": {},
     "output_type": "execute_result"
    }
   ],
   "source": [
    "function calc_link_var(ψ1, ψ2)\n",
    "    link_var = det(ψ1'*ψ2)\n",
    "    return link_var/abs(link_var)\n",
    "end"
   ]
  },
  {
   "cell_type": "code",
   "execution_count": 4,
   "id": "herbal-whole",
   "metadata": {},
   "outputs": [
    {
     "data": {
      "text/plain": [
       "calc_link_vars (generic function with 1 method)"
      ]
     },
     "execution_count": 4,
     "metadata": {},
     "output_type": "execute_result"
    }
   ],
   "source": [
    "function calc_link_vars(UUA)\n",
    "    N1,N2,__ = size(UUA)\n",
    "    UU=zeros(Complex{Float64}, N1, N2, 2)\n",
    "    dirs = [ [1, 0], [0,1] ]\n",
    "    for it1 in 1:N1\n",
    "        for it2 in 1:N2\n",
    "            for (idir, vdir) in enumerate(dirs)\n",
    "                UU[it1,it2,idir] = calc_link_var(UUA[it1,it2,:,:],\n",
    "                                                 UUA[mod(it1-1+vdir[1],N1)+1,mod(it2-1+vdir[2],N2)+1,:,:])\n",
    "            end\n",
    "        end\n",
    "    end\n",
    "    return UU \n",
    "end"
   ]
  },
  {
   "cell_type": "code",
   "execution_count": 5,
   "id": "defensive-experience",
   "metadata": {},
   "outputs": [
    {
     "data": {
      "text/plain": [
       "calc_F12 (generic function with 1 method)"
      ]
     },
     "execution_count": 5,
     "metadata": {},
     "output_type": "execute_result"
    }
   ],
   "source": [
    "function calc_F12(UU)\n",
    "    F12 = log(  UU[:,:,1]*\n",
    "                circshift(UU[:,:,2],(-1,0))/\n",
    "               (circshift(UU[:,:,1],(0,-1))*\n",
    "                UU[:,:,2]) \n",
    "            )\n",
    "    return F12\n",
    "end"
   ]
  }
 ],
 "metadata": {
  "kernelspec": {
   "display_name": "Julia 1.8.1",
   "language": "julia",
   "name": "julia-1.8"
  },
  "language_info": {
   "file_extension": ".jl",
   "mimetype": "application/julia",
   "name": "julia",
   "version": "1.8.1"
  }
 },
 "nbformat": 4,
 "nbformat_minor": 5
}
