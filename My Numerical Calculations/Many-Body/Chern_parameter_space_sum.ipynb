{
 "cells": [
  {
   "cell_type": "code",
   "execution_count": 9,
   "id": "360f632a-bc9a-470e-82dc-1ef987b75f8b",
   "metadata": {},
   "outputs": [
    {
     "data": {
      "text/plain": [
       "HSP_T (generic function with 1 method)"
      ]
     },
     "execution_count": 9,
     "metadata": {},
     "output_type": "execute_result"
    }
   ],
   "source": [
    "using NBInclude\n",
    "@nbinclude(joinpath(\"Hofstadter\",\"Hofstadter Single Particle in Theta Space.ipynb\"))"
   ]
  },
  {
   "cell_type": "code",
   "execution_count": 17,
   "id": "66461a0f-5c7c-4f2f-a086-9c2f2cf3c7b5",
   "metadata": {},
   "outputs": [],
   "source": [
    "using LinearAlgebra"
   ]
  },
  {
   "cell_type": "code",
   "execution_count": 16,
   "id": "a0bb7843-9fc3-425f-b61a-fe8ae52ba59f",
   "metadata": {},
   "outputs": [
    {
     "data": {
      "text/plain": [
       "calc_states_hofstadter (generic function with 1 method)"
      ]
     },
     "execution_count": 16,
     "metadata": {},
     "output_type": "execute_result"
    }
   ],
   "source": [
    "function calc_states_hofstadter(N1, N2, Tx, Ty, Nx, Ny, p, q, H)\n",
    "    alpha = p/q\n",
    "    EEA=zeros(N1, N2, Nx*Ny)\n",
    "    UUA=zeros(Complex{Float64}, N1, N2, Nx*Ny, Nx*Ny)\n",
    "    for it1 in 1:N1\n",
    "        for it2 in 1:N2\n",
    "            EEA[it1,it2,:], UUA[it1,it2,:,:] = eigen(dense(H(Nx, Ny, p, q, Tx[it1], Ty[it2])).data)\n",
    "        end\n",
    "    end\n",
    "    return UUA\n",
    "end"
   ]
  },
  {
   "cell_type": "code",
   "execution_count": 18,
   "id": "bed04a85-a938-45e6-82f5-3969a65687a2",
   "metadata": {},
   "outputs": [
    {
     "data": {
      "text/plain": [
       "calc_link_var (generic function with 1 method)"
      ]
     },
     "execution_count": 18,
     "metadata": {},
     "output_type": "execute_result"
    }
   ],
   "source": [
    "using OffsetArrays\n",
    "function calc_link_var(ψ1, ψ2)\n",
    "    ψ1 = OffsetArrays.no_offset_view(ψ1)\n",
    "    ψ2 = OffsetArrays.no_offset_view(ψ2)\n",
    "    s = det(ψ1'*ψ2)\n",
    "    return s/abs(s)\n",
    "end"
   ]
  },
  {
   "cell_type": "code",
   "execution_count": 23,
   "id": "809074b4-9ced-4714-8fbe-58740ec11090",
   "metadata": {},
   "outputs": [
    {
     "data": {
      "text/plain": [
       "calc_link_vars_twist (generic function with 1 method)"
      ]
     },
     "execution_count": 23,
     "metadata": {},
     "output_type": "execute_result"
    }
   ],
   "source": [
    "function calc_link_vars(N1,N2,UUA)\n",
    "    UU=zeros(Complex{Float64}, N1, N2, 2)\n",
    "    UU=OffsetArray(UU, 0:N1-1, 0:N2-1, 0:1)\n",
    "    xdir = OffsetArray([1, 0], -1)\n",
    "    ydir = OffsetArray([0, 1], -1)\n",
    "    dirs = [ xdir, ydir ]\n",
    "    dirs = OffsetArray(dirs, 0:1)\n",
    "    for it1 in 0:N1-1\n",
    "        for it2 in 0:N2-1\n",
    "            for (idir, vdir) in pairs(dirs)\n",
    "                UU[it1,it2,idir] = calc_link_var(UUA[it1,it2,:,:],UUA[mod(it1+vdir[0],N1),mod(it2+vdir[1],N2),:,:])\n",
    "            end\n",
    "        end\n",
    "    end\n",
    "    return UU \n",
    "end"
   ]
  },
  {
   "cell_type": "code",
   "execution_count": 26,
   "id": "4046f2a6-531d-4dc3-b27d-15890a5c451c",
   "metadata": {},
   "outputs": [
    {
     "data": {
      "text/plain": [
       "calc_F12 (generic function with 1 method)"
      ]
     },
     "execution_count": 26,
     "metadata": {},
     "output_type": "execute_result"
    }
   ],
   "source": [
    "function calc_F12(UU)\n",
    "    F12 = log( UU[:,:,1]*\n",
    "        circshift(UU[:,:,2],(-1,0))/\n",
    "        (circshift(UU[:,:,1],(0,-1))*\n",
    "        UU[:,:,2]))\n",
    "    return F12\n",
    "end"
   ]
  }
 ],
 "metadata": {
  "kernelspec": {
   "display_name": "Julia 1.8.1",
   "language": "julia",
   "name": "julia-1.8"
  },
  "language_info": {
   "file_extension": ".jl",
   "mimetype": "application/julia",
   "name": "julia",
   "version": "1.8.1"
  }
 },
 "nbformat": 4,
 "nbformat_minor": 5
}
