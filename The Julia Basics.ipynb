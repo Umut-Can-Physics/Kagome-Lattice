{
 "cells": [
  {
   "cell_type": "markdown",
   "id": "e5f0c215",
   "metadata": {},
   "source": [
    "## Variables"
   ]
  },
  {
   "cell_type": "code",
   "execution_count": 1,
   "id": "e20a02b7",
   "metadata": {},
   "outputs": [
    {
     "data": {
      "text/plain": [
       "3"
      ]
     },
     "execution_count": 1,
     "metadata": {},
     "output_type": "execute_result"
    }
   ],
   "source": [
    "x_0 = 3"
   ]
  },
  {
   "cell_type": "code",
   "execution_count": 2,
   "id": "9e070a44",
   "metadata": {},
   "outputs": [
    {
     "data": {
      "text/plain": [
       "3"
      ]
     },
     "execution_count": 2,
     "metadata": {},
     "output_type": "execute_result"
    }
   ],
   "source": [
    "x_0"
   ]
  },
  {
   "cell_type": "markdown",
   "id": "94fac3d7",
   "metadata": {},
   "source": [
    "x\\_0 + TAB"
   ]
  },
  {
   "cell_type": "code",
   "execution_count": 6,
   "id": "a37813ae",
   "metadata": {},
   "outputs": [
    {
     "data": {
      "text/plain": [
       "4"
      ]
     },
     "execution_count": 6,
     "metadata": {},
     "output_type": "execute_result"
    }
   ],
   "source": [
    "x₀ = 4"
   ]
  },
  {
   "cell_type": "code",
   "execution_count": 7,
   "id": "1849939b",
   "metadata": {},
   "outputs": [
    {
     "data": {
      "text/plain": [
       "4"
      ]
     },
     "execution_count": 7,
     "metadata": {},
     "output_type": "execute_result"
    }
   ],
   "source": [
    "x₀"
   ]
  },
  {
   "cell_type": "markdown",
   "id": "501d0837",
   "metadata": {},
   "source": [
    "\\alpha + TAB"
   ]
  },
  {
   "cell_type": "code",
   "execution_count": 61,
   "id": "be16de51",
   "metadata": {},
   "outputs": [
    {
     "data": {
      "text/plain": [
       "\"α\""
      ]
     },
     "execution_count": 61,
     "metadata": {},
     "output_type": "execute_result"
    }
   ],
   "source": [
    "\"α\""
   ]
  },
  {
   "cell_type": "code",
   "execution_count": 8,
   "id": "c1b700b3",
   "metadata": {},
   "outputs": [
    {
     "data": {
      "text/plain": [
       "Int64"
      ]
     },
     "execution_count": 8,
     "metadata": {},
     "output_type": "execute_result"
    }
   ],
   "source": [
    "typeof(x₀)"
   ]
  },
  {
   "cell_type": "code",
   "execution_count": 62,
   "id": "f1f79325",
   "metadata": {},
   "outputs": [
    {
     "data": {
      "text/plain": [
       "Int64"
      ]
     },
     "execution_count": 62,
     "metadata": {},
     "output_type": "execute_result"
    }
   ],
   "source": [
    "typeof(x_0)"
   ]
  },
  {
   "cell_type": "code",
   "execution_count": 65,
   "id": "67dc7316",
   "metadata": {},
   "outputs": [
    {
     "data": {
      "text/plain": [
       "String"
      ]
     },
     "execution_count": 65,
     "metadata": {},
     "output_type": "execute_result"
    }
   ],
   "source": [
    "typeof(\"α\")"
   ]
  },
  {
   "cell_type": "markdown",
   "id": "60c94405",
   "metadata": {},
   "source": [
    "## Simple Functions"
   ]
  },
  {
   "cell_type": "code",
   "execution_count": 10,
   "id": "9c24734e",
   "metadata": {},
   "outputs": [
    {
     "data": {
      "text/plain": [
       "f (generic function with 1 method)"
      ]
     },
     "execution_count": 10,
     "metadata": {},
     "output_type": "execute_result"
    }
   ],
   "source": [
    "f(x) = x^2 -2 "
   ]
  },
  {
   "cell_type": "code",
   "execution_count": 12,
   "id": "b0634fde",
   "metadata": {},
   "outputs": [
    {
     "data": {
      "text/plain": [
       "14"
      ]
     },
     "execution_count": 12,
     "metadata": {},
     "output_type": "execute_result"
    }
   ],
   "source": [
    "f(x₀)"
   ]
  },
  {
   "cell_type": "markdown",
   "id": "5b72745b",
   "metadata": {},
   "source": [
    "f\\prime + TAB"
   ]
  },
  {
   "cell_type": "code",
   "execution_count": 16,
   "id": "1525bb03",
   "metadata": {},
   "outputs": [
    {
     "data": {
      "text/plain": [
       "f′ (generic function with 1 method)"
      ]
     },
     "execution_count": 16,
     "metadata": {},
     "output_type": "execute_result"
    }
   ],
   "source": [
    "f′(x) = 2x"
   ]
  },
  {
   "cell_type": "code",
   "execution_count": 17,
   "id": "04b913f7",
   "metadata": {},
   "outputs": [
    {
     "data": {
      "text/plain": [
       "2.25"
      ]
     },
     "execution_count": 17,
     "metadata": {},
     "output_type": "execute_result"
    }
   ],
   "source": [
    "x₁ = x₀ - f(x₀) / f′(x₀)"
   ]
  },
  {
   "cell_type": "code",
   "execution_count": 18,
   "id": "7b6b86c9",
   "metadata": {},
   "outputs": [
    {
     "data": {
      "text/plain": [
       "2.0"
      ]
     },
     "execution_count": 18,
     "metadata": {},
     "output_type": "execute_result"
    }
   ],
   "source": [
    "4/2"
   ]
  },
  {
   "cell_type": "code",
   "execution_count": 20,
   "id": "f3643f35",
   "metadata": {},
   "outputs": [
    {
     "data": {
      "text/plain": [
       "2"
      ]
     },
     "execution_count": 20,
     "metadata": {},
     "output_type": "execute_result"
    }
   ],
   "source": [
    "div(4,2)"
   ]
  },
  {
   "cell_type": "markdown",
   "id": "ed6dc1ec",
   "metadata": {},
   "source": [
    "## Loops and Arrays"
   ]
  },
  {
   "cell_type": "code",
   "execution_count": 24,
   "id": "7957cb02",
   "metadata": {},
   "outputs": [
    {
     "name": "stdout",
     "output_type": "stream",
     "text": [
      "1\n",
      "2\n",
      "3\n",
      "4\n",
      "5\n"
     ]
    }
   ],
   "source": [
    "for i in 1:5\n",
    "    println(i)\n",
    "end"
   ]
  },
  {
   "cell_type": "code",
   "execution_count": 25,
   "id": "31a46916",
   "metadata": {},
   "outputs": [
    {
     "ename": "LoadError",
     "evalue": "UndefVarError: i not defined",
     "output_type": "error",
     "traceback": [
      "UndefVarError: i not defined",
      ""
     ]
    }
   ],
   "source": [
    "i"
   ]
  },
  {
   "cell_type": "code",
   "execution_count": 26,
   "id": "5764e6fb",
   "metadata": {},
   "outputs": [
    {
     "data": {
      "text/plain": [
       "1:5"
      ]
     },
     "execution_count": 26,
     "metadata": {},
     "output_type": "execute_result"
    }
   ],
   "source": [
    "1:5"
   ]
  },
  {
   "cell_type": "code",
   "execution_count": 27,
   "id": "2454d00b",
   "metadata": {},
   "outputs": [
    {
     "data": {
      "text/plain": [
       "UnitRange{Int64}"
      ]
     },
     "execution_count": 27,
     "metadata": {},
     "output_type": "execute_result"
    }
   ],
   "source": [
    "typeof(1:5)"
   ]
  },
  {
   "cell_type": "code",
   "execution_count": 28,
   "id": "6f1d6c12",
   "metadata": {},
   "outputs": [
    {
     "data": {
      "text/plain": [
       "5-element Vector{Int64}:\n",
       " 1\n",
       " 2\n",
       " 3\n",
       " 4\n",
       " 5"
      ]
     },
     "execution_count": 28,
     "metadata": {},
     "output_type": "execute_result"
    }
   ],
   "source": [
    "v = collect(1:5)"
   ]
  },
  {
   "cell_type": "code",
   "execution_count": 29,
   "id": "e43f7af6",
   "metadata": {},
   "outputs": [
    {
     "data": {
      "text/plain": [
       "Vector{Int64}\u001b[90m (alias for \u001b[39m\u001b[90mArray{Int64, 1}\u001b[39m\u001b[90m)\u001b[39m"
      ]
     },
     "execution_count": 29,
     "metadata": {},
     "output_type": "execute_result"
    }
   ],
   "source": [
    "typeof(v)"
   ]
  },
  {
   "cell_type": "code",
   "execution_count": 30,
   "id": "4fcefa18",
   "metadata": {},
   "outputs": [
    {
     "data": {
      "text/plain": [
       "5"
      ]
     },
     "execution_count": 30,
     "metadata": {},
     "output_type": "execute_result"
    }
   ],
   "source": [
    "length(v)"
   ]
  },
  {
   "cell_type": "code",
   "execution_count": 32,
   "id": "95ab59a5",
   "metadata": {},
   "outputs": [
    {
     "data": {
      "text/plain": [
       "1×3 Matrix{Int64}:\n",
       " 3  4  5"
      ]
     },
     "execution_count": 32,
     "metadata": {},
     "output_type": "execute_result"
    }
   ],
   "source": [
    "w₀ = [3 4 5]"
   ]
  },
  {
   "cell_type": "code",
   "execution_count": 33,
   "id": "7971f704",
   "metadata": {},
   "outputs": [
    {
     "data": {
      "text/plain": [
       "3-element Vector{Int64}:\n",
       " 3\n",
       " 4\n",
       " 5"
      ]
     },
     "execution_count": 33,
     "metadata": {},
     "output_type": "execute_result"
    }
   ],
   "source": [
    "w = [3,4,5]"
   ]
  },
  {
   "cell_type": "code",
   "execution_count": 34,
   "id": "5a17758f",
   "metadata": {},
   "outputs": [
    {
     "name": "stdout",
     "output_type": "stream",
     "text": [
      "6\n",
      "8\n",
      "10\n"
     ]
    }
   ],
   "source": [
    "for i in w\n",
    "    println(2*i)\n",
    "end"
   ]
  },
  {
   "cell_type": "markdown",
   "id": "2b5d6b7b",
   "metadata": {},
   "source": [
    "## Example"
   ]
  },
  {
   "cell_type": "code",
   "execution_count": 41,
   "id": "0aaccb77",
   "metadata": {},
   "outputs": [
    {
     "name": "stdout",
     "output_type": "stream",
     "text": [
      "2\n",
      "4\n"
     ]
    }
   ],
   "source": [
    "x = 2\n",
    "println(f(x))\n",
    "println(f′(x))"
   ]
  },
  {
   "cell_type": "code",
   "execution_count": 40,
   "id": "b0451876",
   "metadata": {},
   "outputs": [
    {
     "name": "stdout",
     "output_type": "stream",
     "text": [
      "1\t1.8333333333333333\n",
      "2\t1.4621212121212122\n",
      "3\t1.4149984298948028\n",
      "4\t1.4142137800471977\n",
      "5\t1.4142135623731118\n",
      "6\t1.414213562373095\n",
      "7\t1.4142135623730951\n",
      "8\t1.414213562373095\n",
      "9\t1.4142135623730951\n",
      "10\t1.414213562373095\n",
      "11\t1.4142135623730951\n",
      "12\t1.414213562373095\n",
      "13\t1.4142135623730951\n",
      "14\t1.414213562373095\n",
      "15\t1.4142135623730951\n",
      "16\t1.414213562373095\n",
      "17\t1.4142135623730951\n",
      "18\t1.414213562373095\n",
      "19\t1.4142135623730951\n",
      "20\t1.414213562373095\n"
     ]
    }
   ],
   "source": [
    "x = 3\n",
    "for i in 1:20\n",
    "    x_new = x - f(x) / f′(x)\n",
    "    println(i, \"\\t\", x_new)\n",
    "    x = x_new\n",
    "end"
   ]
  },
  {
   "cell_type": "code",
   "execution_count": 49,
   "id": "c5412067",
   "metadata": {},
   "outputs": [
    {
     "data": {
      "text/plain": [
       "-5.0:0.125:5.0"
      ]
     },
     "execution_count": 49,
     "metadata": {},
     "output_type": "execute_result"
    }
   ],
   "source": [
    "initial_conditions = -5:0.125:5"
   ]
  },
  {
   "cell_type": "code",
   "execution_count": 50,
   "id": "f27ff5d4",
   "metadata": {},
   "outputs": [
    {
     "data": {
      "text/plain": [
       "81-element Vector{Float64}:\n",
       " -5.0\n",
       " -4.875\n",
       " -4.75\n",
       " -4.625\n",
       " -4.5\n",
       " -4.375\n",
       " -4.25\n",
       " -4.125\n",
       " -4.0\n",
       " -3.875\n",
       " -3.75\n",
       " -3.625\n",
       " -3.5\n",
       "  ⋮\n",
       "  3.625\n",
       "  3.75\n",
       "  3.875\n",
       "  4.0\n",
       "  4.125\n",
       "  4.25\n",
       "  4.375\n",
       "  4.5\n",
       "  4.625\n",
       "  4.75\n",
       "  4.875\n",
       "  5.0"
      ]
     },
     "execution_count": 50,
     "metadata": {},
     "output_type": "execute_result"
    }
   ],
   "source": [
    "collect(initial_conditions)"
   ]
  },
  {
   "cell_type": "code",
   "execution_count": 47,
   "id": "09011211",
   "metadata": {},
   "outputs": [
    {
     "name": "stdout",
     "output_type": "stream",
     "text": [
      "[-5.0, -4.875, -4.75, -4.625, -4.5, -4.375, -4.25, -4.125, -4.0, -3.875, -3.75, -3.625, -3.5, -3.375, -3.25, -3.125, -3.0, -2.875, -2.75, -2.625, -2.5, -2.375, -2.25, -2.125, -2.0, -1.875, -1.75, -1.625, -1.5, -1.375, -1.25, -1.125, -1.0, -0.875, -0.75, -0.625, -0.5, -0.375, -0.25, -0.125, 0.0, 0.125, 0.25, 0.375, 0.5, 0.625, 0.75, 0.875, 1.0, 1.125, 1.25, 1.375, 1.5, 1.625, 1.75, 1.875, 2.0, 2.125, 2.25, 2.375, 2.5, 2.625, 2.75, 2.875, 3.0, 3.125, 3.25, 3.375, 3.5, 3.625, 3.75, 3.875, 4.0, 4.125, 4.25, 4.375, 4.5, 4.625, 4.75, 4.875, 5.0]"
     ]
    }
   ],
   "source": [
    "show(collect(initial_conditions))"
   ]
  },
  {
   "cell_type": "code",
   "execution_count": 48,
   "id": "c13cf156",
   "metadata": {},
   "outputs": [
    {
     "data": {
      "text/plain": [
       "81-element Vector{Float64}:\n",
       " 8.06239285e-316\n",
       " 8.06239285e-316\n",
       " 8.06239285e-316\n",
       " 8.06239285e-316\n",
       " 8.06239285e-316\n",
       " 8.06239285e-316\n",
       " 8.06239285e-316\n",
       " 8.06239285e-316\n",
       " 8.06239285e-316\n",
       " 8.06239285e-316\n",
       " 8.06239285e-316\n",
       " 8.06239285e-316\n",
       " 8.06239285e-316\n",
       " ⋮\n",
       " 8.06239285e-316\n",
       " 8.06239285e-316\n",
       " 8.06239285e-316\n",
       " 8.06239285e-316\n",
       " 8.06239285e-316\n",
       " 8.06239285e-316\n",
       " 8.06239285e-316\n",
       " 8.06239285e-316\n",
       " 8.06239285e-316\n",
       " 9.4718495e-316\n",
       " 9.4718661e-316\n",
       " 8.06239285e-316"
      ]
     },
     "execution_count": 48,
     "metadata": {},
     "output_type": "execute_result"
    }
   ],
   "source": [
    "roots = similar(initial_conditions)"
   ]
  },
  {
   "cell_type": "code",
   "execution_count": 55,
   "id": "c098499d",
   "metadata": {},
   "outputs": [
    {
     "name": "stdout",
     "output_type": "stream",
     "text": [
      "(index, value) = (1, 3)\n",
      "(index, value) = (2, 5)\n",
      "(index, value) = (3, -199)\n"
     ]
    }
   ],
   "source": [
    "for (index, value) in enumerate([3, 5, -199])\n",
    "    @show (index, value)\n",
    "end"
   ]
  },
  {
   "cell_type": "code",
   "execution_count": 51,
   "id": "eb489193",
   "metadata": {},
   "outputs": [
    {
     "data": {
      "text/plain": [
       "enumerate(-5.0:0.125:5.0)"
      ]
     },
     "execution_count": 51,
     "metadata": {},
     "output_type": "execute_result"
    }
   ],
   "source": [
    "enumerate(initial_conditions)"
   ]
  },
  {
   "cell_type": "code",
   "execution_count": 56,
   "id": "bfd2b23c",
   "metadata": {},
   "outputs": [],
   "source": [
    "for (j, x) in enumerate(initial_conditions)\n",
    "    for i in 1:100\n",
    "        x = x - f(x) / f′(x)\n",
    "    end\n",
    "    \n",
    "    roots[j] = x\n",
    "end"
   ]
  },
  {
   "cell_type": "code",
   "execution_count": 57,
   "id": "ea3ab90c",
   "metadata": {},
   "outputs": [
    {
     "data": {
      "text/plain": [
       "81-element Vector{Float64}:\n",
       " -1.4142135623730951\n",
       " -1.4142135623730951\n",
       " -1.414213562373095\n",
       " -1.414213562373095\n",
       " -1.4142135623730951\n",
       " -1.414213562373095\n",
       " -1.4142135623730951\n",
       " -1.4142135623730951\n",
       " -1.4142135623730951\n",
       " -1.414213562373095\n",
       " -1.4142135623730951\n",
       " -1.414213562373095\n",
       " -1.4142135623730951\n",
       "  ⋮\n",
       "  1.414213562373095\n",
       "  1.4142135623730951\n",
       "  1.414213562373095\n",
       "  1.4142135623730951\n",
       "  1.4142135623730951\n",
       "  1.4142135623730951\n",
       "  1.414213562373095\n",
       "  1.4142135623730951\n",
       "  1.414213562373095\n",
       "  1.414213562373095\n",
       "  1.4142135623730951\n",
       "  1.4142135623730951"
      ]
     },
     "execution_count": 57,
     "metadata": {},
     "output_type": "execute_result"
    }
   ],
   "source": [
    "roots"
   ]
  },
  {
   "cell_type": "code",
   "execution_count": 59,
   "id": "c8c341c2",
   "metadata": {},
   "outputs": [
    {
     "name": "stdout",
     "output_type": "stream",
     "text": [
      "  0.340430 seconds (8.02 M allocations: 122.711 MiB, 11.43% gc time)\n"
     ]
    }
   ],
   "source": [
    "@time begin\n",
    "    initial_conditions = -100:0.1:100\n",
    "    roots = similar(initial_conditions)\n",
    "    \n",
    "    for (j, x) in enumerate(initial_conditions)\n",
    "        \n",
    "        for i in 1:1000\n",
    "            x = x - f(x) / f′(x)\n",
    "        end\n",
    "    \n",
    "        roots[j] = x\n",
    "    end\n",
    "end"
   ]
  },
  {
   "cell_type": "markdown",
   "id": "91111845",
   "metadata": {},
   "source": [
    "## Plotting"
   ]
  },
  {
   "cell_type": "code",
   "execution_count": 66,
   "id": "2ebb571d",
   "metadata": {},
   "outputs": [],
   "source": [
    "using Plots"
   ]
  },
  {
   "cell_type": "code",
   "execution_count": 68,
   "id": "2350236c",
   "metadata": {},
   "outputs": [
    {
     "data": {
      "image/svg+xml": [
       "<?xml version=\"1.0\" encoding=\"utf-8\"?>\n",
       "<svg xmlns=\"http://www.w3.org/2000/svg\" xmlns:xlink=\"http://www.w3.org/1999/xlink\" width=\"600\" height=\"400\" viewBox=\"0 0 2400 1600\">\n",
       "<defs>\n",
       "  <clipPath id=\"clip070\">\n",
       "    <rect x=\"0\" y=\"0\" width=\"2400\" height=\"1600\"/>\n",
       "  </clipPath>\n",
       "</defs>\n",
       "<path clip-path=\"url(#clip070)\" d=\"M0 1600 L2400 1600 L2400 0 L0 0  Z\" fill=\"#ffffff\" fill-rule=\"evenodd\" fill-opacity=\"1\"/>\n",
       "<defs>\n",
       "  <clipPath id=\"clip071\">\n",
       "    <rect x=\"480\" y=\"0\" width=\"1681\" height=\"1600\"/>\n",
       "  </clipPath>\n",
       "</defs>\n",
       "<path clip-path=\"url(#clip070)\" d=\"M193.936 1486.45 L2352.76 1486.45 L2352.76 47.2441 L193.936 47.2441  Z\" fill=\"#ffffff\" fill-rule=\"evenodd\" fill-opacity=\"1\"/>\n",
       "<defs>\n",
       "  <clipPath id=\"clip072\">\n",
       "    <rect x=\"193\" y=\"47\" width=\"2160\" height=\"1440\"/>\n",
       "  </clipPath>\n",
       "</defs>\n",
       "<polyline clip-path=\"url(#clip072)\" style=\"stroke:#000000; stroke-linecap:round; stroke-linejoin:round; stroke-width:2; stroke-opacity:0.1; fill:none\" points=\"255.035,1486.45 255.035,47.2441 \"/>\n",
       "<polyline clip-path=\"url(#clip072)\" style=\"stroke:#000000; stroke-linecap:round; stroke-linejoin:round; stroke-width:2; stroke-opacity:0.1; fill:none\" points=\"764.19,1486.45 764.19,47.2441 \"/>\n",
       "<polyline clip-path=\"url(#clip072)\" style=\"stroke:#000000; stroke-linecap:round; stroke-linejoin:round; stroke-width:2; stroke-opacity:0.1; fill:none\" points=\"1273.35,1486.45 1273.35,47.2441 \"/>\n",
       "<polyline clip-path=\"url(#clip072)\" style=\"stroke:#000000; stroke-linecap:round; stroke-linejoin:round; stroke-width:2; stroke-opacity:0.1; fill:none\" points=\"1782.5,1486.45 1782.5,47.2441 \"/>\n",
       "<polyline clip-path=\"url(#clip072)\" style=\"stroke:#000000; stroke-linecap:round; stroke-linejoin:round; stroke-width:2; stroke-opacity:0.1; fill:none\" points=\"2291.66,1486.45 2291.66,47.2441 \"/>\n",
       "<polyline clip-path=\"url(#clip070)\" style=\"stroke:#000000; stroke-linecap:round; stroke-linejoin:round; stroke-width:4; stroke-opacity:1; fill:none\" points=\"193.936,1486.45 2352.76,1486.45 \"/>\n",
       "<polyline clip-path=\"url(#clip070)\" style=\"stroke:#000000; stroke-linecap:round; stroke-linejoin:round; stroke-width:4; stroke-opacity:1; fill:none\" points=\"255.035,1486.45 255.035,1467.55 \"/>\n",
       "<polyline clip-path=\"url(#clip070)\" style=\"stroke:#000000; stroke-linecap:round; stroke-linejoin:round; stroke-width:4; stroke-opacity:1; fill:none\" points=\"764.19,1486.45 764.19,1467.55 \"/>\n",
       "<polyline clip-path=\"url(#clip070)\" style=\"stroke:#000000; stroke-linecap:round; stroke-linejoin:round; stroke-width:4; stroke-opacity:1; fill:none\" points=\"1273.35,1486.45 1273.35,1467.55 \"/>\n",
       "<polyline clip-path=\"url(#clip070)\" style=\"stroke:#000000; stroke-linecap:round; stroke-linejoin:round; stroke-width:4; stroke-opacity:1; fill:none\" points=\"1782.5,1486.45 1782.5,1467.55 \"/>\n",
       "<polyline clip-path=\"url(#clip070)\" style=\"stroke:#000000; stroke-linecap:round; stroke-linejoin:round; stroke-width:4; stroke-opacity:1; fill:none\" points=\"2291.66,1486.45 2291.66,1467.55 \"/>\n",
       "<path clip-path=\"url(#clip070)\" d=\"M194.016 1532.02 L223.692 1532.02 L223.692 1535.95 L194.016 1535.95 L194.016 1532.02 Z\" fill=\"#000000\" fill-rule=\"evenodd\" fill-opacity=\"1\" /><path clip-path=\"url(#clip070)\" d=\"M234.595 1544.91 L242.234 1544.91 L242.234 1518.55 L233.924 1520.21 L233.924 1515.95 L242.188 1514.29 L246.863 1514.29 L246.863 1544.91 L254.502 1544.91 L254.502 1548.85 L234.595 1548.85 L234.595 1544.91 Z\" fill=\"#000000\" fill-rule=\"evenodd\" fill-opacity=\"1\" /><path clip-path=\"url(#clip070)\" d=\"M273.947 1517.37 Q270.336 1517.37 268.507 1520.93 Q266.701 1524.47 266.701 1531.6 Q266.701 1538.71 268.507 1542.27 Q270.336 1545.82 273.947 1545.82 Q277.581 1545.82 279.386 1542.27 Q281.215 1538.71 281.215 1531.6 Q281.215 1524.47 279.386 1520.93 Q277.581 1517.37 273.947 1517.37 M273.947 1513.66 Q279.757 1513.66 282.812 1518.27 Q285.891 1522.85 285.891 1531.6 Q285.891 1540.33 282.812 1544.94 Q279.757 1549.52 273.947 1549.52 Q268.136 1549.52 265.058 1544.94 Q262.002 1540.33 262.002 1531.6 Q262.002 1522.85 265.058 1518.27 Q268.136 1513.66 273.947 1513.66 Z\" fill=\"#000000\" fill-rule=\"evenodd\" fill-opacity=\"1\" /><path clip-path=\"url(#clip070)\" d=\"M304.108 1517.37 Q300.497 1517.37 298.669 1520.93 Q296.863 1524.47 296.863 1531.6 Q296.863 1538.71 298.669 1542.27 Q300.497 1545.82 304.108 1545.82 Q307.743 1545.82 309.548 1542.27 Q311.377 1538.71 311.377 1531.6 Q311.377 1524.47 309.548 1520.93 Q307.743 1517.37 304.108 1517.37 M304.108 1513.66 Q309.919 1513.66 312.974 1518.27 Q316.053 1522.85 316.053 1531.6 Q316.053 1540.33 312.974 1544.94 Q309.919 1549.52 304.108 1549.52 Q298.298 1549.52 295.22 1544.94 Q292.164 1540.33 292.164 1531.6 Q292.164 1522.85 295.22 1518.27 Q298.298 1513.66 304.108 1513.66 Z\" fill=\"#000000\" fill-rule=\"evenodd\" fill-opacity=\"1\" /><path clip-path=\"url(#clip070)\" d=\"M718.253 1532.02 L747.929 1532.02 L747.929 1535.95 L718.253 1535.95 L718.253 1532.02 Z\" fill=\"#000000\" fill-rule=\"evenodd\" fill-opacity=\"1\" /><path clip-path=\"url(#clip070)\" d=\"M758.068 1514.29 L776.424 1514.29 L776.424 1518.22 L762.35 1518.22 L762.35 1526.7 Q763.369 1526.35 764.387 1526.19 Q765.406 1526 766.424 1526 Q772.211 1526 775.591 1529.17 Q778.97 1532.34 778.97 1537.76 Q778.97 1543.34 775.498 1546.44 Q772.026 1549.52 765.707 1549.52 Q763.531 1549.52 761.262 1549.15 Q759.017 1548.78 756.609 1548.04 L756.609 1543.34 Q758.693 1544.47 760.915 1545.03 Q763.137 1545.58 765.614 1545.58 Q769.619 1545.58 771.956 1543.48 Q774.294 1541.37 774.294 1537.76 Q774.294 1534.15 771.956 1532.04 Q769.619 1529.94 765.614 1529.94 Q763.739 1529.94 761.864 1530.35 Q760.012 1530.77 758.068 1531.65 L758.068 1514.29 Z\" fill=\"#000000\" fill-rule=\"evenodd\" fill-opacity=\"1\" /><path clip-path=\"url(#clip070)\" d=\"M798.183 1517.37 Q794.572 1517.37 792.743 1520.93 Q790.938 1524.47 790.938 1531.6 Q790.938 1538.71 792.743 1542.27 Q794.572 1545.82 798.183 1545.82 Q801.817 1545.82 803.623 1542.27 Q805.452 1538.71 805.452 1531.6 Q805.452 1524.47 803.623 1520.93 Q801.817 1517.37 798.183 1517.37 M798.183 1513.66 Q803.993 1513.66 807.049 1518.27 Q810.128 1522.85 810.128 1531.6 Q810.128 1540.33 807.049 1544.94 Q803.993 1549.52 798.183 1549.52 Q792.373 1549.52 789.294 1544.94 Q786.239 1540.33 786.239 1531.6 Q786.239 1522.85 789.294 1518.27 Q792.373 1513.66 798.183 1513.66 Z\" fill=\"#000000\" fill-rule=\"evenodd\" fill-opacity=\"1\" /><path clip-path=\"url(#clip070)\" d=\"M1273.35 1517.37 Q1269.73 1517.37 1267.91 1520.93 Q1266.1 1524.47 1266.1 1531.6 Q1266.1 1538.71 1267.91 1542.27 Q1269.73 1545.82 1273.35 1545.82 Q1276.98 1545.82 1278.79 1542.27 Q1280.61 1538.71 1280.61 1531.6 Q1280.61 1524.47 1278.79 1520.93 Q1276.98 1517.37 1273.35 1517.37 M1273.35 1513.66 Q1279.16 1513.66 1282.21 1518.27 Q1285.29 1522.85 1285.29 1531.6 Q1285.29 1540.33 1282.21 1544.94 Q1279.16 1549.52 1273.35 1549.52 Q1267.54 1549.52 1264.46 1544.94 Q1261.4 1540.33 1261.4 1531.6 Q1261.4 1522.85 1264.46 1518.27 Q1267.54 1513.66 1273.35 1513.66 Z\" fill=\"#000000\" fill-rule=\"evenodd\" fill-opacity=\"1\" /><path clip-path=\"url(#clip070)\" d=\"M1757.2 1514.29 L1775.56 1514.29 L1775.56 1518.22 L1761.48 1518.22 L1761.48 1526.7 Q1762.5 1526.35 1763.52 1526.19 Q1764.54 1526 1765.56 1526 Q1771.34 1526 1774.72 1529.17 Q1778.1 1532.34 1778.1 1537.76 Q1778.1 1543.34 1774.63 1546.44 Q1771.16 1549.52 1764.84 1549.52 Q1762.66 1549.52 1760.4 1549.15 Q1758.15 1548.78 1755.74 1548.04 L1755.74 1543.34 Q1757.83 1544.47 1760.05 1545.03 Q1762.27 1545.58 1764.75 1545.58 Q1768.75 1545.58 1771.09 1543.48 Q1773.43 1541.37 1773.43 1537.76 Q1773.43 1534.15 1771.09 1532.04 Q1768.75 1529.94 1764.75 1529.94 Q1762.87 1529.94 1761 1530.35 Q1759.15 1530.77 1757.2 1531.65 L1757.2 1514.29 Z\" fill=\"#000000\" fill-rule=\"evenodd\" fill-opacity=\"1\" /><path clip-path=\"url(#clip070)\" d=\"M1797.32 1517.37 Q1793.71 1517.37 1791.88 1520.93 Q1790.07 1524.47 1790.07 1531.6 Q1790.07 1538.71 1791.88 1542.27 Q1793.71 1545.82 1797.32 1545.82 Q1800.95 1545.82 1802.76 1542.27 Q1804.58 1538.71 1804.58 1531.6 Q1804.58 1524.47 1802.76 1520.93 Q1800.95 1517.37 1797.32 1517.37 M1797.32 1513.66 Q1803.13 1513.66 1806.18 1518.27 Q1809.26 1522.85 1809.26 1531.6 Q1809.26 1540.33 1806.18 1544.94 Q1803.13 1549.52 1797.32 1549.52 Q1791.51 1549.52 1788.43 1544.94 Q1785.37 1540.33 1785.37 1531.6 Q1785.37 1522.85 1788.43 1518.27 Q1791.51 1513.66 1797.32 1513.66 Z\" fill=\"#000000\" fill-rule=\"evenodd\" fill-opacity=\"1\" /><path clip-path=\"url(#clip070)\" d=\"M2251.26 1544.91 L2258.9 1544.91 L2258.9 1518.55 L2250.59 1520.21 L2250.59 1515.95 L2258.86 1514.29 L2263.53 1514.29 L2263.53 1544.91 L2271.17 1544.91 L2271.17 1548.85 L2251.26 1548.85 L2251.26 1544.91 Z\" fill=\"#000000\" fill-rule=\"evenodd\" fill-opacity=\"1\" /><path clip-path=\"url(#clip070)\" d=\"M2290.62 1517.37 Q2287 1517.37 2285.18 1520.93 Q2283.37 1524.47 2283.37 1531.6 Q2283.37 1538.71 2285.18 1542.27 Q2287 1545.82 2290.62 1545.82 Q2294.25 1545.82 2296.06 1542.27 Q2297.88 1538.71 2297.88 1531.6 Q2297.88 1524.47 2296.06 1520.93 Q2294.25 1517.37 2290.62 1517.37 M2290.62 1513.66 Q2296.43 1513.66 2299.48 1518.27 Q2302.56 1522.85 2302.56 1531.6 Q2302.56 1540.33 2299.48 1544.94 Q2296.43 1549.52 2290.62 1549.52 Q2284.81 1549.52 2281.73 1544.94 Q2278.67 1540.33 2278.67 1531.6 Q2278.67 1522.85 2281.73 1518.27 Q2284.81 1513.66 2290.62 1513.66 Z\" fill=\"#000000\" fill-rule=\"evenodd\" fill-opacity=\"1\" /><path clip-path=\"url(#clip070)\" d=\"M2320.78 1517.37 Q2317.17 1517.37 2315.34 1520.93 Q2313.53 1524.47 2313.53 1531.6 Q2313.53 1538.71 2315.34 1542.27 Q2317.17 1545.82 2320.78 1545.82 Q2324.41 1545.82 2326.22 1542.27 Q2328.05 1538.71 2328.05 1531.6 Q2328.05 1524.47 2326.22 1520.93 Q2324.41 1517.37 2320.78 1517.37 M2320.78 1513.66 Q2326.59 1513.66 2329.64 1518.27 Q2332.72 1522.85 2332.72 1531.6 Q2332.72 1540.33 2329.64 1544.94 Q2326.59 1549.52 2320.78 1549.52 Q2314.97 1549.52 2311.89 1544.94 Q2308.83 1540.33 2308.83 1531.6 Q2308.83 1522.85 2311.89 1518.27 Q2314.97 1513.66 2320.78 1513.66 Z\" fill=\"#000000\" fill-rule=\"evenodd\" fill-opacity=\"1\" /><polyline clip-path=\"url(#clip072)\" style=\"stroke:#000000; stroke-linecap:round; stroke-linejoin:round; stroke-width:2; stroke-opacity:0.1; fill:none\" points=\"193.936,1246.88 2352.76,1246.88 \"/>\n",
       "<polyline clip-path=\"url(#clip072)\" style=\"stroke:#000000; stroke-linecap:round; stroke-linejoin:round; stroke-width:2; stroke-opacity:0.1; fill:none\" points=\"193.936,1006.86 2352.76,1006.86 \"/>\n",
       "<polyline clip-path=\"url(#clip072)\" style=\"stroke:#000000; stroke-linecap:round; stroke-linejoin:round; stroke-width:2; stroke-opacity:0.1; fill:none\" points=\"193.936,766.846 2352.76,766.846 \"/>\n",
       "<polyline clip-path=\"url(#clip072)\" style=\"stroke:#000000; stroke-linecap:round; stroke-linejoin:round; stroke-width:2; stroke-opacity:0.1; fill:none\" points=\"193.936,526.829 2352.76,526.829 \"/>\n",
       "<polyline clip-path=\"url(#clip072)\" style=\"stroke:#000000; stroke-linecap:round; stroke-linejoin:round; stroke-width:2; stroke-opacity:0.1; fill:none\" points=\"193.936,286.813 2352.76,286.813 \"/>\n",
       "<polyline clip-path=\"url(#clip070)\" style=\"stroke:#000000; stroke-linecap:round; stroke-linejoin:round; stroke-width:4; stroke-opacity:1; fill:none\" points=\"193.936,1486.45 193.936,47.2441 \"/>\n",
       "<polyline clip-path=\"url(#clip070)\" style=\"stroke:#000000; stroke-linecap:round; stroke-linejoin:round; stroke-width:4; stroke-opacity:1; fill:none\" points=\"193.936,1246.88 212.834,1246.88 \"/>\n",
       "<polyline clip-path=\"url(#clip070)\" style=\"stroke:#000000; stroke-linecap:round; stroke-linejoin:round; stroke-width:4; stroke-opacity:1; fill:none\" points=\"193.936,1006.86 212.834,1006.86 \"/>\n",
       "<polyline clip-path=\"url(#clip070)\" style=\"stroke:#000000; stroke-linecap:round; stroke-linejoin:round; stroke-width:4; stroke-opacity:1; fill:none\" points=\"193.936,766.846 212.834,766.846 \"/>\n",
       "<polyline clip-path=\"url(#clip070)\" style=\"stroke:#000000; stroke-linecap:round; stroke-linejoin:round; stroke-width:4; stroke-opacity:1; fill:none\" points=\"193.936,526.829 212.834,526.829 \"/>\n",
       "<polyline clip-path=\"url(#clip070)\" style=\"stroke:#000000; stroke-linecap:round; stroke-linejoin:round; stroke-width:4; stroke-opacity:1; fill:none\" points=\"193.936,286.813 212.834,286.813 \"/>\n",
       "<path clip-path=\"url(#clip070)\" d=\"M50.9921 1247.33 L80.6679 1247.33 L80.6679 1251.27 L50.9921 1251.27 L50.9921 1247.33 Z\" fill=\"#000000\" fill-rule=\"evenodd\" fill-opacity=\"1\" /><path clip-path=\"url(#clip070)\" d=\"M91.5706 1260.22 L99.2095 1260.22 L99.2095 1233.86 L90.8993 1235.53 L90.8993 1231.27 L99.1632 1229.6 L103.839 1229.6 L103.839 1260.22 L111.478 1260.22 L111.478 1264.16 L91.5706 1264.16 L91.5706 1260.22 Z\" fill=\"#000000\" fill-rule=\"evenodd\" fill-opacity=\"1\" /><path clip-path=\"url(#clip070)\" d=\"M120.922 1258.28 L125.807 1258.28 L125.807 1264.16 L120.922 1264.16 L120.922 1258.28 Z\" fill=\"#000000\" fill-rule=\"evenodd\" fill-opacity=\"1\" /><path clip-path=\"url(#clip070)\" d=\"M145.992 1232.68 Q142.381 1232.68 140.552 1236.24 Q138.746 1239.78 138.746 1246.91 Q138.746 1254.02 140.552 1257.59 Q142.381 1261.13 145.992 1261.13 Q149.626 1261.13 151.431 1257.59 Q153.26 1254.02 153.26 1246.91 Q153.26 1239.78 151.431 1236.24 Q149.626 1232.68 145.992 1232.68 M145.992 1228.97 Q151.802 1228.97 154.857 1233.58 Q157.936 1238.16 157.936 1246.91 Q157.936 1255.64 154.857 1260.25 Q151.802 1264.83 145.992 1264.83 Q140.181 1264.83 137.103 1260.25 Q134.047 1255.64 134.047 1246.91 Q134.047 1238.16 137.103 1233.58 Q140.181 1228.97 145.992 1228.97 Z\" fill=\"#000000\" fill-rule=\"evenodd\" fill-opacity=\"1\" /><path clip-path=\"url(#clip070)\" d=\"M51.9875 1007.31 L81.6633 1007.31 L81.6633 1011.25 L51.9875 1011.25 L51.9875 1007.31 Z\" fill=\"#000000\" fill-rule=\"evenodd\" fill-opacity=\"1\" /><path clip-path=\"url(#clip070)\" d=\"M101.756 992.661 Q98.1447 992.661 96.316 996.226 Q94.5104 999.768 94.5104 1006.9 Q94.5104 1014 96.316 1017.57 Q98.1447 1021.11 101.756 1021.11 Q105.39 1021.11 107.196 1017.57 Q109.024 1014 109.024 1006.9 Q109.024 999.768 107.196 996.226 Q105.39 992.661 101.756 992.661 M101.756 988.958 Q107.566 988.958 110.621 993.564 Q113.7 998.147 113.7 1006.9 Q113.7 1015.62 110.621 1020.23 Q107.566 1024.81 101.756 1024.81 Q95.9456 1024.81 92.8669 1020.23 Q89.8114 1015.62 89.8114 1006.9 Q89.8114 998.147 92.8669 993.564 Q95.9456 988.958 101.756 988.958 Z\" fill=\"#000000\" fill-rule=\"evenodd\" fill-opacity=\"1\" /><path clip-path=\"url(#clip070)\" d=\"M121.918 1018.26 L126.802 1018.26 L126.802 1024.14 L121.918 1024.14 L121.918 1018.26 Z\" fill=\"#000000\" fill-rule=\"evenodd\" fill-opacity=\"1\" /><path clip-path=\"url(#clip070)\" d=\"M137.033 989.583 L155.39 989.583 L155.39 993.518 L141.316 993.518 L141.316 1001.99 Q142.334 1001.64 143.353 1001.48 Q144.371 1001.3 145.39 1001.3 Q151.177 1001.3 154.556 1004.47 Q157.936 1007.64 157.936 1013.05 Q157.936 1018.63 154.464 1021.74 Q150.992 1024.81 144.672 1024.81 Q142.496 1024.81 140.228 1024.44 Q137.982 1024.07 135.575 1023.33 L135.575 1018.63 Q137.658 1019.77 139.881 1020.32 Q142.103 1020.88 144.58 1020.88 Q148.584 1020.88 150.922 1018.77 Q153.26 1016.67 153.26 1013.05 Q153.26 1009.44 150.922 1007.34 Q148.584 1005.23 144.58 1005.23 Q142.705 1005.23 140.83 1005.65 Q138.978 1006.06 137.033 1006.94 L137.033 989.583 Z\" fill=\"#000000\" fill-rule=\"evenodd\" fill-opacity=\"1\" /><path clip-path=\"url(#clip070)\" d=\"M100.76 752.645 Q97.1493 752.645 95.3206 756.209 Q93.515 759.751 93.515 766.881 Q93.515 773.987 95.3206 777.552 Q97.1493 781.094 100.76 781.094 Q104.395 781.094 106.2 777.552 Q108.029 773.987 108.029 766.881 Q108.029 759.751 106.2 756.209 Q104.395 752.645 100.76 752.645 M100.76 748.941 Q106.571 748.941 109.626 753.547 Q112.705 758.131 112.705 766.881 Q112.705 775.608 109.626 780.214 Q106.571 784.797 100.76 784.797 Q94.9502 784.797 91.8715 780.214 Q88.816 775.608 88.816 766.881 Q88.816 758.131 91.8715 753.547 Q94.9502 748.941 100.76 748.941 Z\" fill=\"#000000\" fill-rule=\"evenodd\" fill-opacity=\"1\" /><path clip-path=\"url(#clip070)\" d=\"M120.922 778.246 L125.807 778.246 L125.807 784.126 L120.922 784.126 L120.922 778.246 Z\" fill=\"#000000\" fill-rule=\"evenodd\" fill-opacity=\"1\" /><path clip-path=\"url(#clip070)\" d=\"M145.992 752.645 Q142.381 752.645 140.552 756.209 Q138.746 759.751 138.746 766.881 Q138.746 773.987 140.552 777.552 Q142.381 781.094 145.992 781.094 Q149.626 781.094 151.431 777.552 Q153.26 773.987 153.26 766.881 Q153.26 759.751 151.431 756.209 Q149.626 752.645 145.992 752.645 M145.992 748.941 Q151.802 748.941 154.857 753.547 Q157.936 758.131 157.936 766.881 Q157.936 775.608 154.857 780.214 Q151.802 784.797 145.992 784.797 Q140.181 784.797 137.103 780.214 Q134.047 775.608 134.047 766.881 Q134.047 758.131 137.103 753.547 Q140.181 748.941 145.992 748.941 Z\" fill=\"#000000\" fill-rule=\"evenodd\" fill-opacity=\"1\" /><path clip-path=\"url(#clip070)\" d=\"M101.756 512.628 Q98.1447 512.628 96.316 516.193 Q94.5104 519.734 94.5104 526.864 Q94.5104 533.97 96.316 537.535 Q98.1447 541.077 101.756 541.077 Q105.39 541.077 107.196 537.535 Q109.024 533.97 109.024 526.864 Q109.024 519.734 107.196 516.193 Q105.39 512.628 101.756 512.628 M101.756 508.924 Q107.566 508.924 110.621 513.531 Q113.7 518.114 113.7 526.864 Q113.7 535.591 110.621 540.197 Q107.566 544.781 101.756 544.781 Q95.9456 544.781 92.8669 540.197 Q89.8114 535.591 89.8114 526.864 Q89.8114 518.114 92.8669 513.531 Q95.9456 508.924 101.756 508.924 Z\" fill=\"#000000\" fill-rule=\"evenodd\" fill-opacity=\"1\" /><path clip-path=\"url(#clip070)\" d=\"M121.918 538.23 L126.802 538.23 L126.802 544.109 L121.918 544.109 L121.918 538.23 Z\" fill=\"#000000\" fill-rule=\"evenodd\" fill-opacity=\"1\" /><path clip-path=\"url(#clip070)\" d=\"M137.033 509.549 L155.39 509.549 L155.39 513.484 L141.316 513.484 L141.316 521.957 Q142.334 521.609 143.353 521.447 Q144.371 521.262 145.39 521.262 Q151.177 521.262 154.556 524.433 Q157.936 527.605 157.936 533.021 Q157.936 538.6 154.464 541.702 Q150.992 544.781 144.672 544.781 Q142.496 544.781 140.228 544.41 Q137.982 544.04 135.575 543.299 L135.575 538.6 Q137.658 539.734 139.881 540.29 Q142.103 540.845 144.58 540.845 Q148.584 540.845 150.922 538.739 Q153.26 536.632 153.26 533.021 Q153.26 529.41 150.922 527.304 Q148.584 525.197 144.58 525.197 Q142.705 525.197 140.83 525.614 Q138.978 526.031 137.033 526.91 L137.033 509.549 Z\" fill=\"#000000\" fill-rule=\"evenodd\" fill-opacity=\"1\" /><path clip-path=\"url(#clip070)\" d=\"M91.5706 300.157 L99.2095 300.157 L99.2095 273.792 L90.8993 275.459 L90.8993 271.199 L99.1632 269.533 L103.839 269.533 L103.839 300.157 L111.478 300.157 L111.478 304.093 L91.5706 304.093 L91.5706 300.157 Z\" fill=\"#000000\" fill-rule=\"evenodd\" fill-opacity=\"1\" /><path clip-path=\"url(#clip070)\" d=\"M120.922 298.213 L125.807 298.213 L125.807 304.093 L120.922 304.093 L120.922 298.213 Z\" fill=\"#000000\" fill-rule=\"evenodd\" fill-opacity=\"1\" /><path clip-path=\"url(#clip070)\" d=\"M145.992 272.611 Q142.381 272.611 140.552 276.176 Q138.746 279.718 138.746 286.847 Q138.746 293.954 140.552 297.519 Q142.381 301.06 145.992 301.06 Q149.626 301.06 151.431 297.519 Q153.26 293.954 153.26 286.847 Q153.26 279.718 151.431 276.176 Q149.626 272.611 145.992 272.611 M145.992 268.908 Q151.802 268.908 154.857 273.514 Q157.936 278.097 157.936 286.847 Q157.936 295.574 154.857 300.181 Q151.802 304.764 145.992 304.764 Q140.181 304.764 137.103 300.181 Q134.047 295.574 134.047 286.847 Q134.047 278.097 137.103 273.514 Q140.181 268.908 145.992 268.908 Z\" fill=\"#000000\" fill-rule=\"evenodd\" fill-opacity=\"1\" /><polyline clip-path=\"url(#clip072)\" style=\"stroke:#009af9; stroke-linecap:round; stroke-linejoin:round; stroke-width:4; stroke-opacity:1; fill:none\" points=\"255.035,1445.72 256.053,1445.72 257.071,1445.72 258.09,1445.72 259.108,1445.72 260.126,1445.72 261.145,1445.72 262.163,1445.72 263.181,1445.72 264.199,1445.72 265.218,1445.72 266.236,1445.72 267.254,1445.72 268.273,1445.72 269.291,1445.72 270.309,1445.72 271.328,1445.72 272.346,1445.72 273.364,1445.72 274.383,1445.72 275.401,1445.72 276.419,1445.72 277.438,1445.72 278.456,1445.72 279.474,1445.72 280.492,1445.72 281.511,1445.72 282.529,1445.72 283.547,1445.72 284.566,1445.72 285.584,1445.72 286.602,1445.72 287.621,1445.72 288.639,1445.72 289.657,1445.72 290.676,1445.72 291.694,1445.72 292.712,1445.72 293.731,1445.72 294.749,1445.72 295.767,1445.72 296.785,1445.72 297.804,1445.72 298.822,1445.72 299.84,1445.72 300.859,1445.72 301.877,1445.72 302.895,1445.72 303.914,1445.72 304.932,1445.72 305.95,1445.72 306.969,1445.72 307.987,1445.72 309.005,1445.72 310.023,1445.72 311.042,1445.72 312.06,1445.72 313.078,1445.72 314.097,1445.72 315.115,1445.72 316.133,1445.72 317.152,1445.72 318.17,1445.72 319.188,1445.72 320.207,1445.72 321.225,1445.72 322.243,1445.72 323.262,1445.72 324.28,1445.72 325.298,1445.72 326.316,1445.72 327.335,1445.72 328.353,1445.72 329.371,1445.72 330.39,1445.72 331.408,1445.72 332.426,1445.72 333.445,1445.72 334.463,1445.72 335.481,1445.72 336.5,1445.72 337.518,1445.72 338.536,1445.72 339.555,1445.72 340.573,1445.72 341.591,1445.72 342.609,1445.72 343.628,1445.72 344.646,1445.72 345.664,1445.72 346.683,1445.72 347.701,1445.72 348.719,1445.72 349.738,1445.72 350.756,1445.72 351.774,1445.72 352.793,1445.72 353.811,1445.72 354.829,1445.72 355.847,1445.72 356.866,1445.72 357.884,1445.72 358.902,1445.72 359.921,1445.72 360.939,1445.72 361.957,1445.72 362.976,1445.72 363.994,1445.72 365.012,1445.72 366.031,1445.72 367.049,1445.72 368.067,1445.72 369.086,1445.72 370.104,1445.72 371.122,1445.72 372.14,1445.72 373.159,1445.72 374.177,1445.72 375.195,1445.72 376.214,1445.72 377.232,1445.72 378.25,1445.72 379.269,1445.72 380.287,1445.72 381.305,1445.72 382.324,1445.72 383.342,1445.72 384.36,1445.72 385.379,1445.72 386.397,1445.72 387.415,1445.72 388.433,1445.72 389.452,1445.72 390.47,1445.72 391.488,1445.72 392.507,1445.72 393.525,1445.72 394.543,1445.72 395.562,1445.72 396.58,1445.72 397.598,1445.72 398.617,1445.72 399.635,1445.72 400.653,1445.72 401.671,1445.72 402.69,1445.72 403.708,1445.72 404.726,1445.72 405.745,1445.72 406.763,1445.72 407.781,1445.72 408.8,1445.72 409.818,1445.72 410.836,1445.72 411.855,1445.72 412.873,1445.72 413.891,1445.72 414.91,1445.72 415.928,1445.72 416.946,1445.72 417.964,1445.72 418.983,1445.72 420.001,1445.72 421.019,1445.72 422.038,1445.72 423.056,1445.72 424.074,1445.72 425.093,1445.72 426.111,1445.72 427.129,1445.72 428.148,1445.72 429.166,1445.72 430.184,1445.72 431.203,1445.72 432.221,1445.72 433.239,1445.72 434.257,1445.72 435.276,1445.72 436.294,1445.72 437.312,1445.72 438.331,1445.72 439.349,1445.72 440.367,1445.72 441.386,1445.72 442.404,1445.72 443.422,1445.72 444.441,1445.72 445.459,1445.72 446.477,1445.72 447.496,1445.72 448.514,1445.72 449.532,1445.72 450.55,1445.72 451.569,1445.72 452.587,1445.72 453.605,1445.72 454.624,1445.72 455.642,1445.72 456.66,1445.72 457.679,1445.72 458.697,1445.72 459.715,1445.72 460.734,1445.72 461.752,1445.72 462.77,1445.72 463.788,1445.72 464.807,1445.72 465.825,1445.72 466.843,1445.72 467.862,1445.72 468.88,1445.72 469.898,1445.72 470.917,1445.72 471.935,1445.72 472.953,1445.72 473.972,1445.72 474.99,1445.72 476.008,1445.72 477.027,1445.72 478.045,1445.72 479.063,1445.72 480.081,1445.72 481.1,1445.72 482.118,1445.72 483.136,1445.72 484.155,1445.72 485.173,1445.72 486.191,1445.72 487.21,1445.72 488.228,1445.72 489.246,1445.72 490.265,1445.72 491.283,1445.72 492.301,1445.72 493.32,1445.72 494.338,1445.72 495.356,1445.72 496.374,1445.72 497.393,1445.72 498.411,1445.72 499.429,1445.72 500.448,1445.72 501.466,1445.72 502.484,1445.72 503.503,1445.72 504.521,1445.72 505.539,1445.72 506.558,1445.72 507.576,1445.72 508.594,1445.72 509.612,1445.72 510.631,1445.72 511.649,1445.72 512.667,1445.72 513.686,1445.72 514.704,1445.72 515.722,1445.72 516.741,1445.72 517.759,1445.72 518.777,1445.72 519.796,1445.72 520.814,1445.72 521.832,1445.72 522.851,1445.72 523.869,1445.72 524.887,1445.72 525.905,1445.72 526.924,1445.72 527.942,1445.72 528.96,1445.72 529.979,1445.72 530.997,1445.72 532.015,1445.72 533.034,1445.72 534.052,1445.72 535.07,1445.72 536.089,1445.72 537.107,1445.72 538.125,1445.72 539.144,1445.72 540.162,1445.72 541.18,1445.72 542.198,1445.72 543.217,1445.72 544.235,1445.72 545.253,1445.72 546.272,1445.72 547.29,1445.72 548.308,1445.72 549.327,1445.72 550.345,1445.72 551.363,1445.72 552.382,1445.72 553.4,1445.72 554.418,1445.72 555.437,1445.72 556.455,1445.72 557.473,1445.72 558.491,1445.72 559.51,1445.72 560.528,1445.72 561.546,1445.72 562.565,1445.72 563.583,1445.72 564.601,1445.72 565.62,1445.72 566.638,1445.72 567.656,1445.72 568.675,1445.72 569.693,1445.72 570.711,1445.72 571.729,1445.72 572.748,1445.72 573.766,1445.72 574.784,1445.72 575.803,1445.72 576.821,1445.72 577.839,1445.72 578.858,1445.72 579.876,1445.72 580.894,1445.72 581.913,1445.72 582.931,1445.72 583.949,1445.72 584.968,1445.72 585.986,1445.72 587.004,1445.72 588.022,1445.72 589.041,1445.72 590.059,1445.72 591.077,1445.72 592.096,1445.72 593.114,1445.72 594.132,1445.72 595.151,1445.72 596.169,1445.72 597.187,1445.72 598.206,1445.72 599.224,1445.72 600.242,1445.72 601.261,1445.72 602.279,1445.72 603.297,1445.72 604.315,1445.72 605.334,1445.72 606.352,1445.72 607.37,1445.72 608.389,1445.72 609.407,1445.72 610.425,1445.72 611.444,1445.72 612.462,1445.72 613.48,1445.72 614.499,1445.72 615.517,1445.72 616.535,1445.72 617.553,1445.72 618.572,1445.72 619.59,1445.72 620.608,1445.72 621.627,1445.72 622.645,1445.72 623.663,1445.72 624.682,1445.72 625.7,1445.72 626.718,1445.72 627.737,1445.72 628.755,1445.72 629.773,1445.72 630.792,1445.72 631.81,1445.72 632.828,1445.72 633.846,1445.72 634.865,1445.72 635.883,1445.72 636.901,1445.72 637.92,1445.72 638.938,1445.72 639.956,1445.72 640.975,1445.72 641.993,1445.72 643.011,1445.72 644.03,1445.72 645.048,1445.72 646.066,1445.72 647.085,1445.72 648.103,1445.72 649.121,1445.72 650.139,1445.72 651.158,1445.72 652.176,1445.72 653.194,1445.72 654.213,1445.72 655.231,1445.72 656.249,1445.72 657.268,1445.72 658.286,1445.72 659.304,1445.72 660.323,1445.72 661.341,1445.72 662.359,1445.72 663.377,1445.72 664.396,1445.72 665.414,1445.72 666.432,1445.72 667.451,1445.72 668.469,1445.72 669.487,1445.72 670.506,1445.72 671.524,1445.72 672.542,1445.72 673.561,1445.72 674.579,1445.72 675.597,1445.72 676.616,1445.72 677.634,1445.72 678.652,1445.72 679.67,1445.72 680.689,1445.72 681.707,1445.72 682.725,1445.72 683.744,1445.72 684.762,1445.72 685.78,1445.72 686.799,1445.72 687.817,1445.72 688.835,1445.72 689.854,1445.72 690.872,1445.72 691.89,1445.72 692.909,1445.72 693.927,1445.72 694.945,1445.72 695.963,1445.72 696.982,1445.72 698,1445.72 699.018,1445.72 700.037,1445.72 701.055,1445.72 702.073,1445.72 703.092,1445.72 704.11,1445.72 705.128,1445.72 706.147,1445.72 707.165,1445.72 708.183,1445.72 709.202,1445.72 710.22,1445.72 711.238,1445.72 712.256,1445.72 713.275,1445.72 714.293,1445.72 715.311,1445.72 716.33,1445.72 717.348,1445.72 718.366,1445.72 719.385,1445.72 720.403,1445.72 721.421,1445.72 722.44,1445.72 723.458,1445.72 724.476,1445.72 725.494,1445.72 726.513,1445.72 727.531,1445.72 728.549,1445.72 729.568,1445.72 730.586,1445.72 731.604,1445.72 732.623,1445.72 733.641,1445.72 734.659,1445.72 735.678,1445.72 736.696,1445.72 737.714,1445.72 738.733,1445.72 739.751,1445.72 740.769,1445.72 741.787,1445.72 742.806,1445.72 743.824,1445.72 744.842,1445.72 745.861,1445.72 746.879,1445.72 747.897,1445.72 748.916,1445.72 749.934,1445.72 750.952,1445.72 751.971,1445.72 752.989,1445.72 754.007,1445.72 755.026,1445.72 756.044,1445.72 757.062,1445.72 758.08,1445.72 759.099,1445.72 760.117,1445.72 761.135,1445.72 762.154,1445.72 763.172,1445.72 764.19,1445.72 765.209,1445.72 766.227,1445.72 767.245,1445.72 768.264,1445.72 769.282,1445.72 770.3,1445.72 771.318,1445.72 772.337,1445.72 773.355,1445.72 774.373,1445.72 775.392,1445.72 776.41,1445.72 777.428,1445.72 778.447,1445.72 779.465,1445.72 780.483,1445.72 781.502,1445.72 782.52,1445.72 783.538,1445.72 784.557,1445.72 785.575,1445.72 786.593,1445.72 787.611,1445.72 788.63,1445.72 789.648,1445.72 790.666,1445.72 791.685,1445.72 792.703,1445.72 793.721,1445.72 794.74,1445.72 795.758,1445.72 796.776,1445.72 797.795,1445.72 798.813,1445.72 799.831,1445.72 800.85,1445.72 801.868,1445.72 802.886,1445.72 803.904,1445.72 804.923,1445.72 805.941,1445.72 806.959,1445.72 807.978,1445.72 808.996,1445.72 810.014,1445.72 811.033,1445.72 812.051,1445.72 813.069,1445.72 814.088,1445.72 815.106,1445.72 816.124,1445.72 817.142,1445.72 818.161,1445.72 819.179,1445.72 820.197,1445.72 821.216,1445.72 822.234,1445.72 823.252,1445.72 824.271,1445.72 825.289,1445.72 826.307,1445.72 827.326,1445.72 828.344,1445.72 829.362,1445.72 830.381,1445.72 831.399,1445.72 832.417,1445.72 833.435,1445.72 834.454,1445.72 835.472,1445.72 836.49,1445.72 837.509,1445.72 838.527,1445.72 839.545,1445.72 840.564,1445.72 841.582,1445.72 842.6,1445.72 843.619,1445.72 844.637,1445.72 845.655,1445.72 846.674,1445.72 847.692,1445.72 848.71,1445.72 849.728,1445.72 850.747,1445.72 851.765,1445.72 852.783,1445.72 853.802,1445.72 854.82,1445.72 855.838,1445.72 856.857,1445.72 857.875,1445.72 858.893,1445.72 859.912,1445.72 860.93,1445.72 861.948,1445.72 862.967,1445.72 863.985,1445.72 865.003,1445.72 866.021,1445.72 867.04,1445.72 868.058,1445.72 869.076,1445.72 870.095,1445.72 871.113,1445.72 872.131,1445.72 873.15,1445.72 874.168,1445.72 875.186,1445.72 876.205,1445.72 877.223,1445.72 878.241,1445.72 879.259,1445.72 880.278,1445.72 881.296,1445.72 882.314,1445.72 883.333,1445.72 884.351,1445.72 885.369,1445.72 886.388,1445.72 887.406,1445.72 888.424,1445.72 889.443,1445.72 890.461,1445.72 891.479,1445.72 892.498,1445.72 893.516,1445.72 894.534,1445.72 895.552,1445.72 896.571,1445.72 897.589,1445.72 898.607,1445.72 899.626,1445.72 900.644,1445.72 901.662,1445.72 902.681,1445.72 903.699,1445.72 904.717,1445.72 905.736,1445.72 906.754,1445.72 907.772,1445.72 908.791,1445.72 909.809,1445.72 910.827,1445.72 911.845,1445.72 912.864,1445.72 913.882,1445.72 914.9,1445.72 915.919,1445.72 916.937,1445.72 917.955,1445.72 918.974,1445.72 919.992,1445.72 921.01,1445.72 922.029,1445.72 923.047,1445.72 924.065,1445.72 925.083,1445.72 926.102,1445.72 927.12,1445.72 928.138,1445.72 929.157,1445.72 930.175,1445.72 931.193,1445.72 932.212,1445.72 933.23,1445.72 934.248,1445.72 935.267,1445.72 936.285,1445.72 937.303,1445.72 938.322,1445.72 939.34,1445.72 940.358,1445.72 941.376,1445.72 942.395,1445.72 943.413,1445.72 944.431,1445.72 945.45,1445.72 946.468,1445.72 947.486,1445.72 948.505,1445.72 949.523,1445.72 950.541,1445.72 951.56,1445.72 952.578,1445.72 953.596,1445.72 954.615,1445.72 955.633,1445.72 956.651,1445.72 957.669,1445.72 958.688,1445.72 959.706,1445.72 960.724,1445.72 961.743,1445.72 962.761,1445.72 963.779,1445.72 964.798,1445.72 965.816,1445.72 966.834,1445.72 967.853,1445.72 968.871,1445.72 969.889,1445.72 970.908,1445.72 971.926,1445.72 972.944,1445.72 973.962,1445.72 974.981,1445.72 975.999,1445.72 977.017,1445.72 978.036,1445.72 979.054,1445.72 980.072,1445.72 981.091,1445.72 982.109,1445.72 983.127,1445.72 984.146,1445.72 985.164,1445.72 986.182,1445.72 987.2,1445.72 988.219,1445.72 989.237,1445.72 990.255,1445.72 991.274,1445.72 992.292,1445.72 993.31,1445.72 994.329,1445.72 995.347,1445.72 996.365,1445.72 997.384,1445.72 998.402,1445.72 999.42,1445.72 1000.44,1445.72 1001.46,1445.72 1002.48,1445.72 1003.49,1445.72 1004.51,1445.72 1005.53,1445.72 1006.55,1445.72 1007.57,1445.72 1008.59,1445.72 1009.6,1445.72 1010.62,1445.72 1011.64,1445.72 1012.66,1445.72 1013.68,1445.72 1014.69,1445.72 1015.71,1445.72 1016.73,1445.72 1017.75,1445.72 1018.77,1445.72 1019.79,1445.72 1020.8,1445.72 1021.82,1445.72 1022.84,1445.72 1023.86,1445.72 1024.88,1445.72 1025.9,1445.72 1026.91,1445.72 1027.93,1445.72 1028.95,1445.72 1029.97,1445.72 1030.99,1445.72 1032.01,1445.72 1033.02,1445.72 1034.04,1445.72 1035.06,1445.72 1036.08,1445.72 1037.1,1445.72 1038.12,1445.72 1039.13,1445.72 1040.15,1445.72 1041.17,1445.72 1042.19,1445.72 1043.21,1445.72 1044.23,1445.72 1045.24,1445.72 1046.26,1445.72 1047.28,1445.72 1048.3,1445.72 1049.32,1445.72 1050.34,1445.72 1051.35,1445.72 1052.37,1445.72 1053.39,1445.72 1054.41,1445.72 1055.43,1445.72 1056.45,1445.72 1057.46,1445.72 1058.48,1445.72 1059.5,1445.72 1060.52,1445.72 1061.54,1445.72 1062.56,1445.72 1063.57,1445.72 1064.59,1445.72 1065.61,1445.72 1066.63,1445.72 1067.65,1445.72 1068.67,1445.72 1069.68,1445.72 1070.7,1445.72 1071.72,1445.72 1072.74,1445.72 1073.76,1445.72 1074.78,1445.72 1075.79,1445.72 1076.81,1445.72 1077.83,1445.72 1078.85,1445.72 1079.87,1445.72 1080.89,1445.72 1081.9,1445.72 1082.92,1445.72 1083.94,1445.72 1084.96,1445.72 1085.98,1445.72 1086.99,1445.72 1088.01,1445.72 1089.03,1445.72 1090.05,1445.72 1091.07,1445.72 1092.09,1445.72 1093.1,1445.72 1094.12,1445.72 1095.14,1445.72 1096.16,1445.72 1097.18,1445.72 1098.2,1445.72 1099.21,1445.72 1100.23,1445.72 1101.25,1445.72 1102.27,1445.72 1103.29,1445.72 1104.31,1445.72 1105.32,1445.72 1106.34,1445.72 1107.36,1445.72 1108.38,1445.72 1109.4,1445.72 1110.42,1445.72 1111.43,1445.72 1112.45,1445.72 1113.47,1445.72 1114.49,1445.72 1115.51,1445.72 1116.53,1445.72 1117.54,1445.72 1118.56,1445.72 1119.58,1445.72 1120.6,1445.72 1121.62,1445.72 1122.64,1445.72 1123.65,1445.72 1124.67,1445.72 1125.69,1445.72 1126.71,1445.72 1127.73,1445.72 1128.75,1445.72 1129.76,1445.72 1130.78,1445.72 1131.8,1445.72 1132.82,1445.72 1133.84,1445.72 1134.86,1445.72 1135.87,1445.72 1136.89,1445.72 1137.91,1445.72 1138.93,1445.72 1139.95,1445.72 1140.97,1445.72 1141.98,1445.72 1143,1445.72 1144.02,1445.72 1145.04,1445.72 1146.06,1445.72 1147.08,1445.72 1148.09,1445.72 1149.11,1445.72 1150.13,1445.72 1151.15,1445.72 1152.17,1445.72 1153.19,1445.72 1154.2,1445.72 1155.22,1445.72 1156.24,1445.72 1157.26,1445.72 1158.28,1445.72 1159.3,1445.72 1160.31,1445.72 1161.33,1445.72 1162.35,1445.72 1163.37,1445.72 1164.39,1445.72 1165.4,1445.72 1166.42,1445.72 1167.44,1445.72 1168.46,1445.72 1169.48,1445.72 1170.5,1445.72 1171.51,1445.72 1172.53,1445.72 1173.55,1445.72 1174.57,1445.72 1175.59,1445.72 1176.61,1445.72 1177.62,1445.72 1178.64,1445.72 1179.66,1445.72 1180.68,1445.72 1181.7,1445.72 1182.72,1445.72 1183.73,1445.72 1184.75,1445.72 1185.77,1445.72 1186.79,1445.72 1187.81,1445.72 1188.83,1445.72 1189.84,1445.72 1190.86,1445.72 1191.88,1445.72 1192.9,1445.72 1193.92,1445.72 1194.94,1445.72 1195.95,1445.72 1196.97,1445.72 1197.99,1445.72 1199.01,1445.72 1200.03,1445.72 1201.05,1445.72 1202.06,1445.72 1203.08,1445.72 1204.1,1445.72 1205.12,1445.72 1206.14,1445.72 1207.16,1445.72 1208.17,1445.72 1209.19,1445.72 1210.21,1445.72 1211.23,1445.72 1212.25,1445.72 1213.27,1445.72 1214.28,1445.72 1215.3,1445.72 1216.32,1445.72 1217.34,1445.72 1218.36,1445.72 1219.38,1445.72 1220.39,1445.72 1221.41,1445.72 1222.43,1445.72 1223.45,1445.72 1224.47,1445.72 1225.49,1445.72 1226.5,1445.72 1227.52,1445.72 1228.54,1445.72 1229.56,1445.72 1230.58,1445.72 1231.6,1445.72 1232.61,1445.72 1233.63,1445.72 1234.65,1445.72 1235.67,1445.72 1236.69,1445.72 1237.71,1445.72 1238.72,1445.72 1239.74,1445.72 1240.76,1445.72 1241.78,1445.72 1242.8,1445.72 1243.81,1445.72 1244.83,1445.72 1245.85,1445.72 1246.87,1445.72 1247.89,1445.72 1248.91,1445.72 1249.92,1445.72 1250.94,1445.72 1251.96,1445.72 1252.98,1445.72 1254,1445.72 1255.02,1445.72 1256.03,1445.72 1257.05,1445.72 1258.07,1445.72 1259.09,1445.72 1260.11,1445.72 1261.13,1445.72 1262.14,1445.72 1263.16,1445.72 1264.18,1445.72 1265.2,1445.72 1266.22,1445.72 1267.24,1445.72 1268.25,1445.72 1269.27,1445.72 1270.29,1445.72 1271.31,1445.72 1272.33,1445.72 \"/>\n",
       "<polyline clip-path=\"url(#clip072)\" style=\"stroke:#009af9; stroke-linecap:round; stroke-linejoin:round; stroke-width:4; stroke-opacity:1; fill:none\" points=\"1274.36,87.9763 1275.38,87.9763 1276.4,87.9763 1277.42,87.9763 1278.44,87.9763 1279.46,87.9763 1280.47,87.9763 1281.49,87.9763 1282.51,87.9763 1283.53,87.9763 1284.55,87.9763 1285.57,87.9763 1286.58,87.9763 1287.6,87.9763 1288.62,87.9763 1289.64,87.9763 1290.66,87.9763 1291.68,87.9763 1292.69,87.9763 1293.71,87.9763 1294.73,87.9763 1295.75,87.9763 1296.77,87.9763 1297.79,87.9763 1298.8,87.9763 1299.82,87.9763 1300.84,87.9763 1301.86,87.9763 1302.88,87.9763 1303.9,87.9763 1304.91,87.9763 1305.93,87.9763 1306.95,87.9763 1307.97,87.9763 1308.99,87.9763 1310.01,87.9763 1311.02,87.9763 1312.04,87.9763 1313.06,87.9763 1314.08,87.9763 1315.1,87.9763 1316.12,87.9763 1317.13,87.9763 1318.15,87.9763 1319.17,87.9763 1320.19,87.9763 1321.21,87.9763 1322.22,87.9763 1323.24,87.9763 1324.26,87.9763 1325.28,87.9763 1326.3,87.9763 1327.32,87.9763 1328.33,87.9763 1329.35,87.9763 1330.37,87.9763 1331.39,87.9763 1332.41,87.9763 1333.43,87.9763 1334.44,87.9763 1335.46,87.9763 1336.48,87.9763 1337.5,87.9763 1338.52,87.9763 1339.54,87.9763 1340.55,87.9763 1341.57,87.9763 1342.59,87.9763 1343.61,87.9763 1344.63,87.9763 1345.65,87.9763 1346.66,87.9763 1347.68,87.9763 1348.7,87.9763 1349.72,87.9763 1350.74,87.9763 1351.76,87.9763 1352.77,87.9763 1353.79,87.9763 1354.81,87.9763 1355.83,87.9763 1356.85,87.9763 1357.87,87.9763 1358.88,87.9763 1359.9,87.9763 1360.92,87.9763 1361.94,87.9763 1362.96,87.9763 1363.98,87.9763 1364.99,87.9763 1366.01,87.9763 1367.03,87.9763 1368.05,87.9763 1369.07,87.9763 1370.09,87.9763 1371.1,87.9763 1372.12,87.9763 1373.14,87.9763 1374.16,87.9763 1375.18,87.9763 1376.2,87.9763 1377.21,87.9763 1378.23,87.9763 1379.25,87.9763 1380.27,87.9763 1381.29,87.9763 1382.31,87.9763 1383.32,87.9763 1384.34,87.9763 1385.36,87.9763 1386.38,87.9763 1387.4,87.9763 1388.42,87.9763 1389.43,87.9763 1390.45,87.9763 1391.47,87.9763 1392.49,87.9763 1393.51,87.9763 1394.52,87.9763 1395.54,87.9763 1396.56,87.9763 1397.58,87.9763 1398.6,87.9763 1399.62,87.9763 1400.63,87.9763 1401.65,87.9763 1402.67,87.9763 1403.69,87.9763 1404.71,87.9763 1405.73,87.9763 1406.74,87.9763 1407.76,87.9763 1408.78,87.9763 1409.8,87.9763 1410.82,87.9763 1411.84,87.9763 1412.85,87.9763 1413.87,87.9763 1414.89,87.9763 1415.91,87.9763 1416.93,87.9763 1417.95,87.9763 1418.96,87.9763 1419.98,87.9763 1421,87.9763 1422.02,87.9763 1423.04,87.9763 1424.06,87.9763 1425.07,87.9763 1426.09,87.9763 1427.11,87.9763 1428.13,87.9763 1429.15,87.9763 1430.17,87.9763 1431.18,87.9763 1432.2,87.9763 1433.22,87.9763 1434.24,87.9763 1435.26,87.9763 1436.28,87.9763 1437.29,87.9763 1438.31,87.9763 1439.33,87.9763 1440.35,87.9763 1441.37,87.9763 1442.39,87.9763 1443.4,87.9763 1444.42,87.9763 1445.44,87.9763 1446.46,87.9763 1447.48,87.9763 1448.5,87.9763 1449.51,87.9763 1450.53,87.9763 1451.55,87.9763 1452.57,87.9763 1453.59,87.9763 1454.61,87.9763 1455.62,87.9763 1456.64,87.9763 1457.66,87.9763 1458.68,87.9763 1459.7,87.9763 1460.72,87.9763 1461.73,87.9763 1462.75,87.9763 1463.77,87.9763 1464.79,87.9763 1465.81,87.9763 1466.83,87.9763 1467.84,87.9763 1468.86,87.9763 1469.88,87.9763 1470.9,87.9763 1471.92,87.9763 1472.93,87.9763 1473.95,87.9763 1474.97,87.9763 1475.99,87.9763 1477.01,87.9763 1478.03,87.9763 1479.04,87.9763 1480.06,87.9763 1481.08,87.9763 1482.1,87.9763 1483.12,87.9763 1484.14,87.9763 1485.15,87.9763 1486.17,87.9763 1487.19,87.9763 1488.21,87.9763 1489.23,87.9763 1490.25,87.9763 1491.26,87.9763 1492.28,87.9763 1493.3,87.9763 1494.32,87.9763 1495.34,87.9763 1496.36,87.9763 1497.37,87.9763 1498.39,87.9763 1499.41,87.9763 1500.43,87.9763 1501.45,87.9763 1502.47,87.9763 1503.48,87.9763 1504.5,87.9763 1505.52,87.9763 1506.54,87.9763 1507.56,87.9763 1508.58,87.9763 1509.59,87.9763 1510.61,87.9763 1511.63,87.9763 1512.65,87.9763 1513.67,87.9763 1514.69,87.9763 1515.7,87.9763 1516.72,87.9763 1517.74,87.9763 1518.76,87.9763 1519.78,87.9763 1520.8,87.9763 1521.81,87.9763 1522.83,87.9763 1523.85,87.9763 1524.87,87.9763 1525.89,87.9763 1526.91,87.9763 1527.92,87.9763 1528.94,87.9763 1529.96,87.9763 1530.98,87.9763 1532,87.9763 1533.02,87.9763 1534.03,87.9763 1535.05,87.9763 1536.07,87.9763 1537.09,87.9763 1538.11,87.9763 1539.13,87.9763 1540.14,87.9763 1541.16,87.9763 1542.18,87.9763 1543.2,87.9763 1544.22,87.9763 1545.24,87.9763 1546.25,87.9763 1547.27,87.9763 1548.29,87.9763 1549.31,87.9763 1550.33,87.9763 1551.34,87.9763 1552.36,87.9763 1553.38,87.9763 1554.4,87.9763 1555.42,87.9763 1556.44,87.9763 1557.45,87.9763 1558.47,87.9763 1559.49,87.9763 1560.51,87.9763 1561.53,87.9763 1562.55,87.9763 1563.56,87.9763 1564.58,87.9763 1565.6,87.9763 1566.62,87.9763 1567.64,87.9763 1568.66,87.9763 1569.67,87.9763 1570.69,87.9763 1571.71,87.9763 1572.73,87.9763 1573.75,87.9763 1574.77,87.9763 1575.78,87.9763 1576.8,87.9763 1577.82,87.9763 1578.84,87.9763 1579.86,87.9763 1580.88,87.9763 1581.89,87.9763 1582.91,87.9763 1583.93,87.9763 1584.95,87.9763 1585.97,87.9763 1586.99,87.9763 1588,87.9763 1589.02,87.9763 1590.04,87.9763 1591.06,87.9763 1592.08,87.9763 1593.1,87.9763 1594.11,87.9763 1595.13,87.9763 1596.15,87.9763 1597.17,87.9763 1598.19,87.9763 1599.21,87.9763 1600.22,87.9763 1601.24,87.9763 1602.26,87.9763 1603.28,87.9763 1604.3,87.9763 1605.32,87.9763 1606.33,87.9763 1607.35,87.9763 1608.37,87.9763 1609.39,87.9763 1610.41,87.9763 1611.43,87.9763 1612.44,87.9763 1613.46,87.9763 1614.48,87.9763 1615.5,87.9763 1616.52,87.9763 1617.54,87.9763 1618.55,87.9763 1619.57,87.9763 1620.59,87.9763 1621.61,87.9763 1622.63,87.9763 1623.65,87.9763 1624.66,87.9763 1625.68,87.9763 1626.7,87.9763 1627.72,87.9763 1628.74,87.9763 1629.75,87.9763 1630.77,87.9763 1631.79,87.9763 1632.81,87.9763 1633.83,87.9763 1634.85,87.9763 1635.86,87.9763 1636.88,87.9763 1637.9,87.9763 1638.92,87.9763 1639.94,87.9763 1640.96,87.9763 1641.97,87.9763 1642.99,87.9763 1644.01,87.9763 1645.03,87.9763 1646.05,87.9763 1647.07,87.9763 1648.08,87.9763 1649.1,87.9763 1650.12,87.9763 1651.14,87.9763 1652.16,87.9763 1653.18,87.9763 1654.19,87.9763 1655.21,87.9763 1656.23,87.9763 1657.25,87.9763 1658.27,87.9763 1659.29,87.9763 1660.3,87.9763 1661.32,87.9763 1662.34,87.9763 1663.36,87.9763 1664.38,87.9763 1665.4,87.9763 1666.41,87.9763 1667.43,87.9763 1668.45,87.9763 1669.47,87.9763 1670.49,87.9763 1671.51,87.9763 1672.52,87.9763 1673.54,87.9763 1674.56,87.9763 1675.58,87.9763 1676.6,87.9763 1677.62,87.9763 1678.63,87.9763 1679.65,87.9763 1680.67,87.9763 1681.69,87.9763 1682.71,87.9763 1683.73,87.9763 1684.74,87.9763 1685.76,87.9763 1686.78,87.9763 1687.8,87.9763 1688.82,87.9763 1689.84,87.9763 1690.85,87.9763 1691.87,87.9763 1692.89,87.9763 1693.91,87.9763 1694.93,87.9763 1695.95,87.9763 1696.96,87.9763 1697.98,87.9763 1699,87.9763 1700.02,87.9763 1701.04,87.9763 1702.05,87.9763 1703.07,87.9763 1704.09,87.9763 1705.11,87.9763 1706.13,87.9763 1707.15,87.9763 1708.16,87.9763 1709.18,87.9763 1710.2,87.9763 1711.22,87.9763 1712.24,87.9763 1713.26,87.9763 1714.27,87.9763 1715.29,87.9763 1716.31,87.9763 1717.33,87.9763 1718.35,87.9763 1719.37,87.9763 1720.38,87.9763 1721.4,87.9763 1722.42,87.9763 1723.44,87.9763 1724.46,87.9763 1725.48,87.9763 1726.49,87.9763 1727.51,87.9763 1728.53,87.9763 1729.55,87.9763 1730.57,87.9763 1731.59,87.9763 1732.6,87.9763 1733.62,87.9763 1734.64,87.9763 1735.66,87.9763 1736.68,87.9763 1737.7,87.9763 1738.71,87.9763 1739.73,87.9763 1740.75,87.9763 1741.77,87.9763 1742.79,87.9763 1743.81,87.9763 1744.82,87.9763 1745.84,87.9763 1746.86,87.9763 1747.88,87.9763 1748.9,87.9763 1749.92,87.9763 1750.93,87.9763 1751.95,87.9763 1752.97,87.9763 1753.99,87.9763 1755.01,87.9763 1756.03,87.9763 1757.04,87.9763 1758.06,87.9763 1759.08,87.9763 1760.1,87.9763 1761.12,87.9763 1762.14,87.9763 1763.15,87.9763 1764.17,87.9763 1765.19,87.9763 1766.21,87.9763 1767.23,87.9763 1768.25,87.9763 1769.26,87.9763 1770.28,87.9763 1771.3,87.9763 1772.32,87.9763 1773.34,87.9763 1774.36,87.9763 1775.37,87.9763 1776.39,87.9763 1777.41,87.9763 1778.43,87.9763 1779.45,87.9763 1780.46,87.9763 1781.48,87.9763 1782.5,87.9763 1783.52,87.9763 1784.54,87.9763 1785.56,87.9763 1786.57,87.9763 1787.59,87.9763 1788.61,87.9763 1789.63,87.9763 1790.65,87.9763 1791.67,87.9763 1792.68,87.9763 1793.7,87.9763 1794.72,87.9763 1795.74,87.9763 1796.76,87.9763 1797.78,87.9763 1798.79,87.9763 1799.81,87.9763 1800.83,87.9763 1801.85,87.9763 1802.87,87.9763 1803.89,87.9763 1804.9,87.9763 1805.92,87.9763 1806.94,87.9763 1807.96,87.9763 1808.98,87.9763 1810,87.9763 1811.01,87.9763 1812.03,87.9763 1813.05,87.9763 1814.07,87.9763 1815.09,87.9763 1816.11,87.9763 1817.12,87.9763 1818.14,87.9763 1819.16,87.9763 1820.18,87.9763 1821.2,87.9763 1822.22,87.9763 1823.23,87.9763 1824.25,87.9763 1825.27,87.9763 1826.29,87.9763 1827.31,87.9763 1828.33,87.9763 1829.34,87.9763 1830.36,87.9763 1831.38,87.9763 1832.4,87.9763 1833.42,87.9763 1834.44,87.9763 1835.45,87.9763 1836.47,87.9763 1837.49,87.9763 1838.51,87.9763 1839.53,87.9763 1840.55,87.9763 1841.56,87.9763 1842.58,87.9763 1843.6,87.9763 1844.62,87.9763 1845.64,87.9763 1846.66,87.9763 1847.67,87.9763 1848.69,87.9763 1849.71,87.9763 1850.73,87.9763 1851.75,87.9763 1852.77,87.9763 1853.78,87.9763 1854.8,87.9763 1855.82,87.9763 1856.84,87.9763 1857.86,87.9763 1858.87,87.9763 1859.89,87.9763 1860.91,87.9763 1861.93,87.9763 1862.95,87.9763 1863.97,87.9763 1864.98,87.9763 1866,87.9763 1867.02,87.9763 1868.04,87.9763 1869.06,87.9763 1870.08,87.9763 1871.09,87.9763 1872.11,87.9763 1873.13,87.9763 1874.15,87.9763 1875.17,87.9763 1876.19,87.9763 1877.2,87.9763 1878.22,87.9763 1879.24,87.9763 1880.26,87.9763 1881.28,87.9763 1882.3,87.9763 1883.31,87.9763 1884.33,87.9763 1885.35,87.9763 1886.37,87.9763 1887.39,87.9763 1888.41,87.9763 1889.42,87.9763 1890.44,87.9763 1891.46,87.9763 1892.48,87.9763 1893.5,87.9763 1894.52,87.9763 1895.53,87.9763 1896.55,87.9763 1897.57,87.9763 1898.59,87.9763 1899.61,87.9763 1900.63,87.9763 1901.64,87.9763 1902.66,87.9763 1903.68,87.9763 1904.7,87.9763 1905.72,87.9763 1906.74,87.9763 1907.75,87.9763 1908.77,87.9763 1909.79,87.9763 1910.81,87.9763 1911.83,87.9763 1912.85,87.9763 1913.86,87.9763 1914.88,87.9763 1915.9,87.9763 1916.92,87.9763 1917.94,87.9763 1918.96,87.9763 1919.97,87.9763 1920.99,87.9763 1922.01,87.9763 1923.03,87.9763 1924.05,87.9763 1925.07,87.9763 1926.08,87.9763 1927.1,87.9763 1928.12,87.9763 1929.14,87.9763 1930.16,87.9763 1931.18,87.9763 1932.19,87.9763 1933.21,87.9763 1934.23,87.9763 1935.25,87.9763 1936.27,87.9763 1937.28,87.9763 1938.3,87.9763 1939.32,87.9763 1940.34,87.9763 1941.36,87.9763 1942.38,87.9763 1943.39,87.9763 1944.41,87.9763 1945.43,87.9763 1946.45,87.9763 1947.47,87.9763 1948.49,87.9763 1949.5,87.9763 1950.52,87.9763 1951.54,87.9763 1952.56,87.9763 1953.58,87.9763 1954.6,87.9763 1955.61,87.9763 1956.63,87.9763 1957.65,87.9763 1958.67,87.9763 1959.69,87.9763 1960.71,87.9763 1961.72,87.9763 1962.74,87.9763 1963.76,87.9763 1964.78,87.9763 1965.8,87.9763 1966.82,87.9763 1967.83,87.9763 1968.85,87.9763 1969.87,87.9763 1970.89,87.9763 1971.91,87.9763 1972.93,87.9763 1973.94,87.9763 1974.96,87.9763 1975.98,87.9763 1977,87.9763 1978.02,87.9763 1979.04,87.9763 1980.05,87.9763 1981.07,87.9763 1982.09,87.9763 1983.11,87.9763 1984.13,87.9763 1985.15,87.9763 1986.16,87.9763 1987.18,87.9763 1988.2,87.9763 1989.22,87.9763 1990.24,87.9763 1991.26,87.9763 1992.27,87.9763 1993.29,87.9763 1994.31,87.9763 1995.33,87.9763 1996.35,87.9763 1997.37,87.9763 1998.38,87.9763 1999.4,87.9763 2000.42,87.9763 2001.44,87.9763 2002.46,87.9763 2003.48,87.9763 2004.49,87.9763 2005.51,87.9763 2006.53,87.9763 2007.55,87.9763 2008.57,87.9763 2009.59,87.9763 2010.6,87.9763 2011.62,87.9763 2012.64,87.9763 2013.66,87.9763 2014.68,87.9763 2015.69,87.9763 2016.71,87.9763 2017.73,87.9763 2018.75,87.9763 2019.77,87.9763 2020.79,87.9763 2021.8,87.9763 2022.82,87.9763 2023.84,87.9763 2024.86,87.9763 2025.88,87.9763 2026.9,87.9763 2027.91,87.9763 2028.93,87.9763 2029.95,87.9763 2030.97,87.9763 2031.99,87.9763 2033.01,87.9763 2034.02,87.9763 2035.04,87.9763 2036.06,87.9763 2037.08,87.9763 2038.1,87.9763 2039.12,87.9763 2040.13,87.9763 2041.15,87.9763 2042.17,87.9763 2043.19,87.9763 2044.21,87.9763 2045.23,87.9763 2046.24,87.9763 2047.26,87.9763 2048.28,87.9763 2049.3,87.9763 2050.32,87.9763 2051.34,87.9763 2052.35,87.9763 2053.37,87.9763 2054.39,87.9763 2055.41,87.9763 2056.43,87.9763 2057.45,87.9763 2058.46,87.9763 2059.48,87.9763 2060.5,87.9763 2061.52,87.9763 2062.54,87.9763 2063.56,87.9763 2064.57,87.9763 2065.59,87.9763 2066.61,87.9763 2067.63,87.9763 2068.65,87.9763 2069.67,87.9763 2070.68,87.9763 2071.7,87.9763 2072.72,87.9763 2073.74,87.9763 2074.76,87.9763 2075.78,87.9763 2076.79,87.9763 2077.81,87.9763 2078.83,87.9763 2079.85,87.9763 2080.87,87.9763 2081.89,87.9763 2082.9,87.9763 2083.92,87.9763 2084.94,87.9763 2085.96,87.9763 2086.98,87.9763 2087.99,87.9763 2089.01,87.9763 2090.03,87.9763 2091.05,87.9763 2092.07,87.9763 2093.09,87.9763 2094.1,87.9763 2095.12,87.9763 2096.14,87.9763 2097.16,87.9763 2098.18,87.9763 2099.2,87.9763 2100.21,87.9763 2101.23,87.9763 2102.25,87.9763 2103.27,87.9763 2104.29,87.9763 2105.31,87.9763 2106.32,87.9763 2107.34,87.9763 2108.36,87.9763 2109.38,87.9763 2110.4,87.9763 2111.42,87.9763 2112.43,87.9763 2113.45,87.9763 2114.47,87.9763 2115.49,87.9763 2116.51,87.9763 2117.53,87.9763 2118.54,87.9763 2119.56,87.9763 2120.58,87.9763 2121.6,87.9763 2122.62,87.9763 2123.64,87.9763 2124.65,87.9763 2125.67,87.9763 2126.69,87.9763 2127.71,87.9763 2128.73,87.9763 2129.75,87.9763 2130.76,87.9763 2131.78,87.9763 2132.8,87.9763 2133.82,87.9763 2134.84,87.9763 2135.86,87.9763 2136.87,87.9763 2137.89,87.9763 2138.91,87.9763 2139.93,87.9763 2140.95,87.9763 2141.97,87.9763 2142.98,87.9763 2144,87.9763 2145.02,87.9763 2146.04,87.9763 2147.06,87.9763 2148.08,87.9763 2149.09,87.9763 2150.11,87.9763 2151.13,87.9763 2152.15,87.9763 2153.17,87.9763 2154.19,87.9763 2155.2,87.9763 2156.22,87.9763 2157.24,87.9763 2158.26,87.9763 2159.28,87.9763 2160.3,87.9763 2161.31,87.9763 2162.33,87.9763 2163.35,87.9763 2164.37,87.9763 2165.39,87.9763 2166.4,87.9763 2167.42,87.9763 2168.44,87.9763 2169.46,87.9763 2170.48,87.9763 2171.5,87.9763 2172.51,87.9763 2173.53,87.9763 2174.55,87.9763 2175.57,87.9763 2176.59,87.9763 2177.61,87.9763 2178.62,87.9763 2179.64,87.9763 2180.66,87.9763 2181.68,87.9763 2182.7,87.9763 2183.72,87.9763 2184.73,87.9763 2185.75,87.9763 2186.77,87.9763 2187.79,87.9763 2188.81,87.9763 2189.83,87.9763 2190.84,87.9763 2191.86,87.9763 2192.88,87.9763 2193.9,87.9763 2194.92,87.9763 2195.94,87.9763 2196.95,87.9763 2197.97,87.9763 2198.99,87.9763 2200.01,87.9763 2201.03,87.9763 2202.05,87.9763 2203.06,87.9763 2204.08,87.9763 2205.1,87.9763 2206.12,87.9763 2207.14,87.9763 2208.16,87.9763 2209.17,87.9763 2210.19,87.9763 2211.21,87.9763 2212.23,87.9763 2213.25,87.9763 2214.27,87.9763 2215.28,87.9763 2216.3,87.9763 2217.32,87.9763 2218.34,87.9763 2219.36,87.9763 2220.38,87.9763 2221.39,87.9763 2222.41,87.9763 2223.43,87.9763 2224.45,87.9763 2225.47,87.9763 2226.49,87.9763 2227.5,87.9763 2228.52,87.9763 2229.54,87.9763 2230.56,87.9763 2231.58,87.9763 2232.6,87.9763 2233.61,87.9763 2234.63,87.9763 2235.65,87.9763 2236.67,87.9763 2237.69,87.9763 2238.71,87.9763 2239.72,87.9763 2240.74,87.9763 2241.76,87.9763 2242.78,87.9763 2243.8,87.9763 2244.81,87.9763 2245.83,87.9763 2246.85,87.9763 2247.87,87.9763 2248.89,87.9763 2249.91,87.9763 2250.92,87.9763 2251.94,87.9763 2252.96,87.9763 2253.98,87.9763 2255,87.9763 2256.02,87.9763 2257.03,87.9763 2258.05,87.9763 2259.07,87.9763 2260.09,87.9763 2261.11,87.9763 2262.13,87.9763 2263.14,87.9763 2264.16,87.9763 2265.18,87.9763 2266.2,87.9763 2267.22,87.9763 2268.24,87.9763 2269.25,87.9763 2270.27,87.9763 2271.29,87.9763 2272.31,87.9763 2273.33,87.9763 2274.35,87.9763 2275.36,87.9763 2276.38,87.9763 2277.4,87.9763 2278.42,87.9763 2279.44,87.9763 2280.46,87.9763 2281.47,87.9763 2282.49,87.9763 2283.51,87.9763 2284.53,87.9763 2285.55,87.9763 2286.57,87.9763 2287.58,87.9763 2288.6,87.9763 2289.62,87.9763 2290.64,87.9763 2291.66,87.9763 \"/>\n",
       "<path clip-path=\"url(#clip070)\" d=\"M265.897 198.898 L534.209 198.898 L534.209 95.2176 L265.897 95.2176  Z\" fill=\"#ffffff\" fill-rule=\"evenodd\" fill-opacity=\"1\"/>\n",
       "<polyline clip-path=\"url(#clip070)\" style=\"stroke:#000000; stroke-linecap:round; stroke-linejoin:round; stroke-width:4; stroke-opacity:1; fill:none\" points=\"265.897,198.898 534.209,198.898 534.209,95.2176 265.897,95.2176 265.897,198.898 \"/>\n",
       "<polyline clip-path=\"url(#clip070)\" style=\"stroke:#009af9; stroke-linecap:round; stroke-linejoin:round; stroke-width:4; stroke-opacity:1; fill:none\" points=\"289.884,147.058 433.805,147.058 \"/>\n",
       "<path clip-path=\"url(#clip070)\" d=\"M471.634 166.745 Q469.829 171.375 468.116 172.787 Q466.403 174.199 463.532 174.199 L460.13 174.199 L460.13 170.634 L462.63 170.634 Q464.389 170.634 465.361 169.8 Q466.333 168.967 467.514 165.865 L468.278 163.921 L457.792 138.412 L462.306 138.412 L470.407 158.689 L478.509 138.412 L483.023 138.412 L471.634 166.745 Z\" fill=\"#000000\" fill-rule=\"evenodd\" fill-opacity=\"1\" /><path clip-path=\"url(#clip070)\" d=\"M490.315 160.402 L497.954 160.402 L497.954 134.037 L489.643 135.703 L489.643 131.444 L497.907 129.778 L502.583 129.778 L502.583 160.402 L510.222 160.402 L510.222 164.338 L490.315 164.338 L490.315 160.402 Z\" fill=\"#000000\" fill-rule=\"evenodd\" fill-opacity=\"1\" /></svg>\n"
      ]
     },
     "execution_count": 68,
     "metadata": {},
     "output_type": "execute_result"
    }
   ],
   "source": [
    "plot(initial_conditions, roots)"
   ]
  },
  {
   "cell_type": "code",
   "execution_count": 78,
   "id": "8fff5e19",
   "metadata": {},
   "outputs": [
    {
     "data": {
      "text/plain": [
       "do_roots (generic function with 1 method)"
      ]
     },
     "execution_count": 78,
     "metadata": {},
     "output_type": "execute_result"
    }
   ],
   "source": [
    "function do_roots()\n",
    "    initial_conditions = -100:0.1:100\n",
    "    roots = similar(initial_conditions)\n",
    "    \n",
    "    for (j, x) in enumerate(initial_conditions)\n",
    "        \n",
    "        for i in 1:1000\n",
    "            x = x - f(x) / f′(x)\n",
    "        end\n",
    "    \n",
    "        roots[j] = x\n",
    "    end\n",
    "    \n",
    "    return (initial_conditions, roots)\n",
    "end"
   ]
  },
  {
   "cell_type": "code",
   "execution_count": 79,
   "id": "a35425bb",
   "metadata": {},
   "outputs": [
    {
     "data": {
      "text/plain": [
       "(-100.0:0.1:100.0, [-1.414213562373095, -1.4142135623730951, -1.414213562373095, -1.414213562373095, -1.414213562373095, -1.414213562373095, -1.414213562373095, -1.414213562373095, -1.4142135623730951, -1.4142135623730951  …  1.4142135623730951, 1.4142135623730951, 1.414213562373095, 1.414213562373095, 1.414213562373095, 1.414213562373095, 1.414213562373095, 1.414213562373095, 1.4142135623730951, 1.414213562373095])"
      ]
     },
     "execution_count": 79,
     "metadata": {},
     "output_type": "execute_result"
    }
   ],
   "source": [
    "roots = do_roots()"
   ]
  },
  {
   "cell_type": "code",
   "execution_count": 80,
   "id": "44d723b0",
   "metadata": {},
   "outputs": [],
   "source": [
    "roots = do_roots();"
   ]
  },
  {
   "cell_type": "code",
   "execution_count": 77,
   "id": "d6592243",
   "metadata": {},
   "outputs": [
    {
     "data": {
      "text/latex": [
       "\\begin{tabular}\n",
       "{l | r | l}\n",
       "name & size & summary \\\\\n",
       "\\hline\n",
       "Base &  & Module \\\\\n",
       "Core &  & Module \\\\\n",
       "Main &  & Module \\\\\n",
       "do\\_roots & 0 bytes & do\\_roots (generic function with 1 method) \\\\\n",
       "f & 0 bytes & f (generic function with 1 method) \\\\\n",
       "f′ & 0 bytes & f′ (generic function with 1 method) \\\\\n",
       "initial\\_conditions & 48 bytes & 2001-element StepRangeLen\\{Float64, Base.TwicePrecision\\{Float64\\}, Base.TwicePrecision\\{Float64\\}, Int64\\} \\\\\n",
       "roots & 15.672 KiB & 2001-element Vector\\{Float64\\} \\\\\n",
       "v & 80 bytes & 5-element Vector\\{Int64\\} \\\\\n",
       "w & 64 bytes & 3-element Vector\\{Int64\\} \\\\\n",
       "w₀ & 64 bytes & 1×3 Matrix\\{Int64\\} \\\\\n",
       "x & 8 bytes & Int64 \\\\\n",
       "x\\_0 & 8 bytes & Int64 \\\\\n",
       "x₀ & 8 bytes & Int64 \\\\\n",
       "x₁ & 8 bytes & Float64 \\\\\n",
       "\\end{tabular}\n"
      ],
      "text/markdown": [
       "| name               |       size | summary                                                                                               |\n",
       "|:------------------ | ----------:|:----------------------------------------------------------------------------------------------------- |\n",
       "| Base               |            | Module                                                                                                |\n",
       "| Core               |            | Module                                                                                                |\n",
       "| Main               |            | Module                                                                                                |\n",
       "| do_roots           |    0 bytes | do_roots (generic function with 1 method)                                                             |\n",
       "| f                  |    0 bytes | f (generic function with 1 method)                                                                    |\n",
       "| f′                 |    0 bytes | f′ (generic function with 1 method)                                                                   |\n",
       "| initial_conditions |   48 bytes | 2001-element StepRangeLen{Float64, Base.TwicePrecision{Float64}, Base.TwicePrecision{Float64}, Int64} |\n",
       "| roots              | 15.672 KiB | 2001-element Vector{Float64}                                                                          |\n",
       "| v                  |   80 bytes | 5-element Vector{Int64}                                                                               |\n",
       "| w                  |   64 bytes | 3-element Vector{Int64}                                                                               |\n",
       "| w₀                 |   64 bytes | 1×3 Matrix{Int64}                                                                                     |\n",
       "| x                  |    8 bytes | Int64                                                                                                 |\n",
       "| x_0                |    8 bytes | Int64                                                                                                 |\n",
       "| x₀                 |    8 bytes | Int64                                                                                                 |\n",
       "| x₁                 |    8 bytes | Float64                                                                                               |\n"
      ],
      "text/plain": [
       "  name                     size summary                                                                                              \n",
       "  –––––––––––––––––– –––––––––– –––––––––––––––––––––––––––––––––––––––––––––––––––––––––––––––––––––––––––––––––––––––––––––––––––––\n",
       "  Base                          Module                                                                                               \n",
       "  Core                          Module                                                                                               \n",
       "  Main                          Module                                                                                               \n",
       "  do_roots              0 bytes do_roots (generic function with 1 method)                                                            \n",
       "  f                     0 bytes f (generic function with 1 method)                                                                   \n",
       "  f′                    0 bytes f′ (generic function with 1 method)                                                                  \n",
       "  initial_conditions   48 bytes 2001-element StepRangeLen{Float64, Base.TwicePrecision{Float64}, Base.TwicePrecision{Float64}, Int64}\n",
       "  roots              15.672 KiB 2001-element Vector{Float64}                                                                         \n",
       "  v                    80 bytes 5-element Vector{Int64}                                                                              \n",
       "  w                    64 bytes 3-element Vector{Int64}                                                                              \n",
       "  w₀                   64 bytes 1×3 Matrix{Int64}                                                                                    \n",
       "  x                     8 bytes Int64                                                                                                \n",
       "  x_0                   8 bytes Int64                                                                                                \n",
       "  x₀                    8 bytes Int64                                                                                                \n",
       "  x₁                    8 bytes Float64                                                                                              "
      ]
     },
     "execution_count": 77,
     "metadata": {},
     "output_type": "execute_result"
    }
   ],
   "source": [
    "varinfo()"
   ]
  },
  {
   "cell_type": "markdown",
   "id": "f81b2d0a",
   "metadata": {},
   "source": [
    "## Generic Functions"
   ]
  },
  {
   "cell_type": "code",
   "execution_count": 89,
   "id": "3f0942b9",
   "metadata": {},
   "outputs": [
    {
     "data": {
      "text/plain": [
       "do_roots (generic function with 2 methods)"
      ]
     },
     "execution_count": 89,
     "metadata": {},
     "output_type": "execute_result"
    }
   ],
   "source": [
    "function do_roots(f, f′)\n",
    "    initial_conditions = -100:0.1:100\n",
    "    roots = similar(initial_conditions)\n",
    "    \n",
    "    for (j, x) in enumerate(initial_conditions)\n",
    "        \n",
    "        for i in 1:1000\n",
    "            x = x - f(x) / f′(x)\n",
    "        end\n",
    "    \n",
    "        roots[j] = x\n",
    "    end\n",
    "    \n",
    "    return roots\n",
    "end"
   ]
  },
  {
   "cell_type": "code",
   "execution_count": 90,
   "id": "6c8cb059",
   "metadata": {},
   "outputs": [
    {
     "data": {
      "text/html": [
       "# 2 methods for generic function <b>do_roots</b>:<ul><li> do_roots() in Main at In[78]:1</li> <li> do_roots(f, f′) in Main at In[89]:1</li> </ul>"
      ],
      "text/plain": [
       "# 2 methods for generic function \"do_roots\":\n",
       "[1] do_roots() in Main at In[78]:1\n",
       "[2] do_roots(f, f′) in Main at In[89]:1"
      ]
     },
     "execution_count": 90,
     "metadata": {},
     "output_type": "execute_result"
    }
   ],
   "source": [
    "methods(do_roots)"
   ]
  },
  {
   "cell_type": "code",
   "execution_count": 91,
   "id": "e5b6e001",
   "metadata": {},
   "outputs": [
    {
     "data": {
      "text/html": [
       "# 15 methods for generic function <b>abs</b>:<ul><li> abs(x::<b>Union{Float16, Float32, Float64}</b>) in Base at <a href=\"https://github.com/JuliaLang/julia/tree/afb6c60d69a38e8a2442a0c7e87c47b8880ad294/base/float.jl#L486\" target=\"_blank\">float.jl:486</a></li> <li> abs(x::<b>Unsigned</b>) in Base at <a href=\"https://github.com/JuliaLang/julia/tree/afb6c60d69a38e8a2442a0c7e87c47b8880ad294/base/int.jl#L183\" target=\"_blank\">int.jl:183</a></li> <li> abs(a::<b>T</b>)<i> where T<:Measures.Length</i> in Measures at <a href=\"file://C:/Users/Can/.julia/packages/Measures/PKOxJ/src/length.jl\" target=\"_blank\">C:\\Users\\Can\\.julia\\packages\\Measures\\PKOxJ\\src\\length.jl:36</a></li> <li> abs(x::<b>X</b>)<i> where X<:FixedPointNumbers.FixedPoint</i> in FixedPointNumbers at <a href=\"file://C:/Users/Can/.julia/packages/FixedPointNumbers/HAGk2/src/FixedPointNumbers.jl\" target=\"_blank\">C:\\Users\\Can\\.julia\\packages\\FixedPointNumbers\\HAGk2\\src\\FixedPointNumbers.jl:232</a></li> <li> abs(a::<b>T</b>)<i> where T<:Dates.Period</i> in Dates at <a href=\"file://C:/buildbot/worker/package_win64/build/usr/share/julia/stdlib/v1.8/Dates/src/periods.jl\" target=\"_blank\">C:\\Users\\Can\\AppData\\Local\\Programs\\julia-1.8.1\\share\\julia\\stdlib\\v1.8\\Dates\\src\\periods.jl:105</a></li> <li> abs(x::<b>Signed</b>) in Base at <a href=\"https://github.com/JuliaLang/julia/tree/afb6c60d69a38e8a2442a0c7e87c47b8880ad294/base/int.jl#L184\" target=\"_blank\">int.jl:184</a></li> <li> abs(x::<b>Rational</b>) in Base at <a href=\"https://github.com/JuliaLang/julia/tree/afb6c60d69a38e8a2442a0c7e87c47b8880ad294/base/rational.jl#L261\" target=\"_blank\">rational.jl:261</a></li> <li> abs(c::<b>AbstractGray</b>) in ColorVectorSpace at <a href=\"file://C:/Users/Can/.julia/packages/ColorVectorSpace/QI5vM/src/ColorVectorSpace.jl\" target=\"_blank\">C:\\Users\\Can\\.julia\\packages\\ColorVectorSpace\\QI5vM\\src\\ColorVectorSpace.jl:315</a></li> <li> abs(c::<b>Union{TransparentColor{C, T}, C} where {T, C<:Union{AbstractRGB{T}, AbstractGray{T}}}</b>) in ColorVectorSpace at <a href=\"file://C:/Users/Can/.julia/packages/ColorVectorSpace/QI5vM/src/ColorVectorSpace.jl\" target=\"_blank\">C:\\Users\\Can\\.julia\\packages\\ColorVectorSpace\\QI5vM\\src\\ColorVectorSpace.jl:258</a></li> <li> abs(z::<b>Complex</b>) in Base at <a href=\"https://github.com/JuliaLang/julia/tree/afb6c60d69a38e8a2442a0c7e87c47b8880ad294/base/complex.jl#L277\" target=\"_blank\">complex.jl:277</a></li> <li> abs(a::<b>Pkg.Resolve.VersionWeight</b>) in Pkg.Resolve at <a href=\"file://C:/buildbot/worker/package_win64/build/usr/share/julia/stdlib/v1.8/Pkg/src/Resolve/versionweights.jl\" target=\"_blank\">C:\\Users\\Can\\AppData\\Local\\Programs\\julia-1.8.1\\share\\julia\\stdlib\\v1.8\\Pkg\\src\\Resolve\\versionweights.jl:32</a></li> <li> abs(::<b>Missing</b>) in Base at <a href=\"https://github.com/JuliaLang/julia/tree/afb6c60d69a38e8a2442a0c7e87c47b8880ad294/base/missing.jl#L101\" target=\"_blank\">missing.jl:101</a></li> <li> abs(x::<b>Bool</b>) in Base at <a href=\"https://github.com/JuliaLang/julia/tree/afb6c60d69a38e8a2442a0c7e87c47b8880ad294/base/bool.jl#L149\" target=\"_blank\">bool.jl:149</a></li> <li> abs(x::<b>Real</b>) in Base at <a href=\"https://github.com/JuliaLang/julia/tree/afb6c60d69a38e8a2442a0c7e87c47b8880ad294/base/number.jl#L164\" target=\"_blank\">number.jl:164</a></li> <li> abs(a::<b>Pkg.Resolve.FieldValue</b>) in Pkg.Resolve at <a href=\"file://C:/buildbot/worker/package_win64/build/usr/share/julia/stdlib/v1.8/Pkg/src/Resolve/fieldvalues.jl\" target=\"_blank\">C:\\Users\\Can\\AppData\\Local\\Programs\\julia-1.8.1\\share\\julia\\stdlib\\v1.8\\Pkg\\src\\Resolve\\fieldvalues.jl:51</a></li> </ul>"
      ],
      "text/plain": [
       "# 15 methods for generic function \"abs\":\n",
       "[1] abs(x::Union{Float16, Float32, Float64}) in Base at float.jl:486\n",
       "[2] abs(x::Unsigned) in Base at int.jl:183\n",
       "[3] abs(a::T) where T<:Measures.Length in Measures at C:\\Users\\Can\\.julia\\packages\\Measures\\PKOxJ\\src\\length.jl:36\n",
       "[4] abs(x::X) where X<:FixedPointNumbers.FixedPoint in FixedPointNumbers at C:\\Users\\Can\\.julia\\packages\\FixedPointNumbers\\HAGk2\\src\\FixedPointNumbers.jl:232\n",
       "[5] abs(a::T) where T<:Dates.Period in Dates at C:\\Users\\Can\\AppData\\Local\\Programs\\julia-1.8.1\\share\\julia\\stdlib\\v1.8\\Dates\\src\\periods.jl:105\n",
       "[6] abs(x::Signed) in Base at int.jl:184\n",
       "[7] abs(x::Rational) in Base at rational.jl:261\n",
       "[8] abs(c::AbstractGray) in ColorVectorSpace at C:\\Users\\Can\\.julia\\packages\\ColorVectorSpace\\QI5vM\\src\\ColorVectorSpace.jl:315\n",
       "[9] abs(c::Union{TransparentColor{C, T}, C} where {T, C<:Union{AbstractRGB{T}, AbstractGray{T}}}) in ColorVectorSpace at C:\\Users\\Can\\.julia\\packages\\ColorVectorSpace\\QI5vM\\src\\ColorVectorSpace.jl:258\n",
       "[10] abs(z::Complex) in Base at complex.jl:277\n",
       "[11] abs(a::Pkg.Resolve.VersionWeight) in Pkg.Resolve at C:\\Users\\Can\\AppData\\Local\\Programs\\julia-1.8.1\\share\\julia\\stdlib\\v1.8\\Pkg\\src\\Resolve\\versionweights.jl:32\n",
       "[12] abs(::Missing) in Base at missing.jl:101\n",
       "[13] abs(x::Bool) in Base at bool.jl:149\n",
       "[14] abs(x::Real) in Base at number.jl:164\n",
       "[15] abs(a::Pkg.Resolve.FieldValue) in Pkg.Resolve at C:\\Users\\Can\\AppData\\Local\\Programs\\julia-1.8.1\\share\\julia\\stdlib\\v1.8\\Pkg\\src\\Resolve\\fieldvalues.jl:51"
      ]
     },
     "execution_count": 91,
     "metadata": {},
     "output_type": "execute_result"
    }
   ],
   "source": [
    "methods(abs)"
   ]
  },
  {
   "cell_type": "code",
   "execution_count": 93,
   "id": "9f65d2eb",
   "metadata": {},
   "outputs": [
    {
     "data": {
      "text/plain": [
       "2001-element Vector{Float64}:\n",
       " -1.2664035521423736e-108\n",
       " -1.276679874682421e-108\n",
       " -1.100774239035791e-108\n",
       " -7.767178601887298e-109\n",
       " -7.844515931396932e-109\n",
       " -1.2018167839525928e-108\n",
       " -1.1640971878250344e-108\n",
       " -1.1759809354300235e-108\n",
       " -1.237972992202227e-108\n",
       " -1.2619494943652336e-108\n",
       " -1.1675757656773044e-108\n",
       " -1.1494311506012024e-108\n",
       " -1.0892801498648758e-108\n",
       "  ⋮\n",
       "  1.1494311506012024e-108\n",
       "  1.1675757656773044e-108\n",
       "  1.2619494943652336e-108\n",
       "  1.237972992202227e-108\n",
       "  1.1759809354300235e-108\n",
       "  1.1640971878250344e-108\n",
       "  1.2018167839525928e-108\n",
       "  7.844515931396932e-109\n",
       "  7.767178601887298e-109\n",
       "  1.100774239035791e-108\n",
       "  1.276679874682421e-108\n",
       "  1.2664035521423736e-108"
      ]
     },
     "execution_count": 93,
     "metadata": {},
     "output_type": "execute_result"
    }
   ],
   "source": [
    "f(x) = x^3\n",
    "f′(x) = 3x^2\n",
    "do_roots(f, f′)"
   ]
  },
  {
   "cell_type": "code",
   "execution_count": 94,
   "id": "1fbd394c",
   "metadata": {},
   "outputs": [
    {
     "data": {
      "text/plain": [
       "2001-element Vector{Float64}:\n",
       " -1.2664035521423736e-108\n",
       " -1.276679874682421e-108\n",
       " -1.100774239035791e-108\n",
       " -7.767178601887298e-109\n",
       " -7.844515931396932e-109\n",
       " -1.2018167839525928e-108\n",
       " -1.1640971878250344e-108\n",
       " -1.1759809354300235e-108\n",
       " -1.237972992202227e-108\n",
       " -1.2619494943652336e-108\n",
       " -1.1675757656773044e-108\n",
       " -1.1494311506012024e-108\n",
       " -1.0892801498648758e-108\n",
       "  ⋮\n",
       "  1.1494311506012024e-108\n",
       "  1.1675757656773044e-108\n",
       "  1.2619494943652336e-108\n",
       "  1.237972992202227e-108\n",
       "  1.1759809354300235e-108\n",
       "  1.1640971878250344e-108\n",
       "  1.2018167839525928e-108\n",
       "  7.844515931396932e-109\n",
       "  7.767178601887298e-109\n",
       "  1.100774239035791e-108\n",
       "  1.276679874682421e-108\n",
       "  1.2664035521423736e-108"
      ]
     },
     "execution_count": 94,
     "metadata": {},
     "output_type": "execute_result"
    }
   ],
   "source": [
    "do_roots(x->x^3, x->3x^2)"
   ]
  },
  {
   "cell_type": "markdown",
   "id": "acd5ae83",
   "metadata": {},
   "source": [
    "## Complex Numbers"
   ]
  },
  {
   "cell_type": "markdown",
   "id": "68184efe",
   "metadata": {},
   "source": [
    "https://youtu.be/gQ1y5NUD_RI?t=5079"
   ]
  },
  {
   "cell_type": "code",
   "execution_count": 1,
   "id": "29a4ebf5",
   "metadata": {
    "tags": []
   },
   "outputs": [
    {
     "data": {
      "text/plain": [
       "0 + 1im"
      ]
     },
     "execution_count": 1,
     "metadata": {},
     "output_type": "execute_result"
    }
   ],
   "source": [
    "1im"
   ]
  },
  {
   "cell_type": "markdown",
   "id": "c3a3073e-2144-4918-82b4-58acf1ea11be",
   "metadata": {},
   "source": [
    "# Matrices"
   ]
  },
  {
   "cell_type": "code",
   "execution_count": 2,
   "id": "563c7c61-e061-4f4f-a102-8d900f1c709b",
   "metadata": {
    "tags": []
   },
   "outputs": [
    {
     "name": "stdout",
     "output_type": "stream",
     "text": [
      "(-2, -2)\n",
      "(-2, -1)\n",
      "(-2, 0)\n",
      "(-2, 1)\n",
      "(-1, -2)\n",
      "(-1, -1)\n",
      "(-1, 0)\n",
      "(-1, 1)\n",
      "(0, -2)\n",
      "(0, -1)\n",
      "(0, 0)\n",
      "(0, 1)\n",
      "(1, -2)\n",
      "(1, -1)\n",
      "(1, 0)\n",
      "(1, 1)\n"
     ]
    }
   ],
   "source": [
    "for i in -2:1, j in -2:1\n",
    "    println(\"($i, $j)\")\n",
    "end"
   ]
  },
  {
   "cell_type": "code",
   "execution_count": 3,
   "id": "39077558-d55c-4eef-b306-7d0cde32b0b7",
   "metadata": {
    "tags": []
   },
   "outputs": [
    {
     "data": {
      "text/plain": [
       "3-element Vector{Float64}:\n",
       " 0.0\n",
       " 0.0\n",
       " 0.0"
      ]
     },
     "execution_count": 3,
     "metadata": {},
     "output_type": "execute_result"
    }
   ],
   "source": [
    "zeros(3)"
   ]
  },
  {
   "cell_type": "code",
   "execution_count": 4,
   "id": "85e1840b-68b1-41b1-9b65-21d1bad22754",
   "metadata": {
    "tags": []
   },
   "outputs": [
    {
     "data": {
      "text/plain": [
       "3×3 Matrix{Float64}:\n",
       " 0.0  0.0  0.0\n",
       " 0.0  0.0  0.0\n",
       " 0.0  0.0  0.0"
      ]
     },
     "execution_count": 4,
     "metadata": {},
     "output_type": "execute_result"
    }
   ],
   "source": [
    "zeros(3,3)"
   ]
  },
  {
   "cell_type": "code",
   "execution_count": 5,
   "id": "0ab88534-99ea-47f7-86f3-401920ca80de",
   "metadata": {
    "tags": []
   },
   "outputs": [
    {
     "data": {
      "text/plain": [
       "(3, 3)"
      ]
     },
     "execution_count": 5,
     "metadata": {},
     "output_type": "execute_result"
    }
   ],
   "source": [
    "size(ans)"
   ]
  },
  {
   "cell_type": "code",
   "execution_count": 14,
   "id": "fd552f8e-840d-4f64-bc27-344ee2c0cc7e",
   "metadata": {
    "tags": []
   },
   "outputs": [
    {
     "data": {
      "text/plain": [
       "2×2 Matrix{Float64}:\n",
       " 0.0  0.0\n",
       " 0.0  0.0"
      ]
     },
     "execution_count": 14,
     "metadata": {},
     "output_type": "execute_result"
    }
   ],
   "source": [
    "initial_conditions = -5:0,1:5\n",
    "L = length(initial_conditions)\n",
    "root = zeros(L,L)"
   ]
  },
  {
   "cell_type": "markdown",
   "id": "8e65815b-3310-4516-97f3-3f6f23385b14",
   "metadata": {},
   "source": [
    "# Array Comprehension"
   ]
  },
  {
   "cell_type": "code",
   "execution_count": null,
   "id": "cf47e644-9244-43fc-93d2-b17b2479ca54",
   "metadata": {},
   "outputs": [],
   "source": []
  }
 ],
 "metadata": {
  "kernelspec": {
   "display_name": "Julia 1.8.1",
   "language": "julia",
   "name": "julia-1.8"
  },
  "language_info": {
   "file_extension": ".jl",
   "mimetype": "application/julia",
   "name": "julia",
   "version": "1.8.1"
  }
 },
 "nbformat": 4,
 "nbformat_minor": 5
}
