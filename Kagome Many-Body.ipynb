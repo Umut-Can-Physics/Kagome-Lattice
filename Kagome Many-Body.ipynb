{
 "cells": [
  {
   "cell_type": "markdown",
   "id": "3f439645",
   "metadata": {},
   "source": [
    "# Kagome Real Space Structure from Python Code "
   ]
  },
  {
   "cell_type": "code",
   "execution_count": 1,
   "id": "54cb8557",
   "metadata": {},
   "outputs": [],
   "source": [
    "using PyCall"
   ]
  },
  {
   "cell_type": "code",
   "execution_count": 44,
   "id": "92ad58eb",
   "metadata": {},
   "outputs": [],
   "source": [
    "py\"\"\"\n",
    "\n",
    "import matplotlib.pyplot as plt\n",
    "import numpy as np\n",
    "\n",
    "sqrt = np.sqrt\n",
    "\n",
    "#Bravais vectors\n",
    "a1_vec = np.array([2,0])\n",
    "a2_vec = np.array([1,sqrt(3)])\n",
    "\n",
    "l1 = l2 = 2 # number of unit-cell in each axes #!#\n",
    "L = l1*l2 # number of unit-cells\n",
    "N = 3*L # number of sites\n",
    "\n",
    "#Basis vectors\n",
    "b1=np.array([0,0]) #A atoms\n",
    "b2=a1_vec/2 #B atoms\n",
    "b3=a2_vec/2 #C atoms\n",
    "Basis = [b1,b2,b3]\n",
    "basis_colors=['red','blue','green']\n",
    "\n",
    "coordinates = []\n",
    "sites = []\n",
    "atom_dict={}\n",
    "for i1 in range(l1):\n",
    "    for i2 in range(l2):\n",
    "        Lp = a1_vec * i1 + a2_vec * i2\n",
    "        center = a1_vec * i1 + a2_vec * i2 + b1\n",
    "        shift = (-b2-b3)/sqrt(3)/2\n",
    "        P1=np.array([center+shift,center+a1_vec+shift,center+a2_vec+shift])\n",
    "        for ib, b in enumerate(Basis):\n",
    "            atom_vec = Lp + b\n",
    "            atom_no = 3 * i1 * l2 + 3 * i2 + ib\n",
    "            site = [i1,i2,ib]\n",
    "            sites.append(site)\n",
    "            coordinates.append(atom_vec)\n",
    "            atom_dict[tuple(site)]=atom_vec\n",
    "\n",
    "NN = [[(0,0,1),(0,0,2),(-1,0,1),(0,-1,2)],\n",
    "      [(0,0,-1),(0,0,1),(1,0,-1),(1,-1,1)],\n",
    "      [(0,0,-1),(0,0,-2),(0,1,-2),(-1,1,-1)]]\n",
    "\n",
    "NNN = [[(-1,0,2),(-1,1,1),(0,-1,1),(1,-1,2)],\n",
    "      [(0,-1,1),(1,-1,-1),(0,1,-1),(1,0,1)],\n",
    "      [(-1,1,-2),(-1,0,-1),(0,1,-1),(1,0,-2)]]\n",
    "\n",
    "# t1 = -1;L1 = t2 = L2 = 0\n",
    "t1 = -1;L1 = 0.28;t2 = -0.3;L2 = 0.2\n",
    "hopps_NN = [[t1+1j*L1,t1-1j*L1,t1+1j*L1,t1-1j*L1], \n",
    "         [t1-1j*L1,t1+1j*L1,t1-1j*L1,t1+1j*L1], \n",
    "         [t1-1j*L1,t1+1j*L1,t1+1j*L1,t1-1j*L1]] \n",
    "\n",
    "hopps_NNN = [[t2+1j*L2,t2-1j*L2,t2-1j*L2,t2+1j*L2],\n",
    "         [t2-1j*L2,t2+1j*L2,t2+1j*L2,t2-1j*L2],\n",
    "         [t2-1j*L2,t2+1j*L2,t2+1j*L2,t2-1j*L2]]\n",
    "\n",
    "H_NN = np.zeros([N,N],dtype=complex)\n",
    "H_NNN = np.zeros([N,N],dtype=complex)\n",
    "\n",
    "for atom_no in range(N):\n",
    "    atom_site=sites[atom_no]\n",
    "    for i_delta, delta in enumerate(NN[atom_site[2]]):\n",
    "        neighbor_site = np.array(atom_site)+np.array(delta)\n",
    "        neighbor_site[0] = neighbor_site[0]%l1\n",
    "        neighbor_site[1] = neighbor_site[1]%l2    \n",
    "        neighbor_no=3*neighbor_site[0]*l2+3*neighbor_site[1]+neighbor_site[2]\n",
    "        H_NN[neighbor_no,atom_no]=hopps_NN[atom_site[2]][i_delta]\n",
    "\n",
    "for atom_no in range(N):\n",
    "    atom_site=sites[atom_no]\n",
    "    for i_delta, delta in enumerate(NNN[atom_site[2]]):\n",
    "        neighbor_site = np.array(atom_site)+np.array(delta)\n",
    "        neighbor_site[0] = neighbor_site[0]%l1\n",
    "        neighbor_site[1] = neighbor_site[1]%l2    \n",
    "        neighbor_no=3*neighbor_site[0]*l2+3*neighbor_site[1]+neighbor_site[2]\n",
    "        H_NNN[neighbor_no,atom_no]=hopps_NNN[atom_site[2]][i_delta]\n",
    "\"\"\""
   ]
  },
  {
   "cell_type": "code",
   "execution_count": 46,
   "id": "a698c011",
   "metadata": {},
   "outputs": [
    {
     "data": {
      "text/plain": [
       "12×12 PyArray{ComplexF64, 2}:\n",
       "  0.0+0.0im   0.0+0.0im   0.0+0.0im  …   0.0+0.0im  -0.3+0.2im  -0.3-0.2im\n",
       "  0.0+0.0im   0.0+0.0im   0.0+0.0im     -0.3-0.2im   0.0+0.0im   0.0+0.0im\n",
       "  0.0+0.0im   0.0+0.0im   0.0+0.0im     -0.3+0.2im   0.0+0.0im   0.0+0.0im\n",
       "  0.0+0.0im  -0.3+0.2im   0.0+0.0im      0.0+0.0im   0.0+0.0im  -0.3-0.2im\n",
       " -0.3-0.2im   0.0+0.0im  -0.3+0.2im      0.0+0.0im   0.0+0.0im  -0.3+0.2im\n",
       "  0.0+0.0im  -0.3-0.2im   0.0+0.0im  …  -0.3+0.2im  -0.3-0.2im   0.0+0.0im\n",
       "  0.0+0.0im   0.0+0.0im  -0.3-0.2im      0.0+0.0im  -0.3+0.2im   0.0+0.0im\n",
       "  0.0+0.0im   0.0+0.0im  -0.3+0.2im     -0.3-0.2im   0.0+0.0im  -0.3+0.2im\n",
       " -0.3+0.2im  -0.3-0.2im   0.0+0.0im      0.0+0.0im  -0.3-0.2im   0.0+0.0im\n",
       "  0.0+0.0im  -0.3+0.2im  -0.3-0.2im      0.0+0.0im   0.0+0.0im   0.0+0.0im\n",
       " -0.3-0.2im   0.0+0.0im   0.0+0.0im  …   0.0+0.0im   0.0+0.0im   0.0+0.0im\n",
       " -0.3+0.2im   0.0+0.0im   0.0+0.0im      0.0+0.0im   0.0+0.0im   0.0+0.0im"
      ]
     },
     "execution_count": 46,
     "metadata": {},
     "output_type": "execute_result"
    }
   ],
   "source": [
    "#Real Space Hamiltonian Matrix Getting by Python Code\n",
    "H_NN = PyArray(py\"H_NN\"o)\n",
    "H_NNN = PyArray(py\"H_NNN\"o)"
   ]
  },
  {
   "cell_type": "markdown",
   "id": "aec1ca29",
   "metadata": {},
   "source": [
    "# Many-Body"
   ]
  },
  {
   "cell_type": "code",
   "execution_count": 8,
   "id": "27d0c500",
   "metadata": {},
   "outputs": [],
   "source": [
    "using QuantumOptics\n",
    "using LinearAlgebra\n",
    "using SparseArrays"
   ]
  },
  {
   "cell_type": "code",
   "execution_count": 47,
   "id": "2814afbd",
   "metadata": {},
   "outputs": [
    {
     "data": {
      "text/plain": [
       "12"
      ]
     },
     "execution_count": 47,
     "metadata": {},
     "output_type": "execute_result"
    }
   ],
   "source": [
    "#Number of Unit-cells Each Directions\n",
    "Nx = Ny = py\"l1\"\n",
    "N = 3*py\"L\""
   ]
  },
  {
   "cell_type": "code",
   "execution_count": 48,
   "id": "923111bb",
   "metadata": {},
   "outputs": [
    {
     "data": {
      "text/plain": [
       "NLevel(N=12)"
      ]
     },
     "execution_count": 48,
     "metadata": {},
     "output_type": "execute_result"
    }
   ],
   "source": [
    "#Create N Level Basis for Many-Body States\n",
    "NBasis = NLevelBasis(N)"
   ]
  },
  {
   "cell_type": "markdown",
   "id": "3ed3a6bb",
   "metadata": {},
   "source": [
    "# Hard-Core Interaction"
   ]
  },
  {
   "cell_type": "code",
   "execution_count": 49,
   "id": "a07eadf4",
   "metadata": {},
   "outputs": [
    {
     "data": {
      "text/plain": [
       "13-element Vector{Vector{Int64}}:\n",
       " [0, 0, 0, 0, 0, 0, 0, 0, 0, 0, 0, 0]\n",
       " [1, 0, 0, 0, 0, 0, 0, 0, 0, 0, 0, 0]\n",
       " [0, 1, 0, 0, 0, 0, 0, 0, 0, 0, 0, 0]\n",
       " [0, 0, 1, 0, 0, 0, 0, 0, 0, 0, 0, 0]\n",
       " [0, 0, 0, 1, 0, 0, 0, 0, 0, 0, 0, 0]\n",
       " [0, 0, 0, 0, 1, 0, 0, 0, 0, 0, 0, 0]\n",
       " [0, 0, 0, 0, 0, 1, 0, 0, 0, 0, 0, 0]\n",
       " [0, 0, 0, 0, 0, 0, 1, 0, 0, 0, 0, 0]\n",
       " [0, 0, 0, 0, 0, 0, 0, 1, 0, 0, 0, 0]\n",
       " [0, 0, 0, 0, 0, 0, 0, 0, 1, 0, 0, 0]\n",
       " [0, 0, 0, 0, 0, 0, 0, 0, 0, 1, 0, 0]\n",
       " [0, 0, 0, 0, 0, 0, 0, 0, 0, 0, 1, 0]\n",
       " [0, 0, 0, 0, 0, 0, 0, 0, 0, 0, 0, 1]"
      ]
     },
     "execution_count": 49,
     "metadata": {},
     "output_type": "execute_result"
    }
   ],
   "source": [
    "#All of states in N Fock Space for Hard-Core Interaction\n",
    "HC_NStates = bosonstates(NBasis, [0,1]) # Occupation number is equal to 1 (Hard-Core Interaction)"
   ]
  },
  {
   "cell_type": "code",
   "execution_count": 50,
   "id": "0876d163",
   "metadata": {},
   "outputs": [
    {
     "data": {
      "text/plain": [
       "ManyBody(onebodybasis=NLevel(N=12), states:13)"
      ]
     },
     "execution_count": 50,
     "metadata": {},
     "output_type": "execute_result"
    }
   ],
   "source": [
    "#Create Hard-Core Many-Body Basis in Fock Space\n",
    "HC_NBasis_MB = ManyBodyBasis(NBasis, HC_NStates)"
   ]
  },
  {
   "cell_type": "code",
   "execution_count": 53,
   "id": "402cff98",
   "metadata": {},
   "outputs": [
    {
     "data": {
      "text/plain": [
       "13-element Vector{Float64}:\n",
       " -2.9421023553303063\n",
       " -1.9428844535895595\n",
       " -1.9428844535895589\n",
       " -1.9428844535895586\n",
       " -1.4178976446696938\n",
       " -1.5696557096649747e-15\n",
       " -1.162107083350529e-17\n",
       "  0.0\n",
       "  5.121950481174837e-16\n",
       "  1.9428844535895566\n",
       "  1.9428844535895586\n",
       "  1.94288445358956\n",
       "  4.359999999999999"
      ]
     },
     "execution_count": 53,
     "metadata": {},
     "output_type": "execute_result"
    }
   ],
   "source": [
    "#NN and NNN Kagome Many-Body Hamiltonian\n",
    "t1=py\"t1\"\n",
    "t2=py\"t2\"\n",
    "HC_Hamiltonian_MB = SparseOperator(HC_NBasis_MB)\n",
    "for m in 1:N\n",
    "    for n in 1:N\n",
    "        HC_Hamiltonian_MB = HC_Hamiltonian_MB + t1 * H_NN[m,n] * transition(HC_NBasis_MB, m, n) + t2 * H_NNN[m,n] * transition(HC_NBasis_MB, m, n)\n",
    "    end\n",
    "end\n",
    "#Energies of Hard-Core Interaction\n",
    "eigenenergies(dense(HC_Hamiltonian_MB))"
   ]
  },
  {
   "cell_type": "markdown",
   "id": "88af941d",
   "metadata": {},
   "source": [
    "# Bose-Hubbard Model"
   ]
  },
  {
   "cell_type": "markdown",
   "id": "2158a4cb",
   "metadata": {},
   "source": [
    "\\begin{equation}\n",
    "H = -t \\sum_{<ij>} \\left( b_i^\\dagger b_j + h.c. \\right) + U/2 \\sum_i n_i \\left( n_i -1\\right)\n",
    "\\end{equation}"
   ]
  },
  {
   "cell_type": "code",
   "execution_count": 58,
   "id": "33d823c9",
   "metadata": {},
   "outputs": [
    {
     "data": {
      "text/plain": [
       "91-element Vector{Vector{Int64}}:\n",
       " [0, 0, 0, 0, 0, 0, 0, 0, 0, 0, 0, 0]\n",
       " [1, 0, 0, 0, 0, 0, 0, 0, 0, 0, 0, 0]\n",
       " [0, 1, 0, 0, 0, 0, 0, 0, 0, 0, 0, 0]\n",
       " [0, 0, 1, 0, 0, 0, 0, 0, 0, 0, 0, 0]\n",
       " [0, 0, 0, 1, 0, 0, 0, 0, 0, 0, 0, 0]\n",
       " [0, 0, 0, 0, 1, 0, 0, 0, 0, 0, 0, 0]\n",
       " [0, 0, 0, 0, 0, 1, 0, 0, 0, 0, 0, 0]\n",
       " [0, 0, 0, 0, 0, 0, 1, 0, 0, 0, 0, 0]\n",
       " [0, 0, 0, 0, 0, 0, 0, 1, 0, 0, 0, 0]\n",
       " [0, 0, 0, 0, 0, 0, 0, 0, 1, 0, 0, 0]\n",
       " [0, 0, 0, 0, 0, 0, 0, 0, 0, 1, 0, 0]\n",
       " [0, 0, 0, 0, 0, 0, 0, 0, 0, 0, 1, 0]\n",
       " [0, 0, 0, 0, 0, 0, 0, 0, 0, 0, 0, 1]\n",
       " ⋮\n",
       " [0, 0, 0, 0, 0, 0, 0, 1, 0, 0, 1, 0]\n",
       " [0, 0, 0, 0, 0, 0, 0, 1, 0, 0, 0, 1]\n",
       " [0, 0, 0, 0, 0, 0, 0, 0, 2, 0, 0, 0]\n",
       " [0, 0, 0, 0, 0, 0, 0, 0, 1, 1, 0, 0]\n",
       " [0, 0, 0, 0, 0, 0, 0, 0, 1, 0, 1, 0]\n",
       " [0, 0, 0, 0, 0, 0, 0, 0, 1, 0, 0, 1]\n",
       " [0, 0, 0, 0, 0, 0, 0, 0, 0, 2, 0, 0]\n",
       " [0, 0, 0, 0, 0, 0, 0, 0, 0, 1, 1, 0]\n",
       " [0, 0, 0, 0, 0, 0, 0, 0, 0, 1, 0, 1]\n",
       " [0, 0, 0, 0, 0, 0, 0, 0, 0, 0, 2, 0]\n",
       " [0, 0, 0, 0, 0, 0, 0, 0, 0, 0, 1, 1]\n",
       " [0, 0, 0, 0, 0, 0, 0, 0, 0, 0, 0, 2]"
      ]
     },
     "execution_count": 58,
     "metadata": {},
     "output_type": "execute_result"
    }
   ],
   "source": [
    "#All of states in N Fock Space\n",
    "NStates = bosonstates(NBasis, [0,1,2]) #Define Occupation Number for Many-Body Basis"
   ]
  },
  {
   "cell_type": "code",
   "execution_count": 59,
   "id": "cb743ff1",
   "metadata": {},
   "outputs": [
    {
     "data": {
      "text/plain": [
       "ManyBody(onebodybasis=NLevel(N=12), states:91)"
      ]
     },
     "execution_count": 59,
     "metadata": {},
     "output_type": "execute_result"
    }
   ],
   "source": [
    "#Create Many-Body Basis in Fock Space\n",
    "NBasis_MB = ManyBodyBasis(NBasis, NStates)"
   ]
  },
  {
   "cell_type": "code",
   "execution_count": 60,
   "id": "111521ac",
   "metadata": {},
   "outputs": [
    {
     "data": {
      "text/plain": [
       "91-element Vector{Float64}:\n",
       " -8.584149305286402\n",
       " -6.038576363077336\n",
       " -6.038576363077332\n",
       " -6.03857636307733\n",
       " -4.359999999999999\n",
       " -4.197944243786974\n",
       " -4.197944243786963\n",
       " -4.197944243786958\n",
       " -3.876912072247789\n",
       " -3.713950915887763\n",
       " -3.593452155064916\n",
       " -3.5934521550649117\n",
       " -3.5934521550649094\n",
       "  ⋮\n",
       "  3.941689193185077\n",
       "  3.941689193185081\n",
       "  4.099021333369323\n",
       "  4.254650990321209\n",
       "  4.407280158013981\n",
       "  4.4072801580139815\n",
       "  4.407280158013985\n",
       "  5.094416390649917\n",
       "  5.384149483014973\n",
       "  5.384149483014978\n",
       "  5.3841494830149905\n",
       "  6.138989924714485"
      ]
     },
     "execution_count": 60,
     "metadata": {},
     "output_type": "execute_result"
    }
   ],
   "source": [
    "#Bose-Hubbard Model for Kagome\n",
    "t1=py\"t1\"\n",
    "t2=py\"t2\"\n",
    "U=2\n",
    "#Kinetic term\n",
    "KT = SparseOperator(NBasis_MB)\n",
    "#Interaction term\n",
    "IT = SparseOperator(NBasis_MB)\n",
    "for m in 1:N\n",
    "    IT = IT + U/2 * number(NBasis_MB, m) * (number(NBasis_MB, m) - identityoperator(NBasis_MB)) \n",
    "    for n in 1:N\n",
    "        KT = KT - t1 * H_NN[m,n] * transition(NBasis_MB, m, n) - t2 * H_NNN[m,n] * transition(NBasis_MB, m, n)\n",
    "    end\n",
    "end\n",
    "MB_Hamiltonian = KT + IT\n",
    "#Energies of Many-Body Hamiltonian with On-Site Interaction\n",
    "eigenenergies(dense(MB_Hamiltonian))"
   ]
  },
  {
   "cell_type": "code",
   "execution_count": 61,
   "id": "36d8840f",
   "metadata": {},
   "outputs": [],
   "source": [
    "using Plots"
   ]
  },
  {
   "cell_type": "code",
   "execution_count": 62,
   "id": "c2e14640",
   "metadata": {},
   "outputs": [
    {
     "data": {
      "image/svg+xml": [
       "<?xml version=\"1.0\" encoding=\"utf-8\"?>\n",
       "<svg xmlns=\"http://www.w3.org/2000/svg\" xmlns:xlink=\"http://www.w3.org/1999/xlink\" width=\"600\" height=\"400\" viewBox=\"0 0 2400 1600\">\n",
       "<defs>\n",
       "  <clipPath id=\"clip680\">\n",
       "    <rect x=\"0\" y=\"0\" width=\"2400\" height=\"1600\"/>\n",
       "  </clipPath>\n",
       "</defs>\n",
       "<path clip-path=\"url(#clip680)\" d=\"\n",
       "M0 1600 L2400 1600 L2400 0 L0 0  Z\n",
       "  \" fill=\"#ffffff\" fill-rule=\"evenodd\" fill-opacity=\"1\"/>\n",
       "<defs>\n",
       "  <clipPath id=\"clip681\">\n",
       "    <rect x=\"480\" y=\"0\" width=\"1681\" height=\"1600\"/>\n",
       "  </clipPath>\n",
       "</defs>\n",
       "<path clip-path=\"url(#clip680)\" d=\"\n",
       "M193.936 1486.45 L2352.76 1486.45 L2352.76 47.2441 L193.936 47.2441  Z\n",
       "  \" fill=\"#ffffff\" fill-rule=\"evenodd\" fill-opacity=\"1\"/>\n",
       "<defs>\n",
       "  <clipPath id=\"clip682\">\n",
       "    <rect x=\"193\" y=\"47\" width=\"2160\" height=\"1440\"/>\n",
       "  </clipPath>\n",
       "</defs>\n",
       "<polyline clip-path=\"url(#clip682)\" style=\"stroke:#000000; stroke-linecap:butt; stroke-linejoin:round; stroke-width:2; stroke-opacity:0.1; fill:none\" points=\"\n",
       "  232.406,1486.45 232.406,47.2441 \n",
       "  \"/>\n",
       "<polyline clip-path=\"url(#clip682)\" style=\"stroke:#000000; stroke-linecap:butt; stroke-linejoin:round; stroke-width:2; stroke-opacity:0.1; fill:none\" points=\"\n",
       "  684.988,1486.45 684.988,47.2441 \n",
       "  \"/>\n",
       "<polyline clip-path=\"url(#clip682)\" style=\"stroke:#000000; stroke-linecap:butt; stroke-linejoin:round; stroke-width:2; stroke-opacity:0.1; fill:none\" points=\"\n",
       "  1137.57,1486.45 1137.57,47.2441 \n",
       "  \"/>\n",
       "<polyline clip-path=\"url(#clip682)\" style=\"stroke:#000000; stroke-linecap:butt; stroke-linejoin:round; stroke-width:2; stroke-opacity:0.1; fill:none\" points=\"\n",
       "  1590.15,1486.45 1590.15,47.2441 \n",
       "  \"/>\n",
       "<polyline clip-path=\"url(#clip682)\" style=\"stroke:#000000; stroke-linecap:butt; stroke-linejoin:round; stroke-width:2; stroke-opacity:0.1; fill:none\" points=\"\n",
       "  2042.74,1486.45 2042.74,47.2441 \n",
       "  \"/>\n",
       "<polyline clip-path=\"url(#clip680)\" style=\"stroke:#000000; stroke-linecap:butt; stroke-linejoin:round; stroke-width:4; stroke-opacity:1; fill:none\" points=\"\n",
       "  193.936,1486.45 2352.76,1486.45 \n",
       "  \"/>\n",
       "<polyline clip-path=\"url(#clip680)\" style=\"stroke:#000000; stroke-linecap:butt; stroke-linejoin:round; stroke-width:4; stroke-opacity:1; fill:none\" points=\"\n",
       "  232.406,1486.45 232.406,1467.55 \n",
       "  \"/>\n",
       "<polyline clip-path=\"url(#clip680)\" style=\"stroke:#000000; stroke-linecap:butt; stroke-linejoin:round; stroke-width:4; stroke-opacity:1; fill:none\" points=\"\n",
       "  684.988,1486.45 684.988,1467.55 \n",
       "  \"/>\n",
       "<polyline clip-path=\"url(#clip680)\" style=\"stroke:#000000; stroke-linecap:butt; stroke-linejoin:round; stroke-width:4; stroke-opacity:1; fill:none\" points=\"\n",
       "  1137.57,1486.45 1137.57,1467.55 \n",
       "  \"/>\n",
       "<polyline clip-path=\"url(#clip680)\" style=\"stroke:#000000; stroke-linecap:butt; stroke-linejoin:round; stroke-width:4; stroke-opacity:1; fill:none\" points=\"\n",
       "  1590.15,1486.45 1590.15,1467.55 \n",
       "  \"/>\n",
       "<polyline clip-path=\"url(#clip680)\" style=\"stroke:#000000; stroke-linecap:butt; stroke-linejoin:round; stroke-width:4; stroke-opacity:1; fill:none\" points=\"\n",
       "  2042.74,1486.45 2042.74,1467.55 \n",
       "  \"/>\n",
       "<path clip-path=\"url(#clip680)\" d=\"M232.406 1517.37 Q228.794 1517.37 226.966 1520.93 Q225.16 1524.47 225.16 1531.6 Q225.16 1538.71 226.966 1542.27 Q228.794 1545.82 232.406 1545.82 Q236.04 1545.82 237.845 1542.27 Q239.674 1538.71 239.674 1531.6 Q239.674 1524.47 237.845 1520.93 Q236.04 1517.37 232.406 1517.37 M232.406 1513.66 Q238.216 1513.66 241.271 1518.27 Q244.35 1522.85 244.35 1531.6 Q244.35 1540.33 241.271 1544.94 Q238.216 1549.52 232.406 1549.52 Q226.595 1549.52 223.517 1544.94 Q220.461 1540.33 220.461 1531.6 Q220.461 1522.85 223.517 1518.27 Q226.595 1513.66 232.406 1513.66 Z\" fill=\"#000000\" fill-rule=\"evenodd\" fill-opacity=\"1\" /><path clip-path=\"url(#clip680)\" d=\"M663.762 1544.91 L680.081 1544.91 L680.081 1548.85 L658.137 1548.85 L658.137 1544.91 Q660.799 1542.16 665.382 1537.53 Q669.988 1532.88 671.169 1531.53 Q673.414 1529.01 674.294 1527.27 Q675.197 1525.51 675.197 1523.82 Q675.197 1521.07 673.252 1519.33 Q671.331 1517.6 668.229 1517.6 Q666.03 1517.6 663.576 1518.36 Q661.146 1519.13 658.368 1520.68 L658.368 1515.95 Q661.192 1514.82 663.646 1514.24 Q666.1 1513.66 668.137 1513.66 Q673.507 1513.66 676.701 1516.35 Q679.896 1519.03 679.896 1523.52 Q679.896 1525.65 679.086 1527.57 Q678.299 1529.47 676.192 1532.07 Q675.613 1532.74 672.512 1535.95 Q669.41 1539.15 663.762 1544.91 Z\" fill=\"#000000\" fill-rule=\"evenodd\" fill-opacity=\"1\" /><path clip-path=\"url(#clip680)\" d=\"M699.896 1517.37 Q696.285 1517.37 694.456 1520.93 Q692.65 1524.47 692.65 1531.6 Q692.65 1538.71 694.456 1542.27 Q696.285 1545.82 699.896 1545.82 Q703.53 1545.82 705.335 1542.27 Q707.164 1538.71 707.164 1531.6 Q707.164 1524.47 705.335 1520.93 Q703.53 1517.37 699.896 1517.37 M699.896 1513.66 Q705.706 1513.66 708.761 1518.27 Q711.84 1522.85 711.84 1531.6 Q711.84 1540.33 708.761 1544.94 Q705.706 1549.52 699.896 1549.52 Q694.085 1549.52 691.007 1544.94 Q687.951 1540.33 687.951 1531.6 Q687.951 1522.85 691.007 1518.27 Q694.085 1513.66 699.896 1513.66 Z\" fill=\"#000000\" fill-rule=\"evenodd\" fill-opacity=\"1\" /><path clip-path=\"url(#clip680)\" d=\"M1125.74 1518.36 L1113.94 1536.81 L1125.74 1536.81 L1125.74 1518.36 M1124.52 1514.29 L1130.4 1514.29 L1130.4 1536.81 L1135.33 1536.81 L1135.33 1540.7 L1130.4 1540.7 L1130.4 1548.85 L1125.74 1548.85 L1125.74 1540.7 L1110.14 1540.7 L1110.14 1536.19 L1124.52 1514.29 Z\" fill=\"#000000\" fill-rule=\"evenodd\" fill-opacity=\"1\" /><path clip-path=\"url(#clip680)\" d=\"M1153.06 1517.37 Q1149.45 1517.37 1147.62 1520.93 Q1145.81 1524.47 1145.81 1531.6 Q1145.81 1538.71 1147.62 1542.27 Q1149.45 1545.82 1153.06 1545.82 Q1156.69 1545.82 1158.5 1542.27 Q1160.33 1538.71 1160.33 1531.6 Q1160.33 1524.47 1158.5 1520.93 Q1156.69 1517.37 1153.06 1517.37 M1153.06 1513.66 Q1158.87 1513.66 1161.92 1518.27 Q1165 1522.85 1165 1531.6 Q1165 1540.33 1161.92 1544.94 Q1158.87 1549.52 1153.06 1549.52 Q1147.25 1549.52 1144.17 1544.94 Q1141.11 1540.33 1141.11 1531.6 Q1141.11 1522.85 1144.17 1518.27 Q1147.25 1513.66 1153.06 1513.66 Z\" fill=\"#000000\" fill-rule=\"evenodd\" fill-opacity=\"1\" /><path clip-path=\"url(#clip680)\" d=\"M1575.56 1529.7 Q1572.41 1529.7 1570.56 1531.86 Q1568.73 1534.01 1568.73 1537.76 Q1568.73 1541.49 1570.56 1543.66 Q1572.41 1545.82 1575.56 1545.82 Q1578.71 1545.82 1580.54 1543.66 Q1582.39 1541.49 1582.39 1537.76 Q1582.39 1534.01 1580.54 1531.86 Q1578.71 1529.7 1575.56 1529.7 M1584.84 1515.05 L1584.84 1519.31 Q1583.08 1518.48 1581.28 1518.04 Q1579.49 1517.6 1577.73 1517.6 Q1573.11 1517.6 1570.65 1520.72 Q1568.22 1523.85 1567.87 1530.17 Q1569.24 1528.15 1571.3 1527.09 Q1573.36 1526 1575.84 1526 Q1581.05 1526 1584.05 1529.17 Q1587.09 1532.32 1587.09 1537.76 Q1587.09 1543.08 1583.94 1546.3 Q1580.79 1549.52 1575.56 1549.52 Q1569.56 1549.52 1566.39 1544.94 Q1563.22 1540.33 1563.22 1531.6 Q1563.22 1523.41 1567.11 1518.55 Q1571 1513.66 1577.55 1513.66 Q1579.31 1513.66 1581.09 1514.01 Q1582.9 1514.36 1584.84 1515.05 Z\" fill=\"#000000\" fill-rule=\"evenodd\" fill-opacity=\"1\" /><path clip-path=\"url(#clip680)\" d=\"M1605.14 1517.37 Q1601.53 1517.37 1599.7 1520.93 Q1597.9 1524.47 1597.9 1531.6 Q1597.9 1538.71 1599.7 1542.27 Q1601.53 1545.82 1605.14 1545.82 Q1608.78 1545.82 1610.58 1542.27 Q1612.41 1538.71 1612.41 1531.6 Q1612.41 1524.47 1610.58 1520.93 Q1608.78 1517.37 1605.14 1517.37 M1605.14 1513.66 Q1610.95 1513.66 1614.01 1518.27 Q1617.09 1522.85 1617.09 1531.6 Q1617.09 1540.33 1614.01 1544.94 Q1610.95 1549.52 1605.14 1549.52 Q1599.33 1549.52 1596.25 1544.94 Q1593.2 1540.33 1593.2 1531.6 Q1593.2 1522.85 1596.25 1518.27 Q1599.33 1513.66 1605.14 1513.66 Z\" fill=\"#000000\" fill-rule=\"evenodd\" fill-opacity=\"1\" /><path clip-path=\"url(#clip680)\" d=\"M2027.61 1532.44 Q2024.28 1532.44 2022.35 1534.22 Q2020.46 1536 2020.46 1539.13 Q2020.46 1542.25 2022.35 1544.03 Q2024.28 1545.82 2027.61 1545.82 Q2030.94 1545.82 2032.86 1544.03 Q2034.79 1542.23 2034.79 1539.13 Q2034.79 1536 2032.86 1534.22 Q2030.97 1532.44 2027.61 1532.44 M2022.93 1530.45 Q2019.92 1529.7 2018.23 1527.64 Q2016.57 1525.58 2016.57 1522.62 Q2016.57 1518.48 2019.51 1516.07 Q2022.47 1513.66 2027.61 1513.66 Q2032.77 1513.66 2035.71 1516.07 Q2038.65 1518.48 2038.65 1522.62 Q2038.65 1525.58 2036.96 1527.64 Q2035.29 1529.7 2032.31 1530.45 Q2035.69 1531.23 2037.56 1533.52 Q2039.46 1535.82 2039.46 1539.13 Q2039.46 1544.15 2036.38 1546.83 Q2033.33 1549.52 2027.61 1549.52 Q2021.89 1549.52 2018.81 1546.83 Q2015.76 1544.15 2015.76 1539.13 Q2015.76 1535.82 2017.66 1533.52 Q2019.55 1531.23 2022.93 1530.45 M2021.22 1523.06 Q2021.22 1525.75 2022.89 1527.25 Q2024.58 1528.76 2027.61 1528.76 Q2030.62 1528.76 2032.31 1527.25 Q2034.02 1525.75 2034.02 1523.06 Q2034.02 1520.38 2032.31 1518.87 Q2030.62 1517.37 2027.61 1517.37 Q2024.58 1517.37 2022.89 1518.87 Q2021.22 1520.38 2021.22 1523.06 Z\" fill=\"#000000\" fill-rule=\"evenodd\" fill-opacity=\"1\" /><path clip-path=\"url(#clip680)\" d=\"M2057.77 1517.37 Q2054.16 1517.37 2052.33 1520.93 Q2050.53 1524.47 2050.53 1531.6 Q2050.53 1538.71 2052.33 1542.27 Q2054.16 1545.82 2057.77 1545.82 Q2061.41 1545.82 2063.21 1542.27 Q2065.04 1538.71 2065.04 1531.6 Q2065.04 1524.47 2063.21 1520.93 Q2061.41 1517.37 2057.77 1517.37 M2057.77 1513.66 Q2063.58 1513.66 2066.64 1518.27 Q2069.72 1522.85 2069.72 1531.6 Q2069.72 1540.33 2066.64 1544.94 Q2063.58 1549.52 2057.77 1549.52 Q2051.96 1549.52 2048.88 1544.94 Q2045.83 1540.33 2045.83 1531.6 Q2045.83 1522.85 2048.88 1518.27 Q2051.96 1513.66 2057.77 1513.66 Z\" fill=\"#000000\" fill-rule=\"evenodd\" fill-opacity=\"1\" /><polyline clip-path=\"url(#clip682)\" style=\"stroke:#000000; stroke-linecap:butt; stroke-linejoin:round; stroke-width:2; stroke-opacity:0.1; fill:none\" points=\"\n",
       "  193.936,1345.74 2352.76,1345.74 \n",
       "  \"/>\n",
       "<polyline clip-path=\"url(#clip682)\" style=\"stroke:#000000; stroke-linecap:butt; stroke-linejoin:round; stroke-width:2; stroke-opacity:0.1; fill:none\" points=\"\n",
       "  193.936,1115.19 2352.76,1115.19 \n",
       "  \"/>\n",
       "<polyline clip-path=\"url(#clip682)\" style=\"stroke:#000000; stroke-linecap:butt; stroke-linejoin:round; stroke-width:2; stroke-opacity:0.1; fill:none\" points=\"\n",
       "  193.936,884.647 2352.76,884.647 \n",
       "  \"/>\n",
       "<polyline clip-path=\"url(#clip682)\" style=\"stroke:#000000; stroke-linecap:butt; stroke-linejoin:round; stroke-width:2; stroke-opacity:0.1; fill:none\" points=\"\n",
       "  193.936,654.102 2352.76,654.102 \n",
       "  \"/>\n",
       "<polyline clip-path=\"url(#clip682)\" style=\"stroke:#000000; stroke-linecap:butt; stroke-linejoin:round; stroke-width:2; stroke-opacity:0.1; fill:none\" points=\"\n",
       "  193.936,423.557 2352.76,423.557 \n",
       "  \"/>\n",
       "<polyline clip-path=\"url(#clip682)\" style=\"stroke:#000000; stroke-linecap:butt; stroke-linejoin:round; stroke-width:2; stroke-opacity:0.1; fill:none\" points=\"\n",
       "  193.936,193.012 2352.76,193.012 \n",
       "  \"/>\n",
       "<polyline clip-path=\"url(#clip680)\" style=\"stroke:#000000; stroke-linecap:butt; stroke-linejoin:round; stroke-width:4; stroke-opacity:1; fill:none\" points=\"\n",
       "  193.936,1486.45 193.936,47.2441 \n",
       "  \"/>\n",
       "<polyline clip-path=\"url(#clip680)\" style=\"stroke:#000000; stroke-linecap:butt; stroke-linejoin:round; stroke-width:4; stroke-opacity:1; fill:none\" points=\"\n",
       "  193.936,1345.74 212.834,1345.74 \n",
       "  \"/>\n",
       "<polyline clip-path=\"url(#clip680)\" style=\"stroke:#000000; stroke-linecap:butt; stroke-linejoin:round; stroke-width:4; stroke-opacity:1; fill:none\" points=\"\n",
       "  193.936,1115.19 212.834,1115.19 \n",
       "  \"/>\n",
       "<polyline clip-path=\"url(#clip680)\" style=\"stroke:#000000; stroke-linecap:butt; stroke-linejoin:round; stroke-width:4; stroke-opacity:1; fill:none\" points=\"\n",
       "  193.936,884.647 212.834,884.647 \n",
       "  \"/>\n",
       "<polyline clip-path=\"url(#clip680)\" style=\"stroke:#000000; stroke-linecap:butt; stroke-linejoin:round; stroke-width:4; stroke-opacity:1; fill:none\" points=\"\n",
       "  193.936,654.102 212.834,654.102 \n",
       "  \"/>\n",
       "<polyline clip-path=\"url(#clip680)\" style=\"stroke:#000000; stroke-linecap:butt; stroke-linejoin:round; stroke-width:4; stroke-opacity:1; fill:none\" points=\"\n",
       "  193.936,423.557 212.834,423.557 \n",
       "  \"/>\n",
       "<polyline clip-path=\"url(#clip680)\" style=\"stroke:#000000; stroke-linecap:butt; stroke-linejoin:round; stroke-width:4; stroke-opacity:1; fill:none\" points=\"\n",
       "  193.936,193.012 212.834,193.012 \n",
       "  \"/>\n",
       "<path clip-path=\"url(#clip680)\" d=\"M51.9875 1346.19 L81.6633 1346.19 L81.6633 1350.12 L51.9875 1350.12 L51.9875 1346.19 Z\" fill=\"#000000\" fill-rule=\"evenodd\" fill-opacity=\"1\" /><path clip-path=\"url(#clip680)\" d=\"M90.5752 1328.46 L112.797 1328.46 L112.797 1330.45 L100.251 1363.02 L95.3669 1363.02 L107.172 1332.39 L90.5752 1332.39 L90.5752 1328.46 Z\" fill=\"#000000\" fill-rule=\"evenodd\" fill-opacity=\"1\" /><path clip-path=\"url(#clip680)\" d=\"M121.918 1357.14 L126.802 1357.14 L126.802 1363.02 L121.918 1363.02 L121.918 1357.14 Z\" fill=\"#000000\" fill-rule=\"evenodd\" fill-opacity=\"1\" /><path clip-path=\"url(#clip680)\" d=\"M137.033 1328.46 L155.39 1328.46 L155.39 1332.39 L141.316 1332.39 L141.316 1340.86 Q142.334 1340.52 143.353 1340.36 Q144.371 1340.17 145.39 1340.17 Q151.177 1340.17 154.556 1343.34 Q157.936 1346.51 157.936 1351.93 Q157.936 1357.51 154.464 1360.61 Q150.992 1363.69 144.672 1363.69 Q142.496 1363.69 140.228 1363.32 Q137.982 1362.95 135.575 1362.21 L135.575 1357.51 Q137.658 1358.64 139.881 1359.2 Q142.103 1359.75 144.58 1359.75 Q148.584 1359.75 150.922 1357.65 Q153.26 1355.54 153.26 1351.93 Q153.26 1348.32 150.922 1346.21 Q148.584 1344.11 144.58 1344.11 Q142.705 1344.11 140.83 1344.52 Q138.978 1344.94 137.033 1345.82 L137.033 1328.46 Z\" fill=\"#000000\" fill-rule=\"evenodd\" fill-opacity=\"1\" /><path clip-path=\"url(#clip680)\" d=\"M50.9921 1115.64 L80.6679 1115.64 L80.6679 1119.58 L50.9921 1119.58 L50.9921 1115.64 Z\" fill=\"#000000\" fill-rule=\"evenodd\" fill-opacity=\"1\" /><path clip-path=\"url(#clip680)\" d=\"M90.8067 1097.91 L109.163 1097.91 L109.163 1101.85 L95.0891 1101.85 L95.0891 1110.32 Q96.1076 1109.97 97.1261 1109.81 Q98.1447 1109.63 99.1632 1109.63 Q104.95 1109.63 108.33 1112.8 Q111.709 1115.97 111.709 1121.38 Q111.709 1126.96 108.237 1130.06 Q104.765 1133.14 98.4456 1133.14 Q96.2697 1133.14 94.0012 1132.77 Q91.7558 1132.4 89.3484 1131.66 L89.3484 1126.96 Q91.4317 1128.1 93.6539 1128.65 Q95.8761 1129.21 98.353 1129.21 Q102.358 1129.21 104.696 1127.1 Q107.033 1125 107.033 1121.38 Q107.033 1117.77 104.696 1115.67 Q102.358 1113.56 98.353 1113.56 Q96.478 1113.56 94.603 1113.98 Q92.7512 1114.39 90.8067 1115.27 L90.8067 1097.91 Z\" fill=\"#000000\" fill-rule=\"evenodd\" fill-opacity=\"1\" /><path clip-path=\"url(#clip680)\" d=\"M120.922 1126.59 L125.807 1126.59 L125.807 1132.47 L120.922 1132.47 L120.922 1126.59 Z\" fill=\"#000000\" fill-rule=\"evenodd\" fill-opacity=\"1\" /><path clip-path=\"url(#clip680)\" d=\"M145.992 1100.99 Q142.381 1100.99 140.552 1104.56 Q138.746 1108.1 138.746 1115.23 Q138.746 1122.33 140.552 1125.9 Q142.381 1129.44 145.992 1129.44 Q149.626 1129.44 151.431 1125.9 Q153.26 1122.33 153.26 1115.23 Q153.26 1108.1 151.431 1104.56 Q149.626 1100.99 145.992 1100.99 M145.992 1097.29 Q151.802 1097.29 154.857 1101.89 Q157.936 1106.48 157.936 1115.23 Q157.936 1123.95 154.857 1128.56 Q151.802 1133.14 145.992 1133.14 Q140.181 1133.14 137.103 1128.56 Q134.047 1123.95 134.047 1115.23 Q134.047 1106.48 137.103 1101.89 Q140.181 1097.29 145.992 1097.29 Z\" fill=\"#000000\" fill-rule=\"evenodd\" fill-opacity=\"1\" /><path clip-path=\"url(#clip680)\" d=\"M51.9875 885.099 L81.6633 885.099 L81.6633 889.034 L51.9875 889.034 L51.9875 885.099 Z\" fill=\"#000000\" fill-rule=\"evenodd\" fill-opacity=\"1\" /><path clip-path=\"url(#clip680)\" d=\"M95.7836 897.992 L112.103 897.992 L112.103 901.927 L90.1586 901.927 L90.1586 897.992 Q92.8206 895.237 97.4039 890.608 Q102.01 885.955 103.191 884.612 Q105.436 882.089 106.316 880.353 Q107.219 878.594 107.219 876.904 Q107.219 874.15 105.274 872.413 Q103.353 870.677 100.251 870.677 Q98.0521 870.677 95.5984 871.441 Q93.1678 872.205 90.3901 873.756 L90.3901 869.034 Q93.2141 867.9 95.6678 867.321 Q98.1215 866.742 100.159 866.742 Q105.529 866.742 108.723 869.427 Q111.918 872.113 111.918 876.603 Q111.918 878.733 111.108 880.654 Q110.321 882.552 108.214 885.145 Q107.635 885.816 104.534 889.034 Q101.432 892.228 95.7836 897.992 Z\" fill=\"#000000\" fill-rule=\"evenodd\" fill-opacity=\"1\" /><path clip-path=\"url(#clip680)\" d=\"M121.918 896.048 L126.802 896.048 L126.802 901.927 L121.918 901.927 L121.918 896.048 Z\" fill=\"#000000\" fill-rule=\"evenodd\" fill-opacity=\"1\" /><path clip-path=\"url(#clip680)\" d=\"M137.033 867.367 L155.39 867.367 L155.39 871.302 L141.316 871.302 L141.316 879.775 Q142.334 879.427 143.353 879.265 Q144.371 879.08 145.39 879.08 Q151.177 879.08 154.556 882.251 Q157.936 885.423 157.936 890.839 Q157.936 896.418 154.464 899.52 Q150.992 902.599 144.672 902.599 Q142.496 902.599 140.228 902.228 Q137.982 901.858 135.575 901.117 L135.575 896.418 Q137.658 897.552 139.881 898.108 Q142.103 898.663 144.58 898.663 Q148.584 898.663 150.922 896.557 Q153.26 894.45 153.26 890.839 Q153.26 887.228 150.922 885.122 Q148.584 883.015 144.58 883.015 Q142.705 883.015 140.83 883.432 Q138.978 883.849 137.033 884.728 L137.033 867.367 Z\" fill=\"#000000\" fill-rule=\"evenodd\" fill-opacity=\"1\" /><path clip-path=\"url(#clip680)\" d=\"M100.76 639.901 Q97.1493 639.901 95.3206 643.466 Q93.515 647.007 93.515 654.137 Q93.515 661.243 95.3206 664.808 Q97.1493 668.35 100.76 668.35 Q104.395 668.35 106.2 664.808 Q108.029 661.243 108.029 654.137 Q108.029 647.007 106.2 643.466 Q104.395 639.901 100.76 639.901 M100.76 636.197 Q106.571 636.197 109.626 640.804 Q112.705 645.387 112.705 654.137 Q112.705 662.864 109.626 667.47 Q106.571 672.053 100.76 672.053 Q94.9502 672.053 91.8715 667.47 Q88.816 662.864 88.816 654.137 Q88.816 645.387 91.8715 640.804 Q94.9502 636.197 100.76 636.197 Z\" fill=\"#000000\" fill-rule=\"evenodd\" fill-opacity=\"1\" /><path clip-path=\"url(#clip680)\" d=\"M120.922 665.502 L125.807 665.502 L125.807 671.382 L120.922 671.382 L120.922 665.502 Z\" fill=\"#000000\" fill-rule=\"evenodd\" fill-opacity=\"1\" /><path clip-path=\"url(#clip680)\" d=\"M145.992 639.901 Q142.381 639.901 140.552 643.466 Q138.746 647.007 138.746 654.137 Q138.746 661.243 140.552 664.808 Q142.381 668.35 145.992 668.35 Q149.626 668.35 151.431 664.808 Q153.26 661.243 153.26 654.137 Q153.26 647.007 151.431 643.466 Q149.626 639.901 145.992 639.901 M145.992 636.197 Q151.802 636.197 154.857 640.804 Q157.936 645.387 157.936 654.137 Q157.936 662.864 154.857 667.47 Q151.802 672.053 145.992 672.053 Q140.181 672.053 137.103 667.47 Q134.047 662.864 134.047 654.137 Q134.047 645.387 137.103 640.804 Q140.181 636.197 145.992 636.197 Z\" fill=\"#000000\" fill-rule=\"evenodd\" fill-opacity=\"1\" /><path clip-path=\"url(#clip680)\" d=\"M95.7836 436.902 L112.103 436.902 L112.103 440.837 L90.1586 440.837 L90.1586 436.902 Q92.8206 434.147 97.4039 429.518 Q102.01 424.865 103.191 423.522 Q105.436 420.999 106.316 419.263 Q107.219 417.504 107.219 415.814 Q107.219 413.059 105.274 411.323 Q103.353 409.587 100.251 409.587 Q98.0521 409.587 95.5984 410.351 Q93.1678 411.115 90.3901 412.666 L90.3901 407.944 Q93.2141 406.809 95.6678 406.231 Q98.1215 405.652 100.159 405.652 Q105.529 405.652 108.723 408.337 Q111.918 411.022 111.918 415.513 Q111.918 417.643 111.108 419.564 Q110.321 421.462 108.214 424.055 Q107.635 424.726 104.534 427.943 Q101.432 431.138 95.7836 436.902 Z\" fill=\"#000000\" fill-rule=\"evenodd\" fill-opacity=\"1\" /><path clip-path=\"url(#clip680)\" d=\"M121.918 434.957 L126.802 434.957 L126.802 440.837 L121.918 440.837 L121.918 434.957 Z\" fill=\"#000000\" fill-rule=\"evenodd\" fill-opacity=\"1\" /><path clip-path=\"url(#clip680)\" d=\"M137.033 406.277 L155.39 406.277 L155.39 410.212 L141.316 410.212 L141.316 418.684 Q142.334 418.337 143.353 418.175 Q144.371 417.99 145.39 417.99 Q151.177 417.99 154.556 421.161 Q157.936 424.332 157.936 429.749 Q157.936 435.328 154.464 438.429 Q150.992 441.508 144.672 441.508 Q142.496 441.508 140.228 441.138 Q137.982 440.767 135.575 440.027 L135.575 435.328 Q137.658 436.462 139.881 437.017 Q142.103 437.573 144.58 437.573 Q148.584 437.573 150.922 435.467 Q153.26 433.36 153.26 429.749 Q153.26 426.138 150.922 424.031 Q148.584 421.925 144.58 421.925 Q142.705 421.925 140.83 422.342 Q138.978 422.758 137.033 423.638 L137.033 406.277 Z\" fill=\"#000000\" fill-rule=\"evenodd\" fill-opacity=\"1\" /><path clip-path=\"url(#clip680)\" d=\"M90.8067 175.732 L109.163 175.732 L109.163 179.667 L95.0891 179.667 L95.0891 188.139 Q96.1076 187.792 97.1261 187.63 Q98.1447 187.445 99.1632 187.445 Q104.95 187.445 108.33 190.616 Q111.709 193.787 111.709 199.204 Q111.709 204.782 108.237 207.884 Q104.765 210.963 98.4456 210.963 Q96.2697 210.963 94.0012 210.593 Q91.7558 210.222 89.3484 209.482 L89.3484 204.782 Q91.4317 205.917 93.6539 206.472 Q95.8761 207.028 98.353 207.028 Q102.358 207.028 104.696 204.921 Q107.033 202.815 107.033 199.204 Q107.033 195.593 104.696 193.486 Q102.358 191.38 98.353 191.38 Q96.478 191.38 94.603 191.796 Q92.7512 192.213 90.8067 193.093 L90.8067 175.732 Z\" fill=\"#000000\" fill-rule=\"evenodd\" fill-opacity=\"1\" /><path clip-path=\"url(#clip680)\" d=\"M120.922 204.412 L125.807 204.412 L125.807 210.292 L120.922 210.292 L120.922 204.412 Z\" fill=\"#000000\" fill-rule=\"evenodd\" fill-opacity=\"1\" /><path clip-path=\"url(#clip680)\" d=\"M145.992 178.81 Q142.381 178.81 140.552 182.375 Q138.746 185.917 138.746 193.046 Q138.746 200.153 140.552 203.718 Q142.381 207.259 145.992 207.259 Q149.626 207.259 151.431 203.718 Q153.26 200.153 153.26 193.046 Q153.26 185.917 151.431 182.375 Q149.626 178.81 145.992 178.81 M145.992 175.107 Q151.802 175.107 154.857 179.713 Q157.936 184.296 157.936 193.046 Q157.936 201.773 154.857 206.38 Q151.802 210.963 145.992 210.963 Q140.181 210.963 137.103 206.38 Q134.047 201.773 134.047 193.046 Q134.047 184.296 137.103 179.713 Q140.181 175.107 145.992 175.107 Z\" fill=\"#000000\" fill-rule=\"evenodd\" fill-opacity=\"1\" /><circle clip-path=\"url(#clip682)\" cx=\"255.035\" cy=\"1445.72\" r=\"18\" fill=\"#009af9\" fill-rule=\"evenodd\" fill-opacity=\"1\" stroke=\"#000000\" stroke-opacity=\"1\" stroke-width=\"3.2\"/>\n",
       "<circle clip-path=\"url(#clip682)\" cx=\"277.664\" cy=\"1210.97\" r=\"18\" fill=\"#009af9\" fill-rule=\"evenodd\" fill-opacity=\"1\" stroke=\"#000000\" stroke-opacity=\"1\" stroke-width=\"3.2\"/>\n",
       "<circle clip-path=\"url(#clip682)\" cx=\"300.293\" cy=\"1210.97\" r=\"18\" fill=\"#009af9\" fill-rule=\"evenodd\" fill-opacity=\"1\" stroke=\"#000000\" stroke-opacity=\"1\" stroke-width=\"3.2\"/>\n",
       "<circle clip-path=\"url(#clip682)\" cx=\"322.922\" cy=\"1210.97\" r=\"18\" fill=\"#009af9\" fill-rule=\"evenodd\" fill-opacity=\"1\" stroke=\"#000000\" stroke-opacity=\"1\" stroke-width=\"3.2\"/>\n",
       "<circle clip-path=\"url(#clip682)\" cx=\"345.551\" cy=\"1056.17\" r=\"18\" fill=\"#009af9\" fill-rule=\"evenodd\" fill-opacity=\"1\" stroke=\"#000000\" stroke-opacity=\"1\" stroke-width=\"3.2\"/>\n",
       "<circle clip-path=\"url(#clip682)\" cx=\"368.18\" cy=\"1041.23\" r=\"18\" fill=\"#009af9\" fill-rule=\"evenodd\" fill-opacity=\"1\" stroke=\"#000000\" stroke-opacity=\"1\" stroke-width=\"3.2\"/>\n",
       "<circle clip-path=\"url(#clip682)\" cx=\"390.81\" cy=\"1041.23\" r=\"18\" fill=\"#009af9\" fill-rule=\"evenodd\" fill-opacity=\"1\" stroke=\"#000000\" stroke-opacity=\"1\" stroke-width=\"3.2\"/>\n",
       "<circle clip-path=\"url(#clip682)\" cx=\"413.439\" cy=\"1041.23\" r=\"18\" fill=\"#009af9\" fill-rule=\"evenodd\" fill-opacity=\"1\" stroke=\"#000000\" stroke-opacity=\"1\" stroke-width=\"3.2\"/>\n",
       "<circle clip-path=\"url(#clip682)\" cx=\"436.068\" cy=\"1011.62\" r=\"18\" fill=\"#009af9\" fill-rule=\"evenodd\" fill-opacity=\"1\" stroke=\"#000000\" stroke-opacity=\"1\" stroke-width=\"3.2\"/>\n",
       "<circle clip-path=\"url(#clip682)\" cx=\"458.697\" cy=\"996.595\" r=\"18\" fill=\"#009af9\" fill-rule=\"evenodd\" fill-opacity=\"1\" stroke=\"#000000\" stroke-opacity=\"1\" stroke-width=\"3.2\"/>\n",
       "<circle clip-path=\"url(#clip682)\" cx=\"481.326\" cy=\"985.483\" r=\"18\" fill=\"#009af9\" fill-rule=\"evenodd\" fill-opacity=\"1\" stroke=\"#000000\" stroke-opacity=\"1\" stroke-width=\"3.2\"/>\n",
       "<circle clip-path=\"url(#clip682)\" cx=\"503.955\" cy=\"985.483\" r=\"18\" fill=\"#009af9\" fill-rule=\"evenodd\" fill-opacity=\"1\" stroke=\"#000000\" stroke-opacity=\"1\" stroke-width=\"3.2\"/>\n",
       "<circle clip-path=\"url(#clip682)\" cx=\"526.584\" cy=\"985.483\" r=\"18\" fill=\"#009af9\" fill-rule=\"evenodd\" fill-opacity=\"1\" stroke=\"#000000\" stroke-opacity=\"1\" stroke-width=\"3.2\"/>\n",
       "<circle clip-path=\"url(#clip682)\" cx=\"549.213\" cy=\"979.952\" r=\"18\" fill=\"#009af9\" fill-rule=\"evenodd\" fill-opacity=\"1\" stroke=\"#000000\" stroke-opacity=\"1\" stroke-width=\"3.2\"/>\n",
       "<circle clip-path=\"url(#clip682)\" cx=\"571.843\" cy=\"899.004\" r=\"18\" fill=\"#009af9\" fill-rule=\"evenodd\" fill-opacity=\"1\" stroke=\"#000000\" stroke-opacity=\"1\" stroke-width=\"3.2\"/>\n",
       "<circle clip-path=\"url(#clip682)\" cx=\"594.472\" cy=\"865.919\" r=\"18\" fill=\"#009af9\" fill-rule=\"evenodd\" fill-opacity=\"1\" stroke=\"#000000\" stroke-opacity=\"1\" stroke-width=\"3.2\"/>\n",
       "<circle clip-path=\"url(#clip682)\" cx=\"617.101\" cy=\"865.919\" r=\"18\" fill=\"#009af9\" fill-rule=\"evenodd\" fill-opacity=\"1\" stroke=\"#000000\" stroke-opacity=\"1\" stroke-width=\"3.2\"/>\n",
       "<circle clip-path=\"url(#clip682)\" cx=\"639.73\" cy=\"865.919\" r=\"18\" fill=\"#009af9\" fill-rule=\"evenodd\" fill-opacity=\"1\" stroke=\"#000000\" stroke-opacity=\"1\" stroke-width=\"3.2\"/>\n",
       "<circle clip-path=\"url(#clip682)\" cx=\"662.359\" cy=\"833.271\" r=\"18\" fill=\"#009af9\" fill-rule=\"evenodd\" fill-opacity=\"1\" stroke=\"#000000\" stroke-opacity=\"1\" stroke-width=\"3.2\"/>\n",
       "<circle clip-path=\"url(#clip682)\" cx=\"684.988\" cy=\"833.271\" r=\"18\" fill=\"#009af9\" fill-rule=\"evenodd\" fill-opacity=\"1\" stroke=\"#000000\" stroke-opacity=\"1\" stroke-width=\"3.2\"/>\n",
       "<circle clip-path=\"url(#clip682)\" cx=\"707.617\" cy=\"833.271\" r=\"18\" fill=\"#009af9\" fill-rule=\"evenodd\" fill-opacity=\"1\" stroke=\"#000000\" stroke-opacity=\"1\" stroke-width=\"3.2\"/>\n",
       "<circle clip-path=\"url(#clip682)\" cx=\"730.247\" cy=\"833.271\" r=\"18\" fill=\"#009af9\" fill-rule=\"evenodd\" fill-opacity=\"1\" stroke=\"#000000\" stroke-opacity=\"1\" stroke-width=\"3.2\"/>\n",
       "<circle clip-path=\"url(#clip682)\" cx=\"752.876\" cy=\"833.271\" r=\"18\" fill=\"#009af9\" fill-rule=\"evenodd\" fill-opacity=\"1\" stroke=\"#000000\" stroke-opacity=\"1\" stroke-width=\"3.2\"/>\n",
       "<circle clip-path=\"url(#clip682)\" cx=\"775.505\" cy=\"833.271\" r=\"18\" fill=\"#009af9\" fill-rule=\"evenodd\" fill-opacity=\"1\" stroke=\"#000000\" stroke-opacity=\"1\" stroke-width=\"3.2\"/>\n",
       "<circle clip-path=\"url(#clip682)\" cx=\"798.134\" cy=\"797.982\" r=\"18\" fill=\"#009af9\" fill-rule=\"evenodd\" fill-opacity=\"1\" stroke=\"#000000\" stroke-opacity=\"1\" stroke-width=\"3.2\"/>\n",
       "<circle clip-path=\"url(#clip682)\" cx=\"820.763\" cy=\"797.982\" r=\"18\" fill=\"#009af9\" fill-rule=\"evenodd\" fill-opacity=\"1\" stroke=\"#000000\" stroke-opacity=\"1\" stroke-width=\"3.2\"/>\n",
       "<circle clip-path=\"url(#clip682)\" cx=\"843.392\" cy=\"797.982\" r=\"18\" fill=\"#009af9\" fill-rule=\"evenodd\" fill-opacity=\"1\" stroke=\"#000000\" stroke-opacity=\"1\" stroke-width=\"3.2\"/>\n",
       "<circle clip-path=\"url(#clip682)\" cx=\"866.021\" cy=\"792.315\" r=\"18\" fill=\"#009af9\" fill-rule=\"evenodd\" fill-opacity=\"1\" stroke=\"#000000\" stroke-opacity=\"1\" stroke-width=\"3.2\"/>\n",
       "<circle clip-path=\"url(#clip682)\" cx=\"888.651\" cy=\"792.315\" r=\"18\" fill=\"#009af9\" fill-rule=\"evenodd\" fill-opacity=\"1\" stroke=\"#000000\" stroke-opacity=\"1\" stroke-width=\"3.2\"/>\n",
       "<circle clip-path=\"url(#clip682)\" cx=\"911.28\" cy=\"792.315\" r=\"18\" fill=\"#009af9\" fill-rule=\"evenodd\" fill-opacity=\"1\" stroke=\"#000000\" stroke-opacity=\"1\" stroke-width=\"3.2\"/>\n",
       "<circle clip-path=\"url(#clip682)\" cx=\"933.909\" cy=\"770.891\" r=\"18\" fill=\"#009af9\" fill-rule=\"evenodd\" fill-opacity=\"1\" stroke=\"#000000\" stroke-opacity=\"1\" stroke-width=\"3.2\"/>\n",
       "<circle clip-path=\"url(#clip682)\" cx=\"956.538\" cy=\"670.053\" r=\"18\" fill=\"#009af9\" fill-rule=\"evenodd\" fill-opacity=\"1\" stroke=\"#000000\" stroke-opacity=\"1\" stroke-width=\"3.2\"/>\n",
       "<circle clip-path=\"url(#clip682)\" cx=\"979.167\" cy=\"670.053\" r=\"18\" fill=\"#009af9\" fill-rule=\"evenodd\" fill-opacity=\"1\" stroke=\"#000000\" stroke-opacity=\"1\" stroke-width=\"3.2\"/>\n",
       "<circle clip-path=\"url(#clip682)\" cx=\"1001.8\" cy=\"670.053\" r=\"18\" fill=\"#009af9\" fill-rule=\"evenodd\" fill-opacity=\"1\" stroke=\"#000000\" stroke-opacity=\"1\" stroke-width=\"3.2\"/>\n",
       "<circle clip-path=\"url(#clip682)\" cx=\"1024.43\" cy=\"654.102\" r=\"18\" fill=\"#009af9\" fill-rule=\"evenodd\" fill-opacity=\"1\" stroke=\"#000000\" stroke-opacity=\"1\" stroke-width=\"3.2\"/>\n",
       "<circle clip-path=\"url(#clip682)\" cx=\"1047.05\" cy=\"654.102\" r=\"18\" fill=\"#009af9\" fill-rule=\"evenodd\" fill-opacity=\"1\" stroke=\"#000000\" stroke-opacity=\"1\" stroke-width=\"3.2\"/>\n",
       "<circle clip-path=\"url(#clip682)\" cx=\"1069.68\" cy=\"654.102\" r=\"18\" fill=\"#009af9\" fill-rule=\"evenodd\" fill-opacity=\"1\" stroke=\"#000000\" stroke-opacity=\"1\" stroke-width=\"3.2\"/>\n",
       "<circle clip-path=\"url(#clip682)\" cx=\"1092.31\" cy=\"654.102\" r=\"18\" fill=\"#009af9\" fill-rule=\"evenodd\" fill-opacity=\"1\" stroke=\"#000000\" stroke-opacity=\"1\" stroke-width=\"3.2\"/>\n",
       "<circle clip-path=\"url(#clip682)\" cx=\"1114.94\" cy=\"654.102\" r=\"18\" fill=\"#009af9\" fill-rule=\"evenodd\" fill-opacity=\"1\" stroke=\"#000000\" stroke-opacity=\"1\" stroke-width=\"3.2\"/>\n",
       "<circle clip-path=\"url(#clip682)\" cx=\"1137.57\" cy=\"654.102\" r=\"18\" fill=\"#009af9\" fill-rule=\"evenodd\" fill-opacity=\"1\" stroke=\"#000000\" stroke-opacity=\"1\" stroke-width=\"3.2\"/>\n",
       "<circle clip-path=\"url(#clip682)\" cx=\"1160.2\" cy=\"654.102\" r=\"18\" fill=\"#009af9\" fill-rule=\"evenodd\" fill-opacity=\"1\" stroke=\"#000000\" stroke-opacity=\"1\" stroke-width=\"3.2\"/>\n",
       "<circle clip-path=\"url(#clip682)\" cx=\"1182.83\" cy=\"654.102\" r=\"18\" fill=\"#009af9\" fill-rule=\"evenodd\" fill-opacity=\"1\" stroke=\"#000000\" stroke-opacity=\"1\" stroke-width=\"3.2\"/>\n",
       "<circle clip-path=\"url(#clip682)\" cx=\"1205.46\" cy=\"654.102\" r=\"18\" fill=\"#009af9\" fill-rule=\"evenodd\" fill-opacity=\"1\" stroke=\"#000000\" stroke-opacity=\"1\" stroke-width=\"3.2\"/>\n",
       "<circle clip-path=\"url(#clip682)\" cx=\"1228.09\" cy=\"654.102\" r=\"18\" fill=\"#009af9\" fill-rule=\"evenodd\" fill-opacity=\"1\" stroke=\"#000000\" stroke-opacity=\"1\" stroke-width=\"3.2\"/>\n",
       "<circle clip-path=\"url(#clip682)\" cx=\"1250.72\" cy=\"654.102\" r=\"18\" fill=\"#009af9\" fill-rule=\"evenodd\" fill-opacity=\"1\" stroke=\"#000000\" stroke-opacity=\"1\" stroke-width=\"3.2\"/>\n",
       "<circle clip-path=\"url(#clip682)\" cx=\"1273.35\" cy=\"654.102\" r=\"18\" fill=\"#009af9\" fill-rule=\"evenodd\" fill-opacity=\"1\" stroke=\"#000000\" stroke-opacity=\"1\" stroke-width=\"3.2\"/>\n",
       "<circle clip-path=\"url(#clip682)\" cx=\"1295.98\" cy=\"654.102\" r=\"18\" fill=\"#009af9\" fill-rule=\"evenodd\" fill-opacity=\"1\" stroke=\"#000000\" stroke-opacity=\"1\" stroke-width=\"3.2\"/>\n",
       "<circle clip-path=\"url(#clip682)\" cx=\"1318.6\" cy=\"620.832\" r=\"18\" fill=\"#009af9\" fill-rule=\"evenodd\" fill-opacity=\"1\" stroke=\"#000000\" stroke-opacity=\"1\" stroke-width=\"3.2\"/>\n",
       "<circle clip-path=\"url(#clip682)\" cx=\"1341.23\" cy=\"620.832\" r=\"18\" fill=\"#009af9\" fill-rule=\"evenodd\" fill-opacity=\"1\" stroke=\"#000000\" stroke-opacity=\"1\" stroke-width=\"3.2\"/>\n",
       "<circle clip-path=\"url(#clip682)\" cx=\"1363.86\" cy=\"620.832\" r=\"18\" fill=\"#009af9\" fill-rule=\"evenodd\" fill-opacity=\"1\" stroke=\"#000000\" stroke-opacity=\"1\" stroke-width=\"3.2\"/>\n",
       "<circle clip-path=\"url(#clip682)\" cx=\"1386.49\" cy=\"602.074\" r=\"18\" fill=\"#009af9\" fill-rule=\"evenodd\" fill-opacity=\"1\" stroke=\"#000000\" stroke-opacity=\"1\" stroke-width=\"3.2\"/>\n",
       "<circle clip-path=\"url(#clip682)\" cx=\"1409.12\" cy=\"569.437\" r=\"18\" fill=\"#009af9\" fill-rule=\"evenodd\" fill-opacity=\"1\" stroke=\"#000000\" stroke-opacity=\"1\" stroke-width=\"3.2\"/>\n",
       "<circle clip-path=\"url(#clip682)\" cx=\"1431.75\" cy=\"541.516\" r=\"18\" fill=\"#009af9\" fill-rule=\"evenodd\" fill-opacity=\"1\" stroke=\"#000000\" stroke-opacity=\"1\" stroke-width=\"3.2\"/>\n",
       "<circle clip-path=\"url(#clip682)\" cx=\"1454.38\" cy=\"541.516\" r=\"18\" fill=\"#009af9\" fill-rule=\"evenodd\" fill-opacity=\"1\" stroke=\"#000000\" stroke-opacity=\"1\" stroke-width=\"3.2\"/>\n",
       "<circle clip-path=\"url(#clip682)\" cx=\"1477.01\" cy=\"541.516\" r=\"18\" fill=\"#009af9\" fill-rule=\"evenodd\" fill-opacity=\"1\" stroke=\"#000000\" stroke-opacity=\"1\" stroke-width=\"3.2\"/>\n",
       "<circle clip-path=\"url(#clip682)\" cx=\"1499.64\" cy=\"523.346\" r=\"18\" fill=\"#009af9\" fill-rule=\"evenodd\" fill-opacity=\"1\" stroke=\"#000000\" stroke-opacity=\"1\" stroke-width=\"3.2\"/>\n",
       "<circle clip-path=\"url(#clip682)\" cx=\"1522.27\" cy=\"519.43\" r=\"18\" fill=\"#009af9\" fill-rule=\"evenodd\" fill-opacity=\"1\" stroke=\"#000000\" stroke-opacity=\"1\" stroke-width=\"3.2\"/>\n",
       "<circle clip-path=\"url(#clip682)\" cx=\"1544.9\" cy=\"492.939\" r=\"18\" fill=\"#009af9\" fill-rule=\"evenodd\" fill-opacity=\"1\" stroke=\"#000000\" stroke-opacity=\"1\" stroke-width=\"3.2\"/>\n",
       "<circle clip-path=\"url(#clip682)\" cx=\"1567.52\" cy=\"492.939\" r=\"18\" fill=\"#009af9\" fill-rule=\"evenodd\" fill-opacity=\"1\" stroke=\"#000000\" stroke-opacity=\"1\" stroke-width=\"3.2\"/>\n",
       "<circle clip-path=\"url(#clip682)\" cx=\"1590.15\" cy=\"492.939\" r=\"18\" fill=\"#009af9\" fill-rule=\"evenodd\" fill-opacity=\"1\" stroke=\"#000000\" stroke-opacity=\"1\" stroke-width=\"3.2\"/>\n",
       "<circle clip-path=\"url(#clip682)\" cx=\"1612.78\" cy=\"474.933\" r=\"18\" fill=\"#009af9\" fill-rule=\"evenodd\" fill-opacity=\"1\" stroke=\"#000000\" stroke-opacity=\"1\" stroke-width=\"3.2\"/>\n",
       "<circle clip-path=\"url(#clip682)\" cx=\"1635.41\" cy=\"474.933\" r=\"18\" fill=\"#009af9\" fill-rule=\"evenodd\" fill-opacity=\"1\" stroke=\"#000000\" stroke-opacity=\"1\" stroke-width=\"3.2\"/>\n",
       "<circle clip-path=\"url(#clip682)\" cx=\"1658.04\" cy=\"474.933\" r=\"18\" fill=\"#009af9\" fill-rule=\"evenodd\" fill-opacity=\"1\" stroke=\"#000000\" stroke-opacity=\"1\" stroke-width=\"3.2\"/>\n",
       "<circle clip-path=\"url(#clip682)\" cx=\"1680.67\" cy=\"474.933\" r=\"18\" fill=\"#009af9\" fill-rule=\"evenodd\" fill-opacity=\"1\" stroke=\"#000000\" stroke-opacity=\"1\" stroke-width=\"3.2\"/>\n",
       "<circle clip-path=\"url(#clip682)\" cx=\"1703.3\" cy=\"474.933\" r=\"18\" fill=\"#009af9\" fill-rule=\"evenodd\" fill-opacity=\"1\" stroke=\"#000000\" stroke-opacity=\"1\" stroke-width=\"3.2\"/>\n",
       "<circle clip-path=\"url(#clip682)\" cx=\"1725.93\" cy=\"474.933\" r=\"18\" fill=\"#009af9\" fill-rule=\"evenodd\" fill-opacity=\"1\" stroke=\"#000000\" stroke-opacity=\"1\" stroke-width=\"3.2\"/>\n",
       "<circle clip-path=\"url(#clip682)\" cx=\"1748.56\" cy=\"433.706\" r=\"18\" fill=\"#009af9\" fill-rule=\"evenodd\" fill-opacity=\"1\" stroke=\"#000000\" stroke-opacity=\"1\" stroke-width=\"3.2\"/>\n",
       "<circle clip-path=\"url(#clip682)\" cx=\"1771.19\" cy=\"433.706\" r=\"18\" fill=\"#009af9\" fill-rule=\"evenodd\" fill-opacity=\"1\" stroke=\"#000000\" stroke-opacity=\"1\" stroke-width=\"3.2\"/>\n",
       "<circle clip-path=\"url(#clip682)\" cx=\"1793.82\" cy=\"433.706\" r=\"18\" fill=\"#009af9\" fill-rule=\"evenodd\" fill-opacity=\"1\" stroke=\"#000000\" stroke-opacity=\"1\" stroke-width=\"3.2\"/>\n",
       "<circle clip-path=\"url(#clip682)\" cx=\"1816.45\" cy=\"411.496\" r=\"18\" fill=\"#009af9\" fill-rule=\"evenodd\" fill-opacity=\"1\" stroke=\"#000000\" stroke-opacity=\"1\" stroke-width=\"3.2\"/>\n",
       "<circle clip-path=\"url(#clip682)\" cx=\"1839.07\" cy=\"411.496\" r=\"18\" fill=\"#009af9\" fill-rule=\"evenodd\" fill-opacity=\"1\" stroke=\"#000000\" stroke-opacity=\"1\" stroke-width=\"3.2\"/>\n",
       "<circle clip-path=\"url(#clip682)\" cx=\"1861.7\" cy=\"411.496\" r=\"18\" fill=\"#009af9\" fill-rule=\"evenodd\" fill-opacity=\"1\" stroke=\"#000000\" stroke-opacity=\"1\" stroke-width=\"3.2\"/>\n",
       "<circle clip-path=\"url(#clip682)\" cx=\"1884.33\" cy=\"382.787\" r=\"18\" fill=\"#009af9\" fill-rule=\"evenodd\" fill-opacity=\"1\" stroke=\"#000000\" stroke-opacity=\"1\" stroke-width=\"3.2\"/>\n",
       "<circle clip-path=\"url(#clip682)\" cx=\"1906.96\" cy=\"360.71\" r=\"18\" fill=\"#009af9\" fill-rule=\"evenodd\" fill-opacity=\"1\" stroke=\"#000000\" stroke-opacity=\"1\" stroke-width=\"3.2\"/>\n",
       "<circle clip-path=\"url(#clip682)\" cx=\"1929.59\" cy=\"352.022\" r=\"18\" fill=\"#009af9\" fill-rule=\"evenodd\" fill-opacity=\"1\" stroke=\"#000000\" stroke-opacity=\"1\" stroke-width=\"3.2\"/>\n",
       "<circle clip-path=\"url(#clip682)\" cx=\"1952.22\" cy=\"352.022\" r=\"18\" fill=\"#009af9\" fill-rule=\"evenodd\" fill-opacity=\"1\" stroke=\"#000000\" stroke-opacity=\"1\" stroke-width=\"3.2\"/>\n",
       "<circle clip-path=\"url(#clip682)\" cx=\"1974.85\" cy=\"352.022\" r=\"18\" fill=\"#009af9\" fill-rule=\"evenodd\" fill-opacity=\"1\" stroke=\"#000000\" stroke-opacity=\"1\" stroke-width=\"3.2\"/>\n",
       "<circle clip-path=\"url(#clip682)\" cx=\"1997.48\" cy=\"292.664\" r=\"18\" fill=\"#009af9\" fill-rule=\"evenodd\" fill-opacity=\"1\" stroke=\"#000000\" stroke-opacity=\"1\" stroke-width=\"3.2\"/>\n",
       "<circle clip-path=\"url(#clip682)\" cx=\"2020.11\" cy=\"290.607\" r=\"18\" fill=\"#009af9\" fill-rule=\"evenodd\" fill-opacity=\"1\" stroke=\"#000000\" stroke-opacity=\"1\" stroke-width=\"3.2\"/>\n",
       "<circle clip-path=\"url(#clip682)\" cx=\"2042.74\" cy=\"290.607\" r=\"18\" fill=\"#009af9\" fill-rule=\"evenodd\" fill-opacity=\"1\" stroke=\"#000000\" stroke-opacity=\"1\" stroke-width=\"3.2\"/>\n",
       "<circle clip-path=\"url(#clip682)\" cx=\"2065.37\" cy=\"290.607\" r=\"18\" fill=\"#009af9\" fill-rule=\"evenodd\" fill-opacity=\"1\" stroke=\"#000000\" stroke-opacity=\"1\" stroke-width=\"3.2\"/>\n",
       "<circle clip-path=\"url(#clip682)\" cx=\"2087.99\" cy=\"276.098\" r=\"18\" fill=\"#009af9\" fill-rule=\"evenodd\" fill-opacity=\"1\" stroke=\"#000000\" stroke-opacity=\"1\" stroke-width=\"3.2\"/>\n",
       "<circle clip-path=\"url(#clip682)\" cx=\"2110.62\" cy=\"261.746\" r=\"18\" fill=\"#009af9\" fill-rule=\"evenodd\" fill-opacity=\"1\" stroke=\"#000000\" stroke-opacity=\"1\" stroke-width=\"3.2\"/>\n",
       "<circle clip-path=\"url(#clip682)\" cx=\"2133.25\" cy=\"247.671\" r=\"18\" fill=\"#009af9\" fill-rule=\"evenodd\" fill-opacity=\"1\" stroke=\"#000000\" stroke-opacity=\"1\" stroke-width=\"3.2\"/>\n",
       "<circle clip-path=\"url(#clip682)\" cx=\"2155.88\" cy=\"247.671\" r=\"18\" fill=\"#009af9\" fill-rule=\"evenodd\" fill-opacity=\"1\" stroke=\"#000000\" stroke-opacity=\"1\" stroke-width=\"3.2\"/>\n",
       "<circle clip-path=\"url(#clip682)\" cx=\"2178.51\" cy=\"247.671\" r=\"18\" fill=\"#009af9\" fill-rule=\"evenodd\" fill-opacity=\"1\" stroke=\"#000000\" stroke-opacity=\"1\" stroke-width=\"3.2\"/>\n",
       "<circle clip-path=\"url(#clip682)\" cx=\"2201.14\" cy=\"184.305\" r=\"18\" fill=\"#009af9\" fill-rule=\"evenodd\" fill-opacity=\"1\" stroke=\"#000000\" stroke-opacity=\"1\" stroke-width=\"3.2\"/>\n",
       "<circle clip-path=\"url(#clip682)\" cx=\"2223.77\" cy=\"157.586\" r=\"18\" fill=\"#009af9\" fill-rule=\"evenodd\" fill-opacity=\"1\" stroke=\"#000000\" stroke-opacity=\"1\" stroke-width=\"3.2\"/>\n",
       "<circle clip-path=\"url(#clip682)\" cx=\"2246.4\" cy=\"157.586\" r=\"18\" fill=\"#009af9\" fill-rule=\"evenodd\" fill-opacity=\"1\" stroke=\"#000000\" stroke-opacity=\"1\" stroke-width=\"3.2\"/>\n",
       "<circle clip-path=\"url(#clip682)\" cx=\"2269.03\" cy=\"157.586\" r=\"18\" fill=\"#009af9\" fill-rule=\"evenodd\" fill-opacity=\"1\" stroke=\"#000000\" stroke-opacity=\"1\" stroke-width=\"3.2\"/>\n",
       "<circle clip-path=\"url(#clip682)\" cx=\"2291.66\" cy=\"87.9763\" r=\"18\" fill=\"#009af9\" fill-rule=\"evenodd\" fill-opacity=\"1\" stroke=\"#000000\" stroke-opacity=\"1\" stroke-width=\"3.2\"/>\n",
       "</svg>\n"
      ]
     },
     "execution_count": 62,
     "metadata": {},
     "output_type": "execute_result"
    }
   ],
   "source": [
    "y = eigenenergies(dense(MB_Hamiltonian))\n",
    "x=1:length(y)\n",
    "gr()\n",
    "plot(x, y, seriestype = :scatter, markersize = 5, legend=false)"
   ]
  }
 ],
 "metadata": {
  "kernelspec": {
   "display_name": "Julia 1.7.2",
   "language": "julia",
   "name": "julia-1.7"
  },
  "language_info": {
   "file_extension": ".jl",
   "mimetype": "application/julia",
   "name": "julia",
   "version": "1.7.2"
  }
 },
 "nbformat": 4,
 "nbformat_minor": 5
}
