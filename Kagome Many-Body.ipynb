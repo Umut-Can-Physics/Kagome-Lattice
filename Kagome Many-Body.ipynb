{
 "cells": [
  {
   "cell_type": "code",
   "execution_count": 1,
   "id": "54cb8557",
   "metadata": {},
   "outputs": [],
   "source": [
    "# Get Kagome Real Space Structure from Python Code\n",
    "using PyCall"
   ]
  },
  {
   "cell_type": "code",
   "execution_count": 2,
   "id": "92ad58eb",
   "metadata": {},
   "outputs": [],
   "source": [
    "py\"\"\"\n",
    "\n",
    "import matplotlib.pyplot as plt\n",
    "import numpy as np\n",
    "\n",
    "sqrt = np.sqrt\n",
    "\n",
    "#Bravais vectors\n",
    "a1_vec = np.array([2,0])\n",
    "a2_vec = np.array([1,sqrt(3)])\n",
    "\n",
    "# number of unit-cell in each axes\n",
    "l1 = 2\n",
    "l2 = 2 \n",
    "L = l1*l2 # number of unit-cells\n",
    "N = 3*L # number of sites\n",
    "\n",
    "#Basis vectors\n",
    "b1=np.array([0,0]) #A atoms\n",
    "b2=a1_vec/2 #B atoms\n",
    "b3=a2_vec/2 #C atoms\n",
    "Basis = [b1,b2,b3]\n",
    "basis_colors=['red','blue','green']\n",
    "\n",
    "coordinates = []\n",
    "sites = []\n",
    "atom_dict={}\n",
    "for i1 in range(l1):\n",
    "    for i2 in range(l2):\n",
    "        Lp = a1_vec * i1 + a2_vec * i2\n",
    "        center = a1_vec * i1 + a2_vec * i2 + b1\n",
    "        shift = (-b2-b3)/sqrt(3)/2\n",
    "        P1=np.array([center+shift,center+a1_vec+shift,center+a2_vec+shift])\n",
    "        for ib, b in enumerate(Basis):\n",
    "            atom_vec = Lp + b\n",
    "            atom_no = 3 * i1 * l2 + 3 * i2 + ib\n",
    "            site = [i1,i2,ib]\n",
    "            sites.append(site)\n",
    "            coordinates.append(atom_vec)\n",
    "            atom_dict[tuple(site)]=atom_vec\n",
    "\n",
    "NN = [[(0,0,1),(0,0,2),(-1,0,1),(0,-1,2)],\n",
    "      [(0,0,-1),(0,0,1),(1,0,-1),(1,-1,1)],\n",
    "      [(0,0,-1),(0,0,-2),(0,1,-2),(-1,1,-1)]]\n",
    "\n",
    "NNN = [[(-1,0,2),(-1,1,1),(0,-1,1),(1,-1,2)],\n",
    "      [(0,-1,1),(1,-1,-1),(0,1,-1),(1,0,1)],\n",
    "      [(-1,1,-2),(-1,0,-1),(0,1,-1),(1,0,-2)]]\n",
    "\n",
    "# t1 = -1;L1 = t2 = L2 = 0\n",
    "# t1 = -1;L1 = 0.28;t2 = -0.3;L2 = 0.2\n",
    "t1 = t2 = -1 ; L1=L2=0\n",
    "hopps_NN = [[t1+1j*L1,t1-1j*L1,t1+1j*L1,t1-1j*L1], \n",
    "         [t1-1j*L1,t1+1j*L1,t1-1j*L1,t1+1j*L1], \n",
    "         [t1-1j*L1,t1+1j*L1,t1+1j*L1,t1-1j*L1]] \n",
    "\n",
    "hopps_NNN = [[t2+1j*L2,t2-1j*L2,t2-1j*L2,t2+1j*L2],\n",
    "         [t2-1j*L2,t2+1j*L2,t2+1j*L2,t2-1j*L2],\n",
    "         [t2-1j*L2,t2+1j*L2,t2+1j*L2,t2-1j*L2]]\n",
    "\n",
    "H_NN = np.zeros([N,N],dtype=complex)\n",
    "H_NNN = np.zeros([N,N],dtype=complex)\n",
    "\n",
    "for atom_no in range(N):\n",
    "    atom_site=sites[atom_no]\n",
    "    for i_delta, delta in enumerate(NN[atom_site[2]]):\n",
    "        neighbor_site = np.array(atom_site)+np.array(delta)\n",
    "        neighbor_site[0] = neighbor_site[0]%l1\n",
    "        neighbor_site[1] = neighbor_site[1]%l2    \n",
    "        neighbor_no=3*neighbor_site[0]*l2+3*neighbor_site[1]+neighbor_site[2]\n",
    "        H_NN[neighbor_no,atom_no]=hopps_NN[atom_site[2]][i_delta]\n",
    "\n",
    "for atom_no in range(N):\n",
    "    atom_site=sites[atom_no]\n",
    "    for i_delta, delta in enumerate(NNN[atom_site[2]]):\n",
    "        neighbor_site = np.array(atom_site)+np.array(delta)\n",
    "        neighbor_site[0] = neighbor_site[0]%l1\n",
    "        neighbor_site[1] = neighbor_site[1]%l2    \n",
    "        neighbor_no=3*neighbor_site[0]*l2+3*neighbor_site[1]+neighbor_site[2]\n",
    "        H_NNN[neighbor_no,atom_no]=hopps_NNN[atom_site[2]][i_delta]\n",
    "\"\"\""
   ]
  },
  {
   "cell_type": "code",
   "execution_count": 3,
   "id": "a698c011",
   "metadata": {},
   "outputs": [
    {
     "data": {
      "text/plain": [
       "12×12 PyArray{ComplexF64, 2}:\n",
       "  0.0+0.0im   0.0+0.0im   0.0+0.0im  …   0.0+0.0im  -1.0+0.0im  -1.0+0.0im\n",
       "  0.0+0.0im   0.0+0.0im   0.0+0.0im     -1.0+0.0im   0.0+0.0im   0.0+0.0im\n",
       "  0.0+0.0im   0.0+0.0im   0.0+0.0im     -1.0+0.0im   0.0+0.0im   0.0+0.0im\n",
       "  0.0+0.0im  -1.0+0.0im   0.0+0.0im      0.0+0.0im   0.0+0.0im  -1.0+0.0im\n",
       " -1.0+0.0im   0.0+0.0im  -1.0+0.0im      0.0+0.0im   0.0+0.0im  -1.0+0.0im\n",
       "  0.0+0.0im  -1.0+0.0im   0.0+0.0im  …  -1.0+0.0im  -1.0+0.0im   0.0+0.0im\n",
       "  0.0+0.0im   0.0+0.0im  -1.0+0.0im      0.0+0.0im  -1.0+0.0im   0.0+0.0im\n",
       "  0.0+0.0im   0.0+0.0im  -1.0+0.0im     -1.0+0.0im   0.0+0.0im  -1.0+0.0im\n",
       " -1.0+0.0im  -1.0+0.0im   0.0+0.0im      0.0+0.0im  -1.0+0.0im   0.0+0.0im\n",
       "  0.0+0.0im  -1.0+0.0im  -1.0+0.0im      0.0+0.0im   0.0+0.0im   0.0+0.0im\n",
       " -1.0+0.0im   0.0+0.0im   0.0+0.0im  …   0.0+0.0im   0.0+0.0im   0.0+0.0im\n",
       " -1.0+0.0im   0.0+0.0im   0.0+0.0im      0.0+0.0im   0.0+0.0im   0.0+0.0im"
      ]
     },
     "execution_count": 3,
     "metadata": {},
     "output_type": "execute_result"
    }
   ],
   "source": [
    "#Real Space Hamiltonian Matrix Getting by Python Code\n",
    "H_NN = PyArray(py\"H_NN\"o)\n",
    "H_NNN = PyArray(py\"H_NNN\"o)"
   ]
  },
  {
   "cell_type": "markdown",
   "id": "aec1ca29",
   "metadata": {},
   "source": [
    "# Many-Body"
   ]
  },
  {
   "cell_type": "code",
   "execution_count": 4,
   "id": "27d0c500",
   "metadata": {},
   "outputs": [],
   "source": [
    "using QuantumOptics\n",
    "using LinearAlgebra\n",
    "using SparseArrays"
   ]
  },
  {
   "cell_type": "code",
   "execution_count": 5,
   "id": "2814afbd",
   "metadata": {},
   "outputs": [
    {
     "name": "stdout",
     "output_type": "stream",
     "text": [
      "The Number of Sites=12\n"
     ]
    }
   ],
   "source": [
    "#Number of Unit-cells Each Directions\n",
    "Nx = Ny = py\"l1\"\n",
    "#Total Number of Sites\n",
    "N = 3*py\"L\"\n",
    "println(\"The Number of Sites=\",N)"
   ]
  },
  {
   "cell_type": "code",
   "execution_count": 6,
   "id": "923111bb",
   "metadata": {},
   "outputs": [
    {
     "data": {
      "text/plain": [
       "NLevel(N=12)"
      ]
     },
     "execution_count": 6,
     "metadata": {},
     "output_type": "execute_result"
    }
   ],
   "source": [
    "#Create N Level Basis for Many-Body States\n",
    "NBasis = NLevelBasis(N)"
   ]
  },
  {
   "cell_type": "markdown",
   "id": "3ed3a6bb",
   "metadata": {},
   "source": [
    "# Hard-Core Interaction"
   ]
  },
  {
   "cell_type": "code",
   "execution_count": 7,
   "id": "a07eadf4",
   "metadata": {},
   "outputs": [
    {
     "data": {
      "text/plain": [
       "78-element Vector{Vector{Int64}}:\n",
       " [2, 0, 0, 0, 0, 0, 0, 0, 0, 0, 0, 0]\n",
       " [1, 1, 0, 0, 0, 0, 0, 0, 0, 0, 0, 0]\n",
       " [1, 0, 1, 0, 0, 0, 0, 0, 0, 0, 0, 0]\n",
       " [1, 0, 0, 1, 0, 0, 0, 0, 0, 0, 0, 0]\n",
       " [1, 0, 0, 0, 1, 0, 0, 0, 0, 0, 0, 0]\n",
       " [1, 0, 0, 0, 0, 1, 0, 0, 0, 0, 0, 0]\n",
       " [1, 0, 0, 0, 0, 0, 1, 0, 0, 0, 0, 0]\n",
       " [1, 0, 0, 0, 0, 0, 0, 1, 0, 0, 0, 0]\n",
       " [1, 0, 0, 0, 0, 0, 0, 0, 1, 0, 0, 0]\n",
       " [1, 0, 0, 0, 0, 0, 0, 0, 0, 1, 0, 0]\n",
       " [1, 0, 0, 0, 0, 0, 0, 0, 0, 0, 1, 0]\n",
       " [1, 0, 0, 0, 0, 0, 0, 0, 0, 0, 0, 1]\n",
       " [0, 2, 0, 0, 0, 0, 0, 0, 0, 0, 0, 0]\n",
       " ⋮\n",
       " [0, 0, 0, 0, 0, 0, 0, 1, 0, 0, 1, 0]\n",
       " [0, 0, 0, 0, 0, 0, 0, 1, 0, 0, 0, 1]\n",
       " [0, 0, 0, 0, 0, 0, 0, 0, 2, 0, 0, 0]\n",
       " [0, 0, 0, 0, 0, 0, 0, 0, 1, 1, 0, 0]\n",
       " [0, 0, 0, 0, 0, 0, 0, 0, 1, 0, 1, 0]\n",
       " [0, 0, 0, 0, 0, 0, 0, 0, 1, 0, 0, 1]\n",
       " [0, 0, 0, 0, 0, 0, 0, 0, 0, 2, 0, 0]\n",
       " [0, 0, 0, 0, 0, 0, 0, 0, 0, 1, 1, 0]\n",
       " [0, 0, 0, 0, 0, 0, 0, 0, 0, 1, 0, 1]\n",
       " [0, 0, 0, 0, 0, 0, 0, 0, 0, 0, 2, 0]\n",
       " [0, 0, 0, 0, 0, 0, 0, 0, 0, 0, 1, 1]\n",
       " [0, 0, 0, 0, 0, 0, 0, 0, 0, 0, 0, 2]"
      ]
     },
     "execution_count": 7,
     "metadata": {},
     "output_type": "execute_result"
    }
   ],
   "source": [
    "#Total Particle Number in Lattice\n",
    "PN=2\n",
    "#All of states in N Fock Space for Hard-Core Interaction\n",
    "HC_NStates = bosonstates(NBasis, [PN]) \n",
    "# Max. Occupation number is equal to 1 (Hard-Core Interaction or Many-Body for Fermionic States)"
   ]
  },
  {
   "cell_type": "code",
   "execution_count": 8,
   "id": "49c25cb9",
   "metadata": {},
   "outputs": [
    {
     "data": {
      "text/plain": [
       "66-element Vector{Vector{Int64}}:\n",
       " [1, 1, 0, 0, 0, 0, 0, 0, 0, 0, 0, 0]\n",
       " [1, 0, 1, 0, 0, 0, 0, 0, 0, 0, 0, 0]\n",
       " [1, 0, 0, 1, 0, 0, 0, 0, 0, 0, 0, 0]\n",
       " [1, 0, 0, 0, 1, 0, 0, 0, 0, 0, 0, 0]\n",
       " [1, 0, 0, 0, 0, 1, 0, 0, 0, 0, 0, 0]\n",
       " [1, 0, 0, 0, 0, 0, 1, 0, 0, 0, 0, 0]\n",
       " [1, 0, 0, 0, 0, 0, 0, 1, 0, 0, 0, 0]\n",
       " [1, 0, 0, 0, 0, 0, 0, 0, 1, 0, 0, 0]\n",
       " [1, 0, 0, 0, 0, 0, 0, 0, 0, 1, 0, 0]\n",
       " [1, 0, 0, 0, 0, 0, 0, 0, 0, 0, 1, 0]\n",
       " [1, 0, 0, 0, 0, 0, 0, 0, 0, 0, 0, 1]\n",
       " [0, 1, 1, 0, 0, 0, 0, 0, 0, 0, 0, 0]\n",
       " [0, 1, 0, 1, 0, 0, 0, 0, 0, 0, 0, 0]\n",
       " ⋮\n",
       " [0, 0, 0, 0, 0, 0, 1, 0, 0, 0, 1, 0]\n",
       " [0, 0, 0, 0, 0, 0, 1, 0, 0, 0, 0, 1]\n",
       " [0, 0, 0, 0, 0, 0, 0, 1, 1, 0, 0, 0]\n",
       " [0, 0, 0, 0, 0, 0, 0, 1, 0, 1, 0, 0]\n",
       " [0, 0, 0, 0, 0, 0, 0, 1, 0, 0, 1, 0]\n",
       " [0, 0, 0, 0, 0, 0, 0, 1, 0, 0, 0, 1]\n",
       " [0, 0, 0, 0, 0, 0, 0, 0, 1, 1, 0, 0]\n",
       " [0, 0, 0, 0, 0, 0, 0, 0, 1, 0, 1, 0]\n",
       " [0, 0, 0, 0, 0, 0, 0, 0, 1, 0, 0, 1]\n",
       " [0, 0, 0, 0, 0, 0, 0, 0, 0, 1, 1, 0]\n",
       " [0, 0, 0, 0, 0, 0, 0, 0, 0, 1, 0, 1]\n",
       " [0, 0, 0, 0, 0, 0, 0, 0, 0, 0, 1, 1]"
      ]
     },
     "execution_count": 8,
     "metadata": {},
     "output_type": "execute_result"
    }
   ],
   "source": [
    "A = bosonstates(NBasis, [PN]) \n",
    "B = fermionstates(NBasis, [PN])\n",
    "# Fermion durumlarında -1 çarpanı geliyor, bunun için Hard-Core etkileşimini boson durumlarda 2 satırlarını çıkartarak yaptım\n",
    "C = setdiff(A,B)\n",
    "HC_NStates = setdiff(A,C)"
   ]
  },
  {
   "cell_type": "code",
   "execution_count": 9,
   "id": "0876d163",
   "metadata": {},
   "outputs": [
    {
     "data": {
      "text/plain": [
       "ManyBody(onebodybasis=NLevel(N=12), states:66)"
      ]
     },
     "execution_count": 9,
     "metadata": {},
     "output_type": "execute_result"
    }
   ],
   "source": [
    "#Create Hard-Core Many-Body Basis in Fock Space\n",
    "HC_NBasis_MB = ManyBodyBasis(NBasis, HC_NStates)"
   ]
  },
  {
   "cell_type": "markdown",
   "id": "8e7a388b",
   "metadata": {},
   "source": [
    "$$\\newcommand{\\ket}[1]{\\left|{#1}\\right\\rangle}$$\n",
    "$$\\newcommand{\\bra}[1]{\\left\\langle{#1}\\right|}$$\n",
    "$$\\newcommand{\\braket}[2]{\\left\\langle{#1}\\middle|{#2}\\right\\rangle}$$\n",
    "Generalized Fermionic Fock States:\n",
    "\\begin{align}\n",
    "c_\\alpha^{\\dagger}\\ket{...,n_\\beta,n_\\alpha,n_\\gamma,...} =(-1)^{\\sum_{\\beta<\\alpha}n_{\\beta}}\\left(\\sqrt{n_\\alpha+1} \\right) \\ket{...,n_\\beta,n_\\alpha+1,n_\\gamma,...} \n",
    "\\\\\n",
    "c_\\alpha\\ket{...,n_\\beta,n_\\alpha,n_\\gamma,...} =(-1)^{\\sum_{\\beta<\\alpha}n_{\\beta}}\\sqrt{n_\\alpha} \\ket{...,n_\\beta,n_\\alpha-1,n_\\gamma,...} \n",
    "\\end{align}"
   ]
  },
  {
   "cell_type": "code",
   "execution_count": 10,
   "id": "402cff98",
   "metadata": {},
   "outputs": [
    {
     "data": {
      "text/plain": [
       "66-element Vector{Float64}:\n",
       " -14.58300524425836\n",
       "  -6.472135954999586\n",
       "  -6.472135954999584\n",
       "  -6.472135954999581\n",
       "  -6.4721359549995805\n",
       "  -6.4721359549995805\n",
       "  -6.4721359549995805\n",
       "  -6.472135954999578\n",
       "  -6.472135954999578\n",
       "  -6.472135954999574\n",
       "  -3.2915026221291823\n",
       "  -3.2915026221291805\n",
       "  -5.19778728403013e-15\n",
       "   ⋮\n",
       "   3.999999999999993\n",
       "   3.9999999999999942\n",
       "   3.9999999999999987\n",
       "   3.9999999999999987\n",
       "   3.9999999999999987\n",
       "   4.0\n",
       "   4.000000000000001\n",
       "   4.000000000000002\n",
       "   4.000000000000002\n",
       "   6.58300524425836\n",
       "   7.291502622129175\n",
       "   7.291502622129185"
      ]
     },
     "execution_count": 10,
     "metadata": {},
     "output_type": "execute_result"
    }
   ],
   "source": [
    "HC_Hamiltonian_MB = SparseOperator(HC_NBasis_MB)\n",
    "for m in 1:N\n",
    "    for n in 1:N\n",
    "        # Phase Factors= H_NN[m,n] and H_NNN[m,n]\n",
    "        # Hopping Terms= transition(HC_NBasis_MB, m, n)\n",
    "        HC_Hamiltonian_MB = HC_Hamiltonian_MB + H_NN[m,n] * transition(HC_NBasis_MB, m, n) + H_NNN[m,n] * transition(HC_NBasis_MB, m, n)\n",
    "    end\n",
    "end\n",
    "#Energies of Hard-Core Interaction\n",
    "eigenenergies(dense(HC_Hamiltonian_MB))    \n",
    "#Note That: Single Particle (PN=1) Eigenvalues of Julia Code is the same in Momentum Space for All Hopping Parameter."
   ]
  },
  {
   "cell_type": "code",
   "execution_count": 11,
   "id": "1d9e35f2",
   "metadata": {},
   "outputs": [
    {
     "name": "stdout",
     "output_type": "stream",
     "text": [
      "Total Number of Particle=2 ,Total Number of Unit-Cell=4 =>Filling Fraction=0.5\n"
     ]
    }
   ],
   "source": [
    "println(\"Total Number of Particle=\",PN,\" ,Total Number of Unit-Cell=\",Nx*Ny,\" =>\",\"Filling Fraction=\",PN/(Nx*Ny))"
   ]
  },
  {
   "cell_type": "markdown",
   "id": "2fdd728d",
   "metadata": {},
   "source": [
    "Filling Fraction on Kagome Model for Topological Dejeneracy:\n",
    "\\begin{align}\n",
    "\\frac{1}{2} = \\frac{N}{N_{cell}} = \\frac{N}{N1N2} = \\frac{4}{2*2}\n",
    "\\end{align}"
   ]
  },
  {
   "cell_type": "code",
   "execution_count": 12,
   "id": "1be457b7",
   "metadata": {},
   "outputs": [],
   "source": [
    "using Plots"
   ]
  },
  {
   "cell_type": "code",
   "execution_count": 13,
   "id": "1c07bb15",
   "metadata": {},
   "outputs": [
    {
     "data": {
      "image/svg+xml": "<?xml version=\"1.0\" encoding=\"utf-8\"?>\n<svg xmlns=\"http://www.w3.org/2000/svg\" xmlns:xlink=\"http://www.w3.org/1999/xlink\" width=\"600\" height=\"400\" viewBox=\"0 0 2400 1600\">\n<defs>\n  <clipPath id=\"clip050\">\n    <rect x=\"0\" y=\"0\" width=\"2400\" height=\"1600\"/>\n  </clipPath>\n</defs>\n<path clip-path=\"url(#clip050)\" d=\"\nM0 1600 L2400 1600 L2400 0 L0 0  Z\n  \" fill=\"#ffffff\" fill-rule=\"evenodd\" fill-opacity=\"1\"/>\n<defs>\n  <clipPath id=\"clip051\">\n    <rect x=\"480\" y=\"0\" width=\"1681\" height=\"1600\"/>\n  </clipPath>\n</defs>\n<path clip-path=\"url(#clip050)\" d=\"\nM178.867 1486.45 L2352.76 1486.45 L2352.76 47.2441 L178.867 47.2441  Z\n  \" fill=\"#ffffff\" fill-rule=\"evenodd\" fill-opacity=\"1\"/>\n<defs>\n  <clipPath id=\"clip052\">\n    <rect x=\"178\" y=\"47\" width=\"2175\" height=\"1440\"/>\n  </clipPath>\n</defs>\n<polyline clip-path=\"url(#clip052)\" style=\"stroke:#000000; stroke-linecap:butt; stroke-linejoin:round; stroke-width:2; stroke-opacity:0.1; fill:none\" points=\"\n  672.147,1486.45 672.147,47.2441 \n  \"/>\n<polyline clip-path=\"url(#clip052)\" style=\"stroke:#000000; stroke-linecap:butt; stroke-linejoin:round; stroke-width:2; stroke-opacity:0.1; fill:none\" points=\"\n  1211.84,1486.45 1211.84,47.2441 \n  \"/>\n<polyline clip-path=\"url(#clip052)\" style=\"stroke:#000000; stroke-linecap:butt; stroke-linejoin:round; stroke-width:2; stroke-opacity:0.1; fill:none\" points=\"\n  1751.54,1486.45 1751.54,47.2441 \n  \"/>\n<polyline clip-path=\"url(#clip052)\" style=\"stroke:#000000; stroke-linecap:butt; stroke-linejoin:round; stroke-width:2; stroke-opacity:0.1; fill:none\" points=\"\n  2291.23,1486.45 2291.23,47.2441 \n  \"/>\n<polyline clip-path=\"url(#clip050)\" style=\"stroke:#000000; stroke-linecap:butt; stroke-linejoin:round; stroke-width:4; stroke-opacity:1; fill:none\" points=\"\n  178.867,1486.45 2352.76,1486.45 \n  \"/>\n<polyline clip-path=\"url(#clip050)\" style=\"stroke:#000000; stroke-linecap:butt; stroke-linejoin:round; stroke-width:4; stroke-opacity:1; fill:none\" points=\"\n  672.147,1486.45 672.147,1467.55 \n  \"/>\n<polyline clip-path=\"url(#clip050)\" style=\"stroke:#000000; stroke-linecap:butt; stroke-linejoin:round; stroke-width:4; stroke-opacity:1; fill:none\" points=\"\n  1211.84,1486.45 1211.84,1467.55 \n  \"/>\n<polyline clip-path=\"url(#clip050)\" style=\"stroke:#000000; stroke-linecap:butt; stroke-linejoin:round; stroke-width:4; stroke-opacity:1; fill:none\" points=\"\n  1751.54,1486.45 1751.54,1467.55 \n  \"/>\n<polyline clip-path=\"url(#clip050)\" style=\"stroke:#000000; stroke-linecap:butt; stroke-linejoin:round; stroke-width:4; stroke-opacity:1; fill:none\" points=\"\n  2291.23,1486.45 2291.23,1467.55 \n  \"/>\n<path clip-path=\"url(#clip050)\" d=\"M662.425 1514.29 L680.782 1514.29 L680.782 1518.22 L666.708 1518.22 L666.708 1526.7 Q667.726 1526.35 668.745 1526.19 Q669.763 1526 670.782 1526 Q676.569 1526 679.948 1529.17 Q683.328 1532.34 683.328 1537.76 Q683.328 1543.34 679.856 1546.44 Q676.383 1549.52 670.064 1549.52 Q667.888 1549.52 665.62 1549.15 Q663.374 1548.78 660.967 1548.04 L660.967 1543.34 Q663.05 1544.47 665.272 1545.03 Q667.495 1545.58 669.971 1545.58 Q673.976 1545.58 676.314 1543.48 Q678.652 1541.37 678.652 1537.76 Q678.652 1534.15 676.314 1532.04 Q673.976 1529.94 669.971 1529.94 Q668.096 1529.94 666.221 1530.35 Q664.37 1530.77 662.425 1531.65 L662.425 1514.29 Z\" fill=\"#000000\" fill-rule=\"evenodd\" fill-opacity=\"1\" /><path clip-path=\"url(#clip050)\" d=\"M1186.53 1544.91 L1194.17 1544.91 L1194.17 1518.55 L1185.86 1520.21 L1185.86 1515.95 L1194.12 1514.29 L1198.8 1514.29 L1198.8 1544.91 L1206.44 1544.91 L1206.44 1548.85 L1186.53 1548.85 L1186.53 1544.91 Z\" fill=\"#000000\" fill-rule=\"evenodd\" fill-opacity=\"1\" /><path clip-path=\"url(#clip050)\" d=\"M1225.88 1517.37 Q1222.27 1517.37 1220.44 1520.93 Q1218.64 1524.47 1218.64 1531.6 Q1218.64 1538.71 1220.44 1542.27 Q1222.27 1545.82 1225.88 1545.82 Q1229.52 1545.82 1231.32 1542.27 Q1233.15 1538.71 1233.15 1531.6 Q1233.15 1524.47 1231.32 1520.93 Q1229.52 1517.37 1225.88 1517.37 M1225.88 1513.66 Q1231.69 1513.66 1234.75 1518.27 Q1237.83 1522.85 1237.83 1531.6 Q1237.83 1540.33 1234.75 1544.94 Q1231.69 1549.52 1225.88 1549.52 Q1220.07 1549.52 1216.99 1544.94 Q1213.94 1540.33 1213.94 1531.6 Q1213.94 1522.85 1216.99 1518.27 Q1220.07 1513.66 1225.88 1513.66 Z\" fill=\"#000000\" fill-rule=\"evenodd\" fill-opacity=\"1\" /><path clip-path=\"url(#clip050)\" d=\"M1726.72 1544.91 L1734.36 1544.91 L1734.36 1518.55 L1726.05 1520.21 L1726.05 1515.95 L1734.31 1514.29 L1738.99 1514.29 L1738.99 1544.91 L1746.63 1544.91 L1746.63 1548.85 L1726.72 1548.85 L1726.72 1544.91 Z\" fill=\"#000000\" fill-rule=\"evenodd\" fill-opacity=\"1\" /><path clip-path=\"url(#clip050)\" d=\"M1756.12 1514.29 L1774.48 1514.29 L1774.48 1518.22 L1760.4 1518.22 L1760.4 1526.7 Q1761.42 1526.35 1762.44 1526.19 Q1763.46 1526 1764.48 1526 Q1770.26 1526 1773.64 1529.17 Q1777.02 1532.34 1777.02 1537.76 Q1777.02 1543.34 1773.55 1546.44 Q1770.08 1549.52 1763.76 1549.52 Q1761.58 1549.52 1759.31 1549.15 Q1757.07 1548.78 1754.66 1548.04 L1754.66 1543.34 Q1756.74 1544.47 1758.97 1545.03 Q1761.19 1545.58 1763.67 1545.58 Q1767.67 1545.58 1770.01 1543.48 Q1772.35 1541.37 1772.35 1537.76 Q1772.35 1534.15 1770.01 1532.04 Q1767.67 1529.94 1763.67 1529.94 Q1761.79 1529.94 1759.92 1530.35 Q1758.06 1530.77 1756.12 1531.65 L1756.12 1514.29 Z\" fill=\"#000000\" fill-rule=\"evenodd\" fill-opacity=\"1\" /><path clip-path=\"url(#clip050)\" d=\"M2270 1544.91 L2286.32 1544.91 L2286.32 1548.85 L2264.38 1548.85 L2264.38 1544.91 Q2267.04 1542.16 2271.62 1537.53 Q2276.23 1532.88 2277.41 1531.53 Q2279.66 1529.01 2280.54 1527.27 Q2281.44 1525.51 2281.44 1523.82 Q2281.44 1521.07 2279.49 1519.33 Q2277.57 1517.6 2274.47 1517.6 Q2272.27 1517.6 2269.82 1518.36 Q2267.39 1519.13 2264.61 1520.68 L2264.61 1515.95 Q2267.43 1514.82 2269.89 1514.24 Q2272.34 1513.66 2274.38 1513.66 Q2279.75 1513.66 2282.94 1516.35 Q2286.14 1519.03 2286.14 1523.52 Q2286.14 1525.65 2285.33 1527.57 Q2284.54 1529.47 2282.43 1532.07 Q2281.86 1532.74 2278.75 1535.95 Q2275.65 1539.15 2270 1544.91 Z\" fill=\"#000000\" fill-rule=\"evenodd\" fill-opacity=\"1\" /><path clip-path=\"url(#clip050)\" d=\"M2306.14 1517.37 Q2302.53 1517.37 2300.7 1520.93 Q2298.89 1524.47 2298.89 1531.6 Q2298.89 1538.71 2300.7 1542.27 Q2302.53 1545.82 2306.14 1545.82 Q2309.77 1545.82 2311.58 1542.27 Q2313.41 1538.71 2313.41 1531.6 Q2313.41 1524.47 2311.58 1520.93 Q2309.77 1517.37 2306.14 1517.37 M2306.14 1513.66 Q2311.95 1513.66 2315 1518.27 Q2318.08 1522.85 2318.08 1531.6 Q2318.08 1540.33 2315 1544.94 Q2311.95 1549.52 2306.14 1549.52 Q2300.33 1549.52 2297.25 1544.94 Q2294.19 1540.33 2294.19 1531.6 Q2294.19 1522.85 2297.25 1518.27 Q2300.33 1513.66 2306.14 1513.66 Z\" fill=\"#000000\" fill-rule=\"evenodd\" fill-opacity=\"1\" /><polyline clip-path=\"url(#clip052)\" style=\"stroke:#000000; stroke-linecap:butt; stroke-linejoin:round; stroke-width:2; stroke-opacity:0.1; fill:none\" points=\"\n  178.867,1484.54 2352.76,1484.54 \n  \"/>\n<polyline clip-path=\"url(#clip052)\" style=\"stroke:#000000; stroke-linecap:butt; stroke-linejoin:round; stroke-width:2; stroke-opacity:0.1; fill:none\" points=\"\n  178.867,1019.02 2352.76,1019.02 \n  \"/>\n<polyline clip-path=\"url(#clip052)\" style=\"stroke:#000000; stroke-linecap:butt; stroke-linejoin:round; stroke-width:2; stroke-opacity:0.1; fill:none\" points=\"\n  178.867,553.497 2352.76,553.497 \n  \"/>\n<polyline clip-path=\"url(#clip052)\" style=\"stroke:#000000; stroke-linecap:butt; stroke-linejoin:round; stroke-width:2; stroke-opacity:0.1; fill:none\" points=\"\n  178.867,87.9763 2352.76,87.9763 \n  \"/>\n<polyline clip-path=\"url(#clip050)\" style=\"stroke:#000000; stroke-linecap:butt; stroke-linejoin:round; stroke-width:4; stroke-opacity:1; fill:none\" points=\"\n  178.867,1486.45 178.867,47.2441 \n  \"/>\n<polyline clip-path=\"url(#clip050)\" style=\"stroke:#000000; stroke-linecap:butt; stroke-linejoin:round; stroke-width:4; stroke-opacity:1; fill:none\" points=\"\n  178.867,1484.54 197.764,1484.54 \n  \"/>\n<polyline clip-path=\"url(#clip050)\" style=\"stroke:#000000; stroke-linecap:butt; stroke-linejoin:round; stroke-width:4; stroke-opacity:1; fill:none\" points=\"\n  178.867,1019.02 197.764,1019.02 \n  \"/>\n<polyline clip-path=\"url(#clip050)\" style=\"stroke:#000000; stroke-linecap:butt; stroke-linejoin:round; stroke-width:4; stroke-opacity:1; fill:none\" points=\"\n  178.867,553.497 197.764,553.497 \n  \"/>\n<polyline clip-path=\"url(#clip050)\" style=\"stroke:#000000; stroke-linecap:butt; stroke-linejoin:round; stroke-width:4; stroke-opacity:1; fill:none\" points=\"\n  178.867,87.9763 197.764,87.9763 \n  \"/>\n<path clip-path=\"url(#clip050)\" d=\"M51.9875 1484.99 L81.6633 1484.99 L81.6633 1488.93 L51.9875 1488.93 L51.9875 1484.99 Z\" fill=\"#000000\" fill-rule=\"evenodd\" fill-opacity=\"1\" /><path clip-path=\"url(#clip050)\" d=\"M92.566 1497.88 L100.205 1497.88 L100.205 1471.52 L91.8947 1473.19 L91.8947 1468.93 L100.159 1467.26 L104.834 1467.26 L104.834 1497.88 L112.473 1497.88 L112.473 1501.82 L92.566 1501.82 L92.566 1497.88 Z\" fill=\"#000000\" fill-rule=\"evenodd\" fill-opacity=\"1\" /><path clip-path=\"url(#clip050)\" d=\"M121.964 1467.26 L140.32 1467.26 L140.32 1471.19 L126.246 1471.19 L126.246 1479.67 Q127.265 1479.32 128.283 1479.16 Q129.302 1478.97 130.32 1478.97 Q136.107 1478.97 139.487 1482.14 Q142.867 1485.32 142.867 1490.73 Q142.867 1496.31 139.394 1499.41 Q135.922 1502.49 129.603 1502.49 Q127.427 1502.49 125.158 1502.12 Q122.913 1501.75 120.506 1501.01 L120.506 1496.31 Q122.589 1497.44 124.811 1498 Q127.033 1498.56 129.51 1498.56 Q133.515 1498.56 135.853 1496.45 Q138.191 1494.34 138.191 1490.73 Q138.191 1487.12 135.853 1485.01 Q133.515 1482.91 129.51 1482.91 Q127.635 1482.91 125.76 1483.32 Q123.908 1483.74 121.964 1484.62 L121.964 1467.26 Z\" fill=\"#000000\" fill-rule=\"evenodd\" fill-opacity=\"1\" /><path clip-path=\"url(#clip050)\" d=\"M50.9921 1019.47 L80.6679 1019.47 L80.6679 1023.41 L50.9921 1023.41 L50.9921 1019.47 Z\" fill=\"#000000\" fill-rule=\"evenodd\" fill-opacity=\"1\" /><path clip-path=\"url(#clip050)\" d=\"M91.5706 1032.36 L99.2095 1032.36 L99.2095 1006 L90.8993 1007.66 L90.8993 1003.41 L99.1632 1001.74 L103.839 1001.74 L103.839 1032.36 L111.478 1032.36 L111.478 1036.3 L91.5706 1036.3 L91.5706 1032.36 Z\" fill=\"#000000\" fill-rule=\"evenodd\" fill-opacity=\"1\" /><path clip-path=\"url(#clip050)\" d=\"M130.922 1004.82 Q127.311 1004.82 125.482 1008.38 Q123.677 1011.92 123.677 1019.05 Q123.677 1026.16 125.482 1029.72 Q127.311 1033.27 130.922 1033.27 Q134.556 1033.27 136.362 1029.72 Q138.191 1026.16 138.191 1019.05 Q138.191 1011.92 136.362 1008.38 Q134.556 1004.82 130.922 1004.82 M130.922 1001.11 Q136.732 1001.11 139.788 1005.72 Q142.867 1010.3 142.867 1019.05 Q142.867 1027.78 139.788 1032.39 Q136.732 1036.97 130.922 1036.97 Q125.112 1036.97 122.033 1032.39 Q118.978 1027.78 118.978 1019.05 Q118.978 1010.3 122.033 1005.72 Q125.112 1001.11 130.922 1001.11 Z\" fill=\"#000000\" fill-rule=\"evenodd\" fill-opacity=\"1\" /><path clip-path=\"url(#clip050)\" d=\"M82.1494 553.949 L111.825 553.949 L111.825 557.884 L82.1494 557.884 L82.1494 553.949 Z\" fill=\"#000000\" fill-rule=\"evenodd\" fill-opacity=\"1\" /><path clip-path=\"url(#clip050)\" d=\"M121.964 536.217 L140.32 536.217 L140.32 540.153 L126.246 540.153 L126.246 548.625 Q127.265 548.278 128.283 548.115 Q129.302 547.93 130.32 547.93 Q136.107 547.93 139.487 551.102 Q142.867 554.273 142.867 559.69 Q142.867 565.268 139.394 568.37 Q135.922 571.449 129.603 571.449 Q127.427 571.449 125.158 571.078 Q122.913 570.708 120.506 569.967 L120.506 565.268 Q122.589 566.402 124.811 566.958 Q127.033 567.514 129.51 567.514 Q133.515 567.514 135.853 565.407 Q138.191 563.301 138.191 559.69 Q138.191 556.078 135.853 553.972 Q133.515 551.865 129.51 551.865 Q127.635 551.865 125.76 552.282 Q123.908 552.699 121.964 553.578 L121.964 536.217 Z\" fill=\"#000000\" fill-rule=\"evenodd\" fill-opacity=\"1\" /><path clip-path=\"url(#clip050)\" d=\"M130.922 73.775 Q127.311 73.775 125.482 77.3398 Q123.677 80.8814 123.677 88.011 Q123.677 95.1174 125.482 98.6822 Q127.311 102.224 130.922 102.224 Q134.556 102.224 136.362 98.6822 Q138.191 95.1174 138.191 88.011 Q138.191 80.8814 136.362 77.3398 Q134.556 73.775 130.922 73.775 M130.922 70.0713 Q136.732 70.0713 139.788 74.6777 Q142.867 79.261 142.867 88.011 Q142.867 96.7378 139.788 101.344 Q136.732 105.928 130.922 105.928 Q125.112 105.928 122.033 101.344 Q118.978 96.7378 118.978 88.011 Q118.978 79.261 122.033 74.6777 Q125.112 70.0713 130.922 70.0713 Z\" fill=\"#000000\" fill-rule=\"evenodd\" fill-opacity=\"1\" /><circle clip-path=\"url(#clip052)\" cx=\"240.392\" cy=\"1445.72\" r=\"18\" fill=\"#009af9\" fill-rule=\"evenodd\" fill-opacity=\"1\" stroke=\"#000000\" stroke-opacity=\"1\" stroke-width=\"3.2\"/>\n<circle clip-path=\"url(#clip052)\" cx=\"348.331\" cy=\"690.559\" r=\"18\" fill=\"#009af9\" fill-rule=\"evenodd\" fill-opacity=\"1\" stroke=\"#000000\" stroke-opacity=\"1\" stroke-width=\"3.2\"/>\n<circle clip-path=\"url(#clip052)\" cx=\"456.27\" cy=\"690.559\" r=\"18\" fill=\"#009af9\" fill-rule=\"evenodd\" fill-opacity=\"1\" stroke=\"#000000\" stroke-opacity=\"1\" stroke-width=\"3.2\"/>\n<circle clip-path=\"url(#clip052)\" cx=\"564.208\" cy=\"690.559\" r=\"18\" fill=\"#009af9\" fill-rule=\"evenodd\" fill-opacity=\"1\" stroke=\"#000000\" stroke-opacity=\"1\" stroke-width=\"3.2\"/>\n<circle clip-path=\"url(#clip052)\" cx=\"672.147\" cy=\"690.559\" r=\"18\" fill=\"#009af9\" fill-rule=\"evenodd\" fill-opacity=\"1\" stroke=\"#000000\" stroke-opacity=\"1\" stroke-width=\"3.2\"/>\n<circle clip-path=\"url(#clip052)\" cx=\"780.086\" cy=\"690.559\" r=\"18\" fill=\"#009af9\" fill-rule=\"evenodd\" fill-opacity=\"1\" stroke=\"#000000\" stroke-opacity=\"1\" stroke-width=\"3.2\"/>\n<circle clip-path=\"url(#clip052)\" cx=\"888.025\" cy=\"690.559\" r=\"18\" fill=\"#009af9\" fill-rule=\"evenodd\" fill-opacity=\"1\" stroke=\"#000000\" stroke-opacity=\"1\" stroke-width=\"3.2\"/>\n<circle clip-path=\"url(#clip052)\" cx=\"995.964\" cy=\"690.559\" r=\"18\" fill=\"#009af9\" fill-rule=\"evenodd\" fill-opacity=\"1\" stroke=\"#000000\" stroke-opacity=\"1\" stroke-width=\"3.2\"/>\n<circle clip-path=\"url(#clip052)\" cx=\"1103.9\" cy=\"690.559\" r=\"18\" fill=\"#009af9\" fill-rule=\"evenodd\" fill-opacity=\"1\" stroke=\"#000000\" stroke-opacity=\"1\" stroke-width=\"3.2\"/>\n<circle clip-path=\"url(#clip052)\" cx=\"1211.84\" cy=\"690.559\" r=\"18\" fill=\"#009af9\" fill-rule=\"evenodd\" fill-opacity=\"1\" stroke=\"#000000\" stroke-opacity=\"1\" stroke-width=\"3.2\"/>\n<circle clip-path=\"url(#clip052)\" cx=\"1319.78\" cy=\"394.429\" r=\"18\" fill=\"#009af9\" fill-rule=\"evenodd\" fill-opacity=\"1\" stroke=\"#000000\" stroke-opacity=\"1\" stroke-width=\"3.2\"/>\n<circle clip-path=\"url(#clip052)\" cx=\"1427.72\" cy=\"394.429\" r=\"18\" fill=\"#009af9\" fill-rule=\"evenodd\" fill-opacity=\"1\" stroke=\"#000000\" stroke-opacity=\"1\" stroke-width=\"3.2\"/>\n<circle clip-path=\"url(#clip052)\" cx=\"1535.66\" cy=\"87.9763\" r=\"18\" fill=\"#009af9\" fill-rule=\"evenodd\" fill-opacity=\"1\" stroke=\"#000000\" stroke-opacity=\"1\" stroke-width=\"3.2\"/>\n<circle clip-path=\"url(#clip052)\" cx=\"1643.6\" cy=\"87.9763\" r=\"18\" fill=\"#009af9\" fill-rule=\"evenodd\" fill-opacity=\"1\" stroke=\"#000000\" stroke-opacity=\"1\" stroke-width=\"3.2\"/>\n<circle clip-path=\"url(#clip052)\" cx=\"1751.54\" cy=\"87.9763\" r=\"18\" fill=\"#009af9\" fill-rule=\"evenodd\" fill-opacity=\"1\" stroke=\"#000000\" stroke-opacity=\"1\" stroke-width=\"3.2\"/>\n<circle clip-path=\"url(#clip052)\" cx=\"1859.48\" cy=\"87.9763\" r=\"18\" fill=\"#009af9\" fill-rule=\"evenodd\" fill-opacity=\"1\" stroke=\"#000000\" stroke-opacity=\"1\" stroke-width=\"3.2\"/>\n<circle clip-path=\"url(#clip052)\" cx=\"1967.41\" cy=\"87.9763\" r=\"18\" fill=\"#009af9\" fill-rule=\"evenodd\" fill-opacity=\"1\" stroke=\"#000000\" stroke-opacity=\"1\" stroke-width=\"3.2\"/>\n<circle clip-path=\"url(#clip052)\" cx=\"2075.35\" cy=\"87.9763\" r=\"18\" fill=\"#009af9\" fill-rule=\"evenodd\" fill-opacity=\"1\" stroke=\"#000000\" stroke-opacity=\"1\" stroke-width=\"3.2\"/>\n<circle clip-path=\"url(#clip052)\" cx=\"2183.29\" cy=\"87.9763\" r=\"18\" fill=\"#009af9\" fill-rule=\"evenodd\" fill-opacity=\"1\" stroke=\"#000000\" stroke-opacity=\"1\" stroke-width=\"3.2\"/>\n<circle clip-path=\"url(#clip052)\" cx=\"2291.23\" cy=\"87.9763\" r=\"18\" fill=\"#009af9\" fill-rule=\"evenodd\" fill-opacity=\"1\" stroke=\"#000000\" stroke-opacity=\"1\" stroke-width=\"3.2\"/>\n</svg>\n"
     },
     "execution_count": 13,
     "metadata": {},
     "output_type": "execute_result"
    }
   ],
   "source": [
    "y = eigenenergies(dense(HC_Hamiltonian_MB))[1:20]\n",
    "x=1:length(y)\n",
    "gr()\n",
    "plot(x, y, seriestype = :scatter, markersize = 5, legend=false)"
   ]
  },
  {
   "cell_type": "markdown",
   "id": "88af941d",
   "metadata": {},
   "source": [
    "# Bose-Hubbard Model"
   ]
  },
  {
   "cell_type": "markdown",
   "id": "2158a4cb",
   "metadata": {},
   "source": [
    "\\begin{equation}\n",
    "H = -t \\sum_{<ij>} \\left( b_i^\\dagger b_j + h.c. \\right) + U/2 \\sum_i n_i \\left( n_i -1\\right)\n",
    "\\end{equation}"
   ]
  },
  {
   "cell_type": "code",
   "execution_count": 14,
   "id": "6ba83da1",
   "metadata": {},
   "outputs": [
    {
     "data": {
      "text/plain": [
       "NLevel(N=12)"
      ]
     },
     "execution_count": 14,
     "metadata": {},
     "output_type": "execute_result"
    }
   ],
   "source": [
    "NBasis"
   ]
  },
  {
   "cell_type": "code",
   "execution_count": 15,
   "id": "33d823c9",
   "metadata": {},
   "outputs": [
    {
     "data": {
      "text/plain": [
       "78-element Vector{Vector{Int64}}:\n",
       " [2, 0, 0, 0, 0, 0, 0, 0, 0, 0, 0, 0]\n",
       " [1, 1, 0, 0, 0, 0, 0, 0, 0, 0, 0, 0]\n",
       " [1, 0, 1, 0, 0, 0, 0, 0, 0, 0, 0, 0]\n",
       " [1, 0, 0, 1, 0, 0, 0, 0, 0, 0, 0, 0]\n",
       " [1, 0, 0, 0, 1, 0, 0, 0, 0, 0, 0, 0]\n",
       " [1, 0, 0, 0, 0, 1, 0, 0, 0, 0, 0, 0]\n",
       " [1, 0, 0, 0, 0, 0, 1, 0, 0, 0, 0, 0]\n",
       " [1, 0, 0, 0, 0, 0, 0, 1, 0, 0, 0, 0]\n",
       " [1, 0, 0, 0, 0, 0, 0, 0, 1, 0, 0, 0]\n",
       " [1, 0, 0, 0, 0, 0, 0, 0, 0, 1, 0, 0]\n",
       " [1, 0, 0, 0, 0, 0, 0, 0, 0, 0, 1, 0]\n",
       " [1, 0, 0, 0, 0, 0, 0, 0, 0, 0, 0, 1]\n",
       " [0, 2, 0, 0, 0, 0, 0, 0, 0, 0, 0, 0]\n",
       " ⋮\n",
       " [0, 0, 0, 0, 0, 0, 0, 1, 0, 0, 1, 0]\n",
       " [0, 0, 0, 0, 0, 0, 0, 1, 0, 0, 0, 1]\n",
       " [0, 0, 0, 0, 0, 0, 0, 0, 2, 0, 0, 0]\n",
       " [0, 0, 0, 0, 0, 0, 0, 0, 1, 1, 0, 0]\n",
       " [0, 0, 0, 0, 0, 0, 0, 0, 1, 0, 1, 0]\n",
       " [0, 0, 0, 0, 0, 0, 0, 0, 1, 0, 0, 1]\n",
       " [0, 0, 0, 0, 0, 0, 0, 0, 0, 2, 0, 0]\n",
       " [0, 0, 0, 0, 0, 0, 0, 0, 0, 1, 1, 0]\n",
       " [0, 0, 0, 0, 0, 0, 0, 0, 0, 1, 0, 1]\n",
       " [0, 0, 0, 0, 0, 0, 0, 0, 0, 0, 2, 0]\n",
       " [0, 0, 0, 0, 0, 0, 0, 0, 0, 0, 1, 1]\n",
       " [0, 0, 0, 0, 0, 0, 0, 0, 0, 0, 0, 2]"
      ]
     },
     "execution_count": 15,
     "metadata": {},
     "output_type": "execute_result"
    }
   ],
   "source": [
    "#All of states in N Fock Space\n",
    "PN=2\n",
    "NStates = bosonstates(NBasis, [PN]) \n",
    "#Define Maximum Occupation Number (Total Particle Number) for Many-Body Basis"
   ]
  },
  {
   "cell_type": "code",
   "execution_count": 16,
   "id": "c08747ef",
   "metadata": {},
   "outputs": [
    {
     "name": "stdout",
     "output_type": "stream",
     "text": [
      "The Number of Sites=12, The Number of Particles=2\n"
     ]
    }
   ],
   "source": [
    "println(\"The Number of Sites=\",N,\", The Number of Particles=\", PN)"
   ]
  },
  {
   "cell_type": "code",
   "execution_count": 17,
   "id": "cb743ff1",
   "metadata": {},
   "outputs": [
    {
     "data": {
      "text/plain": [
       "ManyBody(onebodybasis=NLevel(N=12), states:78)"
      ]
     },
     "execution_count": 17,
     "metadata": {},
     "output_type": "execute_result"
    }
   ],
   "source": [
    "#Create Many-Body Basis in Fock Space\n",
    "NBasis_MB = ManyBodyBasis(NBasis, NStates)"
   ]
  },
  {
   "cell_type": "code",
   "execution_count": 18,
   "id": "111521ac",
   "metadata": {},
   "outputs": [
    {
     "data": {
      "text/plain": [
       "78-element Vector{Float64}:\n",
       " -7.863260039755923\n",
       " -7.863260039755909\n",
       " -7.722514260539853\n",
       " -4.000000000000003\n",
       " -4.000000000000002\n",
       " -4.000000000000002\n",
       " -4.000000000000002\n",
       " -4.000000000000001\n",
       " -4.000000000000001\n",
       " -4.0\n",
       " -3.9999999999999987\n",
       " -3.999999999999996\n",
       " -3.4931364939914444\n",
       "  ⋮\n",
       "  4.509640222677438\n",
       "  4.509640222677443\n",
       "  8.402944676438475\n",
       "  8.402944676438484\n",
       "  8.402944676438484\n",
       "  8.402944676438484\n",
       "  8.402944676438484\n",
       "  8.402944676438487\n",
       "  8.402944676438487\n",
       "  8.402944676438489\n",
       "  8.40294467643849\n",
       " 16.186522232579847"
      ]
     },
     "execution_count": 18,
     "metadata": {},
     "output_type": "execute_result"
    }
   ],
   "source": [
    "#Bose-Hubbard Model for Kagome\n",
    "#On-Site Potantiel Term\n",
    "U=2\n",
    "#Kinetic term\n",
    "KT = SparseOperator(NBasis_MB)\n",
    "#Interaction term\n",
    "IT = SparseOperator(NBasis_MB)\n",
    "for m in 1:N\n",
    "    # Occupation (total particle) Operator: number(NBasis_MB, m)\n",
    "    IT = IT + U/2 * number(NBasis_MB, m) * (number(NBasis_MB, m) - identityoperator(NBasis_MB)) \n",
    "    for n in 1:N\n",
    "        KT = KT - H_NN[m,n] * transition(NBasis_MB, m, n) - H_NNN[m,n] * transition(NBasis_MB, m, n)\n",
    "    end\n",
    "end\n",
    "MB_Hamiltonian = KT + IT\n",
    "#Energies of Many-Body Hamiltonian with On-Site Interaction\n",
    "eigenenergies(dense(MB_Hamiltonian))"
   ]
  },
  {
   "cell_type": "code",
   "execution_count": 19,
   "id": "36d8840f",
   "metadata": {},
   "outputs": [],
   "source": [
    "using Plots"
   ]
  },
  {
   "cell_type": "code",
   "execution_count": 20,
   "id": "c2e14640",
   "metadata": {},
   "outputs": [
    {
     "data": {
      "image/svg+xml": "<?xml version=\"1.0\" encoding=\"utf-8\"?>\n<svg xmlns=\"http://www.w3.org/2000/svg\" xmlns:xlink=\"http://www.w3.org/1999/xlink\" width=\"600\" height=\"400\" viewBox=\"0 0 2400 1600\">\n<defs>\n  <clipPath id=\"clip090\">\n    <rect x=\"0\" y=\"0\" width=\"2400\" height=\"1600\"/>\n  </clipPath>\n</defs>\n<path clip-path=\"url(#clip090)\" d=\"\nM0 1600 L2400 1600 L2400 0 L0 0  Z\n  \" fill=\"#ffffff\" fill-rule=\"evenodd\" fill-opacity=\"1\"/>\n<defs>\n  <clipPath id=\"clip091\">\n    <rect x=\"480\" y=\"0\" width=\"1681\" height=\"1600\"/>\n  </clipPath>\n</defs>\n<path clip-path=\"url(#clip090)\" d=\"\nM147.709 1486.45 L2352.76 1486.45 L2352.76 47.2441 L147.709 47.2441  Z\n  \" fill=\"#ffffff\" fill-rule=\"evenodd\" fill-opacity=\"1\"/>\n<defs>\n  <clipPath id=\"clip092\">\n    <rect x=\"147\" y=\"47\" width=\"2206\" height=\"1440\"/>\n  </clipPath>\n</defs>\n<polyline clip-path=\"url(#clip092)\" style=\"stroke:#000000; stroke-linecap:butt; stroke-linejoin:round; stroke-width:2; stroke-opacity:0.1; fill:none\" points=\"\n  183.1,1486.45 183.1,47.2441 \n  \"/>\n<polyline clip-path=\"url(#clip092)\" style=\"stroke:#000000; stroke-linecap:butt; stroke-linejoin:round; stroke-width:2; stroke-opacity:0.1; fill:none\" points=\"\n  723.421,1486.45 723.421,47.2441 \n  \"/>\n<polyline clip-path=\"url(#clip092)\" style=\"stroke:#000000; stroke-linecap:butt; stroke-linejoin:round; stroke-width:2; stroke-opacity:0.1; fill:none\" points=\"\n  1263.74,1486.45 1263.74,47.2441 \n  \"/>\n<polyline clip-path=\"url(#clip092)\" style=\"stroke:#000000; stroke-linecap:butt; stroke-linejoin:round; stroke-width:2; stroke-opacity:0.1; fill:none\" points=\"\n  1804.06,1486.45 1804.06,47.2441 \n  \"/>\n<polyline clip-path=\"url(#clip092)\" style=\"stroke:#000000; stroke-linecap:butt; stroke-linejoin:round; stroke-width:2; stroke-opacity:0.1; fill:none\" points=\"\n  2344.38,1486.45 2344.38,47.2441 \n  \"/>\n<polyline clip-path=\"url(#clip090)\" style=\"stroke:#000000; stroke-linecap:butt; stroke-linejoin:round; stroke-width:4; stroke-opacity:1; fill:none\" points=\"\n  147.709,1486.45 2352.76,1486.45 \n  \"/>\n<polyline clip-path=\"url(#clip090)\" style=\"stroke:#000000; stroke-linecap:butt; stroke-linejoin:round; stroke-width:4; stroke-opacity:1; fill:none\" points=\"\n  183.1,1486.45 183.1,1467.55 \n  \"/>\n<polyline clip-path=\"url(#clip090)\" style=\"stroke:#000000; stroke-linecap:butt; stroke-linejoin:round; stroke-width:4; stroke-opacity:1; fill:none\" points=\"\n  723.421,1486.45 723.421,1467.55 \n  \"/>\n<polyline clip-path=\"url(#clip090)\" style=\"stroke:#000000; stroke-linecap:butt; stroke-linejoin:round; stroke-width:4; stroke-opacity:1; fill:none\" points=\"\n  1263.74,1486.45 1263.74,1467.55 \n  \"/>\n<polyline clip-path=\"url(#clip090)\" style=\"stroke:#000000; stroke-linecap:butt; stroke-linejoin:round; stroke-width:4; stroke-opacity:1; fill:none\" points=\"\n  1804.06,1486.45 1804.06,1467.55 \n  \"/>\n<polyline clip-path=\"url(#clip090)\" style=\"stroke:#000000; stroke-linecap:butt; stroke-linejoin:round; stroke-width:4; stroke-opacity:1; fill:none\" points=\"\n  2344.38,1486.45 2344.38,1467.55 \n  \"/>\n<path clip-path=\"url(#clip090)\" d=\"M183.1 1517.37 Q179.489 1517.37 177.661 1520.93 Q175.855 1524.47 175.855 1531.6 Q175.855 1538.71 177.661 1542.27 Q179.489 1545.82 183.1 1545.82 Q186.735 1545.82 188.54 1542.27 Q190.369 1538.71 190.369 1531.6 Q190.369 1524.47 188.54 1520.93 Q186.735 1517.37 183.1 1517.37 M183.1 1513.66 Q188.911 1513.66 191.966 1518.27 Q195.045 1522.85 195.045 1531.6 Q195.045 1540.33 191.966 1544.94 Q188.911 1549.52 183.1 1549.52 Q177.29 1549.52 174.212 1544.94 Q171.156 1540.33 171.156 1531.6 Q171.156 1522.85 174.212 1518.27 Q177.29 1513.66 183.1 1513.66 Z\" fill=\"#000000\" fill-rule=\"evenodd\" fill-opacity=\"1\" /><path clip-path=\"url(#clip090)\" d=\"M702.194 1544.91 L718.513 1544.91 L718.513 1548.85 L696.569 1548.85 L696.569 1544.91 Q699.231 1542.16 703.814 1537.53 Q708.421 1532.88 709.601 1531.53 Q711.846 1529.01 712.726 1527.27 Q713.629 1525.51 713.629 1523.82 Q713.629 1521.07 711.684 1519.33 Q709.763 1517.6 706.661 1517.6 Q704.462 1517.6 702.009 1518.36 Q699.578 1519.13 696.8 1520.68 L696.8 1515.95 Q699.624 1514.82 702.078 1514.24 Q704.532 1513.66 706.569 1513.66 Q711.939 1513.66 715.134 1516.35 Q718.328 1519.03 718.328 1523.52 Q718.328 1525.65 717.518 1527.57 Q716.731 1529.47 714.624 1532.07 Q714.046 1532.74 710.944 1535.95 Q707.842 1539.15 702.194 1544.91 Z\" fill=\"#000000\" fill-rule=\"evenodd\" fill-opacity=\"1\" /><path clip-path=\"url(#clip090)\" d=\"M738.328 1517.37 Q734.717 1517.37 732.888 1520.93 Q731.083 1524.47 731.083 1531.6 Q731.083 1538.71 732.888 1542.27 Q734.717 1545.82 738.328 1545.82 Q741.962 1545.82 743.768 1542.27 Q745.596 1538.71 745.596 1531.6 Q745.596 1524.47 743.768 1520.93 Q741.962 1517.37 738.328 1517.37 M738.328 1513.66 Q744.138 1513.66 747.194 1518.27 Q750.272 1522.85 750.272 1531.6 Q750.272 1540.33 747.194 1544.94 Q744.138 1549.52 738.328 1549.52 Q732.518 1549.52 729.439 1544.94 Q726.383 1540.33 726.383 1531.6 Q726.383 1522.85 729.439 1518.27 Q732.518 1513.66 738.328 1513.66 Z\" fill=\"#000000\" fill-rule=\"evenodd\" fill-opacity=\"1\" /><path clip-path=\"url(#clip090)\" d=\"M1251.91 1518.36 L1240.11 1536.81 L1251.91 1536.81 L1251.91 1518.36 M1250.69 1514.29 L1256.56 1514.29 L1256.56 1536.81 L1261.5 1536.81 L1261.5 1540.7 L1256.56 1540.7 L1256.56 1548.85 L1251.91 1548.85 L1251.91 1540.7 L1236.31 1540.7 L1236.31 1536.19 L1250.69 1514.29 Z\" fill=\"#000000\" fill-rule=\"evenodd\" fill-opacity=\"1\" /><path clip-path=\"url(#clip090)\" d=\"M1279.23 1517.37 Q1275.62 1517.37 1273.79 1520.93 Q1271.98 1524.47 1271.98 1531.6 Q1271.98 1538.71 1273.79 1542.27 Q1275.62 1545.82 1279.23 1545.82 Q1282.86 1545.82 1284.67 1542.27 Q1286.5 1538.71 1286.5 1531.6 Q1286.5 1524.47 1284.67 1520.93 Q1282.86 1517.37 1279.23 1517.37 M1279.23 1513.66 Q1285.04 1513.66 1288.09 1518.27 Q1291.17 1522.85 1291.17 1531.6 Q1291.17 1540.33 1288.09 1544.94 Q1285.04 1549.52 1279.23 1549.52 Q1273.42 1549.52 1270.34 1544.94 Q1267.28 1540.33 1267.28 1531.6 Q1267.28 1522.85 1270.34 1518.27 Q1273.42 1513.66 1279.23 1513.66 Z\" fill=\"#000000\" fill-rule=\"evenodd\" fill-opacity=\"1\" /><path clip-path=\"url(#clip090)\" d=\"M1789.47 1529.7 Q1786.32 1529.7 1784.47 1531.86 Q1782.64 1534.01 1782.64 1537.76 Q1782.64 1541.49 1784.47 1543.66 Q1786.32 1545.82 1789.47 1545.82 Q1792.61 1545.82 1794.44 1543.66 Q1796.29 1541.49 1796.29 1537.76 Q1796.29 1534.01 1794.44 1531.86 Q1792.61 1529.7 1789.47 1529.7 M1798.75 1515.05 L1798.75 1519.31 Q1796.99 1518.48 1795.18 1518.04 Q1793.4 1517.6 1791.64 1517.6 Q1787.01 1517.6 1784.56 1520.72 Q1782.13 1523.85 1781.78 1530.17 Q1783.15 1528.15 1785.21 1527.09 Q1787.27 1526 1789.74 1526 Q1794.95 1526 1797.96 1529.17 Q1800.99 1532.32 1800.99 1537.76 Q1800.99 1543.08 1797.85 1546.3 Q1794.7 1549.52 1789.47 1549.52 Q1783.47 1549.52 1780.3 1544.94 Q1777.13 1540.33 1777.13 1531.6 Q1777.13 1523.41 1781.02 1518.55 Q1784.91 1513.66 1791.46 1513.66 Q1793.22 1513.66 1795 1514.01 Q1796.8 1514.36 1798.75 1515.05 Z\" fill=\"#000000\" fill-rule=\"evenodd\" fill-opacity=\"1\" /><path clip-path=\"url(#clip090)\" d=\"M1819.05 1517.37 Q1815.44 1517.37 1813.61 1520.93 Q1811.8 1524.47 1811.8 1531.6 Q1811.8 1538.71 1813.61 1542.27 Q1815.44 1545.82 1819.05 1545.82 Q1822.68 1545.82 1824.49 1542.27 Q1826.32 1538.71 1826.32 1531.6 Q1826.32 1524.47 1824.49 1520.93 Q1822.68 1517.37 1819.05 1517.37 M1819.05 1513.66 Q1824.86 1513.66 1827.91 1518.27 Q1830.99 1522.85 1830.99 1531.6 Q1830.99 1540.33 1827.91 1544.94 Q1824.86 1549.52 1819.05 1549.52 Q1813.24 1549.52 1810.16 1544.94 Q1807.1 1540.33 1807.1 1531.6 Q1807.1 1522.85 1810.16 1518.27 Q1813.24 1513.66 1819.05 1513.66 Z\" fill=\"#000000\" fill-rule=\"evenodd\" fill-opacity=\"1\" /><path clip-path=\"url(#clip090)\" d=\"M2329.25 1532.44 Q2325.92 1532.44 2324 1534.22 Q2322.1 1536 2322.1 1539.13 Q2322.1 1542.25 2324 1544.03 Q2325.92 1545.82 2329.25 1545.82 Q2332.59 1545.82 2334.51 1544.03 Q2336.43 1542.23 2336.43 1539.13 Q2336.43 1536 2334.51 1534.22 Q2332.61 1532.44 2329.25 1532.44 M2324.58 1530.45 Q2321.57 1529.7 2319.88 1527.64 Q2318.21 1525.58 2318.21 1522.62 Q2318.21 1518.48 2321.15 1516.07 Q2324.11 1513.66 2329.25 1513.66 Q2334.42 1513.66 2337.36 1516.07 Q2340.3 1518.48 2340.3 1522.62 Q2340.3 1525.58 2338.61 1527.64 Q2336.94 1529.7 2333.95 1530.45 Q2337.33 1531.23 2339.21 1533.52 Q2341.11 1535.82 2341.11 1539.13 Q2341.11 1544.15 2338.03 1546.83 Q2334.97 1549.52 2329.25 1549.52 Q2323.54 1549.52 2320.46 1546.83 Q2317.4 1544.15 2317.4 1539.13 Q2317.4 1535.82 2319.3 1533.52 Q2321.2 1531.23 2324.58 1530.45 M2322.86 1523.06 Q2322.86 1525.75 2324.53 1527.25 Q2326.22 1528.76 2329.25 1528.76 Q2332.26 1528.76 2333.95 1527.25 Q2335.67 1525.75 2335.67 1523.06 Q2335.67 1520.38 2333.95 1518.87 Q2332.26 1517.37 2329.25 1517.37 Q2326.22 1517.37 2324.53 1518.87 Q2322.86 1520.38 2322.86 1523.06 Z\" fill=\"#000000\" fill-rule=\"evenodd\" fill-opacity=\"1\" /><path clip-path=\"url(#clip090)\" d=\"M2359.42 1517.37 Q2355.8 1517.37 2353.98 1520.93 Q2352.17 1524.47 2352.17 1531.6 Q2352.17 1538.71 2353.98 1542.27 Q2355.8 1545.82 2359.42 1545.82 Q2363.05 1545.82 2364.86 1542.27 Q2366.68 1538.71 2366.68 1531.6 Q2366.68 1524.47 2364.86 1520.93 Q2363.05 1517.37 2359.42 1517.37 M2359.42 1513.66 Q2365.23 1513.66 2368.28 1518.27 Q2371.36 1522.85 2371.36 1531.6 Q2371.36 1540.33 2368.28 1544.94 Q2365.23 1549.52 2359.42 1549.52 Q2353.61 1549.52 2350.53 1544.94 Q2347.47 1540.33 2347.47 1531.6 Q2347.47 1522.85 2350.53 1518.27 Q2353.61 1513.66 2359.42 1513.66 Z\" fill=\"#000000\" fill-rule=\"evenodd\" fill-opacity=\"1\" /><polyline clip-path=\"url(#clip092)\" style=\"stroke:#000000; stroke-linecap:butt; stroke-linejoin:round; stroke-width:2; stroke-opacity:0.1; fill:none\" points=\"\n  147.709,1284.07 2352.76,1284.07 \n  \"/>\n<polyline clip-path=\"url(#clip092)\" style=\"stroke:#000000; stroke-linecap:butt; stroke-linejoin:round; stroke-width:2; stroke-opacity:0.1; fill:none\" points=\"\n  147.709,1001.79 2352.76,1001.79 \n  \"/>\n<polyline clip-path=\"url(#clip092)\" style=\"stroke:#000000; stroke-linecap:butt; stroke-linejoin:round; stroke-width:2; stroke-opacity:0.1; fill:none\" points=\"\n  147.709,719.516 2352.76,719.516 \n  \"/>\n<polyline clip-path=\"url(#clip092)\" style=\"stroke:#000000; stroke-linecap:butt; stroke-linejoin:round; stroke-width:2; stroke-opacity:0.1; fill:none\" points=\"\n  147.709,437.239 2352.76,437.239 \n  \"/>\n<polyline clip-path=\"url(#clip092)\" style=\"stroke:#000000; stroke-linecap:butt; stroke-linejoin:round; stroke-width:2; stroke-opacity:0.1; fill:none\" points=\"\n  147.709,154.962 2352.76,154.962 \n  \"/>\n<polyline clip-path=\"url(#clip090)\" style=\"stroke:#000000; stroke-linecap:butt; stroke-linejoin:round; stroke-width:4; stroke-opacity:1; fill:none\" points=\"\n  147.709,1486.45 147.709,47.2441 \n  \"/>\n<polyline clip-path=\"url(#clip090)\" style=\"stroke:#000000; stroke-linecap:butt; stroke-linejoin:round; stroke-width:4; stroke-opacity:1; fill:none\" points=\"\n  147.709,1284.07 166.607,1284.07 \n  \"/>\n<polyline clip-path=\"url(#clip090)\" style=\"stroke:#000000; stroke-linecap:butt; stroke-linejoin:round; stroke-width:4; stroke-opacity:1; fill:none\" points=\"\n  147.709,1001.79 166.607,1001.79 \n  \"/>\n<polyline clip-path=\"url(#clip090)\" style=\"stroke:#000000; stroke-linecap:butt; stroke-linejoin:round; stroke-width:4; stroke-opacity:1; fill:none\" points=\"\n  147.709,719.516 166.607,719.516 \n  \"/>\n<polyline clip-path=\"url(#clip090)\" style=\"stroke:#000000; stroke-linecap:butt; stroke-linejoin:round; stroke-width:4; stroke-opacity:1; fill:none\" points=\"\n  147.709,437.239 166.607,437.239 \n  \"/>\n<polyline clip-path=\"url(#clip090)\" style=\"stroke:#000000; stroke-linecap:butt; stroke-linejoin:round; stroke-width:4; stroke-opacity:1; fill:none\" points=\"\n  147.709,154.962 166.607,154.962 \n  \"/>\n<path clip-path=\"url(#clip090)\" d=\"M50.9921 1284.52 L80.6679 1284.52 L80.6679 1288.46 L50.9921 1288.46 L50.9921 1284.52 Z\" fill=\"#000000\" fill-rule=\"evenodd\" fill-opacity=\"1\" /><path clip-path=\"url(#clip090)\" d=\"M90.8067 1266.79 L109.163 1266.79 L109.163 1270.72 L95.0891 1270.72 L95.0891 1279.2 Q96.1076 1278.85 97.1261 1278.69 Q98.1447 1278.5 99.1632 1278.5 Q104.95 1278.5 108.33 1281.67 Q111.709 1284.84 111.709 1290.26 Q111.709 1295.84 108.237 1298.94 Q104.765 1302.02 98.4456 1302.02 Q96.2697 1302.02 94.0012 1301.65 Q91.7558 1301.28 89.3484 1300.54 L89.3484 1295.84 Q91.4317 1296.97 93.6539 1297.53 Q95.8761 1298.09 98.353 1298.09 Q102.358 1298.09 104.696 1295.98 Q107.033 1293.87 107.033 1290.26 Q107.033 1286.65 104.696 1284.54 Q102.358 1282.44 98.353 1282.44 Q96.478 1282.44 94.603 1282.85 Q92.7512 1283.27 90.8067 1284.15 L90.8067 1266.79 Z\" fill=\"#000000\" fill-rule=\"evenodd\" fill-opacity=\"1\" /><path clip-path=\"url(#clip090)\" d=\"M99.765 987.591 Q96.1539 987.591 94.3252 991.156 Q92.5197 994.698 92.5197 1001.83 Q92.5197 1008.93 94.3252 1012.5 Q96.1539 1016.04 99.765 1016.04 Q103.399 1016.04 105.205 1012.5 Q107.033 1008.93 107.033 1001.83 Q107.033 994.698 105.205 991.156 Q103.399 987.591 99.765 987.591 M99.765 983.887 Q105.575 983.887 108.631 988.494 Q111.709 993.077 111.709 1001.83 Q111.709 1010.55 108.631 1015.16 Q105.575 1019.74 99.765 1019.74 Q93.9549 1019.74 90.8762 1015.16 Q87.8206 1010.55 87.8206 1001.83 Q87.8206 993.077 90.8762 988.494 Q93.9549 983.887 99.765 983.887 Z\" fill=\"#000000\" fill-rule=\"evenodd\" fill-opacity=\"1\" /><path clip-path=\"url(#clip090)\" d=\"M90.8067 702.236 L109.163 702.236 L109.163 706.171 L95.0891 706.171 L95.0891 714.643 Q96.1076 714.296 97.1261 714.134 Q98.1447 713.948 99.1632 713.948 Q104.95 713.948 108.33 717.12 Q111.709 720.291 111.709 725.708 Q111.709 731.286 108.237 734.388 Q104.765 737.467 98.4456 737.467 Q96.2697 737.467 94.0012 737.096 Q91.7558 736.726 89.3484 735.985 L89.3484 731.286 Q91.4317 732.421 93.6539 732.976 Q95.8761 733.532 98.353 733.532 Q102.358 733.532 104.696 731.425 Q107.033 729.319 107.033 725.708 Q107.033 722.097 104.696 719.99 Q102.358 717.884 98.353 717.884 Q96.478 717.884 94.603 718.3 Q92.7512 718.717 90.8067 719.597 L90.8067 702.236 Z\" fill=\"#000000\" fill-rule=\"evenodd\" fill-opacity=\"1\" /><path clip-path=\"url(#clip090)\" d=\"M60.4134 450.584 L68.0522 450.584 L68.0522 424.218 L59.7421 425.885 L59.7421 421.625 L68.0059 419.959 L72.6818 419.959 L72.6818 450.584 L80.3207 450.584 L80.3207 454.519 L60.4134 454.519 L60.4134 450.584 Z\" fill=\"#000000\" fill-rule=\"evenodd\" fill-opacity=\"1\" /><path clip-path=\"url(#clip090)\" d=\"M99.765 423.037 Q96.1539 423.037 94.3252 426.602 Q92.5197 430.144 92.5197 437.273 Q92.5197 444.38 94.3252 447.945 Q96.1539 451.486 99.765 451.486 Q103.399 451.486 105.205 447.945 Q107.033 444.38 107.033 437.273 Q107.033 430.144 105.205 426.602 Q103.399 423.037 99.765 423.037 M99.765 419.334 Q105.575 419.334 108.631 423.94 Q111.709 428.523 111.709 437.273 Q111.709 446 108.631 450.607 Q105.575 455.19 99.765 455.19 Q93.9549 455.19 90.8762 450.607 Q87.8206 446 87.8206 437.273 Q87.8206 428.523 90.8762 423.94 Q93.9549 419.334 99.765 419.334 Z\" fill=\"#000000\" fill-rule=\"evenodd\" fill-opacity=\"1\" /><path clip-path=\"url(#clip090)\" d=\"M61.4087 168.307 L69.0476 168.307 L69.0476 141.941 L60.7374 143.608 L60.7374 139.348 L69.0013 137.682 L73.6772 137.682 L73.6772 168.307 L81.316 168.307 L81.316 172.242 L61.4087 172.242 L61.4087 168.307 Z\" fill=\"#000000\" fill-rule=\"evenodd\" fill-opacity=\"1\" /><path clip-path=\"url(#clip090)\" d=\"M90.8067 137.682 L109.163 137.682 L109.163 141.617 L95.0891 141.617 L95.0891 150.089 Q96.1076 149.742 97.1261 149.58 Q98.1447 149.395 99.1632 149.395 Q104.95 149.395 108.33 152.566 Q111.709 155.737 111.709 161.154 Q111.709 166.733 108.237 169.834 Q104.765 172.913 98.4456 172.913 Q96.2697 172.913 94.0012 172.543 Q91.7558 172.172 89.3484 171.432 L89.3484 166.733 Q91.4317 167.867 93.6539 168.422 Q95.8761 168.978 98.353 168.978 Q102.358 168.978 104.696 166.871 Q107.033 164.765 107.033 161.154 Q107.033 157.543 104.696 155.436 Q102.358 153.33 98.353 153.33 Q96.478 153.33 94.603 153.747 Q92.7512 154.163 90.8067 155.043 L90.8067 137.682 Z\" fill=\"#000000\" fill-rule=\"evenodd\" fill-opacity=\"1\" /><circle clip-path=\"url(#clip092)\" cx=\"210.116\" cy=\"1445.72\" r=\"18\" fill=\"#009af9\" fill-rule=\"evenodd\" fill-opacity=\"1\" stroke=\"#000000\" stroke-opacity=\"1\" stroke-width=\"3.2\"/>\n<circle clip-path=\"url(#clip092)\" cx=\"237.132\" cy=\"1445.72\" r=\"18\" fill=\"#009af9\" fill-rule=\"evenodd\" fill-opacity=\"1\" stroke=\"#000000\" stroke-opacity=\"1\" stroke-width=\"3.2\"/>\n<circle clip-path=\"url(#clip092)\" cx=\"264.148\" cy=\"1437.77\" r=\"18\" fill=\"#009af9\" fill-rule=\"evenodd\" fill-opacity=\"1\" stroke=\"#000000\" stroke-opacity=\"1\" stroke-width=\"3.2\"/>\n<circle clip-path=\"url(#clip092)\" cx=\"291.164\" cy=\"1227.61\" r=\"18\" fill=\"#009af9\" fill-rule=\"evenodd\" fill-opacity=\"1\" stroke=\"#000000\" stroke-opacity=\"1\" stroke-width=\"3.2\"/>\n<circle clip-path=\"url(#clip092)\" cx=\"318.18\" cy=\"1227.61\" r=\"18\" fill=\"#009af9\" fill-rule=\"evenodd\" fill-opacity=\"1\" stroke=\"#000000\" stroke-opacity=\"1\" stroke-width=\"3.2\"/>\n<circle clip-path=\"url(#clip092)\" cx=\"345.196\" cy=\"1227.61\" r=\"18\" fill=\"#009af9\" fill-rule=\"evenodd\" fill-opacity=\"1\" stroke=\"#000000\" stroke-opacity=\"1\" stroke-width=\"3.2\"/>\n<circle clip-path=\"url(#clip092)\" cx=\"372.212\" cy=\"1227.61\" r=\"18\" fill=\"#009af9\" fill-rule=\"evenodd\" fill-opacity=\"1\" stroke=\"#000000\" stroke-opacity=\"1\" stroke-width=\"3.2\"/>\n<circle clip-path=\"url(#clip092)\" cx=\"399.228\" cy=\"1227.61\" r=\"18\" fill=\"#009af9\" fill-rule=\"evenodd\" fill-opacity=\"1\" stroke=\"#000000\" stroke-opacity=\"1\" stroke-width=\"3.2\"/>\n<circle clip-path=\"url(#clip092)\" cx=\"426.244\" cy=\"1227.61\" r=\"18\" fill=\"#009af9\" fill-rule=\"evenodd\" fill-opacity=\"1\" stroke=\"#000000\" stroke-opacity=\"1\" stroke-width=\"3.2\"/>\n<circle clip-path=\"url(#clip092)\" cx=\"453.26\" cy=\"1227.61\" r=\"18\" fill=\"#009af9\" fill-rule=\"evenodd\" fill-opacity=\"1\" stroke=\"#000000\" stroke-opacity=\"1\" stroke-width=\"3.2\"/>\n<circle clip-path=\"url(#clip092)\" cx=\"480.276\" cy=\"1227.61\" r=\"18\" fill=\"#009af9\" fill-rule=\"evenodd\" fill-opacity=\"1\" stroke=\"#000000\" stroke-opacity=\"1\" stroke-width=\"3.2\"/>\n<circle clip-path=\"url(#clip092)\" cx=\"507.292\" cy=\"1227.61\" r=\"18\" fill=\"#009af9\" fill-rule=\"evenodd\" fill-opacity=\"1\" stroke=\"#000000\" stroke-opacity=\"1\" stroke-width=\"3.2\"/>\n<circle clip-path=\"url(#clip092)\" cx=\"534.308\" cy=\"1199\" r=\"18\" fill=\"#009af9\" fill-rule=\"evenodd\" fill-opacity=\"1\" stroke=\"#000000\" stroke-opacity=\"1\" stroke-width=\"3.2\"/>\n<circle clip-path=\"url(#clip092)\" cx=\"561.324\" cy=\"1199\" r=\"18\" fill=\"#009af9\" fill-rule=\"evenodd\" fill-opacity=\"1\" stroke=\"#000000\" stroke-opacity=\"1\" stroke-width=\"3.2\"/>\n<circle clip-path=\"url(#clip092)\" cx=\"588.34\" cy=\"1199\" r=\"18\" fill=\"#009af9\" fill-rule=\"evenodd\" fill-opacity=\"1\" stroke=\"#000000\" stroke-opacity=\"1\" stroke-width=\"3.2\"/>\n<circle clip-path=\"url(#clip092)\" cx=\"615.356\" cy=\"1199\" r=\"18\" fill=\"#009af9\" fill-rule=\"evenodd\" fill-opacity=\"1\" stroke=\"#000000\" stroke-opacity=\"1\" stroke-width=\"3.2\"/>\n<circle clip-path=\"url(#clip092)\" cx=\"642.372\" cy=\"1199\" r=\"18\" fill=\"#009af9\" fill-rule=\"evenodd\" fill-opacity=\"1\" stroke=\"#000000\" stroke-opacity=\"1\" stroke-width=\"3.2\"/>\n<circle clip-path=\"url(#clip092)\" cx=\"669.388\" cy=\"1199\" r=\"18\" fill=\"#009af9\" fill-rule=\"evenodd\" fill-opacity=\"1\" stroke=\"#000000\" stroke-opacity=\"1\" stroke-width=\"3.2\"/>\n<circle clip-path=\"url(#clip092)\" cx=\"696.405\" cy=\"1199\" r=\"18\" fill=\"#009af9\" fill-rule=\"evenodd\" fill-opacity=\"1\" stroke=\"#000000\" stroke-opacity=\"1\" stroke-width=\"3.2\"/>\n<circle clip-path=\"url(#clip092)\" cx=\"723.421\" cy=\"1199\" r=\"18\" fill=\"#009af9\" fill-rule=\"evenodd\" fill-opacity=\"1\" stroke=\"#000000\" stroke-opacity=\"1\" stroke-width=\"3.2\"/>\n<circle clip-path=\"url(#clip092)\" cx=\"750.437\" cy=\"1199\" r=\"18\" fill=\"#009af9\" fill-rule=\"evenodd\" fill-opacity=\"1\" stroke=\"#000000\" stroke-opacity=\"1\" stroke-width=\"3.2\"/>\n<circle clip-path=\"url(#clip092)\" cx=\"777.453\" cy=\"1001.79\" r=\"18\" fill=\"#009af9\" fill-rule=\"evenodd\" fill-opacity=\"1\" stroke=\"#000000\" stroke-opacity=\"1\" stroke-width=\"3.2\"/>\n<circle clip-path=\"url(#clip092)\" cx=\"804.469\" cy=\"1001.79\" r=\"18\" fill=\"#009af9\" fill-rule=\"evenodd\" fill-opacity=\"1\" stroke=\"#000000\" stroke-opacity=\"1\" stroke-width=\"3.2\"/>\n<circle clip-path=\"url(#clip092)\" cx=\"831.485\" cy=\"1001.79\" r=\"18\" fill=\"#009af9\" fill-rule=\"evenodd\" fill-opacity=\"1\" stroke=\"#000000\" stroke-opacity=\"1\" stroke-width=\"3.2\"/>\n<circle clip-path=\"url(#clip092)\" cx=\"858.501\" cy=\"1001.79\" r=\"18\" fill=\"#009af9\" fill-rule=\"evenodd\" fill-opacity=\"1\" stroke=\"#000000\" stroke-opacity=\"1\" stroke-width=\"3.2\"/>\n<circle clip-path=\"url(#clip092)\" cx=\"885.517\" cy=\"1001.79\" r=\"18\" fill=\"#009af9\" fill-rule=\"evenodd\" fill-opacity=\"1\" stroke=\"#000000\" stroke-opacity=\"1\" stroke-width=\"3.2\"/>\n<circle clip-path=\"url(#clip092)\" cx=\"912.533\" cy=\"1001.79\" r=\"18\" fill=\"#009af9\" fill-rule=\"evenodd\" fill-opacity=\"1\" stroke=\"#000000\" stroke-opacity=\"1\" stroke-width=\"3.2\"/>\n<circle clip-path=\"url(#clip092)\" cx=\"939.549\" cy=\"1001.79\" r=\"18\" fill=\"#009af9\" fill-rule=\"evenodd\" fill-opacity=\"1\" stroke=\"#000000\" stroke-opacity=\"1\" stroke-width=\"3.2\"/>\n<circle clip-path=\"url(#clip092)\" cx=\"966.565\" cy=\"1001.79\" r=\"18\" fill=\"#009af9\" fill-rule=\"evenodd\" fill-opacity=\"1\" stroke=\"#000000\" stroke-opacity=\"1\" stroke-width=\"3.2\"/>\n<circle clip-path=\"url(#clip092)\" cx=\"993.581\" cy=\"1001.79\" r=\"18\" fill=\"#009af9\" fill-rule=\"evenodd\" fill-opacity=\"1\" stroke=\"#000000\" stroke-opacity=\"1\" stroke-width=\"3.2\"/>\n<circle clip-path=\"url(#clip092)\" cx=\"1020.6\" cy=\"1001.79\" r=\"18\" fill=\"#009af9\" fill-rule=\"evenodd\" fill-opacity=\"1\" stroke=\"#000000\" stroke-opacity=\"1\" stroke-width=\"3.2\"/>\n<circle clip-path=\"url(#clip092)\" cx=\"1047.61\" cy=\"1001.79\" r=\"18\" fill=\"#009af9\" fill-rule=\"evenodd\" fill-opacity=\"1\" stroke=\"#000000\" stroke-opacity=\"1\" stroke-width=\"3.2\"/>\n<circle clip-path=\"url(#clip092)\" cx=\"1074.63\" cy=\"1001.79\" r=\"18\" fill=\"#009af9\" fill-rule=\"evenodd\" fill-opacity=\"1\" stroke=\"#000000\" stroke-opacity=\"1\" stroke-width=\"3.2\"/>\n<circle clip-path=\"url(#clip092)\" cx=\"1101.64\" cy=\"1001.79\" r=\"18\" fill=\"#009af9\" fill-rule=\"evenodd\" fill-opacity=\"1\" stroke=\"#000000\" stroke-opacity=\"1\" stroke-width=\"3.2\"/>\n<circle clip-path=\"url(#clip092)\" cx=\"1128.66\" cy=\"1001.79\" r=\"18\" fill=\"#009af9\" fill-rule=\"evenodd\" fill-opacity=\"1\" stroke=\"#000000\" stroke-opacity=\"1\" stroke-width=\"3.2\"/>\n<circle clip-path=\"url(#clip092)\" cx=\"1155.68\" cy=\"1001.79\" r=\"18\" fill=\"#009af9\" fill-rule=\"evenodd\" fill-opacity=\"1\" stroke=\"#000000\" stroke-opacity=\"1\" stroke-width=\"3.2\"/>\n<circle clip-path=\"url(#clip092)\" cx=\"1182.69\" cy=\"1001.79\" r=\"18\" fill=\"#009af9\" fill-rule=\"evenodd\" fill-opacity=\"1\" stroke=\"#000000\" stroke-opacity=\"1\" stroke-width=\"3.2\"/>\n<circle clip-path=\"url(#clip092)\" cx=\"1209.71\" cy=\"1001.79\" r=\"18\" fill=\"#009af9\" fill-rule=\"evenodd\" fill-opacity=\"1\" stroke=\"#000000\" stroke-opacity=\"1\" stroke-width=\"3.2\"/>\n<circle clip-path=\"url(#clip092)\" cx=\"1236.72\" cy=\"1001.79\" r=\"18\" fill=\"#009af9\" fill-rule=\"evenodd\" fill-opacity=\"1\" stroke=\"#000000\" stroke-opacity=\"1\" stroke-width=\"3.2\"/>\n<circle clip-path=\"url(#clip092)\" cx=\"1263.74\" cy=\"1001.79\" r=\"18\" fill=\"#009af9\" fill-rule=\"evenodd\" fill-opacity=\"1\" stroke=\"#000000\" stroke-opacity=\"1\" stroke-width=\"3.2\"/>\n<circle clip-path=\"url(#clip092)\" cx=\"1290.76\" cy=\"1001.79\" r=\"18\" fill=\"#009af9\" fill-rule=\"evenodd\" fill-opacity=\"1\" stroke=\"#000000\" stroke-opacity=\"1\" stroke-width=\"3.2\"/>\n<circle clip-path=\"url(#clip092)\" cx=\"1317.77\" cy=\"1001.79\" r=\"18\" fill=\"#009af9\" fill-rule=\"evenodd\" fill-opacity=\"1\" stroke=\"#000000\" stroke-opacity=\"1\" stroke-width=\"3.2\"/>\n<circle clip-path=\"url(#clip092)\" cx=\"1344.79\" cy=\"1001.79\" r=\"18\" fill=\"#009af9\" fill-rule=\"evenodd\" fill-opacity=\"1\" stroke=\"#000000\" stroke-opacity=\"1\" stroke-width=\"3.2\"/>\n<circle clip-path=\"url(#clip092)\" cx=\"1371.8\" cy=\"1001.79\" r=\"18\" fill=\"#009af9\" fill-rule=\"evenodd\" fill-opacity=\"1\" stroke=\"#000000\" stroke-opacity=\"1\" stroke-width=\"3.2\"/>\n<circle clip-path=\"url(#clip092)\" cx=\"1398.82\" cy=\"1001.79\" r=\"18\" fill=\"#009af9\" fill-rule=\"evenodd\" fill-opacity=\"1\" stroke=\"#000000\" stroke-opacity=\"1\" stroke-width=\"3.2\"/>\n<circle clip-path=\"url(#clip092)\" cx=\"1425.84\" cy=\"1001.79\" r=\"18\" fill=\"#009af9\" fill-rule=\"evenodd\" fill-opacity=\"1\" stroke=\"#000000\" stroke-opacity=\"1\" stroke-width=\"3.2\"/>\n<circle clip-path=\"url(#clip092)\" cx=\"1452.85\" cy=\"1001.79\" r=\"18\" fill=\"#009af9\" fill-rule=\"evenodd\" fill-opacity=\"1\" stroke=\"#000000\" stroke-opacity=\"1\" stroke-width=\"3.2\"/>\n<circle clip-path=\"url(#clip092)\" cx=\"1479.87\" cy=\"1001.79\" r=\"18\" fill=\"#009af9\" fill-rule=\"evenodd\" fill-opacity=\"1\" stroke=\"#000000\" stroke-opacity=\"1\" stroke-width=\"3.2\"/>\n<circle clip-path=\"url(#clip092)\" cx=\"1506.88\" cy=\"1001.79\" r=\"18\" fill=\"#009af9\" fill-rule=\"evenodd\" fill-opacity=\"1\" stroke=\"#000000\" stroke-opacity=\"1\" stroke-width=\"3.2\"/>\n<circle clip-path=\"url(#clip092)\" cx=\"1533.9\" cy=\"1001.79\" r=\"18\" fill=\"#009af9\" fill-rule=\"evenodd\" fill-opacity=\"1\" stroke=\"#000000\" stroke-opacity=\"1\" stroke-width=\"3.2\"/>\n<circle clip-path=\"url(#clip092)\" cx=\"1560.92\" cy=\"1001.79\" r=\"18\" fill=\"#009af9\" fill-rule=\"evenodd\" fill-opacity=\"1\" stroke=\"#000000\" stroke-opacity=\"1\" stroke-width=\"3.2\"/>\n<circle clip-path=\"url(#clip092)\" cx=\"1587.93\" cy=\"1001.79\" r=\"18\" fill=\"#009af9\" fill-rule=\"evenodd\" fill-opacity=\"1\" stroke=\"#000000\" stroke-opacity=\"1\" stroke-width=\"3.2\"/>\n<circle clip-path=\"url(#clip092)\" cx=\"1614.95\" cy=\"1001.79\" r=\"18\" fill=\"#009af9\" fill-rule=\"evenodd\" fill-opacity=\"1\" stroke=\"#000000\" stroke-opacity=\"1\" stroke-width=\"3.2\"/>\n<circle clip-path=\"url(#clip092)\" cx=\"1641.96\" cy=\"1001.79\" r=\"18\" fill=\"#009af9\" fill-rule=\"evenodd\" fill-opacity=\"1\" stroke=\"#000000\" stroke-opacity=\"1\" stroke-width=\"3.2\"/>\n<circle clip-path=\"url(#clip092)\" cx=\"1668.98\" cy=\"940.245\" r=\"18\" fill=\"#009af9\" fill-rule=\"evenodd\" fill-opacity=\"1\" stroke=\"#000000\" stroke-opacity=\"1\" stroke-width=\"3.2\"/>\n<circle clip-path=\"url(#clip092)\" cx=\"1696\" cy=\"940.245\" r=\"18\" fill=\"#009af9\" fill-rule=\"evenodd\" fill-opacity=\"1\" stroke=\"#000000\" stroke-opacity=\"1\" stroke-width=\"3.2\"/>\n<circle clip-path=\"url(#clip092)\" cx=\"1723.01\" cy=\"940.245\" r=\"18\" fill=\"#009af9\" fill-rule=\"evenodd\" fill-opacity=\"1\" stroke=\"#000000\" stroke-opacity=\"1\" stroke-width=\"3.2\"/>\n<circle clip-path=\"url(#clip092)\" cx=\"1750.03\" cy=\"940.245\" r=\"18\" fill=\"#009af9\" fill-rule=\"evenodd\" fill-opacity=\"1\" stroke=\"#000000\" stroke-opacity=\"1\" stroke-width=\"3.2\"/>\n<circle clip-path=\"url(#clip092)\" cx=\"1777.04\" cy=\"940.245\" r=\"18\" fill=\"#009af9\" fill-rule=\"evenodd\" fill-opacity=\"1\" stroke=\"#000000\" stroke-opacity=\"1\" stroke-width=\"3.2\"/>\n<circle clip-path=\"url(#clip092)\" cx=\"1804.06\" cy=\"940.245\" r=\"18\" fill=\"#009af9\" fill-rule=\"evenodd\" fill-opacity=\"1\" stroke=\"#000000\" stroke-opacity=\"1\" stroke-width=\"3.2\"/>\n<circle clip-path=\"url(#clip092)\" cx=\"1831.08\" cy=\"940.245\" r=\"18\" fill=\"#009af9\" fill-rule=\"evenodd\" fill-opacity=\"1\" stroke=\"#000000\" stroke-opacity=\"1\" stroke-width=\"3.2\"/>\n<circle clip-path=\"url(#clip092)\" cx=\"1858.09\" cy=\"940.245\" r=\"18\" fill=\"#009af9\" fill-rule=\"evenodd\" fill-opacity=\"1\" stroke=\"#000000\" stroke-opacity=\"1\" stroke-width=\"3.2\"/>\n<circle clip-path=\"url(#clip092)\" cx=\"1885.11\" cy=\"940.245\" r=\"18\" fill=\"#009af9\" fill-rule=\"evenodd\" fill-opacity=\"1\" stroke=\"#000000\" stroke-opacity=\"1\" stroke-width=\"3.2\"/>\n<circle clip-path=\"url(#clip092)\" cx=\"1912.12\" cy=\"925.373\" r=\"18\" fill=\"#009af9\" fill-rule=\"evenodd\" fill-opacity=\"1\" stroke=\"#000000\" stroke-opacity=\"1\" stroke-width=\"3.2\"/>\n<circle clip-path=\"url(#clip092)\" cx=\"1939.14\" cy=\"925.373\" r=\"18\" fill=\"#009af9\" fill-rule=\"evenodd\" fill-opacity=\"1\" stroke=\"#000000\" stroke-opacity=\"1\" stroke-width=\"3.2\"/>\n<circle clip-path=\"url(#clip092)\" cx=\"1966.16\" cy=\"915.077\" r=\"18\" fill=\"#009af9\" fill-rule=\"evenodd\" fill-opacity=\"1\" stroke=\"#000000\" stroke-opacity=\"1\" stroke-width=\"3.2\"/>\n<circle clip-path=\"url(#clip092)\" cx=\"1993.17\" cy=\"747.199\" r=\"18\" fill=\"#009af9\" fill-rule=\"evenodd\" fill-opacity=\"1\" stroke=\"#000000\" stroke-opacity=\"1\" stroke-width=\"3.2\"/>\n<circle clip-path=\"url(#clip092)\" cx=\"2020.19\" cy=\"747.199\" r=\"18\" fill=\"#009af9\" fill-rule=\"evenodd\" fill-opacity=\"1\" stroke=\"#000000\" stroke-opacity=\"1\" stroke-width=\"3.2\"/>\n<circle clip-path=\"url(#clip092)\" cx=\"2047.2\" cy=\"527.401\" r=\"18\" fill=\"#009af9\" fill-rule=\"evenodd\" fill-opacity=\"1\" stroke=\"#000000\" stroke-opacity=\"1\" stroke-width=\"3.2\"/>\n<circle clip-path=\"url(#clip092)\" cx=\"2074.22\" cy=\"527.401\" r=\"18\" fill=\"#009af9\" fill-rule=\"evenodd\" fill-opacity=\"1\" stroke=\"#000000\" stroke-opacity=\"1\" stroke-width=\"3.2\"/>\n<circle clip-path=\"url(#clip092)\" cx=\"2101.24\" cy=\"527.401\" r=\"18\" fill=\"#009af9\" fill-rule=\"evenodd\" fill-opacity=\"1\" stroke=\"#000000\" stroke-opacity=\"1\" stroke-width=\"3.2\"/>\n<circle clip-path=\"url(#clip092)\" cx=\"2128.25\" cy=\"527.401\" r=\"18\" fill=\"#009af9\" fill-rule=\"evenodd\" fill-opacity=\"1\" stroke=\"#000000\" stroke-opacity=\"1\" stroke-width=\"3.2\"/>\n<circle clip-path=\"url(#clip092)\" cx=\"2155.27\" cy=\"527.401\" r=\"18\" fill=\"#009af9\" fill-rule=\"evenodd\" fill-opacity=\"1\" stroke=\"#000000\" stroke-opacity=\"1\" stroke-width=\"3.2\"/>\n<circle clip-path=\"url(#clip092)\" cx=\"2182.28\" cy=\"527.401\" r=\"18\" fill=\"#009af9\" fill-rule=\"evenodd\" fill-opacity=\"1\" stroke=\"#000000\" stroke-opacity=\"1\" stroke-width=\"3.2\"/>\n<circle clip-path=\"url(#clip092)\" cx=\"2209.3\" cy=\"527.401\" r=\"18\" fill=\"#009af9\" fill-rule=\"evenodd\" fill-opacity=\"1\" stroke=\"#000000\" stroke-opacity=\"1\" stroke-width=\"3.2\"/>\n<circle clip-path=\"url(#clip092)\" cx=\"2236.32\" cy=\"527.401\" r=\"18\" fill=\"#009af9\" fill-rule=\"evenodd\" fill-opacity=\"1\" stroke=\"#000000\" stroke-opacity=\"1\" stroke-width=\"3.2\"/>\n<circle clip-path=\"url(#clip092)\" cx=\"2263.33\" cy=\"527.401\" r=\"18\" fill=\"#009af9\" fill-rule=\"evenodd\" fill-opacity=\"1\" stroke=\"#000000\" stroke-opacity=\"1\" stroke-width=\"3.2\"/>\n<circle clip-path=\"url(#clip092)\" cx=\"2290.35\" cy=\"87.9763\" r=\"18\" fill=\"#009af9\" fill-rule=\"evenodd\" fill-opacity=\"1\" stroke=\"#000000\" stroke-opacity=\"1\" stroke-width=\"3.2\"/>\n</svg>\n"
     },
     "execution_count": 20,
     "metadata": {},
     "output_type": "execute_result"
    }
   ],
   "source": [
    "y = eigenenergies(dense(MB_Hamiltonian))\n",
    "x=1:length(y)\n",
    "gr()\n",
    "plot(x, y, seriestype = :scatter, markersize = 5, legend=false)"
   ]
  }
 ],
 "metadata": {
  "kernelspec": {
   "display_name": "Julia 1.7.2",
   "language": "julia",
   "name": "julia-1.7"
  },
  "language_info": {
   "file_extension": ".jl",
   "mimetype": "application/julia",
   "name": "julia",
   "version": "1.7.2"
  }
 },
 "nbformat": 4,
 "nbformat_minor": 5
}
