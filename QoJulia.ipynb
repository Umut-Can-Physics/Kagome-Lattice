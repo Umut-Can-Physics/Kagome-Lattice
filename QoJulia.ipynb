{
 "cells": [
  {
   "cell_type": "code",
   "execution_count": 1,
   "id": "54cb8557",
   "metadata": {},
   "outputs": [],
   "source": [
    "# Get Kagome Real Space Structure from Python Code (PyCall)\n",
    "using PyCall,QuantumOptics,LinearAlgebra,SparseArrays,Plots"
   ]
  },
  {
   "cell_type": "markdown",
   "id": "534e22f4",
   "metadata": {},
   "source": [
    "# Single Particle Hamiltonian"
   ]
  },
  {
   "cell_type": "code",
   "execution_count": 2,
   "id": "92ad58eb",
   "metadata": {},
   "outputs": [],
   "source": [
    "py\"\"\"\n",
    "\n",
    "import matplotlib.pyplot as plt\n",
    "import numpy as np\n",
    "\n",
    "sqrt = np.sqrt\n",
    "#Bravais vectors\n",
    "a1_vec = np.array([2,0])\n",
    "a2_vec = np.array([1,sqrt(3)])\n",
    "# number of unit-cell in each axes\n",
    "l1 = l2 = 2 \n",
    "L = l1*l2 # number of unit-cells\n",
    "N = 3*L # number of sites\n",
    "#Basis vectors\n",
    "b1=np.array([0,0]) #A atoms\n",
    "b2=a1_vec/2 #B atoms\n",
    "b3=a2_vec/2 #C atoms\n",
    "Basis = [b1,b2,b3]\n",
    "basis_colors=['red','blue','green']\n",
    "coordinates = []\n",
    "sites = []\n",
    "atom_dict={}\n",
    "for i1 in range(l1):\n",
    "    for i2 in range(l2):\n",
    "        Lp = a1_vec * i1 + a2_vec * i2\n",
    "        center = a1_vec * i1 + a2_vec * i2 + b1\n",
    "        shift = (-b2-b3)/sqrt(3)/2\n",
    "        P1=np.array([center+shift,center+a1_vec+shift,center+a2_vec+shift])\n",
    "        for ib, b in enumerate(Basis):\n",
    "            atom_vec = Lp + b\n",
    "            atom_no = 3 * i1 * l2 + 3 * i2 + ib\n",
    "            site = [i1,i2,ib]\n",
    "            sites.append(site)\n",
    "            coordinates.append(atom_vec)\n",
    "            atom_dict[tuple(site)]=atom_vec\n",
    "\n",
    "NN = [[(0,0,1), (0,0,2), (-1,0,1),(0,-1,2),   (-1,0,2), (-1,1,1), (0,-1,1),(1,-1,2)], #A (red)\n",
    "      [(0,0,-1),(0,0,1), (1,0,-1),(1,-1,1),   (0,-1,1), (1,-1,-1),(0,1,-1),(1,0,1)], #B (blue)\n",
    "      [(0,0,-1),(0,0,-2),(0,1,-2),(-1,1,-1),  (-1,1,-2),(-1,0,-1),(0,1,-1),(1,0,-2)] #C (green)\n",
    "      ]\n",
    "# t1=L1=-1;t2=L2=0\n",
    "# t1=L1=0;t2=L2=-1\n",
    "# t1 = -1;L1 = 0.28;t2 = -0.3;L2 = 0.2\n",
    "t1=t2=-1;L1=L2=0\n",
    "\n",
    "hopps = [[t1+1j*L1,t1-1j*L1,t1+1j*L1,t1-1j*L1,  t2+1j*L2,t2-1j*L2,t2-1j*L2,t2+1j*L2], # from A\n",
    "         [t1-1j*L1,t1+1j*L1,t1-1j*L1,t1+1j*L1,  t2-1j*L2,t2+1j*L2,t2+1j*L2,t2-1j*L2], # from B\n",
    "         [t1-1j*L1,t1+1j*L1,t1+1j*L1,t1-1j*L1,  t2-1j*L2,t2+1j*L2,t2+1j*L2,t2-1j*L2]] # from C\n",
    "\n",
    "H = np.zeros([N,N],dtype=complex)\n",
    "\n",
    "for atom_no in range(N):\n",
    "    atom_site=sites[atom_no]\n",
    "    # atom_vec=coordinates[atom_no]\n",
    "    for i_delta, delta in enumerate(NN[atom_site[2]]):\n",
    "        neighbor_site = np.array(atom_site)+np.array(delta)\n",
    "        neighbor_site[0] = neighbor_site[0]%l1\n",
    "        neighbor_site[1] = neighbor_site[1]%l2    \n",
    "        neighbor_no=3*neighbor_site[0]*l2+3*neighbor_site[1]+neighbor_site[2]\n",
    "        H[neighbor_no,atom_no]=hopps[atom_site[2]][i_delta] \n",
    "\n",
    "\"\"\""
   ]
  },
  {
   "cell_type": "code",
   "execution_count": 3,
   "id": "a698c011",
   "metadata": {},
   "outputs": [
    {
     "data": {
      "text/plain": [
       "12×12 PyArray{ComplexF64, 2}:\n",
       "  0.0+0.0im  -1.0+0.0im  -1.0+0.0im  …   0.0+0.0im  -1.0+0.0im  -1.0+0.0im\n",
       " -1.0+0.0im   0.0+0.0im  -1.0+0.0im     -1.0+0.0im   0.0+0.0im  -1.0+0.0im\n",
       " -1.0+0.0im  -1.0+0.0im   0.0+0.0im     -1.0+0.0im  -1.0+0.0im   0.0+0.0im\n",
       "  0.0+0.0im  -1.0+0.0im  -1.0+0.0im      0.0+0.0im  -1.0+0.0im  -1.0+0.0im\n",
       " -1.0+0.0im   0.0+0.0im  -1.0+0.0im     -1.0+0.0im   0.0+0.0im  -1.0+0.0im\n",
       " -1.0+0.0im  -1.0+0.0im   0.0+0.0im  …  -1.0+0.0im  -1.0+0.0im   0.0+0.0im\n",
       "  0.0+0.0im  -1.0+0.0im  -1.0+0.0im      0.0+0.0im  -1.0+0.0im  -1.0+0.0im\n",
       " -1.0+0.0im   0.0+0.0im  -1.0+0.0im     -1.0+0.0im   0.0+0.0im  -1.0+0.0im\n",
       " -1.0+0.0im  -1.0+0.0im   0.0+0.0im     -1.0+0.0im  -1.0+0.0im   0.0+0.0im\n",
       "  0.0+0.0im  -1.0+0.0im  -1.0+0.0im      0.0+0.0im  -1.0+0.0im  -1.0+0.0im\n",
       " -1.0+0.0im   0.0+0.0im  -1.0+0.0im  …  -1.0+0.0im   0.0+0.0im  -1.0+0.0im\n",
       " -1.0+0.0im  -1.0+0.0im   0.0+0.0im     -1.0+0.0im  -1.0+0.0im   0.0+0.0im"
      ]
     },
     "execution_count": 3,
     "metadata": {},
     "output_type": "execute_result"
    }
   ],
   "source": [
    "#Real Space Hamiltonian Matrix Getting by Python Code\n",
    "H = PyArray(py\"H\"o)"
   ]
  },
  {
   "cell_type": "markdown",
   "id": "aec1ca29",
   "metadata": {},
   "source": [
    "# Many-Body"
   ]
  },
  {
   "cell_type": "code",
   "execution_count": 4,
   "id": "2814afbd",
   "metadata": {},
   "outputs": [
    {
     "name": "stdout",
     "output_type": "stream",
     "text": [
      "The Number of Sites=12\n"
     ]
    }
   ],
   "source": [
    "#Number of Unit-cells Each Directions\n",
    "Nx = Ny = py\"l1\"\n",
    "#Total Number of Sites\n",
    "N = 3*py\"L\"\n",
    "println(\"The Number of Sites=\",N)"
   ]
  },
  {
   "cell_type": "code",
   "execution_count": 5,
   "id": "923111bb",
   "metadata": {},
   "outputs": [
    {
     "data": {
      "text/plain": [
       "NLevel(N=12)"
      ]
     },
     "execution_count": 5,
     "metadata": {},
     "output_type": "execute_result"
    }
   ],
   "source": [
    "#Create N Level Basis for Many-Body States\n",
    "NBasis = NLevelBasis(N)"
   ]
  },
  {
   "cell_type": "markdown",
   "id": "3ed3a6bb",
   "metadata": {},
   "source": [
    "# Hard-Core Interaction"
   ]
  },
  {
   "cell_type": "code",
   "execution_count": 6,
   "id": "a07eadf4",
   "metadata": {},
   "outputs": [
    {
     "data": {
      "text/plain": [
       "78-element Vector{Vector{Int64}}:\n",
       " [2, 0, 0, 0, 0, 0, 0, 0, 0, 0, 0, 0]\n",
       " [1, 1, 0, 0, 0, 0, 0, 0, 0, 0, 0, 0]\n",
       " [1, 0, 1, 0, 0, 0, 0, 0, 0, 0, 0, 0]\n",
       " [1, 0, 0, 1, 0, 0, 0, 0, 0, 0, 0, 0]\n",
       " [1, 0, 0, 0, 1, 0, 0, 0, 0, 0, 0, 0]\n",
       " [1, 0, 0, 0, 0, 1, 0, 0, 0, 0, 0, 0]\n",
       " [1, 0, 0, 0, 0, 0, 1, 0, 0, 0, 0, 0]\n",
       " [1, 0, 0, 0, 0, 0, 0, 1, 0, 0, 0, 0]\n",
       " [1, 0, 0, 0, 0, 0, 0, 0, 1, 0, 0, 0]\n",
       " [1, 0, 0, 0, 0, 0, 0, 0, 0, 1, 0, 0]\n",
       " [1, 0, 0, 0, 0, 0, 0, 0, 0, 0, 1, 0]\n",
       " [1, 0, 0, 0, 0, 0, 0, 0, 0, 0, 0, 1]\n",
       " [0, 2, 0, 0, 0, 0, 0, 0, 0, 0, 0, 0]\n",
       " ⋮\n",
       " [0, 0, 0, 0, 0, 0, 0, 1, 0, 0, 1, 0]\n",
       " [0, 0, 0, 0, 0, 0, 0, 1, 0, 0, 0, 1]\n",
       " [0, 0, 0, 0, 0, 0, 0, 0, 2, 0, 0, 0]\n",
       " [0, 0, 0, 0, 0, 0, 0, 0, 1, 1, 0, 0]\n",
       " [0, 0, 0, 0, 0, 0, 0, 0, 1, 0, 1, 0]\n",
       " [0, 0, 0, 0, 0, 0, 0, 0, 1, 0, 0, 1]\n",
       " [0, 0, 0, 0, 0, 0, 0, 0, 0, 2, 0, 0]\n",
       " [0, 0, 0, 0, 0, 0, 0, 0, 0, 1, 1, 0]\n",
       " [0, 0, 0, 0, 0, 0, 0, 0, 0, 1, 0, 1]\n",
       " [0, 0, 0, 0, 0, 0, 0, 0, 0, 0, 2, 0]\n",
       " [0, 0, 0, 0, 0, 0, 0, 0, 0, 0, 1, 1]\n",
       " [0, 0, 0, 0, 0, 0, 0, 0, 0, 0, 0, 2]"
      ]
     },
     "execution_count": 6,
     "metadata": {},
     "output_type": "execute_result"
    }
   ],
   "source": [
    "#Total Particle Number in Lattice\n",
    "PN=2\n",
    "#All of states in N Fock Space for Hard-Core Interaction\n",
    "HC_NStates = bosonstates(NBasis, [PN]) \n",
    "# Max. Occupation number is equal to 1 (Hard-Core Interaction or Many-Body for Fermionic States)"
   ]
  },
  {
   "cell_type": "code",
   "execution_count": 7,
   "id": "49c25cb9",
   "metadata": {},
   "outputs": [
    {
     "data": {
      "text/plain": [
       "66-element Vector{Vector{Int64}}:\n",
       " [1, 1, 0, 0, 0, 0, 0, 0, 0, 0, 0, 0]\n",
       " [1, 0, 1, 0, 0, 0, 0, 0, 0, 0, 0, 0]\n",
       " [1, 0, 0, 1, 0, 0, 0, 0, 0, 0, 0, 0]\n",
       " [1, 0, 0, 0, 1, 0, 0, 0, 0, 0, 0, 0]\n",
       " [1, 0, 0, 0, 0, 1, 0, 0, 0, 0, 0, 0]\n",
       " [1, 0, 0, 0, 0, 0, 1, 0, 0, 0, 0, 0]\n",
       " [1, 0, 0, 0, 0, 0, 0, 1, 0, 0, 0, 0]\n",
       " [1, 0, 0, 0, 0, 0, 0, 0, 1, 0, 0, 0]\n",
       " [1, 0, 0, 0, 0, 0, 0, 0, 0, 1, 0, 0]\n",
       " [1, 0, 0, 0, 0, 0, 0, 0, 0, 0, 1, 0]\n",
       " [1, 0, 0, 0, 0, 0, 0, 0, 0, 0, 0, 1]\n",
       " [0, 1, 1, 0, 0, 0, 0, 0, 0, 0, 0, 0]\n",
       " [0, 1, 0, 1, 0, 0, 0, 0, 0, 0, 0, 0]\n",
       " ⋮\n",
       " [0, 0, 0, 0, 0, 0, 1, 0, 0, 0, 1, 0]\n",
       " [0, 0, 0, 0, 0, 0, 1, 0, 0, 0, 0, 1]\n",
       " [0, 0, 0, 0, 0, 0, 0, 1, 1, 0, 0, 0]\n",
       " [0, 0, 0, 0, 0, 0, 0, 1, 0, 1, 0, 0]\n",
       " [0, 0, 0, 0, 0, 0, 0, 1, 0, 0, 1, 0]\n",
       " [0, 0, 0, 0, 0, 0, 0, 1, 0, 0, 0, 1]\n",
       " [0, 0, 0, 0, 0, 0, 0, 0, 1, 1, 0, 0]\n",
       " [0, 0, 0, 0, 0, 0, 0, 0, 1, 0, 1, 0]\n",
       " [0, 0, 0, 0, 0, 0, 0, 0, 1, 0, 0, 1]\n",
       " [0, 0, 0, 0, 0, 0, 0, 0, 0, 1, 1, 0]\n",
       " [0, 0, 0, 0, 0, 0, 0, 0, 0, 1, 0, 1]\n",
       " [0, 0, 0, 0, 0, 0, 0, 0, 0, 0, 1, 1]"
      ]
     },
     "execution_count": 7,
     "metadata": {},
     "output_type": "execute_result"
    }
   ],
   "source": [
    "# Fermion durumlarında -1 çarpanı geliyor, bunun için Hard-Core etkileşimini boson durumlarda 2 satırlarını çıkartarak yaptım\n",
    "A = bosonstates(NBasis, [PN]) \n",
    "B = fermionstates(NBasis, [PN])\n",
    "C = setdiff(A,B)\n",
    "HC_NStates = setdiff(A,C)"
   ]
  },
  {
   "cell_type": "code",
   "execution_count": 8,
   "id": "0876d163",
   "metadata": {},
   "outputs": [
    {
     "data": {
      "text/plain": [
       "ManyBody(onebodybasis=NLevel(N=12), states:66)"
      ]
     },
     "execution_count": 8,
     "metadata": {},
     "output_type": "execute_result"
    }
   ],
   "source": [
    "#Create Hard-Core Many-Body Basis in Fock Space\n",
    "HC_NBasis_MB = ManyBodyBasis(NBasis, HC_NStates)"
   ]
  },
  {
   "cell_type": "markdown",
   "id": "8e7a388b",
   "metadata": {},
   "source": [
    "$$\\newcommand{\\ket}[1]{\\left|{#1}\\right\\rangle}$$\n",
    "$$\\newcommand{\\bra}[1]{\\left\\langle{#1}\\right|}$$\n",
    "$$\\newcommand{\\braket}[2]{\\left\\langle{#1}\\middle|{#2}\\right\\rangle}$$\n",
    "Generalized Fermionic Fock States:\n",
    "\\begin{align}\n",
    "c_\\alpha^{\\dagger}\\ket{...,n_\\beta,n_\\alpha,n_\\gamma,...} =(-1)^{\\sum_{\\beta<\\alpha}n_{\\beta}}\\left(\\sqrt{n_\\alpha+1} \\right) \\ket{...,n_\\beta,n_\\alpha+1,n_\\gamma,...} \n",
    "\\\\\n",
    "c_\\alpha\\ket{...,n_\\beta,n_\\alpha,n_\\gamma,...} =(-1)^{\\sum_{\\beta<\\alpha}n_{\\beta}}\\sqrt{n_\\alpha} \\ket{...,n_\\beta,n_\\alpha-1,n_\\gamma,...} \n",
    "\\end{align}"
   ]
  },
  {
   "cell_type": "code",
   "execution_count": 9,
   "id": "402cff98",
   "metadata": {},
   "outputs": [
    {
     "data": {
      "text/plain": [
       "66-element Vector{Float64}:\n",
       " -14.58300524425836\n",
       "  -6.472135954999586\n",
       "  -6.472135954999584\n",
       "  -6.472135954999581\n",
       "  -6.4721359549995805\n",
       "  -6.4721359549995805\n",
       "  -6.4721359549995805\n",
       "  -6.472135954999578\n",
       "  -6.472135954999578\n",
       "  -6.472135954999574\n",
       "  -3.2915026221291823\n",
       "  -3.2915026221291805\n",
       "  -5.19778728403013e-15\n",
       "   ⋮\n",
       "   3.999999999999993\n",
       "   3.9999999999999942\n",
       "   3.9999999999999987\n",
       "   3.9999999999999987\n",
       "   3.9999999999999987\n",
       "   4.0\n",
       "   4.000000000000001\n",
       "   4.000000000000002\n",
       "   4.000000000000002\n",
       "   6.58300524425836\n",
       "   7.291502622129175\n",
       "   7.291502622129185"
      ]
     },
     "execution_count": 9,
     "metadata": {},
     "output_type": "execute_result"
    }
   ],
   "source": [
    "HC_Hamiltonian_MB = SparseOperator(HC_NBasis_MB)\n",
    "for m in 1:N\n",
    "    for n in 1:N\n",
    "        # Phase Factors= H_NN[m,n] and H_NNN[m,n]\n",
    "        # Hopping Terms= transition(HC_NBasis_MB, m, n)\n",
    "        # The Neighbors Condition Hides Here: H[m,n]\n",
    "        HC_Hamiltonian_MB = HC_Hamiltonian_MB + H[m,n] * transition(HC_NBasis_MB, m, n)\n",
    "    end\n",
    "end\n",
    "#Energies of Hard-Core Interaction\n",
    "eigenenergies(dense(HC_Hamiltonian_MB))    \n",
    "#Note That: Single Particle (PN=1) Eigenvalues of Julia Code is the same in Momentum Space for All Hopping Parameter."
   ]
  },
  {
   "cell_type": "code",
   "execution_count": 10,
   "id": "1d9e35f2",
   "metadata": {},
   "outputs": [
    {
     "name": "stdout",
     "output_type": "stream",
     "text": [
      "Total Number of Particle=2 ,Total Number of Unit-Cell=4 =>Filling Fraction=0.5\n"
     ]
    }
   ],
   "source": [
    "println(\"Total Number of Particle=\",PN,\" ,Total Number of Unit-Cell=\",Nx*Ny,\" =>\",\"Filling Fraction=\",PN/(Nx*Ny))"
   ]
  },
  {
   "cell_type": "markdown",
   "id": "2fdd728d",
   "metadata": {},
   "source": [
    "Filling Fraction on Kagome Model for Topological Dejeneracy:\n",
    "\\begin{align}\n",
    "\\frac{1}{2} = \\frac{N}{N_{cell}} = \\frac{N}{N1N2} = \\frac{4}{2*2}\n",
    "\\end{align}"
   ]
  },
  {
   "cell_type": "code",
   "execution_count": 11,
   "id": "1c07bb15",
   "metadata": {},
   "outputs": [
    {
     "data": {
      "image/svg+xml": "<?xml version=\"1.0\" encoding=\"utf-8\"?>\n<svg xmlns=\"http://www.w3.org/2000/svg\" xmlns:xlink=\"http://www.w3.org/1999/xlink\" width=\"600\" height=\"400\" viewBox=\"0 0 2400 1600\">\n<defs>\n  <clipPath id=\"clip060\">\n    <rect x=\"0\" y=\"0\" width=\"2400\" height=\"1600\"/>\n  </clipPath>\n</defs>\n<path clip-path=\"url(#clip060)\" d=\"\nM0 1600 L2400 1600 L2400 0 L0 0  Z\n  \" fill=\"#ffffff\" fill-rule=\"evenodd\" fill-opacity=\"1\"/>\n<defs>\n  <clipPath id=\"clip061\">\n    <rect x=\"480\" y=\"0\" width=\"1681\" height=\"1600\"/>\n  </clipPath>\n</defs>\n<path clip-path=\"url(#clip060)\" d=\"\nM178.867 1486.45 L2352.76 1486.45 L2352.76 47.2441 L178.867 47.2441  Z\n  \" fill=\"#ffffff\" fill-rule=\"evenodd\" fill-opacity=\"1\"/>\n<defs>\n  <clipPath id=\"clip062\">\n    <rect x=\"178\" y=\"47\" width=\"2175\" height=\"1440\"/>\n  </clipPath>\n</defs>\n<polyline clip-path=\"url(#clip062)\" style=\"stroke:#000000; stroke-linecap:butt; stroke-linejoin:round; stroke-width:2; stroke-opacity:0.1; fill:none\" points=\"\n  672.147,1486.45 672.147,47.2441 \n  \"/>\n<polyline clip-path=\"url(#clip062)\" style=\"stroke:#000000; stroke-linecap:butt; stroke-linejoin:round; stroke-width:2; stroke-opacity:0.1; fill:none\" points=\"\n  1211.84,1486.45 1211.84,47.2441 \n  \"/>\n<polyline clip-path=\"url(#clip062)\" style=\"stroke:#000000; stroke-linecap:butt; stroke-linejoin:round; stroke-width:2; stroke-opacity:0.1; fill:none\" points=\"\n  1751.54,1486.45 1751.54,47.2441 \n  \"/>\n<polyline clip-path=\"url(#clip062)\" style=\"stroke:#000000; stroke-linecap:butt; stroke-linejoin:round; stroke-width:2; stroke-opacity:0.1; fill:none\" points=\"\n  2291.23,1486.45 2291.23,47.2441 \n  \"/>\n<polyline clip-path=\"url(#clip060)\" style=\"stroke:#000000; stroke-linecap:butt; stroke-linejoin:round; stroke-width:4; stroke-opacity:1; fill:none\" points=\"\n  178.867,1486.45 2352.76,1486.45 \n  \"/>\n<polyline clip-path=\"url(#clip060)\" style=\"stroke:#000000; stroke-linecap:butt; stroke-linejoin:round; stroke-width:4; stroke-opacity:1; fill:none\" points=\"\n  672.147,1486.45 672.147,1467.55 \n  \"/>\n<polyline clip-path=\"url(#clip060)\" style=\"stroke:#000000; stroke-linecap:butt; stroke-linejoin:round; stroke-width:4; stroke-opacity:1; fill:none\" points=\"\n  1211.84,1486.45 1211.84,1467.55 \n  \"/>\n<polyline clip-path=\"url(#clip060)\" style=\"stroke:#000000; stroke-linecap:butt; stroke-linejoin:round; stroke-width:4; stroke-opacity:1; fill:none\" points=\"\n  1751.54,1486.45 1751.54,1467.55 \n  \"/>\n<polyline clip-path=\"url(#clip060)\" style=\"stroke:#000000; stroke-linecap:butt; stroke-linejoin:round; stroke-width:4; stroke-opacity:1; fill:none\" points=\"\n  2291.23,1486.45 2291.23,1467.55 \n  \"/>\n<path clip-path=\"url(#clip060)\" d=\"M662.425 1514.29 L680.782 1514.29 L680.782 1518.22 L666.708 1518.22 L666.708 1526.7 Q667.726 1526.35 668.745 1526.19 Q669.763 1526 670.782 1526 Q676.569 1526 679.948 1529.17 Q683.328 1532.34 683.328 1537.76 Q683.328 1543.34 679.856 1546.44 Q676.383 1549.52 670.064 1549.52 Q667.888 1549.52 665.62 1549.15 Q663.374 1548.78 660.967 1548.04 L660.967 1543.34 Q663.05 1544.47 665.272 1545.03 Q667.495 1545.58 669.971 1545.58 Q673.976 1545.58 676.314 1543.48 Q678.652 1541.37 678.652 1537.76 Q678.652 1534.15 676.314 1532.04 Q673.976 1529.94 669.971 1529.94 Q668.096 1529.94 666.221 1530.35 Q664.37 1530.77 662.425 1531.65 L662.425 1514.29 Z\" fill=\"#000000\" fill-rule=\"evenodd\" fill-opacity=\"1\" /><path clip-path=\"url(#clip060)\" d=\"M1186.53 1544.91 L1194.17 1544.91 L1194.17 1518.55 L1185.86 1520.21 L1185.86 1515.95 L1194.12 1514.29 L1198.8 1514.29 L1198.8 1544.91 L1206.44 1544.91 L1206.44 1548.85 L1186.53 1548.85 L1186.53 1544.91 Z\" fill=\"#000000\" fill-rule=\"evenodd\" fill-opacity=\"1\" /><path clip-path=\"url(#clip060)\" d=\"M1225.88 1517.37 Q1222.27 1517.37 1220.44 1520.93 Q1218.64 1524.47 1218.64 1531.6 Q1218.64 1538.71 1220.44 1542.27 Q1222.27 1545.82 1225.88 1545.82 Q1229.52 1545.82 1231.32 1542.27 Q1233.15 1538.71 1233.15 1531.6 Q1233.15 1524.47 1231.32 1520.93 Q1229.52 1517.37 1225.88 1517.37 M1225.88 1513.66 Q1231.69 1513.66 1234.75 1518.27 Q1237.83 1522.85 1237.83 1531.6 Q1237.83 1540.33 1234.75 1544.94 Q1231.69 1549.52 1225.88 1549.52 Q1220.07 1549.52 1216.99 1544.94 Q1213.94 1540.33 1213.94 1531.6 Q1213.94 1522.85 1216.99 1518.27 Q1220.07 1513.66 1225.88 1513.66 Z\" fill=\"#000000\" fill-rule=\"evenodd\" fill-opacity=\"1\" /><path clip-path=\"url(#clip060)\" d=\"M1726.72 1544.91 L1734.36 1544.91 L1734.36 1518.55 L1726.05 1520.21 L1726.05 1515.95 L1734.31 1514.29 L1738.99 1514.29 L1738.99 1544.91 L1746.63 1544.91 L1746.63 1548.85 L1726.72 1548.85 L1726.72 1544.91 Z\" fill=\"#000000\" fill-rule=\"evenodd\" fill-opacity=\"1\" /><path clip-path=\"url(#clip060)\" d=\"M1756.12 1514.29 L1774.48 1514.29 L1774.48 1518.22 L1760.4 1518.22 L1760.4 1526.7 Q1761.42 1526.35 1762.44 1526.19 Q1763.46 1526 1764.48 1526 Q1770.26 1526 1773.64 1529.17 Q1777.02 1532.34 1777.02 1537.76 Q1777.02 1543.34 1773.55 1546.44 Q1770.08 1549.52 1763.76 1549.52 Q1761.58 1549.52 1759.31 1549.15 Q1757.07 1548.78 1754.66 1548.04 L1754.66 1543.34 Q1756.74 1544.47 1758.97 1545.03 Q1761.19 1545.58 1763.67 1545.58 Q1767.67 1545.58 1770.01 1543.48 Q1772.35 1541.37 1772.35 1537.76 Q1772.35 1534.15 1770.01 1532.04 Q1767.67 1529.94 1763.67 1529.94 Q1761.79 1529.94 1759.92 1530.35 Q1758.06 1530.77 1756.12 1531.65 L1756.12 1514.29 Z\" fill=\"#000000\" fill-rule=\"evenodd\" fill-opacity=\"1\" /><path clip-path=\"url(#clip060)\" d=\"M2270 1544.91 L2286.32 1544.91 L2286.32 1548.85 L2264.38 1548.85 L2264.38 1544.91 Q2267.04 1542.16 2271.62 1537.53 Q2276.23 1532.88 2277.41 1531.53 Q2279.66 1529.01 2280.54 1527.27 Q2281.44 1525.51 2281.44 1523.82 Q2281.44 1521.07 2279.49 1519.33 Q2277.57 1517.6 2274.47 1517.6 Q2272.27 1517.6 2269.82 1518.36 Q2267.39 1519.13 2264.61 1520.68 L2264.61 1515.95 Q2267.43 1514.82 2269.89 1514.24 Q2272.34 1513.66 2274.38 1513.66 Q2279.75 1513.66 2282.94 1516.35 Q2286.14 1519.03 2286.14 1523.52 Q2286.14 1525.65 2285.33 1527.57 Q2284.54 1529.47 2282.43 1532.07 Q2281.86 1532.74 2278.75 1535.95 Q2275.65 1539.15 2270 1544.91 Z\" fill=\"#000000\" fill-rule=\"evenodd\" fill-opacity=\"1\" /><path clip-path=\"url(#clip060)\" d=\"M2306.14 1517.37 Q2302.53 1517.37 2300.7 1520.93 Q2298.89 1524.47 2298.89 1531.6 Q2298.89 1538.71 2300.7 1542.27 Q2302.53 1545.82 2306.14 1545.82 Q2309.77 1545.82 2311.58 1542.27 Q2313.41 1538.71 2313.41 1531.6 Q2313.41 1524.47 2311.58 1520.93 Q2309.77 1517.37 2306.14 1517.37 M2306.14 1513.66 Q2311.95 1513.66 2315 1518.27 Q2318.08 1522.85 2318.08 1531.6 Q2318.08 1540.33 2315 1544.94 Q2311.95 1549.52 2306.14 1549.52 Q2300.33 1549.52 2297.25 1544.94 Q2294.19 1540.33 2294.19 1531.6 Q2294.19 1522.85 2297.25 1518.27 Q2300.33 1513.66 2306.14 1513.66 Z\" fill=\"#000000\" fill-rule=\"evenodd\" fill-opacity=\"1\" /><polyline clip-path=\"url(#clip062)\" style=\"stroke:#000000; stroke-linecap:butt; stroke-linejoin:round; stroke-width:2; stroke-opacity:0.1; fill:none\" points=\"\n  178.867,1484.54 2352.76,1484.54 \n  \"/>\n<polyline clip-path=\"url(#clip062)\" style=\"stroke:#000000; stroke-linecap:butt; stroke-linejoin:round; stroke-width:2; stroke-opacity:0.1; fill:none\" points=\"\n  178.867,1019.02 2352.76,1019.02 \n  \"/>\n<polyline clip-path=\"url(#clip062)\" style=\"stroke:#000000; stroke-linecap:butt; stroke-linejoin:round; stroke-width:2; stroke-opacity:0.1; fill:none\" points=\"\n  178.867,553.497 2352.76,553.497 \n  \"/>\n<polyline clip-path=\"url(#clip062)\" style=\"stroke:#000000; stroke-linecap:butt; stroke-linejoin:round; stroke-width:2; stroke-opacity:0.1; fill:none\" points=\"\n  178.867,87.9763 2352.76,87.9763 \n  \"/>\n<polyline clip-path=\"url(#clip060)\" style=\"stroke:#000000; stroke-linecap:butt; stroke-linejoin:round; stroke-width:4; stroke-opacity:1; fill:none\" points=\"\n  178.867,1486.45 178.867,47.2441 \n  \"/>\n<polyline clip-path=\"url(#clip060)\" style=\"stroke:#000000; stroke-linecap:butt; stroke-linejoin:round; stroke-width:4; stroke-opacity:1; fill:none\" points=\"\n  178.867,1484.54 197.764,1484.54 \n  \"/>\n<polyline clip-path=\"url(#clip060)\" style=\"stroke:#000000; stroke-linecap:butt; stroke-linejoin:round; stroke-width:4; stroke-opacity:1; fill:none\" points=\"\n  178.867,1019.02 197.764,1019.02 \n  \"/>\n<polyline clip-path=\"url(#clip060)\" style=\"stroke:#000000; stroke-linecap:butt; stroke-linejoin:round; stroke-width:4; stroke-opacity:1; fill:none\" points=\"\n  178.867,553.497 197.764,553.497 \n  \"/>\n<polyline clip-path=\"url(#clip060)\" style=\"stroke:#000000; stroke-linecap:butt; stroke-linejoin:round; stroke-width:4; stroke-opacity:1; fill:none\" points=\"\n  178.867,87.9763 197.764,87.9763 \n  \"/>\n<path clip-path=\"url(#clip060)\" d=\"M51.9875 1484.99 L81.6633 1484.99 L81.6633 1488.93 L51.9875 1488.93 L51.9875 1484.99 Z\" fill=\"#000000\" fill-rule=\"evenodd\" fill-opacity=\"1\" /><path clip-path=\"url(#clip060)\" d=\"M92.566 1497.88 L100.205 1497.88 L100.205 1471.52 L91.8947 1473.19 L91.8947 1468.93 L100.159 1467.26 L104.834 1467.26 L104.834 1497.88 L112.473 1497.88 L112.473 1501.82 L92.566 1501.82 L92.566 1497.88 Z\" fill=\"#000000\" fill-rule=\"evenodd\" fill-opacity=\"1\" /><path clip-path=\"url(#clip060)\" d=\"M121.964 1467.26 L140.32 1467.26 L140.32 1471.19 L126.246 1471.19 L126.246 1479.67 Q127.265 1479.32 128.283 1479.16 Q129.302 1478.97 130.32 1478.97 Q136.107 1478.97 139.487 1482.14 Q142.867 1485.32 142.867 1490.73 Q142.867 1496.31 139.394 1499.41 Q135.922 1502.49 129.603 1502.49 Q127.427 1502.49 125.158 1502.12 Q122.913 1501.75 120.506 1501.01 L120.506 1496.31 Q122.589 1497.44 124.811 1498 Q127.033 1498.56 129.51 1498.56 Q133.515 1498.56 135.853 1496.45 Q138.191 1494.34 138.191 1490.73 Q138.191 1487.12 135.853 1485.01 Q133.515 1482.91 129.51 1482.91 Q127.635 1482.91 125.76 1483.32 Q123.908 1483.74 121.964 1484.62 L121.964 1467.26 Z\" fill=\"#000000\" fill-rule=\"evenodd\" fill-opacity=\"1\" /><path clip-path=\"url(#clip060)\" d=\"M50.9921 1019.47 L80.6679 1019.47 L80.6679 1023.41 L50.9921 1023.41 L50.9921 1019.47 Z\" fill=\"#000000\" fill-rule=\"evenodd\" fill-opacity=\"1\" /><path clip-path=\"url(#clip060)\" d=\"M91.5706 1032.36 L99.2095 1032.36 L99.2095 1006 L90.8993 1007.66 L90.8993 1003.41 L99.1632 1001.74 L103.839 1001.74 L103.839 1032.36 L111.478 1032.36 L111.478 1036.3 L91.5706 1036.3 L91.5706 1032.36 Z\" fill=\"#000000\" fill-rule=\"evenodd\" fill-opacity=\"1\" /><path clip-path=\"url(#clip060)\" d=\"M130.922 1004.82 Q127.311 1004.82 125.482 1008.38 Q123.677 1011.92 123.677 1019.05 Q123.677 1026.16 125.482 1029.72 Q127.311 1033.27 130.922 1033.27 Q134.556 1033.27 136.362 1029.72 Q138.191 1026.16 138.191 1019.05 Q138.191 1011.92 136.362 1008.38 Q134.556 1004.82 130.922 1004.82 M130.922 1001.11 Q136.732 1001.11 139.788 1005.72 Q142.867 1010.3 142.867 1019.05 Q142.867 1027.78 139.788 1032.39 Q136.732 1036.97 130.922 1036.97 Q125.112 1036.97 122.033 1032.39 Q118.978 1027.78 118.978 1019.05 Q118.978 1010.3 122.033 1005.72 Q125.112 1001.11 130.922 1001.11 Z\" fill=\"#000000\" fill-rule=\"evenodd\" fill-opacity=\"1\" /><path clip-path=\"url(#clip060)\" d=\"M82.1494 553.949 L111.825 553.949 L111.825 557.884 L82.1494 557.884 L82.1494 553.949 Z\" fill=\"#000000\" fill-rule=\"evenodd\" fill-opacity=\"1\" /><path clip-path=\"url(#clip060)\" d=\"M121.964 536.217 L140.32 536.217 L140.32 540.153 L126.246 540.153 L126.246 548.625 Q127.265 548.278 128.283 548.115 Q129.302 547.93 130.32 547.93 Q136.107 547.93 139.487 551.102 Q142.867 554.273 142.867 559.69 Q142.867 565.268 139.394 568.37 Q135.922 571.449 129.603 571.449 Q127.427 571.449 125.158 571.078 Q122.913 570.708 120.506 569.967 L120.506 565.268 Q122.589 566.402 124.811 566.958 Q127.033 567.514 129.51 567.514 Q133.515 567.514 135.853 565.407 Q138.191 563.301 138.191 559.69 Q138.191 556.078 135.853 553.972 Q133.515 551.865 129.51 551.865 Q127.635 551.865 125.76 552.282 Q123.908 552.699 121.964 553.578 L121.964 536.217 Z\" fill=\"#000000\" fill-rule=\"evenodd\" fill-opacity=\"1\" /><path clip-path=\"url(#clip060)\" d=\"M130.922 73.775 Q127.311 73.775 125.482 77.3398 Q123.677 80.8814 123.677 88.011 Q123.677 95.1174 125.482 98.6822 Q127.311 102.224 130.922 102.224 Q134.556 102.224 136.362 98.6822 Q138.191 95.1174 138.191 88.011 Q138.191 80.8814 136.362 77.3398 Q134.556 73.775 130.922 73.775 M130.922 70.0713 Q136.732 70.0713 139.788 74.6777 Q142.867 79.261 142.867 88.011 Q142.867 96.7378 139.788 101.344 Q136.732 105.928 130.922 105.928 Q125.112 105.928 122.033 101.344 Q118.978 96.7378 118.978 88.011 Q118.978 79.261 122.033 74.6777 Q125.112 70.0713 130.922 70.0713 Z\" fill=\"#000000\" fill-rule=\"evenodd\" fill-opacity=\"1\" /><circle clip-path=\"url(#clip062)\" cx=\"240.392\" cy=\"1445.72\" r=\"18\" fill=\"#009af9\" fill-rule=\"evenodd\" fill-opacity=\"1\" stroke=\"#000000\" stroke-opacity=\"1\" stroke-width=\"3.2\"/>\n<circle clip-path=\"url(#clip062)\" cx=\"348.331\" cy=\"690.559\" r=\"18\" fill=\"#009af9\" fill-rule=\"evenodd\" fill-opacity=\"1\" stroke=\"#000000\" stroke-opacity=\"1\" stroke-width=\"3.2\"/>\n<circle clip-path=\"url(#clip062)\" cx=\"456.27\" cy=\"690.559\" r=\"18\" fill=\"#009af9\" fill-rule=\"evenodd\" fill-opacity=\"1\" stroke=\"#000000\" stroke-opacity=\"1\" stroke-width=\"3.2\"/>\n<circle clip-path=\"url(#clip062)\" cx=\"564.208\" cy=\"690.559\" r=\"18\" fill=\"#009af9\" fill-rule=\"evenodd\" fill-opacity=\"1\" stroke=\"#000000\" stroke-opacity=\"1\" stroke-width=\"3.2\"/>\n<circle clip-path=\"url(#clip062)\" cx=\"672.147\" cy=\"690.559\" r=\"18\" fill=\"#009af9\" fill-rule=\"evenodd\" fill-opacity=\"1\" stroke=\"#000000\" stroke-opacity=\"1\" stroke-width=\"3.2\"/>\n<circle clip-path=\"url(#clip062)\" cx=\"780.086\" cy=\"690.559\" r=\"18\" fill=\"#009af9\" fill-rule=\"evenodd\" fill-opacity=\"1\" stroke=\"#000000\" stroke-opacity=\"1\" stroke-width=\"3.2\"/>\n<circle clip-path=\"url(#clip062)\" cx=\"888.025\" cy=\"690.559\" r=\"18\" fill=\"#009af9\" fill-rule=\"evenodd\" fill-opacity=\"1\" stroke=\"#000000\" stroke-opacity=\"1\" stroke-width=\"3.2\"/>\n<circle clip-path=\"url(#clip062)\" cx=\"995.964\" cy=\"690.559\" r=\"18\" fill=\"#009af9\" fill-rule=\"evenodd\" fill-opacity=\"1\" stroke=\"#000000\" stroke-opacity=\"1\" stroke-width=\"3.2\"/>\n<circle clip-path=\"url(#clip062)\" cx=\"1103.9\" cy=\"690.559\" r=\"18\" fill=\"#009af9\" fill-rule=\"evenodd\" fill-opacity=\"1\" stroke=\"#000000\" stroke-opacity=\"1\" stroke-width=\"3.2\"/>\n<circle clip-path=\"url(#clip062)\" cx=\"1211.84\" cy=\"690.559\" r=\"18\" fill=\"#009af9\" fill-rule=\"evenodd\" fill-opacity=\"1\" stroke=\"#000000\" stroke-opacity=\"1\" stroke-width=\"3.2\"/>\n<circle clip-path=\"url(#clip062)\" cx=\"1319.78\" cy=\"394.429\" r=\"18\" fill=\"#009af9\" fill-rule=\"evenodd\" fill-opacity=\"1\" stroke=\"#000000\" stroke-opacity=\"1\" stroke-width=\"3.2\"/>\n<circle clip-path=\"url(#clip062)\" cx=\"1427.72\" cy=\"394.429\" r=\"18\" fill=\"#009af9\" fill-rule=\"evenodd\" fill-opacity=\"1\" stroke=\"#000000\" stroke-opacity=\"1\" stroke-width=\"3.2\"/>\n<circle clip-path=\"url(#clip062)\" cx=\"1535.66\" cy=\"87.9763\" r=\"18\" fill=\"#009af9\" fill-rule=\"evenodd\" fill-opacity=\"1\" stroke=\"#000000\" stroke-opacity=\"1\" stroke-width=\"3.2\"/>\n<circle clip-path=\"url(#clip062)\" cx=\"1643.6\" cy=\"87.9763\" r=\"18\" fill=\"#009af9\" fill-rule=\"evenodd\" fill-opacity=\"1\" stroke=\"#000000\" stroke-opacity=\"1\" stroke-width=\"3.2\"/>\n<circle clip-path=\"url(#clip062)\" cx=\"1751.54\" cy=\"87.9763\" r=\"18\" fill=\"#009af9\" fill-rule=\"evenodd\" fill-opacity=\"1\" stroke=\"#000000\" stroke-opacity=\"1\" stroke-width=\"3.2\"/>\n<circle clip-path=\"url(#clip062)\" cx=\"1859.48\" cy=\"87.9763\" r=\"18\" fill=\"#009af9\" fill-rule=\"evenodd\" fill-opacity=\"1\" stroke=\"#000000\" stroke-opacity=\"1\" stroke-width=\"3.2\"/>\n<circle clip-path=\"url(#clip062)\" cx=\"1967.41\" cy=\"87.9763\" r=\"18\" fill=\"#009af9\" fill-rule=\"evenodd\" fill-opacity=\"1\" stroke=\"#000000\" stroke-opacity=\"1\" stroke-width=\"3.2\"/>\n<circle clip-path=\"url(#clip062)\" cx=\"2075.35\" cy=\"87.9763\" r=\"18\" fill=\"#009af9\" fill-rule=\"evenodd\" fill-opacity=\"1\" stroke=\"#000000\" stroke-opacity=\"1\" stroke-width=\"3.2\"/>\n<circle clip-path=\"url(#clip062)\" cx=\"2183.29\" cy=\"87.9763\" r=\"18\" fill=\"#009af9\" fill-rule=\"evenodd\" fill-opacity=\"1\" stroke=\"#000000\" stroke-opacity=\"1\" stroke-width=\"3.2\"/>\n<circle clip-path=\"url(#clip062)\" cx=\"2291.23\" cy=\"87.9763\" r=\"18\" fill=\"#009af9\" fill-rule=\"evenodd\" fill-opacity=\"1\" stroke=\"#000000\" stroke-opacity=\"1\" stroke-width=\"3.2\"/>\n</svg>\n"
     },
     "execution_count": 11,
     "metadata": {},
     "output_type": "execute_result"
    }
   ],
   "source": [
    "y = eigenenergies(dense(HC_Hamiltonian_MB))[1:20]\n",
    "x=1:length(y)\n",
    "gr()\n",
    "plot(x, y, seriestype = :scatter, markersize = 5, legend=false)"
   ]
  },
  {
   "cell_type": "markdown",
   "id": "88af941d",
   "metadata": {},
   "source": [
    "# Bose-Hubbard Model"
   ]
  },
  {
   "cell_type": "markdown",
   "id": "2158a4cb",
   "metadata": {},
   "source": [
    "\\begin{equation}\n",
    "H = -t \\sum_{<ij>} \\left( b_i^\\dagger b_j + h.c. \\right) + U/2 \\sum_i n_i \\left( n_i -1\\right)\n",
    "\\end{equation}"
   ]
  },
  {
   "cell_type": "code",
   "execution_count": 12,
   "id": "6ba83da1",
   "metadata": {},
   "outputs": [
    {
     "data": {
      "text/plain": [
       "NLevel(N=12)"
      ]
     },
     "execution_count": 12,
     "metadata": {},
     "output_type": "execute_result"
    }
   ],
   "source": [
    "NBasis"
   ]
  },
  {
   "cell_type": "code",
   "execution_count": 13,
   "id": "33d823c9",
   "metadata": {},
   "outputs": [
    {
     "data": {
      "text/plain": [
       "78-element Vector{Vector{Int64}}:\n",
       " [2, 0, 0, 0, 0, 0, 0, 0, 0, 0, 0, 0]\n",
       " [1, 1, 0, 0, 0, 0, 0, 0, 0, 0, 0, 0]\n",
       " [1, 0, 1, 0, 0, 0, 0, 0, 0, 0, 0, 0]\n",
       " [1, 0, 0, 1, 0, 0, 0, 0, 0, 0, 0, 0]\n",
       " [1, 0, 0, 0, 1, 0, 0, 0, 0, 0, 0, 0]\n",
       " [1, 0, 0, 0, 0, 1, 0, 0, 0, 0, 0, 0]\n",
       " [1, 0, 0, 0, 0, 0, 1, 0, 0, 0, 0, 0]\n",
       " [1, 0, 0, 0, 0, 0, 0, 1, 0, 0, 0, 0]\n",
       " [1, 0, 0, 0, 0, 0, 0, 0, 1, 0, 0, 0]\n",
       " [1, 0, 0, 0, 0, 0, 0, 0, 0, 1, 0, 0]\n",
       " [1, 0, 0, 0, 0, 0, 0, 0, 0, 0, 1, 0]\n",
       " [1, 0, 0, 0, 0, 0, 0, 0, 0, 0, 0, 1]\n",
       " [0, 2, 0, 0, 0, 0, 0, 0, 0, 0, 0, 0]\n",
       " ⋮\n",
       " [0, 0, 0, 0, 0, 0, 0, 1, 0, 0, 1, 0]\n",
       " [0, 0, 0, 0, 0, 0, 0, 1, 0, 0, 0, 1]\n",
       " [0, 0, 0, 0, 0, 0, 0, 0, 2, 0, 0, 0]\n",
       " [0, 0, 0, 0, 0, 0, 0, 0, 1, 1, 0, 0]\n",
       " [0, 0, 0, 0, 0, 0, 0, 0, 1, 0, 1, 0]\n",
       " [0, 0, 0, 0, 0, 0, 0, 0, 1, 0, 0, 1]\n",
       " [0, 0, 0, 0, 0, 0, 0, 0, 0, 2, 0, 0]\n",
       " [0, 0, 0, 0, 0, 0, 0, 0, 0, 1, 1, 0]\n",
       " [0, 0, 0, 0, 0, 0, 0, 0, 0, 1, 0, 1]\n",
       " [0, 0, 0, 0, 0, 0, 0, 0, 0, 0, 2, 0]\n",
       " [0, 0, 0, 0, 0, 0, 0, 0, 0, 0, 1, 1]\n",
       " [0, 0, 0, 0, 0, 0, 0, 0, 0, 0, 0, 2]"
      ]
     },
     "execution_count": 13,
     "metadata": {},
     "output_type": "execute_result"
    }
   ],
   "source": [
    "#All of states in N Fock Space\n",
    "PN=2\n",
    "NStates = bosonstates(NBasis, [PN]) \n",
    "#Define Maximum Occupation Number (Total Particle Number) for Many-Body Basis"
   ]
  },
  {
   "cell_type": "code",
   "execution_count": 14,
   "id": "c08747ef",
   "metadata": {},
   "outputs": [
    {
     "name": "stdout",
     "output_type": "stream",
     "text": [
      "The Number of Sites=12, The Number of Particles=2\n"
     ]
    }
   ],
   "source": [
    "println(\"The Number of Sites=\",N,\", The Number of Particles=\", PN)"
   ]
  },
  {
   "cell_type": "code",
   "execution_count": 15,
   "id": "cb743ff1",
   "metadata": {},
   "outputs": [
    {
     "data": {
      "text/plain": [
       "ManyBody(onebodybasis=NLevel(N=12), states:78)"
      ]
     },
     "execution_count": 15,
     "metadata": {},
     "output_type": "execute_result"
    }
   ],
   "source": [
    "#Create Many-Body Basis in Fock Space\n",
    "NBasis_MB = ManyBodyBasis(NBasis, NStates)"
   ]
  },
  {
   "cell_type": "code",
   "execution_count": 16,
   "id": "111521ac",
   "metadata": {},
   "outputs": [
    {
     "data": {
      "text/plain": [
       "78-element Vector{Float64}:\n",
       " -15.84966235825959\n",
       "  -7.719046777230443\n",
       "  -7.719046777230441\n",
       "  -7.719046777230441\n",
       "  -7.719046777230441\n",
       "  -7.7190467772304405\n",
       "  -7.719046777230439\n",
       "  -7.719046777230437\n",
       "  -7.719046777230436\n",
       "  -7.71904677723043\n",
       "  -3.76404108971414\n",
       "  -3.7640410897141314\n",
       "  -2.748695246059756e-15\n",
       "   ⋮\n",
       "   4.8673292595665725\n",
       "   4.8673292595665725\n",
       "   4.867329259566575\n",
       "   4.867329259566575\n",
       "   4.867329259566575\n",
       "   4.867329259566576\n",
       "   4.867329259566577\n",
       "   4.867329259566579\n",
       "   4.867329259566585\n",
       "   8.2109652330526\n",
       "   8.21096523305261\n",
       "   8.409101464520328"
      ]
     },
     "execution_count": 16,
     "metadata": {},
     "output_type": "execute_result"
    }
   ],
   "source": [
    "#Bose-Hubbard Model for Kagome\n",
    "#On-Site Potantiel Term\n",
    "U=2\n",
    "#Kinetic term\n",
    "KT = SparseOperator(NBasis_MB)\n",
    "#Interaction term\n",
    "IT = SparseOperator(NBasis_MB)\n",
    "for m in 1:N\n",
    "    # Occupation (total particle) Operator: number()\n",
    "    IT = IT + U/2 * number(NBasis_MB, m) * ( number(NBasis_MB, m) - identityoperator(NBasis_MB) ) \n",
    "    for n in 1:N\n",
    "        KT = KT + H[m,n] * transition(NBasis_MB, m, n)\n",
    "    end\n",
    "end\n",
    "MB_Hamiltonian = KT + IT\n",
    "#Energies of Many-Body Hamiltonian with On-Site Interaction\n",
    "eigenenergies(dense(MB_Hamiltonian))"
   ]
  },
  {
   "cell_type": "code",
   "execution_count": 18,
   "id": "c2e14640",
   "metadata": {},
   "outputs": [
    {
     "data": {
      "image/svg+xml": "<?xml version=\"1.0\" encoding=\"utf-8\"?>\n<svg xmlns=\"http://www.w3.org/2000/svg\" xmlns:xlink=\"http://www.w3.org/1999/xlink\" width=\"600\" height=\"400\" viewBox=\"0 0 2400 1600\">\n<defs>\n  <clipPath id=\"clip140\">\n    <rect x=\"0\" y=\"0\" width=\"2400\" height=\"1600\"/>\n  </clipPath>\n</defs>\n<path clip-path=\"url(#clip140)\" d=\"\nM0 1600 L2400 1600 L2400 0 L0 0  Z\n  \" fill=\"#ffffff\" fill-rule=\"evenodd\" fill-opacity=\"1\"/>\n<defs>\n  <clipPath id=\"clip141\">\n    <rect x=\"480\" y=\"0\" width=\"1681\" height=\"1600\"/>\n  </clipPath>\n</defs>\n<path clip-path=\"url(#clip140)\" d=\"\nM178.867 1486.45 L2352.76 1486.45 L2352.76 47.2441 L178.867 47.2441  Z\n  \" fill=\"#ffffff\" fill-rule=\"evenodd\" fill-opacity=\"1\"/>\n<defs>\n  <clipPath id=\"clip142\">\n    <rect x=\"178\" y=\"47\" width=\"2175\" height=\"1440\"/>\n  </clipPath>\n</defs>\n<polyline clip-path=\"url(#clip142)\" style=\"stroke:#000000; stroke-linecap:butt; stroke-linejoin:round; stroke-width:2; stroke-opacity:0.1; fill:none\" points=\"\n  672.147,1486.45 672.147,47.2441 \n  \"/>\n<polyline clip-path=\"url(#clip142)\" style=\"stroke:#000000; stroke-linecap:butt; stroke-linejoin:round; stroke-width:2; stroke-opacity:0.1; fill:none\" points=\"\n  1211.84,1486.45 1211.84,47.2441 \n  \"/>\n<polyline clip-path=\"url(#clip142)\" style=\"stroke:#000000; stroke-linecap:butt; stroke-linejoin:round; stroke-width:2; stroke-opacity:0.1; fill:none\" points=\"\n  1751.54,1486.45 1751.54,47.2441 \n  \"/>\n<polyline clip-path=\"url(#clip142)\" style=\"stroke:#000000; stroke-linecap:butt; stroke-linejoin:round; stroke-width:2; stroke-opacity:0.1; fill:none\" points=\"\n  2291.23,1486.45 2291.23,47.2441 \n  \"/>\n<polyline clip-path=\"url(#clip140)\" style=\"stroke:#000000; stroke-linecap:butt; stroke-linejoin:round; stroke-width:4; stroke-opacity:1; fill:none\" points=\"\n  178.867,1486.45 2352.76,1486.45 \n  \"/>\n<polyline clip-path=\"url(#clip140)\" style=\"stroke:#000000; stroke-linecap:butt; stroke-linejoin:round; stroke-width:4; stroke-opacity:1; fill:none\" points=\"\n  672.147,1486.45 672.147,1467.55 \n  \"/>\n<polyline clip-path=\"url(#clip140)\" style=\"stroke:#000000; stroke-linecap:butt; stroke-linejoin:round; stroke-width:4; stroke-opacity:1; fill:none\" points=\"\n  1211.84,1486.45 1211.84,1467.55 \n  \"/>\n<polyline clip-path=\"url(#clip140)\" style=\"stroke:#000000; stroke-linecap:butt; stroke-linejoin:round; stroke-width:4; stroke-opacity:1; fill:none\" points=\"\n  1751.54,1486.45 1751.54,1467.55 \n  \"/>\n<polyline clip-path=\"url(#clip140)\" style=\"stroke:#000000; stroke-linecap:butt; stroke-linejoin:round; stroke-width:4; stroke-opacity:1; fill:none\" points=\"\n  2291.23,1486.45 2291.23,1467.55 \n  \"/>\n<path clip-path=\"url(#clip140)\" d=\"M662.425 1514.29 L680.782 1514.29 L680.782 1518.22 L666.708 1518.22 L666.708 1526.7 Q667.726 1526.35 668.745 1526.19 Q669.763 1526 670.782 1526 Q676.569 1526 679.948 1529.17 Q683.328 1532.34 683.328 1537.76 Q683.328 1543.34 679.856 1546.44 Q676.383 1549.52 670.064 1549.52 Q667.888 1549.52 665.62 1549.15 Q663.374 1548.78 660.967 1548.04 L660.967 1543.34 Q663.05 1544.47 665.272 1545.03 Q667.495 1545.58 669.971 1545.58 Q673.976 1545.58 676.314 1543.48 Q678.652 1541.37 678.652 1537.76 Q678.652 1534.15 676.314 1532.04 Q673.976 1529.94 669.971 1529.94 Q668.096 1529.94 666.221 1530.35 Q664.37 1530.77 662.425 1531.65 L662.425 1514.29 Z\" fill=\"#000000\" fill-rule=\"evenodd\" fill-opacity=\"1\" /><path clip-path=\"url(#clip140)\" d=\"M1186.53 1544.91 L1194.17 1544.91 L1194.17 1518.55 L1185.86 1520.21 L1185.86 1515.95 L1194.12 1514.29 L1198.8 1514.29 L1198.8 1544.91 L1206.44 1544.91 L1206.44 1548.85 L1186.53 1548.85 L1186.53 1544.91 Z\" fill=\"#000000\" fill-rule=\"evenodd\" fill-opacity=\"1\" /><path clip-path=\"url(#clip140)\" d=\"M1225.88 1517.37 Q1222.27 1517.37 1220.44 1520.93 Q1218.64 1524.47 1218.64 1531.6 Q1218.64 1538.71 1220.44 1542.27 Q1222.27 1545.82 1225.88 1545.82 Q1229.52 1545.82 1231.32 1542.27 Q1233.15 1538.71 1233.15 1531.6 Q1233.15 1524.47 1231.32 1520.93 Q1229.52 1517.37 1225.88 1517.37 M1225.88 1513.66 Q1231.69 1513.66 1234.75 1518.27 Q1237.83 1522.85 1237.83 1531.6 Q1237.83 1540.33 1234.75 1544.94 Q1231.69 1549.52 1225.88 1549.52 Q1220.07 1549.52 1216.99 1544.94 Q1213.94 1540.33 1213.94 1531.6 Q1213.94 1522.85 1216.99 1518.27 Q1220.07 1513.66 1225.88 1513.66 Z\" fill=\"#000000\" fill-rule=\"evenodd\" fill-opacity=\"1\" /><path clip-path=\"url(#clip140)\" d=\"M1726.72 1544.91 L1734.36 1544.91 L1734.36 1518.55 L1726.05 1520.21 L1726.05 1515.95 L1734.31 1514.29 L1738.99 1514.29 L1738.99 1544.91 L1746.63 1544.91 L1746.63 1548.85 L1726.72 1548.85 L1726.72 1544.91 Z\" fill=\"#000000\" fill-rule=\"evenodd\" fill-opacity=\"1\" /><path clip-path=\"url(#clip140)\" d=\"M1756.12 1514.29 L1774.48 1514.29 L1774.48 1518.22 L1760.4 1518.22 L1760.4 1526.7 Q1761.42 1526.35 1762.44 1526.19 Q1763.46 1526 1764.48 1526 Q1770.26 1526 1773.64 1529.17 Q1777.02 1532.34 1777.02 1537.76 Q1777.02 1543.34 1773.55 1546.44 Q1770.08 1549.52 1763.76 1549.52 Q1761.58 1549.52 1759.31 1549.15 Q1757.07 1548.78 1754.66 1548.04 L1754.66 1543.34 Q1756.74 1544.47 1758.97 1545.03 Q1761.19 1545.58 1763.67 1545.58 Q1767.67 1545.58 1770.01 1543.48 Q1772.35 1541.37 1772.35 1537.76 Q1772.35 1534.15 1770.01 1532.04 Q1767.67 1529.94 1763.67 1529.94 Q1761.79 1529.94 1759.92 1530.35 Q1758.06 1530.77 1756.12 1531.65 L1756.12 1514.29 Z\" fill=\"#000000\" fill-rule=\"evenodd\" fill-opacity=\"1\" /><path clip-path=\"url(#clip140)\" d=\"M2270 1544.91 L2286.32 1544.91 L2286.32 1548.85 L2264.38 1548.85 L2264.38 1544.91 Q2267.04 1542.16 2271.62 1537.53 Q2276.23 1532.88 2277.41 1531.53 Q2279.66 1529.01 2280.54 1527.27 Q2281.44 1525.51 2281.44 1523.82 Q2281.44 1521.07 2279.49 1519.33 Q2277.57 1517.6 2274.47 1517.6 Q2272.27 1517.6 2269.82 1518.36 Q2267.39 1519.13 2264.61 1520.68 L2264.61 1515.95 Q2267.43 1514.82 2269.89 1514.24 Q2272.34 1513.66 2274.38 1513.66 Q2279.75 1513.66 2282.94 1516.35 Q2286.14 1519.03 2286.14 1523.52 Q2286.14 1525.65 2285.33 1527.57 Q2284.54 1529.47 2282.43 1532.07 Q2281.86 1532.74 2278.75 1535.95 Q2275.65 1539.15 2270 1544.91 Z\" fill=\"#000000\" fill-rule=\"evenodd\" fill-opacity=\"1\" /><path clip-path=\"url(#clip140)\" d=\"M2306.14 1517.37 Q2302.53 1517.37 2300.7 1520.93 Q2298.89 1524.47 2298.89 1531.6 Q2298.89 1538.71 2300.7 1542.27 Q2302.53 1545.82 2306.14 1545.82 Q2309.77 1545.82 2311.58 1542.27 Q2313.41 1538.71 2313.41 1531.6 Q2313.41 1524.47 2311.58 1520.93 Q2309.77 1517.37 2306.14 1517.37 M2306.14 1513.66 Q2311.95 1513.66 2315 1518.27 Q2318.08 1522.85 2318.08 1531.6 Q2318.08 1540.33 2315 1544.94 Q2311.95 1549.52 2306.14 1549.52 Q2300.33 1549.52 2297.25 1544.94 Q2294.19 1540.33 2294.19 1531.6 Q2294.19 1522.85 2297.25 1518.27 Q2300.33 1513.66 2306.14 1513.66 Z\" fill=\"#000000\" fill-rule=\"evenodd\" fill-opacity=\"1\" /><polyline clip-path=\"url(#clip142)\" style=\"stroke:#000000; stroke-linecap:butt; stroke-linejoin:round; stroke-width:2; stroke-opacity:0.1; fill:none\" points=\"\n  178.867,1372.93 2352.76,1372.93 \n  \"/>\n<polyline clip-path=\"url(#clip142)\" style=\"stroke:#000000; stroke-linecap:butt; stroke-linejoin:round; stroke-width:2; stroke-opacity:0.1; fill:none\" points=\"\n  178.867,944.612 2352.76,944.612 \n  \"/>\n<polyline clip-path=\"url(#clip142)\" style=\"stroke:#000000; stroke-linecap:butt; stroke-linejoin:round; stroke-width:2; stroke-opacity:0.1; fill:none\" points=\"\n  178.867,516.294 2352.76,516.294 \n  \"/>\n<polyline clip-path=\"url(#clip142)\" style=\"stroke:#000000; stroke-linecap:butt; stroke-linejoin:round; stroke-width:2; stroke-opacity:0.1; fill:none\" points=\"\n  178.867,87.9763 2352.76,87.9763 \n  \"/>\n<polyline clip-path=\"url(#clip140)\" style=\"stroke:#000000; stroke-linecap:butt; stroke-linejoin:round; stroke-width:4; stroke-opacity:1; fill:none\" points=\"\n  178.867,1486.45 178.867,47.2441 \n  \"/>\n<polyline clip-path=\"url(#clip140)\" style=\"stroke:#000000; stroke-linecap:butt; stroke-linejoin:round; stroke-width:4; stroke-opacity:1; fill:none\" points=\"\n  178.867,1372.93 197.764,1372.93 \n  \"/>\n<polyline clip-path=\"url(#clip140)\" style=\"stroke:#000000; stroke-linecap:butt; stroke-linejoin:round; stroke-width:4; stroke-opacity:1; fill:none\" points=\"\n  178.867,944.612 197.764,944.612 \n  \"/>\n<polyline clip-path=\"url(#clip140)\" style=\"stroke:#000000; stroke-linecap:butt; stroke-linejoin:round; stroke-width:4; stroke-opacity:1; fill:none\" points=\"\n  178.867,516.294 197.764,516.294 \n  \"/>\n<polyline clip-path=\"url(#clip140)\" style=\"stroke:#000000; stroke-linecap:butt; stroke-linejoin:round; stroke-width:4; stroke-opacity:1; fill:none\" points=\"\n  178.867,87.9763 197.764,87.9763 \n  \"/>\n<path clip-path=\"url(#clip140)\" d=\"M51.9875 1373.38 L81.6633 1373.38 L81.6633 1377.32 L51.9875 1377.32 L51.9875 1373.38 Z\" fill=\"#000000\" fill-rule=\"evenodd\" fill-opacity=\"1\" /><path clip-path=\"url(#clip140)\" d=\"M92.566 1386.28 L100.205 1386.28 L100.205 1359.91 L91.8947 1361.58 L91.8947 1357.32 L100.159 1355.65 L104.834 1355.65 L104.834 1386.28 L112.473 1386.28 L112.473 1390.21 L92.566 1390.21 L92.566 1386.28 Z\" fill=\"#000000\" fill-rule=\"evenodd\" fill-opacity=\"1\" /><path clip-path=\"url(#clip140)\" d=\"M121.964 1355.65 L140.32 1355.65 L140.32 1359.59 L126.246 1359.59 L126.246 1368.06 Q127.265 1367.71 128.283 1367.55 Q129.302 1367.36 130.32 1367.36 Q136.107 1367.36 139.487 1370.53 Q142.867 1373.71 142.867 1379.12 Q142.867 1384.7 139.394 1387.8 Q135.922 1390.88 129.603 1390.88 Q127.427 1390.88 125.158 1390.51 Q122.913 1390.14 120.506 1389.4 L120.506 1384.7 Q122.589 1385.84 124.811 1386.39 Q127.033 1386.95 129.51 1386.95 Q133.515 1386.95 135.853 1384.84 Q138.191 1382.73 138.191 1379.12 Q138.191 1375.51 135.853 1373.41 Q133.515 1371.3 129.51 1371.3 Q127.635 1371.3 125.76 1371.72 Q123.908 1372.13 121.964 1373.01 L121.964 1355.65 Z\" fill=\"#000000\" fill-rule=\"evenodd\" fill-opacity=\"1\" /><path clip-path=\"url(#clip140)\" d=\"M50.9921 945.064 L80.6679 945.064 L80.6679 948.999 L50.9921 948.999 L50.9921 945.064 Z\" fill=\"#000000\" fill-rule=\"evenodd\" fill-opacity=\"1\" /><path clip-path=\"url(#clip140)\" d=\"M91.5706 957.957 L99.2095 957.957 L99.2095 931.592 L90.8993 933.258 L90.8993 928.999 L99.1632 927.332 L103.839 927.332 L103.839 957.957 L111.478 957.957 L111.478 961.892 L91.5706 961.892 L91.5706 957.957 Z\" fill=\"#000000\" fill-rule=\"evenodd\" fill-opacity=\"1\" /><path clip-path=\"url(#clip140)\" d=\"M130.922 930.411 Q127.311 930.411 125.482 933.976 Q123.677 937.518 123.677 944.647 Q123.677 951.754 125.482 955.318 Q127.311 958.86 130.922 958.86 Q134.556 958.86 136.362 955.318 Q138.191 951.754 138.191 944.647 Q138.191 937.518 136.362 933.976 Q134.556 930.411 130.922 930.411 M130.922 926.707 Q136.732 926.707 139.788 931.314 Q142.867 935.897 142.867 944.647 Q142.867 953.374 139.788 957.98 Q136.732 962.564 130.922 962.564 Q125.112 962.564 122.033 957.98 Q118.978 953.374 118.978 944.647 Q118.978 935.897 122.033 931.314 Q125.112 926.707 130.922 926.707 Z\" fill=\"#000000\" fill-rule=\"evenodd\" fill-opacity=\"1\" /><path clip-path=\"url(#clip140)\" d=\"M82.1494 516.746 L111.825 516.746 L111.825 520.681 L82.1494 520.681 L82.1494 516.746 Z\" fill=\"#000000\" fill-rule=\"evenodd\" fill-opacity=\"1\" /><path clip-path=\"url(#clip140)\" d=\"M121.964 499.014 L140.32 499.014 L140.32 502.95 L126.246 502.95 L126.246 511.422 Q127.265 511.074 128.283 510.912 Q129.302 510.727 130.32 510.727 Q136.107 510.727 139.487 513.899 Q142.867 517.07 142.867 522.486 Q142.867 528.065 139.394 531.167 Q135.922 534.246 129.603 534.246 Q127.427 534.246 125.158 533.875 Q122.913 533.505 120.506 532.764 L120.506 528.065 Q122.589 529.199 124.811 529.755 Q127.033 530.31 129.51 530.31 Q133.515 530.31 135.853 528.204 Q138.191 526.098 138.191 522.486 Q138.191 518.875 135.853 516.769 Q133.515 514.662 129.51 514.662 Q127.635 514.662 125.76 515.079 Q123.908 515.496 121.964 516.375 L121.964 499.014 Z\" fill=\"#000000\" fill-rule=\"evenodd\" fill-opacity=\"1\" /><path clip-path=\"url(#clip140)\" d=\"M130.922 73.775 Q127.311 73.775 125.482 77.3398 Q123.677 80.8814 123.677 88.011 Q123.677 95.1174 125.482 98.6822 Q127.311 102.224 130.922 102.224 Q134.556 102.224 136.362 98.6822 Q138.191 95.1174 138.191 88.011 Q138.191 80.8814 136.362 77.3398 Q134.556 73.775 130.922 73.775 M130.922 70.0713 Q136.732 70.0713 139.788 74.6777 Q142.867 79.261 142.867 88.011 Q142.867 96.7378 139.788 101.344 Q136.732 105.928 130.922 105.928 Q125.112 105.928 122.033 101.344 Q118.978 96.7378 118.978 88.011 Q118.978 79.261 122.033 74.6777 Q125.112 70.0713 130.922 70.0713 Z\" fill=\"#000000\" fill-rule=\"evenodd\" fill-opacity=\"1\" /><circle clip-path=\"url(#clip142)\" cx=\"240.392\" cy=\"1445.72\" r=\"18\" fill=\"#009af9\" fill-rule=\"evenodd\" fill-opacity=\"1\" stroke=\"#000000\" stroke-opacity=\"1\" stroke-width=\"3.2\"/>\n<circle clip-path=\"url(#clip142)\" cx=\"348.331\" cy=\"749.218\" r=\"18\" fill=\"#009af9\" fill-rule=\"evenodd\" fill-opacity=\"1\" stroke=\"#000000\" stroke-opacity=\"1\" stroke-width=\"3.2\"/>\n<circle clip-path=\"url(#clip142)\" cx=\"456.27\" cy=\"749.218\" r=\"18\" fill=\"#009af9\" fill-rule=\"evenodd\" fill-opacity=\"1\" stroke=\"#000000\" stroke-opacity=\"1\" stroke-width=\"3.2\"/>\n<circle clip-path=\"url(#clip142)\" cx=\"564.208\" cy=\"749.218\" r=\"18\" fill=\"#009af9\" fill-rule=\"evenodd\" fill-opacity=\"1\" stroke=\"#000000\" stroke-opacity=\"1\" stroke-width=\"3.2\"/>\n<circle clip-path=\"url(#clip142)\" cx=\"672.147\" cy=\"749.218\" r=\"18\" fill=\"#009af9\" fill-rule=\"evenodd\" fill-opacity=\"1\" stroke=\"#000000\" stroke-opacity=\"1\" stroke-width=\"3.2\"/>\n<circle clip-path=\"url(#clip142)\" cx=\"780.086\" cy=\"749.218\" r=\"18\" fill=\"#009af9\" fill-rule=\"evenodd\" fill-opacity=\"1\" stroke=\"#000000\" stroke-opacity=\"1\" stroke-width=\"3.2\"/>\n<circle clip-path=\"url(#clip142)\" cx=\"888.025\" cy=\"749.218\" r=\"18\" fill=\"#009af9\" fill-rule=\"evenodd\" fill-opacity=\"1\" stroke=\"#000000\" stroke-opacity=\"1\" stroke-width=\"3.2\"/>\n<circle clip-path=\"url(#clip142)\" cx=\"995.964\" cy=\"749.218\" r=\"18\" fill=\"#009af9\" fill-rule=\"evenodd\" fill-opacity=\"1\" stroke=\"#000000\" stroke-opacity=\"1\" stroke-width=\"3.2\"/>\n<circle clip-path=\"url(#clip142)\" cx=\"1103.9\" cy=\"749.218\" r=\"18\" fill=\"#009af9\" fill-rule=\"evenodd\" fill-opacity=\"1\" stroke=\"#000000\" stroke-opacity=\"1\" stroke-width=\"3.2\"/>\n<circle clip-path=\"url(#clip142)\" cx=\"1211.84\" cy=\"749.218\" r=\"18\" fill=\"#009af9\" fill-rule=\"evenodd\" fill-opacity=\"1\" stroke=\"#000000\" stroke-opacity=\"1\" stroke-width=\"3.2\"/>\n<circle clip-path=\"url(#clip142)\" cx=\"1319.78\" cy=\"410.418\" r=\"18\" fill=\"#009af9\" fill-rule=\"evenodd\" fill-opacity=\"1\" stroke=\"#000000\" stroke-opacity=\"1\" stroke-width=\"3.2\"/>\n<circle clip-path=\"url(#clip142)\" cx=\"1427.72\" cy=\"410.418\" r=\"18\" fill=\"#009af9\" fill-rule=\"evenodd\" fill-opacity=\"1\" stroke=\"#000000\" stroke-opacity=\"1\" stroke-width=\"3.2\"/>\n<circle clip-path=\"url(#clip142)\" cx=\"1535.66\" cy=\"87.9763\" r=\"18\" fill=\"#009af9\" fill-rule=\"evenodd\" fill-opacity=\"1\" stroke=\"#000000\" stroke-opacity=\"1\" stroke-width=\"3.2\"/>\n<circle clip-path=\"url(#clip142)\" cx=\"1643.6\" cy=\"87.9763\" r=\"18\" fill=\"#009af9\" fill-rule=\"evenodd\" fill-opacity=\"1\" stroke=\"#000000\" stroke-opacity=\"1\" stroke-width=\"3.2\"/>\n<circle clip-path=\"url(#clip142)\" cx=\"1751.54\" cy=\"87.9763\" r=\"18\" fill=\"#009af9\" fill-rule=\"evenodd\" fill-opacity=\"1\" stroke=\"#000000\" stroke-opacity=\"1\" stroke-width=\"3.2\"/>\n<circle clip-path=\"url(#clip142)\" cx=\"1859.48\" cy=\"87.9763\" r=\"18\" fill=\"#009af9\" fill-rule=\"evenodd\" fill-opacity=\"1\" stroke=\"#000000\" stroke-opacity=\"1\" stroke-width=\"3.2\"/>\n<circle clip-path=\"url(#clip142)\" cx=\"1967.41\" cy=\"87.9763\" r=\"18\" fill=\"#009af9\" fill-rule=\"evenodd\" fill-opacity=\"1\" stroke=\"#000000\" stroke-opacity=\"1\" stroke-width=\"3.2\"/>\n<circle clip-path=\"url(#clip142)\" cx=\"2075.35\" cy=\"87.9763\" r=\"18\" fill=\"#009af9\" fill-rule=\"evenodd\" fill-opacity=\"1\" stroke=\"#000000\" stroke-opacity=\"1\" stroke-width=\"3.2\"/>\n<circle clip-path=\"url(#clip142)\" cx=\"2183.29\" cy=\"87.9763\" r=\"18\" fill=\"#009af9\" fill-rule=\"evenodd\" fill-opacity=\"1\" stroke=\"#000000\" stroke-opacity=\"1\" stroke-width=\"3.2\"/>\n<circle clip-path=\"url(#clip142)\" cx=\"2291.23\" cy=\"87.9763\" r=\"18\" fill=\"#009af9\" fill-rule=\"evenodd\" fill-opacity=\"1\" stroke=\"#000000\" stroke-opacity=\"1\" stroke-width=\"3.2\"/>\n</svg>\n"
     },
     "execution_count": 18,
     "metadata": {},
     "output_type": "execute_result"
    }
   ],
   "source": [
    "y = eigenenergies(dense(MB_Hamiltonian))[1:20]\n",
    "x=1:length(y)\n",
    "gr()\n",
    "plot(x, y, seriestype = :scatter, markersize = 5, legend=false)"
   ]
  }
 ],
 "metadata": {
  "kernelspec": {
   "display_name": "Julia 1.7.2",
   "language": "julia",
   "name": "julia-1.7"
  },
  "language_info": {
   "file_extension": ".jl",
   "mimetype": "application/julia",
   "name": "julia",
   "version": "1.7.2"
  }
 },
 "nbformat": 4,
 "nbformat_minor": 5
}
