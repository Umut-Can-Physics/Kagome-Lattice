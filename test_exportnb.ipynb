{
 "cells": [
  {
   "cell_type": "code",
   "execution_count": 6,
   "id": "ce0434ba-9ef1-43cd-b8cd-9f4fd0709745",
   "metadata": {},
   "outputs": [
    {
     "name": "stdout",
     "output_type": "stream",
     "text": [
      "The autoreload extension is already loaded. To reload it, use:\n",
      "  %reload_ext autoreload\n"
     ]
    }
   ],
   "source": [
    "%load_ext autoreload\n",
    "%autoreload 2"
   ]
  },
  {
   "cell_type": "code",
   "execution_count": 7,
   "id": "22a791bf-c08e-4e46-9e6a-a0390da4c229",
   "metadata": {},
   "outputs": [],
   "source": [
    "from topo_lib.hamiltonians import *"
   ]
  },
  {
   "cell_type": "code",
   "execution_count": null,
   "id": "8013967d-a98d-48a7-b1d3-0922a417c3e7",
   "metadata": {},
   "outputs": [],
   "source": [
    "Hamiltonian(1,2)"
   ]
  },
  {
   "cell_type": "code",
   "execution_count": null,
   "id": "9fa0a66d-05ec-455a-902b-84517d1cda0c",
   "metadata": {},
   "outputs": [],
   "source": []
  }
 ],
 "metadata": {
  "kernelspec": {
   "display_name": "Python 3 (ipykernel)",
   "language": "python",
   "name": "python3"
  },
  "language_info": {
   "codemirror_mode": {
    "name": "ipython",
    "version": 3
   },
   "file_extension": ".py",
   "mimetype": "text/x-python",
   "name": "python",
   "nbconvert_exporter": "python",
   "pygments_lexer": "ipython3",
   "version": "3.8.13"
  }
 },
 "nbformat": 4,
 "nbformat_minor": 5
}
