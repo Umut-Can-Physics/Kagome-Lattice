{
 "cells": [
  {
   "cell_type": "code",
   "execution_count": 17,
   "metadata": {},
   "outputs": [
    {
     "data": {
      "text/plain": [
       "get_basis_mb (generic function with 1 method)"
      ]
     },
     "execution_count": 17,
     "metadata": {},
     "output_type": "execute_result"
    }
   ],
   "source": [
    "using LinearAlgebra\n",
    "using NBInclude\n",
    "@nbinclude(\"QOJulia_utils.ipynb\")"
   ]
  },
  {
   "cell_type": "code",
   "execution_count": 6,
   "metadata": {},
   "outputs": [
    {
     "data": {
      "text/plain": [
       "calc_link_var (generic function with 1 method)"
      ]
     },
     "execution_count": 6,
     "metadata": {},
     "output_type": "execute_result"
    }
   ],
   "source": [
    "function calc_link_var(ψ1, ψ2)\n",
    "    link_var = det(ψ1'*ψ2)\n",
    "    return link_var/abs(link_var)\n",
    "end"
   ]
  },
  {
   "cell_type": "code",
   "execution_count": 7,
   "metadata": {},
   "outputs": [
    {
     "data": {
      "text/plain": [
       "calc_link_vars (generic function with 1 method)"
      ]
     },
     "execution_count": 7,
     "metadata": {},
     "output_type": "execute_result"
    }
   ],
   "source": [
    "function calc_link_vars(UUA)\n",
    "    N1,N2,__ = size(UUA)\n",
    "    UU=zeros(Complex{Float64}, N1, N2, 2)\n",
    "    dirs = [ [1, 0], [0,1] ]\n",
    "    for it1 in 1:N1\n",
    "        for it2 in 1:N2\n",
    "            for (idir, vdir) in enumerate(dirs)\n",
    "                UU[it1,it2,idir] = calc_link_var(UUA[it1,it2,:,:],\n",
    "                                                 UUA[mod(it1-1+vdir[1],N1)+1,mod(it2-1+vdir[2],N2)+1,:,:])\n",
    "            end\n",
    "        end\n",
    "    end\n",
    "    return UU \n",
    "end"
   ]
  },
  {
   "cell_type": "code",
   "execution_count": 8,
   "metadata": {},
   "outputs": [
    {
     "data": {
      "text/plain": [
       "calc_F12 (generic function with 1 method)"
      ]
     },
     "execution_count": 8,
     "metadata": {},
     "output_type": "execute_result"
    }
   ],
   "source": [
    "function calc_F12(UU)\n",
    "    F12 = log.(  UU[:,:,1].*\n",
    "                circshift(UU[:,:,2],(-1,0))./\n",
    "               (circshift(UU[:,:,1],(0,-1)).*\n",
    "                UU[:,:,2]) \n",
    "            )\n",
    "    return F12\n",
    "end"
   ]
  },
  {
   "cell_type": "code",
   "execution_count": null,
   "metadata": {},
   "outputs": [],
   "source": [
    "function calc_chern_bands(UUA, band)\n",
    "    Chern = []\n",
    "    F12list = []\n",
    "    for band in bands\n",
    "        UU = calc_link_vars(UUA[:,:,:,band[1]:band[2]])\n",
    "        F12 = calc_F12(UU)\n",
    "        push!(F12list, F12)\n",
    "        push!(Chern, sum(F12)/(2im*pi))\n",
    "    end\n",
    "    return Chern, F12list\n",
    "end"
   ]
  },
  {
   "cell_type": "code",
   "execution_count": 12,
   "metadata": {},
   "outputs": [
    {
     "data": {
      "text/plain": [
       "calc_all_states_H1 (generic function with 1 method)"
      ]
     },
     "execution_count": 12,
     "metadata": {},
     "output_type": "execute_result"
    }
   ],
   "source": [
    "function calc_all_states_H1(param_dict)\n",
    "    \n",
    "    model_H1 = param_dict[\"model_H1\"]\n",
    "    basis = param_dict[\"basis\"]\n",
    "    Tx = param_dict[param_dict[\"param_1\"]]\n",
    "    Ty = param_dict[param_dict[\"param_2\"]]\n",
    "    dimH = length(basis)\n",
    "    N1 = length(Tx)\n",
    "    N2 = length(Ty)\n",
    "    EEA=zeros(N1, N2, dimH)\n",
    "    UUA=zeros(Complex{Float64}, N1, N2, dimH, dimH)\n",
    "    for it1 in 1:N1\n",
    "        for it2 in 1:N2\n",
    "            param_dict[\"θθ\"]=[ Tx[it1], Ty[it2] ]\n",
    "            H1_m = model_H1(param_dict)    \n",
    "            # H1 = get_sp_op(basis, H1_m)\n",
    "            EEA[it1,it2,:], UUA[it1,it2,:,:] = eigen(H1_m)\n",
    "        end\n",
    "    end\n",
    "    if \"sub_range\" in keys(param_dict)\n",
    "        return EEA[:,:,param_dict[\"sub_range\"]], UUA[:,:,:,param_dict[\"sub_range\"]]\n",
    "    else\n",
    "        return EEA, UUA\n",
    "    end\n",
    "end"
   ]
  },
  {
   "cell_type": "code",
   "execution_count": 15,
   "metadata": {},
   "outputs": [
    {
     "data": {
      "text/plain": [
       "calc_all_states_Hmb (generic function with 1 method)"
      ]
     },
     "execution_count": 15,
     "metadata": {},
     "output_type": "execute_result"
    }
   ],
   "source": [
    "function calc_all_states_H_mb(param_dict)\n",
    "    \n",
    "    Tx = param_dict[param_dict[\"param_1\"]]\n",
    "    Ty = param_dict[param_dict[\"param_2\"]]\n",
    "    dimH = param_dict[\"dimH_mb\"]\n",
    "    N1 = length(Tx)\n",
    "    N2 = length(Ty)\n",
    "    EEA=zeros(N1, N2, dimH)\n",
    "    UUA=zeros(Complex{Float64}, N1, N2, dimH, dimH)\n",
    "    for it1 in 1:N1\n",
    "        for it2 in 1:N2\n",
    "            param_dict[\"θθ\"]=[ Tx[it1], Ty[it2] ]\n",
    "            H_mb = get_H_mb(param_dict)\n",
    "            EEA[it1,it2,:], UUA[it1,it2,:,:] = eigen(dense(H_mb).data)\n",
    "        end\n",
    "    end\n",
    "\n",
    "    return EEA, UUA\n",
    "end"
   ]
  },
  {
   "cell_type": "code",
   "execution_count": null,
   "metadata": {},
   "outputs": [],
   "source": [
    "function calc_all_states_H_mb_2(param_dict)\n",
    "    \n",
    "    Tx = param_dict[param_dict[\"param_1\"]]\n",
    "    Ty = param_dict[param_dict[\"param_2\"]]\n",
    "    dimH = param_dict[\"dimH_mb\"]\n",
    "    N1 = length(Tx)\n",
    "    N2 = length(Ty)\n",
    "    EEA=zeros(N1, N2, dimH)\n",
    "    UUA=zeros(Complex{Float64}, N1, N2, dimH, dimH)\n",
    "    for it1 in 1:N1\n",
    "        for it2 in 1:N2\n",
    "            param_dict[\"θθ\"]=[ Tx[it1], Ty[it2] ]\n",
    "            H_mb, UP = get_H_mb_2(param_dict)\n",
    "            EE, UU = eigen(dense(H_mb).data)\n",
    "            EEA[it1,it2,:], UUA[it1,it2,:,:] = EE, UP'.data*UU*UP.data \n",
    "        end\n",
    "    end\n",
    "\n",
    "    return EEA, UUA\n",
    "end"
   ]
  }
 ],
 "metadata": {
  "kernelspec": {
   "display_name": "Julia 1.8.5",
   "language": "julia",
   "name": "julia-1.8"
  },
  "language_info": {
   "file_extension": ".jl",
   "mimetype": "application/julia",
   "name": "julia",
   "version": "1.8.5"
  }
 },
 "nbformat": 4,
 "nbformat_minor": 5
}
