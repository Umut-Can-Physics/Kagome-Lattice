{
 "cells": [
  {
   "cell_type": "code",
   "execution_count": 2,
   "id": "3322b894-edfd-4f27-b40f-da045b39585f",
   "metadata": {
    "tags": []
   },
   "outputs": [],
   "source": [
    "import Pkg"
   ]
  },
  {
   "cell_type": "code",
   "execution_count": 4,
   "id": "9c700982-e565-4660-a1f6-ce26db14aba1",
   "metadata": {
    "tags": []
   },
   "outputs": [],
   "source": [
    "Pkg.instantiate()"
   ]
  },
  {
   "cell_type": "code",
   "execution_count": 5,
   "id": "bccf85a0",
   "metadata": {
    "tags": []
   },
   "outputs": [
    {
     "data": {
      "text/plain": [
       "proj_MB_Int (generic function with 1 method)"
      ]
     },
     "execution_count": 5,
     "metadata": {},
     "output_type": "execute_result"
    }
   ],
   "source": [
    "using LinearAlgebra\n",
    "using NBInclude\n",
    "@nbinclude(\"QOJulia_utils.ipynb\")"
   ]
  },
  {
   "cell_type": "code",
   "execution_count": 6,
   "id": "4e88a1d6",
   "metadata": {
    "tags": []
   },
   "outputs": [
    {
     "data": {
      "text/plain": [
       "calc_link_var (generic function with 1 method)"
      ]
     },
     "execution_count": 6,
     "metadata": {},
     "output_type": "execute_result"
    }
   ],
   "source": [
    "function calc_link_var(ψ1, ψ2)\n",
    "    link_var = det(ψ1'*ψ2)\n",
    "    return link_var/abs(link_var)\n",
    "end"
   ]
  },
  {
   "cell_type": "code",
   "execution_count": 7,
   "id": "3d1134b1-46ac-405b-973d-0dccf18711ea",
   "metadata": {
    "tags": []
   },
   "outputs": [
    {
     "data": {
      "text/plain": [
       "calc_link_var_svd (generic function with 1 method)"
      ]
     },
     "execution_count": 7,
     "metadata": {},
     "output_type": "execute_result"
    }
   ],
   "source": [
    "function calc_link_var_svd(ψ1, ψ2)\n",
    "    A = ψ1' * ψ2\n",
    "    V, Σ, W = svd(A)\n",
    "    M = V * W'\n",
    "    ψ1 = ψ2 * M'\n",
    "    link_var = det(ψ1'*ψ2)\n",
    "    return link_var/abs(link_var)\n",
    "end"
   ]
  },
  {
   "cell_type": "code",
   "execution_count": 7,
   "id": "41f8763c",
   "metadata": {},
   "outputs": [
    {
     "data": {
      "text/plain": [
       "calc_link_vars (generic function with 1 method)"
      ]
     },
     "execution_count": 7,
     "metadata": {},
     "output_type": "execute_result"
    }
   ],
   "source": [
    "function calc_link_vars(UUA, use_svd=true)\n",
    "    N1,N2,__ = size(UUA)\n",
    "    UU=zeros(Complex{Float64}, N1, N2, 2)\n",
    "    dirs = [ [1, 0], [0,1] ]\n",
    "    if use_svd == false\n",
    "        for it1 in 1:N1\n",
    "            for it2 in 1:N2\n",
    "                for (idir, vdir) in enumerate(dirs)\n",
    "                    UU[it1,it2,idir] = calc_link_var(UUA[it1,it2,:,:],\n",
    "                                                     UUA[mod(it1-1+vdir[1],N1)+1,mod(it2-1+vdir[2],N2)+1,:,:])\n",
    "                end\n",
    "            end\n",
    "        end\n",
    "    elseif use_svd == true\n",
    "        for it1 in 1:N1\n",
    "            for it2 in 1:N2\n",
    "                for (idir, vdir) in enumerate(dirs)\n",
    "                    UU[it1,it2,idir] = calc_link_var_svd(UUA[it1,it2,:,:],\n",
    "                                                     UUA[mod(it1-1+vdir[1],N1)+1,mod(it2-1+vdir[2],N2)+1,:,:])\n",
    "                end\n",
    "            end\n",
    "        end\n",
    "    end\n",
    "    return UU \n",
    "end"
   ]
  },
  {
   "cell_type": "code",
   "execution_count": 8,
   "id": "39d4542f",
   "metadata": {},
   "outputs": [
    {
     "data": {
      "text/plain": [
       "calc_F12 (generic function with 1 method)"
      ]
     },
     "execution_count": 8,
     "metadata": {},
     "output_type": "execute_result"
    }
   ],
   "source": [
    "function calc_F12(UU)\n",
    "    F12 = log.(  UU[:,:,1].*\n",
    "                circshift(UU[:,:,2],(-1,0))./\n",
    "               (circshift(UU[:,:,1],(0,-1)).*\n",
    "                UU[:,:,2]) \n",
    "            )\n",
    "    return F12\n",
    "end"
   ]
  },
  {
   "cell_type": "code",
   "execution_count": null,
   "id": "372f6bbb",
   "metadata": {},
   "outputs": [],
   "source": [
    "function calc_chern_bands(UUA, band, use_svd=true)\n",
    "    Chern = []\n",
    "    F12list = []\n",
    "    for band in bands\n",
    "        UU = calc_link_vars(UUA[:,:,:,band[1]:band[2]], use_svd)\n",
    "        F12 = calc_F12(UU)\n",
    "        push!(F12list, F12)\n",
    "        push!(Chern, sum(F12)/(2im*pi))\n",
    "    end\n",
    "    return Chern, F12list\n",
    "end"
   ]
  },
  {
   "cell_type": "code",
   "execution_count": 12,
   "id": "a8e659d7",
   "metadata": {},
   "outputs": [
    {
     "data": {
      "text/plain": [
       "calc_all_states_H1 (generic function with 1 method)"
      ]
     },
     "execution_count": 12,
     "metadata": {},
     "output_type": "execute_result"
    }
   ],
   "source": [
    "function calc_all_states_H1(param_dict)\n",
    "    \n",
    "    model_H1 = param_dict[\"model_H1\"]\n",
    "    basis = param_dict[\"basis\"]\n",
    "    Tx = param_dict[param_dict[\"param_1\"]]\n",
    "    Ty = param_dict[param_dict[\"param_2\"]]\n",
    "    dimH = length(basis)\n",
    "    N1 = length(Tx)\n",
    "    N2 = length(Ty)\n",
    "    EEA=zeros(N1, N2, dimH)\n",
    "    UUA=zeros(Complex{Float64}, N1, N2, dimH, dimH)\n",
    "    for it1 in 1:N1\n",
    "        for it2 in 1:N2\n",
    "            param_dict[\"θθ\"]=[ Tx[it1], Ty[it2] ]\n",
    "            H1_m = model_H1(param_dict)    \n",
    "            #H1 = get_sp_op(basis, H1_m) #???\n",
    "            \n",
    "            # 4x2\n",
    "            H1_m = (H1_m'+H1_m)/2\n",
    "            #\n",
    "            \n",
    "            EEA[it1,it2,:], UUA[it1,it2,:,:] = eigen(H1_m)\n",
    "        end\n",
    "    end\n",
    "    if \"sub_range\" in keys(param_dict)\n",
    "        return EEA[:,:,param_dict[\"sub_range\"]], UUA[:,:,:,param_dict[\"sub_range\"]]\n",
    "    else\n",
    "        return EEA, UUA\n",
    "    end\n",
    "end"
   ]
  },
  {
   "cell_type": "code",
   "execution_count": 15,
   "id": "ce77928c",
   "metadata": {},
   "outputs": [
    {
     "data": {
      "text/plain": [
       "calc_all_states_Hmb (generic function with 1 method)"
      ]
     },
     "execution_count": 15,
     "metadata": {},
     "output_type": "execute_result"
    }
   ],
   "source": [
    "function calc_all_states_H_mb(param_dict)\n",
    "    \n",
    "    Tx = param_dict[param_dict[\"param_1\"]]\n",
    "    Ty = param_dict[param_dict[\"param_2\"]]\n",
    "    H_mb = get_H_mb(param_dict)\n",
    "    dimH_mb = param_dict[\"dimH_mb\"]\n",
    "    dimH_mb0 = param_dict[\"dimH_mb0\"]\n",
    "    N1 = length(Tx)\n",
    "    N2 = length(Ty)\n",
    "    EEA=zeros(N1, N2, dimH_mb)\n",
    "    UUA=zeros(Complex{Float64}, N1, N2, dimH_mb0, dimH_mb0)\n",
    "    for it1 in 1:N1\n",
    "        for it2 in 1:N2\n",
    "            param_dict[\"θθ\"]=[ Tx[it1], Ty[it2] ]\n",
    "            \n",
    "            H_mb = get_H_mb(param_dict)\n",
    "            #4x2\n",
    "            H_mb = (H_mb'+H_mb)/2\n",
    "\n",
    "            EE, UU = eigen(dense(H_mb).data)\n",
    "            \n",
    "            if \"projection\" in keys(param_dict)           \n",
    "                P1M = param_dict[\"projection\"][3].data\n",
    "                PMB = zeros(ComplexF64,dimH_mb0,dimH_mb)\n",
    "                for iMB in 1:dimH_mb0\n",
    "                    i_occ_lists = Set( collect(permutations(param_dict[\"state_list0\"][iMB])) )\n",
    "                    ilistlen = length(i_occ_lists)\n",
    "                    for jMB in 1:dimH_mb\n",
    "                        j_occ_lists = Set( collect(permutations(param_dict[\"state_list\"][jMB])) )\n",
    "                        jlistlen = length(j_occ_lists)\n",
    "                        for (iocc_ind,iocc) in enumerate(i_occ_lists)\n",
    "                            for (jocc_ind,jocc) in enumerate(j_occ_lists)\n",
    "                                P1val=1\n",
    "                                for ind in 1:param_dict[\"PN\"]\n",
    "                                    P1val *= P1M[iocc[ind],jocc[ind]]\n",
    "                                end    \n",
    "                                PMB[iMB,jMB] += P1val/sqrt(ilistlen*jlistlen) \n",
    "                            end\n",
    "                        end\n",
    "                    end\n",
    "                end\n",
    "                EEA[it1,it2,:], UUA[it1,it2,:,:] = EE, PMB*UU*PMB' \n",
    "            else\n",
    "                EEA[it1,it2,:], UUA[it1,it2,:,:] = EE, UU\n",
    "            end\n",
    "        end\n",
    "    end\n",
    "\n",
    "    return EEA, UUA\n",
    "end"
   ]
  },
  {
   "cell_type": "code",
   "execution_count": null,
   "id": "fd8e0fb0-63da-4d8a-8594-d19e69a8a434",
   "metadata": {},
   "outputs": [],
   "source": [
    "function calc_all_states_H_mb_Finite_U(param_dict)\n",
    "    \n",
    "    Tx = param_dict[param_dict[\"param_1\"]]\n",
    "    Ty = param_dict[param_dict[\"param_2\"]]\n",
    "    dimH = param_dict[\"dimH_mb\"]\n",
    "    N1 = length(Tx)\n",
    "    N2 = length(Ty)\n",
    "    EEA=zeros(N1, N2, dimH)\n",
    "    UUA=zeros(Complex{Float64}, N1, N2, dimH, dimH)\n",
    "    for it1 in 1:N1\n",
    "        for it2 in 1:N2\n",
    "            param_dict[\"θθ\"]=[ Tx[it1], Ty[it2] ]\n",
    "            H_Finite, H_Int = get_Finite_U(param_dict)\n",
    "            EEA[it1,it2,:], UUA[it1,it2,:,:] = eigen(dense(H_Finite).data)\n",
    "        end\n",
    "    end\n",
    "\n",
    "    return EEA, UUA\n",
    "end"
   ]
  },
  {
   "cell_type": "code",
   "execution_count": null,
   "id": "e67ec2e1-5ebe-4c0f-8b36-6efea8f18c74",
   "metadata": {},
   "outputs": [],
   "source": [
    "function calc_all_states_H_mb_Int(param_dict)\n",
    "    \n",
    "    Tx = param_dict[param_dict[\"param_1\"]]\n",
    "    Ty = param_dict[param_dict[\"param_2\"]]\n",
    "    dimH = param_dict[\"dimH_mb_int\"]\n",
    "    N1 = length(Tx)\n",
    "    N2 = length(Ty)\n",
    "    EEA=zeros(Complex{Float64},N1, N2, dimH)\n",
    "    UUA=zeros(Complex{Float64}, N1, N2, dimH, dimH)\n",
    "    for it1 in 1:N1\n",
    "        for it2 in 1:N2\n",
    "            param_dict[\"θθ\"]=[ Tx[it1], Ty[it2] ]\n",
    "            H_Total_Intt, basis_cut_mb = proj_MB_Int(param_dict)\n",
    "            EEA[it1,it2,:], UUA[it1,it2,:,:] = eigen(dense(H_Total_Intt).data)\n",
    "        end\n",
    "    end\n",
    "    return real(EEA), UUA\n",
    "end"
   ]
  },
  {
   "cell_type": "code",
   "execution_count": null,
   "id": "12822e8b",
   "metadata": {},
   "outputs": [],
   "source": [
    "function calc_all_states_H_mb_2(param_dict)\n",
    "    \n",
    "    Tx = param_dict[param_dict[\"param_1\"]]\n",
    "    Ty = param_dict[param_dict[\"param_2\"]]\n",
    "    dimH = param_dict[\"dimH_mb\"]\n",
    "    N1 = length(Tx)\n",
    "    N2 = length(Ty)\n",
    "    EEA=zeros(N1, N2, dimH)\n",
    "    UUA=zeros(Complex{Float64}, N1, N2, dimH, dimH)\n",
    "    for it1 in 1:N1\n",
    "        for it2 in 1:N2\n",
    "            param_dict[\"θθ\"]=[ Tx[it1], Ty[it2] ]\n",
    "            H_mb, UP = get_H_mb_2(param_dict)\n",
    "            EE, UU = eigen(dense(H_mb).data)\n",
    "            EEA[it1,it2,:], UUA[it1,it2,:,:] = EE, UP'.data*UU*UP.data \n",
    "        end\n",
    "    end\n",
    "\n",
    "    return EEA, UUA\n",
    "end"
   ]
  }
 ],
 "metadata": {
  "kernelspec": {
   "display_name": "Julia 1.8.5",
   "language": "julia",
   "name": "julia-1.8"
  },
  "language_info": {
   "file_extension": ".jl",
   "mimetype": "application/julia",
   "name": "julia",
   "version": "1.8.5"
  }
 },
 "nbformat": 4,
 "nbformat_minor": 5
}
