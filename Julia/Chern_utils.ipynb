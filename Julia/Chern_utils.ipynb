{
 "cells": [
  {
   "cell_type": "code",
   "execution_count": 17,
   "id": "d510c789-8f25-4842-a41c-114e49f9e25e",
   "metadata": {},
   "outputs": [
    {
     "data": {
      "text/plain": [
       "get_basis_mb (generic function with 1 method)"
      ]
     },
     "execution_count": 17,
     "metadata": {},
     "output_type": "execute_result"
    }
   ],
   "source": [
    "using LinearAlgebra\n",
    "using NBInclude\n",
    "@nbinclude(\"QOJulia_utils.ipynb\")"
   ]
  },
  {
   "cell_type": "code",
   "execution_count": 6,
   "id": "2fc9b3de-f02c-4a12-abfe-fd2a99766ccc",
   "metadata": {},
   "outputs": [
    {
     "data": {
      "text/plain": [
       "calc_link_var (generic function with 1 method)"
      ]
     },
     "execution_count": 6,
     "metadata": {},
     "output_type": "execute_result"
    }
   ],
   "source": [
    "function calc_link_var(ψ1, ψ2)\n",
    "    link_var = det(ψ1'*ψ2)\n",
    "    return link_var/abs(link_var)\n",
    "end"
   ]
  },
  {
   "cell_type": "code",
   "execution_count": 7,
   "id": "4ba7aec3-3fb9-4744-b8ce-1636a1351f0e",
   "metadata": {},
   "outputs": [
    {
     "data": {
      "text/plain": [
       "calc_link_vars (generic function with 1 method)"
      ]
     },
     "execution_count": 7,
     "metadata": {},
     "output_type": "execute_result"
    }
   ],
   "source": [
    "function calc_link_vars(UUA)\n",
    "    N1,N2,__ = size(UUA)\n",
    "    UU=zeros(Complex{Float64}, N1, N2, 2)\n",
    "    dirs = [ [1, 0], [0,1] ]\n",
    "    for it1 in 1:N1\n",
    "        for it2 in 1:N2\n",
    "            for (idir, vdir) in enumerate(dirs)\n",
    "                UU[it1,it2,idir] = calc_link_var(UUA[it1,it2,:,:],\n",
    "                                                 UUA[mod(it1-1+vdir[1],N1)+1,mod(it2-1+vdir[2],N2)+1,:,:])\n",
    "            end\n",
    "        end\n",
    "    end\n",
    "    return UU \n",
    "end"
   ]
  },
  {
   "cell_type": "code",
   "execution_count": 8,
   "id": "51311f8e-162b-4767-9303-2ba92aa63d29",
   "metadata": {},
   "outputs": [
    {
     "data": {
      "text/plain": [
       "calc_F12 (generic function with 1 method)"
      ]
     },
     "execution_count": 8,
     "metadata": {},
     "output_type": "execute_result"
    }
   ],
   "source": [
    "function calc_F12(UU)\n",
    "    F12 = log.(  UU[:,:,1].*\n",
    "                circshift(UU[:,:,2],(-1,0))./\n",
    "               (circshift(UU[:,:,1],(0,-1)).*\n",
    "                UU[:,:,2]) \n",
    "            )\n",
    "    return F12\n",
    "end"
   ]
  },
  {
   "cell_type": "code",
   "execution_count": null,
   "id": "8af5a875-4c81-4767-b8a3-f1626543fe42",
   "metadata": {},
   "outputs": [],
   "source": [
    "function calc_chern_bands(UUA, band)\n",
    "    Chern = []\n",
    "    for band in bands\n",
    "        UU = calc_link_vars(UUA[:,:,:,band[1]:band[2]])\n",
    "        F12 = calc_F12(UU)\n",
    "        push!(Chern, sum(F12)/(2im*pi))\n",
    "    end\n",
    "    return Chern\n",
    "end"
   ]
  },
  {
   "cell_type": "code",
   "execution_count": 12,
   "id": "78f945a5-e952-4ae3-b300-828ae21a814b",
   "metadata": {},
   "outputs": [
    {
     "data": {
      "text/plain": [
       "calc_all_states_H1 (generic function with 1 method)"
      ]
     },
     "execution_count": 12,
     "metadata": {},
     "output_type": "execute_result"
    }
   ],
   "source": [
    "function calc_all_states_H1(param_dict)\n",
    "    \n",
    "    model_H1 = param_dict[\"model_H1\"]\n",
    "    basis = param_dict[\"basis\"]\n",
    "    Tx = param_dict[param_dict[\"param_1\"]]\n",
    "    Ty = param_dict[param_dict[\"param_2\"]]\n",
    "    dimH = length(basis)\n",
    "    N1 = length(Tx)\n",
    "    N2 = length(Ty)\n",
    "    EEA=zeros(N1, N2, dimH)\n",
    "    UUA=zeros(Complex{Float64}, N1, N2, dimH, dimH)\n",
    "    for it1 in 1:N1\n",
    "        for it2 in 1:N2\n",
    "            param_dict[\"θθ\"]=[ Tx[it1], Ty[it2] ]\n",
    "            H1_m = model_H1(param_dict)    \n",
    "            # H1 = get_sp_op(basis, H1_m)\n",
    "            EEA[it1,it2,:], UUA[it1,it2,:,:] = eigen(H1_m)\n",
    "        end\n",
    "    end\n",
    "    if \"sub_range\" in keys(param_dict)\n",
    "        return EEA[:,:,param_dict[\"sub_range\"]], UUA[:,:,:,param_dict[\"sub_range\"]]\n",
    "    else\n",
    "        return EEA, UUA\n",
    "    end\n",
    "end"
   ]
  },
  {
   "cell_type": "code",
   "execution_count": 15,
   "id": "55d65ca6-9e33-4389-8bf7-bd808af82b2e",
   "metadata": {},
   "outputs": [
    {
     "data": {
      "text/plain": [
       "calc_all_states_Hmb (generic function with 1 method)"
      ]
     },
     "execution_count": 15,
     "metadata": {},
     "output_type": "execute_result"
    }
   ],
   "source": [
    "function calc_all_states_H_mb(param_dict)\n",
    "    \n",
    "    Tx = param_dict[param_dict[\"param_1\"]]\n",
    "    Ty = param_dict[param_dict[\"param_2\"]]\n",
    "    dimH = param_dict[\"dimH_mb\"]\n",
    "    N1 = length(Tx)\n",
    "    N2 = length(Ty)\n",
    "    EEA=zeros(N1, N2, dimH)\n",
    "    UUA=zeros(Complex{Float64}, N1, N2, dimH, dimH)\n",
    "    for it1 in 1:N1\n",
    "        for it2 in 1:N2\n",
    "            param_dict[\"θθ\"]=[ Tx[it1], Ty[it2] ]\n",
    "            H_mb = get_H_mb(param_dict)\n",
    "            EEA[it1,it2,:], UUA[it1,it2,:,:] = eigen(dense(H_mb).data)\n",
    "        end\n",
    "    end\n",
    "\n",
    "    return EEA, UUA\n",
    "end"
   ]
  },
  {
   "cell_type": "code",
   "execution_count": null,
   "id": "ce5c1416-e198-47ce-bf31-25684231a438",
   "metadata": {},
   "outputs": [],
   "source": []
  }
 ],
 "metadata": {
  "kernelspec": {
   "display_name": "Julia 1.8.1",
   "language": "julia",
   "name": "julia-1.8"
  },
  "language_info": {
   "file_extension": ".jl",
   "mimetype": "application/julia",
   "name": "julia",
   "version": "1.8.1"
  }
 },
 "nbformat": 4,
 "nbformat_minor": 5
}
