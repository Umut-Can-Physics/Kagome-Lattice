{
 "cells": [
  {
   "cell_type": "markdown",
   "id": "352333b9-07ee-4104-8c41-2398b0d32952",
   "metadata": {},
   "source": [
    "Many-Body Chern Number without Integration\n",
    "\n",
    "Koji Kudo, Haruki Watanabe, Toshikaze Kariyado, and Yasuhiro Hatsugai\n",
    "\n",
    "Phys. Rev. Lett. 122, 146601 – Published 9 April 2019\n",
    "\n",
    "https://journals.aps.org/prl/abstract/10.1103/PhysRevLett.122.146601"
   ]
  },
  {
   "cell_type": "code",
   "execution_count": 317,
   "id": "29e07b63-8bf1-4a82-918a-caef0fbb758b",
   "metadata": {},
   "outputs": [
    {
     "data": {
      "text/plain": [
       "calc_all_states_H_mb (generic function with 1 method)"
      ]
     },
     "execution_count": 317,
     "metadata": {},
     "output_type": "execute_result"
    }
   ],
   "source": [
    "using QuantumOptics\n",
    "using NBInclude\n",
    "@nbinclude(\"Lattice_Basis_Neighbors_Hops.ipynb\"; regex=r\"#.*executeme\")\n",
    "@nbinclude(\"QOJulia_utils.ipynb\")\n",
    "@nbinclude(\"Chern_utils.ipynb\")"
   ]
  },
  {
   "cell_type": "markdown",
   "id": "c7ec82a7-fbe8-428c-a115-5ca8e0b85d5f",
   "metadata": {},
   "source": [
    "# Parameters"
   ]
  },
  {
   "cell_type": "code",
   "execution_count": 253,
   "id": "985b02c4-59fa-4c88-b8ce-21d0ba44e1e7",
   "metadata": {},
   "outputs": [],
   "source": [
    "param_dict=Dict{}()\n",
    "\n",
    "LL = [3, 3]\n",
    "N = LL[1]*LL[2]\n",
    "vv_lattice = [ [1., 0], [0, 1.] ]\n",
    "b1=[0, 0]\n",
    "vv_basis = [b1]\n",
    "\n",
    "param_dict[\"LL\"] = LL\n",
    "param_dict[\"vv_lattice\"] = vv_lattice\n",
    "param_dict[\"vv_basis\"] = vv_basis\n",
    "\n",
    "nb = 1\n",
    "t=-1\n",
    "p=1\n",
    "q=3\n",
    "ϕ=p/q\n",
    "param_dict[\"gauge\"] = \"Landau\"\n",
    "param_dict[\"t\"]=t\n",
    "param_dict[\"ϕ\"]=ϕ\n",
    "θθ = [0, 0]\n",
    "param_dict[\"θθ\"]=θθ\n",
    "\n",
    "sites, site_coord, site_number = get_sites(LL, vv_lattice, vv_basis);\n",
    "param_dict[\"sites\"] = sites\n",
    "param_dict[\"site_coord\"] = site_coord\n",
    "param_dict[\"site_number\"] = site_number;\n",
    "\n",
    "pbc=true\n",
    "param_dict[\"pbc\"] = pbc;\n",
    "neighbors = [ [1, 0, 1], [-1, 0, 1], [0, 1, 1], [0, -1, 1]  ];\n",
    "neighbors_list = [ neighbors ];\n",
    "param_dict[\"neighbors_list\"] = neighbors_list;\n",
    "\n",
    "N1 = 10\n",
    "N2 = 10\n",
    "dx=2*pi/N1\n",
    "dy=dx\n",
    "Tx=collect(range(start=0, stop=2*pi-dx, step=dx))\n",
    "Ty=collect(range(start=0, stop=2*pi-dy, step=dy));\n",
    "\n",
    "param_dict[\"Tx\"] = Tx;\n",
    "param_dict[\"Ty\"] = Ty;"
   ]
  },
  {
   "cell_type": "markdown",
   "id": "66fbf77b-4cd1-4f70-b97b-aa90f9811c7a",
   "metadata": {},
   "source": [
    "# Single Particle"
   ]
  },
  {
   "cell_type": "code",
   "execution_count": 254,
   "id": "17739b5a-dba5-47fb-9b11-2f37e41dec4a",
   "metadata": {},
   "outputs": [],
   "source": [
    "basis = NLevelBasis(N) \n",
    "param_dict[\"basis\"] = basis;"
   ]
  },
  {
   "cell_type": "code",
   "execution_count": 255,
   "id": "9059de72-6fc9-4c28-a4ef-b1659242c6d3",
   "metadata": {},
   "outputs": [],
   "source": [
    "param_dict[\"model_H1\"] = get_Hofstadter_hamiltonian\n",
    "H_T = get_Hofstadter_hamiltonian(param_dict);"
   ]
  },
  {
   "cell_type": "code",
   "execution_count": 256,
   "id": "fff20939-4be0-43a3-a969-d72375ff5b33",
   "metadata": {},
   "outputs": [],
   "source": [
    "H1 = get_sp_op(basis, H_T);"
   ]
  },
  {
   "cell_type": "code",
   "execution_count": 257,
   "id": "637d0340-2d47-4b3a-83fb-d42ac5f4d9dd",
   "metadata": {},
   "outputs": [],
   "source": [
    "EE, UU = eigenstates(dense(H1));"
   ]
  },
  {
   "cell_type": "markdown",
   "id": "6f4b486b-31ae-43c3-b3b9-084e0ea49f0d",
   "metadata": {},
   "source": [
    "### Single Particle Chern"
   ]
  },
  {
   "cell_type": "code",
   "execution_count": 258,
   "id": "7970f41f-2e61-4625-b449-623d6f2ed155",
   "metadata": {},
   "outputs": [],
   "source": [
    "param_dict[\"param_1\"] = \"Tx\"\n",
    "param_dict[\"param_2\"] = \"Ty\"\n",
    "EEA, UUA = calc_all_states_H1(param_dict);"
   ]
  },
  {
   "cell_type": "code",
   "execution_count": 259,
   "id": "a6b705d0-6425-4770-bbd3-30adb2640ce3",
   "metadata": {},
   "outputs": [
    {
     "data": {
      "image/svg+xml": [
       "<?xml version=\"1.0\" encoding=\"utf-8\"?>\n",
       "<svg xmlns=\"http://www.w3.org/2000/svg\" xmlns:xlink=\"http://www.w3.org/1999/xlink\" width=\"600\" height=\"400\" viewBox=\"0 0 2400 1600\">\n",
       "<defs>\n",
       "  <clipPath id=\"clip070\">\n",
       "    <rect x=\"0\" y=\"0\" width=\"2400\" height=\"1600\"/>\n",
       "  </clipPath>\n",
       "</defs>\n",
       "<path clip-path=\"url(#clip070)\" d=\"M0 1600 L2400 1600 L2400 0 L0 0  Z\" fill=\"#ffffff\" fill-rule=\"evenodd\" fill-opacity=\"1\"/>\n",
       "<defs>\n",
       "  <clipPath id=\"clip071\">\n",
       "    <rect x=\"480\" y=\"0\" width=\"1681\" height=\"1600\"/>\n",
       "  </clipPath>\n",
       "</defs>\n",
       "<path clip-path=\"url(#clip070)\" d=\"M147.478 1486.45 L2352.76 1486.45 L2352.76 47.2441 L147.478 47.2441  Z\" fill=\"#ffffff\" fill-rule=\"evenodd\" fill-opacity=\"1\"/>\n",
       "<defs>\n",
       "  <clipPath id=\"clip072\">\n",
       "    <rect x=\"147\" y=\"47\" width=\"2206\" height=\"1440\"/>\n",
       "  </clipPath>\n",
       "</defs>\n",
       "<polyline clip-path=\"url(#clip072)\" style=\"stroke:#000000; stroke-linecap:round; stroke-linejoin:round; stroke-width:2; stroke-opacity:0.1; fill:none\" points=\"469.948,1486.45 469.948,47.2441 \"/>\n",
       "<polyline clip-path=\"url(#clip072)\" style=\"stroke:#000000; stroke-linecap:round; stroke-linejoin:round; stroke-width:2; stroke-opacity:0.1; fill:none\" points=\"990.061,1486.45 990.061,47.2441 \"/>\n",
       "<polyline clip-path=\"url(#clip072)\" style=\"stroke:#000000; stroke-linecap:round; stroke-linejoin:round; stroke-width:2; stroke-opacity:0.1; fill:none\" points=\"1510.17,1486.45 1510.17,47.2441 \"/>\n",
       "<polyline clip-path=\"url(#clip072)\" style=\"stroke:#000000; stroke-linecap:round; stroke-linejoin:round; stroke-width:2; stroke-opacity:0.1; fill:none\" points=\"2030.29,1486.45 2030.29,47.2441 \"/>\n",
       "<polyline clip-path=\"url(#clip070)\" style=\"stroke:#000000; stroke-linecap:round; stroke-linejoin:round; stroke-width:4; stroke-opacity:1; fill:none\" points=\"147.478,1486.45 2352.76,1486.45 \"/>\n",
       "<polyline clip-path=\"url(#clip070)\" style=\"stroke:#000000; stroke-linecap:round; stroke-linejoin:round; stroke-width:4; stroke-opacity:1; fill:none\" points=\"469.948,1486.45 469.948,1467.55 \"/>\n",
       "<polyline clip-path=\"url(#clip070)\" style=\"stroke:#000000; stroke-linecap:round; stroke-linejoin:round; stroke-width:4; stroke-opacity:1; fill:none\" points=\"990.061,1486.45 990.061,1467.55 \"/>\n",
       "<polyline clip-path=\"url(#clip070)\" style=\"stroke:#000000; stroke-linecap:round; stroke-linejoin:round; stroke-width:4; stroke-opacity:1; fill:none\" points=\"1510.17,1486.45 1510.17,1467.55 \"/>\n",
       "<polyline clip-path=\"url(#clip070)\" style=\"stroke:#000000; stroke-linecap:round; stroke-linejoin:round; stroke-width:4; stroke-opacity:1; fill:none\" points=\"2030.29,1486.45 2030.29,1467.55 \"/>\n",
       "<path clip-path=\"url(#clip070)\" d=\"M464.601 1544.91 L480.92 1544.91 L480.92 1548.85 L458.976 1548.85 L458.976 1544.91 Q461.638 1542.16 466.221 1537.53 Q470.827 1532.88 472.008 1531.53 Q474.253 1529.01 475.133 1527.27 Q476.036 1525.51 476.036 1523.82 Q476.036 1521.07 474.091 1519.33 Q472.17 1517.6 469.068 1517.6 Q466.869 1517.6 464.415 1518.36 Q461.985 1519.13 459.207 1520.68 L459.207 1515.95 Q462.031 1514.82 464.485 1514.24 Q466.939 1513.66 468.976 1513.66 Q474.346 1513.66 477.54 1516.35 Q480.735 1519.03 480.735 1523.52 Q480.735 1525.65 479.925 1527.57 Q479.138 1529.47 477.031 1532.07 Q476.452 1532.74 473.351 1535.95 Q470.249 1539.15 464.601 1544.91 Z\" fill=\"#000000\" fill-rule=\"nonzero\" fill-opacity=\"1\" /><path clip-path=\"url(#clip070)\" d=\"M993.07 1518.36 L981.264 1536.81 L993.07 1536.81 L993.07 1518.36 M991.843 1514.29 L997.723 1514.29 L997.723 1536.81 L1002.65 1536.81 L1002.65 1540.7 L997.723 1540.7 L997.723 1548.85 L993.07 1548.85 L993.07 1540.7 L977.468 1540.7 L977.468 1536.19 L991.843 1514.29 Z\" fill=\"#000000\" fill-rule=\"nonzero\" fill-opacity=\"1\" /><path clip-path=\"url(#clip070)\" d=\"M1510.58 1529.7 Q1507.43 1529.7 1505.58 1531.86 Q1503.75 1534.01 1503.75 1537.76 Q1503.75 1541.49 1505.58 1543.66 Q1507.43 1545.82 1510.58 1545.82 Q1513.73 1545.82 1515.56 1543.66 Q1517.41 1541.49 1517.41 1537.76 Q1517.41 1534.01 1515.56 1531.86 Q1513.73 1529.7 1510.58 1529.7 M1519.86 1515.05 L1519.86 1519.31 Q1518.1 1518.48 1516.3 1518.04 Q1514.51 1517.6 1512.75 1517.6 Q1508.12 1517.6 1505.67 1520.72 Q1503.24 1523.85 1502.89 1530.17 Q1504.26 1528.15 1506.32 1527.09 Q1508.38 1526 1510.86 1526 Q1516.06 1526 1519.07 1529.17 Q1522.11 1532.32 1522.11 1537.76 Q1522.11 1543.08 1518.96 1546.3 Q1515.81 1549.52 1510.58 1549.52 Q1504.58 1549.52 1501.41 1544.94 Q1498.24 1540.33 1498.24 1531.6 Q1498.24 1523.41 1502.13 1518.55 Q1506.02 1513.66 1512.57 1513.66 Q1514.33 1513.66 1516.11 1514.01 Q1517.92 1514.36 1519.86 1515.05 Z\" fill=\"#000000\" fill-rule=\"nonzero\" fill-opacity=\"1\" /><path clip-path=\"url(#clip070)\" d=\"M2030.29 1532.44 Q2026.95 1532.44 2025.03 1534.22 Q2023.13 1536 2023.13 1539.13 Q2023.13 1542.25 2025.03 1544.03 Q2026.95 1545.82 2030.29 1545.82 Q2033.62 1545.82 2035.54 1544.03 Q2037.46 1542.23 2037.46 1539.13 Q2037.46 1536 2035.54 1534.22 Q2033.64 1532.44 2030.29 1532.44 M2025.61 1530.45 Q2022.6 1529.7 2020.91 1527.64 Q2019.24 1525.58 2019.24 1522.62 Q2019.24 1518.48 2022.18 1516.07 Q2025.15 1513.66 2030.29 1513.66 Q2035.45 1513.66 2038.39 1516.07 Q2041.33 1518.48 2041.33 1522.62 Q2041.33 1525.58 2039.64 1527.64 Q2037.97 1529.7 2034.99 1530.45 Q2038.36 1531.23 2040.24 1533.52 Q2042.14 1535.82 2042.14 1539.13 Q2042.14 1544.15 2039.06 1546.83 Q2036 1549.52 2030.29 1549.52 Q2024.57 1549.52 2021.49 1546.83 Q2018.43 1544.15 2018.43 1539.13 Q2018.43 1535.82 2020.33 1533.52 Q2022.23 1531.23 2025.61 1530.45 M2023.9 1523.06 Q2023.9 1525.75 2025.56 1527.25 Q2027.25 1528.76 2030.29 1528.76 Q2033.3 1528.76 2034.99 1527.25 Q2036.7 1525.75 2036.7 1523.06 Q2036.7 1520.38 2034.99 1518.87 Q2033.3 1517.37 2030.29 1517.37 Q2027.25 1517.37 2025.56 1518.87 Q2023.9 1520.38 2023.9 1523.06 Z\" fill=\"#000000\" fill-rule=\"nonzero\" fill-opacity=\"1\" /><polyline clip-path=\"url(#clip072)\" style=\"stroke:#000000; stroke-linecap:round; stroke-linejoin:round; stroke-width:2; stroke-opacity:0.1; fill:none\" points=\"147.478,1235.67 2352.76,1235.67 \"/>\n",
       "<polyline clip-path=\"url(#clip072)\" style=\"stroke:#000000; stroke-linecap:round; stroke-linejoin:round; stroke-width:2; stroke-opacity:0.1; fill:none\" points=\"147.478,948.749 2352.76,948.749 \"/>\n",
       "<polyline clip-path=\"url(#clip072)\" style=\"stroke:#000000; stroke-linecap:round; stroke-linejoin:round; stroke-width:2; stroke-opacity:0.1; fill:none\" points=\"147.478,661.824 2352.76,661.824 \"/>\n",
       "<polyline clip-path=\"url(#clip072)\" style=\"stroke:#000000; stroke-linecap:round; stroke-linejoin:round; stroke-width:2; stroke-opacity:0.1; fill:none\" points=\"147.478,374.9 2352.76,374.9 \"/>\n",
       "<polyline clip-path=\"url(#clip072)\" style=\"stroke:#000000; stroke-linecap:round; stroke-linejoin:round; stroke-width:2; stroke-opacity:0.1; fill:none\" points=\"147.478,87.9763 2352.76,87.9763 \"/>\n",
       "<polyline clip-path=\"url(#clip070)\" style=\"stroke:#000000; stroke-linecap:round; stroke-linejoin:round; stroke-width:4; stroke-opacity:1; fill:none\" points=\"147.478,1486.45 147.478,47.2441 \"/>\n",
       "<polyline clip-path=\"url(#clip070)\" style=\"stroke:#000000; stroke-linecap:round; stroke-linejoin:round; stroke-width:4; stroke-opacity:1; fill:none\" points=\"147.478,1235.67 166.376,1235.67 \"/>\n",
       "<polyline clip-path=\"url(#clip070)\" style=\"stroke:#000000; stroke-linecap:round; stroke-linejoin:round; stroke-width:4; stroke-opacity:1; fill:none\" points=\"147.478,948.749 166.376,948.749 \"/>\n",
       "<polyline clip-path=\"url(#clip070)\" style=\"stroke:#000000; stroke-linecap:round; stroke-linejoin:round; stroke-width:4; stroke-opacity:1; fill:none\" points=\"147.478,661.824 166.376,661.824 \"/>\n",
       "<polyline clip-path=\"url(#clip070)\" style=\"stroke:#000000; stroke-linecap:round; stroke-linejoin:round; stroke-width:4; stroke-opacity:1; fill:none\" points=\"147.478,374.9 166.376,374.9 \"/>\n",
       "<polyline clip-path=\"url(#clip070)\" style=\"stroke:#000000; stroke-linecap:round; stroke-linejoin:round; stroke-width:4; stroke-opacity:1; fill:none\" points=\"147.478,87.9763 166.376,87.9763 \"/>\n",
       "<path clip-path=\"url(#clip070)\" d=\"M51.3625 1236.12 L81.0383 1236.12 L81.0383 1240.06 L51.3625 1240.06 L51.3625 1236.12 Z\" fill=\"#000000\" fill-rule=\"nonzero\" fill-opacity=\"1\" /><path clip-path=\"url(#clip070)\" d=\"M95.1586 1249.02 L111.478 1249.02 L111.478 1252.95 L89.5336 1252.95 L89.5336 1249.02 Q92.1956 1246.26 96.7789 1241.63 Q101.385 1236.98 102.566 1235.64 Q104.811 1233.11 105.691 1231.38 Q106.594 1229.62 106.594 1227.93 Q106.594 1225.18 104.649 1223.44 Q102.728 1221.7 99.6261 1221.7 Q97.4271 1221.7 94.9734 1222.47 Q92.5428 1223.23 89.7651 1224.78 L89.7651 1220.06 Q92.5891 1218.93 95.0428 1218.35 Q97.4965 1217.77 99.5335 1217.77 Q104.904 1217.77 108.098 1220.45 Q111.293 1223.14 111.293 1227.63 Q111.293 1229.76 110.483 1231.68 Q109.696 1233.58 107.589 1236.17 Q107.01 1236.84 103.909 1240.06 Q100.807 1243.25 95.1586 1249.02 Z\" fill=\"#000000\" fill-rule=\"nonzero\" fill-opacity=\"1\" /><path clip-path=\"url(#clip070)\" d=\"M50.9921 949.2 L80.6679 949.2 L80.6679 953.135 L50.9921 953.135 L50.9921 949.2 Z\" fill=\"#000000\" fill-rule=\"nonzero\" fill-opacity=\"1\" /><path clip-path=\"url(#clip070)\" d=\"M91.5706 962.093 L99.2095 962.093 L99.2095 935.728 L90.8993 937.394 L90.8993 933.135 L99.1632 931.469 L103.839 931.469 L103.839 962.093 L111.478 962.093 L111.478 966.029 L91.5706 966.029 L91.5706 962.093 Z\" fill=\"#000000\" fill-rule=\"nonzero\" fill-opacity=\"1\" /><path clip-path=\"url(#clip070)\" d=\"M99.5335 647.623 Q95.9224 647.623 94.0937 651.188 Q92.2882 654.73 92.2882 661.859 Q92.2882 668.966 94.0937 672.53 Q95.9224 676.072 99.5335 676.072 Q103.168 676.072 104.973 672.53 Q106.802 668.966 106.802 661.859 Q106.802 654.73 104.973 651.188 Q103.168 647.623 99.5335 647.623 M99.5335 643.919 Q105.344 643.919 108.399 648.526 Q111.478 653.109 111.478 661.859 Q111.478 670.586 108.399 675.192 Q105.344 679.776 99.5335 679.776 Q93.7234 679.776 90.6447 675.192 Q87.5892 670.586 87.5892 661.859 Q87.5892 653.109 90.6447 648.526 Q93.7234 643.919 99.5335 643.919 Z\" fill=\"#000000\" fill-rule=\"nonzero\" fill-opacity=\"1\" /><path clip-path=\"url(#clip070)\" d=\"M91.5706 388.245 L99.2095 388.245 L99.2095 361.88 L90.8993 363.546 L90.8993 359.287 L99.1632 357.62 L103.839 357.62 L103.839 388.245 L111.478 388.245 L111.478 392.18 L91.5706 392.18 L91.5706 388.245 Z\" fill=\"#000000\" fill-rule=\"nonzero\" fill-opacity=\"1\" /><path clip-path=\"url(#clip070)\" d=\"M95.1586 101.321 L111.478 101.321 L111.478 105.256 L89.5336 105.256 L89.5336 101.321 Q92.1956 98.5665 96.7789 93.9369 Q101.385 89.2841 102.566 87.9416 Q104.811 85.4184 105.691 83.6823 Q106.594 81.9231 106.594 80.2333 Q106.594 77.4786 104.649 75.7425 Q102.728 74.0064 99.6261 74.0064 Q97.4271 74.0064 94.9734 74.7703 Q92.5428 75.5342 89.7651 77.0851 L89.7651 72.3629 Q92.5891 71.2287 95.0428 70.65 Q97.4965 70.0713 99.5335 70.0713 Q104.904 70.0713 108.098 72.7565 Q111.293 75.4416 111.293 79.9323 Q111.293 82.062 110.483 83.9832 Q109.696 85.8814 107.589 88.474 Q107.01 89.1453 103.909 92.3628 Q100.807 95.5573 95.1586 101.321 Z\" fill=\"#000000\" fill-rule=\"nonzero\" fill-opacity=\"1\" /><circle clip-path=\"url(#clip072)\" cx=\"209.891\" cy=\"1445.72\" r=\"14.4\" fill=\"#009af9\" fill-rule=\"evenodd\" fill-opacity=\"1\" stroke=\"#000000\" stroke-opacity=\"1\" stroke-width=\"3.2\"/>\n",
       "<circle clip-path=\"url(#clip072)\" cx=\"469.948\" cy=\"1445.72\" r=\"14.4\" fill=\"#009af9\" fill-rule=\"evenodd\" fill-opacity=\"1\" stroke=\"#000000\" stroke-opacity=\"1\" stroke-width=\"3.2\"/>\n",
       "<circle clip-path=\"url(#clip072)\" cx=\"730.004\" cy=\"1445.72\" r=\"14.4\" fill=\"#009af9\" fill-rule=\"evenodd\" fill-opacity=\"1\" stroke=\"#000000\" stroke-opacity=\"1\" stroke-width=\"3.2\"/>\n",
       "<circle clip-path=\"url(#clip072)\" cx=\"990.061\" cy=\"451.781\" r=\"14.4\" fill=\"#009af9\" fill-rule=\"evenodd\" fill-opacity=\"1\" stroke=\"#000000\" stroke-opacity=\"1\" stroke-width=\"3.2\"/>\n",
       "<circle clip-path=\"url(#clip072)\" cx=\"1250.12\" cy=\"451.781\" r=\"14.4\" fill=\"#009af9\" fill-rule=\"evenodd\" fill-opacity=\"1\" stroke=\"#000000\" stroke-opacity=\"1\" stroke-width=\"3.2\"/>\n",
       "<circle clip-path=\"url(#clip072)\" cx=\"1510.17\" cy=\"451.781\" r=\"14.4\" fill=\"#009af9\" fill-rule=\"evenodd\" fill-opacity=\"1\" stroke=\"#000000\" stroke-opacity=\"1\" stroke-width=\"3.2\"/>\n",
       "<circle clip-path=\"url(#clip072)\" cx=\"1770.23\" cy=\"87.9763\" r=\"14.4\" fill=\"#009af9\" fill-rule=\"evenodd\" fill-opacity=\"1\" stroke=\"#000000\" stroke-opacity=\"1\" stroke-width=\"3.2\"/>\n",
       "<circle clip-path=\"url(#clip072)\" cx=\"2030.29\" cy=\"87.9763\" r=\"14.4\" fill=\"#009af9\" fill-rule=\"evenodd\" fill-opacity=\"1\" stroke=\"#000000\" stroke-opacity=\"1\" stroke-width=\"3.2\"/>\n",
       "<circle clip-path=\"url(#clip072)\" cx=\"2290.34\" cy=\"87.9763\" r=\"14.4\" fill=\"#009af9\" fill-rule=\"evenodd\" fill-opacity=\"1\" stroke=\"#000000\" stroke-opacity=\"1\" stroke-width=\"3.2\"/>\n",
       "<path clip-path=\"url(#clip070)\" d=\"M220.987 198.898 L493.945 198.898 L493.945 95.2176 L220.987 95.2176  Z\" fill=\"#ffffff\" fill-rule=\"evenodd\" fill-opacity=\"1\"/>\n",
       "<polyline clip-path=\"url(#clip070)\" style=\"stroke:#000000; stroke-linecap:round; stroke-linejoin:round; stroke-width:4; stroke-opacity:1; fill:none\" points=\"220.987,198.898 493.945,198.898 493.945,95.2176 220.987,95.2176 220.987,198.898 \"/>\n",
       "<circle clip-path=\"url(#clip070)\" cx=\"319\" cy=\"147.058\" r=\"23.04\" fill=\"#009af9\" fill-rule=\"evenodd\" fill-opacity=\"1\" stroke=\"#000000\" stroke-opacity=\"1\" stroke-width=\"5.12\"/>\n",
       "<path clip-path=\"url(#clip070)\" d=\"M430.854 166.745 Q429.049 171.375 427.336 172.787 Q425.623 174.199 422.753 174.199 L419.35 174.199 L419.35 170.634 L421.85 170.634 Q423.609 170.634 424.581 169.8 Q425.554 168.967 426.734 165.865 L427.498 163.921 L417.012 138.412 L421.526 138.412 L429.628 158.689 L437.729 138.412 L442.243 138.412 L430.854 166.745 Z\" fill=\"#000000\" fill-rule=\"nonzero\" fill-opacity=\"1\" /><path clip-path=\"url(#clip070)\" d=\"M449.535 160.402 L457.174 160.402 L457.174 134.037 L448.864 135.703 L448.864 131.444 L457.127 129.778 L461.803 129.778 L461.803 160.402 L469.442 160.402 L469.442 164.338 L449.535 164.338 L449.535 160.402 Z\" fill=\"#000000\" fill-rule=\"nonzero\" fill-opacity=\"1\" /></svg>\n"
      ]
     },
     "execution_count": 259,
     "metadata": {},
     "output_type": "execute_result"
    }
   ],
   "source": [
    "using Plots\n",
    "scatter(real(EEA[1,1,:]))"
   ]
  },
  {
   "cell_type": "code",
   "execution_count": 260,
   "id": "db1948f3-e870-41b1-b52f-28706802ce36",
   "metadata": {},
   "outputs": [
    {
     "data": {
      "text/plain": [
       "3-element Vector{Any}:\n",
       "                 1.0 + 1.8180514390136542e-16im\n",
       " -1.9999999999999998 - 4.3553168489658506e-17im\n",
       "  1.0000000000000002 - 8.238962287498079e-17im"
      ]
     },
     "execution_count": 260,
     "metadata": {},
     "output_type": "execute_result"
    }
   ],
   "source": [
    "bands = [[1,3],[4,6],[7,9]]\n",
    "calc_chern_bands(UUA, bands)"
   ]
  },
  {
   "cell_type": "markdown",
   "id": "63fcf1b3-220c-4469-88b0-8bd7f9db0c9a",
   "metadata": {},
   "source": [
    "## Projected Single Particle"
   ]
  },
  {
   "cell_type": "code",
   "execution_count": 300,
   "id": "708bcc00-b536-4e59-88f6-fd0495b568b9",
   "metadata": {},
   "outputs": [
    {
     "data": {
      "text/plain": [
       "Subspace(superbasis=NLevel(N=9), states:3)"
      ]
     },
     "execution_count": 300,
     "metadata": {},
     "output_type": "execute_result"
    }
   ],
   "source": [
    "sub_states = get_subset_states(H1, 1:3);\n",
    "subspace_proj, P, Pt = get_projector_op(basis, sub_states);\n",
    "H1_proj = get_subspace_op(H1, P, Pt)\n",
    "param_dict[\"subspace_proj\"] = subspace_proj"
   ]
  },
  {
   "cell_type": "markdown",
   "id": "ec353f8d-0674-468f-a05e-58ae3f090537",
   "metadata": {},
   "source": [
    "### Projected Single Particle Chern"
   ]
  },
  {
   "cell_type": "code",
   "execution_count": 301,
   "id": "36fd87bf-2d20-43d3-bca4-ccf23c54a178",
   "metadata": {},
   "outputs": [],
   "source": [
    "param_dict[\"sub_range\"] = 4:6\n",
    "EEA, UUA = calc_all_states_H1(param_dict);"
   ]
  },
  {
   "cell_type": "code",
   "execution_count": 302,
   "id": "ff6201b8-80f1-46e5-a729-f6813f208463",
   "metadata": {},
   "outputs": [
    {
     "data": {
      "text/plain": [
       "1-element Vector{Any}:\n",
       " -1.9999999999999998 - 4.3553168489658506e-17im"
      ]
     },
     "execution_count": 302,
     "metadata": {},
     "output_type": "execute_result"
    }
   ],
   "source": [
    "bands = [[1,3]]\n",
    "calc_chern_bands(UUA, bands)"
   ]
  },
  {
   "cell_type": "markdown",
   "id": "2ec8dd70-44d9-44ab-8d39-7c2fb9fee9d8",
   "metadata": {},
   "source": [
    "# Many Body"
   ]
  },
  {
   "cell_type": "code",
   "execution_count": 303,
   "id": "1438405e-25a3-494c-bf19-061eec05ac46",
   "metadata": {},
   "outputs": [],
   "source": [
    "delete!(param_dict, \"sub_range\");"
   ]
  },
  {
   "cell_type": "code",
   "execution_count": 304,
   "id": "2828494c-0175-4ccb-b105-b64eb8079906",
   "metadata": {},
   "outputs": [
    {
     "data": {
      "text/plain": [
       "ManyBody(onebodybasis=NLevel(N=9), states:45)"
      ]
     },
     "execution_count": 304,
     "metadata": {},
     "output_type": "execute_result"
    }
   ],
   "source": [
    "PN = 2\n",
    "param_dict[\"PN\"] = PN\n",
    "basis_mb = get_basis_mb(param_dict)"
   ]
  },
  {
   "cell_type": "code",
   "execution_count": 305,
   "id": "ba6ffe1c-f04f-4f3b-b9ef-e88164656983",
   "metadata": {},
   "outputs": [
    {
     "data": {
      "text/plain": [
       "ManyBody(onebodybasis=NLevel(N=9), states:45)"
      ]
     },
     "execution_count": 305,
     "metadata": {},
     "output_type": "execute_result"
    }
   ],
   "source": [
    "param_dict[\"basis_mb\"]"
   ]
  },
  {
   "cell_type": "code",
   "execution_count": 306,
   "id": "017b8a39-e674-45ad-bb6e-2c8604de9247",
   "metadata": {},
   "outputs": [
    {
     "data": {
      "text/plain": [
       "45"
      ]
     },
     "execution_count": 306,
     "metadata": {},
     "output_type": "execute_result"
    }
   ],
   "source": [
    "param_dict[\"dimH_mb\"] = length(basis_mb)"
   ]
  },
  {
   "cell_type": "markdown",
   "id": "b92e4415-875b-45f6-8c40-88426e004877",
   "metadata": {},
   "source": [
    "## Non-Interacting Many Body"
   ]
  },
  {
   "cell_type": "code",
   "execution_count": 307,
   "id": "130bf284-e3c8-4116-bda7-524cc874f308",
   "metadata": {},
   "outputs": [
    {
     "data": {
      "text/plain": [
       "45"
      ]
     },
     "execution_count": 307,
     "metadata": {},
     "output_type": "execute_result"
    }
   ],
   "source": [
    "basis_mb.shape[1]"
   ]
  },
  {
   "cell_type": "code",
   "execution_count": 308,
   "id": "2c540cf3-1e0d-49ef-b4da-186f889c6935",
   "metadata": {},
   "outputs": [],
   "source": [
    "H1_mb = get_mb_op(basis_mb, H1);"
   ]
  },
  {
   "cell_type": "code",
   "execution_count": 309,
   "id": "b77595a1-16eb-42c4-8d3c-ce6c2e6533a7",
   "metadata": {},
   "outputs": [],
   "source": [
    "EEA, UUA = calc_all_states_H_mb(param_dict);"
   ]
  },
  {
   "cell_type": "code",
   "execution_count": 310,
   "id": "7fd5ab5f-c050-4d4d-ad45-d5f2a84f468f",
   "metadata": {},
   "outputs": [
    {
     "data": {
      "image/svg+xml": [
       "<?xml version=\"1.0\" encoding=\"utf-8\"?>\n",
       "<svg xmlns=\"http://www.w3.org/2000/svg\" xmlns:xlink=\"http://www.w3.org/1999/xlink\" width=\"600\" height=\"400\" viewBox=\"0 0 2400 1600\">\n",
       "<defs>\n",
       "  <clipPath id=\"clip150\">\n",
       "    <rect x=\"0\" y=\"0\" width=\"2400\" height=\"1600\"/>\n",
       "  </clipPath>\n",
       "</defs>\n",
       "<path clip-path=\"url(#clip150)\" d=\"M0 1600 L2400 1600 L2400 0 L0 0  Z\" fill=\"#ffffff\" fill-rule=\"evenodd\" fill-opacity=\"1\"/>\n",
       "<defs>\n",
       "  <clipPath id=\"clip151\">\n",
       "    <rect x=\"480\" y=\"0\" width=\"1681\" height=\"1600\"/>\n",
       "  </clipPath>\n",
       "</defs>\n",
       "<path clip-path=\"url(#clip150)\" d=\"M149.191 1486.45 L2352.76 1486.45 L2352.76 47.2441 L149.191 47.2441  Z\" fill=\"#ffffff\" fill-rule=\"evenodd\" fill-opacity=\"1\"/>\n",
       "<defs>\n",
       "  <clipPath id=\"clip152\">\n",
       "    <rect x=\"149\" y=\"47\" width=\"2205\" height=\"1440\"/>\n",
       "  </clipPath>\n",
       "</defs>\n",
       "<polyline clip-path=\"url(#clip152)\" style=\"stroke:#000000; stroke-linecap:round; stroke-linejoin:round; stroke-width:2; stroke-opacity:0.1; fill:none\" points=\"164.31,1486.45 164.31,47.2441 \"/>\n",
       "<polyline clip-path=\"url(#clip152)\" style=\"stroke:#000000; stroke-linecap:round; stroke-linejoin:round; stroke-width:2; stroke-opacity:0.1; fill:none\" points=\"636.772,1486.45 636.772,47.2441 \"/>\n",
       "<polyline clip-path=\"url(#clip152)\" style=\"stroke:#000000; stroke-linecap:round; stroke-linejoin:round; stroke-width:2; stroke-opacity:0.1; fill:none\" points=\"1109.23,1486.45 1109.23,47.2441 \"/>\n",
       "<polyline clip-path=\"url(#clip152)\" style=\"stroke:#000000; stroke-linecap:round; stroke-linejoin:round; stroke-width:2; stroke-opacity:0.1; fill:none\" points=\"1581.7,1486.45 1581.7,47.2441 \"/>\n",
       "<polyline clip-path=\"url(#clip152)\" style=\"stroke:#000000; stroke-linecap:round; stroke-linejoin:round; stroke-width:2; stroke-opacity:0.1; fill:none\" points=\"2054.16,1486.45 2054.16,47.2441 \"/>\n",
       "<polyline clip-path=\"url(#clip150)\" style=\"stroke:#000000; stroke-linecap:round; stroke-linejoin:round; stroke-width:4; stroke-opacity:1; fill:none\" points=\"149.191,1486.45 2352.76,1486.45 \"/>\n",
       "<polyline clip-path=\"url(#clip150)\" style=\"stroke:#000000; stroke-linecap:round; stroke-linejoin:round; stroke-width:4; stroke-opacity:1; fill:none\" points=\"164.31,1486.45 164.31,1467.55 \"/>\n",
       "<polyline clip-path=\"url(#clip150)\" style=\"stroke:#000000; stroke-linecap:round; stroke-linejoin:round; stroke-width:4; stroke-opacity:1; fill:none\" points=\"636.772,1486.45 636.772,1467.55 \"/>\n",
       "<polyline clip-path=\"url(#clip150)\" style=\"stroke:#000000; stroke-linecap:round; stroke-linejoin:round; stroke-width:4; stroke-opacity:1; fill:none\" points=\"1109.23,1486.45 1109.23,1467.55 \"/>\n",
       "<polyline clip-path=\"url(#clip150)\" style=\"stroke:#000000; stroke-linecap:round; stroke-linejoin:round; stroke-width:4; stroke-opacity:1; fill:none\" points=\"1581.7,1486.45 1581.7,1467.55 \"/>\n",
       "<polyline clip-path=\"url(#clip150)\" style=\"stroke:#000000; stroke-linecap:round; stroke-linejoin:round; stroke-width:4; stroke-opacity:1; fill:none\" points=\"2054.16,1486.45 2054.16,1467.55 \"/>\n",
       "<path clip-path=\"url(#clip150)\" d=\"M164.31 1517.37 Q160.699 1517.37 158.87 1520.93 Q157.064 1524.47 157.064 1531.6 Q157.064 1538.71 158.87 1542.27 Q160.699 1545.82 164.31 1545.82 Q167.944 1545.82 169.749 1542.27 Q171.578 1538.71 171.578 1531.6 Q171.578 1524.47 169.749 1520.93 Q167.944 1517.37 164.31 1517.37 M164.31 1513.66 Q170.12 1513.66 173.175 1518.27 Q176.254 1522.85 176.254 1531.6 Q176.254 1540.33 173.175 1544.94 Q170.12 1549.52 164.31 1549.52 Q158.5 1549.52 155.421 1544.94 Q152.365 1540.33 152.365 1531.6 Q152.365 1522.85 155.421 1518.27 Q158.5 1513.66 164.31 1513.66 Z\" fill=\"#000000\" fill-rule=\"nonzero\" fill-opacity=\"1\" /><path clip-path=\"url(#clip150)\" d=\"M611.46 1544.91 L619.099 1544.91 L619.099 1518.55 L610.788 1520.21 L610.788 1515.95 L619.052 1514.29 L623.728 1514.29 L623.728 1544.91 L631.367 1544.91 L631.367 1548.85 L611.46 1548.85 L611.46 1544.91 Z\" fill=\"#000000\" fill-rule=\"nonzero\" fill-opacity=\"1\" /><path clip-path=\"url(#clip150)\" d=\"M650.811 1517.37 Q647.2 1517.37 645.372 1520.93 Q643.566 1524.47 643.566 1531.6 Q643.566 1538.71 645.372 1542.27 Q647.2 1545.82 650.811 1545.82 Q654.446 1545.82 656.251 1542.27 Q658.08 1538.71 658.08 1531.6 Q658.08 1524.47 656.251 1520.93 Q654.446 1517.37 650.811 1517.37 M650.811 1513.66 Q656.622 1513.66 659.677 1518.27 Q662.756 1522.85 662.756 1531.6 Q662.756 1540.33 659.677 1544.94 Q656.622 1549.52 650.811 1549.52 Q645.001 1549.52 641.923 1544.94 Q638.867 1540.33 638.867 1531.6 Q638.867 1522.85 641.923 1518.27 Q645.001 1513.66 650.811 1513.66 Z\" fill=\"#000000\" fill-rule=\"nonzero\" fill-opacity=\"1\" /><path clip-path=\"url(#clip150)\" d=\"M1088.01 1544.91 L1104.33 1544.91 L1104.33 1548.85 L1082.38 1548.85 L1082.38 1544.91 Q1085.04 1542.16 1089.63 1537.53 Q1094.23 1532.88 1095.42 1531.53 Q1097.66 1529.01 1098.54 1527.27 Q1099.44 1525.51 1099.44 1523.82 Q1099.44 1521.07 1097.5 1519.33 Q1095.58 1517.6 1092.48 1517.6 Q1090.28 1517.6 1087.82 1518.36 Q1085.39 1519.13 1082.61 1520.68 L1082.61 1515.95 Q1085.44 1514.82 1087.89 1514.24 Q1090.35 1513.66 1092.38 1513.66 Q1097.75 1513.66 1100.95 1516.35 Q1104.14 1519.03 1104.14 1523.52 Q1104.14 1525.65 1103.33 1527.57 Q1102.54 1529.47 1100.44 1532.07 Q1099.86 1532.74 1096.76 1535.95 Q1093.66 1539.15 1088.01 1544.91 Z\" fill=\"#000000\" fill-rule=\"nonzero\" fill-opacity=\"1\" /><path clip-path=\"url(#clip150)\" d=\"M1124.14 1517.37 Q1120.53 1517.37 1118.7 1520.93 Q1116.9 1524.47 1116.9 1531.6 Q1116.9 1538.71 1118.7 1542.27 Q1120.53 1545.82 1124.14 1545.82 Q1127.78 1545.82 1129.58 1542.27 Q1131.41 1538.71 1131.41 1531.6 Q1131.41 1524.47 1129.58 1520.93 Q1127.78 1517.37 1124.14 1517.37 M1124.14 1513.66 Q1129.95 1513.66 1133.01 1518.27 Q1136.09 1522.85 1136.09 1531.6 Q1136.09 1540.33 1133.01 1544.94 Q1129.95 1549.52 1124.14 1549.52 Q1118.33 1549.52 1115.25 1544.94 Q1112.2 1540.33 1112.2 1531.6 Q1112.2 1522.85 1115.25 1518.27 Q1118.33 1513.66 1124.14 1513.66 Z\" fill=\"#000000\" fill-rule=\"nonzero\" fill-opacity=\"1\" /><path clip-path=\"url(#clip150)\" d=\"M1570.54 1530.21 Q1573.9 1530.93 1575.77 1533.2 Q1577.67 1535.47 1577.67 1538.8 Q1577.67 1543.92 1574.15 1546.72 Q1570.63 1549.52 1564.15 1549.52 Q1561.98 1549.52 1559.66 1549.08 Q1557.37 1548.66 1554.91 1547.81 L1554.91 1543.29 Q1556.86 1544.43 1559.17 1545.01 Q1561.49 1545.58 1564.01 1545.58 Q1568.41 1545.58 1570.7 1543.85 Q1573.02 1542.11 1573.02 1538.8 Q1573.02 1535.75 1570.86 1534.03 Q1568.73 1532.3 1564.91 1532.3 L1560.89 1532.3 L1560.89 1528.45 L1565.1 1528.45 Q1568.55 1528.45 1570.38 1527.09 Q1572.21 1525.7 1572.21 1523.11 Q1572.21 1520.45 1570.31 1519.03 Q1568.43 1517.6 1564.91 1517.6 Q1562.99 1517.6 1560.79 1518.01 Q1558.6 1518.43 1555.96 1519.31 L1555.96 1515.14 Q1558.62 1514.4 1560.93 1514.03 Q1563.27 1513.66 1565.33 1513.66 Q1570.66 1513.66 1573.76 1516.09 Q1576.86 1518.5 1576.86 1522.62 Q1576.86 1525.49 1575.22 1527.48 Q1573.57 1529.45 1570.54 1530.21 Z\" fill=\"#000000\" fill-rule=\"nonzero\" fill-opacity=\"1\" /><path clip-path=\"url(#clip150)\" d=\"M1596.54 1517.37 Q1592.92 1517.37 1591.1 1520.93 Q1589.29 1524.47 1589.29 1531.6 Q1589.29 1538.71 1591.1 1542.27 Q1592.92 1545.82 1596.54 1545.82 Q1600.17 1545.82 1601.97 1542.27 Q1603.8 1538.71 1603.8 1531.6 Q1603.8 1524.47 1601.97 1520.93 Q1600.17 1517.37 1596.54 1517.37 M1596.54 1513.66 Q1602.35 1513.66 1605.4 1518.27 Q1608.48 1522.85 1608.48 1531.6 Q1608.48 1540.33 1605.4 1544.94 Q1602.35 1549.52 1596.54 1549.52 Q1590.72 1549.52 1587.65 1544.94 Q1584.59 1540.33 1584.59 1531.6 Q1584.59 1522.85 1587.65 1518.27 Q1590.72 1513.66 1596.54 1513.66 Z\" fill=\"#000000\" fill-rule=\"nonzero\" fill-opacity=\"1\" /><path clip-path=\"url(#clip150)\" d=\"M2042.33 1518.36 L2030.53 1536.81 L2042.33 1536.81 L2042.33 1518.36 M2041.1 1514.29 L2046.98 1514.29 L2046.98 1536.81 L2051.91 1536.81 L2051.91 1540.7 L2046.98 1540.7 L2046.98 1548.85 L2042.33 1548.85 L2042.33 1540.7 L2026.73 1540.7 L2026.73 1536.19 L2041.1 1514.29 Z\" fill=\"#000000\" fill-rule=\"nonzero\" fill-opacity=\"1\" /><path clip-path=\"url(#clip150)\" d=\"M2069.65 1517.37 Q2066.03 1517.37 2064.21 1520.93 Q2062.4 1524.47 2062.4 1531.6 Q2062.4 1538.71 2064.21 1542.27 Q2066.03 1545.82 2069.65 1545.82 Q2073.28 1545.82 2075.09 1542.27 Q2076.91 1538.71 2076.91 1531.6 Q2076.91 1524.47 2075.09 1520.93 Q2073.28 1517.37 2069.65 1517.37 M2069.65 1513.66 Q2075.46 1513.66 2078.51 1518.27 Q2081.59 1522.85 2081.59 1531.6 Q2081.59 1540.33 2078.51 1544.94 Q2075.46 1549.52 2069.65 1549.52 Q2063.84 1549.52 2060.76 1544.94 Q2057.7 1540.33 2057.7 1531.6 Q2057.7 1522.85 2060.76 1518.27 Q2063.84 1513.66 2069.65 1513.66 Z\" fill=\"#000000\" fill-rule=\"nonzero\" fill-opacity=\"1\" /><polyline clip-path=\"url(#clip152)\" style=\"stroke:#000000; stroke-linecap:round; stroke-linejoin:round; stroke-width:2; stroke-opacity:0.1; fill:none\" points=\"149.191,1235.67 2352.76,1235.67 \"/>\n",
       "<polyline clip-path=\"url(#clip152)\" style=\"stroke:#000000; stroke-linecap:round; stroke-linejoin:round; stroke-width:2; stroke-opacity:0.1; fill:none\" points=\"149.191,948.749 2352.76,948.749 \"/>\n",
       "<polyline clip-path=\"url(#clip152)\" style=\"stroke:#000000; stroke-linecap:round; stroke-linejoin:round; stroke-width:2; stroke-opacity:0.1; fill:none\" points=\"149.191,661.824 2352.76,661.824 \"/>\n",
       "<polyline clip-path=\"url(#clip152)\" style=\"stroke:#000000; stroke-linecap:round; stroke-linejoin:round; stroke-width:2; stroke-opacity:0.1; fill:none\" points=\"149.191,374.9 2352.76,374.9 \"/>\n",
       "<polyline clip-path=\"url(#clip152)\" style=\"stroke:#000000; stroke-linecap:round; stroke-linejoin:round; stroke-width:2; stroke-opacity:0.1; fill:none\" points=\"149.191,87.9763 2352.76,87.9763 \"/>\n",
       "<polyline clip-path=\"url(#clip150)\" style=\"stroke:#000000; stroke-linecap:round; stroke-linejoin:round; stroke-width:4; stroke-opacity:1; fill:none\" points=\"149.191,1486.45 149.191,47.2441 \"/>\n",
       "<polyline clip-path=\"url(#clip150)\" style=\"stroke:#000000; stroke-linecap:round; stroke-linejoin:round; stroke-width:4; stroke-opacity:1; fill:none\" points=\"149.191,1235.67 168.089,1235.67 \"/>\n",
       "<polyline clip-path=\"url(#clip150)\" style=\"stroke:#000000; stroke-linecap:round; stroke-linejoin:round; stroke-width:4; stroke-opacity:1; fill:none\" points=\"149.191,948.749 168.089,948.749 \"/>\n",
       "<polyline clip-path=\"url(#clip150)\" style=\"stroke:#000000; stroke-linecap:round; stroke-linejoin:round; stroke-width:4; stroke-opacity:1; fill:none\" points=\"149.191,661.824 168.089,661.824 \"/>\n",
       "<polyline clip-path=\"url(#clip150)\" style=\"stroke:#000000; stroke-linecap:round; stroke-linejoin:round; stroke-width:4; stroke-opacity:1; fill:none\" points=\"149.191,374.9 168.089,374.9 \"/>\n",
       "<polyline clip-path=\"url(#clip150)\" style=\"stroke:#000000; stroke-linecap:round; stroke-linejoin:round; stroke-width:4; stroke-opacity:1; fill:none\" points=\"149.191,87.9763 168.089,87.9763 \"/>\n",
       "<path clip-path=\"url(#clip150)\" d=\"M50.9921 1236.12 L80.6679 1236.12 L80.6679 1240.06 L50.9921 1240.06 L50.9921 1236.12 Z\" fill=\"#000000\" fill-rule=\"nonzero\" fill-opacity=\"1\" /><path clip-path=\"url(#clip150)\" d=\"M103.608 1222.47 L91.8021 1240.92 L103.608 1240.92 L103.608 1222.47 M102.381 1218.39 L108.26 1218.39 L108.26 1240.92 L113.191 1240.92 L113.191 1244.8 L108.26 1244.8 L108.26 1252.95 L103.608 1252.95 L103.608 1244.8 L88.0058 1244.8 L88.0058 1240.29 L102.381 1218.39 Z\" fill=\"#000000\" fill-rule=\"nonzero\" fill-opacity=\"1\" /><path clip-path=\"url(#clip150)\" d=\"M53.0754 949.2 L82.7512 949.2 L82.7512 953.135 L53.0754 953.135 L53.0754 949.2 Z\" fill=\"#000000\" fill-rule=\"nonzero\" fill-opacity=\"1\" /><path clip-path=\"url(#clip150)\" d=\"M96.8715 962.093 L113.191 962.093 L113.191 966.029 L91.2465 966.029 L91.2465 962.093 Q93.9086 959.339 98.4919 954.709 Q103.098 950.056 104.279 948.714 Q106.524 946.191 107.404 944.455 Q108.307 942.695 108.307 941.006 Q108.307 938.251 106.362 936.515 Q104.441 934.779 101.339 934.779 Q99.14 934.779 96.6863 935.543 Q94.2558 936.307 91.478 937.857 L91.478 933.135 Q94.3021 932.001 96.7558 931.422 Q99.2095 930.844 101.246 930.844 Q106.617 930.844 109.811 933.529 Q113.006 936.214 113.006 940.705 Q113.006 942.834 112.196 944.756 Q111.408 946.654 109.302 949.246 Q108.723 949.918 105.621 953.135 Q102.52 956.33 96.8715 962.093 Z\" fill=\"#000000\" fill-rule=\"nonzero\" fill-opacity=\"1\" /><path clip-path=\"url(#clip150)\" d=\"M101.246 647.623 Q97.6354 647.623 95.8067 651.188 Q94.0012 654.73 94.0012 661.859 Q94.0012 668.966 95.8067 672.53 Q97.6354 676.072 101.246 676.072 Q104.881 676.072 106.686 672.53 Q108.515 668.966 108.515 661.859 Q108.515 654.73 106.686 651.188 Q104.881 647.623 101.246 647.623 M101.246 643.919 Q107.057 643.919 110.112 648.526 Q113.191 653.109 113.191 661.859 Q113.191 670.586 110.112 675.192 Q107.057 679.776 101.246 679.776 Q95.4363 679.776 92.3576 675.192 Q89.3021 670.586 89.3021 661.859 Q89.3021 653.109 92.3576 648.526 Q95.4363 643.919 101.246 643.919 Z\" fill=\"#000000\" fill-rule=\"nonzero\" fill-opacity=\"1\" /><path clip-path=\"url(#clip150)\" d=\"M96.8715 388.245 L113.191 388.245 L113.191 392.18 L91.2465 392.18 L91.2465 388.245 Q93.9086 385.491 98.4919 380.861 Q103.098 376.208 104.279 374.866 Q106.524 372.343 107.404 370.606 Q108.307 368.847 108.307 367.157 Q108.307 364.403 106.362 362.667 Q104.441 360.931 101.339 360.931 Q99.14 360.931 96.6863 361.694 Q94.2558 362.458 91.478 364.009 L91.478 359.287 Q94.3021 358.153 96.7558 357.574 Q99.2095 356.995 101.246 356.995 Q106.617 356.995 109.811 359.681 Q113.006 362.366 113.006 366.856 Q113.006 368.986 112.196 370.907 Q111.408 372.805 109.302 375.398 Q108.723 376.069 105.621 379.287 Q102.52 382.481 96.8715 388.245 Z\" fill=\"#000000\" fill-rule=\"nonzero\" fill-opacity=\"1\" /><path clip-path=\"url(#clip150)\" d=\"M103.608 74.7703 L91.8021 93.2193 L103.608 93.2193 L103.608 74.7703 M102.381 70.6963 L108.26 70.6963 L108.26 93.2193 L113.191 93.2193 L113.191 97.1082 L108.26 97.1082 L108.26 105.256 L103.608 105.256 L103.608 97.1082 L88.0058 97.1082 L88.0058 92.5943 L102.381 70.6963 Z\" fill=\"#000000\" fill-rule=\"nonzero\" fill-opacity=\"1\" /><circle clip-path=\"url(#clip152)\" cx=\"211.556\" cy=\"1445.72\" r=\"14.4\" fill=\"#009af9\" fill-rule=\"evenodd\" fill-opacity=\"1\" stroke=\"#000000\" stroke-opacity=\"1\" stroke-width=\"3.2\"/>\n",
       "<circle clip-path=\"url(#clip152)\" cx=\"258.802\" cy=\"1445.72\" r=\"14.4\" fill=\"#009af9\" fill-rule=\"evenodd\" fill-opacity=\"1\" stroke=\"#000000\" stroke-opacity=\"1\" stroke-width=\"3.2\"/>\n",
       "<circle clip-path=\"url(#clip152)\" cx=\"306.048\" cy=\"1445.72\" r=\"14.4\" fill=\"#009af9\" fill-rule=\"evenodd\" fill-opacity=\"1\" stroke=\"#000000\" stroke-opacity=\"1\" stroke-width=\"3.2\"/>\n",
       "<circle clip-path=\"url(#clip152)\" cx=\"353.295\" cy=\"1445.72\" r=\"14.4\" fill=\"#009af9\" fill-rule=\"evenodd\" fill-opacity=\"1\" stroke=\"#000000\" stroke-opacity=\"1\" stroke-width=\"3.2\"/>\n",
       "<circle clip-path=\"url(#clip152)\" cx=\"400.541\" cy=\"1445.72\" r=\"14.4\" fill=\"#009af9\" fill-rule=\"evenodd\" fill-opacity=\"1\" stroke=\"#000000\" stroke-opacity=\"1\" stroke-width=\"3.2\"/>\n",
       "<circle clip-path=\"url(#clip152)\" cx=\"447.787\" cy=\"1445.72\" r=\"14.4\" fill=\"#009af9\" fill-rule=\"evenodd\" fill-opacity=\"1\" stroke=\"#000000\" stroke-opacity=\"1\" stroke-width=\"3.2\"/>\n",
       "<circle clip-path=\"url(#clip152)\" cx=\"495.033\" cy=\"948.749\" r=\"14.4\" fill=\"#009af9\" fill-rule=\"evenodd\" fill-opacity=\"1\" stroke=\"#000000\" stroke-opacity=\"1\" stroke-width=\"3.2\"/>\n",
       "<circle clip-path=\"url(#clip152)\" cx=\"542.28\" cy=\"948.749\" r=\"14.4\" fill=\"#009af9\" fill-rule=\"evenodd\" fill-opacity=\"1\" stroke=\"#000000\" stroke-opacity=\"1\" stroke-width=\"3.2\"/>\n",
       "<circle clip-path=\"url(#clip152)\" cx=\"589.526\" cy=\"948.749\" r=\"14.4\" fill=\"#009af9\" fill-rule=\"evenodd\" fill-opacity=\"1\" stroke=\"#000000\" stroke-opacity=\"1\" stroke-width=\"3.2\"/>\n",
       "<circle clip-path=\"url(#clip152)\" cx=\"636.772\" cy=\"948.749\" r=\"14.4\" fill=\"#009af9\" fill-rule=\"evenodd\" fill-opacity=\"1\" stroke=\"#000000\" stroke-opacity=\"1\" stroke-width=\"3.2\"/>\n",
       "<circle clip-path=\"url(#clip152)\" cx=\"684.018\" cy=\"948.749\" r=\"14.4\" fill=\"#009af9\" fill-rule=\"evenodd\" fill-opacity=\"1\" stroke=\"#000000\" stroke-opacity=\"1\" stroke-width=\"3.2\"/>\n",
       "<circle clip-path=\"url(#clip152)\" cx=\"731.265\" cy=\"948.749\" r=\"14.4\" fill=\"#009af9\" fill-rule=\"evenodd\" fill-opacity=\"1\" stroke=\"#000000\" stroke-opacity=\"1\" stroke-width=\"3.2\"/>\n",
       "<circle clip-path=\"url(#clip152)\" cx=\"778.511\" cy=\"948.749\" r=\"14.4\" fill=\"#009af9\" fill-rule=\"evenodd\" fill-opacity=\"1\" stroke=\"#000000\" stroke-opacity=\"1\" stroke-width=\"3.2\"/>\n",
       "<circle clip-path=\"url(#clip152)\" cx=\"825.757\" cy=\"948.749\" r=\"14.4\" fill=\"#009af9\" fill-rule=\"evenodd\" fill-opacity=\"1\" stroke=\"#000000\" stroke-opacity=\"1\" stroke-width=\"3.2\"/>\n",
       "<circle clip-path=\"url(#clip152)\" cx=\"873.003\" cy=\"948.749\" r=\"14.4\" fill=\"#009af9\" fill-rule=\"evenodd\" fill-opacity=\"1\" stroke=\"#000000\" stroke-opacity=\"1\" stroke-width=\"3.2\"/>\n",
       "<circle clip-path=\"url(#clip152)\" cx=\"920.25\" cy=\"766.846\" r=\"14.4\" fill=\"#009af9\" fill-rule=\"evenodd\" fill-opacity=\"1\" stroke=\"#000000\" stroke-opacity=\"1\" stroke-width=\"3.2\"/>\n",
       "<circle clip-path=\"url(#clip152)\" cx=\"967.496\" cy=\"766.846\" r=\"14.4\" fill=\"#009af9\" fill-rule=\"evenodd\" fill-opacity=\"1\" stroke=\"#000000\" stroke-opacity=\"1\" stroke-width=\"3.2\"/>\n",
       "<circle clip-path=\"url(#clip152)\" cx=\"1014.74\" cy=\"766.846\" r=\"14.4\" fill=\"#009af9\" fill-rule=\"evenodd\" fill-opacity=\"1\" stroke=\"#000000\" stroke-opacity=\"1\" stroke-width=\"3.2\"/>\n",
       "<circle clip-path=\"url(#clip152)\" cx=\"1061.99\" cy=\"766.846\" r=\"14.4\" fill=\"#009af9\" fill-rule=\"evenodd\" fill-opacity=\"1\" stroke=\"#000000\" stroke-opacity=\"1\" stroke-width=\"3.2\"/>\n",
       "<circle clip-path=\"url(#clip152)\" cx=\"1109.23\" cy=\"766.846\" r=\"14.4\" fill=\"#009af9\" fill-rule=\"evenodd\" fill-opacity=\"1\" stroke=\"#000000\" stroke-opacity=\"1\" stroke-width=\"3.2\"/>\n",
       "<circle clip-path=\"url(#clip152)\" cx=\"1156.48\" cy=\"766.846\" r=\"14.4\" fill=\"#009af9\" fill-rule=\"evenodd\" fill-opacity=\"1\" stroke=\"#000000\" stroke-opacity=\"1\" stroke-width=\"3.2\"/>\n",
       "<circle clip-path=\"url(#clip152)\" cx=\"1203.73\" cy=\"766.846\" r=\"14.4\" fill=\"#009af9\" fill-rule=\"evenodd\" fill-opacity=\"1\" stroke=\"#000000\" stroke-opacity=\"1\" stroke-width=\"3.2\"/>\n",
       "<circle clip-path=\"url(#clip152)\" cx=\"1250.97\" cy=\"766.846\" r=\"14.4\" fill=\"#009af9\" fill-rule=\"evenodd\" fill-opacity=\"1\" stroke=\"#000000\" stroke-opacity=\"1\" stroke-width=\"3.2\"/>\n",
       "<circle clip-path=\"url(#clip152)\" cx=\"1298.22\" cy=\"766.846\" r=\"14.4\" fill=\"#009af9\" fill-rule=\"evenodd\" fill-opacity=\"1\" stroke=\"#000000\" stroke-opacity=\"1\" stroke-width=\"3.2\"/>\n",
       "<circle clip-path=\"url(#clip152)\" cx=\"1345.47\" cy=\"451.781\" r=\"14.4\" fill=\"#009af9\" fill-rule=\"evenodd\" fill-opacity=\"1\" stroke=\"#000000\" stroke-opacity=\"1\" stroke-width=\"3.2\"/>\n",
       "<circle clip-path=\"url(#clip152)\" cx=\"1392.71\" cy=\"451.781\" r=\"14.4\" fill=\"#009af9\" fill-rule=\"evenodd\" fill-opacity=\"1\" stroke=\"#000000\" stroke-opacity=\"1\" stroke-width=\"3.2\"/>\n",
       "<circle clip-path=\"url(#clip152)\" cx=\"1439.96\" cy=\"451.781\" r=\"14.4\" fill=\"#009af9\" fill-rule=\"evenodd\" fill-opacity=\"1\" stroke=\"#000000\" stroke-opacity=\"1\" stroke-width=\"3.2\"/>\n",
       "<circle clip-path=\"url(#clip152)\" cx=\"1487.2\" cy=\"451.781\" r=\"14.4\" fill=\"#009af9\" fill-rule=\"evenodd\" fill-opacity=\"1\" stroke=\"#000000\" stroke-opacity=\"1\" stroke-width=\"3.2\"/>\n",
       "<circle clip-path=\"url(#clip152)\" cx=\"1534.45\" cy=\"451.781\" r=\"14.4\" fill=\"#009af9\" fill-rule=\"evenodd\" fill-opacity=\"1\" stroke=\"#000000\" stroke-opacity=\"1\" stroke-width=\"3.2\"/>\n",
       "<circle clip-path=\"url(#clip152)\" cx=\"1581.7\" cy=\"451.781\" r=\"14.4\" fill=\"#009af9\" fill-rule=\"evenodd\" fill-opacity=\"1\" stroke=\"#000000\" stroke-opacity=\"1\" stroke-width=\"3.2\"/>\n",
       "<circle clip-path=\"url(#clip152)\" cx=\"1628.94\" cy=\"269.879\" r=\"14.4\" fill=\"#009af9\" fill-rule=\"evenodd\" fill-opacity=\"1\" stroke=\"#000000\" stroke-opacity=\"1\" stroke-width=\"3.2\"/>\n",
       "<circle clip-path=\"url(#clip152)\" cx=\"1676.19\" cy=\"269.879\" r=\"14.4\" fill=\"#009af9\" fill-rule=\"evenodd\" fill-opacity=\"1\" stroke=\"#000000\" stroke-opacity=\"1\" stroke-width=\"3.2\"/>\n",
       "<circle clip-path=\"url(#clip152)\" cx=\"1723.44\" cy=\"269.879\" r=\"14.4\" fill=\"#009af9\" fill-rule=\"evenodd\" fill-opacity=\"1\" stroke=\"#000000\" stroke-opacity=\"1\" stroke-width=\"3.2\"/>\n",
       "<circle clip-path=\"url(#clip152)\" cx=\"1770.68\" cy=\"269.879\" r=\"14.4\" fill=\"#009af9\" fill-rule=\"evenodd\" fill-opacity=\"1\" stroke=\"#000000\" stroke-opacity=\"1\" stroke-width=\"3.2\"/>\n",
       "<circle clip-path=\"url(#clip152)\" cx=\"1817.93\" cy=\"269.879\" r=\"14.4\" fill=\"#009af9\" fill-rule=\"evenodd\" fill-opacity=\"1\" stroke=\"#000000\" stroke-opacity=\"1\" stroke-width=\"3.2\"/>\n",
       "<circle clip-path=\"url(#clip152)\" cx=\"1865.17\" cy=\"269.879\" r=\"14.4\" fill=\"#009af9\" fill-rule=\"evenodd\" fill-opacity=\"1\" stroke=\"#000000\" stroke-opacity=\"1\" stroke-width=\"3.2\"/>\n",
       "<circle clip-path=\"url(#clip152)\" cx=\"1912.42\" cy=\"269.879\" r=\"14.4\" fill=\"#009af9\" fill-rule=\"evenodd\" fill-opacity=\"1\" stroke=\"#000000\" stroke-opacity=\"1\" stroke-width=\"3.2\"/>\n",
       "<circle clip-path=\"url(#clip152)\" cx=\"1959.67\" cy=\"269.879\" r=\"14.4\" fill=\"#009af9\" fill-rule=\"evenodd\" fill-opacity=\"1\" stroke=\"#000000\" stroke-opacity=\"1\" stroke-width=\"3.2\"/>\n",
       "<circle clip-path=\"url(#clip152)\" cx=\"2006.91\" cy=\"269.879\" r=\"14.4\" fill=\"#009af9\" fill-rule=\"evenodd\" fill-opacity=\"1\" stroke=\"#000000\" stroke-opacity=\"1\" stroke-width=\"3.2\"/>\n",
       "<circle clip-path=\"url(#clip152)\" cx=\"2054.16\" cy=\"87.9763\" r=\"14.4\" fill=\"#009af9\" fill-rule=\"evenodd\" fill-opacity=\"1\" stroke=\"#000000\" stroke-opacity=\"1\" stroke-width=\"3.2\"/>\n",
       "<circle clip-path=\"url(#clip152)\" cx=\"2101.41\" cy=\"87.9763\" r=\"14.4\" fill=\"#009af9\" fill-rule=\"evenodd\" fill-opacity=\"1\" stroke=\"#000000\" stroke-opacity=\"1\" stroke-width=\"3.2\"/>\n",
       "<circle clip-path=\"url(#clip152)\" cx=\"2148.65\" cy=\"87.9763\" r=\"14.4\" fill=\"#009af9\" fill-rule=\"evenodd\" fill-opacity=\"1\" stroke=\"#000000\" stroke-opacity=\"1\" stroke-width=\"3.2\"/>\n",
       "<circle clip-path=\"url(#clip152)\" cx=\"2195.9\" cy=\"87.9763\" r=\"14.4\" fill=\"#009af9\" fill-rule=\"evenodd\" fill-opacity=\"1\" stroke=\"#000000\" stroke-opacity=\"1\" stroke-width=\"3.2\"/>\n",
       "<circle clip-path=\"url(#clip152)\" cx=\"2243.14\" cy=\"87.9763\" r=\"14.4\" fill=\"#009af9\" fill-rule=\"evenodd\" fill-opacity=\"1\" stroke=\"#000000\" stroke-opacity=\"1\" stroke-width=\"3.2\"/>\n",
       "<circle clip-path=\"url(#clip152)\" cx=\"2290.39\" cy=\"87.9763\" r=\"14.4\" fill=\"#009af9\" fill-rule=\"evenodd\" fill-opacity=\"1\" stroke=\"#000000\" stroke-opacity=\"1\" stroke-width=\"3.2\"/>\n",
       "<path clip-path=\"url(#clip150)\" d=\"M222.643 198.898 L495.43 198.898 L495.43 95.2176 L222.643 95.2176  Z\" fill=\"#ffffff\" fill-rule=\"evenodd\" fill-opacity=\"1\"/>\n",
       "<polyline clip-path=\"url(#clip150)\" style=\"stroke:#000000; stroke-linecap:round; stroke-linejoin:round; stroke-width:4; stroke-opacity:1; fill:none\" points=\"222.643,198.898 495.43,198.898 495.43,95.2176 222.643,95.2176 222.643,198.898 \"/>\n",
       "<circle clip-path=\"url(#clip150)\" cx=\"320.579\" cy=\"147.058\" r=\"23.04\" fill=\"#009af9\" fill-rule=\"evenodd\" fill-opacity=\"1\" stroke=\"#000000\" stroke-opacity=\"1\" stroke-width=\"5.12\"/>\n",
       "<path clip-path=\"url(#clip150)\" d=\"M432.358 166.745 Q430.552 171.375 428.84 172.787 Q427.127 174.199 424.256 174.199 L420.853 174.199 L420.853 170.634 L423.353 170.634 Q425.113 170.634 426.085 169.8 Q427.057 168.967 428.238 165.865 L429.002 163.921 L418.515 138.412 L423.029 138.412 L431.131 158.689 L439.233 138.412 L443.747 138.412 L432.358 166.745 Z\" fill=\"#000000\" fill-rule=\"nonzero\" fill-opacity=\"1\" /><path clip-path=\"url(#clip150)\" d=\"M451.038 160.402 L458.677 160.402 L458.677 134.037 L450.367 135.703 L450.367 131.444 L458.631 129.778 L463.307 129.778 L463.307 160.402 L470.946 160.402 L470.946 164.338 L451.038 164.338 L451.038 160.402 Z\" fill=\"#000000\" fill-rule=\"nonzero\" fill-opacity=\"1\" /></svg>\n"
      ]
     },
     "execution_count": 310,
     "metadata": {},
     "output_type": "execute_result"
    }
   ],
   "source": [
    "scatter(real(EEA[1,1,:]))"
   ]
  },
  {
   "cell_type": "markdown",
   "id": "b7e7fbc4-c59b-48b6-a8e8-3486cc14a712",
   "metadata": {},
   "source": [
    "### Non-Interacting Many Body Chern"
   ]
  },
  {
   "cell_type": "code",
   "execution_count": 311,
   "id": "cd802f5e-7cd5-425b-8c28-980a53a738df",
   "metadata": {},
   "outputs": [
    {
     "data": {
      "text/plain": [
       "6-element Vector{Any}:\n",
       "   4.000000000000001 - 1.87922258889314e-16im\n",
       " -3.0000000000000004 - 5.950598317614407e-17im\n",
       "   5.000000000000001 - 2.5544896802541842e-17im\n",
       "                -6.0 + 6.731630523939041e-17im\n",
       "                -3.0 + 5.815573141928428e-17im\n",
       "  3.9999999999999996 - 7.157628482373384e-17im"
      ]
     },
     "execution_count": 311,
     "metadata": {},
     "output_type": "execute_result"
    }
   ],
   "source": [
    "bands = [[1,6], [7,15], [16,24], [25,30], [31,39], [40,45]]\n",
    "calc_chern_bands(UUA, bands)"
   ]
  },
  {
   "cell_type": "markdown",
   "id": "96bbd458-0674-427c-af15-57d10c4bef29",
   "metadata": {},
   "source": [
    "## Interacting Many Body"
   ]
  },
  {
   "cell_type": "markdown",
   "id": "946787b3-635c-46eb-a568-f83996309548",
   "metadata": {},
   "source": [
    "### Interacting Many Body Chern"
   ]
  },
  {
   "cell_type": "markdown",
   "id": "60f44432-13f2-4b00-8002-9c6a4b998950",
   "metadata": {},
   "source": [
    "# Projected Many Body"
   ]
  },
  {
   "cell_type": "code",
   "execution_count": 312,
   "id": "b3179746-1654-4483-859e-5b8d65f0ab54",
   "metadata": {},
   "outputs": [],
   "source": [
    "param_dict[\"sub_range\"] = 1:3;"
   ]
  },
  {
   "cell_type": "code",
   "execution_count": 329,
   "id": "bdf4639b-e338-45c4-a082-1c3084efeb1b",
   "metadata": {},
   "outputs": [
    {
     "data": {
      "text/plain": [
       "2-element Vector{Int64}:\n",
       " 0\n",
       " 0"
      ]
     },
     "execution_count": 329,
     "metadata": {},
     "output_type": "execute_result"
    }
   ],
   "source": [
    "param_dict[\"θθ\"] = [0, 0]"
   ]
  },
  {
   "cell_type": "code",
   "execution_count": 330,
   "id": "aa6f7c9d-6c7e-4261-9a38-91253a680025",
   "metadata": {},
   "outputs": [
    {
     "data": {
      "text/plain": [
       "ManyBody(onebodybasis=Subspace(superbasis=NLevel(N=9), states:3), states:6)"
      ]
     },
     "execution_count": 330,
     "metadata": {},
     "output_type": "execute_result"
    }
   ],
   "source": [
    "basis_mb_chern = get_basis_mb(param_dict);\n",
    "param_dict[\"basis_mb_chern\"] = basis_mb_chern"
   ]
  },
  {
   "cell_type": "code",
   "execution_count": 331,
   "id": "1692f139-e6fb-49bb-a56a-4b005ce1c755",
   "metadata": {},
   "outputs": [
    {
     "data": {
      "text/plain": [
       "2-element Vector{Int64}:\n",
       " 0\n",
       " 3"
      ]
     },
     "execution_count": 331,
     "metadata": {},
     "output_type": "execute_result"
    }
   ],
   "source": [
    "param_dict[\"θθ\"] = [0, 3]"
   ]
  },
  {
   "cell_type": "code",
   "execution_count": 333,
   "id": "f4b50154-0d5b-483a-8559-b74a7aebd0e4",
   "metadata": {},
   "outputs": [
    {
     "data": {
      "text/plain": [
       "ManyBody(onebodybasis=Subspace(superbasis=NLevel(N=9), states:3), states:6)"
      ]
     },
     "execution_count": 333,
     "metadata": {},
     "output_type": "execute_result"
    }
   ],
   "source": [
    "basis_mb_1 = get_basis_mb(param_dict)"
   ]
  },
  {
   "cell_type": "code",
   "execution_count": null,
   "id": "18d69ef6-efea-4bcc-90d3-45ae9f76e6ce",
   "metadata": {},
   "outputs": [],
   "source": [
    "subspace_proj_1 = SubspaceBasis(basis, proj_basis)\n",
    "P = projector(subspace_proj, basis)"
   ]
  },
  {
   "cell_type": "markdown",
   "id": "24499446-760e-4d37-8043-2a33642fc841",
   "metadata": {},
   "source": [
    "## Projected Non-Interacting Many Body"
   ]
  },
  {
   "cell_type": "code",
   "execution_count": 314,
   "id": "1608ea29-1b91-4cdf-acbd-3ccb921dd252",
   "metadata": {},
   "outputs": [
    {
     "data": {
      "text/plain": [
       "6"
      ]
     },
     "execution_count": 314,
     "metadata": {},
     "output_type": "execute_result"
    }
   ],
   "source": [
    "param_dict[\"dimH_mb\"] = length(basis_mb)"
   ]
  },
  {
   "cell_type": "code",
   "execution_count": 325,
   "id": "0255a1eb-d8c2-43ce-b559-03f7e0c7849c",
   "metadata": {},
   "outputs": [
    {
     "data": {
      "text/plain": [
       "6-element Vector{Float64}:\n",
       " -5.4641016151377615\n",
       " -5.464101615137758\n",
       " -5.464101615137757\n",
       " -5.464101615137757\n",
       " -5.464101615137756\n",
       " -5.464101615137755"
      ]
     },
     "execution_count": 325,
     "metadata": {},
     "output_type": "execute_result"
    }
   ],
   "source": [
    "EEA, UUA = calc_all_states_H_mb(param_dict);\n",
    "EEA[1,1,:]"
   ]
  },
  {
   "cell_type": "code",
   "execution_count": 327,
   "id": "25129f8f-3a60-43ff-894d-6286ada40ddc",
   "metadata": {},
   "outputs": [
    {
     "data": {
      "image/svg+xml": [
       "<?xml version=\"1.0\" encoding=\"utf-8\"?>\n",
       "<svg xmlns=\"http://www.w3.org/2000/svg\" xmlns:xlink=\"http://www.w3.org/1999/xlink\" width=\"600\" height=\"400\" viewBox=\"0 0 2400 1600\">\n",
       "<defs>\n",
       "  <clipPath id=\"clip350\">\n",
       "    <rect x=\"0\" y=\"0\" width=\"2400\" height=\"1600\"/>\n",
       "  </clipPath>\n",
       "</defs>\n",
       "<path clip-path=\"url(#clip350)\" d=\"M0 1600 L2400 1600 L2400 0 L0 0  Z\" fill=\"#ffffff\" fill-rule=\"evenodd\" fill-opacity=\"1\"/>\n",
       "<defs>\n",
       "  <clipPath id=\"clip351\">\n",
       "    <rect x=\"480\" y=\"0\" width=\"1681\" height=\"1600\"/>\n",
       "  </clipPath>\n",
       "</defs>\n",
       "<path clip-path=\"url(#clip350)\" d=\"M494.363 1486.45 L2352.76 1486.45 L2352.76 47.2441 L494.363 47.2441  Z\" fill=\"#ffffff\" fill-rule=\"evenodd\" fill-opacity=\"1\"/>\n",
       "<defs>\n",
       "  <clipPath id=\"clip352\">\n",
       "    <rect x=\"494\" y=\"47\" width=\"1859\" height=\"1440\"/>\n",
       "  </clipPath>\n",
       "</defs>\n",
       "<polyline clip-path=\"url(#clip352)\" style=\"stroke:#000000; stroke-linecap:round; stroke-linejoin:round; stroke-width:2; stroke-opacity:0.1; fill:none\" points=\"546.959,1450 546.959,-50 \"/>\n",
       "<polyline clip-path=\"url(#clip352)\" style=\"stroke:#000000; stroke-linecap:round; stroke-linejoin:round; stroke-width:2; stroke-opacity:0.1; fill:none\" points=\"897.599,1450 897.599,-50 \"/>\n",
       "<polyline clip-path=\"url(#clip352)\" style=\"stroke:#000000; stroke-linecap:round; stroke-linejoin:round; stroke-width:2; stroke-opacity:0.1; fill:none\" points=\"1248.24,1450 1248.24,-50 \"/>\n",
       "<polyline clip-path=\"url(#clip352)\" style=\"stroke:#000000; stroke-linecap:round; stroke-linejoin:round; stroke-width:2; stroke-opacity:0.1; fill:none\" points=\"1598.88,1450 1598.88,-50 \"/>\n",
       "<polyline clip-path=\"url(#clip352)\" style=\"stroke:#000000; stroke-linecap:round; stroke-linejoin:round; stroke-width:2; stroke-opacity:0.1; fill:none\" points=\"1949.52,1450 1949.52,-50 \"/>\n",
       "<polyline clip-path=\"url(#clip352)\" style=\"stroke:#000000; stroke-linecap:round; stroke-linejoin:round; stroke-width:2; stroke-opacity:0.1; fill:none\" points=\"2300.16,1450 2300.16,-50 \"/>\n",
       "<polyline clip-path=\"url(#clip350)\" style=\"stroke:#000000; stroke-linecap:round; stroke-linejoin:round; stroke-width:4; stroke-opacity:1; fill:none\" points=\"494.363,1450 2352.76,1450 \"/>\n",
       "<polyline clip-path=\"url(#clip350)\" style=\"stroke:#000000; stroke-linecap:round; stroke-linejoin:round; stroke-width:4; stroke-opacity:1; fill:none\" points=\"546.959,1450 546.959,1450 \"/>\n",
       "<polyline clip-path=\"url(#clip350)\" style=\"stroke:#000000; stroke-linecap:round; stroke-linejoin:round; stroke-width:4; stroke-opacity:1; fill:none\" points=\"897.599,1450 897.599,1450 \"/>\n",
       "<polyline clip-path=\"url(#clip350)\" style=\"stroke:#000000; stroke-linecap:round; stroke-linejoin:round; stroke-width:4; stroke-opacity:1; fill:none\" points=\"1248.24,1450 1248.24,1450 \"/>\n",
       "<polyline clip-path=\"url(#clip350)\" style=\"stroke:#000000; stroke-linecap:round; stroke-linejoin:round; stroke-width:4; stroke-opacity:1; fill:none\" points=\"1598.88,1450 1598.88,1450 \"/>\n",
       "<polyline clip-path=\"url(#clip350)\" style=\"stroke:#000000; stroke-linecap:round; stroke-linejoin:round; stroke-width:4; stroke-opacity:1; fill:none\" points=\"1949.52,1450 1949.52,1450 \"/>\n",
       "<polyline clip-path=\"url(#clip350)\" style=\"stroke:#000000; stroke-linecap:round; stroke-linejoin:round; stroke-width:4; stroke-opacity:1; fill:none\" points=\"2300.16,1450 2300.16,1450 \"/>\n",
       "<path clip-path=\"url(#clip350)\" d=\"M537.341 1508.46 L544.98 1508.46 L544.98 1482.1 L536.669 1483.77 L536.669 1479.51 L544.933 1477.84 L549.609 1477.84 L549.609 1508.46 L557.248 1508.46 L557.248 1512.4 L537.341 1512.4 L537.341 1508.46 Z\" fill=\"#000000\" fill-rule=\"nonzero\" fill-opacity=\"1\" /><path clip-path=\"url(#clip350)\" d=\"M892.252 1508.46 L908.571 1508.46 L908.571 1512.4 L886.627 1512.4 L886.627 1508.46 Q889.289 1505.71 893.872 1501.08 Q898.479 1496.43 899.659 1495.09 Q901.904 1492.56 902.784 1490.83 Q903.687 1489.07 903.687 1487.38 Q903.687 1484.62 901.742 1482.89 Q899.821 1481.15 896.719 1481.15 Q894.52 1481.15 892.067 1481.91 Q889.636 1482.68 886.858 1484.23 L886.858 1479.51 Q889.682 1478.37 892.136 1477.79 Q894.59 1477.22 896.627 1477.22 Q901.997 1477.22 905.191 1479.9 Q908.386 1482.59 908.386 1487.08 Q908.386 1489.21 907.576 1491.13 Q906.789 1493.03 904.682 1495.62 Q904.104 1496.29 901.002 1499.51 Q897.9 1502.7 892.252 1508.46 Z\" fill=\"#000000\" fill-rule=\"nonzero\" fill-opacity=\"1\" /><path clip-path=\"url(#clip350)\" d=\"M1252.49 1493.77 Q1255.84 1494.48 1257.72 1496.75 Q1259.62 1499.02 1259.62 1502.35 Q1259.62 1507.47 1256.1 1510.27 Q1252.58 1513.07 1246.1 1513.07 Q1243.92 1513.07 1241.61 1512.63 Q1239.32 1512.21 1236.86 1511.36 L1236.86 1506.84 Q1238.81 1507.98 1241.12 1508.56 Q1243.44 1509.14 1245.96 1509.14 Q1250.36 1509.14 1252.65 1507.4 Q1254.96 1505.66 1254.96 1502.35 Q1254.96 1499.3 1252.81 1497.59 Q1250.68 1495.85 1246.86 1495.85 L1242.83 1495.85 L1242.83 1492.01 L1247.05 1492.01 Q1250.5 1492.01 1252.32 1490.64 Q1254.15 1489.25 1254.15 1486.66 Q1254.15 1484 1252.26 1482.59 Q1250.38 1481.15 1246.86 1481.15 Q1244.94 1481.15 1242.74 1481.57 Q1240.54 1481.98 1237.9 1482.86 L1237.9 1478.7 Q1240.57 1477.96 1242.88 1477.59 Q1245.22 1477.22 1247.28 1477.22 Q1252.6 1477.22 1255.7 1479.65 Q1258.81 1482.05 1258.81 1486.17 Q1258.81 1489.04 1257.16 1491.03 Q1255.52 1493 1252.49 1493.77 Z\" fill=\"#000000\" fill-rule=\"nonzero\" fill-opacity=\"1\" /><path clip-path=\"url(#clip350)\" d=\"M1601.89 1481.91 L1590.08 1500.36 L1601.89 1500.36 L1601.89 1481.91 M1600.66 1477.84 L1606.54 1477.84 L1606.54 1500.36 L1611.47 1500.36 L1611.47 1504.25 L1606.54 1504.25 L1606.54 1512.4 L1601.89 1512.4 L1601.89 1504.25 L1586.29 1504.25 L1586.29 1499.74 L1600.66 1477.84 Z\" fill=\"#000000\" fill-rule=\"nonzero\" fill-opacity=\"1\" /><path clip-path=\"url(#clip350)\" d=\"M1939.8 1477.84 L1958.15 1477.84 L1958.15 1481.78 L1944.08 1481.78 L1944.08 1490.25 Q1945.1 1489.9 1946.12 1489.74 Q1947.14 1489.55 1948.15 1489.55 Q1953.94 1489.55 1957.32 1492.72 Q1960.7 1495.9 1960.7 1501.31 Q1960.7 1506.89 1957.23 1509.99 Q1953.76 1513.07 1947.44 1513.07 Q1945.26 1513.07 1942.99 1512.7 Q1940.75 1512.33 1938.34 1511.59 L1938.34 1506.89 Q1940.42 1508.03 1942.64 1508.58 Q1944.87 1509.14 1947.34 1509.14 Q1951.35 1509.14 1953.69 1507.03 Q1956.02 1504.92 1956.02 1501.31 Q1956.02 1497.7 1953.69 1495.59 Q1951.35 1493.49 1947.34 1493.49 Q1945.47 1493.49 1943.59 1493.9 Q1941.74 1494.32 1939.8 1495.2 L1939.8 1477.84 Z\" fill=\"#000000\" fill-rule=\"nonzero\" fill-opacity=\"1\" /><path clip-path=\"url(#clip350)\" d=\"M2300.56 1493.26 Q2297.42 1493.26 2295.56 1495.41 Q2293.74 1497.56 2293.74 1501.31 Q2293.74 1505.04 2295.56 1507.21 Q2297.42 1509.37 2300.56 1509.37 Q2303.71 1509.37 2305.54 1507.21 Q2307.39 1505.04 2307.39 1501.31 Q2307.39 1497.56 2305.54 1495.41 Q2303.71 1493.26 2300.56 1493.26 M2309.85 1478.6 L2309.85 1482.86 Q2308.09 1482.03 2306.28 1481.59 Q2304.5 1481.15 2302.74 1481.15 Q2298.11 1481.15 2295.66 1484.28 Q2293.23 1487.4 2292.88 1493.72 Q2294.25 1491.71 2296.31 1490.64 Q2298.37 1489.55 2300.84 1489.55 Q2306.05 1489.55 2309.06 1492.72 Q2312.09 1495.87 2312.09 1501.31 Q2312.09 1506.64 2308.94 1509.85 Q2305.8 1513.07 2300.56 1513.07 Q2294.57 1513.07 2291.4 1508.49 Q2288.23 1503.88 2288.23 1495.15 Q2288.23 1486.96 2292.12 1482.1 Q2296 1477.22 2302.56 1477.22 Q2304.31 1477.22 2306.1 1477.56 Q2307.9 1477.91 2309.85 1478.6 Z\" fill=\"#000000\" fill-rule=\"nonzero\" fill-opacity=\"1\" /><polyline clip-path=\"url(#clip352)\" style=\"stroke:#000000; stroke-linecap:round; stroke-linejoin:round; stroke-width:2; stroke-opacity:0.1; fill:none\" points=\"494.363,1450 2352.76,1450 \"/>\n",
       "<polyline clip-path=\"url(#clip352)\" style=\"stroke:#000000; stroke-linecap:round; stroke-linejoin:round; stroke-width:2; stroke-opacity:0.1; fill:none\" points=\"494.363,1150 2352.76,1150 \"/>\n",
       "<polyline clip-path=\"url(#clip352)\" style=\"stroke:#000000; stroke-linecap:round; stroke-linejoin:round; stroke-width:2; stroke-opacity:0.1; fill:none\" points=\"494.363,700 2352.76,700 \"/>\n",
       "<polyline clip-path=\"url(#clip352)\" style=\"stroke:#000000; stroke-linecap:round; stroke-linejoin:round; stroke-width:2; stroke-opacity:0.1; fill:none\" points=\"494.363,250 2352.76,250 \"/>\n",
       "<polyline clip-path=\"url(#clip350)\" style=\"stroke:#000000; stroke-linecap:round; stroke-linejoin:round; stroke-width:4; stroke-opacity:1; fill:none\" points=\"494.363,1450 494.363,-50 \"/>\n",
       "<polyline clip-path=\"url(#clip350)\" style=\"stroke:#000000; stroke-linecap:round; stroke-linejoin:round; stroke-width:4; stroke-opacity:1; fill:none\" points=\"494.363,1450 513.26,1450 \"/>\n",
       "<polyline clip-path=\"url(#clip350)\" style=\"stroke:#000000; stroke-linecap:round; stroke-linejoin:round; stroke-width:4; stroke-opacity:1; fill:none\" points=\"494.363,1150 513.26,1150 \"/>\n",
       "<polyline clip-path=\"url(#clip350)\" style=\"stroke:#000000; stroke-linecap:round; stroke-linejoin:round; stroke-width:4; stroke-opacity:1; fill:none\" points=\"494.363,700 513.26,700 \"/>\n",
       "<polyline clip-path=\"url(#clip350)\" style=\"stroke:#000000; stroke-linecap:round; stroke-linejoin:round; stroke-width:4; stroke-opacity:1; fill:none\" points=\"494.363,250 513.26,250 \"/>\n",
       "<path clip-path=\"url(#clip350)\" d=\"M50.9921 1456.9 L80.6679 1456.9 L80.6679 1460.83 L50.9921 1460.83 L50.9921 1456.9 Z\" fill=\"#000000\" fill-rule=\"nonzero\" fill-opacity=\"1\" /><path clip-path=\"url(#clip350)\" d=\"M90.8067 1439.17 L109.163 1439.17 L109.163 1443.1 L95.0891 1443.1 L95.0891 1451.57 Q96.1076 1451.23 97.1261 1451.07 Q98.1447 1450.88 99.1632 1450.88 Q104.95 1450.88 108.33 1454.05 Q111.709 1457.22 111.709 1462.64 Q111.709 1468.22 108.237 1471.32 Q104.765 1474.4 98.4456 1474.4 Q96.2697 1474.4 94.0012 1474.03 Q91.7558 1473.66 89.3484 1472.92 L89.3484 1468.22 Q91.4317 1469.35 93.6539 1469.91 Q95.8761 1470.46 98.353 1470.46 Q102.358 1470.46 104.696 1468.36 Q107.033 1466.25 107.033 1462.64 Q107.033 1459.03 104.696 1456.92 Q102.358 1454.82 98.353 1454.82 Q96.478 1454.82 94.603 1455.23 Q92.7512 1455.65 90.8067 1456.53 L90.8067 1439.17 Z\" fill=\"#000000\" fill-rule=\"nonzero\" fill-opacity=\"1\" /><path clip-path=\"url(#clip350)\" d=\"M120.922 1467.85 L125.807 1467.85 L125.807 1473.73 L120.922 1473.73 L120.922 1467.85 Z\" fill=\"#000000\" fill-rule=\"nonzero\" fill-opacity=\"1\" /><path clip-path=\"url(#clip350)\" d=\"M148.839 1443.24 L137.033 1461.69 L148.839 1461.69 L148.839 1443.24 M147.612 1439.17 L153.492 1439.17 L153.492 1461.69 L158.422 1461.69 L158.422 1465.58 L153.492 1465.58 L153.492 1473.73 L148.839 1473.73 L148.839 1465.58 L133.237 1465.58 L133.237 1461.07 L147.612 1439.17 Z\" fill=\"#000000\" fill-rule=\"nonzero\" fill-opacity=\"1\" /><path clip-path=\"url(#clip350)\" d=\"M176.732 1454.58 Q173.584 1454.58 171.732 1456.74 Q169.904 1458.89 169.904 1462.64 Q169.904 1466.37 171.732 1468.54 Q173.584 1470.7 176.732 1470.7 Q179.88 1470.7 181.709 1468.54 Q183.561 1466.37 183.561 1462.64 Q183.561 1458.89 181.709 1456.74 Q179.88 1454.58 176.732 1454.58 M186.015 1439.93 L186.015 1444.19 Q184.255 1443.36 182.45 1442.92 Q180.667 1442.48 178.908 1442.48 Q174.279 1442.48 171.825 1445.6 Q169.394 1448.73 169.047 1455.05 Q170.413 1453.03 172.473 1451.97 Q174.533 1450.88 177.01 1450.88 Q182.218 1450.88 185.228 1454.05 Q188.26 1457.2 188.26 1462.64 Q188.26 1467.96 185.112 1471.18 Q181.964 1474.4 176.732 1474.4 Q170.737 1474.4 167.566 1469.82 Q164.394 1465.21 164.394 1456.48 Q164.394 1448.29 168.283 1443.43 Q172.172 1438.54 178.723 1438.54 Q180.482 1438.54 182.265 1438.89 Q184.07 1439.24 186.015 1439.93 Z\" fill=\"#000000\" fill-rule=\"nonzero\" fill-opacity=\"1\" /><path clip-path=\"url(#clip350)\" d=\"M209.163 1443.24 L197.357 1461.69 L209.163 1461.69 L209.163 1443.24 M207.936 1439.17 L213.815 1439.17 L213.815 1461.69 L218.746 1461.69 L218.746 1465.58 L213.815 1465.58 L213.815 1473.73 L209.163 1473.73 L209.163 1465.58 L193.561 1465.58 L193.561 1461.07 L207.936 1439.17 Z\" fill=\"#000000\" fill-rule=\"nonzero\" fill-opacity=\"1\" /><path clip-path=\"url(#clip350)\" d=\"M227.287 1469.79 L234.926 1469.79 L234.926 1443.43 L226.616 1445.09 L226.616 1440.83 L234.88 1439.17 L239.556 1439.17 L239.556 1469.79 L247.195 1469.79 L247.195 1473.73 L227.287 1473.73 L227.287 1469.79 Z\" fill=\"#000000\" fill-rule=\"nonzero\" fill-opacity=\"1\" /><path clip-path=\"url(#clip350)\" d=\"M266.639 1442.25 Q263.028 1442.25 261.199 1445.81 Q259.394 1449.35 259.394 1456.48 Q259.394 1463.59 261.199 1467.15 Q263.028 1470.7 266.639 1470.7 Q270.273 1470.7 272.079 1467.15 Q273.908 1463.59 273.908 1456.48 Q273.908 1449.35 272.079 1445.81 Q270.273 1442.25 266.639 1442.25 M266.639 1438.54 Q272.449 1438.54 275.505 1443.15 Q278.583 1447.73 278.583 1456.48 Q278.583 1465.21 275.505 1469.82 Q272.449 1474.4 266.639 1474.4 Q260.829 1474.4 257.75 1469.82 Q254.695 1465.21 254.695 1456.48 Q254.695 1447.73 257.75 1443.15 Q260.829 1438.54 266.639 1438.54 Z\" fill=\"#000000\" fill-rule=\"nonzero\" fill-opacity=\"1\" /><path clip-path=\"url(#clip350)\" d=\"M287.611 1469.79 L295.25 1469.79 L295.25 1443.43 L286.94 1445.09 L286.94 1440.83 L295.204 1439.17 L299.88 1439.17 L299.88 1469.79 L307.519 1469.79 L307.519 1473.73 L287.611 1473.73 L287.611 1469.79 Z\" fill=\"#000000\" fill-rule=\"nonzero\" fill-opacity=\"1\" /><path clip-path=\"url(#clip350)\" d=\"M327.542 1454.58 Q324.393 1454.58 322.542 1456.74 Q320.713 1458.89 320.713 1462.64 Q320.713 1466.37 322.542 1468.54 Q324.393 1470.7 327.542 1470.7 Q330.69 1470.7 332.518 1468.54 Q334.37 1466.37 334.37 1462.64 Q334.37 1458.89 332.518 1456.74 Q330.69 1454.58 327.542 1454.58 M336.824 1439.93 L336.824 1444.19 Q335.065 1443.36 333.259 1442.92 Q331.477 1442.48 329.717 1442.48 Q325.088 1442.48 322.634 1445.6 Q320.204 1448.73 319.856 1455.05 Q321.222 1453.03 323.282 1451.97 Q325.343 1450.88 327.819 1450.88 Q333.028 1450.88 336.037 1454.05 Q339.069 1457.2 339.069 1462.64 Q339.069 1467.96 335.921 1471.18 Q332.773 1474.4 327.542 1474.4 Q321.546 1474.4 318.375 1469.82 Q315.204 1465.21 315.204 1456.48 Q315.204 1448.29 319.093 1443.43 Q322.981 1438.54 329.532 1438.54 Q331.292 1438.54 333.074 1438.89 Q334.879 1439.24 336.824 1439.93 Z\" fill=\"#000000\" fill-rule=\"nonzero\" fill-opacity=\"1\" /><path clip-path=\"url(#clip350)\" d=\"M375.296 1448.26 L364.717 1458.89 L375.296 1469.47 L372.541 1472.27 L361.916 1461.64 L351.291 1472.27 L348.56 1469.47 L359.115 1458.89 L348.56 1448.26 L351.291 1445.46 L361.916 1456.09 L372.541 1445.46 L375.296 1448.26 Z\" fill=\"#000000\" fill-rule=\"nonzero\" fill-opacity=\"1\" /><path clip-path=\"url(#clip350)\" d=\"M387.657 1469.79 L395.296 1469.79 L395.296 1443.43 L386.986 1445.09 L386.986 1440.83 L395.25 1439.17 L399.925 1439.17 L399.925 1469.79 L407.564 1469.79 L407.564 1473.73 L387.657 1473.73 L387.657 1469.79 Z\" fill=\"#000000\" fill-rule=\"nonzero\" fill-opacity=\"1\" /><path clip-path=\"url(#clip350)\" d=\"M427.009 1442.25 Q423.398 1442.25 421.569 1445.81 Q419.763 1449.35 419.763 1456.48 Q419.763 1463.59 421.569 1467.15 Q423.398 1470.7 427.009 1470.7 Q430.643 1470.7 432.448 1467.15 Q434.277 1463.59 434.277 1456.48 Q434.277 1449.35 432.448 1445.81 Q430.643 1442.25 427.009 1442.25 M427.009 1438.54 Q432.819 1438.54 435.874 1443.15 Q438.953 1447.73 438.953 1456.48 Q438.953 1465.21 435.874 1469.82 Q432.819 1474.4 427.009 1474.4 Q421.198 1474.4 418.12 1469.82 Q415.064 1465.21 415.064 1456.48 Q415.064 1447.73 418.12 1443.15 Q421.198 1438.54 427.009 1438.54 Z\" fill=\"#000000\" fill-rule=\"nonzero\" fill-opacity=\"1\" /><path clip-path=\"url(#clip350)\" d=\"M448.658 1420.74 Q445.724 1420.74 444.238 1423.64 Q442.771 1426.51 442.771 1432.31 Q442.771 1438.08 444.238 1440.98 Q445.724 1443.85 448.658 1443.85 Q451.611 1443.85 453.078 1440.98 Q454.563 1438.08 454.563 1432.31 Q454.563 1426.51 453.078 1423.64 Q451.611 1420.74 448.658 1420.74 M448.658 1417.73 Q453.379 1417.73 455.861 1421.47 Q458.363 1425.2 458.363 1432.31 Q458.363 1439.4 455.861 1443.14 Q453.379 1446.86 448.658 1446.86 Q443.937 1446.86 441.436 1443.14 Q438.953 1439.4 438.953 1432.31 Q438.953 1425.2 441.436 1421.47 Q443.937 1417.73 448.658 1417.73 Z\" fill=\"#000000\" fill-rule=\"nonzero\" fill-opacity=\"1\" /><path clip-path=\"url(#clip350)\" d=\"M50.9921 1156.9 L80.6679 1156.9 L80.6679 1160.83 L50.9921 1160.83 L50.9921 1156.9 Z\" fill=\"#000000\" fill-rule=\"nonzero\" fill-opacity=\"1\" /><path clip-path=\"url(#clip350)\" d=\"M90.8067 1139.17 L109.163 1139.17 L109.163 1143.1 L95.0891 1143.1 L95.0891 1151.57 Q96.1076 1151.23 97.1261 1151.07 Q98.1447 1150.88 99.1632 1150.88 Q104.95 1150.88 108.33 1154.05 Q111.709 1157.22 111.709 1162.64 Q111.709 1168.22 108.237 1171.32 Q104.765 1174.4 98.4456 1174.4 Q96.2697 1174.4 94.0012 1174.03 Q91.7558 1173.66 89.3484 1172.92 L89.3484 1168.22 Q91.4317 1169.35 93.6539 1169.91 Q95.8761 1170.46 98.353 1170.46 Q102.358 1170.46 104.696 1168.36 Q107.033 1166.25 107.033 1162.64 Q107.033 1159.03 104.696 1156.92 Q102.358 1154.82 98.353 1154.82 Q96.478 1154.82 94.603 1155.23 Q92.7512 1155.65 90.8067 1156.53 L90.8067 1139.17 Z\" fill=\"#000000\" fill-rule=\"nonzero\" fill-opacity=\"1\" /><path clip-path=\"url(#clip350)\" d=\"M120.922 1167.85 L125.807 1167.85 L125.807 1173.73 L120.922 1173.73 L120.922 1167.85 Z\" fill=\"#000000\" fill-rule=\"nonzero\" fill-opacity=\"1\" /><path clip-path=\"url(#clip350)\" d=\"M148.839 1143.24 L137.033 1161.69 L148.839 1161.69 L148.839 1143.24 M147.612 1139.17 L153.492 1139.17 L153.492 1161.69 L158.422 1161.69 L158.422 1165.58 L153.492 1165.58 L153.492 1173.73 L148.839 1173.73 L148.839 1165.58 L133.237 1165.58 L133.237 1161.07 L147.612 1139.17 Z\" fill=\"#000000\" fill-rule=\"nonzero\" fill-opacity=\"1\" /><path clip-path=\"url(#clip350)\" d=\"M176.732 1154.58 Q173.584 1154.58 171.732 1156.74 Q169.904 1158.89 169.904 1162.64 Q169.904 1166.37 171.732 1168.54 Q173.584 1170.7 176.732 1170.7 Q179.88 1170.7 181.709 1168.54 Q183.561 1166.37 183.561 1162.64 Q183.561 1158.89 181.709 1156.74 Q179.88 1154.58 176.732 1154.58 M186.015 1139.93 L186.015 1144.19 Q184.255 1143.36 182.45 1142.92 Q180.667 1142.48 178.908 1142.48 Q174.279 1142.48 171.825 1145.6 Q169.394 1148.73 169.047 1155.05 Q170.413 1153.03 172.473 1151.97 Q174.533 1150.88 177.01 1150.88 Q182.218 1150.88 185.228 1154.05 Q188.26 1157.2 188.26 1162.64 Q188.26 1167.96 185.112 1171.18 Q181.964 1174.4 176.732 1174.4 Q170.737 1174.4 167.566 1169.82 Q164.394 1165.21 164.394 1156.48 Q164.394 1148.29 168.283 1143.43 Q172.172 1138.54 178.723 1138.54 Q180.482 1138.54 182.265 1138.89 Q184.07 1139.24 186.015 1139.93 Z\" fill=\"#000000\" fill-rule=\"nonzero\" fill-opacity=\"1\" /><path clip-path=\"url(#clip350)\" d=\"M209.163 1143.24 L197.357 1161.69 L209.163 1161.69 L209.163 1143.24 M207.936 1139.17 L213.815 1139.17 L213.815 1161.69 L218.746 1161.69 L218.746 1165.58 L213.815 1165.58 L213.815 1173.73 L209.163 1173.73 L209.163 1165.58 L193.561 1165.58 L193.561 1161.07 L207.936 1139.17 Z\" fill=\"#000000\" fill-rule=\"nonzero\" fill-opacity=\"1\" /><path clip-path=\"url(#clip350)\" d=\"M227.287 1169.79 L234.926 1169.79 L234.926 1143.43 L226.616 1145.09 L226.616 1140.83 L234.88 1139.17 L239.556 1139.17 L239.556 1169.79 L247.195 1169.79 L247.195 1173.73 L227.287 1173.73 L227.287 1169.79 Z\" fill=\"#000000\" fill-rule=\"nonzero\" fill-opacity=\"1\" /><path clip-path=\"url(#clip350)\" d=\"M266.639 1142.25 Q263.028 1142.25 261.199 1145.81 Q259.394 1149.35 259.394 1156.48 Q259.394 1163.59 261.199 1167.15 Q263.028 1170.7 266.639 1170.7 Q270.273 1170.7 272.079 1167.15 Q273.908 1163.59 273.908 1156.48 Q273.908 1149.35 272.079 1145.81 Q270.273 1142.25 266.639 1142.25 M266.639 1138.54 Q272.449 1138.54 275.505 1143.15 Q278.583 1147.73 278.583 1156.48 Q278.583 1165.21 275.505 1169.82 Q272.449 1174.4 266.639 1174.4 Q260.829 1174.4 257.75 1169.82 Q254.695 1165.21 254.695 1156.48 Q254.695 1147.73 257.75 1143.15 Q260.829 1138.54 266.639 1138.54 Z\" fill=\"#000000\" fill-rule=\"nonzero\" fill-opacity=\"1\" /><path clip-path=\"url(#clip350)\" d=\"M287.611 1169.79 L295.25 1169.79 L295.25 1143.43 L286.94 1145.09 L286.94 1140.83 L295.204 1139.17 L299.88 1139.17 L299.88 1169.79 L307.519 1169.79 L307.519 1173.73 L287.611 1173.73 L287.611 1169.79 Z\" fill=\"#000000\" fill-rule=\"nonzero\" fill-opacity=\"1\" /><path clip-path=\"url(#clip350)\" d=\"M327.542 1154.58 Q324.393 1154.58 322.542 1156.74 Q320.713 1158.89 320.713 1162.64 Q320.713 1166.37 322.542 1168.54 Q324.393 1170.7 327.542 1170.7 Q330.69 1170.7 332.518 1168.54 Q334.37 1166.37 334.37 1162.64 Q334.37 1158.89 332.518 1156.74 Q330.69 1154.58 327.542 1154.58 M336.824 1139.93 L336.824 1144.19 Q335.065 1143.36 333.259 1142.92 Q331.477 1142.48 329.717 1142.48 Q325.088 1142.48 322.634 1145.6 Q320.204 1148.73 319.856 1155.05 Q321.222 1153.03 323.282 1151.97 Q325.343 1150.88 327.819 1150.88 Q333.028 1150.88 336.037 1154.05 Q339.069 1157.2 339.069 1162.64 Q339.069 1167.96 335.921 1171.18 Q332.773 1174.4 327.542 1174.4 Q321.546 1174.4 318.375 1169.82 Q315.204 1165.21 315.204 1156.48 Q315.204 1148.29 319.093 1143.43 Q322.981 1138.54 329.532 1138.54 Q331.292 1138.54 333.074 1138.89 Q334.879 1139.24 336.824 1139.93 Z\" fill=\"#000000\" fill-rule=\"nonzero\" fill-opacity=\"1\" /><path clip-path=\"url(#clip350)\" d=\"M375.296 1148.26 L364.717 1158.89 L375.296 1169.47 L372.541 1172.27 L361.916 1161.64 L351.291 1172.27 L348.56 1169.47 L359.115 1158.89 L348.56 1148.26 L351.291 1145.46 L361.916 1156.09 L372.541 1145.46 L375.296 1148.26 Z\" fill=\"#000000\" fill-rule=\"nonzero\" fill-opacity=\"1\" /><path clip-path=\"url(#clip350)\" d=\"M387.657 1169.79 L395.296 1169.79 L395.296 1143.43 L386.986 1145.09 L386.986 1140.83 L395.25 1139.17 L399.925 1139.17 L399.925 1169.79 L407.564 1169.79 L407.564 1173.73 L387.657 1173.73 L387.657 1169.79 Z\" fill=\"#000000\" fill-rule=\"nonzero\" fill-opacity=\"1\" /><path clip-path=\"url(#clip350)\" d=\"M427.009 1142.25 Q423.398 1142.25 421.569 1145.81 Q419.763 1149.35 419.763 1156.48 Q419.763 1163.59 421.569 1167.15 Q423.398 1170.7 427.009 1170.7 Q430.643 1170.7 432.448 1167.15 Q434.277 1163.59 434.277 1156.48 Q434.277 1149.35 432.448 1145.81 Q430.643 1142.25 427.009 1142.25 M427.009 1138.54 Q432.819 1138.54 435.874 1143.15 Q438.953 1147.73 438.953 1156.48 Q438.953 1165.21 435.874 1169.82 Q432.819 1174.4 427.009 1174.4 Q421.198 1174.4 418.12 1169.82 Q415.064 1165.21 415.064 1156.48 Q415.064 1147.73 418.12 1143.15 Q421.198 1138.54 427.009 1138.54 Z\" fill=\"#000000\" fill-rule=\"nonzero\" fill-opacity=\"1\" /><path clip-path=\"url(#clip350)\" d=\"M448.658 1120.74 Q445.724 1120.74 444.238 1123.64 Q442.771 1126.51 442.771 1132.31 Q442.771 1138.08 444.238 1140.98 Q445.724 1143.85 448.658 1143.85 Q451.611 1143.85 453.078 1140.98 Q454.563 1138.08 454.563 1132.31 Q454.563 1126.51 453.078 1123.64 Q451.611 1120.74 448.658 1120.74 M448.658 1117.73 Q453.379 1117.73 455.861 1121.47 Q458.363 1125.2 458.363 1132.31 Q458.363 1139.4 455.861 1143.14 Q453.379 1146.86 448.658 1146.86 Q443.937 1146.86 441.436 1143.14 Q438.953 1139.4 438.953 1132.31 Q438.953 1125.2 441.436 1121.47 Q443.937 1117.73 448.658 1117.73 Z\" fill=\"#000000\" fill-rule=\"nonzero\" fill-opacity=\"1\" /><path clip-path=\"url(#clip350)\" d=\"M50.9921 706.899 L80.6679 706.899 L80.6679 710.834 L50.9921 710.834 L50.9921 706.899 Z\" fill=\"#000000\" fill-rule=\"nonzero\" fill-opacity=\"1\" /><path clip-path=\"url(#clip350)\" d=\"M90.8067 689.168 L109.163 689.168 L109.163 693.103 L95.0891 693.103 L95.0891 701.575 Q96.1076 701.228 97.1261 701.066 Q98.1447 700.881 99.1632 700.881 Q104.95 700.881 108.33 704.052 Q111.709 707.223 111.709 712.64 Q111.709 718.218 108.237 721.32 Q104.765 724.399 98.4456 724.399 Q96.2697 724.399 94.0012 724.029 Q91.7558 723.658 89.3484 722.917 L89.3484 718.218 Q91.4317 719.353 93.6539 719.908 Q95.8761 720.464 98.353 720.464 Q102.358 720.464 104.696 718.357 Q107.033 716.251 107.033 712.64 Q107.033 709.029 104.696 706.922 Q102.358 704.816 98.353 704.816 Q96.478 704.816 94.603 705.232 Q92.7512 705.649 90.8067 706.529 L90.8067 689.168 Z\" fill=\"#000000\" fill-rule=\"nonzero\" fill-opacity=\"1\" /><path clip-path=\"url(#clip350)\" d=\"M120.922 717.848 L125.807 717.848 L125.807 723.728 L120.922 723.728 L120.922 717.848 Z\" fill=\"#000000\" fill-rule=\"nonzero\" fill-opacity=\"1\" /><path clip-path=\"url(#clip350)\" d=\"M148.839 693.242 L137.033 711.691 L148.839 711.691 L148.839 693.242 M147.612 689.168 L153.492 689.168 L153.492 711.691 L158.422 711.691 L158.422 715.579 L153.492 715.579 L153.492 723.728 L148.839 723.728 L148.839 715.579 L133.237 715.579 L133.237 711.066 L147.612 689.168 Z\" fill=\"#000000\" fill-rule=\"nonzero\" fill-opacity=\"1\" /><path clip-path=\"url(#clip350)\" d=\"M176.732 704.584 Q173.584 704.584 171.732 706.737 Q169.904 708.89 169.904 712.64 Q169.904 716.367 171.732 718.542 Q173.584 720.695 176.732 720.695 Q179.88 720.695 181.709 718.542 Q183.561 716.367 183.561 712.64 Q183.561 708.89 181.709 706.737 Q179.88 704.584 176.732 704.584 M186.015 689.931 L186.015 694.191 Q184.255 693.357 182.45 692.918 Q180.667 692.478 178.908 692.478 Q174.279 692.478 171.825 695.603 Q169.394 698.728 169.047 705.047 Q170.413 703.033 172.473 701.968 Q174.533 700.881 177.01 700.881 Q182.218 700.881 185.228 704.052 Q188.26 707.2 188.26 712.64 Q188.26 717.964 185.112 721.181 Q181.964 724.399 176.732 724.399 Q170.737 724.399 167.566 719.816 Q164.394 715.209 164.394 706.482 Q164.394 698.288 168.283 693.427 Q172.172 688.543 178.723 688.543 Q180.482 688.543 182.265 688.89 Q184.07 689.237 186.015 689.931 Z\" fill=\"#000000\" fill-rule=\"nonzero\" fill-opacity=\"1\" /><path clip-path=\"url(#clip350)\" d=\"M209.163 693.242 L197.357 711.691 L209.163 711.691 L209.163 693.242 M207.936 689.168 L213.815 689.168 L213.815 711.691 L218.746 711.691 L218.746 715.579 L213.815 715.579 L213.815 723.728 L209.163 723.728 L209.163 715.579 L193.561 715.579 L193.561 711.066 L207.936 689.168 Z\" fill=\"#000000\" fill-rule=\"nonzero\" fill-opacity=\"1\" /><path clip-path=\"url(#clip350)\" d=\"M227.287 719.792 L234.926 719.792 L234.926 693.427 L226.616 695.093 L226.616 690.834 L234.88 689.168 L239.556 689.168 L239.556 719.792 L247.195 719.792 L247.195 723.728 L227.287 723.728 L227.287 719.792 Z\" fill=\"#000000\" fill-rule=\"nonzero\" fill-opacity=\"1\" /><path clip-path=\"url(#clip350)\" d=\"M266.639 692.246 Q263.028 692.246 261.199 695.811 Q259.394 699.353 259.394 706.482 Q259.394 713.589 261.199 717.154 Q263.028 720.695 266.639 720.695 Q270.273 720.695 272.079 717.154 Q273.908 713.589 273.908 706.482 Q273.908 699.353 272.079 695.811 Q270.273 692.246 266.639 692.246 M266.639 688.543 Q272.449 688.543 275.505 693.149 Q278.583 697.732 278.583 706.482 Q278.583 715.209 275.505 719.816 Q272.449 724.399 266.639 724.399 Q260.829 724.399 257.75 719.816 Q254.695 715.209 254.695 706.482 Q254.695 697.732 257.75 693.149 Q260.829 688.543 266.639 688.543 Z\" fill=\"#000000\" fill-rule=\"nonzero\" fill-opacity=\"1\" /><path clip-path=\"url(#clip350)\" d=\"M287.611 719.792 L295.25 719.792 L295.25 693.427 L286.94 695.093 L286.94 690.834 L295.204 689.168 L299.88 689.168 L299.88 719.792 L307.519 719.792 L307.519 723.728 L287.611 723.728 L287.611 719.792 Z\" fill=\"#000000\" fill-rule=\"nonzero\" fill-opacity=\"1\" /><path clip-path=\"url(#clip350)\" d=\"M327.542 704.584 Q324.393 704.584 322.542 706.737 Q320.713 708.89 320.713 712.64 Q320.713 716.367 322.542 718.542 Q324.393 720.695 327.542 720.695 Q330.69 720.695 332.518 718.542 Q334.37 716.367 334.37 712.64 Q334.37 708.89 332.518 706.737 Q330.69 704.584 327.542 704.584 M336.824 689.931 L336.824 694.191 Q335.065 693.357 333.259 692.918 Q331.477 692.478 329.717 692.478 Q325.088 692.478 322.634 695.603 Q320.204 698.728 319.856 705.047 Q321.222 703.033 323.282 701.968 Q325.343 700.881 327.819 700.881 Q333.028 700.881 336.037 704.052 Q339.069 707.2 339.069 712.64 Q339.069 717.964 335.921 721.181 Q332.773 724.399 327.542 724.399 Q321.546 724.399 318.375 719.816 Q315.204 715.209 315.204 706.482 Q315.204 698.288 319.093 693.427 Q322.981 688.543 329.532 688.543 Q331.292 688.543 333.074 688.89 Q334.879 689.237 336.824 689.931 Z\" fill=\"#000000\" fill-rule=\"nonzero\" fill-opacity=\"1\" /><path clip-path=\"url(#clip350)\" d=\"M375.296 698.265 L364.717 708.89 L375.296 719.468 L372.541 722.269 L361.916 711.644 L351.291 722.269 L348.56 719.468 L359.115 708.89 L348.56 698.265 L351.291 695.464 L361.916 706.089 L372.541 695.464 L375.296 698.265 Z\" fill=\"#000000\" fill-rule=\"nonzero\" fill-opacity=\"1\" /><path clip-path=\"url(#clip350)\" d=\"M387.657 719.792 L395.296 719.792 L395.296 693.427 L386.986 695.093 L386.986 690.834 L395.25 689.168 L399.925 689.168 L399.925 719.792 L407.564 719.792 L407.564 723.728 L387.657 723.728 L387.657 719.792 Z\" fill=\"#000000\" fill-rule=\"nonzero\" fill-opacity=\"1\" /><path clip-path=\"url(#clip350)\" d=\"M427.009 692.246 Q423.398 692.246 421.569 695.811 Q419.763 699.353 419.763 706.482 Q419.763 713.589 421.569 717.154 Q423.398 720.695 427.009 720.695 Q430.643 720.695 432.448 717.154 Q434.277 713.589 434.277 706.482 Q434.277 699.353 432.448 695.811 Q430.643 692.246 427.009 692.246 M427.009 688.543 Q432.819 688.543 435.874 693.149 Q438.953 697.732 438.953 706.482 Q438.953 715.209 435.874 719.816 Q432.819 724.399 427.009 724.399 Q421.198 724.399 418.12 719.816 Q415.064 715.209 415.064 706.482 Q415.064 697.732 418.12 693.149 Q421.198 688.543 427.009 688.543 Z\" fill=\"#000000\" fill-rule=\"nonzero\" fill-opacity=\"1\" /><path clip-path=\"url(#clip350)\" d=\"M448.658 670.739 Q445.724 670.739 444.238 673.635 Q442.771 676.513 442.771 682.305 Q442.771 688.079 444.238 690.976 Q445.724 693.853 448.658 693.853 Q451.611 693.853 453.078 690.976 Q454.563 688.079 454.563 682.305 Q454.563 676.513 453.078 673.635 Q451.611 670.739 448.658 670.739 M448.658 667.729 Q453.379 667.729 455.861 671.472 Q458.363 675.196 458.363 682.305 Q458.363 689.396 455.861 693.139 Q453.379 696.863 448.658 696.863 Q443.937 696.863 441.436 693.139 Q438.953 689.396 438.953 682.305 Q438.953 675.196 441.436 671.472 Q443.937 667.729 448.658 667.729 Z\" fill=\"#000000\" fill-rule=\"nonzero\" fill-opacity=\"1\" /><path clip-path=\"url(#clip350)\" d=\"M50.9921 256.899 L80.6679 256.899 L80.6679 260.834 L50.9921 260.834 L50.9921 256.899 Z\" fill=\"#000000\" fill-rule=\"nonzero\" fill-opacity=\"1\" /><path clip-path=\"url(#clip350)\" d=\"M90.8067 239.168 L109.163 239.168 L109.163 243.103 L95.0891 243.103 L95.0891 251.575 Q96.1076 251.228 97.1261 251.066 Q98.1447 250.881 99.1632 250.881 Q104.95 250.881 108.33 254.052 Q111.709 257.223 111.709 262.64 Q111.709 268.218 108.237 271.32 Q104.765 274.399 98.4456 274.399 Q96.2697 274.399 94.0012 274.029 Q91.7558 273.658 89.3484 272.917 L89.3484 268.218 Q91.4317 269.353 93.6539 269.908 Q95.8761 270.464 98.353 270.464 Q102.358 270.464 104.696 268.357 Q107.033 266.251 107.033 262.64 Q107.033 259.029 104.696 256.922 Q102.358 254.816 98.353 254.816 Q96.478 254.816 94.603 255.232 Q92.7512 255.649 90.8067 256.529 L90.8067 239.168 Z\" fill=\"#000000\" fill-rule=\"nonzero\" fill-opacity=\"1\" /><path clip-path=\"url(#clip350)\" d=\"M120.922 267.848 L125.807 267.848 L125.807 273.728 L120.922 273.728 L120.922 267.848 Z\" fill=\"#000000\" fill-rule=\"nonzero\" fill-opacity=\"1\" /><path clip-path=\"url(#clip350)\" d=\"M148.839 243.242 L137.033 261.691 L148.839 261.691 L148.839 243.242 M147.612 239.168 L153.492 239.168 L153.492 261.691 L158.422 261.691 L158.422 265.579 L153.492 265.579 L153.492 273.728 L148.839 273.728 L148.839 265.579 L133.237 265.579 L133.237 261.066 L147.612 239.168 Z\" fill=\"#000000\" fill-rule=\"nonzero\" fill-opacity=\"1\" /><path clip-path=\"url(#clip350)\" d=\"M176.732 254.584 Q173.584 254.584 171.732 256.737 Q169.904 258.89 169.904 262.64 Q169.904 266.367 171.732 268.542 Q173.584 270.695 176.732 270.695 Q179.88 270.695 181.709 268.542 Q183.561 266.367 183.561 262.64 Q183.561 258.89 181.709 256.737 Q179.88 254.584 176.732 254.584 M186.015 239.931 L186.015 244.191 Q184.255 243.357 182.45 242.918 Q180.667 242.478 178.908 242.478 Q174.279 242.478 171.825 245.603 Q169.394 248.728 169.047 255.047 Q170.413 253.033 172.473 251.968 Q174.533 250.881 177.01 250.881 Q182.218 250.881 185.228 254.052 Q188.26 257.2 188.26 262.64 Q188.26 267.964 185.112 271.181 Q181.964 274.399 176.732 274.399 Q170.737 274.399 167.566 269.816 Q164.394 265.209 164.394 256.482 Q164.394 248.288 168.283 243.427 Q172.172 238.543 178.723 238.543 Q180.482 238.543 182.265 238.89 Q184.07 239.237 186.015 239.931 Z\" fill=\"#000000\" fill-rule=\"nonzero\" fill-opacity=\"1\" /><path clip-path=\"url(#clip350)\" d=\"M209.163 243.242 L197.357 261.691 L209.163 261.691 L209.163 243.242 M207.936 239.168 L213.815 239.168 L213.815 261.691 L218.746 261.691 L218.746 265.579 L213.815 265.579 L213.815 273.728 L209.163 273.728 L209.163 265.579 L193.561 265.579 L193.561 261.066 L207.936 239.168 Z\" fill=\"#000000\" fill-rule=\"nonzero\" fill-opacity=\"1\" /><path clip-path=\"url(#clip350)\" d=\"M227.287 269.792 L234.926 269.792 L234.926 243.427 L226.616 245.093 L226.616 240.834 L234.88 239.168 L239.556 239.168 L239.556 269.792 L247.195 269.792 L247.195 273.728 L227.287 273.728 L227.287 269.792 Z\" fill=\"#000000\" fill-rule=\"nonzero\" fill-opacity=\"1\" /><path clip-path=\"url(#clip350)\" d=\"M266.639 242.246 Q263.028 242.246 261.199 245.811 Q259.394 249.353 259.394 256.482 Q259.394 263.589 261.199 267.154 Q263.028 270.695 266.639 270.695 Q270.273 270.695 272.079 267.154 Q273.908 263.589 273.908 256.482 Q273.908 249.353 272.079 245.811 Q270.273 242.246 266.639 242.246 M266.639 238.543 Q272.449 238.543 275.505 243.149 Q278.583 247.732 278.583 256.482 Q278.583 265.209 275.505 269.816 Q272.449 274.399 266.639 274.399 Q260.829 274.399 257.75 269.816 Q254.695 265.209 254.695 256.482 Q254.695 247.732 257.75 243.149 Q260.829 238.543 266.639 238.543 Z\" fill=\"#000000\" fill-rule=\"nonzero\" fill-opacity=\"1\" /><path clip-path=\"url(#clip350)\" d=\"M287.611 269.792 L295.25 269.792 L295.25 243.427 L286.94 245.093 L286.94 240.834 L295.204 239.168 L299.88 239.168 L299.88 269.792 L307.519 269.792 L307.519 273.728 L287.611 273.728 L287.611 269.792 Z\" fill=\"#000000\" fill-rule=\"nonzero\" fill-opacity=\"1\" /><path clip-path=\"url(#clip350)\" d=\"M327.542 254.584 Q324.393 254.584 322.542 256.737 Q320.713 258.89 320.713 262.64 Q320.713 266.367 322.542 268.542 Q324.393 270.695 327.542 270.695 Q330.69 270.695 332.518 268.542 Q334.37 266.367 334.37 262.64 Q334.37 258.89 332.518 256.737 Q330.69 254.584 327.542 254.584 M336.824 239.931 L336.824 244.191 Q335.065 243.357 333.259 242.918 Q331.477 242.478 329.717 242.478 Q325.088 242.478 322.634 245.603 Q320.204 248.728 319.856 255.047 Q321.222 253.033 323.282 251.968 Q325.343 250.881 327.819 250.881 Q333.028 250.881 336.037 254.052 Q339.069 257.2 339.069 262.64 Q339.069 267.964 335.921 271.181 Q332.773 274.399 327.542 274.399 Q321.546 274.399 318.375 269.816 Q315.204 265.209 315.204 256.482 Q315.204 248.288 319.093 243.427 Q322.981 238.543 329.532 238.543 Q331.292 238.543 333.074 238.89 Q334.879 239.237 336.824 239.931 Z\" fill=\"#000000\" fill-rule=\"nonzero\" fill-opacity=\"1\" /><path clip-path=\"url(#clip350)\" d=\"M375.296 248.265 L364.717 258.89 L375.296 269.468 L372.541 272.269 L361.916 261.644 L351.291 272.269 L348.56 269.468 L359.115 258.89 L348.56 248.265 L351.291 245.464 L361.916 256.089 L372.541 245.464 L375.296 248.265 Z\" fill=\"#000000\" fill-rule=\"nonzero\" fill-opacity=\"1\" /><path clip-path=\"url(#clip350)\" d=\"M387.657 269.792 L395.296 269.792 L395.296 243.427 L386.986 245.093 L386.986 240.834 L395.25 239.168 L399.925 239.168 L399.925 269.792 L407.564 269.792 L407.564 273.728 L387.657 273.728 L387.657 269.792 Z\" fill=\"#000000\" fill-rule=\"nonzero\" fill-opacity=\"1\" /><path clip-path=\"url(#clip350)\" d=\"M427.009 242.246 Q423.398 242.246 421.569 245.811 Q419.763 249.353 419.763 256.482 Q419.763 263.589 421.569 267.154 Q423.398 270.695 427.009 270.695 Q430.643 270.695 432.448 267.154 Q434.277 263.589 434.277 256.482 Q434.277 249.353 432.448 245.811 Q430.643 242.246 427.009 242.246 M427.009 238.543 Q432.819 238.543 435.874 243.149 Q438.953 247.732 438.953 256.482 Q438.953 265.209 435.874 269.816 Q432.819 274.399 427.009 274.399 Q421.198 274.399 418.12 269.816 Q415.064 265.209 415.064 256.482 Q415.064 247.732 418.12 243.149 Q421.198 238.543 427.009 238.543 Z\" fill=\"#000000\" fill-rule=\"nonzero\" fill-opacity=\"1\" /><path clip-path=\"url(#clip350)\" d=\"M448.658 220.739 Q445.724 220.739 444.238 223.635 Q442.771 226.513 442.771 232.305 Q442.771 238.079 444.238 240.976 Q445.724 243.853 448.658 243.853 Q451.611 243.853 453.078 240.976 Q454.563 238.079 454.563 232.305 Q454.563 226.513 453.078 223.635 Q451.611 220.739 448.658 220.739 M448.658 217.729 Q453.379 217.729 455.861 221.472 Q458.363 225.196 458.363 232.305 Q458.363 239.396 455.861 243.139 Q453.379 246.863 448.658 246.863 Q443.937 246.863 441.436 243.139 Q438.953 239.396 438.953 232.305 Q438.953 225.196 441.436 221.472 Q443.937 217.729 448.658 217.729 Z\" fill=\"#000000\" fill-rule=\"nonzero\" fill-opacity=\"1\" /><polyline clip-path=\"url(#clip352)\" style=\"stroke:#009af9; stroke-linecap:round; stroke-linejoin:round; stroke-width:4; stroke-opacity:1; fill:none\" points=\"546.959,1300 897.599,550 1248.24,400 1598.88,400 1949.52,250 2300.16,-50 \"/>\n",
       "<path clip-path=\"url(#clip350)\" d=\"M556.309 198.898 L794.579 198.898 L794.579 95.2176 L556.309 95.2176  Z\" fill=\"#ffffff\" fill-rule=\"evenodd\" fill-opacity=\"1\"/>\n",
       "<polyline clip-path=\"url(#clip350)\" style=\"stroke:#000000; stroke-linecap:round; stroke-linejoin:round; stroke-width:4; stroke-opacity:1; fill:none\" points=\"556.309,198.898 794.579,198.898 794.579,95.2176 556.309,95.2176 556.309,198.898 \"/>\n",
       "<polyline clip-path=\"url(#clip350)\" style=\"stroke:#009af9; stroke-linecap:round; stroke-linejoin:round; stroke-width:4; stroke-opacity:1; fill:none\" points=\"576.958,147.058 700.851,147.058 \"/>\n",
       "<path clip-path=\"url(#clip350)\" d=\"M735.342 166.745 Q733.537 171.375 731.824 172.787 Q730.111 174.199 727.24 174.199 L723.838 174.199 L723.838 170.634 L726.338 170.634 Q728.097 170.634 729.069 169.8 Q730.041 168.967 731.222 165.865 L731.986 163.921 L721.5 138.412 L726.013 138.412 L734.115 158.689 L742.217 138.412 L746.731 138.412 L735.342 166.745 Z\" fill=\"#000000\" fill-rule=\"nonzero\" fill-opacity=\"1\" /><path clip-path=\"url(#clip350)\" d=\"M754.023 160.402 L761.661 160.402 L761.661 134.037 L753.351 135.703 L753.351 131.444 L761.615 129.778 L766.291 129.778 L766.291 160.402 L773.93 160.402 L773.93 164.338 L754.023 164.338 L754.023 160.402 Z\" fill=\"#000000\" fill-rule=\"nonzero\" fill-opacity=\"1\" /></svg>\n"
      ]
     },
     "execution_count": 327,
     "metadata": {},
     "output_type": "execute_result"
    }
   ],
   "source": [
    "plot(EEA[1,1,:])"
   ]
  },
  {
   "cell_type": "code",
   "execution_count": 328,
   "id": "bec96c91-12ba-4214-a086-62d865d34b60",
   "metadata": {},
   "outputs": [
    {
     "data": {
      "text/plain": [
       "1-element Vector{Any}:\n",
       " 3.6594741511432267e-17 + 3.5339496460705546e-17im"
      ]
     },
     "execution_count": 328,
     "metadata": {},
     "output_type": "execute_result"
    }
   ],
   "source": [
    "bands = [[1,6]]\n",
    "calc_chern_bands(UUA, bands)"
   ]
  },
  {
   "cell_type": "markdown",
   "id": "41f3aab3-fc88-4f28-a640-902c8a71b3c1",
   "metadata": {},
   "source": [
    "### Projected Many Body Chern"
   ]
  }
 ],
 "metadata": {
  "kernelspec": {
   "display_name": "Julia 1.8.1",
   "language": "julia",
   "name": "julia-1.8"
  },
  "language_info": {
   "file_extension": ".jl",
   "mimetype": "application/julia",
   "name": "julia",
   "version": "1.8.1"
  }
 },
 "nbformat": 4,
 "nbformat_minor": 5
}
