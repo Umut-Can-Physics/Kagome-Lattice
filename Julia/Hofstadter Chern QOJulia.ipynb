{
 "cells": [
  {
   "cell_type": "markdown",
   "metadata": {},
   "source": [
    "Many-Body Chern Number without Integration\n",
    "\n",
    "Koji Kudo, Haruki Watanabe, Toshikaze Kariyado, and Yasuhiro Hatsugai\n",
    "\n",
    "Phys. Rev. Lett. 122, 146601 – Published 9 April 2019\n",
    "\n",
    "https://journals.aps.org/prl/abstract/10.1103/PhysRevLett.122.146601"
   ]
  },
  {
   "cell_type": "code",
   "execution_count": 201,
   "metadata": {},
   "outputs": [
    {
     "data": {
      "text/plain": [
       "calc_all_states_H_mb (generic function with 1 method)"
      ]
     },
     "execution_count": 201,
     "metadata": {},
     "output_type": "execute_result"
    }
   ],
   "source": [
    "using QuantumOptics\n",
    "using NBInclude\n",
    "@nbinclude(\"Lattice_Basis_Neighbors_Hops.ipynb\"; regex=r\"#.*executeme\")\n",
    "@nbinclude(\"QOJulia_utils.ipynb\")\n",
    "@nbinclude(\"Chern_utils.ipynb\")"
   ]
  },
  {
   "cell_type": "markdown",
   "metadata": {},
   "source": [
    "# Parameters"
   ]
  },
  {
   "cell_type": "code",
   "execution_count": 191,
   "metadata": {},
   "outputs": [],
   "source": [
    "param_dict=Dict{}()\n",
    "\n",
    "LL = [5, 5]\n",
    "N = LL[1]*LL[2]\n",
    "vv_lattice = [ [1., 0], [0, 1.] ]\n",
    "b1=[0, 0]\n",
    "vv_basis = [b1]\n",
    "\n",
    "param_dict[\"LL\"] = LL\n",
    "param_dict[\"vv_lattice\"] = vv_lattice\n",
    "param_dict[\"vv_basis\"] = vv_basis\n",
    "\n",
    "nb = 1\n",
    "t=-1\n",
    "p=1\n",
    "q=5\n",
    "ϕ=p/q\n",
    "param_dict[\"gauge\"] = \"Landau\"\n",
    "param_dict[\"t\"]=t\n",
    "param_dict[\"ϕ\"]=ϕ\n",
    "θθ = [0, 0]\n",
    "param_dict[\"θθ\"]=θθ\n",
    "\n",
    "sites, site_coord, site_number = get_sites(LL, vv_lattice, vv_basis);\n",
    "param_dict[\"sites\"] = sites\n",
    "param_dict[\"site_coord\"] = site_coord\n",
    "param_dict[\"site_number\"] = site_number;\n",
    "\n",
    "pbc=true\n",
    "param_dict[\"pbc\"] = pbc;\n",
    "neighbors = [ [1, 0, 1], [-1, 0, 1], [0, 1, 1], [0, -1, 1]  ];\n",
    "neighbors_list = [ neighbors ];\n",
    "param_dict[\"neighbors_list\"] = neighbors_list;\n",
    "\n",
    "N1 = 20\n",
    "N2 = 20\n",
    "dx=2*pi/N1\n",
    "dy=dx\n",
    "Tx=collect(range(start=0, stop=2*pi-dx, step=dx))\n",
    "Ty=collect(range(start=0, stop=2*pi-dy, step=dy));\n",
    "\n",
    "param_dict[\"Tx\"] = Tx;\n",
    "param_dict[\"Ty\"] = Ty;"
   ]
  },
  {
   "cell_type": "markdown",
   "metadata": {},
   "source": [
    "# Single Particle"
   ]
  },
  {
   "cell_type": "code",
   "execution_count": 192,
   "metadata": {},
   "outputs": [],
   "source": [
    "basis = NLevelBasis(N) \n",
    "param_dict[\"basis\"] = basis;"
   ]
  },
  {
   "cell_type": "code",
   "execution_count": 193,
   "metadata": {},
   "outputs": [],
   "source": [
    "param_dict[\"model_H1\"] = get_Hofstadter_hamiltonian\n",
    "H_T = get_Hofstadter_hamiltonian(param_dict);\n",
    "\n",
    "H1 = get_sp_op(basis, H_T);\n",
    "\n",
    "EE, UU = eigenstates(dense(H1));"
   ]
  },
  {
   "cell_type": "markdown",
   "metadata": {},
   "source": [
    "### Single Particle Chern"
   ]
  },
  {
   "cell_type": "code",
   "execution_count": 194,
   "metadata": {},
   "outputs": [],
   "source": [
    "param_dict[\"param_1\"] = \"Tx\"\n",
    "param_dict[\"param_2\"] = \"Ty\"\n",
    "EEA, UUA = calc_all_states_H1(param_dict);"
   ]
  },
  {
   "cell_type": "code",
   "execution_count": 195,
   "metadata": {},
   "outputs": [
    {
     "data": {
      "image/svg+xml": [
       "<?xml version=\"1.0\" encoding=\"utf-8\"?>\n",
       "<svg xmlns=\"http://www.w3.org/2000/svg\" xmlns:xlink=\"http://www.w3.org/1999/xlink\" width=\"600\" height=\"400\" viewBox=\"0 0 2400 1600\">\n",
       "<defs>\n",
       "  <clipPath id=\"clip090\">\n",
       "    <rect x=\"0\" y=\"0\" width=\"2400\" height=\"1600\"/>\n",
       "  </clipPath>\n",
       "</defs>\n",
       "<path clip-path=\"url(#clip090)\" d=\"M0 1600 L2400 1600 L2400 0 L0 0  Z\" fill=\"#ffffff\" fill-rule=\"evenodd\" fill-opacity=\"1\"/>\n",
       "<defs>\n",
       "  <clipPath id=\"clip091\">\n",
       "    <rect x=\"480\" y=\"0\" width=\"1681\" height=\"1600\"/>\n",
       "  </clipPath>\n",
       "</defs>\n",
       "<path clip-path=\"url(#clip090)\" d=\"M148.057 1486.45 L2352.76 1486.45 L2352.76 47.2441 L148.057 47.2441  Z\" fill=\"#ffffff\" fill-rule=\"evenodd\" fill-opacity=\"1\"/>\n",
       "<defs>\n",
       "  <clipPath id=\"clip092\">\n",
       "    <rect x=\"148\" y=\"47\" width=\"2206\" height=\"1440\"/>\n",
       "  </clipPath>\n",
       "</defs>\n",
       "<polyline clip-path=\"url(#clip092)\" style=\"stroke:#000000; stroke-linecap:round; stroke-linejoin:round; stroke-width:2; stroke-opacity:0.1; fill:none\" points=\"557.105,1486.45 557.105,47.2441 \"/>\n",
       "<polyline clip-path=\"url(#clip092)\" style=\"stroke:#000000; stroke-linecap:round; stroke-linejoin:round; stroke-width:2; stroke-opacity:0.1; fill:none\" points=\"990.418,1486.45 990.418,47.2441 \"/>\n",
       "<polyline clip-path=\"url(#clip092)\" style=\"stroke:#000000; stroke-linecap:round; stroke-linejoin:round; stroke-width:2; stroke-opacity:0.1; fill:none\" points=\"1423.73,1486.45 1423.73,47.2441 \"/>\n",
       "<polyline clip-path=\"url(#clip092)\" style=\"stroke:#000000; stroke-linecap:round; stroke-linejoin:round; stroke-width:2; stroke-opacity:0.1; fill:none\" points=\"1857.05,1486.45 1857.05,47.2441 \"/>\n",
       "<polyline clip-path=\"url(#clip092)\" style=\"stroke:#000000; stroke-linecap:round; stroke-linejoin:round; stroke-width:2; stroke-opacity:0.1; fill:none\" points=\"2290.36,1486.45 2290.36,47.2441 \"/>\n",
       "<polyline clip-path=\"url(#clip090)\" style=\"stroke:#000000; stroke-linecap:round; stroke-linejoin:round; stroke-width:4; stroke-opacity:1; fill:none\" points=\"148.057,1486.45 2352.76,1486.45 \"/>\n",
       "<polyline clip-path=\"url(#clip090)\" style=\"stroke:#000000; stroke-linecap:round; stroke-linejoin:round; stroke-width:4; stroke-opacity:1; fill:none\" points=\"557.105,1486.45 557.105,1467.55 \"/>\n",
       "<polyline clip-path=\"url(#clip090)\" style=\"stroke:#000000; stroke-linecap:round; stroke-linejoin:round; stroke-width:4; stroke-opacity:1; fill:none\" points=\"990.418,1486.45 990.418,1467.55 \"/>\n",
       "<polyline clip-path=\"url(#clip090)\" style=\"stroke:#000000; stroke-linecap:round; stroke-linejoin:round; stroke-width:4; stroke-opacity:1; fill:none\" points=\"1423.73,1486.45 1423.73,1467.55 \"/>\n",
       "<polyline clip-path=\"url(#clip090)\" style=\"stroke:#000000; stroke-linecap:round; stroke-linejoin:round; stroke-width:4; stroke-opacity:1; fill:none\" points=\"1857.05,1486.45 1857.05,1467.55 \"/>\n",
       "<polyline clip-path=\"url(#clip090)\" style=\"stroke:#000000; stroke-linecap:round; stroke-linejoin:round; stroke-width:4; stroke-opacity:1; fill:none\" points=\"2290.36,1486.45 2290.36,1467.55 \"/>\n",
       "<path clip-path=\"url(#clip090)\" d=\"M547.382 1514.29 L565.739 1514.29 L565.739 1518.22 L551.665 1518.22 L551.665 1526.7 Q552.683 1526.35 553.702 1526.19 Q554.72 1526 555.739 1526 Q561.526 1526 564.905 1529.17 Q568.285 1532.34 568.285 1537.76 Q568.285 1543.34 564.813 1546.44 Q561.341 1549.52 555.021 1549.52 Q552.845 1549.52 550.577 1549.15 Q548.331 1548.78 545.924 1548.04 L545.924 1543.34 Q548.007 1544.47 550.23 1545.03 Q552.452 1545.58 554.929 1545.58 Q558.933 1545.58 561.271 1543.48 Q563.609 1541.37 563.609 1537.76 Q563.609 1534.15 561.271 1532.04 Q558.933 1529.94 554.929 1529.94 Q553.054 1529.94 551.179 1530.35 Q549.327 1530.77 547.382 1531.65 L547.382 1514.29 Z\" fill=\"#000000\" fill-rule=\"nonzero\" fill-opacity=\"1\" /><path clip-path=\"url(#clip090)\" d=\"M965.106 1544.91 L972.745 1544.91 L972.745 1518.55 L964.434 1520.21 L964.434 1515.95 L972.698 1514.29 L977.374 1514.29 L977.374 1544.91 L985.013 1544.91 L985.013 1548.85 L965.106 1548.85 L965.106 1544.91 Z\" fill=\"#000000\" fill-rule=\"nonzero\" fill-opacity=\"1\" /><path clip-path=\"url(#clip090)\" d=\"M1004.46 1517.37 Q1000.85 1517.37 999.018 1520.93 Q997.212 1524.47 997.212 1531.6 Q997.212 1538.71 999.018 1542.27 Q1000.85 1545.82 1004.46 1545.82 Q1008.09 1545.82 1009.9 1542.27 Q1011.73 1538.71 1011.73 1531.6 Q1011.73 1524.47 1009.9 1520.93 Q1008.09 1517.37 1004.46 1517.37 M1004.46 1513.66 Q1010.27 1513.66 1013.32 1518.27 Q1016.4 1522.85 1016.4 1531.6 Q1016.4 1540.33 1013.32 1544.94 Q1010.27 1549.52 1004.46 1549.52 Q998.647 1549.52 995.569 1544.94 Q992.513 1540.33 992.513 1531.6 Q992.513 1522.85 995.569 1518.27 Q998.647 1513.66 1004.46 1513.66 Z\" fill=\"#000000\" fill-rule=\"nonzero\" fill-opacity=\"1\" /><path clip-path=\"url(#clip090)\" d=\"M1398.92 1544.91 L1406.56 1544.91 L1406.56 1518.55 L1398.25 1520.21 L1398.25 1515.95 L1406.51 1514.29 L1411.19 1514.29 L1411.19 1544.91 L1418.82 1544.91 L1418.82 1548.85 L1398.92 1548.85 L1398.92 1544.91 Z\" fill=\"#000000\" fill-rule=\"nonzero\" fill-opacity=\"1\" /><path clip-path=\"url(#clip090)\" d=\"M1428.31 1514.29 L1446.67 1514.29 L1446.67 1518.22 L1432.6 1518.22 L1432.6 1526.7 Q1433.62 1526.35 1434.63 1526.19 Q1435.65 1526 1436.67 1526 Q1442.46 1526 1445.84 1529.17 Q1449.22 1532.34 1449.22 1537.76 Q1449.22 1543.34 1445.75 1546.44 Q1442.27 1549.52 1435.95 1549.52 Q1433.78 1549.52 1431.51 1549.15 Q1429.26 1548.78 1426.86 1548.04 L1426.86 1543.34 Q1428.94 1544.47 1431.16 1545.03 Q1433.38 1545.58 1435.86 1545.58 Q1439.87 1545.58 1442.2 1543.48 Q1444.54 1541.37 1444.54 1537.76 Q1444.54 1534.15 1442.2 1532.04 Q1439.87 1529.94 1435.86 1529.94 Q1433.99 1529.94 1432.11 1530.35 Q1430.26 1530.77 1428.31 1531.65 L1428.31 1514.29 Z\" fill=\"#000000\" fill-rule=\"nonzero\" fill-opacity=\"1\" /><path clip-path=\"url(#clip090)\" d=\"M1835.82 1544.91 L1852.14 1544.91 L1852.14 1548.85 L1830.19 1548.85 L1830.19 1544.91 Q1832.86 1542.16 1837.44 1537.53 Q1842.05 1532.88 1843.23 1531.53 Q1845.47 1529.01 1846.35 1527.27 Q1847.25 1525.51 1847.25 1523.82 Q1847.25 1521.07 1845.31 1519.33 Q1843.39 1517.6 1840.29 1517.6 Q1838.09 1517.6 1835.63 1518.36 Q1833.2 1519.13 1830.42 1520.68 L1830.42 1515.95 Q1833.25 1514.82 1835.7 1514.24 Q1838.16 1513.66 1840.19 1513.66 Q1845.56 1513.66 1848.76 1516.35 Q1851.95 1519.03 1851.95 1523.52 Q1851.95 1525.65 1851.14 1527.57 Q1850.36 1529.47 1848.25 1532.07 Q1847.67 1532.74 1844.57 1535.95 Q1841.47 1539.15 1835.82 1544.91 Z\" fill=\"#000000\" fill-rule=\"nonzero\" fill-opacity=\"1\" /><path clip-path=\"url(#clip090)\" d=\"M1871.95 1517.37 Q1868.34 1517.37 1866.51 1520.93 Q1864.71 1524.47 1864.71 1531.6 Q1864.71 1538.71 1866.51 1542.27 Q1868.34 1545.82 1871.95 1545.82 Q1875.59 1545.82 1877.39 1542.27 Q1879.22 1538.71 1879.22 1531.6 Q1879.22 1524.47 1877.39 1520.93 Q1875.59 1517.37 1871.95 1517.37 M1871.95 1513.66 Q1877.76 1513.66 1880.82 1518.27 Q1883.9 1522.85 1883.9 1531.6 Q1883.9 1540.33 1880.82 1544.94 Q1877.76 1549.52 1871.95 1549.52 Q1866.14 1549.52 1863.06 1544.94 Q1860.01 1540.33 1860.01 1531.6 Q1860.01 1522.85 1863.06 1518.27 Q1866.14 1513.66 1871.95 1513.66 Z\" fill=\"#000000\" fill-rule=\"nonzero\" fill-opacity=\"1\" /><path clip-path=\"url(#clip090)\" d=\"M2269.63 1544.91 L2285.95 1544.91 L2285.95 1548.85 L2264 1548.85 L2264 1544.91 Q2266.67 1542.16 2271.25 1537.53 Q2275.86 1532.88 2277.04 1531.53 Q2279.28 1529.01 2280.16 1527.27 Q2281.06 1525.51 2281.06 1523.82 Q2281.06 1521.07 2279.12 1519.33 Q2277.2 1517.6 2274.1 1517.6 Q2271.9 1517.6 2269.44 1518.36 Q2267.01 1519.13 2264.24 1520.68 L2264.24 1515.95 Q2267.06 1514.82 2269.51 1514.24 Q2271.97 1513.66 2274 1513.66 Q2279.38 1513.66 2282.57 1516.35 Q2285.76 1519.03 2285.76 1523.52 Q2285.76 1525.65 2284.95 1527.57 Q2284.17 1529.47 2282.06 1532.07 Q2281.48 1532.74 2278.38 1535.95 Q2275.28 1539.15 2269.63 1544.91 Z\" fill=\"#000000\" fill-rule=\"nonzero\" fill-opacity=\"1\" /><path clip-path=\"url(#clip090)\" d=\"M2295.81 1514.29 L2314.17 1514.29 L2314.17 1518.22 L2300.09 1518.22 L2300.09 1526.7 Q2301.11 1526.35 2302.13 1526.19 Q2303.15 1526 2304.17 1526 Q2309.95 1526 2313.33 1529.17 Q2316.71 1532.34 2316.71 1537.76 Q2316.71 1543.34 2313.24 1546.44 Q2309.77 1549.52 2303.45 1549.52 Q2301.27 1549.52 2299 1549.15 Q2296.76 1548.78 2294.35 1548.04 L2294.35 1543.34 Q2296.44 1544.47 2298.66 1545.03 Q2300.88 1545.58 2303.36 1545.58 Q2307.36 1545.58 2309.7 1543.48 Q2312.04 1541.37 2312.04 1537.76 Q2312.04 1534.15 2309.7 1532.04 Q2307.36 1529.94 2303.36 1529.94 Q2301.48 1529.94 2299.61 1530.35 Q2297.75 1530.77 2295.81 1531.65 L2295.81 1514.29 Z\" fill=\"#000000\" fill-rule=\"nonzero\" fill-opacity=\"1\" /><polyline clip-path=\"url(#clip092)\" style=\"stroke:#000000; stroke-linecap:round; stroke-linejoin:round; stroke-width:2; stroke-opacity:0.1; fill:none\" points=\"148.057,1453.48 2352.76,1453.48 \"/>\n",
       "<polyline clip-path=\"url(#clip092)\" style=\"stroke:#000000; stroke-linecap:round; stroke-linejoin:round; stroke-width:2; stroke-opacity:0.1; fill:none\" points=\"148.057,1222.12 2352.76,1222.12 \"/>\n",
       "<polyline clip-path=\"url(#clip092)\" style=\"stroke:#000000; stroke-linecap:round; stroke-linejoin:round; stroke-width:2; stroke-opacity:0.1; fill:none\" points=\"148.057,990.762 2352.76,990.762 \"/>\n",
       "<polyline clip-path=\"url(#clip092)\" style=\"stroke:#000000; stroke-linecap:round; stroke-linejoin:round; stroke-width:2; stroke-opacity:0.1; fill:none\" points=\"148.057,759.404 2352.76,759.404 \"/>\n",
       "<polyline clip-path=\"url(#clip092)\" style=\"stroke:#000000; stroke-linecap:round; stroke-linejoin:round; stroke-width:2; stroke-opacity:0.1; fill:none\" points=\"148.057,528.046 2352.76,528.046 \"/>\n",
       "<polyline clip-path=\"url(#clip092)\" style=\"stroke:#000000; stroke-linecap:round; stroke-linejoin:round; stroke-width:2; stroke-opacity:0.1; fill:none\" points=\"148.057,296.687 2352.76,296.687 \"/>\n",
       "<polyline clip-path=\"url(#clip092)\" style=\"stroke:#000000; stroke-linecap:round; stroke-linejoin:round; stroke-width:2; stroke-opacity:0.1; fill:none\" points=\"148.057,65.3293 2352.76,65.3293 \"/>\n",
       "<polyline clip-path=\"url(#clip090)\" style=\"stroke:#000000; stroke-linecap:round; stroke-linejoin:round; stroke-width:4; stroke-opacity:1; fill:none\" points=\"148.057,1486.45 148.057,47.2441 \"/>\n",
       "<polyline clip-path=\"url(#clip090)\" style=\"stroke:#000000; stroke-linecap:round; stroke-linejoin:round; stroke-width:4; stroke-opacity:1; fill:none\" points=\"148.057,1453.48 166.954,1453.48 \"/>\n",
       "<polyline clip-path=\"url(#clip090)\" style=\"stroke:#000000; stroke-linecap:round; stroke-linejoin:round; stroke-width:4; stroke-opacity:1; fill:none\" points=\"148.057,1222.12 166.954,1222.12 \"/>\n",
       "<polyline clip-path=\"url(#clip090)\" style=\"stroke:#000000; stroke-linecap:round; stroke-linejoin:round; stroke-width:4; stroke-opacity:1; fill:none\" points=\"148.057,990.762 166.954,990.762 \"/>\n",
       "<polyline clip-path=\"url(#clip090)\" style=\"stroke:#000000; stroke-linecap:round; stroke-linejoin:round; stroke-width:4; stroke-opacity:1; fill:none\" points=\"148.057,759.404 166.954,759.404 \"/>\n",
       "<polyline clip-path=\"url(#clip090)\" style=\"stroke:#000000; stroke-linecap:round; stroke-linejoin:round; stroke-width:4; stroke-opacity:1; fill:none\" points=\"148.057,528.046 166.954,528.046 \"/>\n",
       "<polyline clip-path=\"url(#clip090)\" style=\"stroke:#000000; stroke-linecap:round; stroke-linejoin:round; stroke-width:4; stroke-opacity:1; fill:none\" points=\"148.057,296.687 166.954,296.687 \"/>\n",
       "<polyline clip-path=\"url(#clip090)\" style=\"stroke:#000000; stroke-linecap:round; stroke-linejoin:round; stroke-width:4; stroke-opacity:1; fill:none\" points=\"148.057,65.3293 166.954,65.3293 \"/>\n",
       "<path clip-path=\"url(#clip090)\" d=\"M50.9921 1453.93 L80.6679 1453.93 L80.6679 1457.86 L50.9921 1457.86 L50.9921 1453.93 Z\" fill=\"#000000\" fill-rule=\"nonzero\" fill-opacity=\"1\" /><path clip-path=\"url(#clip090)\" d=\"M104.927 1452.12 Q108.283 1452.84 110.158 1455.11 Q112.057 1457.38 112.057 1460.71 Q112.057 1465.83 108.538 1468.63 Q105.02 1471.43 98.5382 1471.43 Q96.3623 1471.43 94.0475 1470.99 Q91.7558 1470.57 89.3021 1469.72 L89.3021 1465.2 Q91.2465 1466.34 93.5613 1466.92 Q95.8761 1467.49 98.3993 1467.49 Q102.797 1467.49 105.089 1465.76 Q107.404 1464.02 107.404 1460.71 Q107.404 1457.66 105.251 1455.94 Q103.121 1454.21 99.3021 1454.21 L95.2743 1454.21 L95.2743 1450.36 L99.4872 1450.36 Q102.936 1450.36 104.765 1449 Q106.594 1447.61 106.594 1445.02 Q106.594 1442.36 104.696 1440.94 Q102.821 1439.51 99.3021 1439.51 Q97.3808 1439.51 95.1817 1439.93 Q92.9826 1440.34 90.3438 1441.22 L90.3438 1437.05 Q93.0058 1436.31 95.3206 1435.94 Q97.6585 1435.57 99.7187 1435.57 Q105.043 1435.57 108.145 1438 Q111.246 1440.41 111.246 1444.53 Q111.246 1447.4 109.603 1449.39 Q107.959 1451.36 104.927 1452.12 Z\" fill=\"#000000\" fill-rule=\"nonzero\" fill-opacity=\"1\" /><path clip-path=\"url(#clip090)\" d=\"M51.9412 1222.57 L81.617 1222.57 L81.617 1226.51 L51.9412 1226.51 L51.9412 1222.57 Z\" fill=\"#000000\" fill-rule=\"nonzero\" fill-opacity=\"1\" /><path clip-path=\"url(#clip090)\" d=\"M95.7373 1235.46 L112.057 1235.46 L112.057 1239.4 L90.1123 1239.4 L90.1123 1235.46 Q92.7743 1232.71 97.3576 1228.08 Q101.964 1223.43 103.145 1222.09 Q105.39 1219.56 106.27 1217.83 Q107.172 1216.07 107.172 1214.38 Q107.172 1211.62 105.228 1209.89 Q103.307 1208.15 100.205 1208.15 Q98.0058 1208.15 95.5521 1208.91 Q93.1215 1209.68 90.3438 1211.23 L90.3438 1206.51 Q93.1678 1205.37 95.6215 1204.79 Q98.0752 1204.22 100.112 1204.22 Q105.483 1204.22 108.677 1206.9 Q111.871 1209.59 111.871 1214.08 Q111.871 1216.21 111.061 1218.13 Q110.274 1220.03 108.168 1222.62 Q107.589 1223.29 104.487 1226.51 Q101.385 1229.7 95.7373 1235.46 Z\" fill=\"#000000\" fill-rule=\"nonzero\" fill-opacity=\"1\" /><path clip-path=\"url(#clip090)\" d=\"M51.5708 991.213 L81.2466 991.213 L81.2466 995.148 L51.5708 995.148 L51.5708 991.213 Z\" fill=\"#000000\" fill-rule=\"nonzero\" fill-opacity=\"1\" /><path clip-path=\"url(#clip090)\" d=\"M92.1493 1004.11 L99.7882 1004.11 L99.7882 977.741 L91.478 979.408 L91.478 975.149 L99.7419 973.482 L104.418 973.482 L104.418 1004.11 L112.057 1004.11 L112.057 1008.04 L92.1493 1008.04 L92.1493 1004.11 Z\" fill=\"#000000\" fill-rule=\"nonzero\" fill-opacity=\"1\" /><path clip-path=\"url(#clip090)\" d=\"M100.112 745.202 Q96.5011 745.202 94.6724 748.767 Q92.8669 752.309 92.8669 759.438 Q92.8669 766.545 94.6724 770.11 Q96.5011 773.651 100.112 773.651 Q103.746 773.651 105.552 770.11 Q107.381 766.545 107.381 759.438 Q107.381 752.309 105.552 748.767 Q103.746 745.202 100.112 745.202 M100.112 741.499 Q105.922 741.499 108.978 746.105 Q112.057 750.689 112.057 759.438 Q112.057 768.165 108.978 772.772 Q105.922 777.355 100.112 777.355 Q94.3021 777.355 91.2234 772.772 Q88.1679 768.165 88.1679 759.438 Q88.1679 750.689 91.2234 746.105 Q94.3021 741.499 100.112 741.499 Z\" fill=\"#000000\" fill-rule=\"nonzero\" fill-opacity=\"1\" /><path clip-path=\"url(#clip090)\" d=\"M92.1493 541.39 L99.7882 541.39 L99.7882 515.025 L91.478 516.692 L91.478 512.432 L99.7419 510.766 L104.418 510.766 L104.418 541.39 L112.057 541.39 L112.057 545.326 L92.1493 545.326 L92.1493 541.39 Z\" fill=\"#000000\" fill-rule=\"nonzero\" fill-opacity=\"1\" /><path clip-path=\"url(#clip090)\" d=\"M95.7373 310.032 L112.057 310.032 L112.057 313.967 L90.1123 313.967 L90.1123 310.032 Q92.7743 307.278 97.3576 302.648 Q101.964 297.995 103.145 296.653 Q105.39 294.13 106.27 292.394 Q107.172 290.634 107.172 288.944 Q107.172 286.19 105.228 284.454 Q103.307 282.718 100.205 282.718 Q98.0058 282.718 95.5521 283.482 Q93.1215 284.245 90.3438 285.796 L90.3438 281.074 Q93.1678 279.94 95.6215 279.361 Q98.0752 278.782 100.112 278.782 Q105.483 278.782 108.677 281.468 Q111.871 284.153 111.871 288.644 Q111.871 290.773 111.061 292.694 Q110.274 294.593 108.168 297.185 Q107.589 297.856 104.487 301.074 Q101.385 304.268 95.7373 310.032 Z\" fill=\"#000000\" fill-rule=\"nonzero\" fill-opacity=\"1\" /><path clip-path=\"url(#clip090)\" d=\"M104.927 63.9752 Q108.283 64.6928 110.158 66.9613 Q112.057 69.2298 112.057 72.5631 Q112.057 77.6788 108.538 80.4797 Q105.02 83.2806 98.5382 83.2806 Q96.3623 83.2806 94.0475 82.8408 Q91.7558 82.4241 89.3021 81.5677 L89.3021 77.0538 Q91.2465 78.1881 93.5613 78.7668 Q95.8761 79.3455 98.3993 79.3455 Q102.797 79.3455 105.089 77.6094 Q107.404 75.8733 107.404 72.5631 Q107.404 69.5075 105.251 67.7946 Q103.121 66.0585 99.3021 66.0585 L95.2743 66.0585 L95.2743 62.2159 L99.4872 62.2159 Q102.936 62.2159 104.765 60.8502 Q106.594 59.4613 106.594 56.8687 Q106.594 54.2067 104.696 52.7947 Q102.821 51.3595 99.3021 51.3595 Q97.3808 51.3595 95.1817 51.7762 Q92.9826 52.1928 90.3438 53.0725 L90.3438 48.9058 Q93.0058 48.1651 95.3206 47.7947 Q97.6585 47.4243 99.7187 47.4243 Q105.043 47.4243 108.145 49.8549 Q111.246 52.2623 111.246 56.3826 Q111.246 59.253 109.603 61.2437 Q107.959 63.2113 104.927 63.9752 Z\" fill=\"#000000\" fill-rule=\"nonzero\" fill-opacity=\"1\" /><circle clip-path=\"url(#clip092)\" cx=\"210.454\" cy=\"1445.72\" r=\"14.4\" fill=\"#009af9\" fill-rule=\"evenodd\" fill-opacity=\"1\" stroke=\"#000000\" stroke-opacity=\"1\" stroke-width=\"3.2\"/>\n",
       "<circle clip-path=\"url(#clip092)\" cx=\"297.116\" cy=\"1445.72\" r=\"14.4\" fill=\"#009af9\" fill-rule=\"evenodd\" fill-opacity=\"1\" stroke=\"#000000\" stroke-opacity=\"1\" stroke-width=\"3.2\"/>\n",
       "<circle clip-path=\"url(#clip092)\" cx=\"383.779\" cy=\"1445.72\" r=\"14.4\" fill=\"#009af9\" fill-rule=\"evenodd\" fill-opacity=\"1\" stroke=\"#000000\" stroke-opacity=\"1\" stroke-width=\"3.2\"/>\n",
       "<circle clip-path=\"url(#clip092)\" cx=\"470.442\" cy=\"1445.72\" r=\"14.4\" fill=\"#009af9\" fill-rule=\"evenodd\" fill-opacity=\"1\" stroke=\"#000000\" stroke-opacity=\"1\" stroke-width=\"3.2\"/>\n",
       "<circle clip-path=\"url(#clip092)\" cx=\"557.105\" cy=\"1445.72\" r=\"14.4\" fill=\"#009af9\" fill-rule=\"evenodd\" fill-opacity=\"1\" stroke=\"#000000\" stroke-opacity=\"1\" stroke-width=\"3.2\"/>\n",
       "<circle clip-path=\"url(#clip092)\" cx=\"643.767\" cy=\"968.115\" r=\"14.4\" fill=\"#009af9\" fill-rule=\"evenodd\" fill-opacity=\"1\" stroke=\"#000000\" stroke-opacity=\"1\" stroke-width=\"3.2\"/>\n",
       "<circle clip-path=\"url(#clip092)\" cx=\"730.43\" cy=\"968.115\" r=\"14.4\" fill=\"#009af9\" fill-rule=\"evenodd\" fill-opacity=\"1\" stroke=\"#000000\" stroke-opacity=\"1\" stroke-width=\"3.2\"/>\n",
       "<circle clip-path=\"url(#clip092)\" cx=\"817.093\" cy=\"968.115\" r=\"14.4\" fill=\"#009af9\" fill-rule=\"evenodd\" fill-opacity=\"1\" stroke=\"#000000\" stroke-opacity=\"1\" stroke-width=\"3.2\"/>\n",
       "<circle clip-path=\"url(#clip092)\" cx=\"903.755\" cy=\"968.115\" r=\"14.4\" fill=\"#009af9\" fill-rule=\"evenodd\" fill-opacity=\"1\" stroke=\"#000000\" stroke-opacity=\"1\" stroke-width=\"3.2\"/>\n",
       "<circle clip-path=\"url(#clip092)\" cx=\"990.418\" cy=\"968.115\" r=\"14.4\" fill=\"#009af9\" fill-rule=\"evenodd\" fill-opacity=\"1\" stroke=\"#000000\" stroke-opacity=\"1\" stroke-width=\"3.2\"/>\n",
       "<circle clip-path=\"url(#clip092)\" cx=\"1077.08\" cy=\"847.775\" r=\"14.4\" fill=\"#009af9\" fill-rule=\"evenodd\" fill-opacity=\"1\" stroke=\"#000000\" stroke-opacity=\"1\" stroke-width=\"3.2\"/>\n",
       "<circle clip-path=\"url(#clip092)\" cx=\"1163.74\" cy=\"847.775\" r=\"14.4\" fill=\"#009af9\" fill-rule=\"evenodd\" fill-opacity=\"1\" stroke=\"#000000\" stroke-opacity=\"1\" stroke-width=\"3.2\"/>\n",
       "<circle clip-path=\"url(#clip092)\" cx=\"1250.41\" cy=\"847.775\" r=\"14.4\" fill=\"#009af9\" fill-rule=\"evenodd\" fill-opacity=\"1\" stroke=\"#000000\" stroke-opacity=\"1\" stroke-width=\"3.2\"/>\n",
       "<circle clip-path=\"url(#clip092)\" cx=\"1337.07\" cy=\"847.775\" r=\"14.4\" fill=\"#009af9\" fill-rule=\"evenodd\" fill-opacity=\"1\" stroke=\"#000000\" stroke-opacity=\"1\" stroke-width=\"3.2\"/>\n",
       "<circle clip-path=\"url(#clip092)\" cx=\"1423.73\" cy=\"847.775\" r=\"14.4\" fill=\"#009af9\" fill-rule=\"evenodd\" fill-opacity=\"1\" stroke=\"#000000\" stroke-opacity=\"1\" stroke-width=\"3.2\"/>\n",
       "<circle clip-path=\"url(#clip092)\" cx=\"1510.39\" cy=\"447.437\" r=\"14.4\" fill=\"#009af9\" fill-rule=\"evenodd\" fill-opacity=\"1\" stroke=\"#000000\" stroke-opacity=\"1\" stroke-width=\"3.2\"/>\n",
       "<circle clip-path=\"url(#clip092)\" cx=\"1597.06\" cy=\"447.437\" r=\"14.4\" fill=\"#009af9\" fill-rule=\"evenodd\" fill-opacity=\"1\" stroke=\"#000000\" stroke-opacity=\"1\" stroke-width=\"3.2\"/>\n",
       "<circle clip-path=\"url(#clip092)\" cx=\"1683.72\" cy=\"447.437\" r=\"14.4\" fill=\"#009af9\" fill-rule=\"evenodd\" fill-opacity=\"1\" stroke=\"#000000\" stroke-opacity=\"1\" stroke-width=\"3.2\"/>\n",
       "<circle clip-path=\"url(#clip092)\" cx=\"1770.38\" cy=\"447.437\" r=\"14.4\" fill=\"#009af9\" fill-rule=\"evenodd\" fill-opacity=\"1\" stroke=\"#000000\" stroke-opacity=\"1\" stroke-width=\"3.2\"/>\n",
       "<circle clip-path=\"url(#clip092)\" cx=\"1857.05\" cy=\"447.437\" r=\"14.4\" fill=\"#009af9\" fill-rule=\"evenodd\" fill-opacity=\"1\" stroke=\"#000000\" stroke-opacity=\"1\" stroke-width=\"3.2\"/>\n",
       "<circle clip-path=\"url(#clip092)\" cx=\"1943.71\" cy=\"87.9763\" r=\"14.4\" fill=\"#009af9\" fill-rule=\"evenodd\" fill-opacity=\"1\" stroke=\"#000000\" stroke-opacity=\"1\" stroke-width=\"3.2\"/>\n",
       "<circle clip-path=\"url(#clip092)\" cx=\"2030.37\" cy=\"87.9763\" r=\"14.4\" fill=\"#009af9\" fill-rule=\"evenodd\" fill-opacity=\"1\" stroke=\"#000000\" stroke-opacity=\"1\" stroke-width=\"3.2\"/>\n",
       "<circle clip-path=\"url(#clip092)\" cx=\"2117.03\" cy=\"87.9763\" r=\"14.4\" fill=\"#009af9\" fill-rule=\"evenodd\" fill-opacity=\"1\" stroke=\"#000000\" stroke-opacity=\"1\" stroke-width=\"3.2\"/>\n",
       "<circle clip-path=\"url(#clip092)\" cx=\"2203.7\" cy=\"87.9763\" r=\"14.4\" fill=\"#009af9\" fill-rule=\"evenodd\" fill-opacity=\"1\" stroke=\"#000000\" stroke-opacity=\"1\" stroke-width=\"3.2\"/>\n",
       "<circle clip-path=\"url(#clip092)\" cx=\"2290.36\" cy=\"87.9763\" r=\"14.4\" fill=\"#009af9\" fill-rule=\"evenodd\" fill-opacity=\"1\" stroke=\"#000000\" stroke-opacity=\"1\" stroke-width=\"3.2\"/>\n",
       "<path clip-path=\"url(#clip090)\" d=\"M221.547 198.898 L494.447 198.898 L494.447 95.2176 L221.547 95.2176  Z\" fill=\"#ffffff\" fill-rule=\"evenodd\" fill-opacity=\"1\"/>\n",
       "<polyline clip-path=\"url(#clip090)\" style=\"stroke:#000000; stroke-linecap:round; stroke-linejoin:round; stroke-width:4; stroke-opacity:1; fill:none\" points=\"221.547,198.898 494.447,198.898 494.447,95.2176 221.547,95.2176 221.547,198.898 \"/>\n",
       "<circle clip-path=\"url(#clip090)\" cx=\"319.533\" cy=\"147.058\" r=\"20.48\" fill=\"#009af9\" fill-rule=\"evenodd\" fill-opacity=\"1\" stroke=\"#000000\" stroke-opacity=\"1\" stroke-width=\"4.55111\"/>\n",
       "<path clip-path=\"url(#clip090)\" d=\"M431.362 166.745 Q429.557 171.375 427.844 172.787 Q426.131 174.199 423.261 174.199 L419.858 174.199 L419.858 170.634 L422.358 170.634 Q424.117 170.634 425.089 169.8 Q426.061 168.967 427.242 165.865 L428.006 163.921 L417.52 138.412 L422.034 138.412 L430.136 158.689 L438.237 138.412 L442.751 138.412 L431.362 166.745 Z\" fill=\"#000000\" fill-rule=\"nonzero\" fill-opacity=\"1\" /><path clip-path=\"url(#clip090)\" d=\"M450.043 160.402 L457.682 160.402 L457.682 134.037 L449.372 135.703 L449.372 131.444 L457.635 129.778 L462.311 129.778 L462.311 160.402 L469.95 160.402 L469.95 164.338 L450.043 164.338 L450.043 160.402 Z\" fill=\"#000000\" fill-rule=\"nonzero\" fill-opacity=\"1\" /></svg>\n"
      ]
     },
     "execution_count": 195,
     "metadata": {},
     "output_type": "execute_result"
    }
   ],
   "source": [
    "using Plots\n",
    "scatter(real(EEA[1,1,:]))"
   ]
  },
  {
   "cell_type": "code",
   "execution_count": 196,
   "metadata": {},
   "outputs": [
    {
     "data": {
      "text/plain": [
       "5-element Vector{Any}:\n",
       "  0.9999999999999998 + 2.9099219531355976e-16im\n",
       "  1.0000000000000002 + 3.0016888307938423e-16im\n",
       " -3.9999999999999996 - 5.454154317040941e-16im\n",
       "  1.0000000000000002 + 2.328159222996824e-16im\n",
       "  1.0000000000000004 + 1.1001100695711621e-16im"
      ]
     },
     "execution_count": 196,
     "metadata": {},
     "output_type": "execute_result"
    }
   ],
   "source": [
    "bands = [[1,3],[4,6],[7,9]]\n",
    "bands = [[1,5],[6,10],[11,15],[16,20],[21,25]]\n",
    "calc_chern_bands(UUA, bands)"
   ]
  },
  {
   "cell_type": "markdown",
   "metadata": {},
   "source": [
    "## Projected Single Particle"
   ]
  },
  {
   "cell_type": "code",
   "execution_count": 197,
   "metadata": {},
   "outputs": [],
   "source": [
    "sub_states = get_subset_states(H1, 1:5);\n",
    "subspace_proj, P, Pt = get_projector_op(basis, sub_states);\n",
    "H1_proj = get_subspace_op(H1, P, Pt)\n",
    "#param_dict[\"subspace_proj\"] = subspace_proj\n",
    "param_dict[\"projection\"] = subspace_proj, P, Pt;"
   ]
  },
  {
   "cell_type": "markdown",
   "metadata": {},
   "source": [
    "### Projected Single Particle Chern"
   ]
  },
  {
   "cell_type": "code",
   "execution_count": 198,
   "metadata": {},
   "outputs": [],
   "source": [
    "param_dict[\"sub_range\"] = 1:5\n",
    "EEA, UUA = calc_all_states_H1(param_dict);"
   ]
  },
  {
   "cell_type": "code",
   "execution_count": 200,
   "metadata": {},
   "outputs": [
    {
     "data": {
      "text/plain": [
       "1-element Vector{Any}:\n",
       " 0.9999999999999998 + 2.9099219531355976e-16im"
      ]
     },
     "execution_count": 200,
     "metadata": {},
     "output_type": "execute_result"
    }
   ],
   "source": [
    "bands = [[1,5]]\n",
    "calc_chern_bands(UUA, bands)"
   ]
  },
  {
   "cell_type": "markdown",
   "metadata": {},
   "source": [
    "# Many Body"
   ]
  },
  {
   "cell_type": "code",
   "execution_count": 202,
   "metadata": {},
   "outputs": [],
   "source": [
    "delete!(param_dict, \"sub_range\");"
   ]
  },
  {
   "cell_type": "code",
   "execution_count": 203,
   "metadata": {},
   "outputs": [
    {
     "data": {
      "text/plain": [
       "ManyBody(onebodybasis=NLevel(N=25), states:325)"
      ]
     },
     "execution_count": 203,
     "metadata": {},
     "output_type": "execute_result"
    }
   ],
   "source": [
    "PN = 2\n",
    "param_dict[\"PN\"] = PN\n",
    "basis_mb = get_basis_mb(param_dict)"
   ]
  },
  {
   "cell_type": "code",
   "execution_count": 204,
   "metadata": {},
   "outputs": [
    {
     "data": {
      "text/plain": [
       "ManyBody(onebodybasis=NLevel(N=25), states:325)"
      ]
     },
     "execution_count": 204,
     "metadata": {},
     "output_type": "execute_result"
    }
   ],
   "source": [
    "param_dict[\"basis_mb\"]"
   ]
  },
  {
   "cell_type": "code",
   "execution_count": 205,
   "metadata": {},
   "outputs": [
    {
     "data": {
      "text/plain": [
       "325"
      ]
     },
     "execution_count": 205,
     "metadata": {},
     "output_type": "execute_result"
    }
   ],
   "source": [
    "param_dict[\"dimH_mb\"] = length(basis_mb)"
   ]
  },
  {
   "cell_type": "markdown",
   "metadata": {},
   "source": [
    "## Non-Interacting Many Body"
   ]
  },
  {
   "cell_type": "code",
   "execution_count": 206,
   "metadata": {},
   "outputs": [
    {
     "data": {
      "text/plain": [
       "325"
      ]
     },
     "execution_count": 206,
     "metadata": {},
     "output_type": "execute_result"
    }
   ],
   "source": [
    "basis_mb.shape[1]"
   ]
  },
  {
   "cell_type": "code",
   "execution_count": 207,
   "metadata": {},
   "outputs": [],
   "source": [
    "H1_mb = get_mb_op(basis_mb, H1);"
   ]
  },
  {
   "cell_type": "code",
   "execution_count": 208,
   "metadata": {},
   "outputs": [],
   "source": [
    "EEA, UUA = calc_all_states_H_mb(param_dict);"
   ]
  },
  {
   "cell_type": "code",
   "execution_count": 209,
   "metadata": {},
   "outputs": [
    {
     "data": {
      "image/svg+xml": [
       "<?xml version=\"1.0\" encoding=\"utf-8\"?>\n",
       "<svg xmlns=\"http://www.w3.org/2000/svg\" xmlns:xlink=\"http://www.w3.org/1999/xlink\" width=\"600\" height=\"400\" viewBox=\"0 0 2400 1600\">\n",
       "<defs>\n",
       "  <clipPath id=\"clip130\">\n",
       "    <rect x=\"0\" y=\"0\" width=\"2400\" height=\"1600\"/>\n",
       "  </clipPath>\n",
       "</defs>\n",
       "<path clip-path=\"url(#clip130)\" d=\"M0 1600 L2400 1600 L2400 0 L0 0  Z\" fill=\"#ffffff\" fill-rule=\"evenodd\" fill-opacity=\"1\"/>\n",
       "<defs>\n",
       "  <clipPath id=\"clip131\">\n",
       "    <rect x=\"480\" y=\"0\" width=\"1681\" height=\"1600\"/>\n",
       "  </clipPath>\n",
       "</defs>\n",
       "<path clip-path=\"url(#clip130)\" d=\"M193.936 1486.45 L2352.76 1486.45 L2352.76 47.2441 L193.936 47.2441  Z\" fill=\"#ffffff\" fill-rule=\"evenodd\" fill-opacity=\"1\"/>\n",
       "<defs>\n",
       "  <clipPath id=\"clip132\">\n",
       "    <rect x=\"193\" y=\"47\" width=\"2160\" height=\"1440\"/>\n",
       "  </clipPath>\n",
       "</defs>\n",
       "<polyline clip-path=\"url(#clip132)\" style=\"stroke:#000000; stroke-linecap:round; stroke-linejoin:round; stroke-width:2; stroke-opacity:0.1; fill:none\" points=\"248.749,1486.45 248.749,47.2441 \"/>\n",
       "<polyline clip-path=\"url(#clip132)\" style=\"stroke:#000000; stroke-linecap:round; stroke-linejoin:round; stroke-width:2; stroke-opacity:0.1; fill:none\" points=\"877.336,1486.45 877.336,47.2441 \"/>\n",
       "<polyline clip-path=\"url(#clip132)\" style=\"stroke:#000000; stroke-linecap:round; stroke-linejoin:round; stroke-width:2; stroke-opacity:0.1; fill:none\" points=\"1505.92,1486.45 1505.92,47.2441 \"/>\n",
       "<polyline clip-path=\"url(#clip132)\" style=\"stroke:#000000; stroke-linecap:round; stroke-linejoin:round; stroke-width:2; stroke-opacity:0.1; fill:none\" points=\"2134.51,1486.45 2134.51,47.2441 \"/>\n",
       "<polyline clip-path=\"url(#clip130)\" style=\"stroke:#000000; stroke-linecap:round; stroke-linejoin:round; stroke-width:4; stroke-opacity:1; fill:none\" points=\"193.936,1486.45 2352.76,1486.45 \"/>\n",
       "<polyline clip-path=\"url(#clip130)\" style=\"stroke:#000000; stroke-linecap:round; stroke-linejoin:round; stroke-width:4; stroke-opacity:1; fill:none\" points=\"248.749,1486.45 248.749,1467.55 \"/>\n",
       "<polyline clip-path=\"url(#clip130)\" style=\"stroke:#000000; stroke-linecap:round; stroke-linejoin:round; stroke-width:4; stroke-opacity:1; fill:none\" points=\"877.336,1486.45 877.336,1467.55 \"/>\n",
       "<polyline clip-path=\"url(#clip130)\" style=\"stroke:#000000; stroke-linecap:round; stroke-linejoin:round; stroke-width:4; stroke-opacity:1; fill:none\" points=\"1505.92,1486.45 1505.92,1467.55 \"/>\n",
       "<polyline clip-path=\"url(#clip130)\" style=\"stroke:#000000; stroke-linecap:round; stroke-linejoin:round; stroke-width:4; stroke-opacity:1; fill:none\" points=\"2134.51,1486.45 2134.51,1467.55 \"/>\n",
       "<path clip-path=\"url(#clip130)\" d=\"M248.749 1517.37 Q245.138 1517.37 243.309 1520.93 Q241.503 1524.47 241.503 1531.6 Q241.503 1538.71 243.309 1542.27 Q245.138 1545.82 248.749 1545.82 Q252.383 1545.82 254.189 1542.27 Q256.017 1538.71 256.017 1531.6 Q256.017 1524.47 254.189 1520.93 Q252.383 1517.37 248.749 1517.37 M248.749 1513.66 Q254.559 1513.66 257.614 1518.27 Q260.693 1522.85 260.693 1531.6 Q260.693 1540.33 257.614 1544.94 Q254.559 1549.52 248.749 1549.52 Q242.939 1549.52 239.86 1544.94 Q236.804 1540.33 236.804 1531.6 Q236.804 1522.85 239.86 1518.27 Q242.939 1513.66 248.749 1513.66 Z\" fill=\"#000000\" fill-rule=\"nonzero\" fill-opacity=\"1\" /><path clip-path=\"url(#clip130)\" d=\"M836.943 1544.91 L844.582 1544.91 L844.582 1518.55 L836.271 1520.21 L836.271 1515.95 L844.535 1514.29 L849.211 1514.29 L849.211 1544.91 L856.85 1544.91 L856.85 1548.85 L836.943 1548.85 L836.943 1544.91 Z\" fill=\"#000000\" fill-rule=\"nonzero\" fill-opacity=\"1\" /><path clip-path=\"url(#clip130)\" d=\"M876.294 1517.37 Q872.683 1517.37 870.855 1520.93 Q869.049 1524.47 869.049 1531.6 Q869.049 1538.71 870.855 1542.27 Q872.683 1545.82 876.294 1545.82 Q879.929 1545.82 881.734 1542.27 Q883.563 1538.71 883.563 1531.6 Q883.563 1524.47 881.734 1520.93 Q879.929 1517.37 876.294 1517.37 M876.294 1513.66 Q882.105 1513.66 885.16 1518.27 Q888.239 1522.85 888.239 1531.6 Q888.239 1540.33 885.16 1544.94 Q882.105 1549.52 876.294 1549.52 Q870.484 1549.52 867.406 1544.94 Q864.35 1540.33 864.35 1531.6 Q864.35 1522.85 867.406 1518.27 Q870.484 1513.66 876.294 1513.66 Z\" fill=\"#000000\" fill-rule=\"nonzero\" fill-opacity=\"1\" /><path clip-path=\"url(#clip130)\" d=\"M906.456 1517.37 Q902.845 1517.37 901.016 1520.93 Q899.211 1524.47 899.211 1531.6 Q899.211 1538.71 901.016 1542.27 Q902.845 1545.82 906.456 1545.82 Q910.09 1545.82 911.896 1542.27 Q913.725 1538.71 913.725 1531.6 Q913.725 1524.47 911.896 1520.93 Q910.09 1517.37 906.456 1517.37 M906.456 1513.66 Q912.266 1513.66 915.322 1518.27 Q918.401 1522.85 918.401 1531.6 Q918.401 1540.33 915.322 1544.94 Q912.266 1549.52 906.456 1549.52 Q900.646 1549.52 897.567 1544.94 Q894.512 1540.33 894.512 1531.6 Q894.512 1522.85 897.567 1518.27 Q900.646 1513.66 906.456 1513.66 Z\" fill=\"#000000\" fill-rule=\"nonzero\" fill-opacity=\"1\" /><path clip-path=\"url(#clip130)\" d=\"M1469.62 1544.91 L1485.93 1544.91 L1485.93 1548.85 L1463.99 1548.85 L1463.99 1544.91 Q1466.65 1542.16 1471.24 1537.53 Q1475.84 1532.88 1477.02 1531.53 Q1479.27 1529.01 1480.15 1527.27 Q1481.05 1525.51 1481.05 1523.82 Q1481.05 1521.07 1479.11 1519.33 Q1477.18 1517.6 1474.08 1517.6 Q1471.88 1517.6 1469.43 1518.36 Q1467 1519.13 1464.22 1520.68 L1464.22 1515.95 Q1467.05 1514.82 1469.5 1514.24 Q1471.95 1513.66 1473.99 1513.66 Q1479.36 1513.66 1482.56 1516.35 Q1485.75 1519.03 1485.75 1523.52 Q1485.75 1525.65 1484.94 1527.57 Q1484.15 1529.47 1482.05 1532.07 Q1481.47 1532.74 1478.37 1535.95 Q1475.26 1539.15 1469.62 1544.91 Z\" fill=\"#000000\" fill-rule=\"nonzero\" fill-opacity=\"1\" /><path clip-path=\"url(#clip130)\" d=\"M1505.75 1517.37 Q1502.14 1517.37 1500.31 1520.93 Q1498.5 1524.47 1498.5 1531.6 Q1498.5 1538.71 1500.31 1542.27 Q1502.14 1545.82 1505.75 1545.82 Q1509.38 1545.82 1511.19 1542.27 Q1513.02 1538.71 1513.02 1531.6 Q1513.02 1524.47 1511.19 1520.93 Q1509.38 1517.37 1505.75 1517.37 M1505.75 1513.66 Q1511.56 1513.66 1514.62 1518.27 Q1517.69 1522.85 1517.69 1531.6 Q1517.69 1540.33 1514.62 1544.94 Q1511.56 1549.52 1505.75 1549.52 Q1499.94 1549.52 1496.86 1544.94 Q1493.81 1540.33 1493.81 1531.6 Q1493.81 1522.85 1496.86 1518.27 Q1499.94 1513.66 1505.75 1513.66 Z\" fill=\"#000000\" fill-rule=\"nonzero\" fill-opacity=\"1\" /><path clip-path=\"url(#clip130)\" d=\"M1535.91 1517.37 Q1532.3 1517.37 1530.47 1520.93 Q1528.67 1524.47 1528.67 1531.6 Q1528.67 1538.71 1530.47 1542.27 Q1532.3 1545.82 1535.91 1545.82 Q1539.55 1545.82 1541.35 1542.27 Q1543.18 1538.71 1543.18 1531.6 Q1543.18 1524.47 1541.35 1520.93 Q1539.55 1517.37 1535.91 1517.37 M1535.91 1513.66 Q1541.72 1513.66 1544.78 1518.27 Q1547.86 1522.85 1547.86 1531.6 Q1547.86 1540.33 1544.78 1544.94 Q1541.72 1549.52 1535.91 1549.52 Q1530.1 1549.52 1527.02 1544.94 Q1523.97 1540.33 1523.97 1531.6 Q1523.97 1522.85 1527.02 1518.27 Q1530.1 1513.66 1535.91 1513.66 Z\" fill=\"#000000\" fill-rule=\"nonzero\" fill-opacity=\"1\" /><path clip-path=\"url(#clip130)\" d=\"M2108.27 1530.21 Q2111.63 1530.93 2113.5 1533.2 Q2115.4 1535.47 2115.4 1538.8 Q2115.4 1543.92 2111.88 1546.72 Q2108.36 1549.52 2101.88 1549.52 Q2099.71 1549.52 2097.39 1549.08 Q2095.1 1548.66 2092.65 1547.81 L2092.65 1543.29 Q2094.59 1544.43 2096.91 1545.01 Q2099.22 1545.58 2101.74 1545.58 Q2106.14 1545.58 2108.43 1543.85 Q2110.75 1542.11 2110.75 1538.8 Q2110.75 1535.75 2108.6 1534.03 Q2106.47 1532.3 2102.65 1532.3 L2098.62 1532.3 L2098.62 1528.45 L2102.83 1528.45 Q2106.28 1528.45 2108.11 1527.09 Q2109.94 1525.7 2109.94 1523.11 Q2109.94 1520.45 2108.04 1519.03 Q2106.17 1517.6 2102.65 1517.6 Q2100.73 1517.6 2098.53 1518.01 Q2096.33 1518.43 2093.69 1519.31 L2093.69 1515.14 Q2096.35 1514.4 2098.67 1514.03 Q2101 1513.66 2103.06 1513.66 Q2108.39 1513.66 2111.49 1516.09 Q2114.59 1518.5 2114.59 1522.62 Q2114.59 1525.49 2112.95 1527.48 Q2111.3 1529.45 2108.27 1530.21 Z\" fill=\"#000000\" fill-rule=\"nonzero\" fill-opacity=\"1\" /><path clip-path=\"url(#clip130)\" d=\"M2134.27 1517.37 Q2130.66 1517.37 2128.83 1520.93 Q2127.02 1524.47 2127.02 1531.6 Q2127.02 1538.71 2128.83 1542.27 Q2130.66 1545.82 2134.27 1545.82 Q2137.9 1545.82 2139.71 1542.27 Q2141.54 1538.71 2141.54 1531.6 Q2141.54 1524.47 2139.71 1520.93 Q2137.9 1517.37 2134.27 1517.37 M2134.27 1513.66 Q2140.08 1513.66 2143.13 1518.27 Q2146.21 1522.85 2146.21 1531.6 Q2146.21 1540.33 2143.13 1544.94 Q2140.08 1549.52 2134.27 1549.52 Q2128.46 1549.52 2125.38 1544.94 Q2122.32 1540.33 2122.32 1531.6 Q2122.32 1522.85 2125.38 1518.27 Q2128.46 1513.66 2134.27 1513.66 Z\" fill=\"#000000\" fill-rule=\"nonzero\" fill-opacity=\"1\" /><path clip-path=\"url(#clip130)\" d=\"M2164.43 1517.37 Q2160.82 1517.37 2158.99 1520.93 Q2157.18 1524.47 2157.18 1531.6 Q2157.18 1538.71 2158.99 1542.27 Q2160.82 1545.82 2164.43 1545.82 Q2168.06 1545.82 2169.87 1542.27 Q2171.7 1538.71 2171.7 1531.6 Q2171.7 1524.47 2169.87 1520.93 Q2168.06 1517.37 2164.43 1517.37 M2164.43 1513.66 Q2170.24 1513.66 2173.29 1518.27 Q2176.37 1522.85 2176.37 1531.6 Q2176.37 1540.33 2173.29 1544.94 Q2170.24 1549.52 2164.43 1549.52 Q2158.62 1549.52 2155.54 1544.94 Q2152.48 1540.33 2152.48 1531.6 Q2152.48 1522.85 2155.54 1518.27 Q2158.62 1513.66 2164.43 1513.66 Z\" fill=\"#000000\" fill-rule=\"nonzero\" fill-opacity=\"1\" /><polyline clip-path=\"url(#clip132)\" style=\"stroke:#000000; stroke-linecap:round; stroke-linejoin:round; stroke-width:2; stroke-opacity:0.1; fill:none\" points=\"193.936,1337.8 2352.76,1337.8 \"/>\n",
       "<polyline clip-path=\"url(#clip132)\" style=\"stroke:#000000; stroke-linecap:round; stroke-linejoin:round; stroke-width:2; stroke-opacity:0.1; fill:none\" points=\"193.936,1048.6 2352.76,1048.6 \"/>\n",
       "<polyline clip-path=\"url(#clip132)\" style=\"stroke:#000000; stroke-linecap:round; stroke-linejoin:round; stroke-width:2; stroke-opacity:0.1; fill:none\" points=\"193.936,759.404 2352.76,759.404 \"/>\n",
       "<polyline clip-path=\"url(#clip132)\" style=\"stroke:#000000; stroke-linecap:round; stroke-linejoin:round; stroke-width:2; stroke-opacity:0.1; fill:none\" points=\"193.936,470.206 2352.76,470.206 \"/>\n",
       "<polyline clip-path=\"url(#clip132)\" style=\"stroke:#000000; stroke-linecap:round; stroke-linejoin:round; stroke-width:2; stroke-opacity:0.1; fill:none\" points=\"193.936,181.008 2352.76,181.008 \"/>\n",
       "<polyline clip-path=\"url(#clip130)\" style=\"stroke:#000000; stroke-linecap:round; stroke-linejoin:round; stroke-width:4; stroke-opacity:1; fill:none\" points=\"193.936,1486.45 193.936,47.2441 \"/>\n",
       "<polyline clip-path=\"url(#clip130)\" style=\"stroke:#000000; stroke-linecap:round; stroke-linejoin:round; stroke-width:4; stroke-opacity:1; fill:none\" points=\"193.936,1337.8 212.834,1337.8 \"/>\n",
       "<polyline clip-path=\"url(#clip130)\" style=\"stroke:#000000; stroke-linecap:round; stroke-linejoin:round; stroke-width:4; stroke-opacity:1; fill:none\" points=\"193.936,1048.6 212.834,1048.6 \"/>\n",
       "<polyline clip-path=\"url(#clip130)\" style=\"stroke:#000000; stroke-linecap:round; stroke-linejoin:round; stroke-width:4; stroke-opacity:1; fill:none\" points=\"193.936,759.404 212.834,759.404 \"/>\n",
       "<polyline clip-path=\"url(#clip130)\" style=\"stroke:#000000; stroke-linecap:round; stroke-linejoin:round; stroke-width:4; stroke-opacity:1; fill:none\" points=\"193.936,470.206 212.834,470.206 \"/>\n",
       "<polyline clip-path=\"url(#clip130)\" style=\"stroke:#000000; stroke-linecap:round; stroke-linejoin:round; stroke-width:4; stroke-opacity:1; fill:none\" points=\"193.936,181.008 212.834,181.008 \"/>\n",
       "<path clip-path=\"url(#clip130)\" d=\"M50.9921 1338.25 L80.6679 1338.25 L80.6679 1342.19 L50.9921 1342.19 L50.9921 1338.25 Z\" fill=\"#000000\" fill-rule=\"nonzero\" fill-opacity=\"1\" /><path clip-path=\"url(#clip130)\" d=\"M90.8067 1320.52 L109.163 1320.52 L109.163 1324.45 L95.0891 1324.45 L95.0891 1332.93 Q96.1076 1332.58 97.1261 1332.42 Q98.1447 1332.23 99.1632 1332.23 Q104.95 1332.23 108.33 1335.4 Q111.709 1338.57 111.709 1343.99 Q111.709 1349.57 108.237 1352.67 Q104.765 1355.75 98.4456 1355.75 Q96.2697 1355.75 94.0012 1355.38 Q91.7558 1355.01 89.3484 1354.27 L89.3484 1349.57 Q91.4317 1350.7 93.6539 1351.26 Q95.8761 1351.82 98.353 1351.82 Q102.358 1351.82 104.696 1349.71 Q107.033 1347.6 107.033 1343.99 Q107.033 1340.38 104.696 1338.27 Q102.358 1336.17 98.353 1336.17 Q96.478 1336.17 94.603 1336.58 Q92.7512 1337 90.8067 1337.88 L90.8067 1320.52 Z\" fill=\"#000000\" fill-rule=\"nonzero\" fill-opacity=\"1\" /><path clip-path=\"url(#clip130)\" d=\"M120.922 1349.2 L125.807 1349.2 L125.807 1355.08 L120.922 1355.08 L120.922 1349.2 Z\" fill=\"#000000\" fill-rule=\"nonzero\" fill-opacity=\"1\" /><path clip-path=\"url(#clip130)\" d=\"M145.992 1323.6 Q142.381 1323.6 140.552 1327.16 Q138.746 1330.7 138.746 1337.83 Q138.746 1344.94 140.552 1348.51 Q142.381 1352.05 145.992 1352.05 Q149.626 1352.05 151.431 1348.51 Q153.26 1344.94 153.26 1337.83 Q153.26 1330.7 151.431 1327.16 Q149.626 1323.6 145.992 1323.6 M145.992 1319.89 Q151.802 1319.89 154.857 1324.5 Q157.936 1329.08 157.936 1337.83 Q157.936 1346.56 154.857 1351.17 Q151.802 1355.75 145.992 1355.75 Q140.181 1355.75 137.103 1351.17 Q134.047 1346.56 134.047 1337.83 Q134.047 1329.08 137.103 1324.5 Q140.181 1319.89 145.992 1319.89 Z\" fill=\"#000000\" fill-rule=\"nonzero\" fill-opacity=\"1\" /><path clip-path=\"url(#clip130)\" d=\"M51.9875 1049.05 L81.6633 1049.05 L81.6633 1052.99 L51.9875 1052.99 L51.9875 1049.05 Z\" fill=\"#000000\" fill-rule=\"nonzero\" fill-opacity=\"1\" /><path clip-path=\"url(#clip130)\" d=\"M95.7836 1061.95 L112.103 1061.95 L112.103 1065.88 L90.1586 1065.88 L90.1586 1061.95 Q92.8206 1059.19 97.4039 1054.56 Q102.01 1049.91 103.191 1048.57 Q105.436 1046.04 106.316 1044.31 Q107.219 1042.55 107.219 1040.86 Q107.219 1038.1 105.274 1036.37 Q103.353 1034.63 100.251 1034.63 Q98.0521 1034.63 95.5984 1035.4 Q93.1678 1036.16 90.3901 1037.71 L90.3901 1032.99 Q93.2141 1031.85 95.6678 1031.28 Q98.1215 1030.7 100.159 1030.7 Q105.529 1030.7 108.723 1033.38 Q111.918 1036.07 111.918 1040.56 Q111.918 1042.69 111.108 1044.61 Q110.321 1046.51 108.214 1049.1 Q107.635 1049.77 104.534 1052.99 Q101.432 1056.18 95.7836 1061.95 Z\" fill=\"#000000\" fill-rule=\"nonzero\" fill-opacity=\"1\" /><path clip-path=\"url(#clip130)\" d=\"M121.918 1060 L126.802 1060 L126.802 1065.88 L121.918 1065.88 L121.918 1060 Z\" fill=\"#000000\" fill-rule=\"nonzero\" fill-opacity=\"1\" /><path clip-path=\"url(#clip130)\" d=\"M137.033 1031.32 L155.39 1031.32 L155.39 1035.26 L141.316 1035.26 L141.316 1043.73 Q142.334 1043.38 143.353 1043.22 Q144.371 1043.03 145.39 1043.03 Q151.177 1043.03 154.556 1046.21 Q157.936 1049.38 157.936 1054.79 Q157.936 1060.37 154.464 1063.47 Q150.992 1066.55 144.672 1066.55 Q142.496 1066.55 140.228 1066.18 Q137.982 1065.81 135.575 1065.07 L135.575 1060.37 Q137.658 1061.51 139.881 1062.06 Q142.103 1062.62 144.58 1062.62 Q148.584 1062.62 150.922 1060.51 Q153.26 1058.4 153.26 1054.79 Q153.26 1051.18 150.922 1049.08 Q148.584 1046.97 144.58 1046.97 Q142.705 1046.97 140.83 1047.39 Q138.978 1047.8 137.033 1048.68 L137.033 1031.32 Z\" fill=\"#000000\" fill-rule=\"nonzero\" fill-opacity=\"1\" /><path clip-path=\"url(#clip130)\" d=\"M100.76 745.202 Q97.1493 745.202 95.3206 748.767 Q93.515 752.309 93.515 759.438 Q93.515 766.545 95.3206 770.11 Q97.1493 773.651 100.76 773.651 Q104.395 773.651 106.2 770.11 Q108.029 766.545 108.029 759.438 Q108.029 752.309 106.2 748.767 Q104.395 745.202 100.76 745.202 M100.76 741.499 Q106.571 741.499 109.626 746.105 Q112.705 750.689 112.705 759.438 Q112.705 768.165 109.626 772.772 Q106.571 777.355 100.76 777.355 Q94.9502 777.355 91.8715 772.772 Q88.816 768.165 88.816 759.438 Q88.816 750.689 91.8715 746.105 Q94.9502 741.499 100.76 741.499 Z\" fill=\"#000000\" fill-rule=\"nonzero\" fill-opacity=\"1\" /><path clip-path=\"url(#clip130)\" d=\"M120.922 770.804 L125.807 770.804 L125.807 776.684 L120.922 776.684 L120.922 770.804 Z\" fill=\"#000000\" fill-rule=\"nonzero\" fill-opacity=\"1\" /><path clip-path=\"url(#clip130)\" d=\"M145.992 745.202 Q142.381 745.202 140.552 748.767 Q138.746 752.309 138.746 759.438 Q138.746 766.545 140.552 770.11 Q142.381 773.651 145.992 773.651 Q149.626 773.651 151.431 770.11 Q153.26 766.545 153.26 759.438 Q153.26 752.309 151.431 748.767 Q149.626 745.202 145.992 745.202 M145.992 741.499 Q151.802 741.499 154.857 746.105 Q157.936 750.689 157.936 759.438 Q157.936 768.165 154.857 772.772 Q151.802 777.355 145.992 777.355 Q140.181 777.355 137.103 772.772 Q134.047 768.165 134.047 759.438 Q134.047 750.689 137.103 746.105 Q140.181 741.499 145.992 741.499 Z\" fill=\"#000000\" fill-rule=\"nonzero\" fill-opacity=\"1\" /><path clip-path=\"url(#clip130)\" d=\"M95.7836 483.551 L112.103 483.551 L112.103 487.486 L90.1586 487.486 L90.1586 483.551 Q92.8206 480.796 97.4039 476.167 Q102.01 471.514 103.191 470.171 Q105.436 467.648 106.316 465.912 Q107.219 464.153 107.219 462.463 Q107.219 459.708 105.274 457.972 Q103.353 456.236 100.251 456.236 Q98.0521 456.236 95.5984 457 Q93.1678 457.764 90.3901 459.315 L90.3901 454.593 Q93.2141 453.458 95.6678 452.88 Q98.1215 452.301 100.159 452.301 Q105.529 452.301 108.723 454.986 Q111.918 457.671 111.918 462.162 Q111.918 464.292 111.108 466.213 Q110.321 468.111 108.214 470.704 Q107.635 471.375 104.534 474.593 Q101.432 477.787 95.7836 483.551 Z\" fill=\"#000000\" fill-rule=\"nonzero\" fill-opacity=\"1\" /><path clip-path=\"url(#clip130)\" d=\"M121.918 481.606 L126.802 481.606 L126.802 487.486 L121.918 487.486 L121.918 481.606 Z\" fill=\"#000000\" fill-rule=\"nonzero\" fill-opacity=\"1\" /><path clip-path=\"url(#clip130)\" d=\"M137.033 452.926 L155.39 452.926 L155.39 456.861 L141.316 456.861 L141.316 465.333 Q142.334 464.986 143.353 464.824 Q144.371 464.639 145.39 464.639 Q151.177 464.639 154.556 467.81 Q157.936 470.982 157.936 476.398 Q157.936 481.977 154.464 485.079 Q150.992 488.157 144.672 488.157 Q142.496 488.157 140.228 487.787 Q137.982 487.417 135.575 486.676 L135.575 481.977 Q137.658 483.111 139.881 483.667 Q142.103 484.222 144.58 484.222 Q148.584 484.222 150.922 482.116 Q153.26 480.009 153.26 476.398 Q153.26 472.787 150.922 470.681 Q148.584 468.574 144.58 468.574 Q142.705 468.574 140.83 468.991 Q138.978 469.407 137.033 470.287 L137.033 452.926 Z\" fill=\"#000000\" fill-rule=\"nonzero\" fill-opacity=\"1\" /><path clip-path=\"url(#clip130)\" d=\"M90.8067 163.728 L109.163 163.728 L109.163 167.664 L95.0891 167.664 L95.0891 176.136 Q96.1076 175.789 97.1261 175.626 Q98.1447 175.441 99.1632 175.441 Q104.95 175.441 108.33 178.613 Q111.709 181.784 111.709 187.201 Q111.709 192.779 108.237 195.881 Q104.765 198.96 98.4456 198.96 Q96.2697 198.96 94.0012 198.589 Q91.7558 198.219 89.3484 197.478 L89.3484 192.779 Q91.4317 193.913 93.6539 194.469 Q95.8761 195.025 98.353 195.025 Q102.358 195.025 104.696 192.918 Q107.033 190.812 107.033 187.201 Q107.033 183.589 104.696 181.483 Q102.358 179.376 98.353 179.376 Q96.478 179.376 94.603 179.793 Q92.7512 180.21 90.8067 181.089 L90.8067 163.728 Z\" fill=\"#000000\" fill-rule=\"nonzero\" fill-opacity=\"1\" /><path clip-path=\"url(#clip130)\" d=\"M120.922 192.409 L125.807 192.409 L125.807 198.288 L120.922 198.288 L120.922 192.409 Z\" fill=\"#000000\" fill-rule=\"nonzero\" fill-opacity=\"1\" /><path clip-path=\"url(#clip130)\" d=\"M145.992 166.807 Q142.381 166.807 140.552 170.372 Q138.746 173.914 138.746 181.043 Q138.746 188.15 140.552 191.714 Q142.381 195.256 145.992 195.256 Q149.626 195.256 151.431 191.714 Q153.26 188.15 153.26 181.043 Q153.26 173.914 151.431 170.372 Q149.626 166.807 145.992 166.807 M145.992 163.103 Q151.802 163.103 154.857 167.71 Q157.936 172.293 157.936 181.043 Q157.936 189.77 154.857 194.376 Q151.802 198.96 145.992 198.96 Q140.181 198.96 137.103 194.376 Q134.047 189.77 134.047 181.043 Q134.047 172.293 137.103 167.71 Q140.181 163.103 145.992 163.103 Z\" fill=\"#000000\" fill-rule=\"nonzero\" fill-opacity=\"1\" /><circle clip-path=\"url(#clip132)\" cx=\"255.035\" cy=\"1445.72\" r=\"14.4\" fill=\"#009af9\" fill-rule=\"evenodd\" fill-opacity=\"1\" stroke=\"#000000\" stroke-opacity=\"1\" stroke-width=\"3.2\"/>\n",
       "<circle clip-path=\"url(#clip132)\" cx=\"261.321\" cy=\"1445.72\" r=\"14.4\" fill=\"#009af9\" fill-rule=\"evenodd\" fill-opacity=\"1\" stroke=\"#000000\" stroke-opacity=\"1\" stroke-width=\"3.2\"/>\n",
       "<circle clip-path=\"url(#clip132)\" cx=\"267.606\" cy=\"1445.72\" r=\"14.4\" fill=\"#009af9\" fill-rule=\"evenodd\" fill-opacity=\"1\" stroke=\"#000000\" stroke-opacity=\"1\" stroke-width=\"3.2\"/>\n",
       "<circle clip-path=\"url(#clip132)\" cx=\"273.892\" cy=\"1445.72\" r=\"14.4\" fill=\"#009af9\" fill-rule=\"evenodd\" fill-opacity=\"1\" stroke=\"#000000\" stroke-opacity=\"1\" stroke-width=\"3.2\"/>\n",
       "<circle clip-path=\"url(#clip132)\" cx=\"280.178\" cy=\"1445.72\" r=\"14.4\" fill=\"#009af9\" fill-rule=\"evenodd\" fill-opacity=\"1\" stroke=\"#000000\" stroke-opacity=\"1\" stroke-width=\"3.2\"/>\n",
       "<circle clip-path=\"url(#clip132)\" cx=\"286.464\" cy=\"1445.72\" r=\"14.4\" fill=\"#009af9\" fill-rule=\"evenodd\" fill-opacity=\"1\" stroke=\"#000000\" stroke-opacity=\"1\" stroke-width=\"3.2\"/>\n",
       "<circle clip-path=\"url(#clip132)\" cx=\"292.75\" cy=\"1445.72\" r=\"14.4\" fill=\"#009af9\" fill-rule=\"evenodd\" fill-opacity=\"1\" stroke=\"#000000\" stroke-opacity=\"1\" stroke-width=\"3.2\"/>\n",
       "<circle clip-path=\"url(#clip132)\" cx=\"299.036\" cy=\"1445.72\" r=\"14.4\" fill=\"#009af9\" fill-rule=\"evenodd\" fill-opacity=\"1\" stroke=\"#000000\" stroke-opacity=\"1\" stroke-width=\"3.2\"/>\n",
       "<circle clip-path=\"url(#clip132)\" cx=\"305.322\" cy=\"1445.72\" r=\"14.4\" fill=\"#009af9\" fill-rule=\"evenodd\" fill-opacity=\"1\" stroke=\"#000000\" stroke-opacity=\"1\" stroke-width=\"3.2\"/>\n",
       "<circle clip-path=\"url(#clip132)\" cx=\"311.608\" cy=\"1445.72\" r=\"14.4\" fill=\"#009af9\" fill-rule=\"evenodd\" fill-opacity=\"1\" stroke=\"#000000\" stroke-opacity=\"1\" stroke-width=\"3.2\"/>\n",
       "<circle clip-path=\"url(#clip132)\" cx=\"317.893\" cy=\"1445.72\" r=\"14.4\" fill=\"#009af9\" fill-rule=\"evenodd\" fill-opacity=\"1\" stroke=\"#000000\" stroke-opacity=\"1\" stroke-width=\"3.2\"/>\n",
       "<circle clip-path=\"url(#clip132)\" cx=\"324.179\" cy=\"1445.72\" r=\"14.4\" fill=\"#009af9\" fill-rule=\"evenodd\" fill-opacity=\"1\" stroke=\"#000000\" stroke-opacity=\"1\" stroke-width=\"3.2\"/>\n",
       "<circle clip-path=\"url(#clip132)\" cx=\"330.465\" cy=\"1445.72\" r=\"14.4\" fill=\"#009af9\" fill-rule=\"evenodd\" fill-opacity=\"1\" stroke=\"#000000\" stroke-opacity=\"1\" stroke-width=\"3.2\"/>\n",
       "<circle clip-path=\"url(#clip132)\" cx=\"336.751\" cy=\"1445.72\" r=\"14.4\" fill=\"#009af9\" fill-rule=\"evenodd\" fill-opacity=\"1\" stroke=\"#000000\" stroke-opacity=\"1\" stroke-width=\"3.2\"/>\n",
       "<circle clip-path=\"url(#clip132)\" cx=\"343.037\" cy=\"1445.72\" r=\"14.4\" fill=\"#009af9\" fill-rule=\"evenodd\" fill-opacity=\"1\" stroke=\"#000000\" stroke-opacity=\"1\" stroke-width=\"3.2\"/>\n",
       "<circle clip-path=\"url(#clip132)\" cx=\"349.323\" cy=\"1206.92\" r=\"14.4\" fill=\"#009af9\" fill-rule=\"evenodd\" fill-opacity=\"1\" stroke=\"#000000\" stroke-opacity=\"1\" stroke-width=\"3.2\"/>\n",
       "<circle clip-path=\"url(#clip132)\" cx=\"355.609\" cy=\"1206.92\" r=\"14.4\" fill=\"#009af9\" fill-rule=\"evenodd\" fill-opacity=\"1\" stroke=\"#000000\" stroke-opacity=\"1\" stroke-width=\"3.2\"/>\n",
       "<circle clip-path=\"url(#clip132)\" cx=\"361.894\" cy=\"1206.92\" r=\"14.4\" fill=\"#009af9\" fill-rule=\"evenodd\" fill-opacity=\"1\" stroke=\"#000000\" stroke-opacity=\"1\" stroke-width=\"3.2\"/>\n",
       "<circle clip-path=\"url(#clip132)\" cx=\"368.18\" cy=\"1206.92\" r=\"14.4\" fill=\"#009af9\" fill-rule=\"evenodd\" fill-opacity=\"1\" stroke=\"#000000\" stroke-opacity=\"1\" stroke-width=\"3.2\"/>\n",
       "<circle clip-path=\"url(#clip132)\" cx=\"374.466\" cy=\"1206.92\" r=\"14.4\" fill=\"#009af9\" fill-rule=\"evenodd\" fill-opacity=\"1\" stroke=\"#000000\" stroke-opacity=\"1\" stroke-width=\"3.2\"/>\n",
       "<circle clip-path=\"url(#clip132)\" cx=\"380.752\" cy=\"1206.92\" r=\"14.4\" fill=\"#009af9\" fill-rule=\"evenodd\" fill-opacity=\"1\" stroke=\"#000000\" stroke-opacity=\"1\" stroke-width=\"3.2\"/>\n",
       "<circle clip-path=\"url(#clip132)\" cx=\"387.038\" cy=\"1206.92\" r=\"14.4\" fill=\"#009af9\" fill-rule=\"evenodd\" fill-opacity=\"1\" stroke=\"#000000\" stroke-opacity=\"1\" stroke-width=\"3.2\"/>\n",
       "<circle clip-path=\"url(#clip132)\" cx=\"393.324\" cy=\"1206.92\" r=\"14.4\" fill=\"#009af9\" fill-rule=\"evenodd\" fill-opacity=\"1\" stroke=\"#000000\" stroke-opacity=\"1\" stroke-width=\"3.2\"/>\n",
       "<circle clip-path=\"url(#clip132)\" cx=\"399.61\" cy=\"1206.92\" r=\"14.4\" fill=\"#009af9\" fill-rule=\"evenodd\" fill-opacity=\"1\" stroke=\"#000000\" stroke-opacity=\"1\" stroke-width=\"3.2\"/>\n",
       "<circle clip-path=\"url(#clip132)\" cx=\"405.896\" cy=\"1206.92\" r=\"14.4\" fill=\"#009af9\" fill-rule=\"evenodd\" fill-opacity=\"1\" stroke=\"#000000\" stroke-opacity=\"1\" stroke-width=\"3.2\"/>\n",
       "<circle clip-path=\"url(#clip132)\" cx=\"412.181\" cy=\"1206.92\" r=\"14.4\" fill=\"#009af9\" fill-rule=\"evenodd\" fill-opacity=\"1\" stroke=\"#000000\" stroke-opacity=\"1\" stroke-width=\"3.2\"/>\n",
       "<circle clip-path=\"url(#clip132)\" cx=\"418.467\" cy=\"1206.92\" r=\"14.4\" fill=\"#009af9\" fill-rule=\"evenodd\" fill-opacity=\"1\" stroke=\"#000000\" stroke-opacity=\"1\" stroke-width=\"3.2\"/>\n",
       "<circle clip-path=\"url(#clip132)\" cx=\"424.753\" cy=\"1206.92\" r=\"14.4\" fill=\"#009af9\" fill-rule=\"evenodd\" fill-opacity=\"1\" stroke=\"#000000\" stroke-opacity=\"1\" stroke-width=\"3.2\"/>\n",
       "<circle clip-path=\"url(#clip132)\" cx=\"431.039\" cy=\"1206.92\" r=\"14.4\" fill=\"#009af9\" fill-rule=\"evenodd\" fill-opacity=\"1\" stroke=\"#000000\" stroke-opacity=\"1\" stroke-width=\"3.2\"/>\n",
       "<circle clip-path=\"url(#clip132)\" cx=\"437.325\" cy=\"1206.92\" r=\"14.4\" fill=\"#009af9\" fill-rule=\"evenodd\" fill-opacity=\"1\" stroke=\"#000000\" stroke-opacity=\"1\" stroke-width=\"3.2\"/>\n",
       "<circle clip-path=\"url(#clip132)\" cx=\"443.611\" cy=\"1206.92\" r=\"14.4\" fill=\"#009af9\" fill-rule=\"evenodd\" fill-opacity=\"1\" stroke=\"#000000\" stroke-opacity=\"1\" stroke-width=\"3.2\"/>\n",
       "<circle clip-path=\"url(#clip132)\" cx=\"449.897\" cy=\"1206.92\" r=\"14.4\" fill=\"#009af9\" fill-rule=\"evenodd\" fill-opacity=\"1\" stroke=\"#000000\" stroke-opacity=\"1\" stroke-width=\"3.2\"/>\n",
       "<circle clip-path=\"url(#clip132)\" cx=\"456.183\" cy=\"1206.92\" r=\"14.4\" fill=\"#009af9\" fill-rule=\"evenodd\" fill-opacity=\"1\" stroke=\"#000000\" stroke-opacity=\"1\" stroke-width=\"3.2\"/>\n",
       "<circle clip-path=\"url(#clip132)\" cx=\"462.468\" cy=\"1206.92\" r=\"14.4\" fill=\"#009af9\" fill-rule=\"evenodd\" fill-opacity=\"1\" stroke=\"#000000\" stroke-opacity=\"1\" stroke-width=\"3.2\"/>\n",
       "<circle clip-path=\"url(#clip132)\" cx=\"468.754\" cy=\"1206.92\" r=\"14.4\" fill=\"#009af9\" fill-rule=\"evenodd\" fill-opacity=\"1\" stroke=\"#000000\" stroke-opacity=\"1\" stroke-width=\"3.2\"/>\n",
       "<circle clip-path=\"url(#clip132)\" cx=\"475.04\" cy=\"1206.92\" r=\"14.4\" fill=\"#009af9\" fill-rule=\"evenodd\" fill-opacity=\"1\" stroke=\"#000000\" stroke-opacity=\"1\" stroke-width=\"3.2\"/>\n",
       "<circle clip-path=\"url(#clip132)\" cx=\"481.326\" cy=\"1206.92\" r=\"14.4\" fill=\"#009af9\" fill-rule=\"evenodd\" fill-opacity=\"1\" stroke=\"#000000\" stroke-opacity=\"1\" stroke-width=\"3.2\"/>\n",
       "<circle clip-path=\"url(#clip132)\" cx=\"487.612\" cy=\"1206.92\" r=\"14.4\" fill=\"#009af9\" fill-rule=\"evenodd\" fill-opacity=\"1\" stroke=\"#000000\" stroke-opacity=\"1\" stroke-width=\"3.2\"/>\n",
       "<circle clip-path=\"url(#clip132)\" cx=\"493.898\" cy=\"1206.92\" r=\"14.4\" fill=\"#009af9\" fill-rule=\"evenodd\" fill-opacity=\"1\" stroke=\"#000000\" stroke-opacity=\"1\" stroke-width=\"3.2\"/>\n",
       "<circle clip-path=\"url(#clip132)\" cx=\"500.184\" cy=\"1206.92\" r=\"14.4\" fill=\"#009af9\" fill-rule=\"evenodd\" fill-opacity=\"1\" stroke=\"#000000\" stroke-opacity=\"1\" stroke-width=\"3.2\"/>\n",
       "<circle clip-path=\"url(#clip132)\" cx=\"506.47\" cy=\"1146.75\" r=\"14.4\" fill=\"#009af9\" fill-rule=\"evenodd\" fill-opacity=\"1\" stroke=\"#000000\" stroke-opacity=\"1\" stroke-width=\"3.2\"/>\n",
       "<circle clip-path=\"url(#clip132)\" cx=\"512.755\" cy=\"1146.75\" r=\"14.4\" fill=\"#009af9\" fill-rule=\"evenodd\" fill-opacity=\"1\" stroke=\"#000000\" stroke-opacity=\"1\" stroke-width=\"3.2\"/>\n",
       "<circle clip-path=\"url(#clip132)\" cx=\"519.041\" cy=\"1146.75\" r=\"14.4\" fill=\"#009af9\" fill-rule=\"evenodd\" fill-opacity=\"1\" stroke=\"#000000\" stroke-opacity=\"1\" stroke-width=\"3.2\"/>\n",
       "<circle clip-path=\"url(#clip132)\" cx=\"525.327\" cy=\"1146.75\" r=\"14.4\" fill=\"#009af9\" fill-rule=\"evenodd\" fill-opacity=\"1\" stroke=\"#000000\" stroke-opacity=\"1\" stroke-width=\"3.2\"/>\n",
       "<circle clip-path=\"url(#clip132)\" cx=\"531.613\" cy=\"1146.75\" r=\"14.4\" fill=\"#009af9\" fill-rule=\"evenodd\" fill-opacity=\"1\" stroke=\"#000000\" stroke-opacity=\"1\" stroke-width=\"3.2\"/>\n",
       "<circle clip-path=\"url(#clip132)\" cx=\"537.899\" cy=\"1146.75\" r=\"14.4\" fill=\"#009af9\" fill-rule=\"evenodd\" fill-opacity=\"1\" stroke=\"#000000\" stroke-opacity=\"1\" stroke-width=\"3.2\"/>\n",
       "<circle clip-path=\"url(#clip132)\" cx=\"544.185\" cy=\"1146.75\" r=\"14.4\" fill=\"#009af9\" fill-rule=\"evenodd\" fill-opacity=\"1\" stroke=\"#000000\" stroke-opacity=\"1\" stroke-width=\"3.2\"/>\n",
       "<circle clip-path=\"url(#clip132)\" cx=\"550.471\" cy=\"1146.75\" r=\"14.4\" fill=\"#009af9\" fill-rule=\"evenodd\" fill-opacity=\"1\" stroke=\"#000000\" stroke-opacity=\"1\" stroke-width=\"3.2\"/>\n",
       "<circle clip-path=\"url(#clip132)\" cx=\"556.757\" cy=\"1146.75\" r=\"14.4\" fill=\"#009af9\" fill-rule=\"evenodd\" fill-opacity=\"1\" stroke=\"#000000\" stroke-opacity=\"1\" stroke-width=\"3.2\"/>\n",
       "<circle clip-path=\"url(#clip132)\" cx=\"563.042\" cy=\"1146.75\" r=\"14.4\" fill=\"#009af9\" fill-rule=\"evenodd\" fill-opacity=\"1\" stroke=\"#000000\" stroke-opacity=\"1\" stroke-width=\"3.2\"/>\n",
       "<circle clip-path=\"url(#clip132)\" cx=\"569.328\" cy=\"1146.75\" r=\"14.4\" fill=\"#009af9\" fill-rule=\"evenodd\" fill-opacity=\"1\" stroke=\"#000000\" stroke-opacity=\"1\" stroke-width=\"3.2\"/>\n",
       "<circle clip-path=\"url(#clip132)\" cx=\"575.614\" cy=\"1146.75\" r=\"14.4\" fill=\"#009af9\" fill-rule=\"evenodd\" fill-opacity=\"1\" stroke=\"#000000\" stroke-opacity=\"1\" stroke-width=\"3.2\"/>\n",
       "<circle clip-path=\"url(#clip132)\" cx=\"581.9\" cy=\"1146.75\" r=\"14.4\" fill=\"#009af9\" fill-rule=\"evenodd\" fill-opacity=\"1\" stroke=\"#000000\" stroke-opacity=\"1\" stroke-width=\"3.2\"/>\n",
       "<circle clip-path=\"url(#clip132)\" cx=\"588.186\" cy=\"1146.75\" r=\"14.4\" fill=\"#009af9\" fill-rule=\"evenodd\" fill-opacity=\"1\" stroke=\"#000000\" stroke-opacity=\"1\" stroke-width=\"3.2\"/>\n",
       "<circle clip-path=\"url(#clip132)\" cx=\"594.472\" cy=\"1146.75\" r=\"14.4\" fill=\"#009af9\" fill-rule=\"evenodd\" fill-opacity=\"1\" stroke=\"#000000\" stroke-opacity=\"1\" stroke-width=\"3.2\"/>\n",
       "<circle clip-path=\"url(#clip132)\" cx=\"600.758\" cy=\"1146.75\" r=\"14.4\" fill=\"#009af9\" fill-rule=\"evenodd\" fill-opacity=\"1\" stroke=\"#000000\" stroke-opacity=\"1\" stroke-width=\"3.2\"/>\n",
       "<circle clip-path=\"url(#clip132)\" cx=\"607.044\" cy=\"1146.75\" r=\"14.4\" fill=\"#009af9\" fill-rule=\"evenodd\" fill-opacity=\"1\" stroke=\"#000000\" stroke-opacity=\"1\" stroke-width=\"3.2\"/>\n",
       "<circle clip-path=\"url(#clip132)\" cx=\"613.329\" cy=\"1146.75\" r=\"14.4\" fill=\"#009af9\" fill-rule=\"evenodd\" fill-opacity=\"1\" stroke=\"#000000\" stroke-opacity=\"1\" stroke-width=\"3.2\"/>\n",
       "<circle clip-path=\"url(#clip132)\" cx=\"619.615\" cy=\"1146.75\" r=\"14.4\" fill=\"#009af9\" fill-rule=\"evenodd\" fill-opacity=\"1\" stroke=\"#000000\" stroke-opacity=\"1\" stroke-width=\"3.2\"/>\n",
       "<circle clip-path=\"url(#clip132)\" cx=\"625.901\" cy=\"1146.75\" r=\"14.4\" fill=\"#009af9\" fill-rule=\"evenodd\" fill-opacity=\"1\" stroke=\"#000000\" stroke-opacity=\"1\" stroke-width=\"3.2\"/>\n",
       "<circle clip-path=\"url(#clip132)\" cx=\"632.187\" cy=\"1146.75\" r=\"14.4\" fill=\"#009af9\" fill-rule=\"evenodd\" fill-opacity=\"1\" stroke=\"#000000\" stroke-opacity=\"1\" stroke-width=\"3.2\"/>\n",
       "<circle clip-path=\"url(#clip132)\" cx=\"638.473\" cy=\"1146.75\" r=\"14.4\" fill=\"#009af9\" fill-rule=\"evenodd\" fill-opacity=\"1\" stroke=\"#000000\" stroke-opacity=\"1\" stroke-width=\"3.2\"/>\n",
       "<circle clip-path=\"url(#clip132)\" cx=\"644.759\" cy=\"1146.75\" r=\"14.4\" fill=\"#009af9\" fill-rule=\"evenodd\" fill-opacity=\"1\" stroke=\"#000000\" stroke-opacity=\"1\" stroke-width=\"3.2\"/>\n",
       "<circle clip-path=\"url(#clip132)\" cx=\"651.045\" cy=\"1146.75\" r=\"14.4\" fill=\"#009af9\" fill-rule=\"evenodd\" fill-opacity=\"1\" stroke=\"#000000\" stroke-opacity=\"1\" stroke-width=\"3.2\"/>\n",
       "<circle clip-path=\"url(#clip132)\" cx=\"657.33\" cy=\"1146.75\" r=\"14.4\" fill=\"#009af9\" fill-rule=\"evenodd\" fill-opacity=\"1\" stroke=\"#000000\" stroke-opacity=\"1\" stroke-width=\"3.2\"/>\n",
       "<circle clip-path=\"url(#clip132)\" cx=\"663.616\" cy=\"968.115\" r=\"14.4\" fill=\"#009af9\" fill-rule=\"evenodd\" fill-opacity=\"1\" stroke=\"#000000\" stroke-opacity=\"1\" stroke-width=\"3.2\"/>\n",
       "<circle clip-path=\"url(#clip132)\" cx=\"669.902\" cy=\"968.115\" r=\"14.4\" fill=\"#009af9\" fill-rule=\"evenodd\" fill-opacity=\"1\" stroke=\"#000000\" stroke-opacity=\"1\" stroke-width=\"3.2\"/>\n",
       "<circle clip-path=\"url(#clip132)\" cx=\"676.188\" cy=\"968.115\" r=\"14.4\" fill=\"#009af9\" fill-rule=\"evenodd\" fill-opacity=\"1\" stroke=\"#000000\" stroke-opacity=\"1\" stroke-width=\"3.2\"/>\n",
       "<circle clip-path=\"url(#clip132)\" cx=\"682.474\" cy=\"968.115\" r=\"14.4\" fill=\"#009af9\" fill-rule=\"evenodd\" fill-opacity=\"1\" stroke=\"#000000\" stroke-opacity=\"1\" stroke-width=\"3.2\"/>\n",
       "<circle clip-path=\"url(#clip132)\" cx=\"688.76\" cy=\"968.115\" r=\"14.4\" fill=\"#009af9\" fill-rule=\"evenodd\" fill-opacity=\"1\" stroke=\"#000000\" stroke-opacity=\"1\" stroke-width=\"3.2\"/>\n",
       "<circle clip-path=\"url(#clip132)\" cx=\"695.046\" cy=\"968.115\" r=\"14.4\" fill=\"#009af9\" fill-rule=\"evenodd\" fill-opacity=\"1\" stroke=\"#000000\" stroke-opacity=\"1\" stroke-width=\"3.2\"/>\n",
       "<circle clip-path=\"url(#clip132)\" cx=\"701.332\" cy=\"968.115\" r=\"14.4\" fill=\"#009af9\" fill-rule=\"evenodd\" fill-opacity=\"1\" stroke=\"#000000\" stroke-opacity=\"1\" stroke-width=\"3.2\"/>\n",
       "<circle clip-path=\"url(#clip132)\" cx=\"707.617\" cy=\"968.115\" r=\"14.4\" fill=\"#009af9\" fill-rule=\"evenodd\" fill-opacity=\"1\" stroke=\"#000000\" stroke-opacity=\"1\" stroke-width=\"3.2\"/>\n",
       "<circle clip-path=\"url(#clip132)\" cx=\"713.903\" cy=\"968.115\" r=\"14.4\" fill=\"#009af9\" fill-rule=\"evenodd\" fill-opacity=\"1\" stroke=\"#000000\" stroke-opacity=\"1\" stroke-width=\"3.2\"/>\n",
       "<circle clip-path=\"url(#clip132)\" cx=\"720.189\" cy=\"968.115\" r=\"14.4\" fill=\"#009af9\" fill-rule=\"evenodd\" fill-opacity=\"1\" stroke=\"#000000\" stroke-opacity=\"1\" stroke-width=\"3.2\"/>\n",
       "<circle clip-path=\"url(#clip132)\" cx=\"726.475\" cy=\"968.115\" r=\"14.4\" fill=\"#009af9\" fill-rule=\"evenodd\" fill-opacity=\"1\" stroke=\"#000000\" stroke-opacity=\"1\" stroke-width=\"3.2\"/>\n",
       "<circle clip-path=\"url(#clip132)\" cx=\"732.761\" cy=\"968.115\" r=\"14.4\" fill=\"#009af9\" fill-rule=\"evenodd\" fill-opacity=\"1\" stroke=\"#000000\" stroke-opacity=\"1\" stroke-width=\"3.2\"/>\n",
       "<circle clip-path=\"url(#clip132)\" cx=\"739.047\" cy=\"968.115\" r=\"14.4\" fill=\"#009af9\" fill-rule=\"evenodd\" fill-opacity=\"1\" stroke=\"#000000\" stroke-opacity=\"1\" stroke-width=\"3.2\"/>\n",
       "<circle clip-path=\"url(#clip132)\" cx=\"745.333\" cy=\"968.115\" r=\"14.4\" fill=\"#009af9\" fill-rule=\"evenodd\" fill-opacity=\"1\" stroke=\"#000000\" stroke-opacity=\"1\" stroke-width=\"3.2\"/>\n",
       "<circle clip-path=\"url(#clip132)\" cx=\"751.619\" cy=\"968.115\" r=\"14.4\" fill=\"#009af9\" fill-rule=\"evenodd\" fill-opacity=\"1\" stroke=\"#000000\" stroke-opacity=\"1\" stroke-width=\"3.2\"/>\n",
       "<circle clip-path=\"url(#clip132)\" cx=\"757.904\" cy=\"946.576\" r=\"14.4\" fill=\"#009af9\" fill-rule=\"evenodd\" fill-opacity=\"1\" stroke=\"#000000\" stroke-opacity=\"1\" stroke-width=\"3.2\"/>\n",
       "<circle clip-path=\"url(#clip132)\" cx=\"764.19\" cy=\"946.576\" r=\"14.4\" fill=\"#009af9\" fill-rule=\"evenodd\" fill-opacity=\"1\" stroke=\"#000000\" stroke-opacity=\"1\" stroke-width=\"3.2\"/>\n",
       "<circle clip-path=\"url(#clip132)\" cx=\"770.476\" cy=\"946.576\" r=\"14.4\" fill=\"#009af9\" fill-rule=\"evenodd\" fill-opacity=\"1\" stroke=\"#000000\" stroke-opacity=\"1\" stroke-width=\"3.2\"/>\n",
       "<circle clip-path=\"url(#clip132)\" cx=\"776.762\" cy=\"946.576\" r=\"14.4\" fill=\"#009af9\" fill-rule=\"evenodd\" fill-opacity=\"1\" stroke=\"#000000\" stroke-opacity=\"1\" stroke-width=\"3.2\"/>\n",
       "<circle clip-path=\"url(#clip132)\" cx=\"783.048\" cy=\"946.576\" r=\"14.4\" fill=\"#009af9\" fill-rule=\"evenodd\" fill-opacity=\"1\" stroke=\"#000000\" stroke-opacity=\"1\" stroke-width=\"3.2\"/>\n",
       "<circle clip-path=\"url(#clip132)\" cx=\"789.334\" cy=\"946.576\" r=\"14.4\" fill=\"#009af9\" fill-rule=\"evenodd\" fill-opacity=\"1\" stroke=\"#000000\" stroke-opacity=\"1\" stroke-width=\"3.2\"/>\n",
       "<circle clip-path=\"url(#clip132)\" cx=\"795.62\" cy=\"946.576\" r=\"14.4\" fill=\"#009af9\" fill-rule=\"evenodd\" fill-opacity=\"1\" stroke=\"#000000\" stroke-opacity=\"1\" stroke-width=\"3.2\"/>\n",
       "<circle clip-path=\"url(#clip132)\" cx=\"801.906\" cy=\"946.576\" r=\"14.4\" fill=\"#009af9\" fill-rule=\"evenodd\" fill-opacity=\"1\" stroke=\"#000000\" stroke-opacity=\"1\" stroke-width=\"3.2\"/>\n",
       "<circle clip-path=\"url(#clip132)\" cx=\"808.191\" cy=\"946.576\" r=\"14.4\" fill=\"#009af9\" fill-rule=\"evenodd\" fill-opacity=\"1\" stroke=\"#000000\" stroke-opacity=\"1\" stroke-width=\"3.2\"/>\n",
       "<circle clip-path=\"url(#clip132)\" cx=\"814.477\" cy=\"946.576\" r=\"14.4\" fill=\"#009af9\" fill-rule=\"evenodd\" fill-opacity=\"1\" stroke=\"#000000\" stroke-opacity=\"1\" stroke-width=\"3.2\"/>\n",
       "<circle clip-path=\"url(#clip132)\" cx=\"820.763\" cy=\"946.576\" r=\"14.4\" fill=\"#009af9\" fill-rule=\"evenodd\" fill-opacity=\"1\" stroke=\"#000000\" stroke-opacity=\"1\" stroke-width=\"3.2\"/>\n",
       "<circle clip-path=\"url(#clip132)\" cx=\"827.049\" cy=\"946.576\" r=\"14.4\" fill=\"#009af9\" fill-rule=\"evenodd\" fill-opacity=\"1\" stroke=\"#000000\" stroke-opacity=\"1\" stroke-width=\"3.2\"/>\n",
       "<circle clip-path=\"url(#clip132)\" cx=\"833.335\" cy=\"946.576\" r=\"14.4\" fill=\"#009af9\" fill-rule=\"evenodd\" fill-opacity=\"1\" stroke=\"#000000\" stroke-opacity=\"1\" stroke-width=\"3.2\"/>\n",
       "<circle clip-path=\"url(#clip132)\" cx=\"839.621\" cy=\"946.576\" r=\"14.4\" fill=\"#009af9\" fill-rule=\"evenodd\" fill-opacity=\"1\" stroke=\"#000000\" stroke-opacity=\"1\" stroke-width=\"3.2\"/>\n",
       "<circle clip-path=\"url(#clip132)\" cx=\"845.907\" cy=\"946.576\" r=\"14.4\" fill=\"#009af9\" fill-rule=\"evenodd\" fill-opacity=\"1\" stroke=\"#000000\" stroke-opacity=\"1\" stroke-width=\"3.2\"/>\n",
       "<circle clip-path=\"url(#clip132)\" cx=\"852.193\" cy=\"946.576\" r=\"14.4\" fill=\"#009af9\" fill-rule=\"evenodd\" fill-opacity=\"1\" stroke=\"#000000\" stroke-opacity=\"1\" stroke-width=\"3.2\"/>\n",
       "<circle clip-path=\"url(#clip132)\" cx=\"858.478\" cy=\"946.576\" r=\"14.4\" fill=\"#009af9\" fill-rule=\"evenodd\" fill-opacity=\"1\" stroke=\"#000000\" stroke-opacity=\"1\" stroke-width=\"3.2\"/>\n",
       "<circle clip-path=\"url(#clip132)\" cx=\"864.764\" cy=\"946.576\" r=\"14.4\" fill=\"#009af9\" fill-rule=\"evenodd\" fill-opacity=\"1\" stroke=\"#000000\" stroke-opacity=\"1\" stroke-width=\"3.2\"/>\n",
       "<circle clip-path=\"url(#clip132)\" cx=\"871.05\" cy=\"946.576\" r=\"14.4\" fill=\"#009af9\" fill-rule=\"evenodd\" fill-opacity=\"1\" stroke=\"#000000\" stroke-opacity=\"1\" stroke-width=\"3.2\"/>\n",
       "<circle clip-path=\"url(#clip132)\" cx=\"877.336\" cy=\"946.576\" r=\"14.4\" fill=\"#009af9\" fill-rule=\"evenodd\" fill-opacity=\"1\" stroke=\"#000000\" stroke-opacity=\"1\" stroke-width=\"3.2\"/>\n",
       "<circle clip-path=\"url(#clip132)\" cx=\"883.622\" cy=\"946.576\" r=\"14.4\" fill=\"#009af9\" fill-rule=\"evenodd\" fill-opacity=\"1\" stroke=\"#000000\" stroke-opacity=\"1\" stroke-width=\"3.2\"/>\n",
       "<circle clip-path=\"url(#clip132)\" cx=\"889.908\" cy=\"946.576\" r=\"14.4\" fill=\"#009af9\" fill-rule=\"evenodd\" fill-opacity=\"1\" stroke=\"#000000\" stroke-opacity=\"1\" stroke-width=\"3.2\"/>\n",
       "<circle clip-path=\"url(#clip132)\" cx=\"896.194\" cy=\"946.576\" r=\"14.4\" fill=\"#009af9\" fill-rule=\"evenodd\" fill-opacity=\"1\" stroke=\"#000000\" stroke-opacity=\"1\" stroke-width=\"3.2\"/>\n",
       "<circle clip-path=\"url(#clip132)\" cx=\"902.479\" cy=\"946.576\" r=\"14.4\" fill=\"#009af9\" fill-rule=\"evenodd\" fill-opacity=\"1\" stroke=\"#000000\" stroke-opacity=\"1\" stroke-width=\"3.2\"/>\n",
       "<circle clip-path=\"url(#clip132)\" cx=\"908.765\" cy=\"946.576\" r=\"14.4\" fill=\"#009af9\" fill-rule=\"evenodd\" fill-opacity=\"1\" stroke=\"#000000\" stroke-opacity=\"1\" stroke-width=\"3.2\"/>\n",
       "<circle clip-path=\"url(#clip132)\" cx=\"915.051\" cy=\"907.945\" r=\"14.4\" fill=\"#009af9\" fill-rule=\"evenodd\" fill-opacity=\"1\" stroke=\"#000000\" stroke-opacity=\"1\" stroke-width=\"3.2\"/>\n",
       "<circle clip-path=\"url(#clip132)\" cx=\"921.337\" cy=\"907.945\" r=\"14.4\" fill=\"#009af9\" fill-rule=\"evenodd\" fill-opacity=\"1\" stroke=\"#000000\" stroke-opacity=\"1\" stroke-width=\"3.2\"/>\n",
       "<circle clip-path=\"url(#clip132)\" cx=\"927.623\" cy=\"907.945\" r=\"14.4\" fill=\"#009af9\" fill-rule=\"evenodd\" fill-opacity=\"1\" stroke=\"#000000\" stroke-opacity=\"1\" stroke-width=\"3.2\"/>\n",
       "<circle clip-path=\"url(#clip132)\" cx=\"933.909\" cy=\"907.945\" r=\"14.4\" fill=\"#009af9\" fill-rule=\"evenodd\" fill-opacity=\"1\" stroke=\"#000000\" stroke-opacity=\"1\" stroke-width=\"3.2\"/>\n",
       "<circle clip-path=\"url(#clip132)\" cx=\"940.195\" cy=\"907.945\" r=\"14.4\" fill=\"#009af9\" fill-rule=\"evenodd\" fill-opacity=\"1\" stroke=\"#000000\" stroke-opacity=\"1\" stroke-width=\"3.2\"/>\n",
       "<circle clip-path=\"url(#clip132)\" cx=\"946.481\" cy=\"907.945\" r=\"14.4\" fill=\"#009af9\" fill-rule=\"evenodd\" fill-opacity=\"1\" stroke=\"#000000\" stroke-opacity=\"1\" stroke-width=\"3.2\"/>\n",
       "<circle clip-path=\"url(#clip132)\" cx=\"952.766\" cy=\"907.945\" r=\"14.4\" fill=\"#009af9\" fill-rule=\"evenodd\" fill-opacity=\"1\" stroke=\"#000000\" stroke-opacity=\"1\" stroke-width=\"3.2\"/>\n",
       "<circle clip-path=\"url(#clip132)\" cx=\"959.052\" cy=\"907.945\" r=\"14.4\" fill=\"#009af9\" fill-rule=\"evenodd\" fill-opacity=\"1\" stroke=\"#000000\" stroke-opacity=\"1\" stroke-width=\"3.2\"/>\n",
       "<circle clip-path=\"url(#clip132)\" cx=\"965.338\" cy=\"907.945\" r=\"14.4\" fill=\"#009af9\" fill-rule=\"evenodd\" fill-opacity=\"1\" stroke=\"#000000\" stroke-opacity=\"1\" stroke-width=\"3.2\"/>\n",
       "<circle clip-path=\"url(#clip132)\" cx=\"971.624\" cy=\"907.945\" r=\"14.4\" fill=\"#009af9\" fill-rule=\"evenodd\" fill-opacity=\"1\" stroke=\"#000000\" stroke-opacity=\"1\" stroke-width=\"3.2\"/>\n",
       "<circle clip-path=\"url(#clip132)\" cx=\"977.91\" cy=\"907.945\" r=\"14.4\" fill=\"#009af9\" fill-rule=\"evenodd\" fill-opacity=\"1\" stroke=\"#000000\" stroke-opacity=\"1\" stroke-width=\"3.2\"/>\n",
       "<circle clip-path=\"url(#clip132)\" cx=\"984.196\" cy=\"907.945\" r=\"14.4\" fill=\"#009af9\" fill-rule=\"evenodd\" fill-opacity=\"1\" stroke=\"#000000\" stroke-opacity=\"1\" stroke-width=\"3.2\"/>\n",
       "<circle clip-path=\"url(#clip132)\" cx=\"990.482\" cy=\"907.945\" r=\"14.4\" fill=\"#009af9\" fill-rule=\"evenodd\" fill-opacity=\"1\" stroke=\"#000000\" stroke-opacity=\"1\" stroke-width=\"3.2\"/>\n",
       "<circle clip-path=\"url(#clip132)\" cx=\"996.768\" cy=\"907.945\" r=\"14.4\" fill=\"#009af9\" fill-rule=\"evenodd\" fill-opacity=\"1\" stroke=\"#000000\" stroke-opacity=\"1\" stroke-width=\"3.2\"/>\n",
       "<circle clip-path=\"url(#clip132)\" cx=\"1003.05\" cy=\"907.945\" r=\"14.4\" fill=\"#009af9\" fill-rule=\"evenodd\" fill-opacity=\"1\" stroke=\"#000000\" stroke-opacity=\"1\" stroke-width=\"3.2\"/>\n",
       "<circle clip-path=\"url(#clip132)\" cx=\"1009.34\" cy=\"907.945\" r=\"14.4\" fill=\"#009af9\" fill-rule=\"evenodd\" fill-opacity=\"1\" stroke=\"#000000\" stroke-opacity=\"1\" stroke-width=\"3.2\"/>\n",
       "<circle clip-path=\"url(#clip132)\" cx=\"1015.63\" cy=\"907.945\" r=\"14.4\" fill=\"#009af9\" fill-rule=\"evenodd\" fill-opacity=\"1\" stroke=\"#000000\" stroke-opacity=\"1\" stroke-width=\"3.2\"/>\n",
       "<circle clip-path=\"url(#clip132)\" cx=\"1021.91\" cy=\"907.945\" r=\"14.4\" fill=\"#009af9\" fill-rule=\"evenodd\" fill-opacity=\"1\" stroke=\"#000000\" stroke-opacity=\"1\" stroke-width=\"3.2\"/>\n",
       "<circle clip-path=\"url(#clip132)\" cx=\"1028.2\" cy=\"907.945\" r=\"14.4\" fill=\"#009af9\" fill-rule=\"evenodd\" fill-opacity=\"1\" stroke=\"#000000\" stroke-opacity=\"1\" stroke-width=\"3.2\"/>\n",
       "<circle clip-path=\"url(#clip132)\" cx=\"1034.48\" cy=\"907.945\" r=\"14.4\" fill=\"#009af9\" fill-rule=\"evenodd\" fill-opacity=\"1\" stroke=\"#000000\" stroke-opacity=\"1\" stroke-width=\"3.2\"/>\n",
       "<circle clip-path=\"url(#clip132)\" cx=\"1040.77\" cy=\"907.945\" r=\"14.4\" fill=\"#009af9\" fill-rule=\"evenodd\" fill-opacity=\"1\" stroke=\"#000000\" stroke-opacity=\"1\" stroke-width=\"3.2\"/>\n",
       "<circle clip-path=\"url(#clip132)\" cx=\"1047.05\" cy=\"907.945\" r=\"14.4\" fill=\"#009af9\" fill-rule=\"evenodd\" fill-opacity=\"1\" stroke=\"#000000\" stroke-opacity=\"1\" stroke-width=\"3.2\"/>\n",
       "<circle clip-path=\"url(#clip132)\" cx=\"1053.34\" cy=\"907.945\" r=\"14.4\" fill=\"#009af9\" fill-rule=\"evenodd\" fill-opacity=\"1\" stroke=\"#000000\" stroke-opacity=\"1\" stroke-width=\"3.2\"/>\n",
       "<circle clip-path=\"url(#clip132)\" cx=\"1059.63\" cy=\"907.945\" r=\"14.4\" fill=\"#009af9\" fill-rule=\"evenodd\" fill-opacity=\"1\" stroke=\"#000000\" stroke-opacity=\"1\" stroke-width=\"3.2\"/>\n",
       "<circle clip-path=\"url(#clip132)\" cx=\"1065.91\" cy=\"907.945\" r=\"14.4\" fill=\"#009af9\" fill-rule=\"evenodd\" fill-opacity=\"1\" stroke=\"#000000\" stroke-opacity=\"1\" stroke-width=\"3.2\"/>\n",
       "<circle clip-path=\"url(#clip132)\" cx=\"1072.2\" cy=\"847.775\" r=\"14.4\" fill=\"#009af9\" fill-rule=\"evenodd\" fill-opacity=\"1\" stroke=\"#000000\" stroke-opacity=\"1\" stroke-width=\"3.2\"/>\n",
       "<circle clip-path=\"url(#clip132)\" cx=\"1078.48\" cy=\"847.775\" r=\"14.4\" fill=\"#009af9\" fill-rule=\"evenodd\" fill-opacity=\"1\" stroke=\"#000000\" stroke-opacity=\"1\" stroke-width=\"3.2\"/>\n",
       "<circle clip-path=\"url(#clip132)\" cx=\"1084.77\" cy=\"847.775\" r=\"14.4\" fill=\"#009af9\" fill-rule=\"evenodd\" fill-opacity=\"1\" stroke=\"#000000\" stroke-opacity=\"1\" stroke-width=\"3.2\"/>\n",
       "<circle clip-path=\"url(#clip132)\" cx=\"1091.06\" cy=\"847.775\" r=\"14.4\" fill=\"#009af9\" fill-rule=\"evenodd\" fill-opacity=\"1\" stroke=\"#000000\" stroke-opacity=\"1\" stroke-width=\"3.2\"/>\n",
       "<circle clip-path=\"url(#clip132)\" cx=\"1097.34\" cy=\"847.775\" r=\"14.4\" fill=\"#009af9\" fill-rule=\"evenodd\" fill-opacity=\"1\" stroke=\"#000000\" stroke-opacity=\"1\" stroke-width=\"3.2\"/>\n",
       "<circle clip-path=\"url(#clip132)\" cx=\"1103.63\" cy=\"847.775\" r=\"14.4\" fill=\"#009af9\" fill-rule=\"evenodd\" fill-opacity=\"1\" stroke=\"#000000\" stroke-opacity=\"1\" stroke-width=\"3.2\"/>\n",
       "<circle clip-path=\"url(#clip132)\" cx=\"1109.91\" cy=\"847.775\" r=\"14.4\" fill=\"#009af9\" fill-rule=\"evenodd\" fill-opacity=\"1\" stroke=\"#000000\" stroke-opacity=\"1\" stroke-width=\"3.2\"/>\n",
       "<circle clip-path=\"url(#clip132)\" cx=\"1116.2\" cy=\"847.775\" r=\"14.4\" fill=\"#009af9\" fill-rule=\"evenodd\" fill-opacity=\"1\" stroke=\"#000000\" stroke-opacity=\"1\" stroke-width=\"3.2\"/>\n",
       "<circle clip-path=\"url(#clip132)\" cx=\"1122.49\" cy=\"847.775\" r=\"14.4\" fill=\"#009af9\" fill-rule=\"evenodd\" fill-opacity=\"1\" stroke=\"#000000\" stroke-opacity=\"1\" stroke-width=\"3.2\"/>\n",
       "<circle clip-path=\"url(#clip132)\" cx=\"1128.77\" cy=\"847.775\" r=\"14.4\" fill=\"#009af9\" fill-rule=\"evenodd\" fill-opacity=\"1\" stroke=\"#000000\" stroke-opacity=\"1\" stroke-width=\"3.2\"/>\n",
       "<circle clip-path=\"url(#clip132)\" cx=\"1135.06\" cy=\"847.775\" r=\"14.4\" fill=\"#009af9\" fill-rule=\"evenodd\" fill-opacity=\"1\" stroke=\"#000000\" stroke-opacity=\"1\" stroke-width=\"3.2\"/>\n",
       "<circle clip-path=\"url(#clip132)\" cx=\"1141.34\" cy=\"847.775\" r=\"14.4\" fill=\"#009af9\" fill-rule=\"evenodd\" fill-opacity=\"1\" stroke=\"#000000\" stroke-opacity=\"1\" stroke-width=\"3.2\"/>\n",
       "<circle clip-path=\"url(#clip132)\" cx=\"1147.63\" cy=\"847.775\" r=\"14.4\" fill=\"#009af9\" fill-rule=\"evenodd\" fill-opacity=\"1\" stroke=\"#000000\" stroke-opacity=\"1\" stroke-width=\"3.2\"/>\n",
       "<circle clip-path=\"url(#clip132)\" cx=\"1153.91\" cy=\"847.775\" r=\"14.4\" fill=\"#009af9\" fill-rule=\"evenodd\" fill-opacity=\"1\" stroke=\"#000000\" stroke-opacity=\"1\" stroke-width=\"3.2\"/>\n",
       "<circle clip-path=\"url(#clip132)\" cx=\"1160.2\" cy=\"847.775\" r=\"14.4\" fill=\"#009af9\" fill-rule=\"evenodd\" fill-opacity=\"1\" stroke=\"#000000\" stroke-opacity=\"1\" stroke-width=\"3.2\"/>\n",
       "<circle clip-path=\"url(#clip132)\" cx=\"1166.49\" cy=\"766.846\" r=\"14.4\" fill=\"#009af9\" fill-rule=\"evenodd\" fill-opacity=\"1\" stroke=\"#000000\" stroke-opacity=\"1\" stroke-width=\"3.2\"/>\n",
       "<circle clip-path=\"url(#clip132)\" cx=\"1172.77\" cy=\"766.846\" r=\"14.4\" fill=\"#009af9\" fill-rule=\"evenodd\" fill-opacity=\"1\" stroke=\"#000000\" stroke-opacity=\"1\" stroke-width=\"3.2\"/>\n",
       "<circle clip-path=\"url(#clip132)\" cx=\"1179.06\" cy=\"766.846\" r=\"14.4\" fill=\"#009af9\" fill-rule=\"evenodd\" fill-opacity=\"1\" stroke=\"#000000\" stroke-opacity=\"1\" stroke-width=\"3.2\"/>\n",
       "<circle clip-path=\"url(#clip132)\" cx=\"1185.34\" cy=\"766.846\" r=\"14.4\" fill=\"#009af9\" fill-rule=\"evenodd\" fill-opacity=\"1\" stroke=\"#000000\" stroke-opacity=\"1\" stroke-width=\"3.2\"/>\n",
       "<circle clip-path=\"url(#clip132)\" cx=\"1191.63\" cy=\"766.846\" r=\"14.4\" fill=\"#009af9\" fill-rule=\"evenodd\" fill-opacity=\"1\" stroke=\"#000000\" stroke-opacity=\"1\" stroke-width=\"3.2\"/>\n",
       "<circle clip-path=\"url(#clip132)\" cx=\"1197.92\" cy=\"766.846\" r=\"14.4\" fill=\"#009af9\" fill-rule=\"evenodd\" fill-opacity=\"1\" stroke=\"#000000\" stroke-opacity=\"1\" stroke-width=\"3.2\"/>\n",
       "<circle clip-path=\"url(#clip132)\" cx=\"1204.2\" cy=\"766.846\" r=\"14.4\" fill=\"#009af9\" fill-rule=\"evenodd\" fill-opacity=\"1\" stroke=\"#000000\" stroke-opacity=\"1\" stroke-width=\"3.2\"/>\n",
       "<circle clip-path=\"url(#clip132)\" cx=\"1210.49\" cy=\"766.846\" r=\"14.4\" fill=\"#009af9\" fill-rule=\"evenodd\" fill-opacity=\"1\" stroke=\"#000000\" stroke-opacity=\"1\" stroke-width=\"3.2\"/>\n",
       "<circle clip-path=\"url(#clip132)\" cx=\"1216.77\" cy=\"766.846\" r=\"14.4\" fill=\"#009af9\" fill-rule=\"evenodd\" fill-opacity=\"1\" stroke=\"#000000\" stroke-opacity=\"1\" stroke-width=\"3.2\"/>\n",
       "<circle clip-path=\"url(#clip132)\" cx=\"1223.06\" cy=\"766.846\" r=\"14.4\" fill=\"#009af9\" fill-rule=\"evenodd\" fill-opacity=\"1\" stroke=\"#000000\" stroke-opacity=\"1\" stroke-width=\"3.2\"/>\n",
       "<circle clip-path=\"url(#clip132)\" cx=\"1229.34\" cy=\"766.846\" r=\"14.4\" fill=\"#009af9\" fill-rule=\"evenodd\" fill-opacity=\"1\" stroke=\"#000000\" stroke-opacity=\"1\" stroke-width=\"3.2\"/>\n",
       "<circle clip-path=\"url(#clip132)\" cx=\"1235.63\" cy=\"766.846\" r=\"14.4\" fill=\"#009af9\" fill-rule=\"evenodd\" fill-opacity=\"1\" stroke=\"#000000\" stroke-opacity=\"1\" stroke-width=\"3.2\"/>\n",
       "<circle clip-path=\"url(#clip132)\" cx=\"1241.92\" cy=\"766.846\" r=\"14.4\" fill=\"#009af9\" fill-rule=\"evenodd\" fill-opacity=\"1\" stroke=\"#000000\" stroke-opacity=\"1\" stroke-width=\"3.2\"/>\n",
       "<circle clip-path=\"url(#clip132)\" cx=\"1248.2\" cy=\"766.846\" r=\"14.4\" fill=\"#009af9\" fill-rule=\"evenodd\" fill-opacity=\"1\" stroke=\"#000000\" stroke-opacity=\"1\" stroke-width=\"3.2\"/>\n",
       "<circle clip-path=\"url(#clip132)\" cx=\"1254.49\" cy=\"766.846\" r=\"14.4\" fill=\"#009af9\" fill-rule=\"evenodd\" fill-opacity=\"1\" stroke=\"#000000\" stroke-opacity=\"1\" stroke-width=\"3.2\"/>\n",
       "<circle clip-path=\"url(#clip132)\" cx=\"1260.77\" cy=\"766.846\" r=\"14.4\" fill=\"#009af9\" fill-rule=\"evenodd\" fill-opacity=\"1\" stroke=\"#000000\" stroke-opacity=\"1\" stroke-width=\"3.2\"/>\n",
       "<circle clip-path=\"url(#clip132)\" cx=\"1267.06\" cy=\"766.846\" r=\"14.4\" fill=\"#009af9\" fill-rule=\"evenodd\" fill-opacity=\"1\" stroke=\"#000000\" stroke-opacity=\"1\" stroke-width=\"3.2\"/>\n",
       "<circle clip-path=\"url(#clip132)\" cx=\"1273.35\" cy=\"766.846\" r=\"14.4\" fill=\"#009af9\" fill-rule=\"evenodd\" fill-opacity=\"1\" stroke=\"#000000\" stroke-opacity=\"1\" stroke-width=\"3.2\"/>\n",
       "<circle clip-path=\"url(#clip132)\" cx=\"1279.63\" cy=\"766.846\" r=\"14.4\" fill=\"#009af9\" fill-rule=\"evenodd\" fill-opacity=\"1\" stroke=\"#000000\" stroke-opacity=\"1\" stroke-width=\"3.2\"/>\n",
       "<circle clip-path=\"url(#clip132)\" cx=\"1285.92\" cy=\"766.846\" r=\"14.4\" fill=\"#009af9\" fill-rule=\"evenodd\" fill-opacity=\"1\" stroke=\"#000000\" stroke-opacity=\"1\" stroke-width=\"3.2\"/>\n",
       "<circle clip-path=\"url(#clip132)\" cx=\"1292.2\" cy=\"766.846\" r=\"14.4\" fill=\"#009af9\" fill-rule=\"evenodd\" fill-opacity=\"1\" stroke=\"#000000\" stroke-opacity=\"1\" stroke-width=\"3.2\"/>\n",
       "<circle clip-path=\"url(#clip132)\" cx=\"1298.49\" cy=\"766.846\" r=\"14.4\" fill=\"#009af9\" fill-rule=\"evenodd\" fill-opacity=\"1\" stroke=\"#000000\" stroke-opacity=\"1\" stroke-width=\"3.2\"/>\n",
       "<circle clip-path=\"url(#clip132)\" cx=\"1304.78\" cy=\"766.846\" r=\"14.4\" fill=\"#009af9\" fill-rule=\"evenodd\" fill-opacity=\"1\" stroke=\"#000000\" stroke-opacity=\"1\" stroke-width=\"3.2\"/>\n",
       "<circle clip-path=\"url(#clip132)\" cx=\"1311.06\" cy=\"766.846\" r=\"14.4\" fill=\"#009af9\" fill-rule=\"evenodd\" fill-opacity=\"1\" stroke=\"#000000\" stroke-opacity=\"1\" stroke-width=\"3.2\"/>\n",
       "<circle clip-path=\"url(#clip132)\" cx=\"1317.35\" cy=\"766.846\" r=\"14.4\" fill=\"#009af9\" fill-rule=\"evenodd\" fill-opacity=\"1\" stroke=\"#000000\" stroke-opacity=\"1\" stroke-width=\"3.2\"/>\n",
       "<circle clip-path=\"url(#clip132)\" cx=\"1323.63\" cy=\"707.776\" r=\"14.4\" fill=\"#009af9\" fill-rule=\"evenodd\" fill-opacity=\"1\" stroke=\"#000000\" stroke-opacity=\"1\" stroke-width=\"3.2\"/>\n",
       "<circle clip-path=\"url(#clip132)\" cx=\"1329.92\" cy=\"707.776\" r=\"14.4\" fill=\"#009af9\" fill-rule=\"evenodd\" fill-opacity=\"1\" stroke=\"#000000\" stroke-opacity=\"1\" stroke-width=\"3.2\"/>\n",
       "<circle clip-path=\"url(#clip132)\" cx=\"1336.2\" cy=\"707.776\" r=\"14.4\" fill=\"#009af9\" fill-rule=\"evenodd\" fill-opacity=\"1\" stroke=\"#000000\" stroke-opacity=\"1\" stroke-width=\"3.2\"/>\n",
       "<circle clip-path=\"url(#clip132)\" cx=\"1342.49\" cy=\"707.776\" r=\"14.4\" fill=\"#009af9\" fill-rule=\"evenodd\" fill-opacity=\"1\" stroke=\"#000000\" stroke-opacity=\"1\" stroke-width=\"3.2\"/>\n",
       "<circle clip-path=\"url(#clip132)\" cx=\"1348.78\" cy=\"707.776\" r=\"14.4\" fill=\"#009af9\" fill-rule=\"evenodd\" fill-opacity=\"1\" stroke=\"#000000\" stroke-opacity=\"1\" stroke-width=\"3.2\"/>\n",
       "<circle clip-path=\"url(#clip132)\" cx=\"1355.06\" cy=\"707.776\" r=\"14.4\" fill=\"#009af9\" fill-rule=\"evenodd\" fill-opacity=\"1\" stroke=\"#000000\" stroke-opacity=\"1\" stroke-width=\"3.2\"/>\n",
       "<circle clip-path=\"url(#clip132)\" cx=\"1361.35\" cy=\"707.776\" r=\"14.4\" fill=\"#009af9\" fill-rule=\"evenodd\" fill-opacity=\"1\" stroke=\"#000000\" stroke-opacity=\"1\" stroke-width=\"3.2\"/>\n",
       "<circle clip-path=\"url(#clip132)\" cx=\"1367.63\" cy=\"707.776\" r=\"14.4\" fill=\"#009af9\" fill-rule=\"evenodd\" fill-opacity=\"1\" stroke=\"#000000\" stroke-opacity=\"1\" stroke-width=\"3.2\"/>\n",
       "<circle clip-path=\"url(#clip132)\" cx=\"1373.92\" cy=\"707.776\" r=\"14.4\" fill=\"#009af9\" fill-rule=\"evenodd\" fill-opacity=\"1\" stroke=\"#000000\" stroke-opacity=\"1\" stroke-width=\"3.2\"/>\n",
       "<circle clip-path=\"url(#clip132)\" cx=\"1380.21\" cy=\"707.776\" r=\"14.4\" fill=\"#009af9\" fill-rule=\"evenodd\" fill-opacity=\"1\" stroke=\"#000000\" stroke-opacity=\"1\" stroke-width=\"3.2\"/>\n",
       "<circle clip-path=\"url(#clip132)\" cx=\"1386.49\" cy=\"707.776\" r=\"14.4\" fill=\"#009af9\" fill-rule=\"evenodd\" fill-opacity=\"1\" stroke=\"#000000\" stroke-opacity=\"1\" stroke-width=\"3.2\"/>\n",
       "<circle clip-path=\"url(#clip132)\" cx=\"1392.78\" cy=\"707.776\" r=\"14.4\" fill=\"#009af9\" fill-rule=\"evenodd\" fill-opacity=\"1\" stroke=\"#000000\" stroke-opacity=\"1\" stroke-width=\"3.2\"/>\n",
       "<circle clip-path=\"url(#clip132)\" cx=\"1399.06\" cy=\"707.776\" r=\"14.4\" fill=\"#009af9\" fill-rule=\"evenodd\" fill-opacity=\"1\" stroke=\"#000000\" stroke-opacity=\"1\" stroke-width=\"3.2\"/>\n",
       "<circle clip-path=\"url(#clip132)\" cx=\"1405.35\" cy=\"707.776\" r=\"14.4\" fill=\"#009af9\" fill-rule=\"evenodd\" fill-opacity=\"1\" stroke=\"#000000\" stroke-opacity=\"1\" stroke-width=\"3.2\"/>\n",
       "<circle clip-path=\"url(#clip132)\" cx=\"1411.64\" cy=\"707.776\" r=\"14.4\" fill=\"#009af9\" fill-rule=\"evenodd\" fill-opacity=\"1\" stroke=\"#000000\" stroke-opacity=\"1\" stroke-width=\"3.2\"/>\n",
       "<circle clip-path=\"url(#clip132)\" cx=\"1417.92\" cy=\"707.776\" r=\"14.4\" fill=\"#009af9\" fill-rule=\"evenodd\" fill-opacity=\"1\" stroke=\"#000000\" stroke-opacity=\"1\" stroke-width=\"3.2\"/>\n",
       "<circle clip-path=\"url(#clip132)\" cx=\"1424.21\" cy=\"707.776\" r=\"14.4\" fill=\"#009af9\" fill-rule=\"evenodd\" fill-opacity=\"1\" stroke=\"#000000\" stroke-opacity=\"1\" stroke-width=\"3.2\"/>\n",
       "<circle clip-path=\"url(#clip132)\" cx=\"1430.49\" cy=\"707.776\" r=\"14.4\" fill=\"#009af9\" fill-rule=\"evenodd\" fill-opacity=\"1\" stroke=\"#000000\" stroke-opacity=\"1\" stroke-width=\"3.2\"/>\n",
       "<circle clip-path=\"url(#clip132)\" cx=\"1436.78\" cy=\"707.776\" r=\"14.4\" fill=\"#009af9\" fill-rule=\"evenodd\" fill-opacity=\"1\" stroke=\"#000000\" stroke-opacity=\"1\" stroke-width=\"3.2\"/>\n",
       "<circle clip-path=\"url(#clip132)\" cx=\"1443.06\" cy=\"707.776\" r=\"14.4\" fill=\"#009af9\" fill-rule=\"evenodd\" fill-opacity=\"1\" stroke=\"#000000\" stroke-opacity=\"1\" stroke-width=\"3.2\"/>\n",
       "<circle clip-path=\"url(#clip132)\" cx=\"1449.35\" cy=\"707.776\" r=\"14.4\" fill=\"#009af9\" fill-rule=\"evenodd\" fill-opacity=\"1\" stroke=\"#000000\" stroke-opacity=\"1\" stroke-width=\"3.2\"/>\n",
       "<circle clip-path=\"url(#clip132)\" cx=\"1455.64\" cy=\"707.776\" r=\"14.4\" fill=\"#009af9\" fill-rule=\"evenodd\" fill-opacity=\"1\" stroke=\"#000000\" stroke-opacity=\"1\" stroke-width=\"3.2\"/>\n",
       "<circle clip-path=\"url(#clip132)\" cx=\"1461.92\" cy=\"707.776\" r=\"14.4\" fill=\"#009af9\" fill-rule=\"evenodd\" fill-opacity=\"1\" stroke=\"#000000\" stroke-opacity=\"1\" stroke-width=\"3.2\"/>\n",
       "<circle clip-path=\"url(#clip132)\" cx=\"1468.21\" cy=\"707.776\" r=\"14.4\" fill=\"#009af9\" fill-rule=\"evenodd\" fill-opacity=\"1\" stroke=\"#000000\" stroke-opacity=\"1\" stroke-width=\"3.2\"/>\n",
       "<circle clip-path=\"url(#clip132)\" cx=\"1474.49\" cy=\"707.776\" r=\"14.4\" fill=\"#009af9\" fill-rule=\"evenodd\" fill-opacity=\"1\" stroke=\"#000000\" stroke-opacity=\"1\" stroke-width=\"3.2\"/>\n",
       "<circle clip-path=\"url(#clip132)\" cx=\"1480.78\" cy=\"647.606\" r=\"14.4\" fill=\"#009af9\" fill-rule=\"evenodd\" fill-opacity=\"1\" stroke=\"#000000\" stroke-opacity=\"1\" stroke-width=\"3.2\"/>\n",
       "<circle clip-path=\"url(#clip132)\" cx=\"1487.07\" cy=\"647.606\" r=\"14.4\" fill=\"#009af9\" fill-rule=\"evenodd\" fill-opacity=\"1\" stroke=\"#000000\" stroke-opacity=\"1\" stroke-width=\"3.2\"/>\n",
       "<circle clip-path=\"url(#clip132)\" cx=\"1493.35\" cy=\"647.606\" r=\"14.4\" fill=\"#009af9\" fill-rule=\"evenodd\" fill-opacity=\"1\" stroke=\"#000000\" stroke-opacity=\"1\" stroke-width=\"3.2\"/>\n",
       "<circle clip-path=\"url(#clip132)\" cx=\"1499.64\" cy=\"647.606\" r=\"14.4\" fill=\"#009af9\" fill-rule=\"evenodd\" fill-opacity=\"1\" stroke=\"#000000\" stroke-opacity=\"1\" stroke-width=\"3.2\"/>\n",
       "<circle clip-path=\"url(#clip132)\" cx=\"1505.92\" cy=\"647.606\" r=\"14.4\" fill=\"#009af9\" fill-rule=\"evenodd\" fill-opacity=\"1\" stroke=\"#000000\" stroke-opacity=\"1\" stroke-width=\"3.2\"/>\n",
       "<circle clip-path=\"url(#clip132)\" cx=\"1512.21\" cy=\"647.606\" r=\"14.4\" fill=\"#009af9\" fill-rule=\"evenodd\" fill-opacity=\"1\" stroke=\"#000000\" stroke-opacity=\"1\" stroke-width=\"3.2\"/>\n",
       "<circle clip-path=\"url(#clip132)\" cx=\"1518.49\" cy=\"647.606\" r=\"14.4\" fill=\"#009af9\" fill-rule=\"evenodd\" fill-opacity=\"1\" stroke=\"#000000\" stroke-opacity=\"1\" stroke-width=\"3.2\"/>\n",
       "<circle clip-path=\"url(#clip132)\" cx=\"1524.78\" cy=\"647.606\" r=\"14.4\" fill=\"#009af9\" fill-rule=\"evenodd\" fill-opacity=\"1\" stroke=\"#000000\" stroke-opacity=\"1\" stroke-width=\"3.2\"/>\n",
       "<circle clip-path=\"url(#clip132)\" cx=\"1531.07\" cy=\"647.606\" r=\"14.4\" fill=\"#009af9\" fill-rule=\"evenodd\" fill-opacity=\"1\" stroke=\"#000000\" stroke-opacity=\"1\" stroke-width=\"3.2\"/>\n",
       "<circle clip-path=\"url(#clip132)\" cx=\"1537.35\" cy=\"647.606\" r=\"14.4\" fill=\"#009af9\" fill-rule=\"evenodd\" fill-opacity=\"1\" stroke=\"#000000\" stroke-opacity=\"1\" stroke-width=\"3.2\"/>\n",
       "<circle clip-path=\"url(#clip132)\" cx=\"1543.64\" cy=\"647.606\" r=\"14.4\" fill=\"#009af9\" fill-rule=\"evenodd\" fill-opacity=\"1\" stroke=\"#000000\" stroke-opacity=\"1\" stroke-width=\"3.2\"/>\n",
       "<circle clip-path=\"url(#clip132)\" cx=\"1549.92\" cy=\"647.606\" r=\"14.4\" fill=\"#009af9\" fill-rule=\"evenodd\" fill-opacity=\"1\" stroke=\"#000000\" stroke-opacity=\"1\" stroke-width=\"3.2\"/>\n",
       "<circle clip-path=\"url(#clip132)\" cx=\"1556.21\" cy=\"647.606\" r=\"14.4\" fill=\"#009af9\" fill-rule=\"evenodd\" fill-opacity=\"1\" stroke=\"#000000\" stroke-opacity=\"1\" stroke-width=\"3.2\"/>\n",
       "<circle clip-path=\"url(#clip132)\" cx=\"1562.5\" cy=\"647.606\" r=\"14.4\" fill=\"#009af9\" fill-rule=\"evenodd\" fill-opacity=\"1\" stroke=\"#000000\" stroke-opacity=\"1\" stroke-width=\"3.2\"/>\n",
       "<circle clip-path=\"url(#clip132)\" cx=\"1568.78\" cy=\"647.606\" r=\"14.4\" fill=\"#009af9\" fill-rule=\"evenodd\" fill-opacity=\"1\" stroke=\"#000000\" stroke-opacity=\"1\" stroke-width=\"3.2\"/>\n",
       "<circle clip-path=\"url(#clip132)\" cx=\"1575.07\" cy=\"647.606\" r=\"14.4\" fill=\"#009af9\" fill-rule=\"evenodd\" fill-opacity=\"1\" stroke=\"#000000\" stroke-opacity=\"1\" stroke-width=\"3.2\"/>\n",
       "<circle clip-path=\"url(#clip132)\" cx=\"1581.35\" cy=\"647.606\" r=\"14.4\" fill=\"#009af9\" fill-rule=\"evenodd\" fill-opacity=\"1\" stroke=\"#000000\" stroke-opacity=\"1\" stroke-width=\"3.2\"/>\n",
       "<circle clip-path=\"url(#clip132)\" cx=\"1587.64\" cy=\"647.606\" r=\"14.4\" fill=\"#009af9\" fill-rule=\"evenodd\" fill-opacity=\"1\" stroke=\"#000000\" stroke-opacity=\"1\" stroke-width=\"3.2\"/>\n",
       "<circle clip-path=\"url(#clip132)\" cx=\"1593.93\" cy=\"647.606\" r=\"14.4\" fill=\"#009af9\" fill-rule=\"evenodd\" fill-opacity=\"1\" stroke=\"#000000\" stroke-opacity=\"1\" stroke-width=\"3.2\"/>\n",
       "<circle clip-path=\"url(#clip132)\" cx=\"1600.21\" cy=\"647.606\" r=\"14.4\" fill=\"#009af9\" fill-rule=\"evenodd\" fill-opacity=\"1\" stroke=\"#000000\" stroke-opacity=\"1\" stroke-width=\"3.2\"/>\n",
       "<circle clip-path=\"url(#clip132)\" cx=\"1606.5\" cy=\"647.606\" r=\"14.4\" fill=\"#009af9\" fill-rule=\"evenodd\" fill-opacity=\"1\" stroke=\"#000000\" stroke-opacity=\"1\" stroke-width=\"3.2\"/>\n",
       "<circle clip-path=\"url(#clip132)\" cx=\"1612.78\" cy=\"647.606\" r=\"14.4\" fill=\"#009af9\" fill-rule=\"evenodd\" fill-opacity=\"1\" stroke=\"#000000\" stroke-opacity=\"1\" stroke-width=\"3.2\"/>\n",
       "<circle clip-path=\"url(#clip132)\" cx=\"1619.07\" cy=\"647.606\" r=\"14.4\" fill=\"#009af9\" fill-rule=\"evenodd\" fill-opacity=\"1\" stroke=\"#000000\" stroke-opacity=\"1\" stroke-width=\"3.2\"/>\n",
       "<circle clip-path=\"url(#clip132)\" cx=\"1625.35\" cy=\"647.606\" r=\"14.4\" fill=\"#009af9\" fill-rule=\"evenodd\" fill-opacity=\"1\" stroke=\"#000000\" stroke-opacity=\"1\" stroke-width=\"3.2\"/>\n",
       "<circle clip-path=\"url(#clip132)\" cx=\"1631.64\" cy=\"647.606\" r=\"14.4\" fill=\"#009af9\" fill-rule=\"evenodd\" fill-opacity=\"1\" stroke=\"#000000\" stroke-opacity=\"1\" stroke-width=\"3.2\"/>\n",
       "<circle clip-path=\"url(#clip132)\" cx=\"1637.93\" cy=\"528.046\" r=\"14.4\" fill=\"#009af9\" fill-rule=\"evenodd\" fill-opacity=\"1\" stroke=\"#000000\" stroke-opacity=\"1\" stroke-width=\"3.2\"/>\n",
       "<circle clip-path=\"url(#clip132)\" cx=\"1644.21\" cy=\"528.046\" r=\"14.4\" fill=\"#009af9\" fill-rule=\"evenodd\" fill-opacity=\"1\" stroke=\"#000000\" stroke-opacity=\"1\" stroke-width=\"3.2\"/>\n",
       "<circle clip-path=\"url(#clip132)\" cx=\"1650.5\" cy=\"528.046\" r=\"14.4\" fill=\"#009af9\" fill-rule=\"evenodd\" fill-opacity=\"1\" stroke=\"#000000\" stroke-opacity=\"1\" stroke-width=\"3.2\"/>\n",
       "<circle clip-path=\"url(#clip132)\" cx=\"1656.78\" cy=\"528.046\" r=\"14.4\" fill=\"#009af9\" fill-rule=\"evenodd\" fill-opacity=\"1\" stroke=\"#000000\" stroke-opacity=\"1\" stroke-width=\"3.2\"/>\n",
       "<circle clip-path=\"url(#clip132)\" cx=\"1663.07\" cy=\"528.046\" r=\"14.4\" fill=\"#009af9\" fill-rule=\"evenodd\" fill-opacity=\"1\" stroke=\"#000000\" stroke-opacity=\"1\" stroke-width=\"3.2\"/>\n",
       "<circle clip-path=\"url(#clip132)\" cx=\"1669.36\" cy=\"528.046\" r=\"14.4\" fill=\"#009af9\" fill-rule=\"evenodd\" fill-opacity=\"1\" stroke=\"#000000\" stroke-opacity=\"1\" stroke-width=\"3.2\"/>\n",
       "<circle clip-path=\"url(#clip132)\" cx=\"1675.64\" cy=\"528.046\" r=\"14.4\" fill=\"#009af9\" fill-rule=\"evenodd\" fill-opacity=\"1\" stroke=\"#000000\" stroke-opacity=\"1\" stroke-width=\"3.2\"/>\n",
       "<circle clip-path=\"url(#clip132)\" cx=\"1681.93\" cy=\"528.046\" r=\"14.4\" fill=\"#009af9\" fill-rule=\"evenodd\" fill-opacity=\"1\" stroke=\"#000000\" stroke-opacity=\"1\" stroke-width=\"3.2\"/>\n",
       "<circle clip-path=\"url(#clip132)\" cx=\"1688.21\" cy=\"528.046\" r=\"14.4\" fill=\"#009af9\" fill-rule=\"evenodd\" fill-opacity=\"1\" stroke=\"#000000\" stroke-opacity=\"1\" stroke-width=\"3.2\"/>\n",
       "<circle clip-path=\"url(#clip132)\" cx=\"1694.5\" cy=\"528.046\" r=\"14.4\" fill=\"#009af9\" fill-rule=\"evenodd\" fill-opacity=\"1\" stroke=\"#000000\" stroke-opacity=\"1\" stroke-width=\"3.2\"/>\n",
       "<circle clip-path=\"url(#clip132)\" cx=\"1700.79\" cy=\"528.046\" r=\"14.4\" fill=\"#009af9\" fill-rule=\"evenodd\" fill-opacity=\"1\" stroke=\"#000000\" stroke-opacity=\"1\" stroke-width=\"3.2\"/>\n",
       "<circle clip-path=\"url(#clip132)\" cx=\"1707.07\" cy=\"528.046\" r=\"14.4\" fill=\"#009af9\" fill-rule=\"evenodd\" fill-opacity=\"1\" stroke=\"#000000\" stroke-opacity=\"1\" stroke-width=\"3.2\"/>\n",
       "<circle clip-path=\"url(#clip132)\" cx=\"1713.36\" cy=\"528.046\" r=\"14.4\" fill=\"#009af9\" fill-rule=\"evenodd\" fill-opacity=\"1\" stroke=\"#000000\" stroke-opacity=\"1\" stroke-width=\"3.2\"/>\n",
       "<circle clip-path=\"url(#clip132)\" cx=\"1719.64\" cy=\"528.046\" r=\"14.4\" fill=\"#009af9\" fill-rule=\"evenodd\" fill-opacity=\"1\" stroke=\"#000000\" stroke-opacity=\"1\" stroke-width=\"3.2\"/>\n",
       "<circle clip-path=\"url(#clip132)\" cx=\"1725.93\" cy=\"528.046\" r=\"14.4\" fill=\"#009af9\" fill-rule=\"evenodd\" fill-opacity=\"1\" stroke=\"#000000\" stroke-opacity=\"1\" stroke-width=\"3.2\"/>\n",
       "<circle clip-path=\"url(#clip132)\" cx=\"1732.21\" cy=\"528.046\" r=\"14.4\" fill=\"#009af9\" fill-rule=\"evenodd\" fill-opacity=\"1\" stroke=\"#000000\" stroke-opacity=\"1\" stroke-width=\"3.2\"/>\n",
       "<circle clip-path=\"url(#clip132)\" cx=\"1738.5\" cy=\"528.046\" r=\"14.4\" fill=\"#009af9\" fill-rule=\"evenodd\" fill-opacity=\"1\" stroke=\"#000000\" stroke-opacity=\"1\" stroke-width=\"3.2\"/>\n",
       "<circle clip-path=\"url(#clip132)\" cx=\"1744.79\" cy=\"528.046\" r=\"14.4\" fill=\"#009af9\" fill-rule=\"evenodd\" fill-opacity=\"1\" stroke=\"#000000\" stroke-opacity=\"1\" stroke-width=\"3.2\"/>\n",
       "<circle clip-path=\"url(#clip132)\" cx=\"1751.07\" cy=\"528.046\" r=\"14.4\" fill=\"#009af9\" fill-rule=\"evenodd\" fill-opacity=\"1\" stroke=\"#000000\" stroke-opacity=\"1\" stroke-width=\"3.2\"/>\n",
       "<circle clip-path=\"url(#clip132)\" cx=\"1757.36\" cy=\"528.046\" r=\"14.4\" fill=\"#009af9\" fill-rule=\"evenodd\" fill-opacity=\"1\" stroke=\"#000000\" stroke-opacity=\"1\" stroke-width=\"3.2\"/>\n",
       "<circle clip-path=\"url(#clip132)\" cx=\"1763.64\" cy=\"528.046\" r=\"14.4\" fill=\"#009af9\" fill-rule=\"evenodd\" fill-opacity=\"1\" stroke=\"#000000\" stroke-opacity=\"1\" stroke-width=\"3.2\"/>\n",
       "<circle clip-path=\"url(#clip132)\" cx=\"1769.93\" cy=\"528.046\" r=\"14.4\" fill=\"#009af9\" fill-rule=\"evenodd\" fill-opacity=\"1\" stroke=\"#000000\" stroke-opacity=\"1\" stroke-width=\"3.2\"/>\n",
       "<circle clip-path=\"url(#clip132)\" cx=\"1776.22\" cy=\"528.046\" r=\"14.4\" fill=\"#009af9\" fill-rule=\"evenodd\" fill-opacity=\"1\" stroke=\"#000000\" stroke-opacity=\"1\" stroke-width=\"3.2\"/>\n",
       "<circle clip-path=\"url(#clip132)\" cx=\"1782.5\" cy=\"528.046\" r=\"14.4\" fill=\"#009af9\" fill-rule=\"evenodd\" fill-opacity=\"1\" stroke=\"#000000\" stroke-opacity=\"1\" stroke-width=\"3.2\"/>\n",
       "<circle clip-path=\"url(#clip132)\" cx=\"1788.79\" cy=\"528.046\" r=\"14.4\" fill=\"#009af9\" fill-rule=\"evenodd\" fill-opacity=\"1\" stroke=\"#000000\" stroke-opacity=\"1\" stroke-width=\"3.2\"/>\n",
       "<circle clip-path=\"url(#clip132)\" cx=\"1795.07\" cy=\"467.876\" r=\"14.4\" fill=\"#009af9\" fill-rule=\"evenodd\" fill-opacity=\"1\" stroke=\"#000000\" stroke-opacity=\"1\" stroke-width=\"3.2\"/>\n",
       "<circle clip-path=\"url(#clip132)\" cx=\"1801.36\" cy=\"467.876\" r=\"14.4\" fill=\"#009af9\" fill-rule=\"evenodd\" fill-opacity=\"1\" stroke=\"#000000\" stroke-opacity=\"1\" stroke-width=\"3.2\"/>\n",
       "<circle clip-path=\"url(#clip132)\" cx=\"1807.65\" cy=\"467.876\" r=\"14.4\" fill=\"#009af9\" fill-rule=\"evenodd\" fill-opacity=\"1\" stroke=\"#000000\" stroke-opacity=\"1\" stroke-width=\"3.2\"/>\n",
       "<circle clip-path=\"url(#clip132)\" cx=\"1813.93\" cy=\"467.876\" r=\"14.4\" fill=\"#009af9\" fill-rule=\"evenodd\" fill-opacity=\"1\" stroke=\"#000000\" stroke-opacity=\"1\" stroke-width=\"3.2\"/>\n",
       "<circle clip-path=\"url(#clip132)\" cx=\"1820.22\" cy=\"467.876\" r=\"14.4\" fill=\"#009af9\" fill-rule=\"evenodd\" fill-opacity=\"1\" stroke=\"#000000\" stroke-opacity=\"1\" stroke-width=\"3.2\"/>\n",
       "<circle clip-path=\"url(#clip132)\" cx=\"1826.5\" cy=\"467.876\" r=\"14.4\" fill=\"#009af9\" fill-rule=\"evenodd\" fill-opacity=\"1\" stroke=\"#000000\" stroke-opacity=\"1\" stroke-width=\"3.2\"/>\n",
       "<circle clip-path=\"url(#clip132)\" cx=\"1832.79\" cy=\"467.876\" r=\"14.4\" fill=\"#009af9\" fill-rule=\"evenodd\" fill-opacity=\"1\" stroke=\"#000000\" stroke-opacity=\"1\" stroke-width=\"3.2\"/>\n",
       "<circle clip-path=\"url(#clip132)\" cx=\"1839.07\" cy=\"467.876\" r=\"14.4\" fill=\"#009af9\" fill-rule=\"evenodd\" fill-opacity=\"1\" stroke=\"#000000\" stroke-opacity=\"1\" stroke-width=\"3.2\"/>\n",
       "<circle clip-path=\"url(#clip132)\" cx=\"1845.36\" cy=\"467.876\" r=\"14.4\" fill=\"#009af9\" fill-rule=\"evenodd\" fill-opacity=\"1\" stroke=\"#000000\" stroke-opacity=\"1\" stroke-width=\"3.2\"/>\n",
       "<circle clip-path=\"url(#clip132)\" cx=\"1851.65\" cy=\"467.876\" r=\"14.4\" fill=\"#009af9\" fill-rule=\"evenodd\" fill-opacity=\"1\" stroke=\"#000000\" stroke-opacity=\"1\" stroke-width=\"3.2\"/>\n",
       "<circle clip-path=\"url(#clip132)\" cx=\"1857.93\" cy=\"467.876\" r=\"14.4\" fill=\"#009af9\" fill-rule=\"evenodd\" fill-opacity=\"1\" stroke=\"#000000\" stroke-opacity=\"1\" stroke-width=\"3.2\"/>\n",
       "<circle clip-path=\"url(#clip132)\" cx=\"1864.22\" cy=\"467.876\" r=\"14.4\" fill=\"#009af9\" fill-rule=\"evenodd\" fill-opacity=\"1\" stroke=\"#000000\" stroke-opacity=\"1\" stroke-width=\"3.2\"/>\n",
       "<circle clip-path=\"url(#clip132)\" cx=\"1870.5\" cy=\"467.876\" r=\"14.4\" fill=\"#009af9\" fill-rule=\"evenodd\" fill-opacity=\"1\" stroke=\"#000000\" stroke-opacity=\"1\" stroke-width=\"3.2\"/>\n",
       "<circle clip-path=\"url(#clip132)\" cx=\"1876.79\" cy=\"467.876\" r=\"14.4\" fill=\"#009af9\" fill-rule=\"evenodd\" fill-opacity=\"1\" stroke=\"#000000\" stroke-opacity=\"1\" stroke-width=\"3.2\"/>\n",
       "<circle clip-path=\"url(#clip132)\" cx=\"1883.08\" cy=\"467.876\" r=\"14.4\" fill=\"#009af9\" fill-rule=\"evenodd\" fill-opacity=\"1\" stroke=\"#000000\" stroke-opacity=\"1\" stroke-width=\"3.2\"/>\n",
       "<circle clip-path=\"url(#clip132)\" cx=\"1889.36\" cy=\"467.876\" r=\"14.4\" fill=\"#009af9\" fill-rule=\"evenodd\" fill-opacity=\"1\" stroke=\"#000000\" stroke-opacity=\"1\" stroke-width=\"3.2\"/>\n",
       "<circle clip-path=\"url(#clip132)\" cx=\"1895.65\" cy=\"467.876\" r=\"14.4\" fill=\"#009af9\" fill-rule=\"evenodd\" fill-opacity=\"1\" stroke=\"#000000\" stroke-opacity=\"1\" stroke-width=\"3.2\"/>\n",
       "<circle clip-path=\"url(#clip132)\" cx=\"1901.93\" cy=\"467.876\" r=\"14.4\" fill=\"#009af9\" fill-rule=\"evenodd\" fill-opacity=\"1\" stroke=\"#000000\" stroke-opacity=\"1\" stroke-width=\"3.2\"/>\n",
       "<circle clip-path=\"url(#clip132)\" cx=\"1908.22\" cy=\"467.876\" r=\"14.4\" fill=\"#009af9\" fill-rule=\"evenodd\" fill-opacity=\"1\" stroke=\"#000000\" stroke-opacity=\"1\" stroke-width=\"3.2\"/>\n",
       "<circle clip-path=\"url(#clip132)\" cx=\"1914.5\" cy=\"467.876\" r=\"14.4\" fill=\"#009af9\" fill-rule=\"evenodd\" fill-opacity=\"1\" stroke=\"#000000\" stroke-opacity=\"1\" stroke-width=\"3.2\"/>\n",
       "<circle clip-path=\"url(#clip132)\" cx=\"1920.79\" cy=\"467.876\" r=\"14.4\" fill=\"#009af9\" fill-rule=\"evenodd\" fill-opacity=\"1\" stroke=\"#000000\" stroke-opacity=\"1\" stroke-width=\"3.2\"/>\n",
       "<circle clip-path=\"url(#clip132)\" cx=\"1927.08\" cy=\"467.876\" r=\"14.4\" fill=\"#009af9\" fill-rule=\"evenodd\" fill-opacity=\"1\" stroke=\"#000000\" stroke-opacity=\"1\" stroke-width=\"3.2\"/>\n",
       "<circle clip-path=\"url(#clip132)\" cx=\"1933.36\" cy=\"467.876\" r=\"14.4\" fill=\"#009af9\" fill-rule=\"evenodd\" fill-opacity=\"1\" stroke=\"#000000\" stroke-opacity=\"1\" stroke-width=\"3.2\"/>\n",
       "<circle clip-path=\"url(#clip132)\" cx=\"1939.65\" cy=\"467.876\" r=\"14.4\" fill=\"#009af9\" fill-rule=\"evenodd\" fill-opacity=\"1\" stroke=\"#000000\" stroke-opacity=\"1\" stroke-width=\"3.2\"/>\n",
       "<circle clip-path=\"url(#clip132)\" cx=\"1945.93\" cy=\"467.876\" r=\"14.4\" fill=\"#009af9\" fill-rule=\"evenodd\" fill-opacity=\"1\" stroke=\"#000000\" stroke-opacity=\"1\" stroke-width=\"3.2\"/>\n",
       "<circle clip-path=\"url(#clip132)\" cx=\"1952.22\" cy=\"447.437\" r=\"14.4\" fill=\"#009af9\" fill-rule=\"evenodd\" fill-opacity=\"1\" stroke=\"#000000\" stroke-opacity=\"1\" stroke-width=\"3.2\"/>\n",
       "<circle clip-path=\"url(#clip132)\" cx=\"1958.51\" cy=\"447.437\" r=\"14.4\" fill=\"#009af9\" fill-rule=\"evenodd\" fill-opacity=\"1\" stroke=\"#000000\" stroke-opacity=\"1\" stroke-width=\"3.2\"/>\n",
       "<circle clip-path=\"url(#clip132)\" cx=\"1964.79\" cy=\"447.437\" r=\"14.4\" fill=\"#009af9\" fill-rule=\"evenodd\" fill-opacity=\"1\" stroke=\"#000000\" stroke-opacity=\"1\" stroke-width=\"3.2\"/>\n",
       "<circle clip-path=\"url(#clip132)\" cx=\"1971.08\" cy=\"447.437\" r=\"14.4\" fill=\"#009af9\" fill-rule=\"evenodd\" fill-opacity=\"1\" stroke=\"#000000\" stroke-opacity=\"1\" stroke-width=\"3.2\"/>\n",
       "<circle clip-path=\"url(#clip132)\" cx=\"1977.36\" cy=\"447.437\" r=\"14.4\" fill=\"#009af9\" fill-rule=\"evenodd\" fill-opacity=\"1\" stroke=\"#000000\" stroke-opacity=\"1\" stroke-width=\"3.2\"/>\n",
       "<circle clip-path=\"url(#clip132)\" cx=\"1983.65\" cy=\"447.437\" r=\"14.4\" fill=\"#009af9\" fill-rule=\"evenodd\" fill-opacity=\"1\" stroke=\"#000000\" stroke-opacity=\"1\" stroke-width=\"3.2\"/>\n",
       "<circle clip-path=\"url(#clip132)\" cx=\"1989.94\" cy=\"447.437\" r=\"14.4\" fill=\"#009af9\" fill-rule=\"evenodd\" fill-opacity=\"1\" stroke=\"#000000\" stroke-opacity=\"1\" stroke-width=\"3.2\"/>\n",
       "<circle clip-path=\"url(#clip132)\" cx=\"1996.22\" cy=\"447.437\" r=\"14.4\" fill=\"#009af9\" fill-rule=\"evenodd\" fill-opacity=\"1\" stroke=\"#000000\" stroke-opacity=\"1\" stroke-width=\"3.2\"/>\n",
       "<circle clip-path=\"url(#clip132)\" cx=\"2002.51\" cy=\"447.437\" r=\"14.4\" fill=\"#009af9\" fill-rule=\"evenodd\" fill-opacity=\"1\" stroke=\"#000000\" stroke-opacity=\"1\" stroke-width=\"3.2\"/>\n",
       "<circle clip-path=\"url(#clip132)\" cx=\"2008.79\" cy=\"447.437\" r=\"14.4\" fill=\"#009af9\" fill-rule=\"evenodd\" fill-opacity=\"1\" stroke=\"#000000\" stroke-opacity=\"1\" stroke-width=\"3.2\"/>\n",
       "<circle clip-path=\"url(#clip132)\" cx=\"2015.08\" cy=\"447.437\" r=\"14.4\" fill=\"#009af9\" fill-rule=\"evenodd\" fill-opacity=\"1\" stroke=\"#000000\" stroke-opacity=\"1\" stroke-width=\"3.2\"/>\n",
       "<circle clip-path=\"url(#clip132)\" cx=\"2021.36\" cy=\"447.437\" r=\"14.4\" fill=\"#009af9\" fill-rule=\"evenodd\" fill-opacity=\"1\" stroke=\"#000000\" stroke-opacity=\"1\" stroke-width=\"3.2\"/>\n",
       "<circle clip-path=\"url(#clip132)\" cx=\"2027.65\" cy=\"447.437\" r=\"14.4\" fill=\"#009af9\" fill-rule=\"evenodd\" fill-opacity=\"1\" stroke=\"#000000\" stroke-opacity=\"1\" stroke-width=\"3.2\"/>\n",
       "<circle clip-path=\"url(#clip132)\" cx=\"2033.94\" cy=\"447.437\" r=\"14.4\" fill=\"#009af9\" fill-rule=\"evenodd\" fill-opacity=\"1\" stroke=\"#000000\" stroke-opacity=\"1\" stroke-width=\"3.2\"/>\n",
       "<circle clip-path=\"url(#clip132)\" cx=\"2040.22\" cy=\"447.437\" r=\"14.4\" fill=\"#009af9\" fill-rule=\"evenodd\" fill-opacity=\"1\" stroke=\"#000000\" stroke-opacity=\"1\" stroke-width=\"3.2\"/>\n",
       "<circle clip-path=\"url(#clip132)\" cx=\"2046.51\" cy=\"267.707\" r=\"14.4\" fill=\"#009af9\" fill-rule=\"evenodd\" fill-opacity=\"1\" stroke=\"#000000\" stroke-opacity=\"1\" stroke-width=\"3.2\"/>\n",
       "<circle clip-path=\"url(#clip132)\" cx=\"2052.79\" cy=\"267.707\" r=\"14.4\" fill=\"#009af9\" fill-rule=\"evenodd\" fill-opacity=\"1\" stroke=\"#000000\" stroke-opacity=\"1\" stroke-width=\"3.2\"/>\n",
       "<circle clip-path=\"url(#clip132)\" cx=\"2059.08\" cy=\"267.707\" r=\"14.4\" fill=\"#009af9\" fill-rule=\"evenodd\" fill-opacity=\"1\" stroke=\"#000000\" stroke-opacity=\"1\" stroke-width=\"3.2\"/>\n",
       "<circle clip-path=\"url(#clip132)\" cx=\"2065.37\" cy=\"267.707\" r=\"14.4\" fill=\"#009af9\" fill-rule=\"evenodd\" fill-opacity=\"1\" stroke=\"#000000\" stroke-opacity=\"1\" stroke-width=\"3.2\"/>\n",
       "<circle clip-path=\"url(#clip132)\" cx=\"2071.65\" cy=\"267.707\" r=\"14.4\" fill=\"#009af9\" fill-rule=\"evenodd\" fill-opacity=\"1\" stroke=\"#000000\" stroke-opacity=\"1\" stroke-width=\"3.2\"/>\n",
       "<circle clip-path=\"url(#clip132)\" cx=\"2077.94\" cy=\"267.707\" r=\"14.4\" fill=\"#009af9\" fill-rule=\"evenodd\" fill-opacity=\"1\" stroke=\"#000000\" stroke-opacity=\"1\" stroke-width=\"3.2\"/>\n",
       "<circle clip-path=\"url(#clip132)\" cx=\"2084.22\" cy=\"267.707\" r=\"14.4\" fill=\"#009af9\" fill-rule=\"evenodd\" fill-opacity=\"1\" stroke=\"#000000\" stroke-opacity=\"1\" stroke-width=\"3.2\"/>\n",
       "<circle clip-path=\"url(#clip132)\" cx=\"2090.51\" cy=\"267.707\" r=\"14.4\" fill=\"#009af9\" fill-rule=\"evenodd\" fill-opacity=\"1\" stroke=\"#000000\" stroke-opacity=\"1\" stroke-width=\"3.2\"/>\n",
       "<circle clip-path=\"url(#clip132)\" cx=\"2096.8\" cy=\"267.707\" r=\"14.4\" fill=\"#009af9\" fill-rule=\"evenodd\" fill-opacity=\"1\" stroke=\"#000000\" stroke-opacity=\"1\" stroke-width=\"3.2\"/>\n",
       "<circle clip-path=\"url(#clip132)\" cx=\"2103.08\" cy=\"267.707\" r=\"14.4\" fill=\"#009af9\" fill-rule=\"evenodd\" fill-opacity=\"1\" stroke=\"#000000\" stroke-opacity=\"1\" stroke-width=\"3.2\"/>\n",
       "<circle clip-path=\"url(#clip132)\" cx=\"2109.37\" cy=\"267.707\" r=\"14.4\" fill=\"#009af9\" fill-rule=\"evenodd\" fill-opacity=\"1\" stroke=\"#000000\" stroke-opacity=\"1\" stroke-width=\"3.2\"/>\n",
       "<circle clip-path=\"url(#clip132)\" cx=\"2115.65\" cy=\"267.707\" r=\"14.4\" fill=\"#009af9\" fill-rule=\"evenodd\" fill-opacity=\"1\" stroke=\"#000000\" stroke-opacity=\"1\" stroke-width=\"3.2\"/>\n",
       "<circle clip-path=\"url(#clip132)\" cx=\"2121.94\" cy=\"267.707\" r=\"14.4\" fill=\"#009af9\" fill-rule=\"evenodd\" fill-opacity=\"1\" stroke=\"#000000\" stroke-opacity=\"1\" stroke-width=\"3.2\"/>\n",
       "<circle clip-path=\"url(#clip132)\" cx=\"2128.22\" cy=\"267.707\" r=\"14.4\" fill=\"#009af9\" fill-rule=\"evenodd\" fill-opacity=\"1\" stroke=\"#000000\" stroke-opacity=\"1\" stroke-width=\"3.2\"/>\n",
       "<circle clip-path=\"url(#clip132)\" cx=\"2134.51\" cy=\"267.707\" r=\"14.4\" fill=\"#009af9\" fill-rule=\"evenodd\" fill-opacity=\"1\" stroke=\"#000000\" stroke-opacity=\"1\" stroke-width=\"3.2\"/>\n",
       "<circle clip-path=\"url(#clip132)\" cx=\"2140.8\" cy=\"267.707\" r=\"14.4\" fill=\"#009af9\" fill-rule=\"evenodd\" fill-opacity=\"1\" stroke=\"#000000\" stroke-opacity=\"1\" stroke-width=\"3.2\"/>\n",
       "<circle clip-path=\"url(#clip132)\" cx=\"2147.08\" cy=\"267.707\" r=\"14.4\" fill=\"#009af9\" fill-rule=\"evenodd\" fill-opacity=\"1\" stroke=\"#000000\" stroke-opacity=\"1\" stroke-width=\"3.2\"/>\n",
       "<circle clip-path=\"url(#clip132)\" cx=\"2153.37\" cy=\"267.707\" r=\"14.4\" fill=\"#009af9\" fill-rule=\"evenodd\" fill-opacity=\"1\" stroke=\"#000000\" stroke-opacity=\"1\" stroke-width=\"3.2\"/>\n",
       "<circle clip-path=\"url(#clip132)\" cx=\"2159.65\" cy=\"267.707\" r=\"14.4\" fill=\"#009af9\" fill-rule=\"evenodd\" fill-opacity=\"1\" stroke=\"#000000\" stroke-opacity=\"1\" stroke-width=\"3.2\"/>\n",
       "<circle clip-path=\"url(#clip132)\" cx=\"2165.94\" cy=\"267.707\" r=\"14.4\" fill=\"#009af9\" fill-rule=\"evenodd\" fill-opacity=\"1\" stroke=\"#000000\" stroke-opacity=\"1\" stroke-width=\"3.2\"/>\n",
       "<circle clip-path=\"url(#clip132)\" cx=\"2172.23\" cy=\"267.707\" r=\"14.4\" fill=\"#009af9\" fill-rule=\"evenodd\" fill-opacity=\"1\" stroke=\"#000000\" stroke-opacity=\"1\" stroke-width=\"3.2\"/>\n",
       "<circle clip-path=\"url(#clip132)\" cx=\"2178.51\" cy=\"267.707\" r=\"14.4\" fill=\"#009af9\" fill-rule=\"evenodd\" fill-opacity=\"1\" stroke=\"#000000\" stroke-opacity=\"1\" stroke-width=\"3.2\"/>\n",
       "<circle clip-path=\"url(#clip132)\" cx=\"2184.8\" cy=\"267.707\" r=\"14.4\" fill=\"#009af9\" fill-rule=\"evenodd\" fill-opacity=\"1\" stroke=\"#000000\" stroke-opacity=\"1\" stroke-width=\"3.2\"/>\n",
       "<circle clip-path=\"url(#clip132)\" cx=\"2191.08\" cy=\"267.707\" r=\"14.4\" fill=\"#009af9\" fill-rule=\"evenodd\" fill-opacity=\"1\" stroke=\"#000000\" stroke-opacity=\"1\" stroke-width=\"3.2\"/>\n",
       "<circle clip-path=\"url(#clip132)\" cx=\"2197.37\" cy=\"267.707\" r=\"14.4\" fill=\"#009af9\" fill-rule=\"evenodd\" fill-opacity=\"1\" stroke=\"#000000\" stroke-opacity=\"1\" stroke-width=\"3.2\"/>\n",
       "<circle clip-path=\"url(#clip132)\" cx=\"2203.66\" cy=\"87.9763\" r=\"14.4\" fill=\"#009af9\" fill-rule=\"evenodd\" fill-opacity=\"1\" stroke=\"#000000\" stroke-opacity=\"1\" stroke-width=\"3.2\"/>\n",
       "<circle clip-path=\"url(#clip132)\" cx=\"2209.94\" cy=\"87.9763\" r=\"14.4\" fill=\"#009af9\" fill-rule=\"evenodd\" fill-opacity=\"1\" stroke=\"#000000\" stroke-opacity=\"1\" stroke-width=\"3.2\"/>\n",
       "<circle clip-path=\"url(#clip132)\" cx=\"2216.23\" cy=\"87.9763\" r=\"14.4\" fill=\"#009af9\" fill-rule=\"evenodd\" fill-opacity=\"1\" stroke=\"#000000\" stroke-opacity=\"1\" stroke-width=\"3.2\"/>\n",
       "<circle clip-path=\"url(#clip132)\" cx=\"2222.51\" cy=\"87.9763\" r=\"14.4\" fill=\"#009af9\" fill-rule=\"evenodd\" fill-opacity=\"1\" stroke=\"#000000\" stroke-opacity=\"1\" stroke-width=\"3.2\"/>\n",
       "<circle clip-path=\"url(#clip132)\" cx=\"2228.8\" cy=\"87.9763\" r=\"14.4\" fill=\"#009af9\" fill-rule=\"evenodd\" fill-opacity=\"1\" stroke=\"#000000\" stroke-opacity=\"1\" stroke-width=\"3.2\"/>\n",
       "<circle clip-path=\"url(#clip132)\" cx=\"2235.08\" cy=\"87.9763\" r=\"14.4\" fill=\"#009af9\" fill-rule=\"evenodd\" fill-opacity=\"1\" stroke=\"#000000\" stroke-opacity=\"1\" stroke-width=\"3.2\"/>\n",
       "<circle clip-path=\"url(#clip132)\" cx=\"2241.37\" cy=\"87.9763\" r=\"14.4\" fill=\"#009af9\" fill-rule=\"evenodd\" fill-opacity=\"1\" stroke=\"#000000\" stroke-opacity=\"1\" stroke-width=\"3.2\"/>\n",
       "<circle clip-path=\"url(#clip132)\" cx=\"2247.66\" cy=\"87.9763\" r=\"14.4\" fill=\"#009af9\" fill-rule=\"evenodd\" fill-opacity=\"1\" stroke=\"#000000\" stroke-opacity=\"1\" stroke-width=\"3.2\"/>\n",
       "<circle clip-path=\"url(#clip132)\" cx=\"2253.94\" cy=\"87.9763\" r=\"14.4\" fill=\"#009af9\" fill-rule=\"evenodd\" fill-opacity=\"1\" stroke=\"#000000\" stroke-opacity=\"1\" stroke-width=\"3.2\"/>\n",
       "<circle clip-path=\"url(#clip132)\" cx=\"2260.23\" cy=\"87.9763\" r=\"14.4\" fill=\"#009af9\" fill-rule=\"evenodd\" fill-opacity=\"1\" stroke=\"#000000\" stroke-opacity=\"1\" stroke-width=\"3.2\"/>\n",
       "<circle clip-path=\"url(#clip132)\" cx=\"2266.51\" cy=\"87.9763\" r=\"14.4\" fill=\"#009af9\" fill-rule=\"evenodd\" fill-opacity=\"1\" stroke=\"#000000\" stroke-opacity=\"1\" stroke-width=\"3.2\"/>\n",
       "<circle clip-path=\"url(#clip132)\" cx=\"2272.8\" cy=\"87.9763\" r=\"14.4\" fill=\"#009af9\" fill-rule=\"evenodd\" fill-opacity=\"1\" stroke=\"#000000\" stroke-opacity=\"1\" stroke-width=\"3.2\"/>\n",
       "<circle clip-path=\"url(#clip132)\" cx=\"2279.09\" cy=\"87.9763\" r=\"14.4\" fill=\"#009af9\" fill-rule=\"evenodd\" fill-opacity=\"1\" stroke=\"#000000\" stroke-opacity=\"1\" stroke-width=\"3.2\"/>\n",
       "<circle clip-path=\"url(#clip132)\" cx=\"2285.37\" cy=\"87.9763\" r=\"14.4\" fill=\"#009af9\" fill-rule=\"evenodd\" fill-opacity=\"1\" stroke=\"#000000\" stroke-opacity=\"1\" stroke-width=\"3.2\"/>\n",
       "<circle clip-path=\"url(#clip132)\" cx=\"2291.66\" cy=\"87.9763\" r=\"14.4\" fill=\"#009af9\" fill-rule=\"evenodd\" fill-opacity=\"1\" stroke=\"#000000\" stroke-opacity=\"1\" stroke-width=\"3.2\"/>\n",
       "<path clip-path=\"url(#clip130)\" d=\"M265.897 198.898 L534.209 198.898 L534.209 95.2176 L265.897 95.2176  Z\" fill=\"#ffffff\" fill-rule=\"evenodd\" fill-opacity=\"1\"/>\n",
       "<polyline clip-path=\"url(#clip130)\" style=\"stroke:#000000; stroke-linecap:round; stroke-linejoin:round; stroke-width:4; stroke-opacity:1; fill:none\" points=\"265.897,198.898 534.209,198.898 534.209,95.2176 265.897,95.2176 265.897,198.898 \"/>\n",
       "<circle clip-path=\"url(#clip130)\" cx=\"361.844\" cy=\"147.058\" r=\"20.48\" fill=\"#009af9\" fill-rule=\"evenodd\" fill-opacity=\"1\" stroke=\"#000000\" stroke-opacity=\"1\" stroke-width=\"4.55111\"/>\n",
       "<path clip-path=\"url(#clip130)\" d=\"M471.634 166.745 Q469.829 171.375 468.116 172.787 Q466.403 174.199 463.532 174.199 L460.13 174.199 L460.13 170.634 L462.63 170.634 Q464.389 170.634 465.361 169.8 Q466.333 168.967 467.514 165.865 L468.278 163.921 L457.792 138.412 L462.306 138.412 L470.407 158.689 L478.509 138.412 L483.023 138.412 L471.634 166.745 Z\" fill=\"#000000\" fill-rule=\"nonzero\" fill-opacity=\"1\" /><path clip-path=\"url(#clip130)\" d=\"M490.315 160.402 L497.954 160.402 L497.954 134.037 L489.643 135.703 L489.643 131.444 L497.907 129.778 L502.583 129.778 L502.583 160.402 L510.222 160.402 L510.222 164.338 L490.315 164.338 L490.315 160.402 Z\" fill=\"#000000\" fill-rule=\"nonzero\" fill-opacity=\"1\" /></svg>\n"
      ]
     },
     "execution_count": 209,
     "metadata": {},
     "output_type": "execute_result"
    }
   ],
   "source": [
    "scatter(real(EEA[1,1,:]))"
   ]
  },
  {
   "cell_type": "markdown",
   "metadata": {},
   "source": [
    "### Non-Interacting Many Body Chern"
   ]
  },
  {
   "cell_type": "code",
   "execution_count": 136,
   "metadata": {},
   "outputs": [
    {
     "data": {
      "text/plain": [
       "6-element Vector{Any}:\n",
       "                   4.0 - 3.1250401373865176e-16im\n",
       "   -3.0000000000000004 + 7.585497596397408e-16im\n",
       "   -0.9999999999999999 - 8.362761203693972e-17im\n",
       " 2.208718528794109e-16 + 3.1166556617457667e-16im\n",
       "   -3.0000000000000004 - 5.304278528981119e-16im\n",
       "    3.9999999999999996 - 2.9458891225375714e-16im"
      ]
     },
     "execution_count": 136,
     "metadata": {},
     "output_type": "execute_result"
    }
   ],
   "source": [
    "bands = [[1,6], [7,15], [16,24], [25,30], [31,39], [40,45]]\n",
    "calc_chern_bands(UUA, bands)"
   ]
  },
  {
   "cell_type": "markdown",
   "metadata": {},
   "source": [
    "## Interacting Many Body"
   ]
  },
  {
   "cell_type": "markdown",
   "metadata": {},
   "source": [
    "### Interacting Many Body Chern"
   ]
  },
  {
   "cell_type": "markdown",
   "metadata": {},
   "source": [
    "# Projected Many Body"
   ]
  },
  {
   "cell_type": "code",
   "execution_count": 276,
   "metadata": {},
   "outputs": [],
   "source": [
    "param_dict[\"sub_range\"] = 1:17;"
   ]
  },
  {
   "cell_type": "code",
   "execution_count": 277,
   "metadata": {},
   "outputs": [],
   "source": [
    "param_dict[\"θθ\"] = [0, 0];"
   ]
  },
  {
   "cell_type": "code",
   "execution_count": 278,
   "metadata": {},
   "outputs": [],
   "source": [
    "H_T = get_Hofstadter_hamiltonian(param_dict);\n",
    "H1 = get_sp_op(basis, H_T);\n",
    "sub_states = get_subset_states(H1, param_dict[\"sub_range\"])\n",
    "\n",
    "subspace_proj, P, Pt = get_projector_op(basis, sub_states);\n",
    "param_dict[\"projection\"] = subspace_proj, P, Pt;"
   ]
  },
  {
   "cell_type": "code",
   "execution_count": 279,
   "metadata": {},
   "outputs": [
    {
     "data": {
      "text/plain": [
       "ManyBody(onebodybasis=Subspace(superbasis=NLevel(N=25), states:17), states:17)"
      ]
     },
     "execution_count": 279,
     "metadata": {},
     "output_type": "execute_result"
    }
   ],
   "source": [
    "PN = 1\n",
    "param_dict[\"PN\"] = PN\n",
    "basis_mb_chern = get_basis_mb(param_dict);\n",
    "param_dict[\"basis_mb\"] = basis_mb_chern"
   ]
  },
  {
   "cell_type": "code",
   "execution_count": 280,
   "metadata": {},
   "outputs": [
    {
     "data": {
      "text/plain": [
       "17"
      ]
     },
     "execution_count": 280,
     "metadata": {},
     "output_type": "execute_result"
    }
   ],
   "source": [
    "param_dict[\"dimH_mb\"] = length(basis_mb_chern)"
   ]
  },
  {
   "cell_type": "markdown",
   "metadata": {},
   "source": [
    "## Projected Non-Interacting Many Body"
   ]
  },
  {
   "cell_type": "code",
   "execution_count": 281,
   "metadata": {},
   "outputs": [],
   "source": [
    "EEA, UUA = calc_all_states_H_mb(param_dict);"
   ]
  },
  {
   "cell_type": "code",
   "execution_count": 282,
   "metadata": {},
   "outputs": [
    {
     "data": {
      "image/svg+xml": [
       "<?xml version=\"1.0\" encoding=\"utf-8\"?>\n",
       "<svg xmlns=\"http://www.w3.org/2000/svg\" xmlns:xlink=\"http://www.w3.org/1999/xlink\" width=\"600\" height=\"400\" viewBox=\"0 0 2400 1600\">\n",
       "<defs>\n",
       "  <clipPath id=\"clip490\">\n",
       "    <rect x=\"0\" y=\"0\" width=\"2400\" height=\"1600\"/>\n",
       "  </clipPath>\n",
       "</defs>\n",
       "<path clip-path=\"url(#clip490)\" d=\"M0 1600 L2400 1600 L2400 0 L0 0  Z\" fill=\"#ffffff\" fill-rule=\"evenodd\" fill-opacity=\"1\"/>\n",
       "<defs>\n",
       "  <clipPath id=\"clip491\">\n",
       "    <rect x=\"480\" y=\"0\" width=\"1681\" height=\"1600\"/>\n",
       "  </clipPath>\n",
       "</defs>\n",
       "<path clip-path=\"url(#clip490)\" d=\"M148.057 1486.45 L2352.76 1486.45 L2352.76 47.2441 L148.057 47.2441  Z\" fill=\"#ffffff\" fill-rule=\"evenodd\" fill-opacity=\"1\"/>\n",
       "<defs>\n",
       "  <clipPath id=\"clip492\">\n",
       "    <rect x=\"148\" y=\"47\" width=\"2206\" height=\"1440\"/>\n",
       "  </clipPath>\n",
       "</defs>\n",
       "<polyline clip-path=\"url(#clip492)\" style=\"stroke:#000000; stroke-linecap:round; stroke-linejoin:round; stroke-width:2; stroke-opacity:0.1; fill:none\" points=\"470.442,1486.45 470.442,47.2441 \"/>\n",
       "<polyline clip-path=\"url(#clip492)\" style=\"stroke:#000000; stroke-linecap:round; stroke-linejoin:round; stroke-width:2; stroke-opacity:0.1; fill:none\" points=\"860.424,1486.45 860.424,47.2441 \"/>\n",
       "<polyline clip-path=\"url(#clip492)\" style=\"stroke:#000000; stroke-linecap:round; stroke-linejoin:round; stroke-width:2; stroke-opacity:0.1; fill:none\" points=\"1250.41,1486.45 1250.41,47.2441 \"/>\n",
       "<polyline clip-path=\"url(#clip492)\" style=\"stroke:#000000; stroke-linecap:round; stroke-linejoin:round; stroke-width:2; stroke-opacity:0.1; fill:none\" points=\"1640.39,1486.45 1640.39,47.2441 \"/>\n",
       "<polyline clip-path=\"url(#clip492)\" style=\"stroke:#000000; stroke-linecap:round; stroke-linejoin:round; stroke-width:2; stroke-opacity:0.1; fill:none\" points=\"2030.37,1486.45 2030.37,47.2441 \"/>\n",
       "<polyline clip-path=\"url(#clip490)\" style=\"stroke:#000000; stroke-linecap:round; stroke-linejoin:round; stroke-width:4; stroke-opacity:1; fill:none\" points=\"148.057,1486.45 2352.76,1486.45 \"/>\n",
       "<polyline clip-path=\"url(#clip490)\" style=\"stroke:#000000; stroke-linecap:round; stroke-linejoin:round; stroke-width:4; stroke-opacity:1; fill:none\" points=\"470.442,1486.45 470.442,1467.55 \"/>\n",
       "<polyline clip-path=\"url(#clip490)\" style=\"stroke:#000000; stroke-linecap:round; stroke-linejoin:round; stroke-width:4; stroke-opacity:1; fill:none\" points=\"860.424,1486.45 860.424,1467.55 \"/>\n",
       "<polyline clip-path=\"url(#clip490)\" style=\"stroke:#000000; stroke-linecap:round; stroke-linejoin:round; stroke-width:4; stroke-opacity:1; fill:none\" points=\"1250.41,1486.45 1250.41,1467.55 \"/>\n",
       "<polyline clip-path=\"url(#clip490)\" style=\"stroke:#000000; stroke-linecap:round; stroke-linejoin:round; stroke-width:4; stroke-opacity:1; fill:none\" points=\"1640.39,1486.45 1640.39,1467.55 \"/>\n",
       "<polyline clip-path=\"url(#clip490)\" style=\"stroke:#000000; stroke-linecap:round; stroke-linejoin:round; stroke-width:4; stroke-opacity:1; fill:none\" points=\"2030.37,1486.45 2030.37,1467.55 \"/>\n",
       "<path clip-path=\"url(#clip490)\" d=\"M474.69 1530.21 Q478.046 1530.93 479.921 1533.2 Q481.819 1535.47 481.819 1538.8 Q481.819 1543.92 478.301 1546.72 Q474.782 1549.52 468.301 1549.52 Q466.125 1549.52 463.81 1549.08 Q461.518 1548.66 459.065 1547.81 L459.065 1543.29 Q461.009 1544.43 463.324 1545.01 Q465.639 1545.58 468.162 1545.58 Q472.56 1545.58 474.852 1543.85 Q477.166 1542.11 477.166 1538.8 Q477.166 1535.75 475.014 1534.03 Q472.884 1532.3 469.065 1532.3 L465.037 1532.3 L465.037 1528.45 L469.25 1528.45 Q472.699 1528.45 474.528 1527.09 Q476.356 1525.7 476.356 1523.11 Q476.356 1520.45 474.458 1519.03 Q472.583 1517.6 469.065 1517.6 Q467.143 1517.6 464.944 1518.01 Q462.745 1518.43 460.106 1519.31 L460.106 1515.14 Q462.768 1514.4 465.083 1514.03 Q467.421 1513.66 469.481 1513.66 Q474.805 1513.66 477.907 1516.09 Q481.009 1518.5 481.009 1522.62 Q481.009 1525.49 479.365 1527.48 Q477.722 1529.45 474.69 1530.21 Z\" fill=\"#000000\" fill-rule=\"nonzero\" fill-opacity=\"1\" /><path clip-path=\"url(#clip490)\" d=\"M860.829 1529.7 Q857.681 1529.7 855.829 1531.86 Q854 1534.01 854 1537.76 Q854 1541.49 855.829 1543.66 Q857.681 1545.82 860.829 1545.82 Q863.977 1545.82 865.806 1543.66 Q867.658 1541.49 867.658 1537.76 Q867.658 1534.01 865.806 1531.86 Q863.977 1529.7 860.829 1529.7 M870.112 1515.05 L870.112 1519.31 Q868.352 1518.48 866.547 1518.04 Q864.764 1517.6 863.005 1517.6 Q858.375 1517.6 855.922 1520.72 Q853.491 1523.85 853.144 1530.17 Q854.51 1528.15 856.57 1527.09 Q858.63 1526 861.107 1526 Q866.315 1526 869.324 1529.17 Q872.357 1532.32 872.357 1537.76 Q872.357 1543.08 869.209 1546.3 Q866.061 1549.52 860.829 1549.52 Q854.834 1549.52 851.663 1544.94 Q848.491 1540.33 848.491 1531.6 Q848.491 1523.41 852.38 1518.55 Q856.269 1513.66 862.82 1513.66 Q864.579 1513.66 866.362 1514.01 Q868.167 1514.36 870.112 1515.05 Z\" fill=\"#000000\" fill-rule=\"nonzero\" fill-opacity=\"1\" /><path clip-path=\"url(#clip490)\" d=\"M1240.71 1548.13 L1240.71 1543.87 Q1242.47 1544.7 1244.27 1545.14 Q1246.08 1545.58 1247.81 1545.58 Q1252.44 1545.58 1254.87 1542.48 Q1257.33 1539.36 1257.67 1533.01 Q1256.33 1535.01 1254.27 1536.07 Q1252.21 1537.13 1249.71 1537.13 Q1244.53 1537.13 1241.49 1534.01 Q1238.49 1530.86 1238.49 1525.42 Q1238.49 1520.1 1241.63 1516.88 Q1244.78 1513.66 1250.01 1513.66 Q1256.01 1513.66 1259.16 1518.27 Q1262.33 1522.85 1262.33 1531.6 Q1262.33 1539.77 1258.44 1544.66 Q1254.57 1549.52 1248.02 1549.52 Q1246.26 1549.52 1244.46 1549.17 Q1242.65 1548.82 1240.71 1548.13 M1250.01 1533.48 Q1253.16 1533.48 1254.99 1531.32 Q1256.84 1529.17 1256.84 1525.42 Q1256.84 1521.7 1254.99 1519.54 Q1253.16 1517.37 1250.01 1517.37 Q1246.86 1517.37 1245.01 1519.54 Q1243.18 1521.7 1243.18 1525.42 Q1243.18 1529.17 1245.01 1531.32 Q1246.86 1533.48 1250.01 1533.48 Z\" fill=\"#000000\" fill-rule=\"nonzero\" fill-opacity=\"1\" /><path clip-path=\"url(#clip490)\" d=\"M1615.87 1544.91 L1623.51 1544.91 L1623.51 1518.55 L1615.2 1520.21 L1615.2 1515.95 L1623.47 1514.29 L1628.14 1514.29 L1628.14 1544.91 L1635.78 1544.91 L1635.78 1548.85 L1615.87 1548.85 L1615.87 1544.91 Z\" fill=\"#000000\" fill-rule=\"nonzero\" fill-opacity=\"1\" /><path clip-path=\"url(#clip490)\" d=\"M1649.25 1544.91 L1665.57 1544.91 L1665.57 1548.85 L1643.63 1548.85 L1643.63 1544.91 Q1646.29 1542.16 1650.87 1537.53 Q1655.48 1532.88 1656.66 1531.53 Q1658.91 1529.01 1659.79 1527.27 Q1660.69 1525.51 1660.69 1523.82 Q1660.69 1521.07 1658.74 1519.33 Q1656.82 1517.6 1653.72 1517.6 Q1651.52 1517.6 1649.07 1518.36 Q1646.64 1519.13 1643.86 1520.68 L1643.86 1515.95 Q1646.68 1514.82 1649.14 1514.24 Q1651.59 1513.66 1653.63 1513.66 Q1659 1513.66 1662.19 1516.35 Q1665.39 1519.03 1665.39 1523.52 Q1665.39 1525.65 1664.58 1527.57 Q1663.79 1529.47 1661.68 1532.07 Q1661.11 1532.74 1658 1535.95 Q1654.9 1539.15 1649.25 1544.91 Z\" fill=\"#000000\" fill-rule=\"nonzero\" fill-opacity=\"1\" /><path clip-path=\"url(#clip490)\" d=\"M2005.56 1544.91 L2013.19 1544.91 L2013.19 1518.55 L2004.88 1520.21 L2004.88 1515.95 L2013.15 1514.29 L2017.82 1514.29 L2017.82 1544.91 L2025.46 1544.91 L2025.46 1548.85 L2005.56 1548.85 L2005.56 1544.91 Z\" fill=\"#000000\" fill-rule=\"nonzero\" fill-opacity=\"1\" /><path clip-path=\"url(#clip490)\" d=\"M2034.95 1514.29 L2053.31 1514.29 L2053.31 1518.22 L2039.24 1518.22 L2039.24 1526.7 Q2040.25 1526.35 2041.27 1526.19 Q2042.29 1526 2043.31 1526 Q2049.1 1526 2052.48 1529.17 Q2055.86 1532.34 2055.86 1537.76 Q2055.86 1543.34 2052.38 1546.44 Q2048.91 1549.52 2042.59 1549.52 Q2040.42 1549.52 2038.15 1549.15 Q2035.9 1548.78 2033.5 1548.04 L2033.5 1543.34 Q2035.58 1544.47 2037.8 1545.03 Q2040.02 1545.58 2042.5 1545.58 Q2046.5 1545.58 2048.84 1543.48 Q2051.18 1541.37 2051.18 1537.76 Q2051.18 1534.15 2048.84 1532.04 Q2046.5 1529.94 2042.5 1529.94 Q2040.63 1529.94 2038.75 1530.35 Q2036.9 1530.77 2034.95 1531.65 L2034.95 1514.29 Z\" fill=\"#000000\" fill-rule=\"nonzero\" fill-opacity=\"1\" /><polyline clip-path=\"url(#clip492)\" style=\"stroke:#000000; stroke-linecap:round; stroke-linejoin:round; stroke-width:2; stroke-opacity:0.1; fill:none\" points=\"148.057,1456.27 2352.76,1456.27 \"/>\n",
       "<polyline clip-path=\"url(#clip492)\" style=\"stroke:#000000; stroke-linecap:round; stroke-linejoin:round; stroke-width:2; stroke-opacity:0.1; fill:none\" points=\"148.057,1141.61 2352.76,1141.61 \"/>\n",
       "<polyline clip-path=\"url(#clip492)\" style=\"stroke:#000000; stroke-linecap:round; stroke-linejoin:round; stroke-width:2; stroke-opacity:0.1; fill:none\" points=\"148.057,826.942 2352.76,826.942 \"/>\n",
       "<polyline clip-path=\"url(#clip492)\" style=\"stroke:#000000; stroke-linecap:round; stroke-linejoin:round; stroke-width:2; stroke-opacity:0.1; fill:none\" points=\"148.057,512.276 2352.76,512.276 \"/>\n",
       "<polyline clip-path=\"url(#clip492)\" style=\"stroke:#000000; stroke-linecap:round; stroke-linejoin:round; stroke-width:2; stroke-opacity:0.1; fill:none\" points=\"148.057,197.61 2352.76,197.61 \"/>\n",
       "<polyline clip-path=\"url(#clip490)\" style=\"stroke:#000000; stroke-linecap:round; stroke-linejoin:round; stroke-width:4; stroke-opacity:1; fill:none\" points=\"148.057,1486.45 148.057,47.2441 \"/>\n",
       "<polyline clip-path=\"url(#clip490)\" style=\"stroke:#000000; stroke-linecap:round; stroke-linejoin:round; stroke-width:4; stroke-opacity:1; fill:none\" points=\"148.057,1456.27 166.954,1456.27 \"/>\n",
       "<polyline clip-path=\"url(#clip490)\" style=\"stroke:#000000; stroke-linecap:round; stroke-linejoin:round; stroke-width:4; stroke-opacity:1; fill:none\" points=\"148.057,1141.61 166.954,1141.61 \"/>\n",
       "<polyline clip-path=\"url(#clip490)\" style=\"stroke:#000000; stroke-linecap:round; stroke-linejoin:round; stroke-width:4; stroke-opacity:1; fill:none\" points=\"148.057,826.942 166.954,826.942 \"/>\n",
       "<polyline clip-path=\"url(#clip490)\" style=\"stroke:#000000; stroke-linecap:round; stroke-linejoin:round; stroke-width:4; stroke-opacity:1; fill:none\" points=\"148.057,512.276 166.954,512.276 \"/>\n",
       "<polyline clip-path=\"url(#clip490)\" style=\"stroke:#000000; stroke-linecap:round; stroke-linejoin:round; stroke-width:4; stroke-opacity:1; fill:none\" points=\"148.057,197.61 166.954,197.61 \"/>\n",
       "<path clip-path=\"url(#clip490)\" d=\"M50.9921 1456.72 L80.6679 1456.72 L80.6679 1460.66 L50.9921 1460.66 L50.9921 1456.72 Z\" fill=\"#000000\" fill-rule=\"nonzero\" fill-opacity=\"1\" /><path clip-path=\"url(#clip490)\" d=\"M104.927 1454.92 Q108.283 1455.64 110.158 1457.91 Q112.057 1460.17 112.057 1463.51 Q112.057 1468.62 108.538 1471.42 Q105.02 1474.22 98.5382 1474.22 Q96.3623 1474.22 94.0475 1473.78 Q91.7558 1473.37 89.3021 1472.51 L89.3021 1468 Q91.2465 1469.13 93.5613 1469.71 Q95.8761 1470.29 98.3993 1470.29 Q102.797 1470.29 105.089 1468.55 Q107.404 1466.82 107.404 1463.51 Q107.404 1460.45 105.251 1458.74 Q103.121 1457 99.3021 1457 L95.2743 1457 L95.2743 1453.16 L99.4872 1453.16 Q102.936 1453.16 104.765 1451.79 Q106.594 1450.41 106.594 1447.81 Q106.594 1445.15 104.696 1443.74 Q102.821 1442.3 99.3021 1442.3 Q97.3808 1442.3 95.1817 1442.72 Q92.9826 1443.14 90.3438 1444.02 L90.3438 1439.85 Q93.0058 1439.11 95.3206 1438.74 Q97.6585 1438.37 99.7187 1438.37 Q105.043 1438.37 108.145 1440.8 Q111.246 1443.21 111.246 1447.33 Q111.246 1450.2 109.603 1452.19 Q107.959 1454.16 104.927 1454.92 Z\" fill=\"#000000\" fill-rule=\"nonzero\" fill-opacity=\"1\" /><path clip-path=\"url(#clip490)\" d=\"M51.9412 1142.06 L81.617 1142.06 L81.617 1145.99 L51.9412 1145.99 L51.9412 1142.06 Z\" fill=\"#000000\" fill-rule=\"nonzero\" fill-opacity=\"1\" /><path clip-path=\"url(#clip490)\" d=\"M95.7373 1154.95 L112.057 1154.95 L112.057 1158.89 L90.1123 1158.89 L90.1123 1154.95 Q92.7743 1152.2 97.3576 1147.57 Q101.964 1142.92 103.145 1141.57 Q105.39 1139.05 106.27 1137.31 Q107.172 1135.55 107.172 1133.86 Q107.172 1131.11 105.228 1129.37 Q103.307 1127.64 100.205 1127.64 Q98.0058 1127.64 95.5521 1128.4 Q93.1215 1129.17 90.3438 1130.72 L90.3438 1125.99 Q93.1678 1124.86 95.6215 1124.28 Q98.0752 1123.7 100.112 1123.7 Q105.483 1123.7 108.677 1126.39 Q111.871 1129.07 111.871 1133.56 Q111.871 1135.69 111.061 1137.61 Q110.274 1139.51 108.168 1142.11 Q107.589 1142.78 104.487 1145.99 Q101.385 1149.19 95.7373 1154.95 Z\" fill=\"#000000\" fill-rule=\"nonzero\" fill-opacity=\"1\" /><path clip-path=\"url(#clip490)\" d=\"M51.5708 827.393 L81.2466 827.393 L81.2466 831.328 L51.5708 831.328 L51.5708 827.393 Z\" fill=\"#000000\" fill-rule=\"nonzero\" fill-opacity=\"1\" /><path clip-path=\"url(#clip490)\" d=\"M92.1493 840.287 L99.7882 840.287 L99.7882 813.921 L91.478 815.588 L91.478 811.328 L99.7419 809.662 L104.418 809.662 L104.418 840.287 L112.057 840.287 L112.057 844.222 L92.1493 844.222 L92.1493 840.287 Z\" fill=\"#000000\" fill-rule=\"nonzero\" fill-opacity=\"1\" /><path clip-path=\"url(#clip490)\" d=\"M100.112 498.075 Q96.5011 498.075 94.6724 501.64 Q92.8669 505.181 92.8669 512.311 Q92.8669 519.417 94.6724 522.982 Q96.5011 526.524 100.112 526.524 Q103.746 526.524 105.552 522.982 Q107.381 519.417 107.381 512.311 Q107.381 505.181 105.552 501.64 Q103.746 498.075 100.112 498.075 M100.112 494.371 Q105.922 494.371 108.978 498.977 Q112.057 503.561 112.057 512.311 Q112.057 521.038 108.978 525.644 Q105.922 530.227 100.112 530.227 Q94.3021 530.227 91.2234 525.644 Q88.1679 521.038 88.1679 512.311 Q88.1679 503.561 91.2234 498.977 Q94.3021 494.371 100.112 494.371 Z\" fill=\"#000000\" fill-rule=\"nonzero\" fill-opacity=\"1\" /><path clip-path=\"url(#clip490)\" d=\"M92.1493 210.955 L99.7882 210.955 L99.7882 184.589 L91.478 186.256 L91.478 181.997 L99.7419 180.33 L104.418 180.33 L104.418 210.955 L112.057 210.955 L112.057 214.89 L92.1493 214.89 L92.1493 210.955 Z\" fill=\"#000000\" fill-rule=\"nonzero\" fill-opacity=\"1\" /><circle clip-path=\"url(#clip492)\" cx=\"210.454\" cy=\"1445.72\" r=\"14.4\" fill=\"#009af9\" fill-rule=\"evenodd\" fill-opacity=\"1\" stroke=\"#000000\" stroke-opacity=\"1\" stroke-width=\"3.2\"/>\n",
       "<circle clip-path=\"url(#clip492)\" cx=\"340.448\" cy=\"1445.72\" r=\"14.4\" fill=\"#009af9\" fill-rule=\"evenodd\" fill-opacity=\"1\" stroke=\"#000000\" stroke-opacity=\"1\" stroke-width=\"3.2\"/>\n",
       "<circle clip-path=\"url(#clip492)\" cx=\"470.442\" cy=\"1445.72\" r=\"14.4\" fill=\"#009af9\" fill-rule=\"evenodd\" fill-opacity=\"1\" stroke=\"#000000\" stroke-opacity=\"1\" stroke-width=\"3.2\"/>\n",
       "<circle clip-path=\"url(#clip492)\" cx=\"600.436\" cy=\"1445.72\" r=\"14.4\" fill=\"#009af9\" fill-rule=\"evenodd\" fill-opacity=\"1\" stroke=\"#000000\" stroke-opacity=\"1\" stroke-width=\"3.2\"/>\n",
       "<circle clip-path=\"url(#clip492)\" cx=\"730.43\" cy=\"1445.72\" r=\"14.4\" fill=\"#009af9\" fill-rule=\"evenodd\" fill-opacity=\"1\" stroke=\"#000000\" stroke-opacity=\"1\" stroke-width=\"3.2\"/>\n",
       "<circle clip-path=\"url(#clip492)\" cx=\"860.424\" cy=\"796.14\" r=\"14.4\" fill=\"#009af9\" fill-rule=\"evenodd\" fill-opacity=\"1\" stroke=\"#000000\" stroke-opacity=\"1\" stroke-width=\"3.2\"/>\n",
       "<circle clip-path=\"url(#clip492)\" cx=\"990.418\" cy=\"796.14\" r=\"14.4\" fill=\"#009af9\" fill-rule=\"evenodd\" fill-opacity=\"1\" stroke=\"#000000\" stroke-opacity=\"1\" stroke-width=\"3.2\"/>\n",
       "<circle clip-path=\"url(#clip492)\" cx=\"1120.41\" cy=\"796.14\" r=\"14.4\" fill=\"#009af9\" fill-rule=\"evenodd\" fill-opacity=\"1\" stroke=\"#000000\" stroke-opacity=\"1\" stroke-width=\"3.2\"/>\n",
       "<circle clip-path=\"url(#clip492)\" cx=\"1250.41\" cy=\"796.14\" r=\"14.4\" fill=\"#009af9\" fill-rule=\"evenodd\" fill-opacity=\"1\" stroke=\"#000000\" stroke-opacity=\"1\" stroke-width=\"3.2\"/>\n",
       "<circle clip-path=\"url(#clip492)\" cx=\"1380.4\" cy=\"796.14\" r=\"14.4\" fill=\"#009af9\" fill-rule=\"evenodd\" fill-opacity=\"1\" stroke=\"#000000\" stroke-opacity=\"1\" stroke-width=\"3.2\"/>\n",
       "<circle clip-path=\"url(#clip492)\" cx=\"1510.39\" cy=\"632.468\" r=\"14.4\" fill=\"#009af9\" fill-rule=\"evenodd\" fill-opacity=\"1\" stroke=\"#000000\" stroke-opacity=\"1\" stroke-width=\"3.2\"/>\n",
       "<circle clip-path=\"url(#clip492)\" cx=\"1640.39\" cy=\"632.468\" r=\"14.4\" fill=\"#009af9\" fill-rule=\"evenodd\" fill-opacity=\"1\" stroke=\"#000000\" stroke-opacity=\"1\" stroke-width=\"3.2\"/>\n",
       "<circle clip-path=\"url(#clip492)\" cx=\"1770.38\" cy=\"632.468\" r=\"14.4\" fill=\"#009af9\" fill-rule=\"evenodd\" fill-opacity=\"1\" stroke=\"#000000\" stroke-opacity=\"1\" stroke-width=\"3.2\"/>\n",
       "<circle clip-path=\"url(#clip492)\" cx=\"1900.38\" cy=\"632.468\" r=\"14.4\" fill=\"#009af9\" fill-rule=\"evenodd\" fill-opacity=\"1\" stroke=\"#000000\" stroke-opacity=\"1\" stroke-width=\"3.2\"/>\n",
       "<circle clip-path=\"url(#clip492)\" cx=\"2030.37\" cy=\"632.468\" r=\"14.4\" fill=\"#009af9\" fill-rule=\"evenodd\" fill-opacity=\"1\" stroke=\"#000000\" stroke-opacity=\"1\" stroke-width=\"3.2\"/>\n",
       "<circle clip-path=\"url(#clip492)\" cx=\"2160.36\" cy=\"87.9763\" r=\"14.4\" fill=\"#009af9\" fill-rule=\"evenodd\" fill-opacity=\"1\" stroke=\"#000000\" stroke-opacity=\"1\" stroke-width=\"3.2\"/>\n",
       "<circle clip-path=\"url(#clip492)\" cx=\"2290.36\" cy=\"87.9763\" r=\"14.4\" fill=\"#009af9\" fill-rule=\"evenodd\" fill-opacity=\"1\" stroke=\"#000000\" stroke-opacity=\"1\" stroke-width=\"3.2\"/>\n",
       "<path clip-path=\"url(#clip490)\" d=\"M221.547 198.898 L494.447 198.898 L494.447 95.2176 L221.547 95.2176  Z\" fill=\"#ffffff\" fill-rule=\"evenodd\" fill-opacity=\"1\"/>\n",
       "<polyline clip-path=\"url(#clip490)\" style=\"stroke:#000000; stroke-linecap:round; stroke-linejoin:round; stroke-width:4; stroke-opacity:1; fill:none\" points=\"221.547,198.898 494.447,198.898 494.447,95.2176 221.547,95.2176 221.547,198.898 \"/>\n",
       "<circle clip-path=\"url(#clip490)\" cx=\"319.533\" cy=\"147.058\" r=\"20.48\" fill=\"#009af9\" fill-rule=\"evenodd\" fill-opacity=\"1\" stroke=\"#000000\" stroke-opacity=\"1\" stroke-width=\"4.55111\"/>\n",
       "<path clip-path=\"url(#clip490)\" d=\"M431.362 166.745 Q429.557 171.375 427.844 172.787 Q426.131 174.199 423.261 174.199 L419.858 174.199 L419.858 170.634 L422.358 170.634 Q424.117 170.634 425.089 169.8 Q426.061 168.967 427.242 165.865 L428.006 163.921 L417.52 138.412 L422.034 138.412 L430.136 158.689 L438.237 138.412 L442.751 138.412 L431.362 166.745 Z\" fill=\"#000000\" fill-rule=\"nonzero\" fill-opacity=\"1\" /><path clip-path=\"url(#clip490)\" d=\"M450.043 160.402 L457.682 160.402 L457.682 134.037 L449.372 135.703 L449.372 131.444 L457.635 129.778 L462.311 129.778 L462.311 160.402 L469.95 160.402 L469.95 164.338 L450.043 164.338 L450.043 160.402 Z\" fill=\"#000000\" fill-rule=\"nonzero\" fill-opacity=\"1\" /></svg>\n"
      ]
     },
     "execution_count": 282,
     "metadata": {},
     "output_type": "execute_result"
    }
   ],
   "source": [
    "scatter(EEA[1,1,:])#, ylimits=(-6,-4))"
   ]
  },
  {
   "cell_type": "markdown",
   "metadata": {},
   "source": [
    "### Projected Many Body Chern"
   ]
  },
  {
   "cell_type": "code",
   "execution_count": 283,
   "metadata": {},
   "outputs": [
    {
     "data": {
      "text/plain": [
       "3-element Vector{Any}:\n",
       " 1.0000000000000004 + 6.711959124541936e-16im\n",
       " 1.0000000000000002 + 4.4294265901893034e-16im\n",
       " -4.000000000000001 + 2.804863940227405e-16im"
      ]
     },
     "execution_count": 283,
     "metadata": {},
     "output_type": "execute_result"
    }
   ],
   "source": [
    "#bands = [[1,6], [7,15], [16,21]]\n",
    "#bands = [[1,3], [4,6]]\n",
    "#bands = [[1,3]]\n",
    "bands = [[1,5],[6,10],[11,15]]\n",
    "calc_chern_bands(UUA, bands)"
   ]
  },
  {
   "cell_type": "code",
   "execution_count": null,
   "metadata": {},
   "outputs": [],
   "source": []
  }
 ],
 "metadata": {
  "kernelspec": {
   "display_name": "Julia 1.8.5",
   "language": "julia",
   "name": "julia-1.8"
  },
  "language_info": {
   "file_extension": ".jl",
   "mimetype": "application/julia",
   "name": "julia",
   "version": "1.8.5"
  }
 },
 "nbformat": 4,
 "nbformat_minor": 5
}
