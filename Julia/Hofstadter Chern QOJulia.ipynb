{
 "cells": [
  {
   "cell_type": "markdown",
   "metadata": {},
   "source": [
    "Many-Body Chern Number without Integration\n",
    "\n",
    "Koji Kudo, Haruki Watanabe, Toshikaze Kariyado, and Yasuhiro Hatsugai\n",
    "\n",
    "Phys. Rev. Lett. 122, 146601 – Published 9 April 2019\n",
    "\n",
    "https://journals.aps.org/prl/abstract/10.1103/PhysRevLett.122.146601"
   ]
  },
  {
   "cell_type": "code",
   "execution_count": 368,
   "metadata": {},
   "outputs": [
    {
     "data": {
      "text/plain": [
       "calc_all_states_H_mb_2 (generic function with 2 methods)"
      ]
     },
     "execution_count": 368,
     "metadata": {},
     "output_type": "execute_result"
    }
   ],
   "source": [
    "using QuantumOptics\n",
    "using NBInclude\n",
    "@nbinclude(\"Lattice_Basis_Neighbors_Hops.ipynb\"; regex=r\"#.*executeme\")\n",
    "@nbinclude(\"QOJulia_utils.ipynb\")\n",
    "@nbinclude(\"Chern_utils.ipynb\")"
   ]
  },
  {
   "cell_type": "markdown",
   "metadata": {},
   "source": [
    "# Parameters"
   ]
  },
  {
   "cell_type": "code",
   "execution_count": 87,
   "metadata": {},
   "outputs": [],
   "source": [
    "param_dict=Dict{}()\n",
    "\n",
    "LL = [3, 3]\n",
    "N = LL[1]*LL[2]\n",
    "vv_lattice = [ [1., 0], [0, 1.] ]\n",
    "b1=[0, 0]\n",
    "vv_basis = [b1]\n",
    "\n",
    "param_dict[\"LL\"] = LL\n",
    "param_dict[\"vv_lattice\"] = vv_lattice\n",
    "param_dict[\"vv_basis\"] = vv_basis\n",
    "\n",
    "nb = 1\n",
    "t=-1\n",
    "p=1\n",
    "q=3\n",
    "ϕ=p/q\n",
    "param_dict[\"gauge\"] = \"Landau\"\n",
    "param_dict[\"t\"]=t\n",
    "param_dict[\"ϕ\"]=ϕ\n",
    "θθ = [0, 0]\n",
    "param_dict[\"θθ\"]=θθ\n",
    "\n",
    "sites, site_coord, site_number = get_sites(LL, vv_lattice, vv_basis);\n",
    "param_dict[\"sites\"] = sites\n",
    "param_dict[\"site_coord\"] = site_coord\n",
    "param_dict[\"site_number\"] = site_number;\n",
    "\n",
    "pbc=true\n",
    "param_dict[\"pbc\"] = pbc;\n",
    "neighbors = [ [1, 0, 1], [-1, 0, 1], [0, 1, 1], [0, -1, 1]  ];\n",
    "neighbors_list = [ neighbors ];\n",
    "param_dict[\"neighbors_list\"] = neighbors_list;\n",
    "\n",
    "N1 = 20\n",
    "N2 = 20\n",
    "dx=2*pi/N1\n",
    "dy=dx\n",
    "Tx=collect(range(start=0, stop=2*pi-dx, step=dx))\n",
    "Ty=collect(range(start=0, stop=2*pi-dy, step=dy));\n",
    "\n",
    "param_dict[\"Tx\"] = Tx;\n",
    "param_dict[\"Ty\"] = Ty;"
   ]
  },
  {
   "cell_type": "markdown",
   "metadata": {},
   "source": [
    "# Single Particle"
   ]
  },
  {
   "cell_type": "code",
   "execution_count": 88,
   "metadata": {},
   "outputs": [],
   "source": [
    "basis = NLevelBasis(N) \n",
    "param_dict[\"basis\"] = basis;"
   ]
  },
  {
   "cell_type": "code",
   "execution_count": 89,
   "metadata": {},
   "outputs": [],
   "source": [
    "param_dict[\"model_H1\"] = get_Hofstadter_hamiltonian\n",
    "H_T = get_Hofstadter_hamiltonian(param_dict);\n",
    "\n",
    "H1 = get_sp_op(basis, H_T);\n",
    "\n",
    "EE, UU = eigenstates(dense(H1));"
   ]
  },
  {
   "cell_type": "markdown",
   "metadata": {},
   "source": [
    "### Single Particle Chern"
   ]
  },
  {
   "cell_type": "code",
   "execution_count": 90,
   "metadata": {},
   "outputs": [],
   "source": [
    "param_dict[\"param_1\"] = \"Tx\"\n",
    "param_dict[\"param_2\"] = \"Ty\"\n",
    "EEA, UUA = calc_all_states_H1(param_dict);"
   ]
  },
  {
   "cell_type": "code",
   "execution_count": 91,
   "metadata": {},
   "outputs": [
    {
     "data": {
      "image/svg+xml": [
       "<?xml version=\"1.0\" encoding=\"utf-8\"?>\n",
       "<svg xmlns=\"http://www.w3.org/2000/svg\" xmlns:xlink=\"http://www.w3.org/1999/xlink\" width=\"600\" height=\"400\" viewBox=\"0 0 2400 1600\">\n",
       "<defs>\n",
       "  <clipPath id=\"clip740\">\n",
       "    <rect x=\"0\" y=\"0\" width=\"2400\" height=\"1600\"/>\n",
       "  </clipPath>\n",
       "</defs>\n",
       "<path clip-path=\"url(#clip740)\" d=\"M0 1600 L2400 1600 L2400 0 L0 0  Z\" fill=\"#ffffff\" fill-rule=\"evenodd\" fill-opacity=\"1\"/>\n",
       "<defs>\n",
       "  <clipPath id=\"clip741\">\n",
       "    <rect x=\"480\" y=\"0\" width=\"1681\" height=\"1600\"/>\n",
       "  </clipPath>\n",
       "</defs>\n",
       "<path clip-path=\"url(#clip740)\" d=\"M147.478 1486.45 L2352.76 1486.45 L2352.76 47.2441 L147.478 47.2441  Z\" fill=\"#ffffff\" fill-rule=\"evenodd\" fill-opacity=\"1\"/>\n",
       "<defs>\n",
       "  <clipPath id=\"clip742\">\n",
       "    <rect x=\"147\" y=\"47\" width=\"2206\" height=\"1440\"/>\n",
       "  </clipPath>\n",
       "</defs>\n",
       "<polyline clip-path=\"url(#clip742)\" style=\"stroke:#000000; stroke-linecap:round; stroke-linejoin:round; stroke-width:2; stroke-opacity:0.1; fill:none\" points=\"469.948,1486.45 469.948,47.2441 \"/>\n",
       "<polyline clip-path=\"url(#clip742)\" style=\"stroke:#000000; stroke-linecap:round; stroke-linejoin:round; stroke-width:2; stroke-opacity:0.1; fill:none\" points=\"990.061,1486.45 990.061,47.2441 \"/>\n",
       "<polyline clip-path=\"url(#clip742)\" style=\"stroke:#000000; stroke-linecap:round; stroke-linejoin:round; stroke-width:2; stroke-opacity:0.1; fill:none\" points=\"1510.17,1486.45 1510.17,47.2441 \"/>\n",
       "<polyline clip-path=\"url(#clip742)\" style=\"stroke:#000000; stroke-linecap:round; stroke-linejoin:round; stroke-width:2; stroke-opacity:0.1; fill:none\" points=\"2030.29,1486.45 2030.29,47.2441 \"/>\n",
       "<polyline clip-path=\"url(#clip740)\" style=\"stroke:#000000; stroke-linecap:round; stroke-linejoin:round; stroke-width:4; stroke-opacity:1; fill:none\" points=\"147.478,1486.45 2352.76,1486.45 \"/>\n",
       "<polyline clip-path=\"url(#clip740)\" style=\"stroke:#000000; stroke-linecap:round; stroke-linejoin:round; stroke-width:4; stroke-opacity:1; fill:none\" points=\"469.948,1486.45 469.948,1467.55 \"/>\n",
       "<polyline clip-path=\"url(#clip740)\" style=\"stroke:#000000; stroke-linecap:round; stroke-linejoin:round; stroke-width:4; stroke-opacity:1; fill:none\" points=\"990.061,1486.45 990.061,1467.55 \"/>\n",
       "<polyline clip-path=\"url(#clip740)\" style=\"stroke:#000000; stroke-linecap:round; stroke-linejoin:round; stroke-width:4; stroke-opacity:1; fill:none\" points=\"1510.17,1486.45 1510.17,1467.55 \"/>\n",
       "<polyline clip-path=\"url(#clip740)\" style=\"stroke:#000000; stroke-linecap:round; stroke-linejoin:round; stroke-width:4; stroke-opacity:1; fill:none\" points=\"2030.29,1486.45 2030.29,1467.55 \"/>\n",
       "<path clip-path=\"url(#clip740)\" d=\"M464.601 1544.91 L480.92 1544.91 L480.92 1548.85 L458.976 1548.85 L458.976 1544.91 Q461.638 1542.16 466.221 1537.53 Q470.827 1532.88 472.008 1531.53 Q474.253 1529.01 475.133 1527.27 Q476.036 1525.51 476.036 1523.82 Q476.036 1521.07 474.091 1519.33 Q472.17 1517.6 469.068 1517.6 Q466.869 1517.6 464.415 1518.36 Q461.985 1519.13 459.207 1520.68 L459.207 1515.95 Q462.031 1514.82 464.485 1514.24 Q466.939 1513.66 468.976 1513.66 Q474.346 1513.66 477.54 1516.35 Q480.735 1519.03 480.735 1523.52 Q480.735 1525.65 479.925 1527.57 Q479.138 1529.47 477.031 1532.07 Q476.452 1532.74 473.351 1535.95 Q470.249 1539.15 464.601 1544.91 Z\" fill=\"#000000\" fill-rule=\"nonzero\" fill-opacity=\"1\" /><path clip-path=\"url(#clip740)\" d=\"M993.07 1518.36 L981.264 1536.81 L993.07 1536.81 L993.07 1518.36 M991.843 1514.29 L997.723 1514.29 L997.723 1536.81 L1002.65 1536.81 L1002.65 1540.7 L997.723 1540.7 L997.723 1548.85 L993.07 1548.85 L993.07 1540.7 L977.468 1540.7 L977.468 1536.19 L991.843 1514.29 Z\" fill=\"#000000\" fill-rule=\"nonzero\" fill-opacity=\"1\" /><path clip-path=\"url(#clip740)\" d=\"M1510.58 1529.7 Q1507.43 1529.7 1505.58 1531.86 Q1503.75 1534.01 1503.75 1537.76 Q1503.75 1541.49 1505.58 1543.66 Q1507.43 1545.82 1510.58 1545.82 Q1513.73 1545.82 1515.56 1543.66 Q1517.41 1541.49 1517.41 1537.76 Q1517.41 1534.01 1515.56 1531.86 Q1513.73 1529.7 1510.58 1529.7 M1519.86 1515.05 L1519.86 1519.31 Q1518.1 1518.48 1516.3 1518.04 Q1514.51 1517.6 1512.75 1517.6 Q1508.12 1517.6 1505.67 1520.72 Q1503.24 1523.85 1502.89 1530.17 Q1504.26 1528.15 1506.32 1527.09 Q1508.38 1526 1510.86 1526 Q1516.06 1526 1519.07 1529.17 Q1522.11 1532.32 1522.11 1537.76 Q1522.11 1543.08 1518.96 1546.3 Q1515.81 1549.52 1510.58 1549.52 Q1504.58 1549.52 1501.41 1544.94 Q1498.24 1540.33 1498.24 1531.6 Q1498.24 1523.41 1502.13 1518.55 Q1506.02 1513.66 1512.57 1513.66 Q1514.33 1513.66 1516.11 1514.01 Q1517.92 1514.36 1519.86 1515.05 Z\" fill=\"#000000\" fill-rule=\"nonzero\" fill-opacity=\"1\" /><path clip-path=\"url(#clip740)\" d=\"M2030.29 1532.44 Q2026.95 1532.44 2025.03 1534.22 Q2023.13 1536 2023.13 1539.13 Q2023.13 1542.25 2025.03 1544.03 Q2026.95 1545.82 2030.29 1545.82 Q2033.62 1545.82 2035.54 1544.03 Q2037.46 1542.23 2037.46 1539.13 Q2037.46 1536 2035.54 1534.22 Q2033.64 1532.44 2030.29 1532.44 M2025.61 1530.45 Q2022.6 1529.7 2020.91 1527.64 Q2019.24 1525.58 2019.24 1522.62 Q2019.24 1518.48 2022.18 1516.07 Q2025.15 1513.66 2030.29 1513.66 Q2035.45 1513.66 2038.39 1516.07 Q2041.33 1518.48 2041.33 1522.62 Q2041.33 1525.58 2039.64 1527.64 Q2037.97 1529.7 2034.99 1530.45 Q2038.36 1531.23 2040.24 1533.52 Q2042.14 1535.82 2042.14 1539.13 Q2042.14 1544.15 2039.06 1546.83 Q2036 1549.52 2030.29 1549.52 Q2024.57 1549.52 2021.49 1546.83 Q2018.43 1544.15 2018.43 1539.13 Q2018.43 1535.82 2020.33 1533.52 Q2022.23 1531.23 2025.61 1530.45 M2023.9 1523.06 Q2023.9 1525.75 2025.56 1527.25 Q2027.25 1528.76 2030.29 1528.76 Q2033.3 1528.76 2034.99 1527.25 Q2036.7 1525.75 2036.7 1523.06 Q2036.7 1520.38 2034.99 1518.87 Q2033.3 1517.37 2030.29 1517.37 Q2027.25 1517.37 2025.56 1518.87 Q2023.9 1520.38 2023.9 1523.06 Z\" fill=\"#000000\" fill-rule=\"nonzero\" fill-opacity=\"1\" /><polyline clip-path=\"url(#clip742)\" style=\"stroke:#000000; stroke-linecap:round; stroke-linejoin:round; stroke-width:2; stroke-opacity:0.1; fill:none\" points=\"147.478,1235.67 2352.76,1235.67 \"/>\n",
       "<polyline clip-path=\"url(#clip742)\" style=\"stroke:#000000; stroke-linecap:round; stroke-linejoin:round; stroke-width:2; stroke-opacity:0.1; fill:none\" points=\"147.478,948.749 2352.76,948.749 \"/>\n",
       "<polyline clip-path=\"url(#clip742)\" style=\"stroke:#000000; stroke-linecap:round; stroke-linejoin:round; stroke-width:2; stroke-opacity:0.1; fill:none\" points=\"147.478,661.824 2352.76,661.824 \"/>\n",
       "<polyline clip-path=\"url(#clip742)\" style=\"stroke:#000000; stroke-linecap:round; stroke-linejoin:round; stroke-width:2; stroke-opacity:0.1; fill:none\" points=\"147.478,374.9 2352.76,374.9 \"/>\n",
       "<polyline clip-path=\"url(#clip742)\" style=\"stroke:#000000; stroke-linecap:round; stroke-linejoin:round; stroke-width:2; stroke-opacity:0.1; fill:none\" points=\"147.478,87.9763 2352.76,87.9763 \"/>\n",
       "<polyline clip-path=\"url(#clip740)\" style=\"stroke:#000000; stroke-linecap:round; stroke-linejoin:round; stroke-width:4; stroke-opacity:1; fill:none\" points=\"147.478,1486.45 147.478,47.2441 \"/>\n",
       "<polyline clip-path=\"url(#clip740)\" style=\"stroke:#000000; stroke-linecap:round; stroke-linejoin:round; stroke-width:4; stroke-opacity:1; fill:none\" points=\"147.478,1235.67 166.376,1235.67 \"/>\n",
       "<polyline clip-path=\"url(#clip740)\" style=\"stroke:#000000; stroke-linecap:round; stroke-linejoin:round; stroke-width:4; stroke-opacity:1; fill:none\" points=\"147.478,948.749 166.376,948.749 \"/>\n",
       "<polyline clip-path=\"url(#clip740)\" style=\"stroke:#000000; stroke-linecap:round; stroke-linejoin:round; stroke-width:4; stroke-opacity:1; fill:none\" points=\"147.478,661.824 166.376,661.824 \"/>\n",
       "<polyline clip-path=\"url(#clip740)\" style=\"stroke:#000000; stroke-linecap:round; stroke-linejoin:round; stroke-width:4; stroke-opacity:1; fill:none\" points=\"147.478,374.9 166.376,374.9 \"/>\n",
       "<polyline clip-path=\"url(#clip740)\" style=\"stroke:#000000; stroke-linecap:round; stroke-linejoin:round; stroke-width:4; stroke-opacity:1; fill:none\" points=\"147.478,87.9763 166.376,87.9763 \"/>\n",
       "<path clip-path=\"url(#clip740)\" d=\"M51.3625 1236.12 L81.0383 1236.12 L81.0383 1240.06 L51.3625 1240.06 L51.3625 1236.12 Z\" fill=\"#000000\" fill-rule=\"nonzero\" fill-opacity=\"1\" /><path clip-path=\"url(#clip740)\" d=\"M95.1586 1249.02 L111.478 1249.02 L111.478 1252.95 L89.5336 1252.95 L89.5336 1249.02 Q92.1956 1246.26 96.7789 1241.63 Q101.385 1236.98 102.566 1235.64 Q104.811 1233.11 105.691 1231.38 Q106.594 1229.62 106.594 1227.93 Q106.594 1225.18 104.649 1223.44 Q102.728 1221.7 99.6261 1221.7 Q97.4271 1221.7 94.9734 1222.47 Q92.5428 1223.23 89.7651 1224.78 L89.7651 1220.06 Q92.5891 1218.93 95.0428 1218.35 Q97.4965 1217.77 99.5335 1217.77 Q104.904 1217.77 108.098 1220.45 Q111.293 1223.14 111.293 1227.63 Q111.293 1229.76 110.483 1231.68 Q109.696 1233.58 107.589 1236.17 Q107.01 1236.84 103.909 1240.06 Q100.807 1243.25 95.1586 1249.02 Z\" fill=\"#000000\" fill-rule=\"nonzero\" fill-opacity=\"1\" /><path clip-path=\"url(#clip740)\" d=\"M50.9921 949.2 L80.6679 949.2 L80.6679 953.135 L50.9921 953.135 L50.9921 949.2 Z\" fill=\"#000000\" fill-rule=\"nonzero\" fill-opacity=\"1\" /><path clip-path=\"url(#clip740)\" d=\"M91.5706 962.093 L99.2095 962.093 L99.2095 935.728 L90.8993 937.394 L90.8993 933.135 L99.1632 931.469 L103.839 931.469 L103.839 962.093 L111.478 962.093 L111.478 966.029 L91.5706 966.029 L91.5706 962.093 Z\" fill=\"#000000\" fill-rule=\"nonzero\" fill-opacity=\"1\" /><path clip-path=\"url(#clip740)\" d=\"M99.5335 647.623 Q95.9224 647.623 94.0937 651.188 Q92.2882 654.73 92.2882 661.859 Q92.2882 668.966 94.0937 672.53 Q95.9224 676.072 99.5335 676.072 Q103.168 676.072 104.973 672.53 Q106.802 668.966 106.802 661.859 Q106.802 654.73 104.973 651.188 Q103.168 647.623 99.5335 647.623 M99.5335 643.919 Q105.344 643.919 108.399 648.526 Q111.478 653.109 111.478 661.859 Q111.478 670.586 108.399 675.192 Q105.344 679.776 99.5335 679.776 Q93.7234 679.776 90.6447 675.192 Q87.5892 670.586 87.5892 661.859 Q87.5892 653.109 90.6447 648.526 Q93.7234 643.919 99.5335 643.919 Z\" fill=\"#000000\" fill-rule=\"nonzero\" fill-opacity=\"1\" /><path clip-path=\"url(#clip740)\" d=\"M91.5706 388.245 L99.2095 388.245 L99.2095 361.88 L90.8993 363.546 L90.8993 359.287 L99.1632 357.62 L103.839 357.62 L103.839 388.245 L111.478 388.245 L111.478 392.18 L91.5706 392.18 L91.5706 388.245 Z\" fill=\"#000000\" fill-rule=\"nonzero\" fill-opacity=\"1\" /><path clip-path=\"url(#clip740)\" d=\"M95.1586 101.321 L111.478 101.321 L111.478 105.256 L89.5336 105.256 L89.5336 101.321 Q92.1956 98.5665 96.7789 93.9369 Q101.385 89.2841 102.566 87.9416 Q104.811 85.4184 105.691 83.6823 Q106.594 81.9231 106.594 80.2333 Q106.594 77.4786 104.649 75.7425 Q102.728 74.0064 99.6261 74.0064 Q97.4271 74.0064 94.9734 74.7703 Q92.5428 75.5342 89.7651 77.0851 L89.7651 72.3629 Q92.5891 71.2287 95.0428 70.65 Q97.4965 70.0713 99.5335 70.0713 Q104.904 70.0713 108.098 72.7565 Q111.293 75.4416 111.293 79.9323 Q111.293 82.062 110.483 83.9832 Q109.696 85.8814 107.589 88.474 Q107.01 89.1453 103.909 92.3628 Q100.807 95.5573 95.1586 101.321 Z\" fill=\"#000000\" fill-rule=\"nonzero\" fill-opacity=\"1\" /><circle clip-path=\"url(#clip742)\" cx=\"209.891\" cy=\"1445.72\" r=\"14.4\" fill=\"#009af9\" fill-rule=\"evenodd\" fill-opacity=\"1\" stroke=\"#000000\" stroke-opacity=\"1\" stroke-width=\"3.2\"/>\n",
       "<circle clip-path=\"url(#clip742)\" cx=\"469.948\" cy=\"1445.72\" r=\"14.4\" fill=\"#009af9\" fill-rule=\"evenodd\" fill-opacity=\"1\" stroke=\"#000000\" stroke-opacity=\"1\" stroke-width=\"3.2\"/>\n",
       "<circle clip-path=\"url(#clip742)\" cx=\"730.004\" cy=\"1445.72\" r=\"14.4\" fill=\"#009af9\" fill-rule=\"evenodd\" fill-opacity=\"1\" stroke=\"#000000\" stroke-opacity=\"1\" stroke-width=\"3.2\"/>\n",
       "<circle clip-path=\"url(#clip742)\" cx=\"990.061\" cy=\"451.781\" r=\"14.4\" fill=\"#009af9\" fill-rule=\"evenodd\" fill-opacity=\"1\" stroke=\"#000000\" stroke-opacity=\"1\" stroke-width=\"3.2\"/>\n",
       "<circle clip-path=\"url(#clip742)\" cx=\"1250.12\" cy=\"451.781\" r=\"14.4\" fill=\"#009af9\" fill-rule=\"evenodd\" fill-opacity=\"1\" stroke=\"#000000\" stroke-opacity=\"1\" stroke-width=\"3.2\"/>\n",
       "<circle clip-path=\"url(#clip742)\" cx=\"1510.17\" cy=\"451.781\" r=\"14.4\" fill=\"#009af9\" fill-rule=\"evenodd\" fill-opacity=\"1\" stroke=\"#000000\" stroke-opacity=\"1\" stroke-width=\"3.2\"/>\n",
       "<circle clip-path=\"url(#clip742)\" cx=\"1770.23\" cy=\"87.9763\" r=\"14.4\" fill=\"#009af9\" fill-rule=\"evenodd\" fill-opacity=\"1\" stroke=\"#000000\" stroke-opacity=\"1\" stroke-width=\"3.2\"/>\n",
       "<circle clip-path=\"url(#clip742)\" cx=\"2030.29\" cy=\"87.9763\" r=\"14.4\" fill=\"#009af9\" fill-rule=\"evenodd\" fill-opacity=\"1\" stroke=\"#000000\" stroke-opacity=\"1\" stroke-width=\"3.2\"/>\n",
       "<circle clip-path=\"url(#clip742)\" cx=\"2290.34\" cy=\"87.9763\" r=\"14.4\" fill=\"#009af9\" fill-rule=\"evenodd\" fill-opacity=\"1\" stroke=\"#000000\" stroke-opacity=\"1\" stroke-width=\"3.2\"/>\n",
       "<path clip-path=\"url(#clip740)\" d=\"M220.987 198.898 L493.945 198.898 L493.945 95.2176 L220.987 95.2176  Z\" fill=\"#ffffff\" fill-rule=\"evenodd\" fill-opacity=\"1\"/>\n",
       "<polyline clip-path=\"url(#clip740)\" style=\"stroke:#000000; stroke-linecap:round; stroke-linejoin:round; stroke-width:4; stroke-opacity:1; fill:none\" points=\"220.987,198.898 493.945,198.898 493.945,95.2176 220.987,95.2176 220.987,198.898 \"/>\n",
       "<circle clip-path=\"url(#clip740)\" cx=\"319\" cy=\"147.058\" r=\"20.48\" fill=\"#009af9\" fill-rule=\"evenodd\" fill-opacity=\"1\" stroke=\"#000000\" stroke-opacity=\"1\" stroke-width=\"4.55111\"/>\n",
       "<path clip-path=\"url(#clip740)\" d=\"M430.854 166.745 Q429.049 171.375 427.336 172.787 Q425.623 174.199 422.753 174.199 L419.35 174.199 L419.35 170.634 L421.85 170.634 Q423.609 170.634 424.581 169.8 Q425.554 168.967 426.734 165.865 L427.498 163.921 L417.012 138.412 L421.526 138.412 L429.628 158.689 L437.729 138.412 L442.243 138.412 L430.854 166.745 Z\" fill=\"#000000\" fill-rule=\"nonzero\" fill-opacity=\"1\" /><path clip-path=\"url(#clip740)\" d=\"M449.535 160.402 L457.174 160.402 L457.174 134.037 L448.864 135.703 L448.864 131.444 L457.127 129.778 L461.803 129.778 L461.803 160.402 L469.442 160.402 L469.442 164.338 L449.535 164.338 L449.535 160.402 Z\" fill=\"#000000\" fill-rule=\"nonzero\" fill-opacity=\"1\" /></svg>\n"
      ]
     },
     "execution_count": 91,
     "metadata": {},
     "output_type": "execute_result"
    }
   ],
   "source": [
    "using Plots\n",
    "scatter(real(EEA[1,1,:]))"
   ]
  },
  {
   "cell_type": "code",
   "execution_count": 93,
   "metadata": {},
   "outputs": [
    {
     "data": {
      "text/plain": [
       "3-element Vector{Any}:\n",
       "  0.9999999999999999 + 1.0505055731200461e-16im\n",
       " -2.0000000000000004 - 2.390937807419615e-16im\n",
       "  1.0000000000000002 - 5.312134888481961e-16im"
      ]
     },
     "execution_count": 93,
     "metadata": {},
     "output_type": "execute_result"
    }
   ],
   "source": [
    "bands = [[1,3],[4,6],[7,9]]\n",
    "#bands = [[1,5],[6,10],[11,15],[16,20],[21,25]]\n",
    "Chern, F12list = calc_chern_bands(UUA, bands);\n",
    "Chern"
   ]
  },
  {
   "cell_type": "code",
   "execution_count": 94,
   "metadata": {},
   "outputs": [
    {
     "data": {
      "image/svg+xml": [
       "<?xml version=\"1.0\" encoding=\"utf-8\"?>\n",
       "<svg xmlns=\"http://www.w3.org/2000/svg\" xmlns:xlink=\"http://www.w3.org/1999/xlink\" width=\"600\" height=\"400\" viewBox=\"0 0 2400 1600\">\n",
       "<defs>\n",
       "  <clipPath id=\"clip780\">\n",
       "    <rect x=\"0\" y=\"0\" width=\"2400\" height=\"1600\"/>\n",
       "  </clipPath>\n",
       "</defs>\n",
       "<path clip-path=\"url(#clip780)\" d=\"M0 1600 L2400 1600 L2400 0 L0 0  Z\" fill=\"#ffffff\" fill-rule=\"evenodd\" fill-opacity=\"1\"/>\n",
       "<defs>\n",
       "  <clipPath id=\"clip781\">\n",
       "    <rect x=\"480\" y=\"0\" width=\"1681\" height=\"1600\"/>\n",
       "  </clipPath>\n",
       "</defs>\n",
       "<path clip-path=\"url(#clip780)\" d=\"M112.177 1409.37 L2112.76 1409.37 L2112.76 124.324 L112.177 124.324  Z\" fill=\"#ffffff\" fill-rule=\"evenodd\" fill-opacity=\"1\"/>\n",
       "<defs>\n",
       "  <clipPath id=\"clip782\">\n",
       "    <rect x=\"112\" y=\"124\" width=\"2002\" height=\"1286\"/>\n",
       "  </clipPath>\n",
       "</defs>\n",
       "<polyline clip-path=\"url(#clip782)\" style=\"stroke:#000000; stroke-linecap:round; stroke-linejoin:round; stroke-width:2; stroke-opacity:0.1; fill:none\" points=\"502.071,1409.37 502.071,124.324 \"/>\n",
       "<polyline clip-path=\"url(#clip782)\" style=\"stroke:#000000; stroke-linecap:round; stroke-linejoin:round; stroke-width:2; stroke-opacity:0.1; fill:none\" points=\"911.113,1409.37 911.113,124.324 \"/>\n",
       "<polyline clip-path=\"url(#clip782)\" style=\"stroke:#000000; stroke-linecap:round; stroke-linejoin:round; stroke-width:2; stroke-opacity:0.1; fill:none\" points=\"1320.15,1409.37 1320.15,124.324 \"/>\n",
       "<polyline clip-path=\"url(#clip782)\" style=\"stroke:#000000; stroke-linecap:round; stroke-linejoin:round; stroke-width:2; stroke-opacity:0.1; fill:none\" points=\"1729.2,1409.37 1729.2,124.324 \"/>\n",
       "<polyline clip-path=\"url(#clip780)\" style=\"stroke:#000000; stroke-linecap:round; stroke-linejoin:round; stroke-width:4; stroke-opacity:1; fill:none\" points=\"112.177,1409.37 2112.76,1409.37 \"/>\n",
       "<polyline clip-path=\"url(#clip780)\" style=\"stroke:#000000; stroke-linecap:round; stroke-linejoin:round; stroke-width:4; stroke-opacity:1; fill:none\" points=\"502.071,1409.37 502.071,1392.49 \"/>\n",
       "<polyline clip-path=\"url(#clip780)\" style=\"stroke:#000000; stroke-linecap:round; stroke-linejoin:round; stroke-width:4; stroke-opacity:1; fill:none\" points=\"911.113,1409.37 911.113,1392.49 \"/>\n",
       "<polyline clip-path=\"url(#clip780)\" style=\"stroke:#000000; stroke-linecap:round; stroke-linejoin:round; stroke-width:4; stroke-opacity:1; fill:none\" points=\"1320.15,1409.37 1320.15,1392.49 \"/>\n",
       "<polyline clip-path=\"url(#clip780)\" style=\"stroke:#000000; stroke-linecap:round; stroke-linejoin:round; stroke-width:4; stroke-opacity:1; fill:none\" points=\"1729.2,1409.37 1729.2,1392.49 \"/>\n",
       "<path clip-path=\"url(#clip780)\" d=\"M502.071 1440.29 Q498.46 1440.29 496.631 1443.85 Q494.826 1447.39 494.826 1454.52 Q494.826 1461.63 496.631 1465.19 Q498.46 1468.74 502.071 1468.74 Q505.705 1468.74 507.511 1465.19 Q509.339 1461.63 509.339 1454.52 Q509.339 1447.39 507.511 1443.85 Q505.705 1440.29 502.071 1440.29 M502.071 1436.58 Q507.881 1436.58 510.937 1441.19 Q514.015 1445.77 514.015 1454.52 Q514.015 1463.25 510.937 1467.86 Q507.881 1472.44 502.071 1472.44 Q496.261 1472.44 493.182 1467.86 Q490.127 1463.25 490.127 1454.52 Q490.127 1445.77 493.182 1441.19 Q496.261 1436.58 502.071 1436.58 Z\" fill=\"#000000\" fill-rule=\"nonzero\" fill-opacity=\"1\" /><path clip-path=\"url(#clip780)\" d=\"M905.766 1467.83 L922.085 1467.83 L922.085 1471.77 L900.141 1471.77 L900.141 1467.83 Q902.803 1465.08 907.386 1460.45 Q911.993 1455.8 913.173 1454.45 Q915.419 1451.93 916.298 1450.19 Q917.201 1448.43 917.201 1446.74 Q917.201 1443.99 915.256 1442.25 Q913.335 1440.52 910.233 1440.52 Q908.034 1440.52 905.581 1441.28 Q903.15 1442.05 900.372 1443.6 L900.372 1438.87 Q903.196 1437.74 905.65 1437.16 Q908.104 1436.58 910.141 1436.58 Q915.511 1436.58 918.706 1439.27 Q921.9 1441.95 921.9 1446.44 Q921.9 1448.57 921.09 1450.49 Q920.303 1452.39 918.196 1454.99 Q917.618 1455.66 914.516 1458.87 Q911.414 1462.07 905.766 1467.83 Z\" fill=\"#000000\" fill-rule=\"nonzero\" fill-opacity=\"1\" /><path clip-path=\"url(#clip780)\" d=\"M1323.16 1441.28 L1311.36 1459.73 L1323.16 1459.73 L1323.16 1441.28 M1321.94 1437.21 L1327.82 1437.21 L1327.82 1459.73 L1332.75 1459.73 L1332.75 1463.62 L1327.82 1463.62 L1327.82 1471.77 L1323.16 1471.77 L1323.16 1463.62 L1307.56 1463.62 L1307.56 1459.11 L1321.94 1437.21 Z\" fill=\"#000000\" fill-rule=\"nonzero\" fill-opacity=\"1\" /><path clip-path=\"url(#clip780)\" d=\"M1729.6 1452.62 Q1726.45 1452.62 1724.6 1454.78 Q1722.77 1456.93 1722.77 1460.68 Q1722.77 1464.41 1724.6 1466.58 Q1726.45 1468.74 1729.6 1468.74 Q1732.75 1468.74 1734.58 1466.58 Q1736.43 1464.41 1736.43 1460.68 Q1736.43 1456.93 1734.58 1454.78 Q1732.75 1452.62 1729.6 1452.62 M1738.88 1437.97 L1738.88 1442.23 Q1737.13 1441.4 1735.32 1440.96 Q1733.54 1440.52 1731.78 1440.52 Q1727.15 1440.52 1724.69 1443.64 Q1722.26 1446.77 1721.92 1453.09 Q1723.28 1451.07 1725.34 1450.01 Q1727.4 1448.92 1729.88 1448.92 Q1735.09 1448.92 1738.1 1452.09 Q1741.13 1455.24 1741.13 1460.68 Q1741.13 1466 1737.98 1469.22 Q1734.83 1472.44 1729.6 1472.44 Q1723.61 1472.44 1720.44 1467.86 Q1717.26 1463.25 1717.26 1454.52 Q1717.26 1446.33 1721.15 1441.47 Q1725.04 1436.58 1731.59 1436.58 Q1733.35 1436.58 1735.13 1436.93 Q1736.94 1437.28 1738.88 1437.97 Z\" fill=\"#000000\" fill-rule=\"nonzero\" fill-opacity=\"1\" /><polyline clip-path=\"url(#clip782)\" style=\"stroke:#000000; stroke-linecap:round; stroke-linejoin:round; stroke-width:2; stroke-opacity:0.1; fill:none\" points=\"112.177,1377.24 2112.76,1377.24 \"/>\n",
       "<polyline clip-path=\"url(#clip782)\" style=\"stroke:#000000; stroke-linecap:round; stroke-linejoin:round; stroke-width:2; stroke-opacity:0.1; fill:none\" points=\"112.177,1172.72 2112.76,1172.72 \"/>\n",
       "<polyline clip-path=\"url(#clip782)\" style=\"stroke:#000000; stroke-linecap:round; stroke-linejoin:round; stroke-width:2; stroke-opacity:0.1; fill:none\" points=\"112.177,968.2 2112.76,968.2 \"/>\n",
       "<polyline clip-path=\"url(#clip782)\" style=\"stroke:#000000; stroke-linecap:round; stroke-linejoin:round; stroke-width:2; stroke-opacity:0.1; fill:none\" points=\"112.177,763.679 2112.76,763.679 \"/>\n",
       "<polyline clip-path=\"url(#clip782)\" style=\"stroke:#000000; stroke-linecap:round; stroke-linejoin:round; stroke-width:2; stroke-opacity:0.1; fill:none\" points=\"112.177,559.158 2112.76,559.158 \"/>\n",
       "<polyline clip-path=\"url(#clip782)\" style=\"stroke:#000000; stroke-linecap:round; stroke-linejoin:round; stroke-width:2; stroke-opacity:0.1; fill:none\" points=\"112.177,354.637 2112.76,354.637 \"/>\n",
       "<polyline clip-path=\"url(#clip782)\" style=\"stroke:#000000; stroke-linecap:round; stroke-linejoin:round; stroke-width:2; stroke-opacity:0.1; fill:none\" points=\"112.177,150.116 2112.76,150.116 \"/>\n",
       "<polyline clip-path=\"url(#clip780)\" style=\"stroke:#000000; stroke-linecap:round; stroke-linejoin:round; stroke-width:4; stroke-opacity:1; fill:none\" points=\"112.177,1409.37 112.177,124.324 \"/>\n",
       "<polyline clip-path=\"url(#clip780)\" style=\"stroke:#000000; stroke-linecap:round; stroke-linejoin:round; stroke-width:4; stroke-opacity:1; fill:none\" points=\"112.177,1377.24 129.051,1377.24 \"/>\n",
       "<polyline clip-path=\"url(#clip780)\" style=\"stroke:#000000; stroke-linecap:round; stroke-linejoin:round; stroke-width:4; stroke-opacity:1; fill:none\" points=\"112.177,1172.72 129.051,1172.72 \"/>\n",
       "<polyline clip-path=\"url(#clip780)\" style=\"stroke:#000000; stroke-linecap:round; stroke-linejoin:round; stroke-width:4; stroke-opacity:1; fill:none\" points=\"112.177,968.2 129.051,968.2 \"/>\n",
       "<polyline clip-path=\"url(#clip780)\" style=\"stroke:#000000; stroke-linecap:round; stroke-linejoin:round; stroke-width:4; stroke-opacity:1; fill:none\" points=\"112.177,763.679 129.051,763.679 \"/>\n",
       "<polyline clip-path=\"url(#clip780)\" style=\"stroke:#000000; stroke-linecap:round; stroke-linejoin:round; stroke-width:4; stroke-opacity:1; fill:none\" points=\"112.177,559.158 129.051,559.158 \"/>\n",
       "<polyline clip-path=\"url(#clip780)\" style=\"stroke:#000000; stroke-linecap:round; stroke-linejoin:round; stroke-width:4; stroke-opacity:1; fill:none\" points=\"112.177,354.637 129.051,354.637 \"/>\n",
       "<polyline clip-path=\"url(#clip780)\" style=\"stroke:#000000; stroke-linecap:round; stroke-linejoin:round; stroke-width:4; stroke-opacity:1; fill:none\" points=\"112.177,150.116 129.051,150.116 \"/>\n",
       "<path clip-path=\"url(#clip780)\" d=\"M64.2328 1363.04 Q60.6217 1363.04 58.793 1366.6 Q56.9875 1370.15 56.9875 1377.28 Q56.9875 1384.38 58.793 1387.95 Q60.6217 1391.49 64.2328 1391.49 Q67.867 1391.49 69.6726 1387.95 Q71.5013 1384.38 71.5013 1377.28 Q71.5013 1370.15 69.6726 1366.6 Q67.867 1363.04 64.2328 1363.04 M64.2328 1359.34 Q70.0429 1359.34 73.0985 1363.94 Q76.1772 1368.53 76.1772 1377.28 Q76.1772 1386 73.0985 1390.61 Q70.0429 1395.19 64.2328 1395.19 Q58.4226 1395.19 55.344 1390.61 Q52.2884 1386 52.2884 1377.28 Q52.2884 1368.53 55.344 1363.94 Q58.4226 1359.34 64.2328 1359.34 Z\" fill=\"#000000\" fill-rule=\"nonzero\" fill-opacity=\"1\" /><path clip-path=\"url(#clip780)\" d=\"M56.2699 1186.07 L63.9087 1186.07 L63.9087 1159.7 L55.5986 1161.37 L55.5986 1157.11 L63.8624 1155.44 L68.5383 1155.44 L68.5383 1186.07 L76.1772 1186.07 L76.1772 1190 L56.2699 1190 L56.2699 1186.07 Z\" fill=\"#000000\" fill-rule=\"nonzero\" fill-opacity=\"1\" /><path clip-path=\"url(#clip780)\" d=\"M59.8578 981.544 L76.1772 981.544 L76.1772 985.48 L54.2328 985.48 L54.2328 981.544 Q56.8949 978.79 61.4782 974.16 Q66.0846 969.507 67.2652 968.165 Q69.5105 965.642 70.3902 963.906 Q71.2929 962.146 71.2929 960.457 Q71.2929 957.702 69.3485 955.966 Q67.4272 954.23 64.3254 954.23 Q62.1263 954.23 59.6726 954.994 Q57.2421 955.757 54.4643 957.308 L54.4643 952.586 Q57.2884 951.452 59.7421 950.873 Q62.1958 950.295 64.2328 950.295 Q69.6031 950.295 72.7976 952.98 Q75.992 955.665 75.992 960.156 Q75.992 962.285 75.1818 964.207 Q74.3948 966.105 72.2883 968.697 Q71.7096 969.369 68.6078 972.586 Q65.5059 975.781 59.8578 981.544 Z\" fill=\"#000000\" fill-rule=\"nonzero\" fill-opacity=\"1\" /><path clip-path=\"url(#clip780)\" d=\"M69.0476 762.324 Q72.404 763.042 74.279 765.311 Q76.1772 767.579 76.1772 770.912 Q76.1772 776.028 72.6587 778.829 Q69.1402 781.63 62.6587 781.63 Q60.4828 781.63 58.168 781.19 Q55.8764 780.773 53.4227 779.917 L53.4227 775.403 Q55.3671 776.537 57.6819 777.116 Q59.9967 777.695 62.5198 777.695 Q66.918 777.695 69.2096 775.959 Q71.5244 774.222 71.5244 770.912 Q71.5244 767.857 69.3717 766.144 Q67.242 764.408 63.4226 764.408 L59.3949 764.408 L59.3949 760.565 L63.6078 760.565 Q67.0569 760.565 68.8855 759.199 Q70.7142 757.811 70.7142 755.218 Q70.7142 752.556 68.8161 751.144 Q66.9411 749.709 63.4226 749.709 Q61.5013 749.709 59.3023 750.125 Q57.1032 750.542 54.4643 751.422 L54.4643 747.255 Q57.1264 746.514 59.4412 746.144 Q61.7791 745.774 63.8393 745.774 Q69.1633 745.774 72.2652 748.204 Q75.367 750.612 75.367 754.732 Q75.367 757.602 73.7235 759.593 Q72.08 761.561 69.0476 762.324 Z\" fill=\"#000000\" fill-rule=\"nonzero\" fill-opacity=\"1\" /><path clip-path=\"url(#clip780)\" d=\"M66.5939 545.952 L54.7884 564.401 L66.5939 564.401 L66.5939 545.952 M65.367 541.878 L71.2466 541.878 L71.2466 564.401 L76.1772 564.401 L76.1772 568.289 L71.2466 568.289 L71.2466 576.438 L66.5939 576.438 L66.5939 568.289 L50.9921 568.289 L50.9921 563.776 L65.367 541.878 Z\" fill=\"#000000\" fill-rule=\"nonzero\" fill-opacity=\"1\" /><path clip-path=\"url(#clip780)\" d=\"M55.2745 337.357 L73.6309 337.357 L73.6309 341.292 L59.5569 341.292 L59.5569 349.764 Q60.5754 349.417 61.5939 349.255 Q62.6124 349.07 63.6309 349.07 Q69.418 349.07 72.7976 352.241 Q76.1772 355.412 76.1772 360.829 Q76.1772 366.407 72.705 369.509 Q69.2328 372.588 62.9134 372.588 Q60.7374 372.588 58.4689 372.218 Q56.2236 371.847 53.8162 371.106 L53.8162 366.407 Q55.8995 367.542 58.1217 368.097 Q60.3439 368.653 62.8208 368.653 Q66.8254 368.653 69.1633 366.546 Q71.5013 364.44 71.5013 360.829 Q71.5013 357.218 69.1633 355.111 Q66.8254 353.005 62.8208 353.005 Q60.9458 353.005 59.0708 353.421 Q57.2189 353.838 55.2745 354.718 L55.2745 337.357 Z\" fill=\"#000000\" fill-rule=\"nonzero\" fill-opacity=\"1\" /><path clip-path=\"url(#clip780)\" d=\"M64.6495 148.252 Q61.5013 148.252 59.6495 150.405 Q57.8208 152.558 57.8208 156.308 Q57.8208 160.035 59.6495 162.21 Q61.5013 164.363 64.6495 164.363 Q67.7976 164.363 69.6263 162.21 Q71.4781 160.035 71.4781 156.308 Q71.4781 152.558 69.6263 150.405 Q67.7976 148.252 64.6495 148.252 M73.9318 133.6 L73.9318 137.859 Q72.1726 137.025 70.367 136.586 Q68.5846 136.146 66.8254 136.146 Q62.1958 136.146 59.7421 139.271 Q57.3115 142.396 56.9643 148.715 Q58.33 146.701 60.3902 145.636 Q62.4504 144.549 64.9272 144.549 Q70.1355 144.549 73.1448 147.72 Q76.1772 150.868 76.1772 156.308 Q76.1772 161.632 73.029 164.849 Q69.8809 168.067 64.6495 168.067 Q58.6541 168.067 55.4828 163.484 Q52.3116 158.877 52.3116 150.15 Q52.3116 141.956 56.2004 137.095 Q60.0893 132.211 66.6402 132.211 Q68.3994 132.211 70.1818 132.558 Q71.9874 132.905 73.9318 133.6 Z\" fill=\"#000000\" fill-rule=\"nonzero\" fill-opacity=\"1\" /><g clip-path=\"url(#clip782)\">\n",
       "<image width=\"1285\" height=\"1285\" xlink:href=\"data:image/png;base64,\n",
       "iVBORw0KGgoAAAANSUhEUgAABQUAAAUFCAYAAACuAKUAAAAgAElEQVR4nOzaPa4c6XmG4a+aTXKE\n",
       "GckwJBuSB84cGsrsDTjSLrwKLcKrUOA9KFJkRQoFhZMMjNHYIxISycPh+elTn3fhV8B9XSt4qru6\n",
       "uuruPm77P/eK27/+5fSEUX/81ZfTE0b95g8/n54w6ndvPp+eMO6ru8fpCaO+Pf48PWHU++Pt9IRR\n",
       "9/tuesK4592+BtS9OF5NTxj12fHF9IRxP9o/np4w6mf7b6cnjPqnL9rXgH/9ycfpCeP+7Z9/Pz1h\n",
       "1D/8+zfTE0Ydv/iP6QmjLtMDAAAAAID/X6IgAAAAAMSIggAAAAAQIwoCAAAAQIwoCAAAAAAxoiAA\n",
       "AAAAxIiCAAAAABAjCgIAAABAjCgIAAAAADGiIAAAAADEiIIAAAAAECMKAgAAAECMKAgAAAAAMaIg\n",
       "AAAAAMSIggAAAAAQIwoCAAAAQIwoCAAAAAAxoiAAAAAAxIiCAAAAABAjCgIAAABAjCgIAAAAADGi\n",
       "IAAAAADEiIIAAAAAECMKAgAAAECMKAgAAAAAMaIgAAAAAMSIggAAAAAQIwoCAAAAQIwoCAAAAAAx\n",
       "oiAAAAAAxIiCAAAAABAjCgIAAABAjCgIAAAAADGiIAAAAADEiIIAAAAAECMKAgAAAECMKAgAAAAA\n",
       "MaIgAAAAAMSIggAAAAAQIwoCAAAAQIwoCAAAAAAxoiAAAAAAxIiCAAAAABAjCgIAAABAjCgIAAAA\n",
       "ADGiIAAAAADEiIIAAAAAECMKAgAAAECMKAgAAAAAMaIgAAAAAMSIggAAAAAQIwoCAAAAQIwoCAAA\n",
       "AAAxoiAAAAAAxIiCAAAAABAjCgIAAABAjCgIAAAAADGiIAAAAADEiIIAAAAAECMKAgAAAECMKAgA\n",
       "AAAAMaIgAAAAAMSIggAAAAAQIwoCAAAAQMx1//qX0xvGPfz2nJ4w6ptvfzo9YdSf7l9PTxj14Wl6\n",
       "wbxP+zY9YdTj5WF6wqjbah//836cnjDu3C6EdN2O9jVwrbUe46/Bp7N9H/Th6dX0hFH1Z6G1PA//\n",
       "+Lf/PT1h1OvVbmL+KQgAAAAAMaIgAAAAAMSIggAAAAAQIwoCAAAAQIwoCAAAAAAxoiAAAAAAxIiC\n",
       "AAAAABAjCgIAAABAjCgIAAAAADGiIAAAAADEiIIAAAAAECMKAgAAAECMKAgAAAAAMaIgAAAAAMSI\n",
       "ggAAAAAQIwoCAAAAQIwoCAAAAAAxoiAAAAAAxIiCAAAAABAjCgIAAABAjCgIAAAAADGiIAAAAADE\n",
       "iIIAAAAAECMKAgAAAECMKAgAAAAAMaIgAAAAAMSIggAAAAAQIwoCAAAAQIwoCAAAAAAxoiAAAAAA\n",
       "xIiCAAAAABAjCgIAAABAjCgIAAAAADGiIAAAAADEiIIAAAAAECMKAgAAAECMKAgAAAAAMaIgAAAA\n",
       "AMSIggAAAAAQIwoCAAAAQIwoCAAAAAAxoiAAAAAAxIiCAAAAABAjCgIAAABAjCgIAAAAADGiIAAA\n",
       "AADEiIIAAAAAECMKAgAAAECMKAgAAAAAMaIgAAAAAMSIggAAAAAQIwoCAAAAQIwoCAAAAAAxoiAA\n",
       "AAAAxIiCAAAAABAjCgIAAABAjCgIAAAAADGiIAAAAADEiIIAAAAAECMKAgAAAECMKAgAAAAAMaIg\n",
       "AAAAAMSIggAAAAAQc/3jr76c3jDum29/Oj1h1O+/+9n0hFFff7xOTxj15vE2PWHc+8vd9IRR36/3\n",
       "0xNGPZwfpyeMejo/TU8Yd27XwbLL4f2vu1xeTk8Y9f7y2fSEUW8eX01PGFV/Flprrb+JPw+v//qX\n",
       "6QWjvvzqf6YnjPJPQQAAAACIEQUBAAAAIEYUBAAAAIAYURAAAAAAYkRBAAAAAIgRBQEAAAAgRhQE\n",
       "AAAAgBhREAAAAABiREEAAAAAiBEFAQAAACBGFAQAAACAGFEQAAAAAGJEQQAAAACIEQUBAAAAIEYU\n",
       "BAAAAIAYURAAAAAAYkRBAAAAAIgRBQEAAAAgRhQEAAAAgBhREAAAAABiREEAAAAAiBEFAQAAACBG\n",
       "FAQAAACAGFEQAAAAAGJEQQAAAACIEQUBAAAAIEYUBAAAAIAYURAAAAAAYkRBAAAAAIgRBQEAAAAg\n",
       "RhQEAAAAgBhREAAAAABiREEAAAAAiBEFAQAAACBGFAQAAACAGFEQAAAAAGJEQQAAAACIEQUBAAAA\n",
       "IEYUBAAAAIAYURAAAAAAYkRBAAAAAIgRBQEAAAAgRhQEAAAAgBhREAAAAABiREEAAAAAiBEFAQAA\n",
       "ACBGFAQAAACAGFEQAAAAAGJEQQAAAACIEQUBAAAAIEYUBAAAAIAYURAAAAAAYkRBAAAAAIgRBQEA\n",
       "AAAgRhQEAAAAgBhREAAAAABiREEAAAAAiBEFAQAAACBGFAQAAACAGFEQAAAAAGJEQQAAAACIEQUB\n",
       "AAAAIEYUBAAAAICY62/+8PPpDeP+dP96esKorz9epyeM+vrj8/SEUd/tD9MTxr27vJ2eMOrT+Zfp\n",
       "CaMez7vpCaNu58P0hHF7t78H6o7jxfSEUXs5/+veXdqfgev5cnrCqOvHH01P+Cvw2fSAUe+e/nF6\n",
       "wqi/e/v30xNG+acgAAAAAMSIggAAAAAQIwoCAAAAQIwoCAAAAAAxoiAAAAAAxIiCAAAAABAjCgIA\n",
       "AABAjCgIAAAAADGiIAAAAADEiIIAAAAAECMKAgAAAECMKAgAAAAAMaIgAAAAAMSIggAAAAAQIwoC\n",
       "AAAAQIwoCAAAAAAxoiAAAAAAxIiCAAAAABAjCgIAAABAjCgIAAAAADGiIAAAAADEiIIAAAAAECMK\n",
       "AgAAAECMKAgAAAAAMaIgAAAAAMSIggAAAAAQIwoCAAAAQIwoCAAAAAAxoiAAAAAAxIiCAAAAABAj\n",
       "CgIAAABAjCgIAAAAADGiIAAAAADEiIIAAAAAECMKAgAAAECMKAgAAAAAMaIgAAAAAMSIggAAAAAQ\n",
       "IwoCAAAAQIwoCAAAAAAxoiAAAAAAxIiCAAAAABAjCgIAAABAjCgIAAAAADGiIAAAAADEiIIAAAAA\n",
       "ECMKAgAAAECMKAgAAAAAMaIgAAAAAMSIggAAAAAQIwoCAAAAQIwoCAAAAAAxoiAAAAAAxIiCAAAA\n",
       "ABAjCgIAAABAjCgIAAAAADGiIAAAAADEiIIAAAAAECMKAgAAAECMKAgAAAAAMaIgAAAAAMSIggAA\n",
       "AAAQIwoCAAAAQMz1d28+n94w7sPT9IJZbx5v0xNGfbc/TE8Y9fbyv9MTxt2db6cnjHp4fj89YdTt\n",
       "vJ+eMOrcj9MTxu19Tk9g0HG0fyPf+3l6wjjXgLjLMb1gltN/3e5+OD1h1LvH6/SEUT982T7+9l0Q\n",
       "AAAAAASJggAAAAAQIwoCAAAAQIwoCAAAAAAxoiAAAAAAxIiCAAAAABAjCgIAAABAjCgIAAAAADGi\n",
       "IAAAAADEiIIAAAAAECMKAgAAAECMKAgAAAAAMaIgAAAAAMSIggAAAAAQIwoCAAAAQIwoCAAAAAAx\n",
       "oiAAAAAAxIiCAAAAABAjCgIAAABAjCgIAAAAADGiIAAAAADEiIIAAAAAECMKAgAAAECMKAgAAAAA\n",
       "MaIgAAAAAMSIggAAAAAQIwoCAAAAQIwoCAAAAAAxoiAAAAAAxIiCAAAAABAjCgIAAABAjCgIAAAA\n",
       "ADGiIAAAAADEiIIAAAAAECMKAgAAAECMKAgAAAAAMaIgAAAAAMSIggAAAAAQIwoCAAAAQIwoCAAA\n",
       "AAAxoiAAAAAAxIiCAAAAABAjCgIAAABAjCgIAAAAADGiIAAAAADEiIIAAAAAECMKAgAAAECMKAgA\n",
       "AAAAMaIgAAAAAMSIggAAAAAQIwoCAAAAQIwoCAAAAAAxoiAAAAAAxIiCAAAAABAjCgIAAABAjCgI\n",
       "AAAAADGiIAAAAADEiIIAAAAAECMKAgAAAECMKAgAAAAAMaIgAAAAAMSIggAAAAAQIwoCAAAAQIwo\n",
       "CAAAAAAx16/uHqc3jPu0b9MTRr2/3E1PGPXu8nZ6wqi7s338a6318Px+esKop/P76QmjzvNhesKo\n",
       "Hf8OXGutvc7pCQw6dvs38n08T08Y5xpA2mVPLxh320/TE0bd3X8xPWHUDx6u0xNGte+CAAAAACBI\n",
       "FAQAAACAGFEQAAAAAGJEQQAAAACIEQUBAAAAIEYUBAAAAIAYURAAAAAAYkRBAAAAAIgRBQEAAAAg\n",
       "RhQEAAAAgBhREAAAAABiREEAAAAAiBEFAQAAACBGFAQAAACAGFEQAAAAAGJEQQAAAACIEQUBAAAA\n",
       "IEYUBAAAAIAYURAAAAAAYkRBAAAAAIgRBQEAAAAgRhQEAAAAgBhREAAAAABiREEAAAAAiBEFAQAA\n",
       "ACBGFAQAAACAGFEQAAAAAGJEQQAAAACIEQUBAAAAIEYUBAAAAIAYURAAAAAAYkRBAAAAAIgRBQEA\n",
       "AAAgRhQEAAAAgBhREAAAAABiREEAAAAAiBEFAQAAACBGFAQAAACAGFEQAAAAAGJEQQAAAACIEQUB\n",
       "AAAAIEYUBAAAAIAYURAAAAAAYkRBAAAAAIgRBQEAAAAgRhQEAAAAgBhREAAAAABiREEAAAAAiBEF\n",
       "AQAAACBGFAQAAACAGFEQAAAAAGJEQQAAAACIEQUBAAAAIEYUBAAAAIAYURAAAAAAYkRBAAAAAIgR\n",
       "BQEAAAAgRhQEAAAAgBhREAAAAABiREEAAAAAiBEFAQAAACBGFAQAAACAGFEQAAAAAGKu3x5/nt4w\n",
       "7vHyMD1h1Pfr/fSEUZ/Ov0xPGPXw3H7/11rr6fx+esKo87yfnjDq3E/TE2bt5+kF4/Y6pycwqv0b\n",
       "ufN/rXXu6QWj4t+CsJ4v7Xuh+xftZ4FX+/X0hFHtuyAAAAAACBIFAQAAACBGFAQAAACAGFEQAAAA\n",
       "AGJEQQAAAACIEQUBAAAAIEYUBAAAAIAYURAAAAAAYkRBAAAAAIgRBQEAAAAgRhQEAAAAgBhREAAA\n",
       "AABiREEAAAAAiBEFAQAAACBGFAQAAACAGFEQAAAAAGJEQQAAAACIEQUBAAAAIEYUBAAAAIAYURAA\n",
       "AAAAYkRBAAAAAIgRBQEAAAAgRhQEAAAAgBhREAAAAABiREEAAAAAiBEFAQAAACBGFAQAAACAGFEQ\n",
       "AAAAAGJEQQAAAACIEQUBAAAAIEYUBAAAAIAYURAAAAAAYkRBAAAAAIgRBQEAAAAgRhQEAAAAgBhR\n",
       "EAAAAABiREEAAAAAiBEFAQAAACBGFAQAAACAGFEQAAAAAGJEQQAAAACIEQUBAAAAIEYUBAAAAIAY\n",
       "URAAAAAAYkRBAAAAAIgRBQEAAAAgRhQEAAAAgBhREAAAAABiREEAAAAAiBEFAQAAACBGFAQAAACA\n",
       "GFEQAAAAAGJEQQAAAACIEQUBAAAAIEYUBAAAAIAYURAAAAAAYkRBAAAAAIgRBQEAAAAgRhQEAAAA\n",
       "gBhREAAAAABiREEAAAAAiBEFAQAAACBGFAQAAACAmOv74+30hnG39TA9YdTD+XF6wqjH8256wqjb\n",
       "eT89Ydx5tq8B536anjBq79v0hGHn9IB5e08vYNA+4u+/899V8DymF4y6xf8ncxzt42et89J+Frge\n",
       "r6cnjHIFAAAAAIAYURAAAAAAYkRBAAAAAIgRBQEAAAAgRhQEAAAAgBhREAAAAABiREEAAAAAiBEF\n",
       "AQAAACBGFAQAAACAGFEQAAAAAGJEQQAAAACIEQUBAAAAIEYUBAAAAIAYURAAAAAAYkRBAAAAAIgR\n",
       "BQEAAAAgRhQEAAAAgBhREAAAAABiREEAAAAAiBEFAQAAACBGFAQAAACAGFEQAAAAAGJEQQAAAACI\n",
       "EQUBAAAAIEYUBAAAAIAYURAAAAAAYkRBAAAAAIgRBQEAAAAgRhQEAAAAgBhREAAAAABiREEAAAAA\n",
       "iBEFAQAAACBGFAQAAACAGFEQAAAAAGJEQQAAAACIEQUBAAAAIEYUBAAAAIAYURAAAAAAYkRBAAAA\n",
       "AIgRBQEAAAAgRhQEAAAAgBhREAAAAABiREEAAAAAiBEFAQAAACBGFAQAAACAGFEQAAAAAGJEQQAA\n",
       "AACIEQUBAAAAIEYUBAAAAIAYURAAAAAAYkRBAAAAAIgRBQEAAAAgRhQEAAAAgBhREAAAAABiREEA\n",
       "AAAAiBEFAQAAACBGFAQAAACAGFEQAAAAAGJEQQAAAACIEQUBAAAAIEYUBAAAAIAYURAAAAAAYkRB\n",
       "AAAAAIi53u+76Q3jnvfj9IRRT+en6QmjbufD9IRRZ/z8X2utvW/TE2bt5+kFw87pAbN2/PjXWnvt\n",
       "6QkMOvYxPWFW/PDXWvnvwb3a90H1e+Hb+WJ6wrhjeQ3KbsfT9IRR/ikIAAAAADGiIAAAAADEiIIA\n",
       "AAAAECMKAgAAAECMKAgAAAAAMaIgAAAAAMSIggAAAAAQIwoCAAAAQIwoCAAAAAAxoiAAAAAAxIiC\n",
       "AAAAABAjCgIAAABAjCgIAAAAADGiIAAAAADEiIIAAAAAECMKAgAAAECMKAgAAAAAMaIgAAAAAMSI\n",
       "ggAAAAAQIwoCAAAAQIwoCAAAAAAxoiAAAAAAxIiCAAAAABAjCgIAAABAjCgIAAAAADGiIAAAAADE\n",
       "iIIAAAAAECMKAgAAAECMKAgAAAAAMaIgAAAAAMSIggAAAAAQIwoCAAAAQIwoCAAAAAAxoiAAAAAA\n",
       "xIiCAAAAABAjCgIAAABAjCgIAAAAADGiIAAAAADEiIIAAAAAECMKAgAAAECMKAgAAAAAMaIgAAAA\n",
       "AMSIggAAAAAQIwoCAAAAQIwoCAAAAAAxoiAAAAAAxIiCAAAAABAjCgIAAABAjCgIAAAAADGiIAAA\n",
       "AADEiIIAAAAAECMKAgAAAECMKAgAAAAAMaIgAAAAAMSIggAAAAAQIwoCAAAAQIwoCAAAAAAxoiAA\n",
       "AAAAxIiCAAAAABAjCgIAAABAjCgIAAAAADGiIAAAAADEiIIAAAAAECMKAgAAAEDM9Xk/Tm8Yd+6n\n",
       "6Qmjzn2bnjBq7+fpCaP2PqcnjNur/RrUj3/tPb1g1F7t44f6Z+CIXwPXWmsf8e/B+H1A/V64/iy0\n",
       "lufheg+p809BAAAAAIgRBQEAAAAgRhQEAAAAgBhREAAAAABiREEAAAAAiBEFAQAAACBGFAQAAACA\n",
       "GFEQAAAAAGJEQQAAAACIEQUBAAAAIEYUBAAAAIAYURAAAAAAYkRBAAAAAIgRBQEAAAAgRhQEAAAA\n",
       "gBhREAAAAABiREEAAAAAiBEFAQAAACBGFAQAAACAGFEQAAAAAGJEQQAAAACIEQUBAAAAIEYUBAAA\n",
       "AIAYURAAAAAAYkRBAAAAAIgRBQEAAAAgRhQEAAAAgBhREAAAAABiREEAAAAAiBEFAQAAACBGFAQA\n",
       "AACAGFEQAAAAAGJEQQAAAACIEQUBAAAAIEYUBAAAAIAYURAAAAAAYkRBAAAAAIgRBQEAAAAgRhQE\n",
       "AAAAgBhREAAAAABiREEAAAAAiBEFAQAAACBGFAQAAACAGFEQAAAAAGJEQQAAAACIEQUBAAAAIEYU\n",
       "BAAAAIAYURAAAAAAYkRBAAAAAIgRBQEAAAAgRhQEAAAAgBhREAAAAABiREEAAAAAiBEFAQAAACBG\n",
       "FAQAAACAGFEQAAAAAGJEQQAAAACIEQUBAAAAIEYUBAAAAIAYURAAAAAAYkRBAAAAAIgRBQEAAAAg\n",
       "RhQEAAAAgBhREAAAAABiREEAAAAAiBEFAQAAACBGFAQAAACAGFEQAAAAAGJEQQAAAACIEQUBAAAA\n",
       "IEYUBAAAAIAYURAAAAAAYkRBAAAAAIgRBQEAAAAgRhQEAAAAgBhREAAAAABiREEAAAAAiBEFAQAA\n",
       "ACBGFAQAAACAGFEQAAAAAGJEQQAAAACIEQUBAAAAIEYUBAAAAIAYURAAAAAAYkRBAAAAAIgRBQEA\n",
       "AAAgRhQEAAAAgBhREAAAAABiREEAAAAAiBEFAQAAACBGFAQAAACAGFEQAAAAAGJEQQAAAACIEQUB\n",
       "AAAAIEYUBAAAAIAYURAAAAAAYkRBAAAAAIgRBQEAAAAgRhQEAAAAgBhREAAAAABiREEAAAAAiBEF\n",
       "AQAAACBGFAQAAACAGFEQAAAAAGJEQQAAAACIEQUBAAAAIEYUBAAAAIAYURAAAAAAYkRBAAAAAIgR\n",
       "BQEAAAAgRhQEAAAAgBhREAAAAABiREEAAAAAiBEFAQAAACBGFAQAAACAGFEQAAAAAGJEQQAAAACI\n",
       "EQUBAAAAIEYUBAAAAIAYURAAAAAAYkRBAAAAAIgRBQEAAAAgRhQEAAAAgBhREAAAAABiREEAAAAA\n",
       "iBEFAQAAACBGFAQAAACAmOuL49X0BoZdjtv0hFHH8WJ6wqjj8NvAseuvQfv497GnJ4w69jE9Ydxe\n",
       "7XOg7ljxz8ARP/611hH/Hswff/xeuP4stNZal+M6PWHU5Xg5PWFUvYm1r4AAAAAAECQKAgAAAECM\n",
       "KAgAAAAAMaIgAAAAAMSIggAAAAAQIwoCAAAAQIwoCAAAAAAxoiAAAAAAxIiCAAAAABAjCgIAAABA\n",
       "jCgIAAAAADGiIAAAAADEiIIAAAAAECMKAgAAAECMKAgAAAAAMaIgAAAAAMSIggAAAAAQIwoCAAAA\n",
       "QIwoCAAAAAAxoiAAAAAAxIiCAAAAABAjCgIAAABAjCgIAAAAADGiIAAAAADEiIIAAAAAECMKAgAA\n",
       "AECMKAgAAAAAMaIgAAAAAMSIggAAAAAQIwoCAAAAQIwoCAAAAAAxoiAAAAAAxIiCAAAAABAjCgIA\n",
       "AABAjCgIAAAAADGiIAAAAADEiIIAAAAAECMKAgAAAECMKAgAAAAAMaIgAAAAAMSIggAAAAAQIwoC\n",
       "AAAAQIwoCAAAAAAxoiAAAAAAxIiCAAAAABAjCgIAAABAjCgIAAAAADGiIAAAAADEiIIAAAAAECMK\n",
       "AgAAAECMKAgAAAAAMaIgAAAAAMSIggAAAAAQIwoCAAAAQIwoCAAAAAAxoiAAAAAAxIiCAAAAABAj\n",
       "CgIAAABAjCgIAAAAADGiIAAAAADEiIIAAAAAECMKAgAAAECMKAgAAAAAMdfPji+mN4y7HQ/TExi0\n",
       "1/P0hFF7t49/rbX20X4N9jqnJ8zae3rBrGN6wLyjfg7UHfUPgf8IrOPF9IJRx3GdnjDqcryanjDq\n",
       "enk9PWHcy8sPpieMen35fHrCqOtqfwbcBQAAAABAjCgIAAAAADGiIAAAAADEiIIAAAAAECMKAgAA\n",
       "AECMKAgAAAAAMaIgAAAAAMSIggAAAAAQIwoCAAAAQIwoCAAAAAAxoiAAAAAAxIiCAAAAABAjCgL8\n",
       "X7v2riNHXodhuKqm5+Q52GjsWbwWckKInC3REhFxF1wFF8FtQUZGTILQyisOgWEtxp5xFwH3wA/p\n",
       "fZ4r+Lp6puvfbzUAAADEiIIAAAAAECMKAgAAAECMKAgAAAAAMaIgAAAAAMSIggAAAAAQIwoCAAAA\n",
       "QIwoCAAAAAAxoiAAAAAAxIiCAAAAABAjCgIAAABAjCgIAAAAADGiIAAAAADEiIIAAAAAECMKAgAA\n",
       "AECMKAgAAAAAMaIgAAAAAMSIggAAAAAQIwoCAAAAQIwoCAAAAAAxoiAAAAAAxIiCAAAAABAjCgIA\n",
       "AABAjCgIAAAAADGiIAAAAADEiIIAAAAAECMKAgAAAECMKAgAAAAAMaIgAAAAAMSIggAAAAAQIwoC\n",
       "AAAAQIwoCAAAAAAxoiAAAAAAxIiCAAAAABAjCgIAAABAjCgIAAAAADGiIAAAAADEiIIAAAAAECMK\n",
       "AgAAAECMKAgAAAAAMaIgAAAAAMSIggAAAAAQIwoCAAAAQIwoCAAAAAAxoiAAAAAAxIiCAAAAABAj\n",
       "CgIAAABAjCgIAAAAADGiIAAAAADEiIIAAAAAECMKAgAAAECMKAgAAAAAMYfb/W56w7jP66fpCaO2\n",
       "7XR6AoP2/Tg9Ydy+xK/BcZ9eMCr+7i/L/mV6wbh9zf8VpK31Z+TryfSCcdvaPgtv2/n0hFGH7WJ6\n",
       "wqiz7Xp6wrjL7cX0hFHPltvpCaPO9vZnYPwUBAAAAAA9oiAAAAAAxIiCAAAAABAjCgIAAABAjCgI\n",
       "AAAAADGiIAAAAADEiIIAAAAAECMKAgAAAECMKAgAAAAAMaIgAAAAAMSIggAAAAAQIwoCAAAAQIwo\n",
       "CAAAAAAxoiAAAAAAxIiCAAAAABAjCgIAAABAjCgIAAAAADGiIAAAAADEiIIAAAAAECMKAgAAAECM\n",
       "KAgAAAAAMaIgAAAAAMSIggAAAAAQIwoCAAAAQIwoCAAAAAAxoiAAAAAAxIiCAAAAABAjCgIAAABA\n",
       "jCgIAAAAADGiIAAAAADEiIIAAAAAECMKAgAAAECMKAgAAAAAMaIgAAAAAMSIggAAAAAQIwoCAAAA\n",
       "QIwoCAAAAAAxoiAAAAAAxIiCAAAAABAjCgIAAABAjCgIAAAAADGiIAAAAADEiIIAAAAAECMKAgAA\n",
       "AECMKAgAAAAAMaIgAAAAAMSIggAAAAAQIwoCAAAAQIwoCAAAAAAxoiAAAAAAxIiCAAAAABAjCgIA\n",
       "AABAjCgIAAAAADGiIAAAAADEiIIAAAAAECMKAgAAAECMKAgAAAAAMaIgAAAAAMSIggAAAAAQIwoC\n",
       "AAAAQIwoCAAAAAAxoiAAAAAAxIiCAAAAABBzeL3/aHrDuH8fn6YnjPrndjE9YdSH7WR6Aox6nB4w\n",
       "7bhOLxi1L+174H8dpwcwaI0/I1/Xw/SEcdt2Pj1h1On2bHrCqPOT2+kJo663u+kJ457v7Wtwe7ye\n",
       "njDqMn4fbJ+CAAAAACBIFAQAAACAGFEQAAAAAGJEQQAAAACIEQUBAAAAIEYUBAAAAIAYURAAAAAA\n",
       "YkRBAAAAAIgRBQEAAAAgRhQEAAAAgBhREAAAAABiREEAAAAAiBEFAQAAACBGFAQAAACAGFEQAAAA\n",
       "AGJEQQAAAACIEQUBAAAAIEYUBAAAAIAYURAAAAAAYkRBAAAAAIgRBQEAAAAgRhQEAAAAgBhREAAA\n",
       "AABiREEAAAAAiBEFAQAAACBGFAQAAACAGFEQAAAAAGJEQQAAAACIEQUBAAAAIEYUBAAAAIAYURAA\n",
       "AAAAYkRBAAAAAIgRBQEAAAAgRhQEAAAAgDAeU0EAAAveSURBVBhREAAAAABiREEAAAAAiBEFAQAA\n",
       "ACBGFAQAAACAGFEQAAAAAGJEQQAAAACIEQUBAAAAIEYUBAAAAIAYURAAAAAAYkRBAAAAAIgRBQEA\n",
       "AAAgRhQEAAAAgBhREAAAAABiREEAAAAAiBEFAQAAACBGFAQAAACAGFEQAAAAAGJEQQAAAACIEQUB\n",
       "AAAAIEYUBAAAAIAYURAAAAAAYkRBAAAAAIgRBQEAAAAgRhQEAAAAgBhREAAAAABiREEAAAAAiBEF\n",
       "AQAAACBGFAQAAACAGFEQAAAAAGIOP70+m94w7l+P7Wvw98/t1384nk5PmLWt0wtg1FP8+dhx/zw9\n",
       "Ydy+H6cnMGhd258B29o+By7Lshy2i+kJo85PbqcnjLreXk5PGHV3/Gp6wrj79WZ6wqiXF4fpCaNu\n",
       "6jlgegAAAAAA8L8lCgIAAABAjCgIAAAAADGiIAAAAADEiIIAAAAAECMKAgAAAECMKAgAAAAAMaIg\n",
       "AAAAAMSIggAAAAAQIwoCAAAAQIwoCAAAAAAxoiAAAAAAxIiCAAAAABAjCgIAAABAjCgIAAAAADGi\n",
       "IAAAAADEiIIAAAAAECMKAgAAAECMKAgAAAAAMaIgAAAAAMSIggAAAAAQIwoCAAAAQIwoCAAAAAAx\n",
       "oiAAAAAAxIiCAAAAABAjCgIAAABAjCgIAAAAADGiIAAAAADEiIIAAAAAECMKAgAAAECMKAgAAAAA\n",
       "MaIgAAAAAMSIggAAAAAQIwoCAAAAQIwoCAAAAAAxoiAAAAAAxIiCAAAAABAjCgIAAABAjCgIAAAA\n",
       "ADGiIAAAAADEiIIAAAAAECMKAgAAAECMKAgAAAAAMaIgAAAAAMSIggAAAAAQIwoCAAAAQIwoCAAA\n",
       "AAAxoiAAAAAAxIiCAAAAABAjCgIAAABAjCgIAAAAADGiIAAAAADEiIIAAAAAECMKAgAAAECMKAgA\n",
       "AAAAMaIgAAAAAMSIggAAAAAQIwoCAAAAQIwoCAAAAAAxoiAAAAAAxIiCAAAAABAjCgIAAABAjCgI\n",
       "AAAAADGHn7/8OL1h3N8ezqcnjPrzx8P0hFGHj7fTE2Ydpwf8H9j26QUMWtf287Gn48n0hHH7/mV6\n",
       "AoPWtf0/cNja5+BlWZaz7Xp6wqjr7W56wqi741fTE0Z9vcW/Cy3L8vaqfR94e/U0PWHUq4tP0xNG\n",
       "tb8JAQAAAECQKAgAAAAAMaIgAAAAAMSIggAAAAAQIwoCAAAAQIwoCAAAAAAxoiAAAAAAxIiCAAAA\n",
       "ABAjCgIAAABAjCgIAAAAADGiIAAAAADEiIIAAAAAECMKAgAAAECMKAgAAAAAMaIgAAAAAMSIggAA\n",
       "AAAQIwoCAAAAQIwoCAAAAAAxoiAAAAAAxIiCAAAAABAjCgIAAABAjCgIAAAAADGiIAAAAADEiIIA\n",
       "AAAAECMKAgAAAECMKAgAAAAAMaIgAAAAAMSIggAAAAAQIwoCAAAAQIwoCAAAAAAxoiAAAAAAxIiC\n",
       "AAAAABAjCgIAAABAjCgIAAAAADGiIAAAAADEiIIAAAAAECMKAgAAAECMKAgAAAAAMaIgAAAAAMSI\n",
       "ggAAAAAQIwoCAAAAQIwoCAAAAAAxoiAAAAAAxIiCAAAAABAjCgIAAABAjCgIAAAAADGiIAAAAADE\n",
       "iIIAAAAAECMKAgAAAECMKAgAAAAAMaIgAAAAAMSIggAAAAAQIwoCAAAAQIwoCAAAAAAxoiAAAAAA\n",
       "xIiCAAAAABAjCgIAAABAjCgIAAAAADGiIAAAAADEiIIAAAAAECMKAgAAAECMKAgAAAAAMaIgAAAA\n",
       "AMSIggAAAAAQc/jlz/44vWHcd+9/PD1h1PO/vp6eMOxiesCopx9upieMe9ofpyeM+rJ9mZ7AoHU5\n",
       "mZ4w7rg/TU9g0LYepieMOt0upyeMu9xeTE8Y9Xy/m54w6n5tn4XfXjkHvHvxMD1h1Lv799MTRr15\n",
       "/f30hFF+KQgAAAAAMaIgAAAAAMSIggAAAAAQIwoCAAAAQIwoCAAAAAAxoiAAAAAAxIiCAAAAABAj\n",
       "CgIAAABAjCgIAAAAADGiIAAAAADEiIIAAAAAECMKAgAAAECMKAgAAAAAMaIgAAAAAMSIggAAAAAQ\n",
       "IwoCAAAAQIwoCAAAAAAxoiAAAAAAxIiCAAAAABAjCgIAAABAjCgIAAAAADGiIAAAAADEiIIAAAAA\n",
       "ECMKAgAAAECMKAgAAAAAMaIgAAAAAMSIggAAAAAQIwoCAAAAQIwoCAAAAAAxoiAAAAAAxIiCAAAA\n",
       "ABAjCgIAAABAjCgIAAAAADGiIAAAAADEiIIAAAAAECMKAgAAAECMKAgAAAAAMaIgAAAAAMSIggAA\n",
       "AAAQIwoCAAAAQIwoCAAAAAAxoiAAAAAAxIiCAAAAABAjCgIAAABAjCgIAAAAADGiIAAAAADEiIIA\n",
       "AAAAECMKAgAAAECMKAgAAAAAMaIgAAAAAMSIggAAAAAQIwoCAAAAQIwoCAAAAAAxoiAAAAAAxIiC\n",
       "AAAAABAjCgIAAABAjCgIAAAAADGiIAAAAADEiIIAAAAAECMKAgAAAECMKAgAAAAAMaIgAAAAAMSI\n",
       "ggAAAAAQc/j6199Nbxh39/u/TE+Y9btvpheM+vD4k+kJoz58PkxPGPfDw/X0hFEPJw/TE0Ydt8fp\n",
       "CQw77v4Gyrb1dHrCqPPtanrCuGfL7fSEUbfH9jno5UX7LPz26ml6wrh39++nJ4x694s/TE8Ydf5t\n",
       "+7dy7VcPAAAAAEGiIAAAAADEiIIAAAAAECMKAgAAAECMKAgAAAAAMaIgAAAAAMSIggAAAAAQIwoC\n",
       "AAAAQIwoCAAAAAAxoiAAAAAAxIiCAAAAABAjCgIAAABAjCgIAAAAADGiIAAAAADEiIIAAAAAECMK\n",
       "AgAAAECMKAgAAAAAMaIgAAAAAMSIggAAAAAQIwoCAAAAQIwoCAAAAAAxoiAAAAAAxIiCAAAAABAj\n",
       "CgIAAABAjCgIAAAAADGiIAAAAADEiIIAAAAAECMKAgAAAECMKAgAAAAAMaIgAAAAAMSIggAAAAAQ\n",
       "IwoCAAAAQIwoCAAAAAAxoiAAAAAAxIiCAAAAABAjCgIAAABAjCgIAAAAADGiIAAAAADEiIIAAAAA\n",
       "ECMKAgAAAECMKAgAAAAAMaIgAAAAAMSIggAAAAAQIwoCAAAAQIwoCAAAAAAxoiAAAAAAxIiCAAAA\n",
       "ABAjCgIAAABAjCgIAAAAADGiIAAAAADEiIIAAAAAECMKAgAAAECMKAgAAAAAMaIgAAAAAMSIggAA\n",
       "AAAQIwoCAAAAQIwoCAAAAAAxoiAAAAAAxIiCAAAAABAjCgIAAABAjCgIAAAAADGiIAAAAADEiIIA\n",
       "AAAAEHNYf/Xb6Q3jzpffTE8Y9eZP309PGPXqH/fTE0bdnB6mJ4y7/NS+Bmf7+fSEUYe1/fqf1sfp\n",
       "CTDqZD2bnjDqsLQ/A5fFffBybZ+Dbk6nF8x6dfFpesK4N6/b34fPv23/VqzexNrvPgAAAAAEiYIA\n",
       "AAAAECMKAgAAAECMKAgAAAAAMaIgAAAAAMSIggAAAAAQIwoCAAAAQIwoCAAAAAAxoiAAAAAAxIiC\n",
       "AAAAABAjCgIAAABAjCgIAAAAADGiIAAAAADEiIIAAAAAECMKAgAAAECMKAgAAAAAMaIgAAAAAMSI\n",
       "ggAAAAAQIwoCAAAAQIwoCAAAAAAxoiAAAAAAxIiCAAAAABAjCgIAAABAjCgIAAAAADGiIAAAAADE\n",
       "iIIAAAAAECMKAgAAAECMKAgAAAAAMaIgAAAAAMSIggAAAAAQIwoCAAAAQIwoCAAAAAAxoiAAAAAA\n",
       "xIiCAAAAABAjCgIAAABAjCgIAAAAADGiIAAAAADEiIIAAAAAECMKAgAAAECMKAgAAAAAMaIgAAAA\n",
       "AMSIggAAAAAQIwoCAAAAQIwoCAAAAAAxoiAAAAAAxIiCAAAAABAjCgIAAABAjCgIAAAAADGiIAAA\n",
       "AADEiIIAAAAAECMKAgAAAECMKAgAAAAAMaIgAAAAAMSIggAAAAAQIwoCAAAAQIwoCAAAAAAxoiAA\n",
       "AAAAxIiCAAAAABAjCgIAAABAjCgIAAAAADGiIAAAAADEiIIAAAAAECMKAgAAAEDMfwDFwfewzvqF\n",
       "LAAAAABJRU5ErkJggg==\n",
       "\" transform=\"translate(470, 124)\"/>\n",
       "</g>\n",
       "<defs>\n",
       "  <clipPath id=\"clip783\">\n",
       "    <rect x=\"2160\" y=\"124\" width=\"73\" height=\"1286\"/>\n",
       "  </clipPath>\n",
       "</defs>\n",
       "<g clip-path=\"url(#clip783)\">\n",
       "<image width=\"72\" height=\"1285\" xlink:href=\"data:image/png;base64,\n",
       "iVBORw0KGgoAAAANSUhEUgAAAEgAAAUFCAYAAAC0E4VSAAALMElEQVR4nO3dwa3kRhAFQY5Q/lsh\n",
       "L6XtlgWqPJKHCAsGiQeit4d/9vfv+fs+/K+/3v4AXydQECgIFAQKc+6/b3+GT7OgIFAQKAgU5t4/\n",
       "b3+GT7OgIFAQKAgUnKSDBQWBgkBBoDDXQ3plQUGgIFAQKMw9HtIbCwoCBYGCQMFJOlhQECgIFAQK\n",
       "HtLBgoJAQaAgUHDdESwoCBQECgKFeZykVxYUBAoCBYGC645gQUGgIFAQKMzjumNlQUGgIFAQKMxz\n",
       "/nn7M3yaBQWBgkBBoOBOOlhQECgIFAQKrjuCBQWBgkBBoOAhHSwoCBQECgIF1x3BgoJAQaAgUJif\n",
       "k/TKgoJAQaAgUJjn+D3pjQUFgYJAQaDgJB0sKAgUBAoCBSfpYEFBoCBQECh4uyNYUBAoCBQECvNz\n",
       "kl5ZUBAoCBQECl7BCxYUBAoCBYGCk3SwoCBQECgIFHxxGCwoCBQECgIFJ+lgQUGgIFAQKDhJBwsK\n",
       "AgWBgkDBSTpYUBAoCBQECvOc8/Zn+DQLCgIFgYJAwUk6WFAQKAgUBArupIMFBYGCQEGg4CEdLCgI\n",
       "FAQKAoX5uZNeWVAQKAgUBApO0sGCgkBBoCBQ8HZHsKAgUBAoCBRcdwQLCgIFgYJAwXVHsKAgUBAo\n",
       "CBRcdwQLCgIFgYJAwUM6WFAQKAgUBAr+4jBYUBAoCBQECk7SwYKCQEGgIFDwkA4WFAQKAgWBgod0\n",
       "sKAgUBAoCBQ8pIMFBYGCQEGgMM/1kN5YUBAoCBQECk7SwYKCQEGgIFDwkA4WFAQKAgWBgod0sKAg\n",
       "UBAoCBTmOfftz/BpFhQECgIFgYKTdLCgIFAQKAgUnKSDBQWBgkBBoCBQ8E+NYEFBoCBQECj4p0aw\n",
       "oCBQECgIFOZxkF5ZUBAoCBQECvNcJ+mNBQWBgkBBoOAkHSwoCBQECgIFD+lgQUGgIFAQKIwfoNpZ\n",
       "UBAoCBQECk7SwYKCQEGgIFDwkA4WFAQKAgWBwjzn9/Zn+DQLCgIFgYJAYe71kN5YUBAoCBQECq47\n",
       "ggUFgYJAQaDguiNYUBAoCBQECnOPRht1gkBBoCBQcJIOFhQECgIFgcI8vjhcWVAQKAgUBApznaRX\n",
       "FhQECgIFgcI87qRX6gSBgkBBoOAkHSwoCBQECgIFd9LBgoJAQaAgUPAKXlAnCBQECgIFr+AFCwoC\n",
       "BYGCQMGddLCgIFAQKAgU5l6NNuoEgYJAQaDguiNYUBAoCBQECq47ggUFgYJAQaAwj+uOlTpBoCBQ\n",
       "ECg4SQcLCgIFgYJAwUM6WFAQKAgUBAr+4jBYUBAoCBQECv7iMKgTBAoCBYGC/4g2WFAQKAgUBAru\n",
       "pIMFBYGCQEGg4PekgzpBoCBQECi47ggWFAQKAgWBguuOYEFBoCBQECg4SQcLCgIFgYJAwSt4QZ0g\n",
       "UBAoCBScpIMFBYGCQEGg4E46WFAQKAgUBApO0sGCgkBBoCBQ8KP/wYKCQEGgIFDw32cFdYJAQaAg\n",
       "UHDdESwoCBQECgIFXxwGCwoCBYGCQMFJOlhQECgIFAQKczykVxYUBAoCBYGCvzgM6gSBgkBBoOC6\n",
       "I1hQECgIFAQKHtLBgoJAQaAgUPB2R7CgIFAQKAgUBAr+qREsKAgUBAoCBQ/pYEFBoCBQECj4u/mg\n",
       "ThAoCBQECnNc2q8sKAgUBAoCBdcdwYKCQEGgIFDwkA4WFAQKAgWBgod0sKAgUBAoCBT8uEmwoCBQ\n",
       "ECgIFJykgwUFgYJAQaDgIR0sKAgUBAoCBe9JB3WCQEGgIFDwnnSwoCBQECgIFFx3BAsKAgWBgkDB\n",
       "QzpYUBAoCBQECl7BCxYUBAoCBYGCk3SwoCBQECgIFOY+HtIbCwoCBYGCQMF1R7CgIFAQKAgUXHcE\n",
       "CwoCBYGCQMFJOlhQECgIFAQKTtLBgoJAQaAgUHCSDhYUBAoCBYGCk3SwoCBQECgIFDykgwUFgYJA\n",
       "QaAwx3vSKwsKAgWBgkDBSTpYUBAoCBQECr44DBYUBAoCBYHC3Pv2R/g2CwoCBYGCQMFJOlhQECgI\n",
       "FAQKfmApWFAQKAgUBApO0sGCgkBBoCBQ8HZHsKAgUBAoCBS8Jx0sKAgUBAoCBW93BAsKAgWBgkDB\n",
       "nXSwoCBQECgIFNxJBwsKAgWBgkDBnXSwoCBQECgIFFx3BAsKAgWBgkDBF4fBgoJAQaAgUHDdESwo\n",
       "CBQECgIFXxwGCwoCBYGCQGHO25/g4ywoCBQECgIFJ+lgQUGgIFAQKHi7I1hQECgIFAQKrjuCBQWB\n",
       "gkBBoOC6I1hQECgIFAQKTtLBgoJAQaAgUHCSDhYUBAoCBYGCLw6DBQWBgkBBoDD+KnxnQUGgIFAQ\n",
       "KDhJBwsKAgWBgkBBoOCb1WBBQaAgUBAo+GY1WFAQKAgUBApO0sGCgkBBoCBQcJIOFhQECgIFgcIc\n",
       "77+sLCgIFAQKAgXXHcGCgkBBoCBQcN0RLCgIFAQKAgUn6WBBQaAgUBAo+J96gwUFgYJAQaDgf+oN\n",
       "FhQECgIFgYK3O4IFBYGCQEGg4BeoggUFgYJAQaDgF6iCBQWBgkBBoOCLw2BBQaAgUBAoeAUvWFAQ\n",
       "KAgUBAr+mCVYUBAoCBQECk7SwYKCQEGgIFDwCl6woCBQECgIFLyCFywoCBQECgIFJ+lgQUGgIFAQ\n",
       "KHgFL1hQECgIFAQKfrsjWFAQKAgUBAquO4IFBYGCQEGg4IvDYEFBoCBQECg4SQcLCgIFgYJAwUk6\n",
       "WFAQKAgUBApO0sGCgkBBoCBQ8JAOFhQECgIFgYLrjmBBQaAgUBAoOEkHCwoCBYGCQMFJOlhQECgI\n",
       "FAQKTtLBgoJAQaAgUPDbHcGCgkBBoCBQ8KP/wYKCQEGgIFBw3REsKAgUBAoChbmPp/TGgoJAQaAg\n",
       "UHCSDhYUBAoCBYGCLw6DBQWBgkBBoOCLw2BBQaAgUBAouO4IFhQECgIFgYIvDoMFBYGCQEGg4CQd\n",
       "LCgIFAQKAgW/3REsKAgUBAoChTle71hZUBAoCBQECt7uCBYUBAoCBYHCXCfplQUFgYJAQaDgJB0s\n",
       "KAgUBAoCBXfSwYKCQEGgIFDwdkewoCBQECgIFOb4Y5aVBQWBgkBBoOC6I1hQECgIFAQKAgV/Nx8s\n",
       "KAgUBAoCBa+/BAsKAgWBgkDBpX2woCBQECgIFFx3BAsKAgWBgkBhzuPCY2NBQaAgUBAouO4IFhQE\n",
       "CgIFgYKHdLCgIFAQKAgU3EkHCwoCBYGCQMGddLCgIFAQKAgU5vycpDcWFAQKAgWBgpN0sKAgUBAo\n",
       "CBTmekivLCgIFAQKAgUn6WBBQaAgUBAozPl5SG8sKAgUBAoCBSfpYEFBoCBQECi4kw4WFAQKAgWB\n",
       "gpN0sKAgUBAoCBQ8pIMFBYGCQEGg4IvDYEFBoCBQECjMff68/Rk+zYKCQEGgIFBw3REsKAgUBAoC\n",
       "BW93BAsKAgWBgkBhznXdsbGgIFAQKAgUnKSDBQWBgkBBoDDHF4crCwoCBYGCQMFJOlhQECgIFAQK\n",
       "TtLBgoJAQaAgUJh7naQ3FhQECgIFgYLrjmBBQaAgUBAoeAUvWFAQKAgUBApO0sGCgkBBoCBQmOsk\n",
       "vbKgIFAQKAgUnKSDBQWBgkBBoDDH2x0rCwoCBYGCQMFPlQYLCgIFgYJAwXvSwYKCQEGgIFBwJx0s\n",
       "KAgUBAoCBSfpYEFBoCBQECh4SAcLCgIFgYJAwReHwYKCQEGgIFBwkg4WFAQKAgWBwjy+OFxZUBAo\n",
       "CBQECk7SwYKCQEGgIFDwCl6woCBQECgIFOZxkl5ZUBAoCBQECt7uCBYUBAoCBYGCLw6DBQWBgkBB\n",
       "oOC6I1hQECgIFAQKc5/79mf4NAsKAgWBgkDBdUewoCBQECgIFOZxkl5ZUBAoCBQECv8BchLtGWsS\n",
       "xKgAAAAASUVORK5CYII=\n",
       "\" transform=\"translate(2161, 124)\"/>\n",
       "</g>\n",
       "<path clip-path=\"url(#clip780)\" d=\"M2280.7 1272.84 Q2277.09 1272.84 2275.26 1276.4 Q2273.45 1279.94 2273.45 1287.07 Q2273.45 1294.18 2275.26 1297.74 Q2277.09 1301.28 2280.7 1301.28 Q2284.33 1301.28 2286.14 1297.74 Q2287.97 1294.18 2287.97 1287.07 Q2287.97 1279.94 2286.14 1276.4 Q2284.33 1272.84 2280.7 1272.84 M2280.7 1269.13 Q2286.51 1269.13 2289.57 1273.74 Q2292.64 1278.32 2292.64 1287.07 Q2292.64 1295.8 2289.57 1300.4 Q2286.51 1304.99 2280.7 1304.99 Q2274.89 1304.99 2271.81 1300.4 Q2268.76 1295.8 2268.76 1287.07 Q2268.76 1278.32 2271.81 1273.74 Q2274.89 1269.13 2280.7 1269.13 Z\" fill=\"#000000\" fill-rule=\"nonzero\" fill-opacity=\"1\" /><path clip-path=\"url(#clip780)\" d=\"M2300.86 1298.44 L2305.75 1298.44 L2305.75 1304.32 L2300.86 1304.32 L2300.86 1298.44 Z\" fill=\"#000000\" fill-rule=\"nonzero\" fill-opacity=\"1\" /><path clip-path=\"url(#clip780)\" d=\"M2325.93 1272.84 Q2322.32 1272.84 2320.49 1276.4 Q2318.69 1279.94 2318.69 1287.07 Q2318.69 1294.18 2320.49 1297.74 Q2322.32 1301.28 2325.93 1301.28 Q2329.57 1301.28 2331.37 1297.74 Q2333.2 1294.18 2333.2 1287.07 Q2333.2 1279.94 2331.37 1276.4 Q2329.57 1272.84 2325.93 1272.84 M2325.93 1269.13 Q2331.74 1269.13 2334.8 1273.74 Q2337.88 1278.32 2337.88 1287.07 Q2337.88 1295.8 2334.8 1300.4 Q2331.74 1304.99 2325.93 1304.99 Q2320.12 1304.99 2317.04 1300.4 Q2313.99 1295.8 2313.99 1287.07 Q2313.99 1278.32 2317.04 1273.74 Q2320.12 1269.13 2325.93 1269.13 Z\" fill=\"#000000\" fill-rule=\"nonzero\" fill-opacity=\"1\" /><path clip-path=\"url(#clip780)\" d=\"M2346.9 1300.38 L2354.54 1300.38 L2354.54 1274.02 L2346.23 1275.68 L2346.23 1271.42 L2354.5 1269.76 L2359.17 1269.76 L2359.17 1300.38 L2366.81 1300.38 L2366.81 1304.32 L2346.9 1304.32 L2346.9 1300.38 Z\" fill=\"#000000\" fill-rule=\"nonzero\" fill-opacity=\"1\" /><path clip-path=\"url(#clip780)\" d=\"M2280.7 1127.05 Q2277.09 1127.05 2275.26 1130.61 Q2273.45 1134.15 2273.45 1141.28 Q2273.45 1148.39 2275.26 1151.95 Q2277.09 1155.5 2280.7 1155.5 Q2284.33 1155.5 2286.14 1151.95 Q2287.97 1148.39 2287.97 1141.28 Q2287.97 1134.15 2286.14 1130.61 Q2284.33 1127.05 2280.7 1127.05 M2280.7 1123.34 Q2286.51 1123.34 2289.57 1127.95 Q2292.64 1132.53 2292.64 1141.28 Q2292.64 1150.01 2289.57 1154.62 Q2286.51 1159.2 2280.7 1159.2 Q2274.89 1159.2 2271.81 1154.62 Q2268.76 1150.01 2268.76 1141.28 Q2268.76 1132.53 2271.81 1127.95 Q2274.89 1123.34 2280.7 1123.34 Z\" fill=\"#000000\" fill-rule=\"nonzero\" fill-opacity=\"1\" /><path clip-path=\"url(#clip780)\" d=\"M2300.86 1152.65 L2305.75 1152.65 L2305.75 1158.53 L2300.86 1158.53 L2300.86 1152.65 Z\" fill=\"#000000\" fill-rule=\"nonzero\" fill-opacity=\"1\" /><path clip-path=\"url(#clip780)\" d=\"M2325.93 1127.05 Q2322.32 1127.05 2320.49 1130.61 Q2318.69 1134.15 2318.69 1141.28 Q2318.69 1148.39 2320.49 1151.95 Q2322.32 1155.5 2325.93 1155.5 Q2329.57 1155.5 2331.37 1151.95 Q2333.2 1148.39 2333.2 1141.28 Q2333.2 1134.15 2331.37 1130.61 Q2329.57 1127.05 2325.93 1127.05 M2325.93 1123.34 Q2331.74 1123.34 2334.8 1127.95 Q2337.88 1132.53 2337.88 1141.28 Q2337.88 1150.01 2334.8 1154.62 Q2331.74 1159.2 2325.93 1159.2 Q2320.12 1159.2 2317.04 1154.62 Q2313.99 1150.01 2313.99 1141.28 Q2313.99 1132.53 2317.04 1127.95 Q2320.12 1123.34 2325.93 1123.34 Z\" fill=\"#000000\" fill-rule=\"nonzero\" fill-opacity=\"1\" /><path clip-path=\"url(#clip780)\" d=\"M2350.12 1154.59 L2366.44 1154.59 L2366.44 1158.53 L2344.5 1158.53 L2344.5 1154.59 Q2347.16 1151.84 2351.74 1147.21 Q2356.35 1142.56 2357.53 1141.21 Q2359.77 1138.69 2360.65 1136.95 Q2361.56 1135.2 2361.56 1133.51 Q2361.56 1130.75 2359.61 1129.01 Q2357.69 1127.28 2354.59 1127.28 Q2352.39 1127.28 2349.94 1128.04 Q2347.51 1128.81 2344.73 1130.36 L2344.73 1125.64 Q2347.55 1124.5 2350.01 1123.92 Q2352.46 1123.34 2354.5 1123.34 Q2359.87 1123.34 2363.06 1126.03 Q2366.26 1128.71 2366.26 1133.2 Q2366.26 1135.33 2365.45 1137.26 Q2364.66 1139.15 2362.55 1141.75 Q2361.97 1142.42 2358.87 1145.64 Q2355.77 1148.83 2350.12 1154.59 Z\" fill=\"#000000\" fill-rule=\"nonzero\" fill-opacity=\"1\" /><path clip-path=\"url(#clip780)\" d=\"M2280.7 981.259 Q2277.09 981.259 2275.26 984.824 Q2273.45 988.366 2273.45 995.495 Q2273.45 1002.6 2275.26 1006.17 Q2277.09 1009.71 2280.7 1009.71 Q2284.33 1009.71 2286.14 1006.17 Q2287.97 1002.6 2287.97 995.495 Q2287.97 988.366 2286.14 984.824 Q2284.33 981.259 2280.7 981.259 M2280.7 977.556 Q2286.51 977.556 2289.57 982.162 Q2292.64 986.746 2292.64 995.495 Q2292.64 1004.22 2289.57 1008.83 Q2286.51 1013.41 2280.7 1013.41 Q2274.89 1013.41 2271.81 1008.83 Q2268.76 1004.22 2268.76 995.495 Q2268.76 986.746 2271.81 982.162 Q2274.89 977.556 2280.7 977.556 Z\" fill=\"#000000\" fill-rule=\"nonzero\" fill-opacity=\"1\" /><path clip-path=\"url(#clip780)\" d=\"M2300.86 1006.86 L2305.75 1006.86 L2305.75 1012.74 L2300.86 1012.74 L2300.86 1006.86 Z\" fill=\"#000000\" fill-rule=\"nonzero\" fill-opacity=\"1\" /><path clip-path=\"url(#clip780)\" d=\"M2325.93 981.259 Q2322.32 981.259 2320.49 984.824 Q2318.69 988.366 2318.69 995.495 Q2318.69 1002.6 2320.49 1006.17 Q2322.32 1009.71 2325.93 1009.71 Q2329.57 1009.71 2331.37 1006.17 Q2333.2 1002.6 2333.2 995.495 Q2333.2 988.366 2331.37 984.824 Q2329.57 981.259 2325.93 981.259 M2325.93 977.556 Q2331.74 977.556 2334.8 982.162 Q2337.88 986.746 2337.88 995.495 Q2337.88 1004.22 2334.8 1008.83 Q2331.74 1013.41 2325.93 1013.41 Q2320.12 1013.41 2317.04 1008.83 Q2313.99 1004.22 2313.99 995.495 Q2313.99 986.746 2317.04 982.162 Q2320.12 977.556 2325.93 977.556 Z\" fill=\"#000000\" fill-rule=\"nonzero\" fill-opacity=\"1\" /><path clip-path=\"url(#clip780)\" d=\"M2360.26 994.107 Q2363.62 994.824 2365.49 997.093 Q2367.39 999.361 2367.39 1002.69 Q2367.39 1007.81 2363.87 1010.61 Q2360.35 1013.41 2353.87 1013.41 Q2351.7 1013.41 2349.38 1012.97 Q2347.09 1012.56 2344.64 1011.7 L2344.64 1007.19 Q2346.58 1008.32 2348.89 1008.9 Q2351.21 1009.48 2353.73 1009.48 Q2358.13 1009.48 2360.42 1007.74 Q2362.74 1006 2362.74 1002.69 Q2362.74 999.639 2360.58 997.926 Q2358.45 996.19 2354.64 996.19 L2350.61 996.19 L2350.61 992.347 L2354.82 992.347 Q2358.27 992.347 2360.1 990.982 Q2361.93 989.593 2361.93 987 Q2361.93 984.338 2360.03 982.926 Q2358.15 981.491 2354.64 981.491 Q2352.71 981.491 2350.51 981.908 Q2348.32 982.324 2345.68 983.204 L2345.68 979.037 Q2348.34 978.296 2350.65 977.926 Q2352.99 977.556 2355.05 977.556 Q2360.38 977.556 2363.48 979.986 Q2366.58 982.394 2366.58 986.514 Q2366.58 989.384 2364.94 991.375 Q2363.29 993.343 2360.26 994.107 Z\" fill=\"#000000\" fill-rule=\"nonzero\" fill-opacity=\"1\" /><path clip-path=\"url(#clip780)\" d=\"M2280.7 835.472 Q2277.09 835.472 2275.26 839.036 Q2273.45 842.578 2273.45 849.708 Q2273.45 856.814 2275.26 860.379 Q2277.09 863.92 2280.7 863.92 Q2284.33 863.92 2286.14 860.379 Q2287.97 856.814 2287.97 849.708 Q2287.97 842.578 2286.14 839.036 Q2284.33 835.472 2280.7 835.472 M2280.7 831.768 Q2286.51 831.768 2289.57 836.374 Q2292.64 840.958 2292.64 849.708 Q2292.64 858.434 2289.57 863.041 Q2286.51 867.624 2280.7 867.624 Q2274.89 867.624 2271.81 863.041 Q2268.76 858.434 2268.76 849.708 Q2268.76 840.958 2271.81 836.374 Q2274.89 831.768 2280.7 831.768 Z\" fill=\"#000000\" fill-rule=\"nonzero\" fill-opacity=\"1\" /><path clip-path=\"url(#clip780)\" d=\"M2300.86 861.073 L2305.75 861.073 L2305.75 866.953 L2300.86 866.953 L2300.86 861.073 Z\" fill=\"#000000\" fill-rule=\"nonzero\" fill-opacity=\"1\" /><path clip-path=\"url(#clip780)\" d=\"M2325.93 835.472 Q2322.32 835.472 2320.49 839.036 Q2318.69 842.578 2318.69 849.708 Q2318.69 856.814 2320.49 860.379 Q2322.32 863.92 2325.93 863.92 Q2329.57 863.92 2331.37 860.379 Q2333.2 856.814 2333.2 849.708 Q2333.2 842.578 2331.37 839.036 Q2329.57 835.472 2325.93 835.472 M2325.93 831.768 Q2331.74 831.768 2334.8 836.374 Q2337.88 840.958 2337.88 849.708 Q2337.88 858.434 2334.8 863.041 Q2331.74 867.624 2325.93 867.624 Q2320.12 867.624 2317.04 863.041 Q2313.99 858.434 2313.99 849.708 Q2313.99 840.958 2317.04 836.374 Q2320.12 831.768 2325.93 831.768 Z\" fill=\"#000000\" fill-rule=\"nonzero\" fill-opacity=\"1\" /><path clip-path=\"url(#clip780)\" d=\"M2358.94 836.467 L2347.14 854.916 L2358.94 854.916 L2358.94 836.467 M2357.71 832.393 L2363.59 832.393 L2363.59 854.916 L2368.52 854.916 L2368.52 858.805 L2363.59 858.805 L2363.59 866.953 L2358.94 866.953 L2358.94 858.805 L2343.34 858.805 L2343.34 854.291 L2357.71 832.393 Z\" fill=\"#000000\" fill-rule=\"nonzero\" fill-opacity=\"1\" /><path clip-path=\"url(#clip780)\" d=\"M2280.7 689.684 Q2277.09 689.684 2275.26 693.249 Q2273.45 696.79 2273.45 703.92 Q2273.45 711.026 2275.26 714.591 Q2277.09 718.133 2280.7 718.133 Q2284.33 718.133 2286.14 714.591 Q2287.97 711.026 2287.97 703.92 Q2287.97 696.79 2286.14 693.249 Q2284.33 689.684 2280.7 689.684 M2280.7 685.98 Q2286.51 685.98 2289.57 690.586 Q2292.64 695.17 2292.64 703.92 Q2292.64 712.647 2289.57 717.253 Q2286.51 721.836 2280.7 721.836 Q2274.89 721.836 2271.81 717.253 Q2268.76 712.647 2268.76 703.92 Q2268.76 695.17 2271.81 690.586 Q2274.89 685.98 2280.7 685.98 Z\" fill=\"#000000\" fill-rule=\"nonzero\" fill-opacity=\"1\" /><path clip-path=\"url(#clip780)\" d=\"M2300.86 715.285 L2305.75 715.285 L2305.75 721.165 L2300.86 721.165 L2300.86 715.285 Z\" fill=\"#000000\" fill-rule=\"nonzero\" fill-opacity=\"1\" /><path clip-path=\"url(#clip780)\" d=\"M2325.93 689.684 Q2322.32 689.684 2320.49 693.249 Q2318.69 696.79 2318.69 703.92 Q2318.69 711.026 2320.49 714.591 Q2322.32 718.133 2325.93 718.133 Q2329.57 718.133 2331.37 714.591 Q2333.2 711.026 2333.2 703.92 Q2333.2 696.79 2331.37 693.249 Q2329.57 689.684 2325.93 689.684 M2325.93 685.98 Q2331.74 685.98 2334.8 690.586 Q2337.88 695.17 2337.88 703.92 Q2337.88 712.647 2334.8 717.253 Q2331.74 721.836 2325.93 721.836 Q2320.12 721.836 2317.04 717.253 Q2313.99 712.647 2313.99 703.92 Q2313.99 695.17 2317.04 690.586 Q2320.12 685.98 2325.93 685.98 Z\" fill=\"#000000\" fill-rule=\"nonzero\" fill-opacity=\"1\" /><path clip-path=\"url(#clip780)\" d=\"M2346.14 686.605 L2364.5 686.605 L2364.5 690.54 L2350.42 690.54 L2350.42 699.012 Q2351.44 698.665 2352.46 698.503 Q2353.48 698.318 2354.5 698.318 Q2360.28 698.318 2363.66 701.489 Q2367.04 704.66 2367.04 710.077 Q2367.04 715.656 2363.57 718.758 Q2360.1 721.836 2353.78 721.836 Q2351.6 721.836 2349.33 721.466 Q2347.09 721.096 2344.68 720.355 L2344.68 715.656 Q2346.76 716.79 2348.99 717.346 Q2351.21 717.901 2353.69 717.901 Q2357.69 717.901 2360.03 715.795 Q2362.37 713.688 2362.37 710.077 Q2362.37 706.466 2360.03 704.36 Q2357.69 702.253 2353.69 702.253 Q2351.81 702.253 2349.94 702.67 Q2348.08 703.086 2346.14 703.966 L2346.14 686.605 Z\" fill=\"#000000\" fill-rule=\"nonzero\" fill-opacity=\"1\" /><path clip-path=\"url(#clip780)\" d=\"M2280.7 543.896 Q2277.09 543.896 2275.26 547.461 Q2273.45 551.002 2273.45 558.132 Q2273.45 565.238 2275.26 568.803 Q2277.09 572.345 2280.7 572.345 Q2284.33 572.345 2286.14 568.803 Q2287.97 565.238 2287.97 558.132 Q2287.97 551.002 2286.14 547.461 Q2284.33 543.896 2280.7 543.896 M2280.7 540.192 Q2286.51 540.192 2289.57 544.799 Q2292.64 549.382 2292.64 558.132 Q2292.64 566.859 2289.57 571.465 Q2286.51 576.048 2280.7 576.048 Q2274.89 576.048 2271.81 571.465 Q2268.76 566.859 2268.76 558.132 Q2268.76 549.382 2271.81 544.799 Q2274.89 540.192 2280.7 540.192 Z\" fill=\"#000000\" fill-rule=\"nonzero\" fill-opacity=\"1\" /><path clip-path=\"url(#clip780)\" d=\"M2300.86 569.498 L2305.75 569.498 L2305.75 575.377 L2300.86 575.377 L2300.86 569.498 Z\" fill=\"#000000\" fill-rule=\"nonzero\" fill-opacity=\"1\" /><path clip-path=\"url(#clip780)\" d=\"M2325.93 543.896 Q2322.32 543.896 2320.49 547.461 Q2318.69 551.002 2318.69 558.132 Q2318.69 565.238 2320.49 568.803 Q2322.32 572.345 2325.93 572.345 Q2329.57 572.345 2331.37 568.803 Q2333.2 565.238 2333.2 558.132 Q2333.2 551.002 2331.37 547.461 Q2329.57 543.896 2325.93 543.896 M2325.93 540.192 Q2331.74 540.192 2334.8 544.799 Q2337.88 549.382 2337.88 558.132 Q2337.88 566.859 2334.8 571.465 Q2331.74 576.048 2325.93 576.048 Q2320.12 576.048 2317.04 571.465 Q2313.99 566.859 2313.99 558.132 Q2313.99 549.382 2317.04 544.799 Q2320.12 540.192 2325.93 540.192 Z\" fill=\"#000000\" fill-rule=\"nonzero\" fill-opacity=\"1\" /><path clip-path=\"url(#clip780)\" d=\"M2356.67 556.234 Q2353.52 556.234 2351.67 558.387 Q2349.84 560.539 2349.84 564.289 Q2349.84 568.016 2351.67 570.192 Q2353.52 572.345 2356.67 572.345 Q2359.82 572.345 2361.65 570.192 Q2363.5 568.016 2363.5 564.289 Q2363.5 560.539 2361.65 558.387 Q2359.82 556.234 2356.67 556.234 M2365.95 541.581 L2365.95 545.84 Q2364.2 545.007 2362.39 544.567 Q2360.61 544.127 2358.85 544.127 Q2354.22 544.127 2351.76 547.252 Q2349.33 550.377 2348.99 556.697 Q2350.35 554.683 2352.41 553.618 Q2354.47 552.53 2356.95 552.53 Q2362.16 552.53 2365.17 555.701 Q2368.2 558.849 2368.2 564.289 Q2368.2 569.613 2365.05 572.831 Q2361.9 576.048 2356.67 576.048 Q2350.68 576.048 2347.51 571.465 Q2344.33 566.859 2344.33 558.132 Q2344.33 549.938 2348.22 545.076 Q2352.11 540.192 2358.66 540.192 Q2360.42 540.192 2362.2 540.539 Q2364.01 540.887 2365.95 541.581 Z\" fill=\"#000000\" fill-rule=\"nonzero\" fill-opacity=\"1\" /><path clip-path=\"url(#clip780)\" d=\"M2280.7 398.108 Q2277.09 398.108 2275.26 401.673 Q2273.45 405.214 2273.45 412.344 Q2273.45 419.45 2275.26 423.015 Q2277.09 426.557 2280.7 426.557 Q2284.33 426.557 2286.14 423.015 Q2287.97 419.45 2287.97 412.344 Q2287.97 405.214 2286.14 401.673 Q2284.33 398.108 2280.7 398.108 M2280.7 394.404 Q2286.51 394.404 2289.57 399.011 Q2292.64 403.594 2292.64 412.344 Q2292.64 421.071 2289.57 425.677 Q2286.51 430.261 2280.7 430.261 Q2274.89 430.261 2271.81 425.677 Q2268.76 421.071 2268.76 412.344 Q2268.76 403.594 2271.81 399.011 Q2274.89 394.404 2280.7 394.404 Z\" fill=\"#000000\" fill-rule=\"nonzero\" fill-opacity=\"1\" /><path clip-path=\"url(#clip780)\" d=\"M2300.86 423.71 L2305.75 423.71 L2305.75 429.589 L2300.86 429.589 L2300.86 423.71 Z\" fill=\"#000000\" fill-rule=\"nonzero\" fill-opacity=\"1\" /><path clip-path=\"url(#clip780)\" d=\"M2325.93 398.108 Q2322.32 398.108 2320.49 401.673 Q2318.69 405.214 2318.69 412.344 Q2318.69 419.45 2320.49 423.015 Q2322.32 426.557 2325.93 426.557 Q2329.57 426.557 2331.37 423.015 Q2333.2 419.45 2333.2 412.344 Q2333.2 405.214 2331.37 401.673 Q2329.57 398.108 2325.93 398.108 M2325.93 394.404 Q2331.74 394.404 2334.8 399.011 Q2337.88 403.594 2337.88 412.344 Q2337.88 421.071 2334.8 425.677 Q2331.74 430.261 2325.93 430.261 Q2320.12 430.261 2317.04 425.677 Q2313.99 421.071 2313.99 412.344 Q2313.99 403.594 2317.04 399.011 Q2320.12 394.404 2325.93 394.404 Z\" fill=\"#000000\" fill-rule=\"nonzero\" fill-opacity=\"1\" /><path clip-path=\"url(#clip780)\" d=\"M2344.91 395.029 L2367.14 395.029 L2367.14 397.02 L2354.59 429.589 L2349.7 429.589 L2361.51 398.964 L2344.91 398.964 L2344.91 395.029 Z\" fill=\"#000000\" fill-rule=\"nonzero\" fill-opacity=\"1\" /><path clip-path=\"url(#clip780)\" d=\"M2280.7 252.32 Q2277.09 252.32 2275.26 255.885 Q2273.45 259.427 2273.45 266.556 Q2273.45 273.663 2275.26 277.227 Q2277.09 280.769 2280.7 280.769 Q2284.33 280.769 2286.14 277.227 Q2287.97 273.663 2287.97 266.556 Q2287.97 259.427 2286.14 255.885 Q2284.33 252.32 2280.7 252.32 M2280.7 248.616 Q2286.51 248.616 2289.57 253.223 Q2292.64 257.806 2292.64 266.556 Q2292.64 275.283 2289.57 279.889 Q2286.51 284.473 2280.7 284.473 Q2274.89 284.473 2271.81 279.889 Q2268.76 275.283 2268.76 266.556 Q2268.76 257.806 2271.81 253.223 Q2274.89 248.616 2280.7 248.616 Z\" fill=\"#000000\" fill-rule=\"nonzero\" fill-opacity=\"1\" /><path clip-path=\"url(#clip780)\" d=\"M2300.86 277.922 L2305.75 277.922 L2305.75 283.801 L2300.86 283.801 L2300.86 277.922 Z\" fill=\"#000000\" fill-rule=\"nonzero\" fill-opacity=\"1\" /><path clip-path=\"url(#clip780)\" d=\"M2325.93 252.32 Q2322.32 252.32 2320.49 255.885 Q2318.69 259.427 2318.69 266.556 Q2318.69 273.663 2320.49 277.227 Q2322.32 280.769 2325.93 280.769 Q2329.57 280.769 2331.37 277.227 Q2333.2 273.663 2333.2 266.556 Q2333.2 259.427 2331.37 255.885 Q2329.57 252.32 2325.93 252.32 M2325.93 248.616 Q2331.74 248.616 2334.8 253.223 Q2337.88 257.806 2337.88 266.556 Q2337.88 275.283 2334.8 279.889 Q2331.74 284.473 2325.93 284.473 Q2320.12 284.473 2317.04 279.889 Q2313.99 275.283 2313.99 266.556 Q2313.99 257.806 2317.04 253.223 Q2320.12 248.616 2325.93 248.616 Z\" fill=\"#000000\" fill-rule=\"nonzero\" fill-opacity=\"1\" /><path clip-path=\"url(#clip780)\" d=\"M2356.09 267.39 Q2352.76 267.39 2350.84 269.172 Q2348.94 270.954 2348.94 274.079 Q2348.94 277.204 2350.84 278.987 Q2352.76 280.769 2356.09 280.769 Q2359.43 280.769 2361.35 278.987 Q2363.27 277.181 2363.27 274.079 Q2363.27 270.954 2361.35 269.172 Q2359.45 267.39 2356.09 267.39 M2351.42 265.399 Q2348.41 264.658 2346.72 262.598 Q2345.05 260.538 2345.05 257.575 Q2345.05 253.431 2347.99 251.024 Q2350.95 248.616 2356.09 248.616 Q2361.26 248.616 2364.2 251.024 Q2367.14 253.431 2367.14 257.575 Q2367.14 260.538 2365.45 262.598 Q2363.78 264.658 2360.79 265.399 Q2364.17 266.186 2366.05 268.477 Q2367.95 270.769 2367.95 274.079 Q2367.95 279.102 2364.87 281.788 Q2361.81 284.473 2356.09 284.473 Q2350.38 284.473 2347.3 281.788 Q2344.24 279.102 2344.24 274.079 Q2344.24 270.769 2346.14 268.477 Q2348.04 266.186 2351.42 265.399 M2349.7 258.015 Q2349.7 260.7 2351.37 262.204 Q2353.06 263.709 2356.09 263.709 Q2359.1 263.709 2360.79 262.204 Q2362.51 260.7 2362.51 258.015 Q2362.51 255.329 2360.79 253.825 Q2359.1 252.32 2356.09 252.32 Q2353.06 252.32 2351.37 253.825 Q2349.7 255.329 2349.7 258.015 Z\" fill=\"#000000\" fill-rule=\"nonzero\" fill-opacity=\"1\" /><path clip-path=\"url(#clip780)\" d=\"M2280.7 106.532 Q2277.09 106.532 2275.26 110.097 Q2273.45 113.639 2273.45 120.768 Q2273.45 127.875 2275.26 131.44 Q2277.09 134.981 2280.7 134.981 Q2284.33 134.981 2286.14 131.44 Q2287.97 127.875 2287.97 120.768 Q2287.97 113.639 2286.14 110.097 Q2284.33 106.532 2280.7 106.532 M2280.7 102.829 Q2286.51 102.829 2289.57 107.435 Q2292.64 112.018 2292.64 120.768 Q2292.64 129.495 2289.57 134.102 Q2286.51 138.685 2280.7 138.685 Q2274.89 138.685 2271.81 134.102 Q2268.76 129.495 2268.76 120.768 Q2268.76 112.018 2271.81 107.435 Q2274.89 102.829 2280.7 102.829 Z\" fill=\"#000000\" fill-rule=\"nonzero\" fill-opacity=\"1\" /><path clip-path=\"url(#clip780)\" d=\"M2300.86 132.134 L2305.75 132.134 L2305.75 138.014 L2300.86 138.014 L2300.86 132.134 Z\" fill=\"#000000\" fill-rule=\"nonzero\" fill-opacity=\"1\" /><path clip-path=\"url(#clip780)\" d=\"M2325.93 106.532 Q2322.32 106.532 2320.49 110.097 Q2318.69 113.639 2318.69 120.768 Q2318.69 127.875 2320.49 131.44 Q2322.32 134.981 2325.93 134.981 Q2329.57 134.981 2331.37 131.44 Q2333.2 127.875 2333.2 120.768 Q2333.2 113.639 2331.37 110.097 Q2329.57 106.532 2325.93 106.532 M2325.93 102.829 Q2331.74 102.829 2334.8 107.435 Q2337.88 112.018 2337.88 120.768 Q2337.88 129.495 2334.8 134.102 Q2331.74 138.685 2325.93 138.685 Q2320.12 138.685 2317.04 134.102 Q2313.99 129.495 2313.99 120.768 Q2313.99 112.018 2317.04 107.435 Q2320.12 102.829 2325.93 102.829 Z\" fill=\"#000000\" fill-rule=\"nonzero\" fill-opacity=\"1\" /><path clip-path=\"url(#clip780)\" d=\"M2346.23 137.296 L2346.23 133.037 Q2347.99 133.87 2349.8 134.31 Q2351.6 134.75 2353.34 134.75 Q2357.97 134.75 2360.4 131.648 Q2362.85 128.523 2363.2 122.18 Q2361.86 124.171 2359.8 125.236 Q2357.74 126.301 2355.24 126.301 Q2350.05 126.301 2347.02 123.176 Q2344.01 120.028 2344.01 114.588 Q2344.01 109.264 2347.16 106.046 Q2350.31 102.829 2355.54 102.829 Q2361.53 102.829 2364.68 107.435 Q2367.85 112.018 2367.85 120.768 Q2367.85 128.94 2363.96 133.824 Q2360.1 138.685 2353.55 138.685 Q2351.79 138.685 2349.98 138.338 Q2348.18 137.99 2346.23 137.296 M2355.54 122.643 Q2358.69 122.643 2360.51 120.491 Q2362.37 118.338 2362.37 114.588 Q2362.37 110.861 2360.51 108.708 Q2358.69 106.532 2355.54 106.532 Q2352.39 106.532 2350.54 108.708 Q2348.71 110.861 2348.71 114.588 Q2348.71 118.338 2350.54 120.491 Q2352.39 122.643 2355.54 122.643 Z\" fill=\"#000000\" fill-rule=\"nonzero\" fill-opacity=\"1\" /><polyline clip-path=\"url(#clip780)\" style=\"stroke:#000000; stroke-linecap:round; stroke-linejoin:round; stroke-width:4; stroke-opacity:1; fill:none\" points=\"2232.76,1409.37 2232.76,1290.67 2256.76,1290.67 2232.76,1290.67 2232.76,1144.88 2256.76,1144.88 2232.76,1144.88 2232.76,999.09 2256.76,999.09 2232.76,999.09 2232.76,853.302 2256.76,853.302 2232.76,853.302 2232.76,707.514 2256.76,707.514 2232.76,707.514 2232.76,561.726 2256.76,561.726 2232.76,561.726 2232.76,415.938 2256.76,415.938 2232.76,415.938 2232.76,270.15 2256.76,270.15 2232.76,270.15 2232.76,124.362 2256.76,124.362 2232.76,124.362 2232.76,124.324 \"/>\n",
       "</svg>\n"
      ]
     },
     "execution_count": 94,
     "metadata": {},
     "output_type": "execute_result"
    }
   ],
   "source": [
    "heatmap(Tx,Ty,imag(F12list[3]),aspect_ratio=1)"
   ]
  },
  {
   "cell_type": "markdown",
   "metadata": {},
   "source": [
    "## Projected Single Particle"
   ]
  },
  {
   "cell_type": "code",
   "execution_count": 95,
   "metadata": {},
   "outputs": [],
   "source": [
    "param_dict[\"sub_range\"] = 1:3\n",
    "\n",
    "sub_states = get_subset_states(H1, param_dict[\"sub_range\"]);\n",
    "subspace_proj, P, Pt = get_projector_op(basis, sub_states);\n",
    "H1_proj = get_subspace_op(H1, P, Pt)\n",
    "#param_dict[\"subspace_proj\"] = subspace_proj\n",
    "param_dict[\"projection\"] = subspace_proj, P, Pt;"
   ]
  },
  {
   "cell_type": "markdown",
   "metadata": {},
   "source": [
    "### Projected Single Particle Chern"
   ]
  },
  {
   "cell_type": "code",
   "execution_count": 96,
   "metadata": {},
   "outputs": [],
   "source": [
    "EEA, UUA = calc_all_states_H1(param_dict);"
   ]
  },
  {
   "cell_type": "code",
   "execution_count": 98,
   "metadata": {},
   "outputs": [
    {
     "data": {
      "text/plain": [
       "1-element Vector{Any}:\n",
       " 0.9999999999999999 + 1.0505055731200461e-16im"
      ]
     },
     "execution_count": 98,
     "metadata": {},
     "output_type": "execute_result"
    }
   ],
   "source": [
    "bands = [[1,3]]\n",
    "Chern, F12list = calc_chern_bands(UUA, bands);\n",
    "Chern"
   ]
  },
  {
   "cell_type": "code",
   "execution_count": 99,
   "metadata": {},
   "outputs": [
    {
     "data": {
      "image/svg+xml": [
       "<?xml version=\"1.0\" encoding=\"utf-8\"?>\n",
       "<svg xmlns=\"http://www.w3.org/2000/svg\" xmlns:xlink=\"http://www.w3.org/1999/xlink\" width=\"600\" height=\"400\" viewBox=\"0 0 2400 1600\">\n",
       "<defs>\n",
       "  <clipPath id=\"clip820\">\n",
       "    <rect x=\"0\" y=\"0\" width=\"2400\" height=\"1600\"/>\n",
       "  </clipPath>\n",
       "</defs>\n",
       "<path clip-path=\"url(#clip820)\" d=\"M0 1600 L2400 1600 L2400 0 L0 0  Z\" fill=\"#ffffff\" fill-rule=\"evenodd\" fill-opacity=\"1\"/>\n",
       "<defs>\n",
       "  <clipPath id=\"clip821\">\n",
       "    <rect x=\"480\" y=\"0\" width=\"1681\" height=\"1600\"/>\n",
       "  </clipPath>\n",
       "</defs>\n",
       "<path clip-path=\"url(#clip820)\" d=\"M112.177 1409.37 L2112.76 1409.37 L2112.76 124.324 L112.177 124.324  Z\" fill=\"#ffffff\" fill-rule=\"evenodd\" fill-opacity=\"1\"/>\n",
       "<defs>\n",
       "  <clipPath id=\"clip822\">\n",
       "    <rect x=\"112\" y=\"124\" width=\"2002\" height=\"1286\"/>\n",
       "  </clipPath>\n",
       "</defs>\n",
       "<polyline clip-path=\"url(#clip822)\" style=\"stroke:#000000; stroke-linecap:round; stroke-linejoin:round; stroke-width:2; stroke-opacity:0.1; fill:none\" points=\"502.071,1409.37 502.071,124.324 \"/>\n",
       "<polyline clip-path=\"url(#clip822)\" style=\"stroke:#000000; stroke-linecap:round; stroke-linejoin:round; stroke-width:2; stroke-opacity:0.1; fill:none\" points=\"911.113,1409.37 911.113,124.324 \"/>\n",
       "<polyline clip-path=\"url(#clip822)\" style=\"stroke:#000000; stroke-linecap:round; stroke-linejoin:round; stroke-width:2; stroke-opacity:0.1; fill:none\" points=\"1320.15,1409.37 1320.15,124.324 \"/>\n",
       "<polyline clip-path=\"url(#clip822)\" style=\"stroke:#000000; stroke-linecap:round; stroke-linejoin:round; stroke-width:2; stroke-opacity:0.1; fill:none\" points=\"1729.2,1409.37 1729.2,124.324 \"/>\n",
       "<polyline clip-path=\"url(#clip820)\" style=\"stroke:#000000; stroke-linecap:round; stroke-linejoin:round; stroke-width:4; stroke-opacity:1; fill:none\" points=\"112.177,1409.37 2112.76,1409.37 \"/>\n",
       "<polyline clip-path=\"url(#clip820)\" style=\"stroke:#000000; stroke-linecap:round; stroke-linejoin:round; stroke-width:4; stroke-opacity:1; fill:none\" points=\"502.071,1409.37 502.071,1392.49 \"/>\n",
       "<polyline clip-path=\"url(#clip820)\" style=\"stroke:#000000; stroke-linecap:round; stroke-linejoin:round; stroke-width:4; stroke-opacity:1; fill:none\" points=\"911.113,1409.37 911.113,1392.49 \"/>\n",
       "<polyline clip-path=\"url(#clip820)\" style=\"stroke:#000000; stroke-linecap:round; stroke-linejoin:round; stroke-width:4; stroke-opacity:1; fill:none\" points=\"1320.15,1409.37 1320.15,1392.49 \"/>\n",
       "<polyline clip-path=\"url(#clip820)\" style=\"stroke:#000000; stroke-linecap:round; stroke-linejoin:round; stroke-width:4; stroke-opacity:1; fill:none\" points=\"1729.2,1409.37 1729.2,1392.49 \"/>\n",
       "<path clip-path=\"url(#clip820)\" d=\"M502.071 1440.29 Q498.46 1440.29 496.631 1443.85 Q494.826 1447.39 494.826 1454.52 Q494.826 1461.63 496.631 1465.19 Q498.46 1468.74 502.071 1468.74 Q505.705 1468.74 507.511 1465.19 Q509.339 1461.63 509.339 1454.52 Q509.339 1447.39 507.511 1443.85 Q505.705 1440.29 502.071 1440.29 M502.071 1436.58 Q507.881 1436.58 510.937 1441.19 Q514.015 1445.77 514.015 1454.52 Q514.015 1463.25 510.937 1467.86 Q507.881 1472.44 502.071 1472.44 Q496.261 1472.44 493.182 1467.86 Q490.127 1463.25 490.127 1454.52 Q490.127 1445.77 493.182 1441.19 Q496.261 1436.58 502.071 1436.58 Z\" fill=\"#000000\" fill-rule=\"nonzero\" fill-opacity=\"1\" /><path clip-path=\"url(#clip820)\" d=\"M905.766 1467.83 L922.085 1467.83 L922.085 1471.77 L900.141 1471.77 L900.141 1467.83 Q902.803 1465.08 907.386 1460.45 Q911.993 1455.8 913.173 1454.45 Q915.419 1451.93 916.298 1450.19 Q917.201 1448.43 917.201 1446.74 Q917.201 1443.99 915.256 1442.25 Q913.335 1440.52 910.233 1440.52 Q908.034 1440.52 905.581 1441.28 Q903.15 1442.05 900.372 1443.6 L900.372 1438.87 Q903.196 1437.74 905.65 1437.16 Q908.104 1436.58 910.141 1436.58 Q915.511 1436.58 918.706 1439.27 Q921.9 1441.95 921.9 1446.44 Q921.9 1448.57 921.09 1450.49 Q920.303 1452.39 918.196 1454.99 Q917.618 1455.66 914.516 1458.87 Q911.414 1462.07 905.766 1467.83 Z\" fill=\"#000000\" fill-rule=\"nonzero\" fill-opacity=\"1\" /><path clip-path=\"url(#clip820)\" d=\"M1323.16 1441.28 L1311.36 1459.73 L1323.16 1459.73 L1323.16 1441.28 M1321.94 1437.21 L1327.82 1437.21 L1327.82 1459.73 L1332.75 1459.73 L1332.75 1463.62 L1327.82 1463.62 L1327.82 1471.77 L1323.16 1471.77 L1323.16 1463.62 L1307.56 1463.62 L1307.56 1459.11 L1321.94 1437.21 Z\" fill=\"#000000\" fill-rule=\"nonzero\" fill-opacity=\"1\" /><path clip-path=\"url(#clip820)\" d=\"M1729.6 1452.62 Q1726.45 1452.62 1724.6 1454.78 Q1722.77 1456.93 1722.77 1460.68 Q1722.77 1464.41 1724.6 1466.58 Q1726.45 1468.74 1729.6 1468.74 Q1732.75 1468.74 1734.58 1466.58 Q1736.43 1464.41 1736.43 1460.68 Q1736.43 1456.93 1734.58 1454.78 Q1732.75 1452.62 1729.6 1452.62 M1738.88 1437.97 L1738.88 1442.23 Q1737.13 1441.4 1735.32 1440.96 Q1733.54 1440.52 1731.78 1440.52 Q1727.15 1440.52 1724.69 1443.64 Q1722.26 1446.77 1721.92 1453.09 Q1723.28 1451.07 1725.34 1450.01 Q1727.4 1448.92 1729.88 1448.92 Q1735.09 1448.92 1738.1 1452.09 Q1741.13 1455.24 1741.13 1460.68 Q1741.13 1466 1737.98 1469.22 Q1734.83 1472.44 1729.6 1472.44 Q1723.61 1472.44 1720.44 1467.86 Q1717.26 1463.25 1717.26 1454.52 Q1717.26 1446.33 1721.15 1441.47 Q1725.04 1436.58 1731.59 1436.58 Q1733.35 1436.58 1735.13 1436.93 Q1736.94 1437.28 1738.88 1437.97 Z\" fill=\"#000000\" fill-rule=\"nonzero\" fill-opacity=\"1\" /><polyline clip-path=\"url(#clip822)\" style=\"stroke:#000000; stroke-linecap:round; stroke-linejoin:round; stroke-width:2; stroke-opacity:0.1; fill:none\" points=\"112.177,1377.24 2112.76,1377.24 \"/>\n",
       "<polyline clip-path=\"url(#clip822)\" style=\"stroke:#000000; stroke-linecap:round; stroke-linejoin:round; stroke-width:2; stroke-opacity:0.1; fill:none\" points=\"112.177,1172.72 2112.76,1172.72 \"/>\n",
       "<polyline clip-path=\"url(#clip822)\" style=\"stroke:#000000; stroke-linecap:round; stroke-linejoin:round; stroke-width:2; stroke-opacity:0.1; fill:none\" points=\"112.177,968.2 2112.76,968.2 \"/>\n",
       "<polyline clip-path=\"url(#clip822)\" style=\"stroke:#000000; stroke-linecap:round; stroke-linejoin:round; stroke-width:2; stroke-opacity:0.1; fill:none\" points=\"112.177,763.679 2112.76,763.679 \"/>\n",
       "<polyline clip-path=\"url(#clip822)\" style=\"stroke:#000000; stroke-linecap:round; stroke-linejoin:round; stroke-width:2; stroke-opacity:0.1; fill:none\" points=\"112.177,559.158 2112.76,559.158 \"/>\n",
       "<polyline clip-path=\"url(#clip822)\" style=\"stroke:#000000; stroke-linecap:round; stroke-linejoin:round; stroke-width:2; stroke-opacity:0.1; fill:none\" points=\"112.177,354.637 2112.76,354.637 \"/>\n",
       "<polyline clip-path=\"url(#clip822)\" style=\"stroke:#000000; stroke-linecap:round; stroke-linejoin:round; stroke-width:2; stroke-opacity:0.1; fill:none\" points=\"112.177,150.116 2112.76,150.116 \"/>\n",
       "<polyline clip-path=\"url(#clip820)\" style=\"stroke:#000000; stroke-linecap:round; stroke-linejoin:round; stroke-width:4; stroke-opacity:1; fill:none\" points=\"112.177,1409.37 112.177,124.324 \"/>\n",
       "<polyline clip-path=\"url(#clip820)\" style=\"stroke:#000000; stroke-linecap:round; stroke-linejoin:round; stroke-width:4; stroke-opacity:1; fill:none\" points=\"112.177,1377.24 129.051,1377.24 \"/>\n",
       "<polyline clip-path=\"url(#clip820)\" style=\"stroke:#000000; stroke-linecap:round; stroke-linejoin:round; stroke-width:4; stroke-opacity:1; fill:none\" points=\"112.177,1172.72 129.051,1172.72 \"/>\n",
       "<polyline clip-path=\"url(#clip820)\" style=\"stroke:#000000; stroke-linecap:round; stroke-linejoin:round; stroke-width:4; stroke-opacity:1; fill:none\" points=\"112.177,968.2 129.051,968.2 \"/>\n",
       "<polyline clip-path=\"url(#clip820)\" style=\"stroke:#000000; stroke-linecap:round; stroke-linejoin:round; stroke-width:4; stroke-opacity:1; fill:none\" points=\"112.177,763.679 129.051,763.679 \"/>\n",
       "<polyline clip-path=\"url(#clip820)\" style=\"stroke:#000000; stroke-linecap:round; stroke-linejoin:round; stroke-width:4; stroke-opacity:1; fill:none\" points=\"112.177,559.158 129.051,559.158 \"/>\n",
       "<polyline clip-path=\"url(#clip820)\" style=\"stroke:#000000; stroke-linecap:round; stroke-linejoin:round; stroke-width:4; stroke-opacity:1; fill:none\" points=\"112.177,354.637 129.051,354.637 \"/>\n",
       "<polyline clip-path=\"url(#clip820)\" style=\"stroke:#000000; stroke-linecap:round; stroke-linejoin:round; stroke-width:4; stroke-opacity:1; fill:none\" points=\"112.177,150.116 129.051,150.116 \"/>\n",
       "<path clip-path=\"url(#clip820)\" d=\"M64.2328 1363.04 Q60.6217 1363.04 58.793 1366.6 Q56.9875 1370.15 56.9875 1377.28 Q56.9875 1384.38 58.793 1387.95 Q60.6217 1391.49 64.2328 1391.49 Q67.867 1391.49 69.6726 1387.95 Q71.5013 1384.38 71.5013 1377.28 Q71.5013 1370.15 69.6726 1366.6 Q67.867 1363.04 64.2328 1363.04 M64.2328 1359.34 Q70.0429 1359.34 73.0985 1363.94 Q76.1772 1368.53 76.1772 1377.28 Q76.1772 1386 73.0985 1390.61 Q70.0429 1395.19 64.2328 1395.19 Q58.4226 1395.19 55.344 1390.61 Q52.2884 1386 52.2884 1377.28 Q52.2884 1368.53 55.344 1363.94 Q58.4226 1359.34 64.2328 1359.34 Z\" fill=\"#000000\" fill-rule=\"nonzero\" fill-opacity=\"1\" /><path clip-path=\"url(#clip820)\" d=\"M56.2699 1186.07 L63.9087 1186.07 L63.9087 1159.7 L55.5986 1161.37 L55.5986 1157.11 L63.8624 1155.44 L68.5383 1155.44 L68.5383 1186.07 L76.1772 1186.07 L76.1772 1190 L56.2699 1190 L56.2699 1186.07 Z\" fill=\"#000000\" fill-rule=\"nonzero\" fill-opacity=\"1\" /><path clip-path=\"url(#clip820)\" d=\"M59.8578 981.544 L76.1772 981.544 L76.1772 985.48 L54.2328 985.48 L54.2328 981.544 Q56.8949 978.79 61.4782 974.16 Q66.0846 969.507 67.2652 968.165 Q69.5105 965.642 70.3902 963.906 Q71.2929 962.146 71.2929 960.457 Q71.2929 957.702 69.3485 955.966 Q67.4272 954.23 64.3254 954.23 Q62.1263 954.23 59.6726 954.994 Q57.2421 955.757 54.4643 957.308 L54.4643 952.586 Q57.2884 951.452 59.7421 950.873 Q62.1958 950.295 64.2328 950.295 Q69.6031 950.295 72.7976 952.98 Q75.992 955.665 75.992 960.156 Q75.992 962.285 75.1818 964.207 Q74.3948 966.105 72.2883 968.697 Q71.7096 969.369 68.6078 972.586 Q65.5059 975.781 59.8578 981.544 Z\" fill=\"#000000\" fill-rule=\"nonzero\" fill-opacity=\"1\" /><path clip-path=\"url(#clip820)\" d=\"M69.0476 762.324 Q72.404 763.042 74.279 765.311 Q76.1772 767.579 76.1772 770.912 Q76.1772 776.028 72.6587 778.829 Q69.1402 781.63 62.6587 781.63 Q60.4828 781.63 58.168 781.19 Q55.8764 780.773 53.4227 779.917 L53.4227 775.403 Q55.3671 776.537 57.6819 777.116 Q59.9967 777.695 62.5198 777.695 Q66.918 777.695 69.2096 775.959 Q71.5244 774.222 71.5244 770.912 Q71.5244 767.857 69.3717 766.144 Q67.242 764.408 63.4226 764.408 L59.3949 764.408 L59.3949 760.565 L63.6078 760.565 Q67.0569 760.565 68.8855 759.199 Q70.7142 757.811 70.7142 755.218 Q70.7142 752.556 68.8161 751.144 Q66.9411 749.709 63.4226 749.709 Q61.5013 749.709 59.3023 750.125 Q57.1032 750.542 54.4643 751.422 L54.4643 747.255 Q57.1264 746.514 59.4412 746.144 Q61.7791 745.774 63.8393 745.774 Q69.1633 745.774 72.2652 748.204 Q75.367 750.612 75.367 754.732 Q75.367 757.602 73.7235 759.593 Q72.08 761.561 69.0476 762.324 Z\" fill=\"#000000\" fill-rule=\"nonzero\" fill-opacity=\"1\" /><path clip-path=\"url(#clip820)\" d=\"M66.5939 545.952 L54.7884 564.401 L66.5939 564.401 L66.5939 545.952 M65.367 541.878 L71.2466 541.878 L71.2466 564.401 L76.1772 564.401 L76.1772 568.289 L71.2466 568.289 L71.2466 576.438 L66.5939 576.438 L66.5939 568.289 L50.9921 568.289 L50.9921 563.776 L65.367 541.878 Z\" fill=\"#000000\" fill-rule=\"nonzero\" fill-opacity=\"1\" /><path clip-path=\"url(#clip820)\" d=\"M55.2745 337.357 L73.6309 337.357 L73.6309 341.292 L59.5569 341.292 L59.5569 349.764 Q60.5754 349.417 61.5939 349.255 Q62.6124 349.07 63.6309 349.07 Q69.418 349.07 72.7976 352.241 Q76.1772 355.412 76.1772 360.829 Q76.1772 366.407 72.705 369.509 Q69.2328 372.588 62.9134 372.588 Q60.7374 372.588 58.4689 372.218 Q56.2236 371.847 53.8162 371.106 L53.8162 366.407 Q55.8995 367.542 58.1217 368.097 Q60.3439 368.653 62.8208 368.653 Q66.8254 368.653 69.1633 366.546 Q71.5013 364.44 71.5013 360.829 Q71.5013 357.218 69.1633 355.111 Q66.8254 353.005 62.8208 353.005 Q60.9458 353.005 59.0708 353.421 Q57.2189 353.838 55.2745 354.718 L55.2745 337.357 Z\" fill=\"#000000\" fill-rule=\"nonzero\" fill-opacity=\"1\" /><path clip-path=\"url(#clip820)\" d=\"M64.6495 148.252 Q61.5013 148.252 59.6495 150.405 Q57.8208 152.558 57.8208 156.308 Q57.8208 160.035 59.6495 162.21 Q61.5013 164.363 64.6495 164.363 Q67.7976 164.363 69.6263 162.21 Q71.4781 160.035 71.4781 156.308 Q71.4781 152.558 69.6263 150.405 Q67.7976 148.252 64.6495 148.252 M73.9318 133.6 L73.9318 137.859 Q72.1726 137.025 70.367 136.586 Q68.5846 136.146 66.8254 136.146 Q62.1958 136.146 59.7421 139.271 Q57.3115 142.396 56.9643 148.715 Q58.33 146.701 60.3902 145.636 Q62.4504 144.549 64.9272 144.549 Q70.1355 144.549 73.1448 147.72 Q76.1772 150.868 76.1772 156.308 Q76.1772 161.632 73.029 164.849 Q69.8809 168.067 64.6495 168.067 Q58.6541 168.067 55.4828 163.484 Q52.3116 158.877 52.3116 150.15 Q52.3116 141.956 56.2004 137.095 Q60.0893 132.211 66.6402 132.211 Q68.3994 132.211 70.1818 132.558 Q71.9874 132.905 73.9318 133.6 Z\" fill=\"#000000\" fill-rule=\"nonzero\" fill-opacity=\"1\" /><g clip-path=\"url(#clip822)\">\n",
       "<image width=\"1285\" height=\"1285\" xlink:href=\"data:image/png;base64,\n",
       "iVBORw0KGgoAAAANSUhEUgAABQUAAAUFCAYAAACuAKUAAAAgAElEQVR4nOzaS64c5R2H4a/q9LkY\n",
       "35AMBgdF7IAZM7KAbIhFZFswyyxjJgghIyADDMQ+F3dlGX+k93lW8PtOl6uqX/e21ulYpG1rn54w\n",
       "a2uff9supyeM27fr6QmjLvab6QmjTvuj6QmjLuOf/1pr7e6DaefjfnrCqPvzu+kJ4x7Ob6cnjHof\n",
       "vwbOx+30hFFH/B641lrrOE8vGHWs9vnr2jUEAAAAAIJEQQAAAACIEQUBAAAAIEYUBAAAAIAYURAA\n",
       "AAAAYkRBAAAAAIgRBQEAAAAgRhQEAAAAgBhREAAAAABiREEAAAAAiBEFAQAAACBGFAQAAACAGFEQ\n",
       "AAAAAGJEQQAAAACIEQUBAAAAIEYUBAAAAIAYURAAAAAAYkRBAAAAAIgRBQEAAAAgRhQEAAAAgBhR\n",
       "EAAAAABiREEAAAAAiBEFAQAAACBGFAQAAACAGFEQAAAAAGJEQQAAAACIEQUBAAAAIEYUBAAAAIAY\n",
       "URAAAAAAYkRBAAAAAIgRBQEAAAAgRhQEAAAAgBhREAAAAABiREEAAAAAiBEFAQAAACBGFAQAAACA\n",
       "GFEQAAAAAGJEQQAAAACIEQUBAAAAIEYUBAAAAIAYURAAAAAAYkRBAAAAAIgRBQEAAAAgRhQEAAAA\n",
       "gBhREAAAAABiREEAAAAAiBEFAQAAACBGFAQAAACAGFEQAAAAAGJEQQAAAACIEQUBAAAAIEYUBAAA\n",
       "AIAYURAAAAAAYkRBAAAAAIgRBQEAAAAgRhQEAAAAgBhREAAAAABiREEAAAAAiBEFAQAAACBGFAQA\n",
       "AACAGFEQAAAAAGJEQQAAAACIEQUBAAAAIEYUBAAAAICY0/SAv4JtbdMTZm3t82/xNl4//1prbVv7\n",
       "b7BtF9MTRu1b+1G4b5fTE8ZdbFfTE2DMvj1MTxhXfw7m34OO9vn9TmitYzumJ4zajnYPOFb783cH\n",
       "AAAAAIAYURAAAAAAYkRBAAAAAIgRBQEAAAAgRhQEAAAAgBhREAAAAABiREEAAAAAiBEFAQAAACBG\n",
       "FAQAAACAGFEQAAAAAGJEQQAAAACIEQUBAAAAIEYUBAAAAIAYURAAAAAAYkRBAAAAAIgRBQEAAAAg\n",
       "RhQEAAAAgBhREAAAAABiREEAAAAAiBEFAQAAACBGFAQAAACAGFEQAAAAAGJEQQAAAACIEQUBAAAA\n",
       "IEYUBAAAAIAYURAAAAAAYkRBAAAAAIgRBQEAAAAgRhQEAAAAgBhREAAAAABiREEAAAAAiBEFAQAA\n",
       "ACBGFAQAAACAGFEQAAAAAGJEQQAAAACIEQUBAAAAIEYUBAAAAIAYURAAAAAAYkRBAAAAAIgRBQEA\n",
       "AAAgRhQEAAAAgBhREAAAAABiREEAAAAAiBEFAQAAACBGFAQAAACAGFEQAAAAAGJEQQAAAACIEQUB\n",
       "AAAAIEYUBAAAAIAYURAAAAAAYkRBAAAAAIgRBQEAAAAgRhQEAAAAgBhREAAAAABiREEAAAAAiBEF\n",
       "AQAAACBGFAQAAACAGFEQAAAAAGJEQQAAAACIEQUBAAAAIEYUBAAAAIAYURAAAAAAYkRBAAAAAIg5\n",
       "bbrgWts2vWBY/BrYLqYXjNq20/SEcft2NT1h1Gm/np4w6nJ/ND1h1PX+eHrCuNNq/xuoe9hupycw\n",
       "7FjvpyeMOo74+bf4+dd5esK845heMCueQ7b45x+vQQAAAADQIwoCAAAAQIwoCAAAAAAxoiAAAAAA\n",
       "xIiCAAAAABAjCgIAAABAjCgIAAAAADGiIAAAAADEiIIAAAAAECMKAgAAAECMKAgAAAAAMaIgAAAA\n",
       "AMSIggAAAAAQIwoCAAAAQIwoCAAAAAAxoiAAAAAAxIiCAAAAABAjCgIAAABAjCgIAAAAADGiIAAA\n",
       "AADEiIIAAAAAECMKAgAAAECMKAgAAAAAMaIgAAAAAMSIggAAAAAQIwoCAAAAQIwoCAAAAAAxoiAA\n",
       "AAAAxIiCAAAAABAjCgIAAABAjCgIAAAAADGiIAAAAADEiIIAAAAAECMKAgAAAECMKAgAAAAAMaIg\n",
       "AAAAAMSIggAAAAAQIwoCAAAAQIwoCAAAAAAxoiAAAAAAxIiCAAAAABAjCgIAAABAjCgIAAAAADGi\n",
       "IAAAAADEiIIAAAAAECMKAgAAAECMKAgAAAAAMaIgAAAAAMSIggAAAAAQIwoCAAAAQIwoCAAAAAAx\n",
       "oiAAAAAAxIiCAAAAABAjCgIAAABAjCgIAAAAADGiIAAAAADEiIIAAAAAECMKAgAAAECMKAgAAAAA\n",
       "MaIgAAAAAMSIggAAAAAQIwoCAAAAQIwoCAAAAAAxp7Xpglu9jW4X0wtG7dvl9IRR+349PWHcab+Z\n",
       "njDqan8yPWHUo/3D6QmjPljPpieMuzrcB8vuttvpCaP2vf0exFrHcZ6eMOpY7fOv8zG9YFz8Cljr\n",
       "eD+9YNSxta+AeA0DAAAAgB5REAAAAABiREEAAAAAiBEFAQAAACBGFAQAAACAGFEQAAAAAGJEQQAA\n",
       "AACIEQUBAAAAIEYUBAAAAIAYURAAAAAAYkRBAAAAAIgRBQEAAAAgRhQEAAAAgBhREAAAAABiREEA\n",
       "AAAAiBEFAQAAACBGFAQAAACAGFEQAAAAAGJEQQAAAACIEQUBAAAAIEYUBAAAAIAYURAAAAAAYkRB\n",
       "AAAAAIgRBQEAAAAgRhQEAAAAgBhREAAAAABiREEAAAAAiBEFAQAAACBGFAQAAACAGFEQAAAAAGJE\n",
       "QQAAAACIEQUBAAAAIEYUBAAAAIAYURAAAAAAYkRBAAAAAIgRBQEAAAAgRhQEAAAAgBhREAAAAABi\n",
       "REEAAAAAiBEFAQAAACBGFAQAAACAGFEQAAAAAGJEQQAAAACIEQUBAAAAIEYUBAAAAIAYURAAAAAA\n",
       "YkRBAAAAAIgRBQEAAAAgRhQEAAAAgBhREAAAAABiREEAAAAAiBEFAQAAACBGFAQAAACAGFEQAAAA\n",
       "AGJEQQAAAACIEQUBAAAAIEYUBAAAAIAYURAAAAAAYkRBAAAAAIgRBQEAAAAgRhQEAAAAgBhREAAA\n",
       "AABiREEAAAAAiDlt2+X0hnFbvI1u22l6wqh9v56eMOpy/2B6wrjri2fTE0Y92V9MTxj1/Gif/9n5\n",
       "yfSEcY/iz8G6t+eH6Qmj3uw30xPG/bZfTE+AMffTA/4Kztv0glHHaj8H1zpPDxjVrmEAAAAAECQK\n",
       "AgAAAECMKAgAAAAAMaIgAAAAAMSIggAAAAAQIwoCAAAAQIwoCAAAAAAxoiAAAAAAxIiCAAAAABAj\n",
       "CgIAAABAjCgIAAAAADGiIAAAAADEiIIAAAAAECMKAgAAAECMKAgAAAAAMaIgAAAAAMSIggAAAAAQ\n",
       "IwoCAAAAQIwoCAAAAAAxoiAAAAAAxIiCAAAAABAjCgIAAABAjCgIAAAAADGiIAAAAADEiIIAAAAA\n",
       "ECMKAgAAAECMKAgAAAAAMaIgAAAAAMSIggAAAAAQIwoCAAAAQIwoCAAAAAAxoiAAAAAAxIiCAAAA\n",
       "ABAjCgIAAABAjCgIAAAAADGiIAAAAADEiIIAAAAAECMKAgAAAECMKAgAAAAAMaIgAAAAAMSIggAA\n",
       "AAAQIwoCAAAAQIwoCAAAAAAxoiAAAAAAxIiCAAAAABAjCgIAAABAjCgIAAAAADGiIAAAAADEiIIA\n",
       "AAAAECMKAgAAAECMKAgAAAAAMaIgAAAAAMSIggAAAAAQIwoCAAAAQIwoCAAAAAAxoiAAAAAAxIiC\n",
       "AAAAABAjCgIAAABAjCgIAAAAADGiIAAAAADEiIIAAAAAECMKAgAAAECMKAgAAAAAMaIgAAAAAMSc\n",
       "9u16esO4bWu30X27mp4w6rTfTE8YdX3xbHrCuCf7R9MTRr04fzI9YdTL7en0hFEf3ZymJ4x7ejm9\n",
       "gEm/37ffg369a59/rbVO5/hNYN+mF8Coh/hvpc7H3fSEUcdxnp4wqn31AwAAAECQKAgAAAAAMaIg\n",
       "AAAAAMSIggAAAAAQIwoCAAAAQIwoCAAAAAAxoiAAAAAAxIiCAAAAABAjCgIAAABAjCgIAAAAADGi\n",
       "IAAAAADEiIIAAAAAECMKAgAAAECMKAgAAAAAMaIgAAAAAMSIggAAAAAQIwoCAAAAQIwoCAAAAAAx\n",
       "oiAAAAAAxIiCAAAAABAjCgIAAABAjCgIAAAAADGiIAAAAADEiIIAAAAAECMKAgAAAECMKAgAAAAA\n",
       "MaIgAAAAAMSIggAAAAAQIwoCAAAAQIwoCAAAAAAxoiAAAAAAxIiCAAAAABAjCgIAAABAjCgIAAAA\n",
       "ADGiIAAAAADEiIIAAAAAECMKAgAAAECMKAgAAAAAMaIgAAAAAMSIggAAAAAQIwoCAAAAQIwoCAAA\n",
       "AAAxoiAAAAAAxIiCAAAAABAjCgIAAABAjCgIAAAAADGiIAAAAADEiIIAAAAAECMKAgAAAECMKAgA\n",
       "AAAAMaIgAAAAAMSIggAAAAAQIwoCAAAAQIwoCAAAAAAxoiAAAAAAxIiCAAAAABAjCgIAAABAjCgI\n",
       "AAAAADGiIAAAAADEiIIAAAAAECMKAgAAAECMKAgAAAAAMaIgAAAAAMScLvab6Q3jtu1iesKo0349\n",
       "PWHU1f5kesKoJ/uL6QnjXpw/mZ4w6m/7s+kJoz5/3H4GfP74YXrCuI9vbqcnMOiXd+33oO//PE1P\n",
       "GHf6s/0cXOfpAcP2Y3oBw7at/Vuph3P7Xfg43k9PGNW++gEAAAAgSBQEAAAAgBhREAAAAABiREEA\n",
       "AAAAiBEFAQAAACBGFAQAAACAGFEQAAAAAGJEQQAAAACIEQUBAAAAIEYUBAAAAIAYURAAAAAAYkRB\n",
       "AAAAAIgRBQEAAAAgRhQEAAAAgBhREAAAAABiREEAAAAAiBEFAQAAACBGFAQAAACAGFEQAAAAAGJE\n",
       "QQAAAACIEQUBAAAAIEYUBAAAAIAYURAAAAAAYkRBAAAAAIgRBQEAAAAgRhQEAAAAgBhREAAAAABi\n",
       "REEAAAAAiBEFAQAAACBGFAQAAACAGFEQAAAAAGJEQQAAAACIEQUBAAAAIEYUBAAAAIAYURAAAAAA\n",
       "YkRBAAAAAIgRBQEAAAAgRhQEAAAAgBhREAAAAABiREEAAAAAiBEFAQAAACBGFAQAAACAGFEQAAAA\n",
       "AGJEQQAAAACIEQUBAAAAIEYUBAAAAIAYURAAAAAAYkRBAAAAAIgRBQEAAAAgRhQEAAAAgBhREAAA\n",
       "AABiREEAAAAAiBEFAQAAACBGFAQAAACAGFEQAAAAAGJEQQAAAACIEQUBAAAAIEYUBAAAAIAYURAA\n",
       "AAAAYkRBAAAAAIgRBQEAAAAgRhQEAAAAgBhREAAAAABiTqf90fSGcft2mp4w6jJ+DTzaP5yeMOr5\n",
       "8WJ6wriX29PpCaM+f3wxPWHUFx++m54w6ouXr6cnjPvs1U/TExj04+tPpyeMev7zq+kJfwE30wNG\n",
       "PfzRfg96OO6nJ4x6v7+fnsCwbbW/C5yPh+kJo/xSEAAAAABiREEAAAAAiBEFAQAAACBGFAQAAACA\n",
       "GFEQAAAAAGJEQQAAAACIEQUBAAAAIEYUBAAAAIAYURAAAAAAYkRBAAAAAIgRBQEAAAAgRhQEAAAA\n",
       "gBhREAAAAABiREEAAAAAiBEFAQAAACBGFAQAAACAGFEQAAAAAGJEQQAAAACIEQUBAAAAIEYUBAAA\n",
       "AIAYURAAAAAAYkRBAAAAAIgRBQEAAAAgRhQEAAAAgBhREAAAAABiREEAAAAAiBEFAQAAACBGFAQA\n",
       "AACAGFEQAAAAAGJEQQAAAACIEQUBAAAAIEYUBAAAAIAYURAAAAAAYkRBAAAAAIgRBQEAAAAgRhQE\n",
       "AAAAgBhREAAAAABiREEAAAAAiBEFAQAAACBGFAQAAACAGFEQAAAAAGJEQQAAAACIEQUBAAAAIEYU\n",
       "BAAAAIAYURAAAAAAYkRBAAAAAIgRBQEAAAAgRhQEAAAAgBhREAAAAABiREEAAAAAiBEFAQAAACBG\n",
       "FAQAAACAGFEQAAAAAGJEQQAAAACIEQUBAAAAIEYUBAAAAIAYURAAAAAAYkRBAAAAAIgRBQEAAAAg\n",
       "RhQEAAAAgBhREAAAAABiREEAAAAAiBEFAQAAACDmdLnfTG8Yt2+X0xNGXe+PpyeM+mA9m54w6tn5\n",
       "yfSEcR/dnKYnjPr88cP0hFFfvHw9PWHUF//49/SEcddf+T/Sshff/jA9YdY3X04vGPfb/d+nJ4z6\n",
       "7a79HvTHu/a78LuLd9MTxp33++kJDDof7c/fWzAAAAAAxIiCAAAAABAjCgIAAABAjCgIAAAAADGi\n",
       "IAAAAADEiIIAAAAAECMKAgAAAECMKAgAAAAAMaIgAAAAAMSIggAAAAAQIwoCAAAAQIwoCAAAAAAx\n",
       "oiAAAAAAxIiCAAAAABAjCgIAAABAjCgIAAAAADGiIAAAAADEiIIAAAAAECMKAgAAAECMKAgAAAAA\n",
       "MaIgAAAAAMSIggAAAAAQIwoCAAAAQIwoCAAAAAAxoiAAAAAAxIiCAAAAABAjCgIAAABAjCgIAAAA\n",
       "ADGiIAAAAADEiIIAAAAAECMKAgAAAECMKAgAAAAAMaIgAAAAAMSIggAAAAAQIwoCAAAAQIwoCAAA\n",
       "AAAxoiAAAAAAxIiCAAAAABAjCgIAAABAjCgIAAAAADGiIAAAAADEiIIAAAAAECMKAgAAAECMKAgA\n",
       "AAAAMaIgAAAAAMSIggAAAAAQIwoCAAAAQIwoCAAAAAAxoiAAAAAAxIiCAAAAABAjCgIAAABAjCgI\n",
       "AAAAADGiIAAAAADEiIIAAAAAECMKAgAAAECMKAgAAAAAMaIgAAAAAMSIggAAAAAQIwoCAAAAQIwo\n",
       "CAAAAAAxoiAAAAAAxIiCAAAAABAjCgIAAABAjCgIAAAAADGnfbuc3jDuYruanjDqtK6nJ4y6Otrn\n",
       "f7SdpieMexq/DX58czs9YdRnr36anjDq+iv/P7j981/TExh0vb6enjDqs+/a98C11vr4vy+nJ4x6\n",
       "etl+F3x02z5//bvQWmudtvbf4GG7n57AIN8EAAAAACBGFAQAAACAGFEQAAAAAGJEQQAAAACIEQUB\n",
       "AAAAIEYUBAAAAIAYURAAAAAAYkRBAAAAAIgRBQEAAAAgRhQEAAAAgBhREAAAAABiREEAAAAAiBEF\n",
       "AQAAACBGFAQAAACAGFEQAAAAAGJEQQAAAACIEQUBAAAAIEYUBAAAAIAYURAAAAAAYkRBAAAAAIgR\n",
       "BQEAAAAgRhQEAAAAgBhREAAAAABiREEAAAAAiBEFAQAAACBGFAQAAACAGFEQAAAAAGJEQQAAAACI\n",
       "EQUBAAAAIEYUBAAAAIAYURAAAAAAYkRBAAAAAIgRBQEAAAAgRhQEAAAAgBhREAAAAABiREEAAAAA\n",
       "iBEFAQAAACBGFAQAAACAGFEQAAAAAGJEQQAAAACIEQUBAAAAIEYUBAAAAIAYURAAAAAAYkRBAAAA\n",
       "AIgRBQEAAAAgRhQEAAAAgBhREAAAAABiREEAAAAAiBEFAQAAACBGFAQAAACAGFEQAAAAAGJEQQAA\n",
       "AACIEQUBAAAAIEYUBAAAAIAYURAAAAAAYkRBAAAAAIgRBQEAAAAgRhQEAAAAgBhREAAAAABiREEA\n",
       "AAAAiBEFAQAAACBGFAQAAACAGFEQAAAAAGJEQQAAAACIEQUBAAAAIEYUBAAAAIAYURAAAAAAYkRB\n",
       "AAAAAIgRBQEAAAAgRhQEAAAAgBhREAAAAABiREEAAAAAiBEFAQAAACBGFAQAAACAGFEQAAAAAGJE\n",
       "QQAAAACIEQUBAAAAIEYUBAAAAIAYURAAAAAAYkRBAAAAAIgRBQEAAAAgRhQEAAAAgBhREAAAAABi\n",
       "REEAAAAAiBEFAQAAACBGFAQAAACAGFEQAAAAAGJEQQAAAACIEQUBAAAAIEYUBAAAAIAYURAAAAAA\n",
       "YkRBAAAAAIgRBQEAAAAgRhQEAAAAgBhREAAAAABiREEAAAAAiBEFAQAAACBGFAQAAACAGFEQAAAA\n",
       "AGJEQQAAAACIEQUBAAAAIEYUBAAAAIAYURAAAAAAYkRBAAAAAIgRBQEAAAAgRhQEAAAAgBhREAAA\n",
       "AABiREEAAAAAiBEFAQAAACBGFAQAAACAGFEQAAAAAGJEQQAAAACIEQUBAAAAIEYUBAAAAIAYURAA\n",
       "AAAAYkRBAAAAAIgRBQEAAAAgRhQEAAAAgBhREAAAAABiREEAAAAAiBEFAQAAACBGFAQAAACAGFEQ\n",
       "AAAAAGJEQQAAAACIEQUBAAAAIEYUBAAAAIAYURAAAAAAYk7n4356A8MettvpCaPu4ud/e36YnjDu\n",
       "9/ur6Qmjfnl3PT1h1I+vP52eMOrFtz9MTxh3vb6ensCg22/P0xNG1e+Ba3kO/h7/Ovj2aL8L3+3t\n",
       "70JrrfWw2n+D98fd9IRR9Sbml4IAAAAAECMKAgAAAECMKAgAAAAAMaIgAAAAAMSIggAAAAAQIwoC\n",
       "AAAAQIwoCAAAAAAxoiAAAAAAxIiCAAAAABAjCgIAAABAjCgIAAAAADGiIAAAAADEiIIAAAAAECMK\n",
       "AgAAAECMKAgAAAAAMaIgAAAAAMSIggAAAAAQIwoCAAAAQIwoCAAAAAAxoiAAAAAAxIiCAAAAABAj\n",
       "CgIAAABAjCgIAAAAADGiIAAAAADEiIIAAAAAECMKAgAAAECMKAgAAAAAMaIgAAAAAMSIggAAAAAQ\n",
       "IwoCAAAAQIwoCAAAAAAxoiAAAAAAxIiCAAAAABAjCgIAAABAjCgIAAAAADGiIAAAAADEiIIAAAAA\n",
       "ECMKAgAAAECMKAgAAAAAMaIgAAAAAMSIggAAAAAQIwoCAAAAQIwoCAAAAAAxoiAAAAAAxIiCAAAA\n",
       "ABAjCgIAAABAjCgIAAAAADGiIAAAAADEiIIAAAAAECMKAgAAAECMKAgAAAAAMaIgAAAAAMSIggAA\n",
       "AAAQIwoCAAAAQIwoCAAAAAAxoiAAAAAAxIiCAAAAABAjCgIAAABAjCgIAAAAADGiIAAAAADEiIIA\n",
       "AAAAECMKAgAAAECMKAgAAAAAMaf787vpDeP27WF6AoP2/XJ6wqg3+830hHG/3l1NTxj1/Z+n6Qmj\n",
       "nv/8anrCrG++nF4w7rPvfpqewKAfX386PWHUf+r3wOU5+Otd+7vQm/2P6Qmj/rfeTE8Yd3v+c3rC\n",
       "qPvz2+kJo85H+x7ol4IAAAAAECMKAgAAAECMKAgAAAAAMaIgAAAAAMSIggAAAAAQIwoCAAAAQIwo\n",
       "CAAAAAAxoiAAAAAAxIiCAAAAABAjCgIAAABAjCgIAAAAADGiIAAAAADEiIIA8P927SDHreMMo+h7\n",
       "FB05QJxZMvP+1+VhnDTgllpSs0lWZeBF/AbuOSv4imjyFW8TAAAgRhQEAAAAgBhREAAAAABiREEA\n",
       "AAAAiBEFAQAAACBGFAQAAACAGFEQAAAAAGJEQQAAAACIEQUBAAAAIEYUBAAAAIAYURAAAAAAYkRB\n",
       "AAAAAIgRBQEAAAAgRhQEAAAAgBhREAAAAABiREEAAAAAiBEFAQAAACBGFAQAAACAGFEQAAAAAGJE\n",
       "QQAAAACIEQUBAAAAIEYUBAAAAIAYURAAAAAAYkRBAAAAAIgRBQEAAAAgRhQEAAAAgBhREAAAAABi\n",
       "REEAAAAAiBEFAQAAACBGFAQAAACAGFEQAAAAAGJEQQAAAACIEQUBAAAAIEYUBAAAAIAYURAAAAAA\n",
       "YkRBAAAAAIgRBQEAAAAgRhQEAAAAgBhREAAAAABiREEAAAAAiBEFAQAAACBGFAQAAACAGFEQAAAA\n",
       "AGJEQQAAAACIEQUBAAAAIEYUBAAAAIAYURAAAAAAYkRBAAAAAIgRBQEAAAAgRhQEAAAAgBhREAAA\n",
       "AABiREEAAAAAiLk+1o/pDePO89P0hFH7eE5PYNDrpf33fxzHcV0/TU8Ydf32z+kJw36eHjDq9f7r\n",
       "9IRx/3r59/QEBv33/fP0hFG/fbtOTxj327f2Xfj3/XV6wqjXy8v0hFE/1h/TE8Z9rLfpCaMe6zY9\n",
       "YdTe7WeAXwoCAAAAQIwoCAAAAAAxoiAAAAAAxIiCAAAAABAjCgIAAABAjCgIAAAAADGiIAAAAADE\n",
       "iIIAAAAAECMKAgAAAECMKAgAAAAAMaIgAAAAAMSIggAAAAAQIwoCAAAAQIwoCAAAAAAxoiAAAAAA\n",
       "xIiCAAAAABAjCgIAAABAjCgIAAAAADGiIAAAAADEiIIAAAAAECMKAgAAAECMKAgAAAAAMaIgAAAA\n",
       "AMSIggAAAAAQIwoCAAAAQIwoCAAAAAAxoiAAAAAAxIiCAAAAABAjCgIAAABAjCgIAAAAADGiIAAA\n",
       "AADEiIIAAAAAECMKAgAAAECMKAgAAAAAMaIgAAAAAMSIggAAAAAQIwoCAAAAQIwoCAAAAAAxoiAA\n",
       "AAAAxIiCAAAAABAjCgIAAABAjCgIAAAAADGiIAAAAADEiIIAAAAAECMKAgAAAECMKAgAAAAAMaIg\n",
       "AAAAAMSIggAAAAAQIwoCAAAAQIwoCAAAAAAxoiAAAAAAxIiCAAAAABAjCgIAAABAjCgIAAAAADGi\n",
       "IAAAAADEiIIAAAAAECMKAgAAAECMKAgAAAAAMaIgAAAAAMSIggAAAAAQIwoCAAAAQIwoCAAAAAAx\n",
       "oiAAAAAAxFyf6316w7jzbLfRvZ/TE0btvaYnMO1yTi+YFX8LPN5+mZ4w6vXjOj1h3C8/eQ3Kvt6n\n",
       "F8z638djesK43/fX6QmjXi7/mZ4w6m29TE8YdXt+mZ4w7hFvImt/TE8YVe8B7RoGAAAAAEGiIAAA\n",
       "AADEiIIAAAAAECMKAgAAAECMKAgAAAAAMaIgAAAAAMSIggAAAAAQIwoCAAAAQIwoCAAAAAAxoiAA\n",
       "AAAAxIiCAAAAABAjCgIAAABAjCgIAAAAADGiIAAAAADEiIIAAAAAECMKAgAAAECMKAgAAAAAMaIg\n",
       "AAAAAMSIggAAAAAQIwoCAAAAQIwoCAAAAAAxoiAAAAAAxIiCAAAAABAjCgIAAABAjCgIAAAAADGi\n",
       "IAAAAADEiIIAAAAAECMKAgAAAECMKAgAAAAAMaIgAAAAAMSIggAAAAAQIwoCAAAAQIwoCAAAAAAx\n",
       "oiAAAAAAxIiCAAAAABAjCgIAAABAjCgIAFSEPoEAAAtXSURBVAAAADGiIAAAAADEiIIAAAAAECMK\n",
       "AgAAAECMKAgAAAAAMaIgAAAAAMSIggAAAAAQIwoCAAAAQIwoCAAAAAAxoiAAAAAAxIiCAAAAABAj\n",
       "CgIAAABAjCgIAAAAADGiIAAAAADEiIIAAAAAECMKAgAAAECMKAgAAAAAMaIgAAAAAMSIggAAAAAQ\n",
       "IwoCAAAAQIwoCAAAAAAxoiAAAAAAxIiCAAAAABAjCgIAAABAjCgIAAAAADGiIAAAAADEiIIAAAAA\n",
       "EHNd+za9Ydy52210n8/pCaP2saYnwKzLnl4w6rHv0xNGvb3/Y3rCuL/frtMTGPRjP6YnjPpyeZue\n",
       "MO718jI9YdTbap//9vwyPWHUfX2fnjBurXYT2fHnYL0HtGsYAAAAAASJggAAAAAQIwoCAAAAQIwo\n",
       "CAAAAAAxoiAAAAAAxIiCAAAAABAjCgIAAABAjCgIAAAAADGiIAAAAADEiIIAAAAAECMKAgAAAECM\n",
       "KAgAAAAAMaIgAAAAAMSIggAAAAAQIwoCAAAAQIwoCAAAAAAxoiAAAAAAxIiCAAAAABAjCgIAAABA\n",
       "jCgIAAAAADGiIAAAAADEiIIAAAAAECMKAgAAAECMKAgAAAAAMaIgAAAAAMSIggAAAAAQIwoCAAAA\n",
       "QIwoCAAAAAAxoiAAAAAAxIiCAAAAABAjCgIAAABAjCgIAAAAADGiIAAAAADEiIIAAAAAECMKAgAA\n",
       "AECMKAgAAAAAMaIgAAAAAMSIggAAAAAQIwoCAAAAQIwoCAAAAAAxoiAAAAAAxIiCAAAAABAjCgIA\n",
       "AABAjCgIAAAAADGiIAAAAADEiIIAAAAAECMKAgAAAECMKAgAAAAAMaIgAAAAAMSIggAAAAAQIwoC\n",
       "AAAAQIwoCAAAAAAxoiAAAAAAxIiCAAAAABAjCgIAAABAjCgIAAAAADGiIAAAAADEiIIAAAAAECMK\n",
       "AgAAAECMKAgAAAAAMaIgAAAAAMSIggAAAAAQIwoCAAAAQMx17/v0hr+Adhvdx5qeMGvt6QWjfAJQ\n",
       "97w8pyeMev/0Pj1h3N/25+kJDPq43KYnjPp+fJmeMO7H+mN6wqjbs/03cF/fpyeMWss9YNWbyG7f\n",
       "hes9pF3DAAAAACBIFAQAAACAGFEQAAAAAGJEQQAAAACIEQUBAAAAIEYUBAAAAIAYURAAAAAAYkRB\n",
       "AAAAAIgRBQEAAAAgRhQEAAAAgBhREAAAAABiREEAAAAAiBEFAQAAACBGFAQAAACAGFEQAAAAAGJE\n",
       "QQAAAACIEQUBAAAAIEYUBAAAAIAYURAAAAAAYkRBAAAAAIgRBQEAAAAgRhQEAAAAgBhREAAAAABi\n",
       "REEAAAAAiBEFAQAAACBGFAQAAACAGFEQAAAAAGJEQQAAAACIEQUBAAAAIEYUBAAAAIAYURAAAAAA\n",
       "YkRBAAAAAIgRBQEAAAAgRhQEAAAAgBhREAAAAABiREEAAAAAiBEFAQAAACBGFAQAAACAGFEQAAAA\n",
       "AGJEQQAAAACIEQUBAAAAIEYUBAAAAIAYURAAAAAAYkRBAAAAAIgRBQEAAAAgRhQEAAAAgBhREAAA\n",
       "AABiREEAAAAAiBEFAQAAACBGFAQAAACAGFEQAAAAAGJEQQAAAACIEQUBAAAAIEYUBAAAAIAYURAA\n",
       "AAAAYkRBAAAAAIgRBQEAAAAgRhQEAAAAgBhREAAAAABiREEAAAAAiBEFAQAAACBGFAQAAACAGFEQ\n",
       "AAAAAGJEQQAAAACIuR57TW8Yt889PWHWbp8//w5Y5/SCcY/4/0fOs33+unW5T08Ydz0/T09g0OO4\n",
       "TU8YdVvfpieM+1hv0xNGPdb79IRRa7U/A9Z2D9j7MT1hWPwbcbyH+CYIAAAAADGiIAAAAADEiIIA\n",
       "AAAAECMKAgAAAECMKAgAAAAAMaIgAAAAAMSIggAAAAAQIwoCAAAAQIwoCAAAAAAxoiAAAAAAxIiC\n",
       "AAAAABAjCgIAAABAjCgIAAAAADGiIAAAAADEiIIAAAAAECMKAgAAAECMKAgAAAAAMaIgAAAAAMSI\n",
       "ggAAAAAQIwoCAAAAQIwoCAAAAAAxoiAAAAAAxIiCAAAAABAjCgIAAABAjCgIAAAAADGiIAAAAADE\n",
       "iIIAAAAAECMKAgAAAECMKAgAAAAAMaIgAAAAAMSIggAAAAAQIwoCAAAAQIwoCAAAAAAxoiAAAAAA\n",
       "xIiCAAAAABAjCgIAAABAjCgIAAAAADGiIAAAAADEiIIAAAAAECMKAgAAAECMKAgAAAAAMaIgAAAA\n",
       "AMSIggAAAAAQIwoCAAAAQIwoCAAAAAAxoiAAAAAAxIiCAAAAABAjCgIAAABAjCgIAAAAADGiIAAA\n",
       "AADEiIIAAAAAECMKAgAAAECMKAgAAAAAMaIgAAAAAMSIggAAAAAQIwoCAAAAQIwoCAAAAAAxoiAA\n",
       "AAAAxIiCAAAAABAjCgIAAABAjCgIAAAAADGiIAAAAADEiIIAAAAAEHPdx5reMO7c5/SEWfHjH/s5\n",
       "vWDUPh7TE8at/TE9YdRjfZqeMOo82ufnOB7nfXoCg57xZ8B9/ZieMO6xbtMTRtXvQXvH78Lx70J/\n",
       "ijeR3T7/Pvb0hFF+KQgAAAAAMaIgAAAAAMSIggAAAAAQIwoCAAAAQIwoCAAAAAAxoiAAAAAAxIiC\n",
       "AAAAABAjCgIAAABAjCgIAAAAADGiIAAAAADEiIIAAAAAECMKAgAAAECMKAgAAAAAMaIgAAAAAMSI\n",
       "ggAAAAAQIwoCAAAAQIwoCAAAAAAxoiAAAAAAxIiCAAAAABAjCgIAAABAjCgIAAAAADGiIAAAAADE\n",
       "iIIAAAAAECMKAgAAAECMKAgAAAAAMaIgAAAAAMSIggAAAAAQIwoCAAAAQIwoCAAAAAAxoiAAAAAA\n",
       "xIiCAAAAABAjCgIAAABAjCgIAAAAADGiIAAAAADEiIIAAAAAECMKAgAAAECMKAgAAAAAMaIgAAAA\n",
       "AMSIggAAAAAQIwoCAAAAQIwoCAAAAAAxoiAAAAAAxIiCAAAAABAjCgIAAABAjCgIAAAAADGiIAAA\n",
       "AADEiIIAAAAAECMKAgAAAECMKAgAAAAAMaIgAAAAAMSIggAAAAAQIwoCAAAAQIwoCAAAAAAxoiAA\n",
       "AAAAxIiCAAAAABAjCgIAAABAjCgIAAAAADGiIAAAAADEiIIAAAAAECMKAgAAAECMKAgAAAAAMaIg\n",
       "AAAAAMSIggAAAAAQc50e8Fewjz09YdS52+ff55qeMKx+/uPYu/0a7P2cnjBq7cf0hFFr36cnwKj6\n",
       "e6D+GXgcnoP5e1D8Llw//3Ecx1H/PhzvIXV+KQgAAAAAMaIgAAAAAMSIggAAAAAQIwoCAAAAQIwo\n",
       "CAAAAAAxoiAAAAAAxIiCAAAAABAjCgIAAABAjCgIAAAAADGiIAAAAADEiIIAAAAAECMKAgAAAECM\n",
       "KAgAAAAAMaIgAAAAAMSIggAAAAAQIwoCAAAAQIwoCAAAAAAxoiAAAAAAxIiCAAAAABAjCgIAAABA\n",
       "jCgIAAAAADGiIAAAAADEiIIAAAAAECMKAgAAAECMKAgAAAAAMaIgAAAAAMSIggAAAAAQIwoCAAAA\n",
       "QIwoCAAAAAAxoiAAAAAAxIiCAAAAABAjCgIAAABAjCgIAAAAADGiIAAAAADEiIIAAAAAECMKAgAA\n",
       "AECMKAgAAAAAMaIgAAAAAMSIggAAAAAQIwoCAAAAQIwoCAAAAAAxoiAAAAAAxIiCAAAAABAjCgIA\n",
       "AABAjCgIAAAAADGiIAAAAADEiIIAAAAAECMKAgAAAECMKAgAAAAAMaIgAAAAAMSIggAAAAAQIwoC\n",
       "AAAAQIwoCAAAAAAxoiAAAAAAxIiCAAAAABAjCgIAAABAjCgIAAAAADGiIAAAAADEiIIAAAAAECMK\n",
       "AgAAAECMKAgAAAAAMaIgAAAAAMSIggAAAAAQ8396lusVpYPBTgAAAABJRU5ErkJggg==\n",
       "\" transform=\"translate(470, 124)\"/>\n",
       "</g>\n",
       "<defs>\n",
       "  <clipPath id=\"clip823\">\n",
       "    <rect x=\"2160\" y=\"124\" width=\"73\" height=\"1286\"/>\n",
       "  </clipPath>\n",
       "</defs>\n",
       "<g clip-path=\"url(#clip823)\">\n",
       "<image width=\"72\" height=\"1285\" xlink:href=\"data:image/png;base64,\n",
       "iVBORw0KGgoAAAANSUhEUgAAAEgAAAUFCAYAAAC0E4VSAAALMElEQVR4nO3dwa3kRhAFQY5Q/lsh\n",
       "L6XtlgWqPJKHCAsGiQeit4d/9vfv+fs+/K+/3v4AXydQECgIFAQKc+6/b3+GT7OgIFAQKAgU5t4/\n",
       "b3+GT7OgIFAQKAgUnKSDBQWBgkBBoDDXQ3plQUGgIFAQKMw9HtIbCwoCBYGCQMFJOlhQECgIFAQK\n",
       "HtLBgoJAQaAgUHDdESwoCBQECgKFeZykVxYUBAoCBYGC645gQUGgIFAQKMzjumNlQUGgIFAQKMxz\n",
       "/nn7M3yaBQWBgkBBoOBOOlhQECgIFAQKrjuCBQWBgkBBoOAhHSwoCBQECgIF1x3BgoJAQaAgUJif\n",
       "k/TKgoJAQaAgUJjn+D3pjQUFgYJAQaDgJB0sKAgUBAoCBSfpYEFBoCBQECh4uyNYUBAoCBQECvNz\n",
       "kl5ZUBAoCBQECl7BCxYUBAoCBYGCk3SwoCBQECgIFHxxGCwoCBQECgIFJ+lgQUGgIFAQKDhJBwsK\n",
       "AgWBgkDBSTpYUBAoCBQECvOc8/Zn+DQLCgIFgYJAwUk6WFAQKAgUBArupIMFBYGCQEGg4CEdLCgI\n",
       "FAQKAoX5uZNeWVAQKAgUBApO0sGCgkBBoCBQ8HZHsKAgUBAoCBRcdwQLCgIFgYJAwXVHsKAgUBAo\n",
       "CBRcdwQLCgIFgYJAwUM6WFAQKAgUBAr+4jBYUBAoCBQECk7SwYKCQEGgIFDwkA4WFAQKAgWBgod0\n",
       "sKAgUBAoCBQ8pIMFBYGCQEGgMM/1kN5YUBAoCBQECk7SwYKCQEGgIFDwkA4WFAQKAgWBgod0sKAg\n",
       "UBAoCBTmOfftz/BpFhQECgIFgYKTdLCgIFAQKAgUnKSDBQWBgkBBoCBQ8E+NYEFBoCBQECj4p0aw\n",
       "oCBQECgIFOZxkF5ZUBAoCBQECvNcJ+mNBQWBgkBBoOAkHSwoCBQECgIFD+lgQUGgIFAQKIwfoNpZ\n",
       "UBAoCBQECk7SwYKCQEGgIFDwkA4WFAQKAgWBwjzn9/Zn+DQLCgIFgYJAYe71kN5YUBAoCBQECq47\n",
       "ggUFgYJAQaDguiNYUBAoCBQECnOPRht1gkBBoCBQcJIOFhQECgIFgcI8vjhcWVAQKAgUBApznaRX\n",
       "FhQECgIFgcI87qRX6gSBgkBBoOAkHSwoCBQECgIFd9LBgoJAQaAgUPAKXlAnCBQECgIFr+AFCwoC\n",
       "BYGCQMGddLCgIFAQKAgU5l6NNuoEgYJAQaDguiNYUBAoCBQECq47ggUFgYJAQaAwj+uOlTpBoCBQ\n",
       "ECg4SQcLCgIFgYJAwUM6WFAQKAgUBAr+4jBYUBAoCBQECv7iMKgTBAoCBYGC/4g2WFAQKAgUBAru\n",
       "pIMFBYGCQEGg4PekgzpBoCBQECi47ggWFAQKAgWBguuOYEFBoCBQECg4SQcLCgIFgYJAwSt4QZ0g\n",
       "UBAoCBScpIMFBYGCQEGg4E46WFAQKAgUBApO0sGCgkBBoCBQ8KP/wYKCQEGgIFDw32cFdYJAQaAg\n",
       "UHDdESwoCBQECgIFXxwGCwoCBYGCQMFJOlhQECgIFAQKczykVxYUBAoCBYGCvzgM6gSBgkBBoOC6\n",
       "I1hQECgIFAQKHtLBgoJAQaAgUPB2R7CgIFAQKAgUBAr+qREsKAgUBAoCBQ/pYEFBoCBQECj4u/mg\n",
       "ThAoCBQECnNc2q8sKAgUBAoCBdcdwYKCQEGgIFDwkA4WFAQKAgWBgod0sKAgUBAoCBT8uEmwoCBQ\n",
       "ECgIFJykgwUFgYJAQaDgIR0sKAgUBAoCBe9JB3WCQEGgIFDwnnSwoCBQECgIFFx3BAsKAgWBgkDB\n",
       "QzpYUBAoCBQECl7BCxYUBAoCBYGCk3SwoCBQECgIFOY+HtIbCwoCBYGCQMF1R7CgIFAQKAgUXHcE\n",
       "CwoCBYGCQMFJOlhQECgIFAQKTtLBgoJAQaAgUHCSDhYUBAoCBYGCk3SwoCBQECgIFDykgwUFgYJA\n",
       "QaAwx3vSKwsKAgWBgkDBSTpYUBAoCBQECr44DBYUBAoCBYHC3Pv2R/g2CwoCBYGCQMFJOlhQECgI\n",
       "FAQKfmApWFAQKAgUBApO0sGCgkBBoCBQ8HZHsKAgUBAoCBS8Jx0sKAgUBAoCBW93BAsKAgWBgkDB\n",
       "nXSwoCBQECgIFNxJBwsKAgWBgkDBnXSwoCBQECgIFFx3BAsKAgWBgkDBF4fBgoJAQaAgUHDdESwo\n",
       "CBQECgIFXxwGCwoCBYGCQGHO25/g4ywoCBQECgIFJ+lgQUGgIFAQKHi7I1hQECgIFAQKrjuCBQWB\n",
       "gkBBoOC6I1hQECgIFAQKTtLBgoJAQaAgUHCSDhYUBAoCBYGCLw6DBQWBgkBBoDD+KnxnQUGgIFAQ\n",
       "KDhJBwsKAgWBgkBBoOCb1WBBQaAgUBAo+GY1WFAQKAgUBApO0sGCgkBBoCBQcJIOFhQECgIFgcIc\n",
       "77+sLCgIFAQKAgXXHcGCgkBBoCBQcN0RLCgIFAQKAgUn6WBBQaAgUBAo+J96gwUFgYJAQaDgf+oN\n",
       "FhQECgIFgYK3O4IFBYGCQEGg4BeoggUFgYJAQaDgF6iCBQWBgkBBoOCLw2BBQaAgUBAoeAUvWFAQ\n",
       "KAgUBAr+mCVYUBAoCBQECk7SwYKCQEGgIFDwCl6woCBQECgIFLyCFywoCBQECgIFJ+lgQUGgIFAQ\n",
       "KHgFL1hQECgIFAQKfrsjWFAQKAgUBAquO4IFBYGCQEGg4IvDYEFBoCBQECg4SQcLCgIFgYJAwUk6\n",
       "WFAQKAgUBApO0sGCgkBBoCBQ8JAOFhQECgIFgYLrjmBBQaAgUBAoOEkHCwoCBYGCQMFJOlhQECgI\n",
       "FAQKTtLBgoJAQaAgUPDbHcGCgkBBoCBQ8KP/wYKCQEGgIFBw3REsKAgUBAoChbmPp/TGgoJAQaAg\n",
       "UHCSDhYUBAoCBYGCLw6DBQWBgkBBoOCLw2BBQaAgUBAouO4IFhQECgIFgYIvDoMFBYGCQEGg4CQd\n",
       "LCgIFAQKAgW/3REsKAgUBAoChTle71hZUBAoCBQECt7uCBYUBAoCBYHCXCfplQUFgYJAQaDgJB0s\n",
       "KAgUBAoCBXfSwYKCQEGgIFDwdkewoCBQECgIFOb4Y5aVBQWBgkBBoOC6I1hQECgIFAQKAgV/Nx8s\n",
       "KAgUBAoCBa+/BAsKAgWBgkDBpX2woCBQECgIFFx3BAsKAgWBgkBhzuPCY2NBQaAgUBAouO4IFhQE\n",
       "CgIFgYKHdLCgIFAQKAgU3EkHCwoCBYGCQMGddLCgIFAQKAgU5vycpDcWFAQKAgWBgpN0sKAgUBAo\n",
       "CBTmekivLCgIFAQKAgUn6WBBQaAgUBAozPl5SG8sKAgUBAoCBSfpYEFBoCBQECi4kw4WFAQKAgWB\n",
       "gpN0sKAgUBAoCBQ8pIMFBYGCQEGg4IvDYEFBoCBQECjMff68/Rk+zYKCQEGgIFBw3REsKAgUBAoC\n",
       "BW93BAsKAgWBgkBhznXdsbGgIFAQKAgUnKSDBQWBgkBBoDDHF4crCwoCBYGCQMFJOlhQECgIFAQK\n",
       "TtLBgoJAQaAgUJh7naQ3FhQECgIFgYLrjmBBQaAgUBAoeAUvWFAQKAgUBApO0sGCgkBBoCBQmOsk\n",
       "vbKgIFAQKAgUnKSDBQWBgkBBoDDH2x0rCwoCBYGCQMFPlQYLCgIFgYJAwXvSwYKCQEGgIFBwJx0s\n",
       "KAgUBAoCBSfpYEFBoCBQECh4SAcLCgIFgYJAwReHwYKCQEGgIFBwkg4WFAQKAgWBwjy+OFxZUBAo\n",
       "CBQECk7SwYKCQEGgIFDwCl6woCBQECgIFOZxkl5ZUBAoCBQECt7uCBYUBAoCBYGCLw6DBQWBgkBB\n",
       "oOC6I1hQECgIFAQKc5/79mf4NAsKAgWBgkDBdUewoCBQECgIFOZxkl5ZUBAoCBQECv8BchLtGWsS\n",
       "xKgAAAAASUVORK5CYII=\n",
       "\" transform=\"translate(2161, 124)\"/>\n",
       "</g>\n",
       "<path clip-path=\"url(#clip820)\" d=\"M2280.7 1272.84 Q2277.09 1272.84 2275.26 1276.4 Q2273.45 1279.94 2273.45 1287.07 Q2273.45 1294.18 2275.26 1297.74 Q2277.09 1301.28 2280.7 1301.28 Q2284.33 1301.28 2286.14 1297.74 Q2287.97 1294.18 2287.97 1287.07 Q2287.97 1279.94 2286.14 1276.4 Q2284.33 1272.84 2280.7 1272.84 M2280.7 1269.13 Q2286.51 1269.13 2289.57 1273.74 Q2292.64 1278.32 2292.64 1287.07 Q2292.64 1295.8 2289.57 1300.4 Q2286.51 1304.99 2280.7 1304.99 Q2274.89 1304.99 2271.81 1300.4 Q2268.76 1295.8 2268.76 1287.07 Q2268.76 1278.32 2271.81 1273.74 Q2274.89 1269.13 2280.7 1269.13 Z\" fill=\"#000000\" fill-rule=\"nonzero\" fill-opacity=\"1\" /><path clip-path=\"url(#clip820)\" d=\"M2300.86 1298.44 L2305.75 1298.44 L2305.75 1304.32 L2300.86 1304.32 L2300.86 1298.44 Z\" fill=\"#000000\" fill-rule=\"nonzero\" fill-opacity=\"1\" /><path clip-path=\"url(#clip820)\" d=\"M2325.93 1272.84 Q2322.32 1272.84 2320.49 1276.4 Q2318.69 1279.94 2318.69 1287.07 Q2318.69 1294.18 2320.49 1297.74 Q2322.32 1301.28 2325.93 1301.28 Q2329.57 1301.28 2331.37 1297.74 Q2333.2 1294.18 2333.2 1287.07 Q2333.2 1279.94 2331.37 1276.4 Q2329.57 1272.84 2325.93 1272.84 M2325.93 1269.13 Q2331.74 1269.13 2334.8 1273.74 Q2337.88 1278.32 2337.88 1287.07 Q2337.88 1295.8 2334.8 1300.4 Q2331.74 1304.99 2325.93 1304.99 Q2320.12 1304.99 2317.04 1300.4 Q2313.99 1295.8 2313.99 1287.07 Q2313.99 1278.32 2317.04 1273.74 Q2320.12 1269.13 2325.93 1269.13 Z\" fill=\"#000000\" fill-rule=\"nonzero\" fill-opacity=\"1\" /><path clip-path=\"url(#clip820)\" d=\"M2346.9 1300.38 L2354.54 1300.38 L2354.54 1274.02 L2346.23 1275.68 L2346.23 1271.42 L2354.5 1269.76 L2359.17 1269.76 L2359.17 1300.38 L2366.81 1300.38 L2366.81 1304.32 L2346.9 1304.32 L2346.9 1300.38 Z\" fill=\"#000000\" fill-rule=\"nonzero\" fill-opacity=\"1\" /><path clip-path=\"url(#clip820)\" d=\"M2280.7 1127.05 Q2277.09 1127.05 2275.26 1130.61 Q2273.45 1134.15 2273.45 1141.28 Q2273.45 1148.39 2275.26 1151.95 Q2277.09 1155.5 2280.7 1155.5 Q2284.33 1155.5 2286.14 1151.95 Q2287.97 1148.39 2287.97 1141.28 Q2287.97 1134.15 2286.14 1130.61 Q2284.33 1127.05 2280.7 1127.05 M2280.7 1123.34 Q2286.51 1123.34 2289.57 1127.95 Q2292.64 1132.53 2292.64 1141.28 Q2292.64 1150.01 2289.57 1154.62 Q2286.51 1159.2 2280.7 1159.2 Q2274.89 1159.2 2271.81 1154.62 Q2268.76 1150.01 2268.76 1141.28 Q2268.76 1132.53 2271.81 1127.95 Q2274.89 1123.34 2280.7 1123.34 Z\" fill=\"#000000\" fill-rule=\"nonzero\" fill-opacity=\"1\" /><path clip-path=\"url(#clip820)\" d=\"M2300.86 1152.65 L2305.75 1152.65 L2305.75 1158.53 L2300.86 1158.53 L2300.86 1152.65 Z\" fill=\"#000000\" fill-rule=\"nonzero\" fill-opacity=\"1\" /><path clip-path=\"url(#clip820)\" d=\"M2325.93 1127.05 Q2322.32 1127.05 2320.49 1130.61 Q2318.69 1134.15 2318.69 1141.28 Q2318.69 1148.39 2320.49 1151.95 Q2322.32 1155.5 2325.93 1155.5 Q2329.57 1155.5 2331.37 1151.95 Q2333.2 1148.39 2333.2 1141.28 Q2333.2 1134.15 2331.37 1130.61 Q2329.57 1127.05 2325.93 1127.05 M2325.93 1123.34 Q2331.74 1123.34 2334.8 1127.95 Q2337.88 1132.53 2337.88 1141.28 Q2337.88 1150.01 2334.8 1154.62 Q2331.74 1159.2 2325.93 1159.2 Q2320.12 1159.2 2317.04 1154.62 Q2313.99 1150.01 2313.99 1141.28 Q2313.99 1132.53 2317.04 1127.95 Q2320.12 1123.34 2325.93 1123.34 Z\" fill=\"#000000\" fill-rule=\"nonzero\" fill-opacity=\"1\" /><path clip-path=\"url(#clip820)\" d=\"M2350.12 1154.59 L2366.44 1154.59 L2366.44 1158.53 L2344.5 1158.53 L2344.5 1154.59 Q2347.16 1151.84 2351.74 1147.21 Q2356.35 1142.56 2357.53 1141.21 Q2359.77 1138.69 2360.65 1136.95 Q2361.56 1135.2 2361.56 1133.51 Q2361.56 1130.75 2359.61 1129.01 Q2357.69 1127.28 2354.59 1127.28 Q2352.39 1127.28 2349.94 1128.04 Q2347.51 1128.81 2344.73 1130.36 L2344.73 1125.64 Q2347.55 1124.5 2350.01 1123.92 Q2352.46 1123.34 2354.5 1123.34 Q2359.87 1123.34 2363.06 1126.03 Q2366.26 1128.71 2366.26 1133.2 Q2366.26 1135.33 2365.45 1137.26 Q2364.66 1139.15 2362.55 1141.75 Q2361.97 1142.42 2358.87 1145.64 Q2355.77 1148.83 2350.12 1154.59 Z\" fill=\"#000000\" fill-rule=\"nonzero\" fill-opacity=\"1\" /><path clip-path=\"url(#clip820)\" d=\"M2280.7 981.259 Q2277.09 981.259 2275.26 984.824 Q2273.45 988.366 2273.45 995.495 Q2273.45 1002.6 2275.26 1006.17 Q2277.09 1009.71 2280.7 1009.71 Q2284.33 1009.71 2286.14 1006.17 Q2287.97 1002.6 2287.97 995.495 Q2287.97 988.366 2286.14 984.824 Q2284.33 981.259 2280.7 981.259 M2280.7 977.556 Q2286.51 977.556 2289.57 982.162 Q2292.64 986.746 2292.64 995.495 Q2292.64 1004.22 2289.57 1008.83 Q2286.51 1013.41 2280.7 1013.41 Q2274.89 1013.41 2271.81 1008.83 Q2268.76 1004.22 2268.76 995.495 Q2268.76 986.746 2271.81 982.162 Q2274.89 977.556 2280.7 977.556 Z\" fill=\"#000000\" fill-rule=\"nonzero\" fill-opacity=\"1\" /><path clip-path=\"url(#clip820)\" d=\"M2300.86 1006.86 L2305.75 1006.86 L2305.75 1012.74 L2300.86 1012.74 L2300.86 1006.86 Z\" fill=\"#000000\" fill-rule=\"nonzero\" fill-opacity=\"1\" /><path clip-path=\"url(#clip820)\" d=\"M2325.93 981.259 Q2322.32 981.259 2320.49 984.824 Q2318.69 988.366 2318.69 995.495 Q2318.69 1002.6 2320.49 1006.17 Q2322.32 1009.71 2325.93 1009.71 Q2329.57 1009.71 2331.37 1006.17 Q2333.2 1002.6 2333.2 995.495 Q2333.2 988.366 2331.37 984.824 Q2329.57 981.259 2325.93 981.259 M2325.93 977.556 Q2331.74 977.556 2334.8 982.162 Q2337.88 986.746 2337.88 995.495 Q2337.88 1004.22 2334.8 1008.83 Q2331.74 1013.41 2325.93 1013.41 Q2320.12 1013.41 2317.04 1008.83 Q2313.99 1004.22 2313.99 995.495 Q2313.99 986.746 2317.04 982.162 Q2320.12 977.556 2325.93 977.556 Z\" fill=\"#000000\" fill-rule=\"nonzero\" fill-opacity=\"1\" /><path clip-path=\"url(#clip820)\" d=\"M2360.26 994.107 Q2363.62 994.824 2365.49 997.093 Q2367.39 999.361 2367.39 1002.69 Q2367.39 1007.81 2363.87 1010.61 Q2360.35 1013.41 2353.87 1013.41 Q2351.7 1013.41 2349.38 1012.97 Q2347.09 1012.56 2344.64 1011.7 L2344.64 1007.19 Q2346.58 1008.32 2348.89 1008.9 Q2351.21 1009.48 2353.73 1009.48 Q2358.13 1009.48 2360.42 1007.74 Q2362.74 1006 2362.74 1002.69 Q2362.74 999.639 2360.58 997.926 Q2358.45 996.19 2354.64 996.19 L2350.61 996.19 L2350.61 992.347 L2354.82 992.347 Q2358.27 992.347 2360.1 990.982 Q2361.93 989.593 2361.93 987 Q2361.93 984.338 2360.03 982.926 Q2358.15 981.491 2354.64 981.491 Q2352.71 981.491 2350.51 981.908 Q2348.32 982.324 2345.68 983.204 L2345.68 979.037 Q2348.34 978.296 2350.65 977.926 Q2352.99 977.556 2355.05 977.556 Q2360.38 977.556 2363.48 979.986 Q2366.58 982.394 2366.58 986.514 Q2366.58 989.384 2364.94 991.375 Q2363.29 993.343 2360.26 994.107 Z\" fill=\"#000000\" fill-rule=\"nonzero\" fill-opacity=\"1\" /><path clip-path=\"url(#clip820)\" d=\"M2280.7 835.472 Q2277.09 835.472 2275.26 839.036 Q2273.45 842.578 2273.45 849.708 Q2273.45 856.814 2275.26 860.379 Q2277.09 863.92 2280.7 863.92 Q2284.33 863.92 2286.14 860.379 Q2287.97 856.814 2287.97 849.708 Q2287.97 842.578 2286.14 839.036 Q2284.33 835.472 2280.7 835.472 M2280.7 831.768 Q2286.51 831.768 2289.57 836.374 Q2292.64 840.958 2292.64 849.708 Q2292.64 858.434 2289.57 863.041 Q2286.51 867.624 2280.7 867.624 Q2274.89 867.624 2271.81 863.041 Q2268.76 858.434 2268.76 849.708 Q2268.76 840.958 2271.81 836.374 Q2274.89 831.768 2280.7 831.768 Z\" fill=\"#000000\" fill-rule=\"nonzero\" fill-opacity=\"1\" /><path clip-path=\"url(#clip820)\" d=\"M2300.86 861.073 L2305.75 861.073 L2305.75 866.953 L2300.86 866.953 L2300.86 861.073 Z\" fill=\"#000000\" fill-rule=\"nonzero\" fill-opacity=\"1\" /><path clip-path=\"url(#clip820)\" d=\"M2325.93 835.472 Q2322.32 835.472 2320.49 839.036 Q2318.69 842.578 2318.69 849.708 Q2318.69 856.814 2320.49 860.379 Q2322.32 863.92 2325.93 863.92 Q2329.57 863.92 2331.37 860.379 Q2333.2 856.814 2333.2 849.708 Q2333.2 842.578 2331.37 839.036 Q2329.57 835.472 2325.93 835.472 M2325.93 831.768 Q2331.74 831.768 2334.8 836.374 Q2337.88 840.958 2337.88 849.708 Q2337.88 858.434 2334.8 863.041 Q2331.74 867.624 2325.93 867.624 Q2320.12 867.624 2317.04 863.041 Q2313.99 858.434 2313.99 849.708 Q2313.99 840.958 2317.04 836.374 Q2320.12 831.768 2325.93 831.768 Z\" fill=\"#000000\" fill-rule=\"nonzero\" fill-opacity=\"1\" /><path clip-path=\"url(#clip820)\" d=\"M2358.94 836.467 L2347.14 854.916 L2358.94 854.916 L2358.94 836.467 M2357.71 832.393 L2363.59 832.393 L2363.59 854.916 L2368.52 854.916 L2368.52 858.805 L2363.59 858.805 L2363.59 866.953 L2358.94 866.953 L2358.94 858.805 L2343.34 858.805 L2343.34 854.291 L2357.71 832.393 Z\" fill=\"#000000\" fill-rule=\"nonzero\" fill-opacity=\"1\" /><path clip-path=\"url(#clip820)\" d=\"M2280.7 689.684 Q2277.09 689.684 2275.26 693.249 Q2273.45 696.79 2273.45 703.92 Q2273.45 711.026 2275.26 714.591 Q2277.09 718.133 2280.7 718.133 Q2284.33 718.133 2286.14 714.591 Q2287.97 711.026 2287.97 703.92 Q2287.97 696.79 2286.14 693.249 Q2284.33 689.684 2280.7 689.684 M2280.7 685.98 Q2286.51 685.98 2289.57 690.586 Q2292.64 695.17 2292.64 703.92 Q2292.64 712.647 2289.57 717.253 Q2286.51 721.836 2280.7 721.836 Q2274.89 721.836 2271.81 717.253 Q2268.76 712.647 2268.76 703.92 Q2268.76 695.17 2271.81 690.586 Q2274.89 685.98 2280.7 685.98 Z\" fill=\"#000000\" fill-rule=\"nonzero\" fill-opacity=\"1\" /><path clip-path=\"url(#clip820)\" d=\"M2300.86 715.285 L2305.75 715.285 L2305.75 721.165 L2300.86 721.165 L2300.86 715.285 Z\" fill=\"#000000\" fill-rule=\"nonzero\" fill-opacity=\"1\" /><path clip-path=\"url(#clip820)\" d=\"M2325.93 689.684 Q2322.32 689.684 2320.49 693.249 Q2318.69 696.79 2318.69 703.92 Q2318.69 711.026 2320.49 714.591 Q2322.32 718.133 2325.93 718.133 Q2329.57 718.133 2331.37 714.591 Q2333.2 711.026 2333.2 703.92 Q2333.2 696.79 2331.37 693.249 Q2329.57 689.684 2325.93 689.684 M2325.93 685.98 Q2331.74 685.98 2334.8 690.586 Q2337.88 695.17 2337.88 703.92 Q2337.88 712.647 2334.8 717.253 Q2331.74 721.836 2325.93 721.836 Q2320.12 721.836 2317.04 717.253 Q2313.99 712.647 2313.99 703.92 Q2313.99 695.17 2317.04 690.586 Q2320.12 685.98 2325.93 685.98 Z\" fill=\"#000000\" fill-rule=\"nonzero\" fill-opacity=\"1\" /><path clip-path=\"url(#clip820)\" d=\"M2346.14 686.605 L2364.5 686.605 L2364.5 690.54 L2350.42 690.54 L2350.42 699.012 Q2351.44 698.665 2352.46 698.503 Q2353.48 698.318 2354.5 698.318 Q2360.28 698.318 2363.66 701.489 Q2367.04 704.66 2367.04 710.077 Q2367.04 715.656 2363.57 718.758 Q2360.1 721.836 2353.78 721.836 Q2351.6 721.836 2349.33 721.466 Q2347.09 721.096 2344.68 720.355 L2344.68 715.656 Q2346.76 716.79 2348.99 717.346 Q2351.21 717.901 2353.69 717.901 Q2357.69 717.901 2360.03 715.795 Q2362.37 713.688 2362.37 710.077 Q2362.37 706.466 2360.03 704.36 Q2357.69 702.253 2353.69 702.253 Q2351.81 702.253 2349.94 702.67 Q2348.08 703.086 2346.14 703.966 L2346.14 686.605 Z\" fill=\"#000000\" fill-rule=\"nonzero\" fill-opacity=\"1\" /><path clip-path=\"url(#clip820)\" d=\"M2280.7 543.896 Q2277.09 543.896 2275.26 547.461 Q2273.45 551.002 2273.45 558.132 Q2273.45 565.238 2275.26 568.803 Q2277.09 572.345 2280.7 572.345 Q2284.33 572.345 2286.14 568.803 Q2287.97 565.238 2287.97 558.132 Q2287.97 551.002 2286.14 547.461 Q2284.33 543.896 2280.7 543.896 M2280.7 540.192 Q2286.51 540.192 2289.57 544.799 Q2292.64 549.382 2292.64 558.132 Q2292.64 566.859 2289.57 571.465 Q2286.51 576.048 2280.7 576.048 Q2274.89 576.048 2271.81 571.465 Q2268.76 566.859 2268.76 558.132 Q2268.76 549.382 2271.81 544.799 Q2274.89 540.192 2280.7 540.192 Z\" fill=\"#000000\" fill-rule=\"nonzero\" fill-opacity=\"1\" /><path clip-path=\"url(#clip820)\" d=\"M2300.86 569.498 L2305.75 569.498 L2305.75 575.377 L2300.86 575.377 L2300.86 569.498 Z\" fill=\"#000000\" fill-rule=\"nonzero\" fill-opacity=\"1\" /><path clip-path=\"url(#clip820)\" d=\"M2325.93 543.896 Q2322.32 543.896 2320.49 547.461 Q2318.69 551.002 2318.69 558.132 Q2318.69 565.238 2320.49 568.803 Q2322.32 572.345 2325.93 572.345 Q2329.57 572.345 2331.37 568.803 Q2333.2 565.238 2333.2 558.132 Q2333.2 551.002 2331.37 547.461 Q2329.57 543.896 2325.93 543.896 M2325.93 540.192 Q2331.74 540.192 2334.8 544.799 Q2337.88 549.382 2337.88 558.132 Q2337.88 566.859 2334.8 571.465 Q2331.74 576.048 2325.93 576.048 Q2320.12 576.048 2317.04 571.465 Q2313.99 566.859 2313.99 558.132 Q2313.99 549.382 2317.04 544.799 Q2320.12 540.192 2325.93 540.192 Z\" fill=\"#000000\" fill-rule=\"nonzero\" fill-opacity=\"1\" /><path clip-path=\"url(#clip820)\" d=\"M2356.67 556.234 Q2353.52 556.234 2351.67 558.387 Q2349.84 560.539 2349.84 564.289 Q2349.84 568.016 2351.67 570.192 Q2353.52 572.345 2356.67 572.345 Q2359.82 572.345 2361.65 570.192 Q2363.5 568.016 2363.5 564.289 Q2363.5 560.539 2361.65 558.387 Q2359.82 556.234 2356.67 556.234 M2365.95 541.581 L2365.95 545.84 Q2364.2 545.007 2362.39 544.567 Q2360.61 544.127 2358.85 544.127 Q2354.22 544.127 2351.76 547.252 Q2349.33 550.377 2348.99 556.697 Q2350.35 554.683 2352.41 553.618 Q2354.47 552.53 2356.95 552.53 Q2362.16 552.53 2365.17 555.701 Q2368.2 558.849 2368.2 564.289 Q2368.2 569.613 2365.05 572.831 Q2361.9 576.048 2356.67 576.048 Q2350.68 576.048 2347.51 571.465 Q2344.33 566.859 2344.33 558.132 Q2344.33 549.938 2348.22 545.076 Q2352.11 540.192 2358.66 540.192 Q2360.42 540.192 2362.2 540.539 Q2364.01 540.887 2365.95 541.581 Z\" fill=\"#000000\" fill-rule=\"nonzero\" fill-opacity=\"1\" /><path clip-path=\"url(#clip820)\" d=\"M2280.7 398.108 Q2277.09 398.108 2275.26 401.673 Q2273.45 405.214 2273.45 412.344 Q2273.45 419.45 2275.26 423.015 Q2277.09 426.557 2280.7 426.557 Q2284.33 426.557 2286.14 423.015 Q2287.97 419.45 2287.97 412.344 Q2287.97 405.214 2286.14 401.673 Q2284.33 398.108 2280.7 398.108 M2280.7 394.404 Q2286.51 394.404 2289.57 399.011 Q2292.64 403.594 2292.64 412.344 Q2292.64 421.071 2289.57 425.677 Q2286.51 430.261 2280.7 430.261 Q2274.89 430.261 2271.81 425.677 Q2268.76 421.071 2268.76 412.344 Q2268.76 403.594 2271.81 399.011 Q2274.89 394.404 2280.7 394.404 Z\" fill=\"#000000\" fill-rule=\"nonzero\" fill-opacity=\"1\" /><path clip-path=\"url(#clip820)\" d=\"M2300.86 423.71 L2305.75 423.71 L2305.75 429.589 L2300.86 429.589 L2300.86 423.71 Z\" fill=\"#000000\" fill-rule=\"nonzero\" fill-opacity=\"1\" /><path clip-path=\"url(#clip820)\" d=\"M2325.93 398.108 Q2322.32 398.108 2320.49 401.673 Q2318.69 405.214 2318.69 412.344 Q2318.69 419.45 2320.49 423.015 Q2322.32 426.557 2325.93 426.557 Q2329.57 426.557 2331.37 423.015 Q2333.2 419.45 2333.2 412.344 Q2333.2 405.214 2331.37 401.673 Q2329.57 398.108 2325.93 398.108 M2325.93 394.404 Q2331.74 394.404 2334.8 399.011 Q2337.88 403.594 2337.88 412.344 Q2337.88 421.071 2334.8 425.677 Q2331.74 430.261 2325.93 430.261 Q2320.12 430.261 2317.04 425.677 Q2313.99 421.071 2313.99 412.344 Q2313.99 403.594 2317.04 399.011 Q2320.12 394.404 2325.93 394.404 Z\" fill=\"#000000\" fill-rule=\"nonzero\" fill-opacity=\"1\" /><path clip-path=\"url(#clip820)\" d=\"M2344.91 395.029 L2367.14 395.029 L2367.14 397.02 L2354.59 429.589 L2349.7 429.589 L2361.51 398.964 L2344.91 398.964 L2344.91 395.029 Z\" fill=\"#000000\" fill-rule=\"nonzero\" fill-opacity=\"1\" /><path clip-path=\"url(#clip820)\" d=\"M2280.7 252.32 Q2277.09 252.32 2275.26 255.885 Q2273.45 259.427 2273.45 266.556 Q2273.45 273.663 2275.26 277.227 Q2277.09 280.769 2280.7 280.769 Q2284.33 280.769 2286.14 277.227 Q2287.97 273.663 2287.97 266.556 Q2287.97 259.427 2286.14 255.885 Q2284.33 252.32 2280.7 252.32 M2280.7 248.616 Q2286.51 248.616 2289.57 253.223 Q2292.64 257.806 2292.64 266.556 Q2292.64 275.283 2289.57 279.889 Q2286.51 284.473 2280.7 284.473 Q2274.89 284.473 2271.81 279.889 Q2268.76 275.283 2268.76 266.556 Q2268.76 257.806 2271.81 253.223 Q2274.89 248.616 2280.7 248.616 Z\" fill=\"#000000\" fill-rule=\"nonzero\" fill-opacity=\"1\" /><path clip-path=\"url(#clip820)\" d=\"M2300.86 277.922 L2305.75 277.922 L2305.75 283.801 L2300.86 283.801 L2300.86 277.922 Z\" fill=\"#000000\" fill-rule=\"nonzero\" fill-opacity=\"1\" /><path clip-path=\"url(#clip820)\" d=\"M2325.93 252.32 Q2322.32 252.32 2320.49 255.885 Q2318.69 259.427 2318.69 266.556 Q2318.69 273.663 2320.49 277.227 Q2322.32 280.769 2325.93 280.769 Q2329.57 280.769 2331.37 277.227 Q2333.2 273.663 2333.2 266.556 Q2333.2 259.427 2331.37 255.885 Q2329.57 252.32 2325.93 252.32 M2325.93 248.616 Q2331.74 248.616 2334.8 253.223 Q2337.88 257.806 2337.88 266.556 Q2337.88 275.283 2334.8 279.889 Q2331.74 284.473 2325.93 284.473 Q2320.12 284.473 2317.04 279.889 Q2313.99 275.283 2313.99 266.556 Q2313.99 257.806 2317.04 253.223 Q2320.12 248.616 2325.93 248.616 Z\" fill=\"#000000\" fill-rule=\"nonzero\" fill-opacity=\"1\" /><path clip-path=\"url(#clip820)\" d=\"M2356.09 267.39 Q2352.76 267.39 2350.84 269.172 Q2348.94 270.954 2348.94 274.079 Q2348.94 277.204 2350.84 278.987 Q2352.76 280.769 2356.09 280.769 Q2359.43 280.769 2361.35 278.987 Q2363.27 277.181 2363.27 274.079 Q2363.27 270.954 2361.35 269.172 Q2359.45 267.39 2356.09 267.39 M2351.42 265.399 Q2348.41 264.658 2346.72 262.598 Q2345.05 260.538 2345.05 257.575 Q2345.05 253.431 2347.99 251.024 Q2350.95 248.616 2356.09 248.616 Q2361.26 248.616 2364.2 251.024 Q2367.14 253.431 2367.14 257.575 Q2367.14 260.538 2365.45 262.598 Q2363.78 264.658 2360.79 265.399 Q2364.17 266.186 2366.05 268.477 Q2367.95 270.769 2367.95 274.079 Q2367.95 279.102 2364.87 281.788 Q2361.81 284.473 2356.09 284.473 Q2350.38 284.473 2347.3 281.788 Q2344.24 279.102 2344.24 274.079 Q2344.24 270.769 2346.14 268.477 Q2348.04 266.186 2351.42 265.399 M2349.7 258.015 Q2349.7 260.7 2351.37 262.204 Q2353.06 263.709 2356.09 263.709 Q2359.1 263.709 2360.79 262.204 Q2362.51 260.7 2362.51 258.015 Q2362.51 255.329 2360.79 253.825 Q2359.1 252.32 2356.09 252.32 Q2353.06 252.32 2351.37 253.825 Q2349.7 255.329 2349.7 258.015 Z\" fill=\"#000000\" fill-rule=\"nonzero\" fill-opacity=\"1\" /><path clip-path=\"url(#clip820)\" d=\"M2280.7 106.532 Q2277.09 106.532 2275.26 110.097 Q2273.45 113.639 2273.45 120.768 Q2273.45 127.875 2275.26 131.44 Q2277.09 134.981 2280.7 134.981 Q2284.33 134.981 2286.14 131.44 Q2287.97 127.875 2287.97 120.768 Q2287.97 113.639 2286.14 110.097 Q2284.33 106.532 2280.7 106.532 M2280.7 102.829 Q2286.51 102.829 2289.57 107.435 Q2292.64 112.018 2292.64 120.768 Q2292.64 129.495 2289.57 134.102 Q2286.51 138.685 2280.7 138.685 Q2274.89 138.685 2271.81 134.102 Q2268.76 129.495 2268.76 120.768 Q2268.76 112.018 2271.81 107.435 Q2274.89 102.829 2280.7 102.829 Z\" fill=\"#000000\" fill-rule=\"nonzero\" fill-opacity=\"1\" /><path clip-path=\"url(#clip820)\" d=\"M2300.86 132.134 L2305.75 132.134 L2305.75 138.014 L2300.86 138.014 L2300.86 132.134 Z\" fill=\"#000000\" fill-rule=\"nonzero\" fill-opacity=\"1\" /><path clip-path=\"url(#clip820)\" d=\"M2325.93 106.532 Q2322.32 106.532 2320.49 110.097 Q2318.69 113.639 2318.69 120.768 Q2318.69 127.875 2320.49 131.44 Q2322.32 134.981 2325.93 134.981 Q2329.57 134.981 2331.37 131.44 Q2333.2 127.875 2333.2 120.768 Q2333.2 113.639 2331.37 110.097 Q2329.57 106.532 2325.93 106.532 M2325.93 102.829 Q2331.74 102.829 2334.8 107.435 Q2337.88 112.018 2337.88 120.768 Q2337.88 129.495 2334.8 134.102 Q2331.74 138.685 2325.93 138.685 Q2320.12 138.685 2317.04 134.102 Q2313.99 129.495 2313.99 120.768 Q2313.99 112.018 2317.04 107.435 Q2320.12 102.829 2325.93 102.829 Z\" fill=\"#000000\" fill-rule=\"nonzero\" fill-opacity=\"1\" /><path clip-path=\"url(#clip820)\" d=\"M2346.23 137.296 L2346.23 133.037 Q2347.99 133.87 2349.8 134.31 Q2351.6 134.75 2353.34 134.75 Q2357.97 134.75 2360.4 131.648 Q2362.85 128.523 2363.2 122.18 Q2361.86 124.171 2359.8 125.236 Q2357.74 126.301 2355.24 126.301 Q2350.05 126.301 2347.02 123.176 Q2344.01 120.028 2344.01 114.588 Q2344.01 109.264 2347.16 106.046 Q2350.31 102.829 2355.54 102.829 Q2361.53 102.829 2364.68 107.435 Q2367.85 112.018 2367.85 120.768 Q2367.85 128.94 2363.96 133.824 Q2360.1 138.685 2353.55 138.685 Q2351.79 138.685 2349.98 138.338 Q2348.18 137.99 2346.23 137.296 M2355.54 122.643 Q2358.69 122.643 2360.51 120.491 Q2362.37 118.338 2362.37 114.588 Q2362.37 110.861 2360.51 108.708 Q2358.69 106.532 2355.54 106.532 Q2352.39 106.532 2350.54 108.708 Q2348.71 110.861 2348.71 114.588 Q2348.71 118.338 2350.54 120.491 Q2352.39 122.643 2355.54 122.643 Z\" fill=\"#000000\" fill-rule=\"nonzero\" fill-opacity=\"1\" /><polyline clip-path=\"url(#clip820)\" style=\"stroke:#000000; stroke-linecap:round; stroke-linejoin:round; stroke-width:4; stroke-opacity:1; fill:none\" points=\"2232.76,1409.37 2232.76,1290.67 2256.76,1290.67 2232.76,1290.67 2232.76,1144.88 2256.76,1144.88 2232.76,1144.88 2232.76,999.09 2256.76,999.09 2232.76,999.09 2232.76,853.302 2256.76,853.302 2232.76,853.302 2232.76,707.514 2256.76,707.514 2232.76,707.514 2232.76,561.726 2256.76,561.726 2232.76,561.726 2232.76,415.938 2256.76,415.938 2232.76,415.938 2232.76,270.15 2256.76,270.15 2232.76,270.15 2232.76,124.362 2256.76,124.362 2232.76,124.362 2232.76,124.324 \"/>\n",
       "</svg>\n"
      ]
     },
     "execution_count": 99,
     "metadata": {},
     "output_type": "execute_result"
    }
   ],
   "source": [
    "heatmap(Tx,Ty,imag(F12list[1]),aspect_ratio=1)"
   ]
  },
  {
   "cell_type": "markdown",
   "metadata": {},
   "source": [
    "# Many Body"
   ]
  },
  {
   "cell_type": "code",
   "execution_count": 100,
   "metadata": {},
   "outputs": [],
   "source": [
    "delete!(param_dict, \"sub_range\");"
   ]
  },
  {
   "cell_type": "code",
   "execution_count": 101,
   "metadata": {},
   "outputs": [
    {
     "data": {
      "text/plain": [
       "ManyBody(onebodybasis=NLevel(N=9), states:45)"
      ]
     },
     "execution_count": 101,
     "metadata": {},
     "output_type": "execute_result"
    }
   ],
   "source": [
    "PN = 2\n",
    "param_dict[\"PN\"] = PN\n",
    "basis_mb = get_basis_mb(param_dict)"
   ]
  },
  {
   "cell_type": "code",
   "execution_count": 102,
   "metadata": {},
   "outputs": [
    {
     "data": {
      "text/plain": [
       "ManyBody(onebodybasis=NLevel(N=9), states:45)"
      ]
     },
     "execution_count": 102,
     "metadata": {},
     "output_type": "execute_result"
    }
   ],
   "source": [
    "param_dict[\"basis_mb\"]"
   ]
  },
  {
   "cell_type": "code",
   "execution_count": 103,
   "metadata": {},
   "outputs": [
    {
     "data": {
      "text/plain": [
       "45"
      ]
     },
     "execution_count": 103,
     "metadata": {},
     "output_type": "execute_result"
    }
   ],
   "source": [
    "param_dict[\"dimH_mb\"] = length(basis_mb)"
   ]
  },
  {
   "cell_type": "markdown",
   "metadata": {},
   "source": [
    "## Non-Interacting Many Body"
   ]
  },
  {
   "cell_type": "code",
   "execution_count": 104,
   "metadata": {},
   "outputs": [
    {
     "data": {
      "text/plain": [
       "45"
      ]
     },
     "execution_count": 104,
     "metadata": {},
     "output_type": "execute_result"
    }
   ],
   "source": [
    "basis_mb.shape[1]"
   ]
  },
  {
   "cell_type": "code",
   "execution_count": 105,
   "metadata": {},
   "outputs": [],
   "source": [
    "H1_mb = get_mb_op(basis_mb, H1);"
   ]
  },
  {
   "cell_type": "code",
   "execution_count": 106,
   "metadata": {},
   "outputs": [],
   "source": [
    "EEA, UUA = calc_all_states_H_mb(param_dict);"
   ]
  },
  {
   "cell_type": "code",
   "execution_count": 107,
   "metadata": {},
   "outputs": [
    {
     "data": {
      "image/svg+xml": [
       "<?xml version=\"1.0\" encoding=\"utf-8\"?>\n",
       "<svg xmlns=\"http://www.w3.org/2000/svg\" xmlns:xlink=\"http://www.w3.org/1999/xlink\" width=\"600\" height=\"400\" viewBox=\"0 0 2400 1600\">\n",
       "<defs>\n",
       "  <clipPath id=\"clip860\">\n",
       "    <rect x=\"0\" y=\"0\" width=\"2400\" height=\"1600\"/>\n",
       "  </clipPath>\n",
       "</defs>\n",
       "<path clip-path=\"url(#clip860)\" d=\"M0 1600 L2400 1600 L2400 0 L0 0  Z\" fill=\"#ffffff\" fill-rule=\"evenodd\" fill-opacity=\"1\"/>\n",
       "<defs>\n",
       "  <clipPath id=\"clip861\">\n",
       "    <rect x=\"480\" y=\"0\" width=\"1681\" height=\"1600\"/>\n",
       "  </clipPath>\n",
       "</defs>\n",
       "<path clip-path=\"url(#clip860)\" d=\"M149.191 1486.45 L2352.76 1486.45 L2352.76 47.2441 L149.191 47.2441  Z\" fill=\"#ffffff\" fill-rule=\"evenodd\" fill-opacity=\"1\"/>\n",
       "<defs>\n",
       "  <clipPath id=\"clip862\">\n",
       "    <rect x=\"149\" y=\"47\" width=\"2205\" height=\"1440\"/>\n",
       "  </clipPath>\n",
       "</defs>\n",
       "<polyline clip-path=\"url(#clip862)\" style=\"stroke:#000000; stroke-linecap:round; stroke-linejoin:round; stroke-width:2; stroke-opacity:0.1; fill:none\" points=\"164.31,1486.45 164.31,47.2441 \"/>\n",
       "<polyline clip-path=\"url(#clip862)\" style=\"stroke:#000000; stroke-linecap:round; stroke-linejoin:round; stroke-width:2; stroke-opacity:0.1; fill:none\" points=\"636.772,1486.45 636.772,47.2441 \"/>\n",
       "<polyline clip-path=\"url(#clip862)\" style=\"stroke:#000000; stroke-linecap:round; stroke-linejoin:round; stroke-width:2; stroke-opacity:0.1; fill:none\" points=\"1109.23,1486.45 1109.23,47.2441 \"/>\n",
       "<polyline clip-path=\"url(#clip862)\" style=\"stroke:#000000; stroke-linecap:round; stroke-linejoin:round; stroke-width:2; stroke-opacity:0.1; fill:none\" points=\"1581.7,1486.45 1581.7,47.2441 \"/>\n",
       "<polyline clip-path=\"url(#clip862)\" style=\"stroke:#000000; stroke-linecap:round; stroke-linejoin:round; stroke-width:2; stroke-opacity:0.1; fill:none\" points=\"2054.16,1486.45 2054.16,47.2441 \"/>\n",
       "<polyline clip-path=\"url(#clip860)\" style=\"stroke:#000000; stroke-linecap:round; stroke-linejoin:round; stroke-width:4; stroke-opacity:1; fill:none\" points=\"149.191,1486.45 2352.76,1486.45 \"/>\n",
       "<polyline clip-path=\"url(#clip860)\" style=\"stroke:#000000; stroke-linecap:round; stroke-linejoin:round; stroke-width:4; stroke-opacity:1; fill:none\" points=\"164.31,1486.45 164.31,1467.55 \"/>\n",
       "<polyline clip-path=\"url(#clip860)\" style=\"stroke:#000000; stroke-linecap:round; stroke-linejoin:round; stroke-width:4; stroke-opacity:1; fill:none\" points=\"636.772,1486.45 636.772,1467.55 \"/>\n",
       "<polyline clip-path=\"url(#clip860)\" style=\"stroke:#000000; stroke-linecap:round; stroke-linejoin:round; stroke-width:4; stroke-opacity:1; fill:none\" points=\"1109.23,1486.45 1109.23,1467.55 \"/>\n",
       "<polyline clip-path=\"url(#clip860)\" style=\"stroke:#000000; stroke-linecap:round; stroke-linejoin:round; stroke-width:4; stroke-opacity:1; fill:none\" points=\"1581.7,1486.45 1581.7,1467.55 \"/>\n",
       "<polyline clip-path=\"url(#clip860)\" style=\"stroke:#000000; stroke-linecap:round; stroke-linejoin:round; stroke-width:4; stroke-opacity:1; fill:none\" points=\"2054.16,1486.45 2054.16,1467.55 \"/>\n",
       "<path clip-path=\"url(#clip860)\" d=\"M164.31 1517.37 Q160.699 1517.37 158.87 1520.93 Q157.064 1524.47 157.064 1531.6 Q157.064 1538.71 158.87 1542.27 Q160.699 1545.82 164.31 1545.82 Q167.944 1545.82 169.749 1542.27 Q171.578 1538.71 171.578 1531.6 Q171.578 1524.47 169.749 1520.93 Q167.944 1517.37 164.31 1517.37 M164.31 1513.66 Q170.12 1513.66 173.175 1518.27 Q176.254 1522.85 176.254 1531.6 Q176.254 1540.33 173.175 1544.94 Q170.12 1549.52 164.31 1549.52 Q158.5 1549.52 155.421 1544.94 Q152.365 1540.33 152.365 1531.6 Q152.365 1522.85 155.421 1518.27 Q158.5 1513.66 164.31 1513.66 Z\" fill=\"#000000\" fill-rule=\"nonzero\" fill-opacity=\"1\" /><path clip-path=\"url(#clip860)\" d=\"M611.46 1544.91 L619.099 1544.91 L619.099 1518.55 L610.788 1520.21 L610.788 1515.95 L619.052 1514.29 L623.728 1514.29 L623.728 1544.91 L631.367 1544.91 L631.367 1548.85 L611.46 1548.85 L611.46 1544.91 Z\" fill=\"#000000\" fill-rule=\"nonzero\" fill-opacity=\"1\" /><path clip-path=\"url(#clip860)\" d=\"M650.811 1517.37 Q647.2 1517.37 645.372 1520.93 Q643.566 1524.47 643.566 1531.6 Q643.566 1538.71 645.372 1542.27 Q647.2 1545.82 650.811 1545.82 Q654.446 1545.82 656.251 1542.27 Q658.08 1538.71 658.08 1531.6 Q658.08 1524.47 656.251 1520.93 Q654.446 1517.37 650.811 1517.37 M650.811 1513.66 Q656.622 1513.66 659.677 1518.27 Q662.756 1522.85 662.756 1531.6 Q662.756 1540.33 659.677 1544.94 Q656.622 1549.52 650.811 1549.52 Q645.001 1549.52 641.923 1544.94 Q638.867 1540.33 638.867 1531.6 Q638.867 1522.85 641.923 1518.27 Q645.001 1513.66 650.811 1513.66 Z\" fill=\"#000000\" fill-rule=\"nonzero\" fill-opacity=\"1\" /><path clip-path=\"url(#clip860)\" d=\"M1088.01 1544.91 L1104.33 1544.91 L1104.33 1548.85 L1082.38 1548.85 L1082.38 1544.91 Q1085.04 1542.16 1089.63 1537.53 Q1094.23 1532.88 1095.42 1531.53 Q1097.66 1529.01 1098.54 1527.27 Q1099.44 1525.51 1099.44 1523.82 Q1099.44 1521.07 1097.5 1519.33 Q1095.58 1517.6 1092.48 1517.6 Q1090.28 1517.6 1087.82 1518.36 Q1085.39 1519.13 1082.61 1520.68 L1082.61 1515.95 Q1085.44 1514.82 1087.89 1514.24 Q1090.35 1513.66 1092.38 1513.66 Q1097.75 1513.66 1100.95 1516.35 Q1104.14 1519.03 1104.14 1523.52 Q1104.14 1525.65 1103.33 1527.57 Q1102.54 1529.47 1100.44 1532.07 Q1099.86 1532.74 1096.76 1535.95 Q1093.66 1539.15 1088.01 1544.91 Z\" fill=\"#000000\" fill-rule=\"nonzero\" fill-opacity=\"1\" /><path clip-path=\"url(#clip860)\" d=\"M1124.14 1517.37 Q1120.53 1517.37 1118.7 1520.93 Q1116.9 1524.47 1116.9 1531.6 Q1116.9 1538.71 1118.7 1542.27 Q1120.53 1545.82 1124.14 1545.82 Q1127.78 1545.82 1129.58 1542.27 Q1131.41 1538.71 1131.41 1531.6 Q1131.41 1524.47 1129.58 1520.93 Q1127.78 1517.37 1124.14 1517.37 M1124.14 1513.66 Q1129.95 1513.66 1133.01 1518.27 Q1136.09 1522.85 1136.09 1531.6 Q1136.09 1540.33 1133.01 1544.94 Q1129.95 1549.52 1124.14 1549.52 Q1118.33 1549.52 1115.25 1544.94 Q1112.2 1540.33 1112.2 1531.6 Q1112.2 1522.85 1115.25 1518.27 Q1118.33 1513.66 1124.14 1513.66 Z\" fill=\"#000000\" fill-rule=\"nonzero\" fill-opacity=\"1\" /><path clip-path=\"url(#clip860)\" d=\"M1570.54 1530.21 Q1573.9 1530.93 1575.77 1533.2 Q1577.67 1535.47 1577.67 1538.8 Q1577.67 1543.92 1574.15 1546.72 Q1570.63 1549.52 1564.15 1549.52 Q1561.98 1549.52 1559.66 1549.08 Q1557.37 1548.66 1554.91 1547.81 L1554.91 1543.29 Q1556.86 1544.43 1559.17 1545.01 Q1561.49 1545.58 1564.01 1545.58 Q1568.41 1545.58 1570.7 1543.85 Q1573.02 1542.11 1573.02 1538.8 Q1573.02 1535.75 1570.86 1534.03 Q1568.73 1532.3 1564.91 1532.3 L1560.89 1532.3 L1560.89 1528.45 L1565.1 1528.45 Q1568.55 1528.45 1570.38 1527.09 Q1572.21 1525.7 1572.21 1523.11 Q1572.21 1520.45 1570.31 1519.03 Q1568.43 1517.6 1564.91 1517.6 Q1562.99 1517.6 1560.79 1518.01 Q1558.6 1518.43 1555.96 1519.31 L1555.96 1515.14 Q1558.62 1514.4 1560.93 1514.03 Q1563.27 1513.66 1565.33 1513.66 Q1570.66 1513.66 1573.76 1516.09 Q1576.86 1518.5 1576.86 1522.62 Q1576.86 1525.49 1575.22 1527.48 Q1573.57 1529.45 1570.54 1530.21 Z\" fill=\"#000000\" fill-rule=\"nonzero\" fill-opacity=\"1\" /><path clip-path=\"url(#clip860)\" d=\"M1596.54 1517.37 Q1592.92 1517.37 1591.1 1520.93 Q1589.29 1524.47 1589.29 1531.6 Q1589.29 1538.71 1591.1 1542.27 Q1592.92 1545.82 1596.54 1545.82 Q1600.17 1545.82 1601.97 1542.27 Q1603.8 1538.71 1603.8 1531.6 Q1603.8 1524.47 1601.97 1520.93 Q1600.17 1517.37 1596.54 1517.37 M1596.54 1513.66 Q1602.35 1513.66 1605.4 1518.27 Q1608.48 1522.85 1608.48 1531.6 Q1608.48 1540.33 1605.4 1544.94 Q1602.35 1549.52 1596.54 1549.52 Q1590.72 1549.52 1587.65 1544.94 Q1584.59 1540.33 1584.59 1531.6 Q1584.59 1522.85 1587.65 1518.27 Q1590.72 1513.66 1596.54 1513.66 Z\" fill=\"#000000\" fill-rule=\"nonzero\" fill-opacity=\"1\" /><path clip-path=\"url(#clip860)\" d=\"M2042.33 1518.36 L2030.53 1536.81 L2042.33 1536.81 L2042.33 1518.36 M2041.1 1514.29 L2046.98 1514.29 L2046.98 1536.81 L2051.91 1536.81 L2051.91 1540.7 L2046.98 1540.7 L2046.98 1548.85 L2042.33 1548.85 L2042.33 1540.7 L2026.73 1540.7 L2026.73 1536.19 L2041.1 1514.29 Z\" fill=\"#000000\" fill-rule=\"nonzero\" fill-opacity=\"1\" /><path clip-path=\"url(#clip860)\" d=\"M2069.65 1517.37 Q2066.03 1517.37 2064.21 1520.93 Q2062.4 1524.47 2062.4 1531.6 Q2062.4 1538.71 2064.21 1542.27 Q2066.03 1545.82 2069.65 1545.82 Q2073.28 1545.82 2075.09 1542.27 Q2076.91 1538.71 2076.91 1531.6 Q2076.91 1524.47 2075.09 1520.93 Q2073.28 1517.37 2069.65 1517.37 M2069.65 1513.66 Q2075.46 1513.66 2078.51 1518.27 Q2081.59 1522.85 2081.59 1531.6 Q2081.59 1540.33 2078.51 1544.94 Q2075.46 1549.52 2069.65 1549.52 Q2063.84 1549.52 2060.76 1544.94 Q2057.7 1540.33 2057.7 1531.6 Q2057.7 1522.85 2060.76 1518.27 Q2063.84 1513.66 2069.65 1513.66 Z\" fill=\"#000000\" fill-rule=\"nonzero\" fill-opacity=\"1\" /><polyline clip-path=\"url(#clip862)\" style=\"stroke:#000000; stroke-linecap:round; stroke-linejoin:round; stroke-width:2; stroke-opacity:0.1; fill:none\" points=\"149.191,1235.67 2352.76,1235.67 \"/>\n",
       "<polyline clip-path=\"url(#clip862)\" style=\"stroke:#000000; stroke-linecap:round; stroke-linejoin:round; stroke-width:2; stroke-opacity:0.1; fill:none\" points=\"149.191,948.749 2352.76,948.749 \"/>\n",
       "<polyline clip-path=\"url(#clip862)\" style=\"stroke:#000000; stroke-linecap:round; stroke-linejoin:round; stroke-width:2; stroke-opacity:0.1; fill:none\" points=\"149.191,661.824 2352.76,661.824 \"/>\n",
       "<polyline clip-path=\"url(#clip862)\" style=\"stroke:#000000; stroke-linecap:round; stroke-linejoin:round; stroke-width:2; stroke-opacity:0.1; fill:none\" points=\"149.191,374.9 2352.76,374.9 \"/>\n",
       "<polyline clip-path=\"url(#clip862)\" style=\"stroke:#000000; stroke-linecap:round; stroke-linejoin:round; stroke-width:2; stroke-opacity:0.1; fill:none\" points=\"149.191,87.9763 2352.76,87.9763 \"/>\n",
       "<polyline clip-path=\"url(#clip860)\" style=\"stroke:#000000; stroke-linecap:round; stroke-linejoin:round; stroke-width:4; stroke-opacity:1; fill:none\" points=\"149.191,1486.45 149.191,47.2441 \"/>\n",
       "<polyline clip-path=\"url(#clip860)\" style=\"stroke:#000000; stroke-linecap:round; stroke-linejoin:round; stroke-width:4; stroke-opacity:1; fill:none\" points=\"149.191,1235.67 168.089,1235.67 \"/>\n",
       "<polyline clip-path=\"url(#clip860)\" style=\"stroke:#000000; stroke-linecap:round; stroke-linejoin:round; stroke-width:4; stroke-opacity:1; fill:none\" points=\"149.191,948.749 168.089,948.749 \"/>\n",
       "<polyline clip-path=\"url(#clip860)\" style=\"stroke:#000000; stroke-linecap:round; stroke-linejoin:round; stroke-width:4; stroke-opacity:1; fill:none\" points=\"149.191,661.824 168.089,661.824 \"/>\n",
       "<polyline clip-path=\"url(#clip860)\" style=\"stroke:#000000; stroke-linecap:round; stroke-linejoin:round; stroke-width:4; stroke-opacity:1; fill:none\" points=\"149.191,374.9 168.089,374.9 \"/>\n",
       "<polyline clip-path=\"url(#clip860)\" style=\"stroke:#000000; stroke-linecap:round; stroke-linejoin:round; stroke-width:4; stroke-opacity:1; fill:none\" points=\"149.191,87.9763 168.089,87.9763 \"/>\n",
       "<path clip-path=\"url(#clip860)\" d=\"M50.9921 1236.12 L80.6679 1236.12 L80.6679 1240.06 L50.9921 1240.06 L50.9921 1236.12 Z\" fill=\"#000000\" fill-rule=\"nonzero\" fill-opacity=\"1\" /><path clip-path=\"url(#clip860)\" d=\"M103.608 1222.47 L91.8021 1240.92 L103.608 1240.92 L103.608 1222.47 M102.381 1218.39 L108.26 1218.39 L108.26 1240.92 L113.191 1240.92 L113.191 1244.8 L108.26 1244.8 L108.26 1252.95 L103.608 1252.95 L103.608 1244.8 L88.0058 1244.8 L88.0058 1240.29 L102.381 1218.39 Z\" fill=\"#000000\" fill-rule=\"nonzero\" fill-opacity=\"1\" /><path clip-path=\"url(#clip860)\" d=\"M53.0754 949.2 L82.7512 949.2 L82.7512 953.135 L53.0754 953.135 L53.0754 949.2 Z\" fill=\"#000000\" fill-rule=\"nonzero\" fill-opacity=\"1\" /><path clip-path=\"url(#clip860)\" d=\"M96.8715 962.093 L113.191 962.093 L113.191 966.029 L91.2465 966.029 L91.2465 962.093 Q93.9086 959.339 98.4919 954.709 Q103.098 950.056 104.279 948.714 Q106.524 946.191 107.404 944.455 Q108.307 942.695 108.307 941.006 Q108.307 938.251 106.362 936.515 Q104.441 934.779 101.339 934.779 Q99.14 934.779 96.6863 935.543 Q94.2558 936.307 91.478 937.857 L91.478 933.135 Q94.3021 932.001 96.7558 931.422 Q99.2095 930.844 101.246 930.844 Q106.617 930.844 109.811 933.529 Q113.006 936.214 113.006 940.705 Q113.006 942.834 112.196 944.756 Q111.408 946.654 109.302 949.246 Q108.723 949.918 105.621 953.135 Q102.52 956.33 96.8715 962.093 Z\" fill=\"#000000\" fill-rule=\"nonzero\" fill-opacity=\"1\" /><path clip-path=\"url(#clip860)\" d=\"M101.246 647.623 Q97.6354 647.623 95.8067 651.188 Q94.0012 654.73 94.0012 661.859 Q94.0012 668.966 95.8067 672.53 Q97.6354 676.072 101.246 676.072 Q104.881 676.072 106.686 672.53 Q108.515 668.966 108.515 661.859 Q108.515 654.73 106.686 651.188 Q104.881 647.623 101.246 647.623 M101.246 643.919 Q107.057 643.919 110.112 648.526 Q113.191 653.109 113.191 661.859 Q113.191 670.586 110.112 675.192 Q107.057 679.776 101.246 679.776 Q95.4363 679.776 92.3576 675.192 Q89.3021 670.586 89.3021 661.859 Q89.3021 653.109 92.3576 648.526 Q95.4363 643.919 101.246 643.919 Z\" fill=\"#000000\" fill-rule=\"nonzero\" fill-opacity=\"1\" /><path clip-path=\"url(#clip860)\" d=\"M96.8715 388.245 L113.191 388.245 L113.191 392.18 L91.2465 392.18 L91.2465 388.245 Q93.9086 385.491 98.4919 380.861 Q103.098 376.208 104.279 374.866 Q106.524 372.343 107.404 370.606 Q108.307 368.847 108.307 367.157 Q108.307 364.403 106.362 362.667 Q104.441 360.931 101.339 360.931 Q99.14 360.931 96.6863 361.694 Q94.2558 362.458 91.478 364.009 L91.478 359.287 Q94.3021 358.153 96.7558 357.574 Q99.2095 356.995 101.246 356.995 Q106.617 356.995 109.811 359.681 Q113.006 362.366 113.006 366.856 Q113.006 368.986 112.196 370.907 Q111.408 372.805 109.302 375.398 Q108.723 376.069 105.621 379.287 Q102.52 382.481 96.8715 388.245 Z\" fill=\"#000000\" fill-rule=\"nonzero\" fill-opacity=\"1\" /><path clip-path=\"url(#clip860)\" d=\"M103.608 74.7703 L91.8021 93.2193 L103.608 93.2193 L103.608 74.7703 M102.381 70.6963 L108.26 70.6963 L108.26 93.2193 L113.191 93.2193 L113.191 97.1082 L108.26 97.1082 L108.26 105.256 L103.608 105.256 L103.608 97.1082 L88.0058 97.1082 L88.0058 92.5943 L102.381 70.6963 Z\" fill=\"#000000\" fill-rule=\"nonzero\" fill-opacity=\"1\" /><circle clip-path=\"url(#clip862)\" cx=\"211.556\" cy=\"1445.72\" r=\"14.4\" fill=\"#009af9\" fill-rule=\"evenodd\" fill-opacity=\"1\" stroke=\"#000000\" stroke-opacity=\"1\" stroke-width=\"3.2\"/>\n",
       "<circle clip-path=\"url(#clip862)\" cx=\"258.802\" cy=\"1445.72\" r=\"14.4\" fill=\"#009af9\" fill-rule=\"evenodd\" fill-opacity=\"1\" stroke=\"#000000\" stroke-opacity=\"1\" stroke-width=\"3.2\"/>\n",
       "<circle clip-path=\"url(#clip862)\" cx=\"306.048\" cy=\"1445.72\" r=\"14.4\" fill=\"#009af9\" fill-rule=\"evenodd\" fill-opacity=\"1\" stroke=\"#000000\" stroke-opacity=\"1\" stroke-width=\"3.2\"/>\n",
       "<circle clip-path=\"url(#clip862)\" cx=\"353.295\" cy=\"1445.72\" r=\"14.4\" fill=\"#009af9\" fill-rule=\"evenodd\" fill-opacity=\"1\" stroke=\"#000000\" stroke-opacity=\"1\" stroke-width=\"3.2\"/>\n",
       "<circle clip-path=\"url(#clip862)\" cx=\"400.541\" cy=\"1445.72\" r=\"14.4\" fill=\"#009af9\" fill-rule=\"evenodd\" fill-opacity=\"1\" stroke=\"#000000\" stroke-opacity=\"1\" stroke-width=\"3.2\"/>\n",
       "<circle clip-path=\"url(#clip862)\" cx=\"447.787\" cy=\"1445.72\" r=\"14.4\" fill=\"#009af9\" fill-rule=\"evenodd\" fill-opacity=\"1\" stroke=\"#000000\" stroke-opacity=\"1\" stroke-width=\"3.2\"/>\n",
       "<circle clip-path=\"url(#clip862)\" cx=\"495.033\" cy=\"948.749\" r=\"14.4\" fill=\"#009af9\" fill-rule=\"evenodd\" fill-opacity=\"1\" stroke=\"#000000\" stroke-opacity=\"1\" stroke-width=\"3.2\"/>\n",
       "<circle clip-path=\"url(#clip862)\" cx=\"542.28\" cy=\"948.749\" r=\"14.4\" fill=\"#009af9\" fill-rule=\"evenodd\" fill-opacity=\"1\" stroke=\"#000000\" stroke-opacity=\"1\" stroke-width=\"3.2\"/>\n",
       "<circle clip-path=\"url(#clip862)\" cx=\"589.526\" cy=\"948.749\" r=\"14.4\" fill=\"#009af9\" fill-rule=\"evenodd\" fill-opacity=\"1\" stroke=\"#000000\" stroke-opacity=\"1\" stroke-width=\"3.2\"/>\n",
       "<circle clip-path=\"url(#clip862)\" cx=\"636.772\" cy=\"948.749\" r=\"14.4\" fill=\"#009af9\" fill-rule=\"evenodd\" fill-opacity=\"1\" stroke=\"#000000\" stroke-opacity=\"1\" stroke-width=\"3.2\"/>\n",
       "<circle clip-path=\"url(#clip862)\" cx=\"684.018\" cy=\"948.749\" r=\"14.4\" fill=\"#009af9\" fill-rule=\"evenodd\" fill-opacity=\"1\" stroke=\"#000000\" stroke-opacity=\"1\" stroke-width=\"3.2\"/>\n",
       "<circle clip-path=\"url(#clip862)\" cx=\"731.265\" cy=\"948.749\" r=\"14.4\" fill=\"#009af9\" fill-rule=\"evenodd\" fill-opacity=\"1\" stroke=\"#000000\" stroke-opacity=\"1\" stroke-width=\"3.2\"/>\n",
       "<circle clip-path=\"url(#clip862)\" cx=\"778.511\" cy=\"948.749\" r=\"14.4\" fill=\"#009af9\" fill-rule=\"evenodd\" fill-opacity=\"1\" stroke=\"#000000\" stroke-opacity=\"1\" stroke-width=\"3.2\"/>\n",
       "<circle clip-path=\"url(#clip862)\" cx=\"825.757\" cy=\"948.749\" r=\"14.4\" fill=\"#009af9\" fill-rule=\"evenodd\" fill-opacity=\"1\" stroke=\"#000000\" stroke-opacity=\"1\" stroke-width=\"3.2\"/>\n",
       "<circle clip-path=\"url(#clip862)\" cx=\"873.003\" cy=\"948.749\" r=\"14.4\" fill=\"#009af9\" fill-rule=\"evenodd\" fill-opacity=\"1\" stroke=\"#000000\" stroke-opacity=\"1\" stroke-width=\"3.2\"/>\n",
       "<circle clip-path=\"url(#clip862)\" cx=\"920.25\" cy=\"766.846\" r=\"14.4\" fill=\"#009af9\" fill-rule=\"evenodd\" fill-opacity=\"1\" stroke=\"#000000\" stroke-opacity=\"1\" stroke-width=\"3.2\"/>\n",
       "<circle clip-path=\"url(#clip862)\" cx=\"967.496\" cy=\"766.846\" r=\"14.4\" fill=\"#009af9\" fill-rule=\"evenodd\" fill-opacity=\"1\" stroke=\"#000000\" stroke-opacity=\"1\" stroke-width=\"3.2\"/>\n",
       "<circle clip-path=\"url(#clip862)\" cx=\"1014.74\" cy=\"766.846\" r=\"14.4\" fill=\"#009af9\" fill-rule=\"evenodd\" fill-opacity=\"1\" stroke=\"#000000\" stroke-opacity=\"1\" stroke-width=\"3.2\"/>\n",
       "<circle clip-path=\"url(#clip862)\" cx=\"1061.99\" cy=\"766.846\" r=\"14.4\" fill=\"#009af9\" fill-rule=\"evenodd\" fill-opacity=\"1\" stroke=\"#000000\" stroke-opacity=\"1\" stroke-width=\"3.2\"/>\n",
       "<circle clip-path=\"url(#clip862)\" cx=\"1109.23\" cy=\"766.846\" r=\"14.4\" fill=\"#009af9\" fill-rule=\"evenodd\" fill-opacity=\"1\" stroke=\"#000000\" stroke-opacity=\"1\" stroke-width=\"3.2\"/>\n",
       "<circle clip-path=\"url(#clip862)\" cx=\"1156.48\" cy=\"766.846\" r=\"14.4\" fill=\"#009af9\" fill-rule=\"evenodd\" fill-opacity=\"1\" stroke=\"#000000\" stroke-opacity=\"1\" stroke-width=\"3.2\"/>\n",
       "<circle clip-path=\"url(#clip862)\" cx=\"1203.73\" cy=\"766.846\" r=\"14.4\" fill=\"#009af9\" fill-rule=\"evenodd\" fill-opacity=\"1\" stroke=\"#000000\" stroke-opacity=\"1\" stroke-width=\"3.2\"/>\n",
       "<circle clip-path=\"url(#clip862)\" cx=\"1250.97\" cy=\"766.846\" r=\"14.4\" fill=\"#009af9\" fill-rule=\"evenodd\" fill-opacity=\"1\" stroke=\"#000000\" stroke-opacity=\"1\" stroke-width=\"3.2\"/>\n",
       "<circle clip-path=\"url(#clip862)\" cx=\"1298.22\" cy=\"766.846\" r=\"14.4\" fill=\"#009af9\" fill-rule=\"evenodd\" fill-opacity=\"1\" stroke=\"#000000\" stroke-opacity=\"1\" stroke-width=\"3.2\"/>\n",
       "<circle clip-path=\"url(#clip862)\" cx=\"1345.47\" cy=\"451.781\" r=\"14.4\" fill=\"#009af9\" fill-rule=\"evenodd\" fill-opacity=\"1\" stroke=\"#000000\" stroke-opacity=\"1\" stroke-width=\"3.2\"/>\n",
       "<circle clip-path=\"url(#clip862)\" cx=\"1392.71\" cy=\"451.781\" r=\"14.4\" fill=\"#009af9\" fill-rule=\"evenodd\" fill-opacity=\"1\" stroke=\"#000000\" stroke-opacity=\"1\" stroke-width=\"3.2\"/>\n",
       "<circle clip-path=\"url(#clip862)\" cx=\"1439.96\" cy=\"451.781\" r=\"14.4\" fill=\"#009af9\" fill-rule=\"evenodd\" fill-opacity=\"1\" stroke=\"#000000\" stroke-opacity=\"1\" stroke-width=\"3.2\"/>\n",
       "<circle clip-path=\"url(#clip862)\" cx=\"1487.2\" cy=\"451.781\" r=\"14.4\" fill=\"#009af9\" fill-rule=\"evenodd\" fill-opacity=\"1\" stroke=\"#000000\" stroke-opacity=\"1\" stroke-width=\"3.2\"/>\n",
       "<circle clip-path=\"url(#clip862)\" cx=\"1534.45\" cy=\"451.781\" r=\"14.4\" fill=\"#009af9\" fill-rule=\"evenodd\" fill-opacity=\"1\" stroke=\"#000000\" stroke-opacity=\"1\" stroke-width=\"3.2\"/>\n",
       "<circle clip-path=\"url(#clip862)\" cx=\"1581.7\" cy=\"451.781\" r=\"14.4\" fill=\"#009af9\" fill-rule=\"evenodd\" fill-opacity=\"1\" stroke=\"#000000\" stroke-opacity=\"1\" stroke-width=\"3.2\"/>\n",
       "<circle clip-path=\"url(#clip862)\" cx=\"1628.94\" cy=\"269.879\" r=\"14.4\" fill=\"#009af9\" fill-rule=\"evenodd\" fill-opacity=\"1\" stroke=\"#000000\" stroke-opacity=\"1\" stroke-width=\"3.2\"/>\n",
       "<circle clip-path=\"url(#clip862)\" cx=\"1676.19\" cy=\"269.879\" r=\"14.4\" fill=\"#009af9\" fill-rule=\"evenodd\" fill-opacity=\"1\" stroke=\"#000000\" stroke-opacity=\"1\" stroke-width=\"3.2\"/>\n",
       "<circle clip-path=\"url(#clip862)\" cx=\"1723.44\" cy=\"269.879\" r=\"14.4\" fill=\"#009af9\" fill-rule=\"evenodd\" fill-opacity=\"1\" stroke=\"#000000\" stroke-opacity=\"1\" stroke-width=\"3.2\"/>\n",
       "<circle clip-path=\"url(#clip862)\" cx=\"1770.68\" cy=\"269.879\" r=\"14.4\" fill=\"#009af9\" fill-rule=\"evenodd\" fill-opacity=\"1\" stroke=\"#000000\" stroke-opacity=\"1\" stroke-width=\"3.2\"/>\n",
       "<circle clip-path=\"url(#clip862)\" cx=\"1817.93\" cy=\"269.879\" r=\"14.4\" fill=\"#009af9\" fill-rule=\"evenodd\" fill-opacity=\"1\" stroke=\"#000000\" stroke-opacity=\"1\" stroke-width=\"3.2\"/>\n",
       "<circle clip-path=\"url(#clip862)\" cx=\"1865.17\" cy=\"269.879\" r=\"14.4\" fill=\"#009af9\" fill-rule=\"evenodd\" fill-opacity=\"1\" stroke=\"#000000\" stroke-opacity=\"1\" stroke-width=\"3.2\"/>\n",
       "<circle clip-path=\"url(#clip862)\" cx=\"1912.42\" cy=\"269.879\" r=\"14.4\" fill=\"#009af9\" fill-rule=\"evenodd\" fill-opacity=\"1\" stroke=\"#000000\" stroke-opacity=\"1\" stroke-width=\"3.2\"/>\n",
       "<circle clip-path=\"url(#clip862)\" cx=\"1959.67\" cy=\"269.879\" r=\"14.4\" fill=\"#009af9\" fill-rule=\"evenodd\" fill-opacity=\"1\" stroke=\"#000000\" stroke-opacity=\"1\" stroke-width=\"3.2\"/>\n",
       "<circle clip-path=\"url(#clip862)\" cx=\"2006.91\" cy=\"269.879\" r=\"14.4\" fill=\"#009af9\" fill-rule=\"evenodd\" fill-opacity=\"1\" stroke=\"#000000\" stroke-opacity=\"1\" stroke-width=\"3.2\"/>\n",
       "<circle clip-path=\"url(#clip862)\" cx=\"2054.16\" cy=\"87.9763\" r=\"14.4\" fill=\"#009af9\" fill-rule=\"evenodd\" fill-opacity=\"1\" stroke=\"#000000\" stroke-opacity=\"1\" stroke-width=\"3.2\"/>\n",
       "<circle clip-path=\"url(#clip862)\" cx=\"2101.41\" cy=\"87.9763\" r=\"14.4\" fill=\"#009af9\" fill-rule=\"evenodd\" fill-opacity=\"1\" stroke=\"#000000\" stroke-opacity=\"1\" stroke-width=\"3.2\"/>\n",
       "<circle clip-path=\"url(#clip862)\" cx=\"2148.65\" cy=\"87.9763\" r=\"14.4\" fill=\"#009af9\" fill-rule=\"evenodd\" fill-opacity=\"1\" stroke=\"#000000\" stroke-opacity=\"1\" stroke-width=\"3.2\"/>\n",
       "<circle clip-path=\"url(#clip862)\" cx=\"2195.9\" cy=\"87.9763\" r=\"14.4\" fill=\"#009af9\" fill-rule=\"evenodd\" fill-opacity=\"1\" stroke=\"#000000\" stroke-opacity=\"1\" stroke-width=\"3.2\"/>\n",
       "<circle clip-path=\"url(#clip862)\" cx=\"2243.14\" cy=\"87.9763\" r=\"14.4\" fill=\"#009af9\" fill-rule=\"evenodd\" fill-opacity=\"1\" stroke=\"#000000\" stroke-opacity=\"1\" stroke-width=\"3.2\"/>\n",
       "<circle clip-path=\"url(#clip862)\" cx=\"2290.39\" cy=\"87.9763\" r=\"14.4\" fill=\"#009af9\" fill-rule=\"evenodd\" fill-opacity=\"1\" stroke=\"#000000\" stroke-opacity=\"1\" stroke-width=\"3.2\"/>\n",
       "<path clip-path=\"url(#clip860)\" d=\"M222.643 198.898 L495.43 198.898 L495.43 95.2176 L222.643 95.2176  Z\" fill=\"#ffffff\" fill-rule=\"evenodd\" fill-opacity=\"1\"/>\n",
       "<polyline clip-path=\"url(#clip860)\" style=\"stroke:#000000; stroke-linecap:round; stroke-linejoin:round; stroke-width:4; stroke-opacity:1; fill:none\" points=\"222.643,198.898 495.43,198.898 495.43,95.2176 222.643,95.2176 222.643,198.898 \"/>\n",
       "<circle clip-path=\"url(#clip860)\" cx=\"320.579\" cy=\"147.058\" r=\"20.48\" fill=\"#009af9\" fill-rule=\"evenodd\" fill-opacity=\"1\" stroke=\"#000000\" stroke-opacity=\"1\" stroke-width=\"4.55111\"/>\n",
       "<path clip-path=\"url(#clip860)\" d=\"M432.358 166.745 Q430.552 171.375 428.84 172.787 Q427.127 174.199 424.256 174.199 L420.853 174.199 L420.853 170.634 L423.353 170.634 Q425.113 170.634 426.085 169.8 Q427.057 168.967 428.238 165.865 L429.002 163.921 L418.515 138.412 L423.029 138.412 L431.131 158.689 L439.233 138.412 L443.747 138.412 L432.358 166.745 Z\" fill=\"#000000\" fill-rule=\"nonzero\" fill-opacity=\"1\" /><path clip-path=\"url(#clip860)\" d=\"M451.038 160.402 L458.677 160.402 L458.677 134.037 L450.367 135.703 L450.367 131.444 L458.631 129.778 L463.307 129.778 L463.307 160.402 L470.946 160.402 L470.946 164.338 L451.038 164.338 L451.038 160.402 Z\" fill=\"#000000\" fill-rule=\"nonzero\" fill-opacity=\"1\" /></svg>\n"
      ]
     },
     "execution_count": 107,
     "metadata": {},
     "output_type": "execute_result"
    }
   ],
   "source": [
    "scatter(real(EEA[1,1,:]))"
   ]
  },
  {
   "cell_type": "markdown",
   "metadata": {},
   "source": [
    "### Non-Interacting Many Body Chern"
   ]
  },
  {
   "cell_type": "code",
   "execution_count": 108,
   "metadata": {},
   "outputs": [
    {
     "data": {
      "text/plain": [
       "6-element Vector{Any}:\n",
       "                   4.0 - 3.1250401373865176e-16im\n",
       "   -3.0000000000000004 + 7.585497596397408e-16im\n",
       "   -0.9999999999999999 - 8.362761203693972e-17im\n",
       " 2.208718528794109e-16 + 3.1166556617457667e-16im\n",
       "   -3.0000000000000004 - 5.304278528981119e-16im\n",
       "    3.9999999999999996 - 2.9458891225375714e-16im"
      ]
     },
     "execution_count": 108,
     "metadata": {},
     "output_type": "execute_result"
    }
   ],
   "source": [
    "bands = [[1,6], [7,15], [16,24], [25,30], [31,39], [40,45]]\n",
    "#bands = [[1,5], [6,10], [11,15], [16,20], [21,25]]\n",
    "Chern, F12list = calc_chern_bands(UUA, bands);\n",
    "Chern"
   ]
  },
  {
   "cell_type": "code",
   "execution_count": 109,
   "metadata": {},
   "outputs": [
    {
     "data": {
      "image/svg+xml": [
       "<?xml version=\"1.0\" encoding=\"utf-8\"?>\n",
       "<svg xmlns=\"http://www.w3.org/2000/svg\" xmlns:xlink=\"http://www.w3.org/1999/xlink\" width=\"600\" height=\"400\" viewBox=\"0 0 2400 1600\">\n",
       "<defs>\n",
       "  <clipPath id=\"clip900\">\n",
       "    <rect x=\"0\" y=\"0\" width=\"2400\" height=\"1600\"/>\n",
       "  </clipPath>\n",
       "</defs>\n",
       "<path clip-path=\"url(#clip900)\" d=\"M0 1600 L2400 1600 L2400 0 L0 0  Z\" fill=\"#ffffff\" fill-rule=\"evenodd\" fill-opacity=\"1\"/>\n",
       "<defs>\n",
       "  <clipPath id=\"clip901\">\n",
       "    <rect x=\"480\" y=\"0\" width=\"1681\" height=\"1600\"/>\n",
       "  </clipPath>\n",
       "</defs>\n",
       "<path clip-path=\"url(#clip900)\" d=\"M112.177 1409.37 L2112.76 1409.37 L2112.76 124.324 L112.177 124.324  Z\" fill=\"#ffffff\" fill-rule=\"evenodd\" fill-opacity=\"1\"/>\n",
       "<defs>\n",
       "  <clipPath id=\"clip902\">\n",
       "    <rect x=\"112\" y=\"124\" width=\"2002\" height=\"1286\"/>\n",
       "  </clipPath>\n",
       "</defs>\n",
       "<polyline clip-path=\"url(#clip902)\" style=\"stroke:#000000; stroke-linecap:round; stroke-linejoin:round; stroke-width:2; stroke-opacity:0.1; fill:none\" points=\"502.071,1409.37 502.071,124.324 \"/>\n",
       "<polyline clip-path=\"url(#clip902)\" style=\"stroke:#000000; stroke-linecap:round; stroke-linejoin:round; stroke-width:2; stroke-opacity:0.1; fill:none\" points=\"911.113,1409.37 911.113,124.324 \"/>\n",
       "<polyline clip-path=\"url(#clip902)\" style=\"stroke:#000000; stroke-linecap:round; stroke-linejoin:round; stroke-width:2; stroke-opacity:0.1; fill:none\" points=\"1320.15,1409.37 1320.15,124.324 \"/>\n",
       "<polyline clip-path=\"url(#clip902)\" style=\"stroke:#000000; stroke-linecap:round; stroke-linejoin:round; stroke-width:2; stroke-opacity:0.1; fill:none\" points=\"1729.2,1409.37 1729.2,124.324 \"/>\n",
       "<polyline clip-path=\"url(#clip900)\" style=\"stroke:#000000; stroke-linecap:round; stroke-linejoin:round; stroke-width:4; stroke-opacity:1; fill:none\" points=\"112.177,1409.37 2112.76,1409.37 \"/>\n",
       "<polyline clip-path=\"url(#clip900)\" style=\"stroke:#000000; stroke-linecap:round; stroke-linejoin:round; stroke-width:4; stroke-opacity:1; fill:none\" points=\"502.071,1409.37 502.071,1392.49 \"/>\n",
       "<polyline clip-path=\"url(#clip900)\" style=\"stroke:#000000; stroke-linecap:round; stroke-linejoin:round; stroke-width:4; stroke-opacity:1; fill:none\" points=\"911.113,1409.37 911.113,1392.49 \"/>\n",
       "<polyline clip-path=\"url(#clip900)\" style=\"stroke:#000000; stroke-linecap:round; stroke-linejoin:round; stroke-width:4; stroke-opacity:1; fill:none\" points=\"1320.15,1409.37 1320.15,1392.49 \"/>\n",
       "<polyline clip-path=\"url(#clip900)\" style=\"stroke:#000000; stroke-linecap:round; stroke-linejoin:round; stroke-width:4; stroke-opacity:1; fill:none\" points=\"1729.2,1409.37 1729.2,1392.49 \"/>\n",
       "<path clip-path=\"url(#clip900)\" d=\"M502.071 1440.29 Q498.46 1440.29 496.631 1443.85 Q494.826 1447.39 494.826 1454.52 Q494.826 1461.63 496.631 1465.19 Q498.46 1468.74 502.071 1468.74 Q505.705 1468.74 507.511 1465.19 Q509.339 1461.63 509.339 1454.52 Q509.339 1447.39 507.511 1443.85 Q505.705 1440.29 502.071 1440.29 M502.071 1436.58 Q507.881 1436.58 510.937 1441.19 Q514.015 1445.77 514.015 1454.52 Q514.015 1463.25 510.937 1467.86 Q507.881 1472.44 502.071 1472.44 Q496.261 1472.44 493.182 1467.86 Q490.127 1463.25 490.127 1454.52 Q490.127 1445.77 493.182 1441.19 Q496.261 1436.58 502.071 1436.58 Z\" fill=\"#000000\" fill-rule=\"nonzero\" fill-opacity=\"1\" /><path clip-path=\"url(#clip900)\" d=\"M905.766 1467.83 L922.085 1467.83 L922.085 1471.77 L900.141 1471.77 L900.141 1467.83 Q902.803 1465.08 907.386 1460.45 Q911.993 1455.8 913.173 1454.45 Q915.419 1451.93 916.298 1450.19 Q917.201 1448.43 917.201 1446.74 Q917.201 1443.99 915.256 1442.25 Q913.335 1440.52 910.233 1440.52 Q908.034 1440.52 905.581 1441.28 Q903.15 1442.05 900.372 1443.6 L900.372 1438.87 Q903.196 1437.74 905.65 1437.16 Q908.104 1436.58 910.141 1436.58 Q915.511 1436.58 918.706 1439.27 Q921.9 1441.95 921.9 1446.44 Q921.9 1448.57 921.09 1450.49 Q920.303 1452.39 918.196 1454.99 Q917.618 1455.66 914.516 1458.87 Q911.414 1462.07 905.766 1467.83 Z\" fill=\"#000000\" fill-rule=\"nonzero\" fill-opacity=\"1\" /><path clip-path=\"url(#clip900)\" d=\"M1323.16 1441.28 L1311.36 1459.73 L1323.16 1459.73 L1323.16 1441.28 M1321.94 1437.21 L1327.82 1437.21 L1327.82 1459.73 L1332.75 1459.73 L1332.75 1463.62 L1327.82 1463.62 L1327.82 1471.77 L1323.16 1471.77 L1323.16 1463.62 L1307.56 1463.62 L1307.56 1459.11 L1321.94 1437.21 Z\" fill=\"#000000\" fill-rule=\"nonzero\" fill-opacity=\"1\" /><path clip-path=\"url(#clip900)\" d=\"M1729.6 1452.62 Q1726.45 1452.62 1724.6 1454.78 Q1722.77 1456.93 1722.77 1460.68 Q1722.77 1464.41 1724.6 1466.58 Q1726.45 1468.74 1729.6 1468.74 Q1732.75 1468.74 1734.58 1466.58 Q1736.43 1464.41 1736.43 1460.68 Q1736.43 1456.93 1734.58 1454.78 Q1732.75 1452.62 1729.6 1452.62 M1738.88 1437.97 L1738.88 1442.23 Q1737.13 1441.4 1735.32 1440.96 Q1733.54 1440.52 1731.78 1440.52 Q1727.15 1440.52 1724.69 1443.64 Q1722.26 1446.77 1721.92 1453.09 Q1723.28 1451.07 1725.34 1450.01 Q1727.4 1448.92 1729.88 1448.92 Q1735.09 1448.92 1738.1 1452.09 Q1741.13 1455.24 1741.13 1460.68 Q1741.13 1466 1737.98 1469.22 Q1734.83 1472.44 1729.6 1472.44 Q1723.61 1472.44 1720.44 1467.86 Q1717.26 1463.25 1717.26 1454.52 Q1717.26 1446.33 1721.15 1441.47 Q1725.04 1436.58 1731.59 1436.58 Q1733.35 1436.58 1735.13 1436.93 Q1736.94 1437.28 1738.88 1437.97 Z\" fill=\"#000000\" fill-rule=\"nonzero\" fill-opacity=\"1\" /><polyline clip-path=\"url(#clip902)\" style=\"stroke:#000000; stroke-linecap:round; stroke-linejoin:round; stroke-width:2; stroke-opacity:0.1; fill:none\" points=\"112.177,1377.24 2112.76,1377.24 \"/>\n",
       "<polyline clip-path=\"url(#clip902)\" style=\"stroke:#000000; stroke-linecap:round; stroke-linejoin:round; stroke-width:2; stroke-opacity:0.1; fill:none\" points=\"112.177,1172.72 2112.76,1172.72 \"/>\n",
       "<polyline clip-path=\"url(#clip902)\" style=\"stroke:#000000; stroke-linecap:round; stroke-linejoin:round; stroke-width:2; stroke-opacity:0.1; fill:none\" points=\"112.177,968.2 2112.76,968.2 \"/>\n",
       "<polyline clip-path=\"url(#clip902)\" style=\"stroke:#000000; stroke-linecap:round; stroke-linejoin:round; stroke-width:2; stroke-opacity:0.1; fill:none\" points=\"112.177,763.679 2112.76,763.679 \"/>\n",
       "<polyline clip-path=\"url(#clip902)\" style=\"stroke:#000000; stroke-linecap:round; stroke-linejoin:round; stroke-width:2; stroke-opacity:0.1; fill:none\" points=\"112.177,559.158 2112.76,559.158 \"/>\n",
       "<polyline clip-path=\"url(#clip902)\" style=\"stroke:#000000; stroke-linecap:round; stroke-linejoin:round; stroke-width:2; stroke-opacity:0.1; fill:none\" points=\"112.177,354.637 2112.76,354.637 \"/>\n",
       "<polyline clip-path=\"url(#clip902)\" style=\"stroke:#000000; stroke-linecap:round; stroke-linejoin:round; stroke-width:2; stroke-opacity:0.1; fill:none\" points=\"112.177,150.116 2112.76,150.116 \"/>\n",
       "<polyline clip-path=\"url(#clip900)\" style=\"stroke:#000000; stroke-linecap:round; stroke-linejoin:round; stroke-width:4; stroke-opacity:1; fill:none\" points=\"112.177,1409.37 112.177,124.324 \"/>\n",
       "<polyline clip-path=\"url(#clip900)\" style=\"stroke:#000000; stroke-linecap:round; stroke-linejoin:round; stroke-width:4; stroke-opacity:1; fill:none\" points=\"112.177,1377.24 129.051,1377.24 \"/>\n",
       "<polyline clip-path=\"url(#clip900)\" style=\"stroke:#000000; stroke-linecap:round; stroke-linejoin:round; stroke-width:4; stroke-opacity:1; fill:none\" points=\"112.177,1172.72 129.051,1172.72 \"/>\n",
       "<polyline clip-path=\"url(#clip900)\" style=\"stroke:#000000; stroke-linecap:round; stroke-linejoin:round; stroke-width:4; stroke-opacity:1; fill:none\" points=\"112.177,968.2 129.051,968.2 \"/>\n",
       "<polyline clip-path=\"url(#clip900)\" style=\"stroke:#000000; stroke-linecap:round; stroke-linejoin:round; stroke-width:4; stroke-opacity:1; fill:none\" points=\"112.177,763.679 129.051,763.679 \"/>\n",
       "<polyline clip-path=\"url(#clip900)\" style=\"stroke:#000000; stroke-linecap:round; stroke-linejoin:round; stroke-width:4; stroke-opacity:1; fill:none\" points=\"112.177,559.158 129.051,559.158 \"/>\n",
       "<polyline clip-path=\"url(#clip900)\" style=\"stroke:#000000; stroke-linecap:round; stroke-linejoin:round; stroke-width:4; stroke-opacity:1; fill:none\" points=\"112.177,354.637 129.051,354.637 \"/>\n",
       "<polyline clip-path=\"url(#clip900)\" style=\"stroke:#000000; stroke-linecap:round; stroke-linejoin:round; stroke-width:4; stroke-opacity:1; fill:none\" points=\"112.177,150.116 129.051,150.116 \"/>\n",
       "<path clip-path=\"url(#clip900)\" d=\"M64.2328 1363.04 Q60.6217 1363.04 58.793 1366.6 Q56.9875 1370.15 56.9875 1377.28 Q56.9875 1384.38 58.793 1387.95 Q60.6217 1391.49 64.2328 1391.49 Q67.867 1391.49 69.6726 1387.95 Q71.5013 1384.38 71.5013 1377.28 Q71.5013 1370.15 69.6726 1366.6 Q67.867 1363.04 64.2328 1363.04 M64.2328 1359.34 Q70.0429 1359.34 73.0985 1363.94 Q76.1772 1368.53 76.1772 1377.28 Q76.1772 1386 73.0985 1390.61 Q70.0429 1395.19 64.2328 1395.19 Q58.4226 1395.19 55.344 1390.61 Q52.2884 1386 52.2884 1377.28 Q52.2884 1368.53 55.344 1363.94 Q58.4226 1359.34 64.2328 1359.34 Z\" fill=\"#000000\" fill-rule=\"nonzero\" fill-opacity=\"1\" /><path clip-path=\"url(#clip900)\" d=\"M56.2699 1186.07 L63.9087 1186.07 L63.9087 1159.7 L55.5986 1161.37 L55.5986 1157.11 L63.8624 1155.44 L68.5383 1155.44 L68.5383 1186.07 L76.1772 1186.07 L76.1772 1190 L56.2699 1190 L56.2699 1186.07 Z\" fill=\"#000000\" fill-rule=\"nonzero\" fill-opacity=\"1\" /><path clip-path=\"url(#clip900)\" d=\"M59.8578 981.544 L76.1772 981.544 L76.1772 985.48 L54.2328 985.48 L54.2328 981.544 Q56.8949 978.79 61.4782 974.16 Q66.0846 969.507 67.2652 968.165 Q69.5105 965.642 70.3902 963.906 Q71.2929 962.146 71.2929 960.457 Q71.2929 957.702 69.3485 955.966 Q67.4272 954.23 64.3254 954.23 Q62.1263 954.23 59.6726 954.994 Q57.2421 955.757 54.4643 957.308 L54.4643 952.586 Q57.2884 951.452 59.7421 950.873 Q62.1958 950.295 64.2328 950.295 Q69.6031 950.295 72.7976 952.98 Q75.992 955.665 75.992 960.156 Q75.992 962.285 75.1818 964.207 Q74.3948 966.105 72.2883 968.697 Q71.7096 969.369 68.6078 972.586 Q65.5059 975.781 59.8578 981.544 Z\" fill=\"#000000\" fill-rule=\"nonzero\" fill-opacity=\"1\" /><path clip-path=\"url(#clip900)\" d=\"M69.0476 762.324 Q72.404 763.042 74.279 765.311 Q76.1772 767.579 76.1772 770.912 Q76.1772 776.028 72.6587 778.829 Q69.1402 781.63 62.6587 781.63 Q60.4828 781.63 58.168 781.19 Q55.8764 780.773 53.4227 779.917 L53.4227 775.403 Q55.3671 776.537 57.6819 777.116 Q59.9967 777.695 62.5198 777.695 Q66.918 777.695 69.2096 775.959 Q71.5244 774.222 71.5244 770.912 Q71.5244 767.857 69.3717 766.144 Q67.242 764.408 63.4226 764.408 L59.3949 764.408 L59.3949 760.565 L63.6078 760.565 Q67.0569 760.565 68.8855 759.199 Q70.7142 757.811 70.7142 755.218 Q70.7142 752.556 68.8161 751.144 Q66.9411 749.709 63.4226 749.709 Q61.5013 749.709 59.3023 750.125 Q57.1032 750.542 54.4643 751.422 L54.4643 747.255 Q57.1264 746.514 59.4412 746.144 Q61.7791 745.774 63.8393 745.774 Q69.1633 745.774 72.2652 748.204 Q75.367 750.612 75.367 754.732 Q75.367 757.602 73.7235 759.593 Q72.08 761.561 69.0476 762.324 Z\" fill=\"#000000\" fill-rule=\"nonzero\" fill-opacity=\"1\" /><path clip-path=\"url(#clip900)\" d=\"M66.5939 545.952 L54.7884 564.401 L66.5939 564.401 L66.5939 545.952 M65.367 541.878 L71.2466 541.878 L71.2466 564.401 L76.1772 564.401 L76.1772 568.289 L71.2466 568.289 L71.2466 576.438 L66.5939 576.438 L66.5939 568.289 L50.9921 568.289 L50.9921 563.776 L65.367 541.878 Z\" fill=\"#000000\" fill-rule=\"nonzero\" fill-opacity=\"1\" /><path clip-path=\"url(#clip900)\" d=\"M55.2745 337.357 L73.6309 337.357 L73.6309 341.292 L59.5569 341.292 L59.5569 349.764 Q60.5754 349.417 61.5939 349.255 Q62.6124 349.07 63.6309 349.07 Q69.418 349.07 72.7976 352.241 Q76.1772 355.412 76.1772 360.829 Q76.1772 366.407 72.705 369.509 Q69.2328 372.588 62.9134 372.588 Q60.7374 372.588 58.4689 372.218 Q56.2236 371.847 53.8162 371.106 L53.8162 366.407 Q55.8995 367.542 58.1217 368.097 Q60.3439 368.653 62.8208 368.653 Q66.8254 368.653 69.1633 366.546 Q71.5013 364.44 71.5013 360.829 Q71.5013 357.218 69.1633 355.111 Q66.8254 353.005 62.8208 353.005 Q60.9458 353.005 59.0708 353.421 Q57.2189 353.838 55.2745 354.718 L55.2745 337.357 Z\" fill=\"#000000\" fill-rule=\"nonzero\" fill-opacity=\"1\" /><path clip-path=\"url(#clip900)\" d=\"M64.6495 148.252 Q61.5013 148.252 59.6495 150.405 Q57.8208 152.558 57.8208 156.308 Q57.8208 160.035 59.6495 162.21 Q61.5013 164.363 64.6495 164.363 Q67.7976 164.363 69.6263 162.21 Q71.4781 160.035 71.4781 156.308 Q71.4781 152.558 69.6263 150.405 Q67.7976 148.252 64.6495 148.252 M73.9318 133.6 L73.9318 137.859 Q72.1726 137.025 70.367 136.586 Q68.5846 136.146 66.8254 136.146 Q62.1958 136.146 59.7421 139.271 Q57.3115 142.396 56.9643 148.715 Q58.33 146.701 60.3902 145.636 Q62.4504 144.549 64.9272 144.549 Q70.1355 144.549 73.1448 147.72 Q76.1772 150.868 76.1772 156.308 Q76.1772 161.632 73.029 164.849 Q69.8809 168.067 64.6495 168.067 Q58.6541 168.067 55.4828 163.484 Q52.3116 158.877 52.3116 150.15 Q52.3116 141.956 56.2004 137.095 Q60.0893 132.211 66.6402 132.211 Q68.3994 132.211 70.1818 132.558 Q71.9874 132.905 73.9318 133.6 Z\" fill=\"#000000\" fill-rule=\"nonzero\" fill-opacity=\"1\" /><g clip-path=\"url(#clip902)\">\n",
       "<image width=\"1285\" height=\"1285\" xlink:href=\"data:image/png;base64,\n",
       "iVBORw0KGgoAAAANSUhEUgAABQUAAAUFCAYAAACuAKUAAAAgAElEQVR4nOzaS64c5R2H4a/q9LkY\n",
       "35AMBgdF7IAZM7KAbIhFZFswyyxjJgghIyADDMQ+F3dlGX+k93lW8PtOl6uqX/e21ulYpG1rn54w\n",
       "a2uff9supyeM27fr6QmjLvab6QmjTvuj6QmjLuOf/1pr7e6DaefjfnrCqPvzu+kJ4x7Ob6cnjHof\n",
       "vwbOx+30hFFH/B641lrrOE8vGHWs9vnr2jUEAAAAAIJEQQAAAACIEQUBAAAAIEYUBAAAAIAYURAA\n",
       "AAAAYkRBAAAAAIgRBQEAAAAgRhQEAAAAgBhREAAAAABiREEAAAAAiBEFAQAAACBGFAQAAACAGFEQ\n",
       "AAAAAGJEQQAAAACIEQUBAAAAIEYUBAAAAIAYURAAAAAAYkRBAAAAAIgRBQEAAAAgRhQEAAAAgBhR\n",
       "EAAAAABiREEAAAAAiBEFAQAAACBGFAQAAACAGFEQAAAAAGJEQQAAAACIEQUBAAAAIEYUBAAAAIAY\n",
       "URAAAAAAYkRBAAAAAIgRBQEAAAAgRhQEAAAAgBhREAAAAABiREEAAAAAiBEFAQAAACBGFAQAAACA\n",
       "GFEQAAAAAGJEQQAAAACIEQUBAAAAIEYUBAAAAIAYURAAAAAAYkRBAAAAAIgRBQEAAAAgRhQEAAAA\n",
       "gBhREAAAAABiREEAAAAAiBEFAQAAACBGFAQAAACAGFEQAAAAAGJEQQAAAACIEQUBAAAAIEYUBAAA\n",
       "AIAYURAAAAAAYkRBAAAAAIgRBQEAAAAgRhQEAAAAgBhREAAAAABiREEAAAAAiBEFAQAAACBGFAQA\n",
       "AACAGFEQAAAAAGJEQQAAAACIEQUBAAAAIEYUBAAAAICY0/SAv4JtbdMTZm3t82/xNl4//1prbVv7\n",
       "b7BtF9MTRu1b+1G4b5fTE8ZdbFfTE2DMvj1MTxhXfw7m34OO9vn9TmitYzumJ4zajnYPOFb783cH\n",
       "AAAAAIAYURAAAAAAYkRBAAAAAIgRBQEAAAAgRhQEAAAAgBhREAAAAABiREEAAAAAiBEFAQAAACBG\n",
       "FAQAAACAGFEQAAAAAGJEQQAAAACIEQUBAAAAIEYUBAAAAIAYURAAAAAAYkRBAAAAAIgRBQEAAAAg\n",
       "RhQEAAAAgBhREAAAAABiREEAAAAAiBEFAQAAACBGFAQAAACAGFEQAAAAAGJEQQAAAACIEQUBAAAA\n",
       "IEYUBAAAAIAYURAAAAAAYkRBAAAAAIgRBQEAAAAgRhQEAAAAgBhREAAAAABiREEAAAAAiBEFAQAA\n",
       "ACBGFAQAAACAGFEQAAAAAGJEQQAAAACIEQUBAAAAIEYUBAAAAIAYURAAAAAAYkRBAAAAAIgRBQEA\n",
       "AAAgRhQEAAAAgBhREAAAAABiREEAAAAAiBEFAQAAACBGFAQAAACAGFEQAAAAAGJEQQAAAACIEQUB\n",
       "AAAAIEYUBAAAAIAYURAAAAAAYkRBAAAAAIgRBQEAAAAgRhQEAAAAgBhREAAAAABiREEAAAAAiBEF\n",
       "AQAAACBGFAQAAACAGFEQAAAAAGJEQQAAAACIEQUBAAAAIEYUBAAAAIAYURAAAAAAYkRBAAAAAIg5\n",
       "bbrgWts2vWBY/BrYLqYXjNq20/SEcft2NT1h1Gm/np4w6nJ/ND1h1PX+eHrCuNNq/xuoe9hupycw\n",
       "7FjvpyeMOo74+bf4+dd5esK845heMCueQ7b45x+vQQAAAADQIwoCAAAAQIwoCAAAAAAxoiAAAAAA\n",
       "xIiCAAAAABAjCgIAAABAjCgIAAAAADGiIAAAAADEiIIAAAAAECMKAgAAAECMKAgAAAAAMaIgAAAA\n",
       "AMSIggAAAAAQIwoCAAAAQIwoCAAAAAAxoiAAAAAAxIiCAAAAABAjCgIAAABAjCgIAAAAADGiIAAA\n",
       "AADEiIIAAAAAECMKAgAAAECMKAgAAAAAMaIgAAAAAMSIggAAAAAQIwoCAAAAQIwoCAAAAAAxoiAA\n",
       "AAAAxIiCAAAAABAjCgIAAABAjCgIAAAAADGiIAAAAADEiIIAAAAAECMKAgAAAECMKAgAAAAAMaIg\n",
       "AAAAAMSIggAAAAAQIwoCAAAAQIwoCAAAAAAxoiAAAAAAxIiCAAAAABAjCgIAAABAjCgIAAAAADGi\n",
       "IAAAAADEiIIAAAAAECMKAgAAAECMKAgAAAAAMaIgAAAAAMSIggAAAAAQIwoCAAAAQIwoCAAAAAAx\n",
       "oiAAAAAAxIiCAAAAABAjCgIAAABAjCgIAAAAADGiIAAAAADEiIIAAAAAECMKAgAAAECMKAgAAAAA\n",
       "MaIgAAAAAMSIggAAAAAQIwoCAAAAQIwoCAAAAAAxp7Xpglu9jW4X0wtG7dvl9IRR+349PWHcab+Z\n",
       "njDqan8yPWHUo/3D6QmjPljPpieMuzrcB8vuttvpCaP2vf0exFrHcZ6eMOpY7fOv8zG9YFz8Cljr\n",
       "eD+9YNSxta+AeA0DAAAAgB5REAAAAABiREEAAAAAiBEFAQAAACBGFAQAAACAGFEQAAAAAGJEQQAA\n",
       "AACIEQUBAAAAIEYUBAAAAIAYURAAAAAAYkRBAAAAAIgRBQEAAAAgRhQEAAAAgBhREAAAAABiREEA\n",
       "AAAAiBEFAQAAACBGFAQAAACAGFEQAAAAAGJEQQAAAACIEQUBAAAAIEYUBAAAAIAYURAAAAAAYkRB\n",
       "AAAAAIgRBQEAAAAgRhQEAAAAgBhREAAAAABiREEAAAAAiBEFAQAAACBGFAQAAACAGFEQAAAAAGJE\n",
       "QQAAAACIEQUBAAAAIEYUBAAAAIAYURAAAAAAYkRBAAAAAIgRBQEAAAAgRhQEAAAAgBhREAAAAABi\n",
       "REEAAAAAiBEFAQAAACBGFAQAAACAGFEQAAAAAGJEQQAAAACIEQUBAAAAIEYUBAAAAIAYURAAAAAA\n",
       "YkRBAAAAAIgRBQEAAAAgRhQEAAAAgBhREAAAAABiREEAAAAAiBEFAQAAACBGFAQAAACAGFEQAAAA\n",
       "AGJEQQAAAACIEQUBAAAAIEYUBAAAAIAYURAAAAAAYkRBAAAAAIgRBQEAAAAgRhQEAAAAgBhREAAA\n",
       "AABiREEAAAAAiDlt2+X0hnFbvI1u22l6wqh9v56eMOpy/2B6wrjri2fTE0Y92V9MTxj1/Gif/9n5\n",
       "yfSEcY/iz8G6t+eH6Qmj3uw30xPG/bZfTE+AMffTA/4Kztv0glHHaj8H1zpPDxjVrmEAAAAAECQK\n",
       "AgAAAECMKAgAAAAAMaIgAAAAAMSIggAAAAAQIwoCAAAAQIwoCAAAAAAxoiAAAAAAxIiCAAAAABAj\n",
       "CgIAAABAjCgIAAAAADGiIAAAAADEiIIAAAAAECMKAgAAAECMKAgAAAAAMaIgAAAAAMSIggAAAAAQ\n",
       "IwoCAAAAQIwoCAAAAAAxoiAAAAAAxIiCAAAAABAjCgIAAABAjCgIAAAAADGiIAAAAADEiIIAAAAA\n",
       "ECMKAgAAAECMKAgAAAAAMaIgAAAAAMSIggAAAAAQIwoCAAAAQIwoCAAAAAAxoiAAAAAAxIiCAAAA\n",
       "ABAjCgIAAABAjCgIAAAAADGiIAAAAADEiIIAAAAAECMKAgAAAECMKAgAAAAAMaIgAAAAAMSIggAA\n",
       "AAAQIwoCAAAAQIwoCAAAAAAxoiAAAAAAxIiCAAAAABAjCgIAAABAjCgIAAAAADGiIAAAAADEiIIA\n",
       "AAAAECMKAgAAAECMKAgAAAAAMaIgAAAAAMSIggAAAAAQIwoCAAAAQIwoCAAAAAAxoiAAAAAAxIiC\n",
       "AAAAABAjCgIAAABAjCgIAAAAADGiIAAAAADEiIIAAAAAECMKAgAAAECMKAgAAAAAMaIgAAAAAMSc\n",
       "9u16esO4bWu30X27mp4w6rTfTE8YdX3xbHrCuCf7R9MTRr04fzI9YdTL7en0hFEf3ZymJ4x7ejm9\n",
       "gEm/37ffg369a59/rbVO5/hNYN+mF8Coh/hvpc7H3fSEUcdxnp4wqn31AwAAAECQKAgAAAAAMaIg\n",
       "AAAAAMSIggAAAAAQIwoCAAAAQIwoCAAAAAAxoiAAAAAAxIiCAAAAABAjCgIAAABAjCgIAAAAADGi\n",
       "IAAAAADEiIIAAAAAECMKAgAAAECMKAgAAAAAMaIgAAAAAMSIggAAAAAQIwoCAAAAQIwoCAAAAAAx\n",
       "oiAAAAAAxIiCAAAAABAjCgIAAABAjCgIAAAAADGiIAAAAADEiIIAAAAAECMKAgAAAECMKAgAAAAA\n",
       "MaIgAAAAAMSIggAAAAAQIwoCAAAAQIwoCAAAAAAxoiAAAAAAxIiCAAAAABAjCgIAAABAjCgIAAAA\n",
       "ADGiIAAAAADEiIIAAAAAECMKAgAAAECMKAgAAAAAMaIgAAAAAMSIggAAAAAQIwoCAAAAQIwoCAAA\n",
       "AAAxoiAAAAAAxIiCAAAAABAjCgIAAABAjCgIAAAAADGiIAAAAADEiIIAAAAAECMKAgAAAECMKAgA\n",
       "AAAAMaIgAAAAAMSIggAAAAAQIwoCAAAAQIwoCAAAAAAxoiAAAAAAxIiCAAAAABAjCgIAAABAjCgI\n",
       "AAAAADGiIAAAAADEiIIAAAAAECMKAgAAAECMKAgAAAAAMaIgAAAAAMScLvab6Q3jtu1iesKo0349\n",
       "PWHU1f5kesKoJ/uL6QnjXpw/mZ4w6m/7s+kJoz5/3H4GfP74YXrCuI9vbqcnMOiXd+33oO//PE1P\n",
       "GHf6s/0cXOfpAcP2Y3oBw7at/Vuph3P7Xfg43k9PGNW++gEAAAAgSBQEAAAAgBhREAAAAABiREEA\n",
       "AAAAiBEFAQAAACBGFAQAAACAGFEQAAAAAGJEQQAAAACIEQUBAAAAIEYUBAAAAIAYURAAAAAAYkRB\n",
       "AAAAAIgRBQEAAAAgRhQEAAAAgBhREAAAAABiREEAAAAAiBEFAQAAACBGFAQAAACAGFEQAAAAAGJE\n",
       "QQAAAACIEQUBAAAAIEYUBAAAAIAYURAAAAAAYkRBAAAAAIgRBQEAAAAgRhQEAAAAgBhREAAAAABi\n",
       "REEAAAAAiBEFAQAAACBGFAQAAACAGFEQAAAAAGJEQQAAAACIEQUBAAAAIEYUBAAAAIAYURAAAAAA\n",
       "YkRBAAAAAIgRBQEAAAAgRhQEAAAAgBhREAAAAABiREEAAAAAiBEFAQAAACBGFAQAAACAGFEQAAAA\n",
       "AGJEQQAAAACIEQUBAAAAIEYUBAAAAIAYURAAAAAAYkRBAAAAAIgRBQEAAAAgRhQEAAAAgBhREAAA\n",
       "AABiREEAAAAAiBEFAQAAACBGFAQAAACAGFEQAAAAAGJEQQAAAACIEQUBAAAAIEYUBAAAAIAYURAA\n",
       "AAAAYkRBAAAAAIgRBQEAAAAgRhQEAAAAgBhREAAAAABiTqf90fSGcft2mp4w6jJ+DTzaP5yeMOr5\n",
       "8WJ6wriX29PpCaM+f3wxPWHUFx++m54w6ouXr6cnjPvs1U/TExj04+tPpyeMev7zq+kJfwE30wNG\n",
       "PfzRfg96OO6nJ4x6v7+fnsCwbbW/C5yPh+kJo/xSEAAAAABiREEAAAAAiBEFAQAAACBGFAQAAACA\n",
       "GFEQAAAAAGJEQQAAAACIEQUBAAAAIEYUBAAAAIAYURAAAAAAYkRBAAAAAIgRBQEAAAAgRhQEAAAA\n",
       "gBhREAAAAABiREEAAAAAiBEFAQAAACBGFAQAAACAGFEQAAAAAGJEQQAAAACIEQUBAAAAIEYUBAAA\n",
       "AIAYURAAAAAAYkRBAAAAAIgRBQEAAAAgRhQEAAAAgBhREAAAAABiREEAAAAAiBEFAQAAACBGFAQA\n",
       "AACAGFEQAAAAAGJEQQAAAACIEQUBAAAAIEYUBAAAAIAYURAAAAAAYkRBAAAAAIgRBQEAAAAgRhQE\n",
       "AAAAgBhREAAAAABiREEAAAAAiBEFAQAAACBGFAQAAACAGFEQAAAAAGJEQQAAAACIEQUBAAAAIEYU\n",
       "BAAAAIAYURAAAAAAYkRBAAAAAIgRBQEAAAAgRhQEAAAAgBhREAAAAABiREEAAAAAiBEFAQAAACBG\n",
       "FAQAAACAGFEQAAAAAGJEQQAAAACIEQUBAAAAIEYUBAAAAIAYURAAAAAAYkRBAAAAAIgRBQEAAAAg\n",
       "RhQEAAAAgBhREAAAAABiREEAAAAAiBEFAQAAACDmdLnfTG8Yt2+X0xNGXe+PpyeM+mA9m54w6tn5\n",
       "yfSEcR/dnKYnjPr88cP0hFFfvHw9PWHUF//49/SEcddf+T/Sshff/jA9YdY3X04vGPfb/d+nJ4z6\n",
       "7a79HvTHu/a78LuLd9MTxp33++kJDDof7c/fWzAAAAAAxIiCAAAAABAjCgIAAABAjCgIAAAAADGi\n",
       "IAAAAADEiIIAAAAAECMKAgAAAECMKAgAAAAAMaIgAAAAAMSIggAAAAAQIwoCAAAAQIwoCAAAAAAx\n",
       "oiAAAAAAxIiCAAAAABAjCgIAAABAjCgIAAAAADGiIAAAAADEiIIAAAAAECMKAgAAAECMKAgAAAAA\n",
       "MaIgAAAAAMSIggAAAAAQIwoCAAAAQIwoCAAAAAAxoiAAAAAAxIiCAAAAABAjCgIAAABAjCgIAAAA\n",
       "ADGiIAAAAADEiIIAAAAAECMKAgAAAECMKAgAAAAAMaIgAAAAAMSIggAAAAAQIwoCAAAAQIwoCAAA\n",
       "AAAxoiAAAAAAxIiCAAAAABAjCgIAAABAjCgIAAAAADGiIAAAAADEiIIAAAAAECMKAgAAAECMKAgA\n",
       "AAAAMaIgAAAAAMSIggAAAAAQIwoCAAAAQIwoCAAAAAAxoiAAAAAAxIiCAAAAABAjCgIAAABAjCgI\n",
       "AAAAADGiIAAAAADEiIIAAAAAECMKAgAAAECMKAgAAAAAMaIgAAAAAMSIggAAAAAQIwoCAAAAQIwo\n",
       "CAAAAAAxoiAAAAAAxIiCAAAAABAjCgIAAABAjCgIAAAAADGnfbuc3jDuYruanjDqtK6nJ4y6Otrn\n",
       "f7SdpieMexq/DX58czs9YdRnr36anjDq+iv/P7j981/TExh0vb6enjDqs+/a98C11vr4vy+nJ4x6\n",
       "etl+F3x02z5//bvQWmudtvbf4GG7n57AIN8EAAAAACBGFAQAAACAGFEQAAAAAGJEQQAAAACIEQUB\n",
       "AAAAIEYUBAAAAIAYURAAAAAAYkRBAAAAAIgRBQEAAAAgRhQEAAAAgBhREAAAAABiREEAAAAAiBEF\n",
       "AQAAACBGFAQAAACAGFEQAAAAAGJEQQAAAACIEQUBAAAAIEYUBAAAAIAYURAAAAAAYkRBAAAAAIgR\n",
       "BQEAAAAgRhQEAAAAgBhREAAAAABiREEAAAAAiBEFAQAAACBGFAQAAACAGFEQAAAAAGJEQQAAAACI\n",
       "EQUBAAAAIEYUBAAAAIAYURAAAAAAYkRBAAAAAIgRBQEAAAAgRhQEAAAAgBhREAAAAABiREEAAAAA\n",
       "iBEFAQAAACBGFAQAAACAGFEQAAAAAGJEQQAAAACIEQUBAAAAIEYUBAAAAIAYURAAAAAAYkRBAAAA\n",
       "AIgRBQEAAAAgRhQEAAAAgBhREAAAAABiREEAAAAAiBEFAQAAACBGFAQAAACAGFEQAAAAAGJEQQAA\n",
       "AACIEQUBAAAAIEYUBAAAAIAYURAAAAAAYkRBAAAAAIgRBQEAAAAgRhQEAAAAgBhREAAAAABiREEA\n",
       "AAAAiBEFAQAAACBGFAQAAACAGFEQAAAAAGJEQQAAAACIEQUBAAAAIEYUBAAAAIAYURAAAAAAYkRB\n",
       "AAAAAIgRBQEAAAAgRhQEAAAAgBhREAAAAABiREEAAAAAiBEFAQAAACBGFAQAAACAGFEQAAAAAGJE\n",
       "QQAAAACIEQUBAAAAIEYUBAAAAIAYURAAAAAAYkRBAAAAAIgRBQEAAAAgRhQEAAAAgBhREAAAAABi\n",
       "REEAAAAAiBEFAQAAACBGFAQAAACAGFEQAAAAAGJEQQAAAACIEQUBAAAAIEYUBAAAAIAYURAAAAAA\n",
       "YkRBAAAAAIgRBQEAAAAgRhQEAAAAgBhREAAAAABiREEAAAAAiBEFAQAAACBGFAQAAACAGFEQAAAA\n",
       "AGJEQQAAAACIEQUBAAAAIEYUBAAAAIAYURAAAAAAYkRBAAAAAIgRBQEAAAAgRhQEAAAAgBhREAAA\n",
       "AABiREEAAAAAiBEFAQAAACBGFAQAAACAGFEQAAAAAGJEQQAAAACIEQUBAAAAIEYUBAAAAIAYURAA\n",
       "AAAAYkRBAAAAAIgRBQEAAAAgRhQEAAAAgBhREAAAAABiREEAAAAAiBEFAQAAACBGFAQAAACAGFEQ\n",
       "AAAAAGJEQQAAAACIEQUBAAAAIEYUBAAAAIAYURAAAAAAYk7n4356A8MettvpCaPu4ud/e36YnjDu\n",
       "9/ur6Qmjfnl3PT1h1I+vP52eMOrFtz9MTxh3vb6ensCg22/P0xNG1e+Ba3kO/h7/Ovj2aL8L3+3t\n",
       "70JrrfWw2n+D98fd9IRR9Sbml4IAAAAAECMKAgAAAECMKAgAAAAAMaIgAAAAAMSIggAAAAAQIwoC\n",
       "AAAAQIwoCAAAAAAxoiAAAAAAxIiCAAAAABAjCgIAAABAjCgIAAAAADGiIAAAAADEiIIAAAAAECMK\n",
       "AgAAAECMKAgAAAAAMaIgAAAAAMSIggAAAAAQIwoCAAAAQIwoCAAAAAAxoiAAAAAAxIiCAAAAABAj\n",
       "CgIAAABAjCgIAAAAADGiIAAAAADEiIIAAAAAECMKAgAAAECMKAgAAAAAMaIgAAAAAMSIggAAAAAQ\n",
       "IwoCAAAAQIwoCAAAAAAxoiAAAAAAxIiCAAAAABAjCgIAAABAjCgIAAAAADGiIAAAAADEiIIAAAAA\n",
       "ECMKAgAAAECMKAgAAAAAMaIgAAAAAMSIggAAAAAQIwoCAAAAQIwoCAAAAAAxoiAAAAAAxIiCAAAA\n",
       "ABAjCgIAAABAjCgIAAAAADGiIAAAAADEiIIAAAAAECMKAgAAAECMKAgAAAAAMaIgAAAAAMSIggAA\n",
       "AAAQIwoCAAAAQIwoCAAAAAAxoiAAAAAAxIiCAAAAABAjCgIAAABAjCgIAAAAADGiIAAAAADEiIIA\n",
       "AAAAECMKAgAAAECMKAgAAAAAMaf787vpDeP27WF6AoP2/XJ6wqg3+830hHG/3l1NTxj1/Z+n6Qmj\n",
       "nv/8anrCrG++nF4w7rPvfpqewKAfX386PWHUf+r3wOU5+Otd+7vQm/2P6Qmj/rfeTE8Yd3v+c3rC\n",
       "qPvz2+kJo85H+x7ol4IAAAAAECMKAgAAAECMKAgAAAAAMaIgAAAAAMSIggAAAAAQIwoCAAAAQIwo\n",
       "CAAAAAAxoiAAAAAAxIiCAAAAABAjCgIAAABAjCgIAAAAADGiIAAAAADEiIIA8P927SDHreMMo+h7\n",
       "FB05QJxZMvP+1+VhnDTgllpSs0lWZeBF/AbuOSv4imjyFW8TAAAgRhQEAAAAgBhREAAAAABiREEA\n",
       "AAAAiBEFAQAAACBGFAQAAACAGFEQAAAAAGJEQQAAAACIEQUBAAAAIEYUBAAAAIAYURAAAAAAYkRB\n",
       "AAAAAIgRBQEAAAAgRhQEAAAAgBhREAAAAABiREEAAAAAiBEFAQAAACBGFAQAAACAGFEQAAAAAGJE\n",
       "QQAAAACIEQUBAAAAIEYUBAAAAIAYURAAAAAAYkRBAAAAAIgRBQEAAAAgRhQEAAAAgBhREAAAAABi\n",
       "REEAAAAAiBEFAQAAACBGFAQAAACAGFEQAAAAAGJEQQAAAACIEQUBAAAAIEYUBAAAAIAYURAAAAAA\n",
       "YkRBAAAAAIgRBQEAAAAgRhQEAAAAgBhREAAAAABiREEAAAAAiBEFAQAAACBGFAQAAACAGFEQAAAA\n",
       "AGJEQQAAAACIEQUBAAAAIEYUBAAAAIAYURAAAAAAYkRBAAAAAIgRBQEAAAAgRhQEAAAAgBhREAAA\n",
       "AABiREEAAAAAiLk+1o/pDePO89P0hFH7eE5PYNDrpf33fxzHcV0/TU8Ydf32z+kJw36eHjDq9f7r\n",
       "9IRx/3r59/QEBv33/fP0hFG/fbtOTxj327f2Xfj3/XV6wqjXy8v0hFE/1h/TE8Z9rLfpCaMe6zY9\n",
       "YdTe7WeAXwoCAAAAQIwoCAAAAAAxoiAAAAAAxIiCAAAAABAjCgIAAABAjCgIAAAAADGiIAAAAADE\n",
       "iIIAAAAAECMKAgAAAECMKAgAAAAAMaIgAAAAAMSIggAAAAAQIwoCAAAAQIwoCAAAAAAxoiAAAAAA\n",
       "xIiCAAAAABAjCgIAAABAjCgIAAAAADGiIAAAAADEiIIAAAAAECMKAgAAAECMKAgAAAAAMaIgAAAA\n",
       "AMSIggAAAAAQIwoCAAAAQIwoCAAAAAAxoiAAAAAAxIiCAAAAABAjCgIAAABAjCgIAAAAADGiIAAA\n",
       "AADEiIIAAAAAECMKAgAAAECMKAgAAAAAMaIgAAAAAMSIggAAAAAQIwoCAAAAQIwoCAAAAAAxoiAA\n",
       "AAAAxIiCAAAAABAjCgIAAABAjCgIAAAAADGiIAAAAADEiIIAAAAAECMKAgAAAECMKAgAAAAAMaIg\n",
       "AAAAAMSIggAAAAAQIwoCAAAAQIwoCAAAAAAxoiAAAAAAxIiCAAAAABAjCgIAAABAjCgIAAAAADGi\n",
       "IAAAAADEiIIAAAAAECMKAgAAAECMKAgAAAAAMaIgAAAAAMSIggAAAAAQIwoCAAAAQIwoCAAAAAAx\n",
       "oiAAAAAAxFyf6316w7jzbLfRvZ/TE0btvaYnMO1yTi+YFX8LPN5+mZ4w6vXjOj1h3C8/eQ3Kvt6n\n",
       "F8z638djesK43/fX6QmjXi7/mZ4w6m29TE8YdXt+mZ4w7hFvImt/TE8YVe8B7RoGAAAAAEGiIAAA\n",
       "AADEiIIAAAAAECMKAgAAAECMKAgAAAAAMaIgAAAAAMSIggAAAAAQIwoCAAAAQIwoCAAAAAAxoiAA\n",
       "AAAAxIiCAAAAABAjCgIAAABAjCgIAAAAADGiIAAAAADEiIIAAAAAECMKAgAAAECMKAgAAAAAMaIg\n",
       "AAAAAMSIggAAAAAQIwoCAAAAQIwoCAAAAAAxoiAAAAAAxIiCAAAAABAjCgIAAABAjCgIAAAAADGi\n",
       "IAAAAADEiIIAAAAAECMKAgAAAECMKAgAAAAAMaIgAAAAAMSIggAAAAAQIwoCAAAAQIwoCAAAAAAx\n",
       "oiAAAAAAxIiCAAAAABAjCgIAAABAjCgIAFSEPoEAAAtXSURBVAAAADGiIAAAAADEiIIAAAAAECMK\n",
       "AgAAAECMKAgAAAAAMaIgAAAAAMSIggAAAAAQIwoCAAAAQIwoCAAAAAAxoiAAAAAAxIiCAAAAABAj\n",
       "CgIAAABAjCgIAAAAADGiIAAAAADEiIIAAAAAECMKAgAAAECMKAgAAAAAMaIgAAAAAMSIggAAAAAQ\n",
       "IwoCAAAAQIwoCAAAAAAxoiAAAAAAxIiCAAAAABAjCgIAAABAjCgIAAAAADGiIAAAAADEiIIAAAAA\n",
       "EHNd+za9Ydy52210n8/pCaP2saYnwKzLnl4w6rHv0xNGvb3/Y3rCuL/frtMTGPRjP6YnjPpyeZue\n",
       "MO718jI9YdTbap//9vwyPWHUfX2fnjBurXYT2fHnYL0HtGsYAAAAAASJggAAAAAQIwoCAAAAQIwo\n",
       "CAAAAAAxoiAAAAAAxIiCAAAAABAjCgIAAABAjCgIAAAAADGiIAAAAADEiIIAAAAAECMKAgAAAECM\n",
       "KAgAAAAAMaIgAAAAAMSIggAAAAAQIwoCAAAAQIwoCAAAAAAxoiAAAAAAxIiCAAAAABAjCgIAAABA\n",
       "jCgIAAAAADGiIAAAAADEiIIAAAAAECMKAgAAAECMKAgAAAAAMaIgAAAAAMSIggAAAAAQIwoCAAAA\n",
       "QIwoCAAAAAAxoiAAAAAAxIiCAAAAABAjCgIAAABAjCgIAAAAADGiIAAAAADEiIIAAAAAECMKAgAA\n",
       "AECMKAgAAAAAMaIgAAAAAMSIggAAAAAQIwoCAAAAQIwoCAAAAAAxoiAAAAAAxIiCAAAAABAjCgIA\n",
       "AABAjCgIAAAAADGiIAAAAADEiIIAAAAAECMKAgAAAECMKAgAAAAAMaIgAAAAAMSIggAAAAAQIwoC\n",
       "AAAAQIwoCAAAAAAxoiAAAAAAxIiCAAAAABAjCgIAAABAjCgIAAAAADGiIAAAAADEiIIAAAAAECMK\n",
       "AgAAAECMKAgAAAAAMaIgAAAAAMSIggAAAAAQIwoCAAAAQMx17/v0hr+Adhvdx5qeMGvt6QWjfAJQ\n",
       "97w8pyeMev/0Pj1h3N/25+kJDPq43KYnjPp+fJmeMO7H+mN6wqjbs/03cF/fpyeMWss9YNWbyG7f\n",
       "hes9pF3DAAAAACBIFAQAAACAGFEQAAAAAGJEQQAAAACIEQUBAAAAIEYUBAAAAIAYURAAAAAAYkRB\n",
       "AAAAAIgRBQEAAAAgRhQEAAAAgBhREAAAAABiREEAAAAAiBEFAQAAACBGFAQAAACAGFEQAAAAAGJE\n",
       "QQAAAACIEQUBAAAAIEYUBAAAAIAYURAAAAAAYkRBAAAAAIgRBQEAAAAgRhQEAAAAgBhREAAAAABi\n",
       "REEAAAAAiBEFAQAAACBGFAQAAACAGFEQAAAAAGJEQQAAAACIEQUBAAAAIEYUBAAAAIAYURAAAAAA\n",
       "YkRBAAAAAIgRBQEAAAAgRhQEAAAAgBhREAAAAABiREEAAAAAiBEFAQAAACBGFAQAAACAGFEQAAAA\n",
       "AGJEQQAAAACIEQUBAAAAIEYUBAAAAIAYURAAAAAAYkRBAAAAAIgRBQEAAAAgRhQEAAAAgBhREAAA\n",
       "AABiREEAAAAAiBEFAQAAACBGFAQAAACAGFEQAAAAAGJEQQAAAACIEQUBAAAAIEYUBAAAAIAYURAA\n",
       "AAAAYkRBAAAAAIgRBQEAAAAgRhQEAAAAgBhREAAAAABiREEAAAAAiBEFAQAAACBGFAQAAACAGFEQ\n",
       "AAAAAGJEQQAAAACIuR57TW8Yt889PWHWbp8//w5Y5/SCcY/4/0fOs33+unW5T08Ydz0/T09g0OO4\n",
       "TU8YdVvfpieM+1hv0xNGPdb79IRRa7U/A9Z2D9j7MT1hWPwbcbyH+CYIAAAAADGiIAAAAADEiIIA\n",
       "AAAAECMKAgAAAECMKAgAAAAAMaIgAAAAAMSIggAAAAAQIwoCAAAAQIwoCAAAAAAxoiAAAAAAxIiC\n",
       "AAAAABAjCgIAAABAjCgIAAAAADGiIAAAAADEiIIAAAAAECMKAgAAAECMKAgAAAAAMaIgAAAAAMSI\n",
       "ggAAAAAQIwoCAAAAQIwoCAAAAAAxoiAAAAAAxIiCAAAAABAjCgIAAABAjCgIAAAAADGiIAAAAADE\n",
       "iIIAAAAAECMKAgAAAECMKAgAAAAAMaIgAAAAAMSIggAAAAAQIwoCAAAAQIwoCAAAAAAxoiAAAAAA\n",
       "xIiCAAAAABAjCgIAAABAjCgIAAAAADGiIAAAAADEiIIAAAAAECMKAgAAAECMKAgAAAAAMaIgAAAA\n",
       "AMSIggAAAAAQIwoCAAAAQIwoCAAAAAAxoiAAAAAAxIiCAAAAABAjCgIAAABAjCgIAAAAADGiIAAA\n",
       "AADEiIIAAAAAECMKAgAAAECMKAgAAAAAMaIgAAAAAMSIggAAAAAQIwoCAAAAQIwoCAAAAAAxoiAA\n",
       "AAAAxIiCAAAAABAjCgIAAABAjCgIAAAAADGiIAAAAADEiIIAAAAAEHPdx5reMO7c5/SEWfHjH/s5\n",
       "vWDUPh7TE8at/TE9YdRjfZqeMOo82ufnOB7nfXoCg57xZ8B9/ZieMO6xbtMTRtXvQXvH78Lx70J/\n",
       "ijeR3T7/Pvb0hFF+KQgAAAAAMaIgAAAAAMSIggAAAAAQIwoCAAAAQIwoCAAAAAAxoiAAAAAAxIiC\n",
       "AAAAABAjCgIAAABAjCgIAAAAADGiIAAAAADEiIIAAAAAECMKAgAAAECMKAgAAAAAMaIgAAAAAMSI\n",
       "ggAAAAAQIwoCAAAAQIwoCAAAAAAxoiAAAAAAxIiCAAAAABAjCgIAAABAjCgIAAAAADGiIAAAAADE\n",
       "iIIAAAAAECMKAgAAAECMKAgAAAAAMaIgAAAAAMSIggAAAAAQIwoCAAAAQIwoCAAAAAAxoiAAAAAA\n",
       "xIiCAAAAABAjCgIAAABAjCgIAAAAADGiIAAAAADEiIIAAAAAECMKAgAAAECMKAgAAAAAMaIgAAAA\n",
       "AMSIggAAAAAQIwoCAAAAQIwoCAAAAAAxoiAAAAAAxIiCAAAAABAjCgIAAABAjCgIAAAAADGiIAAA\n",
       "AADEiIIAAAAAECMKAgAAAECMKAgAAAAAMaIgAAAAAMSIggAAAAAQIwoCAAAAQIwoCAAAAAAxoiAA\n",
       "AAAAxIiCAAAAABAjCgIAAABAjCgIAAAAADGiIAAAAADEiIIAAAAAECMKAgAAAECMKAgAAAAAMaIg\n",
       "AAAAAMSIggAAAAAQc50e8Fewjz09YdS52+ff55qeMKx+/uPYu/0a7P2cnjBq7cf0hFFr36cnwKj6\n",
       "e6D+GXgcnoP5e1D8Llw//3Ecx1H/PhzvIXV+KQgAAAAAMaIgAAAAAMSIggAAAAAQIwoCAAAAQIwo\n",
       "CAAAAAAxoiAAAAAAxIiCAAAAABAjCgIAAABAjCgIAAAAADGiIAAAAADEiIIAAAAAECMKAgAAAECM\n",
       "KAgAAAAAMaIgAAAAAMSIggAAAAAQIwoCAAAAQIwoCAAAAAAxoiAAAAAAxIiCAAAAABAjCgIAAABA\n",
       "jCgIAAAAADGiIAAAAADEiIIAAAAAECMKAgAAAECMKAgAAAAAMaIgAAAAAMSIggAAAAAQIwoCAAAA\n",
       "QIwoCAAAAAAxoiAAAAAAxIiCAAAAABAjCgIAAABAjCgIAAAAADGiIAAAAADEiIIAAAAAECMKAgAA\n",
       "AECMKAgAAAAAMaIgAAAAAMSIggAAAAAQIwoCAAAAQIwoCAAAAAAxoiAAAAAAxIiCAAAAABAjCgIA\n",
       "AABAjCgIAAAAADGiIAAAAADEiIIAAAAAECMKAgAAAECMKAgAAAAAMaIgAAAAAMSIggAAAAAQIwoC\n",
       "AAAAQIwoCAAAAAAxoiAAAAAAxIiCAAAAABAjCgIAAABAjCgIAAAAADGiIAAAAADEiIIAAAAAECMK\n",
       "AgAAAECMKAgAAAAAMaIgAAAAAMSIggAAAAAQ8396lusVpYPBTgAAAABJRU5ErkJggg==\n",
       "\" transform=\"translate(470, 124)\"/>\n",
       "</g>\n",
       "<defs>\n",
       "  <clipPath id=\"clip903\">\n",
       "    <rect x=\"2160\" y=\"124\" width=\"73\" height=\"1286\"/>\n",
       "  </clipPath>\n",
       "</defs>\n",
       "<g clip-path=\"url(#clip903)\">\n",
       "<image width=\"72\" height=\"1285\" xlink:href=\"data:image/png;base64,\n",
       "iVBORw0KGgoAAAANSUhEUgAAAEgAAAUFCAYAAAC0E4VSAAALMElEQVR4nO3dwa3kRhAFQY5Q/lsh\n",
       "L6XtlgWqPJKHCAsGiQeit4d/9vfv+fs+/K+/3v4AXydQECgIFAQKc+6/b3+GT7OgIFAQKAgU5t4/\n",
       "b3+GT7OgIFAQKAgUnKSDBQWBgkBBoDDXQ3plQUGgIFAQKMw9HtIbCwoCBYGCQMFJOlhQECgIFAQK\n",
       "HtLBgoJAQaAgUHDdESwoCBQECgKFeZykVxYUBAoCBYGC645gQUGgIFAQKMzjumNlQUGgIFAQKMxz\n",
       "/nn7M3yaBQWBgkBBoOBOOlhQECgIFAQKrjuCBQWBgkBBoOAhHSwoCBQECgIF1x3BgoJAQaAgUJif\n",
       "k/TKgoJAQaAgUJjn+D3pjQUFgYJAQaDgJB0sKAgUBAoCBSfpYEFBoCBQECh4uyNYUBAoCBQECvNz\n",
       "kl5ZUBAoCBQECl7BCxYUBAoCBYGCk3SwoCBQECgIFHxxGCwoCBQECgIFJ+lgQUGgIFAQKDhJBwsK\n",
       "AgWBgkDBSTpYUBAoCBQECvOc8/Zn+DQLCgIFgYJAwUk6WFAQKAgUBArupIMFBYGCQEGg4CEdLCgI\n",
       "FAQKAoX5uZNeWVAQKAgUBApO0sGCgkBBoCBQ8HZHsKAgUBAoCBRcdwQLCgIFgYJAwXVHsKAgUBAo\n",
       "CBRcdwQLCgIFgYJAwUM6WFAQKAgUBAr+4jBYUBAoCBQECk7SwYKCQEGgIFDwkA4WFAQKAgWBgod0\n",
       "sKAgUBAoCBQ8pIMFBYGCQEGgMM/1kN5YUBAoCBQECk7SwYKCQEGgIFDwkA4WFAQKAgWBgod0sKAg\n",
       "UBAoCBTmOfftz/BpFhQECgIFgYKTdLCgIFAQKAgUnKSDBQWBgkBBoCBQ8E+NYEFBoCBQECj4p0aw\n",
       "oCBQECgIFOZxkF5ZUBAoCBQECvNcJ+mNBQWBgkBBoOAkHSwoCBQECgIFD+lgQUGgIFAQKIwfoNpZ\n",
       "UBAoCBQECk7SwYKCQEGgIFDwkA4WFAQKAgWBwjzn9/Zn+DQLCgIFgYJAYe71kN5YUBAoCBQECq47\n",
       "ggUFgYJAQaDguiNYUBAoCBQECnOPRht1gkBBoCBQcJIOFhQECgIFgcI8vjhcWVAQKAgUBApznaRX\n",
       "FhQECgIFgcI87qRX6gSBgkBBoOAkHSwoCBQECgIFd9LBgoJAQaAgUPAKXlAnCBQECgIFr+AFCwoC\n",
       "BYGCQMGddLCgIFAQKAgU5l6NNuoEgYJAQaDguiNYUBAoCBQECq47ggUFgYJAQaAwj+uOlTpBoCBQ\n",
       "ECg4SQcLCgIFgYJAwUM6WFAQKAgUBAr+4jBYUBAoCBQECv7iMKgTBAoCBYGC/4g2WFAQKAgUBAru\n",
       "pIMFBYGCQEGg4PekgzpBoCBQECi47ggWFAQKAgWBguuOYEFBoCBQECg4SQcLCgIFgYJAwSt4QZ0g\n",
       "UBAoCBScpIMFBYGCQEGg4E46WFAQKAgUBApO0sGCgkBBoCBQ8KP/wYKCQEGgIFDw32cFdYJAQaAg\n",
       "UHDdESwoCBQECgIFXxwGCwoCBYGCQMFJOlhQECgIFAQKczykVxYUBAoCBYGCvzgM6gSBgkBBoOC6\n",
       "I1hQECgIFAQKHtLBgoJAQaAgUPB2R7CgIFAQKAgUBAr+qREsKAgUBAoCBQ/pYEFBoCBQECj4u/mg\n",
       "ThAoCBQECnNc2q8sKAgUBAoCBdcdwYKCQEGgIFDwkA4WFAQKAgWBgod0sKAgUBAoCBT8uEmwoCBQ\n",
       "ECgIFJykgwUFgYJAQaDgIR0sKAgUBAoCBe9JB3WCQEGgIFDwnnSwoCBQECgIFFx3BAsKAgWBgkDB\n",
       "QzpYUBAoCBQECl7BCxYUBAoCBYGCk3SwoCBQECgIFOY+HtIbCwoCBYGCQMF1R7CgIFAQKAgUXHcE\n",
       "CwoCBYGCQMFJOlhQECgIFAQKTtLBgoJAQaAgUHCSDhYUBAoCBYGCk3SwoCBQECgIFDykgwUFgYJA\n",
       "QaAwx3vSKwsKAgWBgkDBSTpYUBAoCBQECr44DBYUBAoCBYHC3Pv2R/g2CwoCBYGCQMFJOlhQECgI\n",
       "FAQKfmApWFAQKAgUBApO0sGCgkBBoCBQ8HZHsKAgUBAoCBS8Jx0sKAgUBAoCBW93BAsKAgWBgkDB\n",
       "nXSwoCBQECgIFNxJBwsKAgWBgkDBnXSwoCBQECgIFFx3BAsKAgWBgkDBF4fBgoJAQaAgUHDdESwo\n",
       "CBQECgIFXxwGCwoCBYGCQGHO25/g4ywoCBQECgIFJ+lgQUGgIFAQKHi7I1hQECgIFAQKrjuCBQWB\n",
       "gkBBoOC6I1hQECgIFAQKTtLBgoJAQaAgUHCSDhYUBAoCBYGCLw6DBQWBgkBBoDD+KnxnQUGgIFAQ\n",
       "KDhJBwsKAgWBgkBBoOCb1WBBQaAgUBAo+GY1WFAQKAgUBApO0sGCgkBBoCBQcJIOFhQECgIFgcIc\n",
       "77+sLCgIFAQKAgXXHcGCgkBBoCBQcN0RLCgIFAQKAgUn6WBBQaAgUBAo+J96gwUFgYJAQaDgf+oN\n",
       "FhQECgIFgYK3O4IFBYGCQEGg4BeoggUFgYJAQaDgF6iCBQWBgkBBoOCLw2BBQaAgUBAoeAUvWFAQ\n",
       "KAgUBAr+mCVYUBAoCBQECk7SwYKCQEGgIFDwCl6woCBQECgIFLyCFywoCBQECgIFJ+lgQUGgIFAQ\n",
       "KHgFL1hQECgIFAQKfrsjWFAQKAgUBAquO4IFBYGCQEGg4IvDYEFBoCBQECg4SQcLCgIFgYJAwUk6\n",
       "WFAQKAgUBApO0sGCgkBBoCBQ8JAOFhQECgIFgYLrjmBBQaAgUBAoOEkHCwoCBYGCQMFJOlhQECgI\n",
       "FAQKTtLBgoJAQaAgUPDbHcGCgkBBoCBQ8KP/wYKCQEGgIFBw3REsKAgUBAoChbmPp/TGgoJAQaAg\n",
       "UHCSDhYUBAoCBYGCLw6DBQWBgkBBoOCLw2BBQaAgUBAouO4IFhQECgIFgYIvDoMFBYGCQEGg4CQd\n",
       "LCgIFAQKAgW/3REsKAgUBAoChTle71hZUBAoCBQECt7uCBYUBAoCBYHCXCfplQUFgYJAQaDgJB0s\n",
       "KAgUBAoCBXfSwYKCQEGgIFDwdkewoCBQECgIFOb4Y5aVBQWBgkBBoOC6I1hQECgIFAQKAgV/Nx8s\n",
       "KAgUBAoCBa+/BAsKAgWBgkDBpX2woCBQECgIFFx3BAsKAgWBgkBhzuPCY2NBQaAgUBAouO4IFhQE\n",
       "CgIFgYKHdLCgIFAQKAgU3EkHCwoCBYGCQMGddLCgIFAQKAgU5vycpDcWFAQKAgWBgpN0sKAgUBAo\n",
       "CBTmekivLCgIFAQKAgUn6WBBQaAgUBAozPl5SG8sKAgUBAoCBSfpYEFBoCBQECi4kw4WFAQKAgWB\n",
       "gpN0sKAgUBAoCBQ8pIMFBYGCQEGg4IvDYEFBoCBQECjMff68/Rk+zYKCQEGgIFBw3REsKAgUBAoC\n",
       "BW93BAsKAgWBgkBhznXdsbGgIFAQKAgUnKSDBQWBgkBBoDDHF4crCwoCBYGCQMFJOlhQECgIFAQK\n",
       "TtLBgoJAQaAgUJh7naQ3FhQECgIFgYLrjmBBQaAgUBAoeAUvWFAQKAgUBApO0sGCgkBBoCBQmOsk\n",
       "vbKgIFAQKAgUnKSDBQWBgkBBoDDH2x0rCwoCBYGCQMFPlQYLCgIFgYJAwXvSwYKCQEGgIFBwJx0s\n",
       "KAgUBAoCBSfpYEFBoCBQECh4SAcLCgIFgYJAwReHwYKCQEGgIFBwkg4WFAQKAgWBwjy+OFxZUBAo\n",
       "CBQECk7SwYKCQEGgIFDwCl6woCBQECgIFOZxkl5ZUBAoCBQECt7uCBYUBAoCBYGCLw6DBQWBgkBB\n",
       "oOC6I1hQECgIFAQKc5/79mf4NAsKAgWBgkDBdUewoCBQECgIFOZxkl5ZUBAoCBQECv8BchLtGWsS\n",
       "xKgAAAAASUVORK5CYII=\n",
       "\" transform=\"translate(2161, 124)\"/>\n",
       "</g>\n",
       "<path clip-path=\"url(#clip900)\" d=\"M2280.7 1236.39 Q2277.09 1236.39 2275.26 1239.95 Q2273.45 1243.49 2273.45 1250.62 Q2273.45 1257.73 2275.26 1261.3 Q2277.09 1264.84 2280.7 1264.84 Q2284.33 1264.84 2286.14 1261.3 Q2287.97 1257.73 2287.97 1250.62 Q2287.97 1243.49 2286.14 1239.95 Q2284.33 1236.39 2280.7 1236.39 M2280.7 1232.68 Q2286.51 1232.68 2289.57 1237.29 Q2292.64 1241.87 2292.64 1250.62 Q2292.64 1259.35 2289.57 1263.96 Q2286.51 1268.54 2280.7 1268.54 Q2274.89 1268.54 2271.81 1263.96 Q2268.76 1259.35 2268.76 1250.62 Q2268.76 1241.87 2271.81 1237.29 Q2274.89 1232.68 2280.7 1232.68 Z\" fill=\"#000000\" fill-rule=\"nonzero\" fill-opacity=\"1\" /><path clip-path=\"url(#clip900)\" d=\"M2300.86 1261.99 L2305.75 1261.99 L2305.75 1267.87 L2300.86 1267.87 L2300.86 1261.99 Z\" fill=\"#000000\" fill-rule=\"nonzero\" fill-opacity=\"1\" /><path clip-path=\"url(#clip900)\" d=\"M2325.93 1236.39 Q2322.32 1236.39 2320.49 1239.95 Q2318.69 1243.49 2318.69 1250.62 Q2318.69 1257.73 2320.49 1261.3 Q2322.32 1264.84 2325.93 1264.84 Q2329.57 1264.84 2331.37 1261.3 Q2333.2 1257.73 2333.2 1250.62 Q2333.2 1243.49 2331.37 1239.95 Q2329.57 1236.39 2325.93 1236.39 M2325.93 1232.68 Q2331.74 1232.68 2334.8 1237.29 Q2337.88 1241.87 2337.88 1250.62 Q2337.88 1259.35 2334.8 1263.96 Q2331.74 1268.54 2325.93 1268.54 Q2320.12 1268.54 2317.04 1263.96 Q2313.99 1259.35 2313.99 1250.62 Q2313.99 1241.87 2317.04 1237.29 Q2320.12 1232.68 2325.93 1232.68 Z\" fill=\"#000000\" fill-rule=\"nonzero\" fill-opacity=\"1\" /><path clip-path=\"url(#clip900)\" d=\"M2346.14 1233.31 L2364.5 1233.31 L2364.5 1237.24 L2350.42 1237.24 L2350.42 1245.72 Q2351.44 1245.37 2352.46 1245.21 Q2353.48 1245.02 2354.5 1245.02 Q2360.28 1245.02 2363.66 1248.19 Q2367.04 1251.36 2367.04 1256.78 Q2367.04 1262.36 2363.57 1265.46 Q2360.1 1268.54 2353.78 1268.54 Q2351.6 1268.54 2349.33 1268.17 Q2347.09 1267.8 2344.68 1267.06 L2344.68 1262.36 Q2346.76 1263.49 2348.99 1264.05 Q2351.21 1264.61 2353.69 1264.61 Q2357.69 1264.61 2360.03 1262.5 Q2362.37 1260.39 2362.37 1256.78 Q2362.37 1253.17 2360.03 1251.06 Q2357.69 1248.96 2353.69 1248.96 Q2351.81 1248.96 2349.94 1249.37 Q2348.08 1249.79 2346.14 1250.67 L2346.14 1233.31 Z\" fill=\"#000000\" fill-rule=\"nonzero\" fill-opacity=\"1\" /><path clip-path=\"url(#clip900)\" d=\"M2280.7 1054.15 Q2277.09 1054.15 2275.26 1057.72 Q2273.45 1061.26 2273.45 1068.39 Q2273.45 1075.5 2275.26 1079.06 Q2277.09 1082.6 2280.7 1082.6 Q2284.33 1082.6 2286.14 1079.06 Q2287.97 1075.5 2287.97 1068.39 Q2287.97 1061.26 2286.14 1057.72 Q2284.33 1054.15 2280.7 1054.15 M2280.7 1050.45 Q2286.51 1050.45 2289.57 1055.06 Q2292.64 1059.64 2292.64 1068.39 Q2292.64 1077.12 2289.57 1081.72 Q2286.51 1086.31 2280.7 1086.31 Q2274.89 1086.31 2271.81 1081.72 Q2268.76 1077.12 2268.76 1068.39 Q2268.76 1059.64 2271.81 1055.06 Q2274.89 1050.45 2280.7 1050.45 Z\" fill=\"#000000\" fill-rule=\"nonzero\" fill-opacity=\"1\" /><path clip-path=\"url(#clip900)\" d=\"M2300.86 1079.76 L2305.75 1079.76 L2305.75 1085.63 L2300.86 1085.63 L2300.86 1079.76 Z\" fill=\"#000000\" fill-rule=\"nonzero\" fill-opacity=\"1\" /><path clip-path=\"url(#clip900)\" d=\"M2316.74 1081.7 L2324.38 1081.7 L2324.38 1055.33 L2316.07 1057 L2316.07 1052.74 L2324.33 1051.07 L2329.01 1051.07 L2329.01 1081.7 L2336.65 1081.7 L2336.65 1085.63 L2316.74 1085.63 L2316.74 1081.7 Z\" fill=\"#000000\" fill-rule=\"nonzero\" fill-opacity=\"1\" /><path clip-path=\"url(#clip900)\" d=\"M2356.09 1054.15 Q2352.48 1054.15 2350.65 1057.72 Q2348.85 1061.26 2348.85 1068.39 Q2348.85 1075.5 2350.65 1079.06 Q2352.48 1082.6 2356.09 1082.6 Q2359.73 1082.6 2361.53 1079.06 Q2363.36 1075.5 2363.36 1068.39 Q2363.36 1061.26 2361.53 1057.72 Q2359.73 1054.15 2356.09 1054.15 M2356.09 1050.45 Q2361.9 1050.45 2364.96 1055.06 Q2368.04 1059.64 2368.04 1068.39 Q2368.04 1077.12 2364.96 1081.72 Q2361.9 1086.31 2356.09 1086.31 Q2350.28 1086.31 2347.2 1081.72 Q2344.15 1077.12 2344.15 1068.39 Q2344.15 1059.64 2347.2 1055.06 Q2350.28 1050.45 2356.09 1050.45 Z\" fill=\"#000000\" fill-rule=\"nonzero\" fill-opacity=\"1\" /><path clip-path=\"url(#clip900)\" d=\"M2280.7 871.919 Q2277.09 871.919 2275.26 875.483 Q2273.45 879.025 2273.45 886.155 Q2273.45 893.261 2275.26 896.826 Q2277.09 900.367 2280.7 900.367 Q2284.33 900.367 2286.14 896.826 Q2287.97 893.261 2287.97 886.155 Q2287.97 879.025 2286.14 875.483 Q2284.33 871.919 2280.7 871.919 M2280.7 868.215 Q2286.51 868.215 2289.57 872.821 Q2292.64 877.405 2292.64 886.155 Q2292.64 894.881 2289.57 899.488 Q2286.51 904.071 2280.7 904.071 Q2274.89 904.071 2271.81 899.488 Q2268.76 894.881 2268.76 886.155 Q2268.76 877.405 2271.81 872.821 Q2274.89 868.215 2280.7 868.215 Z\" fill=\"#000000\" fill-rule=\"nonzero\" fill-opacity=\"1\" /><path clip-path=\"url(#clip900)\" d=\"M2300.86 897.52 L2305.75 897.52 L2305.75 903.4 L2300.86 903.4 L2300.86 897.52 Z\" fill=\"#000000\" fill-rule=\"nonzero\" fill-opacity=\"1\" /><path clip-path=\"url(#clip900)\" d=\"M2316.74 899.465 L2324.38 899.465 L2324.38 873.099 L2316.07 874.766 L2316.07 870.507 L2324.33 868.84 L2329.01 868.84 L2329.01 899.465 L2336.65 899.465 L2336.65 903.4 L2316.74 903.4 L2316.74 899.465 Z\" fill=\"#000000\" fill-rule=\"nonzero\" fill-opacity=\"1\" /><path clip-path=\"url(#clip900)\" d=\"M2346.14 868.84 L2364.5 868.84 L2364.5 872.775 L2350.42 872.775 L2350.42 881.247 Q2351.44 880.9 2352.46 880.738 Q2353.48 880.553 2354.5 880.553 Q2360.28 880.553 2363.66 883.724 Q2367.04 886.895 2367.04 892.312 Q2367.04 897.891 2363.57 900.992 Q2360.1 904.071 2353.78 904.071 Q2351.6 904.071 2349.33 903.701 Q2347.09 903.33 2344.68 902.59 L2344.68 897.891 Q2346.76 899.025 2348.99 899.58 Q2351.21 900.136 2353.69 900.136 Q2357.69 900.136 2360.03 898.03 Q2362.37 895.923 2362.37 892.312 Q2362.37 888.701 2360.03 886.594 Q2357.69 884.488 2353.69 884.488 Q2351.81 884.488 2349.94 884.905 Q2348.08 885.321 2346.14 886.201 L2346.14 868.84 Z\" fill=\"#000000\" fill-rule=\"nonzero\" fill-opacity=\"1\" /><path clip-path=\"url(#clip900)\" d=\"M2280.7 689.684 Q2277.09 689.684 2275.26 693.249 Q2273.45 696.79 2273.45 703.92 Q2273.45 711.026 2275.26 714.591 Q2277.09 718.133 2280.7 718.133 Q2284.33 718.133 2286.14 714.591 Q2287.97 711.026 2287.97 703.92 Q2287.97 696.79 2286.14 693.249 Q2284.33 689.684 2280.7 689.684 M2280.7 685.98 Q2286.51 685.98 2289.57 690.586 Q2292.64 695.17 2292.64 703.92 Q2292.64 712.647 2289.57 717.253 Q2286.51 721.836 2280.7 721.836 Q2274.89 721.836 2271.81 717.253 Q2268.76 712.647 2268.76 703.92 Q2268.76 695.17 2271.81 690.586 Q2274.89 685.98 2280.7 685.98 Z\" fill=\"#000000\" fill-rule=\"nonzero\" fill-opacity=\"1\" /><path clip-path=\"url(#clip900)\" d=\"M2300.86 715.285 L2305.75 715.285 L2305.75 721.165 L2300.86 721.165 L2300.86 715.285 Z\" fill=\"#000000\" fill-rule=\"nonzero\" fill-opacity=\"1\" /><path clip-path=\"url(#clip900)\" d=\"M2319.96 717.23 L2336.28 717.23 L2336.28 721.165 L2314.33 721.165 L2314.33 717.23 Q2317 714.475 2321.58 709.846 Q2326.19 705.193 2327.37 703.85 Q2329.61 701.327 2330.49 699.591 Q2331.39 697.832 2331.39 696.142 Q2331.39 693.387 2329.45 691.651 Q2327.53 689.915 2324.43 689.915 Q2322.23 689.915 2319.77 690.679 Q2317.34 691.443 2314.57 692.994 L2314.57 688.272 Q2317.39 687.137 2319.84 686.559 Q2322.3 685.98 2324.33 685.98 Q2329.7 685.98 2332.9 688.665 Q2336.09 691.35 2336.09 695.841 Q2336.09 697.971 2335.28 699.892 Q2334.5 701.79 2332.39 704.383 Q2331.81 705.054 2328.71 708.272 Q2325.61 711.466 2319.96 717.23 Z\" fill=\"#000000\" fill-rule=\"nonzero\" fill-opacity=\"1\" /><path clip-path=\"url(#clip900)\" d=\"M2356.09 689.684 Q2352.48 689.684 2350.65 693.249 Q2348.85 696.79 2348.85 703.92 Q2348.85 711.026 2350.65 714.591 Q2352.48 718.133 2356.09 718.133 Q2359.73 718.133 2361.53 714.591 Q2363.36 711.026 2363.36 703.92 Q2363.36 696.79 2361.53 693.249 Q2359.73 689.684 2356.09 689.684 M2356.09 685.98 Q2361.9 685.98 2364.96 690.586 Q2368.04 695.17 2368.04 703.92 Q2368.04 712.647 2364.96 717.253 Q2361.9 721.836 2356.09 721.836 Q2350.28 721.836 2347.2 717.253 Q2344.15 712.647 2344.15 703.92 Q2344.15 695.17 2347.2 690.586 Q2350.28 685.98 2356.09 685.98 Z\" fill=\"#000000\" fill-rule=\"nonzero\" fill-opacity=\"1\" /><path clip-path=\"url(#clip900)\" d=\"M2280.7 507.449 Q2277.09 507.449 2275.26 511.014 Q2273.45 514.555 2273.45 521.685 Q2273.45 528.791 2275.26 532.356 Q2277.09 535.898 2280.7 535.898 Q2284.33 535.898 2286.14 532.356 Q2287.97 528.791 2287.97 521.685 Q2287.97 514.555 2286.14 511.014 Q2284.33 507.449 2280.7 507.449 M2280.7 503.745 Q2286.51 503.745 2289.57 508.352 Q2292.64 512.935 2292.64 521.685 Q2292.64 530.412 2289.57 535.018 Q2286.51 539.602 2280.7 539.602 Q2274.89 539.602 2271.81 535.018 Q2268.76 530.412 2268.76 521.685 Q2268.76 512.935 2271.81 508.352 Q2274.89 503.745 2280.7 503.745 Z\" fill=\"#000000\" fill-rule=\"nonzero\" fill-opacity=\"1\" /><path clip-path=\"url(#clip900)\" d=\"M2300.86 533.051 L2305.75 533.051 L2305.75 538.93 L2300.86 538.93 L2300.86 533.051 Z\" fill=\"#000000\" fill-rule=\"nonzero\" fill-opacity=\"1\" /><path clip-path=\"url(#clip900)\" d=\"M2319.96 534.995 L2336.28 534.995 L2336.28 538.93 L2314.33 538.93 L2314.33 534.995 Q2317 532.24 2321.58 527.611 Q2326.19 522.958 2327.37 521.615 Q2329.61 519.092 2330.49 517.356 Q2331.39 515.597 2331.39 513.907 Q2331.39 511.153 2329.45 509.416 Q2327.53 507.68 2324.43 507.68 Q2322.23 507.68 2319.77 508.444 Q2317.34 509.208 2314.57 510.759 L2314.57 506.037 Q2317.39 504.903 2319.84 504.324 Q2322.3 503.745 2324.33 503.745 Q2329.7 503.745 2332.9 506.43 Q2336.09 509.116 2336.09 513.606 Q2336.09 515.736 2335.28 517.657 Q2334.5 519.555 2332.39 522.148 Q2331.81 522.819 2328.71 526.037 Q2325.61 529.231 2319.96 534.995 Z\" fill=\"#000000\" fill-rule=\"nonzero\" fill-opacity=\"1\" /><path clip-path=\"url(#clip900)\" d=\"M2346.14 504.37 L2364.5 504.37 L2364.5 508.305 L2350.42 508.305 L2350.42 516.778 Q2351.44 516.43 2352.46 516.268 Q2353.48 516.083 2354.5 516.083 Q2360.28 516.083 2363.66 519.254 Q2367.04 522.426 2367.04 527.842 Q2367.04 533.421 2363.57 536.523 Q2360.1 539.602 2353.78 539.602 Q2351.6 539.602 2349.33 539.231 Q2347.09 538.861 2344.68 538.12 L2344.68 533.421 Q2346.76 534.555 2348.99 535.111 Q2351.21 535.666 2353.69 535.666 Q2357.69 535.666 2360.03 533.56 Q2362.37 531.453 2362.37 527.842 Q2362.37 524.231 2360.03 522.125 Q2357.69 520.018 2353.69 520.018 Q2351.81 520.018 2349.94 520.435 Q2348.08 520.852 2346.14 521.731 L2346.14 504.37 Z\" fill=\"#000000\" fill-rule=\"nonzero\" fill-opacity=\"1\" /><path clip-path=\"url(#clip900)\" d=\"M2280.7 325.214 Q2277.09 325.214 2275.26 328.779 Q2273.45 332.321 2273.45 339.45 Q2273.45 346.557 2275.26 350.121 Q2277.09 353.663 2280.7 353.663 Q2284.33 353.663 2286.14 350.121 Q2287.97 346.557 2287.97 339.45 Q2287.97 332.321 2286.14 328.779 Q2284.33 325.214 2280.7 325.214 M2280.7 321.51 Q2286.51 321.51 2289.57 326.117 Q2292.64 330.7 2292.64 339.45 Q2292.64 348.177 2289.57 352.783 Q2286.51 357.367 2280.7 357.367 Q2274.89 357.367 2271.81 352.783 Q2268.76 348.177 2268.76 339.45 Q2268.76 330.7 2271.81 326.117 Q2274.89 321.51 2280.7 321.51 Z\" fill=\"#000000\" fill-rule=\"nonzero\" fill-opacity=\"1\" /><path clip-path=\"url(#clip900)\" d=\"M2300.86 350.816 L2305.75 350.816 L2305.75 356.695 L2300.86 356.695 L2300.86 350.816 Z\" fill=\"#000000\" fill-rule=\"nonzero\" fill-opacity=\"1\" /><path clip-path=\"url(#clip900)\" d=\"M2330.1 338.061 Q2333.45 338.779 2335.33 341.047 Q2337.23 343.316 2337.23 346.649 Q2337.23 351.765 2333.71 354.566 Q2330.19 357.367 2323.71 357.367 Q2321.53 357.367 2319.22 356.927 Q2316.93 356.51 2314.47 355.654 L2314.47 351.14 Q2316.42 352.274 2318.73 352.853 Q2321.05 353.432 2323.57 353.432 Q2327.97 353.432 2330.26 351.695 Q2332.58 349.959 2332.58 346.649 Q2332.58 343.594 2330.42 341.881 Q2328.29 340.145 2324.47 340.145 L2320.45 340.145 L2320.45 336.302 L2324.66 336.302 Q2328.11 336.302 2329.94 334.936 Q2331.76 333.547 2331.76 330.955 Q2331.76 328.293 2329.87 326.881 Q2327.99 325.446 2324.47 325.446 Q2322.55 325.446 2320.35 325.862 Q2318.15 326.279 2315.51 327.159 L2315.51 322.992 Q2318.18 322.251 2320.49 321.881 Q2322.83 321.51 2324.89 321.51 Q2330.21 321.51 2333.32 323.941 Q2336.42 326.348 2336.42 330.469 Q2336.42 333.339 2334.77 335.33 Q2333.13 337.297 2330.1 338.061 Z\" fill=\"#000000\" fill-rule=\"nonzero\" fill-opacity=\"1\" /><path clip-path=\"url(#clip900)\" d=\"M2356.09 325.214 Q2352.48 325.214 2350.65 328.779 Q2348.85 332.321 2348.85 339.45 Q2348.85 346.557 2350.65 350.121 Q2352.48 353.663 2356.09 353.663 Q2359.73 353.663 2361.53 350.121 Q2363.36 346.557 2363.36 339.45 Q2363.36 332.321 2361.53 328.779 Q2359.73 325.214 2356.09 325.214 M2356.09 321.51 Q2361.9 321.51 2364.96 326.117 Q2368.04 330.7 2368.04 339.45 Q2368.04 348.177 2364.96 352.783 Q2361.9 357.367 2356.09 357.367 Q2350.28 357.367 2347.2 352.783 Q2344.15 348.177 2344.15 339.45 Q2344.15 330.7 2347.2 326.117 Q2350.28 321.51 2356.09 321.51 Z\" fill=\"#000000\" fill-rule=\"nonzero\" fill-opacity=\"1\" /><path clip-path=\"url(#clip900)\" d=\"M2280.7 142.979 Q2277.09 142.979 2275.26 146.544 Q2273.45 150.086 2273.45 157.215 Q2273.45 164.322 2275.26 167.887 Q2277.09 171.428 2280.7 171.428 Q2284.33 171.428 2286.14 167.887 Q2287.97 164.322 2287.97 157.215 Q2287.97 150.086 2286.14 146.544 Q2284.33 142.979 2280.7 142.979 M2280.7 139.276 Q2286.51 139.276 2289.57 143.882 Q2292.64 148.465 2292.64 157.215 Q2292.64 165.942 2289.57 170.549 Q2286.51 175.132 2280.7 175.132 Q2274.89 175.132 2271.81 170.549 Q2268.76 165.942 2268.76 157.215 Q2268.76 148.465 2271.81 143.882 Q2274.89 139.276 2280.7 139.276 Z\" fill=\"#000000\" fill-rule=\"nonzero\" fill-opacity=\"1\" /><path clip-path=\"url(#clip900)\" d=\"M2300.86 168.581 L2305.75 168.581 L2305.75 174.461 L2300.86 174.461 L2300.86 168.581 Z\" fill=\"#000000\" fill-rule=\"nonzero\" fill-opacity=\"1\" /><path clip-path=\"url(#clip900)\" d=\"M2330.1 155.826 Q2333.45 156.544 2335.33 158.813 Q2337.23 161.081 2337.23 164.414 Q2337.23 169.53 2333.71 172.331 Q2330.19 175.132 2323.71 175.132 Q2321.53 175.132 2319.22 174.692 Q2316.93 174.275 2314.47 173.419 L2314.47 168.905 Q2316.42 170.039 2318.73 170.618 Q2321.05 171.197 2323.57 171.197 Q2327.97 171.197 2330.26 169.461 Q2332.58 167.725 2332.58 164.414 Q2332.58 161.359 2330.42 159.646 Q2328.29 157.91 2324.47 157.91 L2320.45 157.91 L2320.45 154.067 L2324.66 154.067 Q2328.11 154.067 2329.94 152.701 Q2331.76 151.313 2331.76 148.72 Q2331.76 146.058 2329.87 144.646 Q2327.99 143.211 2324.47 143.211 Q2322.55 143.211 2320.35 143.627 Q2318.15 144.044 2315.51 144.924 L2315.51 140.757 Q2318.18 140.016 2320.49 139.646 Q2322.83 139.276 2324.89 139.276 Q2330.21 139.276 2333.32 141.706 Q2336.42 144.114 2336.42 148.234 Q2336.42 151.104 2334.77 153.095 Q2333.13 155.063 2330.1 155.826 Z\" fill=\"#000000\" fill-rule=\"nonzero\" fill-opacity=\"1\" /><path clip-path=\"url(#clip900)\" d=\"M2346.14 139.901 L2364.5 139.901 L2364.5 143.836 L2350.42 143.836 L2350.42 152.308 Q2351.44 151.961 2352.46 151.799 Q2353.48 151.613 2354.5 151.613 Q2360.28 151.613 2363.66 154.785 Q2367.04 157.956 2367.04 163.373 Q2367.04 168.951 2363.57 172.053 Q2360.1 175.132 2353.78 175.132 Q2351.6 175.132 2349.33 174.762 Q2347.09 174.391 2344.68 173.65 L2344.68 168.951 Q2346.76 170.086 2348.99 170.641 Q2351.21 171.197 2353.69 171.197 Q2357.69 171.197 2360.03 169.09 Q2362.37 166.984 2362.37 163.373 Q2362.37 159.762 2360.03 157.655 Q2357.69 155.549 2353.69 155.549 Q2351.81 155.549 2349.94 155.965 Q2348.08 156.382 2346.14 157.262 L2346.14 139.901 Z\" fill=\"#000000\" fill-rule=\"nonzero\" fill-opacity=\"1\" /><polyline clip-path=\"url(#clip900)\" style=\"stroke:#000000; stroke-linecap:round; stroke-linejoin:round; stroke-width:4; stroke-opacity:1; fill:none\" points=\"2232.76,1409.37 2232.76,1254.22 2256.76,1254.22 2232.76,1254.22 2232.76,1071.98 2256.76,1071.98 2232.76,1071.98 2232.76,889.749 2256.76,889.749 2232.76,889.749 2232.76,707.514 2256.76,707.514 2232.76,707.514 2232.76,525.279 2256.76,525.279 2232.76,525.279 2232.76,343.044 2256.76,343.044 2232.76,343.044 2232.76,160.809 2256.76,160.809 2232.76,160.809 2232.76,124.324 \"/>\n",
       "</svg>\n"
      ]
     },
     "execution_count": 109,
     "metadata": {},
     "output_type": "execute_result"
    }
   ],
   "source": [
    "heatmap(Tx,Ty,imag(F12list[1]),aspect_ratio=1)"
   ]
  },
  {
   "cell_type": "markdown",
   "metadata": {},
   "source": [
    "## Interacting Many Body"
   ]
  },
  {
   "cell_type": "markdown",
   "metadata": {},
   "source": [
    "### Interacting Many Body Chern"
   ]
  },
  {
   "cell_type": "markdown",
   "metadata": {},
   "source": [
    "# Projected Many Body"
   ]
  },
  {
   "cell_type": "code",
   "execution_count": 468,
   "metadata": {},
   "outputs": [],
   "source": [
    "param_dict[\"sub_range\"] = 1:4;"
   ]
  },
  {
   "cell_type": "code",
   "execution_count": 469,
   "metadata": {},
   "outputs": [],
   "source": [
    "param_dict[\"θθ\"] = [0, 0];"
   ]
  },
  {
   "cell_type": "code",
   "execution_count": 470,
   "metadata": {},
   "outputs": [],
   "source": [
    "H_T = get_Hofstadter_hamiltonian(param_dict);\n",
    "H1 = get_sp_op(basis, H_T);\n",
    "sub_states = get_subset_states(H1, param_dict[\"sub_range\"])\n",
    "\n",
    "subspace_proj, P, Pt = get_projector_op(basis, sub_states);\n",
    "param_dict[\"projection\"] = subspace_proj, P, Pt;"
   ]
  },
  {
   "cell_type": "code",
   "execution_count": 471,
   "metadata": {},
   "outputs": [
    {
     "data": {
      "text/plain": [
       "ManyBody(onebodybasis=Subspace(superbasis=NLevel(N=9), states:4), states:10)"
      ]
     },
     "execution_count": 471,
     "metadata": {},
     "output_type": "execute_result"
    }
   ],
   "source": [
    "PN = 2\n",
    "param_dict[\"PN\"] = PN\n",
    "basis_mb_chern = get_basis_mb(param_dict);\n",
    "param_dict[\"basis_mb\"] = basis_mb_chern"
   ]
  },
  {
   "cell_type": "code",
   "execution_count": 472,
   "metadata": {},
   "outputs": [
    {
     "data": {
      "text/plain": [
       "10"
      ]
     },
     "execution_count": 472,
     "metadata": {},
     "output_type": "execute_result"
    }
   ],
   "source": [
    "param_dict[\"dimH_mb\"] = length(basis_mb_chern)"
   ]
  },
  {
   "cell_type": "code",
   "execution_count": 473,
   "metadata": {},
   "outputs": [],
   "source": [
    "param_dict[\"θθ\"] = [0, 1.1];"
   ]
  },
  {
   "cell_type": "code",
   "execution_count": 474,
   "metadata": {},
   "outputs": [],
   "source": [
    "H_mb_Chern_basis = get_H_mb(param_dict);"
   ]
  },
  {
   "cell_type": "code",
   "execution_count": 475,
   "metadata": {},
   "outputs": [],
   "source": [
    "H_T = get_Hofstadter_hamiltonian(param_dict);\n",
    "H1 = get_sp_op(basis, H_T);\n",
    "sub_states = get_subset_states(H1, param_dict[\"sub_range\"])\n",
    "\n",
    "subspace_proj, P, Pt = get_projector_op(basis, sub_states);\n",
    "param_dict[\"projection\"] = subspace_proj, P, Pt;\n",
    "\n",
    "basis_mb_1 = get_basis_mb(param_dict);"
   ]
  },
  {
   "cell_type": "code",
   "execution_count": 476,
   "metadata": {},
   "outputs": [],
   "source": [
    "H_mb_1 = get_H_mb(param_dict);"
   ]
  },
  {
   "cell_type": "code",
   "execution_count": 477,
   "metadata": {},
   "outputs": [
    {
     "data": {
      "text/plain": [
       "false"
      ]
     },
     "execution_count": 477,
     "metadata": {},
     "output_type": "execute_result"
    }
   ],
   "source": [
    "H_mb_Chern_basis == H_mb_1"
   ]
  },
  {
   "cell_type": "code",
   "execution_count": 478,
   "metadata": {},
   "outputs": [
    {
     "data": {
      "text/plain": [
       "ManyBody(onebodybasis=Subspace(superbasis=NLevel(N=9), states:4), states:10)"
      ]
     },
     "execution_count": 478,
     "metadata": {},
     "output_type": "execute_result"
    }
   ],
   "source": [
    "basis_mb_1"
   ]
  },
  {
   "cell_type": "code",
   "execution_count": 479,
   "metadata": {},
   "outputs": [
    {
     "data": {
      "text/plain": [
       "ManyBody(onebodybasis=Subspace(superbasis=NLevel(N=9), states:4), states:10)"
      ]
     },
     "execution_count": 479,
     "metadata": {},
     "output_type": "execute_result"
    }
   ],
   "source": [
    "basis_mb_chern"
   ]
  },
  {
   "cell_type": "code",
   "execution_count": 480,
   "metadata": {},
   "outputs": [
    {
     "data": {
      "text/plain": [
       "Operator(dim=10x10)\n",
       "  basis: ManyBody(onebodybasis=Subspace(superbasis=NLevel(N=9), states:4), states:10)sparse([1, 2, 3, 4, 1, 2, 3, 4, 5, 6  …  4, 6, 7, 8, 9, 10, 4, 7, 9, 10], [1, 1, 1, 1, 2, 2, 2, 2, 2, 2  …  9, 9, 9, 9, 9, 9, 10, 10, 10, 10], ComplexF64[0.42915756146303874 + 0.7436686538025559im, -0.08739711547817258 + 0.1344494493114575im, -0.20133494094088228 - 0.4814627279491477im, -0.47093346522637386 + 0.30186684662240065im, -0.0968473596382531 + 0.2959991536959662im, 0.32781146398971456 + 0.37781885271196863im, -0.33954032149672964 - 0.39584187913280033im, -0.08777530896422397 - 0.40245422876562104im, -0.08739711547817258 + 0.1344494493114575im, -0.1423653020290909 - 0.3404455598214162im  …  0.01971633180227014 + 0.3607674389839818im, -0.11339071878698723 - 1.0e-17im, 0.25035952791853616 + 0.2691107904830582im, 0.2047466527237491 - 0.41129197918138793im, -0.3875390996190749 - 0.26898777586120903im, 0.14859323415750023 + 0.22281919400170477im, 0.6513035599602118 + 0.07532028475277946im, -0.16035869235579106 - 2.0e-17im, 0.2047466527237491 - 0.41129197918138793im, -0.43588580361175816 - 0.14337158075489967im], 10, 10)"
      ]
     },
     "execution_count": 480,
     "metadata": {},
     "output_type": "execute_result"
    }
   ],
   "source": [
    "U = get_mb_op(basis_mb_chern, P);\n",
    "U"
   ]
  },
  {
   "cell_type": "code",
   "execution_count": 481,
   "metadata": {},
   "outputs": [
    {
     "data": {
      "text/plain": [
       "Operator(dim=10x10)\n",
       "  basis: ManyBody(onebodybasis=Subspace(superbasis=NLevel(N=9), states:4), states:10)sparse([1, 2, 3, 4, 1, 2, 3, 4, 5, 6  …  4, 6, 7, 8, 9, 10, 4, 7, 9, 10], [1, 1, 1, 1, 2, 2, 2, 2, 2, 2  …  9, 9, 9, 9, 9, 9, 10, 10, 10, 10], ComplexF64[-4.926996420247963 + 0.0im, 0.00134270823140596 + 0.11126054702219568im, -0.00381295100379286 - 0.04436496728558008im, 0.17044065990036372 - 0.4032770492043352im, 0.00134270823140596 - 0.11126054702219568im, -5.01203421911295 + 0.0im, 0.0526624059637413 - 0.00388650655849825im, -0.3614849085582495 - 0.0806480741906912im, 0.00134270823140596 + 0.11126054702219568im, -0.00269616351111399 - 0.03137076921475302im  …  -0.00269616351111399 + 0.03137076921475302im, -0.3614849085582495 + 0.0806480741906912im, 0.0526624059637413 + 0.00388650655849825im, -0.04191760272075546 - 0.1801732331907797im, -1.6513224998360498 + 0.0im, -0.04191760272075546 + 0.1801732331907797im, 0.17044065990036372 + 0.4032770492043352im, -0.5112168602762746 + 0.11405360029974707im, -0.04191760272075546 - 0.1801732331907797im, 1.5727882497972463 + 0.0im], 10, 10)"
      ]
     },
     "execution_count": 481,
     "metadata": {},
     "output_type": "execute_result"
    }
   ],
   "source": [
    "H_mb_Chern_basis"
   ]
  },
  {
   "cell_type": "markdown",
   "metadata": {},
   "source": [
    "## Projected Non-Interacting Many Body"
   ]
  },
  {
   "cell_type": "code",
   "execution_count": 482,
   "metadata": {},
   "outputs": [],
   "source": [
    "EEA, UUA = calc_all_states_H_mb(param_dict);"
   ]
  },
  {
   "cell_type": "code",
   "execution_count": 483,
   "metadata": {},
   "outputs": [
    {
     "data": {
      "image/svg+xml": [
       "<?xml version=\"1.0\" encoding=\"utf-8\"?>\n",
       "<svg xmlns=\"http://www.w3.org/2000/svg\" xmlns:xlink=\"http://www.w3.org/1999/xlink\" width=\"600\" height=\"400\" viewBox=\"0 0 2400 1600\">\n",
       "<defs>\n",
       "  <clipPath id=\"clip100\">\n",
       "    <rect x=\"0\" y=\"0\" width=\"2400\" height=\"1600\"/>\n",
       "  </clipPath>\n",
       "</defs>\n",
       "<path clip-path=\"url(#clip100)\" d=\"M0 1600 L2400 1600 L2400 0 L0 0  Z\" fill=\"#ffffff\" fill-rule=\"evenodd\" fill-opacity=\"1\"/>\n",
       "<defs>\n",
       "  <clipPath id=\"clip101\">\n",
       "    <rect x=\"480\" y=\"0\" width=\"1681\" height=\"1600\"/>\n",
       "  </clipPath>\n",
       "</defs>\n",
       "<path clip-path=\"url(#clip100)\" d=\"M149.191 1486.45 L2352.76 1486.45 L2352.76 47.2441 L149.191 47.2441  Z\" fill=\"#ffffff\" fill-rule=\"evenodd\" fill-opacity=\"1\"/>\n",
       "<defs>\n",
       "  <clipPath id=\"clip102\">\n",
       "    <rect x=\"149\" y=\"47\" width=\"2205\" height=\"1440\"/>\n",
       "  </clipPath>\n",
       "</defs>\n",
       "<polyline clip-path=\"url(#clip102)\" style=\"stroke:#000000; stroke-linecap:round; stroke-linejoin:round; stroke-width:2; stroke-opacity:0.1; fill:none\" points=\"442.538,1486.45 442.538,47.2441 \"/>\n",
       "<polyline clip-path=\"url(#clip102)\" style=\"stroke:#000000; stroke-linecap:round; stroke-linejoin:round; stroke-width:2; stroke-opacity:0.1; fill:none\" points=\"904.501,1486.45 904.501,47.2441 \"/>\n",
       "<polyline clip-path=\"url(#clip102)\" style=\"stroke:#000000; stroke-linecap:round; stroke-linejoin:round; stroke-width:2; stroke-opacity:0.1; fill:none\" points=\"1366.46,1486.45 1366.46,47.2441 \"/>\n",
       "<polyline clip-path=\"url(#clip102)\" style=\"stroke:#000000; stroke-linecap:round; stroke-linejoin:round; stroke-width:2; stroke-opacity:0.1; fill:none\" points=\"1828.43,1486.45 1828.43,47.2441 \"/>\n",
       "<polyline clip-path=\"url(#clip102)\" style=\"stroke:#000000; stroke-linecap:round; stroke-linejoin:round; stroke-width:2; stroke-opacity:0.1; fill:none\" points=\"2290.39,1486.45 2290.39,47.2441 \"/>\n",
       "<polyline clip-path=\"url(#clip100)\" style=\"stroke:#000000; stroke-linecap:round; stroke-linejoin:round; stroke-width:4; stroke-opacity:1; fill:none\" points=\"149.191,1486.45 2352.76,1486.45 \"/>\n",
       "<polyline clip-path=\"url(#clip100)\" style=\"stroke:#000000; stroke-linecap:round; stroke-linejoin:round; stroke-width:4; stroke-opacity:1; fill:none\" points=\"442.538,1486.45 442.538,1467.55 \"/>\n",
       "<polyline clip-path=\"url(#clip100)\" style=\"stroke:#000000; stroke-linecap:round; stroke-linejoin:round; stroke-width:4; stroke-opacity:1; fill:none\" points=\"904.501,1486.45 904.501,1467.55 \"/>\n",
       "<polyline clip-path=\"url(#clip100)\" style=\"stroke:#000000; stroke-linecap:round; stroke-linejoin:round; stroke-width:4; stroke-opacity:1; fill:none\" points=\"1366.46,1486.45 1366.46,1467.55 \"/>\n",
       "<polyline clip-path=\"url(#clip100)\" style=\"stroke:#000000; stroke-linecap:round; stroke-linejoin:round; stroke-width:4; stroke-opacity:1; fill:none\" points=\"1828.43,1486.45 1828.43,1467.55 \"/>\n",
       "<polyline clip-path=\"url(#clip100)\" style=\"stroke:#000000; stroke-linecap:round; stroke-linejoin:round; stroke-width:4; stroke-opacity:1; fill:none\" points=\"2290.39,1486.45 2290.39,1467.55 \"/>\n",
       "<path clip-path=\"url(#clip100)\" d=\"M437.19 1544.91 L453.51 1544.91 L453.51 1548.85 L431.565 1548.85 L431.565 1544.91 Q434.227 1542.16 438.811 1537.53 Q443.417 1532.88 444.598 1531.53 Q446.843 1529.01 447.723 1527.27 Q448.626 1525.51 448.626 1523.82 Q448.626 1521.07 446.681 1519.33 Q444.76 1517.6 441.658 1517.6 Q439.459 1517.6 437.005 1518.36 Q434.575 1519.13 431.797 1520.68 L431.797 1515.95 Q434.621 1514.82 437.075 1514.24 Q439.528 1513.66 441.565 1513.66 Q446.936 1513.66 450.13 1516.35 Q453.325 1519.03 453.325 1523.52 Q453.325 1525.65 452.514 1527.57 Q451.727 1529.47 449.621 1532.07 Q449.042 1532.74 445.94 1535.95 Q442.838 1539.15 437.19 1544.91 Z\" fill=\"#000000\" fill-rule=\"nonzero\" fill-opacity=\"1\" /><path clip-path=\"url(#clip100)\" d=\"M907.51 1518.36 L895.705 1536.81 L907.51 1536.81 L907.51 1518.36 M906.283 1514.29 L912.163 1514.29 L912.163 1536.81 L917.093 1536.81 L917.093 1540.7 L912.163 1540.7 L912.163 1548.85 L907.51 1548.85 L907.51 1540.7 L891.908 1540.7 L891.908 1536.19 L906.283 1514.29 Z\" fill=\"#000000\" fill-rule=\"nonzero\" fill-opacity=\"1\" /><path clip-path=\"url(#clip100)\" d=\"M1366.87 1529.7 Q1363.72 1529.7 1361.87 1531.86 Q1360.04 1534.01 1360.04 1537.76 Q1360.04 1541.49 1361.87 1543.66 Q1363.72 1545.82 1366.87 1545.82 Q1370.02 1545.82 1371.85 1543.66 Q1373.7 1541.49 1373.7 1537.76 Q1373.7 1534.01 1371.85 1531.86 Q1370.02 1529.7 1366.87 1529.7 M1376.15 1515.05 L1376.15 1519.31 Q1374.39 1518.48 1372.59 1518.04 Q1370.8 1517.6 1369.05 1517.6 Q1364.42 1517.6 1361.96 1520.72 Q1359.53 1523.85 1359.18 1530.17 Q1360.55 1528.15 1362.61 1527.09 Q1364.67 1526 1367.15 1526 Q1372.36 1526 1375.36 1529.17 Q1378.4 1532.32 1378.4 1537.76 Q1378.4 1543.08 1375.25 1546.3 Q1372.1 1549.52 1366.87 1549.52 Q1360.87 1549.52 1357.7 1544.94 Q1354.53 1540.33 1354.53 1531.6 Q1354.53 1523.41 1358.42 1518.55 Q1362.31 1513.66 1368.86 1513.66 Q1370.62 1513.66 1372.4 1514.01 Q1374.21 1514.36 1376.15 1515.05 Z\" fill=\"#000000\" fill-rule=\"nonzero\" fill-opacity=\"1\" /><path clip-path=\"url(#clip100)\" d=\"M1828.43 1532.44 Q1825.09 1532.44 1823.17 1534.22 Q1821.27 1536 1821.27 1539.13 Q1821.27 1542.25 1823.17 1544.03 Q1825.09 1545.82 1828.43 1545.82 Q1831.76 1545.82 1833.68 1544.03 Q1835.6 1542.23 1835.6 1539.13 Q1835.6 1536 1833.68 1534.22 Q1831.78 1532.44 1828.43 1532.44 M1823.75 1530.45 Q1820.74 1529.7 1819.05 1527.64 Q1817.39 1525.58 1817.39 1522.62 Q1817.39 1518.48 1820.33 1516.07 Q1823.29 1513.66 1828.43 1513.66 Q1833.59 1513.66 1836.53 1516.07 Q1839.47 1518.48 1839.47 1522.62 Q1839.47 1525.58 1837.78 1527.64 Q1836.11 1529.7 1833.13 1530.45 Q1836.51 1531.23 1838.38 1533.52 Q1840.28 1535.82 1840.28 1539.13 Q1840.28 1544.15 1837.2 1546.83 Q1834.15 1549.52 1828.43 1549.52 Q1822.71 1549.52 1819.63 1546.83 Q1816.58 1544.15 1816.58 1539.13 Q1816.58 1535.82 1818.47 1533.52 Q1820.37 1531.23 1823.75 1530.45 M1822.04 1523.06 Q1822.04 1525.75 1823.71 1527.25 Q1825.4 1528.76 1828.43 1528.76 Q1831.44 1528.76 1833.13 1527.25 Q1834.84 1525.75 1834.84 1523.06 Q1834.84 1520.38 1833.13 1518.87 Q1831.44 1517.37 1828.43 1517.37 Q1825.4 1517.37 1823.71 1518.87 Q1822.04 1520.38 1822.04 1523.06 Z\" fill=\"#000000\" fill-rule=\"nonzero\" fill-opacity=\"1\" /><path clip-path=\"url(#clip100)\" d=\"M2265.08 1544.91 L2272.72 1544.91 L2272.72 1518.55 L2264.41 1520.21 L2264.41 1515.95 L2272.67 1514.29 L2277.35 1514.29 L2277.35 1544.91 L2284.99 1544.91 L2284.99 1548.85 L2265.08 1548.85 L2265.08 1544.91 Z\" fill=\"#000000\" fill-rule=\"nonzero\" fill-opacity=\"1\" /><path clip-path=\"url(#clip100)\" d=\"M2304.43 1517.37 Q2300.82 1517.37 2298.99 1520.93 Q2297.18 1524.47 2297.18 1531.6 Q2297.18 1538.71 2298.99 1542.27 Q2300.82 1545.82 2304.43 1545.82 Q2308.06 1545.82 2309.87 1542.27 Q2311.7 1538.71 2311.7 1531.6 Q2311.7 1524.47 2309.87 1520.93 Q2308.06 1517.37 2304.43 1517.37 M2304.43 1513.66 Q2310.24 1513.66 2313.3 1518.27 Q2316.37 1522.85 2316.37 1531.6 Q2316.37 1540.33 2313.3 1544.94 Q2310.24 1549.52 2304.43 1549.52 Q2298.62 1549.52 2295.54 1544.94 Q2292.49 1540.33 2292.49 1531.6 Q2292.49 1522.85 2295.54 1518.27 Q2298.62 1513.66 2304.43 1513.66 Z\" fill=\"#000000\" fill-rule=\"nonzero\" fill-opacity=\"1\" /><polyline clip-path=\"url(#clip102)\" style=\"stroke:#000000; stroke-linecap:round; stroke-linejoin:round; stroke-width:2; stroke-opacity:0.1; fill:none\" points=\"149.191,1372.32 2352.76,1372.32 \"/>\n",
       "<polyline clip-path=\"url(#clip102)\" style=\"stroke:#000000; stroke-linecap:round; stroke-linejoin:round; stroke-width:2; stroke-opacity:0.1; fill:none\" points=\"149.191,1177.49 2352.76,1177.49 \"/>\n",
       "<polyline clip-path=\"url(#clip102)\" style=\"stroke:#000000; stroke-linecap:round; stroke-linejoin:round; stroke-width:2; stroke-opacity:0.1; fill:none\" points=\"149.191,982.656 2352.76,982.656 \"/>\n",
       "<polyline clip-path=\"url(#clip102)\" style=\"stroke:#000000; stroke-linecap:round; stroke-linejoin:round; stroke-width:2; stroke-opacity:0.1; fill:none\" points=\"149.191,787.824 2352.76,787.824 \"/>\n",
       "<polyline clip-path=\"url(#clip102)\" style=\"stroke:#000000; stroke-linecap:round; stroke-linejoin:round; stroke-width:2; stroke-opacity:0.1; fill:none\" points=\"149.191,592.991 2352.76,592.991 \"/>\n",
       "<polyline clip-path=\"url(#clip102)\" style=\"stroke:#000000; stroke-linecap:round; stroke-linejoin:round; stroke-width:2; stroke-opacity:0.1; fill:none\" points=\"149.191,398.158 2352.76,398.158 \"/>\n",
       "<polyline clip-path=\"url(#clip102)\" style=\"stroke:#000000; stroke-linecap:round; stroke-linejoin:round; stroke-width:2; stroke-opacity:0.1; fill:none\" points=\"149.191,203.325 2352.76,203.325 \"/>\n",
       "<polyline clip-path=\"url(#clip100)\" style=\"stroke:#000000; stroke-linecap:round; stroke-linejoin:round; stroke-width:4; stroke-opacity:1; fill:none\" points=\"149.191,1486.45 149.191,47.2441 \"/>\n",
       "<polyline clip-path=\"url(#clip100)\" style=\"stroke:#000000; stroke-linecap:round; stroke-linejoin:round; stroke-width:4; stroke-opacity:1; fill:none\" points=\"149.191,1372.32 168.089,1372.32 \"/>\n",
       "<polyline clip-path=\"url(#clip100)\" style=\"stroke:#000000; stroke-linecap:round; stroke-linejoin:round; stroke-width:4; stroke-opacity:1; fill:none\" points=\"149.191,1177.49 168.089,1177.49 \"/>\n",
       "<polyline clip-path=\"url(#clip100)\" style=\"stroke:#000000; stroke-linecap:round; stroke-linejoin:round; stroke-width:4; stroke-opacity:1; fill:none\" points=\"149.191,982.656 168.089,982.656 \"/>\n",
       "<polyline clip-path=\"url(#clip100)\" style=\"stroke:#000000; stroke-linecap:round; stroke-linejoin:round; stroke-width:4; stroke-opacity:1; fill:none\" points=\"149.191,787.824 168.089,787.824 \"/>\n",
       "<polyline clip-path=\"url(#clip100)\" style=\"stroke:#000000; stroke-linecap:round; stroke-linejoin:round; stroke-width:4; stroke-opacity:1; fill:none\" points=\"149.191,592.991 168.089,592.991 \"/>\n",
       "<polyline clip-path=\"url(#clip100)\" style=\"stroke:#000000; stroke-linecap:round; stroke-linejoin:round; stroke-width:4; stroke-opacity:1; fill:none\" points=\"149.191,398.158 168.089,398.158 \"/>\n",
       "<polyline clip-path=\"url(#clip100)\" style=\"stroke:#000000; stroke-linecap:round; stroke-linejoin:round; stroke-width:4; stroke-opacity:1; fill:none\" points=\"149.191,203.325 168.089,203.325 \"/>\n",
       "<path clip-path=\"url(#clip100)\" d=\"M52.4736 1372.77 L82.1494 1372.77 L82.1494 1376.71 L52.4736 1376.71 L52.4736 1372.77 Z\" fill=\"#000000\" fill-rule=\"nonzero\" fill-opacity=\"1\" /><path clip-path=\"url(#clip100)\" d=\"M92.2882 1355.04 L110.645 1355.04 L110.645 1358.98 L96.5706 1358.98 L96.5706 1367.45 Q97.5891 1367.1 98.6076 1366.94 Q99.6261 1366.75 100.645 1366.75 Q106.432 1366.75 109.811 1369.93 Q113.191 1373.1 113.191 1378.51 Q113.191 1384.09 109.719 1387.19 Q106.246 1390.27 99.927 1390.27 Q97.7511 1390.27 95.4826 1389.9 Q93.2373 1389.53 90.8299 1388.79 L90.8299 1384.09 Q92.9132 1385.23 95.1354 1385.78 Q97.3576 1386.34 99.8345 1386.34 Q103.839 1386.34 106.177 1384.23 Q108.515 1382.13 108.515 1378.51 Q108.515 1374.9 106.177 1372.8 Q103.839 1370.69 99.8345 1370.69 Q97.9595 1370.69 96.0845 1371.11 Q94.2326 1371.52 92.2882 1372.4 L92.2882 1355.04 Z\" fill=\"#000000\" fill-rule=\"nonzero\" fill-opacity=\"1\" /><path clip-path=\"url(#clip100)\" d=\"M50.9921 1177.94 L80.6679 1177.94 L80.6679 1181.88 L50.9921 1181.88 L50.9921 1177.94 Z\" fill=\"#000000\" fill-rule=\"nonzero\" fill-opacity=\"1\" /><path clip-path=\"url(#clip100)\" d=\"M103.608 1164.28 L91.8021 1182.73 L103.608 1182.73 L103.608 1164.28 M102.381 1160.21 L108.26 1160.21 L108.26 1182.73 L113.191 1182.73 L113.191 1186.62 L108.26 1186.62 L108.26 1194.77 L103.608 1194.77 L103.608 1186.62 L88.0058 1186.62 L88.0058 1182.11 L102.381 1160.21 Z\" fill=\"#000000\" fill-rule=\"nonzero\" fill-opacity=\"1\" /><path clip-path=\"url(#clip100)\" d=\"M52.1264 983.108 L81.8021 983.108 L81.8021 987.043 L52.1264 987.043 L52.1264 983.108 Z\" fill=\"#000000\" fill-rule=\"nonzero\" fill-opacity=\"1\" /><path clip-path=\"url(#clip100)\" d=\"M106.061 981.302 Q109.418 982.02 111.293 984.288 Q113.191 986.557 113.191 989.89 Q113.191 995.006 109.672 997.807 Q106.154 1000.61 99.6724 1000.61 Q97.4965 1000.61 95.1817 1000.17 Q92.89 999.751 90.4364 998.895 L90.4364 994.381 Q92.3808 995.515 94.6956 996.094 Q97.0104 996.672 99.5335 996.672 Q103.932 996.672 106.223 994.936 Q108.538 993.2 108.538 989.89 Q108.538 986.835 106.385 985.122 Q104.256 983.386 100.436 983.386 L96.4085 983.386 L96.4085 979.543 L100.621 979.543 Q104.071 979.543 105.899 978.177 Q107.728 976.788 107.728 974.196 Q107.728 971.534 105.83 970.122 Q103.955 968.687 100.436 968.687 Q98.515 968.687 96.316 969.103 Q94.1169 969.52 91.478 970.399 L91.478 966.233 Q94.14 965.492 96.4548 965.122 Q98.7928 964.751 100.853 964.751 Q106.177 964.751 109.279 967.182 Q112.381 969.589 112.381 973.71 Q112.381 976.58 110.737 978.571 Q109.094 980.538 106.061 981.302 Z\" fill=\"#000000\" fill-rule=\"nonzero\" fill-opacity=\"1\" /><path clip-path=\"url(#clip100)\" d=\"M53.0754 788.275 L82.7512 788.275 L82.7512 792.21 L53.0754 792.21 L53.0754 788.275 Z\" fill=\"#000000\" fill-rule=\"nonzero\" fill-opacity=\"1\" /><path clip-path=\"url(#clip100)\" d=\"M96.8715 801.168 L113.191 801.168 L113.191 805.104 L91.2465 805.104 L91.2465 801.168 Q93.9086 798.414 98.4919 793.784 Q103.098 789.131 104.279 787.789 Q106.524 785.266 107.404 783.53 Q108.307 781.77 108.307 780.081 Q108.307 777.326 106.362 775.59 Q104.441 773.854 101.339 773.854 Q99.14 773.854 96.6863 774.618 Q94.2558 775.381 91.478 776.932 L91.478 772.21 Q94.3021 771.076 96.7558 770.497 Q99.2095 769.919 101.246 769.919 Q106.617 769.919 109.811 772.604 Q113.006 775.289 113.006 779.78 Q113.006 781.909 112.196 783.831 Q111.408 785.729 109.302 788.321 Q108.723 788.993 105.621 792.21 Q102.52 795.405 96.8715 801.168 Z\" fill=\"#000000\" fill-rule=\"nonzero\" fill-opacity=\"1\" /><path clip-path=\"url(#clip100)\" d=\"M52.7051 593.442 L82.3808 593.442 L82.3808 597.377 L52.7051 597.377 L52.7051 593.442 Z\" fill=\"#000000\" fill-rule=\"nonzero\" fill-opacity=\"1\" /><path clip-path=\"url(#clip100)\" d=\"M93.2836 606.336 L100.922 606.336 L100.922 579.97 L92.6123 581.637 L92.6123 577.377 L100.876 575.711 L105.552 575.711 L105.552 606.336 L113.191 606.336 L113.191 610.271 L93.2836 610.271 L93.2836 606.336 Z\" fill=\"#000000\" fill-rule=\"nonzero\" fill-opacity=\"1\" /><path clip-path=\"url(#clip100)\" d=\"M101.246 383.957 Q97.6354 383.957 95.8067 387.521 Q94.0012 391.063 94.0012 398.193 Q94.0012 405.299 95.8067 408.864 Q97.6354 412.406 101.246 412.406 Q104.881 412.406 106.686 408.864 Q108.515 405.299 108.515 398.193 Q108.515 391.063 106.686 387.521 Q104.881 383.957 101.246 383.957 M101.246 380.253 Q107.057 380.253 110.112 384.859 Q113.191 389.443 113.191 398.193 Q113.191 406.919 110.112 411.526 Q107.057 416.109 101.246 416.109 Q95.4363 416.109 92.3576 411.526 Q89.3021 406.919 89.3021 398.193 Q89.3021 389.443 92.3576 384.859 Q95.4363 380.253 101.246 380.253 Z\" fill=\"#000000\" fill-rule=\"nonzero\" fill-opacity=\"1\" /><path clip-path=\"url(#clip100)\" d=\"M93.2836 216.67 L100.922 216.67 L100.922 190.304 L92.6123 191.971 L92.6123 187.712 L100.876 186.045 L105.552 186.045 L105.552 216.67 L113.191 216.67 L113.191 220.605 L93.2836 220.605 L93.2836 216.67 Z\" fill=\"#000000\" fill-rule=\"nonzero\" fill-opacity=\"1\" /><circle clip-path=\"url(#clip102)\" cx=\"211.556\" cy=\"1445.72\" r=\"14.4\" fill=\"#009af9\" fill-rule=\"evenodd\" fill-opacity=\"1\" stroke=\"#000000\" stroke-opacity=\"1\" stroke-width=\"3.2\"/>\n",
       "<circle clip-path=\"url(#clip102)\" cx=\"442.538\" cy=\"1434.63\" r=\"14.4\" fill=\"#009af9\" fill-rule=\"evenodd\" fill-opacity=\"1\" stroke=\"#000000\" stroke-opacity=\"1\" stroke-width=\"3.2\"/>\n",
       "<circle clip-path=\"url(#clip102)\" cx=\"673.519\" cy=\"1423.55\" r=\"14.4\" fill=\"#009af9\" fill-rule=\"evenodd\" fill-opacity=\"1\" stroke=\"#000000\" stroke-opacity=\"1\" stroke-width=\"3.2\"/>\n",
       "<circle clip-path=\"url(#clip102)\" cx=\"904.501\" cy=\"1403.66\" r=\"14.4\" fill=\"#009af9\" fill-rule=\"evenodd\" fill-opacity=\"1\" stroke=\"#000000\" stroke-opacity=\"1\" stroke-width=\"3.2\"/>\n",
       "<circle clip-path=\"url(#clip102)\" cx=\"1135.48\" cy=\"1392.58\" r=\"14.4\" fill=\"#009af9\" fill-rule=\"evenodd\" fill-opacity=\"1\" stroke=\"#000000\" stroke-opacity=\"1\" stroke-width=\"3.2\"/>\n",
       "<circle clip-path=\"url(#clip102)\" cx=\"1366.46\" cy=\"1361.61\" r=\"14.4\" fill=\"#009af9\" fill-rule=\"evenodd\" fill-opacity=\"1\" stroke=\"#000000\" stroke-opacity=\"1\" stroke-width=\"3.2\"/>\n",
       "<circle clip-path=\"url(#clip102)\" cx=\"1597.45\" cy=\"766.846\" r=\"14.4\" fill=\"#009af9\" fill-rule=\"evenodd\" fill-opacity=\"1\" stroke=\"#000000\" stroke-opacity=\"1\" stroke-width=\"3.2\"/>\n",
       "<circle clip-path=\"url(#clip102)\" cx=\"1828.43\" cy=\"755.764\" r=\"14.4\" fill=\"#009af9\" fill-rule=\"evenodd\" fill-opacity=\"1\" stroke=\"#000000\" stroke-opacity=\"1\" stroke-width=\"3.2\"/>\n",
       "<circle clip-path=\"url(#clip102)\" cx=\"2059.41\" cy=\"724.792\" r=\"14.4\" fill=\"#009af9\" fill-rule=\"evenodd\" fill-opacity=\"1\" stroke=\"#000000\" stroke-opacity=\"1\" stroke-width=\"3.2\"/>\n",
       "<circle clip-path=\"url(#clip102)\" cx=\"2290.39\" cy=\"87.9763\" r=\"14.4\" fill=\"#009af9\" fill-rule=\"evenodd\" fill-opacity=\"1\" stroke=\"#000000\" stroke-opacity=\"1\" stroke-width=\"3.2\"/>\n",
       "<path clip-path=\"url(#clip100)\" d=\"M222.643 198.898 L495.43 198.898 L495.43 95.2176 L222.643 95.2176  Z\" fill=\"#ffffff\" fill-rule=\"evenodd\" fill-opacity=\"1\"/>\n",
       "<polyline clip-path=\"url(#clip100)\" style=\"stroke:#000000; stroke-linecap:round; stroke-linejoin:round; stroke-width:4; stroke-opacity:1; fill:none\" points=\"222.643,198.898 495.43,198.898 495.43,95.2176 222.643,95.2176 222.643,198.898 \"/>\n",
       "<circle clip-path=\"url(#clip100)\" cx=\"320.579\" cy=\"147.058\" r=\"20.48\" fill=\"#009af9\" fill-rule=\"evenodd\" fill-opacity=\"1\" stroke=\"#000000\" stroke-opacity=\"1\" stroke-width=\"4.55111\"/>\n",
       "<path clip-path=\"url(#clip100)\" d=\"M432.358 166.745 Q430.552 171.375 428.84 172.787 Q427.127 174.199 424.256 174.199 L420.853 174.199 L420.853 170.634 L423.353 170.634 Q425.113 170.634 426.085 169.8 Q427.057 168.967 428.238 165.865 L429.002 163.921 L418.515 138.412 L423.029 138.412 L431.131 158.689 L439.233 138.412 L443.747 138.412 L432.358 166.745 Z\" fill=\"#000000\" fill-rule=\"nonzero\" fill-opacity=\"1\" /><path clip-path=\"url(#clip100)\" d=\"M451.038 160.402 L458.677 160.402 L458.677 134.037 L450.367 135.703 L450.367 131.444 L458.631 129.778 L463.307 129.778 L463.307 160.402 L470.946 160.402 L470.946 164.338 L451.038 164.338 L451.038 160.402 Z\" fill=\"#000000\" fill-rule=\"nonzero\" fill-opacity=\"1\" /></svg>\n"
      ]
     },
     "execution_count": 483,
     "metadata": {},
     "output_type": "execute_result"
    }
   ],
   "source": [
    "scatter(EEA[1,1,:])#, ylimits=(-6,-4))"
   ]
  },
  {
   "cell_type": "markdown",
   "metadata": {},
   "source": [
    "### Projected Many Body Chern"
   ]
  },
  {
   "cell_type": "code",
   "execution_count": 484,
   "metadata": {},
   "outputs": [
    {
     "data": {
      "text/plain": [
       "1-element Vector{Any}:\n",
       " 0.9999999999999999 + 2.684637978167788e-17im"
      ]
     },
     "execution_count": 484,
     "metadata": {},
     "output_type": "execute_result"
    }
   ],
   "source": [
    "#bands = [[1,6], [7,15], [16,21]]\n",
    "#bands = [[1,3], [4,6]]\n",
    "#bands = [[1,3]]\n",
    "bands = [[1,6]]\n",
    "#bands = [[1,5],[6,10],[11,15]]\n",
    "#bands = [[1,5]]\n",
    "Chern, F12list = calc_chern_bands(UUA, bands);\n",
    "Chern"
   ]
  },
  {
   "cell_type": "code",
   "execution_count": 485,
   "metadata": {},
   "outputs": [
    {
     "data": {
      "image/svg+xml": [
       "<?xml version=\"1.0\" encoding=\"utf-8\"?>\n",
       "<svg xmlns=\"http://www.w3.org/2000/svg\" xmlns:xlink=\"http://www.w3.org/1999/xlink\" width=\"600\" height=\"400\" viewBox=\"0 0 2400 1600\">\n",
       "<defs>\n",
       "  <clipPath id=\"clip140\">\n",
       "    <rect x=\"0\" y=\"0\" width=\"2400\" height=\"1600\"/>\n",
       "  </clipPath>\n",
       "</defs>\n",
       "<path clip-path=\"url(#clip140)\" d=\"M0 1600 L2400 1600 L2400 0 L0 0  Z\" fill=\"#ffffff\" fill-rule=\"evenodd\" fill-opacity=\"1\"/>\n",
       "<defs>\n",
       "  <clipPath id=\"clip141\">\n",
       "    <rect x=\"480\" y=\"0\" width=\"1681\" height=\"1600\"/>\n",
       "  </clipPath>\n",
       "</defs>\n",
       "<path clip-path=\"url(#clip140)\" d=\"M112.177 1409.37 L2112.76 1409.37 L2112.76 124.324 L112.177 124.324  Z\" fill=\"#ffffff\" fill-rule=\"evenodd\" fill-opacity=\"1\"/>\n",
       "<defs>\n",
       "  <clipPath id=\"clip142\">\n",
       "    <rect x=\"112\" y=\"124\" width=\"2002\" height=\"1286\"/>\n",
       "  </clipPath>\n",
       "</defs>\n",
       "<polyline clip-path=\"url(#clip142)\" style=\"stroke:#000000; stroke-linecap:round; stroke-linejoin:round; stroke-width:2; stroke-opacity:0.1; fill:none\" points=\"502.071,1409.37 502.071,124.324 \"/>\n",
       "<polyline clip-path=\"url(#clip142)\" style=\"stroke:#000000; stroke-linecap:round; stroke-linejoin:round; stroke-width:2; stroke-opacity:0.1; fill:none\" points=\"911.113,1409.37 911.113,124.324 \"/>\n",
       "<polyline clip-path=\"url(#clip142)\" style=\"stroke:#000000; stroke-linecap:round; stroke-linejoin:round; stroke-width:2; stroke-opacity:0.1; fill:none\" points=\"1320.15,1409.37 1320.15,124.324 \"/>\n",
       "<polyline clip-path=\"url(#clip142)\" style=\"stroke:#000000; stroke-linecap:round; stroke-linejoin:round; stroke-width:2; stroke-opacity:0.1; fill:none\" points=\"1729.2,1409.37 1729.2,124.324 \"/>\n",
       "<polyline clip-path=\"url(#clip140)\" style=\"stroke:#000000; stroke-linecap:round; stroke-linejoin:round; stroke-width:4; stroke-opacity:1; fill:none\" points=\"112.177,1409.37 2112.76,1409.37 \"/>\n",
       "<polyline clip-path=\"url(#clip140)\" style=\"stroke:#000000; stroke-linecap:round; stroke-linejoin:round; stroke-width:4; stroke-opacity:1; fill:none\" points=\"502.071,1409.37 502.071,1392.49 \"/>\n",
       "<polyline clip-path=\"url(#clip140)\" style=\"stroke:#000000; stroke-linecap:round; stroke-linejoin:round; stroke-width:4; stroke-opacity:1; fill:none\" points=\"911.113,1409.37 911.113,1392.49 \"/>\n",
       "<polyline clip-path=\"url(#clip140)\" style=\"stroke:#000000; stroke-linecap:round; stroke-linejoin:round; stroke-width:4; stroke-opacity:1; fill:none\" points=\"1320.15,1409.37 1320.15,1392.49 \"/>\n",
       "<polyline clip-path=\"url(#clip140)\" style=\"stroke:#000000; stroke-linecap:round; stroke-linejoin:round; stroke-width:4; stroke-opacity:1; fill:none\" points=\"1729.2,1409.37 1729.2,1392.49 \"/>\n",
       "<path clip-path=\"url(#clip140)\" d=\"M502.071 1440.29 Q498.46 1440.29 496.631 1443.85 Q494.826 1447.39 494.826 1454.52 Q494.826 1461.63 496.631 1465.19 Q498.46 1468.74 502.071 1468.74 Q505.705 1468.74 507.511 1465.19 Q509.339 1461.63 509.339 1454.52 Q509.339 1447.39 507.511 1443.85 Q505.705 1440.29 502.071 1440.29 M502.071 1436.58 Q507.881 1436.58 510.937 1441.19 Q514.015 1445.77 514.015 1454.52 Q514.015 1463.25 510.937 1467.86 Q507.881 1472.44 502.071 1472.44 Q496.261 1472.44 493.182 1467.86 Q490.127 1463.25 490.127 1454.52 Q490.127 1445.77 493.182 1441.19 Q496.261 1436.58 502.071 1436.58 Z\" fill=\"#000000\" fill-rule=\"nonzero\" fill-opacity=\"1\" /><path clip-path=\"url(#clip140)\" d=\"M905.766 1467.83 L922.085 1467.83 L922.085 1471.77 L900.141 1471.77 L900.141 1467.83 Q902.803 1465.08 907.386 1460.45 Q911.993 1455.8 913.173 1454.45 Q915.419 1451.93 916.298 1450.19 Q917.201 1448.43 917.201 1446.74 Q917.201 1443.99 915.256 1442.25 Q913.335 1440.52 910.233 1440.52 Q908.034 1440.52 905.581 1441.28 Q903.15 1442.05 900.372 1443.6 L900.372 1438.87 Q903.196 1437.74 905.65 1437.16 Q908.104 1436.58 910.141 1436.58 Q915.511 1436.58 918.706 1439.27 Q921.9 1441.95 921.9 1446.44 Q921.9 1448.57 921.09 1450.49 Q920.303 1452.39 918.196 1454.99 Q917.618 1455.66 914.516 1458.87 Q911.414 1462.07 905.766 1467.83 Z\" fill=\"#000000\" fill-rule=\"nonzero\" fill-opacity=\"1\" /><path clip-path=\"url(#clip140)\" d=\"M1323.16 1441.28 L1311.36 1459.73 L1323.16 1459.73 L1323.16 1441.28 M1321.94 1437.21 L1327.82 1437.21 L1327.82 1459.73 L1332.75 1459.73 L1332.75 1463.62 L1327.82 1463.62 L1327.82 1471.77 L1323.16 1471.77 L1323.16 1463.62 L1307.56 1463.62 L1307.56 1459.11 L1321.94 1437.21 Z\" fill=\"#000000\" fill-rule=\"nonzero\" fill-opacity=\"1\" /><path clip-path=\"url(#clip140)\" d=\"M1729.6 1452.62 Q1726.45 1452.62 1724.6 1454.78 Q1722.77 1456.93 1722.77 1460.68 Q1722.77 1464.41 1724.6 1466.58 Q1726.45 1468.74 1729.6 1468.74 Q1732.75 1468.74 1734.58 1466.58 Q1736.43 1464.41 1736.43 1460.68 Q1736.43 1456.93 1734.58 1454.78 Q1732.75 1452.62 1729.6 1452.62 M1738.88 1437.97 L1738.88 1442.23 Q1737.13 1441.4 1735.32 1440.96 Q1733.54 1440.52 1731.78 1440.52 Q1727.15 1440.52 1724.69 1443.64 Q1722.26 1446.77 1721.92 1453.09 Q1723.28 1451.07 1725.34 1450.01 Q1727.4 1448.92 1729.88 1448.92 Q1735.09 1448.92 1738.1 1452.09 Q1741.13 1455.24 1741.13 1460.68 Q1741.13 1466 1737.98 1469.22 Q1734.83 1472.44 1729.6 1472.44 Q1723.61 1472.44 1720.44 1467.86 Q1717.26 1463.25 1717.26 1454.52 Q1717.26 1446.33 1721.15 1441.47 Q1725.04 1436.58 1731.59 1436.58 Q1733.35 1436.58 1735.13 1436.93 Q1736.94 1437.28 1738.88 1437.97 Z\" fill=\"#000000\" fill-rule=\"nonzero\" fill-opacity=\"1\" /><polyline clip-path=\"url(#clip142)\" style=\"stroke:#000000; stroke-linecap:round; stroke-linejoin:round; stroke-width:2; stroke-opacity:0.1; fill:none\" points=\"112.177,1377.24 2112.76,1377.24 \"/>\n",
       "<polyline clip-path=\"url(#clip142)\" style=\"stroke:#000000; stroke-linecap:round; stroke-linejoin:round; stroke-width:2; stroke-opacity:0.1; fill:none\" points=\"112.177,1172.72 2112.76,1172.72 \"/>\n",
       "<polyline clip-path=\"url(#clip142)\" style=\"stroke:#000000; stroke-linecap:round; stroke-linejoin:round; stroke-width:2; stroke-opacity:0.1; fill:none\" points=\"112.177,968.2 2112.76,968.2 \"/>\n",
       "<polyline clip-path=\"url(#clip142)\" style=\"stroke:#000000; stroke-linecap:round; stroke-linejoin:round; stroke-width:2; stroke-opacity:0.1; fill:none\" points=\"112.177,763.679 2112.76,763.679 \"/>\n",
       "<polyline clip-path=\"url(#clip142)\" style=\"stroke:#000000; stroke-linecap:round; stroke-linejoin:round; stroke-width:2; stroke-opacity:0.1; fill:none\" points=\"112.177,559.158 2112.76,559.158 \"/>\n",
       "<polyline clip-path=\"url(#clip142)\" style=\"stroke:#000000; stroke-linecap:round; stroke-linejoin:round; stroke-width:2; stroke-opacity:0.1; fill:none\" points=\"112.177,354.637 2112.76,354.637 \"/>\n",
       "<polyline clip-path=\"url(#clip142)\" style=\"stroke:#000000; stroke-linecap:round; stroke-linejoin:round; stroke-width:2; stroke-opacity:0.1; fill:none\" points=\"112.177,150.116 2112.76,150.116 \"/>\n",
       "<polyline clip-path=\"url(#clip140)\" style=\"stroke:#000000; stroke-linecap:round; stroke-linejoin:round; stroke-width:4; stroke-opacity:1; fill:none\" points=\"112.177,1409.37 112.177,124.324 \"/>\n",
       "<polyline clip-path=\"url(#clip140)\" style=\"stroke:#000000; stroke-linecap:round; stroke-linejoin:round; stroke-width:4; stroke-opacity:1; fill:none\" points=\"112.177,1377.24 129.051,1377.24 \"/>\n",
       "<polyline clip-path=\"url(#clip140)\" style=\"stroke:#000000; stroke-linecap:round; stroke-linejoin:round; stroke-width:4; stroke-opacity:1; fill:none\" points=\"112.177,1172.72 129.051,1172.72 \"/>\n",
       "<polyline clip-path=\"url(#clip140)\" style=\"stroke:#000000; stroke-linecap:round; stroke-linejoin:round; stroke-width:4; stroke-opacity:1; fill:none\" points=\"112.177,968.2 129.051,968.2 \"/>\n",
       "<polyline clip-path=\"url(#clip140)\" style=\"stroke:#000000; stroke-linecap:round; stroke-linejoin:round; stroke-width:4; stroke-opacity:1; fill:none\" points=\"112.177,763.679 129.051,763.679 \"/>\n",
       "<polyline clip-path=\"url(#clip140)\" style=\"stroke:#000000; stroke-linecap:round; stroke-linejoin:round; stroke-width:4; stroke-opacity:1; fill:none\" points=\"112.177,559.158 129.051,559.158 \"/>\n",
       "<polyline clip-path=\"url(#clip140)\" style=\"stroke:#000000; stroke-linecap:round; stroke-linejoin:round; stroke-width:4; stroke-opacity:1; fill:none\" points=\"112.177,354.637 129.051,354.637 \"/>\n",
       "<polyline clip-path=\"url(#clip140)\" style=\"stroke:#000000; stroke-linecap:round; stroke-linejoin:round; stroke-width:4; stroke-opacity:1; fill:none\" points=\"112.177,150.116 129.051,150.116 \"/>\n",
       "<path clip-path=\"url(#clip140)\" d=\"M64.2328 1363.04 Q60.6217 1363.04 58.793 1366.6 Q56.9875 1370.15 56.9875 1377.28 Q56.9875 1384.38 58.793 1387.95 Q60.6217 1391.49 64.2328 1391.49 Q67.867 1391.49 69.6726 1387.95 Q71.5013 1384.38 71.5013 1377.28 Q71.5013 1370.15 69.6726 1366.6 Q67.867 1363.04 64.2328 1363.04 M64.2328 1359.34 Q70.0429 1359.34 73.0985 1363.94 Q76.1772 1368.53 76.1772 1377.28 Q76.1772 1386 73.0985 1390.61 Q70.0429 1395.19 64.2328 1395.19 Q58.4226 1395.19 55.344 1390.61 Q52.2884 1386 52.2884 1377.28 Q52.2884 1368.53 55.344 1363.94 Q58.4226 1359.34 64.2328 1359.34 Z\" fill=\"#000000\" fill-rule=\"nonzero\" fill-opacity=\"1\" /><path clip-path=\"url(#clip140)\" d=\"M56.2699 1186.07 L63.9087 1186.07 L63.9087 1159.7 L55.5986 1161.37 L55.5986 1157.11 L63.8624 1155.44 L68.5383 1155.44 L68.5383 1186.07 L76.1772 1186.07 L76.1772 1190 L56.2699 1190 L56.2699 1186.07 Z\" fill=\"#000000\" fill-rule=\"nonzero\" fill-opacity=\"1\" /><path clip-path=\"url(#clip140)\" d=\"M59.8578 981.544 L76.1772 981.544 L76.1772 985.48 L54.2328 985.48 L54.2328 981.544 Q56.8949 978.79 61.4782 974.16 Q66.0846 969.507 67.2652 968.165 Q69.5105 965.642 70.3902 963.906 Q71.2929 962.146 71.2929 960.457 Q71.2929 957.702 69.3485 955.966 Q67.4272 954.23 64.3254 954.23 Q62.1263 954.23 59.6726 954.994 Q57.2421 955.757 54.4643 957.308 L54.4643 952.586 Q57.2884 951.452 59.7421 950.873 Q62.1958 950.295 64.2328 950.295 Q69.6031 950.295 72.7976 952.98 Q75.992 955.665 75.992 960.156 Q75.992 962.285 75.1818 964.207 Q74.3948 966.105 72.2883 968.697 Q71.7096 969.369 68.6078 972.586 Q65.5059 975.781 59.8578 981.544 Z\" fill=\"#000000\" fill-rule=\"nonzero\" fill-opacity=\"1\" /><path clip-path=\"url(#clip140)\" d=\"M69.0476 762.324 Q72.404 763.042 74.279 765.311 Q76.1772 767.579 76.1772 770.912 Q76.1772 776.028 72.6587 778.829 Q69.1402 781.63 62.6587 781.63 Q60.4828 781.63 58.168 781.19 Q55.8764 780.773 53.4227 779.917 L53.4227 775.403 Q55.3671 776.537 57.6819 777.116 Q59.9967 777.695 62.5198 777.695 Q66.918 777.695 69.2096 775.959 Q71.5244 774.222 71.5244 770.912 Q71.5244 767.857 69.3717 766.144 Q67.242 764.408 63.4226 764.408 L59.3949 764.408 L59.3949 760.565 L63.6078 760.565 Q67.0569 760.565 68.8855 759.199 Q70.7142 757.811 70.7142 755.218 Q70.7142 752.556 68.8161 751.144 Q66.9411 749.709 63.4226 749.709 Q61.5013 749.709 59.3023 750.125 Q57.1032 750.542 54.4643 751.422 L54.4643 747.255 Q57.1264 746.514 59.4412 746.144 Q61.7791 745.774 63.8393 745.774 Q69.1633 745.774 72.2652 748.204 Q75.367 750.612 75.367 754.732 Q75.367 757.602 73.7235 759.593 Q72.08 761.561 69.0476 762.324 Z\" fill=\"#000000\" fill-rule=\"nonzero\" fill-opacity=\"1\" /><path clip-path=\"url(#clip140)\" d=\"M66.5939 545.952 L54.7884 564.401 L66.5939 564.401 L66.5939 545.952 M65.367 541.878 L71.2466 541.878 L71.2466 564.401 L76.1772 564.401 L76.1772 568.289 L71.2466 568.289 L71.2466 576.438 L66.5939 576.438 L66.5939 568.289 L50.9921 568.289 L50.9921 563.776 L65.367 541.878 Z\" fill=\"#000000\" fill-rule=\"nonzero\" fill-opacity=\"1\" /><path clip-path=\"url(#clip140)\" d=\"M55.2745 337.357 L73.6309 337.357 L73.6309 341.292 L59.5569 341.292 L59.5569 349.764 Q60.5754 349.417 61.5939 349.255 Q62.6124 349.07 63.6309 349.07 Q69.418 349.07 72.7976 352.241 Q76.1772 355.412 76.1772 360.829 Q76.1772 366.407 72.705 369.509 Q69.2328 372.588 62.9134 372.588 Q60.7374 372.588 58.4689 372.218 Q56.2236 371.847 53.8162 371.106 L53.8162 366.407 Q55.8995 367.542 58.1217 368.097 Q60.3439 368.653 62.8208 368.653 Q66.8254 368.653 69.1633 366.546 Q71.5013 364.44 71.5013 360.829 Q71.5013 357.218 69.1633 355.111 Q66.8254 353.005 62.8208 353.005 Q60.9458 353.005 59.0708 353.421 Q57.2189 353.838 55.2745 354.718 L55.2745 337.357 Z\" fill=\"#000000\" fill-rule=\"nonzero\" fill-opacity=\"1\" /><path clip-path=\"url(#clip140)\" d=\"M64.6495 148.252 Q61.5013 148.252 59.6495 150.405 Q57.8208 152.558 57.8208 156.308 Q57.8208 160.035 59.6495 162.21 Q61.5013 164.363 64.6495 164.363 Q67.7976 164.363 69.6263 162.21 Q71.4781 160.035 71.4781 156.308 Q71.4781 152.558 69.6263 150.405 Q67.7976 148.252 64.6495 148.252 M73.9318 133.6 L73.9318 137.859 Q72.1726 137.025 70.367 136.586 Q68.5846 136.146 66.8254 136.146 Q62.1958 136.146 59.7421 139.271 Q57.3115 142.396 56.9643 148.715 Q58.33 146.701 60.3902 145.636 Q62.4504 144.549 64.9272 144.549 Q70.1355 144.549 73.1448 147.72 Q76.1772 150.868 76.1772 156.308 Q76.1772 161.632 73.029 164.849 Q69.8809 168.067 64.6495 168.067 Q58.6541 168.067 55.4828 163.484 Q52.3116 158.877 52.3116 150.15 Q52.3116 141.956 56.2004 137.095 Q60.0893 132.211 66.6402 132.211 Q68.3994 132.211 70.1818 132.558 Q71.9874 132.905 73.9318 133.6 Z\" fill=\"#000000\" fill-rule=\"nonzero\" fill-opacity=\"1\" /><g clip-path=\"url(#clip142)\">\n",
       "<image width=\"1285\" height=\"1285\" xlink:href=\"data:image/png;base64,\n",
       "iVBORw0KGgoAAAANSUhEUgAABQUAAAUFCAYAAACuAKUAAAAgAElEQVR4nOzaIa4dZRyH4e9rh4Jo\n",
       "8ZiWNgRDgkBcCwmVGIIgYQksBVhBJbYGjSlBI5CoS4ENNFwEaWgGwR74n+R9nhX8ztwz35z7ZvZX\n",
       "j748F4S5AQDa9vSAafELsOO/BOJ/foifAGs5BcjfA/ELcGt6AAAAAADw/xIFAQAAACBGFAQAAACA\n",
       "GFEQAAAAAGJEQQAAAACIEQUBAAAAIEYUBAAAAIAYURAAAAAAYkRBAAAAAIgRBQEAAAAgRhQEAAAA\n",
       "gBhREAAAAABiREEAAAAAiBEFAQAAACBGFAQAAACAGFEQAAAAAGJEQQAAAACIEQUBAAAAIEYUBAAA\n",
       "AIAYURAAAAAAYkRBAAAAAIgRBQEAAAAgRhQEAAAAgBhREAAAAABiREEAAAAAiBEFAQAAACBGFAQA\n",
       "AACAGFEQAAAAAGJEQQAAAACIEQUBAAAAIEYUBAAAAIAYURAAAAAAYkRBAAAAAIgRBQEAAAAgRhQE\n",
       "AAAAgBhREAAAAABiREEAAAAAiBEFAQAAACBGFAQAAACAGFEQAAAAAGJEQQAAAACIEQUBAAAAIEYU\n",
       "BAAAAIAYURAAAAAAYkRBAAAAAIgRBQEAAAAgRhQEAAAAgBhREAAAAABiREEAAAAAiBEFAQAAACBG\n",
       "FAQAAACAGFEQAAAAAGJEQQAAAACIEQUBAAAAIEYUBAAAAIAYURAAAAAAYkRBAAAAAIgRBQEAAAAg\n",
       "RhQEAAAAgBhREAAAAABiREEAAAAAiBEFAQAAACBGFAQAAACAGFEQAAAAAGKO6QEwbU8PGHZODwAY\n",
       "Vj8Hd/4C+CUAQFf+KRi/AN4UBAAAAIAYURAAAAAAYkRBAAAAAIgRBQEAAAAgRhQEAAAAgBhREAAA\n",
       "AABiREEAAAAAiBEFAQAAACBGFAQAAACAGFEQAAAAAGJEQQAAAACIEQUBAAAAIEYUBAAAAIAYURAA\n",
       "AAAAYkRBAAAAAIgRBQEAAAAgRhQEAAAAgBhREAAAAABiREEAAAAAiBEFAQAAACBGFAQAAACAGFEQ\n",
       "AAAAAGJEQQAAAACIEQUBAAAAIEYUBAAAAIAYURAAAAAAYkRBAAAAAIgRBQEAAAAgRhQEAAAAgBhR\n",
       "EAAAAABiREEAAAAAiBEFAQAAACBGFAQAAACAGFEQAAAAAGJEQQAAAACIEQUBAAAAIEYUBAAAAIAY\n",
       "URAAAAAAYkRBAAAAAIgRBQEAAAAgRhQEAAAAgBhREAAAAABiREEAAAAAiBEFAQAAACBGFAQAAACA\n",
       "GFEQAAAAAGJEQQAAAACIEQUBAAAAIEYUBAAAAIAYURAAAAAAYkRBAAAAAIgRBQEAAAAgRhQEAAAA\n",
       "gBhREAAAAABiREEAAAAAiBEFAQAAACBGFAQAAACAGFEQAAAAAGJEQQAAAACIEQUBAAAAIEYUBAAA\n",
       "AIAYURAAAAAAYkRBAAAAAIg51p6ecAHO6QEwxxHgCACg6/RLYPklUOcegLL6CeBNQQAAAACIEQUB\n",
       "AAAAIEYUBAAAAIAYURAAAAAAYkRBAAAAAIgRBQEAAAAgRhQEAAAAgBhREAAAAABiREEAAAAAiBEF\n",
       "AQAAACBGFAQAAACAGFEQAAAAAGJEQQAAAACIEQUBAAAAIEYUBAAAAIAYURAAAAAAYkRBAAAAAIgR\n",
       "BQEAAAAgRhQEAAAAgBhREAAAAABiREEAAAAAiBEFAQAAACBGFAQAAACAGFEQAAAAAGJEQQAAAACI\n",
       "EQUBAAAAIEYUBAAAAIAYURAAAAAAYkRBAAAAAIgRBQEAAAAgRhQEAAAAgBhREAAAAABiREEAAAAA\n",
       "iBEFAQAAACBGFAQAAACAGFEQAAAAAGJEQQAAAACIEQUBAAAAIEYUBAAAAIAYURAAAAAAYkRBAAAA\n",
       "AIgRBQEAAAAgRhQEAAAAgBhREAAAAABiREEAAAAAiBEFAQAAACBGFAQAAACAGFEQAAAAAGJEQQAA\n",
       "AACIEQUBAAAAIEYUBAAAAIAYURAAAAAAYkRBAAAAAIgRBQEAAAAgRhQEAAAAgBhREAAAAABiREEA\n",
       "AAAAiBEFAQAAACBGFAQAAACAGFEQAAAAAGJEQQAAAACIEQUBAAAAIEYUBAAAAICYY08vuATxi3BO\n",
       "D5iWvwDEjwC3AJBWPwPrz8D/uAoANHlTEAAAAABiREEAAAAAiBEFAQAAACBGFAQAAACAGFEQAAAA\n",
       "AGJEQQAAAACIEQUBAAAAIEYUBAAAAIAYURAAAAAAYkRBAAAAAIgRBQEAAAAgRhQEAAAAgBhREAAA\n",
       "AABiREEAAAAAiBEFAQAAACBGFAQAAACAGFEQAAAAAGJEQQAAAACIEQUBAAAAIEYUBAAAAIAYURAA\n",
       "AAAAYkRBAAAAAIgRBQEAAAAgRhQEAAAAgBhREAAAAABiREEAAAAAiBEFAQAAACBGFAQAAACAGFEQ\n",
       "AAAAAGJEQQAAAACIEQUBAAAAIEYUBAAAAIAYURAAAAAAYkRBAAAAAIgRBQEAAAAgRhQEAAAAgBhR\n",
       "EAAAAABiREEAAAAAiBEFAQAAACBGFAQAAACAGFEQAAAAAGJEQQAAAACIEQUBAAAAIEYUBAAAAIAY\n",
       "URAAAAAAYkRBAAAAAIgRBQEAAAAgRhQEAAAAgBhREAAAAABiREEAAAAAiBEFAQAAACBGFAQAAACA\n",
       "GFEQAAAAAGJEQQAAAACIEQUBAAAAIEYUBAAAAIAYURAAAAAAYkRBAAAAAIgRBQEAAAAgRhQEAAAA\n",
       "gBhREAAAAABiREEAAAAAiBEFAQAAACDmmB7AvD09YFr8ApzTAy5B/CLEb4H6nx/y98COX4Cz/hBY\n",
       "noMAdHlTEAAAAABiREEAAAAAiBEFAQAAACBGFAQAAACAGFEQAAAAAGJEQQAAAACIEQUBAAAAIEYU\n",
       "BAAAAIAYURAAAAAAYkRBAAAAAIgRBQEAAAAgRhQEAAAAgBhREAAAAABiREEAAAAAiBEFAQAAACBG\n",
       "FAQAAACAGFEQAAAAAGJEQQAAAACIEQUBAAAAIEYUBAAAAIAYURAAAAAAYkRBAAAAAIgRBQEAAAAg\n",
       "RhQEAAAAgBhREAAAAABiREEAAAAAiBEFAQAAACBGFAQAAACAGFEQAAAAAGJEQQAAAACIEQUBAAAA\n",
       "IEYUBAAAAIAYURAAAAAAYkRBAAAAAIgRBQEAAAAgRhQEAAAAgBhREAAAAABiREEAAAAAiBEFAQAA\n",
       "ACBGFAQAAACAGFEQAAAAAGJEQQAAAACIEQUBAAAAIEYUBAAAAIAYURAAAAAAYkRBAAAAAIgRBQEA\n",
       "AAAgRhQEAAAAgBhREAAAAABiREEAAAAAiBEFAQAAACBGFAQAAACAGFEQAAAAAGJEQQAAAACIEQUB\n",
       "AAAAIEYUBAAAAIAYURAAAAAAYkRBAAAAAIgRBQEAAAAgRhQEAAAAgBhREAAAAABiREEAAAAAiBEF\n",
       "AQAAACBGFAQAAACAmGN6ADBrTw+4BPGLcE4PGLbjFyD+8SF/D9TPwLV8B3b8dxBAmTcFAQAAACBG\n",
       "FAQAAACAGFEQAAAAAGJEQQAAAACIEQUBAAAAIEYUBAAAAIAYURAAAAAAYkRBAAAAAIgRBQEAAAAg\n",
       "RhQEAAAAgBhREAAAAABiREEAAAAAiBEFAQAAACBGFAQAAACAGFEQAAAAAGJEQQAAAACIEQUBAAAA\n",
       "IEYUBAAAAIAYURAAAAAAYkRBAAAAAIgRBQEAAAAgRhQEAAAAgBhREAAAAABiREEAAAAAiBEFAQAA\n",
       "ACBGFAQAAACAGFEQAAAAAGJEQQAAAACIEQUBAAAAIEYUBAAAAIAYURAAAAAAYkRBAAAAAIgRBQEA\n",
       "AAAgRhQEAAAAgBhREAAAAABiREEAAAAAiBEFAQAAACBGFAQAAACAGFEQAAAAAGJEQQAAAACIEQUB\n",
       "AAAAIEYUBAAAAIAYURAAAAAAYkRBAAAAAIgRBQEAAAAgRhQEAAAAgBhREAAAAABiREEAAAAAiBEF\n",
       "AQAAACBGFAQAAACAGFEQAAAAAGJEQQAAAACIEQUBAAAAIEYUBAAAAIAYURAAAAAAYkRBAAAAAIgR\n",
       "BQEAAAAgRhQEAAAAgBhREAAAAABiREEAAAAAiBEFAQAAACBGFAQAAACAGFEQAAAAAGKO6QEw75we\n",
       "AKP22tMTZsU/viNwrVdn+0vw8YNfpyeMevb729MTRjkCPAbO+pcg/gWIf3zI86YgAAAAAMSIggAA\n",
       "AAAQIwoCAAAAQIwoCAAAAAAxoiAAAAAAxIiCAAAAABAjCgIAAABAjCgIAAAAADGiIAAAAADEiIIA\n",
       "AAAAECMKAgAAAECMKAgAAAAAMaIgAAAAAMSIggAAAAAQIwoCAAAAQIwoCAAAAAAxoiAAAAAAxIiC\n",
       "AAAAABAjCgIAAABAjCgIAAAAADGiIAAAAADEiIIAAAAAECMKAgAAAECMKAgAAAAAMaIgAAAAAMSI\n",
       "ggAAAAAQIwoCAAAAQIwoCAAAAAAxoiAAAAAAxIiCAAAAABAjCgIAAABAjCgIAAAAADGiIAAAAADE\n",
       "iIIAAAAAECMKAgAAAECMKAgAAAAAMaIgAAAAAMSIggAAAAAQIwoCAAAAQIwoCAAAAAAxoiAAAAAA\n",
       "xIiCAAAAABAjCgIAAABAjCgIAAAAADGiIAAAAADEiIIAAAAAECMKAgAAAECMKAgAAAAAMaIgAAAA\n",
       "AMSIggAAAAAQIwoCAAAAQIwoCAAAAAAxoiAAAAAAxIiCAAAAABAjCgIAAABAjCgIAAAAADGiIAAA\n",
       "AADEiIIAAAAAECMKAgAAAECMKAgAAAAAMaIgAAAAAMSIggAAAAAQIwoCAAAAQMwxPYBLcE4PGLWn\n",
       "B8C49hlQ9+H936YnjLv64fvpCaNufvx8esKo55/8NT1h1PXN3ekJMGrHfwbFP/5aa63tH0LCvCkI\n",
       "AAAAADGiIAAAAADEiIIAAAAAECMKAgAAAECMKAgAAAAAMaIgAAAAAMSIggAAAAAQIwoCAAAAQIwo\n",
       "CAAAAAAxoiAAAAAAxIiCAAAAABAjCgIAAABAjCgIAAAAADGiIAAAAADEiIIAAAAAECMKAgAAAECM\n",
       "KAgAAAAAMaIgAAAAAMSIggAAAAAQIwoCAAAAQIwoCAAAAAAxoiAAAAAAxIiCAAAAABAjCgIAAABA\n",
       "jCgIAAAAADGiIAAAAADEiIIAAAAAECMKAgAAAECMKAgAAAAAMaIgAAAAAMSIggAAAAAQIwoCAAAA\n",
       "QIwoCAAAAAAxoiAAAAAAxIiCAAAAABAjCgIAAABAjCgIAAAAADGiIAAAAADEiIIAAAAAECMKAgAA\n",
       "AECMKAgAAAAAMaIgAAAAAMSIggAAAAAQIwoCAAAAQIwoCAAAAAAxoiAAAAAAxIiCAAAAABAjCgIA\n",
       "AABAjCgIAAAAADGiIAAAAADEiIIAAAAAECMKAgAAAECMKAgAAAAAMaIgAAAAAMSIggAAAAAQIwoC\n",
       "AAAAQIwoCAAAAAAxoiAAAAAAxIiCAAAAABAjCgIAAABAjCgIAAAAADGiIAAAAADEiIIAAAAAEHNM\n",
       "DwBg1p4ewKgPnn0xPWHcN+88mJ4w6slH0wtm/fLna9MTRj26+8/0hHnxB2H848M6z+kFs7ZDIM2b\n",
       "ggAAAAAQIwoCAAAAQIwoCAAAAAAxoiAAAAAAxIiCAAAAABAjCgIAAABAjCgIAAAAADGiIAAAAADE\n",
       "iIIAAAAAECMKAgAAAECMKAgAAAAAMaIgAAAAAMSIggAAAAAQIwoCAAAAQIwoCAAAAAAxoiAAAAAA\n",
       "xIiCAAAAABAjCgIAAABAjCgIAAAAADGiIAAAAADEiIIAAAAAECMKAgAAAECMKAgAAAAAMaIgAAAA\n",
       "AMSIggAAAAAQIwoCAAAAQIwoCAAAAAAxoiAAAAAAxIiCAAAAABAjCgIAAABAjCgIAAAAADGiIAAA\n",
       "AADEiIIAAAAAECMKAgAAAECMKAgAAAAAMaIgAAAAAMSIggAAAAAQIwoCAAAAQIwoCAAAAAAxoiAA\n",
       "AAAAxIiCAAAAABAjCgIAAABAjCgIAAAAADGiIAAAAADEiIIAAAAAECMKAgAAAECMKAgAAAAAMaIg\n",
       "AAAAAMSIggAAAAAQIwoCAAAAQIwoCAAAAAAxoiAAAAAAxIiCAAAAABAjCgIAAABAjCgIAAAAADGi\n",
       "IAAAAADEiIIAAAAAECMKAgAAAECMKAgAAAAAMaIgAAAAAMSIggAAAAAQIwoCAAAAQIwoCAAAAAAx\n",
       "oiAAAAAAxBzTA7gEe3rAsHN6ADApfgR++96z6Qnj9rozPWHUrfg98PitF9MTRl3f3JuecAH8Fiyr\n",
       "//XjjwDWWmf8Jtjxm8CbggAAAAAQIwoCAAAAQIwoCAAAAAAxoiAAAAAAxIiCAAAAABAjCgIAAABA\n",
       "jCgIAAAAADGiIAAAAADEiIIAAAAAECMKAgAAAECMKAgAAAAAMaIgAAAAAMSIggAAAAAQIwoCAAAA\n",
       "QIwoCAAAAAAxoiAAAAAAxIiCAAAAABAjCgIAAABAjCgIAAAAADGiIAAAAADEiIIAAAAAECMKAgAA\n",
       "AECMKAgAAAAAMaIgAAAAAMSIggAAAAAQIwoCAAAAQIwoCAAAAAAxoiAAAAAAxIiCAAAAABAjCgIA\n",
       "AABAjCgIAAAAADGiIAAAAADEiIIAAAAAECMKAgAAAECMKAgAAAAAMaIgAAAAAMSIggAAAAAQIwoC\n",
       "AAAAQIwoCAAAAAAxoiAAAAAAxIiCAAAAABAjCgIAAABAjCgIAAAAADGiIAAAAADEiIIAAAAAECMK\n",
       "AgAAAECMKAgAAAAAMaIgAAAAAMSIggAAAAAQIwoCAAAAQIwoCAAAAAAxoiAAAAAAxIiCAAAAABAj\n",
       "CgIAAABAjCgIAAAAADGiIAAAAADEiIIAAAAAECMKAgAAAECMKAgAAAAAMaIgAAAAAMSIggAAAAAQ\n",
       "IwoCAAAAQIwoCAAAAAAxxzm94ALs6QGMOuPfgL2cAlD2+P2fpyeMe/rT1fSEUbd2+zlw787L6Qkw\n",
       "qn0C+F+w/vdfy3eg7ozfBN4UBAAAAIAYURAAAAAAYkRBAAAAAIgRBQEAAAAgRhQEAAAAgBhREAAA\n",
       "AABiREEAAAAAiBEFAQAAACBGFAQAAACAGFEQAAAAAGJEQQAAAACIEQUBAAAAIEYUBAAAAIAYURAA\n",
       "AAAAYkRBAAAAAIgRBQEAAAAgRhQEAAAAgBhREAAAAABiREEAAAAAiBEFAQAAACBGFAQAAACAGFEQ\n",
       "AAAAAGJEQQAAAACIEQUBAAAAIEYUBAAAAIAYURAAAAAAYkRBAAAAAIgRBQEAAAAgRhQEAAAAgBhR\n",
       "EAAAAABiREEAAAAAiBEFAQAAACBGFAQAAACAGFEQAAAAAGJEQQAAAACIEQUBAAAAIEYUBAAAAIAY\n",
       "URAAAAAAYkRBAAAAAIgRBQEAAAAgRhQEAAAAgBhREAAAAABiREEAAAAAiBEFAQAAACBGFAQAAACA\n",
       "GFEQAAAAAGJEQQAAAACIEQUBAAAAIEYUBAAAAIAYURAAAAAAYkRBAAAAAIgRBQEAAAAgRhQEAAAA\n",
       "gBhREAAAAABiREEAAAAAiBEFAQAAACBGFAQAAACAGFEQAAAAAGJEQQAAAACIEQUBAAAAIEYUBAAA\n",
       "AIAYURAAAAAAYkRBAAAAAIg51jk9YV7+EuzpAbPiH3+d+SuwllOgbcf//A+fXk9PGPf1w6vpCaPe\n",
       "uP1qesKo5zdvTk8YteuHIJBXPwX9N9jmTUEAAAAAiBEFAQAAACBGFAQAAACAGFEQAAAAAGJEQQAA\n",
       "AACIEQUBAAAAIEYUBAAAAIAYURAAAAAAYkRBAAAAAIgRBQEAAAAgRhQEAAAAgBhREAAAAABiREEA\n",
       "AAAAiBEFAQAAACBGFAQAAACAGFEQAAAAAGJEQQAAAACIEQUBAAAAIEYUBAAAAIAYURAAAAAAYkRB\n",
       "AAAAAIgRBQEAAAAgRhQEAAAAgBhREAAAAABiREEAAAAAiBEFAQAAACBGFAQAAACAGFEQAAAAAGJE\n",
       "QQAAAACIEQUBAAAAIEYUBAAAAIAYURAAAAAAYkRBAAAAAIgRBQEAAAAgRhQEAAAAgBhREAAAAABi\n",
       "REEAAAAAiBEFAQAAACBGFAQAAACAGFEQAAAAAGJEQQAAAACIEQUBAAAAIEYUBAAAAIAYURAAAAAA\n",
       "YkRBAAAAAIgRBQEAAAAgRhQEAAAAgBhREAAAAABiREEAAAAAiBEFAQAAACBGFAQAAACAGFEQAAAA\n",
       "AGJEQQAAAACIEQUBAAAAIEYUBAAAAIAYURAAAAAAYkRBAAAAAIgRBQEAAAAgRhQEAAAAgBhREAAA\n",
       "AABiREEAAAAAiBEFAQAAACBGFAQAAACAmGN6ABfgnB4wK/7xWWvtvacnjHIPtK/Ak3c/m54w7rs/\n",
       "bk9PGPXp/ZfTE0a9+Pv16Qmj2k9AANq/hD0HvSkIAAAAADGiIAAAAADEiIIAAAAAECMKAgAAAECM\n",
       "KAgAAAAAMaIgAAAAAMSIggAAAAAQIwoCAAAAQIwoCAAAAAAxoiAAAAAAxIiCAAAAABAjCgIAAABA\n",
       "jCgIAAAAADGiIAAAAADEiIIAAAAAECMKAgAAAECMKAgAAAAAMaIgAAAAAMSIggAAAAAQIwoCAAAA\n",
       "QIwoCAAAAAAxoiAAAAAAxIiCAAAAABAjCgIAAABAjCgIAAAAADGiIAAAAADEiIIAAAAAECMKAgAA\n",
       "AECMKAgAAAAAMaIgAAAAAMSIggAAAAAQIwoCAAAAQIwoCAAAAAAxoiAAAAAAxIiCAAAAABDzb7t2\n",
       "dGs1DEVR0EaBFijn9d8MfIOEQhn7SmumgpPEcaIli4IAAAAAECMKAgAAAECMKAgAAAAAMaIgAAAA\n",
       "AMSIggAAAAAQIwoCAAAAQIwoCAAAAAAxoiAAAAAAxIiCAAAAABAjCgIAAABAjCgIAAAAADGiIAAA\n",
       "AADEiIIAAAAAECMKAgAAAECMKAgAAAAAMaIgAAAAAMSIggAAAAAQIwoCAAAAQIwoCAAAAAAxoiAA\n",
       "AAAAxIiCAAAAABAjCgIAAABAjCgIAAAAADGiIAAAAADEiIIAAAAAECMKAgAAAECMKAgAAAAAMaIg\n",
       "AAAAAMSIggAAAAAQ87zrCZi76wFg7LURtt32Lvj77/f1CHNfP/+tR5j69efHeoSpb+0twDfwnOMW\n",
       "AHTVvwFOCgIAAABAjCgIAAAAADGiIAAAAADEiIIAAAAAECMKAgAAAECMKAgAAAAAMaIgAAAAAMSI\n",
       "ggAAAAAQIwoCAAAAQIwoCAAAAAAxoiAAAAAAxIiCAAAAABAjCgIAAABAjCgIAAAAADGiIAAAAADE\n",
       "iIIAAAAAECMKAgAAAECMKAgAAAAAMaIgAAAAAMSIggAAAAAQIwoCAAAAQIwoCAAAAAAxoiAAAAAA\n",
       "xIiCAAAAABAjCgIAAABAjCgIAAAAADGiIAAAAADEiIIAAAAAECMKAgAAAECMKAgAAAAAMaIgAAAA\n",
       "AMSIggAAAAAQIwoCAAAAQIwoCAAAAAAxoiAAAAAAxIiCAAAAABAjCgIAAABAjCgIAAAAADGiIAAA\n",
       "AADEiIIAAAAAECMKAgAAAECMKAgAAAAAMaIgAAAAAMSIggAAAAAQIwoCAAAAQIwoCAAAAAAxoiAA\n",
       "AAAAxIiCAAAAABAjCgIAAABAjCgIAAAAADGiIAAAAADEiIIAAAAAECMKAgAAAECMKAgAAAAAMaIg\n",
       "AAAAAMSIggAAAAAQIwoCAAAAQIwoCAAAAAAxoiAAAAAAxIiCAAAAABAjCgIAAABAjCgIAAAAADGi\n",
       "IAAAAADEPOsB2HvXAwBTdz3A2FvfBG99BZxzfQnT8s/fHuBnmDTLH9qcFAQAAACAGFEQAAAAAGJE\n",
       "QQAAAACIEQUBAAAAIEYUBAAAAIAYURAAAAAAYkRBAAAAAIgRBQEAAAAgRhQEAAAAgBhREAAAAABi\n",
       "REEAAAAAiBEFAQAAACBGFAQAAACAGFEQAAAAAGJEQQAAAACIEQUBAAAAIEYUBAAAAIAYURAAAAAA\n",
       "YkRBAAAAAIgRBQEAAAAgRhQEAAAAgBhREAAAAABiREEAAAAAiBEFAQAAACBGFAQAAACAGFEQAAAA\n",
       "AGJEQQAAAACIEQUBAAAAIEYUBAAAAIAYURAAAAAAYkRBAAAAAIgRBQEAAAAgRhQEAAAAgBhREAAA\n",
       "AABiREEAAAAAiBEFAQAAACBGFAQAAACAGFEQAAAAAGJEQQAAAACIEQUBAAAAIEYUBAAAAIAYURAA\n",
       "AAAAYkRBAAAAAIgRBQEAAAAgRhQEAAAAgBhREAAAAABiREEAAAAAiBEFAQAAACBGFAQAAACAGFEQ\n",
       "AAAAAGJEQQAAAACIEQUBAAAAIEYUBAAAAIAYURAAAAAAYkRBAAAAAIgRBQEAAAAgRhQEAAAAgBhR\n",
       "EAAAAABiREEAAAAAiBEFAQAAACBGFAQAAACAGFEQAAAAAGJEQQAAAACIedYDALD1rgdgywI45971\n",
       "BFPXIkjz/E9+D8ivgPgNaK9+zsm/AnlOCgIAAABAjCgIAAAAADGiIAAAAADEiIIAAAAAECMKAgAA\n",
       "AECMKAgAAAAAMaIgAAAAAMSIggAAAAAQIwoCAAAAQIwoCAAAAAAxoiAAAAAAxIiCAAAAABAjCgIA\n",
       "AABAjCgIAAAAADGiIAAAAADEiIIAAAAAECMKAgAAAECMKAgAAAAAMaIgAAAAAMSIggAAAAAQIwoC\n",
       "AAAAQIwoCAAAAAAxoiAAAAAAxIiCAAAAABAjCgIAAABAjCgIAAAAADGiIAAAAADEiIIAAAAAECMK\n",
       "AgAAAECMKAgAAAAAMaIgAAAAAMSIggAAAAAQIwoCAAAAQIwoCAAAAAAxoiAAAAAAxIiCAAAAABAj\n",
       "CgIAAABAjCgIAAAAADGiIAAAAADEiIIAAAAAECMKAgAAAECMKAgAAAAAMaIgAAAAAMSIggAAAAAQ\n",
       "IwoCAAAAQIwoCAAAAAAxoiAAAAAAxIiCAAAAABAjCgIAAABAjCgIAAAAADGiIAAAAADEiIIAAAAA\n",
       "ECMKAgAAAECMKAgAAAAAMaIgAAAAAMSIggAAAAAQIwoCAAAAQIwoCAAAAAAxoiAAAAAAxIiCAAAA\n",
       "ABAjCgIAAABAjCgIAAAAADGiIAAAAADEPL6CtQ8AAAefSURBVOsBAAAAVu551yOM3fUAW/HLf+vL\n",
       "n/orkP8COCkIAAAAADGiIAAAAADEiIIAAAAAECMKAgAAAECMKAgAAAAAMaIgAAAAAMSIggAAAAAQ\n",
       "IwoCAAAAQIwoCAAAAAAxoiAAAAAAxIiCAAAAABAjCgIAAABAjCgIAAAAADGiIAAAAADEiIIAAAAA\n",
       "ECMKAgAAAECMKAgAAAAAMaIgAAAAAMSIggAAAAAQIwoCAAAAQIwoCAAAAAAxoiAAAAAAxIiCAAAA\n",
       "ABAjCgIAAABAjCgIAAAAADGiIAAAAADEiIIAAAAAECMKAgAAAECMKAgAAAAAMaIgAAAAAMSIggAA\n",
       "AAAQIwoCAAAAQIwoCAAAAAAxoiAAAAAAxIiCAAAAABAjCgIAAABAjCgIAAAAADGiIAAAAADEiIIA\n",
       "AAAAECMKAgAAAECMKAgAAAAAMaIgAAAAAMSIggAAAAAQIwoCAAAAQIwoCAAAAAAxoiAAAAAAxIiC\n",
       "AAAAABAjCgIAAABAjCgIAAAAADGiIAAAAADEiIIAAAAAECMKAgAAAECMKAgAAAAAMaIgAAAAAMSI\n",
       "ggAAAAAQIwoCAAAAQIwoCAAAAAAxoiAAAAAAxIiCAAAAABAjCgIAAABAjCgIAAAAADGiIAAAAADE\n",
       "iIIAAAAAECMKAgAAAEDMsx4AANh51wN8gvpNuOsBtuKXD8cmGN8F4pd/zvEKxNVfAScFAQAAACBG\n",
       "FAQAAACAGFEQAAAAAGJEQQAAAACIEQUBAAAAIEYUBAAAAIAYURAAAAAAYkRBAAAAAIgRBQEAAAAg\n",
       "RhQEAAAAgBhREAAAAABiREEAAAAAiBEFAQAAACBGFAQAAACAGFEQAAAAAGJEQQAAAACIEQUBAAAA\n",
       "IEYUBAAAAIAYURAAAAAAYkRBAAAAAIgRBQEAAAAgRhQEAAAAgBhREAAAAABiREEAAAAAiBEFAQAA\n",
       "ACBGFAQAAACAGFEQAAAAAGJEQQAAAACIEQUBAAAAIEYUBAAAAIAYURAAAAAAYkRBAAAAAIgRBQEA\n",
       "AAAgRhQEAAAAgBhREAAAAABiREEAAAAAiBEFAQAAACBGFAQAAACAGFEQAAAAAGJEQQAAAACIEQUB\n",
       "AAAAIEYUBAAAAIAYURAAAAAAYkRBAAAAAIgRBQEAAAAgRhQEAAAAgBhREAAAAABiREEAAAAAiBEF\n",
       "AQAAACBGFAQAAACAGFEQAAAAAGJEQQAAAACIEQUBAAAAIEYUBAAAAIAYURAAAAAAYkRBAAAAAIgR\n",
       "BQEAAAAgRhQEAAAAgBhREAAAAABiREEAAAAAiBEFAQAAACBGFAQAAACAGFEQAAAAAGKeu57gA7zr\n",
       "AQAAZup/g/4EabMDtNWf/znWAG1OCgIAAABAjCgIAAAAADGiIAAAAADEiIIAAAAAECMKAgAAAECM\n",
       "KAgAAAAAMaIgAAAAAMSIggAAAAAQIwoCAAAAQIwoCAAAAAAxoiAAAAAAxIiCAAAAABAjCgIAAABA\n",
       "jCgIAAAAADGiIAAAAADEiIIAAAAAECMKAgAAAECMKAgAAAAAMaIgAAAAAMSIggAAAAAQIwoCAAAA\n",
       "QIwoCAAAAAAxoiAAAAAAxIiCAAAAABAjCgIAAABAjCgIAAAAADGiIAAAAADEiIIAAAAAECMKAgAA\n",
       "AECMKAgAAAAAMaIgAAAAAMSIggAAAAAQIwoCAAAAQIwoCAAAAAAxoiAAAAAAxIiCAAAAABAjCgIA\n",
       "AABAjCgIAAAAADGiIAAAAADEiIIAAAAAECMKAgAAAECMKAgAAAAAMaIgAAAAAMSIggAAAAAQIwoC\n",
       "AAAAQIwoCAAAAAAxoiAAAAAAxIiCAAAAABAjCgIAAABAjCgIAAAAADGiIAAAAADEiIIAAAAAECMK\n",
       "AgAAAECMKAgAAAAAMaIgAAAAAMSIggAAAAAQIwoCAAAAQIwoCAAAAAAxoiAAAAAAxIiCAAAAABAj\n",
       "CgIAAABAjCgIAAAAADGiIAAAAADEPOsBPsFdDzD2rgcAAACAgRsPAq8gkOakIAAAAADEiIIAAAAA\n",
       "ECMKAgAAAECMKAgAAAAAMaIgAAAAAMSIggAAAAAQIwoCAAAAQIwoCAAAAAAxoiAAAAAAxIiCAAAA\n",
       "ABAjCgIAAABAjCgIAAAAADGiIAAAAADEiIIAAAAAECMKAgAAAECMKAgAAAAAMaIgAAAAAMSIggAA\n",
       "AAAQIwoCAAAAQIwoCAAAAAAxoiAAAAAAxIiCAAAAABAjCgIAAABAjCgIAAAAADGiIAAAAADEiIIA\n",
       "AAAAECMKAgAAAECMKAgAAAAAMaIgAAAAAMSIggAAAAAQIwoCAAAAQIwoCAAAAAAxoiAAAAAAxIiC\n",
       "AAAAABAjCgIAAABAjCgIAAAAADGiIAAAAADEiIIAAAAAECMKAgAAAECMKAgAAAAAMaIgAAAAAMSI\n",
       "ggAAAAAQIwoCAAAAQIwoCAAAAAAxoiAAAAAAxIiCAAAAABAjCgIAAABAjCgIAAAAADGiIAAAAADE\n",
       "iIIAAAAAECMKAgAAAECMKAgAAAAAMaIgAAAAAMSIggAAAAAQIwoCAAAAQIwoCAAAAAAxoiAAAAAA\n",
       "xIiCAAAAABAjCgIAAABAjCgIAAAAADGiIAAAAADEiIIAAAAAECMKAgAAAEDMf9bVn5C48GnhAAAA\n",
       "AElFTkSuQmCC\n",
       "\" transform=\"translate(470, 124)\"/>\n",
       "</g>\n",
       "<defs>\n",
       "  <clipPath id=\"clip143\">\n",
       "    <rect x=\"2160\" y=\"124\" width=\"73\" height=\"1286\"/>\n",
       "  </clipPath>\n",
       "</defs>\n",
       "<g clip-path=\"url(#clip143)\">\n",
       "<image width=\"72\" height=\"1285\" xlink:href=\"data:image/png;base64,\n",
       "iVBORw0KGgoAAAANSUhEUgAAAEgAAAUFCAYAAAC0E4VSAAALMElEQVR4nO3dwa3kRhAFQY5Q/lsh\n",
       "L6XtlgWqPJKHCAsGiQeit4d/9vfv+fs+/K+/3v4AXydQECgIFAQKc+6/b3+GT7OgIFAQKAgU5t4/\n",
       "b3+GT7OgIFAQKAgUnKSDBQWBgkBBoDDXQ3plQUGgIFAQKMw9HtIbCwoCBYGCQMFJOlhQECgIFAQK\n",
       "HtLBgoJAQaAgUHDdESwoCBQECgKFeZykVxYUBAoCBYGC645gQUGgIFAQKMzjumNlQUGgIFAQKMxz\n",
       "/nn7M3yaBQWBgkBBoOBOOlhQECgIFAQKrjuCBQWBgkBBoOAhHSwoCBQECgIF1x3BgoJAQaAgUJif\n",
       "k/TKgoJAQaAgUJjn+D3pjQUFgYJAQaDgJB0sKAgUBAoCBSfpYEFBoCBQECh4uyNYUBAoCBQECvNz\n",
       "kl5ZUBAoCBQECl7BCxYUBAoCBYGCk3SwoCBQECgIFHxxGCwoCBQECgIFJ+lgQUGgIFAQKDhJBwsK\n",
       "AgWBgkDBSTpYUBAoCBQECvOc8/Zn+DQLCgIFgYJAwUk6WFAQKAgUBArupIMFBYGCQEGg4CEdLCgI\n",
       "FAQKAoX5uZNeWVAQKAgUBApO0sGCgkBBoCBQ8HZHsKAgUBAoCBRcdwQLCgIFgYJAwXVHsKAgUBAo\n",
       "CBRcdwQLCgIFgYJAwUM6WFAQKAgUBAr+4jBYUBAoCBQECk7SwYKCQEGgIFDwkA4WFAQKAgWBgod0\n",
       "sKAgUBAoCBQ8pIMFBYGCQEGgMM/1kN5YUBAoCBQECk7SwYKCQEGgIFDwkA4WFAQKAgWBgod0sKAg\n",
       "UBAoCBTmOfftz/BpFhQECgIFgYKTdLCgIFAQKAgUnKSDBQWBgkBBoCBQ8E+NYEFBoCBQECj4p0aw\n",
       "oCBQECgIFOZxkF5ZUBAoCBQECvNcJ+mNBQWBgkBBoOAkHSwoCBQECgIFD+lgQUGgIFAQKIwfoNpZ\n",
       "UBAoCBQECk7SwYKCQEGgIFDwkA4WFAQKAgWBwjzn9/Zn+DQLCgIFgYJAYe71kN5YUBAoCBQECq47\n",
       "ggUFgYJAQaDguiNYUBAoCBQECnOPRht1gkBBoCBQcJIOFhQECgIFgcI8vjhcWVAQKAgUBApznaRX\n",
       "FhQECgIFgcI87qRX6gSBgkBBoOAkHSwoCBQECgIFd9LBgoJAQaAgUPAKXlAnCBQECgIFr+AFCwoC\n",
       "BYGCQMGddLCgIFAQKAgU5l6NNuoEgYJAQaDguiNYUBAoCBQECq47ggUFgYJAQaAwj+uOlTpBoCBQ\n",
       "ECg4SQcLCgIFgYJAwUM6WFAQKAgUBAr+4jBYUBAoCBQECv7iMKgTBAoCBYGC/4g2WFAQKAgUBAru\n",
       "pIMFBYGCQEGg4PekgzpBoCBQECi47ggWFAQKAgWBguuOYEFBoCBQECg4SQcLCgIFgYJAwSt4QZ0g\n",
       "UBAoCBScpIMFBYGCQEGg4E46WFAQKAgUBApO0sGCgkBBoCBQ8KP/wYKCQEGgIFDw32cFdYJAQaAg\n",
       "UHDdESwoCBQECgIFXxwGCwoCBYGCQMFJOlhQECgIFAQKczykVxYUBAoCBYGCvzgM6gSBgkBBoOC6\n",
       "I1hQECgIFAQKHtLBgoJAQaAgUPB2R7CgIFAQKAgUBAr+qREsKAgUBAoCBQ/pYEFBoCBQECj4u/mg\n",
       "ThAoCBQECnNc2q8sKAgUBAoCBdcdwYKCQEGgIFDwkA4WFAQKAgWBgod0sKAgUBAoCBT8uEmwoCBQ\n",
       "ECgIFJykgwUFgYJAQaDgIR0sKAgUBAoCBe9JB3WCQEGgIFDwnnSwoCBQECgIFFx3BAsKAgWBgkDB\n",
       "QzpYUBAoCBQECl7BCxYUBAoCBYGCk3SwoCBQECgIFOY+HtIbCwoCBYGCQMF1R7CgIFAQKAgUXHcE\n",
       "CwoCBYGCQMFJOlhQECgIFAQKTtLBgoJAQaAgUHCSDhYUBAoCBYGCk3SwoCBQECgIFDykgwUFgYJA\n",
       "QaAwx3vSKwsKAgWBgkDBSTpYUBAoCBQECr44DBYUBAoCBYHC3Pv2R/g2CwoCBYGCQMFJOlhQECgI\n",
       "FAQKfmApWFAQKAgUBApO0sGCgkBBoCBQ8HZHsKAgUBAoCBS8Jx0sKAgUBAoCBW93BAsKAgWBgkDB\n",
       "nXSwoCBQECgIFNxJBwsKAgWBgkDBnXSwoCBQECgIFFx3BAsKAgWBgkDBF4fBgoJAQaAgUHDdESwo\n",
       "CBQECgIFXxwGCwoCBYGCQGHO25/g4ywoCBQECgIFJ+lgQUGgIFAQKHi7I1hQECgIFAQKrjuCBQWB\n",
       "gkBBoOC6I1hQECgIFAQKTtLBgoJAQaAgUHCSDhYUBAoCBYGCLw6DBQWBgkBBoDD+KnxnQUGgIFAQ\n",
       "KDhJBwsKAgWBgkBBoOCb1WBBQaAgUBAo+GY1WFAQKAgUBApO0sGCgkBBoCBQcJIOFhQECgIFgcIc\n",
       "77+sLCgIFAQKAgXXHcGCgkBBoCBQcN0RLCgIFAQKAgUn6WBBQaAgUBAo+J96gwUFgYJAQaDgf+oN\n",
       "FhQECgIFgYK3O4IFBYGCQEGg4BeoggUFgYJAQaDgF6iCBQWBgkBBoOCLw2BBQaAgUBAoeAUvWFAQ\n",
       "KAgUBAr+mCVYUBAoCBQECk7SwYKCQEGgIFDwCl6woCBQECgIFLyCFywoCBQECgIFJ+lgQUGgIFAQ\n",
       "KHgFL1hQECgIFAQKfrsjWFAQKAgUBAquO4IFBYGCQEGg4IvDYEFBoCBQECg4SQcLCgIFgYJAwUk6\n",
       "WFAQKAgUBApO0sGCgkBBoCBQ8JAOFhQECgIFgYLrjmBBQaAgUBAoOEkHCwoCBYGCQMFJOlhQECgI\n",
       "FAQKTtLBgoJAQaAgUPDbHcGCgkBBoCBQ8KP/wYKCQEGgIFBw3REsKAgUBAoChbmPp/TGgoJAQaAg\n",
       "UHCSDhYUBAoCBYGCLw6DBQWBgkBBoOCLw2BBQaAgUBAouO4IFhQECgIFgYIvDoMFBYGCQEGg4CQd\n",
       "LCgIFAQKAgW/3REsKAgUBAoChTle71hZUBAoCBQECt7uCBYUBAoCBYHCXCfplQUFgYJAQaDgJB0s\n",
       "KAgUBAoCBXfSwYKCQEGgIFDwdkewoCBQECgIFOb4Y5aVBQWBgkBBoOC6I1hQECgIFAQKAgV/Nx8s\n",
       "KAgUBAoCBa+/BAsKAgWBgkDBpX2woCBQECgIFFx3BAsKAgWBgkBhzuPCY2NBQaAgUBAouO4IFhQE\n",
       "CgIFgYKHdLCgIFAQKAgU3EkHCwoCBYGCQMGddLCgIFAQKAgU5vycpDcWFAQKAgWBgpN0sKAgUBAo\n",
       "CBTmekivLCgIFAQKAgUn6WBBQaAgUBAozPl5SG8sKAgUBAoCBSfpYEFBoCBQECi4kw4WFAQKAgWB\n",
       "gpN0sKAgUBAoCBQ8pIMFBYGCQEGg4IvDYEFBoCBQECjMff68/Rk+zYKCQEGgIFBw3REsKAgUBAoC\n",
       "BW93BAsKAgWBgkBhznXdsbGgIFAQKAgUnKSDBQWBgkBBoDDHF4crCwoCBYGCQMFJOlhQECgIFAQK\n",
       "TtLBgoJAQaAgUJh7naQ3FhQECgIFgYLrjmBBQaAgUBAoeAUvWFAQKAgUBApO0sGCgkBBoCBQmOsk\n",
       "vbKgIFAQKAgUnKSDBQWBgkBBoDDH2x0rCwoCBYGCQMFPlQYLCgIFgYJAwXvSwYKCQEGgIFBwJx0s\n",
       "KAgUBAoCBSfpYEFBoCBQECh4SAcLCgIFgYJAwReHwYKCQEGgIFBwkg4WFAQKAgWBwjy+OFxZUBAo\n",
       "CBQECk7SwYKCQEGgIFDwCl6woCBQECgIFOZxkl5ZUBAoCBQECt7uCBYUBAoCBYGCLw6DBQWBgkBB\n",
       "oOC6I1hQECgIFAQKc5/79mf4NAsKAgWBgkDBdUewoCBQECgIFOZxkl5ZUBAoCBQECv8BchLtGWsS\n",
       "xKgAAAAASUVORK5CYII=\n",
       "\" transform=\"translate(2161, 124)\"/>\n",
       "</g>\n",
       "<path clip-path=\"url(#clip140)\" d=\"M2268.76 1348.92 L2298.43 1348.92 L2298.43 1352.86 L2268.76 1352.86 L2268.76 1348.92 Z\" fill=\"#000000\" fill-rule=\"nonzero\" fill-opacity=\"1\" /><path clip-path=\"url(#clip140)\" d=\"M2309.33 1361.81 L2316.97 1361.81 L2316.97 1335.45 L2308.66 1337.12 L2308.66 1332.86 L2316.93 1331.19 L2321.6 1331.19 L2321.6 1361.81 L2329.24 1361.81 L2329.24 1365.75 L2309.33 1365.75 L2309.33 1361.81 Z\" fill=\"#000000\" fill-rule=\"nonzero\" fill-opacity=\"1\" /><path clip-path=\"url(#clip140)\" d=\"M2338.69 1359.87 L2343.57 1359.87 L2343.57 1365.75 L2338.69 1365.75 L2338.69 1359.87 Z\" fill=\"#000000\" fill-rule=\"nonzero\" fill-opacity=\"1\" /><path clip-path=\"url(#clip140)\" d=\"M2353.8 1331.19 L2372.16 1331.19 L2372.16 1335.12 L2358.08 1335.12 L2358.08 1343.6 Q2359.1 1343.25 2360.12 1343.09 Q2361.14 1342.9 2362.16 1342.9 Q2367.95 1342.9 2371.32 1346.07 Q2374.7 1349.24 2374.7 1354.66 Q2374.7 1360.24 2371.23 1363.34 Q2367.76 1366.42 2361.44 1366.42 Q2359.26 1366.42 2357 1366.05 Q2354.75 1365.68 2352.34 1364.94 L2352.34 1360.24 Q2354.43 1361.37 2356.65 1361.93 Q2358.87 1362.49 2361.35 1362.49 Q2365.35 1362.49 2367.69 1360.38 Q2370.03 1358.27 2370.03 1354.66 Q2370.03 1351.05 2367.69 1348.94 Q2365.35 1346.84 2361.35 1346.84 Q2359.47 1346.84 2357.6 1347.25 Q2355.75 1347.67 2353.8 1348.55 L2353.8 1331.19 Z\" fill=\"#000000\" fill-rule=\"nonzero\" fill-opacity=\"1\" /><path clip-path=\"url(#clip140)\" d=\"M2268.76 1206.54 L2298.43 1206.54 L2298.43 1210.48 L2268.76 1210.48 L2268.76 1206.54 Z\" fill=\"#000000\" fill-rule=\"nonzero\" fill-opacity=\"1\" /><path clip-path=\"url(#clip140)\" d=\"M2309.33 1219.43 L2316.97 1219.43 L2316.97 1193.07 L2308.66 1194.73 L2308.66 1190.48 L2316.93 1188.81 L2321.6 1188.81 L2321.6 1219.43 L2329.24 1219.43 L2329.24 1223.37 L2309.33 1223.37 L2309.33 1219.43 Z\" fill=\"#000000\" fill-rule=\"nonzero\" fill-opacity=\"1\" /><path clip-path=\"url(#clip140)\" d=\"M2338.69 1217.49 L2343.57 1217.49 L2343.57 1223.37 L2338.69 1223.37 L2338.69 1217.49 Z\" fill=\"#000000\" fill-rule=\"nonzero\" fill-opacity=\"1\" /><path clip-path=\"url(#clip140)\" d=\"M2363.76 1191.89 Q2360.14 1191.89 2358.32 1195.45 Q2356.51 1198.99 2356.51 1206.12 Q2356.51 1213.23 2358.32 1216.79 Q2360.14 1220.34 2363.76 1220.34 Q2367.39 1220.34 2369.2 1216.79 Q2371.02 1213.23 2371.02 1206.12 Q2371.02 1198.99 2369.2 1195.45 Q2367.39 1191.89 2363.76 1191.89 M2363.76 1188.18 Q2369.57 1188.18 2372.62 1192.79 Q2375.7 1197.37 2375.7 1206.12 Q2375.7 1214.85 2372.62 1219.46 Q2369.57 1224.04 2363.76 1224.04 Q2357.95 1224.04 2354.87 1219.46 Q2351.81 1214.85 2351.81 1206.12 Q2351.81 1197.37 2354.87 1192.79 Q2357.95 1188.18 2363.76 1188.18 Z\" fill=\"#000000\" fill-rule=\"nonzero\" fill-opacity=\"1\" /><path clip-path=\"url(#clip140)\" d=\"M2268.76 1064.16 L2298.43 1064.16 L2298.43 1068.09 L2268.76 1068.09 L2268.76 1064.16 Z\" fill=\"#000000\" fill-rule=\"nonzero\" fill-opacity=\"1\" /><path clip-path=\"url(#clip140)\" d=\"M2318.52 1049.51 Q2314.91 1049.51 2313.08 1053.07 Q2311.28 1056.61 2311.28 1063.74 Q2311.28 1070.85 2313.08 1074.41 Q2314.91 1077.96 2318.52 1077.96 Q2322.16 1077.96 2323.96 1074.41 Q2325.79 1070.85 2325.79 1063.74 Q2325.79 1056.61 2323.96 1053.07 Q2322.16 1049.51 2318.52 1049.51 M2318.52 1045.8 Q2324.33 1045.8 2327.39 1050.41 Q2330.47 1054.99 2330.47 1063.74 Q2330.47 1072.47 2327.39 1077.08 Q2324.33 1081.66 2318.52 1081.66 Q2312.71 1081.66 2309.64 1077.08 Q2306.58 1072.47 2306.58 1063.74 Q2306.58 1054.99 2309.64 1050.41 Q2312.71 1045.8 2318.52 1045.8 Z\" fill=\"#000000\" fill-rule=\"nonzero\" fill-opacity=\"1\" /><path clip-path=\"url(#clip140)\" d=\"M2338.69 1075.11 L2343.57 1075.11 L2343.57 1080.99 L2338.69 1080.99 L2338.69 1075.11 Z\" fill=\"#000000\" fill-rule=\"nonzero\" fill-opacity=\"1\" /><path clip-path=\"url(#clip140)\" d=\"M2353.8 1046.43 L2372.16 1046.43 L2372.16 1050.36 L2358.08 1050.36 L2358.08 1058.84 Q2359.1 1058.49 2360.12 1058.33 Q2361.14 1058.14 2362.16 1058.14 Q2367.95 1058.14 2371.32 1061.31 Q2374.7 1064.48 2374.7 1069.9 Q2374.7 1075.48 2371.23 1078.58 Q2367.76 1081.66 2361.44 1081.66 Q2359.26 1081.66 2357 1081.29 Q2354.75 1080.92 2352.34 1080.18 L2352.34 1075.48 Q2354.43 1076.61 2356.65 1077.17 Q2358.87 1077.72 2361.35 1077.72 Q2365.35 1077.72 2367.69 1075.62 Q2370.03 1073.51 2370.03 1069.9 Q2370.03 1066.29 2367.69 1064.18 Q2365.35 1062.08 2361.35 1062.08 Q2359.47 1062.08 2357.6 1062.49 Q2355.75 1062.91 2353.8 1063.79 L2353.8 1046.43 Z\" fill=\"#000000\" fill-rule=\"nonzero\" fill-opacity=\"1\" /><path clip-path=\"url(#clip140)\" d=\"M2280.7 907.126 Q2277.09 907.126 2275.26 910.691 Q2273.45 914.232 2273.45 921.362 Q2273.45 928.468 2275.26 932.033 Q2277.09 935.575 2280.7 935.575 Q2284.33 935.575 2286.14 932.033 Q2287.97 928.468 2287.97 921.362 Q2287.97 914.232 2286.14 910.691 Q2284.33 907.126 2280.7 907.126 M2280.7 903.422 Q2286.51 903.422 2289.57 908.029 Q2292.64 912.612 2292.64 921.362 Q2292.64 930.089 2289.57 934.695 Q2286.51 939.278 2280.7 939.278 Q2274.89 939.278 2271.81 934.695 Q2268.76 930.089 2268.76 921.362 Q2268.76 912.612 2271.81 908.029 Q2274.89 903.422 2280.7 903.422 Z\" fill=\"#000000\" fill-rule=\"nonzero\" fill-opacity=\"1\" /><path clip-path=\"url(#clip140)\" d=\"M2280.7 764.745 Q2277.09 764.745 2275.26 768.31 Q2273.45 771.852 2273.45 778.981 Q2273.45 786.088 2275.26 789.652 Q2277.09 793.194 2280.7 793.194 Q2284.33 793.194 2286.14 789.652 Q2287.97 786.088 2287.97 778.981 Q2287.97 771.852 2286.14 768.31 Q2284.33 764.745 2280.7 764.745 M2280.7 761.041 Q2286.51 761.041 2289.57 765.648 Q2292.64 770.231 2292.64 778.981 Q2292.64 787.708 2289.57 792.314 Q2286.51 796.898 2280.7 796.898 Q2274.89 796.898 2271.81 792.314 Q2268.76 787.708 2268.76 778.981 Q2268.76 770.231 2271.81 765.648 Q2274.89 761.041 2280.7 761.041 Z\" fill=\"#000000\" fill-rule=\"nonzero\" fill-opacity=\"1\" /><path clip-path=\"url(#clip140)\" d=\"M2300.86 790.347 L2305.75 790.347 L2305.75 796.226 L2300.86 796.226 L2300.86 790.347 Z\" fill=\"#000000\" fill-rule=\"nonzero\" fill-opacity=\"1\" /><path clip-path=\"url(#clip140)\" d=\"M2315.98 761.666 L2334.33 761.666 L2334.33 765.602 L2320.26 765.602 L2320.26 774.074 Q2321.28 773.727 2322.3 773.565 Q2323.32 773.379 2324.33 773.379 Q2330.12 773.379 2333.5 776.551 Q2336.88 779.722 2336.88 785.139 Q2336.88 790.717 2333.41 793.819 Q2329.94 796.898 2323.62 796.898 Q2321.44 796.898 2319.17 796.527 Q2316.93 796.157 2314.52 795.416 L2314.52 790.717 Q2316.6 791.851 2318.83 792.407 Q2321.05 792.963 2323.52 792.963 Q2327.53 792.963 2329.87 790.856 Q2332.2 788.75 2332.2 785.139 Q2332.2 781.527 2329.87 779.421 Q2327.53 777.314 2323.52 777.314 Q2321.65 777.314 2319.77 777.731 Q2317.92 778.148 2315.98 779.027 L2315.98 761.666 Z\" fill=\"#000000\" fill-rule=\"nonzero\" fill-opacity=\"1\" /><path clip-path=\"url(#clip140)\" d=\"M2269.43 649.911 L2277.07 649.911 L2277.07 623.545 L2268.76 625.212 L2268.76 620.952 L2277.02 619.286 L2281.7 619.286 L2281.7 649.911 L2289.33 649.911 L2289.33 653.846 L2269.43 653.846 L2269.43 649.911 Z\" fill=\"#000000\" fill-rule=\"nonzero\" fill-opacity=\"1\" /><path clip-path=\"url(#clip140)\" d=\"M2298.78 647.966 L2303.66 647.966 L2303.66 653.846 L2298.78 653.846 L2298.78 647.966 Z\" fill=\"#000000\" fill-rule=\"nonzero\" fill-opacity=\"1\" /><path clip-path=\"url(#clip140)\" d=\"M2323.85 622.364 Q2320.24 622.364 2318.41 625.929 Q2316.6 629.471 2316.6 636.6 Q2316.6 643.707 2318.41 647.272 Q2320.24 650.813 2323.85 650.813 Q2327.48 650.813 2329.29 647.272 Q2331.12 643.707 2331.12 636.6 Q2331.12 629.471 2329.29 625.929 Q2327.48 622.364 2323.85 622.364 M2323.85 618.661 Q2329.66 618.661 2332.71 623.267 Q2335.79 627.851 2335.79 636.6 Q2335.79 645.327 2332.71 649.934 Q2329.66 654.517 2323.85 654.517 Q2318.04 654.517 2314.96 649.934 Q2311.9 645.327 2311.9 636.6 Q2311.9 627.851 2314.96 623.267 Q2318.04 618.661 2323.85 618.661 Z\" fill=\"#000000\" fill-rule=\"nonzero\" fill-opacity=\"1\" /><path clip-path=\"url(#clip140)\" d=\"M2269.43 507.53 L2277.07 507.53 L2277.07 481.164 L2268.76 482.831 L2268.76 478.572 L2277.02 476.905 L2281.7 476.905 L2281.7 507.53 L2289.33 507.53 L2289.33 511.465 L2269.43 511.465 L2269.43 507.53 Z\" fill=\"#000000\" fill-rule=\"nonzero\" fill-opacity=\"1\" /><path clip-path=\"url(#clip140)\" d=\"M2298.78 505.585 L2303.66 505.585 L2303.66 511.465 L2298.78 511.465 L2298.78 505.585 Z\" fill=\"#000000\" fill-rule=\"nonzero\" fill-opacity=\"1\" /><path clip-path=\"url(#clip140)\" d=\"M2313.89 476.905 L2332.25 476.905 L2332.25 480.84 L2318.18 480.84 L2318.18 489.312 Q2319.2 488.965 2320.21 488.803 Q2321.23 488.618 2322.25 488.618 Q2328.04 488.618 2331.42 491.789 Q2334.8 494.961 2334.8 500.377 Q2334.8 505.956 2331.33 509.058 Q2327.85 512.136 2321.53 512.136 Q2319.36 512.136 2317.09 511.766 Q2314.84 511.396 2312.44 510.655 L2312.44 505.956 Q2314.52 507.09 2316.74 507.646 Q2318.96 508.201 2321.44 508.201 Q2325.45 508.201 2327.78 506.095 Q2330.12 503.988 2330.12 500.377 Q2330.12 496.766 2327.78 494.66 Q2325.45 492.553 2321.44 492.553 Q2319.57 492.553 2317.69 492.97 Q2315.84 493.386 2313.89 494.266 L2313.89 476.905 Z\" fill=\"#000000\" fill-rule=\"nonzero\" fill-opacity=\"1\" /><path clip-path=\"url(#clip140)\" d=\"M2274.38 365.149 L2290.7 365.149 L2290.7 369.084 L2268.76 369.084 L2268.76 365.149 Q2271.42 362.395 2276 357.765 Q2280.61 353.112 2281.79 351.77 Q2284.03 349.247 2284.91 347.51 Q2285.82 345.751 2285.82 344.061 Q2285.82 341.307 2283.87 339.571 Q2281.95 337.835 2278.85 337.835 Q2276.65 337.835 2274.2 338.598 Q2271.77 339.362 2268.99 340.913 L2268.99 336.191 Q2271.81 335.057 2274.27 334.478 Q2276.72 333.899 2278.76 333.899 Q2284.13 333.899 2287.32 336.585 Q2290.52 339.27 2290.52 343.76 Q2290.52 345.89 2289.7 347.811 Q2288.92 349.709 2286.81 352.302 Q2286.23 352.973 2283.13 356.191 Q2280.03 359.385 2274.38 365.149 Z\" fill=\"#000000\" fill-rule=\"nonzero\" fill-opacity=\"1\" /><path clip-path=\"url(#clip140)\" d=\"M2300.51 363.205 L2305.4 363.205 L2305.4 369.084 L2300.51 369.084 L2300.51 363.205 Z\" fill=\"#000000\" fill-rule=\"nonzero\" fill-opacity=\"1\" /><path clip-path=\"url(#clip140)\" d=\"M2325.58 337.603 Q2321.97 337.603 2320.14 341.168 Q2318.34 344.71 2318.34 351.839 Q2318.34 358.946 2320.14 362.51 Q2321.97 366.052 2325.58 366.052 Q2329.22 366.052 2331.02 362.51 Q2332.85 358.946 2332.85 351.839 Q2332.85 344.71 2331.02 341.168 Q2329.22 337.603 2325.58 337.603 M2325.58 333.899 Q2331.39 333.899 2334.45 338.506 Q2337.53 343.089 2337.53 351.839 Q2337.53 360.566 2334.45 365.172 Q2331.39 369.756 2325.58 369.756 Q2319.77 369.756 2316.7 365.172 Q2313.64 360.566 2313.64 351.839 Q2313.64 343.089 2316.7 338.506 Q2319.77 333.899 2325.58 333.899 Z\" fill=\"#000000\" fill-rule=\"nonzero\" fill-opacity=\"1\" /><path clip-path=\"url(#clip140)\" d=\"M2274.38 222.769 L2290.7 222.769 L2290.7 226.704 L2268.76 226.704 L2268.76 222.769 Q2271.42 220.014 2276 215.384 Q2280.61 210.732 2281.79 209.389 Q2284.03 206.866 2284.91 205.13 Q2285.82 203.37 2285.82 201.681 Q2285.82 198.926 2283.87 197.19 Q2281.95 195.454 2278.85 195.454 Q2276.65 195.454 2274.2 196.218 Q2271.77 196.982 2268.99 198.533 L2268.99 193.81 Q2271.81 192.676 2274.27 192.097 Q2276.72 191.519 2278.76 191.519 Q2284.13 191.519 2287.32 194.204 Q2290.52 196.889 2290.52 201.38 Q2290.52 203.509 2289.7 205.431 Q2288.92 207.329 2286.81 209.921 Q2286.23 210.593 2283.13 213.81 Q2280.03 217.005 2274.38 222.769 Z\" fill=\"#000000\" fill-rule=\"nonzero\" fill-opacity=\"1\" /><path clip-path=\"url(#clip140)\" d=\"M2300.51 220.824 L2305.4 220.824 L2305.4 226.704 L2300.51 226.704 L2300.51 220.824 Z\" fill=\"#000000\" fill-rule=\"nonzero\" fill-opacity=\"1\" /><path clip-path=\"url(#clip140)\" d=\"M2315.63 192.144 L2333.99 192.144 L2333.99 196.079 L2319.91 196.079 L2319.91 204.551 Q2320.93 204.204 2321.95 204.042 Q2322.97 203.857 2323.99 203.857 Q2329.77 203.857 2333.15 207.028 Q2336.53 210.199 2336.53 215.616 Q2336.53 221.194 2333.06 224.296 Q2329.59 227.375 2323.27 227.375 Q2321.09 227.375 2318.83 227.005 Q2316.58 226.634 2314.17 225.894 L2314.17 221.194 Q2316.26 222.329 2318.48 222.884 Q2320.7 223.44 2323.18 223.44 Q2327.18 223.44 2329.52 221.333 Q2331.86 219.227 2331.86 215.616 Q2331.86 212.005 2329.52 209.898 Q2327.18 207.792 2323.18 207.792 Q2321.3 207.792 2319.43 208.208 Q2317.58 208.625 2315.63 209.505 L2315.63 192.144 Z\" fill=\"#000000\" fill-rule=\"nonzero\" fill-opacity=\"1\" /><polyline clip-path=\"url(#clip140)\" style=\"stroke:#000000; stroke-linecap:round; stroke-linejoin:round; stroke-width:4; stroke-opacity:1; fill:none\" points=\"2232.76,1409.37 2232.76,1352.1 2256.76,1352.1 2232.76,1352.1 2232.76,1209.72 2256.76,1209.72 2232.76,1209.72 2232.76,1067.34 2256.76,1067.34 2232.76,1067.34 2232.76,924.956 2256.76,924.956 2232.76,924.956 2232.76,782.575 2256.76,782.575 2232.76,782.575 2232.76,640.195 2256.76,640.195 2232.76,640.195 2232.76,497.814 2256.76,497.814 2232.76,497.814 2232.76,355.433 2256.76,355.433 2232.76,355.433 2232.76,213.052 2256.76,213.052 2232.76,213.052 2232.76,124.324 \"/>\n",
       "</svg>\n"
      ]
     },
     "execution_count": 485,
     "metadata": {},
     "output_type": "execute_result"
    }
   ],
   "source": [
    "heatmap(Tx,Ty,imag(F12list[1]),aspect_ratio=1)"
   ]
  },
  {
   "cell_type": "markdown",
   "metadata": {},
   "source": [
    "## Transformed single particle basis"
   ]
  },
  {
   "cell_type": "code",
   "execution_count": 486,
   "metadata": {},
   "outputs": [],
   "source": [
    "param_dict[\"sub_range\"] = 1:4;"
   ]
  },
  {
   "cell_type": "code",
   "execution_count": 487,
   "metadata": {},
   "outputs": [],
   "source": [
    "param_dict[\"θθ\"] = [0, 0];"
   ]
  },
  {
   "cell_type": "code",
   "execution_count": 488,
   "metadata": {},
   "outputs": [],
   "source": [
    "H_T = get_Hofstadter_hamiltonian(param_dict);\n",
    "H1 = get_sp_op(basis, H_T);\n",
    "sub_states = get_subset_states(H1, param_dict[\"sub_range\"])\n",
    "\n",
    "subspace_proj, P, Pt = get_projector_op(basis, sub_states);\n",
    "param_dict[\"projection_chern\"] = subspace_proj, P, Pt;"
   ]
  },
  {
   "cell_type": "code",
   "execution_count": 489,
   "metadata": {},
   "outputs": [
    {
     "data": {
      "text/plain": [
       "10"
      ]
     },
     "execution_count": 489,
     "metadata": {},
     "output_type": "execute_result"
    }
   ],
   "source": [
    "PN = 2\n",
    "param_dict[\"PN\"] = PN\n",
    "basis_mb_chern = get_basis_mb(param_dict);\n",
    "param_dict[\"basis_mb_chern\"] = basis_mb_chern\n",
    "param_dict[\"dimH_mb\"] = length(basis_mb_chern)"
   ]
  },
  {
   "cell_type": "code",
   "execution_count": 490,
   "metadata": {},
   "outputs": [
    {
     "data": {
      "text/plain": [
       "10-element Vector{Vector{Int64}}:\n",
       " [2, 0, 0, 0]\n",
       " [1, 1, 0, 0]\n",
       " [1, 0, 1, 0]\n",
       " [1, 0, 0, 1]\n",
       " [0, 2, 0, 0]\n",
       " [0, 1, 1, 0]\n",
       " [0, 1, 0, 1]\n",
       " [0, 0, 2, 0]\n",
       " [0, 0, 1, 1]\n",
       " [0, 0, 0, 2]"
      ]
     },
     "execution_count": 490,
     "metadata": {},
     "output_type": "execute_result"
    }
   ],
   "source": [
    "mb_states_chern = bosonstates(param_dict[\"projection_chern\"][1], param_dict[\"PN\"]);\n",
    "param_dict[\"mb_states_chern\"] = mb_states_chern"
   ]
  },
  {
   "cell_type": "code",
   "execution_count": 491,
   "metadata": {},
   "outputs": [],
   "source": [
    "param_dict[\"θθ\"] = [0, 1.1];"
   ]
  },
  {
   "cell_type": "code",
   "execution_count": 492,
   "metadata": {},
   "outputs": [],
   "source": [
    "H_T = get_Hofstadter_hamiltonian(param_dict);\n",
    "H1 = get_sp_op(basis, H_T);\n",
    "sub_states = get_subset_states(H1, param_dict[\"sub_range\"])\n",
    "\n",
    "subspace_proj, P, Pt = get_projector_op(basis, sub_states);\n",
    "param_dict[\"projection\"] = subspace_proj, P, Pt;"
   ]
  },
  {
   "cell_type": "code",
   "execution_count": 493,
   "metadata": {},
   "outputs": [
    {
     "data": {
      "text/plain": [
       "10-element Vector{Vector{Int64}}:\n",
       " [2, 0, 0, 0]\n",
       " [1, 1, 0, 0]\n",
       " [1, 0, 1, 0]\n",
       " [1, 0, 0, 1]\n",
       " [0, 2, 0, 0]\n",
       " [0, 1, 1, 0]\n",
       " [0, 1, 0, 1]\n",
       " [0, 0, 2, 0]\n",
       " [0, 0, 1, 1]\n",
       " [0, 0, 0, 2]"
      ]
     },
     "execution_count": 493,
     "metadata": {},
     "output_type": "execute_result"
    }
   ],
   "source": [
    "basis_mb = get_basis_mb(param_dict);\n",
    "param_dict[\"basis_mb\"] = basis_mb\n",
    "mb_states = bosonstates(param_dict[\"projection\"][1], param_dict[\"PN\"]);\n",
    "param_dict[\"mb_states\"] = mb_states"
   ]
  },
  {
   "cell_type": "code",
   "execution_count": 494,
   "metadata": {},
   "outputs": [
    {
     "data": {
      "text/plain": [
       "Operator(dim=4x4)\n",
       "  basis left:  Subspace(superbasis=NLevel(N=9), states:4)\n",
       "  basis right: Subspace(superbasis=NLevel(N=9), states:4)\n",
       "  -0.745246+0.497574im   0.00729881+0.169221im   …    0.0711895-0.132529im\n",
       "   -0.12398+0.343045im   -0.0942215+0.0183998im       0.0775904-0.0162512im\n",
       "  -0.122788-0.0978361im    0.933827-0.167325im      -0.00547795-0.130028im\n",
       " -0.0413044-0.0693508im  -0.0155637-0.0461017im       -0.270478-0.375028im"
      ]
     },
     "execution_count": 494,
     "metadata": {},
     "output_type": "execute_result"
    }
   ],
   "source": [
    "param_dict[\"projection_chern\"][2]*param_dict[\"projection\"][2]'"
   ]
  },
  {
   "cell_type": "code",
   "execution_count": 495,
   "metadata": {},
   "outputs": [
    {
     "data": {
      "text/plain": [
       "Operator(dim=4x4)\n",
       "  basis left:  Subspace(superbasis=NLevel(N=9), states:4)\n",
       "  basis right: Subspace(superbasis=NLevel(N=9), states:4)\n",
       "  -0.745246-0.497574im    -0.12398-0.343045im   …  -0.0413044+0.0693508im\n",
       " 0.00729881-0.169221im  -0.0942215-0.0183998im     -0.0155637+0.0461017im\n",
       "   0.200642+0.272274im  -0.0966635-0.904935im       -0.010712-0.124426im\n",
       "  0.0711895+0.132529im   0.0775904+0.0162512im      -0.270478+0.375028im"
      ]
     },
     "execution_count": 495,
     "metadata": {},
     "output_type": "execute_result"
    }
   ],
   "source": [
    "param_dict[\"projection\"][2]*param_dict[\"projection_chern\"][2]'"
   ]
  },
  {
   "cell_type": "code",
   "execution_count": 496,
   "metadata": {},
   "outputs": [
    {
     "data": {
      "text/plain": [
       "(Any[Any[1, 1], Any[1, 2], Any[1, 3], Any[1, 4], Any[2, 2], Any[2, 3], Any[2, 4], Any[3, 3], Any[3, 4], Any[4, 4]], Any[0.7071067811865475, 1.0, 1.0, 1.0, 0.7071067811865475, 1.0, 1.0, 0.7071067811865475, 1.0, 0.7071067811865475])"
      ]
     },
     "execution_count": 496,
     "metadata": {},
     "output_type": "execute_result"
    }
   ],
   "source": [
    "get_state_list(mb_states_chern)"
   ]
  },
  {
   "cell_type": "code",
   "execution_count": 497,
   "metadata": {},
   "outputs": [],
   "source": [
    "EEA, UUA = calc_all_states_H_mb_2(param_dict);"
   ]
  },
  {
   "cell_type": "code",
   "execution_count": 498,
   "metadata": {},
   "outputs": [
    {
     "data": {
      "image/svg+xml": [
       "<?xml version=\"1.0\" encoding=\"utf-8\"?>\n",
       "<svg xmlns=\"http://www.w3.org/2000/svg\" xmlns:xlink=\"http://www.w3.org/1999/xlink\" width=\"600\" height=\"400\" viewBox=\"0 0 2400 1600\">\n",
       "<defs>\n",
       "  <clipPath id=\"clip180\">\n",
       "    <rect x=\"0\" y=\"0\" width=\"2400\" height=\"1600\"/>\n",
       "  </clipPath>\n",
       "</defs>\n",
       "<path clip-path=\"url(#clip180)\" d=\"M0 1600 L2400 1600 L2400 0 L0 0  Z\" fill=\"#ffffff\" fill-rule=\"evenodd\" fill-opacity=\"1\"/>\n",
       "<defs>\n",
       "  <clipPath id=\"clip181\">\n",
       "    <rect x=\"480\" y=\"0\" width=\"1681\" height=\"1600\"/>\n",
       "  </clipPath>\n",
       "</defs>\n",
       "<path clip-path=\"url(#clip180)\" d=\"M149.191 1486.45 L2352.76 1486.45 L2352.76 47.2441 L149.191 47.2441  Z\" fill=\"#ffffff\" fill-rule=\"evenodd\" fill-opacity=\"1\"/>\n",
       "<defs>\n",
       "  <clipPath id=\"clip182\">\n",
       "    <rect x=\"149\" y=\"47\" width=\"2205\" height=\"1440\"/>\n",
       "  </clipPath>\n",
       "</defs>\n",
       "<polyline clip-path=\"url(#clip182)\" style=\"stroke:#000000; stroke-linecap:round; stroke-linejoin:round; stroke-width:2; stroke-opacity:0.1; fill:none\" points=\"442.538,1486.45 442.538,47.2441 \"/>\n",
       "<polyline clip-path=\"url(#clip182)\" style=\"stroke:#000000; stroke-linecap:round; stroke-linejoin:round; stroke-width:2; stroke-opacity:0.1; fill:none\" points=\"904.501,1486.45 904.501,47.2441 \"/>\n",
       "<polyline clip-path=\"url(#clip182)\" style=\"stroke:#000000; stroke-linecap:round; stroke-linejoin:round; stroke-width:2; stroke-opacity:0.1; fill:none\" points=\"1366.46,1486.45 1366.46,47.2441 \"/>\n",
       "<polyline clip-path=\"url(#clip182)\" style=\"stroke:#000000; stroke-linecap:round; stroke-linejoin:round; stroke-width:2; stroke-opacity:0.1; fill:none\" points=\"1828.43,1486.45 1828.43,47.2441 \"/>\n",
       "<polyline clip-path=\"url(#clip182)\" style=\"stroke:#000000; stroke-linecap:round; stroke-linejoin:round; stroke-width:2; stroke-opacity:0.1; fill:none\" points=\"2290.39,1486.45 2290.39,47.2441 \"/>\n",
       "<polyline clip-path=\"url(#clip180)\" style=\"stroke:#000000; stroke-linecap:round; stroke-linejoin:round; stroke-width:4; stroke-opacity:1; fill:none\" points=\"149.191,1486.45 2352.76,1486.45 \"/>\n",
       "<polyline clip-path=\"url(#clip180)\" style=\"stroke:#000000; stroke-linecap:round; stroke-linejoin:round; stroke-width:4; stroke-opacity:1; fill:none\" points=\"442.538,1486.45 442.538,1467.55 \"/>\n",
       "<polyline clip-path=\"url(#clip180)\" style=\"stroke:#000000; stroke-linecap:round; stroke-linejoin:round; stroke-width:4; stroke-opacity:1; fill:none\" points=\"904.501,1486.45 904.501,1467.55 \"/>\n",
       "<polyline clip-path=\"url(#clip180)\" style=\"stroke:#000000; stroke-linecap:round; stroke-linejoin:round; stroke-width:4; stroke-opacity:1; fill:none\" points=\"1366.46,1486.45 1366.46,1467.55 \"/>\n",
       "<polyline clip-path=\"url(#clip180)\" style=\"stroke:#000000; stroke-linecap:round; stroke-linejoin:round; stroke-width:4; stroke-opacity:1; fill:none\" points=\"1828.43,1486.45 1828.43,1467.55 \"/>\n",
       "<polyline clip-path=\"url(#clip180)\" style=\"stroke:#000000; stroke-linecap:round; stroke-linejoin:round; stroke-width:4; stroke-opacity:1; fill:none\" points=\"2290.39,1486.45 2290.39,1467.55 \"/>\n",
       "<path clip-path=\"url(#clip180)\" d=\"M437.19 1544.91 L453.51 1544.91 L453.51 1548.85 L431.565 1548.85 L431.565 1544.91 Q434.227 1542.16 438.811 1537.53 Q443.417 1532.88 444.598 1531.53 Q446.843 1529.01 447.723 1527.27 Q448.626 1525.51 448.626 1523.82 Q448.626 1521.07 446.681 1519.33 Q444.76 1517.6 441.658 1517.6 Q439.459 1517.6 437.005 1518.36 Q434.575 1519.13 431.797 1520.68 L431.797 1515.95 Q434.621 1514.82 437.075 1514.24 Q439.528 1513.66 441.565 1513.66 Q446.936 1513.66 450.13 1516.35 Q453.325 1519.03 453.325 1523.52 Q453.325 1525.65 452.514 1527.57 Q451.727 1529.47 449.621 1532.07 Q449.042 1532.74 445.94 1535.95 Q442.838 1539.15 437.19 1544.91 Z\" fill=\"#000000\" fill-rule=\"nonzero\" fill-opacity=\"1\" /><path clip-path=\"url(#clip180)\" d=\"M907.51 1518.36 L895.705 1536.81 L907.51 1536.81 L907.51 1518.36 M906.283 1514.29 L912.163 1514.29 L912.163 1536.81 L917.093 1536.81 L917.093 1540.7 L912.163 1540.7 L912.163 1548.85 L907.51 1548.85 L907.51 1540.7 L891.908 1540.7 L891.908 1536.19 L906.283 1514.29 Z\" fill=\"#000000\" fill-rule=\"nonzero\" fill-opacity=\"1\" /><path clip-path=\"url(#clip180)\" d=\"M1366.87 1529.7 Q1363.72 1529.7 1361.87 1531.86 Q1360.04 1534.01 1360.04 1537.76 Q1360.04 1541.49 1361.87 1543.66 Q1363.72 1545.82 1366.87 1545.82 Q1370.02 1545.82 1371.85 1543.66 Q1373.7 1541.49 1373.7 1537.76 Q1373.7 1534.01 1371.85 1531.86 Q1370.02 1529.7 1366.87 1529.7 M1376.15 1515.05 L1376.15 1519.31 Q1374.39 1518.48 1372.59 1518.04 Q1370.8 1517.6 1369.05 1517.6 Q1364.42 1517.6 1361.96 1520.72 Q1359.53 1523.85 1359.18 1530.17 Q1360.55 1528.15 1362.61 1527.09 Q1364.67 1526 1367.15 1526 Q1372.36 1526 1375.36 1529.17 Q1378.4 1532.32 1378.4 1537.76 Q1378.4 1543.08 1375.25 1546.3 Q1372.1 1549.52 1366.87 1549.52 Q1360.87 1549.52 1357.7 1544.94 Q1354.53 1540.33 1354.53 1531.6 Q1354.53 1523.41 1358.42 1518.55 Q1362.31 1513.66 1368.86 1513.66 Q1370.62 1513.66 1372.4 1514.01 Q1374.21 1514.36 1376.15 1515.05 Z\" fill=\"#000000\" fill-rule=\"nonzero\" fill-opacity=\"1\" /><path clip-path=\"url(#clip180)\" d=\"M1828.43 1532.44 Q1825.09 1532.44 1823.17 1534.22 Q1821.27 1536 1821.27 1539.13 Q1821.27 1542.25 1823.17 1544.03 Q1825.09 1545.82 1828.43 1545.82 Q1831.76 1545.82 1833.68 1544.03 Q1835.6 1542.23 1835.6 1539.13 Q1835.6 1536 1833.68 1534.22 Q1831.78 1532.44 1828.43 1532.44 M1823.75 1530.45 Q1820.74 1529.7 1819.05 1527.64 Q1817.39 1525.58 1817.39 1522.62 Q1817.39 1518.48 1820.33 1516.07 Q1823.29 1513.66 1828.43 1513.66 Q1833.59 1513.66 1836.53 1516.07 Q1839.47 1518.48 1839.47 1522.62 Q1839.47 1525.58 1837.78 1527.64 Q1836.11 1529.7 1833.13 1530.45 Q1836.51 1531.23 1838.38 1533.52 Q1840.28 1535.82 1840.28 1539.13 Q1840.28 1544.15 1837.2 1546.83 Q1834.15 1549.52 1828.43 1549.52 Q1822.71 1549.52 1819.63 1546.83 Q1816.58 1544.15 1816.58 1539.13 Q1816.58 1535.82 1818.47 1533.52 Q1820.37 1531.23 1823.75 1530.45 M1822.04 1523.06 Q1822.04 1525.75 1823.71 1527.25 Q1825.4 1528.76 1828.43 1528.76 Q1831.44 1528.76 1833.13 1527.25 Q1834.84 1525.75 1834.84 1523.06 Q1834.84 1520.38 1833.13 1518.87 Q1831.44 1517.37 1828.43 1517.37 Q1825.4 1517.37 1823.71 1518.87 Q1822.04 1520.38 1822.04 1523.06 Z\" fill=\"#000000\" fill-rule=\"nonzero\" fill-opacity=\"1\" /><path clip-path=\"url(#clip180)\" d=\"M2265.08 1544.91 L2272.72 1544.91 L2272.72 1518.55 L2264.41 1520.21 L2264.41 1515.95 L2272.67 1514.29 L2277.35 1514.29 L2277.35 1544.91 L2284.99 1544.91 L2284.99 1548.85 L2265.08 1548.85 L2265.08 1544.91 Z\" fill=\"#000000\" fill-rule=\"nonzero\" fill-opacity=\"1\" /><path clip-path=\"url(#clip180)\" d=\"M2304.43 1517.37 Q2300.82 1517.37 2298.99 1520.93 Q2297.18 1524.47 2297.18 1531.6 Q2297.18 1538.71 2298.99 1542.27 Q2300.82 1545.82 2304.43 1545.82 Q2308.06 1545.82 2309.87 1542.27 Q2311.7 1538.71 2311.7 1531.6 Q2311.7 1524.47 2309.87 1520.93 Q2308.06 1517.37 2304.43 1517.37 M2304.43 1513.66 Q2310.24 1513.66 2313.3 1518.27 Q2316.37 1522.85 2316.37 1531.6 Q2316.37 1540.33 2313.3 1544.94 Q2310.24 1549.52 2304.43 1549.52 Q2298.62 1549.52 2295.54 1544.94 Q2292.49 1540.33 2292.49 1531.6 Q2292.49 1522.85 2295.54 1518.27 Q2298.62 1513.66 2304.43 1513.66 Z\" fill=\"#000000\" fill-rule=\"nonzero\" fill-opacity=\"1\" /><polyline clip-path=\"url(#clip182)\" style=\"stroke:#000000; stroke-linecap:round; stroke-linejoin:round; stroke-width:2; stroke-opacity:0.1; fill:none\" points=\"149.191,1354.76 2352.76,1354.76 \"/>\n",
       "<polyline clip-path=\"url(#clip182)\" style=\"stroke:#000000; stroke-linecap:round; stroke-linejoin:round; stroke-width:2; stroke-opacity:0.1; fill:none\" points=\"149.191,1158.79 2352.76,1158.79 \"/>\n",
       "<polyline clip-path=\"url(#clip182)\" style=\"stroke:#000000; stroke-linecap:round; stroke-linejoin:round; stroke-width:2; stroke-opacity:0.1; fill:none\" points=\"149.191,962.819 2352.76,962.819 \"/>\n",
       "<polyline clip-path=\"url(#clip182)\" style=\"stroke:#000000; stroke-linecap:round; stroke-linejoin:round; stroke-width:2; stroke-opacity:0.1; fill:none\" points=\"149.191,766.846 2352.76,766.846 \"/>\n",
       "<polyline clip-path=\"url(#clip182)\" style=\"stroke:#000000; stroke-linecap:round; stroke-linejoin:round; stroke-width:2; stroke-opacity:0.1; fill:none\" points=\"149.191,570.873 2352.76,570.873 \"/>\n",
       "<polyline clip-path=\"url(#clip182)\" style=\"stroke:#000000; stroke-linecap:round; stroke-linejoin:round; stroke-width:2; stroke-opacity:0.1; fill:none\" points=\"149.191,374.9 2352.76,374.9 \"/>\n",
       "<polyline clip-path=\"url(#clip182)\" style=\"stroke:#000000; stroke-linecap:round; stroke-linejoin:round; stroke-width:2; stroke-opacity:0.1; fill:none\" points=\"149.191,178.928 2352.76,178.928 \"/>\n",
       "<polyline clip-path=\"url(#clip180)\" style=\"stroke:#000000; stroke-linecap:round; stroke-linejoin:round; stroke-width:4; stroke-opacity:1; fill:none\" points=\"149.191,1486.45 149.191,47.2441 \"/>\n",
       "<polyline clip-path=\"url(#clip180)\" style=\"stroke:#000000; stroke-linecap:round; stroke-linejoin:round; stroke-width:4; stroke-opacity:1; fill:none\" points=\"149.191,1354.76 168.089,1354.76 \"/>\n",
       "<polyline clip-path=\"url(#clip180)\" style=\"stroke:#000000; stroke-linecap:round; stroke-linejoin:round; stroke-width:4; stroke-opacity:1; fill:none\" points=\"149.191,1158.79 168.089,1158.79 \"/>\n",
       "<polyline clip-path=\"url(#clip180)\" style=\"stroke:#000000; stroke-linecap:round; stroke-linejoin:round; stroke-width:4; stroke-opacity:1; fill:none\" points=\"149.191,962.819 168.089,962.819 \"/>\n",
       "<polyline clip-path=\"url(#clip180)\" style=\"stroke:#000000; stroke-linecap:round; stroke-linejoin:round; stroke-width:4; stroke-opacity:1; fill:none\" points=\"149.191,766.846 168.089,766.846 \"/>\n",
       "<polyline clip-path=\"url(#clip180)\" style=\"stroke:#000000; stroke-linecap:round; stroke-linejoin:round; stroke-width:4; stroke-opacity:1; fill:none\" points=\"149.191,570.873 168.089,570.873 \"/>\n",
       "<polyline clip-path=\"url(#clip180)\" style=\"stroke:#000000; stroke-linecap:round; stroke-linejoin:round; stroke-width:4; stroke-opacity:1; fill:none\" points=\"149.191,374.9 168.089,374.9 \"/>\n",
       "<polyline clip-path=\"url(#clip180)\" style=\"stroke:#000000; stroke-linecap:round; stroke-linejoin:round; stroke-width:4; stroke-opacity:1; fill:none\" points=\"149.191,178.928 168.089,178.928 \"/>\n",
       "<path clip-path=\"url(#clip180)\" d=\"M52.4736 1355.22 L82.1494 1355.22 L82.1494 1359.15 L52.4736 1359.15 L52.4736 1355.22 Z\" fill=\"#000000\" fill-rule=\"nonzero\" fill-opacity=\"1\" /><path clip-path=\"url(#clip180)\" d=\"M92.2882 1337.48 L110.645 1337.48 L110.645 1341.42 L96.5706 1341.42 L96.5706 1349.89 Q97.5891 1349.54 98.6076 1349.38 Q99.6261 1349.2 100.645 1349.2 Q106.432 1349.2 109.811 1352.37 Q113.191 1355.54 113.191 1360.96 Q113.191 1366.54 109.719 1369.64 Q106.246 1372.72 99.927 1372.72 Q97.7511 1372.72 95.4826 1372.35 Q93.2373 1371.97 90.8299 1371.23 L90.8299 1366.54 Q92.9132 1367.67 95.1354 1368.22 Q97.3576 1368.78 99.8345 1368.78 Q103.839 1368.78 106.177 1366.67 Q108.515 1364.57 108.515 1360.96 Q108.515 1357.35 106.177 1355.24 Q103.839 1353.13 99.8345 1353.13 Q97.9595 1353.13 96.0845 1353.55 Q94.2326 1353.97 92.2882 1354.85 L92.2882 1337.48 Z\" fill=\"#000000\" fill-rule=\"nonzero\" fill-opacity=\"1\" /><path clip-path=\"url(#clip180)\" d=\"M50.9921 1159.24 L80.6679 1159.24 L80.6679 1163.18 L50.9921 1163.18 L50.9921 1159.24 Z\" fill=\"#000000\" fill-rule=\"nonzero\" fill-opacity=\"1\" /><path clip-path=\"url(#clip180)\" d=\"M103.608 1145.59 L91.8021 1164.03 L103.608 1164.03 L103.608 1145.59 M102.381 1141.51 L108.26 1141.51 L108.26 1164.03 L113.191 1164.03 L113.191 1167.92 L108.26 1167.92 L108.26 1176.07 L103.608 1176.07 L103.608 1167.92 L88.0058 1167.92 L88.0058 1163.41 L102.381 1141.51 Z\" fill=\"#000000\" fill-rule=\"nonzero\" fill-opacity=\"1\" /><path clip-path=\"url(#clip180)\" d=\"M52.1264 963.27 L81.8021 963.27 L81.8021 967.205 L52.1264 967.205 L52.1264 963.27 Z\" fill=\"#000000\" fill-rule=\"nonzero\" fill-opacity=\"1\" /><path clip-path=\"url(#clip180)\" d=\"M106.061 961.465 Q109.418 962.182 111.293 964.451 Q113.191 966.719 113.191 970.053 Q113.191 975.168 109.672 977.969 Q106.154 980.77 99.6724 980.77 Q97.4965 980.77 95.1817 980.33 Q92.89 979.914 90.4364 979.057 L90.4364 974.543 Q92.3808 975.678 94.6956 976.256 Q97.0104 976.835 99.5335 976.835 Q103.932 976.835 106.223 975.099 Q108.538 973.363 108.538 970.053 Q108.538 966.997 106.385 965.284 Q104.256 963.548 100.436 963.548 L96.4085 963.548 L96.4085 959.705 L100.621 959.705 Q104.071 959.705 105.899 958.34 Q107.728 956.951 107.728 954.358 Q107.728 951.696 105.83 950.284 Q103.955 948.849 100.436 948.849 Q98.515 948.849 96.316 949.266 Q94.1169 949.682 91.478 950.562 L91.478 946.395 Q94.14 945.655 96.4548 945.284 Q98.7928 944.914 100.853 944.914 Q106.177 944.914 109.279 947.344 Q112.381 949.752 112.381 953.872 Q112.381 956.742 110.737 958.733 Q109.094 960.701 106.061 961.465 Z\" fill=\"#000000\" fill-rule=\"nonzero\" fill-opacity=\"1\" /><path clip-path=\"url(#clip180)\" d=\"M53.0754 767.297 L82.7512 767.297 L82.7512 771.233 L53.0754 771.233 L53.0754 767.297 Z\" fill=\"#000000\" fill-rule=\"nonzero\" fill-opacity=\"1\" /><path clip-path=\"url(#clip180)\" d=\"M96.8715 780.191 L113.191 780.191 L113.191 784.126 L91.2465 784.126 L91.2465 780.191 Q93.9086 777.436 98.4919 772.807 Q103.098 768.154 104.279 766.811 Q106.524 764.288 107.404 762.552 Q108.307 760.793 108.307 759.103 Q108.307 756.348 106.362 754.612 Q104.441 752.876 101.339 752.876 Q99.14 752.876 96.6863 753.64 Q94.2558 754.404 91.478 755.955 L91.478 751.233 Q94.3021 750.098 96.7558 749.52 Q99.2095 748.941 101.246 748.941 Q106.617 748.941 109.811 751.626 Q113.006 754.311 113.006 758.802 Q113.006 760.932 112.196 762.853 Q111.408 764.751 109.302 767.344 Q108.723 768.015 105.621 771.233 Q102.52 774.427 96.8715 780.191 Z\" fill=\"#000000\" fill-rule=\"nonzero\" fill-opacity=\"1\" /><path clip-path=\"url(#clip180)\" d=\"M52.7051 571.325 L82.3808 571.325 L82.3808 575.26 L52.7051 575.26 L52.7051 571.325 Z\" fill=\"#000000\" fill-rule=\"nonzero\" fill-opacity=\"1\" /><path clip-path=\"url(#clip180)\" d=\"M93.2836 584.218 L100.922 584.218 L100.922 557.852 L92.6123 559.519 L92.6123 555.26 L100.876 553.593 L105.552 553.593 L105.552 584.218 L113.191 584.218 L113.191 588.153 L93.2836 588.153 L93.2836 584.218 Z\" fill=\"#000000\" fill-rule=\"nonzero\" fill-opacity=\"1\" /><path clip-path=\"url(#clip180)\" d=\"M101.246 360.699 Q97.6354 360.699 95.8067 364.264 Q94.0012 367.806 94.0012 374.935 Q94.0012 382.042 95.8067 385.606 Q97.6354 389.148 101.246 389.148 Q104.881 389.148 106.686 385.606 Q108.515 382.042 108.515 374.935 Q108.515 367.806 106.686 364.264 Q104.881 360.699 101.246 360.699 M101.246 356.995 Q107.057 356.995 110.112 361.602 Q113.191 366.185 113.191 374.935 Q113.191 383.662 110.112 388.268 Q107.057 392.852 101.246 392.852 Q95.4363 392.852 92.3576 388.268 Q89.3021 383.662 89.3021 374.935 Q89.3021 366.185 92.3576 361.602 Q95.4363 356.995 101.246 356.995 Z\" fill=\"#000000\" fill-rule=\"nonzero\" fill-opacity=\"1\" /><path clip-path=\"url(#clip180)\" d=\"M93.2836 192.272 L100.922 192.272 L100.922 165.907 L92.6123 167.573 L92.6123 163.314 L100.876 161.648 L105.552 161.648 L105.552 192.272 L113.191 192.272 L113.191 196.208 L93.2836 196.208 L93.2836 192.272 Z\" fill=\"#000000\" fill-rule=\"nonzero\" fill-opacity=\"1\" /><circle clip-path=\"url(#clip182)\" cx=\"211.556\" cy=\"1445.72\" r=\"14.4\" fill=\"#009af9\" fill-rule=\"evenodd\" fill-opacity=\"1\" stroke=\"#000000\" stroke-opacity=\"1\" stroke-width=\"3.2\"/>\n",
       "<circle clip-path=\"url(#clip182)\" cx=\"442.538\" cy=\"1445.72\" r=\"14.4\" fill=\"#009af9\" fill-rule=\"evenodd\" fill-opacity=\"1\" stroke=\"#000000\" stroke-opacity=\"1\" stroke-width=\"3.2\"/>\n",
       "<circle clip-path=\"url(#clip182)\" cx=\"673.519\" cy=\"1445.72\" r=\"14.4\" fill=\"#009af9\" fill-rule=\"evenodd\" fill-opacity=\"1\" stroke=\"#000000\" stroke-opacity=\"1\" stroke-width=\"3.2\"/>\n",
       "<circle clip-path=\"url(#clip182)\" cx=\"904.501\" cy=\"1445.72\" r=\"14.4\" fill=\"#009af9\" fill-rule=\"evenodd\" fill-opacity=\"1\" stroke=\"#000000\" stroke-opacity=\"1\" stroke-width=\"3.2\"/>\n",
       "<circle clip-path=\"url(#clip182)\" cx=\"1135.48\" cy=\"1445.72\" r=\"14.4\" fill=\"#009af9\" fill-rule=\"evenodd\" fill-opacity=\"1\" stroke=\"#000000\" stroke-opacity=\"1\" stroke-width=\"3.2\"/>\n",
       "<circle clip-path=\"url(#clip182)\" cx=\"1366.46\" cy=\"1445.72\" r=\"14.4\" fill=\"#009af9\" fill-rule=\"evenodd\" fill-opacity=\"1\" stroke=\"#000000\" stroke-opacity=\"1\" stroke-width=\"3.2\"/>\n",
       "<circle clip-path=\"url(#clip182)\" cx=\"1597.45\" cy=\"766.846\" r=\"14.4\" fill=\"#009af9\" fill-rule=\"evenodd\" fill-opacity=\"1\" stroke=\"#000000\" stroke-opacity=\"1\" stroke-width=\"3.2\"/>\n",
       "<circle clip-path=\"url(#clip182)\" cx=\"1828.43\" cy=\"766.846\" r=\"14.4\" fill=\"#009af9\" fill-rule=\"evenodd\" fill-opacity=\"1\" stroke=\"#000000\" stroke-opacity=\"1\" stroke-width=\"3.2\"/>\n",
       "<circle clip-path=\"url(#clip182)\" cx=\"2059.41\" cy=\"766.846\" r=\"14.4\" fill=\"#009af9\" fill-rule=\"evenodd\" fill-opacity=\"1\" stroke=\"#000000\" stroke-opacity=\"1\" stroke-width=\"3.2\"/>\n",
       "<circle clip-path=\"url(#clip182)\" cx=\"2290.39\" cy=\"87.9763\" r=\"14.4\" fill=\"#009af9\" fill-rule=\"evenodd\" fill-opacity=\"1\" stroke=\"#000000\" stroke-opacity=\"1\" stroke-width=\"3.2\"/>\n",
       "<path clip-path=\"url(#clip180)\" d=\"M222.643 198.898 L495.43 198.898 L495.43 95.2176 L222.643 95.2176  Z\" fill=\"#ffffff\" fill-rule=\"evenodd\" fill-opacity=\"1\"/>\n",
       "<polyline clip-path=\"url(#clip180)\" style=\"stroke:#000000; stroke-linecap:round; stroke-linejoin:round; stroke-width:4; stroke-opacity:1; fill:none\" points=\"222.643,198.898 495.43,198.898 495.43,95.2176 222.643,95.2176 222.643,198.898 \"/>\n",
       "<circle clip-path=\"url(#clip180)\" cx=\"320.579\" cy=\"147.058\" r=\"20.48\" fill=\"#009af9\" fill-rule=\"evenodd\" fill-opacity=\"1\" stroke=\"#000000\" stroke-opacity=\"1\" stroke-width=\"4.55111\"/>\n",
       "<path clip-path=\"url(#clip180)\" d=\"M432.358 166.745 Q430.552 171.375 428.84 172.787 Q427.127 174.199 424.256 174.199 L420.853 174.199 L420.853 170.634 L423.353 170.634 Q425.113 170.634 426.085 169.8 Q427.057 168.967 428.238 165.865 L429.002 163.921 L418.515 138.412 L423.029 138.412 L431.131 158.689 L439.233 138.412 L443.747 138.412 L432.358 166.745 Z\" fill=\"#000000\" fill-rule=\"nonzero\" fill-opacity=\"1\" /><path clip-path=\"url(#clip180)\" d=\"M451.038 160.402 L458.677 160.402 L458.677 134.037 L450.367 135.703 L450.367 131.444 L458.631 129.778 L463.307 129.778 L463.307 160.402 L470.946 160.402 L470.946 164.338 L451.038 164.338 L451.038 160.402 Z\" fill=\"#000000\" fill-rule=\"nonzero\" fill-opacity=\"1\" /></svg>\n"
      ]
     },
     "execution_count": 498,
     "metadata": {},
     "output_type": "execute_result"
    }
   ],
   "source": [
    "scatter(EEA[1,1,:])#, ylimits=(-6,-4))"
   ]
  },
  {
   "cell_type": "code",
   "execution_count": 499,
   "metadata": {},
   "outputs": [
    {
     "data": {
      "text/plain": [
       "1-element Vector{Any}:\n",
       " -1.0000000000000009 - 2.8595791220108556e-16im"
      ]
     },
     "execution_count": 499,
     "metadata": {},
     "output_type": "execute_result"
    }
   ],
   "source": [
    "bands = [[1,6]]\n",
    "#bands = [[1,5],[6,10],[11,15]]\n",
    "#bands = [[1,5]]\n",
    "Chern, F12list = calc_chern_bands(UUA, bands);\n",
    "Chern"
   ]
  },
  {
   "cell_type": "code",
   "execution_count": null,
   "metadata": {},
   "outputs": [],
   "source": []
  }
 ],
 "metadata": {
  "kernelspec": {
   "display_name": "Julia 1.8.5",
   "language": "julia",
   "name": "julia-1.8"
  },
  "language_info": {
   "file_extension": ".jl",
   "mimetype": "application/julia",
   "name": "julia",
   "version": "1.8.5"
  }
 },
 "nbformat": 4,
 "nbformat_minor": 5
}
