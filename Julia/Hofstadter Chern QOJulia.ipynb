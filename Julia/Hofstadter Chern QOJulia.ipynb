{
 "cells": [
  {
   "cell_type": "markdown",
   "id": "006f27e4",
   "metadata": {},
   "source": [
    "Many-Body Chern Number without Integration\n",
    "\n",
    "Koji Kudo, Haruki Watanabe, Toshikaze Kariyado, and Yasuhiro Hatsugai\n",
    "\n",
    "Phys. Rev. Lett. 122, 146601 – Published 9 April 2019\n",
    "\n",
    "https://journals.aps.org/prl/abstract/10.1103/PhysRevLett.122.146601"
   ]
  },
  {
   "cell_type": "code",
   "execution_count": 1,
   "id": "01814d73",
   "metadata": {},
   "outputs": [
    {
     "data": {
      "text/plain": [
       "calc_all_states_H_mb_2 (generic function with 1 method)"
      ]
     },
     "execution_count": 1,
     "metadata": {},
     "output_type": "execute_result"
    }
   ],
   "source": [
    "using QuantumOptics\n",
    "using NBInclude\n",
    "# lattice\n",
    "@nbinclude(\"Lattice_Basis_Neighbors_Hops.ipynb\"; regex=r\"#.*executeme\")\n",
    "# mb tools\n",
    "@nbinclude(\"QOJulia_utils.ipynb\")\n",
    "# chern \n",
    "@nbinclude(\"Chern_utils.ipynb\")"
   ]
  },
  {
   "cell_type": "markdown",
   "id": "3ccfc50f",
   "metadata": {},
   "source": [
    "# Parameters"
   ]
  },
  {
   "cell_type": "code",
   "execution_count": 80,
   "id": "85466569",
   "metadata": {},
   "outputs": [],
   "source": [
    "param_dict=Dict{}()\n",
    "\n",
    "LL = [3, 3]\n",
    "N = LL[1]*LL[2]\n",
    "vv_lattice = [ [1., 0], [0, 1.] ]\n",
    "b1=[0, 0]\n",
    "vv_basis = [b1]\n",
    "\n",
    "param_dict[\"LL\"] = LL\n",
    "param_dict[\"vv_lattice\"] = vv_lattice\n",
    "param_dict[\"vv_basis\"] = vv_basis\n",
    "\n",
    "nb = 1 # number of basis\n",
    "t=-1 # hopping amplitude\n",
    "p=1\n",
    "q=LL[2]\n",
    "ϕ=p/q # magnetic flux per plaquet\n",
    "param_dict[\"gauge\"] = \"Landau\"\n",
    "param_dict[\"t\"]=t\n",
    "param_dict[\"ϕ\"]=ϕ\n",
    "θθ = [0, 0] # initial values for twist angles\n",
    "param_dict[\"θθ\"]=θθ\n",
    "\n",
    "sites, site_coord, site_number = get_sites(LL, vv_lattice, vv_basis);\n",
    "param_dict[\"sites\"] = sites\n",
    "param_dict[\"site_coord\"] = site_coord\n",
    "param_dict[\"site_number\"] = site_number\n",
    "\n",
    "pbc=true # periodic boundary condition\n",
    "param_dict[\"pbc\"] = pbc\n",
    "neighbors = [ [1, 0, 1], [-1, 0, 1], [0, 1, 1], [0, -1, 1]  ]\n",
    "neighbors_list = [ neighbors ]\n",
    "param_dict[\"neighbors_list\"] = neighbors_list\n",
    "\n",
    "# size of parameter space\n",
    "N1 = 20\n",
    "N2 = 20\n",
    "dx=2*pi/N1\n",
    "dy=dx\n",
    "Tx=collect(range(start=0, stop=2*pi-dx, step=dx))\n",
    "Ty=collect(range(start=0, stop=2*pi-dy, step=dy));\n",
    "\n",
    "param_dict[\"Tx\"] = Tx\n",
    "param_dict[\"Ty\"] = Ty;"
   ]
  },
  {
   "cell_type": "markdown",
   "id": "c750601d",
   "metadata": {},
   "source": [
    "# Single Particle"
   ]
  },
  {
   "cell_type": "code",
   "execution_count": 81,
   "id": "4f509f47",
   "metadata": {},
   "outputs": [],
   "source": [
    "basis = NLevelBasis(N) \n",
    "param_dict[\"basis\"] = basis;"
   ]
  },
  {
   "cell_type": "code",
   "execution_count": 82,
   "id": "a2c997fc",
   "metadata": {},
   "outputs": [],
   "source": [
    "param_dict[\"model_H1\"] = get_Hofstadter_hamiltonian\n",
    "\n",
    "H_T = get_Hofstadter_hamiltonian(param_dict)\n",
    "\n",
    "H1 = get_sp_op(basis, H_T)\n",
    "\n",
    "EE, UU = eigenstates(dense(H1));"
   ]
  },
  {
   "cell_type": "markdown",
   "id": "c016008e",
   "metadata": {},
   "source": [
    "### Single Particle Chern"
   ]
  },
  {
   "cell_type": "code",
   "execution_count": 83,
   "id": "6afeb39f",
   "metadata": {},
   "outputs": [],
   "source": [
    "param_dict[\"param_1\"] = \"Tx\"\n",
    "param_dict[\"param_2\"] = \"Ty\"\n",
    "EEA, UUA = calc_all_states_H1(param_dict);"
   ]
  },
  {
   "cell_type": "code",
   "execution_count": 84,
   "id": "2077f0da",
   "metadata": {},
   "outputs": [
    {
     "data": {
      "image/svg+xml": [
       "<?xml version=\"1.0\" encoding=\"utf-8\"?>\n",
       "<svg xmlns=\"http://www.w3.org/2000/svg\" xmlns:xlink=\"http://www.w3.org/1999/xlink\" width=\"600\" height=\"400\" viewBox=\"0 0 2400 1600\">\n",
       "<defs>\n",
       "  <clipPath id=\"clip230\">\n",
       "    <rect x=\"0\" y=\"0\" width=\"2400\" height=\"1600\"/>\n",
       "  </clipPath>\n",
       "</defs>\n",
       "<path clip-path=\"url(#clip230)\" d=\"M0 1600 L2400 1600 L2400 0 L0 0  Z\" fill=\"#ffffff\" fill-rule=\"evenodd\" fill-opacity=\"1\"/>\n",
       "<defs>\n",
       "  <clipPath id=\"clip231\">\n",
       "    <rect x=\"480\" y=\"0\" width=\"1681\" height=\"1600\"/>\n",
       "  </clipPath>\n",
       "</defs>\n",
       "<path clip-path=\"url(#clip230)\" d=\"M147.478 1486.45 L2352.76 1486.45 L2352.76 47.2441 L147.478 47.2441  Z\" fill=\"#ffffff\" fill-rule=\"evenodd\" fill-opacity=\"1\"/>\n",
       "<defs>\n",
       "  <clipPath id=\"clip232\">\n",
       "    <rect x=\"147\" y=\"47\" width=\"2206\" height=\"1440\"/>\n",
       "  </clipPath>\n",
       "</defs>\n",
       "<polyline clip-path=\"url(#clip232)\" style=\"stroke:#000000; stroke-linecap:round; stroke-linejoin:round; stroke-width:2; stroke-opacity:0.1; fill:none\" points=\"469.948,1486.45 469.948,47.2441 \"/>\n",
       "<polyline clip-path=\"url(#clip232)\" style=\"stroke:#000000; stroke-linecap:round; stroke-linejoin:round; stroke-width:2; stroke-opacity:0.1; fill:none\" points=\"990.061,1486.45 990.061,47.2441 \"/>\n",
       "<polyline clip-path=\"url(#clip232)\" style=\"stroke:#000000; stroke-linecap:round; stroke-linejoin:round; stroke-width:2; stroke-opacity:0.1; fill:none\" points=\"1510.17,1486.45 1510.17,47.2441 \"/>\n",
       "<polyline clip-path=\"url(#clip232)\" style=\"stroke:#000000; stroke-linecap:round; stroke-linejoin:round; stroke-width:2; stroke-opacity:0.1; fill:none\" points=\"2030.29,1486.45 2030.29,47.2441 \"/>\n",
       "<polyline clip-path=\"url(#clip230)\" style=\"stroke:#000000; stroke-linecap:round; stroke-linejoin:round; stroke-width:4; stroke-opacity:1; fill:none\" points=\"147.478,1486.45 2352.76,1486.45 \"/>\n",
       "<polyline clip-path=\"url(#clip230)\" style=\"stroke:#000000; stroke-linecap:round; stroke-linejoin:round; stroke-width:4; stroke-opacity:1; fill:none\" points=\"469.948,1486.45 469.948,1467.55 \"/>\n",
       "<polyline clip-path=\"url(#clip230)\" style=\"stroke:#000000; stroke-linecap:round; stroke-linejoin:round; stroke-width:4; stroke-opacity:1; fill:none\" points=\"990.061,1486.45 990.061,1467.55 \"/>\n",
       "<polyline clip-path=\"url(#clip230)\" style=\"stroke:#000000; stroke-linecap:round; stroke-linejoin:round; stroke-width:4; stroke-opacity:1; fill:none\" points=\"1510.17,1486.45 1510.17,1467.55 \"/>\n",
       "<polyline clip-path=\"url(#clip230)\" style=\"stroke:#000000; stroke-linecap:round; stroke-linejoin:round; stroke-width:4; stroke-opacity:1; fill:none\" points=\"2030.29,1486.45 2030.29,1467.55 \"/>\n",
       "<path clip-path=\"url(#clip230)\" d=\"M464.601 1544.91 L480.92 1544.91 L480.92 1548.85 L458.976 1548.85 L458.976 1544.91 Q461.638 1542.16 466.221 1537.53 Q470.827 1532.88 472.008 1531.53 Q474.253 1529.01 475.133 1527.27 Q476.036 1525.51 476.036 1523.82 Q476.036 1521.07 474.091 1519.33 Q472.17 1517.6 469.068 1517.6 Q466.869 1517.6 464.415 1518.36 Q461.985 1519.13 459.207 1520.68 L459.207 1515.95 Q462.031 1514.82 464.485 1514.24 Q466.939 1513.66 468.976 1513.66 Q474.346 1513.66 477.54 1516.35 Q480.735 1519.03 480.735 1523.52 Q480.735 1525.65 479.925 1527.57 Q479.138 1529.47 477.031 1532.07 Q476.452 1532.74 473.351 1535.95 Q470.249 1539.15 464.601 1544.91 Z\" fill=\"#000000\" fill-rule=\"nonzero\" fill-opacity=\"1\" /><path clip-path=\"url(#clip230)\" d=\"M993.07 1518.36 L981.264 1536.81 L993.07 1536.81 L993.07 1518.36 M991.843 1514.29 L997.723 1514.29 L997.723 1536.81 L1002.65 1536.81 L1002.65 1540.7 L997.723 1540.7 L997.723 1548.85 L993.07 1548.85 L993.07 1540.7 L977.468 1540.7 L977.468 1536.19 L991.843 1514.29 Z\" fill=\"#000000\" fill-rule=\"nonzero\" fill-opacity=\"1\" /><path clip-path=\"url(#clip230)\" d=\"M1510.58 1529.7 Q1507.43 1529.7 1505.58 1531.86 Q1503.75 1534.01 1503.75 1537.76 Q1503.75 1541.49 1505.58 1543.66 Q1507.43 1545.82 1510.58 1545.82 Q1513.73 1545.82 1515.56 1543.66 Q1517.41 1541.49 1517.41 1537.76 Q1517.41 1534.01 1515.56 1531.86 Q1513.73 1529.7 1510.58 1529.7 M1519.86 1515.05 L1519.86 1519.31 Q1518.1 1518.48 1516.3 1518.04 Q1514.51 1517.6 1512.75 1517.6 Q1508.12 1517.6 1505.67 1520.72 Q1503.24 1523.85 1502.89 1530.17 Q1504.26 1528.15 1506.32 1527.09 Q1508.38 1526 1510.86 1526 Q1516.06 1526 1519.07 1529.17 Q1522.11 1532.32 1522.11 1537.76 Q1522.11 1543.08 1518.96 1546.3 Q1515.81 1549.52 1510.58 1549.52 Q1504.58 1549.52 1501.41 1544.94 Q1498.24 1540.33 1498.24 1531.6 Q1498.24 1523.41 1502.13 1518.55 Q1506.02 1513.66 1512.57 1513.66 Q1514.33 1513.66 1516.11 1514.01 Q1517.92 1514.36 1519.86 1515.05 Z\" fill=\"#000000\" fill-rule=\"nonzero\" fill-opacity=\"1\" /><path clip-path=\"url(#clip230)\" d=\"M2030.29 1532.44 Q2026.95 1532.44 2025.03 1534.22 Q2023.13 1536 2023.13 1539.13 Q2023.13 1542.25 2025.03 1544.03 Q2026.95 1545.82 2030.29 1545.82 Q2033.62 1545.82 2035.54 1544.03 Q2037.46 1542.23 2037.46 1539.13 Q2037.46 1536 2035.54 1534.22 Q2033.64 1532.44 2030.29 1532.44 M2025.61 1530.45 Q2022.6 1529.7 2020.91 1527.64 Q2019.24 1525.58 2019.24 1522.62 Q2019.24 1518.48 2022.18 1516.07 Q2025.15 1513.66 2030.29 1513.66 Q2035.45 1513.66 2038.39 1516.07 Q2041.33 1518.48 2041.33 1522.62 Q2041.33 1525.58 2039.64 1527.64 Q2037.97 1529.7 2034.99 1530.45 Q2038.36 1531.23 2040.24 1533.52 Q2042.14 1535.82 2042.14 1539.13 Q2042.14 1544.15 2039.06 1546.83 Q2036 1549.52 2030.29 1549.52 Q2024.57 1549.52 2021.49 1546.83 Q2018.43 1544.15 2018.43 1539.13 Q2018.43 1535.82 2020.33 1533.52 Q2022.23 1531.23 2025.61 1530.45 M2023.9 1523.06 Q2023.9 1525.75 2025.56 1527.25 Q2027.25 1528.76 2030.29 1528.76 Q2033.3 1528.76 2034.99 1527.25 Q2036.7 1525.75 2036.7 1523.06 Q2036.7 1520.38 2034.99 1518.87 Q2033.3 1517.37 2030.29 1517.37 Q2027.25 1517.37 2025.56 1518.87 Q2023.9 1520.38 2023.9 1523.06 Z\" fill=\"#000000\" fill-rule=\"nonzero\" fill-opacity=\"1\" /><polyline clip-path=\"url(#clip232)\" style=\"stroke:#000000; stroke-linecap:round; stroke-linejoin:round; stroke-width:2; stroke-opacity:0.1; fill:none\" points=\"147.478,1235.67 2352.76,1235.67 \"/>\n",
       "<polyline clip-path=\"url(#clip232)\" style=\"stroke:#000000; stroke-linecap:round; stroke-linejoin:round; stroke-width:2; stroke-opacity:0.1; fill:none\" points=\"147.478,948.749 2352.76,948.749 \"/>\n",
       "<polyline clip-path=\"url(#clip232)\" style=\"stroke:#000000; stroke-linecap:round; stroke-linejoin:round; stroke-width:2; stroke-opacity:0.1; fill:none\" points=\"147.478,661.824 2352.76,661.824 \"/>\n",
       "<polyline clip-path=\"url(#clip232)\" style=\"stroke:#000000; stroke-linecap:round; stroke-linejoin:round; stroke-width:2; stroke-opacity:0.1; fill:none\" points=\"147.478,374.9 2352.76,374.9 \"/>\n",
       "<polyline clip-path=\"url(#clip232)\" style=\"stroke:#000000; stroke-linecap:round; stroke-linejoin:round; stroke-width:2; stroke-opacity:0.1; fill:none\" points=\"147.478,87.9763 2352.76,87.9763 \"/>\n",
       "<polyline clip-path=\"url(#clip230)\" style=\"stroke:#000000; stroke-linecap:round; stroke-linejoin:round; stroke-width:4; stroke-opacity:1; fill:none\" points=\"147.478,1486.45 147.478,47.2441 \"/>\n",
       "<polyline clip-path=\"url(#clip230)\" style=\"stroke:#000000; stroke-linecap:round; stroke-linejoin:round; stroke-width:4; stroke-opacity:1; fill:none\" points=\"147.478,1235.67 166.376,1235.67 \"/>\n",
       "<polyline clip-path=\"url(#clip230)\" style=\"stroke:#000000; stroke-linecap:round; stroke-linejoin:round; stroke-width:4; stroke-opacity:1; fill:none\" points=\"147.478,948.749 166.376,948.749 \"/>\n",
       "<polyline clip-path=\"url(#clip230)\" style=\"stroke:#000000; stroke-linecap:round; stroke-linejoin:round; stroke-width:4; stroke-opacity:1; fill:none\" points=\"147.478,661.824 166.376,661.824 \"/>\n",
       "<polyline clip-path=\"url(#clip230)\" style=\"stroke:#000000; stroke-linecap:round; stroke-linejoin:round; stroke-width:4; stroke-opacity:1; fill:none\" points=\"147.478,374.9 166.376,374.9 \"/>\n",
       "<polyline clip-path=\"url(#clip230)\" style=\"stroke:#000000; stroke-linecap:round; stroke-linejoin:round; stroke-width:4; stroke-opacity:1; fill:none\" points=\"147.478,87.9763 166.376,87.9763 \"/>\n",
       "<path clip-path=\"url(#clip230)\" d=\"M51.3625 1236.12 L81.0383 1236.12 L81.0383 1240.06 L51.3625 1240.06 L51.3625 1236.12 Z\" fill=\"#000000\" fill-rule=\"nonzero\" fill-opacity=\"1\" /><path clip-path=\"url(#clip230)\" d=\"M95.1586 1249.02 L111.478 1249.02 L111.478 1252.95 L89.5336 1252.95 L89.5336 1249.02 Q92.1956 1246.26 96.7789 1241.63 Q101.385 1236.98 102.566 1235.64 Q104.811 1233.11 105.691 1231.38 Q106.594 1229.62 106.594 1227.93 Q106.594 1225.18 104.649 1223.44 Q102.728 1221.7 99.6261 1221.7 Q97.4271 1221.7 94.9734 1222.47 Q92.5428 1223.23 89.7651 1224.78 L89.7651 1220.06 Q92.5891 1218.93 95.0428 1218.35 Q97.4965 1217.77 99.5335 1217.77 Q104.904 1217.77 108.098 1220.45 Q111.293 1223.14 111.293 1227.63 Q111.293 1229.76 110.483 1231.68 Q109.696 1233.58 107.589 1236.17 Q107.01 1236.84 103.909 1240.06 Q100.807 1243.25 95.1586 1249.02 Z\" fill=\"#000000\" fill-rule=\"nonzero\" fill-opacity=\"1\" /><path clip-path=\"url(#clip230)\" d=\"M50.9921 949.2 L80.6679 949.2 L80.6679 953.135 L50.9921 953.135 L50.9921 949.2 Z\" fill=\"#000000\" fill-rule=\"nonzero\" fill-opacity=\"1\" /><path clip-path=\"url(#clip230)\" d=\"M91.5706 962.093 L99.2095 962.093 L99.2095 935.728 L90.8993 937.394 L90.8993 933.135 L99.1632 931.469 L103.839 931.469 L103.839 962.093 L111.478 962.093 L111.478 966.029 L91.5706 966.029 L91.5706 962.093 Z\" fill=\"#000000\" fill-rule=\"nonzero\" fill-opacity=\"1\" /><path clip-path=\"url(#clip230)\" d=\"M99.5335 647.623 Q95.9224 647.623 94.0937 651.188 Q92.2882 654.73 92.2882 661.859 Q92.2882 668.966 94.0937 672.53 Q95.9224 676.072 99.5335 676.072 Q103.168 676.072 104.973 672.53 Q106.802 668.966 106.802 661.859 Q106.802 654.73 104.973 651.188 Q103.168 647.623 99.5335 647.623 M99.5335 643.919 Q105.344 643.919 108.399 648.526 Q111.478 653.109 111.478 661.859 Q111.478 670.586 108.399 675.192 Q105.344 679.776 99.5335 679.776 Q93.7234 679.776 90.6447 675.192 Q87.5892 670.586 87.5892 661.859 Q87.5892 653.109 90.6447 648.526 Q93.7234 643.919 99.5335 643.919 Z\" fill=\"#000000\" fill-rule=\"nonzero\" fill-opacity=\"1\" /><path clip-path=\"url(#clip230)\" d=\"M91.5706 388.245 L99.2095 388.245 L99.2095 361.88 L90.8993 363.546 L90.8993 359.287 L99.1632 357.62 L103.839 357.62 L103.839 388.245 L111.478 388.245 L111.478 392.18 L91.5706 392.18 L91.5706 388.245 Z\" fill=\"#000000\" fill-rule=\"nonzero\" fill-opacity=\"1\" /><path clip-path=\"url(#clip230)\" d=\"M95.1586 101.321 L111.478 101.321 L111.478 105.256 L89.5336 105.256 L89.5336 101.321 Q92.1956 98.5665 96.7789 93.9369 Q101.385 89.2841 102.566 87.9416 Q104.811 85.4184 105.691 83.6823 Q106.594 81.9231 106.594 80.2333 Q106.594 77.4786 104.649 75.7425 Q102.728 74.0064 99.6261 74.0064 Q97.4271 74.0064 94.9734 74.7703 Q92.5428 75.5342 89.7651 77.0851 L89.7651 72.3629 Q92.5891 71.2287 95.0428 70.65 Q97.4965 70.0713 99.5335 70.0713 Q104.904 70.0713 108.098 72.7565 Q111.293 75.4416 111.293 79.9323 Q111.293 82.062 110.483 83.9832 Q109.696 85.8814 107.589 88.474 Q107.01 89.1453 103.909 92.3628 Q100.807 95.5573 95.1586 101.321 Z\" fill=\"#000000\" fill-rule=\"nonzero\" fill-opacity=\"1\" /><circle clip-path=\"url(#clip232)\" cx=\"209.891\" cy=\"1445.72\" r=\"14.4\" fill=\"#009af9\" fill-rule=\"evenodd\" fill-opacity=\"1\" stroke=\"#000000\" stroke-opacity=\"1\" stroke-width=\"3.2\"/>\n",
       "<circle clip-path=\"url(#clip232)\" cx=\"469.948\" cy=\"1445.72\" r=\"14.4\" fill=\"#009af9\" fill-rule=\"evenodd\" fill-opacity=\"1\" stroke=\"#000000\" stroke-opacity=\"1\" stroke-width=\"3.2\"/>\n",
       "<circle clip-path=\"url(#clip232)\" cx=\"730.004\" cy=\"1445.72\" r=\"14.4\" fill=\"#009af9\" fill-rule=\"evenodd\" fill-opacity=\"1\" stroke=\"#000000\" stroke-opacity=\"1\" stroke-width=\"3.2\"/>\n",
       "<circle clip-path=\"url(#clip232)\" cx=\"990.061\" cy=\"451.781\" r=\"14.4\" fill=\"#009af9\" fill-rule=\"evenodd\" fill-opacity=\"1\" stroke=\"#000000\" stroke-opacity=\"1\" stroke-width=\"3.2\"/>\n",
       "<circle clip-path=\"url(#clip232)\" cx=\"1250.12\" cy=\"451.781\" r=\"14.4\" fill=\"#009af9\" fill-rule=\"evenodd\" fill-opacity=\"1\" stroke=\"#000000\" stroke-opacity=\"1\" stroke-width=\"3.2\"/>\n",
       "<circle clip-path=\"url(#clip232)\" cx=\"1510.17\" cy=\"451.781\" r=\"14.4\" fill=\"#009af9\" fill-rule=\"evenodd\" fill-opacity=\"1\" stroke=\"#000000\" stroke-opacity=\"1\" stroke-width=\"3.2\"/>\n",
       "<circle clip-path=\"url(#clip232)\" cx=\"1770.23\" cy=\"87.9763\" r=\"14.4\" fill=\"#009af9\" fill-rule=\"evenodd\" fill-opacity=\"1\" stroke=\"#000000\" stroke-opacity=\"1\" stroke-width=\"3.2\"/>\n",
       "<circle clip-path=\"url(#clip232)\" cx=\"2030.29\" cy=\"87.9763\" r=\"14.4\" fill=\"#009af9\" fill-rule=\"evenodd\" fill-opacity=\"1\" stroke=\"#000000\" stroke-opacity=\"1\" stroke-width=\"3.2\"/>\n",
       "<circle clip-path=\"url(#clip232)\" cx=\"2290.34\" cy=\"87.9763\" r=\"14.4\" fill=\"#009af9\" fill-rule=\"evenodd\" fill-opacity=\"1\" stroke=\"#000000\" stroke-opacity=\"1\" stroke-width=\"3.2\"/>\n",
       "<path clip-path=\"url(#clip230)\" d=\"M220.987 198.898 L493.945 198.898 L493.945 95.2176 L220.987 95.2176  Z\" fill=\"#ffffff\" fill-rule=\"evenodd\" fill-opacity=\"1\"/>\n",
       "<polyline clip-path=\"url(#clip230)\" style=\"stroke:#000000; stroke-linecap:round; stroke-linejoin:round; stroke-width:4; stroke-opacity:1; fill:none\" points=\"220.987,198.898 493.945,198.898 493.945,95.2176 220.987,95.2176 220.987,198.898 \"/>\n",
       "<circle clip-path=\"url(#clip230)\" cx=\"319\" cy=\"147.058\" r=\"23.04\" fill=\"#009af9\" fill-rule=\"evenodd\" fill-opacity=\"1\" stroke=\"#000000\" stroke-opacity=\"1\" stroke-width=\"5.12\"/>\n",
       "<path clip-path=\"url(#clip230)\" d=\"M430.854 166.745 Q429.049 171.375 427.336 172.787 Q425.623 174.199 422.753 174.199 L419.35 174.199 L419.35 170.634 L421.85 170.634 Q423.609 170.634 424.581 169.8 Q425.554 168.967 426.734 165.865 L427.498 163.921 L417.012 138.412 L421.526 138.412 L429.628 158.689 L437.729 138.412 L442.243 138.412 L430.854 166.745 Z\" fill=\"#000000\" fill-rule=\"nonzero\" fill-opacity=\"1\" /><path clip-path=\"url(#clip230)\" d=\"M449.535 160.402 L457.174 160.402 L457.174 134.037 L448.864 135.703 L448.864 131.444 L457.127 129.778 L461.803 129.778 L461.803 160.402 L469.442 160.402 L469.442 164.338 L449.535 164.338 L449.535 160.402 Z\" fill=\"#000000\" fill-rule=\"nonzero\" fill-opacity=\"1\" /></svg>\n"
      ]
     },
     "execution_count": 84,
     "metadata": {},
     "output_type": "execute_result"
    }
   ],
   "source": [
    "using Plots\n",
    "scatter(real(EEA[1,1,:]))"
   ]
  },
  {
   "cell_type": "code",
   "execution_count": 85,
   "id": "abe62126",
   "metadata": {},
   "outputs": [
    {
     "data": {
      "text/plain": [
       "3-element Vector{Any}:\n",
       "  1.0000000000000002 + 5.082624781114731e-16im\n",
       " -1.9999999999999998 + 2.813096391849009e-17im\n",
       "  1.0000000000000002 - 6.243905326517952e-16im"
      ]
     },
     "execution_count": 85,
     "metadata": {},
     "output_type": "execute_result"
    }
   ],
   "source": [
    "bands = [[1,3],[4,6],[7,9]]\n",
    "#bands = [[1,5],[6,10],[11,15],[16,20],[21,25]] # 5x5\n",
    "Chern, F12list = calc_chern_bands(UUA, bands);\n",
    "Chern"
   ]
  },
  {
   "cell_type": "code",
   "execution_count": 86,
   "id": "e1c4239a",
   "metadata": {},
   "outputs": [
    {
     "data": {
      "image/svg+xml": [
       "<?xml version=\"1.0\" encoding=\"utf-8\"?>\n",
       "<svg xmlns=\"http://www.w3.org/2000/svg\" xmlns:xlink=\"http://www.w3.org/1999/xlink\" width=\"600\" height=\"400\" viewBox=\"0 0 2400 1600\">\n",
       "<defs>\n",
       "  <clipPath id=\"clip270\">\n",
       "    <rect x=\"0\" y=\"0\" width=\"2400\" height=\"1600\"/>\n",
       "  </clipPath>\n",
       "</defs>\n",
       "<path clip-path=\"url(#clip270)\" d=\"M0 1600 L2400 1600 L2400 0 L0 0  Z\" fill=\"#ffffff\" fill-rule=\"evenodd\" fill-opacity=\"1\"/>\n",
       "<defs>\n",
       "  <clipPath id=\"clip271\">\n",
       "    <rect x=\"480\" y=\"0\" width=\"1681\" height=\"1600\"/>\n",
       "  </clipPath>\n",
       "</defs>\n",
       "<defs>\n",
       "  <clipPath id=\"clip272\">\n",
       "    <rect x=\"147\" y=\"47\" width=\"2206\" height=\"1440\"/>\n",
       "  </clipPath>\n",
       "</defs>\n",
       "<path clip-path=\"url(#clip270)\" d=\"M175.445 1351.55 L2112.76 1351.55 L2112.76 195.104 L175.445 195.104  Z\" fill=\"#ffffff\" fill-rule=\"evenodd\" fill-opacity=\"1\"/>\n",
       "<defs>\n",
       "  <clipPath id=\"clip273\">\n",
       "    <rect x=\"175\" y=\"195\" width=\"1938\" height=\"1157\"/>\n",
       "  </clipPath>\n",
       "</defs>\n",
       "<polyline clip-path=\"url(#clip273)\" style=\"stroke:#000000; stroke-linecap:round; stroke-linejoin:round; stroke-width:2; stroke-opacity:0.1; fill:none\" points=\"594.79,1351.55 594.79,195.104 \"/>\n",
       "<polyline clip-path=\"url(#clip273)\" style=\"stroke:#000000; stroke-linecap:round; stroke-linejoin:round; stroke-width:2; stroke-opacity:0.1; fill:none\" points=\"1054.92,1351.55 1054.92,195.104 \"/>\n",
       "<polyline clip-path=\"url(#clip273)\" style=\"stroke:#000000; stroke-linecap:round; stroke-linejoin:round; stroke-width:2; stroke-opacity:0.1; fill:none\" points=\"1515.06,1351.55 1515.06,195.104 \"/>\n",
       "<polyline clip-path=\"url(#clip273)\" style=\"stroke:#000000; stroke-linecap:round; stroke-linejoin:round; stroke-width:2; stroke-opacity:0.1; fill:none\" points=\"1975.19,1351.55 1975.19,195.104 \"/>\n",
       "<polyline clip-path=\"url(#clip270)\" style=\"stroke:#000000; stroke-linecap:round; stroke-linejoin:round; stroke-width:4; stroke-opacity:1; fill:none\" points=\"175.445,1351.55 2112.76,1351.55 \"/>\n",
       "<polyline clip-path=\"url(#clip270)\" style=\"stroke:#000000; stroke-linecap:round; stroke-linejoin:round; stroke-width:4; stroke-opacity:1; fill:none\" points=\"594.79,1351.55 594.79,1334.73 \"/>\n",
       "<polyline clip-path=\"url(#clip270)\" style=\"stroke:#000000; stroke-linecap:round; stroke-linejoin:round; stroke-width:4; stroke-opacity:1; fill:none\" points=\"1054.92,1351.55 1054.92,1334.73 \"/>\n",
       "<polyline clip-path=\"url(#clip270)\" style=\"stroke:#000000; stroke-linecap:round; stroke-linejoin:round; stroke-width:4; stroke-opacity:1; fill:none\" points=\"1515.06,1351.55 1515.06,1334.73 \"/>\n",
       "<polyline clip-path=\"url(#clip270)\" style=\"stroke:#000000; stroke-linecap:round; stroke-linejoin:round; stroke-width:4; stroke-opacity:1; fill:none\" points=\"1975.19,1351.55 1975.19,1334.73 \"/>\n",
       "<path clip-path=\"url(#clip270)\" d=\"M572.174 1382.47 Q568.563 1382.47 566.734 1386.03 Q564.929 1389.57 564.929 1396.7 Q564.929 1403.81 566.734 1407.37 Q568.563 1410.92 572.174 1410.92 Q575.808 1410.92 577.614 1407.37 Q579.443 1403.81 579.443 1396.7 Q579.443 1389.57 577.614 1386.03 Q575.808 1382.47 572.174 1382.47 M572.174 1378.76 Q577.984 1378.76 581.04 1383.37 Q584.118 1387.95 584.118 1396.7 Q584.118 1405.43 581.04 1410.04 Q577.984 1414.62 572.174 1414.62 Q566.364 1414.62 563.285 1410.04 Q560.23 1405.43 560.23 1396.7 Q560.23 1387.95 563.285 1383.37 Q566.364 1378.76 572.174 1378.76 Z\" fill=\"#000000\" fill-rule=\"nonzero\" fill-opacity=\"1\" /><path clip-path=\"url(#clip270)\" d=\"M592.336 1408.07 L597.22 1408.07 L597.22 1413.95 L592.336 1413.95 L592.336 1408.07 Z\" fill=\"#000000\" fill-rule=\"nonzero\" fill-opacity=\"1\" /><path clip-path=\"url(#clip270)\" d=\"M617.405 1382.47 Q613.794 1382.47 611.966 1386.03 Q610.16 1389.57 610.16 1396.7 Q610.16 1403.81 611.966 1407.37 Q613.794 1410.92 617.405 1410.92 Q621.04 1410.92 622.845 1407.37 Q624.674 1403.81 624.674 1396.7 Q624.674 1389.57 622.845 1386.03 Q621.04 1382.47 617.405 1382.47 M617.405 1378.76 Q623.215 1378.76 626.271 1383.37 Q629.35 1387.95 629.35 1396.7 Q629.35 1405.43 626.271 1410.04 Q623.215 1414.62 617.405 1414.62 Q611.595 1414.62 608.516 1410.04 Q605.461 1405.43 605.461 1396.7 Q605.461 1387.95 608.516 1383.37 Q611.595 1378.76 617.405 1378.76 Z\" fill=\"#000000\" fill-rule=\"nonzero\" fill-opacity=\"1\" /><path clip-path=\"url(#clip270)\" d=\"M1026.66 1410.01 L1042.98 1410.01 L1042.98 1413.95 L1021.04 1413.95 L1021.04 1410.01 Q1023.7 1407.26 1028.28 1402.63 Q1032.89 1397.98 1034.07 1396.63 Q1036.31 1394.11 1037.19 1392.37 Q1038.1 1390.61 1038.1 1388.92 Q1038.1 1386.17 1036.15 1384.43 Q1034.23 1382.7 1031.13 1382.7 Q1028.93 1382.7 1026.48 1383.46 Q1024.04 1384.23 1021.27 1385.78 L1021.27 1381.05 Q1024.09 1379.92 1026.54 1379.34 Q1029 1378.76 1031.04 1378.76 Q1036.41 1378.76 1039.6 1381.45 Q1042.79 1384.13 1042.79 1388.62 Q1042.79 1390.75 1041.98 1392.67 Q1041.2 1394.57 1039.09 1397.17 Q1038.51 1397.84 1035.41 1401.05 Q1032.31 1404.25 1026.66 1410.01 Z\" fill=\"#000000\" fill-rule=\"nonzero\" fill-opacity=\"1\" /><path clip-path=\"url(#clip270)\" d=\"M1052.79 1408.07 L1057.68 1408.07 L1057.68 1413.95 L1052.79 1413.95 L1052.79 1408.07 Z\" fill=\"#000000\" fill-rule=\"nonzero\" fill-opacity=\"1\" /><path clip-path=\"url(#clip270)\" d=\"M1067.91 1379.39 L1086.27 1379.39 L1086.27 1383.32 L1072.19 1383.32 L1072.19 1391.8 Q1073.21 1391.45 1074.23 1391.29 Q1075.25 1391.1 1076.27 1391.1 Q1082.05 1391.1 1085.43 1394.27 Q1088.81 1397.44 1088.81 1402.86 Q1088.81 1408.44 1085.34 1411.54 Q1081.87 1414.62 1075.55 1414.62 Q1073.37 1414.62 1071.1 1414.25 Q1068.86 1413.88 1066.45 1413.14 L1066.45 1408.44 Q1068.54 1409.57 1070.76 1410.13 Q1072.98 1410.68 1075.46 1410.68 Q1079.46 1410.68 1081.8 1408.58 Q1084.14 1406.47 1084.14 1402.86 Q1084.14 1399.25 1081.8 1397.14 Q1079.46 1395.04 1075.46 1395.04 Q1073.58 1395.04 1071.71 1395.45 Q1069.85 1395.87 1067.91 1396.75 L1067.91 1379.39 Z\" fill=\"#000000\" fill-rule=\"nonzero\" fill-opacity=\"1\" /><path clip-path=\"url(#clip270)\" d=\"M1482.22 1379.39 L1500.58 1379.39 L1500.58 1383.32 L1486.51 1383.32 L1486.51 1391.8 Q1487.52 1391.45 1488.54 1391.29 Q1489.56 1391.1 1490.58 1391.1 Q1496.37 1391.1 1499.75 1394.27 Q1503.13 1397.44 1503.13 1402.86 Q1503.13 1408.44 1499.65 1411.54 Q1496.18 1414.62 1489.86 1414.62 Q1487.69 1414.62 1485.42 1414.25 Q1483.17 1413.88 1480.76 1413.14 L1480.76 1408.44 Q1482.85 1409.57 1485.07 1410.13 Q1487.29 1410.68 1489.77 1410.68 Q1493.77 1410.68 1496.11 1408.58 Q1498.45 1406.47 1498.45 1402.86 Q1498.45 1399.25 1496.11 1397.14 Q1493.77 1395.04 1489.77 1395.04 Q1487.89 1395.04 1486.02 1395.45 Q1484.17 1395.87 1482.22 1396.75 L1482.22 1379.39 Z\" fill=\"#000000\" fill-rule=\"nonzero\" fill-opacity=\"1\" /><path clip-path=\"url(#clip270)\" d=\"M1512.34 1408.07 L1517.22 1408.07 L1517.22 1413.95 L1512.34 1413.95 L1512.34 1408.07 Z\" fill=\"#000000\" fill-rule=\"nonzero\" fill-opacity=\"1\" /><path clip-path=\"url(#clip270)\" d=\"M1537.41 1382.47 Q1533.8 1382.47 1531.97 1386.03 Q1530.16 1389.57 1530.16 1396.7 Q1530.16 1403.81 1531.97 1407.37 Q1533.8 1410.92 1537.41 1410.92 Q1541.04 1410.92 1542.85 1407.37 Q1544.68 1403.81 1544.68 1396.7 Q1544.68 1389.57 1542.85 1386.03 Q1541.04 1382.47 1537.41 1382.47 M1537.41 1378.76 Q1543.22 1378.76 1546.27 1383.37 Q1549.35 1387.95 1549.35 1396.7 Q1549.35 1405.43 1546.27 1410.04 Q1543.22 1414.62 1537.41 1414.62 Q1531.6 1414.62 1528.52 1410.04 Q1525.46 1405.43 1525.46 1396.7 Q1525.46 1387.95 1528.52 1383.37 Q1531.6 1378.76 1537.41 1378.76 Z\" fill=\"#000000\" fill-rule=\"nonzero\" fill-opacity=\"1\" /><path clip-path=\"url(#clip270)\" d=\"M1941.51 1379.39 L1963.73 1379.39 L1963.73 1381.38 L1951.19 1413.95 L1946.3 1413.95 L1958.11 1383.32 L1941.51 1383.32 L1941.51 1379.39 Z\" fill=\"#000000\" fill-rule=\"nonzero\" fill-opacity=\"1\" /><path clip-path=\"url(#clip270)\" d=\"M1972.85 1408.07 L1977.74 1408.07 L1977.74 1413.95 L1972.85 1413.95 L1972.85 1408.07 Z\" fill=\"#000000\" fill-rule=\"nonzero\" fill-opacity=\"1\" /><path clip-path=\"url(#clip270)\" d=\"M1987.97 1379.39 L2006.33 1379.39 L2006.33 1383.32 L1992.25 1383.32 L1992.25 1391.8 Q1993.27 1391.45 1994.29 1391.29 Q1995.31 1391.1 1996.33 1391.1 Q2002.11 1391.1 2005.49 1394.27 Q2008.87 1397.44 2008.87 1402.86 Q2008.87 1408.44 2005.4 1411.54 Q2001.93 1414.62 1995.61 1414.62 Q1993.43 1414.62 1991.17 1414.25 Q1988.92 1413.88 1986.51 1413.14 L1986.51 1408.44 Q1988.6 1409.57 1990.82 1410.13 Q1993.04 1410.68 1995.52 1410.68 Q1999.52 1410.68 2001.86 1408.58 Q2004.2 1406.47 2004.2 1402.86 Q2004.2 1399.25 2001.86 1397.14 Q1999.52 1395.04 1995.52 1395.04 Q1993.64 1395.04 1991.77 1395.45 Q1989.92 1395.87 1987.97 1396.75 L1987.97 1379.39 Z\" fill=\"#000000\" fill-rule=\"nonzero\" fill-opacity=\"1\" /><path clip-path=\"url(#clip270)\" d=\"M1139.43 1451.26 Q1139.43 1456.67 1137.69 1462.76 Q1135.98 1468.82 1133.28 1473.71 Q1130.57 1478.57 1127.03 1481.8 Q1123.49 1484.98 1120.11 1484.98 Q1117.95 1484.98 1116.34 1483.79 Q1114.76 1482.57 1113.89 1480.54 Q1113.02 1478.48 1112.6 1476.22 Q1112.18 1473.94 1112.18 1471.46 Q1112.18 1467.75 1112.99 1463.73 Q1113.79 1459.67 1115.15 1456 Q1116.5 1452.29 1118.4 1448.95 Q1120.3 1445.56 1122.39 1443.12 Q1124.52 1440.64 1126.9 1439.19 Q1129.28 1437.74 1131.51 1437.74 Q1133.12 1437.74 1134.4 1438.45 Q1135.72 1439.12 1136.56 1440.31 Q1137.4 1441.47 1137.98 1442.86 Q1138.59 1444.24 1138.88 1445.85 Q1139.17 1447.43 1139.3 1448.75 Q1139.43 1450.04 1139.43 1451.26 M1135.08 1447.17 Q1135.08 1445.53 1134.95 1444.31 Q1134.82 1443.05 1134.47 1441.8 Q1134.11 1440.54 1133.34 1439.86 Q1132.6 1439.19 1131.44 1439.19 Q1128.06 1439.19 1124.26 1446.11 Q1123.04 1448.27 1121.94 1451.2 Q1120.85 1454.13 1120.46 1455.52 Q1120.07 1456.9 1119.17 1460.31 L1132.96 1460.31 Q1135.08 1451.52 1135.08 1447.17 M1132.38 1462.41 L1118.66 1462.41 Q1116.53 1470.46 1116.53 1475.48 Q1116.53 1479.86 1117.43 1481.7 Q1118.37 1483.5 1120.11 1483.5 Q1122.1 1483.5 1123.97 1481.51 Q1125.84 1479.48 1127.74 1475.81 Q1130.25 1471.04 1132.38 1462.41 Z\" fill=\"#000000\" fill-rule=\"nonzero\" fill-opacity=\"1\" /><path clip-path=\"url(#clip270)\" d=\"M1169.2 1479.75 Q1169.2 1481.01 1168.41 1481.73 Q1167.62 1482.43 1166.72 1482.43 Q1165.87 1482.43 1165.41 1481.93 Q1164.96 1481.44 1164.96 1480.81 Q1164.96 1479.95 1165.59 1479.21 Q1166.23 1478.46 1167.17 1478.3 Q1166.25 1477.72 1164.87 1477.72 Q1163.97 1477.72 1163.18 1478.19 Q1162.42 1478.66 1161.94 1479.27 Q1161.49 1479.88 1161.09 1480.76 Q1160.7 1481.62 1160.54 1482.14 Q1160.41 1482.63 1160.3 1483.17 L1158.72 1489.49 Q1157.95 1492.48 1157.95 1493.54 Q1157.95 1494.85 1158.58 1495.73 Q1159.21 1496.59 1160.48 1496.59 Q1160.97 1496.59 1161.54 1496.45 Q1162.1 1496.29 1162.82 1495.89 Q1163.57 1495.46 1164.22 1494.83 Q1164.9 1494.17 1165.55 1493.07 Q1166.2 1491.97 1166.63 1490.54 Q1166.77 1490.05 1167.22 1490.05 Q1167.78 1490.05 1167.78 1490.5 Q1167.78 1490.88 1167.47 1491.69 Q1167.17 1492.48 1166.52 1493.52 Q1165.89 1494.54 1165.05 1495.46 Q1164.22 1496.36 1162.98 1496.99 Q1161.74 1497.62 1160.39 1497.62 Q1158.45 1497.62 1157.16 1496.59 Q1155.88 1495.55 1155.4 1494.11 Q1155.29 1494.31 1155.13 1494.58 Q1154.98 1494.85 1154.5 1495.46 Q1154.05 1496.05 1153.53 1496.5 Q1153.02 1496.92 1152.2 1497.26 Q1151.41 1497.62 1150.56 1497.62 Q1149.48 1497.62 1148.51 1497.31 Q1147.56 1496.99 1146.88 1496.27 Q1146.21 1495.55 1146.21 1494.56 Q1146.21 1493.45 1146.95 1492.69 Q1147.72 1491.9 1148.75 1491.9 Q1149.41 1491.9 1149.93 1492.28 Q1150.47 1492.66 1150.47 1493.5 Q1150.47 1494.42 1149.84 1495.12 Q1149.21 1495.82 1148.3 1496 Q1149.23 1496.59 1150.6 1496.59 Q1152.09 1496.59 1153.26 1495.28 Q1154.44 1493.97 1155 1491.78 Q1156.4 1486.53 1156.94 1484.19 Q1157.48 1481.82 1157.48 1480.81 Q1157.48 1479.86 1157.23 1479.21 Q1156.98 1478.55 1156.55 1478.26 Q1156.15 1477.94 1155.77 1477.83 Q1155.4 1477.72 1155 1477.72 Q1154.32 1477.72 1153.56 1477.99 Q1152.81 1478.26 1151.91 1478.89 Q1151.03 1479.5 1150.2 1480.76 Q1149.36 1482.02 1148.8 1483.76 Q1148.69 1484.28 1148.19 1484.28 Q1147.65 1484.25 1147.65 1483.8 Q1147.65 1483.42 1147.94 1482.63 Q1148.26 1481.82 1148.89 1480.81 Q1149.54 1479.79 1150.38 1478.89 Q1151.23 1477.97 1152.47 1477.33 Q1153.74 1476.7 1155.09 1476.7 Q1155.7 1476.7 1156.28 1476.84 Q1156.89 1476.95 1157.61 1477.29 Q1158.36 1477.63 1159.01 1478.37 Q1159.67 1479.11 1160.07 1480.2 Q1160.34 1479.68 1160.7 1479.18 Q1161.09 1478.69 1161.67 1478.08 Q1162.28 1477.45 1163.11 1477.09 Q1163.97 1476.7 1164.92 1476.7 Q1165.84 1476.7 1166.74 1476.95 Q1167.65 1477.18 1168.41 1477.92 Q1169.2 1478.64 1169.2 1479.75 Z\" fill=\"#000000\" fill-rule=\"nonzero\" fill-opacity=\"1\" /><polyline clip-path=\"url(#clip273)\" style=\"stroke:#000000; stroke-linecap:round; stroke-linejoin:round; stroke-width:2; stroke-opacity:0.1; fill:none\" points=\"175.445,1322.64 2112.76,1322.64 \"/>\n",
       "<polyline clip-path=\"url(#clip273)\" style=\"stroke:#000000; stroke-linecap:round; stroke-linejoin:round; stroke-width:2; stroke-opacity:0.1; fill:none\" points=\"175.445,1138.58 2112.76,1138.58 \"/>\n",
       "<polyline clip-path=\"url(#clip273)\" style=\"stroke:#000000; stroke-linecap:round; stroke-linejoin:round; stroke-width:2; stroke-opacity:0.1; fill:none\" points=\"175.445,954.529 2112.76,954.529 \"/>\n",
       "<polyline clip-path=\"url(#clip273)\" style=\"stroke:#000000; stroke-linecap:round; stroke-linejoin:round; stroke-width:2; stroke-opacity:0.1; fill:none\" points=\"175.445,770.476 2112.76,770.476 \"/>\n",
       "<polyline clip-path=\"url(#clip273)\" style=\"stroke:#000000; stroke-linecap:round; stroke-linejoin:round; stroke-width:2; stroke-opacity:0.1; fill:none\" points=\"175.445,586.422 2112.76,586.422 \"/>\n",
       "<polyline clip-path=\"url(#clip273)\" style=\"stroke:#000000; stroke-linecap:round; stroke-linejoin:round; stroke-width:2; stroke-opacity:0.1; fill:none\" points=\"175.445,402.368 2112.76,402.368 \"/>\n",
       "<polyline clip-path=\"url(#clip273)\" style=\"stroke:#000000; stroke-linecap:round; stroke-linejoin:round; stroke-width:2; stroke-opacity:0.1; fill:none\" points=\"175.445,218.314 2112.76,218.314 \"/>\n",
       "<polyline clip-path=\"url(#clip270)\" style=\"stroke:#000000; stroke-linecap:round; stroke-linejoin:round; stroke-width:4; stroke-opacity:1; fill:none\" points=\"175.445,1351.55 175.445,195.104 \"/>\n",
       "<polyline clip-path=\"url(#clip270)\" style=\"stroke:#000000; stroke-linecap:round; stroke-linejoin:round; stroke-width:4; stroke-opacity:1; fill:none\" points=\"175.445,1322.64 192.26,1322.64 \"/>\n",
       "<polyline clip-path=\"url(#clip270)\" style=\"stroke:#000000; stroke-linecap:round; stroke-linejoin:round; stroke-width:4; stroke-opacity:1; fill:none\" points=\"175.445,1138.58 192.26,1138.58 \"/>\n",
       "<polyline clip-path=\"url(#clip270)\" style=\"stroke:#000000; stroke-linecap:round; stroke-linejoin:round; stroke-width:4; stroke-opacity:1; fill:none\" points=\"175.445,954.529 192.26,954.529 \"/>\n",
       "<polyline clip-path=\"url(#clip270)\" style=\"stroke:#000000; stroke-linecap:round; stroke-linejoin:round; stroke-width:4; stroke-opacity:1; fill:none\" points=\"175.445,770.476 192.26,770.476 \"/>\n",
       "<polyline clip-path=\"url(#clip270)\" style=\"stroke:#000000; stroke-linecap:round; stroke-linejoin:round; stroke-width:4; stroke-opacity:1; fill:none\" points=\"175.445,586.422 192.26,586.422 \"/>\n",
       "<polyline clip-path=\"url(#clip270)\" style=\"stroke:#000000; stroke-linecap:round; stroke-linejoin:round; stroke-width:4; stroke-opacity:1; fill:none\" points=\"175.445,402.368 192.26,402.368 \"/>\n",
       "<polyline clip-path=\"url(#clip270)\" style=\"stroke:#000000; stroke-linecap:round; stroke-linejoin:round; stroke-width:4; stroke-opacity:1; fill:none\" points=\"175.445,218.314 192.26,218.314 \"/>\n",
       "<path clip-path=\"url(#clip270)\" d=\"M127.501 1308.44 Q123.89 1308.44 122.061 1312 Q120.255 1315.54 120.255 1322.67 Q120.255 1329.78 122.061 1333.34 Q123.89 1336.88 127.501 1336.88 Q131.135 1336.88 132.941 1333.34 Q134.769 1329.78 134.769 1322.67 Q134.769 1315.54 132.941 1312 Q131.135 1308.44 127.501 1308.44 M127.501 1304.73 Q133.311 1304.73 136.367 1309.34 Q139.445 1313.92 139.445 1322.67 Q139.445 1331.4 136.367 1336 Q133.311 1340.59 127.501 1340.59 Q121.691 1340.59 118.612 1336 Q115.556 1331.4 115.556 1322.67 Q115.556 1313.92 118.612 1309.34 Q121.691 1304.73 127.501 1304.73 Z\" fill=\"#000000\" fill-rule=\"nonzero\" fill-opacity=\"1\" /><path clip-path=\"url(#clip270)\" d=\"M119.538 1151.93 L127.177 1151.93 L127.177 1125.56 L118.867 1127.23 L118.867 1122.97 L127.13 1121.3 L131.806 1121.3 L131.806 1151.93 L139.445 1151.93 L139.445 1155.86 L119.538 1155.86 L119.538 1151.93 Z\" fill=\"#000000\" fill-rule=\"nonzero\" fill-opacity=\"1\" /><path clip-path=\"url(#clip270)\" d=\"M123.126 967.874 L139.445 967.874 L139.445 971.809 L117.501 971.809 L117.501 967.874 Q120.163 965.12 124.746 960.49 Q129.353 955.837 130.533 954.495 Q132.779 951.971 133.658 950.235 Q134.561 948.476 134.561 946.786 Q134.561 944.032 132.617 942.296 Q130.695 940.559 127.593 940.559 Q125.394 940.559 122.941 941.323 Q120.51 942.087 117.732 943.638 L117.732 938.916 Q120.556 937.782 123.01 937.203 Q125.464 936.624 127.501 936.624 Q132.871 936.624 136.066 939.309 Q139.26 941.995 139.26 946.485 Q139.26 948.615 138.45 950.536 Q137.663 952.434 135.556 955.027 Q134.978 955.698 131.876 958.916 Q128.774 962.11 123.126 967.874 Z\" fill=\"#000000\" fill-rule=\"nonzero\" fill-opacity=\"1\" /><path clip-path=\"url(#clip270)\" d=\"M132.316 769.121 Q135.672 769.839 137.547 772.107 Q139.445 774.376 139.445 777.709 Q139.445 782.825 135.927 785.626 Q132.408 788.427 125.927 788.427 Q123.751 788.427 121.436 787.987 Q119.144 787.57 116.691 786.714 L116.691 782.2 Q118.635 783.334 120.95 783.913 Q123.265 784.492 125.788 784.492 Q130.186 784.492 132.478 782.756 Q134.792 781.019 134.792 777.709 Q134.792 774.654 132.64 772.941 Q130.51 771.205 126.691 771.205 L122.663 771.205 L122.663 767.362 L126.876 767.362 Q130.325 767.362 132.154 765.996 Q133.982 764.608 133.982 762.015 Q133.982 759.353 132.084 757.941 Q130.209 756.506 126.691 756.506 Q124.769 756.506 122.57 756.922 Q120.371 757.339 117.732 758.219 L117.732 754.052 Q120.394 753.311 122.709 752.941 Q125.047 752.571 127.107 752.571 Q132.431 752.571 135.533 755.001 Q138.635 757.408 138.635 761.529 Q138.635 764.399 136.992 766.39 Q135.348 768.358 132.316 769.121 Z\" fill=\"#000000\" fill-rule=\"nonzero\" fill-opacity=\"1\" /><path clip-path=\"url(#clip270)\" d=\"M129.862 573.216 L118.056 591.665 L129.862 591.665 L129.862 573.216 M128.635 569.142 L134.515 569.142 L134.515 591.665 L139.445 591.665 L139.445 595.554 L134.515 595.554 L134.515 603.702 L129.862 603.702 L129.862 595.554 L114.26 595.554 L114.26 591.04 L128.635 569.142 Z\" fill=\"#000000\" fill-rule=\"nonzero\" fill-opacity=\"1\" /><path clip-path=\"url(#clip270)\" d=\"M118.543 385.088 L136.899 385.088 L136.899 389.023 L122.825 389.023 L122.825 397.495 Q123.843 397.148 124.862 396.986 Q125.88 396.801 126.899 396.801 Q132.686 396.801 136.066 399.972 Q139.445 403.143 139.445 408.56 Q139.445 414.139 135.973 417.241 Q132.501 420.319 126.181 420.319 Q124.005 420.319 121.737 419.949 Q119.492 419.579 117.084 418.838 L117.084 414.139 Q119.168 415.273 121.39 415.829 Q123.612 416.384 126.089 416.384 Q130.093 416.384 132.431 414.278 Q134.769 412.171 134.769 408.56 Q134.769 404.949 132.431 402.843 Q130.093 400.736 126.089 400.736 Q124.214 400.736 122.339 401.153 Q120.487 401.569 118.543 402.449 L118.543 385.088 Z\" fill=\"#000000\" fill-rule=\"nonzero\" fill-opacity=\"1\" /><path clip-path=\"url(#clip270)\" d=\"M127.917 216.451 Q124.769 216.451 122.918 218.604 Q121.089 220.756 121.089 224.506 Q121.089 228.233 122.918 230.409 Q124.769 232.562 127.917 232.562 Q131.066 232.562 132.894 230.409 Q134.746 228.233 134.746 224.506 Q134.746 220.756 132.894 218.604 Q131.066 216.451 127.917 216.451 M137.2 201.798 L137.2 206.057 Q135.441 205.224 133.635 204.784 Q131.853 204.344 130.093 204.344 Q125.464 204.344 123.01 207.469 Q120.58 210.594 120.232 216.914 Q121.598 214.9 123.658 213.835 Q125.718 212.747 128.195 212.747 Q133.404 212.747 136.413 215.918 Q139.445 219.067 139.445 224.506 Q139.445 229.83 136.297 233.048 Q133.149 236.266 127.917 236.266 Q121.922 236.266 118.751 231.682 Q115.58 227.076 115.58 218.349 Q115.58 210.155 119.468 205.293 Q123.357 200.409 129.908 200.409 Q131.667 200.409 133.45 200.756 Q135.255 201.104 137.2 201.798 Z\" fill=\"#000000\" fill-rule=\"nonzero\" fill-opacity=\"1\" /><path clip-path=\"url(#clip270)\" d=\"M28.6829 777.161 Q34.0935 777.161 40.1804 778.9 Q46.2351 780.607 51.1304 783.313 Q55.9935 786.018 59.2141 789.56 Q62.4025 793.103 62.4025 796.485 Q62.4025 798.643 61.2109 800.253 Q59.987 801.831 57.9581 802.7 Q55.8969 803.57 53.6425 803.989 Q51.3559 804.407 48.876 804.407 Q45.1724 804.407 41.1466 803.602 Q37.0887 802.797 33.4172 801.444 Q29.7135 800.092 26.3641 798.192 Q22.9825 796.292 20.5349 794.198 Q18.055 792.073 16.6058 789.689 Q15.1565 787.306 15.1565 785.084 Q15.1565 783.474 15.865 782.185 Q16.5413 780.865 17.733 780.028 Q18.8924 779.19 20.2772 778.61 Q21.6621 777.999 23.2724 777.709 Q24.8505 777.419 26.1709 777.29 Q27.4591 777.161 28.6829 777.161 M24.5928 781.509 Q22.9503 781.509 21.7265 781.638 Q20.4705 781.767 19.2144 782.121 Q17.9584 782.475 17.2821 783.248 Q16.6058 783.989 16.6058 785.148 Q16.6058 788.53 23.53 792.33 Q25.6878 793.554 28.6185 794.649 Q31.5493 795.744 32.9341 796.13 Q34.319 796.517 37.7328 797.419 L37.7328 783.635 Q28.9406 781.509 24.5928 781.509 M39.8262 784.214 L39.8262 797.934 Q47.8776 800.06 52.9018 800.06 Q57.2818 800.06 59.1175 799.158 Q60.921 798.224 60.921 796.485 Q60.921 794.488 58.9243 792.62 Q56.8953 790.752 53.2238 788.852 Q48.4573 786.34 39.8262 784.214 Z\" fill=\"#000000\" fill-rule=\"nonzero\" fill-opacity=\"1\" /><path clip-path=\"url(#clip270)\" d=\"M55.8797 749.079 Q56.1953 749.079 56.9392 749.282 L74.5687 753.7 Q78.4914 754.67 81.2418 757.826 Q83.9921 760.96 83.9921 764.522 Q83.9921 766.663 82.8424 768.038 Q81.7152 769.414 79.9793 769.414 Q78.4463 769.414 77.7023 768.602 Q76.9809 767.79 76.9809 766.821 Q76.9809 766.505 77.0711 766.167 Q77.1613 765.829 77.5445 765.468 Q77.9278 765.108 78.5816 765.108 Q79.6411 765.108 80.4753 766.032 Q80.8585 766.483 80.9487 766.911 Q81.0389 767.317 81.0389 768.016 Q81.6701 767.745 82.0984 767.249 Q82.5268 766.753 82.6846 766.19 Q82.8649 765.626 82.91 765.266 Q82.9777 764.882 82.9777 764.522 Q82.9777 761.636 80.0695 759.427 Q79.1903 758.773 78.311 758.299 Q77.4544 757.803 76.3948 757.443 Q75.3578 757.082 74.7942 756.924 Q74.2306 756.744 72.9455 756.428 Q75.0421 758.525 75.0421 761.095 Q75.0421 762.177 74.7491 763.146 Q74.456 764.093 73.8473 764.927 Q73.2161 765.761 72.1114 766.257 Q71.0067 766.731 69.5414 766.731 Q67.9858 766.731 65.8667 766.122 Q63.7475 765.513 59.8474 764.048 Q57.6606 763.259 56.6011 763.259 Q56.0826 763.259 55.7669 763.372 Q55.4288 763.485 55.3161 763.71 Q55.1808 763.935 55.1582 764.071 Q55.1357 764.183 55.1357 764.409 Q55.1357 765.739 56.4883 766.979 Q57.841 768.219 60.8619 769.075 Q61.4255 769.256 61.5608 769.369 Q61.696 769.481 61.696 769.819 Q61.6735 770.383 61.2226 770.383 Q61.0423 770.383 60.3434 770.18 Q59.622 769.977 58.5624 769.504 Q57.4803 769.008 56.5109 768.332 Q55.5189 767.655 54.8201 766.596 Q54.1212 765.513 54.1212 764.274 Q54.1212 762.583 55.2259 761.546 Q56.308 760.486 57.9086 760.486 Q58.5624 760.486 59.1485 760.667 Q59.7122 760.824 61.2226 761.41 Q67.3095 763.778 70.2853 763.778 Q71.0067 763.778 71.6154 763.665 Q72.2016 763.53 72.7877 763.237 Q73.3513 762.943 73.6895 762.357 Q74.0051 761.749 74.0051 760.914 Q74.0051 759.855 73.5091 758.863 Q72.9906 757.848 72.2918 757.217 Q71.5929 756.563 71.0067 756.18 Q70.3981 755.774 70.0824 755.684 L61.7862 753.61 L58.089 752.686 Q56.0826 752.258 55.5866 752.055 Q55.1132 751.784 54.8652 751.311 Q54.6172 750.837 54.6172 750.431 Q54.6172 749.868 54.9553 749.485 Q55.2935 749.079 55.8797 749.079 Z\" fill=\"#000000\" fill-rule=\"nonzero\" fill-opacity=\"1\" /><path clip-path=\"url(#clip270)\" d=\"M1138.17 16.274 L1136.49 30.7842 Q1136.36 32.0959 1136.16 32.5058 Q1135.95 32.8747 1135.3 32.8747 Q1134.32 32.8747 1134.32 31.8909 Q1134.32 31.481 1134.48 30.3743 Q1134.72 28.1199 1134.72 25.8245 Q1134.72 23.2422 1134.23 21.6436 Q1133.78 20.004 1132.47 18.8154 Q1131.16 17.6267 1128.74 17.1348 Q1126.32 16.6019 1122.47 16.6019 L1111.4 16.6019 Q1108.7 16.6019 1108.04 17.0938 Q1107.43 17.5857 1106.85 19.8811 L1101.48 41.1955 L1109.11 41.1955 Q1114.44 41.1955 1116.53 39.6379 Q1118.62 38.0803 1119.93 33.1206 Q1120.13 32.3418 1120.21 32.0549 Q1120.34 31.727 1120.54 31.563 Q1120.79 31.3581 1121.2 31.3581 Q1121.57 31.3581 1121.81 31.604 Q1122.06 31.809 1122.14 32.0549 L1122.22 32.3008 Q1122.22 32.7107 1121.98 33.6535 L1117.35 51.8527 Q1117.02 53.0824 1116.81 53.3693 Q1116.65 53.6153 1116.07 53.6153 Q1115.66 53.6153 1115.38 53.3283 Q1115.09 53.0414 1115.09 52.5905 Q1115.17 52.0987 1115.34 51.6888 Q1115.91 49.1884 1115.91 47.5898 Q1115.91 46.5651 1115.71 45.9503 Q1115.5 45.3354 1114.8 44.8026 Q1114.11 44.2697 1112.67 44.0238 Q1111.24 43.7778 1108.94 43.7778 L1100.83 43.7778 L1095.62 64.6824 L1095.25 66.6089 Q1095.25 67.4696 1095.7 67.7975 Q1096.2 68.1255 1097.96 68.2894 Q1100.58 68.4944 1102.3 68.4944 Q1104.43 68.4944 1104.68 68.5763 Q1105.17 68.8223 1105.17 69.4781 Q1105.17 70.2159 1104.84 70.6258 Q1104.52 70.9947 1104.23 71.0357 Q1103.94 71.0767 1103.41 71.0767 L1090.91 70.8308 L1079.84 71.0767 Q1078.57 71.0767 1078.57 70.052 Q1078.57 69.2732 1078.9 68.9452 Q1079.23 68.5763 1079.59 68.5354 Q1079.96 68.4944 1080.91 68.4944 Q1082.96 68.4944 1084.19 68.3714 Q1085.41 68.2484 1086.19 68.0845 Q1087.01 67.8795 1087.42 67.3057 Q1087.87 66.7318 1088.08 66.24 Q1088.28 65.7071 1088.57 64.5184 L1099.64 20.127 Q1100.05 18.6104 1100.05 18.1185 Q1100.05 17.5857 1099.68 17.2578 Q1099.35 16.9299 1098.45 16.8069 Q1097.55 16.6429 1096.81 16.6429 Q1096.11 16.6019 1094.6 16.6019 Q1093.61 16.6019 1093.2 16.5609 Q1092.83 16.52 1092.55 16.315 Q1092.26 16.1101 1092.26 15.6592 Q1092.26 14.5115 1092.75 14.2655 Q1093.28 13.9786 1094.76 13.9786 L1135.91 13.9786 Q1137.55 13.9786 1137.92 14.3475 Q1138.33 14.6754 1138.17 16.274 Z\" fill=\"#000000\" fill-rule=\"nonzero\" fill-opacity=\"1\" /><path clip-path=\"url(#clip270)\" d=\"M1146.72 60.7927 L1146.72 58.9563 Q1153.78 58.9563 1157.42 55.1976 Q1158.42 55.1976 1158.6 55.4272 Q1158.77 55.6567 1158.77 56.7183 L1158.77 89.686 Q1158.77 91.4362 1159.63 91.9814 Q1160.49 92.5266 1164.25 92.5266 L1166.11 92.5266 L1166.11 94.3342 Q1164.05 94.162 1156.59 94.162 Q1149.13 94.162 1147.09 94.3342 L1147.09 92.5266 L1148.96 92.5266 Q1152.66 92.5266 1153.55 92.0101 Q1154.44 91.4649 1154.44 89.686 L1154.44 59.2433 Q1151.37 60.7927 1146.72 60.7927 Z\" fill=\"#000000\" fill-rule=\"nonzero\" fill-opacity=\"1\" /><path clip-path=\"url(#clip270)\" d=\"M1171.57 94.3342 Q1171.57 93.2726 1171.66 92.9569 Q1171.77 92.6413 1172.23 92.1536 L1183.51 79.5862 Q1189.68 72.6427 1189.68 66.5885 Q1189.68 62.6577 1187.61 59.8458 Q1185.57 57.0339 1181.82 57.0339 Q1179.23 57.0339 1177.05 58.612 Q1174.87 60.1901 1173.87 63.002 Q1174.04 62.9446 1174.64 62.9446 Q1176.11 62.9446 1176.91 63.8628 Q1177.74 64.7809 1177.74 66.0147 Q1177.74 67.5928 1176.71 68.3675 Q1175.7 69.1135 1174.7 69.1135 Q1174.3 69.1135 1173.75 69.0274 Q1173.24 68.9413 1172.4 68.1379 Q1171.57 67.3059 1171.57 65.8425 Q1171.57 61.7395 1174.67 58.4686 Q1177.8 55.1976 1182.56 55.1976 Q1187.96 55.1976 1191.48 58.4112 Q1195.04 61.5961 1195.04 66.5885 Q1195.04 68.3388 1194.5 69.9456 Q1193.98 71.5237 1193.26 72.7574 Q1192.58 73.9912 1190.68 75.971 Q1188.79 77.9508 1187.27 79.3567 Q1185.75 80.7626 1182.33 83.7467 L1176.11 89.8008 L1186.69 89.8008 Q1191.86 89.8008 1192.26 89.3417 Q1192.83 88.5096 1193.55 84.1197 L1195.04 84.1197 L1193.38 94.3342 L1171.57 94.3342 Z\" fill=\"#000000\" fill-rule=\"nonzero\" fill-opacity=\"1\" /><g clip-path=\"url(#clip273)\">\n",
       "<image width=\"1156\" height=\"1156\" xlink:href=\"data:image/png;base64,\n",
       "iVBORw0KGgoAAAANSUhEUgAABIQAAASECAYAAAAV0tQ2AAAgAElEQVR4nOzaPY5k12GG4Xtran4o\n",
       "jigLtA3RhDOHhjJrA468C69Ci/AqFHgPihRZkUJBIRPCoGhLHEgz7OFMd1ff48AQcwPT58D1Ps8K\n",
       "voO6VffWW7Vfxr+PLWD88uerJ0zx+198vnrCFL/63U9XT5jiN998vHrCo/vi5m71hCm+3v+0esIU\n",
       "b/ZXqydM8X7crJ4wxcNovD8LnuzPVk+Y4sX+cvWEKT4Zn66eMMVn48erJzy6f3jZeG/+7K/frp4w\n",
       "xT//429XT5ji7/71q9UTptj/5d9WT3h0p9UDAAAAAJhLEAIAAACIEYQAAAAAYgQhAAAAgBhBCAAA\n",
       "ACBGEAIAAACIEYQAAAAAYgQhAAAAgBhBCAAAACBGEAIAAACIEYQAAAAAYgQhAAAAgBhBCAAAACBG\n",
       "EAIAAACIEYQAAAAAYgQhAAAAgBhBCAAAACBGEAIAAACIEYQAAAAAYgQhAAAAgBhBCAAAACBGEAIA\n",
       "AACIEYQAAAAAYgQhAAAAgBhBCAAAACBGEAIAAACIEYQAAAAAYgQhAAAAgBhBCAAAACBGEAIAAACI\n",
       "EYQAAAAAYgQhAAAAgBhBCAAAACBGEAIAAACIEYQAAAAAYgQhAAAAgBhBCAAAACBGEAIAAACIEYQA\n",
       "AAAAYgQhAAAAgBhBCAAAACBGEAIAAACIEYQAAAAAYgQhAAAAgBhBCAAAACBGEAIAAACIEYQAAAAA\n",
       "YgQhAAAAgBhBCAAAACBGEAIAAACIEYQAAAAAYgQhAAAAgBhBCAAAACBGEAIAAACIEYQAAAAAYgQh\n",
       "AAAAgBhBCAAAACDmPH7589Ubprj99bF6whRfff2T1ROm+OP756snTPHt/eoFj+/duKyeMMXd6Xb1\n",
       "hCkuW+OcD+Nu9YQpjhH4EOKqXPbGZ9Bd5Jzvjut/Rvj2/tnqCVNUnt0r38U+/fV/rp4wxfPt+luJ\n",
       "fwgBAAAAxAhCAAAAADGCEAAAAECMIAQAAAAQIwgBAAAAxAhCAAAAADGCEAAAAECMIAQAAAAQIwgB\n",
       "AAAAxAhCAAAAADGCEAAAAECMIAQAAAAQIwgBAAAAxAhCAAAAADGCEAAAAECMIAQAAAAQIwgBAAAA\n",
       "xAhCAAAAADGCEAAAAECMIAQAAAAQIwgBAAAAxAhCAAAAADGCEAAAAECMIAQAAAAQIwgBAAAAxAhC\n",
       "AAAAADGCEAAAAECMIAQAAAAQIwgBAAAAxAhCAAAAADGCEAAAAECMIAQAAAAQIwgBAAAAxAhCAAAA\n",
       "ADGCEAAAAECMIAQAAAAQIwgBAAAAxAhCAAAAADGCEAAAAECMIAQAAAAQIwgBAAAAxAhCAAAAADGC\n",
       "EAAAAECMIAQAAAAQIwgBAAAAxAhCAAAAADGCEAAAAECMIAQAAAAQIwgBAAAAxAhCAAAAADGCEAAA\n",
       "AECMIAQAAAAQIwgBAAAAxAhCAAAAADGCEAAAAECMIAQAAAAQIwgBAAAAxJx//4vPV2+Y4quvf7J6\n",
       "whS//cNnqydM8eXb8+oJU3xzd1k94dG9Od2snjDFd9ub1ROmuD3erp4wxf3xbvWEKY5x/Z9BFafd\n",
       "a3lNTqenqydM8eb0YvWER/fN3bPVE6aoPLv/KPJdbPuPf1q9YIrPv/iv1RMenX8IAQAAAMQIQgAA\n",
       "AAAxghAAAABAjCAEAAAAECMIAQAAAMQIQgAAAAAxghAAAABAjCAEAAAAECMIAQAAAMQIQgAAAAAx\n",
       "ghAAAABAjCAEAAAAECMIAQAAAMQIQgAAAAAxghAAAABAjCAEAAAAECMIAQAAAMQIQgAAAAAxghAA\n",
       "AABAjCAEAAAAECMIAQAAAMQIQgAAAAAxghAAAABAjCAEAAAAECMIAQAAAMQIQgAAAAAxghAAAABA\n",
       "jCAEAAAAECMIAQAAAMQIQgAAAAAxghAAAABAjCAEAAAAECMIAQAAAMQIQgAAAAAxghAAAABAjCAE\n",
       "AAAAECMIAQAAAMQIQgAAAAAxghAAAABAjCAEAAAAECMIAQAAAMQIQgAAAAAxghAAAABAjCAEAAAA\n",
       "ECMIAQAAAMQIQgAAAAAxghAAAABAjCAEAAAAECMIAQAAAMQIQgAAAAAxghAAAABAjCAEAAAAECMI\n",
       "AQAAAMQIQgAAAAAxghAAAABAjCAEAAAAECMIAQAAAMScf/W7n67eMMUf3z9fPWGKL9+eV0+Y4su3\n",
       "D6snTPGH8e3qCY/u9enV6glTvDv+vHrCFHfHzeoJU1yO29UTphij8VlbsO9PVk+YYmyu2Wvy+nT9\n",
       "1+35eLp6whTnt5+snjDJi9UDpnh9//erJ0zxN6/+dvWER+cfQgAAAAAxghAAAABAjCAEAAAAECMI\n",
       "AQAAAMQIQgAAAAAxghAAAABAjCAEAAAAECMIAQAAAMQIQgAAAAAxghAAAABAjCAEAAAAECMIAQAA\n",
       "AMQIQgAAAAAxghAAAABAjCAEAAAAECMIAQAAAMQIQgAAAAAxghAAAABAjCAEAAAAECMIAQAAAMQI\n",
       "QgAAAAAxghAAAABAjCAEAAAAECMIAQAAAMQIQgAAAAAxghAAAABAjCAEAAAAECMIAQAAAMQIQgAA\n",
       "AAAxghAAAABAjCAEAAAAECMIAQAAAMQIQgAAAAAxghAAAABAjCAEAAAAECMIAQAAAMQIQgAAAAAx\n",
       "ghAAAABAjCAEAAAAECMIAQAAAMQIQgAAAAAxghAAAABAjCAEAAAAECMIAQAAAMQIQgAAAAAxghAA\n",
       "AABAjCAEAAAAECMIAQAAAMQIQgAAAAAxghAAAABAjCAEAAAAECMIAQAAAMQIQgAAAAAxghAAAABA\n",
       "jCAEAAAAECMIAQAAAMQIQgAAAAAx59988/HqDVN8e796wRzf3F1WT5jiD+Pb1ROmeHX679UTHt3N\n",
       "8Wr1hCluH96snjDF5Xi/esIUx7hbPWGKMY7VE/hA9r3xG+AYD6snTOG9eUVO++oFc0Qu2cvND1dP\n",
       "mOL13Xn1hCl++PT6z9l4OgAAAADge4IQAAAAQIwgBAAAABAjCAEAAADECEIAAAAAMYIQAAAAQIwg\n",
       "BAAAABAjCAEAAADECEIAAAAAMYIQAAAAQIwgBAAAABAjCAEAAADECEIAAAAAMYIQAAAAQIwgBAAA\n",
       "ABAjCAEAAADECEIAAAAAMYIQAAAAQIwgBAAAABAjCAEAAADECEIAAAAAMYIQAAAAQIwgBAAAABAj\n",
       "CAEAAADECEIAAAAAMYIQAAAAQIwgBAAAABAjCAEAAADECEIAAAAAMYIQAAAAQIwgBAAAABAjCAEA\n",
       "AADECEIAAAAAMYIQAAAAQIwgBAAAABAjCAEAAADECEIAAAAAMYIQAAAAQIwgBAAAABAjCAEAAADE\n",
       "CEIAAAAAMYIQAAAAQIwgBAAAABAjCAEAAADECEIAAAAAMYIQAAAAQIwgBAAAABAjCAEAAADECEIA\n",
       "AAAAMYIQAAAAQIwgBAAAABAjCAEAAADECEIAAAAAMYIQAAAAQIwgBAAAABAjCAEAAADEnL+4uVu9\n",
       "YYp347J6whRvTjerJ0zx+vRq9YQpbo7rP+ftw5vVE6a4P75bPWGK47hdPWGKEbmnjO1YPYEPZB+N\n",
       "3wDH/rB6whTem/y/cxqrF0xxGferJ0xx8/7l6glTfHR7Xj3h0TWeDgAAAAD4niAEAAAAECMIAQAA\n",
       "AMQIQgAAAAAxghAAAABAjCAEAAAAECMIAQAAAMQIQgAAAAAxghAAAABAjCAEAAAAECMIAQAAAMQI\n",
       "QgAAAAAxghAAAABAjCAEAAAAECMIAQAAAMQIQgAAAAAxghAAAABAjCAEAAAAECMIAQAAAMQIQgAA\n",
       "AAAxghAAAABAjCAEAAAAECMIAQAAAMQIQgAAAAAxghAAAABAjCAEAAAAECMIAQAAAMQIQgAAAAAx\n",
       "ghAAAABAjCAEAAAAECMIAQAAAMQIQgAAAAAxghAAAABAjCAEAAAAECMIAQAAAMQIQgAAAAAxghAA\n",
       "AABAjCAEAAAAECMIAQAAAMQIQgAAAAAxghAAAABAjCAEAAAAECMIAQAAAMQIQgAAAAAxghAAAABA\n",
       "jCAEAAAAECMIAQAAAMQIQgAAAAAxghAAAABAjCAEAAAAECMIAQAAAMQIQgAAAAAxghAAAABAjCAE\n",
       "AAAAECMIAQAAAMQIQgAAAAAxghAAAABAzPnr/U+rN0xxd7pdPWGK77Y3qydM8e748+oJU9w+XP/r\n",
       "eX98t3rCFMfxfvWEKY5xv3rCHONh9YIpxnasnsAH0/gNMHPNHmP1gikidxSuyMOp8Xzw/knjufbZ\n",
       "eL56wqNrPB0AAAAA8D1BCAAAACBGEAIAAACIEYQAAAAAYgQhAAAAgBhBCAAAACBGEAIAAACIEYQA\n",
       "AAAAYgQhAAAAgBhBCAAAACBGEAIAAACIEYQAAAAAYgQhAAAAgBhBCAAAACBGEAIAAACIEYQAAAAA\n",
       "YgQhAAAAgBhBCAAAACBGEAIAAACIEYQAAAAAYgQhAAAAgBhBCAAAACBGEAIAAACIEYQAAAAAYgQh\n",
       "AAAAgBhBCAAAACBGEAIAAACIEYQAAAAAYgQhAAAAgBhBCAAAACBGEAIAAACIEYQAAAAAYgQhAAAA\n",
       "gBhBCAAAACBGEAIAAACIEYQAAAAAYgQhAAAAgBhBCAAAACBGEAIAAACIEYQAAAAAYgQhAAAAgBhB\n",
       "CAAAACBGEAIAAACIEYQAAAAAYgQhAAAAgBhBCAAAACBGEAIAAACIEYQAAAAAYgQhAAAAgBhBCAAA\n",
       "ACBGEAIAAACIEYQAAAAAYgQhAAAAgBhBCAAAACBGEAIAAACIEYQAAAAAYgQhAAAAgJjzm/3V6g1T\n",
       "XLbb1ROmuD3erp4wxd1xs3rCFJfj/eoJj+44Gu/NY9yvnjDFGJfVEyY5Vg+YY4zVC/hAxh55LSPX\n",
       "bOQTaNuOffWCR3eJ/D6/741zVhynxnPteX++esKj884EAAAAiBGEAAAAAGIEIQAAAIAYQQgAAAAg\n",
       "RhACAAAAiBGEAAAAAGIEIQAAAIAYQQgAAAAgRhACAAAAiBGEAAAAAGIEIQAAAIAYQQgAAAAgRhAC\n",
       "AAAAiBGEAAAAAGIEIQAAAIAYQQgAAAAgRhACAAAAiBGEAAAAAGIEIQAAAIAYQQgAAAAgRhACAAAA\n",
       "iBGEAAAAAGIEIQAAAIAYQQgAAAAgRhACAAAAiBGEAAAAAGIEIQAAAIAYQQgAAAAgRhACAAAAiBGE\n",
       "AAAAAGIEIQAAAIAYQQgAAAAgRhACAAAAiBGEAAAAAGIEIQAAAIAYQQgAAAAgRhACAAAAiBGEAAAA\n",
       "AGIEIQAAAIAYQQgAAAAgRhACAAAAiBGEAAAAAGIEIQAAAIAYQQgAAAAgRhACAAAAiBGEAAAAAGIE\n",
       "IQAAAIAYQQgAAAAgRhACAAAAiBGEAAAAAGIEIQAAAIAYQQgAAAAgRhACAAAAiBGEAAAAAGIEIQAA\n",
       "AIAYQQgAAAAgRhACAAAAiDm/HzerN0zxMO5WT5ji/ni3esIUl+N29YQpjsB1O8Zl9YQ5xsPqBZMc\n",
       "qwfMMRrnHNtYPYEPZB/76glzRI5ZuaeM7fqfEQrPetu2bZfjyeoJU+xb45wVl/1+9YRH5x9CAAAA\n",
       "ADGCEAAAAECMIAQAAAAQIwgBAAAAxAhCAAAAADGCEAAAAECMIAQAAAAQIwgBAAAAxAhCAAAAADGC\n",
       "EAAAAECMIAQAAAAQIwgBAAAAxAhCAAAAADGCEAAAAECMIAQAAAAQIwgBAAAAxAhCAAAAADGCEAAA\n",
       "AECMIAQAAAAQIwgBAAAAxAhCAAAAADGCEAAAAECMIAQAAAAQIwgBAAAAxAhCAAAAADGCEAAAAECM\n",
       "IAQAAAAQIwgBAAAAxAhCAAAAADGCEAAAAECMIAQAAAAQIwgBAAAAxAhCAAAAADGCEAAAAECMIAQA\n",
       "AAAQIwgBAAAAxAhCAAAAADGCEAAAAECMIAQAAAAQIwgBAAAAxAhCAAAAADGCEAAAAECMIAQAAAAQ\n",
       "IwgBAAAAxAhCAAAAADGCEAAAAECMIAQAAAAQIwgBAAAAxAhCAAAAADGCEAAAAECMIAQAAAAQIwgB\n",
       "AAAAxAhCAAAAADGCEAAAAECMIAQAAAAQIwgBAAAAxAhCAAAAADHnh3G3esMUx7hfPWGKY1xWT5hi\n",
       "jIfVE6YY41g94dGN7frPuG2dc25jrF4wxdga5+R6VK7ZvfIZtEfuKYF7Z+FZb9s6z+6V72KV79YF\n",
       "/iEEAAAAECMIAQAAAMQIQgAAAAAxghAAAABAjCAEAAAAECMIAQAAAMQIQgAAAAAxghAAAABAjCAE\n",
       "AAAAECMIAQAAAMQIQgAAAAAxghAAAABAjCAEAAAAECMIAQAAAMQIQgAAAAAxghAAAABAjCAEAAAA\n",
       "ECMIAQAAAMQIQgAAAAAxghAAAABAjCAEAAAAECMIAQAAAMQIQgAAAAAxghAAAABAjCAEAAAAECMI\n",
       "AQAAAMQIQgAAAAAxghAAAABAjCAEAAAAECMIAQAAAMQIQgAAAAAxghAAAABAjCAEAAAAECMIAQAA\n",
       "AMQIQgAAAAAxghAAAABAjCAEAAAAECMIAQAAAMQIQgAAAAAxghAAAABAjCAEAAAAECMIAQAAAMQI\n",
       "QgAAAAAxghAAAABAjCAEAAAAECMIAQAAAMQIQgAAAAAxghAAAABAjCAEAAAAECMIAQAAAMQIQgAA\n",
       "AAAxghAAAABAjCAEAAAAECMIAQAAAMQIQgAAAAAxghAAAABAjCAEAAAAECMIAQAAAMQIQgAAAAAx\n",
       "ghAAAABAjCAEAAAAECMIAQAAAMQIQgAAAAAxghAAAABAjCAEAAAAECMIAQAAAMQIQgAAAAAxghAA\n",
       "AABAjCAEAAAAECMIAQAAAMQIQgAAAAAxghAAAABAjCAEAAAAECMIAQAAAMQIQgAAAAAxghAAAABA\n",
       "jCAEAAAAECMIAQAAAMQIQgAAAAAxghAAAABAjCAEAAAAECMIAQAAAMQIQgAAAAAxghAAAABAjCAE\n",
       "AAAAECMIAQAAAMQIQgAAAAAxghAAAABAjCAEAAAAECMIAQAAAMQIQgAAAAAxghAAAABAjCAEAAAA\n",
       "ECMIAQAAAMQIQgAAAAAxghAAAABAjCAEAAAAECMIAQAAAMQIQgAAAAAxghAAAABAjCAEAAAAECMI\n",
       "AQAAAMQIQgAAAAAxghAAAABAjCAEAAAAECMIAQAAAMQIQgAAAAAxghAAAABAjCAEAAAAECMIAQAA\n",
       "AMQIQgAAAAAxghAAAABAjCAEAAAAECMIAQAAAMScn+zPVm/gAzrtl9UTptj3J6snTLHv199s93H9\n",
       "Z/xfjXOOfayeMMU+9tUTphhb4/Us2LfGNbvtjXPukXtK4ZyFZ71t6zy7n/bz6glTnPanqydMUWgl\n",
       "jU8gAAAAAL4nCAEAAADECEIAAAAAMYIQAAAAQIwgBAAAABAjCAEAAADECEIAAAAAMYIQAAAAQIwg\n",
       "BAAAABAjCAEAAADECEIAAAAAMYIQAAAAQIwgBAAAABAjCAEAAADECEIAAAAAMYIQAAAAQIwgBAAA\n",
       "ABAjCAEAAADECEIAAAAAMYIQAAAAQIwgBAAAABAjCAEAAADECEIAAAAAMYIQAAAAQIwgBAAAABAj\n",
       "CAEAAADECEIAAAAAMYIQAAAAQIwgBAAAABAjCAEAAADECEIAAAAAMYIQAAAAQIwgBAAAABAjCAEA\n",
       "AADECEIAAAAAMYIQAAAAQIwgBAAAABAjCAEAAADECEIAAAAAMYIQAAAAQIwgBAAAABAjCAEAAADE\n",
       "CEIAAAAAMYIQAAAAQIwgBAAAABAjCAEAAADECEIAAAAAMYIQAAAAQIwgBAAAABAjCAEAAADECEIA\n",
       "AAAAMYIQAAAAQIwgBAAAABAjCAEAAADECEIAAAAAMYIQAAAAQIwgBAAAABBzfrG/XL1hist+u3oC\n",
       "H9DYHlZPmGKM6z/n2K//jNu2bWM7Vk+YY4zVC+bYVw+YY6+8ngV75KKt/Na5P1m9YIp9P6+e8OhO\n",
       "+7PVE6Y4n56vnjDF09NHqydM8fz08eoJU5y3679uI3dNAAAAAP5CEAIAAACIEYQAAAAAYgQhAAAA\n",
       "gBhBCAAAACBGEAIAAACIEYQAAAAAYgQhAAAAgBhBCAAAACBGEAIAAACIEYQAAAAAYgQhAAAAgBhB\n",
       "CAAAACBGEAIAAACIEYQAAAAAYgQhAAAAgBhBCAAAACBGEAIAAACIEYQAAAAAYgQhAAAAgBhBCAAA\n",
       "ACBGEAIAAACIEYQAAAAAYgQhAAAAgBhBCAAAACBGEAIAAACIEYQAAAAAYgQhAAAAgBhBCAAAACBG\n",
       "EAIAAACIEYQAAAAAYgQhAAAAgBhBCAAAACBGEAIAAACIEYQAAAAAYgQhAAAAgBhBCAAAACBGEAIA\n",
       "AACIEYQAAAAAYgQhAAAAgBhBCAAAACBGEAIAAACIEYQAAAAAYgQhAAAAgBhBCAAAACBGEAIAAACI\n",
       "EYQAAAAAYgQhAAAAgBhBCAAAACBGEAIAAACIEYQAAAAAYgQhAAAAgBhBCAAAACBGEAIAAACIEYQA\n",
       "AAAAYgQhAAAAgBhBCAAAACDm/Mn4dPWGKe7229UTpjidnq6ewAc0xrF6wqMb2/Wfcdu2bTvG6gVT\n",
       "RF7NbRsPqxdMMfbMK3r19spvgPuT1QumOO2N573T6fnqCY/ufHqxesIUz04vV0+Y4qPTX62eMMUP\n",
       "tk9WT5ji2bj+z6DI0wEAAAAAfyEIAQAAAMQIQgAAAAAxghAAAABAjCAEAAAAECMIAQAAAMQIQgAA\n",
       "AAAxghAAAABAjCAEAAAAECMIAQAAAMQIQgAAAAAxghAAAABAjCAEAAAAECMIAQAAAMQIQgAAAAAx\n",
       "ghAAAABAjCAEAAAAECMIAQAAAMQIQgAAAAAxghAAAABAjCAEAAAAECMIAQAAAMQIQgAAAAAxghAA\n",
       "AABAjCAEAAAAECMIAQAAAMQIQgAAAAAxghAAAABAjCAEAAAAECMIAQAAAMQIQgAAAAAxghAAAABA\n",
       "jCAEAAAAECMIAQAAAMQIQgAAAAAxghAAAABAjCAEAAAAECMIAQAAAMQIQgAAAAAxghAAAABAjCAE\n",
       "AAAAECMIAQAAAMQIQgAAAAAxghAAAABAjCAEAAAAECMIAQAAAMQIQgAAAAAxghAAAABAjCAEAAAA\n",
       "ECMIAQAAAMQIQgAAAAAxghAAAABAjCAEAAAAECMIAQAAAMQIQgAAAAAxghAAAABAjCAEAAAAEHP+\n",
       "bPx49YYp3h2X1ROmeHN6sXrCFK9PT1ZPgP+T+9UDZjn21QumGFvjnrJtx+oBfCB75DfAfT+vnjDF\n",
       "6fR89YQpnp5+sHrCo3v+5JPVE6Z4efp09YQpfjQa5/zkeLl6whQfBe4pjacDAAAAAL4nCAEAAADE\n",
       "CEIAAAAAMYIQAAAAQIwgBAAAABAjCAEAAADECEIAAAAAMYIQAAAAQIwgBAAAABAjCAEAAADECEIA\n",
       "AAAAMYIQAAAAQIwgBAAAABAjCAEAAADECEIAAAAAMYIQAAAAQIwgBAAAABAjCAEAAADECEIAAAAA\n",
       "MYIQAAAAQIwgBAAAABAjCAEAAADECEIAAAAAMYIQAAAAQIwgBAAAABAjCAEAAADECEIAAAAAMYIQ\n",
       "AAAAQIwgBAAAABAjCAEAAADECEIAAAAAMYIQAAAAQIwgBAAAABAjCAEAAADECEIAAAAAMYIQAAAA\n",
       "QIwgBAAAABAjCAEAAADECEIAAAAAMYIQAAAAQIwgBAAAABAjCAEAAADECEIAAAAAMYIQAAAAQIwg\n",
       "BAAAABAjCAEAAADECEIAAAAAMYIQAAAAQIwgBAAAABAjCAEAAADECEIAAAAAMYIQAAAAQIwgBAAA\n",
       "ABAjCAEAAADECEL8T7v2sxtlFcBheL7plBbbAkmhCMSwcWnY6QpXrrwLr8KL8LZ05861G2MIxD8L\n",
       "oiSFlhl3JC5J2nOSvs9zBb+TaWfOvPMBAAAAMYIQAAAAQMzm8+NbszcM8c9F45x/vWucc7Pdnz1h\n",
       "jPUyewF8lMvI7wzb3bvZE4bY7bazJ3BFlqXxv7leIveg9eHsCUMc7N2ZPeHaHa/vz54wxOn24ewJ\n",
       "Q5wtJ7MnDHH/cDN7whAnga+cjdsBAAAAAB8IQgAAAAAxghAAAABAjCAEAAAAECMIAQAAAMQIQgAA\n",
       "AAAxghAAAABAjCAEAAAAECMIAQAAAMQIQgAAAAAxghAAAABAjCAEAAAAECMIAQAAAMQIQgAAAAAx\n",
       "ghAAAABAjCAEAAAAECMIAQAAAMQIQgAAAAAxghAAAABAjCAEAAAAECMIAQAAAMQIQgAAAAAxghAA\n",
       "AABAjCAEAAAAECMIAQAAAMQIQgAAAAAxghAAAABAjCAEAAAAECMIAQAAAMQIQgAAAAAxghAAAABA\n",
       "jCAEAAAAECMIAQAAAMQIQgAAAAAxghAAAABAjCAEAAAAECMIAQAAAMQIQgAAAAAxghAAAABAjCAE\n",
       "AAAAECMIAQAAAMQIQgAAAAAxghAAAABAjCAEAAAAECMIAQAAAMQIQgAAAAAxghAAAABAjCAEAAAA\n",
       "ECMIAQAAAMQIQgAAAAAxghAAAABAjCAEAAAAECMIAQAAAMQIQgAAAAAxghAAAABAjCAEAAAAECMI\n",
       "AQAAAMRsvrr/ZvaGIf48P5g9YYjf3mxmTxhi8+bO7AljbGcPGGC9m72AK7Qsjd8ZLrd7sycMsdu9\n",
       "nz2BK7Isjb/Zzbpx37u1Pp49YYjj9ensCdfudPtw9oQhHq8bd/enR4332qdHl7MnDPHg8O3sCdeu\n",
       "cXMHAAAA4ANBCAAAACBGEAIAAACIEYQAAAAAYgQhAAAAgBhBCAAAACBGEAIAAACIEYQAAAAAYgQh\n",
       "AAAAgBhBCAAAACBGEAIAAACIEYQAAAAAYgQhAAAAgBhBCAAAACBGEAIAAACIEYQAAAAAYgQhAAAA\n",
       "gBhBCAAAACBGEAIAAACIEYQAAAAAYgQhAAAAgBhBCAAAACBGEAIAAACIEYQAAAAAYgQhAAAAgBhB\n",
       "CAAAACBGEAIAAACIEYQAAAAAYgQhAAAAgBhBCAAAACBGEAIAAACIEYQAAAAAYgQhAAAAgBhBCAAA\n",
       "ACBGEAIAAACIEYQAAAAAYgQhAAAAgBhBCFd///oAAAZlSURBVAAAACBGEAIAAACIEYQAAAAAYgQh\n",
       "AAAAgBhBCAAAACBGEAIAAACIEYQAAAAAYgQhAAAAgBhBCAAAACBGEAIAAACIEYQAAAAAYgQhAAAA\n",
       "gBhBCAAAACBGEAIAAACIEYQAAAAAYgQhAAAAgBhBCAAAACBGEAIAAACIEYQAAAAAYgQhAAAAgJjN\n",
       "N1/8MnvDEC9efjp7whB3/3g0e8Igh7MHDHH578nsCdfucncxe8IQ79fvZ0/gCi2rvdkThtjuLmdP\n",
       "4Iqsl83sCUPsr2/PnjDE7fW92ROGuLs7nT3h2p0tN/+ut1qtVk+PGp+bz+6dz54wxLOzl7MnDPHk\n",
       "0avZE66dJ4QAAAAAYgQhAAAAgBhBCAAAACBGEAIAAACIEYQAAAAAYgQhAAAAgBhBCAAAACBGEAIA\n",
       "AACIEYQAAAAAYgQhAAAAgBhBCAAAACBGEAIAAACIEYQAAAAAYgQhAAAAgBhBCAAAACBGEAIAAACI\n",
       "EYQAAAAAYgQhAAAAgBhBCAAAACBGEAIAAACIEYQAAAAAYgQhAAAAgBhBCAAAACBGEAIAAACIEYQA\n",
       "AAAAYgQhAAAAgBhBCAAAACBGEAIAAACIEYQAAAAAYgQhAAAAgBhBCAAAACBGEAIAAACIEYQAAAAA\n",
       "YgQhAAAAgBhBCAAAACBGEAIAAACIEYQAAAAAYgQhAAAAgBhBCAAAACBGEAIAAACIEYQAAAAAYgQh\n",
       "AAAAgBhBCAAAACBGEAIAAACIEYQAAAAAYgQhAAAAgBhBCAAAACBGEAIAAACIEYQAAAAAYgQhAAAA\n",
       "gBhBCAAAACBGEAIAAACIEYQAAAAAYgQhAAAAgBhBCAAAACBGEAIAAACIEYQAAAAAYjaPv3sxe8MQ\n",
       "pz/9PnvCGD9+OXvBEK8vPps9YYjX7zazJ1y7f8+PZ08Y4nzvfPaEIbbri9kTuELbndfzplgv+7Mn\n",
       "DHGwPpo9YYhPVndmTxjizvbm3xHuH978u95qtVo9PbqcPWGIZ2cvZ08Y4tnXP8+eMMTB85v//MzN\n",
       "PyEAAAAA/yMIAQAAAMQIQgAAAAAxghAAAABAjCAEAAAAECMIAQAAAMQIQgAAAAAxghAAAABAjCAE\n",
       "AAAAECMIAQAAAMQIQgAAAAAxghAAAABAjCAEAAAAECMIAQAAAMQIQgAAAAAxghAAAABAjCAEAAAA\n",
       "ECMIAQAAAMQIQgAAAAAxghAAAABAjCAEAAAAECMIAQAAAMQIQgAAAAAxghAAAABAjCAEAAAAECMI\n",
       "AQAAAMQIQgAAAAAxghAAAABAjCAEAAAAECMIAQAAAMQIQgAAAAAxghAAAABAjCAEAAAAECMIAQAA\n",
       "AMQIQgAAAAAxghAAAABAjCAEAAAAECMIAQAAAMQIQgAAAAAxghAAAABAjCAEAAAAECMIAQAAAMQI\n",
       "QgAAAAAxghAAAABAjCAEAAAAECMIAQAAAMQIQgAAAAAxghAAAABAjCAEAAAAECMIAQAAAMQIQgAA\n",
       "AAAxghAAAABAjCAEAAAAECMIAQAAAMQIQgAAAAAxghAAAABAjCAEAAAAELNZvv1h9oYhDlbfz54w\n",
       "xJNfX82eMMSDv89mTxjiZH8ze8K1u/325p9xtVqtbu0OZk8YYrM0znm5XMyeAB9lb7k1e8IQm1Xj\n",
       "PajymXJ7ufl3hJP92QvGeHD4dvaEIZ48anwXO3jeeK6k0EoaryQAAAAAHwhCAAAAADGCEAAAAECM\n",
       "IAQAAAAQIwgBAAAAxAhCAAAAADGCEAAAAECMIAQAAAAQIwgBAAAAxAhCAAAAADGCEAAAAECMIAQA\n",
       "AAAQIwgBAAAAxAhCAAAAADGCEAAAAECMIAQAAAAQIwgBAAAAxAhCAAAAADGCEAAAAECMIAQAAAAQ\n",
       "IwgBAAAAxAhCAAAAADGCEAAAAECMIAQAAAAQIwgBAAAAxAhCAAAAADGCEAAAAECMIAQAAAAQIwgB\n",
       "AAAAxAhCAAAAADGCEAAAAECMIAQAAAAQIwgBAAAAxAhCAAAAADGCEAAAAECMIAQAAAAQIwgBAAAA\n",
       "xAhCAAAAADGCEAAAAECMIAQAAAAQIwgBAAAAxAhCAAAAADGCEAAAAECMIAQAAAAQIwgBAAAAxAhC\n",
       "AAAAADGCEAAAAECMIAQAAAAQIwgBAAAAxAhCAAAAADGCEAAAAECMIAQAAAAQIwgBAAAAxAhCAAAA\n",
       "ADGCEAAAAECMIAQAAAAQ8x+rb/aucDEVMgAAAABJRU5ErkJggg==\n",
       "\" transform=\"translate(566, 195)\"/>\n",
       "</g>\n",
       "<defs>\n",
       "  <clipPath id=\"clip274\">\n",
       "    <rect x=\"2160\" y=\"195\" width=\"73\" height=\"1157\"/>\n",
       "  </clipPath>\n",
       "</defs>\n",
       "<g clip-path=\"url(#clip274)\">\n",
       "<image width=\"72\" height=\"1156\" xlink:href=\"data:image/png;base64,\n",
       "iVBORw0KGgoAAAANSUhEUgAAAEgAAASECAYAAADHiEmbAAAKO0lEQVR4nO3dwY3sRhAFQY5Q/lsh\n",
       "L6XfLQtUeSQPERYMEg9Ek5zZ/f17/r4P/+uvtz/A1wkUBAoChTn337c/w6dZUBAoCBQECnPvn7c/\n",
       "w6dZUBAoCBQcFIMFBYGCQEGgMNdFemVBQaAgUJh7XIM2FhQECgIFgYKDYrCgIFAQKLgGBQsKAgWB\n",
       "gkDB3XywoCBQECjM46C4sqAgUBAoCBTczQcLCgIFgcI8blZXFhQECgIFgcI855+3P8OnWVAQKAgU\n",
       "PFEMFhQECgIFgYK7+WBBQaAgUHANChYUBAoCBYGCu/lgQUGgIFCYn4PiyoKCQEGgIFCY5/g7ihsL\n",
       "CgIFgYKDYrCgIFAQKAgUHBSDBQWBgkDBq+dgQUGgIFAQKMzPQXFlQUGgIFDw9ZdgQUGgIFAQKDgo\n",
       "BgsKAgWBgrcawYKCQEGgIFBwUAwWFAQKAgUHxWBBQaAgUBAoOCgGCwoCBYHCPOe8/Rk+zYKCQEGg\n",
       "IFBwUAwWFAQKAgVPFIMFBYGCQEGg4CIdLCgIFAQKAoX5eeS6sqAgUBAoOCgGCwoCBYGCQMG7+WBB\n",
       "QaAgUHCzGiwoCBQECgIFd/PBgoJAQaDgZjVYUBAoCBQECi7SwYKCQEGg4McswYKCQEGgIFBwUAwW\n",
       "FAQKAgXXoGBBQaAgUBAouEgHCwoCBYGCa1CwoCBQECgIFOa5LtIbCwoCBYGCg2KwoCBQECgIFFyk\n",
       "gwUFgYJAwTUoWFAQKAgUBArznPv2Z/g0CwoCBYGCg2KwoCBQECgIFBwUgwUFgYJAwUExWFAQKAgU\n",
       "BAoOisGCgkBBoDCPc+LKgoJAQaAgUJjnOihuLCgIFAQKDorBgoJAQaAgUHCRDhYUBAoChfGHF3YW\n",
       "FAQKAgWBgoNisKAgUBAouAYFCwoCBYGCQGGe83v7M3yaBQWBgkBh7nUN2lhQECgIFAQK7uaDBQWB\n",
       "gkDBzWqwoCBQECgIFOYejTbqBIGCQEGg4CQdLCgIFAQK83jts7KgIFAQKAgU5jooriwoCBQECvN4\n",
       "orhSJwgUBAoCBQfFYEFBoCBQ8EQxWFAQKAgUBAq+HxTUCQIFgYKvvwQLCgIFgYJAwRPFYEFBoCBQ\n",
       "mHs12qgTBAoCBYGCu/lgQUGgIFBwsxosKAgUBAoChXncza/UCQIFgYKDYrCgIFAQKAgUXKSDBQWB\n",
       "gkDBj1mCBQWBgkBBoODHLEGdIFAQKPj3WcGCgkBBoCBQ8EQxWFAQKAgU/B3FoE4QKAgUBAru5oMF\n",
       "BYGCQMHNarCgIFAQKAgUHBSDBQWBgkDB11+COkGgIFAQKDgoBgsKAgWBgieKwYKCQEGgIFBwUAwW\n",
       "FAQKAgV/yzVYUBAoCBQECv4rQlAnCBQECm5WgwUFgYJAQaDgtU+woCBQECgIFJykgwUFgYJAYY5r\n",
       "0MqCgkBBoCBQ8GufoE4QKAgU3KwGCwoCBYGCQMFFOlhQECgIFLx6DhYUBAoCBYGCg2KwoCBQECi4\n",
       "BgULCgIFgYJAwS8OgzpBoCBQmOOJ4sqCgkBBoCBQcDcfLCgIFAQKrkHBgoJAQaAgUHCRDhYUBAoC\n",
       "Bb96DhYUBAoCBYGCg2KwoCBQECi4BgULCgIFgYJAwXcUgzpBoCBQ8B3FYEFBoCBQECi4mw8WFAQK\n",
       "AgXXoGBBQaAgUBAo+H5QsKAgUBAoOCgGCwoCBYGCQGHu4yK9saAgUBAouFkNFhQECgIFgYK7+WBB\n",
       "QaAgUHBQDBYUBAoCBYGCg2KwoCBQECg4KAYLCgIFgYJAwUExWFAQKAgUXIOCBQWBgkBBoDDHdxRX\n",
       "FhQECgIFB8VgQUGgIFAQKHjtEywoCBQECgKFufftj/BtFhQECgIFB8VgQUGgIFAQKPjTFMGCgkBB\n",
       "oOCgGCwoCBQECgIF7+aDBQWBgkDBdxSDBQWBgkBBoODVc7CgIFAQKHiiGCwoCBQECgIFTxSDBQWB\n",
       "gkDBE8VgQUGgIFAQKLibDxYUBAoCBW81ggUFgYJAQaDgbj5YUBAoCBS81QgWFAQKAgWBwpy3P8HH\n",
       "WVAQKAgUHBSDBQWBgkBBoODVc7CgIFAQKLhZDRYUBAoCBYGCu/lgQUGgIFBwUAwWFAQKAgWBgoNi\n",
       "sKAgUBAoeKsRLCgIFAQKAoXxg8OdBQWBgkDBQTFYUBAoCBQECl77BAsKAgWBgrcawYKCQEGgIFBw\n",
       "UAwWFAQKAgUHxWBBQaAgUBAozPHueWVBQaAgUHCzGiwoCBQECgIFd/PBgoJAQaAgUHCSDhYUBAoC\n",
       "Bf8+K1hQECgIFAQK/n1WsKAgUBAoePUcLCgIFAQKAgV/miJYUBAoCBT8aYpgQUGgIFAQKHjtEywo\n",
       "CBQECr7+EiwoCBQECgIFXyQPFhQECgIFB8VgQUGgIFAQKPh+ULCgIFAQKPj6S7CgIFAQKAgUHBSD\n",
       "BQWBgkDB11+CBQWBgkBBoOBXz8GCgkBBoOBmNVhQECgIFAQKXvsECwoCBYGCg2KwoCBQECgIFBwU\n",
       "gwUFgYJAwUExWFAQKAgUBAou0sGCgkBBoOBmNVhQECgIFAQKDorBgoJAQaDgoBgsKAgUBAoCBQfF\n",
       "YEFBoCBQ8KvnYEFBoCBQECj4Y7fBgoJAQaDgZjVYUBAoCBQECnMfV+mNBQWBgkDBQTFYUBAoCBQE\n",
       "Cl77BAsKAgWBgrcawYKCQEGgIFBwNx8sKAgUBAoCBa99ggUFgYJAwUExWFAQKAgUBAp+Fh4sKAgU\n",
       "BApzvHteWVAQKAgUBArezQcLCgIFgcJcB8WVBQWBgkBBoOCgGCwoCBQECp4oBgsKAgWBgkDBq+dg\n",
       "QUGgIFCY43vSKwsKAgWBgkDB3XywoCBQECj4QV2woCBQECgIFLx6DhYUBAoCBU8UgwUFgYJAQaDg\n",
       "bj5YUBAoCBTmPG5XNxYUBAoCBYGCu/lgQUGgIFBwDQoWFAQKAgWBgieKwYKCQEGg4IlisKAgUBAo\n",
       "CBTm/BwUNxYUBAoCBQfFYEFBoCBQECjMdZFeWVAQKAgUHBSDBQWBgkBBoDDn5yK9saAgUBAoOCgG\n",
       "CwoCBYGCQMETxWBBQaAgUHBQDBYUBAoCBYGCi3SwoCBQECh4qxEsKAgUBAoChbnPn7c/w6dZUBAo\n",
       "CBQECu7mgwUFgYJAwavnYEFBoCBQECjMue7mNxYUBAoCBQfFYEFBoCBQECjM8dpnZUFBoCBQcFAM\n",
       "FhQECgIFgYKDYrCgIFAQKMy9DoobCwoCBYGCQMHdfLCgIFAQKPj6S7CgIFAQKAgUHBSDBQWBgkBh\n",
       "roPiyoKCQEGgIFBwUAwWFAQKAoU5Xj2vLCgIFAQKAgV/wyxYUBAoCBR8RzFYUBAoCBQECp4oBgsK\n",
       "AgWBgoNisKAgUBAoCBRcpIMFBYGCQMFbjWBBQaAgUBAoOCgGCwoCBYHCPN5qrCwoCBQECgIFB8Vg\n",
       "QUGgIFDw9ZdgQUGgIFAQKMzjoLiyoCBQECh49RwsKAgUBAoCBa99ggUFgYJAwc1qsKAgUBAoCBTm\n",
       "Pvftz/BpFhQECgIFN6vBgoJAQaAgUJjHQXFlQUGgIFD4D4AX7Bc4PvhYAAAAAElFTkSuQmCC\n",
       "\" transform=\"translate(2161, 195)\"/>\n",
       "</g>\n",
       "<path clip-path=\"url(#clip270)\" d=\"M2280.7 1226.89 Q2277.09 1226.89 2275.26 1230.46 Q2273.45 1234 2273.45 1241.13 Q2273.45 1248.24 2275.26 1251.8 Q2277.09 1255.34 2280.7 1255.34 Q2284.33 1255.34 2286.14 1251.8 Q2287.97 1248.24 2287.97 1241.13 Q2287.97 1234 2286.14 1230.46 Q2284.33 1226.89 2280.7 1226.89 M2280.7 1223.19 Q2286.51 1223.19 2289.57 1227.8 Q2292.64 1232.38 2292.64 1241.13 Q2292.64 1249.86 2289.57 1254.46 Q2286.51 1259.05 2280.7 1259.05 Q2274.89 1259.05 2271.81 1254.46 Q2268.76 1249.86 2268.76 1241.13 Q2268.76 1232.38 2271.81 1227.8 Q2274.89 1223.19 2280.7 1223.19 Z\" fill=\"#000000\" fill-rule=\"nonzero\" fill-opacity=\"1\" /><path clip-path=\"url(#clip270)\" d=\"M2300.86 1252.5 L2305.75 1252.5 L2305.75 1258.38 L2300.86 1258.38 L2300.86 1252.5 Z\" fill=\"#000000\" fill-rule=\"nonzero\" fill-opacity=\"1\" /><path clip-path=\"url(#clip270)\" d=\"M2325.93 1226.89 Q2322.32 1226.89 2320.49 1230.46 Q2318.69 1234 2318.69 1241.13 Q2318.69 1248.24 2320.49 1251.8 Q2322.32 1255.34 2325.93 1255.34 Q2329.57 1255.34 2331.37 1251.8 Q2333.2 1248.24 2333.2 1241.13 Q2333.2 1234 2331.37 1230.46 Q2329.57 1226.89 2325.93 1226.89 M2325.93 1223.19 Q2331.74 1223.19 2334.8 1227.8 Q2337.88 1232.38 2337.88 1241.13 Q2337.88 1249.86 2334.8 1254.46 Q2331.74 1259.05 2325.93 1259.05 Q2320.12 1259.05 2317.04 1254.46 Q2313.99 1249.86 2313.99 1241.13 Q2313.99 1232.38 2317.04 1227.8 Q2320.12 1223.19 2325.93 1223.19 Z\" fill=\"#000000\" fill-rule=\"nonzero\" fill-opacity=\"1\" /><path clip-path=\"url(#clip270)\" d=\"M2346.9 1254.44 L2354.54 1254.44 L2354.54 1228.08 L2346.23 1229.74 L2346.23 1225.48 L2354.5 1223.82 L2359.17 1223.82 L2359.17 1254.44 L2366.81 1254.44 L2366.81 1258.38 L2346.9 1258.38 L2346.9 1254.44 Z\" fill=\"#000000\" fill-rule=\"nonzero\" fill-opacity=\"1\" /><path clip-path=\"url(#clip270)\" d=\"M2280.7 1095.7 Q2277.09 1095.7 2275.26 1099.26 Q2273.45 1102.8 2273.45 1109.93 Q2273.45 1117.04 2275.26 1120.6 Q2277.09 1124.15 2280.7 1124.15 Q2284.33 1124.15 2286.14 1120.6 Q2287.97 1117.04 2287.97 1109.93 Q2287.97 1102.8 2286.14 1099.26 Q2284.33 1095.7 2280.7 1095.7 M2280.7 1091.99 Q2286.51 1091.99 2289.57 1096.6 Q2292.64 1101.18 2292.64 1109.93 Q2292.64 1118.66 2289.57 1123.27 Q2286.51 1127.85 2280.7 1127.85 Q2274.89 1127.85 2271.81 1123.27 Q2268.76 1118.66 2268.76 1109.93 Q2268.76 1101.18 2271.81 1096.6 Q2274.89 1091.99 2280.7 1091.99 Z\" fill=\"#000000\" fill-rule=\"nonzero\" fill-opacity=\"1\" /><path clip-path=\"url(#clip270)\" d=\"M2300.86 1121.3 L2305.75 1121.3 L2305.75 1127.18 L2300.86 1127.18 L2300.86 1121.3 Z\" fill=\"#000000\" fill-rule=\"nonzero\" fill-opacity=\"1\" /><path clip-path=\"url(#clip270)\" d=\"M2325.93 1095.7 Q2322.32 1095.7 2320.49 1099.26 Q2318.69 1102.8 2318.69 1109.93 Q2318.69 1117.04 2320.49 1120.6 Q2322.32 1124.15 2325.93 1124.15 Q2329.57 1124.15 2331.37 1120.6 Q2333.2 1117.04 2333.2 1109.93 Q2333.2 1102.8 2331.37 1099.26 Q2329.57 1095.7 2325.93 1095.7 M2325.93 1091.99 Q2331.74 1091.99 2334.8 1096.6 Q2337.88 1101.18 2337.88 1109.93 Q2337.88 1118.66 2334.8 1123.27 Q2331.74 1127.85 2325.93 1127.85 Q2320.12 1127.85 2317.04 1123.27 Q2313.99 1118.66 2313.99 1109.93 Q2313.99 1101.18 2317.04 1096.6 Q2320.12 1091.99 2325.93 1091.99 Z\" fill=\"#000000\" fill-rule=\"nonzero\" fill-opacity=\"1\" /><path clip-path=\"url(#clip270)\" d=\"M2350.12 1123.24 L2366.44 1123.24 L2366.44 1127.18 L2344.5 1127.18 L2344.5 1123.24 Q2347.16 1120.49 2351.74 1115.86 Q2356.35 1111.21 2357.53 1109.86 Q2359.77 1107.34 2360.65 1105.6 Q2361.56 1103.84 2361.56 1102.15 Q2361.56 1099.4 2359.61 1097.66 Q2357.69 1095.93 2354.59 1095.93 Q2352.39 1095.93 2349.94 1096.69 Q2347.51 1097.46 2344.73 1099.01 L2344.73 1094.28 Q2347.55 1093.15 2350.01 1092.57 Q2352.46 1091.99 2354.5 1091.99 Q2359.87 1091.99 2363.06 1094.68 Q2366.26 1097.36 2366.26 1101.85 Q2366.26 1103.98 2365.45 1105.9 Q2364.66 1107.8 2362.55 1110.4 Q2361.97 1111.07 2358.87 1114.28 Q2355.77 1117.48 2350.12 1123.24 Z\" fill=\"#000000\" fill-rule=\"nonzero\" fill-opacity=\"1\" /><path clip-path=\"url(#clip270)\" d=\"M2280.7 964.498 Q2277.09 964.498 2275.26 968.063 Q2273.45 971.604 2273.45 978.734 Q2273.45 985.84 2275.26 989.405 Q2277.09 992.947 2280.7 992.947 Q2284.33 992.947 2286.14 989.405 Q2287.97 985.84 2287.97 978.734 Q2287.97 971.604 2286.14 968.063 Q2284.33 964.498 2280.7 964.498 M2280.7 960.794 Q2286.51 960.794 2289.57 965.401 Q2292.64 969.984 2292.64 978.734 Q2292.64 987.461 2289.57 992.067 Q2286.51 996.651 2280.7 996.651 Q2274.89 996.651 2271.81 992.067 Q2268.76 987.461 2268.76 978.734 Q2268.76 969.984 2271.81 965.401 Q2274.89 960.794 2280.7 960.794 Z\" fill=\"#000000\" fill-rule=\"nonzero\" fill-opacity=\"1\" /><path clip-path=\"url(#clip270)\" d=\"M2300.86 990.1 L2305.75 990.1 L2305.75 995.979 L2300.86 995.979 L2300.86 990.1 Z\" fill=\"#000000\" fill-rule=\"nonzero\" fill-opacity=\"1\" /><path clip-path=\"url(#clip270)\" d=\"M2325.93 964.498 Q2322.32 964.498 2320.49 968.063 Q2318.69 971.604 2318.69 978.734 Q2318.69 985.84 2320.49 989.405 Q2322.32 992.947 2325.93 992.947 Q2329.57 992.947 2331.37 989.405 Q2333.2 985.84 2333.2 978.734 Q2333.2 971.604 2331.37 968.063 Q2329.57 964.498 2325.93 964.498 M2325.93 960.794 Q2331.74 960.794 2334.8 965.401 Q2337.88 969.984 2337.88 978.734 Q2337.88 987.461 2334.8 992.067 Q2331.74 996.651 2325.93 996.651 Q2320.12 996.651 2317.04 992.067 Q2313.99 987.461 2313.99 978.734 Q2313.99 969.984 2317.04 965.401 Q2320.12 960.794 2325.93 960.794 Z\" fill=\"#000000\" fill-rule=\"nonzero\" fill-opacity=\"1\" /><path clip-path=\"url(#clip270)\" d=\"M2360.26 977.345 Q2363.62 978.063 2365.49 980.331 Q2367.39 982.6 2367.39 985.933 Q2367.39 991.049 2363.87 993.85 Q2360.35 996.651 2353.87 996.651 Q2351.7 996.651 2349.38 996.211 Q2347.09 995.794 2344.64 994.938 L2344.64 990.424 Q2346.58 991.558 2348.89 992.137 Q2351.21 992.715 2353.73 992.715 Q2358.13 992.715 2360.42 990.979 Q2362.74 989.243 2362.74 985.933 Q2362.74 982.877 2360.58 981.164 Q2358.45 979.428 2354.64 979.428 L2350.61 979.428 L2350.61 975.586 L2354.82 975.586 Q2358.27 975.586 2360.1 974.22 Q2361.93 972.831 2361.93 970.239 Q2361.93 967.577 2360.03 966.165 Q2358.15 964.729 2354.64 964.729 Q2352.71 964.729 2350.51 965.146 Q2348.32 965.563 2345.68 966.442 L2345.68 962.276 Q2348.34 961.535 2350.65 961.165 Q2352.99 960.794 2355.05 960.794 Q2360.38 960.794 2363.48 963.225 Q2366.58 965.632 2366.58 969.753 Q2366.58 972.623 2364.94 974.614 Q2363.29 976.581 2360.26 977.345 Z\" fill=\"#000000\" fill-rule=\"nonzero\" fill-opacity=\"1\" /><path clip-path=\"url(#clip270)\" d=\"M2280.7 833.3 Q2277.09 833.3 2275.26 836.864 Q2273.45 840.406 2273.45 847.536 Q2273.45 854.642 2275.26 858.207 Q2277.09 861.749 2280.7 861.749 Q2284.33 861.749 2286.14 858.207 Q2287.97 854.642 2287.97 847.536 Q2287.97 840.406 2286.14 836.864 Q2284.33 833.3 2280.7 833.3 M2280.7 829.596 Q2286.51 829.596 2289.57 834.202 Q2292.64 838.786 2292.64 847.536 Q2292.64 856.262 2289.57 860.869 Q2286.51 865.452 2280.7 865.452 Q2274.89 865.452 2271.81 860.869 Q2268.76 856.262 2268.76 847.536 Q2268.76 838.786 2271.81 834.202 Q2274.89 829.596 2280.7 829.596 Z\" fill=\"#000000\" fill-rule=\"nonzero\" fill-opacity=\"1\" /><path clip-path=\"url(#clip270)\" d=\"M2300.86 858.901 L2305.75 858.901 L2305.75 864.781 L2300.86 864.781 L2300.86 858.901 Z\" fill=\"#000000\" fill-rule=\"nonzero\" fill-opacity=\"1\" /><path clip-path=\"url(#clip270)\" d=\"M2325.93 833.3 Q2322.32 833.3 2320.49 836.864 Q2318.69 840.406 2318.69 847.536 Q2318.69 854.642 2320.49 858.207 Q2322.32 861.749 2325.93 861.749 Q2329.57 861.749 2331.37 858.207 Q2333.2 854.642 2333.2 847.536 Q2333.2 840.406 2331.37 836.864 Q2329.57 833.3 2325.93 833.3 M2325.93 829.596 Q2331.74 829.596 2334.8 834.202 Q2337.88 838.786 2337.88 847.536 Q2337.88 856.262 2334.8 860.869 Q2331.74 865.452 2325.93 865.452 Q2320.12 865.452 2317.04 860.869 Q2313.99 856.262 2313.99 847.536 Q2313.99 838.786 2317.04 834.202 Q2320.12 829.596 2325.93 829.596 Z\" fill=\"#000000\" fill-rule=\"nonzero\" fill-opacity=\"1\" /><path clip-path=\"url(#clip270)\" d=\"M2358.94 834.295 L2347.14 852.744 L2358.94 852.744 L2358.94 834.295 M2357.71 830.221 L2363.59 830.221 L2363.59 852.744 L2368.52 852.744 L2368.52 856.633 L2363.59 856.633 L2363.59 864.781 L2358.94 864.781 L2358.94 856.633 L2343.34 856.633 L2343.34 852.119 L2357.71 830.221 Z\" fill=\"#000000\" fill-rule=\"nonzero\" fill-opacity=\"1\" /><path clip-path=\"url(#clip270)\" d=\"M2280.7 702.101 Q2277.09 702.101 2275.26 705.666 Q2273.45 709.208 2273.45 716.337 Q2273.45 723.444 2275.26 727.009 Q2277.09 730.55 2280.7 730.55 Q2284.33 730.55 2286.14 727.009 Q2287.97 723.444 2287.97 716.337 Q2287.97 709.208 2286.14 705.666 Q2284.33 702.101 2280.7 702.101 M2280.7 698.398 Q2286.51 698.398 2289.57 703.004 Q2292.64 707.587 2292.64 716.337 Q2292.64 725.064 2289.57 729.671 Q2286.51 734.254 2280.7 734.254 Q2274.89 734.254 2271.81 729.671 Q2268.76 725.064 2268.76 716.337 Q2268.76 707.587 2271.81 703.004 Q2274.89 698.398 2280.7 698.398 Z\" fill=\"#000000\" fill-rule=\"nonzero\" fill-opacity=\"1\" /><path clip-path=\"url(#clip270)\" d=\"M2300.86 727.703 L2305.75 727.703 L2305.75 733.583 L2300.86 733.583 L2300.86 727.703 Z\" fill=\"#000000\" fill-rule=\"nonzero\" fill-opacity=\"1\" /><path clip-path=\"url(#clip270)\" d=\"M2325.93 702.101 Q2322.32 702.101 2320.49 705.666 Q2318.69 709.208 2318.69 716.337 Q2318.69 723.444 2320.49 727.009 Q2322.32 730.55 2325.93 730.55 Q2329.57 730.55 2331.37 727.009 Q2333.2 723.444 2333.2 716.337 Q2333.2 709.208 2331.37 705.666 Q2329.57 702.101 2325.93 702.101 M2325.93 698.398 Q2331.74 698.398 2334.8 703.004 Q2337.88 707.587 2337.88 716.337 Q2337.88 725.064 2334.8 729.671 Q2331.74 734.254 2325.93 734.254 Q2320.12 734.254 2317.04 729.671 Q2313.99 725.064 2313.99 716.337 Q2313.99 707.587 2317.04 703.004 Q2320.12 698.398 2325.93 698.398 Z\" fill=\"#000000\" fill-rule=\"nonzero\" fill-opacity=\"1\" /><path clip-path=\"url(#clip270)\" d=\"M2346.14 699.023 L2364.5 699.023 L2364.5 702.958 L2350.42 702.958 L2350.42 711.43 Q2351.44 711.083 2352.46 710.921 Q2353.48 710.736 2354.5 710.736 Q2360.28 710.736 2363.66 713.907 Q2367.04 717.078 2367.04 722.495 Q2367.04 728.073 2363.57 731.175 Q2360.1 734.254 2353.78 734.254 Q2351.6 734.254 2349.33 733.884 Q2347.09 733.513 2344.68 732.772 L2344.68 728.073 Q2346.76 729.208 2348.99 729.763 Q2351.21 730.319 2353.69 730.319 Q2357.69 730.319 2360.03 728.212 Q2362.37 726.106 2362.37 722.495 Q2362.37 718.884 2360.03 716.777 Q2357.69 714.671 2353.69 714.671 Q2351.81 714.671 2349.94 715.087 Q2348.08 715.504 2346.14 716.384 L2346.14 699.023 Z\" fill=\"#000000\" fill-rule=\"nonzero\" fill-opacity=\"1\" /><path clip-path=\"url(#clip270)\" d=\"M2280.7 570.903 Q2277.09 570.903 2275.26 574.468 Q2273.45 578.009 2273.45 585.139 Q2273.45 592.246 2275.26 595.81 Q2277.09 599.352 2280.7 599.352 Q2284.33 599.352 2286.14 595.81 Q2287.97 592.246 2287.97 585.139 Q2287.97 578.009 2286.14 574.468 Q2284.33 570.903 2280.7 570.903 M2280.7 567.199 Q2286.51 567.199 2289.57 571.806 Q2292.64 576.389 2292.64 585.139 Q2292.64 593.866 2289.57 598.472 Q2286.51 603.056 2280.7 603.056 Q2274.89 603.056 2271.81 598.472 Q2268.76 593.866 2268.76 585.139 Q2268.76 576.389 2271.81 571.806 Q2274.89 567.199 2280.7 567.199 Z\" fill=\"#000000\" fill-rule=\"nonzero\" fill-opacity=\"1\" /><path clip-path=\"url(#clip270)\" d=\"M2300.86 596.505 L2305.75 596.505 L2305.75 602.384 L2300.86 602.384 L2300.86 596.505 Z\" fill=\"#000000\" fill-rule=\"nonzero\" fill-opacity=\"1\" /><path clip-path=\"url(#clip270)\" d=\"M2325.93 570.903 Q2322.32 570.903 2320.49 574.468 Q2318.69 578.009 2318.69 585.139 Q2318.69 592.246 2320.49 595.81 Q2322.32 599.352 2325.93 599.352 Q2329.57 599.352 2331.37 595.81 Q2333.2 592.246 2333.2 585.139 Q2333.2 578.009 2331.37 574.468 Q2329.57 570.903 2325.93 570.903 M2325.93 567.199 Q2331.74 567.199 2334.8 571.806 Q2337.88 576.389 2337.88 585.139 Q2337.88 593.866 2334.8 598.472 Q2331.74 603.056 2325.93 603.056 Q2320.12 603.056 2317.04 598.472 Q2313.99 593.866 2313.99 585.139 Q2313.99 576.389 2317.04 571.806 Q2320.12 567.199 2325.93 567.199 Z\" fill=\"#000000\" fill-rule=\"nonzero\" fill-opacity=\"1\" /><path clip-path=\"url(#clip270)\" d=\"M2356.67 583.241 Q2353.52 583.241 2351.67 585.394 Q2349.84 587.546 2349.84 591.296 Q2349.84 595.023 2351.67 597.199 Q2353.52 599.352 2356.67 599.352 Q2359.82 599.352 2361.65 597.199 Q2363.5 595.023 2363.5 591.296 Q2363.5 587.546 2361.65 585.394 Q2359.82 583.241 2356.67 583.241 M2365.95 568.588 L2365.95 572.847 Q2364.2 572.014 2362.39 571.574 Q2360.61 571.135 2358.85 571.135 Q2354.22 571.135 2351.76 574.259 Q2349.33 577.384 2348.99 583.704 Q2350.35 581.69 2352.41 580.625 Q2354.47 579.537 2356.95 579.537 Q2362.16 579.537 2365.17 582.709 Q2368.2 585.857 2368.2 591.296 Q2368.2 596.62 2365.05 599.838 Q2361.9 603.056 2356.67 603.056 Q2350.68 603.056 2347.51 598.472 Q2344.33 593.866 2344.33 585.139 Q2344.33 576.945 2348.22 572.084 Q2352.11 567.199 2358.66 567.199 Q2360.42 567.199 2362.2 567.547 Q2364.01 567.894 2365.95 568.588 Z\" fill=\"#000000\" fill-rule=\"nonzero\" fill-opacity=\"1\" /><path clip-path=\"url(#clip270)\" d=\"M2280.7 439.705 Q2277.09 439.705 2275.26 443.27 Q2273.45 446.811 2273.45 453.941 Q2273.45 461.047 2275.26 464.612 Q2277.09 468.154 2280.7 468.154 Q2284.33 468.154 2286.14 464.612 Q2287.97 461.047 2287.97 453.941 Q2287.97 446.811 2286.14 443.27 Q2284.33 439.705 2280.7 439.705 M2280.7 436.001 Q2286.51 436.001 2289.57 440.608 Q2292.64 445.191 2292.64 453.941 Q2292.64 462.668 2289.57 467.274 Q2286.51 471.857 2280.7 471.857 Q2274.89 471.857 2271.81 467.274 Q2268.76 462.668 2268.76 453.941 Q2268.76 445.191 2271.81 440.608 Q2274.89 436.001 2280.7 436.001 Z\" fill=\"#000000\" fill-rule=\"nonzero\" fill-opacity=\"1\" /><path clip-path=\"url(#clip270)\" d=\"M2300.86 465.306 L2305.75 465.306 L2305.75 471.186 L2300.86 471.186 L2300.86 465.306 Z\" fill=\"#000000\" fill-rule=\"nonzero\" fill-opacity=\"1\" /><path clip-path=\"url(#clip270)\" d=\"M2325.93 439.705 Q2322.32 439.705 2320.49 443.27 Q2318.69 446.811 2318.69 453.941 Q2318.69 461.047 2320.49 464.612 Q2322.32 468.154 2325.93 468.154 Q2329.57 468.154 2331.37 464.612 Q2333.2 461.047 2333.2 453.941 Q2333.2 446.811 2331.37 443.27 Q2329.57 439.705 2325.93 439.705 M2325.93 436.001 Q2331.74 436.001 2334.8 440.608 Q2337.88 445.191 2337.88 453.941 Q2337.88 462.668 2334.8 467.274 Q2331.74 471.857 2325.93 471.857 Q2320.12 471.857 2317.04 467.274 Q2313.99 462.668 2313.99 453.941 Q2313.99 445.191 2317.04 440.608 Q2320.12 436.001 2325.93 436.001 Z\" fill=\"#000000\" fill-rule=\"nonzero\" fill-opacity=\"1\" /><path clip-path=\"url(#clip270)\" d=\"M2344.91 436.626 L2367.14 436.626 L2367.14 438.617 L2354.59 471.186 L2349.7 471.186 L2361.51 440.561 L2344.91 440.561 L2344.91 436.626 Z\" fill=\"#000000\" fill-rule=\"nonzero\" fill-opacity=\"1\" /><path clip-path=\"url(#clip270)\" d=\"M2280.7 308.506 Q2277.09 308.506 2275.26 312.071 Q2273.45 315.613 2273.45 322.742 Q2273.45 329.849 2275.26 333.414 Q2277.09 336.955 2280.7 336.955 Q2284.33 336.955 2286.14 333.414 Q2287.97 329.849 2287.97 322.742 Q2287.97 315.613 2286.14 312.071 Q2284.33 308.506 2280.7 308.506 M2280.7 304.803 Q2286.51 304.803 2289.57 309.409 Q2292.64 313.993 2292.64 322.742 Q2292.64 331.469 2289.57 336.076 Q2286.51 340.659 2280.7 340.659 Q2274.89 340.659 2271.81 336.076 Q2268.76 331.469 2268.76 322.742 Q2268.76 313.993 2271.81 309.409 Q2274.89 304.803 2280.7 304.803 Z\" fill=\"#000000\" fill-rule=\"nonzero\" fill-opacity=\"1\" /><path clip-path=\"url(#clip270)\" d=\"M2300.86 334.108 L2305.75 334.108 L2305.75 339.988 L2300.86 339.988 L2300.86 334.108 Z\" fill=\"#000000\" fill-rule=\"nonzero\" fill-opacity=\"1\" /><path clip-path=\"url(#clip270)\" d=\"M2325.93 308.506 Q2322.32 308.506 2320.49 312.071 Q2318.69 315.613 2318.69 322.742 Q2318.69 329.849 2320.49 333.414 Q2322.32 336.955 2325.93 336.955 Q2329.57 336.955 2331.37 333.414 Q2333.2 329.849 2333.2 322.742 Q2333.2 315.613 2331.37 312.071 Q2329.57 308.506 2325.93 308.506 M2325.93 304.803 Q2331.74 304.803 2334.8 309.409 Q2337.88 313.993 2337.88 322.742 Q2337.88 331.469 2334.8 336.076 Q2331.74 340.659 2325.93 340.659 Q2320.12 340.659 2317.04 336.076 Q2313.99 331.469 2313.99 322.742 Q2313.99 313.993 2317.04 309.409 Q2320.12 304.803 2325.93 304.803 Z\" fill=\"#000000\" fill-rule=\"nonzero\" fill-opacity=\"1\" /><path clip-path=\"url(#clip270)\" d=\"M2356.09 323.576 Q2352.76 323.576 2350.84 325.358 Q2348.94 327.141 2348.94 330.266 Q2348.94 333.391 2350.84 335.173 Q2352.76 336.955 2356.09 336.955 Q2359.43 336.955 2361.35 335.173 Q2363.27 333.367 2363.27 330.266 Q2363.27 327.141 2361.35 325.358 Q2359.45 323.576 2356.09 323.576 M2351.42 321.585 Q2348.41 320.844 2346.72 318.784 Q2345.05 316.724 2345.05 313.761 Q2345.05 309.618 2347.99 307.21 Q2350.95 304.803 2356.09 304.803 Q2361.26 304.803 2364.2 307.21 Q2367.14 309.618 2367.14 313.761 Q2367.14 316.724 2365.45 318.784 Q2363.78 320.844 2360.79 321.585 Q2364.17 322.372 2366.05 324.664 Q2367.95 326.955 2367.95 330.266 Q2367.95 335.289 2364.87 337.974 Q2361.81 340.659 2356.09 340.659 Q2350.38 340.659 2347.3 337.974 Q2344.24 335.289 2344.24 330.266 Q2344.24 326.955 2346.14 324.664 Q2348.04 322.372 2351.42 321.585 M2349.7 314.201 Q2349.7 316.886 2351.37 318.391 Q2353.06 319.895 2356.09 319.895 Q2359.1 319.895 2360.79 318.391 Q2362.51 316.886 2362.51 314.201 Q2362.51 311.516 2360.79 310.011 Q2359.1 308.506 2356.09 308.506 Q2353.06 308.506 2351.37 310.011 Q2349.7 311.516 2349.7 314.201 Z\" fill=\"#000000\" fill-rule=\"nonzero\" fill-opacity=\"1\" /><path clip-path=\"url(#clip270)\" d=\"M2280.7 177.308 Q2277.09 177.308 2275.26 180.873 Q2273.45 184.415 2273.45 191.544 Q2273.45 198.651 2275.26 202.215 Q2277.09 205.757 2280.7 205.757 Q2284.33 205.757 2286.14 202.215 Q2287.97 198.651 2287.97 191.544 Q2287.97 184.415 2286.14 180.873 Q2284.33 177.308 2280.7 177.308 M2280.7 173.604 Q2286.51 173.604 2289.57 178.211 Q2292.64 182.794 2292.64 191.544 Q2292.64 200.271 2289.57 204.877 Q2286.51 209.461 2280.7 209.461 Q2274.89 209.461 2271.81 204.877 Q2268.76 200.271 2268.76 191.544 Q2268.76 182.794 2271.81 178.211 Q2274.89 173.604 2280.7 173.604 Z\" fill=\"#000000\" fill-rule=\"nonzero\" fill-opacity=\"1\" /><path clip-path=\"url(#clip270)\" d=\"M2300.86 202.91 L2305.75 202.91 L2305.75 208.789 L2300.86 208.789 L2300.86 202.91 Z\" fill=\"#000000\" fill-rule=\"nonzero\" fill-opacity=\"1\" /><path clip-path=\"url(#clip270)\" d=\"M2325.93 177.308 Q2322.32 177.308 2320.49 180.873 Q2318.69 184.415 2318.69 191.544 Q2318.69 198.651 2320.49 202.215 Q2322.32 205.757 2325.93 205.757 Q2329.57 205.757 2331.37 202.215 Q2333.2 198.651 2333.2 191.544 Q2333.2 184.415 2331.37 180.873 Q2329.57 177.308 2325.93 177.308 M2325.93 173.604 Q2331.74 173.604 2334.8 178.211 Q2337.88 182.794 2337.88 191.544 Q2337.88 200.271 2334.8 204.877 Q2331.74 209.461 2325.93 209.461 Q2320.12 209.461 2317.04 204.877 Q2313.99 200.271 2313.99 191.544 Q2313.99 182.794 2317.04 178.211 Q2320.12 173.604 2325.93 173.604 Z\" fill=\"#000000\" fill-rule=\"nonzero\" fill-opacity=\"1\" /><path clip-path=\"url(#clip270)\" d=\"M2346.23 208.072 L2346.23 203.813 Q2347.99 204.646 2349.8 205.086 Q2351.6 205.526 2353.34 205.526 Q2357.97 205.526 2360.4 202.424 Q2362.85 199.299 2363.2 192.956 Q2361.86 194.947 2359.8 196.012 Q2357.74 197.077 2355.24 197.077 Q2350.05 197.077 2347.02 193.952 Q2344.01 190.803 2344.01 185.364 Q2344.01 180.04 2347.16 176.822 Q2350.31 173.604 2355.54 173.604 Q2361.53 173.604 2364.68 178.211 Q2367.85 182.794 2367.85 191.544 Q2367.85 199.715 2363.96 204.6 Q2360.1 209.461 2353.55 209.461 Q2351.79 209.461 2349.98 209.114 Q2348.18 208.766 2346.23 208.072 M2355.54 193.419 Q2358.69 193.419 2360.51 191.266 Q2362.37 189.114 2362.37 185.364 Q2362.37 181.637 2360.51 179.484 Q2358.69 177.308 2355.54 177.308 Q2352.39 177.308 2350.54 179.484 Q2348.71 181.637 2348.71 185.364 Q2348.71 189.114 2350.54 191.266 Q2352.39 193.419 2355.54 193.419 Z\" fill=\"#000000\" fill-rule=\"nonzero\" fill-opacity=\"1\" /><polyline clip-path=\"url(#clip270)\" style=\"stroke:#000000; stroke-linecap:round; stroke-linejoin:round; stroke-width:4; stroke-opacity:1; fill:none\" points=\"2232.76,1351.55 2232.76,1244.72 2256.76,1244.72 2232.76,1244.72 2232.76,1113.53 2256.76,1113.53 2232.76,1113.53 2232.76,982.328 2256.76,982.328 2232.76,982.328 2232.76,851.13 2256.76,851.13 2232.76,851.13 2232.76,719.931 2256.76,719.931 2232.76,719.931 2232.76,588.733 2256.76,588.733 2232.76,588.733 2232.76,457.535 2256.76,457.535 2232.76,457.535 2232.76,326.337 2256.76,326.337 2232.76,326.337 2232.76,195.138 2256.76,195.138 2232.76,195.138 2232.76,195.104 \"/>\n",
       "</svg>\n"
      ]
     },
     "execution_count": 86,
     "metadata": {},
     "output_type": "execute_result"
    }
   ],
   "source": [
    "using LaTeXStrings\n",
    "band_idx = 3\n",
    "heatmap(Tx, Ty, imag(F12list[band_idx]), title=L\"F_{12}\", xlabel=L\"\\theta_x\",ylabel=L\"\\theta_y\",aspect_ratio=1)"
   ]
  },
  {
   "cell_type": "markdown",
   "id": "4db643b9",
   "metadata": {},
   "source": [
    "## Projected Single Particle"
   ]
  },
  {
   "cell_type": "code",
   "execution_count": 87,
   "id": "6d23c7b6",
   "metadata": {},
   "outputs": [],
   "source": [
    "param_dict[\"sub_range\"] = 1:3\n",
    "\n",
    "sub_states = get_subset_states(H1, param_dict[\"sub_range\"]);\n",
    "subspace_proj, P, Pt = get_projector_op(basis, sub_states);\n",
    "H1_proj = get_subspace_op(H1, P, Pt);\n",
    "#param_dict[\"subspace_proj\"] = subspace_proj\n",
    "#param_dict[\"projection\"] = subspace_proj, P, Pt;"
   ]
  },
  {
   "cell_type": "markdown",
   "id": "54e30ee9",
   "metadata": {},
   "source": [
    "### Projected Single Particle Chern"
   ]
  },
  {
   "cell_type": "code",
   "execution_count": 88,
   "id": "633b9296",
   "metadata": {},
   "outputs": [],
   "source": [
    "EEA, UUA = calc_all_states_H1(param_dict);"
   ]
  },
  {
   "cell_type": "code",
   "execution_count": 89,
   "id": "e7fc0ce9",
   "metadata": {},
   "outputs": [
    {
     "data": {
      "text/plain": [
       "1-element Vector{Any}:\n",
       " 1.0000000000000002 + 5.082624781114731e-16im"
      ]
     },
     "execution_count": 89,
     "metadata": {},
     "output_type": "execute_result"
    }
   ],
   "source": [
    "bands = [[1,3]]\n",
    "Chern, F12list = calc_chern_bands(UUA, bands);\n",
    "Chern"
   ]
  },
  {
   "cell_type": "code",
   "execution_count": 90,
   "id": "90c022b4",
   "metadata": {},
   "outputs": [
    {
     "data": {
      "image/svg+xml": [
       "<?xml version=\"1.0\" encoding=\"utf-8\"?>\n",
       "<svg xmlns=\"http://www.w3.org/2000/svg\" xmlns:xlink=\"http://www.w3.org/1999/xlink\" width=\"600\" height=\"400\" viewBox=\"0 0 2400 1600\">\n",
       "<defs>\n",
       "  <clipPath id=\"clip310\">\n",
       "    <rect x=\"0\" y=\"0\" width=\"2400\" height=\"1600\"/>\n",
       "  </clipPath>\n",
       "</defs>\n",
       "<path clip-path=\"url(#clip310)\" d=\"M0 1600 L2400 1600 L2400 0 L0 0  Z\" fill=\"#ffffff\" fill-rule=\"evenodd\" fill-opacity=\"1\"/>\n",
       "<defs>\n",
       "  <clipPath id=\"clip311\">\n",
       "    <rect x=\"480\" y=\"0\" width=\"1681\" height=\"1600\"/>\n",
       "  </clipPath>\n",
       "</defs>\n",
       "<defs>\n",
       "  <clipPath id=\"clip312\">\n",
       "    <rect x=\"2160\" y=\"195\" width=\"73\" height=\"1157\"/>\n",
       "  </clipPath>\n",
       "</defs>\n",
       "<path clip-path=\"url(#clip310)\" d=\"M175.445 1351.55 L2112.76 1351.55 L2112.76 195.104 L175.445 195.104  Z\" fill=\"#ffffff\" fill-rule=\"evenodd\" fill-opacity=\"1\"/>\n",
       "<defs>\n",
       "  <clipPath id=\"clip313\">\n",
       "    <rect x=\"175\" y=\"195\" width=\"1938\" height=\"1157\"/>\n",
       "  </clipPath>\n",
       "</defs>\n",
       "<polyline clip-path=\"url(#clip313)\" style=\"stroke:#000000; stroke-linecap:round; stroke-linejoin:round; stroke-width:2; stroke-opacity:0.1; fill:none\" points=\"594.79,1351.55 594.79,195.104 \"/>\n",
       "<polyline clip-path=\"url(#clip313)\" style=\"stroke:#000000; stroke-linecap:round; stroke-linejoin:round; stroke-width:2; stroke-opacity:0.1; fill:none\" points=\"1054.92,1351.55 1054.92,195.104 \"/>\n",
       "<polyline clip-path=\"url(#clip313)\" style=\"stroke:#000000; stroke-linecap:round; stroke-linejoin:round; stroke-width:2; stroke-opacity:0.1; fill:none\" points=\"1515.06,1351.55 1515.06,195.104 \"/>\n",
       "<polyline clip-path=\"url(#clip313)\" style=\"stroke:#000000; stroke-linecap:round; stroke-linejoin:round; stroke-width:2; stroke-opacity:0.1; fill:none\" points=\"1975.19,1351.55 1975.19,195.104 \"/>\n",
       "<polyline clip-path=\"url(#clip310)\" style=\"stroke:#000000; stroke-linecap:round; stroke-linejoin:round; stroke-width:4; stroke-opacity:1; fill:none\" points=\"175.445,1351.55 2112.76,1351.55 \"/>\n",
       "<polyline clip-path=\"url(#clip310)\" style=\"stroke:#000000; stroke-linecap:round; stroke-linejoin:round; stroke-width:4; stroke-opacity:1; fill:none\" points=\"594.79,1351.55 594.79,1334.73 \"/>\n",
       "<polyline clip-path=\"url(#clip310)\" style=\"stroke:#000000; stroke-linecap:round; stroke-linejoin:round; stroke-width:4; stroke-opacity:1; fill:none\" points=\"1054.92,1351.55 1054.92,1334.73 \"/>\n",
       "<polyline clip-path=\"url(#clip310)\" style=\"stroke:#000000; stroke-linecap:round; stroke-linejoin:round; stroke-width:4; stroke-opacity:1; fill:none\" points=\"1515.06,1351.55 1515.06,1334.73 \"/>\n",
       "<polyline clip-path=\"url(#clip310)\" style=\"stroke:#000000; stroke-linecap:round; stroke-linejoin:round; stroke-width:4; stroke-opacity:1; fill:none\" points=\"1975.19,1351.55 1975.19,1334.73 \"/>\n",
       "<path clip-path=\"url(#clip310)\" d=\"M572.174 1382.47 Q568.563 1382.47 566.734 1386.03 Q564.929 1389.57 564.929 1396.7 Q564.929 1403.81 566.734 1407.37 Q568.563 1410.92 572.174 1410.92 Q575.808 1410.92 577.614 1407.37 Q579.443 1403.81 579.443 1396.7 Q579.443 1389.57 577.614 1386.03 Q575.808 1382.47 572.174 1382.47 M572.174 1378.76 Q577.984 1378.76 581.04 1383.37 Q584.118 1387.95 584.118 1396.7 Q584.118 1405.43 581.04 1410.04 Q577.984 1414.62 572.174 1414.62 Q566.364 1414.62 563.285 1410.04 Q560.23 1405.43 560.23 1396.7 Q560.23 1387.95 563.285 1383.37 Q566.364 1378.76 572.174 1378.76 Z\" fill=\"#000000\" fill-rule=\"nonzero\" fill-opacity=\"1\" /><path clip-path=\"url(#clip310)\" d=\"M592.336 1408.07 L597.22 1408.07 L597.22 1413.95 L592.336 1413.95 L592.336 1408.07 Z\" fill=\"#000000\" fill-rule=\"nonzero\" fill-opacity=\"1\" /><path clip-path=\"url(#clip310)\" d=\"M617.405 1382.47 Q613.794 1382.47 611.966 1386.03 Q610.16 1389.57 610.16 1396.7 Q610.16 1403.81 611.966 1407.37 Q613.794 1410.92 617.405 1410.92 Q621.04 1410.92 622.845 1407.37 Q624.674 1403.81 624.674 1396.7 Q624.674 1389.57 622.845 1386.03 Q621.04 1382.47 617.405 1382.47 M617.405 1378.76 Q623.215 1378.76 626.271 1383.37 Q629.35 1387.95 629.35 1396.7 Q629.35 1405.43 626.271 1410.04 Q623.215 1414.62 617.405 1414.62 Q611.595 1414.62 608.516 1410.04 Q605.461 1405.43 605.461 1396.7 Q605.461 1387.95 608.516 1383.37 Q611.595 1378.76 617.405 1378.76 Z\" fill=\"#000000\" fill-rule=\"nonzero\" fill-opacity=\"1\" /><path clip-path=\"url(#clip310)\" d=\"M1026.66 1410.01 L1042.98 1410.01 L1042.98 1413.95 L1021.04 1413.95 L1021.04 1410.01 Q1023.7 1407.26 1028.28 1402.63 Q1032.89 1397.98 1034.07 1396.63 Q1036.31 1394.11 1037.19 1392.37 Q1038.1 1390.61 1038.1 1388.92 Q1038.1 1386.17 1036.15 1384.43 Q1034.23 1382.7 1031.13 1382.7 Q1028.93 1382.7 1026.48 1383.46 Q1024.04 1384.23 1021.27 1385.78 L1021.27 1381.05 Q1024.09 1379.92 1026.54 1379.34 Q1029 1378.76 1031.04 1378.76 Q1036.41 1378.76 1039.6 1381.45 Q1042.79 1384.13 1042.79 1388.62 Q1042.79 1390.75 1041.98 1392.67 Q1041.2 1394.57 1039.09 1397.17 Q1038.51 1397.84 1035.41 1401.05 Q1032.31 1404.25 1026.66 1410.01 Z\" fill=\"#000000\" fill-rule=\"nonzero\" fill-opacity=\"1\" /><path clip-path=\"url(#clip310)\" d=\"M1052.79 1408.07 L1057.68 1408.07 L1057.68 1413.95 L1052.79 1413.95 L1052.79 1408.07 Z\" fill=\"#000000\" fill-rule=\"nonzero\" fill-opacity=\"1\" /><path clip-path=\"url(#clip310)\" d=\"M1067.91 1379.39 L1086.27 1379.39 L1086.27 1383.32 L1072.19 1383.32 L1072.19 1391.8 Q1073.21 1391.45 1074.23 1391.29 Q1075.25 1391.1 1076.27 1391.1 Q1082.05 1391.1 1085.43 1394.27 Q1088.81 1397.44 1088.81 1402.86 Q1088.81 1408.44 1085.34 1411.54 Q1081.87 1414.62 1075.55 1414.62 Q1073.37 1414.62 1071.1 1414.25 Q1068.86 1413.88 1066.45 1413.14 L1066.45 1408.44 Q1068.54 1409.57 1070.76 1410.13 Q1072.98 1410.68 1075.46 1410.68 Q1079.46 1410.68 1081.8 1408.58 Q1084.14 1406.47 1084.14 1402.86 Q1084.14 1399.25 1081.8 1397.14 Q1079.46 1395.04 1075.46 1395.04 Q1073.58 1395.04 1071.71 1395.45 Q1069.85 1395.87 1067.91 1396.75 L1067.91 1379.39 Z\" fill=\"#000000\" fill-rule=\"nonzero\" fill-opacity=\"1\" /><path clip-path=\"url(#clip310)\" d=\"M1482.22 1379.39 L1500.58 1379.39 L1500.58 1383.32 L1486.51 1383.32 L1486.51 1391.8 Q1487.52 1391.45 1488.54 1391.29 Q1489.56 1391.1 1490.58 1391.1 Q1496.37 1391.1 1499.75 1394.27 Q1503.13 1397.44 1503.13 1402.86 Q1503.13 1408.44 1499.65 1411.54 Q1496.18 1414.62 1489.86 1414.62 Q1487.69 1414.62 1485.42 1414.25 Q1483.17 1413.88 1480.76 1413.14 L1480.76 1408.44 Q1482.85 1409.57 1485.07 1410.13 Q1487.29 1410.68 1489.77 1410.68 Q1493.77 1410.68 1496.11 1408.58 Q1498.45 1406.47 1498.45 1402.86 Q1498.45 1399.25 1496.11 1397.14 Q1493.77 1395.04 1489.77 1395.04 Q1487.89 1395.04 1486.02 1395.45 Q1484.17 1395.87 1482.22 1396.75 L1482.22 1379.39 Z\" fill=\"#000000\" fill-rule=\"nonzero\" fill-opacity=\"1\" /><path clip-path=\"url(#clip310)\" d=\"M1512.34 1408.07 L1517.22 1408.07 L1517.22 1413.95 L1512.34 1413.95 L1512.34 1408.07 Z\" fill=\"#000000\" fill-rule=\"nonzero\" fill-opacity=\"1\" /><path clip-path=\"url(#clip310)\" d=\"M1537.41 1382.47 Q1533.8 1382.47 1531.97 1386.03 Q1530.16 1389.57 1530.16 1396.7 Q1530.16 1403.81 1531.97 1407.37 Q1533.8 1410.92 1537.41 1410.92 Q1541.04 1410.92 1542.85 1407.37 Q1544.68 1403.81 1544.68 1396.7 Q1544.68 1389.57 1542.85 1386.03 Q1541.04 1382.47 1537.41 1382.47 M1537.41 1378.76 Q1543.22 1378.76 1546.27 1383.37 Q1549.35 1387.95 1549.35 1396.7 Q1549.35 1405.43 1546.27 1410.04 Q1543.22 1414.62 1537.41 1414.62 Q1531.6 1414.62 1528.52 1410.04 Q1525.46 1405.43 1525.46 1396.7 Q1525.46 1387.95 1528.52 1383.37 Q1531.6 1378.76 1537.41 1378.76 Z\" fill=\"#000000\" fill-rule=\"nonzero\" fill-opacity=\"1\" /><path clip-path=\"url(#clip310)\" d=\"M1941.51 1379.39 L1963.73 1379.39 L1963.73 1381.38 L1951.19 1413.95 L1946.3 1413.95 L1958.11 1383.32 L1941.51 1383.32 L1941.51 1379.39 Z\" fill=\"#000000\" fill-rule=\"nonzero\" fill-opacity=\"1\" /><path clip-path=\"url(#clip310)\" d=\"M1972.85 1408.07 L1977.74 1408.07 L1977.74 1413.95 L1972.85 1413.95 L1972.85 1408.07 Z\" fill=\"#000000\" fill-rule=\"nonzero\" fill-opacity=\"1\" /><path clip-path=\"url(#clip310)\" d=\"M1987.97 1379.39 L2006.33 1379.39 L2006.33 1383.32 L1992.25 1383.32 L1992.25 1391.8 Q1993.27 1391.45 1994.29 1391.29 Q1995.31 1391.1 1996.33 1391.1 Q2002.11 1391.1 2005.49 1394.27 Q2008.87 1397.44 2008.87 1402.86 Q2008.87 1408.44 2005.4 1411.54 Q2001.93 1414.62 1995.61 1414.62 Q1993.43 1414.62 1991.17 1414.25 Q1988.92 1413.88 1986.51 1413.14 L1986.51 1408.44 Q1988.6 1409.57 1990.82 1410.13 Q1993.04 1410.68 1995.52 1410.68 Q1999.52 1410.68 2001.86 1408.58 Q2004.2 1406.47 2004.2 1402.86 Q2004.2 1399.25 2001.86 1397.14 Q1999.52 1395.04 1995.52 1395.04 Q1993.64 1395.04 1991.77 1395.45 Q1989.92 1395.87 1987.97 1396.75 L1987.97 1379.39 Z\" fill=\"#000000\" fill-rule=\"nonzero\" fill-opacity=\"1\" /><path clip-path=\"url(#clip310)\" d=\"M1139.43 1451.26 Q1139.43 1456.67 1137.69 1462.76 Q1135.98 1468.82 1133.28 1473.71 Q1130.57 1478.57 1127.03 1481.8 Q1123.49 1484.98 1120.11 1484.98 Q1117.95 1484.98 1116.34 1483.79 Q1114.76 1482.57 1113.89 1480.54 Q1113.02 1478.48 1112.6 1476.22 Q1112.18 1473.94 1112.18 1471.46 Q1112.18 1467.75 1112.99 1463.73 Q1113.79 1459.67 1115.15 1456 Q1116.5 1452.29 1118.4 1448.95 Q1120.3 1445.56 1122.39 1443.12 Q1124.52 1440.64 1126.9 1439.19 Q1129.28 1437.74 1131.51 1437.74 Q1133.12 1437.74 1134.4 1438.45 Q1135.72 1439.12 1136.56 1440.31 Q1137.4 1441.47 1137.98 1442.86 Q1138.59 1444.24 1138.88 1445.85 Q1139.17 1447.43 1139.3 1448.75 Q1139.43 1450.04 1139.43 1451.26 M1135.08 1447.17 Q1135.08 1445.53 1134.95 1444.31 Q1134.82 1443.05 1134.47 1441.8 Q1134.11 1440.54 1133.34 1439.86 Q1132.6 1439.19 1131.44 1439.19 Q1128.06 1439.19 1124.26 1446.11 Q1123.04 1448.27 1121.94 1451.2 Q1120.85 1454.13 1120.46 1455.52 Q1120.07 1456.9 1119.17 1460.31 L1132.96 1460.31 Q1135.08 1451.52 1135.08 1447.17 M1132.38 1462.41 L1118.66 1462.41 Q1116.53 1470.46 1116.53 1475.48 Q1116.53 1479.86 1117.43 1481.7 Q1118.37 1483.5 1120.11 1483.5 Q1122.1 1483.5 1123.97 1481.51 Q1125.84 1479.48 1127.74 1475.81 Q1130.25 1471.04 1132.38 1462.41 Z\" fill=\"#000000\" fill-rule=\"nonzero\" fill-opacity=\"1\" /><path clip-path=\"url(#clip310)\" d=\"M1169.2 1479.75 Q1169.2 1481.01 1168.41 1481.73 Q1167.62 1482.43 1166.72 1482.43 Q1165.87 1482.43 1165.41 1481.93 Q1164.96 1481.44 1164.96 1480.81 Q1164.96 1479.95 1165.59 1479.21 Q1166.23 1478.46 1167.17 1478.3 Q1166.25 1477.72 1164.87 1477.72 Q1163.97 1477.72 1163.18 1478.19 Q1162.42 1478.66 1161.94 1479.27 Q1161.49 1479.88 1161.09 1480.76 Q1160.7 1481.62 1160.54 1482.14 Q1160.41 1482.63 1160.3 1483.17 L1158.72 1489.49 Q1157.95 1492.48 1157.95 1493.54 Q1157.95 1494.85 1158.58 1495.73 Q1159.21 1496.59 1160.48 1496.59 Q1160.97 1496.59 1161.54 1496.45 Q1162.1 1496.29 1162.82 1495.89 Q1163.57 1495.46 1164.22 1494.83 Q1164.9 1494.17 1165.55 1493.07 Q1166.2 1491.97 1166.63 1490.54 Q1166.77 1490.05 1167.22 1490.05 Q1167.78 1490.05 1167.78 1490.5 Q1167.78 1490.88 1167.47 1491.69 Q1167.17 1492.48 1166.52 1493.52 Q1165.89 1494.54 1165.05 1495.46 Q1164.22 1496.36 1162.98 1496.99 Q1161.74 1497.62 1160.39 1497.62 Q1158.45 1497.62 1157.16 1496.59 Q1155.88 1495.55 1155.4 1494.11 Q1155.29 1494.31 1155.13 1494.58 Q1154.98 1494.85 1154.5 1495.46 Q1154.05 1496.05 1153.53 1496.5 Q1153.02 1496.92 1152.2 1497.26 Q1151.41 1497.62 1150.56 1497.62 Q1149.48 1497.62 1148.51 1497.31 Q1147.56 1496.99 1146.88 1496.27 Q1146.21 1495.55 1146.21 1494.56 Q1146.21 1493.45 1146.95 1492.69 Q1147.72 1491.9 1148.75 1491.9 Q1149.41 1491.9 1149.93 1492.28 Q1150.47 1492.66 1150.47 1493.5 Q1150.47 1494.42 1149.84 1495.12 Q1149.21 1495.82 1148.3 1496 Q1149.23 1496.59 1150.6 1496.59 Q1152.09 1496.59 1153.26 1495.28 Q1154.44 1493.97 1155 1491.78 Q1156.4 1486.53 1156.94 1484.19 Q1157.48 1481.82 1157.48 1480.81 Q1157.48 1479.86 1157.23 1479.21 Q1156.98 1478.55 1156.55 1478.26 Q1156.15 1477.94 1155.77 1477.83 Q1155.4 1477.72 1155 1477.72 Q1154.32 1477.72 1153.56 1477.99 Q1152.81 1478.26 1151.91 1478.89 Q1151.03 1479.5 1150.2 1480.76 Q1149.36 1482.02 1148.8 1483.76 Q1148.69 1484.28 1148.19 1484.28 Q1147.65 1484.25 1147.65 1483.8 Q1147.65 1483.42 1147.94 1482.63 Q1148.26 1481.82 1148.89 1480.81 Q1149.54 1479.79 1150.38 1478.89 Q1151.23 1477.97 1152.47 1477.33 Q1153.74 1476.7 1155.09 1476.7 Q1155.7 1476.7 1156.28 1476.84 Q1156.89 1476.95 1157.61 1477.29 Q1158.36 1477.63 1159.01 1478.37 Q1159.67 1479.11 1160.07 1480.2 Q1160.34 1479.68 1160.7 1479.18 Q1161.09 1478.69 1161.67 1478.08 Q1162.28 1477.45 1163.11 1477.09 Q1163.97 1476.7 1164.92 1476.7 Q1165.84 1476.7 1166.74 1476.95 Q1167.65 1477.18 1168.41 1477.92 Q1169.2 1478.64 1169.2 1479.75 Z\" fill=\"#000000\" fill-rule=\"nonzero\" fill-opacity=\"1\" /><polyline clip-path=\"url(#clip313)\" style=\"stroke:#000000; stroke-linecap:round; stroke-linejoin:round; stroke-width:2; stroke-opacity:0.1; fill:none\" points=\"175.445,1322.64 2112.76,1322.64 \"/>\n",
       "<polyline clip-path=\"url(#clip313)\" style=\"stroke:#000000; stroke-linecap:round; stroke-linejoin:round; stroke-width:2; stroke-opacity:0.1; fill:none\" points=\"175.445,1138.58 2112.76,1138.58 \"/>\n",
       "<polyline clip-path=\"url(#clip313)\" style=\"stroke:#000000; stroke-linecap:round; stroke-linejoin:round; stroke-width:2; stroke-opacity:0.1; fill:none\" points=\"175.445,954.529 2112.76,954.529 \"/>\n",
       "<polyline clip-path=\"url(#clip313)\" style=\"stroke:#000000; stroke-linecap:round; stroke-linejoin:round; stroke-width:2; stroke-opacity:0.1; fill:none\" points=\"175.445,770.476 2112.76,770.476 \"/>\n",
       "<polyline clip-path=\"url(#clip313)\" style=\"stroke:#000000; stroke-linecap:round; stroke-linejoin:round; stroke-width:2; stroke-opacity:0.1; fill:none\" points=\"175.445,586.422 2112.76,586.422 \"/>\n",
       "<polyline clip-path=\"url(#clip313)\" style=\"stroke:#000000; stroke-linecap:round; stroke-linejoin:round; stroke-width:2; stroke-opacity:0.1; fill:none\" points=\"175.445,402.368 2112.76,402.368 \"/>\n",
       "<polyline clip-path=\"url(#clip313)\" style=\"stroke:#000000; stroke-linecap:round; stroke-linejoin:round; stroke-width:2; stroke-opacity:0.1; fill:none\" points=\"175.445,218.314 2112.76,218.314 \"/>\n",
       "<polyline clip-path=\"url(#clip310)\" style=\"stroke:#000000; stroke-linecap:round; stroke-linejoin:round; stroke-width:4; stroke-opacity:1; fill:none\" points=\"175.445,1351.55 175.445,195.104 \"/>\n",
       "<polyline clip-path=\"url(#clip310)\" style=\"stroke:#000000; stroke-linecap:round; stroke-linejoin:round; stroke-width:4; stroke-opacity:1; fill:none\" points=\"175.445,1322.64 192.26,1322.64 \"/>\n",
       "<polyline clip-path=\"url(#clip310)\" style=\"stroke:#000000; stroke-linecap:round; stroke-linejoin:round; stroke-width:4; stroke-opacity:1; fill:none\" points=\"175.445,1138.58 192.26,1138.58 \"/>\n",
       "<polyline clip-path=\"url(#clip310)\" style=\"stroke:#000000; stroke-linecap:round; stroke-linejoin:round; stroke-width:4; stroke-opacity:1; fill:none\" points=\"175.445,954.529 192.26,954.529 \"/>\n",
       "<polyline clip-path=\"url(#clip310)\" style=\"stroke:#000000; stroke-linecap:round; stroke-linejoin:round; stroke-width:4; stroke-opacity:1; fill:none\" points=\"175.445,770.476 192.26,770.476 \"/>\n",
       "<polyline clip-path=\"url(#clip310)\" style=\"stroke:#000000; stroke-linecap:round; stroke-linejoin:round; stroke-width:4; stroke-opacity:1; fill:none\" points=\"175.445,586.422 192.26,586.422 \"/>\n",
       "<polyline clip-path=\"url(#clip310)\" style=\"stroke:#000000; stroke-linecap:round; stroke-linejoin:round; stroke-width:4; stroke-opacity:1; fill:none\" points=\"175.445,402.368 192.26,402.368 \"/>\n",
       "<polyline clip-path=\"url(#clip310)\" style=\"stroke:#000000; stroke-linecap:round; stroke-linejoin:round; stroke-width:4; stroke-opacity:1; fill:none\" points=\"175.445,218.314 192.26,218.314 \"/>\n",
       "<path clip-path=\"url(#clip310)\" d=\"M127.501 1308.44 Q123.89 1308.44 122.061 1312 Q120.255 1315.54 120.255 1322.67 Q120.255 1329.78 122.061 1333.34 Q123.89 1336.88 127.501 1336.88 Q131.135 1336.88 132.941 1333.34 Q134.769 1329.78 134.769 1322.67 Q134.769 1315.54 132.941 1312 Q131.135 1308.44 127.501 1308.44 M127.501 1304.73 Q133.311 1304.73 136.367 1309.34 Q139.445 1313.92 139.445 1322.67 Q139.445 1331.4 136.367 1336 Q133.311 1340.59 127.501 1340.59 Q121.691 1340.59 118.612 1336 Q115.556 1331.4 115.556 1322.67 Q115.556 1313.92 118.612 1309.34 Q121.691 1304.73 127.501 1304.73 Z\" fill=\"#000000\" fill-rule=\"nonzero\" fill-opacity=\"1\" /><path clip-path=\"url(#clip310)\" d=\"M119.538 1151.93 L127.177 1151.93 L127.177 1125.56 L118.867 1127.23 L118.867 1122.97 L127.13 1121.3 L131.806 1121.3 L131.806 1151.93 L139.445 1151.93 L139.445 1155.86 L119.538 1155.86 L119.538 1151.93 Z\" fill=\"#000000\" fill-rule=\"nonzero\" fill-opacity=\"1\" /><path clip-path=\"url(#clip310)\" d=\"M123.126 967.874 L139.445 967.874 L139.445 971.809 L117.501 971.809 L117.501 967.874 Q120.163 965.12 124.746 960.49 Q129.353 955.837 130.533 954.495 Q132.779 951.971 133.658 950.235 Q134.561 948.476 134.561 946.786 Q134.561 944.032 132.617 942.296 Q130.695 940.559 127.593 940.559 Q125.394 940.559 122.941 941.323 Q120.51 942.087 117.732 943.638 L117.732 938.916 Q120.556 937.782 123.01 937.203 Q125.464 936.624 127.501 936.624 Q132.871 936.624 136.066 939.309 Q139.26 941.995 139.26 946.485 Q139.26 948.615 138.45 950.536 Q137.663 952.434 135.556 955.027 Q134.978 955.698 131.876 958.916 Q128.774 962.11 123.126 967.874 Z\" fill=\"#000000\" fill-rule=\"nonzero\" fill-opacity=\"1\" /><path clip-path=\"url(#clip310)\" d=\"M132.316 769.121 Q135.672 769.839 137.547 772.107 Q139.445 774.376 139.445 777.709 Q139.445 782.825 135.927 785.626 Q132.408 788.427 125.927 788.427 Q123.751 788.427 121.436 787.987 Q119.144 787.57 116.691 786.714 L116.691 782.2 Q118.635 783.334 120.95 783.913 Q123.265 784.492 125.788 784.492 Q130.186 784.492 132.478 782.756 Q134.792 781.019 134.792 777.709 Q134.792 774.654 132.64 772.941 Q130.51 771.205 126.691 771.205 L122.663 771.205 L122.663 767.362 L126.876 767.362 Q130.325 767.362 132.154 765.996 Q133.982 764.608 133.982 762.015 Q133.982 759.353 132.084 757.941 Q130.209 756.506 126.691 756.506 Q124.769 756.506 122.57 756.922 Q120.371 757.339 117.732 758.219 L117.732 754.052 Q120.394 753.311 122.709 752.941 Q125.047 752.571 127.107 752.571 Q132.431 752.571 135.533 755.001 Q138.635 757.408 138.635 761.529 Q138.635 764.399 136.992 766.39 Q135.348 768.358 132.316 769.121 Z\" fill=\"#000000\" fill-rule=\"nonzero\" fill-opacity=\"1\" /><path clip-path=\"url(#clip310)\" d=\"M129.862 573.216 L118.056 591.665 L129.862 591.665 L129.862 573.216 M128.635 569.142 L134.515 569.142 L134.515 591.665 L139.445 591.665 L139.445 595.554 L134.515 595.554 L134.515 603.702 L129.862 603.702 L129.862 595.554 L114.26 595.554 L114.26 591.04 L128.635 569.142 Z\" fill=\"#000000\" fill-rule=\"nonzero\" fill-opacity=\"1\" /><path clip-path=\"url(#clip310)\" d=\"M118.543 385.088 L136.899 385.088 L136.899 389.023 L122.825 389.023 L122.825 397.495 Q123.843 397.148 124.862 396.986 Q125.88 396.801 126.899 396.801 Q132.686 396.801 136.066 399.972 Q139.445 403.143 139.445 408.56 Q139.445 414.139 135.973 417.241 Q132.501 420.319 126.181 420.319 Q124.005 420.319 121.737 419.949 Q119.492 419.579 117.084 418.838 L117.084 414.139 Q119.168 415.273 121.39 415.829 Q123.612 416.384 126.089 416.384 Q130.093 416.384 132.431 414.278 Q134.769 412.171 134.769 408.56 Q134.769 404.949 132.431 402.843 Q130.093 400.736 126.089 400.736 Q124.214 400.736 122.339 401.153 Q120.487 401.569 118.543 402.449 L118.543 385.088 Z\" fill=\"#000000\" fill-rule=\"nonzero\" fill-opacity=\"1\" /><path clip-path=\"url(#clip310)\" d=\"M127.917 216.451 Q124.769 216.451 122.918 218.604 Q121.089 220.756 121.089 224.506 Q121.089 228.233 122.918 230.409 Q124.769 232.562 127.917 232.562 Q131.066 232.562 132.894 230.409 Q134.746 228.233 134.746 224.506 Q134.746 220.756 132.894 218.604 Q131.066 216.451 127.917 216.451 M137.2 201.798 L137.2 206.057 Q135.441 205.224 133.635 204.784 Q131.853 204.344 130.093 204.344 Q125.464 204.344 123.01 207.469 Q120.58 210.594 120.232 216.914 Q121.598 214.9 123.658 213.835 Q125.718 212.747 128.195 212.747 Q133.404 212.747 136.413 215.918 Q139.445 219.067 139.445 224.506 Q139.445 229.83 136.297 233.048 Q133.149 236.266 127.917 236.266 Q121.922 236.266 118.751 231.682 Q115.58 227.076 115.58 218.349 Q115.58 210.155 119.468 205.293 Q123.357 200.409 129.908 200.409 Q131.667 200.409 133.45 200.756 Q135.255 201.104 137.2 201.798 Z\" fill=\"#000000\" fill-rule=\"nonzero\" fill-opacity=\"1\" /><path clip-path=\"url(#clip310)\" d=\"M28.6829 777.161 Q34.0935 777.161 40.1804 778.9 Q46.2351 780.607 51.1304 783.313 Q55.9935 786.018 59.2141 789.56 Q62.4025 793.103 62.4025 796.485 Q62.4025 798.643 61.2109 800.253 Q59.987 801.831 57.9581 802.7 Q55.8969 803.57 53.6425 803.989 Q51.3559 804.407 48.876 804.407 Q45.1724 804.407 41.1466 803.602 Q37.0887 802.797 33.4172 801.444 Q29.7135 800.092 26.3641 798.192 Q22.9825 796.292 20.5349 794.198 Q18.055 792.073 16.6058 789.689 Q15.1565 787.306 15.1565 785.084 Q15.1565 783.474 15.865 782.185 Q16.5413 780.865 17.733 780.028 Q18.8924 779.19 20.2772 778.61 Q21.6621 777.999 23.2724 777.709 Q24.8505 777.419 26.1709 777.29 Q27.4591 777.161 28.6829 777.161 M24.5928 781.509 Q22.9503 781.509 21.7265 781.638 Q20.4705 781.767 19.2144 782.121 Q17.9584 782.475 17.2821 783.248 Q16.6058 783.989 16.6058 785.148 Q16.6058 788.53 23.53 792.33 Q25.6878 793.554 28.6185 794.649 Q31.5493 795.744 32.9341 796.13 Q34.319 796.517 37.7328 797.419 L37.7328 783.635 Q28.9406 781.509 24.5928 781.509 M39.8262 784.214 L39.8262 797.934 Q47.8776 800.06 52.9018 800.06 Q57.2818 800.06 59.1175 799.158 Q60.921 798.224 60.921 796.485 Q60.921 794.488 58.9243 792.62 Q56.8953 790.752 53.2238 788.852 Q48.4573 786.34 39.8262 784.214 Z\" fill=\"#000000\" fill-rule=\"nonzero\" fill-opacity=\"1\" /><path clip-path=\"url(#clip310)\" d=\"M55.8797 749.079 Q56.1953 749.079 56.9392 749.282 L74.5687 753.7 Q78.4914 754.67 81.2418 757.826 Q83.9921 760.96 83.9921 764.522 Q83.9921 766.663 82.8424 768.038 Q81.7152 769.414 79.9793 769.414 Q78.4463 769.414 77.7023 768.602 Q76.9809 767.79 76.9809 766.821 Q76.9809 766.505 77.0711 766.167 Q77.1613 765.829 77.5445 765.468 Q77.9278 765.108 78.5816 765.108 Q79.6411 765.108 80.4753 766.032 Q80.8585 766.483 80.9487 766.911 Q81.0389 767.317 81.0389 768.016 Q81.6701 767.745 82.0984 767.249 Q82.5268 766.753 82.6846 766.19 Q82.8649 765.626 82.91 765.266 Q82.9777 764.882 82.9777 764.522 Q82.9777 761.636 80.0695 759.427 Q79.1903 758.773 78.311 758.299 Q77.4544 757.803 76.3948 757.443 Q75.3578 757.082 74.7942 756.924 Q74.2306 756.744 72.9455 756.428 Q75.0421 758.525 75.0421 761.095 Q75.0421 762.177 74.7491 763.146 Q74.456 764.093 73.8473 764.927 Q73.2161 765.761 72.1114 766.257 Q71.0067 766.731 69.5414 766.731 Q67.9858 766.731 65.8667 766.122 Q63.7475 765.513 59.8474 764.048 Q57.6606 763.259 56.6011 763.259 Q56.0826 763.259 55.7669 763.372 Q55.4288 763.485 55.3161 763.71 Q55.1808 763.935 55.1582 764.071 Q55.1357 764.183 55.1357 764.409 Q55.1357 765.739 56.4883 766.979 Q57.841 768.219 60.8619 769.075 Q61.4255 769.256 61.5608 769.369 Q61.696 769.481 61.696 769.819 Q61.6735 770.383 61.2226 770.383 Q61.0423 770.383 60.3434 770.18 Q59.622 769.977 58.5624 769.504 Q57.4803 769.008 56.5109 768.332 Q55.5189 767.655 54.8201 766.596 Q54.1212 765.513 54.1212 764.274 Q54.1212 762.583 55.2259 761.546 Q56.308 760.486 57.9086 760.486 Q58.5624 760.486 59.1485 760.667 Q59.7122 760.824 61.2226 761.41 Q67.3095 763.778 70.2853 763.778 Q71.0067 763.778 71.6154 763.665 Q72.2016 763.53 72.7877 763.237 Q73.3513 762.943 73.6895 762.357 Q74.0051 761.749 74.0051 760.914 Q74.0051 759.855 73.5091 758.863 Q72.9906 757.848 72.2918 757.217 Q71.5929 756.563 71.0067 756.18 Q70.3981 755.774 70.0824 755.684 L61.7862 753.61 L58.089 752.686 Q56.0826 752.258 55.5866 752.055 Q55.1132 751.784 54.8652 751.311 Q54.6172 750.837 54.6172 750.431 Q54.6172 749.868 54.9553 749.485 Q55.2935 749.079 55.8797 749.079 Z\" fill=\"#000000\" fill-rule=\"nonzero\" fill-opacity=\"1\" /><path clip-path=\"url(#clip310)\" d=\"M1138.17 16.274 L1136.49 30.7842 Q1136.36 32.0959 1136.16 32.5058 Q1135.95 32.8747 1135.3 32.8747 Q1134.32 32.8747 1134.32 31.8909 Q1134.32 31.481 1134.48 30.3743 Q1134.72 28.1199 1134.72 25.8245 Q1134.72 23.2422 1134.23 21.6436 Q1133.78 20.004 1132.47 18.8154 Q1131.16 17.6267 1128.74 17.1348 Q1126.32 16.6019 1122.47 16.6019 L1111.4 16.6019 Q1108.7 16.6019 1108.04 17.0938 Q1107.43 17.5857 1106.85 19.8811 L1101.48 41.1955 L1109.11 41.1955 Q1114.44 41.1955 1116.53 39.6379 Q1118.62 38.0803 1119.93 33.1206 Q1120.13 32.3418 1120.21 32.0549 Q1120.34 31.727 1120.54 31.563 Q1120.79 31.3581 1121.2 31.3581 Q1121.57 31.3581 1121.81 31.604 Q1122.06 31.809 1122.14 32.0549 L1122.22 32.3008 Q1122.22 32.7107 1121.98 33.6535 L1117.35 51.8527 Q1117.02 53.0824 1116.81 53.3693 Q1116.65 53.6153 1116.07 53.6153 Q1115.66 53.6153 1115.38 53.3283 Q1115.09 53.0414 1115.09 52.5905 Q1115.17 52.0987 1115.34 51.6888 Q1115.91 49.1884 1115.91 47.5898 Q1115.91 46.5651 1115.71 45.9503 Q1115.5 45.3354 1114.8 44.8026 Q1114.11 44.2697 1112.67 44.0238 Q1111.24 43.7778 1108.94 43.7778 L1100.83 43.7778 L1095.62 64.6824 L1095.25 66.6089 Q1095.25 67.4696 1095.7 67.7975 Q1096.2 68.1255 1097.96 68.2894 Q1100.58 68.4944 1102.3 68.4944 Q1104.43 68.4944 1104.68 68.5763 Q1105.17 68.8223 1105.17 69.4781 Q1105.17 70.2159 1104.84 70.6258 Q1104.52 70.9947 1104.23 71.0357 Q1103.94 71.0767 1103.41 71.0767 L1090.91 70.8308 L1079.84 71.0767 Q1078.57 71.0767 1078.57 70.052 Q1078.57 69.2732 1078.9 68.9452 Q1079.23 68.5763 1079.59 68.5354 Q1079.96 68.4944 1080.91 68.4944 Q1082.96 68.4944 1084.19 68.3714 Q1085.41 68.2484 1086.19 68.0845 Q1087.01 67.8795 1087.42 67.3057 Q1087.87 66.7318 1088.08 66.24 Q1088.28 65.7071 1088.57 64.5184 L1099.64 20.127 Q1100.05 18.6104 1100.05 18.1185 Q1100.05 17.5857 1099.68 17.2578 Q1099.35 16.9299 1098.45 16.8069 Q1097.55 16.6429 1096.81 16.6429 Q1096.11 16.6019 1094.6 16.6019 Q1093.61 16.6019 1093.2 16.5609 Q1092.83 16.52 1092.55 16.315 Q1092.26 16.1101 1092.26 15.6592 Q1092.26 14.5115 1092.75 14.2655 Q1093.28 13.9786 1094.76 13.9786 L1135.91 13.9786 Q1137.55 13.9786 1137.92 14.3475 Q1138.33 14.6754 1138.17 16.274 Z\" fill=\"#000000\" fill-rule=\"nonzero\" fill-opacity=\"1\" /><path clip-path=\"url(#clip310)\" d=\"M1146.72 60.7927 L1146.72 58.9563 Q1153.78 58.9563 1157.42 55.1976 Q1158.42 55.1976 1158.6 55.4272 Q1158.77 55.6567 1158.77 56.7183 L1158.77 89.686 Q1158.77 91.4362 1159.63 91.9814 Q1160.49 92.5266 1164.25 92.5266 L1166.11 92.5266 L1166.11 94.3342 Q1164.05 94.162 1156.59 94.162 Q1149.13 94.162 1147.09 94.3342 L1147.09 92.5266 L1148.96 92.5266 Q1152.66 92.5266 1153.55 92.0101 Q1154.44 91.4649 1154.44 89.686 L1154.44 59.2433 Q1151.37 60.7927 1146.72 60.7927 Z\" fill=\"#000000\" fill-rule=\"nonzero\" fill-opacity=\"1\" /><path clip-path=\"url(#clip310)\" d=\"M1171.57 94.3342 Q1171.57 93.2726 1171.66 92.9569 Q1171.77 92.6413 1172.23 92.1536 L1183.51 79.5862 Q1189.68 72.6427 1189.68 66.5885 Q1189.68 62.6577 1187.61 59.8458 Q1185.57 57.0339 1181.82 57.0339 Q1179.23 57.0339 1177.05 58.612 Q1174.87 60.1901 1173.87 63.002 Q1174.04 62.9446 1174.64 62.9446 Q1176.11 62.9446 1176.91 63.8628 Q1177.74 64.7809 1177.74 66.0147 Q1177.74 67.5928 1176.71 68.3675 Q1175.7 69.1135 1174.7 69.1135 Q1174.3 69.1135 1173.75 69.0274 Q1173.24 68.9413 1172.4 68.1379 Q1171.57 67.3059 1171.57 65.8425 Q1171.57 61.7395 1174.67 58.4686 Q1177.8 55.1976 1182.56 55.1976 Q1187.96 55.1976 1191.48 58.4112 Q1195.04 61.5961 1195.04 66.5885 Q1195.04 68.3388 1194.5 69.9456 Q1193.98 71.5237 1193.26 72.7574 Q1192.58 73.9912 1190.68 75.971 Q1188.79 77.9508 1187.27 79.3567 Q1185.75 80.7626 1182.33 83.7467 L1176.11 89.8008 L1186.69 89.8008 Q1191.86 89.8008 1192.26 89.3417 Q1192.83 88.5096 1193.55 84.1197 L1195.04 84.1197 L1193.38 94.3342 L1171.57 94.3342 Z\" fill=\"#000000\" fill-rule=\"nonzero\" fill-opacity=\"1\" /><g clip-path=\"url(#clip313)\">\n",
       "<image width=\"1156\" height=\"1156\" xlink:href=\"data:image/png;base64,\n",
       "iVBORw0KGgoAAAANSUhEUgAABIQAAASECAYAAAAV0tQ2AAAgAElEQVR4nOzaTW5c14GG4XsviyJl\n",
       "/diAbMVuI/AOPMssWUBvKIvobcWzzDLOxAgMuf0DtCypJZLFuj1oRHMD5DkA3+dZwXdQxVunXta6\n",
       "LId94cFYl232hDHWxjnX9Xz2hHu3rRezJwxxtl3OnjDEYXs8e8IQ55HXcws8gypO+83sCUPcnD7M\n",
       "njDE8fR+9oQhbgOv52m/mj1hiD3yDFr20+wFQ+xL45wFjW/VAAAAAHwkCAEAAADECEIAAAAAMYIQ\n",
       "AAAAQIwgBAAAABAjCAEAAADECEIAAAAAMYIQAAAAQIwgBAAAABAjCAEAAADECEIAAAAAMYIQAAAA\n",
       "QIwgBAAAABAjCAEAAADECEIAAAAAMYIQAAAAQIwgBAAAABAjCAEAAADECEIAAAAAMYIQAAAAQIwg\n",
       "BAAAABAjCAEAAADECEIAAAAAMYIQAAAAQIwgBAAAABAjCAEAAADECEIAAAAAMYIQAAAAQIwgBAAA\n",
       "ABAjCAEAAADECEIAAAAAMYIQAAAAQIwgBAAAABAjCAEAAADECEIAAAAAMYIQAAAAQIwgBAAAABAj\n",
       "CAEAAADECEIAAAAAMYIQAAAAQIwgBAAAABAjCAEAAADECEIAAAAAMYIQAAAAQIwgBAAAABAjCAEA\n",
       "AADECEIAAAAAMYIQAAAAQIwgBAAAABAjCAEAAADECEIAAAAAMYIQAAAAQIwgBAAAABAjCAEAAADE\n",
       "CEIAAAAAMYIQAAAAQIwgBAAAABBzmD1glHVZZ08YY22cc420zMI51/Xhn3FZlmVdz2ZPGGJbGx8r\n",
       "23o+e8IQZ+uj2RPgd9nW4+wJQ1Q+Uwp3hHV/+Gf8f41z7us+e8IQ6974zrkvD//1bPxlAgAAAPCR\n",
       "IAQAAAAQIwgBAAAAxAhCAAAAADGCEAAAAECMIAQAAAAQIwgBAAAAxAhCAAAAADGCEAAAAECMIAQA\n",
       "AAAQIwgBAAAAxAhCAAAAADGCEAAAAECMIAQAAAAQIwgBAAAAxAhCAAAAADGCEAAAAECMIAQAAAAQ\n",
       "IwgBAAAAxAhCAAAAADGCEAAAAECMIAQAAAAQIwgBAAAAxAhCAAAAADGCEAAAAECMIAQAAAAQIwgB\n",
       "AAAAxAhCAAAAADGCEAAAAECMIAQAAAAQIwgBAAAAxAhCAAAAADGCEAAAAECMIAQAAAAQIwgBAAAA\n",
       "xAhCAAAAADGCEAAAAECMIAQAAAAQIwgBAAAAxAhCAAAAADGCEAAAAECMIAQAAAAQIwgBAAAAxAhC\n",
       "AAAAADGCEAAAAECMIAQAAAAQIwgBAAAAxAhCAAAAADGCEAAAAECMIAQAAAAQIwgBAAAAxAhCAAAA\n",
       "ADGCEAAAAECMIAQAAAAQIwgBAAAAxAhCAAAAADGCEAAAAEDMYa00oXWdvWCQyut5NnvBEOt6mD3h\n",
       "3m3ro9kThjhsF7MnDHG+PZ49YYiL7cnsCUMclsb7tuC4Xs2ewB3al9vZE4bY94d/zn19+GdclmXZ\n",
       "l9PsCWPs++wFY0S+Wq+B1zNSDwAAAAD4N0EIAAAAIEYQAgAAAIgRhAAAAABiBCEAAACAGEEIAAAA\n",
       "IEYQAgAAAIgRhAAAAABiBCEAAACAGEEIAAAAIEYQAgAAAIgRhAAAAABiBCEAAACAGEEIAAAAIEYQ\n",
       "AgAAAIgRhAAAAABiBCEAAACAGEEIAAAAIEYQAgAAAIgRhAAAAABiBCEAAACAGEEIAAAAIEYQAgAA\n",
       "AIgRhAAAAABiBCEAAACAGEEIAAAAIEYQAgAAAIgRhAAAAABiBCEAAACAGEEIAAAAIEYQAgAAAIgR\n",
       "hAAAAABiBCEAAACAGEEIAAAAIEYQAgAAAIgRhAAAAABiBCEAAACAGEEIAAAAIEYQAgAAAIgRhAAA\n",
       "AABiBCEAAACAGEEIAAAAIEYQAgAAAIgRhAAAAABiBCEAAACAGEEIAAAAIEYQAgAAAIgRhAAAAABi\n",
       "BCEAAACAGEEIAAAAIEYQAgAAAIgRhAAAAABiBCEAAACAGEEIAAAAIEYQAgAAAIgRhAAAAABiBCEA\n",
       "AACAmMOyNprQWmlf69nsBUNs6/nsCUNs28XsCffusF3OnjDEo+3p7AlDPN4+mz1hiE+W57MnDPFo\n",
       "f/jPoIrr9Wr2hCG2rXE/qNj30+wJ925fHv4Zl2VZltM+e8EQkVdzWfbb2QuG2NeH/4pGKgkAAAAA\n",
       "/yYIAQAAAMQIQgAAAAAxghAAAABAjCAEAAAAECMIAQAAAMQIQgAAAAAxghAAAABAjCAEAAAAECMI\n",
       "AQAAAMQIQgAAAAAxghAAAABAjCAEAAAAECMIAQAAAMQIQgAAAAAxghAAAABAjCAEAAAAECMIAQAA\n",
       "AMQIQgAAAAAxghAAAABAjCAEAAAAECMIAQAAAMQIQgAAAAAxghAAAABAjCAEAAAAECMIAQAAAMQI\n",
       "QgAAAAAxghAAAABAjCAEAAAAECMIAQAAAMQIQgAAAAAxghAAAABAjCAEAAAAECMIAQAAAMQIQgAA\n",
       "AAAxghAAAABAjCAEAAAAECMIAQAAAMQIQgAAAAAxghAAAABAjCAEAAAAECMIAQAAAMQIQgAAAAAx\n",
       "ghAAAABAjCAEAAAAECMIAQAAAMQIQgAAAAAxghAAAABAjCAEAAAAECMIAQAAAMQIQgAAAAAxghAA\n",
       "AABAjCAEAAAAECMIAQAAAMQIQgAAAAAxghAAAABAjCAEAAAAEHNY1/PZG4ZYI+1rXQ+zJwyxbRez\n",
       "Jwxxvn0ye8K9uzh7PnvCEE+3F7MnDPHp3jjn89PT2ROGeBz5TCl4fzrOnjDEb9vl7AlDvN7OZk+A\n",
       "3+Vm9oBRTuvsBUPsS+MzZVlOswfcu0YlAQAAAOAjQQgAAAAgRhACAAAAiBGEAAAAAGIEIQAAAIAY\n",
       "QQgAAAAgRhACAAAAiBGEAAAAAGIEIQAAAIAYQQgAAAAgRhACAAAAiBGEAAAAAGIEIQAAAIAYQQgA\n",
       "AAAgRhACAAAAiBGEAAAAAGIEIQAAAIAYQQgAAAAgRhACAAAAiBGEAAAAAGIEIQAAAIAYQQgAAAAg\n",
       "RhACAAAAiBGEAAAAAGIEIQAAAIAYQQgAAAAgRhACAAAAiBGEAAAAAGIEIQAAAIAYQQgAAAAgRhAC\n",
       "AAAAiBGEAAAAAGIEIQAAAIAYQQgAAAAgRhACAAAAiBGEAAAAAGIEIQAAAIAYQQgAAAAgRhACAAAA\n",
       "iBGEAAAAAGIEIQAAAIAYQQgAAAAgRhACAAAAiBGEAAAAAGIEIQAAAIAYQQgAAAAgRhACAAAAiBGE\n",
       "AAAAAGIEIQAAAIAYQQgAAAAgRhACAAAAiBGEAAAAAGIEIQAAAIAYQQgAAAAgRhACAAAAiBGEAAAA\n",
       "AGIO23oxe8MQ69poX9v6aPaEIQ7b5ewJQ1ycPZ894d493T6fPWGIF6c/zJ4wxMv12ewJQ3x+eZg9\n",
       "YYhn57MXcFfe3DTuB79cN855OEX+OLd19gL4XY6R31uc9uvZE4bY99PsCfeu8Y4FAAAA4CNBCAAA\n",
       "ACBGEAIAAACIEYQAAAAAYgQhAAAAgBhBCAAAACBGEAIAAACIEYQAAAAAYgQhAAAAgBhBCAAAACBG\n",
       "EAIAAACIEYQAAAAAYgQhAAAAgBhBCAAAACBGEAIAAACIEYQAAAAAYgQhAAAAgBhBCAAAACBGEAIA\n",
       "AACIEYQAAAAAYgQhAAAAgBhBCAAAACBGEAIAAACIEYQAAAAAYgQhAAAAgBhBCAAAACBGEAIAAACI\n",
       "EYQAAAAAYgQhAAAAgBhBCAAAACBGEAIAAACIEYQAAAAAYgQhAAAAgBhBCAAAACBGEAIAAACIEYQA\n",
       "AAAAYgQhAAAAgBhBCAAAACBGEAIAAACIEYQAAAAAYgQhAAAAgBhBCAAAACBGEAIAAACIEYQAAAAA\n",
       "YgQhAAAAgBhBCAAAACBGEAIAAACIEYQAAAAAYgQhAAAAgBhBCAAAACBGEAIAAACIEYQAAAAAYgQh\n",
       "AAAAgBhBCAAAACBGEAIAAACIEYQAAAAAYgQhAAAAgJjD2XY5e8MQ63o2e8IQh+1i9oQhHm1PZ08Y\n",
       "4un2YvaEe/fi9IfZE4b4j+357AlDfPOk8az95slx9oQhvri8mj2BO/Lzh8b94Pt3h9kThji8a3ym\n",
       "LKfZAwbY9tkLuEPr2vi9xfHUuO/t++3sCfeu8Y4FAAAA4CNBCAAAACBGEAIAAACIEYQAAAAAYgQh\n",
       "AAAAgBhBCAAAACBGEAIAAACIEYQAAAAAYgQhAAAAgBhBCAAAACBGEAIAAACIEYQAAAAAYgQhAAAA\n",
       "gBhBCAAAACBGEAIAAACIEYQAAAAAYgQhAAAAgBhBCAAAACBGEAIAAACIEYQAAAAAYgQhAAAAgBhB\n",
       "CAAAACBGEAIAAACIEYQAAAAAYgQhAAAAgBhBCAAAACBGEAIAAACIEYQAAAAAYgQhAAAAgBhBCAAA\n",
       "ACBGEAIAAACIEYQAAAAAYgQhAAAAgBhBCAAAACBGEAIAAACIEYQAAAAAYgQhAAAAgBhBCAAAACBG\n",
       "EAIAAACIEYQAAAAAYgQhAAAAgBhBCAAAACBGEAIAAACIEYQAAAAAYgQhAAAAgBhBCAAAACBGEAIA\n",
       "AACIEYQAAAAAYgQhAAAAgBhBCAAAACBGEAIAAACIEYQAAAAAYgQhAAAAgBhBCAAAACBGEAIAAACI\n",
       "EYQAAAAAYgQhAAAAgJjDYXs8e8MQ23qYPWGI88jr+Xj7bPaEIT7dX8yecO9ers9mTxjimydnsycM\n",
       "8e1nH2ZPGOLbl69mTxji669+nD2BO/LDqy9nTxji05++mj1hkMvZA4Y4vn34d4TjfjN7whC32+3s\n",
       "CdyhdWnca0/7cfaEe+cXQgAAAAAxghAAAABAjCAEAAAAECMIAQAAAMQIQgAAAAAxghAAAABAjCAE\n",
       "AAAAECMIAQAAAMQIQgAAAAAxghAAAABAjCAEAAAAECMIAQAAAMQIQgAAAAAxghAAAABAjCAEAAAA\n",
       "ECMIAQAAAMQIQgAAAAAxghAAAABAjCAEAAAAECMIAQAAAMQIQgAAAAAxghAAAABAjCAEAAAAECMI\n",
       "AQAAAMQIQgAAAAAxghAAAABAjCAEAAAAECMIAQAAAMQIQgAAAAAxghAAAABAjCAEAAAAECMIAQAA\n",
       "AMQIQgAAAAAxghAAAABAjCAEAAAAECMIAQAAAMQIQgAAAAAxghAAAABAjCAEAAAAECMIAQAAAMQI\n",
       "QgAAAAAxghAAAABAjCAEAAAAECMIAQAAAMQIQgAAAAAxghAAAABAjCAEAAAAECMIAQAAAMQIQgAA\n",
       "AAAxghAAAABAjCAEAAAAECMIAQAAAMQIQgAAAAAxghAAAABAjCAEAAAAECMIAQAAAMQIQgAAAAAx\n",
       "h/PtcvaGIbb1fPaEIS62J7MnDPHJ8nz2hCGen57OnnDvPr88zJ4wxDdPjrMnDPHty1ezJwzx7V/+\n",
       "PnvCEBd/9n+jh+LFd/+aPWGMv/1p9oIhXt/8cfaEIV5fP/w7wtsPD/+utyzL8uHsw+wJQ5y2m9kT\n",
       "uEOn/eG/nm56AAAAADGCEAAAAECMIAQAAAAQIwgBAAAAxAhCAAAAADGCEAAAAECMIAQAAAAQIwgB\n",
       "AAAAxAhCAAAAADGCEAAAAECMIAQAAAAQIwgBAAAAxAhCAAAAADGCEAAAAECMIAQAAAAQIwgBAAAA\n",
       "xAhCAAAAADGCEAAAAECMIAQAAAAQIwgBAAAAxAhCAAAAADGCEAAAAECMIAQAAAAQIwgBAAAAxAhC\n",
       "AAAAADGCEAAAAECMIAQAAAAQIwgBAAAAxAhCAAAAADGCEAAAAECMIAQAAAAQIwgBAAAAxAhCAAAA\n",
       "ADGCEAAAAECMIAQAAAAQIwgBAAAAxAhCAAAAADGCEAAAAECMIAQAAAAQIwgBAAAAxAhCAAAAADGC\n",
       "EAAAAECMIAQAAAAQIwgBAAAAxAhCAAAAADGCEAAAAECMIAQAAAAQIwgBAAAAxAhCAAAAADGCEAAA\n",
       "AECMIAQAAAAQIwgBAAAAxAhCAAAAADGCEAAAAECMIAQAAAAQIwgBAAAAxAhCAAAAADGHbT2fvWGI\n",
       "s/XR7AlDHJaL2ROGeLQ3zvl4PcyecO+eNR5ByxeXV7MnDPH1Vz/OnjDExZ8b/09Z//O/Zk/gjlws\n",
       "f509YYiv/9l4Bn3x68vZE4Z4dv7w70GPrx7+GZelc3c/rI1zHteb2RO4I40bLQAAAAAfCUIAAAAA\n",
       "MYIQAAAAQIwgBAAAABAjCAEAAADECEIAAAAAMYIQAAAAQIwgBAAAABAjCAEAAADECEIAAAAAMYIQ\n",
       "AAAAQIwgBAAAABAjCAEAAADECEIAAAAAMYIQAAAAQIwgBAAAABAjCAEAAADECEIAAAAAMYIQAAAA\n",
       "QIwgBAAAABAjCAEAAADECEIAAAAAMYIQAAAAQIwgBAAAABAjCAEAAADECEIAAAAAMYIQAAAAQIwg\n",
       "BAAAABAjCAEAAADECEIAAAAAMYIQAAAAQIwgBAAAABAjCAEAAADECEIAAAAAMYIQAAAAQIwgBAAA\n",
       "ABAjCAEAAADECEIAAAAAMYIQAAAAQIwgBAAAABAjCAEAAADECEIAAAAAMYIQAAAAQIwgBAAAABAj\n",
       "CAEAAADECEIAAAAAMYIQAAAAQIwgBAAAABAjCAEAAADECEIAAAAAMYIQAAAAQIwgBAAAABAjCAEA\n",
       "AADECEIAAAAAMYIQAAAAQIwgBAAAABAjCAEAAADECEIAAAAAMYIQAAAAQIwgBAAAABAjCAEAAADE\n",
       "CEIAAAAAMYIQAAAAQIwgBAAAABAjCAEAAADECEIAAAAAMYIQAAAAQIwgBAAAABAjCAEAAADECEIA\n",
       "AAAAMYIQAAAAQIwgBAAAABAjCAEAAADECEIAAAAAMYIQAAAAQIwgBAAAABAjCAEAAADECEIAAAAA\n",
       "MYIQAAAAQIwgBAAAABAjCAEAAADECEIAAAAAMYIQAAAAQIwgBAAAABAjCAEAAADECEIAAAAAMYIQ\n",
       "AAAAQIwgBAAAABAjCAEAAADECEIAAAAAMYIQAAAAQIwgBAAAABAjCAEAAADECEIAAAAAMYIQAAAA\n",
       "QIwgBAAAABAjCAEAAADECEIAAAAAMYIQAAAAQIwgBAAAABAjCAEAAADECEIAAAAAMYIQAAAAQIwg\n",
       "BAAAABAjCAEAAADECEIAAAAAMYIQAAAAQIwgBAAAABAjCAEAAADECEIAAAAAMYIQAAAAQIwgBAAA\n",
       "ABAjCAEAAADECEIAAAAAMYfTfjN7A3fouF7NnjDEdeSc70/H2RPu3ZubR7MnDPHzh4vZE4b44dWX\n",
       "sycM8eK7f82eMMTF8tfZE7gjV9+dZk8YovIMqnymvAl8TXm/P/y73rIsy/XWuLsfl8Y5b/fr2ROG\n",
       "KLQSvxACAAAAiBGEAAAAAGIEIQAAAIAYQQgAAAAgRhACAAAAiBGEAAAAAGIEIQAAAIAYQQgAAAAg\n",
       "RhACAAAAiBGEAAAAAGIEIQAAAIAYQQgAAAAgRhACAAAAiBGEAAAAAGIEIQAAAIAYQQgAAAAgRhAC\n",
       "AAAAiBGEAAAAAGIEIQAAAIAYQQgAAAAgRhACAAAAiBGEAAAAAGIEIQAAAIAYQQgAAAAgRhACAAAA\n",
       "iBGEAAAAAGIEIQAAAIAYQQgAAAAgRhACAAAAiBGEAAAAAGIEIQAAAIAYQQgAAAAgRhACAAAAiBGE\n",
       "AAAAAGIEIQAAAIAYQQgAAAAgRhACAAAAiBGEAAAAAGIEIQAAAIAYQQgAAAAgRhACAAAAiBGEAAAA\n",
       "AGIEIQAAAIAYQQgAAAAgRhACAAAAiBGEAAAAAGIEIQAAAIAYQQgAAAAgRhACAAAAiBGEAAAAAGIE\n",
       "IQAAAIAYQQgAAAAgRhACAAAAiBGEAAAAAGIEIQAAAIAYQQgAAAAgRhACAAAAiDncnD7M3jDEth5n\n",
       "T+AObdv57AlD/LZdzp5w7365fjR7whDfvzvMnjDEpz99NXvCGH/70+wFQ3z9zx9nT+CO/PDqy9kT\n",
       "hvhH5BlU+Uz55frh399/297OnjDE/y6/zZ4wxNXp3ewJQ9yc3s+eMMRpf/jPIL8QAgAAAIgRhAAA\n",
       "AABiBCEAAACAGEEIAAAAIEYQAgAAAIgRhAAAAABiBCEAAACAGEEIAAAAIEYQAgAAAIgRhAAAAABi\n",
       "BCEAAACAGEEIAAAAIEYQAgAAAIgRhAAAAABiBCEAAACAGEEIAAAAIEYQAgAAAIgRhAAAAABiBCEA\n",
       "AACAGEEIAAAAIEYQAgAAAIgRhAAAAABiBCEAAACAGEEIAAAAIEYQAgAAAIgRhAAAAABiBCEAAACA\n",
       "GEEIAAAAIEYQAgAAAIgRhAAAAABiBCEAAACAGEEIAAAAIEYQAgAAAIgRhAAAAABiBCEAAACAGEEI\n",
       "AAAAIEYQAgAAAIgRhAAAAABiBCEAAACAGEEIAAAAIEYQAgAAAIgRhAAAAABiBCEAAACAGEEIAAAA\n",
       "IEYQAgAAAIgRhAAAAABiBCEAAACAGEEIAAAAIEYQAgAAAIgRhAAAAABiBCEAAACAGEEIAAAAIEYQ\n",
       "AgAAAIgRhAAAAABiBCEAAACAGEEIAAAAIEYQAgAAAIg5HE/vZ28YYl3PZk8YYl9uZ0/gDr3eHv77\n",
       "9nA6nz1hiMO757MnDHI5e8AQr2/+OHvCEF/8+nL2BO7Izx8uZk8Y4vt3h9kThvj+XeO+99P+ZvaE\n",
       "e/d6+3X2hCHen/5n9oQhrk9vZ08Y4ni6mj1hiH1/+M9avxACAAAAiBGEAAAAAGIEIQAAAIAYQQgA\n",
       "AAAgRhACAAAAiBGEAAAAAGIEIQAAAIAYQQgAAAAgRhACAAAAiBGEAAAAAGIEIQAAAIAYQQgAAAAg\n",
       "RhACAAAAiBGEAAAAAGIEIQAAAIAYQQgAAAAgRhACAAAAiBGEAAAAAGIEIQAAAIAYQQgAAAAgRhAC\n",
       "AAAAiBGEAAAAAGIEIQAAAIAYQQgAAAAgRhACAAAAiBGEAAAAAGIEIQAAAIAYQQgAAAAgRhACAAAA\n",
       "iBGEAAAAAGIEIQAAAIAYQQgAAAAgRhACAAAAiBGEAAAAAGIEIQAAAIAYQQgAAAAgRhACAAAAiBGE\n",
       "AAAAAGIEIQAAAIAYQQgAAAAgRhACAAAAiBGEAAAAAGIEIQAAAIAYQQgAAAAgRhACAAAAiBGEAAAA\n",
       "AGIEIQAAAIAYQQgAAAAgRhACAAAAiBGEAAAAAGIEIQAAAIAYQQgAAAAgRhACAAAAiBGEAAAAAGIE\n",
       "IQAAAIAYQQgAAAAgRhACAAAAiDncnj7M3jDEujba177fzp4wxL6fZk/grmzr7AVjRN6yx7fPZk8Y\n",
       "4vX1YfaEIZ6dN85Z8OZm9oIxfrk+zp4wxE/7m9kThvh1++/ZE+7d29OvsycMcXX72+wJQxwj361P\n",
       "+/XsCUMUvnM2KgkAAAAAHwlCAAAAADGCEAAAAECMIAQAAAAQIwgBAAAAxAhCAAAAADGCEAAAAECM\n",
       "IAQAAAAQIwgBAAAAxAhCAAAAADGCEAAAAECMIAQAAAAQIwgBAAAAxAhCAAAAADGCEAAAAECMIAQA\n",
       "AAAQIwgBAAAAxAhCAAAAADGCEAAAAECMIAQAAAAQIwgBAAAAxAhCAAAAADGCEAAAAECMIAQAAAAQ\n",
       "IwgBAAAAxAhCAAAAADGCEAAAAECMIAQAAAAQIwgBAAAAxAhCAAAAADGCEAAAAECMIAQAAAAQIwgB\n",
       "AAAAxAhCAAAAADGCEAAAAECMIAQAAAAQIwgBAAAAxAhCAAAAADGCEAAAAECMIAQAAAAQIwgBAAAA\n",
       "xAhCAAAAADGCEAAAAECMIAQAAAAQIwgBAAAAxAhCAAAAADGCEAAAAECMIAQAAAAQIwgBAAAAxAhC\n",
       "AAAAADGCEAAAAECMIAQAAAAQIwgB8H/t2tFqW0cARdGRIxoK/f+/LLTBTaxImulb3gP2DHiv9QVn\n",
       "sKR7Z2MAACBGEAIAAACIEYQAAAAAYgQhAAAAgJjrXLfTG7a4rEb7Wpfn6QlbrDFPT4Df87JOL9ji\n",
       "se6nJ2zx+vbX6Qlb/Hm7np7AO/mxHqcnbPHt5fX0hC3+ffn79IQtXufnP+ft+e30hC3u8/vpCVvM\n",
       "2bhbr8gzpXDnbFQSAAAAAH4RhAAAAABiBCEAAACAGEEIAAAAIEYQAgAAAIgRhAAAAABiBCEAAACA\n",
       "GEEIAAAAIEYQAgAAAIgRhAAAAABiBCEAAACAGEEIAAAAIEYQAgAAAIgRhAAAAABiBCEAAACAGEEI\n",
       "AAAAIEYQAgAAAIgRhAAAAABiBCEAAACAGEEIAAAAIEYQAgAAAIgRhAAAAABiBCEAAACAGEEIAAAA\n",
       "IEYQAgAAAIgRhAAAAABiBCEAAACAGEEIAAAAIEYQAgAAAIgRhAAAAABiBCEAAACAGEEIAAAAIEYQ\n",
       "AgAAAIgRhAAAAABiBCEAAACAGEEIAAAAIEYQAgAAAIgRhAAAAABiBCEAAACAGEEIAAAAIEYQAgAA\n",
       "AIgRhAAAAABiBCEAAACAGEEIAAAAIEYQAgAAAIgRhAAAAABiBCEAAACAGEEIAAAAIEYQAgAAAIgR\n",
       "hAAAAABiBCEAAACAGEEIAAAAIEYQAgAAAIgRhAAAAABiBCEAAACAGEEIAAAAIEYQAgAAAIi5rnU/\n",
       "vWGTRvtaY56esMdcpxdsUfl28nk8X56nJ2zx9uXt9IQt/lhfT0/gnfx8uZ2esMX38e30hC1+zH9O\n",
       "T9ji9vz8f8/7/H56whZzNp6bs3K3Xo33vcLdulFJAAAAAPhFEAIAAACIEYQAAAAAYgQhAAAAgBhB\n",
       "CAAAACBGEAIAAACIEYQAAAAAYgQhAAAAgBhBCAAAACBGEAIAAACIEYQAAAAAYgQhAAAAgBhBCAAA\n",
       "ACBGEAIAAACIEYQAAAAAYgQhAAAAgBhBCAAAACBGEAIAAACIEYQAAAAAYgQhAAAAgBhBCAAAACBG\n",
       "EAIAAACIEYQAAAAAYgQhAAAAgBhBCAAAACBGEAIAAACIEYQAAAAAYgQhAAAAgBhBCAAAACBGEAIA\n",
       "AACIEYQAAAAAYgQhAAAAgBhBCAAAACBGEAIAAACIEYQAAAAAYgQhAAAAgBhBCAAAACBGEAIAAACI\n",
       "EYQAAAAAYgQhAAAAgBhBCAAAACBGEAIAAKxUDv8AAAXnSURBVACIEYQAAAAAYgQhAAAAgBhBCAAA\n",
       "ACBGEAIAAACIEYQAAAAAYgQhAAAAgBhBCAAAACBGEAIAAACIEYQAAAAAYgQhAAAAgBhBCAAAACBG\n",
       "EAIAAACIEYQAAAAAYgQhAAAAgBhBCAAAACDmOtY8vWGLdVmnJ+yxGudsfGrHGPNyesGHe0S69OXS\n",
       "OGfFfLmfnrDF9fL19ATeyWPcTk/Y4jb/Oz1hi5/z9fSELR7z7fSEDzdn47s5V+O5udbj9IRNIrex\n",
       "wN3aDQUAAAAgRhACAAAAiBGEAAAAAGIEIQAAAIAYQQgAAAAgRhACAAAAiBGEAAAAAGIEIQAAAIAY\n",
       "QQgAAAAgRhACAAAAiBGEAAAAAGIEIQAAAIAYQQgAAAAgRhACAAAAiBGEAAAAAGIEIQAAAIAYQQgA\n",
       "AAAgRhACAAAAiBGEAAAAAGIEIQAAAIAYQQgAAAAgRhACAAAAiBGEAAAAAGIEIQAAAIAYQQgAAAAg\n",
       "RhACAAAAiBGEAAAAAGIEIQAAAIAYQQgAAAAgRhACAAAAiBGEAAAAAGIEIQAAAIAYQQgAAAAgRhAC\n",
       "AAAAiBGEAAAAAGIEIQAAAIAYQQgAAAAgRhACAAAAiBGEAAAAAGIEIQAAAIAYQQgAAAAgRhACAAAA\n",
       "iBGEAAAAAGIEIQAAAIAYQQgAAAAgRhACAAAAiBGEAAAAAGIEIQAAAIAYQQgAAAAgRhACAAAAiBGE\n",
       "AAAAAGIEIQAAAIAYQQgAAAAgRhACAAAAiBGEAAAAAGIEIQAAAIAYQQgAAAAg5rrGPL1hi8u6nJ6w\n",
       "R+SYYz1PL9hijcfpCR9urp+nJ2zxmF9OT9jiMhrnrHhc7qcn8E6ekd/a+/xxesIWj3k7PWGLwjvC\n",
       "Wp//XW+MkXl3H5G79ViNc66xTk/4cP5DCAAAACBGEAIAAACIEYQAAAAAYgQhAAAAgBhBCAAAACBG\n",
       "EAIAAACIEYQAAAAAYgQhAAAAgBhBCAAAACBGEAIAAACIEYQAAAAAYgQhAAAAgBhBCAAAACBGEAIA\n",
       "AACIEYQAAAAAYgQhAAAAgBhBCAAAACBGEAIAAACIEYQAAAAAYgQhAAAAgBhBCAAAACBGEAIAAACI\n",
       "EYQAAAAAYgQhAAAAgBhBCAAAACBGEAIAAACIEYQAAAAAYgQhAAAAgBhBCAAAACBGEAIAAACIEYQA\n",
       "AAAAYgQhAAAAgBhBCAAAACBGEAIAAACIEYQAAAAAYgQhAAAAgBhBCAAAACBGEAIAAACIEYQAAAAA\n",
       "YgQhAAAAgBhBCAAAACBGEAIAAACIEYQAAAAAYgQhAAAAgBhBCAAAACBGEAIAAACIEYQAAAAAYgQh\n",
       "AAAAgBhBCAAAACBGEAIAAACIEYQAAAAAYgQhAAAAgBhBCAAAACBGEAIAAACIEYQAAAAAYgQhAAAA\n",
       "gBhBCAAAACDmenrALmus0xO2uKzGOddlnp6wyec/51qf/4xjjLHW8/SELeZ6nJ6wxVz30xPgt1Q+\n",
       "s5XfoMozpfCOsALvemN0zjkqd7HI3brAfwgBAAAAxAhCAAAAADGCEAAAAECMIAQAAAAQIwgBAAAA\n",
       "xAhCAAAAADGCEAAAAECMIAQAAAAQIwgBAAAAxAhCAAAAADGCEAAAAECMIAQAAAAQIwgBAAAAxAhC\n",
       "AAAAADGCEAAAAECMIAQAAAAQIwgBAAAAxAhCAAAAADGCEAAAAECMIAQAAAAQIwgBAAAAxAhCAAAA\n",
       "ADGCEAAAAECMIAQAAAAQIwgBAAAAxAhCAAAAADGCEAAAAECMIAQAAAAQIwgBAAAAxAhCAAAAADGC\n",
       "EAAAAECMIAQAAAAQIwgBAAAAxAhCAAAAADGCEAAAAECMIAQAAAAQIwgBAAAAxAhCAAAAADGCEAAA\n",
       "AECMIAQAAAAQIwgBAAAAxAhCAAAAADGCEAAAAECMIAQAAAAQIwgBAAAAxAhCAAAAADGCEAAAAECM\n",
       "IAQAAAAQIwgBAAAAxAhCAAAAADGCEAAAAECMIAQAAAAQIwgBAAAAxAhCAAAAADGCEAAAAECMIAQA\n",
       "AAAQ8z9rSuoT0C8+iwAAAABJRU5ErkJggg==\n",
       "\" transform=\"translate(566, 195)\"/>\n",
       "</g>\n",
       "<g clip-path=\"url(#clip312)\">\n",
       "<image width=\"72\" height=\"1156\" xlink:href=\"data:image/png;base64,\n",
       "iVBORw0KGgoAAAANSUhEUgAAAEgAAASECAYAAADHiEmbAAAKO0lEQVR4nO3dwY3sRhAFQY5Q/lsh\n",
       "L6XfLQtUeSQPERYMEg9Ek5zZ/f17/r4P/+uvtz/A1wkUBAoChTn337c/w6dZUBAoCBQECnPvn7c/\n",
       "w6dZUBAoCBQcFIMFBYGCQEGgMNdFemVBQaAgUJh7XIM2FhQECgIFgYKDYrCgIFAQKLgGBQsKAgWB\n",
       "gkDB3XywoCBQECjM46C4sqAgUBAoCBTczQcLCgIFgcI8blZXFhQECgIFgcI855+3P8OnWVAQKAgU\n",
       "PFEMFhQECgIFgYK7+WBBQaAgUHANChYUBAoCBYGCu/lgQUGgIFCYn4PiyoKCQEGgIFCY5/g7ihsL\n",
       "CgIFgYKDYrCgIFAQKAgUHBSDBQWBgkDBq+dgQUGgIFAQKMzPQXFlQUGgIFDw9ZdgQUGgIFAQKDgo\n",
       "BgsKAgWBgrcawYKCQEGgIFBwUAwWFAQKAgUHxWBBQaAgUBAoOCgGCwoCBYHCPOe8/Rk+zYKCQEGg\n",
       "IFBwUAwWFAQKAgVPFIMFBYGCQEGg4CIdLCgIFAQKAoX5eeS6sqAgUBAoOCgGCwoCBYGCQMG7+WBB\n",
       "QaAgUHCzGiwoCBQECgIFd/PBgoJAQaDgZjVYUBAoCBQECi7SwYKCQEGg4McswYKCQEGgIFBwUAwW\n",
       "FAQKAgXXoGBBQaAgUBAouEgHCwoCBYGCa1CwoCBQECgIFOa5LtIbCwoCBYGCg2KwoCBQECgIFFyk\n",
       "gwUFgYJAwTUoWFAQKAgUBArznPv2Z/g0CwoCBYGCg2KwoCBQECgIFBwUgwUFgYJAwUExWFAQKAgU\n",
       "BAoOisGCgkBBoDCPc+LKgoJAQaAgUJjnOihuLCgIFAQKDorBgoJAQaAgUHCRDhYUBAoChfGHF3YW\n",
       "FAQKAgWBgoNisKAgUBAouAYFCwoCBYGCQGGe83v7M3yaBQWBgkBh7nUN2lhQECgIFAQK7uaDBQWB\n",
       "gkDBzWqwoCBQECgIFOYejTbqBIGCQEGg4CQdLCgIFAQK83jts7KgIFAQKAgU5jooriwoCBQECvN4\n",
       "orhSJwgUBAoCBQfFYEFBoCBQ8EQxWFAQKAgUBAq+HxTUCQIFgYKvvwQLCgIFgYJAwRPFYEFBoCBQ\n",
       "mHs12qgTBAoCBYGCu/lgQUGgIFBwsxosKAgUBAoChXncza/UCQIFgYKDYrCgIFAQKAgUXKSDBQWB\n",
       "gkDBj1mCBQWBgkBBoODHLEGdIFAQKPj3WcGCgkBBoCBQ8EQxWFAQKAgU/B3FoE4QKAgUBAru5oMF\n",
       "BYGCQMHNarCgIFAQKAgUHBSDBQWBgkDB11+COkGgIFAQKDgoBgsKAgWBgieKwYKCQEGgIFBwUAwW\n",
       "FAQKAgV/yzVYUBAoCBQECv4rQlAnCBQECm5WgwUFgYJAQaDgtU+woCBQECgIFJykgwUFgYJAYY5r\n",
       "0MqCgkBBoCBQ8GufoE4QKAgU3KwGCwoCBYGCQMFFOlhQECgIFLx6DhYUBAoCBYGCg2KwoCBQECi4\n",
       "BgULCgIFgYJAwS8OgzpBoCBQmOOJ4sqCgkBBoCBQcDcfLCgIFAQKrkHBgoJAQaAgUHCRDhYUBAoC\n",
       "Bb96DhYUBAoCBYGCg2KwoCBQECi4BgULCgIFgYJAwXcUgzpBoCBQ8B3FYEFBoCBQECi4mw8WFAQK\n",
       "AgXXoGBBQaAgUBAo+H5QsKAgUBAoOCgGCwoCBYGCQGHu4yK9saAgUBAouFkNFhQECgIFgYK7+WBB\n",
       "QaAgUHBQDBYUBAoCBYGCg2KwoCBQECg4KAYLCgIFgYJAwUExWFAQKAgUXIOCBQWBgkBBoDDHdxRX\n",
       "FhQECgIFB8VgQUGgIFAQKHjtEywoCBQECgKFufftj/BtFhQECgIFB8VgQUGgIFAQKPjTFMGCgkBB\n",
       "oOCgGCwoCBQECgIF7+aDBQWBgkDBdxSDBQWBgkBBoODVc7CgIFAQKHiiGCwoCBQECgIFTxSDBQWB\n",
       "gkDBE8VgQUGgIFAQKLibDxYUBAoCBW81ggUFgYJAQaDgbj5YUBAoCBS81QgWFAQKAgWBwpy3P8HH\n",
       "WVAQKAgUHBSDBQWBgkBBoODVc7CgIFAQKLhZDRYUBAoCBYGCu/lgQUGgIFBwUAwWFAQKAgWBgoNi\n",
       "sKAgUBAoeKsRLCgIFAQKAoXxg8OdBQWBgkDBQTFYUBAoCBQECl77BAsKAgWBgrcawYKCQEGgIFBw\n",
       "UAwWFAQKAgUHxWBBQaAgUBAozPHueWVBQaAgUHCzGiwoCBQECgIFd/PBgoJAQaAgUHCSDhYUBAoC\n",
       "Bf8+K1hQECgIFAQK/n1WsKAgUBAoePUcLCgIFAQKAgV/miJYUBAoCBT8aYpgQUGgIFAQKHjtEywo\n",
       "CBQECr7+EiwoCBQECgIFXyQPFhQECgIFB8VgQUGgIFAQKPh+ULCgIFAQKPj6S7CgIFAQKAgUHBSD\n",
       "BQWBgkDB11+CBQWBgkBBoOBXz8GCgkBBoOBmNVhQECgIFAQKXvsECwoCBYGCg2KwoCBQECgIFBwU\n",
       "gwUFgYJAwUExWFAQKAgUBAou0sGCgkBBoOBmNVhQECgIFAQKDorBgoJAQaDgoBgsKAgUBAoCBQfF\n",
       "YEFBoCBQ8KvnYEFBoCBQECj4Y7fBgoJAQaDgZjVYUBAoCBQECnMfV+mNBQWBgkDBQTFYUBAoCBQE\n",
       "Cl77BAsKAgWBgrcawYKCQEGgIFBwNx8sKAgUBAoCBa99ggUFgYJAwUExWFAQKAgUBAp+Fh4sKAgU\n",
       "BApzvHteWVAQKAgUBArezQcLCgIFgcJcB8WVBQWBgkBBoOCgGCwoCBQECp4oBgsKAgWBgkDBq+dg\n",
       "QUGgIFCY43vSKwsKAgWBgkDB3XywoCBQECj4QV2woCBQECgIFLx6DhYUBAoCBU8UgwUFgYJAQaDg\n",
       "bj5YUBAoCBTmPG5XNxYUBAoCBYGCu/lgQUGgIFBwDQoWFAQKAgWBgieKwYKCQEGg4IlisKAgUBAo\n",
       "CBTm/BwUNxYUBAoCBQfFYEFBoCBQECjMdZFeWVAQKAgUHBSDBQWBgkBBoDDn5yK9saAgUBAoOCgG\n",
       "CwoCBYGCQMETxWBBQaAgUHBQDBYUBAoCBYGCi3SwoCBQECh4qxEsKAgUBAoChbnPn7c/w6dZUBAo\n",
       "CBQECu7mgwUFgYJAwavnYEFBoCBQECjMue7mNxYUBAoCBQfFYEFBoCBQECjM8dpnZUFBoCBQcFAM\n",
       "FhQECgIFgYKDYrCgIFAQKMy9DoobCwoCBYGCQMHdfLCgIFAQKPj6S7CgIFAQKAgUHBSDBQWBgkBh\n",
       "roPiyoKCQEGgIFBwUAwWFAQKAoU5Xj2vLCgIFAQKAgV/wyxYUBAoCBR8RzFYUBAoCBQECp4oBgsK\n",
       "AgWBgoNisKAgUBAoCBRcpIMFBYGCQMFbjWBBQaAgUBAoOCgGCwoCBYHCPN5qrCwoCBQECgIFB8Vg\n",
       "QUGgIFDw9ZdgQUGgIFAQKMzjoLiyoCBQECh49RwsKAgUBAoCBa99ggUFgYJAwc1qsKAgUBAoCBTm\n",
       "Pvftz/BpFhQECgIFN6vBgoJAQaAgUJjHQXFlQUGgIFD4D4AX7Bc4PvhYAAAAAElFTkSuQmCC\n",
       "\" transform=\"translate(2161, 195)\"/>\n",
       "</g>\n",
       "<path clip-path=\"url(#clip310)\" d=\"M2280.7 1226.89 Q2277.09 1226.89 2275.26 1230.46 Q2273.45 1234 2273.45 1241.13 Q2273.45 1248.24 2275.26 1251.8 Q2277.09 1255.34 2280.7 1255.34 Q2284.33 1255.34 2286.14 1251.8 Q2287.97 1248.24 2287.97 1241.13 Q2287.97 1234 2286.14 1230.46 Q2284.33 1226.89 2280.7 1226.89 M2280.7 1223.19 Q2286.51 1223.19 2289.57 1227.8 Q2292.64 1232.38 2292.64 1241.13 Q2292.64 1249.86 2289.57 1254.46 Q2286.51 1259.05 2280.7 1259.05 Q2274.89 1259.05 2271.81 1254.46 Q2268.76 1249.86 2268.76 1241.13 Q2268.76 1232.38 2271.81 1227.8 Q2274.89 1223.19 2280.7 1223.19 Z\" fill=\"#000000\" fill-rule=\"nonzero\" fill-opacity=\"1\" /><path clip-path=\"url(#clip310)\" d=\"M2300.86 1252.5 L2305.75 1252.5 L2305.75 1258.38 L2300.86 1258.38 L2300.86 1252.5 Z\" fill=\"#000000\" fill-rule=\"nonzero\" fill-opacity=\"1\" /><path clip-path=\"url(#clip310)\" d=\"M2325.93 1226.89 Q2322.32 1226.89 2320.49 1230.46 Q2318.69 1234 2318.69 1241.13 Q2318.69 1248.24 2320.49 1251.8 Q2322.32 1255.34 2325.93 1255.34 Q2329.57 1255.34 2331.37 1251.8 Q2333.2 1248.24 2333.2 1241.13 Q2333.2 1234 2331.37 1230.46 Q2329.57 1226.89 2325.93 1226.89 M2325.93 1223.19 Q2331.74 1223.19 2334.8 1227.8 Q2337.88 1232.38 2337.88 1241.13 Q2337.88 1249.86 2334.8 1254.46 Q2331.74 1259.05 2325.93 1259.05 Q2320.12 1259.05 2317.04 1254.46 Q2313.99 1249.86 2313.99 1241.13 Q2313.99 1232.38 2317.04 1227.8 Q2320.12 1223.19 2325.93 1223.19 Z\" fill=\"#000000\" fill-rule=\"nonzero\" fill-opacity=\"1\" /><path clip-path=\"url(#clip310)\" d=\"M2346.9 1254.44 L2354.54 1254.44 L2354.54 1228.08 L2346.23 1229.74 L2346.23 1225.48 L2354.5 1223.82 L2359.17 1223.82 L2359.17 1254.44 L2366.81 1254.44 L2366.81 1258.38 L2346.9 1258.38 L2346.9 1254.44 Z\" fill=\"#000000\" fill-rule=\"nonzero\" fill-opacity=\"1\" /><path clip-path=\"url(#clip310)\" d=\"M2280.7 1095.7 Q2277.09 1095.7 2275.26 1099.26 Q2273.45 1102.8 2273.45 1109.93 Q2273.45 1117.04 2275.26 1120.6 Q2277.09 1124.15 2280.7 1124.15 Q2284.33 1124.15 2286.14 1120.6 Q2287.97 1117.04 2287.97 1109.93 Q2287.97 1102.8 2286.14 1099.26 Q2284.33 1095.7 2280.7 1095.7 M2280.7 1091.99 Q2286.51 1091.99 2289.57 1096.6 Q2292.64 1101.18 2292.64 1109.93 Q2292.64 1118.66 2289.57 1123.27 Q2286.51 1127.85 2280.7 1127.85 Q2274.89 1127.85 2271.81 1123.27 Q2268.76 1118.66 2268.76 1109.93 Q2268.76 1101.18 2271.81 1096.6 Q2274.89 1091.99 2280.7 1091.99 Z\" fill=\"#000000\" fill-rule=\"nonzero\" fill-opacity=\"1\" /><path clip-path=\"url(#clip310)\" d=\"M2300.86 1121.3 L2305.75 1121.3 L2305.75 1127.18 L2300.86 1127.18 L2300.86 1121.3 Z\" fill=\"#000000\" fill-rule=\"nonzero\" fill-opacity=\"1\" /><path clip-path=\"url(#clip310)\" d=\"M2325.93 1095.7 Q2322.32 1095.7 2320.49 1099.26 Q2318.69 1102.8 2318.69 1109.93 Q2318.69 1117.04 2320.49 1120.6 Q2322.32 1124.15 2325.93 1124.15 Q2329.57 1124.15 2331.37 1120.6 Q2333.2 1117.04 2333.2 1109.93 Q2333.2 1102.8 2331.37 1099.26 Q2329.57 1095.7 2325.93 1095.7 M2325.93 1091.99 Q2331.74 1091.99 2334.8 1096.6 Q2337.88 1101.18 2337.88 1109.93 Q2337.88 1118.66 2334.8 1123.27 Q2331.74 1127.85 2325.93 1127.85 Q2320.12 1127.85 2317.04 1123.27 Q2313.99 1118.66 2313.99 1109.93 Q2313.99 1101.18 2317.04 1096.6 Q2320.12 1091.99 2325.93 1091.99 Z\" fill=\"#000000\" fill-rule=\"nonzero\" fill-opacity=\"1\" /><path clip-path=\"url(#clip310)\" d=\"M2350.12 1123.24 L2366.44 1123.24 L2366.44 1127.18 L2344.5 1127.18 L2344.5 1123.24 Q2347.16 1120.49 2351.74 1115.86 Q2356.35 1111.21 2357.53 1109.86 Q2359.77 1107.34 2360.65 1105.6 Q2361.56 1103.84 2361.56 1102.15 Q2361.56 1099.4 2359.61 1097.66 Q2357.69 1095.93 2354.59 1095.93 Q2352.39 1095.93 2349.94 1096.69 Q2347.51 1097.46 2344.73 1099.01 L2344.73 1094.28 Q2347.55 1093.15 2350.01 1092.57 Q2352.46 1091.99 2354.5 1091.99 Q2359.87 1091.99 2363.06 1094.68 Q2366.26 1097.36 2366.26 1101.85 Q2366.26 1103.98 2365.45 1105.9 Q2364.66 1107.8 2362.55 1110.4 Q2361.97 1111.07 2358.87 1114.28 Q2355.77 1117.48 2350.12 1123.24 Z\" fill=\"#000000\" fill-rule=\"nonzero\" fill-opacity=\"1\" /><path clip-path=\"url(#clip310)\" d=\"M2280.7 964.498 Q2277.09 964.498 2275.26 968.063 Q2273.45 971.604 2273.45 978.734 Q2273.45 985.84 2275.26 989.405 Q2277.09 992.947 2280.7 992.947 Q2284.33 992.947 2286.14 989.405 Q2287.97 985.84 2287.97 978.734 Q2287.97 971.604 2286.14 968.063 Q2284.33 964.498 2280.7 964.498 M2280.7 960.794 Q2286.51 960.794 2289.57 965.401 Q2292.64 969.984 2292.64 978.734 Q2292.64 987.461 2289.57 992.067 Q2286.51 996.651 2280.7 996.651 Q2274.89 996.651 2271.81 992.067 Q2268.76 987.461 2268.76 978.734 Q2268.76 969.984 2271.81 965.401 Q2274.89 960.794 2280.7 960.794 Z\" fill=\"#000000\" fill-rule=\"nonzero\" fill-opacity=\"1\" /><path clip-path=\"url(#clip310)\" d=\"M2300.86 990.1 L2305.75 990.1 L2305.75 995.979 L2300.86 995.979 L2300.86 990.1 Z\" fill=\"#000000\" fill-rule=\"nonzero\" fill-opacity=\"1\" /><path clip-path=\"url(#clip310)\" d=\"M2325.93 964.498 Q2322.32 964.498 2320.49 968.063 Q2318.69 971.604 2318.69 978.734 Q2318.69 985.84 2320.49 989.405 Q2322.32 992.947 2325.93 992.947 Q2329.57 992.947 2331.37 989.405 Q2333.2 985.84 2333.2 978.734 Q2333.2 971.604 2331.37 968.063 Q2329.57 964.498 2325.93 964.498 M2325.93 960.794 Q2331.74 960.794 2334.8 965.401 Q2337.88 969.984 2337.88 978.734 Q2337.88 987.461 2334.8 992.067 Q2331.74 996.651 2325.93 996.651 Q2320.12 996.651 2317.04 992.067 Q2313.99 987.461 2313.99 978.734 Q2313.99 969.984 2317.04 965.401 Q2320.12 960.794 2325.93 960.794 Z\" fill=\"#000000\" fill-rule=\"nonzero\" fill-opacity=\"1\" /><path clip-path=\"url(#clip310)\" d=\"M2360.26 977.345 Q2363.62 978.063 2365.49 980.331 Q2367.39 982.6 2367.39 985.933 Q2367.39 991.049 2363.87 993.85 Q2360.35 996.651 2353.87 996.651 Q2351.7 996.651 2349.38 996.211 Q2347.09 995.794 2344.64 994.938 L2344.64 990.424 Q2346.58 991.558 2348.89 992.137 Q2351.21 992.715 2353.73 992.715 Q2358.13 992.715 2360.42 990.979 Q2362.74 989.243 2362.74 985.933 Q2362.74 982.877 2360.58 981.164 Q2358.45 979.428 2354.64 979.428 L2350.61 979.428 L2350.61 975.586 L2354.82 975.586 Q2358.27 975.586 2360.1 974.22 Q2361.93 972.831 2361.93 970.239 Q2361.93 967.577 2360.03 966.165 Q2358.15 964.729 2354.64 964.729 Q2352.71 964.729 2350.51 965.146 Q2348.32 965.563 2345.68 966.442 L2345.68 962.276 Q2348.34 961.535 2350.65 961.165 Q2352.99 960.794 2355.05 960.794 Q2360.38 960.794 2363.48 963.225 Q2366.58 965.632 2366.58 969.753 Q2366.58 972.623 2364.94 974.614 Q2363.29 976.581 2360.26 977.345 Z\" fill=\"#000000\" fill-rule=\"nonzero\" fill-opacity=\"1\" /><path clip-path=\"url(#clip310)\" d=\"M2280.7 833.3 Q2277.09 833.3 2275.26 836.864 Q2273.45 840.406 2273.45 847.536 Q2273.45 854.642 2275.26 858.207 Q2277.09 861.749 2280.7 861.749 Q2284.33 861.749 2286.14 858.207 Q2287.97 854.642 2287.97 847.536 Q2287.97 840.406 2286.14 836.864 Q2284.33 833.3 2280.7 833.3 M2280.7 829.596 Q2286.51 829.596 2289.57 834.202 Q2292.64 838.786 2292.64 847.536 Q2292.64 856.262 2289.57 860.869 Q2286.51 865.452 2280.7 865.452 Q2274.89 865.452 2271.81 860.869 Q2268.76 856.262 2268.76 847.536 Q2268.76 838.786 2271.81 834.202 Q2274.89 829.596 2280.7 829.596 Z\" fill=\"#000000\" fill-rule=\"nonzero\" fill-opacity=\"1\" /><path clip-path=\"url(#clip310)\" d=\"M2300.86 858.901 L2305.75 858.901 L2305.75 864.781 L2300.86 864.781 L2300.86 858.901 Z\" fill=\"#000000\" fill-rule=\"nonzero\" fill-opacity=\"1\" /><path clip-path=\"url(#clip310)\" d=\"M2325.93 833.3 Q2322.32 833.3 2320.49 836.864 Q2318.69 840.406 2318.69 847.536 Q2318.69 854.642 2320.49 858.207 Q2322.32 861.749 2325.93 861.749 Q2329.57 861.749 2331.37 858.207 Q2333.2 854.642 2333.2 847.536 Q2333.2 840.406 2331.37 836.864 Q2329.57 833.3 2325.93 833.3 M2325.93 829.596 Q2331.74 829.596 2334.8 834.202 Q2337.88 838.786 2337.88 847.536 Q2337.88 856.262 2334.8 860.869 Q2331.74 865.452 2325.93 865.452 Q2320.12 865.452 2317.04 860.869 Q2313.99 856.262 2313.99 847.536 Q2313.99 838.786 2317.04 834.202 Q2320.12 829.596 2325.93 829.596 Z\" fill=\"#000000\" fill-rule=\"nonzero\" fill-opacity=\"1\" /><path clip-path=\"url(#clip310)\" d=\"M2358.94 834.295 L2347.14 852.744 L2358.94 852.744 L2358.94 834.295 M2357.71 830.221 L2363.59 830.221 L2363.59 852.744 L2368.52 852.744 L2368.52 856.633 L2363.59 856.633 L2363.59 864.781 L2358.94 864.781 L2358.94 856.633 L2343.34 856.633 L2343.34 852.119 L2357.71 830.221 Z\" fill=\"#000000\" fill-rule=\"nonzero\" fill-opacity=\"1\" /><path clip-path=\"url(#clip310)\" d=\"M2280.7 702.101 Q2277.09 702.101 2275.26 705.666 Q2273.45 709.208 2273.45 716.337 Q2273.45 723.444 2275.26 727.009 Q2277.09 730.55 2280.7 730.55 Q2284.33 730.55 2286.14 727.009 Q2287.97 723.444 2287.97 716.337 Q2287.97 709.208 2286.14 705.666 Q2284.33 702.101 2280.7 702.101 M2280.7 698.398 Q2286.51 698.398 2289.57 703.004 Q2292.64 707.587 2292.64 716.337 Q2292.64 725.064 2289.57 729.671 Q2286.51 734.254 2280.7 734.254 Q2274.89 734.254 2271.81 729.671 Q2268.76 725.064 2268.76 716.337 Q2268.76 707.587 2271.81 703.004 Q2274.89 698.398 2280.7 698.398 Z\" fill=\"#000000\" fill-rule=\"nonzero\" fill-opacity=\"1\" /><path clip-path=\"url(#clip310)\" d=\"M2300.86 727.703 L2305.75 727.703 L2305.75 733.583 L2300.86 733.583 L2300.86 727.703 Z\" fill=\"#000000\" fill-rule=\"nonzero\" fill-opacity=\"1\" /><path clip-path=\"url(#clip310)\" d=\"M2325.93 702.101 Q2322.32 702.101 2320.49 705.666 Q2318.69 709.208 2318.69 716.337 Q2318.69 723.444 2320.49 727.009 Q2322.32 730.55 2325.93 730.55 Q2329.57 730.55 2331.37 727.009 Q2333.2 723.444 2333.2 716.337 Q2333.2 709.208 2331.37 705.666 Q2329.57 702.101 2325.93 702.101 M2325.93 698.398 Q2331.74 698.398 2334.8 703.004 Q2337.88 707.587 2337.88 716.337 Q2337.88 725.064 2334.8 729.671 Q2331.74 734.254 2325.93 734.254 Q2320.12 734.254 2317.04 729.671 Q2313.99 725.064 2313.99 716.337 Q2313.99 707.587 2317.04 703.004 Q2320.12 698.398 2325.93 698.398 Z\" fill=\"#000000\" fill-rule=\"nonzero\" fill-opacity=\"1\" /><path clip-path=\"url(#clip310)\" d=\"M2346.14 699.023 L2364.5 699.023 L2364.5 702.958 L2350.42 702.958 L2350.42 711.43 Q2351.44 711.083 2352.46 710.921 Q2353.48 710.736 2354.5 710.736 Q2360.28 710.736 2363.66 713.907 Q2367.04 717.078 2367.04 722.495 Q2367.04 728.073 2363.57 731.175 Q2360.1 734.254 2353.78 734.254 Q2351.6 734.254 2349.33 733.884 Q2347.09 733.513 2344.68 732.772 L2344.68 728.073 Q2346.76 729.208 2348.99 729.763 Q2351.21 730.319 2353.69 730.319 Q2357.69 730.319 2360.03 728.212 Q2362.37 726.106 2362.37 722.495 Q2362.37 718.884 2360.03 716.777 Q2357.69 714.671 2353.69 714.671 Q2351.81 714.671 2349.94 715.087 Q2348.08 715.504 2346.14 716.384 L2346.14 699.023 Z\" fill=\"#000000\" fill-rule=\"nonzero\" fill-opacity=\"1\" /><path clip-path=\"url(#clip310)\" d=\"M2280.7 570.903 Q2277.09 570.903 2275.26 574.468 Q2273.45 578.009 2273.45 585.139 Q2273.45 592.246 2275.26 595.81 Q2277.09 599.352 2280.7 599.352 Q2284.33 599.352 2286.14 595.81 Q2287.97 592.246 2287.97 585.139 Q2287.97 578.009 2286.14 574.468 Q2284.33 570.903 2280.7 570.903 M2280.7 567.199 Q2286.51 567.199 2289.57 571.806 Q2292.64 576.389 2292.64 585.139 Q2292.64 593.866 2289.57 598.472 Q2286.51 603.056 2280.7 603.056 Q2274.89 603.056 2271.81 598.472 Q2268.76 593.866 2268.76 585.139 Q2268.76 576.389 2271.81 571.806 Q2274.89 567.199 2280.7 567.199 Z\" fill=\"#000000\" fill-rule=\"nonzero\" fill-opacity=\"1\" /><path clip-path=\"url(#clip310)\" d=\"M2300.86 596.505 L2305.75 596.505 L2305.75 602.384 L2300.86 602.384 L2300.86 596.505 Z\" fill=\"#000000\" fill-rule=\"nonzero\" fill-opacity=\"1\" /><path clip-path=\"url(#clip310)\" d=\"M2325.93 570.903 Q2322.32 570.903 2320.49 574.468 Q2318.69 578.009 2318.69 585.139 Q2318.69 592.246 2320.49 595.81 Q2322.32 599.352 2325.93 599.352 Q2329.57 599.352 2331.37 595.81 Q2333.2 592.246 2333.2 585.139 Q2333.2 578.009 2331.37 574.468 Q2329.57 570.903 2325.93 570.903 M2325.93 567.199 Q2331.74 567.199 2334.8 571.806 Q2337.88 576.389 2337.88 585.139 Q2337.88 593.866 2334.8 598.472 Q2331.74 603.056 2325.93 603.056 Q2320.12 603.056 2317.04 598.472 Q2313.99 593.866 2313.99 585.139 Q2313.99 576.389 2317.04 571.806 Q2320.12 567.199 2325.93 567.199 Z\" fill=\"#000000\" fill-rule=\"nonzero\" fill-opacity=\"1\" /><path clip-path=\"url(#clip310)\" d=\"M2356.67 583.241 Q2353.52 583.241 2351.67 585.394 Q2349.84 587.546 2349.84 591.296 Q2349.84 595.023 2351.67 597.199 Q2353.52 599.352 2356.67 599.352 Q2359.82 599.352 2361.65 597.199 Q2363.5 595.023 2363.5 591.296 Q2363.5 587.546 2361.65 585.394 Q2359.82 583.241 2356.67 583.241 M2365.95 568.588 L2365.95 572.847 Q2364.2 572.014 2362.39 571.574 Q2360.61 571.135 2358.85 571.135 Q2354.22 571.135 2351.76 574.259 Q2349.33 577.384 2348.99 583.704 Q2350.35 581.69 2352.41 580.625 Q2354.47 579.537 2356.95 579.537 Q2362.16 579.537 2365.17 582.709 Q2368.2 585.857 2368.2 591.296 Q2368.2 596.62 2365.05 599.838 Q2361.9 603.056 2356.67 603.056 Q2350.68 603.056 2347.51 598.472 Q2344.33 593.866 2344.33 585.139 Q2344.33 576.945 2348.22 572.084 Q2352.11 567.199 2358.66 567.199 Q2360.42 567.199 2362.2 567.547 Q2364.01 567.894 2365.95 568.588 Z\" fill=\"#000000\" fill-rule=\"nonzero\" fill-opacity=\"1\" /><path clip-path=\"url(#clip310)\" d=\"M2280.7 439.705 Q2277.09 439.705 2275.26 443.27 Q2273.45 446.811 2273.45 453.941 Q2273.45 461.047 2275.26 464.612 Q2277.09 468.154 2280.7 468.154 Q2284.33 468.154 2286.14 464.612 Q2287.97 461.047 2287.97 453.941 Q2287.97 446.811 2286.14 443.27 Q2284.33 439.705 2280.7 439.705 M2280.7 436.001 Q2286.51 436.001 2289.57 440.608 Q2292.64 445.191 2292.64 453.941 Q2292.64 462.668 2289.57 467.274 Q2286.51 471.857 2280.7 471.857 Q2274.89 471.857 2271.81 467.274 Q2268.76 462.668 2268.76 453.941 Q2268.76 445.191 2271.81 440.608 Q2274.89 436.001 2280.7 436.001 Z\" fill=\"#000000\" fill-rule=\"nonzero\" fill-opacity=\"1\" /><path clip-path=\"url(#clip310)\" d=\"M2300.86 465.306 L2305.75 465.306 L2305.75 471.186 L2300.86 471.186 L2300.86 465.306 Z\" fill=\"#000000\" fill-rule=\"nonzero\" fill-opacity=\"1\" /><path clip-path=\"url(#clip310)\" d=\"M2325.93 439.705 Q2322.32 439.705 2320.49 443.27 Q2318.69 446.811 2318.69 453.941 Q2318.69 461.047 2320.49 464.612 Q2322.32 468.154 2325.93 468.154 Q2329.57 468.154 2331.37 464.612 Q2333.2 461.047 2333.2 453.941 Q2333.2 446.811 2331.37 443.27 Q2329.57 439.705 2325.93 439.705 M2325.93 436.001 Q2331.74 436.001 2334.8 440.608 Q2337.88 445.191 2337.88 453.941 Q2337.88 462.668 2334.8 467.274 Q2331.74 471.857 2325.93 471.857 Q2320.12 471.857 2317.04 467.274 Q2313.99 462.668 2313.99 453.941 Q2313.99 445.191 2317.04 440.608 Q2320.12 436.001 2325.93 436.001 Z\" fill=\"#000000\" fill-rule=\"nonzero\" fill-opacity=\"1\" /><path clip-path=\"url(#clip310)\" d=\"M2344.91 436.626 L2367.14 436.626 L2367.14 438.617 L2354.59 471.186 L2349.7 471.186 L2361.51 440.561 L2344.91 440.561 L2344.91 436.626 Z\" fill=\"#000000\" fill-rule=\"nonzero\" fill-opacity=\"1\" /><path clip-path=\"url(#clip310)\" d=\"M2280.7 308.506 Q2277.09 308.506 2275.26 312.071 Q2273.45 315.613 2273.45 322.742 Q2273.45 329.849 2275.26 333.414 Q2277.09 336.955 2280.7 336.955 Q2284.33 336.955 2286.14 333.414 Q2287.97 329.849 2287.97 322.742 Q2287.97 315.613 2286.14 312.071 Q2284.33 308.506 2280.7 308.506 M2280.7 304.803 Q2286.51 304.803 2289.57 309.409 Q2292.64 313.993 2292.64 322.742 Q2292.64 331.469 2289.57 336.076 Q2286.51 340.659 2280.7 340.659 Q2274.89 340.659 2271.81 336.076 Q2268.76 331.469 2268.76 322.742 Q2268.76 313.993 2271.81 309.409 Q2274.89 304.803 2280.7 304.803 Z\" fill=\"#000000\" fill-rule=\"nonzero\" fill-opacity=\"1\" /><path clip-path=\"url(#clip310)\" d=\"M2300.86 334.108 L2305.75 334.108 L2305.75 339.988 L2300.86 339.988 L2300.86 334.108 Z\" fill=\"#000000\" fill-rule=\"nonzero\" fill-opacity=\"1\" /><path clip-path=\"url(#clip310)\" d=\"M2325.93 308.506 Q2322.32 308.506 2320.49 312.071 Q2318.69 315.613 2318.69 322.742 Q2318.69 329.849 2320.49 333.414 Q2322.32 336.955 2325.93 336.955 Q2329.57 336.955 2331.37 333.414 Q2333.2 329.849 2333.2 322.742 Q2333.2 315.613 2331.37 312.071 Q2329.57 308.506 2325.93 308.506 M2325.93 304.803 Q2331.74 304.803 2334.8 309.409 Q2337.88 313.993 2337.88 322.742 Q2337.88 331.469 2334.8 336.076 Q2331.74 340.659 2325.93 340.659 Q2320.12 340.659 2317.04 336.076 Q2313.99 331.469 2313.99 322.742 Q2313.99 313.993 2317.04 309.409 Q2320.12 304.803 2325.93 304.803 Z\" fill=\"#000000\" fill-rule=\"nonzero\" fill-opacity=\"1\" /><path clip-path=\"url(#clip310)\" d=\"M2356.09 323.576 Q2352.76 323.576 2350.84 325.358 Q2348.94 327.141 2348.94 330.266 Q2348.94 333.391 2350.84 335.173 Q2352.76 336.955 2356.09 336.955 Q2359.43 336.955 2361.35 335.173 Q2363.27 333.367 2363.27 330.266 Q2363.27 327.141 2361.35 325.358 Q2359.45 323.576 2356.09 323.576 M2351.42 321.585 Q2348.41 320.844 2346.72 318.784 Q2345.05 316.724 2345.05 313.761 Q2345.05 309.618 2347.99 307.21 Q2350.95 304.803 2356.09 304.803 Q2361.26 304.803 2364.2 307.21 Q2367.14 309.618 2367.14 313.761 Q2367.14 316.724 2365.45 318.784 Q2363.78 320.844 2360.79 321.585 Q2364.17 322.372 2366.05 324.664 Q2367.95 326.955 2367.95 330.266 Q2367.95 335.289 2364.87 337.974 Q2361.81 340.659 2356.09 340.659 Q2350.38 340.659 2347.3 337.974 Q2344.24 335.289 2344.24 330.266 Q2344.24 326.955 2346.14 324.664 Q2348.04 322.372 2351.42 321.585 M2349.7 314.201 Q2349.7 316.886 2351.37 318.391 Q2353.06 319.895 2356.09 319.895 Q2359.1 319.895 2360.79 318.391 Q2362.51 316.886 2362.51 314.201 Q2362.51 311.516 2360.79 310.011 Q2359.1 308.506 2356.09 308.506 Q2353.06 308.506 2351.37 310.011 Q2349.7 311.516 2349.7 314.201 Z\" fill=\"#000000\" fill-rule=\"nonzero\" fill-opacity=\"1\" /><path clip-path=\"url(#clip310)\" d=\"M2280.7 177.308 Q2277.09 177.308 2275.26 180.873 Q2273.45 184.415 2273.45 191.544 Q2273.45 198.651 2275.26 202.215 Q2277.09 205.757 2280.7 205.757 Q2284.33 205.757 2286.14 202.215 Q2287.97 198.651 2287.97 191.544 Q2287.97 184.415 2286.14 180.873 Q2284.33 177.308 2280.7 177.308 M2280.7 173.604 Q2286.51 173.604 2289.57 178.211 Q2292.64 182.794 2292.64 191.544 Q2292.64 200.271 2289.57 204.877 Q2286.51 209.461 2280.7 209.461 Q2274.89 209.461 2271.81 204.877 Q2268.76 200.271 2268.76 191.544 Q2268.76 182.794 2271.81 178.211 Q2274.89 173.604 2280.7 173.604 Z\" fill=\"#000000\" fill-rule=\"nonzero\" fill-opacity=\"1\" /><path clip-path=\"url(#clip310)\" d=\"M2300.86 202.91 L2305.75 202.91 L2305.75 208.789 L2300.86 208.789 L2300.86 202.91 Z\" fill=\"#000000\" fill-rule=\"nonzero\" fill-opacity=\"1\" /><path clip-path=\"url(#clip310)\" d=\"M2325.93 177.308 Q2322.32 177.308 2320.49 180.873 Q2318.69 184.415 2318.69 191.544 Q2318.69 198.651 2320.49 202.215 Q2322.32 205.757 2325.93 205.757 Q2329.57 205.757 2331.37 202.215 Q2333.2 198.651 2333.2 191.544 Q2333.2 184.415 2331.37 180.873 Q2329.57 177.308 2325.93 177.308 M2325.93 173.604 Q2331.74 173.604 2334.8 178.211 Q2337.88 182.794 2337.88 191.544 Q2337.88 200.271 2334.8 204.877 Q2331.74 209.461 2325.93 209.461 Q2320.12 209.461 2317.04 204.877 Q2313.99 200.271 2313.99 191.544 Q2313.99 182.794 2317.04 178.211 Q2320.12 173.604 2325.93 173.604 Z\" fill=\"#000000\" fill-rule=\"nonzero\" fill-opacity=\"1\" /><path clip-path=\"url(#clip310)\" d=\"M2346.23 208.072 L2346.23 203.813 Q2347.99 204.646 2349.8 205.086 Q2351.6 205.526 2353.34 205.526 Q2357.97 205.526 2360.4 202.424 Q2362.85 199.299 2363.2 192.956 Q2361.86 194.947 2359.8 196.012 Q2357.74 197.077 2355.24 197.077 Q2350.05 197.077 2347.02 193.952 Q2344.01 190.803 2344.01 185.364 Q2344.01 180.04 2347.16 176.822 Q2350.31 173.604 2355.54 173.604 Q2361.53 173.604 2364.68 178.211 Q2367.85 182.794 2367.85 191.544 Q2367.85 199.715 2363.96 204.6 Q2360.1 209.461 2353.55 209.461 Q2351.79 209.461 2349.98 209.114 Q2348.18 208.766 2346.23 208.072 M2355.54 193.419 Q2358.69 193.419 2360.51 191.266 Q2362.37 189.114 2362.37 185.364 Q2362.37 181.637 2360.51 179.484 Q2358.69 177.308 2355.54 177.308 Q2352.39 177.308 2350.54 179.484 Q2348.71 181.637 2348.71 185.364 Q2348.71 189.114 2350.54 191.266 Q2352.39 193.419 2355.54 193.419 Z\" fill=\"#000000\" fill-rule=\"nonzero\" fill-opacity=\"1\" /><polyline clip-path=\"url(#clip310)\" style=\"stroke:#000000; stroke-linecap:round; stroke-linejoin:round; stroke-width:4; stroke-opacity:1; fill:none\" points=\"2232.76,1351.55 2232.76,1244.72 2256.76,1244.72 2232.76,1244.72 2232.76,1113.53 2256.76,1113.53 2232.76,1113.53 2232.76,982.328 2256.76,982.328 2232.76,982.328 2232.76,851.13 2256.76,851.13 2232.76,851.13 2232.76,719.931 2256.76,719.931 2232.76,719.931 2232.76,588.733 2256.76,588.733 2232.76,588.733 2232.76,457.535 2256.76,457.535 2232.76,457.535 2232.76,326.337 2256.76,326.337 2232.76,326.337 2232.76,195.138 2256.76,195.138 2232.76,195.138 2232.76,195.104 \"/>\n",
       "</svg>\n"
      ]
     },
     "execution_count": 90,
     "metadata": {},
     "output_type": "execute_result"
    }
   ],
   "source": [
    "heatmap(Tx, Ty, imag(F12list), title=L\"F_{12}\", xlabel=L\"\\theta_x\",ylabel=L\"\\theta_y\",aspect_ratio=1)"
   ]
  },
  {
   "cell_type": "markdown",
   "id": "37c79c01",
   "metadata": {},
   "source": [
    "# Many Body"
   ]
  },
  {
   "cell_type": "code",
   "execution_count": 91,
   "id": "e1f09d36",
   "metadata": {},
   "outputs": [],
   "source": [
    "delete!(param_dict, \"sub_range\");"
   ]
  },
  {
   "cell_type": "code",
   "execution_count": 92,
   "id": "970d40ba",
   "metadata": {},
   "outputs": [
    {
     "data": {
      "text/plain": [
       "ManyBody(onebodybasis=NLevel(N=9), states:45)"
      ]
     },
     "execution_count": 92,
     "metadata": {},
     "output_type": "execute_result"
    }
   ],
   "source": [
    "PN = 2\n",
    "param_dict[\"PN\"] = PN\n",
    "basis_mb = get_basis_mb(param_dict)"
   ]
  },
  {
   "cell_type": "code",
   "execution_count": 93,
   "id": "0bc9eff9",
   "metadata": {},
   "outputs": [
    {
     "data": {
      "text/plain": [
       "ManyBody(onebodybasis=NLevel(N=9), states:45)"
      ]
     },
     "execution_count": 93,
     "metadata": {},
     "output_type": "execute_result"
    }
   ],
   "source": [
    "param_dict[\"basis_mb\"]"
   ]
  },
  {
   "cell_type": "code",
   "execution_count": 94,
   "id": "fbf3f3e2",
   "metadata": {},
   "outputs": [
    {
     "data": {
      "text/plain": [
       "45"
      ]
     },
     "execution_count": 94,
     "metadata": {},
     "output_type": "execute_result"
    }
   ],
   "source": [
    "param_dict[\"dimH_mb\"] = length(basis_mb)"
   ]
  },
  {
   "cell_type": "markdown",
   "id": "61c3ebd0",
   "metadata": {},
   "source": [
    "## Non-Interacting Many Body"
   ]
  },
  {
   "cell_type": "code",
   "execution_count": 95,
   "id": "f017cb49",
   "metadata": {},
   "outputs": [
    {
     "data": {
      "text/plain": [
       "45"
      ]
     },
     "execution_count": 95,
     "metadata": {},
     "output_type": "execute_result"
    }
   ],
   "source": [
    "basis_mb.shape[1]"
   ]
  },
  {
   "cell_type": "code",
   "execution_count": 96,
   "id": "b9df9d1f",
   "metadata": {},
   "outputs": [],
   "source": [
    "H1_mb = get_mb_op(basis_mb, H1);"
   ]
  },
  {
   "cell_type": "code",
   "execution_count": 97,
   "id": "2c4b26a6",
   "metadata": {},
   "outputs": [],
   "source": [
    "EEA, UUA = calc_all_states_H_mb(param_dict);"
   ]
  },
  {
   "cell_type": "code",
   "execution_count": 98,
   "id": "b6a89a99",
   "metadata": {},
   "outputs": [
    {
     "data": {
      "image/svg+xml": [
       "<?xml version=\"1.0\" encoding=\"utf-8\"?>\n",
       "<svg xmlns=\"http://www.w3.org/2000/svg\" xmlns:xlink=\"http://www.w3.org/1999/xlink\" width=\"600\" height=\"400\" viewBox=\"0 0 2400 1600\">\n",
       "<defs>\n",
       "  <clipPath id=\"clip350\">\n",
       "    <rect x=\"0\" y=\"0\" width=\"2400\" height=\"1600\"/>\n",
       "  </clipPath>\n",
       "</defs>\n",
       "<path clip-path=\"url(#clip350)\" d=\"M0 1600 L2400 1600 L2400 0 L0 0  Z\" fill=\"#ffffff\" fill-rule=\"evenodd\" fill-opacity=\"1\"/>\n",
       "<defs>\n",
       "  <clipPath id=\"clip351\">\n",
       "    <rect x=\"480\" y=\"0\" width=\"1681\" height=\"1600\"/>\n",
       "  </clipPath>\n",
       "</defs>\n",
       "<path clip-path=\"url(#clip350)\" d=\"M149.191 1486.45 L2352.76 1486.45 L2352.76 47.2441 L149.191 47.2441  Z\" fill=\"#ffffff\" fill-rule=\"evenodd\" fill-opacity=\"1\"/>\n",
       "<defs>\n",
       "  <clipPath id=\"clip352\">\n",
       "    <rect x=\"149\" y=\"47\" width=\"2205\" height=\"1440\"/>\n",
       "  </clipPath>\n",
       "</defs>\n",
       "<polyline clip-path=\"url(#clip352)\" style=\"stroke:#000000; stroke-linecap:round; stroke-linejoin:round; stroke-width:2; stroke-opacity:0.1; fill:none\" points=\"164.31,1486.45 164.31,47.2441 \"/>\n",
       "<polyline clip-path=\"url(#clip352)\" style=\"stroke:#000000; stroke-linecap:round; stroke-linejoin:round; stroke-width:2; stroke-opacity:0.1; fill:none\" points=\"636.772,1486.45 636.772,47.2441 \"/>\n",
       "<polyline clip-path=\"url(#clip352)\" style=\"stroke:#000000; stroke-linecap:round; stroke-linejoin:round; stroke-width:2; stroke-opacity:0.1; fill:none\" points=\"1109.23,1486.45 1109.23,47.2441 \"/>\n",
       "<polyline clip-path=\"url(#clip352)\" style=\"stroke:#000000; stroke-linecap:round; stroke-linejoin:round; stroke-width:2; stroke-opacity:0.1; fill:none\" points=\"1581.7,1486.45 1581.7,47.2441 \"/>\n",
       "<polyline clip-path=\"url(#clip352)\" style=\"stroke:#000000; stroke-linecap:round; stroke-linejoin:round; stroke-width:2; stroke-opacity:0.1; fill:none\" points=\"2054.16,1486.45 2054.16,47.2441 \"/>\n",
       "<polyline clip-path=\"url(#clip350)\" style=\"stroke:#000000; stroke-linecap:round; stroke-linejoin:round; stroke-width:4; stroke-opacity:1; fill:none\" points=\"149.191,1486.45 2352.76,1486.45 \"/>\n",
       "<polyline clip-path=\"url(#clip350)\" style=\"stroke:#000000; stroke-linecap:round; stroke-linejoin:round; stroke-width:4; stroke-opacity:1; fill:none\" points=\"164.31,1486.45 164.31,1467.55 \"/>\n",
       "<polyline clip-path=\"url(#clip350)\" style=\"stroke:#000000; stroke-linecap:round; stroke-linejoin:round; stroke-width:4; stroke-opacity:1; fill:none\" points=\"636.772,1486.45 636.772,1467.55 \"/>\n",
       "<polyline clip-path=\"url(#clip350)\" style=\"stroke:#000000; stroke-linecap:round; stroke-linejoin:round; stroke-width:4; stroke-opacity:1; fill:none\" points=\"1109.23,1486.45 1109.23,1467.55 \"/>\n",
       "<polyline clip-path=\"url(#clip350)\" style=\"stroke:#000000; stroke-linecap:round; stroke-linejoin:round; stroke-width:4; stroke-opacity:1; fill:none\" points=\"1581.7,1486.45 1581.7,1467.55 \"/>\n",
       "<polyline clip-path=\"url(#clip350)\" style=\"stroke:#000000; stroke-linecap:round; stroke-linejoin:round; stroke-width:4; stroke-opacity:1; fill:none\" points=\"2054.16,1486.45 2054.16,1467.55 \"/>\n",
       "<path clip-path=\"url(#clip350)\" d=\"M164.31 1517.37 Q160.699 1517.37 158.87 1520.93 Q157.064 1524.47 157.064 1531.6 Q157.064 1538.71 158.87 1542.27 Q160.699 1545.82 164.31 1545.82 Q167.944 1545.82 169.749 1542.27 Q171.578 1538.71 171.578 1531.6 Q171.578 1524.47 169.749 1520.93 Q167.944 1517.37 164.31 1517.37 M164.31 1513.66 Q170.12 1513.66 173.175 1518.27 Q176.254 1522.85 176.254 1531.6 Q176.254 1540.33 173.175 1544.94 Q170.12 1549.52 164.31 1549.52 Q158.5 1549.52 155.421 1544.94 Q152.365 1540.33 152.365 1531.6 Q152.365 1522.85 155.421 1518.27 Q158.5 1513.66 164.31 1513.66 Z\" fill=\"#000000\" fill-rule=\"nonzero\" fill-opacity=\"1\" /><path clip-path=\"url(#clip350)\" d=\"M611.46 1544.91 L619.099 1544.91 L619.099 1518.55 L610.788 1520.21 L610.788 1515.95 L619.052 1514.29 L623.728 1514.29 L623.728 1544.91 L631.367 1544.91 L631.367 1548.85 L611.46 1548.85 L611.46 1544.91 Z\" fill=\"#000000\" fill-rule=\"nonzero\" fill-opacity=\"1\" /><path clip-path=\"url(#clip350)\" d=\"M650.811 1517.37 Q647.2 1517.37 645.372 1520.93 Q643.566 1524.47 643.566 1531.6 Q643.566 1538.71 645.372 1542.27 Q647.2 1545.82 650.811 1545.82 Q654.446 1545.82 656.251 1542.27 Q658.08 1538.71 658.08 1531.6 Q658.08 1524.47 656.251 1520.93 Q654.446 1517.37 650.811 1517.37 M650.811 1513.66 Q656.622 1513.66 659.677 1518.27 Q662.756 1522.85 662.756 1531.6 Q662.756 1540.33 659.677 1544.94 Q656.622 1549.52 650.811 1549.52 Q645.001 1549.52 641.923 1544.94 Q638.867 1540.33 638.867 1531.6 Q638.867 1522.85 641.923 1518.27 Q645.001 1513.66 650.811 1513.66 Z\" fill=\"#000000\" fill-rule=\"nonzero\" fill-opacity=\"1\" /><path clip-path=\"url(#clip350)\" d=\"M1088.01 1544.91 L1104.33 1544.91 L1104.33 1548.85 L1082.38 1548.85 L1082.38 1544.91 Q1085.04 1542.16 1089.63 1537.53 Q1094.23 1532.88 1095.42 1531.53 Q1097.66 1529.01 1098.54 1527.27 Q1099.44 1525.51 1099.44 1523.82 Q1099.44 1521.07 1097.5 1519.33 Q1095.58 1517.6 1092.48 1517.6 Q1090.28 1517.6 1087.82 1518.36 Q1085.39 1519.13 1082.61 1520.68 L1082.61 1515.95 Q1085.44 1514.82 1087.89 1514.24 Q1090.35 1513.66 1092.38 1513.66 Q1097.75 1513.66 1100.95 1516.35 Q1104.14 1519.03 1104.14 1523.52 Q1104.14 1525.65 1103.33 1527.57 Q1102.54 1529.47 1100.44 1532.07 Q1099.86 1532.74 1096.76 1535.95 Q1093.66 1539.15 1088.01 1544.91 Z\" fill=\"#000000\" fill-rule=\"nonzero\" fill-opacity=\"1\" /><path clip-path=\"url(#clip350)\" d=\"M1124.14 1517.37 Q1120.53 1517.37 1118.7 1520.93 Q1116.9 1524.47 1116.9 1531.6 Q1116.9 1538.71 1118.7 1542.27 Q1120.53 1545.82 1124.14 1545.82 Q1127.78 1545.82 1129.58 1542.27 Q1131.41 1538.71 1131.41 1531.6 Q1131.41 1524.47 1129.58 1520.93 Q1127.78 1517.37 1124.14 1517.37 M1124.14 1513.66 Q1129.95 1513.66 1133.01 1518.27 Q1136.09 1522.85 1136.09 1531.6 Q1136.09 1540.33 1133.01 1544.94 Q1129.95 1549.52 1124.14 1549.52 Q1118.33 1549.52 1115.25 1544.94 Q1112.2 1540.33 1112.2 1531.6 Q1112.2 1522.85 1115.25 1518.27 Q1118.33 1513.66 1124.14 1513.66 Z\" fill=\"#000000\" fill-rule=\"nonzero\" fill-opacity=\"1\" /><path clip-path=\"url(#clip350)\" d=\"M1570.54 1530.21 Q1573.9 1530.93 1575.77 1533.2 Q1577.67 1535.47 1577.67 1538.8 Q1577.67 1543.92 1574.15 1546.72 Q1570.63 1549.52 1564.15 1549.52 Q1561.98 1549.52 1559.66 1549.08 Q1557.37 1548.66 1554.91 1547.81 L1554.91 1543.29 Q1556.86 1544.43 1559.17 1545.01 Q1561.49 1545.58 1564.01 1545.58 Q1568.41 1545.58 1570.7 1543.85 Q1573.02 1542.11 1573.02 1538.8 Q1573.02 1535.75 1570.86 1534.03 Q1568.73 1532.3 1564.91 1532.3 L1560.89 1532.3 L1560.89 1528.45 L1565.1 1528.45 Q1568.55 1528.45 1570.38 1527.09 Q1572.21 1525.7 1572.21 1523.11 Q1572.21 1520.45 1570.31 1519.03 Q1568.43 1517.6 1564.91 1517.6 Q1562.99 1517.6 1560.79 1518.01 Q1558.6 1518.43 1555.96 1519.31 L1555.96 1515.14 Q1558.62 1514.4 1560.93 1514.03 Q1563.27 1513.66 1565.33 1513.66 Q1570.66 1513.66 1573.76 1516.09 Q1576.86 1518.5 1576.86 1522.62 Q1576.86 1525.49 1575.22 1527.48 Q1573.57 1529.45 1570.54 1530.21 Z\" fill=\"#000000\" fill-rule=\"nonzero\" fill-opacity=\"1\" /><path clip-path=\"url(#clip350)\" d=\"M1596.54 1517.37 Q1592.92 1517.37 1591.1 1520.93 Q1589.29 1524.47 1589.29 1531.6 Q1589.29 1538.71 1591.1 1542.27 Q1592.92 1545.82 1596.54 1545.82 Q1600.17 1545.82 1601.97 1542.27 Q1603.8 1538.71 1603.8 1531.6 Q1603.8 1524.47 1601.97 1520.93 Q1600.17 1517.37 1596.54 1517.37 M1596.54 1513.66 Q1602.35 1513.66 1605.4 1518.27 Q1608.48 1522.85 1608.48 1531.6 Q1608.48 1540.33 1605.4 1544.94 Q1602.35 1549.52 1596.54 1549.52 Q1590.72 1549.52 1587.65 1544.94 Q1584.59 1540.33 1584.59 1531.6 Q1584.59 1522.85 1587.65 1518.27 Q1590.72 1513.66 1596.54 1513.66 Z\" fill=\"#000000\" fill-rule=\"nonzero\" fill-opacity=\"1\" /><path clip-path=\"url(#clip350)\" d=\"M2042.33 1518.36 L2030.53 1536.81 L2042.33 1536.81 L2042.33 1518.36 M2041.1 1514.29 L2046.98 1514.29 L2046.98 1536.81 L2051.91 1536.81 L2051.91 1540.7 L2046.98 1540.7 L2046.98 1548.85 L2042.33 1548.85 L2042.33 1540.7 L2026.73 1540.7 L2026.73 1536.19 L2041.1 1514.29 Z\" fill=\"#000000\" fill-rule=\"nonzero\" fill-opacity=\"1\" /><path clip-path=\"url(#clip350)\" d=\"M2069.65 1517.37 Q2066.03 1517.37 2064.21 1520.93 Q2062.4 1524.47 2062.4 1531.6 Q2062.4 1538.71 2064.21 1542.27 Q2066.03 1545.82 2069.65 1545.82 Q2073.28 1545.82 2075.09 1542.27 Q2076.91 1538.71 2076.91 1531.6 Q2076.91 1524.47 2075.09 1520.93 Q2073.28 1517.37 2069.65 1517.37 M2069.65 1513.66 Q2075.46 1513.66 2078.51 1518.27 Q2081.59 1522.85 2081.59 1531.6 Q2081.59 1540.33 2078.51 1544.94 Q2075.46 1549.52 2069.65 1549.52 Q2063.84 1549.52 2060.76 1544.94 Q2057.7 1540.33 2057.7 1531.6 Q2057.7 1522.85 2060.76 1518.27 Q2063.84 1513.66 2069.65 1513.66 Z\" fill=\"#000000\" fill-rule=\"nonzero\" fill-opacity=\"1\" /><polyline clip-path=\"url(#clip352)\" style=\"stroke:#000000; stroke-linecap:round; stroke-linejoin:round; stroke-width:2; stroke-opacity:0.1; fill:none\" points=\"149.191,1235.67 2352.76,1235.67 \"/>\n",
       "<polyline clip-path=\"url(#clip352)\" style=\"stroke:#000000; stroke-linecap:round; stroke-linejoin:round; stroke-width:2; stroke-opacity:0.1; fill:none\" points=\"149.191,948.749 2352.76,948.749 \"/>\n",
       "<polyline clip-path=\"url(#clip352)\" style=\"stroke:#000000; stroke-linecap:round; stroke-linejoin:round; stroke-width:2; stroke-opacity:0.1; fill:none\" points=\"149.191,661.824 2352.76,661.824 \"/>\n",
       "<polyline clip-path=\"url(#clip352)\" style=\"stroke:#000000; stroke-linecap:round; stroke-linejoin:round; stroke-width:2; stroke-opacity:0.1; fill:none\" points=\"149.191,374.9 2352.76,374.9 \"/>\n",
       "<polyline clip-path=\"url(#clip352)\" style=\"stroke:#000000; stroke-linecap:round; stroke-linejoin:round; stroke-width:2; stroke-opacity:0.1; fill:none\" points=\"149.191,87.9763 2352.76,87.9763 \"/>\n",
       "<polyline clip-path=\"url(#clip350)\" style=\"stroke:#000000; stroke-linecap:round; stroke-linejoin:round; stroke-width:4; stroke-opacity:1; fill:none\" points=\"149.191,1486.45 149.191,47.2441 \"/>\n",
       "<polyline clip-path=\"url(#clip350)\" style=\"stroke:#000000; stroke-linecap:round; stroke-linejoin:round; stroke-width:4; stroke-opacity:1; fill:none\" points=\"149.191,1235.67 168.089,1235.67 \"/>\n",
       "<polyline clip-path=\"url(#clip350)\" style=\"stroke:#000000; stroke-linecap:round; stroke-linejoin:round; stroke-width:4; stroke-opacity:1; fill:none\" points=\"149.191,948.749 168.089,948.749 \"/>\n",
       "<polyline clip-path=\"url(#clip350)\" style=\"stroke:#000000; stroke-linecap:round; stroke-linejoin:round; stroke-width:4; stroke-opacity:1; fill:none\" points=\"149.191,661.824 168.089,661.824 \"/>\n",
       "<polyline clip-path=\"url(#clip350)\" style=\"stroke:#000000; stroke-linecap:round; stroke-linejoin:round; stroke-width:4; stroke-opacity:1; fill:none\" points=\"149.191,374.9 168.089,374.9 \"/>\n",
       "<polyline clip-path=\"url(#clip350)\" style=\"stroke:#000000; stroke-linecap:round; stroke-linejoin:round; stroke-width:4; stroke-opacity:1; fill:none\" points=\"149.191,87.9763 168.089,87.9763 \"/>\n",
       "<path clip-path=\"url(#clip350)\" d=\"M50.9921 1236.12 L80.6679 1236.12 L80.6679 1240.06 L50.9921 1240.06 L50.9921 1236.12 Z\" fill=\"#000000\" fill-rule=\"nonzero\" fill-opacity=\"1\" /><path clip-path=\"url(#clip350)\" d=\"M103.608 1222.47 L91.8021 1240.92 L103.608 1240.92 L103.608 1222.47 M102.381 1218.39 L108.26 1218.39 L108.26 1240.92 L113.191 1240.92 L113.191 1244.8 L108.26 1244.8 L108.26 1252.95 L103.608 1252.95 L103.608 1244.8 L88.0058 1244.8 L88.0058 1240.29 L102.381 1218.39 Z\" fill=\"#000000\" fill-rule=\"nonzero\" fill-opacity=\"1\" /><path clip-path=\"url(#clip350)\" d=\"M53.0754 949.2 L82.7512 949.2 L82.7512 953.135 L53.0754 953.135 L53.0754 949.2 Z\" fill=\"#000000\" fill-rule=\"nonzero\" fill-opacity=\"1\" /><path clip-path=\"url(#clip350)\" d=\"M96.8715 962.093 L113.191 962.093 L113.191 966.029 L91.2465 966.029 L91.2465 962.093 Q93.9086 959.339 98.4919 954.709 Q103.098 950.056 104.279 948.714 Q106.524 946.191 107.404 944.455 Q108.307 942.695 108.307 941.006 Q108.307 938.251 106.362 936.515 Q104.441 934.779 101.339 934.779 Q99.14 934.779 96.6863 935.543 Q94.2558 936.307 91.478 937.857 L91.478 933.135 Q94.3021 932.001 96.7558 931.422 Q99.2095 930.844 101.246 930.844 Q106.617 930.844 109.811 933.529 Q113.006 936.214 113.006 940.705 Q113.006 942.834 112.196 944.756 Q111.408 946.654 109.302 949.246 Q108.723 949.918 105.621 953.135 Q102.52 956.33 96.8715 962.093 Z\" fill=\"#000000\" fill-rule=\"nonzero\" fill-opacity=\"1\" /><path clip-path=\"url(#clip350)\" d=\"M101.246 647.623 Q97.6354 647.623 95.8067 651.188 Q94.0012 654.73 94.0012 661.859 Q94.0012 668.966 95.8067 672.53 Q97.6354 676.072 101.246 676.072 Q104.881 676.072 106.686 672.53 Q108.515 668.966 108.515 661.859 Q108.515 654.73 106.686 651.188 Q104.881 647.623 101.246 647.623 M101.246 643.919 Q107.057 643.919 110.112 648.526 Q113.191 653.109 113.191 661.859 Q113.191 670.586 110.112 675.192 Q107.057 679.776 101.246 679.776 Q95.4363 679.776 92.3576 675.192 Q89.3021 670.586 89.3021 661.859 Q89.3021 653.109 92.3576 648.526 Q95.4363 643.919 101.246 643.919 Z\" fill=\"#000000\" fill-rule=\"nonzero\" fill-opacity=\"1\" /><path clip-path=\"url(#clip350)\" d=\"M96.8715 388.245 L113.191 388.245 L113.191 392.18 L91.2465 392.18 L91.2465 388.245 Q93.9086 385.491 98.4919 380.861 Q103.098 376.208 104.279 374.866 Q106.524 372.343 107.404 370.606 Q108.307 368.847 108.307 367.157 Q108.307 364.403 106.362 362.667 Q104.441 360.931 101.339 360.931 Q99.14 360.931 96.6863 361.694 Q94.2558 362.458 91.478 364.009 L91.478 359.287 Q94.3021 358.153 96.7558 357.574 Q99.2095 356.995 101.246 356.995 Q106.617 356.995 109.811 359.681 Q113.006 362.366 113.006 366.856 Q113.006 368.986 112.196 370.907 Q111.408 372.805 109.302 375.398 Q108.723 376.069 105.621 379.287 Q102.52 382.481 96.8715 388.245 Z\" fill=\"#000000\" fill-rule=\"nonzero\" fill-opacity=\"1\" /><path clip-path=\"url(#clip350)\" d=\"M103.608 74.7703 L91.8021 93.2193 L103.608 93.2193 L103.608 74.7703 M102.381 70.6963 L108.26 70.6963 L108.26 93.2193 L113.191 93.2193 L113.191 97.1082 L108.26 97.1082 L108.26 105.256 L103.608 105.256 L103.608 97.1082 L88.0058 97.1082 L88.0058 92.5943 L102.381 70.6963 Z\" fill=\"#000000\" fill-rule=\"nonzero\" fill-opacity=\"1\" /><circle clip-path=\"url(#clip352)\" cx=\"211.556\" cy=\"1445.72\" r=\"14.4\" fill=\"#009af9\" fill-rule=\"evenodd\" fill-opacity=\"1\" stroke=\"#000000\" stroke-opacity=\"1\" stroke-width=\"3.2\"/>\n",
       "<circle clip-path=\"url(#clip352)\" cx=\"258.802\" cy=\"1445.72\" r=\"14.4\" fill=\"#009af9\" fill-rule=\"evenodd\" fill-opacity=\"1\" stroke=\"#000000\" stroke-opacity=\"1\" stroke-width=\"3.2\"/>\n",
       "<circle clip-path=\"url(#clip352)\" cx=\"306.048\" cy=\"1445.72\" r=\"14.4\" fill=\"#009af9\" fill-rule=\"evenodd\" fill-opacity=\"1\" stroke=\"#000000\" stroke-opacity=\"1\" stroke-width=\"3.2\"/>\n",
       "<circle clip-path=\"url(#clip352)\" cx=\"353.295\" cy=\"1445.72\" r=\"14.4\" fill=\"#009af9\" fill-rule=\"evenodd\" fill-opacity=\"1\" stroke=\"#000000\" stroke-opacity=\"1\" stroke-width=\"3.2\"/>\n",
       "<circle clip-path=\"url(#clip352)\" cx=\"400.541\" cy=\"1445.72\" r=\"14.4\" fill=\"#009af9\" fill-rule=\"evenodd\" fill-opacity=\"1\" stroke=\"#000000\" stroke-opacity=\"1\" stroke-width=\"3.2\"/>\n",
       "<circle clip-path=\"url(#clip352)\" cx=\"447.787\" cy=\"1445.72\" r=\"14.4\" fill=\"#009af9\" fill-rule=\"evenodd\" fill-opacity=\"1\" stroke=\"#000000\" stroke-opacity=\"1\" stroke-width=\"3.2\"/>\n",
       "<circle clip-path=\"url(#clip352)\" cx=\"495.033\" cy=\"948.749\" r=\"14.4\" fill=\"#009af9\" fill-rule=\"evenodd\" fill-opacity=\"1\" stroke=\"#000000\" stroke-opacity=\"1\" stroke-width=\"3.2\"/>\n",
       "<circle clip-path=\"url(#clip352)\" cx=\"542.28\" cy=\"948.749\" r=\"14.4\" fill=\"#009af9\" fill-rule=\"evenodd\" fill-opacity=\"1\" stroke=\"#000000\" stroke-opacity=\"1\" stroke-width=\"3.2\"/>\n",
       "<circle clip-path=\"url(#clip352)\" cx=\"589.526\" cy=\"948.749\" r=\"14.4\" fill=\"#009af9\" fill-rule=\"evenodd\" fill-opacity=\"1\" stroke=\"#000000\" stroke-opacity=\"1\" stroke-width=\"3.2\"/>\n",
       "<circle clip-path=\"url(#clip352)\" cx=\"636.772\" cy=\"948.749\" r=\"14.4\" fill=\"#009af9\" fill-rule=\"evenodd\" fill-opacity=\"1\" stroke=\"#000000\" stroke-opacity=\"1\" stroke-width=\"3.2\"/>\n",
       "<circle clip-path=\"url(#clip352)\" cx=\"684.018\" cy=\"948.749\" r=\"14.4\" fill=\"#009af9\" fill-rule=\"evenodd\" fill-opacity=\"1\" stroke=\"#000000\" stroke-opacity=\"1\" stroke-width=\"3.2\"/>\n",
       "<circle clip-path=\"url(#clip352)\" cx=\"731.265\" cy=\"948.749\" r=\"14.4\" fill=\"#009af9\" fill-rule=\"evenodd\" fill-opacity=\"1\" stroke=\"#000000\" stroke-opacity=\"1\" stroke-width=\"3.2\"/>\n",
       "<circle clip-path=\"url(#clip352)\" cx=\"778.511\" cy=\"948.749\" r=\"14.4\" fill=\"#009af9\" fill-rule=\"evenodd\" fill-opacity=\"1\" stroke=\"#000000\" stroke-opacity=\"1\" stroke-width=\"3.2\"/>\n",
       "<circle clip-path=\"url(#clip352)\" cx=\"825.757\" cy=\"948.749\" r=\"14.4\" fill=\"#009af9\" fill-rule=\"evenodd\" fill-opacity=\"1\" stroke=\"#000000\" stroke-opacity=\"1\" stroke-width=\"3.2\"/>\n",
       "<circle clip-path=\"url(#clip352)\" cx=\"873.003\" cy=\"948.749\" r=\"14.4\" fill=\"#009af9\" fill-rule=\"evenodd\" fill-opacity=\"1\" stroke=\"#000000\" stroke-opacity=\"1\" stroke-width=\"3.2\"/>\n",
       "<circle clip-path=\"url(#clip352)\" cx=\"920.25\" cy=\"766.846\" r=\"14.4\" fill=\"#009af9\" fill-rule=\"evenodd\" fill-opacity=\"1\" stroke=\"#000000\" stroke-opacity=\"1\" stroke-width=\"3.2\"/>\n",
       "<circle clip-path=\"url(#clip352)\" cx=\"967.496\" cy=\"766.846\" r=\"14.4\" fill=\"#009af9\" fill-rule=\"evenodd\" fill-opacity=\"1\" stroke=\"#000000\" stroke-opacity=\"1\" stroke-width=\"3.2\"/>\n",
       "<circle clip-path=\"url(#clip352)\" cx=\"1014.74\" cy=\"766.846\" r=\"14.4\" fill=\"#009af9\" fill-rule=\"evenodd\" fill-opacity=\"1\" stroke=\"#000000\" stroke-opacity=\"1\" stroke-width=\"3.2\"/>\n",
       "<circle clip-path=\"url(#clip352)\" cx=\"1061.99\" cy=\"766.846\" r=\"14.4\" fill=\"#009af9\" fill-rule=\"evenodd\" fill-opacity=\"1\" stroke=\"#000000\" stroke-opacity=\"1\" stroke-width=\"3.2\"/>\n",
       "<circle clip-path=\"url(#clip352)\" cx=\"1109.23\" cy=\"766.846\" r=\"14.4\" fill=\"#009af9\" fill-rule=\"evenodd\" fill-opacity=\"1\" stroke=\"#000000\" stroke-opacity=\"1\" stroke-width=\"3.2\"/>\n",
       "<circle clip-path=\"url(#clip352)\" cx=\"1156.48\" cy=\"766.846\" r=\"14.4\" fill=\"#009af9\" fill-rule=\"evenodd\" fill-opacity=\"1\" stroke=\"#000000\" stroke-opacity=\"1\" stroke-width=\"3.2\"/>\n",
       "<circle clip-path=\"url(#clip352)\" cx=\"1203.73\" cy=\"766.846\" r=\"14.4\" fill=\"#009af9\" fill-rule=\"evenodd\" fill-opacity=\"1\" stroke=\"#000000\" stroke-opacity=\"1\" stroke-width=\"3.2\"/>\n",
       "<circle clip-path=\"url(#clip352)\" cx=\"1250.97\" cy=\"766.846\" r=\"14.4\" fill=\"#009af9\" fill-rule=\"evenodd\" fill-opacity=\"1\" stroke=\"#000000\" stroke-opacity=\"1\" stroke-width=\"3.2\"/>\n",
       "<circle clip-path=\"url(#clip352)\" cx=\"1298.22\" cy=\"766.846\" r=\"14.4\" fill=\"#009af9\" fill-rule=\"evenodd\" fill-opacity=\"1\" stroke=\"#000000\" stroke-opacity=\"1\" stroke-width=\"3.2\"/>\n",
       "<circle clip-path=\"url(#clip352)\" cx=\"1345.47\" cy=\"451.781\" r=\"14.4\" fill=\"#009af9\" fill-rule=\"evenodd\" fill-opacity=\"1\" stroke=\"#000000\" stroke-opacity=\"1\" stroke-width=\"3.2\"/>\n",
       "<circle clip-path=\"url(#clip352)\" cx=\"1392.71\" cy=\"451.781\" r=\"14.4\" fill=\"#009af9\" fill-rule=\"evenodd\" fill-opacity=\"1\" stroke=\"#000000\" stroke-opacity=\"1\" stroke-width=\"3.2\"/>\n",
       "<circle clip-path=\"url(#clip352)\" cx=\"1439.96\" cy=\"451.781\" r=\"14.4\" fill=\"#009af9\" fill-rule=\"evenodd\" fill-opacity=\"1\" stroke=\"#000000\" stroke-opacity=\"1\" stroke-width=\"3.2\"/>\n",
       "<circle clip-path=\"url(#clip352)\" cx=\"1487.2\" cy=\"451.781\" r=\"14.4\" fill=\"#009af9\" fill-rule=\"evenodd\" fill-opacity=\"1\" stroke=\"#000000\" stroke-opacity=\"1\" stroke-width=\"3.2\"/>\n",
       "<circle clip-path=\"url(#clip352)\" cx=\"1534.45\" cy=\"451.781\" r=\"14.4\" fill=\"#009af9\" fill-rule=\"evenodd\" fill-opacity=\"1\" stroke=\"#000000\" stroke-opacity=\"1\" stroke-width=\"3.2\"/>\n",
       "<circle clip-path=\"url(#clip352)\" cx=\"1581.7\" cy=\"451.781\" r=\"14.4\" fill=\"#009af9\" fill-rule=\"evenodd\" fill-opacity=\"1\" stroke=\"#000000\" stroke-opacity=\"1\" stroke-width=\"3.2\"/>\n",
       "<circle clip-path=\"url(#clip352)\" cx=\"1628.94\" cy=\"269.879\" r=\"14.4\" fill=\"#009af9\" fill-rule=\"evenodd\" fill-opacity=\"1\" stroke=\"#000000\" stroke-opacity=\"1\" stroke-width=\"3.2\"/>\n",
       "<circle clip-path=\"url(#clip352)\" cx=\"1676.19\" cy=\"269.879\" r=\"14.4\" fill=\"#009af9\" fill-rule=\"evenodd\" fill-opacity=\"1\" stroke=\"#000000\" stroke-opacity=\"1\" stroke-width=\"3.2\"/>\n",
       "<circle clip-path=\"url(#clip352)\" cx=\"1723.44\" cy=\"269.879\" r=\"14.4\" fill=\"#009af9\" fill-rule=\"evenodd\" fill-opacity=\"1\" stroke=\"#000000\" stroke-opacity=\"1\" stroke-width=\"3.2\"/>\n",
       "<circle clip-path=\"url(#clip352)\" cx=\"1770.68\" cy=\"269.879\" r=\"14.4\" fill=\"#009af9\" fill-rule=\"evenodd\" fill-opacity=\"1\" stroke=\"#000000\" stroke-opacity=\"1\" stroke-width=\"3.2\"/>\n",
       "<circle clip-path=\"url(#clip352)\" cx=\"1817.93\" cy=\"269.879\" r=\"14.4\" fill=\"#009af9\" fill-rule=\"evenodd\" fill-opacity=\"1\" stroke=\"#000000\" stroke-opacity=\"1\" stroke-width=\"3.2\"/>\n",
       "<circle clip-path=\"url(#clip352)\" cx=\"1865.17\" cy=\"269.879\" r=\"14.4\" fill=\"#009af9\" fill-rule=\"evenodd\" fill-opacity=\"1\" stroke=\"#000000\" stroke-opacity=\"1\" stroke-width=\"3.2\"/>\n",
       "<circle clip-path=\"url(#clip352)\" cx=\"1912.42\" cy=\"269.879\" r=\"14.4\" fill=\"#009af9\" fill-rule=\"evenodd\" fill-opacity=\"1\" stroke=\"#000000\" stroke-opacity=\"1\" stroke-width=\"3.2\"/>\n",
       "<circle clip-path=\"url(#clip352)\" cx=\"1959.67\" cy=\"269.879\" r=\"14.4\" fill=\"#009af9\" fill-rule=\"evenodd\" fill-opacity=\"1\" stroke=\"#000000\" stroke-opacity=\"1\" stroke-width=\"3.2\"/>\n",
       "<circle clip-path=\"url(#clip352)\" cx=\"2006.91\" cy=\"269.879\" r=\"14.4\" fill=\"#009af9\" fill-rule=\"evenodd\" fill-opacity=\"1\" stroke=\"#000000\" stroke-opacity=\"1\" stroke-width=\"3.2\"/>\n",
       "<circle clip-path=\"url(#clip352)\" cx=\"2054.16\" cy=\"87.9763\" r=\"14.4\" fill=\"#009af9\" fill-rule=\"evenodd\" fill-opacity=\"1\" stroke=\"#000000\" stroke-opacity=\"1\" stroke-width=\"3.2\"/>\n",
       "<circle clip-path=\"url(#clip352)\" cx=\"2101.41\" cy=\"87.9763\" r=\"14.4\" fill=\"#009af9\" fill-rule=\"evenodd\" fill-opacity=\"1\" stroke=\"#000000\" stroke-opacity=\"1\" stroke-width=\"3.2\"/>\n",
       "<circle clip-path=\"url(#clip352)\" cx=\"2148.65\" cy=\"87.9763\" r=\"14.4\" fill=\"#009af9\" fill-rule=\"evenodd\" fill-opacity=\"1\" stroke=\"#000000\" stroke-opacity=\"1\" stroke-width=\"3.2\"/>\n",
       "<circle clip-path=\"url(#clip352)\" cx=\"2195.9\" cy=\"87.9763\" r=\"14.4\" fill=\"#009af9\" fill-rule=\"evenodd\" fill-opacity=\"1\" stroke=\"#000000\" stroke-opacity=\"1\" stroke-width=\"3.2\"/>\n",
       "<circle clip-path=\"url(#clip352)\" cx=\"2243.14\" cy=\"87.9763\" r=\"14.4\" fill=\"#009af9\" fill-rule=\"evenodd\" fill-opacity=\"1\" stroke=\"#000000\" stroke-opacity=\"1\" stroke-width=\"3.2\"/>\n",
       "<circle clip-path=\"url(#clip352)\" cx=\"2290.39\" cy=\"87.9763\" r=\"14.4\" fill=\"#009af9\" fill-rule=\"evenodd\" fill-opacity=\"1\" stroke=\"#000000\" stroke-opacity=\"1\" stroke-width=\"3.2\"/>\n",
       "<path clip-path=\"url(#clip350)\" d=\"M222.643 198.898 L495.43 198.898 L495.43 95.2176 L222.643 95.2176  Z\" fill=\"#ffffff\" fill-rule=\"evenodd\" fill-opacity=\"1\"/>\n",
       "<polyline clip-path=\"url(#clip350)\" style=\"stroke:#000000; stroke-linecap:round; stroke-linejoin:round; stroke-width:4; stroke-opacity:1; fill:none\" points=\"222.643,198.898 495.43,198.898 495.43,95.2176 222.643,95.2176 222.643,198.898 \"/>\n",
       "<circle clip-path=\"url(#clip350)\" cx=\"320.579\" cy=\"147.058\" r=\"23.04\" fill=\"#009af9\" fill-rule=\"evenodd\" fill-opacity=\"1\" stroke=\"#000000\" stroke-opacity=\"1\" stroke-width=\"5.12\"/>\n",
       "<path clip-path=\"url(#clip350)\" d=\"M432.358 166.745 Q430.552 171.375 428.84 172.787 Q427.127 174.199 424.256 174.199 L420.853 174.199 L420.853 170.634 L423.353 170.634 Q425.113 170.634 426.085 169.8 Q427.057 168.967 428.238 165.865 L429.002 163.921 L418.515 138.412 L423.029 138.412 L431.131 158.689 L439.233 138.412 L443.747 138.412 L432.358 166.745 Z\" fill=\"#000000\" fill-rule=\"nonzero\" fill-opacity=\"1\" /><path clip-path=\"url(#clip350)\" d=\"M451.038 160.402 L458.677 160.402 L458.677 134.037 L450.367 135.703 L450.367 131.444 L458.631 129.778 L463.307 129.778 L463.307 160.402 L470.946 160.402 L470.946 164.338 L451.038 164.338 L451.038 160.402 Z\" fill=\"#000000\" fill-rule=\"nonzero\" fill-opacity=\"1\" /></svg>\n"
      ]
     },
     "execution_count": 98,
     "metadata": {},
     "output_type": "execute_result"
    }
   ],
   "source": [
    "scatter(real(EEA[1,1,:]))"
   ]
  },
  {
   "cell_type": "markdown",
   "id": "ebe4d59c",
   "metadata": {},
   "source": [
    "### Non-Interacting Many Body Chern"
   ]
  },
  {
   "cell_type": "code",
   "execution_count": 99,
   "id": "f40a8664",
   "metadata": {},
   "outputs": [
    {
     "data": {
      "text/plain": [
       "6-element Vector{Any}:\n",
       "   3.999999999999999 + 3.3279931141155993e-16im\n",
       " -3.0000000000000004 - 3.183191554902423e-16im\n",
       "                 3.0 - 2.5064986847730303e-16im\n",
       "                -3.0 + 1.208331918805222e-16im\n",
       " -3.0000000000000004 + 1.8357869742705068e-16im\n",
       "  3.9999999999999996 - 4.205290074287869e-16im"
      ]
     },
     "execution_count": 99,
     "metadata": {},
     "output_type": "execute_result"
    }
   ],
   "source": [
    "bands = [[1,6], [7,15], [16,24], [25,30], [31,39], [40,45]]\n",
    "#bands = [[1,5], [6,10], [11,15], [16,20], [21,25]]\n",
    "Chern, F12list = calc_chern_bands(UUA, bands);\n",
    "Chern"
   ]
  },
  {
   "cell_type": "code",
   "execution_count": 100,
   "id": "07e74956",
   "metadata": {},
   "outputs": [
    {
     "data": {
      "image/svg+xml": [
       "<?xml version=\"1.0\" encoding=\"utf-8\"?>\n",
       "<svg xmlns=\"http://www.w3.org/2000/svg\" xmlns:xlink=\"http://www.w3.org/1999/xlink\" width=\"600\" height=\"400\" viewBox=\"0 0 2400 1600\">\n",
       "<defs>\n",
       "  <clipPath id=\"clip390\">\n",
       "    <rect x=\"0\" y=\"0\" width=\"2400\" height=\"1600\"/>\n",
       "  </clipPath>\n",
       "</defs>\n",
       "<path clip-path=\"url(#clip390)\" d=\"M0 1600 L2400 1600 L2400 0 L0 0  Z\" fill=\"#ffffff\" fill-rule=\"evenodd\" fill-opacity=\"1\"/>\n",
       "<defs>\n",
       "  <clipPath id=\"clip391\">\n",
       "    <rect x=\"480\" y=\"0\" width=\"1681\" height=\"1600\"/>\n",
       "  </clipPath>\n",
       "</defs>\n",
       "<defs>\n",
       "  <clipPath id=\"clip392\">\n",
       "    <rect x=\"149\" y=\"47\" width=\"2205\" height=\"1440\"/>\n",
       "  </clipPath>\n",
       "</defs>\n",
       "<path clip-path=\"url(#clip390)\" d=\"M175.445 1351.55 L2112.76 1351.55 L2112.76 195.104 L175.445 195.104  Z\" fill=\"#ffffff\" fill-rule=\"evenodd\" fill-opacity=\"1\"/>\n",
       "<defs>\n",
       "  <clipPath id=\"clip393\">\n",
       "    <rect x=\"175\" y=\"195\" width=\"1938\" height=\"1157\"/>\n",
       "  </clipPath>\n",
       "</defs>\n",
       "<polyline clip-path=\"url(#clip393)\" style=\"stroke:#000000; stroke-linecap:round; stroke-linejoin:round; stroke-width:2; stroke-opacity:0.1; fill:none\" points=\"594.79,1351.55 594.79,195.104 \"/>\n",
       "<polyline clip-path=\"url(#clip393)\" style=\"stroke:#000000; stroke-linecap:round; stroke-linejoin:round; stroke-width:2; stroke-opacity:0.1; fill:none\" points=\"1054.92,1351.55 1054.92,195.104 \"/>\n",
       "<polyline clip-path=\"url(#clip393)\" style=\"stroke:#000000; stroke-linecap:round; stroke-linejoin:round; stroke-width:2; stroke-opacity:0.1; fill:none\" points=\"1515.06,1351.55 1515.06,195.104 \"/>\n",
       "<polyline clip-path=\"url(#clip393)\" style=\"stroke:#000000; stroke-linecap:round; stroke-linejoin:round; stroke-width:2; stroke-opacity:0.1; fill:none\" points=\"1975.19,1351.55 1975.19,195.104 \"/>\n",
       "<polyline clip-path=\"url(#clip390)\" style=\"stroke:#000000; stroke-linecap:round; stroke-linejoin:round; stroke-width:4; stroke-opacity:1; fill:none\" points=\"175.445,1351.55 2112.76,1351.55 \"/>\n",
       "<polyline clip-path=\"url(#clip390)\" style=\"stroke:#000000; stroke-linecap:round; stroke-linejoin:round; stroke-width:4; stroke-opacity:1; fill:none\" points=\"594.79,1351.55 594.79,1334.73 \"/>\n",
       "<polyline clip-path=\"url(#clip390)\" style=\"stroke:#000000; stroke-linecap:round; stroke-linejoin:round; stroke-width:4; stroke-opacity:1; fill:none\" points=\"1054.92,1351.55 1054.92,1334.73 \"/>\n",
       "<polyline clip-path=\"url(#clip390)\" style=\"stroke:#000000; stroke-linecap:round; stroke-linejoin:round; stroke-width:4; stroke-opacity:1; fill:none\" points=\"1515.06,1351.55 1515.06,1334.73 \"/>\n",
       "<polyline clip-path=\"url(#clip390)\" style=\"stroke:#000000; stroke-linecap:round; stroke-linejoin:round; stroke-width:4; stroke-opacity:1; fill:none\" points=\"1975.19,1351.55 1975.19,1334.73 \"/>\n",
       "<path clip-path=\"url(#clip390)\" d=\"M572.174 1382.47 Q568.563 1382.47 566.734 1386.03 Q564.929 1389.57 564.929 1396.7 Q564.929 1403.81 566.734 1407.37 Q568.563 1410.92 572.174 1410.92 Q575.808 1410.92 577.614 1407.37 Q579.443 1403.81 579.443 1396.7 Q579.443 1389.57 577.614 1386.03 Q575.808 1382.47 572.174 1382.47 M572.174 1378.76 Q577.984 1378.76 581.04 1383.37 Q584.118 1387.95 584.118 1396.7 Q584.118 1405.43 581.04 1410.04 Q577.984 1414.62 572.174 1414.62 Q566.364 1414.62 563.285 1410.04 Q560.23 1405.43 560.23 1396.7 Q560.23 1387.95 563.285 1383.37 Q566.364 1378.76 572.174 1378.76 Z\" fill=\"#000000\" fill-rule=\"nonzero\" fill-opacity=\"1\" /><path clip-path=\"url(#clip390)\" d=\"M592.336 1408.07 L597.22 1408.07 L597.22 1413.95 L592.336 1413.95 L592.336 1408.07 Z\" fill=\"#000000\" fill-rule=\"nonzero\" fill-opacity=\"1\" /><path clip-path=\"url(#clip390)\" d=\"M617.405 1382.47 Q613.794 1382.47 611.966 1386.03 Q610.16 1389.57 610.16 1396.7 Q610.16 1403.81 611.966 1407.37 Q613.794 1410.92 617.405 1410.92 Q621.04 1410.92 622.845 1407.37 Q624.674 1403.81 624.674 1396.7 Q624.674 1389.57 622.845 1386.03 Q621.04 1382.47 617.405 1382.47 M617.405 1378.76 Q623.215 1378.76 626.271 1383.37 Q629.35 1387.95 629.35 1396.7 Q629.35 1405.43 626.271 1410.04 Q623.215 1414.62 617.405 1414.62 Q611.595 1414.62 608.516 1410.04 Q605.461 1405.43 605.461 1396.7 Q605.461 1387.95 608.516 1383.37 Q611.595 1378.76 617.405 1378.76 Z\" fill=\"#000000\" fill-rule=\"nonzero\" fill-opacity=\"1\" /><path clip-path=\"url(#clip390)\" d=\"M1026.66 1410.01 L1042.98 1410.01 L1042.98 1413.95 L1021.04 1413.95 L1021.04 1410.01 Q1023.7 1407.26 1028.28 1402.63 Q1032.89 1397.98 1034.07 1396.63 Q1036.31 1394.11 1037.19 1392.37 Q1038.1 1390.61 1038.1 1388.92 Q1038.1 1386.17 1036.15 1384.43 Q1034.23 1382.7 1031.13 1382.7 Q1028.93 1382.7 1026.48 1383.46 Q1024.04 1384.23 1021.27 1385.78 L1021.27 1381.05 Q1024.09 1379.92 1026.54 1379.34 Q1029 1378.76 1031.04 1378.76 Q1036.41 1378.76 1039.6 1381.45 Q1042.79 1384.13 1042.79 1388.62 Q1042.79 1390.75 1041.98 1392.67 Q1041.2 1394.57 1039.09 1397.17 Q1038.51 1397.84 1035.41 1401.05 Q1032.31 1404.25 1026.66 1410.01 Z\" fill=\"#000000\" fill-rule=\"nonzero\" fill-opacity=\"1\" /><path clip-path=\"url(#clip390)\" d=\"M1052.79 1408.07 L1057.68 1408.07 L1057.68 1413.95 L1052.79 1413.95 L1052.79 1408.07 Z\" fill=\"#000000\" fill-rule=\"nonzero\" fill-opacity=\"1\" /><path clip-path=\"url(#clip390)\" d=\"M1067.91 1379.39 L1086.27 1379.39 L1086.27 1383.32 L1072.19 1383.32 L1072.19 1391.8 Q1073.21 1391.45 1074.23 1391.29 Q1075.25 1391.1 1076.27 1391.1 Q1082.05 1391.1 1085.43 1394.27 Q1088.81 1397.44 1088.81 1402.86 Q1088.81 1408.44 1085.34 1411.54 Q1081.87 1414.62 1075.55 1414.62 Q1073.37 1414.62 1071.1 1414.25 Q1068.86 1413.88 1066.45 1413.14 L1066.45 1408.44 Q1068.54 1409.57 1070.76 1410.13 Q1072.98 1410.68 1075.46 1410.68 Q1079.46 1410.68 1081.8 1408.58 Q1084.14 1406.47 1084.14 1402.86 Q1084.14 1399.25 1081.8 1397.14 Q1079.46 1395.04 1075.46 1395.04 Q1073.58 1395.04 1071.71 1395.45 Q1069.85 1395.87 1067.91 1396.75 L1067.91 1379.39 Z\" fill=\"#000000\" fill-rule=\"nonzero\" fill-opacity=\"1\" /><path clip-path=\"url(#clip390)\" d=\"M1482.22 1379.39 L1500.58 1379.39 L1500.58 1383.32 L1486.51 1383.32 L1486.51 1391.8 Q1487.52 1391.45 1488.54 1391.29 Q1489.56 1391.1 1490.58 1391.1 Q1496.37 1391.1 1499.75 1394.27 Q1503.13 1397.44 1503.13 1402.86 Q1503.13 1408.44 1499.65 1411.54 Q1496.18 1414.62 1489.86 1414.62 Q1487.69 1414.62 1485.42 1414.25 Q1483.17 1413.88 1480.76 1413.14 L1480.76 1408.44 Q1482.85 1409.57 1485.07 1410.13 Q1487.29 1410.68 1489.77 1410.68 Q1493.77 1410.68 1496.11 1408.58 Q1498.45 1406.47 1498.45 1402.86 Q1498.45 1399.25 1496.11 1397.14 Q1493.77 1395.04 1489.77 1395.04 Q1487.89 1395.04 1486.02 1395.45 Q1484.17 1395.87 1482.22 1396.75 L1482.22 1379.39 Z\" fill=\"#000000\" fill-rule=\"nonzero\" fill-opacity=\"1\" /><path clip-path=\"url(#clip390)\" d=\"M1512.34 1408.07 L1517.22 1408.07 L1517.22 1413.95 L1512.34 1413.95 L1512.34 1408.07 Z\" fill=\"#000000\" fill-rule=\"nonzero\" fill-opacity=\"1\" /><path clip-path=\"url(#clip390)\" d=\"M1537.41 1382.47 Q1533.8 1382.47 1531.97 1386.03 Q1530.16 1389.57 1530.16 1396.7 Q1530.16 1403.81 1531.97 1407.37 Q1533.8 1410.92 1537.41 1410.92 Q1541.04 1410.92 1542.85 1407.37 Q1544.68 1403.81 1544.68 1396.7 Q1544.68 1389.57 1542.85 1386.03 Q1541.04 1382.47 1537.41 1382.47 M1537.41 1378.76 Q1543.22 1378.76 1546.27 1383.37 Q1549.35 1387.95 1549.35 1396.7 Q1549.35 1405.43 1546.27 1410.04 Q1543.22 1414.62 1537.41 1414.62 Q1531.6 1414.62 1528.52 1410.04 Q1525.46 1405.43 1525.46 1396.7 Q1525.46 1387.95 1528.52 1383.37 Q1531.6 1378.76 1537.41 1378.76 Z\" fill=\"#000000\" fill-rule=\"nonzero\" fill-opacity=\"1\" /><path clip-path=\"url(#clip390)\" d=\"M1941.51 1379.39 L1963.73 1379.39 L1963.73 1381.38 L1951.19 1413.95 L1946.3 1413.95 L1958.11 1383.32 L1941.51 1383.32 L1941.51 1379.39 Z\" fill=\"#000000\" fill-rule=\"nonzero\" fill-opacity=\"1\" /><path clip-path=\"url(#clip390)\" d=\"M1972.85 1408.07 L1977.74 1408.07 L1977.74 1413.95 L1972.85 1413.95 L1972.85 1408.07 Z\" fill=\"#000000\" fill-rule=\"nonzero\" fill-opacity=\"1\" /><path clip-path=\"url(#clip390)\" d=\"M1987.97 1379.39 L2006.33 1379.39 L2006.33 1383.32 L1992.25 1383.32 L1992.25 1391.8 Q1993.27 1391.45 1994.29 1391.29 Q1995.31 1391.1 1996.33 1391.1 Q2002.11 1391.1 2005.49 1394.27 Q2008.87 1397.44 2008.87 1402.86 Q2008.87 1408.44 2005.4 1411.54 Q2001.93 1414.62 1995.61 1414.62 Q1993.43 1414.62 1991.17 1414.25 Q1988.92 1413.88 1986.51 1413.14 L1986.51 1408.44 Q1988.6 1409.57 1990.82 1410.13 Q1993.04 1410.68 1995.52 1410.68 Q1999.52 1410.68 2001.86 1408.58 Q2004.2 1406.47 2004.2 1402.86 Q2004.2 1399.25 2001.86 1397.14 Q1999.52 1395.04 1995.52 1395.04 Q1993.64 1395.04 1991.77 1395.45 Q1989.92 1395.87 1987.97 1396.75 L1987.97 1379.39 Z\" fill=\"#000000\" fill-rule=\"nonzero\" fill-opacity=\"1\" /><path clip-path=\"url(#clip390)\" d=\"M1139.43 1451.26 Q1139.43 1456.67 1137.69 1462.76 Q1135.98 1468.82 1133.28 1473.71 Q1130.57 1478.57 1127.03 1481.8 Q1123.49 1484.98 1120.11 1484.98 Q1117.95 1484.98 1116.34 1483.79 Q1114.76 1482.57 1113.89 1480.54 Q1113.02 1478.48 1112.6 1476.22 Q1112.18 1473.94 1112.18 1471.46 Q1112.18 1467.75 1112.99 1463.73 Q1113.79 1459.67 1115.15 1456 Q1116.5 1452.29 1118.4 1448.95 Q1120.3 1445.56 1122.39 1443.12 Q1124.52 1440.64 1126.9 1439.19 Q1129.28 1437.74 1131.51 1437.74 Q1133.12 1437.74 1134.4 1438.45 Q1135.72 1439.12 1136.56 1440.31 Q1137.4 1441.47 1137.98 1442.86 Q1138.59 1444.24 1138.88 1445.85 Q1139.17 1447.43 1139.3 1448.75 Q1139.43 1450.04 1139.43 1451.26 M1135.08 1447.17 Q1135.08 1445.53 1134.95 1444.31 Q1134.82 1443.05 1134.47 1441.8 Q1134.11 1440.54 1133.34 1439.86 Q1132.6 1439.19 1131.44 1439.19 Q1128.06 1439.19 1124.26 1446.11 Q1123.04 1448.27 1121.94 1451.2 Q1120.85 1454.13 1120.46 1455.52 Q1120.07 1456.9 1119.17 1460.31 L1132.96 1460.31 Q1135.08 1451.52 1135.08 1447.17 M1132.38 1462.41 L1118.66 1462.41 Q1116.53 1470.46 1116.53 1475.48 Q1116.53 1479.86 1117.43 1481.7 Q1118.37 1483.5 1120.11 1483.5 Q1122.1 1483.5 1123.97 1481.51 Q1125.84 1479.48 1127.74 1475.81 Q1130.25 1471.04 1132.38 1462.41 Z\" fill=\"#000000\" fill-rule=\"nonzero\" fill-opacity=\"1\" /><path clip-path=\"url(#clip390)\" d=\"M1169.2 1479.75 Q1169.2 1481.01 1168.41 1481.73 Q1167.62 1482.43 1166.72 1482.43 Q1165.87 1482.43 1165.41 1481.93 Q1164.96 1481.44 1164.96 1480.81 Q1164.96 1479.95 1165.59 1479.21 Q1166.23 1478.46 1167.17 1478.3 Q1166.25 1477.72 1164.87 1477.72 Q1163.97 1477.72 1163.18 1478.19 Q1162.42 1478.66 1161.94 1479.27 Q1161.49 1479.88 1161.09 1480.76 Q1160.7 1481.62 1160.54 1482.14 Q1160.41 1482.63 1160.3 1483.17 L1158.72 1489.49 Q1157.95 1492.48 1157.95 1493.54 Q1157.95 1494.85 1158.58 1495.73 Q1159.21 1496.59 1160.48 1496.59 Q1160.97 1496.59 1161.54 1496.45 Q1162.1 1496.29 1162.82 1495.89 Q1163.57 1495.46 1164.22 1494.83 Q1164.9 1494.17 1165.55 1493.07 Q1166.2 1491.97 1166.63 1490.54 Q1166.77 1490.05 1167.22 1490.05 Q1167.78 1490.05 1167.78 1490.5 Q1167.78 1490.88 1167.47 1491.69 Q1167.17 1492.48 1166.52 1493.52 Q1165.89 1494.54 1165.05 1495.46 Q1164.22 1496.36 1162.98 1496.99 Q1161.74 1497.62 1160.39 1497.62 Q1158.45 1497.62 1157.16 1496.59 Q1155.88 1495.55 1155.4 1494.11 Q1155.29 1494.31 1155.13 1494.58 Q1154.98 1494.85 1154.5 1495.46 Q1154.05 1496.05 1153.53 1496.5 Q1153.02 1496.92 1152.2 1497.26 Q1151.41 1497.62 1150.56 1497.62 Q1149.48 1497.62 1148.51 1497.31 Q1147.56 1496.99 1146.88 1496.27 Q1146.21 1495.55 1146.21 1494.56 Q1146.21 1493.45 1146.95 1492.69 Q1147.72 1491.9 1148.75 1491.9 Q1149.41 1491.9 1149.93 1492.28 Q1150.47 1492.66 1150.47 1493.5 Q1150.47 1494.42 1149.84 1495.12 Q1149.21 1495.82 1148.3 1496 Q1149.23 1496.59 1150.6 1496.59 Q1152.09 1496.59 1153.26 1495.28 Q1154.44 1493.97 1155 1491.78 Q1156.4 1486.53 1156.94 1484.19 Q1157.48 1481.82 1157.48 1480.81 Q1157.48 1479.86 1157.23 1479.21 Q1156.98 1478.55 1156.55 1478.26 Q1156.15 1477.94 1155.77 1477.83 Q1155.4 1477.72 1155 1477.72 Q1154.32 1477.72 1153.56 1477.99 Q1152.81 1478.26 1151.91 1478.89 Q1151.03 1479.5 1150.2 1480.76 Q1149.36 1482.02 1148.8 1483.76 Q1148.69 1484.28 1148.19 1484.28 Q1147.65 1484.25 1147.65 1483.8 Q1147.65 1483.42 1147.94 1482.63 Q1148.26 1481.82 1148.89 1480.81 Q1149.54 1479.79 1150.38 1478.89 Q1151.23 1477.97 1152.47 1477.33 Q1153.74 1476.7 1155.09 1476.7 Q1155.7 1476.7 1156.28 1476.84 Q1156.89 1476.95 1157.61 1477.29 Q1158.36 1477.63 1159.01 1478.37 Q1159.67 1479.11 1160.07 1480.2 Q1160.34 1479.68 1160.7 1479.18 Q1161.09 1478.69 1161.67 1478.08 Q1162.28 1477.45 1163.11 1477.09 Q1163.97 1476.7 1164.92 1476.7 Q1165.84 1476.7 1166.74 1476.95 Q1167.65 1477.18 1168.41 1477.92 Q1169.2 1478.64 1169.2 1479.75 Z\" fill=\"#000000\" fill-rule=\"nonzero\" fill-opacity=\"1\" /><polyline clip-path=\"url(#clip393)\" style=\"stroke:#000000; stroke-linecap:round; stroke-linejoin:round; stroke-width:2; stroke-opacity:0.1; fill:none\" points=\"175.445,1322.64 2112.76,1322.64 \"/>\n",
       "<polyline clip-path=\"url(#clip393)\" style=\"stroke:#000000; stroke-linecap:round; stroke-linejoin:round; stroke-width:2; stroke-opacity:0.1; fill:none\" points=\"175.445,1138.58 2112.76,1138.58 \"/>\n",
       "<polyline clip-path=\"url(#clip393)\" style=\"stroke:#000000; stroke-linecap:round; stroke-linejoin:round; stroke-width:2; stroke-opacity:0.1; fill:none\" points=\"175.445,954.529 2112.76,954.529 \"/>\n",
       "<polyline clip-path=\"url(#clip393)\" style=\"stroke:#000000; stroke-linecap:round; stroke-linejoin:round; stroke-width:2; stroke-opacity:0.1; fill:none\" points=\"175.445,770.476 2112.76,770.476 \"/>\n",
       "<polyline clip-path=\"url(#clip393)\" style=\"stroke:#000000; stroke-linecap:round; stroke-linejoin:round; stroke-width:2; stroke-opacity:0.1; fill:none\" points=\"175.445,586.422 2112.76,586.422 \"/>\n",
       "<polyline clip-path=\"url(#clip393)\" style=\"stroke:#000000; stroke-linecap:round; stroke-linejoin:round; stroke-width:2; stroke-opacity:0.1; fill:none\" points=\"175.445,402.368 2112.76,402.368 \"/>\n",
       "<polyline clip-path=\"url(#clip393)\" style=\"stroke:#000000; stroke-linecap:round; stroke-linejoin:round; stroke-width:2; stroke-opacity:0.1; fill:none\" points=\"175.445,218.314 2112.76,218.314 \"/>\n",
       "<polyline clip-path=\"url(#clip390)\" style=\"stroke:#000000; stroke-linecap:round; stroke-linejoin:round; stroke-width:4; stroke-opacity:1; fill:none\" points=\"175.445,1351.55 175.445,195.104 \"/>\n",
       "<polyline clip-path=\"url(#clip390)\" style=\"stroke:#000000; stroke-linecap:round; stroke-linejoin:round; stroke-width:4; stroke-opacity:1; fill:none\" points=\"175.445,1322.64 192.26,1322.64 \"/>\n",
       "<polyline clip-path=\"url(#clip390)\" style=\"stroke:#000000; stroke-linecap:round; stroke-linejoin:round; stroke-width:4; stroke-opacity:1; fill:none\" points=\"175.445,1138.58 192.26,1138.58 \"/>\n",
       "<polyline clip-path=\"url(#clip390)\" style=\"stroke:#000000; stroke-linecap:round; stroke-linejoin:round; stroke-width:4; stroke-opacity:1; fill:none\" points=\"175.445,954.529 192.26,954.529 \"/>\n",
       "<polyline clip-path=\"url(#clip390)\" style=\"stroke:#000000; stroke-linecap:round; stroke-linejoin:round; stroke-width:4; stroke-opacity:1; fill:none\" points=\"175.445,770.476 192.26,770.476 \"/>\n",
       "<polyline clip-path=\"url(#clip390)\" style=\"stroke:#000000; stroke-linecap:round; stroke-linejoin:round; stroke-width:4; stroke-opacity:1; fill:none\" points=\"175.445,586.422 192.26,586.422 \"/>\n",
       "<polyline clip-path=\"url(#clip390)\" style=\"stroke:#000000; stroke-linecap:round; stroke-linejoin:round; stroke-width:4; stroke-opacity:1; fill:none\" points=\"175.445,402.368 192.26,402.368 \"/>\n",
       "<polyline clip-path=\"url(#clip390)\" style=\"stroke:#000000; stroke-linecap:round; stroke-linejoin:round; stroke-width:4; stroke-opacity:1; fill:none\" points=\"175.445,218.314 192.26,218.314 \"/>\n",
       "<path clip-path=\"url(#clip390)\" d=\"M127.501 1308.44 Q123.89 1308.44 122.061 1312 Q120.255 1315.54 120.255 1322.67 Q120.255 1329.78 122.061 1333.34 Q123.89 1336.88 127.501 1336.88 Q131.135 1336.88 132.941 1333.34 Q134.769 1329.78 134.769 1322.67 Q134.769 1315.54 132.941 1312 Q131.135 1308.44 127.501 1308.44 M127.501 1304.73 Q133.311 1304.73 136.367 1309.34 Q139.445 1313.92 139.445 1322.67 Q139.445 1331.4 136.367 1336 Q133.311 1340.59 127.501 1340.59 Q121.691 1340.59 118.612 1336 Q115.556 1331.4 115.556 1322.67 Q115.556 1313.92 118.612 1309.34 Q121.691 1304.73 127.501 1304.73 Z\" fill=\"#000000\" fill-rule=\"nonzero\" fill-opacity=\"1\" /><path clip-path=\"url(#clip390)\" d=\"M119.538 1151.93 L127.177 1151.93 L127.177 1125.56 L118.867 1127.23 L118.867 1122.97 L127.13 1121.3 L131.806 1121.3 L131.806 1151.93 L139.445 1151.93 L139.445 1155.86 L119.538 1155.86 L119.538 1151.93 Z\" fill=\"#000000\" fill-rule=\"nonzero\" fill-opacity=\"1\" /><path clip-path=\"url(#clip390)\" d=\"M123.126 967.874 L139.445 967.874 L139.445 971.809 L117.501 971.809 L117.501 967.874 Q120.163 965.12 124.746 960.49 Q129.353 955.837 130.533 954.495 Q132.779 951.971 133.658 950.235 Q134.561 948.476 134.561 946.786 Q134.561 944.032 132.617 942.296 Q130.695 940.559 127.593 940.559 Q125.394 940.559 122.941 941.323 Q120.51 942.087 117.732 943.638 L117.732 938.916 Q120.556 937.782 123.01 937.203 Q125.464 936.624 127.501 936.624 Q132.871 936.624 136.066 939.309 Q139.26 941.995 139.26 946.485 Q139.26 948.615 138.45 950.536 Q137.663 952.434 135.556 955.027 Q134.978 955.698 131.876 958.916 Q128.774 962.11 123.126 967.874 Z\" fill=\"#000000\" fill-rule=\"nonzero\" fill-opacity=\"1\" /><path clip-path=\"url(#clip390)\" d=\"M132.316 769.121 Q135.672 769.839 137.547 772.107 Q139.445 774.376 139.445 777.709 Q139.445 782.825 135.927 785.626 Q132.408 788.427 125.927 788.427 Q123.751 788.427 121.436 787.987 Q119.144 787.57 116.691 786.714 L116.691 782.2 Q118.635 783.334 120.95 783.913 Q123.265 784.492 125.788 784.492 Q130.186 784.492 132.478 782.756 Q134.792 781.019 134.792 777.709 Q134.792 774.654 132.64 772.941 Q130.51 771.205 126.691 771.205 L122.663 771.205 L122.663 767.362 L126.876 767.362 Q130.325 767.362 132.154 765.996 Q133.982 764.608 133.982 762.015 Q133.982 759.353 132.084 757.941 Q130.209 756.506 126.691 756.506 Q124.769 756.506 122.57 756.922 Q120.371 757.339 117.732 758.219 L117.732 754.052 Q120.394 753.311 122.709 752.941 Q125.047 752.571 127.107 752.571 Q132.431 752.571 135.533 755.001 Q138.635 757.408 138.635 761.529 Q138.635 764.399 136.992 766.39 Q135.348 768.358 132.316 769.121 Z\" fill=\"#000000\" fill-rule=\"nonzero\" fill-opacity=\"1\" /><path clip-path=\"url(#clip390)\" d=\"M129.862 573.216 L118.056 591.665 L129.862 591.665 L129.862 573.216 M128.635 569.142 L134.515 569.142 L134.515 591.665 L139.445 591.665 L139.445 595.554 L134.515 595.554 L134.515 603.702 L129.862 603.702 L129.862 595.554 L114.26 595.554 L114.26 591.04 L128.635 569.142 Z\" fill=\"#000000\" fill-rule=\"nonzero\" fill-opacity=\"1\" /><path clip-path=\"url(#clip390)\" d=\"M118.543 385.088 L136.899 385.088 L136.899 389.023 L122.825 389.023 L122.825 397.495 Q123.843 397.148 124.862 396.986 Q125.88 396.801 126.899 396.801 Q132.686 396.801 136.066 399.972 Q139.445 403.143 139.445 408.56 Q139.445 414.139 135.973 417.241 Q132.501 420.319 126.181 420.319 Q124.005 420.319 121.737 419.949 Q119.492 419.579 117.084 418.838 L117.084 414.139 Q119.168 415.273 121.39 415.829 Q123.612 416.384 126.089 416.384 Q130.093 416.384 132.431 414.278 Q134.769 412.171 134.769 408.56 Q134.769 404.949 132.431 402.843 Q130.093 400.736 126.089 400.736 Q124.214 400.736 122.339 401.153 Q120.487 401.569 118.543 402.449 L118.543 385.088 Z\" fill=\"#000000\" fill-rule=\"nonzero\" fill-opacity=\"1\" /><path clip-path=\"url(#clip390)\" d=\"M127.917 216.451 Q124.769 216.451 122.918 218.604 Q121.089 220.756 121.089 224.506 Q121.089 228.233 122.918 230.409 Q124.769 232.562 127.917 232.562 Q131.066 232.562 132.894 230.409 Q134.746 228.233 134.746 224.506 Q134.746 220.756 132.894 218.604 Q131.066 216.451 127.917 216.451 M137.2 201.798 L137.2 206.057 Q135.441 205.224 133.635 204.784 Q131.853 204.344 130.093 204.344 Q125.464 204.344 123.01 207.469 Q120.58 210.594 120.232 216.914 Q121.598 214.9 123.658 213.835 Q125.718 212.747 128.195 212.747 Q133.404 212.747 136.413 215.918 Q139.445 219.067 139.445 224.506 Q139.445 229.83 136.297 233.048 Q133.149 236.266 127.917 236.266 Q121.922 236.266 118.751 231.682 Q115.58 227.076 115.58 218.349 Q115.58 210.155 119.468 205.293 Q123.357 200.409 129.908 200.409 Q131.667 200.409 133.45 200.756 Q135.255 201.104 137.2 201.798 Z\" fill=\"#000000\" fill-rule=\"nonzero\" fill-opacity=\"1\" /><path clip-path=\"url(#clip390)\" d=\"M28.6829 777.161 Q34.0935 777.161 40.1804 778.9 Q46.2351 780.607 51.1304 783.313 Q55.9935 786.018 59.2141 789.56 Q62.4025 793.103 62.4025 796.485 Q62.4025 798.643 61.2109 800.253 Q59.987 801.831 57.9581 802.7 Q55.8969 803.57 53.6425 803.989 Q51.3559 804.407 48.876 804.407 Q45.1724 804.407 41.1466 803.602 Q37.0887 802.797 33.4172 801.444 Q29.7135 800.092 26.3641 798.192 Q22.9825 796.292 20.5349 794.198 Q18.055 792.073 16.6058 789.689 Q15.1565 787.306 15.1565 785.084 Q15.1565 783.474 15.865 782.185 Q16.5413 780.865 17.733 780.028 Q18.8924 779.19 20.2772 778.61 Q21.6621 777.999 23.2724 777.709 Q24.8505 777.419 26.1709 777.29 Q27.4591 777.161 28.6829 777.161 M24.5928 781.509 Q22.9503 781.509 21.7265 781.638 Q20.4705 781.767 19.2144 782.121 Q17.9584 782.475 17.2821 783.248 Q16.6058 783.989 16.6058 785.148 Q16.6058 788.53 23.53 792.33 Q25.6878 793.554 28.6185 794.649 Q31.5493 795.744 32.9341 796.13 Q34.319 796.517 37.7328 797.419 L37.7328 783.635 Q28.9406 781.509 24.5928 781.509 M39.8262 784.214 L39.8262 797.934 Q47.8776 800.06 52.9018 800.06 Q57.2818 800.06 59.1175 799.158 Q60.921 798.224 60.921 796.485 Q60.921 794.488 58.9243 792.62 Q56.8953 790.752 53.2238 788.852 Q48.4573 786.34 39.8262 784.214 Z\" fill=\"#000000\" fill-rule=\"nonzero\" fill-opacity=\"1\" /><path clip-path=\"url(#clip390)\" d=\"M55.8797 749.079 Q56.1953 749.079 56.9392 749.282 L74.5687 753.7 Q78.4914 754.67 81.2418 757.826 Q83.9921 760.96 83.9921 764.522 Q83.9921 766.663 82.8424 768.038 Q81.7152 769.414 79.9793 769.414 Q78.4463 769.414 77.7023 768.602 Q76.9809 767.79 76.9809 766.821 Q76.9809 766.505 77.0711 766.167 Q77.1613 765.829 77.5445 765.468 Q77.9278 765.108 78.5816 765.108 Q79.6411 765.108 80.4753 766.032 Q80.8585 766.483 80.9487 766.911 Q81.0389 767.317 81.0389 768.016 Q81.6701 767.745 82.0984 767.249 Q82.5268 766.753 82.6846 766.19 Q82.8649 765.626 82.91 765.266 Q82.9777 764.882 82.9777 764.522 Q82.9777 761.636 80.0695 759.427 Q79.1903 758.773 78.311 758.299 Q77.4544 757.803 76.3948 757.443 Q75.3578 757.082 74.7942 756.924 Q74.2306 756.744 72.9455 756.428 Q75.0421 758.525 75.0421 761.095 Q75.0421 762.177 74.7491 763.146 Q74.456 764.093 73.8473 764.927 Q73.2161 765.761 72.1114 766.257 Q71.0067 766.731 69.5414 766.731 Q67.9858 766.731 65.8667 766.122 Q63.7475 765.513 59.8474 764.048 Q57.6606 763.259 56.6011 763.259 Q56.0826 763.259 55.7669 763.372 Q55.4288 763.485 55.3161 763.71 Q55.1808 763.935 55.1582 764.071 Q55.1357 764.183 55.1357 764.409 Q55.1357 765.739 56.4883 766.979 Q57.841 768.219 60.8619 769.075 Q61.4255 769.256 61.5608 769.369 Q61.696 769.481 61.696 769.819 Q61.6735 770.383 61.2226 770.383 Q61.0423 770.383 60.3434 770.18 Q59.622 769.977 58.5624 769.504 Q57.4803 769.008 56.5109 768.332 Q55.5189 767.655 54.8201 766.596 Q54.1212 765.513 54.1212 764.274 Q54.1212 762.583 55.2259 761.546 Q56.308 760.486 57.9086 760.486 Q58.5624 760.486 59.1485 760.667 Q59.7122 760.824 61.2226 761.41 Q67.3095 763.778 70.2853 763.778 Q71.0067 763.778 71.6154 763.665 Q72.2016 763.53 72.7877 763.237 Q73.3513 762.943 73.6895 762.357 Q74.0051 761.749 74.0051 760.914 Q74.0051 759.855 73.5091 758.863 Q72.9906 757.848 72.2918 757.217 Q71.5929 756.563 71.0067 756.18 Q70.3981 755.774 70.0824 755.684 L61.7862 753.61 L58.089 752.686 Q56.0826 752.258 55.5866 752.055 Q55.1132 751.784 54.8652 751.311 Q54.6172 750.837 54.6172 750.431 Q54.6172 749.868 54.9553 749.485 Q55.2935 749.079 55.8797 749.079 Z\" fill=\"#000000\" fill-rule=\"nonzero\" fill-opacity=\"1\" /><path clip-path=\"url(#clip390)\" d=\"M1138.17 16.274 L1136.49 30.7842 Q1136.36 32.0959 1136.16 32.5058 Q1135.95 32.8747 1135.3 32.8747 Q1134.32 32.8747 1134.32 31.8909 Q1134.32 31.481 1134.48 30.3743 Q1134.72 28.1199 1134.72 25.8245 Q1134.72 23.2422 1134.23 21.6436 Q1133.78 20.004 1132.47 18.8154 Q1131.16 17.6267 1128.74 17.1348 Q1126.32 16.6019 1122.47 16.6019 L1111.4 16.6019 Q1108.7 16.6019 1108.04 17.0938 Q1107.43 17.5857 1106.85 19.8811 L1101.48 41.1955 L1109.11 41.1955 Q1114.44 41.1955 1116.53 39.6379 Q1118.62 38.0803 1119.93 33.1206 Q1120.13 32.3418 1120.21 32.0549 Q1120.34 31.727 1120.54 31.563 Q1120.79 31.3581 1121.2 31.3581 Q1121.57 31.3581 1121.81 31.604 Q1122.06 31.809 1122.14 32.0549 L1122.22 32.3008 Q1122.22 32.7107 1121.98 33.6535 L1117.35 51.8527 Q1117.02 53.0824 1116.81 53.3693 Q1116.65 53.6153 1116.07 53.6153 Q1115.66 53.6153 1115.38 53.3283 Q1115.09 53.0414 1115.09 52.5905 Q1115.17 52.0987 1115.34 51.6888 Q1115.91 49.1884 1115.91 47.5898 Q1115.91 46.5651 1115.71 45.9503 Q1115.5 45.3354 1114.8 44.8026 Q1114.11 44.2697 1112.67 44.0238 Q1111.24 43.7778 1108.94 43.7778 L1100.83 43.7778 L1095.62 64.6824 L1095.25 66.6089 Q1095.25 67.4696 1095.7 67.7975 Q1096.2 68.1255 1097.96 68.2894 Q1100.58 68.4944 1102.3 68.4944 Q1104.43 68.4944 1104.68 68.5763 Q1105.17 68.8223 1105.17 69.4781 Q1105.17 70.2159 1104.84 70.6258 Q1104.52 70.9947 1104.23 71.0357 Q1103.94 71.0767 1103.41 71.0767 L1090.91 70.8308 L1079.84 71.0767 Q1078.57 71.0767 1078.57 70.052 Q1078.57 69.2732 1078.9 68.9452 Q1079.23 68.5763 1079.59 68.5354 Q1079.96 68.4944 1080.91 68.4944 Q1082.96 68.4944 1084.19 68.3714 Q1085.41 68.2484 1086.19 68.0845 Q1087.01 67.8795 1087.42 67.3057 Q1087.87 66.7318 1088.08 66.24 Q1088.28 65.7071 1088.57 64.5184 L1099.64 20.127 Q1100.05 18.6104 1100.05 18.1185 Q1100.05 17.5857 1099.68 17.2578 Q1099.35 16.9299 1098.45 16.8069 Q1097.55 16.6429 1096.81 16.6429 Q1096.11 16.6019 1094.6 16.6019 Q1093.61 16.6019 1093.2 16.5609 Q1092.83 16.52 1092.55 16.315 Q1092.26 16.1101 1092.26 15.6592 Q1092.26 14.5115 1092.75 14.2655 Q1093.28 13.9786 1094.76 13.9786 L1135.91 13.9786 Q1137.55 13.9786 1137.92 14.3475 Q1138.33 14.6754 1138.17 16.274 Z\" fill=\"#000000\" fill-rule=\"nonzero\" fill-opacity=\"1\" /><path clip-path=\"url(#clip390)\" d=\"M1146.72 60.7927 L1146.72 58.9563 Q1153.78 58.9563 1157.42 55.1976 Q1158.42 55.1976 1158.6 55.4272 Q1158.77 55.6567 1158.77 56.7183 L1158.77 89.686 Q1158.77 91.4362 1159.63 91.9814 Q1160.49 92.5266 1164.25 92.5266 L1166.11 92.5266 L1166.11 94.3342 Q1164.05 94.162 1156.59 94.162 Q1149.13 94.162 1147.09 94.3342 L1147.09 92.5266 L1148.96 92.5266 Q1152.66 92.5266 1153.55 92.0101 Q1154.44 91.4649 1154.44 89.686 L1154.44 59.2433 Q1151.37 60.7927 1146.72 60.7927 Z\" fill=\"#000000\" fill-rule=\"nonzero\" fill-opacity=\"1\" /><path clip-path=\"url(#clip390)\" d=\"M1171.57 94.3342 Q1171.57 93.2726 1171.66 92.9569 Q1171.77 92.6413 1172.23 92.1536 L1183.51 79.5862 Q1189.68 72.6427 1189.68 66.5885 Q1189.68 62.6577 1187.61 59.8458 Q1185.57 57.0339 1181.82 57.0339 Q1179.23 57.0339 1177.05 58.612 Q1174.87 60.1901 1173.87 63.002 Q1174.04 62.9446 1174.64 62.9446 Q1176.11 62.9446 1176.91 63.8628 Q1177.74 64.7809 1177.74 66.0147 Q1177.74 67.5928 1176.71 68.3675 Q1175.7 69.1135 1174.7 69.1135 Q1174.3 69.1135 1173.75 69.0274 Q1173.24 68.9413 1172.4 68.1379 Q1171.57 67.3059 1171.57 65.8425 Q1171.57 61.7395 1174.67 58.4686 Q1177.8 55.1976 1182.56 55.1976 Q1187.96 55.1976 1191.48 58.4112 Q1195.04 61.5961 1195.04 66.5885 Q1195.04 68.3388 1194.5 69.9456 Q1193.98 71.5237 1193.26 72.7574 Q1192.58 73.9912 1190.68 75.971 Q1188.79 77.9508 1187.27 79.3567 Q1185.75 80.7626 1182.33 83.7467 L1176.11 89.8008 L1186.69 89.8008 Q1191.86 89.8008 1192.26 89.3417 Q1192.83 88.5096 1193.55 84.1197 L1195.04 84.1197 L1193.38 94.3342 L1171.57 94.3342 Z\" fill=\"#000000\" fill-rule=\"nonzero\" fill-opacity=\"1\" /><g clip-path=\"url(#clip393)\">\n",
       "<image width=\"1156\" height=\"1156\" xlink:href=\"data:image/png;base64,\n",
       "iVBORw0KGgoAAAANSUhEUgAABIQAAASECAYAAAAV0tQ2AAAgAElEQVR4nOzaTW5c14GG4bpVJVKS\n",
       "9UMbjm0YDQdGAA+8AC8m6wt6D9lCBhl6FgSdjt22bCiUqB+TYtXtseescwC+z7OC76BKdQ9f3eV2\n",
       "/cu6CVjXxDE363o7e8IQh+P17AlDHA/vZ084ucPt1ewJQ6w3r2ZPGGK5vpw9YYjtTeN7u9w2fmsL\n",
       "1v357AlDHM+ezp4wxHp+MXvCEMvZ89kTTm63b3xnt7tHsycMsds2fmuXZT97whDLssyecHLb2QMA\n",
       "AAAAGEsQAgAAAIgRhAAAAABiBCEAAACAGEEIAAAAIEYQAgAAAIgRhAAAAABiBCEAAACAGEEIAAAA\n",
       "IEYQAgAAAIgRhAAAAABiBCEAAACAGEEIAAAAIEYQAgAAAIgRhAAAAABiBCEAAACAGEEIAAAAIEYQ\n",
       "AgAAAIgRhAAAAABiBCEAAACAGEEIAAAAIEYQAgAAAIgRhAAAAABiBCEAAACAGEEIAAAAIEYQAgAA\n",
       "AIgRhAAAAABiBCEAAACAGEEIAAAAIEYQAgAAAIgRhAAAAABiBCEAAACAGEEIAAAAIEYQAgAAAIgR\n",
       "hAAAAABiBCEAAACAGEEIAAAAIEYQAgAAAIgRhAAAAABiBCEAAACAGEEIAAAAIEYQAgAAAIgRhAAA\n",
       "AABiBCEAAACAGEEIAAAAIEYQAgAAAIgRhAAAAABiBCEAAACAGEEIAAAAIEYQAgAAAIgRhAAAAABi\n",
       "BCEAAACAGEEIAAAAIEYQAgAAAIgRhAAAAABiBCEAAACAGEEIAAAAIGa/ruvsDUOs63H2hCGc835Z\n",
       "18PsCad3vJ29YIzjzewFQyyH69kThlhuI+f80Dgn98eyO5s9YYg18kwp3BESd71N6e7eOOdmUznn\n",
       "/X9/5v6fEAAAAIDfEYQAAAAAYgQhAAAAgBhBCAAAACBGEAIAAACIEYQAAAAAYgQhAAAAgBhBCAAA\n",
       "ACBGEAIAAACIEYQAAAAAYgQhAAAAgBhBCAAAACBGEAIAAACIEYQAAAAAYgQhAAAAgBhBCAAAACBG\n",
       "EAIAAACIEYQAAAAAYgQhAAAAgBhBCAAAACBGEAIAAACIEYQAAAAAYgQhAAAAgBhBCAAAACBGEAIA\n",
       "AACIEYQAAAAAYgQhAAAAgBhBCAAAACBGEAIAAACIEYQAAAAAYgQhAAAAgBhBCAAAACBGEAIAAACI\n",
       "EYQAAAAAYgQhAAAAgBhBCAAAACBGEAIAAACIEYQAAAAAYgQhAAAAgBhBCAAAACBGEAIAAACIEYQA\n",
       "AAAAYgQhAAAAgBhBCAAAACBGEAIAAACIEYQAAAAAYgQhAAAAgBhBCAAAACBGEAIAAACIEYQAAAAA\n",
       "YgQhAAAAgBhBCAAAACBGEAIAAACIEYQAAAAAYgQhAAAAgBhBCAAAACBGEAIAAACI2a/r7ewNQ6zr\n",
       "cfaEIY7rh9kThliPN7MnDHE8/DZ7wsmth3ezJwyx3LyZPWGI7fXV7AlDbN+/nj1hiOXD/f8Nqlhv\n",
       "H86ewB1atw9mTxhi3Z3PnnByx+3Z7AlDLMt+9oQhjkvjfYvGKTebwknv/wkBAAAA+B1BCAAAACBG\n",
       "EAIAAACIEYQAAAAAYgQhAAAAgBhBCAAAACBGEAIAAACIEYQAAAAAYgQhAAAAgBhBCAAAACBGEAIA\n",
       "AACIEYQAAAAAYgQhAAAAgBhBCAAAACBGEAIAAACIEYQAAAAAYgQhAAAAgBhBCAAAACBGEAIAAACI\n",
       "EYQAAAAAYgQhAAAAgBhBCAAAACBGEAIAAACIEYQAAAAAYgQhAAAAgBhBCAAAACBGEAIAAACIEYQA\n",
       "AAAAYgQhAAAAgBhBCAAAACBGEAIAAACIEYQAAAAAYgQhAAAAgBhBCAAAACBGEAIAAACIEYQAAAAA\n",
       "YgQhAAAAgBhBCAAAACBGEAIAAACIEYQAAAAAYgQhAAAAgBhBCAAAACBGEAIAAACIEYQAAAAAYgQh\n",
       "AAAAgBhBCAAAACBGEAIAAACIEYQAAAAAYgQhAAAAgBhBCAAAACBGEAIAAACIEYQAAAAAYgQhAAAA\n",
       "gBhBCAAAACBGEAIAAACIEYQAAAAAYgQhAAAAgJj94Xg9e8MQ63qcPWGI9Xgze8IQx8O72ROGWG+v\n",
       "Zk84ueX6cvaEIXbvX86eMMTu6tfZE4bYvn01e8IQy/X72RO4I+v5o9kThlhuG/egisN2N3vCya3L\n",
       "/T/jZrPZHBfvIdwn67bxt/US+N7e/xMCAAAA8DuCEAAAAECMIAQAAAAQIwgBAAAAxAhCAAAAADGC\n",
       "EAAAAECMIAQAAAAQIwgBAAAAxAhCAAAAADGCEAAAAECMIAQAAAAQIwgBAAAAxAhCAAAAADGCEAAA\n",
       "AECMIAQAAAAQIwgBAAAAxAhCAAAAADGCEAAAAECMIAQAAAAQIwgBAAAAxAhCAAAAADGCEAAAAECM\n",
       "IAQAAAAQIwgBAAAAxAhCAAAAADGCEAAAAECMIAQAAAAQIwgBAAAAxAhCAAAAADGCEAAAAECMIAQA\n",
       "AAAQIwgBAAAAxAhCAAAAADGCEAAAAECMIAQAAAAQIwgBAAAAxAhCAAAAADGCEAAAAECMIAQAAAAQ\n",
       "IwgBAAAAxAhCAAAAADGCEAAAAECMIAQAAAAQIwgBAAAAxAhCAAAAADGCEAAAAECMIAQAAAAQIwgB\n",
       "AAAAxAhCAAAAADGCEAAAAECMIAQAAAAQIwgBAAAAxAhCAAAAADGCEAAAAECMIAQAAAAQIwgBAAAA\n",
       "xAhCAAAAADH74+H97A1DrOth9oQhjoffZk8YYr29mj1hiOW3l7MnnNzu7S+zJwyxe/Xz7AlD7F6+\n",
       "mD1hiOXyP7MnjPGu8UwpWB4/nD1hiOXi3ewJYxwb99qCw2aZPWGI4+wBg6xr46TbXeSZsuxmTzg5\n",
       "bwgBAAAAxAhCAAAAADGCEAAAAECMIAQAAAAQIwgBAAAAxAhCAAAAADGCEAAAAECMIAQAAAAQIwgB\n",
       "AAAAxAhCAAAAADGCEAAAAECMIAQAAAAQIwgBAAAAxAhCAAAAADGCEAAAAECMIAQAAAAQIwgBAAAA\n",
       "xAhCAAAAADGCEAAAAECMIAQAAAAQIwgBAAAAxAhCAAAAADGCEAAAAECMIAQAAAAQIwgBAAAAxAhC\n",
       "AAAAADGCEAAAAECMIAQAAAAQIwgBAAAAxAhCAAAAADGCEAAAAECMIAQAAAAQIwgBAAAAxAhCAAAA\n",
       "ADGCEAAAAECMIAQAAAAQIwgBAAAAxAhCAAAAADGCEAAAAECMIAQAAAAQIwgBAAAAxAhCAAAAADGC\n",
       "EAAAAECMIAQAAAAQIwgBAAAAxAhCAAAAADGCEAAAAECMIAQAAAAQIwgBAAAAxAhCAAAAADGCEAAA\n",
       "AECMIAQAAAAQIwgBAAAAxAhCAAAAADGCEAAAAECMIAQAAAAQsz/cXs3eMMbxdvaCIdbDu9kThliu\n",
       "L2dPGGL39pfZE05ud/l/sycMsXvx4+wJQyw/3f/v7Gaz2dz+fDZ7whC3r5/NnsAd2T9r3A/2n/8w\n",
       "e8IQuw83syeMsR5nL+COHDbr7AlDrOeH2ROGOB4fz54wxnY/e8HJeUMIAAAAIEYQAgAAAIgRhAAA\n",
       "AABiBCEAAACAGEEIAAAAIEYQAgAAAIgRhAAAAABiBCEAAACAGEEIAAAAIEYQAgAAAIgRhAAAAABi\n",
       "BCEAAACAGEEIAAAAIEYQAgAAAIgRhAAAAABiBCEAAACAGEEIAAAAIEYQAgAAAIgRhAAAAABiBCEA\n",
       "AACAGEEIAAAAIEYQAgAAAIgRhAAAAABiBCEAAACAGEEIAAAAIEYQAgAAAIgRhAAAAABiBCEAAACA\n",
       "GEEIAAAAIEYQAgAAAIgRhAAAAABiBCEAAACAGEEIAAAAIEYQAgAAAIgRhAAAAABiBCEAAACAGEEI\n",
       "AAAAIEYQAgAAAIgRhAAAAABiBCEAAACAGEEIAAAAIEYQAgAAAIgRhAAAAABiBCEAAACAGEEIAAAA\n",
       "IEYQAgAAAIgRhAAAAABiBCEAAACAGEEIAAAAIEYQAgAAAIgRhAAAAABiBCEAAACAGEEIAAAAIEYQ\n",
       "AgAAAIgRhAAAAABiBCEAAACAGEEIAAAAIGa/3ryavWGM483sBUMsN29mTxhi9/7l7AlD7F79PHvC\n",
       "ye1e/Dh7whj/+2L2giHe/+PT2ROGuPzXF7MnDPH68vnsCdyRZxeN+97FVz/NnjDEww+NZ8pu9oAR\n",
       "Fv8/f58cjofZE4ZYz65nTxhjezZ7wcn5BQIAAACIEYQAAAAAYgQhAAAAgBhBCAAAACBGEAIAAACI\n",
       "EYQAAAAAYgQhAAAAgBhBCAAAACBGEAIAAACIEYQAAAAAYgQhAAAAgBhBCAAAACBGEAIAAACIEYQA\n",
       "AAAAYgQhAAAAgBhBCAAAACBGEAIAAACIEYQAAAAAYgQhAAAAgBhBCAAAACBGEAIAAACIEYQAAAAA\n",
       "YgQhAAAAgBhBCAAAACBGEAIAAACIEYQAAAAAYgQhAAAAgBhBCAAAACBGEAIAAACIEYQAAAAAYgQh\n",
       "AAAAgBhBCAAAACBGEAIAAACIEYQAAAAAYgQhAAAAgBhBCAAAACBGEAIAAACIEYQAAAAAYgQhAAAA\n",
       "gBhBCAAAACBGEAIAAACIEYQAAAAAYgQhAAAAgBhBCAAAACBGEAIAAACIEYQAAAAAYgQhAAAAgBhB\n",
       "CAAAACBGEAIAAACIEYQAAAAAYgQhAAAAgBhBCAAAACBGEAIAAACIEYQAAAAAYgQhAAAAgBhBCAAA\n",
       "ACBGEAIAAACI2S/Xl7M3DLEcrmdPGGJ7fTV7whC7q19nTxhi9/LF7Aknt/z0y+wJQ7z/x6ezJwzx\n",
       "4/d/mj1hiO///cfZE4b459XT2RO4I18/bdwPvn3z0ewJQ3w5e8Agjx7c/zvC7sHZ7AljbHezF3CH\n",
       "jscPsycMse7OZ084OW8IAQAAAMQIQgAAAAAxghAAAABAjCAEAAAAECMIAQAAAMQIQgAAAAAxghAA\n",
       "AABAjCAEAAAAECMIAQAAAMQIQgAAAAAxghAAAABAjCAEAAAAECMIAQAAAMQIQgAAAAAxghAAAABA\n",
       "jCAEAAAAECMIAQAAAMQIQgAAAAAxghAAAABAjCAEAAAAECMIAQAAAMQIQgAAAAAxghAAAABAjCAE\n",
       "AAAAECMIAQAAAMQIQgAAAAAxghAAAABAjCAEAAAAECMIAQAAAMQIQgAAAAAxghAAAABAjCAEAAAA\n",
       "ECMIAQAAAMQIQgAAAAAxghAAAABAjCAEAAAAECMIAQAAAMQIQgAAAAAxghAAAABAjCAEAAAAECMI\n",
       "AQAAAMQIQgAAAAAxghAAAABAjCAEAAAAECMIAQAAAMQIQgAAAAAxghAAAABAjCAEAAAAECMIAQAA\n",
       "AMQIQgAAAAAxghAAAABAjCAEAAAAECMIAQAAAMQIQgAAAAAxghAAAABAjCAEAAAAECMIAQAAAMTs\n",
       "tzdXszcMsdxez54wxPb969kThti+fTV7whDL5X9mTzi525/PZk8Y4vJfX8yeMMT3//7j7AlD/PWH\n",
       "T2ZPGOJvby5nT+COfPek8Z2tePzk7ewJQzz4+P7/nbJ/ev/vepvNZrN99Hj2hCHWfeNeW7Hub2ZP\n",
       "ODlvCAEAAADECEIAAAAAMYIQAAAAQIwgBAAAABAjCAEAAADECEIAAAAAMYIQAAAAQIwgBAAAABAj\n",
       "CAEAAADECEIAAAAAMYIQAAAAQIwgBAAAABAjCAEAAADECEIAAAAAMYIQAAAAQIwgBAAAABAjCAEA\n",
       "AADECEIAAAAAMYIQAAAAQIwgBAAAABAjCAEAAADECEIAAAAAMYIQAAAAQIwgBAAAABAjCAEAAADE\n",
       "CEIAAAAAMYIQAAAAQIwgBAAAABAjCAEAAADECEIAAAAAMYIQAAAAQIwgBAAAABAjCAEAAADECEIA\n",
       "AAAAMYIQAAAAQIwgBAAAABAjCAEAAADECEIAAAAAMYIQAAAAQIwgBAAAABAjCAEAAADECEIAAAAA\n",
       "MYIQAAAAQIwgBAAAABAjCAEAAADECEIAAAAAMYIQAAAAQIwgBAAAABAjCAEAAADECEIAAAAAMYIQ\n",
       "AAAAQIwgBAAAABAjCAEAAADECEIAAAAAMYIQAAAAQIwgBAAAABAjCAEAAADE7Jfb69kbhlg+VM75\n",
       "2+wJQyzX72dPGOPd/f88b18/mz1hiNeXz2dPGOKfV09nTxjib28uZ08Y4u/v/nv2BO7Mn2cPGOKb\n",
       "yG/QN5FnysevH8+ecHL7d69nTxiicnfP/C22P589gTviDSEAAACAGEEIAAAAIEYQAgAAAIgRhAAA\n",
       "AABiBCEAAACAGEEIAAAAIEYQAgAAAIgRhAAAAABiBCEAAACAGEEIAAAAIEYQAgAAAIgRhAAAAABi\n",
       "BCEAAACAGEEIAAAAIEYQAgAAAIgRhAAAAABiBCEAAACAGEEIAAAAIEYQAgAAAIgRhAAAAABiBCEA\n",
       "AACAGEEIAAAAIEYQAgAAAIgRhAAAAABiBCEAAACAGEEIAAAAIEYQAgAAAIgRhAAAAABiBCEAAACA\n",
       "GEEIAAAAIEYQAgAAAIgRhAAAAABiBCEAAACAGEEIAAAAIEYQAgAAAIgRhAAAAABiBCEAAACAGEEI\n",
       "AAAAIEYQAgAAAIgRhAAAAABiBCEAAACAGEEIAAAAIEYQAgAAAIgRhAAAAABiBCEAAACAGEEIAAAA\n",
       "IEYQAgAAAIgRhAAAAABiBCEAAACAGEEIAAAAIEYQAgAAAIgRhAAAAABiBCEAAACAGEEIAAAAIEYQ\n",
       "AgAAAIgRhAAAAABiBCEAAACAGEEIAAAAIEYQAgAAAIgRhAAAAABiBCEAAACAGEEIAAAAIEYQAgAA\n",
       "AIgRhAAAAABiBCEAAACAGEEIAAAAIEYQAgAAAIgRhAAAAABiBCEAAACAGEEIAAAAIEYQAgAAAIgR\n",
       "hAAAAABiBCEAAACAGEEIAAAAIEYQAgAAAIgRhAAAAABiBCEAAACAGEEIAAAAIEYQAgAAAIgRhAAA\n",
       "AABiBCEAAACAGEEIAAAAIEYQAgAAAIgRhAAAAABiBCEAAACAGEEIAAAAIEYQAgAAAIgRhAAAAABi\n",
       "BCEAAACAGEEIAAAAIEYQAgAAAIgRhAAAAABiBCEAAACAGEEIAAAAIEYQAgAAAIgRhAAAAABiBCEA\n",
       "AACAGEEIAAAAIEYQAgAAAIgRhAAAAABiBCEAAACAGEEIAAAAIEYQAgAAAIgRhAAAAABiBCEAAACA\n",
       "GEEIAAAAIEYQAgAAAIgRhAAAAABiBCEAAACAGEEIAAAAIEYQAgAAAIgRhAAAAABiBCEAAACAGEEI\n",
       "AAAAIGa/7s9nb+AOrbcPZ08YYj1/NHvCEMvj+/957p+9mz1hiGcXr2ZPGOLrp1ezJwzx3ZNPZk8Y\n",
       "5M+zB3BHvntyMXvCEF8/fTl7whCVZ0rijhC46202nbv7+iDyeT5oNIRCK/GGEAAAAECMIAQAAAAQ\n",
       "IwgBAAAAxAhCAAAAADGCEAAAAECMIAQAAAAQIwgBAAAAxAhCAAAAADGCEAAAAECMIAQAAAAQIwgB\n",
       "AAAAxAhCAAAAADGCEAAAAECMIAQAAAAQIwgBAAAAxAhCAAAAADGCEAAAAECMIAQAAAAQIwgBAAAA\n",
       "xAhCAAAAADGCEAAAAECMIAQAAAAQIwgBAAAAxAhCAAAAADGCEAAAAECMIAQAAAAQIwgBAAAAxAhC\n",
       "AAAAADGCEAAAAECMIAQAAAAQIwgBAAAAxAhCAAAAADGCEAAAAECMIAQAAAAQIwgBAAAAxAhCAAAA\n",
       "ADGCEAAAAECMIAQAAAAQIwgBAAAAxAhCAAAAADGCEAAAAECMIAQAAAAQIwgBAAAAxAhCAAAAADGC\n",
       "EAAAAECMIAQAAAAQIwgBAAAAxAhCAAAAADGCEAAAAECMIAQAAAAQIwgBAAAAxAhCAAAAADGCEAAA\n",
       "AECMIAQAAAAQIwgBAAAAxAhCAAAAADGCEAAAAEDM/nj2dPaGIZbd2ewJ3KHl9mb2hCGWi3ezJ5zc\n",
       "/vMfZk8Y4uKrn2ZPGOLbNx/NnsAd+uaqcUco+Prpy9kThvj2v/5n9oQhKs+U/ef3/763Xvxh9oQh\n",
       "jh89nz1hiOOjZ7MnDHE8b9wP1t357Akn5w0hAAAAgBhBCAAAACBGEAIAAACIEYQAAAAAYgQhAAAA\n",
       "gBhBCAAAACBGEAIAAACIEYQAAAAAYgQhAAAAgBhBCAAAACBGEAIAAACIEYQAAAAAYgQhAAAAgBhB\n",
       "CAAAACBGEAIAAACIEYQAAAAAYgQhAAAAgBhBCAAAACBGEAIAAACIEYQAAAAAYgQhAAAAgBhBCAAA\n",
       "ACBGEAIAAACIEYQAAAAAYgQhAAAAgBhBCAAAACBGEAIAAACIEYQAAAAAYgQhAAAAgBhBCAAAACBG\n",
       "EAIAAACIEYQAAAAAYgQhAAAAgBhBCAAAACBGEAIAAACIEYQAAAAAYgQhAAAAgBhBCAAAACBGEAIA\n",
       "AACIEYQAAAAAYgQhAAAAgBhBCAAAACBGEAIAAACIEYQAAAAAYgQhAAAAgBhBCAAAACBGEAIAAACI\n",
       "EYQAAAAAYgQhAAAAgBhBCAAAACBGEAIAAACIEYQAAAAAYgQhAAAAgBhBCAAAACBGEAIAAACIEYQA\n",
       "AAAAYgQhAAAAgJj9en4xe8MQ6/Fm9oQh1u2D2RO4S8fD7AUnt/vQ+Lf58MOL2ROG+HL2gEEeP3k7\n",
       "e8IQ31w+nz2BO/Ls4tXsCUNcfPXT7AlDPPzTr7MnDLF+8dnsCSd3+OT+n3Gz2WwOTz+dPWGIw6NP\n",
       "Zk8YYj17MnvCGNuz2QtOzhtCAAAAADGCEAAAAECMIAQAAAAQIwgBAAAAxAhCAAAAADGCEAAAAECM\n",
       "IAQAAAAQIwgBAAAAxAhCAAAAADGCEAAAAECMIAQAAAAQIwgBAAAAxAhCAAAAADGCEAAAAECMIAQA\n",
       "AAAQIwgBAAAAxAhCAAAAADGCEAAAAECMIAQAAAAQIwgBAAAAxAhCAAAAADGCEAAAAECMIAQAAAAQ\n",
       "IwgBAAAAxAhCAAAAADGCEAAAAECMIAQAAAAQIwgBAAAAxAhCAAAAADGCEAAAAECMIAQAAAAQIwgB\n",
       "AAAAxAhCAAAAADGCEAAAAECMIAQAAAAQIwgBAAAAxAhCAAAAADGCEAAAAECMIAQAAAAQIwgBAAAA\n",
       "xAhCAAAAADGCEAAAAECMIAQAAAAQIwgBAAAAxAhCAAAAADGCEAAAAECMIAQAAAAQIwgBAAAAxAhC\n",
       "AAAAADGCEAAAAECMIAQAAAAQIwgBAAAAxAhCAAAAADGCEAAAAECMIAQAAAAQIwgBAAAAxAhCAAAA\n",
       "ADH75ez57A1jHG9nLxhi3Z3PnjDEYbubPYG7sh5nLxii8o199OCX2ROGePDx1ewJQ3z8+vHsCdyR\n",
       "/bN3sycMsf/8ZvaEIdYvPps9YYjDZ1/OnnByh+efz54wxOGjP8yeMMR6fjF7whDLLnI/2O5nLzg5\n",
       "bwgBAAAAxAhCAAAAADGCEAAAAECMIAQAAAAQIwgBAAAAxAhCAAAAADGCEAAAAECMIAQAAAAQIwgB\n",
       "AAAAxAhCAAAAADGCEAAAAECMIAQAAAAQIwgBAAAAxAhCAAAAADGCEAAAAECMIAQAAAAQIwgBAAAA\n",
       "xAhCAAAAADGCEAAAAECMIAQAAAAQIwgBAAAAxAhCAAAAADGCEAAAAECMIAQAAAAQIwgBAAAAxAhC\n",
       "AAAAADGCEAAAAECMIAQAAAAQIwgBAAAAxAhCAAAAADGCEAAAAECMIAQAAAAQIwgBAAAAxAhCAAAA\n",
       "ADGCEAAAAECMIAQAAAAQIwgBAAAAxAhCAAAAADGCEAAAAECMIAQAAAAQIwgBAAAAxAhCAAAAADGC\n",
       "EAAAAECMIAQAAAAQIwgBAAAAxAhCAAAAADGCEAAAAECMIAQAAAAQIwgBAAAAxAhCAAAAADGCEAAA\n",
       "APx/O3az27YRgFFUpGjJduomMJr2/Z+wQBdt00JkdwGyLCDPALrnPME3oH6GF2IEIQAAAIAYQQgA\n",
       "AAAgRhACAAAAiBGEAAAAAGIEIQAAAICY7by9zd4wxHHcZk8YYl8vsycMcSzn2ROGuJ2W2RO4l6XR\n",
       "389Pjd+g7e332ROG2P78Y/YE7uX1efaCIY4vX2dPGOL2/uvsCUPcPv82e8KHu31qPMvj+X32hCGW\n",
       "yLv1em78pyyBd87GGwoAAAAA3wlCAAAAADGCEAAAAECMIAQAAAAQIwgBAAAAxAhCAAAAADGCEAAA\n",
       "AECMIAQAAAAQIwgBAAAAxAhCAAAAADGCEAAAAECMIAQAAAAQIwgBAAAAxAhCAAAAADGCEAAAAECM\n",
       "IAQAAAAQIwgBAAAAxAhCAAAAADGCEAAAAECMIAQAAAAQIwgBAAAAxAhCAAAAADGCEAAAAECMIAQA\n",
       "AAAQIwgBAAAAxAhCAAAAADGCEAAAAECMIAQAAAAQIwgBAAAAxAhCAAAAADGCEAAAAECMIAQAAAAQ\n",
       "IwgBAAAAxAhCAAAAADGCEAAAAECMIAQAAAAQIwgBAAAAxAhCAAAAADGCEAAAAECMIAQAAAAQIwgB\n",
       "AAAAxAhCAAAAADGCEAAAAECMIAQAAAAQIwgBAAAAxAhCAAAAADGCEAAAAECMIAQAAAAQIwgBAAAA\n",
       "xAhCAAAAADGCEAAAAECMIAQAAAAQIwgBAAAAxAhCAAAAADGCEAAAAECMIAQAAAAQIwgBAAAAxGzr\n",
       "+WX2hiGOY589YYhl2WZPGGJfGi2z8Km9nY7ZE7in9Tx7wRDry+vsCUMs3/6aPYE7Oa6N+97+6fPs\n",
       "CUPc3n6ZPWGI26evsyd8uOP5ffaEIdanxndzPUfuB+tl9oQhlsA75+OfEAAAAIAfCEIAAAAAMYIQ\n",
       "AAAAQIwgBAAAABAjCAEAAADECEIAAAAAMYIQAAAAQIwgBAAAABAjCAEAAADECEIAAAAAMYIQAAAA\n",
       "QIwgBAAAABAjCAEAAADECEIAAAAAMYIQAAAAQIwgBAAAABAjCAEAAADECEIAAAAAMYIQAAAAQIwg\n",
       "BAAAABAjCAEAAADECEIAAAAAMYIQAAAAQIwgBAAAABAjCAEAAADECEIAAAAAMYIQAAAAQIwgBAAA\n",
       "ABAjCAEAAADECEIAAAAAMYIQAAAAQIwgBFJc8joAAAY3SURBVAAAABAjCAEAAADECEIAAAAAMYIQ\n",
       "AAAAQIwgBAAAABAjCAEAAADECEIAAAAAMYIQAAAAQIwgBAAAABAjCAEAAADECEIAAAAAMYIQAAAA\n",
       "QIwgBAAAABAjCAEAAADECEIAAAAAMYIQAAAAQIwgBAAAABAjCAEAAADECEIAAAAAMYIQAAAAQIwg\n",
       "BAAAABAjCAEAAADECEIAAAAAMYIQAAAAQIwgBAAAABAjCAEAAADEbOf1OnvDEMexz54wxL5ofI+k\n",
       "8Lk9rrfZE4a47Y1zVhzbZfaEIZZ//549gTs5np5nTxhif/l59oQhbi/vsycMcVy/zJ7w4ZbtbfaE\n",
       "Idbz6+wJQ6znxm/tujzNnjDEEni3fvwTAgAAAPADQQgAAAAgRhACAAAAiBGEAAAAAGIEIQAAAIAY\n",
       "QQgAAAAgRhACAAAAiBGEAAAAAGIEIQAAAIAYQQgAAAAgRhACAAAAiBGEAAAAAGIEIQAAAIAYQQgA\n",
       "AAAgRhACAAAAiBGEAAAAAGIEIQAAAIAYQQgAAAAgRhACAAAAiBGEAAAAAGIEIQAAAIAYQQgAAAAg\n",
       "RhACAAAAiBGEAAAAAGIEIQAAAIAYQQgAAAAgRhACAAAAiBGEAAAAAGIEIQAAAIAYQQgAAAAgRhAC\n",
       "AAAAiBGEAAAAAGIEIQAAAIAYQQgAAAAgRhACAAAAiBGEAAAAAGIEIQAAAIAYQQgAAAAgRhACAAAA\n",
       "iBGEAAAAAGIEIQAAAIAYQQgAAAAgRhACAAAAiBGEAAAAAGIEIQAAAIAYQQgAAAAgRhACAAAAiBGE\n",
       "AAAAAGIEIQAAAIAYQQgAAAAgRhACAAAAiBGEAAAAAGIEIQAAAIAYQQgAAAAgRhACAAAAiBGEAAAA\n",
       "AGIEIQAAAICYbVm22RsG2WcPGKJS+I418jzPz7MnfLh9f509YYjj8m32hCH2/d/ZE7ijZbvOnsCd\n",
       "HE+NZ7lf32ZPGOK4/DR7whDL+fHvCIW73ul0Oi3rZfaEIdblafaEISoNYVke/+368U8IAAAAwA8E\n",
       "IQAAAIAYQQgAAAAgRhACAAAAiBGEAAAAAGIEIQAAAIAYQQgAAAAgRhACAAAAiBGEAAAAAGIEIQAA\n",
       "AIAYQQgAAAAgRhACAAAAiBGEAAAAAGIEIQAAAIAYQQgAAAAgRhACAAAAiBGEAAAAAGIEIQAAAIAY\n",
       "QQgAAAAgRhACAAAAiBGEAAAAAGIEIQAAAIAYQQgAAAAgRhACAAAAiBGEAAAAAGIEIQAAAIAYQQgA\n",
       "AAAgRhACAAAAiBGEAAAAAGIEIQAAAIAYQQgAAAAgRhACAAAAiBGEAAAAAGIEIQAAAIAYQQgAAAAg\n",
       "RhACAAAAiBGEAAAAAGIEIQAAAIAYQQgAAAAgRhACAAAAiBGEAAAAAGIEIQAAAIAYQQgAAAAgRhAC\n",
       "AAAAiBGEAAAAAGIEIQAAAIAYQQgAAAAgRhACAAAAiBGEAAAAAGIEIQAAAIAYQQgAAAAgRhACAAAA\n",
       "iBGEAAAAAGIEIQAAAIAYQQgAAAAgRhACAAAAiBGEAAAAAGK2ZVlmbxik0r4a51yWyjnPsyd8vHWb\n",
       "vWCM9TJ7wRDH+Tp7whDH9s/sCfC/HFvkuxn5Dar8pxTuCIm73ql0d3fOR1JoJY0nCQAAAMB3ghAA\n",
       "AABAjCAEAAAAECMIAQAAAMQIQgAAAAAxghAAAABAjCAEAAAAECMIAQAAAMQIQgAAAAAxghAAAABA\n",
       "jCAEAAAAECMIAQAAAMQIQgAAAAAxghAAAABAjCAEAAAAECMIAQAAAMQIQgAAAAAxghAAAABAjCAE\n",
       "AAAAECMIAQAAAMQIQgAAAAAxghAAAABAjCAEAAAAECMIAQAAAMQIQgAAAAAxghAAAABAjCAEAAAA\n",
       "ECMIAQAAAMQIQgAAAAAxghAAAABAjCAEAAAAECMIAQAAAMQIQgAAAAAxghAAAABAjCAEAAAAECMI\n",
       "AQAAAMQIQgAAAAAxghAAAABAjCAEAAAAECMIAQAAAMQIQgAAAAAxghAAAABAjCAEAAAAECMIAQAA\n",
       "AMQIQgAAAAAxghAAAABAjCAEAAAAECMIAQAAAMQIQgAAAAAxghAAAABAjCAEAAAAECMIAQAAAMQI\n",
       "QgAAAAAxghAAAABAjCAEAAAAECMIAQAAAMT8BzGYzP4/rZ9GAAAAAElFTkSuQmCC\n",
       "\" transform=\"translate(566, 195)\"/>\n",
       "</g>\n",
       "<defs>\n",
       "  <clipPath id=\"clip394\">\n",
       "    <rect x=\"2160\" y=\"195\" width=\"73\" height=\"1157\"/>\n",
       "  </clipPath>\n",
       "</defs>\n",
       "<g clip-path=\"url(#clip394)\">\n",
       "<image width=\"72\" height=\"1156\" xlink:href=\"data:image/png;base64,\n",
       "iVBORw0KGgoAAAANSUhEUgAAAEgAAASECAYAAADHiEmbAAAKO0lEQVR4nO3dwY3sRhAFQY5Q/lsh\n",
       "L6XfLQtUeSQPERYMEg9Ek5zZ/f17/r4P/+uvtz/A1wkUBAoChTn337c/w6dZUBAoCBQECnPvn7c/\n",
       "w6dZUBAoCBQcFIMFBYGCQEGgMNdFemVBQaAgUJh7XIM2FhQECgIFgYKDYrCgIFAQKLgGBQsKAgWB\n",
       "gkDB3XywoCBQECjM46C4sqAgUBAoCBTczQcLCgIFgcI8blZXFhQECgIFgcI855+3P8OnWVAQKAgU\n",
       "PFEMFhQECgIFgYK7+WBBQaAgUHANChYUBAoCBYGCu/lgQUGgIFCYn4PiyoKCQEGgIFCY5/g7ihsL\n",
       "CgIFgYKDYrCgIFAQKAgUHBSDBQWBgkDBq+dgQUGgIFAQKMzPQXFlQUGgIFDw9ZdgQUGgIFAQKDgo\n",
       "BgsKAgWBgrcawYKCQEGgIFBwUAwWFAQKAgUHxWBBQaAgUBAoOCgGCwoCBYHCPOe8/Rk+zYKCQEGg\n",
       "IFBwUAwWFAQKAgVPFIMFBYGCQEGg4CIdLCgIFAQKAoX5eeS6sqAgUBAoOCgGCwoCBYGCQMG7+WBB\n",
       "QaAgUHCzGiwoCBQECgIFd/PBgoJAQaDgZjVYUBAoCBQECi7SwYKCQEGg4McswYKCQEGgIFBwUAwW\n",
       "FAQKAgXXoGBBQaAgUBAouEgHCwoCBYGCa1CwoCBQECgIFOa5LtIbCwoCBYGCg2KwoCBQECgIFFyk\n",
       "gwUFgYJAwTUoWFAQKAgUBArznPv2Z/g0CwoCBYGCg2KwoCBQECgIFBwUgwUFgYJAwUExWFAQKAgU\n",
       "BAoOisGCgkBBoDCPc+LKgoJAQaAgUJjnOihuLCgIFAQKDorBgoJAQaAgUHCRDhYUBAoChfGHF3YW\n",
       "FAQKAgWBgoNisKAgUBAouAYFCwoCBYGCQGGe83v7M3yaBQWBgkBh7nUN2lhQECgIFAQK7uaDBQWB\n",
       "gkDBzWqwoCBQECgIFOYejTbqBIGCQEGg4CQdLCgIFAQK83jts7KgIFAQKAgU5jooriwoCBQECvN4\n",
       "orhSJwgUBAoCBQfFYEFBoCBQ8EQxWFAQKAgUBAq+HxTUCQIFgYKvvwQLCgIFgYJAwRPFYEFBoCBQ\n",
       "mHs12qgTBAoCBYGCu/lgQUGgIFBwsxosKAgUBAoChXncza/UCQIFgYKDYrCgIFAQKAgUXKSDBQWB\n",
       "gkDBj1mCBQWBgkBBoODHLEGdIFAQKPj3WcGCgkBBoCBQ8EQxWFAQKAgU/B3FoE4QKAgUBAru5oMF\n",
       "BYGCQMHNarCgIFAQKAgUHBSDBQWBgkDB11+COkGgIFAQKDgoBgsKAgWBgieKwYKCQEGgIFBwUAwW\n",
       "FAQKAgV/yzVYUBAoCBQECv4rQlAnCBQECm5WgwUFgYJAQaDgtU+woCBQECgIFJykgwUFgYJAYY5r\n",
       "0MqCgkBBoCBQ8GufoE4QKAgU3KwGCwoCBYGCQMFFOlhQECgIFLx6DhYUBAoCBYGCg2KwoCBQECi4\n",
       "BgULCgIFgYJAwS8OgzpBoCBQmOOJ4sqCgkBBoCBQcDcfLCgIFAQKrkHBgoJAQaAgUHCRDhYUBAoC\n",
       "Bb96DhYUBAoCBYGCg2KwoCBQECi4BgULCgIFgYJAwXcUgzpBoCBQ8B3FYEFBoCBQECi4mw8WFAQK\n",
       "AgXXoGBBQaAgUBAo+H5QsKAgUBAoOCgGCwoCBYGCQGHu4yK9saAgUBAouFkNFhQECgIFgYK7+WBB\n",
       "QaAgUHBQDBYUBAoCBYGCg2KwoCBQECg4KAYLCgIFgYJAwUExWFAQKAgUXIOCBQWBgkBBoDDHdxRX\n",
       "FhQECgIFB8VgQUGgIFAQKHjtEywoCBQECgKFufftj/BtFhQECgIFB8VgQUGgIFAQKPjTFMGCgkBB\n",
       "oOCgGCwoCBQECgIF7+aDBQWBgkDBdxSDBQWBgkBBoODVc7CgIFAQKHiiGCwoCBQECgIFTxSDBQWB\n",
       "gkDBE8VgQUGgIFAQKLibDxYUBAoCBW81ggUFgYJAQaDgbj5YUBAoCBS81QgWFAQKAgWBwpy3P8HH\n",
       "WVAQKAgUHBSDBQWBgkBBoODVc7CgIFAQKLhZDRYUBAoCBYGCu/lgQUGgIFBwUAwWFAQKAgWBgoNi\n",
       "sKAgUBAoeKsRLCgIFAQKAoXxg8OdBQWBgkDBQTFYUBAoCBQECl77BAsKAgWBgrcawYKCQEGgIFBw\n",
       "UAwWFAQKAgUHxWBBQaAgUBAozPHueWVBQaAgUHCzGiwoCBQECgIFd/PBgoJAQaAgUHCSDhYUBAoC\n",
       "Bf8+K1hQECgIFAQK/n1WsKAgUBAoePUcLCgIFAQKAgV/miJYUBAoCBT8aYpgQUGgIFAQKHjtEywo\n",
       "CBQECr7+EiwoCBQECgIFXyQPFhQECgIFB8VgQUGgIFAQKPh+ULCgIFAQKPj6S7CgIFAQKAgUHBSD\n",
       "BQWBgkDB11+CBQWBgkBBoOBXz8GCgkBBoOBmNVhQECgIFAQKXvsECwoCBYGCg2KwoCBQECgIFBwU\n",
       "gwUFgYJAwUExWFAQKAgUBAou0sGCgkBBoOBmNVhQECgIFAQKDorBgoJAQaDgoBgsKAgUBAoCBQfF\n",
       "YEFBoCBQ8KvnYEFBoCBQECj4Y7fBgoJAQaDgZjVYUBAoCBQECnMfV+mNBQWBgkDBQTFYUBAoCBQE\n",
       "Cl77BAsKAgWBgrcawYKCQEGgIFBwNx8sKAgUBAoCBa99ggUFgYJAwUExWFAQKAgUBAp+Fh4sKAgU\n",
       "BApzvHteWVAQKAgUBArezQcLCgIFgcJcB8WVBQWBgkBBoOCgGCwoCBQECp4oBgsKAgWBgkDBq+dg\n",
       "QUGgIFCY43vSKwsKAgWBgkDB3XywoCBQECj4QV2woCBQECgIFLx6DhYUBAoCBU8UgwUFgYJAQaDg\n",
       "bj5YUBAoCBTmPG5XNxYUBAoCBYGCu/lgQUGgIFBwDQoWFAQKAgWBgieKwYKCQEGg4IlisKAgUBAo\n",
       "CBTm/BwUNxYUBAoCBQfFYEFBoCBQECjMdZFeWVAQKAgUHBSDBQWBgkBBoDDn5yK9saAgUBAoOCgG\n",
       "CwoCBYGCQMETxWBBQaAgUHBQDBYUBAoCBYGCi3SwoCBQECh4qxEsKAgUBAoChbnPn7c/w6dZUBAo\n",
       "CBQECu7mgwUFgYJAwavnYEFBoCBQECjMue7mNxYUBAoCBQfFYEFBoCBQECjM8dpnZUFBoCBQcFAM\n",
       "FhQECgIFgYKDYrCgIFAQKMy9DoobCwoCBYGCQMHdfLCgIFAQKPj6S7CgIFAQKAgUHBSDBQWBgkBh\n",
       "roPiyoKCQEGgIFBwUAwWFAQKAoU5Xj2vLCgIFAQKAgV/wyxYUBAoCBR8RzFYUBAoCBQECp4oBgsK\n",
       "AgWBgoNisKAgUBAoCBRcpIMFBYGCQMFbjWBBQaAgUBAoOCgGCwoCBYHCPN5qrCwoCBQECgIFB8Vg\n",
       "QUGgIFDw9ZdgQUGgIFAQKMzjoLiyoCBQECh49RwsKAgUBAoCBa99ggUFgYJAwc1qsKAgUBAoCBTm\n",
       "Pvftz/BpFhQECgIFN6vBgoJAQaAgUJjHQXFlQUGgIFD4D4AX7Bc4PvhYAAAAAElFTkSuQmCC\n",
       "\" transform=\"translate(2161, 195)\"/>\n",
       "</g>\n",
       "<path clip-path=\"url(#clip390)\" d=\"M2268.76 1260.9 L2298.43 1260.9 L2298.43 1264.84 L2268.76 1264.84 L2268.76 1260.9 Z\" fill=\"#000000\" fill-rule=\"nonzero\" fill-opacity=\"1\" /><path clip-path=\"url(#clip390)\" d=\"M2318.52 1246.25 Q2314.91 1246.25 2313.08 1249.82 Q2311.28 1253.36 2311.28 1260.49 Q2311.28 1267.59 2313.08 1271.16 Q2314.91 1274.7 2318.52 1274.7 Q2322.16 1274.7 2323.96 1271.16 Q2325.79 1267.59 2325.79 1260.49 Q2325.79 1253.36 2323.96 1249.82 Q2322.16 1246.25 2318.52 1246.25 M2318.52 1242.55 Q2324.33 1242.55 2327.39 1247.15 Q2330.47 1251.74 2330.47 1260.49 Q2330.47 1269.21 2327.39 1273.82 Q2324.33 1278.4 2318.52 1278.4 Q2312.71 1278.4 2309.64 1273.82 Q2306.58 1269.21 2306.58 1260.49 Q2306.58 1251.74 2309.64 1247.15 Q2312.71 1242.55 2318.52 1242.55 Z\" fill=\"#000000\" fill-rule=\"nonzero\" fill-opacity=\"1\" /><path clip-path=\"url(#clip390)\" d=\"M2338.69 1271.85 L2343.57 1271.85 L2343.57 1277.73 L2338.69 1277.73 L2338.69 1271.85 Z\" fill=\"#000000\" fill-rule=\"nonzero\" fill-opacity=\"1\" /><path clip-path=\"url(#clip390)\" d=\"M2357.78 1273.8 L2374.1 1273.8 L2374.1 1277.73 L2352.16 1277.73 L2352.16 1273.8 Q2354.82 1271.04 2359.4 1266.41 Q2364.01 1261.76 2365.19 1260.42 Q2367.44 1257.89 2368.32 1256.16 Q2369.22 1254.4 2369.22 1252.71 Q2369.22 1249.95 2367.27 1248.22 Q2365.35 1246.48 2362.25 1246.48 Q2360.05 1246.48 2357.6 1247.25 Q2355.17 1248.01 2352.39 1249.56 L2352.39 1244.84 Q2355.21 1243.7 2357.67 1243.13 Q2360.12 1242.55 2362.16 1242.55 Q2367.53 1242.55 2370.72 1245.23 Q2373.92 1247.92 2373.92 1252.41 Q2373.92 1254.54 2373.11 1256.46 Q2372.32 1258.36 2370.21 1260.95 Q2369.63 1261.62 2366.53 1264.84 Q2363.43 1268.03 2357.78 1273.8 Z\" fill=\"#000000\" fill-rule=\"nonzero\" fill-opacity=\"1\" /><path clip-path=\"url(#clip390)\" d=\"M2383.96 1243.17 L2402.32 1243.17 L2402.32 1247.11 L2388.25 1247.11 L2388.25 1255.58 Q2389.26 1255.23 2390.28 1255.07 Q2391.3 1254.88 2392.32 1254.88 Q2398.11 1254.88 2401.49 1258.06 Q2404.87 1261.23 2404.87 1266.64 Q2404.87 1272.22 2401.39 1275.32 Q2397.92 1278.4 2391.6 1278.4 Q2389.43 1278.4 2387.16 1278.03 Q2384.91 1277.66 2382.51 1276.92 L2382.51 1272.22 Q2384.59 1273.36 2386.81 1273.91 Q2389.03 1274.47 2391.51 1274.47 Q2395.51 1274.47 2397.85 1272.36 Q2400.19 1270.26 2400.19 1266.64 Q2400.19 1263.03 2397.85 1260.93 Q2395.51 1258.82 2391.51 1258.82 Q2389.63 1258.82 2387.76 1259.24 Q2385.91 1259.65 2383.96 1260.53 L2383.96 1243.17 Z\" fill=\"#000000\" fill-rule=\"nonzero\" fill-opacity=\"1\" /><path clip-path=\"url(#clip390)\" d=\"M2268.76 1042.24 L2298.43 1042.24 L2298.43 1046.18 L2268.76 1046.18 L2268.76 1042.24 Z\" fill=\"#000000\" fill-rule=\"nonzero\" fill-opacity=\"1\" /><path clip-path=\"url(#clip390)\" d=\"M2318.52 1027.59 Q2314.91 1027.59 2313.08 1031.15 Q2311.28 1034.69 2311.28 1041.82 Q2311.28 1048.93 2313.08 1052.5 Q2314.91 1056.04 2318.52 1056.04 Q2322.16 1056.04 2323.96 1052.5 Q2325.79 1048.93 2325.79 1041.82 Q2325.79 1034.69 2323.96 1031.15 Q2322.16 1027.59 2318.52 1027.59 M2318.52 1023.88 Q2324.33 1023.88 2327.39 1028.49 Q2330.47 1033.07 2330.47 1041.82 Q2330.47 1050.55 2327.39 1055.16 Q2324.33 1059.74 2318.52 1059.74 Q2312.71 1059.74 2309.64 1055.16 Q2306.58 1050.55 2306.58 1041.82 Q2306.58 1033.07 2309.64 1028.49 Q2312.71 1023.88 2318.52 1023.88 Z\" fill=\"#000000\" fill-rule=\"nonzero\" fill-opacity=\"1\" /><path clip-path=\"url(#clip390)\" d=\"M2338.69 1053.19 L2343.57 1053.19 L2343.57 1059.07 L2338.69 1059.07 L2338.69 1053.19 Z\" fill=\"#000000\" fill-rule=\"nonzero\" fill-opacity=\"1\" /><path clip-path=\"url(#clip390)\" d=\"M2357.78 1055.13 L2374.1 1055.13 L2374.1 1059.07 L2352.16 1059.07 L2352.16 1055.13 Q2354.82 1052.38 2359.4 1047.75 Q2364.01 1043.1 2365.19 1041.75 Q2367.44 1039.23 2368.32 1037.5 Q2369.22 1035.74 2369.22 1034.05 Q2369.22 1031.29 2367.27 1029.56 Q2365.35 1027.82 2362.25 1027.82 Q2360.05 1027.82 2357.6 1028.58 Q2355.17 1029.35 2352.39 1030.9 L2352.39 1026.18 Q2355.21 1025.04 2357.67 1024.46 Q2360.12 1023.88 2362.16 1023.88 Q2367.53 1023.88 2370.72 1026.57 Q2373.92 1029.25 2373.92 1033.75 Q2373.92 1035.87 2373.11 1037.8 Q2372.32 1039.69 2370.21 1042.29 Q2369.63 1042.96 2366.53 1046.18 Q2363.43 1049.37 2357.78 1055.13 Z\" fill=\"#000000\" fill-rule=\"nonzero\" fill-opacity=\"1\" /><path clip-path=\"url(#clip390)\" d=\"M2393.92 1027.59 Q2390.31 1027.59 2388.48 1031.15 Q2386.67 1034.69 2386.67 1041.82 Q2386.67 1048.93 2388.48 1052.5 Q2390.31 1056.04 2393.92 1056.04 Q2397.55 1056.04 2399.36 1052.5 Q2401.19 1048.93 2401.19 1041.82 Q2401.19 1034.69 2399.36 1031.15 Q2397.55 1027.59 2393.92 1027.59 M2393.92 1023.88 Q2399.73 1023.88 2402.78 1028.49 Q2405.86 1033.07 2405.86 1041.82 Q2405.86 1050.55 2402.78 1055.16 Q2399.73 1059.74 2393.92 1059.74 Q2388.11 1059.74 2385.03 1055.16 Q2381.97 1050.55 2381.97 1041.82 Q2381.97 1033.07 2385.03 1028.49 Q2388.11 1023.88 2393.92 1023.88 Z\" fill=\"#000000\" fill-rule=\"nonzero\" fill-opacity=\"1\" /><path clip-path=\"url(#clip390)\" d=\"M2268.76 823.578 L2298.43 823.578 L2298.43 827.513 L2268.76 827.513 L2268.76 823.578 Z\" fill=\"#000000\" fill-rule=\"nonzero\" fill-opacity=\"1\" /><path clip-path=\"url(#clip390)\" d=\"M2318.52 808.925 Q2314.91 808.925 2313.08 812.49 Q2311.28 816.032 2311.28 823.161 Q2311.28 830.268 2313.08 833.832 Q2314.91 837.374 2318.52 837.374 Q2322.16 837.374 2323.96 833.832 Q2325.79 830.268 2325.79 823.161 Q2325.79 816.032 2323.96 812.49 Q2322.16 808.925 2318.52 808.925 M2318.52 805.222 Q2324.33 805.222 2327.39 809.828 Q2330.47 814.411 2330.47 823.161 Q2330.47 831.888 2327.39 836.495 Q2324.33 841.078 2318.52 841.078 Q2312.71 841.078 2309.64 836.495 Q2306.58 831.888 2306.58 823.161 Q2306.58 814.411 2309.64 809.828 Q2312.71 805.222 2318.52 805.222 Z\" fill=\"#000000\" fill-rule=\"nonzero\" fill-opacity=\"1\" /><path clip-path=\"url(#clip390)\" d=\"M2338.69 834.527 L2343.57 834.527 L2343.57 840.407 L2338.69 840.407 L2338.69 834.527 Z\" fill=\"#000000\" fill-rule=\"nonzero\" fill-opacity=\"1\" /><path clip-path=\"url(#clip390)\" d=\"M2354.57 836.471 L2362.2 836.471 L2362.2 810.106 L2353.89 811.772 L2353.89 807.513 L2362.16 805.847 L2366.83 805.847 L2366.83 836.471 L2374.47 836.471 L2374.47 840.407 L2354.57 840.407 L2354.57 836.471 Z\" fill=\"#000000\" fill-rule=\"nonzero\" fill-opacity=\"1\" /><path clip-path=\"url(#clip390)\" d=\"M2383.96 805.847 L2402.32 805.847 L2402.32 809.782 L2388.25 809.782 L2388.25 818.254 Q2389.26 817.907 2390.28 817.745 Q2391.3 817.559 2392.32 817.559 Q2398.11 817.559 2401.49 820.731 Q2404.87 823.902 2404.87 829.319 Q2404.87 834.897 2401.39 837.999 Q2397.92 841.078 2391.6 841.078 Q2389.43 841.078 2387.16 840.707 Q2384.91 840.337 2382.51 839.596 L2382.51 834.897 Q2384.59 836.032 2386.81 836.587 Q2389.03 837.143 2391.51 837.143 Q2395.51 837.143 2397.85 835.036 Q2400.19 832.93 2400.19 829.319 Q2400.19 825.708 2397.85 823.601 Q2395.51 821.495 2391.51 821.495 Q2389.63 821.495 2387.76 821.911 Q2385.91 822.328 2383.96 823.208 L2383.96 805.847 Z\" fill=\"#000000\" fill-rule=\"nonzero\" fill-opacity=\"1\" /><path clip-path=\"url(#clip390)\" d=\"M2268.76 604.915 L2298.43 604.915 L2298.43 608.85 L2268.76 608.85 L2268.76 604.915 Z\" fill=\"#000000\" fill-rule=\"nonzero\" fill-opacity=\"1\" /><path clip-path=\"url(#clip390)\" d=\"M2318.52 590.263 Q2314.91 590.263 2313.08 593.827 Q2311.28 597.369 2311.28 604.499 Q2311.28 611.605 2313.08 615.17 Q2314.91 618.711 2318.52 618.711 Q2322.16 618.711 2323.96 615.17 Q2325.79 611.605 2325.79 604.499 Q2325.79 597.369 2323.96 593.827 Q2322.16 590.263 2318.52 590.263 M2318.52 586.559 Q2324.33 586.559 2327.39 591.165 Q2330.47 595.749 2330.47 604.499 Q2330.47 613.225 2327.39 617.832 Q2324.33 622.415 2318.52 622.415 Q2312.71 622.415 2309.64 617.832 Q2306.58 613.225 2306.58 604.499 Q2306.58 595.749 2309.64 591.165 Q2312.71 586.559 2318.52 586.559 Z\" fill=\"#000000\" fill-rule=\"nonzero\" fill-opacity=\"1\" /><path clip-path=\"url(#clip390)\" d=\"M2338.69 615.864 L2343.57 615.864 L2343.57 621.744 L2338.69 621.744 L2338.69 615.864 Z\" fill=\"#000000\" fill-rule=\"nonzero\" fill-opacity=\"1\" /><path clip-path=\"url(#clip390)\" d=\"M2354.57 617.809 L2362.2 617.809 L2362.2 591.443 L2353.89 593.11 L2353.89 588.85 L2362.16 587.184 L2366.83 587.184 L2366.83 617.809 L2374.47 617.809 L2374.47 621.744 L2354.57 621.744 L2354.57 617.809 Z\" fill=\"#000000\" fill-rule=\"nonzero\" fill-opacity=\"1\" /><path clip-path=\"url(#clip390)\" d=\"M2393.92 590.263 Q2390.31 590.263 2388.48 593.827 Q2386.67 597.369 2386.67 604.499 Q2386.67 611.605 2388.48 615.17 Q2390.31 618.711 2393.92 618.711 Q2397.55 618.711 2399.36 615.17 Q2401.19 611.605 2401.19 604.499 Q2401.19 597.369 2399.36 593.827 Q2397.55 590.263 2393.92 590.263 M2393.92 586.559 Q2399.73 586.559 2402.78 591.165 Q2405.86 595.749 2405.86 604.499 Q2405.86 613.225 2402.78 617.832 Q2399.73 622.415 2393.92 622.415 Q2388.11 622.415 2385.03 617.832 Q2381.97 613.225 2381.97 604.499 Q2381.97 595.749 2385.03 591.165 Q2388.11 586.559 2393.92 586.559 Z\" fill=\"#000000\" fill-rule=\"nonzero\" fill-opacity=\"1\" /><path clip-path=\"url(#clip390)\" d=\"M2268.76 386.252 L2298.43 386.252 L2298.43 390.188 L2268.76 390.188 L2268.76 386.252 Z\" fill=\"#000000\" fill-rule=\"nonzero\" fill-opacity=\"1\" /><path clip-path=\"url(#clip390)\" d=\"M2318.52 371.6 Q2314.91 371.6 2313.08 375.165 Q2311.28 378.706 2311.28 385.836 Q2311.28 392.942 2313.08 396.507 Q2314.91 400.049 2318.52 400.049 Q2322.16 400.049 2323.96 396.507 Q2325.79 392.942 2325.79 385.836 Q2325.79 378.706 2323.96 375.165 Q2322.16 371.6 2318.52 371.6 M2318.52 367.896 Q2324.33 367.896 2327.39 372.503 Q2330.47 377.086 2330.47 385.836 Q2330.47 394.563 2327.39 399.169 Q2324.33 403.752 2318.52 403.752 Q2312.71 403.752 2309.64 399.169 Q2306.58 394.563 2306.58 385.836 Q2306.58 377.086 2309.64 372.503 Q2312.71 367.896 2318.52 367.896 Z\" fill=\"#000000\" fill-rule=\"nonzero\" fill-opacity=\"1\" /><path clip-path=\"url(#clip390)\" d=\"M2338.69 397.201 L2343.57 397.201 L2343.57 403.081 L2338.69 403.081 L2338.69 397.201 Z\" fill=\"#000000\" fill-rule=\"nonzero\" fill-opacity=\"1\" /><path clip-path=\"url(#clip390)\" d=\"M2363.76 371.6 Q2360.14 371.6 2358.32 375.165 Q2356.51 378.706 2356.51 385.836 Q2356.51 392.942 2358.32 396.507 Q2360.14 400.049 2363.76 400.049 Q2367.39 400.049 2369.2 396.507 Q2371.02 392.942 2371.02 385.836 Q2371.02 378.706 2369.2 375.165 Q2367.39 371.6 2363.76 371.6 M2363.76 367.896 Q2369.57 367.896 2372.62 372.503 Q2375.7 377.086 2375.7 385.836 Q2375.7 394.563 2372.62 399.169 Q2369.57 403.752 2363.76 403.752 Q2357.95 403.752 2354.87 399.169 Q2351.81 394.563 2351.81 385.836 Q2351.81 377.086 2354.87 372.503 Q2357.95 367.896 2363.76 367.896 Z\" fill=\"#000000\" fill-rule=\"nonzero\" fill-opacity=\"1\" /><path clip-path=\"url(#clip390)\" d=\"M2383.96 368.521 L2402.32 368.521 L2402.32 372.456 L2388.25 372.456 L2388.25 380.928 Q2389.26 380.581 2390.28 380.419 Q2391.3 380.234 2392.32 380.234 Q2398.11 380.234 2401.49 383.405 Q2404.87 386.577 2404.87 391.993 Q2404.87 397.572 2401.39 400.674 Q2397.92 403.752 2391.6 403.752 Q2389.43 403.752 2387.16 403.382 Q2384.91 403.012 2382.51 402.271 L2382.51 397.572 Q2384.59 398.706 2386.81 399.262 Q2389.03 399.817 2391.51 399.817 Q2395.51 399.817 2397.85 397.711 Q2400.19 395.604 2400.19 391.993 Q2400.19 388.382 2397.85 386.276 Q2395.51 384.169 2391.51 384.169 Q2389.63 384.169 2387.76 384.586 Q2385.91 385.002 2383.96 385.882 L2383.96 368.521 Z\" fill=\"#000000\" fill-rule=\"nonzero\" fill-opacity=\"1\" /><polyline clip-path=\"url(#clip390)\" style=\"stroke:#000000; stroke-linecap:round; stroke-linejoin:round; stroke-width:4; stroke-opacity:1; fill:none\" points=\"2232.76,1351.55 2232.76,1264.08 2256.76,1264.08 2232.76,1264.08 2232.76,1045.42 2256.76,1045.42 2232.76,1045.42 2232.76,826.755 2256.76,826.755 2232.76,826.755 2232.76,608.093 2256.76,608.093 2232.76,608.093 2232.76,389.43 2256.76,389.43 2232.76,389.43 2232.76,195.104 \"/>\n",
       "</svg>\n"
      ]
     },
     "execution_count": 100,
     "metadata": {},
     "output_type": "execute_result"
    }
   ],
   "source": [
    "heatmap(Tx,Ty,imag(F12list[5]), title=L\"F_{12}\", xlabel=L\"\\theta_x\",ylabel=L\"\\theta_y\",aspect_ratio=1)\n",
    "# Ortadaki bantlar için F düzgün değil!"
   ]
  },
  {
   "cell_type": "markdown",
   "id": "c31c60d3",
   "metadata": {},
   "source": [
    "## Interacting Many Body"
   ]
  },
  {
   "cell_type": "markdown",
   "id": "7115cdd4",
   "metadata": {},
   "source": [
    "### Interacting Many Body Chern"
   ]
  },
  {
   "cell_type": "markdown",
   "id": "bf9bcb53",
   "metadata": {},
   "source": [
    "# Projected Many Body"
   ]
  },
  {
   "cell_type": "code",
   "execution_count": 101,
   "id": "ed7800e1",
   "metadata": {},
   "outputs": [],
   "source": [
    "param_dict[\"sub_range\"] = 1:3;"
   ]
  },
  {
   "cell_type": "code",
   "execution_count": 102,
   "id": "30738a6c",
   "metadata": {},
   "outputs": [],
   "source": [
    "param_dict[\"θθ\"] = [0, 0];"
   ]
  },
  {
   "cell_type": "code",
   "execution_count": 103,
   "id": "073651ec",
   "metadata": {},
   "outputs": [],
   "source": [
    "H_T = get_Hofstadter_hamiltonian(param_dict);\n",
    "H1 = get_sp_op(basis, H_T);\n",
    "sub_states = get_subset_states(H1, param_dict[\"sub_range\"])\n",
    "\n",
    "subspace_proj, P, Pt = get_projector_op(basis, sub_states);\n",
    "param_dict[\"projection\"] = subspace_proj, P, Pt;"
   ]
  },
  {
   "cell_type": "code",
   "execution_count": 104,
   "id": "0a4ba564",
   "metadata": {},
   "outputs": [
    {
     "data": {
      "text/plain": [
       "ManyBody(onebodybasis=Subspace(superbasis=NLevel(N=9), states:3), states:6)"
      ]
     },
     "execution_count": 104,
     "metadata": {},
     "output_type": "execute_result"
    }
   ],
   "source": [
    "PN = 2\n",
    "param_dict[\"PN\"] = PN\n",
    "basis_mb_chern = get_basis_mb(param_dict);\n",
    "param_dict[\"basis_mb\"] = basis_mb_chern"
   ]
  },
  {
   "cell_type": "code",
   "execution_count": 105,
   "id": "ec6ee6c3",
   "metadata": {},
   "outputs": [
    {
     "data": {
      "text/plain": [
       "6"
      ]
     },
     "execution_count": 105,
     "metadata": {},
     "output_type": "execute_result"
    }
   ],
   "source": [
    "param_dict[\"dimH_mb\"] = length(basis_mb_chern)"
   ]
  },
  {
   "cell_type": "code",
   "execution_count": 106,
   "id": "cd3fd7ce",
   "metadata": {},
   "outputs": [],
   "source": [
    "param_dict[\"θθ\"] = [0, 1.1];"
   ]
  },
  {
   "cell_type": "code",
   "execution_count": 107,
   "id": "57d143d4",
   "metadata": {},
   "outputs": [],
   "source": [
    "H_mb_Chern_basis = get_H_mb(param_dict); "
   ]
  },
  {
   "cell_type": "code",
   "execution_count": 108,
   "id": "f076f720",
   "metadata": {},
   "outputs": [],
   "source": [
    "# #H_T = get_Hofstadter_hamiltonian(param_dict);\n",
    "\n",
    "# H1 = get_sp_op(basis, H_T);\n",
    "# sub_states = get_subset_states(H1, param_dict[\"sub_range\"])\n",
    "# subspace_proj, P, Pt = get_projector_op(basis, sub_states);\n",
    "# param_dict[\"projection\"] = subspace_proj, P, Pt;\n",
    "\n",
    "basis_mb_1 = get_basis_mb(param_dict);"
   ]
  },
  {
   "cell_type": "code",
   "execution_count": 109,
   "id": "4ec9278b",
   "metadata": {},
   "outputs": [],
   "source": [
    "H_mb_1 = get_H_mb(param_dict);"
   ]
  },
  {
   "cell_type": "code",
   "execution_count": 110,
   "id": "97b075e4",
   "metadata": {},
   "outputs": [
    {
     "data": {
      "text/plain": [
       "true"
      ]
     },
     "execution_count": 110,
     "metadata": {},
     "output_type": "execute_result"
    }
   ],
   "source": [
    "H_mb_Chern_basis == H_mb_1"
   ]
  },
  {
   "cell_type": "code",
   "execution_count": 111,
   "id": "300b2bf5",
   "metadata": {},
   "outputs": [
    {
     "data": {
      "text/plain": [
       "ManyBody(onebodybasis=Subspace(superbasis=NLevel(N=9), states:3), states:6)"
      ]
     },
     "execution_count": 111,
     "metadata": {},
     "output_type": "execute_result"
    }
   ],
   "source": [
    "basis_mb_1"
   ]
  },
  {
   "cell_type": "code",
   "execution_count": 112,
   "id": "d3df024a",
   "metadata": {},
   "outputs": [
    {
     "data": {
      "text/plain": [
       "ManyBody(onebodybasis=Subspace(superbasis=NLevel(N=9), states:3), states:6)"
      ]
     },
     "execution_count": 112,
     "metadata": {},
     "output_type": "execute_result"
    }
   ],
   "source": [
    "basis_mb_chern"
   ]
  },
  {
   "cell_type": "code",
   "execution_count": 113,
   "id": "fe15e0b2",
   "metadata": {},
   "outputs": [
    {
     "data": {
      "text/plain": [
       "Operator(dim=6x6)\n",
       "  basis: ManyBody(onebodybasis=Subspace(superbasis=NLevel(N=9), states:3), states:6)sparse([1, 2, 3, 1, 2, 3, 4, 5, 1, 2  …  4, 5, 2, 3, 4, 5, 6, 3, 5, 6], [1, 1, 1, 2, 2, 2, 2, 2, 3, 3  …  4, 4, 5, 5, 5, 5, 5, 6, 6, 6], ComplexF64[-0.23829244179720815 + 1.0143116485190087im, 0.07471462268067121 + 0.1294095225512606im, -0.3018546800913304 - 0.10205692203302481im, -0.29731743702232843 + 0.6709529134395199im, -0.06631500454730721 + 0.4156494733133944im, 0.07879241070598719 + 0.21603889570766988im, 0.07471462268067121 + 0.1294095225512606im, -0.21344349122547565 - 0.07216514163657863im, -0.1874377184233606 + 0.5552600960652501im, 0.39433756729740654 - 2.0e-17im  …  0.1056624327025937 - 0.18301270189221971im, 0.11142929583247815 + 0.30552513630989336im, -0.13253848174729294 + 0.39262817925003207im, -0.21023517588349272 + 0.47443535494995515im, 0.5576775358252055 - 2.0e-17im, 0.109035499375374 - 0.1458106660230292im, 0.11142929583247815 + 0.30552513630989336im, -0.1874377184233606 + 0.5552600960652501im, 0.5576775358252055 - 2.0e-17im, 0.11240856604815436 - 0.10860863015383874im], 6, 6)"
      ]
     },
     "execution_count": 113,
     "metadata": {},
     "output_type": "execute_result"
    }
   ],
   "source": [
    "U = get_mb_op(basis_mb_chern, P);\n",
    "U"
   ]
  },
  {
   "cell_type": "code",
   "execution_count": 114,
   "id": "c80e4079",
   "metadata": {},
   "outputs": [
    {
     "data": {
      "text/plain": [
       "Operator(dim=6x6)\n",
       "  basis: ManyBody(onebodybasis=Subspace(superbasis=NLevel(N=9), states:3), states:6)sparse([1, 2, 3, 1, 2, 3, 4, 5, 1, 2  …  4, 5, 2, 3, 4, 5, 6, 3, 5, 6], [1, 1, 1, 2, 2, 2, 2, 2, 3, 3  …  4, 4, 5, 5, 5, 5, 5, 6, 6, 6], ComplexF64[-4.833656291278133 + 0.0im, -0.00062305468097189 - 0.00314871122431113im, -0.00779650749652046 - 0.00512812914309899im, -0.00062305468097189 + 0.00314871122431113im, -4.85454477037374 + 0.0im, -0.04308390367031367 + 0.04380016379758636im, -0.00062305468097189 - 0.00314871122431113im, -0.00551296332036137 - 0.00362613489188565im, -0.00779650749652046 + 0.00512812914309899im, -0.04308390367031367 - 0.04380016379758636im  …  -4.875433249469348 + 0.0im, -0.06092984089053357 + 0.06194278567670968im, -0.00551296332036137 + 0.00362613489188565im, -0.00044056618996524 + 0.0022264750587086im, -0.06092984089053357 - 0.06194278567670968im, -5.0329226982085595 + 0.0im, -0.06092984089053357 + 0.06194278567670968im, -0.00779650749652046 + 0.00512812914309899im, -0.06092984089053357 - 0.06194278567670968im, -5.190412146947772 + 0.0im], 6, 6)"
      ]
     },
     "execution_count": 114,
     "metadata": {},
     "output_type": "execute_result"
    }
   ],
   "source": [
    "H_mb_Chern_basis"
   ]
  },
  {
   "cell_type": "markdown",
   "id": "b991d2f6",
   "metadata": {},
   "source": [
    "## Projected Non-Interacting Many Body"
   ]
  },
  {
   "cell_type": "code",
   "execution_count": 115,
   "id": "ea2a5164",
   "metadata": {},
   "outputs": [],
   "source": [
    "EEA, UUA = calc_all_states_H_mb(param_dict);"
   ]
  },
  {
   "cell_type": "code",
   "execution_count": 116,
   "id": "1adcbf65-96e5-42fa-a583-b1d1e8bbdbbc",
   "metadata": {},
   "outputs": [],
   "source": [
    "#param_dict[\"model_H1\"] = H_mb_Chern_basis;"
   ]
  },
  {
   "cell_type": "code",
   "execution_count": 117,
   "id": "9e92d424-9c73-41c6-bfed-7adc595e5fe3",
   "metadata": {},
   "outputs": [
    {
     "data": {
      "text/plain": [
       "Dict{Any, Any} with 23 entries:\n",
       "  \"pbc\"            => true\n",
       "  \"neighbors_list\" => [[[1, 0, 1], [-1, 0, 1], [0, 1, 1], [0, -1, 1]]]\n",
       "  \"site_number\"    => Dict{Any, Any}([2, 2, 1]=>9, [2, 1, 1]=>6, [1, 0, 1]=>2, …\n",
       "  \"Tx\"             => [0.0, 0.314159, 0.628319, 0.942478, 1.25664, 1.5708, 1.88…\n",
       "  \"param_2\"        => \"Ty\"\n",
       "  \"θθ\"             => [5.96903, 5.96903]\n",
       "  \"t\"              => -1\n",
       "  \"Ty\"             => [0.0, 0.314159, 0.628319, 0.942478, 1.25664, 1.5708, 1.88…\n",
       "  \"PN\"             => 2\n",
       "  \"model_H1\"       => get_Hofstadter_hamiltonian\n",
       "  \"vv_basis\"       => [[0, 0]]\n",
       "  \"basis_mb\"       => ManyBody(onebodybasis=Subspace(superbasis=NLevel(N=9), st…\n",
       "  \"LL\"             => [3, 3]\n",
       "  \"ϕ\"              => 0.333333\n",
       "  \"sub_range\"      => 1:3\n",
       "  \"basis\"          => NLevel(N=9)\n",
       "  \"projection\"     => (Subspace(superbasis=NLevel(N=9), states:3), Operator(dim…\n",
       "  \"dimH_mb\"        => 6\n",
       "  \"vv_lattice\"     => [[1.0, 0.0], [0.0, 1.0]]\n",
       "  \"gauge\"          => \"Landau\"\n",
       "  \"sites\"          => Any[[0, 0, 1], [1, 0, 1], [2, 0, 1], [0, 1, 1], [1, 1, 1]…\n",
       "  \"site_coord\"     => Dict{Any, Any}([2, 2, 1]=>[2.0, 2.0], [2, 1, 1]=>[2.0, 1.…\n",
       "  \"param_1\"        => \"Tx\""
      ]
     },
     "execution_count": 117,
     "metadata": {},
     "output_type": "execute_result"
    }
   ],
   "source": [
    "param_dict"
   ]
  },
  {
   "cell_type": "code",
   "execution_count": 118,
   "id": "b262957a",
   "metadata": {},
   "outputs": [
    {
     "data": {
      "image/svg+xml": [
       "<?xml version=\"1.0\" encoding=\"utf-8\"?>\n",
       "<svg xmlns=\"http://www.w3.org/2000/svg\" xmlns:xlink=\"http://www.w3.org/1999/xlink\" width=\"600\" height=\"400\" viewBox=\"0 0 2400 1600\">\n",
       "<defs>\n",
       "  <clipPath id=\"clip430\">\n",
       "    <rect x=\"0\" y=\"0\" width=\"2400\" height=\"1600\"/>\n",
       "  </clipPath>\n",
       "</defs>\n",
       "<path clip-path=\"url(#clip430)\" d=\"M0 1600 L2400 1600 L2400 0 L0 0  Z\" fill=\"#ffffff\" fill-rule=\"evenodd\" fill-opacity=\"1\"/>\n",
       "<defs>\n",
       "  <clipPath id=\"clip431\">\n",
       "    <rect x=\"480\" y=\"0\" width=\"1681\" height=\"1600\"/>\n",
       "  </clipPath>\n",
       "</defs>\n",
       "<path clip-path=\"url(#clip430)\" d=\"M494.363 1486.45 L2352.76 1486.45 L2352.76 47.2441 L494.363 47.2441  Z\" fill=\"#ffffff\" fill-rule=\"evenodd\" fill-opacity=\"1\"/>\n",
       "<defs>\n",
       "  <clipPath id=\"clip432\">\n",
       "    <rect x=\"494\" y=\"47\" width=\"1859\" height=\"1440\"/>\n",
       "  </clipPath>\n",
       "</defs>\n",
       "<polyline clip-path=\"url(#clip432)\" style=\"stroke:#000000; stroke-linecap:round; stroke-linejoin:round; stroke-width:2; stroke-opacity:0.1; fill:none\" points=\"546.959,1450 546.959,-50 \"/>\n",
       "<polyline clip-path=\"url(#clip432)\" style=\"stroke:#000000; stroke-linecap:round; stroke-linejoin:round; stroke-width:2; stroke-opacity:0.1; fill:none\" points=\"897.599,1450 897.599,-50 \"/>\n",
       "<polyline clip-path=\"url(#clip432)\" style=\"stroke:#000000; stroke-linecap:round; stroke-linejoin:round; stroke-width:2; stroke-opacity:0.1; fill:none\" points=\"1248.24,1450 1248.24,-50 \"/>\n",
       "<polyline clip-path=\"url(#clip432)\" style=\"stroke:#000000; stroke-linecap:round; stroke-linejoin:round; stroke-width:2; stroke-opacity:0.1; fill:none\" points=\"1598.88,1450 1598.88,-50 \"/>\n",
       "<polyline clip-path=\"url(#clip432)\" style=\"stroke:#000000; stroke-linecap:round; stroke-linejoin:round; stroke-width:2; stroke-opacity:0.1; fill:none\" points=\"1949.52,1450 1949.52,-50 \"/>\n",
       "<polyline clip-path=\"url(#clip432)\" style=\"stroke:#000000; stroke-linecap:round; stroke-linejoin:round; stroke-width:2; stroke-opacity:0.1; fill:none\" points=\"2300.16,1450 2300.16,-50 \"/>\n",
       "<polyline clip-path=\"url(#clip430)\" style=\"stroke:#000000; stroke-linecap:round; stroke-linejoin:round; stroke-width:4; stroke-opacity:1; fill:none\" points=\"494.363,1450 2352.76,1450 \"/>\n",
       "<polyline clip-path=\"url(#clip430)\" style=\"stroke:#000000; stroke-linecap:round; stroke-linejoin:round; stroke-width:4; stroke-opacity:1; fill:none\" points=\"546.959,1450 546.959,1450 \"/>\n",
       "<polyline clip-path=\"url(#clip430)\" style=\"stroke:#000000; stroke-linecap:round; stroke-linejoin:round; stroke-width:4; stroke-opacity:1; fill:none\" points=\"897.599,1450 897.599,1450 \"/>\n",
       "<polyline clip-path=\"url(#clip430)\" style=\"stroke:#000000; stroke-linecap:round; stroke-linejoin:round; stroke-width:4; stroke-opacity:1; fill:none\" points=\"1248.24,1450 1248.24,1450 \"/>\n",
       "<polyline clip-path=\"url(#clip430)\" style=\"stroke:#000000; stroke-linecap:round; stroke-linejoin:round; stroke-width:4; stroke-opacity:1; fill:none\" points=\"1598.88,1450 1598.88,1450 \"/>\n",
       "<polyline clip-path=\"url(#clip430)\" style=\"stroke:#000000; stroke-linecap:round; stroke-linejoin:round; stroke-width:4; stroke-opacity:1; fill:none\" points=\"1949.52,1450 1949.52,1450 \"/>\n",
       "<polyline clip-path=\"url(#clip430)\" style=\"stroke:#000000; stroke-linecap:round; stroke-linejoin:round; stroke-width:4; stroke-opacity:1; fill:none\" points=\"2300.16,1450 2300.16,1450 \"/>\n",
       "<path clip-path=\"url(#clip430)\" d=\"M537.341 1508.46 L544.98 1508.46 L544.98 1482.1 L536.669 1483.77 L536.669 1479.51 L544.933 1477.84 L549.609 1477.84 L549.609 1508.46 L557.248 1508.46 L557.248 1512.4 L537.341 1512.4 L537.341 1508.46 Z\" fill=\"#000000\" fill-rule=\"nonzero\" fill-opacity=\"1\" /><path clip-path=\"url(#clip430)\" d=\"M892.252 1508.46 L908.571 1508.46 L908.571 1512.4 L886.627 1512.4 L886.627 1508.46 Q889.289 1505.71 893.872 1501.08 Q898.479 1496.43 899.659 1495.09 Q901.904 1492.56 902.784 1490.83 Q903.687 1489.07 903.687 1487.38 Q903.687 1484.62 901.742 1482.89 Q899.821 1481.15 896.719 1481.15 Q894.52 1481.15 892.067 1481.91 Q889.636 1482.68 886.858 1484.23 L886.858 1479.51 Q889.682 1478.37 892.136 1477.79 Q894.59 1477.22 896.627 1477.22 Q901.997 1477.22 905.191 1479.9 Q908.386 1482.59 908.386 1487.08 Q908.386 1489.21 907.576 1491.13 Q906.789 1493.03 904.682 1495.62 Q904.104 1496.29 901.002 1499.51 Q897.9 1502.7 892.252 1508.46 Z\" fill=\"#000000\" fill-rule=\"nonzero\" fill-opacity=\"1\" /><path clip-path=\"url(#clip430)\" d=\"M1252.49 1493.77 Q1255.84 1494.48 1257.72 1496.75 Q1259.62 1499.02 1259.62 1502.35 Q1259.62 1507.47 1256.1 1510.27 Q1252.58 1513.07 1246.1 1513.07 Q1243.92 1513.07 1241.61 1512.63 Q1239.32 1512.21 1236.86 1511.36 L1236.86 1506.84 Q1238.81 1507.98 1241.12 1508.56 Q1243.44 1509.14 1245.96 1509.14 Q1250.36 1509.14 1252.65 1507.4 Q1254.96 1505.66 1254.96 1502.35 Q1254.96 1499.3 1252.81 1497.59 Q1250.68 1495.85 1246.86 1495.85 L1242.83 1495.85 L1242.83 1492.01 L1247.05 1492.01 Q1250.5 1492.01 1252.32 1490.64 Q1254.15 1489.25 1254.15 1486.66 Q1254.15 1484 1252.26 1482.59 Q1250.38 1481.15 1246.86 1481.15 Q1244.94 1481.15 1242.74 1481.57 Q1240.54 1481.98 1237.9 1482.86 L1237.9 1478.7 Q1240.57 1477.96 1242.88 1477.59 Q1245.22 1477.22 1247.28 1477.22 Q1252.6 1477.22 1255.7 1479.65 Q1258.81 1482.05 1258.81 1486.17 Q1258.81 1489.04 1257.16 1491.03 Q1255.52 1493 1252.49 1493.77 Z\" fill=\"#000000\" fill-rule=\"nonzero\" fill-opacity=\"1\" /><path clip-path=\"url(#clip430)\" d=\"M1601.89 1481.91 L1590.08 1500.36 L1601.89 1500.36 L1601.89 1481.91 M1600.66 1477.84 L1606.54 1477.84 L1606.54 1500.36 L1611.47 1500.36 L1611.47 1504.25 L1606.54 1504.25 L1606.54 1512.4 L1601.89 1512.4 L1601.89 1504.25 L1586.29 1504.25 L1586.29 1499.74 L1600.66 1477.84 Z\" fill=\"#000000\" fill-rule=\"nonzero\" fill-opacity=\"1\" /><path clip-path=\"url(#clip430)\" d=\"M1939.8 1477.84 L1958.15 1477.84 L1958.15 1481.78 L1944.08 1481.78 L1944.08 1490.25 Q1945.1 1489.9 1946.12 1489.74 Q1947.14 1489.55 1948.15 1489.55 Q1953.94 1489.55 1957.32 1492.72 Q1960.7 1495.9 1960.7 1501.31 Q1960.7 1506.89 1957.23 1509.99 Q1953.76 1513.07 1947.44 1513.07 Q1945.26 1513.07 1942.99 1512.7 Q1940.75 1512.33 1938.34 1511.59 L1938.34 1506.89 Q1940.42 1508.03 1942.64 1508.58 Q1944.87 1509.14 1947.34 1509.14 Q1951.35 1509.14 1953.69 1507.03 Q1956.02 1504.92 1956.02 1501.31 Q1956.02 1497.7 1953.69 1495.59 Q1951.35 1493.49 1947.34 1493.49 Q1945.47 1493.49 1943.59 1493.9 Q1941.74 1494.32 1939.8 1495.2 L1939.8 1477.84 Z\" fill=\"#000000\" fill-rule=\"nonzero\" fill-opacity=\"1\" /><path clip-path=\"url(#clip430)\" d=\"M2300.56 1493.26 Q2297.42 1493.26 2295.56 1495.41 Q2293.74 1497.56 2293.74 1501.31 Q2293.74 1505.04 2295.56 1507.21 Q2297.42 1509.37 2300.56 1509.37 Q2303.71 1509.37 2305.54 1507.21 Q2307.39 1505.04 2307.39 1501.31 Q2307.39 1497.56 2305.54 1495.41 Q2303.71 1493.26 2300.56 1493.26 M2309.85 1478.6 L2309.85 1482.86 Q2308.09 1482.03 2306.28 1481.59 Q2304.5 1481.15 2302.74 1481.15 Q2298.11 1481.15 2295.66 1484.28 Q2293.23 1487.4 2292.88 1493.72 Q2294.25 1491.71 2296.31 1490.64 Q2298.37 1489.55 2300.84 1489.55 Q2306.05 1489.55 2309.06 1492.72 Q2312.09 1495.87 2312.09 1501.31 Q2312.09 1506.64 2308.94 1509.85 Q2305.8 1513.07 2300.56 1513.07 Q2294.57 1513.07 2291.4 1508.49 Q2288.23 1503.88 2288.23 1495.15 Q2288.23 1486.96 2292.12 1482.1 Q2296 1477.22 2302.56 1477.22 Q2304.31 1477.22 2306.1 1477.56 Q2307.9 1477.91 2309.85 1478.6 Z\" fill=\"#000000\" fill-rule=\"nonzero\" fill-opacity=\"1\" /><polyline clip-path=\"url(#clip432)\" style=\"stroke:#000000; stroke-linecap:round; stroke-linejoin:round; stroke-width:2; stroke-opacity:0.1; fill:none\" points=\"494.363,1450 2352.76,1450 \"/>\n",
       "<polyline clip-path=\"url(#clip432)\" style=\"stroke:#000000; stroke-linecap:round; stroke-linejoin:round; stroke-width:2; stroke-opacity:0.1; fill:none\" points=\"494.363,1150 2352.76,1150 \"/>\n",
       "<polyline clip-path=\"url(#clip432)\" style=\"stroke:#000000; stroke-linecap:round; stroke-linejoin:round; stroke-width:2; stroke-opacity:0.1; fill:none\" points=\"494.363,700 2352.76,700 \"/>\n",
       "<polyline clip-path=\"url(#clip432)\" style=\"stroke:#000000; stroke-linecap:round; stroke-linejoin:round; stroke-width:2; stroke-opacity:0.1; fill:none\" points=\"494.363,250 2352.76,250 \"/>\n",
       "<polyline clip-path=\"url(#clip430)\" style=\"stroke:#000000; stroke-linecap:round; stroke-linejoin:round; stroke-width:4; stroke-opacity:1; fill:none\" points=\"494.363,1450 494.363,-50 \"/>\n",
       "<polyline clip-path=\"url(#clip430)\" style=\"stroke:#000000; stroke-linecap:round; stroke-linejoin:round; stroke-width:4; stroke-opacity:1; fill:none\" points=\"494.363,1450 513.26,1450 \"/>\n",
       "<polyline clip-path=\"url(#clip430)\" style=\"stroke:#000000; stroke-linecap:round; stroke-linejoin:round; stroke-width:4; stroke-opacity:1; fill:none\" points=\"494.363,1150 513.26,1150 \"/>\n",
       "<polyline clip-path=\"url(#clip430)\" style=\"stroke:#000000; stroke-linecap:round; stroke-linejoin:round; stroke-width:4; stroke-opacity:1; fill:none\" points=\"494.363,700 513.26,700 \"/>\n",
       "<polyline clip-path=\"url(#clip430)\" style=\"stroke:#000000; stroke-linecap:round; stroke-linejoin:round; stroke-width:4; stroke-opacity:1; fill:none\" points=\"494.363,250 513.26,250 \"/>\n",
       "<path clip-path=\"url(#clip430)\" d=\"M50.9921 1456.9 L80.6679 1456.9 L80.6679 1460.83 L50.9921 1460.83 L50.9921 1456.9 Z\" fill=\"#000000\" fill-rule=\"nonzero\" fill-opacity=\"1\" /><path clip-path=\"url(#clip430)\" d=\"M90.8067 1439.17 L109.163 1439.17 L109.163 1443.1 L95.0891 1443.1 L95.0891 1451.57 Q96.1076 1451.23 97.1261 1451.07 Q98.1447 1450.88 99.1632 1450.88 Q104.95 1450.88 108.33 1454.05 Q111.709 1457.22 111.709 1462.64 Q111.709 1468.22 108.237 1471.32 Q104.765 1474.4 98.4456 1474.4 Q96.2697 1474.4 94.0012 1474.03 Q91.7558 1473.66 89.3484 1472.92 L89.3484 1468.22 Q91.4317 1469.35 93.6539 1469.91 Q95.8761 1470.46 98.353 1470.46 Q102.358 1470.46 104.696 1468.36 Q107.033 1466.25 107.033 1462.64 Q107.033 1459.03 104.696 1456.92 Q102.358 1454.82 98.353 1454.82 Q96.478 1454.82 94.603 1455.23 Q92.7512 1455.65 90.8067 1456.53 L90.8067 1439.17 Z\" fill=\"#000000\" fill-rule=\"nonzero\" fill-opacity=\"1\" /><path clip-path=\"url(#clip430)\" d=\"M120.922 1467.85 L125.807 1467.85 L125.807 1473.73 L120.922 1473.73 L120.922 1467.85 Z\" fill=\"#000000\" fill-rule=\"nonzero\" fill-opacity=\"1\" /><path clip-path=\"url(#clip430)\" d=\"M148.839 1443.24 L137.033 1461.69 L148.839 1461.69 L148.839 1443.24 M147.612 1439.17 L153.492 1439.17 L153.492 1461.69 L158.422 1461.69 L158.422 1465.58 L153.492 1465.58 L153.492 1473.73 L148.839 1473.73 L148.839 1465.58 L133.237 1465.58 L133.237 1461.07 L147.612 1439.17 Z\" fill=\"#000000\" fill-rule=\"nonzero\" fill-opacity=\"1\" /><path clip-path=\"url(#clip430)\" d=\"M176.732 1454.58 Q173.584 1454.58 171.732 1456.74 Q169.904 1458.89 169.904 1462.64 Q169.904 1466.37 171.732 1468.54 Q173.584 1470.7 176.732 1470.7 Q179.88 1470.7 181.709 1468.54 Q183.561 1466.37 183.561 1462.64 Q183.561 1458.89 181.709 1456.74 Q179.88 1454.58 176.732 1454.58 M186.015 1439.93 L186.015 1444.19 Q184.255 1443.36 182.45 1442.92 Q180.667 1442.48 178.908 1442.48 Q174.279 1442.48 171.825 1445.6 Q169.394 1448.73 169.047 1455.05 Q170.413 1453.03 172.473 1451.97 Q174.533 1450.88 177.01 1450.88 Q182.218 1450.88 185.228 1454.05 Q188.26 1457.2 188.26 1462.64 Q188.26 1467.96 185.112 1471.18 Q181.964 1474.4 176.732 1474.4 Q170.737 1474.4 167.566 1469.82 Q164.394 1465.21 164.394 1456.48 Q164.394 1448.29 168.283 1443.43 Q172.172 1438.54 178.723 1438.54 Q180.482 1438.54 182.265 1438.89 Q184.07 1439.24 186.015 1439.93 Z\" fill=\"#000000\" fill-rule=\"nonzero\" fill-opacity=\"1\" /><path clip-path=\"url(#clip430)\" d=\"M209.163 1443.24 L197.357 1461.69 L209.163 1461.69 L209.163 1443.24 M207.936 1439.17 L213.815 1439.17 L213.815 1461.69 L218.746 1461.69 L218.746 1465.58 L213.815 1465.58 L213.815 1473.73 L209.163 1473.73 L209.163 1465.58 L193.561 1465.58 L193.561 1461.07 L207.936 1439.17 Z\" fill=\"#000000\" fill-rule=\"nonzero\" fill-opacity=\"1\" /><path clip-path=\"url(#clip430)\" d=\"M227.287 1469.79 L234.926 1469.79 L234.926 1443.43 L226.616 1445.09 L226.616 1440.83 L234.88 1439.17 L239.556 1439.17 L239.556 1469.79 L247.195 1469.79 L247.195 1473.73 L227.287 1473.73 L227.287 1469.79 Z\" fill=\"#000000\" fill-rule=\"nonzero\" fill-opacity=\"1\" /><path clip-path=\"url(#clip430)\" d=\"M266.639 1442.25 Q263.028 1442.25 261.199 1445.81 Q259.394 1449.35 259.394 1456.48 Q259.394 1463.59 261.199 1467.15 Q263.028 1470.7 266.639 1470.7 Q270.273 1470.7 272.079 1467.15 Q273.908 1463.59 273.908 1456.48 Q273.908 1449.35 272.079 1445.81 Q270.273 1442.25 266.639 1442.25 M266.639 1438.54 Q272.449 1438.54 275.505 1443.15 Q278.583 1447.73 278.583 1456.48 Q278.583 1465.21 275.505 1469.82 Q272.449 1474.4 266.639 1474.4 Q260.829 1474.4 257.75 1469.82 Q254.695 1465.21 254.695 1456.48 Q254.695 1447.73 257.75 1443.15 Q260.829 1438.54 266.639 1438.54 Z\" fill=\"#000000\" fill-rule=\"nonzero\" fill-opacity=\"1\" /><path clip-path=\"url(#clip430)\" d=\"M287.611 1469.79 L295.25 1469.79 L295.25 1443.43 L286.94 1445.09 L286.94 1440.83 L295.204 1439.17 L299.88 1439.17 L299.88 1469.79 L307.519 1469.79 L307.519 1473.73 L287.611 1473.73 L287.611 1469.79 Z\" fill=\"#000000\" fill-rule=\"nonzero\" fill-opacity=\"1\" /><path clip-path=\"url(#clip430)\" d=\"M327.542 1454.58 Q324.393 1454.58 322.542 1456.74 Q320.713 1458.89 320.713 1462.64 Q320.713 1466.37 322.542 1468.54 Q324.393 1470.7 327.542 1470.7 Q330.69 1470.7 332.518 1468.54 Q334.37 1466.37 334.37 1462.64 Q334.37 1458.89 332.518 1456.74 Q330.69 1454.58 327.542 1454.58 M336.824 1439.93 L336.824 1444.19 Q335.065 1443.36 333.259 1442.92 Q331.477 1442.48 329.717 1442.48 Q325.088 1442.48 322.634 1445.6 Q320.204 1448.73 319.856 1455.05 Q321.222 1453.03 323.282 1451.97 Q325.343 1450.88 327.819 1450.88 Q333.028 1450.88 336.037 1454.05 Q339.069 1457.2 339.069 1462.64 Q339.069 1467.96 335.921 1471.18 Q332.773 1474.4 327.542 1474.4 Q321.546 1474.4 318.375 1469.82 Q315.204 1465.21 315.204 1456.48 Q315.204 1448.29 319.093 1443.43 Q322.981 1438.54 329.532 1438.54 Q331.292 1438.54 333.074 1438.89 Q334.879 1439.24 336.824 1439.93 Z\" fill=\"#000000\" fill-rule=\"nonzero\" fill-opacity=\"1\" /><path clip-path=\"url(#clip430)\" d=\"M375.296 1448.26 L364.717 1458.89 L375.296 1469.47 L372.541 1472.27 L361.916 1461.64 L351.291 1472.27 L348.56 1469.47 L359.115 1458.89 L348.56 1448.26 L351.291 1445.46 L361.916 1456.09 L372.541 1445.46 L375.296 1448.26 Z\" fill=\"#000000\" fill-rule=\"nonzero\" fill-opacity=\"1\" /><path clip-path=\"url(#clip430)\" d=\"M387.657 1469.79 L395.296 1469.79 L395.296 1443.43 L386.986 1445.09 L386.986 1440.83 L395.25 1439.17 L399.925 1439.17 L399.925 1469.79 L407.564 1469.79 L407.564 1473.73 L387.657 1473.73 L387.657 1469.79 Z\" fill=\"#000000\" fill-rule=\"nonzero\" fill-opacity=\"1\" /><path clip-path=\"url(#clip430)\" d=\"M427.009 1442.25 Q423.398 1442.25 421.569 1445.81 Q419.763 1449.35 419.763 1456.48 Q419.763 1463.59 421.569 1467.15 Q423.398 1470.7 427.009 1470.7 Q430.643 1470.7 432.448 1467.15 Q434.277 1463.59 434.277 1456.48 Q434.277 1449.35 432.448 1445.81 Q430.643 1442.25 427.009 1442.25 M427.009 1438.54 Q432.819 1438.54 435.874 1443.15 Q438.953 1447.73 438.953 1456.48 Q438.953 1465.21 435.874 1469.82 Q432.819 1474.4 427.009 1474.4 Q421.198 1474.4 418.12 1469.82 Q415.064 1465.21 415.064 1456.48 Q415.064 1447.73 418.12 1443.15 Q421.198 1438.54 427.009 1438.54 Z\" fill=\"#000000\" fill-rule=\"nonzero\" fill-opacity=\"1\" /><path clip-path=\"url(#clip430)\" d=\"M448.658 1420.74 Q445.724 1420.74 444.238 1423.64 Q442.771 1426.51 442.771 1432.31 Q442.771 1438.08 444.238 1440.98 Q445.724 1443.85 448.658 1443.85 Q451.611 1443.85 453.078 1440.98 Q454.563 1438.08 454.563 1432.31 Q454.563 1426.51 453.078 1423.64 Q451.611 1420.74 448.658 1420.74 M448.658 1417.73 Q453.379 1417.73 455.861 1421.47 Q458.363 1425.2 458.363 1432.31 Q458.363 1439.4 455.861 1443.14 Q453.379 1446.86 448.658 1446.86 Q443.937 1446.86 441.436 1443.14 Q438.953 1439.4 438.953 1432.31 Q438.953 1425.2 441.436 1421.47 Q443.937 1417.73 448.658 1417.73 Z\" fill=\"#000000\" fill-rule=\"nonzero\" fill-opacity=\"1\" /><path clip-path=\"url(#clip430)\" d=\"M50.9921 1156.9 L80.6679 1156.9 L80.6679 1160.83 L50.9921 1160.83 L50.9921 1156.9 Z\" fill=\"#000000\" fill-rule=\"nonzero\" fill-opacity=\"1\" /><path clip-path=\"url(#clip430)\" d=\"M90.8067 1139.17 L109.163 1139.17 L109.163 1143.1 L95.0891 1143.1 L95.0891 1151.57 Q96.1076 1151.23 97.1261 1151.07 Q98.1447 1150.88 99.1632 1150.88 Q104.95 1150.88 108.33 1154.05 Q111.709 1157.22 111.709 1162.64 Q111.709 1168.22 108.237 1171.32 Q104.765 1174.4 98.4456 1174.4 Q96.2697 1174.4 94.0012 1174.03 Q91.7558 1173.66 89.3484 1172.92 L89.3484 1168.22 Q91.4317 1169.35 93.6539 1169.91 Q95.8761 1170.46 98.353 1170.46 Q102.358 1170.46 104.696 1168.36 Q107.033 1166.25 107.033 1162.64 Q107.033 1159.03 104.696 1156.92 Q102.358 1154.82 98.353 1154.82 Q96.478 1154.82 94.603 1155.23 Q92.7512 1155.65 90.8067 1156.53 L90.8067 1139.17 Z\" fill=\"#000000\" fill-rule=\"nonzero\" fill-opacity=\"1\" /><path clip-path=\"url(#clip430)\" d=\"M120.922 1167.85 L125.807 1167.85 L125.807 1173.73 L120.922 1173.73 L120.922 1167.85 Z\" fill=\"#000000\" fill-rule=\"nonzero\" fill-opacity=\"1\" /><path clip-path=\"url(#clip430)\" d=\"M148.839 1143.24 L137.033 1161.69 L148.839 1161.69 L148.839 1143.24 M147.612 1139.17 L153.492 1139.17 L153.492 1161.69 L158.422 1161.69 L158.422 1165.58 L153.492 1165.58 L153.492 1173.73 L148.839 1173.73 L148.839 1165.58 L133.237 1165.58 L133.237 1161.07 L147.612 1139.17 Z\" fill=\"#000000\" fill-rule=\"nonzero\" fill-opacity=\"1\" /><path clip-path=\"url(#clip430)\" d=\"M176.732 1154.58 Q173.584 1154.58 171.732 1156.74 Q169.904 1158.89 169.904 1162.64 Q169.904 1166.37 171.732 1168.54 Q173.584 1170.7 176.732 1170.7 Q179.88 1170.7 181.709 1168.54 Q183.561 1166.37 183.561 1162.64 Q183.561 1158.89 181.709 1156.74 Q179.88 1154.58 176.732 1154.58 M186.015 1139.93 L186.015 1144.19 Q184.255 1143.36 182.45 1142.92 Q180.667 1142.48 178.908 1142.48 Q174.279 1142.48 171.825 1145.6 Q169.394 1148.73 169.047 1155.05 Q170.413 1153.03 172.473 1151.97 Q174.533 1150.88 177.01 1150.88 Q182.218 1150.88 185.228 1154.05 Q188.26 1157.2 188.26 1162.64 Q188.26 1167.96 185.112 1171.18 Q181.964 1174.4 176.732 1174.4 Q170.737 1174.4 167.566 1169.82 Q164.394 1165.21 164.394 1156.48 Q164.394 1148.29 168.283 1143.43 Q172.172 1138.54 178.723 1138.54 Q180.482 1138.54 182.265 1138.89 Q184.07 1139.24 186.015 1139.93 Z\" fill=\"#000000\" fill-rule=\"nonzero\" fill-opacity=\"1\" /><path clip-path=\"url(#clip430)\" d=\"M209.163 1143.24 L197.357 1161.69 L209.163 1161.69 L209.163 1143.24 M207.936 1139.17 L213.815 1139.17 L213.815 1161.69 L218.746 1161.69 L218.746 1165.58 L213.815 1165.58 L213.815 1173.73 L209.163 1173.73 L209.163 1165.58 L193.561 1165.58 L193.561 1161.07 L207.936 1139.17 Z\" fill=\"#000000\" fill-rule=\"nonzero\" fill-opacity=\"1\" /><path clip-path=\"url(#clip430)\" d=\"M227.287 1169.79 L234.926 1169.79 L234.926 1143.43 L226.616 1145.09 L226.616 1140.83 L234.88 1139.17 L239.556 1139.17 L239.556 1169.79 L247.195 1169.79 L247.195 1173.73 L227.287 1173.73 L227.287 1169.79 Z\" fill=\"#000000\" fill-rule=\"nonzero\" fill-opacity=\"1\" /><path clip-path=\"url(#clip430)\" d=\"M266.639 1142.25 Q263.028 1142.25 261.199 1145.81 Q259.394 1149.35 259.394 1156.48 Q259.394 1163.59 261.199 1167.15 Q263.028 1170.7 266.639 1170.7 Q270.273 1170.7 272.079 1167.15 Q273.908 1163.59 273.908 1156.48 Q273.908 1149.35 272.079 1145.81 Q270.273 1142.25 266.639 1142.25 M266.639 1138.54 Q272.449 1138.54 275.505 1143.15 Q278.583 1147.73 278.583 1156.48 Q278.583 1165.21 275.505 1169.82 Q272.449 1174.4 266.639 1174.4 Q260.829 1174.4 257.75 1169.82 Q254.695 1165.21 254.695 1156.48 Q254.695 1147.73 257.75 1143.15 Q260.829 1138.54 266.639 1138.54 Z\" fill=\"#000000\" fill-rule=\"nonzero\" fill-opacity=\"1\" /><path clip-path=\"url(#clip430)\" d=\"M287.611 1169.79 L295.25 1169.79 L295.25 1143.43 L286.94 1145.09 L286.94 1140.83 L295.204 1139.17 L299.88 1139.17 L299.88 1169.79 L307.519 1169.79 L307.519 1173.73 L287.611 1173.73 L287.611 1169.79 Z\" fill=\"#000000\" fill-rule=\"nonzero\" fill-opacity=\"1\" /><path clip-path=\"url(#clip430)\" d=\"M327.542 1154.58 Q324.393 1154.58 322.542 1156.74 Q320.713 1158.89 320.713 1162.64 Q320.713 1166.37 322.542 1168.54 Q324.393 1170.7 327.542 1170.7 Q330.69 1170.7 332.518 1168.54 Q334.37 1166.37 334.37 1162.64 Q334.37 1158.89 332.518 1156.74 Q330.69 1154.58 327.542 1154.58 M336.824 1139.93 L336.824 1144.19 Q335.065 1143.36 333.259 1142.92 Q331.477 1142.48 329.717 1142.48 Q325.088 1142.48 322.634 1145.6 Q320.204 1148.73 319.856 1155.05 Q321.222 1153.03 323.282 1151.97 Q325.343 1150.88 327.819 1150.88 Q333.028 1150.88 336.037 1154.05 Q339.069 1157.2 339.069 1162.64 Q339.069 1167.96 335.921 1171.18 Q332.773 1174.4 327.542 1174.4 Q321.546 1174.4 318.375 1169.82 Q315.204 1165.21 315.204 1156.48 Q315.204 1148.29 319.093 1143.43 Q322.981 1138.54 329.532 1138.54 Q331.292 1138.54 333.074 1138.89 Q334.879 1139.24 336.824 1139.93 Z\" fill=\"#000000\" fill-rule=\"nonzero\" fill-opacity=\"1\" /><path clip-path=\"url(#clip430)\" d=\"M375.296 1148.26 L364.717 1158.89 L375.296 1169.47 L372.541 1172.27 L361.916 1161.64 L351.291 1172.27 L348.56 1169.47 L359.115 1158.89 L348.56 1148.26 L351.291 1145.46 L361.916 1156.09 L372.541 1145.46 L375.296 1148.26 Z\" fill=\"#000000\" fill-rule=\"nonzero\" fill-opacity=\"1\" /><path clip-path=\"url(#clip430)\" d=\"M387.657 1169.79 L395.296 1169.79 L395.296 1143.43 L386.986 1145.09 L386.986 1140.83 L395.25 1139.17 L399.925 1139.17 L399.925 1169.79 L407.564 1169.79 L407.564 1173.73 L387.657 1173.73 L387.657 1169.79 Z\" fill=\"#000000\" fill-rule=\"nonzero\" fill-opacity=\"1\" /><path clip-path=\"url(#clip430)\" d=\"M427.009 1142.25 Q423.398 1142.25 421.569 1145.81 Q419.763 1149.35 419.763 1156.48 Q419.763 1163.59 421.569 1167.15 Q423.398 1170.7 427.009 1170.7 Q430.643 1170.7 432.448 1167.15 Q434.277 1163.59 434.277 1156.48 Q434.277 1149.35 432.448 1145.81 Q430.643 1142.25 427.009 1142.25 M427.009 1138.54 Q432.819 1138.54 435.874 1143.15 Q438.953 1147.73 438.953 1156.48 Q438.953 1165.21 435.874 1169.82 Q432.819 1174.4 427.009 1174.4 Q421.198 1174.4 418.12 1169.82 Q415.064 1165.21 415.064 1156.48 Q415.064 1147.73 418.12 1143.15 Q421.198 1138.54 427.009 1138.54 Z\" fill=\"#000000\" fill-rule=\"nonzero\" fill-opacity=\"1\" /><path clip-path=\"url(#clip430)\" d=\"M448.658 1120.74 Q445.724 1120.74 444.238 1123.64 Q442.771 1126.51 442.771 1132.31 Q442.771 1138.08 444.238 1140.98 Q445.724 1143.85 448.658 1143.85 Q451.611 1143.85 453.078 1140.98 Q454.563 1138.08 454.563 1132.31 Q454.563 1126.51 453.078 1123.64 Q451.611 1120.74 448.658 1120.74 M448.658 1117.73 Q453.379 1117.73 455.861 1121.47 Q458.363 1125.2 458.363 1132.31 Q458.363 1139.4 455.861 1143.14 Q453.379 1146.86 448.658 1146.86 Q443.937 1146.86 441.436 1143.14 Q438.953 1139.4 438.953 1132.31 Q438.953 1125.2 441.436 1121.47 Q443.937 1117.73 448.658 1117.73 Z\" fill=\"#000000\" fill-rule=\"nonzero\" fill-opacity=\"1\" /><path clip-path=\"url(#clip430)\" d=\"M50.9921 706.899 L80.6679 706.899 L80.6679 710.834 L50.9921 710.834 L50.9921 706.899 Z\" fill=\"#000000\" fill-rule=\"nonzero\" fill-opacity=\"1\" /><path clip-path=\"url(#clip430)\" d=\"M90.8067 689.168 L109.163 689.168 L109.163 693.103 L95.0891 693.103 L95.0891 701.575 Q96.1076 701.228 97.1261 701.066 Q98.1447 700.881 99.1632 700.881 Q104.95 700.881 108.33 704.052 Q111.709 707.223 111.709 712.64 Q111.709 718.218 108.237 721.32 Q104.765 724.399 98.4456 724.399 Q96.2697 724.399 94.0012 724.029 Q91.7558 723.658 89.3484 722.917 L89.3484 718.218 Q91.4317 719.353 93.6539 719.908 Q95.8761 720.464 98.353 720.464 Q102.358 720.464 104.696 718.357 Q107.033 716.251 107.033 712.64 Q107.033 709.029 104.696 706.922 Q102.358 704.816 98.353 704.816 Q96.478 704.816 94.603 705.232 Q92.7512 705.649 90.8067 706.529 L90.8067 689.168 Z\" fill=\"#000000\" fill-rule=\"nonzero\" fill-opacity=\"1\" /><path clip-path=\"url(#clip430)\" d=\"M120.922 717.848 L125.807 717.848 L125.807 723.728 L120.922 723.728 L120.922 717.848 Z\" fill=\"#000000\" fill-rule=\"nonzero\" fill-opacity=\"1\" /><path clip-path=\"url(#clip430)\" d=\"M148.839 693.242 L137.033 711.691 L148.839 711.691 L148.839 693.242 M147.612 689.168 L153.492 689.168 L153.492 711.691 L158.422 711.691 L158.422 715.579 L153.492 715.579 L153.492 723.728 L148.839 723.728 L148.839 715.579 L133.237 715.579 L133.237 711.066 L147.612 689.168 Z\" fill=\"#000000\" fill-rule=\"nonzero\" fill-opacity=\"1\" /><path clip-path=\"url(#clip430)\" d=\"M176.732 704.584 Q173.584 704.584 171.732 706.737 Q169.904 708.89 169.904 712.64 Q169.904 716.367 171.732 718.542 Q173.584 720.695 176.732 720.695 Q179.88 720.695 181.709 718.542 Q183.561 716.367 183.561 712.64 Q183.561 708.89 181.709 706.737 Q179.88 704.584 176.732 704.584 M186.015 689.931 L186.015 694.191 Q184.255 693.357 182.45 692.918 Q180.667 692.478 178.908 692.478 Q174.279 692.478 171.825 695.603 Q169.394 698.728 169.047 705.047 Q170.413 703.033 172.473 701.968 Q174.533 700.881 177.01 700.881 Q182.218 700.881 185.228 704.052 Q188.26 707.2 188.26 712.64 Q188.26 717.964 185.112 721.181 Q181.964 724.399 176.732 724.399 Q170.737 724.399 167.566 719.816 Q164.394 715.209 164.394 706.482 Q164.394 698.288 168.283 693.427 Q172.172 688.543 178.723 688.543 Q180.482 688.543 182.265 688.89 Q184.07 689.237 186.015 689.931 Z\" fill=\"#000000\" fill-rule=\"nonzero\" fill-opacity=\"1\" /><path clip-path=\"url(#clip430)\" d=\"M209.163 693.242 L197.357 711.691 L209.163 711.691 L209.163 693.242 M207.936 689.168 L213.815 689.168 L213.815 711.691 L218.746 711.691 L218.746 715.579 L213.815 715.579 L213.815 723.728 L209.163 723.728 L209.163 715.579 L193.561 715.579 L193.561 711.066 L207.936 689.168 Z\" fill=\"#000000\" fill-rule=\"nonzero\" fill-opacity=\"1\" /><path clip-path=\"url(#clip430)\" d=\"M227.287 719.792 L234.926 719.792 L234.926 693.427 L226.616 695.093 L226.616 690.834 L234.88 689.168 L239.556 689.168 L239.556 719.792 L247.195 719.792 L247.195 723.728 L227.287 723.728 L227.287 719.792 Z\" fill=\"#000000\" fill-rule=\"nonzero\" fill-opacity=\"1\" /><path clip-path=\"url(#clip430)\" d=\"M266.639 692.246 Q263.028 692.246 261.199 695.811 Q259.394 699.353 259.394 706.482 Q259.394 713.589 261.199 717.154 Q263.028 720.695 266.639 720.695 Q270.273 720.695 272.079 717.154 Q273.908 713.589 273.908 706.482 Q273.908 699.353 272.079 695.811 Q270.273 692.246 266.639 692.246 M266.639 688.543 Q272.449 688.543 275.505 693.149 Q278.583 697.732 278.583 706.482 Q278.583 715.209 275.505 719.816 Q272.449 724.399 266.639 724.399 Q260.829 724.399 257.75 719.816 Q254.695 715.209 254.695 706.482 Q254.695 697.732 257.75 693.149 Q260.829 688.543 266.639 688.543 Z\" fill=\"#000000\" fill-rule=\"nonzero\" fill-opacity=\"1\" /><path clip-path=\"url(#clip430)\" d=\"M287.611 719.792 L295.25 719.792 L295.25 693.427 L286.94 695.093 L286.94 690.834 L295.204 689.168 L299.88 689.168 L299.88 719.792 L307.519 719.792 L307.519 723.728 L287.611 723.728 L287.611 719.792 Z\" fill=\"#000000\" fill-rule=\"nonzero\" fill-opacity=\"1\" /><path clip-path=\"url(#clip430)\" d=\"M327.542 704.584 Q324.393 704.584 322.542 706.737 Q320.713 708.89 320.713 712.64 Q320.713 716.367 322.542 718.542 Q324.393 720.695 327.542 720.695 Q330.69 720.695 332.518 718.542 Q334.37 716.367 334.37 712.64 Q334.37 708.89 332.518 706.737 Q330.69 704.584 327.542 704.584 M336.824 689.931 L336.824 694.191 Q335.065 693.357 333.259 692.918 Q331.477 692.478 329.717 692.478 Q325.088 692.478 322.634 695.603 Q320.204 698.728 319.856 705.047 Q321.222 703.033 323.282 701.968 Q325.343 700.881 327.819 700.881 Q333.028 700.881 336.037 704.052 Q339.069 707.2 339.069 712.64 Q339.069 717.964 335.921 721.181 Q332.773 724.399 327.542 724.399 Q321.546 724.399 318.375 719.816 Q315.204 715.209 315.204 706.482 Q315.204 698.288 319.093 693.427 Q322.981 688.543 329.532 688.543 Q331.292 688.543 333.074 688.89 Q334.879 689.237 336.824 689.931 Z\" fill=\"#000000\" fill-rule=\"nonzero\" fill-opacity=\"1\" /><path clip-path=\"url(#clip430)\" d=\"M375.296 698.265 L364.717 708.89 L375.296 719.468 L372.541 722.269 L361.916 711.644 L351.291 722.269 L348.56 719.468 L359.115 708.89 L348.56 698.265 L351.291 695.464 L361.916 706.089 L372.541 695.464 L375.296 698.265 Z\" fill=\"#000000\" fill-rule=\"nonzero\" fill-opacity=\"1\" /><path clip-path=\"url(#clip430)\" d=\"M387.657 719.792 L395.296 719.792 L395.296 693.427 L386.986 695.093 L386.986 690.834 L395.25 689.168 L399.925 689.168 L399.925 719.792 L407.564 719.792 L407.564 723.728 L387.657 723.728 L387.657 719.792 Z\" fill=\"#000000\" fill-rule=\"nonzero\" fill-opacity=\"1\" /><path clip-path=\"url(#clip430)\" d=\"M427.009 692.246 Q423.398 692.246 421.569 695.811 Q419.763 699.353 419.763 706.482 Q419.763 713.589 421.569 717.154 Q423.398 720.695 427.009 720.695 Q430.643 720.695 432.448 717.154 Q434.277 713.589 434.277 706.482 Q434.277 699.353 432.448 695.811 Q430.643 692.246 427.009 692.246 M427.009 688.543 Q432.819 688.543 435.874 693.149 Q438.953 697.732 438.953 706.482 Q438.953 715.209 435.874 719.816 Q432.819 724.399 427.009 724.399 Q421.198 724.399 418.12 719.816 Q415.064 715.209 415.064 706.482 Q415.064 697.732 418.12 693.149 Q421.198 688.543 427.009 688.543 Z\" fill=\"#000000\" fill-rule=\"nonzero\" fill-opacity=\"1\" /><path clip-path=\"url(#clip430)\" d=\"M448.658 670.739 Q445.724 670.739 444.238 673.635 Q442.771 676.513 442.771 682.305 Q442.771 688.079 444.238 690.976 Q445.724 693.853 448.658 693.853 Q451.611 693.853 453.078 690.976 Q454.563 688.079 454.563 682.305 Q454.563 676.513 453.078 673.635 Q451.611 670.739 448.658 670.739 M448.658 667.729 Q453.379 667.729 455.861 671.472 Q458.363 675.196 458.363 682.305 Q458.363 689.396 455.861 693.139 Q453.379 696.863 448.658 696.863 Q443.937 696.863 441.436 693.139 Q438.953 689.396 438.953 682.305 Q438.953 675.196 441.436 671.472 Q443.937 667.729 448.658 667.729 Z\" fill=\"#000000\" fill-rule=\"nonzero\" fill-opacity=\"1\" /><path clip-path=\"url(#clip430)\" d=\"M50.9921 256.899 L80.6679 256.899 L80.6679 260.834 L50.9921 260.834 L50.9921 256.899 Z\" fill=\"#000000\" fill-rule=\"nonzero\" fill-opacity=\"1\" /><path clip-path=\"url(#clip430)\" d=\"M90.8067 239.168 L109.163 239.168 L109.163 243.103 L95.0891 243.103 L95.0891 251.575 Q96.1076 251.228 97.1261 251.066 Q98.1447 250.881 99.1632 250.881 Q104.95 250.881 108.33 254.052 Q111.709 257.223 111.709 262.64 Q111.709 268.218 108.237 271.32 Q104.765 274.399 98.4456 274.399 Q96.2697 274.399 94.0012 274.029 Q91.7558 273.658 89.3484 272.917 L89.3484 268.218 Q91.4317 269.353 93.6539 269.908 Q95.8761 270.464 98.353 270.464 Q102.358 270.464 104.696 268.357 Q107.033 266.251 107.033 262.64 Q107.033 259.029 104.696 256.922 Q102.358 254.816 98.353 254.816 Q96.478 254.816 94.603 255.232 Q92.7512 255.649 90.8067 256.529 L90.8067 239.168 Z\" fill=\"#000000\" fill-rule=\"nonzero\" fill-opacity=\"1\" /><path clip-path=\"url(#clip430)\" d=\"M120.922 267.848 L125.807 267.848 L125.807 273.728 L120.922 273.728 L120.922 267.848 Z\" fill=\"#000000\" fill-rule=\"nonzero\" fill-opacity=\"1\" /><path clip-path=\"url(#clip430)\" d=\"M148.839 243.242 L137.033 261.691 L148.839 261.691 L148.839 243.242 M147.612 239.168 L153.492 239.168 L153.492 261.691 L158.422 261.691 L158.422 265.579 L153.492 265.579 L153.492 273.728 L148.839 273.728 L148.839 265.579 L133.237 265.579 L133.237 261.066 L147.612 239.168 Z\" fill=\"#000000\" fill-rule=\"nonzero\" fill-opacity=\"1\" /><path clip-path=\"url(#clip430)\" d=\"M176.732 254.584 Q173.584 254.584 171.732 256.737 Q169.904 258.89 169.904 262.64 Q169.904 266.367 171.732 268.542 Q173.584 270.695 176.732 270.695 Q179.88 270.695 181.709 268.542 Q183.561 266.367 183.561 262.64 Q183.561 258.89 181.709 256.737 Q179.88 254.584 176.732 254.584 M186.015 239.931 L186.015 244.191 Q184.255 243.357 182.45 242.918 Q180.667 242.478 178.908 242.478 Q174.279 242.478 171.825 245.603 Q169.394 248.728 169.047 255.047 Q170.413 253.033 172.473 251.968 Q174.533 250.881 177.01 250.881 Q182.218 250.881 185.228 254.052 Q188.26 257.2 188.26 262.64 Q188.26 267.964 185.112 271.181 Q181.964 274.399 176.732 274.399 Q170.737 274.399 167.566 269.816 Q164.394 265.209 164.394 256.482 Q164.394 248.288 168.283 243.427 Q172.172 238.543 178.723 238.543 Q180.482 238.543 182.265 238.89 Q184.07 239.237 186.015 239.931 Z\" fill=\"#000000\" fill-rule=\"nonzero\" fill-opacity=\"1\" /><path clip-path=\"url(#clip430)\" d=\"M209.163 243.242 L197.357 261.691 L209.163 261.691 L209.163 243.242 M207.936 239.168 L213.815 239.168 L213.815 261.691 L218.746 261.691 L218.746 265.579 L213.815 265.579 L213.815 273.728 L209.163 273.728 L209.163 265.579 L193.561 265.579 L193.561 261.066 L207.936 239.168 Z\" fill=\"#000000\" fill-rule=\"nonzero\" fill-opacity=\"1\" /><path clip-path=\"url(#clip430)\" d=\"M227.287 269.792 L234.926 269.792 L234.926 243.427 L226.616 245.093 L226.616 240.834 L234.88 239.168 L239.556 239.168 L239.556 269.792 L247.195 269.792 L247.195 273.728 L227.287 273.728 L227.287 269.792 Z\" fill=\"#000000\" fill-rule=\"nonzero\" fill-opacity=\"1\" /><path clip-path=\"url(#clip430)\" d=\"M266.639 242.246 Q263.028 242.246 261.199 245.811 Q259.394 249.353 259.394 256.482 Q259.394 263.589 261.199 267.154 Q263.028 270.695 266.639 270.695 Q270.273 270.695 272.079 267.154 Q273.908 263.589 273.908 256.482 Q273.908 249.353 272.079 245.811 Q270.273 242.246 266.639 242.246 M266.639 238.543 Q272.449 238.543 275.505 243.149 Q278.583 247.732 278.583 256.482 Q278.583 265.209 275.505 269.816 Q272.449 274.399 266.639 274.399 Q260.829 274.399 257.75 269.816 Q254.695 265.209 254.695 256.482 Q254.695 247.732 257.75 243.149 Q260.829 238.543 266.639 238.543 Z\" fill=\"#000000\" fill-rule=\"nonzero\" fill-opacity=\"1\" /><path clip-path=\"url(#clip430)\" d=\"M287.611 269.792 L295.25 269.792 L295.25 243.427 L286.94 245.093 L286.94 240.834 L295.204 239.168 L299.88 239.168 L299.88 269.792 L307.519 269.792 L307.519 273.728 L287.611 273.728 L287.611 269.792 Z\" fill=\"#000000\" fill-rule=\"nonzero\" fill-opacity=\"1\" /><path clip-path=\"url(#clip430)\" d=\"M327.542 254.584 Q324.393 254.584 322.542 256.737 Q320.713 258.89 320.713 262.64 Q320.713 266.367 322.542 268.542 Q324.393 270.695 327.542 270.695 Q330.69 270.695 332.518 268.542 Q334.37 266.367 334.37 262.64 Q334.37 258.89 332.518 256.737 Q330.69 254.584 327.542 254.584 M336.824 239.931 L336.824 244.191 Q335.065 243.357 333.259 242.918 Q331.477 242.478 329.717 242.478 Q325.088 242.478 322.634 245.603 Q320.204 248.728 319.856 255.047 Q321.222 253.033 323.282 251.968 Q325.343 250.881 327.819 250.881 Q333.028 250.881 336.037 254.052 Q339.069 257.2 339.069 262.64 Q339.069 267.964 335.921 271.181 Q332.773 274.399 327.542 274.399 Q321.546 274.399 318.375 269.816 Q315.204 265.209 315.204 256.482 Q315.204 248.288 319.093 243.427 Q322.981 238.543 329.532 238.543 Q331.292 238.543 333.074 238.89 Q334.879 239.237 336.824 239.931 Z\" fill=\"#000000\" fill-rule=\"nonzero\" fill-opacity=\"1\" /><path clip-path=\"url(#clip430)\" d=\"M375.296 248.265 L364.717 258.89 L375.296 269.468 L372.541 272.269 L361.916 261.644 L351.291 272.269 L348.56 269.468 L359.115 258.89 L348.56 248.265 L351.291 245.464 L361.916 256.089 L372.541 245.464 L375.296 248.265 Z\" fill=\"#000000\" fill-rule=\"nonzero\" fill-opacity=\"1\" /><path clip-path=\"url(#clip430)\" d=\"M387.657 269.792 L395.296 269.792 L395.296 243.427 L386.986 245.093 L386.986 240.834 L395.25 239.168 L399.925 239.168 L399.925 269.792 L407.564 269.792 L407.564 273.728 L387.657 273.728 L387.657 269.792 Z\" fill=\"#000000\" fill-rule=\"nonzero\" fill-opacity=\"1\" /><path clip-path=\"url(#clip430)\" d=\"M427.009 242.246 Q423.398 242.246 421.569 245.811 Q419.763 249.353 419.763 256.482 Q419.763 263.589 421.569 267.154 Q423.398 270.695 427.009 270.695 Q430.643 270.695 432.448 267.154 Q434.277 263.589 434.277 256.482 Q434.277 249.353 432.448 245.811 Q430.643 242.246 427.009 242.246 M427.009 238.543 Q432.819 238.543 435.874 243.149 Q438.953 247.732 438.953 256.482 Q438.953 265.209 435.874 269.816 Q432.819 274.399 427.009 274.399 Q421.198 274.399 418.12 269.816 Q415.064 265.209 415.064 256.482 Q415.064 247.732 418.12 243.149 Q421.198 238.543 427.009 238.543 Z\" fill=\"#000000\" fill-rule=\"nonzero\" fill-opacity=\"1\" /><path clip-path=\"url(#clip430)\" d=\"M448.658 220.739 Q445.724 220.739 444.238 223.635 Q442.771 226.513 442.771 232.305 Q442.771 238.079 444.238 240.976 Q445.724 243.853 448.658 243.853 Q451.611 243.853 453.078 240.976 Q454.563 238.079 454.563 232.305 Q454.563 226.513 453.078 223.635 Q451.611 220.739 448.658 220.739 M448.658 217.729 Q453.379 217.729 455.861 221.472 Q458.363 225.196 458.363 232.305 Q458.363 239.396 455.861 243.139 Q453.379 246.863 448.658 246.863 Q443.937 246.863 441.436 243.139 Q438.953 239.396 438.953 232.305 Q438.953 225.196 441.436 221.472 Q443.937 217.729 448.658 217.729 Z\" fill=\"#000000\" fill-rule=\"nonzero\" fill-opacity=\"1\" /><circle clip-path=\"url(#clip432)\" cx=\"546.959\" cy=\"1300\" r=\"14.4\" fill=\"#009af9\" fill-rule=\"evenodd\" fill-opacity=\"1\" stroke=\"#000000\" stroke-opacity=\"1\" stroke-width=\"3.2\"/>\n",
       "<circle clip-path=\"url(#clip432)\" cx=\"897.599\" cy=\"550\" r=\"14.4\" fill=\"#009af9\" fill-rule=\"evenodd\" fill-opacity=\"1\" stroke=\"#000000\" stroke-opacity=\"1\" stroke-width=\"3.2\"/>\n",
       "<circle clip-path=\"url(#clip432)\" cx=\"1248.24\" cy=\"400\" r=\"14.4\" fill=\"#009af9\" fill-rule=\"evenodd\" fill-opacity=\"1\" stroke=\"#000000\" stroke-opacity=\"1\" stroke-width=\"3.2\"/>\n",
       "<circle clip-path=\"url(#clip432)\" cx=\"1598.88\" cy=\"400\" r=\"14.4\" fill=\"#009af9\" fill-rule=\"evenodd\" fill-opacity=\"1\" stroke=\"#000000\" stroke-opacity=\"1\" stroke-width=\"3.2\"/>\n",
       "<circle clip-path=\"url(#clip432)\" cx=\"1949.52\" cy=\"250\" r=\"14.4\" fill=\"#009af9\" fill-rule=\"evenodd\" fill-opacity=\"1\" stroke=\"#000000\" stroke-opacity=\"1\" stroke-width=\"3.2\"/>\n",
       "<path clip-path=\"url(#clip430)\" d=\"M556.309 198.898 L794.579 198.898 L794.579 95.2176 L556.309 95.2176  Z\" fill=\"#ffffff\" fill-rule=\"evenodd\" fill-opacity=\"1\"/>\n",
       "<polyline clip-path=\"url(#clip430)\" style=\"stroke:#000000; stroke-linecap:round; stroke-linejoin:round; stroke-width:4; stroke-opacity:1; fill:none\" points=\"556.309,198.898 794.579,198.898 794.579,95.2176 556.309,95.2176 556.309,198.898 \"/>\n",
       "<circle clip-path=\"url(#clip430)\" cx=\"638.904\" cy=\"147.058\" r=\"23.04\" fill=\"#009af9\" fill-rule=\"evenodd\" fill-opacity=\"1\" stroke=\"#000000\" stroke-opacity=\"1\" stroke-width=\"5.12\"/>\n",
       "<path clip-path=\"url(#clip430)\" d=\"M735.342 166.745 Q733.537 171.375 731.824 172.787 Q730.111 174.199 727.24 174.199 L723.838 174.199 L723.838 170.634 L726.338 170.634 Q728.097 170.634 729.069 169.8 Q730.041 168.967 731.222 165.865 L731.986 163.921 L721.5 138.412 L726.013 138.412 L734.115 158.689 L742.217 138.412 L746.731 138.412 L735.342 166.745 Z\" fill=\"#000000\" fill-rule=\"nonzero\" fill-opacity=\"1\" /><path clip-path=\"url(#clip430)\" d=\"M754.023 160.402 L761.661 160.402 L761.661 134.037 L753.351 135.703 L753.351 131.444 L761.615 129.778 L766.291 129.778 L766.291 160.402 L773.93 160.402 L773.93 164.338 L754.023 164.338 L754.023 160.402 Z\" fill=\"#000000\" fill-rule=\"nonzero\" fill-opacity=\"1\" /></svg>\n"
      ]
     },
     "execution_count": 118,
     "metadata": {},
     "output_type": "execute_result"
    }
   ],
   "source": [
    "scatter(EEA[1,1,:])#, ylimits=(-6,-4))"
   ]
  },
  {
   "cell_type": "markdown",
   "id": "a4b6ee19",
   "metadata": {},
   "source": [
    "### Projected Many Body Chern"
   ]
  },
  {
   "cell_type": "code",
   "execution_count": 121,
   "id": "5cf62071",
   "metadata": {},
   "outputs": [
    {
     "data": {
      "text/plain": [
       "1-element Vector{Any}:\n",
       " 2.2046029658029097e-16 - 1.413579858428226e-16im"
      ]
     },
     "execution_count": 121,
     "metadata": {},
     "output_type": "execute_result"
    }
   ],
   "source": [
    "#bands = [[1,6], [7,15], [16,21]]\n",
    "#bands = [[1,3], [4,6]]\n",
    "#bands = [[1,3]]\n",
    "bands = [[1,6]]\n",
    "#bands = [[1,5],[6,10],[11,15]]\n",
    "#bands = [[1,5]]\n",
    "Chern, F12list = calc_chern_bands(UUA, bands);\n",
    "Chern"
   ]
  },
  {
   "cell_type": "code",
   "execution_count": 123,
   "id": "775186e1",
   "metadata": {},
   "outputs": [
    {
     "data": {
      "image/svg+xml": [
       "<?xml version=\"1.0\" encoding=\"utf-8\"?>\n",
       "<svg xmlns=\"http://www.w3.org/2000/svg\" xmlns:xlink=\"http://www.w3.org/1999/xlink\" width=\"600\" height=\"400\" viewBox=\"0 0 2400 1600\">\n",
       "<defs>\n",
       "  <clipPath id=\"clip510\">\n",
       "    <rect x=\"0\" y=\"0\" width=\"2400\" height=\"1600\"/>\n",
       "  </clipPath>\n",
       "</defs>\n",
       "<path clip-path=\"url(#clip510)\" d=\"M0 1600 L2400 1600 L2400 0 L0 0  Z\" fill=\"#ffffff\" fill-rule=\"evenodd\" fill-opacity=\"1\"/>\n",
       "<defs>\n",
       "  <clipPath id=\"clip511\">\n",
       "    <rect x=\"480\" y=\"0\" width=\"1681\" height=\"1600\"/>\n",
       "  </clipPath>\n",
       "</defs>\n",
       "<path clip-path=\"url(#clip510)\" d=\"M112.177 1409.37 L2112.76 1409.37 L2112.76 124.324 L112.177 124.324  Z\" fill=\"#ffffff\" fill-rule=\"evenodd\" fill-opacity=\"1\"/>\n",
       "<defs>\n",
       "  <clipPath id=\"clip512\">\n",
       "    <rect x=\"112\" y=\"124\" width=\"2002\" height=\"1286\"/>\n",
       "  </clipPath>\n",
       "</defs>\n",
       "<polyline clip-path=\"url(#clip512)\" style=\"stroke:#000000; stroke-linecap:round; stroke-linejoin:round; stroke-width:2; stroke-opacity:0.1; fill:none\" points=\"502.071,1409.37 502.071,124.324 \"/>\n",
       "<polyline clip-path=\"url(#clip512)\" style=\"stroke:#000000; stroke-linecap:round; stroke-linejoin:round; stroke-width:2; stroke-opacity:0.1; fill:none\" points=\"911.113,1409.37 911.113,124.324 \"/>\n",
       "<polyline clip-path=\"url(#clip512)\" style=\"stroke:#000000; stroke-linecap:round; stroke-linejoin:round; stroke-width:2; stroke-opacity:0.1; fill:none\" points=\"1320.15,1409.37 1320.15,124.324 \"/>\n",
       "<polyline clip-path=\"url(#clip512)\" style=\"stroke:#000000; stroke-linecap:round; stroke-linejoin:round; stroke-width:2; stroke-opacity:0.1; fill:none\" points=\"1729.2,1409.37 1729.2,124.324 \"/>\n",
       "<polyline clip-path=\"url(#clip510)\" style=\"stroke:#000000; stroke-linecap:round; stroke-linejoin:round; stroke-width:4; stroke-opacity:1; fill:none\" points=\"112.177,1409.37 2112.76,1409.37 \"/>\n",
       "<polyline clip-path=\"url(#clip510)\" style=\"stroke:#000000; stroke-linecap:round; stroke-linejoin:round; stroke-width:4; stroke-opacity:1; fill:none\" points=\"502.071,1409.37 502.071,1392.49 \"/>\n",
       "<polyline clip-path=\"url(#clip510)\" style=\"stroke:#000000; stroke-linecap:round; stroke-linejoin:round; stroke-width:4; stroke-opacity:1; fill:none\" points=\"911.113,1409.37 911.113,1392.49 \"/>\n",
       "<polyline clip-path=\"url(#clip510)\" style=\"stroke:#000000; stroke-linecap:round; stroke-linejoin:round; stroke-width:4; stroke-opacity:1; fill:none\" points=\"1320.15,1409.37 1320.15,1392.49 \"/>\n",
       "<polyline clip-path=\"url(#clip510)\" style=\"stroke:#000000; stroke-linecap:round; stroke-linejoin:round; stroke-width:4; stroke-opacity:1; fill:none\" points=\"1729.2,1409.37 1729.2,1392.49 \"/>\n",
       "<path clip-path=\"url(#clip510)\" d=\"M502.071 1440.29 Q498.46 1440.29 496.631 1443.85 Q494.826 1447.39 494.826 1454.52 Q494.826 1461.63 496.631 1465.19 Q498.46 1468.74 502.071 1468.74 Q505.705 1468.74 507.511 1465.19 Q509.339 1461.63 509.339 1454.52 Q509.339 1447.39 507.511 1443.85 Q505.705 1440.29 502.071 1440.29 M502.071 1436.58 Q507.881 1436.58 510.937 1441.19 Q514.015 1445.77 514.015 1454.52 Q514.015 1463.25 510.937 1467.86 Q507.881 1472.44 502.071 1472.44 Q496.261 1472.44 493.182 1467.86 Q490.127 1463.25 490.127 1454.52 Q490.127 1445.77 493.182 1441.19 Q496.261 1436.58 502.071 1436.58 Z\" fill=\"#000000\" fill-rule=\"nonzero\" fill-opacity=\"1\" /><path clip-path=\"url(#clip510)\" d=\"M905.766 1467.83 L922.085 1467.83 L922.085 1471.77 L900.141 1471.77 L900.141 1467.83 Q902.803 1465.08 907.386 1460.45 Q911.993 1455.8 913.173 1454.45 Q915.419 1451.93 916.298 1450.19 Q917.201 1448.43 917.201 1446.74 Q917.201 1443.99 915.256 1442.25 Q913.335 1440.52 910.233 1440.52 Q908.034 1440.52 905.581 1441.28 Q903.15 1442.05 900.372 1443.6 L900.372 1438.87 Q903.196 1437.74 905.65 1437.16 Q908.104 1436.58 910.141 1436.58 Q915.511 1436.58 918.706 1439.27 Q921.9 1441.95 921.9 1446.44 Q921.9 1448.57 921.09 1450.49 Q920.303 1452.39 918.196 1454.99 Q917.618 1455.66 914.516 1458.87 Q911.414 1462.07 905.766 1467.83 Z\" fill=\"#000000\" fill-rule=\"nonzero\" fill-opacity=\"1\" /><path clip-path=\"url(#clip510)\" d=\"M1323.16 1441.28 L1311.36 1459.73 L1323.16 1459.73 L1323.16 1441.28 M1321.94 1437.21 L1327.82 1437.21 L1327.82 1459.73 L1332.75 1459.73 L1332.75 1463.62 L1327.82 1463.62 L1327.82 1471.77 L1323.16 1471.77 L1323.16 1463.62 L1307.56 1463.62 L1307.56 1459.11 L1321.94 1437.21 Z\" fill=\"#000000\" fill-rule=\"nonzero\" fill-opacity=\"1\" /><path clip-path=\"url(#clip510)\" d=\"M1729.6 1452.62 Q1726.45 1452.62 1724.6 1454.78 Q1722.77 1456.93 1722.77 1460.68 Q1722.77 1464.41 1724.6 1466.58 Q1726.45 1468.74 1729.6 1468.74 Q1732.75 1468.74 1734.58 1466.58 Q1736.43 1464.41 1736.43 1460.68 Q1736.43 1456.93 1734.58 1454.78 Q1732.75 1452.62 1729.6 1452.62 M1738.88 1437.97 L1738.88 1442.23 Q1737.13 1441.4 1735.32 1440.96 Q1733.54 1440.52 1731.78 1440.52 Q1727.15 1440.52 1724.69 1443.64 Q1722.26 1446.77 1721.92 1453.09 Q1723.28 1451.07 1725.34 1450.01 Q1727.4 1448.92 1729.88 1448.92 Q1735.09 1448.92 1738.1 1452.09 Q1741.13 1455.24 1741.13 1460.68 Q1741.13 1466 1737.98 1469.22 Q1734.83 1472.44 1729.6 1472.44 Q1723.61 1472.44 1720.44 1467.86 Q1717.26 1463.25 1717.26 1454.52 Q1717.26 1446.33 1721.15 1441.47 Q1725.04 1436.58 1731.59 1436.58 Q1733.35 1436.58 1735.13 1436.93 Q1736.94 1437.28 1738.88 1437.97 Z\" fill=\"#000000\" fill-rule=\"nonzero\" fill-opacity=\"1\" /><polyline clip-path=\"url(#clip512)\" style=\"stroke:#000000; stroke-linecap:round; stroke-linejoin:round; stroke-width:2; stroke-opacity:0.1; fill:none\" points=\"112.177,1377.24 2112.76,1377.24 \"/>\n",
       "<polyline clip-path=\"url(#clip512)\" style=\"stroke:#000000; stroke-linecap:round; stroke-linejoin:round; stroke-width:2; stroke-opacity:0.1; fill:none\" points=\"112.177,1172.72 2112.76,1172.72 \"/>\n",
       "<polyline clip-path=\"url(#clip512)\" style=\"stroke:#000000; stroke-linecap:round; stroke-linejoin:round; stroke-width:2; stroke-opacity:0.1; fill:none\" points=\"112.177,968.2 2112.76,968.2 \"/>\n",
       "<polyline clip-path=\"url(#clip512)\" style=\"stroke:#000000; stroke-linecap:round; stroke-linejoin:round; stroke-width:2; stroke-opacity:0.1; fill:none\" points=\"112.177,763.679 2112.76,763.679 \"/>\n",
       "<polyline clip-path=\"url(#clip512)\" style=\"stroke:#000000; stroke-linecap:round; stroke-linejoin:round; stroke-width:2; stroke-opacity:0.1; fill:none\" points=\"112.177,559.158 2112.76,559.158 \"/>\n",
       "<polyline clip-path=\"url(#clip512)\" style=\"stroke:#000000; stroke-linecap:round; stroke-linejoin:round; stroke-width:2; stroke-opacity:0.1; fill:none\" points=\"112.177,354.637 2112.76,354.637 \"/>\n",
       "<polyline clip-path=\"url(#clip512)\" style=\"stroke:#000000; stroke-linecap:round; stroke-linejoin:round; stroke-width:2; stroke-opacity:0.1; fill:none\" points=\"112.177,150.116 2112.76,150.116 \"/>\n",
       "<polyline clip-path=\"url(#clip510)\" style=\"stroke:#000000; stroke-linecap:round; stroke-linejoin:round; stroke-width:4; stroke-opacity:1; fill:none\" points=\"112.177,1409.37 112.177,124.324 \"/>\n",
       "<polyline clip-path=\"url(#clip510)\" style=\"stroke:#000000; stroke-linecap:round; stroke-linejoin:round; stroke-width:4; stroke-opacity:1; fill:none\" points=\"112.177,1377.24 129.051,1377.24 \"/>\n",
       "<polyline clip-path=\"url(#clip510)\" style=\"stroke:#000000; stroke-linecap:round; stroke-linejoin:round; stroke-width:4; stroke-opacity:1; fill:none\" points=\"112.177,1172.72 129.051,1172.72 \"/>\n",
       "<polyline clip-path=\"url(#clip510)\" style=\"stroke:#000000; stroke-linecap:round; stroke-linejoin:round; stroke-width:4; stroke-opacity:1; fill:none\" points=\"112.177,968.2 129.051,968.2 \"/>\n",
       "<polyline clip-path=\"url(#clip510)\" style=\"stroke:#000000; stroke-linecap:round; stroke-linejoin:round; stroke-width:4; stroke-opacity:1; fill:none\" points=\"112.177,763.679 129.051,763.679 \"/>\n",
       "<polyline clip-path=\"url(#clip510)\" style=\"stroke:#000000; stroke-linecap:round; stroke-linejoin:round; stroke-width:4; stroke-opacity:1; fill:none\" points=\"112.177,559.158 129.051,559.158 \"/>\n",
       "<polyline clip-path=\"url(#clip510)\" style=\"stroke:#000000; stroke-linecap:round; stroke-linejoin:round; stroke-width:4; stroke-opacity:1; fill:none\" points=\"112.177,354.637 129.051,354.637 \"/>\n",
       "<polyline clip-path=\"url(#clip510)\" style=\"stroke:#000000; stroke-linecap:round; stroke-linejoin:round; stroke-width:4; stroke-opacity:1; fill:none\" points=\"112.177,150.116 129.051,150.116 \"/>\n",
       "<path clip-path=\"url(#clip510)\" d=\"M64.2328 1363.04 Q60.6217 1363.04 58.793 1366.6 Q56.9875 1370.15 56.9875 1377.28 Q56.9875 1384.38 58.793 1387.95 Q60.6217 1391.49 64.2328 1391.49 Q67.867 1391.49 69.6726 1387.95 Q71.5013 1384.38 71.5013 1377.28 Q71.5013 1370.15 69.6726 1366.6 Q67.867 1363.04 64.2328 1363.04 M64.2328 1359.34 Q70.0429 1359.34 73.0985 1363.94 Q76.1772 1368.53 76.1772 1377.28 Q76.1772 1386 73.0985 1390.61 Q70.0429 1395.19 64.2328 1395.19 Q58.4226 1395.19 55.344 1390.61 Q52.2884 1386 52.2884 1377.28 Q52.2884 1368.53 55.344 1363.94 Q58.4226 1359.34 64.2328 1359.34 Z\" fill=\"#000000\" fill-rule=\"nonzero\" fill-opacity=\"1\" /><path clip-path=\"url(#clip510)\" d=\"M56.2699 1186.07 L63.9087 1186.07 L63.9087 1159.7 L55.5986 1161.37 L55.5986 1157.11 L63.8624 1155.44 L68.5383 1155.44 L68.5383 1186.07 L76.1772 1186.07 L76.1772 1190 L56.2699 1190 L56.2699 1186.07 Z\" fill=\"#000000\" fill-rule=\"nonzero\" fill-opacity=\"1\" /><path clip-path=\"url(#clip510)\" d=\"M59.8578 981.544 L76.1772 981.544 L76.1772 985.48 L54.2328 985.48 L54.2328 981.544 Q56.8949 978.79 61.4782 974.16 Q66.0846 969.507 67.2652 968.165 Q69.5105 965.642 70.3902 963.906 Q71.2929 962.146 71.2929 960.457 Q71.2929 957.702 69.3485 955.966 Q67.4272 954.23 64.3254 954.23 Q62.1263 954.23 59.6726 954.994 Q57.2421 955.757 54.4643 957.308 L54.4643 952.586 Q57.2884 951.452 59.7421 950.873 Q62.1958 950.295 64.2328 950.295 Q69.6031 950.295 72.7976 952.98 Q75.992 955.665 75.992 960.156 Q75.992 962.285 75.1818 964.207 Q74.3948 966.105 72.2883 968.697 Q71.7096 969.369 68.6078 972.586 Q65.5059 975.781 59.8578 981.544 Z\" fill=\"#000000\" fill-rule=\"nonzero\" fill-opacity=\"1\" /><path clip-path=\"url(#clip510)\" d=\"M69.0476 762.324 Q72.404 763.042 74.279 765.311 Q76.1772 767.579 76.1772 770.912 Q76.1772 776.028 72.6587 778.829 Q69.1402 781.63 62.6587 781.63 Q60.4828 781.63 58.168 781.19 Q55.8764 780.773 53.4227 779.917 L53.4227 775.403 Q55.3671 776.537 57.6819 777.116 Q59.9967 777.695 62.5198 777.695 Q66.918 777.695 69.2096 775.959 Q71.5244 774.222 71.5244 770.912 Q71.5244 767.857 69.3717 766.144 Q67.242 764.408 63.4226 764.408 L59.3949 764.408 L59.3949 760.565 L63.6078 760.565 Q67.0569 760.565 68.8855 759.199 Q70.7142 757.811 70.7142 755.218 Q70.7142 752.556 68.8161 751.144 Q66.9411 749.709 63.4226 749.709 Q61.5013 749.709 59.3023 750.125 Q57.1032 750.542 54.4643 751.422 L54.4643 747.255 Q57.1264 746.514 59.4412 746.144 Q61.7791 745.774 63.8393 745.774 Q69.1633 745.774 72.2652 748.204 Q75.367 750.612 75.367 754.732 Q75.367 757.602 73.7235 759.593 Q72.08 761.561 69.0476 762.324 Z\" fill=\"#000000\" fill-rule=\"nonzero\" fill-opacity=\"1\" /><path clip-path=\"url(#clip510)\" d=\"M66.5939 545.952 L54.7884 564.401 L66.5939 564.401 L66.5939 545.952 M65.367 541.878 L71.2466 541.878 L71.2466 564.401 L76.1772 564.401 L76.1772 568.289 L71.2466 568.289 L71.2466 576.438 L66.5939 576.438 L66.5939 568.289 L50.9921 568.289 L50.9921 563.776 L65.367 541.878 Z\" fill=\"#000000\" fill-rule=\"nonzero\" fill-opacity=\"1\" /><path clip-path=\"url(#clip510)\" d=\"M55.2745 337.357 L73.6309 337.357 L73.6309 341.292 L59.5569 341.292 L59.5569 349.764 Q60.5754 349.417 61.5939 349.255 Q62.6124 349.07 63.6309 349.07 Q69.418 349.07 72.7976 352.241 Q76.1772 355.412 76.1772 360.829 Q76.1772 366.407 72.705 369.509 Q69.2328 372.588 62.9134 372.588 Q60.7374 372.588 58.4689 372.218 Q56.2236 371.847 53.8162 371.106 L53.8162 366.407 Q55.8995 367.542 58.1217 368.097 Q60.3439 368.653 62.8208 368.653 Q66.8254 368.653 69.1633 366.546 Q71.5013 364.44 71.5013 360.829 Q71.5013 357.218 69.1633 355.111 Q66.8254 353.005 62.8208 353.005 Q60.9458 353.005 59.0708 353.421 Q57.2189 353.838 55.2745 354.718 L55.2745 337.357 Z\" fill=\"#000000\" fill-rule=\"nonzero\" fill-opacity=\"1\" /><path clip-path=\"url(#clip510)\" d=\"M64.6495 148.252 Q61.5013 148.252 59.6495 150.405 Q57.8208 152.558 57.8208 156.308 Q57.8208 160.035 59.6495 162.21 Q61.5013 164.363 64.6495 164.363 Q67.7976 164.363 69.6263 162.21 Q71.4781 160.035 71.4781 156.308 Q71.4781 152.558 69.6263 150.405 Q67.7976 148.252 64.6495 148.252 M73.9318 133.6 L73.9318 137.859 Q72.1726 137.025 70.367 136.586 Q68.5846 136.146 66.8254 136.146 Q62.1958 136.146 59.7421 139.271 Q57.3115 142.396 56.9643 148.715 Q58.33 146.701 60.3902 145.636 Q62.4504 144.549 64.9272 144.549 Q70.1355 144.549 73.1448 147.72 Q76.1772 150.868 76.1772 156.308 Q76.1772 161.632 73.029 164.849 Q69.8809 168.067 64.6495 168.067 Q58.6541 168.067 55.4828 163.484 Q52.3116 158.877 52.3116 150.15 Q52.3116 141.956 56.2004 137.095 Q60.0893 132.211 66.6402 132.211 Q68.3994 132.211 70.1818 132.558 Q71.9874 132.905 73.9318 133.6 Z\" fill=\"#000000\" fill-rule=\"nonzero\" fill-opacity=\"1\" /><g clip-path=\"url(#clip512)\">\n",
       "<image width=\"1285\" height=\"1285\" xlink:href=\"data:image/png;base64,\n",
       "iVBORw0KGgoAAAANSUhEUgAABQUAAAUFCAYAAACuAKUAAAAgAElEQVR4nOza+8/e9V3H8ftm2HOB\n",
       "Hra2lDIYg42B4MZAGLgpGxNQYCrEjWiczqhZjBpjNFkMMy7+IomJ8bAsi4pGE7OxmcCmI2O6AQ52\n",
       "gDlC4wHoirSlLSullLbQArf/he8fno/HX/BKruv6Hp7XZ/HYJ9YtLcTd9dkbpyeMeuO6A9MTRj1/\n",
       "dPX0hFGvO+m16Qnj1q44Nj1h1LYzdk1PGPUn//bu6Qmj/ugL35yeMO6ffuGt0xNGnRa/Bi5ODxj2\n",
       "7p+4d3rCuHf98XXTE0Y98BtfmZ4w6uN/d8v0hFG/foXngNsfuGx6wqiPvff+6QmjNl29fXrCqJOm\n",
       "BwAAAAAA/79EQQAAAACIEQUBAAAAIEYUBAAAAIAYURAAAAAAYkRBAAAAAIgRBQEAAAAgRhQEAAAA\n",
       "gBhREAAAAABiREEAAAAAiBEFAQAAACBGFAQAAACAGFEQAAAAAGJEQQAAAACIEQUBAAAAIEYUBAAA\n",
       "AIAYURAAAAAAYkRBAAAAAIgRBQEAAAAgRhQEAAAAgBhREAAAAABiREEAAAAAiBEFAQAAACBGFAQA\n",
       "AACAGFEQAAAAAGJEQQAAAACIEQUBAAAAIEYUBAAAAIAYURAAAAAAYkRBAAAAAIgRBQEAAAAgRhQE\n",
       "AAAAgBhREAAAAABiREEAAAAAiBEFAQAAACBGFAQAAACAGFEQAAAAAGJEQQAAAACIEQUBAAAAIEYU\n",
       "BAAAAIAYURAAAAAAYkRBAAAAAIgRBQEAAAAgRhQEAAAAgBhREAAAAABiREEAAAAAiBEFAQAAACBG\n",
       "FAQAAACAGFEQAAAAAGJEQQAAAACIEQUBAAAAIEYUBAAAAIAYURAAAAAAYkRBAAAAAIgRBQEAAAAg\n",
       "RhQEAAAAgBhREAAAAABiREEAAAAAiBEFAQAAACBGFAQAAACAGFEQAAAAAGJEQQAAAACIEQUBAAAA\n",
       "IEYUBAAAAICYxeP3nb80PWLalutWT08Yte+Ox6cnjPrzj31oesKo/3lh2fSEcbdd96/TE0Z97ZFL\n",
       "pieM2v/SiukJozavPDo9YdxNf/qN6QmjHvn4edMTRj11cP30hFGXv/U/pyeMe2bfpukJDLpn51nT\n",
       "E0Y9ftg5oU/tedP0hFFfu+qh6Qmjzn/jzukJo1wBAAAAACBGFAQAAACAGFEQAAAAAGJEQQAAAACI\n",
       "EQUBAAAAIEYUBAAAAIAYURAAAAAAYkRBAAAAAIgRBQEAAAAgRhQEAAAAgBhREAAAAABiREEAAAAA\n",
       "iBEFAQAAACBGFAQAAACAGFEQAAAAAGJEQQAAAACIEQUBAAAAIEYUBAAAAIAYURAAAAAAYkRBAAAA\n",
       "AIgRBQEAAAAgRhQEAAAAgBhREAAAAABiREEAAAAAiBEFAQAAACBGFAQAAACAGFEQAAAAAGJEQQAA\n",
       "AACIEQUBAAAAIEYUBAAAAIAYURAAAAAAYkRBAAAAAIgRBQEAAAAgRhQEAAAAgBhREAAAAABiREEA\n",
       "AAAAiBEFAQAAACBGFAQAAACAGFEQAAAAAGJEQQAAAACIEQUBAAAAIEYUBAAAAIAYURAAAAAAYkRB\n",
       "AAAAAIgRBQEAAAAgRhQEAAAAgBhREAAAAABiREEAAAAAiBEFAQAAACBGFAQAAACAGFEQAAAAAGJE\n",
       "QQAAAACIEQUBAAAAIEYUBAAAAIAYURAAAAAAYkRBAAAAAIgRBQEAAAAgRhQEAAAAgBhREAAAAABi\n",
       "REEAAAAAiBEFAQAAACBGFAQAAACAGFEQAAAAAGIWr1z5y0vTI6adu2rV9IRRf3jN16cnjHrxhTXT\n",
       "E0ad99H/mp4w7tu3v3N6wqiv7942PWHURx5eNz1h1F/80KHpCeOuPvOp6QmjzrvAfaDs1r99//SE\n",
       "cT939rHpCaM+eNvnpyeMOnzfhukJo1b8ytbpCeN++31vn54w6g0rX5ueMOq3bvri9IRRTgoCAAAA\n",
       "QIwoCAAAAAAxoiAAAAAAxIiCAAAAABAjCgIAAABAjCgIAAAAADGiIAAAAADEiIIAAAAAECMKAgAA\n",
       "AECMKAgAAAAAMaIgAAAAAMSIggAAAAAQIwoCAAAAQIwoCAAAAAAxoiAAAAAAxIiCAAAAABAjCgIA\n",
       "AABAjCgIAAAAADGiIAAAAADEiIIAAAAAECMKAgAAAECMKAgAAAAAMaIgAAAAAMSIggAAAAAQIwoC\n",
       "AAAAQIwoCAAAAAAxoiAAAAAAxIiCAAAAABAjCgIAAABAjCgIAAAAADGiIAAAAADEiIIAAAAAECMK\n",
       "AgAAAECMKAgAAAAAMaIgAAAAAMSIggAAAAAQIwoCAAAAQIwoCAAAAAAxoiAAAAAAxIiCAAAAABAj\n",
       "CgIAAABAjCgIAAAAADGiIAAAAADEiIIAAAAAECMKAgAAAECMKAgAAAAAMaIgAAAAAMSIggAAAAAQ\n",
       "IwoCAAAAQIwoCAAAAAAxoiAAAAAAxIiCAAAAABAjCgIAAABAjCgIAAAAADGiIAAAAADEiIIAAAAA\n",
       "ECMKAgAAAECMKAgAAAAAMaIgAAAAAMSIggAAAAAQIwoCAAAAQIwoCAAAAAAxoiAAAAAAxCy+ctem\n",
       "pekR0+78/WunJ4w6a92B6QmjHty9bXrCqA9f/6XpCeP+8Z5rpieM+pkfuX96wqiHv3vR9IRRV9/y\n",
       "xekJ4048v3p6wqjb/+GW6QmjXos/Cf/Spd+anjBu2cqXpyeMevrpM6YnjLrg8kemJ4z6vTtunp4w\n",
       "7g9u+PL0hFEnji2fnjDqoe0XTk8Y5aQgAAAAAMSIggAAAAAQIwoCAAAAQIwoCAAAAAAxoiAAAAAA\n",
       "xIiCAAAAABAjCgIAAABAjCgIAAAAADGiIAAAAADEiIIAAAAAECMKAgAAAECMKAgAAAAAMaIgAAAA\n",
       "AMSIggAAAAAQIwoCAAAAQIwoCAAAAAAxoiAAAAAAxIiCAAAAABAjCgIAAABAjCgIAAAAADGiIAAA\n",
       "AADEiIIAAAAAECMKAgAAAECMKAgAAAAAMaIgAAAAAMSIggAAAAAQIwoCAAAAQIwoCAAAAAAxoiAA\n",
       "AAAAxIiCAAAAABAjCgIAAABAjCgIAAAAADGiIAAAAADEiIIAAAAAECMKAgAAAECMKAgAAAAAMaIg\n",
       "AAAAAMSIggAAAAAQIwoCAAAAQIwoCAAAAAAxoiAAAAAAxIiCAAAAABAjCgIAAABAjCgIAAAAADGi\n",
       "IAAAAADEiIIAAAAAECMKAgAAAECMKAgAAAAAMaIgAAAAAMSIggAAAAAQIwoCAAAAQIwoCAAAAAAx\n",
       "oiAAAAAAxIiCAAAAABAjCgIAAABAjCgIAAAAADGiIAAAAADEiIIAAAAAECMKAgAAAECMKAgAAAAA\n",
       "MaIgAAAAAMSIggAAAAAQIwoCAAAAQMziP7/zZ5emR0xbXJxeMOttZ++YnjBq/dm7pyeMuvHPbpie\n",
       "MO7ux/ZPTxj1q5dsm54w6hM/9s3pCaP2H9g4PYFhb7l4+/SEUZ+8+/rpCaN+5zf/anrCuLvvuHl6\n",
       "wqg9R1ZPTxj16lL7ZfDyrbumJ4z7xp4zpieMOmP1kekJoxYX2knMSUEAAAAAiBEFAQAAACBGFAQA\n",
       "AACAGFEQAAAAAGJEQQAAAACIEQUBAAAAIEYUBAAAAIAYURAAAAAAYkRBAAAAAIgRBQEAAAAgRhQE\n",
       "AAAAgBhREAAAAABiREEAAAAAiBEFAQAAACBGFAQAAACAGFEQAAAAAGJEQQAAAACIEQUBAAAAIEYU\n",
       "BAAAAIAYURAAAAAAYkRBAAAAAIgRBQEAAAAgRhQEAAAAgBhREAAAAABiREEAAAAAiBEFAQAAACBG\n",
       "FAQAAACAGFEQAAAAAGJEQQAAAACIEQUBAAAAIEYUBAAAAIAYURAAAAAAYkRBAAAAAIgRBQEAAAAg\n",
       "RhQEAAAAgBhREAAAAABiREEAAAAAiBEFAQAAACBGFAQAAACAGFEQAAAAAGJEQQAAAACIEQUBAAAA\n",
       "IEYUBAAAAIAYURAAAAAAYkRBAAAAAIgRBQEAAAAgRhQEAAAAgBhREAAAAABiREEAAAAAiBEFAQAA\n",
       "ACBGFAQAAACAGFEQAAAAAGJEQQAAAACIEQUBAAAAIEYUBAAAAIAYURAAAAAAYkRBAAAAAIgRBQEA\n",
       "AAAgRhQEAAAAgBhREAAAAABiREEAAAAAiBEFAQAAACBGFAQAAACAGFEQAAAAAGIW//7CX1yaHjHt\n",
       "wi27pieMWr7s+PSEUYdeXDs9YdTuQ+umJ4w7/mr7/5HTlr80PWHUgZdWTU9g2I9e9B/TE0bt2r11\n",
       "esKoPYdOm54wat8x18AP33rn9IRRd372pukJo264+qvTE0YdP7piesK47dvPn57AoJXxHtJ+EwYA\n",
       "AACAIFEQAAAAAGJEQQAAAACIEQUBAAAAIEYUBAAAAIAYURAAAAAAYkRBAAAAAIgRBQEAAAAgRhQE\n",
       "AAAAgBhREAAAAABiREEAAAAAiBEFAQAAACBGFAQAAACAGFEQAAAAAGJEQQAAAACIEQUBAAAAIEYU\n",
       "BAAAAIAYURAAAAAAYkRBAAAAAIgRBQEAAAAgRhQEAAAAgBhREAAAAABiREEAAAAAiBEFAQAAACBG\n",
       "FAQAAACAGFEQAAAAAGJEQQAAAACIEQUBAAAAIEYUBAAAAIAYURAAAAAAYkRBAAAAAIgRBQEAAAAg\n",
       "RhQEAAAAgBhREAAAAABiREEAAAAAiBEFAQAAACBGFAQAAACAGFEQAAAAAGJEQQAAAACIEQUBAAAA\n",
       "IEYUBAAAAIAYURAAAAAAYkRBAAAAAIgRBQEAAAAgRhQEAAAAgBhREAAAAABiREEAAAAAiBEFAQAA\n",
       "ACBGFAQAAACAGFEQAAAAAGJEQQAAAACIEQUBAAAAIEYUBAAAAIAYURAAAAAAYkRBAAAAAIgRBQEA\n",
       "AAAgRhQEAAAAgBhREAAAAABiREEAAAAAiBEFAQAAACBGFAQAAACAGFEQAAAAAGJEQQAAAACIWTzw\n",
       "0XOXpkdM+5f7rpqeMGrVySemJ4w6/dTnpycwbPPr909PGHXKpgPTE0Ytvu616Qmj/vu7F0xPGLfr\n",
       "+XXTE0b9+LVfmZ4watdj505PGLX3uQ3TE8Zt2fD96Qmjduw9fXrCqGOvnDw9gWE3/tpnpieM+txf\n",
       "fmh6wqif/uTD0xNGOSkIAAAAADGiIAAAAADEiIIAAAAAECMKAgAAAECMKAgAAAAAMaIgAAAAAMSI\n",
       "ggAAAAAQIwoCAAAAQIwoCAAAAAAxoiAAAAAAxIiCAAAAABAjCgIAAABAjCgIAAAAADGiIAAAAADE\n",
       "iIIAAAAAECMKAgAAAECMKAgAAAAAMaIgAAAAAMSIggAAAAAQIwoCAAAAQIwoCAAAAAAxoiAAAAAA\n",
       "xIiCAAAAABAjCgIAAABAjCgIAAAAADGiIAAAAADEiIIAAAAAECMKAgAAAECMKAgAAAAAMaIgAAAA\n",
       "AMSIggAAAAAQIwoCAAAAQIwoCAAAAAAxoiAAAAAAxIiCAAAAABAjCgIAAABAjCgIAAAAADGiIAAA\n",
       "AADEiIIAAAAAECMKAgAAAECMKAgAAAAAMaIgAAAAAMSIggAAAAAQIwoCAAAAQIwoCAAAAAAxoiAA\n",
       "AAAAxIiCAAAAABAjCgIAAABAjCgIAAAAADGiIAAAAADEiIIAAAAAECMKAgAAAECMKAgAAAAAMaIg\n",
       "AAAAAMSIggAAAAAQIwoCAAAAQIwoCAAAAAAxoiAAAAAAxIiCAAAAABAjCgIAAABAjCgIAAAAADGi\n",
       "IAAAAADEiIIAAAAAELP40Ht+cml6xLTT1r4wPWHU84dPmZ4w6uDR1dMTRv3wpQ9PTxh3z/1XTk8Y\n",
       "tX7FsekJo9713vunJ4za/uAl0xPG7Xhu4/SEUeuWt68BT7/Yfg46Y83h6QnjXnmtfU7i5JNenZ4w\n",
       "6k2b905PYNiOvZunJ4w6fd1z0xNGffrR86cnjGrfAQEAAAAgSBQEAAAAgBhREAAAAABiREEAAAAA\n",
       "iBEFAQAAACBGFAQAAACAGFEQAAAAAGJEQQAAAACIEQUBAAAAIEYUBAAAAIAYURAAAAAAYkRBAAAA\n",
       "AIgRBQEAAAAgRhQEAAAAgBhREAAAAABiREEAAAAAiBEFAQAAACBGFAQAAACAGFEQAAAAAGJEQQAA\n",
       "AACIEQUBAAAAIEYUBAAAAIAYURAAAAAAYkRBAAAAAIgRBQEAAAAgRhQEAAAAgBhREAAAAABiREEA\n",
       "AAAAiBEFAQAAACBGFAQAAACAGFEQAAAAAGJEQQAAAACIEQUBAAAAIEYUBAAAAIAYURAAAAAAYkRB\n",
       "AAAAAIgRBQEAAAAgRhQEAAAAgBhREAAAAABiREEAAAAAiBEFAQAAACBGFAQAAACAGFEQAAAAAGJE\n",
       "QQAAAACIEQUBAAAAIEYUBAAAAIAYURAAAAAAYkRBAAAAAIgRBQEAAAAgRhQEAAAAgBhREAAAAABi\n",
       "REEAAAAAiBEFAQAAACBGFAQAAACAGFEQAAAAAGJEQQAAAACIEQUBAAAAIEYUBAAAAIAYURAAAAAA\n",
       "YkRBAAAAAIgRBQEAAAAgRhQEAAAAgBhREAAAAABiFnfefNnS9Ihpj+548/SEUWdueHZ6wqjly45P\n",
       "Txj1yFNnT0+Ytzg9YNY7zvze9IRRn3nsB6cnjPrIlf8+PWHcrt1bpycw6JzznpieMGr3zm3TE8ad\n",
       "esrh6QmjNr75f6cnjPr2fZdPTxi1bk37+8/Cwp6DG6YnjFpcaCcxJwUBAAAAIEYUBAAAAIAYURAA\n",
       "AAAAYkRBAAAAAIgRBQEAAAAgRhQEAAAAgBhREAAAAABiREEAAAAAiBEFAQAAACBGFAQAAACAGFEQ\n",
       "AAAAAGJEQQAAAACIEQUBAAAAIEYUBAAAAIAYURAAAAAAYkRBAAAAAIgRBQEAAAAgRhQEAAAAgBhR\n",
       "EAAAAABiREEAAAAAiBEFAQAAACBGFAQAAACAGFEQAAAAAGJEQQAAAACIEQUBAAAAIEYUBAAAAIAY\n",
       "URAAAAAAYkRBAAAAAIgRBQEAAAAgRhQEAAAAgBhREAAAAABiREEAAAAAiBEFAQAAACBGFAQAAACA\n",
       "GFEQAAAAAGJEQQAAAACIEQUBAAAAIEYUBAAAAIAYURAAAAAAYkRBAAAAAIgRBQEAAAAgRhQEAAAA\n",
       "gBhREAAAAABiREEAAAAAiBEFAQAAACBGFAQAAACAGFEQAAAAAGJEQQAAAACIEQUBAAAAIEYUBAAA\n",
       "AIAYURAAAAAAYkRBAAAAAIgRBQEAAAAgRhQEAAAAgBhREAAAAABiREEAAAAAiBEFAQAAACBGFAQA\n",
       "AACAGFEQAAAAAGJEQQAAAACIEQUBAAAAIEYUBAAAAIAYURAAAAAAYkRBAAAAAIhZvPPin1+aHjHt\n",
       "4rN2TE8YtWv/pukJo7asPzA9YdT6LfunJ4w78MwbpieMWnvqC9MTRn3/2Y3TE0Y9+Wz7HrCwsLDw\n",
       "ls17pieMuveJ86YnjNq25sj0hFHvv/be6Qnjtj94yfSEUQePrJ6eMCr/MszCrhdPmZ4w6tYPfGF6\n",
       "wqh7vvS+6QmjnBQEAAAAgBhREAAAAABiREEAAAAAiBEFAQAAACBGFAQAAACAGFEQAAAAAGJEQQAA\n",
       "AACIEQUBAAAAIEYUBAAAAIAYURAAAAAAYkRBAAAAAIgRBQEAAAAgRhQEAAAAgBhREAAAAABiREEA\n",
       "AAAAiBEFAQAAACBGFAQAAACAGFEQAAAAAGJEQQAAAACIEQUBAAAAIEYUBAAAAIAYURAAAAAAYkRB\n",
       "AAAAAIgRBQEAAAAgRhQEAAAAgBhREAAAAABiREEAAAAAiBEFAQAAACBGFAQAAACAGFEQAAAAAGJE\n",
       "QQAAAACIEQUBAAAAIEYUBAAAAIAYURAAAAAAYkRBAAAAAIgRBQEAAAAgRhQEAAAAgBhREAAAAABi\n",
       "REEAAAAAiBEFAQAAACBGFAQAAACAGFEQAAAAAGJEQQAAAACIEQUBAAAAIEYUBAAAAIAYURAAAAAA\n",
       "YkRBAAAAAIgRBQEAAAAgRhQEAAAAgBhREAAAAABiREEAAAAAiBEFAQAAACBGFAQAAACAGFEQAAAA\n",
       "AGJEQQAAAACIEQUBAAAAIEYUBAAAAIAYURAAAAAAYkRBAAAAAIgRBQEAAAAgRhQEAAAAgBhREAAA\n",
       "AABiREEAAAAAiDn5rqfXTW8Yt3ntxukJo95+6XemJ4z65N3XT08Y9YGFx6YnjHv5+LLpCaM2rHpp\n",
       "esKoFcuPT08YtX7l0ekJ43Y+u2l6wqjLt+6anjBqxbKXpyeM+pvP3TQ9Ydxlp7d/A3VXXPGt6Qmj\n",
       "Hnzw0ukJ437qqgemJ4y67973TE8YtfXUg9MTRjkpCAAAAAAxoiAAAAAAxIiCAAAAABAjCgIAAABA\n",
       "jCgIAAAAADGiIAAAAADEiIIAAAAAECMKAgAAAECMKAgAAAAAMaIgAAAAAMSIggAAAAAQIwoCAAAA\n",
       "QIwoCAAAAAAxoiAAAAAAxIiCAAAAABAjCgIAAABAjCgIAAAAADGiIAAAAADEiIIAAAAAECMKAgAA\n",
       "AECMKAgAAAAAMaIgAAAAAMSIggAAAAAQIwoCAAAAQIwoCAAAAAAxoiAAAAAAxIiCAAAAABAjCgIA\n",
       "AABAjCgIAAAAADGiIAAAAADEiIIAAAAAECMKAgAAAECMKAgAAAAAMaIgAAAAAMSIggAAAAAQIwoC\n",
       "AAAAQIwoCAAAAAAxoiAAAAAAxIiCAAAAABAjCgIAAABAjCgIAAAAADGiIAAAAADEiIIAAAAAECMK\n",
       "AgAAAECMKAgAAAAAMaIgAAAAAMSIggAAAAAQIwoCAAAAQIwoCAAAAAAxoiAAAAAAxIiCAAAAABAj\n",
       "CgIAAABAjCgIAAAAADGiIAAAAADEiIIAAAAAECMKAgAAAECMKAgAAAAAMaIgAAAAAMSIggAAAAAQ\n",
       "IwoCAAAAQIwoCAAAAAAxoiAAAAAAxIiCAAAAABCzeOKvly9Nj5j21U/dOD1h1LbX75ueMGr7rjOn\n",
       "J4w69soPTE8Yt/LkE9MTGHTgpZXTE0Zdc8Gj0xPGPRG/D+w7smZ6wqgP3vb56Qmjvnz7tdMTxq1b\n",
       "dWR6wqhT1xyenjDq0ItrpyeMqn/+CwsLC3uf2zA9YdSxE8umJ4w6e9Mz0xNGOSkIAAAAADGiIAAA\n",
       "AADEiIIAAAAAECMKAgAAAECMKAgAAAAAMaIgAAAAAMSIggAAAAAQIwoCAAAAQIwoCAAAAAAxoiAA\n",
       "AAAAxIiCAAAAABAjCgIAAABAjCgIAAAAADGiIAAAAADEiIIAAAAAECMKAgAAAECMKAgAAAAAMaIg\n",
       "AAAAAMSIggAAAAAQIwoCAAAAQIwoCAAAAAAxoiAAAAAAxIiCAAAAABAjCgIAAABAjCgIAAAAADGi\n",
       "IAAAAADEiIIAAAAAECMKAgAAAECMKAgAAAAAMaIgAAAAAMSIggAAAAAQIwoCAAAAQIwoCAAAAAAx\n",
       "oiAAAAAAxIiCAAAAABAjCgIAAABAjCgIAAAAADGiIAAAAADEiIIAAAAAECMKAgAAAECMKAgAAAAA\n",
       "MaIgAAAAAMSIggAAAAAQIwoCAAAAQIwoCAAAAAAxoiAAAAAAxIiCAAAAABAjCgIAAABAjCgIAAAA\n",
       "ADGiIAAAAADEiIIAAAAAECMKAgAAAECMKAgAAAAAMaIgAAAAAMSIggAAAAAQIwoCAAAAQIwoCAAA\n",
       "AAAxoiAAAAAAxIiCAAAAABAjCgIAAABAjCgIAAAAADGiIAAAAADEiIIAAAAAELN4+He3Lk2PmPbk\n",
       "d942PWHUk89unp4w6h3nPD49YdShF9ZOTxi3Yvnx6QmjTtt4YHrCqJ3fO2t6wqhH922ZnjDuok3P\n",
       "TE8YdfDo6ukJoy4454npCbOWFqcXjNuzt/0sTNuT/9eu3f5sfw92HHd2RYqL0rtZUJPKJMpCVRek\n",
       "ZKsoGWVFJmxIRZa6ebDIsmXL+sAwxAOJyBYhbtJEKpZ2EZqiwixpRWNlpdEbYmr00ovWVNZqT//F\n",
       "Pkver9df8MmR/H7H93gf3ztOWU+YO+v0W9cTpm6NnwU/clP7GXBTEAAAAABiREEAAAAAiBEFAQAA\n",
       "ACBGFAQAAACAGFEQAAAAAGJEQQAAAACIEQUBAAAAIEYUBAAAAIAYURAAAAAAYkRBAAAAAIgRBQEA\n",
       "AAAgRhQEAAAAgBhREAAAAABiREEAAAAAiBEFAQAAACBGFAQAAACAGFEQAAAAAGJEQQAAAACIEQUB\n",
       "AAAAIEYUBAAAAIAYURAAAAAAYkRBAAAAAIgRBQEAAAAgRhQEAAAAgBhREAAAAABiREEAAAAAiBEF\n",
       "AQAAACBGFAQAAACAGFEQAAAAAGJEQQAAAACIEQUBAAAAIEYUBAAAAIAYURAAAAAAYkRBAAAAAIgR\n",
       "BQEAAAAgRhQEAAAAgBhREAAAAABiREEAAAAAiBEFAQAAACBGFAQAAACAGFEQAAAAAGJEQQAAAACI\n",
       "EQUBAAAAIEYUBAAAAIAYURAAAAAAYkRBAAAAAIgRBQEAAAAgRhQEAAAAgBhREAAAAABiREEAAAAA\n",
       "iBEFAQAAACBGFAQAAACAGFEQAAAAAGJEQQAAAACIEQUBAAAAIEYUBAAAAIAYURAAAAAAYkRBAAAA\n",
       "AIgRBQEAAAAgRhQEAAAAgBhREAAAAABiREEAAAAAiBEFAQAAACBGFAQAAACAmINvv+h5h+sRa8fu\n",
       "esR6wtTDTrh7PYGhW46etp7w/8DBesDU3b8+fj1h6oknHV1PmLrl2MnrCXNf/vHD1xOm3vPqK9YT\n",
       "pi7+2AXrCVMXnn5sPWHuaU+4eT1h6rjj7l9PmHrHl/9gPWHq78/76nrC3H/e9MT1hKlHPvSX6wlT\n",
       "T397/DtgPQAAAAAA+L8lCgIAAABAjCgIAAAAADGiIAAAAADEiIIAAAAAECMKAgAAAECMKAgAAAAA\n",
       "MaIgAAAAAMSIggAAAAAQIwoCAAAAQIwoCAAAAAAxoiAAAAAAxIiCAAAAABAjCgIAAABAjCgIAAAA\n",
       "ADGiIAAAAADEiIIAAAAAECMKAgAAAECMKAgAAAAAMaIgAAAAAMSIggAAAAAQIwoCAAAAQIwoCAAA\n",
       "AAAxoiAAAAAAxIiCAAAAABAjCgIAAABAjIuP9hkAAA73SURBVCgIAAAAADGiIAAAAADEiIIAAAAA\n",
       "ECMKAgAAAECMKAgAAAAAMaIgAAAAAMSIggAAAAAQIwoCAAAAQIwoCAAAAAAxoiAAAAAAxIiCAAAA\n",
       "ABAjCgIAAABAjCgIAAAAADGiIAAAAADEiIIAAAAAECMKAgAAAECMKAgAAAAAMaIgAAAAAMSIggAA\n",
       "AAAQIwoCAAAAQIwoCAAAAAAxoiAAAAAAxIiCAAAAABAjCgIAAABAjCgIAAAAADGiIAAAAADEiIIA\n",
       "AAAAECMKAgAAAECMKAgAAAAAMaIgAAAAAMSIggAAAAAQIwoCAAAAQIwoCAAAAAAxoiAAAAAAxIiC\n",
       "AAAAABAjCgIAAABAjCgIAAAAADEHzzrhosP1iLUPPucH6wlTp5x6dD1h6pobzlxPmLrgbf+ynjD3\n",
       "9Q/94XrC1GMfc9t6wtSdP3vEesLUjT96zHrC3Ivf8qn1hKnrPv789YSps/72W+sJU+e/9IXrCXN/\n",
       "9/u3rydM/fh/jqwnTP3J6y9bT5j6xhV/tJ4w99TnXrueMPW5f33BesLUd37e/i3gpiAAAAAAxIiC\n",
       "AAAAABAjCgIAAABAjCgIAAAAADGiIAAAAADEiIIAAAAAECMKAgAAAECMKAgAAAAAMaIgAAAAAMSI\n",
       "ggAAAAAQIwoCAAAAQIwoCAAAAAAxoiAAAAAAxIiCAAAAABAjCgIAAABAjCgIAAAAADGiIAAAAADE\n",
       "iIIAAAAAECMKAgAAAECMKAgAAAAAMaIgAAAAAMSIggAAAAAQIwoCAAAAQIwoCAAAAAAxoiAAAAAA\n",
       "xIiCAAAAABAjCgIAAABAjCgIAAAAADGiIAAAAADEiIIAAAAAECMKAgAAAECMKAgAAAAAMaIgAAAA\n",
       "AMSIggAAAAAQIwoCAAAAQIwoCAAAAAAxoiAAAAAAxIiCAAAAABAjCgIAAABAjCgIAAAAADGiIAAA\n",
       "AADEiIIAAAAAECMKAgAAAECMKAgAAAAAMaIgAAAAAMSIggAAAAAQIwoCAAAAQIwoCAAAAAAxoiAA\n",
       "AAAAxIiCAAAAABAjCgIAAABAjCgIAAAAADGiIAAAAADEiIIAAAAAECMKAgAAAECMKAgAAAAAMaIg\n",
       "AAAAAMSIggAAAAAQIwoCAAAAQIwoCAAAAAAxoiAAAAAAxIiCAAAAABAjCgIAAABAzMH3Xn7O4XrE\n",
       "2oMe/L/rCVNfuv5p6wlTF77y8vWEqeu/+Oz1hLkrv//49YSpv3nLR9YTpv76fW9YT5i6+JnXrSfM\n",
       "nXjKsfWEqeuuf+p6wtSTHv+99YSp++9zR6Du9jtOXk+YOvHIXesJU5d/+8z1hLk3XXjFesLUDV9r\n",
       "94A6pwAAAAAAiBEFAQAAACBGFAQAAACAGFEQAAAAAGJEQQAAAACIEQUBAAAAIEYUBAAAAIAYURAA\n",
       "AAAAYkRBAAAAAIgRBQEAAAAgRhQEAAAAgBhREAAAAABiREEAAAAAiBEFAQAAACBGFAQAAACAGFEQ\n",
       "AAAAAGJEQQAAAACIEQUBAAAAIEYUBAAAAIAYURAAAAAAYkRBAAAAAIgRBQEAAAAgRhQEAAAAgBhR\n",
       "EAAAAABiREEAAAAAiBEFAQAAACBGFAQAAACAGFEQAAAAAGJEQQAAAACIEQUBAAAAIEYUBAAAAIAY\n",
       "URAAAAAAYkRBAAAAAIgRBQEAAAAgRhQEAAAAgBhREAAAAABiREEAAAAAiBEFAQAAACBGFAQAAACA\n",
       "GFEQAAAAAGJEQQAAAACIEQUBAAAAIEYUBAAAAIAYURAAAAAAYkRBAAAAAIgRBQEAAAAgRhQEAAAA\n",
       "gBhREAAAAABiREEAAAAAiBEFAQAAACBGFAQAAACAGFEQAAAAAGJEQQAAAACIEQUBAAAAIEYUBAAA\n",
       "AIAYURAAAAAAYkRBAAAAAIgRBQEAAAAgRhQEAAAAgBhREAAAAABiREEAAAAAiBEFAQAAACBGFAQA\n",
       "AACAmONPO/Pm9Ya57/7709cTGLr9W2esJ0y96rr71xPmbvjLT64nTP3ZP1y0njD1iSu/sp4w9bHX\n",
       "nb2eMPfNa09YT5h619eOridM3fueO9YTpi696rz1hLnXnH/VesLUB6995nrC1MvPuHU9YeovXvLZ\n",
       "9YS5iz984XrC1Jue0n4GzrrkO+sJU24KAgAAAECMKAgAAAAAMaIgAAAAAMSIggAAAAAQIwoCAAAA\n",
       "QIwoCAAAAAAxoiAAAAAAxIiCAAAAABAjCgIAAABAjCgIAAAAADGiIAAAAADEiIIAAAAAECMKAgAA\n",
       "AECMKAgAAAAAMaIgAAAAAMSIggAAAAAQIwoCAAAAQIwoCAAAAAAxoiAAAAAAxIiCAAAAABAjCgIA\n",
       "AABAjCgIAAAAADGiIAAAAADEiIIAAAAAECMKAgAAAECMKAgAAAAAMaIgAAAAAMSIggAAAAAQIwoC\n",
       "AAAAQIwoCAAAAAAxoiAAAAAAxIiCAAAAABAjCgIAAABAjCgIAAAAADGiIAAAAADEiIIAAAAAECMK\n",
       "AgAAAECMKAgAAAAAMaIgAAAAAMSIggAAAAAQIwoCAAAAQIwoCAAAAAAxoiAAAAAAxIiCAAAAABAj\n",
       "CgIAAABAjCgIAAAAADGiIAAAAADEiIIAAAAAECMKAgAAAECMKAgAAAAAMaIgAAAAAMSIggAAAAAQ\n",
       "IwoCAAAAQIwoCAAAAAAxoiAAAAAAxIiCAAAAABAjCgIAAABAjCgIAAAAADGiIAAAAADEiIIAAAAA\n",
       "ECMKAgAAAECMKAgAAAAAMaIgAAAAAMSIggAAAAAQc3DvlY89XI9Yu/eau9cTps5+73nrCVO/e3Dy\n",
       "esLUpf/1kPWEuXv+6jPrCVNv/lT7HfCcU+9ZT5h67VfuW0+Ye/hvf3Q9YeqeD/zWesLUFz76svWE\n",
       "qZvuPHE9Ye6c3/nhesLUWZfcuJ4w9dY/fdF6wtS5p921njD3im+2z8I3v/hD6wlTP//FkfWEKTcF\n",
       "AQAAACBGFAQAAACAGFEQAAAAAGJEQQAAAACIEQUBAAAAIEYUBAAAAIAYURAAAAAAYkRBAAAAAIgR\n",
       "BQEAAAAgRhQEAAAAgBhREAAAAABiREEAAAAAiBEFAQAAACBGFAQAAACAGFEQAAAAAGJEQQAAAACI\n",
       "EQUBAAAAIEYUBAAAAIAYURAAAAAAYkRBAAAAAIgRBQEAAAAgRhQEAAAAgBhREAAAAABiREEAAAAA\n",
       "iBEFAQAAACBGFAQAAACAGFEQAAAAAGJEQQAAAACIEQUBAAAAIEYUBAAAAIAYURAAAAAAYkRBAAAA\n",
       "AIgRBQEAAAAgRhQEAAAAgBhREAAAAABiREEAAAAAiBEFAQAAACBGFAQAAACAGFEQAAAAAGJEQQAA\n",
       "AACIEQUBAAAAIEYUBAAAAIAYURAAAAAAYkRBAAAAAIgRBQEAAAAgRhQEAAAAgBhREAAAAABiREEA\n",
       "AAAAiBEFAQAAACBGFAQAAACAGFEQAAAAAGJEQQAAAACIEQUBAAAAIEYUBAAAAIAYURAAAAAAYkRB\n",
       "AAAAAIgRBQEAAAAgRhQEAAAAgBhREAAAAABiREEAAAAAiBEFAQAAACBGFAQAAACAGFEQAAAAAGIO\n",
       "Ljn9zYfrEWv/dMc31hOmbvvn/1hPmLrsH1+xnjB1/rn/tp4wd/VXn7WeMHVwsF6wdd9h+wN43InH\n",
       "1hPmnnxO+xxwGH8GDu9r/0f+8c+8cD1h7uxH37aeMHXbnY9cT5i65a4j6wlTb33jJ9YT5j77yQvW\n",
       "E6Yu/8Gj1hOmLn7KresJU+1TEAAAAAAEiYIAAAAAECMKAgAAAECMKAgAAAAAMaIgAAAAAMSIggAA\n",
       "AAAQIwoCAAAAQIwoCAAAAAAxoiAAAAAAxIiCAAAAABAjCgIAAABAjCgIAAAAADGiIAAAAADEiIIA\n",
       "AAAAECMKAgAAAECMKAgAAAAAMaIgAAAAAMSIggAAAAAQIwoCAAAAQIwoCAAAAAAxoiAAAAAAxIiC\n",
       "AAAAABAjCgIAAABAjCgIAAAAADGiIAAAAADEiIIAAAAAECMKAgAAAECMKAgAAAAAMaIgAAAAAMSI\n",
       "ggAAAAAQIwoCAAAAQIwoCAAAAAAxoiAAAAAAxIiCAAAAABAjCgIAAABAjCgIAAAAADGiIAAAAADE\n",
       "iIIAAAAAECMKAgAAAECMKAgAAAAAMaIgAAAAAMSIggAAAAAQIwoCAAAAQIwoCAAAAAAxoiAAAAAA\n",
       "xIiCAAAAABAjCgIAAABAjCgIAAAAADGiIAAAAADEiIIAAAAAECMKAgAAAECMKAgAAAAAMaIgAAAA\n",
       "AMSIggAAAAAQIwoCAAAAQIwoCAAAAAAxoiAAAAAAxIiCAAAAABAjCgIAAABAjCgIAAAAADGiIAAA\n",
       "AADEiIIAAAAAECMKAgAAAEDMwTXP/ePD9Yi1Z7zu8+sJU7+68aT1hKkHP/rYesLUly59yXrC3NFf\n",
       "PXQ9YeqMk46uJ0ydevJP1xOmDg7yx4AHHP/AX68nTP3iziPrCVNX3/x76wlTxz3AO+CN7/70esLU\n",
       "a17/6vWEqdee8ZP1hKkv/vdp6wlz77zs6vWEqff/+bnrCVMXveCq9YQpNwUBAAAAIEYUBAAAAIAY\n",
       "URAAAAAAYkRBAAAAAIgRBQEAAAAgRhQEAAAAgBhREAAAAABiREEAAAAAiBEFAQAAACBGFAQAAACA\n",
       "GFEQAAAAAGJEQQAAAACIEQUBAAAAIEYUBAAAAIAYURAAAAAAYkRBAAAAAIgRBQEAAAAgRhQEAAAA\n",
       "gBhREAAAAABiREEAAAAAiBEFAQAAACBGFAQAAACAGFEQAAAAAGJEQQAAAACIEQUBAAAAIEYUBAAA\n",
       "AIAYURAAAAAAYkRBAAAAAIgRBQEAAAAgRhQEAAAAgBhREAAAAABiREEAAAAAiBEFAQAAACBGFAQA\n",
       "AACAGFEQAAAAAGJEQQAAAACIEQUBAAAAIEYUBAAAAIAYURAAAAAAYkRBAAAAAIgRBQEAAAAgRhQE\n",
       "AAAAgBhREAAAAABiREEAAAAAiBEFAQAAACBGFAQAAACAGFEQAAAAAGJEQQAAAACIEQUBAAAAIEYU\n",
       "BAAAAIAYURAAAAAAYkRBAAAAAIgRBQEAAAAgRhQEAAAAgBhREAAAAABiREEAAAAAiBEFAQAAACBG\n",
       "FAQAAACAGFEQAAAAAGJEQQAAAACIEQUBAAAAIEYUBAAAAIAYURAAAAAAYn4DynVOzLQ5CWcAAAAA\n",
       "SUVORK5CYII=\n",
       "\" transform=\"translate(470, 124)\"/>\n",
       "</g>\n",
       "<defs>\n",
       "  <clipPath id=\"clip513\">\n",
       "    <rect x=\"2160\" y=\"124\" width=\"73\" height=\"1286\"/>\n",
       "  </clipPath>\n",
       "</defs>\n",
       "<g clip-path=\"url(#clip513)\">\n",
       "<image width=\"72\" height=\"1285\" xlink:href=\"data:image/png;base64,\n",
       "iVBORw0KGgoAAAANSUhEUgAAAEgAAAUFCAYAAAC0E4VSAAALMElEQVR4nO3dwa3kRhAFQY5Q/lsh\n",
       "L6XtlgWqPJKHCAsGiQeit4d/9vfv+fs+/K+/3v4AXydQECgIFAQKc+6/b3+GT7OgIFAQKAgU5t4/\n",
       "b3+GT7OgIFAQKAgUnKSDBQWBgkBBoDDXQ3plQUGgIFAQKMw9HtIbCwoCBYGCQMFJOlhQECgIFAQK\n",
       "HtLBgoJAQaAgUHDdESwoCBQECgKFeZykVxYUBAoCBYGC645gQUGgIFAQKMzjumNlQUGgIFAQKMxz\n",
       "/nn7M3yaBQWBgkBBoOBOOlhQECgIFAQKrjuCBQWBgkBBoOAhHSwoCBQECgIF1x3BgoJAQaAgUJif\n",
       "k/TKgoJAQaAgUJjn+D3pjQUFgYJAQaDgJB0sKAgUBAoCBSfpYEFBoCBQECh4uyNYUBAoCBQECvNz\n",
       "kl5ZUBAoCBQECl7BCxYUBAoCBYGCk3SwoCBQECgIFHxxGCwoCBQECgIFJ+lgQUGgIFAQKDhJBwsK\n",
       "AgWBgkDBSTpYUBAoCBQECvOc8/Zn+DQLCgIFgYJAwUk6WFAQKAgUBArupIMFBYGCQEGg4CEdLCgI\n",
       "FAQKAoX5uZNeWVAQKAgUBApO0sGCgkBBoCBQ8HZHsKAgUBAoCBRcdwQLCgIFgYJAwXVHsKAgUBAo\n",
       "CBRcdwQLCgIFgYJAwUM6WFAQKAgUBAr+4jBYUBAoCBQECk7SwYKCQEGgIFDwkA4WFAQKAgWBgod0\n",
       "sKAgUBAoCBQ8pIMFBYGCQEGgMM/1kN5YUBAoCBQECk7SwYKCQEGgIFDwkA4WFAQKAgWBgod0sKAg\n",
       "UBAoCBTmOfftz/BpFhQECgIFgYKTdLCgIFAQKAgUnKSDBQWBgkBBoCBQ8E+NYEFBoCBQECj4p0aw\n",
       "oCBQECgIFOZxkF5ZUBAoCBQECvNcJ+mNBQWBgkBBoOAkHSwoCBQECgIFD+lgQUGgIFAQKIwfoNpZ\n",
       "UBAoCBQECk7SwYKCQEGgIFDwkA4WFAQKAgWBwjzn9/Zn+DQLCgIFgYJAYe71kN5YUBAoCBQECq47\n",
       "ggUFgYJAQaDguiNYUBAoCBQECnOPRht1gkBBoCBQcJIOFhQECgIFgcI8vjhcWVAQKAgUBApznaRX\n",
       "FhQECgIFgcI87qRX6gSBgkBBoOAkHSwoCBQECgIFd9LBgoJAQaAgUPAKXlAnCBQECgIFr+AFCwoC\n",
       "BYGCQMGddLCgIFAQKAgU5l6NNuoEgYJAQaDguiNYUBAoCBQECq47ggUFgYJAQaAwj+uOlTpBoCBQ\n",
       "ECg4SQcLCgIFgYJAwUM6WFAQKAgUBAr+4jBYUBAoCBQECv7iMKgTBAoCBYGC/4g2WFAQKAgUBAru\n",
       "pIMFBYGCQEGg4PekgzpBoCBQECi47ggWFAQKAgWBguuOYEFBoCBQECg4SQcLCgIFgYJAwSt4QZ0g\n",
       "UBAoCBScpIMFBYGCQEGg4E46WFAQKAgUBApO0sGCgkBBoCBQ8KP/wYKCQEGgIFDw32cFdYJAQaAg\n",
       "UHDdESwoCBQECgIFXxwGCwoCBYGCQMFJOlhQECgIFAQKczykVxYUBAoCBYGCvzgM6gSBgkBBoOC6\n",
       "I1hQECgIFAQKHtLBgoJAQaAgUPB2R7CgIFAQKAgUBAr+qREsKAgUBAoCBQ/pYEFBoCBQECj4u/mg\n",
       "ThAoCBQECnNc2q8sKAgUBAoCBdcdwYKCQEGgIFDwkA4WFAQKAgWBgod0sKAgUBAoCBT8uEmwoCBQ\n",
       "ECgIFJykgwUFgYJAQaDgIR0sKAgUBAoCBe9JB3WCQEGgIFDwnnSwoCBQECgIFFx3BAsKAgWBgkDB\n",
       "QzpYUBAoCBQECl7BCxYUBAoCBYGCk3SwoCBQECgIFOY+HtIbCwoCBYGCQMF1R7CgIFAQKAgUXHcE\n",
       "CwoCBYGCQMFJOlhQECgIFAQKTtLBgoJAQaAgUHCSDhYUBAoCBYGCk3SwoCBQECgIFDykgwUFgYJA\n",
       "QaAwx3vSKwsKAgWBgkDBSTpYUBAoCBQECr44DBYUBAoCBYHC3Pv2R/g2CwoCBYGCQMFJOlhQECgI\n",
       "FAQKfmApWFAQKAgUBApO0sGCgkBBoCBQ8HZHsKAgUBAoCBS8Jx0sKAgUBAoCBW93BAsKAgWBgkDB\n",
       "nXSwoCBQECgIFNxJBwsKAgWBgkDBnXSwoCBQECgIFFx3BAsKAgWBgkDBF4fBgoJAQaAgUHDdESwo\n",
       "CBQECgIFXxwGCwoCBYGCQGHO25/g4ywoCBQECgIFJ+lgQUGgIFAQKHi7I1hQECgIFAQKrjuCBQWB\n",
       "gkBBoOC6I1hQECgIFAQKTtLBgoJAQaAgUHCSDhYUBAoCBYGCLw6DBQWBgkBBoDD+KnxnQUGgIFAQ\n",
       "KDhJBwsKAgWBgkBBoOCb1WBBQaAgUBAo+GY1WFAQKAgUBApO0sGCgkBBoCBQcJIOFhQECgIFgcIc\n",
       "77+sLCgIFAQKAgXXHcGCgkBBoCBQcN0RLCgIFAQKAgUn6WBBQaAgUBAo+J96gwUFgYJAQaDgf+oN\n",
       "FhQECgIFgYK3O4IFBYGCQEGg4BeoggUFgYJAQaDgF6iCBQWBgkBBoOCLw2BBQaAgUBAoeAUvWFAQ\n",
       "KAgUBAr+mCVYUBAoCBQECk7SwYKCQEGgIFDwCl6woCBQECgIFLyCFywoCBQECgIFJ+lgQUGgIFAQ\n",
       "KHgFL1hQECgIFAQKfrsjWFAQKAgUBAquO4IFBYGCQEGg4IvDYEFBoCBQECg4SQcLCgIFgYJAwUk6\n",
       "WFAQKAgUBApO0sGCgkBBoCBQ8JAOFhQECgIFgYLrjmBBQaAgUBAoOEkHCwoCBYGCQMFJOlhQECgI\n",
       "FAQKTtLBgoJAQaAgUPDbHcGCgkBBoCBQ8KP/wYKCQEGgIFBw3REsKAgUBAoChbmPp/TGgoJAQaAg\n",
       "UHCSDhYUBAoCBYGCLw6DBQWBgkBBoOCLw2BBQaAgUBAouO4IFhQECgIFgYIvDoMFBYGCQEGg4CQd\n",
       "LCgIFAQKAgW/3REsKAgUBAoChTle71hZUBAoCBQECt7uCBYUBAoCBYHCXCfplQUFgYJAQaDgJB0s\n",
       "KAgUBAoCBXfSwYKCQEGgIFDwdkewoCBQECgIFOb4Y5aVBQWBgkBBoOC6I1hQECgIFAQKAgV/Nx8s\n",
       "KAgUBAoCBa+/BAsKAgWBgkDBpX2woCBQECgIFFx3BAsKAgWBgkBhzuPCY2NBQaAgUBAouO4IFhQE\n",
       "CgIFgYKHdLCgIFAQKAgU3EkHCwoCBYGCQMGddLCgIFAQKAgU5vycpDcWFAQKAgWBgpN0sKAgUBAo\n",
       "CBTmekivLCgIFAQKAgUn6WBBQaAgUBAozPl5SG8sKAgUBAoCBSfpYEFBoCBQECi4kw4WFAQKAgWB\n",
       "gpN0sKAgUBAoCBQ8pIMFBYGCQEGg4IvDYEFBoCBQECjMff68/Rk+zYKCQEGgIFBw3REsKAgUBAoC\n",
       "BW93BAsKAgWBgkBhznXdsbGgIFAQKAgUnKSDBQWBgkBBoDDHF4crCwoCBYGCQMFJOlhQECgIFAQK\n",
       "TtLBgoJAQaAgUJh7naQ3FhQECgIFgYLrjmBBQaAgUBAoeAUvWFAQKAgUBApO0sGCgkBBoCBQmOsk\n",
       "vbKgIFAQKAgUnKSDBQWBgkBBoDDH2x0rCwoCBYGCQMFPlQYLCgIFgYJAwXvSwYKCQEGgIFBwJx0s\n",
       "KAgUBAoCBSfpYEFBoCBQECh4SAcLCgIFgYJAwReHwYKCQEGgIFBwkg4WFAQKAgWBwjy+OFxZUBAo\n",
       "CBQECk7SwYKCQEGgIFDwCl6woCBQECgIFOZxkl5ZUBAoCBQECt7uCBYUBAoCBYGCLw6DBQWBgkBB\n",
       "oOC6I1hQECgIFAQKc5/79mf4NAsKAgWBgkDBdUewoCBQECgIFOZxkl5ZUBAoCBQECv8BchLtGWsS\n",
       "xKgAAAAASUVORK5CYII=\n",
       "\" transform=\"translate(2161, 124)\"/>\n",
       "</g>\n",
       "<path clip-path=\"url(#clip510)\" d=\"M2268.76 1276.87 L2298.43 1276.87 L2298.43 1280.81 L2268.76 1280.81 L2268.76 1276.87 Z\" fill=\"#000000\" fill-rule=\"nonzero\" fill-opacity=\"1\" /><path clip-path=\"url(#clip510)\" d=\"M2308.57 1259.14 L2326.93 1259.14 L2326.93 1263.07 L2312.85 1263.07 L2312.85 1271.55 Q2313.87 1271.2 2314.89 1271.04 Q2315.91 1270.85 2316.93 1270.85 Q2322.71 1270.85 2326.09 1274.02 Q2329.47 1277.19 2329.47 1282.61 Q2329.47 1288.19 2326 1291.29 Q2322.53 1294.37 2316.21 1294.37 Q2314.03 1294.37 2311.76 1294 Q2309.52 1293.63 2307.11 1292.89 L2307.11 1288.19 Q2309.2 1289.32 2311.42 1289.88 Q2313.64 1290.43 2316.12 1290.43 Q2320.12 1290.43 2322.46 1288.33 Q2324.8 1286.22 2324.8 1282.61 Q2324.8 1279 2322.46 1276.89 Q2320.12 1274.79 2316.12 1274.79 Q2314.24 1274.79 2312.37 1275.2 Q2310.51 1275.62 2308.57 1276.5 L2308.57 1259.14 Z\" fill=\"#000000\" fill-rule=\"nonzero\" fill-opacity=\"1\" /><path clip-path=\"url(#clip510)\" d=\"M2338.27 1259.14 L2360.12 1259.14 L2360.12 1263.07 L2342.95 1263.07 L2342.95 1273.31 L2359.4 1273.31 L2359.4 1277.24 L2342.95 1277.24 L2342.95 1289.76 L2360.54 1289.76 L2360.54 1293.7 L2338.27 1293.7 L2338.27 1259.14 Z\" fill=\"#000000\" fill-rule=\"nonzero\" fill-opacity=\"1\" /><path clip-path=\"url(#clip510)\" d=\"M2368.59 1276.87 L2398.27 1276.87 L2398.27 1280.81 L2368.59 1280.81 L2368.59 1276.87 Z\" fill=\"#000000\" fill-rule=\"nonzero\" fill-opacity=\"1\" /><path clip-path=\"url(#clip510)\" d=\"M2409.17 1289.76 L2416.81 1289.76 L2416.81 1263.4 L2408.5 1265.06 L2408.5 1260.81 L2416.76 1259.14 L2421.44 1259.14 L2421.44 1289.76 L2429.08 1289.76 L2429.08 1293.7 L2409.17 1293.7 L2409.17 1289.76 Z\" fill=\"#000000\" fill-rule=\"nonzero\" fill-opacity=\"1\" /><path clip-path=\"url(#clip510)\" d=\"M2449.1 1274.56 Q2445.95 1274.56 2444.1 1276.71 Q2442.27 1278.86 2442.27 1282.61 Q2442.27 1286.34 2444.1 1288.51 Q2445.95 1290.67 2449.1 1290.67 Q2452.25 1290.67 2454.08 1288.51 Q2455.93 1286.34 2455.93 1282.61 Q2455.93 1278.86 2454.08 1276.71 Q2452.25 1274.56 2449.1 1274.56 M2458.38 1259.9 L2458.38 1264.16 Q2456.63 1263.33 2454.82 1262.89 Q2453.04 1262.45 2451.28 1262.45 Q2446.65 1262.45 2444.19 1265.57 Q2441.76 1268.7 2441.42 1275.02 Q2442.78 1273 2444.84 1271.94 Q2446.9 1270.85 2449.38 1270.85 Q2454.59 1270.85 2457.6 1274.02 Q2460.63 1277.17 2460.63 1282.61 Q2460.63 1287.93 2457.48 1291.15 Q2454.33 1294.37 2449.1 1294.37 Q2443.11 1294.37 2439.94 1289.79 Q2436.76 1285.18 2436.76 1276.45 Q2436.76 1268.26 2440.65 1263.4 Q2444.54 1258.51 2451.09 1258.51 Q2452.85 1258.51 2454.63 1258.86 Q2456.44 1259.21 2458.38 1259.9 Z\" fill=\"#000000\" fill-rule=\"nonzero\" fill-opacity=\"1\" /><path clip-path=\"url(#clip510)\" d=\"M2268.76 997.352 L2298.43 997.352 L2298.43 1001.29 L2268.76 1001.29 L2268.76 997.352 Z\" fill=\"#000000\" fill-rule=\"nonzero\" fill-opacity=\"1\" /><path clip-path=\"url(#clip510)\" d=\"M2312.55 1010.24 L2328.87 1010.24 L2328.87 1014.18 L2306.93 1014.18 L2306.93 1010.24 Q2309.59 1007.49 2314.17 1002.86 Q2318.78 998.208 2319.96 996.865 Q2322.2 994.342 2323.08 992.606 Q2323.99 990.847 2323.99 989.157 Q2323.99 986.402 2322.04 984.666 Q2320.12 982.93 2317.02 982.93 Q2314.82 982.93 2312.37 983.694 Q2309.94 984.458 2307.16 986.009 L2307.16 981.287 Q2309.98 980.153 2312.44 979.574 Q2314.89 978.995 2316.93 978.995 Q2322.3 978.995 2325.49 981.68 Q2328.69 984.365 2328.69 988.856 Q2328.69 990.986 2327.88 992.907 Q2327.09 994.805 2324.98 997.398 Q2324.4 998.069 2321.3 1001.29 Q2318.2 1004.48 2312.55 1010.24 Z\" fill=\"#000000\" fill-rule=\"nonzero\" fill-opacity=\"1\" /><path clip-path=\"url(#clip510)\" d=\"M2338.69 1008.3 L2343.57 1008.3 L2343.57 1014.18 L2338.69 1014.18 L2338.69 1008.3 Z\" fill=\"#000000\" fill-rule=\"nonzero\" fill-opacity=\"1\" /><path clip-path=\"url(#clip510)\" d=\"M2353.8 979.62 L2372.16 979.62 L2372.16 983.555 L2358.08 983.555 L2358.08 992.027 Q2359.1 991.68 2360.12 991.518 Q2361.14 991.333 2362.16 991.333 Q2367.95 991.333 2371.32 994.504 Q2374.7 997.676 2374.7 1003.09 Q2374.7 1008.67 2371.23 1011.77 Q2367.76 1014.85 2361.44 1014.85 Q2359.26 1014.85 2357 1014.48 Q2354.75 1014.11 2352.34 1013.37 L2352.34 1008.67 Q2354.43 1009.81 2356.65 1010.36 Q2358.87 1010.92 2361.35 1010.92 Q2365.35 1010.92 2367.69 1008.81 Q2370.03 1006.7 2370.03 1003.09 Q2370.03 999.481 2367.69 997.375 Q2365.35 995.268 2361.35 995.268 Q2359.47 995.268 2357.6 995.685 Q2355.75 996.102 2353.8 996.981 L2353.8 979.62 Z\" fill=\"#000000\" fill-rule=\"nonzero\" fill-opacity=\"1\" /><path clip-path=\"url(#clip510)\" d=\"M2383.5 979.62 L2405.35 979.62 L2405.35 983.555 L2388.18 983.555 L2388.18 993.787 L2404.63 993.787 L2404.63 997.722 L2388.18 997.722 L2388.18 1010.24 L2405.77 1010.24 L2405.77 1014.18 L2383.5 1014.18 L2383.5 979.62 Z\" fill=\"#000000\" fill-rule=\"nonzero\" fill-opacity=\"1\" /><path clip-path=\"url(#clip510)\" d=\"M2413.82 997.352 L2443.5 997.352 L2443.5 1001.29 L2413.82 1001.29 L2413.82 997.352 Z\" fill=\"#000000\" fill-rule=\"nonzero\" fill-opacity=\"1\" /><path clip-path=\"url(#clip510)\" d=\"M2454.4 1010.24 L2462.04 1010.24 L2462.04 983.879 L2453.73 985.546 L2453.73 981.287 L2462 979.62 L2466.67 979.62 L2466.67 1010.24 L2474.31 1010.24 L2474.31 1014.18 L2454.4 1014.18 L2454.4 1010.24 Z\" fill=\"#000000\" fill-rule=\"nonzero\" fill-opacity=\"1\" /><path clip-path=\"url(#clip510)\" d=\"M2494.33 995.037 Q2491.19 995.037 2489.33 997.189 Q2487.5 999.342 2487.5 1003.09 Q2487.5 1006.82 2489.33 1008.99 Q2491.19 1011.15 2494.33 1011.15 Q2497.48 1011.15 2499.31 1008.99 Q2501.16 1006.82 2501.16 1003.09 Q2501.16 999.342 2499.31 997.189 Q2497.48 995.037 2494.33 995.037 M2503.62 980.384 L2503.62 984.643 Q2501.86 983.81 2500.05 983.37 Q2498.27 982.93 2496.51 982.93 Q2491.88 982.93 2489.43 986.055 Q2487 989.18 2486.65 995.5 Q2488.01 993.486 2490.07 992.421 Q2492.13 991.333 2494.61 991.333 Q2499.82 991.333 2502.83 994.504 Q2505.86 997.652 2505.86 1003.09 Q2505.86 1008.42 2502.71 1011.63 Q2499.56 1014.85 2494.33 1014.85 Q2488.34 1014.85 2485.17 1010.27 Q2482 1005.66 2482 996.935 Q2482 988.74 2485.88 983.879 Q2489.77 978.995 2496.32 978.995 Q2498.08 978.995 2499.87 979.342 Q2501.67 979.69 2503.62 980.384 Z\" fill=\"#000000\" fill-rule=\"nonzero\" fill-opacity=\"1\" /><path clip-path=\"url(#clip510)\" d=\"M2280.7 703.18 Q2277.09 703.18 2275.26 706.745 Q2273.45 710.287 2273.45 717.416 Q2273.45 724.523 2275.26 728.088 Q2277.09 731.629 2280.7 731.629 Q2284.33 731.629 2286.14 728.088 Q2287.97 724.523 2287.97 717.416 Q2287.97 710.287 2286.14 706.745 Q2284.33 703.18 2280.7 703.18 M2280.7 699.477 Q2286.51 699.477 2289.57 704.083 Q2292.64 708.666 2292.64 717.416 Q2292.64 726.143 2289.57 730.75 Q2286.51 735.333 2280.7 735.333 Q2274.89 735.333 2271.81 730.75 Q2268.76 726.143 2268.76 717.416 Q2268.76 708.666 2271.81 704.083 Q2274.89 699.477 2280.7 699.477 Z\" fill=\"#000000\" fill-rule=\"nonzero\" fill-opacity=\"1\" /><path clip-path=\"url(#clip510)\" d=\"M2274.38 451.208 L2290.7 451.208 L2290.7 455.143 L2268.76 455.143 L2268.76 451.208 Q2271.42 448.453 2276 443.824 Q2280.61 439.171 2281.79 437.829 Q2284.03 435.305 2284.91 433.569 Q2285.82 431.81 2285.82 430.12 Q2285.82 427.366 2283.87 425.63 Q2281.95 423.893 2278.85 423.893 Q2276.65 423.893 2274.2 424.657 Q2271.77 425.421 2268.99 426.972 L2268.99 422.25 Q2271.81 421.116 2274.27 420.537 Q2276.72 419.958 2278.76 419.958 Q2284.13 419.958 2287.32 422.643 Q2290.52 425.329 2290.52 429.819 Q2290.52 431.949 2289.7 433.87 Q2288.92 435.768 2286.81 438.361 Q2286.23 439.032 2283.13 442.25 Q2280.03 445.444 2274.38 451.208 Z\" fill=\"#000000\" fill-rule=\"nonzero\" fill-opacity=\"1\" /><path clip-path=\"url(#clip510)\" d=\"M2300.51 449.264 L2305.4 449.264 L2305.4 455.143 L2300.51 455.143 L2300.51 449.264 Z\" fill=\"#000000\" fill-rule=\"nonzero\" fill-opacity=\"1\" /><path clip-path=\"url(#clip510)\" d=\"M2315.63 420.583 L2333.99 420.583 L2333.99 424.518 L2319.91 424.518 L2319.91 432.991 Q2320.93 432.643 2321.95 432.481 Q2322.97 432.296 2323.99 432.296 Q2329.77 432.296 2333.15 435.467 Q2336.53 438.639 2336.53 444.055 Q2336.53 449.634 2333.06 452.736 Q2329.59 455.815 2323.27 455.815 Q2321.09 455.815 2318.83 455.444 Q2316.58 455.074 2314.17 454.333 L2314.17 449.634 Q2316.26 450.768 2318.48 451.324 Q2320.7 451.879 2323.18 451.879 Q2327.18 451.879 2329.52 449.773 Q2331.86 447.666 2331.86 444.055 Q2331.86 440.444 2329.52 438.338 Q2327.18 436.231 2323.18 436.231 Q2321.3 436.231 2319.43 436.648 Q2317.58 437.065 2315.63 437.944 L2315.63 420.583 Z\" fill=\"#000000\" fill-rule=\"nonzero\" fill-opacity=\"1\" /><path clip-path=\"url(#clip510)\" d=\"M2345.33 420.583 L2367.18 420.583 L2367.18 424.518 L2350.01 424.518 L2350.01 434.75 L2366.46 434.75 L2366.46 438.685 L2350.01 438.685 L2350.01 451.208 L2367.6 451.208 L2367.6 455.143 L2345.33 455.143 L2345.33 420.583 Z\" fill=\"#000000\" fill-rule=\"nonzero\" fill-opacity=\"1\" /><path clip-path=\"url(#clip510)\" d=\"M2375.65 438.315 L2405.33 438.315 L2405.33 442.25 L2375.65 442.25 L2375.65 438.315 Z\" fill=\"#000000\" fill-rule=\"nonzero\" fill-opacity=\"1\" /><path clip-path=\"url(#clip510)\" d=\"M2416.23 451.208 L2423.87 451.208 L2423.87 424.843 L2415.56 426.509 L2415.56 422.25 L2423.82 420.583 L2428.5 420.583 L2428.5 451.208 L2436.14 451.208 L2436.14 455.143 L2416.23 455.143 L2416.23 451.208 Z\" fill=\"#000000\" fill-rule=\"nonzero\" fill-opacity=\"1\" /><path clip-path=\"url(#clip510)\" d=\"M2456.16 436 Q2453.01 436 2451.16 438.153 Q2449.33 440.305 2449.33 444.055 Q2449.33 447.782 2451.16 449.958 Q2453.01 452.111 2456.16 452.111 Q2459.31 452.111 2461.14 449.958 Q2462.99 447.782 2462.99 444.055 Q2462.99 440.305 2461.14 438.153 Q2459.31 436 2456.16 436 M2465.44 421.347 L2465.44 425.606 Q2463.69 424.773 2461.88 424.333 Q2460.1 423.893 2458.34 423.893 Q2453.71 423.893 2451.25 427.018 Q2448.82 430.143 2448.48 436.463 Q2449.84 434.449 2451.9 433.384 Q2453.96 432.296 2456.44 432.296 Q2461.65 432.296 2464.66 435.467 Q2467.69 438.616 2467.69 444.055 Q2467.69 449.379 2464.54 452.597 Q2461.39 455.815 2456.16 455.815 Q2450.17 455.815 2447 451.231 Q2443.82 446.625 2443.82 437.898 Q2443.82 429.704 2447.71 424.843 Q2451.6 419.958 2458.15 419.958 Q2459.91 419.958 2461.69 420.305 Q2463.5 420.653 2465.44 421.347 Z\" fill=\"#000000\" fill-rule=\"nonzero\" fill-opacity=\"1\" /><path clip-path=\"url(#clip510)\" d=\"M2270.21 141.065 L2288.57 141.065 L2288.57 145 L2274.5 145 L2274.5 153.472 Q2275.52 153.125 2276.53 152.963 Q2277.55 152.778 2278.57 152.778 Q2284.36 152.778 2287.74 155.949 Q2291.12 159.12 2291.12 164.537 Q2291.12 170.116 2287.64 173.217 Q2284.17 176.296 2277.85 176.296 Q2275.68 176.296 2273.41 175.926 Q2271.16 175.555 2268.76 174.815 L2268.76 170.116 Q2270.84 171.25 2273.06 171.805 Q2275.28 172.361 2277.76 172.361 Q2281.77 172.361 2284.1 170.254 Q2286.44 168.148 2286.44 164.537 Q2286.44 160.926 2284.1 158.819 Q2281.77 156.713 2277.76 156.713 Q2275.89 156.713 2274.01 157.13 Q2272.16 157.546 2270.21 158.426 L2270.21 141.065 Z\" fill=\"#000000\" fill-rule=\"nonzero\" fill-opacity=\"1\" /><path clip-path=\"url(#clip510)\" d=\"M2299.91 141.065 L2321.76 141.065 L2321.76 145 L2304.59 145 L2304.59 155.231 L2321.05 155.231 L2321.05 159.167 L2304.59 159.167 L2304.59 171.69 L2322.18 171.69 L2322.18 175.625 L2299.91 175.625 L2299.91 141.065 Z\" fill=\"#000000\" fill-rule=\"nonzero\" fill-opacity=\"1\" /><path clip-path=\"url(#clip510)\" d=\"M2330.24 158.796 L2359.91 158.796 L2359.91 162.731 L2330.24 162.731 L2330.24 158.796 Z\" fill=\"#000000\" fill-rule=\"nonzero\" fill-opacity=\"1\" /><path clip-path=\"url(#clip510)\" d=\"M2370.82 171.69 L2378.45 171.69 L2378.45 145.324 L2370.14 146.991 L2370.14 142.731 L2378.41 141.065 L2383.08 141.065 L2383.08 171.69 L2390.72 171.69 L2390.72 175.625 L2370.82 175.625 L2370.82 171.69 Z\" fill=\"#000000\" fill-rule=\"nonzero\" fill-opacity=\"1\" /><path clip-path=\"url(#clip510)\" d=\"M2410.75 156.481 Q2407.6 156.481 2405.75 158.634 Q2403.92 160.787 2403.92 164.537 Q2403.92 168.264 2405.75 170.44 Q2407.6 172.592 2410.75 172.592 Q2413.89 172.592 2415.72 170.44 Q2417.57 168.264 2417.57 164.537 Q2417.57 160.787 2415.72 158.634 Q2413.89 156.481 2410.75 156.481 M2420.03 141.829 L2420.03 146.088 Q2418.27 145.255 2416.46 144.815 Q2414.68 144.375 2412.92 144.375 Q2408.29 144.375 2405.84 147.5 Q2403.41 150.625 2403.06 156.944 Q2404.43 154.931 2406.49 153.866 Q2408.55 152.778 2411.02 152.778 Q2416.23 152.778 2419.24 155.949 Q2422.27 159.097 2422.27 164.537 Q2422.27 169.861 2419.13 173.079 Q2415.98 176.296 2410.75 176.296 Q2404.75 176.296 2401.58 171.713 Q2398.41 167.106 2398.41 158.38 Q2398.41 150.185 2402.3 145.324 Q2406.19 140.44 2412.74 140.44 Q2414.5 140.44 2416.28 140.787 Q2418.08 141.134 2420.03 141.829 Z\" fill=\"#000000\" fill-rule=\"nonzero\" fill-opacity=\"1\" /><polyline clip-path=\"url(#clip510)\" style=\"stroke:#000000; stroke-linecap:round; stroke-linejoin:round; stroke-width:4; stroke-opacity:1; fill:none\" points=\"2232.76,1409.37 2232.76,1280.05 2256.76,1280.05 2232.76,1280.05 2232.76,1000.53 2256.76,1000.53 2232.76,1000.53 2232.76,721.01 2256.76,721.01 2232.76,721.01 2232.76,441.492 2256.76,441.492 2232.76,441.492 2232.76,161.974 2256.76,161.974 2232.76,161.974 2232.76,124.324 \"/>\n",
       "</svg>\n"
      ]
     },
     "execution_count": 123,
     "metadata": {},
     "output_type": "execute_result"
    }
   ],
   "source": [
    "heatmap(Tx,Ty,imag(F12list),aspect_ratio=1)"
   ]
  },
  {
   "cell_type": "markdown",
   "id": "6ebd4299",
   "metadata": {},
   "source": [
    "## Transformed single particle basis"
   ]
  },
  {
   "cell_type": "code",
   "execution_count": 124,
   "id": "ce46873b",
   "metadata": {},
   "outputs": [],
   "source": [
    "param_dict[\"sub_range\"] = 1:3;"
   ]
  },
  {
   "cell_type": "code",
   "execution_count": 125,
   "id": "4f4b00aa",
   "metadata": {},
   "outputs": [],
   "source": [
    "param_dict[\"θθ\"] = [0, 0];"
   ]
  },
  {
   "cell_type": "code",
   "execution_count": 126,
   "id": "b21772ed",
   "metadata": {},
   "outputs": [],
   "source": [
    "H_T = get_Hofstadter_hamiltonian(param_dict);\n",
    "H1 = get_sp_op(basis, H_T);\n",
    "sub_states = get_subset_states(H1, param_dict[\"sub_range\"])\n",
    "\n",
    "subspace_proj, P, Pt = get_projector_op(basis, sub_states);\n",
    "param_dict[\"projection_chern\"] = subspace_proj, P, Pt;"
   ]
  },
  {
   "cell_type": "code",
   "execution_count": 127,
   "id": "37f2660a",
   "metadata": {},
   "outputs": [
    {
     "data": {
      "text/plain": [
       "6"
      ]
     },
     "execution_count": 127,
     "metadata": {},
     "output_type": "execute_result"
    }
   ],
   "source": [
    "PN = 2\n",
    "param_dict[\"PN\"] = PN\n",
    "basis_mb_chern = get_basis_mb(param_dict);\n",
    "param_dict[\"basis_mb_chern\"] = basis_mb_chern\n",
    "param_dict[\"dimH_mb\"] = length(basis_mb_chern)"
   ]
  },
  {
   "cell_type": "code",
   "execution_count": 128,
   "id": "cdd90f70",
   "metadata": {},
   "outputs": [
    {
     "data": {
      "text/plain": [
       "6-element Vector{Vector{Int64}}:\n",
       " [2, 0, 0]\n",
       " [1, 1, 0]\n",
       " [1, 0, 1]\n",
       " [0, 2, 0]\n",
       " [0, 1, 1]\n",
       " [0, 0, 2]"
      ]
     },
     "execution_count": 128,
     "metadata": {},
     "output_type": "execute_result"
    }
   ],
   "source": [
    "mb_states_chern = bosonstates(param_dict[\"projection_chern\"][1], param_dict[\"PN\"]);\n",
    "param_dict[\"mb_states_chern\"] = mb_states_chern"
   ]
  },
  {
   "cell_type": "code",
   "execution_count": 129,
   "id": "99f0859b",
   "metadata": {},
   "outputs": [],
   "source": [
    "param_dict[\"θθ\"] = [0, 1.1];"
   ]
  },
  {
   "cell_type": "code",
   "execution_count": 130,
   "id": "429e8cb9",
   "metadata": {},
   "outputs": [],
   "source": [
    "H_T = get_Hofstadter_hamiltonian(param_dict);\n",
    "H1 = get_sp_op(basis, H_T);\n",
    "sub_states = get_subset_states(H1, param_dict[\"sub_range\"])\n",
    "\n",
    "subspace_proj, P, Pt = get_projector_op(basis, sub_states);\n",
    "param_dict[\"projection\"] = subspace_proj, P, Pt;"
   ]
  },
  {
   "cell_type": "code",
   "execution_count": 131,
   "id": "8ba301cc",
   "metadata": {},
   "outputs": [
    {
     "data": {
      "text/plain": [
       "6-element Vector{Vector{Int64}}:\n",
       " [2, 0, 0]\n",
       " [1, 1, 0]\n",
       " [1, 0, 1]\n",
       " [0, 2, 0]\n",
       " [0, 1, 1]\n",
       " [0, 0, 2]"
      ]
     },
     "execution_count": 131,
     "metadata": {},
     "output_type": "execute_result"
    }
   ],
   "source": [
    "basis_mb = get_basis_mb(param_dict);\n",
    "param_dict[\"basis_mb\"] = basis_mb\n",
    "mb_states = bosonstates(param_dict[\"projection\"][1], param_dict[\"PN\"]);\n",
    "param_dict[\"mb_states\"] = mb_states"
   ]
  },
  {
   "cell_type": "code",
   "execution_count": 132,
   "id": "4ea969da",
   "metadata": {},
   "outputs": [
    {
     "data": {
      "text/plain": [
       "Operator(dim=3x3)\n",
       "  basis left:  Subspace(superbasis=NLevel(N=9), states:3)\n",
       "  basis right: Subspace(superbasis=NLevel(N=9), states:3)\n",
       "   0.671778+0.609258im    0.188834-0.0431921im     0.209173-0.169895im\n",
       "   -0.13417-0.139419im    0.933827-0.167325im    -0.0151595+0.0305664im\n",
       " -0.0987628-0.258509im  -0.0187952-0.00529495im    0.931108-0.20006im"
      ]
     },
     "execution_count": 132,
     "metadata": {},
     "output_type": "execute_result"
    }
   ],
   "source": [
    "param_dict[\"projection_chern\"][2]*param_dict[\"projection\"][2]'"
   ]
  },
  {
   "cell_type": "code",
   "execution_count": 133,
   "id": "1b00f22c",
   "metadata": {},
   "outputs": [
    {
     "data": {
      "text/plain": [
       "Operator(dim=3x3)\n",
       "  basis left:  Subspace(superbasis=NLevel(N=9), states:3)\n",
       "  basis right: Subspace(superbasis=NLevel(N=9), states:3)\n",
       " 0.671778-0.609258im     -0.13417+0.139419im   -0.0987628+0.258509im\n",
       " 0.188834+0.0431921im    0.933827+0.167325im   -0.0187952+0.00529495im\n",
       " 0.209173+0.169895im   -0.0151595-0.0305664im    0.931108+0.20006im"
      ]
     },
     "execution_count": 133,
     "metadata": {},
     "output_type": "execute_result"
    }
   ],
   "source": [
    "param_dict[\"projection\"][2]*param_dict[\"projection_chern\"][2]'"
   ]
  },
  {
   "cell_type": "code",
   "execution_count": 134,
   "id": "41b3ecbc",
   "metadata": {},
   "outputs": [
    {
     "data": {
      "text/plain": [
       "(Any[Any[1, 1], Any[1, 2], Any[1, 3], Any[2, 2], Any[2, 3], Any[3, 3]], Any[0.7071067811865475, 1.0, 1.0, 0.7071067811865475, 1.0, 0.7071067811865475])"
      ]
     },
     "execution_count": 134,
     "metadata": {},
     "output_type": "execute_result"
    }
   ],
   "source": [
    "get_state_list(mb_states_chern)"
   ]
  },
  {
   "cell_type": "code",
   "execution_count": 135,
   "id": "4ec47a03",
   "metadata": {},
   "outputs": [],
   "source": [
    "EEA, UUA = calc_all_states_H_mb_2(param_dict);"
   ]
  },
  {
   "cell_type": "code",
   "execution_count": 136,
   "id": "c750a4f9",
   "metadata": {},
   "outputs": [
    {
     "data": {
      "image/svg+xml": [
       "<?xml version=\"1.0\" encoding=\"utf-8\"?>\n",
       "<svg xmlns=\"http://www.w3.org/2000/svg\" xmlns:xlink=\"http://www.w3.org/1999/xlink\" width=\"600\" height=\"400\" viewBox=\"0 0 2400 1600\">\n",
       "<defs>\n",
       "  <clipPath id=\"clip550\">\n",
       "    <rect x=\"0\" y=\"0\" width=\"2400\" height=\"1600\"/>\n",
       "  </clipPath>\n",
       "</defs>\n",
       "<path clip-path=\"url(#clip550)\" d=\"M0 1600 L2400 1600 L2400 0 L0 0  Z\" fill=\"#ffffff\" fill-rule=\"evenodd\" fill-opacity=\"1\"/>\n",
       "<defs>\n",
       "  <clipPath id=\"clip551\">\n",
       "    <rect x=\"480\" y=\"0\" width=\"1681\" height=\"1600\"/>\n",
       "  </clipPath>\n",
       "</defs>\n",
       "<path clip-path=\"url(#clip550)\" d=\"M494.363 1486.45 L2352.76 1486.45 L2352.76 47.2441 L494.363 47.2441  Z\" fill=\"#ffffff\" fill-rule=\"evenodd\" fill-opacity=\"1\"/>\n",
       "<defs>\n",
       "  <clipPath id=\"clip552\">\n",
       "    <rect x=\"494\" y=\"47\" width=\"1859\" height=\"1440\"/>\n",
       "  </clipPath>\n",
       "</defs>\n",
       "<polyline clip-path=\"url(#clip552)\" style=\"stroke:#000000; stroke-linecap:round; stroke-linejoin:round; stroke-width:2; stroke-opacity:0.1; fill:none\" points=\"546.959,1450 546.959,-50 \"/>\n",
       "<polyline clip-path=\"url(#clip552)\" style=\"stroke:#000000; stroke-linecap:round; stroke-linejoin:round; stroke-width:2; stroke-opacity:0.1; fill:none\" points=\"897.599,1450 897.599,-50 \"/>\n",
       "<polyline clip-path=\"url(#clip552)\" style=\"stroke:#000000; stroke-linecap:round; stroke-linejoin:round; stroke-width:2; stroke-opacity:0.1; fill:none\" points=\"1248.24,1450 1248.24,-50 \"/>\n",
       "<polyline clip-path=\"url(#clip552)\" style=\"stroke:#000000; stroke-linecap:round; stroke-linejoin:round; stroke-width:2; stroke-opacity:0.1; fill:none\" points=\"1598.88,1450 1598.88,-50 \"/>\n",
       "<polyline clip-path=\"url(#clip552)\" style=\"stroke:#000000; stroke-linecap:round; stroke-linejoin:round; stroke-width:2; stroke-opacity:0.1; fill:none\" points=\"1949.52,1450 1949.52,-50 \"/>\n",
       "<polyline clip-path=\"url(#clip552)\" style=\"stroke:#000000; stroke-linecap:round; stroke-linejoin:round; stroke-width:2; stroke-opacity:0.1; fill:none\" points=\"2300.16,1450 2300.16,-50 \"/>\n",
       "<polyline clip-path=\"url(#clip550)\" style=\"stroke:#000000; stroke-linecap:round; stroke-linejoin:round; stroke-width:4; stroke-opacity:1; fill:none\" points=\"494.363,1450 2352.76,1450 \"/>\n",
       "<polyline clip-path=\"url(#clip550)\" style=\"stroke:#000000; stroke-linecap:round; stroke-linejoin:round; stroke-width:4; stroke-opacity:1; fill:none\" points=\"546.959,1450 546.959,1450 \"/>\n",
       "<polyline clip-path=\"url(#clip550)\" style=\"stroke:#000000; stroke-linecap:round; stroke-linejoin:round; stroke-width:4; stroke-opacity:1; fill:none\" points=\"897.599,1450 897.599,1450 \"/>\n",
       "<polyline clip-path=\"url(#clip550)\" style=\"stroke:#000000; stroke-linecap:round; stroke-linejoin:round; stroke-width:4; stroke-opacity:1; fill:none\" points=\"1248.24,1450 1248.24,1450 \"/>\n",
       "<polyline clip-path=\"url(#clip550)\" style=\"stroke:#000000; stroke-linecap:round; stroke-linejoin:round; stroke-width:4; stroke-opacity:1; fill:none\" points=\"1598.88,1450 1598.88,1450 \"/>\n",
       "<polyline clip-path=\"url(#clip550)\" style=\"stroke:#000000; stroke-linecap:round; stroke-linejoin:round; stroke-width:4; stroke-opacity:1; fill:none\" points=\"1949.52,1450 1949.52,1450 \"/>\n",
       "<polyline clip-path=\"url(#clip550)\" style=\"stroke:#000000; stroke-linecap:round; stroke-linejoin:round; stroke-width:4; stroke-opacity:1; fill:none\" points=\"2300.16,1450 2300.16,1450 \"/>\n",
       "<path clip-path=\"url(#clip550)\" d=\"M537.341 1508.46 L544.98 1508.46 L544.98 1482.1 L536.669 1483.77 L536.669 1479.51 L544.933 1477.84 L549.609 1477.84 L549.609 1508.46 L557.248 1508.46 L557.248 1512.4 L537.341 1512.4 L537.341 1508.46 Z\" fill=\"#000000\" fill-rule=\"nonzero\" fill-opacity=\"1\" /><path clip-path=\"url(#clip550)\" d=\"M892.252 1508.46 L908.571 1508.46 L908.571 1512.4 L886.627 1512.4 L886.627 1508.46 Q889.289 1505.71 893.872 1501.08 Q898.479 1496.43 899.659 1495.09 Q901.904 1492.56 902.784 1490.83 Q903.687 1489.07 903.687 1487.38 Q903.687 1484.62 901.742 1482.89 Q899.821 1481.15 896.719 1481.15 Q894.52 1481.15 892.067 1481.91 Q889.636 1482.68 886.858 1484.23 L886.858 1479.51 Q889.682 1478.37 892.136 1477.79 Q894.59 1477.22 896.627 1477.22 Q901.997 1477.22 905.191 1479.9 Q908.386 1482.59 908.386 1487.08 Q908.386 1489.21 907.576 1491.13 Q906.789 1493.03 904.682 1495.62 Q904.104 1496.29 901.002 1499.51 Q897.9 1502.7 892.252 1508.46 Z\" fill=\"#000000\" fill-rule=\"nonzero\" fill-opacity=\"1\" /><path clip-path=\"url(#clip550)\" d=\"M1252.49 1493.77 Q1255.84 1494.48 1257.72 1496.75 Q1259.62 1499.02 1259.62 1502.35 Q1259.62 1507.47 1256.1 1510.27 Q1252.58 1513.07 1246.1 1513.07 Q1243.92 1513.07 1241.61 1512.63 Q1239.32 1512.21 1236.86 1511.36 L1236.86 1506.84 Q1238.81 1507.98 1241.12 1508.56 Q1243.44 1509.14 1245.96 1509.14 Q1250.36 1509.14 1252.65 1507.4 Q1254.96 1505.66 1254.96 1502.35 Q1254.96 1499.3 1252.81 1497.59 Q1250.68 1495.85 1246.86 1495.85 L1242.83 1495.85 L1242.83 1492.01 L1247.05 1492.01 Q1250.5 1492.01 1252.32 1490.64 Q1254.15 1489.25 1254.15 1486.66 Q1254.15 1484 1252.26 1482.59 Q1250.38 1481.15 1246.86 1481.15 Q1244.94 1481.15 1242.74 1481.57 Q1240.54 1481.98 1237.9 1482.86 L1237.9 1478.7 Q1240.57 1477.96 1242.88 1477.59 Q1245.22 1477.22 1247.28 1477.22 Q1252.6 1477.22 1255.7 1479.65 Q1258.81 1482.05 1258.81 1486.17 Q1258.81 1489.04 1257.16 1491.03 Q1255.52 1493 1252.49 1493.77 Z\" fill=\"#000000\" fill-rule=\"nonzero\" fill-opacity=\"1\" /><path clip-path=\"url(#clip550)\" d=\"M1601.89 1481.91 L1590.08 1500.36 L1601.89 1500.36 L1601.89 1481.91 M1600.66 1477.84 L1606.54 1477.84 L1606.54 1500.36 L1611.47 1500.36 L1611.47 1504.25 L1606.54 1504.25 L1606.54 1512.4 L1601.89 1512.4 L1601.89 1504.25 L1586.29 1504.25 L1586.29 1499.74 L1600.66 1477.84 Z\" fill=\"#000000\" fill-rule=\"nonzero\" fill-opacity=\"1\" /><path clip-path=\"url(#clip550)\" d=\"M1939.8 1477.84 L1958.15 1477.84 L1958.15 1481.78 L1944.08 1481.78 L1944.08 1490.25 Q1945.1 1489.9 1946.12 1489.74 Q1947.14 1489.55 1948.15 1489.55 Q1953.94 1489.55 1957.32 1492.72 Q1960.7 1495.9 1960.7 1501.31 Q1960.7 1506.89 1957.23 1509.99 Q1953.76 1513.07 1947.44 1513.07 Q1945.26 1513.07 1942.99 1512.7 Q1940.75 1512.33 1938.34 1511.59 L1938.34 1506.89 Q1940.42 1508.03 1942.64 1508.58 Q1944.87 1509.14 1947.34 1509.14 Q1951.35 1509.14 1953.69 1507.03 Q1956.02 1504.92 1956.02 1501.31 Q1956.02 1497.7 1953.69 1495.59 Q1951.35 1493.49 1947.34 1493.49 Q1945.47 1493.49 1943.59 1493.9 Q1941.74 1494.32 1939.8 1495.2 L1939.8 1477.84 Z\" fill=\"#000000\" fill-rule=\"nonzero\" fill-opacity=\"1\" /><path clip-path=\"url(#clip550)\" d=\"M2300.56 1493.26 Q2297.42 1493.26 2295.56 1495.41 Q2293.74 1497.56 2293.74 1501.31 Q2293.74 1505.04 2295.56 1507.21 Q2297.42 1509.37 2300.56 1509.37 Q2303.71 1509.37 2305.54 1507.21 Q2307.39 1505.04 2307.39 1501.31 Q2307.39 1497.56 2305.54 1495.41 Q2303.71 1493.26 2300.56 1493.26 M2309.85 1478.6 L2309.85 1482.86 Q2308.09 1482.03 2306.28 1481.59 Q2304.5 1481.15 2302.74 1481.15 Q2298.11 1481.15 2295.66 1484.28 Q2293.23 1487.4 2292.88 1493.72 Q2294.25 1491.71 2296.31 1490.64 Q2298.37 1489.55 2300.84 1489.55 Q2306.05 1489.55 2309.06 1492.72 Q2312.09 1495.87 2312.09 1501.31 Q2312.09 1506.64 2308.94 1509.85 Q2305.8 1513.07 2300.56 1513.07 Q2294.57 1513.07 2291.4 1508.49 Q2288.23 1503.88 2288.23 1495.15 Q2288.23 1486.96 2292.12 1482.1 Q2296 1477.22 2302.56 1477.22 Q2304.31 1477.22 2306.1 1477.56 Q2307.9 1477.91 2309.85 1478.6 Z\" fill=\"#000000\" fill-rule=\"nonzero\" fill-opacity=\"1\" /><polyline clip-path=\"url(#clip552)\" style=\"stroke:#000000; stroke-linecap:round; stroke-linejoin:round; stroke-width:2; stroke-opacity:0.1; fill:none\" points=\"494.363,1450 2352.76,1450 \"/>\n",
       "<polyline clip-path=\"url(#clip552)\" style=\"stroke:#000000; stroke-linecap:round; stroke-linejoin:round; stroke-width:2; stroke-opacity:0.1; fill:none\" points=\"494.363,1150 2352.76,1150 \"/>\n",
       "<polyline clip-path=\"url(#clip552)\" style=\"stroke:#000000; stroke-linecap:round; stroke-linejoin:round; stroke-width:2; stroke-opacity:0.1; fill:none\" points=\"494.363,700 2352.76,700 \"/>\n",
       "<polyline clip-path=\"url(#clip552)\" style=\"stroke:#000000; stroke-linecap:round; stroke-linejoin:round; stroke-width:2; stroke-opacity:0.1; fill:none\" points=\"494.363,250 2352.76,250 \"/>\n",
       "<polyline clip-path=\"url(#clip550)\" style=\"stroke:#000000; stroke-linecap:round; stroke-linejoin:round; stroke-width:4; stroke-opacity:1; fill:none\" points=\"494.363,1450 494.363,-50 \"/>\n",
       "<polyline clip-path=\"url(#clip550)\" style=\"stroke:#000000; stroke-linecap:round; stroke-linejoin:round; stroke-width:4; stroke-opacity:1; fill:none\" points=\"494.363,1450 513.26,1450 \"/>\n",
       "<polyline clip-path=\"url(#clip550)\" style=\"stroke:#000000; stroke-linecap:round; stroke-linejoin:round; stroke-width:4; stroke-opacity:1; fill:none\" points=\"494.363,1150 513.26,1150 \"/>\n",
       "<polyline clip-path=\"url(#clip550)\" style=\"stroke:#000000; stroke-linecap:round; stroke-linejoin:round; stroke-width:4; stroke-opacity:1; fill:none\" points=\"494.363,700 513.26,700 \"/>\n",
       "<polyline clip-path=\"url(#clip550)\" style=\"stroke:#000000; stroke-linecap:round; stroke-linejoin:round; stroke-width:4; stroke-opacity:1; fill:none\" points=\"494.363,250 513.26,250 \"/>\n",
       "<path clip-path=\"url(#clip550)\" d=\"M50.9921 1456.9 L80.6679 1456.9 L80.6679 1460.83 L50.9921 1460.83 L50.9921 1456.9 Z\" fill=\"#000000\" fill-rule=\"nonzero\" fill-opacity=\"1\" /><path clip-path=\"url(#clip550)\" d=\"M90.8067 1439.17 L109.163 1439.17 L109.163 1443.1 L95.0891 1443.1 L95.0891 1451.57 Q96.1076 1451.23 97.1261 1451.07 Q98.1447 1450.88 99.1632 1450.88 Q104.95 1450.88 108.33 1454.05 Q111.709 1457.22 111.709 1462.64 Q111.709 1468.22 108.237 1471.32 Q104.765 1474.4 98.4456 1474.4 Q96.2697 1474.4 94.0012 1474.03 Q91.7558 1473.66 89.3484 1472.92 L89.3484 1468.22 Q91.4317 1469.35 93.6539 1469.91 Q95.8761 1470.46 98.353 1470.46 Q102.358 1470.46 104.696 1468.36 Q107.033 1466.25 107.033 1462.64 Q107.033 1459.03 104.696 1456.92 Q102.358 1454.82 98.353 1454.82 Q96.478 1454.82 94.603 1455.23 Q92.7512 1455.65 90.8067 1456.53 L90.8067 1439.17 Z\" fill=\"#000000\" fill-rule=\"nonzero\" fill-opacity=\"1\" /><path clip-path=\"url(#clip550)\" d=\"M120.922 1467.85 L125.807 1467.85 L125.807 1473.73 L120.922 1473.73 L120.922 1467.85 Z\" fill=\"#000000\" fill-rule=\"nonzero\" fill-opacity=\"1\" /><path clip-path=\"url(#clip550)\" d=\"M148.839 1443.24 L137.033 1461.69 L148.839 1461.69 L148.839 1443.24 M147.612 1439.17 L153.492 1439.17 L153.492 1461.69 L158.422 1461.69 L158.422 1465.58 L153.492 1465.58 L153.492 1473.73 L148.839 1473.73 L148.839 1465.58 L133.237 1465.58 L133.237 1461.07 L147.612 1439.17 Z\" fill=\"#000000\" fill-rule=\"nonzero\" fill-opacity=\"1\" /><path clip-path=\"url(#clip550)\" d=\"M176.732 1454.58 Q173.584 1454.58 171.732 1456.74 Q169.904 1458.89 169.904 1462.64 Q169.904 1466.37 171.732 1468.54 Q173.584 1470.7 176.732 1470.7 Q179.88 1470.7 181.709 1468.54 Q183.561 1466.37 183.561 1462.64 Q183.561 1458.89 181.709 1456.74 Q179.88 1454.58 176.732 1454.58 M186.015 1439.93 L186.015 1444.19 Q184.255 1443.36 182.45 1442.92 Q180.667 1442.48 178.908 1442.48 Q174.279 1442.48 171.825 1445.6 Q169.394 1448.73 169.047 1455.05 Q170.413 1453.03 172.473 1451.97 Q174.533 1450.88 177.01 1450.88 Q182.218 1450.88 185.228 1454.05 Q188.26 1457.2 188.26 1462.64 Q188.26 1467.96 185.112 1471.18 Q181.964 1474.4 176.732 1474.4 Q170.737 1474.4 167.566 1469.82 Q164.394 1465.21 164.394 1456.48 Q164.394 1448.29 168.283 1443.43 Q172.172 1438.54 178.723 1438.54 Q180.482 1438.54 182.265 1438.89 Q184.07 1439.24 186.015 1439.93 Z\" fill=\"#000000\" fill-rule=\"nonzero\" fill-opacity=\"1\" /><path clip-path=\"url(#clip550)\" d=\"M209.163 1443.24 L197.357 1461.69 L209.163 1461.69 L209.163 1443.24 M207.936 1439.17 L213.815 1439.17 L213.815 1461.69 L218.746 1461.69 L218.746 1465.58 L213.815 1465.58 L213.815 1473.73 L209.163 1473.73 L209.163 1465.58 L193.561 1465.58 L193.561 1461.07 L207.936 1439.17 Z\" fill=\"#000000\" fill-rule=\"nonzero\" fill-opacity=\"1\" /><path clip-path=\"url(#clip550)\" d=\"M227.287 1469.79 L234.926 1469.79 L234.926 1443.43 L226.616 1445.09 L226.616 1440.83 L234.88 1439.17 L239.556 1439.17 L239.556 1469.79 L247.195 1469.79 L247.195 1473.73 L227.287 1473.73 L227.287 1469.79 Z\" fill=\"#000000\" fill-rule=\"nonzero\" fill-opacity=\"1\" /><path clip-path=\"url(#clip550)\" d=\"M266.639 1442.25 Q263.028 1442.25 261.199 1445.81 Q259.394 1449.35 259.394 1456.48 Q259.394 1463.59 261.199 1467.15 Q263.028 1470.7 266.639 1470.7 Q270.273 1470.7 272.079 1467.15 Q273.908 1463.59 273.908 1456.48 Q273.908 1449.35 272.079 1445.81 Q270.273 1442.25 266.639 1442.25 M266.639 1438.54 Q272.449 1438.54 275.505 1443.15 Q278.583 1447.73 278.583 1456.48 Q278.583 1465.21 275.505 1469.82 Q272.449 1474.4 266.639 1474.4 Q260.829 1474.4 257.75 1469.82 Q254.695 1465.21 254.695 1456.48 Q254.695 1447.73 257.75 1443.15 Q260.829 1438.54 266.639 1438.54 Z\" fill=\"#000000\" fill-rule=\"nonzero\" fill-opacity=\"1\" /><path clip-path=\"url(#clip550)\" d=\"M287.611 1469.79 L295.25 1469.79 L295.25 1443.43 L286.94 1445.09 L286.94 1440.83 L295.204 1439.17 L299.88 1439.17 L299.88 1469.79 L307.519 1469.79 L307.519 1473.73 L287.611 1473.73 L287.611 1469.79 Z\" fill=\"#000000\" fill-rule=\"nonzero\" fill-opacity=\"1\" /><path clip-path=\"url(#clip550)\" d=\"M327.542 1454.58 Q324.393 1454.58 322.542 1456.74 Q320.713 1458.89 320.713 1462.64 Q320.713 1466.37 322.542 1468.54 Q324.393 1470.7 327.542 1470.7 Q330.69 1470.7 332.518 1468.54 Q334.37 1466.37 334.37 1462.64 Q334.37 1458.89 332.518 1456.74 Q330.69 1454.58 327.542 1454.58 M336.824 1439.93 L336.824 1444.19 Q335.065 1443.36 333.259 1442.92 Q331.477 1442.48 329.717 1442.48 Q325.088 1442.48 322.634 1445.6 Q320.204 1448.73 319.856 1455.05 Q321.222 1453.03 323.282 1451.97 Q325.343 1450.88 327.819 1450.88 Q333.028 1450.88 336.037 1454.05 Q339.069 1457.2 339.069 1462.64 Q339.069 1467.96 335.921 1471.18 Q332.773 1474.4 327.542 1474.4 Q321.546 1474.4 318.375 1469.82 Q315.204 1465.21 315.204 1456.48 Q315.204 1448.29 319.093 1443.43 Q322.981 1438.54 329.532 1438.54 Q331.292 1438.54 333.074 1438.89 Q334.879 1439.24 336.824 1439.93 Z\" fill=\"#000000\" fill-rule=\"nonzero\" fill-opacity=\"1\" /><path clip-path=\"url(#clip550)\" d=\"M375.296 1448.26 L364.717 1458.89 L375.296 1469.47 L372.541 1472.27 L361.916 1461.64 L351.291 1472.27 L348.56 1469.47 L359.115 1458.89 L348.56 1448.26 L351.291 1445.46 L361.916 1456.09 L372.541 1445.46 L375.296 1448.26 Z\" fill=\"#000000\" fill-rule=\"nonzero\" fill-opacity=\"1\" /><path clip-path=\"url(#clip550)\" d=\"M387.657 1469.79 L395.296 1469.79 L395.296 1443.43 L386.986 1445.09 L386.986 1440.83 L395.25 1439.17 L399.925 1439.17 L399.925 1469.79 L407.564 1469.79 L407.564 1473.73 L387.657 1473.73 L387.657 1469.79 Z\" fill=\"#000000\" fill-rule=\"nonzero\" fill-opacity=\"1\" /><path clip-path=\"url(#clip550)\" d=\"M427.009 1442.25 Q423.398 1442.25 421.569 1445.81 Q419.763 1449.35 419.763 1456.48 Q419.763 1463.59 421.569 1467.15 Q423.398 1470.7 427.009 1470.7 Q430.643 1470.7 432.448 1467.15 Q434.277 1463.59 434.277 1456.48 Q434.277 1449.35 432.448 1445.81 Q430.643 1442.25 427.009 1442.25 M427.009 1438.54 Q432.819 1438.54 435.874 1443.15 Q438.953 1447.73 438.953 1456.48 Q438.953 1465.21 435.874 1469.82 Q432.819 1474.4 427.009 1474.4 Q421.198 1474.4 418.12 1469.82 Q415.064 1465.21 415.064 1456.48 Q415.064 1447.73 418.12 1443.15 Q421.198 1438.54 427.009 1438.54 Z\" fill=\"#000000\" fill-rule=\"nonzero\" fill-opacity=\"1\" /><path clip-path=\"url(#clip550)\" d=\"M448.658 1420.74 Q445.724 1420.74 444.238 1423.64 Q442.771 1426.51 442.771 1432.31 Q442.771 1438.08 444.238 1440.98 Q445.724 1443.85 448.658 1443.85 Q451.611 1443.85 453.078 1440.98 Q454.563 1438.08 454.563 1432.31 Q454.563 1426.51 453.078 1423.64 Q451.611 1420.74 448.658 1420.74 M448.658 1417.73 Q453.379 1417.73 455.861 1421.47 Q458.363 1425.2 458.363 1432.31 Q458.363 1439.4 455.861 1443.14 Q453.379 1446.86 448.658 1446.86 Q443.937 1446.86 441.436 1443.14 Q438.953 1439.4 438.953 1432.31 Q438.953 1425.2 441.436 1421.47 Q443.937 1417.73 448.658 1417.73 Z\" fill=\"#000000\" fill-rule=\"nonzero\" fill-opacity=\"1\" /><path clip-path=\"url(#clip550)\" d=\"M50.9921 1156.9 L80.6679 1156.9 L80.6679 1160.83 L50.9921 1160.83 L50.9921 1156.9 Z\" fill=\"#000000\" fill-rule=\"nonzero\" fill-opacity=\"1\" /><path clip-path=\"url(#clip550)\" d=\"M90.8067 1139.17 L109.163 1139.17 L109.163 1143.1 L95.0891 1143.1 L95.0891 1151.57 Q96.1076 1151.23 97.1261 1151.07 Q98.1447 1150.88 99.1632 1150.88 Q104.95 1150.88 108.33 1154.05 Q111.709 1157.22 111.709 1162.64 Q111.709 1168.22 108.237 1171.32 Q104.765 1174.4 98.4456 1174.4 Q96.2697 1174.4 94.0012 1174.03 Q91.7558 1173.66 89.3484 1172.92 L89.3484 1168.22 Q91.4317 1169.35 93.6539 1169.91 Q95.8761 1170.46 98.353 1170.46 Q102.358 1170.46 104.696 1168.36 Q107.033 1166.25 107.033 1162.64 Q107.033 1159.03 104.696 1156.92 Q102.358 1154.82 98.353 1154.82 Q96.478 1154.82 94.603 1155.23 Q92.7512 1155.65 90.8067 1156.53 L90.8067 1139.17 Z\" fill=\"#000000\" fill-rule=\"nonzero\" fill-opacity=\"1\" /><path clip-path=\"url(#clip550)\" d=\"M120.922 1167.85 L125.807 1167.85 L125.807 1173.73 L120.922 1173.73 L120.922 1167.85 Z\" fill=\"#000000\" fill-rule=\"nonzero\" fill-opacity=\"1\" /><path clip-path=\"url(#clip550)\" d=\"M148.839 1143.24 L137.033 1161.69 L148.839 1161.69 L148.839 1143.24 M147.612 1139.17 L153.492 1139.17 L153.492 1161.69 L158.422 1161.69 L158.422 1165.58 L153.492 1165.58 L153.492 1173.73 L148.839 1173.73 L148.839 1165.58 L133.237 1165.58 L133.237 1161.07 L147.612 1139.17 Z\" fill=\"#000000\" fill-rule=\"nonzero\" fill-opacity=\"1\" /><path clip-path=\"url(#clip550)\" d=\"M176.732 1154.58 Q173.584 1154.58 171.732 1156.74 Q169.904 1158.89 169.904 1162.64 Q169.904 1166.37 171.732 1168.54 Q173.584 1170.7 176.732 1170.7 Q179.88 1170.7 181.709 1168.54 Q183.561 1166.37 183.561 1162.64 Q183.561 1158.89 181.709 1156.74 Q179.88 1154.58 176.732 1154.58 M186.015 1139.93 L186.015 1144.19 Q184.255 1143.36 182.45 1142.92 Q180.667 1142.48 178.908 1142.48 Q174.279 1142.48 171.825 1145.6 Q169.394 1148.73 169.047 1155.05 Q170.413 1153.03 172.473 1151.97 Q174.533 1150.88 177.01 1150.88 Q182.218 1150.88 185.228 1154.05 Q188.26 1157.2 188.26 1162.64 Q188.26 1167.96 185.112 1171.18 Q181.964 1174.4 176.732 1174.4 Q170.737 1174.4 167.566 1169.82 Q164.394 1165.21 164.394 1156.48 Q164.394 1148.29 168.283 1143.43 Q172.172 1138.54 178.723 1138.54 Q180.482 1138.54 182.265 1138.89 Q184.07 1139.24 186.015 1139.93 Z\" fill=\"#000000\" fill-rule=\"nonzero\" fill-opacity=\"1\" /><path clip-path=\"url(#clip550)\" d=\"M209.163 1143.24 L197.357 1161.69 L209.163 1161.69 L209.163 1143.24 M207.936 1139.17 L213.815 1139.17 L213.815 1161.69 L218.746 1161.69 L218.746 1165.58 L213.815 1165.58 L213.815 1173.73 L209.163 1173.73 L209.163 1165.58 L193.561 1165.58 L193.561 1161.07 L207.936 1139.17 Z\" fill=\"#000000\" fill-rule=\"nonzero\" fill-opacity=\"1\" /><path clip-path=\"url(#clip550)\" d=\"M227.287 1169.79 L234.926 1169.79 L234.926 1143.43 L226.616 1145.09 L226.616 1140.83 L234.88 1139.17 L239.556 1139.17 L239.556 1169.79 L247.195 1169.79 L247.195 1173.73 L227.287 1173.73 L227.287 1169.79 Z\" fill=\"#000000\" fill-rule=\"nonzero\" fill-opacity=\"1\" /><path clip-path=\"url(#clip550)\" d=\"M266.639 1142.25 Q263.028 1142.25 261.199 1145.81 Q259.394 1149.35 259.394 1156.48 Q259.394 1163.59 261.199 1167.15 Q263.028 1170.7 266.639 1170.7 Q270.273 1170.7 272.079 1167.15 Q273.908 1163.59 273.908 1156.48 Q273.908 1149.35 272.079 1145.81 Q270.273 1142.25 266.639 1142.25 M266.639 1138.54 Q272.449 1138.54 275.505 1143.15 Q278.583 1147.73 278.583 1156.48 Q278.583 1165.21 275.505 1169.82 Q272.449 1174.4 266.639 1174.4 Q260.829 1174.4 257.75 1169.82 Q254.695 1165.21 254.695 1156.48 Q254.695 1147.73 257.75 1143.15 Q260.829 1138.54 266.639 1138.54 Z\" fill=\"#000000\" fill-rule=\"nonzero\" fill-opacity=\"1\" /><path clip-path=\"url(#clip550)\" d=\"M287.611 1169.79 L295.25 1169.79 L295.25 1143.43 L286.94 1145.09 L286.94 1140.83 L295.204 1139.17 L299.88 1139.17 L299.88 1169.79 L307.519 1169.79 L307.519 1173.73 L287.611 1173.73 L287.611 1169.79 Z\" fill=\"#000000\" fill-rule=\"nonzero\" fill-opacity=\"1\" /><path clip-path=\"url(#clip550)\" d=\"M327.542 1154.58 Q324.393 1154.58 322.542 1156.74 Q320.713 1158.89 320.713 1162.64 Q320.713 1166.37 322.542 1168.54 Q324.393 1170.7 327.542 1170.7 Q330.69 1170.7 332.518 1168.54 Q334.37 1166.37 334.37 1162.64 Q334.37 1158.89 332.518 1156.74 Q330.69 1154.58 327.542 1154.58 M336.824 1139.93 L336.824 1144.19 Q335.065 1143.36 333.259 1142.92 Q331.477 1142.48 329.717 1142.48 Q325.088 1142.48 322.634 1145.6 Q320.204 1148.73 319.856 1155.05 Q321.222 1153.03 323.282 1151.97 Q325.343 1150.88 327.819 1150.88 Q333.028 1150.88 336.037 1154.05 Q339.069 1157.2 339.069 1162.64 Q339.069 1167.96 335.921 1171.18 Q332.773 1174.4 327.542 1174.4 Q321.546 1174.4 318.375 1169.82 Q315.204 1165.21 315.204 1156.48 Q315.204 1148.29 319.093 1143.43 Q322.981 1138.54 329.532 1138.54 Q331.292 1138.54 333.074 1138.89 Q334.879 1139.24 336.824 1139.93 Z\" fill=\"#000000\" fill-rule=\"nonzero\" fill-opacity=\"1\" /><path clip-path=\"url(#clip550)\" d=\"M375.296 1148.26 L364.717 1158.89 L375.296 1169.47 L372.541 1172.27 L361.916 1161.64 L351.291 1172.27 L348.56 1169.47 L359.115 1158.89 L348.56 1148.26 L351.291 1145.46 L361.916 1156.09 L372.541 1145.46 L375.296 1148.26 Z\" fill=\"#000000\" fill-rule=\"nonzero\" fill-opacity=\"1\" /><path clip-path=\"url(#clip550)\" d=\"M387.657 1169.79 L395.296 1169.79 L395.296 1143.43 L386.986 1145.09 L386.986 1140.83 L395.25 1139.17 L399.925 1139.17 L399.925 1169.79 L407.564 1169.79 L407.564 1173.73 L387.657 1173.73 L387.657 1169.79 Z\" fill=\"#000000\" fill-rule=\"nonzero\" fill-opacity=\"1\" /><path clip-path=\"url(#clip550)\" d=\"M427.009 1142.25 Q423.398 1142.25 421.569 1145.81 Q419.763 1149.35 419.763 1156.48 Q419.763 1163.59 421.569 1167.15 Q423.398 1170.7 427.009 1170.7 Q430.643 1170.7 432.448 1167.15 Q434.277 1163.59 434.277 1156.48 Q434.277 1149.35 432.448 1145.81 Q430.643 1142.25 427.009 1142.25 M427.009 1138.54 Q432.819 1138.54 435.874 1143.15 Q438.953 1147.73 438.953 1156.48 Q438.953 1165.21 435.874 1169.82 Q432.819 1174.4 427.009 1174.4 Q421.198 1174.4 418.12 1169.82 Q415.064 1165.21 415.064 1156.48 Q415.064 1147.73 418.12 1143.15 Q421.198 1138.54 427.009 1138.54 Z\" fill=\"#000000\" fill-rule=\"nonzero\" fill-opacity=\"1\" /><path clip-path=\"url(#clip550)\" d=\"M448.658 1120.74 Q445.724 1120.74 444.238 1123.64 Q442.771 1126.51 442.771 1132.31 Q442.771 1138.08 444.238 1140.98 Q445.724 1143.85 448.658 1143.85 Q451.611 1143.85 453.078 1140.98 Q454.563 1138.08 454.563 1132.31 Q454.563 1126.51 453.078 1123.64 Q451.611 1120.74 448.658 1120.74 M448.658 1117.73 Q453.379 1117.73 455.861 1121.47 Q458.363 1125.2 458.363 1132.31 Q458.363 1139.4 455.861 1143.14 Q453.379 1146.86 448.658 1146.86 Q443.937 1146.86 441.436 1143.14 Q438.953 1139.4 438.953 1132.31 Q438.953 1125.2 441.436 1121.47 Q443.937 1117.73 448.658 1117.73 Z\" fill=\"#000000\" fill-rule=\"nonzero\" fill-opacity=\"1\" /><path clip-path=\"url(#clip550)\" d=\"M50.9921 706.899 L80.6679 706.899 L80.6679 710.834 L50.9921 710.834 L50.9921 706.899 Z\" fill=\"#000000\" fill-rule=\"nonzero\" fill-opacity=\"1\" /><path clip-path=\"url(#clip550)\" d=\"M90.8067 689.168 L109.163 689.168 L109.163 693.103 L95.0891 693.103 L95.0891 701.575 Q96.1076 701.228 97.1261 701.066 Q98.1447 700.881 99.1632 700.881 Q104.95 700.881 108.33 704.052 Q111.709 707.223 111.709 712.64 Q111.709 718.218 108.237 721.32 Q104.765 724.399 98.4456 724.399 Q96.2697 724.399 94.0012 724.029 Q91.7558 723.658 89.3484 722.917 L89.3484 718.218 Q91.4317 719.353 93.6539 719.908 Q95.8761 720.464 98.353 720.464 Q102.358 720.464 104.696 718.357 Q107.033 716.251 107.033 712.64 Q107.033 709.029 104.696 706.922 Q102.358 704.816 98.353 704.816 Q96.478 704.816 94.603 705.232 Q92.7512 705.649 90.8067 706.529 L90.8067 689.168 Z\" fill=\"#000000\" fill-rule=\"nonzero\" fill-opacity=\"1\" /><path clip-path=\"url(#clip550)\" d=\"M120.922 717.848 L125.807 717.848 L125.807 723.728 L120.922 723.728 L120.922 717.848 Z\" fill=\"#000000\" fill-rule=\"nonzero\" fill-opacity=\"1\" /><path clip-path=\"url(#clip550)\" d=\"M148.839 693.242 L137.033 711.691 L148.839 711.691 L148.839 693.242 M147.612 689.168 L153.492 689.168 L153.492 711.691 L158.422 711.691 L158.422 715.579 L153.492 715.579 L153.492 723.728 L148.839 723.728 L148.839 715.579 L133.237 715.579 L133.237 711.066 L147.612 689.168 Z\" fill=\"#000000\" fill-rule=\"nonzero\" fill-opacity=\"1\" /><path clip-path=\"url(#clip550)\" d=\"M176.732 704.584 Q173.584 704.584 171.732 706.737 Q169.904 708.89 169.904 712.64 Q169.904 716.367 171.732 718.542 Q173.584 720.695 176.732 720.695 Q179.88 720.695 181.709 718.542 Q183.561 716.367 183.561 712.64 Q183.561 708.89 181.709 706.737 Q179.88 704.584 176.732 704.584 M186.015 689.931 L186.015 694.191 Q184.255 693.357 182.45 692.918 Q180.667 692.478 178.908 692.478 Q174.279 692.478 171.825 695.603 Q169.394 698.728 169.047 705.047 Q170.413 703.033 172.473 701.968 Q174.533 700.881 177.01 700.881 Q182.218 700.881 185.228 704.052 Q188.26 707.2 188.26 712.64 Q188.26 717.964 185.112 721.181 Q181.964 724.399 176.732 724.399 Q170.737 724.399 167.566 719.816 Q164.394 715.209 164.394 706.482 Q164.394 698.288 168.283 693.427 Q172.172 688.543 178.723 688.543 Q180.482 688.543 182.265 688.89 Q184.07 689.237 186.015 689.931 Z\" fill=\"#000000\" fill-rule=\"nonzero\" fill-opacity=\"1\" /><path clip-path=\"url(#clip550)\" d=\"M209.163 693.242 L197.357 711.691 L209.163 711.691 L209.163 693.242 M207.936 689.168 L213.815 689.168 L213.815 711.691 L218.746 711.691 L218.746 715.579 L213.815 715.579 L213.815 723.728 L209.163 723.728 L209.163 715.579 L193.561 715.579 L193.561 711.066 L207.936 689.168 Z\" fill=\"#000000\" fill-rule=\"nonzero\" fill-opacity=\"1\" /><path clip-path=\"url(#clip550)\" d=\"M227.287 719.792 L234.926 719.792 L234.926 693.427 L226.616 695.093 L226.616 690.834 L234.88 689.168 L239.556 689.168 L239.556 719.792 L247.195 719.792 L247.195 723.728 L227.287 723.728 L227.287 719.792 Z\" fill=\"#000000\" fill-rule=\"nonzero\" fill-opacity=\"1\" /><path clip-path=\"url(#clip550)\" d=\"M266.639 692.246 Q263.028 692.246 261.199 695.811 Q259.394 699.353 259.394 706.482 Q259.394 713.589 261.199 717.154 Q263.028 720.695 266.639 720.695 Q270.273 720.695 272.079 717.154 Q273.908 713.589 273.908 706.482 Q273.908 699.353 272.079 695.811 Q270.273 692.246 266.639 692.246 M266.639 688.543 Q272.449 688.543 275.505 693.149 Q278.583 697.732 278.583 706.482 Q278.583 715.209 275.505 719.816 Q272.449 724.399 266.639 724.399 Q260.829 724.399 257.75 719.816 Q254.695 715.209 254.695 706.482 Q254.695 697.732 257.75 693.149 Q260.829 688.543 266.639 688.543 Z\" fill=\"#000000\" fill-rule=\"nonzero\" fill-opacity=\"1\" /><path clip-path=\"url(#clip550)\" d=\"M287.611 719.792 L295.25 719.792 L295.25 693.427 L286.94 695.093 L286.94 690.834 L295.204 689.168 L299.88 689.168 L299.88 719.792 L307.519 719.792 L307.519 723.728 L287.611 723.728 L287.611 719.792 Z\" fill=\"#000000\" fill-rule=\"nonzero\" fill-opacity=\"1\" /><path clip-path=\"url(#clip550)\" d=\"M327.542 704.584 Q324.393 704.584 322.542 706.737 Q320.713 708.89 320.713 712.64 Q320.713 716.367 322.542 718.542 Q324.393 720.695 327.542 720.695 Q330.69 720.695 332.518 718.542 Q334.37 716.367 334.37 712.64 Q334.37 708.89 332.518 706.737 Q330.69 704.584 327.542 704.584 M336.824 689.931 L336.824 694.191 Q335.065 693.357 333.259 692.918 Q331.477 692.478 329.717 692.478 Q325.088 692.478 322.634 695.603 Q320.204 698.728 319.856 705.047 Q321.222 703.033 323.282 701.968 Q325.343 700.881 327.819 700.881 Q333.028 700.881 336.037 704.052 Q339.069 707.2 339.069 712.64 Q339.069 717.964 335.921 721.181 Q332.773 724.399 327.542 724.399 Q321.546 724.399 318.375 719.816 Q315.204 715.209 315.204 706.482 Q315.204 698.288 319.093 693.427 Q322.981 688.543 329.532 688.543 Q331.292 688.543 333.074 688.89 Q334.879 689.237 336.824 689.931 Z\" fill=\"#000000\" fill-rule=\"nonzero\" fill-opacity=\"1\" /><path clip-path=\"url(#clip550)\" d=\"M375.296 698.265 L364.717 708.89 L375.296 719.468 L372.541 722.269 L361.916 711.644 L351.291 722.269 L348.56 719.468 L359.115 708.89 L348.56 698.265 L351.291 695.464 L361.916 706.089 L372.541 695.464 L375.296 698.265 Z\" fill=\"#000000\" fill-rule=\"nonzero\" fill-opacity=\"1\" /><path clip-path=\"url(#clip550)\" d=\"M387.657 719.792 L395.296 719.792 L395.296 693.427 L386.986 695.093 L386.986 690.834 L395.25 689.168 L399.925 689.168 L399.925 719.792 L407.564 719.792 L407.564 723.728 L387.657 723.728 L387.657 719.792 Z\" fill=\"#000000\" fill-rule=\"nonzero\" fill-opacity=\"1\" /><path clip-path=\"url(#clip550)\" d=\"M427.009 692.246 Q423.398 692.246 421.569 695.811 Q419.763 699.353 419.763 706.482 Q419.763 713.589 421.569 717.154 Q423.398 720.695 427.009 720.695 Q430.643 720.695 432.448 717.154 Q434.277 713.589 434.277 706.482 Q434.277 699.353 432.448 695.811 Q430.643 692.246 427.009 692.246 M427.009 688.543 Q432.819 688.543 435.874 693.149 Q438.953 697.732 438.953 706.482 Q438.953 715.209 435.874 719.816 Q432.819 724.399 427.009 724.399 Q421.198 724.399 418.12 719.816 Q415.064 715.209 415.064 706.482 Q415.064 697.732 418.12 693.149 Q421.198 688.543 427.009 688.543 Z\" fill=\"#000000\" fill-rule=\"nonzero\" fill-opacity=\"1\" /><path clip-path=\"url(#clip550)\" d=\"M448.658 670.739 Q445.724 670.739 444.238 673.635 Q442.771 676.513 442.771 682.305 Q442.771 688.079 444.238 690.976 Q445.724 693.853 448.658 693.853 Q451.611 693.853 453.078 690.976 Q454.563 688.079 454.563 682.305 Q454.563 676.513 453.078 673.635 Q451.611 670.739 448.658 670.739 M448.658 667.729 Q453.379 667.729 455.861 671.472 Q458.363 675.196 458.363 682.305 Q458.363 689.396 455.861 693.139 Q453.379 696.863 448.658 696.863 Q443.937 696.863 441.436 693.139 Q438.953 689.396 438.953 682.305 Q438.953 675.196 441.436 671.472 Q443.937 667.729 448.658 667.729 Z\" fill=\"#000000\" fill-rule=\"nonzero\" fill-opacity=\"1\" /><path clip-path=\"url(#clip550)\" d=\"M50.9921 256.899 L80.6679 256.899 L80.6679 260.834 L50.9921 260.834 L50.9921 256.899 Z\" fill=\"#000000\" fill-rule=\"nonzero\" fill-opacity=\"1\" /><path clip-path=\"url(#clip550)\" d=\"M90.8067 239.168 L109.163 239.168 L109.163 243.103 L95.0891 243.103 L95.0891 251.575 Q96.1076 251.228 97.1261 251.066 Q98.1447 250.881 99.1632 250.881 Q104.95 250.881 108.33 254.052 Q111.709 257.223 111.709 262.64 Q111.709 268.218 108.237 271.32 Q104.765 274.399 98.4456 274.399 Q96.2697 274.399 94.0012 274.029 Q91.7558 273.658 89.3484 272.917 L89.3484 268.218 Q91.4317 269.353 93.6539 269.908 Q95.8761 270.464 98.353 270.464 Q102.358 270.464 104.696 268.357 Q107.033 266.251 107.033 262.64 Q107.033 259.029 104.696 256.922 Q102.358 254.816 98.353 254.816 Q96.478 254.816 94.603 255.232 Q92.7512 255.649 90.8067 256.529 L90.8067 239.168 Z\" fill=\"#000000\" fill-rule=\"nonzero\" fill-opacity=\"1\" /><path clip-path=\"url(#clip550)\" d=\"M120.922 267.848 L125.807 267.848 L125.807 273.728 L120.922 273.728 L120.922 267.848 Z\" fill=\"#000000\" fill-rule=\"nonzero\" fill-opacity=\"1\" /><path clip-path=\"url(#clip550)\" d=\"M148.839 243.242 L137.033 261.691 L148.839 261.691 L148.839 243.242 M147.612 239.168 L153.492 239.168 L153.492 261.691 L158.422 261.691 L158.422 265.579 L153.492 265.579 L153.492 273.728 L148.839 273.728 L148.839 265.579 L133.237 265.579 L133.237 261.066 L147.612 239.168 Z\" fill=\"#000000\" fill-rule=\"nonzero\" fill-opacity=\"1\" /><path clip-path=\"url(#clip550)\" d=\"M176.732 254.584 Q173.584 254.584 171.732 256.737 Q169.904 258.89 169.904 262.64 Q169.904 266.367 171.732 268.542 Q173.584 270.695 176.732 270.695 Q179.88 270.695 181.709 268.542 Q183.561 266.367 183.561 262.64 Q183.561 258.89 181.709 256.737 Q179.88 254.584 176.732 254.584 M186.015 239.931 L186.015 244.191 Q184.255 243.357 182.45 242.918 Q180.667 242.478 178.908 242.478 Q174.279 242.478 171.825 245.603 Q169.394 248.728 169.047 255.047 Q170.413 253.033 172.473 251.968 Q174.533 250.881 177.01 250.881 Q182.218 250.881 185.228 254.052 Q188.26 257.2 188.26 262.64 Q188.26 267.964 185.112 271.181 Q181.964 274.399 176.732 274.399 Q170.737 274.399 167.566 269.816 Q164.394 265.209 164.394 256.482 Q164.394 248.288 168.283 243.427 Q172.172 238.543 178.723 238.543 Q180.482 238.543 182.265 238.89 Q184.07 239.237 186.015 239.931 Z\" fill=\"#000000\" fill-rule=\"nonzero\" fill-opacity=\"1\" /><path clip-path=\"url(#clip550)\" d=\"M209.163 243.242 L197.357 261.691 L209.163 261.691 L209.163 243.242 M207.936 239.168 L213.815 239.168 L213.815 261.691 L218.746 261.691 L218.746 265.579 L213.815 265.579 L213.815 273.728 L209.163 273.728 L209.163 265.579 L193.561 265.579 L193.561 261.066 L207.936 239.168 Z\" fill=\"#000000\" fill-rule=\"nonzero\" fill-opacity=\"1\" /><path clip-path=\"url(#clip550)\" d=\"M227.287 269.792 L234.926 269.792 L234.926 243.427 L226.616 245.093 L226.616 240.834 L234.88 239.168 L239.556 239.168 L239.556 269.792 L247.195 269.792 L247.195 273.728 L227.287 273.728 L227.287 269.792 Z\" fill=\"#000000\" fill-rule=\"nonzero\" fill-opacity=\"1\" /><path clip-path=\"url(#clip550)\" d=\"M266.639 242.246 Q263.028 242.246 261.199 245.811 Q259.394 249.353 259.394 256.482 Q259.394 263.589 261.199 267.154 Q263.028 270.695 266.639 270.695 Q270.273 270.695 272.079 267.154 Q273.908 263.589 273.908 256.482 Q273.908 249.353 272.079 245.811 Q270.273 242.246 266.639 242.246 M266.639 238.543 Q272.449 238.543 275.505 243.149 Q278.583 247.732 278.583 256.482 Q278.583 265.209 275.505 269.816 Q272.449 274.399 266.639 274.399 Q260.829 274.399 257.75 269.816 Q254.695 265.209 254.695 256.482 Q254.695 247.732 257.75 243.149 Q260.829 238.543 266.639 238.543 Z\" fill=\"#000000\" fill-rule=\"nonzero\" fill-opacity=\"1\" /><path clip-path=\"url(#clip550)\" d=\"M287.611 269.792 L295.25 269.792 L295.25 243.427 L286.94 245.093 L286.94 240.834 L295.204 239.168 L299.88 239.168 L299.88 269.792 L307.519 269.792 L307.519 273.728 L287.611 273.728 L287.611 269.792 Z\" fill=\"#000000\" fill-rule=\"nonzero\" fill-opacity=\"1\" /><path clip-path=\"url(#clip550)\" d=\"M327.542 254.584 Q324.393 254.584 322.542 256.737 Q320.713 258.89 320.713 262.64 Q320.713 266.367 322.542 268.542 Q324.393 270.695 327.542 270.695 Q330.69 270.695 332.518 268.542 Q334.37 266.367 334.37 262.64 Q334.37 258.89 332.518 256.737 Q330.69 254.584 327.542 254.584 M336.824 239.931 L336.824 244.191 Q335.065 243.357 333.259 242.918 Q331.477 242.478 329.717 242.478 Q325.088 242.478 322.634 245.603 Q320.204 248.728 319.856 255.047 Q321.222 253.033 323.282 251.968 Q325.343 250.881 327.819 250.881 Q333.028 250.881 336.037 254.052 Q339.069 257.2 339.069 262.64 Q339.069 267.964 335.921 271.181 Q332.773 274.399 327.542 274.399 Q321.546 274.399 318.375 269.816 Q315.204 265.209 315.204 256.482 Q315.204 248.288 319.093 243.427 Q322.981 238.543 329.532 238.543 Q331.292 238.543 333.074 238.89 Q334.879 239.237 336.824 239.931 Z\" fill=\"#000000\" fill-rule=\"nonzero\" fill-opacity=\"1\" /><path clip-path=\"url(#clip550)\" d=\"M375.296 248.265 L364.717 258.89 L375.296 269.468 L372.541 272.269 L361.916 261.644 L351.291 272.269 L348.56 269.468 L359.115 258.89 L348.56 248.265 L351.291 245.464 L361.916 256.089 L372.541 245.464 L375.296 248.265 Z\" fill=\"#000000\" fill-rule=\"nonzero\" fill-opacity=\"1\" /><path clip-path=\"url(#clip550)\" d=\"M387.657 269.792 L395.296 269.792 L395.296 243.427 L386.986 245.093 L386.986 240.834 L395.25 239.168 L399.925 239.168 L399.925 269.792 L407.564 269.792 L407.564 273.728 L387.657 273.728 L387.657 269.792 Z\" fill=\"#000000\" fill-rule=\"nonzero\" fill-opacity=\"1\" /><path clip-path=\"url(#clip550)\" d=\"M427.009 242.246 Q423.398 242.246 421.569 245.811 Q419.763 249.353 419.763 256.482 Q419.763 263.589 421.569 267.154 Q423.398 270.695 427.009 270.695 Q430.643 270.695 432.448 267.154 Q434.277 263.589 434.277 256.482 Q434.277 249.353 432.448 245.811 Q430.643 242.246 427.009 242.246 M427.009 238.543 Q432.819 238.543 435.874 243.149 Q438.953 247.732 438.953 256.482 Q438.953 265.209 435.874 269.816 Q432.819 274.399 427.009 274.399 Q421.198 274.399 418.12 269.816 Q415.064 265.209 415.064 256.482 Q415.064 247.732 418.12 243.149 Q421.198 238.543 427.009 238.543 Z\" fill=\"#000000\" fill-rule=\"nonzero\" fill-opacity=\"1\" /><path clip-path=\"url(#clip550)\" d=\"M448.658 220.739 Q445.724 220.739 444.238 223.635 Q442.771 226.513 442.771 232.305 Q442.771 238.079 444.238 240.976 Q445.724 243.853 448.658 243.853 Q451.611 243.853 453.078 240.976 Q454.563 238.079 454.563 232.305 Q454.563 226.513 453.078 223.635 Q451.611 220.739 448.658 220.739 M448.658 217.729 Q453.379 217.729 455.861 221.472 Q458.363 225.196 458.363 232.305 Q458.363 239.396 455.861 243.139 Q453.379 246.863 448.658 246.863 Q443.937 246.863 441.436 243.139 Q438.953 239.396 438.953 232.305 Q438.953 225.196 441.436 221.472 Q443.937 217.729 448.658 217.729 Z\" fill=\"#000000\" fill-rule=\"nonzero\" fill-opacity=\"1\" /><circle clip-path=\"url(#clip552)\" cx=\"546.959\" cy=\"1300\" r=\"14.4\" fill=\"#009af9\" fill-rule=\"evenodd\" fill-opacity=\"1\" stroke=\"#000000\" stroke-opacity=\"1\" stroke-width=\"3.2\"/>\n",
       "<circle clip-path=\"url(#clip552)\" cx=\"897.599\" cy=\"550\" r=\"14.4\" fill=\"#009af9\" fill-rule=\"evenodd\" fill-opacity=\"1\" stroke=\"#000000\" stroke-opacity=\"1\" stroke-width=\"3.2\"/>\n",
       "<circle clip-path=\"url(#clip552)\" cx=\"1248.24\" cy=\"400\" r=\"14.4\" fill=\"#009af9\" fill-rule=\"evenodd\" fill-opacity=\"1\" stroke=\"#000000\" stroke-opacity=\"1\" stroke-width=\"3.2\"/>\n",
       "<circle clip-path=\"url(#clip552)\" cx=\"1598.88\" cy=\"400\" r=\"14.4\" fill=\"#009af9\" fill-rule=\"evenodd\" fill-opacity=\"1\" stroke=\"#000000\" stroke-opacity=\"1\" stroke-width=\"3.2\"/>\n",
       "<circle clip-path=\"url(#clip552)\" cx=\"1949.52\" cy=\"250\" r=\"14.4\" fill=\"#009af9\" fill-rule=\"evenodd\" fill-opacity=\"1\" stroke=\"#000000\" stroke-opacity=\"1\" stroke-width=\"3.2\"/>\n",
       "<path clip-path=\"url(#clip550)\" d=\"M556.309 198.898 L794.579 198.898 L794.579 95.2176 L556.309 95.2176  Z\" fill=\"#ffffff\" fill-rule=\"evenodd\" fill-opacity=\"1\"/>\n",
       "<polyline clip-path=\"url(#clip550)\" style=\"stroke:#000000; stroke-linecap:round; stroke-linejoin:round; stroke-width:4; stroke-opacity:1; fill:none\" points=\"556.309,198.898 794.579,198.898 794.579,95.2176 556.309,95.2176 556.309,198.898 \"/>\n",
       "<circle clip-path=\"url(#clip550)\" cx=\"638.904\" cy=\"147.058\" r=\"23.04\" fill=\"#009af9\" fill-rule=\"evenodd\" fill-opacity=\"1\" stroke=\"#000000\" stroke-opacity=\"1\" stroke-width=\"5.12\"/>\n",
       "<path clip-path=\"url(#clip550)\" d=\"M735.342 166.745 Q733.537 171.375 731.824 172.787 Q730.111 174.199 727.24 174.199 L723.838 174.199 L723.838 170.634 L726.338 170.634 Q728.097 170.634 729.069 169.8 Q730.041 168.967 731.222 165.865 L731.986 163.921 L721.5 138.412 L726.013 138.412 L734.115 158.689 L742.217 138.412 L746.731 138.412 L735.342 166.745 Z\" fill=\"#000000\" fill-rule=\"nonzero\" fill-opacity=\"1\" /><path clip-path=\"url(#clip550)\" d=\"M754.023 160.402 L761.661 160.402 L761.661 134.037 L753.351 135.703 L753.351 131.444 L761.615 129.778 L766.291 129.778 L766.291 160.402 L773.93 160.402 L773.93 164.338 L754.023 164.338 L754.023 160.402 Z\" fill=\"#000000\" fill-rule=\"nonzero\" fill-opacity=\"1\" /></svg>\n"
      ]
     },
     "execution_count": 136,
     "metadata": {},
     "output_type": "execute_result"
    }
   ],
   "source": [
    "scatter(EEA[1,1,:])#, ylimits=(-6,-4))"
   ]
  },
  {
   "cell_type": "code",
   "execution_count": 137,
   "id": "63716f7d",
   "metadata": {},
   "outputs": [
    {
     "data": {
      "text/plain": [
       "1-element Vector{Any}:\n",
       " 0.9999999999999999 - 3.175032886486898e-18im"
      ]
     },
     "execution_count": 137,
     "metadata": {},
     "output_type": "execute_result"
    }
   ],
   "source": [
    "bands = [[1,6]]\n",
    "#bands = [[1,5],[6,10],[11,15]]\n",
    "#bands = [[1,5]]\n",
    "Chern, F12list = calc_chern_bands(UUA, bands);\n",
    "Chern"
   ]
  },
  {
   "cell_type": "code",
   "execution_count": null,
   "id": "3625d952",
   "metadata": {},
   "outputs": [],
   "source": []
  }
 ],
 "metadata": {
  "kernelspec": {
   "display_name": "Julia 1.8.1",
   "language": "julia",
   "name": "julia-1.8"
  },
  "language_info": {
   "file_extension": ".jl",
   "mimetype": "application/julia",
   "name": "julia",
   "version": "1.8.1"
  }
 },
 "nbformat": 4,
 "nbformat_minor": 5
}
