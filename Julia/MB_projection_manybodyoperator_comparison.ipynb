{
 "cells": [
  {
   "cell_type": "code",
   "execution_count": 1,
   "id": "d332aabc-bec7-4f0a-80e9-16573d24fb8b",
   "metadata": {
    "tags": []
   },
   "outputs": [
    {
     "data": {
      "text/plain": [
       "calc_all_states_H_mb_2 (generic function with 1 method)"
      ]
     },
     "execution_count": 1,
     "metadata": {},
     "output_type": "execute_result"
    }
   ],
   "source": [
    "using QuantumOptics\n",
    "using NBInclude\n",
    "using LinearAlgebra\n",
    "using Einsum\n",
    "# lattice\n",
    "@nbinclude(\"Lattice_Basis_Neighbors_Hops.ipynb\"; regex=r\"#.*executeme\")\n",
    "# mb tools\n",
    "@nbinclude(\"QOJulia_utils.ipynb\")\n",
    "# chern \n",
    "@nbinclude(\"Chern_utils.ipynb\")"
   ]
  },
  {
   "cell_type": "markdown",
   "id": "a11ddf00-898c-493b-8a93-fc8c284874bf",
   "metadata": {},
   "source": [
    "# Parameters"
   ]
  },
  {
   "cell_type": "code",
   "execution_count": 2,
   "id": "4f660566-791b-481f-a7e8-f7f3847f3dd1",
   "metadata": {
    "tags": []
   },
   "outputs": [
    {
     "data": {
      "text/plain": [
       "Dict{Any, Any}()"
      ]
     },
     "execution_count": 2,
     "metadata": {},
     "output_type": "execute_result"
    }
   ],
   "source": [
    "param_dict=Dict{}()"
   ]
  },
  {
   "cell_type": "code",
   "execution_count": 3,
   "id": "f9df0163-a14c-4d94-8ac7-899e36052b65",
   "metadata": {
    "tags": []
   },
   "outputs": [],
   "source": [
    "LL = [3,3]\n",
    "N = LL[1]*LL[2]\n",
    "vv_lattice = [ [1., 0], [0, 1.] ]\n",
    "b1=[0, 0]\n",
    "vv_basis = [b1]\n",
    "param_dict[\"N\"] = LL[1]*LL[2]\n",
    "\n",
    "param_dict[\"LL\"] = LL\n",
    "param_dict[\"vv_lattice\"] = vv_lattice\n",
    "param_dict[\"vv_basis\"] = vv_basis\n",
    "\n",
    "nb = 1 # number of basis\n",
    "t=-1 # hopping amplitude\n",
    "p=1\n",
    "q=3\n",
    "ϕ=p/q # magnetic flux per plaquet\n",
    "param_dict[\"gauge\"] = \"Landau\"\n",
    "param_dict[\"t\"]=t\n",
    "param_dict[\"ϕ\"]=ϕ\n",
    "θθ = [0, 0] # initial values for twist angles\n",
    "param_dict[\"θθ\"]=θθ\n",
    "\n",
    "sites, site_coord, site_number = get_sites(LL, vv_lattice, vv_basis);\n",
    "param_dict[\"sites\"] = sites\n",
    "param_dict[\"site_coord\"] = site_coord\n",
    "param_dict[\"site_number\"] = site_number\n",
    "\n",
    "pbc=true # periodic boundary condition\n",
    "param_dict[\"pbc\"] = pbc\n",
    "neighbors = [ [1, 0, 1], [-1, 0, 1], [0, 1, 1], [0, -1, 1]  ]\n",
    "neighbors_list = [ neighbors ]\n",
    "param_dict[\"neighbors_list\"] = neighbors_list\n",
    "\n",
    "U = 0.5\n",
    "param_dict[\"U\"] = U;"
   ]
  },
  {
   "cell_type": "code",
   "execution_count": 4,
   "id": "3f331497-2c34-493d-b346-791c5e53de8a",
   "metadata": {
    "tags": []
   },
   "outputs": [],
   "source": [
    "# size of parameter space\n",
    "N1 = 12\n",
    "N2 = N1\n",
    "dx=2*pi/N1\n",
    "dy=dx\n",
    "Tx=collect(range(start=0, stop=2*pi-dx, step=dx))\n",
    "Ty=collect(range(start=0, stop=2*pi-dy, step=dy));\n",
    "\n",
    "param_dict[\"Tx\"] = Tx\n",
    "param_dict[\"Ty\"] = Ty;"
   ]
  },
  {
   "cell_type": "code",
   "execution_count": 5,
   "id": "93e8c3f0-6419-4a00-a06f-f231ddc7a415",
   "metadata": {
    "tags": []
   },
   "outputs": [
    {
     "data": {
      "text/plain": [
       "9-element Vector{Float64}:\n",
       " -2.7320508075688807\n",
       " -2.732050807568872\n",
       " -2.7320508075688674\n",
       "  0.7320508075688769\n",
       "  0.7320508075688779\n",
       "  0.7320508075688779\n",
       "  1.9999999999999998\n",
       "  2.0000000000000004\n",
       "  2.0000000000000013"
      ]
     },
     "execution_count": 5,
     "metadata": {},
     "output_type": "execute_result"
    }
   ],
   "source": [
    "# single ptl\n",
    "basis = NLevelBasis(N) \n",
    "param_dict[\"basis\"] = basis;\n",
    "\n",
    "param_dict[\"model_H1\"] = get_Hofstadter_hamiltonian\n",
    "\n",
    "H_T = get_Hofstadter_hamiltonian(param_dict)\n",
    "H1 = get_sp_op(basis, H_T)\n",
    "\n",
    "E1, U1 = eigenstates(dense(H1));\n",
    "E1"
   ]
  },
  {
   "cell_type": "code",
   "execution_count": 6,
   "id": "081b2f0f-1d6a-41fa-ac7c-d6920d4c5f82",
   "metadata": {
    "tags": []
   },
   "outputs": [
    {
     "data": {
      "text/plain": [
       "ManyBody(onebodybasis=NLevel(N=9), states:45)"
      ]
     },
     "execution_count": 6,
     "metadata": {},
     "output_type": "execute_result"
    }
   ],
   "source": [
    "PN = 2\n",
    "param_dict[\"PN\"] = PN\n",
    "states_mb = bosonstates(basis, PN)\n",
    "basis_mb = get_basis_mb(param_dict)"
   ]
  },
  {
   "cell_type": "code",
   "execution_count": 7,
   "id": "c28731b7-a2aa-49e3-8ed3-48c9d1f08765",
   "metadata": {
    "tags": []
   },
   "outputs": [],
   "source": [
    "H1_mb = get_mb_op(basis_mb, H1);\n",
    "dimH_mb = length(basis_mb)\n",
    "param_dict[\"dimH_mb\"] = dimH_mb\n",
    "H_NI_mb = get_H_mb(param_dict);"
   ]
  },
  {
   "cell_type": "code",
   "execution_count": 8,
   "id": "fdffbbe8-4187-4605-942b-5885401228d3",
   "metadata": {
    "tags": []
   },
   "outputs": [],
   "source": [
    "E_NI, U_NI = eigenstates(dense(H_NI_mb));"
   ]
  },
  {
   "cell_type": "code",
   "execution_count": 9,
   "id": "9b4350f4-e5ff-4c21-80cf-63e36656db6d",
   "metadata": {
    "tags": []
   },
   "outputs": [
    {
     "data": {
      "text/plain": [
       "10-element Vector{Float64}:\n",
       " -5.464101615137781\n",
       " -5.464101615137772\n",
       " -5.464101615137769\n",
       " -5.464101615137767\n",
       " -5.464101615137751\n",
       " -5.464101615137711\n",
       " -2.000000000000006\n",
       " -2.000000000000002\n",
       " -1.9999999999999993\n",
       " -1.999999999999999"
      ]
     },
     "execution_count": 9,
     "metadata": {},
     "output_type": "execute_result"
    }
   ],
   "source": [
    "E_NI[1:10]"
   ]
  },
  {
   "cell_type": "code",
   "execution_count": 10,
   "id": "0f418527-c061-45e1-9ab9-a01f0dfb8dd0",
   "metadata": {
    "tags": []
   },
   "outputs": [],
   "source": [
    "Vint_mb = SparseOperator(basis_mb)\n",
    "for m in 1:N\n",
    "    Vint_mb += U/2 * number(basis_mb, m) * ( number(basis_mb, m) - identityoperator(basis_mb) ) \n",
    "end"
   ]
  },
  {
   "cell_type": "code",
   "execution_count": 11,
   "id": "9009af2b-2bfe-4745-926c-b5ae5bf5a098",
   "metadata": {
    "tags": []
   },
   "outputs": [],
   "source": [
    "m = 1\n",
    "V2 = U/2 * transition(basis,m,m)⊗transition(basis,m,m)\n",
    "for m in 2:N\n",
    "    V2 += U/2 * transition(basis,m,m)⊗transition(basis,m,m)\n",
    "end"
   ]
  },
  {
   "cell_type": "code",
   "execution_count": 12,
   "id": "e5304d6d-662b-4257-a8c6-0fb239d0fbef",
   "metadata": {
    "tags": []
   },
   "outputs": [],
   "source": [
    "Vint2_mb = manybodyoperator(basis_mb, V2);"
   ]
  },
  {
   "cell_type": "code",
   "execution_count": 13,
   "id": "a50ae909-4e63-4117-b2dc-cb25d9c5c8d9",
   "metadata": {
    "tags": []
   },
   "outputs": [
    {
     "data": {
      "text/plain": [
       "false"
      ]
     },
     "execution_count": 13,
     "metadata": {},
     "output_type": "execute_result"
    }
   ],
   "source": [
    "isapprox( Vint_mb, Vint2_mb )"
   ]
  },
  {
   "cell_type": "code",
   "execution_count": 14,
   "id": "5d1511c1-e27a-471f-84f2-35ba429299eb",
   "metadata": {
    "tags": []
   },
   "outputs": [
    {
     "data": {
      "text/plain": [
       "10-element Vector{Float64}:\n",
       " -4.925763381179246\n",
       " -4.925763381179245\n",
       " -4.92576338117924\n",
       " -4.846240396489926\n",
       " -4.8462403964899226\n",
       " -4.846240396489915\n",
       " -1.4292774894793536\n",
       " -1.4292774894793525\n",
       " -1.4292774894793498\n",
       " -1.418855362210544"
      ]
     },
     "execution_count": 14,
     "metadata": {},
     "output_type": "execute_result"
    }
   ],
   "source": [
    "H_mb = H_NI_mb + Vint2_mb;\n",
    "E_mb = eigenenergies(dense(H_mb))\n",
    "E_mb[1:10]\n",
    "# to be compared with projection results"
   ]
  },
  {
   "cell_type": "code",
   "execution_count": 15,
   "id": "5972f65f-b6d4-428d-8eb1-b52974861ed5",
   "metadata": {},
   "outputs": [],
   "source": [
    "EEA=zeros(N1, N2, dimH_mb)\n",
    "UUA=zeros(Complex{Float64}, N1, N2, dimH_mb, dimH_mb)\n",
    "for it1 in 1:N1\n",
    "    for it2 in 1:N2\n",
    "        param_dict[\"θθ\"]=[ Tx[it1], Ty[it2] ]\n",
    "        H_NI_mb = get_H_mb(param_dict);        \n",
    "        H_mb = H_NI_mb + Vint2_mb;\n",
    "        #4x2\n",
    "        H_mb = (H_mb'+H_mb)/2\n",
    "        EEA[it1,it2,:], UUA[it1,it2,:,:] = eigen(dense(H_mb).data)\n",
    "    end\n",
    "end"
   ]
  },
  {
   "cell_type": "code",
   "execution_count": 16,
   "id": "9da9711a-d49d-4ecf-8c13-f7ed5acb3240",
   "metadata": {},
   "outputs": [
    {
     "data": {
      "text/plain": [
       "3-element Vector{Vector{Int64}}:\n",
       " [1, 3]\n",
       " [4, 6]\n",
       " [7, 9]"
      ]
     },
     "execution_count": 16,
     "metadata": {},
     "output_type": "execute_result"
    }
   ],
   "source": [
    "bands = [[1,3],[4,6],[7,9]]"
   ]
  },
  {
   "cell_type": "code",
   "execution_count": 17,
   "id": "cbdefacf-14f7-4d69-89c2-c6655bd93939",
   "metadata": {},
   "outputs": [
    {
     "data": {
      "text/plain": [
       "3-element Vector{Any}:\n",
       "                2.0 - 9.7595593039401e-17im\n",
       "                2.0 - 1.3754880916132389e-17im\n",
       " 1.0000000000000002 + 1.145344042663902e-16im"
      ]
     },
     "execution_count": 17,
     "metadata": {},
     "output_type": "execute_result"
    }
   ],
   "source": [
    "Chern, F12list = calc_chern_bands(UUA, bands);\n",
    "Chern"
   ]
  },
  {
   "cell_type": "code",
   "execution_count": 18,
   "id": "3dbdbc0e-598d-4f1d-a73b-92286a117f6b",
   "metadata": {
    "tags": []
   },
   "outputs": [
    {
     "data": {
      "text/plain": [
       "ManyBody(onebodybasis=Subspace(superbasis=NLevel(N=9), states:3), states:6)"
      ]
     },
     "execution_count": 18,
     "metadata": {},
     "output_type": "execute_result"
    }
   ],
   "source": [
    "# projection\n",
    "\n",
    "substates = 1:3\n",
    "\n",
    "basis_tilde = SubspaceBasis(basis, U1[substates])\n",
    "basis_tilde2 = basis_tilde⊗basis_tilde\n",
    "states_mb_tilde = bosonstates(basis_tilde, PN)\n",
    "basis_mb_tilde  = ManyBodyBasis(basis_tilde, states_mb_tilde)"
   ]
  },
  {
   "cell_type": "code",
   "execution_count": 19,
   "id": "d3f2c354-9d95-4b79-8932-95f2c9e1fce2",
   "metadata": {
    "tags": []
   },
   "outputs": [],
   "source": [
    "P1 = projector(basis, basis_tilde)\n",
    "P1_dag = dagger(P1)\n",
    "P1M = P1.data\n",
    "P1_dagM = P1_dag.data\n",
    "P2M = (P1⊗P1).data\n",
    "P2_dagM = (P1_dag⊗P1_dag).data;\n",
    "H1M = H1.data;\n",
    "V2M = V2.data;"
   ]
  },
  {
   "cell_type": "code",
   "execution_count": 20,
   "id": "76b03739-5c3d-4996-950f-6bd28c06b6d6",
   "metadata": {
    "tags": []
   },
   "outputs": [],
   "source": [
    "@einsum H1_tildeM[i,j] := P1_dagM[i,k] * H1M[k,l] * P1M[l,j];\n",
    "@einsum V2_tildeM[i2,j2] :=  P2_dagM[i2,k2] * V2M[k2,l2] * P2M[l2,j2];"
   ]
  },
  {
   "cell_type": "code",
   "execution_count": 21,
   "id": "c84414f8-385e-4701-bb93-be69d969a011",
   "metadata": {
    "tags": []
   },
   "outputs": [],
   "source": [
    "H1_tilde = Operator(basis_tilde, H1_tildeM);\n",
    "\n",
    "V2_tilde = Operator(basis_tilde2, V2_tildeM);\n",
    "\n",
    "H_NI_tilde_mb = manybodyoperator(basis_mb_tilde, H1_tilde);\n",
    "\n",
    "Vint_tilde_mb = manybodyoperator(basis_mb_tilde, V2_tilde);\n",
    "\n",
    "H_tilde_mb = H_NI_tilde_mb + Vint_tilde_mb;\n",
    "\n",
    "H_tilde_mb = (H_tilde_mb + H_tilde_mb')/2;"
   ]
  },
  {
   "cell_type": "code",
   "execution_count": 22,
   "id": "d0f649e2-02cf-418d-ac8d-46d93e6fd170",
   "metadata": {
    "tags": []
   },
   "outputs": [
    {
     "data": {
      "text/plain": [
       "6-element Vector{Float64}:\n",
       " -5.352221144880734\n",
       " -5.318232764684643\n",
       " -5.281450536846526\n",
       " -5.2536957790631735\n",
       " -5.248049321122324\n",
       " -5.227006022620801"
      ]
     },
     "execution_count": 22,
     "metadata": {},
     "output_type": "execute_result"
    }
   ],
   "source": [
    "E_tilde_mb = eigenenergies(dense(H_tilde_mb))\n",
    "E_tilde_mb[1:6]\n",
    "# to be compared with exact results above"
   ]
  },
  {
   "cell_type": "code",
   "execution_count": 59,
   "id": "69fb20c6-9fe6-4b96-a409-8502261c9863",
   "metadata": {
    "tags": []
   },
   "outputs": [
    {
     "name": "stdout",
     "output_type": "stream",
     "text": [
      "[-5.425763381179252, -5.425763381179245, -5.425763381179244, -5.346240396489927, -5.346240396489922, -5.346240396489922]\n",
      "[-5.422434948471089, -5.422434948471088, -5.422434948471085, -5.339101615137757, -5.339101615137754, -5.3391016151377535]\n"
     ]
    }
   ],
   "source": [
    "println(E_mb[1:6])\n",
    "println(E_tilde_mb[1:6])"
   ]
  },
  {
   "cell_type": "code",
   "execution_count": 337,
   "id": "a17a4257-a9ed-4732-a1a8-f8323fc3804a",
   "metadata": {},
   "outputs": [
    {
     "data": {
      "text/plain": [
       "ManyBody(onebodybasis=Subspace(superbasis=NLevel(N=9), states:6), states:21)"
      ]
     },
     "execution_count": 337,
     "metadata": {},
     "output_type": "execute_result"
    }
   ],
   "source": [
    "basis_mb_tilde"
   ]
  },
  {
   "cell_type": "code",
   "execution_count": 338,
   "id": "cbae7860-9c79-4347-afe3-853747c26130",
   "metadata": {},
   "outputs": [
    {
     "data": {
      "text/plain": [
       "21"
      ]
     },
     "execution_count": 338,
     "metadata": {},
     "output_type": "execute_result"
    }
   ],
   "source": [
    "dimH_mb = length(basis_mb_tilde)\n",
    "param_dict[\"dimH_mb\"] = dimH_mb"
   ]
  },
  {
   "cell_type": "code",
   "execution_count": 339,
   "id": "7900ca9b-fe6b-4c11-8780-b2ce389ace73",
   "metadata": {
    "scrolled": true,
    "tags": []
   },
   "outputs": [
    {
     "name": "stdout",
     "output_type": "stream",
     "text": [
      "1, 1: [0.0, 0.0]\n",
      "1, 2: [0.0, 0.5235987755982988]\n",
      "1, 3: [0.0, 1.0471975511965976]\n",
      "1, 4: [0.0, 1.5707963267948966]\n",
      "1, 5: [0.0, 2.0943951023931953]\n",
      "1, 6: [0.0, 2.617993877991494]\n",
      "1, 7: [0.0, 3.141592653589793]\n",
      "1, 8: [0.0, 3.665191429188092]\n",
      "1, 9: [0.0, 4.1887902047863905]\n",
      "1, 10: [0.0, 4.71238898038469]\n",
      "1, 11: [0.0, 5.235987755982988]\n",
      "1, 12: [0.0, 5.759586531581287]\n",
      "2, 1: [0.5235987755982988, 0.0]\n",
      "2, 2: [0.5235987755982988, 0.5235987755982988]\n",
      "2, 3: [0.5235987755982988, 1.0471975511965976]\n",
      "2, 4: [0.5235987755982988, 1.5707963267948966]\n",
      "2, 5: [0.5235987755982988, 2.0943951023931953]\n",
      "2, 6: [0.5235987755982988, 2.617993877991494]\n",
      "2, 7: [0.5235987755982988, 3.141592653589793]\n",
      "2, 8: [0.5235987755982988, 3.665191429188092]\n",
      "2, 9: [0.5235987755982988, 4.1887902047863905]\n",
      "2, 10: [0.5235987755982988, 4.71238898038469]\n",
      "2, 11: [0.5235987755982988, 5.235987755982988]\n",
      "2, 12: [0.5235987755982988, 5.759586531581287]\n",
      "3, 1: [1.0471975511965976, 0.0]\n",
      "3, 2: [1.0471975511965976, 0.5235987755982988]\n",
      "3, 3: [1.0471975511965976, 1.0471975511965976]\n",
      "3, 4: [1.0471975511965976, 1.5707963267948966]\n",
      "3, 5: [1.0471975511965976, 2.0943951023931953]\n",
      "3, 6: [1.0471975511965976, 2.617993877991494]\n",
      "3, 7: [1.0471975511965976, 3.141592653589793]\n",
      "3, 8: [1.0471975511965976, 3.665191429188092]\n",
      "3, 9: [1.0471975511965976, 4.1887902047863905]\n",
      "3, 10: [1.0471975511965976, 4.71238898038469]\n",
      "3, 11: [1.0471975511965976, 5.235987755982988]\n",
      "3, 12: [1.0471975511965976, 5.759586531581287]\n",
      "4, 1: [1.5707963267948966, 0.0]\n",
      "4, 2: [1.5707963267948966, 0.5235987755982988]\n",
      "4, 3: [1.5707963267948966, 1.0471975511965976]\n",
      "4, 4: [1.5707963267948966, 1.5707963267948966]\n",
      "4, 5: [1.5707963267948966, 2.0943951023931953]\n",
      "4, 6: [1.5707963267948966, 2.617993877991494]\n",
      "4, 7: [1.5707963267948966, 3.141592653589793]\n",
      "4, 8: [1.5707963267948966, 3.665191429188092]\n",
      "4, 9: [1.5707963267948966, 4.1887902047863905]\n",
      "4, 10: [1.5707963267948966, 4.71238898038469]\n",
      "4, 11: [1.5707963267948966, 5.235987755982988]\n",
      "4, 12: [1.5707963267948966, 5.759586531581287]\n",
      "5, 1: [2.0943951023931953, 0.0]\n",
      "5, 2: [2.0943951023931953, 0.5235987755982988]\n",
      "5, 3: [2.0943951023931953, 1.0471975511965976]\n",
      "5, 4: [2.0943951023931953, 1.5707963267948966]\n",
      "5, 5: [2.0943951023931953, 2.0943951023931953]\n",
      "5, 6: [2.0943951023931953, 2.617993877991494]\n",
      "5, 7: [2.0943951023931953, 3.141592653589793]\n",
      "5, 8: [2.0943951023931953, 3.665191429188092]\n",
      "5, 9: [2.0943951023931953, 4.1887902047863905]\n",
      "5, 10: [2.0943951023931953, 4.71238898038469]\n",
      "5, 11: [2.0943951023931953, 5.235987755982988]\n",
      "5, 12: [2.0943951023931953, 5.759586531581287]\n",
      "6, 1: [2.617993877991494, 0.0]\n",
      "6, 2: [2.617993877991494, 0.5235987755982988]\n",
      "6, 3: [2.617993877991494, 1.0471975511965976]\n",
      "6, 4: [2.617993877991494, 1.5707963267948966]\n",
      "6, 5: [2.617993877991494, 2.0943951023931953]\n",
      "6, 6: [2.617993877991494, 2.617993877991494]\n",
      "6, 7: [2.617993877991494, 3.141592653589793]\n",
      "6, 8: [2.617993877991494, 3.665191429188092]\n",
      "6, 9: [2.617993877991494, 4.1887902047863905]\n",
      "6, 10: [2.617993877991494, 4.71238898038469]\n",
      "6, 11: [2.617993877991494, 5.235987755982988]\n",
      "6, 12: [2.617993877991494, 5.759586531581287]\n",
      "7, 1: [3.141592653589793, 0.0]\n",
      "7, 2: [3.141592653589793, 0.5235987755982988]\n",
      "7, 3: [3.141592653589793, 1.0471975511965976]\n",
      "7, 4: [3.141592653589793, 1.5707963267948966]\n",
      "7, 5: [3.141592653589793, 2.0943951023931953]\n",
      "7, 6: [3.141592653589793, 2.617993877991494]\n",
      "7, 7: [3.141592653589793, 3.141592653589793]\n",
      "7, 8: [3.141592653589793, 3.665191429188092]\n",
      "7, 9: [3.141592653589793, 4.1887902047863905]\n",
      "7, 10: [3.141592653589793, 4.71238898038469]\n",
      "7, 11: [3.141592653589793, 5.235987755982988]\n",
      "7, 12: [3.141592653589793, 5.759586531581287]\n",
      "8, 1: [3.665191429188092, 0.0]\n",
      "8, 2: [3.665191429188092, 0.5235987755982988]\n",
      "8, 3: [3.665191429188092, 1.0471975511965976]\n",
      "8, 4: [3.665191429188092, 1.5707963267948966]\n",
      "8, 5: [3.665191429188092, 2.0943951023931953]\n",
      "8, 6: [3.665191429188092, 2.617993877991494]\n",
      "8, 7: [3.665191429188092, 3.141592653589793]\n",
      "8, 8: [3.665191429188092, 3.665191429188092]\n",
      "8, 9: [3.665191429188092, 4.1887902047863905]\n",
      "8, 10: [3.665191429188092, 4.71238898038469]\n",
      "8, 11: [3.665191429188092, 5.235987755982988]\n",
      "8, 12: [3.665191429188092, 5.759586531581287]\n",
      "9, 1: [4.1887902047863905, 0.0]\n",
      "9, 2: [4.1887902047863905, 0.5235987755982988]\n",
      "9, 3: [4.1887902047863905, 1.0471975511965976]\n",
      "9, 4: [4.1887902047863905, 1.5707963267948966]\n",
      "9, 5: [4.1887902047863905, 2.0943951023931953]\n",
      "9, 6: [4.1887902047863905, 2.617993877991494]\n",
      "9, 7: [4.1887902047863905, 3.141592653589793]\n",
      "9, 8: [4.1887902047863905, 3.665191429188092]\n",
      "9, 9: [4.1887902047863905, 4.1887902047863905]\n",
      "9, 10: [4.1887902047863905, 4.71238898038469]\n",
      "9, 11: [4.1887902047863905, 5.235987755982988]\n",
      "9, 12: [4.1887902047863905, 5.759586531581287]\n",
      "10, 1: [4.71238898038469, 0.0]\n",
      "10, 2: [4.71238898038469, 0.5235987755982988]\n",
      "10, 3: [4.71238898038469, 1.0471975511965976]\n",
      "10, 4: [4.71238898038469, 1.5707963267948966]\n",
      "10, 5: [4.71238898038469, 2.0943951023931953]\n",
      "10, 6: [4.71238898038469, 2.617993877991494]\n",
      "10, 7: [4.71238898038469, 3.141592653589793]\n",
      "10, 8: [4.71238898038469, 3.665191429188092]\n",
      "10, 9: [4.71238898038469, 4.1887902047863905]\n",
      "10, 10: [4.71238898038469, 4.71238898038469]\n",
      "10, 11: [4.71238898038469, 5.235987755982988]\n",
      "10, 12: [4.71238898038469, 5.759586531581287]\n",
      "11, 1: [5.235987755982988, 0.0]\n",
      "11, 2: [5.235987755982988, 0.5235987755982988]\n",
      "11, 3: [5.235987755982988, 1.0471975511965976]\n",
      "11, 4: [5.235987755982988, 1.5707963267948966]\n",
      "11, 5: [5.235987755982988, 2.0943951023931953]\n",
      "11, 6: [5.235987755982988, 2.617993877991494]\n",
      "11, 7: [5.235987755982988, 3.141592653589793]\n",
      "11, 8: [5.235987755982988, 3.665191429188092]\n",
      "11, 9: [5.235987755982988, 4.1887902047863905]\n",
      "11, 10: [5.235987755982988, 4.71238898038469]\n",
      "11, 11: [5.235987755982988, 5.235987755982988]\n",
      "11, 12: [5.235987755982988, 5.759586531581287]\n",
      "12, 1: [5.759586531581287, 0.0]\n",
      "12, 2: [5.759586531581287, 0.5235987755982988]\n",
      "12, 3: [5.759586531581287, 1.0471975511965976]\n",
      "12, 4: [5.759586531581287, 1.5707963267948966]\n",
      "12, 5: [5.759586531581287, 2.0943951023931953]\n",
      "12, 6: [5.759586531581287, 2.617993877991494]\n",
      "12, 7: [5.759586531581287, 3.141592653589793]\n",
      "12, 8: [5.759586531581287, 3.665191429188092]\n",
      "12, 9: [5.759586531581287, 4.1887902047863905]\n",
      "12, 10: [5.759586531581287, 4.71238898038469]\n",
      "12, 11: [5.759586531581287, 5.235987755982988]\n",
      "12, 12: [5.759586531581287, 5.759586531581287]\n"
     ]
    }
   ],
   "source": [
    "EEA=zeros(N1, N2, dimH_mb)\n",
    "UUA=zeros(Complex{Float64}, N1, N2, dimH_mb, dimH_mb)\n",
    "for it1 in 1:N1\n",
    "    for it2 in 1:N2\n",
    "        param_dict[\"θθ\"]=[ Tx[it1], Ty[it2] ]\n",
    "        println(it1, \", \", it2, \": \",param_dict[\"θθ\"])\n",
    "        \n",
    "        H_T = get_Hofstadter_hamiltonian(param_dict)\n",
    "        H1 = get_sp_op(basis, H_T)\n",
    "        E1, U1 = eigenstates(dense(H1));\n",
    "        basis_tilde = SubspaceBasis(basis, U1[substates])\n",
    "        \n",
    "        P1 = projector(basis, basis_tilde)\n",
    "        P1_dag = dagger(P1)\n",
    "        P1M = P1.data\n",
    "        P1_dagM = P1_dag.data\n",
    "        P2M = (P1⊗P1).data\n",
    "        P2_dagM = (P1_dag⊗P1_dag).data;\n",
    "        H1M = H1.data;\n",
    "        V2M = V2.data;\n",
    "        \n",
    "        @einsum H1_tildeM[i,j] := P1_dagM[i,k] * H1M[k,l] * P1M[l,j];\n",
    "        @einsum V2_tildeM[i2,j2] :=  P2_dagM[i2,k2] * V2M[k2,l2] * P2M[l2,j2];\n",
    "        \n",
    "        basis_tilde2 = basis_tilde⊗basis_tilde\n",
    "        H1_tilde = Operator(basis_tilde, H1_tildeM);\n",
    "        V2_tilde = Operator(basis_tilde2, V2_tildeM);\n",
    "        basis_mb_tilde  = ManyBodyBasis(basis_tilde, states_mb)\n",
    "        H_NI_tilde_mb = manybodyoperator(basis_mb_tilde, H1_tilde);\n",
    "        Vint_tilde_mb = manybodyoperator(basis_mb_tilde, V2_tilde);\n",
    "        H_tilde_mb = H_NI_tilde_mb + Vint_tilde_mb;\n",
    "        \n",
    "        H_mb = (H_tilde_mb'+H_tilde_mb)/2\n",
    "        EEA[it1,it2,:], UUA[it1,it2,:,:] = eigen(dense(H_mb).data)\n",
    "    end\n",
    "end"
   ]
  },
  {
   "cell_type": "code",
   "execution_count": 330,
   "id": "bb073a40-4bf7-4ec9-9811-ceb5a267baee",
   "metadata": {},
   "outputs": [
    {
     "data": {
      "text/plain": [
       "2-element Vector{Vector{Int64}}:\n",
       " [1, 3]\n",
       " [4, 6]"
      ]
     },
     "execution_count": 330,
     "metadata": {},
     "output_type": "execute_result"
    }
   ],
   "source": [
    "bands = [[1,3],[4,6]]"
   ]
  },
  {
   "cell_type": "code",
   "execution_count": 331,
   "id": "37453112-a254-4a16-b922-7eb89584ad08",
   "metadata": {},
   "outputs": [
    {
     "data": {
      "text/plain": [
       "2-element Vector{Any}:\n",
       " -1.3605706137371712e-15 + 9.307138687324414e-17im\n",
       "  -2.385416011097638e-16 - 4.433413329124307e-16im"
      ]
     },
     "execution_count": 331,
     "metadata": {},
     "output_type": "execute_result"
    }
   ],
   "source": [
    "Chern, F12list = calc_chern_bands(UUA, bands);\n",
    "Chern"
   ]
  },
  {
   "cell_type": "code",
   "execution_count": null,
   "id": "d5aff120-8f22-4d6d-a572-c7988504243c",
   "metadata": {},
   "outputs": [],
   "source": []
  },
  {
   "cell_type": "code",
   "execution_count": null,
   "id": "e74fccd2-2154-4805-9038-3781acff53d1",
   "metadata": {},
   "outputs": [],
   "source": []
  }
 ],
 "metadata": {
  "kernelspec": {
   "display_name": "Julia 1.9.3",
   "language": "julia",
   "name": "julia-1.9"
  },
  "language_info": {
   "file_extension": ".jl",
   "mimetype": "application/julia",
   "name": "julia",
   "version": "1.9.3"
  }
 },
 "nbformat": 4,
 "nbformat_minor": 5
}
