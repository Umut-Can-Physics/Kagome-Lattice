{
 "cells": [
  {
   "cell_type": "code",
   "execution_count": 1,
   "id": "d332aabc-bec7-4f0a-80e9-16573d24fb8b",
   "metadata": {},
   "outputs": [
    {
     "data": {
      "text/plain": [
       "proj_MB_Int (generic function with 1 method)"
      ]
     },
     "execution_count": 1,
     "metadata": {},
     "output_type": "execute_result"
    }
   ],
   "source": [
    "using QuantumOptics\n",
    "using NBInclude\n",
    "using LinearAlgebra\n",
    "using Einsum\n",
    "# lattice\n",
    "@nbinclude(\"Lattice_Basis_Neighbors_Hops.ipynb\"; regex=r\"#.*executeme\")\n",
    "# mb tools\n",
    "@nbinclude(\"QOJulia_utils.ipynb\")"
   ]
  },
  {
   "cell_type": "markdown",
   "id": "a11ddf00-898c-493b-8a93-fc8c284874bf",
   "metadata": {},
   "source": [
    "# Parameters"
   ]
  },
  {
   "cell_type": "code",
   "execution_count": 2,
   "id": "4f660566-791b-481f-a7e8-f7f3847f3dd1",
   "metadata": {},
   "outputs": [
    {
     "data": {
      "text/plain": [
       "Dict{Any, Any}()"
      ]
     },
     "execution_count": 2,
     "metadata": {},
     "output_type": "execute_result"
    }
   ],
   "source": [
    "param_dict=Dict{}()"
   ]
  },
  {
   "cell_type": "code",
   "execution_count": 3,
   "id": "a263feea-52fc-48dd-b637-f3c755fb2a3d",
   "metadata": {},
   "outputs": [],
   "source": [
    "LL = [3,3]\n",
    "N = LL[1]*LL[2]\n",
    "vv_lattice = [ [1., 0], [0, 1.] ]\n",
    "b1=[0, 0]\n",
    "vv_basis = [b1]\n",
    "param_dict[\"N\"] = LL[1]*LL[2]\n",
    "\n",
    "param_dict[\"LL\"] = LL\n",
    "param_dict[\"vv_lattice\"] = vv_lattice\n",
    "param_dict[\"vv_basis\"] = vv_basis\n",
    "\n",
    "nb = 1 # number of basis\n",
    "t=-1 # hopping amplitude\n",
    "p=1\n",
    "q=3\n",
    "ϕ=p/q # magnetic flux per plaquet\n",
    "param_dict[\"gauge\"] = \"Landau\"\n",
    "param_dict[\"t\"]=t\n",
    "param_dict[\"ϕ\"]=ϕ\n",
    "θθ = [0, 0] # initial values for twist angles\n",
    "param_dict[\"θθ\"]=θθ\n",
    "\n",
    "sites, site_coord, site_number = get_sites(LL, vv_lattice, vv_basis);\n",
    "param_dict[\"sites\"] = sites\n",
    "param_dict[\"site_coord\"] = site_coord\n",
    "param_dict[\"site_number\"] = site_number\n",
    "\n",
    "pbc=true # periodic boundary condition\n",
    "param_dict[\"pbc\"] = pbc\n",
    "neighbors = [ [1, 0, 1], [-1, 0, 1], [0, 1, 1], [0, -1, 1]  ]\n",
    "neighbors_list = [ neighbors ]\n",
    "param_dict[\"neighbors_list\"] = neighbors_list\n",
    "\n",
    "U = 0.5\n",
    "param_dict[\"U\"] = U;"
   ]
  },
  {
   "cell_type": "code",
   "execution_count": 4,
   "id": "93e8c3f0-6419-4a00-a06f-f231ddc7a415",
   "metadata": {},
   "outputs": [
    {
     "data": {
      "text/plain": [
       "9-element Vector{Float64}:\n",
       " -2.7320508075688728\n",
       " -2.732050807568871\n",
       " -2.732050807568871\n",
       "  0.7320508075688776\n",
       "  0.7320508075688779\n",
       "  0.7320508075688781\n",
       "  1.9999999999999998\n",
       "  1.9999999999999998\n",
       "  2.0000000000000004"
      ]
     },
     "execution_count": 4,
     "metadata": {},
     "output_type": "execute_result"
    }
   ],
   "source": [
    "# single ptl\n",
    "basis = NLevelBasis(N) \n",
    "param_dict[\"basis\"] = basis;\n",
    "\n",
    "param_dict[\"model_H1\"] = get_Hofstadter_hamiltonian\n",
    "\n",
    "H_T = get_Hofstadter_hamiltonian(param_dict)\n",
    "H1 = get_sp_op(basis, H_T)\n",
    "\n",
    "E1, U1 = eigenstates(dense(H1));\n",
    "E1"
   ]
  },
  {
   "cell_type": "code",
   "execution_count": 5,
   "id": "081b2f0f-1d6a-41fa-ac7c-d6920d4c5f82",
   "metadata": {},
   "outputs": [
    {
     "data": {
      "text/plain": [
       "ManyBody(onebodybasis=NLevel(N=9), states:45)"
      ]
     },
     "execution_count": 5,
     "metadata": {},
     "output_type": "execute_result"
    }
   ],
   "source": [
    "PN = 2\n",
    "param_dict[\"PN\"] = PN\n",
    "states_mb = bosonstates(basis, PN)\n",
    "basis_mb = get_basis_mb(param_dict)"
   ]
  },
  {
   "cell_type": "code",
   "execution_count": 6,
   "id": "c28731b7-a2aa-49e3-8ed3-48c9d1f08765",
   "metadata": {},
   "outputs": [],
   "source": [
    "H1_mb = get_mb_op(basis_mb, H1);\n",
    "param_dict[\"dimH_mb\"] = length(basis_mb)\n",
    "H_NI_mb = get_H_mb(param_dict);"
   ]
  },
  {
   "cell_type": "code",
   "execution_count": 7,
   "id": "fdffbbe8-4187-4605-942b-5885401228d3",
   "metadata": {},
   "outputs": [],
   "source": [
    "E_NI, U_NI = eigenstates(dense(H_NI_mb));"
   ]
  },
  {
   "cell_type": "code",
   "execution_count": 8,
   "id": "9b4350f4-e5ff-4c21-80cf-63e36656db6d",
   "metadata": {},
   "outputs": [
    {
     "data": {
      "text/plain": [
       "10-element Vector{Float64}:\n",
       " -5.464101615137779\n",
       " -5.464101615137776\n",
       " -5.464101615137773\n",
       " -5.464101615137763\n",
       " -5.464101615137753\n",
       " -5.464101615137751\n",
       " -2.000000000000006\n",
       " -2.0000000000000013\n",
       " -2.0\n",
       " -1.999999999999999"
      ]
     },
     "execution_count": 8,
     "metadata": {},
     "output_type": "execute_result"
    }
   ],
   "source": [
    "E_NI[1:10]"
   ]
  },
  {
   "cell_type": "code",
   "execution_count": 9,
   "id": "0f418527-c061-45e1-9ab9-a01f0dfb8dd0",
   "metadata": {},
   "outputs": [],
   "source": [
    "Vint_mb = SparseOperator(basis_mb)\n",
    "for m in 1:N\n",
    "    Vint_mb += U/2 * number(basis_mb, m) * ( number(basis_mb, m) - identityoperator(basis_mb) ) \n",
    "end"
   ]
  },
  {
   "cell_type": "code",
   "execution_count": 10,
   "id": "9009af2b-2bfe-4745-926c-b5ae5bf5a098",
   "metadata": {},
   "outputs": [],
   "source": [
    "m = 1\n",
    "V2 = U/2 * transition(basis,m,m)⊗transition(basis,m,m)\n",
    "for m in 2:N\n",
    "    V2 += U/2 * transition(basis,m,m)⊗transition(basis,m,m)\n",
    "end"
   ]
  },
  {
   "cell_type": "code",
   "execution_count": 11,
   "id": "e5304d6d-662b-4257-a8c6-0fb239d0fbef",
   "metadata": {},
   "outputs": [],
   "source": [
    "Vint2_mb = manybodyoperator(basis_mb, V2);"
   ]
  },
  {
   "cell_type": "code",
   "execution_count": 12,
   "id": "a50ae909-4e63-4117-b2dc-cb25d9c5c8d9",
   "metadata": {},
   "outputs": [
    {
     "data": {
      "text/plain": [
       "true"
      ]
     },
     "execution_count": 12,
     "metadata": {},
     "output_type": "execute_result"
    }
   ],
   "source": [
    "isapprox( Vint_mb, Vint2_mb )"
   ]
  },
  {
   "cell_type": "code",
   "execution_count": 13,
   "id": "5d1511c1-e27a-471f-84f2-35ba429299eb",
   "metadata": {},
   "outputs": [
    {
     "data": {
      "text/plain": [
       "10-element Vector{Float64}:\n",
       " -5.425763381179248\n",
       " -5.425763381179245\n",
       " -5.425763381179242\n",
       " -5.346240396489923\n",
       " -5.346240396489921\n",
       " -5.346240396489921\n",
       " -1.9292774894793527\n",
       " -1.9292774894793512\n",
       " -1.929277489479351\n",
       " -1.9188553622105469"
      ]
     },
     "execution_count": 13,
     "metadata": {},
     "output_type": "execute_result"
    }
   ],
   "source": [
    "H_mb = H_NI_mb + Vint2_mb;\n",
    "eigenenergies(dense(H_mb))[1:10]\n",
    "# to be compared with projection results"
   ]
  },
  {
   "cell_type": "code",
   "execution_count": 24,
   "id": "3dbdbc0e-598d-4f1d-a73b-92286a117f6b",
   "metadata": {},
   "outputs": [
    {
     "data": {
      "text/plain": [
       "Subspace(superbasis=NLevel(N=9), states:9)"
      ]
     },
     "execution_count": 24,
     "metadata": {},
     "output_type": "execute_result"
    }
   ],
   "source": [
    "# projection\n",
    "substates = 1:9\n",
    "basis_tilde = SubspaceBasis(basis, U1[substates])"
   ]
  },
  {
   "cell_type": "code",
   "execution_count": 25,
   "id": "d3f2c354-9d95-4b79-8932-95f2c9e1fce2",
   "metadata": {},
   "outputs": [],
   "source": [
    "P1 = projector(basis, basis_tilde)\n",
    "P1_dag = dagger(P1)\n",
    "P1M = P1.data\n",
    "P1_dagM = P1_dag.data\n",
    "P2M = (P1⊗P1).data\n",
    "P2_dagM = (P1_dag⊗P1_dag).data;\n",
    "H1M = H1.data;\n",
    "V2M = V2.data;"
   ]
  },
  {
   "cell_type": "code",
   "execution_count": 26,
   "id": "76b03739-5c3d-4996-950f-6bd28c06b6d6",
   "metadata": {},
   "outputs": [],
   "source": [
    "@einsum H1_tildeM[i,j] := P1_dagM[i,k] * H1M[k,l] * P1M[l,j];\n",
    "@einsum V2_tildeM[i2,j2] :=  P2_dagM[i2,k2] * V2M[k2,l2] * P2M[l2,j2];"
   ]
  },
  {
   "cell_type": "code",
   "execution_count": 27,
   "id": "c84414f8-385e-4701-bb93-be69d969a011",
   "metadata": {},
   "outputs": [],
   "source": [
    "basis_tilde2 = basis_tilde⊗basis_tilde\n",
    "\n",
    "H1_tilde = Operator(basis_tilde, H1_tildeM);\n",
    "\n",
    "V2_tilde = Operator(basis_tilde2, V2_tildeM);\n",
    "\n",
    "basis_mb_tilde  = ManyBodyBasis(basis_tilde, states_mb)\n",
    "\n",
    "H_NI_tilde_mb = manybodyoperator(basis_mb_tilde, H1_tilde);\n",
    "\n",
    "Vint_tilde_mb = manybodyoperator(basis_mb_tilde, V2_tilde);\n",
    "\n",
    "H_tilde_mb = H_NI_tilde_mb + Vint_tilde_mb;"
   ]
  },
  {
   "cell_type": "code",
   "execution_count": 28,
   "id": "d0f649e2-02cf-418d-ac8d-46d93e6fd170",
   "metadata": {},
   "outputs": [
    {
     "name": "stderr",
     "output_type": "stream",
     "text": [
      "\u001b[33m\u001b[1m┌ \u001b[22m\u001b[39m\u001b[33m\u001b[1mWarning: \u001b[22m\u001b[39mThe given operator is not hermitian. If this is due to a numerical error make the operator hermitian first by calculating (x+dagger(x))/2 first.\n",
      "\u001b[33m\u001b[1m└ \u001b[22m\u001b[39m\u001b[90m@ QuantumOptics ~/.julia/packages/QuantumOptics/eon5P/src/spectralanalysis.jl:76\u001b[39m\n"
     ]
    },
    {
     "data": {
      "text/plain": [
       "10-element Vector{ComplexF64}:\n",
       "  -5.425763381179256 + 1.3802279128488492e-16im\n",
       "  -5.425763381179239 - 1.1102230246251565e-16im\n",
       "  -5.425763381179237 + 6.661338147750939e-16im\n",
       "  -5.346240396489922 + 9.471532561791193e-17im\n",
       "  -5.346240396489919 + 2.1183687617826348e-16im\n",
       "  -5.346240396489913 - 1.7074408857710412e-16im\n",
       " -1.9292774894793574 - 2.706168622523819e-16im\n",
       " -1.9292774894793538 + 9.849976737030808e-17im\n",
       " -1.9292774894793536 - 2.775559473595315e-17im\n",
       " -1.9188553622105466 - 4.85722573273506e-17im"
      ]
     },
     "execution_count": 28,
     "metadata": {},
     "output_type": "execute_result"
    }
   ],
   "source": [
    "eigenenergies(dense(H_tilde_mb))[1:10]\n",
    "# to be compared with exact results above"
   ]
  },
  {
   "cell_type": "code",
   "execution_count": null,
   "id": "cbae7860-9c79-4347-afe3-853747c26130",
   "metadata": {},
   "outputs": [],
   "source": []
  },
  {
   "cell_type": "code",
   "execution_count": null,
   "id": "d5aff120-8f22-4d6d-a572-c7988504243c",
   "metadata": {},
   "outputs": [],
   "source": []
  }
 ],
 "metadata": {
  "kernelspec": {
   "display_name": "Julia 1.8.5",
   "language": "julia",
   "name": "julia-1.8"
  },
  "language_info": {
   "file_extension": ".jl",
   "mimetype": "application/julia",
   "name": "julia",
   "version": "1.8.5"
  }
 },
 "nbformat": 4,
 "nbformat_minor": 5
}
