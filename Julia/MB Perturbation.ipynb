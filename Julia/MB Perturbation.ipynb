{
 "cells": [
  {
   "cell_type": "code",
   "execution_count": 1,
   "id": "1207650d-b1f8-469d-997b-8656c0b06d5f",
   "metadata": {},
   "outputs": [
    {
     "data": {
      "text/plain": [
       "calc_all_states_H_mb_2 (generic function with 1 method)"
      ]
     },
     "execution_count": 1,
     "metadata": {},
     "output_type": "execute_result"
    }
   ],
   "source": [
    "using QuantumOptics\n",
    "using NBInclude\n",
    "using Einsum\n",
    "using DataFrames\n",
    "using LinearAlgebra\n",
    "using Plots\n",
    "# lattice\n",
    "@nbinclude(\"Lattice_Basis_Neighbors_Hops.ipynb\"; regex=r\"#.*executeme\")\n",
    "# mb tools\n",
    "@nbinclude(\"QOJulia_utils.ipynb\")\n",
    "# chern \n",
    "@nbinclude(\"Chern_utils.ipynb\")"
   ]
  },
  {
   "cell_type": "code",
   "execution_count": 2,
   "id": "159966ce-66b9-4555-a70b-5ee29de2db5d",
   "metadata": {},
   "outputs": [
    {
     "data": {
      "text/plain": [
       "1-element Vector{Vector{Vector{Int64}}}:\n",
       " [[1, 0, 1], [-1, 0, 1], [0, 1, 1], [0, -1, 1]]"
      ]
     },
     "execution_count": 2,
     "metadata": {},
     "output_type": "execute_result"
    }
   ],
   "source": [
    "param_dict=Dict{}()\n",
    "\n",
    "LL = [3,3]\n",
    "N = LL[1]*LL[2]\n",
    "vv_lattice = [ [1., 0], [0, 1.] ]\n",
    "b1=[0, 0]\n",
    "vv_basis = [b1]\n",
    "param_dict[\"N\"] = LL[1]*LL[2]\n",
    "\n",
    "param_dict[\"LL\"] = LL\n",
    "param_dict[\"vv_lattice\"] = vv_lattice\n",
    "param_dict[\"vv_basis\"] = vv_basis\n",
    "\n",
    "nb = 1 # number of basis\n",
    "t=-1 # hopping amplitude\n",
    "p=2\n",
    "q=5\n",
    "ϕ=p/q # magnetic flux per plaquet\n",
    "param_dict[\"gauge\"] = \"Landau\"\n",
    "param_dict[\"t\"]=t\n",
    "param_dict[\"ϕ\"]=ϕ\n",
    "θθ = [0, 0] # initial values for twist angles\n",
    "param_dict[\"θθ\"]=θθ\n",
    "\n",
    "sites, site_coord, site_number = get_sites(LL, vv_lattice, vv_basis);\n",
    "param_dict[\"sites\"] = sites\n",
    "param_dict[\"site_coord\"] = site_coord\n",
    "param_dict[\"site_number\"] = site_number\n",
    "\n",
    "pbc=true # periodic boundary condition\n",
    "param_dict[\"pbc\"] = pbc\n",
    "neighbors = [ [1, 0, 1], [-1, 0, 1], [0, 1, 1], [0, -1, 1]  ]\n",
    "neighbors_list = [ neighbors ]\n",
    "param_dict[\"neighbors_list\"] = neighbors_list\n"
   ]
  },
  {
   "cell_type": "code",
   "execution_count": null,
   "id": "1dd20dbf-01ed-45c0-902d-4839f7f2bb6e",
   "metadata": {},
   "outputs": [],
   "source": []
  },
  {
   "cell_type": "code",
   "execution_count": 3,
   "id": "6c8ea1bc-8282-4ae2-8461-98c7011b7d19",
   "metadata": {},
   "outputs": [],
   "source": [
    "basis = NLevelBasis(N) \n",
    "param_dict[\"basis\"] = basis;"
   ]
  },
  {
   "cell_type": "code",
   "execution_count": 4,
   "id": "82d47620-4641-48e3-89c4-c0c1baf4c4c8",
   "metadata": {},
   "outputs": [],
   "source": [
    "param_dict[\"model_H1\"] = get_Hofstadter_hamiltonian\n",
    "H_T = get_Hofstadter_hamiltonian(param_dict)\n",
    "H1 = get_sp_op(basis, H_T);"
   ]
  },
  {
   "cell_type": "code",
   "execution_count": 32,
   "id": "0790490f-75aa-4df6-9418-63c4283ad44a",
   "metadata": {},
   "outputs": [
    {
     "data": {
      "text/plain": [
       "ManyBody(onebodybasis=NLevel(N=9), states:165)"
      ]
     },
     "execution_count": 32,
     "metadata": {},
     "output_type": "execute_result"
    }
   ],
   "source": [
    "PN = 3\n",
    "param_dict[\"PN\"] = PN\n",
    "basis_mb = get_basis_mb(param_dict)"
   ]
  },
  {
   "cell_type": "code",
   "execution_count": 33,
   "id": "dad3c498-3e3b-453e-8b82-2379bac7cbc4",
   "metadata": {},
   "outputs": [],
   "source": [
    "H1_mb = get_mb_op(basis_mb, H1);\n",
    "param_dict[\"dimH_mb\"] = length(basis_mb)\n",
    "H_NI_mb = get_H_mb(param_dict);"
   ]
  },
  {
   "cell_type": "code",
   "execution_count": 34,
   "id": "010ff55d-037c-412c-954b-cd36faf50cf0",
   "metadata": {},
   "outputs": [],
   "source": [
    "E_NI, U_NI = eigenstates(dense(H_NI_mb));"
   ]
  },
  {
   "cell_type": "code",
   "execution_count": null,
   "id": "07470df6-2a2d-440c-92c6-1a6eb839313d",
   "metadata": {},
   "outputs": [],
   "source": []
  },
  {
   "cell_type": "code",
   "execution_count": 35,
   "id": "d9b3375f-6ef0-4f66-926b-ad0ea2b15ae7",
   "metadata": {},
   "outputs": [
    {
     "data": {
      "image/svg+xml": [
       "<?xml version=\"1.0\" encoding=\"utf-8\"?>\n",
       "<svg xmlns=\"http://www.w3.org/2000/svg\" xmlns:xlink=\"http://www.w3.org/1999/xlink\" width=\"600\" height=\"400\" viewBox=\"0 0 2400 1600\">\n",
       "<defs>\n",
       "  <clipPath id=\"clip340\">\n",
       "    <rect x=\"0\" y=\"0\" width=\"2400\" height=\"1600\"/>\n",
       "  </clipPath>\n",
       "</defs>\n",
       "<path clip-path=\"url(#clip340)\" d=\"M0 1600 L2400 1600 L2400 0 L0 0  Z\" fill=\"#ffffff\" fill-rule=\"evenodd\" fill-opacity=\"1\"/>\n",
       "<defs>\n",
       "  <clipPath id=\"clip341\">\n",
       "    <rect x=\"480\" y=\"0\" width=\"1681\" height=\"1600\"/>\n",
       "  </clipPath>\n",
       "</defs>\n",
       "<path clip-path=\"url(#clip340)\" d=\"M193.936 1486.45 L2352.76 1486.45 L2352.76 47.2441 L193.936 47.2441  Z\" fill=\"#ffffff\" fill-rule=\"evenodd\" fill-opacity=\"1\"/>\n",
       "<defs>\n",
       "  <clipPath id=\"clip342\">\n",
       "    <rect x=\"193\" y=\"47\" width=\"2160\" height=\"1440\"/>\n",
       "  </clipPath>\n",
       "</defs>\n",
       "<polyline clip-path=\"url(#clip342)\" style=\"stroke:#000000; stroke-linecap:round; stroke-linejoin:round; stroke-width:2; stroke-opacity:0.1; fill:none\" points=\"242.616,1486.45 242.616,47.2441 \"/>\n",
       "<polyline clip-path=\"url(#clip342)\" style=\"stroke:#000000; stroke-linecap:round; stroke-linejoin:round; stroke-width:2; stroke-opacity:0.1; fill:none\" points=\"863.538,1486.45 863.538,47.2441 \"/>\n",
       "<polyline clip-path=\"url(#clip342)\" style=\"stroke:#000000; stroke-linecap:round; stroke-linejoin:round; stroke-width:2; stroke-opacity:0.1; fill:none\" points=\"1484.46,1486.45 1484.46,47.2441 \"/>\n",
       "<polyline clip-path=\"url(#clip342)\" style=\"stroke:#000000; stroke-linecap:round; stroke-linejoin:round; stroke-width:2; stroke-opacity:0.1; fill:none\" points=\"2105.38,1486.45 2105.38,47.2441 \"/>\n",
       "<polyline clip-path=\"url(#clip340)\" style=\"stroke:#000000; stroke-linecap:round; stroke-linejoin:round; stroke-width:4; stroke-opacity:1; fill:none\" points=\"193.936,1486.45 2352.76,1486.45 \"/>\n",
       "<polyline clip-path=\"url(#clip340)\" style=\"stroke:#000000; stroke-linecap:round; stroke-linejoin:round; stroke-width:4; stroke-opacity:1; fill:none\" points=\"242.616,1486.45 242.616,1467.55 \"/>\n",
       "<polyline clip-path=\"url(#clip340)\" style=\"stroke:#000000; stroke-linecap:round; stroke-linejoin:round; stroke-width:4; stroke-opacity:1; fill:none\" points=\"863.538,1486.45 863.538,1467.55 \"/>\n",
       "<polyline clip-path=\"url(#clip340)\" style=\"stroke:#000000; stroke-linecap:round; stroke-linejoin:round; stroke-width:4; stroke-opacity:1; fill:none\" points=\"1484.46,1486.45 1484.46,1467.55 \"/>\n",
       "<polyline clip-path=\"url(#clip340)\" style=\"stroke:#000000; stroke-linecap:round; stroke-linejoin:round; stroke-width:4; stroke-opacity:1; fill:none\" points=\"2105.38,1486.45 2105.38,1467.55 \"/>\n",
       "<path clip-path=\"url(#clip340)\" d=\"M242.616 1517.37 Q239.005 1517.37 237.176 1520.93 Q235.371 1524.47 235.371 1531.6 Q235.371 1538.71 237.176 1542.27 Q239.005 1545.82 242.616 1545.82 Q246.25 1545.82 248.056 1542.27 Q249.885 1538.71 249.885 1531.6 Q249.885 1524.47 248.056 1520.93 Q246.25 1517.37 242.616 1517.37 M242.616 1513.66 Q248.426 1513.66 251.482 1518.27 Q254.561 1522.85 254.561 1531.6 Q254.561 1540.33 251.482 1544.94 Q248.426 1549.52 242.616 1549.52 Q236.806 1549.52 233.727 1544.94 Q230.672 1540.33 230.672 1531.6 Q230.672 1522.85 233.727 1518.27 Q236.806 1513.66 242.616 1513.66 Z\" fill=\"#000000\" fill-rule=\"nonzero\" fill-opacity=\"1\" /><path clip-path=\"url(#clip340)\" d=\"M838.237 1514.29 L856.593 1514.29 L856.593 1518.22 L842.519 1518.22 L842.519 1526.7 Q843.538 1526.35 844.556 1526.19 Q845.575 1526 846.593 1526 Q852.38 1526 855.76 1529.17 Q859.14 1532.34 859.14 1537.76 Q859.14 1543.34 855.667 1546.44 Q852.195 1549.52 845.876 1549.52 Q843.7 1549.52 841.431 1549.15 Q839.186 1548.78 836.779 1548.04 L836.779 1543.34 Q838.862 1544.47 841.084 1545.03 Q843.306 1545.58 845.783 1545.58 Q849.788 1545.58 852.126 1543.48 Q854.464 1541.37 854.464 1537.76 Q854.464 1534.15 852.126 1532.04 Q849.788 1529.94 845.783 1529.94 Q843.908 1529.94 842.033 1530.35 Q840.181 1530.77 838.237 1531.65 L838.237 1514.29 Z\" fill=\"#000000\" fill-rule=\"nonzero\" fill-opacity=\"1\" /><path clip-path=\"url(#clip340)\" d=\"M878.352 1517.37 Q874.741 1517.37 872.913 1520.93 Q871.107 1524.47 871.107 1531.6 Q871.107 1538.71 872.913 1542.27 Q874.741 1545.82 878.352 1545.82 Q881.987 1545.82 883.792 1542.27 Q885.621 1538.71 885.621 1531.6 Q885.621 1524.47 883.792 1520.93 Q881.987 1517.37 878.352 1517.37 M878.352 1513.66 Q884.163 1513.66 887.218 1518.27 Q890.297 1522.85 890.297 1531.6 Q890.297 1540.33 887.218 1544.94 Q884.163 1549.52 878.352 1549.52 Q872.542 1549.52 869.464 1544.94 Q866.408 1540.33 866.408 1531.6 Q866.408 1522.85 869.464 1518.27 Q872.542 1513.66 878.352 1513.66 Z\" fill=\"#000000\" fill-rule=\"nonzero\" fill-opacity=\"1\" /><path clip-path=\"url(#clip340)\" d=\"M1444.07 1544.91 L1451.7 1544.91 L1451.7 1518.55 L1443.39 1520.21 L1443.39 1515.95 L1451.66 1514.29 L1456.33 1514.29 L1456.33 1544.91 L1463.97 1544.91 L1463.97 1548.85 L1444.07 1548.85 L1444.07 1544.91 Z\" fill=\"#000000\" fill-rule=\"nonzero\" fill-opacity=\"1\" /><path clip-path=\"url(#clip340)\" d=\"M1483.42 1517.37 Q1479.81 1517.37 1477.98 1520.93 Q1476.17 1524.47 1476.17 1531.6 Q1476.17 1538.71 1477.98 1542.27 Q1479.81 1545.82 1483.42 1545.82 Q1487.05 1545.82 1488.86 1542.27 Q1490.69 1538.71 1490.69 1531.6 Q1490.69 1524.47 1488.86 1520.93 Q1487.05 1517.37 1483.42 1517.37 M1483.42 1513.66 Q1489.23 1513.66 1492.28 1518.27 Q1495.36 1522.85 1495.36 1531.6 Q1495.36 1540.33 1492.28 1544.94 Q1489.23 1549.52 1483.42 1549.52 Q1477.61 1549.52 1474.53 1544.94 Q1471.47 1540.33 1471.47 1531.6 Q1471.47 1522.85 1474.53 1518.27 Q1477.61 1513.66 1483.42 1513.66 Z\" fill=\"#000000\" fill-rule=\"nonzero\" fill-opacity=\"1\" /><path clip-path=\"url(#clip340)\" d=\"M1513.58 1517.37 Q1509.97 1517.37 1508.14 1520.93 Q1506.33 1524.47 1506.33 1531.6 Q1506.33 1538.71 1508.14 1542.27 Q1509.97 1545.82 1513.58 1545.82 Q1517.21 1545.82 1519.02 1542.27 Q1520.85 1538.71 1520.85 1531.6 Q1520.85 1524.47 1519.02 1520.93 Q1517.21 1517.37 1513.58 1517.37 M1513.58 1513.66 Q1519.39 1513.66 1522.45 1518.27 Q1525.52 1522.85 1525.52 1531.6 Q1525.52 1540.33 1522.45 1544.94 Q1519.39 1549.52 1513.58 1549.52 Q1507.77 1549.52 1504.69 1544.94 Q1501.64 1540.33 1501.64 1531.6 Q1501.64 1522.85 1504.69 1518.27 Q1507.77 1513.66 1513.58 1513.66 Z\" fill=\"#000000\" fill-rule=\"nonzero\" fill-opacity=\"1\" /><path clip-path=\"url(#clip340)\" d=\"M2064.99 1544.91 L2072.63 1544.91 L2072.63 1518.55 L2064.32 1520.21 L2064.32 1515.95 L2072.58 1514.29 L2077.26 1514.29 L2077.26 1544.91 L2084.89 1544.91 L2084.89 1548.85 L2064.99 1548.85 L2064.99 1544.91 Z\" fill=\"#000000\" fill-rule=\"nonzero\" fill-opacity=\"1\" /><path clip-path=\"url(#clip340)\" d=\"M2094.39 1514.29 L2112.74 1514.29 L2112.74 1518.22 L2098.67 1518.22 L2098.67 1526.7 Q2099.69 1526.35 2100.7 1526.19 Q2101.72 1526 2102.74 1526 Q2108.53 1526 2111.91 1529.17 Q2115.29 1532.34 2115.29 1537.76 Q2115.29 1543.34 2111.82 1546.44 Q2108.34 1549.52 2102.02 1549.52 Q2099.85 1549.52 2097.58 1549.15 Q2095.33 1548.78 2092.93 1548.04 L2092.93 1543.34 Q2095.01 1544.47 2097.23 1545.03 Q2099.45 1545.58 2101.93 1545.58 Q2105.94 1545.58 2108.27 1543.48 Q2110.61 1541.37 2110.61 1537.76 Q2110.61 1534.15 2108.27 1532.04 Q2105.94 1529.94 2101.93 1529.94 Q2100.06 1529.94 2098.18 1530.35 Q2096.33 1530.77 2094.39 1531.65 L2094.39 1514.29 Z\" fill=\"#000000\" fill-rule=\"nonzero\" fill-opacity=\"1\" /><path clip-path=\"url(#clip340)\" d=\"M2134.5 1517.37 Q2130.89 1517.37 2129.06 1520.93 Q2127.26 1524.47 2127.26 1531.6 Q2127.26 1538.71 2129.06 1542.27 Q2130.89 1545.82 2134.5 1545.82 Q2138.14 1545.82 2139.94 1542.27 Q2141.77 1538.71 2141.77 1531.6 Q2141.77 1524.47 2139.94 1520.93 Q2138.14 1517.37 2134.5 1517.37 M2134.5 1513.66 Q2140.31 1513.66 2143.37 1518.27 Q2146.45 1522.85 2146.45 1531.6 Q2146.45 1540.33 2143.37 1544.94 Q2140.31 1549.52 2134.5 1549.52 Q2128.69 1549.52 2125.61 1544.94 Q2122.56 1540.33 2122.56 1531.6 Q2122.56 1522.85 2125.61 1518.27 Q2128.69 1513.66 2134.5 1513.66 Z\" fill=\"#000000\" fill-rule=\"nonzero\" fill-opacity=\"1\" /><polyline clip-path=\"url(#clip342)\" style=\"stroke:#000000; stroke-linecap:round; stroke-linejoin:round; stroke-width:2; stroke-opacity:0.1; fill:none\" points=\"193.936,1340.22 2352.76,1340.22 \"/>\n",
       "<polyline clip-path=\"url(#clip342)\" style=\"stroke:#000000; stroke-linecap:round; stroke-linejoin:round; stroke-width:2; stroke-opacity:0.1; fill:none\" points=\"193.936,1136.16 2352.76,1136.16 \"/>\n",
       "<polyline clip-path=\"url(#clip342)\" style=\"stroke:#000000; stroke-linecap:round; stroke-linejoin:round; stroke-width:2; stroke-opacity:0.1; fill:none\" points=\"193.936,932.097 2352.76,932.097 \"/>\n",
       "<polyline clip-path=\"url(#clip342)\" style=\"stroke:#000000; stroke-linecap:round; stroke-linejoin:round; stroke-width:2; stroke-opacity:0.1; fill:none\" points=\"193.936,728.034 2352.76,728.034 \"/>\n",
       "<polyline clip-path=\"url(#clip342)\" style=\"stroke:#000000; stroke-linecap:round; stroke-linejoin:round; stroke-width:2; stroke-opacity:0.1; fill:none\" points=\"193.936,523.971 2352.76,523.971 \"/>\n",
       "<polyline clip-path=\"url(#clip342)\" style=\"stroke:#000000; stroke-linecap:round; stroke-linejoin:round; stroke-width:2; stroke-opacity:0.1; fill:none\" points=\"193.936,319.908 2352.76,319.908 \"/>\n",
       "<polyline clip-path=\"url(#clip342)\" style=\"stroke:#000000; stroke-linecap:round; stroke-linejoin:round; stroke-width:2; stroke-opacity:0.1; fill:none\" points=\"193.936,115.845 2352.76,115.845 \"/>\n",
       "<polyline clip-path=\"url(#clip340)\" style=\"stroke:#000000; stroke-linecap:round; stroke-linejoin:round; stroke-width:4; stroke-opacity:1; fill:none\" points=\"193.936,1486.45 193.936,47.2441 \"/>\n",
       "<polyline clip-path=\"url(#clip340)\" style=\"stroke:#000000; stroke-linecap:round; stroke-linejoin:round; stroke-width:4; stroke-opacity:1; fill:none\" points=\"193.936,1340.22 212.834,1340.22 \"/>\n",
       "<polyline clip-path=\"url(#clip340)\" style=\"stroke:#000000; stroke-linecap:round; stroke-linejoin:round; stroke-width:4; stroke-opacity:1; fill:none\" points=\"193.936,1136.16 212.834,1136.16 \"/>\n",
       "<polyline clip-path=\"url(#clip340)\" style=\"stroke:#000000; stroke-linecap:round; stroke-linejoin:round; stroke-width:4; stroke-opacity:1; fill:none\" points=\"193.936,932.097 212.834,932.097 \"/>\n",
       "<polyline clip-path=\"url(#clip340)\" style=\"stroke:#000000; stroke-linecap:round; stroke-linejoin:round; stroke-width:4; stroke-opacity:1; fill:none\" points=\"193.936,728.034 212.834,728.034 \"/>\n",
       "<polyline clip-path=\"url(#clip340)\" style=\"stroke:#000000; stroke-linecap:round; stroke-linejoin:round; stroke-width:4; stroke-opacity:1; fill:none\" points=\"193.936,523.971 212.834,523.971 \"/>\n",
       "<polyline clip-path=\"url(#clip340)\" style=\"stroke:#000000; stroke-linecap:round; stroke-linejoin:round; stroke-width:4; stroke-opacity:1; fill:none\" points=\"193.936,319.908 212.834,319.908 \"/>\n",
       "<polyline clip-path=\"url(#clip340)\" style=\"stroke:#000000; stroke-linecap:round; stroke-linejoin:round; stroke-width:4; stroke-opacity:1; fill:none\" points=\"193.936,115.845 212.834,115.845 \"/>\n",
       "<path clip-path=\"url(#clip340)\" d=\"M51.9875 1340.67 L81.6633 1340.67 L81.6633 1344.61 L51.9875 1344.61 L51.9875 1340.67 Z\" fill=\"#000000\" fill-rule=\"nonzero\" fill-opacity=\"1\" /><path clip-path=\"url(#clip340)\" d=\"M90.5752 1322.94 L112.797 1322.94 L112.797 1324.93 L100.251 1357.5 L95.3669 1357.5 L107.172 1326.88 L90.5752 1326.88 L90.5752 1322.94 Z\" fill=\"#000000\" fill-rule=\"nonzero\" fill-opacity=\"1\" /><path clip-path=\"url(#clip340)\" d=\"M121.918 1351.62 L126.802 1351.62 L126.802 1357.5 L121.918 1357.5 L121.918 1351.62 Z\" fill=\"#000000\" fill-rule=\"nonzero\" fill-opacity=\"1\" /><path clip-path=\"url(#clip340)\" d=\"M137.033 1322.94 L155.39 1322.94 L155.39 1326.88 L141.316 1326.88 L141.316 1335.35 Q142.334 1335 143.353 1334.84 Q144.371 1334.66 145.39 1334.66 Q151.177 1334.66 154.556 1337.83 Q157.936 1341 157.936 1346.41 Q157.936 1351.99 154.464 1355.1 Q150.992 1358.17 144.672 1358.17 Q142.496 1358.17 140.228 1357.8 Q137.982 1357.43 135.575 1356.69 L135.575 1351.99 Q137.658 1353.13 139.881 1353.68 Q142.103 1354.24 144.58 1354.24 Q148.584 1354.24 150.922 1352.13 Q153.26 1350.03 153.26 1346.41 Q153.26 1342.8 150.922 1340.7 Q148.584 1338.59 144.58 1338.59 Q142.705 1338.59 140.83 1339.01 Q138.978 1339.42 137.033 1340.3 L137.033 1322.94 Z\" fill=\"#000000\" fill-rule=\"nonzero\" fill-opacity=\"1\" /><path clip-path=\"url(#clip340)\" d=\"M50.9921 1136.61 L80.6679 1136.61 L80.6679 1140.55 L50.9921 1140.55 L50.9921 1136.61 Z\" fill=\"#000000\" fill-rule=\"nonzero\" fill-opacity=\"1\" /><path clip-path=\"url(#clip340)\" d=\"M90.8067 1118.88 L109.163 1118.88 L109.163 1122.81 L95.0891 1122.81 L95.0891 1131.29 Q96.1076 1130.94 97.1261 1130.78 Q98.1447 1130.59 99.1632 1130.59 Q104.95 1130.59 108.33 1133.76 Q111.709 1136.94 111.709 1142.35 Q111.709 1147.93 108.237 1151.03 Q104.765 1154.11 98.4456 1154.11 Q96.2697 1154.11 94.0012 1153.74 Q91.7558 1153.37 89.3484 1152.63 L89.3484 1147.93 Q91.4317 1149.06 93.6539 1149.62 Q95.8761 1150.18 98.353 1150.18 Q102.358 1150.18 104.696 1148.07 Q107.033 1145.96 107.033 1142.35 Q107.033 1138.74 104.696 1136.63 Q102.358 1134.53 98.353 1134.53 Q96.478 1134.53 94.603 1134.94 Q92.7512 1135.36 90.8067 1136.24 L90.8067 1118.88 Z\" fill=\"#000000\" fill-rule=\"nonzero\" fill-opacity=\"1\" /><path clip-path=\"url(#clip340)\" d=\"M120.922 1147.56 L125.807 1147.56 L125.807 1153.44 L120.922 1153.44 L120.922 1147.56 Z\" fill=\"#000000\" fill-rule=\"nonzero\" fill-opacity=\"1\" /><path clip-path=\"url(#clip340)\" d=\"M145.992 1121.96 Q142.381 1121.96 140.552 1125.52 Q138.746 1129.06 138.746 1136.19 Q138.746 1143.3 140.552 1146.87 Q142.381 1150.41 145.992 1150.41 Q149.626 1150.41 151.431 1146.87 Q153.26 1143.3 153.26 1136.19 Q153.26 1129.06 151.431 1125.52 Q149.626 1121.96 145.992 1121.96 M145.992 1118.25 Q151.802 1118.25 154.857 1122.86 Q157.936 1127.44 157.936 1136.19 Q157.936 1144.92 154.857 1149.53 Q151.802 1154.11 145.992 1154.11 Q140.181 1154.11 137.103 1149.53 Q134.047 1144.92 134.047 1136.19 Q134.047 1127.44 137.103 1122.86 Q140.181 1118.25 145.992 1118.25 Z\" fill=\"#000000\" fill-rule=\"nonzero\" fill-opacity=\"1\" /><path clip-path=\"url(#clip340)\" d=\"M51.9875 932.548 L81.6633 932.548 L81.6633 936.483 L51.9875 936.483 L51.9875 932.548 Z\" fill=\"#000000\" fill-rule=\"nonzero\" fill-opacity=\"1\" /><path clip-path=\"url(#clip340)\" d=\"M95.7836 945.442 L112.103 945.442 L112.103 949.377 L90.1586 949.377 L90.1586 945.442 Q92.8206 942.687 97.4039 938.057 Q102.01 933.405 103.191 932.062 Q105.436 929.539 106.316 927.803 Q107.219 926.044 107.219 924.354 Q107.219 921.599 105.274 919.863 Q103.353 918.127 100.251 918.127 Q98.0521 918.127 95.5984 918.891 Q93.1678 919.655 90.3901 921.206 L90.3901 916.483 Q93.2141 915.349 95.6678 914.77 Q98.1215 914.192 100.159 914.192 Q105.529 914.192 108.723 916.877 Q111.918 919.562 111.918 924.053 Q111.918 926.182 111.108 928.104 Q110.321 930.002 108.214 932.594 Q107.635 933.266 104.534 936.483 Q101.432 939.678 95.7836 945.442 Z\" fill=\"#000000\" fill-rule=\"nonzero\" fill-opacity=\"1\" /><path clip-path=\"url(#clip340)\" d=\"M121.918 943.497 L126.802 943.497 L126.802 949.377 L121.918 949.377 L121.918 943.497 Z\" fill=\"#000000\" fill-rule=\"nonzero\" fill-opacity=\"1\" /><path clip-path=\"url(#clip340)\" d=\"M137.033 914.817 L155.39 914.817 L155.39 918.752 L141.316 918.752 L141.316 927.224 Q142.334 926.877 143.353 926.715 Q144.371 926.53 145.39 926.53 Q151.177 926.53 154.556 929.701 Q157.936 932.872 157.936 938.289 Q157.936 943.868 154.464 946.969 Q150.992 950.048 144.672 950.048 Q142.496 950.048 140.228 949.678 Q137.982 949.307 135.575 948.567 L135.575 943.868 Q137.658 945.002 139.881 945.557 Q142.103 946.113 144.58 946.113 Q148.584 946.113 150.922 944.006 Q153.26 941.9 153.26 938.289 Q153.26 934.678 150.922 932.571 Q148.584 930.465 144.58 930.465 Q142.705 930.465 140.83 930.882 Q138.978 931.298 137.033 932.178 L137.033 914.817 Z\" fill=\"#000000\" fill-rule=\"nonzero\" fill-opacity=\"1\" /><path clip-path=\"url(#clip340)\" d=\"M100.76 713.832 Q97.1493 713.832 95.3206 717.397 Q93.515 720.939 93.515 728.068 Q93.515 735.175 95.3206 738.74 Q97.1493 742.281 100.76 742.281 Q104.395 742.281 106.2 738.74 Q108.029 735.175 108.029 728.068 Q108.029 720.939 106.2 717.397 Q104.395 713.832 100.76 713.832 M100.76 710.129 Q106.571 710.129 109.626 714.735 Q112.705 719.319 112.705 728.068 Q112.705 736.795 109.626 741.402 Q106.571 745.985 100.76 745.985 Q94.9502 745.985 91.8715 741.402 Q88.816 736.795 88.816 728.068 Q88.816 719.319 91.8715 714.735 Q94.9502 710.129 100.76 710.129 Z\" fill=\"#000000\" fill-rule=\"nonzero\" fill-opacity=\"1\" /><path clip-path=\"url(#clip340)\" d=\"M120.922 739.434 L125.807 739.434 L125.807 745.314 L120.922 745.314 L120.922 739.434 Z\" fill=\"#000000\" fill-rule=\"nonzero\" fill-opacity=\"1\" /><path clip-path=\"url(#clip340)\" d=\"M145.992 713.832 Q142.381 713.832 140.552 717.397 Q138.746 720.939 138.746 728.068 Q138.746 735.175 140.552 738.74 Q142.381 742.281 145.992 742.281 Q149.626 742.281 151.431 738.74 Q153.26 735.175 153.26 728.068 Q153.26 720.939 151.431 717.397 Q149.626 713.832 145.992 713.832 M145.992 710.129 Q151.802 710.129 154.857 714.735 Q157.936 719.319 157.936 728.068 Q157.936 736.795 154.857 741.402 Q151.802 745.985 145.992 745.985 Q140.181 745.985 137.103 741.402 Q134.047 736.795 134.047 728.068 Q134.047 719.319 137.103 714.735 Q140.181 710.129 145.992 710.129 Z\" fill=\"#000000\" fill-rule=\"nonzero\" fill-opacity=\"1\" /><path clip-path=\"url(#clip340)\" d=\"M95.7836 537.316 L112.103 537.316 L112.103 541.251 L90.1586 541.251 L90.1586 537.316 Q92.8206 534.561 97.4039 529.931 Q102.01 525.279 103.191 523.936 Q105.436 521.413 106.316 519.677 Q107.219 517.917 107.219 516.228 Q107.219 513.473 105.274 511.737 Q103.353 510.001 100.251 510.001 Q98.0521 510.001 95.5984 510.765 Q93.1678 511.529 90.3901 513.08 L90.3901 508.357 Q93.2141 507.223 95.6678 506.644 Q98.1215 506.066 100.159 506.066 Q105.529 506.066 108.723 508.751 Q111.918 511.436 111.918 515.927 Q111.918 518.056 111.108 519.978 Q110.321 521.876 108.214 524.468 Q107.635 525.14 104.534 528.357 Q101.432 531.552 95.7836 537.316 Z\" fill=\"#000000\" fill-rule=\"nonzero\" fill-opacity=\"1\" /><path clip-path=\"url(#clip340)\" d=\"M121.918 535.371 L126.802 535.371 L126.802 541.251 L121.918 541.251 L121.918 535.371 Z\" fill=\"#000000\" fill-rule=\"nonzero\" fill-opacity=\"1\" /><path clip-path=\"url(#clip340)\" d=\"M137.033 506.691 L155.39 506.691 L155.39 510.626 L141.316 510.626 L141.316 519.098 Q142.334 518.751 143.353 518.589 Q144.371 518.404 145.39 518.404 Q151.177 518.404 154.556 521.575 Q157.936 524.746 157.936 530.163 Q157.936 535.741 154.464 538.843 Q150.992 541.922 144.672 541.922 Q142.496 541.922 140.228 541.552 Q137.982 541.181 135.575 540.441 L135.575 535.741 Q137.658 536.876 139.881 537.431 Q142.103 537.987 144.58 537.987 Q148.584 537.987 150.922 535.88 Q153.26 533.774 153.26 530.163 Q153.26 526.552 150.922 524.445 Q148.584 522.339 144.58 522.339 Q142.705 522.339 140.83 522.755 Q138.978 523.172 137.033 524.052 L137.033 506.691 Z\" fill=\"#000000\" fill-rule=\"nonzero\" fill-opacity=\"1\" /><path clip-path=\"url(#clip340)\" d=\"M90.8067 302.628 L109.163 302.628 L109.163 306.563 L95.0891 306.563 L95.0891 315.035 Q96.1076 314.688 97.1261 314.526 Q98.1447 314.341 99.1632 314.341 Q104.95 314.341 108.33 317.512 Q111.709 320.683 111.709 326.1 Q111.709 331.678 108.237 334.78 Q104.765 337.859 98.4456 337.859 Q96.2697 337.859 94.0012 337.489 Q91.7558 337.118 89.3484 336.377 L89.3484 331.678 Q91.4317 332.813 93.6539 333.368 Q95.8761 333.924 98.353 333.924 Q102.358 333.924 104.696 331.817 Q107.033 329.711 107.033 326.1 Q107.033 322.489 104.696 320.382 Q102.358 318.276 98.353 318.276 Q96.478 318.276 94.603 318.692 Q92.7512 319.109 90.8067 319.989 L90.8067 302.628 Z\" fill=\"#000000\" fill-rule=\"nonzero\" fill-opacity=\"1\" /><path clip-path=\"url(#clip340)\" d=\"M120.922 331.308 L125.807 331.308 L125.807 337.188 L120.922 337.188 L120.922 331.308 Z\" fill=\"#000000\" fill-rule=\"nonzero\" fill-opacity=\"1\" /><path clip-path=\"url(#clip340)\" d=\"M145.992 305.706 Q142.381 305.706 140.552 309.271 Q138.746 312.813 138.746 319.942 Q138.746 327.049 140.552 330.614 Q142.381 334.155 145.992 334.155 Q149.626 334.155 151.431 330.614 Q153.26 327.049 153.26 319.942 Q153.26 312.813 151.431 309.271 Q149.626 305.706 145.992 305.706 M145.992 302.003 Q151.802 302.003 154.857 306.609 Q157.936 311.192 157.936 319.942 Q157.936 328.669 154.857 333.276 Q151.802 337.859 145.992 337.859 Q140.181 337.859 137.103 333.276 Q134.047 328.669 134.047 319.942 Q134.047 311.192 137.103 306.609 Q140.181 302.003 145.992 302.003 Z\" fill=\"#000000\" fill-rule=\"nonzero\" fill-opacity=\"1\" /><path clip-path=\"url(#clip340)\" d=\"M90.5752 98.5646 L112.797 98.5646 L112.797 100.555 L100.251 133.125 L95.3669 133.125 L107.172 102.5 L90.5752 102.5 L90.5752 98.5646 Z\" fill=\"#000000\" fill-rule=\"nonzero\" fill-opacity=\"1\" /><path clip-path=\"url(#clip340)\" d=\"M121.918 127.245 L126.802 127.245 L126.802 133.125 L121.918 133.125 L121.918 127.245 Z\" fill=\"#000000\" fill-rule=\"nonzero\" fill-opacity=\"1\" /><path clip-path=\"url(#clip340)\" d=\"M137.033 98.5646 L155.39 98.5646 L155.39 102.5 L141.316 102.5 L141.316 110.972 Q142.334 110.625 143.353 110.463 Q144.371 110.278 145.39 110.278 Q151.177 110.278 154.556 113.449 Q157.936 116.62 157.936 122.037 Q157.936 127.615 154.464 130.717 Q150.992 133.796 144.672 133.796 Q142.496 133.796 140.228 133.426 Q137.982 133.055 135.575 132.314 L135.575 127.615 Q137.658 128.75 139.881 129.305 Q142.103 129.861 144.58 129.861 Q148.584 129.861 150.922 127.754 Q153.26 125.648 153.26 122.037 Q153.26 118.426 150.922 116.319 Q148.584 114.213 144.58 114.213 Q142.705 114.213 140.83 114.629 Q138.978 115.046 137.033 115.926 L137.033 98.5646 Z\" fill=\"#000000\" fill-rule=\"nonzero\" fill-opacity=\"1\" /><circle clip-path=\"url(#clip342)\" cx=\"255.035\" cy=\"1445.72\" r=\"14.4\" fill=\"#009af9\" fill-rule=\"evenodd\" fill-opacity=\"1\" stroke=\"#000000\" stroke-opacity=\"1\" stroke-width=\"3.2\"/>\n",
       "<circle clip-path=\"url(#clip342)\" cx=\"267.453\" cy=\"1411.16\" r=\"14.4\" fill=\"#009af9\" fill-rule=\"evenodd\" fill-opacity=\"1\" stroke=\"#000000\" stroke-opacity=\"1\" stroke-width=\"3.2\"/>\n",
       "<circle clip-path=\"url(#clip342)\" cx=\"279.872\" cy=\"1400.03\" r=\"14.4\" fill=\"#009af9\" fill-rule=\"evenodd\" fill-opacity=\"1\" stroke=\"#000000\" stroke-opacity=\"1\" stroke-width=\"3.2\"/>\n",
       "<circle clip-path=\"url(#clip342)\" cx=\"292.29\" cy=\"1376.6\" r=\"14.4\" fill=\"#009af9\" fill-rule=\"evenodd\" fill-opacity=\"1\" stroke=\"#000000\" stroke-opacity=\"1\" stroke-width=\"3.2\"/>\n",
       "<circle clip-path=\"url(#clip342)\" cx=\"304.708\" cy=\"1365.48\" r=\"14.4\" fill=\"#009af9\" fill-rule=\"evenodd\" fill-opacity=\"1\" stroke=\"#000000\" stroke-opacity=\"1\" stroke-width=\"3.2\"/>\n",
       "<circle clip-path=\"url(#clip342)\" cx=\"317.127\" cy=\"1354.35\" r=\"14.4\" fill=\"#009af9\" fill-rule=\"evenodd\" fill-opacity=\"1\" stroke=\"#000000\" stroke-opacity=\"1\" stroke-width=\"3.2\"/>\n",
       "<circle clip-path=\"url(#clip342)\" cx=\"329.545\" cy=\"1342.04\" r=\"14.4\" fill=\"#009af9\" fill-rule=\"evenodd\" fill-opacity=\"1\" stroke=\"#000000\" stroke-opacity=\"1\" stroke-width=\"3.2\"/>\n",
       "<circle clip-path=\"url(#clip342)\" cx=\"341.964\" cy=\"1330.92\" r=\"14.4\" fill=\"#009af9\" fill-rule=\"evenodd\" fill-opacity=\"1\" stroke=\"#000000\" stroke-opacity=\"1\" stroke-width=\"3.2\"/>\n",
       "<circle clip-path=\"url(#clip342)\" cx=\"354.382\" cy=\"1319.79\" r=\"14.4\" fill=\"#009af9\" fill-rule=\"evenodd\" fill-opacity=\"1\" stroke=\"#000000\" stroke-opacity=\"1\" stroke-width=\"3.2\"/>\n",
       "<circle clip-path=\"url(#clip342)\" cx=\"366.801\" cy=\"1308.67\" r=\"14.4\" fill=\"#009af9\" fill-rule=\"evenodd\" fill-opacity=\"1\" stroke=\"#000000\" stroke-opacity=\"1\" stroke-width=\"3.2\"/>\n",
       "<circle clip-path=\"url(#clip342)\" cx=\"379.219\" cy=\"1219.79\" r=\"14.4\" fill=\"#009af9\" fill-rule=\"evenodd\" fill-opacity=\"1\" stroke=\"#000000\" stroke-opacity=\"1\" stroke-width=\"3.2\"/>\n",
       "<circle clip-path=\"url(#clip342)\" cx=\"391.637\" cy=\"1185.23\" r=\"14.4\" fill=\"#009af9\" fill-rule=\"evenodd\" fill-opacity=\"1\" stroke=\"#000000\" stroke-opacity=\"1\" stroke-width=\"3.2\"/>\n",
       "<circle clip-path=\"url(#clip342)\" cx=\"404.056\" cy=\"1174.11\" r=\"14.4\" fill=\"#009af9\" fill-rule=\"evenodd\" fill-opacity=\"1\" stroke=\"#000000\" stroke-opacity=\"1\" stroke-width=\"3.2\"/>\n",
       "<circle clip-path=\"url(#clip342)\" cx=\"416.474\" cy=\"1163.25\" r=\"14.4\" fill=\"#009af9\" fill-rule=\"evenodd\" fill-opacity=\"1\" stroke=\"#000000\" stroke-opacity=\"1\" stroke-width=\"3.2\"/>\n",
       "<circle clip-path=\"url(#clip342)\" cx=\"428.893\" cy=\"1150.67\" r=\"14.4\" fill=\"#009af9\" fill-rule=\"evenodd\" fill-opacity=\"1\" stroke=\"#000000\" stroke-opacity=\"1\" stroke-width=\"3.2\"/>\n",
       "<circle clip-path=\"url(#clip342)\" cx=\"441.311\" cy=\"1139.55\" r=\"14.4\" fill=\"#009af9\" fill-rule=\"evenodd\" fill-opacity=\"1\" stroke=\"#000000\" stroke-opacity=\"1\" stroke-width=\"3.2\"/>\n",
       "<circle clip-path=\"url(#clip342)\" cx=\"453.73\" cy=\"1128.69\" r=\"14.4\" fill=\"#009af9\" fill-rule=\"evenodd\" fill-opacity=\"1\" stroke=\"#000000\" stroke-opacity=\"1\" stroke-width=\"3.2\"/>\n",
       "<circle clip-path=\"url(#clip342)\" cx=\"466.148\" cy=\"1128.43\" r=\"14.4\" fill=\"#009af9\" fill-rule=\"evenodd\" fill-opacity=\"1\" stroke=\"#000000\" stroke-opacity=\"1\" stroke-width=\"3.2\"/>\n",
       "<circle clip-path=\"url(#clip342)\" cx=\"478.566\" cy=\"1123\" r=\"14.4\" fill=\"#009af9\" fill-rule=\"evenodd\" fill-opacity=\"1\" stroke=\"#000000\" stroke-opacity=\"1\" stroke-width=\"3.2\"/>\n",
       "<circle clip-path=\"url(#clip342)\" cx=\"490.985\" cy=\"1117.57\" r=\"14.4\" fill=\"#009af9\" fill-rule=\"evenodd\" fill-opacity=\"1\" stroke=\"#000000\" stroke-opacity=\"1\" stroke-width=\"3.2\"/>\n",
       "<circle clip-path=\"url(#clip342)\" cx=\"503.403\" cy=\"1094.14\" r=\"14.4\" fill=\"#009af9\" fill-rule=\"evenodd\" fill-opacity=\"1\" stroke=\"#000000\" stroke-opacity=\"1\" stroke-width=\"3.2\"/>\n",
       "<circle clip-path=\"url(#clip342)\" cx=\"515.822\" cy=\"1088.44\" r=\"14.4\" fill=\"#009af9\" fill-rule=\"evenodd\" fill-opacity=\"1\" stroke=\"#000000\" stroke-opacity=\"1\" stroke-width=\"3.2\"/>\n",
       "<circle clip-path=\"url(#clip342)\" cx=\"528.24\" cy=\"1083.01\" r=\"14.4\" fill=\"#009af9\" fill-rule=\"evenodd\" fill-opacity=\"1\" stroke=\"#000000\" stroke-opacity=\"1\" stroke-width=\"3.2\"/>\n",
       "<circle clip-path=\"url(#clip342)\" cx=\"540.659\" cy=\"1077.32\" r=\"14.4\" fill=\"#009af9\" fill-rule=\"evenodd\" fill-opacity=\"1\" stroke=\"#000000\" stroke-opacity=\"1\" stroke-width=\"3.2\"/>\n",
       "<circle clip-path=\"url(#clip342)\" cx=\"553.077\" cy=\"1071.89\" r=\"14.4\" fill=\"#009af9\" fill-rule=\"evenodd\" fill-opacity=\"1\" stroke=\"#000000\" stroke-opacity=\"1\" stroke-width=\"3.2\"/>\n",
       "<circle clip-path=\"url(#clip342)\" cx=\"565.495\" cy=\"1066.73\" r=\"14.4\" fill=\"#009af9\" fill-rule=\"evenodd\" fill-opacity=\"1\" stroke=\"#000000\" stroke-opacity=\"1\" stroke-width=\"3.2\"/>\n",
       "<circle clip-path=\"url(#clip342)\" cx=\"577.914\" cy=\"1053.88\" r=\"14.4\" fill=\"#009af9\" fill-rule=\"evenodd\" fill-opacity=\"1\" stroke=\"#000000\" stroke-opacity=\"1\" stroke-width=\"3.2\"/>\n",
       "<circle clip-path=\"url(#clip342)\" cx=\"590.332\" cy=\"1042.76\" r=\"14.4\" fill=\"#009af9\" fill-rule=\"evenodd\" fill-opacity=\"1\" stroke=\"#000000\" stroke-opacity=\"1\" stroke-width=\"3.2\"/>\n",
       "<circle clip-path=\"url(#clip342)\" cx=\"602.751\" cy=\"1035.58\" r=\"14.4\" fill=\"#009af9\" fill-rule=\"evenodd\" fill-opacity=\"1\" stroke=\"#000000\" stroke-opacity=\"1\" stroke-width=\"3.2\"/>\n",
       "<circle clip-path=\"url(#clip342)\" cx=\"615.169\" cy=\"1032.17\" r=\"14.4\" fill=\"#009af9\" fill-rule=\"evenodd\" fill-opacity=\"1\" stroke=\"#000000\" stroke-opacity=\"1\" stroke-width=\"3.2\"/>\n",
       "<circle clip-path=\"url(#clip342)\" cx=\"627.588\" cy=\"1031.64\" r=\"14.4\" fill=\"#009af9\" fill-rule=\"evenodd\" fill-opacity=\"1\" stroke=\"#000000\" stroke-opacity=\"1\" stroke-width=\"3.2\"/>\n",
       "<circle clip-path=\"url(#clip342)\" cx=\"640.006\" cy=\"1021.04\" r=\"14.4\" fill=\"#009af9\" fill-rule=\"evenodd\" fill-opacity=\"1\" stroke=\"#000000\" stroke-opacity=\"1\" stroke-width=\"3.2\"/>\n",
       "<circle clip-path=\"url(#clip342)\" cx=\"652.424\" cy=\"1001.03\" r=\"14.4\" fill=\"#009af9\" fill-rule=\"evenodd\" fill-opacity=\"1\" stroke=\"#000000\" stroke-opacity=\"1\" stroke-width=\"3.2\"/>\n",
       "<circle clip-path=\"url(#clip342)\" cx=\"664.843\" cy=\"997.611\" r=\"14.4\" fill=\"#009af9\" fill-rule=\"evenodd\" fill-opacity=\"1\" stroke=\"#000000\" stroke-opacity=\"1\" stroke-width=\"3.2\"/>\n",
       "<circle clip-path=\"url(#clip342)\" cx=\"677.261\" cy=\"993.865\" r=\"14.4\" fill=\"#009af9\" fill-rule=\"evenodd\" fill-opacity=\"1\" stroke=\"#000000\" stroke-opacity=\"1\" stroke-width=\"3.2\"/>\n",
       "<circle clip-path=\"url(#clip342)\" cx=\"689.68\" cy=\"993.136\" r=\"14.4\" fill=\"#009af9\" fill-rule=\"evenodd\" fill-opacity=\"1\" stroke=\"#000000\" stroke-opacity=\"1\" stroke-width=\"3.2\"/>\n",
       "<circle clip-path=\"url(#clip342)\" cx=\"702.098\" cy=\"989.902\" r=\"14.4\" fill=\"#009af9\" fill-rule=\"evenodd\" fill-opacity=\"1\" stroke=\"#000000\" stroke-opacity=\"1\" stroke-width=\"3.2\"/>\n",
       "<circle clip-path=\"url(#clip342)\" cx=\"714.517\" cy=\"986.487\" r=\"14.4\" fill=\"#009af9\" fill-rule=\"evenodd\" fill-opacity=\"1\" stroke=\"#000000\" stroke-opacity=\"1\" stroke-width=\"3.2\"/>\n",
       "<circle clip-path=\"url(#clip342)\" cx=\"726.935\" cy=\"975.362\" r=\"14.4\" fill=\"#009af9\" fill-rule=\"evenodd\" fill-opacity=\"1\" stroke=\"#000000\" stroke-opacity=\"1\" stroke-width=\"3.2\"/>\n",
       "<circle clip-path=\"url(#clip342)\" cx=\"739.353\" cy=\"966.469\" r=\"14.4\" fill=\"#009af9\" fill-rule=\"evenodd\" fill-opacity=\"1\" stroke=\"#000000\" stroke-opacity=\"1\" stroke-width=\"3.2\"/>\n",
       "<circle clip-path=\"url(#clip342)\" cx=\"751.772\" cy=\"959.307\" r=\"14.4\" fill=\"#009af9\" fill-rule=\"evenodd\" fill-opacity=\"1\" stroke=\"#000000\" stroke-opacity=\"1\" stroke-width=\"3.2\"/>\n",
       "<circle clip-path=\"url(#clip342)\" cx=\"764.19\" cy=\"958.578\" r=\"14.4\" fill=\"#009af9\" fill-rule=\"evenodd\" fill-opacity=\"1\" stroke=\"#000000\" stroke-opacity=\"1\" stroke-width=\"3.2\"/>\n",
       "<circle clip-path=\"url(#clip342)\" cx=\"776.609\" cy=\"955.344\" r=\"14.4\" fill=\"#009af9\" fill-rule=\"evenodd\" fill-opacity=\"1\" stroke=\"#000000\" stroke-opacity=\"1\" stroke-width=\"3.2\"/>\n",
       "<circle clip-path=\"url(#clip342)\" cx=\"789.027\" cy=\"948.182\" r=\"14.4\" fill=\"#009af9\" fill-rule=\"evenodd\" fill-opacity=\"1\" stroke=\"#000000\" stroke-opacity=\"1\" stroke-width=\"3.2\"/>\n",
       "<circle clip-path=\"url(#clip342)\" cx=\"801.446\" cy=\"947.454\" r=\"14.4\" fill=\"#009af9\" fill-rule=\"evenodd\" fill-opacity=\"1\" stroke=\"#000000\" stroke-opacity=\"1\" stroke-width=\"3.2\"/>\n",
       "<circle clip-path=\"url(#clip342)\" cx=\"813.864\" cy=\"944.22\" r=\"14.4\" fill=\"#009af9\" fill-rule=\"evenodd\" fill-opacity=\"1\" stroke=\"#000000\" stroke-opacity=\"1\" stroke-width=\"3.2\"/>\n",
       "<circle clip-path=\"url(#clip342)\" cx=\"826.282\" cy=\"937.326\" r=\"14.4\" fill=\"#009af9\" fill-rule=\"evenodd\" fill-opacity=\"1\" stroke=\"#000000\" stroke-opacity=\"1\" stroke-width=\"3.2\"/>\n",
       "<circle clip-path=\"url(#clip342)\" cx=\"838.701\" cy=\"924.02\" r=\"14.4\" fill=\"#009af9\" fill-rule=\"evenodd\" fill-opacity=\"1\" stroke=\"#000000\" stroke-opacity=\"1\" stroke-width=\"3.2\"/>\n",
       "<circle clip-path=\"url(#clip342)\" cx=\"851.119\" cy=\"912.896\" r=\"14.4\" fill=\"#009af9\" fill-rule=\"evenodd\" fill-opacity=\"1\" stroke=\"#000000\" stroke-opacity=\"1\" stroke-width=\"3.2\"/>\n",
       "<circle clip-path=\"url(#clip342)\" cx=\"863.538\" cy=\"902.768\" r=\"14.4\" fill=\"#009af9\" fill-rule=\"evenodd\" fill-opacity=\"1\" stroke=\"#000000\" stroke-opacity=\"1\" stroke-width=\"3.2\"/>\n",
       "<circle clip-path=\"url(#clip342)\" cx=\"875.956\" cy=\"901.771\" r=\"14.4\" fill=\"#009af9\" fill-rule=\"evenodd\" fill-opacity=\"1\" stroke=\"#000000\" stroke-opacity=\"1\" stroke-width=\"3.2\"/>\n",
       "<circle clip-path=\"url(#clip342)\" cx=\"888.375\" cy=\"897.074\" r=\"14.4\" fill=\"#009af9\" fill-rule=\"evenodd\" fill-opacity=\"1\" stroke=\"#000000\" stroke-opacity=\"1\" stroke-width=\"3.2\"/>\n",
       "<circle clip-path=\"url(#clip342)\" cx=\"900.793\" cy=\"891.643\" r=\"14.4\" fill=\"#009af9\" fill-rule=\"evenodd\" fill-opacity=\"1\" stroke=\"#000000\" stroke-opacity=\"1\" stroke-width=\"3.2\"/>\n",
       "<circle clip-path=\"url(#clip342)\" cx=\"913.211\" cy=\"880.787\" r=\"14.4\" fill=\"#009af9\" fill-rule=\"evenodd\" fill-opacity=\"1\" stroke=\"#000000\" stroke-opacity=\"1\" stroke-width=\"3.2\"/>\n",
       "<circle clip-path=\"url(#clip342)\" cx=\"925.63\" cy=\"862.516\" r=\"14.4\" fill=\"#009af9\" fill-rule=\"evenodd\" fill-opacity=\"1\" stroke=\"#000000\" stroke-opacity=\"1\" stroke-width=\"3.2\"/>\n",
       "<circle clip-path=\"url(#clip342)\" cx=\"938.048\" cy=\"851.392\" r=\"14.4\" fill=\"#009af9\" fill-rule=\"evenodd\" fill-opacity=\"1\" stroke=\"#000000\" stroke-opacity=\"1\" stroke-width=\"3.2\"/>\n",
       "<circle clip-path=\"url(#clip342)\" cx=\"950.467\" cy=\"846.229\" r=\"14.4\" fill=\"#009af9\" fill-rule=\"evenodd\" fill-opacity=\"1\" stroke=\"#000000\" stroke-opacity=\"1\" stroke-width=\"3.2\"/>\n",
       "<circle clip-path=\"url(#clip342)\" cx=\"962.885\" cy=\"840.801\" r=\"14.4\" fill=\"#009af9\" fill-rule=\"evenodd\" fill-opacity=\"1\" stroke=\"#000000\" stroke-opacity=\"1\" stroke-width=\"3.2\"/>\n",
       "<circle clip-path=\"url(#clip342)\" cx=\"975.304\" cy=\"840.536\" r=\"14.4\" fill=\"#009af9\" fill-rule=\"evenodd\" fill-opacity=\"1\" stroke=\"#000000\" stroke-opacity=\"1\" stroke-width=\"3.2\"/>\n",
       "<circle clip-path=\"url(#clip342)\" cx=\"987.722\" cy=\"835.104\" r=\"14.4\" fill=\"#009af9\" fill-rule=\"evenodd\" fill-opacity=\"1\" stroke=\"#000000\" stroke-opacity=\"1\" stroke-width=\"3.2\"/>\n",
       "<circle clip-path=\"url(#clip342)\" cx=\"1000.14\" cy=\"809.659\" r=\"14.4\" fill=\"#009af9\" fill-rule=\"evenodd\" fill-opacity=\"1\" stroke=\"#000000\" stroke-opacity=\"1\" stroke-width=\"3.2\"/>\n",
       "<circle clip-path=\"url(#clip342)\" cx=\"1012.56\" cy=\"806.243\" r=\"14.4\" fill=\"#009af9\" fill-rule=\"evenodd\" fill-opacity=\"1\" stroke=\"#000000\" stroke-opacity=\"1\" stroke-width=\"3.2\"/>\n",
       "<circle clip-path=\"url(#clip342)\" cx=\"1024.98\" cy=\"805.978\" r=\"14.4\" fill=\"#009af9\" fill-rule=\"evenodd\" fill-opacity=\"1\" stroke=\"#000000\" stroke-opacity=\"1\" stroke-width=\"3.2\"/>\n",
       "<circle clip-path=\"url(#clip342)\" cx=\"1037.4\" cy=\"800.284\" r=\"14.4\" fill=\"#009af9\" fill-rule=\"evenodd\" fill-opacity=\"1\" stroke=\"#000000\" stroke-opacity=\"1\" stroke-width=\"3.2\"/>\n",
       "<circle clip-path=\"url(#clip342)\" cx=\"1049.81\" cy=\"795.119\" r=\"14.4\" fill=\"#009af9\" fill-rule=\"evenodd\" fill-opacity=\"1\" stroke=\"#000000\" stroke-opacity=\"1\" stroke-width=\"3.2\"/>\n",
       "<circle clip-path=\"url(#clip342)\" cx=\"1062.23\" cy=\"794.853\" r=\"14.4\" fill=\"#009af9\" fill-rule=\"evenodd\" fill-opacity=\"1\" stroke=\"#000000\" stroke-opacity=\"1\" stroke-width=\"3.2\"/>\n",
       "<circle clip-path=\"url(#clip342)\" cx=\"1074.65\" cy=\"784.262\" r=\"14.4\" fill=\"#009af9\" fill-rule=\"evenodd\" fill-opacity=\"1\" stroke=\"#000000\" stroke-opacity=\"1\" stroke-width=\"3.2\"/>\n",
       "<circle clip-path=\"url(#clip342)\" cx=\"1087.07\" cy=\"775.101\" r=\"14.4\" fill=\"#009af9\" fill-rule=\"evenodd\" fill-opacity=\"1\" stroke=\"#000000\" stroke-opacity=\"1\" stroke-width=\"3.2\"/>\n",
       "<circle clip-path=\"url(#clip342)\" cx=\"1099.49\" cy=\"767.939\" r=\"14.4\" fill=\"#009af9\" fill-rule=\"evenodd\" fill-opacity=\"1\" stroke=\"#000000\" stroke-opacity=\"1\" stroke-width=\"3.2\"/>\n",
       "<circle clip-path=\"url(#clip342)\" cx=\"1111.91\" cy=\"767.21\" r=\"14.4\" fill=\"#009af9\" fill-rule=\"evenodd\" fill-opacity=\"1\" stroke=\"#000000\" stroke-opacity=\"1\" stroke-width=\"3.2\"/>\n",
       "<circle clip-path=\"url(#clip342)\" cx=\"1124.32\" cy=\"765.726\" r=\"14.4\" fill=\"#009af9\" fill-rule=\"evenodd\" fill-opacity=\"1\" stroke=\"#000000\" stroke-opacity=\"1\" stroke-width=\"3.2\"/>\n",
       "<circle clip-path=\"url(#clip342)\" cx=\"1136.74\" cy=\"763.977\" r=\"14.4\" fill=\"#009af9\" fill-rule=\"evenodd\" fill-opacity=\"1\" stroke=\"#000000\" stroke-opacity=\"1\" stroke-width=\"3.2\"/>\n",
       "<circle clip-path=\"url(#clip342)\" cx=\"1149.16\" cy=\"754.602\" r=\"14.4\" fill=\"#009af9\" fill-rule=\"evenodd\" fill-opacity=\"1\" stroke=\"#000000\" stroke-opacity=\"1\" stroke-width=\"3.2\"/>\n",
       "<circle clip-path=\"url(#clip342)\" cx=\"1161.58\" cy=\"753.12\" r=\"14.4\" fill=\"#009af9\" fill-rule=\"evenodd\" fill-opacity=\"1\" stroke=\"#000000\" stroke-opacity=\"1\" stroke-width=\"3.2\"/>\n",
       "<circle clip-path=\"url(#clip342)\" cx=\"1174\" cy=\"749.704\" r=\"14.4\" fill=\"#009af9\" fill-rule=\"evenodd\" fill-opacity=\"1\" stroke=\"#000000\" stroke-opacity=\"1\" stroke-width=\"3.2\"/>\n",
       "<circle clip-path=\"url(#clip342)\" cx=\"1186.42\" cy=\"744.011\" r=\"14.4\" fill=\"#009af9\" fill-rule=\"evenodd\" fill-opacity=\"1\" stroke=\"#000000\" stroke-opacity=\"1\" stroke-width=\"3.2\"/>\n",
       "<circle clip-path=\"url(#clip342)\" cx=\"1198.84\" cy=\"738.58\" r=\"14.4\" fill=\"#009af9\" fill-rule=\"evenodd\" fill-opacity=\"1\" stroke=\"#000000\" stroke-opacity=\"1\" stroke-width=\"3.2\"/>\n",
       "<circle clip-path=\"url(#clip342)\" cx=\"1211.25\" cy=\"732.652\" r=\"14.4\" fill=\"#009af9\" fill-rule=\"evenodd\" fill-opacity=\"1\" stroke=\"#000000\" stroke-opacity=\"1\" stroke-width=\"3.2\"/>\n",
       "<circle clip-path=\"url(#clip342)\" cx=\"1223.67\" cy=\"721.528\" r=\"14.4\" fill=\"#009af9\" fill-rule=\"evenodd\" fill-opacity=\"1\" stroke=\"#000000\" stroke-opacity=\"1\" stroke-width=\"3.2\"/>\n",
       "<circle clip-path=\"url(#clip342)\" cx=\"1236.09\" cy=\"718.562\" r=\"14.4\" fill=\"#009af9\" fill-rule=\"evenodd\" fill-opacity=\"1\" stroke=\"#000000\" stroke-opacity=\"1\" stroke-width=\"3.2\"/>\n",
       "<circle clip-path=\"url(#clip342)\" cx=\"1248.51\" cy=\"712.869\" r=\"14.4\" fill=\"#009af9\" fill-rule=\"evenodd\" fill-opacity=\"1\" stroke=\"#000000\" stroke-opacity=\"1\" stroke-width=\"3.2\"/>\n",
       "<circle clip-path=\"url(#clip342)\" cx=\"1260.93\" cy=\"711.4\" r=\"14.4\" fill=\"#009af9\" fill-rule=\"evenodd\" fill-opacity=\"1\" stroke=\"#000000\" stroke-opacity=\"1\" stroke-width=\"3.2\"/>\n",
       "<circle clip-path=\"url(#clip342)\" cx=\"1273.35\" cy=\"710.671\" r=\"14.4\" fill=\"#009af9\" fill-rule=\"evenodd\" fill-opacity=\"1\" stroke=\"#000000\" stroke-opacity=\"1\" stroke-width=\"3.2\"/>\n",
       "<circle clip-path=\"url(#clip342)\" cx=\"1285.76\" cy=\"709.453\" r=\"14.4\" fill=\"#009af9\" fill-rule=\"evenodd\" fill-opacity=\"1\" stroke=\"#000000\" stroke-opacity=\"1\" stroke-width=\"3.2\"/>\n",
       "<circle clip-path=\"url(#clip342)\" cx=\"1298.18\" cy=\"707.438\" r=\"14.4\" fill=\"#009af9\" fill-rule=\"evenodd\" fill-opacity=\"1\" stroke=\"#000000\" stroke-opacity=\"1\" stroke-width=\"3.2\"/>\n",
       "<circle clip-path=\"url(#clip342)\" cx=\"1310.6\" cy=\"698.329\" r=\"14.4\" fill=\"#009af9\" fill-rule=\"evenodd\" fill-opacity=\"1\" stroke=\"#000000\" stroke-opacity=\"1\" stroke-width=\"3.2\"/>\n",
       "<circle clip-path=\"url(#clip342)\" cx=\"1323.02\" cy=\"687.738\" r=\"14.4\" fill=\"#009af9\" fill-rule=\"evenodd\" fill-opacity=\"1\" stroke=\"#000000\" stroke-opacity=\"1\" stroke-width=\"3.2\"/>\n",
       "<circle clip-path=\"url(#clip342)\" cx=\"1335.44\" cy=\"678.311\" r=\"14.4\" fill=\"#009af9\" fill-rule=\"evenodd\" fill-opacity=\"1\" stroke=\"#000000\" stroke-opacity=\"1\" stroke-width=\"3.2\"/>\n",
       "<circle clip-path=\"url(#clip342)\" cx=\"1347.86\" cy=\"676.114\" r=\"14.4\" fill=\"#009af9\" fill-rule=\"evenodd\" fill-opacity=\"1\" stroke=\"#000000\" stroke-opacity=\"1\" stroke-width=\"3.2\"/>\n",
       "<circle clip-path=\"url(#clip342)\" cx=\"1360.27\" cy=\"671.149\" r=\"14.4\" fill=\"#009af9\" fill-rule=\"evenodd\" fill-opacity=\"1\" stroke=\"#000000\" stroke-opacity=\"1\" stroke-width=\"3.2\"/>\n",
       "<circle clip-path=\"url(#clip342)\" cx=\"1372.69\" cy=\"670.42\" r=\"14.4\" fill=\"#009af9\" fill-rule=\"evenodd\" fill-opacity=\"1\" stroke=\"#000000\" stroke-opacity=\"1\" stroke-width=\"3.2\"/>\n",
       "<circle clip-path=\"url(#clip342)\" cx=\"1385.11\" cy=\"667.186\" r=\"14.4\" fill=\"#009af9\" fill-rule=\"evenodd\" fill-opacity=\"1\" stroke=\"#000000\" stroke-opacity=\"1\" stroke-width=\"3.2\"/>\n",
       "<circle clip-path=\"url(#clip342)\" cx=\"1397.53\" cy=\"664.989\" r=\"14.4\" fill=\"#009af9\" fill-rule=\"evenodd\" fill-opacity=\"1\" stroke=\"#000000\" stroke-opacity=\"1\" stroke-width=\"3.2\"/>\n",
       "<circle clip-path=\"url(#clip342)\" cx=\"1409.95\" cy=\"656.596\" r=\"14.4\" fill=\"#009af9\" fill-rule=\"evenodd\" fill-opacity=\"1\" stroke=\"#000000\" stroke-opacity=\"1\" stroke-width=\"3.2\"/>\n",
       "<circle clip-path=\"url(#clip342)\" cx=\"1422.37\" cy=\"654.861\" r=\"14.4\" fill=\"#009af9\" fill-rule=\"evenodd\" fill-opacity=\"1\" stroke=\"#000000\" stroke-opacity=\"1\" stroke-width=\"3.2\"/>\n",
       "<circle clip-path=\"url(#clip342)\" cx=\"1434.79\" cy=\"653.18\" r=\"14.4\" fill=\"#009af9\" fill-rule=\"evenodd\" fill-opacity=\"1\" stroke=\"#000000\" stroke-opacity=\"1\" stroke-width=\"3.2\"/>\n",
       "<circle clip-path=\"url(#clip342)\" cx=\"1447.2\" cy=\"642.056\" r=\"14.4\" fill=\"#009af9\" fill-rule=\"evenodd\" fill-opacity=\"1\" stroke=\"#000000\" stroke-opacity=\"1\" stroke-width=\"3.2\"/>\n",
       "<circle clip-path=\"url(#clip342)\" cx=\"1459.62\" cy=\"635.862\" r=\"14.4\" fill=\"#009af9\" fill-rule=\"evenodd\" fill-opacity=\"1\" stroke=\"#000000\" stroke-opacity=\"1\" stroke-width=\"3.2\"/>\n",
       "<circle clip-path=\"url(#clip342)\" cx=\"1472.04\" cy=\"625.453\" r=\"14.4\" fill=\"#009af9\" fill-rule=\"evenodd\" fill-opacity=\"1\" stroke=\"#000000\" stroke-opacity=\"1\" stroke-width=\"3.2\"/>\n",
       "<circle clip-path=\"url(#clip342)\" cx=\"1484.46\" cy=\"624.738\" r=\"14.4\" fill=\"#009af9\" fill-rule=\"evenodd\" fill-opacity=\"1\" stroke=\"#000000\" stroke-opacity=\"1\" stroke-width=\"3.2\"/>\n",
       "<circle clip-path=\"url(#clip342)\" cx=\"1496.88\" cy=\"622.038\" r=\"14.4\" fill=\"#009af9\" fill-rule=\"evenodd\" fill-opacity=\"1\" stroke=\"#000000\" stroke-opacity=\"1\" stroke-width=\"3.2\"/>\n",
       "<circle clip-path=\"url(#clip342)\" cx=\"1509.3\" cy=\"614.876\" r=\"14.4\" fill=\"#009af9\" fill-rule=\"evenodd\" fill-opacity=\"1\" stroke=\"#000000\" stroke-opacity=\"1\" stroke-width=\"3.2\"/>\n",
       "<circle clip-path=\"url(#clip342)\" cx=\"1521.71\" cy=\"614.61\" r=\"14.4\" fill=\"#009af9\" fill-rule=\"evenodd\" fill-opacity=\"1\" stroke=\"#000000\" stroke-opacity=\"1\" stroke-width=\"3.2\"/>\n",
       "<circle clip-path=\"url(#clip342)\" cx=\"1534.13\" cy=\"614.147\" r=\"14.4\" fill=\"#009af9\" fill-rule=\"evenodd\" fill-opacity=\"1\" stroke=\"#000000\" stroke-opacity=\"1\" stroke-width=\"3.2\"/>\n",
       "<circle clip-path=\"url(#clip342)\" cx=\"1546.55\" cy=\"610.913\" r=\"14.4\" fill=\"#009af9\" fill-rule=\"evenodd\" fill-opacity=\"1\" stroke=\"#000000\" stroke-opacity=\"1\" stroke-width=\"3.2\"/>\n",
       "<circle clip-path=\"url(#clip342)\" cx=\"1558.97\" cy=\"598.322\" r=\"14.4\" fill=\"#009af9\" fill-rule=\"evenodd\" fill-opacity=\"1\" stroke=\"#000000\" stroke-opacity=\"1\" stroke-width=\"3.2\"/>\n",
       "<circle clip-path=\"url(#clip342)\" cx=\"1571.39\" cy=\"590.895\" r=\"14.4\" fill=\"#009af9\" fill-rule=\"evenodd\" fill-opacity=\"1\" stroke=\"#000000\" stroke-opacity=\"1\" stroke-width=\"3.2\"/>\n",
       "<circle clip-path=\"url(#clip342)\" cx=\"1583.81\" cy=\"583.733\" r=\"14.4\" fill=\"#009af9\" fill-rule=\"evenodd\" fill-opacity=\"1\" stroke=\"#000000\" stroke-opacity=\"1\" stroke-width=\"3.2\"/>\n",
       "<circle clip-path=\"url(#clip342)\" cx=\"1596.23\" cy=\"583.005\" r=\"14.4\" fill=\"#009af9\" fill-rule=\"evenodd\" fill-opacity=\"1\" stroke=\"#000000\" stroke-opacity=\"1\" stroke-width=\"3.2\"/>\n",
       "<circle clip-path=\"url(#clip342)\" cx=\"1608.64\" cy=\"579.771\" r=\"14.4\" fill=\"#009af9\" fill-rule=\"evenodd\" fill-opacity=\"1\" stroke=\"#000000\" stroke-opacity=\"1\" stroke-width=\"3.2\"/>\n",
       "<circle clip-path=\"url(#clip342)\" cx=\"1621.06\" cy=\"579.589\" r=\"14.4\" fill=\"#009af9\" fill-rule=\"evenodd\" fill-opacity=\"1\" stroke=\"#000000\" stroke-opacity=\"1\" stroke-width=\"3.2\"/>\n",
       "<circle clip-path=\"url(#clip342)\" cx=\"1633.48\" cy=\"574.359\" r=\"14.4\" fill=\"#009af9\" fill-rule=\"evenodd\" fill-opacity=\"1\" stroke=\"#000000\" stroke-opacity=\"1\" stroke-width=\"3.2\"/>\n",
       "<circle clip-path=\"url(#clip342)\" cx=\"1645.9\" cy=\"568.465\" r=\"14.4\" fill=\"#009af9\" fill-rule=\"evenodd\" fill-opacity=\"1\" stroke=\"#000000\" stroke-opacity=\"1\" stroke-width=\"3.2\"/>\n",
       "<circle clip-path=\"url(#clip342)\" cx=\"1658.32\" cy=\"558.337\" r=\"14.4\" fill=\"#009af9\" fill-rule=\"evenodd\" fill-opacity=\"1\" stroke=\"#000000\" stroke-opacity=\"1\" stroke-width=\"3.2\"/>\n",
       "<circle clip-path=\"url(#clip342)\" cx=\"1670.74\" cy=\"558.071\" r=\"14.4\" fill=\"#009af9\" fill-rule=\"evenodd\" fill-opacity=\"1\" stroke=\"#000000\" stroke-opacity=\"1\" stroke-width=\"3.2\"/>\n",
       "<circle clip-path=\"url(#clip342)\" cx=\"1683.15\" cy=\"548.447\" r=\"14.4\" fill=\"#009af9\" fill-rule=\"evenodd\" fill-opacity=\"1\" stroke=\"#000000\" stroke-opacity=\"1\" stroke-width=\"3.2\"/>\n",
       "<circle clip-path=\"url(#clip342)\" cx=\"1695.57\" cy=\"541.285\" r=\"14.4\" fill=\"#009af9\" fill-rule=\"evenodd\" fill-opacity=\"1\" stroke=\"#000000\" stroke-opacity=\"1\" stroke-width=\"3.2\"/>\n",
       "<circle clip-path=\"url(#clip342)\" cx=\"1707.99\" cy=\"540.556\" r=\"14.4\" fill=\"#009af9\" fill-rule=\"evenodd\" fill-opacity=\"1\" stroke=\"#000000\" stroke-opacity=\"1\" stroke-width=\"3.2\"/>\n",
       "<circle clip-path=\"url(#clip342)\" cx=\"1720.41\" cy=\"537.322\" r=\"14.4\" fill=\"#009af9\" fill-rule=\"evenodd\" fill-opacity=\"1\" stroke=\"#000000\" stroke-opacity=\"1\" stroke-width=\"3.2\"/>\n",
       "<circle clip-path=\"url(#clip342)\" cx=\"1732.83\" cy=\"527.195\" r=\"14.4\" fill=\"#009af9\" fill-rule=\"evenodd\" fill-opacity=\"1\" stroke=\"#000000\" stroke-opacity=\"1\" stroke-width=\"3.2\"/>\n",
       "<circle clip-path=\"url(#clip342)\" cx=\"1745.25\" cy=\"518.086\" r=\"14.4\" fill=\"#009af9\" fill-rule=\"evenodd\" fill-opacity=\"1\" stroke=\"#000000\" stroke-opacity=\"1\" stroke-width=\"3.2\"/>\n",
       "<circle clip-path=\"url(#clip342)\" cx=\"1757.66\" cy=\"517.82\" r=\"14.4\" fill=\"#009af9\" fill-rule=\"evenodd\" fill-opacity=\"1\" stroke=\"#000000\" stroke-opacity=\"1\" stroke-width=\"3.2\"/>\n",
       "<circle clip-path=\"url(#clip342)\" cx=\"1770.08\" cy=\"505.998\" r=\"14.4\" fill=\"#009af9\" fill-rule=\"evenodd\" fill-opacity=\"1\" stroke=\"#000000\" stroke-opacity=\"1\" stroke-width=\"3.2\"/>\n",
       "<circle clip-path=\"url(#clip342)\" cx=\"1782.5\" cy=\"501.798\" r=\"14.4\" fill=\"#009af9\" fill-rule=\"evenodd\" fill-opacity=\"1\" stroke=\"#000000\" stroke-opacity=\"1\" stroke-width=\"3.2\"/>\n",
       "<circle clip-path=\"url(#clip342)\" cx=\"1794.92\" cy=\"494.874\" r=\"14.4\" fill=\"#009af9\" fill-rule=\"evenodd\" fill-opacity=\"1\" stroke=\"#000000\" stroke-opacity=\"1\" stroke-width=\"3.2\"/>\n",
       "<circle clip-path=\"url(#clip342)\" cx=\"1807.34\" cy=\"486.943\" r=\"14.4\" fill=\"#009af9\" fill-rule=\"evenodd\" fill-opacity=\"1\" stroke=\"#000000\" stroke-opacity=\"1\" stroke-width=\"3.2\"/>\n",
       "<circle clip-path=\"url(#clip342)\" cx=\"1819.76\" cy=\"484.746\" r=\"14.4\" fill=\"#009af9\" fill-rule=\"evenodd\" fill-opacity=\"1\" stroke=\"#000000\" stroke-opacity=\"1\" stroke-width=\"3.2\"/>\n",
       "<circle clip-path=\"url(#clip342)\" cx=\"1832.18\" cy=\"477.568\" r=\"14.4\" fill=\"#009af9\" fill-rule=\"evenodd\" fill-opacity=\"1\" stroke=\"#000000\" stroke-opacity=\"1\" stroke-width=\"3.2\"/>\n",
       "<circle clip-path=\"url(#clip342)\" cx=\"1844.59\" cy=\"470.656\" r=\"14.4\" fill=\"#009af9\" fill-rule=\"evenodd\" fill-opacity=\"1\" stroke=\"#000000\" stroke-opacity=\"1\" stroke-width=\"3.2\"/>\n",
       "<circle clip-path=\"url(#clip342)\" cx=\"1857.01\" cy=\"461.812\" r=\"14.4\" fill=\"#009af9\" fill-rule=\"evenodd\" fill-opacity=\"1\" stroke=\"#000000\" stroke-opacity=\"1\" stroke-width=\"3.2\"/>\n",
       "<circle clip-path=\"url(#clip342)\" cx=\"1869.43\" cy=\"461.547\" r=\"14.4\" fill=\"#009af9\" fill-rule=\"evenodd\" fill-opacity=\"1\" stroke=\"#000000\" stroke-opacity=\"1\" stroke-width=\"3.2\"/>\n",
       "<circle clip-path=\"url(#clip342)\" cx=\"1881.85\" cy=\"444.495\" r=\"14.4\" fill=\"#009af9\" fill-rule=\"evenodd\" fill-opacity=\"1\" stroke=\"#000000\" stroke-opacity=\"1\" stroke-width=\"3.2\"/>\n",
       "<circle clip-path=\"url(#clip342)\" cx=\"1894.27\" cy=\"430.67\" r=\"14.4\" fill=\"#009af9\" fill-rule=\"evenodd\" fill-opacity=\"1\" stroke=\"#000000\" stroke-opacity=\"1\" stroke-width=\"3.2\"/>\n",
       "<circle clip-path=\"url(#clip342)\" cx=\"1906.69\" cy=\"430.404\" r=\"14.4\" fill=\"#009af9\" fill-rule=\"evenodd\" fill-opacity=\"1\" stroke=\"#000000\" stroke-opacity=\"1\" stroke-width=\"3.2\"/>\n",
       "<circle clip-path=\"url(#clip342)\" cx=\"1919.1\" cy=\"428.207\" r=\"14.4\" fill=\"#009af9\" fill-rule=\"evenodd\" fill-opacity=\"1\" stroke=\"#000000\" stroke-opacity=\"1\" stroke-width=\"3.2\"/>\n",
       "<circle clip-path=\"url(#clip342)\" cx=\"1931.52\" cy=\"421.295\" r=\"14.4\" fill=\"#009af9\" fill-rule=\"evenodd\" fill-opacity=\"1\" stroke=\"#000000\" stroke-opacity=\"1\" stroke-width=\"3.2\"/>\n",
       "<circle clip-path=\"url(#clip342)\" cx=\"1943.94\" cy=\"405.274\" r=\"14.4\" fill=\"#009af9\" fill-rule=\"evenodd\" fill-opacity=\"1\" stroke=\"#000000\" stroke-opacity=\"1\" stroke-width=\"3.2\"/>\n",
       "<circle clip-path=\"url(#clip342)\" cx=\"1956.36\" cy=\"399.528\" r=\"14.4\" fill=\"#009af9\" fill-rule=\"evenodd\" fill-opacity=\"1\" stroke=\"#000000\" stroke-opacity=\"1\" stroke-width=\"3.2\"/>\n",
       "<circle clip-path=\"url(#clip342)\" cx=\"1968.78\" cy=\"390.153\" r=\"14.4\" fill=\"#009af9\" fill-rule=\"evenodd\" fill-opacity=\"1\" stroke=\"#000000\" stroke-opacity=\"1\" stroke-width=\"3.2\"/>\n",
       "<circle clip-path=\"url(#clip342)\" cx=\"1981.2\" cy=\"388.222\" r=\"14.4\" fill=\"#009af9\" fill-rule=\"evenodd\" fill-opacity=\"1\" stroke=\"#000000\" stroke-opacity=\"1\" stroke-width=\"3.2\"/>\n",
       "<circle clip-path=\"url(#clip342)\" cx=\"1993.61\" cy=\"387.956\" r=\"14.4\" fill=\"#009af9\" fill-rule=\"evenodd\" fill-opacity=\"1\" stroke=\"#000000\" stroke-opacity=\"1\" stroke-width=\"3.2\"/>\n",
       "<circle clip-path=\"url(#clip342)\" cx=\"2006.03\" cy=\"374.131\" r=\"14.4\" fill=\"#009af9\" fill-rule=\"evenodd\" fill-opacity=\"1\" stroke=\"#000000\" stroke-opacity=\"1\" stroke-width=\"3.2\"/>\n",
       "<circle clip-path=\"url(#clip342)\" cx=\"2018.45\" cy=\"365.022\" r=\"14.4\" fill=\"#009af9\" fill-rule=\"evenodd\" fill-opacity=\"1\" stroke=\"#000000\" stroke-opacity=\"1\" stroke-width=\"3.2\"/>\n",
       "<circle clip-path=\"url(#clip342)\" cx=\"2030.87\" cy=\"357.079\" r=\"14.4\" fill=\"#009af9\" fill-rule=\"evenodd\" fill-opacity=\"1\" stroke=\"#000000\" stroke-opacity=\"1\" stroke-width=\"3.2\"/>\n",
       "<circle clip-path=\"url(#clip342)\" cx=\"2043.29\" cy=\"347.704\" r=\"14.4\" fill=\"#009af9\" fill-rule=\"evenodd\" fill-opacity=\"1\" stroke=\"#000000\" stroke-opacity=\"1\" stroke-width=\"3.2\"/>\n",
       "<circle clip-path=\"url(#clip342)\" cx=\"2055.71\" cy=\"342.989\" r=\"14.4\" fill=\"#009af9\" fill-rule=\"evenodd\" fill-opacity=\"1\" stroke=\"#000000\" stroke-opacity=\"1\" stroke-width=\"3.2\"/>\n",
       "<circle clip-path=\"url(#clip342)\" cx=\"2068.13\" cy=\"333.88\" r=\"14.4\" fill=\"#009af9\" fill-rule=\"evenodd\" fill-opacity=\"1\" stroke=\"#000000\" stroke-opacity=\"1\" stroke-width=\"3.2\"/>\n",
       "<circle clip-path=\"url(#clip342)\" cx=\"2080.54\" cy=\"331.683\" r=\"14.4\" fill=\"#009af9\" fill-rule=\"evenodd\" fill-opacity=\"1\" stroke=\"#000000\" stroke-opacity=\"1\" stroke-width=\"3.2\"/>\n",
       "<circle clip-path=\"url(#clip342)\" cx=\"2092.96\" cy=\"314.631\" r=\"14.4\" fill=\"#009af9\" fill-rule=\"evenodd\" fill-opacity=\"1\" stroke=\"#000000\" stroke-opacity=\"1\" stroke-width=\"3.2\"/>\n",
       "<circle clip-path=\"url(#clip342)\" cx=\"2105.38\" cy=\"308.749\" r=\"14.4\" fill=\"#009af9\" fill-rule=\"evenodd\" fill-opacity=\"1\" stroke=\"#000000\" stroke-opacity=\"1\" stroke-width=\"3.2\"/>\n",
       "<circle clip-path=\"url(#clip342)\" cx=\"2117.8\" cy=\"302.738\" r=\"14.4\" fill=\"#009af9\" fill-rule=\"evenodd\" fill-opacity=\"1\" stroke=\"#000000\" stroke-opacity=\"1\" stroke-width=\"3.2\"/>\n",
       "<circle clip-path=\"url(#clip342)\" cx=\"2130.22\" cy=\"300.54\" r=\"14.4\" fill=\"#009af9\" fill-rule=\"evenodd\" fill-opacity=\"1\" stroke=\"#000000\" stroke-opacity=\"1\" stroke-width=\"3.2\"/>\n",
       "<circle clip-path=\"url(#clip342)\" cx=\"2142.64\" cy=\"291.431\" r=\"14.4\" fill=\"#009af9\" fill-rule=\"evenodd\" fill-opacity=\"1\" stroke=\"#000000\" stroke-opacity=\"1\" stroke-width=\"3.2\"/>\n",
       "<circle clip-path=\"url(#clip342)\" cx=\"2155.05\" cy=\"277.607\" r=\"14.4\" fill=\"#009af9\" fill-rule=\"evenodd\" fill-opacity=\"1\" stroke=\"#000000\" stroke-opacity=\"1\" stroke-width=\"3.2\"/>\n",
       "<circle clip-path=\"url(#clip342)\" cx=\"2167.47\" cy=\"260.289\" r=\"14.4\" fill=\"#009af9\" fill-rule=\"evenodd\" fill-opacity=\"1\" stroke=\"#000000\" stroke-opacity=\"1\" stroke-width=\"3.2\"/>\n",
       "<circle clip-path=\"url(#clip342)\" cx=\"2179.89\" cy=\"258.092\" r=\"14.4\" fill=\"#009af9\" fill-rule=\"evenodd\" fill-opacity=\"1\" stroke=\"#000000\" stroke-opacity=\"1\" stroke-width=\"3.2\"/>\n",
       "<circle clip-path=\"url(#clip342)\" cx=\"2192.31\" cy=\"246.464\" r=\"14.4\" fill=\"#009af9\" fill-rule=\"evenodd\" fill-opacity=\"1\" stroke=\"#000000\" stroke-opacity=\"1\" stroke-width=\"3.2\"/>\n",
       "<circle clip-path=\"url(#clip342)\" cx=\"2204.73\" cy=\"235.158\" r=\"14.4\" fill=\"#009af9\" fill-rule=\"evenodd\" fill-opacity=\"1\" stroke=\"#000000\" stroke-opacity=\"1\" stroke-width=\"3.2\"/>\n",
       "<circle clip-path=\"url(#clip342)\" cx=\"2217.15\" cy=\"217.84\" r=\"14.4\" fill=\"#009af9\" fill-rule=\"evenodd\" fill-opacity=\"1\" stroke=\"#000000\" stroke-opacity=\"1\" stroke-width=\"3.2\"/>\n",
       "<circle clip-path=\"url(#clip342)\" cx=\"2229.57\" cy=\"215.322\" r=\"14.4\" fill=\"#009af9\" fill-rule=\"evenodd\" fill-opacity=\"1\" stroke=\"#000000\" stroke-opacity=\"1\" stroke-width=\"3.2\"/>\n",
       "<circle clip-path=\"url(#clip342)\" cx=\"2241.98\" cy=\"204.016\" r=\"14.4\" fill=\"#009af9\" fill-rule=\"evenodd\" fill-opacity=\"1\" stroke=\"#000000\" stroke-opacity=\"1\" stroke-width=\"3.2\"/>\n",
       "<circle clip-path=\"url(#clip342)\" cx=\"2254.4\" cy=\"172.873\" r=\"14.4\" fill=\"#009af9\" fill-rule=\"evenodd\" fill-opacity=\"1\" stroke=\"#000000\" stroke-opacity=\"1\" stroke-width=\"3.2\"/>\n",
       "<circle clip-path=\"url(#clip342)\" cx=\"2266.82\" cy=\"161.567\" r=\"14.4\" fill=\"#009af9\" fill-rule=\"evenodd\" fill-opacity=\"1\" stroke=\"#000000\" stroke-opacity=\"1\" stroke-width=\"3.2\"/>\n",
       "<circle clip-path=\"url(#clip342)\" cx=\"2279.24\" cy=\"130.425\" r=\"14.4\" fill=\"#009af9\" fill-rule=\"evenodd\" fill-opacity=\"1\" stroke=\"#000000\" stroke-opacity=\"1\" stroke-width=\"3.2\"/>\n",
       "<circle clip-path=\"url(#clip342)\" cx=\"2291.66\" cy=\"87.9763\" r=\"14.4\" fill=\"#009af9\" fill-rule=\"evenodd\" fill-opacity=\"1\" stroke=\"#000000\" stroke-opacity=\"1\" stroke-width=\"3.2\"/>\n",
       "<path clip-path=\"url(#clip340)\" d=\"M265.897 198.898 L534.209 198.898 L534.209 95.2176 L265.897 95.2176  Z\" fill=\"#ffffff\" fill-rule=\"evenodd\" fill-opacity=\"1\"/>\n",
       "<polyline clip-path=\"url(#clip340)\" style=\"stroke:#000000; stroke-linecap:round; stroke-linejoin:round; stroke-width:4; stroke-opacity:1; fill:none\" points=\"265.897,198.898 534.209,198.898 534.209,95.2176 265.897,95.2176 265.897,198.898 \"/>\n",
       "<circle clip-path=\"url(#clip340)\" cx=\"361.844\" cy=\"147.058\" r=\"23.04\" fill=\"#009af9\" fill-rule=\"evenodd\" fill-opacity=\"1\" stroke=\"#000000\" stroke-opacity=\"1\" stroke-width=\"5.12\"/>\n",
       "<path clip-path=\"url(#clip340)\" d=\"M471.634 166.745 Q469.829 171.375 468.116 172.787 Q466.403 174.199 463.532 174.199 L460.13 174.199 L460.13 170.634 L462.63 170.634 Q464.389 170.634 465.361 169.8 Q466.333 168.967 467.514 165.865 L468.278 163.921 L457.792 138.412 L462.306 138.412 L470.407 158.689 L478.509 138.412 L483.023 138.412 L471.634 166.745 Z\" fill=\"#000000\" fill-rule=\"nonzero\" fill-opacity=\"1\" /><path clip-path=\"url(#clip340)\" d=\"M490.315 160.402 L497.954 160.402 L497.954 134.037 L489.643 135.703 L489.643 131.444 L497.907 129.778 L502.583 129.778 L502.583 160.402 L510.222 160.402 L510.222 164.338 L490.315 164.338 L490.315 160.402 Z\" fill=\"#000000\" fill-rule=\"nonzero\" fill-opacity=\"1\" /></svg>\n"
      ]
     },
     "execution_count": 35,
     "metadata": {},
     "output_type": "execute_result"
    }
   ],
   "source": [
    "scatter(E_NI)"
   ]
  },
  {
   "cell_type": "code",
   "execution_count": 36,
   "id": "6a5173e0-3913-4928-abfb-e069e32fe773",
   "metadata": {},
   "outputs": [
    {
     "data": {
      "text/plain": [
       "16-element Vector{Float64}:\n",
       " -8.792404800518268\n",
       " -8.369031375168513\n",
       " -8.232745244439757\n",
       " -7.9456579498187665\n",
       " -7.809371819090002\n",
       " -7.67308568836124\n",
       " -7.522284524469029\n",
       " -7.385998393740259\n",
       " -7.2497122630114905\n",
       " -7.11342613228272\n",
       " -6.024565057123043\n",
       " -5.601191631773295\n",
       " -5.464905501044525\n",
       " -5.331900261365133\n",
       " -5.177818206423547\n",
       " -5.041532075694775"
      ]
     },
     "execution_count": 36,
     "metadata": {},
     "output_type": "execute_result"
    }
   ],
   "source": [
    "E_NI[1:16]"
   ]
  },
  {
   "cell_type": "code",
   "execution_count": 37,
   "id": "e7aca911-756d-4447-9a45-9cd0b3b07116",
   "metadata": {},
   "outputs": [],
   "source": [
    "subspace_proj, P, Pt = get_projector_op(basis_mb, U_NI[1:15]);"
   ]
  },
  {
   "cell_type": "code",
   "execution_count": 38,
   "id": "539e9a7c-d93c-4fc4-a90f-3b55fa3babbc",
   "metadata": {},
   "outputs": [],
   "source": [
    "param_dict[\"U\"] = 1\n",
    "H_Int = get_Int_Part(N, basis_mb, param_dict[\"U\"]);"
   ]
  },
  {
   "cell_type": "code",
   "execution_count": 46,
   "id": "fe4952a1-fea7-4961-a5ab-469b0c9a4c5c",
   "metadata": {},
   "outputs": [
    {
     "data": {
      "text/plain": [
       "9-element Vector{Int64}:\n",
       " 2\n",
       " 0\n",
       " 1\n",
       " 0\n",
       " 0\n",
       " 0\n",
       " 0\n",
       " 0\n",
       " 0"
      ]
     },
     "execution_count": 46,
     "metadata": {},
     "output_type": "execute_result"
    }
   ],
   "source": [
    "basis_mb.occupations[3]"
   ]
  },
  {
   "cell_type": "code",
   "execution_count": 47,
   "id": "0fc57ec8-2824-4f45-9dec-88cfe4bbe9cb",
   "metadata": {},
   "outputs": [
    {
     "data": {
      "text/plain": [
       "1.0 + 0.0im"
      ]
     },
     "execution_count": 47,
     "metadata": {},
     "output_type": "execute_result"
    }
   ],
   "source": [
    "dense(H_Int).data[3,3]"
   ]
  },
  {
   "cell_type": "code",
   "execution_count": null,
   "id": "647d0497-cb9d-482c-89b6-86dd73b41d50",
   "metadata": {},
   "outputs": [],
   "source": [
    "H_MB = H_Int + H_NI_mb;"
   ]
  },
  {
   "cell_type": "code",
   "execution_count": null,
   "id": "2e62f421-f7d1-480f-a6d8-d3fa8fcd1a71",
   "metadata": {},
   "outputs": [],
   "source": []
  },
  {
   "cell_type": "code",
   "execution_count": 13,
   "id": "d5e8ed4d-39b0-4536-8b4f-ee0c44b536b3",
   "metadata": {},
   "outputs": [
    {
     "ename": "LoadError",
     "evalue": "UndefVarError: E_NI not defined",
     "output_type": "error",
     "traceback": [
      "UndefVarError: E_NI not defined",
      "",
      "Stacktrace:",
      " [1] top-level scope",
      "   @ In[13]:2"
     ]
    }
   ],
   "source": [
    "EE_MB, UU_MB = eigenstates(dense(H_MB))\n",
    "EE_MB[1:15] - E_NI[1:15]"
   ]
  },
  {
   "cell_type": "code",
   "execution_count": 53,
   "id": "f59293aa-79bd-420e-8594-5194b63d1039",
   "metadata": {},
   "outputs": [],
   "source": [
    "H_Int_proj = get_subspace_op(H_Int, P, Pt);"
   ]
  },
  {
   "cell_type": "code",
   "execution_count": 54,
   "id": "8d6c59b0-4491-45c4-8c3c-05112a44b69f",
   "metadata": {},
   "outputs": [
    {
     "data": {
      "text/plain": [
       "15-element Vector{Float64}:\n",
       " 0.00047745751406262914\n",
       " 0.00047745751406263163\n",
       " 0.00047745751406263353\n",
       " 0.0004774575140626342\n",
       " 0.00047745751406263895\n",
       " 0.00125\n",
       " 0.0012500000000000007\n",
       " 0.0012500000000000026\n",
       " 0.001250000000000003\n",
       " 0.0012500000000000057\n",
       " 0.0032725424859373665\n",
       " 0.00327254248593737\n",
       " 0.0032725424859373713\n",
       " 0.0032725424859373726\n",
       " 0.003272542485937374"
      ]
     },
     "execution_count": 54,
     "metadata": {},
     "output_type": "execute_result"
    }
   ],
   "source": [
    "H_Int_proj = (H_Int_proj'+H_Int_proj)/2\n",
    "E_proj_Int, U_proj_Int = eigenstates(dense(H_Int_proj));\n",
    "E_proj_Int"
   ]
  },
  {
   "cell_type": "code",
   "execution_count": null,
   "id": "052051ff-9215-4cc2-937d-97ddfaef9977",
   "metadata": {},
   "outputs": [],
   "source": []
  },
  {
   "cell_type": "code",
   "execution_count": null,
   "id": "85d1e9d5-6c34-403a-9786-f2bf418923e8",
   "metadata": {},
   "outputs": [],
   "source": []
  },
  {
   "cell_type": "code",
   "execution_count": null,
   "id": "bc755020-51a4-4746-a05c-9fb63afc33e8",
   "metadata": {},
   "outputs": [],
   "source": []
  }
 ],
 "metadata": {
  "kernelspec": {
   "display_name": "Julia 1.8.1",
   "language": "julia",
   "name": "julia-1.8"
  },
  "language_info": {
   "file_extension": ".jl",
   "mimetype": "application/julia",
   "name": "julia",
   "version": "1.8.1"
  }
 },
 "nbformat": 4,
 "nbformat_minor": 5
}
