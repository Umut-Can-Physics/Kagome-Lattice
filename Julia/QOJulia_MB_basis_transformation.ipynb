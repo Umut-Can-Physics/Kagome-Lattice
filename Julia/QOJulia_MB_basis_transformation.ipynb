{
 "cells": [
  {
   "cell_type": "code",
   "execution_count": 1,
   "metadata": {},
   "outputs": [],
   "source": [
    "using QuantumOptics"
   ]
  },
  {
   "cell_type": "code",
   "execution_count": 2,
   "metadata": {},
   "outputs": [
    {
     "data": {
      "text/plain": [
       "NLevel(N=2)"
      ]
     },
     "execution_count": 2,
     "metadata": {},
     "output_type": "execute_result"
    }
   ],
   "source": [
    "basis = NLevelBasis(2)"
   ]
  },
  {
   "cell_type": "code",
   "execution_count": 3,
   "metadata": {},
   "outputs": [
    {
     "data": {
      "text/plain": [
       "Ket(dim=2)\n",
       "  basis: NLevel(N=2)\n",
       " 1.0 + 0.0im\n",
       " 0.0 + 0.0im"
      ]
     },
     "execution_count": 3,
     "metadata": {},
     "output_type": "execute_result"
    }
   ],
   "source": [
    "basisstate(basis, [1])"
   ]
  },
  {
   "cell_type": "code",
   "execution_count": 4,
   "metadata": {},
   "outputs": [
    {
     "data": {
      "text/plain": [
       "Operator(dim=2x2)\n",
       "  basis: NLevel(N=2)sparse([2, 1], [1, 2], ComplexF64[1.0 + 0.0im, 1.0 + 0.0im], 2, 2)"
      ]
     },
     "execution_count": 4,
     "metadata": {},
     "output_type": "execute_result"
    }
   ],
   "source": [
    "sx = transition(basis,1,2) + transition(basis,2,1)"
   ]
  },
  {
   "cell_type": "code",
   "execution_count": 127,
   "metadata": {},
   "outputs": [
    {
     "data": {
      "text/plain": [
       "Operator(dim=2x2)\n",
       "  basis: NLevel(N=2)sparse([2, 1], [1, 2], ComplexF64[0.0 + 1.0im, 0.0 - 1.0im], 2, 2)"
      ]
     },
     "execution_count": 127,
     "metadata": {},
     "output_type": "execute_result"
    }
   ],
   "source": [
    "sy = -1im*transition(basis,1,2) + 1im*transition(basis,2,1)"
   ]
  },
  {
   "cell_type": "code",
   "execution_count": 128,
   "metadata": {},
   "outputs": [
    {
     "data": {
      "text/plain": [
       "([-1.0, 1.0], Ket{NLevelBasis{Int64}, Vector{ComplexF64}}[Ket(dim=2)\n",
       "  basis: NLevel(N=2)\n",
       " -0.7071067811865475 + 0.0im\n",
       "  0.7071067811865475 + 0.0im, Ket(dim=2)\n",
       "  basis: NLevel(N=2)\n",
       " 0.7071067811865475 + 0.0im\n",
       " 0.7071067811865475 + 0.0im])"
      ]
     },
     "execution_count": 128,
     "metadata": {},
     "output_type": "execute_result"
    }
   ],
   "source": [
    "ex, statesx = eigenstates(dense(sx))"
   ]
  },
  {
   "cell_type": "code",
   "execution_count": 129,
   "metadata": {},
   "outputs": [
    {
     "data": {
      "text/plain": [
       "Operator(dim=2x2)\n",
       "  basis: NLevel(N=2)\n",
       " -0.707107+0.0im  0.707107+0.0im\n",
       "  0.707107+0.0im  0.707107+0.0im"
      ]
     },
     "execution_count": 129,
     "metadata": {},
     "output_type": "execute_result"
    }
   ],
   "source": [
    "P = Operator(basis, [statesx[1], statesx[2]])"
   ]
  },
  {
   "cell_type": "code",
   "execution_count": 130,
   "metadata": {},
   "outputs": [
    {
     "data": {
      "text/plain": [
       "Subspace(superbasis=NLevel(N=2), states:2)"
      ]
     },
     "execution_count": 130,
     "metadata": {},
     "output_type": "execute_result"
    }
   ],
   "source": [
    "subspacex = SubspaceBasis(basis,statesx)"
   ]
  },
  {
   "cell_type": "code",
   "execution_count": 131,
   "metadata": {},
   "outputs": [
    {
     "data": {
      "text/plain": [
       "2-element Vector{Ket{NLevelBasis{Int64}, Vector{ComplexF64}}}:\n",
       " Ket(dim=2)\n",
       "  basis: NLevel(N=2)\n",
       " -0.7071067811865475 + 0.0im\n",
       "  0.7071067811865475 + 0.0im\n",
       " Ket(dim=2)\n",
       "  basis: NLevel(N=2)\n",
       " 0.7071067811865475 + 0.0im\n",
       " 0.7071067811865475 + 0.0im"
      ]
     },
     "execution_count": 131,
     "metadata": {},
     "output_type": "execute_result"
    }
   ],
   "source": [
    "subspacex.basisstates"
   ]
  },
  {
   "cell_type": "markdown",
   "metadata": {},
   "source": [
    "# 1-particle"
   ]
  },
  {
   "cell_type": "code",
   "execution_count": 132,
   "metadata": {},
   "outputs": [
    {
     "data": {
      "text/plain": [
       "1"
      ]
     },
     "execution_count": 132,
     "metadata": {},
     "output_type": "execute_result"
    }
   ],
   "source": [
    "PN = 1"
   ]
  },
  {
   "cell_type": "code",
   "execution_count": 133,
   "metadata": {},
   "outputs": [
    {
     "data": {
      "text/plain": [
       "2-element Vector{Vector{Int64}}:\n",
       " [1, 0]\n",
       " [0, 1]"
      ]
     },
     "execution_count": 133,
     "metadata": {},
     "output_type": "execute_result"
    }
   ],
   "source": [
    "mb_states = bosonstates(basis,PN)"
   ]
  },
  {
   "cell_type": "code",
   "execution_count": 134,
   "metadata": {},
   "outputs": [
    {
     "data": {
      "text/plain": [
       "2-element Vector{Vector{Int64}}:\n",
       " [1, 0]\n",
       " [0, 1]"
      ]
     },
     "execution_count": 134,
     "metadata": {},
     "output_type": "execute_result"
    }
   ],
   "source": [
    "mb_statesx = bosonstates(subspacex,PN)"
   ]
  },
  {
   "cell_type": "code",
   "execution_count": 135,
   "metadata": {},
   "outputs": [
    {
     "data": {
      "text/plain": [
       "ManyBody(onebodybasis=NLevel(N=2), states:2)"
      ]
     },
     "execution_count": 135,
     "metadata": {},
     "output_type": "execute_result"
    }
   ],
   "source": [
    "mb_basis = ManyBodyBasis(basis, mb_states)"
   ]
  },
  {
   "cell_type": "code",
   "execution_count": 136,
   "metadata": {},
   "outputs": [
    {
     "data": {
      "text/plain": [
       "2-element Vector{Int64}:\n",
       " 1\n",
       " 0"
      ]
     },
     "execution_count": 136,
     "metadata": {},
     "output_type": "execute_result"
    }
   ],
   "source": [
    "occupation = [1, 0]"
   ]
  },
  {
   "cell_type": "code",
   "execution_count": 137,
   "metadata": {},
   "outputs": [
    {
     "data": {
      "text/plain": [
       "Ket(dim=2)\n",
       "  basis: ManyBody(onebodybasis=NLevel(N=2), states:2)\n",
       " 1.0 + 0.0im\n",
       " 0.0 + 0.0im"
      ]
     },
     "execution_count": 137,
     "metadata": {},
     "output_type": "execute_result"
    }
   ],
   "source": [
    "basisstate(mb_basis, occupation)"
   ]
  },
  {
   "cell_type": "code",
   "execution_count": 153,
   "metadata": {},
   "outputs": [
    {
     "data": {
      "text/plain": [
       "Operator(dim=2x2)\n",
       "  basis: ManyBody(onebodybasis=NLevel(N=2), states:2)sparse([2, 1], [1, 2], ComplexF64[0.0 + 1.0im, 0.0 - 1.0im], 2, 2)"
      ]
     },
     "execution_count": 153,
     "metadata": {},
     "output_type": "execute_result"
    }
   ],
   "source": [
    "sx_mb_basis = manybodyoperator(mb_basis, sx)\n",
    "sy_mb_basis = manybodyoperator(mb_basis, sy)"
   ]
  },
  {
   "cell_type": "code",
   "execution_count": 155,
   "metadata": {},
   "outputs": [
    {
     "data": {
      "text/plain": [
       "Operator(dim=2x2)\n",
       "  basis: ManyBody(onebodybasis=NLevel(N=2), states:2)\n",
       " -0.707107+0.0im  0.707107+0.0im\n",
       "  0.707107+0.0im  0.707107+0.0im"
      ]
     },
     "execution_count": 155,
     "metadata": {},
     "output_type": "execute_result"
    }
   ],
   "source": [
    "P_mb_basis = manybodyoperator(mb_basis, P)"
   ]
  },
  {
   "cell_type": "code",
   "execution_count": 156,
   "metadata": {},
   "outputs": [
    {
     "data": {
      "text/plain": [
       "ManyBody(onebodybasis=Subspace(superbasis=NLevel(N=2), states:2), states:2)"
      ]
     },
     "execution_count": 156,
     "metadata": {},
     "output_type": "execute_result"
    }
   ],
   "source": [
    "mb_basisx = ManyBodyBasis(subspacex, mb_statesx)"
   ]
  },
  {
   "cell_type": "code",
   "execution_count": 157,
   "metadata": {},
   "outputs": [
    {
     "data": {
      "text/plain": [
       "Operator(dim=2x2)\n",
       "  basis: ManyBody(onebodybasis=Subspace(superbasis=NLevel(N=2), states:2), states:2)sparse([1, 2], [1, 2], ComplexF64[-1.0 + 0.0im, 1.0 + 0.0im], 2, 2)"
      ]
     },
     "execution_count": 157,
     "metadata": {},
     "output_type": "execute_result"
    }
   ],
   "source": [
    "sx_mb_basisx = -transition(mb_basisx,1,1) + transition(mb_basisx,2,2)"
   ]
  },
  {
   "cell_type": "code",
   "execution_count": 158,
   "metadata": {},
   "outputs": [
    {
     "data": {
      "text/plain": [
       "2×2 SparseMatrixCSC{ComplexF64, Int64} with 2 stored entries:\n",
       " -1.0+0.0im      ⋅    \n",
       "      ⋅      1.0+0.0im"
      ]
     },
     "execution_count": 158,
     "metadata": {},
     "output_type": "execute_result"
    }
   ],
   "source": [
    "sx_mb_basisx.data"
   ]
  },
  {
   "cell_type": "code",
   "execution_count": 160,
   "metadata": {},
   "outputs": [
    {
     "data": {
      "text/plain": [
       "Operator(dim=2x2)\n",
       "  basis: ManyBody(onebodybasis=NLevel(N=2), states:2)\n",
       " -1.0+0.0im  0.0+0.0im\n",
       "  0.0+0.0im  1.0+0.0im"
      ]
     },
     "execution_count": 160,
     "metadata": {},
     "output_type": "execute_result"
    }
   ],
   "source": [
    "P_mb_basis*sx_mb_basis*P_mb_basis'"
   ]
  },
  {
   "cell_type": "markdown",
   "metadata": {},
   "source": [
    "### from x-basis to z-basis"
   ]
  },
  {
   "cell_type": "code",
   "execution_count": 152,
   "metadata": {},
   "outputs": [
    {
     "data": {
      "text/plain": [
       "2×2 Matrix{ComplexF64}:\n",
       " 0.0+0.0im  1.0+0.0im\n",
       " 1.0+0.0im  0.0+0.0im"
      ]
     },
     "execution_count": 152,
     "metadata": {},
     "output_type": "execute_result"
    }
   ],
   "source": [
    "P.data*sx_mb_basisx.data*P.data'"
   ]
  },
  {
   "cell_type": "markdown",
   "metadata": {},
   "source": [
    "# 2-particle"
   ]
  },
  {
   "cell_type": "code",
   "execution_count": 174,
   "metadata": {},
   "outputs": [
    {
     "data": {
      "text/plain": [
       "2"
      ]
     },
     "execution_count": 174,
     "metadata": {},
     "output_type": "execute_result"
    }
   ],
   "source": [
    "PN = 2"
   ]
  },
  {
   "cell_type": "code",
   "execution_count": 175,
   "metadata": {},
   "outputs": [
    {
     "data": {
      "text/plain": [
       "3-element Vector{Vector{Int64}}:\n",
       " [2, 0]\n",
       " [1, 1]\n",
       " [0, 2]"
      ]
     },
     "execution_count": 175,
     "metadata": {},
     "output_type": "execute_result"
    }
   ],
   "source": [
    "mb_states = bosonstates(basis,PN)"
   ]
  },
  {
   "cell_type": "code",
   "execution_count": 176,
   "metadata": {},
   "outputs": [
    {
     "data": {
      "text/plain": [
       "3-element Vector{Vector{Int64}}:\n",
       " [2, 0]\n",
       " [1, 1]\n",
       " [0, 2]"
      ]
     },
     "execution_count": 176,
     "metadata": {},
     "output_type": "execute_result"
    }
   ],
   "source": [
    "mb_statesx = bosonstates(subspacex,PN)"
   ]
  },
  {
   "cell_type": "code",
   "execution_count": 177,
   "metadata": {},
   "outputs": [
    {
     "data": {
      "text/plain": [
       "ManyBody(onebodybasis=NLevel(N=2), states:3)"
      ]
     },
     "execution_count": 177,
     "metadata": {},
     "output_type": "execute_result"
    }
   ],
   "source": [
    "mb_basis = ManyBodyBasis(basis, mb_states)"
   ]
  },
  {
   "cell_type": "code",
   "execution_count": 178,
   "metadata": {},
   "outputs": [
    {
     "data": {
      "text/plain": [
       "2-element Vector{Int64}:\n",
       " 2\n",
       " 0"
      ]
     },
     "execution_count": 178,
     "metadata": {},
     "output_type": "execute_result"
    }
   ],
   "source": [
    "occupation = [2, 0]"
   ]
  },
  {
   "cell_type": "code",
   "execution_count": 179,
   "metadata": {},
   "outputs": [
    {
     "data": {
      "text/plain": [
       "Ket(dim=3)\n",
       "  basis: ManyBody(onebodybasis=NLevel(N=2), states:3)\n",
       " 1.0 + 0.0im\n",
       " 0.0 + 0.0im\n",
       " 0.0 + 0.0im"
      ]
     },
     "execution_count": 179,
     "metadata": {},
     "output_type": "execute_result"
    }
   ],
   "source": [
    "basisstate(mb_basis, occupation)"
   ]
  },
  {
   "cell_type": "code",
   "execution_count": 180,
   "metadata": {},
   "outputs": [
    {
     "data": {
      "text/plain": [
       "Operator(dim=3x3)\n",
       "  basis: ManyBody(onebodybasis=NLevel(N=2), states:3)sparse([2, 1, 3, 2], [1, 2, 2, 3], ComplexF64[1.4142135623730951 + 0.0im, 1.4142135623730951 + 0.0im, 1.4142135623730951 + 0.0im, 1.4142135623730951 + 0.0im], 3, 3)"
      ]
     },
     "execution_count": 180,
     "metadata": {},
     "output_type": "execute_result"
    }
   ],
   "source": [
    "sx_mb_basis = manybodyoperator(mb_basis, sx)"
   ]
  },
  {
   "cell_type": "code",
   "execution_count": 181,
   "metadata": {},
   "outputs": [
    {
     "data": {
      "text/plain": [
       "Operator(dim=3x3)\n",
       "  basis: ManyBody(onebodybasis=NLevel(N=2), states:3)\n",
       " -1.41421+0.0im  1.0+0.0im      0.0+0.0im\n",
       "      1.0+0.0im  0.0+0.0im      1.0+0.0im\n",
       "      0.0+0.0im  1.0+0.0im  1.41421+0.0im"
      ]
     },
     "execution_count": 181,
     "metadata": {},
     "output_type": "execute_result"
    }
   ],
   "source": [
    "P_mb_basis = manybodyoperator(mb_basis, P)"
   ]
  },
  {
   "cell_type": "code",
   "execution_count": 182,
   "metadata": {},
   "outputs": [
    {
     "data": {
      "text/plain": [
       "ManyBody(onebodybasis=Subspace(superbasis=NLevel(N=2), states:2), states:3)"
      ]
     },
     "execution_count": 182,
     "metadata": {},
     "output_type": "execute_result"
    }
   ],
   "source": [
    "mb_basisx = ManyBodyBasis(subspacex, mb_statesx)"
   ]
  },
  {
   "cell_type": "code",
   "execution_count": 183,
   "metadata": {},
   "outputs": [
    {
     "data": {
      "text/plain": [
       "Operator(dim=3x3)\n",
       "  basis: ManyBody(onebodybasis=Subspace(superbasis=NLevel(N=2), states:2), states:3)sparse([1, 3], [1, 3], ComplexF64[-2.0000000000000004 + 0.0im, 2.0000000000000004 + 0.0im], 3, 3)"
      ]
     },
     "execution_count": 183,
     "metadata": {},
     "output_type": "execute_result"
    }
   ],
   "source": [
    "sx_mb_basisx = -transition(mb_basisx,1,1) + transition(mb_basisx,2,2)"
   ]
  },
  {
   "cell_type": "code",
   "execution_count": 184,
   "metadata": {},
   "outputs": [
    {
     "data": {
      "text/plain": [
       "3×3 SparseMatrixCSC{ComplexF64, Int64} with 2 stored entries:\n",
       " -2.0+0.0im      ⋅          ⋅    \n",
       "      ⋅          ⋅          ⋅    \n",
       "      ⋅          ⋅      2.0+0.0im"
      ]
     },
     "execution_count": 184,
     "metadata": {},
     "output_type": "execute_result"
    }
   ],
   "source": [
    "sx_mb_basisx.data"
   ]
  },
  {
   "cell_type": "code",
   "execution_count": 185,
   "metadata": {},
   "outputs": [
    {
     "data": {
      "text/plain": [
       "Operator(dim=3x3)\n",
       "  basis: ManyBody(onebodybasis=NLevel(N=2), states:3)\n",
       "    -4.0+0.0im  2.82843+0.0im      0.0+0.0im\n",
       " 2.82843+0.0im      0.0+0.0im  2.82843+0.0im\n",
       "     0.0+0.0im  2.82843+0.0im      4.0+0.0im"
      ]
     },
     "execution_count": 185,
     "metadata": {},
     "output_type": "execute_result"
    }
   ],
   "source": [
    "P_mb_basis'*sx_mb_basis*P_mb_basis"
   ]
  },
  {
   "cell_type": "code",
   "execution_count": 186,
   "metadata": {},
   "outputs": [
    {
     "data": {
      "text/plain": [
       "([2, 0], [2, 0])"
      ]
     },
     "execution_count": 186,
     "metadata": {},
     "output_type": "execute_result"
    }
   ],
   "source": [
    "mb_states[1], mb_statesx[1]"
   ]
  },
  {
   "cell_type": "code",
   "execution_count": null,
   "metadata": {},
   "outputs": [],
   "source": []
  },
  {
   "cell_type": "code",
   "execution_count": 187,
   "metadata": {},
   "outputs": [
    {
     "data": {
      "text/plain": [
       "get_state_list (generic function with 1 method)"
      ]
     },
     "execution_count": 187,
     "metadata": {},
     "output_type": "execute_result"
    }
   ],
   "source": [
    "function get_state_list(mbstates)\n",
    "    state_list = []\n",
    "    norms = []\n",
    "    for mb_state in mb_states\n",
    "        state_idx = []\n",
    "        for (iocc, occ) in enumerate(mb_state)\n",
    "            state_idx = vcat(state_idx,repeat([iocc],occ))\n",
    "        end\n",
    "        # println(state_idx)\n",
    "        push!(state_list,state_idx)\n",
    "        N2 = prod( filter(x->x≠0, mb_state) )\n",
    "        push!(norms, 1/sqrt(N2))\n",
    "    end\n",
    "    return state_list, norms\n",
    "end"
   ]
  },
  {
   "cell_type": "code",
   "execution_count": 188,
   "metadata": {},
   "outputs": [
    {
     "data": {
      "text/plain": [
       "(Any[Any[1, 1], Any[1, 2], Any[2, 2]], Any[0.7071067811865475, 1.0, 0.7071067811865475])"
      ]
     },
     "execution_count": 188,
     "metadata": {},
     "output_type": "execute_result"
    }
   ],
   "source": [
    "state_list, norms = get_state_list(mb_states)\n",
    "state_listx, normsx = get_state_list(mb_statesx)"
   ]
  },
  {
   "cell_type": "code",
   "execution_count": 189,
   "metadata": {},
   "outputs": [],
   "source": [
    "#import Pkg; Pkg.add(\"Combinatorics\")"
   ]
  },
  {
   "cell_type": "code",
   "execution_count": 190,
   "metadata": {},
   "outputs": [],
   "source": [
    "using Combinatorics"
   ]
  },
  {
   "cell_type": "code",
   "execution_count": 191,
   "metadata": {},
   "outputs": [
    {
     "data": {
      "text/plain": [
       "Combinatorics.Permutations{Vector{Any}}(Any[1, 1], 2)"
      ]
     },
     "execution_count": 191,
     "metadata": {},
     "output_type": "execute_result"
    }
   ],
   "source": [
    "b = permutations(state_list[1])"
   ]
  },
  {
   "cell_type": "code",
   "execution_count": 192,
   "metadata": {},
   "outputs": [
    {
     "name": "stdout",
     "output_type": "stream",
     "text": [
      "[1, 1]\n",
      "[1, 1]\n"
     ]
    }
   ],
   "source": [
    "for item in b\n",
    "    println(item)\n",
    "end"
   ]
  },
  {
   "cell_type": "code",
   "execution_count": 193,
   "metadata": {},
   "outputs": [
    {
     "data": {
      "text/plain": [
       "get_mb_transform (generic function with 1 method)"
      ]
     },
     "execution_count": 193,
     "metadata": {},
     "output_type": "execute_result"
    }
   ],
   "source": [
    "function get_mb_transform(mb_basis,mb_basisx,P)\n",
    "    using Combinatorics\n",
    "    state_list, norms = get_state_list(mb_states)\n",
    "    state_listx, normsx = get_state_list(mb_statesx)\n",
    "    UP = Matrix{ComplexF64}(undef, length(state_list), length(state_listx))\n",
    "    for (i_mb, mb_state_list) in enumerate(state_list)\n",
    "        Ni = norms[i_mb]\n",
    "    for (j_mb, mb_state_listx) in enumerate(state_listx)\n",
    "        Nj = normsx[j_mb]\n",
    "        UUij = 0\n",
    "        #for state in permutations(mb_state_list)\n",
    "        for statex in permutations(mb_state_listx)\n",
    "            Uij = 1\n",
    "            for (i1,j1) in zip( mb_state_list, statex)\n",
    "                   Uij *= P.data[i1,j1]\n",
    "                   #println(i1, \" \", j1, \" \", P.data[i1,j1])\n",
    "            end\n",
    "            #println(mb_state_list,\" \", statex)\n",
    "            UUij += Uij\n",
    "        end\n",
    "        #end\n",
    "        UP[i_mb, j_mb] = Ni*Nj*UUij\n",
    "        #println(i_mb, \" \", j_mb, \" : \", UP[i_mb, j_mb], \" \", Ni,\" \", Nj,\" \", mb_state_list,\" \", mb_state_listx)\n",
    "    end\n",
    "    end\n",
    "    return Operator(mb_basis,UP)\n",
    "end"
   ]
  },
  {
   "cell_type": "code",
   "execution_count": 194,
   "metadata": {},
   "outputs": [
    {
     "data": {
      "text/plain": [
       "Operator(dim=3x3)\n",
       "  basis: ManyBody(onebodybasis=NLevel(N=2), states:3)\n",
       "       0.5-0.0im  -0.707107+0.0im       0.5+0.0im\n",
       " -0.707107+0.0im        0.0+0.0im  0.707107+0.0im\n",
       "       0.5+0.0im   0.707107+0.0im       0.5+0.0im"
      ]
     },
     "execution_count": 194,
     "metadata": {},
     "output_type": "execute_result"
    }
   ],
   "source": [
    "UP = get_mb_transform(mb_basis,mb_basisx,P)"
   ]
  },
  {
   "cell_type": "code",
   "execution_count": 195,
   "metadata": {},
   "outputs": [
    {
     "data": {
      "text/plain": [
       "(Operator(dim=3x3)\n",
       "  basis: ManyBody(onebodybasis=NLevel(N=2), states:3)\n",
       "      1.0+0.0im  0.0+0.0im  -2.2e-16+0.0im\n",
       "      0.0+0.0im  1.0+0.0im       0.0+0.0im\n",
       " -2.2e-16+0.0im  0.0+0.0im       1.0+0.0im, Operator(dim=3x3)\n",
       "  basis: ManyBody(onebodybasis=NLevel(N=2), states:3)\n",
       "      1.0+0.0im  0.0+0.0im  -2.2e-16+0.0im\n",
       "      0.0+0.0im  1.0+0.0im       0.0+0.0im\n",
       " -2.2e-16+0.0im  0.0+0.0im       1.0+0.0im)"
      ]
     },
     "execution_count": 195,
     "metadata": {},
     "output_type": "execute_result"
    }
   ],
   "source": [
    "UP'*UP, UP*UP'"
   ]
  },
  {
   "cell_type": "code",
   "execution_count": 198,
   "metadata": {},
   "outputs": [
    {
     "data": {
      "text/plain": [
       "(Operator(dim=3x3)\n",
       "  basis: ManyBody(onebodybasis=NLevel(N=2), states:3)\n",
       "     0.0+0.0im  1.41421+0.0im      0.0+0.0im\n",
       " 1.41421+0.0im      0.0+0.0im  1.41421+0.0im\n",
       "     0.0+0.0im  1.41421+0.0im      0.0+0.0im, Operator(dim=3x3)\n",
       "  basis: ManyBody(onebodybasis=NLevel(N=2), states:3)\n",
       " -2.0+0.0im  0.0+0.0im  0.0+0.0im\n",
       "  0.0+0.0im  0.0+0.0im  0.0+0.0im\n",
       "  0.0+0.0im  0.0+0.0im  2.0+0.0im)"
      ]
     },
     "execution_count": 198,
     "metadata": {},
     "output_type": "execute_result"
    }
   ],
   "source": [
    "dense(sx_mb_basis), UP'*sx_mb_basis*UP"
   ]
  },
  {
   "cell_type": "code",
   "execution_count": 205,
   "metadata": {},
   "outputs": [
    {
     "data": {
      "text/plain": [
       "Operator(dim=3x3)\n",
       "  basis: ManyBody(onebodybasis=Subspace(superbasis=NLevel(N=2), states:2), states:3)\n",
       " -2.0+0.0im  0.0+0.0im  0.0+0.0im\n",
       "  0.0+0.0im  0.0+0.0im  0.0+0.0im\n",
       "  0.0+0.0im  0.0+0.0im  2.0+0.0im"
      ]
     },
     "execution_count": 205,
     "metadata": {},
     "output_type": "execute_result"
    }
   ],
   "source": [
    "dense(sx_mb_basisx)"
   ]
  },
  {
   "cell_type": "code",
   "execution_count": 208,
   "metadata": {},
   "outputs": [
    {
     "data": {
      "text/plain": [
       "3×3 Matrix{ComplexF64}:\n",
       "     0.0+0.0im  1.41421+0.0im      0.0+0.0im\n",
       " 1.41421+0.0im      0.0+0.0im  1.41421+0.0im\n",
       "     0.0+0.0im  1.41421+0.0im      0.0+0.0im"
      ]
     },
     "execution_count": 208,
     "metadata": {},
     "output_type": "execute_result"
    }
   ],
   "source": [
    "UP'.data*dense(sx_mb_basisx).data*UP.data"
   ]
  },
  {
   "cell_type": "code",
   "execution_count": null,
   "metadata": {},
   "outputs": [],
   "source": []
  }
 ],
 "metadata": {
  "kernelspec": {
   "display_name": "Julia 1.8.1",
   "language": "julia",
   "name": "julia-1.8"
  },
  "language_info": {
   "file_extension": ".jl",
   "mimetype": "application/julia",
   "name": "julia",
   "version": "1.8.1"
  }
 },
 "nbformat": 4,
 "nbformat_minor": 4
}
