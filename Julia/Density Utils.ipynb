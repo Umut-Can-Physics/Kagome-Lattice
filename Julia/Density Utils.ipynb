{
 "cells": [
  {
   "cell_type": "code",
   "execution_count": 1,
   "id": "98dfc9a2-af8d-46b4-899a-ef9e9fe2a8d5",
   "metadata": {},
   "outputs": [
    {
     "data": {
      "text/plain": [
       "get_Bosonic_MB_Basis (generic function with 1 method)"
      ]
     },
     "execution_count": 1,
     "metadata": {},
     "output_type": "execute_result"
    }
   ],
   "source": [
    "function get_Bosonic_MB_Basis(N,PN)\n",
    "   \n",
    "    NBasis = NLevelBasis(N)\n",
    "    NStates = bosonstates(NBasis, PN)\n",
    "    \n",
    "    NBasis_MB = ManyBodyBasis(NBasis, NStates)\n",
    "    \n",
    "    return NBasis_MB, NBasis\n",
    "end"
   ]
  },
  {
   "cell_type": "code",
   "execution_count": 2,
   "id": "0e13b44b-7d2b-43e3-be07-d622f2988a70",
   "metadata": {},
   "outputs": [
    {
     "data": {
      "text/plain": [
       "Number_sub (generic function with 1 method)"
      ]
     },
     "execution_count": 2,
     "metadata": {},
     "output_type": "execute_result"
    }
   ],
   "source": [
    "function Number_sub(N, sp_basis, P, Pt, basis_cut_sp, basis_cut_mb, basis_sub)\n",
    "    num_sub_list = get_num_sub_list(N, sp_basis, P, Pt)\n",
    "    Sub_Number_MB_Operator_List = get_num_mb_op(N, basis_cut_sp, num_sub_list, basis_cut_mb, basis_sub)\n",
    "    return Sub_Number_MB_Operator_List\n",
    "end"
   ]
  },
  {
   "cell_type": "code",
   "execution_count": 3,
   "id": "45b00f6e-a756-495d-a74d-0d16aec96056",
   "metadata": {},
   "outputs": [
    {
     "data": {
      "text/plain": [
       "Get_Density_Profile (generic function with 1 method)"
      ]
     },
     "execution_count": 3,
     "metadata": {},
     "output_type": "execute_result"
    }
   ],
   "source": [
    "# NOT: BAZI FONKSİYONLARI ÇAĞIRMAK YERİNE BURADA YENİDEN HESAPLADIM\n",
    "# ÇÜNKÜ EXPECTATION DEĞERLERİNİ BURADA .data İLE HESAPLIYORUM.\n",
    "function Get_Density_Profile(N_Site, Sub_Number_MB_Operator_List, Basis_Cut_MB, Fil_States, index)\n",
    "    Expectation_List = []\n",
    "    for site in 1:N_Site\n",
    "        push!(Expectation_List, Fil_States[index].data'*Sub_Number_MB_Operator_List[site].data*Fil_States[index].data)\n",
    "    end\n",
    "    return real(Expectation_List)\n",
    "end"
   ]
  },
  {
   "cell_type": "code",
   "execution_count": 4,
   "id": "64a3a9c3-b22c-4269-9b6f-e09914f37d4e",
   "metadata": {},
   "outputs": [
    {
     "data": {
      "text/plain": [
       "Get_Avg_Density (generic function with 1 method)"
      ]
     },
     "execution_count": 4,
     "metadata": {},
     "output_type": "execute_result"
    }
   ],
   "source": [
    "function Get_Avg_Density(Nx, Ny, Degeneracy, N_Site, Sub_Number_MB_Operator_List, Basis_Cut_MB, Fil_States)\n",
    "    Avg_Density = spzeros(Nx,Ny)\n",
    "    for index in 1:Degeneracy\n",
    "        Avg_Density += reshape(Get_Density_Profile(N_Site, Sub_Number_MB_Operator_List, Basis_Cut_MB, Fil_States, index), Nx, Ny)\n",
    "    end    \n",
    "    return Avg_Density / Degeneracy\n",
    "end"
   ]
  },
  {
   "cell_type": "code",
   "execution_count": 5,
   "id": "b8c41f38-c212-4e47-91b3-3d1d525683aa",
   "metadata": {},
   "outputs": [
    {
     "data": {
      "text/plain": [
       "plot_density (generic function with 1 method)"
      ]
     },
     "execution_count": 5,
     "metadata": {},
     "output_type": "execute_result"
    }
   ],
   "source": [
    "function plot_density(Nx, Ny, Degeneracy, N, Sub_Number_MB_Operator_List, basis_cut_mb, r_hubbard_states, factor)\n",
    "    avg_density = Get_Avg_Density(Nx, Ny, Degeneracy, N, Sub_Number_MB_Operator_List, basis_cut_mb, r_hubbard_states)\n",
    "    return Plots.heatmap(Interp(avg_density', factor), aspect_ratio=:equal)\n",
    "end"
   ]
  },
  {
   "cell_type": "code",
   "execution_count": null,
   "id": "01e5f675-0e96-487a-9ca3-19b601685081",
   "metadata": {},
   "outputs": [],
   "source": []
  }
 ],
 "metadata": {
  "kernelspec": {
   "display_name": "Julia 1.9.3",
   "language": "julia",
   "name": "julia-1.9"
  },
  "language_info": {
   "file_extension": ".jl",
   "mimetype": "application/julia",
   "name": "julia",
   "version": "1.9.3"
  }
 },
 "nbformat": 4,
 "nbformat_minor": 5
}
