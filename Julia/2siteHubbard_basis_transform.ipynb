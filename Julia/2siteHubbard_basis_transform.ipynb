{
 "cells": [
  {
   "cell_type": "code",
   "execution_count": null,
   "id": "f9f5ac65-8b6c-42ae-8ed6-6c5f577e4a0a",
   "metadata": {},
   "outputs": [],
   "source": [
    "using QuantumOptics\n",
    "using Einsum"
   ]
  },
  {
   "cell_type": "code",
   "execution_count": 91,
   "id": "7b304ec3-b79d-4f45-b133-4a664b983723",
   "metadata": {},
   "outputs": [
    {
     "data": {
      "text/plain": [
       "NLevel(N=2)"
      ]
     },
     "execution_count": 91,
     "metadata": {},
     "output_type": "execute_result"
    }
   ],
   "source": [
    "basis = NLevelBasis(2) "
   ]
  },
  {
   "cell_type": "code",
   "execution_count": 92,
   "id": "0f82a715-f24e-4f77-93e3-7238ec840fda",
   "metadata": {},
   "outputs": [
    {
     "data": {
      "text/plain": [
       "Operator(dim=2x2)\n",
       "  basis: NLevel(N=2)sparse([2, 1], [1, 2], ComplexF64[-1.0 - 0.0im, -1.0 - 0.0im], 2, 2)"
      ]
     },
     "execution_count": 92,
     "metadata": {},
     "output_type": "execute_result"
    }
   ],
   "source": [
    "t = -1\n",
    "\n",
    "H1 = t * ( transition(basis,1,2) + transition(basis,2,1) )"
   ]
  },
  {
   "cell_type": "code",
   "execution_count": 93,
   "id": "bf437d0c-7665-422c-a8cb-c2579e28e5a6",
   "metadata": {},
   "outputs": [
    {
     "data": {
      "text/plain": [
       "([-1.0, 1.0], Ket{NLevelBasis{Int64}, Vector{ComplexF64}}[Ket(dim=2)\n",
       "  basis: NLevel(N=2)\n",
       " -0.7071067811865475 + 0.0im\n",
       " -0.7071067811865475 + 0.0im, Ket(dim=2)\n",
       "  basis: NLevel(N=2)\n",
       " -0.7071067811865475 + 0.0im\n",
       "  0.7071067811865475 + 0.0im])"
      ]
     },
     "execution_count": 93,
     "metadata": {},
     "output_type": "execute_result"
    }
   ],
   "source": [
    "E1, U1 = eigenstates(dense(H1))"
   ]
  },
  {
   "cell_type": "code",
   "execution_count": 95,
   "id": "96c71d4f-5a6f-4961-94f1-92cd4d68cfad",
   "metadata": {},
   "outputs": [
    {
     "data": {
      "text/plain": [
       "Subspace(superbasis=NLevel(N=2), states:2)"
      ]
     },
     "execution_count": 95,
     "metadata": {},
     "output_type": "execute_result"
    }
   ],
   "source": [
    "# projection\n",
    "substates = 1:2\n",
    "basis_tilde = SubspaceBasis(basis, U1[substates])"
   ]
  },
  {
   "cell_type": "code",
   "execution_count": 96,
   "id": "069762d5-b020-48b7-ba0e-c2bd44f77951",
   "metadata": {},
   "outputs": [
    {
     "data": {
      "text/plain": [
       "Operator(dim=2x2)\n",
       "  basis left:  Subspace(superbasis=NLevel(N=2), states:2)\n",
       "  basis right: NLevel(N=2)\n",
       " -0.707107-0.0im  -0.707107-0.0im\n",
       " -0.707107-0.0im   0.707107-0.0im"
      ]
     },
     "execution_count": 96,
     "metadata": {},
     "output_type": "execute_result"
    }
   ],
   "source": [
    "projector(basis_tilde, basis)"
   ]
  },
  {
   "cell_type": "code",
   "execution_count": 97,
   "id": "0a2b4983-71ee-45d2-8587-0d7280af5043",
   "metadata": {},
   "outputs": [
    {
     "data": {
      "text/plain": [
       "Operator(dim=2x2)\n",
       "  basis left:  NLevel(N=2)\n",
       "  basis right: Subspace(superbasis=NLevel(N=2), states:2)\n",
       " -0.707107+0.0im  -0.707107+0.0im\n",
       " -0.707107+0.0im   0.707107+0.0im"
      ]
     },
     "execution_count": 97,
     "metadata": {},
     "output_type": "execute_result"
    }
   ],
   "source": [
    "projector(basis, basis_tilde)"
   ]
  },
  {
   "cell_type": "code",
   "execution_count": 98,
   "id": "b608e58e-057a-42e9-a5d5-2a44fd5bf881",
   "metadata": {},
   "outputs": [
    {
     "data": {
      "text/plain": [
       "Operator(dim=2x2)\n",
       "  basis left:  Subspace(superbasis=NLevel(N=2), states:2)\n",
       "  basis right: NLevel(N=2)\n",
       " -0.707107-0.0im  -0.707107-0.0im\n",
       " -0.707107-0.0im   0.707107-0.0im"
      ]
     },
     "execution_count": 98,
     "metadata": {},
     "output_type": "execute_result"
    }
   ],
   "source": [
    "P1 = projector(basis, basis_tilde)\n",
    "P1_dag = dagger(P1)"
   ]
  },
  {
   "cell_type": "code",
   "execution_count": 99,
   "id": "78fc7888-79e1-4c01-8404-f2779a0244f2",
   "metadata": {},
   "outputs": [
    {
     "data": {
      "text/plain": [
       "Operator(dim=2x2)\n",
       "  basis: Subspace(superbasis=NLevel(N=2), states:2)\n",
       " -1.0+0.0im  0.0+0.0im\n",
       "  0.0+0.0im  1.0+0.0im"
      ]
     },
     "execution_count": 99,
     "metadata": {},
     "output_type": "execute_result"
    }
   ],
   "source": [
    "H1_sub = P1_dag*H1*P1"
   ]
  },
  {
   "cell_type": "code",
   "execution_count": 100,
   "id": "b3bdda48-5f67-4da9-b8ee-7b0593cdb9aa",
   "metadata": {},
   "outputs": [
    {
     "data": {
      "text/plain": [
       "3-element Vector{Vector{Int64}}:\n",
       " [2, 0]\n",
       " [1, 1]\n",
       " [0, 2]"
      ]
     },
     "execution_count": 100,
     "metadata": {},
     "output_type": "execute_result"
    }
   ],
   "source": [
    "# many-body basis\n",
    "PN = 2\n",
    "states_mb = bosonstates(basis, PN)"
   ]
  },
  {
   "cell_type": "code",
   "execution_count": 101,
   "id": "0cfa71e2-2741-432c-b143-50e22cde5ffb",
   "metadata": {},
   "outputs": [
    {
     "data": {
      "text/plain": [
       "ManyBody(onebodybasis=NLevel(N=2), states:3)"
      ]
     },
     "execution_count": 101,
     "metadata": {},
     "output_type": "execute_result"
    }
   ],
   "source": [
    "basis_mb = ManyBodyBasis(basis, states_mb)"
   ]
  },
  {
   "cell_type": "code",
   "execution_count": 102,
   "id": "3ddaf5eb-b2bf-4293-8115-b75e886db07a",
   "metadata": {},
   "outputs": [
    {
     "data": {
      "text/plain": [
       "Operator(dim=3x3)\n",
       "  basis: ManyBody(onebodybasis=NLevel(N=2), states:3)sparse([2, 1, 3, 2], [1, 2, 2, 3], ComplexF64[-1.4142135623730951 + 0.0im, -1.4142135623730951 + 0.0im, -1.4142135623730951 + 0.0im, -1.4142135623730951 + 0.0im], 3, 3)"
      ]
     },
     "execution_count": 102,
     "metadata": {},
     "output_type": "execute_result"
    }
   ],
   "source": [
    "H1_mb = manybodyoperator(basis_mb, H1)"
   ]
  },
  {
   "cell_type": "code",
   "execution_count": 103,
   "id": "13c31c64-c8e2-478d-a402-d743b224ba61",
   "metadata": {},
   "outputs": [
    {
     "data": {
      "text/plain": [
       "Operator(dim=3x3)\n",
       "  basis: ManyBody(onebodybasis=NLevel(N=2), states:3)sparse([1, 3], [1, 3], ComplexF64[2.0 + 0.0im, 2.0 + 0.0im], 3, 3)"
      ]
     },
     "execution_count": 103,
     "metadata": {},
     "output_type": "execute_result"
    }
   ],
   "source": [
    "# Hubbard interaction\n",
    "U0 = 2\n",
    "n1 = number(basis_mb, 1)\n",
    "n2 = number(basis_mb, 2)\n",
    "Id = identityoperator(basis_mb)\n",
    "Vint_mb = U0/2*(n1*(n1-Id) + n2*(n2-Id))"
   ]
  },
  {
   "cell_type": "code",
   "execution_count": 104,
   "id": "8e987d49-6591-431c-a800-9aeeda905396",
   "metadata": {},
   "outputs": [
    {
     "data": {
      "text/plain": [
       "Operator(dim=3x3)\n",
       "  basis: ManyBody(onebodybasis=NLevel(N=2), states:3)sparse([1, 2, 1, 3, 2, 3], [1, 1, 2, 2, 3, 3], ComplexF64[2.0 + 0.0im, -1.4142135623730951 + 0.0im, -1.4142135623730951 + 0.0im, -1.4142135623730951 + 0.0im, -1.4142135623730951 + 0.0im, 2.0 + 0.0im], 3, 3)"
      ]
     },
     "execution_count": 104,
     "metadata": {},
     "output_type": "execute_result"
    }
   ],
   "source": [
    "H_mb = H1_mb + Vint_mb"
   ]
  },
  {
   "cell_type": "code",
   "execution_count": 105,
   "id": "1c99fd5f-7be7-4676-9586-c2e1472d427c",
   "metadata": {},
   "outputs": [
    {
     "data": {
      "text/plain": [
       "Operator(dim=3x3)\n",
       "  basis: ManyBody(onebodybasis=NLevel(N=2), states:3)\n",
       "      2.0+0.0im  -1.41421+0.0im       0.0+0.0im\n",
       " -1.41421+0.0im       0.0+0.0im  -1.41421+0.0im\n",
       "      0.0+0.0im  -1.41421+0.0im       2.0+0.0im"
      ]
     },
     "execution_count": 105,
     "metadata": {},
     "output_type": "execute_result"
    }
   ],
   "source": [
    "dense( H_mb )"
   ]
  },
  {
   "cell_type": "code",
   "execution_count": 106,
   "id": "4176e32f-e719-440d-9379-c23d215c4c2e",
   "metadata": {},
   "outputs": [
    {
     "data": {
      "text/plain": [
       "3-element Vector{Float64}:\n",
       " -1.2360679774997894\n",
       "  2.0\n",
       "  3.23606797749979"
      ]
     },
     "execution_count": 106,
     "metadata": {},
     "output_type": "execute_result"
    }
   ],
   "source": [
    "eigenenergies( dense(H_mb) )"
   ]
  },
  {
   "cell_type": "code",
   "execution_count": 107,
   "id": "558b3491-9ca3-450a-b308-be03813b6260",
   "metadata": {},
   "outputs": [],
   "source": [
    "# alternatively construct Vint from the 2-body matrix elements\n",
    "# transition(basis,i,k)⊗transition(basis,j,l) goes with V_ijkl "
   ]
  },
  {
   "cell_type": "code",
   "execution_count": 108,
   "id": "311b9500-7999-43e9-ac0e-43374e2087e9",
   "metadata": {},
   "outputs": [
    {
     "data": {
      "text/plain": [
       "Operator(dim=4x4)\n",
       "  basis: [NLevel(N=2) ⊗ NLevel(N=2)]sparse([1, 4], [1, 4], ComplexF64[1.0 + 0.0im, 1.0 + 0.0im], 4, 4)"
      ]
     },
     "execution_count": 108,
     "metadata": {},
     "output_type": "execute_result"
    }
   ],
   "source": [
    "V2  = U0/2*transition(basis,1,1)⊗transition(basis,1,1) \n",
    "V2 += U0/2*transition(basis,2,2)⊗transition(basis,2,2) "
   ]
  },
  {
   "cell_type": "code",
   "execution_count": 109,
   "id": "47705521-6c41-4081-b3e0-fa83331b1613",
   "metadata": {},
   "outputs": [
    {
     "data": {
      "text/plain": [
       "4×4 SparseArrays.SparseMatrixCSC{ComplexF64, Int64} with 2 stored entries:\n",
       " 1.0+0.0im      ⋅          ⋅          ⋅    \n",
       "     ⋅          ⋅          ⋅          ⋅    \n",
       "     ⋅          ⋅          ⋅          ⋅    \n",
       "     ⋅          ⋅          ⋅      1.0+0.0im"
      ]
     },
     "execution_count": 109,
     "metadata": {},
     "output_type": "execute_result"
    }
   ],
   "source": [
    "V2.data"
   ]
  },
  {
   "cell_type": "code",
   "execution_count": 110,
   "id": "4c2e890f-6f53-4bd4-8c6e-94b4b7b562a9",
   "metadata": {},
   "outputs": [
    {
     "data": {
      "text/plain": [
       "Operator(dim=3x3)\n",
       "  basis: ManyBody(onebodybasis=NLevel(N=2), states:3)sparse([1, 3], [1, 3], ComplexF64[2.0000000000000004 + 0.0im, 2.0000000000000004 + 0.0im], 3, 3)"
      ]
     },
     "execution_count": 110,
     "metadata": {},
     "output_type": "execute_result"
    }
   ],
   "source": [
    "V2_mb = manybodyoperator(basis_mb, V2)"
   ]
  },
  {
   "cell_type": "code",
   "execution_count": 111,
   "id": "8f2158b4-5041-4b14-b984-8427c842f29d",
   "metadata": {},
   "outputs": [
    {
     "data": {
      "text/plain": [
       "true"
      ]
     },
     "execution_count": 111,
     "metadata": {},
     "output_type": "execute_result"
    }
   ],
   "source": [
    "isapprox(V2_mb, Vint_mb)"
   ]
  },
  {
   "cell_type": "code",
   "execution_count": 112,
   "id": "6619d47f-c1e6-4c07-af7e-70edf78cfdd3",
   "metadata": {},
   "outputs": [
    {
     "data": {
      "text/plain": [
       "(Operator(dim=4x4)\n",
       "  basis: [NLevel(N=2) ⊗ NLevel(N=2)]sparse([1], [2], ComplexF64[1.0 + 0.0im], 4, 4), Operator(dim=4x4)\n",
       "  basis: [NLevel(N=2) ⊗ NLevel(N=2)]sparse([1], [3], ComplexF64[1.0 + 0.0im], 4, 4))"
      ]
     },
     "execution_count": 112,
     "metadata": {},
     "output_type": "execute_result"
    }
   ],
   "source": [
    "# compare the following for indexing the 2-ptl states\n",
    "transition(basis,1,2)⊗transition(basis,1,1), transition(basis,1,1)⊗transition(basis,1,2)"
   ]
  },
  {
   "cell_type": "code",
   "execution_count": null,
   "id": "c69e2bb6-add9-4ffa-b085-a3a917ceeddd",
   "metadata": {},
   "outputs": [],
   "source": []
  },
  {
   "cell_type": "code",
   "execution_count": null,
   "id": "81c83966-d48a-44a7-9b1d-17d63ab12522",
   "metadata": {},
   "outputs": [],
   "source": []
  },
  {
   "cell_type": "code",
   "execution_count": 113,
   "id": "bb8d63cb-3e03-4c7c-9a18-6605c0897c2c",
   "metadata": {},
   "outputs": [
    {
     "data": {
      "text/plain": [
       "2×2 adjoint(::Matrix{ComplexF64}) with eltype ComplexF64:\n",
       " -0.707107-0.0im  -0.707107-0.0im\n",
       " -0.707107-0.0im   0.707107-0.0im"
      ]
     },
     "execution_count": 113,
     "metadata": {},
     "output_type": "execute_result"
    }
   ],
   "source": [
    "P1M = P1.data\n",
    "P1_dagM = P1_dag.data"
   ]
  },
  {
   "cell_type": "code",
   "execution_count": 114,
   "id": "41a2284b-ce3d-4d81-b4c3-4a512c29a9ee",
   "metadata": {},
   "outputs": [
    {
     "data": {
      "text/plain": [
       "2×2 SparseArrays.SparseMatrixCSC{ComplexF64, Int64} with 2 stored entries:\n",
       "      ⋅      -1.0-0.0im\n",
       " -1.0-0.0im       ⋅    "
      ]
     },
     "execution_count": 114,
     "metadata": {},
     "output_type": "execute_result"
    }
   ],
   "source": [
    "H1M = H1.data"
   ]
  },
  {
   "cell_type": "code",
   "execution_count": 115,
   "id": "24e243c5-5741-4e5b-a643-3b9d7064d349",
   "metadata": {},
   "outputs": [
    {
     "data": {
      "text/plain": [
       "4×4 SparseArrays.SparseMatrixCSC{ComplexF64, Int64} with 2 stored entries:\n",
       " 1.0+0.0im      ⋅          ⋅          ⋅    \n",
       "     ⋅          ⋅          ⋅          ⋅    \n",
       "     ⋅          ⋅          ⋅          ⋅    \n",
       "     ⋅          ⋅          ⋅      1.0+0.0im"
      ]
     },
     "execution_count": 115,
     "metadata": {},
     "output_type": "execute_result"
    }
   ],
   "source": [
    "V2M = V2.data"
   ]
  },
  {
   "cell_type": "code",
   "execution_count": 116,
   "id": "e9d72835-82d6-4d53-84cb-0a91a812f46f",
   "metadata": {},
   "outputs": [
    {
     "data": {
      "text/plain": [
       "4×4 Matrix{ComplexF64}:\n",
       " 0.5+0.0im   0.5+0.0im   0.5+0.0im   0.5+0.0im\n",
       " 0.5+0.0im  -0.5+0.0im   0.5+0.0im  -0.5+0.0im\n",
       " 0.5+0.0im   0.5+0.0im  -0.5+0.0im  -0.5+0.0im\n",
       " 0.5+0.0im  -0.5+0.0im  -0.5+0.0im   0.5-0.0im"
      ]
     },
     "execution_count": 116,
     "metadata": {},
     "output_type": "execute_result"
    }
   ],
   "source": [
    "P2M = (P1⊗P1).data\n",
    "P2_dagM = (P1_dag⊗P1_dag).data"
   ]
  },
  {
   "cell_type": "code",
   "execution_count": 117,
   "id": "73480988-a0f3-4c16-9a35-9a39cd019ce0",
   "metadata": {},
   "outputs": [],
   "source": [
    "@einsum H1_tildeM[i,j] := P1_dagM[i,k] * H1M[k,l] * P1M[l,j];\n",
    "@einsum V2_tildeM[i2,j2] :=  P2_dagM[i2,k2] * V2M[k2,l2] * P2M[l2,j2];\n",
    "@einsum U4[k,l,m,n] := P1M[k,i] * P1M[l,i] * P1_dagM[i,m] * P1_dagM[i,n];"
   ]
  },
  {
   "cell_type": "code",
   "execution_count": 118,
   "id": "3693dbd3-064b-4d3b-b1b1-06d41224a8cb",
   "metadata": {},
   "outputs": [
    {
     "data": {
      "text/plain": [
       "Operator(dim=2x2)\n",
       "  basis: Subspace(superbasis=NLevel(N=2), states:2)\n",
       " -1.0+0.0im  0.0+0.0im\n",
       "  0.0+0.0im  1.0+0.0im"
      ]
     },
     "execution_count": 118,
     "metadata": {},
     "output_type": "execute_result"
    }
   ],
   "source": [
    "H1_tilde = Operator(basis_tilde, H1_tildeM)"
   ]
  },
  {
   "cell_type": "code",
   "execution_count": 119,
   "id": "a1938d68-2e5f-427c-9e5c-3818f3aa9a37",
   "metadata": {},
   "outputs": [
    {
     "data": {
      "text/plain": [
       "ManyBody(onebodybasis=Subspace(superbasis=NLevel(N=2), states:2), states:3)"
      ]
     },
     "execution_count": 119,
     "metadata": {},
     "output_type": "execute_result"
    }
   ],
   "source": [
    "basis_mb_tilde  = ManyBodyBasis(basis_tilde, states_mb)"
   ]
  },
  {
   "cell_type": "code",
   "execution_count": 120,
   "id": "7664f672-fbb3-44e4-8305-79cf4a05f30a",
   "metadata": {},
   "outputs": [
    {
     "data": {
      "text/plain": [
       "Operator(dim=3x3)\n",
       "  basis: ManyBody(onebodybasis=Subspace(superbasis=NLevel(N=2), states:2), states:3)\n",
       " -2.0+0.0im  0.0+0.0im  0.0+0.0im\n",
       "  0.0+0.0im  0.0+0.0im  0.0+0.0im\n",
       "  0.0+0.0im  0.0+0.0im  2.0+0.0im"
      ]
     },
     "execution_count": 120,
     "metadata": {},
     "output_type": "execute_result"
    }
   ],
   "source": [
    "H_NI_tilde = manybodyoperator(basis_mb_tilde, H1_tilde)"
   ]
  },
  {
   "cell_type": "code",
   "execution_count": 121,
   "id": "266be005-b1bf-4a3e-acd9-41cc93da4e54",
   "metadata": {},
   "outputs": [
    {
     "data": {
      "text/plain": [
       "[Subspace(superbasis=NLevel(N=2), states:2) ⊗ Subspace(superbasis=NLevel(N=2), states:2)]"
      ]
     },
     "execution_count": 121,
     "metadata": {},
     "output_type": "execute_result"
    }
   ],
   "source": [
    "basis_tilde2 = basis_tilde⊗basis_tilde"
   ]
  },
  {
   "cell_type": "code",
   "execution_count": 122,
   "id": "28e5c473-4006-44ec-bdf5-cba23728b413",
   "metadata": {},
   "outputs": [
    {
     "data": {
      "text/plain": [
       "Operator(dim=4x4)\n",
       "  basis: [Subspace(superbasis=NLevel(N=2), states:2) ⊗ Subspace(superbasis=NLevel(N=2), states:2)]\n",
       " 0.5+0.0im  0.0+0.0im  0.0+0.0im  0.5+0.0im\n",
       " 0.0+0.0im  0.5+0.0im  0.5+0.0im  0.0+0.0im\n",
       " 0.0+0.0im  0.5+0.0im  0.5+0.0im  0.0+0.0im\n",
       " 0.5+0.0im  0.0+0.0im  0.0+0.0im  0.5+0.0im"
      ]
     },
     "execution_count": 122,
     "metadata": {},
     "output_type": "execute_result"
    }
   ],
   "source": [
    "Vint_tilde = Operator(basis_tilde2, U0/2*reshape(U4,4,4))"
   ]
  },
  {
   "cell_type": "code",
   "execution_count": 123,
   "id": "e59b633e-f52a-42ba-b79c-9dce777a5cc8",
   "metadata": {},
   "outputs": [
    {
     "data": {
      "text/plain": [
       "Operator(dim=4x4)\n",
       "  basis: [Subspace(superbasis=NLevel(N=2), states:2) ⊗ Subspace(superbasis=NLevel(N=2), states:2)]\n",
       " 0.5+0.0im  0.0+0.0im  0.0+0.0im  0.5+0.0im\n",
       " 0.0+0.0im  0.5+0.0im  0.5+0.0im  0.0+0.0im\n",
       " 0.0+0.0im  0.5+0.0im  0.5+0.0im  0.0+0.0im\n",
       " 0.5+0.0im  0.0+0.0im  0.0+0.0im  0.5+0.0im"
      ]
     },
     "execution_count": 123,
     "metadata": {},
     "output_type": "execute_result"
    }
   ],
   "source": [
    "V2_tilde = Operator(basis_tilde2, V2_tildeM)"
   ]
  },
  {
   "cell_type": "code",
   "execution_count": 128,
   "id": "81ffa70f-f2f0-499f-af57-b08b5e2aed54",
   "metadata": {},
   "outputs": [
    {
     "data": {
      "text/plain": [
       "true"
      ]
     },
     "execution_count": 128,
     "metadata": {},
     "output_type": "execute_result"
    }
   ],
   "source": [
    "isapprox(Vint_tilde, V2_tilde)"
   ]
  },
  {
   "cell_type": "code",
   "execution_count": 124,
   "id": "013ffb7a-2432-4d3a-9d80-2846c49a8422",
   "metadata": {},
   "outputs": [
    {
     "data": {
      "text/plain": [
       "Operator(dim=3x3)\n",
       "  basis: ManyBody(onebodybasis=Subspace(superbasis=NLevel(N=2), states:2), states:3)\n",
       " 1.0+0.0im  0.0+0.0im  1.0+0.0im\n",
       " 0.0+0.0im  2.0+0.0im  0.0+0.0im\n",
       " 1.0+0.0im  0.0+0.0im  1.0+0.0im"
      ]
     },
     "execution_count": 124,
     "metadata": {},
     "output_type": "execute_result"
    }
   ],
   "source": [
    "Vint_tilde_mb = manybodyoperator(basis_mb_tilde, Vint_tilde)"
   ]
  },
  {
   "cell_type": "code",
   "execution_count": 125,
   "id": "8c780bad-7928-438c-9b11-b2b75dce8d9b",
   "metadata": {},
   "outputs": [
    {
     "data": {
      "text/plain": [
       "Operator(dim=3x3)\n",
       "  basis: ManyBody(onebodybasis=Subspace(superbasis=NLevel(N=2), states:2), states:3)\n",
       " 1.0+0.0im  0.0+0.0im  1.0+0.0im\n",
       " 0.0+0.0im  2.0+0.0im  0.0+0.0im\n",
       " 1.0+0.0im  0.0+0.0im  1.0+0.0im"
      ]
     },
     "execution_count": 125,
     "metadata": {},
     "output_type": "execute_result"
    }
   ],
   "source": [
    "Vint_tilde_mb = manybodyoperator(basis_mb_tilde, V2_tilde)"
   ]
  },
  {
   "cell_type": "code",
   "execution_count": null,
   "id": "ddd1fd07-0005-406b-afa1-a8d47795f472",
   "metadata": {},
   "outputs": [],
   "source": []
  },
  {
   "cell_type": "code",
   "execution_count": null,
   "id": "ce9276dc-1934-4223-85ce-da9771887c30",
   "metadata": {},
   "outputs": [],
   "source": []
  },
  {
   "cell_type": "code",
   "execution_count": 126,
   "id": "c1d6f7ba-da31-43ea-8661-aab73b41cdd4",
   "metadata": {},
   "outputs": [
    {
     "data": {
      "text/plain": [
       "Operator(dim=3x3)\n",
       "  basis: ManyBody(onebodybasis=Subspace(superbasis=NLevel(N=2), states:2), states:3)\n",
       " -1.0+0.0im  0.0+0.0im  1.0+0.0im\n",
       "  0.0+0.0im  2.0+0.0im  0.0+0.0im\n",
       "  1.0+0.0im  0.0+0.0im  3.0+0.0im"
      ]
     },
     "execution_count": 126,
     "metadata": {},
     "output_type": "execute_result"
    }
   ],
   "source": [
    "H_mb_tilde = H_NI_tilde + Vint_tilde_mb"
   ]
  },
  {
   "cell_type": "code",
   "execution_count": 127,
   "id": "56fee6a9-7846-40d8-990f-d00696d85646",
   "metadata": {},
   "outputs": [
    {
     "data": {
      "text/plain": [
       "3-element Vector{Float64}:\n",
       " -1.2360679774997896\n",
       "  1.999999999999999\n",
       "  3.23606797749979"
      ]
     },
     "execution_count": 127,
     "metadata": {},
     "output_type": "execute_result"
    }
   ],
   "source": [
    "eigenenergies( dense(H_mb_tilde) )"
   ]
  },
  {
   "cell_type": "code",
   "execution_count": null,
   "id": "245e9b39-fce2-4c1f-a34b-b8937f87354d",
   "metadata": {},
   "outputs": [],
   "source": []
  },
  {
   "cell_type": "code",
   "execution_count": null,
   "id": "faf4490e-0ddc-4f83-931b-b3b7fb61b99d",
   "metadata": {},
   "outputs": [],
   "source": []
  }
 ],
 "metadata": {
  "kernelspec": {
   "display_name": "Julia 1.8.5",
   "language": "julia",
   "name": "julia-1.8"
  },
  "language_info": {
   "file_extension": ".jl",
   "mimetype": "application/julia",
   "name": "julia",
   "version": "1.8.5"
  }
 },
 "nbformat": 4,
 "nbformat_minor": 5
}
