{
 "cells": [
  {
   "cell_type": "code",
   "execution_count": 1,
   "id": "f9f5ac65-8b6c-42ae-8ed6-6c5f577e4a0a",
   "metadata": {
    "tags": []
   },
   "outputs": [
    {
     "name": "stderr",
     "output_type": "stream",
     "text": [
      "\u001b[33m\u001b[1m┌ \u001b[22m\u001b[39m\u001b[33m\u001b[1mWarning: \u001b[22m\u001b[39mError requiring `KrylovKit` from `LinearSolve`\n",
      "\u001b[33m\u001b[1m│ \u001b[22m\u001b[39m  exception =\n",
      "\u001b[33m\u001b[1m│ \u001b[22m\u001b[39m   LoadError: ArgumentError: Package LinearSolve does not have KrylovKit in its dependencies:\n",
      "\u001b[33m\u001b[1m│ \u001b[22m\u001b[39m   - You may have a partially installed environment. Try `Pkg.instantiate()`\n",
      "\u001b[33m\u001b[1m│ \u001b[22m\u001b[39m     to ensure all packages in the environment are installed.\n",
      "\u001b[33m\u001b[1m│ \u001b[22m\u001b[39m   - Or, if you have LinearSolve checked out for development and have\n",
      "\u001b[33m\u001b[1m│ \u001b[22m\u001b[39m     added KrylovKit as a dependency but haven't updated your primary\n",
      "\u001b[33m\u001b[1m│ \u001b[22m\u001b[39m     environment's manifest file, try `Pkg.resolve()`.\n",
      "\u001b[33m\u001b[1m│ \u001b[22m\u001b[39m   - Otherwise you may need to report an issue with LinearSolve\n",
      "\u001b[33m\u001b[1m│ \u001b[22m\u001b[39m   Stacktrace:\n",
      "\u001b[33m\u001b[1m│ \u001b[22m\u001b[39m     [1] \u001b[0m\u001b[1mmacro expansion\u001b[22m\n",
      "\u001b[33m\u001b[1m│ \u001b[22m\u001b[39m   \u001b[90m    @ \u001b[39m\u001b[90m./\u001b[39m\u001b[90m\u001b[4mloading.jl:1167\u001b[24m\u001b[39m\u001b[90m [inlined]\u001b[39m\n",
      "\u001b[33m\u001b[1m│ \u001b[22m\u001b[39m     [2] \u001b[0m\u001b[1mmacro expansion\u001b[22m\n",
      "\u001b[33m\u001b[1m│ \u001b[22m\u001b[39m   \u001b[90m    @ \u001b[39m\u001b[90m./\u001b[39m\u001b[90m\u001b[4mlock.jl:223\u001b[24m\u001b[39m\u001b[90m [inlined]\u001b[39m\n",
      "\u001b[33m\u001b[1m│ \u001b[22m\u001b[39m     [3] \u001b[0m\u001b[1mrequire\u001b[22m\u001b[0m\u001b[1m(\u001b[22m\u001b[90minto\u001b[39m::\u001b[0mModule, \u001b[90mmod\u001b[39m::\u001b[0mSymbol\u001b[0m\u001b[1m)\u001b[22m\n",
      "\u001b[33m\u001b[1m│ \u001b[22m\u001b[39m   \u001b[90m    @ \u001b[39m\u001b[90mBase\u001b[39m \u001b[90m./\u001b[39m\u001b[90m\u001b[4mloading.jl:1144\u001b[24m\u001b[39m\n",
      "\u001b[33m\u001b[1m│ \u001b[22m\u001b[39m     [4] \u001b[0m\u001b[1minclude\u001b[22m\u001b[0m\u001b[1m(\u001b[22m\u001b[90mmod\u001b[39m::\u001b[0mModule, \u001b[90m_path\u001b[39m::\u001b[0mString\u001b[0m\u001b[1m)\u001b[22m\n",
      "\u001b[33m\u001b[1m│ \u001b[22m\u001b[39m   \u001b[90m    @ \u001b[39m\u001b[90mBase\u001b[39m \u001b[90m./\u001b[39m\u001b[90m\u001b[4mBase.jl:419\u001b[24m\u001b[39m\n",
      "\u001b[33m\u001b[1m│ \u001b[22m\u001b[39m     [5] \u001b[0m\u001b[1minclude\u001b[22m\u001b[0m\u001b[1m(\u001b[22m\u001b[90mx\u001b[39m::\u001b[0mString\u001b[0m\u001b[1m)\u001b[22m\n",
      "\u001b[33m\u001b[1m│ \u001b[22m\u001b[39m   \u001b[90m    @ \u001b[39m\u001b[35mLinearSolve\u001b[39m \u001b[90m~/.julia/packages/LinearSolve/qCLK7/src/\u001b[39m\u001b[90m\u001b[4mLinearSolve.jl:1\u001b[24m\u001b[39m\n",
      "\u001b[33m\u001b[1m│ \u001b[22m\u001b[39m     [6] \u001b[0m\u001b[1mmacro expansion\u001b[22m\n",
      "\u001b[33m\u001b[1m│ \u001b[22m\u001b[39m   \u001b[90m    @ \u001b[39m\u001b[90m~/.julia/packages/Requires/Z8rfN/src/\u001b[39m\u001b[90m\u001b[4mRequires.jl:40\u001b[24m\u001b[39m\u001b[90m [inlined]\u001b[39m\n",
      "\u001b[33m\u001b[1m│ \u001b[22m\u001b[39m     [7] top-level scope\n",
      "\u001b[33m\u001b[1m│ \u001b[22m\u001b[39m   \u001b[90m    @ \u001b[39m\u001b[90m~/.julia/packages/LinearSolve/qCLK7/src/\u001b[39m\u001b[90m\u001b[4minit.jl:13\u001b[24m\u001b[39m\n",
      "\u001b[33m\u001b[1m│ \u001b[22m\u001b[39m     [8] \u001b[0m\u001b[1meval\u001b[22m\n",
      "\u001b[33m\u001b[1m│ \u001b[22m\u001b[39m   \u001b[90m    @ \u001b[39m\u001b[90m./\u001b[39m\u001b[90m\u001b[4mboot.jl:368\u001b[24m\u001b[39m\u001b[90m [inlined]\u001b[39m\n",
      "\u001b[33m\u001b[1m│ \u001b[22m\u001b[39m     [9] \u001b[0m\u001b[1meval\u001b[22m\n",
      "\u001b[33m\u001b[1m│ \u001b[22m\u001b[39m   \u001b[90m    @ \u001b[39m\u001b[90m~/.julia/packages/LinearSolve/qCLK7/src/\u001b[39m\u001b[90m\u001b[4mLinearSolve.jl:1\u001b[24m\u001b[39m\u001b[90m [inlined]\u001b[39m\n",
      "\u001b[33m\u001b[1m│ \u001b[22m\u001b[39m    [10] \u001b[0m\u001b[1m(::LinearSolve.var\"#85#94\")\u001b[22m\u001b[0m\u001b[1m(\u001b[22m\u001b[0m\u001b[1m)\u001b[22m\n",
      "\u001b[33m\u001b[1m│ \u001b[22m\u001b[39m   \u001b[90m    @ \u001b[39m\u001b[35mLinearSolve\u001b[39m \u001b[90m~/.julia/packages/Requires/Z8rfN/src/\u001b[39m\u001b[90m\u001b[4mrequire.jl:101\u001b[24m\u001b[39m\n",
      "\u001b[33m\u001b[1m│ \u001b[22m\u001b[39m    [11] \u001b[0m\u001b[1mmacro expansion\u001b[22m\n",
      "\u001b[33m\u001b[1m│ \u001b[22m\u001b[39m   \u001b[90m    @ \u001b[39m\u001b[90m\u001b[4mtiming.jl:382\u001b[24m\u001b[39m\u001b[90m [inlined]\u001b[39m\n",
      "\u001b[33m\u001b[1m│ \u001b[22m\u001b[39m    [12] \u001b[0m\u001b[1merr\u001b[22m\u001b[0m\u001b[1m(\u001b[22m\u001b[90mf\u001b[39m::\u001b[0mAny, \u001b[90mlistener\u001b[39m::\u001b[0mModule, \u001b[90mmodname\u001b[39m::\u001b[0mString, \u001b[90mfile\u001b[39m::\u001b[0mString, \u001b[90mline\u001b[39m::\u001b[0mAny\u001b[0m\u001b[1m)\u001b[22m\n",
      "\u001b[33m\u001b[1m│ \u001b[22m\u001b[39m   \u001b[90m    @ \u001b[39m\u001b[36mRequires\u001b[39m \u001b[90m~/.julia/packages/Requires/Z8rfN/src/\u001b[39m\u001b[90m\u001b[4mrequire.jl:47\u001b[24m\u001b[39m\n",
      "\u001b[33m\u001b[1m│ \u001b[22m\u001b[39m    [13] \u001b[0m\u001b[1m(::LinearSolve.var\"#84#93\")\u001b[22m\u001b[0m\u001b[1m(\u001b[22m\u001b[0m\u001b[1m)\u001b[22m\n",
      "\u001b[33m\u001b[1m│ \u001b[22m\u001b[39m   \u001b[90m    @ \u001b[39m\u001b[35mLinearSolve\u001b[39m \u001b[90m~/.julia/packages/Requires/Z8rfN/src/\u001b[39m\u001b[90m\u001b[4mrequire.jl:100\u001b[24m\u001b[39m\n",
      "\u001b[33m\u001b[1m│ \u001b[22m\u001b[39m    [14] \u001b[0m\u001b[1mwithpath\u001b[22m\u001b[0m\u001b[1m(\u001b[22m\u001b[90mf\u001b[39m::\u001b[0mAny, \u001b[90mpath\u001b[39m::\u001b[0mString\u001b[0m\u001b[1m)\u001b[22m\n",
      "\u001b[33m\u001b[1m│ \u001b[22m\u001b[39m   \u001b[90m    @ \u001b[39m\u001b[36mRequires\u001b[39m \u001b[90m~/.julia/packages/Requires/Z8rfN/src/\u001b[39m\u001b[90m\u001b[4mrequire.jl:37\u001b[24m\u001b[39m\n",
      "\u001b[33m\u001b[1m│ \u001b[22m\u001b[39m    [15] \u001b[0m\u001b[1m(::LinearSolve.var\"#83#92\")\u001b[22m\u001b[0m\u001b[1m(\u001b[22m\u001b[0m\u001b[1m)\u001b[22m\n",
      "\u001b[33m\u001b[1m│ \u001b[22m\u001b[39m   \u001b[90m    @ \u001b[39m\u001b[35mLinearSolve\u001b[39m \u001b[90m~/.julia/packages/Requires/Z8rfN/src/\u001b[39m\u001b[90m\u001b[4mrequire.jl:99\u001b[24m\u001b[39m\n",
      "\u001b[33m\u001b[1m│ \u001b[22m\u001b[39m    [16] \u001b[0m\u001b[1m#invokelatest#2\u001b[22m\n",
      "\u001b[33m\u001b[1m│ \u001b[22m\u001b[39m   \u001b[90m    @ \u001b[39m\u001b[90m./\u001b[39m\u001b[90m\u001b[4messentials.jl:729\u001b[24m\u001b[39m\u001b[90m [inlined]\u001b[39m\n",
      "\u001b[33m\u001b[1m│ \u001b[22m\u001b[39m    [17] \u001b[0m\u001b[1minvokelatest\u001b[22m\n",
      "\u001b[33m\u001b[1m│ \u001b[22m\u001b[39m   \u001b[90m    @ \u001b[39m\u001b[90m./\u001b[39m\u001b[90m\u001b[4messentials.jl:726\u001b[24m\u001b[39m\u001b[90m [inlined]\u001b[39m\n",
      "\u001b[33m\u001b[1m│ \u001b[22m\u001b[39m    [18] \u001b[0m\u001b[1mforeach\u001b[22m\u001b[0m\u001b[1m(\u001b[22m\u001b[90mf\u001b[39m::\u001b[0mtypeof(Base.invokelatest), \u001b[90mitr\u001b[39m::\u001b[0mVector\u001b[90m{Function}\u001b[39m\u001b[0m\u001b[1m)\u001b[22m\n",
      "\u001b[33m\u001b[1m│ \u001b[22m\u001b[39m   \u001b[90m    @ \u001b[39m\u001b[90mBase\u001b[39m \u001b[90m./\u001b[39m\u001b[90m\u001b[4mabstractarray.jl:2774\u001b[24m\u001b[39m\n",
      "\u001b[33m\u001b[1m│ \u001b[22m\u001b[39m    [19] \u001b[0m\u001b[1mloadpkg\u001b[22m\u001b[0m\u001b[1m(\u001b[22m\u001b[90mpkg\u001b[39m::\u001b[0mBase.PkgId\u001b[0m\u001b[1m)\u001b[22m\n",
      "\u001b[33m\u001b[1m│ \u001b[22m\u001b[39m   \u001b[90m    @ \u001b[39m\u001b[36mRequires\u001b[39m \u001b[90m~/.julia/packages/Requires/Z8rfN/src/\u001b[39m\u001b[90m\u001b[4mrequire.jl:27\u001b[24m\u001b[39m\n",
      "\u001b[33m\u001b[1m│ \u001b[22m\u001b[39m    [20] \u001b[0m\u001b[1m#invokelatest#2\u001b[22m\n",
      "\u001b[33m\u001b[1m│ \u001b[22m\u001b[39m   \u001b[90m    @ \u001b[39m\u001b[90m./\u001b[39m\u001b[90m\u001b[4messentials.jl:729\u001b[24m\u001b[39m\u001b[90m [inlined]\u001b[39m\n",
      "\u001b[33m\u001b[1m│ \u001b[22m\u001b[39m    [21] \u001b[0m\u001b[1minvokelatest\u001b[22m\n",
      "\u001b[33m\u001b[1m│ \u001b[22m\u001b[39m   \u001b[90m    @ \u001b[39m\u001b[90m./\u001b[39m\u001b[90m\u001b[4messentials.jl:726\u001b[24m\u001b[39m\u001b[90m [inlined]\u001b[39m\n",
      "\u001b[33m\u001b[1m│ \u001b[22m\u001b[39m    [22] \u001b[0m\u001b[1mrun_package_callbacks\u001b[22m\u001b[0m\u001b[1m(\u001b[22m\u001b[90mmodkey\u001b[39m::\u001b[0mBase.PkgId\u001b[0m\u001b[1m)\u001b[22m\n",
      "\u001b[33m\u001b[1m│ \u001b[22m\u001b[39m   \u001b[90m    @ \u001b[39m\u001b[90mBase\u001b[39m \u001b[90m./\u001b[39m\u001b[90m\u001b[4mloading.jl:869\u001b[24m\u001b[39m\n",
      "\u001b[33m\u001b[1m│ \u001b[22m\u001b[39m    [23] \u001b[0m\u001b[1m_tryrequire_from_serialized\u001b[22m\u001b[0m\u001b[1m(\u001b[22m\u001b[90mmodkey\u001b[39m::\u001b[0mBase.PkgId, \u001b[90mpath\u001b[39m::\u001b[0mString, \u001b[90msourcepath\u001b[39m::\u001b[0mString, \u001b[90mdepmods\u001b[39m::\u001b[0mVector\u001b[90m{Any}\u001b[39m\u001b[0m\u001b[1m)\u001b[22m\n",
      "\u001b[33m\u001b[1m│ \u001b[22m\u001b[39m   \u001b[90m    @ \u001b[39m\u001b[90mBase\u001b[39m \u001b[90m./\u001b[39m\u001b[90m\u001b[4mloading.jl:944\u001b[24m\u001b[39m\n",
      "\u001b[33m\u001b[1m│ \u001b[22m\u001b[39m    [24] \u001b[0m\u001b[1m_require_search_from_serialized\u001b[22m\u001b[0m\u001b[1m(\u001b[22m\u001b[90mpkg\u001b[39m::\u001b[0mBase.PkgId, \u001b[90msourcepath\u001b[39m::\u001b[0mString, \u001b[90mbuild_id\u001b[39m::\u001b[0mUInt64\u001b[0m\u001b[1m)\u001b[22m\n",
      "\u001b[33m\u001b[1m│ \u001b[22m\u001b[39m   \u001b[90m    @ \u001b[39m\u001b[90mBase\u001b[39m \u001b[90m./\u001b[39m\u001b[90m\u001b[4mloading.jl:1028\u001b[24m\u001b[39m\n",
      "\u001b[33m\u001b[1m│ \u001b[22m\u001b[39m    [25] \u001b[0m\u001b[1m_require\u001b[22m\u001b[0m\u001b[1m(\u001b[22m\u001b[90mpkg\u001b[39m::\u001b[0mBase.PkgId\u001b[0m\u001b[1m)\u001b[22m\n",
      "\u001b[33m\u001b[1m│ \u001b[22m\u001b[39m   \u001b[90m    @ \u001b[39m\u001b[90mBase\u001b[39m \u001b[90m./\u001b[39m\u001b[90m\u001b[4mloading.jl:1315\u001b[24m\u001b[39m\n",
      "\u001b[33m\u001b[1m│ \u001b[22m\u001b[39m    [26] \u001b[0m\u001b[1m_require_prelocked\u001b[22m\u001b[0m\u001b[1m(\u001b[22m\u001b[90muuidkey\u001b[39m::\u001b[0mBase.PkgId\u001b[0m\u001b[1m)\u001b[22m\n",
      "\u001b[33m\u001b[1m│ \u001b[22m\u001b[39m   \u001b[90m    @ \u001b[39m\u001b[90mBase\u001b[39m \u001b[90m./\u001b[39m\u001b[90m\u001b[4mloading.jl:1200\u001b[24m\u001b[39m\n",
      "\u001b[33m\u001b[1m│ \u001b[22m\u001b[39m    [27] \u001b[0m\u001b[1mmacro expansion\u001b[22m\n",
      "\u001b[33m\u001b[1m│ \u001b[22m\u001b[39m   \u001b[90m    @ \u001b[39m\u001b[90m./\u001b[39m\u001b[90m\u001b[4mloading.jl:1180\u001b[24m\u001b[39m\u001b[90m [inlined]\u001b[39m\n",
      "\u001b[33m\u001b[1m│ \u001b[22m\u001b[39m    [28] \u001b[0m\u001b[1mmacro expansion\u001b[22m\n",
      "\u001b[33m\u001b[1m│ \u001b[22m\u001b[39m   \u001b[90m    @ \u001b[39m\u001b[90m./\u001b[39m\u001b[90m\u001b[4mlock.jl:223\u001b[24m\u001b[39m\u001b[90m [inlined]\u001b[39m\n",
      "\u001b[33m\u001b[1m│ \u001b[22m\u001b[39m    [29] \u001b[0m\u001b[1mrequire\u001b[22m\u001b[0m\u001b[1m(\u001b[22m\u001b[90minto\u001b[39m::\u001b[0mModule, \u001b[90mmod\u001b[39m::\u001b[0mSymbol\u001b[0m\u001b[1m)\u001b[22m\n",
      "\u001b[33m\u001b[1m│ \u001b[22m\u001b[39m   \u001b[90m    @ \u001b[39m\u001b[90mBase\u001b[39m \u001b[90m./\u001b[39m\u001b[90m\u001b[4mloading.jl:1144\u001b[24m\u001b[39m\n",
      "\u001b[33m\u001b[1m│ \u001b[22m\u001b[39m    [30] \u001b[0m\u001b[1meval\u001b[22m\n",
      "\u001b[33m\u001b[1m│ \u001b[22m\u001b[39m   \u001b[90m    @ \u001b[39m\u001b[90m./\u001b[39m\u001b[90m\u001b[4mboot.jl:368\u001b[24m\u001b[39m\u001b[90m [inlined]\u001b[39m\n",
      "\u001b[33m\u001b[1m│ \u001b[22m\u001b[39m    [31] \u001b[0m\u001b[1minclude_string\u001b[22m\u001b[0m\u001b[1m(\u001b[22m\u001b[90mmapexpr\u001b[39m::\u001b[0mtypeof(REPL.softscope), \u001b[90mmod\u001b[39m::\u001b[0mModule, \u001b[90mcode\u001b[39m::\u001b[0mString, \u001b[90mfilename\u001b[39m::\u001b[0mString\u001b[0m\u001b[1m)\u001b[22m\n",
      "\u001b[33m\u001b[1m│ \u001b[22m\u001b[39m   \u001b[90m    @ \u001b[39m\u001b[90mBase\u001b[39m \u001b[90m./\u001b[39m\u001b[90m\u001b[4mloading.jl:1428\u001b[24m\u001b[39m\n",
      "\u001b[33m\u001b[1m│ \u001b[22m\u001b[39m    [32] \u001b[0m\u001b[1msoftscope_include_string\u001b[22m\u001b[0m\u001b[1m(\u001b[22m\u001b[90mm\u001b[39m::\u001b[0mModule, \u001b[90mcode\u001b[39m::\u001b[0mString, \u001b[90mfilename\u001b[39m::\u001b[0mString\u001b[0m\u001b[1m)\u001b[22m\n",
      "\u001b[33m\u001b[1m│ \u001b[22m\u001b[39m   \u001b[90m    @ \u001b[39m\u001b[32mSoftGlobalScope\u001b[39m \u001b[90m~/.julia/packages/SoftGlobalScope/u4UzH/src/\u001b[39m\u001b[90m\u001b[4mSoftGlobalScope.jl:65\u001b[24m\u001b[39m\n",
      "\u001b[33m\u001b[1m│ \u001b[22m\u001b[39m    [33] \u001b[0m\u001b[1mexecute_request\u001b[22m\u001b[0m\u001b[1m(\u001b[22m\u001b[90msocket\u001b[39m::\u001b[0mZMQ.Socket, \u001b[90mmsg\u001b[39m::\u001b[0mIJulia.Msg\u001b[0m\u001b[1m)\u001b[22m\n",
      "\u001b[33m\u001b[1m│ \u001b[22m\u001b[39m   \u001b[90m    @ \u001b[39m\u001b[33mIJulia\u001b[39m \u001b[90m~/.julia/packages/IJulia/Vo51o/src/\u001b[39m\u001b[90m\u001b[4mexecute_request.jl:67\u001b[24m\u001b[39m\n",
      "\u001b[33m\u001b[1m│ \u001b[22m\u001b[39m    [34] \u001b[0m\u001b[1m#invokelatest#2\u001b[22m\n",
      "\u001b[33m\u001b[1m│ \u001b[22m\u001b[39m   \u001b[90m    @ \u001b[39m\u001b[90m./\u001b[39m\u001b[90m\u001b[4messentials.jl:729\u001b[24m\u001b[39m\u001b[90m [inlined]\u001b[39m\n",
      "\u001b[33m\u001b[1m│ \u001b[22m\u001b[39m    [35] \u001b[0m\u001b[1minvokelatest\u001b[22m\n",
      "\u001b[33m\u001b[1m│ \u001b[22m\u001b[39m   \u001b[90m    @ \u001b[39m\u001b[90m./\u001b[39m\u001b[90m\u001b[4messentials.jl:726\u001b[24m\u001b[39m\u001b[90m [inlined]\u001b[39m\n",
      "\u001b[33m\u001b[1m│ \u001b[22m\u001b[39m    [36] \u001b[0m\u001b[1meventloop\u001b[22m\u001b[0m\u001b[1m(\u001b[22m\u001b[90msocket\u001b[39m::\u001b[0mZMQ.Socket\u001b[0m\u001b[1m)\u001b[22m\n",
      "\u001b[33m\u001b[1m│ \u001b[22m\u001b[39m   \u001b[90m    @ \u001b[39m\u001b[33mIJulia\u001b[39m \u001b[90m~/.julia/packages/IJulia/Vo51o/src/\u001b[39m\u001b[90m\u001b[4meventloop.jl:8\u001b[24m\u001b[39m\n",
      "\u001b[33m\u001b[1m│ \u001b[22m\u001b[39m    [37] \u001b[0m\u001b[1m(::IJulia.var\"#15#18\")\u001b[22m\u001b[0m\u001b[1m(\u001b[22m\u001b[0m\u001b[1m)\u001b[22m\n",
      "\u001b[33m\u001b[1m│ \u001b[22m\u001b[39m   \u001b[90m    @ \u001b[39m\u001b[33mIJulia\u001b[39m \u001b[90m./\u001b[39m\u001b[90m\u001b[4mtask.jl:484\u001b[24m\u001b[39m\n",
      "\u001b[33m\u001b[1m│ \u001b[22m\u001b[39m   in expression starting at /home/subasi/.julia/packages/LinearSolve/qCLK7/ext/LinearSolveKrylovKitExt.jl:1\n",
      "\u001b[33m\u001b[1m└ \u001b[22m\u001b[39m\u001b[90m@ Requires ~/.julia/packages/Requires/Z8rfN/src/require.jl:51\u001b[39m\n"
     ]
    }
   ],
   "source": [
    "using QuantumOptics\n",
    "using Einsum"
   ]
  },
  {
   "cell_type": "code",
   "execution_count": 2,
   "id": "7b304ec3-b79d-4f45-b133-4a664b983723",
   "metadata": {
    "tags": []
   },
   "outputs": [
    {
     "data": {
      "text/plain": [
       "NLevel(N=2)"
      ]
     },
     "execution_count": 2,
     "metadata": {},
     "output_type": "execute_result"
    }
   ],
   "source": [
    "basis = NLevelBasis(2) "
   ]
  },
  {
   "cell_type": "code",
   "execution_count": 3,
   "id": "0f82a715-f24e-4f77-93e3-7238ec840fda",
   "metadata": {
    "tags": []
   },
   "outputs": [
    {
     "data": {
      "text/plain": [
       "Operator(dim=2x2)\n",
       "  basis: NLevel(N=2)sparse([2, 1], [1, 2], ComplexF64[-1.0 - 0.0im, -1.0 - 0.0im], 2, 2)"
      ]
     },
     "execution_count": 3,
     "metadata": {},
     "output_type": "execute_result"
    }
   ],
   "source": [
    "t = -1\n",
    "\n",
    "H1 = t * ( transition(basis,1,2) + transition(basis,2,1) )"
   ]
  },
  {
   "cell_type": "code",
   "execution_count": 4,
   "id": "bf437d0c-7665-422c-a8cb-c2579e28e5a6",
   "metadata": {
    "tags": []
   },
   "outputs": [
    {
     "data": {
      "text/plain": [
       "([-1.0, 1.0], Ket{NLevelBasis{Int64}, Vector{ComplexF64}}[Ket(dim=2)\n",
       "  basis: NLevel(N=2)\n",
       " -0.7071067811865475 + 0.0im\n",
       " -0.7071067811865475 + 0.0im, Ket(dim=2)\n",
       "  basis: NLevel(N=2)\n",
       " -0.7071067811865475 + 0.0im\n",
       "  0.7071067811865475 + 0.0im])"
      ]
     },
     "execution_count": 4,
     "metadata": {},
     "output_type": "execute_result"
    }
   ],
   "source": [
    "E1, U1 = eigenstates(dense(H1))"
   ]
  },
  {
   "cell_type": "code",
   "execution_count": 5,
   "id": "96c71d4f-5a6f-4961-94f1-92cd4d68cfad",
   "metadata": {
    "tags": []
   },
   "outputs": [
    {
     "data": {
      "text/plain": [
       "Subspace(superbasis=NLevel(N=2), states:2)"
      ]
     },
     "execution_count": 5,
     "metadata": {},
     "output_type": "execute_result"
    }
   ],
   "source": [
    "# projection\n",
    "substates = 1:2\n",
    "basis_tilde = SubspaceBasis(basis, U1[substates])"
   ]
  },
  {
   "cell_type": "code",
   "execution_count": 6,
   "id": "069762d5-b020-48b7-ba0e-c2bd44f77951",
   "metadata": {
    "tags": []
   },
   "outputs": [
    {
     "data": {
      "text/plain": [
       "Operator(dim=2x2)\n",
       "  basis left:  Subspace(superbasis=NLevel(N=2), states:2)\n",
       "  basis right: NLevel(N=2)\n",
       " -0.707107-0.0im  -0.707107-0.0im\n",
       " -0.707107-0.0im   0.707107-0.0im"
      ]
     },
     "execution_count": 6,
     "metadata": {},
     "output_type": "execute_result"
    }
   ],
   "source": [
    "projector(basis_tilde, basis)"
   ]
  },
  {
   "cell_type": "code",
   "execution_count": 7,
   "id": "0a2b4983-71ee-45d2-8587-0d7280af5043",
   "metadata": {
    "tags": []
   },
   "outputs": [
    {
     "data": {
      "text/plain": [
       "Operator(dim=2x2)\n",
       "  basis left:  NLevel(N=2)\n",
       "  basis right: Subspace(superbasis=NLevel(N=2), states:2)\n",
       " -0.707107+0.0im  -0.707107+0.0im\n",
       " -0.707107+0.0im   0.707107+0.0im"
      ]
     },
     "execution_count": 7,
     "metadata": {},
     "output_type": "execute_result"
    }
   ],
   "source": [
    "projector(basis, basis_tilde)"
   ]
  },
  {
   "cell_type": "code",
   "execution_count": 8,
   "id": "b608e58e-057a-42e9-a5d5-2a44fd5bf881",
   "metadata": {
    "tags": []
   },
   "outputs": [
    {
     "data": {
      "text/plain": [
       "Operator(dim=2x2)\n",
       "  basis left:  Subspace(superbasis=NLevel(N=2), states:2)\n",
       "  basis right: NLevel(N=2)\n",
       " -0.707107-0.0im  -0.707107-0.0im\n",
       " -0.707107-0.0im   0.707107-0.0im"
      ]
     },
     "execution_count": 8,
     "metadata": {},
     "output_type": "execute_result"
    }
   ],
   "source": [
    "P1 = projector(basis, basis_tilde)\n",
    "P1_dag = dagger(P1)"
   ]
  },
  {
   "cell_type": "code",
   "execution_count": 9,
   "id": "c395555a-bd40-48e7-87f6-94fe317d2846",
   "metadata": {
    "tags": []
   },
   "outputs": [
    {
     "data": {
      "text/plain": [
       "Ket(dim=2)\n",
       "  basis: NLevel(N=2)\n",
       " 0.6 + 0.0im\n",
       " 0.8 + 0.0im"
      ]
     },
     "execution_count": 9,
     "metadata": {},
     "output_type": "execute_result"
    }
   ],
   "source": [
    "ψ = 3//5*nlevelstate(basis,1) + 4//5*nlevelstate(basis,2)"
   ]
  },
  {
   "cell_type": "code",
   "execution_count": 10,
   "id": "8bc91aaf-3195-47fb-be71-ad7891b1b440",
   "metadata": {
    "tags": []
   },
   "outputs": [
    {
     "data": {
      "text/plain": [
       "Ket(dim=2)\n",
       "  basis: NLevel(N=2)\n",
       " 0.6\n",
       " 0.8"
      ]
     },
     "execution_count": 10,
     "metadata": {},
     "output_type": "execute_result"
    }
   ],
   "source": [
    "ψ = Ket(basis, [3//5,4//5])"
   ]
  },
  {
   "cell_type": "code",
   "execution_count": 11,
   "id": "3ccb2dab-adf0-4686-a9e6-87baf0e93ae5",
   "metadata": {
    "tags": []
   },
   "outputs": [
    {
     "data": {
      "text/plain": [
       "Ket(dim=2)\n",
       "  basis: Subspace(superbasis=NLevel(N=2), states:2)\n",
       " -0.9899494936611664 + 0.0im\n",
       " 0.14142135623730956 + 0.0im"
      ]
     },
     "execution_count": 11,
     "metadata": {},
     "output_type": "execute_result"
    }
   ],
   "source": [
    "P1_dag*ψ"
   ]
  },
  {
   "cell_type": "code",
   "execution_count": 12,
   "id": "78fc7888-79e1-4c01-8404-f2779a0244f2",
   "metadata": {
    "tags": []
   },
   "outputs": [
    {
     "data": {
      "text/plain": [
       "Operator(dim=2x2)\n",
       "  basis: Subspace(superbasis=NLevel(N=2), states:2)\n",
       " -1.0+0.0im  0.0+0.0im\n",
       "  0.0+0.0im  1.0+0.0im"
      ]
     },
     "execution_count": 12,
     "metadata": {},
     "output_type": "execute_result"
    }
   ],
   "source": [
    "H1_sub = P1_dag*H1*P1"
   ]
  },
  {
   "cell_type": "code",
   "execution_count": 13,
   "id": "b3bdda48-5f67-4da9-b8ee-7b0593cdb9aa",
   "metadata": {
    "tags": []
   },
   "outputs": [
    {
     "data": {
      "text/plain": [
       "3-element QuantumOpticsBase.SortedVector{Vector{Int64}, Base.Order.ReverseOrdering{Base.Order.ForwardOrdering}}:\n",
       " [2, 0]\n",
       " [1, 1]\n",
       " [0, 2]"
      ]
     },
     "execution_count": 13,
     "metadata": {},
     "output_type": "execute_result"
    }
   ],
   "source": [
    "# many-body basis\n",
    "PN = 2 \n",
    "states_mb = bosonstates(basis, PN)"
   ]
  },
  {
   "cell_type": "code",
   "execution_count": 14,
   "id": "0cfa71e2-2741-432c-b143-50e22cde5ffb",
   "metadata": {
    "tags": []
   },
   "outputs": [
    {
     "data": {
      "text/plain": [
       "ManyBody(onebodybasis=NLevel(N=2), states:3)"
      ]
     },
     "execution_count": 14,
     "metadata": {},
     "output_type": "execute_result"
    }
   ],
   "source": [
    "basis_mb = ManyBodyBasis(basis, states_mb)"
   ]
  },
  {
   "cell_type": "code",
   "execution_count": 15,
   "id": "3ddaf5eb-b2bf-4293-8115-b75e886db07a",
   "metadata": {
    "tags": []
   },
   "outputs": [
    {
     "data": {
      "text/plain": [
       "Operator(dim=3x3)\n",
       "  basis: ManyBody(onebodybasis=NLevel(N=2), states:3)sparse([2, 1, 3, 2], [1, 2, 2, 3], ComplexF64[-1.4142135623730951 - 0.0im, -1.4142135623730951 - 0.0im, -1.4142135623730951 - 0.0im, -1.4142135623730951 - 0.0im], 3, 3)"
      ]
     },
     "execution_count": 15,
     "metadata": {},
     "output_type": "execute_result"
    }
   ],
   "source": [
    "H1_mb = manybodyoperator(basis_mb, H1)"
   ]
  },
  {
   "cell_type": "code",
   "execution_count": 16,
   "id": "13c31c64-c8e2-478d-a402-d743b224ba61",
   "metadata": {
    "tags": []
   },
   "outputs": [
    {
     "data": {
      "text/plain": [
       "Operator(dim=3x3)\n",
       "  basis: ManyBody(onebodybasis=NLevel(N=2), states:3)sparse(Int64[], Int64[], ComplexF64[], 3, 3)"
      ]
     },
     "execution_count": 16,
     "metadata": {},
     "output_type": "execute_result"
    }
   ],
   "source": [
    "# Hubbard interaction\n",
    "U0 = 0\n",
    "n1 = number(basis_mb, 1)\n",
    "n2 = number(basis_mb, 2)\n",
    "Id = identityoperator(basis_mb)\n",
    "Vint_mb = U0/2*(n1*(n1-Id) + n2*(n2-Id))"
   ]
  },
  {
   "cell_type": "code",
   "execution_count": 17,
   "id": "8e987d49-6591-431c-a800-9aeeda905396",
   "metadata": {
    "tags": []
   },
   "outputs": [
    {
     "data": {
      "text/plain": [
       "Operator(dim=3x3)\n",
       "  basis: ManyBody(onebodybasis=NLevel(N=2), states:3)sparse([2, 1, 3, 2], [1, 2, 2, 3], ComplexF64[-1.4142135623730951 + 0.0im, -1.4142135623730951 + 0.0im, -1.4142135623730951 + 0.0im, -1.4142135623730951 + 0.0im], 3, 3)"
      ]
     },
     "execution_count": 17,
     "metadata": {},
     "output_type": "execute_result"
    }
   ],
   "source": [
    "H_mb = H1_mb + Vint_mb"
   ]
  },
  {
   "cell_type": "code",
   "execution_count": 18,
   "id": "1c99fd5f-7be7-4676-9586-c2e1472d427c",
   "metadata": {
    "tags": []
   },
   "outputs": [
    {
     "data": {
      "text/plain": [
       "Operator(dim=3x3)\n",
       "  basis: ManyBody(onebodybasis=NLevel(N=2), states:3)\n",
       "      0.0+0.0im  -1.41421+0.0im       0.0+0.0im\n",
       " -1.41421+0.0im       0.0+0.0im  -1.41421+0.0im\n",
       "      0.0+0.0im  -1.41421+0.0im       0.0+0.0im"
      ]
     },
     "execution_count": 18,
     "metadata": {},
     "output_type": "execute_result"
    }
   ],
   "source": [
    "dense( H_mb )"
   ]
  },
  {
   "cell_type": "code",
   "execution_count": 19,
   "id": "4176e32f-e719-440d-9379-c23d215c4c2e",
   "metadata": {
    "tags": []
   },
   "outputs": [
    {
     "data": {
      "text/plain": [
       "3-element Vector{Float64}:\n",
       " -2.0\n",
       " -1.9949319973733282e-16\n",
       "  2.000000000000001"
      ]
     },
     "execution_count": 19,
     "metadata": {},
     "output_type": "execute_result"
    }
   ],
   "source": [
    "eigenenergies( dense(H_mb) )"
   ]
  },
  {
   "cell_type": "code",
   "execution_count": 20,
   "id": "bf030924-6835-4bec-a0a8-6f988377193d",
   "metadata": {
    "tags": []
   },
   "outputs": [
    {
     "name": "stderr",
     "output_type": "stream",
     "text": [
      "\u001b[36m\u001b[1m[ \u001b[22m\u001b[39m\u001b[36m\u001b[1mInfo: \u001b[22m\u001b[39mDefaulting to sparse diagonalization for sparse operator. If storing the full operator is possible, it might be faster to do `eigenstates(dense(op))`. Set `info=false` to turn off this message.\n"
     ]
    },
    {
     "data": {
      "text/plain": [
       "([-1.9999999999999991, 2.6645352591003757e-15, 2.0000000000000004], Ket{ManyBodyBasis{NLevelBasis{Int64}, QuantumOpticsBase.SortedVector{Vector{Int64}, Base.Order.ReverseOrdering{Base.Order.ForwardOrdering}}, UInt64}, Vector{ComplexF64}}[Ket(dim=3)\n",
       "  basis: ManyBody(onebodybasis=NLevel(N=2), states:3)\n",
       " 0.4693716741659837 + 0.17230853574510274im\n",
       " 0.6637917873992998 + 0.2436810681633735im\n",
       " 0.4693716741659841 + 0.17230853574510263im, Ket(dim=3)\n",
       "  basis: ManyBody(onebodybasis=NLevel(N=2), states:3)\n",
       " -0.6404482189056551 + 0.2997099913259059im\n",
       "            -2.8e-16 - 2.2e-16im\n",
       "  0.6404482189056546 - 0.29970999132590576im, Ket(dim=3)\n",
       "  basis: ManyBody(onebodybasis=NLevel(N=2), states:3)\n",
       " -0.0223415745544634 + 0.4995006046507125im\n",
       " 0.03159575773969178 - 0.7064005295105991im\n",
       " -0.0223415745544635 + 0.4995006046507125im])"
      ]
     },
     "execution_count": 20,
     "metadata": {},
     "output_type": "execute_result"
    }
   ],
   "source": [
    "EE, UU = eigenstates( H_mb, 3)"
   ]
  },
  {
   "cell_type": "code",
   "execution_count": 21,
   "id": "558b3491-9ca3-450a-b308-be03813b6260",
   "metadata": {
    "tags": []
   },
   "outputs": [],
   "source": [
    "# alternatively construct Vint from the 2-body matrix elements\n",
    "# transition(basis,i,k)⊗transition(basis,j,l) goes with V_ijkl "
   ]
  },
  {
   "cell_type": "code",
   "execution_count": 22,
   "id": "311b9500-7999-43e9-ac0e-43374e2087e9",
   "metadata": {
    "tags": []
   },
   "outputs": [
    {
     "data": {
      "text/plain": [
       "Operator(dim=4x4)\n",
       "  basis: [NLevel(N=2) ⊗ NLevel(N=2)]sparse(Int64[], Int64[], ComplexF64[], 4, 4)"
      ]
     },
     "execution_count": 22,
     "metadata": {},
     "output_type": "execute_result"
    }
   ],
   "source": [
    "V2  = U0/2*transition(basis,1,1)⊗transition(basis,1,1) \n",
    "V2 += U0/2*transition(basis,2,2)⊗transition(basis,2,2) "
   ]
  },
  {
   "cell_type": "code",
   "execution_count": 23,
   "id": "47705521-6c41-4081-b3e0-fa83331b1613",
   "metadata": {
    "tags": []
   },
   "outputs": [
    {
     "data": {
      "text/plain": [
       "4×4 SparseArrays.SparseMatrixCSC{ComplexF64, Int64} with 0 stored entries:\n",
       "     ⋅          ⋅          ⋅          ⋅    \n",
       "     ⋅          ⋅          ⋅          ⋅    \n",
       "     ⋅          ⋅          ⋅          ⋅    \n",
       "     ⋅          ⋅          ⋅          ⋅    "
      ]
     },
     "execution_count": 23,
     "metadata": {},
     "output_type": "execute_result"
    }
   ],
   "source": [
    "V2.data"
   ]
  },
  {
   "cell_type": "code",
   "execution_count": 24,
   "id": "4c2e890f-6f53-4bd4-8c6e-94b4b7b562a9",
   "metadata": {
    "tags": []
   },
   "outputs": [
    {
     "data": {
      "text/plain": [
       "Operator(dim=3x3)\n",
       "  basis: ManyBody(onebodybasis=NLevel(N=2), states:3)sparse(Int64[], Int64[], ComplexF64[], 3, 3)"
      ]
     },
     "execution_count": 24,
     "metadata": {},
     "output_type": "execute_result"
    }
   ],
   "source": [
    "V2_mb = manybodyoperator(basis_mb, V2)"
   ]
  },
  {
   "cell_type": "code",
   "execution_count": 25,
   "id": "8f2158b4-5041-4b14-b984-8427c842f29d",
   "metadata": {
    "tags": []
   },
   "outputs": [
    {
     "data": {
      "text/plain": [
       "true"
      ]
     },
     "execution_count": 25,
     "metadata": {},
     "output_type": "execute_result"
    }
   ],
   "source": [
    "isapprox(V2_mb, Vint_mb)"
   ]
  },
  {
   "cell_type": "code",
   "execution_count": 26,
   "id": "6619d47f-c1e6-4c07-af7e-70edf78cfdd3",
   "metadata": {
    "tags": []
   },
   "outputs": [
    {
     "data": {
      "text/plain": [
       "(Operator(dim=4x4)\n",
       "  basis: [NLevel(N=2) ⊗ NLevel(N=2)]sparse([1], [2], ComplexF64[1.0 + 0.0im], 4, 4), Operator(dim=4x4)\n",
       "  basis: [NLevel(N=2) ⊗ NLevel(N=2)]sparse([1], [3], ComplexF64[1.0 + 0.0im], 4, 4))"
      ]
     },
     "execution_count": 26,
     "metadata": {},
     "output_type": "execute_result"
    }
   ],
   "source": [
    "# compare the following for indexing the 2-ptl states\n",
    "transition(basis,1,2)⊗transition(basis,1,1), transition(basis,1,1)⊗transition(basis,1,2)"
   ]
  },
  {
   "cell_type": "code",
   "execution_count": null,
   "id": "c69e2bb6-add9-4ffa-b085-a3a917ceeddd",
   "metadata": {},
   "outputs": [],
   "source": []
  },
  {
   "cell_type": "code",
   "execution_count": null,
   "id": "81c83966-d48a-44a7-9b1d-17d63ab12522",
   "metadata": {},
   "outputs": [],
   "source": []
  },
  {
   "cell_type": "code",
   "execution_count": 27,
   "id": "bb8d63cb-3e03-4c7c-9a18-6605c0897c2c",
   "metadata": {
    "tags": []
   },
   "outputs": [
    {
     "data": {
      "text/plain": [
       "2×2 adjoint(::Matrix{ComplexF64}) with eltype ComplexF64:\n",
       " -0.707107-0.0im  -0.707107-0.0im\n",
       " -0.707107-0.0im   0.707107-0.0im"
      ]
     },
     "execution_count": 27,
     "metadata": {},
     "output_type": "execute_result"
    }
   ],
   "source": [
    "P1M = P1.data\n",
    "P1_dagM = P1_dag.data"
   ]
  },
  {
   "cell_type": "code",
   "execution_count": 28,
   "id": "41a2284b-ce3d-4d81-b4c3-4a512c29a9ee",
   "metadata": {
    "tags": []
   },
   "outputs": [
    {
     "data": {
      "text/plain": [
       "2×2 SparseArrays.SparseMatrixCSC{ComplexF64, Int64} with 2 stored entries:\n",
       "      ⋅      -1.0-0.0im\n",
       " -1.0-0.0im       ⋅    "
      ]
     },
     "execution_count": 28,
     "metadata": {},
     "output_type": "execute_result"
    }
   ],
   "source": [
    "H1M = H1.data"
   ]
  },
  {
   "cell_type": "code",
   "execution_count": 29,
   "id": "24e243c5-5741-4e5b-a643-3b9d7064d349",
   "metadata": {
    "tags": []
   },
   "outputs": [
    {
     "data": {
      "text/plain": [
       "4×4 SparseArrays.SparseMatrixCSC{ComplexF64, Int64} with 0 stored entries:\n",
       "     ⋅          ⋅          ⋅          ⋅    \n",
       "     ⋅          ⋅          ⋅          ⋅    \n",
       "     ⋅          ⋅          ⋅          ⋅    \n",
       "     ⋅          ⋅          ⋅          ⋅    "
      ]
     },
     "execution_count": 29,
     "metadata": {},
     "output_type": "execute_result"
    }
   ],
   "source": [
    "V2M = V2.data"
   ]
  },
  {
   "cell_type": "code",
   "execution_count": 30,
   "id": "e9d72835-82d6-4d53-84cb-0a91a812f46f",
   "metadata": {
    "tags": []
   },
   "outputs": [
    {
     "data": {
      "text/plain": [
       "4×4 Matrix{ComplexF64}:\n",
       " 0.5+0.0im   0.5+0.0im   0.5+0.0im   0.5+0.0im\n",
       " 0.5+0.0im  -0.5+0.0im   0.5+0.0im  -0.5+0.0im\n",
       " 0.5+0.0im   0.5+0.0im  -0.5+0.0im  -0.5+0.0im\n",
       " 0.5+0.0im  -0.5+0.0im  -0.5+0.0im   0.5-0.0im"
      ]
     },
     "execution_count": 30,
     "metadata": {},
     "output_type": "execute_result"
    }
   ],
   "source": [
    "P2M = (P1⊗P1).data\n",
    "P2_dagM = (P1_dag⊗P1_dag).data"
   ]
  },
  {
   "cell_type": "code",
   "execution_count": 31,
   "id": "73480988-a0f3-4c16-9a35-9a39cd019ce0",
   "metadata": {
    "tags": []
   },
   "outputs": [],
   "source": [
    "@einsum H1_tildeM[i,j] := P1_dagM[i,k] * H1M[k,l] * P1M[l,j];\n",
    "@einsum V2_tildeM[i2,j2] :=  P2_dagM[i2,k2] * V2M[k2,l2] * P2M[l2,j2];\n",
    "@einsum U4[k,l,m,n] := P1M[k,i] * P1M[l,i] * P1_dagM[i,m] * P1_dagM[i,n];"
   ]
  },
  {
   "cell_type": "code",
   "execution_count": 32,
   "id": "3693dbd3-064b-4d3b-b1b1-06d41224a8cb",
   "metadata": {
    "tags": []
   },
   "outputs": [
    {
     "data": {
      "text/plain": [
       "Operator(dim=2x2)\n",
       "  basis: Subspace(superbasis=NLevel(N=2), states:2)\n",
       " -1.0+0.0im  0.0+0.0im\n",
       "  0.0+0.0im  1.0+0.0im"
      ]
     },
     "execution_count": 32,
     "metadata": {},
     "output_type": "execute_result"
    }
   ],
   "source": [
    "H1_tilde = Operator(basis_tilde, H1_tildeM)"
   ]
  },
  {
   "cell_type": "code",
   "execution_count": 33,
   "id": "a1938d68-2e5f-427c-9e5c-3818f3aa9a37",
   "metadata": {
    "tags": []
   },
   "outputs": [
    {
     "data": {
      "text/plain": [
       "ManyBody(onebodybasis=Subspace(superbasis=NLevel(N=2), states:2), states:3)"
      ]
     },
     "execution_count": 33,
     "metadata": {},
     "output_type": "execute_result"
    }
   ],
   "source": [
    "basis_mb_tilde  = ManyBodyBasis(basis_tilde, states_mb)"
   ]
  },
  {
   "cell_type": "code",
   "execution_count": 34,
   "id": "7664f672-fbb3-44e4-8305-79cf4a05f30a",
   "metadata": {
    "tags": []
   },
   "outputs": [
    {
     "data": {
      "text/plain": [
       "Operator(dim=3x3)\n",
       "  basis: ManyBody(onebodybasis=Subspace(superbasis=NLevel(N=2), states:2), states:3)\n",
       " -2.0+0.0im  0.0+0.0im  0.0+0.0im\n",
       "  0.0+0.0im  0.0+0.0im  0.0+0.0im\n",
       "  0.0+0.0im  0.0+0.0im  2.0+0.0im"
      ]
     },
     "execution_count": 34,
     "metadata": {},
     "output_type": "execute_result"
    }
   ],
   "source": [
    "H_NI_tilde = manybodyoperator(basis_mb_tilde, H1_tilde)"
   ]
  },
  {
   "cell_type": "code",
   "execution_count": 35,
   "id": "266be005-b1bf-4a3e-acd9-41cc93da4e54",
   "metadata": {
    "tags": []
   },
   "outputs": [
    {
     "data": {
      "text/plain": [
       "[Subspace(superbasis=NLevel(N=2), states:2) ⊗ Subspace(superbasis=NLevel(N=2), states:2)]"
      ]
     },
     "execution_count": 35,
     "metadata": {},
     "output_type": "execute_result"
    }
   ],
   "source": [
    "basis_tilde2 = basis_tilde⊗basis_tilde"
   ]
  },
  {
   "cell_type": "code",
   "execution_count": 36,
   "id": "28e5c473-4006-44ec-bdf5-cba23728b413",
   "metadata": {
    "tags": []
   },
   "outputs": [
    {
     "data": {
      "text/plain": [
       "Operator(dim=4x4)\n",
       "  basis: [Subspace(superbasis=NLevel(N=2), states:2) ⊗ Subspace(superbasis=NLevel(N=2), states:2)]\n",
       " 0.0+0.0im  0.0+0.0im  0.0+0.0im  0.0+0.0im\n",
       " 0.0+0.0im  0.0+0.0im  0.0+0.0im  0.0+0.0im\n",
       " 0.0+0.0im  0.0+0.0im  0.0+0.0im  0.0+0.0im\n",
       " 0.0+0.0im  0.0+0.0im  0.0+0.0im  0.0+0.0im"
      ]
     },
     "execution_count": 36,
     "metadata": {},
     "output_type": "execute_result"
    }
   ],
   "source": [
    "Vint_tilde = Operator(basis_tilde2, U0/2*reshape(U4,4,4))"
   ]
  },
  {
   "cell_type": "code",
   "execution_count": 37,
   "id": "e59b633e-f52a-42ba-b79c-9dce777a5cc8",
   "metadata": {
    "tags": []
   },
   "outputs": [
    {
     "data": {
      "text/plain": [
       "Operator(dim=4x4)\n",
       "  basis: [Subspace(superbasis=NLevel(N=2), states:2) ⊗ Subspace(superbasis=NLevel(N=2), states:2)]\n",
       " 0.0+0.0im  0.0+0.0im  0.0+0.0im  0.0+0.0im\n",
       " 0.0+0.0im  0.0+0.0im  0.0+0.0im  0.0+0.0im\n",
       " 0.0+0.0im  0.0+0.0im  0.0+0.0im  0.0+0.0im\n",
       " 0.0+0.0im  0.0+0.0im  0.0+0.0im  0.0+0.0im"
      ]
     },
     "execution_count": 37,
     "metadata": {},
     "output_type": "execute_result"
    }
   ],
   "source": [
    "V2_tilde = Operator(basis_tilde2, V2_tildeM)"
   ]
  },
  {
   "cell_type": "code",
   "execution_count": 38,
   "id": "81ffa70f-f2f0-499f-af57-b08b5e2aed54",
   "metadata": {
    "tags": []
   },
   "outputs": [
    {
     "data": {
      "text/plain": [
       "true"
      ]
     },
     "execution_count": 38,
     "metadata": {},
     "output_type": "execute_result"
    }
   ],
   "source": [
    "isapprox(Vint_tilde, V2_tilde)"
   ]
  },
  {
   "cell_type": "code",
   "execution_count": 39,
   "id": "013ffb7a-2432-4d3a-9d80-2846c49a8422",
   "metadata": {
    "tags": []
   },
   "outputs": [
    {
     "data": {
      "text/plain": [
       "Operator(dim=3x3)\n",
       "  basis: ManyBody(onebodybasis=Subspace(superbasis=NLevel(N=2), states:2), states:3)\n",
       " 0.0+0.0im  0.0+0.0im  0.0+0.0im\n",
       " 0.0+0.0im  0.0+0.0im  0.0+0.0im\n",
       " 0.0+0.0im  0.0+0.0im  0.0+0.0im"
      ]
     },
     "execution_count": 39,
     "metadata": {},
     "output_type": "execute_result"
    }
   ],
   "source": [
    "Vint_tilde_mb = manybodyoperator(basis_mb_tilde, Vint_tilde)"
   ]
  },
  {
   "cell_type": "code",
   "execution_count": 40,
   "id": "8c780bad-7928-438c-9b11-b2b75dce8d9b",
   "metadata": {
    "tags": []
   },
   "outputs": [
    {
     "data": {
      "text/plain": [
       "Operator(dim=3x3)\n",
       "  basis: ManyBody(onebodybasis=Subspace(superbasis=NLevel(N=2), states:2), states:3)\n",
       " 0.0+0.0im  0.0+0.0im  0.0+0.0im\n",
       " 0.0+0.0im  0.0+0.0im  0.0+0.0im\n",
       " 0.0+0.0im  0.0+0.0im  0.0+0.0im"
      ]
     },
     "execution_count": 40,
     "metadata": {},
     "output_type": "execute_result"
    }
   ],
   "source": [
    "Vint_tilde_mb = manybodyoperator(basis_mb_tilde, V2_tilde)"
   ]
  },
  {
   "cell_type": "code",
   "execution_count": null,
   "id": "ddd1fd07-0005-406b-afa1-a8d47795f472",
   "metadata": {},
   "outputs": [],
   "source": []
  },
  {
   "cell_type": "code",
   "execution_count": null,
   "id": "ce9276dc-1934-4223-85ce-da9771887c30",
   "metadata": {},
   "outputs": [],
   "source": []
  },
  {
   "cell_type": "code",
   "execution_count": 41,
   "id": "c1d6f7ba-da31-43ea-8661-aab73b41cdd4",
   "metadata": {
    "tags": []
   },
   "outputs": [
    {
     "data": {
      "text/plain": [
       "Operator(dim=3x3)\n",
       "  basis: ManyBody(onebodybasis=Subspace(superbasis=NLevel(N=2), states:2), states:3)\n",
       " -2.0+0.0im  0.0+0.0im  0.0+0.0im\n",
       "  0.0+0.0im  0.0+0.0im  0.0+0.0im\n",
       "  0.0+0.0im  0.0+0.0im  2.0+0.0im"
      ]
     },
     "execution_count": 41,
     "metadata": {},
     "output_type": "execute_result"
    }
   ],
   "source": [
    "H_mb_tilde = H_NI_tilde + Vint_tilde_mb"
   ]
  },
  {
   "cell_type": "code",
   "execution_count": 42,
   "id": "56fee6a9-7846-40d8-990f-d00696d85646",
   "metadata": {
    "tags": []
   },
   "outputs": [
    {
     "data": {
      "text/plain": [
       "3-element Vector{Float64}:\n",
       " -1.9999999999999996\n",
       "  0.0\n",
       "  1.9999999999999996"
      ]
     },
     "execution_count": 42,
     "metadata": {},
     "output_type": "execute_result"
    }
   ],
   "source": [
    "eigenenergies( dense(H_mb_tilde) )"
   ]
  },
  {
   "cell_type": "code",
   "execution_count": 43,
   "id": "245e9b39-fce2-4c1f-a34b-b8937f87354d",
   "metadata": {
    "tags": []
   },
   "outputs": [
    {
     "data": {
      "text/plain": [
       "([-1.9999999999999996, 0.0, 1.9999999999999996], Ket{ManyBodyBasis{SubspaceBasis{Vector{Int64}, NLevelBasis{Int64}, Ket{NLevelBasis{Int64}, Vector{ComplexF64}}, 0x868ccc38620d16b5, UInt64}, QuantumOpticsBase.SortedVector{Vector{Int64}, Base.Order.ReverseOrdering{Base.Order.ForwardOrdering}}, UInt64}, Vector{ComplexF64}}[Ket(dim=3)\n",
       "  basis: ManyBody(onebodybasis=Subspace(superbasis=NLevel(N=2), states:2), states:3)\n",
       " 1.0 + 0.0im\n",
       " 0.0 + 0.0im\n",
       " 0.0 + 0.0im, Ket(dim=3)\n",
       "  basis: ManyBody(onebodybasis=Subspace(superbasis=NLevel(N=2), states:2), states:3)\n",
       " 0.0 + 0.0im\n",
       " 1.0 + 0.0im\n",
       " 0.0 + 0.0im, Ket(dim=3)\n",
       "  basis: ManyBody(onebodybasis=Subspace(superbasis=NLevel(N=2), states:2), states:3)\n",
       " 0.0 + 0.0im\n",
       " 0.0 + 0.0im\n",
       " 1.0 + 0.0im])"
      ]
     },
     "execution_count": 43,
     "metadata": {},
     "output_type": "execute_result"
    }
   ],
   "source": [
    "EEt, UUt = eigenstates(  H_mb_tilde )"
   ]
  },
  {
   "cell_type": "code",
   "execution_count": null,
   "id": "faf4490e-0ddc-4f83-931b-b3b7fb61b99d",
   "metadata": {},
   "outputs": [],
   "source": []
  },
  {
   "cell_type": "code",
   "execution_count": null,
   "id": "fd3cb4dc-1dbf-4e04-9384-92dae917e151",
   "metadata": {},
   "outputs": [],
   "source": []
  },
  {
   "cell_type": "code",
   "execution_count": 44,
   "id": "4e8de0fd-455e-4299-a84d-8bdb3fc1d073",
   "metadata": {
    "tags": []
   },
   "outputs": [
    {
     "data": {
      "text/plain": [
       "3-element QuantumOpticsBase.SortedVector{Vector{Int64}, Base.Order.ReverseOrdering{Base.Order.ForwardOrdering}}:\n",
       " [2, 0]\n",
       " [1, 1]\n",
       " [0, 2]"
      ]
     },
     "execution_count": 44,
     "metadata": {},
     "output_type": "execute_result"
    }
   ],
   "source": [
    "states_mb"
   ]
  },
  {
   "cell_type": "code",
   "execution_count": 45,
   "id": "a725f4cf-ea51-48b5-baca-b0329efbd422",
   "metadata": {
    "tags": []
   },
   "outputs": [
    {
     "data": {
      "text/plain": [
       "3-element Vector{Any}:\n",
       " [1, 1]\n",
       " [1, 2]\n",
       " [2, 2]"
      ]
     },
     "execution_count": 45,
     "metadata": {},
     "output_type": "execute_result"
    }
   ],
   "source": [
    "state_list = []\n",
    "for state in states_mb\n",
    "    #println(findall(state.!=0))\n",
    "    repr = Int64[]\n",
    "    for oi in findall(state.!=0)\n",
    "            push!(repr,repeat([oi],state[oi])...)\n",
    "    end\n",
    "    #println(repr)\n",
    "    push!(state_list, repr)\n",
    "end\n",
    "state_list"
   ]
  },
  {
   "cell_type": "code",
   "execution_count": 46,
   "id": "eff99de7-f70e-4ca8-a521-fe5b1adf0281",
   "metadata": {
    "tags": []
   },
   "outputs": [
    {
     "data": {
      "text/plain": [
       "Dict{Any, Any} with 3 entries:\n",
       "  [1, 1] => 1\n",
       "  [2, 2] => 3\n",
       "  [1, 2] => 2"
      ]
     },
     "execution_count": 46,
     "metadata": {},
     "output_type": "execute_result"
    }
   ],
   "source": [
    "state_index = Dict()\n",
    "for (ind, state) in enumerate(state_list)\n",
    "    state_index[state] = ind\n",
    "end\n",
    "state_index"
   ]
  },
  {
   "cell_type": "code",
   "execution_count": 47,
   "id": "4e823864-533c-4d54-9492-49e36acc2971",
   "metadata": {
    "tags": []
   },
   "outputs": [],
   "source": [
    "using Combinatorics"
   ]
  },
  {
   "cell_type": "code",
   "execution_count": 48,
   "id": "0fc243c5-0c97-4046-8d3b-611c77388c2d",
   "metadata": {
    "tags": []
   },
   "outputs": [
    {
     "data": {
      "text/plain": [
       "Set{Vector{Int64}} with 2 elements:\n",
       "  [2, 1]\n",
       "  [1, 2]"
      ]
     },
     "execution_count": 48,
     "metadata": {},
     "output_type": "execute_result"
    }
   ],
   "source": [
    "Set( collect(permutations(state_list[2])) )"
   ]
  },
  {
   "cell_type": "code",
   "execution_count": 49,
   "id": "113cc4b0-84db-4b8e-8802-bffa82b24303",
   "metadata": {
    "tags": []
   },
   "outputs": [
    {
     "data": {
      "text/plain": [
       "3"
      ]
     },
     "execution_count": 49,
     "metadata": {},
     "output_type": "execute_result"
    }
   ],
   "source": [
    "basis_mb.shape"
   ]
  },
  {
   "cell_type": "code",
   "execution_count": 50,
   "id": "30d66416-b327-419e-96f1-c7e0afe41d93",
   "metadata": {
    "tags": []
   },
   "outputs": [
    {
     "name": "stdout",
     "output_type": "stream",
     "text": [
      "1\t1\t11\t-0.7071067811865475 + 0.0im\n",
      "1\t1\t11\t0.4999999999999999 - 0.0im\n",
      "1\t2\t11\t-0.7071067811865475 + 0.0im\n",
      "1\t2\t11\t0.4999999999999999 - 0.0im\n",
      "1\t2\t12\t-0.7071067811865475 + 0.0im\n",
      "1\t2\t12\t0.4999999999999999 - 0.0im\n",
      "1\t3\t11\t-0.7071067811865475 + 0.0im\n",
      "1\t3\t11\t0.4999999999999999 - 0.0im\n",
      "2\t1\t11\t-0.7071067811865475 + 0.0im\n",
      "2\t1\t11\t0.4999999999999999 - 0.0im\n",
      "2\t1\t21\t-0.7071067811865475 + 0.0im\n",
      "2\t1\t21\t0.4999999999999999 - 0.0im\n",
      "2\t2\t11\t0.7071067811865475 + 0.0im\n",
      "2\t2\t11\t-0.4999999999999999 + 0.0im\n",
      "2\t2\t12\t-0.7071067811865475 + 0.0im\n",
      "2\t2\t12\t0.4999999999999999 - 0.0im\n",
      "2\t2\t21\t-0.7071067811865475 + 0.0im\n",
      "2\t2\t21\t0.4999999999999999 - 0.0im\n",
      "2\t2\t22\t-0.7071067811865475 + 0.0im\n",
      "2\t2\t22\t-0.4999999999999999 + 0.0im\n",
      "2\t3\t11\t0.7071067811865475 + 0.0im\n",
      "2\t3\t11\t-0.4999999999999999 + 0.0im\n",
      "2\t3\t21\t-0.7071067811865475 + 0.0im\n",
      "2\t3\t21\t-0.4999999999999999 + 0.0im\n",
      "3\t1\t11\t-0.7071067811865475 + 0.0im\n",
      "3\t1\t11\t0.4999999999999999 - 0.0im\n",
      "3\t2\t11\t0.7071067811865475 + 0.0im\n",
      "3\t2\t11\t-0.4999999999999999 + 0.0im\n",
      "3\t2\t12\t-0.7071067811865475 + 0.0im\n",
      "3\t2\t12\t-0.4999999999999999 + 0.0im\n",
      "3\t3\t11\t0.7071067811865475 + 0.0im\n",
      "3\t3\t11\t0.4999999999999999 + 0.0im\n"
     ]
    }
   ],
   "source": [
    "PMB = zeros(ComplexF64,basis_mb.shape,basis_mb.shape)\n",
    "for iMB in 1:basis_mb.shape\n",
    "    i_occ_lists = Set( collect(permutations(state_list[iMB])) )\n",
    "    ilistlen = length(i_occ_lists)\n",
    "    for jMB in 1:basis_mb.shape\n",
    "        j_occ_lists = Set( collect(permutations(state_list[jMB])) )\n",
    "        jlistlen = length(j_occ_lists)\n",
    "        for (iocc_ind,iocc) in enumerate(i_occ_lists)\n",
    "            for (jocc_ind,jocc) in enumerate(j_occ_lists)\n",
    "                P1val=1\n",
    "                for ind in 1:PN\n",
    "                    P1val *= P1M[iocc[ind],jocc[ind]]\n",
    "                    println(iMB,'\\t',jMB,'\\t', iocc_ind,jocc_ind, '\\t', P1val)\n",
    "                end    \n",
    "                PMB[iMB,jMB] += P1val/sqrt(ilistlen*jlistlen) \n",
    "            end\n",
    "        end\n",
    "    end\n",
    "end"
   ]
  },
  {
   "cell_type": "code",
   "execution_count": 51,
   "id": "2577ef1c-9fac-47c9-b89d-bbdaabdcd540",
   "metadata": {
    "tags": []
   },
   "outputs": [
    {
     "data": {
      "text/plain": [
       "2×2 Matrix{ComplexF64}:\n",
       " -0.707107+0.0im  -0.707107+0.0im\n",
       " -0.707107+0.0im   0.707107+0.0im"
      ]
     },
     "execution_count": 51,
     "metadata": {},
     "output_type": "execute_result"
    }
   ],
   "source": [
    "P1M"
   ]
  },
  {
   "cell_type": "code",
   "execution_count": 52,
   "id": "9b6a047d-4473-4a07-8ac3-b86c6046f6b7",
   "metadata": {
    "tags": []
   },
   "outputs": [
    {
     "data": {
      "text/plain": [
       "3×3 Matrix{ComplexF64}:\n",
       "      0.5+0.0im   0.707107+0.0im        0.5+0.0im\n",
       " 0.707107+0.0im        0.0+0.0im  -0.707107+0.0im\n",
       "      0.5+0.0im  -0.707107+0.0im        0.5+0.0im"
      ]
     },
     "execution_count": 52,
     "metadata": {},
     "output_type": "execute_result"
    }
   ],
   "source": [
    "PMB"
   ]
  },
  {
   "cell_type": "code",
   "execution_count": 53,
   "id": "abc2ee57-6dde-4a6a-9257-4591d921a6e1",
   "metadata": {
    "tags": []
   },
   "outputs": [
    {
     "data": {
      "text/plain": [
       "3-element Vector{Ket{ManyBodyBasis{NLevelBasis{Int64}, QuantumOpticsBase.SortedVector{Vector{Int64}, Base.Order.ReverseOrdering{Base.Order.ForwardOrdering}}, UInt64}, Vector{ComplexF64}}}:\n",
       " Ket(dim=3)\n",
       "  basis: ManyBody(onebodybasis=NLevel(N=2), states:3)\n",
       " 0.4693716741659837 + 0.17230853574510274im\n",
       " 0.6637917873992998 + 0.2436810681633735im\n",
       " 0.4693716741659841 + 0.17230853574510263im\n",
       " Ket(dim=3)\n",
       "  basis: ManyBody(onebodybasis=NLevel(N=2), states:3)\n",
       " -0.6404482189056551 + 0.2997099913259059im\n",
       "            -2.8e-16 - 2.2e-16im\n",
       "  0.6404482189056546 - 0.29970999132590576im\n",
       " Ket(dim=3)\n",
       "  basis: ManyBody(onebodybasis=NLevel(N=2), states:3)\n",
       " -0.0223415745544634 + 0.4995006046507125im\n",
       " 0.03159575773969178 - 0.7064005295105991im\n",
       " -0.0223415745544635 + 0.4995006046507125im"
      ]
     },
     "execution_count": 53,
     "metadata": {},
     "output_type": "execute_result"
    }
   ],
   "source": [
    "UU"
   ]
  },
  {
   "cell_type": "code",
   "execution_count": 54,
   "id": "bcdff76e-c902-4d17-86d8-f6f31fa0da55",
   "metadata": {
    "tags": []
   },
   "outputs": [
    {
     "data": {
      "text/plain": [
       "3-element Vector{ComplexF64}:\n",
       " -4.85722573273506e-17 + 5.551115123125783e-17im\n",
       " 7.979727989493313e-17 + 0.0im\n",
       " -0.044683149108926845 + 0.9990012093014248im"
      ]
     },
     "execution_count": 54,
     "metadata": {},
     "output_type": "execute_result"
    }
   ],
   "source": [
    "PMB*UU[3].data"
   ]
  },
  {
   "cell_type": "code",
   "execution_count": 55,
   "id": "0201eeeb-59ef-4e26-8e8d-d874caa4a870",
   "metadata": {
    "tags": []
   },
   "outputs": [
    {
     "data": {
      "text/plain": [
       "3-element Vector{Ket{ManyBodyBasis{SubspaceBasis{Vector{Int64}, NLevelBasis{Int64}, Ket{NLevelBasis{Int64}, Vector{ComplexF64}}, 0x868ccc38620d16b5, UInt64}, QuantumOpticsBase.SortedVector{Vector{Int64}, Base.Order.ReverseOrdering{Base.Order.ForwardOrdering}}, UInt64}, Vector{ComplexF64}}}:\n",
       " Ket(dim=3)\n",
       "  basis: ManyBody(onebodybasis=Subspace(superbasis=NLevel(N=2), states:2), states:3)\n",
       " 1.0 + 0.0im\n",
       " 0.0 + 0.0im\n",
       " 0.0 + 0.0im\n",
       " Ket(dim=3)\n",
       "  basis: ManyBody(onebodybasis=Subspace(superbasis=NLevel(N=2), states:2), states:3)\n",
       " 0.0 + 0.0im\n",
       " 1.0 + 0.0im\n",
       " 0.0 + 0.0im\n",
       " Ket(dim=3)\n",
       "  basis: ManyBody(onebodybasis=Subspace(superbasis=NLevel(N=2), states:2), states:3)\n",
       " 0.0 + 0.0im\n",
       " 0.0 + 0.0im\n",
       " 1.0 + 0.0im"
      ]
     },
     "execution_count": 55,
     "metadata": {},
     "output_type": "execute_result"
    }
   ],
   "source": [
    "UUt"
   ]
  },
  {
   "cell_type": "code",
   "execution_count": 56,
   "id": "e52935a5-fa8a-45b1-b27d-b6d16758aebe",
   "metadata": {
    "tags": []
   },
   "outputs": [
    {
     "data": {
      "text/plain": [
       "3×3 Matrix{ComplexF64}:\n",
       "      0.5+0.0im   0.707107+0.0im        0.5+0.0im\n",
       " 0.707107+0.0im        0.0+0.0im  -0.707107+0.0im\n",
       "      0.5+0.0im  -0.707107+0.0im        0.5+0.0im"
      ]
     },
     "execution_count": 56,
     "metadata": {},
     "output_type": "execute_result"
    }
   ],
   "source": [
    "PMB"
   ]
  },
  {
   "cell_type": "code",
   "execution_count": 62,
   "id": "8c444569-7164-4e7d-a0c6-e23470eabc30",
   "metadata": {
    "tags": []
   },
   "outputs": [
    {
     "name": "stdout",
     "output_type": "stream",
     "text": [
      "0.9999999999999996\n",
      "0.9999999999999999\n",
      "0.9999999999999999\n"
     ]
    }
   ],
   "source": [
    "for iMB in 1:basis_mb.shape\n",
    "    println( norm( UU[iMB]'*Operator(basis_mb,basis_mb_tilde,PMB)*UUt[iMB] ))\n",
    "end"
   ]
  },
  {
   "cell_type": "code",
   "execution_count": 58,
   "id": "1afd028f-a9ef-4a7b-a4d5-61a27743dee7",
   "metadata": {
    "tags": []
   },
   "outputs": [
    {
     "data": {
      "text/plain": [
       "NLevel(N=2)"
      ]
     },
     "execution_count": 58,
     "metadata": {},
     "output_type": "execute_result"
    }
   ],
   "source": [
    "basis_mb.onebodybasis"
   ]
  },
  {
   "cell_type": "code",
   "execution_count": 59,
   "id": "837a7731-7310-4efd-b3f1-a4994b4a7713",
   "metadata": {
    "tags": []
   },
   "outputs": [
    {
     "data": {
      "text/plain": [
       "2-element Vector{Ket{NLevelBasis{Int64}, Vector{ComplexF64}}}:\n",
       " Ket(dim=2)\n",
       "  basis: NLevel(N=2)\n",
       " -0.7071067811865475 + 0.0im\n",
       " -0.7071067811865475 + 0.0im\n",
       " Ket(dim=2)\n",
       "  basis: NLevel(N=2)\n",
       " -0.7071067811865475 + 0.0im\n",
       "  0.7071067811865475 + 0.0im"
      ]
     },
     "execution_count": 59,
     "metadata": {},
     "output_type": "execute_result"
    }
   ],
   "source": [
    "basis_mb_tilde.onebodybasis.basisstates"
   ]
  },
  {
   "cell_type": "code",
   "execution_count": null,
   "id": "8c90cd1f-47b0-4d65-9afd-50cea2ecde00",
   "metadata": {},
   "outputs": [],
   "source": []
  }
 ],
 "metadata": {
  "kernelspec": {
   "display_name": "Julia 1.8.5",
   "language": "julia",
   "name": "julia-1.8"
  },
  "language_info": {
   "file_extension": ".jl",
   "mimetype": "application/julia",
   "name": "julia",
   "version": "1.8.5"
  }
 },
 "nbformat": 4,
 "nbformat_minor": 5
}
