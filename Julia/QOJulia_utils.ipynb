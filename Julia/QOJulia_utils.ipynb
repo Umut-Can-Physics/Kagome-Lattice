{
 "cells": [
  {
   "cell_type": "code",
   "execution_count": 6,
   "id": "838d7270",
   "metadata": {},
   "outputs": [],
   "source": [
    "using QuantumOptics\n",
    "using Combinatorics\n",
    "using Einsum"
   ]
  },
  {
   "cell_type": "code",
   "execution_count": 7,
   "id": "44bb12e4",
   "metadata": {},
   "outputs": [
    {
     "data": {
      "text/plain": [
       "get_sp_op"
      ]
     },
     "execution_count": 7,
     "metadata": {},
     "output_type": "execute_result"
    }
   ],
   "source": [
    "#= \"\"\"\n",
    "Compute the single-particle operator from single-particle matrix.\n",
    "\n",
    "#### Arguments\n",
    "- `sp_basis::NLevelBasis`: Single-Particle basis.\n",
    "- `sp_matrix::Matrix`: Hopping phases matrix from any model.\n",
    "\"\"\"\n",
    "function get_sp_op(sp_basis, sp_matrix)\n",
    "    \n",
    "    H = SparseOperator(sp_basis)\n",
    "\n",
    "    N, = size(sp_matrix)\n",
    "    \n",
    "    for m in 1:N\n",
    "        for n in 1:N\n",
    "            H += sp_matrix[m,n] * transition(sp_basis, m, n)\n",
    "        end\n",
    "    end\n",
    "    \n",
    "    return H\n",
    "end  =#"
   ]
  },
  {
   "cell_type": "code",
   "execution_count": 8,
   "id": "3348d61b",
   "metadata": {},
   "outputs": [
    {
     "data": {
      "text/plain": [
       "get_subset_states"
      ]
     },
     "execution_count": 8,
     "metadata": {},
     "output_type": "execute_result"
    }
   ],
   "source": [
    "\"\"\"\n",
    "Compute the first eigen-states in a given number.\n",
    "\n",
    "#### Arguments\n",
    "- `sp_op::get_sp_op`: Single-particle operator.\n",
    "- `cut_off::Int`: Limit value of eigen-state index.\n",
    "\"\"\"\n",
    "function get_subset_states(sp_op, sub_range)\n",
    "    \n",
    "    E0, states0 = eigenstates(dense(sp_op))\n",
    "    states = states0[sub_range]\n",
    "    \n",
    "    return states\n",
    "end"
   ]
  },
  {
   "cell_type": "code",
   "execution_count": 9,
   "id": "67f15d88",
   "metadata": {},
   "outputs": [
    {
     "data": {
      "text/plain": [
       "get_projector_op"
      ]
     },
     "execution_count": 9,
     "metadata": {},
     "output_type": "execute_result"
    }
   ],
   "source": [
    "#= \"\"\"\n",
    "Compute sub-space basis, projection and comlex conjugate of projection operator.\n",
    "\n",
    "#### Arguments\n",
    "- `states::get_sub_states`: Eigen-states of the sub-space.\n",
    "- `basis::NLevelBasis`: Single-particle basis.\n",
    "\"\"\"\n",
    "function get_projector_op(basis, proj_basis)\n",
    "    \n",
    "    subspace_proj = SubspaceBasis(basis, proj_basis)\n",
    "    P = projector(subspace_proj, basis)\n",
    "    Pt = dagger(P)\n",
    "    \n",
    "    return subspace_proj, P, Pt\n",
    "end =#"
   ]
  },
  {
   "cell_type": "code",
   "execution_count": 10,
   "id": "3c0755b2",
   "metadata": {},
   "outputs": [
    {
     "data": {
      "text/plain": [
       "get_subspace_op"
      ]
     },
     "execution_count": 10,
     "metadata": {},
     "output_type": "execute_result"
    }
   ],
   "source": [
    "#= \"\"\"\n",
    "Compute the corresponding operator in the sub-space.\n",
    "\n",
    "#### Arguments\n",
    "- `sp_op::Operator`: Single-particle operator from single-particle matrix.\n",
    "- `P::get_projector_op[2]`: Projection operator.\n",
    "- `Pt::get_projector_op[3]`: Complex conjugate of projection operator.\n",
    "\"\"\"\n",
    "function get_subspace_op(sp_op, P, Pt)\n",
    "    return P*sp_op*Pt\n",
    "end =#"
   ]
  },
  {
   "cell_type": "code",
   "execution_count": 11,
   "id": "bd82e1fb",
   "metadata": {},
   "outputs": [
    {
     "data": {
      "text/plain": [
       "get_mb_op"
      ]
     },
     "execution_count": 11,
     "metadata": {},
     "output_type": "execute_result"
    }
   ],
   "source": [
    "#= \"\"\"\n",
    "Compute the many-body operator for boson particles from single-particle operator.\n",
    "\n",
    "#### Arguments\n",
    "- `mb_basis`: Many-body basis.\n",
    "- `sp_op::Operator`: Single-particle operator.\n",
    "\"\"\"\n",
    "function get_mb_op(mb_basis, sp_op)\n",
    "    \n",
    "    mb_op = SparseOperator(mb_basis)\n",
    "\n",
    "    # site number\n",
    "    N = size(sp_op)[1]\n",
    "    \n",
    "    for i in 1:N\n",
    "        for j in 1:N\n",
    "            mb_op += sp_op.data[i,j] * transition(mb_basis, i, j)\n",
    "        end\n",
    "    end\n",
    "    \n",
    "    return mb_op\n",
    "end =#"
   ]
  },
  {
   "cell_type": "code",
   "execution_count": 12,
   "id": "d1510210",
   "metadata": {},
   "outputs": [
    {
     "data": {
      "text/plain": [
       "get_H_mb (generic function with 1 method)"
      ]
     },
     "execution_count": 12,
     "metadata": {},
     "output_type": "execute_result"
    }
   ],
   "source": [
    "function get_H_mb(param_dict)\n",
    "    \n",
    "    H1_m = param_dict[\"model_H1\"](param_dict)    \n",
    "    H1 = get_sp_op(param_dict[\"basis\"], H1_m)\n",
    "    \n",
    "    # param_dict0 = copy(param_dict)\n",
    "    # param_dict0[\"θθ\"]=[ 0, 0 ]\n",
    "    # H10_m = param_dict[\"model_H1\"](param_dict0)    \n",
    "    # H10 = get_sp_op(param_dict[\"basis\"], H10_m)\n",
    "    \n",
    "    # sub space\n",
    "    if \"sub_range\" in keys(param_dict)\n",
    "        \n",
    "        sub_states = get_subset_states(H1, param_dict[\"sub_range\"]);\n",
    "        #subspace_proj, P, Pt = get_projector_op(param_dict[\"basis\"], sub_states)\n",
    "        #param_dict[\"subspace_proj\"] = subspace_proj\n",
    "        param_dict[\"projection\"] = get_projector_op(param_dict[\"basis\"], sub_states)\n",
    "        \n",
    "        # DÜZENLENDİ!\n",
    "        #subspace_proj, P, Pt = param_dict[\"projection\"]\n",
    "        #H1_proj = get_subspace_op(H1, P, Pt)\n",
    "        H1_proj = get_subspace_op(H1, param_dict[\"projection\"][2], param_dict[\"projection\"][3])\n",
    "        \n",
    "        basis_mb = get_basis_mb(param_dict)\n",
    "        param_dict[\"dimH_mb\"] = length(basis_mb)\n",
    "        H_mb = get_mb_op(param_dict[\"basis_mb\"], H1_proj)\n",
    "        H_mb = (H_mb'+H_mb)/2\n",
    "        \n",
    "    # full space\n",
    "    else\n",
    "        basis_mb = get_basis_mb(param_dict)\n",
    "        param_dict[\"dimH_mb\"] = length(basis_mb)\n",
    "        H_mb = get_mb_op(param_dict[\"basis_mb\"], H1)\n",
    "    end\n",
    "    return H_mb\n",
    "end"
   ]
  },
  {
   "cell_type": "code",
   "execution_count": 13,
   "id": "b68c3544-6af4-4d9c-a0a3-8564465785ec",
   "metadata": {},
   "outputs": [
    {
     "data": {
      "text/plain": [
       "get_basis_mb (generic function with 1 method)"
      ]
     },
     "execution_count": 13,
     "metadata": {},
     "output_type": "execute_result"
    }
   ],
   "source": [
    "function get_basis_mb(param_dict)\n",
    "    \n",
    "    # sub space\n",
    "    if \"sub_range\" in keys(param_dict)\n",
    "        states = bosonstates(param_dict[\"projection\"][1], param_dict[\"PN\"])\n",
    "        basis_mb = ManyBodyBasis(param_dict[\"projection\"][1], states)\n",
    "        param_dict[\"basis_mb\"] = basis_mb\n",
    "        \n",
    "    # full space\n",
    "    else\n",
    "        states = bosonstates(param_dict[\"basis\"], param_dict[\"PN\"])\n",
    "        basis_mb = ManyBodyBasis(param_dict[\"basis\"], states)\n",
    "        param_dict[\"basis_mb\"] = basis_mb\n",
    "    end\n",
    "    return basis_mb\n",
    "end"
   ]
  },
  {
   "cell_type": "code",
   "execution_count": 14,
   "id": "2340c6e8-96fb-45b2-a891-fd320fb8533a",
   "metadata": {},
   "outputs": [
    {
     "data": {
      "text/plain": [
       "get_basis_mb_int (generic function with 1 method)"
      ]
     },
     "execution_count": 14,
     "metadata": {},
     "output_type": "execute_result"
    }
   ],
   "source": [
    "function get_basis_mb_int(param_dict)\n",
    "    \n",
    "    # sub space\n",
    "    if \"sub_range\" in keys(param_dict)\n",
    "        states = bosonstates(param_dict[\"projection\"][1], param_dict[\"PN_int\"])\n",
    "        basis_mb = ManyBodyBasis(param_dict[\"projection\"][1], states)\n",
    "        param_dict[\"basis_mb\"] = basis_mb\n",
    "        \n",
    "    # full space\n",
    "    else\n",
    "        states = bosonstates(param_dict[\"basis\"], param_dict[\"PN_int\"])\n",
    "        basis_mb = ManyBodyBasis(param_dict[\"basis\"], states)\n",
    "        param_dict[\"basis_mb\"] = basis_mb\n",
    "    end\n",
    "    return basis_mb\n",
    "end"
   ]
  },
  {
   "cell_type": "code",
   "execution_count": 15,
   "id": "69dcdef8",
   "metadata": {},
   "outputs": [
    {
     "data": {
      "text/plain": [
       "get_H_mb_2 (generic function with 1 method)"
      ]
     },
     "execution_count": 15,
     "metadata": {},
     "output_type": "execute_result"
    }
   ],
   "source": [
    "# BUNU SADECE INTERACTION YAZARKEN KULLANIYORUM\n",
    "\n",
    "function get_H_mb_2(param_dict)\n",
    "    \n",
    "    H1_m = param_dict[\"model_H1\"](param_dict)\n",
    "    \n",
    "    H1 = get_sp_op(param_dict[\"basis\"], H1_m)\n",
    "    \n",
    "    sub_states = get_subset_states(H1, param_dict[\"sub_range\"])\n",
    "    subspace_proj, P, Pt = get_projector_op(param_dict[\"basis\"], sub_states)\n",
    "    param_dict[\"projection\"] = subspace_proj, P, Pt\n",
    "    \n",
    "    # DÜZENLENDİ!\n",
    "    #H1_proj = get_subspace_op(H1, P, Pt)\n",
    "    H1_proj = get_subspace_op(H1, param_dict[\"projection\"][2], param_dict[\"projection\"][3])\n",
    "\n",
    "    basis_mb = get_basis_mb_int(param_dict)\n",
    "    param_dict[\"basis_mb\"] = basis_mb\n",
    "    H_mb = get_mb_op(param_dict[\"basis_mb\"], H1_proj)\n",
    "    H_mb = (H_mb'+H_mb)/2\n",
    "    \n",
    "    #mb_states_chern = param_dict[\"mb_states_chern\"] #???\n",
    "\n",
    "    # DÜZENLENDİ!\n",
    "    #mb_states = bosonstates(subspace_proj, param_dict[\"PN\"])\n",
    "    #İhtiyacım yok\n",
    "    #mb_states = bosonstates(param_dict[\"projection\"][1], param_dict[\"PN\"])\n",
    "    #ihtiyacım yok\n",
    "    #param_dict[\"mb_states\"] = mb_states\n",
    "    #basis_mb_chern = param_dict[\"basis_mb_chern\"] #???\n",
    "\n",
    "    # BASIS TRANSFORMATION\n",
    "    # DÜZENLENDİ!\n",
    "    #UPM = param_dict[\"projection\"][2]*param_dict[\"projection_chern\"][2]'\n",
    "\n",
    "    #şimdilik ihtiyacım yok\n",
    "    #UPM = param_dict[\"projection\"][2]*param_dict[\"projection_chern\"][3]\n",
    "    #UP = get_mb_transform(basis_mb_chern,basis_mb,mb_states_chern,mb_states,UPM)\n",
    "    \n",
    "    return H_mb, P, Pt\n",
    "end"
   ]
  },
  {
   "cell_type": "code",
   "execution_count": null,
   "id": "5cfa6323",
   "metadata": {},
   "outputs": [],
   "source": []
  },
  {
   "cell_type": "code",
   "execution_count": 16,
   "id": "2b91915f",
   "metadata": {},
   "outputs": [
    {
     "data": {
      "text/plain": [
       "get_mb_transform (generic function with 1 method)"
      ]
     },
     "execution_count": 16,
     "metadata": {},
     "output_type": "execute_result"
    }
   ],
   "source": [
    "# ????\n",
    "function get_mb_transform(mb_basis,mb_basisx,mb_states,mb_statesx,P)\n",
    "    state_list, norms = get_state_list(mb_states)\n",
    "    state_listx, normsx = get_state_list(mb_statesx)\n",
    "    UP = Matrix{ComplexF64}(undef, length(state_list), length(state_listx))\n",
    "    for (i_mb, mb_state_list) in enumerate(state_list)\n",
    "        Ni = norms[i_mb]\n",
    "    for (j_mb, mb_state_listx) in enumerate(state_listx)\n",
    "        Nj = normsx[j_mb]\n",
    "        UUij = 0\n",
    "        #for state in permutations(mb_state_list)\n",
    "        for statex in permutations(mb_state_listx)\n",
    "            Uij = 1\n",
    "            for (i1,j1) in zip( mb_state_list, statex)\n",
    "                   Uij *= P.data[i1,j1]\n",
    "                   #println(i1, \" \", j1, \" \", P.data[i1,j1])\n",
    "            end\n",
    "            #println(mb_state_list,\" \", statex)\n",
    "            UUij += Uij\n",
    "        end\n",
    "        #end\n",
    "        UP[i_mb, j_mb] = Ni*Nj*UUij\n",
    "        #println(i_mb, \" \", j_mb, \" : \", UP[i_mb, j_mb], \" \", Ni,\" \", Nj,\" \", mb_state_list,\" \", mb_state_listx)\n",
    "    end\n",
    "    end\n",
    "    return Operator(mb_basis,UP)\n",
    "end"
   ]
  },
  {
   "cell_type": "code",
   "execution_count": 17,
   "id": "4e50f3d6",
   "metadata": {},
   "outputs": [
    {
     "data": {
      "text/plain": [
       "get_state_list (generic function with 1 method)"
      ]
     },
     "execution_count": 17,
     "metadata": {},
     "output_type": "execute_result"
    }
   ],
   "source": [
    "function get_state_list(mbstates)\n",
    "    state_list = []\n",
    "    norms = []\n",
    "    for mb_state in mb_states\n",
    "        state_idx = []\n",
    "        for (iocc, occ) in enumerate(mb_state)\n",
    "            state_idx = vcat(state_idx,repeat([iocc],occ))\n",
    "        end\n",
    "        # println(state_idx)\n",
    "        push!(state_list,state_idx)\n",
    "        N2 = prod( filter(x->x≠0, mb_state) )\n",
    "        push!(norms, 1/sqrt(N2))\n",
    "    end\n",
    "    return state_list, norms\n",
    "end"
   ]
  },
  {
   "cell_type": "code",
   "execution_count": 18,
   "id": "a78e5b99-07de-4745-879d-7522b16160cb",
   "metadata": {},
   "outputs": [
    {
     "data": {
      "text/plain": [
       "get_Int_Part (generic function with 1 method)"
      ]
     },
     "execution_count": 18,
     "metadata": {},
     "output_type": "execute_result"
    }
   ],
   "source": [
    "function get_Int_Part(N, MB_Basis, U)\n",
    "    \n",
    "    IT = SparseOperator(MB_Basis)\n",
    "    for m in 1:N\n",
    "        IT += U/2 * number(MB_Basis, m) * ( number(MB_Basis, m) - identityoperator(MB_Basis) ) \n",
    "    end\n",
    "    \n",
    "    return IT\n",
    "end"
   ]
  },
  {
   "cell_type": "code",
   "execution_count": null,
   "id": "45a7bfab-9071-4e2f-8a8d-406f6cfc3217",
   "metadata": {},
   "outputs": [],
   "source": [
    "function get_Finite_U(param_dict)\n",
    "    H_mb = get_H_mb(param_dict)\n",
    "    H_Int = get_Int_Part(N, basis_mb, param_dict[\"U\"])\n",
    "    H_total =  H_mb + H_Int\n",
    "    return H_total, H_Int\n",
    "end"
   ]
  },
  {
   "cell_type": "code",
   "execution_count": 1,
   "id": "6053fc49-dde8-4c16-b838-7c067f54c842",
   "metadata": {},
   "outputs": [
    {
     "data": {
      "text/plain": [
       "get_Bosonic_MB_Basis_for_cut_off_space (generic function with 1 method)"
      ]
     },
     "execution_count": 1,
     "metadata": {},
     "output_type": "execute_result"
    }
   ],
   "source": [
    "#= function get_Bosonic_MB_Basis_for_cut_off_space(N,PN)\n",
    "   \n",
    "    NBasis = NLevelBasis(N)\n",
    "    NStates = bosonstates(NBasis, PN)\n",
    "    \n",
    "    NBasis_MB = ManyBodyBasis(NBasis, NStates)\n",
    "    \n",
    "    return NBasis_MB, NBasis\n",
    "end =#"
   ]
  },
  {
   "cell_type": "code",
   "execution_count": 22,
   "id": "c685f201-4d0d-4db3-8b11-39de8088aa66",
   "metadata": {},
   "outputs": [
    {
     "data": {
      "text/plain": [
       "get_Hub (generic function with 1 method)"
      ]
     },
     "execution_count": 22,
     "metadata": {},
     "output_type": "execute_result"
    }
   ],
   "source": [
    "function get_Hub(param_dict)\n",
    "    U = param_dict[\"U\"]\n",
    "    proj1, P1, P1t = param_dict[\"projection\"]\n",
    "    P = P1.data\n",
    "    Pt = P1t.data\n",
    "    basis_mb = param_dict[\"basis_mb\"]\n",
    "    @einsum coefficient[k,j] := P[j,i] * P[k,i] * Pt[i,k] * Pt[i,j]\n",
    "\n",
    "    Vint_mb = SparseOperator(basis_mb)\n",
    "\n",
    "    D1_proj = length(proj1)\n",
    "    for k in 1:D1_proj\n",
    "        nk = number(basis_mb, k)\n",
    "        for j in 1:D1_proj\n",
    "            nj = number(basis_mb, j)\n",
    "            if k == j\n",
    "                Vint_mb += U/2*coefficient[k,k]*nk*(nk-identityoperator(basis_mb))\n",
    "            else\n",
    "                Vint_mb += U*coefficient[k,j]*nk*nj\n",
    "            end\n",
    "        end\n",
    "    end\n",
    "    return Vint_mb\n",
    "end"
   ]
  },
  {
   "cell_type": "code",
   "execution_count": 24,
   "id": "ed0c2e93-f920-48b1-bbe1-7992f4230380",
   "metadata": {},
   "outputs": [
    {
     "data": {
      "text/plain": [
       "get_Hub_2 (generic function with 1 method)"
      ]
     },
     "execution_count": 24,
     "metadata": {},
     "output_type": "execute_result"
    }
   ],
   "source": [
    "function get_Hub_2(param_dict)\n",
    "    U = param_dict[\"U\"]\n",
    "    proj1, P1, P1t = param_dict[\"projection\"]\n",
    "    P = P1.data\n",
    "    Pt = P1t.data\n",
    "    basis_mb = param_dict[\"basis_mb\"]\n",
    "    @einsum coefficient[k,j] := P[j,i] * P[k,i] * Pt[i,k] * Pt[i,j]\n",
    "    @einsum coefficient2[j] := P[j,i] * Pt[i,j]\n",
    "\n",
    "    Vint_mb = SparseOperator(basis_mb)\n",
    "\n",
    "    D1_proj = length(proj1)\n",
    "    for k in 1:D1_proj\n",
    "        nk = number(basis_mb, k)\n",
    "        for j in 1:D1_proj\n",
    "            nj = number(basis_mb, j)\n",
    "            if k == j\n",
    "                Vint_mb += U/2*(coefficient[k,k]*nk*nk-coefficient2[k]*nk)\n",
    "            else\n",
    "                Vint_mb += U/2*coefficient[k,j]*(2*nk*nj+nj)\n",
    "            end\n",
    "        end\n",
    "    end\n",
    "    return Vint_mb\n",
    "end"
   ]
  },
  {
   "cell_type": "code",
   "execution_count": null,
   "id": "7ef7a6e9-cf3f-4166-9391-d5e93bdce16f",
   "metadata": {},
   "outputs": [],
   "source": [
    "function get_Hub_3(param_dict)\n",
    "    U = param_dict[\"U\"]\n",
    "    proj1, P1, P1t = param_dict[\"projection\"]\n",
    "    P = P1.data\n",
    "    Pt = P1t.data\n",
    "    basis_mb = param_dict[\"basis_mb\"]\n",
    "    @einsum coefficient[k,j] := P[j,i] * P[k,i] * Pt[i,k] * Pt[i,j]\n",
    "    \n",
    "    D1_proj = length(proj1)\n",
    "    \n",
    "    for k in 1:D1_proj\n",
    "        for j in 1:D1_proj\n",
    "            Vint_mb = U/2*many\n",
    "        end\n",
    "    end\n",
    "end"
   ]
  },
  {
   "cell_type": "code",
   "execution_count": 5,
   "id": "bf99cdf6-ece6-4b95-83db-e1e400818a18",
   "metadata": {},
   "outputs": [
    {
     "data": {
      "text/plain": [
       "Hubbard_Interaction (generic function with 1 method)"
      ]
     },
     "execution_count": 5,
     "metadata": {},
     "output_type": "execute_result"
    }
   ],
   "source": [
    "function Hubbard_Interaction(P, Pt, cut_mb_basis, cut_off, U)\n",
    "    \n",
    "    P1 = P.data\n",
    "    P1t = Pt.data\n",
    "\n",
    "    @einsum coefficient[k,l,m,n] := P1[k,i] * P1[l,i] * P1t[i,m] * P1t[i,n]\n",
    "\n",
    "    Vint_mb_cut = SparseOperator(cut_mb_basis)\n",
    "        \n",
    "    for k in 1:cut_off\n",
    "        for l in 1:cut_off\n",
    "            for m in 1:cut_off\n",
    "                for n in 1:cut_off\n",
    "                    a1t = create(cut_mb_basis, k)\n",
    "                    a2t = create(cut_mb_basis, l)\n",
    "                    a2  = destroy(cut_mb_basis, m)      \n",
    "                    a1  = destroy(cut_mb_basis, n)      \n",
    "                    Vint_mb_cut += U/2*coefficient[k,l,m,n]*a1t*a2t*a2*a1\n",
    "                end\n",
    "            end\n",
    "        end\n",
    "    end\n",
    "    \n",
    "    return Vint_mb_cut\n",
    "end"
   ]
  },
  {
   "cell_type": "code",
   "execution_count": null,
   "id": "bce8b1d0-6312-413b-9440-d7758d03abd3",
   "metadata": {},
   "outputs": [],
   "source": [
    "function get_energies(pn, E, UU, basis)\n",
    "    \n",
    "    PN_Energies = Array{Float64}(undef, length(E), 2)\n",
    "    for i in 1:length(E)\n",
    "        PN_Energies[i] = round(expect(number(basis), UU[i])) \n",
    "        PN_Energies[i,2] = E[i] \n",
    "    end\n",
    "    \n",
    "    df = DataFrame(PN_Energies, :auto)\n",
    "    df = filter(row -> (row.x1 == pn),  df)\n",
    "    \n",
    "    return df\n",
    "end"
   ]
  },
  {
   "cell_type": "code",
   "execution_count": null,
   "id": "1da9cebf-2a45-448d-922c-eceeb5d49e17",
   "metadata": {},
   "outputs": [],
   "source": [
    "function proj_MB_Int(param_dict)\n",
    "    \n",
    "    H_kin_sub, PP, PPt = get_H_mb_2(param_dict)\n",
    "    basis_cut_mb, basis_cut_sp = get_Bosonic_MB_Basis_for_cut_off_space(cut_off, param_dict[\"PN_int\"])\n",
    "    H_Int = Hubbard_Interaction(PP, PPt, basis_cut_mb, cut_off, param_dict[\"U\"])\n",
    "    \n",
    "    H_Kin = SparseOperator(basis_cut_mb)\n",
    "    H_Kin.data = H_kin_sub.data\n",
    "    \n",
    "    H_Total_Int = H_Kin + H_Int\n",
    "    return H_Total_Int, basis_cut_mb\n",
    "end"
   ]
  }
 ],
 "metadata": {
  "kernelspec": {
   "display_name": "Julia 1.8.5",
   "language": "julia",
   "name": "julia-1.8"
  },
  "language_info": {
   "file_extension": ".jl",
   "mimetype": "application/julia",
   "name": "julia",
   "version": "1.8.5"
  }
 },
 "nbformat": 4,
 "nbformat_minor": 5
}
