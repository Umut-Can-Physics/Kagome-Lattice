{
 "cells": [
  {
   "cell_type": "code",
   "execution_count": 1,
   "metadata": {},
   "outputs": [],
   "source": [
    "using QuantumOptics"
   ]
  },
  {
   "cell_type": "code",
   "execution_count": 2,
   "metadata": {},
   "outputs": [
    {
     "data": {
      "text/plain": [
       "get_sp_op"
      ]
     },
     "execution_count": 2,
     "metadata": {},
     "output_type": "execute_result"
    }
   ],
   "source": [
    "\"\"\"\n",
    "Compute the single-particle operator from single-particle matrix.\n",
    "\n",
    "#### Arguments\n",
    "- `sp_basis::NLevelBasis`: Single-Particle basis.\n",
    "- `sp_matrix::Matrix`: Hopping phases matrix from any model.\n",
    "\"\"\"\n",
    "function get_sp_op(sp_basis, sp_matrix)\n",
    "    \n",
    "    H = SparseOperator(sp_basis)\n",
    "\n",
    "    N, = size(sp_matrix)\n",
    "    \n",
    "    for m in 1:N\n",
    "        for n in 1:N\n",
    "            H += sp_matrix[m,n] * transition(sp_basis, m, n)\n",
    "        end\n",
    "    end\n",
    "    \n",
    "    return H\n",
    "end"
   ]
  },
  {
   "cell_type": "code",
   "execution_count": 3,
   "metadata": {},
   "outputs": [
    {
     "data": {
      "text/plain": [
       "get_subset_states"
      ]
     },
     "execution_count": 3,
     "metadata": {},
     "output_type": "execute_result"
    }
   ],
   "source": [
    "\"\"\"\n",
    "Compute the first eigen-states in a given number.\n",
    "\n",
    "#### Arguments\n",
    "- `sp_op::get_sp_op`: Single-particle operator.\n",
    "- `cut_off::Int`: Limit value of eigen-state index.\n",
    "\"\"\"\n",
    "function get_subset_states(sp_op, sub_range)\n",
    "    \n",
    "    E0, states0 = eigenstates(dense(sp_op))\n",
    "    states = states0[sub_range]\n",
    "    \n",
    "    return states\n",
    "end"
   ]
  },
  {
   "cell_type": "code",
   "execution_count": 14,
   "metadata": {},
   "outputs": [
    {
     "data": {
      "text/plain": [
       "get_projector_op"
      ]
     },
     "execution_count": 14,
     "metadata": {},
     "output_type": "execute_result"
    }
   ],
   "source": [
    "\"\"\"\n",
    "Compute sub-space basis, projection and comlex conjugate of projection operator.\n",
    "\n",
    "#### Arguments\n",
    "- `states::get_sub_states`: Eigen-states of the sub-space.\n",
    "- `basis::NLevelBasis`: Single-particle basis.\n",
    "\"\"\"\n",
    "function get_projector_op(basis, proj_basis)\n",
    "    \n",
    "    subspace_proj = SubspaceBasis(basis, proj_basis)\n",
    "    P = projector(subspace_proj, basis)\n",
    "    Pt = dagger(P)\n",
    "    \n",
    "    return subspace_proj, P, Pt\n",
    "end"
   ]
  },
  {
   "cell_type": "code",
   "execution_count": 5,
   "metadata": {},
   "outputs": [
    {
     "data": {
      "text/plain": [
       "get_subspace_op"
      ]
     },
     "execution_count": 5,
     "metadata": {},
     "output_type": "execute_result"
    }
   ],
   "source": [
    "\"\"\"\n",
    "Compute the corresponding operator in the sub-space.\n",
    "\n",
    "#### Arguments\n",
    "- `sp_op::Operator`: Single-particle operator from single-particle matrix.\n",
    "- `P::get_projector_op[2]`: Projection operator.\n",
    "- `Pt::get_projector_op[3]`: Complex conjugate of projection operator.\n",
    "\"\"\"\n",
    "function get_subspace_op(sp_op, P, Pt)\n",
    "    return P*sp_op*Pt\n",
    "end"
   ]
  },
  {
   "cell_type": "code",
   "execution_count": 11,
   "metadata": {},
   "outputs": [
    {
     "data": {
      "text/plain": [
       "get_mb_op"
      ]
     },
     "execution_count": 11,
     "metadata": {},
     "output_type": "execute_result"
    }
   ],
   "source": [
    "\"\"\"\n",
    "Compute the many-body operator for boson particles from single-particle operator.\n",
    "\n",
    "#### Arguments\n",
    "- `mb_basis`: Many-body basis.\n",
    "- `sp_op::Operator`: Single-particle operator.\n",
    "\"\"\"\n",
    "function get_mb_op(mb_basis, sp_op)\n",
    "    \n",
    "    mb_op = SparseOperator(mb_basis)\n",
    "\n",
    "    N = size(sp_op)[1]\n",
    "    \n",
    "    for i in 1:N\n",
    "        for j in 1:N\n",
    "            mb_op += sp_op.data[i,j] * transition(mb_basis, i, j)\n",
    "        end\n",
    "    end\n",
    "    \n",
    "    return mb_op\n",
    "end"
   ]
  },
  {
   "cell_type": "code",
   "execution_count": 12,
   "metadata": {},
   "outputs": [
    {
     "data": {
      "text/plain": [
       "get_H_mb (generic function with 1 method)"
      ]
     },
     "execution_count": 12,
     "metadata": {},
     "output_type": "execute_result"
    }
   ],
   "source": [
    "function get_H_mb(param_dict)\n",
    "    H1_m = param_dict[\"model_H1\"](param_dict)    \n",
    "    H1 = get_sp_op(param_dict[\"basis\"], H1_m)\n",
    "    if \"sub_range\" in keys(param_dict)\n",
    "        #sub_states = get_subset_states(H1, param_dict[\"sub_range\"]);\n",
    "        #subspace_proj, P, Pt = get_projector_op(param_dict[\"basis\"], sub_states)\n",
    "        #param_dict[\"subspace_proj\"] = subspace_proj\n",
    "        subspace_proj, P, Pt = param_dict[\"projection\"]\n",
    "        H1_proj = get_subspace_op(H1, P, Pt)\n",
    "        #basis_mb = get_basis_mb(param_dict)\n",
    "        H_mb = get_mb_op(param_dict[\"basis_mb\"], H1_proj)\n",
    "        H_mb = (H_mb'+H_mb)/2\n",
    "    else\n",
    "        basis_mb = get_basis_mb(param_dict)\n",
    "        H_mb = get_mb_op(param_dict[\"basis_mb\"], H1)\n",
    "    end\n",
    "    return H_mb\n",
    "end"
   ]
  },
  {
   "cell_type": "code",
   "execution_count": 13,
   "metadata": {},
   "outputs": [
    {
     "data": {
      "text/plain": [
       "get_basis_mb (generic function with 1 method)"
      ]
     },
     "execution_count": 13,
     "metadata": {},
     "output_type": "execute_result"
    }
   ],
   "source": [
    "function get_basis_mb(param_dict)\n",
    "    if \"sub_range\" in keys(param_dict)\n",
    "        states = bosonstates(param_dict[\"projection\"][1], param_dict[\"PN\"])\n",
    "        basis_mb = ManyBodyBasis(param_dict[\"projection\"][1]yrange, states)\n",
    "        param_dict[\"basis_mb\"] = basis_mb\n",
    "    else\n",
    "        states = bosonstates(param_dict[\"basis\"], param_dict[\"PN\"])\n",
    "        basis_mb = ManyBodyBasis(param_dict[\"basis\"], states)\n",
    "        param_dict[\"basis_mb\"] = basis_mb\n",
    "    end\n",
    "    return basis_mb\n",
    "end"
   ]
  },
  {
   "cell_type": "code",
   "execution_count": null,
   "metadata": {},
   "outputs": [],
   "source": []
  }
 ],
 "metadata": {
  "kernelspec": {
   "display_name": "Julia 1.8.5",
   "language": "julia",
   "name": "julia-1.8"
  },
  "language_info": {
   "file_extension": ".jl",
   "mimetype": "application/julia",
   "name": "julia",
   "version": "1.8.5"
  }
 },
 "nbformat": 4,
 "nbformat_minor": 5
}
