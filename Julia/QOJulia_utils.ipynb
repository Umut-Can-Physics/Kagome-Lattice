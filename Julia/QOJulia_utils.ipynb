{
 "cells": [
  {
   "cell_type": "code",
   "execution_count": 1,
   "metadata": {},
   "outputs": [],
   "source": [
    "using QuantumOptics\n",
    "using Combinatorics"
   ]
  },
  {
   "cell_type": "code",
   "execution_count": 2,
   "metadata": {},
   "outputs": [
    {
     "data": {
      "text/plain": [
       "get_sp_op"
      ]
     },
     "execution_count": 2,
     "metadata": {},
     "output_type": "execute_result"
    }
   ],
   "source": [
    "\"\"\"\n",
    "Compute the single-particle operator from single-particle matrix.\n",
    "\n",
    "#### Arguments\n",
    "- `sp_basis::NLevelBasis`: Single-Particle basis.\n",
    "- `sp_matrix::Matrix`: Hopping phases matrix from any model.\n",
    "\"\"\"\n",
    "function get_sp_op(sp_basis, sp_matrix)\n",
    "    \n",
    "    H = SparseOperator(sp_basis)\n",
    "\n",
    "    N, = size(sp_matrix)\n",
    "    \n",
    "    for m in 1:N\n",
    "        for n in 1:N\n",
    "            H += sp_matrix[m,n] * transition(sp_basis, m, n)\n",
    "        end\n",
    "    end\n",
    "    \n",
    "    return H\n",
    "end"
   ]
  },
  {
   "cell_type": "code",
   "execution_count": 3,
   "metadata": {},
   "outputs": [
    {
     "data": {
      "text/plain": [
       "get_subset_states"
      ]
     },
     "execution_count": 3,
     "metadata": {},
     "output_type": "execute_result"
    }
   ],
   "source": [
    "\"\"\"\n",
    "Compute the first eigen-states in a given number.\n",
    "\n",
    "#### Arguments\n",
    "- `sp_op::get_sp_op`: Single-particle operator.\n",
    "- `cut_off::Int`: Limit value of eigen-state index.\n",
    "\"\"\"\n",
    "function get_subset_states(sp_op, sub_range)\n",
    "    \n",
    "    E0, states0 = eigenstates(dense(sp_op))\n",
    "    states = states0[sub_range]\n",
    "    \n",
    "    return states\n",
    "end"
   ]
  },
  {
   "cell_type": "code",
   "execution_count": 14,
   "metadata": {},
   "outputs": [
    {
     "data": {
      "text/plain": [
       "get_projector_op"
      ]
     },
     "execution_count": 14,
     "metadata": {},
     "output_type": "execute_result"
    }
   ],
   "source": [
    "\"\"\"\n",
    "Compute sub-space basis, projection and comlex conjugate of projection operator.\n",
    "\n",
    "#### Arguments\n",
    "- `states::get_sub_states`: Eigen-states of the sub-space.\n",
    "- `basis::NLevelBasis`: Single-particle basis.\n",
    "\"\"\"\n",
    "function get_projector_op(basis, proj_basis)\n",
    "    \n",
    "    subspace_proj = SubspaceBasis(basis, proj_basis)\n",
    "    P = projector(subspace_proj, basis)\n",
    "    Pt = dagger(P)\n",
    "    \n",
    "    return subspace_proj, P, Pt\n",
    "end"
   ]
  },
  {
   "cell_type": "code",
   "execution_count": 5,
   "metadata": {},
   "outputs": [
    {
     "data": {
      "text/plain": [
       "get_subspace_op"
      ]
     },
     "execution_count": 5,
     "metadata": {},
     "output_type": "execute_result"
    }
   ],
   "source": [
    "\"\"\"\n",
    "Compute the corresponding operator in the sub-space.\n",
    "\n",
    "#### Arguments\n",
    "- `sp_op::Operator`: Single-particle operator from single-particle matrix.\n",
    "- `P::get_projector_op[2]`: Projection operator.\n",
    "- `Pt::get_projector_op[3]`: Complex conjugate of projection operator.\n",
    "\"\"\"\n",
    "function get_subspace_op(sp_op, P, Pt)\n",
    "    return P*sp_op*Pt\n",
    "end"
   ]
  },
  {
   "cell_type": "code",
   "execution_count": 11,
   "metadata": {},
   "outputs": [
    {
     "data": {
      "text/plain": [
       "get_mb_op"
      ]
     },
     "execution_count": 11,
     "metadata": {},
     "output_type": "execute_result"
    }
   ],
   "source": [
    "\"\"\"\n",
    "Compute the many-body operator for boson particles from single-particle operator.\n",
    "\n",
    "#### Arguments\n",
    "- `mb_basis`: Many-body basis.\n",
    "- `sp_op::Operator`: Single-particle operator.\n",
    "\"\"\"\n",
    "function get_mb_op(mb_basis, sp_op)\n",
    "    \n",
    "    mb_op = SparseOperator(mb_basis)\n",
    "\n",
    "    N = size(sp_op)[1]\n",
    "    \n",
    "    for i in 1:N\n",
    "        for j in 1:N\n",
    "            mb_op += sp_op.data[i,j] * transition(mb_basis, i, j)\n",
    "        end\n",
    "    end\n",
    "    \n",
    "    return mb_op\n",
    "end"
   ]
  },
  {
   "cell_type": "code",
   "execution_count": 12,
   "metadata": {},
   "outputs": [
    {
     "data": {
      "text/plain": [
       "get_H_mb (generic function with 1 method)"
      ]
     },
     "execution_count": 12,
     "metadata": {},
     "output_type": "execute_result"
    }
   ],
   "source": [
    "function get_H_mb(param_dict)\n",
    "    H1_m = param_dict[\"model_H1\"](param_dict)    \n",
    "    H1 = get_sp_op(param_dict[\"basis\"], H1_m)\n",
    "    if \"sub_range\" in keys(param_dict)\n",
    "        #sub_states = get_subset_states(H1, param_dict[\"sub_range\"]);\n",
    "        #subspace_proj, P, Pt = get_projector_op(param_dict[\"basis\"], sub_states)\n",
    "        #param_dict[\"subspace_proj\"] = subspace_proj\n",
    "        subspace_proj, P, Pt = param_dict[\"projection\"]\n",
    "        H1_proj = get_subspace_op(H1, P, Pt)\n",
    "        #basis_mb = get_basis_mb(param_dict)\n",
    "        H_mb = get_mb_op(param_dict[\"basis_mb\"], H1_proj)\n",
    "        H_mb = (H_mb'+H_mb)/2\n",
    "    else\n",
    "        basis_mb = get_basis_mb(param_dict)\n",
    "        H_mb = get_mb_op(param_dict[\"basis_mb\"], H1)\n",
    "    end\n",
    "    return H_mb\n",
    "end"
   ]
  },
  {
   "cell_type": "code",
   "execution_count": 13,
   "metadata": {},
   "outputs": [
    {
     "data": {
      "text/plain": [
       "get_basis_mb (generic function with 1 method)"
      ]
     },
     "execution_count": 13,
     "metadata": {},
     "output_type": "execute_result"
    }
   ],
   "source": [
    "function get_basis_mb(param_dict)\n",
    "    if \"sub_range\" in keys(param_dict)\n",
    "        states = bosonstates(param_dict[\"projection\"][1], param_dict[\"PN\"])\n",
    "        basis_mb = ManyBodyBasis(param_dict[\"projection\"][1], states)\n",
    "        param_dict[\"basis_mb\"] = basis_mb\n",
    "    else\n",
    "        states = bosonstates(param_dict[\"basis\"], param_dict[\"PN\"])\n",
    "        basis_mb = ManyBodyBasis(param_dict[\"basis\"], states)\n",
    "        param_dict[\"basis_mb\"] = basis_mb\n",
    "    end\n",
    "    return basis_mb\n",
    "end"
   ]
  },
  {
   "cell_type": "code",
   "execution_count": 1,
   "metadata": {},
   "outputs": [
    {
     "data": {
      "text/plain": [
       "get_H_mb_2 (generic function with 1 method)"
      ]
     },
     "execution_count": 1,
     "metadata": {},
     "output_type": "execute_result"
    }
   ],
   "source": [
    "function get_H_mb_2(param_dict)\n",
    "    H1_m = param_dict[\"model_H1\"](param_dict)    \n",
    "    H1 = get_sp_op(param_dict[\"basis\"], H1_m)\n",
    "    sub_states = get_subset_states(H1, param_dict[\"sub_range\"]);\n",
    "    subspace_proj, P, Pt = get_projector_op(param_dict[\"basis\"], sub_states)\n",
    "    param_dict[\"projection\"] = subspace_proj, P, Pt;\n",
    "    H1_proj = get_subspace_op(H1, P, Pt)\n",
    "    basis_mb = get_basis_mb(param_dict)\n",
    "    param_dict[\"basis_mb\"] = basis_mb\n",
    "    H_mb = get_mb_op(param_dict[\"basis_mb\"], H1_proj)\n",
    "    H_mb = (H_mb'+H_mb)/2\n",
    "    \n",
    "    mb_states_chern = param_dict[\"mb_states_chern\"]\n",
    "    mb_states = bosonstates(subspace_proj, param_dict[\"PN\"])\n",
    "    param_dict[\"mb_states\"] = mb_states;\n",
    "    basis_mb_chern = param_dict[\"basis_mb_chern\"]\n",
    "    UPM = param_dict[\"projection\"][2]*param_dict[\"projection_chern\"][2]'\n",
    "    UP = get_mb_transform(basis_mb_chern,basis_mb,mb_states_chern,mb_states,UPM)\n",
    "    \n",
    "    return H_mb, UP\n",
    "end"
   ]
  },
  {
   "cell_type": "code",
   "execution_count": null,
   "metadata": {},
   "outputs": [],
   "source": []
  },
  {
   "cell_type": "code",
   "execution_count": null,
   "metadata": {},
   "outputs": [],
   "source": [
    "function get_mb_transform(mb_basis,mb_basisx,mb_states,mb_statesx,P)\n",
    "    state_list, norms = get_state_list(mb_states)\n",
    "    state_listx, normsx = get_state_list(mb_statesx)\n",
    "    UP = Matrix{ComplexF64}(undef, length(state_list), length(state_listx))\n",
    "    for (i_mb, mb_state_list) in enumerate(state_list)\n",
    "        Ni = norms[i_mb]\n",
    "    for (j_mb, mb_state_listx) in enumerate(state_listx)\n",
    "        Nj = normsx[j_mb]\n",
    "        UUij = 0\n",
    "        #for state in permutations(mb_state_list)\n",
    "        for statex in permutations(mb_state_listx)\n",
    "            Uij = 1\n",
    "            for (i1,j1) in zip( mb_state_list, statex)\n",
    "                   Uij *= P.data[i1,j1]\n",
    "                   #println(i1, \" \", j1, \" \", P.data[i1,j1])\n",
    "            end\n",
    "            #println(mb_state_list,\" \", statex)\n",
    "            UUij += Uij\n",
    "        end\n",
    "        #end\n",
    "        UP[i_mb, j_mb] = Ni*Nj*UUij\n",
    "        #println(i_mb, \" \", j_mb, \" : \", UP[i_mb, j_mb], \" \", Ni,\" \", Nj,\" \", mb_state_list,\" \", mb_state_listx)\n",
    "    end\n",
    "    end\n",
    "    return Operator(mb_basis,UP)\n",
    "end"
   ]
  },
  {
   "cell_type": "code",
   "execution_count": null,
   "metadata": {},
   "outputs": [],
   "source": [
    "function get_state_list(mbstates)\n",
    "    state_list = []\n",
    "    norms = []\n",
    "    for mb_state in mb_states\n",
    "        state_idx = []\n",
    "        for (iocc, occ) in enumerate(mb_state)\n",
    "            state_idx = vcat(state_idx,repeat([iocc],occ))\n",
    "        end\n",
    "        # println(state_idx)\n",
    "        push!(state_list,state_idx)\n",
    "        N2 = prod( filter(x->x≠0, mb_state) )\n",
    "        push!(norms, 1/sqrt(N2))\n",
    "    end\n",
    "    return state_list, norms\n",
    "end"
   ]
  }
 ],
 "metadata": {
  "kernelspec": {
   "display_name": "Julia 1.8.5",
   "language": "julia",
   "name": "julia-1.8"
  },
  "language_info": {
   "file_extension": ".jl",
   "mimetype": "application/julia",
   "name": "julia",
   "version": "1.8.5"
  }
 },
 "nbformat": 4,
 "nbformat_minor": 5
}
