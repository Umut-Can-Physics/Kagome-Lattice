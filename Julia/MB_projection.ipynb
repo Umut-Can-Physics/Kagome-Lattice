{
 "cells": [
  {
   "cell_type": "code",
   "execution_count": null,
   "id": "d332aabc-bec7-4f0a-80e9-16573d24fb8b",
   "metadata": {},
   "outputs": [
    {
     "ename": "LoadError",
     "evalue": "ArgumentError: Package DataFrames not found in current path.\n- Run `import Pkg; Pkg.add(\"DataFrames\")` to install the DataFrames package.",
     "output_type": "error",
     "traceback": [
      "ArgumentError: Package DataFrames not found in current path.\n- Run `import Pkg; Pkg.add(\"DataFrames\")` to install the DataFrames package.",
      "",
      "Stacktrace:",
      " [1] macro expansion",
      "   @ ./loading.jl:1163 [inlined]",
      " [2] macro expansion",
      "   @ ./lock.jl:223 [inlined]",
      " [3] require(into::Module, mod::Symbol)",
      "   @ Base ./loading.jl:1144"
     ]
    }
   ],
   "source": [
    "using QuantumOptics\n",
    "using NBInclude\n",
    "using DataFrames\n",
    "using LinearAlgebra\n",
    "# lattice\n",
    "@nbinclude(\"Lattice_Basis_Neighbors_Hops.ipynb\"; regex=r\"#.*executeme\")\n",
    "# mb tools\n",
    "@nbinclude(\"QOJulia_utils.ipynb\")\n",
    "# chern \n",
    "@nbinclude(\"Chern_utils.ipynb\")"
   ]
  },
  {
   "cell_type": "markdown",
   "id": "a11ddf00-898c-493b-8a93-fc8c284874bf",
   "metadata": {},
   "source": [
    "# Parameters"
   ]
  },
  {
   "cell_type": "code",
   "execution_count": null,
   "id": "4f660566-791b-481f-a7e8-f7f3847f3dd1",
   "metadata": {},
   "outputs": [],
   "source": [
    "param_dict=Dict{}()"
   ]
  },
  {
   "cell_type": "code",
   "execution_count": null,
   "id": "a263feea-52fc-48dd-b637-f3c755fb2a3d",
   "metadata": {},
   "outputs": [
    {
     "ename": "LoadError",
     "evalue": "UndefVarError: get_sites not defined\n\nSome of the types have been truncated in the stacktrace for improved reading. To emit complete information\nin the stack trace, evaluate `TruncatedStacktraces.VERBOSE[] = true` and re-run the code.\n",
     "output_type": "error",
     "traceback": [
      "UndefVarError: get_sites not defined\n\nSome of the types have been truncated in the stacktrace for improved reading. To emit complete information\nin the stack trace, evaluate `TruncatedStacktraces.VERBOSE[] = true` and re-run the code.\n",
      "",
      "Stacktrace:",
      " [1] top-level scope",
      "   @ In[3]:23"
     ]
    }
   ],
   "source": [
    "LL = [3,3]\n",
    "N = LL[1]*LL[2]\n",
    "vv_lattice = [ [1., 0], [0, 1.] ]\n",
    "b1=[0, 0]\n",
    "vv_basis = [b1]\n",
    "param_dict[\"N\"] = LL[1]*LL[2]\n",
    "\n",
    "param_dict[\"LL\"] = LL\n",
    "param_dict[\"vv_lattice\"] = vv_lattice\n",
    "param_dict[\"vv_basis\"] = vv_basis\n",
    "\n",
    "nb = 1 # number of basis\n",
    "t=-1 # hopping amplitude\n",
    "p=1\n",
    "q=3\n",
    "ϕ=p/q # magnetic flux per plaquet\n",
    "param_dict[\"gauge\"] = \"Landau\"\n",
    "param_dict[\"t\"]=t\n",
    "param_dict[\"ϕ\"]=ϕ\n",
    "θθ = [0, 0] # initial values for twist angles\n",
    "param_dict[\"θθ\"]=θθ\n",
    "\n",
    "sites, site_coord, site_number = get_sites(LL, vv_lattice, vv_basis);\n",
    "param_dict[\"sites\"] = sites\n",
    "param_dict[\"site_coord\"] = site_coord\n",
    "param_dict[\"site_number\"] = site_number\n",
    "\n",
    "pbc=true # periodic boundary condition\n",
    "param_dict[\"pbc\"] = pbc\n",
    "neighbors = [ [1, 0, 1], [-1, 0, 1], [0, 1, 1], [0, -1, 1]  ]\n",
    "neighbors_list = [ neighbors ]\n",
    "param_dict[\"neighbors_list\"] = neighbors_list\n",
    "\n",
    "U = 0.1\n",
    "param_dict[\"U\"] = U;"
   ]
  },
  {
   "cell_type": "code",
   "execution_count": null,
   "id": "93e8c3f0-6419-4a00-a06f-f231ddc7a415",
   "metadata": {},
   "outputs": [
    {
     "ename": "LoadError",
     "evalue": "UndefVarError: get_Hofstadter_hamiltonian not defined\n\nSome of the types have been truncated in the stacktrace for improved reading. To emit complete information\nin the stack trace, evaluate `TruncatedStacktraces.VERBOSE[] = true` and re-run the code.\n",
     "output_type": "error",
     "traceback": [
      "UndefVarError: get_Hofstadter_hamiltonian not defined\n\nSome of the types have been truncated in the stacktrace for improved reading. To emit complete information\nin the stack trace, evaluate `TruncatedStacktraces.VERBOSE[] = true` and re-run the code.\n",
      "",
      "Stacktrace:",
      " [1] top-level scope",
      "   @ In[4]:5"
     ]
    }
   ],
   "source": [
    "# single ptl\n",
    "basis = NLevelBasis(N) \n",
    "param_dict[\"basis\"] = basis;\n",
    "\n",
    "param_dict[\"model_H1\"] = get_Hofstadter_hamiltonian\n",
    "\n",
    "H_T = get_Hofstadter_hamiltonian(param_dict)\n",
    "H1 = get_sp_op(basis, H_T)\n",
    "\n",
    "E1, U1 = eigenstates(dense(H1));\n",
    "E1"
   ]
  },
  {
   "cell_type": "code",
   "execution_count": 5,
   "id": "f0ee64a8-d298-4f35-836b-ccb44e9e708b",
   "metadata": {},
   "outputs": [
    {
     "ename": "LoadError",
     "evalue": "UndefVarError: get_subset_states not defined\n\nSome of the types have been truncated in the stacktrace for improved reading. To emit complete information\nin the stack trace, evaluate `TruncatedStacktraces.VERBOSE[] = true` and re-run the code.\n",
     "output_type": "error",
     "traceback": [
      "UndefVarError: get_subset_states not defined\n\nSome of the types have been truncated in the stacktrace for improved reading. To emit complete information\nin the stack trace, evaluate `TruncatedStacktraces.VERBOSE[] = true` and re-run the code.\n",
      "",
      "Stacktrace:",
      " [1] top-level scope",
      "   @ In[5]:4"
     ]
    }
   ],
   "source": [
    "# projection\n",
    "param_dict[\"sub_range\"] = 1:9\n",
    "\n",
    "sub_states = get_subset_states(H1, param_dict[\"sub_range\"]);\n",
    "proj1, P1, P1t = get_projector_op(basis, sub_states);\n",
    "H1_proj = get_subspace_op(H1, P1, P1t);\n",
    "H1_proj = (H1_proj+H1_proj')/2\n",
    "param_dict[\"projection\"] = proj1, P1, P1t;\n",
    "#param_dict[\"projection\"] = proj1, identityoperator(basis),identityoperator(basis);"
   ]
  },
  {
   "cell_type": "markdown",
   "id": "574ebdb0-7802-4383-a878-045cb137fd4e",
   "metadata": {},
   "source": [
    "# Projected many body"
   ]
  },
  {
   "cell_type": "code",
   "execution_count": 6,
   "id": "5a0aa602-523a-4e23-ae20-e7424e6c11e1",
   "metadata": {},
   "outputs": [
    {
     "ename": "LoadError",
     "evalue": "UndefVarError: param_dict not defined",
     "output_type": "error",
     "traceback": [
      "UndefVarError: param_dict not defined",
      "",
      "Stacktrace:",
      " [1] top-level scope",
      "   @ In[2]:1"
     ]
    }
   ],
   "source": [
    "param_dict[\"PN\"] = [2];"
   ]
  },
  {
   "cell_type": "code",
   "execution_count": 7,
   "id": "4388cf17-777b-4fe8-af58-9c5b4725b6aa",
   "metadata": {},
   "outputs": [
    {
     "ename": "LoadError",
     "evalue": "UndefVarError: get_basis_mb not defined\n\nSome of the types have been truncated in the stacktrace for improved reading. To emit complete information\nin the stack trace, evaluate `TruncatedStacktraces.VERBOSE[] = true` and re-run the code.\n",
     "output_type": "error",
     "traceback": [
      "UndefVarError: get_basis_mb not defined\n\nSome of the types have been truncated in the stacktrace for improved reading. To emit complete information\nin the stack trace, evaluate `TruncatedStacktraces.VERBOSE[] = true` and re-run the code.\n",
      "",
      "Stacktrace:",
      " [1] top-level scope",
      "   @ In[7]:1"
     ]
    }
   ],
   "source": [
    "basis_mb = get_basis_mb(param_dict)\n",
    "param_dict[\"basis_mb\"] = basis_mb;\n",
    "param_dict[\"dimH_mb\"] = length(basis_mb)"
   ]
  },
  {
   "cell_type": "code",
   "execution_count": 4,
   "id": "58447cbb-f7eb-44d4-9fc3-db183a239a75",
   "metadata": {},
   "outputs": [
    {
     "ename": "LoadError",
     "evalue": "UndefVarError: get_mb_op not defined",
     "output_type": "error",
     "traceback": [
      "UndefVarError: get_mb_op not defined",
      "",
      "Stacktrace:",
      " [1] top-level scope",
      "   @ In[4]:1"
     ]
    }
   ],
   "source": [
    "H_NI_mb = get_mb_op(basis_mb, H1_proj);"
   ]
  },
  {
   "cell_type": "code",
   "execution_count": 5,
   "id": "cc99db5b-1e92-48b4-86cb-91ce069d46ba",
   "metadata": {},
   "outputs": [
    {
     "ename": "LoadError",
     "evalue": "UndefVarError: param_dict not defined",
     "output_type": "error",
     "traceback": [
      "UndefVarError: param_dict not defined",
      "",
      "Stacktrace:",
      " [1] top-level scope",
      "   @ In[5]:1"
     ]
    }
   ],
   "source": [
    "U = param_dict[\"U\"]\n",
    "proj1, P1, P1t = param_dict[\"projection\"]\n",
    "P1 = P1.data\n",
    "P1t = P1t.data\n",
    "basis_mb = param_dict[\"basis_mb\"]"
   ]
  },
  {
   "cell_type": "code",
   "execution_count": 40,
   "id": "38c784f6-b44b-4fb6-b8c1-3271ab47333c",
   "metadata": {},
   "outputs": [],
   "source": [
    "using Einsum\n",
    "@einsum U4[k,l,m,n] := P1[k,i] * P1[l,i] * P1t[i,m] * P1t[i,n];"
   ]
  },
  {
   "cell_type": "code",
   "execution_count": 41,
   "id": "b69144f5-cb52-428b-ad67-d5d274db1264",
   "metadata": {},
   "outputs": [
    {
     "ename": "LoadError",
     "evalue": "type ManyBodyBasis has no field basis_l",
     "output_type": "error",
     "traceback": [
      "type ManyBodyBasis has no field basis_l",
      "",
      "Stacktrace:",
      " [1] setproperty!(x::ManyBodyBasis{Vector{Int64}, SubspaceBasis{Vector{Int64}, NLevelBasis{Int64}, Ket{NLevelBasis{Int64}, Vector{ComplexF64}}, 0xbdbf49a31078da78, UInt64}, 0xb4959d3a903fdfa3, UInt64}, f::Symbol, v::SubspaceBasis{Vector{Int64}, NLevelBasis{Int64}, Ket{NLevelBasis{Int64}, Vector{ComplexF64}}, 0xbdbf49a31078da78, UInt64})",
      "   @ Base .\\Base.jl:39",
      " [2] top-level scope",
      "   @ In[41]:1"
     ]
    }
   ],
   "source": [
    "basis_mb.basis_l = proj1"
   ]
  },
  {
   "cell_type": "code",
   "execution_count": 42,
   "id": "dba97f41-523d-49a9-841d-92f444bdbdf4",
   "metadata": {},
   "outputs": [
    {
     "data": {
      "text/plain": [
       "coefficient (generic function with 1 method)"
      ]
     },
     "execution_count": 42,
     "metadata": {},
     "output_type": "execute_result"
    }
   ],
   "source": [
    "Base.@propagate_inbounds function coefficient(occ_m, occ_n, at_indices, a_indices)\n",
    "    any(==(0), (occ_m[m] for m in at_indices)) && return 0.\n",
    "    any(==(0), (occ_n[n] for n in a_indices)) && return 0.\n",
    "    C = prod(√, (occ_m[m] for m in at_indices)) * prod(√, (occ_n[n] for n in a_indices))\n",
    "    for i in 1:length(occ_m)\n",
    "        vm = occ_m[i]\n",
    "        vn = occ_n[i]\n",
    "        i in at_indices && (vm -= 1)\n",
    "        i in a_indices && (vn -= 1)\n",
    "        vm != vn && return zero(C)\n",
    "    end\n",
    "    return C\n",
    "end"
   ]
  },
  {
   "cell_type": "code",
   "execution_count": 43,
   "id": "bf2c768f-4a38-452d-a89a-999c6b8060c3",
   "metadata": {},
   "outputs": [
    {
     "data": {
      "text/plain": [
       "manybodyoperator_2 (generic function with 1 method)"
      ]
     },
     "execution_count": 43,
     "metadata": {},
     "output_type": "execute_result"
    }
   ],
   "source": [
    "function manybodyoperator_2(basis::ManyBodyBasis, op)\n",
    "    N = length(basis)\n",
    "    S = length(basis.onebodybasis)\n",
    "    # @assert S^2 == length(op.basis_l)\n",
    "    # @assert S^2 == length(op.basis_r)\n",
    "    result = DenseOperator(basis)\n",
    "    # op_data = reshape(op, S, S, S, S)\n",
    "    occupations = basis.occupations\n",
    "    @inbounds for m=1:N, n=1:N\n",
    "        for l=1:S, k=1:S, j=1:S, i=1:S\n",
    "            C = coefficient(occupations[m], occupations[n], (i, j), (k, l))\n",
    "            result.data[m,n] += C*op[i, j, k, l]\n",
    "        end\n",
    "    end\n",
    "    return result\n",
    "end"
   ]
  },
  {
   "cell_type": "code",
   "execution_count": 44,
   "id": "d3f70d5c-9bcc-426c-8534-dddca50263f1",
   "metadata": {},
   "outputs": [],
   "source": [
    "V_int_mb_2 = manybodyoperator_2(basis_mb, U4);"
   ]
  },
  {
   "cell_type": "code",
   "execution_count": null,
   "id": "efe0f3d5-ee79-4ed5-8645-a135862d18d0",
   "metadata": {},
   "outputs": [],
   "source": []
  },
  {
   "cell_type": "code",
   "execution_count": 9,
   "id": "1a6356a0-f5f2-40b9-aea5-77fe2d378665",
   "metadata": {},
   "outputs": [
    {
     "ename": "LoadError",
     "evalue": "ArgumentError: The basis of the given operator has to either be equal to b or b ⊗ b where b is the 1st quantization basis associated to the nparticle basis.",
     "output_type": "error",
     "traceback": [
      "ArgumentError: The basis of the given operator has to either be equal to b or b ⊗ b where b is the 1st quantization basis associated to the nparticle basis.",
      "",
      "Stacktrace:",
      " [1] manybodyoperator(basis::ManyBodyBasis{Vector{Int64}, SubspaceBasis{Vector{Int64}, NLevelBasis{Int64}, Ket{NLevelBasis{Int64}, Vector{ComplexF64}}, 0x39efc535ddc7d2a8, UInt64}, 0x29ce17b8673d41af, UInt64}, op::Operator{ManyBodyBasis{Vector{Int64}, SubspaceBasis{Vector{Int64}, NLevelBasis{Int64}, Ket{NLevelBasis{Int64}, Vector{ComplexF64}}, 0x39efc535ddc7d2a8, UInt64}, 0x29ce17b8673d41af, UInt64}, ManyBodyBasis{Vector{Int64}, SubspaceBasis{Vector{Int64}, NLevelBasis{Int64}, Ket{NLevelBasis{Int64}, Vector{ComplexF64}}, 0x39efc535ddc7d2a8, UInt64}, 0x29ce17b8673d41af, UInt64}, SparseArrays.SparseMatrixCSC{ComplexF64, Int64}})",
      "   @ QuantumOpticsBase C:\\Users\\Can\\.julia\\packages\\QuantumOpticsBase\\PqBOl\\src\\manybody.jl:232",
      " [2] top-level scope",
      "   @ In[9]:3"
     ]
    }
   ],
   "source": [
    "V_int_mb = get_Hub(param_dict)\n",
    "V_int_mb = (V_int_mb+V_int_mb')/2;"
   ]
  },
  {
   "cell_type": "code",
   "execution_count": 45,
   "id": "2addd4cf-a4f5-4bbb-9be9-a8f642be2960",
   "metadata": {},
   "outputs": [
    {
     "data": {
      "text/plain": [
       "Operator(dim=45x45)\n",
       "  basis: ManyBody(onebodybasis=Subspace(superbasis=NLevel(N=9), states:9), states:45)\n",
       "    -4.67662+0.0im         -0.059661-0.0461526im   …         0.0+0.0im\n",
       "   -0.059661+0.0461526im    -4.80513+0.0im                   0.0+0.0im\n",
       "  -0.0641126-0.0818293im  -0.0590447+0.0270451im             0.0+0.0im\n",
       " -0.00413404+0.0369159im    0.079025+0.012987im              0.0+0.0im\n",
       "  -0.0245072-0.0902308im  -0.0102684+0.00435036im            0.0+0.0im\n",
       "    0.059661-0.0461526im  -0.0416667-5.0e-17im     …         0.0+0.0im\n",
       "     2.3e-16+2.0e-17im     0.0795691-1.0e-17im               0.0+0.0im\n",
       "     0.03672-0.0619009im   -0.032775+0.0117393im             0.0+0.0im\n",
       "  -0.0309159+0.0186229im    0.118918+0.143926im       -0.0309159-0.0186229im\n",
       "         0.0+0.0im         -0.059661+0.0461526im             0.0+0.0im\n",
       "         0.0+0.0im         -0.106904-0.0773571im   …         0.0+0.0im\n",
       "         0.0+0.0im        -0.0762432-0.0644885im             0.0+0.0im\n",
       "         0.0+0.0im         0.0949786-0.185357im              0.0+0.0im\n",
       "            ⋮                                      ⋱  \n",
       "         0.0+0.0im          0.052331-0.0191019im             0.0+0.0im\n",
       "         0.0+0.0im        -0.0752524-0.0601321im       0.0720095+0.120449im\n",
       "         0.0+0.0im               0.0+0.0im         …         0.0+0.0im\n",
       "         0.0+0.0im          -3.0e-17-1.0e-16im               0.0+0.0im\n",
       "         0.0+0.0im           5.0e-17+9.0e-17im               0.0+0.0im\n",
       "         0.0+0.0im           2.0e-17-3.0e-17im        -0.0245059+0.0991652im\n",
       "         0.0+0.0im               0.0+0.0im                   0.0+0.0im\n",
       "         0.0+0.0im          0.102311+0.0969947im   …         0.0+0.0im\n",
       "         0.0+0.0im         -0.017164+0.0797057im        -1.4e-16+2.1e-16im\n",
       "         0.0+0.0im               0.0+0.0im                   0.0+0.0im\n",
       "         0.0+0.0im        -0.0422061-0.141527im          7.0e-16+2.9e-16im\n",
       "         0.0+0.0im               0.0+0.0im               4.66667+0.0im"
      ]
     },
     "execution_count": 45,
     "metadata": {},
     "output_type": "execute_result"
    }
   ],
   "source": [
    "H_mb = H_NI_mb + V_int_mb_2;\n",
    "H_mb = (H_mb'+H_mb)/2"
   ]
  },
  {
   "cell_type": "code",
   "execution_count": 46,
   "id": "f53d7d03-84bb-40ac-b3b6-379bb655824c",
   "metadata": {},
   "outputs": [],
   "source": [
    "EE, UU = eigenstates(dense(H_mb));"
   ]
  },
  {
   "cell_type": "code",
   "execution_count": 47,
   "id": "ab9dd6cd-467a-4b7d-a57e-f8d2265b2e16",
   "metadata": {},
   "outputs": [
    {
     "data": {
      "text/plain": [
       "45-element Vector{Float64}:\n",
       " -5.054811414238365\n",
       " -4.922258372106864\n",
       " -4.762617623167232\n",
       " -4.648220715332506\n",
       " -4.636587991712217\n",
       " -4.559035023929745\n",
       " -1.5383739317009386\n",
       " -1.4467467481735872\n",
       " -1.4254623188198758\n",
       " -1.4106582232449938\n",
       " -1.3305774301104387\n",
       " -1.3049913354484097\n",
       " -1.2591914063909062\n",
       "  ⋮\n",
       "  3.5920381722607457\n",
       "  3.700600626140661\n",
       "  3.8268578014385013\n",
       "  3.9702381768409483\n",
       "  3.974805203786205\n",
       "  4.002413258701591\n",
       "  4.709189433471977\n",
       "  4.728151846404004\n",
       "  4.77950561123288\n",
       "  4.8585517061837065\n",
       "  4.883355609490756\n",
       "  5.027900828705339"
      ]
     },
     "execution_count": 47,
     "metadata": {},
     "output_type": "execute_result"
    }
   ],
   "source": [
    "EE"
   ]
  },
  {
   "cell_type": "code",
   "execution_count": null,
   "id": "7e45e997-cd06-4889-8320-cf3300817106",
   "metadata": {},
   "outputs": [],
   "source": []
  },
  {
   "cell_type": "code",
   "execution_count": 364,
   "id": "93e1808a-c1be-4d6e-9b9b-405f147b6343",
   "metadata": {},
   "outputs": [],
   "source": [
    "V_int_mb_2 = get_Hub_2(param_dict)\n",
    "V_int_mb_2 = (V_int_mb_2+V_int_mb_2')/2;"
   ]
  },
  {
   "cell_type": "code",
   "execution_count": 368,
   "id": "ed1f14cd-396a-4fed-98df-bf20ab670a00",
   "metadata": {},
   "outputs": [],
   "source": [
    "H_mb = H_NI_mb + V_int_mb_2;"
   ]
  },
  {
   "cell_type": "code",
   "execution_count": 369,
   "id": "b122532f-d568-4c20-bf66-f43bf3e67c94",
   "metadata": {},
   "outputs": [],
   "source": [
    "EE, UU = eigenstates(dense(H_mb));"
   ]
  },
  {
   "cell_type": "code",
   "execution_count": 370,
   "id": "4104e2cd-de79-4020-bd3a-432afb85a357",
   "metadata": {},
   "outputs": [
    {
     "data": {
      "text/plain": [
       "6-element Vector{Float64}:\n",
       " -5.518456494918703\n",
       " -5.518080068690142\n",
       " -5.516163693965257\n",
       " -5.511081348947812\n",
       " -5.510893135833533\n",
       " -5.509934948471088"
      ]
     },
     "execution_count": 370,
     "metadata": {},
     "output_type": "execute_result"
    }
   ],
   "source": [
    "EE"
   ]
  },
  {
   "cell_type": "code",
   "execution_count": null,
   "id": "19fe3ff0-0605-4edb-b868-b92dc7359cf4",
   "metadata": {},
   "outputs": [],
   "source": []
  }
 ],
 "metadata": {
  "kernelspec": {
   "display_name": "Julia 1.8.1",
   "language": "julia",
   "name": "julia-1.8"
  },
  "language_info": {
   "file_extension": ".jl",
   "mimetype": "application/julia",
   "name": "julia",
   "version": "1.8.1"
  }
 },
 "nbformat": 4,
 "nbformat_minor": 5
}
