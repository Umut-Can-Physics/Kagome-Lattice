{
 "cells": [
  {
   "cell_type": "code",
   "execution_count": 352,
   "id": "d332aabc-bec7-4f0a-80e9-16573d24fb8b",
   "metadata": {},
   "outputs": [
    {
     "data": {
      "text/plain": [
       "calc_all_states_H_mb_2 (generic function with 1 method)"
      ]
     },
     "execution_count": 352,
     "metadata": {},
     "output_type": "execute_result"
    }
   ],
   "source": [
    "using QuantumOptics\n",
    "using NBInclude\n",
    "using DataFrames\n",
    "using LinearAlgebra\n",
    "# lattice\n",
    "@nbinclude(\"Lattice_Basis_Neighbors_Hops.ipynb\"; regex=r\"#.*executeme\")\n",
    "# mb tools\n",
    "@nbinclude(\"QOJulia_utils.ipynb\")\n",
    "# chern \n",
    "@nbinclude(\"Chern_utils.ipynb\")"
   ]
  },
  {
   "cell_type": "markdown",
   "id": "a11ddf00-898c-493b-8a93-fc8c284874bf",
   "metadata": {},
   "source": [
    "# Parameters"
   ]
  },
  {
   "cell_type": "code",
   "execution_count": 353,
   "id": "4f660566-791b-481f-a7e8-f7f3847f3dd1",
   "metadata": {},
   "outputs": [
    {
     "data": {
      "text/plain": [
       "Dict{Any, Any}()"
      ]
     },
     "execution_count": 353,
     "metadata": {},
     "output_type": "execute_result"
    }
   ],
   "source": [
    "param_dict=Dict{}()"
   ]
  },
  {
   "cell_type": "code",
   "execution_count": 354,
   "id": "a263feea-52fc-48dd-b637-f3c755fb2a3d",
   "metadata": {},
   "outputs": [],
   "source": [
    "LL = [3,3]\n",
    "N = LL[1]*LL[2]\n",
    "vv_lattice = [ [1., 0], [0, 1.] ]\n",
    "b1=[0, 0]\n",
    "vv_basis = [b1]\n",
    "param_dict[\"N\"] = LL[1]*LL[2]\n",
    "\n",
    "param_dict[\"LL\"] = LL\n",
    "param_dict[\"vv_lattice\"] = vv_lattice\n",
    "param_dict[\"vv_basis\"] = vv_basis\n",
    "\n",
    "nb = 1 # number of basis\n",
    "t=-1 # hopping amplitude\n",
    "p=1\n",
    "q=3\n",
    "ϕ=p/q # magnetic flux per plaquet\n",
    "param_dict[\"gauge\"] = \"Landau\"\n",
    "param_dict[\"t\"]=t\n",
    "param_dict[\"ϕ\"]=ϕ\n",
    "θθ = [0, 0] # initial values for twist angles\n",
    "param_dict[\"θθ\"]=θθ\n",
    "\n",
    "sites, site_coord, site_number = get_sites(LL, vv_lattice, vv_basis);\n",
    "param_dict[\"sites\"] = sites\n",
    "param_dict[\"site_coord\"] = site_coord\n",
    "param_dict[\"site_number\"] = site_number\n",
    "\n",
    "pbc=true # periodic boundary condition\n",
    "param_dict[\"pbc\"] = pbc\n",
    "neighbors = [ [1, 0, 1], [-1, 0, 1], [0, 1, 1], [0, -1, 1]  ]\n",
    "neighbors_list = [ neighbors ]\n",
    "param_dict[\"neighbors_list\"] = neighbors_list\n",
    "\n",
    "U = 0.1\n",
    "param_dict[\"U\"] = U;"
   ]
  },
  {
   "cell_type": "code",
   "execution_count": 355,
   "id": "93e8c3f0-6419-4a00-a06f-f231ddc7a415",
   "metadata": {},
   "outputs": [
    {
     "data": {
      "text/plain": [
       "9-element Vector{Float64}:\n",
       " -2.7320508075688807\n",
       " -2.732050807568872\n",
       " -2.7320508075688674\n",
       "  0.7320508075688769\n",
       "  0.7320508075688779\n",
       "  0.7320508075688779\n",
       "  1.9999999999999998\n",
       "  2.0000000000000004\n",
       "  2.0000000000000013"
      ]
     },
     "execution_count": 355,
     "metadata": {},
     "output_type": "execute_result"
    }
   ],
   "source": [
    "# single ptl\n",
    "basis = NLevelBasis(N) \n",
    "param_dict[\"basis\"] = basis;\n",
    "\n",
    "param_dict[\"model_H1\"] = get_Hofstadter_hamiltonian\n",
    "\n",
    "H_T = get_Hofstadter_hamiltonian(param_dict)\n",
    "H1 = get_sp_op(basis, H_T)\n",
    "\n",
    "E1, U1 = eigenstates(dense(H1));\n",
    "E1"
   ]
  },
  {
   "cell_type": "code",
   "execution_count": 356,
   "id": "f0ee64a8-d298-4f35-836b-ccb44e9e708b",
   "metadata": {},
   "outputs": [],
   "source": [
    "# projection\n",
    "param_dict[\"sub_range\"] = 1:3\n",
    "\n",
    "sub_states = get_subset_states(H1, param_dict[\"sub_range\"]);\n",
    "proj1, P1, P1t = get_projector_op(basis, sub_states);\n",
    "H1_proj = get_subspace_op(H1, P1, P1t);\n",
    "H1_proj = (H1_proj+H1_proj')/2\n",
    "param_dict[\"projection\"] = proj1, P1, P1t;\n",
    "#param_dict[\"projection\"] = proj1, identityoperator(basis),identityoperator(basis);"
   ]
  },
  {
   "cell_type": "markdown",
   "id": "574ebdb0-7802-4383-a878-045cb137fd4e",
   "metadata": {},
   "source": [
    "# Projected many body"
   ]
  },
  {
   "cell_type": "code",
   "execution_count": 357,
   "id": "5a0aa602-523a-4e23-ae20-e7424e6c11e1",
   "metadata": {},
   "outputs": [],
   "source": [
    "param_dict[\"PN\"] = [2];"
   ]
  },
  {
   "cell_type": "code",
   "execution_count": 358,
   "id": "4388cf17-777b-4fe8-af58-9c5b4725b6aa",
   "metadata": {},
   "outputs": [
    {
     "data": {
      "text/plain": [
       "6"
      ]
     },
     "execution_count": 358,
     "metadata": {},
     "output_type": "execute_result"
    }
   ],
   "source": [
    "basis_mb = get_basis_mb(param_dict)\n",
    "param_dict[\"basis_mb\"] = basis_mb;\n",
    "param_dict[\"dimH_mb\"] = length(basis_mb)"
   ]
  },
  {
   "cell_type": "code",
   "execution_count": 359,
   "id": "031829cd-5c7d-47ee-858b-789381c63c91",
   "metadata": {},
   "outputs": [],
   "source": [
    "H_NI_mb = get_mb_op(basis_mb, H1_proj);"
   ]
  },
  {
   "cell_type": "code",
   "execution_count": 360,
   "id": "1a6356a0-f5f2-40b9-aea5-77fe2d378665",
   "metadata": {},
   "outputs": [],
   "source": [
    "V_int_mb = get_Hub(param_dict)\n",
    "V_int_mb = (V_int_mb+V_int_mb')/2;"
   ]
  },
  {
   "cell_type": "code",
   "execution_count": 361,
   "id": "2addd4cf-a4f5-4bbb-9be9-a8f642be2960",
   "metadata": {},
   "outputs": [],
   "source": [
    "H_mb = H_NI_mb + V_int_mb;"
   ]
  },
  {
   "cell_type": "code",
   "execution_count": 362,
   "id": "f53d7d03-84bb-40ac-b3b6-379bb655824c",
   "metadata": {},
   "outputs": [],
   "source": [
    "EE, UU = eigenstates(dense(H_mb));"
   ]
  },
  {
   "cell_type": "code",
   "execution_count": 363,
   "id": "ab9dd6cd-467a-4b7d-a57e-f8d2265b2e16",
   "metadata": {},
   "outputs": [
    {
     "data": {
      "text/plain": [
       "6-element Vector{Float64}:\n",
       " -5.45178982825204\n",
       " -5.4514134020234755\n",
       " -5.449497027298591\n",
       " -5.444414682281147\n",
       " -5.444226469166866\n",
       " -5.443268281804426"
      ]
     },
     "execution_count": 363,
     "metadata": {},
     "output_type": "execute_result"
    }
   ],
   "source": [
    "EE"
   ]
  },
  {
   "cell_type": "code",
   "execution_count": null,
   "id": "7e45e997-cd06-4889-8320-cf3300817106",
   "metadata": {},
   "outputs": [],
   "source": []
  },
  {
   "cell_type": "code",
   "execution_count": 364,
   "id": "93e1808a-c1be-4d6e-9b9b-405f147b6343",
   "metadata": {},
   "outputs": [],
   "source": [
    "V_int_mb_2 = get_Hub_2(param_dict)\n",
    "V_int_mb_2 = (V_int_mb_2+V_int_mb_2')/2;"
   ]
  },
  {
   "cell_type": "code",
   "execution_count": 368,
   "id": "ed1f14cd-396a-4fed-98df-bf20ab670a00",
   "metadata": {},
   "outputs": [],
   "source": [
    "H_mb = H_NI_mb + V_int_mb_2;"
   ]
  },
  {
   "cell_type": "code",
   "execution_count": 369,
   "id": "b122532f-d568-4c20-bf66-f43bf3e67c94",
   "metadata": {},
   "outputs": [],
   "source": [
    "EE, UU = eigenstates(dense(H_mb));"
   ]
  },
  {
   "cell_type": "code",
   "execution_count": 370,
   "id": "4104e2cd-de79-4020-bd3a-432afb85a357",
   "metadata": {},
   "outputs": [
    {
     "data": {
      "text/plain": [
       "6-element Vector{Float64}:\n",
       " -5.518456494918703\n",
       " -5.518080068690142\n",
       " -5.516163693965257\n",
       " -5.511081348947812\n",
       " -5.510893135833533\n",
       " -5.509934948471088"
      ]
     },
     "execution_count": 370,
     "metadata": {},
     "output_type": "execute_result"
    }
   ],
   "source": [
    "EE"
   ]
  },
  {
   "cell_type": "code",
   "execution_count": null,
   "id": "19fe3ff0-0605-4edb-b868-b92dc7359cf4",
   "metadata": {},
   "outputs": [],
   "source": []
  }
 ],
 "metadata": {
  "kernelspec": {
   "display_name": "Julia 1.8.1",
   "language": "julia",
   "name": "julia-1.8"
  },
  "language_info": {
   "file_extension": ".jl",
   "mimetype": "application/julia",
   "name": "julia",
   "version": "1.8.1"
  }
 },
 "nbformat": 4,
 "nbformat_minor": 5
}
