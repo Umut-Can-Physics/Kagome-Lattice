{
 "cells": [
  {
   "cell_type": "code",
   "execution_count": 579,
   "id": "1120e90f-3820-458d-8d82-c0880df5bb48",
   "metadata": {},
   "outputs": [],
   "source": [
    "using QuantumOptics"
   ]
  },
  {
   "cell_type": "code",
   "execution_count": 611,
   "id": "c245623f-7986-4013-a43e-f46af441789d",
   "metadata": {},
   "outputs": [
    {
     "data": {
      "text/plain": [
       "Operator(dim=2x2)\n",
       "  basis: Spin(1/2)sparse([1, 2], [1, 2], ComplexF64[1.0 + 0.0im, -1.0 + 0.0im], 2, 2)"
      ]
     },
     "execution_count": 611,
     "metadata": {},
     "output_type": "execute_result"
    }
   ],
   "source": [
    "b = SpinBasis(1//2)\n",
    "sx = sigmax(b)\n",
    "sy = sigmay(b)\n",
    "sz = sigmaz(b)"
   ]
  },
  {
   "cell_type": "code",
   "execution_count": 627,
   "id": "ecc606c7-f113-4973-a4ee-94837cde01d0",
   "metadata": {},
   "outputs": [
    {
     "data": {
      "text/plain": [
       "10"
      ]
     },
     "execution_count": 627,
     "metadata": {},
     "output_type": "execute_result"
    }
   ],
   "source": [
    "factor = 7\n",
    "Bmag = 10"
   ]
  },
  {
   "cell_type": "code",
   "execution_count": 628,
   "id": "18ed32ae-8cd4-48d9-8330-eb4be82b345d",
   "metadata": {},
   "outputs": [
    {
     "data": {
      "text/plain": [
       "Bz (generic function with 1 method)"
      ]
     },
     "execution_count": 628,
     "metadata": {},
     "output_type": "execute_result"
    }
   ],
   "source": [
    "function B0(t)\n",
    "    return Bmag\n",
    "end\n",
    "\n",
    "function θ(t)\n",
    "    return pi/factor\n",
    "end\n",
    "\n",
    "function ϕ(t)\n",
    "    return t\n",
    "end\n",
    "\n",
    "function Bx(t)\n",
    "    return B0(t)*sin(θ(t))*cos(ϕ(t))\n",
    "end\n",
    "\n",
    "function By(t)\n",
    "    return B0(t)*sin(θ(t))*sin(ϕ(t))\n",
    "end\n",
    "\n",
    "function Bz(t)\n",
    "    return B0(t)*cos(θ(t))\n",
    "end"
   ]
  },
  {
   "cell_type": "code",
   "execution_count": 629,
   "id": "8380d489-8d0a-40ba-bb4f-ff38318dd505",
   "metadata": {},
   "outputs": [
    {
     "data": {
      "text/plain": [
       "TimeDependentSum(dim=2x2)\n",
       "  basis: Spin(1/2)"
      ]
     },
     "execution_count": 629,
     "metadata": {},
     "output_type": "execute_result"
    }
   ],
   "source": [
    "Ht = TimeDependentSum(Bx=>sx, By=>sy, Bz=>sz)"
   ]
  },
  {
   "cell_type": "code",
   "execution_count": 630,
   "id": "05340533-c293-4d26-9c8d-76d0b35ba5cf",
   "metadata": {},
   "outputs": [],
   "source": [
    "t=0\n",
    "E0, Psi0 = eigenstates(dense(Bx(t)*sx+By(t)*sy+Bz(t)*sz));"
   ]
  },
  {
   "cell_type": "code",
   "execution_count": 642,
   "id": "f579a8cf-f1d2-4c17-a46b-cff6ca18e86e",
   "metadata": {
    "scrolled": true
   },
   "outputs": [],
   "source": [
    "ψ₀ = Psi0[1]\n",
    "dt = 0.01\n",
    "tspan = [0:dt:2*pi+dt;];"
   ]
  },
  {
   "cell_type": "code",
   "execution_count": 643,
   "id": "be469e3c-71d3-4c90-8a17-8e3379032eb4",
   "metadata": {
    "scrolled": true
   },
   "outputs": [
    {
     "name": "stdout",
     "output_type": "stream",
     "text": [
      "  0.002702 seconds (39.32 k allocations: 1.681 MiB)\n"
     ]
    }
   ],
   "source": [
    "@time begin\n",
    "tout, ψₜ = timeevolution.schroedinger_dynamic(tspan, ψ₀, Ht);\n",
    "end;"
   ]
  },
  {
   "cell_type": "code",
   "execution_count": 644,
   "id": "408e905a-c310-4dbb-8c93-2645a6c8f572",
   "metadata": {},
   "outputs": [
    {
     "data": {
      "text/plain": [
       "H_B (generic function with 1 method)"
      ]
     },
     "execution_count": 644,
     "metadata": {},
     "output_type": "execute_result"
    }
   ],
   "source": [
    "H = LazySum([0.0, 0.0, 0.0],[sx,sy,sz])\n",
    "function H_B(t, psi)\n",
    "  H.factors[1] = Bx(t)\n",
    "  H.factors[2] = By(t)\n",
    "  H.factors[3] = Bz(t)\n",
    "  return H\n",
    "end"
   ]
  },
  {
   "cell_type": "code",
   "execution_count": 645,
   "id": "7776305e-54ca-4078-8f03-40f36effeb71",
   "metadata": {
    "scrolled": true
   },
   "outputs": [
    {
     "name": "stdout",
     "output_type": "stream",
     "text": [
      "  0.021338 seconds (40.78 k allocations: 1.919 MiB, 89.11% compilation time: 60% of which was recompilation)\n"
     ]
    }
   ],
   "source": [
    "@time begin\n",
    "tout2, ψₜ2 = timeevolution.schroedinger_dynamic(tspan, ψ₀, H_B);\n",
    "end;"
   ]
  },
  {
   "cell_type": "code",
   "execution_count": 646,
   "id": "93e8a435-01f9-42d8-8540-80c49ed37b69",
   "metadata": {},
   "outputs": [
    {
     "data": {
      "text/plain": [
       "2-element Vector{Float64}:\n",
       " -10.000000000000002\n",
       "  10.000000000000002"
      ]
     },
     "execution_count": 646,
     "metadata": {},
     "output_type": "execute_result"
    }
   ],
   "source": [
    "t=0 \n",
    "eigenenergies(dense(Bx(t)*sx+By(t)*sy+Bz(t)*sz))"
   ]
  },
  {
   "cell_type": "code",
   "execution_count": 647,
   "id": "01150ff8-7f59-494e-ab56-e0c3a71de490",
   "metadata": {},
   "outputs": [],
   "source": [
    "Elist=[]\n",
    "for t in tspan\n",
    "    Evals = eigenenergies(dense(Bx(t)*sx+By(t)*sy+Bz(t)*sz))\n",
    "    push!(Elist,Evals[1])\n",
    "end"
   ]
  },
  {
   "cell_type": "code",
   "execution_count": 648,
   "id": "9ea5e40d-3ef0-44ad-8422-7f64be0efbce",
   "metadata": {
    "scrolled": true
   },
   "outputs": [],
   "source": [
    "#import Pkg\n",
    "#Pkg.add(\"NumericalIntegration\")"
   ]
  },
  {
   "cell_type": "code",
   "execution_count": 649,
   "id": "a5233096-1b45-4bc7-9ef5-d97bc71e2e47",
   "metadata": {},
   "outputs": [],
   "source": [
    "using NumericalIntegration"
   ]
  },
  {
   "cell_type": "code",
   "execution_count": 650,
   "id": "c4c1f8dd-a965-4a0e-afc8-86a63230e1c6",
   "metadata": {},
   "outputs": [
    {
     "data": {
      "text/plain": [
       "(10.001296623895442, -0.10652820022039625, -0.10652820022039625)"
      ]
     },
     "execution_count": 650,
     "metadata": {},
     "output_type": "execute_result"
    }
   ],
   "source": [
    "dynamic_phase = - NumericalIntegration.integrate(tspan,Elist)\n",
    "dynamic_phase/(2*pi), angle( dagger(ψₜ[end])*ψ₀ )/pi, angle( dagger(ψₜ2[end])*ψ₀ )/pi"
   ]
  },
  {
   "cell_type": "code",
   "execution_count": 651,
   "id": "c71a38bc-75ce-4a40-8f58-a2ab4c5c4a47",
   "metadata": {},
   "outputs": [
    {
     "data": {
      "text/plain": [
       "0.6222309541488807"
      ]
     },
     "execution_count": 651,
     "metadata": {},
     "output_type": "execute_result"
    }
   ],
   "source": [
    "solid_angle = 2*pi*(1-cos(pi/factor))"
   ]
  },
  {
   "cell_type": "code",
   "execution_count": 652,
   "id": "8f153d0a-2e42-4ad3-b034-39ff9b05d779",
   "metadata": {},
   "outputs": [
    {
     "data": {
      "text/plain": [
       "(0.10393495242951117, 0.09903113209758085)"
      ]
     },
     "execution_count": 652,
     "metadata": {},
     "output_type": "execute_result"
    }
   ],
   "source": [
    "mod( angle( dagger(ψ₀)*ψₜ[end] ) - dynamic_phase, 2*pi)/pi, solid_angle/2/pi"
   ]
  },
  {
   "cell_type": "code",
   "execution_count": null,
   "id": "4c8d6f5d-28a5-46fd-baed-56967f88b8b6",
   "metadata": {},
   "outputs": [],
   "source": []
  },
  {
   "cell_type": "code",
   "execution_count": null,
   "id": "6551db35-2413-4c54-a615-b0dbeabe6931",
   "metadata": {},
   "outputs": [],
   "source": []
  },
  {
   "cell_type": "code",
   "execution_count": null,
   "id": "4fa58494-d1d5-4be3-b237-554a64de738b",
   "metadata": {},
   "outputs": [],
   "source": []
  },
  {
   "cell_type": "code",
   "execution_count": null,
   "id": "68651b46-dbd0-4664-9bf7-1b85e02d48a3",
   "metadata": {},
   "outputs": [],
   "source": []
  },
  {
   "cell_type": "code",
   "execution_count": null,
   "id": "6c332356-6adf-4174-9052-d4c0a97d060b",
   "metadata": {},
   "outputs": [],
   "source": []
  },
  {
   "cell_type": "code",
   "execution_count": null,
   "id": "15595d96-897d-462b-bf3e-da0a58ed17e2",
   "metadata": {},
   "outputs": [],
   "source": []
  },
  {
   "cell_type": "code",
   "execution_count": null,
   "id": "1ccfdae9-a23c-4ef7-bd54-e266fc5d8575",
   "metadata": {},
   "outputs": [],
   "source": []
  },
  {
   "cell_type": "code",
   "execution_count": null,
   "id": "9a153941-4160-4ecd-ae05-62eca5452c87",
   "metadata": {},
   "outputs": [],
   "source": []
  },
  {
   "cell_type": "code",
   "execution_count": null,
   "id": "16e4a01d-3109-4c4f-b9e5-03e74502dee2",
   "metadata": {},
   "outputs": [],
   "source": []
  },
  {
   "cell_type": "code",
   "execution_count": null,
   "id": "74c58ef9-e4a4-4a7c-a216-f53480cff334",
   "metadata": {},
   "outputs": [],
   "source": []
  },
  {
   "cell_type": "code",
   "execution_count": null,
   "id": "0bb71cb8-2283-44c5-a759-c2d380037744",
   "metadata": {},
   "outputs": [],
   "source": []
  },
  {
   "cell_type": "code",
   "execution_count": null,
   "id": "e147699f-91a5-481f-9a3b-a569ac133429",
   "metadata": {},
   "outputs": [],
   "source": []
  },
  {
   "cell_type": "code",
   "execution_count": null,
   "id": "5f87077c-7497-4b9a-91e0-f9c0758cecff",
   "metadata": {},
   "outputs": [],
   "source": []
  }
 ],
 "metadata": {
  "kernelspec": {
   "display_name": "Julia 1.10.5",
   "language": "julia",
   "name": "julia-1.10"
  },
  "language_info": {
   "file_extension": ".jl",
   "mimetype": "application/julia",
   "name": "julia",
   "version": "1.10.5"
  }
 },
 "nbformat": 4,
 "nbformat_minor": 5
}
