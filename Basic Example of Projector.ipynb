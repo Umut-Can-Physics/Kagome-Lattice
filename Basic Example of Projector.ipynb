{
 "cells": [
  {
   "cell_type": "code",
   "execution_count": 12,
   "id": "17669d2a",
   "metadata": {},
   "outputs": [
    {
     "data": {
      "text/plain": [
       "3×5 Matrix{ComplexF64}:\n",
       " 0.288675-1.28198e-16im    -0.404508+0.293893im     …  0.288675-0.0im\n",
       "     -0.5+2.22045e-16im     0.404508-0.293893im             0.5-0.0im\n",
       "  0.57735-2.56395e-16im  2.07428e-16-1.50705e-16im      0.57735-0.0im"
      ]
     },
     "metadata": {},
     "output_type": "display_data"
    },
    {
     "data": {
      "text/plain": [
       "3×5 adjoint(::Matrix{ComplexF64}) with eltype ComplexF64:\n",
       " 0.288675-1.28198e-16im    -0.404508+0.293893im     …  0.288675-0.0im\n",
       "     -0.5+2.22045e-16im     0.404508-0.293893im             0.5-0.0im\n",
       "  0.57735-2.56395e-16im  2.07428e-16-1.50705e-16im      0.57735-0.0im"
      ]
     },
     "metadata": {},
     "output_type": "display_data"
    },
    {
     "data": {
      "text/plain": [
       "true"
      ]
     },
     "metadata": {},
     "output_type": "display_data"
    },
    {
     "data": {
      "text/plain": [
       "Operator(dim=3x3)\n",
       "  basis: Subspace(superbasis=NLevel(N=5), states:3)\n",
       " -1.73205-0.0im      1.71e-15+6.0e-17im  7.8e-16-1.1e-16im\n",
       "  1.7e-15-3.0e-17im      -1.0-3.0e-17im  2.7e-16+4.0e-17im\n",
       "  7.6e-16+1.0e-16im   3.6e-16-2.0e-17im     -0.0-0.0im"
      ]
     },
     "metadata": {},
     "output_type": "display_data"
    },
    {
     "data": {
      "text/plain": [
       "3-element Vector{ComplexF64}:\n",
       "   -1.7320508075688774 - 7.395570986446986e-32im\n",
       "   -0.9999999999999992 - 1.8183693251165595e-17im\n",
       " 5.056883095440301e-17 - 6.1024354125096245e-18im"
      ]
     },
     "metadata": {},
     "output_type": "display_data"
    },
    {
     "data": {
      "text/plain": [
       "3-element Vector{Float64}:\n",
       " -1.7320508075688754\n",
       " -0.9999999999999999\n",
       "  2.0243245150576017e-31"
      ]
     },
     "metadata": {},
     "output_type": "display_data"
    },
    {
     "name": "stderr",
     "output_type": "stream",
     "text": [
      "┌ Warning: The given operator is not hermitian. If this is due to a numerical error make the operator hermitian first by calculating (x+dagger(x))/2 first.\n",
      "└ @ QuantumOptics C:\\Users\\Can\\.julia\\packages\\QuantumOptics\\baG3x\\src\\spectralanalysis.jl:30\n"
     ]
    }
   ],
   "source": [
    "using QuantumOptics\n",
    "using LinearAlgebra\n",
    "\n",
    "Lx = 5\n",
    "pos = NLevelBasis(Lx)\n",
    "H0 = sum([transition(pos,i,i+1)*exp(-im * i * pi / Lx) for i in 1:Lx-1])\n",
    "H0 = H0 + dagger(H0)\n",
    "\n",
    "#projection using projector operator:\n",
    "Ncut = 3\n",
    "E0s, states0 = eigenstates(dense(H0))\n",
    "states = states0[1:Ncut]\n",
    "pos_sub = SubspaceBasis(pos, states)\n",
    "P1 = projector(pos_sub, pos) \n",
    "\n",
    "#projection without using projector operator:\n",
    "E0s, states0 = eigen(dense(H0).data)\n",
    "P2 = Operator(pos_sub, pos, states0[:,1:Ncut]')\n",
    "\n",
    "display(P1.data)\n",
    "display(P2.data)\n",
    "display(P1==P2)\n",
    "\n",
    "Pt1 = dagger(P1)\n",
    "H0_sub1 = P1*H0*Pt1\n",
    "\n",
    "display(H0_sub1) #full of real\n",
    "\n",
    "E, U = eigenstates(dense(H0_sub1))\n",
    "display(E)\n",
    "EE, UU = eigenstates(dense((H0_sub1+dagger(H0_sub1))/2)) \n",
    "display(EE)"
   ]
  },
  {
   "cell_type": "code",
   "execution_count": null,
   "id": "6516fda9",
   "metadata": {},
   "outputs": [],
   "source": []
  }
 ],
 "metadata": {
  "kernelspec": {
   "display_name": "Julia 1.7.2",
   "language": "julia",
   "name": "julia-1.7"
  },
  "language_info": {
   "file_extension": ".jl",
   "mimetype": "application/julia",
   "name": "julia",
   "version": "1.7.2"
  }
 },
 "nbformat": 4,
 "nbformat_minor": 5
}
