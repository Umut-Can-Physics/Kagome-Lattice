{
 "cells": [
  {
   "cell_type": "code",
   "execution_count": 37,
   "id": "secure-picnic",
   "metadata": {},
   "outputs": [],
   "source": [
    "import urllib.request\n",
    "import os.path\n",
    "\n",
    "if not os.path.isfile(\"exportnb.py\"):\n",
    "    urllib.request.urlretrieve(\"https://raw.githubusercontent.com/juanjosegarciaripoll/exportnb/master/exportnb.py\",\n",
    "                               \"exportnb.py\")"
   ]
  },
  {
   "cell_type": "code",
   "execution_count": 38,
   "id": "backed-overview",
   "metadata": {},
   "outputs": [],
   "source": [
    "import exportnb"
   ]
  },
  {
   "cell_type": "code",
   "execution_count": 39,
   "id": "nominated-circus",
   "metadata": {},
   "outputs": [],
   "source": [
    "files = [\n",
    "    'File_00_Root.ipynb',\n",
    "    'topo_invariants_test.ipynb',\n",
    "    'Kagome Chern in Momentum Space.ipynb'\n",
    "]"
   ]
  },
  {
   "cell_type": "code",
   "execution_count": 45,
   "id": "geographic-stream",
   "metadata": {},
   "outputs": [],
   "source": [
    "exportnb.export_notebooks(files)"
   ]
  },
  {
   "cell_type": "code",
   "execution_count": 1,
   "id": "elder-bulletin",
   "metadata": {
    "tags": []
   },
   "outputs": [],
   "source": [
    "# test comments"
   ]
  },
  {
   "cell_type": "code",
   "execution_count": null,
   "id": "2084226f-6e4b-4a57-b557-0220ff517ba3",
   "metadata": {},
   "outputs": [],
   "source": []
  }
 ],
 "metadata": {
  "kernelspec": {
   "display_name": "Python 3 (ipykernel)",
   "language": "python",
   "name": "python3"
  },
  "language_info": {
   "codemirror_mode": {
    "name": "ipython",
    "version": 3
   },
   "file_extension": ".py",
   "mimetype": "text/x-python",
   "name": "python",
   "nbconvert_exporter": "python",
   "pygments_lexer": "ipython3",
   "version": "3.11.2"
  }
 },
 "nbformat": 4,
 "nbformat_minor": 5
}
