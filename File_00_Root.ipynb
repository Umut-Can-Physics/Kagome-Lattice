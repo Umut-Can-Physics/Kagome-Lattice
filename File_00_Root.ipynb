{
 "cells": [
  {
   "cell_type": "code",
   "execution_count": 7,
   "id": "9fd30833-e200-439a-829a-c84b6129eafe",
   "metadata": {},
   "outputs": [],
   "source": [
    "import urllib.request\n",
    "import os.path\n",
    "\n",
    "if not os.path.isfile(\"exportnb.py\"):\n",
    "    urllib.request.urlretrieve(\"https://raw.githubusercontent.com/juanjosegarciaripoll/exportnb/master/exportnb.py\",\n",
    "                               \"exportnb.py\")"
   ]
  },
  {
   "cell_type": "code",
   "execution_count": 8,
   "id": "00abb505-9fad-44b7-8667-2461820b10c6",
   "metadata": {},
   "outputs": [],
   "source": [
    "import exportnb"
   ]
  },
  {
   "cell_type": "code",
   "execution_count": 9,
   "id": "4703f1aa-5ce1-4e2f-b442-bd6869126020",
   "metadata": {},
   "outputs": [],
   "source": [
    "files = [\n",
    "    'File_00_Root.ipynb',\n",
    "    'Kagome Chern in Momentum Space.ipynb'\n",
    "]"
   ]
  },
  {
   "cell_type": "code",
   "execution_count": 10,
   "id": "e7293273-a820-4c1d-a194-aa700ab7dba2",
   "metadata": {},
   "outputs": [],
   "source": [
    "exportnb.export_notebooks(files)"
   ]
  },
  {
   "cell_type": "code",
   "execution_count": null,
   "id": "9f58b6d4-0945-4499-ab65-b085149880f4",
   "metadata": {},
   "outputs": [],
   "source": []
  }
 ],
 "metadata": {
  "kernelspec": {
   "display_name": "Python 3 (ipykernel)",
   "language": "python",
   "name": "python3"
  },
  "language_info": {
   "codemirror_mode": {
    "name": "ipython",
    "version": 3
   },
   "file_extension": ".py",
   "mimetype": "text/x-python",
   "name": "python",
   "nbconvert_exporter": "python",
   "pygments_lexer": "ipython3",
   "version": "3.8.13"
  }
 },
 "nbformat": 4,
 "nbformat_minor": 5
}
