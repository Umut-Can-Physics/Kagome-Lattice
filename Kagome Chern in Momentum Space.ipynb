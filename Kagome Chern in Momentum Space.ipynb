{
 "cells": [
  {
   "cell_type": "code",
   "execution_count": 1,
   "id": "vocal-payment",
   "metadata": {},
   "outputs": [],
   "source": [
    "%load_ext autoreload\n",
    "%autoreload 2"
   ]
  },
  {
   "cell_type": "markdown",
   "id": "conceptual-skirt",
   "metadata": {},
   "source": [
    "# Kagome Model Chern Number Calculation in Momentum Space"
   ]
  },
  {
   "cell_type": "markdown",
   "id": "tracked-scale",
   "metadata": {},
   "source": [
    "Kagome Model:\n",
    "\n",
    "https://journals.aps.org/prl/abstract/10.1103/PhysRevLett.106.236802\n",
    "\n",
    "https://arxiv.org/abs/1002.4894v1\n",
    "\n",
    "https://arxiv.org/abs/0905.3385\n",
    "\n",
    "https://www.worldscientific.com/doi/abs/10.1142/S021797921330017X"
   ]
  },
  {
   "cell_type": "code",
   "execution_count": 2,
   "id": "useful-plate",
   "metadata": {},
   "outputs": [],
   "source": [
    "# file: topo_lib/hamiltonians.py \n",
    "\n",
    "import numpy as np"
   ]
  },
  {
   "cell_type": "code",
   "execution_count": 3,
   "id": "incident-proposition",
   "metadata": {},
   "outputs": [],
   "source": [
    "# file: topo_lib/hamiltonians.py \n",
    "\n",
    "# Bravais Vectors\n",
    "a1=np.array([2,0])\n",
    "a2=np.array([1,np.sqrt(3)])\n",
    "# Basis Vectors\n",
    "a1_b=a1/2\n",
    "a2_b=a2/2\n",
    "# Reciprocal Vectors\n",
    "b1x = (2*np.pi/(a1[0]*a2[1]-a1[1]*a2[0])) * a2[1]\n",
    "b1y = (2*np.pi/(a1[0]*a2[1]-a1[1]*a2[0])) * -a2[0]\n",
    "b2x = (2*np.pi/(a1[0]*a2[1]-a1[1]*a2[0])) * -a1[1]\n",
    "b2y = (2*np.pi/(a1[0]*a2[1]-a1[1]*a2[0])) * a1[0]\n",
    "b1=np.array([b1x,b1y]) \n",
    "b2=np.array([b2x,b2y]) "
   ]
  },
  {
   "cell_type": "code",
   "execution_count": 4,
   "id": "gross-tragedy",
   "metadata": {},
   "outputs": [
    {
     "name": "stdout",
     "output_type": "stream",
     "text": [
      "b1=[ 3.14159265 -1.81379936], |b1|=3.6275987284684357\n",
      "b1=[0.         3.62759873], |b2|=3.6275987284684357\n",
      "3.9999999999999996\n"
     ]
    }
   ],
   "source": [
    "print(f'b1={b1}, |b1|={np.linalg.norm(b1)}')\n",
    "print(f'b1={b2}, |b2|={np.linalg.norm(b2)}')\n",
    "\n",
    "print( (a1[0]*a2[1]-a1[1]*a2[0]) * (b1[0]*b2[1]-b1[1]*b2[0]) / np.pi/np.pi ) "
   ]
  },
  {
   "cell_type": "markdown",
   "id": "attractive-stocks",
   "metadata": {},
   "source": [
    "\\begin{equation}\n",
    "\\vec{a_i}.\\vec{b_j}=2\\pi\\delta_{ij}\n",
    "\\end{equation}"
   ]
  },
  {
   "cell_type": "code",
   "execution_count": 5,
   "id": "studied-damage",
   "metadata": {},
   "outputs": [
    {
     "data": {
      "text/plain": [
       "(6.283185307179586, 0.0)"
      ]
     },
     "execution_count": 5,
     "metadata": {},
     "output_type": "execute_result"
    }
   ],
   "source": [
    "# Check\n",
    "np.dot(a1,b1), np.dot(a1,b2)"
   ]
  },
  {
   "cell_type": "code",
   "execution_count": 6,
   "id": "nominated-summit",
   "metadata": {},
   "outputs": [],
   "source": [
    "# file: topo_lib/hamiltonians.py \n",
    "\n",
    "# Kagome Matrix\n",
    "def Hamiltonian(kx,ky,t1=-1,L1=1,t2=0,L2=0):\n",
    "    # Hopping Parameters\n",
    "    # t1=-1;L1=0;t2=0;L2=0 # NN\n",
    "    # t1=-1;L1=1;t2=0;L2=0 # Complex NN (Well-Defined Berry Curvature)\n",
    "    # t1=0;L1=0;t2=-1;L2=-1 # Complex NNN\n",
    "    # t1=-1;L1=0.28;t2=0.3;L2=0.2 # Complex NNN (Well-Defined Berry Curvature)\n",
    "    k1=np.dot([kx,ky],a1_b);k2=np.dot([kx,ky],a2_b);k3=k2-k1 # Convention\n",
    "    H = 2*t1*np.array([\n",
    "    [0, np.cos(k1), np.cos(k2)],\n",
    "    [np.cos(k1), 0, np.cos(k3)],        \n",
    "    [np.cos(k2), np.cos(k3), 0]\n",
    "    ])+2*1j*L1*np.array([\n",
    "    [0, np.cos(k1), -np.cos(k2)],\n",
    "    [-np.cos(k1), 0, np.cos(k3)],        \n",
    "    [np.cos(k2), -np.cos(k3), 0]\n",
    "    ])+2*t2*np.array([\n",
    "    [0, np.cos(k2+k3), np.cos(k3-k1)],\n",
    "    [np.cos(k2+k3), 0, np.cos(k1+k2)],\n",
    "    [np.cos(k3-k1), np.cos(k1+k2), 0]\n",
    "    ])+2*1j*L2*np.array([\n",
    "    [0, -np.cos(k2+k3), np.cos(k3-k1)],\n",
    "    [np.cos(k2+k3), 0, -np.cos(k1+k2)],\n",
    "    [-np.cos(k3-k1), np.cos(k1+k2), 0]\n",
    "    ])\n",
    "    return H"
   ]
  },
  {
   "cell_type": "code",
   "execution_count": 7,
   "id": "thorough-script",
   "metadata": {},
   "outputs": [],
   "source": [
    "# file: topo_lib/hamiltonians.py \n",
    "\n",
    "# Kagome Matrix\n",
    "def Kagome_Hamiltonian(q1,q2,t1=-1,L1=1,t2=0,L2=0):\n",
    "    kx, ky = q1*b1*2+2*q2*b2*2\n",
    "    return Hamiltonian(kx,ky,t1=t1,L1=L1,t2=t2,L2=L2)"
   ]
  },
  {
   "cell_type": "code",
   "execution_count": 8,
   "id": "separate-insight",
   "metadata": {},
   "outputs": [],
   "source": [
    "# Discretizing Brillioun Zone\n",
    "N1 = N2 = 48\n",
    "\n",
    "#Note That: Following q lists provides periodic k-points conditions. \n",
    "\n",
    "# q1_list = np.arange(0,N1) / N1 -1/2\n",
    "# q2_list =  np.arange(0,N2) / N2 -1/2\n",
    "\n",
    "# This Mesh Returns True Chern Numbers for Well-Defined Berry Curvature\n",
    "q1_list = np.arange(0,N1) / N1 \n",
    "q2_list =  np.arange(0,N2) / N2 \n",
    "\n",
    "# Allowed k Pairs\n",
    "Q = np.zeros([N1,N2,2])\n",
    "for iq1, q1 in enumerate(q1_list):\n",
    "    for iq2, q2 in enumerate(q2_list):\n",
    "        Q[iq1,iq2,:] = q1*b1+q2*b2"
   ]
  },
  {
   "cell_type": "code",
   "execution_count": 9,
   "id": "genuine-belgium",
   "metadata": {},
   "outputs": [
    {
     "name": "stdout",
     "output_type": "stream",
     "text": [
      "0.0 0.07557497350975907\n"
     ]
    }
   ],
   "source": [
    "# Eigenvalues and Eigenenergies of Matrix\n",
    "q = (Hamiltonian(1,1).shape)[0] # Dimension of Matrix\n",
    "EEA=np.empty([N1,N2,q])\n",
    "UUA=np.empty([N1,N2,q,q],dtype=complex)\n",
    "for iq1, q1 in enumerate(q1_list):\n",
    "    for iq2, q2 in enumerate(q2_list):\n",
    "        kx,ky=Q[iq1,iq2,:]\n",
    "        EEA[iq1,iq2,:],UUA[iq1,iq2,:,:] = np.linalg.eigh(Hamiltonian(kx,ky))\n",
    "kx,ky=Q[0,1,:] # Bu çifte karşılık gelen k bileşenleri\n",
    "print(kx,ky)"
   ]
  },
  {
   "cell_type": "code",
   "execution_count": 10,
   "id": "realistic-immune",
   "metadata": {},
   "outputs": [
    {
     "data": {
      "image/png": "[encoded data removed]",
      "text/plain": [
       "<Figure size 432x288 with 1 Axes>"
      ]
     },
     "metadata": {
      "needs_background": "light"
     },
     "output_type": "display_data"
    }
   ],
   "source": [
    "# Plot Energy Bands\n",
    "import matplotlib.pyplot as plt\n",
    "for i in range(3):\n",
    "        plt.plot(EEA[:,:,i].flatten(),'.') "
   ]
  },
  {
   "cell_type": "code",
   "execution_count": 11,
   "id": "manual-contrast",
   "metadata": {},
   "outputs": [
    {
     "data": {
      "text/plain": [
       "(1+0j)"
      ]
     },
     "execution_count": 11,
     "metadata": {},
     "output_type": "execute_result"
    }
   ],
   "source": [
    "# Diklik Bağıntısı\n",
    "np.dot(np.conj(UUA[1,0,:,1]),UUA[1,0,:,1])"
   ]
  },
  {
   "cell_type": "code",
   "execution_count": 12,
   "id": "liberal-ontario",
   "metadata": {},
   "outputs": [
    {
     "name": "stdout",
     "output_type": "stream",
     "text": [
      "Band Index: 0\n",
      "(-0.9999999999999999-2.757089599515467e-16j)\n",
      "Band Index: 1\n",
      "1.0054065777716369e-15j\n",
      "Band Index: 2\n",
      "(1.0000000000000002-1.5536542256327403e-15j)\n"
     ]
    }
   ],
   "source": [
    "for bi in range(q): \n",
    "    # Caculate The Link Variables\n",
    "    bj = bi # Band index  \n",
    "    U1=np.zeros([N1,N2],dtype=complex)\n",
    "    U2=np.zeros([N1,N2],dtype=complex)\n",
    "    for iq1, q1 in enumerate(q1_list): # Orginal q1_list\n",
    "        for iq2, q2 in enumerate(q2_list): # Orginal q2_list\n",
    "            s1=np.dot(np.conj(UUA[iq1,iq2,:,bi]),UUA[np.mod(iq1+1,N1),iq2,:,bj]) \n",
    "            s2=np.dot(np.conj(UUA[iq1,iq2,:,bj]),UUA[iq1,np.mod(iq2+1,N2),:,bi]) \n",
    "            U1[iq1,iq2]=s1/np.abs(s1)\n",
    "            U2[iq1,iq2]=s2/np.abs(s2)\n",
    "    # Calculate The Field Strength\n",
    "    F12=np.zeros([N1,N2],dtype=complex) \n",
    "    for iq1, q1 in enumerate(q1_list):\n",
    "        for iq2, q2 in enumerate(q2_list):\n",
    "            F12[iq1,iq2] = U1[iq1,iq2]*U2[np.mod(iq1+1,N1),iq2]/(U1[iq1,np.mod(iq2+1,N2)]*U2[iq1,iq2])\n",
    "            F12[iq1,iq2] = np.log(F12[iq1,iq2])\n",
    "    # Alternative F12 Calculation \n",
    "    # F12=np.log( U1*np.roll(U2,-1,axis=0)*np.conj(np.roll(U1,-1,axis=1)*U2) )\n",
    "    # Chern Number of Band Index\n",
    "    print(\"Band Index:\",bi)\n",
    "    print(F12.sum()/(2j*np.pi))"
   ]
  }
 ],
 "metadata": {
  "kernelspec": {
   "display_name": "Python 3",
   "language": "python",
   "name": "python3"
  },
  "language_info": {
   "codemirror_mode": {
    "name": "ipython",
    "version": 3
   },
   "file_extension": ".py",
   "mimetype": "text/x-python",
   "name": "python",
   "nbconvert_exporter": "python",
   "pygments_lexer": "ipython3",
   "version": "3.9.2"
  },
  "vscode": {
   "interpreter": {
    "hash": "a03785ac4c50267612fbe58bda14fd025fac1c5f9a7d8e8a15e8aa0a6dc56ba3"
   }
  }
 },
 "nbformat": 4,
 "nbformat_minor": 5
}
