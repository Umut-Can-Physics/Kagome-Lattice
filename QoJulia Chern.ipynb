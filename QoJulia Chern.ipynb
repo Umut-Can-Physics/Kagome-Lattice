{
 "cells": [
  {
   "cell_type": "code",
   "execution_count": null,
   "metadata": {},
   "outputs": [],
   "source": [
    "using QuantumOptics\n",
    "using LinearAlgebra\n",
    "using SparseArrays"
   ]
  },
  {
   "cell_type": "markdown",
   "metadata": {},
   "source": [
    "# The Boson Fock Space "
   ]
  },
  {
   "cell_type": "code",
   "execution_count": null,
   "metadata": {},
   "outputs": [],
   "source": [
    "max_occupation_number = 2\n",
    "occ_array = []\n",
    "for i in 0:max_occupation_number\n",
    "    push!(occ_array, i)\n",
    "end"
   ]
  },
  {
   "cell_type": "code",
   "execution_count": null,
   "metadata": {},
   "outputs": [],
   "source": [
    "Nx = Ny = 5\n",
    "N = Nx*Ny \n",
    "b = NLevelBasis(N)"
   ]
  },
  {
   "cell_type": "code",
   "execution_count": null,
   "metadata": {},
   "outputs": [],
   "source": [
    "# states = bosonstates(b, [occ_array...]) #en az 0 en fazla 2 bozon\n",
    "states = bosonstates(b, [2])\n",
    "for i in 1:length(states)\n",
    "    println(\"$i: \", states[i])\n",
    "end"
   ]
  },
  {
   "cell_type": "code",
   "execution_count": null,
   "metadata": {},
   "outputs": [],
   "source": [
    "b_mb_b = ManyBodyBasis(b, states)"
   ]
  },
  {
   "cell_type": "markdown",
   "metadata": {},
   "source": [
    "# The Periodic Lattice "
   ]
  },
  {
   "cell_type": "code",
   "execution_count": 1,
   "metadata": {},
   "outputs": [],
   "source": [
    "using OffsetArrays\n",
    "lat = range(1,Nx*Ny)\n",
    "latt = reshape(lat, (Nx,Ny))\n",
    "lattice = OffsetArray(latt, 0:Nx-1, 0:Ny-1)\n",
    "x_co = range(0, Nx-1) \n",
    "y_co = range(0, Ny-1)\n",
    "arr = []\n",
    "for i in 1:length(x_co)\n",
    "    for j in 1:length(y_co)\n",
    "       arr = [arr;x_co[i];y_co[j]]\n",
    "    end\n",
    "end\n",
    "xy = reshape(arr, (2,Nx*Ny)) |> transpose\n",
    "arr = OffsetArray(arr,0:Nx*Ny*2-1)\n",
    "lattice"
   ]
  },
  {
   "cell_type": "code",
   "execution_count": null,
   "metadata": {},
   "outputs": [],
   "source": [
    "x = []\n",
    "function PerBC()\n",
    "    for i in 0:Nx-1\n",
    "        for j in 0:Ny-1\n",
    "            cc = [lattice[mod(j,Ny),mod(i-1,Nx)],lattice[mod(j+1,Ny),mod(i,Nx)],lattice[mod(j,Ny),mod(i+1,Nx)],lattice[mod(j-1,Ny),mod(i,Nx)]]\n",
    "            push!(x,cc)\n",
    "        end\n",
    "    end\n",
    "    return x\n",
    "end"
   ]
  },
  {
   "cell_type": "markdown",
   "metadata": {},
   "source": [
    "# Hopping Phase Values"
   ]
  },
  {
   "cell_type": "code",
   "execution_count": 2,
   "metadata": {},
   "outputs": [],
   "source": [
    "function HP(m, n, alpha)\n",
    "    if abs(xy[m,1]-xy[n,1])==Nx-1\n",
    "        if xy[m,1] > xy[n,1]\n",
    "            A = -exp(-1im*2*pi*alpha*xy[m,2])\n",
    "            #println(m,\" -> \",n,\" Kenarda x+ ve faz: \", A)\n",
    "        elseif xy[m,1] < xy[n,1]\n",
    "            A = -exp(1im*2*pi*alpha*xy[m,2])\n",
    "            #println(m,\" -> \",n,\" Kenarda x- ve faz: \", A)\n",
    "        end\n",
    "    elseif m==n\n",
    "        A = 0\n",
    "        #println(m, \" -> \", n, \" Aynı noktalar ve faz: \", A)\n",
    "    else\n",
    "        if xy[m,1] > xy[n,1]\n",
    "            A = -exp(1im*2*pi*alpha*xy[m,2])\n",
    "            #println(m,\" -> \",n,\" x- ve faz: \", A)\n",
    "        elseif xy[m,1] < xy[n,1]\n",
    "            A = -exp(-1im*2*pi*alpha*xy[m,2])\n",
    "            #println(m,\" -> \",n,\" x+ ve faz: \", A)\n",
    "        else\n",
    "            A = -exp(0)\n",
    "            #println(m,\" -> \",n,\" x sabit ve faz: \", A)\n",
    "        end\n",
    "    end\n",
    "end "
   ]
  },
  {
   "cell_type": "markdown",
   "metadata": {},
   "source": [
    "# Many Body Hamiltonian"
   ]
  },
  {
   "cell_type": "code",
   "execution_count": null,
   "metadata": {},
   "outputs": [],
   "source": [
    "alpha = 1/5\n",
    "S = SparseOperator(b_mb_b)\n",
    "for m in 1:N\n",
    "    for n in 1:N\n",
    "        if m in PerBC()[n]\n",
    "            S = S + HP(m, n, alpha)*transition(b_mb_b, m, n)\n",
    "        end\n",
    "    end\n",
    "end\n",
    "eigenenergies(dense(S))"
   ]
  },
  {
   "cell_type": "markdown",
   "metadata": {},
   "source": [
    "# Hopping Phase Values with Twisted Angle Parameters"
   ]
  },
  {
   "cell_type": "code",
   "execution_count": null,
   "metadata": {},
   "outputs": [],
   "source": [
    "Tsize=20\n",
    "dx=2*pi/Tsize\n",
    "dy=dx\n",
    "Tx=range(start=0, stop=2*pi, step=dx) #şimdilik 1'den başlatıyorum. Chern yanlış hesaplarsam burayla ilgilenicem(!)\n",
    "Ty=range(start=0, stop=2*pi, step=dy) "
   ]
  },
  {
   "cell_type": "code",
   "execution_count": null,
   "metadata": {},
   "outputs": [],
   "source": [
    "q=Nx\n",
    "ChernAlpha=1/q\n",
    "function HPTA(m, n, Tx, Ty, ChernAlpha)\n",
    "    if abs(xy[m,1]-xy[n,1])==Nx-1\n",
    "        if xy[m,1] > xy[n,1]\n",
    "            B = -exp(-1im*2*pi*ChernAlpha*xy[m,2])*exp(-1im*Tx)\n",
    "        elseif xy[m,1] < xy[n,1]\n",
    "            B = -exp(1im*2*pi*ChernAlpha*xy[m,2])*exp(1im*Tx)\n",
    "        end\n",
    "    elseif abs(xy[m,2]-xy[n,2])==Ny-1\n",
    "        if xy[m,2] > xy[n,2]\n",
    "            B = -exp(-1im*Ty)\n",
    "        elseif xy[m,2] < xy[n,2]\n",
    "            B = -exp(1im*Ty)\n",
    "        end\n",
    "    elseif m==n\n",
    "        B = 0\n",
    "    else\n",
    "        if xy[m,1] > xy[n,1]\n",
    "            B = -exp(1im*2*pi*ChernAlpha*xy[m,2])\n",
    "        elseif xy[m,1] < xy[n,1]\n",
    "            B = -exp(-1im*2*pi*ChernAlpha*xy[m,2])\n",
    "        else\n",
    "            B = -exp(0)\n",
    "        end\n",
    "    end\n",
    "end "
   ]
  },
  {
   "cell_type": "markdown",
   "metadata": {},
   "source": [
    "# Many Body Chern Calculations\n",
    "\n",
    "# E'ler D-Manifold Dejenere Olması Lazım\n",
    "Örneğin q=2 ve parçacık sayısı=2 iken 10 durum var ve 0:5,5:10 dejenere bekliyorum.\n",
    "veya q=3 ve parçacık sayısı =2 iken 45 durum var ve 0:15,15:30,30:45 dejenere bekliyorum. Herhangi theta değeri için bu durumun korunması lazım.\n",
    "Twist fazları doğru ekleniyor bunu real space hesabında gördük.\n",
    "\n",
    "Çıktılar: q=3, 325 durum için dejenerelik 1:15..."
   ]
  },
  {
   "cell_type": "code",
   "execution_count": null,
   "metadata": {},
   "outputs": [],
   "source": [
    "function HMTA(ChernAlpha, Tx, Ty)\n",
    "    STA = SparseOperator(b_mb_b)\n",
    "    for m in 1:N\n",
    "        for n in 1:N\n",
    "            if m in PerBC()[n]\n",
    "                STA = STA + HPTA(m, n, Tx, Ty, ChernAlpha) * transition(b_mb_b, m, n)\n",
    "            end\n",
    "        end\n",
    "    end\n",
    "    return STA\n",
    "end\n",
    "println(\"Eigenenergies:\")\n",
    "eigenenergies(dense(HMTA(ChernAlpha, 9,1)))[1:15]"
   ]
  },
  {
   "cell_type": "code",
   "execution_count": null,
   "metadata": {},
   "outputs": [],
   "source": [
    "println(\"Eigenstates:\")\n",
    "eigenstates(dense(HMTA(ChernAlpha, 1,1)))[2]"
   ]
  },
  {
   "cell_type": "code",
   "execution_count": null,
   "metadata": {},
   "outputs": [],
   "source": [
    "function HMTA(ChernAlpha, Tx, Ty)\n",
    "    STA = SparseOperator(b_mb_b)\n",
    "    for m in 1:N\n",
    "        for n in 1:N\n",
    "            if m in PerBC()[n]\n",
    "                STA = STA + HPTA(m, n, Tx, Ty, ChernAlpha)*transition(b_mb_b, m, n)\n",
    "            end\n",
    "        end\n",
    "    end\n",
    "    return STA\n",
    "end\n",
    "#------------------------\n",
    "#PROBLEM: QOJulia kütüphanesi öz-vektörleri kare matris şeklinde depolamıyor!\n",
    "#------------------------\n",
    "#ÇÖZÜM(Çok Yavaş):\n",
    "function EigVEC(ChernAlpha, Tx, Ty)\n",
    "    EigVec = spzeros(Complex{Float64},length(states),length(states))\n",
    "    for m in 1:length(states)\n",
    "        for n in 1:length(states)\n",
    "            EigVec[m,n]=eigenstates(dense(HMTA(ChernAlpha, Tx, Ty)))[2][m].data[n]\n",
    "        end\n",
    "    end\n",
    "    return EigVec\n",
    "end\n",
    "EigVEC(ChernAlpha, 2, 3)"
   ]
  },
  {
   "cell_type": "code",
   "execution_count": null,
   "metadata": {},
   "outputs": [],
   "source": [
    "ChernArray = zeros(Complex{Float64},0)\n",
    "for i in range(start=1, stop=Nx*Ny, step=q) \n",
    "    j=i+q\n",
    "    Sum=0\n",
    "    n1=i\n",
    "    n2=j\n",
    "    for tx in range(start=1, stop=length(Tx))\n",
    "        for ty in range(start=1, stop=length(Ty))\n",
    "            w1=eigenstates(dense(HMTA(ChernAlpha, Tx[tx], Ty[ty])))[1]\n",
    "            v1=EigVEC(ChernAlpha, Tx[tx], Ty[ty])\n",
    "            idx1 = sortperm(w1)\n",
    "            v1sorted = v1[:,idx1]\n",
    "            v11 = v1sorted[:,n1:n2]\n",
    "            #------------------------------------\n",
    "            w2=eigenstates(dense(HMTA(ChernAlpha, Tx[tx]+dx, Ty[ty])))[1]\n",
    "            v2=EigVEC(ChernAlpha, Tx[tx]+dx, Ty[ty])\n",
    "            idx2 = sortperm(w2)\n",
    "            v2sorted = v2[:,idx2]\n",
    "            v22 = v2sorted[:,n1:n2]\n",
    "            #------------------------------------\n",
    "            w3=eigenstates(dense(HMTA(ChernAlpha, Tx[tx], Ty[ty]+dy)))[1]\n",
    "            v3=EigVEC(ChernAlpha, Tx[tx], Ty[ty]+dy)\n",
    "            idx3 = sortperm(w3)\n",
    "            v3sorted = v3[:,idx3]\n",
    "            v33 = v3sorted[:,n1:n2]\n",
    "            #------------------------------------\n",
    "            w4=eigenstates(dense(HMTA(ChernAlpha, Tx[tx]+dx, Ty[ty]+dy)))[1]\n",
    "            v4=EigVEC(ChernAlpha, Tx[tx]+dx, Ty[ty]+dy)\n",
    "            idx4 = sortperm(w4)\n",
    "            v4sorted = v4[:,idx4]\n",
    "            v44 = v4sorted[:,n1:n2]\n",
    "            #----------LINK VARIABLES------------\n",
    "            U1=det(adjoint(v11)*v22)\n",
    "            U1=U1/abs(U1)\n",
    "            U2=det(adjoint(v22)*v44)\n",
    "            U2=U2/abs(U2)\n",
    "            U3=det(adjoint(v33)*v44)\n",
    "            U3=U3/abs(U3)\n",
    "            U4=det(adjoint(v11)*v33)\n",
    "            U4=U4/abs(U4)\n",
    "            #----------BERRY CURVATURE-----------\n",
    "            F=log(U1*U2*1/U3*1/U4)\n",
    "            Sum=Sum+F\n",
    "        end\n",
    "    end\n",
    "    Chern=1/(2*pi*1im)*Sum\n",
    "    append!(ChernArray, real(Chern))\n",
    "end\n",
    "ChernArray"
   ]
  }
 ],
 "metadata": {
  "kernelspec": {
   "display_name": "Julia 1.8.1",
   "language": "julia",
   "name": "julia-1.8"
  },
  "language_info": {
   "file_extension": ".jl",
   "mimetype": "application/julia",
   "name": "julia",
   "version": "1.8.1"
  },
  "orig_nbformat": 4
 },
 "nbformat": 4,
 "nbformat_minor": 2
}
