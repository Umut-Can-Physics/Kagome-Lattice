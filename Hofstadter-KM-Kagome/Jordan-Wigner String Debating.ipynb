{
 "cells": [
  {
   "cell_type": "code",
   "execution_count": 1,
   "id": "4350c1c7",
   "metadata": {},
   "outputs": [],
   "source": [
    "using QuantumOptics"
   ]
  },
  {
   "cell_type": "markdown",
   "id": "6ac94bd1",
   "metadata": {},
   "source": [
    "https://itensor.org/docs.cgi?page=tutorials/fermions"
   ]
  },
  {
   "cell_type": "markdown",
   "id": "5143453d",
   "metadata": {},
   "source": [
    "Tartışma kanalına bunu yaz:\n",
    "Jordan-Weigner String"
   ]
  },
  {
   "cell_type": "code",
   "execution_count": 49,
   "id": "35537b6f",
   "metadata": {},
   "outputs": [
    {
     "data": {
      "text/plain": [
       "7-element Vector{Vector{Int64}}:\n",
       " [0, 0, 0]\n",
       " [1, 0, 0]\n",
       " [0, 1, 0]\n",
       " [0, 0, 1]\n",
       " [1, 1, 0]\n",
       " [1, 0, 1]\n",
       " [0, 1, 1]"
      ]
     },
     "execution_count": 49,
     "metadata": {},
     "output_type": "execute_result"
    }
   ],
   "source": [
    "#ParticleNum = 2\n",
    "N=3\n",
    "NBasis = NLevelBasis(N)\n",
    "States = fermionstates(NBasis, [0,1,2])"
   ]
  },
  {
   "cell_type": "code",
   "execution_count": 50,
   "id": "f98e0a8c",
   "metadata": {},
   "outputs": [
    {
     "data": {
      "text/plain": [
       "ManyBody(onebodybasis=NLevel(N=3), states:7)"
      ]
     },
     "execution_count": 50,
     "metadata": {},
     "output_type": "execute_result"
    }
   ],
   "source": [
    "MBasis = ManyBodyBasis(NBasis, States)"
   ]
  },
  {
   "cell_type": "code",
   "execution_count": 61,
   "id": "c6ddc58c",
   "metadata": {},
   "outputs": [
    {
     "data": {
      "text/plain": [
       "Operator(dim=7x7)\n",
       "  basis: ManyBody(onebodybasis=NLevel(N=3), states:7)sparse([4, 7], [2, 5], ComplexF64[1.0 + 0.0im, 1.0 + 0.0im], 7, 7)"
      ]
     },
     "execution_count": 61,
     "metadata": {},
     "output_type": "execute_result"
    }
   ],
   "source": [
    "j31 = transition(NBasis, 3,1) \n",
    "j13 = transition(NBasis, 1,3)\n",
    "dense(manybodyoperator(MBasis, j31))\n",
    "manybodyoperator(MBasis, j31)"
   ]
  },
  {
   "cell_type": "code",
   "execution_count": 64,
   "id": "266703f0",
   "metadata": {},
   "outputs": [
    {
     "data": {
      "text/plain": [
       "Operator(dim=7x7)\n",
       "  basis: ManyBody(onebodybasis=NLevel(N=3), states:7)sparse([2, 5], [4, 7], ComplexF64[1.0 + 0.0im, 1.0 + 0.0im], 7, 7)"
      ]
     },
     "execution_count": 64,
     "metadata": {},
     "output_type": "execute_result"
    }
   ],
   "source": [
    "dense(manybodyoperator(MBasis, j13))\n",
    "manybodyoperator(MBasis, j13)"
   ]
  },
  {
   "cell_type": "code",
   "execution_count": 67,
   "id": "08034975",
   "metadata": {},
   "outputs": [
    {
     "data": {
      "text/plain": [
       "Operator(dim=7x7)\n",
       "  basis: ManyBody(onebodybasis=NLevel(N=3), states:7)sparse([4, 6, 7], [1, 2, 3], ComplexF64[1.0 + 0.0im, 1.0 + 0.0im, 1.0 + 0.0im], 7, 7)"
      ]
     },
     "execution_count": 67,
     "metadata": {},
     "output_type": "execute_result"
    }
   ],
   "source": [
    "a13 = destroy(MBasis, 1)\n",
    "#dense(a)\n",
    "a13t = create(MBasis, 3)\n",
    "#dense(at)"
   ]
  },
  {
   "cell_type": "code",
   "execution_count": 68,
   "id": "9f207629",
   "metadata": {},
   "outputs": [
    {
     "data": {
      "text/plain": [
       "Operator(dim=7x7)\n",
       "  basis: ManyBody(onebodybasis=NLevel(N=3), states:7)sparse([4, 7], [2, 5], ComplexF64[1.0 + 0.0im, 1.0 + 0.0im], 7, 7)"
      ]
     },
     "execution_count": 68,
     "metadata": {},
     "output_type": "execute_result"
    }
   ],
   "source": [
    "a13t*a13 "
   ]
  },
  {
   "cell_type": "code",
   "execution_count": 69,
   "id": "463eae67",
   "metadata": {},
   "outputs": [
    {
     "data": {
      "text/plain": [
       "Operator(dim=7x7)\n",
       "  basis: ManyBody(onebodybasis=NLevel(N=3), states:7)sparse([2, 5], [4, 7], ComplexF64[1.0 + 0.0im, 1.0 + 0.0im], 7, 7)"
      ]
     },
     "execution_count": 69,
     "metadata": {},
     "output_type": "execute_result"
    }
   ],
   "source": [
    "a31 = destroy(MBasis, 3)\n",
    "#dense(a)\n",
    "a31t = create(MBasis, 1)\n",
    "#dense(at)\n",
    "a31t*a31"
   ]
  },
  {
   "cell_type": "code",
   "execution_count": 70,
   "id": "05c5932f",
   "metadata": {},
   "outputs": [
    {
     "data": {
      "text/plain": [
       "Operator(dim=7x7)\n",
       "  basis: ManyBody(onebodybasis=NLevel(N=3), states:7)sparse([4, 7], [2, 5], ComplexF64[2.0 + 0.0im, 1.0 + 0.0im], 7, 7)"
      ]
     },
     "execution_count": 70,
     "metadata": {},
     "output_type": "execute_result"
    }
   ],
   "source": [
    "a13t*a13 + a13*a13t"
   ]
  }
 ],
 "metadata": {
  "kernelspec": {
   "display_name": "Julia 1.8.1",
   "language": "julia",
   "name": "julia-1.8"
  },
  "language_info": {
   "file_extension": ".jl",
   "mimetype": "application/julia",
   "name": "julia",
   "version": "1.8.1"
  }
 },
 "nbformat": 4,
 "nbformat_minor": 5
}
