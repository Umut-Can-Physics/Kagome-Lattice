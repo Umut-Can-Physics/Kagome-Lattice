{
 "cells": [
  {
   "cell_type": "code",
   "execution_count": 9,
   "id": "f041417b-f9af-4146-8274-8d87c9b1e02f",
   "metadata": {
    "tags": []
   },
   "outputs": [
    {
     "data": {
      "text/plain": [
       "Hofstadter_Finite_U (generic function with 1 method)"
      ]
     },
     "execution_count": 9,
     "metadata": {},
     "output_type": "execute_result"
    }
   ],
   "source": [
    "using NBInclude\n",
    "@nbinclude(\"Hofstadter MB in Julia.ipynb\"; regex=r\"#.*executeme\")"
   ]
  },
  {
   "cell_type": "markdown",
   "id": "e300fdeb",
   "metadata": {},
   "source": [
    "###### Parçacık Sayısı-Enerji Dağılımı"
   ]
  },
  {
   "cell_type": "code",
   "execution_count": 10,
   "id": "cd3ae43f",
   "metadata": {
    "tags": []
   },
   "outputs": [
    {
     "name": "stdout",
     "output_type": "stream",
     "text": [
      "55×2 Matrix{Float64}:\n",
      " 0.0   0.0\n",
      " 1.0  -2.37228\n",
      " 1.0  -2.0\n",
      " 1.0  -2.0\n",
      " 1.0  -1.0\n",
      " 1.0  -1.0\n",
      " 1.0   1.0\n",
      " 1.0   2.0\n",
      " 1.0   2.0\n",
      " 1.0   3.37228\n",
      " 2.0  -4.34566\n",
      " 2.0  -4.34566\n",
      " 2.0  -4.28323\n",
      " 2.0  -3.7773\n",
      " 2.0  -3.7773\n",
      " 2.0  -3.51206\n",
      " 2.0  -3.07423\n",
      " 2.0  -3.07423\n",
      " 2.0  -3.0\n",
      " 2.0  -2.68597\n",
      " 2.0  -2.68597\n",
      " 2.0  -2.33103\n",
      " 2.0  -1.84787\n",
      " 2.0  -1.84787\n",
      " 2.0  -1.5178\n",
      " 2.0  -1.32502\n",
      " 2.0  -0.373841\n",
      " 2.0  -0.373841\n",
      " 2.0  -4.46022e-15\n",
      " 2.0  -2.38101e-15\n",
      " 2.0   1.38778e-16\n",
      " 2.0   0.262231\n",
      " 2.0   0.262231\n",
      " 2.0   0.41681\n",
      " 2.0   0.41681\n",
      " 2.0   0.5026\n",
      " 2.0   1.0\n",
      " 2.0   1.0\n",
      " 2.0   1.55924\n",
      " 2.0   1.55924\n",
      " 2.0   1.75649\n",
      " 2.0   2.11316\n",
      " 2.0   2.11316\n",
      " 2.0   2.59407\n",
      " 2.0   3.06142\n",
      " 2.0   3.06142\n",
      " 2.0   3.50166\n",
      " 2.0   3.50166\n",
      " 2.0   4.41221\n",
      " 2.0   4.41221\n",
      " 2.0   4.83011\n",
      " 2.0   5.15345\n",
      " 2.0   5.77814\n",
      " 2.0   5.77814\n",
      " 2.0   7.13241"
     ]
    }
   ],
   "source": [
    "Nx = 3; Ny = 3; N=Nx*Ny; alpha = 1/2; PN = [0,1,2]; U = 2\n",
    "A = eigenstates(dense(Hofstadter_Finite_U(Nx, Ny, alpha, PN, U)))\n",
    "Basis_MB = get_Bosonic_MB_Basis(N,PN)\n",
    "\n",
    "C = Array{Float64}(undef, length(A[1]), 2)\n",
    "for i in 1:length(A[1])\n",
    "    exp = round(expect(number(Basis_MB), A[2][i])) #expected values\n",
    "    C[i] = exp #expected values (first column)\n",
    "    C[i,2] = A[1][i] #eigen-values (second column)\n",
    "end\n",
    "C\n",
    "CC = sortslices(C, dims=1 ,by = x -> x[1]) #sorted according to particle numbers\n",
    "show(stdout, \"text/plain\", CC)"
   ]
  },
  {
   "cell_type": "markdown",
   "id": "9fb1bcb4",
   "metadata": {},
   "source": [
    "###### Parçacık Sayısı-Açılım Katsayısı Dağılımı"
   ]
  },
  {
   "cell_type": "code",
   "execution_count": 11,
   "id": "ebdeddfe",
   "metadata": {
    "tags": []
   },
   "outputs": [
    {
     "data": {
      "text/plain": [
       "-2.685970211643603"
      ]
     },
     "execution_count": 11,
     "metadata": {},
     "output_type": "execute_result"
    }
   ],
   "source": [
    "j=11\n",
    "A[1][j] #İlk 2 parçacıklı bazın vektörü enerjisi"
   ]
  },
  {
   "cell_type": "code",
   "execution_count": 12,
   "id": "0eefbd6c",
   "metadata": {
    "tags": []
   },
   "outputs": [
    {
     "data": {
      "text/plain": [
       "Ket(dim=55)\n",
       "  basis: ManyBody(onebodybasis=NLevel(N=9), states:55)\n",
       "                  0.0 + 0.0im\n",
       "                  0.0 + 0.0im\n",
       "                  0.0 + 0.0im\n",
       "                  0.0 + 0.0im\n",
       "                  0.0 + 0.0im\n",
       "                  0.0 + 0.0im\n",
       "                  0.0 + 0.0im\n",
       "                  0.0 + 0.0im\n",
       "                  0.0 + 0.0im\n",
       "                  0.0 + 0.0im\n",
       "  0.01071894922572539 - 0.15908286034840197im\n",
       " -0.01279630928212173 + 0.18991352973453232im\n",
       "             -7.0e-17 - 5.5e-16im\n",
       "                      ⋮\n",
       "              8.0e-17 + 3.7e-16im\n",
       "   0.0040162520799233 - 0.18763841759153244im\n",
       " -0.03252281327445289 - 0.15908286034840224im\n",
       " -0.00410070709551684 - 0.00861025363814534im\n",
       "  0.01913133628067816 - 0.15590127916663316im\n",
       " -0.02272072867329456 + 0.3372045552630199im\n",
       " -0.04324176250017854 + 1.0e-16im\n",
       "  0.05162212780412628 - 2.3e-16im\n",
       "             -3.0e-17 + 2.1e-16im\n",
       "              9.0e-17 + 6.0e-17im\n",
       " -0.05162212780412637 - 4.0e-17im\n",
       "  0.04324176250017829 - 0.0im"
      ]
     },
     "execution_count": 12,
     "metadata": {},
     "output_type": "execute_result"
    }
   ],
   "source": [
    "A[2][j] #Bu baz vektöre karşılık gelen özvektörde vakum ve tek parçacıklı baz vektörleri açılım katsayıları sıfırdır."
   ]
  },
  {
   "cell_type": "code",
   "execution_count": 13,
   "id": "1e5ef9bf",
   "metadata": {
    "tags": []
   },
   "outputs": [
    {
     "name": "stdout",
     "output_type": "stream",
     "text": [
      "0.0\n",
      "0.0\n",
      "0.0\n",
      "0.0\n",
      "0.0\n",
      "0.0\n",
      "0.0\n",
      "0.0\n",
      "0.0\n",
      "0.0\n",
      "0.1594435709871453\n",
      "0.19034414702709618\n",
      "5.497009051287617e-16\n",
      "0.0916586441853491\n",
      "0.05826714927611077\n",
      "0.017260896648111822\n",
      "0.34417923860290894\n",
      "0.1610757233647765\n",
      "0.009092100917674675\n",
      "1.2200523519936926e-16\n",
      "0.19034414702709573\n",
      "0.05467051770305119\n",
      "2.0196151924099586e-16\n",
      "0.054670517703050786\n",
      "0.189979690077619\n",
      "2.8306671675515273e-16\n",
      "0.18997969007761914\n",
      "0.1594435709871457\n",
      "0.017260896648111812\n",
      "0.05826714927611022\n",
      "0.09165864418534891\n",
      "0.009092100917674241\n",
      "0.16107572336477716\n",
      "0.3441792386029091\n",
      "0.16237330396316407\n",
      "0.1938416698239381\n",
      "2.8867218393993943e-16\n",
      "0.33796914593136523\n",
      "0.15707073843869426\n",
      "0.009536889765349353\n",
      "1.3205908242443397e-16\n",
      "0.19384166982393794\n",
      "0.18768139502098677\n",
      "3.762842756419945e-16\n",
      "0.1876813950209871\n",
      "0.1623733039631644\n",
      "0.009536889765348928\n",
      "0.15707073843869482\n",
      "0.33796914593136534\n",
      "0.04324176250017855\n",
      "0.05162212780412628\n",
      "2.112788194281324e-16\n",
      "1.0802488798195745e-16\n",
      "0.051622127804126366\n",
      "0.04324176250017829\n"
     ]
    }
   ],
   "source": [
    "#Yukarıdaki hesaplanan özvektör içerisindeki baz vektörlerin ağırlıkları\n",
    "for i in 1:length(A[1])\n",
    "    println(abs(A[2][j].data[i]))\n",
    "end"
   ]
  }
 ],
 "metadata": {
  "kernelspec": {
   "display_name": "Julia 1.7.2",
   "language": "julia",
   "name": "julia-1.7"
  },
  "language_info": {
   "file_extension": ".jl",
   "mimetype": "application/julia",
   "name": "julia",
   "version": "1.7.2"
  }
 },
 "nbformat": 4,
 "nbformat_minor": 5
}
