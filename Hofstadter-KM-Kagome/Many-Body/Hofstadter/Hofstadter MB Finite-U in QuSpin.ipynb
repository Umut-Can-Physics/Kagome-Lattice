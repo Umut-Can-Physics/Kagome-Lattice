{
 "cells": [
  {
   "cell_type": "code",
   "execution_count": 1,
   "id": "9fe722c2",
   "metadata": {},
   "outputs": [
    {
     "ename": "ModuleNotFoundError",
     "evalue": "No module named 'square_tight_binding'",
     "output_type": "error",
     "traceback": [
      "\u001b[1;31m---------------------------------------------------------------------------\u001b[0m",
      "\u001b[1;31mModuleNotFoundError\u001b[0m                       Traceback (most recent call last)",
      "Cell \u001b[1;32mIn[1], line 3\u001b[0m\n\u001b[0;32m      1\u001b[0m \u001b[38;5;28;01mimport\u001b[39;00m \u001b[38;5;21;01msys\u001b[39;00m\n\u001b[0;32m      2\u001b[0m sys\u001b[38;5;241m.\u001b[39mpath\u001b[38;5;241m.\u001b[39minsert(\u001b[38;5;241m0\u001b[39m, \u001b[38;5;124m'\u001b[39m\u001b[38;5;124mC:/Users/Can/Dropbox/PC (2)/Desktop/My Numerical Calculations/Single Particle/Hofstadter\u001b[39m\u001b[38;5;124m'\u001b[39m)\n\u001b[1;32m----> 3\u001b[0m \u001b[38;5;28;01mfrom\u001b[39;00m \u001b[38;5;21;01msquare_tight_binding\u001b[39;00m \u001b[38;5;28;01mimport\u001b[39;00m \u001b[38;5;241m*\u001b[39m\n",
      "\u001b[1;31mModuleNotFoundError\u001b[0m: No module named 'square_tight_binding'"
     ]
    }
   ],
   "source": [
    "import sys\n",
    "sys.path.insert(0, 'C:/Users/Can/Dropbox/PC (2)/Desktop/My Numerical Calculations/Single Particle/Hofstadter')\n",
    "from square_tight_binding import *"
   ]
  },
  {
   "cell_type": "code",
   "execution_count": 3,
   "id": "0a0c7b08",
   "metadata": {},
   "outputs": [],
   "source": [
    "L = L_x*L_y\n",
    "alpha=1/5"
   ]
  },
  {
   "cell_type": "code",
   "execution_count": null,
   "id": "6b241997",
   "metadata": {},
   "outputs": [],
   "source": [
    "from quspin.basis import boson_basis_1d, spinless_fermion_basis_1d"
   ]
  },
  {
   "cell_type": "code",
   "execution_count": null,
   "id": "b05a9716",
   "metadata": {},
   "outputs": [],
   "source": [
    "print(\"Site number=\",L)\n",
    "basis = boson_basis_1d(L,Nb=[2]) # Boson basis\n",
    "#basis_2 = spinless_fermion_basis_1d(L) # Fermion basis\n",
    "print(basis)\n",
    "#print(basis_2)"
   ]
  },
  {
   "cell_type": "code",
   "execution_count": null,
   "id": "6c6b3c59",
   "metadata": {},
   "outputs": [],
   "source": [
    "################\n",
    "# KINETIC PART #\n",
    "################\n",
    "\n",
    "# Elements of Single Particle Hamiltonian\n",
    "hop=[]\n",
    "for m in range(L_x*L_y):\n",
    "    for n in range(L_x*L_y):\n",
    "        # PBC\n",
    "        if m in PerBCLat[n]:\n",
    "            if np.absolute(xy[m][0]-xy[n][0])==L_x-1:\n",
    "                if xy[m][0] > xy[n][0]:\n",
    "                    hop.append([-np.exp(-1j*2*np.pi*alpha*xy[m][1]),m,n])\n",
    "                elif xy[m][0] < xy[n][0]:\n",
    "                    hop.append([-np.exp(1j*2*np.pi*alpha*xy[m][1]),m,n])\n",
    "            elif m==n:\n",
    "                hop.append([0,m,n])\n",
    "            else:\n",
    "                if xy[m][0] > xy[n][0]:\n",
    "                    hop.append([-np.exp(1j*2*np.pi*alpha*xy[m][1]),m,n])\n",
    "                elif xy[m][0] < xy[n][0]:\n",
    "                    hop.append([-np.exp(-1j*2*np.pi*alpha*xy[m][1]),m,n])\n",
    "                else:\n",
    "                    hop.append([-np.exp(0),m,n])\n",
    "print(hop)"
   ]
  },
  {
   "cell_type": "code",
   "execution_count": null,
   "id": "5ee4f089",
   "metadata": {},
   "outputs": [],
   "source": [
    "####################\n",
    "# INTERACTION PART #\n",
    "####################\n",
    "\n",
    "U = 2\n",
    "# Lattice Potantiel Part ( -U/2 * n_i )\n",
    "pot=[]\n",
    "for m in range(L):\n",
    "    pot.append([-U/2,m])\n",
    "print(pot)\n",
    "\n",
    "#On-Site Interaction Part ( U/2 * n_i^2 )\n",
    "interact=[]\n",
    "for m in range(L):\n",
    "    for n in range(L):\n",
    "        if m==n:\n",
    "            interact.append([U/2,m,n])\n",
    "print(interact)"
   ]
  },
  {
   "cell_type": "code",
   "execution_count": null,
   "id": "9e8f8c28",
   "metadata": {},
   "outputs": [],
   "source": [
    "#########################\n",
    "# MANY-BODY HAMILTONIAN #\n",
    "#########################\n",
    "\n",
    "# Burada ['+-',hop] terimi tüm yönlerdeki atlama fazlarını içeriyor, yani '-+' eklemek lüzumsuz.\n",
    "static=[['+-',hop],['n',pot],['nn',interact]]\n",
    "dynamic=[]\n",
    "H=hamiltonian(static,dynamic,basis=basis,dtype=np.complex64)\n",
    "print(H.todense())\n",
    "E,V=H.eigh()\n",
    "print(\"EigenValues:\\n\",E)"
   ]
  }
 ],
 "metadata": {
  "kernelspec": {
   "display_name": "Python 3 (ipykernel)",
   "language": "python",
   "name": "python3"
  },
  "language_info": {
   "codemirror_mode": {
    "name": "ipython",
    "version": 3
   },
   "file_extension": ".py",
   "mimetype": "text/x-python",
   "name": "python",
   "nbconvert_exporter": "python",
   "pygments_lexer": "ipython3",
   "version": "3.11.2"
  }
 },
 "nbformat": 4,
 "nbformat_minor": 5
}
