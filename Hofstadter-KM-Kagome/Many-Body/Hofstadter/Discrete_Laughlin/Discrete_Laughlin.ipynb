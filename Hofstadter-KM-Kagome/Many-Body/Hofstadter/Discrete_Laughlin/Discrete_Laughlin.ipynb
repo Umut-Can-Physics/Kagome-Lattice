{
 "cells": [
  {
   "cell_type": "markdown",
   "id": "a132e183-bc05-4386-9725-e25ad34eeb9c",
   "metadata": {},
   "source": [
    "\\begin{align}\n",
    "\\Psi_L \\left(\\xi_1,...,\\xi_N \\right) & \\propto \\Pi_{i<j} \\left(\\xi_i - \\xi_j \\right)^m e^{-\\sum_{i=1}^N |\\xi_i|^2/4l_b^2} \\text{ where } \\nu = 1/m \\\\\n",
    "\\Psi_{QH} \\left(\\xi_1,...,\\xi_N,\\mathcal{Q} \\right) & \\propto \\Pi_{i=1}^N \\left(\\xi_i - \\mathcal{Q} \\right) \\Psi_L \\left(\\xi_1,...,\\xi_N \\right)\n",
    "\\end{align}"
   ]
  },
  {
   "cell_type": "markdown",
   "id": "89f35532-12ec-4deb-8866-87ba8991a39c",
   "metadata": {},
   "source": [
    "# Discrete Laughlin Density"
   ]
  },
  {
   "cell_type": "code",
   "execution_count": 23,
   "id": "9cbb7774-9feb-423a-9325-1576d3434a90",
   "metadata": {},
   "outputs": [],
   "source": [
    "using QuantumOptics\n",
    "using Combinatorics\n",
    "using Plots\n",
    "using LaTeXStrings\n",
    "using Base.Threads\n",
    "using Revise\n",
    "using Plots\n",
    "using LaTeXStrings\n",
    "using Base.Threads\n",
    "includet(\"./Laughlin.jl\")"
   ]
  },
  {
   "cell_type": "code",
   "execution_count": 85,
   "id": "1c7571da-c2b6-47a2-ba2a-60b3e77a05e1",
   "metadata": {},
   "outputs": [
    {
     "data": {
      "text/plain": [
       "13983816"
      ]
     },
     "execution_count": 85,
     "metadata": {},
     "output_type": "execute_result"
    }
   ],
   "source": [
    "Nx = 7\n",
    "Ny = 7\n",
    "PN = 6\n",
    "p = 1\n",
    "q = 4\n",
    "m = 4\n",
    "α = p/q\n",
    "N = Nx*Ny\n",
    "lb = 1/sqrt(2*pi*α)\n",
    "binomial(N,PN)"
   ]
  },
  {
   "cell_type": "code",
   "execution_count": 92,
   "id": "16f8ee66-f138-4e92-bfdf-349ff80e55e7",
   "metadata": {},
   "outputs": [
    {
     "data": {
      "text/plain": [
       "15.904312808798327"
      ]
     },
     "execution_count": 92,
     "metadata": {},
     "output_type": "execute_result"
    }
   ],
   "source": [
    "(pi*(4.5)^2)*(1/4)"
   ]
  },
  {
   "cell_type": "code",
   "execution_count": 64,
   "id": "34647a6b-03f0-49fb-9917-c47d35112765",
   "metadata": {},
   "outputs": [],
   "source": [
    "\"\"\"\n",
    "Note that Nx and Ny should be odd, because coordinates start from the center of the lattice.\n",
    "\"\"\"\n",
    "SiteCoords = [ [x,y] for x in -(Nx-1)/2:(Nx-1)/2 for y in -(Ny-1)/2:(Ny-1)/2 ];"
   ]
  },
  {
   "cell_type": "code",
   "execution_count": 65,
   "id": "6b5ffd5e-4ef4-4433-a7e9-ba0d206a68e1",
   "metadata": {},
   "outputs": [
    {
     "data": {
      "text/plain": [
       "ManyBody(onebodybasis=NLevel(N=49), states:13983816)"
      ]
     },
     "execution_count": 65,
     "metadata": {},
     "output_type": "execute_result"
    }
   ],
   "source": [
    "b = fermionstates(NLevelBasis(N),PN)\n",
    "mb = ManyBodyBasis(NLevelBasis(N),b)"
   ]
  },
  {
   "cell_type": "code",
   "execution_count": 66,
   "id": "958ef206-6bf4-44eb-ae67-3f28c34002b8",
   "metadata": {},
   "outputs": [
    {
     "data": {
      "text/plain": [
       "1-element Vector{Complex{Int64}}:\n",
       " 0 + 0im"
      ]
     },
     "execution_count": 66,
     "metadata": {},
     "output_type": "execute_result"
    }
   ],
   "source": [
    "QhCoord_1 = QhCoord_2 = [0+im*0]"
   ]
  },
  {
   "cell_type": "code",
   "execution_count": 67,
   "id": "af3da5dd-22c3-4f11-831b-04d1f8926819",
   "metadata": {},
   "outputs": [],
   "source": [
    "Coeff_L, Coeff_1QH, Coeff_2QH = get_Coefficients(b, m, SiteCoords);"
   ]
  },
  {
   "cell_type": "code",
   "execution_count": 68,
   "id": "83d9f8d4-0cce-4f62-9a4a-0c72597bce13",
   "metadata": {},
   "outputs": [
    {
     "data": {
      "text/plain": [
       "\"/home/can/Fractional_Statistics/Kagome-Lattice/My Numerical Calculations/Many-Body/Hofstadter/Discrete_Laughlin/Data/Nx=7, Ny=7, PN=6, alpha=0.5, Npin=1, m=2.png\""
      ]
     },
     "execution_count": 68,
     "metadata": {},
     "output_type": "execute_result"
    }
   ],
   "source": [
    "DensArray_1QH = density(Nx, Ny, N, mb, Coeff_1QH)\n",
    "qh_1_plot = heatmap(DensArray_1QH, aspect_ratio=:1)\n",
    "savefig(qh_1_plot,\"Data/Nx=$(Nx), Ny=$(Ny), PN=$(PN), alpha=$(p/q), Npin=1, m=$(m).png\")"
   ]
  },
  {
   "cell_type": "code",
   "execution_count": 69,
   "id": "2ec4ce0c-b362-444e-abf6-e96c20f91829",
   "metadata": {},
   "outputs": [
    {
     "data": {
      "text/plain": [
       "\"/home/can/Fractional_Statistics/Kagome-Lattice/My Numerical Calculations/Many-Body/Hofstadter/Discrete_Laughlin/Data/Nx=7, Ny=7, PN=6, alpha=0.5, Npin=2, m=2.png\""
      ]
     },
     "execution_count": 69,
     "metadata": {},
     "output_type": "execute_result"
    }
   ],
   "source": [
    "DensArray_2QH = density(Nx, Ny, N, mb, Coeff_2QH)\n",
    "qh_2_plot = heatmap(DensArray_2QH, aspect_ratio=:1)\n",
    "savefig(qh_2_plot,\"Data/Nx=$(Nx), Ny=$(Ny), PN=$(PN), alpha=$(p/q), Npin=2, m=$(m).png\")"
   ]
  },
  {
   "cell_type": "code",
   "execution_count": 70,
   "id": "f77f5aaa-acbf-434b-99d3-61fbe4dfef30",
   "metadata": {},
   "outputs": [
    {
     "data": {
      "text/plain": [
       "\"/home/can/Fractional_Statistics/Kagome-Lattice/My Numerical Calculations/Many-Body/Hofstadter/Discrete_Laughlin/Data/Nx=7, Ny=7, PN=6, alpha=0.5, Laughlin_Plot, m=2.png\""
      ]
     },
     "execution_count": 70,
     "metadata": {},
     "output_type": "execute_result"
    }
   ],
   "source": [
    "DensArray_L = density(Nx, Ny, N, mb, Coeff_L)\n",
    "l_plot = heatmap(DensArray_L, aspect_ratio=:1)\n",
    "savefig(l_plot,\"Data/Nx=$(Nx), Ny=$(Ny), PN=$(PN), alpha=$(p/q), Laughlin_Plot, m=$(m).png\")"
   ]
  },
  {
   "cell_type": "markdown",
   "id": "aebf894c-a1e3-41ab-8c79-8405911f7392",
   "metadata": {},
   "source": [
    "# Braiding Phase Calculation"
   ]
  },
  {
   "cell_type": "code",
   "execution_count": 71,
   "id": "42c59b2f-c73c-46b4-a394-5fd51020acf3",
   "metadata": {},
   "outputs": [
    {
     "data": {
      "text/plain": [
       "7×7 adjoint(::Matrix{Any}) with eltype Any:\n",
       " 4.24264  3.60555  3.16228  3.0  3.16228  3.60555  4.24264\n",
       " 3.60555  2.82843  2.23607  2.0  2.23607  2.82843  3.60555\n",
       " 3.16228  2.23607  1.41421  1.0  1.41421  2.23607  3.16228\n",
       " 3.0      2.0      1.0      0.0  1.0      2.0      3.0\n",
       " 3.16228  2.23607  1.41421  1.0  1.41421  2.23607  3.16228\n",
       " 3.60555  2.82843  2.23607  2.0  2.23607  2.82843  3.60555\n",
       " 4.24264  3.60555  3.16228  3.0  3.16228  3.60555  4.24264"
      ]
     },
     "execution_count": 71,
     "metadata": {},
     "output_type": "execute_result"
    }
   ],
   "source": [
    "using NBInclude\n",
    "@nbinclude(\"../../Braiding_Phase_Depletion_Script.ipynb\")\n",
    "ref_site = findall(x->x == ([0,0]), SiteCoords)[1]\n",
    "distance_array = get_distance_array(Nx, Ny, SiteCoords)"
   ]
  },
  {
   "cell_type": "code",
   "execution_count": 72,
   "id": "6a6ef656-d165-4216-b240-55f857157a76",
   "metadata": {},
   "outputs": [
    {
     "data": {
      "text/plain": [
       "7×7 Matrix{Float64}:\n",
       " -0.175859  -1.19752  -1.98221  -2.0824   -1.98221  -1.19752  -0.175859\n",
       " -1.19752   -2.14454  -1.42616  -1.11209  -1.42616  -2.14454  -1.19752\n",
       " -1.98221   -1.42616  -0.47517  -0.18023  -0.47517  -1.42616  -1.98221\n",
       " -2.0824    -1.11209  -0.18023   0.0      -0.18023  -1.11209  -2.0824\n",
       " -1.98221   -1.42616  -0.47517  -0.18023  -0.47517  -1.42616  -1.98221\n",
       " -1.19752   -2.14454  -1.42616  -1.11209  -1.42616  -2.14454  -1.19752\n",
       " -0.175859  -1.19752  -1.98221  -2.0824   -1.98221  -1.19752  -0.175859"
      ]
     },
     "execution_count": 72,
     "metadata": {},
     "output_type": "execute_result"
    }
   ],
   "source": [
    "braiding_density = ((1/2)/lb^2)*(DensArray_2QH .- 2*DensArray_1QH).*(distance_array.^2)"
   ]
  },
  {
   "cell_type": "code",
   "execution_count": 73,
   "id": "d293e1a4-9e2a-4ac0-b616-3e4d22599751",
   "metadata": {},
   "outputs": [
    {
     "data": {
      "text/plain": [
       "10-element Vector{Any}:\n",
       " 0.0\n",
       " 1.0\n",
       " 1.4142135623730951\n",
       " 2.0\n",
       " 2.23606797749979\n",
       " 2.8284271247461903\n",
       " 3.0\n",
       " 3.1622776601683795\n",
       " 3.605551275463989\n",
       " 4.242640687119285"
      ]
     },
     "execution_count": 73,
     "metadata": {},
     "output_type": "execute_result"
    }
   ],
   "source": [
    "R_max = sort(unique(distance_array))"
   ]
  },
  {
   "cell_type": "code",
   "execution_count": 74,
   "id": "880c28ab-eb70-4cf1-87a4-a3df9c44f336",
   "metadata": {},
   "outputs": [
    {
     "data": {
      "text/plain": [
       "Any[]"
      ]
     },
     "execution_count": 74,
     "metadata": {},
     "output_type": "execute_result"
    }
   ],
   "source": [
    "braid_phase = []"
   ]
  },
  {
   "cell_type": "code",
   "execution_count": 75,
   "id": "476de1c7-6cb4-4bc2-b6ed-2d90c221f4e1",
   "metadata": {},
   "outputs": [],
   "source": [
    "for r in R_max\n",
    "    push!(braid_phase, sum(braiding_density .* (distance_array.<=r)))\n",
    "end"
   ]
  },
  {
   "cell_type": "markdown",
   "id": "0f45e2b9-6845-4ec3-bbc5-a2dd74b42466",
   "metadata": {},
   "source": [
    "\\begin{equation}\n",
    "\\frac{\\varphi_{br}}{2\\pi} = \\frac{1}{2l_b^2} \\sum_j \\left[d_{2qh}-2d_{1qh} \\right] |\\rho_j|^2\n",
    "\\end{equation}"
   ]
  },
  {
   "cell_type": "code",
   "execution_count": 76,
   "id": "8d490f40-03e7-4574-89c7-21d903ed3b3b",
   "metadata": {},
   "outputs": [
    {
     "data": {
      "text/plain": [
       "\"/home/can/Fractional_Statistics/Kagome-Lattice/My Numerical Calculations/Many-Body/Hofstadter/Discrete_Laughlin/Data/Phases/Nx=7, Ny=7, PN=6, alpha=0.5, m=2.png\""
      ]
     },
     "execution_count": 76,
     "metadata": {},
     "output_type": "execute_result"
    }
   ],
   "source": [
    "pl = plot(R_max, mod.(braid_phase,1),xlabel=L\"R_{max}[l_b]\",ylabel=L\"\\varphi_{br}[2\\pi]\",title=\"Nx=$(Nx),Ny=$(Ny),PN=$(PN),α=$(α),m=$(m)\", marker=(:circle,5), legend=:false)\n",
    "savefig(pl,\"Data/Phases/Nx=$(Nx), Ny=$(Ny), PN=$(PN), alpha=$(α), m=$(m).png\")"
   ]
  },
  {
   "cell_type": "code",
   "execution_count": 77,
   "id": "a4bf653a-c045-4455-9173-61b209693401",
   "metadata": {},
   "outputs": [
    {
     "data": {
      "text/plain": [
       "10-element Vector{Float64}:\n",
       " 0.0\n",
       " 0.27907819884207563\n",
       " 0.3783976575644519\n",
       " 0.9300306250613906\n",
       " 0.5207252534433842\n",
       " 0.9425698217871101\n",
       " 0.6129607430233222\n",
       " 0.7553049500358071\n",
       " 0.17513458899372125\n",
       " 0.47169914687806624"
      ]
     },
     "execution_count": 77,
     "metadata": {},
     "output_type": "execute_result"
    }
   ],
   "source": [
    "mod.(braid_phase,1)"
   ]
  },
  {
   "cell_type": "code",
   "execution_count": null,
   "id": "55b2eede-5548-4d86-8ad4-07adec256936",
   "metadata": {},
   "outputs": [],
   "source": []
  }
 ],
 "metadata": {
  "kernelspec": {
   "display_name": "Julia 1.9.3",
   "language": "julia",
   "name": "julia-1.9"
  },
  "language_info": {
   "file_extension": ".jl",
   "mimetype": "application/julia",
   "name": "julia",
   "version": "1.9.3"
  }
 },
 "nbformat": 4,
 "nbformat_minor": 5
}
