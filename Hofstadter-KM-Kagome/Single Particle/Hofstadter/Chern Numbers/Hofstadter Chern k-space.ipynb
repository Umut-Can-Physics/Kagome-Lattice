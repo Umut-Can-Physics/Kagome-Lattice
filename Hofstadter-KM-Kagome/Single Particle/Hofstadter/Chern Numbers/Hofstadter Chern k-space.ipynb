{
 "cells": [
  {
   "cell_type": "code",
   "execution_count": 1,
   "id": "40be917c-78b3-434d-a3ed-85757813fe5a",
   "metadata": {},
   "outputs": [],
   "source": [
    "import sys"
   ]
  },
  {
   "cell_type": "code",
   "execution_count": 2,
   "id": "7bfb782f",
   "metadata": {
    "tags": []
   },
   "outputs": [],
   "source": [
    "sys.path.insert(0, '../')\n",
    "from Hofstadter_Matrix_in_k_space import *"
   ]
  },
  {
   "cell_type": "code",
   "execution_count": 15,
   "id": "a784b00a-badb-45a1-896b-4431b53c9779",
   "metadata": {
    "tags": []
   },
   "outputs": [],
   "source": [
    "# Discreatizing Brillioun Zone\n",
    "Nkx = 20\n",
    "Nky = 20\n",
    "\n",
    "p=3\n",
    "q=5\n",
    "\n",
    "kkx=np.linspace(0,2.*np.pi/q,Nkx,endpoint=False) \n",
    "kky=np.linspace(0,2.*np.pi,Nky,endpoint=False) "
   ]
  },
  {
   "cell_type": "code",
   "execution_count": 16,
   "id": "9e3cbb73-88c7-4524-99e8-62022d001f51",
   "metadata": {},
   "outputs": [],
   "source": [
    "sys.path.insert(0, '../../')\n",
    "from Chern_parameter_space_sum import *"
   ]
  },
  {
   "cell_type": "code",
   "execution_count": 17,
   "id": "707d4b61-f3cb-4b81-89db-9410b0e9b221",
   "metadata": {
    "tags": []
   },
   "outputs": [
    {
     "name": "stdout",
     "output_type": "stream",
     "text": [
      "   Band Index: 0\n",
      "2.00e+00-1.25e-16j, 2.00e+00+4.80e-16j \n",
      "   Band Index: 1\n",
      "-3.00e+00+1.39e-15j, -3.00e+00-4.73e-16j \n",
      "   Band Index: 2\n",
      "2.00e+00-3.03e-16j, 2.00e+00-3.00e-16j \n",
      "   Band Index: 3\n",
      "-3.00e+00-8.72e-17j, -3.00e+00+8.33e-17j \n",
      "   Band Index: 4\n",
      "2.00e+00-3.89e-17j, 2.00e+00+4.67e-16j \n"
     ]
    }
   ],
   "source": [
    "UUA = calc_states_hofstadter(Nkx,Nky,p,q,kkx,kky,H)\n",
    "for bi in range(q):\n",
    "    UU = calc_link_vars_BZ(UUA,bi)\n",
    "    F12 = calc_F12_BZ(UU)\n",
    "    F12_2 = calc_F12_BZ_2(UU)\n",
    "    print(\"   Band Index:\",bi)\n",
    "    print(f'{F12.sum()/(2j*np.pi):.2e}, {F12_2.sum()/(2j*np.pi):.2e} ')"
   ]
  },
  {
   "cell_type": "code",
   "execution_count": null,
   "id": "f5025564-a3aa-4e4a-a632-accd89eac217",
   "metadata": {},
   "outputs": [],
   "source": []
  },
  {
   "cell_type": "code",
   "execution_count": null,
   "id": "7ecf2e26-d475-45c1-a5e5-8896d21d9e15",
   "metadata": {},
   "outputs": [],
   "source": []
  }
 ],
 "metadata": {
  "kernelspec": {
   "display_name": "Python 3 (ipykernel)",
   "language": "python",
   "name": "python3"
  },
  "language_info": {
   "codemirror_mode": {
    "name": "ipython",
    "version": 3
   },
   "file_extension": ".py",
   "mimetype": "text/x-python",
   "name": "python",
   "nbconvert_exporter": "python",
   "pygments_lexer": "ipython3",
   "version": "3.11.2"
  },
  "vscode": {
   "interpreter": {
    "hash": "a03785ac4c50267612fbe58bda14fd025fac1c5f9a7d8e8a15e8aa0a6dc56ba3"
   }
  }
 },
 "nbformat": 4,
 "nbformat_minor": 5
}
