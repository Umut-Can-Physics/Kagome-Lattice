{
 "cells": [
  {
   "cell_type": "markdown",
   "id": "9a19edc1",
   "metadata": {},
   "source": [
    "# Method #1"
   ]
  },
  {
   "cell_type": "markdown",
   "id": "c12606b0",
   "metadata": {},
   "source": [
    "###### Hofstadter Model"
   ]
  },
  {
   "cell_type": "code",
   "execution_count": 1,
   "id": "6463dab2",
   "metadata": {},
   "outputs": [],
   "source": [
    "import numpy as np"
   ]
  },
  {
   "cell_type": "code",
   "execution_count": 2,
   "id": "3c084521",
   "metadata": {},
   "outputs": [],
   "source": [
    "# Hofstadter Matrix\n",
    "q=3\n",
    "def Hq(kx, ky, q):\n",
    "    Hk = np.zeros((q,q), dtype=complex)\n",
    "    t = 1;p = 1;phi = p/q\n",
    "    for i in range(0, q):\n",
    "        Hk[i,i] = -2*t*np.cos(ky-2*i*np.pi*phi)\n",
    "        if i==q-1:\n",
    "            Hk[i,i-1] = 1\n",
    "        elif i==0:\n",
    "            Hk[i,i+1] = 1\n",
    "        else:\n",
    "            Hk[i,i-1] = 1\n",
    "            Hk[i,i+1] = 1\n",
    "        Hk[0,q-1]= -t*np.exp(-q*1.j*kx)\n",
    "        Hk[q-1,0]= -t*np.exp(q*1.j*kx)\n",
    "    return Hk"
   ]
  },
  {
   "cell_type": "code",
   "execution_count": 3,
   "id": "b2ac7b94",
   "metadata": {},
   "outputs": [],
   "source": [
    "# Discreatizing Brillioun Zone\n",
    "Nkx = q*q\n",
    "Nky = q*Nkx\n",
    "kkx=np.linspace(0,2.*np.pi/q,Nkx,endpoint=False)\n",
    "kky=np.linspace(0,2.*np.pi,Nky,endpoint=False)"
   ]
  },
  {
   "cell_type": "code",
   "execution_count": 4,
   "id": "a06870ff",
   "metadata": {},
   "outputs": [],
   "source": [
    "# Eigenvalues and Eigenenergies of Matrix\n",
    "EEA=np.empty([Nkx,Nky,q])\n",
    "UUA=np.empty([Nkx,Nky,q,q],dtype=complex)\n",
    "for ikx, kx in enumerate(kkx):\n",
    "    for iky, ky in enumerate(kky):\n",
    "        EEA[ikx,iky,:],UUA[ikx,iky,:,:] = np.linalg.eigh(Hq(kx,ky,q))"
   ]
  },
  {
   "cell_type": "code",
   "execution_count": 5,
   "id": "94d5051b",
   "metadata": {},
   "outputs": [
    {
     "data": {
      "text/plain": [
       "(9, 27, 3, 3)"
      ]
     },
     "execution_count": 5,
     "metadata": {},
     "output_type": "execute_result"
    }
   ],
   "source": [
    "EEA.ndim # 3\n",
    "EEA.shape # 4X8X2\n",
    "UUA.ndim # 4\n",
    "UUA.shape"
   ]
  },
  {
   "cell_type": "code",
   "execution_count": 6,
   "id": "48c99c23",
   "metadata": {},
   "outputs": [
    {
     "data": {
      "text/plain": [
       "Text(0.5, 1.0, 'q=3')"
      ]
     },
     "execution_count": 6,
     "metadata": {},
     "output_type": "execute_result"
    },
    {
     "data": {
      "image/png": "[encoded data removed]",
      "text/plain": [
       "<Figure size 640x480 with 1 Axes>"
      ]
     },
     "metadata": {},
     "output_type": "display_data"
    }
   ],
   "source": [
    "# Plot Energy Bands\n",
    "import matplotlib.pyplot as plt\n",
    "for i in range(q):\n",
    "        plt.plot(EEA[:,:,i].flatten(),'.') \n",
    "plt.ylabel(\"E\")\n",
    "plt.title(\"q=\"+str(q))"
   ]
  },
  {
   "cell_type": "markdown",
   "id": "170a3d86",
   "metadata": {},
   "source": [
    "\\begin{equation}\n",
    "    <U_i|U_j> = \\delta_{ij}\n",
    "\\end{equation}"
   ]
  },
  {
   "cell_type": "code",
   "execution_count": 7,
   "id": "b0646447",
   "metadata": {},
   "outputs": [
    {
     "data": {
      "text/plain": [
       "(0.9999999999999997+0j)"
      ]
     },
     "execution_count": 7,
     "metadata": {},
     "output_type": "execute_result"
    }
   ],
   "source": [
    "# Diklik Bağıntısı\n",
    "np.dot(np.conj(UUA[1,0,:,1]),UUA[1,0,:,1])"
   ]
  },
  {
   "cell_type": "code",
   "execution_count": 8,
   "id": "328ca342",
   "metadata": {},
   "outputs": [],
   "source": [
    "# Caculate The Link Variables \n",
    "bi=bj=0 # Band Index\n",
    "U1=np.zeros([Nkx,Nky],dtype=complex)\n",
    "U2=np.zeros([Nkx,Nky],dtype=complex)\n",
    "for ikx,kx in enumerate(kkx):\n",
    "    for iky,ky in enumerate(kky):\n",
    "        s1=np.dot(np.conj(UUA[ikx,iky,:,bi]),UUA[np.mod(ikx+1,Nkx),iky,:,bj]) # ?\n",
    "        s2=np.dot(np.conj(UUA[ikx,iky,:,bj]),UUA[ikx,np.mod(iky+1,Nky),:,bi]) # ?\n",
    "        U1[ikx,iky]=s1/np.abs(s1)\n",
    "        U2[ikx,iky]=s2/np.abs(s2)\n",
    "        if np.abs(s1)==0:\n",
    "            print(\"s1=0\",ikx,iky,np.abs(s1))\n",
    "        if np.abs(s2)==0:\n",
    "            print(\"s2=0:\",ikx,iky,np.abs(s2)) "
   ]
  },
  {
   "cell_type": "code",
   "execution_count": 9,
   "id": "44528172",
   "metadata": {},
   "outputs": [],
   "source": [
    "# Calculate The Field Strength\n",
    "F12=np.zeros([Nkx,Nky],dtype=complex) \n",
    "for ikx,kx in enumerate(kkx):\n",
    "    for iky,ky in enumerate(kky):\n",
    "        F12[ikx,iky] = U1[ikx,iky]*U2[np.mod(ikx+1,Nkx),iky]/(U1[ikx,np.mod(iky+1,Nky)]*U2[ikx,iky])\n",
    "        F12[ikx,iky] = np.log(F12[ikx,iky])"
   ]
  },
  {
   "cell_type": "code",
   "execution_count": 10,
   "id": "87fa9660",
   "metadata": {},
   "outputs": [
    {
     "data": {
      "text/plain": [
       "(2.0446314040905597e-15+6.283185307179588j)"
      ]
     },
     "execution_count": 10,
     "metadata": {},
     "output_type": "execute_result"
    }
   ],
   "source": [
    "F12.shape # 9X27 (q=3)\n",
    "F12.sum() # Sum of All Elements of F12 Matrix"
   ]
  },
  {
   "cell_type": "code",
   "execution_count": 11,
   "id": "ba0f647f",
   "metadata": {},
   "outputs": [
    {
     "name": "stdout",
     "output_type": "stream",
     "text": [
      "Band Index: 0\n"
     ]
    },
    {
     "data": {
      "text/plain": [
       "(1.0000000000000002-3.254131947619351e-16j)"
      ]
     },
     "execution_count": 11,
     "metadata": {},
     "output_type": "execute_result"
    }
   ],
   "source": [
    "# Chern Number of Band Index\n",
    "print(\"Band Index:\",bi)\n",
    "F12.sum()/(2j*np.pi)"
   ]
  },
  {
   "cell_type": "code",
   "execution_count": 12,
   "id": "88c1a333",
   "metadata": {},
   "outputs": [
    {
     "data": {
      "image/png": "[encoded data removed]",
      "text/plain": [
       "<Figure size 640x480 with 1 Axes>"
      ]
     },
     "metadata": {},
     "output_type": "display_data"
    }
   ],
   "source": [
    "# Grafik Görüntülemesinde Scale Problemi Var!\n",
    "%matplotlib inline  \n",
    "#%matplotlib notebook\n",
    "from mpl_toolkits.mplot3d import Axes3D\n",
    "from matplotlib import cm\n",
    "fig = plt.figure()\n",
    "ax = fig.add_subplot(projection='3d')\n",
    "ax.set_aspect('equal')\n",
    "X,Y = np.meshgrid(kkx,kky,indexing='ij')\n",
    "Z=np.real(-1j*F12)\n",
    "surf = ax.plot_surface(X,Y,Z, cmap=cm.coolwarm,\n",
    "                       linewidth=0, antialiased=False)\n",
    "#plt.pcolor(np.real(F12/1j))"
   ]
  },
  {
   "cell_type": "markdown",
   "id": "4d7fac9e",
   "metadata": {},
   "source": [
    "###### Kagome Model"
   ]
  },
  {
   "cell_type": "code",
   "execution_count": 1,
   "id": "f1c0eaf7",
   "metadata": {},
   "outputs": [],
   "source": [
    "import numpy as np"
   ]
  },
  {
   "cell_type": "code",
   "execution_count": 2,
   "id": "c8a1b427",
   "metadata": {},
   "outputs": [],
   "source": [
    "# Bravais Vectors\n",
    "a1=np.array([2,0])\n",
    "a2=np.array([1,np.sqrt(3)])\n",
    "# Reciprocal Vectors\n",
    "b1x = (2*np.pi/(a1[0]*a2[1]-a1[1]*a2[0])) * a2[1]\n",
    "b1y = (2*np.pi/(a1[0]*a2[1]-a1[1]*a2[0])) * -a2[0]\n",
    "b2x = (2*np.pi/(a1[0]*a2[1]-a1[1]*a2[0])) * -a1[1]\n",
    "b2y = (2*np.pi/(a1[0]*a2[1]-a1[1]*a2[0])) * a1[0]\n",
    "b1=np.array([b1x,b1y]) \n",
    "b2=np.array([b2x,b2y]) "
   ]
  },
  {
   "cell_type": "code",
   "execution_count": 3,
   "id": "83e697b7",
   "metadata": {},
   "outputs": [],
   "source": [
    "# Kagome Matrix\n",
    "# t1=-1;L1=0;t2=0;L2=0\n",
    "# t1=-1;L1=-1;t2=0;L2=0\n",
    "t1=-1;L1=0.28;t2=0.3;L2=0.2\n",
    "cos = np.cos\n",
    "def Hamiltonian(kx,ky):\n",
    "    k1=kx; k2=kx/2+ky*np.sqrt(3)/2; k3=k2-k1\n",
    "    H = 2*t1*np.array([\n",
    "    [0, cos(k1), cos(k2)],\n",
    "    [cos(k1), 0, cos(k3)],        \n",
    "    [cos(k2), cos(k3), 0]\n",
    "    ])+2*1j*L1*np.array([\n",
    "    [0, cos(k1), -cos(k2)],\n",
    "    [-cos(k1), 0, cos(k3)],        \n",
    "    [cos(k2), -cos(k3), 0]\n",
    "    ])+2*t2*np.array([\n",
    "    [0, cos(k2+k3), cos(k3-k1)],\n",
    "    [cos(k2+k3), 0, cos(k1+k2)],\n",
    "    [cos(k3-k1), cos(k1+k2), 0]\n",
    "    ])+2*1j*L2*np.array([\n",
    "    [0, -cos(k2+k3), cos(k3-k1)],\n",
    "    [cos(k2+k3), 0, -cos(k1+k2)],\n",
    "    [-cos(k3-k1), cos(k1+k2), 0]\n",
    "    ])\n",
    "    return H"
   ]
  },
  {
   "cell_type": "code",
   "execution_count": 4,
   "id": "a81958ff",
   "metadata": {},
   "outputs": [],
   "source": [
    "# Discreatizing Brillioun Zone\n",
    "# N1 = N2 = 16\n",
    "# q1_list = np.arange(-N1//2,N1//2)\n",
    "# q1_list = q1_list/N1\n",
    "# q2_list =  np.arange(-N2//2,N2//2)\n",
    "# q2_list = q2_list/N2\n",
    "# Q = np.zeros([N1,N2,2])\n",
    "# for iq1, q1 in enumerate(q1_list):\n",
    "#     for iq2, q2 in enumerate(q2_list):\n",
    "#         Q[iq1,iq2,:] = q1*b1+q2*b2"
   ]
  },
  {
   "cell_type": "code",
   "execution_count": 4,
   "id": "09891ca0",
   "metadata": {},
   "outputs": [],
   "source": [
    "# Discreatizing Brillioun Zone\n",
    "N1 = N2 = 12\n",
    "q1_list = np.arange(-N1//2,N1//2, 1)\n",
    "q1_list = q1_list/N1\n",
    "q2_list =  np.arange(-N2//2,N2//2, 1)\n",
    "q2_list = q2_list/N2\n",
    "Q = []\n",
    "for q1 in q1_list:\n",
    "    for q2 in q2_list:\n",
    "        Q.append(q1*b1+q2*b2)\n",
    "Q = np.array(Q)\n",
    "kkx = Q[:,0]; kky = Q[:,1]"
   ]
  },
  {
   "cell_type": "code",
   "execution_count": 6,
   "id": "b78504f5",
   "metadata": {},
   "outputs": [],
   "source": [
    "# Eigenvalues and Eigenenergies of Matrix\n",
    "# EEA=np.empty([N1,N2,3])\n",
    "# UUA=np.empty([N1,N2,3,3],dtype=complex)\n",
    "# for iq1, q1 in enumerate(q1_list):\n",
    "#     for iq2, q2 in enumerate(q2_list):\n",
    "#         kx,ky=Q[iq1,iq2,:]\n",
    "#         EEA[iq1,iq2,:],UUA[iq1,iq2,:,:] = np.linalg.eigh(Hamiltonian(kx,ky))"
   ]
  },
  {
   "cell_type": "code",
   "execution_count": 5,
   "id": "69ab0e97",
   "metadata": {},
   "outputs": [],
   "source": [
    "q = 3\n",
    "EEA=np.empty([N1*N2,N1*N2,q])\n",
    "UUA=np.empty([N1*N2,N1*N2,q,q],dtype=complex)\n",
    "for ikx,kx in enumerate(kkx):\n",
    "    for iky,ky in enumerate(kky):       \n",
    "        EEA[ikx,iky,:],UUA[ikx,iky,:,:] = np.linalg.eigh(Hamiltonian(kx,ky)) "
   ]
  },
  {
   "cell_type": "code",
   "execution_count": 6,
   "id": "82a7f54c",
   "metadata": {},
   "outputs": [
    {
     "data": {
      "text/plain": [
       "Text(0, 0.5, 'E')"
      ]
     },
     "execution_count": 6,
     "metadata": {},
     "output_type": "execute_result"
    },
    {
     "data": {
      "image/png": "[encoded data removed]",
      "text/plain": [
       "<Figure size 640x480 with 1 Axes>"
      ]
     },
     "metadata": {},
     "output_type": "display_data"
    }
   ],
   "source": [
    "# Plot Energy Bands\n",
    "import matplotlib.pyplot as plt\n",
    "for i in range(3):\n",
    "        plt.plot(EEA[:,:,i].flatten(),'.') \n",
    "plt.ylabel(\"E\")"
   ]
  },
  {
   "cell_type": "code",
   "execution_count": 7,
   "id": "5ee205fe",
   "metadata": {},
   "outputs": [
    {
     "data": {
      "text/plain": [
       "(1+0j)"
      ]
     },
     "execution_count": 7,
     "metadata": {},
     "output_type": "execute_result"
    }
   ],
   "source": [
    "np.dot(np.conj(UUA[1,0,:,1]),UUA[1,0,:,1])"
   ]
  },
  {
   "cell_type": "code",
   "execution_count": 21,
   "id": "0c022da0",
   "metadata": {},
   "outputs": [],
   "source": [
    "# Caculate The Link Variables \n",
    "# bi=bj=2 # Band Index\n",
    "# U1=np.zeros([N1,N2],dtype=complex)\n",
    "# U2=np.zeros([N1,N2],dtype=complex)\n",
    "# for iq1, q1 in enumerate(q1_list):\n",
    "#     for iq2, q2 in enumerate(q2_list):\n",
    "#         s1=np.dot(np.conj(UUA[iq1,iq2,:,bi]),UUA[np.mod(iq1+1,N1),iq2,:,bj]) \n",
    "#         s2=np.dot(np.conj(UUA[iq1,iq2,:,bj]),UUA[iq1,np.mod(iq2+1,N2),:,bi]) \n",
    "#         U1[iq1,iq2]=s1/np.abs(s1)\n",
    "#         U2[iq1,iq2]=s2/np.abs(s2)"
   ]
  },
  {
   "cell_type": "markdown",
   "id": "590ed740",
   "metadata": {},
   "source": [
    "Square Lattice:\n",
    "\\begin{equation}\n",
    "    |\\mu| = \\frac{2\\pi}{q_\\mu N_\\mu} , \\mu=1,2 \\\\\n",
    "    U_\\mu(k_l) = \\frac{<n(k_l)|n(k_l+\\mu)>}{|<n(k_l)|n(k_l+\\mu)>|}\n",
    "\\end{equation}"
   ]
  },
  {
   "cell_type": "code",
   "execution_count": 26,
   "id": "b9546055",
   "metadata": {},
   "outputs": [
    {
     "data": {
      "text/plain": [
       "0.07757018897752575"
      ]
     },
     "execution_count": 26,
     "metadata": {},
     "output_type": "execute_result"
    }
   ],
   "source": [
    "q=3;N1=q*q;N2=q*N1\n",
    "mu = 2*np.pi / (q*N2)\n",
    "mu"
   ]
  },
  {
   "cell_type": "code",
   "execution_count": 12,
   "id": "a30c8656",
   "metadata": {},
   "outputs": [],
   "source": [
    "bi=bj=0 # Band Index\n",
    "U1=np.zeros([N1*N2,N1*N2],dtype=complex)\n",
    "U2=np.zeros([N1*N2,N1*N2],dtype=complex)\n",
    "for ikx,kx in enumerate(kkx):\n",
    "    for iky,ky in enumerate(kky): \n",
    "        s1=np.dot(np.conj(UUA[ikx,iky,:,bi]),UUA[np.mod(ikx+1,N1),iky,:,bj]) \n",
    "        s2=np.dot(np.conj(UUA[ikx,iky,:,bi]),UUA[ikx,np.mod(iky+1,N2),:,bj]) \n",
    "        U1[ikx,iky]=s1/np.abs(s1)\n",
    "        U2[ikx,iky]=s2/np.abs(s2)"
   ]
  },
  {
   "cell_type": "code",
   "execution_count": 13,
   "id": "ec374796",
   "metadata": {},
   "outputs": [
    {
     "data": {
      "text/plain": [
       "(-3.552713678800501e-15+5.710570138660694e-15j)"
      ]
     },
     "execution_count": 13,
     "metadata": {},
     "output_type": "execute_result"
    }
   ],
   "source": [
    "A1=np.log(U1)\n",
    "A2=np.log(U2)\n",
    "F12=np.log( U1*np.roll(U2,-1,axis=0)*np.conj(np.roll(U1,-1,axis=1)*U2) )\n",
    "n12=( F12 - np.roll(A2,-1,axis=0)+A2 + np.roll(A1,-1,axis=1)-A1 )/(2j*np.pi)\n",
    "np.sum(n12)"
   ]
  },
  {
   "cell_type": "code",
   "execution_count": 14,
   "id": "2c1bc2af",
   "metadata": {},
   "outputs": [],
   "source": [
    "# Calculate The Field Strength\n",
    "# F12=np.zeros([N1,N2],dtype=complex) \n",
    "# for iq1, q1 in enumerate(q1_list):\n",
    "#     for iq2, q2 in enumerate(q2_list):\n",
    "#         F12[iq1,iq2] = U1[iq1,iq2]*U2[np.mod(iq1+1,N1),iq2]/(U1[iq1,np.mod(iq2+1,N2)]*U2[iq1,iq2])\n",
    "#         F12[iq1,iq2] = np.log(F12[iq1,iq2])"
   ]
  },
  {
   "cell_type": "code",
   "execution_count": 15,
   "id": "9f04c153",
   "metadata": {},
   "outputs": [],
   "source": [
    "F12=np.zeros([N1*N2,N1*N2],dtype=complex) \n",
    "for ikx,kx in enumerate(kkx):\n",
    "    for iky,ky in enumerate(kky): \n",
    "        F12[ikx,iky] = U1[ikx,iky]*U2[np.mod(ikx+1,N1*N2),iky]/(U1[ikx,np.mod(iky+1,N2*N1)]*U2[ikx,iky]) # N1*N2\n",
    "        F12[ikx,iky] = np.log(F12[ikx,iky])"
   ]
  },
  {
   "cell_type": "code",
   "execution_count": 16,
   "id": "ac9dc170",
   "metadata": {},
   "outputs": [
    {
     "name": "stdout",
     "output_type": "stream",
     "text": [
      "Band Index: 0\n"
     ]
    },
    {
     "data": {
      "text/plain": [
       "-1.8074923179401898e-16j"
      ]
     },
     "execution_count": 16,
     "metadata": {},
     "output_type": "execute_result"
    }
   ],
   "source": [
    "# Chern Number of Band Index\n",
    "print(\"Band Index:\",bi)\n",
    "F12.sum()/(2j*np.pi)\n",
    "\n",
    "# [-2, -1, 6] (t1=-1,t2=L1=L2=0)\n",
    "# [5, -10, -7] (t1=-1,t2=0,L1=-1,L2=0)\n",
    "# [0, 22, 0] (t1=-1,t2=0.28,L1=0.3,L2=0.2)"
   ]
  },
  {
   "cell_type": "markdown",
   "id": "28879944",
   "metadata": {},
   "source": [
    "# Method #2"
   ]
  },
  {
   "cell_type": "markdown",
   "id": "d8f8d846",
   "metadata": {},
   "source": [
    "###### Hofstadter Model"
   ]
  },
  {
   "cell_type": "markdown",
   "id": "b64704c5",
   "metadata": {},
   "source": [
    "Bu yöntem ile hesapta, çift sayılarda Chern sayıları yanlı geliyor."
   ]
  },
  {
   "cell_type": "code",
   "execution_count": 1,
   "id": "b8cde51f",
   "metadata": {},
   "outputs": [],
   "source": [
    "import numpy as np"
   ]
  },
  {
   "cell_type": "code",
   "execution_count": 17,
   "id": "572e922e",
   "metadata": {},
   "outputs": [],
   "source": [
    "size = 6\n",
    "def H_k(k_vec, size): #k_vec = [kx,ky]\n",
    "    Hk = np.zeros((size,size), dtype=complex)\n",
    "    t = 1;p = 1;q = size;phi = p/q\n",
    "    kx = k_vec[0];ky = k_vec[1] \n",
    "    for i in range(0, size):\n",
    "        Hk[i,i] = -2*t*np.cos(ky-2*i*np.pi*phi)\n",
    "        if i==size-1:\n",
    "            Hk[i,i-1] = 1\n",
    "        elif i==0:\n",
    "            Hk[i,i+1] = 1\n",
    "        else:\n",
    "            Hk[i,i-1] = 1\n",
    "            Hk[i,i+1] = 1\n",
    "        Hk[0,size-1]= -t*np.exp(-q*1.j*kx)\n",
    "        Hk[size-1,0]= -t*np.exp(q*1.j*kx)\n",
    "    return Hk"
   ]
  },
  {
   "cell_type": "markdown",
   "id": "e0e961a2",
   "metadata": {},
   "source": [
    "$$\\newcommand{\\ket}[1]{\\left|{#1}\\right\\rangle}$$\n",
    "$$\\newcommand{\\bra}[1]{\\left\\langle{#1}\\right|}$$\n",
    "$$\\newcommand{\\braket}[2]{\\left\\langle{#1}\\middle|{#2}\\right\\rangle}$$\n",
    "\\begin{align}\n",
    "U_\\mu(k_l) = \\frac{ \\braket{n(k_l)}{n(k_l+\\mu)} }{ |\\braket{n(k_l)}{n(k_l+\\mu)}|}\n",
    "\\end{align}"
   ]
  },
  {
   "cell_type": "code",
   "execution_count": 3,
   "id": "6e2a3836",
   "metadata": {},
   "outputs": [],
   "source": [
    "def build_U(vec1, vec2):\n",
    "    inner_product = np.dot(vec1, vec2.conj())\n",
    "    U = inner_product / np.abs(inner_product)\n",
    "    return U"
   ]
  },
  {
   "cell_type": "markdown",
   "id": "85967f75",
   "metadata": {},
   "source": [
    "\\begin{equation}\n",
    "F_{12}(k_l) = \\ln{ U_1(k_l)U_2(k_l+\\hat{1})U_1(k_l+\\hat{2})^{-1}U_2(k_l)^{-1} }\n",
    "\\end{equation}"
   ]
  },
  {
   "cell_type": "code",
   "execution_count": 19,
   "id": "01b87b66",
   "metadata": {},
   "outputs": [],
   "source": [
    "def latF(k_vec, Dk, size):\n",
    "    k = k_vec\n",
    "    E, aux = np.linalg.eig(H_k(k,size))\n",
    "    idx = E.argsort()\n",
    "    psi = aux[:,idx]\n",
    "\n",
    "    k = np.array([k_vec[0]+Dk[0], k_vec[1]], float)\n",
    "    E, aux = np.linalg.eig(H_k(k,size))\n",
    "    idx = E.argsort()\n",
    "    psiDx = aux[:,idx]\n",
    "\n",
    "    k = np.array([k_vec[0], k_vec[1]+Dk[1]], float)\n",
    "    E, aux = np.linalg.eig(H_k(k,size))\n",
    "    idx = E.argsort()\n",
    "    psiDy = aux[:,idx]\n",
    "\n",
    "    k = np.array([k_vec[0]+Dk[0], k_vec[1]+Dk[1]], float)\n",
    "    E, aux = np.linalg.eig(H_k(k,size))\n",
    "    idx = E.argsort()\n",
    "    psiDxDy = aux[:,idx]\n",
    "\n",
    "    U1x = np.zeros((size), dtype=complex)\n",
    "    U2y = np.zeros((size), dtype=complex)\n",
    "    U1y = np.zeros((size), dtype=complex)\n",
    "    U2x = np.zeros((size), dtype=complex)\n",
    "\n",
    "    for i in range(size): \n",
    "        U1x[i] = build_U(psi[:,i], psiDx[:,i])\n",
    "        U2y[i] = build_U(psi[:,i], psiDy[:,i])\n",
    "        U1y[i] = build_U(psiDy[:,i], psiDxDy[:,i])\n",
    "        U2x[i] = build_U(psiDx[:,i], psiDxDy[:,i])\n",
    "        \n",
    "    F12 = np.log(U1x*U2x*1/U1y*1/U2y)\n",
    "\n",
    "    return F12"
   ]
  },
  {
   "cell_type": "code",
   "execution_count": 20,
   "id": "a891e6c0",
   "metadata": {},
   "outputs": [],
   "source": [
    "N1=N2=25;q=size\n",
    "Dx = (2*np.pi/q)/N1\n",
    "Dy = (2*np.pi)/N2\n",
    "Dk = np.array([Dx,Dy], float)"
   ]
  },
  {
   "cell_type": "code",
   "execution_count": 22,
   "id": "958beea5",
   "metadata": {},
   "outputs": [
    {
     "name": "stdout",
     "output_type": "stream",
     "text": [
      "[ 3.42010469e-15 -6.28318531j -1.46335996e-15 -6.28318531j\n",
      " -1.99748333e-15+31.41592654j -9.26267953e-16+31.41592654j\n",
      "  8.17334736e-15 -6.28318531j -2.29936093e-15 -6.28318531j]\n"
     ]
    },
    {
     "data": {
      "text/plain": [
       "array([-1., -1.,  5.,  5., -1., -1.])"
      ]
     },
     "execution_count": 22,
     "metadata": {},
     "output_type": "execute_result"
    }
   ],
   "source": [
    "Sum = np.zeros((q), dtype=complex)\n",
    "for ix in range(N1):\n",
    "    kx = ix*Dx\n",
    "    for iy in range(N2):\n",
    "        ky = iy*Dy\n",
    "        k_vec = np.array([kx,ky], float)\n",
    "        Sum += latF(k_vec, Dk, size) # Imaginary Numbers\n",
    "print(Sum)\n",
    "Sum.imag/(2*np.pi)"
   ]
  },
  {
   "cell_type": "markdown",
   "id": "98c337ec",
   "metadata": {},
   "source": [
    "###### Kagome Model"
   ]
  },
  {
   "cell_type": "code",
   "execution_count": 1,
   "id": "073145e3",
   "metadata": {},
   "outputs": [],
   "source": [
    "import numpy as np"
   ]
  },
  {
   "cell_type": "code",
   "execution_count": 2,
   "id": "5656981c",
   "metadata": {},
   "outputs": [],
   "source": [
    "# Bravais Vectors\n",
    "a1=np.array([2,0])\n",
    "a2=np.array([1,np.sqrt(3)])\n",
    "# Reciprocal Vectors\n",
    "b1x = (2*np.pi/(a1[0]*a2[1]-a1[1]*a2[0])) * a2[1]\n",
    "b1y = (2*np.pi/(a1[0]*a2[1]-a1[1]*a2[0])) * -a2[0]\n",
    "b2x = (2*np.pi/(a1[0]*a2[1]-a1[1]*a2[0])) * -a1[1]\n",
    "b2y = (2*np.pi/(a1[0]*a2[1]-a1[1]*a2[0])) * a1[0]\n",
    "b1=np.array([b1x,b1y]) \n",
    "b2=np.array([b2x,b2y]) "
   ]
  },
  {
   "cell_type": "code",
   "execution_count": 3,
   "id": "385c3d8a",
   "metadata": {},
   "outputs": [],
   "source": [
    "# Kagome Matrix\n",
    "# t1=-1;L1=0;t2=0;L2=0\n",
    "# t1=-1;L1=-1;t2=0;L2=0\n",
    "t1=-1;L1=0.28;t2=0.3;L2=0.2\n",
    "cos = np.cos;q=size=3\n",
    "def Hamiltonian(k_vec):\n",
    "    kx = k_vec[0];ky = k_vec[1]\n",
    "    k1=kx; k2=kx/2+ky*np.sqrt(3)/2; k3=k2-k1\n",
    "    H = 2*t1*np.array([\n",
    "    [0, cos(k1), cos(k2)],\n",
    "    [cos(k1), 0, cos(k3)],        \n",
    "    [cos(k2), cos(k3), 0]\n",
    "    ])+2*1j*L1*np.array([\n",
    "    [0, cos(k1), -cos(k2)],\n",
    "    [-cos(k1), 0, cos(k3)],        \n",
    "    [cos(k2), -cos(k3), 0]\n",
    "    ])+2*t2*np.array([\n",
    "    [0, cos(k2+k3), cos(k3-k1)],\n",
    "    [cos(k2+k3), 0, cos(k1+k2)],\n",
    "    [cos(k3-k1), cos(k1+k2), 0]\n",
    "    ])+2*1j*L2*np.array([\n",
    "    [0, -cos(k2+k3), cos(k3-k1)],\n",
    "    [cos(k2+k3), 0, -cos(k1+k2)],\n",
    "    [-cos(k3-k1), cos(k1+k2), 0]\n",
    "    ])\n",
    "    return H"
   ]
  },
  {
   "cell_type": "code",
   "execution_count": 4,
   "id": "237a9ebd",
   "metadata": {},
   "outputs": [],
   "source": [
    "def build_U(vec1, vec2):\n",
    "    inner_product = np.dot(vec1, vec2.conj())\n",
    "    U = inner_product / np.abs(inner_product)\n",
    "    return U"
   ]
  },
  {
   "cell_type": "code",
   "execution_count": 5,
   "id": "0c2c69aa",
   "metadata": {},
   "outputs": [],
   "source": [
    "def latF(k_vec, Dk, size):\n",
    "    k = k_vec\n",
    "    E, aux = np.linalg.eig(Hamiltonian(k))\n",
    "    idx = E.argsort()\n",
    "    psi = aux[:,idx]\n",
    "\n",
    "    k = np.array([k_vec[0]+Dk[0], k_vec[1]], float)\n",
    "    E, aux = np.linalg.eig(Hamiltonian(k))\n",
    "    idx = E.argsort()\n",
    "    psiDx = aux[:,idx]\n",
    "\n",
    "    k = np.array([k_vec[0], k_vec[1]+Dk[1]], float)\n",
    "    E, aux = np.linalg.eig(Hamiltonian(k))\n",
    "    idx = E.argsort()\n",
    "    psiDy = aux[:,idx]\n",
    "\n",
    "    k = np.array([k_vec[0]+Dk[0], k_vec[1]+Dk[1]], float)\n",
    "    E, aux = np.linalg.eig(Hamiltonian(k))\n",
    "    idx = E.argsort()\n",
    "    psiDxDy = aux[:,idx]\n",
    "\n",
    "    U1x = np.zeros((size), dtype=complex)\n",
    "    U2y = np.zeros((size), dtype=complex)\n",
    "    U1y = np.zeros((size), dtype=complex)\n",
    "    U2x = np.zeros((size), dtype=complex)\n",
    "\n",
    "    for i in range(size): \n",
    "        U1x[i] = build_U(psi[:,i], psiDx[:,i])\n",
    "        U2y[i] = build_U(psi[:,i], psiDy[:,i])\n",
    "        U1y[i] = build_U(psiDy[:,i], psiDxDy[:,i])\n",
    "        U2x[i] = build_U(psiDx[:,i], psiDxDy[:,i])\n",
    "        \n",
    "    F12 = np.log(U1x*U2x*1/U1y*1/U2y)\n",
    "\n",
    "    return F12"
   ]
  },
  {
   "cell_type": "code",
   "execution_count": 6,
   "id": "90004b5a",
   "metadata": {},
   "outputs": [],
   "source": [
    "# Discreatizing Brillioun Zone\n",
    "N1 = N2 = 12\n",
    "A = b1/N2\n",
    "R = np.sqrt(A[0]**2+A[1]**2)\n",
    "q1_list = np.arange(-N1//2,N1//2, 1)\n",
    "q1_list = q1_list/N1\n",
    "q2_list =  np.arange(-N2//2,N2//2, 1)\n",
    "q2_list = q2_list/N2\n",
    "Q = []\n",
    "for q1 in q1_list:\n",
    "    for q2 in q2_list:\n",
    "        Q.append(q1*b1+q2*b2)\n",
    "Dk = np.array([R,R], float)"
   ]
  },
  {
   "cell_type": "code",
   "execution_count": 8,
   "id": "81fdc875",
   "metadata": {},
   "outputs": [
    {
     "name": "stdout",
     "output_type": "stream",
     "text": [
      "[3.13611068e-14-1.04474843e+03j 1.78630526e-13+1.51437808e-03j\n",
      " 3.01684133e-13+1.04474698e+03j]\n"
     ]
    },
    {
     "data": {
      "text/plain": [
       "array([-1.66276878e+02,  2.41020757e-04,  1.66276646e+02])"
      ]
     },
     "execution_count": 8,
     "metadata": {},
     "output_type": "execute_result"
    }
   ],
   "source": [
    "Q = np.array(Q)\n",
    "Sum = np.zeros((q), dtype=complex)\n",
    "for kx in Q[:,0]:\n",
    "    for ky in Q[:,1]:\n",
    "        k_vec = np.array([kx,ky], float)\n",
    "        Sum += latF(k_vec, Dk, size) \n",
    "print(Sum)\n",
    "Sum.imag/(2*np.pi)"
   ]
  },
  {
   "cell_type": "code",
   "execution_count": null,
   "id": "b19075b7",
   "metadata": {},
   "outputs": [],
   "source": []
  }
 ],
 "metadata": {
  "kernelspec": {
   "display_name": "Python 3 (ipykernel)",
   "language": "python",
   "name": "python3"
  },
  "language_info": {
   "codemirror_mode": {
    "name": "ipython",
    "version": 3
   },
   "file_extension": ".py",
   "mimetype": "text/x-python",
   "name": "python",
   "nbconvert_exporter": "python",
   "pygments_lexer": "ipython3",
   "version": "3.9.13"
  }
 },
 "nbformat": 4,
 "nbformat_minor": 5
}
