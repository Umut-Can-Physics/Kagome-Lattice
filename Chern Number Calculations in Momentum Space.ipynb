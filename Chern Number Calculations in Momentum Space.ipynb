{
 "cells": [
  {
   "cell_type": "markdown",
   "id": "9a19edc1",
   "metadata": {},
   "source": [
    "# Method #1"
   ]
  },
  {
   "cell_type": "markdown",
   "id": "c12606b0",
   "metadata": {},
   "source": [
    "# Hofstadter Model"
   ]
  },
  {
   "cell_type": "code",
   "execution_count": null,
   "id": "6463dab2",
   "metadata": {},
   "outputs": [],
   "source": [
    "import numpy as np"
   ]
  },
  {
   "cell_type": "code",
   "execution_count": 2,
   "id": "3c084521",
   "metadata": {},
   "outputs": [],
   "source": [
    "# Hofstadter Matrix\n",
    "q=3\n",
    "def Hq(kx, ky, q):\n",
    "    Hk = np.zeros((q,q), dtype=complex)\n",
    "    t = 1;p = 1;phi = p/q\n",
    "    for i in range(0, q):\n",
    "        Hk[i,i] = -2*t*np.cos(ky-2*i*np.pi*phi)\n",
    "        if i==q-1:\n",
    "            Hk[i,i-1] = 1\n",
    "        elif i==0:\n",
    "            Hk[i,i+1] = 1\n",
    "        else:\n",
    "            Hk[i,i-1] = 1\n",
    "            Hk[i,i+1] = 1\n",
    "        Hk[0,q-1]= -t*np.exp(-q*1.j*kx)\n",
    "        Hk[q-1,0]= -t*np.exp(q*1.j*kx)\n",
    "    return Hk"
   ]
  },
  {
   "cell_type": "code",
   "execution_count": 3,
   "id": "b2ac7b94",
   "metadata": {},
   "outputs": [],
   "source": [
    "# Discreatizing Brillioun Zone\n",
    "Nkx = q*q\n",
    "Nky = q*Nkx\n",
    "kkx=np.linspace(0,2.*np.pi/q,Nkx,endpoint=False)\n",
    "kky=np.linspace(0,2.*np.pi,Nky,endpoint=False)"
   ]
  },
  {
   "cell_type": "code",
   "execution_count": 4,
   "id": "a06870ff",
   "metadata": {},
   "outputs": [],
   "source": [
    "# Eigenvalues and Eigenenergies of Matrix\n",
    "EEA=np.empty([Nkx,Nky,q])\n",
    "UUA=np.empty([Nkx,Nky,q,q],dtype=complex)\n",
    "for ikx, kx in enumerate(kkx):\n",
    "    for iky, ky in enumerate(kky):\n",
    "        EEA[ikx,iky,:],UUA[ikx,iky,:,:] = np.linalg.eigh(Hq(kx,ky,q))"
   ]
  },
  {
   "cell_type": "code",
   "execution_count": 6,
   "id": "48c99c23",
   "metadata": {},
   "outputs": [
    {
     "data": {
      "text/plain": [
       "Text(0.5, 1.0, 'q=3')"
      ]
     },
     "execution_count": 6,
     "metadata": {},
     "output_type": "execute_result"
    },
    {
     "data": {
      "image/png": "[encoded data removed]",
      "text/plain": [
       "<Figure size 640x480 with 1 Axes>"
      ]
     },
     "metadata": {},
     "output_type": "display_data"
    }
   ],
   "source": [
    "# Plot Energy Bands\n",
    "import matplotlib.pyplot as plt\n",
    "for i in range(q):\n",
    "        plt.plot(EEA[:,:,i].flatten(),'.') \n",
    "plt.ylabel(\"E\")\n",
    "plt.title(\"q=\"+str(q))"
   ]
  },
  {
   "cell_type": "markdown",
   "id": "170a3d86",
   "metadata": {},
   "source": [
    "\\begin{equation}\n",
    "    <U_i|U_j> = \\delta_{ij}\n",
    "\\end{equation}"
   ]
  },
  {
   "cell_type": "code",
   "execution_count": 7,
   "id": "b0646447",
   "metadata": {},
   "outputs": [
    {
     "data": {
      "text/plain": [
       "(0.9999999999999997+0j)"
      ]
     },
     "execution_count": 7,
     "metadata": {},
     "output_type": "execute_result"
    }
   ],
   "source": [
    "# Diklik Bağıntısı\n",
    "np.dot(np.conj(UUA[1,0,:,1]),UUA[1,0,:,1])"
   ]
  },
  {
   "cell_type": "code",
   "execution_count": 8,
   "id": "328ca342",
   "metadata": {},
   "outputs": [],
   "source": [
    "# Caculate The Link Variables \n",
    "bi=bj=0 # Band Index\n",
    "U1=np.zeros([Nkx,Nky],dtype=complex)\n",
    "U2=np.zeros([Nkx,Nky],dtype=complex)\n",
    "for ikx,kx in enumerate(kkx):\n",
    "    for iky,ky in enumerate(kky):\n",
    "        s1=np.dot(np.conj(UUA[ikx,iky,:,bi]),UUA[np.mod(ikx+1,Nkx),iky,:,bj]) # ?\n",
    "        s2=np.dot(np.conj(UUA[ikx,iky,:,bj]),UUA[ikx,np.mod(iky+1,Nky),:,bi]) # ?\n",
    "        U1[ikx,iky]=s1/np.abs(s1)\n",
    "        U2[ikx,iky]=s2/np.abs(s2)\n",
    "        if np.abs(s1)==0:\n",
    "            print(\"s1=0\",ikx,iky,np.abs(s1))\n",
    "        if np.abs(s2)==0:\n",
    "            print(\"s2=0:\",ikx,iky,np.abs(s2)) "
   ]
  },
  {
   "cell_type": "code",
   "execution_count": 9,
   "id": "44528172",
   "metadata": {},
   "outputs": [],
   "source": [
    "# Calculate The Field Strength\n",
    "F12=np.zeros([Nkx,Nky],dtype=complex) \n",
    "for ikx,kx in enumerate(kkx):\n",
    "    for iky,ky in enumerate(kky):\n",
    "        F12[ikx,iky] = U1[ikx,iky]*U2[np.mod(ikx+1,Nkx),iky]/(U1[ikx,np.mod(iky+1,Nky)]*U2[ikx,iky])\n",
    "        F12[ikx,iky] = np.log(F12[ikx,iky])"
   ]
  },
  {
   "cell_type": "code",
   "execution_count": 11,
   "id": "ba0f647f",
   "metadata": {},
   "outputs": [
    {
     "name": "stdout",
     "output_type": "stream",
     "text": [
      "Band Index: 0\n"
     ]
    },
    {
     "data": {
      "text/plain": [
       "(1.0000000000000002-3.254131947619351e-16j)"
      ]
     },
     "execution_count": 11,
     "metadata": {},
     "output_type": "execute_result"
    }
   ],
   "source": [
    "# Chern Number of Band Index\n",
    "print(\"Band Index:\",bi)\n",
    "F12.sum()/(2j*np.pi)"
   ]
  },
  {
   "cell_type": "markdown",
   "id": "ab913581",
   "metadata": {},
   "source": [
    "# BE CAREFUL!\n",
    "### ! Two models use common variables! "
   ]
  },
  {
   "cell_type": "markdown",
   "id": "4d7fac9e",
   "metadata": {},
   "source": [
    "# Kagome Model"
   ]
  },
  {
   "cell_type": "code",
   "execution_count": 1,
   "id": "f1c0eaf7",
   "metadata": {},
   "outputs": [],
   "source": [
    "import numpy as np"
   ]
  },
  {
   "cell_type": "code",
   "execution_count": 14,
   "id": "c8a1b427",
   "metadata": {},
   "outputs": [
    {
     "name": "stdout",
     "output_type": "stream",
     "text": [
      "b1=[ 3.14159265 -1.81379936], |b1|=3.6275987284684357\n",
      "b1=[0.         3.62759873], |b2|=3.6275987284684357\n",
      "3.9999999999999996\n"
     ]
    }
   ],
   "source": [
    "# Bravais Vectors\n",
    "a1=np.array([2,0])\n",
    "a2=np.array([1,np.sqrt(3)])\n",
    "# Basis Vectors\n",
    "a1_b=a1/2\n",
    "a2_b=a2/2\n",
    "# Reciprocal Vectors\n",
    "b1x = (2*np.pi/(a1[0]*a2[1]-a1[1]*a2[0])) * a2[1]\n",
    "b1y = (2*np.pi/(a1[0]*a2[1]-a1[1]*a2[0])) * -a2[0]\n",
    "b2x = (2*np.pi/(a1[0]*a2[1]-a1[1]*a2[0])) * -a1[1]\n",
    "b2y = (2*np.pi/(a1[0]*a2[1]-a1[1]*a2[0])) * a1[0]\n",
    "b1=np.array([b1x,b1y]) \n",
    "b2=np.array([b2x,b2y]) \n",
    "\n",
    "print(f'b1={b1}, |b1|={np.linalg.norm(b1)}')\n",
    "print(f'b1={b2}, |b2|={np.linalg.norm(b2)}')\n",
    "\n",
    "print( (a1[0]*a2[1]-a1[1]*a2[0]) * (b1[0]*b2[1]-b1[1]*b2[0]) / np.pi/np.pi ) "
   ]
  },
  {
   "cell_type": "code",
   "execution_count": 88,
   "id": "83e697b7",
   "metadata": {},
   "outputs": [],
   "source": [
    "# Hopping Parameters\n",
    "# t1=-1;L1=0;t2=0;L2=0 # NN\n",
    "# t1=-1;L1=1;t2=0;L2=0 # Complex NN (Well-Defined Berry Curvature)\n",
    "# t1=0;L1=0;t2=-1;L2=-1 # Complex NNN\n",
    "t1=-1;L1=0.28;t2=0.3;L2=0.2 # Complex NNN (Well-Defined Berry Curvature)\n",
    "# Kagome Matrix\n",
    "def Hamiltonian(kx,ky):\n",
    "    k1=np.dot([kx,ky],a1_b);k2=np.dot([kx,ky],a2_b);k3=k2-k1 # Convention\n",
    "    H = 2*t1*np.array([\n",
    "    [0, np.cos(k1), np.cos(k2)],\n",
    "    [np.cos(k1), 0, np.cos(k3)],        \n",
    "    [np.cos(k2), np.cos(k3), 0]\n",
    "    ])+2*1j*L1*np.array([\n",
    "    [0, np.cos(k1), -np.cos(k2)],\n",
    "    [-np.cos(k1), 0, np.cos(k3)],        \n",
    "    [np.cos(k2), -np.cos(k3), 0]\n",
    "    ])+2*t2*np.array([\n",
    "    [0, np.cos(k2+k3), np.cos(k3-k1)],\n",
    "    [np.cos(k2+k3), 0, np.cos(k1+k2)],\n",
    "    [np.cos(k3-k1), np.cos(k1+k2), 0]\n",
    "    ])+2*1j*L2*np.array([\n",
    "    [0, -np.cos(k2+k3), np.cos(k3-k1)],\n",
    "    [np.cos(k2+k3), 0, -np.cos(k1+k2)],\n",
    "    [-np.cos(k3-k1), np.cos(k1+k2), 0]\n",
    "    ])\n",
    "    return H"
   ]
  },
  {
   "cell_type": "code",
   "execution_count": 89,
   "id": "09891ca0",
   "metadata": {},
   "outputs": [],
   "source": [
    "# Discretizing Brillioun Zone\n",
    "N1 = N2 = 48\n",
    "# q1_list = np.arange(-N1//2,N1//2) / N1\n",
    "q11_list = np.linspace(-N1,N1,N1,endpoint=False) / N1\n",
    "# q2_list =  np.arange(-N2//2,N2//2) / N2\n",
    "q22_list = np.linspace(-N2,N2,N2,endpoint=False) / N2\n",
    "# Allowed k Pairs\n",
    "Q = np.zeros([N1,N2,2])\n",
    "for iq1, q1 in enumerate(q11_list):\n",
    "    for iq2, q2 in enumerate(q22_list):\n",
    "        Q[iq1,iq2,:] = q1*b1+q2*b2"
   ]
  },
  {
   "cell_type": "code",
   "execution_count": 90,
   "id": "b78504f5",
   "metadata": {},
   "outputs": [],
   "source": [
    "# Eigenvalues and Eigenenergies of Matrix\n",
    "q = (Hamiltonian(1,1).shape)[0] # Dimension of Matrix\n",
    "EEA=np.empty([N1,N2,q])\n",
    "UUA=np.empty([N1,N2,q,q],dtype=complex)\n",
    "for iq1, q1 in enumerate(q11_list):\n",
    "    for iq2, q2 in enumerate(q22_list):\n",
    "        kx,ky=Q[iq1,iq2,:]\n",
    "        EEA[iq1,iq2,:],UUA[iq1,iq2,:,:] = np.linalg.eigh(Hamiltonian(kx,ky))\n",
    "kx,ky=Q[0,1,:] # Bu çifte karşılık gelen k bileşenleri\n",
    "print(kx,ky)"
   ]
  },
  {
   "cell_type": "code",
   "execution_count": 91,
   "id": "82a7f54c",
   "metadata": {},
   "outputs": [
    {
     "data": {
      "text/plain": [
       "Text(0, 0.5, 'E')"
      ]
     },
     "execution_count": 91,
     "metadata": {},
     "output_type": "execute_result"
    },
    {
     "data": {
      "image/png": "[encoded data removed]",
      "text/plain": [
       "<Figure size 640x480 with 1 Axes>"
      ]
     },
     "metadata": {},
     "output_type": "display_data"
    }
   ],
   "source": [
    "# Plot Energy Bands\n",
    "import matplotlib.pyplot as plt\n",
    "for i in range(3):\n",
    "        plt.plot(EEA[:,:,i].flatten(),'.') "
   ]
  },
  {
   "cell_type": "code",
   "execution_count": 92,
   "id": "5ee205fe",
   "metadata": {},
   "outputs": [
    {
     "data": {
      "text/plain": [
       "(0.9999999999999998+0j)"
      ]
     },
     "execution_count": 92,
     "metadata": {},
     "output_type": "execute_result"
    }
   ],
   "source": [
    "# Diklik Bağıntısı\n",
    "np.dot(np.conj(UUA[1,0,:,1]),UUA[1,0,:,1])"
   ]
  },
  {
   "cell_type": "code",
   "execution_count": 102,
   "id": "0c022da0",
   "metadata": {},
   "outputs": [],
   "source": [
    "for bi in range(q): \n",
    "    # Caculate The Link Variables\n",
    "    bj = bi # Band index  \n",
    "    U1=np.zeros([N1,N2],dtype=complex)\n",
    "    U2=np.zeros([N1,N2],dtype=complex)\n",
    "    for iq1, q1 in enumerate(q11_list): # Orginal q1_list\n",
    "        for iq2, q2 in enumerate(q22_list): # Orginal q2_list\n",
    "            s1=np.dot(np.conj(UUA[iq1,iq2,:,bi]),UUA[np.mod(iq1+1,N1),iq2,:,bj]) \n",
    "            s2=np.dot(np.conj(UUA[iq1,iq2,:,bj]),UUA[iq1,np.mod(iq2+1,N2),:,bi]) \n",
    "            U1[iq1,iq2]=s1/np.abs(s1)\n",
    "            U2[iq1,iq2]=s2/np.abs(s2)\n",
    "    # Calculate The Field Strength\n",
    "    F12=np.zeros([N1,N2],dtype=complex) \n",
    "    for iq1, q1 in enumerate(q11_list):\n",
    "        for iq2, q2 in enumerate(q22_list):\n",
    "            F12[iq1,iq2] = U1[iq1,iq2]*U2[np.mod(iq1+1,N1),iq2]/(U1[iq1,np.mod(iq2+1,N2)]*U2[iq1,iq2])\n",
    "            F12[iq1,iq2] = np.log(F12[iq1,iq2])\n",
    "    # Alternative F12 Calculation \n",
    "    # F12=np.log( U1*np.roll(U2,-1,axis=0)*np.conj(np.roll(U1,-1,axis=1)*U2) )\n",
    "    # Chern Number of Band Index\n",
    "    print(\"Band Index:\",bi)\n",
    "    print(F12.sum()/(2j*np.pi))"
   ]
  },
  {
   "cell_type": "markdown",
   "id": "28879944",
   "metadata": {},
   "source": [
    "# Method #2"
   ]
  },
  {
   "cell_type": "markdown",
   "id": "d8f8d846",
   "metadata": {},
   "source": [
    "###### Hofstadter Model"
   ]
  },
  {
   "cell_type": "markdown",
   "id": "b64704c5",
   "metadata": {},
   "source": [
    "Bu yöntem ile hesapta, çift sayılarda Chern sayıları yanlı geliyor."
   ]
  },
  {
   "cell_type": "code",
   "execution_count": 1,
   "id": "b8cde51f",
   "metadata": {},
   "outputs": [],
   "source": [
    "import numpy as np"
   ]
  },
  {
   "cell_type": "code",
   "execution_count": 17,
   "id": "572e922e",
   "metadata": {},
   "outputs": [],
   "source": [
    "size = 6\n",
    "def H_k(k_vec, size): #k_vec = [kx,ky]\n",
    "    Hk = np.zeros((size,size), dtype=complex)\n",
    "    t = 1;p = 1;q = size;phi = p/q\n",
    "    kx = k_vec[0];ky = k_vec[1] \n",
    "    for i in range(0, size):\n",
    "        Hk[i,i] = -2*t*np.cos(ky-2*i*np.pi*phi)\n",
    "        if i==size-1:\n",
    "            Hk[i,i-1] = 1\n",
    "        elif i==0:\n",
    "            Hk[i,i+1] = 1\n",
    "        else:\n",
    "            Hk[i,i-1] = 1\n",
    "            Hk[i,i+1] = 1\n",
    "        Hk[0,size-1]= -t*np.exp(-q*1.j*kx)\n",
    "        Hk[size-1,0]= -t*np.exp(q*1.j*kx)\n",
    "    return Hk"
   ]
  },
  {
   "cell_type": "markdown",
   "id": "e0e961a2",
   "metadata": {},
   "source": [
    "$$\\newcommand{\\ket}[1]{\\left|{#1}\\right\\rangle}$$\n",
    "$$\\newcommand{\\bra}[1]{\\left\\langle{#1}\\right|}$$\n",
    "$$\\newcommand{\\braket}[2]{\\left\\langle{#1}\\middle|{#2}\\right\\rangle}$$\n",
    "\\begin{align}\n",
    "U_\\mu(k_l) = \\frac{ \\braket{n(k_l)}{n(k_l+\\mu)} }{ |\\braket{n(k_l)}{n(k_l+\\mu)}|}\n",
    "\\end{align}"
   ]
  },
  {
   "cell_type": "code",
   "execution_count": 3,
   "id": "6e2a3836",
   "metadata": {},
   "outputs": [],
   "source": [
    "def build_U(vec1, vec2):\n",
    "    inner_product = np.dot(vec1, vec2.conj())\n",
    "    U = inner_product / np.abs(inner_product)\n",
    "    return U"
   ]
  },
  {
   "cell_type": "markdown",
   "id": "85967f75",
   "metadata": {},
   "source": [
    "\\begin{equation}\n",
    "F_{12}(k_l) = \\ln{ U_1(k_l)U_2(k_l+\\hat{1})U_1(k_l+\\hat{2})^{-1}U_2(k_l)^{-1} }\n",
    "\\end{equation}"
   ]
  },
  {
   "cell_type": "code",
   "execution_count": 19,
   "id": "01b87b66",
   "metadata": {},
   "outputs": [],
   "source": [
    "def latF(k_vec, Dk, size):\n",
    "    k = k_vec\n",
    "    E, aux = np.linalg.eig(H_k(k,size))\n",
    "    idx = E.argsort()\n",
    "    psi = aux[:,idx]\n",
    "\n",
    "    k = np.array([k_vec[0]+Dk[0], k_vec[1]], float)\n",
    "    E, aux = np.linalg.eig(H_k(k,size))\n",
    "    idx = E.argsort()\n",
    "    psiDx = aux[:,idx]\n",
    "\n",
    "    k = np.array([k_vec[0], k_vec[1]+Dk[1]], float)\n",
    "    E, aux = np.linalg.eig(H_k(k,size))\n",
    "    idx = E.argsort()\n",
    "    psiDy = aux[:,idx]\n",
    "\n",
    "    k = np.array([k_vec[0]+Dk[0], k_vec[1]+Dk[1]], float)\n",
    "    E, aux = np.linalg.eig(H_k(k,size))\n",
    "    idx = E.argsort()\n",
    "    psiDxDy = aux[:,idx]\n",
    "\n",
    "    U1x = np.zeros((size), dtype=complex)\n",
    "    U2y = np.zeros((size), dtype=complex)\n",
    "    U1y = np.zeros((size), dtype=complex)\n",
    "    U2x = np.zeros((size), dtype=complex)\n",
    "\n",
    "    for i in range(size): \n",
    "        U1x[i] = build_U(psi[:,i], psiDx[:,i])\n",
    "        U2y[i] = build_U(psi[:,i], psiDy[:,i])\n",
    "        U1y[i] = build_U(psiDy[:,i], psiDxDy[:,i])\n",
    "        U2x[i] = build_U(psiDx[:,i], psiDxDy[:,i])\n",
    "        \n",
    "    F12 = np.log(U1x*U2x*1/U1y*1/U2y)\n",
    "\n",
    "    return F12"
   ]
  },
  {
   "cell_type": "code",
   "execution_count": 20,
   "id": "a891e6c0",
   "metadata": {},
   "outputs": [],
   "source": [
    "N1=N2=25;q=size\n",
    "Dx = (2*np.pi/q)/N1\n",
    "Dy = (2*np.pi)/N2\n",
    "Dk = np.array([Dx,Dy], float)"
   ]
  },
  {
   "cell_type": "code",
   "execution_count": 22,
   "id": "958beea5",
   "metadata": {},
   "outputs": [
    {
     "name": "stdout",
     "output_type": "stream",
     "text": [
      "[ 3.42010469e-15 -6.28318531j -1.46335996e-15 -6.28318531j\n",
      " -1.99748333e-15+31.41592654j -9.26267953e-16+31.41592654j\n",
      "  8.17334736e-15 -6.28318531j -2.29936093e-15 -6.28318531j]\n"
     ]
    },
    {
     "data": {
      "text/plain": [
       "array([-1., -1.,  5.,  5., -1., -1.])"
      ]
     },
     "execution_count": 22,
     "metadata": {},
     "output_type": "execute_result"
    }
   ],
   "source": [
    "Sum = np.zeros((q), dtype=complex)\n",
    "for ix in range(N1):\n",
    "    kx = ix*Dx\n",
    "    for iy in range(N2):\n",
    "        ky = iy*Dy\n",
    "        k_vec = np.array([kx,ky], float)\n",
    "        Sum += latF(k_vec, Dk, size) # Imaginary Numbers\n",
    "print(Sum)\n",
    "Sum.imag/(2*np.pi)"
   ]
  },
  {
   "cell_type": "markdown",
   "id": "98c337ec",
   "metadata": {},
   "source": [
    "###### Kagome Model"
   ]
  },
  {
   "cell_type": "code",
   "execution_count": 1,
   "id": "073145e3",
   "metadata": {},
   "outputs": [],
   "source": [
    "import numpy as np"
   ]
  },
  {
   "cell_type": "code",
   "execution_count": 2,
   "id": "5656981c",
   "metadata": {},
   "outputs": [],
   "source": [
    "# Bravais Vectors\n",
    "a1=np.array([2,0])\n",
    "a2=np.array([1,np.sqrt(3)])\n",
    "# Reciprocal Vectors\n",
    "b1x = (2*np.pi/(a1[0]*a2[1]-a1[1]*a2[0])) * a2[1]\n",
    "b1y = (2*np.pi/(a1[0]*a2[1]-a1[1]*a2[0])) * -a2[0]\n",
    "b2x = (2*np.pi/(a1[0]*a2[1]-a1[1]*a2[0])) * -a1[1]\n",
    "b2y = (2*np.pi/(a1[0]*a2[1]-a1[1]*a2[0])) * a1[0]\n",
    "b1=np.array([b1x,b1y]) \n",
    "b2=np.array([b2x,b2y]) "
   ]
  },
  {
   "cell_type": "code",
   "execution_count": 3,
   "id": "385c3d8a",
   "metadata": {},
   "outputs": [],
   "source": [
    "# Kagome Matrix\n",
    "# t1=-1;L1=0;t2=0;L2=0\n",
    "# t1=-1;L1=-1;t2=0;L2=0\n",
    "t1=-1;L1=0.28;t2=0.3;L2=0.2\n",
    "cos = np.cos;q=size=3\n",
    "def Hamiltonian(k_vec):\n",
    "    kx = k_vec[0];ky = k_vec[1]\n",
    "    k1=kx; k2=kx/2+ky*np.sqrt(3)/2; k3=k2-k1\n",
    "    H = 2*t1*np.array([\n",
    "    [0, cos(k1), cos(k2)],\n",
    "    [cos(k1), 0, cos(k3)],        \n",
    "    [cos(k2), cos(k3), 0]\n",
    "    ])+2*1j*L1*np.array([\n",
    "    [0, cos(k1), -cos(k2)],\n",
    "    [-cos(k1), 0, cos(k3)],        \n",
    "    [cos(k2), -cos(k3), 0]\n",
    "    ])+2*t2*np.array([\n",
    "    [0, cos(k2+k3), cos(k3-k1)],\n",
    "    [cos(k2+k3), 0, cos(k1+k2)],\n",
    "    [cos(k3-k1), cos(k1+k2), 0]\n",
    "    ])+2*1j*L2*np.array([\n",
    "    [0, -cos(k2+k3), cos(k3-k1)],\n",
    "    [cos(k2+k3), 0, -cos(k1+k2)],\n",
    "    [-cos(k3-k1), cos(k1+k2), 0]\n",
    "    ])\n",
    "    return H"
   ]
  },
  {
   "cell_type": "code",
   "execution_count": 4,
   "id": "237a9ebd",
   "metadata": {},
   "outputs": [],
   "source": [
    "def build_U(vec1, vec2):\n",
    "    inner_product = np.dot(vec1, vec2.conj())\n",
    "    U = inner_product / np.abs(inner_product)\n",
    "    return U"
   ]
  },
  {
   "cell_type": "code",
   "execution_count": 5,
   "id": "0c2c69aa",
   "metadata": {},
   "outputs": [],
   "source": [
    "def latF(k_vec, Dk, size):\n",
    "    k = k_vec\n",
    "    E, aux = np.linalg.eig(Hamiltonian(k))\n",
    "    idx = E.argsort()\n",
    "    psi = aux[:,idx]\n",
    "\n",
    "    k = np.array([k_vec[0]+Dk[0], k_vec[1]], float)\n",
    "    E, aux = np.linalg.eig(Hamiltonian(k))\n",
    "    idx = E.argsort()\n",
    "    psiDx = aux[:,idx]\n",
    "\n",
    "    k = np.array([k_vec[0], k_vec[1]+Dk[1]], float)\n",
    "    E, aux = np.linalg.eig(Hamiltonian(k))\n",
    "    idx = E.argsort()\n",
    "    psiDy = aux[:,idx]\n",
    "\n",
    "    k = np.array([k_vec[0]+Dk[0], k_vec[1]+Dk[1]], float)\n",
    "    E, aux = np.linalg.eig(Hamiltonian(k))\n",
    "    idx = E.argsort()\n",
    "    psiDxDy = aux[:,idx]\n",
    "\n",
    "    U1x = np.zeros((size), dtype=complex)\n",
    "    U2y = np.zeros((size), dtype=complex)\n",
    "    U1y = np.zeros((size), dtype=complex)\n",
    "    U2x = np.zeros((size), dtype=complex)\n",
    "\n",
    "    for i in range(size): \n",
    "        U1x[i] = build_U(psi[:,i], psiDx[:,i])\n",
    "        U2y[i] = build_U(psi[:,i], psiDy[:,i])\n",
    "        U1y[i] = build_U(psiDy[:,i], psiDxDy[:,i])\n",
    "        U2x[i] = build_U(psiDx[:,i], psiDxDy[:,i])\n",
    "        \n",
    "    F12 = np.log(U1x*U2x*1/U1y*1/U2y)\n",
    "\n",
    "    return F12"
   ]
  },
  {
   "cell_type": "code",
   "execution_count": 6,
   "id": "90004b5a",
   "metadata": {},
   "outputs": [],
   "source": [
    "# Discreatizing Brillioun Zone\n",
    "N1 = N2 = 12\n",
    "A = b1/N2\n",
    "R = np.sqrt(A[0]**2+A[1]**2)\n",
    "q1_list = np.arange(-N1//2,N1//2, 1)\n",
    "q1_list = q1_list/N1\n",
    "q2_list =  np.arange(-N2//2,N2//2, 1)\n",
    "q2_list = q2_list/N2\n",
    "Q = []\n",
    "for q1 in q1_list:\n",
    "    for q2 in q2_list:\n",
    "        Q.append(q1*b1+q2*b2)\n",
    "Dk = np.array([R,R], float)"
   ]
  },
  {
   "cell_type": "code",
   "execution_count": 8,
   "id": "81fdc875",
   "metadata": {},
   "outputs": [
    {
     "name": "stdout",
     "output_type": "stream",
     "text": [
      "[3.13611068e-14-1.04474843e+03j 1.78630526e-13+1.51437808e-03j\n",
      " 3.01684133e-13+1.04474698e+03j]\n"
     ]
    },
    {
     "data": {
      "text/plain": [
       "array([-1.66276878e+02,  2.41020757e-04,  1.66276646e+02])"
      ]
     },
     "execution_count": 8,
     "metadata": {},
     "output_type": "execute_result"
    }
   ],
   "source": [
    "Q = np.array(Q)\n",
    "Sum = np.zeros((q), dtype=complex)\n",
    "for kx in Q[:,0]:\n",
    "    for ky in Q[:,1]:\n",
    "        k_vec = np.array([kx,ky], float)\n",
    "        Sum += latF(k_vec, Dk, size) \n",
    "print(Sum)\n",
    "Sum.imag/(2*np.pi)"
   ]
  },
  {
   "cell_type": "code",
   "execution_count": null,
   "id": "b19075b7",
   "metadata": {},
   "outputs": [],
   "source": []
  }
 ],
 "metadata": {
  "kernelspec": {
   "display_name": "Python 3 (ipykernel)",
   "language": "python",
   "name": "python3"
  },
  "language_info": {
   "codemirror_mode": {
    "name": "ipython",
    "version": 3
   },
   "file_extension": ".py",
   "mimetype": "text/x-python",
   "name": "python",
   "nbconvert_exporter": "python",
   "pygments_lexer": "ipython3",
   "version": "3.8.13"
  }
 },
 "nbformat": 4,
 "nbformat_minor": 5
}
