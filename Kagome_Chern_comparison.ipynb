{
 "cells": [
  {
   "cell_type": "code",
   "execution_count": 1,
   "id": "selected-quick",
   "metadata": {},
   "outputs": [],
   "source": [
    "%load_ext autoreload\n",
    "%autoreload 2"
   ]
  },
  {
   "cell_type": "code",
   "execution_count": 2,
   "id": "hybrid-machinery",
   "metadata": {},
   "outputs": [],
   "source": [
    "from topo_lib import hatsugai, hamiltonians\n",
    "import numpy as np"
   ]
  },
  {
   "cell_type": "code",
   "execution_count": 3,
   "id": "younger-zimbabwe",
   "metadata": {},
   "outputs": [],
   "source": [
    "iq1=1; iq2=2\n",
    "kx, ky = iq1*hamiltonians.b1+iq2*hamiltonians.b2"
   ]
  },
  {
   "cell_type": "code",
   "execution_count": 4,
   "id": "latin-canberra",
   "metadata": {},
   "outputs": [],
   "source": [
    "args_dict={ 't1' : -1, 'L1' : 1,  't2': 0, 'L2': 0 }\n",
    "args_dict={ 't1' : -1, 'L1' : 0.28,  't2': 0.3, 'L2': 0.2 } \n",
    "args_dict={ 't1' : 0, 'L1' : 0,  't2': -1, 'L2': -1 }"
   ]
  },
  {
   "cell_type": "code",
   "execution_count": 5,
   "id": "committed-account",
   "metadata": {},
   "outputs": [
    {
     "data": {
      "text/plain": [
       "{'t1': 0, 'L1': 0, 't2': -1, 'L2': -1}"
      ]
     },
     "execution_count": 5,
     "metadata": {},
     "output_type": "execute_result"
    }
   ],
   "source": [
    "args_dict"
   ]
  },
  {
   "cell_type": "code",
   "execution_count": 6,
   "id": "enormous-rebate",
   "metadata": {},
   "outputs": [
    {
     "data": {
      "text/plain": [
       "array([[ 0.+0.j,  2.-2.j, -2.-2.j],\n",
       "       [ 2.+2.j,  0.+0.j,  2.-2.j],\n",
       "       [-2.+2.j,  2.+2.j,  0.+0.j]])"
      ]
     },
     "execution_count": 6,
     "metadata": {},
     "output_type": "execute_result"
    }
   ],
   "source": [
    "hamiltonians.Hamiltonian(kx,ky,**args_dict)"
   ]
  },
  {
   "cell_type": "code",
   "execution_count": 7,
   "id": "wicked-collins",
   "metadata": {},
   "outputs": [
    {
     "data": {
      "text/plain": [
       "array([[ 0.+0.j, -2.+2.j, -2.-2.j],\n",
       "       [-2.-2.j,  0.+0.j, -2.+2.j],\n",
       "       [-2.+2.j, -2.-2.j,  0.+0.j]])"
      ]
     },
     "execution_count": 7,
     "metadata": {},
     "output_type": "execute_result"
    }
   ],
   "source": [
    "hamiltonians.Kagome_Hamiltonian(iq1,iq2,**args_dict)"
   ]
  },
  {
   "cell_type": "code",
   "execution_count": 8,
   "id": "present-shakespeare",
   "metadata": {},
   "outputs": [],
   "source": [
    "# Brilliun Zone Define and Allowed Pairs\n",
    "N1 = 25\n",
    "N2 = 25\n",
    "q1_list = np.arange(0,N1) / N1 \n",
    "q2_list = np.arange(0,N2) / N2 "
   ]
  },
  {
   "cell_type": "code",
   "execution_count": 9,
   "id": "mighty-swimming",
   "metadata": {},
   "outputs": [
    {
     "data": {
      "text/plain": [
       "array([0.  , 0.04, 0.08, 0.12, 0.16, 0.2 , 0.24, 0.28, 0.32, 0.36, 0.4 ,\n",
       "       0.44, 0.48, 0.52, 0.56, 0.6 , 0.64, 0.68, 0.72, 0.76, 0.8 , 0.84,\n",
       "       0.88, 0.92, 0.96])"
      ]
     },
     "execution_count": 9,
     "metadata": {},
     "output_type": "execute_result"
    }
   ],
   "source": [
    "q2_list"
   ]
  },
  {
   "cell_type": "code",
   "execution_count": 10,
   "id": "statewide-bacon",
   "metadata": {},
   "outputs": [],
   "source": [
    "def build_U(vec1, vec2):\n",
    "    inner_product = np.dot(vec1, vec2.conj())\n",
    "    U = inner_product / np.abs(inner_product)\n",
    "    return U\n",
    "\n",
    "def latF(k_vec, Dk):\n",
    "\n",
    "    H_k = hamiltonians.Hamiltonian\n",
    "\n",
    "    E, aux = np.linalg.eig(H_k(*k_vec,**args_dict))\n",
    "    idx = E.argsort()\n",
    "    psi = aux[:,idx] # column vectors\n",
    "\n",
    "    E, aux = np.linalg.eig(H_k(k_vec[0]+Dk[0], k_vec[1], **args_dict))\n",
    "    idx = E.argsort()\n",
    "    psiDx = aux[:,idx]\n",
    "\n",
    "    E, aux = np.linalg.eig(H_k(k_vec[0], k_vec[1]+Dk[1], **args_dict))\n",
    "    idx = E.argsort()\n",
    "    psiDy = aux[:,idx]\n",
    "\n",
    "    E, aux = np.linalg.eig(H_k(k_vec[0]+Dk[0], k_vec[1]+Dk[1], **args_dict))\n",
    "    idx = E.argsort()\n",
    "    psiDxDy = aux[:,idx]\n",
    "\n",
    "    size=3\n",
    "    U1x = np.zeros(size, dtype=complex)\n",
    "    U2y = np.zeros(size, dtype=complex)\n",
    "    U1y = np.zeros(size, dtype=complex)\n",
    "    U2x = np.zeros(size, dtype=complex)\n",
    "\n",
    "    for i in range(size):\n",
    "        \n",
    "        U1x[i] = build_U(psi[:,i], psiDx[:,i])\n",
    "        \n",
    "        U2y[i] = build_U(psi[:,i], psiDy[:,i])\n",
    "        \n",
    "        U1y[i] = build_U(psiDy[:,i], psiDxDy[:,i])\n",
    "        \n",
    "        U2x[i] = build_U(psiDx[:,i], psiDxDy[:,i])\n",
    "        \n",
    "    F12 = np.zeros(size, dtype=complex)\n",
    "    F12 = np.log( U1x*U2x*1/U1y*1/U2y)\n",
    "    # column vector\n",
    "    return F12"
   ]
  },
  {
   "cell_type": "code",
   "execution_count": 11,
   "id": "exposed-venture",
   "metadata": {},
   "outputs": [
    {
     "name": "stdout",
     "output_type": "stream",
     "text": [
      "[-3.00000000e+00  1.23167118e-15  3.00000000e+00]\n"
     ]
    }
   ],
   "source": [
    "size=3\n",
    "LF = np.zeros(size, dtype=complex)\n",
    "Sum = np.zeros(size, dtype=complex)\n",
    "Chern = np.zeros(size, dtype=complex)\n",
    "Q = np.zeros([N1,N2,2])\n",
    "F21=np.zeros([N1,N2],dtype=complex) \n",
    "\n",
    "#Dx=Delta k_x, Dy=Delta k_y (N1=N2=25)\n",
    "Dx = 0.1256637061435919;Dy = 0.14510394913873714\n",
    "Dk = np.array([Dx,Dy], float)\n",
    "\n",
    "for iq1, q1 in enumerate(q1_list):\n",
    "    for iq2, q2 in enumerate(q2_list):\n",
    "        Q[iq1,iq2,:] = q1*hamiltonians.b1+q2*hamiltonians.b2\n",
    "        kx,ky=Q[iq1,iq2,:]\n",
    "        k_vec = np.array([kx,ky], float)\n",
    "        LF = latF(k_vec, Dk)\n",
    "        Sum += LF\n",
    "        F21[iq1,iq2] = LF[0]\n",
    "Chern = Sum.imag/(2*np.pi)\n",
    "print(Chern)"
   ]
  },
  {
   "cell_type": "code",
   "execution_count": 12,
   "id": "simplified-playback",
   "metadata": {},
   "outputs": [
    {
     "name": "stdout",
     "output_type": "stream",
     "text": [
      "3.0\n",
      "0.0\n",
      "-3.0\n"
     ]
    }
   ],
   "source": [
    "# Eigenvalues and Eigenenergies of Matrix\n",
    "EEA, UUA = hatsugai.get_all_eigen(hamiltonians.Kagome_Hamiltonian, q1_list, q2_list, 3, **args_dict)\n",
    "\n",
    "for bi in range(3):\n",
    "    U1, U2 = hatsugai.get_U1_U2(bi,bi,UUA)\n",
    "\n",
    "    F12 = hatsugai.get_F12(U1,U2)\n",
    "    print(np.sum(F12.imag)/(2*np.pi)/8)"
   ]
  },
  {
   "cell_type": "code",
   "execution_count": null,
   "id": "macro-brief",
   "metadata": {},
   "outputs": [],
   "source": []
  },
  {
   "cell_type": "code",
   "execution_count": null,
   "id": "representative-language",
   "metadata": {},
   "outputs": [],
   "source": []
  },
  {
   "cell_type": "code",
   "execution_count": null,
   "id": "unique-figure",
   "metadata": {},
   "outputs": [],
   "source": []
  },
  {
   "cell_type": "code",
   "execution_count": null,
   "id": "authentic-repeat",
   "metadata": {},
   "outputs": [],
   "source": []
  },
  {
   "cell_type": "code",
   "execution_count": null,
   "id": "going-orange",
   "metadata": {},
   "outputs": [],
   "source": []
  },
  {
   "cell_type": "code",
   "execution_count": null,
   "id": "mobile-connection",
   "metadata": {},
   "outputs": [],
   "source": []
  },
  {
   "cell_type": "code",
   "execution_count": null,
   "id": "quarterly-andrew",
   "metadata": {},
   "outputs": [],
   "source": []
  },
  {
   "cell_type": "code",
   "execution_count": null,
   "id": "heavy-workplace",
   "metadata": {},
   "outputs": [],
   "source": []
  },
  {
   "cell_type": "code",
   "execution_count": null,
   "id": "alone-recruitment",
   "metadata": {},
   "outputs": [],
   "source": []
  },
  {
   "cell_type": "code",
   "execution_count": null,
   "id": "brown-commonwealth",
   "metadata": {},
   "outputs": [],
   "source": []
  }
 ],
 "metadata": {
  "kernelspec": {
   "display_name": "Python 3",
   "language": "python",
   "name": "python3"
  },
  "language_info": {
   "codemirror_mode": {
    "name": "ipython",
    "version": 3
   },
   "file_extension": ".py",
   "mimetype": "text/x-python",
   "name": "python",
   "nbconvert_exporter": "python",
   "pygments_lexer": "ipython3",
   "version": "3.9.2"
  }
 },
 "nbformat": 4,
 "nbformat_minor": 5
}
