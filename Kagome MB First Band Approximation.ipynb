{
 "cells": [
  {
   "cell_type": "markdown",
   "id": "204ae232",
   "metadata": {},
   "source": [
    "LET'S RECAP:\n",
    "\n",
    "Construct SP using MB Basis -> SP Subspace -> MB Subspace"
   ]
  },
  {
   "cell_type": "code",
   "execution_count": 1,
   "id": "a965c504",
   "metadata": {},
   "outputs": [],
   "source": [
    "using PyCall,QuantumOptics,LinearAlgebra,SparseArrays"
   ]
  },
  {
   "cell_type": "markdown",
   "id": "bbb125c8",
   "metadata": {},
   "source": [
    "# SP Kagome"
   ]
  },
  {
   "cell_type": "code",
   "execution_count": 2,
   "id": "6054bcbb",
   "metadata": {},
   "outputs": [],
   "source": [
    "py\"\"\"\n",
    "\n",
    "import matplotlib.pyplot as plt\n",
    "import numpy as np\n",
    "sqrt = np.sqrt\n",
    "a1_vec = np.array([2,0]);a2_vec = np.array([1,sqrt(3)])\n",
    "l1 = 3;l2 = 2;L = l1*l2;N = 3*L \n",
    "b1=np.array([0,0]);b2=a1_vec/2;b3=a2_vec/2\n",
    "Basis = [b1,b2,b3]\n",
    "basis_colors=['red','blue','green']\n",
    "coordinates = [];sites = [];atom_dict={}\n",
    "for i1 in range(l1):\n",
    "    for i2 in range(l2):\n",
    "        Lp = a1_vec * i1 + a2_vec * i2\n",
    "        center = a1_vec * i1 + a2_vec * i2 + b1\n",
    "        shift = (-b2-b3)/sqrt(3)/2\n",
    "        P1=np.array([center+shift,center+a1_vec+shift,center+a2_vec+shift])\n",
    "        for ib, b in enumerate(Basis):\n",
    "            atom_vec = Lp + b\n",
    "            atom_no = 3 * i1 * l2 + 3 * i2 + ib\n",
    "            site = [i1,i2,ib]\n",
    "            sites.append(site)\n",
    "            coordinates.append(atom_vec)\n",
    "            atom_dict[tuple(site)]=atom_vec\n",
    "NN = [[(0,0,1), (0,0,2), (-1,0,1),(0,-1,2),   (-1,0,2), (-1,1,1), (0,-1,1),(1,-1,2)], \n",
    "      [(0,0,-1),(0,0,1), (1,0,-1),(1,-1,1),   (0,-1,1), (1,-1,-1),(0,1,-1),(1,0,1)], \n",
    "      [(0,0,-1),(0,0,-2),(0,1,-2),(-1,1,-1),  (-1,1,-2),(-1,0,-1),(0,1,-1),(1,0,-2)]\n",
    "      ]\n",
    "# t1=L1=-1;t2=L2=0\n",
    "# t1=L1=0;t2=L2=-1\n",
    "t1 = -1;L1 = 0.28;t2 = 0.3;L2 = 0.2\n",
    "# t1=t2=-1;L1=L2=0\n",
    "hopps = [[t1+1j*L1,t1-1j*L1,t1+1j*L1,t1-1j*L1,  t2+1j*L2,t2-1j*L2,t2-1j*L2,t2+1j*L2], \n",
    "         [t1-1j*L1,t1+1j*L1,t1-1j*L1,t1+1j*L1,  t2-1j*L2,t2+1j*L2,t2+1j*L2,t2-1j*L2], \n",
    "         [t1-1j*L1,t1+1j*L1,t1+1j*L1,t1-1j*L1,  t2-1j*L2,t2+1j*L2,t2+1j*L2,t2-1j*L2]] \n",
    "H = np.zeros([N,N],dtype=complex)\n",
    "for atom_no in range(N):\n",
    "    atom_site=sites[atom_no]\n",
    "    for i_delta, delta in enumerate(NN[atom_site[2]]):\n",
    "        neighbor_site = np.array(atom_site)+np.array(delta)\n",
    "        neighbor_site[0] = neighbor_site[0]%l1\n",
    "        neighbor_site[1] = neighbor_site[1]%l2    \n",
    "        neighbor_no=3*neighbor_site[0]*l2+3*neighbor_site[1]+neighbor_site[2]\n",
    "        H[neighbor_no,atom_no]=hopps[atom_site[2]][i_delta] \n",
    "\n",
    "\"\"\""
   ]
  },
  {
   "cell_type": "code",
   "execution_count": 3,
   "id": "bac214e2",
   "metadata": {},
   "outputs": [
    {
     "name": "stdout",
     "output_type": "stream",
     "text": [
      "Parameters:\n",
      "Size of Lattice=3X2\n",
      "Number of Sites=18\n",
      "Hopping Amplitudes: t1=-1,L1=0.28,t2=0.3,L2=0.2\n"
     ]
    },
    {
     "data": {
      "text/plain": [
       "18×18 PyArray{ComplexF64, 2}:\n",
       "  0.0+0.0im   -1.0-0.28im  -1.0+0.28im  …   0.3+0.2im    0.0+0.0im\n",
       " -1.0+0.28im   0.0+0.0im   -1.0-0.28im      0.0+0.0im    0.0+0.0im\n",
       " -1.0-0.28im  -1.0+0.28im   0.0+0.0im      -1.0+0.28im   0.0+0.0im\n",
       "  0.0+0.0im    0.3+0.2im   -1.0+0.28im     -1.0-0.28im   0.3-0.2im\n",
       "  0.3-0.2im    0.0+0.0im    0.3+0.2im       0.0+0.0im    0.0+0.0im\n",
       " -1.0-0.28im   0.3-0.2im    0.0+0.0im   …   0.3-0.2im    0.0+0.0im\n",
       "  0.0+0.0im   -1.0-0.28im   0.3-0.2im       0.0+0.0im    0.3-0.2im\n",
       "  0.0+0.0im    0.0+0.0im    0.0+0.0im       0.0+0.0im   -1.0-0.28im\n",
       "  0.0+0.0im    0.3-0.2im    0.0+0.0im       0.0+0.0im    0.0+0.0im\n",
       "  0.0+0.0im    0.3+0.2im    0.0+0.0im       0.0+0.0im    0.0+0.0im\n",
       "  0.0+0.0im    0.0+0.0im    0.0+0.0im   …   0.0+0.0im    0.3+0.2im\n",
       "  0.3+0.2im   -1.0+0.28im   0.0+0.0im       0.0+0.0im    0.0+0.0im\n",
       "  0.0+0.0im    0.0+0.0im    0.0+0.0im       0.3+0.2im   -1.0+0.28im\n",
       " -1.0+0.28im   0.0+0.0im    0.3+0.2im       0.0+0.0im    0.3+0.2im\n",
       "  0.3+0.2im    0.0+0.0im    0.0+0.0im       0.3-0.2im    0.0+0.0im\n",
       "  0.0+0.0im    0.0+0.0im    0.3-0.2im   …  -1.0-0.28im  -1.0+0.28im\n",
       "  0.3-0.2im    0.0+0.0im   -1.0-0.28im      0.0+0.0im   -1.0-0.28im\n",
       "  0.0+0.0im    0.0+0.0im    0.0+0.0im      -1.0+0.28im   0.0+0.0im"
      ]
     },
     "execution_count": 3,
     "metadata": {},
     "output_type": "execute_result"
    }
   ],
   "source": [
    "Nx = py\"l1\";Ny = py\"l2\";N = py\"N\";t1 = py\"t1\";L1 = py\"L1\";t2 = py\"t2\";L2 = py\"L2\"\n",
    "println(\"Parameters:\")\n",
    "println(\"Size of Lattice=\",Nx,\"X\",Ny)\n",
    "println(\"Number of Sites=\",N)\n",
    "println(\"Hopping Amplitudes: t1=\",t1,\",L1=\",L1,\",t2=\",t2,\",L2=\",L2)\n",
    "H = PyArray(py\"H\"o)"
   ]
  },
  {
   "cell_type": "code",
   "execution_count": 4,
   "id": "2331b51c",
   "metadata": {},
   "outputs": [
    {
     "data": {
      "text/plain": [
       "18-element Vector{Float64}:\n",
       " -2.7999999999999994\n",
       " -2.7715699522112027\n",
       " -2.7683070420017826\n",
       " -2.7683070420017812\n",
       " -2.757774380143503\n",
       " -2.7577743801434993\n",
       " -0.14029952547266727\n",
       " -0.14029952547266653\n",
       "  5.39137334129462e-16\n",
       "  0.3035219724976965\n",
       "  0.3035219724976971\n",
       "  1.1228718707889795\n",
       "  1.6771281292110203\n",
       "  2.454252407645805\n",
       "  2.4542524076458054\n",
       "  2.7715699522111983\n",
       "  2.9086065674744477\n",
       "  2.9086065674744486"
      ]
     },
     "execution_count": 4,
     "metadata": {},
     "output_type": "execute_result"
    }
   ],
   "source": [
    "eigvals(H)"
   ]
  },
  {
   "cell_type": "markdown",
   "id": "ba93c957",
   "metadata": {},
   "source": [
    "We're going to create again SP Hamiltonian, because we need to construct SP real-space basis in order to create SP subspace."
   ]
  },
  {
   "cell_type": "code",
   "execution_count": 71,
   "id": "72e09226",
   "metadata": {},
   "outputs": [
    {
     "data": {
      "text/plain": [
       "NLevel(N=18)"
      ]
     },
     "execution_count": 71,
     "metadata": {},
     "output_type": "execute_result"
    }
   ],
   "source": [
    "# Create N Level Basis \n",
    "Basis = NLevelBasis(N)"
   ]
  },
  {
   "cell_type": "code",
   "execution_count": 72,
   "id": "a8d3931c",
   "metadata": {},
   "outputs": [
    {
     "data": {
      "text/plain": [
       "18-element Vector{Float64}:\n",
       " -2.7999999999999976\n",
       " -2.7715699522111947\n",
       " -2.768307042001782\n",
       " -2.768307042001779\n",
       " -2.757774380143502\n",
       " -2.7577743801434926\n",
       " -0.14029952547266986\n",
       " -0.14029952547266802\n",
       " -2.220446049250313e-15\n",
       "  0.3035219724976968\n",
       "  0.3035219724976969\n",
       "  1.1228718707889784\n",
       "  1.6771281292110212\n",
       "  2.4542524076458045\n",
       "  2.454252407645806\n",
       "  2.7715699522112\n",
       "  2.9086065674744477\n",
       "  2.9086065674744486"
      ]
     },
     "execution_count": 72,
     "metadata": {},
     "output_type": "execute_result"
    }
   ],
   "source": [
    "Hamiltonian_SP = SparseOperator(Basis)\n",
    "for m in 1:N\n",
    "    for n in 1:N\n",
    "        Hamiltonian_SP = Hamiltonian_SP + H[m,n] * transition(Basis, m, n)\n",
    "    end\n",
    "end\n",
    "EigenValues_sp, EigenStates = eigenstates(dense(Hamiltonian_SP))\n",
    "EigenValues_sp"
   ]
  },
  {
   "cell_type": "code",
   "execution_count": 84,
   "id": "a845c7d5",
   "metadata": {},
   "outputs": [
    {
     "data": {
      "text/plain": [
       "1.0"
      ]
     },
     "execution_count": 84,
     "metadata": {},
     "output_type": "execute_result"
    }
   ],
   "source": [
    "eigenstates(dense(Hamiltonian_SP))[2][18]\n",
    "norm(eigenstates(dense(Hamiltonian_SP))[2][18])"
   ]
  },
  {
   "cell_type": "code",
   "execution_count": 74,
   "id": "8db18535",
   "metadata": {},
   "outputs": [
    {
     "data": {
      "text/plain": [
       "true"
      ]
     },
     "execution_count": 74,
     "metadata": {},
     "output_type": "execute_result"
    }
   ],
   "source": [
    "dagger(Hamiltonian_SP) == Hamiltonian_SP"
   ]
  },
  {
   "cell_type": "markdown",
   "id": "11d05490",
   "metadata": {},
   "source": [
    "###### PROBLEM:"
   ]
  },
  {
   "cell_type": "code",
   "execution_count": 75,
   "id": "cd2fe9d6",
   "metadata": {},
   "outputs": [],
   "source": [
    "# # BASIC EXAMPLE \n",
    "# AA = [2 1+im 9+2*im 0; 1-im 5 4+6*im 3-2*im; 9-2*im 4-6*im 10 1+7*im; 0 3+2*im 1-7*im 4]\n",
    "# A = SparseOperator(NLevelBasis(4)) #Hermition basic operator\n",
    "# for m in 1:4\n",
    "#     for n in 1:4\n",
    "#         A = A + AA[m,n]*transition(NLevelBasis(4), m, n)\n",
    "#     end\n",
    "# end\n",
    "# SSB = SubspaceBasis( Ket[ eigenstates(dense(A))[2][1],eigenstates(dense(A))[2][2] ] )\n",
    "# # projector (SubspaceBasis, SuperBasis)\n",
    "# PP = projector(SSB, NLevelBasis(4))\n",
    "# PPt = dagger(PP)\n",
    "\n",
    "# A_SS = PP*A*PPt\n",
    "# dagger(A_SS) == A_SS # BÜYÜK PROBLEM! HERMITSEL DEĞİL!\n",
    "\n",
    "# # for m in 1:2\n",
    "# #      for n in 1:2\n",
    "# #          A_SS = A_SS + A_SS.data[m,n] * PP*transition(NLevelBasis(4), m, n)*PPt\n",
    "# #      end\n",
    "# # end"
   ]
  },
  {
   "cell_type": "markdown",
   "id": "e8fb0bac",
   "metadata": {},
   "source": [
    "# MB Subspace Kagome (Includes 2 Method)"
   ]
  },
  {
   "cell_type": "code",
   "execution_count": 85,
   "id": "d005c665",
   "metadata": {},
   "outputs": [
    {
     "name": "stdout",
     "output_type": "stream",
     "text": [
      "dim(subspace): 5\n",
      "size(H_sub): (5, 5)\n"
     ]
    },
    {
     "data": {
      "text/plain": [
       "ManyBody(onebodybasis=Subspace(superbasis=NLevel(N=18), states:5), states:10)"
      ]
     },
     "execution_count": 85,
     "metadata": {},
     "output_type": "execute_result"
    }
   ],
   "source": [
    "# Common things\n",
    "\n",
    "states0 = eigenstates(dense(Hamiltonian_SP))[2]\n",
    "Ncut=5\n",
    "# SP lowest band subspace\n",
    "# SubspaceBasis( SP Basis, Restricted States)\n",
    "b_sub = SubspaceBasis(Basis, states0[1:Ncut])\n",
    "println(\"dim(subspace): \", length(b_sub))\n",
    "\n",
    "# Projector operator\n",
    "# projector( Subspace Basis, SP Basis )\n",
    "P = projector(b_sub, Basis)\n",
    "Pt = dagger(P)\n",
    "\n",
    "# New SP Subspace Operator\n",
    "H_sub = P*Hamiltonian_SP*Pt \n",
    "println(\"size(H_sub): \",size(H_sub))\n",
    "\n",
    "# Subspace MB\n",
    "Nparticles = 3\n",
    "states = fermionstates(b_sub, Nparticles)\n",
    "b_mb = ManyBodyBasis(b_sub, states)"
   ]
  },
  {
   "cell_type": "code",
   "execution_count": 93,
   "id": "751343c4",
   "metadata": {},
   "outputs": [
    {
     "data": {
      "text/plain": [
       "false"
      ]
     },
     "execution_count": 93,
     "metadata": {},
     "output_type": "execute_result"
    }
   ],
   "source": [
    "# METHOD 1\n",
    "\n",
    "H_MB = manybodyoperator(b_mb, H_sub)\n",
    "dagger(H_MB) == H_MB"
   ]
  },
  {
   "cell_type": "code",
   "execution_count": 98,
   "id": "c07628d7",
   "metadata": {},
   "outputs": [
    {
     "ename": "LoadError",
     "evalue": "BoundsError: attempt to access 5×5 Matrix{ComplexF64} at index [1, 6]",
     "output_type": "error",
     "traceback": [
      "BoundsError: attempt to access 5×5 Matrix{ComplexF64} at index [1, 6]",
      "",
      "Stacktrace:",
      " [1] getindex(::Matrix{ComplexF64}, ::Int64, ::Int64)",
      "   @ Base .\\array.jl:862",
      " [2] top-level scope",
      "   @ .\\In[98]:11",
      " [3] eval",
      "   @ .\\boot.jl:373 [inlined]",
      " [4] include_string(mapexpr::typeof(REPL.softscope), mod::Module, code::String, filename::String)",
      "   @ Base .\\loading.jl:1196"
     ]
    }
   ],
   "source": [
    "# METHOD 2\n",
    "\n",
    "# Construct subspace MB Hamiltonian using SP by using METHOD #1 (MANUEL CONTSRUCT)\n",
    "Hamiltonian_MB = SparseOperator(b_mb)\n",
    "# New states\n",
    "for m in 1:5\n",
    "    for n in 1:5\n",
    "        # New MB transition operator\n",
    "        T_sub = P*transition(Basis, m, n)*Pt\n",
    "        T_mb_sub = manybodyoperator(b_mb,T_sub)\n",
    "        Hamiltonian_MB = Hamiltonian_MB + H_sub.data[m,n] * T_mb_sub\n",
    "    end\n",
    "end\n",
    "dagger(Hamiltonian_MB) == Hamiltonian_MB\n",
    "Hamiltonian_MB == H_MB"
   ]
  },
  {
   "cell_type": "code",
   "execution_count": 95,
   "id": "e3bde9f3",
   "metadata": {},
   "outputs": [
    {
     "data": {
      "text/plain": [
       "false"
      ]
     },
     "execution_count": 95,
     "metadata": {},
     "output_type": "execute_result"
    }
   ],
   "source": [
    "# Theese two method are different each other\n",
    "\n",
    "H_MB == Hamiltonian_MB"
   ]
  }
 ],
 "metadata": {
  "kernelspec": {
   "display_name": "Julia 1.7.2",
   "language": "julia",
   "name": "julia-1.7"
  },
  "language_info": {
   "file_extension": ".jl",
   "mimetype": "application/julia",
   "name": "julia",
   "version": "1.7.2"
  }
 },
 "nbformat": 4,
 "nbformat_minor": 5
}
